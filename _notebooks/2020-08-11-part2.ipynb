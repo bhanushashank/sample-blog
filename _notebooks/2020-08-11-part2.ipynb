{
 "cells": [
  {
   "cell_type": "markdown",
   "id": "98380cd3",
   "metadata": {
    "papermill": {
     "duration": 0.025187,
     "end_time": "2022-10-20T00:48:03.855160",
     "exception": false,
     "start_time": "2022-10-20T00:48:03.829973",
     "status": "completed"
    },
    "tags": []
   },
   "source": [
    "# Distinguish Your Own Digits (DYOD)"
   ]
  },
  {
   "cell_type": "markdown",
   "id": "ef31240d",
   "metadata": {
    "papermill": {
     "duration": 0.036181,
     "end_time": "2022-10-20T00:48:03.912948",
     "exception": false,
     "start_time": "2022-10-20T00:48:03.876767",
     "status": "completed"
    },
    "tags": []
   },
   "source": [
    "You are going to write a classifier that distinguishes between the number 3 and number 8."
   ]
  },
  {
   "cell_type": "code",
   "execution_count": 1,
   "id": "b15c8646",
   "metadata": {
    "execution": {
     "iopub.execute_input": "2022-10-20T00:48:03.988091Z",
     "iopub.status.busy": "2022-10-20T00:48:03.987489Z",
     "iopub.status.idle": "2022-10-20T00:48:03.996601Z",
     "shell.execute_reply": "2022-10-20T00:48:03.996204Z"
    },
    "papermill": {
     "duration": 0.062204,
     "end_time": "2022-10-20T00:48:03.996706",
     "exception": false,
     "start_time": "2022-10-20T00:48:03.934502",
     "status": "completed"
    },
    "tags": []
   },
   "outputs": [],
   "source": [
    "%load_ext autoreload\n",
    "%autoreload 2"
   ]
  },
  {
   "cell_type": "code",
   "execution_count": 2,
   "id": "22ef38dc",
   "metadata": {
    "execution": {
     "iopub.execute_input": "2022-10-20T00:48:04.077608Z",
     "iopub.status.busy": "2022-10-20T00:48:04.076906Z",
     "iopub.status.idle": "2022-10-20T00:48:04.503557Z",
     "shell.execute_reply": "2022-10-20T00:48:04.503078Z"
    },
    "papermill": {
     "duration": 0.476229,
     "end_time": "2022-10-20T00:48:04.503640",
     "exception": false,
     "start_time": "2022-10-20T00:48:04.027411",
     "status": "completed"
    },
    "tags": []
   },
   "outputs": [],
   "source": [
    "%matplotlib inline\n",
    "import numpy as np\n",
    "import matplotlib.pyplot as plt\n",
    "import pandas as pd"
   ]
  },
  {
   "cell_type": "markdown",
   "id": "ba036198",
   "metadata": {
    "papermill": {
     "duration": 0.028818,
     "end_time": "2022-10-20T00:48:04.559092",
     "exception": false,
     "start_time": "2022-10-20T00:48:04.530274",
     "status": "completed"
    },
    "tags": []
   },
   "source": [
    "From the command line run `pip install mnist`. This is a library that will help you bring down the mnist dataset. If you run this from a notebook, you need to put  `!pip install mnist` in a cell by itself."
   ]
  },
  {
   "cell_type": "code",
   "execution_count": 3,
   "id": "bb6ad8a1",
   "metadata": {
    "execution": {
     "iopub.execute_input": "2022-10-20T00:48:04.596929Z",
     "iopub.status.busy": "2022-10-20T00:48:04.596241Z",
     "iopub.status.idle": "2022-10-20T00:48:05.868571Z",
     "shell.execute_reply": "2022-10-20T00:48:05.868120Z"
    },
    "papermill": {
     "duration": 1.292445,
     "end_time": "2022-10-20T00:48:05.868654",
     "exception": false,
     "start_time": "2022-10-20T00:48:04.576209",
     "status": "completed"
    },
    "tags": []
   },
   "outputs": [
    {
     "name": "stdout",
     "output_type": "stream",
     "text": [
      "Collecting mnist\r\n"
     ]
    },
    {
     "name": "stdout",
     "output_type": "stream",
     "text": [
      "  Downloading mnist-0.2.2-py2.py3-none-any.whl (3.5 kB)\r\n",
      "Requirement already satisfied: numpy in /opt/hostedtoolcache/Python/3.6.15/x64/lib/python3.6/site-packages (from mnist) (1.19.5)\r\n"
     ]
    },
    {
     "name": "stdout",
     "output_type": "stream",
     "text": [
      "Installing collected packages: mnist\r\n",
      "Successfully installed mnist-0.2.2\r\n"
     ]
    }
   ],
   "source": [
    "!pip install mnist"
   ]
  },
  {
   "cell_type": "markdown",
   "id": "69df9c9a",
   "metadata": {
    "papermill": {
     "duration": 0.017862,
     "end_time": "2022-10-20T00:48:05.904503",
     "exception": false,
     "start_time": "2022-10-20T00:48:05.886641",
     "status": "completed"
    },
    "tags": []
   },
   "source": [
    "## Preparing the Data"
   ]
  },
  {
   "cell_type": "code",
   "execution_count": 4,
   "id": "7f69d806",
   "metadata": {
    "execution": {
     "iopub.execute_input": "2022-10-20T00:48:05.944411Z",
     "iopub.status.busy": "2022-10-20T00:48:05.942344Z",
     "iopub.status.idle": "2022-10-20T00:48:05.953824Z",
     "shell.execute_reply": "2022-10-20T00:48:05.953377Z"
    },
    "papermill": {
     "duration": 0.031626,
     "end_time": "2022-10-20T00:48:05.953909",
     "exception": false,
     "start_time": "2022-10-20T00:48:05.922283",
     "status": "completed"
    },
    "tags": []
   },
   "outputs": [],
   "source": [
    "import mnist"
   ]
  },
  {
   "cell_type": "code",
   "execution_count": 5,
   "id": "a411e44f",
   "metadata": {
    "execution": {
     "iopub.execute_input": "2022-10-20T00:48:05.994417Z",
     "iopub.status.busy": "2022-10-20T00:48:05.993747Z",
     "iopub.status.idle": "2022-10-20T00:48:06.536560Z",
     "shell.execute_reply": "2022-10-20T00:48:06.536169Z"
    },
    "papermill": {
     "duration": 0.564502,
     "end_time": "2022-10-20T00:48:06.536642",
     "exception": false,
     "start_time": "2022-10-20T00:48:05.972140",
     "status": "completed"
    },
    "tags": []
   },
   "outputs": [],
   "source": [
    "train_images = mnist.train_images()\n",
    "train_labels = mnist.train_labels()"
   ]
  },
  {
   "cell_type": "code",
   "execution_count": 6,
   "id": "dceab3a5",
   "metadata": {
    "execution": {
     "iopub.execute_input": "2022-10-20T00:48:06.575916Z",
     "iopub.status.busy": "2022-10-20T00:48:06.575242Z",
     "iopub.status.idle": "2022-10-20T00:48:06.586050Z",
     "shell.execute_reply": "2022-10-20T00:48:06.585653Z"
    },
    "papermill": {
     "duration": 0.031375,
     "end_time": "2022-10-20T00:48:06.586121",
     "exception": false,
     "start_time": "2022-10-20T00:48:06.554746",
     "status": "completed"
    },
    "tags": []
   },
   "outputs": [
    {
     "data": {
      "text/plain": [
       "((60000, 28, 28), (60000,))"
      ]
     },
     "execution_count": 6,
     "metadata": {},
     "output_type": "execute_result"
    }
   ],
   "source": [
    "train_images.shape, train_labels.shape"
   ]
  },
  {
   "cell_type": "code",
   "execution_count": 7,
   "id": "f50dc2bb",
   "metadata": {
    "execution": {
     "iopub.execute_input": "2022-10-20T00:48:06.624783Z",
     "iopub.status.busy": "2022-10-20T00:48:06.624287Z",
     "iopub.status.idle": "2022-10-20T00:48:06.843562Z",
     "shell.execute_reply": "2022-10-20T00:48:06.843120Z"
    },
    "papermill": {
     "duration": 0.239619,
     "end_time": "2022-10-20T00:48:06.843642",
     "exception": false,
     "start_time": "2022-10-20T00:48:06.604023",
     "status": "completed"
    },
    "tags": []
   },
   "outputs": [],
   "source": [
    "test_images = mnist.test_images()\n",
    "test_labels = mnist.test_labels()"
   ]
  },
  {
   "cell_type": "code",
   "execution_count": 8,
   "id": "fc38cf1b",
   "metadata": {
    "execution": {
     "iopub.execute_input": "2022-10-20T00:48:06.882678Z",
     "iopub.status.busy": "2022-10-20T00:48:06.882193Z",
     "iopub.status.idle": "2022-10-20T00:48:06.891439Z",
     "shell.execute_reply": "2022-10-20T00:48:06.891760Z"
    },
    "papermill": {
     "duration": 0.029948,
     "end_time": "2022-10-20T00:48:06.891839",
     "exception": false,
     "start_time": "2022-10-20T00:48:06.861891",
     "status": "completed"
    },
    "tags": []
   },
   "outputs": [
    {
     "data": {
      "text/plain": [
       "((10000, 28, 28), (10000,))"
      ]
     },
     "execution_count": 8,
     "metadata": {},
     "output_type": "execute_result"
    }
   ],
   "source": [
    "test_images.shape, test_labels.shape"
   ]
  },
  {
   "cell_type": "code",
   "execution_count": 9,
   "id": "f9ed8fe0",
   "metadata": {
    "execution": {
     "iopub.execute_input": "2022-10-20T00:48:06.931377Z",
     "iopub.status.busy": "2022-10-20T00:48:06.930712Z",
     "iopub.status.idle": "2022-10-20T00:48:07.027111Z",
     "shell.execute_reply": "2022-10-20T00:48:07.026711Z"
    },
    "papermill": {
     "duration": 0.117224,
     "end_time": "2022-10-20T00:48:07.027183",
     "exception": false,
     "start_time": "2022-10-20T00:48:06.909959",
     "status": "completed"
    },
    "tags": []
   },
   "outputs": [
    {
     "name": "stdout",
     "output_type": "stream",
     "text": [
      "2\n"
     ]
    },
    {
     "data": {
      "text/plain": [
       "<matplotlib.image.AxesImage at 0x7f110d042cf8>"
      ]
     },
     "execution_count": 9,
     "metadata": {},
     "output_type": "execute_result"
    },
    {
     "data": {
      "image/png": "[encoded data removed]",
      "text/plain": [
       "<Figure size 432x288 with 1 Axes>"
      ]
     },
     "metadata": {
      "needs_background": "light"
     },
     "output_type": "display_data"
    }
   ],
   "source": [
    "image_index = 7776 # You may select anything up to 60,000\n",
    "print(train_labels[image_index]) \n",
    "plt.imshow(train_images[image_index], cmap='Greys')"
   ]
  },
  {
   "cell_type": "markdown",
   "id": "a8d2388d",
   "metadata": {
    "papermill": {
     "duration": 0.019033,
     "end_time": "2022-10-20T00:48:07.065481",
     "exception": false,
     "start_time": "2022-10-20T00:48:07.046448",
     "status": "completed"
    },
    "tags": []
   },
   "source": [
    "## Filter data to get 3 and 8 out"
   ]
  },
  {
   "cell_type": "code",
   "execution_count": 10,
   "id": "776f7fc7",
   "metadata": {
    "execution": {
     "iopub.execute_input": "2022-10-20T00:48:07.107231Z",
     "iopub.status.busy": "2022-10-20T00:48:07.106781Z",
     "iopub.status.idle": "2022-10-20T00:48:07.119786Z",
     "shell.execute_reply": "2022-10-20T00:48:07.119459Z"
    },
    "papermill": {
     "duration": 0.035301,
     "end_time": "2022-10-20T00:48:07.119858",
     "exception": false,
     "start_time": "2022-10-20T00:48:07.084557",
     "status": "completed"
    },
    "tags": []
   },
   "outputs": [],
   "source": [
    "train_filter = np.where((train_labels == 3 ) | (train_labels == 8))\n",
    "test_filter = np.where((test_labels == 3) | (test_labels == 8))\n",
    "X_train, y_train = train_images[train_filter], train_labels[train_filter]\n",
    "X_test, y_test = test_images[test_filter], test_labels[test_filter]"
   ]
  },
  {
   "cell_type": "markdown",
   "id": "948f0b7e",
   "metadata": {
    "papermill": {
     "duration": 0.018851,
     "end_time": "2022-10-20T00:48:07.157667",
     "exception": false,
     "start_time": "2022-10-20T00:48:07.138816",
     "status": "completed"
    },
    "tags": []
   },
   "source": [
    "We normalize the pizel values in the 0 to 1 range"
   ]
  },
  {
   "cell_type": "code",
   "execution_count": 11,
   "id": "ee4c2166",
   "metadata": {
    "execution": {
     "iopub.execute_input": "2022-10-20T00:48:07.198229Z",
     "iopub.status.busy": "2022-10-20T00:48:07.197831Z",
     "iopub.status.idle": "2022-10-20T00:48:07.230076Z",
     "shell.execute_reply": "2022-10-20T00:48:07.229708Z"
    },
    "papermill": {
     "duration": 0.053518,
     "end_time": "2022-10-20T00:48:07.230156",
     "exception": false,
     "start_time": "2022-10-20T00:48:07.176638",
     "status": "completed"
    },
    "tags": []
   },
   "outputs": [],
   "source": [
    "X_train = X_train/255.\n",
    "X_test = X_test/255."
   ]
  },
  {
   "cell_type": "markdown",
   "id": "ddcf4fab",
   "metadata": {
    "papermill": {
     "duration": 0.018961,
     "end_time": "2022-10-20T00:48:07.268196",
     "exception": false,
     "start_time": "2022-10-20T00:48:07.249235",
     "status": "completed"
    },
    "tags": []
   },
   "source": [
    "And setup the labels as 1 (when the digit is 3) and 0 (when the digit is 8)"
   ]
  },
  {
   "cell_type": "code",
   "execution_count": 12,
   "id": "7dc908f2",
   "metadata": {
    "execution": {
     "iopub.execute_input": "2022-10-20T00:48:07.310706Z",
     "iopub.status.busy": "2022-10-20T00:48:07.310182Z",
     "iopub.status.idle": "2022-10-20T00:48:07.318785Z",
     "shell.execute_reply": "2022-10-20T00:48:07.318312Z"
    },
    "papermill": {
     "duration": 0.031685,
     "end_time": "2022-10-20T00:48:07.318868",
     "exception": false,
     "start_time": "2022-10-20T00:48:07.287183",
     "status": "completed"
    },
    "tags": []
   },
   "outputs": [],
   "source": [
    "y_train = 1*(y_train==3)\n",
    "y_test = 1*(y_test==3)"
   ]
  },
  {
   "cell_type": "code",
   "execution_count": 13,
   "id": "01e4e969",
   "metadata": {
    "execution": {
     "iopub.execute_input": "2022-10-20T00:48:07.360784Z",
     "iopub.status.busy": "2022-10-20T00:48:07.359379Z",
     "iopub.status.idle": "2022-10-20T00:48:07.369454Z",
     "shell.execute_reply": "2022-10-20T00:48:07.369080Z"
    },
    "papermill": {
     "duration": 0.031671,
     "end_time": "2022-10-20T00:48:07.369521",
     "exception": false,
     "start_time": "2022-10-20T00:48:07.337850",
     "status": "completed"
    },
    "tags": []
   },
   "outputs": [
    {
     "data": {
      "text/plain": [
       "((11982, 28, 28), (1984, 28, 28))"
      ]
     },
     "execution_count": 13,
     "metadata": {},
     "output_type": "execute_result"
    }
   ],
   "source": [
    "X_train.shape, X_test.shape"
   ]
  },
  {
   "cell_type": "markdown",
   "id": "5ccf3f85",
   "metadata": {
    "papermill": {
     "duration": 0.019097,
     "end_time": "2022-10-20T00:48:07.407735",
     "exception": false,
     "start_time": "2022-10-20T00:48:07.388638",
     "status": "completed"
    },
    "tags": []
   },
   "source": [
    "We reshape the data to flatten the image pixels into a set of features or co-variates:"
   ]
  },
  {
   "cell_type": "code",
   "execution_count": 14,
   "id": "5286a4a3",
   "metadata": {
    "execution": {
     "iopub.execute_input": "2022-10-20T00:48:07.449357Z",
     "iopub.status.busy": "2022-10-20T00:48:07.448873Z",
     "iopub.status.idle": "2022-10-20T00:48:07.458393Z",
     "shell.execute_reply": "2022-10-20T00:48:07.458071Z"
    },
    "papermill": {
     "duration": 0.031581,
     "end_time": "2022-10-20T00:48:07.458460",
     "exception": false,
     "start_time": "2022-10-20T00:48:07.426879",
     "status": "completed"
    },
    "tags": []
   },
   "outputs": [
    {
     "data": {
      "text/plain": [
       "((11982, 784), (1984, 784))"
      ]
     },
     "execution_count": 14,
     "metadata": {},
     "output_type": "execute_result"
    }
   ],
   "source": [
    "X_train = X_train.reshape(X_train.shape[0], -1)\n",
    "X_test = X_test.reshape(X_test.shape[0], -1)\n",
    "X_train.shape, X_test.shape"
   ]
  },
  {
   "cell_type": "code",
   "execution_count": 15,
   "id": "73c5f88a",
   "metadata": {
    "execution": {
     "iopub.execute_input": "2022-10-20T00:48:07.500026Z",
     "iopub.status.busy": "2022-10-20T00:48:07.499592Z",
     "iopub.status.idle": "2022-10-20T00:48:07.512067Z",
     "shell.execute_reply": "2022-10-20T00:48:07.511668Z"
    },
    "papermill": {
     "duration": 0.034513,
     "end_time": "2022-10-20T00:48:07.512134",
     "exception": false,
     "start_time": "2022-10-20T00:48:07.477621",
     "status": "completed"
    },
    "tags": []
   },
   "outputs": [],
   "source": [
    "#Impoting functions from 'Kudzu'\n",
    "from kudzu.model import Model\n",
    "from kudzu.train import Learner\n",
    "from kudzu.optim import GD\n",
    "from kudzu.data import Data, Sampler,Dataloader\n",
    "\n",
    "from kudzu.callbacks import AccCallback\n",
    "from kudzu.callbacks import ClfCallback\n",
    "\n",
    "from kudzu.loss import MSE\n",
    "\n",
    "from kudzu.layer import Sigmoid,Relu\n",
    "from kudzu.layer import Affine"
   ]
  },
  {
   "cell_type": "markdown",
   "id": "bc01172a",
   "metadata": {
    "papermill": {
     "duration": 0.019234,
     "end_time": "2022-10-20T00:48:07.550608",
     "exception": false,
     "start_time": "2022-10-20T00:48:07.531374",
     "status": "completed"
    },
    "tags": []
   },
   "source": [
    "### Let us create a `Config` class, to store important parameters. \n",
    "This class essentially plays the role of a dictionary."
   ]
  },
  {
   "cell_type": "code",
   "execution_count": 16,
   "id": "978281aa",
   "metadata": {
    "execution": {
     "iopub.execute_input": "2022-10-20T00:48:07.593356Z",
     "iopub.status.busy": "2022-10-20T00:48:07.592156Z",
     "iopub.status.idle": "2022-10-20T00:48:07.602084Z",
     "shell.execute_reply": "2022-10-20T00:48:07.601616Z"
    },
    "papermill": {
     "duration": 0.032418,
     "end_time": "2022-10-20T00:48:07.602163",
     "exception": false,
     "start_time": "2022-10-20T00:48:07.569745",
     "status": "completed"
    },
    "tags": []
   },
   "outputs": [],
   "source": [
    "class Config:\n",
    "    pass\n",
    "config = Config()\n",
    "config.lr = 0.001\n",
    "config.num_epochs = 250\n",
    "config.bs = 50"
   ]
  },
  {
   "cell_type": "markdown",
   "id": "1385fa59",
   "metadata": {
    "papermill": {
     "duration": 0.019225,
     "end_time": "2022-10-20T00:48:07.640731",
     "exception": false,
     "start_time": "2022-10-20T00:48:07.621506",
     "status": "completed"
    },
    "tags": []
   },
   "source": [
    "### Running Models with the Training data\n",
    "Details about the network layers:\n",
    "- A first affine layer has 784 inputs and does 100 affine transforms. These are followed by a Relu\n",
    "- A second affine layer has 100 inputs from the 100 activations of the past layer, and does 100 affine transforms. These are followed by a Relu\n",
    "- A third affine layer has 100 activations and does 2 affine transformations to create an embedding for visualization. There is no non-linearity here.\n",
    "- A final \"logistic regression\" which has an affine transform from 2 inputs to 1 output, which is squeezed through a sigmoid.\n"
   ]
  },
  {
   "cell_type": "code",
   "execution_count": 17,
   "id": "2b9c66db",
   "metadata": {
    "execution": {
     "iopub.execute_input": "2022-10-20T00:48:07.682517Z",
     "iopub.status.busy": "2022-10-20T00:48:07.682112Z",
     "iopub.status.idle": "2022-10-20T00:48:07.690915Z",
     "shell.execute_reply": "2022-10-20T00:48:07.690574Z"
    },
    "papermill": {
     "duration": 0.030871,
     "end_time": "2022-10-20T00:48:07.690982",
     "exception": false,
     "start_time": "2022-10-20T00:48:07.660111",
     "status": "completed"
    },
    "tags": []
   },
   "outputs": [],
   "source": [
    "data = Data(X_train, y_train.reshape(-1,1))\n",
    "sampler = Sampler(data, config.bs, shuffle=True)\n",
    "\n",
    "dl = Dataloader(data, sampler)\n",
    "\n",
    "opt = GD(config.lr)\n",
    "loss = MSE()"
   ]
  },
  {
   "cell_type": "code",
   "execution_count": 18,
   "id": "b275e4c2",
   "metadata": {
    "execution": {
     "iopub.execute_input": "2022-10-20T00:48:07.732161Z",
     "iopub.status.busy": "2022-10-20T00:48:07.731620Z",
     "iopub.status.idle": "2022-10-20T00:48:07.740122Z",
     "shell.execute_reply": "2022-10-20T00:48:07.739766Z"
    },
    "papermill": {
     "duration": 0.030064,
     "end_time": "2022-10-20T00:48:07.740192",
     "exception": false,
     "start_time": "2022-10-20T00:48:07.710128",
     "status": "completed"
    },
    "tags": []
   },
   "outputs": [],
   "source": [
    "training_data_x = X_train\n",
    "testing_data_x = X_test\n",
    "training_data_y = y_train.reshape(-1,1)\n",
    "testing_data_y = y_test.reshape(-1,1)"
   ]
  },
  {
   "cell_type": "code",
   "execution_count": 19,
   "id": "76951160",
   "metadata": {
    "execution": {
     "iopub.execute_input": "2022-10-20T00:48:07.782081Z",
     "iopub.status.busy": "2022-10-20T00:48:07.781591Z",
     "iopub.status.idle": "2022-10-20T00:48:07.792791Z",
     "shell.execute_reply": "2022-10-20T00:48:07.792449Z"
    },
    "papermill": {
     "duration": 0.033527,
     "end_time": "2022-10-20T00:48:07.792855",
     "exception": false,
     "start_time": "2022-10-20T00:48:07.759328",
     "status": "completed"
    },
    "tags": []
   },
   "outputs": [
    {
     "name": "stdout",
     "output_type": "stream",
     "text": [
      "xavier\n",
      "xavier\n",
      "xavier\n",
      "xavier\n",
      "xavier\n"
     ]
    }
   ],
   "source": [
    "layers = [Affine(\"first\", 784, 100), Relu(\"first\"), Affine(\"second\", 100, 100), Relu(\"second\"), Affine(\"third\", 100, 2), Affine(\"last\", 2, 1), Sigmoid(\"last\")]\n",
    "model_nn = Model(layers)\n",
    "model_lr = Model([Affine(\"logits\", 784, 1), Sigmoid(\"sigmoid\")])"
   ]
  },
  {
   "cell_type": "code",
   "execution_count": 20,
   "id": "6eede77a",
   "metadata": {
    "execution": {
     "iopub.execute_input": "2022-10-20T00:48:07.834786Z",
     "iopub.status.busy": "2022-10-20T00:48:07.834395Z",
     "iopub.status.idle": "2022-10-20T00:48:07.842421Z",
     "shell.execute_reply": "2022-10-20T00:48:07.842723Z"
    },
    "papermill": {
     "duration": 0.030317,
     "end_time": "2022-10-20T00:48:07.842798",
     "exception": false,
     "start_time": "2022-10-20T00:48:07.812481",
     "status": "completed"
    },
    "tags": []
   },
   "outputs": [],
   "source": [
    "nn_learner = Learner(loss, model_nn, opt, config.num_epochs)\n",
    "acc_nn = ClfCallback(nn_learner, config.bs, training_data_x , testing_data_x, training_data_y, testing_data_y)\n",
    "nn_learner.set_callbacks([acc_nn])"
   ]
  },
  {
   "cell_type": "code",
   "execution_count": 21,
   "id": "877b6cc7",
   "metadata": {
    "execution": {
     "iopub.execute_input": "2022-10-20T00:48:07.884516Z",
     "iopub.status.busy": "2022-10-20T00:48:07.884112Z",
     "iopub.status.idle": "2022-10-20T00:48:07.891795Z",
     "shell.execute_reply": "2022-10-20T00:48:07.891392Z"
    },
    "papermill": {
     "duration": 0.029671,
     "end_time": "2022-10-20T00:48:07.891860",
     "exception": false,
     "start_time": "2022-10-20T00:48:07.862189",
     "status": "completed"
    },
    "tags": []
   },
   "outputs": [],
   "source": [
    "lr_learner = Learner(loss, model_lr, opt, config.num_epochs)\n",
    "acc_lr = ClfCallback(lr_learner, config.bs, training_data_x , testing_data_x, training_data_y, testing_data_y)\n",
    "lr_learner.set_callbacks([acc_lr])"
   ]
  },
  {
   "cell_type": "code",
   "execution_count": 22,
   "id": "d9b133c3",
   "metadata": {
    "execution": {
     "iopub.execute_input": "2022-10-20T00:48:07.933756Z",
     "iopub.status.busy": "2022-10-20T00:48:07.933071Z",
     "iopub.status.idle": "2022-10-20T00:50:28.185725Z",
     "shell.execute_reply": "2022-10-20T00:50:28.186372Z"
    },
    "papermill": {
     "duration": 140.275118,
     "end_time": "2022-10-20T00:50:28.186502",
     "exception": false,
     "start_time": "2022-10-20T00:48:07.911384",
     "status": "completed"
    },
    "tags": []
   },
   "outputs": [
    {
     "name": "stdout",
     "output_type": "stream",
     "text": [
      "Epoch 0, Loss 0.2458\n",
      "Training Accuracy: 0.6361, Testing Accuracy: 0.6154\n",
      "\n"
     ]
    },
    {
     "name": "stdout",
     "output_type": "stream",
     "text": [
      "Epoch 10, Loss 0.1231\n",
      "Training Accuracy: 0.9069, Testing Accuracy: 0.9269\n",
      "\n"
     ]
    },
    {
     "name": "stdout",
     "output_type": "stream",
     "text": [
      "Epoch 20, Loss 0.0669\n",
      "Training Accuracy: 0.9321, Testing Accuracy: 0.9481\n",
      "\n"
     ]
    },
    {
     "name": "stdout",
     "output_type": "stream",
     "text": [
      "Epoch 30, Loss 0.0499\n",
      "Training Accuracy: 0.9443, Testing Accuracy: 0.9572\n",
      "\n"
     ]
    },
    {
     "name": "stdout",
     "output_type": "stream",
     "text": [
      "Epoch 40, Loss 0.042\n",
      "Training Accuracy: 0.9526, Testing Accuracy: 0.9612\n",
      "\n"
     ]
    },
    {
     "name": "stdout",
     "output_type": "stream",
     "text": [
      "Epoch 50, Loss 0.0374\n",
      "Training Accuracy: 0.9568, Testing Accuracy: 0.9632\n",
      "\n"
     ]
    },
    {
     "name": "stdout",
     "output_type": "stream",
     "text": [
      "Epoch 60, Loss 0.0343\n",
      "Training Accuracy: 0.9607, Testing Accuracy: 0.9652\n",
      "\n"
     ]
    },
    {
     "name": "stdout",
     "output_type": "stream",
     "text": [
      "Epoch 70, Loss 0.0321\n",
      "Training Accuracy: 0.9626, Testing Accuracy: 0.9672\n",
      "\n"
     ]
    },
    {
     "name": "stdout",
     "output_type": "stream",
     "text": [
      "Epoch 80, Loss 0.0304\n",
      "Training Accuracy: 0.9645, Testing Accuracy: 0.9682\n",
      "\n"
     ]
    },
    {
     "name": "stdout",
     "output_type": "stream",
     "text": [
      "Epoch 90, Loss 0.0291\n",
      "Training Accuracy: 0.9665, Testing Accuracy: 0.9688\n",
      "\n"
     ]
    },
    {
     "name": "stdout",
     "output_type": "stream",
     "text": [
      "Epoch 100, Loss 0.028\n",
      "Training Accuracy: 0.9676, Testing Accuracy: 0.9688\n",
      "\n"
     ]
    },
    {
     "name": "stdout",
     "output_type": "stream",
     "text": [
      "Epoch 110, Loss 0.027\n",
      "Training Accuracy: 0.9688, Testing Accuracy: 0.9698\n",
      "\n"
     ]
    },
    {
     "name": "stdout",
     "output_type": "stream",
     "text": [
      "Epoch 120, Loss 0.0263\n",
      "Training Accuracy: 0.9695, Testing Accuracy: 0.9693\n",
      "\n"
     ]
    },
    {
     "name": "stdout",
     "output_type": "stream",
     "text": [
      "Epoch 130, Loss 0.0255\n",
      "Training Accuracy: 0.9706, Testing Accuracy: 0.9698\n",
      "\n"
     ]
    },
    {
     "name": "stdout",
     "output_type": "stream",
     "text": [
      "Epoch 140, Loss 0.0249\n",
      "Training Accuracy: 0.9715, Testing Accuracy: 0.9703\n",
      "\n"
     ]
    },
    {
     "name": "stdout",
     "output_type": "stream",
     "text": [
      "Epoch 150, Loss 0.0244\n",
      "Training Accuracy: 0.9724, Testing Accuracy: 0.9698\n",
      "\n"
     ]
    },
    {
     "name": "stdout",
     "output_type": "stream",
     "text": [
      "Epoch 160, Loss 0.0238\n",
      "Training Accuracy: 0.9729, Testing Accuracy: 0.9703\n",
      "\n"
     ]
    },
    {
     "name": "stdout",
     "output_type": "stream",
     "text": [
      "Epoch 170, Loss 0.0234\n",
      "Training Accuracy: 0.9735, Testing Accuracy: 0.9703\n",
      "\n"
     ]
    },
    {
     "name": "stdout",
     "output_type": "stream",
     "text": [
      "Epoch 180, Loss 0.0229\n",
      "Training Accuracy: 0.9740, Testing Accuracy: 0.9718\n",
      "\n"
     ]
    },
    {
     "name": "stdout",
     "output_type": "stream",
     "text": [
      "Epoch 190, Loss 0.0225\n",
      "Training Accuracy: 0.9745, Testing Accuracy: 0.9723\n",
      "\n"
     ]
    },
    {
     "name": "stdout",
     "output_type": "stream",
     "text": [
      "Epoch 200, Loss 0.0221\n",
      "Training Accuracy: 0.9747, Testing Accuracy: 0.9733\n",
      "\n"
     ]
    },
    {
     "name": "stdout",
     "output_type": "stream",
     "text": [
      "Epoch 210, Loss 0.0217\n",
      "Training Accuracy: 0.9750, Testing Accuracy: 0.9728\n",
      "\n"
     ]
    },
    {
     "name": "stdout",
     "output_type": "stream",
     "text": [
      "Epoch 220, Loss 0.0214\n",
      "Training Accuracy: 0.9756, Testing Accuracy: 0.9723\n",
      "\n"
     ]
    },
    {
     "name": "stdout",
     "output_type": "stream",
     "text": [
      "Epoch 230, Loss 0.021\n",
      "Training Accuracy: 0.9762, Testing Accuracy: 0.9723\n",
      "\n"
     ]
    },
    {
     "name": "stdout",
     "output_type": "stream",
     "text": [
      "Epoch 240, Loss 0.0207\n",
      "Training Accuracy: 0.9765, Testing Accuracy: 0.9728\n",
      "\n"
     ]
    },
    {
     "data": {
      "text/plain": [
       "0.008534138549857918"
      ]
     },
     "execution_count": 22,
     "metadata": {},
     "output_type": "execute_result"
    }
   ],
   "source": [
    "nn_learner.train_loop(dl)"
   ]
  },
  {
   "cell_type": "code",
   "execution_count": 23,
   "id": "e0163366",
   "metadata": {
    "execution": {
     "iopub.execute_input": "2022-10-20T00:50:28.278717Z",
     "iopub.status.busy": "2022-10-20T00:50:28.277795Z",
     "iopub.status.idle": "2022-10-20T00:50:43.838459Z",
     "shell.execute_reply": "2022-10-20T00:50:43.838788Z"
    },
    "papermill": {
     "duration": 15.608889,
     "end_time": "2022-10-20T00:50:43.838886",
     "exception": false,
     "start_time": "2022-10-20T00:50:28.229997",
     "status": "completed"
    },
    "tags": []
   },
   "outputs": [
    {
     "name": "stdout",
     "output_type": "stream",
     "text": [
      "Epoch 0, Loss 0.2424\n",
      "Training Accuracy: 0.7044, Testing Accuracy: 0.7087\n",
      "\n"
     ]
    },
    {
     "name": "stdout",
     "output_type": "stream",
     "text": [
      "Epoch 10, Loss 0.0982\n",
      "Training Accuracy: 0.9194, Testing Accuracy: 0.9244\n",
      "\n"
     ]
    },
    {
     "name": "stdout",
     "output_type": "stream",
     "text": [
      "Epoch 20, Loss 0.0764\n",
      "Training Accuracy: 0.9324, Testing Accuracy: 0.9390\n",
      "\n"
     ]
    },
    {
     "name": "stdout",
     "output_type": "stream",
     "text": [
      "Epoch 30, Loss 0.0663\n",
      "Training Accuracy: 0.9389, Testing Accuracy: 0.9456\n",
      "\n"
     ]
    },
    {
     "name": "stdout",
     "output_type": "stream",
     "text": [
      "Epoch 40, Loss 0.0601\n",
      "Training Accuracy: 0.9437, Testing Accuracy: 0.9526\n",
      "\n"
     ]
    },
    {
     "name": "stdout",
     "output_type": "stream",
     "text": [
      "Epoch 50, Loss 0.0559\n",
      "Training Accuracy: 0.9462, Testing Accuracy: 0.9572\n",
      "\n"
     ]
    },
    {
     "name": "stdout",
     "output_type": "stream",
     "text": [
      "Epoch 60, Loss 0.0528\n",
      "Training Accuracy: 0.9476, Testing Accuracy: 0.9607\n",
      "\n"
     ]
    },
    {
     "name": "stdout",
     "output_type": "stream",
     "text": [
      "Epoch 70, Loss 0.0504\n",
      "Training Accuracy: 0.9497, Testing Accuracy: 0.9622\n",
      "\n"
     ]
    },
    {
     "name": "stdout",
     "output_type": "stream",
     "text": [
      "Epoch 80, Loss 0.0485\n",
      "Training Accuracy: 0.9509, Testing Accuracy: 0.9637\n",
      "\n"
     ]
    },
    {
     "name": "stdout",
     "output_type": "stream",
     "text": [
      "Epoch 90, Loss 0.0469\n",
      "Training Accuracy: 0.9520, Testing Accuracy: 0.9647\n",
      "\n"
     ]
    },
    {
     "name": "stdout",
     "output_type": "stream",
     "text": [
      "Epoch 100, Loss 0.0455\n",
      "Training Accuracy: 0.9530, Testing Accuracy: 0.9657\n",
      "\n"
     ]
    },
    {
     "name": "stdout",
     "output_type": "stream",
     "text": [
      "Epoch 110, Loss 0.0444\n",
      "Training Accuracy: 0.9544, Testing Accuracy: 0.9647\n",
      "\n"
     ]
    },
    {
     "name": "stdout",
     "output_type": "stream",
     "text": [
      "Epoch 120, Loss 0.0434\n",
      "Training Accuracy: 0.9555, Testing Accuracy: 0.9652\n",
      "\n"
     ]
    },
    {
     "name": "stdout",
     "output_type": "stream",
     "text": [
      "Epoch 130, Loss 0.0425\n",
      "Training Accuracy: 0.9561, Testing Accuracy: 0.9662\n",
      "\n"
     ]
    },
    {
     "name": "stdout",
     "output_type": "stream",
     "text": [
      "Epoch 140, Loss 0.0417\n",
      "Training Accuracy: 0.9563, Testing Accuracy: 0.9667\n",
      "\n"
     ]
    },
    {
     "name": "stdout",
     "output_type": "stream",
     "text": [
      "Epoch 150, Loss 0.041\n",
      "Training Accuracy: 0.9574, Testing Accuracy: 0.9672\n",
      "\n"
     ]
    },
    {
     "name": "stdout",
     "output_type": "stream",
     "text": [
      "Epoch 160, Loss 0.0403\n",
      "Training Accuracy: 0.9578, Testing Accuracy: 0.9672\n",
      "\n"
     ]
    },
    {
     "name": "stdout",
     "output_type": "stream",
     "text": [
      "Epoch 170, Loss 0.0397\n",
      "Training Accuracy: 0.9580, Testing Accuracy: 0.9672\n",
      "\n"
     ]
    },
    {
     "name": "stdout",
     "output_type": "stream",
     "text": [
      "Epoch 180, Loss 0.0392\n",
      "Training Accuracy: 0.9583, Testing Accuracy: 0.9667\n",
      "\n"
     ]
    },
    {
     "name": "stdout",
     "output_type": "stream",
     "text": [
      "Epoch 190, Loss 0.0387\n",
      "Training Accuracy: 0.9584, Testing Accuracy: 0.9667\n",
      "\n"
     ]
    },
    {
     "name": "stdout",
     "output_type": "stream",
     "text": [
      "Epoch 200, Loss 0.0382\n",
      "Training Accuracy: 0.9588, Testing Accuracy: 0.9667\n",
      "\n"
     ]
    },
    {
     "name": "stdout",
     "output_type": "stream",
     "text": [
      "Epoch 210, Loss 0.0378\n",
      "Training Accuracy: 0.9594, Testing Accuracy: 0.9672\n",
      "\n"
     ]
    },
    {
     "name": "stdout",
     "output_type": "stream",
     "text": [
      "Epoch 220, Loss 0.0374\n",
      "Training Accuracy: 0.9599, Testing Accuracy: 0.9672\n",
      "\n"
     ]
    },
    {
     "name": "stdout",
     "output_type": "stream",
     "text": [
      "Epoch 230, Loss 0.037\n",
      "Training Accuracy: 0.9601, Testing Accuracy: 0.9677\n",
      "\n"
     ]
    },
    {
     "name": "stdout",
     "output_type": "stream",
     "text": [
      "Epoch 240, Loss 0.0367\n",
      "Training Accuracy: 0.9606, Testing Accuracy: 0.9677\n",
      "\n"
     ]
    },
    {
     "data": {
      "text/plain": [
       "0.033825903946902144"
      ]
     },
     "execution_count": 23,
     "metadata": {},
     "output_type": "execute_result"
    }
   ],
   "source": [
    "lr_learner.train_loop(dl)"
   ]
  },
  {
   "cell_type": "code",
   "execution_count": 24,
   "id": "ca410940",
   "metadata": {
    "execution": {
     "iopub.execute_input": "2022-10-20T00:50:43.938097Z",
     "iopub.status.busy": "2022-10-20T00:50:43.937566Z",
     "iopub.status.idle": "2022-10-20T00:50:44.105505Z",
     "shell.execute_reply": "2022-10-20T00:50:44.105845Z"
    },
    "papermill": {
     "duration": 0.218794,
     "end_time": "2022-10-20T00:50:44.105943",
     "exception": false,
     "start_time": "2022-10-20T00:50:43.887149",
     "status": "completed"
    },
    "tags": []
   },
   "outputs": [
    {
     "data": {
      "text/plain": [
       "<matplotlib.legend.Legend at 0x7f10cf4f0358>"
      ]
     },
     "execution_count": 24,
     "metadata": {},
     "output_type": "execute_result"
    },
    {
     "data": {
      "image/png": "[encoded data removed]",
      "text/plain": [
       "<Figure size 1080x720 with 1 Axes>"
      ]
     },
     "metadata": {
      "needs_background": "light"
     },
     "output_type": "display_data"
    }
   ],
   "source": [
    "#comparing the results of NN and LR\n",
    "plt.figure(figsize=(15,10))\n",
    "\n",
    "# Neural Network plots\n",
    "plt.plot(acc_nn.accuracies, 'r-', label = \"Training Accuracies - NN\")\n",
    "plt.plot(acc_nn.test_accuracies, 'g-', label = \"Testing Accuracies - NN\")\n",
    "\n",
    "# Logistic Regression plots\n",
    "plt.plot(acc_lr.accuracies, 'k-', label = \"Training Accuracies - LR\")\n",
    "plt.plot(acc_lr.test_accuracies, 'b-', label = \"Testing Accuracies - LR\")\n",
    "plt.legend()"
   ]
  },
  {
   "cell_type": "markdown",
   "id": "80dfb35c",
   "metadata": {
    "papermill": {
     "duration": 0.03034,
     "end_time": "2022-10-20T00:50:44.166730",
     "exception": false,
     "start_time": "2022-10-20T00:50:44.136390",
     "status": "completed"
    },
    "tags": []
   },
   "source": [
    "#### Plotting the outputs of this layer of the NN.\n"
   ]
  },
  {
   "cell_type": "code",
   "execution_count": 25,
   "id": "45eb2ff5",
   "metadata": {
    "execution": {
     "iopub.execute_input": "2022-10-20T00:50:44.253473Z",
     "iopub.status.busy": "2022-10-20T00:50:44.229359Z",
     "iopub.status.idle": "2022-10-20T00:50:44.263214Z",
     "shell.execute_reply": "2022-10-20T00:50:44.263681Z"
    },
    "papermill": {
     "duration": 0.067022,
     "end_time": "2022-10-20T00:50:44.263807",
     "exception": false,
     "start_time": "2022-10-20T00:50:44.196785",
     "status": "completed"
    },
    "tags": []
   },
   "outputs": [],
   "source": [
    "new_model = Model(layers[:-2])\n",
    "testing_plot = new_model(testing_data_x)"
   ]
  },
  {
   "cell_type": "code",
   "execution_count": 26,
   "id": "4c0a5485",
   "metadata": {
    "execution": {
     "iopub.execute_input": "2022-10-20T00:50:44.369788Z",
     "iopub.status.busy": "2022-10-20T00:50:44.368966Z",
     "iopub.status.idle": "2022-10-20T00:50:44.504342Z",
     "shell.execute_reply": "2022-10-20T00:50:44.503954Z"
    },
    "papermill": {
     "duration": 0.187007,
     "end_time": "2022-10-20T00:50:44.504423",
     "exception": false,
     "start_time": "2022-10-20T00:50:44.317416",
     "status": "completed"
    },
    "tags": []
   },
   "outputs": [
    {
     "data": {
      "text/plain": [
       "Text(0.5, 1.0, 'Outputs')"
      ]
     },
     "execution_count": 26,
     "metadata": {},
     "output_type": "execute_result"
    },
    {
     "data": {
      "image/png": "[encoded data removed]",
      "text/plain": [
       "<Figure size 576x504 with 1 Axes>"
      ]
     },
     "metadata": {
      "needs_background": "light"
     },
     "output_type": "display_data"
    }
   ],
   "source": [
    "# Plotting the scatter plot of points and color coding by class\n",
    "plt.figure(figsize=(8,7))\n",
    "plt.scatter(testing_plot[:,0], testing_plot[:,1], alpha = 0.1, c = y_test.ravel());\n",
    "plt.title('Outputs')"
   ]
  },
  {
   "cell_type": "markdown",
   "id": "a74fcf8f",
   "metadata": {
    "papermill": {
     "duration": 0.031306,
     "end_time": "2022-10-20T00:50:44.567375",
     "exception": false,
     "start_time": "2022-10-20T00:50:44.536069",
     "status": "completed"
    },
    "tags": []
   },
   "source": [
    "Probability contours"
   ]
  },
  {
   "cell_type": "code",
   "execution_count": 27,
   "id": "d0afc8e3",
   "metadata": {
    "execution": {
     "iopub.execute_input": "2022-10-20T00:50:44.633514Z",
     "iopub.status.busy": "2022-10-20T00:50:44.633114Z",
     "iopub.status.idle": "2022-10-20T00:50:44.641673Z",
     "shell.execute_reply": "2022-10-20T00:50:44.641339Z"
    },
    "papermill": {
     "duration": 0.04277,
     "end_time": "2022-10-20T00:50:44.641744",
     "exception": false,
     "start_time": "2022-10-20T00:50:44.598974",
     "status": "completed"
    },
    "tags": []
   },
   "outputs": [],
   "source": [
    "model_prob = Model(layers[-2:]) "
   ]
  },
  {
   "cell_type": "code",
   "execution_count": 28,
   "id": "9b96e238",
   "metadata": {
    "execution": {
     "iopub.execute_input": "2022-10-20T00:50:44.741101Z",
     "iopub.status.busy": "2022-10-20T00:50:44.740417Z",
     "iopub.status.idle": "2022-10-20T00:50:44.745601Z",
     "shell.execute_reply": "2022-10-20T00:50:44.746069Z"
    },
    "papermill": {
     "duration": 0.056102,
     "end_time": "2022-10-20T00:50:44.746189",
     "exception": false,
     "start_time": "2022-10-20T00:50:44.690087",
     "status": "completed"
    },
    "tags": []
   },
   "outputs": [],
   "source": [
    "#creating the x and y ranges according to the above generated plot.\n",
    "x_range = np.linspace(-4, 1, 100) \n",
    "y_range = np.linspace(-6, 6, 100) \n",
    "x_grid, y_grid = np.meshgrid(x_range, y_range) # x_grid and y_grig are of size 100 X 100\n",
    "\n",
    "# converting x_grid and y_grid to continuous arrays\n",
    "x_gridflat = np.ravel(x_grid)\n",
    "y_gridflat = np.ravel(y_grid)\n",
    "\n",
    "# The last layer of the current model takes two columns as input. Hence transpose of np.vstack() is required.\n",
    "X = np.vstack((x_gridflat, y_gridflat)).T\n",
    "\n",
    "prob_contour = model_prob(X).reshape(100,100) "
   ]
  },
  {
   "cell_type": "code",
   "execution_count": 29,
   "id": "da72499a",
   "metadata": {
    "execution": {
     "iopub.execute_input": "2022-10-20T00:50:44.850436Z",
     "iopub.status.busy": "2022-10-20T00:50:44.850028Z",
     "iopub.status.idle": "2022-10-20T00:50:45.059429Z",
     "shell.execute_reply": "2022-10-20T00:50:45.059021Z"
    },
    "papermill": {
     "duration": 0.25782,
     "end_time": "2022-10-20T00:50:45.059506",
     "exception": false,
     "start_time": "2022-10-20T00:50:44.801686",
     "status": "completed"
    },
    "tags": []
   },
   "outputs": [
    {
     "data": {
      "image/png": "[encoded data removed]",
      "text/plain": [
       "<Figure size 720x648 with 1 Axes>"
      ]
     },
     "metadata": {
      "needs_background": "light"
     },
     "output_type": "display_data"
    }
   ],
   "source": [
    "plt.figure(figsize=(10,9))\n",
    "plt.scatter(testing_plot[:,0], testing_plot[:,1], alpha = 0.1, c = y_test.ravel())\n",
    "contours = plt.contour(x_grid,y_grid,prob_contour)\n",
    "plt.title('Probability Contours')\n",
    "plt.clabel(contours, inline = True );"
   ]
  },
  {
   "cell_type": "code",
   "execution_count": null,
   "id": "e81b4ac7",
   "metadata": {
    "papermill": {
     "duration": 0.033252,
     "end_time": "2022-10-20T00:50:45.126220",
     "exception": false,
     "start_time": "2022-10-20T00:50:45.092968",
     "status": "completed"
    },
    "tags": []
   },
   "outputs": [],
   "source": []
  }
 ],
 "metadata": {
  "kernelspec": {
   "display_name": "Python 3",
   "language": "python",
   "name": "python3"
  },
  "language_info": {
   "codemirror_mode": {
    "name": "ipython",
    "version": 3
   },
   "file_extension": ".py",
   "mimetype": "text/x-python",
   "name": "python",
   "nbconvert_exporter": "python",
   "pygments_lexer": "ipython3",
   "version": "3.6.15"
  },
  "papermill": {
   "default_parameters": {},
   "duration": 162.569747,
   "end_time": "2022-10-20T00:50:45.476004",
   "environment_variables": {},
   "exception": null,
   "input_path": "2020-08-11-part2.ipynb",
   "output_path": "2020-08-11-part2.ipynb",
   "parameters": {},
   "start_time": "2022-10-20T00:48:02.906257",
   "version": "2.3.3"
  }
 },
 "nbformat": 4,
 "nbformat_minor": 5
}