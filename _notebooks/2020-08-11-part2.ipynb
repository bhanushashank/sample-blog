{
 "cells": [
  {
   "cell_type": "markdown",
   "id": "98380cd3",
   "metadata": {
    "papermill": {
     "duration": 0.027821,
     "end_time": "2022-02-16T10:08:31.230512",
     "exception": false,
     "start_time": "2022-02-16T10:08:31.202691",
     "status": "completed"
    },
    "tags": []
   },
   "source": [
    "# Distinguish Your Own Digits (DYOD)"
   ]
  },
  {
   "cell_type": "markdown",
   "id": "ef31240d",
   "metadata": {
    "papermill": {
     "duration": 0.025321,
     "end_time": "2022-02-16T10:08:31.280397",
     "exception": false,
     "start_time": "2022-02-16T10:08:31.255076",
     "status": "completed"
    },
    "tags": []
   },
   "source": [
    "You are going to write a classifier that distinguishes between the number 3 and number 8."
   ]
  },
  {
   "cell_type": "code",
   "execution_count": 1,
   "id": "b15c8646",
   "metadata": {
    "execution": {
     "iopub.execute_input": "2022-02-16T10:08:31.338717Z",
     "iopub.status.busy": "2022-02-16T10:08:31.338171Z",
     "iopub.status.idle": "2022-02-16T10:08:31.348355Z",
     "shell.execute_reply": "2022-02-16T10:08:31.347922Z"
    },
    "papermill": {
     "duration": 0.044358,
     "end_time": "2022-02-16T10:08:31.348486",
     "exception": false,
     "start_time": "2022-02-16T10:08:31.304128",
     "status": "completed"
    },
    "tags": []
   },
   "outputs": [],
   "source": [
    "%load_ext autoreload\n",
    "%autoreload 2"
   ]
  },
  {
   "cell_type": "code",
   "execution_count": 2,
   "id": "22ef38dc",
   "metadata": {
    "execution": {
     "iopub.execute_input": "2022-02-16T10:08:31.399747Z",
     "iopub.status.busy": "2022-02-16T10:08:31.398362Z",
     "iopub.status.idle": "2022-02-16T10:08:31.968285Z",
     "shell.execute_reply": "2022-02-16T10:08:31.968774Z"
    },
    "papermill": {
     "duration": 0.596625,
     "end_time": "2022-02-16T10:08:31.968933",
     "exception": false,
     "start_time": "2022-02-16T10:08:31.372308",
     "status": "completed"
    },
    "tags": []
   },
   "outputs": [],
   "source": [
    "%matplotlib inline\n",
    "import numpy as np\n",
    "import matplotlib.pyplot as plt\n",
    "import pandas as pd"
   ]
  },
  {
   "cell_type": "markdown",
   "id": "ba036198",
   "metadata": {
    "papermill": {
     "duration": 0.023827,
     "end_time": "2022-02-16T10:08:32.017755",
     "exception": false,
     "start_time": "2022-02-16T10:08:31.993928",
     "status": "completed"
    },
    "tags": []
   },
   "source": [
    "From the command line run `pip install mnist`. This is a library that will help you bring down the mnist dataset. If you run this from a notebook, you need to put  `!pip install mnist` in a cell by itself."
   ]
  },
  {
   "cell_type": "code",
   "execution_count": 3,
   "id": "bb6ad8a1",
   "metadata": {
    "execution": {
     "iopub.execute_input": "2022-02-16T10:08:32.069832Z",
     "iopub.status.busy": "2022-02-16T10:08:32.069325Z",
     "iopub.status.idle": "2022-02-16T10:08:33.761892Z",
     "shell.execute_reply": "2022-02-16T10:08:33.761381Z"
    },
    "papermill": {
     "duration": 1.720391,
     "end_time": "2022-02-16T10:08:33.762024",
     "exception": false,
     "start_time": "2022-02-16T10:08:32.041633",
     "status": "completed"
    },
    "tags": []
   },
   "outputs": [
    {
     "name": "stdout",
     "output_type": "stream",
     "text": [
      "Collecting mnist\r\n"
     ]
    },
    {
     "name": "stdout",
     "output_type": "stream",
     "text": [
      "  Downloading mnist-0.2.2-py2.py3-none-any.whl (3.5 kB)\r\n",
      "Requirement already satisfied: numpy in /opt/hostedtoolcache/Python/3.6.15/x64/lib/python3.6/site-packages (from mnist) (1.19.5)\r\n"
     ]
    },
    {
     "name": "stdout",
     "output_type": "stream",
     "text": [
      "Installing collected packages: mnist\r\n",
      "Successfully installed mnist-0.2.2\r\n"
     ]
    }
   ],
   "source": [
    "!pip install mnist"
   ]
  },
  {
   "cell_type": "markdown",
   "id": "69df9c9a",
   "metadata": {
    "papermill": {
     "duration": 0.024448,
     "end_time": "2022-02-16T10:08:33.811961",
     "exception": false,
     "start_time": "2022-02-16T10:08:33.787513",
     "status": "completed"
    },
    "tags": []
   },
   "source": [
    "## Preparing the Data"
   ]
  },
  {
   "cell_type": "code",
   "execution_count": 4,
   "id": "7f69d806",
   "metadata": {
    "execution": {
     "iopub.execute_input": "2022-02-16T10:08:33.866707Z",
     "iopub.status.busy": "2022-02-16T10:08:33.866183Z",
     "iopub.status.idle": "2022-02-16T10:08:33.879470Z",
     "shell.execute_reply": "2022-02-16T10:08:33.879052Z"
    },
    "papermill": {
     "duration": 0.043283,
     "end_time": "2022-02-16T10:08:33.879582",
     "exception": false,
     "start_time": "2022-02-16T10:08:33.836299",
     "status": "completed"
    },
    "tags": []
   },
   "outputs": [],
   "source": [
    "import mnist"
   ]
  },
  {
   "cell_type": "code",
   "execution_count": 5,
   "id": "a411e44f",
   "metadata": {
    "execution": {
     "iopub.execute_input": "2022-02-16T10:08:33.934636Z",
     "iopub.status.busy": "2022-02-16T10:08:33.934035Z",
     "iopub.status.idle": "2022-02-16T10:08:34.528847Z",
     "shell.execute_reply": "2022-02-16T10:08:34.528296Z"
    },
    "papermill": {
     "duration": 0.624789,
     "end_time": "2022-02-16T10:08:34.528975",
     "exception": false,
     "start_time": "2022-02-16T10:08:33.904186",
     "status": "completed"
    },
    "tags": []
   },
   "outputs": [],
   "source": [
    "train_images = mnist.train_images()\n",
    "train_labels = mnist.train_labels()"
   ]
  },
  {
   "cell_type": "code",
   "execution_count": 6,
   "id": "dceab3a5",
   "metadata": {
    "execution": {
     "iopub.execute_input": "2022-02-16T10:08:34.586701Z",
     "iopub.status.busy": "2022-02-16T10:08:34.586174Z",
     "iopub.status.idle": "2022-02-16T10:08:34.597322Z",
     "shell.execute_reply": "2022-02-16T10:08:34.597701Z"
    },
    "papermill": {
     "duration": 0.043387,
     "end_time": "2022-02-16T10:08:34.597828",
     "exception": false,
     "start_time": "2022-02-16T10:08:34.554441",
     "status": "completed"
    },
    "tags": []
   },
   "outputs": [
    {
     "data": {
      "text/plain": [
       "((60000, 28, 28), (60000,))"
      ]
     },
     "execution_count": 6,
     "metadata": {},
     "output_type": "execute_result"
    }
   ],
   "source": [
    "train_images.shape, train_labels.shape"
   ]
  },
  {
   "cell_type": "code",
   "execution_count": 7,
   "id": "f50dc2bb",
   "metadata": {
    "execution": {
     "iopub.execute_input": "2022-02-16T10:08:34.650924Z",
     "iopub.status.busy": "2022-02-16T10:08:34.650391Z",
     "iopub.status.idle": "2022-02-16T10:08:34.832357Z",
     "shell.execute_reply": "2022-02-16T10:08:34.831836Z"
    },
    "papermill": {
     "duration": 0.209914,
     "end_time": "2022-02-16T10:08:34.832491",
     "exception": false,
     "start_time": "2022-02-16T10:08:34.622577",
     "status": "completed"
    },
    "tags": []
   },
   "outputs": [],
   "source": [
    "test_images = mnist.test_images()\n",
    "test_labels = mnist.test_labels()"
   ]
  },
  {
   "cell_type": "code",
   "execution_count": 8,
   "id": "fc38cf1b",
   "metadata": {
    "execution": {
     "iopub.execute_input": "2022-02-16T10:08:34.889658Z",
     "iopub.status.busy": "2022-02-16T10:08:34.889153Z",
     "iopub.status.idle": "2022-02-16T10:08:34.900086Z",
     "shell.execute_reply": "2022-02-16T10:08:34.899660Z"
    },
    "papermill": {
     "duration": 0.042044,
     "end_time": "2022-02-16T10:08:34.900193",
     "exception": false,
     "start_time": "2022-02-16T10:08:34.858149",
     "status": "completed"
    },
    "tags": []
   },
   "outputs": [
    {
     "data": {
      "text/plain": [
       "((10000, 28, 28), (10000,))"
      ]
     },
     "execution_count": 8,
     "metadata": {},
     "output_type": "execute_result"
    }
   ],
   "source": [
    "test_images.shape, test_labels.shape"
   ]
  },
  {
   "cell_type": "code",
   "execution_count": 9,
   "id": "f9ed8fe0",
   "metadata": {
    "execution": {
     "iopub.execute_input": "2022-02-16T10:08:34.963872Z",
     "iopub.status.busy": "2022-02-16T10:08:34.961078Z",
     "iopub.status.idle": "2022-02-16T10:08:35.093827Z",
     "shell.execute_reply": "2022-02-16T10:08:35.093375Z"
    },
    "papermill": {
     "duration": 0.168623,
     "end_time": "2022-02-16T10:08:35.093941",
     "exception": false,
     "start_time": "2022-02-16T10:08:34.925318",
     "status": "completed"
    },
    "tags": []
   },
   "outputs": [
    {
     "name": "stdout",
     "output_type": "stream",
     "text": [
      "2\n"
     ]
    },
    {
     "data": {
      "text/plain": [
       "<matplotlib.image.AxesImage at 0x7f00a12db518>"
      ]
     },
     "execution_count": 9,
     "metadata": {},
     "output_type": "execute_result"
    },
    {
     "data": {
      "image/png": "[encoded data removed]",
      "text/plain": [
       "<Figure size 432x288 with 1 Axes>"
      ]
     },
     "metadata": {
      "needs_background": "light"
     },
     "output_type": "display_data"
    }
   ],
   "source": [
    "image_index = 7776 # You may select anything up to 60,000\n",
    "print(train_labels[image_index]) \n",
    "plt.imshow(train_images[image_index], cmap='Greys')"
   ]
  },
  {
   "cell_type": "markdown",
   "id": "a8d2388d",
   "metadata": {
    "papermill": {
     "duration": 0.026204,
     "end_time": "2022-02-16T10:08:35.146557",
     "exception": false,
     "start_time": "2022-02-16T10:08:35.120353",
     "status": "completed"
    },
    "tags": []
   },
   "source": [
    "## Filter data to get 3 and 8 out"
   ]
  },
  {
   "cell_type": "code",
   "execution_count": 10,
   "id": "776f7fc7",
   "metadata": {
    "execution": {
     "iopub.execute_input": "2022-02-16T10:08:35.207593Z",
     "iopub.status.busy": "2022-02-16T10:08:35.202807Z",
     "iopub.status.idle": "2022-02-16T10:08:35.219639Z",
     "shell.execute_reply": "2022-02-16T10:08:35.220045Z"
    },
    "papermill": {
     "duration": 0.047458,
     "end_time": "2022-02-16T10:08:35.220171",
     "exception": false,
     "start_time": "2022-02-16T10:08:35.172713",
     "status": "completed"
    },
    "tags": []
   },
   "outputs": [],
   "source": [
    "train_filter = np.where((train_labels == 3 ) | (train_labels == 8))\n",
    "test_filter = np.where((test_labels == 3) | (test_labels == 8))\n",
    "X_train, y_train = train_images[train_filter], train_labels[train_filter]\n",
    "X_test, y_test = test_images[test_filter], test_labels[test_filter]"
   ]
  },
  {
   "cell_type": "markdown",
   "id": "948f0b7e",
   "metadata": {
    "papermill": {
     "duration": 0.026189,
     "end_time": "2022-02-16T10:08:35.272754",
     "exception": false,
     "start_time": "2022-02-16T10:08:35.246565",
     "status": "completed"
    },
    "tags": []
   },
   "source": [
    "We normalize the pizel values in the 0 to 1 range"
   ]
  },
  {
   "cell_type": "code",
   "execution_count": 11,
   "id": "ee4c2166",
   "metadata": {
    "execution": {
     "iopub.execute_input": "2022-02-16T10:08:35.335433Z",
     "iopub.status.busy": "2022-02-16T10:08:35.328063Z",
     "iopub.status.idle": "2022-02-16T10:08:35.377447Z",
     "shell.execute_reply": "2022-02-16T10:08:35.377902Z"
    },
    "papermill": {
     "duration": 0.07913,
     "end_time": "2022-02-16T10:08:35.378053",
     "exception": false,
     "start_time": "2022-02-16T10:08:35.298923",
     "status": "completed"
    },
    "tags": []
   },
   "outputs": [],
   "source": [
    "X_train = X_train/255.\n",
    "X_test = X_test/255."
   ]
  },
  {
   "cell_type": "markdown",
   "id": "ddcf4fab",
   "metadata": {
    "papermill": {
     "duration": 0.026269,
     "end_time": "2022-02-16T10:08:35.431860",
     "exception": false,
     "start_time": "2022-02-16T10:08:35.405591",
     "status": "completed"
    },
    "tags": []
   },
   "source": [
    "And setup the labels as 1 (when the digit is 3) and 0 (when the digit is 8)"
   ]
  },
  {
   "cell_type": "code",
   "execution_count": 12,
   "id": "7dc908f2",
   "metadata": {
    "execution": {
     "iopub.execute_input": "2022-02-16T10:08:35.499676Z",
     "iopub.status.busy": "2022-02-16T10:08:35.488112Z",
     "iopub.status.idle": "2022-02-16T10:08:35.503480Z",
     "shell.execute_reply": "2022-02-16T10:08:35.503884Z"
    },
    "papermill": {
     "duration": 0.045854,
     "end_time": "2022-02-16T10:08:35.504011",
     "exception": false,
     "start_time": "2022-02-16T10:08:35.458157",
     "status": "completed"
    },
    "tags": []
   },
   "outputs": [],
   "source": [
    "y_train = 1*(y_train==3)\n",
    "y_test = 1*(y_test==3)"
   ]
  },
  {
   "cell_type": "code",
   "execution_count": 13,
   "id": "01e4e969",
   "metadata": {
    "execution": {
     "iopub.execute_input": "2022-02-16T10:08:35.560606Z",
     "iopub.status.busy": "2022-02-16T10:08:35.560092Z",
     "iopub.status.idle": "2022-02-16T10:08:35.575736Z",
     "shell.execute_reply": "2022-02-16T10:08:35.574710Z"
    },
    "papermill": {
     "duration": 0.045358,
     "end_time": "2022-02-16T10:08:35.575851",
     "exception": false,
     "start_time": "2022-02-16T10:08:35.530493",
     "status": "completed"
    },
    "tags": []
   },
   "outputs": [
    {
     "data": {
      "text/plain": [
       "((11982, 28, 28), (1984, 28, 28))"
      ]
     },
     "execution_count": 13,
     "metadata": {},
     "output_type": "execute_result"
    }
   ],
   "source": [
    "X_train.shape, X_test.shape"
   ]
  },
  {
   "cell_type": "markdown",
   "id": "5ccf3f85",
   "metadata": {
    "papermill": {
     "duration": 0.026537,
     "end_time": "2022-02-16T10:08:35.628814",
     "exception": false,
     "start_time": "2022-02-16T10:08:35.602277",
     "status": "completed"
    },
    "tags": []
   },
   "source": [
    "We reshape the data to flatten the image pixels into a set of features or co-variates:"
   ]
  },
  {
   "cell_type": "code",
   "execution_count": 14,
   "id": "5286a4a3",
   "metadata": {
    "execution": {
     "iopub.execute_input": "2022-02-16T10:08:35.692139Z",
     "iopub.status.busy": "2022-02-16T10:08:35.691602Z",
     "iopub.status.idle": "2022-02-16T10:08:35.698103Z",
     "shell.execute_reply": "2022-02-16T10:08:35.698483Z"
    },
    "papermill": {
     "duration": 0.043143,
     "end_time": "2022-02-16T10:08:35.698608",
     "exception": false,
     "start_time": "2022-02-16T10:08:35.655465",
     "status": "completed"
    },
    "tags": []
   },
   "outputs": [
    {
     "data": {
      "text/plain": [
       "((11982, 784), (1984, 784))"
      ]
     },
     "execution_count": 14,
     "metadata": {},
     "output_type": "execute_result"
    }
   ],
   "source": [
    "X_train = X_train.reshape(X_train.shape[0], -1)\n",
    "X_test = X_test.reshape(X_test.shape[0], -1)\n",
    "X_train.shape, X_test.shape"
   ]
  },
  {
   "cell_type": "code",
   "execution_count": 15,
   "id": "73c5f88a",
   "metadata": {
    "execution": {
     "iopub.execute_input": "2022-02-16T10:08:35.758255Z",
     "iopub.status.busy": "2022-02-16T10:08:35.757737Z",
     "iopub.status.idle": "2022-02-16T10:08:35.774974Z",
     "shell.execute_reply": "2022-02-16T10:08:35.774537Z"
    },
    "papermill": {
     "duration": 0.049799,
     "end_time": "2022-02-16T10:08:35.775087",
     "exception": false,
     "start_time": "2022-02-16T10:08:35.725288",
     "status": "completed"
    },
    "tags": []
   },
   "outputs": [],
   "source": [
    "#Impoting functions from 'Kudzu'\n",
    "from kudzu.model import Model\n",
    "from kudzu.train import Learner\n",
    "from kudzu.optim import GD\n",
    "from kudzu.data import Data, Sampler,Dataloader\n",
    "\n",
    "from kudzu.callbacks import AccCallback\n",
    "from kudzu.callbacks import ClfCallback\n",
    "\n",
    "from kudzu.loss import MSE\n",
    "\n",
    "from kudzu.layer import Sigmoid,Relu\n",
    "from kudzu.layer import Affine"
   ]
  },
  {
   "cell_type": "markdown",
   "id": "bc01172a",
   "metadata": {
    "papermill": {
     "duration": 0.026834,
     "end_time": "2022-02-16T10:08:35.828805",
     "exception": false,
     "start_time": "2022-02-16T10:08:35.801971",
     "status": "completed"
    },
    "tags": []
   },
   "source": [
    "### Let us create a `Config` class, to store important parameters. \n",
    "This class essentially plays the role of a dictionary."
   ]
  },
  {
   "cell_type": "code",
   "execution_count": 16,
   "id": "978281aa",
   "metadata": {
    "execution": {
     "iopub.execute_input": "2022-02-16T10:08:35.886512Z",
     "iopub.status.busy": "2022-02-16T10:08:35.885987Z",
     "iopub.status.idle": "2022-02-16T10:08:35.897530Z",
     "shell.execute_reply": "2022-02-16T10:08:35.897945Z"
    },
    "papermill": {
     "duration": 0.042361,
     "end_time": "2022-02-16T10:08:35.898076",
     "exception": false,
     "start_time": "2022-02-16T10:08:35.855715",
     "status": "completed"
    },
    "tags": []
   },
   "outputs": [],
   "source": [
    "class Config:\n",
    "    pass\n",
    "config = Config()\n",
    "config.lr = 0.001\n",
    "config.num_epochs = 250\n",
    "config.bs = 50"
   ]
  },
  {
   "cell_type": "markdown",
   "id": "1385fa59",
   "metadata": {
    "papermill": {
     "duration": 0.027082,
     "end_time": "2022-02-16T10:08:35.952342",
     "exception": false,
     "start_time": "2022-02-16T10:08:35.925260",
     "status": "completed"
    },
    "tags": []
   },
   "source": [
    "### Running Models with the Training data\n",
    "Details about the network layers:\n",
    "- A first affine layer has 784 inputs and does 100 affine transforms. These are followed by a Relu\n",
    "- A second affine layer has 100 inputs from the 100 activations of the past layer, and does 100 affine transforms. These are followed by a Relu\n",
    "- A third affine layer has 100 activations and does 2 affine transformations to create an embedding for visualization. There is no non-linearity here.\n",
    "- A final \"logistic regression\" which has an affine transform from 2 inputs to 1 output, which is squeezed through a sigmoid.\n"
   ]
  },
  {
   "cell_type": "code",
   "execution_count": 17,
   "id": "2b9c66db",
   "metadata": {
    "execution": {
     "iopub.execute_input": "2022-02-16T10:08:36.011782Z",
     "iopub.status.busy": "2022-02-16T10:08:36.011244Z",
     "iopub.status.idle": "2022-02-16T10:08:36.021801Z",
     "shell.execute_reply": "2022-02-16T10:08:36.022233Z"
    },
    "papermill": {
     "duration": 0.043164,
     "end_time": "2022-02-16T10:08:36.022361",
     "exception": false,
     "start_time": "2022-02-16T10:08:35.979197",
     "status": "completed"
    },
    "tags": []
   },
   "outputs": [],
   "source": [
    "data = Data(X_train, y_train.reshape(-1,1))\n",
    "sampler = Sampler(data, config.bs, shuffle=True)\n",
    "\n",
    "dl = Dataloader(data, sampler)\n",
    "\n",
    "opt = GD(config.lr)\n",
    "loss = MSE()"
   ]
  },
  {
   "cell_type": "code",
   "execution_count": 18,
   "id": "b275e4c2",
   "metadata": {
    "execution": {
     "iopub.execute_input": "2022-02-16T10:08:36.084810Z",
     "iopub.status.busy": "2022-02-16T10:08:36.084289Z",
     "iopub.status.idle": "2022-02-16T10:08:36.093831Z",
     "shell.execute_reply": "2022-02-16T10:08:36.094237Z"
    },
    "papermill": {
     "duration": 0.04518,
     "end_time": "2022-02-16T10:08:36.094362",
     "exception": false,
     "start_time": "2022-02-16T10:08:36.049182",
     "status": "completed"
    },
    "tags": []
   },
   "outputs": [],
   "source": [
    "training_data_x = X_train\n",
    "testing_data_x = X_test\n",
    "training_data_y = y_train.reshape(-1,1)\n",
    "testing_data_y = y_test.reshape(-1,1)"
   ]
  },
  {
   "cell_type": "code",
   "execution_count": 19,
   "id": "76951160",
   "metadata": {
    "execution": {
     "iopub.execute_input": "2022-02-16T10:08:36.152091Z",
     "iopub.status.busy": "2022-02-16T10:08:36.151572Z",
     "iopub.status.idle": "2022-02-16T10:08:36.166622Z",
     "shell.execute_reply": "2022-02-16T10:08:36.167031Z"
    },
    "papermill": {
     "duration": 0.04605,
     "end_time": "2022-02-16T10:08:36.167165",
     "exception": false,
     "start_time": "2022-02-16T10:08:36.121115",
     "status": "completed"
    },
    "tags": []
   },
   "outputs": [
    {
     "name": "stdout",
     "output_type": "stream",
     "text": [
      "xavier\n",
      "xavier\n",
      "xavier\n",
      "xavier\n",
      "xavier\n"
     ]
    }
   ],
   "source": [
    "layers = [Affine(\"first\", 784, 100), Relu(\"first\"), Affine(\"second\", 100, 100), Relu(\"second\"), Affine(\"third\", 100, 2), Affine(\"last\", 2, 1), Sigmoid(\"last\")]\n",
    "model_nn = Model(layers)\n",
    "model_lr = Model([Affine(\"logits\", 784, 1), Sigmoid(\"sigmoid\")])"
   ]
  },
  {
   "cell_type": "code",
   "execution_count": 20,
   "id": "6eede77a",
   "metadata": {
    "execution": {
     "iopub.execute_input": "2022-02-16T10:08:36.227561Z",
     "iopub.status.busy": "2022-02-16T10:08:36.224679Z",
     "iopub.status.idle": "2022-02-16T10:08:36.238619Z",
     "shell.execute_reply": "2022-02-16T10:08:36.239063Z"
    },
    "papermill": {
     "duration": 0.04481,
     "end_time": "2022-02-16T10:08:36.239191",
     "exception": false,
     "start_time": "2022-02-16T10:08:36.194381",
     "status": "completed"
    },
    "tags": []
   },
   "outputs": [],
   "source": [
    "nn_learner = Learner(loss, model_nn, opt, config.num_epochs)\n",
    "acc_nn = ClfCallback(nn_learner, config.bs, training_data_x , testing_data_x, training_data_y, testing_data_y)\n",
    "nn_learner.set_callbacks([acc_nn])"
   ]
  },
  {
   "cell_type": "code",
   "execution_count": 21,
   "id": "877b6cc7",
   "metadata": {
    "execution": {
     "iopub.execute_input": "2022-02-16T10:08:36.297757Z",
     "iopub.status.busy": "2022-02-16T10:08:36.296823Z",
     "iopub.status.idle": "2022-02-16T10:08:36.309435Z",
     "shell.execute_reply": "2022-02-16T10:08:36.309007Z"
    },
    "papermill": {
     "duration": 0.043193,
     "end_time": "2022-02-16T10:08:36.309538",
     "exception": false,
     "start_time": "2022-02-16T10:08:36.266345",
     "status": "completed"
    },
    "tags": []
   },
   "outputs": [],
   "source": [
    "lr_learner = Learner(loss, model_lr, opt, config.num_epochs)\n",
    "acc_lr = ClfCallback(lr_learner, config.bs, training_data_x , testing_data_x, training_data_y, testing_data_y)\n",
    "lr_learner.set_callbacks([acc_lr])"
   ]
  },
  {
   "cell_type": "code",
   "execution_count": 22,
   "id": "d9b133c3",
   "metadata": {
    "execution": {
     "iopub.execute_input": "2022-02-16T10:08:36.378263Z",
     "iopub.status.busy": "2022-02-16T10:08:36.366790Z",
     "iopub.status.idle": "2022-02-16T10:09:52.936148Z",
     "shell.execute_reply": "2022-02-16T10:09:52.936921Z"
    },
    "papermill": {
     "duration": 76.600411,
     "end_time": "2022-02-16T10:09:52.937070",
     "exception": false,
     "start_time": "2022-02-16T10:08:36.336659",
     "status": "completed"
    },
    "tags": []
   },
   "outputs": [
    {
     "name": "stdout",
     "output_type": "stream",
     "text": [
      "Epoch 0, Loss 0.2483\n",
      "Training Accuracy: 0.6190, Testing Accuracy: 0.6240\n",
      "\n"
     ]
    },
    {
     "name": "stdout",
     "output_type": "stream",
     "text": [
      "Epoch 10, Loss 0.1298\n",
      "Training Accuracy: 0.9130, Testing Accuracy: 0.9244\n",
      "\n"
     ]
    },
    {
     "name": "stdout",
     "output_type": "stream",
     "text": [
      "Epoch 20, Loss 0.0666\n",
      "Training Accuracy: 0.9372, Testing Accuracy: 0.9476\n",
      "\n"
     ]
    },
    {
     "name": "stdout",
     "output_type": "stream",
     "text": [
      "Epoch 30, Loss 0.0492\n",
      "Training Accuracy: 0.9468, Testing Accuracy: 0.9602\n",
      "\n"
     ]
    },
    {
     "name": "stdout",
     "output_type": "stream",
     "text": [
      "Epoch 40, Loss 0.0414\n",
      "Training Accuracy: 0.9541, Testing Accuracy: 0.9642\n",
      "\n"
     ]
    },
    {
     "name": "stdout",
     "output_type": "stream",
     "text": [
      "Epoch 50, Loss 0.0368\n",
      "Training Accuracy: 0.9586, Testing Accuracy: 0.9667\n",
      "\n"
     ]
    },
    {
     "name": "stdout",
     "output_type": "stream",
     "text": [
      "Epoch 60, Loss 0.0338\n",
      "Training Accuracy: 0.9604, Testing Accuracy: 0.9693\n",
      "\n"
     ]
    },
    {
     "name": "stdout",
     "output_type": "stream",
     "text": [
      "Epoch 70, Loss 0.0316\n",
      "Training Accuracy: 0.9623, Testing Accuracy: 0.9682\n",
      "\n"
     ]
    },
    {
     "name": "stdout",
     "output_type": "stream",
     "text": [
      "Epoch 80, Loss 0.03\n",
      "Training Accuracy: 0.9639, Testing Accuracy: 0.9688\n",
      "\n"
     ]
    },
    {
     "name": "stdout",
     "output_type": "stream",
     "text": [
      "Epoch 90, Loss 0.0286\n",
      "Training Accuracy: 0.9656, Testing Accuracy: 0.9703\n",
      "\n"
     ]
    },
    {
     "name": "stdout",
     "output_type": "stream",
     "text": [
      "Epoch 100, Loss 0.0275\n",
      "Training Accuracy: 0.9667, Testing Accuracy: 0.9708\n",
      "\n"
     ]
    },
    {
     "name": "stdout",
     "output_type": "stream",
     "text": [
      "Epoch 110, Loss 0.0265\n",
      "Training Accuracy: 0.9680, Testing Accuracy: 0.9713\n",
      "\n"
     ]
    },
    {
     "name": "stdout",
     "output_type": "stream",
     "text": [
      "Epoch 120, Loss 0.0256\n",
      "Training Accuracy: 0.9688, Testing Accuracy: 0.9718\n",
      "\n"
     ]
    },
    {
     "name": "stdout",
     "output_type": "stream",
     "text": [
      "Epoch 130, Loss 0.0249\n",
      "Training Accuracy: 0.9695, Testing Accuracy: 0.9718\n",
      "\n"
     ]
    },
    {
     "name": "stdout",
     "output_type": "stream",
     "text": [
      "Epoch 140, Loss 0.0242\n",
      "Training Accuracy: 0.9709, Testing Accuracy: 0.9718\n",
      "\n"
     ]
    },
    {
     "name": "stdout",
     "output_type": "stream",
     "text": [
      "Epoch 150, Loss 0.0236\n",
      "Training Accuracy: 0.9718, Testing Accuracy: 0.9728\n",
      "\n"
     ]
    },
    {
     "name": "stdout",
     "output_type": "stream",
     "text": [
      "Epoch 160, Loss 0.023\n",
      "Training Accuracy: 0.9725, Testing Accuracy: 0.9728\n",
      "\n"
     ]
    },
    {
     "name": "stdout",
     "output_type": "stream",
     "text": [
      "Epoch 170, Loss 0.0225\n",
      "Training Accuracy: 0.9735, Testing Accuracy: 0.9723\n",
      "\n"
     ]
    },
    {
     "name": "stdout",
     "output_type": "stream",
     "text": [
      "Epoch 180, Loss 0.022\n",
      "Training Accuracy: 0.9747, Testing Accuracy: 0.9718\n",
      "\n"
     ]
    },
    {
     "name": "stdout",
     "output_type": "stream",
     "text": [
      "Epoch 190, Loss 0.0216\n",
      "Training Accuracy: 0.9754, Testing Accuracy: 0.9713\n",
      "\n"
     ]
    },
    {
     "name": "stdout",
     "output_type": "stream",
     "text": [
      "Epoch 200, Loss 0.0211\n",
      "Training Accuracy: 0.9761, Testing Accuracy: 0.9713\n",
      "\n"
     ]
    },
    {
     "name": "stdout",
     "output_type": "stream",
     "text": [
      "Epoch 210, Loss 0.0207\n",
      "Training Accuracy: 0.9760, Testing Accuracy: 0.9718\n",
      "\n"
     ]
    },
    {
     "name": "stdout",
     "output_type": "stream",
     "text": [
      "Epoch 220, Loss 0.0203\n",
      "Training Accuracy: 0.9765, Testing Accuracy: 0.9718\n",
      "\n"
     ]
    },
    {
     "name": "stdout",
     "output_type": "stream",
     "text": [
      "Epoch 230, Loss 0.0199\n",
      "Training Accuracy: 0.9768, Testing Accuracy: 0.9718\n",
      "\n"
     ]
    },
    {
     "name": "stdout",
     "output_type": "stream",
     "text": [
      "Epoch 240, Loss 0.0195\n",
      "Training Accuracy: 0.9772, Testing Accuracy: 0.9718\n",
      "\n"
     ]
    },
    {
     "data": {
      "text/plain": [
       "0.0020032032010868415"
      ]
     },
     "execution_count": 22,
     "metadata": {},
     "output_type": "execute_result"
    }
   ],
   "source": [
    "nn_learner.train_loop(dl)"
   ]
  },
  {
   "cell_type": "code",
   "execution_count": 23,
   "id": "e0163366",
   "metadata": {
    "execution": {
     "iopub.execute_input": "2022-02-16T10:09:53.017856Z",
     "iopub.status.busy": "2022-02-16T10:09:53.017348Z",
     "iopub.status.idle": "2022-02-16T10:10:06.467215Z",
     "shell.execute_reply": "2022-02-16T10:10:06.467942Z"
    },
    "papermill": {
     "duration": 13.496309,
     "end_time": "2022-02-16T10:10:06.468086",
     "exception": false,
     "start_time": "2022-02-16T10:09:52.971777",
     "status": "completed"
    },
    "tags": []
   },
   "outputs": [
    {
     "name": "stdout",
     "output_type": "stream",
     "text": [
      "Epoch 0, Loss 0.2595\n",
      "Training Accuracy: 0.6056, Testing Accuracy: 0.6210\n",
      "\n"
     ]
    },
    {
     "name": "stdout",
     "output_type": "stream",
     "text": [
      "Epoch 10, Loss 0.107\n",
      "Training Accuracy: 0.9042, Testing Accuracy: 0.9133\n",
      "\n"
     ]
    },
    {
     "name": "stdout",
     "output_type": "stream",
     "text": [
      "Epoch 20, Loss 0.0811\n",
      "Training Accuracy: 0.9257, Testing Accuracy: 0.9355\n",
      "\n"
     ]
    },
    {
     "name": "stdout",
     "output_type": "stream",
     "text": [
      "Epoch 30, Loss 0.0693\n",
      "Training Accuracy: 0.9352, Testing Accuracy: 0.9461\n",
      "\n"
     ]
    },
    {
     "name": "stdout",
     "output_type": "stream",
     "text": [
      "Epoch 40, Loss 0.0623\n",
      "Training Accuracy: 0.9400, Testing Accuracy: 0.9506\n",
      "\n"
     ]
    },
    {
     "name": "stdout",
     "output_type": "stream",
     "text": [
      "Epoch 50, Loss 0.0576\n",
      "Training Accuracy: 0.9434, Testing Accuracy: 0.9546\n",
      "\n"
     ]
    },
    {
     "name": "stdout",
     "output_type": "stream",
     "text": [
      "Epoch 60, Loss 0.0542\n",
      "Training Accuracy: 0.9460, Testing Accuracy: 0.9592\n",
      "\n"
     ]
    },
    {
     "name": "stdout",
     "output_type": "stream",
     "text": [
      "Epoch 70, Loss 0.0515\n",
      "Training Accuracy: 0.9475, Testing Accuracy: 0.9622\n",
      "\n"
     ]
    },
    {
     "name": "stdout",
     "output_type": "stream",
     "text": [
      "Epoch 80, Loss 0.0494\n",
      "Training Accuracy: 0.9495, Testing Accuracy: 0.9627\n",
      "\n"
     ]
    },
    {
     "name": "stdout",
     "output_type": "stream",
     "text": [
      "Epoch 90, Loss 0.0476\n",
      "Training Accuracy: 0.9513, Testing Accuracy: 0.9632\n",
      "\n"
     ]
    },
    {
     "name": "stdout",
     "output_type": "stream",
     "text": [
      "Epoch 100, Loss 0.0462\n",
      "Training Accuracy: 0.9527, Testing Accuracy: 0.9637\n",
      "\n"
     ]
    },
    {
     "name": "stdout",
     "output_type": "stream",
     "text": [
      "Epoch 110, Loss 0.0449\n",
      "Training Accuracy: 0.9537, Testing Accuracy: 0.9637\n",
      "\n"
     ]
    },
    {
     "name": "stdout",
     "output_type": "stream",
     "text": [
      "Epoch 120, Loss 0.0439\n",
      "Training Accuracy: 0.9540, Testing Accuracy: 0.9642\n",
      "\n"
     ]
    },
    {
     "name": "stdout",
     "output_type": "stream",
     "text": [
      "Epoch 130, Loss 0.0429\n",
      "Training Accuracy: 0.9544, Testing Accuracy: 0.9657\n",
      "\n"
     ]
    },
    {
     "name": "stdout",
     "output_type": "stream",
     "text": [
      "Epoch 140, Loss 0.0421\n",
      "Training Accuracy: 0.9554, Testing Accuracy: 0.9652\n",
      "\n"
     ]
    },
    {
     "name": "stdout",
     "output_type": "stream",
     "text": [
      "Epoch 150, Loss 0.0413\n",
      "Training Accuracy: 0.9564, Testing Accuracy: 0.9657\n",
      "\n"
     ]
    },
    {
     "name": "stdout",
     "output_type": "stream",
     "text": [
      "Epoch 160, Loss 0.0406\n",
      "Training Accuracy: 0.9571, Testing Accuracy: 0.9657\n",
      "\n"
     ]
    },
    {
     "name": "stdout",
     "output_type": "stream",
     "text": [
      "Epoch 170, Loss 0.04\n",
      "Training Accuracy: 0.9578, Testing Accuracy: 0.9657\n",
      "\n"
     ]
    },
    {
     "name": "stdout",
     "output_type": "stream",
     "text": [
      "Epoch 180, Loss 0.0394\n",
      "Training Accuracy: 0.9584, Testing Accuracy: 0.9657\n",
      "\n"
     ]
    },
    {
     "name": "stdout",
     "output_type": "stream",
     "text": [
      "Epoch 190, Loss 0.0389\n",
      "Training Accuracy: 0.9588, Testing Accuracy: 0.9657\n",
      "\n"
     ]
    },
    {
     "name": "stdout",
     "output_type": "stream",
     "text": [
      "Epoch 200, Loss 0.0384\n",
      "Training Accuracy: 0.9594, Testing Accuracy: 0.9657\n",
      "\n"
     ]
    },
    {
     "name": "stdout",
     "output_type": "stream",
     "text": [
      "Epoch 210, Loss 0.038\n",
      "Training Accuracy: 0.9599, Testing Accuracy: 0.9657\n",
      "\n"
     ]
    },
    {
     "name": "stdout",
     "output_type": "stream",
     "text": [
      "Epoch 220, Loss 0.0376\n",
      "Training Accuracy: 0.9609, Testing Accuracy: 0.9657\n",
      "\n"
     ]
    },
    {
     "name": "stdout",
     "output_type": "stream",
     "text": [
      "Epoch 230, Loss 0.0372\n",
      "Training Accuracy: 0.9615, Testing Accuracy: 0.9662\n",
      "\n"
     ]
    },
    {
     "name": "stdout",
     "output_type": "stream",
     "text": [
      "Epoch 240, Loss 0.0368\n",
      "Training Accuracy: 0.9618, Testing Accuracy: 0.9667\n",
      "\n"
     ]
    },
    {
     "data": {
      "text/plain": [
       "0.0441426236398291"
      ]
     },
     "execution_count": 23,
     "metadata": {},
     "output_type": "execute_result"
    }
   ],
   "source": [
    "lr_learner.train_loop(dl)"
   ]
  },
  {
   "cell_type": "code",
   "execution_count": 24,
   "id": "ca410940",
   "metadata": {
    "execution": {
     "iopub.execute_input": "2022-02-16T10:10:06.564140Z",
     "iopub.status.busy": "2022-02-16T10:10:06.563613Z",
     "iopub.status.idle": "2022-02-16T10:10:06.788876Z",
     "shell.execute_reply": "2022-02-16T10:10:06.788426Z"
    },
    "papermill": {
     "duration": 0.280128,
     "end_time": "2022-02-16T10:10:06.788991",
     "exception": false,
     "start_time": "2022-02-16T10:10:06.508863",
     "status": "completed"
    },
    "tags": []
   },
   "outputs": [
    {
     "data": {
      "text/plain": [
       "<matplotlib.legend.Legend at 0x7f00a0eb7cc0>"
      ]
     },
     "execution_count": 24,
     "metadata": {},
     "output_type": "execute_result"
    },
    {
     "data": {
      "image/png": "[encoded data removed]",
      "text/plain": [
       "<Figure size 1080x720 with 1 Axes>"
      ]
     },
     "metadata": {
      "needs_background": "light"
     },
     "output_type": "display_data"
    }
   ],
   "source": [
    "#comparing the results of NN and LR\n",
    "plt.figure(figsize=(15,10))\n",
    "\n",
    "# Neural Network plots\n",
    "plt.plot(acc_nn.accuracies, 'r-', label = \"Training Accuracies - NN\")\n",
    "plt.plot(acc_nn.test_accuracies, 'g-', label = \"Testing Accuracies - NN\")\n",
    "\n",
    "# Logistic Regression plots\n",
    "plt.plot(acc_lr.accuracies, 'k-', label = \"Training Accuracies - LR\")\n",
    "plt.plot(acc_lr.test_accuracies, 'b-', label = \"Testing Accuracies - LR\")\n",
    "plt.legend()"
   ]
  },
  {
   "cell_type": "markdown",
   "id": "80dfb35c",
   "metadata": {
    "papermill": {
     "duration": 0.041703,
     "end_time": "2022-02-16T10:10:06.872886",
     "exception": false,
     "start_time": "2022-02-16T10:10:06.831183",
     "status": "completed"
    },
    "tags": []
   },
   "source": [
    "#### Plotting the outputs of this layer of the NN.\n"
   ]
  },
  {
   "cell_type": "code",
   "execution_count": 25,
   "id": "45eb2ff5",
   "metadata": {
    "execution": {
     "iopub.execute_input": "2022-02-16T10:10:06.970164Z",
     "iopub.status.busy": "2022-02-16T10:10:06.961491Z",
     "iopub.status.idle": "2022-02-16T10:10:06.984110Z",
     "shell.execute_reply": "2022-02-16T10:10:06.983655Z"
    },
    "papermill": {
     "duration": 0.069572,
     "end_time": "2022-02-16T10:10:06.984225",
     "exception": false,
     "start_time": "2022-02-16T10:10:06.914653",
     "status": "completed"
    },
    "tags": []
   },
   "outputs": [],
   "source": [
    "new_model = Model(layers[:-2])\n",
    "testing_plot = new_model(testing_data_x)"
   ]
  },
  {
   "cell_type": "code",
   "execution_count": 26,
   "id": "4c0a5485",
   "metadata": {
    "execution": {
     "iopub.execute_input": "2022-02-16T10:10:07.080244Z",
     "iopub.status.busy": "2022-02-16T10:10:07.079737Z",
     "iopub.status.idle": "2022-02-16T10:10:07.264913Z",
     "shell.execute_reply": "2022-02-16T10:10:07.264424Z"
    },
    "papermill": {
     "duration": 0.237297,
     "end_time": "2022-02-16T10:10:07.265044",
     "exception": false,
     "start_time": "2022-02-16T10:10:07.027747",
     "status": "completed"
    },
    "tags": []
   },
   "outputs": [
    {
     "data": {
      "text/plain": [
       "Text(0.5, 1.0, 'Outputs')"
      ]
     },
     "execution_count": 26,
     "metadata": {},
     "output_type": "execute_result"
    },
    {
     "data": {
      "image/png": "[encoded data removed]",
      "text/plain": [
       "<Figure size 576x504 with 1 Axes>"
      ]
     },
     "metadata": {
      "needs_background": "light"
     },
     "output_type": "display_data"
    }
   ],
   "source": [
    "# Plotting the scatter plot of points and color coding by class\n",
    "plt.figure(figsize=(8,7))\n",
    "plt.scatter(testing_plot[:,0], testing_plot[:,1], alpha = 0.1, c = y_test.ravel());\n",
    "plt.title('Outputs')"
   ]
  },
  {
   "cell_type": "markdown",
   "id": "a74fcf8f",
   "metadata": {
    "papermill": {
     "duration": 0.043624,
     "end_time": "2022-02-16T10:10:07.353019",
     "exception": false,
     "start_time": "2022-02-16T10:10:07.309395",
     "status": "completed"
    },
    "tags": []
   },
   "source": [
    "Probability contours"
   ]
  },
  {
   "cell_type": "code",
   "execution_count": 27,
   "id": "d0afc8e3",
   "metadata": {
    "execution": {
     "iopub.execute_input": "2022-02-16T10:10:07.445030Z",
     "iopub.status.busy": "2022-02-16T10:10:07.444480Z",
     "iopub.status.idle": "2022-02-16T10:10:07.456486Z",
     "shell.execute_reply": "2022-02-16T10:10:07.456066Z"
    },
    "papermill": {
     "duration": 0.05988,
     "end_time": "2022-02-16T10:10:07.456598",
     "exception": false,
     "start_time": "2022-02-16T10:10:07.396718",
     "status": "completed"
    },
    "tags": []
   },
   "outputs": [],
   "source": [
    "model_prob = Model(layers[-2:]) "
   ]
  },
  {
   "cell_type": "code",
   "execution_count": 28,
   "id": "9b96e238",
   "metadata": {
    "execution": {
     "iopub.execute_input": "2022-02-16T10:10:07.551507Z",
     "iopub.status.busy": "2022-02-16T10:10:07.550879Z",
     "iopub.status.idle": "2022-02-16T10:10:07.563492Z",
     "shell.execute_reply": "2022-02-16T10:10:07.563887Z"
    },
    "papermill": {
     "duration": 0.063586,
     "end_time": "2022-02-16T10:10:07.564018",
     "exception": false,
     "start_time": "2022-02-16T10:10:07.500432",
     "status": "completed"
    },
    "tags": []
   },
   "outputs": [],
   "source": [
    "#creating the x and y ranges according to the above generated plot.\n",
    "x_range = np.linspace(-4, 1, 100) \n",
    "y_range = np.linspace(-6, 6, 100) \n",
    "x_grid, y_grid = np.meshgrid(x_range, y_range) # x_grid and y_grig are of size 100 X 100\n",
    "\n",
    "# converting x_grid and y_grid to continuous arrays\n",
    "x_gridflat = np.ravel(x_grid)\n",
    "y_gridflat = np.ravel(y_grid)\n",
    "\n",
    "# The last layer of the current model takes two columns as input. Hence transpose of np.vstack() is required.\n",
    "X = np.vstack((x_gridflat, y_gridflat)).T\n",
    "\n",
    "prob_contour = model_prob(X).reshape(100,100) "
   ]
  },
  {
   "cell_type": "code",
   "execution_count": 29,
   "id": "da72499a",
   "metadata": {
    "execution": {
     "iopub.execute_input": "2022-02-16T10:10:07.680875Z",
     "iopub.status.busy": "2022-02-16T10:10:07.680363Z",
     "iopub.status.idle": "2022-02-16T10:10:07.927673Z",
     "shell.execute_reply": "2022-02-16T10:10:07.928091Z"
    },
    "papermill": {
     "duration": 0.320032,
     "end_time": "2022-02-16T10:10:07.928229",
     "exception": false,
     "start_time": "2022-02-16T10:10:07.608197",
     "status": "completed"
    },
    "tags": []
   },
   "outputs": [
    {
     "data": {
      "image/png": "[encoded data removed]",
      "text/plain": [
       "<Figure size 720x648 with 1 Axes>"
      ]
     },
     "metadata": {
      "needs_background": "light"
     },
     "output_type": "display_data"
    }
   ],
   "source": [
    "plt.figure(figsize=(10,9))\n",
    "plt.scatter(testing_plot[:,0], testing_plot[:,1], alpha = 0.1, c = y_test.ravel())\n",
    "contours = plt.contour(x_grid,y_grid,prob_contour)\n",
    "plt.title('Probability Contours')\n",
    "plt.clabel(contours, inline = True );"
   ]
  },
  {
   "cell_type": "code",
   "execution_count": null,
   "id": "e81b4ac7",
   "metadata": {
    "papermill": {
     "duration": 0.046533,
     "end_time": "2022-02-16T10:10:08.021820",
     "exception": false,
     "start_time": "2022-02-16T10:10:07.975287",
     "status": "completed"
    },
    "tags": []
   },
   "outputs": [],
   "source": []
  }
 ],
 "metadata": {
  "kernelspec": {
   "display_name": "Python 3",
   "language": "python",
   "name": "python3"
  },
  "language_info": {
   "codemirror_mode": {
    "name": "ipython",
    "version": 3
   },
   "file_extension": ".py",
   "mimetype": "text/x-python",
   "name": "python",
   "nbconvert_exporter": "python",
   "pygments_lexer": "ipython3",
   "version": "3.6.15"
  },
  "papermill": {
   "default_parameters": {},
   "duration": 98.105033,
   "end_time": "2022-02-16T10:10:08.387121",
   "environment_variables": {},
   "exception": null,
   "input_path": "2020-08-11-part2.ipynb",
   "output_path": "2020-08-11-part2.ipynb",
   "parameters": {},
   "start_time": "2022-02-16T10:08:30.282088",
   "version": "2.3.3"
  }
 },
 "nbformat": 4,
 "nbformat_minor": 5
}