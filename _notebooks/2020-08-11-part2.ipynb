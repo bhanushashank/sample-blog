{
 "cells": [
  {
   "cell_type": "markdown",
   "id": "98380cd3",
   "metadata": {
    "papermill": {
     "duration": 0.03408,
     "end_time": "2022-06-26T20:10:16.845882",
     "exception": false,
     "start_time": "2022-06-26T20:10:16.811802",
     "status": "completed"
    },
    "tags": []
   },
   "source": [
    "# Distinguish Your Own Digits (DYOD)"
   ]
  },
  {
   "cell_type": "markdown",
   "id": "ef31240d",
   "metadata": {
    "papermill": {
     "duration": 0.026429,
     "end_time": "2022-06-26T20:10:16.900325",
     "exception": false,
     "start_time": "2022-06-26T20:10:16.873896",
     "status": "completed"
    },
    "tags": []
   },
   "source": [
    "You are going to write a classifier that distinguishes between the number 3 and number 8."
   ]
  },
  {
   "cell_type": "code",
   "execution_count": 1,
   "id": "b15c8646",
   "metadata": {
    "execution": {
     "iopub.execute_input": "2022-06-26T20:10:16.970087Z",
     "iopub.status.busy": "2022-06-26T20:10:16.969242Z",
     "iopub.status.idle": "2022-06-26T20:10:16.980447Z",
     "shell.execute_reply": "2022-06-26T20:10:16.981015Z"
    },
    "papermill": {
     "duration": 0.051505,
     "end_time": "2022-06-26T20:10:16.981198",
     "exception": false,
     "start_time": "2022-06-26T20:10:16.929693",
     "status": "completed"
    },
    "tags": []
   },
   "outputs": [],
   "source": [
    "%load_ext autoreload\n",
    "%autoreload 2"
   ]
  },
  {
   "cell_type": "code",
   "execution_count": 2,
   "id": "22ef38dc",
   "metadata": {
    "execution": {
     "iopub.execute_input": "2022-06-26T20:10:17.054112Z",
     "iopub.status.busy": "2022-06-26T20:10:17.050220Z",
     "iopub.status.idle": "2022-06-26T20:10:17.651965Z",
     "shell.execute_reply": "2022-06-26T20:10:17.652501Z"
    },
    "papermill": {
     "duration": 0.643072,
     "end_time": "2022-06-26T20:10:17.652672",
     "exception": false,
     "start_time": "2022-06-26T20:10:17.009600",
     "status": "completed"
    },
    "tags": []
   },
   "outputs": [],
   "source": [
    "%matplotlib inline\n",
    "import numpy as np\n",
    "import matplotlib.pyplot as plt\n",
    "import pandas as pd"
   ]
  },
  {
   "cell_type": "markdown",
   "id": "ba036198",
   "metadata": {
    "papermill": {
     "duration": 0.028896,
     "end_time": "2022-06-26T20:10:17.711215",
     "exception": false,
     "start_time": "2022-06-26T20:10:17.682319",
     "status": "completed"
    },
    "tags": []
   },
   "source": [
    "From the command line run `pip install mnist`. This is a library that will help you bring down the mnist dataset. If you run this from a notebook, you need to put  `!pip install mnist` in a cell by itself."
   ]
  },
  {
   "cell_type": "code",
   "execution_count": 3,
   "id": "bb6ad8a1",
   "metadata": {
    "execution": {
     "iopub.execute_input": "2022-06-26T20:10:17.789934Z",
     "iopub.status.busy": "2022-06-26T20:10:17.781867Z",
     "iopub.status.idle": "2022-06-26T20:10:20.510112Z",
     "shell.execute_reply": "2022-06-26T20:10:20.510674Z"
    },
    "papermill": {
     "duration": 2.771208,
     "end_time": "2022-06-26T20:10:20.510843",
     "exception": false,
     "start_time": "2022-06-26T20:10:17.739635",
     "status": "completed"
    },
    "tags": []
   },
   "outputs": [
    {
     "name": "stdout",
     "output_type": "stream",
     "text": [
      "Collecting mnist\r\n"
     ]
    },
    {
     "name": "stdout",
     "output_type": "stream",
     "text": [
      "  Downloading mnist-0.2.2-py2.py3-none-any.whl (3.5 kB)\r\n",
      "Requirement already satisfied: numpy in /opt/hostedtoolcache/Python/3.6.15/x64/lib/python3.6/site-packages (from mnist) (1.19.5)\r\n"
     ]
    },
    {
     "name": "stdout",
     "output_type": "stream",
     "text": [
      "Installing collected packages: mnist\r\n"
     ]
    },
    {
     "name": "stdout",
     "output_type": "stream",
     "text": [
      "Successfully installed mnist-0.2.2\r\n"
     ]
    }
   ],
   "source": [
    "!pip install mnist"
   ]
  },
  {
   "cell_type": "markdown",
   "id": "69df9c9a",
   "metadata": {
    "papermill": {
     "duration": 0.028545,
     "end_time": "2022-06-26T20:10:20.569189",
     "exception": false,
     "start_time": "2022-06-26T20:10:20.540644",
     "status": "completed"
    },
    "tags": []
   },
   "source": [
    "## Preparing the Data"
   ]
  },
  {
   "cell_type": "code",
   "execution_count": 4,
   "id": "7f69d806",
   "metadata": {
    "execution": {
     "iopub.execute_input": "2022-06-26T20:10:20.634792Z",
     "iopub.status.busy": "2022-06-26T20:10:20.634042Z",
     "iopub.status.idle": "2022-06-26T20:10:20.653899Z",
     "shell.execute_reply": "2022-06-26T20:10:20.653328Z"
    },
    "papermill": {
     "duration": 0.054015,
     "end_time": "2022-06-26T20:10:20.654029",
     "exception": false,
     "start_time": "2022-06-26T20:10:20.600014",
     "status": "completed"
    },
    "tags": []
   },
   "outputs": [],
   "source": [
    "import mnist"
   ]
  },
  {
   "cell_type": "code",
   "execution_count": 5,
   "id": "a411e44f",
   "metadata": {
    "execution": {
     "iopub.execute_input": "2022-06-26T20:10:20.725968Z",
     "iopub.status.busy": "2022-06-26T20:10:20.720501Z",
     "iopub.status.idle": "2022-06-26T20:10:21.347748Z",
     "shell.execute_reply": "2022-06-26T20:10:21.347110Z"
    },
    "papermill": {
     "duration": 0.665182,
     "end_time": "2022-06-26T20:10:21.347922",
     "exception": false,
     "start_time": "2022-06-26T20:10:20.682740",
     "status": "completed"
    },
    "tags": []
   },
   "outputs": [],
   "source": [
    "train_images = mnist.train_images()\n",
    "train_labels = mnist.train_labels()"
   ]
  },
  {
   "cell_type": "code",
   "execution_count": 6,
   "id": "dceab3a5",
   "metadata": {
    "execution": {
     "iopub.execute_input": "2022-06-26T20:10:21.417227Z",
     "iopub.status.busy": "2022-06-26T20:10:21.416466Z",
     "iopub.status.idle": "2022-06-26T20:10:21.434373Z",
     "shell.execute_reply": "2022-06-26T20:10:21.433658Z"
    },
    "papermill": {
     "duration": 0.054593,
     "end_time": "2022-06-26T20:10:21.434506",
     "exception": false,
     "start_time": "2022-06-26T20:10:21.379913",
     "status": "completed"
    },
    "tags": []
   },
   "outputs": [
    {
     "data": {
      "text/plain": [
       "((60000, 28, 28), (60000,))"
      ]
     },
     "execution_count": 6,
     "metadata": {},
     "output_type": "execute_result"
    }
   ],
   "source": [
    "train_images.shape, train_labels.shape"
   ]
  },
  {
   "cell_type": "code",
   "execution_count": 7,
   "id": "f50dc2bb",
   "metadata": {
    "execution": {
     "iopub.execute_input": "2022-06-26T20:10:21.523081Z",
     "iopub.status.busy": "2022-06-26T20:10:21.522341Z",
     "iopub.status.idle": "2022-06-26T20:10:21.716686Z",
     "shell.execute_reply": "2022-06-26T20:10:21.716073Z"
    },
    "papermill": {
     "duration": 0.248791,
     "end_time": "2022-06-26T20:10:21.716846",
     "exception": false,
     "start_time": "2022-06-26T20:10:21.468055",
     "status": "completed"
    },
    "tags": []
   },
   "outputs": [],
   "source": [
    "test_images = mnist.test_images()\n",
    "test_labels = mnist.test_labels()"
   ]
  },
  {
   "cell_type": "code",
   "execution_count": 8,
   "id": "fc38cf1b",
   "metadata": {
    "execution": {
     "iopub.execute_input": "2022-06-26T20:10:21.782535Z",
     "iopub.status.busy": "2022-06-26T20:10:21.781891Z",
     "iopub.status.idle": "2022-06-26T20:10:21.794925Z",
     "shell.execute_reply": "2022-06-26T20:10:21.794261Z"
    },
    "papermill": {
     "duration": 0.048383,
     "end_time": "2022-06-26T20:10:21.795053",
     "exception": false,
     "start_time": "2022-06-26T20:10:21.746670",
     "status": "completed"
    },
    "tags": []
   },
   "outputs": [
    {
     "data": {
      "text/plain": [
       "((10000, 28, 28), (10000,))"
      ]
     },
     "execution_count": 8,
     "metadata": {},
     "output_type": "execute_result"
    }
   ],
   "source": [
    "test_images.shape, test_labels.shape"
   ]
  },
  {
   "cell_type": "code",
   "execution_count": 9,
   "id": "f9ed8fe0",
   "metadata": {
    "execution": {
     "iopub.execute_input": "2022-06-26T20:10:21.866771Z",
     "iopub.status.busy": "2022-06-26T20:10:21.865952Z",
     "iopub.status.idle": "2022-06-26T20:10:22.041557Z",
     "shell.execute_reply": "2022-06-26T20:10:22.040619Z"
    },
    "papermill": {
     "duration": 0.21531,
     "end_time": "2022-06-26T20:10:22.041710",
     "exception": false,
     "start_time": "2022-06-26T20:10:21.826400",
     "status": "completed"
    },
    "tags": []
   },
   "outputs": [
    {
     "name": "stdout",
     "output_type": "stream",
     "text": [
      "2\n"
     ]
    },
    {
     "data": {
      "text/plain": [
       "<matplotlib.image.AxesImage at 0x7ff9f5e30400>"
      ]
     },
     "execution_count": 9,
     "metadata": {},
     "output_type": "execute_result"
    },
    {
     "data": {
      "image/png": "[encoded data removed]",
      "text/plain": [
       "<Figure size 432x288 with 1 Axes>"
      ]
     },
     "metadata": {
      "needs_background": "light"
     },
     "output_type": "display_data"
    }
   ],
   "source": [
    "image_index = 7776 # You may select anything up to 60,000\n",
    "print(train_labels[image_index]) \n",
    "plt.imshow(train_images[image_index], cmap='Greys')"
   ]
  },
  {
   "cell_type": "markdown",
   "id": "a8d2388d",
   "metadata": {
    "papermill": {
     "duration": 0.036654,
     "end_time": "2022-06-26T20:10:22.117254",
     "exception": false,
     "start_time": "2022-06-26T20:10:22.080600",
     "status": "completed"
    },
    "tags": []
   },
   "source": [
    "## Filter data to get 3 and 8 out"
   ]
  },
  {
   "cell_type": "code",
   "execution_count": 10,
   "id": "776f7fc7",
   "metadata": {
    "execution": {
     "iopub.execute_input": "2022-06-26T20:10:22.199394Z",
     "iopub.status.busy": "2022-06-26T20:10:22.189978Z",
     "iopub.status.idle": "2022-06-26T20:10:22.215372Z",
     "shell.execute_reply": "2022-06-26T20:10:22.214772Z"
    },
    "papermill": {
     "duration": 0.064273,
     "end_time": "2022-06-26T20:10:22.215515",
     "exception": false,
     "start_time": "2022-06-26T20:10:22.151242",
     "status": "completed"
    },
    "tags": []
   },
   "outputs": [],
   "source": [
    "train_filter = np.where((train_labels == 3 ) | (train_labels == 8))\n",
    "test_filter = np.where((test_labels == 3) | (test_labels == 8))\n",
    "X_train, y_train = train_images[train_filter], train_labels[train_filter]\n",
    "X_test, y_test = test_images[test_filter], test_labels[test_filter]"
   ]
  },
  {
   "cell_type": "markdown",
   "id": "948f0b7e",
   "metadata": {
    "papermill": {
     "duration": 0.032827,
     "end_time": "2022-06-26T20:10:22.280647",
     "exception": false,
     "start_time": "2022-06-26T20:10:22.247820",
     "status": "completed"
    },
    "tags": []
   },
   "source": [
    "We normalize the pizel values in the 0 to 1 range"
   ]
  },
  {
   "cell_type": "code",
   "execution_count": 11,
   "id": "ee4c2166",
   "metadata": {
    "execution": {
     "iopub.execute_input": "2022-06-26T20:10:22.356074Z",
     "iopub.status.busy": "2022-06-26T20:10:22.355379Z",
     "iopub.status.idle": "2022-06-26T20:10:22.415789Z",
     "shell.execute_reply": "2022-06-26T20:10:22.415226Z"
    },
    "papermill": {
     "duration": 0.104365,
     "end_time": "2022-06-26T20:10:22.415933",
     "exception": false,
     "start_time": "2022-06-26T20:10:22.311568",
     "status": "completed"
    },
    "tags": []
   },
   "outputs": [],
   "source": [
    "X_train = X_train/255.\n",
    "X_test = X_test/255."
   ]
  },
  {
   "cell_type": "markdown",
   "id": "ddcf4fab",
   "metadata": {
    "papermill": {
     "duration": 0.031704,
     "end_time": "2022-06-26T20:10:22.478405",
     "exception": false,
     "start_time": "2022-06-26T20:10:22.446701",
     "status": "completed"
    },
    "tags": []
   },
   "source": [
    "And setup the labels as 1 (when the digit is 3) and 0 (when the digit is 8)"
   ]
  },
  {
   "cell_type": "code",
   "execution_count": 12,
   "id": "7dc908f2",
   "metadata": {
    "execution": {
     "iopub.execute_input": "2022-06-26T20:10:22.558494Z",
     "iopub.status.busy": "2022-06-26T20:10:22.551353Z",
     "iopub.status.idle": "2022-06-26T20:10:22.561539Z",
     "shell.execute_reply": "2022-06-26T20:10:22.562174Z"
    },
    "papermill": {
     "duration": 0.051317,
     "end_time": "2022-06-26T20:10:22.562316",
     "exception": false,
     "start_time": "2022-06-26T20:10:22.510999",
     "status": "completed"
    },
    "tags": []
   },
   "outputs": [],
   "source": [
    "y_train = 1*(y_train==3)\n",
    "y_test = 1*(y_test==3)"
   ]
  },
  {
   "cell_type": "code",
   "execution_count": 13,
   "id": "01e4e969",
   "metadata": {
    "execution": {
     "iopub.execute_input": "2022-06-26T20:10:22.630584Z",
     "iopub.status.busy": "2022-06-26T20:10:22.629913Z",
     "iopub.status.idle": "2022-06-26T20:10:22.642550Z",
     "shell.execute_reply": "2022-06-26T20:10:22.643108Z"
    },
    "papermill": {
     "duration": 0.050547,
     "end_time": "2022-06-26T20:10:22.643268",
     "exception": false,
     "start_time": "2022-06-26T20:10:22.592721",
     "status": "completed"
    },
    "tags": []
   },
   "outputs": [
    {
     "data": {
      "text/plain": [
       "((11982, 28, 28), (1984, 28, 28))"
      ]
     },
     "execution_count": 13,
     "metadata": {},
     "output_type": "execute_result"
    }
   ],
   "source": [
    "X_train.shape, X_test.shape"
   ]
  },
  {
   "cell_type": "markdown",
   "id": "5ccf3f85",
   "metadata": {
    "papermill": {
     "duration": 0.033562,
     "end_time": "2022-06-26T20:10:22.713372",
     "exception": false,
     "start_time": "2022-06-26T20:10:22.679810",
     "status": "completed"
    },
    "tags": []
   },
   "source": [
    "We reshape the data to flatten the image pixels into a set of features or co-variates:"
   ]
  },
  {
   "cell_type": "code",
   "execution_count": 14,
   "id": "5286a4a3",
   "metadata": {
    "execution": {
     "iopub.execute_input": "2022-06-26T20:10:22.782531Z",
     "iopub.status.busy": "2022-06-26T20:10:22.781869Z",
     "iopub.status.idle": "2022-06-26T20:10:22.796718Z",
     "shell.execute_reply": "2022-06-26T20:10:22.796175Z"
    },
    "papermill": {
     "duration": 0.051677,
     "end_time": "2022-06-26T20:10:22.796840",
     "exception": false,
     "start_time": "2022-06-26T20:10:22.745163",
     "status": "completed"
    },
    "tags": []
   },
   "outputs": [
    {
     "data": {
      "text/plain": [
       "((11982, 784), (1984, 784))"
      ]
     },
     "execution_count": 14,
     "metadata": {},
     "output_type": "execute_result"
    }
   ],
   "source": [
    "X_train = X_train.reshape(X_train.shape[0], -1)\n",
    "X_test = X_test.reshape(X_test.shape[0], -1)\n",
    "X_train.shape, X_test.shape"
   ]
  },
  {
   "cell_type": "code",
   "execution_count": 15,
   "id": "73c5f88a",
   "metadata": {
    "execution": {
     "iopub.execute_input": "2022-06-26T20:10:22.867075Z",
     "iopub.status.busy": "2022-06-26T20:10:22.866381Z",
     "iopub.status.idle": "2022-06-26T20:10:22.886904Z",
     "shell.execute_reply": "2022-06-26T20:10:22.886356Z"
    },
    "papermill": {
     "duration": 0.057481,
     "end_time": "2022-06-26T20:10:22.887027",
     "exception": false,
     "start_time": "2022-06-26T20:10:22.829546",
     "status": "completed"
    },
    "tags": []
   },
   "outputs": [],
   "source": [
    "#Impoting functions from 'Kudzu'\n",
    "from kudzu.model import Model\n",
    "from kudzu.train import Learner\n",
    "from kudzu.optim import GD\n",
    "from kudzu.data import Data, Sampler,Dataloader\n",
    "\n",
    "from kudzu.callbacks import AccCallback\n",
    "from kudzu.callbacks import ClfCallback\n",
    "\n",
    "from kudzu.loss import MSE\n",
    "\n",
    "from kudzu.layer import Sigmoid,Relu\n",
    "from kudzu.layer import Affine"
   ]
  },
  {
   "cell_type": "markdown",
   "id": "bc01172a",
   "metadata": {
    "papermill": {
     "duration": 0.03158,
     "end_time": "2022-06-26T20:10:22.951193",
     "exception": false,
     "start_time": "2022-06-26T20:10:22.919613",
     "status": "completed"
    },
    "tags": []
   },
   "source": [
    "### Let us create a `Config` class, to store important parameters. \n",
    "This class essentially plays the role of a dictionary."
   ]
  },
  {
   "cell_type": "code",
   "execution_count": 16,
   "id": "978281aa",
   "metadata": {
    "execution": {
     "iopub.execute_input": "2022-06-26T20:10:23.021309Z",
     "iopub.status.busy": "2022-06-26T20:10:23.020559Z",
     "iopub.status.idle": "2022-06-26T20:10:23.031704Z",
     "shell.execute_reply": "2022-06-26T20:10:23.032555Z"
    },
    "papermill": {
     "duration": 0.050382,
     "end_time": "2022-06-26T20:10:23.032742",
     "exception": false,
     "start_time": "2022-06-26T20:10:22.982360",
     "status": "completed"
    },
    "tags": []
   },
   "outputs": [],
   "source": [
    "class Config:\n",
    "    pass\n",
    "config = Config()\n",
    "config.lr = 0.001\n",
    "config.num_epochs = 250\n",
    "config.bs = 50"
   ]
  },
  {
   "cell_type": "markdown",
   "id": "1385fa59",
   "metadata": {
    "papermill": {
     "duration": 0.031698,
     "end_time": "2022-06-26T20:10:23.101907",
     "exception": false,
     "start_time": "2022-06-26T20:10:23.070209",
     "status": "completed"
    },
    "tags": []
   },
   "source": [
    "### Running Models with the Training data\n",
    "Details about the network layers:\n",
    "- A first affine layer has 784 inputs and does 100 affine transforms. These are followed by a Relu\n",
    "- A second affine layer has 100 inputs from the 100 activations of the past layer, and does 100 affine transforms. These are followed by a Relu\n",
    "- A third affine layer has 100 activations and does 2 affine transformations to create an embedding for visualization. There is no non-linearity here.\n",
    "- A final \"logistic regression\" which has an affine transform from 2 inputs to 1 output, which is squeezed through a sigmoid.\n"
   ]
  },
  {
   "cell_type": "code",
   "execution_count": 17,
   "id": "2b9c66db",
   "metadata": {
    "execution": {
     "iopub.execute_input": "2022-06-26T20:10:23.174890Z",
     "iopub.status.busy": "2022-06-26T20:10:23.174169Z",
     "iopub.status.idle": "2022-06-26T20:10:23.187046Z",
     "shell.execute_reply": "2022-06-26T20:10:23.186496Z"
    },
    "papermill": {
     "duration": 0.053976,
     "end_time": "2022-06-26T20:10:23.187168",
     "exception": false,
     "start_time": "2022-06-26T20:10:23.133192",
     "status": "completed"
    },
    "tags": []
   },
   "outputs": [],
   "source": [
    "data = Data(X_train, y_train.reshape(-1,1))\n",
    "sampler = Sampler(data, config.bs, shuffle=True)\n",
    "\n",
    "dl = Dataloader(data, sampler)\n",
    "\n",
    "opt = GD(config.lr)\n",
    "loss = MSE()"
   ]
  },
  {
   "cell_type": "code",
   "execution_count": 18,
   "id": "b275e4c2",
   "metadata": {
    "execution": {
     "iopub.execute_input": "2022-06-26T20:10:23.276870Z",
     "iopub.status.busy": "2022-06-26T20:10:23.274162Z",
     "iopub.status.idle": "2022-06-26T20:10:23.280200Z",
     "shell.execute_reply": "2022-06-26T20:10:23.279514Z"
    },
    "papermill": {
     "duration": 0.055838,
     "end_time": "2022-06-26T20:10:23.280320",
     "exception": false,
     "start_time": "2022-06-26T20:10:23.224482",
     "status": "completed"
    },
    "tags": []
   },
   "outputs": [],
   "source": [
    "training_data_x = X_train\n",
    "testing_data_x = X_test\n",
    "training_data_y = y_train.reshape(-1,1)\n",
    "testing_data_y = y_test.reshape(-1,1)"
   ]
  },
  {
   "cell_type": "code",
   "execution_count": 19,
   "id": "76951160",
   "metadata": {
    "execution": {
     "iopub.execute_input": "2022-06-26T20:10:23.347770Z",
     "iopub.status.busy": "2022-06-26T20:10:23.347103Z",
     "iopub.status.idle": "2022-06-26T20:10:23.365131Z",
     "shell.execute_reply": "2022-06-26T20:10:23.364566Z"
    },
    "papermill": {
     "duration": 0.052623,
     "end_time": "2022-06-26T20:10:23.365252",
     "exception": false,
     "start_time": "2022-06-26T20:10:23.312629",
     "status": "completed"
    },
    "tags": []
   },
   "outputs": [
    {
     "name": "stdout",
     "output_type": "stream",
     "text": [
      "xavier\n",
      "xavier\n",
      "xavier\n",
      "xavier\n",
      "xavier\n"
     ]
    }
   ],
   "source": [
    "layers = [Affine(\"first\", 784, 100), Relu(\"first\"), Affine(\"second\", 100, 100), Relu(\"second\"), Affine(\"third\", 100, 2), Affine(\"last\", 2, 1), Sigmoid(\"last\")]\n",
    "model_nn = Model(layers)\n",
    "model_lr = Model([Affine(\"logits\", 784, 1), Sigmoid(\"sigmoid\")])"
   ]
  },
  {
   "cell_type": "code",
   "execution_count": 20,
   "id": "6eede77a",
   "metadata": {
    "execution": {
     "iopub.execute_input": "2022-06-26T20:10:23.446503Z",
     "iopub.status.busy": "2022-06-26T20:10:23.445066Z",
     "iopub.status.idle": "2022-06-26T20:10:23.456597Z",
     "shell.execute_reply": "2022-06-26T20:10:23.455946Z"
    },
    "papermill": {
     "duration": 0.055059,
     "end_time": "2022-06-26T20:10:23.456725",
     "exception": false,
     "start_time": "2022-06-26T20:10:23.401666",
     "status": "completed"
    },
    "tags": []
   },
   "outputs": [],
   "source": [
    "nn_learner = Learner(loss, model_nn, opt, config.num_epochs)\n",
    "acc_nn = ClfCallback(nn_learner, config.bs, training_data_x , testing_data_x, training_data_y, testing_data_y)\n",
    "nn_learner.set_callbacks([acc_nn])"
   ]
  },
  {
   "cell_type": "code",
   "execution_count": 21,
   "id": "877b6cc7",
   "metadata": {
    "execution": {
     "iopub.execute_input": "2022-06-26T20:10:23.523579Z",
     "iopub.status.busy": "2022-06-26T20:10:23.522866Z",
     "iopub.status.idle": "2022-06-26T20:10:23.536574Z",
     "shell.execute_reply": "2022-06-26T20:10:23.536042Z"
    },
    "papermill": {
     "duration": 0.048073,
     "end_time": "2022-06-26T20:10:23.536689",
     "exception": false,
     "start_time": "2022-06-26T20:10:23.488616",
     "status": "completed"
    },
    "tags": []
   },
   "outputs": [],
   "source": [
    "lr_learner = Learner(loss, model_lr, opt, config.num_epochs)\n",
    "acc_lr = ClfCallback(lr_learner, config.bs, training_data_x , testing_data_x, training_data_y, testing_data_y)\n",
    "lr_learner.set_callbacks([acc_lr])"
   ]
  },
  {
   "cell_type": "code",
   "execution_count": 22,
   "id": "d9b133c3",
   "metadata": {
    "execution": {
     "iopub.execute_input": "2022-06-26T20:10:23.623596Z",
     "iopub.status.busy": "2022-06-26T20:10:23.622814Z",
     "iopub.status.idle": "2022-06-26T20:12:32.945736Z",
     "shell.execute_reply": "2022-06-26T20:12:32.946708Z"
    },
    "papermill": {
     "duration": 129.376933,
     "end_time": "2022-06-26T20:12:32.946869",
     "exception": false,
     "start_time": "2022-06-26T20:10:23.569936",
     "status": "completed"
    },
    "tags": []
   },
   "outputs": [
    {
     "name": "stdout",
     "output_type": "stream",
     "text": [
      "Epoch 0, Loss 0.2386\n",
      "Training Accuracy: 0.7434, Testing Accuracy: 0.7676\n",
      "\n"
     ]
    },
    {
     "name": "stdout",
     "output_type": "stream",
     "text": [
      "Epoch 10, Loss 0.0727\n",
      "Training Accuracy: 0.9246, Testing Accuracy: 0.9385\n",
      "\n"
     ]
    },
    {
     "name": "stdout",
     "output_type": "stream",
     "text": [
      "Epoch 20, Loss 0.0494\n",
      "Training Accuracy: 0.9465, Testing Accuracy: 0.9536\n",
      "\n"
     ]
    },
    {
     "name": "stdout",
     "output_type": "stream",
     "text": [
      "Epoch 30, Loss 0.0404\n",
      "Training Accuracy: 0.9558, Testing Accuracy: 0.9622\n",
      "\n"
     ]
    },
    {
     "name": "stdout",
     "output_type": "stream",
     "text": [
      "Epoch 40, Loss 0.0354\n",
      "Training Accuracy: 0.9601, Testing Accuracy: 0.9667\n",
      "\n"
     ]
    },
    {
     "name": "stdout",
     "output_type": "stream",
     "text": [
      "Epoch 50, Loss 0.0322\n",
      "Training Accuracy: 0.9633, Testing Accuracy: 0.9688\n",
      "\n"
     ]
    },
    {
     "name": "stdout",
     "output_type": "stream",
     "text": [
      "Epoch 60, Loss 0.0299\n",
      "Training Accuracy: 0.9652, Testing Accuracy: 0.9693\n",
      "\n"
     ]
    },
    {
     "name": "stdout",
     "output_type": "stream",
     "text": [
      "Epoch 70, Loss 0.028\n",
      "Training Accuracy: 0.9676, Testing Accuracy: 0.9703\n",
      "\n"
     ]
    },
    {
     "name": "stdout",
     "output_type": "stream",
     "text": [
      "Epoch 80, Loss 0.0266\n",
      "Training Accuracy: 0.9694, Testing Accuracy: 0.9703\n",
      "\n"
     ]
    },
    {
     "name": "stdout",
     "output_type": "stream",
     "text": [
      "Epoch 90, Loss 0.0254\n",
      "Training Accuracy: 0.9709, Testing Accuracy: 0.9698\n",
      "\n"
     ]
    },
    {
     "name": "stdout",
     "output_type": "stream",
     "text": [
      "Epoch 100, Loss 0.0244\n",
      "Training Accuracy: 0.9721, Testing Accuracy: 0.9708\n",
      "\n"
     ]
    },
    {
     "name": "stdout",
     "output_type": "stream",
     "text": [
      "Epoch 110, Loss 0.0235\n",
      "Training Accuracy: 0.9740, Testing Accuracy: 0.9713\n",
      "\n"
     ]
    },
    {
     "name": "stdout",
     "output_type": "stream",
     "text": [
      "Epoch 120, Loss 0.0226\n",
      "Training Accuracy: 0.9748, Testing Accuracy: 0.9708\n",
      "\n"
     ]
    },
    {
     "name": "stdout",
     "output_type": "stream",
     "text": [
      "Epoch 130, Loss 0.0219\n",
      "Training Accuracy: 0.9755, Testing Accuracy: 0.9728\n",
      "\n"
     ]
    },
    {
     "name": "stdout",
     "output_type": "stream",
     "text": [
      "Epoch 140, Loss 0.0213\n",
      "Training Accuracy: 0.9761, Testing Accuracy: 0.9738\n",
      "\n"
     ]
    },
    {
     "name": "stdout",
     "output_type": "stream",
     "text": [
      "Epoch 150, Loss 0.0206\n",
      "Training Accuracy: 0.9768, Testing Accuracy: 0.9738\n",
      "\n"
     ]
    },
    {
     "name": "stdout",
     "output_type": "stream",
     "text": [
      "Epoch 160, Loss 0.0201\n",
      "Training Accuracy: 0.9776, Testing Accuracy: 0.9738\n",
      "\n"
     ]
    },
    {
     "name": "stdout",
     "output_type": "stream",
     "text": [
      "Epoch 170, Loss 0.0195\n",
      "Training Accuracy: 0.9783, Testing Accuracy: 0.9738\n",
      "\n"
     ]
    },
    {
     "name": "stdout",
     "output_type": "stream",
     "text": [
      "Epoch 180, Loss 0.019\n",
      "Training Accuracy: 0.9791, Testing Accuracy: 0.9743\n",
      "\n"
     ]
    },
    {
     "name": "stdout",
     "output_type": "stream",
     "text": [
      "Epoch 190, Loss 0.0185\n",
      "Training Accuracy: 0.9793, Testing Accuracy: 0.9758\n",
      "\n"
     ]
    },
    {
     "name": "stdout",
     "output_type": "stream",
     "text": [
      "Epoch 200, Loss 0.018\n",
      "Training Accuracy: 0.9805, Testing Accuracy: 0.9758\n",
      "\n"
     ]
    },
    {
     "name": "stdout",
     "output_type": "stream",
     "text": [
      "Epoch 210, Loss 0.0176\n",
      "Training Accuracy: 0.9810, Testing Accuracy: 0.9758\n",
      "\n"
     ]
    },
    {
     "name": "stdout",
     "output_type": "stream",
     "text": [
      "Epoch 220, Loss 0.0171\n",
      "Training Accuracy: 0.9817, Testing Accuracy: 0.9763\n",
      "\n"
     ]
    },
    {
     "name": "stdout",
     "output_type": "stream",
     "text": [
      "Epoch 230, Loss 0.0167\n",
      "Training Accuracy: 0.9822, Testing Accuracy: 0.9773\n",
      "\n"
     ]
    },
    {
     "name": "stdout",
     "output_type": "stream",
     "text": [
      "Epoch 240, Loss 0.0163\n",
      "Training Accuracy: 0.9829, Testing Accuracy: 0.9778\n",
      "\n"
     ]
    },
    {
     "data": {
      "text/plain": [
       "0.04425843575910491"
      ]
     },
     "execution_count": 22,
     "metadata": {},
     "output_type": "execute_result"
    }
   ],
   "source": [
    "nn_learner.train_loop(dl)"
   ]
  },
  {
   "cell_type": "code",
   "execution_count": 23,
   "id": "e0163366",
   "metadata": {
    "execution": {
     "iopub.execute_input": "2022-06-26T20:12:33.050894Z",
     "iopub.status.busy": "2022-06-26T20:12:33.050172Z",
     "iopub.status.idle": "2022-06-26T20:12:52.036437Z",
     "shell.execute_reply": "2022-06-26T20:12:52.037358Z"
    },
    "papermill": {
     "duration": 19.048005,
     "end_time": "2022-06-26T20:12:52.037519",
     "exception": false,
     "start_time": "2022-06-26T20:12:32.989514",
     "status": "completed"
    },
    "tags": []
   },
   "outputs": [
    {
     "name": "stdout",
     "output_type": "stream",
     "text": [
      "Epoch 0, Loss 0.2541\n",
      "Training Accuracy: 0.6760, Testing Accuracy: 0.6699\n",
      "\n"
     ]
    },
    {
     "name": "stdout",
     "output_type": "stream",
     "text": [
      "Epoch 10, Loss 0.1\n",
      "Training Accuracy: 0.9214, Testing Accuracy: 0.9284\n",
      "\n"
     ]
    },
    {
     "name": "stdout",
     "output_type": "stream",
     "text": [
      "Epoch 20, Loss 0.0766\n",
      "Training Accuracy: 0.9340, Testing Accuracy: 0.9425\n",
      "\n"
     ]
    },
    {
     "name": "stdout",
     "output_type": "stream",
     "text": [
      "Epoch 30, Loss 0.0661\n",
      "Training Accuracy: 0.9405, Testing Accuracy: 0.9496\n",
      "\n"
     ]
    },
    {
     "name": "stdout",
     "output_type": "stream",
     "text": [
      "Epoch 40, Loss 0.0599\n",
      "Training Accuracy: 0.9442, Testing Accuracy: 0.9531\n",
      "\n"
     ]
    },
    {
     "name": "stdout",
     "output_type": "stream",
     "text": [
      "Epoch 50, Loss 0.0557\n",
      "Training Accuracy: 0.9471, Testing Accuracy: 0.9567\n",
      "\n"
     ]
    },
    {
     "name": "stdout",
     "output_type": "stream",
     "text": [
      "Epoch 60, Loss 0.0526\n",
      "Training Accuracy: 0.9486, Testing Accuracy: 0.9587\n",
      "\n"
     ]
    },
    {
     "name": "stdout",
     "output_type": "stream",
     "text": [
      "Epoch 70, Loss 0.0502\n",
      "Training Accuracy: 0.9499, Testing Accuracy: 0.9602\n",
      "\n"
     ]
    },
    {
     "name": "stdout",
     "output_type": "stream",
     "text": [
      "Epoch 80, Loss 0.0482\n",
      "Training Accuracy: 0.9516, Testing Accuracy: 0.9597\n",
      "\n"
     ]
    },
    {
     "name": "stdout",
     "output_type": "stream",
     "text": [
      "Epoch 90, Loss 0.0467\n",
      "Training Accuracy: 0.9537, Testing Accuracy: 0.9602\n",
      "\n"
     ]
    },
    {
     "name": "stdout",
     "output_type": "stream",
     "text": [
      "Epoch 100, Loss 0.0453\n",
      "Training Accuracy: 0.9543, Testing Accuracy: 0.9597\n",
      "\n"
     ]
    },
    {
     "name": "stdout",
     "output_type": "stream",
     "text": [
      "Epoch 110, Loss 0.0442\n",
      "Training Accuracy: 0.9552, Testing Accuracy: 0.9617\n",
      "\n"
     ]
    },
    {
     "name": "stdout",
     "output_type": "stream",
     "text": [
      "Epoch 120, Loss 0.0432\n",
      "Training Accuracy: 0.9554, Testing Accuracy: 0.9632\n",
      "\n"
     ]
    },
    {
     "name": "stdout",
     "output_type": "stream",
     "text": [
      "Epoch 130, Loss 0.0423\n",
      "Training Accuracy: 0.9561, Testing Accuracy: 0.9632\n",
      "\n"
     ]
    },
    {
     "name": "stdout",
     "output_type": "stream",
     "text": [
      "Epoch 140, Loss 0.0415\n",
      "Training Accuracy: 0.9567, Testing Accuracy: 0.9632\n",
      "\n"
     ]
    },
    {
     "name": "stdout",
     "output_type": "stream",
     "text": [
      "Epoch 150, Loss 0.0408\n",
      "Training Accuracy: 0.9571, Testing Accuracy: 0.9632\n",
      "\n"
     ]
    },
    {
     "name": "stdout",
     "output_type": "stream",
     "text": [
      "Epoch 160, Loss 0.0401\n",
      "Training Accuracy: 0.9581, Testing Accuracy: 0.9637\n",
      "\n"
     ]
    },
    {
     "name": "stdout",
     "output_type": "stream",
     "text": [
      "Epoch 170, Loss 0.0396\n",
      "Training Accuracy: 0.9587, Testing Accuracy: 0.9642\n",
      "\n"
     ]
    },
    {
     "name": "stdout",
     "output_type": "stream",
     "text": [
      "Epoch 180, Loss 0.039\n",
      "Training Accuracy: 0.9589, Testing Accuracy: 0.9642\n",
      "\n"
     ]
    },
    {
     "name": "stdout",
     "output_type": "stream",
     "text": [
      "Epoch 190, Loss 0.0385\n",
      "Training Accuracy: 0.9593, Testing Accuracy: 0.9642\n",
      "\n"
     ]
    },
    {
     "name": "stdout",
     "output_type": "stream",
     "text": [
      "Epoch 200, Loss 0.0381\n",
      "Training Accuracy: 0.9598, Testing Accuracy: 0.9647\n",
      "\n"
     ]
    },
    {
     "name": "stdout",
     "output_type": "stream",
     "text": [
      "Epoch 210, Loss 0.0377\n",
      "Training Accuracy: 0.9603, Testing Accuracy: 0.9642\n",
      "\n"
     ]
    },
    {
     "name": "stdout",
     "output_type": "stream",
     "text": [
      "Epoch 220, Loss 0.0373\n",
      "Training Accuracy: 0.9604, Testing Accuracy: 0.9642\n",
      "\n"
     ]
    },
    {
     "name": "stdout",
     "output_type": "stream",
     "text": [
      "Epoch 230, Loss 0.0369\n",
      "Training Accuracy: 0.9609, Testing Accuracy: 0.9647\n",
      "\n"
     ]
    },
    {
     "name": "stdout",
     "output_type": "stream",
     "text": [
      "Epoch 240, Loss 0.0365\n",
      "Training Accuracy: 0.9610, Testing Accuracy: 0.9642\n",
      "\n"
     ]
    },
    {
     "data": {
      "text/plain": [
       "0.047507944372522336"
      ]
     },
     "execution_count": 23,
     "metadata": {},
     "output_type": "execute_result"
    }
   ],
   "source": [
    "lr_learner.train_loop(dl)"
   ]
  },
  {
   "cell_type": "code",
   "execution_count": 24,
   "id": "ca410940",
   "metadata": {
    "execution": {
     "iopub.execute_input": "2022-06-26T20:12:52.147724Z",
     "iopub.status.busy": "2022-06-26T20:12:52.146873Z",
     "iopub.status.idle": "2022-06-26T20:12:52.444431Z",
     "shell.execute_reply": "2022-06-26T20:12:52.444999Z"
    },
    "papermill": {
     "duration": 0.356337,
     "end_time": "2022-06-26T20:12:52.445191",
     "exception": false,
     "start_time": "2022-06-26T20:12:52.088854",
     "status": "completed"
    },
    "tags": []
   },
   "outputs": [
    {
     "data": {
      "text/plain": [
       "<matplotlib.legend.Legend at 0x7ff9f5990a20>"
      ]
     },
     "execution_count": 24,
     "metadata": {},
     "output_type": "execute_result"
    },
    {
     "data": {
      "image/png": "[encoded data removed]",
      "text/plain": [
       "<Figure size 1080x720 with 1 Axes>"
      ]
     },
     "metadata": {
      "needs_background": "light"
     },
     "output_type": "display_data"
    }
   ],
   "source": [
    "#comparing the results of NN and LR\n",
    "plt.figure(figsize=(15,10))\n",
    "\n",
    "# Neural Network plots\n",
    "plt.plot(acc_nn.accuracies, 'r-', label = \"Training Accuracies - NN\")\n",
    "plt.plot(acc_nn.test_accuracies, 'g-', label = \"Testing Accuracies - NN\")\n",
    "\n",
    "# Logistic Regression plots\n",
    "plt.plot(acc_lr.accuracies, 'k-', label = \"Training Accuracies - LR\")\n",
    "plt.plot(acc_lr.test_accuracies, 'b-', label = \"Testing Accuracies - LR\")\n",
    "plt.legend()"
   ]
  },
  {
   "cell_type": "markdown",
   "id": "80dfb35c",
   "metadata": {
    "papermill": {
     "duration": 0.049359,
     "end_time": "2022-06-26T20:12:52.544370",
     "exception": false,
     "start_time": "2022-06-26T20:12:52.495011",
     "status": "completed"
    },
    "tags": []
   },
   "source": [
    "#### Plotting the outputs of this layer of the NN.\n"
   ]
  },
  {
   "cell_type": "code",
   "execution_count": 25,
   "id": "45eb2ff5",
   "metadata": {
    "execution": {
     "iopub.execute_input": "2022-06-26T20:12:52.649990Z",
     "iopub.status.busy": "2022-06-26T20:12:52.649319Z",
     "iopub.status.idle": "2022-06-26T20:12:52.672916Z",
     "shell.execute_reply": "2022-06-26T20:12:52.673746Z"
    },
    "papermill": {
     "duration": 0.081044,
     "end_time": "2022-06-26T20:12:52.673908",
     "exception": false,
     "start_time": "2022-06-26T20:12:52.592864",
     "status": "completed"
    },
    "tags": []
   },
   "outputs": [],
   "source": [
    "new_model = Model(layers[:-2])\n",
    "testing_plot = new_model(testing_data_x)"
   ]
  },
  {
   "cell_type": "code",
   "execution_count": 26,
   "id": "4c0a5485",
   "metadata": {
    "execution": {
     "iopub.execute_input": "2022-06-26T20:12:52.785771Z",
     "iopub.status.busy": "2022-06-26T20:12:52.784688Z",
     "iopub.status.idle": "2022-06-26T20:12:53.027181Z",
     "shell.execute_reply": "2022-06-26T20:12:53.026570Z"
    },
    "papermill": {
     "duration": 0.304064,
     "end_time": "2022-06-26T20:12:53.027338",
     "exception": false,
     "start_time": "2022-06-26T20:12:52.723274",
     "status": "completed"
    },
    "tags": []
   },
   "outputs": [
    {
     "data": {
      "text/plain": [
       "Text(0.5, 1.0, 'Outputs')"
      ]
     },
     "execution_count": 26,
     "metadata": {},
     "output_type": "execute_result"
    },
    {
     "data": {
      "image/png": "[encoded data removed]",
      "text/plain": [
       "<Figure size 576x504 with 1 Axes>"
      ]
     },
     "metadata": {
      "needs_background": "light"
     },
     "output_type": "display_data"
    }
   ],
   "source": [
    "# Plotting the scatter plot of points and color coding by class\n",
    "plt.figure(figsize=(8,7))\n",
    "plt.scatter(testing_plot[:,0], testing_plot[:,1], alpha = 0.1, c = y_test.ravel());\n",
    "plt.title('Outputs')"
   ]
  },
  {
   "cell_type": "markdown",
   "id": "a74fcf8f",
   "metadata": {
    "papermill": {
     "duration": 0.077373,
     "end_time": "2022-06-26T20:12:53.160564",
     "exception": false,
     "start_time": "2022-06-26T20:12:53.083191",
     "status": "completed"
    },
    "tags": []
   },
   "source": [
    "Probability contours"
   ]
  },
  {
   "cell_type": "code",
   "execution_count": 27,
   "id": "d0afc8e3",
   "metadata": {
    "execution": {
     "iopub.execute_input": "2022-06-26T20:12:53.277787Z",
     "iopub.status.busy": "2022-06-26T20:12:53.277040Z",
     "iopub.status.idle": "2022-06-26T20:12:53.290665Z",
     "shell.execute_reply": "2022-06-26T20:12:53.289989Z"
    },
    "papermill": {
     "duration": 0.076653,
     "end_time": "2022-06-26T20:12:53.290814",
     "exception": false,
     "start_time": "2022-06-26T20:12:53.214161",
     "status": "completed"
    },
    "tags": []
   },
   "outputs": [],
   "source": [
    "model_prob = Model(layers[-2:]) "
   ]
  },
  {
   "cell_type": "code",
   "execution_count": 28,
   "id": "9b96e238",
   "metadata": {
    "execution": {
     "iopub.execute_input": "2022-06-26T20:12:53.414272Z",
     "iopub.status.busy": "2022-06-26T20:12:53.410989Z",
     "iopub.status.idle": "2022-06-26T20:12:53.423295Z",
     "shell.execute_reply": "2022-06-26T20:12:53.422777Z"
    },
    "papermill": {
     "duration": 0.077187,
     "end_time": "2022-06-26T20:12:53.423419",
     "exception": false,
     "start_time": "2022-06-26T20:12:53.346232",
     "status": "completed"
    },
    "tags": []
   },
   "outputs": [],
   "source": [
    "#creating the x and y ranges according to the above generated plot.\n",
    "x_range = np.linspace(-4, 1, 100) \n",
    "y_range = np.linspace(-6, 6, 100) \n",
    "x_grid, y_grid = np.meshgrid(x_range, y_range) # x_grid and y_grig are of size 100 X 100\n",
    "\n",
    "# converting x_grid and y_grid to continuous arrays\n",
    "x_gridflat = np.ravel(x_grid)\n",
    "y_gridflat = np.ravel(y_grid)\n",
    "\n",
    "# The last layer of the current model takes two columns as input. Hence transpose of np.vstack() is required.\n",
    "X = np.vstack((x_gridflat, y_gridflat)).T\n",
    "\n",
    "prob_contour = model_prob(X).reshape(100,100) "
   ]
  },
  {
   "cell_type": "code",
   "execution_count": 29,
   "id": "da72499a",
   "metadata": {
    "execution": {
     "iopub.execute_input": "2022-06-26T20:12:53.539001Z",
     "iopub.status.busy": "2022-06-26T20:12:53.537987Z",
     "iopub.status.idle": "2022-06-26T20:12:53.840343Z",
     "shell.execute_reply": "2022-06-26T20:12:53.840965Z"
    },
    "papermill": {
     "duration": 0.365696,
     "end_time": "2022-06-26T20:12:53.841192",
     "exception": false,
     "start_time": "2022-06-26T20:12:53.475496",
     "status": "completed"
    },
    "tags": []
   },
   "outputs": [
    {
     "data": {
      "image/png": "[encoded data removed]",
      "text/plain": [
       "<Figure size 720x648 with 1 Axes>"
      ]
     },
     "metadata": {
      "needs_background": "light"
     },
     "output_type": "display_data"
    }
   ],
   "source": [
    "plt.figure(figsize=(10,9))\n",
    "plt.scatter(testing_plot[:,0], testing_plot[:,1], alpha = 0.1, c = y_test.ravel())\n",
    "contours = plt.contour(x_grid,y_grid,prob_contour)\n",
    "plt.title('Probability Contours')\n",
    "plt.clabel(contours, inline = True );"
   ]
  },
  {
   "cell_type": "code",
   "execution_count": null,
   "id": "e81b4ac7",
   "metadata": {
    "papermill": {
     "duration": 0.054658,
     "end_time": "2022-06-26T20:12:53.951487",
     "exception": false,
     "start_time": "2022-06-26T20:12:53.896829",
     "status": "completed"
    },
    "tags": []
   },
   "outputs": [],
   "source": []
  }
 ],
 "metadata": {
  "kernelspec": {
   "display_name": "Python 3",
   "language": "python",
   "name": "python3"
  },
  "language_info": {
   "codemirror_mode": {
    "name": "ipython",
    "version": 3
   },
   "file_extension": ".py",
   "mimetype": "text/x-python",
   "name": "python",
   "nbconvert_exporter": "python",
   "pygments_lexer": "ipython3",
   "version": "3.6.15"
  },
  "papermill": {
   "default_parameters": {},
   "duration": 158.911413,
   "end_time": "2022-06-26T20:12:54.429335",
   "environment_variables": {},
   "exception": null,
   "input_path": "2020-08-11-part2.ipynb",
   "output_path": "2020-08-11-part2.ipynb",
   "parameters": {},
   "start_time": "2022-06-26T20:10:15.517922",
   "version": "2.3.3"
  }
 },
 "nbformat": 4,
 "nbformat_minor": 5
}