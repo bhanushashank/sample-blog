{
 "cells": [
  {
   "cell_type": "markdown",
   "id": "98380cd3",
   "metadata": {
    "papermill": {
     "duration": 0.028289,
     "end_time": "2022-08-26T20:10:42.972719",
     "exception": false,
     "start_time": "2022-08-26T20:10:42.944430",
     "status": "completed"
    },
    "tags": []
   },
   "source": [
    "# Distinguish Your Own Digits (DYOD)"
   ]
  },
  {
   "cell_type": "markdown",
   "id": "ef31240d",
   "metadata": {
    "papermill": {
     "duration": 0.021221,
     "end_time": "2022-08-26T20:10:43.015478",
     "exception": false,
     "start_time": "2022-08-26T20:10:42.994257",
     "status": "completed"
    },
    "tags": []
   },
   "source": [
    "You are going to write a classifier that distinguishes between the number 3 and number 8."
   ]
  },
  {
   "cell_type": "code",
   "execution_count": 1,
   "id": "b15c8646",
   "metadata": {
    "execution": {
     "iopub.execute_input": "2022-08-26T20:10:43.068887Z",
     "iopub.status.busy": "2022-08-26T20:10:43.068306Z",
     "iopub.status.idle": "2022-08-26T20:10:43.078565Z",
     "shell.execute_reply": "2022-08-26T20:10:43.078122Z"
    },
    "papermill": {
     "duration": 0.042091,
     "end_time": "2022-08-26T20:10:43.078689",
     "exception": false,
     "start_time": "2022-08-26T20:10:43.036598",
     "status": "completed"
    },
    "tags": []
   },
   "outputs": [],
   "source": [
    "%load_ext autoreload\n",
    "%autoreload 2"
   ]
  },
  {
   "cell_type": "code",
   "execution_count": 2,
   "id": "22ef38dc",
   "metadata": {
    "execution": {
     "iopub.execute_input": "2022-08-26T20:10:43.129420Z",
     "iopub.status.busy": "2022-08-26T20:10:43.128871Z",
     "iopub.status.idle": "2022-08-26T20:10:43.631649Z",
     "shell.execute_reply": "2022-08-26T20:10:43.631030Z"
    },
    "papermill": {
     "duration": 0.531989,
     "end_time": "2022-08-26T20:10:43.631800",
     "exception": false,
     "start_time": "2022-08-26T20:10:43.099811",
     "status": "completed"
    },
    "tags": []
   },
   "outputs": [],
   "source": [
    "%matplotlib inline\n",
    "import numpy as np\n",
    "import matplotlib.pyplot as plt\n",
    "import pandas as pd"
   ]
  },
  {
   "cell_type": "markdown",
   "id": "ba036198",
   "metadata": {
    "papermill": {
     "duration": 0.020972,
     "end_time": "2022-08-26T20:10:43.675341",
     "exception": false,
     "start_time": "2022-08-26T20:10:43.654369",
     "status": "completed"
    },
    "tags": []
   },
   "source": [
    "From the command line run `pip install mnist`. This is a library that will help you bring down the mnist dataset. If you run this from a notebook, you need to put  `!pip install mnist` in a cell by itself."
   ]
  },
  {
   "cell_type": "code",
   "execution_count": 3,
   "id": "bb6ad8a1",
   "metadata": {
    "execution": {
     "iopub.execute_input": "2022-08-26T20:10:43.729088Z",
     "iopub.status.busy": "2022-08-26T20:10:43.728514Z",
     "iopub.status.idle": "2022-08-26T20:10:45.249298Z",
     "shell.execute_reply": "2022-08-26T20:10:45.248474Z"
    },
    "papermill": {
     "duration": 1.553025,
     "end_time": "2022-08-26T20:10:45.249430",
     "exception": false,
     "start_time": "2022-08-26T20:10:43.696405",
     "status": "completed"
    },
    "tags": []
   },
   "outputs": [
    {
     "name": "stdout",
     "output_type": "stream",
     "text": [
      "Collecting mnist\r\n",
      "  Downloading mnist-0.2.2-py2.py3-none-any.whl (3.5 kB)\r\n"
     ]
    },
    {
     "name": "stdout",
     "output_type": "stream",
     "text": [
      "Requirement already satisfied: numpy in /opt/hostedtoolcache/Python/3.6.15/x64/lib/python3.6/site-packages (from mnist) (1.19.5)\r\n"
     ]
    },
    {
     "name": "stdout",
     "output_type": "stream",
     "text": [
      "Installing collected packages: mnist\r\n"
     ]
    },
    {
     "name": "stdout",
     "output_type": "stream",
     "text": [
      "Successfully installed mnist-0.2.2\r\n"
     ]
    }
   ],
   "source": [
    "!pip install mnist"
   ]
  },
  {
   "cell_type": "markdown",
   "id": "69df9c9a",
   "metadata": {
    "papermill": {
     "duration": 0.021843,
     "end_time": "2022-08-26T20:10:45.293450",
     "exception": false,
     "start_time": "2022-08-26T20:10:45.271607",
     "status": "completed"
    },
    "tags": []
   },
   "source": [
    "## Preparing the Data"
   ]
  },
  {
   "cell_type": "code",
   "execution_count": 4,
   "id": "7f69d806",
   "metadata": {
    "execution": {
     "iopub.execute_input": "2022-08-26T20:10:45.356096Z",
     "iopub.status.busy": "2022-08-26T20:10:45.354126Z",
     "iopub.status.idle": "2022-08-26T20:10:45.358189Z",
     "shell.execute_reply": "2022-08-26T20:10:45.358586Z"
    },
    "papermill": {
     "duration": 0.043615,
     "end_time": "2022-08-26T20:10:45.358716",
     "exception": false,
     "start_time": "2022-08-26T20:10:45.315101",
     "status": "completed"
    },
    "tags": []
   },
   "outputs": [],
   "source": [
    "import mnist"
   ]
  },
  {
   "cell_type": "code",
   "execution_count": 5,
   "id": "a411e44f",
   "metadata": {
    "execution": {
     "iopub.execute_input": "2022-08-26T20:10:45.409765Z",
     "iopub.status.busy": "2022-08-26T20:10:45.405516Z",
     "iopub.status.idle": "2022-08-26T20:10:45.905944Z",
     "shell.execute_reply": "2022-08-26T20:10:45.905318Z"
    },
    "papermill": {
     "duration": 0.525598,
     "end_time": "2022-08-26T20:10:45.906092",
     "exception": false,
     "start_time": "2022-08-26T20:10:45.380494",
     "status": "completed"
    },
    "tags": []
   },
   "outputs": [],
   "source": [
    "train_images = mnist.train_images()\n",
    "train_labels = mnist.train_labels()"
   ]
  },
  {
   "cell_type": "code",
   "execution_count": 6,
   "id": "dceab3a5",
   "metadata": {
    "execution": {
     "iopub.execute_input": "2022-08-26T20:10:45.963776Z",
     "iopub.status.busy": "2022-08-26T20:10:45.959823Z",
     "iopub.status.idle": "2022-08-26T20:10:45.972437Z",
     "shell.execute_reply": "2022-08-26T20:10:45.972839Z"
    },
    "papermill": {
     "duration": 0.044064,
     "end_time": "2022-08-26T20:10:45.972969",
     "exception": false,
     "start_time": "2022-08-26T20:10:45.928905",
     "status": "completed"
    },
    "tags": []
   },
   "outputs": [
    {
     "data": {
      "text/plain": [
       "((60000, 28, 28), (60000,))"
      ]
     },
     "execution_count": 6,
     "metadata": {},
     "output_type": "execute_result"
    }
   ],
   "source": [
    "train_images.shape, train_labels.shape"
   ]
  },
  {
   "cell_type": "code",
   "execution_count": 7,
   "id": "f50dc2bb",
   "metadata": {
    "execution": {
     "iopub.execute_input": "2022-08-26T20:10:46.023663Z",
     "iopub.status.busy": "2022-08-26T20:10:46.020273Z",
     "iopub.status.idle": "2022-08-26T20:10:46.185421Z",
     "shell.execute_reply": "2022-08-26T20:10:46.184929Z"
    },
    "papermill": {
     "duration": 0.190561,
     "end_time": "2022-08-26T20:10:46.185548",
     "exception": false,
     "start_time": "2022-08-26T20:10:45.994987",
     "status": "completed"
    },
    "tags": []
   },
   "outputs": [],
   "source": [
    "test_images = mnist.test_images()\n",
    "test_labels = mnist.test_labels()"
   ]
  },
  {
   "cell_type": "code",
   "execution_count": 8,
   "id": "fc38cf1b",
   "metadata": {
    "execution": {
     "iopub.execute_input": "2022-08-26T20:10:46.243410Z",
     "iopub.status.busy": "2022-08-26T20:10:46.235143Z",
     "iopub.status.idle": "2022-08-26T20:10:46.246303Z",
     "shell.execute_reply": "2022-08-26T20:10:46.246707Z"
    },
    "papermill": {
     "duration": 0.038897,
     "end_time": "2022-08-26T20:10:46.246833",
     "exception": false,
     "start_time": "2022-08-26T20:10:46.207936",
     "status": "completed"
    },
    "tags": []
   },
   "outputs": [
    {
     "data": {
      "text/plain": [
       "((10000, 28, 28), (10000,))"
      ]
     },
     "execution_count": 8,
     "metadata": {},
     "output_type": "execute_result"
    }
   ],
   "source": [
    "test_images.shape, test_labels.shape"
   ]
  },
  {
   "cell_type": "code",
   "execution_count": 9,
   "id": "f9ed8fe0",
   "metadata": {
    "execution": {
     "iopub.execute_input": "2022-08-26T20:10:46.295010Z",
     "iopub.status.busy": "2022-08-26T20:10:46.294475Z",
     "iopub.status.idle": "2022-08-26T20:10:46.421431Z",
     "shell.execute_reply": "2022-08-26T20:10:46.421838Z"
    },
    "papermill": {
     "duration": 0.15283,
     "end_time": "2022-08-26T20:10:46.421974",
     "exception": false,
     "start_time": "2022-08-26T20:10:46.269144",
     "status": "completed"
    },
    "tags": []
   },
   "outputs": [
    {
     "name": "stdout",
     "output_type": "stream",
     "text": [
      "2\n"
     ]
    },
    {
     "data": {
      "text/plain": [
       "<matplotlib.image.AxesImage at 0x7f4a829069e8>"
      ]
     },
     "execution_count": 9,
     "metadata": {},
     "output_type": "execute_result"
    },
    {
     "data": {
      "image/png": "[encoded data removed]",
      "text/plain": [
       "<Figure size 432x288 with 1 Axes>"
      ]
     },
     "metadata": {
      "needs_background": "light"
     },
     "output_type": "display_data"
    }
   ],
   "source": [
    "image_index = 7776 # You may select anything up to 60,000\n",
    "print(train_labels[image_index]) \n",
    "plt.imshow(train_images[image_index], cmap='Greys')"
   ]
  },
  {
   "cell_type": "markdown",
   "id": "a8d2388d",
   "metadata": {
    "papermill": {
     "duration": 0.023272,
     "end_time": "2022-08-26T20:10:46.468589",
     "exception": false,
     "start_time": "2022-08-26T20:10:46.445317",
     "status": "completed"
    },
    "tags": []
   },
   "source": [
    "## Filter data to get 3 and 8 out"
   ]
  },
  {
   "cell_type": "code",
   "execution_count": 10,
   "id": "776f7fc7",
   "metadata": {
    "execution": {
     "iopub.execute_input": "2022-08-26T20:10:46.520897Z",
     "iopub.status.busy": "2022-08-26T20:10:46.520341Z",
     "iopub.status.idle": "2022-08-26T20:10:46.539191Z",
     "shell.execute_reply": "2022-08-26T20:10:46.538725Z"
    },
    "papermill": {
     "duration": 0.047424,
     "end_time": "2022-08-26T20:10:46.539309",
     "exception": false,
     "start_time": "2022-08-26T20:10:46.491885",
     "status": "completed"
    },
    "tags": []
   },
   "outputs": [],
   "source": [
    "train_filter = np.where((train_labels == 3 ) | (train_labels == 8))\n",
    "test_filter = np.where((test_labels == 3) | (test_labels == 8))\n",
    "X_train, y_train = train_images[train_filter], train_labels[train_filter]\n",
    "X_test, y_test = test_images[test_filter], test_labels[test_filter]"
   ]
  },
  {
   "cell_type": "markdown",
   "id": "948f0b7e",
   "metadata": {
    "papermill": {
     "duration": 0.023216,
     "end_time": "2022-08-26T20:10:46.586063",
     "exception": false,
     "start_time": "2022-08-26T20:10:46.562847",
     "status": "completed"
    },
    "tags": []
   },
   "source": [
    "We normalize the pizel values in the 0 to 1 range"
   ]
  },
  {
   "cell_type": "code",
   "execution_count": 11,
   "id": "ee4c2166",
   "metadata": {
    "execution": {
     "iopub.execute_input": "2022-08-26T20:10:46.647891Z",
     "iopub.status.busy": "2022-08-26T20:10:46.643655Z",
     "iopub.status.idle": "2022-08-26T20:10:46.686149Z",
     "shell.execute_reply": "2022-08-26T20:10:46.685634Z"
    },
    "papermill": {
     "duration": 0.076886,
     "end_time": "2022-08-26T20:10:46.686267",
     "exception": false,
     "start_time": "2022-08-26T20:10:46.609381",
     "status": "completed"
    },
    "tags": []
   },
   "outputs": [],
   "source": [
    "X_train = X_train/255.\n",
    "X_test = X_test/255."
   ]
  },
  {
   "cell_type": "markdown",
   "id": "ddcf4fab",
   "metadata": {
    "papermill": {
     "duration": 0.02336,
     "end_time": "2022-08-26T20:10:46.733719",
     "exception": false,
     "start_time": "2022-08-26T20:10:46.710359",
     "status": "completed"
    },
    "tags": []
   },
   "source": [
    "And setup the labels as 1 (when the digit is 3) and 0 (when the digit is 8)"
   ]
  },
  {
   "cell_type": "code",
   "execution_count": 12,
   "id": "7dc908f2",
   "metadata": {
    "execution": {
     "iopub.execute_input": "2022-08-26T20:10:46.785017Z",
     "iopub.status.busy": "2022-08-26T20:10:46.783864Z",
     "iopub.status.idle": "2022-08-26T20:10:46.795247Z",
     "shell.execute_reply": "2022-08-26T20:10:46.794767Z"
    },
    "papermill": {
     "duration": 0.038243,
     "end_time": "2022-08-26T20:10:46.795357",
     "exception": false,
     "start_time": "2022-08-26T20:10:46.757114",
     "status": "completed"
    },
    "tags": []
   },
   "outputs": [],
   "source": [
    "y_train = 1*(y_train==3)\n",
    "y_test = 1*(y_test==3)"
   ]
  },
  {
   "cell_type": "code",
   "execution_count": 13,
   "id": "01e4e969",
   "metadata": {
    "execution": {
     "iopub.execute_input": "2022-08-26T20:10:46.846832Z",
     "iopub.status.busy": "2022-08-26T20:10:46.846297Z",
     "iopub.status.idle": "2022-08-26T20:10:46.858900Z",
     "shell.execute_reply": "2022-08-26T20:10:46.858470Z"
    },
    "papermill": {
     "duration": 0.039462,
     "end_time": "2022-08-26T20:10:46.859022",
     "exception": false,
     "start_time": "2022-08-26T20:10:46.819560",
     "status": "completed"
    },
    "tags": []
   },
   "outputs": [
    {
     "data": {
      "text/plain": [
       "((11982, 28, 28), (1984, 28, 28))"
      ]
     },
     "execution_count": 13,
     "metadata": {},
     "output_type": "execute_result"
    }
   ],
   "source": [
    "X_train.shape, X_test.shape"
   ]
  },
  {
   "cell_type": "markdown",
   "id": "5ccf3f85",
   "metadata": {
    "papermill": {
     "duration": 0.023158,
     "end_time": "2022-08-26T20:10:46.905425",
     "exception": false,
     "start_time": "2022-08-26T20:10:46.882267",
     "status": "completed"
    },
    "tags": []
   },
   "source": [
    "We reshape the data to flatten the image pixels into a set of features or co-variates:"
   ]
  },
  {
   "cell_type": "code",
   "execution_count": 14,
   "id": "5286a4a3",
   "metadata": {
    "execution": {
     "iopub.execute_input": "2022-08-26T20:10:46.956449Z",
     "iopub.status.busy": "2022-08-26T20:10:46.955917Z",
     "iopub.status.idle": "2022-08-26T20:10:46.969229Z",
     "shell.execute_reply": "2022-08-26T20:10:46.968799Z"
    },
    "papermill": {
     "duration": 0.040538,
     "end_time": "2022-08-26T20:10:46.969331",
     "exception": false,
     "start_time": "2022-08-26T20:10:46.928793",
     "status": "completed"
    },
    "tags": []
   },
   "outputs": [
    {
     "data": {
      "text/plain": [
       "((11982, 784), (1984, 784))"
      ]
     },
     "execution_count": 14,
     "metadata": {},
     "output_type": "execute_result"
    }
   ],
   "source": [
    "X_train = X_train.reshape(X_train.shape[0], -1)\n",
    "X_test = X_test.reshape(X_test.shape[0], -1)\n",
    "X_train.shape, X_test.shape"
   ]
  },
  {
   "cell_type": "code",
   "execution_count": 15,
   "id": "73c5f88a",
   "metadata": {
    "execution": {
     "iopub.execute_input": "2022-08-26T20:10:47.022067Z",
     "iopub.status.busy": "2022-08-26T20:10:47.021447Z",
     "iopub.status.idle": "2022-08-26T20:10:47.038999Z",
     "shell.execute_reply": "2022-08-26T20:10:47.038475Z"
    },
    "papermill": {
     "duration": 0.046131,
     "end_time": "2022-08-26T20:10:47.039117",
     "exception": false,
     "start_time": "2022-08-26T20:10:46.992986",
     "status": "completed"
    },
    "tags": []
   },
   "outputs": [],
   "source": [
    "#Impoting functions from 'Kudzu'\n",
    "from kudzu.model import Model\n",
    "from kudzu.train import Learner\n",
    "from kudzu.optim import GD\n",
    "from kudzu.data import Data, Sampler,Dataloader\n",
    "\n",
    "from kudzu.callbacks import AccCallback\n",
    "from kudzu.callbacks import ClfCallback\n",
    "\n",
    "from kudzu.loss import MSE\n",
    "\n",
    "from kudzu.layer import Sigmoid,Relu\n",
    "from kudzu.layer import Affine"
   ]
  },
  {
   "cell_type": "markdown",
   "id": "bc01172a",
   "metadata": {
    "papermill": {
     "duration": 0.023787,
     "end_time": "2022-08-26T20:10:47.087032",
     "exception": false,
     "start_time": "2022-08-26T20:10:47.063245",
     "status": "completed"
    },
    "tags": []
   },
   "source": [
    "### Let us create a `Config` class, to store important parameters. \n",
    "This class essentially plays the role of a dictionary."
   ]
  },
  {
   "cell_type": "code",
   "execution_count": 16,
   "id": "978281aa",
   "metadata": {
    "execution": {
     "iopub.execute_input": "2022-08-26T20:10:47.151574Z",
     "iopub.status.busy": "2022-08-26T20:10:47.148043Z",
     "iopub.status.idle": "2022-08-26T20:10:47.153758Z",
     "shell.execute_reply": "2022-08-26T20:10:47.154166Z"
    },
    "papermill": {
     "duration": 0.043637,
     "end_time": "2022-08-26T20:10:47.154297",
     "exception": false,
     "start_time": "2022-08-26T20:10:47.110660",
     "status": "completed"
    },
    "tags": []
   },
   "outputs": [],
   "source": [
    "class Config:\n",
    "    pass\n",
    "config = Config()\n",
    "config.lr = 0.001\n",
    "config.num_epochs = 250\n",
    "config.bs = 50"
   ]
  },
  {
   "cell_type": "markdown",
   "id": "1385fa59",
   "metadata": {
    "papermill": {
     "duration": 0.023755,
     "end_time": "2022-08-26T20:10:47.201796",
     "exception": false,
     "start_time": "2022-08-26T20:10:47.178041",
     "status": "completed"
    },
    "tags": []
   },
   "source": [
    "### Running Models with the Training data\n",
    "Details about the network layers:\n",
    "- A first affine layer has 784 inputs and does 100 affine transforms. These are followed by a Relu\n",
    "- A second affine layer has 100 inputs from the 100 activations of the past layer, and does 100 affine transforms. These are followed by a Relu\n",
    "- A third affine layer has 100 activations and does 2 affine transformations to create an embedding for visualization. There is no non-linearity here.\n",
    "- A final \"logistic regression\" which has an affine transform from 2 inputs to 1 output, which is squeezed through a sigmoid.\n"
   ]
  },
  {
   "cell_type": "code",
   "execution_count": 17,
   "id": "2b9c66db",
   "metadata": {
    "execution": {
     "iopub.execute_input": "2022-08-26T20:10:47.265134Z",
     "iopub.status.busy": "2022-08-26T20:10:47.264158Z",
     "iopub.status.idle": "2022-08-26T20:10:47.271155Z",
     "shell.execute_reply": "2022-08-26T20:10:47.270696Z"
    },
    "papermill": {
     "duration": 0.043305,
     "end_time": "2022-08-26T20:10:47.271263",
     "exception": false,
     "start_time": "2022-08-26T20:10:47.227958",
     "status": "completed"
    },
    "tags": []
   },
   "outputs": [],
   "source": [
    "data = Data(X_train, y_train.reshape(-1,1))\n",
    "sampler = Sampler(data, config.bs, shuffle=True)\n",
    "\n",
    "dl = Dataloader(data, sampler)\n",
    "\n",
    "opt = GD(config.lr)\n",
    "loss = MSE()"
   ]
  },
  {
   "cell_type": "code",
   "execution_count": 18,
   "id": "b275e4c2",
   "metadata": {
    "execution": {
     "iopub.execute_input": "2022-08-26T20:10:47.324208Z",
     "iopub.status.busy": "2022-08-26T20:10:47.323567Z",
     "iopub.status.idle": "2022-08-26T20:10:47.335240Z",
     "shell.execute_reply": "2022-08-26T20:10:47.334724Z"
    },
    "papermill": {
     "duration": 0.040274,
     "end_time": "2022-08-26T20:10:47.335357",
     "exception": false,
     "start_time": "2022-08-26T20:10:47.295083",
     "status": "completed"
    },
    "tags": []
   },
   "outputs": [],
   "source": [
    "training_data_x = X_train\n",
    "testing_data_x = X_test\n",
    "training_data_y = y_train.reshape(-1,1)\n",
    "testing_data_y = y_test.reshape(-1,1)"
   ]
  },
  {
   "cell_type": "code",
   "execution_count": 19,
   "id": "76951160",
   "metadata": {
    "execution": {
     "iopub.execute_input": "2022-08-26T20:10:47.393158Z",
     "iopub.status.busy": "2022-08-26T20:10:47.392585Z",
     "iopub.status.idle": "2022-08-26T20:10:47.404206Z",
     "shell.execute_reply": "2022-08-26T20:10:47.404610Z"
    },
    "papermill": {
     "duration": 0.045461,
     "end_time": "2022-08-26T20:10:47.404742",
     "exception": false,
     "start_time": "2022-08-26T20:10:47.359281",
     "status": "completed"
    },
    "tags": []
   },
   "outputs": [
    {
     "name": "stdout",
     "output_type": "stream",
     "text": [
      "xavier\n",
      "xavier\n",
      "xavier\n",
      "xavier\n",
      "xavier\n"
     ]
    }
   ],
   "source": [
    "layers = [Affine(\"first\", 784, 100), Relu(\"first\"), Affine(\"second\", 100, 100), Relu(\"second\"), Affine(\"third\", 100, 2), Affine(\"last\", 2, 1), Sigmoid(\"last\")]\n",
    "model_nn = Model(layers)\n",
    "model_lr = Model([Affine(\"logits\", 784, 1), Sigmoid(\"sigmoid\")])"
   ]
  },
  {
   "cell_type": "code",
   "execution_count": 20,
   "id": "6eede77a",
   "metadata": {
    "execution": {
     "iopub.execute_input": "2022-08-26T20:10:47.462449Z",
     "iopub.status.busy": "2022-08-26T20:10:47.456504Z",
     "iopub.status.idle": "2022-08-26T20:10:47.469470Z",
     "shell.execute_reply": "2022-08-26T20:10:47.468759Z"
    },
    "papermill": {
     "duration": 0.040715,
     "end_time": "2022-08-26T20:10:47.469581",
     "exception": false,
     "start_time": "2022-08-26T20:10:47.428866",
     "status": "completed"
    },
    "tags": []
   },
   "outputs": [],
   "source": [
    "nn_learner = Learner(loss, model_nn, opt, config.num_epochs)\n",
    "acc_nn = ClfCallback(nn_learner, config.bs, training_data_x , testing_data_x, training_data_y, testing_data_y)\n",
    "nn_learner.set_callbacks([acc_nn])"
   ]
  },
  {
   "cell_type": "code",
   "execution_count": 21,
   "id": "877b6cc7",
   "metadata": {
    "execution": {
     "iopub.execute_input": "2022-08-26T20:10:47.524714Z",
     "iopub.status.busy": "2022-08-26T20:10:47.523984Z",
     "iopub.status.idle": "2022-08-26T20:10:47.534531Z",
     "shell.execute_reply": "2022-08-26T20:10:47.534105Z"
    },
    "papermill": {
     "duration": 0.040895,
     "end_time": "2022-08-26T20:10:47.534644",
     "exception": false,
     "start_time": "2022-08-26T20:10:47.493749",
     "status": "completed"
    },
    "tags": []
   },
   "outputs": [],
   "source": [
    "lr_learner = Learner(loss, model_lr, opt, config.num_epochs)\n",
    "acc_lr = ClfCallback(lr_learner, config.bs, training_data_x , testing_data_x, training_data_y, testing_data_y)\n",
    "lr_learner.set_callbacks([acc_lr])"
   ]
  },
  {
   "cell_type": "code",
   "execution_count": 22,
   "id": "d9b133c3",
   "metadata": {
    "execution": {
     "iopub.execute_input": "2022-08-26T20:10:47.587077Z",
     "iopub.status.busy": "2022-08-26T20:10:47.586497Z",
     "iopub.status.idle": "2022-08-26T20:12:02.886448Z",
     "shell.execute_reply": "2022-08-26T20:12:02.886988Z"
    },
    "papermill": {
     "duration": 75.328483,
     "end_time": "2022-08-26T20:12:02.887135",
     "exception": false,
     "start_time": "2022-08-26T20:10:47.558652",
     "status": "completed"
    },
    "tags": []
   },
   "outputs": [
    {
     "name": "stdout",
     "output_type": "stream",
     "text": [
      "Epoch 0, Loss 0.2443\n",
      "Training Accuracy: 0.6476, Testing Accuracy: 0.6462\n",
      "\n"
     ]
    },
    {
     "name": "stdout",
     "output_type": "stream",
     "text": [
      "Epoch 10, Loss 0.0903\n",
      "Training Accuracy: 0.9205, Testing Accuracy: 0.9365\n",
      "\n"
     ]
    },
    {
     "name": "stdout",
     "output_type": "stream",
     "text": [
      "Epoch 20, Loss 0.0543\n",
      "Training Accuracy: 0.9442, Testing Accuracy: 0.9612\n",
      "\n"
     ]
    },
    {
     "name": "stdout",
     "output_type": "stream",
     "text": [
      "Epoch 30, Loss 0.0427\n",
      "Training Accuracy: 0.9530, Testing Accuracy: 0.9672\n",
      "\n"
     ]
    },
    {
     "name": "stdout",
     "output_type": "stream",
     "text": [
      "Epoch 40, Loss 0.0369\n",
      "Training Accuracy: 0.9584, Testing Accuracy: 0.9693\n",
      "\n"
     ]
    },
    {
     "name": "stdout",
     "output_type": "stream",
     "text": [
      "Epoch 50, Loss 0.0334\n",
      "Training Accuracy: 0.9624, Testing Accuracy: 0.9723\n",
      "\n"
     ]
    },
    {
     "name": "stdout",
     "output_type": "stream",
     "text": [
      "Epoch 60, Loss 0.031\n",
      "Training Accuracy: 0.9648, Testing Accuracy: 0.9723\n",
      "\n"
     ]
    },
    {
     "name": "stdout",
     "output_type": "stream",
     "text": [
      "Epoch 70, Loss 0.0292\n",
      "Training Accuracy: 0.9665, Testing Accuracy: 0.9738\n",
      "\n"
     ]
    },
    {
     "name": "stdout",
     "output_type": "stream",
     "text": [
      "Epoch 80, Loss 0.0278\n",
      "Training Accuracy: 0.9682, Testing Accuracy: 0.9743\n",
      "\n"
     ]
    },
    {
     "name": "stdout",
     "output_type": "stream",
     "text": [
      "Epoch 90, Loss 0.0266\n",
      "Training Accuracy: 0.9700, Testing Accuracy: 0.9753\n",
      "\n"
     ]
    },
    {
     "name": "stdout",
     "output_type": "stream",
     "text": [
      "Epoch 100, Loss 0.0255\n",
      "Training Accuracy: 0.9707, Testing Accuracy: 0.9758\n",
      "\n"
     ]
    },
    {
     "name": "stdout",
     "output_type": "stream",
     "text": [
      "Epoch 110, Loss 0.0246\n",
      "Training Accuracy: 0.9715, Testing Accuracy: 0.9758\n",
      "\n"
     ]
    },
    {
     "name": "stdout",
     "output_type": "stream",
     "text": [
      "Epoch 120, Loss 0.0238\n",
      "Training Accuracy: 0.9724, Testing Accuracy: 0.9758\n",
      "\n"
     ]
    },
    {
     "name": "stdout",
     "output_type": "stream",
     "text": [
      "Epoch 130, Loss 0.0231\n",
      "Training Accuracy: 0.9734, Testing Accuracy: 0.9748\n",
      "\n"
     ]
    },
    {
     "name": "stdout",
     "output_type": "stream",
     "text": [
      "Epoch 140, Loss 0.0224\n",
      "Training Accuracy: 0.9744, Testing Accuracy: 0.9748\n",
      "\n"
     ]
    },
    {
     "name": "stdout",
     "output_type": "stream",
     "text": [
      "Epoch 150, Loss 0.0217\n",
      "Training Accuracy: 0.9753, Testing Accuracy: 0.9743\n",
      "\n"
     ]
    },
    {
     "name": "stdout",
     "output_type": "stream",
     "text": [
      "Epoch 160, Loss 0.0211\n",
      "Training Accuracy: 0.9762, Testing Accuracy: 0.9748\n",
      "\n"
     ]
    },
    {
     "name": "stdout",
     "output_type": "stream",
     "text": [
      "Epoch 170, Loss 0.0205\n",
      "Training Accuracy: 0.9765, Testing Accuracy: 0.9763\n",
      "\n"
     ]
    },
    {
     "name": "stdout",
     "output_type": "stream",
     "text": [
      "Epoch 180, Loss 0.02\n",
      "Training Accuracy: 0.9772, Testing Accuracy: 0.9763\n",
      "\n"
     ]
    },
    {
     "name": "stdout",
     "output_type": "stream",
     "text": [
      "Epoch 190, Loss 0.0195\n",
      "Training Accuracy: 0.9780, Testing Accuracy: 0.9768\n",
      "\n"
     ]
    },
    {
     "name": "stdout",
     "output_type": "stream",
     "text": [
      "Epoch 200, Loss 0.019\n",
      "Training Accuracy: 0.9786, Testing Accuracy: 0.9768\n",
      "\n"
     ]
    },
    {
     "name": "stdout",
     "output_type": "stream",
     "text": [
      "Epoch 210, Loss 0.0185\n",
      "Training Accuracy: 0.9791, Testing Accuracy: 0.9768\n",
      "\n"
     ]
    },
    {
     "name": "stdout",
     "output_type": "stream",
     "text": [
      "Epoch 220, Loss 0.018\n",
      "Training Accuracy: 0.9796, Testing Accuracy: 0.9763\n",
      "\n"
     ]
    },
    {
     "name": "stdout",
     "output_type": "stream",
     "text": [
      "Epoch 230, Loss 0.0175\n",
      "Training Accuracy: 0.9797, Testing Accuracy: 0.9773\n",
      "\n"
     ]
    },
    {
     "name": "stdout",
     "output_type": "stream",
     "text": [
      "Epoch 240, Loss 0.0171\n",
      "Training Accuracy: 0.9806, Testing Accuracy: 0.9778\n",
      "\n"
     ]
    },
    {
     "data": {
      "text/plain": [
       "0.004542628764979594"
      ]
     },
     "execution_count": 22,
     "metadata": {},
     "output_type": "execute_result"
    }
   ],
   "source": [
    "nn_learner.train_loop(dl)"
   ]
  },
  {
   "cell_type": "code",
   "execution_count": 23,
   "id": "e0163366",
   "metadata": {
    "execution": {
     "iopub.execute_input": "2022-08-26T20:12:02.952821Z",
     "iopub.status.busy": "2022-08-26T20:12:02.952259Z",
     "iopub.status.idle": "2022-08-26T20:12:16.640080Z",
     "shell.execute_reply": "2022-08-26T20:12:16.640871Z"
    },
    "papermill": {
     "duration": 13.722713,
     "end_time": "2022-08-26T20:12:16.641013",
     "exception": false,
     "start_time": "2022-08-26T20:12:02.918300",
     "status": "completed"
    },
    "tags": []
   },
   "outputs": [
    {
     "name": "stdout",
     "output_type": "stream",
     "text": [
      "Epoch 0, Loss 0.2269\n",
      "Training Accuracy: 0.7286, Testing Accuracy: 0.7369\n",
      "\n"
     ]
    },
    {
     "name": "stdout",
     "output_type": "stream",
     "text": [
      "Epoch 10, Loss 0.1004\n",
      "Training Accuracy: 0.9144, Testing Accuracy: 0.9259\n",
      "\n"
     ]
    },
    {
     "name": "stdout",
     "output_type": "stream",
     "text": [
      "Epoch 20, Loss 0.0775\n",
      "Training Accuracy: 0.9309, Testing Accuracy: 0.9446\n",
      "\n"
     ]
    },
    {
     "name": "stdout",
     "output_type": "stream",
     "text": [
      "Epoch 30, Loss 0.067\n",
      "Training Accuracy: 0.9381, Testing Accuracy: 0.9496\n",
      "\n"
     ]
    },
    {
     "name": "stdout",
     "output_type": "stream",
     "text": [
      "Epoch 40, Loss 0.0607\n",
      "Training Accuracy: 0.9433, Testing Accuracy: 0.9541\n",
      "\n"
     ]
    },
    {
     "name": "stdout",
     "output_type": "stream",
     "text": [
      "Epoch 50, Loss 0.0564\n",
      "Training Accuracy: 0.9460, Testing Accuracy: 0.9556\n",
      "\n"
     ]
    },
    {
     "name": "stdout",
     "output_type": "stream",
     "text": [
      "Epoch 60, Loss 0.0533\n",
      "Training Accuracy: 0.9491, Testing Accuracy: 0.9572\n",
      "\n"
     ]
    },
    {
     "name": "stdout",
     "output_type": "stream",
     "text": [
      "Epoch 70, Loss 0.0508\n",
      "Training Accuracy: 0.9511, Testing Accuracy: 0.9587\n",
      "\n"
     ]
    },
    {
     "name": "stdout",
     "output_type": "stream",
     "text": [
      "Epoch 80, Loss 0.0489\n",
      "Training Accuracy: 0.9523, Testing Accuracy: 0.9607\n",
      "\n"
     ]
    },
    {
     "name": "stdout",
     "output_type": "stream",
     "text": [
      "Epoch 90, Loss 0.0473\n",
      "Training Accuracy: 0.9528, Testing Accuracy: 0.9612\n",
      "\n"
     ]
    },
    {
     "name": "stdout",
     "output_type": "stream",
     "text": [
      "Epoch 100, Loss 0.0459\n",
      "Training Accuracy: 0.9536, Testing Accuracy: 0.9617\n",
      "\n"
     ]
    },
    {
     "name": "stdout",
     "output_type": "stream",
     "text": [
      "Epoch 110, Loss 0.0447\n",
      "Training Accuracy: 0.9544, Testing Accuracy: 0.9642\n",
      "\n"
     ]
    },
    {
     "name": "stdout",
     "output_type": "stream",
     "text": [
      "Epoch 120, Loss 0.0437\n",
      "Training Accuracy: 0.9552, Testing Accuracy: 0.9637\n",
      "\n"
     ]
    },
    {
     "name": "stdout",
     "output_type": "stream",
     "text": [
      "Epoch 130, Loss 0.0428\n",
      "Training Accuracy: 0.9557, Testing Accuracy: 0.9632\n",
      "\n"
     ]
    },
    {
     "name": "stdout",
     "output_type": "stream",
     "text": [
      "Epoch 140, Loss 0.042\n",
      "Training Accuracy: 0.9562, Testing Accuracy: 0.9632\n",
      "\n"
     ]
    },
    {
     "name": "stdout",
     "output_type": "stream",
     "text": [
      "Epoch 150, Loss 0.0413\n",
      "Training Accuracy: 0.9568, Testing Accuracy: 0.9632\n",
      "\n"
     ]
    },
    {
     "name": "stdout",
     "output_type": "stream",
     "text": [
      "Epoch 160, Loss 0.0406\n",
      "Training Accuracy: 0.9574, Testing Accuracy: 0.9637\n",
      "\n"
     ]
    },
    {
     "name": "stdout",
     "output_type": "stream",
     "text": [
      "Epoch 170, Loss 0.04\n",
      "Training Accuracy: 0.9576, Testing Accuracy: 0.9642\n",
      "\n"
     ]
    },
    {
     "name": "stdout",
     "output_type": "stream",
     "text": [
      "Epoch 180, Loss 0.0395\n",
      "Training Accuracy: 0.9584, Testing Accuracy: 0.9647\n",
      "\n"
     ]
    },
    {
     "name": "stdout",
     "output_type": "stream",
     "text": [
      "Epoch 190, Loss 0.039\n",
      "Training Accuracy: 0.9586, Testing Accuracy: 0.9652\n",
      "\n"
     ]
    },
    {
     "name": "stdout",
     "output_type": "stream",
     "text": [
      "Epoch 200, Loss 0.0385\n",
      "Training Accuracy: 0.9590, Testing Accuracy: 0.9647\n",
      "\n"
     ]
    },
    {
     "name": "stdout",
     "output_type": "stream",
     "text": [
      "Epoch 210, Loss 0.0381\n",
      "Training Accuracy: 0.9594, Testing Accuracy: 0.9652\n",
      "\n"
     ]
    },
    {
     "name": "stdout",
     "output_type": "stream",
     "text": [
      "Epoch 220, Loss 0.0377\n",
      "Training Accuracy: 0.9595, Testing Accuracy: 0.9652\n",
      "\n"
     ]
    },
    {
     "name": "stdout",
     "output_type": "stream",
     "text": [
      "Epoch 230, Loss 0.0373\n",
      "Training Accuracy: 0.9600, Testing Accuracy: 0.9652\n",
      "\n"
     ]
    },
    {
     "name": "stdout",
     "output_type": "stream",
     "text": [
      "Epoch 240, Loss 0.0369\n",
      "Training Accuracy: 0.9601, Testing Accuracy: 0.9657\n",
      "\n"
     ]
    },
    {
     "data": {
      "text/plain": [
       "0.017995347953064553"
      ]
     },
     "execution_count": 23,
     "metadata": {},
     "output_type": "execute_result"
    }
   ],
   "source": [
    "lr_learner.train_loop(dl)"
   ]
  },
  {
   "cell_type": "code",
   "execution_count": 24,
   "id": "ca410940",
   "metadata": {
    "execution": {
     "iopub.execute_input": "2022-08-26T20:12:16.732291Z",
     "iopub.status.busy": "2022-08-26T20:12:16.731728Z",
     "iopub.status.idle": "2022-08-26T20:12:16.934790Z",
     "shell.execute_reply": "2022-08-26T20:12:16.934337Z"
    },
    "papermill": {
     "duration": 0.25708,
     "end_time": "2022-08-26T20:12:16.934903",
     "exception": false,
     "start_time": "2022-08-26T20:12:16.677823",
     "status": "completed"
    },
    "tags": []
   },
   "outputs": [
    {
     "data": {
      "text/plain": [
       "<matplotlib.legend.Legend at 0x7f4a82466fd0>"
      ]
     },
     "execution_count": 24,
     "metadata": {},
     "output_type": "execute_result"
    },
    {
     "data": {
      "image/png": "[encoded data removed]",
      "text/plain": [
       "<Figure size 1080x720 with 1 Axes>"
      ]
     },
     "metadata": {
      "needs_background": "light"
     },
     "output_type": "display_data"
    }
   ],
   "source": [
    "#comparing the results of NN and LR\n",
    "plt.figure(figsize=(15,10))\n",
    "\n",
    "# Neural Network plots\n",
    "plt.plot(acc_nn.accuracies, 'r-', label = \"Training Accuracies - NN\")\n",
    "plt.plot(acc_nn.test_accuracies, 'g-', label = \"Testing Accuracies - NN\")\n",
    "\n",
    "# Logistic Regression plots\n",
    "plt.plot(acc_lr.accuracies, 'k-', label = \"Training Accuracies - LR\")\n",
    "plt.plot(acc_lr.test_accuracies, 'b-', label = \"Testing Accuracies - LR\")\n",
    "plt.legend()"
   ]
  },
  {
   "cell_type": "markdown",
   "id": "80dfb35c",
   "metadata": {
    "papermill": {
     "duration": 0.037049,
     "end_time": "2022-08-26T20:12:17.009261",
     "exception": false,
     "start_time": "2022-08-26T20:12:16.972212",
     "status": "completed"
    },
    "tags": []
   },
   "source": [
    "#### Plotting the outputs of this layer of the NN.\n"
   ]
  },
  {
   "cell_type": "code",
   "execution_count": 25,
   "id": "45eb2ff5",
   "metadata": {
    "execution": {
     "iopub.execute_input": "2022-08-26T20:12:17.087460Z",
     "iopub.status.busy": "2022-08-26T20:12:17.086878Z",
     "iopub.status.idle": "2022-08-26T20:12:17.106279Z",
     "shell.execute_reply": "2022-08-26T20:12:17.106736Z"
    },
    "papermill": {
     "duration": 0.060549,
     "end_time": "2022-08-26T20:12:17.106875",
     "exception": false,
     "start_time": "2022-08-26T20:12:17.046326",
     "status": "completed"
    },
    "tags": []
   },
   "outputs": [],
   "source": [
    "new_model = Model(layers[:-2])\n",
    "testing_plot = new_model(testing_data_x)"
   ]
  },
  {
   "cell_type": "code",
   "execution_count": 26,
   "id": "4c0a5485",
   "metadata": {
    "execution": {
     "iopub.execute_input": "2022-08-26T20:12:17.184456Z",
     "iopub.status.busy": "2022-08-26T20:12:17.183922Z",
     "iopub.status.idle": "2022-08-26T20:12:17.372425Z",
     "shell.execute_reply": "2022-08-26T20:12:17.372837Z"
    },
    "papermill": {
     "duration": 0.228729,
     "end_time": "2022-08-26T20:12:17.372977",
     "exception": false,
     "start_time": "2022-08-26T20:12:17.144248",
     "status": "completed"
    },
    "tags": []
   },
   "outputs": [
    {
     "data": {
      "text/plain": [
       "Text(0.5, 1.0, 'Outputs')"
      ]
     },
     "execution_count": 26,
     "metadata": {},
     "output_type": "execute_result"
    },
    {
     "data": {
      "image/png": "[encoded data removed]",
      "text/plain": [
       "<Figure size 576x504 with 1 Axes>"
      ]
     },
     "metadata": {
      "needs_background": "light"
     },
     "output_type": "display_data"
    }
   ],
   "source": [
    "# Plotting the scatter plot of points and color coding by class\n",
    "plt.figure(figsize=(8,7))\n",
    "plt.scatter(testing_plot[:,0], testing_plot[:,1], alpha = 0.1, c = y_test.ravel());\n",
    "plt.title('Outputs')"
   ]
  },
  {
   "cell_type": "markdown",
   "id": "a74fcf8f",
   "metadata": {
    "papermill": {
     "duration": 0.039563,
     "end_time": "2022-08-26T20:12:17.452373",
     "exception": false,
     "start_time": "2022-08-26T20:12:17.412810",
     "status": "completed"
    },
    "tags": []
   },
   "source": [
    "Probability contours"
   ]
  },
  {
   "cell_type": "code",
   "execution_count": 27,
   "id": "d0afc8e3",
   "metadata": {
    "execution": {
     "iopub.execute_input": "2022-08-26T20:12:17.568063Z",
     "iopub.status.busy": "2022-08-26T20:12:17.567490Z",
     "iopub.status.idle": "2022-08-26T20:12:17.577685Z",
     "shell.execute_reply": "2022-08-26T20:12:17.577253Z"
    },
    "papermill": {
     "duration": 0.085664,
     "end_time": "2022-08-26T20:12:17.577788",
     "exception": false,
     "start_time": "2022-08-26T20:12:17.492124",
     "status": "completed"
    },
    "tags": []
   },
   "outputs": [],
   "source": [
    "model_prob = Model(layers[-2:]) "
   ]
  },
  {
   "cell_type": "code",
   "execution_count": 28,
   "id": "9b96e238",
   "metadata": {
    "execution": {
     "iopub.execute_input": "2022-08-26T20:12:17.668447Z",
     "iopub.status.busy": "2022-08-26T20:12:17.667844Z",
     "iopub.status.idle": "2022-08-26T20:12:17.678154Z",
     "shell.execute_reply": "2022-08-26T20:12:17.678543Z"
    },
    "papermill": {
     "duration": 0.06117,
     "end_time": "2022-08-26T20:12:17.678673",
     "exception": false,
     "start_time": "2022-08-26T20:12:17.617503",
     "status": "completed"
    },
    "tags": []
   },
   "outputs": [],
   "source": [
    "#creating the x and y ranges according to the above generated plot.\n",
    "x_range = np.linspace(-4, 1, 100) \n",
    "y_range = np.linspace(-6, 6, 100) \n",
    "x_grid, y_grid = np.meshgrid(x_range, y_range) # x_grid and y_grig are of size 100 X 100\n",
    "\n",
    "# converting x_grid and y_grid to continuous arrays\n",
    "x_gridflat = np.ravel(x_grid)\n",
    "y_gridflat = np.ravel(y_grid)\n",
    "\n",
    "# The last layer of the current model takes two columns as input. Hence transpose of np.vstack() is required.\n",
    "X = np.vstack((x_gridflat, y_gridflat)).T\n",
    "\n",
    "prob_contour = model_prob(X).reshape(100,100) "
   ]
  },
  {
   "cell_type": "code",
   "execution_count": 29,
   "id": "da72499a",
   "metadata": {
    "execution": {
     "iopub.execute_input": "2022-08-26T20:12:17.763026Z",
     "iopub.status.busy": "2022-08-26T20:12:17.762444Z",
     "iopub.status.idle": "2022-08-26T20:12:17.985568Z",
     "shell.execute_reply": "2022-08-26T20:12:17.985966Z"
    },
    "papermill": {
     "duration": 0.267299,
     "end_time": "2022-08-26T20:12:17.986109",
     "exception": false,
     "start_time": "2022-08-26T20:12:17.718810",
     "status": "completed"
    },
    "tags": []
   },
   "outputs": [
    {
     "data": {
      "image/png": "[encoded data removed]",
      "text/plain": [
       "<Figure size 720x648 with 1 Axes>"
      ]
     },
     "metadata": {
      "needs_background": "light"
     },
     "output_type": "display_data"
    }
   ],
   "source": [
    "plt.figure(figsize=(10,9))\n",
    "plt.scatter(testing_plot[:,0], testing_plot[:,1], alpha = 0.1, c = y_test.ravel())\n",
    "contours = plt.contour(x_grid,y_grid,prob_contour)\n",
    "plt.title('Probability Contours')\n",
    "plt.clabel(contours, inline = True );"
   ]
  },
  {
   "cell_type": "code",
   "execution_count": null,
   "id": "e81b4ac7",
   "metadata": {
    "papermill": {
     "duration": 0.04196,
     "end_time": "2022-08-26T20:12:18.070863",
     "exception": false,
     "start_time": "2022-08-26T20:12:18.028903",
     "status": "completed"
    },
    "tags": []
   },
   "outputs": [],
   "source": []
  }
 ],
 "metadata": {
  "kernelspec": {
   "display_name": "Python 3",
   "language": "python",
   "name": "python3"
  },
  "language_info": {
   "codemirror_mode": {
    "name": "ipython",
    "version": 3
   },
   "file_extension": ".py",
   "mimetype": "text/x-python",
   "name": "python",
   "nbconvert_exporter": "python",
   "pygments_lexer": "ipython3",
   "version": "3.6.15"
  },
  "papermill": {
   "default_parameters": {},
   "duration": 96.677269,
   "end_time": "2022-08-26T20:12:18.532715",
   "environment_variables": {},
   "exception": null,
   "input_path": "2020-08-11-part2.ipynb",
   "output_path": "2020-08-11-part2.ipynb",
   "parameters": {},
   "start_time": "2022-08-26T20:10:41.855446",
   "version": "2.3.3"
  }
 },
 "nbformat": 4,
 "nbformat_minor": 5
}