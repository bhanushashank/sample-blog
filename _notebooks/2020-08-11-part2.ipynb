{
 "cells": [
  {
   "cell_type": "markdown",
   "id": "98380cd3",
   "metadata": {
    "papermill": {
     "duration": 0.034528,
     "end_time": "2021-08-26T00:18:59.117377",
     "exception": false,
     "start_time": "2021-08-26T00:18:59.082849",
     "status": "completed"
    },
    "tags": []
   },
   "source": [
    "# Distinguish Your Own Digits (DYOD)"
   ]
  },
  {
   "cell_type": "markdown",
   "id": "ef31240d",
   "metadata": {
    "papermill": {
     "duration": 0.032265,
     "end_time": "2021-08-26T00:18:59.181418",
     "exception": false,
     "start_time": "2021-08-26T00:18:59.149153",
     "status": "completed"
    },
    "tags": []
   },
   "source": [
    "You are going to write a classifier that distinguishes between the number 3 and number 8."
   ]
  },
  {
   "cell_type": "code",
   "execution_count": 1,
   "id": "b15c8646",
   "metadata": {
    "execution": {
     "iopub.execute_input": "2021-08-26T00:18:59.257868Z",
     "iopub.status.busy": "2021-08-26T00:18:59.257218Z",
     "iopub.status.idle": "2021-08-26T00:18:59.268849Z",
     "shell.execute_reply": "2021-08-26T00:18:59.269405Z"
    },
    "papermill": {
     "duration": 0.057345,
     "end_time": "2021-08-26T00:18:59.269568",
     "exception": false,
     "start_time": "2021-08-26T00:18:59.212223",
     "status": "completed"
    },
    "tags": []
   },
   "outputs": [],
   "source": [
    "%load_ext autoreload\n",
    "%autoreload 2"
   ]
  },
  {
   "cell_type": "code",
   "execution_count": 2,
   "id": "22ef38dc",
   "metadata": {
    "execution": {
     "iopub.execute_input": "2021-08-26T00:18:59.348399Z",
     "iopub.status.busy": "2021-08-26T00:18:59.344638Z",
     "iopub.status.idle": "2021-08-26T00:18:59.961663Z",
     "shell.execute_reply": "2021-08-26T00:18:59.961095Z"
    },
    "papermill": {
     "duration": 0.662273,
     "end_time": "2021-08-26T00:18:59.961809",
     "exception": false,
     "start_time": "2021-08-26T00:18:59.299536",
     "status": "completed"
    },
    "tags": []
   },
   "outputs": [],
   "source": [
    "%matplotlib inline\n",
    "import numpy as np\n",
    "import matplotlib.pyplot as plt\n",
    "import pandas as pd"
   ]
  },
  {
   "cell_type": "markdown",
   "id": "ba036198",
   "metadata": {
    "papermill": {
     "duration": 0.033148,
     "end_time": "2021-08-26T00:19:00.026286",
     "exception": false,
     "start_time": "2021-08-26T00:18:59.993138",
     "status": "completed"
    },
    "tags": []
   },
   "source": [
    "From the command line run `pip install mnist`. This is a library that will help you bring down the mnist dataset. If you run this from a notebook, you need to put  `!pip install mnist` in a cell by itself."
   ]
  },
  {
   "cell_type": "code",
   "execution_count": 3,
   "id": "bb6ad8a1",
   "metadata": {
    "execution": {
     "iopub.execute_input": "2021-08-26T00:19:00.098841Z",
     "iopub.status.busy": "2021-08-26T00:19:00.098165Z",
     "iopub.status.idle": "2021-08-26T00:19:02.893130Z",
     "shell.execute_reply": "2021-08-26T00:19:02.892530Z"
    },
    "papermill": {
     "duration": 2.834096,
     "end_time": "2021-08-26T00:19:02.893286",
     "exception": false,
     "start_time": "2021-08-26T00:19:00.059190",
     "status": "completed"
    },
    "tags": []
   },
   "outputs": [
    {
     "name": "stdout",
     "output_type": "stream",
     "text": [
      "Collecting mnist\r\n"
     ]
    },
    {
     "name": "stdout",
     "output_type": "stream",
     "text": [
      "  Downloading mnist-0.2.2-py2.py3-none-any.whl (3.5 kB)\r\n"
     ]
    },
    {
     "name": "stdout",
     "output_type": "stream",
     "text": [
      "Requirement already satisfied: numpy in /opt/hostedtoolcache/Python/3.6.14/x64/lib/python3.6/site-packages (from mnist) (1.19.5)\r\n"
     ]
    },
    {
     "name": "stdout",
     "output_type": "stream",
     "text": [
      "Installing collected packages: mnist\r\n"
     ]
    },
    {
     "name": "stdout",
     "output_type": "stream",
     "text": [
      "Successfully installed mnist-0.2.2\r\n"
     ]
    }
   ],
   "source": [
    "!pip install mnist"
   ]
  },
  {
   "cell_type": "markdown",
   "id": "69df9c9a",
   "metadata": {
    "papermill": {
     "duration": 0.03493,
     "end_time": "2021-08-26T00:19:02.960646",
     "exception": false,
     "start_time": "2021-08-26T00:19:02.925716",
     "status": "completed"
    },
    "tags": []
   },
   "source": [
    "## Preparing the Data"
   ]
  },
  {
   "cell_type": "code",
   "execution_count": 4,
   "id": "7f69d806",
   "metadata": {
    "execution": {
     "iopub.execute_input": "2021-08-26T00:19:03.032191Z",
     "iopub.status.busy": "2021-08-26T00:19:03.031539Z",
     "iopub.status.idle": "2021-08-26T00:19:03.046860Z",
     "shell.execute_reply": "2021-08-26T00:19:03.046331Z"
    },
    "papermill": {
     "duration": 0.053874,
     "end_time": "2021-08-26T00:19:03.046993",
     "exception": false,
     "start_time": "2021-08-26T00:19:02.993119",
     "status": "completed"
    },
    "tags": []
   },
   "outputs": [],
   "source": [
    "import mnist"
   ]
  },
  {
   "cell_type": "code",
   "execution_count": 5,
   "id": "a411e44f",
   "metadata": {
    "execution": {
     "iopub.execute_input": "2021-08-26T00:19:03.121745Z",
     "iopub.status.busy": "2021-08-26T00:19:03.121019Z",
     "iopub.status.idle": "2021-08-26T00:19:03.874682Z",
     "shell.execute_reply": "2021-08-26T00:19:03.874083Z"
    },
    "papermill": {
     "duration": 0.793526,
     "end_time": "2021-08-26T00:19:03.874831",
     "exception": false,
     "start_time": "2021-08-26T00:19:03.081305",
     "status": "completed"
    },
    "tags": []
   },
   "outputs": [],
   "source": [
    "train_images = mnist.train_images()\n",
    "train_labels = mnist.train_labels()"
   ]
  },
  {
   "cell_type": "code",
   "execution_count": 6,
   "id": "dceab3a5",
   "metadata": {
    "execution": {
     "iopub.execute_input": "2021-08-26T00:19:03.951610Z",
     "iopub.status.busy": "2021-08-26T00:19:03.950869Z",
     "iopub.status.idle": "2021-08-26T00:19:03.967047Z",
     "shell.execute_reply": "2021-08-26T00:19:03.966485Z"
    },
    "papermill": {
     "duration": 0.053587,
     "end_time": "2021-08-26T00:19:03.967182",
     "exception": false,
     "start_time": "2021-08-26T00:19:03.913595",
     "status": "completed"
    },
    "tags": []
   },
   "outputs": [
    {
     "data": {
      "text/plain": [
       "((60000, 28, 28), (60000,))"
      ]
     },
     "execution_count": 6,
     "metadata": {},
     "output_type": "execute_result"
    }
   ],
   "source": [
    "train_images.shape, train_labels.shape"
   ]
  },
  {
   "cell_type": "code",
   "execution_count": 7,
   "id": "f50dc2bb",
   "metadata": {
    "execution": {
     "iopub.execute_input": "2021-08-26T00:19:04.044384Z",
     "iopub.status.busy": "2021-08-26T00:19:04.043683Z",
     "iopub.status.idle": "2021-08-26T00:19:04.269343Z",
     "shell.execute_reply": "2021-08-26T00:19:04.268765Z"
    },
    "papermill": {
     "duration": 0.266333,
     "end_time": "2021-08-26T00:19:04.269492",
     "exception": false,
     "start_time": "2021-08-26T00:19:04.003159",
     "status": "completed"
    },
    "tags": []
   },
   "outputs": [],
   "source": [
    "test_images = mnist.test_images()\n",
    "test_labels = mnist.test_labels()"
   ]
  },
  {
   "cell_type": "code",
   "execution_count": 8,
   "id": "fc38cf1b",
   "metadata": {
    "execution": {
     "iopub.execute_input": "2021-08-26T00:19:04.343562Z",
     "iopub.status.busy": "2021-08-26T00:19:04.342887Z",
     "iopub.status.idle": "2021-08-26T00:19:04.357904Z",
     "shell.execute_reply": "2021-08-26T00:19:04.357385Z"
    },
    "papermill": {
     "duration": 0.052951,
     "end_time": "2021-08-26T00:19:04.358030",
     "exception": false,
     "start_time": "2021-08-26T00:19:04.305079",
     "status": "completed"
    },
    "tags": []
   },
   "outputs": [
    {
     "data": {
      "text/plain": [
       "((10000, 28, 28), (10000,))"
      ]
     },
     "execution_count": 8,
     "metadata": {},
     "output_type": "execute_result"
    }
   ],
   "source": [
    "test_images.shape, test_labels.shape"
   ]
  },
  {
   "cell_type": "code",
   "execution_count": 9,
   "id": "f9ed8fe0",
   "metadata": {
    "execution": {
     "iopub.execute_input": "2021-08-26T00:19:04.430158Z",
     "iopub.status.busy": "2021-08-26T00:19:04.429511Z",
     "iopub.status.idle": "2021-08-26T00:19:04.620849Z",
     "shell.execute_reply": "2021-08-26T00:19:04.621627Z"
    },
    "papermill": {
     "duration": 0.229135,
     "end_time": "2021-08-26T00:19:04.621793",
     "exception": false,
     "start_time": "2021-08-26T00:19:04.392658",
     "status": "completed"
    },
    "tags": []
   },
   "outputs": [
    {
     "name": "stdout",
     "output_type": "stream",
     "text": [
      "2\n"
     ]
    },
    {
     "data": {
      "text/plain": [
       "<matplotlib.image.AxesImage at 0x7f75762bf940>"
      ]
     },
     "execution_count": 9,
     "metadata": {},
     "output_type": "execute_result"
    },
    {
     "data": {
      "image/png": "[encoded data removed]",
      "text/plain": [
       "<Figure size 432x288 with 1 Axes>"
      ]
     },
     "metadata": {
      "needs_background": "light"
     },
     "output_type": "display_data"
    }
   ],
   "source": [
    "image_index = 7776 # You may select anything up to 60,000\n",
    "print(train_labels[image_index]) \n",
    "plt.imshow(train_images[image_index], cmap='Greys')"
   ]
  },
  {
   "cell_type": "markdown",
   "id": "a8d2388d",
   "metadata": {
    "papermill": {
     "duration": 0.035052,
     "end_time": "2021-08-26T00:19:04.691727",
     "exception": false,
     "start_time": "2021-08-26T00:19:04.656675",
     "status": "completed"
    },
    "tags": []
   },
   "source": [
    "## Filter data to get 3 and 8 out"
   ]
  },
  {
   "cell_type": "code",
   "execution_count": 10,
   "id": "776f7fc7",
   "metadata": {
    "execution": {
     "iopub.execute_input": "2021-08-26T00:19:04.767713Z",
     "iopub.status.busy": "2021-08-26T00:19:04.766946Z",
     "iopub.status.idle": "2021-08-26T00:19:04.784949Z",
     "shell.execute_reply": "2021-08-26T00:19:04.785723Z"
    },
    "papermill": {
     "duration": 0.059922,
     "end_time": "2021-08-26T00:19:04.785892",
     "exception": false,
     "start_time": "2021-08-26T00:19:04.725970",
     "status": "completed"
    },
    "tags": []
   },
   "outputs": [],
   "source": [
    "train_filter = np.where((train_labels == 3 ) | (train_labels == 8))\n",
    "test_filter = np.where((test_labels == 3) | (test_labels == 8))\n",
    "X_train, y_train = train_images[train_filter], train_labels[train_filter]\n",
    "X_test, y_test = test_images[test_filter], test_labels[test_filter]"
   ]
  },
  {
   "cell_type": "markdown",
   "id": "948f0b7e",
   "metadata": {
    "papermill": {
     "duration": 0.038067,
     "end_time": "2021-08-26T00:19:04.858712",
     "exception": false,
     "start_time": "2021-08-26T00:19:04.820645",
     "status": "completed"
    },
    "tags": []
   },
   "source": [
    "We normalize the pizel values in the 0 to 1 range"
   ]
  },
  {
   "cell_type": "code",
   "execution_count": 11,
   "id": "ee4c2166",
   "metadata": {
    "execution": {
     "iopub.execute_input": "2021-08-26T00:19:04.954376Z",
     "iopub.status.busy": "2021-08-26T00:19:04.945910Z",
     "iopub.status.idle": "2021-08-26T00:19:05.009166Z",
     "shell.execute_reply": "2021-08-26T00:19:05.008467Z"
    },
    "papermill": {
     "duration": 0.108472,
     "end_time": "2021-08-26T00:19:05.009313",
     "exception": false,
     "start_time": "2021-08-26T00:19:04.900841",
     "status": "completed"
    },
    "tags": []
   },
   "outputs": [],
   "source": [
    "X_train = X_train/255.\n",
    "X_test = X_test/255."
   ]
  },
  {
   "cell_type": "markdown",
   "id": "ddcf4fab",
   "metadata": {
    "papermill": {
     "duration": 0.039126,
     "end_time": "2021-08-26T00:19:05.086190",
     "exception": false,
     "start_time": "2021-08-26T00:19:05.047064",
     "status": "completed"
    },
    "tags": []
   },
   "source": [
    "And setup the labels as 1 (when the digit is 3) and 0 (when the digit is 8)"
   ]
  },
  {
   "cell_type": "code",
   "execution_count": 12,
   "id": "7dc908f2",
   "metadata": {
    "execution": {
     "iopub.execute_input": "2021-08-26T00:19:05.167264Z",
     "iopub.status.busy": "2021-08-26T00:19:05.164905Z",
     "iopub.status.idle": "2021-08-26T00:19:05.176521Z",
     "shell.execute_reply": "2021-08-26T00:19:05.175828Z"
    },
    "papermill": {
     "duration": 0.055636,
     "end_time": "2021-08-26T00:19:05.176665",
     "exception": false,
     "start_time": "2021-08-26T00:19:05.121029",
     "status": "completed"
    },
    "tags": []
   },
   "outputs": [],
   "source": [
    "y_train = 1*(y_train==3)\n",
    "y_test = 1*(y_test==3)"
   ]
  },
  {
   "cell_type": "code",
   "execution_count": 13,
   "id": "01e4e969",
   "metadata": {
    "execution": {
     "iopub.execute_input": "2021-08-26T00:19:05.265828Z",
     "iopub.status.busy": "2021-08-26T00:19:05.257966Z",
     "iopub.status.idle": "2021-08-26T00:19:05.272845Z",
     "shell.execute_reply": "2021-08-26T00:19:05.272284Z"
    },
    "papermill": {
     "duration": 0.061052,
     "end_time": "2021-08-26T00:19:05.272981",
     "exception": false,
     "start_time": "2021-08-26T00:19:05.211929",
     "status": "completed"
    },
    "tags": []
   },
   "outputs": [
    {
     "data": {
      "text/plain": [
       "((11982, 28, 28), (1984, 28, 28))"
      ]
     },
     "execution_count": 13,
     "metadata": {},
     "output_type": "execute_result"
    }
   ],
   "source": [
    "X_train.shape, X_test.shape"
   ]
  },
  {
   "cell_type": "markdown",
   "id": "5ccf3f85",
   "metadata": {
    "papermill": {
     "duration": 0.034276,
     "end_time": "2021-08-26T00:19:05.341683",
     "exception": false,
     "start_time": "2021-08-26T00:19:05.307407",
     "status": "completed"
    },
    "tags": []
   },
   "source": [
    "We reshape the data to flatten the image pixels into a set of features or co-variates:"
   ]
  },
  {
   "cell_type": "code",
   "execution_count": 14,
   "id": "5286a4a3",
   "metadata": {
    "execution": {
     "iopub.execute_input": "2021-08-26T00:19:05.419584Z",
     "iopub.status.busy": "2021-08-26T00:19:05.418915Z",
     "iopub.status.idle": "2021-08-26T00:19:05.431682Z",
     "shell.execute_reply": "2021-08-26T00:19:05.432240Z"
    },
    "papermill": {
     "duration": 0.054902,
     "end_time": "2021-08-26T00:19:05.432383",
     "exception": false,
     "start_time": "2021-08-26T00:19:05.377481",
     "status": "completed"
    },
    "tags": []
   },
   "outputs": [
    {
     "data": {
      "text/plain": [
       "((11982, 784), (1984, 784))"
      ]
     },
     "execution_count": 14,
     "metadata": {},
     "output_type": "execute_result"
    }
   ],
   "source": [
    "X_train = X_train.reshape(X_train.shape[0], -1)\n",
    "X_test = X_test.reshape(X_test.shape[0], -1)\n",
    "X_train.shape, X_test.shape"
   ]
  },
  {
   "cell_type": "code",
   "execution_count": 15,
   "id": "73c5f88a",
   "metadata": {
    "execution": {
     "iopub.execute_input": "2021-08-26T00:19:05.513128Z",
     "iopub.status.busy": "2021-08-26T00:19:05.509552Z",
     "iopub.status.idle": "2021-08-26T00:19:05.528961Z",
     "shell.execute_reply": "2021-08-26T00:19:05.529461Z"
    },
    "papermill": {
     "duration": 0.062152,
     "end_time": "2021-08-26T00:19:05.529606",
     "exception": false,
     "start_time": "2021-08-26T00:19:05.467454",
     "status": "completed"
    },
    "tags": []
   },
   "outputs": [],
   "source": [
    "#Impoting functions from 'Kudzu'\n",
    "from kudzu.model import Model\n",
    "from kudzu.train import Learner\n",
    "from kudzu.optim import GD\n",
    "from kudzu.data import Data, Sampler,Dataloader\n",
    "\n",
    "from kudzu.callbacks import AccCallback\n",
    "from kudzu.callbacks import ClfCallback\n",
    "\n",
    "from kudzu.loss import MSE\n",
    "\n",
    "from kudzu.layer import Sigmoid,Relu\n",
    "from kudzu.layer import Affine"
   ]
  },
  {
   "cell_type": "markdown",
   "id": "bc01172a",
   "metadata": {
    "papermill": {
     "duration": 0.036663,
     "end_time": "2021-08-26T00:19:05.601462",
     "exception": false,
     "start_time": "2021-08-26T00:19:05.564799",
     "status": "completed"
    },
    "tags": []
   },
   "source": [
    "### Let us create a `Config` class, to store important parameters. \n",
    "This class essentially plays the role of a dictionary."
   ]
  },
  {
   "cell_type": "code",
   "execution_count": 16,
   "id": "978281aa",
   "metadata": {
    "execution": {
     "iopub.execute_input": "2021-08-26T00:19:05.682022Z",
     "iopub.status.busy": "2021-08-26T00:19:05.681379Z",
     "iopub.status.idle": "2021-08-26T00:19:05.691353Z",
     "shell.execute_reply": "2021-08-26T00:19:05.690695Z"
    },
    "papermill": {
     "duration": 0.055837,
     "end_time": "2021-08-26T00:19:05.691483",
     "exception": false,
     "start_time": "2021-08-26T00:19:05.635646",
     "status": "completed"
    },
    "tags": []
   },
   "outputs": [],
   "source": [
    "class Config:\n",
    "    pass\n",
    "config = Config()\n",
    "config.lr = 0.001\n",
    "config.num_epochs = 250\n",
    "config.bs = 50"
   ]
  },
  {
   "cell_type": "markdown",
   "id": "1385fa59",
   "metadata": {
    "papermill": {
     "duration": 0.034642,
     "end_time": "2021-08-26T00:19:05.759849",
     "exception": false,
     "start_time": "2021-08-26T00:19:05.725207",
     "status": "completed"
    },
    "tags": []
   },
   "source": [
    "### Running Models with the Training data\n",
    "Details about the network layers:\n",
    "- A first affine layer has 784 inputs and does 100 affine transforms. These are followed by a Relu\n",
    "- A second affine layer has 100 inputs from the 100 activations of the past layer, and does 100 affine transforms. These are followed by a Relu\n",
    "- A third affine layer has 100 activations and does 2 affine transformations to create an embedding for visualization. There is no non-linearity here.\n",
    "- A final \"logistic regression\" which has an affine transform from 2 inputs to 1 output, which is squeezed through a sigmoid.\n"
   ]
  },
  {
   "cell_type": "code",
   "execution_count": 17,
   "id": "2b9c66db",
   "metadata": {
    "execution": {
     "iopub.execute_input": "2021-08-26T00:19:05.833554Z",
     "iopub.status.busy": "2021-08-26T00:19:05.832917Z",
     "iopub.status.idle": "2021-08-26T00:19:05.846604Z",
     "shell.execute_reply": "2021-08-26T00:19:05.847197Z"
    },
    "papermill": {
     "duration": 0.051273,
     "end_time": "2021-08-26T00:19:05.847334",
     "exception": false,
     "start_time": "2021-08-26T00:19:05.796061",
     "status": "completed"
    },
    "tags": []
   },
   "outputs": [],
   "source": [
    "data = Data(X_train, y_train.reshape(-1,1))\n",
    "sampler = Sampler(data, config.bs, shuffle=True)\n",
    "\n",
    "dl = Dataloader(data, sampler)\n",
    "\n",
    "opt = GD(config.lr)\n",
    "loss = MSE()"
   ]
  },
  {
   "cell_type": "code",
   "execution_count": 18,
   "id": "b275e4c2",
   "metadata": {
    "execution": {
     "iopub.execute_input": "2021-08-26T00:19:05.931650Z",
     "iopub.status.busy": "2021-08-26T00:19:05.930972Z",
     "iopub.status.idle": "2021-08-26T00:19:05.944219Z",
     "shell.execute_reply": "2021-08-26T00:19:05.944825Z"
    },
    "papermill": {
     "duration": 0.063453,
     "end_time": "2021-08-26T00:19:05.944969",
     "exception": false,
     "start_time": "2021-08-26T00:19:05.881516",
     "status": "completed"
    },
    "tags": []
   },
   "outputs": [],
   "source": [
    "training_data_x = X_train\n",
    "testing_data_x = X_test\n",
    "training_data_y = y_train.reshape(-1,1)\n",
    "testing_data_y = y_test.reshape(-1,1)"
   ]
  },
  {
   "cell_type": "code",
   "execution_count": 19,
   "id": "76951160",
   "metadata": {
    "execution": {
     "iopub.execute_input": "2021-08-26T00:19:06.025376Z",
     "iopub.status.busy": "2021-08-26T00:19:06.024356Z",
     "iopub.status.idle": "2021-08-26T00:19:06.040124Z",
     "shell.execute_reply": "2021-08-26T00:19:06.040651Z"
    },
    "papermill": {
     "duration": 0.059467,
     "end_time": "2021-08-26T00:19:06.040794",
     "exception": false,
     "start_time": "2021-08-26T00:19:05.981327",
     "status": "completed"
    },
    "tags": []
   },
   "outputs": [
    {
     "name": "stdout",
     "output_type": "stream",
     "text": [
      "xavier\n",
      "xavier\n",
      "xavier\n",
      "xavier\n",
      "xavier\n"
     ]
    }
   ],
   "source": [
    "layers = [Affine(\"first\", 784, 100), Relu(\"first\"), Affine(\"second\", 100, 100), Relu(\"second\"), Affine(\"third\", 100, 2), Affine(\"last\", 2, 1), Sigmoid(\"last\")]\n",
    "model_nn = Model(layers)\n",
    "model_lr = Model([Affine(\"logits\", 784, 1), Sigmoid(\"sigmoid\")])"
   ]
  },
  {
   "cell_type": "code",
   "execution_count": 20,
   "id": "6eede77a",
   "metadata": {
    "execution": {
     "iopub.execute_input": "2021-08-26T00:19:06.119756Z",
     "iopub.status.busy": "2021-08-26T00:19:06.119077Z",
     "iopub.status.idle": "2021-08-26T00:19:06.132141Z",
     "shell.execute_reply": "2021-08-26T00:19:06.131586Z"
    },
    "papermill": {
     "duration": 0.054795,
     "end_time": "2021-08-26T00:19:06.132277",
     "exception": false,
     "start_time": "2021-08-26T00:19:06.077482",
     "status": "completed"
    },
    "tags": []
   },
   "outputs": [],
   "source": [
    "nn_learner = Learner(loss, model_nn, opt, config.num_epochs)\n",
    "acc_nn = ClfCallback(nn_learner, config.bs, training_data_x , testing_data_x, training_data_y, testing_data_y)\n",
    "nn_learner.set_callbacks([acc_nn])"
   ]
  },
  {
   "cell_type": "code",
   "execution_count": 21,
   "id": "877b6cc7",
   "metadata": {
    "execution": {
     "iopub.execute_input": "2021-08-26T00:19:06.209232Z",
     "iopub.status.busy": "2021-08-26T00:19:06.208587Z",
     "iopub.status.idle": "2021-08-26T00:19:06.223323Z",
     "shell.execute_reply": "2021-08-26T00:19:06.222761Z"
    },
    "papermill": {
     "duration": 0.054948,
     "end_time": "2021-08-26T00:19:06.223452",
     "exception": false,
     "start_time": "2021-08-26T00:19:06.168504",
     "status": "completed"
    },
    "tags": []
   },
   "outputs": [],
   "source": [
    "lr_learner = Learner(loss, model_lr, opt, config.num_epochs)\n",
    "acc_lr = ClfCallback(lr_learner, config.bs, training_data_x , testing_data_x, training_data_y, testing_data_y)\n",
    "lr_learner.set_callbacks([acc_lr])"
   ]
  },
  {
   "cell_type": "code",
   "execution_count": 22,
   "id": "d9b133c3",
   "metadata": {
    "execution": {
     "iopub.execute_input": "2021-08-26T00:19:06.305353Z",
     "iopub.status.busy": "2021-08-26T00:19:06.304651Z",
     "iopub.status.idle": "2021-08-26T00:21:13.061535Z",
     "shell.execute_reply": "2021-08-26T00:21:13.062374Z"
    },
    "papermill": {
     "duration": 126.801571,
     "end_time": "2021-08-26T00:21:13.062538",
     "exception": false,
     "start_time": "2021-08-26T00:19:06.260967",
     "status": "completed"
    },
    "tags": []
   },
   "outputs": [
    {
     "name": "stdout",
     "output_type": "stream",
     "text": [
      "Epoch 0, Loss 0.2512\n",
      "Training Accuracy: 0.5005, Testing Accuracy: 0.4955\n",
      "\n"
     ]
    },
    {
     "name": "stdout",
     "output_type": "stream",
     "text": [
      "Epoch 10, Loss 0.2266\n",
      "Training Accuracy: 0.8435, Testing Accuracy: 0.8589\n",
      "\n"
     ]
    },
    {
     "name": "stdout",
     "output_type": "stream",
     "text": [
      "Epoch 20, Loss 0.1559\n",
      "Training Accuracy: 0.8882, Testing Accuracy: 0.8967\n",
      "\n"
     ]
    },
    {
     "name": "stdout",
     "output_type": "stream",
     "text": [
      "Epoch 30, Loss 0.0836\n",
      "Training Accuracy: 0.9148, Testing Accuracy: 0.9259\n",
      "\n"
     ]
    },
    {
     "name": "stdout",
     "output_type": "stream",
     "text": [
      "Epoch 40, Loss 0.0586\n",
      "Training Accuracy: 0.9354, Testing Accuracy: 0.9456\n",
      "\n"
     ]
    },
    {
     "name": "stdout",
     "output_type": "stream",
     "text": [
      "Epoch 50, Loss 0.0473\n",
      "Training Accuracy: 0.9466, Testing Accuracy: 0.9531\n",
      "\n"
     ]
    },
    {
     "name": "stdout",
     "output_type": "stream",
     "text": [
      "Epoch 60, Loss 0.0411\n",
      "Training Accuracy: 0.9525, Testing Accuracy: 0.9607\n",
      "\n"
     ]
    },
    {
     "name": "stdout",
     "output_type": "stream",
     "text": [
      "Epoch 70, Loss 0.0373\n",
      "Training Accuracy: 0.9566, Testing Accuracy: 0.9632\n",
      "\n"
     ]
    },
    {
     "name": "stdout",
     "output_type": "stream",
     "text": [
      "Epoch 80, Loss 0.0347\n",
      "Training Accuracy: 0.9600, Testing Accuracy: 0.9632\n",
      "\n"
     ]
    },
    {
     "name": "stdout",
     "output_type": "stream",
     "text": [
      "Epoch 90, Loss 0.0327\n",
      "Training Accuracy: 0.9619, Testing Accuracy: 0.9642\n",
      "\n"
     ]
    },
    {
     "name": "stdout",
     "output_type": "stream",
     "text": [
      "Epoch 100, Loss 0.0312\n",
      "Training Accuracy: 0.9633, Testing Accuracy: 0.9642\n",
      "\n"
     ]
    },
    {
     "name": "stdout",
     "output_type": "stream",
     "text": [
      "Epoch 110, Loss 0.0299\n",
      "Training Accuracy: 0.9646, Testing Accuracy: 0.9647\n",
      "\n"
     ]
    },
    {
     "name": "stdout",
     "output_type": "stream",
     "text": [
      "Epoch 120, Loss 0.0289\n",
      "Training Accuracy: 0.9659, Testing Accuracy: 0.9657\n",
      "\n"
     ]
    },
    {
     "name": "stdout",
     "output_type": "stream",
     "text": [
      "Epoch 130, Loss 0.0279\n",
      "Training Accuracy: 0.9669, Testing Accuracy: 0.9657\n",
      "\n"
     ]
    },
    {
     "name": "stdout",
     "output_type": "stream",
     "text": [
      "Epoch 140, Loss 0.0271\n",
      "Training Accuracy: 0.9680, Testing Accuracy: 0.9662\n",
      "\n"
     ]
    },
    {
     "name": "stdout",
     "output_type": "stream",
     "text": [
      "Epoch 150, Loss 0.0264\n",
      "Training Accuracy: 0.9695, Testing Accuracy: 0.9672\n",
      "\n"
     ]
    },
    {
     "name": "stdout",
     "output_type": "stream",
     "text": [
      "Epoch 160, Loss 0.0258\n",
      "Training Accuracy: 0.9697, Testing Accuracy: 0.9682\n",
      "\n"
     ]
    },
    {
     "name": "stdout",
     "output_type": "stream",
     "text": [
      "Epoch 170, Loss 0.0252\n",
      "Training Accuracy: 0.9704, Testing Accuracy: 0.9682\n",
      "\n"
     ]
    },
    {
     "name": "stdout",
     "output_type": "stream",
     "text": [
      "Epoch 180, Loss 0.0246\n",
      "Training Accuracy: 0.9714, Testing Accuracy: 0.9688\n",
      "\n"
     ]
    },
    {
     "name": "stdout",
     "output_type": "stream",
     "text": [
      "Epoch 190, Loss 0.0241\n",
      "Training Accuracy: 0.9721, Testing Accuracy: 0.9682\n",
      "\n"
     ]
    },
    {
     "name": "stdout",
     "output_type": "stream",
     "text": [
      "Epoch 200, Loss 0.0236\n",
      "Training Accuracy: 0.9729, Testing Accuracy: 0.9688\n",
      "\n"
     ]
    },
    {
     "name": "stdout",
     "output_type": "stream",
     "text": [
      "Epoch 210, Loss 0.0232\n",
      "Training Accuracy: 0.9735, Testing Accuracy: 0.9682\n",
      "\n"
     ]
    },
    {
     "name": "stdout",
     "output_type": "stream",
     "text": [
      "Epoch 220, Loss 0.0228\n",
      "Training Accuracy: 0.9741, Testing Accuracy: 0.9682\n",
      "\n"
     ]
    },
    {
     "name": "stdout",
     "output_type": "stream",
     "text": [
      "Epoch 230, Loss 0.0224\n",
      "Training Accuracy: 0.9746, Testing Accuracy: 0.9703\n",
      "\n"
     ]
    },
    {
     "name": "stdout",
     "output_type": "stream",
     "text": [
      "Epoch 240, Loss 0.022\n",
      "Training Accuracy: 0.9753, Testing Accuracy: 0.9703\n",
      "\n"
     ]
    },
    {
     "data": {
      "text/plain": [
       "0.0071609014739490735"
      ]
     },
     "execution_count": 22,
     "metadata": {},
     "output_type": "execute_result"
    }
   ],
   "source": [
    "nn_learner.train_loop(dl)"
   ]
  },
  {
   "cell_type": "code",
   "execution_count": 23,
   "id": "e0163366",
   "metadata": {
    "execution": {
     "iopub.execute_input": "2021-08-26T00:21:13.161269Z",
     "iopub.status.busy": "2021-08-26T00:21:13.160636Z",
     "iopub.status.idle": "2021-08-26T00:21:31.460866Z",
     "shell.execute_reply": "2021-08-26T00:21:31.461711Z"
    },
    "papermill": {
     "duration": 18.353675,
     "end_time": "2021-08-26T00:21:31.461879",
     "exception": false,
     "start_time": "2021-08-26T00:21:13.108204",
     "status": "completed"
    },
    "tags": []
   },
   "outputs": [
    {
     "name": "stdout",
     "output_type": "stream",
     "text": [
      "Epoch 0, Loss 0.2167\n",
      "Training Accuracy: 0.7323, Testing Accuracy: 0.7404\n",
      "\n"
     ]
    },
    {
     "name": "stdout",
     "output_type": "stream",
     "text": [
      "Epoch 10, Loss 0.108\n",
      "Training Accuracy: 0.8909, Testing Accuracy: 0.9042\n",
      "\n"
     ]
    },
    {
     "name": "stdout",
     "output_type": "stream",
     "text": [
      "Epoch 20, Loss 0.0829\n",
      "Training Accuracy: 0.9204, Testing Accuracy: 0.9299\n",
      "\n"
     ]
    },
    {
     "name": "stdout",
     "output_type": "stream",
     "text": [
      "Epoch 30, Loss 0.0708\n",
      "Training Accuracy: 0.9327, Testing Accuracy: 0.9441\n",
      "\n"
     ]
    },
    {
     "name": "stdout",
     "output_type": "stream",
     "text": [
      "Epoch 40, Loss 0.0635\n",
      "Training Accuracy: 0.9388, Testing Accuracy: 0.9506\n",
      "\n"
     ]
    },
    {
     "name": "stdout",
     "output_type": "stream",
     "text": [
      "Epoch 50, Loss 0.0586\n",
      "Training Accuracy: 0.9428, Testing Accuracy: 0.9541\n",
      "\n"
     ]
    },
    {
     "name": "stdout",
     "output_type": "stream",
     "text": [
      "Epoch 60, Loss 0.055\n",
      "Training Accuracy: 0.9452, Testing Accuracy: 0.9572\n",
      "\n"
     ]
    },
    {
     "name": "stdout",
     "output_type": "stream",
     "text": [
      "Epoch 70, Loss 0.0522\n",
      "Training Accuracy: 0.9474, Testing Accuracy: 0.9597\n",
      "\n"
     ]
    },
    {
     "name": "stdout",
     "output_type": "stream",
     "text": [
      "Epoch 80, Loss 0.05\n",
      "Training Accuracy: 0.9490, Testing Accuracy: 0.9612\n",
      "\n"
     ]
    },
    {
     "name": "stdout",
     "output_type": "stream",
     "text": [
      "Epoch 90, Loss 0.0482\n",
      "Training Accuracy: 0.9511, Testing Accuracy: 0.9622\n",
      "\n"
     ]
    },
    {
     "name": "stdout",
     "output_type": "stream",
     "text": [
      "Epoch 100, Loss 0.0467\n",
      "Training Accuracy: 0.9518, Testing Accuracy: 0.9627\n",
      "\n"
     ]
    },
    {
     "name": "stdout",
     "output_type": "stream",
     "text": [
      "Epoch 110, Loss 0.0454\n",
      "Training Accuracy: 0.9534, Testing Accuracy: 0.9637\n",
      "\n"
     ]
    },
    {
     "name": "stdout",
     "output_type": "stream",
     "text": [
      "Epoch 120, Loss 0.0443\n",
      "Training Accuracy: 0.9543, Testing Accuracy: 0.9632\n",
      "\n"
     ]
    },
    {
     "name": "stdout",
     "output_type": "stream",
     "text": [
      "Epoch 130, Loss 0.0433\n",
      "Training Accuracy: 0.9549, Testing Accuracy: 0.9637\n",
      "\n"
     ]
    },
    {
     "name": "stdout",
     "output_type": "stream",
     "text": [
      "Epoch 140, Loss 0.0425\n",
      "Training Accuracy: 0.9563, Testing Accuracy: 0.9642\n",
      "\n"
     ]
    },
    {
     "name": "stdout",
     "output_type": "stream",
     "text": [
      "Epoch 150, Loss 0.0417\n",
      "Training Accuracy: 0.9571, Testing Accuracy: 0.9642\n",
      "\n"
     ]
    },
    {
     "name": "stdout",
     "output_type": "stream",
     "text": [
      "Epoch 160, Loss 0.041\n",
      "Training Accuracy: 0.9575, Testing Accuracy: 0.9647\n",
      "\n"
     ]
    },
    {
     "name": "stdout",
     "output_type": "stream",
     "text": [
      "Epoch 170, Loss 0.0403\n",
      "Training Accuracy: 0.9578, Testing Accuracy: 0.9652\n",
      "\n"
     ]
    },
    {
     "name": "stdout",
     "output_type": "stream",
     "text": [
      "Epoch 180, Loss 0.0397\n",
      "Training Accuracy: 0.9584, Testing Accuracy: 0.9657\n",
      "\n"
     ]
    },
    {
     "name": "stdout",
     "output_type": "stream",
     "text": [
      "Epoch 190, Loss 0.0392\n",
      "Training Accuracy: 0.9588, Testing Accuracy: 0.9657\n",
      "\n"
     ]
    },
    {
     "name": "stdout",
     "output_type": "stream",
     "text": [
      "Epoch 200, Loss 0.0387\n",
      "Training Accuracy: 0.9594, Testing Accuracy: 0.9662\n",
      "\n"
     ]
    },
    {
     "name": "stdout",
     "output_type": "stream",
     "text": [
      "Epoch 210, Loss 0.0382\n",
      "Training Accuracy: 0.9599, Testing Accuracy: 0.9662\n",
      "\n"
     ]
    },
    {
     "name": "stdout",
     "output_type": "stream",
     "text": [
      "Epoch 220, Loss 0.0378\n",
      "Training Accuracy: 0.9599, Testing Accuracy: 0.9662\n",
      "\n"
     ]
    },
    {
     "name": "stdout",
     "output_type": "stream",
     "text": [
      "Epoch 230, Loss 0.0374\n",
      "Training Accuracy: 0.9603, Testing Accuracy: 0.9662\n",
      "\n"
     ]
    },
    {
     "name": "stdout",
     "output_type": "stream",
     "text": [
      "Epoch 240, Loss 0.037\n",
      "Training Accuracy: 0.9607, Testing Accuracy: 0.9662\n",
      "\n"
     ]
    },
    {
     "data": {
      "text/plain": [
       "0.017306272388460615"
      ]
     },
     "execution_count": 23,
     "metadata": {},
     "output_type": "execute_result"
    }
   ],
   "source": [
    "lr_learner.train_loop(dl)"
   ]
  },
  {
   "cell_type": "code",
   "execution_count": 24,
   "id": "ca410940",
   "metadata": {
    "execution": {
     "iopub.execute_input": "2021-08-26T00:21:31.576445Z",
     "iopub.status.busy": "2021-08-26T00:21:31.575774Z",
     "iopub.status.idle": "2021-08-26T00:21:31.867883Z",
     "shell.execute_reply": "2021-08-26T00:21:31.867013Z"
    },
    "papermill": {
     "duration": 0.352745,
     "end_time": "2021-08-26T00:21:31.868032",
     "exception": false,
     "start_time": "2021-08-26T00:21:31.515287",
     "status": "completed"
    },
    "tags": []
   },
   "outputs": [
    {
     "data": {
      "text/plain": [
       "<matplotlib.legend.Legend at 0x7f7575e239e8>"
      ]
     },
     "execution_count": 24,
     "metadata": {},
     "output_type": "execute_result"
    },
    {
     "data": {
      "image/png": "[encoded data removed]",
      "text/plain": [
       "<Figure size 1080x720 with 1 Axes>"
      ]
     },
     "metadata": {
      "needs_background": "light"
     },
     "output_type": "display_data"
    }
   ],
   "source": [
    "#comparing the results of NN and LR\n",
    "plt.figure(figsize=(15,10))\n",
    "\n",
    "# Neural Network plots\n",
    "plt.plot(acc_nn.accuracies, 'r-', label = \"Training Accuracies - NN\")\n",
    "plt.plot(acc_nn.test_accuracies, 'g-', label = \"Testing Accuracies - NN\")\n",
    "\n",
    "# Logistic Regression plots\n",
    "plt.plot(acc_lr.accuracies, 'k-', label = \"Training Accuracies - LR\")\n",
    "plt.plot(acc_lr.test_accuracies, 'b-', label = \"Testing Accuracies - LR\")\n",
    "plt.legend()"
   ]
  },
  {
   "cell_type": "markdown",
   "id": "80dfb35c",
   "metadata": {
    "papermill": {
     "duration": 0.054004,
     "end_time": "2021-08-26T00:21:31.976375",
     "exception": false,
     "start_time": "2021-08-26T00:21:31.922371",
     "status": "completed"
    },
    "tags": []
   },
   "source": [
    "#### Plotting the outputs of this layer of the NN.\n"
   ]
  },
  {
   "cell_type": "code",
   "execution_count": 25,
   "id": "45eb2ff5",
   "metadata": {
    "execution": {
     "iopub.execute_input": "2021-08-26T00:21:32.104427Z",
     "iopub.status.busy": "2021-08-26T00:21:32.100983Z",
     "iopub.status.idle": "2021-08-26T00:21:32.126789Z",
     "shell.execute_reply": "2021-08-26T00:21:32.127329Z"
    },
    "papermill": {
     "duration": 0.091704,
     "end_time": "2021-08-26T00:21:32.127648",
     "exception": false,
     "start_time": "2021-08-26T00:21:32.035944",
     "status": "completed"
    },
    "tags": []
   },
   "outputs": [],
   "source": [
    "new_model = Model(layers[:-2])\n",
    "testing_plot = new_model(testing_data_x)"
   ]
  },
  {
   "cell_type": "code",
   "execution_count": 26,
   "id": "4c0a5485",
   "metadata": {
    "execution": {
     "iopub.execute_input": "2021-08-26T00:21:32.252996Z",
     "iopub.status.busy": "2021-08-26T00:21:32.252327Z",
     "iopub.status.idle": "2021-08-26T00:21:32.493544Z",
     "shell.execute_reply": "2021-08-26T00:21:32.494071Z"
    },
    "papermill": {
     "duration": 0.310014,
     "end_time": "2021-08-26T00:21:32.494235",
     "exception": false,
     "start_time": "2021-08-26T00:21:32.184221",
     "status": "completed"
    },
    "tags": []
   },
   "outputs": [
    {
     "data": {
      "text/plain": [
       "Text(0.5, 1.0, 'Outputs')"
      ]
     },
     "execution_count": 26,
     "metadata": {},
     "output_type": "execute_result"
    },
    {
     "data": {
      "image/png": "[encoded data removed]",
      "text/plain": [
       "<Figure size 576x504 with 1 Axes>"
      ]
     },
     "metadata": {
      "needs_background": "light"
     },
     "output_type": "display_data"
    }
   ],
   "source": [
    "# Plotting the scatter plot of points and color coding by class\n",
    "plt.figure(figsize=(8,7))\n",
    "plt.scatter(testing_plot[:,0], testing_plot[:,1], alpha = 0.1, c = y_test.ravel());\n",
    "plt.title('Outputs')"
   ]
  },
  {
   "cell_type": "markdown",
   "id": "a74fcf8f",
   "metadata": {
    "papermill": {
     "duration": 0.056517,
     "end_time": "2021-08-26T00:21:32.608552",
     "exception": false,
     "start_time": "2021-08-26T00:21:32.552035",
     "status": "completed"
    },
    "tags": []
   },
   "source": [
    "Probability contours"
   ]
  },
  {
   "cell_type": "code",
   "execution_count": 27,
   "id": "d0afc8e3",
   "metadata": {
    "execution": {
     "iopub.execute_input": "2021-08-26T00:21:32.737184Z",
     "iopub.status.busy": "2021-08-26T00:21:32.736322Z",
     "iopub.status.idle": "2021-08-26T00:21:32.742901Z",
     "shell.execute_reply": "2021-08-26T00:21:32.743420Z"
    },
    "papermill": {
     "duration": 0.07883,
     "end_time": "2021-08-26T00:21:32.743586",
     "exception": false,
     "start_time": "2021-08-26T00:21:32.664756",
     "status": "completed"
    },
    "tags": []
   },
   "outputs": [],
   "source": [
    "model_prob = Model(layers[-2:]) "
   ]
  },
  {
   "cell_type": "code",
   "execution_count": 28,
   "id": "9b96e238",
   "metadata": {
    "execution": {
     "iopub.execute_input": "2021-08-26T00:21:32.910552Z",
     "iopub.status.busy": "2021-08-26T00:21:32.893700Z",
     "iopub.status.idle": "2021-08-26T00:21:32.913064Z",
     "shell.execute_reply": "2021-08-26T00:21:32.913886Z"
    },
    "papermill": {
     "duration": 0.111794,
     "end_time": "2021-08-26T00:21:32.914043",
     "exception": false,
     "start_time": "2021-08-26T00:21:32.802249",
     "status": "completed"
    },
    "tags": []
   },
   "outputs": [],
   "source": [
    "#creating the x and y ranges according to the above generated plot.\n",
    "x_range = np.linspace(-4, 1, 100) \n",
    "y_range = np.linspace(-6, 6, 100) \n",
    "x_grid, y_grid = np.meshgrid(x_range, y_range) # x_grid and y_grig are of size 100 X 100\n",
    "\n",
    "# converting x_grid and y_grid to continuous arrays\n",
    "x_gridflat = np.ravel(x_grid)\n",
    "y_gridflat = np.ravel(y_grid)\n",
    "\n",
    "# The last layer of the current model takes two columns as input. Hence transpose of np.vstack() is required.\n",
    "X = np.vstack((x_gridflat, y_gridflat)).T\n",
    "\n",
    "prob_contour = model_prob(X).reshape(100,100) "
   ]
  },
  {
   "cell_type": "code",
   "execution_count": 29,
   "id": "da72499a",
   "metadata": {
    "execution": {
     "iopub.execute_input": "2021-08-26T00:21:33.050188Z",
     "iopub.status.busy": "2021-08-26T00:21:33.049536Z",
     "iopub.status.idle": "2021-08-26T00:21:33.364721Z",
     "shell.execute_reply": "2021-08-26T00:21:33.364171Z"
    },
    "papermill": {
     "duration": 0.389232,
     "end_time": "2021-08-26T00:21:33.364866",
     "exception": false,
     "start_time": "2021-08-26T00:21:32.975634",
     "status": "completed"
    },
    "tags": []
   },
   "outputs": [
    {
     "data": {
      "image/png": "[encoded data removed]",
      "text/plain": [
       "<Figure size 720x648 with 1 Axes>"
      ]
     },
     "metadata": {
      "needs_background": "light"
     },
     "output_type": "display_data"
    }
   ],
   "source": [
    "plt.figure(figsize=(10,9))\n",
    "plt.scatter(testing_plot[:,0], testing_plot[:,1], alpha = 0.1, c = y_test.ravel())\n",
    "contours = plt.contour(x_grid,y_grid,prob_contour)\n",
    "plt.title('Probability Contours')\n",
    "plt.clabel(contours, inline = True );"
   ]
  },
  {
   "cell_type": "code",
   "execution_count": null,
   "id": "e81b4ac7",
   "metadata": {
    "papermill": {
     "duration": 0.060785,
     "end_time": "2021-08-26T00:21:33.485703",
     "exception": false,
     "start_time": "2021-08-26T00:21:33.424918",
     "status": "completed"
    },
    "tags": []
   },
   "outputs": [],
   "source": []
  }
 ],
 "metadata": {
  "kernelspec": {
   "display_name": "Python 3",
   "language": "python",
   "name": "python3"
  },
  "language_info": {
   "codemirror_mode": {
    "name": "ipython",
    "version": 3
   },
   "file_extension": ".py",
   "mimetype": "text/x-python",
   "name": "python",
   "nbconvert_exporter": "python",
   "pygments_lexer": "ipython3",
   "version": "3.6.14"
  },
  "papermill": {
   "default_parameters": {},
   "duration": 155.975169,
   "end_time": "2021-08-26T00:21:33.953893",
   "environment_variables": {},
   "exception": null,
   "input_path": "2020-08-11-part2.ipynb",
   "output_path": "2020-08-11-part2.ipynb",
   "parameters": {},
   "start_time": "2021-08-26T00:18:57.978724",
   "version": "2.3.3"
  }
 },
 "nbformat": 4,
 "nbformat_minor": 5
}