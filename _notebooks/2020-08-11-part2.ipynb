{
 "cells": [
  {
   "cell_type": "markdown",
   "id": "98380cd3",
   "metadata": {
    "papermill": {
     "duration": 0.029339,
     "end_time": "2022-05-03T00:37:02.233238",
     "exception": false,
     "start_time": "2022-05-03T00:37:02.203899",
     "status": "completed"
    },
    "tags": []
   },
   "source": [
    "# Distinguish Your Own Digits (DYOD)"
   ]
  },
  {
   "cell_type": "markdown",
   "id": "ef31240d",
   "metadata": {
    "papermill": {
     "duration": 0.025143,
     "end_time": "2022-05-03T00:37:02.282783",
     "exception": false,
     "start_time": "2022-05-03T00:37:02.257640",
     "status": "completed"
    },
    "tags": []
   },
   "source": [
    "You are going to write a classifier that distinguishes between the number 3 and number 8."
   ]
  },
  {
   "cell_type": "code",
   "execution_count": 1,
   "id": "b15c8646",
   "metadata": {
    "execution": {
     "iopub.execute_input": "2022-05-03T00:37:02.341032Z",
     "iopub.status.busy": "2022-05-03T00:37:02.340438Z",
     "iopub.status.idle": "2022-05-03T00:37:02.350490Z",
     "shell.execute_reply": "2022-05-03T00:37:02.350990Z"
    },
    "papermill": {
     "duration": 0.044685,
     "end_time": "2022-05-03T00:37:02.351138",
     "exception": false,
     "start_time": "2022-05-03T00:37:02.306453",
     "status": "completed"
    },
    "tags": []
   },
   "outputs": [],
   "source": [
    "%load_ext autoreload\n",
    "%autoreload 2"
   ]
  },
  {
   "cell_type": "code",
   "execution_count": 2,
   "id": "22ef38dc",
   "metadata": {
    "execution": {
     "iopub.execute_input": "2022-05-03T00:37:02.414258Z",
     "iopub.status.busy": "2022-05-03T00:37:02.412304Z",
     "iopub.status.idle": "2022-05-03T00:37:02.950757Z",
     "shell.execute_reply": "2022-05-03T00:37:02.950213Z"
    },
    "papermill": {
     "duration": 0.57598,
     "end_time": "2022-05-03T00:37:02.950900",
     "exception": false,
     "start_time": "2022-05-03T00:37:02.374920",
     "status": "completed"
    },
    "tags": []
   },
   "outputs": [],
   "source": [
    "%matplotlib inline\n",
    "import numpy as np\n",
    "import matplotlib.pyplot as plt\n",
    "import pandas as pd"
   ]
  },
  {
   "cell_type": "markdown",
   "id": "ba036198",
   "metadata": {
    "papermill": {
     "duration": 0.023766,
     "end_time": "2022-05-03T00:37:02.999460",
     "exception": false,
     "start_time": "2022-05-03T00:37:02.975694",
     "status": "completed"
    },
    "tags": []
   },
   "source": [
    "From the command line run `pip install mnist`. This is a library that will help you bring down the mnist dataset. If you run this from a notebook, you need to put  `!pip install mnist` in a cell by itself."
   ]
  },
  {
   "cell_type": "code",
   "execution_count": 3,
   "id": "bb6ad8a1",
   "metadata": {
    "execution": {
     "iopub.execute_input": "2022-05-03T00:37:03.052069Z",
     "iopub.status.busy": "2022-05-03T00:37:03.051546Z",
     "iopub.status.idle": "2022-05-03T00:37:04.700945Z",
     "shell.execute_reply": "2022-05-03T00:37:04.700387Z"
    },
    "papermill": {
     "duration": 1.677906,
     "end_time": "2022-05-03T00:37:04.701079",
     "exception": false,
     "start_time": "2022-05-03T00:37:03.023173",
     "status": "completed"
    },
    "tags": []
   },
   "outputs": [
    {
     "name": "stdout",
     "output_type": "stream",
     "text": [
      "Collecting mnist\r\n"
     ]
    },
    {
     "name": "stdout",
     "output_type": "stream",
     "text": [
      "  Downloading mnist-0.2.2-py2.py3-none-any.whl (3.5 kB)\r\n",
      "Requirement already satisfied: numpy in /opt/hostedtoolcache/Python/3.6.15/x64/lib/python3.6/site-packages (from mnist) (1.19.5)\r\n"
     ]
    },
    {
     "name": "stdout",
     "output_type": "stream",
     "text": [
      "Installing collected packages: mnist\r\n"
     ]
    },
    {
     "name": "stdout",
     "output_type": "stream",
     "text": [
      "Successfully installed mnist-0.2.2\r\n"
     ]
    }
   ],
   "source": [
    "!pip install mnist"
   ]
  },
  {
   "cell_type": "markdown",
   "id": "69df9c9a",
   "metadata": {
    "papermill": {
     "duration": 0.024754,
     "end_time": "2022-05-03T00:37:04.750909",
     "exception": false,
     "start_time": "2022-05-03T00:37:04.726155",
     "status": "completed"
    },
    "tags": []
   },
   "source": [
    "## Preparing the Data"
   ]
  },
  {
   "cell_type": "code",
   "execution_count": 4,
   "id": "7f69d806",
   "metadata": {
    "execution": {
     "iopub.execute_input": "2022-05-03T00:37:04.811198Z",
     "iopub.status.busy": "2022-05-03T00:37:04.810682Z",
     "iopub.status.idle": "2022-05-03T00:37:04.820850Z",
     "shell.execute_reply": "2022-05-03T00:37:04.821267Z"
    },
    "papermill": {
     "duration": 0.045829,
     "end_time": "2022-05-03T00:37:04.821393",
     "exception": false,
     "start_time": "2022-05-03T00:37:04.775564",
     "status": "completed"
    },
    "tags": []
   },
   "outputs": [],
   "source": [
    "import mnist"
   ]
  },
  {
   "cell_type": "code",
   "execution_count": 5,
   "id": "a411e44f",
   "metadata": {
    "execution": {
     "iopub.execute_input": "2022-05-03T00:37:04.873915Z",
     "iopub.status.busy": "2022-05-03T00:37:04.873410Z",
     "iopub.status.idle": "2022-05-03T00:37:05.402974Z",
     "shell.execute_reply": "2022-05-03T00:37:05.403454Z"
    },
    "papermill": {
     "duration": 0.557641,
     "end_time": "2022-05-03T00:37:05.403627",
     "exception": false,
     "start_time": "2022-05-03T00:37:04.845986",
     "status": "completed"
    },
    "tags": []
   },
   "outputs": [],
   "source": [
    "train_images = mnist.train_images()\n",
    "train_labels = mnist.train_labels()"
   ]
  },
  {
   "cell_type": "code",
   "execution_count": 6,
   "id": "dceab3a5",
   "metadata": {
    "execution": {
     "iopub.execute_input": "2022-05-03T00:37:05.467159Z",
     "iopub.status.busy": "2022-05-03T00:37:05.466622Z",
     "iopub.status.idle": "2022-05-03T00:37:05.476664Z",
     "shell.execute_reply": "2022-05-03T00:37:05.477082Z"
    },
    "papermill": {
     "duration": 0.047465,
     "end_time": "2022-05-03T00:37:05.477209",
     "exception": false,
     "start_time": "2022-05-03T00:37:05.429744",
     "status": "completed"
    },
    "tags": []
   },
   "outputs": [
    {
     "data": {
      "text/plain": [
       "((60000, 28, 28), (60000,))"
      ]
     },
     "execution_count": 6,
     "metadata": {},
     "output_type": "execute_result"
    }
   ],
   "source": [
    "train_images.shape, train_labels.shape"
   ]
  },
  {
   "cell_type": "code",
   "execution_count": 7,
   "id": "f50dc2bb",
   "metadata": {
    "execution": {
     "iopub.execute_input": "2022-05-03T00:37:05.530025Z",
     "iopub.status.busy": "2022-05-03T00:37:05.529519Z",
     "iopub.status.idle": "2022-05-03T00:37:05.633911Z",
     "shell.execute_reply": "2022-05-03T00:37:05.633372Z"
    },
    "papermill": {
     "duration": 0.13203,
     "end_time": "2022-05-03T00:37:05.634058",
     "exception": false,
     "start_time": "2022-05-03T00:37:05.502028",
     "status": "completed"
    },
    "tags": []
   },
   "outputs": [],
   "source": [
    "test_images = mnist.test_images()\n",
    "test_labels = mnist.test_labels()"
   ]
  },
  {
   "cell_type": "code",
   "execution_count": 8,
   "id": "fc38cf1b",
   "metadata": {
    "execution": {
     "iopub.execute_input": "2022-05-03T00:37:05.689928Z",
     "iopub.status.busy": "2022-05-03T00:37:05.689395Z",
     "iopub.status.idle": "2022-05-03T00:37:05.701303Z",
     "shell.execute_reply": "2022-05-03T00:37:05.701788Z"
    },
    "papermill": {
     "duration": 0.042161,
     "end_time": "2022-05-03T00:37:05.701925",
     "exception": false,
     "start_time": "2022-05-03T00:37:05.659764",
     "status": "completed"
    },
    "tags": []
   },
   "outputs": [
    {
     "data": {
      "text/plain": [
       "((10000, 28, 28), (10000,))"
      ]
     },
     "execution_count": 8,
     "metadata": {},
     "output_type": "execute_result"
    }
   ],
   "source": [
    "test_images.shape, test_labels.shape"
   ]
  },
  {
   "cell_type": "code",
   "execution_count": 9,
   "id": "f9ed8fe0",
   "metadata": {
    "execution": {
     "iopub.execute_input": "2022-05-03T00:37:05.783785Z",
     "iopub.status.busy": "2022-05-03T00:37:05.769465Z",
     "iopub.status.idle": "2022-05-03T00:37:05.897474Z",
     "shell.execute_reply": "2022-05-03T00:37:05.896978Z"
    },
    "papermill": {
     "duration": 0.170368,
     "end_time": "2022-05-03T00:37:05.897615",
     "exception": false,
     "start_time": "2022-05-03T00:37:05.727247",
     "status": "completed"
    },
    "tags": []
   },
   "outputs": [
    {
     "name": "stdout",
     "output_type": "stream",
     "text": [
      "2\n"
     ]
    },
    {
     "data": {
      "text/plain": [
       "<matplotlib.image.AxesImage at 0x7f522aa244a8>"
      ]
     },
     "execution_count": 9,
     "metadata": {},
     "output_type": "execute_result"
    },
    {
     "data": {
      "image/png": "[encoded data removed]",
      "text/plain": [
       "<Figure size 432x288 with 1 Axes>"
      ]
     },
     "metadata": {
      "needs_background": "light"
     },
     "output_type": "display_data"
    }
   ],
   "source": [
    "image_index = 7776 # You may select anything up to 60,000\n",
    "print(train_labels[image_index]) \n",
    "plt.imshow(train_images[image_index], cmap='Greys')"
   ]
  },
  {
   "cell_type": "markdown",
   "id": "a8d2388d",
   "metadata": {
    "papermill": {
     "duration": 0.026287,
     "end_time": "2022-05-03T00:37:05.951120",
     "exception": false,
     "start_time": "2022-05-03T00:37:05.924833",
     "status": "completed"
    },
    "tags": []
   },
   "source": [
    "## Filter data to get 3 and 8 out"
   ]
  },
  {
   "cell_type": "code",
   "execution_count": 10,
   "id": "776f7fc7",
   "metadata": {
    "execution": {
     "iopub.execute_input": "2022-05-03T00:37:06.008367Z",
     "iopub.status.busy": "2022-05-03T00:37:06.007827Z",
     "iopub.status.idle": "2022-05-03T00:37:06.024442Z",
     "shell.execute_reply": "2022-05-03T00:37:06.024030Z"
    },
    "papermill": {
     "duration": 0.046769,
     "end_time": "2022-05-03T00:37:06.024559",
     "exception": false,
     "start_time": "2022-05-03T00:37:05.977790",
     "status": "completed"
    },
    "tags": []
   },
   "outputs": [],
   "source": [
    "train_filter = np.where((train_labels == 3 ) | (train_labels == 8))\n",
    "test_filter = np.where((test_labels == 3) | (test_labels == 8))\n",
    "X_train, y_train = train_images[train_filter], train_labels[train_filter]\n",
    "X_test, y_test = test_images[test_filter], test_labels[test_filter]"
   ]
  },
  {
   "cell_type": "markdown",
   "id": "948f0b7e",
   "metadata": {
    "papermill": {
     "duration": 0.026128,
     "end_time": "2022-05-03T00:37:06.076991",
     "exception": false,
     "start_time": "2022-05-03T00:37:06.050863",
     "status": "completed"
    },
    "tags": []
   },
   "source": [
    "We normalize the pizel values in the 0 to 1 range"
   ]
  },
  {
   "cell_type": "code",
   "execution_count": 11,
   "id": "ee4c2166",
   "metadata": {
    "execution": {
     "iopub.execute_input": "2022-05-03T00:37:06.134477Z",
     "iopub.status.busy": "2022-05-03T00:37:06.133961Z",
     "iopub.status.idle": "2022-05-03T00:37:06.178322Z",
     "shell.execute_reply": "2022-05-03T00:37:06.177819Z"
    },
    "papermill": {
     "duration": 0.075292,
     "end_time": "2022-05-03T00:37:06.178463",
     "exception": false,
     "start_time": "2022-05-03T00:37:06.103171",
     "status": "completed"
    },
    "tags": []
   },
   "outputs": [],
   "source": [
    "X_train = X_train/255.\n",
    "X_test = X_test/255."
   ]
  },
  {
   "cell_type": "markdown",
   "id": "ddcf4fab",
   "metadata": {
    "papermill": {
     "duration": 0.026291,
     "end_time": "2022-05-03T00:37:06.232351",
     "exception": false,
     "start_time": "2022-05-03T00:37:06.206060",
     "status": "completed"
    },
    "tags": []
   },
   "source": [
    "And setup the labels as 1 (when the digit is 3) and 0 (when the digit is 8)"
   ]
  },
  {
   "cell_type": "code",
   "execution_count": 12,
   "id": "7dc908f2",
   "metadata": {
    "execution": {
     "iopub.execute_input": "2022-05-03T00:37:06.301219Z",
     "iopub.status.busy": "2022-05-03T00:37:06.297621Z",
     "iopub.status.idle": "2022-05-03T00:37:06.303476Z",
     "shell.execute_reply": "2022-05-03T00:37:06.303069Z"
    },
    "papermill": {
     "duration": 0.044984,
     "end_time": "2022-05-03T00:37:06.303590",
     "exception": false,
     "start_time": "2022-05-03T00:37:06.258606",
     "status": "completed"
    },
    "tags": []
   },
   "outputs": [],
   "source": [
    "y_train = 1*(y_train==3)\n",
    "y_test = 1*(y_test==3)"
   ]
  },
  {
   "cell_type": "code",
   "execution_count": 13,
   "id": "01e4e969",
   "metadata": {
    "execution": {
     "iopub.execute_input": "2022-05-03T00:37:06.359765Z",
     "iopub.status.busy": "2022-05-03T00:37:06.359259Z",
     "iopub.status.idle": "2022-05-03T00:37:06.372141Z",
     "shell.execute_reply": "2022-05-03T00:37:06.371716Z"
    },
    "papermill": {
     "duration": 0.042508,
     "end_time": "2022-05-03T00:37:06.372243",
     "exception": false,
     "start_time": "2022-05-03T00:37:06.329735",
     "status": "completed"
    },
    "tags": []
   },
   "outputs": [
    {
     "data": {
      "text/plain": [
       "((11982, 28, 28), (1984, 28, 28))"
      ]
     },
     "execution_count": 13,
     "metadata": {},
     "output_type": "execute_result"
    }
   ],
   "source": [
    "X_train.shape, X_test.shape"
   ]
  },
  {
   "cell_type": "markdown",
   "id": "5ccf3f85",
   "metadata": {
    "papermill": {
     "duration": 0.026342,
     "end_time": "2022-05-03T00:37:06.425007",
     "exception": false,
     "start_time": "2022-05-03T00:37:06.398665",
     "status": "completed"
    },
    "tags": []
   },
   "source": [
    "We reshape the data to flatten the image pixels into a set of features or co-variates:"
   ]
  },
  {
   "cell_type": "code",
   "execution_count": 14,
   "id": "5286a4a3",
   "metadata": {
    "execution": {
     "iopub.execute_input": "2022-05-03T00:37:06.489365Z",
     "iopub.status.busy": "2022-05-03T00:37:06.488852Z",
     "iopub.status.idle": "2022-05-03T00:37:06.496890Z",
     "shell.execute_reply": "2022-05-03T00:37:06.496436Z"
    },
    "papermill": {
     "duration": 0.045499,
     "end_time": "2022-05-03T00:37:06.496996",
     "exception": false,
     "start_time": "2022-05-03T00:37:06.451497",
     "status": "completed"
    },
    "tags": []
   },
   "outputs": [
    {
     "data": {
      "text/plain": [
       "((11982, 784), (1984, 784))"
      ]
     },
     "execution_count": 14,
     "metadata": {},
     "output_type": "execute_result"
    }
   ],
   "source": [
    "X_train = X_train.reshape(X_train.shape[0], -1)\n",
    "X_test = X_test.reshape(X_test.shape[0], -1)\n",
    "X_train.shape, X_test.shape"
   ]
  },
  {
   "cell_type": "code",
   "execution_count": 15,
   "id": "73c5f88a",
   "metadata": {
    "execution": {
     "iopub.execute_input": "2022-05-03T00:37:06.563196Z",
     "iopub.status.busy": "2022-05-03T00:37:06.562681Z",
     "iopub.status.idle": "2022-05-03T00:37:06.575807Z",
     "shell.execute_reply": "2022-05-03T00:37:06.576213Z"
    },
    "papermill": {
     "duration": 0.052437,
     "end_time": "2022-05-03T00:37:06.576333",
     "exception": false,
     "start_time": "2022-05-03T00:37:06.523896",
     "status": "completed"
    },
    "tags": []
   },
   "outputs": [],
   "source": [
    "#Impoting functions from 'Kudzu'\n",
    "from kudzu.model import Model\n",
    "from kudzu.train import Learner\n",
    "from kudzu.optim import GD\n",
    "from kudzu.data import Data, Sampler,Dataloader\n",
    "\n",
    "from kudzu.callbacks import AccCallback\n",
    "from kudzu.callbacks import ClfCallback\n",
    "\n",
    "from kudzu.loss import MSE\n",
    "\n",
    "from kudzu.layer import Sigmoid,Relu\n",
    "from kudzu.layer import Affine"
   ]
  },
  {
   "cell_type": "markdown",
   "id": "bc01172a",
   "metadata": {
    "papermill": {
     "duration": 0.026638,
     "end_time": "2022-05-03T00:37:06.629792",
     "exception": false,
     "start_time": "2022-05-03T00:37:06.603154",
     "status": "completed"
    },
    "tags": []
   },
   "source": [
    "### Let us create a `Config` class, to store important parameters. \n",
    "This class essentially plays the role of a dictionary."
   ]
  },
  {
   "cell_type": "code",
   "execution_count": 16,
   "id": "978281aa",
   "metadata": {
    "execution": {
     "iopub.execute_input": "2022-05-03T00:37:06.693541Z",
     "iopub.status.busy": "2022-05-03T00:37:06.692936Z",
     "iopub.status.idle": "2022-05-03T00:37:06.702577Z",
     "shell.execute_reply": "2022-05-03T00:37:06.702144Z"
    },
    "papermill": {
     "duration": 0.046187,
     "end_time": "2022-05-03T00:37:06.702684",
     "exception": false,
     "start_time": "2022-05-03T00:37:06.656497",
     "status": "completed"
    },
    "tags": []
   },
   "outputs": [],
   "source": [
    "class Config:\n",
    "    pass\n",
    "config = Config()\n",
    "config.lr = 0.001\n",
    "config.num_epochs = 250\n",
    "config.bs = 50"
   ]
  },
  {
   "cell_type": "markdown",
   "id": "1385fa59",
   "metadata": {
    "papermill": {
     "duration": 0.026748,
     "end_time": "2022-05-03T00:37:06.756406",
     "exception": false,
     "start_time": "2022-05-03T00:37:06.729658",
     "status": "completed"
    },
    "tags": []
   },
   "source": [
    "### Running Models with the Training data\n",
    "Details about the network layers:\n",
    "- A first affine layer has 784 inputs and does 100 affine transforms. These are followed by a Relu\n",
    "- A second affine layer has 100 inputs from the 100 activations of the past layer, and does 100 affine transforms. These are followed by a Relu\n",
    "- A third affine layer has 100 activations and does 2 affine transformations to create an embedding for visualization. There is no non-linearity here.\n",
    "- A final \"logistic regression\" which has an affine transform from 2 inputs to 1 output, which is squeezed through a sigmoid.\n"
   ]
  },
  {
   "cell_type": "code",
   "execution_count": 17,
   "id": "2b9c66db",
   "metadata": {
    "execution": {
     "iopub.execute_input": "2022-05-03T00:37:06.819293Z",
     "iopub.status.busy": "2022-05-03T00:37:06.813486Z",
     "iopub.status.idle": "2022-05-03T00:37:06.826191Z",
     "shell.execute_reply": "2022-05-03T00:37:06.826601Z"
    },
    "papermill": {
     "duration": 0.043431,
     "end_time": "2022-05-03T00:37:06.826724",
     "exception": false,
     "start_time": "2022-05-03T00:37:06.783293",
     "status": "completed"
    },
    "tags": []
   },
   "outputs": [],
   "source": [
    "data = Data(X_train, y_train.reshape(-1,1))\n",
    "sampler = Sampler(data, config.bs, shuffle=True)\n",
    "\n",
    "dl = Dataloader(data, sampler)\n",
    "\n",
    "opt = GD(config.lr)\n",
    "loss = MSE()"
   ]
  },
  {
   "cell_type": "code",
   "execution_count": 18,
   "id": "b275e4c2",
   "metadata": {
    "execution": {
     "iopub.execute_input": "2022-05-03T00:37:06.889309Z",
     "iopub.status.busy": "2022-05-03T00:37:06.884880Z",
     "iopub.status.idle": "2022-05-03T00:37:06.896475Z",
     "shell.execute_reply": "2022-05-03T00:37:06.896065Z"
    },
    "papermill": {
     "duration": 0.043007,
     "end_time": "2022-05-03T00:37:06.896609",
     "exception": false,
     "start_time": "2022-05-03T00:37:06.853602",
     "status": "completed"
    },
    "tags": []
   },
   "outputs": [],
   "source": [
    "training_data_x = X_train\n",
    "testing_data_x = X_test\n",
    "training_data_y = y_train.reshape(-1,1)\n",
    "testing_data_y = y_test.reshape(-1,1)"
   ]
  },
  {
   "cell_type": "code",
   "execution_count": 19,
   "id": "76951160",
   "metadata": {
    "execution": {
     "iopub.execute_input": "2022-05-03T00:37:06.955930Z",
     "iopub.status.busy": "2022-05-03T00:37:06.954768Z",
     "iopub.status.idle": "2022-05-03T00:37:06.972414Z",
     "shell.execute_reply": "2022-05-03T00:37:06.972003Z"
    },
    "papermill": {
     "duration": 0.048927,
     "end_time": "2022-05-03T00:37:06.972532",
     "exception": false,
     "start_time": "2022-05-03T00:37:06.923605",
     "status": "completed"
    },
    "tags": []
   },
   "outputs": [
    {
     "name": "stdout",
     "output_type": "stream",
     "text": [
      "xavier\n",
      "xavier\n",
      "xavier\n",
      "xavier\n",
      "xavier\n"
     ]
    }
   ],
   "source": [
    "layers = [Affine(\"first\", 784, 100), Relu(\"first\"), Affine(\"second\", 100, 100), Relu(\"second\"), Affine(\"third\", 100, 2), Affine(\"last\", 2, 1), Sigmoid(\"last\")]\n",
    "model_nn = Model(layers)\n",
    "model_lr = Model([Affine(\"logits\", 784, 1), Sigmoid(\"sigmoid\")])"
   ]
  },
  {
   "cell_type": "code",
   "execution_count": 20,
   "id": "6eede77a",
   "metadata": {
    "execution": {
     "iopub.execute_input": "2022-05-03T00:37:07.033908Z",
     "iopub.status.busy": "2022-05-03T00:37:07.033365Z",
     "iopub.status.idle": "2022-05-03T00:37:07.045006Z",
     "shell.execute_reply": "2022-05-03T00:37:07.045425Z"
    },
    "papermill": {
     "duration": 0.045591,
     "end_time": "2022-05-03T00:37:07.045567",
     "exception": false,
     "start_time": "2022-05-03T00:37:06.999976",
     "status": "completed"
    },
    "tags": []
   },
   "outputs": [],
   "source": [
    "nn_learner = Learner(loss, model_nn, opt, config.num_epochs)\n",
    "acc_nn = ClfCallback(nn_learner, config.bs, training_data_x , testing_data_x, training_data_y, testing_data_y)\n",
    "nn_learner.set_callbacks([acc_nn])"
   ]
  },
  {
   "cell_type": "code",
   "execution_count": 21,
   "id": "877b6cc7",
   "metadata": {
    "execution": {
     "iopub.execute_input": "2022-05-03T00:37:07.104771Z",
     "iopub.status.busy": "2022-05-03T00:37:07.104230Z",
     "iopub.status.idle": "2022-05-03T00:37:07.116716Z",
     "shell.execute_reply": "2022-05-03T00:37:07.116260Z"
    },
    "papermill": {
     "duration": 0.043817,
     "end_time": "2022-05-03T00:37:07.116833",
     "exception": false,
     "start_time": "2022-05-03T00:37:07.073016",
     "status": "completed"
    },
    "tags": []
   },
   "outputs": [],
   "source": [
    "lr_learner = Learner(loss, model_lr, opt, config.num_epochs)\n",
    "acc_lr = ClfCallback(lr_learner, config.bs, training_data_x , testing_data_x, training_data_y, testing_data_y)\n",
    "lr_learner.set_callbacks([acc_lr])"
   ]
  },
  {
   "cell_type": "code",
   "execution_count": 22,
   "id": "d9b133c3",
   "metadata": {
    "execution": {
     "iopub.execute_input": "2022-05-03T00:37:07.177796Z",
     "iopub.status.busy": "2022-05-03T00:37:07.177288Z",
     "iopub.status.idle": "2022-05-03T00:38:26.198402Z",
     "shell.execute_reply": "2022-05-03T00:38:26.199145Z"
    },
    "papermill": {
     "duration": 79.055137,
     "end_time": "2022-05-03T00:38:26.199303",
     "exception": false,
     "start_time": "2022-05-03T00:37:07.144166",
     "status": "completed"
    },
    "tags": []
   },
   "outputs": [
    {
     "name": "stdout",
     "output_type": "stream",
     "text": [
      "Epoch 0, Loss 0.2162\n",
      "Training Accuracy: 0.8155, Testing Accuracy: 0.8327\n",
      "\n"
     ]
    },
    {
     "name": "stdout",
     "output_type": "stream",
     "text": [
      "Epoch 10, Loss 0.0797\n",
      "Training Accuracy: 0.9280, Testing Accuracy: 0.9335\n",
      "\n"
     ]
    },
    {
     "name": "stdout",
     "output_type": "stream",
     "text": [
      "Epoch 20, Loss 0.0522\n",
      "Training Accuracy: 0.9442, Testing Accuracy: 0.9531\n",
      "\n"
     ]
    },
    {
     "name": "stdout",
     "output_type": "stream",
     "text": [
      "Epoch 30, Loss 0.0426\n",
      "Training Accuracy: 0.9518, Testing Accuracy: 0.9587\n",
      "\n"
     ]
    },
    {
     "name": "stdout",
     "output_type": "stream",
     "text": [
      "Epoch 40, Loss 0.0377\n",
      "Training Accuracy: 0.9568, Testing Accuracy: 0.9612\n",
      "\n"
     ]
    },
    {
     "name": "stdout",
     "output_type": "stream",
     "text": [
      "Epoch 50, Loss 0.0345\n",
      "Training Accuracy: 0.9600, Testing Accuracy: 0.9657\n",
      "\n"
     ]
    },
    {
     "name": "stdout",
     "output_type": "stream",
     "text": [
      "Epoch 60, Loss 0.0323\n",
      "Training Accuracy: 0.9629, Testing Accuracy: 0.9677\n",
      "\n"
     ]
    },
    {
     "name": "stdout",
     "output_type": "stream",
     "text": [
      "Epoch 70, Loss 0.0306\n",
      "Training Accuracy: 0.9652, Testing Accuracy: 0.9698\n",
      "\n"
     ]
    },
    {
     "name": "stdout",
     "output_type": "stream",
     "text": [
      "Epoch 80, Loss 0.0292\n",
      "Training Accuracy: 0.9663, Testing Accuracy: 0.9703\n",
      "\n"
     ]
    },
    {
     "name": "stdout",
     "output_type": "stream",
     "text": [
      "Epoch 90, Loss 0.0281\n",
      "Training Accuracy: 0.9673, Testing Accuracy: 0.9703\n",
      "\n"
     ]
    },
    {
     "name": "stdout",
     "output_type": "stream",
     "text": [
      "Epoch 100, Loss 0.0271\n",
      "Training Accuracy: 0.9687, Testing Accuracy: 0.9708\n",
      "\n"
     ]
    },
    {
     "name": "stdout",
     "output_type": "stream",
     "text": [
      "Epoch 110, Loss 0.0262\n",
      "Training Accuracy: 0.9695, Testing Accuracy: 0.9698\n",
      "\n"
     ]
    },
    {
     "name": "stdout",
     "output_type": "stream",
     "text": [
      "Epoch 120, Loss 0.0255\n",
      "Training Accuracy: 0.9707, Testing Accuracy: 0.9703\n",
      "\n"
     ]
    },
    {
     "name": "stdout",
     "output_type": "stream",
     "text": [
      "Epoch 130, Loss 0.0248\n",
      "Training Accuracy: 0.9714, Testing Accuracy: 0.9703\n",
      "\n"
     ]
    },
    {
     "name": "stdout",
     "output_type": "stream",
     "text": [
      "Epoch 140, Loss 0.0242\n",
      "Training Accuracy: 0.9720, Testing Accuracy: 0.9708\n",
      "\n"
     ]
    },
    {
     "name": "stdout",
     "output_type": "stream",
     "text": [
      "Epoch 150, Loss 0.0236\n",
      "Training Accuracy: 0.9725, Testing Accuracy: 0.9708\n",
      "\n"
     ]
    },
    {
     "name": "stdout",
     "output_type": "stream",
     "text": [
      "Epoch 160, Loss 0.0231\n",
      "Training Accuracy: 0.9735, Testing Accuracy: 0.9708\n",
      "\n"
     ]
    },
    {
     "name": "stdout",
     "output_type": "stream",
     "text": [
      "Epoch 170, Loss 0.0226\n",
      "Training Accuracy: 0.9741, Testing Accuracy: 0.9713\n",
      "\n"
     ]
    },
    {
     "name": "stdout",
     "output_type": "stream",
     "text": [
      "Epoch 180, Loss 0.0222\n",
      "Training Accuracy: 0.9747, Testing Accuracy: 0.9723\n",
      "\n"
     ]
    },
    {
     "name": "stdout",
     "output_type": "stream",
     "text": [
      "Epoch 190, Loss 0.0217\n",
      "Training Accuracy: 0.9751, Testing Accuracy: 0.9718\n",
      "\n"
     ]
    },
    {
     "name": "stdout",
     "output_type": "stream",
     "text": [
      "Epoch 200, Loss 0.0213\n",
      "Training Accuracy: 0.9755, Testing Accuracy: 0.9723\n",
      "\n"
     ]
    },
    {
     "name": "stdout",
     "output_type": "stream",
     "text": [
      "Epoch 210, Loss 0.0209\n",
      "Training Accuracy: 0.9763, Testing Accuracy: 0.9723\n",
      "\n"
     ]
    },
    {
     "name": "stdout",
     "output_type": "stream",
     "text": [
      "Epoch 220, Loss 0.0205\n",
      "Training Accuracy: 0.9768, Testing Accuracy: 0.9723\n",
      "\n"
     ]
    },
    {
     "name": "stdout",
     "output_type": "stream",
     "text": [
      "Epoch 230, Loss 0.0202\n",
      "Training Accuracy: 0.9773, Testing Accuracy: 0.9728\n",
      "\n"
     ]
    },
    {
     "name": "stdout",
     "output_type": "stream",
     "text": [
      "Epoch 240, Loss 0.0198\n",
      "Training Accuracy: 0.9775, Testing Accuracy: 0.9728\n",
      "\n"
     ]
    },
    {
     "data": {
      "text/plain": [
       "0.0026914531944037994"
      ]
     },
     "execution_count": 22,
     "metadata": {},
     "output_type": "execute_result"
    }
   ],
   "source": [
    "nn_learner.train_loop(dl)"
   ]
  },
  {
   "cell_type": "code",
   "execution_count": 23,
   "id": "e0163366",
   "metadata": {
    "execution": {
     "iopub.execute_input": "2022-05-03T00:38:26.280715Z",
     "iopub.status.busy": "2022-05-03T00:38:26.280172Z",
     "iopub.status.idle": "2022-05-03T00:38:40.357827Z",
     "shell.execute_reply": "2022-05-03T00:38:40.358570Z"
    },
    "papermill": {
     "duration": 14.124508,
     "end_time": "2022-05-03T00:38:40.358723",
     "exception": false,
     "start_time": "2022-05-03T00:38:26.234215",
     "status": "completed"
    },
    "tags": []
   },
   "outputs": [
    {
     "name": "stdout",
     "output_type": "stream",
     "text": [
      "Epoch 0, Loss 0.2195\n",
      "Training Accuracy: 0.7568, Testing Accuracy: 0.7752\n",
      "\n"
     ]
    },
    {
     "name": "stdout",
     "output_type": "stream",
     "text": [
      "Epoch 10, Loss 0.1\n",
      "Training Accuracy: 0.9117, Testing Accuracy: 0.9209\n",
      "\n"
     ]
    },
    {
     "name": "stdout",
     "output_type": "stream",
     "text": [
      "Epoch 20, Loss 0.078\n",
      "Training Accuracy: 0.9275, Testing Accuracy: 0.9395\n",
      "\n"
     ]
    },
    {
     "name": "stdout",
     "output_type": "stream",
     "text": [
      "Epoch 30, Loss 0.0677\n",
      "Training Accuracy: 0.9352, Testing Accuracy: 0.9476\n",
      "\n"
     ]
    },
    {
     "name": "stdout",
     "output_type": "stream",
     "text": [
      "Epoch 40, Loss 0.0614\n",
      "Training Accuracy: 0.9392, Testing Accuracy: 0.9531\n",
      "\n"
     ]
    },
    {
     "name": "stdout",
     "output_type": "stream",
     "text": [
      "Epoch 50, Loss 0.0571\n",
      "Training Accuracy: 0.9427, Testing Accuracy: 0.9556\n",
      "\n"
     ]
    },
    {
     "name": "stdout",
     "output_type": "stream",
     "text": [
      "Epoch 60, Loss 0.0539\n",
      "Training Accuracy: 0.9453, Testing Accuracy: 0.9561\n",
      "\n"
     ]
    },
    {
     "name": "stdout",
     "output_type": "stream",
     "text": [
      "Epoch 70, Loss 0.0514\n",
      "Training Accuracy: 0.9473, Testing Accuracy: 0.9577\n",
      "\n"
     ]
    },
    {
     "name": "stdout",
     "output_type": "stream",
     "text": [
      "Epoch 80, Loss 0.0494\n",
      "Training Accuracy: 0.9489, Testing Accuracy: 0.9572\n",
      "\n"
     ]
    },
    {
     "name": "stdout",
     "output_type": "stream",
     "text": [
      "Epoch 90, Loss 0.0477\n",
      "Training Accuracy: 0.9509, Testing Accuracy: 0.9572\n",
      "\n"
     ]
    },
    {
     "name": "stdout",
     "output_type": "stream",
     "text": [
      "Epoch 100, Loss 0.0463\n",
      "Training Accuracy: 0.9525, Testing Accuracy: 0.9582\n",
      "\n"
     ]
    },
    {
     "name": "stdout",
     "output_type": "stream",
     "text": [
      "Epoch 110, Loss 0.0451\n",
      "Training Accuracy: 0.9533, Testing Accuracy: 0.9587\n",
      "\n"
     ]
    },
    {
     "name": "stdout",
     "output_type": "stream",
     "text": [
      "Epoch 120, Loss 0.0441\n",
      "Training Accuracy: 0.9542, Testing Accuracy: 0.9612\n",
      "\n"
     ]
    },
    {
     "name": "stdout",
     "output_type": "stream",
     "text": [
      "Epoch 130, Loss 0.0431\n",
      "Training Accuracy: 0.9551, Testing Accuracy: 0.9607\n",
      "\n"
     ]
    },
    {
     "name": "stdout",
     "output_type": "stream",
     "text": [
      "Epoch 140, Loss 0.0423\n",
      "Training Accuracy: 0.9563, Testing Accuracy: 0.9607\n",
      "\n"
     ]
    },
    {
     "name": "stdout",
     "output_type": "stream",
     "text": [
      "Epoch 150, Loss 0.0415\n",
      "Training Accuracy: 0.9567, Testing Accuracy: 0.9612\n",
      "\n"
     ]
    },
    {
     "name": "stdout",
     "output_type": "stream",
     "text": [
      "Epoch 160, Loss 0.0409\n",
      "Training Accuracy: 0.9570, Testing Accuracy: 0.9622\n",
      "\n"
     ]
    },
    {
     "name": "stdout",
     "output_type": "stream",
     "text": [
      "Epoch 170, Loss 0.0403\n",
      "Training Accuracy: 0.9576, Testing Accuracy: 0.9622\n",
      "\n"
     ]
    },
    {
     "name": "stdout",
     "output_type": "stream",
     "text": [
      "Epoch 180, Loss 0.0397\n",
      "Training Accuracy: 0.9583, Testing Accuracy: 0.9627\n",
      "\n"
     ]
    },
    {
     "name": "stdout",
     "output_type": "stream",
     "text": [
      "Epoch 190, Loss 0.0392\n",
      "Training Accuracy: 0.9584, Testing Accuracy: 0.9632\n",
      "\n"
     ]
    },
    {
     "name": "stdout",
     "output_type": "stream",
     "text": [
      "Epoch 200, Loss 0.0387\n",
      "Training Accuracy: 0.9588, Testing Accuracy: 0.9632\n",
      "\n"
     ]
    },
    {
     "name": "stdout",
     "output_type": "stream",
     "text": [
      "Epoch 210, Loss 0.0382\n",
      "Training Accuracy: 0.9593, Testing Accuracy: 0.9637\n",
      "\n"
     ]
    },
    {
     "name": "stdout",
     "output_type": "stream",
     "text": [
      "Epoch 220, Loss 0.0378\n",
      "Training Accuracy: 0.9599, Testing Accuracy: 0.9637\n",
      "\n"
     ]
    },
    {
     "name": "stdout",
     "output_type": "stream",
     "text": [
      "Epoch 230, Loss 0.0374\n",
      "Training Accuracy: 0.9599, Testing Accuracy: 0.9642\n",
      "\n"
     ]
    },
    {
     "name": "stdout",
     "output_type": "stream",
     "text": [
      "Epoch 240, Loss 0.0371\n",
      "Training Accuracy: 0.9599, Testing Accuracy: 0.9647\n",
      "\n"
     ]
    },
    {
     "data": {
      "text/plain": [
       "0.02765379648184842"
      ]
     },
     "execution_count": 23,
     "metadata": {},
     "output_type": "execute_result"
    }
   ],
   "source": [
    "lr_learner.train_loop(dl)"
   ]
  },
  {
   "cell_type": "code",
   "execution_count": 24,
   "id": "ca410940",
   "metadata": {
    "execution": {
     "iopub.execute_input": "2022-05-03T00:38:40.450240Z",
     "iopub.status.busy": "2022-05-03T00:38:40.449709Z",
     "iopub.status.idle": "2022-05-03T00:38:40.667644Z",
     "shell.execute_reply": "2022-05-03T00:38:40.667192Z"
    },
    "papermill": {
     "duration": 0.267514,
     "end_time": "2022-05-03T00:38:40.667765",
     "exception": false,
     "start_time": "2022-05-03T00:38:40.400251",
     "status": "completed"
    },
    "tags": []
   },
   "outputs": [
    {
     "data": {
      "text/plain": [
       "<matplotlib.legend.Legend at 0x7f521de59b00>"
      ]
     },
     "execution_count": 24,
     "metadata": {},
     "output_type": "execute_result"
    },
    {
     "data": {
      "image/png": "[encoded data removed]",
      "text/plain": [
       "<Figure size 1080x720 with 1 Axes>"
      ]
     },
     "metadata": {
      "needs_background": "light"
     },
     "output_type": "display_data"
    }
   ],
   "source": [
    "#comparing the results of NN and LR\n",
    "plt.figure(figsize=(15,10))\n",
    "\n",
    "# Neural Network plots\n",
    "plt.plot(acc_nn.accuracies, 'r-', label = \"Training Accuracies - NN\")\n",
    "plt.plot(acc_nn.test_accuracies, 'g-', label = \"Testing Accuracies - NN\")\n",
    "\n",
    "# Logistic Regression plots\n",
    "plt.plot(acc_lr.accuracies, 'k-', label = \"Training Accuracies - LR\")\n",
    "plt.plot(acc_lr.test_accuracies, 'b-', label = \"Testing Accuracies - LR\")\n",
    "plt.legend()"
   ]
  },
  {
   "cell_type": "markdown",
   "id": "80dfb35c",
   "metadata": {
    "papermill": {
     "duration": 0.041808,
     "end_time": "2022-05-03T00:38:40.751893",
     "exception": false,
     "start_time": "2022-05-03T00:38:40.710085",
     "status": "completed"
    },
    "tags": []
   },
   "source": [
    "#### Plotting the outputs of this layer of the NN.\n"
   ]
  },
  {
   "cell_type": "code",
   "execution_count": 25,
   "id": "45eb2ff5",
   "metadata": {
    "execution": {
     "iopub.execute_input": "2022-05-03T00:38:40.839911Z",
     "iopub.status.busy": "2022-05-03T00:38:40.839370Z",
     "iopub.status.idle": "2022-05-03T00:38:40.859281Z",
     "shell.execute_reply": "2022-05-03T00:38:40.859701Z"
    },
    "papermill": {
     "duration": 0.066215,
     "end_time": "2022-05-03T00:38:40.859833",
     "exception": false,
     "start_time": "2022-05-03T00:38:40.793618",
     "status": "completed"
    },
    "tags": []
   },
   "outputs": [],
   "source": [
    "new_model = Model(layers[:-2])\n",
    "testing_plot = new_model(testing_data_x)"
   ]
  },
  {
   "cell_type": "code",
   "execution_count": 26,
   "id": "4c0a5485",
   "metadata": {
    "execution": {
     "iopub.execute_input": "2022-05-03T00:38:40.949800Z",
     "iopub.status.busy": "2022-05-03T00:38:40.949037Z",
     "iopub.status.idle": "2022-05-03T00:38:41.156196Z",
     "shell.execute_reply": "2022-05-03T00:38:41.155720Z"
    },
    "papermill": {
     "duration": 0.253487,
     "end_time": "2022-05-03T00:38:41.156324",
     "exception": false,
     "start_time": "2022-05-03T00:38:40.902837",
     "status": "completed"
    },
    "tags": []
   },
   "outputs": [
    {
     "data": {
      "text/plain": [
       "Text(0.5, 1.0, 'Outputs')"
      ]
     },
     "execution_count": 26,
     "metadata": {},
     "output_type": "execute_result"
    },
    {
     "data": {
      "image/png": "[encoded data removed]",
      "text/plain": [
       "<Figure size 576x504 with 1 Axes>"
      ]
     },
     "metadata": {
      "needs_background": "light"
     },
     "output_type": "display_data"
    }
   ],
   "source": [
    "# Plotting the scatter plot of points and color coding by class\n",
    "plt.figure(figsize=(8,7))\n",
    "plt.scatter(testing_plot[:,0], testing_plot[:,1], alpha = 0.1, c = y_test.ravel());\n",
    "plt.title('Outputs')"
   ]
  },
  {
   "cell_type": "markdown",
   "id": "a74fcf8f",
   "metadata": {
    "papermill": {
     "duration": 0.044415,
     "end_time": "2022-05-03T00:38:41.245379",
     "exception": false,
     "start_time": "2022-05-03T00:38:41.200964",
     "status": "completed"
    },
    "tags": []
   },
   "source": [
    "Probability contours"
   ]
  },
  {
   "cell_type": "code",
   "execution_count": 27,
   "id": "d0afc8e3",
   "metadata": {
    "execution": {
     "iopub.execute_input": "2022-05-03T00:38:41.338509Z",
     "iopub.status.busy": "2022-05-03T00:38:41.337898Z",
     "iopub.status.idle": "2022-05-03T00:38:41.349433Z",
     "shell.execute_reply": "2022-05-03T00:38:41.348998Z"
    },
    "papermill": {
     "duration": 0.059691,
     "end_time": "2022-05-03T00:38:41.349543",
     "exception": false,
     "start_time": "2022-05-03T00:38:41.289852",
     "status": "completed"
    },
    "tags": []
   },
   "outputs": [],
   "source": [
    "model_prob = Model(layers[-2:]) "
   ]
  },
  {
   "cell_type": "code",
   "execution_count": 28,
   "id": "9b96e238",
   "metadata": {
    "execution": {
     "iopub.execute_input": "2022-05-03T00:38:41.471581Z",
     "iopub.status.busy": "2022-05-03T00:38:41.470623Z",
     "iopub.status.idle": "2022-05-03T00:38:41.484651Z",
     "shell.execute_reply": "2022-05-03T00:38:41.485065Z"
    },
    "papermill": {
     "duration": 0.063074,
     "end_time": "2022-05-03T00:38:41.485189",
     "exception": false,
     "start_time": "2022-05-03T00:38:41.422115",
     "status": "completed"
    },
    "tags": []
   },
   "outputs": [],
   "source": [
    "#creating the x and y ranges according to the above generated plot.\n",
    "x_range = np.linspace(-4, 1, 100) \n",
    "y_range = np.linspace(-6, 6, 100) \n",
    "x_grid, y_grid = np.meshgrid(x_range, y_range) # x_grid and y_grig are of size 100 X 100\n",
    "\n",
    "# converting x_grid and y_grid to continuous arrays\n",
    "x_gridflat = np.ravel(x_grid)\n",
    "y_gridflat = np.ravel(y_grid)\n",
    "\n",
    "# The last layer of the current model takes two columns as input. Hence transpose of np.vstack() is required.\n",
    "X = np.vstack((x_gridflat, y_gridflat)).T\n",
    "\n",
    "prob_contour = model_prob(X).reshape(100,100) "
   ]
  },
  {
   "cell_type": "code",
   "execution_count": 29,
   "id": "da72499a",
   "metadata": {
    "execution": {
     "iopub.execute_input": "2022-05-03T00:38:41.582402Z",
     "iopub.status.busy": "2022-05-03T00:38:41.581891Z",
     "iopub.status.idle": "2022-05-03T00:38:41.814996Z",
     "shell.execute_reply": "2022-05-03T00:38:41.815387Z"
    },
    "papermill": {
     "duration": 0.285613,
     "end_time": "2022-05-03T00:38:41.815537",
     "exception": false,
     "start_time": "2022-05-03T00:38:41.529924",
     "status": "completed"
    },
    "tags": []
   },
   "outputs": [
    {
     "data": {
      "image/png": "[encoded data removed]",
      "text/plain": [
       "<Figure size 720x648 with 1 Axes>"
      ]
     },
     "metadata": {
      "needs_background": "light"
     },
     "output_type": "display_data"
    }
   ],
   "source": [
    "plt.figure(figsize=(10,9))\n",
    "plt.scatter(testing_plot[:,0], testing_plot[:,1], alpha = 0.1, c = y_test.ravel())\n",
    "contours = plt.contour(x_grid,y_grid,prob_contour)\n",
    "plt.title('Probability Contours')\n",
    "plt.clabel(contours, inline = True );"
   ]
  },
  {
   "cell_type": "code",
   "execution_count": null,
   "id": "e81b4ac7",
   "metadata": {
    "papermill": {
     "duration": 0.046355,
     "end_time": "2022-05-03T00:38:41.908877",
     "exception": false,
     "start_time": "2022-05-03T00:38:41.862522",
     "status": "completed"
    },
    "tags": []
   },
   "outputs": [],
   "source": []
  }
 ],
 "metadata": {
  "kernelspec": {
   "display_name": "Python 3",
   "language": "python",
   "name": "python3"
  },
  "language_info": {
   "codemirror_mode": {
    "name": "ipython",
    "version": 3
   },
   "file_extension": ".py",
   "mimetype": "text/x-python",
   "name": "python",
   "nbconvert_exporter": "python",
   "pygments_lexer": "ipython3",
   "version": "3.6.15"
  },
  "papermill": {
   "default_parameters": {},
   "duration": 101.090159,
   "end_time": "2022-05-03T00:38:42.374255",
   "environment_variables": {},
   "exception": null,
   "input_path": "2020-08-11-part2.ipynb",
   "output_path": "2020-08-11-part2.ipynb",
   "parameters": {},
   "start_time": "2022-05-03T00:37:01.284096",
   "version": "2.3.3"
  }
 },
 "nbformat": 4,
 "nbformat_minor": 5
}