{
 "cells": [
  {
   "cell_type": "markdown",
   "id": "98380cd3",
   "metadata": {
    "papermill": {
     "duration": 0.047963,
     "end_time": "2022-07-18T00:41:17.454211",
     "exception": false,
     "start_time": "2022-07-18T00:41:17.406248",
     "status": "completed"
    },
    "tags": []
   },
   "source": [
    "# Distinguish Your Own Digits (DYOD)"
   ]
  },
  {
   "cell_type": "markdown",
   "id": "ef31240d",
   "metadata": {
    "papermill": {
     "duration": 0.031967,
     "end_time": "2022-07-18T00:41:17.519026",
     "exception": false,
     "start_time": "2022-07-18T00:41:17.487059",
     "status": "completed"
    },
    "tags": []
   },
   "source": [
    "You are going to write a classifier that distinguishes between the number 3 and number 8."
   ]
  },
  {
   "cell_type": "code",
   "execution_count": 1,
   "id": "b15c8646",
   "metadata": {
    "execution": {
     "iopub.execute_input": "2022-07-18T00:41:17.607001Z",
     "iopub.status.busy": "2022-07-18T00:41:17.606153Z",
     "iopub.status.idle": "2022-07-18T00:41:17.623738Z",
     "shell.execute_reply": "2022-07-18T00:41:17.622549Z"
    },
    "papermill": {
     "duration": 0.068256,
     "end_time": "2022-07-18T00:41:17.623948",
     "exception": false,
     "start_time": "2022-07-18T00:41:17.555692",
     "status": "completed"
    },
    "tags": []
   },
   "outputs": [],
   "source": [
    "%load_ext autoreload\n",
    "%autoreload 2"
   ]
  },
  {
   "cell_type": "code",
   "execution_count": 2,
   "id": "22ef38dc",
   "metadata": {
    "execution": {
     "iopub.execute_input": "2022-07-18T00:41:17.694584Z",
     "iopub.status.busy": "2022-07-18T00:41:17.693752Z",
     "iopub.status.idle": "2022-07-18T00:41:18.345253Z",
     "shell.execute_reply": "2022-07-18T00:41:18.344123Z"
    },
    "papermill": {
     "duration": 0.69105,
     "end_time": "2022-07-18T00:41:18.345406",
     "exception": false,
     "start_time": "2022-07-18T00:41:17.654356",
     "status": "completed"
    },
    "tags": []
   },
   "outputs": [],
   "source": [
    "%matplotlib inline\n",
    "import numpy as np\n",
    "import matplotlib.pyplot as plt\n",
    "import pandas as pd"
   ]
  },
  {
   "cell_type": "markdown",
   "id": "ba036198",
   "metadata": {
    "papermill": {
     "duration": 0.030486,
     "end_time": "2022-07-18T00:41:18.409037",
     "exception": false,
     "start_time": "2022-07-18T00:41:18.378551",
     "status": "completed"
    },
    "tags": []
   },
   "source": [
    "From the command line run `pip install mnist`. This is a library that will help you bring down the mnist dataset. If you run this from a notebook, you need to put  `!pip install mnist` in a cell by itself."
   ]
  },
  {
   "cell_type": "code",
   "execution_count": 3,
   "id": "bb6ad8a1",
   "metadata": {
    "execution": {
     "iopub.execute_input": "2022-07-18T00:41:18.483597Z",
     "iopub.status.busy": "2022-07-18T00:41:18.482783Z",
     "iopub.status.idle": "2022-07-18T00:41:21.458933Z",
     "shell.execute_reply": "2022-07-18T00:41:21.458236Z"
    },
    "papermill": {
     "duration": 3.016592,
     "end_time": "2022-07-18T00:41:21.459098",
     "exception": false,
     "start_time": "2022-07-18T00:41:18.442506",
     "status": "completed"
    },
    "tags": []
   },
   "outputs": [
    {
     "name": "stdout",
     "output_type": "stream",
     "text": [
      "Collecting mnist\r\n"
     ]
    },
    {
     "name": "stdout",
     "output_type": "stream",
     "text": [
      "  Downloading mnist-0.2.2-py2.py3-none-any.whl (3.5 kB)\r\n",
      "Requirement already satisfied: numpy in /opt/hostedtoolcache/Python/3.6.15/x64/lib/python3.6/site-packages (from mnist) (1.19.5)\r\n"
     ]
    },
    {
     "name": "stdout",
     "output_type": "stream",
     "text": [
      "Installing collected packages: mnist\r\n"
     ]
    },
    {
     "name": "stdout",
     "output_type": "stream",
     "text": [
      "Successfully installed mnist-0.2.2\r\n"
     ]
    }
   ],
   "source": [
    "!pip install mnist"
   ]
  },
  {
   "cell_type": "markdown",
   "id": "69df9c9a",
   "metadata": {
    "papermill": {
     "duration": 0.032951,
     "end_time": "2022-07-18T00:41:21.526532",
     "exception": false,
     "start_time": "2022-07-18T00:41:21.493581",
     "status": "completed"
    },
    "tags": []
   },
   "source": [
    "## Preparing the Data"
   ]
  },
  {
   "cell_type": "code",
   "execution_count": 4,
   "id": "7f69d806",
   "metadata": {
    "execution": {
     "iopub.execute_input": "2022-07-18T00:41:21.601869Z",
     "iopub.status.busy": "2022-07-18T00:41:21.599094Z",
     "iopub.status.idle": "2022-07-18T00:41:21.616503Z",
     "shell.execute_reply": "2022-07-18T00:41:21.615698Z"
    },
    "papermill": {
     "duration": 0.057298,
     "end_time": "2022-07-18T00:41:21.616668",
     "exception": false,
     "start_time": "2022-07-18T00:41:21.559370",
     "status": "completed"
    },
    "tags": []
   },
   "outputs": [],
   "source": [
    "import mnist"
   ]
  },
  {
   "cell_type": "code",
   "execution_count": 5,
   "id": "a411e44f",
   "metadata": {
    "execution": {
     "iopub.execute_input": "2022-07-18T00:41:21.699784Z",
     "iopub.status.busy": "2022-07-18T00:41:21.699030Z",
     "iopub.status.idle": "2022-07-18T00:41:22.395077Z",
     "shell.execute_reply": "2022-07-18T00:41:22.393876Z"
    },
    "papermill": {
     "duration": 0.744036,
     "end_time": "2022-07-18T00:41:22.395215",
     "exception": false,
     "start_time": "2022-07-18T00:41:21.651179",
     "status": "completed"
    },
    "tags": []
   },
   "outputs": [],
   "source": [
    "train_images = mnist.train_images()\n",
    "train_labels = mnist.train_labels()"
   ]
  },
  {
   "cell_type": "code",
   "execution_count": 6,
   "id": "dceab3a5",
   "metadata": {
    "execution": {
     "iopub.execute_input": "2022-07-18T00:41:22.472121Z",
     "iopub.status.busy": "2022-07-18T00:41:22.471223Z",
     "iopub.status.idle": "2022-07-18T00:41:22.491139Z",
     "shell.execute_reply": "2022-07-18T00:41:22.490529Z"
    },
    "papermill": {
     "duration": 0.060323,
     "end_time": "2022-07-18T00:41:22.491275",
     "exception": false,
     "start_time": "2022-07-18T00:41:22.430952",
     "status": "completed"
    },
    "tags": []
   },
   "outputs": [
    {
     "data": {
      "text/plain": [
       "((60000, 28, 28), (60000,))"
      ]
     },
     "execution_count": 6,
     "metadata": {},
     "output_type": "execute_result"
    }
   ],
   "source": [
    "train_images.shape, train_labels.shape"
   ]
  },
  {
   "cell_type": "code",
   "execution_count": 7,
   "id": "f50dc2bb",
   "metadata": {
    "execution": {
     "iopub.execute_input": "2022-07-18T00:41:22.570597Z",
     "iopub.status.busy": "2022-07-18T00:41:22.569925Z",
     "iopub.status.idle": "2022-07-18T00:41:22.817168Z",
     "shell.execute_reply": "2022-07-18T00:41:22.816487Z"
    },
    "papermill": {
     "duration": 0.292794,
     "end_time": "2022-07-18T00:41:22.817320",
     "exception": false,
     "start_time": "2022-07-18T00:41:22.524526",
     "status": "completed"
    },
    "tags": []
   },
   "outputs": [],
   "source": [
    "test_images = mnist.test_images()\n",
    "test_labels = mnist.test_labels()"
   ]
  },
  {
   "cell_type": "code",
   "execution_count": 8,
   "id": "fc38cf1b",
   "metadata": {
    "execution": {
     "iopub.execute_input": "2022-07-18T00:41:22.885633Z",
     "iopub.status.busy": "2022-07-18T00:41:22.884937Z",
     "iopub.status.idle": "2022-07-18T00:41:22.903420Z",
     "shell.execute_reply": "2022-07-18T00:41:22.902867Z"
    },
    "papermill": {
     "duration": 0.055131,
     "end_time": "2022-07-18T00:41:22.903552",
     "exception": false,
     "start_time": "2022-07-18T00:41:22.848421",
     "status": "completed"
    },
    "tags": []
   },
   "outputs": [
    {
     "data": {
      "text/plain": [
       "((10000, 28, 28), (10000,))"
      ]
     },
     "execution_count": 8,
     "metadata": {},
     "output_type": "execute_result"
    }
   ],
   "source": [
    "test_images.shape, test_labels.shape"
   ]
  },
  {
   "cell_type": "code",
   "execution_count": 9,
   "id": "f9ed8fe0",
   "metadata": {
    "execution": {
     "iopub.execute_input": "2022-07-18T00:41:22.982508Z",
     "iopub.status.busy": "2022-07-18T00:41:22.981707Z",
     "iopub.status.idle": "2022-07-18T00:41:23.189170Z",
     "shell.execute_reply": "2022-07-18T00:41:23.188612Z"
    },
    "papermill": {
     "duration": 0.252004,
     "end_time": "2022-07-18T00:41:23.189460",
     "exception": false,
     "start_time": "2022-07-18T00:41:22.937456",
     "status": "completed"
    },
    "tags": []
   },
   "outputs": [
    {
     "name": "stdout",
     "output_type": "stream",
     "text": [
      "2\n"
     ]
    },
    {
     "data": {
      "text/plain": [
       "<matplotlib.image.AxesImage at 0x7fce4c29a4a8>"
      ]
     },
     "execution_count": 9,
     "metadata": {},
     "output_type": "execute_result"
    },
    {
     "data": {
      "image/png": "[encoded data removed]",
      "text/plain": [
       "<Figure size 432x288 with 1 Axes>"
      ]
     },
     "metadata": {
      "needs_background": "light"
     },
     "output_type": "display_data"
    }
   ],
   "source": [
    "image_index = 7776 # You may select anything up to 60,000\n",
    "print(train_labels[image_index]) \n",
    "plt.imshow(train_images[image_index], cmap='Greys')"
   ]
  },
  {
   "cell_type": "markdown",
   "id": "a8d2388d",
   "metadata": {
    "papermill": {
     "duration": 0.036551,
     "end_time": "2022-07-18T00:41:23.262483",
     "exception": false,
     "start_time": "2022-07-18T00:41:23.225932",
     "status": "completed"
    },
    "tags": []
   },
   "source": [
    "## Filter data to get 3 and 8 out"
   ]
  },
  {
   "cell_type": "code",
   "execution_count": 10,
   "id": "776f7fc7",
   "metadata": {
    "execution": {
     "iopub.execute_input": "2022-07-18T00:41:23.337422Z",
     "iopub.status.busy": "2022-07-18T00:41:23.336618Z",
     "iopub.status.idle": "2022-07-18T00:41:23.359181Z",
     "shell.execute_reply": "2022-07-18T00:41:23.358569Z"
    },
    "papermill": {
     "duration": 0.064052,
     "end_time": "2022-07-18T00:41:23.359314",
     "exception": false,
     "start_time": "2022-07-18T00:41:23.295262",
     "status": "completed"
    },
    "tags": []
   },
   "outputs": [],
   "source": [
    "train_filter = np.where((train_labels == 3 ) | (train_labels == 8))\n",
    "test_filter = np.where((test_labels == 3) | (test_labels == 8))\n",
    "X_train, y_train = train_images[train_filter], train_labels[train_filter]\n",
    "X_test, y_test = test_images[test_filter], test_labels[test_filter]"
   ]
  },
  {
   "cell_type": "markdown",
   "id": "948f0b7e",
   "metadata": {
    "papermill": {
     "duration": 0.031569,
     "end_time": "2022-07-18T00:41:23.423162",
     "exception": false,
     "start_time": "2022-07-18T00:41:23.391593",
     "status": "completed"
    },
    "tags": []
   },
   "source": [
    "We normalize the pizel values in the 0 to 1 range"
   ]
  },
  {
   "cell_type": "code",
   "execution_count": 11,
   "id": "ee4c2166",
   "metadata": {
    "execution": {
     "iopub.execute_input": "2022-07-18T00:41:23.506793Z",
     "iopub.status.busy": "2022-07-18T00:41:23.506044Z",
     "iopub.status.idle": "2022-07-18T00:41:23.571607Z",
     "shell.execute_reply": "2022-07-18T00:41:23.572177Z"
    },
    "papermill": {
     "duration": 0.105362,
     "end_time": "2022-07-18T00:41:23.572524",
     "exception": false,
     "start_time": "2022-07-18T00:41:23.467162",
     "status": "completed"
    },
    "tags": []
   },
   "outputs": [],
   "source": [
    "X_train = X_train/255.\n",
    "X_test = X_test/255."
   ]
  },
  {
   "cell_type": "markdown",
   "id": "ddcf4fab",
   "metadata": {
    "papermill": {
     "duration": 0.033954,
     "end_time": "2022-07-18T00:41:23.645261",
     "exception": false,
     "start_time": "2022-07-18T00:41:23.611307",
     "status": "completed"
    },
    "tags": []
   },
   "source": [
    "And setup the labels as 1 (when the digit is 3) and 0 (when the digit is 8)"
   ]
  },
  {
   "cell_type": "code",
   "execution_count": 12,
   "id": "7dc908f2",
   "metadata": {
    "execution": {
     "iopub.execute_input": "2022-07-18T00:41:23.718113Z",
     "iopub.status.busy": "2022-07-18T00:41:23.717327Z",
     "iopub.status.idle": "2022-07-18T00:41:23.731863Z",
     "shell.execute_reply": "2022-07-18T00:41:23.731335Z"
    },
    "papermill": {
     "duration": 0.051515,
     "end_time": "2022-07-18T00:41:23.731982",
     "exception": false,
     "start_time": "2022-07-18T00:41:23.680467",
     "status": "completed"
    },
    "tags": []
   },
   "outputs": [],
   "source": [
    "y_train = 1*(y_train==3)\n",
    "y_test = 1*(y_test==3)"
   ]
  },
  {
   "cell_type": "code",
   "execution_count": 13,
   "id": "01e4e969",
   "metadata": {
    "execution": {
     "iopub.execute_input": "2022-07-18T00:41:23.811289Z",
     "iopub.status.busy": "2022-07-18T00:41:23.810410Z",
     "iopub.status.idle": "2022-07-18T00:41:23.825586Z",
     "shell.execute_reply": "2022-07-18T00:41:23.824918Z"
    },
    "papermill": {
     "duration": 0.056439,
     "end_time": "2022-07-18T00:41:23.825698",
     "exception": false,
     "start_time": "2022-07-18T00:41:23.769259",
     "status": "completed"
    },
    "tags": []
   },
   "outputs": [
    {
     "data": {
      "text/plain": [
       "((11982, 28, 28), (1984, 28, 28))"
      ]
     },
     "execution_count": 13,
     "metadata": {},
     "output_type": "execute_result"
    }
   ],
   "source": [
    "X_train.shape, X_test.shape"
   ]
  },
  {
   "cell_type": "markdown",
   "id": "5ccf3f85",
   "metadata": {
    "papermill": {
     "duration": 0.037504,
     "end_time": "2022-07-18T00:41:23.896745",
     "exception": false,
     "start_time": "2022-07-18T00:41:23.859241",
     "status": "completed"
    },
    "tags": []
   },
   "source": [
    "We reshape the data to flatten the image pixels into a set of features or co-variates:"
   ]
  },
  {
   "cell_type": "code",
   "execution_count": 14,
   "id": "5286a4a3",
   "metadata": {
    "execution": {
     "iopub.execute_input": "2022-07-18T00:41:23.970100Z",
     "iopub.status.busy": "2022-07-18T00:41:23.969420Z",
     "iopub.status.idle": "2022-07-18T00:41:23.986860Z",
     "shell.execute_reply": "2022-07-18T00:41:23.986359Z"
    },
    "papermill": {
     "duration": 0.055177,
     "end_time": "2022-07-18T00:41:23.986987",
     "exception": false,
     "start_time": "2022-07-18T00:41:23.931810",
     "status": "completed"
    },
    "tags": []
   },
   "outputs": [
    {
     "data": {
      "text/plain": [
       "((11982, 784), (1984, 784))"
      ]
     },
     "execution_count": 14,
     "metadata": {},
     "output_type": "execute_result"
    }
   ],
   "source": [
    "X_train = X_train.reshape(X_train.shape[0], -1)\n",
    "X_test = X_test.reshape(X_test.shape[0], -1)\n",
    "X_train.shape, X_test.shape"
   ]
  },
  {
   "cell_type": "code",
   "execution_count": 15,
   "id": "73c5f88a",
   "metadata": {
    "execution": {
     "iopub.execute_input": "2022-07-18T00:41:24.065482Z",
     "iopub.status.busy": "2022-07-18T00:41:24.064661Z",
     "iopub.status.idle": "2022-07-18T00:41:24.087461Z",
     "shell.execute_reply": "2022-07-18T00:41:24.086939Z"
    },
    "papermill": {
     "duration": 0.062674,
     "end_time": "2022-07-18T00:41:24.087582",
     "exception": false,
     "start_time": "2022-07-18T00:41:24.024908",
     "status": "completed"
    },
    "tags": []
   },
   "outputs": [],
   "source": [
    "#Impoting functions from 'Kudzu'\n",
    "from kudzu.model import Model\n",
    "from kudzu.train import Learner\n",
    "from kudzu.optim import GD\n",
    "from kudzu.data import Data, Sampler,Dataloader\n",
    "\n",
    "from kudzu.callbacks import AccCallback\n",
    "from kudzu.callbacks import ClfCallback\n",
    "\n",
    "from kudzu.loss import MSE\n",
    "\n",
    "from kudzu.layer import Sigmoid,Relu\n",
    "from kudzu.layer import Affine"
   ]
  },
  {
   "cell_type": "markdown",
   "id": "bc01172a",
   "metadata": {
    "papermill": {
     "duration": 0.036705,
     "end_time": "2022-07-18T00:41:24.161688",
     "exception": false,
     "start_time": "2022-07-18T00:41:24.124983",
     "status": "completed"
    },
    "tags": []
   },
   "source": [
    "### Let us create a `Config` class, to store important parameters. \n",
    "This class essentially plays the role of a dictionary."
   ]
  },
  {
   "cell_type": "code",
   "execution_count": 16,
   "id": "978281aa",
   "metadata": {
    "execution": {
     "iopub.execute_input": "2022-07-18T00:41:24.256368Z",
     "iopub.status.busy": "2022-07-18T00:41:24.255688Z",
     "iopub.status.idle": "2022-07-18T00:41:24.269482Z",
     "shell.execute_reply": "2022-07-18T00:41:24.270207Z"
    },
    "papermill": {
     "duration": 0.073233,
     "end_time": "2022-07-18T00:41:24.270508",
     "exception": false,
     "start_time": "2022-07-18T00:41:24.197275",
     "status": "completed"
    },
    "tags": []
   },
   "outputs": [],
   "source": [
    "class Config:\n",
    "    pass\n",
    "config = Config()\n",
    "config.lr = 0.001\n",
    "config.num_epochs = 250\n",
    "config.bs = 50"
   ]
  },
  {
   "cell_type": "markdown",
   "id": "1385fa59",
   "metadata": {
    "papermill": {
     "duration": 0.036537,
     "end_time": "2022-07-18T00:41:24.348804",
     "exception": false,
     "start_time": "2022-07-18T00:41:24.312267",
     "status": "completed"
    },
    "tags": []
   },
   "source": [
    "### Running Models with the Training data\n",
    "Details about the network layers:\n",
    "- A first affine layer has 784 inputs and does 100 affine transforms. These are followed by a Relu\n",
    "- A second affine layer has 100 inputs from the 100 activations of the past layer, and does 100 affine transforms. These are followed by a Relu\n",
    "- A third affine layer has 100 activations and does 2 affine transformations to create an embedding for visualization. There is no non-linearity here.\n",
    "- A final \"logistic regression\" which has an affine transform from 2 inputs to 1 output, which is squeezed through a sigmoid.\n"
   ]
  },
  {
   "cell_type": "code",
   "execution_count": 17,
   "id": "2b9c66db",
   "metadata": {
    "execution": {
     "iopub.execute_input": "2022-07-18T00:41:24.426382Z",
     "iopub.status.busy": "2022-07-18T00:41:24.425676Z",
     "iopub.status.idle": "2022-07-18T00:41:24.440838Z",
     "shell.execute_reply": "2022-07-18T00:41:24.441364Z"
    },
    "papermill": {
     "duration": 0.058087,
     "end_time": "2022-07-18T00:41:24.441517",
     "exception": false,
     "start_time": "2022-07-18T00:41:24.383430",
     "status": "completed"
    },
    "tags": []
   },
   "outputs": [],
   "source": [
    "data = Data(X_train, y_train.reshape(-1,1))\n",
    "sampler = Sampler(data, config.bs, shuffle=True)\n",
    "\n",
    "dl = Dataloader(data, sampler)\n",
    "\n",
    "opt = GD(config.lr)\n",
    "loss = MSE()"
   ]
  },
  {
   "cell_type": "code",
   "execution_count": 18,
   "id": "b275e4c2",
   "metadata": {
    "execution": {
     "iopub.execute_input": "2022-07-18T00:41:24.519541Z",
     "iopub.status.busy": "2022-07-18T00:41:24.518777Z",
     "iopub.status.idle": "2022-07-18T00:41:24.534393Z",
     "shell.execute_reply": "2022-07-18T00:41:24.533499Z"
    },
    "papermill": {
     "duration": 0.055393,
     "end_time": "2022-07-18T00:41:24.534543",
     "exception": false,
     "start_time": "2022-07-18T00:41:24.479150",
     "status": "completed"
    },
    "tags": []
   },
   "outputs": [],
   "source": [
    "training_data_x = X_train\n",
    "testing_data_x = X_test\n",
    "training_data_y = y_train.reshape(-1,1)\n",
    "testing_data_y = y_test.reshape(-1,1)"
   ]
  },
  {
   "cell_type": "code",
   "execution_count": 19,
   "id": "76951160",
   "metadata": {
    "execution": {
     "iopub.execute_input": "2022-07-18T00:41:24.611054Z",
     "iopub.status.busy": "2022-07-18T00:41:24.610409Z",
     "iopub.status.idle": "2022-07-18T00:41:24.627900Z",
     "shell.execute_reply": "2022-07-18T00:41:24.628800Z"
    },
    "papermill": {
     "duration": 0.059224,
     "end_time": "2022-07-18T00:41:24.628972",
     "exception": false,
     "start_time": "2022-07-18T00:41:24.569748",
     "status": "completed"
    },
    "tags": []
   },
   "outputs": [
    {
     "name": "stdout",
     "output_type": "stream",
     "text": [
      "xavier\n",
      "xavier\n",
      "xavier\n",
      "xavier\n",
      "xavier\n"
     ]
    }
   ],
   "source": [
    "layers = [Affine(\"first\", 784, 100), Relu(\"first\"), Affine(\"second\", 100, 100), Relu(\"second\"), Affine(\"third\", 100, 2), Affine(\"last\", 2, 1), Sigmoid(\"last\")]\n",
    "model_nn = Model(layers)\n",
    "model_lr = Model([Affine(\"logits\", 784, 1), Sigmoid(\"sigmoid\")])"
   ]
  },
  {
   "cell_type": "code",
   "execution_count": 20,
   "id": "6eede77a",
   "metadata": {
    "execution": {
     "iopub.execute_input": "2022-07-18T00:41:24.704635Z",
     "iopub.status.busy": "2022-07-18T00:41:24.703943Z",
     "iopub.status.idle": "2022-07-18T00:41:24.719494Z",
     "shell.execute_reply": "2022-07-18T00:41:24.720042Z"
    },
    "papermill": {
     "duration": 0.057701,
     "end_time": "2022-07-18T00:41:24.720185",
     "exception": false,
     "start_time": "2022-07-18T00:41:24.662484",
     "status": "completed"
    },
    "tags": []
   },
   "outputs": [],
   "source": [
    "nn_learner = Learner(loss, model_nn, opt, config.num_epochs)\n",
    "acc_nn = ClfCallback(nn_learner, config.bs, training_data_x , testing_data_x, training_data_y, testing_data_y)\n",
    "nn_learner.set_callbacks([acc_nn])"
   ]
  },
  {
   "cell_type": "code",
   "execution_count": 21,
   "id": "877b6cc7",
   "metadata": {
    "execution": {
     "iopub.execute_input": "2022-07-18T00:41:24.797650Z",
     "iopub.status.busy": "2022-07-18T00:41:24.796778Z",
     "iopub.status.idle": "2022-07-18T00:41:24.811925Z",
     "shell.execute_reply": "2022-07-18T00:41:24.812448Z"
    },
    "papermill": {
     "duration": 0.058389,
     "end_time": "2022-07-18T00:41:24.812602",
     "exception": false,
     "start_time": "2022-07-18T00:41:24.754213",
     "status": "completed"
    },
    "tags": []
   },
   "outputs": [],
   "source": [
    "lr_learner = Learner(loss, model_lr, opt, config.num_epochs)\n",
    "acc_lr = ClfCallback(lr_learner, config.bs, training_data_x , testing_data_x, training_data_y, testing_data_y)\n",
    "lr_learner.set_callbacks([acc_lr])"
   ]
  },
  {
   "cell_type": "code",
   "execution_count": 22,
   "id": "d9b133c3",
   "metadata": {
    "execution": {
     "iopub.execute_input": "2022-07-18T00:41:24.895696Z",
     "iopub.status.busy": "2022-07-18T00:41:24.895000Z",
     "iopub.status.idle": "2022-07-18T00:43:59.787027Z",
     "shell.execute_reply": "2022-07-18T00:43:59.787992Z"
    },
    "papermill": {
     "duration": 154.938923,
     "end_time": "2022-07-18T00:43:59.788193",
     "exception": false,
     "start_time": "2022-07-18T00:41:24.849270",
     "status": "completed"
    },
    "tags": []
   },
   "outputs": [
    {
     "name": "stdout",
     "output_type": "stream",
     "text": [
      "Epoch 0, Loss 0.245\n",
      "Training Accuracy: 0.6374, Testing Accuracy: 0.6457\n",
      "\n"
     ]
    },
    {
     "name": "stdout",
     "output_type": "stream",
     "text": [
      "Epoch 10, Loss 0.1634\n",
      "Training Accuracy: 0.8859, Testing Accuracy: 0.8997\n",
      "\n"
     ]
    },
    {
     "name": "stdout",
     "output_type": "stream",
     "text": [
      "Epoch 20, Loss 0.0822\n",
      "Training Accuracy: 0.9210, Testing Accuracy: 0.9335\n",
      "\n"
     ]
    },
    {
     "name": "stdout",
     "output_type": "stream",
     "text": [
      "Epoch 30, Loss 0.0564\n",
      "Training Accuracy: 0.9382, Testing Accuracy: 0.9541\n",
      "\n"
     ]
    },
    {
     "name": "stdout",
     "output_type": "stream",
     "text": [
      "Epoch 40, Loss 0.0458\n",
      "Training Accuracy: 0.9474, Testing Accuracy: 0.9632\n",
      "\n"
     ]
    },
    {
     "name": "stdout",
     "output_type": "stream",
     "text": [
      "Epoch 50, Loss 0.0401\n",
      "Training Accuracy: 0.9533, Testing Accuracy: 0.9662\n",
      "\n"
     ]
    },
    {
     "name": "stdout",
     "output_type": "stream",
     "text": [
      "Epoch 60, Loss 0.0365\n",
      "Training Accuracy: 0.9570, Testing Accuracy: 0.9693\n",
      "\n"
     ]
    },
    {
     "name": "stdout",
     "output_type": "stream",
     "text": [
      "Epoch 70, Loss 0.034\n",
      "Training Accuracy: 0.9611, Testing Accuracy: 0.9698\n",
      "\n"
     ]
    },
    {
     "name": "stdout",
     "output_type": "stream",
     "text": [
      "Epoch 80, Loss 0.0322\n",
      "Training Accuracy: 0.9629, Testing Accuracy: 0.9708\n",
      "\n"
     ]
    },
    {
     "name": "stdout",
     "output_type": "stream",
     "text": [
      "Epoch 90, Loss 0.0307\n",
      "Training Accuracy: 0.9641, Testing Accuracy: 0.9713\n",
      "\n"
     ]
    },
    {
     "name": "stdout",
     "output_type": "stream",
     "text": [
      "Epoch 100, Loss 0.0295\n",
      "Training Accuracy: 0.9649, Testing Accuracy: 0.9713\n",
      "\n"
     ]
    },
    {
     "name": "stdout",
     "output_type": "stream",
     "text": [
      "Epoch 110, Loss 0.0285\n",
      "Training Accuracy: 0.9664, Testing Accuracy: 0.9713\n",
      "\n"
     ]
    },
    {
     "name": "stdout",
     "output_type": "stream",
     "text": [
      "Epoch 120, Loss 0.0276\n",
      "Training Accuracy: 0.9680, Testing Accuracy: 0.9718\n",
      "\n"
     ]
    },
    {
     "name": "stdout",
     "output_type": "stream",
     "text": [
      "Epoch 130, Loss 0.0268\n",
      "Training Accuracy: 0.9688, Testing Accuracy: 0.9728\n",
      "\n"
     ]
    },
    {
     "name": "stdout",
     "output_type": "stream",
     "text": [
      "Epoch 140, Loss 0.0261\n",
      "Training Accuracy: 0.9695, Testing Accuracy: 0.9728\n",
      "\n"
     ]
    },
    {
     "name": "stdout",
     "output_type": "stream",
     "text": [
      "Epoch 150, Loss 0.0255\n",
      "Training Accuracy: 0.9702, Testing Accuracy: 0.9723\n",
      "\n"
     ]
    },
    {
     "name": "stdout",
     "output_type": "stream",
     "text": [
      "Epoch 160, Loss 0.0249\n",
      "Training Accuracy: 0.9711, Testing Accuracy: 0.9728\n",
      "\n"
     ]
    },
    {
     "name": "stdout",
     "output_type": "stream",
     "text": [
      "Epoch 170, Loss 0.0244\n",
      "Training Accuracy: 0.9714, Testing Accuracy: 0.9728\n",
      "\n"
     ]
    },
    {
     "name": "stdout",
     "output_type": "stream",
     "text": [
      "Epoch 180, Loss 0.0239\n",
      "Training Accuracy: 0.9722, Testing Accuracy: 0.9728\n",
      "\n"
     ]
    },
    {
     "name": "stdout",
     "output_type": "stream",
     "text": [
      "Epoch 190, Loss 0.0235\n",
      "Training Accuracy: 0.9725, Testing Accuracy: 0.9728\n",
      "\n"
     ]
    },
    {
     "name": "stdout",
     "output_type": "stream",
     "text": [
      "Epoch 200, Loss 0.023\n",
      "Training Accuracy: 0.9735, Testing Accuracy: 0.9718\n",
      "\n"
     ]
    },
    {
     "name": "stdout",
     "output_type": "stream",
     "text": [
      "Epoch 210, Loss 0.0226\n",
      "Training Accuracy: 0.9739, Testing Accuracy: 0.9713\n",
      "\n"
     ]
    },
    {
     "name": "stdout",
     "output_type": "stream",
     "text": [
      "Epoch 220, Loss 0.0223\n",
      "Training Accuracy: 0.9744, Testing Accuracy: 0.9713\n",
      "\n"
     ]
    },
    {
     "name": "stdout",
     "output_type": "stream",
     "text": [
      "Epoch 230, Loss 0.0219\n",
      "Training Accuracy: 0.9746, Testing Accuracy: 0.9718\n",
      "\n"
     ]
    },
    {
     "name": "stdout",
     "output_type": "stream",
     "text": [
      "Epoch 240, Loss 0.0215\n",
      "Training Accuracy: 0.9748, Testing Accuracy: 0.9718\n",
      "\n"
     ]
    },
    {
     "data": {
      "text/plain": [
       "0.004729071866324846"
      ]
     },
     "execution_count": 22,
     "metadata": {},
     "output_type": "execute_result"
    }
   ],
   "source": [
    "nn_learner.train_loop(dl)"
   ]
  },
  {
   "cell_type": "code",
   "execution_count": 23,
   "id": "e0163366",
   "metadata": {
    "execution": {
     "iopub.execute_input": "2022-07-18T00:43:59.898060Z",
     "iopub.status.busy": "2022-07-18T00:43:59.897399Z",
     "iopub.status.idle": "2022-07-18T00:44:21.783898Z",
     "shell.execute_reply": "2022-07-18T00:44:21.784982Z"
    },
    "papermill": {
     "duration": 21.946972,
     "end_time": "2022-07-18T00:44:21.785162",
     "exception": false,
     "start_time": "2022-07-18T00:43:59.838190",
     "status": "completed"
    },
    "tags": []
   },
   "outputs": [
    {
     "name": "stdout",
     "output_type": "stream",
     "text": [
      "Epoch 0, Loss 0.2284\n",
      "Training Accuracy: 0.7339, Testing Accuracy: 0.7460\n",
      "\n"
     ]
    },
    {
     "name": "stdout",
     "output_type": "stream",
     "text": [
      "Epoch 10, Loss 0.1003\n",
      "Training Accuracy: 0.9130, Testing Accuracy: 0.9264\n",
      "\n"
     ]
    },
    {
     "name": "stdout",
     "output_type": "stream",
     "text": [
      "Epoch 20, Loss 0.0774\n",
      "Training Accuracy: 0.9315, Testing Accuracy: 0.9430\n",
      "\n"
     ]
    },
    {
     "name": "stdout",
     "output_type": "stream",
     "text": [
      "Epoch 30, Loss 0.0668\n",
      "Training Accuracy: 0.9403, Testing Accuracy: 0.9511\n",
      "\n"
     ]
    },
    {
     "name": "stdout",
     "output_type": "stream",
     "text": [
      "Epoch 40, Loss 0.0605\n",
      "Training Accuracy: 0.9442, Testing Accuracy: 0.9536\n",
      "\n"
     ]
    },
    {
     "name": "stdout",
     "output_type": "stream",
     "text": [
      "Epoch 50, Loss 0.0561\n",
      "Training Accuracy: 0.9477, Testing Accuracy: 0.9556\n",
      "\n"
     ]
    },
    {
     "name": "stdout",
     "output_type": "stream",
     "text": [
      "Epoch 60, Loss 0.0529\n",
      "Training Accuracy: 0.9504, Testing Accuracy: 0.9577\n",
      "\n"
     ]
    },
    {
     "name": "stdout",
     "output_type": "stream",
     "text": [
      "Epoch 70, Loss 0.0505\n",
      "Training Accuracy: 0.9514, Testing Accuracy: 0.9612\n",
      "\n"
     ]
    },
    {
     "name": "stdout",
     "output_type": "stream",
     "text": [
      "Epoch 80, Loss 0.0485\n",
      "Training Accuracy: 0.9525, Testing Accuracy: 0.9617\n",
      "\n"
     ]
    },
    {
     "name": "stdout",
     "output_type": "stream",
     "text": [
      "Epoch 90, Loss 0.0469\n",
      "Training Accuracy: 0.9537, Testing Accuracy: 0.9627\n",
      "\n"
     ]
    },
    {
     "name": "stdout",
     "output_type": "stream",
     "text": [
      "Epoch 100, Loss 0.0455\n",
      "Training Accuracy: 0.9550, Testing Accuracy: 0.9632\n",
      "\n"
     ]
    },
    {
     "name": "stdout",
     "output_type": "stream",
     "text": [
      "Epoch 110, Loss 0.0443\n",
      "Training Accuracy: 0.9562, Testing Accuracy: 0.9642\n",
      "\n"
     ]
    },
    {
     "name": "stdout",
     "output_type": "stream",
     "text": [
      "Epoch 120, Loss 0.0433\n",
      "Training Accuracy: 0.9565, Testing Accuracy: 0.9647\n",
      "\n"
     ]
    },
    {
     "name": "stdout",
     "output_type": "stream",
     "text": [
      "Epoch 130, Loss 0.0424\n",
      "Training Accuracy: 0.9571, Testing Accuracy: 0.9652\n",
      "\n"
     ]
    },
    {
     "name": "stdout",
     "output_type": "stream",
     "text": [
      "Epoch 140, Loss 0.0416\n",
      "Training Accuracy: 0.9574, Testing Accuracy: 0.9662\n",
      "\n"
     ]
    },
    {
     "name": "stdout",
     "output_type": "stream",
     "text": [
      "Epoch 150, Loss 0.0409\n",
      "Training Accuracy: 0.9579, Testing Accuracy: 0.9662\n",
      "\n"
     ]
    },
    {
     "name": "stdout",
     "output_type": "stream",
     "text": [
      "Epoch 160, Loss 0.0402\n",
      "Training Accuracy: 0.9580, Testing Accuracy: 0.9662\n",
      "\n"
     ]
    },
    {
     "name": "stdout",
     "output_type": "stream",
     "text": [
      "Epoch 170, Loss 0.0396\n",
      "Training Accuracy: 0.9581, Testing Accuracy: 0.9667\n",
      "\n"
     ]
    },
    {
     "name": "stdout",
     "output_type": "stream",
     "text": [
      "Epoch 180, Loss 0.0391\n",
      "Training Accuracy: 0.9586, Testing Accuracy: 0.9677\n",
      "\n"
     ]
    },
    {
     "name": "stdout",
     "output_type": "stream",
     "text": [
      "Epoch 190, Loss 0.0386\n",
      "Training Accuracy: 0.9591, Testing Accuracy: 0.9677\n",
      "\n"
     ]
    },
    {
     "name": "stdout",
     "output_type": "stream",
     "text": [
      "Epoch 200, Loss 0.0382\n",
      "Training Accuracy: 0.9593, Testing Accuracy: 0.9677\n",
      "\n"
     ]
    },
    {
     "name": "stdout",
     "output_type": "stream",
     "text": [
      "Epoch 210, Loss 0.0377\n",
      "Training Accuracy: 0.9597, Testing Accuracy: 0.9677\n",
      "\n"
     ]
    },
    {
     "name": "stdout",
     "output_type": "stream",
     "text": [
      "Epoch 220, Loss 0.0373\n",
      "Training Accuracy: 0.9599, Testing Accuracy: 0.9677\n",
      "\n"
     ]
    },
    {
     "name": "stdout",
     "output_type": "stream",
     "text": [
      "Epoch 230, Loss 0.037\n",
      "Training Accuracy: 0.9601, Testing Accuracy: 0.9672\n",
      "\n"
     ]
    },
    {
     "name": "stdout",
     "output_type": "stream",
     "text": [
      "Epoch 240, Loss 0.0366\n",
      "Training Accuracy: 0.9608, Testing Accuracy: 0.9672\n",
      "\n"
     ]
    },
    {
     "data": {
      "text/plain": [
       "0.05644348212859064"
      ]
     },
     "execution_count": 23,
     "metadata": {},
     "output_type": "execute_result"
    }
   ],
   "source": [
    "lr_learner.train_loop(dl)"
   ]
  },
  {
   "cell_type": "code",
   "execution_count": 24,
   "id": "ca410940",
   "metadata": {
    "execution": {
     "iopub.execute_input": "2022-07-18T00:44:21.908791Z",
     "iopub.status.busy": "2022-07-18T00:44:21.907944Z",
     "iopub.status.idle": "2022-07-18T00:44:22.239980Z",
     "shell.execute_reply": "2022-07-18T00:44:22.239462Z"
    },
    "papermill": {
     "duration": 0.395819,
     "end_time": "2022-07-18T00:44:22.240114",
     "exception": false,
     "start_time": "2022-07-18T00:44:21.844295",
     "status": "completed"
    },
    "tags": []
   },
   "outputs": [
    {
     "data": {
      "text/plain": [
       "<matplotlib.legend.Legend at 0x7fce4bdf9b00>"
      ]
     },
     "execution_count": 24,
     "metadata": {},
     "output_type": "execute_result"
    },
    {
     "data": {
      "image/png": "[encoded data removed]",
      "text/plain": [
       "<Figure size 1080x720 with 1 Axes>"
      ]
     },
     "metadata": {
      "needs_background": "light"
     },
     "output_type": "display_data"
    }
   ],
   "source": [
    "#comparing the results of NN and LR\n",
    "plt.figure(figsize=(15,10))\n",
    "\n",
    "# Neural Network plots\n",
    "plt.plot(acc_nn.accuracies, 'r-', label = \"Training Accuracies - NN\")\n",
    "plt.plot(acc_nn.test_accuracies, 'g-', label = \"Testing Accuracies - NN\")\n",
    "\n",
    "# Logistic Regression plots\n",
    "plt.plot(acc_lr.accuracies, 'k-', label = \"Training Accuracies - LR\")\n",
    "plt.plot(acc_lr.test_accuracies, 'b-', label = \"Testing Accuracies - LR\")\n",
    "plt.legend()"
   ]
  },
  {
   "cell_type": "markdown",
   "id": "80dfb35c",
   "metadata": {
    "papermill": {
     "duration": 0.055154,
     "end_time": "2022-07-18T00:44:22.358235",
     "exception": false,
     "start_time": "2022-07-18T00:44:22.303081",
     "status": "completed"
    },
    "tags": []
   },
   "source": [
    "#### Plotting the outputs of this layer of the NN.\n"
   ]
  },
  {
   "cell_type": "code",
   "execution_count": 25,
   "id": "45eb2ff5",
   "metadata": {
    "execution": {
     "iopub.execute_input": "2022-07-18T00:44:22.477321Z",
     "iopub.status.busy": "2022-07-18T00:44:22.475950Z",
     "iopub.status.idle": "2022-07-18T00:44:22.508930Z",
     "shell.execute_reply": "2022-07-18T00:44:22.510204Z"
    },
    "papermill": {
     "duration": 0.098164,
     "end_time": "2022-07-18T00:44:22.510591",
     "exception": false,
     "start_time": "2022-07-18T00:44:22.412427",
     "status": "completed"
    },
    "tags": []
   },
   "outputs": [],
   "source": [
    "new_model = Model(layers[:-2])\n",
    "testing_plot = new_model(testing_data_x)"
   ]
  },
  {
   "cell_type": "code",
   "execution_count": 26,
   "id": "4c0a5485",
   "metadata": {
    "execution": {
     "iopub.execute_input": "2022-07-18T00:44:22.637793Z",
     "iopub.status.busy": "2022-07-18T00:44:22.637162Z",
     "iopub.status.idle": "2022-07-18T00:44:22.975948Z",
     "shell.execute_reply": "2022-07-18T00:44:22.976501Z"
    },
    "papermill": {
     "duration": 0.401963,
     "end_time": "2022-07-18T00:44:22.976702",
     "exception": false,
     "start_time": "2022-07-18T00:44:22.574739",
     "status": "completed"
    },
    "tags": []
   },
   "outputs": [
    {
     "data": {
      "text/plain": [
       "Text(0.5, 1.0, 'Outputs')"
      ]
     },
     "execution_count": 26,
     "metadata": {},
     "output_type": "execute_result"
    },
    {
     "data": {
      "image/png": "[encoded data removed]",
      "text/plain": [
       "<Figure size 576x504 with 1 Axes>"
      ]
     },
     "metadata": {
      "needs_background": "light"
     },
     "output_type": "display_data"
    }
   ],
   "source": [
    "# Plotting the scatter plot of points and color coding by class\n",
    "plt.figure(figsize=(8,7))\n",
    "plt.scatter(testing_plot[:,0], testing_plot[:,1], alpha = 0.1, c = y_test.ravel());\n",
    "plt.title('Outputs')"
   ]
  },
  {
   "cell_type": "markdown",
   "id": "a74fcf8f",
   "metadata": {
    "papermill": {
     "duration": 0.05858,
     "end_time": "2022-07-18T00:44:23.134171",
     "exception": false,
     "start_time": "2022-07-18T00:44:23.075591",
     "status": "completed"
    },
    "tags": []
   },
   "source": [
    "Probability contours"
   ]
  },
  {
   "cell_type": "code",
   "execution_count": 27,
   "id": "d0afc8e3",
   "metadata": {
    "execution": {
     "iopub.execute_input": "2022-07-18T00:44:23.266931Z",
     "iopub.status.busy": "2022-07-18T00:44:23.265006Z",
     "iopub.status.idle": "2022-07-18T00:44:23.284283Z",
     "shell.execute_reply": "2022-07-18T00:44:23.282695Z"
    },
    "papermill": {
     "duration": 0.085464,
     "end_time": "2022-07-18T00:44:23.284435",
     "exception": false,
     "start_time": "2022-07-18T00:44:23.198971",
     "status": "completed"
    },
    "tags": []
   },
   "outputs": [],
   "source": [
    "model_prob = Model(layers[-2:]) "
   ]
  },
  {
   "cell_type": "code",
   "execution_count": 28,
   "id": "9b96e238",
   "metadata": {
    "execution": {
     "iopub.execute_input": "2022-07-18T00:44:23.415675Z",
     "iopub.status.busy": "2022-07-18T00:44:23.414831Z",
     "iopub.status.idle": "2022-07-18T00:44:23.430145Z",
     "shell.execute_reply": "2022-07-18T00:44:23.429419Z"
    },
    "papermill": {
     "duration": 0.085913,
     "end_time": "2022-07-18T00:44:23.430371",
     "exception": false,
     "start_time": "2022-07-18T00:44:23.344458",
     "status": "completed"
    },
    "tags": []
   },
   "outputs": [],
   "source": [
    "#creating the x and y ranges according to the above generated plot.\n",
    "x_range = np.linspace(-4, 1, 100) \n",
    "y_range = np.linspace(-6, 6, 100) \n",
    "x_grid, y_grid = np.meshgrid(x_range, y_range) # x_grid and y_grig are of size 100 X 100\n",
    "\n",
    "# converting x_grid and y_grid to continuous arrays\n",
    "x_gridflat = np.ravel(x_grid)\n",
    "y_gridflat = np.ravel(y_grid)\n",
    "\n",
    "# The last layer of the current model takes two columns as input. Hence transpose of np.vstack() is required.\n",
    "X = np.vstack((x_gridflat, y_gridflat)).T\n",
    "\n",
    "prob_contour = model_prob(X).reshape(100,100) "
   ]
  },
  {
   "cell_type": "code",
   "execution_count": 29,
   "id": "da72499a",
   "metadata": {
    "execution": {
     "iopub.execute_input": "2022-07-18T00:44:23.552793Z",
     "iopub.status.busy": "2022-07-18T00:44:23.552021Z",
     "iopub.status.idle": "2022-07-18T00:44:23.907512Z",
     "shell.execute_reply": "2022-07-18T00:44:23.908099Z"
    },
    "papermill": {
     "duration": 0.418562,
     "end_time": "2022-07-18T00:44:23.908763",
     "exception": false,
     "start_time": "2022-07-18T00:44:23.490201",
     "status": "completed"
    },
    "tags": []
   },
   "outputs": [
    {
     "data": {
      "image/png": "[encoded data removed]",
      "text/plain": [
       "<Figure size 720x648 with 1 Axes>"
      ]
     },
     "metadata": {
      "needs_background": "light"
     },
     "output_type": "display_data"
    }
   ],
   "source": [
    "plt.figure(figsize=(10,9))\n",
    "plt.scatter(testing_plot[:,0], testing_plot[:,1], alpha = 0.1, c = y_test.ravel())\n",
    "contours = plt.contour(x_grid,y_grid,prob_contour)\n",
    "plt.title('Probability Contours')\n",
    "plt.clabel(contours, inline = True );"
   ]
  },
  {
   "cell_type": "code",
   "execution_count": null,
   "id": "e81b4ac7",
   "metadata": {
    "papermill": {
     "duration": 0.057514,
     "end_time": "2022-07-18T00:44:24.027077",
     "exception": false,
     "start_time": "2022-07-18T00:44:23.969563",
     "status": "completed"
    },
    "tags": []
   },
   "outputs": [],
   "source": []
  }
 ],
 "metadata": {
  "kernelspec": {
   "display_name": "Python 3",
   "language": "python",
   "name": "python3"
  },
  "language_info": {
   "codemirror_mode": {
    "name": "ipython",
    "version": 3
   },
   "file_extension": ".py",
   "mimetype": "text/x-python",
   "name": "python",
   "nbconvert_exporter": "python",
   "pygments_lexer": "ipython3",
   "version": "3.6.15"
  },
  "papermill": {
   "default_parameters": {},
   "duration": 188.550475,
   "end_time": "2022-07-18T00:44:24.608316",
   "environment_variables": {},
   "exception": null,
   "input_path": "2020-08-11-part2.ipynb",
   "output_path": "2020-08-11-part2.ipynb",
   "parameters": {},
   "start_time": "2022-07-18T00:41:16.057841",
   "version": "2.3.3"
  }
 },
 "nbformat": 4,
 "nbformat_minor": 5
}