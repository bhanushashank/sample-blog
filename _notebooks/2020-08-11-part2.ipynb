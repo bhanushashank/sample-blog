{
 "cells": [
  {
   "cell_type": "markdown",
   "id": "98380cd3",
   "metadata": {
    "papermill": {
     "duration": 0.034224,
     "end_time": "2022-11-11T00:45:48.136549",
     "exception": false,
     "start_time": "2022-11-11T00:45:48.102325",
     "status": "completed"
    },
    "tags": []
   },
   "source": [
    "# Distinguish Your Own Digits (DYOD)"
   ]
  },
  {
   "cell_type": "markdown",
   "id": "ef31240d",
   "metadata": {
    "papermill": {
     "duration": 0.02714,
     "end_time": "2022-11-11T00:45:48.191757",
     "exception": false,
     "start_time": "2022-11-11T00:45:48.164617",
     "status": "completed"
    },
    "tags": []
   },
   "source": [
    "You are going to write a classifier that distinguishes between the number 3 and number 8."
   ]
  },
  {
   "cell_type": "code",
   "execution_count": 1,
   "id": "b15c8646",
   "metadata": {
    "execution": {
     "iopub.execute_input": "2022-11-11T00:45:48.260146Z",
     "iopub.status.busy": "2022-11-11T00:45:48.259408Z",
     "iopub.status.idle": "2022-11-11T00:45:48.272152Z",
     "shell.execute_reply": "2022-11-11T00:45:48.272692Z"
    },
    "papermill": {
     "duration": 0.053338,
     "end_time": "2022-11-11T00:45:48.272878",
     "exception": false,
     "start_time": "2022-11-11T00:45:48.219540",
     "status": "completed"
    },
    "tags": []
   },
   "outputs": [],
   "source": [
    "%load_ext autoreload\n",
    "%autoreload 2"
   ]
  },
  {
   "cell_type": "code",
   "execution_count": 2,
   "id": "22ef38dc",
   "metadata": {
    "execution": {
     "iopub.execute_input": "2022-11-11T00:45:48.332949Z",
     "iopub.status.busy": "2022-11-11T00:45:48.332204Z",
     "iopub.status.idle": "2022-11-11T00:45:49.037446Z",
     "shell.execute_reply": "2022-11-11T00:45:49.036833Z"
    },
    "papermill": {
     "duration": 0.737306,
     "end_time": "2022-11-11T00:45:49.037591",
     "exception": false,
     "start_time": "2022-11-11T00:45:48.300285",
     "status": "completed"
    },
    "tags": []
   },
   "outputs": [],
   "source": [
    "%matplotlib inline\n",
    "import numpy as np\n",
    "import matplotlib.pyplot as plt\n",
    "import pandas as pd"
   ]
  },
  {
   "cell_type": "markdown",
   "id": "ba036198",
   "metadata": {
    "papermill": {
     "duration": 0.027535,
     "end_time": "2022-11-11T00:45:49.092930",
     "exception": false,
     "start_time": "2022-11-11T00:45:49.065395",
     "status": "completed"
    },
    "tags": []
   },
   "source": [
    "From the command line run `pip install mnist`. This is a library that will help you bring down the mnist dataset. If you run this from a notebook, you need to put  `!pip install mnist` in a cell by itself."
   ]
  },
  {
   "cell_type": "code",
   "execution_count": 3,
   "id": "bb6ad8a1",
   "metadata": {
    "execution": {
     "iopub.execute_input": "2022-11-11T00:45:49.152018Z",
     "iopub.status.busy": "2022-11-11T00:45:49.151330Z",
     "iopub.status.idle": "2022-11-11T00:45:50.969446Z",
     "shell.execute_reply": "2022-11-11T00:45:50.968705Z"
    },
    "papermill": {
     "duration": 1.84969,
     "end_time": "2022-11-11T00:45:50.969604",
     "exception": false,
     "start_time": "2022-11-11T00:45:49.119914",
     "status": "completed"
    },
    "tags": []
   },
   "outputs": [
    {
     "name": "stdout",
     "output_type": "stream",
     "text": [
      "Collecting mnist\r\n"
     ]
    },
    {
     "name": "stdout",
     "output_type": "stream",
     "text": [
      "  Downloading mnist-0.2.2-py2.py3-none-any.whl (3.5 kB)\r\n",
      "Requirement already satisfied: numpy in /opt/hostedtoolcache/Python/3.6.15/x64/lib/python3.6/site-packages (from mnist) (1.19.5)\r\n"
     ]
    },
    {
     "name": "stdout",
     "output_type": "stream",
     "text": [
      "Installing collected packages: mnist\r\n"
     ]
    },
    {
     "name": "stdout",
     "output_type": "stream",
     "text": [
      "Successfully installed mnist-0.2.2\r\n"
     ]
    }
   ],
   "source": [
    "!pip install mnist"
   ]
  },
  {
   "cell_type": "markdown",
   "id": "69df9c9a",
   "metadata": {
    "papermill": {
     "duration": 0.028641,
     "end_time": "2022-11-11T00:45:51.027868",
     "exception": false,
     "start_time": "2022-11-11T00:45:50.999227",
     "status": "completed"
    },
    "tags": []
   },
   "source": [
    "## Preparing the Data"
   ]
  },
  {
   "cell_type": "code",
   "execution_count": 4,
   "id": "7f69d806",
   "metadata": {
    "execution": {
     "iopub.execute_input": "2022-11-11T00:45:51.090598Z",
     "iopub.status.busy": "2022-11-11T00:45:51.089915Z",
     "iopub.status.idle": "2022-11-11T00:45:51.107581Z",
     "shell.execute_reply": "2022-11-11T00:45:51.107007Z"
    },
    "papermill": {
     "duration": 0.051411,
     "end_time": "2022-11-11T00:45:51.107712",
     "exception": false,
     "start_time": "2022-11-11T00:45:51.056301",
     "status": "completed"
    },
    "tags": []
   },
   "outputs": [],
   "source": [
    "import mnist"
   ]
  },
  {
   "cell_type": "code",
   "execution_count": 5,
   "id": "a411e44f",
   "metadata": {
    "execution": {
     "iopub.execute_input": "2022-11-11T00:45:51.169921Z",
     "iopub.status.busy": "2022-11-11T00:45:51.169233Z",
     "iopub.status.idle": "2022-11-11T00:45:51.834927Z",
     "shell.execute_reply": "2022-11-11T00:45:51.834243Z"
    },
    "papermill": {
     "duration": 0.698626,
     "end_time": "2022-11-11T00:45:51.835065",
     "exception": false,
     "start_time": "2022-11-11T00:45:51.136439",
     "status": "completed"
    },
    "tags": []
   },
   "outputs": [],
   "source": [
    "train_images = mnist.train_images()\n",
    "train_labels = mnist.train_labels()"
   ]
  },
  {
   "cell_type": "code",
   "execution_count": 6,
   "id": "dceab3a5",
   "metadata": {
    "execution": {
     "iopub.execute_input": "2022-11-11T00:45:51.899177Z",
     "iopub.status.busy": "2022-11-11T00:45:51.898482Z",
     "iopub.status.idle": "2022-11-11T00:45:51.915090Z",
     "shell.execute_reply": "2022-11-11T00:45:51.914427Z"
    },
    "papermill": {
     "duration": 0.051519,
     "end_time": "2022-11-11T00:45:51.915239",
     "exception": false,
     "start_time": "2022-11-11T00:45:51.863720",
     "status": "completed"
    },
    "tags": []
   },
   "outputs": [
    {
     "data": {
      "text/plain": [
       "((60000, 28, 28), (60000,))"
      ]
     },
     "execution_count": 6,
     "metadata": {},
     "output_type": "execute_result"
    }
   ],
   "source": [
    "train_images.shape, train_labels.shape"
   ]
  },
  {
   "cell_type": "code",
   "execution_count": 7,
   "id": "f50dc2bb",
   "metadata": {
    "execution": {
     "iopub.execute_input": "2022-11-11T00:45:51.978494Z",
     "iopub.status.busy": "2022-11-11T00:45:51.977804Z",
     "iopub.status.idle": "2022-11-11T00:45:52.130936Z",
     "shell.execute_reply": "2022-11-11T00:45:52.130306Z"
    },
    "papermill": {
     "duration": 0.186245,
     "end_time": "2022-11-11T00:45:52.131071",
     "exception": false,
     "start_time": "2022-11-11T00:45:51.944826",
     "status": "completed"
    },
    "tags": []
   },
   "outputs": [],
   "source": [
    "test_images = mnist.test_images()\n",
    "test_labels = mnist.test_labels()"
   ]
  },
  {
   "cell_type": "code",
   "execution_count": 8,
   "id": "fc38cf1b",
   "metadata": {
    "execution": {
     "iopub.execute_input": "2022-11-11T00:45:52.198827Z",
     "iopub.status.busy": "2022-11-11T00:45:52.198118Z",
     "iopub.status.idle": "2022-11-11T00:45:52.214722Z",
     "shell.execute_reply": "2022-11-11T00:45:52.215217Z"
    },
    "papermill": {
     "duration": 0.053254,
     "end_time": "2022-11-11T00:45:52.215371",
     "exception": false,
     "start_time": "2022-11-11T00:45:52.162117",
     "status": "completed"
    },
    "tags": []
   },
   "outputs": [
    {
     "data": {
      "text/plain": [
       "((10000, 28, 28), (10000,))"
      ]
     },
     "execution_count": 8,
     "metadata": {},
     "output_type": "execute_result"
    }
   ],
   "source": [
    "test_images.shape, test_labels.shape"
   ]
  },
  {
   "cell_type": "code",
   "execution_count": 9,
   "id": "f9ed8fe0",
   "metadata": {
    "execution": {
     "iopub.execute_input": "2022-11-11T00:45:52.285015Z",
     "iopub.status.busy": "2022-11-11T00:45:52.284209Z",
     "iopub.status.idle": "2022-11-11T00:45:52.461467Z",
     "shell.execute_reply": "2022-11-11T00:45:52.460554Z"
    },
    "papermill": {
     "duration": 0.213344,
     "end_time": "2022-11-11T00:45:52.461610",
     "exception": false,
     "start_time": "2022-11-11T00:45:52.248266",
     "status": "completed"
    },
    "tags": []
   },
   "outputs": [
    {
     "name": "stdout",
     "output_type": "stream",
     "text": [
      "2\n"
     ]
    },
    {
     "data": {
      "text/plain": [
       "<matplotlib.image.AxesImage at 0x7fbd0232bdd8>"
      ]
     },
     "execution_count": 9,
     "metadata": {},
     "output_type": "execute_result"
    },
    {
     "data": {
      "image/png": "[encoded data removed]",
      "text/plain": [
       "<Figure size 432x288 with 1 Axes>"
      ]
     },
     "metadata": {
      "needs_background": "light"
     },
     "output_type": "display_data"
    }
   ],
   "source": [
    "image_index = 7776 # You may select anything up to 60,000\n",
    "print(train_labels[image_index]) \n",
    "plt.imshow(train_images[image_index], cmap='Greys')"
   ]
  },
  {
   "cell_type": "markdown",
   "id": "a8d2388d",
   "metadata": {
    "papermill": {
     "duration": 0.030304,
     "end_time": "2022-11-11T00:45:52.524636",
     "exception": false,
     "start_time": "2022-11-11T00:45:52.494332",
     "status": "completed"
    },
    "tags": []
   },
   "source": [
    "## Filter data to get 3 and 8 out"
   ]
  },
  {
   "cell_type": "code",
   "execution_count": 10,
   "id": "776f7fc7",
   "metadata": {
    "execution": {
     "iopub.execute_input": "2022-11-11T00:45:52.594559Z",
     "iopub.status.busy": "2022-11-11T00:45:52.593562Z",
     "iopub.status.idle": "2022-11-11T00:45:52.615569Z",
     "shell.execute_reply": "2022-11-11T00:45:52.614941Z"
    },
    "papermill": {
     "duration": 0.060688,
     "end_time": "2022-11-11T00:45:52.615718",
     "exception": false,
     "start_time": "2022-11-11T00:45:52.555030",
     "status": "completed"
    },
    "tags": []
   },
   "outputs": [],
   "source": [
    "train_filter = np.where((train_labels == 3 ) | (train_labels == 8))\n",
    "test_filter = np.where((test_labels == 3) | (test_labels == 8))\n",
    "X_train, y_train = train_images[train_filter], train_labels[train_filter]\n",
    "X_test, y_test = test_images[test_filter], test_labels[test_filter]"
   ]
  },
  {
   "cell_type": "markdown",
   "id": "948f0b7e",
   "metadata": {
    "papermill": {
     "duration": 0.030203,
     "end_time": "2022-11-11T00:45:52.676886",
     "exception": false,
     "start_time": "2022-11-11T00:45:52.646683",
     "status": "completed"
    },
    "tags": []
   },
   "source": [
    "We normalize the pizel values in the 0 to 1 range"
   ]
  },
  {
   "cell_type": "code",
   "execution_count": 11,
   "id": "ee4c2166",
   "metadata": {
    "execution": {
     "iopub.execute_input": "2022-11-11T00:45:52.742018Z",
     "iopub.status.busy": "2022-11-11T00:45:52.741321Z",
     "iopub.status.idle": "2022-11-11T00:45:52.796974Z",
     "shell.execute_reply": "2022-11-11T00:45:52.796246Z"
    },
    "papermill": {
     "duration": 0.089996,
     "end_time": "2022-11-11T00:45:52.797129",
     "exception": false,
     "start_time": "2022-11-11T00:45:52.707133",
     "status": "completed"
    },
    "tags": []
   },
   "outputs": [],
   "source": [
    "X_train = X_train/255.\n",
    "X_test = X_test/255."
   ]
  },
  {
   "cell_type": "markdown",
   "id": "ddcf4fab",
   "metadata": {
    "papermill": {
     "duration": 0.030237,
     "end_time": "2022-11-11T00:45:52.858047",
     "exception": false,
     "start_time": "2022-11-11T00:45:52.827810",
     "status": "completed"
    },
    "tags": []
   },
   "source": [
    "And setup the labels as 1 (when the digit is 3) and 0 (when the digit is 8)"
   ]
  },
  {
   "cell_type": "code",
   "execution_count": 12,
   "id": "7dc908f2",
   "metadata": {
    "execution": {
     "iopub.execute_input": "2022-11-11T00:45:52.922237Z",
     "iopub.status.busy": "2022-11-11T00:45:52.921551Z",
     "iopub.status.idle": "2022-11-11T00:45:52.943683Z",
     "shell.execute_reply": "2022-11-11T00:45:52.944251Z"
    },
    "papermill": {
     "duration": 0.055888,
     "end_time": "2022-11-11T00:45:52.944448",
     "exception": false,
     "start_time": "2022-11-11T00:45:52.888560",
     "status": "completed"
    },
    "tags": []
   },
   "outputs": [],
   "source": [
    "y_train = 1*(y_train==3)\n",
    "y_test = 1*(y_test==3)"
   ]
  },
  {
   "cell_type": "code",
   "execution_count": 13,
   "id": "01e4e969",
   "metadata": {
    "execution": {
     "iopub.execute_input": "2022-11-11T00:45:53.012658Z",
     "iopub.status.busy": "2022-11-11T00:45:53.011930Z",
     "iopub.status.idle": "2022-11-11T00:45:53.026855Z",
     "shell.execute_reply": "2022-11-11T00:45:53.026078Z"
    },
    "papermill": {
     "duration": 0.051957,
     "end_time": "2022-11-11T00:45:53.027004",
     "exception": false,
     "start_time": "2022-11-11T00:45:52.975047",
     "status": "completed"
    },
    "tags": []
   },
   "outputs": [
    {
     "data": {
      "text/plain": [
       "((11982, 28, 28), (1984, 28, 28))"
      ]
     },
     "execution_count": 13,
     "metadata": {},
     "output_type": "execute_result"
    }
   ],
   "source": [
    "X_train.shape, X_test.shape"
   ]
  },
  {
   "cell_type": "markdown",
   "id": "5ccf3f85",
   "metadata": {
    "papermill": {
     "duration": 0.035161,
     "end_time": "2022-11-11T00:45:53.095427",
     "exception": false,
     "start_time": "2022-11-11T00:45:53.060266",
     "status": "completed"
    },
    "tags": []
   },
   "source": [
    "We reshape the data to flatten the image pixels into a set of features or co-variates:"
   ]
  },
  {
   "cell_type": "code",
   "execution_count": 14,
   "id": "5286a4a3",
   "metadata": {
    "execution": {
     "iopub.execute_input": "2022-11-11T00:45:53.173177Z",
     "iopub.status.busy": "2022-11-11T00:45:53.172475Z",
     "iopub.status.idle": "2022-11-11T00:45:53.191864Z",
     "shell.execute_reply": "2022-11-11T00:45:53.191260Z"
    },
    "papermill": {
     "duration": 0.054731,
     "end_time": "2022-11-11T00:45:53.191997",
     "exception": false,
     "start_time": "2022-11-11T00:45:53.137266",
     "status": "completed"
    },
    "tags": []
   },
   "outputs": [
    {
     "data": {
      "text/plain": [
       "((11982, 784), (1984, 784))"
      ]
     },
     "execution_count": 14,
     "metadata": {},
     "output_type": "execute_result"
    }
   ],
   "source": [
    "X_train = X_train.reshape(X_train.shape[0], -1)\n",
    "X_test = X_test.reshape(X_test.shape[0], -1)\n",
    "X_train.shape, X_test.shape"
   ]
  },
  {
   "cell_type": "code",
   "execution_count": 15,
   "id": "73c5f88a",
   "metadata": {
    "execution": {
     "iopub.execute_input": "2022-11-11T00:45:53.265105Z",
     "iopub.status.busy": "2022-11-11T00:45:53.264373Z",
     "iopub.status.idle": "2022-11-11T00:45:53.286812Z",
     "shell.execute_reply": "2022-11-11T00:45:53.287359Z"
    },
    "papermill": {
     "duration": 0.061286,
     "end_time": "2022-11-11T00:45:53.287524",
     "exception": false,
     "start_time": "2022-11-11T00:45:53.226238",
     "status": "completed"
    },
    "tags": []
   },
   "outputs": [],
   "source": [
    "#Impoting functions from 'Kudzu'\n",
    "from kudzu.model import Model\n",
    "from kudzu.train import Learner\n",
    "from kudzu.optim import GD\n",
    "from kudzu.data import Data, Sampler,Dataloader\n",
    "\n",
    "from kudzu.callbacks import AccCallback\n",
    "from kudzu.callbacks import ClfCallback\n",
    "\n",
    "from kudzu.loss import MSE\n",
    "\n",
    "from kudzu.layer import Sigmoid,Relu\n",
    "from kudzu.layer import Affine"
   ]
  },
  {
   "cell_type": "markdown",
   "id": "bc01172a",
   "metadata": {
    "papermill": {
     "duration": 0.030764,
     "end_time": "2022-11-11T00:45:53.349458",
     "exception": false,
     "start_time": "2022-11-11T00:45:53.318694",
     "status": "completed"
    },
    "tags": []
   },
   "source": [
    "### Let us create a `Config` class, to store important parameters. \n",
    "This class essentially plays the role of a dictionary."
   ]
  },
  {
   "cell_type": "code",
   "execution_count": 16,
   "id": "978281aa",
   "metadata": {
    "execution": {
     "iopub.execute_input": "2022-11-11T00:45:53.416347Z",
     "iopub.status.busy": "2022-11-11T00:45:53.415645Z",
     "iopub.status.idle": "2022-11-11T00:45:53.430207Z",
     "shell.execute_reply": "2022-11-11T00:45:53.429514Z"
    },
    "papermill": {
     "duration": 0.050135,
     "end_time": "2022-11-11T00:45:53.430340",
     "exception": false,
     "start_time": "2022-11-11T00:45:53.380205",
     "status": "completed"
    },
    "tags": []
   },
   "outputs": [],
   "source": [
    "class Config:\n",
    "    pass\n",
    "config = Config()\n",
    "config.lr = 0.001\n",
    "config.num_epochs = 250\n",
    "config.bs = 50"
   ]
  },
  {
   "cell_type": "markdown",
   "id": "1385fa59",
   "metadata": {
    "papermill": {
     "duration": 0.030793,
     "end_time": "2022-11-11T00:45:53.500996",
     "exception": false,
     "start_time": "2022-11-11T00:45:53.470203",
     "status": "completed"
    },
    "tags": []
   },
   "source": [
    "### Running Models with the Training data\n",
    "Details about the network layers:\n",
    "- A first affine layer has 784 inputs and does 100 affine transforms. These are followed by a Relu\n",
    "- A second affine layer has 100 inputs from the 100 activations of the past layer, and does 100 affine transforms. These are followed by a Relu\n",
    "- A third affine layer has 100 activations and does 2 affine transformations to create an embedding for visualization. There is no non-linearity here.\n",
    "- A final \"logistic regression\" which has an affine transform from 2 inputs to 1 output, which is squeezed through a sigmoid.\n"
   ]
  },
  {
   "cell_type": "code",
   "execution_count": 17,
   "id": "2b9c66db",
   "metadata": {
    "execution": {
     "iopub.execute_input": "2022-11-11T00:45:53.567987Z",
     "iopub.status.busy": "2022-11-11T00:45:53.567283Z",
     "iopub.status.idle": "2022-11-11T00:45:53.584073Z",
     "shell.execute_reply": "2022-11-11T00:45:53.583495Z"
    },
    "papermill": {
     "duration": 0.052381,
     "end_time": "2022-11-11T00:45:53.584206",
     "exception": false,
     "start_time": "2022-11-11T00:45:53.531825",
     "status": "completed"
    },
    "tags": []
   },
   "outputs": [],
   "source": [
    "data = Data(X_train, y_train.reshape(-1,1))\n",
    "sampler = Sampler(data, config.bs, shuffle=True)\n",
    "\n",
    "dl = Dataloader(data, sampler)\n",
    "\n",
    "opt = GD(config.lr)\n",
    "loss = MSE()"
   ]
  },
  {
   "cell_type": "code",
   "execution_count": 18,
   "id": "b275e4c2",
   "metadata": {
    "execution": {
     "iopub.execute_input": "2022-11-11T00:45:53.650923Z",
     "iopub.status.busy": "2022-11-11T00:45:53.650194Z",
     "iopub.status.idle": "2022-11-11T00:45:53.664641Z",
     "shell.execute_reply": "2022-11-11T00:45:53.665192Z"
    },
    "papermill": {
     "duration": 0.050178,
     "end_time": "2022-11-11T00:45:53.665356",
     "exception": false,
     "start_time": "2022-11-11T00:45:53.615178",
     "status": "completed"
    },
    "tags": []
   },
   "outputs": [],
   "source": [
    "training_data_x = X_train\n",
    "testing_data_x = X_test\n",
    "training_data_y = y_train.reshape(-1,1)\n",
    "testing_data_y = y_test.reshape(-1,1)"
   ]
  },
  {
   "cell_type": "code",
   "execution_count": 19,
   "id": "76951160",
   "metadata": {
    "execution": {
     "iopub.execute_input": "2022-11-11T00:45:53.748035Z",
     "iopub.status.busy": "2022-11-11T00:45:53.747112Z",
     "iopub.status.idle": "2022-11-11T00:45:53.767058Z",
     "shell.execute_reply": "2022-11-11T00:45:53.766497Z"
    },
    "papermill": {
     "duration": 0.068631,
     "end_time": "2022-11-11T00:45:53.767192",
     "exception": false,
     "start_time": "2022-11-11T00:45:53.698561",
     "status": "completed"
    },
    "tags": []
   },
   "outputs": [
    {
     "name": "stdout",
     "output_type": "stream",
     "text": [
      "xavier\n",
      "xavier\n",
      "xavier\n",
      "xavier\n",
      "xavier\n"
     ]
    }
   ],
   "source": [
    "layers = [Affine(\"first\", 784, 100), Relu(\"first\"), Affine(\"second\", 100, 100), Relu(\"second\"), Affine(\"third\", 100, 2), Affine(\"last\", 2, 1), Sigmoid(\"last\")]\n",
    "model_nn = Model(layers)\n",
    "model_lr = Model([Affine(\"logits\", 784, 1), Sigmoid(\"sigmoid\")])"
   ]
  },
  {
   "cell_type": "code",
   "execution_count": 20,
   "id": "6eede77a",
   "metadata": {
    "execution": {
     "iopub.execute_input": "2022-11-11T00:45:53.845279Z",
     "iopub.status.busy": "2022-11-11T00:45:53.844202Z",
     "iopub.status.idle": "2022-11-11T00:45:53.858730Z",
     "shell.execute_reply": "2022-11-11T00:45:53.858019Z"
    },
    "papermill": {
     "duration": 0.057231,
     "end_time": "2022-11-11T00:45:53.858864",
     "exception": false,
     "start_time": "2022-11-11T00:45:53.801633",
     "status": "completed"
    },
    "tags": []
   },
   "outputs": [],
   "source": [
    "nn_learner = Learner(loss, model_nn, opt, config.num_epochs)\n",
    "acc_nn = ClfCallback(nn_learner, config.bs, training_data_x , testing_data_x, training_data_y, testing_data_y)\n",
    "nn_learner.set_callbacks([acc_nn])"
   ]
  },
  {
   "cell_type": "code",
   "execution_count": 21,
   "id": "877b6cc7",
   "metadata": {
    "execution": {
     "iopub.execute_input": "2022-11-11T00:45:53.943992Z",
     "iopub.status.busy": "2022-11-11T00:45:53.943277Z",
     "iopub.status.idle": "2022-11-11T00:45:53.958013Z",
     "shell.execute_reply": "2022-11-11T00:45:53.957353Z"
    },
    "papermill": {
     "duration": 0.054895,
     "end_time": "2022-11-11T00:45:53.958152",
     "exception": false,
     "start_time": "2022-11-11T00:45:53.903257",
     "status": "completed"
    },
    "tags": []
   },
   "outputs": [],
   "source": [
    "lr_learner = Learner(loss, model_lr, opt, config.num_epochs)\n",
    "acc_lr = ClfCallback(lr_learner, config.bs, training_data_x , testing_data_x, training_data_y, testing_data_y)\n",
    "lr_learner.set_callbacks([acc_lr])"
   ]
  },
  {
   "cell_type": "code",
   "execution_count": 22,
   "id": "d9b133c3",
   "metadata": {
    "execution": {
     "iopub.execute_input": "2022-11-11T00:45:54.035918Z",
     "iopub.status.busy": "2022-11-11T00:45:54.035209Z",
     "iopub.status.idle": "2022-11-11T00:47:26.157158Z",
     "shell.execute_reply": "2022-11-11T00:47:26.158165Z"
    },
    "papermill": {
     "duration": 92.161739,
     "end_time": "2022-11-11T00:47:26.158327",
     "exception": false,
     "start_time": "2022-11-11T00:45:53.996588",
     "status": "completed"
    },
    "tags": []
   },
   "outputs": [
    {
     "name": "stdout",
     "output_type": "stream",
     "text": [
      "Epoch 0, Loss 0.2497\n",
      "Training Accuracy: 0.5492, Testing Accuracy: 0.5706\n",
      "\n"
     ]
    },
    {
     "name": "stdout",
     "output_type": "stream",
     "text": [
      "Epoch 10, Loss 0.2464\n",
      "Training Accuracy: 0.6578, Testing Accuracy: 0.6608\n",
      "\n"
     ]
    },
    {
     "name": "stdout",
     "output_type": "stream",
     "text": [
      "Epoch 20, Loss 0.2342\n",
      "Training Accuracy: 0.7669, Testing Accuracy: 0.7707\n",
      "\n"
     ]
    },
    {
     "name": "stdout",
     "output_type": "stream",
     "text": [
      "Epoch 30, Loss 0.1766\n",
      "Training Accuracy: 0.8804, Testing Accuracy: 0.8881\n",
      "\n"
     ]
    },
    {
     "name": "stdout",
     "output_type": "stream",
     "text": [
      "Epoch 40, Loss 0.0884\n",
      "Training Accuracy: 0.9168, Testing Accuracy: 0.9264\n",
      "\n"
     ]
    },
    {
     "name": "stdout",
     "output_type": "stream",
     "text": [
      "Epoch 50, Loss 0.0595\n",
      "Training Accuracy: 0.9356, Testing Accuracy: 0.9456\n",
      "\n"
     ]
    },
    {
     "name": "stdout",
     "output_type": "stream",
     "text": [
      "Epoch 60, Loss 0.0474\n",
      "Training Accuracy: 0.9475, Testing Accuracy: 0.9546\n",
      "\n"
     ]
    },
    {
     "name": "stdout",
     "output_type": "stream",
     "text": [
      "Epoch 70, Loss 0.0409\n",
      "Training Accuracy: 0.9533, Testing Accuracy: 0.9607\n",
      "\n"
     ]
    },
    {
     "name": "stdout",
     "output_type": "stream",
     "text": [
      "Epoch 80, Loss 0.0367\n",
      "Training Accuracy: 0.9579, Testing Accuracy: 0.9652\n",
      "\n"
     ]
    },
    {
     "name": "stdout",
     "output_type": "stream",
     "text": [
      "Epoch 90, Loss 0.0339\n",
      "Training Accuracy: 0.9612, Testing Accuracy: 0.9672\n",
      "\n"
     ]
    },
    {
     "name": "stdout",
     "output_type": "stream",
     "text": [
      "Epoch 100, Loss 0.0317\n",
      "Training Accuracy: 0.9630, Testing Accuracy: 0.9677\n",
      "\n"
     ]
    },
    {
     "name": "stdout",
     "output_type": "stream",
     "text": [
      "Epoch 110, Loss 0.0301\n",
      "Training Accuracy: 0.9649, Testing Accuracy: 0.9688\n",
      "\n"
     ]
    },
    {
     "name": "stdout",
     "output_type": "stream",
     "text": [
      "Epoch 120, Loss 0.0288\n",
      "Training Accuracy: 0.9663, Testing Accuracy: 0.9713\n",
      "\n"
     ]
    },
    {
     "name": "stdout",
     "output_type": "stream",
     "text": [
      "Epoch 130, Loss 0.0277\n",
      "Training Accuracy: 0.9675, Testing Accuracy: 0.9718\n",
      "\n"
     ]
    },
    {
     "name": "stdout",
     "output_type": "stream",
     "text": [
      "Epoch 140, Loss 0.0268\n",
      "Training Accuracy: 0.9693, Testing Accuracy: 0.9718\n",
      "\n"
     ]
    },
    {
     "name": "stdout",
     "output_type": "stream",
     "text": [
      "Epoch 150, Loss 0.026\n",
      "Training Accuracy: 0.9703, Testing Accuracy: 0.9718\n",
      "\n"
     ]
    },
    {
     "name": "stdout",
     "output_type": "stream",
     "text": [
      "Epoch 160, Loss 0.0252\n",
      "Training Accuracy: 0.9715, Testing Accuracy: 0.9718\n",
      "\n"
     ]
    },
    {
     "name": "stdout",
     "output_type": "stream",
     "text": [
      "Epoch 170, Loss 0.0246\n",
      "Training Accuracy: 0.9718, Testing Accuracy: 0.9713\n",
      "\n"
     ]
    },
    {
     "name": "stdout",
     "output_type": "stream",
     "text": [
      "Epoch 180, Loss 0.024\n",
      "Training Accuracy: 0.9722, Testing Accuracy: 0.9713\n",
      "\n"
     ]
    },
    {
     "name": "stdout",
     "output_type": "stream",
     "text": [
      "Epoch 190, Loss 0.0235\n",
      "Training Accuracy: 0.9726, Testing Accuracy: 0.9713\n",
      "\n"
     ]
    },
    {
     "name": "stdout",
     "output_type": "stream",
     "text": [
      "Epoch 200, Loss 0.023\n",
      "Training Accuracy: 0.9736, Testing Accuracy: 0.9718\n",
      "\n"
     ]
    },
    {
     "name": "stdout",
     "output_type": "stream",
     "text": [
      "Epoch 210, Loss 0.0225\n",
      "Training Accuracy: 0.9740, Testing Accuracy: 0.9723\n",
      "\n"
     ]
    },
    {
     "name": "stdout",
     "output_type": "stream",
     "text": [
      "Epoch 220, Loss 0.022\n",
      "Training Accuracy: 0.9748, Testing Accuracy: 0.9728\n",
      "\n"
     ]
    },
    {
     "name": "stdout",
     "output_type": "stream",
     "text": [
      "Epoch 230, Loss 0.0216\n",
      "Training Accuracy: 0.9756, Testing Accuracy: 0.9718\n",
      "\n"
     ]
    },
    {
     "name": "stdout",
     "output_type": "stream",
     "text": [
      "Epoch 240, Loss 0.0212\n",
      "Training Accuracy: 0.9760, Testing Accuracy: 0.9718\n",
      "\n"
     ]
    },
    {
     "data": {
      "text/plain": [
       "0.0020211008005016563"
      ]
     },
     "execution_count": 22,
     "metadata": {},
     "output_type": "execute_result"
    }
   ],
   "source": [
    "nn_learner.train_loop(dl)"
   ]
  },
  {
   "cell_type": "code",
   "execution_count": 23,
   "id": "e0163366",
   "metadata": {
    "execution": {
     "iopub.execute_input": "2022-11-11T00:47:26.250244Z",
     "iopub.status.busy": "2022-11-11T00:47:26.249528Z",
     "iopub.status.idle": "2022-11-11T00:47:42.787663Z",
     "shell.execute_reply": "2022-11-11T00:47:42.788672Z"
    },
    "papermill": {
     "duration": 16.590553,
     "end_time": "2022-11-11T00:47:42.788838",
     "exception": false,
     "start_time": "2022-11-11T00:47:26.198285",
     "status": "completed"
    },
    "tags": []
   },
   "outputs": [
    {
     "name": "stdout",
     "output_type": "stream",
     "text": [
      "Epoch 0, Loss 0.2148\n",
      "Training Accuracy: 0.7471, Testing Accuracy: 0.7475\n",
      "\n"
     ]
    },
    {
     "name": "stdout",
     "output_type": "stream",
     "text": [
      "Epoch 10, Loss 0.1028\n",
      "Training Accuracy: 0.9072, Testing Accuracy: 0.9148\n",
      "\n"
     ]
    },
    {
     "name": "stdout",
     "output_type": "stream",
     "text": [
      "Epoch 20, Loss 0.0799\n",
      "Training Accuracy: 0.9265, Testing Accuracy: 0.9365\n",
      "\n"
     ]
    },
    {
     "name": "stdout",
     "output_type": "stream",
     "text": [
      "Epoch 30, Loss 0.0689\n",
      "Training Accuracy: 0.9358, Testing Accuracy: 0.9451\n",
      "\n"
     ]
    },
    {
     "name": "stdout",
     "output_type": "stream",
     "text": [
      "Epoch 40, Loss 0.0622\n",
      "Training Accuracy: 0.9415, Testing Accuracy: 0.9496\n",
      "\n"
     ]
    },
    {
     "name": "stdout",
     "output_type": "stream",
     "text": [
      "Epoch 50, Loss 0.0576\n",
      "Training Accuracy: 0.9441, Testing Accuracy: 0.9541\n",
      "\n"
     ]
    },
    {
     "name": "stdout",
     "output_type": "stream",
     "text": [
      "Epoch 60, Loss 0.0543\n",
      "Training Accuracy: 0.9465, Testing Accuracy: 0.9561\n",
      "\n"
     ]
    },
    {
     "name": "stdout",
     "output_type": "stream",
     "text": [
      "Epoch 70, Loss 0.0516\n",
      "Training Accuracy: 0.9485, Testing Accuracy: 0.9577\n",
      "\n"
     ]
    },
    {
     "name": "stdout",
     "output_type": "stream",
     "text": [
      "Epoch 80, Loss 0.0495\n",
      "Training Accuracy: 0.9501, Testing Accuracy: 0.9602\n",
      "\n"
     ]
    },
    {
     "name": "stdout",
     "output_type": "stream",
     "text": [
      "Epoch 90, Loss 0.0478\n",
      "Training Accuracy: 0.9518, Testing Accuracy: 0.9617\n",
      "\n"
     ]
    },
    {
     "name": "stdout",
     "output_type": "stream",
     "text": [
      "Epoch 100, Loss 0.0464\n",
      "Training Accuracy: 0.9533, Testing Accuracy: 0.9632\n",
      "\n"
     ]
    },
    {
     "name": "stdout",
     "output_type": "stream",
     "text": [
      "Epoch 110, Loss 0.0451\n",
      "Training Accuracy: 0.9538, Testing Accuracy: 0.9637\n",
      "\n"
     ]
    },
    {
     "name": "stdout",
     "output_type": "stream",
     "text": [
      "Epoch 120, Loss 0.044\n",
      "Training Accuracy: 0.9544, Testing Accuracy: 0.9637\n",
      "\n"
     ]
    },
    {
     "name": "stdout",
     "output_type": "stream",
     "text": [
      "Epoch 130, Loss 0.0431\n",
      "Training Accuracy: 0.9557, Testing Accuracy: 0.9642\n",
      "\n"
     ]
    },
    {
     "name": "stdout",
     "output_type": "stream",
     "text": [
      "Epoch 140, Loss 0.0422\n",
      "Training Accuracy: 0.9561, Testing Accuracy: 0.9647\n",
      "\n"
     ]
    },
    {
     "name": "stdout",
     "output_type": "stream",
     "text": [
      "Epoch 150, Loss 0.0415\n",
      "Training Accuracy: 0.9569, Testing Accuracy: 0.9652\n",
      "\n"
     ]
    },
    {
     "name": "stdout",
     "output_type": "stream",
     "text": [
      "Epoch 160, Loss 0.0408\n",
      "Training Accuracy: 0.9580, Testing Accuracy: 0.9657\n",
      "\n"
     ]
    },
    {
     "name": "stdout",
     "output_type": "stream",
     "text": [
      "Epoch 170, Loss 0.0402\n",
      "Training Accuracy: 0.9584, Testing Accuracy: 0.9657\n",
      "\n"
     ]
    },
    {
     "name": "stdout",
     "output_type": "stream",
     "text": [
      "Epoch 180, Loss 0.0396\n",
      "Training Accuracy: 0.9589, Testing Accuracy: 0.9657\n",
      "\n"
     ]
    },
    {
     "name": "stdout",
     "output_type": "stream",
     "text": [
      "Epoch 190, Loss 0.0391\n",
      "Training Accuracy: 0.9594, Testing Accuracy: 0.9662\n",
      "\n"
     ]
    },
    {
     "name": "stdout",
     "output_type": "stream",
     "text": [
      "Epoch 200, Loss 0.0386\n",
      "Training Accuracy: 0.9596, Testing Accuracy: 0.9662\n",
      "\n"
     ]
    },
    {
     "name": "stdout",
     "output_type": "stream",
     "text": [
      "Epoch 210, Loss 0.0381\n",
      "Training Accuracy: 0.9599, Testing Accuracy: 0.9667\n",
      "\n"
     ]
    },
    {
     "name": "stdout",
     "output_type": "stream",
     "text": [
      "Epoch 220, Loss 0.0377\n",
      "Training Accuracy: 0.9605, Testing Accuracy: 0.9667\n",
      "\n"
     ]
    },
    {
     "name": "stdout",
     "output_type": "stream",
     "text": [
      "Epoch 230, Loss 0.0373\n",
      "Training Accuracy: 0.9609, Testing Accuracy: 0.9667\n",
      "\n"
     ]
    },
    {
     "name": "stdout",
     "output_type": "stream",
     "text": [
      "Epoch 240, Loss 0.0369\n",
      "Training Accuracy: 0.9611, Testing Accuracy: 0.9667\n",
      "\n"
     ]
    },
    {
     "data": {
      "text/plain": [
       "0.015239596406746454"
      ]
     },
     "execution_count": 23,
     "metadata": {},
     "output_type": "execute_result"
    }
   ],
   "source": [
    "lr_learner.train_loop(dl)"
   ]
  },
  {
   "cell_type": "code",
   "execution_count": 24,
   "id": "ca410940",
   "metadata": {
    "execution": {
     "iopub.execute_input": "2022-11-11T00:47:42.898354Z",
     "iopub.status.busy": "2022-11-11T00:47:42.897620Z",
     "iopub.status.idle": "2022-11-11T00:47:43.148341Z",
     "shell.execute_reply": "2022-11-11T00:47:43.147756Z"
    },
    "papermill": {
     "duration": 0.312626,
     "end_time": "2022-11-11T00:47:43.148528",
     "exception": false,
     "start_time": "2022-11-11T00:47:42.835902",
     "status": "completed"
    },
    "tags": []
   },
   "outputs": [
    {
     "data": {
      "text/plain": [
       "<matplotlib.legend.Legend at 0x7fbd01e98438>"
      ]
     },
     "execution_count": 24,
     "metadata": {},
     "output_type": "execute_result"
    },
    {
     "data": {
      "image/png": "[encoded data removed]",
      "text/plain": [
       "<Figure size 1080x720 with 1 Axes>"
      ]
     },
     "metadata": {
      "needs_background": "light"
     },
     "output_type": "display_data"
    }
   ],
   "source": [
    "#comparing the results of NN and LR\n",
    "plt.figure(figsize=(15,10))\n",
    "\n",
    "# Neural Network plots\n",
    "plt.plot(acc_nn.accuracies, 'r-', label = \"Training Accuracies - NN\")\n",
    "plt.plot(acc_nn.test_accuracies, 'g-', label = \"Testing Accuracies - NN\")\n",
    "\n",
    "# Logistic Regression plots\n",
    "plt.plot(acc_lr.accuracies, 'k-', label = \"Training Accuracies - LR\")\n",
    "plt.plot(acc_lr.test_accuracies, 'b-', label = \"Testing Accuracies - LR\")\n",
    "plt.legend()"
   ]
  },
  {
   "cell_type": "markdown",
   "id": "80dfb35c",
   "metadata": {
    "papermill": {
     "duration": 0.048042,
     "end_time": "2022-11-11T00:47:43.245110",
     "exception": false,
     "start_time": "2022-11-11T00:47:43.197068",
     "status": "completed"
    },
    "tags": []
   },
   "source": [
    "#### Plotting the outputs of this layer of the NN.\n"
   ]
  },
  {
   "cell_type": "code",
   "execution_count": 25,
   "id": "45eb2ff5",
   "metadata": {
    "execution": {
     "iopub.execute_input": "2022-11-11T00:47:43.347033Z",
     "iopub.status.busy": "2022-11-11T00:47:43.345251Z",
     "iopub.status.idle": "2022-11-11T00:47:43.371189Z",
     "shell.execute_reply": "2022-11-11T00:47:43.370564Z"
    },
    "papermill": {
     "duration": 0.078108,
     "end_time": "2022-11-11T00:47:43.371326",
     "exception": false,
     "start_time": "2022-11-11T00:47:43.293218",
     "status": "completed"
    },
    "tags": []
   },
   "outputs": [],
   "source": [
    "new_model = Model(layers[:-2])\n",
    "testing_plot = new_model(testing_data_x)"
   ]
  },
  {
   "cell_type": "code",
   "execution_count": 26,
   "id": "4c0a5485",
   "metadata": {
    "execution": {
     "iopub.execute_input": "2022-11-11T00:47:43.478870Z",
     "iopub.status.busy": "2022-11-11T00:47:43.476849Z",
     "iopub.status.idle": "2022-11-11T00:47:43.717361Z",
     "shell.execute_reply": "2022-11-11T00:47:43.716350Z"
    },
    "papermill": {
     "duration": 0.297532,
     "end_time": "2022-11-11T00:47:43.717521",
     "exception": false,
     "start_time": "2022-11-11T00:47:43.419989",
     "status": "completed"
    },
    "tags": []
   },
   "outputs": [
    {
     "data": {
      "text/plain": [
       "Text(0.5, 1.0, 'Outputs')"
      ]
     },
     "execution_count": 26,
     "metadata": {},
     "output_type": "execute_result"
    },
    {
     "data": {
      "image/png": "[encoded data removed]",
      "text/plain": [
       "<Figure size 576x504 with 1 Axes>"
      ]
     },
     "metadata": {
      "needs_background": "light"
     },
     "output_type": "display_data"
    }
   ],
   "source": [
    "# Plotting the scatter plot of points and color coding by class\n",
    "plt.figure(figsize=(8,7))\n",
    "plt.scatter(testing_plot[:,0], testing_plot[:,1], alpha = 0.1, c = y_test.ravel());\n",
    "plt.title('Outputs')"
   ]
  },
  {
   "cell_type": "markdown",
   "id": "a74fcf8f",
   "metadata": {
    "papermill": {
     "duration": 0.056408,
     "end_time": "2022-11-11T00:47:43.832746",
     "exception": false,
     "start_time": "2022-11-11T00:47:43.776338",
     "status": "completed"
    },
    "tags": []
   },
   "source": [
    "Probability contours"
   ]
  },
  {
   "cell_type": "code",
   "execution_count": 27,
   "id": "d0afc8e3",
   "metadata": {
    "execution": {
     "iopub.execute_input": "2022-11-11T00:47:43.987982Z",
     "iopub.status.busy": "2022-11-11T00:47:43.987243Z",
     "iopub.status.idle": "2022-11-11T00:47:43.999078Z",
     "shell.execute_reply": "2022-11-11T00:47:43.998499Z"
    },
    "papermill": {
     "duration": 0.077727,
     "end_time": "2022-11-11T00:47:43.999207",
     "exception": false,
     "start_time": "2022-11-11T00:47:43.921480",
     "status": "completed"
    },
    "tags": []
   },
   "outputs": [],
   "source": [
    "model_prob = Model(layers[-2:]) "
   ]
  },
  {
   "cell_type": "code",
   "execution_count": 28,
   "id": "9b96e238",
   "metadata": {
    "execution": {
     "iopub.execute_input": "2022-11-11T00:47:44.118024Z",
     "iopub.status.busy": "2022-11-11T00:47:44.117322Z",
     "iopub.status.idle": "2022-11-11T00:47:44.133105Z",
     "shell.execute_reply": "2022-11-11T00:47:44.133618Z"
    },
    "papermill": {
     "duration": 0.076211,
     "end_time": "2022-11-11T00:47:44.133780",
     "exception": false,
     "start_time": "2022-11-11T00:47:44.057569",
     "status": "completed"
    },
    "tags": []
   },
   "outputs": [],
   "source": [
    "#creating the x and y ranges according to the above generated plot.\n",
    "x_range = np.linspace(-4, 1, 100) \n",
    "y_range = np.linspace(-6, 6, 100) \n",
    "x_grid, y_grid = np.meshgrid(x_range, y_range) # x_grid and y_grig are of size 100 X 100\n",
    "\n",
    "# converting x_grid and y_grid to continuous arrays\n",
    "x_gridflat = np.ravel(x_grid)\n",
    "y_gridflat = np.ravel(y_grid)\n",
    "\n",
    "# The last layer of the current model takes two columns as input. Hence transpose of np.vstack() is required.\n",
    "X = np.vstack((x_gridflat, y_gridflat)).T\n",
    "\n",
    "prob_contour = model_prob(X).reshape(100,100) "
   ]
  },
  {
   "cell_type": "code",
   "execution_count": 29,
   "id": "da72499a",
   "metadata": {
    "execution": {
     "iopub.execute_input": "2022-11-11T00:47:44.247112Z",
     "iopub.status.busy": "2022-11-11T00:47:44.246417Z",
     "iopub.status.idle": "2022-11-11T00:47:44.542470Z",
     "shell.execute_reply": "2022-11-11T00:47:44.542999Z"
    },
    "papermill": {
     "duration": 0.357933,
     "end_time": "2022-11-11T00:47:44.543156",
     "exception": false,
     "start_time": "2022-11-11T00:47:44.185223",
     "status": "completed"
    },
    "tags": []
   },
   "outputs": [
    {
     "data": {
      "image/png": "[encoded data removed]",
      "text/plain": [
       "<Figure size 720x648 with 1 Axes>"
      ]
     },
     "metadata": {
      "needs_background": "light"
     },
     "output_type": "display_data"
    }
   ],
   "source": [
    "plt.figure(figsize=(10,9))\n",
    "plt.scatter(testing_plot[:,0], testing_plot[:,1], alpha = 0.1, c = y_test.ravel())\n",
    "contours = plt.contour(x_grid,y_grid,prob_contour)\n",
    "plt.title('Probability Contours')\n",
    "plt.clabel(contours, inline = True );"
   ]
  },
  {
   "cell_type": "code",
   "execution_count": null,
   "id": "e81b4ac7",
   "metadata": {
    "papermill": {
     "duration": 0.053661,
     "end_time": "2022-11-11T00:47:44.651366",
     "exception": false,
     "start_time": "2022-11-11T00:47:44.597705",
     "status": "completed"
    },
    "tags": []
   },
   "outputs": [],
   "source": []
  }
 ],
 "metadata": {
  "kernelspec": {
   "display_name": "Python 3",
   "language": "python",
   "name": "python3"
  },
  "language_info": {
   "codemirror_mode": {
    "name": "ipython",
    "version": 3
   },
   "file_extension": ".py",
   "mimetype": "text/x-python",
   "name": "python",
   "nbconvert_exporter": "python",
   "pygments_lexer": "ipython3",
   "version": "3.6.15"
  },
  "papermill": {
   "default_parameters": {},
   "duration": 118.319084,
   "end_time": "2022-11-11T00:47:45.125268",
   "environment_variables": {},
   "exception": null,
   "input_path": "2020-08-11-part2.ipynb",
   "output_path": "2020-08-11-part2.ipynb",
   "parameters": {},
   "start_time": "2022-11-11T00:45:46.806184",
   "version": "2.3.3"
  }
 },
 "nbformat": 4,
 "nbformat_minor": 5
}