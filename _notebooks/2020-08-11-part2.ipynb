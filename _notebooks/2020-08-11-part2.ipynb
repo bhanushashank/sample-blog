{
 "cells": [
  {
   "cell_type": "markdown",
   "id": "98380cd3",
   "metadata": {
    "papermill": {
     "duration": 0.029617,
     "end_time": "2022-08-18T00:44:03.225420",
     "exception": false,
     "start_time": "2022-08-18T00:44:03.195803",
     "status": "completed"
    },
    "tags": []
   },
   "source": [
    "# Distinguish Your Own Digits (DYOD)"
   ]
  },
  {
   "cell_type": "markdown",
   "id": "ef31240d",
   "metadata": {
    "papermill": {
     "duration": 0.023799,
     "end_time": "2022-08-18T00:44:03.273642",
     "exception": false,
     "start_time": "2022-08-18T00:44:03.249843",
     "status": "completed"
    },
    "tags": []
   },
   "source": [
    "You are going to write a classifier that distinguishes between the number 3 and number 8."
   ]
  },
  {
   "cell_type": "code",
   "execution_count": 1,
   "id": "b15c8646",
   "metadata": {
    "execution": {
     "iopub.execute_input": "2022-08-18T00:44:03.331452Z",
     "iopub.status.busy": "2022-08-18T00:44:03.329420Z",
     "iopub.status.idle": "2022-08-18T00:44:03.342099Z",
     "shell.execute_reply": "2022-08-18T00:44:03.341520Z"
    },
    "papermill": {
     "duration": 0.044506,
     "end_time": "2022-08-18T00:44:03.342226",
     "exception": false,
     "start_time": "2022-08-18T00:44:03.297720",
     "status": "completed"
    },
    "tags": []
   },
   "outputs": [],
   "source": [
    "%load_ext autoreload\n",
    "%autoreload 2"
   ]
  },
  {
   "cell_type": "code",
   "execution_count": 2,
   "id": "22ef38dc",
   "metadata": {
    "execution": {
     "iopub.execute_input": "2022-08-18T00:44:03.393955Z",
     "iopub.status.busy": "2022-08-18T00:44:03.393384Z",
     "iopub.status.idle": "2022-08-18T00:44:03.916329Z",
     "shell.execute_reply": "2022-08-18T00:44:03.916787Z"
    },
    "papermill": {
     "duration": 0.550867,
     "end_time": "2022-08-18T00:44:03.916935",
     "exception": false,
     "start_time": "2022-08-18T00:44:03.366068",
     "status": "completed"
    },
    "tags": []
   },
   "outputs": [],
   "source": [
    "%matplotlib inline\n",
    "import numpy as np\n",
    "import matplotlib.pyplot as plt\n",
    "import pandas as pd"
   ]
  },
  {
   "cell_type": "markdown",
   "id": "ba036198",
   "metadata": {
    "papermill": {
     "duration": 0.023867,
     "end_time": "2022-08-18T00:44:03.964621",
     "exception": false,
     "start_time": "2022-08-18T00:44:03.940754",
     "status": "completed"
    },
    "tags": []
   },
   "source": [
    "From the command line run `pip install mnist`. This is a library that will help you bring down the mnist dataset. If you run this from a notebook, you need to put  `!pip install mnist` in a cell by itself."
   ]
  },
  {
   "cell_type": "code",
   "execution_count": 3,
   "id": "bb6ad8a1",
   "metadata": {
    "execution": {
     "iopub.execute_input": "2022-08-18T00:44:04.028242Z",
     "iopub.status.busy": "2022-08-18T00:44:04.024251Z",
     "iopub.status.idle": "2022-08-18T00:44:06.572916Z",
     "shell.execute_reply": "2022-08-18T00:44:06.572411Z"
    },
    "papermill": {
     "duration": 2.58451,
     "end_time": "2022-08-18T00:44:06.573040",
     "exception": false,
     "start_time": "2022-08-18T00:44:03.988530",
     "status": "completed"
    },
    "tags": []
   },
   "outputs": [
    {
     "name": "stdout",
     "output_type": "stream",
     "text": [
      "Collecting mnist\r\n"
     ]
    },
    {
     "name": "stdout",
     "output_type": "stream",
     "text": [
      "  Downloading mnist-0.2.2-py2.py3-none-any.whl (3.5 kB)\r\n",
      "Requirement already satisfied: numpy in /opt/hostedtoolcache/Python/3.6.15/x64/lib/python3.6/site-packages (from mnist) (1.19.5)\r\n"
     ]
    },
    {
     "name": "stdout",
     "output_type": "stream",
     "text": [
      "Installing collected packages: mnist\r\n",
      "Successfully installed mnist-0.2.2\r\n"
     ]
    }
   ],
   "source": [
    "!pip install mnist"
   ]
  },
  {
   "cell_type": "markdown",
   "id": "69df9c9a",
   "metadata": {
    "papermill": {
     "duration": 0.024616,
     "end_time": "2022-08-18T00:44:06.622520",
     "exception": false,
     "start_time": "2022-08-18T00:44:06.597904",
     "status": "completed"
    },
    "tags": []
   },
   "source": [
    "## Preparing the Data"
   ]
  },
  {
   "cell_type": "code",
   "execution_count": 4,
   "id": "7f69d806",
   "metadata": {
    "execution": {
     "iopub.execute_input": "2022-08-18T00:44:06.686013Z",
     "iopub.status.busy": "2022-08-18T00:44:06.674766Z",
     "iopub.status.idle": "2022-08-18T00:44:06.692696Z",
     "shell.execute_reply": "2022-08-18T00:44:06.692215Z"
    },
    "papermill": {
     "duration": 0.045809,
     "end_time": "2022-08-18T00:44:06.692807",
     "exception": false,
     "start_time": "2022-08-18T00:44:06.646998",
     "status": "completed"
    },
    "tags": []
   },
   "outputs": [],
   "source": [
    "import mnist"
   ]
  },
  {
   "cell_type": "code",
   "execution_count": 5,
   "id": "a411e44f",
   "metadata": {
    "execution": {
     "iopub.execute_input": "2022-08-18T00:44:06.760423Z",
     "iopub.status.busy": "2022-08-18T00:44:06.756145Z",
     "iopub.status.idle": "2022-08-18T00:44:07.412549Z",
     "shell.execute_reply": "2022-08-18T00:44:07.412030Z"
    },
    "papermill": {
     "duration": 0.695261,
     "end_time": "2022-08-18T00:44:07.412665",
     "exception": false,
     "start_time": "2022-08-18T00:44:06.717404",
     "status": "completed"
    },
    "tags": []
   },
   "outputs": [],
   "source": [
    "train_images = mnist.train_images()\n",
    "train_labels = mnist.train_labels()"
   ]
  },
  {
   "cell_type": "code",
   "execution_count": 6,
   "id": "dceab3a5",
   "metadata": {
    "execution": {
     "iopub.execute_input": "2022-08-18T00:44:07.466383Z",
     "iopub.status.busy": "2022-08-18T00:44:07.459700Z",
     "iopub.status.idle": "2022-08-18T00:44:07.478756Z",
     "shell.execute_reply": "2022-08-18T00:44:07.478049Z"
    },
    "papermill": {
     "duration": 0.044071,
     "end_time": "2022-08-18T00:44:07.478862",
     "exception": false,
     "start_time": "2022-08-18T00:44:07.434791",
     "status": "completed"
    },
    "tags": []
   },
   "outputs": [
    {
     "data": {
      "text/plain": [
       "((60000, 28, 28), (60000,))"
      ]
     },
     "execution_count": 6,
     "metadata": {},
     "output_type": "execute_result"
    }
   ],
   "source": [
    "train_images.shape, train_labels.shape"
   ]
  },
  {
   "cell_type": "code",
   "execution_count": 7,
   "id": "f50dc2bb",
   "metadata": {
    "execution": {
     "iopub.execute_input": "2022-08-18T00:44:07.526149Z",
     "iopub.status.busy": "2022-08-18T00:44:07.525628Z",
     "iopub.status.idle": "2022-08-18T00:44:07.723776Z",
     "shell.execute_reply": "2022-08-18T00:44:07.723105Z"
    },
    "papermill": {
     "duration": 0.223045,
     "end_time": "2022-08-18T00:44:07.723916",
     "exception": false,
     "start_time": "2022-08-18T00:44:07.500871",
     "status": "completed"
    },
    "tags": []
   },
   "outputs": [],
   "source": [
    "test_images = mnist.test_images()\n",
    "test_labels = mnist.test_labels()"
   ]
  },
  {
   "cell_type": "code",
   "execution_count": 8,
   "id": "fc38cf1b",
   "metadata": {
    "execution": {
     "iopub.execute_input": "2022-08-18T00:44:07.772443Z",
     "iopub.status.busy": "2022-08-18T00:44:07.771673Z",
     "iopub.status.idle": "2022-08-18T00:44:07.785610Z",
     "shell.execute_reply": "2022-08-18T00:44:07.786106Z"
    },
    "papermill": {
     "duration": 0.038907,
     "end_time": "2022-08-18T00:44:07.786220",
     "exception": false,
     "start_time": "2022-08-18T00:44:07.747313",
     "status": "completed"
    },
    "tags": []
   },
   "outputs": [
    {
     "data": {
      "text/plain": [
       "((10000, 28, 28), (10000,))"
      ]
     },
     "execution_count": 8,
     "metadata": {},
     "output_type": "execute_result"
    }
   ],
   "source": [
    "test_images.shape, test_labels.shape"
   ]
  },
  {
   "cell_type": "code",
   "execution_count": 9,
   "id": "f9ed8fe0",
   "metadata": {
    "execution": {
     "iopub.execute_input": "2022-08-18T00:44:07.834463Z",
     "iopub.status.busy": "2022-08-18T00:44:07.833945Z",
     "iopub.status.idle": "2022-08-18T00:44:07.974400Z",
     "shell.execute_reply": "2022-08-18T00:44:07.973969Z"
    },
    "papermill": {
     "duration": 0.166013,
     "end_time": "2022-08-18T00:44:07.974515",
     "exception": false,
     "start_time": "2022-08-18T00:44:07.808502",
     "status": "completed"
    },
    "tags": []
   },
   "outputs": [
    {
     "name": "stdout",
     "output_type": "stream",
     "text": [
      "2\n"
     ]
    },
    {
     "data": {
      "text/plain": [
       "<matplotlib.image.AxesImage at 0x7f4413d029e8>"
      ]
     },
     "execution_count": 9,
     "metadata": {},
     "output_type": "execute_result"
    },
    {
     "data": {
      "image/png": "[encoded data removed]",
      "text/plain": [
       "<Figure size 432x288 with 1 Axes>"
      ]
     },
     "metadata": {
      "needs_background": "light"
     },
     "output_type": "display_data"
    }
   ],
   "source": [
    "image_index = 7776 # You may select anything up to 60,000\n",
    "print(train_labels[image_index]) \n",
    "plt.imshow(train_images[image_index], cmap='Greys')"
   ]
  },
  {
   "cell_type": "markdown",
   "id": "a8d2388d",
   "metadata": {
    "papermill": {
     "duration": 0.023458,
     "end_time": "2022-08-18T00:44:08.021390",
     "exception": false,
     "start_time": "2022-08-18T00:44:07.997932",
     "status": "completed"
    },
    "tags": []
   },
   "source": [
    "## Filter data to get 3 and 8 out"
   ]
  },
  {
   "cell_type": "code",
   "execution_count": 10,
   "id": "776f7fc7",
   "metadata": {
    "execution": {
     "iopub.execute_input": "2022-08-18T00:44:08.071944Z",
     "iopub.status.busy": "2022-08-18T00:44:08.071377Z",
     "iopub.status.idle": "2022-08-18T00:44:08.089562Z",
     "shell.execute_reply": "2022-08-18T00:44:08.090071Z"
    },
    "papermill": {
     "duration": 0.045739,
     "end_time": "2022-08-18T00:44:08.090194",
     "exception": false,
     "start_time": "2022-08-18T00:44:08.044455",
     "status": "completed"
    },
    "tags": []
   },
   "outputs": [],
   "source": [
    "train_filter = np.where((train_labels == 3 ) | (train_labels == 8))\n",
    "test_filter = np.where((test_labels == 3) | (test_labels == 8))\n",
    "X_train, y_train = train_images[train_filter], train_labels[train_filter]\n",
    "X_test, y_test = test_images[test_filter], test_labels[test_filter]"
   ]
  },
  {
   "cell_type": "markdown",
   "id": "948f0b7e",
   "metadata": {
    "papermill": {
     "duration": 0.02314,
     "end_time": "2022-08-18T00:44:08.136673",
     "exception": false,
     "start_time": "2022-08-18T00:44:08.113533",
     "status": "completed"
    },
    "tags": []
   },
   "source": [
    "We normalize the pizel values in the 0 to 1 range"
   ]
  },
  {
   "cell_type": "code",
   "execution_count": 11,
   "id": "ee4c2166",
   "metadata": {
    "execution": {
     "iopub.execute_input": "2022-08-18T00:44:08.186633Z",
     "iopub.status.busy": "2022-08-18T00:44:08.186107Z",
     "iopub.status.idle": "2022-08-18T00:44:08.233490Z",
     "shell.execute_reply": "2022-08-18T00:44:08.232917Z"
    },
    "papermill": {
     "duration": 0.073888,
     "end_time": "2022-08-18T00:44:08.233624",
     "exception": false,
     "start_time": "2022-08-18T00:44:08.159736",
     "status": "completed"
    },
    "tags": []
   },
   "outputs": [],
   "source": [
    "X_train = X_train/255.\n",
    "X_test = X_test/255."
   ]
  },
  {
   "cell_type": "markdown",
   "id": "ddcf4fab",
   "metadata": {
    "papermill": {
     "duration": 0.023251,
     "end_time": "2022-08-18T00:44:08.280960",
     "exception": false,
     "start_time": "2022-08-18T00:44:08.257709",
     "status": "completed"
    },
    "tags": []
   },
   "source": [
    "And setup the labels as 1 (when the digit is 3) and 0 (when the digit is 8)"
   ]
  },
  {
   "cell_type": "code",
   "execution_count": 12,
   "id": "7dc908f2",
   "metadata": {
    "execution": {
     "iopub.execute_input": "2022-08-18T00:44:08.330958Z",
     "iopub.status.busy": "2022-08-18T00:44:08.330437Z",
     "iopub.status.idle": "2022-08-18T00:44:08.343866Z",
     "shell.execute_reply": "2022-08-18T00:44:08.343398Z"
    },
    "papermill": {
     "duration": 0.039886,
     "end_time": "2022-08-18T00:44:08.343961",
     "exception": false,
     "start_time": "2022-08-18T00:44:08.304075",
     "status": "completed"
    },
    "tags": []
   },
   "outputs": [],
   "source": [
    "y_train = 1*(y_train==3)\n",
    "y_test = 1*(y_test==3)"
   ]
  },
  {
   "cell_type": "code",
   "execution_count": 13,
   "id": "01e4e969",
   "metadata": {
    "execution": {
     "iopub.execute_input": "2022-08-18T00:44:08.396862Z",
     "iopub.status.busy": "2022-08-18T00:44:08.396214Z",
     "iopub.status.idle": "2022-08-18T00:44:08.404889Z",
     "shell.execute_reply": "2022-08-18T00:44:08.404421Z"
    },
    "papermill": {
     "duration": 0.038008,
     "end_time": "2022-08-18T00:44:08.404995",
     "exception": false,
     "start_time": "2022-08-18T00:44:08.366987",
     "status": "completed"
    },
    "tags": []
   },
   "outputs": [
    {
     "data": {
      "text/plain": [
       "((11982, 28, 28), (1984, 28, 28))"
      ]
     },
     "execution_count": 13,
     "metadata": {},
     "output_type": "execute_result"
    }
   ],
   "source": [
    "X_train.shape, X_test.shape"
   ]
  },
  {
   "cell_type": "markdown",
   "id": "5ccf3f85",
   "metadata": {
    "papermill": {
     "duration": 0.026527,
     "end_time": "2022-08-18T00:44:08.458067",
     "exception": false,
     "start_time": "2022-08-18T00:44:08.431540",
     "status": "completed"
    },
    "tags": []
   },
   "source": [
    "We reshape the data to flatten the image pixels into a set of features or co-variates:"
   ]
  },
  {
   "cell_type": "code",
   "execution_count": 14,
   "id": "5286a4a3",
   "metadata": {
    "execution": {
     "iopub.execute_input": "2022-08-18T00:44:08.515531Z",
     "iopub.status.busy": "2022-08-18T00:44:08.514922Z",
     "iopub.status.idle": "2022-08-18T00:44:08.529433Z",
     "shell.execute_reply": "2022-08-18T00:44:08.528865Z"
    },
    "papermill": {
     "duration": 0.044804,
     "end_time": "2022-08-18T00:44:08.529550",
     "exception": false,
     "start_time": "2022-08-18T00:44:08.484746",
     "status": "completed"
    },
    "tags": []
   },
   "outputs": [
    {
     "data": {
      "text/plain": [
       "((11982, 784), (1984, 784))"
      ]
     },
     "execution_count": 14,
     "metadata": {},
     "output_type": "execute_result"
    }
   ],
   "source": [
    "X_train = X_train.reshape(X_train.shape[0], -1)\n",
    "X_test = X_test.reshape(X_test.shape[0], -1)\n",
    "X_train.shape, X_test.shape"
   ]
  },
  {
   "cell_type": "code",
   "execution_count": 15,
   "id": "73c5f88a",
   "metadata": {
    "execution": {
     "iopub.execute_input": "2022-08-18T00:44:08.588683Z",
     "iopub.status.busy": "2022-08-18T00:44:08.588106Z",
     "iopub.status.idle": "2022-08-18T00:44:08.605428Z",
     "shell.execute_reply": "2022-08-18T00:44:08.604952Z"
    },
    "papermill": {
     "duration": 0.048908,
     "end_time": "2022-08-18T00:44:08.605535",
     "exception": false,
     "start_time": "2022-08-18T00:44:08.556627",
     "status": "completed"
    },
    "tags": []
   },
   "outputs": [],
   "source": [
    "#Impoting functions from 'Kudzu'\n",
    "from kudzu.model import Model\n",
    "from kudzu.train import Learner\n",
    "from kudzu.optim import GD\n",
    "from kudzu.data import Data, Sampler,Dataloader\n",
    "\n",
    "from kudzu.callbacks import AccCallback\n",
    "from kudzu.callbacks import ClfCallback\n",
    "\n",
    "from kudzu.loss import MSE\n",
    "\n",
    "from kudzu.layer import Sigmoid,Relu\n",
    "from kudzu.layer import Affine"
   ]
  },
  {
   "cell_type": "markdown",
   "id": "bc01172a",
   "metadata": {
    "papermill": {
     "duration": 0.026639,
     "end_time": "2022-08-18T00:44:08.658948",
     "exception": false,
     "start_time": "2022-08-18T00:44:08.632309",
     "status": "completed"
    },
    "tags": []
   },
   "source": [
    "### Let us create a `Config` class, to store important parameters. \n",
    "This class essentially plays the role of a dictionary."
   ]
  },
  {
   "cell_type": "code",
   "execution_count": 16,
   "id": "978281aa",
   "metadata": {
    "execution": {
     "iopub.execute_input": "2022-08-18T00:44:08.716373Z",
     "iopub.status.busy": "2022-08-18T00:44:08.715782Z",
     "iopub.status.idle": "2022-08-18T00:44:08.727027Z",
     "shell.execute_reply": "2022-08-18T00:44:08.726554Z"
    },
    "papermill": {
     "duration": 0.04156,
     "end_time": "2022-08-18T00:44:08.727133",
     "exception": false,
     "start_time": "2022-08-18T00:44:08.685573",
     "status": "completed"
    },
    "tags": []
   },
   "outputs": [],
   "source": [
    "class Config:\n",
    "    pass\n",
    "config = Config()\n",
    "config.lr = 0.001\n",
    "config.num_epochs = 250\n",
    "config.bs = 50"
   ]
  },
  {
   "cell_type": "markdown",
   "id": "1385fa59",
   "metadata": {
    "papermill": {
     "duration": 0.026606,
     "end_time": "2022-08-18T00:44:08.780579",
     "exception": false,
     "start_time": "2022-08-18T00:44:08.753973",
     "status": "completed"
    },
    "tags": []
   },
   "source": [
    "### Running Models with the Training data\n",
    "Details about the network layers:\n",
    "- A first affine layer has 784 inputs and does 100 affine transforms. These are followed by a Relu\n",
    "- A second affine layer has 100 inputs from the 100 activations of the past layer, and does 100 affine transforms. These are followed by a Relu\n",
    "- A third affine layer has 100 activations and does 2 affine transformations to create an embedding for visualization. There is no non-linearity here.\n",
    "- A final \"logistic regression\" which has an affine transform from 2 inputs to 1 output, which is squeezed through a sigmoid.\n"
   ]
  },
  {
   "cell_type": "code",
   "execution_count": 17,
   "id": "2b9c66db",
   "metadata": {
    "execution": {
     "iopub.execute_input": "2022-08-18T00:44:08.838331Z",
     "iopub.status.busy": "2022-08-18T00:44:08.837751Z",
     "iopub.status.idle": "2022-08-18T00:44:08.849648Z",
     "shell.execute_reply": "2022-08-18T00:44:08.849173Z"
    },
    "papermill": {
     "duration": 0.042532,
     "end_time": "2022-08-18T00:44:08.849757",
     "exception": false,
     "start_time": "2022-08-18T00:44:08.807225",
     "status": "completed"
    },
    "tags": []
   },
   "outputs": [],
   "source": [
    "data = Data(X_train, y_train.reshape(-1,1))\n",
    "sampler = Sampler(data, config.bs, shuffle=True)\n",
    "\n",
    "dl = Dataloader(data, sampler)\n",
    "\n",
    "opt = GD(config.lr)\n",
    "loss = MSE()"
   ]
  },
  {
   "cell_type": "code",
   "execution_count": 18,
   "id": "b275e4c2",
   "metadata": {
    "execution": {
     "iopub.execute_input": "2022-08-18T00:44:08.906720Z",
     "iopub.status.busy": "2022-08-18T00:44:08.906150Z",
     "iopub.status.idle": "2022-08-18T00:44:08.918880Z",
     "shell.execute_reply": "2022-08-18T00:44:08.918314Z"
    },
    "papermill": {
     "duration": 0.04254,
     "end_time": "2022-08-18T00:44:08.918987",
     "exception": false,
     "start_time": "2022-08-18T00:44:08.876447",
     "status": "completed"
    },
    "tags": []
   },
   "outputs": [],
   "source": [
    "training_data_x = X_train\n",
    "testing_data_x = X_test\n",
    "training_data_y = y_train.reshape(-1,1)\n",
    "testing_data_y = y_test.reshape(-1,1)"
   ]
  },
  {
   "cell_type": "code",
   "execution_count": 19,
   "id": "76951160",
   "metadata": {
    "execution": {
     "iopub.execute_input": "2022-08-18T00:44:08.976287Z",
     "iopub.status.busy": "2022-08-18T00:44:08.975694Z",
     "iopub.status.idle": "2022-08-18T00:44:08.991692Z",
     "shell.execute_reply": "2022-08-18T00:44:08.991201Z"
    },
    "papermill": {
     "duration": 0.046244,
     "end_time": "2022-08-18T00:44:08.991799",
     "exception": false,
     "start_time": "2022-08-18T00:44:08.945555",
     "status": "completed"
    },
    "tags": []
   },
   "outputs": [
    {
     "name": "stdout",
     "output_type": "stream",
     "text": [
      "xavier\n",
      "xavier\n",
      "xavier\n",
      "xavier\n",
      "xavier\n"
     ]
    }
   ],
   "source": [
    "layers = [Affine(\"first\", 784, 100), Relu(\"first\"), Affine(\"second\", 100, 100), Relu(\"second\"), Affine(\"third\", 100, 2), Affine(\"last\", 2, 1), Sigmoid(\"last\")]\n",
    "model_nn = Model(layers)\n",
    "model_lr = Model([Affine(\"logits\", 784, 1), Sigmoid(\"sigmoid\")])"
   ]
  },
  {
   "cell_type": "code",
   "execution_count": 20,
   "id": "6eede77a",
   "metadata": {
    "execution": {
     "iopub.execute_input": "2022-08-18T00:44:09.049694Z",
     "iopub.status.busy": "2022-08-18T00:44:09.049118Z",
     "iopub.status.idle": "2022-08-18T00:44:09.060914Z",
     "shell.execute_reply": "2022-08-18T00:44:09.060446Z"
    },
    "papermill": {
     "duration": 0.042233,
     "end_time": "2022-08-18T00:44:09.061021",
     "exception": false,
     "start_time": "2022-08-18T00:44:09.018788",
     "status": "completed"
    },
    "tags": []
   },
   "outputs": [],
   "source": [
    "nn_learner = Learner(loss, model_nn, opt, config.num_epochs)\n",
    "acc_nn = ClfCallback(nn_learner, config.bs, training_data_x , testing_data_x, training_data_y, testing_data_y)\n",
    "nn_learner.set_callbacks([acc_nn])"
   ]
  },
  {
   "cell_type": "code",
   "execution_count": 21,
   "id": "877b6cc7",
   "metadata": {
    "execution": {
     "iopub.execute_input": "2022-08-18T00:44:09.128348Z",
     "iopub.status.busy": "2022-08-18T00:44:09.124146Z",
     "iopub.status.idle": "2022-08-18T00:44:09.133434Z",
     "shell.execute_reply": "2022-08-18T00:44:09.132961Z"
    },
    "papermill": {
     "duration": 0.045534,
     "end_time": "2022-08-18T00:44:09.133540",
     "exception": false,
     "start_time": "2022-08-18T00:44:09.088006",
     "status": "completed"
    },
    "tags": []
   },
   "outputs": [],
   "source": [
    "lr_learner = Learner(loss, model_lr, opt, config.num_epochs)\n",
    "acc_lr = ClfCallback(lr_learner, config.bs, training_data_x , testing_data_x, training_data_y, testing_data_y)\n",
    "lr_learner.set_callbacks([acc_lr])"
   ]
  },
  {
   "cell_type": "code",
   "execution_count": 22,
   "id": "d9b133c3",
   "metadata": {
    "execution": {
     "iopub.execute_input": "2022-08-18T00:44:09.195487Z",
     "iopub.status.busy": "2022-08-18T00:44:09.190575Z",
     "iopub.status.idle": "2022-08-18T00:45:21.668208Z",
     "shell.execute_reply": "2022-08-18T00:45:21.668997Z"
    },
    "papermill": {
     "duration": 72.508608,
     "end_time": "2022-08-18T00:45:21.669139",
     "exception": false,
     "start_time": "2022-08-18T00:44:09.160531",
     "status": "completed"
    },
    "tags": []
   },
   "outputs": [
    {
     "name": "stdout",
     "output_type": "stream",
     "text": [
      "Epoch 0, Loss 0.2324\n",
      "Training Accuracy: 0.7308, Testing Accuracy: 0.7334\n",
      "\n"
     ]
    },
    {
     "name": "stdout",
     "output_type": "stream",
     "text": [
      "Epoch 10, Loss 0.0838\n",
      "Training Accuracy: 0.9304, Testing Accuracy: 0.9430\n",
      "\n"
     ]
    },
    {
     "name": "stdout",
     "output_type": "stream",
     "text": [
      "Epoch 20, Loss 0.0534\n",
      "Training Accuracy: 0.9454, Testing Accuracy: 0.9516\n",
      "\n"
     ]
    },
    {
     "name": "stdout",
     "output_type": "stream",
     "text": [
      "Epoch 30, Loss 0.0431\n",
      "Training Accuracy: 0.9530, Testing Accuracy: 0.9582\n",
      "\n"
     ]
    },
    {
     "name": "stdout",
     "output_type": "stream",
     "text": [
      "Epoch 40, Loss 0.0377\n",
      "Training Accuracy: 0.9576, Testing Accuracy: 0.9622\n",
      "\n"
     ]
    },
    {
     "name": "stdout",
     "output_type": "stream",
     "text": [
      "Epoch 50, Loss 0.0343\n",
      "Training Accuracy: 0.9604, Testing Accuracy: 0.9647\n",
      "\n"
     ]
    },
    {
     "name": "stdout",
     "output_type": "stream",
     "text": [
      "Epoch 60, Loss 0.0319\n",
      "Training Accuracy: 0.9627, Testing Accuracy: 0.9667\n",
      "\n"
     ]
    },
    {
     "name": "stdout",
     "output_type": "stream",
     "text": [
      "Epoch 70, Loss 0.0301\n",
      "Training Accuracy: 0.9646, Testing Accuracy: 0.9677\n",
      "\n"
     ]
    },
    {
     "name": "stdout",
     "output_type": "stream",
     "text": [
      "Epoch 80, Loss 0.0286\n",
      "Training Accuracy: 0.9670, Testing Accuracy: 0.9688\n",
      "\n"
     ]
    },
    {
     "name": "stdout",
     "output_type": "stream",
     "text": [
      "Epoch 90, Loss 0.0274\n",
      "Training Accuracy: 0.9685, Testing Accuracy: 0.9708\n",
      "\n"
     ]
    },
    {
     "name": "stdout",
     "output_type": "stream",
     "text": [
      "Epoch 100, Loss 0.0264\n",
      "Training Accuracy: 0.9692, Testing Accuracy: 0.9718\n",
      "\n"
     ]
    },
    {
     "name": "stdout",
     "output_type": "stream",
     "text": [
      "Epoch 110, Loss 0.0254\n",
      "Training Accuracy: 0.9699, Testing Accuracy: 0.9728\n",
      "\n"
     ]
    },
    {
     "name": "stdout",
     "output_type": "stream",
     "text": [
      "Epoch 120, Loss 0.0246\n",
      "Training Accuracy: 0.9706, Testing Accuracy: 0.9733\n",
      "\n"
     ]
    },
    {
     "name": "stdout",
     "output_type": "stream",
     "text": [
      "Epoch 130, Loss 0.0239\n",
      "Training Accuracy: 0.9722, Testing Accuracy: 0.9738\n",
      "\n"
     ]
    },
    {
     "name": "stdout",
     "output_type": "stream",
     "text": [
      "Epoch 140, Loss 0.0232\n",
      "Training Accuracy: 0.9731, Testing Accuracy: 0.9743\n",
      "\n"
     ]
    },
    {
     "name": "stdout",
     "output_type": "stream",
     "text": [
      "Epoch 150, Loss 0.0226\n",
      "Training Accuracy: 0.9739, Testing Accuracy: 0.9743\n",
      "\n"
     ]
    },
    {
     "name": "stdout",
     "output_type": "stream",
     "text": [
      "Epoch 160, Loss 0.022\n",
      "Training Accuracy: 0.9747, Testing Accuracy: 0.9743\n",
      "\n"
     ]
    },
    {
     "name": "stdout",
     "output_type": "stream",
     "text": [
      "Epoch 170, Loss 0.0215\n",
      "Training Accuracy: 0.9747, Testing Accuracy: 0.9748\n",
      "\n"
     ]
    },
    {
     "name": "stdout",
     "output_type": "stream",
     "text": [
      "Epoch 180, Loss 0.021\n",
      "Training Accuracy: 0.9757, Testing Accuracy: 0.9753\n",
      "\n"
     ]
    },
    {
     "name": "stdout",
     "output_type": "stream",
     "text": [
      "Epoch 190, Loss 0.0205\n",
      "Training Accuracy: 0.9763, Testing Accuracy: 0.9758\n",
      "\n"
     ]
    },
    {
     "name": "stdout",
     "output_type": "stream",
     "text": [
      "Epoch 200, Loss 0.02\n",
      "Training Accuracy: 0.9772, Testing Accuracy: 0.9758\n",
      "\n"
     ]
    },
    {
     "name": "stdout",
     "output_type": "stream",
     "text": [
      "Epoch 210, Loss 0.0196\n",
      "Training Accuracy: 0.9778, Testing Accuracy: 0.9758\n",
      "\n"
     ]
    },
    {
     "name": "stdout",
     "output_type": "stream",
     "text": [
      "Epoch 220, Loss 0.0192\n",
      "Training Accuracy: 0.9782, Testing Accuracy: 0.9753\n",
      "\n"
     ]
    },
    {
     "name": "stdout",
     "output_type": "stream",
     "text": [
      "Epoch 230, Loss 0.0188\n",
      "Training Accuracy: 0.9789, Testing Accuracy: 0.9753\n",
      "\n"
     ]
    },
    {
     "name": "stdout",
     "output_type": "stream",
     "text": [
      "Epoch 240, Loss 0.0184\n",
      "Training Accuracy: 0.9794, Testing Accuracy: 0.9753\n",
      "\n"
     ]
    },
    {
     "data": {
      "text/plain": [
       "0.054244515452594934"
      ]
     },
     "execution_count": 22,
     "metadata": {},
     "output_type": "execute_result"
    }
   ],
   "source": [
    "nn_learner.train_loop(dl)"
   ]
  },
  {
   "cell_type": "code",
   "execution_count": 23,
   "id": "e0163366",
   "metadata": {
    "execution": {
     "iopub.execute_input": "2022-08-18T00:45:21.740835Z",
     "iopub.status.busy": "2022-08-18T00:45:21.740299Z",
     "iopub.status.idle": "2022-08-18T00:45:34.874781Z",
     "shell.execute_reply": "2022-08-18T00:45:34.875567Z"
    },
    "papermill": {
     "duration": 13.175955,
     "end_time": "2022-08-18T00:45:34.875709",
     "exception": false,
     "start_time": "2022-08-18T00:45:21.699754",
     "status": "completed"
    },
    "tags": []
   },
   "outputs": [
    {
     "name": "stdout",
     "output_type": "stream",
     "text": [
      "Epoch 0, Loss 0.3127\n",
      "Training Accuracy: 0.3991, Testing Accuracy: 0.3821\n",
      "\n"
     ]
    },
    {
     "name": "stdout",
     "output_type": "stream",
     "text": [
      "Epoch 10, Loss 0.1093\n",
      "Training Accuracy: 0.9095, Testing Accuracy: 0.9173\n",
      "\n"
     ]
    },
    {
     "name": "stdout",
     "output_type": "stream",
     "text": [
      "Epoch 20, Loss 0.0818\n",
      "Training Accuracy: 0.9266, Testing Accuracy: 0.9355\n",
      "\n"
     ]
    },
    {
     "name": "stdout",
     "output_type": "stream",
     "text": [
      "Epoch 30, Loss 0.0698\n",
      "Training Accuracy: 0.9347, Testing Accuracy: 0.9430\n",
      "\n"
     ]
    },
    {
     "name": "stdout",
     "output_type": "stream",
     "text": [
      "Epoch 40, Loss 0.0627\n",
      "Training Accuracy: 0.9402, Testing Accuracy: 0.9501\n",
      "\n"
     ]
    },
    {
     "name": "stdout",
     "output_type": "stream",
     "text": [
      "Epoch 50, Loss 0.058\n",
      "Training Accuracy: 0.9436, Testing Accuracy: 0.9551\n",
      "\n"
     ]
    },
    {
     "name": "stdout",
     "output_type": "stream",
     "text": [
      "Epoch 60, Loss 0.0545\n",
      "Training Accuracy: 0.9456, Testing Accuracy: 0.9572\n",
      "\n"
     ]
    },
    {
     "name": "stdout",
     "output_type": "stream",
     "text": [
      "Epoch 70, Loss 0.0518\n",
      "Training Accuracy: 0.9490, Testing Accuracy: 0.9612\n",
      "\n"
     ]
    },
    {
     "name": "stdout",
     "output_type": "stream",
     "text": [
      "Epoch 80, Loss 0.0497\n",
      "Training Accuracy: 0.9505, Testing Accuracy: 0.9622\n",
      "\n"
     ]
    },
    {
     "name": "stdout",
     "output_type": "stream",
     "text": [
      "Epoch 90, Loss 0.048\n",
      "Training Accuracy: 0.9518, Testing Accuracy: 0.9627\n",
      "\n"
     ]
    },
    {
     "name": "stdout",
     "output_type": "stream",
     "text": [
      "Epoch 100, Loss 0.0465\n",
      "Training Accuracy: 0.9523, Testing Accuracy: 0.9632\n",
      "\n"
     ]
    },
    {
     "name": "stdout",
     "output_type": "stream",
     "text": [
      "Epoch 110, Loss 0.0453\n",
      "Training Accuracy: 0.9531, Testing Accuracy: 0.9642\n",
      "\n"
     ]
    },
    {
     "name": "stdout",
     "output_type": "stream",
     "text": [
      "Epoch 120, Loss 0.0442\n",
      "Training Accuracy: 0.9538, Testing Accuracy: 0.9647\n",
      "\n"
     ]
    },
    {
     "name": "stdout",
     "output_type": "stream",
     "text": [
      "Epoch 130, Loss 0.0432\n",
      "Training Accuracy: 0.9543, Testing Accuracy: 0.9637\n",
      "\n"
     ]
    },
    {
     "name": "stdout",
     "output_type": "stream",
     "text": [
      "Epoch 140, Loss 0.0424\n",
      "Training Accuracy: 0.9551, Testing Accuracy: 0.9657\n",
      "\n"
     ]
    },
    {
     "name": "stdout",
     "output_type": "stream",
     "text": [
      "Epoch 150, Loss 0.0416\n",
      "Training Accuracy: 0.9556, Testing Accuracy: 0.9667\n",
      "\n"
     ]
    },
    {
     "name": "stdout",
     "output_type": "stream",
     "text": [
      "Epoch 160, Loss 0.0409\n",
      "Training Accuracy: 0.9563, Testing Accuracy: 0.9672\n",
      "\n"
     ]
    },
    {
     "name": "stdout",
     "output_type": "stream",
     "text": [
      "Epoch 170, Loss 0.0403\n",
      "Training Accuracy: 0.9569, Testing Accuracy: 0.9672\n",
      "\n"
     ]
    },
    {
     "name": "stdout",
     "output_type": "stream",
     "text": [
      "Epoch 180, Loss 0.0398\n",
      "Training Accuracy: 0.9573, Testing Accuracy: 0.9672\n",
      "\n"
     ]
    },
    {
     "name": "stdout",
     "output_type": "stream",
     "text": [
      "Epoch 190, Loss 0.0392\n",
      "Training Accuracy: 0.9574, Testing Accuracy: 0.9677\n",
      "\n"
     ]
    },
    {
     "name": "stdout",
     "output_type": "stream",
     "text": [
      "Epoch 200, Loss 0.0387\n",
      "Training Accuracy: 0.9580, Testing Accuracy: 0.9672\n",
      "\n"
     ]
    },
    {
     "name": "stdout",
     "output_type": "stream",
     "text": [
      "Epoch 210, Loss 0.0383\n",
      "Training Accuracy: 0.9588, Testing Accuracy: 0.9672\n",
      "\n"
     ]
    },
    {
     "name": "stdout",
     "output_type": "stream",
     "text": [
      "Epoch 220, Loss 0.0379\n",
      "Training Accuracy: 0.9592, Testing Accuracy: 0.9682\n",
      "\n"
     ]
    },
    {
     "name": "stdout",
     "output_type": "stream",
     "text": [
      "Epoch 230, Loss 0.0375\n",
      "Training Accuracy: 0.9596, Testing Accuracy: 0.9688\n",
      "\n"
     ]
    },
    {
     "name": "stdout",
     "output_type": "stream",
     "text": [
      "Epoch 240, Loss 0.0371\n",
      "Training Accuracy: 0.9598, Testing Accuracy: 0.9688\n",
      "\n"
     ]
    },
    {
     "data": {
      "text/plain": [
       "0.02616845392706995"
      ]
     },
     "execution_count": 23,
     "metadata": {},
     "output_type": "execute_result"
    }
   ],
   "source": [
    "lr_learner.train_loop(dl)"
   ]
  },
  {
   "cell_type": "code",
   "execution_count": 24,
   "id": "ca410940",
   "metadata": {
    "execution": {
     "iopub.execute_input": "2022-08-18T00:45:34.957456Z",
     "iopub.status.busy": "2022-08-18T00:45:34.956896Z",
     "iopub.status.idle": "2022-08-18T00:45:35.165139Z",
     "shell.execute_reply": "2022-08-18T00:45:35.164329Z"
    },
    "papermill": {
     "duration": 0.253319,
     "end_time": "2022-08-18T00:45:35.165262",
     "exception": false,
     "start_time": "2022-08-18T00:45:34.911943",
     "status": "completed"
    },
    "tags": []
   },
   "outputs": [
    {
     "data": {
      "text/plain": [
       "<matplotlib.legend.Legend at 0x7f4413863f98>"
      ]
     },
     "execution_count": 24,
     "metadata": {},
     "output_type": "execute_result"
    },
    {
     "data": {
      "image/png": "[encoded data removed]",
      "text/plain": [
       "<Figure size 1080x720 with 1 Axes>"
      ]
     },
     "metadata": {
      "needs_background": "light"
     },
     "output_type": "display_data"
    }
   ],
   "source": [
    "#comparing the results of NN and LR\n",
    "plt.figure(figsize=(15,10))\n",
    "\n",
    "# Neural Network plots\n",
    "plt.plot(acc_nn.accuracies, 'r-', label = \"Training Accuracies - NN\")\n",
    "plt.plot(acc_nn.test_accuracies, 'g-', label = \"Testing Accuracies - NN\")\n",
    "\n",
    "# Logistic Regression plots\n",
    "plt.plot(acc_lr.accuracies, 'k-', label = \"Training Accuracies - LR\")\n",
    "plt.plot(acc_lr.test_accuracies, 'b-', label = \"Testing Accuracies - LR\")\n",
    "plt.legend()"
   ]
  },
  {
   "cell_type": "markdown",
   "id": "80dfb35c",
   "metadata": {
    "papermill": {
     "duration": 0.036905,
     "end_time": "2022-08-18T00:45:35.239663",
     "exception": false,
     "start_time": "2022-08-18T00:45:35.202758",
     "status": "completed"
    },
    "tags": []
   },
   "source": [
    "#### Plotting the outputs of this layer of the NN.\n"
   ]
  },
  {
   "cell_type": "code",
   "execution_count": 25,
   "id": "45eb2ff5",
   "metadata": {
    "execution": {
     "iopub.execute_input": "2022-08-18T00:45:35.320803Z",
     "iopub.status.busy": "2022-08-18T00:45:35.320187Z",
     "iopub.status.idle": "2022-08-18T00:45:35.336343Z",
     "shell.execute_reply": "2022-08-18T00:45:35.335841Z"
    },
    "papermill": {
     "duration": 0.059832,
     "end_time": "2022-08-18T00:45:35.336466",
     "exception": false,
     "start_time": "2022-08-18T00:45:35.276634",
     "status": "completed"
    },
    "tags": []
   },
   "outputs": [],
   "source": [
    "new_model = Model(layers[:-2])\n",
    "testing_plot = new_model(testing_data_x)"
   ]
  },
  {
   "cell_type": "code",
   "execution_count": 26,
   "id": "4c0a5485",
   "metadata": {
    "execution": {
     "iopub.execute_input": "2022-08-18T00:45:35.428952Z",
     "iopub.status.busy": "2022-08-18T00:45:35.428359Z",
     "iopub.status.idle": "2022-08-18T00:45:35.593128Z",
     "shell.execute_reply": "2022-08-18T00:45:35.592678Z"
    },
    "papermill": {
     "duration": 0.214,
     "end_time": "2022-08-18T00:45:35.593240",
     "exception": false,
     "start_time": "2022-08-18T00:45:35.379240",
     "status": "completed"
    },
    "tags": []
   },
   "outputs": [
    {
     "data": {
      "text/plain": [
       "Text(0.5, 1.0, 'Outputs')"
      ]
     },
     "execution_count": 26,
     "metadata": {},
     "output_type": "execute_result"
    },
    {
     "data": {
      "image/png": "[encoded data removed]",
      "text/plain": [
       "<Figure size 576x504 with 1 Axes>"
      ]
     },
     "metadata": {
      "needs_background": "light"
     },
     "output_type": "display_data"
    }
   ],
   "source": [
    "# Plotting the scatter plot of points and color coding by class\n",
    "plt.figure(figsize=(8,7))\n",
    "plt.scatter(testing_plot[:,0], testing_plot[:,1], alpha = 0.1, c = y_test.ravel());\n",
    "plt.title('Outputs')"
   ]
  },
  {
   "cell_type": "markdown",
   "id": "a74fcf8f",
   "metadata": {
    "papermill": {
     "duration": 0.03859,
     "end_time": "2022-08-18T00:45:35.670659",
     "exception": false,
     "start_time": "2022-08-18T00:45:35.632069",
     "status": "completed"
    },
    "tags": []
   },
   "source": [
    "Probability contours"
   ]
  },
  {
   "cell_type": "code",
   "execution_count": 27,
   "id": "d0afc8e3",
   "metadata": {
    "execution": {
     "iopub.execute_input": "2022-08-18T00:45:35.764154Z",
     "iopub.status.busy": "2022-08-18T00:45:35.759617Z",
     "iopub.status.idle": "2022-08-18T00:45:35.768089Z",
     "shell.execute_reply": "2022-08-18T00:45:35.768495Z"
    },
    "papermill": {
     "duration": 0.059231,
     "end_time": "2022-08-18T00:45:35.768620",
     "exception": false,
     "start_time": "2022-08-18T00:45:35.709389",
     "status": "completed"
    },
    "tags": []
   },
   "outputs": [],
   "source": [
    "model_prob = Model(layers[-2:]) "
   ]
  },
  {
   "cell_type": "code",
   "execution_count": 28,
   "id": "9b96e238",
   "metadata": {
    "execution": {
     "iopub.execute_input": "2022-08-18T00:45:35.852447Z",
     "iopub.status.busy": "2022-08-18T00:45:35.851811Z",
     "iopub.status.idle": "2022-08-18T00:45:35.866040Z",
     "shell.execute_reply": "2022-08-18T00:45:35.865162Z"
    },
    "papermill": {
     "duration": 0.058916,
     "end_time": "2022-08-18T00:45:35.866162",
     "exception": false,
     "start_time": "2022-08-18T00:45:35.807246",
     "status": "completed"
    },
    "tags": []
   },
   "outputs": [],
   "source": [
    "#creating the x and y ranges according to the above generated plot.\n",
    "x_range = np.linspace(-4, 1, 100) \n",
    "y_range = np.linspace(-6, 6, 100) \n",
    "x_grid, y_grid = np.meshgrid(x_range, y_range) # x_grid and y_grig are of size 100 X 100\n",
    "\n",
    "# converting x_grid and y_grid to continuous arrays\n",
    "x_gridflat = np.ravel(x_grid)\n",
    "y_gridflat = np.ravel(y_grid)\n",
    "\n",
    "# The last layer of the current model takes two columns as input. Hence transpose of np.vstack() is required.\n",
    "X = np.vstack((x_gridflat, y_gridflat)).T\n",
    "\n",
    "prob_contour = model_prob(X).reshape(100,100) "
   ]
  },
  {
   "cell_type": "code",
   "execution_count": 29,
   "id": "da72499a",
   "metadata": {
    "execution": {
     "iopub.execute_input": "2022-08-18T00:45:35.993412Z",
     "iopub.status.busy": "2022-08-18T00:45:35.988591Z",
     "iopub.status.idle": "2022-08-18T00:45:36.236804Z",
     "shell.execute_reply": "2022-08-18T00:45:36.237195Z"
    },
    "papermill": {
     "duration": 0.298683,
     "end_time": "2022-08-18T00:45:36.237329",
     "exception": false,
     "start_time": "2022-08-18T00:45:35.938646",
     "status": "completed"
    },
    "tags": []
   },
   "outputs": [
    {
     "data": {
      "image/png": "[encoded data removed]",
      "text/plain": [
       "<Figure size 720x648 with 1 Axes>"
      ]
     },
     "metadata": {
      "needs_background": "light"
     },
     "output_type": "display_data"
    }
   ],
   "source": [
    "plt.figure(figsize=(10,9))\n",
    "plt.scatter(testing_plot[:,0], testing_plot[:,1], alpha = 0.1, c = y_test.ravel())\n",
    "contours = plt.contour(x_grid,y_grid,prob_contour)\n",
    "plt.title('Probability Contours')\n",
    "plt.clabel(contours, inline = True );"
   ]
  },
  {
   "cell_type": "code",
   "execution_count": null,
   "id": "e81b4ac7",
   "metadata": {
    "papermill": {
     "duration": 0.041599,
     "end_time": "2022-08-18T00:45:36.320539",
     "exception": false,
     "start_time": "2022-08-18T00:45:36.278940",
     "status": "completed"
    },
    "tags": []
   },
   "outputs": [],
   "source": []
  }
 ],
 "metadata": {
  "kernelspec": {
   "display_name": "Python 3",
   "language": "python",
   "name": "python3"
  },
  "language_info": {
   "codemirror_mode": {
    "name": "ipython",
    "version": 3
   },
   "file_extension": ".py",
   "mimetype": "text/x-python",
   "name": "python",
   "nbconvert_exporter": "python",
   "pygments_lexer": "ipython3",
   "version": "3.6.15"
  },
  "papermill": {
   "default_parameters": {},
   "duration": 94.52075,
   "end_time": "2022-08-18T00:45:36.782863",
   "environment_variables": {},
   "exception": null,
   "input_path": "2020-08-11-part2.ipynb",
   "output_path": "2020-08-11-part2.ipynb",
   "parameters": {},
   "start_time": "2022-08-18T00:44:02.262113",
   "version": "2.3.3"
  }
 },
 "nbformat": 4,
 "nbformat_minor": 5
}