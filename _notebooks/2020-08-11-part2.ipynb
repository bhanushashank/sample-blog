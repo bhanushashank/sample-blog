{
 "cells": [
  {
   "cell_type": "markdown",
   "id": "98380cd3",
   "metadata": {
    "papermill": {
     "duration": 0.031368,
     "end_time": "2022-06-18T20:09:36.195060",
     "exception": false,
     "start_time": "2022-06-18T20:09:36.163692",
     "status": "completed"
    },
    "tags": []
   },
   "source": [
    "# Distinguish Your Own Digits (DYOD)"
   ]
  },
  {
   "cell_type": "markdown",
   "id": "ef31240d",
   "metadata": {
    "papermill": {
     "duration": 0.024898,
     "end_time": "2022-06-18T20:09:36.247365",
     "exception": false,
     "start_time": "2022-06-18T20:09:36.222467",
     "status": "completed"
    },
    "tags": []
   },
   "source": [
    "You are going to write a classifier that distinguishes between the number 3 and number 8."
   ]
  },
  {
   "cell_type": "code",
   "execution_count": 1,
   "id": "b15c8646",
   "metadata": {
    "execution": {
     "iopub.execute_input": "2022-06-18T20:09:36.311739Z",
     "iopub.status.busy": "2022-06-18T20:09:36.311015Z",
     "iopub.status.idle": "2022-06-18T20:09:36.323182Z",
     "shell.execute_reply": "2022-06-18T20:09:36.322643Z"
    },
    "papermill": {
     "duration": 0.051599,
     "end_time": "2022-06-18T20:09:36.323320",
     "exception": false,
     "start_time": "2022-06-18T20:09:36.271721",
     "status": "completed"
    },
    "tags": []
   },
   "outputs": [],
   "source": [
    "%load_ext autoreload\n",
    "%autoreload 2"
   ]
  },
  {
   "cell_type": "code",
   "execution_count": 2,
   "id": "22ef38dc",
   "metadata": {
    "execution": {
     "iopub.execute_input": "2022-06-18T20:09:36.378514Z",
     "iopub.status.busy": "2022-06-18T20:09:36.377880Z",
     "iopub.status.idle": "2022-06-18T20:09:36.918984Z",
     "shell.execute_reply": "2022-06-18T20:09:36.918150Z"
    },
    "papermill": {
     "duration": 0.570339,
     "end_time": "2022-06-18T20:09:36.919530",
     "exception": false,
     "start_time": "2022-06-18T20:09:36.349191",
     "status": "completed"
    },
    "tags": []
   },
   "outputs": [],
   "source": [
    "%matplotlib inline\n",
    "import numpy as np\n",
    "import matplotlib.pyplot as plt\n",
    "import pandas as pd"
   ]
  },
  {
   "cell_type": "markdown",
   "id": "ba036198",
   "metadata": {
    "papermill": {
     "duration": 0.027229,
     "end_time": "2022-06-18T20:09:36.975429",
     "exception": false,
     "start_time": "2022-06-18T20:09:36.948200",
     "status": "completed"
    },
    "tags": []
   },
   "source": [
    "From the command line run `pip install mnist`. This is a library that will help you bring down the mnist dataset. If you run this from a notebook, you need to put  `!pip install mnist` in a cell by itself."
   ]
  },
  {
   "cell_type": "code",
   "execution_count": 3,
   "id": "bb6ad8a1",
   "metadata": {
    "execution": {
     "iopub.execute_input": "2022-06-18T20:09:37.036213Z",
     "iopub.status.busy": "2022-06-18T20:09:37.035632Z",
     "iopub.status.idle": "2022-06-18T20:09:38.688402Z",
     "shell.execute_reply": "2022-06-18T20:09:38.687856Z"
    },
    "papermill": {
     "duration": 1.685232,
     "end_time": "2022-06-18T20:09:38.688530",
     "exception": false,
     "start_time": "2022-06-18T20:09:37.003298",
     "status": "completed"
    },
    "tags": []
   },
   "outputs": [
    {
     "name": "stdout",
     "output_type": "stream",
     "text": [
      "Collecting mnist\r\n"
     ]
    },
    {
     "name": "stdout",
     "output_type": "stream",
     "text": [
      "  Downloading mnist-0.2.2-py2.py3-none-any.whl (3.5 kB)\r\n",
      "Requirement already satisfied: numpy in /opt/hostedtoolcache/Python/3.6.15/x64/lib/python3.6/site-packages (from mnist) (1.19.5)\r\n"
     ]
    },
    {
     "name": "stdout",
     "output_type": "stream",
     "text": [
      "Installing collected packages: mnist\r\n"
     ]
    },
    {
     "name": "stdout",
     "output_type": "stream",
     "text": [
      "Successfully installed mnist-0.2.2\r\n"
     ]
    }
   ],
   "source": [
    "!pip install mnist"
   ]
  },
  {
   "cell_type": "markdown",
   "id": "69df9c9a",
   "metadata": {
    "papermill": {
     "duration": 0.026625,
     "end_time": "2022-06-18T20:09:38.747402",
     "exception": false,
     "start_time": "2022-06-18T20:09:38.720777",
     "status": "completed"
    },
    "tags": []
   },
   "source": [
    "## Preparing the Data"
   ]
  },
  {
   "cell_type": "code",
   "execution_count": 4,
   "id": "7f69d806",
   "metadata": {
    "execution": {
     "iopub.execute_input": "2022-06-18T20:09:38.813997Z",
     "iopub.status.busy": "2022-06-18T20:09:38.813337Z",
     "iopub.status.idle": "2022-06-18T20:09:38.825970Z",
     "shell.execute_reply": "2022-06-18T20:09:38.826657Z"
    },
    "papermill": {
     "duration": 0.049216,
     "end_time": "2022-06-18T20:09:38.826813",
     "exception": false,
     "start_time": "2022-06-18T20:09:38.777597",
     "status": "completed"
    },
    "tags": []
   },
   "outputs": [],
   "source": [
    "import mnist"
   ]
  },
  {
   "cell_type": "code",
   "execution_count": 5,
   "id": "a411e44f",
   "metadata": {
    "execution": {
     "iopub.execute_input": "2022-06-18T20:09:38.884776Z",
     "iopub.status.busy": "2022-06-18T20:09:38.884132Z",
     "iopub.status.idle": "2022-06-18T20:09:39.503212Z",
     "shell.execute_reply": "2022-06-18T20:09:39.502639Z"
    },
    "papermill": {
     "duration": 0.647812,
     "end_time": "2022-06-18T20:09:39.503465",
     "exception": false,
     "start_time": "2022-06-18T20:09:38.855653",
     "status": "completed"
    },
    "tags": []
   },
   "outputs": [],
   "source": [
    "train_images = mnist.train_images()\n",
    "train_labels = mnist.train_labels()"
   ]
  },
  {
   "cell_type": "code",
   "execution_count": 6,
   "id": "dceab3a5",
   "metadata": {
    "execution": {
     "iopub.execute_input": "2022-06-18T20:09:39.569556Z",
     "iopub.status.busy": "2022-06-18T20:09:39.568892Z",
     "iopub.status.idle": "2022-06-18T20:09:39.586237Z",
     "shell.execute_reply": "2022-06-18T20:09:39.587013Z"
    },
    "papermill": {
     "duration": 0.052345,
     "end_time": "2022-06-18T20:09:39.587149",
     "exception": false,
     "start_time": "2022-06-18T20:09:39.534804",
     "status": "completed"
    },
    "tags": []
   },
   "outputs": [
    {
     "data": {
      "text/plain": [
       "((60000, 28, 28), (60000,))"
      ]
     },
     "execution_count": 6,
     "metadata": {},
     "output_type": "execute_result"
    }
   ],
   "source": [
    "train_images.shape, train_labels.shape"
   ]
  },
  {
   "cell_type": "code",
   "execution_count": 7,
   "id": "f50dc2bb",
   "metadata": {
    "execution": {
     "iopub.execute_input": "2022-06-18T20:09:39.657472Z",
     "iopub.status.busy": "2022-06-18T20:09:39.656657Z",
     "iopub.status.idle": "2022-06-18T20:09:39.817031Z",
     "shell.execute_reply": "2022-06-18T20:09:39.816294Z"
    },
    "papermill": {
     "duration": 0.198863,
     "end_time": "2022-06-18T20:09:39.817183",
     "exception": false,
     "start_time": "2022-06-18T20:09:39.618320",
     "status": "completed"
    },
    "tags": []
   },
   "outputs": [],
   "source": [
    "test_images = mnist.test_images()\n",
    "test_labels = mnist.test_labels()"
   ]
  },
  {
   "cell_type": "code",
   "execution_count": 8,
   "id": "fc38cf1b",
   "metadata": {
    "execution": {
     "iopub.execute_input": "2022-06-18T20:09:39.888286Z",
     "iopub.status.busy": "2022-06-18T20:09:39.887424Z",
     "iopub.status.idle": "2022-06-18T20:09:39.900284Z",
     "shell.execute_reply": "2022-06-18T20:09:39.899785Z"
    },
    "papermill": {
     "duration": 0.050599,
     "end_time": "2022-06-18T20:09:39.900417",
     "exception": false,
     "start_time": "2022-06-18T20:09:39.849818",
     "status": "completed"
    },
    "tags": []
   },
   "outputs": [
    {
     "data": {
      "text/plain": [
       "((10000, 28, 28), (10000,))"
      ]
     },
     "execution_count": 8,
     "metadata": {},
     "output_type": "execute_result"
    }
   ],
   "source": [
    "test_images.shape, test_labels.shape"
   ]
  },
  {
   "cell_type": "code",
   "execution_count": 9,
   "id": "f9ed8fe0",
   "metadata": {
    "execution": {
     "iopub.execute_input": "2022-06-18T20:09:39.966268Z",
     "iopub.status.busy": "2022-06-18T20:09:39.963453Z",
     "iopub.status.idle": "2022-06-18T20:09:40.146849Z",
     "shell.execute_reply": "2022-06-18T20:09:40.147461Z"
    },
    "papermill": {
     "duration": 0.218863,
     "end_time": "2022-06-18T20:09:40.147610",
     "exception": false,
     "start_time": "2022-06-18T20:09:39.928747",
     "status": "completed"
    },
    "tags": []
   },
   "outputs": [
    {
     "name": "stdout",
     "output_type": "stream",
     "text": [
      "2\n"
     ]
    },
    {
     "data": {
      "text/plain": [
       "<matplotlib.image.AxesImage at 0x7fdd30e2f390>"
      ]
     },
     "execution_count": 9,
     "metadata": {},
     "output_type": "execute_result"
    },
    {
     "data": {
      "image/png": "[encoded data removed]",
      "text/plain": [
       "<Figure size 432x288 with 1 Axes>"
      ]
     },
     "metadata": {
      "needs_background": "light"
     },
     "output_type": "display_data"
    }
   ],
   "source": [
    "image_index = 7776 # You may select anything up to 60,000\n",
    "print(train_labels[image_index]) \n",
    "plt.imshow(train_images[image_index], cmap='Greys')"
   ]
  },
  {
   "cell_type": "markdown",
   "id": "a8d2388d",
   "metadata": {
    "papermill": {
     "duration": 0.033374,
     "end_time": "2022-06-18T20:09:40.211237",
     "exception": false,
     "start_time": "2022-06-18T20:09:40.177863",
     "status": "completed"
    },
    "tags": []
   },
   "source": [
    "## Filter data to get 3 and 8 out"
   ]
  },
  {
   "cell_type": "code",
   "execution_count": 10,
   "id": "776f7fc7",
   "metadata": {
    "execution": {
     "iopub.execute_input": "2022-06-18T20:09:40.282215Z",
     "iopub.status.busy": "2022-06-18T20:09:40.281481Z",
     "iopub.status.idle": "2022-06-18T20:09:40.296449Z",
     "shell.execute_reply": "2022-06-18T20:09:40.295924Z"
    },
    "papermill": {
     "duration": 0.053628,
     "end_time": "2022-06-18T20:09:40.296566",
     "exception": false,
     "start_time": "2022-06-18T20:09:40.242938",
     "status": "completed"
    },
    "tags": []
   },
   "outputs": [],
   "source": [
    "train_filter = np.where((train_labels == 3 ) | (train_labels == 8))\n",
    "test_filter = np.where((test_labels == 3) | (test_labels == 8))\n",
    "X_train, y_train = train_images[train_filter], train_labels[train_filter]\n",
    "X_test, y_test = test_images[test_filter], test_labels[test_filter]"
   ]
  },
  {
   "cell_type": "markdown",
   "id": "948f0b7e",
   "metadata": {
    "papermill": {
     "duration": 0.030464,
     "end_time": "2022-06-18T20:09:40.356717",
     "exception": false,
     "start_time": "2022-06-18T20:09:40.326253",
     "status": "completed"
    },
    "tags": []
   },
   "source": [
    "We normalize the pizel values in the 0 to 1 range"
   ]
  },
  {
   "cell_type": "code",
   "execution_count": 11,
   "id": "ee4c2166",
   "metadata": {
    "execution": {
     "iopub.execute_input": "2022-06-18T20:09:40.422409Z",
     "iopub.status.busy": "2022-06-18T20:09:40.421793Z",
     "iopub.status.idle": "2022-06-18T20:09:40.481616Z",
     "shell.execute_reply": "2022-06-18T20:09:40.480915Z"
    },
    "papermill": {
     "duration": 0.09437,
     "end_time": "2022-06-18T20:09:40.481802",
     "exception": false,
     "start_time": "2022-06-18T20:09:40.387432",
     "status": "completed"
    },
    "tags": []
   },
   "outputs": [],
   "source": [
    "X_train = X_train/255.\n",
    "X_test = X_test/255."
   ]
  },
  {
   "cell_type": "markdown",
   "id": "ddcf4fab",
   "metadata": {
    "papermill": {
     "duration": 0.03213,
     "end_time": "2022-06-18T20:09:40.549637",
     "exception": false,
     "start_time": "2022-06-18T20:09:40.517507",
     "status": "completed"
    },
    "tags": []
   },
   "source": [
    "And setup the labels as 1 (when the digit is 3) and 0 (when the digit is 8)"
   ]
  },
  {
   "cell_type": "code",
   "execution_count": 12,
   "id": "7dc908f2",
   "metadata": {
    "execution": {
     "iopub.execute_input": "2022-06-18T20:09:40.618018Z",
     "iopub.status.busy": "2022-06-18T20:09:40.617282Z",
     "iopub.status.idle": "2022-06-18T20:09:40.630444Z",
     "shell.execute_reply": "2022-06-18T20:09:40.629787Z"
    },
    "papermill": {
     "duration": 0.049555,
     "end_time": "2022-06-18T20:09:40.630560",
     "exception": false,
     "start_time": "2022-06-18T20:09:40.581005",
     "status": "completed"
    },
    "tags": []
   },
   "outputs": [],
   "source": [
    "y_train = 1*(y_train==3)\n",
    "y_test = 1*(y_test==3)"
   ]
  },
  {
   "cell_type": "code",
   "execution_count": 13,
   "id": "01e4e969",
   "metadata": {
    "execution": {
     "iopub.execute_input": "2022-06-18T20:09:40.694096Z",
     "iopub.status.busy": "2022-06-18T20:09:40.693372Z",
     "iopub.status.idle": "2022-06-18T20:09:40.707902Z",
     "shell.execute_reply": "2022-06-18T20:09:40.707388Z"
    },
    "papermill": {
     "duration": 0.045871,
     "end_time": "2022-06-18T20:09:40.708010",
     "exception": false,
     "start_time": "2022-06-18T20:09:40.662139",
     "status": "completed"
    },
    "tags": []
   },
   "outputs": [
    {
     "data": {
      "text/plain": [
       "((11982, 28, 28), (1984, 28, 28))"
      ]
     },
     "execution_count": 13,
     "metadata": {},
     "output_type": "execute_result"
    }
   ],
   "source": [
    "X_train.shape, X_test.shape"
   ]
  },
  {
   "cell_type": "markdown",
   "id": "5ccf3f85",
   "metadata": {
    "papermill": {
     "duration": 0.029453,
     "end_time": "2022-06-18T20:09:40.767221",
     "exception": false,
     "start_time": "2022-06-18T20:09:40.737768",
     "status": "completed"
    },
    "tags": []
   },
   "source": [
    "We reshape the data to flatten the image pixels into a set of features or co-variates:"
   ]
  },
  {
   "cell_type": "code",
   "execution_count": 14,
   "id": "5286a4a3",
   "metadata": {
    "execution": {
     "iopub.execute_input": "2022-06-18T20:09:40.832814Z",
     "iopub.status.busy": "2022-06-18T20:09:40.832111Z",
     "iopub.status.idle": "2022-06-18T20:09:40.845062Z",
     "shell.execute_reply": "2022-06-18T20:09:40.844578Z"
    },
    "papermill": {
     "duration": 0.047088,
     "end_time": "2022-06-18T20:09:40.845166",
     "exception": false,
     "start_time": "2022-06-18T20:09:40.798078",
     "status": "completed"
    },
    "tags": []
   },
   "outputs": [
    {
     "data": {
      "text/plain": [
       "((11982, 784), (1984, 784))"
      ]
     },
     "execution_count": 14,
     "metadata": {},
     "output_type": "execute_result"
    }
   ],
   "source": [
    "X_train = X_train.reshape(X_train.shape[0], -1)\n",
    "X_test = X_test.reshape(X_test.shape[0], -1)\n",
    "X_train.shape, X_test.shape"
   ]
  },
  {
   "cell_type": "code",
   "execution_count": 15,
   "id": "73c5f88a",
   "metadata": {
    "execution": {
     "iopub.execute_input": "2022-06-18T20:09:40.905209Z",
     "iopub.status.busy": "2022-06-18T20:09:40.904524Z",
     "iopub.status.idle": "2022-06-18T20:09:40.922565Z",
     "shell.execute_reply": "2022-06-18T20:09:40.922070Z"
    },
    "papermill": {
     "duration": 0.048162,
     "end_time": "2022-06-18T20:09:40.922670",
     "exception": false,
     "start_time": "2022-06-18T20:09:40.874508",
     "status": "completed"
    },
    "tags": []
   },
   "outputs": [],
   "source": [
    "#Impoting functions from 'Kudzu'\n",
    "from kudzu.model import Model\n",
    "from kudzu.train import Learner\n",
    "from kudzu.optim import GD\n",
    "from kudzu.data import Data, Sampler,Dataloader\n",
    "\n",
    "from kudzu.callbacks import AccCallback\n",
    "from kudzu.callbacks import ClfCallback\n",
    "\n",
    "from kudzu.loss import MSE\n",
    "\n",
    "from kudzu.layer import Sigmoid,Relu\n",
    "from kudzu.layer import Affine"
   ]
  },
  {
   "cell_type": "markdown",
   "id": "bc01172a",
   "metadata": {
    "papermill": {
     "duration": 0.027758,
     "end_time": "2022-06-18T20:09:40.977994",
     "exception": false,
     "start_time": "2022-06-18T20:09:40.950236",
     "status": "completed"
    },
    "tags": []
   },
   "source": [
    "### Let us create a `Config` class, to store important parameters. \n",
    "This class essentially plays the role of a dictionary."
   ]
  },
  {
   "cell_type": "code",
   "execution_count": 16,
   "id": "978281aa",
   "metadata": {
    "execution": {
     "iopub.execute_input": "2022-06-18T20:09:41.045612Z",
     "iopub.status.busy": "2022-06-18T20:09:41.044907Z",
     "iopub.status.idle": "2022-06-18T20:09:41.055587Z",
     "shell.execute_reply": "2022-06-18T20:09:41.055063Z"
    },
    "papermill": {
     "duration": 0.048409,
     "end_time": "2022-06-18T20:09:41.055701",
     "exception": false,
     "start_time": "2022-06-18T20:09:41.007292",
     "status": "completed"
    },
    "tags": []
   },
   "outputs": [],
   "source": [
    "class Config:\n",
    "    pass\n",
    "config = Config()\n",
    "config.lr = 0.001\n",
    "config.num_epochs = 250\n",
    "config.bs = 50"
   ]
  },
  {
   "cell_type": "markdown",
   "id": "1385fa59",
   "metadata": {
    "papermill": {
     "duration": 0.028909,
     "end_time": "2022-06-18T20:09:41.116251",
     "exception": false,
     "start_time": "2022-06-18T20:09:41.087342",
     "status": "completed"
    },
    "tags": []
   },
   "source": [
    "### Running Models with the Training data\n",
    "Details about the network layers:\n",
    "- A first affine layer has 784 inputs and does 100 affine transforms. These are followed by a Relu\n",
    "- A second affine layer has 100 inputs from the 100 activations of the past layer, and does 100 affine transforms. These are followed by a Relu\n",
    "- A third affine layer has 100 activations and does 2 affine transformations to create an embedding for visualization. There is no non-linearity here.\n",
    "- A final \"logistic regression\" which has an affine transform from 2 inputs to 1 output, which is squeezed through a sigmoid.\n"
   ]
  },
  {
   "cell_type": "code",
   "execution_count": 17,
   "id": "2b9c66db",
   "metadata": {
    "execution": {
     "iopub.execute_input": "2022-06-18T20:09:41.184023Z",
     "iopub.status.busy": "2022-06-18T20:09:41.183394Z",
     "iopub.status.idle": "2022-06-18T20:09:41.195561Z",
     "shell.execute_reply": "2022-06-18T20:09:41.195084Z"
    },
    "papermill": {
     "duration": 0.049916,
     "end_time": "2022-06-18T20:09:41.195667",
     "exception": false,
     "start_time": "2022-06-18T20:09:41.145751",
     "status": "completed"
    },
    "tags": []
   },
   "outputs": [],
   "source": [
    "data = Data(X_train, y_train.reshape(-1,1))\n",
    "sampler = Sampler(data, config.bs, shuffle=True)\n",
    "\n",
    "dl = Dataloader(data, sampler)\n",
    "\n",
    "opt = GD(config.lr)\n",
    "loss = MSE()"
   ]
  },
  {
   "cell_type": "code",
   "execution_count": 18,
   "id": "b275e4c2",
   "metadata": {
    "execution": {
     "iopub.execute_input": "2022-06-18T20:09:41.259555Z",
     "iopub.status.busy": "2022-06-18T20:09:41.258929Z",
     "iopub.status.idle": "2022-06-18T20:09:41.271020Z",
     "shell.execute_reply": "2022-06-18T20:09:41.271746Z"
    },
    "papermill": {
     "duration": 0.046911,
     "end_time": "2022-06-18T20:09:41.271993",
     "exception": false,
     "start_time": "2022-06-18T20:09:41.225082",
     "status": "completed"
    },
    "tags": []
   },
   "outputs": [],
   "source": [
    "training_data_x = X_train\n",
    "testing_data_x = X_test\n",
    "training_data_y = y_train.reshape(-1,1)\n",
    "testing_data_y = y_test.reshape(-1,1)"
   ]
  },
  {
   "cell_type": "code",
   "execution_count": 19,
   "id": "76951160",
   "metadata": {
    "execution": {
     "iopub.execute_input": "2022-06-18T20:09:41.335973Z",
     "iopub.status.busy": "2022-06-18T20:09:41.335339Z",
     "iopub.status.idle": "2022-06-18T20:09:41.351745Z",
     "shell.execute_reply": "2022-06-18T20:09:41.351268Z"
    },
    "papermill": {
     "duration": 0.049345,
     "end_time": "2022-06-18T20:09:41.351854",
     "exception": false,
     "start_time": "2022-06-18T20:09:41.302509",
     "status": "completed"
    },
    "tags": []
   },
   "outputs": [
    {
     "name": "stdout",
     "output_type": "stream",
     "text": [
      "xavier\n",
      "xavier\n",
      "xavier\n",
      "xavier\n",
      "xavier\n"
     ]
    }
   ],
   "source": [
    "layers = [Affine(\"first\", 784, 100), Relu(\"first\"), Affine(\"second\", 100, 100), Relu(\"second\"), Affine(\"third\", 100, 2), Affine(\"last\", 2, 1), Sigmoid(\"last\")]\n",
    "model_nn = Model(layers)\n",
    "model_lr = Model([Affine(\"logits\", 784, 1), Sigmoid(\"sigmoid\")])"
   ]
  },
  {
   "cell_type": "code",
   "execution_count": 20,
   "id": "6eede77a",
   "metadata": {
    "execution": {
     "iopub.execute_input": "2022-06-18T20:09:41.413980Z",
     "iopub.status.busy": "2022-06-18T20:09:41.413194Z",
     "iopub.status.idle": "2022-06-18T20:09:41.424618Z",
     "shell.execute_reply": "2022-06-18T20:09:41.425229Z"
    },
    "papermill": {
     "duration": 0.045553,
     "end_time": "2022-06-18T20:09:41.425344",
     "exception": false,
     "start_time": "2022-06-18T20:09:41.379791",
     "status": "completed"
    },
    "tags": []
   },
   "outputs": [],
   "source": [
    "nn_learner = Learner(loss, model_nn, opt, config.num_epochs)\n",
    "acc_nn = ClfCallback(nn_learner, config.bs, training_data_x , testing_data_x, training_data_y, testing_data_y)\n",
    "nn_learner.set_callbacks([acc_nn])"
   ]
  },
  {
   "cell_type": "code",
   "execution_count": 21,
   "id": "877b6cc7",
   "metadata": {
    "execution": {
     "iopub.execute_input": "2022-06-18T20:09:41.485481Z",
     "iopub.status.busy": "2022-06-18T20:09:41.484786Z",
     "iopub.status.idle": "2022-06-18T20:09:41.496793Z",
     "shell.execute_reply": "2022-06-18T20:09:41.496039Z"
    },
    "papermill": {
     "duration": 0.044571,
     "end_time": "2022-06-18T20:09:41.496917",
     "exception": false,
     "start_time": "2022-06-18T20:09:41.452346",
     "status": "completed"
    },
    "tags": []
   },
   "outputs": [],
   "source": [
    "lr_learner = Learner(loss, model_lr, opt, config.num_epochs)\n",
    "acc_lr = ClfCallback(lr_learner, config.bs, training_data_x , testing_data_x, training_data_y, testing_data_y)\n",
    "lr_learner.set_callbacks([acc_lr])"
   ]
  },
  {
   "cell_type": "code",
   "execution_count": 22,
   "id": "d9b133c3",
   "metadata": {
    "execution": {
     "iopub.execute_input": "2022-06-18T20:09:41.561122Z",
     "iopub.status.busy": "2022-06-18T20:09:41.560489Z",
     "iopub.status.idle": "2022-06-18T20:11:53.736885Z",
     "shell.execute_reply": "2022-06-18T20:11:53.737782Z"
    },
    "papermill": {
     "duration": 132.212297,
     "end_time": "2022-06-18T20:11:53.737937",
     "exception": false,
     "start_time": "2022-06-18T20:09:41.525640",
     "status": "completed"
    },
    "tags": []
   },
   "outputs": [
    {
     "name": "stdout",
     "output_type": "stream",
     "text": [
      "Epoch 0, Loss 0.2379\n",
      "Training Accuracy: 0.6729, Testing Accuracy: 0.6653\n",
      "\n"
     ]
    },
    {
     "name": "stdout",
     "output_type": "stream",
     "text": [
      "Epoch 10, Loss 0.0937\n",
      "Training Accuracy: 0.9124, Testing Accuracy: 0.9249\n",
      "\n"
     ]
    },
    {
     "name": "stdout",
     "output_type": "stream",
     "text": [
      "Epoch 20, Loss 0.0579\n",
      "Training Accuracy: 0.9392, Testing Accuracy: 0.9486\n",
      "\n"
     ]
    },
    {
     "name": "stdout",
     "output_type": "stream",
     "text": [
      "Epoch 30, Loss 0.0453\n",
      "Training Accuracy: 0.9504, Testing Accuracy: 0.9582\n",
      "\n"
     ]
    },
    {
     "name": "stdout",
     "output_type": "stream",
     "text": [
      "Epoch 40, Loss 0.039\n",
      "Training Accuracy: 0.9561, Testing Accuracy: 0.9627\n",
      "\n"
     ]
    },
    {
     "name": "stdout",
     "output_type": "stream",
     "text": [
      "Epoch 50, Loss 0.0352\n",
      "Training Accuracy: 0.9607, Testing Accuracy: 0.9652\n",
      "\n"
     ]
    },
    {
     "name": "stdout",
     "output_type": "stream",
     "text": [
      "Epoch 60, Loss 0.0325\n",
      "Training Accuracy: 0.9634, Testing Accuracy: 0.9677\n",
      "\n"
     ]
    },
    {
     "name": "stdout",
     "output_type": "stream",
     "text": [
      "Epoch 70, Loss 0.0306\n",
      "Training Accuracy: 0.9663, Testing Accuracy: 0.9688\n",
      "\n"
     ]
    },
    {
     "name": "stdout",
     "output_type": "stream",
     "text": [
      "Epoch 80, Loss 0.029\n",
      "Training Accuracy: 0.9673, Testing Accuracy: 0.9698\n",
      "\n"
     ]
    },
    {
     "name": "stdout",
     "output_type": "stream",
     "text": [
      "Epoch 90, Loss 0.0278\n",
      "Training Accuracy: 0.9684, Testing Accuracy: 0.9713\n",
      "\n"
     ]
    },
    {
     "name": "stdout",
     "output_type": "stream",
     "text": [
      "Epoch 100, Loss 0.0267\n",
      "Training Accuracy: 0.9695, Testing Accuracy: 0.9723\n",
      "\n"
     ]
    },
    {
     "name": "stdout",
     "output_type": "stream",
     "text": [
      "Epoch 110, Loss 0.0258\n",
      "Training Accuracy: 0.9710, Testing Accuracy: 0.9733\n",
      "\n"
     ]
    },
    {
     "name": "stdout",
     "output_type": "stream",
     "text": [
      "Epoch 120, Loss 0.025\n",
      "Training Accuracy: 0.9720, Testing Accuracy: 0.9733\n",
      "\n"
     ]
    },
    {
     "name": "stdout",
     "output_type": "stream",
     "text": [
      "Epoch 130, Loss 0.0243\n",
      "Training Accuracy: 0.9729, Testing Accuracy: 0.9738\n",
      "\n"
     ]
    },
    {
     "name": "stdout",
     "output_type": "stream",
     "text": [
      "Epoch 140, Loss 0.0237\n",
      "Training Accuracy: 0.9734, Testing Accuracy: 0.9738\n",
      "\n"
     ]
    },
    {
     "name": "stdout",
     "output_type": "stream",
     "text": [
      "Epoch 150, Loss 0.0231\n",
      "Training Accuracy: 0.9742, Testing Accuracy: 0.9738\n",
      "\n"
     ]
    },
    {
     "name": "stdout",
     "output_type": "stream",
     "text": [
      "Epoch 160, Loss 0.0226\n",
      "Training Accuracy: 0.9744, Testing Accuracy: 0.9733\n",
      "\n"
     ]
    },
    {
     "name": "stdout",
     "output_type": "stream",
     "text": [
      "Epoch 170, Loss 0.0221\n",
      "Training Accuracy: 0.9752, Testing Accuracy: 0.9728\n",
      "\n"
     ]
    },
    {
     "name": "stdout",
     "output_type": "stream",
     "text": [
      "Epoch 180, Loss 0.0216\n",
      "Training Accuracy: 0.9758, Testing Accuracy: 0.9733\n",
      "\n"
     ]
    },
    {
     "name": "stdout",
     "output_type": "stream",
     "text": [
      "Epoch 190, Loss 0.0212\n",
      "Training Accuracy: 0.9765, Testing Accuracy: 0.9738\n",
      "\n"
     ]
    },
    {
     "name": "stdout",
     "output_type": "stream",
     "text": [
      "Epoch 200, Loss 0.0208\n",
      "Training Accuracy: 0.9769, Testing Accuracy: 0.9738\n",
      "\n"
     ]
    },
    {
     "name": "stdout",
     "output_type": "stream",
     "text": [
      "Epoch 210, Loss 0.0204\n",
      "Training Accuracy: 0.9771, Testing Accuracy: 0.9738\n",
      "\n"
     ]
    },
    {
     "name": "stdout",
     "output_type": "stream",
     "text": [
      "Epoch 220, Loss 0.02\n",
      "Training Accuracy: 0.9775, Testing Accuracy: 0.9743\n",
      "\n"
     ]
    },
    {
     "name": "stdout",
     "output_type": "stream",
     "text": [
      "Epoch 230, Loss 0.0197\n",
      "Training Accuracy: 0.9781, Testing Accuracy: 0.9748\n",
      "\n"
     ]
    },
    {
     "name": "stdout",
     "output_type": "stream",
     "text": [
      "Epoch 240, Loss 0.0194\n",
      "Training Accuracy: 0.9785, Testing Accuracy: 0.9748\n",
      "\n"
     ]
    },
    {
     "data": {
      "text/plain": [
       "0.003188373696582296"
      ]
     },
     "execution_count": 22,
     "metadata": {},
     "output_type": "execute_result"
    }
   ],
   "source": [
    "nn_learner.train_loop(dl)"
   ]
  },
  {
   "cell_type": "code",
   "execution_count": 23,
   "id": "e0163366",
   "metadata": {
    "execution": {
     "iopub.execute_input": "2022-06-18T20:11:53.825778Z",
     "iopub.status.busy": "2022-06-18T20:11:53.825172Z",
     "iopub.status.idle": "2022-06-18T20:12:12.627232Z",
     "shell.execute_reply": "2022-06-18T20:12:12.628232Z"
    },
    "papermill": {
     "duration": 18.852213,
     "end_time": "2022-06-18T20:12:12.628439",
     "exception": false,
     "start_time": "2022-06-18T20:11:53.776226",
     "status": "completed"
    },
    "tags": []
   },
   "outputs": [
    {
     "name": "stdout",
     "output_type": "stream",
     "text": [
      "Epoch 0, Loss 0.2371\n",
      "Training Accuracy: 0.7178, Testing Accuracy: 0.7359\n",
      "\n"
     ]
    },
    {
     "name": "stdout",
     "output_type": "stream",
     "text": [
      "Epoch 10, Loss 0.0995\n",
      "Training Accuracy: 0.9192, Testing Accuracy: 0.9299\n",
      "\n"
     ]
    },
    {
     "name": "stdout",
     "output_type": "stream",
     "text": [
      "Epoch 20, Loss 0.0769\n",
      "Training Accuracy: 0.9312, Testing Accuracy: 0.9420\n",
      "\n"
     ]
    },
    {
     "name": "stdout",
     "output_type": "stream",
     "text": [
      "Epoch 30, Loss 0.0666\n",
      "Training Accuracy: 0.9381, Testing Accuracy: 0.9511\n",
      "\n"
     ]
    },
    {
     "name": "stdout",
     "output_type": "stream",
     "text": [
      "Epoch 40, Loss 0.0603\n",
      "Training Accuracy: 0.9427, Testing Accuracy: 0.9551\n",
      "\n"
     ]
    },
    {
     "name": "stdout",
     "output_type": "stream",
     "text": [
      "Epoch 50, Loss 0.0561\n",
      "Training Accuracy: 0.9456, Testing Accuracy: 0.9577\n",
      "\n"
     ]
    },
    {
     "name": "stdout",
     "output_type": "stream",
     "text": [
      "Epoch 60, Loss 0.0529\n",
      "Training Accuracy: 0.9482, Testing Accuracy: 0.9592\n",
      "\n"
     ]
    },
    {
     "name": "stdout",
     "output_type": "stream",
     "text": [
      "Epoch 70, Loss 0.0505\n",
      "Training Accuracy: 0.9503, Testing Accuracy: 0.9602\n",
      "\n"
     ]
    },
    {
     "name": "stdout",
     "output_type": "stream",
     "text": [
      "Epoch 80, Loss 0.0486\n",
      "Training Accuracy: 0.9518, Testing Accuracy: 0.9617\n",
      "\n"
     ]
    },
    {
     "name": "stdout",
     "output_type": "stream",
     "text": [
      "Epoch 90, Loss 0.047\n",
      "Training Accuracy: 0.9529, Testing Accuracy: 0.9627\n",
      "\n"
     ]
    },
    {
     "name": "stdout",
     "output_type": "stream",
     "text": [
      "Epoch 100, Loss 0.0456\n",
      "Training Accuracy: 0.9539, Testing Accuracy: 0.9632\n",
      "\n"
     ]
    },
    {
     "name": "stdout",
     "output_type": "stream",
     "text": [
      "Epoch 110, Loss 0.0445\n",
      "Training Accuracy: 0.9548, Testing Accuracy: 0.9632\n",
      "\n"
     ]
    },
    {
     "name": "stdout",
     "output_type": "stream",
     "text": [
      "Epoch 120, Loss 0.0434\n",
      "Training Accuracy: 0.9556, Testing Accuracy: 0.9642\n",
      "\n"
     ]
    },
    {
     "name": "stdout",
     "output_type": "stream",
     "text": [
      "Epoch 130, Loss 0.0425\n",
      "Training Accuracy: 0.9569, Testing Accuracy: 0.9647\n",
      "\n"
     ]
    },
    {
     "name": "stdout",
     "output_type": "stream",
     "text": [
      "Epoch 140, Loss 0.0417\n",
      "Training Accuracy: 0.9576, Testing Accuracy: 0.9657\n",
      "\n"
     ]
    },
    {
     "name": "stdout",
     "output_type": "stream",
     "text": [
      "Epoch 150, Loss 0.041\n",
      "Training Accuracy: 0.9577, Testing Accuracy: 0.9657\n",
      "\n"
     ]
    },
    {
     "name": "stdout",
     "output_type": "stream",
     "text": [
      "Epoch 160, Loss 0.0404\n",
      "Training Accuracy: 0.9584, Testing Accuracy: 0.9662\n",
      "\n"
     ]
    },
    {
     "name": "stdout",
     "output_type": "stream",
     "text": [
      "Epoch 170, Loss 0.0398\n",
      "Training Accuracy: 0.9588, Testing Accuracy: 0.9667\n",
      "\n"
     ]
    },
    {
     "name": "stdout",
     "output_type": "stream",
     "text": [
      "Epoch 180, Loss 0.0393\n",
      "Training Accuracy: 0.9591, Testing Accuracy: 0.9667\n",
      "\n"
     ]
    },
    {
     "name": "stdout",
     "output_type": "stream",
     "text": [
      "Epoch 190, Loss 0.0388\n",
      "Training Accuracy: 0.9597, Testing Accuracy: 0.9662\n",
      "\n"
     ]
    },
    {
     "name": "stdout",
     "output_type": "stream",
     "text": [
      "Epoch 200, Loss 0.0383\n",
      "Training Accuracy: 0.9601, Testing Accuracy: 0.9672\n",
      "\n"
     ]
    },
    {
     "name": "stdout",
     "output_type": "stream",
     "text": [
      "Epoch 210, Loss 0.0379\n",
      "Training Accuracy: 0.9604, Testing Accuracy: 0.9672\n",
      "\n"
     ]
    },
    {
     "name": "stdout",
     "output_type": "stream",
     "text": [
      "Epoch 220, Loss 0.0375\n",
      "Training Accuracy: 0.9605, Testing Accuracy: 0.9677\n",
      "\n"
     ]
    },
    {
     "name": "stdout",
     "output_type": "stream",
     "text": [
      "Epoch 230, Loss 0.0371\n",
      "Training Accuracy: 0.9608, Testing Accuracy: 0.9682\n",
      "\n"
     ]
    },
    {
     "name": "stdout",
     "output_type": "stream",
     "text": [
      "Epoch 240, Loss 0.0367\n",
      "Training Accuracy: 0.9610, Testing Accuracy: 0.9682\n",
      "\n"
     ]
    },
    {
     "data": {
      "text/plain": [
       "0.006982078684526477"
      ]
     },
     "execution_count": 23,
     "metadata": {},
     "output_type": "execute_result"
    }
   ],
   "source": [
    "lr_learner.train_loop(dl)"
   ]
  },
  {
   "cell_type": "code",
   "execution_count": 24,
   "id": "ca410940",
   "metadata": {
    "execution": {
     "iopub.execute_input": "2022-06-18T20:12:12.729795Z",
     "iopub.status.busy": "2022-06-18T20:12:12.729181Z",
     "iopub.status.idle": "2022-06-18T20:12:12.997309Z",
     "shell.execute_reply": "2022-06-18T20:12:12.996834Z"
    },
    "papermill": {
     "duration": 0.324725,
     "end_time": "2022-06-18T20:12:12.997436",
     "exception": false,
     "start_time": "2022-06-18T20:12:12.672711",
     "status": "completed"
    },
    "tags": []
   },
   "outputs": [
    {
     "data": {
      "text/plain": [
       "<matplotlib.legend.Legend at 0x7fdd241e29e8>"
      ]
     },
     "execution_count": 24,
     "metadata": {},
     "output_type": "execute_result"
    },
    {
     "data": {
      "image/png": "[encoded data removed]",
      "text/plain": [
       "<Figure size 1080x720 with 1 Axes>"
      ]
     },
     "metadata": {
      "needs_background": "light"
     },
     "output_type": "display_data"
    }
   ],
   "source": [
    "#comparing the results of NN and LR\n",
    "plt.figure(figsize=(15,10))\n",
    "\n",
    "# Neural Network plots\n",
    "plt.plot(acc_nn.accuracies, 'r-', label = \"Training Accuracies - NN\")\n",
    "plt.plot(acc_nn.test_accuracies, 'g-', label = \"Testing Accuracies - NN\")\n",
    "\n",
    "# Logistic Regression plots\n",
    "plt.plot(acc_lr.accuracies, 'k-', label = \"Training Accuracies - LR\")\n",
    "plt.plot(acc_lr.test_accuracies, 'b-', label = \"Testing Accuracies - LR\")\n",
    "plt.legend()"
   ]
  },
  {
   "cell_type": "markdown",
   "id": "80dfb35c",
   "metadata": {
    "papermill": {
     "duration": 0.043355,
     "end_time": "2022-06-18T20:12:13.085548",
     "exception": false,
     "start_time": "2022-06-18T20:12:13.042193",
     "status": "completed"
    },
    "tags": []
   },
   "source": [
    "#### Plotting the outputs of this layer of the NN.\n"
   ]
  },
  {
   "cell_type": "code",
   "execution_count": 25,
   "id": "45eb2ff5",
   "metadata": {
    "execution": {
     "iopub.execute_input": "2022-06-18T20:12:13.178641Z",
     "iopub.status.busy": "2022-06-18T20:12:13.173869Z",
     "iopub.status.idle": "2022-06-18T20:12:13.202085Z",
     "shell.execute_reply": "2022-06-18T20:12:13.202674Z"
    },
    "papermill": {
     "duration": 0.074619,
     "end_time": "2022-06-18T20:12:13.202814",
     "exception": false,
     "start_time": "2022-06-18T20:12:13.128195",
     "status": "completed"
    },
    "tags": []
   },
   "outputs": [],
   "source": [
    "new_model = Model(layers[:-2])\n",
    "testing_plot = new_model(testing_data_x)"
   ]
  },
  {
   "cell_type": "code",
   "execution_count": 26,
   "id": "4c0a5485",
   "metadata": {
    "execution": {
     "iopub.execute_input": "2022-06-18T20:12:13.300799Z",
     "iopub.status.busy": "2022-06-18T20:12:13.300154Z",
     "iopub.status.idle": "2022-06-18T20:12:13.545836Z",
     "shell.execute_reply": "2022-06-18T20:12:13.544908Z"
    },
    "papermill": {
     "duration": 0.297931,
     "end_time": "2022-06-18T20:12:13.545958",
     "exception": false,
     "start_time": "2022-06-18T20:12:13.248027",
     "status": "completed"
    },
    "tags": []
   },
   "outputs": [
    {
     "data": {
      "text/plain": [
       "Text(0.5, 1.0, 'Outputs')"
      ]
     },
     "execution_count": 26,
     "metadata": {},
     "output_type": "execute_result"
    },
    {
     "data": {
      "image/png": "[encoded data removed]",
      "text/plain": [
       "<Figure size 576x504 with 1 Axes>"
      ]
     },
     "metadata": {
      "needs_background": "light"
     },
     "output_type": "display_data"
    }
   ],
   "source": [
    "# Plotting the scatter plot of points and color coding by class\n",
    "plt.figure(figsize=(8,7))\n",
    "plt.scatter(testing_plot[:,0], testing_plot[:,1], alpha = 0.1, c = y_test.ravel());\n",
    "plt.title('Outputs')"
   ]
  },
  {
   "cell_type": "markdown",
   "id": "a74fcf8f",
   "metadata": {
    "papermill": {
     "duration": 0.068237,
     "end_time": "2022-06-18T20:12:13.659274",
     "exception": false,
     "start_time": "2022-06-18T20:12:13.591037",
     "status": "completed"
    },
    "tags": []
   },
   "source": [
    "Probability contours"
   ]
  },
  {
   "cell_type": "code",
   "execution_count": 27,
   "id": "d0afc8e3",
   "metadata": {
    "execution": {
     "iopub.execute_input": "2022-06-18T20:12:13.759206Z",
     "iopub.status.busy": "2022-06-18T20:12:13.758332Z",
     "iopub.status.idle": "2022-06-18T20:12:13.769909Z",
     "shell.execute_reply": "2022-06-18T20:12:13.769406Z"
    },
    "papermill": {
     "duration": 0.066212,
     "end_time": "2022-06-18T20:12:13.770027",
     "exception": false,
     "start_time": "2022-06-18T20:12:13.703815",
     "status": "completed"
    },
    "tags": []
   },
   "outputs": [],
   "source": [
    "model_prob = Model(layers[-2:]) "
   ]
  },
  {
   "cell_type": "code",
   "execution_count": 28,
   "id": "9b96e238",
   "metadata": {
    "execution": {
     "iopub.execute_input": "2022-06-18T20:12:13.872522Z",
     "iopub.status.busy": "2022-06-18T20:12:13.871863Z",
     "iopub.status.idle": "2022-06-18T20:12:13.887292Z",
     "shell.execute_reply": "2022-06-18T20:12:13.887729Z"
    },
    "papermill": {
     "duration": 0.073039,
     "end_time": "2022-06-18T20:12:13.887852",
     "exception": false,
     "start_time": "2022-06-18T20:12:13.814813",
     "status": "completed"
    },
    "tags": []
   },
   "outputs": [],
   "source": [
    "#creating the x and y ranges according to the above generated plot.\n",
    "x_range = np.linspace(-4, 1, 100) \n",
    "y_range = np.linspace(-6, 6, 100) \n",
    "x_grid, y_grid = np.meshgrid(x_range, y_range) # x_grid and y_grig are of size 100 X 100\n",
    "\n",
    "# converting x_grid and y_grid to continuous arrays\n",
    "x_gridflat = np.ravel(x_grid)\n",
    "y_gridflat = np.ravel(y_grid)\n",
    "\n",
    "# The last layer of the current model takes two columns as input. Hence transpose of np.vstack() is required.\n",
    "X = np.vstack((x_gridflat, y_gridflat)).T\n",
    "\n",
    "prob_contour = model_prob(X).reshape(100,100) "
   ]
  },
  {
   "cell_type": "code",
   "execution_count": 29,
   "id": "da72499a",
   "metadata": {
    "execution": {
     "iopub.execute_input": "2022-06-18T20:12:14.005080Z",
     "iopub.status.busy": "2022-06-18T20:12:14.004342Z",
     "iopub.status.idle": "2022-06-18T20:12:14.329639Z",
     "shell.execute_reply": "2022-06-18T20:12:14.329143Z"
    },
    "papermill": {
     "duration": 0.387525,
     "end_time": "2022-06-18T20:12:14.329759",
     "exception": false,
     "start_time": "2022-06-18T20:12:13.942234",
     "status": "completed"
    },
    "tags": []
   },
   "outputs": [
    {
     "data": {
      "image/png": "[encoded data removed]",
      "text/plain": [
       "<Figure size 720x648 with 1 Axes>"
      ]
     },
     "metadata": {
      "needs_background": "light"
     },
     "output_type": "display_data"
    }
   ],
   "source": [
    "plt.figure(figsize=(10,9))\n",
    "plt.scatter(testing_plot[:,0], testing_plot[:,1], alpha = 0.1, c = y_test.ravel())\n",
    "contours = plt.contour(x_grid,y_grid,prob_contour)\n",
    "plt.title('Probability Contours')\n",
    "plt.clabel(contours, inline = True );"
   ]
  },
  {
   "cell_type": "code",
   "execution_count": null,
   "id": "e81b4ac7",
   "metadata": {
    "papermill": {
     "duration": 0.046051,
     "end_time": "2022-06-18T20:12:14.424042",
     "exception": false,
     "start_time": "2022-06-18T20:12:14.377991",
     "status": "completed"
    },
    "tags": []
   },
   "outputs": [],
   "source": []
  }
 ],
 "metadata": {
  "kernelspec": {
   "display_name": "Python 3",
   "language": "python",
   "name": "python3"
  },
  "language_info": {
   "codemirror_mode": {
    "name": "ipython",
    "version": 3
   },
   "file_extension": ".py",
   "mimetype": "text/x-python",
   "name": "python",
   "nbconvert_exporter": "python",
   "pygments_lexer": "ipython3",
   "version": "3.6.15"
  },
  "papermill": {
   "default_parameters": {},
   "duration": 159.689017,
   "end_time": "2022-06-18T20:12:14.794255",
   "environment_variables": {},
   "exception": null,
   "input_path": "2020-08-11-part2.ipynb",
   "output_path": "2020-08-11-part2.ipynb",
   "parameters": {},
   "start_time": "2022-06-18T20:09:35.105238",
   "version": "2.3.3"
  }
 },
 "nbformat": 4,
 "nbformat_minor": 5
}