{
 "cells": [
  {
   "cell_type": "markdown",
   "id": "98380cd3",
   "metadata": {
    "papermill": {
     "duration": 0.028053,
     "end_time": "2022-02-17T00:23:56.292939",
     "exception": false,
     "start_time": "2022-02-17T00:23:56.264886",
     "status": "completed"
    },
    "tags": []
   },
   "source": [
    "# Distinguish Your Own Digits (DYOD)"
   ]
  },
  {
   "cell_type": "markdown",
   "id": "ef31240d",
   "metadata": {
    "papermill": {
     "duration": 0.025355,
     "end_time": "2022-02-17T00:23:56.343276",
     "exception": false,
     "start_time": "2022-02-17T00:23:56.317921",
     "status": "completed"
    },
    "tags": []
   },
   "source": [
    "You are going to write a classifier that distinguishes between the number 3 and number 8."
   ]
  },
  {
   "cell_type": "code",
   "execution_count": 1,
   "id": "b15c8646",
   "metadata": {
    "execution": {
     "iopub.execute_input": "2022-02-17T00:23:56.401493Z",
     "iopub.status.busy": "2022-02-17T00:23:56.400949Z",
     "iopub.status.idle": "2022-02-17T00:23:56.410753Z",
     "shell.execute_reply": "2022-02-17T00:23:56.410361Z"
    },
    "papermill": {
     "duration": 0.043324,
     "end_time": "2022-02-17T00:23:56.410862",
     "exception": false,
     "start_time": "2022-02-17T00:23:56.367538",
     "status": "completed"
    },
    "tags": []
   },
   "outputs": [],
   "source": [
    "%load_ext autoreload\n",
    "%autoreload 2"
   ]
  },
  {
   "cell_type": "code",
   "execution_count": 2,
   "id": "22ef38dc",
   "metadata": {
    "execution": {
     "iopub.execute_input": "2022-02-17T00:23:56.462729Z",
     "iopub.status.busy": "2022-02-17T00:23:56.462238Z",
     "iopub.status.idle": "2022-02-17T00:23:57.004517Z",
     "shell.execute_reply": "2022-02-17T00:23:57.004932Z"
    },
    "papermill": {
     "duration": 0.569787,
     "end_time": "2022-02-17T00:23:57.005081",
     "exception": false,
     "start_time": "2022-02-17T00:23:56.435294",
     "status": "completed"
    },
    "tags": []
   },
   "outputs": [],
   "source": [
    "%matplotlib inline\n",
    "import numpy as np\n",
    "import matplotlib.pyplot as plt\n",
    "import pandas as pd"
   ]
  },
  {
   "cell_type": "markdown",
   "id": "ba036198",
   "metadata": {
    "papermill": {
     "duration": 0.024572,
     "end_time": "2022-02-17T00:23:57.054116",
     "exception": false,
     "start_time": "2022-02-17T00:23:57.029544",
     "status": "completed"
    },
    "tags": []
   },
   "source": [
    "From the command line run `pip install mnist`. This is a library that will help you bring down the mnist dataset. If you run this from a notebook, you need to put  `!pip install mnist` in a cell by itself."
   ]
  },
  {
   "cell_type": "code",
   "execution_count": 3,
   "id": "bb6ad8a1",
   "metadata": {
    "execution": {
     "iopub.execute_input": "2022-02-17T00:23:57.106695Z",
     "iopub.status.busy": "2022-02-17T00:23:57.106220Z",
     "iopub.status.idle": "2022-02-17T00:23:58.769330Z",
     "shell.execute_reply": "2022-02-17T00:23:58.769769Z"
    },
    "papermill": {
     "duration": 1.691357,
     "end_time": "2022-02-17T00:23:58.769896",
     "exception": false,
     "start_time": "2022-02-17T00:23:57.078539",
     "status": "completed"
    },
    "tags": []
   },
   "outputs": [
    {
     "name": "stdout",
     "output_type": "stream",
     "text": [
      "Collecting mnist\r\n"
     ]
    },
    {
     "name": "stdout",
     "output_type": "stream",
     "text": [
      "  Downloading mnist-0.2.2-py2.py3-none-any.whl (3.5 kB)\r\n",
      "Requirement already satisfied: numpy in /opt/hostedtoolcache/Python/3.6.15/x64/lib/python3.6/site-packages (from mnist) (1.19.5)\r\n"
     ]
    },
    {
     "name": "stdout",
     "output_type": "stream",
     "text": [
      "Installing collected packages: mnist\r\n"
     ]
    },
    {
     "name": "stdout",
     "output_type": "stream",
     "text": [
      "Successfully installed mnist-0.2.2\r\n"
     ]
    }
   ],
   "source": [
    "!pip install mnist"
   ]
  },
  {
   "cell_type": "markdown",
   "id": "69df9c9a",
   "metadata": {
    "papermill": {
     "duration": 0.025976,
     "end_time": "2022-02-17T00:23:58.821756",
     "exception": false,
     "start_time": "2022-02-17T00:23:58.795780",
     "status": "completed"
    },
    "tags": []
   },
   "source": [
    "## Preparing the Data"
   ]
  },
  {
   "cell_type": "code",
   "execution_count": 4,
   "id": "7f69d806",
   "metadata": {
    "execution": {
     "iopub.execute_input": "2022-02-17T00:23:58.876561Z",
     "iopub.status.busy": "2022-02-17T00:23:58.876075Z",
     "iopub.status.idle": "2022-02-17T00:23:58.889543Z",
     "shell.execute_reply": "2022-02-17T00:23:58.889154Z"
    },
    "papermill": {
     "duration": 0.042369,
     "end_time": "2022-02-17T00:23:58.889640",
     "exception": false,
     "start_time": "2022-02-17T00:23:58.847271",
     "status": "completed"
    },
    "tags": []
   },
   "outputs": [],
   "source": [
    "import mnist"
   ]
  },
  {
   "cell_type": "code",
   "execution_count": 5,
   "id": "a411e44f",
   "metadata": {
    "execution": {
     "iopub.execute_input": "2022-02-17T00:23:58.943975Z",
     "iopub.status.busy": "2022-02-17T00:23:58.943495Z",
     "iopub.status.idle": "2022-02-17T00:23:59.548239Z",
     "shell.execute_reply": "2022-02-17T00:23:59.547276Z"
    },
    "papermill": {
     "duration": 0.633065,
     "end_time": "2022-02-17T00:23:59.548356",
     "exception": false,
     "start_time": "2022-02-17T00:23:58.915291",
     "status": "completed"
    },
    "tags": []
   },
   "outputs": [],
   "source": [
    "train_images = mnist.train_images()\n",
    "train_labels = mnist.train_labels()"
   ]
  },
  {
   "cell_type": "code",
   "execution_count": 6,
   "id": "dceab3a5",
   "metadata": {
    "execution": {
     "iopub.execute_input": "2022-02-17T00:23:59.605935Z",
     "iopub.status.busy": "2022-02-17T00:23:59.602637Z",
     "iopub.status.idle": "2022-02-17T00:23:59.615654Z",
     "shell.execute_reply": "2022-02-17T00:23:59.616072Z"
    },
    "papermill": {
     "duration": 0.04194,
     "end_time": "2022-02-17T00:23:59.616184",
     "exception": false,
     "start_time": "2022-02-17T00:23:59.574244",
     "status": "completed"
    },
    "tags": []
   },
   "outputs": [
    {
     "data": {
      "text/plain": [
       "((60000, 28, 28), (60000,))"
      ]
     },
     "execution_count": 6,
     "metadata": {},
     "output_type": "execute_result"
    }
   ],
   "source": [
    "train_images.shape, train_labels.shape"
   ]
  },
  {
   "cell_type": "code",
   "execution_count": 7,
   "id": "f50dc2bb",
   "metadata": {
    "execution": {
     "iopub.execute_input": "2022-02-17T00:23:59.671323Z",
     "iopub.status.busy": "2022-02-17T00:23:59.670826Z",
     "iopub.status.idle": "2022-02-17T00:23:59.902066Z",
     "shell.execute_reply": "2022-02-17T00:23:59.901629Z"
    },
    "papermill": {
     "duration": 0.259757,
     "end_time": "2022-02-17T00:23:59.902179",
     "exception": false,
     "start_time": "2022-02-17T00:23:59.642422",
     "status": "completed"
    },
    "tags": []
   },
   "outputs": [],
   "source": [
    "test_images = mnist.test_images()\n",
    "test_labels = mnist.test_labels()"
   ]
  },
  {
   "cell_type": "code",
   "execution_count": 8,
   "id": "fc38cf1b",
   "metadata": {
    "execution": {
     "iopub.execute_input": "2022-02-17T00:23:59.957364Z",
     "iopub.status.busy": "2022-02-17T00:23:59.956843Z",
     "iopub.status.idle": "2022-02-17T00:23:59.968302Z",
     "shell.execute_reply": "2022-02-17T00:23:59.968758Z"
    },
    "papermill": {
     "duration": 0.040662,
     "end_time": "2022-02-17T00:23:59.968866",
     "exception": false,
     "start_time": "2022-02-17T00:23:59.928204",
     "status": "completed"
    },
    "tags": []
   },
   "outputs": [
    {
     "data": {
      "text/plain": [
       "((10000, 28, 28), (10000,))"
      ]
     },
     "execution_count": 8,
     "metadata": {},
     "output_type": "execute_result"
    }
   ],
   "source": [
    "test_images.shape, test_labels.shape"
   ]
  },
  {
   "cell_type": "code",
   "execution_count": 9,
   "id": "f9ed8fe0",
   "metadata": {
    "execution": {
     "iopub.execute_input": "2022-02-17T00:24:00.024021Z",
     "iopub.status.busy": "2022-02-17T00:24:00.023524Z",
     "iopub.status.idle": "2022-02-17T00:24:00.153153Z",
     "shell.execute_reply": "2022-02-17T00:24:00.153539Z"
    },
    "papermill": {
     "duration": 0.158715,
     "end_time": "2022-02-17T00:24:00.153656",
     "exception": false,
     "start_time": "2022-02-17T00:23:59.994941",
     "status": "completed"
    },
    "tags": []
   },
   "outputs": [
    {
     "name": "stdout",
     "output_type": "stream",
     "text": [
      "2\n"
     ]
    },
    {
     "data": {
      "text/plain": [
       "<matplotlib.image.AxesImage at 0x7fde8cc795c0>"
      ]
     },
     "execution_count": 9,
     "metadata": {},
     "output_type": "execute_result"
    },
    {
     "data": {
      "image/png": "[encoded data removed]",
      "text/plain": [
       "<Figure size 432x288 with 1 Axes>"
      ]
     },
     "metadata": {
      "needs_background": "light"
     },
     "output_type": "display_data"
    }
   ],
   "source": [
    "image_index = 7776 # You may select anything up to 60,000\n",
    "print(train_labels[image_index]) \n",
    "plt.imshow(train_images[image_index], cmap='Greys')"
   ]
  },
  {
   "cell_type": "markdown",
   "id": "a8d2388d",
   "metadata": {
    "papermill": {
     "duration": 0.027559,
     "end_time": "2022-02-17T00:24:00.208498",
     "exception": false,
     "start_time": "2022-02-17T00:24:00.180939",
     "status": "completed"
    },
    "tags": []
   },
   "source": [
    "## Filter data to get 3 and 8 out"
   ]
  },
  {
   "cell_type": "code",
   "execution_count": 10,
   "id": "776f7fc7",
   "metadata": {
    "execution": {
     "iopub.execute_input": "2022-02-17T00:24:00.266274Z",
     "iopub.status.busy": "2022-02-17T00:24:00.265770Z",
     "iopub.status.idle": "2022-02-17T00:24:00.282501Z",
     "shell.execute_reply": "2022-02-17T00:24:00.282069Z"
    },
    "papermill": {
     "duration": 0.047043,
     "end_time": "2022-02-17T00:24:00.282601",
     "exception": false,
     "start_time": "2022-02-17T00:24:00.235558",
     "status": "completed"
    },
    "tags": []
   },
   "outputs": [],
   "source": [
    "train_filter = np.where((train_labels == 3 ) | (train_labels == 8))\n",
    "test_filter = np.where((test_labels == 3) | (test_labels == 8))\n",
    "X_train, y_train = train_images[train_filter], train_labels[train_filter]\n",
    "X_test, y_test = test_images[test_filter], test_labels[test_filter]"
   ]
  },
  {
   "cell_type": "markdown",
   "id": "948f0b7e",
   "metadata": {
    "papermill": {
     "duration": 0.028249,
     "end_time": "2022-02-17T00:24:00.338162",
     "exception": false,
     "start_time": "2022-02-17T00:24:00.309913",
     "status": "completed"
    },
    "tags": []
   },
   "source": [
    "We normalize the pizel values in the 0 to 1 range"
   ]
  },
  {
   "cell_type": "code",
   "execution_count": 11,
   "id": "ee4c2166",
   "metadata": {
    "execution": {
     "iopub.execute_input": "2022-02-17T00:24:00.395172Z",
     "iopub.status.busy": "2022-02-17T00:24:00.394685Z",
     "iopub.status.idle": "2022-02-17T00:24:00.434196Z",
     "shell.execute_reply": "2022-02-17T00:24:00.433765Z"
    },
    "papermill": {
     "duration": 0.068989,
     "end_time": "2022-02-17T00:24:00.434300",
     "exception": false,
     "start_time": "2022-02-17T00:24:00.365311",
     "status": "completed"
    },
    "tags": []
   },
   "outputs": [],
   "source": [
    "X_train = X_train/255.\n",
    "X_test = X_test/255."
   ]
  },
  {
   "cell_type": "markdown",
   "id": "ddcf4fab",
   "metadata": {
    "papermill": {
     "duration": 0.027237,
     "end_time": "2022-02-17T00:24:00.488868",
     "exception": false,
     "start_time": "2022-02-17T00:24:00.461631",
     "status": "completed"
    },
    "tags": []
   },
   "source": [
    "And setup the labels as 1 (when the digit is 3) and 0 (when the digit is 8)"
   ]
  },
  {
   "cell_type": "code",
   "execution_count": 12,
   "id": "7dc908f2",
   "metadata": {
    "execution": {
     "iopub.execute_input": "2022-02-17T00:24:00.549583Z",
     "iopub.status.busy": "2022-02-17T00:24:00.547099Z",
     "iopub.status.idle": "2022-02-17T00:24:00.558749Z",
     "shell.execute_reply": "2022-02-17T00:24:00.558320Z"
    },
    "papermill": {
     "duration": 0.042931,
     "end_time": "2022-02-17T00:24:00.558846",
     "exception": false,
     "start_time": "2022-02-17T00:24:00.515915",
     "status": "completed"
    },
    "tags": []
   },
   "outputs": [],
   "source": [
    "y_train = 1*(y_train==3)\n",
    "y_test = 1*(y_test==3)"
   ]
  },
  {
   "cell_type": "code",
   "execution_count": 13,
   "id": "01e4e969",
   "metadata": {
    "execution": {
     "iopub.execute_input": "2022-02-17T00:24:00.618197Z",
     "iopub.status.busy": "2022-02-17T00:24:00.617105Z",
     "iopub.status.idle": "2022-02-17T00:24:00.628608Z",
     "shell.execute_reply": "2022-02-17T00:24:00.628219Z"
    },
    "papermill": {
     "duration": 0.042651,
     "end_time": "2022-02-17T00:24:00.628704",
     "exception": false,
     "start_time": "2022-02-17T00:24:00.586053",
     "status": "completed"
    },
    "tags": []
   },
   "outputs": [
    {
     "data": {
      "text/plain": [
       "((11982, 28, 28), (1984, 28, 28))"
      ]
     },
     "execution_count": 13,
     "metadata": {},
     "output_type": "execute_result"
    }
   ],
   "source": [
    "X_train.shape, X_test.shape"
   ]
  },
  {
   "cell_type": "markdown",
   "id": "5ccf3f85",
   "metadata": {
    "papermill": {
     "duration": 0.02766,
     "end_time": "2022-02-17T00:24:00.684208",
     "exception": false,
     "start_time": "2022-02-17T00:24:00.656548",
     "status": "completed"
    },
    "tags": []
   },
   "source": [
    "We reshape the data to flatten the image pixels into a set of features or co-variates:"
   ]
  },
  {
   "cell_type": "code",
   "execution_count": 14,
   "id": "5286a4a3",
   "metadata": {
    "execution": {
     "iopub.execute_input": "2022-02-17T00:24:00.743144Z",
     "iopub.status.busy": "2022-02-17T00:24:00.742644Z",
     "iopub.status.idle": "2022-02-17T00:24:00.755953Z",
     "shell.execute_reply": "2022-02-17T00:24:00.755549Z"
    },
    "papermill": {
     "duration": 0.043828,
     "end_time": "2022-02-17T00:24:00.756051",
     "exception": false,
     "start_time": "2022-02-17T00:24:00.712223",
     "status": "completed"
    },
    "tags": []
   },
   "outputs": [
    {
     "data": {
      "text/plain": [
       "((11982, 784), (1984, 784))"
      ]
     },
     "execution_count": 14,
     "metadata": {},
     "output_type": "execute_result"
    }
   ],
   "source": [
    "X_train = X_train.reshape(X_train.shape[0], -1)\n",
    "X_test = X_test.reshape(X_test.shape[0], -1)\n",
    "X_train.shape, X_test.shape"
   ]
  },
  {
   "cell_type": "code",
   "execution_count": 15,
   "id": "73c5f88a",
   "metadata": {
    "execution": {
     "iopub.execute_input": "2022-02-17T00:24:00.814943Z",
     "iopub.status.busy": "2022-02-17T00:24:00.814434Z",
     "iopub.status.idle": "2022-02-17T00:24:00.830507Z",
     "shell.execute_reply": "2022-02-17T00:24:00.830872Z"
    },
    "papermill": {
     "duration": 0.047199,
     "end_time": "2022-02-17T00:24:00.830979",
     "exception": false,
     "start_time": "2022-02-17T00:24:00.783780",
     "status": "completed"
    },
    "tags": []
   },
   "outputs": [],
   "source": [
    "#Impoting functions from 'Kudzu'\n",
    "from kudzu.model import Model\n",
    "from kudzu.train import Learner\n",
    "from kudzu.optim import GD\n",
    "from kudzu.data import Data, Sampler,Dataloader\n",
    "\n",
    "from kudzu.callbacks import AccCallback\n",
    "from kudzu.callbacks import ClfCallback\n",
    "\n",
    "from kudzu.loss import MSE\n",
    "\n",
    "from kudzu.layer import Sigmoid,Relu\n",
    "from kudzu.layer import Affine"
   ]
  },
  {
   "cell_type": "markdown",
   "id": "bc01172a",
   "metadata": {
    "papermill": {
     "duration": 0.027545,
     "end_time": "2022-02-17T00:24:00.886234",
     "exception": false,
     "start_time": "2022-02-17T00:24:00.858689",
     "status": "completed"
    },
    "tags": []
   },
   "source": [
    "### Let us create a `Config` class, to store important parameters. \n",
    "This class essentially plays the role of a dictionary."
   ]
  },
  {
   "cell_type": "code",
   "execution_count": 16,
   "id": "978281aa",
   "metadata": {
    "execution": {
     "iopub.execute_input": "2022-02-17T00:24:00.944342Z",
     "iopub.status.busy": "2022-02-17T00:24:00.943864Z",
     "iopub.status.idle": "2022-02-17T00:24:00.955057Z",
     "shell.execute_reply": "2022-02-17T00:24:00.954666Z"
    },
    "papermill": {
     "duration": 0.041281,
     "end_time": "2022-02-17T00:24:00.955151",
     "exception": false,
     "start_time": "2022-02-17T00:24:00.913870",
     "status": "completed"
    },
    "tags": []
   },
   "outputs": [],
   "source": [
    "class Config:\n",
    "    pass\n",
    "config = Config()\n",
    "config.lr = 0.001\n",
    "config.num_epochs = 250\n",
    "config.bs = 50"
   ]
  },
  {
   "cell_type": "markdown",
   "id": "1385fa59",
   "metadata": {
    "papermill": {
     "duration": 0.027484,
     "end_time": "2022-02-17T00:24:01.010385",
     "exception": false,
     "start_time": "2022-02-17T00:24:00.982901",
     "status": "completed"
    },
    "tags": []
   },
   "source": [
    "### Running Models with the Training data\n",
    "Details about the network layers:\n",
    "- A first affine layer has 784 inputs and does 100 affine transforms. These are followed by a Relu\n",
    "- A second affine layer has 100 inputs from the 100 activations of the past layer, and does 100 affine transforms. These are followed by a Relu\n",
    "- A third affine layer has 100 activations and does 2 affine transformations to create an embedding for visualization. There is no non-linearity here.\n",
    "- A final \"logistic regression\" which has an affine transform from 2 inputs to 1 output, which is squeezed through a sigmoid.\n"
   ]
  },
  {
   "cell_type": "code",
   "execution_count": 17,
   "id": "2b9c66db",
   "metadata": {
    "execution": {
     "iopub.execute_input": "2022-02-17T00:24:01.068969Z",
     "iopub.status.busy": "2022-02-17T00:24:01.068476Z",
     "iopub.status.idle": "2022-02-17T00:24:01.079740Z",
     "shell.execute_reply": "2022-02-17T00:24:01.079357Z"
    },
    "papermill": {
     "duration": 0.041655,
     "end_time": "2022-02-17T00:24:01.079832",
     "exception": false,
     "start_time": "2022-02-17T00:24:01.038177",
     "status": "completed"
    },
    "tags": []
   },
   "outputs": [],
   "source": [
    "data = Data(X_train, y_train.reshape(-1,1))\n",
    "sampler = Sampler(data, config.bs, shuffle=True)\n",
    "\n",
    "dl = Dataloader(data, sampler)\n",
    "\n",
    "opt = GD(config.lr)\n",
    "loss = MSE()"
   ]
  },
  {
   "cell_type": "code",
   "execution_count": 18,
   "id": "b275e4c2",
   "metadata": {
    "execution": {
     "iopub.execute_input": "2022-02-17T00:24:01.138271Z",
     "iopub.status.busy": "2022-02-17T00:24:01.137774Z",
     "iopub.status.idle": "2022-02-17T00:24:01.147810Z",
     "shell.execute_reply": "2022-02-17T00:24:01.147413Z"
    },
    "papermill": {
     "duration": 0.040297,
     "end_time": "2022-02-17T00:24:01.147901",
     "exception": false,
     "start_time": "2022-02-17T00:24:01.107604",
     "status": "completed"
    },
    "tags": []
   },
   "outputs": [],
   "source": [
    "training_data_x = X_train\n",
    "testing_data_x = X_test\n",
    "training_data_y = y_train.reshape(-1,1)\n",
    "testing_data_y = y_test.reshape(-1,1)"
   ]
  },
  {
   "cell_type": "code",
   "execution_count": 19,
   "id": "76951160",
   "metadata": {
    "execution": {
     "iopub.execute_input": "2022-02-17T00:24:01.206649Z",
     "iopub.status.busy": "2022-02-17T00:24:01.206156Z",
     "iopub.status.idle": "2022-02-17T00:24:01.220153Z",
     "shell.execute_reply": "2022-02-17T00:24:01.219747Z"
    },
    "papermill": {
     "duration": 0.044585,
     "end_time": "2022-02-17T00:24:01.220243",
     "exception": false,
     "start_time": "2022-02-17T00:24:01.175658",
     "status": "completed"
    },
    "tags": []
   },
   "outputs": [
    {
     "name": "stdout",
     "output_type": "stream",
     "text": [
      "xavier\n",
      "xavier\n",
      "xavier\n",
      "xavier\n",
      "xavier\n"
     ]
    }
   ],
   "source": [
    "layers = [Affine(\"first\", 784, 100), Relu(\"first\"), Affine(\"second\", 100, 100), Relu(\"second\"), Affine(\"third\", 100, 2), Affine(\"last\", 2, 1), Sigmoid(\"last\")]\n",
    "model_nn = Model(layers)\n",
    "model_lr = Model([Affine(\"logits\", 784, 1), Sigmoid(\"sigmoid\")])"
   ]
  },
  {
   "cell_type": "code",
   "execution_count": 20,
   "id": "6eede77a",
   "metadata": {
    "execution": {
     "iopub.execute_input": "2022-02-17T00:24:01.279224Z",
     "iopub.status.busy": "2022-02-17T00:24:01.278725Z",
     "iopub.status.idle": "2022-02-17T00:24:01.289379Z",
     "shell.execute_reply": "2022-02-17T00:24:01.288947Z"
    },
    "papermill": {
     "duration": 0.041218,
     "end_time": "2022-02-17T00:24:01.289472",
     "exception": false,
     "start_time": "2022-02-17T00:24:01.248254",
     "status": "completed"
    },
    "tags": []
   },
   "outputs": [],
   "source": [
    "nn_learner = Learner(loss, model_nn, opt, config.num_epochs)\n",
    "acc_nn = ClfCallback(nn_learner, config.bs, training_data_x , testing_data_x, training_data_y, testing_data_y)\n",
    "nn_learner.set_callbacks([acc_nn])"
   ]
  },
  {
   "cell_type": "code",
   "execution_count": 21,
   "id": "877b6cc7",
   "metadata": {
    "execution": {
     "iopub.execute_input": "2022-02-17T00:24:01.348391Z",
     "iopub.status.busy": "2022-02-17T00:24:01.347912Z",
     "iopub.status.idle": "2022-02-17T00:24:01.358670Z",
     "shell.execute_reply": "2022-02-17T00:24:01.358256Z"
    },
    "papermill": {
     "duration": 0.041326,
     "end_time": "2022-02-17T00:24:01.358761",
     "exception": false,
     "start_time": "2022-02-17T00:24:01.317435",
     "status": "completed"
    },
    "tags": []
   },
   "outputs": [],
   "source": [
    "lr_learner = Learner(loss, model_lr, opt, config.num_epochs)\n",
    "acc_lr = ClfCallback(lr_learner, config.bs, training_data_x , testing_data_x, training_data_y, testing_data_y)\n",
    "lr_learner.set_callbacks([acc_lr])"
   ]
  },
  {
   "cell_type": "code",
   "execution_count": 22,
   "id": "d9b133c3",
   "metadata": {
    "execution": {
     "iopub.execute_input": "2022-02-17T00:24:01.417489Z",
     "iopub.status.busy": "2022-02-17T00:24:01.416962Z",
     "iopub.status.idle": "2022-02-17T00:26:56.491422Z",
     "shell.execute_reply": "2022-02-17T00:26:56.491850Z"
    },
    "papermill": {
     "duration": 175.105267,
     "end_time": "2022-02-17T00:26:56.491974",
     "exception": false,
     "start_time": "2022-02-17T00:24:01.386707",
     "status": "completed"
    },
    "tags": []
   },
   "outputs": [
    {
     "name": "stdout",
     "output_type": "stream",
     "text": [
      "Epoch 0, Loss 0.2262\n",
      "Training Accuracy: 0.7642, Testing Accuracy: 0.7485\n",
      "\n"
     ]
    },
    {
     "name": "stdout",
     "output_type": "stream",
     "text": [
      "Epoch 10, Loss 0.0792\n",
      "Training Accuracy: 0.9251, Testing Accuracy: 0.9400\n",
      "\n"
     ]
    },
    {
     "name": "stdout",
     "output_type": "stream",
     "text": [
      "Epoch 20, Loss 0.0506\n",
      "Training Accuracy: 0.9478, Testing Accuracy: 0.9617\n",
      "\n"
     ]
    },
    {
     "name": "stdout",
     "output_type": "stream",
     "text": [
      "Epoch 30, Loss 0.0406\n",
      "Training Accuracy: 0.9555, Testing Accuracy: 0.9662\n",
      "\n"
     ]
    },
    {
     "name": "stdout",
     "output_type": "stream",
     "text": [
      "Epoch 40, Loss 0.0355\n",
      "Training Accuracy: 0.9606, Testing Accuracy: 0.9698\n",
      "\n"
     ]
    },
    {
     "name": "stdout",
     "output_type": "stream",
     "text": [
      "Epoch 50, Loss 0.0324\n",
      "Training Accuracy: 0.9629, Testing Accuracy: 0.9703\n",
      "\n"
     ]
    },
    {
     "name": "stdout",
     "output_type": "stream",
     "text": [
      "Epoch 60, Loss 0.0301\n",
      "Training Accuracy: 0.9649, Testing Accuracy: 0.9713\n",
      "\n"
     ]
    },
    {
     "name": "stdout",
     "output_type": "stream",
     "text": [
      "Epoch 70, Loss 0.0285\n",
      "Training Accuracy: 0.9674, Testing Accuracy: 0.9718\n",
      "\n"
     ]
    },
    {
     "name": "stdout",
     "output_type": "stream",
     "text": [
      "Epoch 80, Loss 0.0271\n",
      "Training Accuracy: 0.9684, Testing Accuracy: 0.9728\n",
      "\n"
     ]
    },
    {
     "name": "stdout",
     "output_type": "stream",
     "text": [
      "Epoch 90, Loss 0.026\n",
      "Training Accuracy: 0.9701, Testing Accuracy: 0.9728\n",
      "\n"
     ]
    },
    {
     "name": "stdout",
     "output_type": "stream",
     "text": [
      "Epoch 100, Loss 0.025\n",
      "Training Accuracy: 0.9710, Testing Accuracy: 0.9728\n",
      "\n"
     ]
    },
    {
     "name": "stdout",
     "output_type": "stream",
     "text": [
      "Epoch 110, Loss 0.0242\n",
      "Training Accuracy: 0.9725, Testing Accuracy: 0.9723\n",
      "\n"
     ]
    },
    {
     "name": "stdout",
     "output_type": "stream",
     "text": [
      "Epoch 120, Loss 0.0234\n",
      "Training Accuracy: 0.9736, Testing Accuracy: 0.9728\n",
      "\n"
     ]
    },
    {
     "name": "stdout",
     "output_type": "stream",
     "text": [
      "Epoch 130, Loss 0.0227\n",
      "Training Accuracy: 0.9742, Testing Accuracy: 0.9723\n",
      "\n"
     ]
    },
    {
     "name": "stdout",
     "output_type": "stream",
     "text": [
      "Epoch 140, Loss 0.0221\n",
      "Training Accuracy: 0.9750, Testing Accuracy: 0.9728\n",
      "\n"
     ]
    },
    {
     "name": "stdout",
     "output_type": "stream",
     "text": [
      "Epoch 150, Loss 0.0215\n",
      "Training Accuracy: 0.9752, Testing Accuracy: 0.9733\n",
      "\n"
     ]
    },
    {
     "name": "stdout",
     "output_type": "stream",
     "text": [
      "Epoch 160, Loss 0.021\n",
      "Training Accuracy: 0.9760, Testing Accuracy: 0.9728\n",
      "\n"
     ]
    },
    {
     "name": "stdout",
     "output_type": "stream",
     "text": [
      "Epoch 170, Loss 0.0205\n",
      "Training Accuracy: 0.9765, Testing Accuracy: 0.9738\n",
      "\n"
     ]
    },
    {
     "name": "stdout",
     "output_type": "stream",
     "text": [
      "Epoch 180, Loss 0.02\n",
      "Training Accuracy: 0.9770, Testing Accuracy: 0.9738\n",
      "\n"
     ]
    },
    {
     "name": "stdout",
     "output_type": "stream",
     "text": [
      "Epoch 190, Loss 0.0196\n",
      "Training Accuracy: 0.9776, Testing Accuracy: 0.9738\n",
      "\n"
     ]
    },
    {
     "name": "stdout",
     "output_type": "stream",
     "text": [
      "Epoch 200, Loss 0.0192\n",
      "Training Accuracy: 0.9786, Testing Accuracy: 0.9738\n",
      "\n"
     ]
    },
    {
     "name": "stdout",
     "output_type": "stream",
     "text": [
      "Epoch 210, Loss 0.0188\n",
      "Training Accuracy: 0.9791, Testing Accuracy: 0.9738\n",
      "\n"
     ]
    },
    {
     "name": "stdout",
     "output_type": "stream",
     "text": [
      "Epoch 220, Loss 0.0184\n",
      "Training Accuracy: 0.9797, Testing Accuracy: 0.9753\n",
      "\n"
     ]
    },
    {
     "name": "stdout",
     "output_type": "stream",
     "text": [
      "Epoch 230, Loss 0.018\n",
      "Training Accuracy: 0.9801, Testing Accuracy: 0.9753\n",
      "\n"
     ]
    },
    {
     "name": "stdout",
     "output_type": "stream",
     "text": [
      "Epoch 240, Loss 0.0176\n",
      "Training Accuracy: 0.9807, Testing Accuracy: 0.9758\n",
      "\n"
     ]
    },
    {
     "data": {
      "text/plain": [
       "0.09534925101575706"
      ]
     },
     "execution_count": 22,
     "metadata": {},
     "output_type": "execute_result"
    }
   ],
   "source": [
    "nn_learner.train_loop(dl)"
   ]
  },
  {
   "cell_type": "code",
   "execution_count": 23,
   "id": "e0163366",
   "metadata": {
    "execution": {
     "iopub.execute_input": "2022-02-17T00:26:56.566996Z",
     "iopub.status.busy": "2022-02-17T00:26:56.566509Z",
     "iopub.status.idle": "2022-02-17T00:27:08.757688Z",
     "shell.execute_reply": "2022-02-17T00:27:08.758093Z"
    },
    "papermill": {
     "duration": 12.230922,
     "end_time": "2022-02-17T00:27:08.758218",
     "exception": false,
     "start_time": "2022-02-17T00:26:56.527296",
     "status": "completed"
    },
    "tags": []
   },
   "outputs": [
    {
     "name": "stdout",
     "output_type": "stream",
     "text": [
      "Epoch 0, Loss 0.213\n",
      "Training Accuracy: 0.7493, Testing Accuracy: 0.7772\n",
      "\n"
     ]
    },
    {
     "name": "stdout",
     "output_type": "stream",
     "text": [
      "Epoch 10, Loss 0.1035\n",
      "Training Accuracy: 0.9060, Testing Accuracy: 0.9128\n",
      "\n"
     ]
    },
    {
     "name": "stdout",
     "output_type": "stream",
     "text": [
      "Epoch 20, Loss 0.0794\n",
      "Training Accuracy: 0.9283, Testing Accuracy: 0.9355\n",
      "\n"
     ]
    },
    {
     "name": "stdout",
     "output_type": "stream",
     "text": [
      "Epoch 30, Loss 0.0681\n",
      "Training Accuracy: 0.9375, Testing Accuracy: 0.9466\n",
      "\n"
     ]
    },
    {
     "name": "stdout",
     "output_type": "stream",
     "text": [
      "Epoch 40, Loss 0.0613\n",
      "Training Accuracy: 0.9419, Testing Accuracy: 0.9506\n",
      "\n"
     ]
    },
    {
     "name": "stdout",
     "output_type": "stream",
     "text": [
      "Epoch 50, Loss 0.0568\n",
      "Training Accuracy: 0.9460, Testing Accuracy: 0.9521\n",
      "\n"
     ]
    },
    {
     "name": "stdout",
     "output_type": "stream",
     "text": [
      "Epoch 60, Loss 0.0535\n",
      "Training Accuracy: 0.9484, Testing Accuracy: 0.9546\n",
      "\n"
     ]
    },
    {
     "name": "stdout",
     "output_type": "stream",
     "text": [
      "Epoch 70, Loss 0.051\n",
      "Training Accuracy: 0.9498, Testing Accuracy: 0.9572\n",
      "\n"
     ]
    },
    {
     "name": "stdout",
     "output_type": "stream",
     "text": [
      "Epoch 80, Loss 0.0489\n",
      "Training Accuracy: 0.9515, Testing Accuracy: 0.9582\n",
      "\n"
     ]
    },
    {
     "name": "stdout",
     "output_type": "stream",
     "text": [
      "Epoch 90, Loss 0.0473\n",
      "Training Accuracy: 0.9522, Testing Accuracy: 0.9602\n",
      "\n"
     ]
    },
    {
     "name": "stdout",
     "output_type": "stream",
     "text": [
      "Epoch 100, Loss 0.0459\n",
      "Training Accuracy: 0.9532, Testing Accuracy: 0.9602\n",
      "\n"
     ]
    },
    {
     "name": "stdout",
     "output_type": "stream",
     "text": [
      "Epoch 110, Loss 0.0447\n",
      "Training Accuracy: 0.9533, Testing Accuracy: 0.9612\n",
      "\n"
     ]
    },
    {
     "name": "stdout",
     "output_type": "stream",
     "text": [
      "Epoch 120, Loss 0.0437\n",
      "Training Accuracy: 0.9546, Testing Accuracy: 0.9622\n",
      "\n"
     ]
    },
    {
     "name": "stdout",
     "output_type": "stream",
     "text": [
      "Epoch 130, Loss 0.0428\n",
      "Training Accuracy: 0.9548, Testing Accuracy: 0.9637\n",
      "\n"
     ]
    },
    {
     "name": "stdout",
     "output_type": "stream",
     "text": [
      "Epoch 140, Loss 0.042\n",
      "Training Accuracy: 0.9548, Testing Accuracy: 0.9637\n",
      "\n"
     ]
    },
    {
     "name": "stdout",
     "output_type": "stream",
     "text": [
      "Epoch 150, Loss 0.0412\n",
      "Training Accuracy: 0.9558, Testing Accuracy: 0.9642\n",
      "\n"
     ]
    },
    {
     "name": "stdout",
     "output_type": "stream",
     "text": [
      "Epoch 160, Loss 0.0406\n",
      "Training Accuracy: 0.9566, Testing Accuracy: 0.9647\n",
      "\n"
     ]
    },
    {
     "name": "stdout",
     "output_type": "stream",
     "text": [
      "Epoch 170, Loss 0.04\n",
      "Training Accuracy: 0.9574, Testing Accuracy: 0.9647\n",
      "\n"
     ]
    },
    {
     "name": "stdout",
     "output_type": "stream",
     "text": [
      "Epoch 180, Loss 0.0394\n",
      "Training Accuracy: 0.9577, Testing Accuracy: 0.9647\n",
      "\n"
     ]
    },
    {
     "name": "stdout",
     "output_type": "stream",
     "text": [
      "Epoch 190, Loss 0.0389\n",
      "Training Accuracy: 0.9580, Testing Accuracy: 0.9657\n",
      "\n"
     ]
    },
    {
     "name": "stdout",
     "output_type": "stream",
     "text": [
      "Epoch 200, Loss 0.0385\n",
      "Training Accuracy: 0.9584, Testing Accuracy: 0.9662\n",
      "\n"
     ]
    },
    {
     "name": "stdout",
     "output_type": "stream",
     "text": [
      "Epoch 210, Loss 0.038\n",
      "Training Accuracy: 0.9589, Testing Accuracy: 0.9672\n",
      "\n"
     ]
    },
    {
     "name": "stdout",
     "output_type": "stream",
     "text": [
      "Epoch 220, Loss 0.0376\n",
      "Training Accuracy: 0.9598, Testing Accuracy: 0.9667\n",
      "\n"
     ]
    },
    {
     "name": "stdout",
     "output_type": "stream",
     "text": [
      "Epoch 230, Loss 0.0372\n",
      "Training Accuracy: 0.9601, Testing Accuracy: 0.9672\n",
      "\n"
     ]
    },
    {
     "name": "stdout",
     "output_type": "stream",
     "text": [
      "Epoch 240, Loss 0.0369\n",
      "Training Accuracy: 0.9609, Testing Accuracy: 0.9672\n",
      "\n"
     ]
    },
    {
     "data": {
      "text/plain": [
       "0.04885187069198006"
      ]
     },
     "execution_count": 23,
     "metadata": {},
     "output_type": "execute_result"
    }
   ],
   "source": [
    "lr_learner.train_loop(dl)"
   ]
  },
  {
   "cell_type": "code",
   "execution_count": 24,
   "id": "ca410940",
   "metadata": {
    "execution": {
     "iopub.execute_input": "2022-02-17T00:27:08.846950Z",
     "iopub.status.busy": "2022-02-17T00:27:08.846434Z",
     "iopub.status.idle": "2022-02-17T00:27:09.070210Z",
     "shell.execute_reply": "2022-02-17T00:27:09.069781Z"
    },
    "papermill": {
     "duration": 0.26967,
     "end_time": "2022-02-17T00:27:09.070314",
     "exception": false,
     "start_time": "2022-02-17T00:27:08.800644",
     "status": "completed"
    },
    "tags": []
   },
   "outputs": [
    {
     "data": {
      "text/plain": [
       "<matplotlib.legend.Legend at 0x7fde8c854d30>"
      ]
     },
     "execution_count": 24,
     "metadata": {},
     "output_type": "execute_result"
    },
    {
     "data": {
      "image/png": "[encoded data removed]",
      "text/plain": [
       "<Figure size 1080x720 with 1 Axes>"
      ]
     },
     "metadata": {
      "needs_background": "light"
     },
     "output_type": "display_data"
    }
   ],
   "source": [
    "#comparing the results of NN and LR\n",
    "plt.figure(figsize=(15,10))\n",
    "\n",
    "# Neural Network plots\n",
    "plt.plot(acc_nn.accuracies, 'r-', label = \"Training Accuracies - NN\")\n",
    "plt.plot(acc_nn.test_accuracies, 'g-', label = \"Testing Accuracies - NN\")\n",
    "\n",
    "# Logistic Regression plots\n",
    "plt.plot(acc_lr.accuracies, 'k-', label = \"Training Accuracies - LR\")\n",
    "plt.plot(acc_lr.test_accuracies, 'b-', label = \"Testing Accuracies - LR\")\n",
    "plt.legend()"
   ]
  },
  {
   "cell_type": "markdown",
   "id": "80dfb35c",
   "metadata": {
    "papermill": {
     "duration": 0.043365,
     "end_time": "2022-02-17T00:27:09.157296",
     "exception": false,
     "start_time": "2022-02-17T00:27:09.113931",
     "status": "completed"
    },
    "tags": []
   },
   "source": [
    "#### Plotting the outputs of this layer of the NN.\n"
   ]
  },
  {
   "cell_type": "code",
   "execution_count": 25,
   "id": "45eb2ff5",
   "metadata": {
    "execution": {
     "iopub.execute_input": "2022-02-17T00:27:09.248709Z",
     "iopub.status.busy": "2022-02-17T00:27:09.247653Z",
     "iopub.status.idle": "2022-02-17T00:27:09.281939Z",
     "shell.execute_reply": "2022-02-17T00:27:09.282634Z"
    },
    "papermill": {
     "duration": 0.082144,
     "end_time": "2022-02-17T00:27:09.282763",
     "exception": false,
     "start_time": "2022-02-17T00:27:09.200619",
     "status": "completed"
    },
    "tags": []
   },
   "outputs": [],
   "source": [
    "new_model = Model(layers[:-2])\n",
    "testing_plot = new_model(testing_data_x)"
   ]
  },
  {
   "cell_type": "code",
   "execution_count": 26,
   "id": "4c0a5485",
   "metadata": {
    "execution": {
     "iopub.execute_input": "2022-02-17T00:27:09.379757Z",
     "iopub.status.busy": "2022-02-17T00:27:09.378099Z",
     "iopub.status.idle": "2022-02-17T00:27:09.589724Z",
     "shell.execute_reply": "2022-02-17T00:27:09.590115Z"
    },
    "papermill": {
     "duration": 0.263648,
     "end_time": "2022-02-17T00:27:09.590243",
     "exception": false,
     "start_time": "2022-02-17T00:27:09.326595",
     "status": "completed"
    },
    "tags": []
   },
   "outputs": [
    {
     "data": {
      "text/plain": [
       "Text(0.5, 1.0, 'Outputs')"
      ]
     },
     "execution_count": 26,
     "metadata": {},
     "output_type": "execute_result"
    },
    {
     "data": {
      "image/png": "[encoded data removed]",
      "text/plain": [
       "<Figure size 576x504 with 1 Axes>"
      ]
     },
     "metadata": {
      "needs_background": "light"
     },
     "output_type": "display_data"
    }
   ],
   "source": [
    "# Plotting the scatter plot of points and color coding by class\n",
    "plt.figure(figsize=(8,7))\n",
    "plt.scatter(testing_plot[:,0], testing_plot[:,1], alpha = 0.1, c = y_test.ravel());\n",
    "plt.title('Outputs')"
   ]
  },
  {
   "cell_type": "markdown",
   "id": "a74fcf8f",
   "metadata": {
    "papermill": {
     "duration": 0.066322,
     "end_time": "2022-02-17T00:27:09.703051",
     "exception": false,
     "start_time": "2022-02-17T00:27:09.636729",
     "status": "completed"
    },
    "tags": []
   },
   "source": [
    "Probability contours"
   ]
  },
  {
   "cell_type": "code",
   "execution_count": 27,
   "id": "d0afc8e3",
   "metadata": {
    "execution": {
     "iopub.execute_input": "2022-02-17T00:27:09.798835Z",
     "iopub.status.busy": "2022-02-17T00:27:09.798347Z",
     "iopub.status.idle": "2022-02-17T00:27:09.809385Z",
     "shell.execute_reply": "2022-02-17T00:27:09.808984Z"
    },
    "papermill": {
     "duration": 0.060038,
     "end_time": "2022-02-17T00:27:09.809483",
     "exception": false,
     "start_time": "2022-02-17T00:27:09.749445",
     "status": "completed"
    },
    "tags": []
   },
   "outputs": [],
   "source": [
    "model_prob = Model(layers[-2:]) "
   ]
  },
  {
   "cell_type": "code",
   "execution_count": 28,
   "id": "9b96e238",
   "metadata": {
    "execution": {
     "iopub.execute_input": "2022-02-17T00:27:09.905298Z",
     "iopub.status.busy": "2022-02-17T00:27:09.904778Z",
     "iopub.status.idle": "2022-02-17T00:27:09.916155Z",
     "shell.execute_reply": "2022-02-17T00:27:09.916554Z"
    },
    "papermill": {
     "duration": 0.061136,
     "end_time": "2022-02-17T00:27:09.916708",
     "exception": false,
     "start_time": "2022-02-17T00:27:09.855572",
     "status": "completed"
    },
    "tags": []
   },
   "outputs": [],
   "source": [
    "#creating the x and y ranges according to the above generated plot.\n",
    "x_range = np.linspace(-4, 1, 100) \n",
    "y_range = np.linspace(-6, 6, 100) \n",
    "x_grid, y_grid = np.meshgrid(x_range, y_range) # x_grid and y_grig are of size 100 X 100\n",
    "\n",
    "# converting x_grid and y_grid to continuous arrays\n",
    "x_gridflat = np.ravel(x_grid)\n",
    "y_gridflat = np.ravel(y_grid)\n",
    "\n",
    "# The last layer of the current model takes two columns as input. Hence transpose of np.vstack() is required.\n",
    "X = np.vstack((x_gridflat, y_gridflat)).T\n",
    "\n",
    "prob_contour = model_prob(X).reshape(100,100) "
   ]
  },
  {
   "cell_type": "code",
   "execution_count": 29,
   "id": "da72499a",
   "metadata": {
    "execution": {
     "iopub.execute_input": "2022-02-17T00:27:10.014331Z",
     "iopub.status.busy": "2022-02-17T00:27:10.012672Z",
     "iopub.status.idle": "2022-02-17T00:27:10.262548Z",
     "shell.execute_reply": "2022-02-17T00:27:10.262130Z"
    },
    "papermill": {
     "duration": 0.298896,
     "end_time": "2022-02-17T00:27:10.262657",
     "exception": false,
     "start_time": "2022-02-17T00:27:09.963761",
     "status": "completed"
    },
    "tags": []
   },
   "outputs": [
    {
     "data": {
      "image/png": "[encoded data removed]",
      "text/plain": [
       "<Figure size 720x648 with 1 Axes>"
      ]
     },
     "metadata": {
      "needs_background": "light"
     },
     "output_type": "display_data"
    }
   ],
   "source": [
    "plt.figure(figsize=(10,9))\n",
    "plt.scatter(testing_plot[:,0], testing_plot[:,1], alpha = 0.1, c = y_test.ravel())\n",
    "contours = plt.contour(x_grid,y_grid,prob_contour)\n",
    "plt.title('Probability Contours')\n",
    "plt.clabel(contours, inline = True );"
   ]
  },
  {
   "cell_type": "code",
   "execution_count": null,
   "id": "e81b4ac7",
   "metadata": {
    "papermill": {
     "duration": 0.048788,
     "end_time": "2022-02-17T00:27:10.360569",
     "exception": false,
     "start_time": "2022-02-17T00:27:10.311781",
     "status": "completed"
    },
    "tags": []
   },
   "outputs": [],
   "source": []
  }
 ],
 "metadata": {
  "kernelspec": {
   "display_name": "Python 3",
   "language": "python",
   "name": "python3"
  },
  "language_info": {
   "codemirror_mode": {
    "name": "ipython",
    "version": 3
   },
   "file_extension": ".py",
   "mimetype": "text/x-python",
   "name": "python",
   "nbconvert_exporter": "python",
   "pygments_lexer": "ipython3",
   "version": "3.6.15"
  },
  "papermill": {
   "default_parameters": {},
   "duration": 195.367794,
   "end_time": "2022-02-17T00:27:10.727990",
   "environment_variables": {},
   "exception": null,
   "input_path": "2020-08-11-part2.ipynb",
   "output_path": "2020-08-11-part2.ipynb",
   "parameters": {},
   "start_time": "2022-02-17T00:23:55.360196",
   "version": "2.3.3"
  }
 },
 "nbformat": 4,
 "nbformat_minor": 5
}