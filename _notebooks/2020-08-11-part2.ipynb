{
 "cells": [
  {
   "cell_type": "markdown",
   "id": "98380cd3",
   "metadata": {
    "papermill": {
     "duration": 0.037348,
     "end_time": "2022-08-25T20:11:13.920216",
     "exception": false,
     "start_time": "2022-08-25T20:11:13.882868",
     "status": "completed"
    },
    "tags": []
   },
   "source": [
    "# Distinguish Your Own Digits (DYOD)"
   ]
  },
  {
   "cell_type": "markdown",
   "id": "ef31240d",
   "metadata": {
    "papermill": {
     "duration": 0.029517,
     "end_time": "2022-08-25T20:11:13.980116",
     "exception": false,
     "start_time": "2022-08-25T20:11:13.950599",
     "status": "completed"
    },
    "tags": []
   },
   "source": [
    "You are going to write a classifier that distinguishes between the number 3 and number 8."
   ]
  },
  {
   "cell_type": "code",
   "execution_count": 1,
   "id": "b15c8646",
   "metadata": {
    "execution": {
     "iopub.execute_input": "2022-08-25T20:11:14.054964Z",
     "iopub.status.busy": "2022-08-25T20:11:14.054198Z",
     "iopub.status.idle": "2022-08-25T20:11:14.067662Z",
     "shell.execute_reply": "2022-08-25T20:11:14.067028Z"
    },
    "papermill": {
     "duration": 0.057539,
     "end_time": "2022-08-25T20:11:14.067861",
     "exception": false,
     "start_time": "2022-08-25T20:11:14.010322",
     "status": "completed"
    },
    "tags": []
   },
   "outputs": [],
   "source": [
    "%load_ext autoreload\n",
    "%autoreload 2"
   ]
  },
  {
   "cell_type": "code",
   "execution_count": 2,
   "id": "22ef38dc",
   "metadata": {
    "execution": {
     "iopub.execute_input": "2022-08-25T20:11:14.133661Z",
     "iopub.status.busy": "2022-08-25T20:11:14.132907Z",
     "iopub.status.idle": "2022-08-25T20:11:14.802278Z",
     "shell.execute_reply": "2022-08-25T20:11:14.801651Z"
    },
    "papermill": {
     "duration": 0.704985,
     "end_time": "2022-08-25T20:11:14.802430",
     "exception": false,
     "start_time": "2022-08-25T20:11:14.097445",
     "status": "completed"
    },
    "tags": []
   },
   "outputs": [],
   "source": [
    "%matplotlib inline\n",
    "import numpy as np\n",
    "import matplotlib.pyplot as plt\n",
    "import pandas as pd"
   ]
  },
  {
   "cell_type": "markdown",
   "id": "ba036198",
   "metadata": {
    "papermill": {
     "duration": 0.029464,
     "end_time": "2022-08-25T20:11:14.865270",
     "exception": false,
     "start_time": "2022-08-25T20:11:14.835806",
     "status": "completed"
    },
    "tags": []
   },
   "source": [
    "From the command line run `pip install mnist`. This is a library that will help you bring down the mnist dataset. If you run this from a notebook, you need to put  `!pip install mnist` in a cell by itself."
   ]
  },
  {
   "cell_type": "code",
   "execution_count": 3,
   "id": "bb6ad8a1",
   "metadata": {
    "execution": {
     "iopub.execute_input": "2022-08-25T20:11:14.928311Z",
     "iopub.status.busy": "2022-08-25T20:11:14.927512Z",
     "iopub.status.idle": "2022-08-25T20:11:16.870398Z",
     "shell.execute_reply": "2022-08-25T20:11:16.871643Z"
    },
    "papermill": {
     "duration": 1.977708,
     "end_time": "2022-08-25T20:11:16.871848",
     "exception": false,
     "start_time": "2022-08-25T20:11:14.894140",
     "status": "completed"
    },
    "tags": []
   },
   "outputs": [
    {
     "name": "stdout",
     "output_type": "stream",
     "text": [
      "Collecting mnist\r\n"
     ]
    },
    {
     "name": "stdout",
     "output_type": "stream",
     "text": [
      "  Downloading mnist-0.2.2-py2.py3-none-any.whl (3.5 kB)\r\n",
      "Requirement already satisfied: numpy in /opt/hostedtoolcache/Python/3.6.15/x64/lib/python3.6/site-packages (from mnist) (1.19.5)\r\n"
     ]
    },
    {
     "name": "stdout",
     "output_type": "stream",
     "text": [
      "Installing collected packages: mnist\r\n"
     ]
    },
    {
     "name": "stdout",
     "output_type": "stream",
     "text": [
      "Successfully installed mnist-0.2.2\r\n"
     ]
    }
   ],
   "source": [
    "!pip install mnist"
   ]
  },
  {
   "cell_type": "markdown",
   "id": "69df9c9a",
   "metadata": {
    "papermill": {
     "duration": 0.030613,
     "end_time": "2022-08-25T20:11:16.932781",
     "exception": false,
     "start_time": "2022-08-25T20:11:16.902168",
     "status": "completed"
    },
    "tags": []
   },
   "source": [
    "## Preparing the Data"
   ]
  },
  {
   "cell_type": "code",
   "execution_count": 4,
   "id": "7f69d806",
   "metadata": {
    "execution": {
     "iopub.execute_input": "2022-08-25T20:11:17.001087Z",
     "iopub.status.busy": "2022-08-25T20:11:16.997164Z",
     "iopub.status.idle": "2022-08-25T20:11:17.018376Z",
     "shell.execute_reply": "2022-08-25T20:11:17.017551Z"
    },
    "papermill": {
     "duration": 0.055659,
     "end_time": "2022-08-25T20:11:17.018574",
     "exception": false,
     "start_time": "2022-08-25T20:11:16.962915",
     "status": "completed"
    },
    "tags": []
   },
   "outputs": [],
   "source": [
    "import mnist"
   ]
  },
  {
   "cell_type": "code",
   "execution_count": 5,
   "id": "a411e44f",
   "metadata": {
    "execution": {
     "iopub.execute_input": "2022-08-25T20:11:17.092950Z",
     "iopub.status.busy": "2022-08-25T20:11:17.091254Z",
     "iopub.status.idle": "2022-08-25T20:11:17.696210Z",
     "shell.execute_reply": "2022-08-25T20:11:17.696813Z"
    },
    "papermill": {
     "duration": 0.642044,
     "end_time": "2022-08-25T20:11:17.696980",
     "exception": false,
     "start_time": "2022-08-25T20:11:17.054936",
     "status": "completed"
    },
    "tags": []
   },
   "outputs": [],
   "source": [
    "train_images = mnist.train_images()\n",
    "train_labels = mnist.train_labels()"
   ]
  },
  {
   "cell_type": "code",
   "execution_count": 6,
   "id": "dceab3a5",
   "metadata": {
    "execution": {
     "iopub.execute_input": "2022-08-25T20:11:17.768823Z",
     "iopub.status.busy": "2022-08-25T20:11:17.764675Z",
     "iopub.status.idle": "2022-08-25T20:11:17.784050Z",
     "shell.execute_reply": "2022-08-25T20:11:17.784713Z"
    },
    "papermill": {
     "duration": 0.056997,
     "end_time": "2022-08-25T20:11:17.784887",
     "exception": false,
     "start_time": "2022-08-25T20:11:17.727890",
     "status": "completed"
    },
    "tags": []
   },
   "outputs": [
    {
     "data": {
      "text/plain": [
       "((60000, 28, 28), (60000,))"
      ]
     },
     "execution_count": 6,
     "metadata": {},
     "output_type": "execute_result"
    }
   ],
   "source": [
    "train_images.shape, train_labels.shape"
   ]
  },
  {
   "cell_type": "code",
   "execution_count": 7,
   "id": "f50dc2bb",
   "metadata": {
    "execution": {
     "iopub.execute_input": "2022-08-25T20:11:17.857516Z",
     "iopub.status.busy": "2022-08-25T20:11:17.854457Z",
     "iopub.status.idle": "2022-08-25T20:11:18.021532Z",
     "shell.execute_reply": "2022-08-25T20:11:18.020906Z"
    },
    "papermill": {
     "duration": 0.204868,
     "end_time": "2022-08-25T20:11:18.021673",
     "exception": false,
     "start_time": "2022-08-25T20:11:17.816805",
     "status": "completed"
    },
    "tags": []
   },
   "outputs": [],
   "source": [
    "test_images = mnist.test_images()\n",
    "test_labels = mnist.test_labels()"
   ]
  },
  {
   "cell_type": "code",
   "execution_count": 8,
   "id": "fc38cf1b",
   "metadata": {
    "execution": {
     "iopub.execute_input": "2022-08-25T20:11:18.092777Z",
     "iopub.status.busy": "2022-08-25T20:11:18.087950Z",
     "iopub.status.idle": "2022-08-25T20:11:18.107521Z",
     "shell.execute_reply": "2022-08-25T20:11:18.106927Z"
    },
    "papermill": {
     "duration": 0.054659,
     "end_time": "2022-08-25T20:11:18.107660",
     "exception": false,
     "start_time": "2022-08-25T20:11:18.053001",
     "status": "completed"
    },
    "tags": []
   },
   "outputs": [
    {
     "data": {
      "text/plain": [
       "((10000, 28, 28), (10000,))"
      ]
     },
     "execution_count": 8,
     "metadata": {},
     "output_type": "execute_result"
    }
   ],
   "source": [
    "test_images.shape, test_labels.shape"
   ]
  },
  {
   "cell_type": "code",
   "execution_count": 9,
   "id": "f9ed8fe0",
   "metadata": {
    "execution": {
     "iopub.execute_input": "2022-08-25T20:11:18.185079Z",
     "iopub.status.busy": "2022-08-25T20:11:18.180794Z",
     "iopub.status.idle": "2022-08-25T20:11:18.352809Z",
     "shell.execute_reply": "2022-08-25T20:11:18.352059Z"
    },
    "papermill": {
     "duration": 0.214367,
     "end_time": "2022-08-25T20:11:18.352948",
     "exception": false,
     "start_time": "2022-08-25T20:11:18.138581",
     "status": "completed"
    },
    "tags": []
   },
   "outputs": [
    {
     "name": "stdout",
     "output_type": "stream",
     "text": [
      "2\n"
     ]
    },
    {
     "data": {
      "text/plain": [
       "<matplotlib.image.AxesImage at 0x7f26ae0e59e8>"
      ]
     },
     "execution_count": 9,
     "metadata": {},
     "output_type": "execute_result"
    },
    {
     "data": {
      "image/png": "[encoded data removed]",
      "text/plain": [
       "<Figure size 432x288 with 1 Axes>"
      ]
     },
     "metadata": {
      "needs_background": "light"
     },
     "output_type": "display_data"
    }
   ],
   "source": [
    "image_index = 7776 # You may select anything up to 60,000\n",
    "print(train_labels[image_index]) \n",
    "plt.imshow(train_images[image_index], cmap='Greys')"
   ]
  },
  {
   "cell_type": "markdown",
   "id": "a8d2388d",
   "metadata": {
    "papermill": {
     "duration": 0.032102,
     "end_time": "2022-08-25T20:11:18.417410",
     "exception": false,
     "start_time": "2022-08-25T20:11:18.385308",
     "status": "completed"
    },
    "tags": []
   },
   "source": [
    "## Filter data to get 3 and 8 out"
   ]
  },
  {
   "cell_type": "code",
   "execution_count": 10,
   "id": "776f7fc7",
   "metadata": {
    "execution": {
     "iopub.execute_input": "2022-08-25T20:11:18.492832Z",
     "iopub.status.busy": "2022-08-25T20:11:18.490333Z",
     "iopub.status.idle": "2022-08-25T20:11:18.514295Z",
     "shell.execute_reply": "2022-08-25T20:11:18.513586Z"
    },
    "papermill": {
     "duration": 0.064791,
     "end_time": "2022-08-25T20:11:18.514454",
     "exception": false,
     "start_time": "2022-08-25T20:11:18.449663",
     "status": "completed"
    },
    "tags": []
   },
   "outputs": [],
   "source": [
    "train_filter = np.where((train_labels == 3 ) | (train_labels == 8))\n",
    "test_filter = np.where((test_labels == 3) | (test_labels == 8))\n",
    "X_train, y_train = train_images[train_filter], train_labels[train_filter]\n",
    "X_test, y_test = test_images[test_filter], test_labels[test_filter]"
   ]
  },
  {
   "cell_type": "markdown",
   "id": "948f0b7e",
   "metadata": {
    "papermill": {
     "duration": 0.032156,
     "end_time": "2022-08-25T20:11:18.579315",
     "exception": false,
     "start_time": "2022-08-25T20:11:18.547159",
     "status": "completed"
    },
    "tags": []
   },
   "source": [
    "We normalize the pizel values in the 0 to 1 range"
   ]
  },
  {
   "cell_type": "code",
   "execution_count": 11,
   "id": "ee4c2166",
   "metadata": {
    "execution": {
     "iopub.execute_input": "2022-08-25T20:11:18.648997Z",
     "iopub.status.busy": "2022-08-25T20:11:18.648284Z",
     "iopub.status.idle": "2022-08-25T20:11:18.712149Z",
     "shell.execute_reply": "2022-08-25T20:11:18.711430Z"
    },
    "papermill": {
     "duration": 0.100979,
     "end_time": "2022-08-25T20:11:18.712304",
     "exception": false,
     "start_time": "2022-08-25T20:11:18.611325",
     "status": "completed"
    },
    "tags": []
   },
   "outputs": [],
   "source": [
    "X_train = X_train/255.\n",
    "X_test = X_test/255."
   ]
  },
  {
   "cell_type": "markdown",
   "id": "ddcf4fab",
   "metadata": {
    "papermill": {
     "duration": 0.032344,
     "end_time": "2022-08-25T20:11:18.777002",
     "exception": false,
     "start_time": "2022-08-25T20:11:18.744658",
     "status": "completed"
    },
    "tags": []
   },
   "source": [
    "And setup the labels as 1 (when the digit is 3) and 0 (when the digit is 8)"
   ]
  },
  {
   "cell_type": "code",
   "execution_count": 12,
   "id": "7dc908f2",
   "metadata": {
    "execution": {
     "iopub.execute_input": "2022-08-25T20:11:18.851628Z",
     "iopub.status.busy": "2022-08-25T20:11:18.850894Z",
     "iopub.status.idle": "2022-08-25T20:11:18.867653Z",
     "shell.execute_reply": "2022-08-25T20:11:18.868299Z"
    },
    "papermill": {
     "duration": 0.059226,
     "end_time": "2022-08-25T20:11:18.868463",
     "exception": false,
     "start_time": "2022-08-25T20:11:18.809237",
     "status": "completed"
    },
    "tags": []
   },
   "outputs": [],
   "source": [
    "y_train = 1*(y_train==3)\n",
    "y_test = 1*(y_test==3)"
   ]
  },
  {
   "cell_type": "code",
   "execution_count": 13,
   "id": "01e4e969",
   "metadata": {
    "execution": {
     "iopub.execute_input": "2022-08-25T20:11:18.939123Z",
     "iopub.status.busy": "2022-08-25T20:11:18.938379Z",
     "iopub.status.idle": "2022-08-25T20:11:18.958475Z",
     "shell.execute_reply": "2022-08-25T20:11:18.957877Z"
    },
    "papermill": {
     "duration": 0.057708,
     "end_time": "2022-08-25T20:11:18.958614",
     "exception": false,
     "start_time": "2022-08-25T20:11:18.900906",
     "status": "completed"
    },
    "tags": []
   },
   "outputs": [
    {
     "data": {
      "text/plain": [
       "((11982, 28, 28), (1984, 28, 28))"
      ]
     },
     "execution_count": 13,
     "metadata": {},
     "output_type": "execute_result"
    }
   ],
   "source": [
    "X_train.shape, X_test.shape"
   ]
  },
  {
   "cell_type": "markdown",
   "id": "5ccf3f85",
   "metadata": {
    "papermill": {
     "duration": 0.033415,
     "end_time": "2022-08-25T20:11:19.024538",
     "exception": false,
     "start_time": "2022-08-25T20:11:18.991123",
     "status": "completed"
    },
    "tags": []
   },
   "source": [
    "We reshape the data to flatten the image pixels into a set of features or co-variates:"
   ]
  },
  {
   "cell_type": "code",
   "execution_count": 14,
   "id": "5286a4a3",
   "metadata": {
    "execution": {
     "iopub.execute_input": "2022-08-25T20:11:19.099327Z",
     "iopub.status.busy": "2022-08-25T20:11:19.098596Z",
     "iopub.status.idle": "2022-08-25T20:11:19.115279Z",
     "shell.execute_reply": "2022-08-25T20:11:19.115833Z"
    },
    "papermill": {
     "duration": 0.058462,
     "end_time": "2022-08-25T20:11:19.116003",
     "exception": false,
     "start_time": "2022-08-25T20:11:19.057541",
     "status": "completed"
    },
    "tags": []
   },
   "outputs": [
    {
     "data": {
      "text/plain": [
       "((11982, 784), (1984, 784))"
      ]
     },
     "execution_count": 14,
     "metadata": {},
     "output_type": "execute_result"
    }
   ],
   "source": [
    "X_train = X_train.reshape(X_train.shape[0], -1)\n",
    "X_test = X_test.reshape(X_test.shape[0], -1)\n",
    "X_train.shape, X_test.shape"
   ]
  },
  {
   "cell_type": "code",
   "execution_count": 15,
   "id": "73c5f88a",
   "metadata": {
    "execution": {
     "iopub.execute_input": "2022-08-25T20:11:19.188800Z",
     "iopub.status.busy": "2022-08-25T20:11:19.188075Z",
     "iopub.status.idle": "2022-08-25T20:11:19.211241Z",
     "shell.execute_reply": "2022-08-25T20:11:19.210500Z"
    },
    "papermill": {
     "duration": 0.062445,
     "end_time": "2022-08-25T20:11:19.211384",
     "exception": false,
     "start_time": "2022-08-25T20:11:19.148939",
     "status": "completed"
    },
    "tags": []
   },
   "outputs": [],
   "source": [
    "#Impoting functions from 'Kudzu'\n",
    "from kudzu.model import Model\n",
    "from kudzu.train import Learner\n",
    "from kudzu.optim import GD\n",
    "from kudzu.data import Data, Sampler,Dataloader\n",
    "\n",
    "from kudzu.callbacks import AccCallback\n",
    "from kudzu.callbacks import ClfCallback\n",
    "\n",
    "from kudzu.loss import MSE\n",
    "\n",
    "from kudzu.layer import Sigmoid,Relu\n",
    "from kudzu.layer import Affine"
   ]
  },
  {
   "cell_type": "markdown",
   "id": "bc01172a",
   "metadata": {
    "papermill": {
     "duration": 0.032754,
     "end_time": "2022-08-25T20:11:19.278484",
     "exception": false,
     "start_time": "2022-08-25T20:11:19.245730",
     "status": "completed"
    },
    "tags": []
   },
   "source": [
    "### Let us create a `Config` class, to store important parameters. \n",
    "This class essentially plays the role of a dictionary."
   ]
  },
  {
   "cell_type": "code",
   "execution_count": 16,
   "id": "978281aa",
   "metadata": {
    "execution": {
     "iopub.execute_input": "2022-08-25T20:11:19.350475Z",
     "iopub.status.busy": "2022-08-25T20:11:19.349760Z",
     "iopub.status.idle": "2022-08-25T20:11:19.367909Z",
     "shell.execute_reply": "2022-08-25T20:11:19.368500Z"
    },
    "papermill": {
     "duration": 0.057397,
     "end_time": "2022-08-25T20:11:19.368661",
     "exception": false,
     "start_time": "2022-08-25T20:11:19.311264",
     "status": "completed"
    },
    "tags": []
   },
   "outputs": [],
   "source": [
    "class Config:\n",
    "    pass\n",
    "config = Config()\n",
    "config.lr = 0.001\n",
    "config.num_epochs = 250\n",
    "config.bs = 50"
   ]
  },
  {
   "cell_type": "markdown",
   "id": "1385fa59",
   "metadata": {
    "papermill": {
     "duration": 0.032638,
     "end_time": "2022-08-25T20:11:19.434244",
     "exception": false,
     "start_time": "2022-08-25T20:11:19.401606",
     "status": "completed"
    },
    "tags": []
   },
   "source": [
    "### Running Models with the Training data\n",
    "Details about the network layers:\n",
    "- A first affine layer has 784 inputs and does 100 affine transforms. These are followed by a Relu\n",
    "- A second affine layer has 100 inputs from the 100 activations of the past layer, and does 100 affine transforms. These are followed by a Relu\n",
    "- A third affine layer has 100 activations and does 2 affine transformations to create an embedding for visualization. There is no non-linearity here.\n",
    "- A final \"logistic regression\" which has an affine transform from 2 inputs to 1 output, which is squeezed through a sigmoid.\n"
   ]
  },
  {
   "cell_type": "code",
   "execution_count": 17,
   "id": "2b9c66db",
   "metadata": {
    "execution": {
     "iopub.execute_input": "2022-08-25T20:11:19.505960Z",
     "iopub.status.busy": "2022-08-25T20:11:19.505218Z",
     "iopub.status.idle": "2022-08-25T20:11:19.522288Z",
     "shell.execute_reply": "2022-08-25T20:11:19.521661Z"
    },
    "papermill": {
     "duration": 0.055417,
     "end_time": "2022-08-25T20:11:19.522428",
     "exception": false,
     "start_time": "2022-08-25T20:11:19.467011",
     "status": "completed"
    },
    "tags": []
   },
   "outputs": [],
   "source": [
    "data = Data(X_train, y_train.reshape(-1,1))\n",
    "sampler = Sampler(data, config.bs, shuffle=True)\n",
    "\n",
    "dl = Dataloader(data, sampler)\n",
    "\n",
    "opt = GD(config.lr)\n",
    "loss = MSE()"
   ]
  },
  {
   "cell_type": "code",
   "execution_count": 18,
   "id": "b275e4c2",
   "metadata": {
    "execution": {
     "iopub.execute_input": "2022-08-25T20:11:19.594288Z",
     "iopub.status.busy": "2022-08-25T20:11:19.593587Z",
     "iopub.status.idle": "2022-08-25T20:11:19.610096Z",
     "shell.execute_reply": "2022-08-25T20:11:19.609357Z"
    },
    "papermill": {
     "duration": 0.054809,
     "end_time": "2022-08-25T20:11:19.610236",
     "exception": false,
     "start_time": "2022-08-25T20:11:19.555427",
     "status": "completed"
    },
    "tags": []
   },
   "outputs": [],
   "source": [
    "training_data_x = X_train\n",
    "testing_data_x = X_test\n",
    "training_data_y = y_train.reshape(-1,1)\n",
    "testing_data_y = y_test.reshape(-1,1)"
   ]
  },
  {
   "cell_type": "code",
   "execution_count": 19,
   "id": "76951160",
   "metadata": {
    "execution": {
     "iopub.execute_input": "2022-08-25T20:11:19.683663Z",
     "iopub.status.busy": "2022-08-25T20:11:19.682933Z",
     "iopub.status.idle": "2022-08-25T20:11:19.722070Z",
     "shell.execute_reply": "2022-08-25T20:11:19.722617Z"
    },
    "papermill": {
     "duration": 0.079802,
     "end_time": "2022-08-25T20:11:19.722777",
     "exception": false,
     "start_time": "2022-08-25T20:11:19.642975",
     "status": "completed"
    },
    "tags": []
   },
   "outputs": [
    {
     "name": "stdout",
     "output_type": "stream",
     "text": [
      "xavier\n",
      "xavier\n",
      "xavier\n",
      "xavier\n",
      "xavier\n"
     ]
    }
   ],
   "source": [
    "layers = [Affine(\"first\", 784, 100), Relu(\"first\"), Affine(\"second\", 100, 100), Relu(\"second\"), Affine(\"third\", 100, 2), Affine(\"last\", 2, 1), Sigmoid(\"last\")]\n",
    "model_nn = Model(layers)\n",
    "model_lr = Model([Affine(\"logits\", 784, 1), Sigmoid(\"sigmoid\")])"
   ]
  },
  {
   "cell_type": "code",
   "execution_count": 20,
   "id": "6eede77a",
   "metadata": {
    "execution": {
     "iopub.execute_input": "2022-08-25T20:11:19.795556Z",
     "iopub.status.busy": "2022-08-25T20:11:19.794829Z",
     "iopub.status.idle": "2022-08-25T20:11:19.813516Z",
     "shell.execute_reply": "2022-08-25T20:11:19.814217Z"
    },
    "papermill": {
     "duration": 0.058296,
     "end_time": "2022-08-25T20:11:19.814387",
     "exception": false,
     "start_time": "2022-08-25T20:11:19.756091",
     "status": "completed"
    },
    "tags": []
   },
   "outputs": [],
   "source": [
    "nn_learner = Learner(loss, model_nn, opt, config.num_epochs)\n",
    "acc_nn = ClfCallback(nn_learner, config.bs, training_data_x , testing_data_x, training_data_y, testing_data_y)\n",
    "nn_learner.set_callbacks([acc_nn])"
   ]
  },
  {
   "cell_type": "code",
   "execution_count": 21,
   "id": "877b6cc7",
   "metadata": {
    "execution": {
     "iopub.execute_input": "2022-08-25T20:11:19.885912Z",
     "iopub.status.busy": "2022-08-25T20:11:19.885156Z",
     "iopub.status.idle": "2022-08-25T20:11:19.900508Z",
     "shell.execute_reply": "2022-08-25T20:11:19.899895Z"
    },
    "papermill": {
     "duration": 0.053034,
     "end_time": "2022-08-25T20:11:19.900657",
     "exception": false,
     "start_time": "2022-08-25T20:11:19.847623",
     "status": "completed"
    },
    "tags": []
   },
   "outputs": [],
   "source": [
    "lr_learner = Learner(loss, model_lr, opt, config.num_epochs)\n",
    "acc_lr = ClfCallback(lr_learner, config.bs, training_data_x , testing_data_x, training_data_y, testing_data_y)\n",
    "lr_learner.set_callbacks([acc_lr])"
   ]
  },
  {
   "cell_type": "code",
   "execution_count": 22,
   "id": "d9b133c3",
   "metadata": {
    "execution": {
     "iopub.execute_input": "2022-08-25T20:11:19.980679Z",
     "iopub.status.busy": "2022-08-25T20:11:19.979921Z",
     "iopub.status.idle": "2022-08-25T20:12:51.195152Z",
     "shell.execute_reply": "2022-08-25T20:12:51.196222Z"
    },
    "papermill": {
     "duration": 91.258831,
     "end_time": "2022-08-25T20:12:51.196407",
     "exception": false,
     "start_time": "2022-08-25T20:11:19.937576",
     "status": "completed"
    },
    "tags": []
   },
   "outputs": [
    {
     "name": "stdout",
     "output_type": "stream",
     "text": [
      "Epoch 0, Loss 0.252\n",
      "Training Accuracy: 0.5811, Testing Accuracy: 0.5872\n",
      "\n"
     ]
    },
    {
     "name": "stdout",
     "output_type": "stream",
     "text": [
      "Epoch 10, Loss 0.0794\n",
      "Training Accuracy: 0.9279, Testing Accuracy: 0.9309\n",
      "\n"
     ]
    },
    {
     "name": "stdout",
     "output_type": "stream",
     "text": [
      "Epoch 20, Loss 0.0504\n",
      "Training Accuracy: 0.9481, Testing Accuracy: 0.9536\n",
      "\n"
     ]
    },
    {
     "name": "stdout",
     "output_type": "stream",
     "text": [
      "Epoch 30, Loss 0.0404\n",
      "Training Accuracy: 0.9548, Testing Accuracy: 0.9612\n",
      "\n"
     ]
    },
    {
     "name": "stdout",
     "output_type": "stream",
     "text": [
      "Epoch 40, Loss 0.0353\n",
      "Training Accuracy: 0.9611, Testing Accuracy: 0.9652\n",
      "\n"
     ]
    },
    {
     "name": "stdout",
     "output_type": "stream",
     "text": [
      "Epoch 50, Loss 0.032\n",
      "Training Accuracy: 0.9644, Testing Accuracy: 0.9662\n",
      "\n"
     ]
    },
    {
     "name": "stdout",
     "output_type": "stream",
     "text": [
      "Epoch 60, Loss 0.0297\n",
      "Training Accuracy: 0.9673, Testing Accuracy: 0.9667\n",
      "\n"
     ]
    },
    {
     "name": "stdout",
     "output_type": "stream",
     "text": [
      "Epoch 70, Loss 0.028\n",
      "Training Accuracy: 0.9685, Testing Accuracy: 0.9672\n",
      "\n"
     ]
    },
    {
     "name": "stdout",
     "output_type": "stream",
     "text": [
      "Epoch 80, Loss 0.0265\n",
      "Training Accuracy: 0.9704, Testing Accuracy: 0.9688\n",
      "\n"
     ]
    },
    {
     "name": "stdout",
     "output_type": "stream",
     "text": [
      "Epoch 90, Loss 0.0253\n",
      "Training Accuracy: 0.9719, Testing Accuracy: 0.9703\n",
      "\n"
     ]
    },
    {
     "name": "stdout",
     "output_type": "stream",
     "text": [
      "Epoch 100, Loss 0.0243\n",
      "Training Accuracy: 0.9726, Testing Accuracy: 0.9703\n",
      "\n"
     ]
    },
    {
     "name": "stdout",
     "output_type": "stream",
     "text": [
      "Epoch 110, Loss 0.0234\n",
      "Training Accuracy: 0.9739, Testing Accuracy: 0.9703\n",
      "\n"
     ]
    },
    {
     "name": "stdout",
     "output_type": "stream",
     "text": [
      "Epoch 120, Loss 0.0226\n",
      "Training Accuracy: 0.9745, Testing Accuracy: 0.9698\n",
      "\n"
     ]
    },
    {
     "name": "stdout",
     "output_type": "stream",
     "text": [
      "Epoch 130, Loss 0.0219\n",
      "Training Accuracy: 0.9753, Testing Accuracy: 0.9698\n",
      "\n"
     ]
    },
    {
     "name": "stdout",
     "output_type": "stream",
     "text": [
      "Epoch 140, Loss 0.0212\n",
      "Training Accuracy: 0.9763, Testing Accuracy: 0.9698\n",
      "\n"
     ]
    },
    {
     "name": "stdout",
     "output_type": "stream",
     "text": [
      "Epoch 150, Loss 0.0206\n",
      "Training Accuracy: 0.9769, Testing Accuracy: 0.9703\n",
      "\n"
     ]
    },
    {
     "name": "stdout",
     "output_type": "stream",
     "text": [
      "Epoch 160, Loss 0.02\n",
      "Training Accuracy: 0.9781, Testing Accuracy: 0.9708\n",
      "\n"
     ]
    },
    {
     "name": "stdout",
     "output_type": "stream",
     "text": [
      "Epoch 170, Loss 0.0195\n",
      "Training Accuracy: 0.9786, Testing Accuracy: 0.9713\n",
      "\n"
     ]
    },
    {
     "name": "stdout",
     "output_type": "stream",
     "text": [
      "Epoch 180, Loss 0.019\n",
      "Training Accuracy: 0.9791, Testing Accuracy: 0.9713\n",
      "\n"
     ]
    },
    {
     "name": "stdout",
     "output_type": "stream",
     "text": [
      "Epoch 190, Loss 0.0185\n",
      "Training Accuracy: 0.9795, Testing Accuracy: 0.9718\n",
      "\n"
     ]
    },
    {
     "name": "stdout",
     "output_type": "stream",
     "text": [
      "Epoch 200, Loss 0.018\n",
      "Training Accuracy: 0.9801, Testing Accuracy: 0.9728\n",
      "\n"
     ]
    },
    {
     "name": "stdout",
     "output_type": "stream",
     "text": [
      "Epoch 210, Loss 0.0176\n",
      "Training Accuracy: 0.9805, Testing Accuracy: 0.9728\n",
      "\n"
     ]
    },
    {
     "name": "stdout",
     "output_type": "stream",
     "text": [
      "Epoch 220, Loss 0.0172\n",
      "Training Accuracy: 0.9810, Testing Accuracy: 0.9733\n",
      "\n"
     ]
    },
    {
     "name": "stdout",
     "output_type": "stream",
     "text": [
      "Epoch 230, Loss 0.0168\n",
      "Training Accuracy: 0.9813, Testing Accuracy: 0.9733\n",
      "\n"
     ]
    },
    {
     "name": "stdout",
     "output_type": "stream",
     "text": [
      "Epoch 240, Loss 0.0164\n",
      "Training Accuracy: 0.9819, Testing Accuracy: 0.9738\n",
      "\n"
     ]
    },
    {
     "data": {
      "text/plain": [
       "0.007419588781835863"
      ]
     },
     "execution_count": 22,
     "metadata": {},
     "output_type": "execute_result"
    }
   ],
   "source": [
    "nn_learner.train_loop(dl)"
   ]
  },
  {
   "cell_type": "code",
   "execution_count": 23,
   "id": "e0163366",
   "metadata": {
    "execution": {
     "iopub.execute_input": "2022-08-25T20:12:51.289849Z",
     "iopub.status.busy": "2022-08-25T20:12:51.289110Z",
     "iopub.status.idle": "2022-08-25T20:13:07.643418Z",
     "shell.execute_reply": "2022-08-25T20:13:07.644479Z"
    },
    "papermill": {
     "duration": 16.405609,
     "end_time": "2022-08-25T20:13:07.644649",
     "exception": false,
     "start_time": "2022-08-25T20:12:51.239040",
     "status": "completed"
    },
    "tags": []
   },
   "outputs": [
    {
     "name": "stdout",
     "output_type": "stream",
     "text": [
      "Epoch 0, Loss 0.2503\n",
      "Training Accuracy: 0.6570, Testing Accuracy: 0.6457\n",
      "\n"
     ]
    },
    {
     "name": "stdout",
     "output_type": "stream",
     "text": [
      "Epoch 10, Loss 0.1031\n",
      "Training Accuracy: 0.9132, Testing Accuracy: 0.9189\n",
      "\n"
     ]
    },
    {
     "name": "stdout",
     "output_type": "stream",
     "text": [
      "Epoch 20, Loss 0.079\n",
      "Training Accuracy: 0.9297, Testing Accuracy: 0.9405\n",
      "\n"
     ]
    },
    {
     "name": "stdout",
     "output_type": "stream",
     "text": [
      "Epoch 30, Loss 0.068\n",
      "Training Accuracy: 0.9384, Testing Accuracy: 0.9506\n",
      "\n"
     ]
    },
    {
     "name": "stdout",
     "output_type": "stream",
     "text": [
      "Epoch 40, Loss 0.0614\n",
      "Training Accuracy: 0.9428, Testing Accuracy: 0.9536\n",
      "\n"
     ]
    },
    {
     "name": "stdout",
     "output_type": "stream",
     "text": [
      "Epoch 50, Loss 0.057\n",
      "Training Accuracy: 0.9450, Testing Accuracy: 0.9592\n",
      "\n"
     ]
    },
    {
     "name": "stdout",
     "output_type": "stream",
     "text": [
      "Epoch 60, Loss 0.0537\n",
      "Training Accuracy: 0.9478, Testing Accuracy: 0.9607\n",
      "\n"
     ]
    },
    {
     "name": "stdout",
     "output_type": "stream",
     "text": [
      "Epoch 70, Loss 0.0511\n",
      "Training Accuracy: 0.9501, Testing Accuracy: 0.9622\n",
      "\n"
     ]
    },
    {
     "name": "stdout",
     "output_type": "stream",
     "text": [
      "Epoch 80, Loss 0.0491\n",
      "Training Accuracy: 0.9512, Testing Accuracy: 0.9622\n",
      "\n"
     ]
    },
    {
     "name": "stdout",
     "output_type": "stream",
     "text": [
      "Epoch 90, Loss 0.0474\n",
      "Training Accuracy: 0.9520, Testing Accuracy: 0.9622\n",
      "\n"
     ]
    },
    {
     "name": "stdout",
     "output_type": "stream",
     "text": [
      "Epoch 100, Loss 0.046\n",
      "Training Accuracy: 0.9528, Testing Accuracy: 0.9617\n",
      "\n"
     ]
    },
    {
     "name": "stdout",
     "output_type": "stream",
     "text": [
      "Epoch 110, Loss 0.0448\n",
      "Training Accuracy: 0.9538, Testing Accuracy: 0.9632\n",
      "\n"
     ]
    },
    {
     "name": "stdout",
     "output_type": "stream",
     "text": [
      "Epoch 120, Loss 0.0438\n",
      "Training Accuracy: 0.9542, Testing Accuracy: 0.9647\n",
      "\n"
     ]
    },
    {
     "name": "stdout",
     "output_type": "stream",
     "text": [
      "Epoch 130, Loss 0.0429\n",
      "Training Accuracy: 0.9553, Testing Accuracy: 0.9642\n",
      "\n"
     ]
    },
    {
     "name": "stdout",
     "output_type": "stream",
     "text": [
      "Epoch 140, Loss 0.042\n",
      "Training Accuracy: 0.9561, Testing Accuracy: 0.9647\n",
      "\n"
     ]
    },
    {
     "name": "stdout",
     "output_type": "stream",
     "text": [
      "Epoch 150, Loss 0.0413\n",
      "Training Accuracy: 0.9563, Testing Accuracy: 0.9642\n",
      "\n"
     ]
    },
    {
     "name": "stdout",
     "output_type": "stream",
     "text": [
      "Epoch 160, Loss 0.0406\n",
      "Training Accuracy: 0.9567, Testing Accuracy: 0.9642\n",
      "\n"
     ]
    },
    {
     "name": "stdout",
     "output_type": "stream",
     "text": [
      "Epoch 170, Loss 0.04\n",
      "Training Accuracy: 0.9574, Testing Accuracy: 0.9647\n",
      "\n"
     ]
    },
    {
     "name": "stdout",
     "output_type": "stream",
     "text": [
      "Epoch 180, Loss 0.0395\n",
      "Training Accuracy: 0.9579, Testing Accuracy: 0.9647\n",
      "\n"
     ]
    },
    {
     "name": "stdout",
     "output_type": "stream",
     "text": [
      "Epoch 190, Loss 0.0389\n",
      "Training Accuracy: 0.9583, Testing Accuracy: 0.9657\n",
      "\n"
     ]
    },
    {
     "name": "stdout",
     "output_type": "stream",
     "text": [
      "Epoch 200, Loss 0.0385\n",
      "Training Accuracy: 0.9587, Testing Accuracy: 0.9657\n",
      "\n"
     ]
    },
    {
     "name": "stdout",
     "output_type": "stream",
     "text": [
      "Epoch 210, Loss 0.038\n",
      "Training Accuracy: 0.9589, Testing Accuracy: 0.9662\n",
      "\n"
     ]
    },
    {
     "name": "stdout",
     "output_type": "stream",
     "text": [
      "Epoch 220, Loss 0.0376\n",
      "Training Accuracy: 0.9595, Testing Accuracy: 0.9662\n",
      "\n"
     ]
    },
    {
     "name": "stdout",
     "output_type": "stream",
     "text": [
      "Epoch 230, Loss 0.0372\n",
      "Training Accuracy: 0.9598, Testing Accuracy: 0.9667\n",
      "\n"
     ]
    },
    {
     "name": "stdout",
     "output_type": "stream",
     "text": [
      "Epoch 240, Loss 0.0369\n",
      "Training Accuracy: 0.9600, Testing Accuracy: 0.9672\n",
      "\n"
     ]
    },
    {
     "data": {
      "text/plain": [
       "0.024587345253372955"
      ]
     },
     "execution_count": 23,
     "metadata": {},
     "output_type": "execute_result"
    }
   ],
   "source": [
    "lr_learner.train_loop(dl)"
   ]
  },
  {
   "cell_type": "code",
   "execution_count": 24,
   "id": "ca410940",
   "metadata": {
    "execution": {
     "iopub.execute_input": "2022-08-25T20:13:07.754097Z",
     "iopub.status.busy": "2022-08-25T20:13:07.753355Z",
     "iopub.status.idle": "2022-08-25T20:13:08.052789Z",
     "shell.execute_reply": "2022-08-25T20:13:08.053345Z"
    },
    "papermill": {
     "duration": 0.35908,
     "end_time": "2022-08-25T20:13:08.053506",
     "exception": false,
     "start_time": "2022-08-25T20:13:07.694426",
     "status": "completed"
    },
    "tags": []
   },
   "outputs": [
    {
     "data": {
      "text/plain": [
       "<matplotlib.legend.Legend at 0x7f26adc47ef0>"
      ]
     },
     "execution_count": 24,
     "metadata": {},
     "output_type": "execute_result"
    },
    {
     "data": {
      "image/png": "[encoded data removed]",
      "text/plain": [
       "<Figure size 1080x720 with 1 Axes>"
      ]
     },
     "metadata": {
      "needs_background": "light"
     },
     "output_type": "display_data"
    }
   ],
   "source": [
    "#comparing the results of NN and LR\n",
    "plt.figure(figsize=(15,10))\n",
    "\n",
    "# Neural Network plots\n",
    "plt.plot(acc_nn.accuracies, 'r-', label = \"Training Accuracies - NN\")\n",
    "plt.plot(acc_nn.test_accuracies, 'g-', label = \"Testing Accuracies - NN\")\n",
    "\n",
    "# Logistic Regression plots\n",
    "plt.plot(acc_lr.accuracies, 'k-', label = \"Training Accuracies - LR\")\n",
    "plt.plot(acc_lr.test_accuracies, 'b-', label = \"Testing Accuracies - LR\")\n",
    "plt.legend()"
   ]
  },
  {
   "cell_type": "markdown",
   "id": "80dfb35c",
   "metadata": {
    "papermill": {
     "duration": 0.06027,
     "end_time": "2022-08-25T20:13:08.172890",
     "exception": false,
     "start_time": "2022-08-25T20:13:08.112620",
     "status": "completed"
    },
    "tags": []
   },
   "source": [
    "#### Plotting the outputs of this layer of the NN.\n"
   ]
  },
  {
   "cell_type": "code",
   "execution_count": 25,
   "id": "45eb2ff5",
   "metadata": {
    "execution": {
     "iopub.execute_input": "2022-08-25T20:13:08.286195Z",
     "iopub.status.busy": "2022-08-25T20:13:08.285395Z",
     "iopub.status.idle": "2022-08-25T20:13:08.311114Z",
     "shell.execute_reply": "2022-08-25T20:13:08.312145Z"
    },
    "papermill": {
     "duration": 0.086332,
     "end_time": "2022-08-25T20:13:08.312909",
     "exception": false,
     "start_time": "2022-08-25T20:13:08.226577",
     "status": "completed"
    },
    "tags": []
   },
   "outputs": [],
   "source": [
    "new_model = Model(layers[:-2])\n",
    "testing_plot = new_model(testing_data_x)"
   ]
  },
  {
   "cell_type": "code",
   "execution_count": 26,
   "id": "4c0a5485",
   "metadata": {
    "execution": {
     "iopub.execute_input": "2022-08-25T20:13:08.433354Z",
     "iopub.status.busy": "2022-08-25T20:13:08.432596Z",
     "iopub.status.idle": "2022-08-25T20:13:08.674944Z",
     "shell.execute_reply": "2022-08-25T20:13:08.674338Z"
    },
    "papermill": {
     "duration": 0.308675,
     "end_time": "2022-08-25T20:13:08.675091",
     "exception": false,
     "start_time": "2022-08-25T20:13:08.366416",
     "status": "completed"
    },
    "tags": []
   },
   "outputs": [
    {
     "data": {
      "text/plain": [
       "Text(0.5, 1.0, 'Outputs')"
      ]
     },
     "execution_count": 26,
     "metadata": {},
     "output_type": "execute_result"
    },
    {
     "data": {
      "image/png": "[encoded data removed]",
      "text/plain": [
       "<Figure size 576x504 with 1 Axes>"
      ]
     },
     "metadata": {
      "needs_background": "light"
     },
     "output_type": "display_data"
    }
   ],
   "source": [
    "# Plotting the scatter plot of points and color coding by class\n",
    "plt.figure(figsize=(8,7))\n",
    "plt.scatter(testing_plot[:,0], testing_plot[:,1], alpha = 0.1, c = y_test.ravel());\n",
    "plt.title('Outputs')"
   ]
  },
  {
   "cell_type": "markdown",
   "id": "a74fcf8f",
   "metadata": {
    "papermill": {
     "duration": 0.053734,
     "end_time": "2022-08-25T20:13:08.783278",
     "exception": false,
     "start_time": "2022-08-25T20:13:08.729544",
     "status": "completed"
    },
    "tags": []
   },
   "source": [
    "Probability contours"
   ]
  },
  {
   "cell_type": "code",
   "execution_count": 27,
   "id": "d0afc8e3",
   "metadata": {
    "execution": {
     "iopub.execute_input": "2022-08-25T20:13:08.932476Z",
     "iopub.status.busy": "2022-08-25T20:13:08.931148Z",
     "iopub.status.idle": "2022-08-25T20:13:08.945386Z",
     "shell.execute_reply": "2022-08-25T20:13:08.944792Z"
    },
    "papermill": {
     "duration": 0.073509,
     "end_time": "2022-08-25T20:13:08.945534",
     "exception": false,
     "start_time": "2022-08-25T20:13:08.872025",
     "status": "completed"
    },
    "tags": []
   },
   "outputs": [],
   "source": [
    "model_prob = Model(layers[-2:]) "
   ]
  },
  {
   "cell_type": "code",
   "execution_count": 28,
   "id": "9b96e238",
   "metadata": {
    "execution": {
     "iopub.execute_input": "2022-08-25T20:13:09.086500Z",
     "iopub.status.busy": "2022-08-25T20:13:09.085441Z",
     "iopub.status.idle": "2022-08-25T20:13:09.104706Z",
     "shell.execute_reply": "2022-08-25T20:13:09.104057Z"
    },
    "papermill": {
     "duration": 0.096024,
     "end_time": "2022-08-25T20:13:09.104851",
     "exception": false,
     "start_time": "2022-08-25T20:13:09.008827",
     "status": "completed"
    },
    "tags": []
   },
   "outputs": [],
   "source": [
    "#creating the x and y ranges according to the above generated plot.\n",
    "x_range = np.linspace(-4, 1, 100) \n",
    "y_range = np.linspace(-6, 6, 100) \n",
    "x_grid, y_grid = np.meshgrid(x_range, y_range) # x_grid and y_grig are of size 100 X 100\n",
    "\n",
    "# converting x_grid and y_grid to continuous arrays\n",
    "x_gridflat = np.ravel(x_grid)\n",
    "y_gridflat = np.ravel(y_grid)\n",
    "\n",
    "# The last layer of the current model takes two columns as input. Hence transpose of np.vstack() is required.\n",
    "X = np.vstack((x_gridflat, y_gridflat)).T\n",
    "\n",
    "prob_contour = model_prob(X).reshape(100,100) "
   ]
  },
  {
   "cell_type": "code",
   "execution_count": 29,
   "id": "da72499a",
   "metadata": {
    "execution": {
     "iopub.execute_input": "2022-08-25T20:13:09.228547Z",
     "iopub.status.busy": "2022-08-25T20:13:09.227720Z",
     "iopub.status.idle": "2022-08-25T20:13:09.549568Z",
     "shell.execute_reply": "2022-08-25T20:13:09.548939Z"
    },
    "papermill": {
     "duration": 0.387583,
     "end_time": "2022-08-25T20:13:09.549711",
     "exception": false,
     "start_time": "2022-08-25T20:13:09.162128",
     "status": "completed"
    },
    "tags": []
   },
   "outputs": [
    {
     "data": {
      "image/png": "[encoded data removed]",
      "text/plain": [
       "<Figure size 720x648 with 1 Axes>"
      ]
     },
     "metadata": {
      "needs_background": "light"
     },
     "output_type": "display_data"
    }
   ],
   "source": [
    "plt.figure(figsize=(10,9))\n",
    "plt.scatter(testing_plot[:,0], testing_plot[:,1], alpha = 0.1, c = y_test.ravel())\n",
    "contours = plt.contour(x_grid,y_grid,prob_contour)\n",
    "plt.title('Probability Contours')\n",
    "plt.clabel(contours, inline = True );"
   ]
  },
  {
   "cell_type": "code",
   "execution_count": null,
   "id": "e81b4ac7",
   "metadata": {
    "papermill": {
     "duration": 0.057714,
     "end_time": "2022-08-25T20:13:09.665822",
     "exception": false,
     "start_time": "2022-08-25T20:13:09.608108",
     "status": "completed"
    },
    "tags": []
   },
   "outputs": [],
   "source": []
  }
 ],
 "metadata": {
  "kernelspec": {
   "display_name": "Python 3",
   "language": "python",
   "name": "python3"
  },
  "language_info": {
   "codemirror_mode": {
    "name": "ipython",
    "version": 3
   },
   "file_extension": ".py",
   "mimetype": "text/x-python",
   "name": "python",
   "nbconvert_exporter": "python",
   "pygments_lexer": "ipython3",
   "version": "3.6.15"
  },
  "papermill": {
   "default_parameters": {},
   "duration": 117.586018,
   "end_time": "2022-08-25T20:13:10.245219",
   "environment_variables": {},
   "exception": null,
   "input_path": "2020-08-11-part2.ipynb",
   "output_path": "2020-08-11-part2.ipynb",
   "parameters": {},
   "start_time": "2022-08-25T20:11:12.659201",
   "version": "2.3.3"
  }
 },
 "nbformat": 4,
 "nbformat_minor": 5
}