{
 "cells": [
  {
   "cell_type": "markdown",
   "id": "98380cd3",
   "metadata": {
    "papermill": {
     "duration": 0.03063,
     "end_time": "2022-08-06T00:40:11.476202",
     "exception": false,
     "start_time": "2022-08-06T00:40:11.445572",
     "status": "completed"
    },
    "tags": []
   },
   "source": [
    "# Distinguish Your Own Digits (DYOD)"
   ]
  },
  {
   "cell_type": "markdown",
   "id": "ef31240d",
   "metadata": {
    "papermill": {
     "duration": 0.024482,
     "end_time": "2022-08-06T00:40:11.525682",
     "exception": false,
     "start_time": "2022-08-06T00:40:11.501200",
     "status": "completed"
    },
    "tags": []
   },
   "source": [
    "You are going to write a classifier that distinguishes between the number 3 and number 8."
   ]
  },
  {
   "cell_type": "code",
   "execution_count": 1,
   "id": "b15c8646",
   "metadata": {
    "execution": {
     "iopub.execute_input": "2022-08-06T00:40:11.585522Z",
     "iopub.status.busy": "2022-08-06T00:40:11.584909Z",
     "iopub.status.idle": "2022-08-06T00:40:11.596112Z",
     "shell.execute_reply": "2022-08-06T00:40:11.595583Z"
    },
    "papermill": {
     "duration": 0.046321,
     "end_time": "2022-08-06T00:40:11.596248",
     "exception": false,
     "start_time": "2022-08-06T00:40:11.549927",
     "status": "completed"
    },
    "tags": []
   },
   "outputs": [],
   "source": [
    "%load_ext autoreload\n",
    "%autoreload 2"
   ]
  },
  {
   "cell_type": "code",
   "execution_count": 2,
   "id": "22ef38dc",
   "metadata": {
    "execution": {
     "iopub.execute_input": "2022-08-06T00:40:11.649196Z",
     "iopub.status.busy": "2022-08-06T00:40:11.648597Z",
     "iopub.status.idle": "2022-08-06T00:40:12.190993Z",
     "shell.execute_reply": "2022-08-06T00:40:12.191536Z"
    },
    "papermill": {
     "duration": 0.571435,
     "end_time": "2022-08-06T00:40:12.191711",
     "exception": false,
     "start_time": "2022-08-06T00:40:11.620276",
     "status": "completed"
    },
    "tags": []
   },
   "outputs": [],
   "source": [
    "%matplotlib inline\n",
    "import numpy as np\n",
    "import matplotlib.pyplot as plt\n",
    "import pandas as pd"
   ]
  },
  {
   "cell_type": "markdown",
   "id": "ba036198",
   "metadata": {
    "papermill": {
     "duration": 0.024135,
     "end_time": "2022-08-06T00:40:12.240718",
     "exception": false,
     "start_time": "2022-08-06T00:40:12.216583",
     "status": "completed"
    },
    "tags": []
   },
   "source": [
    "From the command line run `pip install mnist`. This is a library that will help you bring down the mnist dataset. If you run this from a notebook, you need to put  `!pip install mnist` in a cell by itself."
   ]
  },
  {
   "cell_type": "code",
   "execution_count": 3,
   "id": "bb6ad8a1",
   "metadata": {
    "execution": {
     "iopub.execute_input": "2022-08-06T00:40:12.304787Z",
     "iopub.status.busy": "2022-08-06T00:40:12.303177Z",
     "iopub.status.idle": "2022-08-06T00:40:14.066271Z",
     "shell.execute_reply": "2022-08-06T00:40:14.065389Z"
    },
    "papermill": {
     "duration": 1.801516,
     "end_time": "2022-08-06T00:40:14.066405",
     "exception": false,
     "start_time": "2022-08-06T00:40:12.264889",
     "status": "completed"
    },
    "tags": []
   },
   "outputs": [
    {
     "name": "stdout",
     "output_type": "stream",
     "text": [
      "Collecting mnist\r\n"
     ]
    },
    {
     "name": "stdout",
     "output_type": "stream",
     "text": [
      "  Downloading mnist-0.2.2-py2.py3-none-any.whl (3.5 kB)\r\n",
      "Requirement already satisfied: numpy in /opt/hostedtoolcache/Python/3.6.15/x64/lib/python3.6/site-packages (from mnist) (1.19.5)\r\n"
     ]
    },
    {
     "name": "stdout",
     "output_type": "stream",
     "text": [
      "Installing collected packages: mnist\r\n"
     ]
    },
    {
     "name": "stdout",
     "output_type": "stream",
     "text": [
      "Successfully installed mnist-0.2.2\r\n"
     ]
    }
   ],
   "source": [
    "!pip install mnist"
   ]
  },
  {
   "cell_type": "markdown",
   "id": "69df9c9a",
   "metadata": {
    "papermill": {
     "duration": 0.025138,
     "end_time": "2022-08-06T00:40:14.117156",
     "exception": false,
     "start_time": "2022-08-06T00:40:14.092018",
     "status": "completed"
    },
    "tags": []
   },
   "source": [
    "## Preparing the Data"
   ]
  },
  {
   "cell_type": "code",
   "execution_count": 4,
   "id": "7f69d806",
   "metadata": {
    "execution": {
     "iopub.execute_input": "2022-08-06T00:40:14.177382Z",
     "iopub.status.busy": "2022-08-06T00:40:14.176721Z",
     "iopub.status.idle": "2022-08-06T00:40:14.190090Z",
     "shell.execute_reply": "2022-08-06T00:40:14.189613Z"
    },
    "papermill": {
     "duration": 0.046704,
     "end_time": "2022-08-06T00:40:14.190198",
     "exception": false,
     "start_time": "2022-08-06T00:40:14.143494",
     "status": "completed"
    },
    "tags": []
   },
   "outputs": [],
   "source": [
    "import mnist"
   ]
  },
  {
   "cell_type": "code",
   "execution_count": 5,
   "id": "a411e44f",
   "metadata": {
    "execution": {
     "iopub.execute_input": "2022-08-06T00:40:14.247611Z",
     "iopub.status.busy": "2022-08-06T00:40:14.247025Z",
     "iopub.status.idle": "2022-08-06T00:40:14.831247Z",
     "shell.execute_reply": "2022-08-06T00:40:14.830729Z"
    },
    "papermill": {
     "duration": 0.616214,
     "end_time": "2022-08-06T00:40:14.831380",
     "exception": false,
     "start_time": "2022-08-06T00:40:14.215166",
     "status": "completed"
    },
    "tags": []
   },
   "outputs": [],
   "source": [
    "train_images = mnist.train_images()\n",
    "train_labels = mnist.train_labels()"
   ]
  },
  {
   "cell_type": "code",
   "execution_count": 6,
   "id": "dceab3a5",
   "metadata": {
    "execution": {
     "iopub.execute_input": "2022-08-06T00:40:14.901231Z",
     "iopub.status.busy": "2022-08-06T00:40:14.896308Z",
     "iopub.status.idle": "2022-08-06T00:40:14.905842Z",
     "shell.execute_reply": "2022-08-06T00:40:14.906289Z"
    },
    "papermill": {
     "duration": 0.049634,
     "end_time": "2022-08-06T00:40:14.906417",
     "exception": false,
     "start_time": "2022-08-06T00:40:14.856783",
     "status": "completed"
    },
    "tags": []
   },
   "outputs": [
    {
     "data": {
      "text/plain": [
       "((60000, 28, 28), (60000,))"
      ]
     },
     "execution_count": 6,
     "metadata": {},
     "output_type": "execute_result"
    }
   ],
   "source": [
    "train_images.shape, train_labels.shape"
   ]
  },
  {
   "cell_type": "code",
   "execution_count": 7,
   "id": "f50dc2bb",
   "metadata": {
    "execution": {
     "iopub.execute_input": "2022-08-06T00:40:14.965490Z",
     "iopub.status.busy": "2022-08-06T00:40:14.959700Z",
     "iopub.status.idle": "2022-08-06T00:40:15.076355Z",
     "shell.execute_reply": "2022-08-06T00:40:15.075773Z"
    },
    "papermill": {
     "duration": 0.144904,
     "end_time": "2022-08-06T00:40:15.076484",
     "exception": false,
     "start_time": "2022-08-06T00:40:14.931580",
     "status": "completed"
    },
    "tags": []
   },
   "outputs": [],
   "source": [
    "test_images = mnist.test_images()\n",
    "test_labels = mnist.test_labels()"
   ]
  },
  {
   "cell_type": "code",
   "execution_count": 8,
   "id": "fc38cf1b",
   "metadata": {
    "execution": {
     "iopub.execute_input": "2022-08-06T00:40:15.132525Z",
     "iopub.status.busy": "2022-08-06T00:40:15.131156Z",
     "iopub.status.idle": "2022-08-06T00:40:15.148702Z",
     "shell.execute_reply": "2022-08-06T00:40:15.147933Z"
    },
    "papermill": {
     "duration": 0.046755,
     "end_time": "2022-08-06T00:40:15.148816",
     "exception": false,
     "start_time": "2022-08-06T00:40:15.102061",
     "status": "completed"
    },
    "tags": []
   },
   "outputs": [
    {
     "data": {
      "text/plain": [
       "((10000, 28, 28), (10000,))"
      ]
     },
     "execution_count": 8,
     "metadata": {},
     "output_type": "execute_result"
    }
   ],
   "source": [
    "test_images.shape, test_labels.shape"
   ]
  },
  {
   "cell_type": "code",
   "execution_count": 9,
   "id": "f9ed8fe0",
   "metadata": {
    "execution": {
     "iopub.execute_input": "2022-08-06T00:40:15.206110Z",
     "iopub.status.busy": "2022-08-06T00:40:15.202860Z",
     "iopub.status.idle": "2022-08-06T00:40:15.343655Z",
     "shell.execute_reply": "2022-08-06T00:40:15.342696Z"
    },
    "papermill": {
     "duration": 0.169453,
     "end_time": "2022-08-06T00:40:15.343822",
     "exception": false,
     "start_time": "2022-08-06T00:40:15.174369",
     "status": "completed"
    },
    "tags": []
   },
   "outputs": [
    {
     "name": "stdout",
     "output_type": "stream",
     "text": [
      "2\n"
     ]
    },
    {
     "data": {
      "text/plain": [
       "<matplotlib.image.AxesImage at 0x7f6f47fb14e0>"
      ]
     },
     "execution_count": 9,
     "metadata": {},
     "output_type": "execute_result"
    },
    {
     "data": {
      "image/png": "[encoded data removed]",
      "text/plain": [
       "<Figure size 432x288 with 1 Axes>"
      ]
     },
     "metadata": {
      "needs_background": "light"
     },
     "output_type": "display_data"
    }
   ],
   "source": [
    "image_index = 7776 # You may select anything up to 60,000\n",
    "print(train_labels[image_index]) \n",
    "plt.imshow(train_images[image_index], cmap='Greys')"
   ]
  },
  {
   "cell_type": "markdown",
   "id": "a8d2388d",
   "metadata": {
    "papermill": {
     "duration": 0.026774,
     "end_time": "2022-08-06T00:40:15.398302",
     "exception": false,
     "start_time": "2022-08-06T00:40:15.371528",
     "status": "completed"
    },
    "tags": []
   },
   "source": [
    "## Filter data to get 3 and 8 out"
   ]
  },
  {
   "cell_type": "code",
   "execution_count": 10,
   "id": "776f7fc7",
   "metadata": {
    "execution": {
     "iopub.execute_input": "2022-08-06T00:40:15.469850Z",
     "iopub.status.busy": "2022-08-06T00:40:15.468998Z",
     "iopub.status.idle": "2022-08-06T00:40:15.481661Z",
     "shell.execute_reply": "2022-08-06T00:40:15.482120Z"
    },
    "papermill": {
     "duration": 0.055949,
     "end_time": "2022-08-06T00:40:15.482259",
     "exception": false,
     "start_time": "2022-08-06T00:40:15.426310",
     "status": "completed"
    },
    "tags": []
   },
   "outputs": [],
   "source": [
    "train_filter = np.where((train_labels == 3 ) | (train_labels == 8))\n",
    "test_filter = np.where((test_labels == 3) | (test_labels == 8))\n",
    "X_train, y_train = train_images[train_filter], train_labels[train_filter]\n",
    "X_test, y_test = test_images[test_filter], test_labels[test_filter]"
   ]
  },
  {
   "cell_type": "markdown",
   "id": "948f0b7e",
   "metadata": {
    "papermill": {
     "duration": 0.027832,
     "end_time": "2022-08-06T00:40:15.537011",
     "exception": false,
     "start_time": "2022-08-06T00:40:15.509179",
     "status": "completed"
    },
    "tags": []
   },
   "source": [
    "We normalize the pizel values in the 0 to 1 range"
   ]
  },
  {
   "cell_type": "code",
   "execution_count": 11,
   "id": "ee4c2166",
   "metadata": {
    "execution": {
     "iopub.execute_input": "2022-08-06T00:40:15.595002Z",
     "iopub.status.busy": "2022-08-06T00:40:15.594402Z",
     "iopub.status.idle": "2022-08-06T00:40:15.643038Z",
     "shell.execute_reply": "2022-08-06T00:40:15.642439Z"
    },
    "papermill": {
     "duration": 0.079633,
     "end_time": "2022-08-06T00:40:15.643180",
     "exception": false,
     "start_time": "2022-08-06T00:40:15.563547",
     "status": "completed"
    },
    "tags": []
   },
   "outputs": [],
   "source": [
    "X_train = X_train/255.\n",
    "X_test = X_test/255."
   ]
  },
  {
   "cell_type": "markdown",
   "id": "ddcf4fab",
   "metadata": {
    "papermill": {
     "duration": 0.026677,
     "end_time": "2022-08-06T00:40:15.697154",
     "exception": false,
     "start_time": "2022-08-06T00:40:15.670477",
     "status": "completed"
    },
    "tags": []
   },
   "source": [
    "And setup the labels as 1 (when the digit is 3) and 0 (when the digit is 8)"
   ]
  },
  {
   "cell_type": "code",
   "execution_count": 12,
   "id": "7dc908f2",
   "metadata": {
    "execution": {
     "iopub.execute_input": "2022-08-06T00:40:15.768066Z",
     "iopub.status.busy": "2022-08-06T00:40:15.764866Z",
     "iopub.status.idle": "2022-08-06T00:40:15.770819Z",
     "shell.execute_reply": "2022-08-06T00:40:15.770337Z"
    },
    "papermill": {
     "duration": 0.047143,
     "end_time": "2022-08-06T00:40:15.770934",
     "exception": false,
     "start_time": "2022-08-06T00:40:15.723791",
     "status": "completed"
    },
    "tags": []
   },
   "outputs": [],
   "source": [
    "y_train = 1*(y_train==3)\n",
    "y_test = 1*(y_test==3)"
   ]
  },
  {
   "cell_type": "code",
   "execution_count": 13,
   "id": "01e4e969",
   "metadata": {
    "execution": {
     "iopub.execute_input": "2022-08-06T00:40:15.828735Z",
     "iopub.status.busy": "2022-08-06T00:40:15.828152Z",
     "iopub.status.idle": "2022-08-06T00:40:15.841760Z",
     "shell.execute_reply": "2022-08-06T00:40:15.841187Z"
    },
    "papermill": {
     "duration": 0.043742,
     "end_time": "2022-08-06T00:40:15.841872",
     "exception": false,
     "start_time": "2022-08-06T00:40:15.798130",
     "status": "completed"
    },
    "tags": []
   },
   "outputs": [
    {
     "data": {
      "text/plain": [
       "((11982, 28, 28), (1984, 28, 28))"
      ]
     },
     "execution_count": 13,
     "metadata": {},
     "output_type": "execute_result"
    }
   ],
   "source": [
    "X_train.shape, X_test.shape"
   ]
  },
  {
   "cell_type": "markdown",
   "id": "5ccf3f85",
   "metadata": {
    "papermill": {
     "duration": 0.02682,
     "end_time": "2022-08-06T00:40:15.895454",
     "exception": false,
     "start_time": "2022-08-06T00:40:15.868634",
     "status": "completed"
    },
    "tags": []
   },
   "source": [
    "We reshape the data to flatten the image pixels into a set of features or co-variates:"
   ]
  },
  {
   "cell_type": "code",
   "execution_count": 14,
   "id": "5286a4a3",
   "metadata": {
    "execution": {
     "iopub.execute_input": "2022-08-06T00:40:15.966417Z",
     "iopub.status.busy": "2022-08-06T00:40:15.958991Z",
     "iopub.status.idle": "2022-08-06T00:40:15.970139Z",
     "shell.execute_reply": "2022-08-06T00:40:15.969655Z"
    },
    "papermill": {
     "duration": 0.047821,
     "end_time": "2022-08-06T00:40:15.970251",
     "exception": false,
     "start_time": "2022-08-06T00:40:15.922430",
     "status": "completed"
    },
    "tags": []
   },
   "outputs": [
    {
     "data": {
      "text/plain": [
       "((11982, 784), (1984, 784))"
      ]
     },
     "execution_count": 14,
     "metadata": {},
     "output_type": "execute_result"
    }
   ],
   "source": [
    "X_train = X_train.reshape(X_train.shape[0], -1)\n",
    "X_test = X_test.reshape(X_test.shape[0], -1)\n",
    "X_train.shape, X_test.shape"
   ]
  },
  {
   "cell_type": "code",
   "execution_count": 15,
   "id": "73c5f88a",
   "metadata": {
    "execution": {
     "iopub.execute_input": "2022-08-06T00:40:16.034873Z",
     "iopub.status.busy": "2022-08-06T00:40:16.034247Z",
     "iopub.status.idle": "2022-08-06T00:40:16.053226Z",
     "shell.execute_reply": "2022-08-06T00:40:16.052621Z"
    },
    "papermill": {
     "duration": 0.054384,
     "end_time": "2022-08-06T00:40:16.053348",
     "exception": false,
     "start_time": "2022-08-06T00:40:15.998964",
     "status": "completed"
    },
    "tags": []
   },
   "outputs": [],
   "source": [
    "#Impoting functions from 'Kudzu'\n",
    "from kudzu.model import Model\n",
    "from kudzu.train import Learner\n",
    "from kudzu.optim import GD\n",
    "from kudzu.data import Data, Sampler,Dataloader\n",
    "\n",
    "from kudzu.callbacks import AccCallback\n",
    "from kudzu.callbacks import ClfCallback\n",
    "\n",
    "from kudzu.loss import MSE\n",
    "\n",
    "from kudzu.layer import Sigmoid,Relu\n",
    "from kudzu.layer import Affine"
   ]
  },
  {
   "cell_type": "markdown",
   "id": "bc01172a",
   "metadata": {
    "papermill": {
     "duration": 0.027355,
     "end_time": "2022-08-06T00:40:16.108293",
     "exception": false,
     "start_time": "2022-08-06T00:40:16.080938",
     "status": "completed"
    },
    "tags": []
   },
   "source": [
    "### Let us create a `Config` class, to store important parameters. \n",
    "This class essentially plays the role of a dictionary."
   ]
  },
  {
   "cell_type": "code",
   "execution_count": 16,
   "id": "978281aa",
   "metadata": {
    "execution": {
     "iopub.execute_input": "2022-08-06T00:40:16.172800Z",
     "iopub.status.busy": "2022-08-06T00:40:16.172194Z",
     "iopub.status.idle": "2022-08-06T00:40:16.182141Z",
     "shell.execute_reply": "2022-08-06T00:40:16.181683Z"
    },
    "papermill": {
     "duration": 0.04577,
     "end_time": "2022-08-06T00:40:16.182257",
     "exception": false,
     "start_time": "2022-08-06T00:40:16.136487",
     "status": "completed"
    },
    "tags": []
   },
   "outputs": [],
   "source": [
    "class Config:\n",
    "    pass\n",
    "config = Config()\n",
    "config.lr = 0.001\n",
    "config.num_epochs = 250\n",
    "config.bs = 50"
   ]
  },
  {
   "cell_type": "markdown",
   "id": "1385fa59",
   "metadata": {
    "papermill": {
     "duration": 0.027243,
     "end_time": "2022-08-06T00:40:16.236900",
     "exception": false,
     "start_time": "2022-08-06T00:40:16.209657",
     "status": "completed"
    },
    "tags": []
   },
   "source": [
    "### Running Models with the Training data\n",
    "Details about the network layers:\n",
    "- A first affine layer has 784 inputs and does 100 affine transforms. These are followed by a Relu\n",
    "- A second affine layer has 100 inputs from the 100 activations of the past layer, and does 100 affine transforms. These are followed by a Relu\n",
    "- A third affine layer has 100 activations and does 2 affine transformations to create an embedding for visualization. There is no non-linearity here.\n",
    "- A final \"logistic regression\" which has an affine transform from 2 inputs to 1 output, which is squeezed through a sigmoid.\n"
   ]
  },
  {
   "cell_type": "code",
   "execution_count": 17,
   "id": "2b9c66db",
   "metadata": {
    "execution": {
     "iopub.execute_input": "2022-08-06T00:40:16.296362Z",
     "iopub.status.busy": "2022-08-06T00:40:16.295720Z",
     "iopub.status.idle": "2022-08-06T00:40:16.309076Z",
     "shell.execute_reply": "2022-08-06T00:40:16.308595Z"
    },
    "papermill": {
     "duration": 0.044763,
     "end_time": "2022-08-06T00:40:16.309193",
     "exception": false,
     "start_time": "2022-08-06T00:40:16.264430",
     "status": "completed"
    },
    "tags": []
   },
   "outputs": [],
   "source": [
    "data = Data(X_train, y_train.reshape(-1,1))\n",
    "sampler = Sampler(data, config.bs, shuffle=True)\n",
    "\n",
    "dl = Dataloader(data, sampler)\n",
    "\n",
    "opt = GD(config.lr)\n",
    "loss = MSE()"
   ]
  },
  {
   "cell_type": "code",
   "execution_count": 18,
   "id": "b275e4c2",
   "metadata": {
    "execution": {
     "iopub.execute_input": "2022-08-06T00:40:16.368321Z",
     "iopub.status.busy": "2022-08-06T00:40:16.367703Z",
     "iopub.status.idle": "2022-08-06T00:40:16.380773Z",
     "shell.execute_reply": "2022-08-06T00:40:16.380298Z"
    },
    "papermill": {
     "duration": 0.044206,
     "end_time": "2022-08-06T00:40:16.380884",
     "exception": false,
     "start_time": "2022-08-06T00:40:16.336678",
     "status": "completed"
    },
    "tags": []
   },
   "outputs": [],
   "source": [
    "training_data_x = X_train\n",
    "testing_data_x = X_test\n",
    "training_data_y = y_train.reshape(-1,1)\n",
    "testing_data_y = y_test.reshape(-1,1)"
   ]
  },
  {
   "cell_type": "code",
   "execution_count": 19,
   "id": "76951160",
   "metadata": {
    "execution": {
     "iopub.execute_input": "2022-08-06T00:40:16.443300Z",
     "iopub.status.busy": "2022-08-06T00:40:16.442719Z",
     "iopub.status.idle": "2022-08-06T00:40:16.456361Z",
     "shell.execute_reply": "2022-08-06T00:40:16.455782Z"
    },
    "papermill": {
     "duration": 0.048465,
     "end_time": "2022-08-06T00:40:16.456467",
     "exception": false,
     "start_time": "2022-08-06T00:40:16.408002",
     "status": "completed"
    },
    "tags": []
   },
   "outputs": [
    {
     "name": "stdout",
     "output_type": "stream",
     "text": [
      "xavier\n",
      "xavier\n",
      "xavier\n",
      "xavier\n",
      "xavier\n"
     ]
    }
   ],
   "source": [
    "layers = [Affine(\"first\", 784, 100), Relu(\"first\"), Affine(\"second\", 100, 100), Relu(\"second\"), Affine(\"third\", 100, 2), Affine(\"last\", 2, 1), Sigmoid(\"last\")]\n",
    "model_nn = Model(layers)\n",
    "model_lr = Model([Affine(\"logits\", 784, 1), Sigmoid(\"sigmoid\")])"
   ]
  },
  {
   "cell_type": "code",
   "execution_count": 20,
   "id": "6eede77a",
   "metadata": {
    "execution": {
     "iopub.execute_input": "2022-08-06T00:40:16.523232Z",
     "iopub.status.busy": "2022-08-06T00:40:16.514536Z",
     "iopub.status.idle": "2022-08-06T00:40:16.530311Z",
     "shell.execute_reply": "2022-08-06T00:40:16.530755Z"
    },
    "papermill": {
     "duration": 0.046836,
     "end_time": "2022-08-06T00:40:16.530873",
     "exception": false,
     "start_time": "2022-08-06T00:40:16.484037",
     "status": "completed"
    },
    "tags": []
   },
   "outputs": [],
   "source": [
    "nn_learner = Learner(loss, model_nn, opt, config.num_epochs)\n",
    "acc_nn = ClfCallback(nn_learner, config.bs, training_data_x , testing_data_x, training_data_y, testing_data_y)\n",
    "nn_learner.set_callbacks([acc_nn])"
   ]
  },
  {
   "cell_type": "code",
   "execution_count": 21,
   "id": "877b6cc7",
   "metadata": {
    "execution": {
     "iopub.execute_input": "2022-08-06T00:40:16.595343Z",
     "iopub.status.busy": "2022-08-06T00:40:16.594772Z",
     "iopub.status.idle": "2022-08-06T00:40:16.604408Z",
     "shell.execute_reply": "2022-08-06T00:40:16.604857Z"
    },
    "papermill": {
     "duration": 0.046725,
     "end_time": "2022-08-06T00:40:16.604977",
     "exception": false,
     "start_time": "2022-08-06T00:40:16.558252",
     "status": "completed"
    },
    "tags": []
   },
   "outputs": [],
   "source": [
    "lr_learner = Learner(loss, model_lr, opt, config.num_epochs)\n",
    "acc_lr = ClfCallback(lr_learner, config.bs, training_data_x , testing_data_x, training_data_y, testing_data_y)\n",
    "lr_learner.set_callbacks([acc_lr])"
   ]
  },
  {
   "cell_type": "code",
   "execution_count": 22,
   "id": "d9b133c3",
   "metadata": {
    "execution": {
     "iopub.execute_input": "2022-08-06T00:40:16.668484Z",
     "iopub.status.busy": "2022-08-06T00:40:16.662977Z",
     "iopub.status.idle": "2022-08-06T00:41:32.219346Z",
     "shell.execute_reply": "2022-08-06T00:41:32.220213Z"
    },
    "papermill": {
     "duration": 75.587836,
     "end_time": "2022-08-06T00:41:32.220371",
     "exception": false,
     "start_time": "2022-08-06T00:40:16.632535",
     "status": "completed"
    },
    "tags": []
   },
   "outputs": [
    {
     "name": "stdout",
     "output_type": "stream",
     "text": [
      "Epoch 0, Loss 0.1964\n",
      "Training Accuracy: 0.8050, Testing Accuracy: 0.8236\n",
      "\n"
     ]
    },
    {
     "name": "stdout",
     "output_type": "stream",
     "text": [
      "Epoch 10, Loss 0.0683\n",
      "Training Accuracy: 0.9266, Testing Accuracy: 0.9425\n",
      "\n"
     ]
    },
    {
     "name": "stdout",
     "output_type": "stream",
     "text": [
      "Epoch 20, Loss 0.0473\n",
      "Training Accuracy: 0.9482, Testing Accuracy: 0.9597\n",
      "\n"
     ]
    },
    {
     "name": "stdout",
     "output_type": "stream",
     "text": [
      "Epoch 30, Loss 0.0392\n",
      "Training Accuracy: 0.9580, Testing Accuracy: 0.9657\n",
      "\n"
     ]
    },
    {
     "name": "stdout",
     "output_type": "stream",
     "text": [
      "Epoch 40, Loss 0.0347\n",
      "Training Accuracy: 0.9623, Testing Accuracy: 0.9693\n",
      "\n"
     ]
    },
    {
     "name": "stdout",
     "output_type": "stream",
     "text": [
      "Epoch 50, Loss 0.0318\n",
      "Training Accuracy: 0.9642, Testing Accuracy: 0.9693\n",
      "\n"
     ]
    },
    {
     "name": "stdout",
     "output_type": "stream",
     "text": [
      "Epoch 60, Loss 0.0298\n",
      "Training Accuracy: 0.9662, Testing Accuracy: 0.9698\n",
      "\n"
     ]
    },
    {
     "name": "stdout",
     "output_type": "stream",
     "text": [
      "Epoch 70, Loss 0.0282\n",
      "Training Accuracy: 0.9678, Testing Accuracy: 0.9723\n",
      "\n"
     ]
    },
    {
     "name": "stdout",
     "output_type": "stream",
     "text": [
      "Epoch 80, Loss 0.0269\n",
      "Training Accuracy: 0.9693, Testing Accuracy: 0.9718\n",
      "\n"
     ]
    },
    {
     "name": "stdout",
     "output_type": "stream",
     "text": [
      "Epoch 90, Loss 0.0258\n",
      "Training Accuracy: 0.9700, Testing Accuracy: 0.9718\n",
      "\n"
     ]
    },
    {
     "name": "stdout",
     "output_type": "stream",
     "text": [
      "Epoch 100, Loss 0.0249\n",
      "Training Accuracy: 0.9709, Testing Accuracy: 0.9723\n",
      "\n"
     ]
    },
    {
     "name": "stdout",
     "output_type": "stream",
     "text": [
      "Epoch 110, Loss 0.0241\n",
      "Training Accuracy: 0.9716, Testing Accuracy: 0.9733\n",
      "\n"
     ]
    },
    {
     "name": "stdout",
     "output_type": "stream",
     "text": [
      "Epoch 120, Loss 0.0234\n",
      "Training Accuracy: 0.9731, Testing Accuracy: 0.9738\n",
      "\n"
     ]
    },
    {
     "name": "stdout",
     "output_type": "stream",
     "text": [
      "Epoch 130, Loss 0.0227\n",
      "Training Accuracy: 0.9739, Testing Accuracy: 0.9733\n",
      "\n"
     ]
    },
    {
     "name": "stdout",
     "output_type": "stream",
     "text": [
      "Epoch 140, Loss 0.0221\n",
      "Training Accuracy: 0.9751, Testing Accuracy: 0.9728\n",
      "\n"
     ]
    },
    {
     "name": "stdout",
     "output_type": "stream",
     "text": [
      "Epoch 150, Loss 0.0215\n",
      "Training Accuracy: 0.9760, Testing Accuracy: 0.9718\n",
      "\n"
     ]
    },
    {
     "name": "stdout",
     "output_type": "stream",
     "text": [
      "Epoch 160, Loss 0.021\n",
      "Training Accuracy: 0.9768, Testing Accuracy: 0.9723\n",
      "\n"
     ]
    },
    {
     "name": "stdout",
     "output_type": "stream",
     "text": [
      "Epoch 170, Loss 0.0205\n",
      "Training Accuracy: 0.9778, Testing Accuracy: 0.9723\n",
      "\n"
     ]
    },
    {
     "name": "stdout",
     "output_type": "stream",
     "text": [
      "Epoch 180, Loss 0.02\n",
      "Training Accuracy: 0.9784, Testing Accuracy: 0.9723\n",
      "\n"
     ]
    },
    {
     "name": "stdout",
     "output_type": "stream",
     "text": [
      "Epoch 190, Loss 0.0196\n",
      "Training Accuracy: 0.9786, Testing Accuracy: 0.9728\n",
      "\n"
     ]
    },
    {
     "name": "stdout",
     "output_type": "stream",
     "text": [
      "Epoch 200, Loss 0.0192\n",
      "Training Accuracy: 0.9791, Testing Accuracy: 0.9723\n",
      "\n"
     ]
    },
    {
     "name": "stdout",
     "output_type": "stream",
     "text": [
      "Epoch 210, Loss 0.0187\n",
      "Training Accuracy: 0.9796, Testing Accuracy: 0.9733\n",
      "\n"
     ]
    },
    {
     "name": "stdout",
     "output_type": "stream",
     "text": [
      "Epoch 220, Loss 0.0183\n",
      "Training Accuracy: 0.9803, Testing Accuracy: 0.9738\n",
      "\n"
     ]
    },
    {
     "name": "stdout",
     "output_type": "stream",
     "text": [
      "Epoch 230, Loss 0.018\n",
      "Training Accuracy: 0.9803, Testing Accuracy: 0.9743\n",
      "\n"
     ]
    },
    {
     "name": "stdout",
     "output_type": "stream",
     "text": [
      "Epoch 240, Loss 0.0176\n",
      "Training Accuracy: 0.9807, Testing Accuracy: 0.9738\n",
      "\n"
     ]
    },
    {
     "data": {
      "text/plain": [
       "0.009462511749296213"
      ]
     },
     "execution_count": 22,
     "metadata": {},
     "output_type": "execute_result"
    }
   ],
   "source": [
    "nn_learner.train_loop(dl)"
   ]
  },
  {
   "cell_type": "code",
   "execution_count": 23,
   "id": "e0163366",
   "metadata": {
    "execution": {
     "iopub.execute_input": "2022-08-06T00:41:32.308038Z",
     "iopub.status.busy": "2022-08-06T00:41:32.307382Z",
     "iopub.status.idle": "2022-08-06T00:41:46.822871Z",
     "shell.execute_reply": "2022-08-06T00:41:46.823762Z"
    },
    "papermill": {
     "duration": 14.56796,
     "end_time": "2022-08-06T00:41:46.823924",
     "exception": false,
     "start_time": "2022-08-06T00:41:32.255964",
     "status": "completed"
    },
    "tags": []
   },
   "outputs": [
    {
     "name": "stdout",
     "output_type": "stream",
     "text": [
      "Epoch 0, Loss 0.2169\n",
      "Training Accuracy: 0.7958, Testing Accuracy: 0.8185\n",
      "\n"
     ]
    },
    {
     "name": "stdout",
     "output_type": "stream",
     "text": [
      "Epoch 10, Loss 0.0978\n",
      "Training Accuracy: 0.9189, Testing Accuracy: 0.9284\n",
      "\n"
     ]
    },
    {
     "name": "stdout",
     "output_type": "stream",
     "text": [
      "Epoch 20, Loss 0.0763\n",
      "Training Accuracy: 0.9333, Testing Accuracy: 0.9395\n",
      "\n"
     ]
    },
    {
     "name": "stdout",
     "output_type": "stream",
     "text": [
      "Epoch 30, Loss 0.0664\n",
      "Training Accuracy: 0.9390, Testing Accuracy: 0.9456\n",
      "\n"
     ]
    },
    {
     "name": "stdout",
     "output_type": "stream",
     "text": [
      "Epoch 40, Loss 0.0603\n",
      "Training Accuracy: 0.9421, Testing Accuracy: 0.9496\n",
      "\n"
     ]
    },
    {
     "name": "stdout",
     "output_type": "stream",
     "text": [
      "Epoch 50, Loss 0.0562\n",
      "Training Accuracy: 0.9450, Testing Accuracy: 0.9526\n",
      "\n"
     ]
    },
    {
     "name": "stdout",
     "output_type": "stream",
     "text": [
      "Epoch 60, Loss 0.0531\n",
      "Training Accuracy: 0.9471, Testing Accuracy: 0.9541\n",
      "\n"
     ]
    },
    {
     "name": "stdout",
     "output_type": "stream",
     "text": [
      "Epoch 70, Loss 0.0507\n",
      "Training Accuracy: 0.9493, Testing Accuracy: 0.9577\n",
      "\n"
     ]
    },
    {
     "name": "stdout",
     "output_type": "stream",
     "text": [
      "Epoch 80, Loss 0.0488\n",
      "Training Accuracy: 0.9513, Testing Accuracy: 0.9582\n",
      "\n"
     ]
    },
    {
     "name": "stdout",
     "output_type": "stream",
     "text": [
      "Epoch 90, Loss 0.0472\n",
      "Training Accuracy: 0.9523, Testing Accuracy: 0.9587\n",
      "\n"
     ]
    },
    {
     "name": "stdout",
     "output_type": "stream",
     "text": [
      "Epoch 100, Loss 0.0458\n",
      "Training Accuracy: 0.9528, Testing Accuracy: 0.9602\n",
      "\n"
     ]
    },
    {
     "name": "stdout",
     "output_type": "stream",
     "text": [
      "Epoch 110, Loss 0.0447\n",
      "Training Accuracy: 0.9539, Testing Accuracy: 0.9617\n",
      "\n"
     ]
    },
    {
     "name": "stdout",
     "output_type": "stream",
     "text": [
      "Epoch 120, Loss 0.0436\n",
      "Training Accuracy: 0.9544, Testing Accuracy: 0.9632\n",
      "\n"
     ]
    },
    {
     "name": "stdout",
     "output_type": "stream",
     "text": [
      "Epoch 130, Loss 0.0427\n",
      "Training Accuracy: 0.9553, Testing Accuracy: 0.9637\n",
      "\n"
     ]
    },
    {
     "name": "stdout",
     "output_type": "stream",
     "text": [
      "Epoch 140, Loss 0.0419\n",
      "Training Accuracy: 0.9555, Testing Accuracy: 0.9642\n",
      "\n"
     ]
    },
    {
     "name": "stdout",
     "output_type": "stream",
     "text": [
      "Epoch 150, Loss 0.0412\n",
      "Training Accuracy: 0.9564, Testing Accuracy: 0.9642\n",
      "\n"
     ]
    },
    {
     "name": "stdout",
     "output_type": "stream",
     "text": [
      "Epoch 160, Loss 0.0406\n",
      "Training Accuracy: 0.9567, Testing Accuracy: 0.9637\n",
      "\n"
     ]
    },
    {
     "name": "stdout",
     "output_type": "stream",
     "text": [
      "Epoch 170, Loss 0.04\n",
      "Training Accuracy: 0.9569, Testing Accuracy: 0.9637\n",
      "\n"
     ]
    },
    {
     "name": "stdout",
     "output_type": "stream",
     "text": [
      "Epoch 180, Loss 0.0394\n",
      "Training Accuracy: 0.9572, Testing Accuracy: 0.9637\n",
      "\n"
     ]
    },
    {
     "name": "stdout",
     "output_type": "stream",
     "text": [
      "Epoch 190, Loss 0.0389\n",
      "Training Accuracy: 0.9579, Testing Accuracy: 0.9642\n",
      "\n"
     ]
    },
    {
     "name": "stdout",
     "output_type": "stream",
     "text": [
      "Epoch 200, Loss 0.0384\n",
      "Training Accuracy: 0.9584, Testing Accuracy: 0.9642\n",
      "\n"
     ]
    },
    {
     "name": "stdout",
     "output_type": "stream",
     "text": [
      "Epoch 210, Loss 0.038\n",
      "Training Accuracy: 0.9586, Testing Accuracy: 0.9642\n",
      "\n"
     ]
    },
    {
     "name": "stdout",
     "output_type": "stream",
     "text": [
      "Epoch 220, Loss 0.0376\n",
      "Training Accuracy: 0.9589, Testing Accuracy: 0.9642\n",
      "\n"
     ]
    },
    {
     "name": "stdout",
     "output_type": "stream",
     "text": [
      "Epoch 230, Loss 0.0372\n",
      "Training Accuracy: 0.9598, Testing Accuracy: 0.9642\n",
      "\n"
     ]
    },
    {
     "name": "stdout",
     "output_type": "stream",
     "text": [
      "Epoch 240, Loss 0.0369\n",
      "Training Accuracy: 0.9600, Testing Accuracy: 0.9647\n",
      "\n"
     ]
    },
    {
     "data": {
      "text/plain": [
       "0.0827399177390695"
      ]
     },
     "execution_count": 23,
     "metadata": {},
     "output_type": "execute_result"
    }
   ],
   "source": [
    "lr_learner.train_loop(dl)"
   ]
  },
  {
   "cell_type": "code",
   "execution_count": 24,
   "id": "ca410940",
   "metadata": {
    "execution": {
     "iopub.execute_input": "2022-08-06T00:41:46.921481Z",
     "iopub.status.busy": "2022-08-06T00:41:46.920847Z",
     "iopub.status.idle": "2022-08-06T00:41:47.158308Z",
     "shell.execute_reply": "2022-08-06T00:41:47.158801Z"
    },
    "papermill": {
     "duration": 0.292121,
     "end_time": "2022-08-06T00:41:47.158949",
     "exception": false,
     "start_time": "2022-08-06T00:41:46.866828",
     "status": "completed"
    },
    "tags": []
   },
   "outputs": [
    {
     "data": {
      "text/plain": [
       "<matplotlib.legend.Legend at 0x7f6f47b0fc88>"
      ]
     },
     "execution_count": 24,
     "metadata": {},
     "output_type": "execute_result"
    },
    {
     "data": {
      "image/png": "[encoded data removed]",
      "text/plain": [
       "<Figure size 1080x720 with 1 Axes>"
      ]
     },
     "metadata": {
      "needs_background": "light"
     },
     "output_type": "display_data"
    }
   ],
   "source": [
    "#comparing the results of NN and LR\n",
    "plt.figure(figsize=(15,10))\n",
    "\n",
    "# Neural Network plots\n",
    "plt.plot(acc_nn.accuracies, 'r-', label = \"Training Accuracies - NN\")\n",
    "plt.plot(acc_nn.test_accuracies, 'g-', label = \"Testing Accuracies - NN\")\n",
    "\n",
    "# Logistic Regression plots\n",
    "plt.plot(acc_lr.accuracies, 'k-', label = \"Training Accuracies - LR\")\n",
    "plt.plot(acc_lr.test_accuracies, 'b-', label = \"Testing Accuracies - LR\")\n",
    "plt.legend()"
   ]
  },
  {
   "cell_type": "markdown",
   "id": "80dfb35c",
   "metadata": {
    "papermill": {
     "duration": 0.042768,
     "end_time": "2022-08-06T00:41:47.245195",
     "exception": false,
     "start_time": "2022-08-06T00:41:47.202427",
     "status": "completed"
    },
    "tags": []
   },
   "source": [
    "#### Plotting the outputs of this layer of the NN.\n"
   ]
  },
  {
   "cell_type": "code",
   "execution_count": 25,
   "id": "45eb2ff5",
   "metadata": {
    "execution": {
     "iopub.execute_input": "2022-08-06T00:41:47.348475Z",
     "iopub.status.busy": "2022-08-06T00:41:47.346450Z",
     "iopub.status.idle": "2022-08-06T00:41:47.364112Z",
     "shell.execute_reply": "2022-08-06T00:41:47.363588Z"
    },
    "papermill": {
     "duration": 0.076211,
     "end_time": "2022-08-06T00:41:47.364235",
     "exception": false,
     "start_time": "2022-08-06T00:41:47.288024",
     "status": "completed"
    },
    "tags": []
   },
   "outputs": [],
   "source": [
    "new_model = Model(layers[:-2])\n",
    "testing_plot = new_model(testing_data_x)"
   ]
  },
  {
   "cell_type": "code",
   "execution_count": 26,
   "id": "4c0a5485",
   "metadata": {
    "execution": {
     "iopub.execute_input": "2022-08-06T00:41:47.456211Z",
     "iopub.status.busy": "2022-08-06T00:41:47.455573Z",
     "iopub.status.idle": "2022-08-06T00:41:47.643011Z",
     "shell.execute_reply": "2022-08-06T00:41:47.642532Z"
    },
    "papermill": {
     "duration": 0.234504,
     "end_time": "2022-08-06T00:41:47.643137",
     "exception": false,
     "start_time": "2022-08-06T00:41:47.408633",
     "status": "completed"
    },
    "tags": []
   },
   "outputs": [
    {
     "data": {
      "text/plain": [
       "Text(0.5, 1.0, 'Outputs')"
      ]
     },
     "execution_count": 26,
     "metadata": {},
     "output_type": "execute_result"
    },
    {
     "data": {
      "image/png": "[encoded data removed]",
      "text/plain": [
       "<Figure size 576x504 with 1 Axes>"
      ]
     },
     "metadata": {
      "needs_background": "light"
     },
     "output_type": "display_data"
    }
   ],
   "source": [
    "# Plotting the scatter plot of points and color coding by class\n",
    "plt.figure(figsize=(8,7))\n",
    "plt.scatter(testing_plot[:,0], testing_plot[:,1], alpha = 0.1, c = y_test.ravel());\n",
    "plt.title('Outputs')"
   ]
  },
  {
   "cell_type": "markdown",
   "id": "a74fcf8f",
   "metadata": {
    "papermill": {
     "duration": 0.044984,
     "end_time": "2022-08-06T00:41:47.733642",
     "exception": false,
     "start_time": "2022-08-06T00:41:47.688658",
     "status": "completed"
    },
    "tags": []
   },
   "source": [
    "Probability contours"
   ]
  },
  {
   "cell_type": "code",
   "execution_count": 27,
   "id": "d0afc8e3",
   "metadata": {
    "execution": {
     "iopub.execute_input": "2022-08-06T00:41:47.862360Z",
     "iopub.status.busy": "2022-08-06T00:41:47.861762Z",
     "iopub.status.idle": "2022-08-06T00:41:47.874430Z",
     "shell.execute_reply": "2022-08-06T00:41:47.874887Z"
    },
    "papermill": {
     "duration": 0.096215,
     "end_time": "2022-08-06T00:41:47.875027",
     "exception": false,
     "start_time": "2022-08-06T00:41:47.778812",
     "status": "completed"
    },
    "tags": []
   },
   "outputs": [],
   "source": [
    "model_prob = Model(layers[-2:]) "
   ]
  },
  {
   "cell_type": "code",
   "execution_count": 28,
   "id": "9b96e238",
   "metadata": {
    "execution": {
     "iopub.execute_input": "2022-08-06T00:41:47.974205Z",
     "iopub.status.busy": "2022-08-06T00:41:47.973570Z",
     "iopub.status.idle": "2022-08-06T00:41:47.985676Z",
     "shell.execute_reply": "2022-08-06T00:41:47.986578Z"
    },
    "papermill": {
     "duration": 0.066372,
     "end_time": "2022-08-06T00:41:47.986722",
     "exception": false,
     "start_time": "2022-08-06T00:41:47.920350",
     "status": "completed"
    },
    "tags": []
   },
   "outputs": [],
   "source": [
    "#creating the x and y ranges according to the above generated plot.\n",
    "x_range = np.linspace(-4, 1, 100) \n",
    "y_range = np.linspace(-6, 6, 100) \n",
    "x_grid, y_grid = np.meshgrid(x_range, y_range) # x_grid and y_grig are of size 100 X 100\n",
    "\n",
    "# converting x_grid and y_grid to continuous arrays\n",
    "x_gridflat = np.ravel(x_grid)\n",
    "y_gridflat = np.ravel(y_grid)\n",
    "\n",
    "# The last layer of the current model takes two columns as input. Hence transpose of np.vstack() is required.\n",
    "X = np.vstack((x_gridflat, y_gridflat)).T\n",
    "\n",
    "prob_contour = model_prob(X).reshape(100,100) "
   ]
  },
  {
   "cell_type": "code",
   "execution_count": 29,
   "id": "da72499a",
   "metadata": {
    "execution": {
     "iopub.execute_input": "2022-08-06T00:41:48.089995Z",
     "iopub.status.busy": "2022-08-06T00:41:48.089379Z",
     "iopub.status.idle": "2022-08-06T00:41:48.322673Z",
     "shell.execute_reply": "2022-08-06T00:41:48.321748Z"
    },
    "papermill": {
     "duration": 0.288181,
     "end_time": "2022-08-06T00:41:48.322827",
     "exception": false,
     "start_time": "2022-08-06T00:41:48.034646",
     "status": "completed"
    },
    "tags": []
   },
   "outputs": [
    {
     "data": {
      "image/png": "[encoded data removed]",
      "text/plain": [
       "<Figure size 720x648 with 1 Axes>"
      ]
     },
     "metadata": {
      "needs_background": "light"
     },
     "output_type": "display_data"
    }
   ],
   "source": [
    "plt.figure(figsize=(10,9))\n",
    "plt.scatter(testing_plot[:,0], testing_plot[:,1], alpha = 0.1, c = y_test.ravel())\n",
    "contours = plt.contour(x_grid,y_grid,prob_contour)\n",
    "plt.title('Probability Contours')\n",
    "plt.clabel(contours, inline = True );"
   ]
  },
  {
   "cell_type": "code",
   "execution_count": null,
   "id": "e81b4ac7",
   "metadata": {
    "papermill": {
     "duration": 0.04719,
     "end_time": "2022-08-06T00:41:48.417822",
     "exception": false,
     "start_time": "2022-08-06T00:41:48.370632",
     "status": "completed"
    },
    "tags": []
   },
   "outputs": [],
   "source": []
  }
 ],
 "metadata": {
  "kernelspec": {
   "display_name": "Python 3",
   "language": "python",
   "name": "python3"
  },
  "language_info": {
   "codemirror_mode": {
    "name": "ipython",
    "version": 3
   },
   "file_extension": ".py",
   "mimetype": "text/x-python",
   "name": "python",
   "nbconvert_exporter": "python",
   "pygments_lexer": "ipython3",
   "version": "3.6.15"
  },
  "papermill": {
   "default_parameters": {},
   "duration": 98.376097,
   "end_time": "2022-08-06T00:41:48.884463",
   "environment_variables": {},
   "exception": null,
   "input_path": "2020-08-11-part2.ipynb",
   "output_path": "2020-08-11-part2.ipynb",
   "parameters": {},
   "start_time": "2022-08-06T00:40:10.508366",
   "version": "2.3.3"
  }
 },
 "nbformat": 4,
 "nbformat_minor": 5
}