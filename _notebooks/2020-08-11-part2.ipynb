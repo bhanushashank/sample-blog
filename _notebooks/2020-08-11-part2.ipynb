{
 "cells": [
  {
   "cell_type": "markdown",
   "id": "98380cd3",
   "metadata": {
    "papermill": {
     "duration": 0.029126,
     "end_time": "2022-09-30T20:11:58.133929",
     "exception": false,
     "start_time": "2022-09-30T20:11:58.104803",
     "status": "completed"
    },
    "tags": []
   },
   "source": [
    "# Distinguish Your Own Digits (DYOD)"
   ]
  },
  {
   "cell_type": "markdown",
   "id": "ef31240d",
   "metadata": {
    "papermill": {
     "duration": 0.024035,
     "end_time": "2022-09-30T20:11:58.182668",
     "exception": false,
     "start_time": "2022-09-30T20:11:58.158633",
     "status": "completed"
    },
    "tags": []
   },
   "source": [
    "You are going to write a classifier that distinguishes between the number 3 and number 8."
   ]
  },
  {
   "cell_type": "code",
   "execution_count": 1,
   "id": "b15c8646",
   "metadata": {
    "execution": {
     "iopub.execute_input": "2022-09-30T20:11:58.241078Z",
     "iopub.status.busy": "2022-09-30T20:11:58.240495Z",
     "iopub.status.idle": "2022-09-30T20:11:58.251497Z",
     "shell.execute_reply": "2022-09-30T20:11:58.251016Z"
    },
    "papermill": {
     "duration": 0.045066,
     "end_time": "2022-09-30T20:11:58.251625",
     "exception": false,
     "start_time": "2022-09-30T20:11:58.206559",
     "status": "completed"
    },
    "tags": []
   },
   "outputs": [],
   "source": [
    "%load_ext autoreload\n",
    "%autoreload 2"
   ]
  },
  {
   "cell_type": "code",
   "execution_count": 2,
   "id": "22ef38dc",
   "metadata": {
    "execution": {
     "iopub.execute_input": "2022-09-30T20:11:58.304183Z",
     "iopub.status.busy": "2022-09-30T20:11:58.303579Z",
     "iopub.status.idle": "2022-09-30T20:11:58.826590Z",
     "shell.execute_reply": "2022-09-30T20:11:58.826071Z"
    },
    "papermill": {
     "duration": 0.550749,
     "end_time": "2022-09-30T20:11:58.826714",
     "exception": false,
     "start_time": "2022-09-30T20:11:58.275965",
     "status": "completed"
    },
    "tags": []
   },
   "outputs": [],
   "source": [
    "%matplotlib inline\n",
    "import numpy as np\n",
    "import matplotlib.pyplot as plt\n",
    "import pandas as pd"
   ]
  },
  {
   "cell_type": "markdown",
   "id": "ba036198",
   "metadata": {
    "papermill": {
     "duration": 0.023926,
     "end_time": "2022-09-30T20:11:58.874731",
     "exception": false,
     "start_time": "2022-09-30T20:11:58.850805",
     "status": "completed"
    },
    "tags": []
   },
   "source": [
    "From the command line run `pip install mnist`. This is a library that will help you bring down the mnist dataset. If you run this from a notebook, you need to put  `!pip install mnist` in a cell by itself."
   ]
  },
  {
   "cell_type": "code",
   "execution_count": 3,
   "id": "bb6ad8a1",
   "metadata": {
    "execution": {
     "iopub.execute_input": "2022-09-30T20:11:58.927339Z",
     "iopub.status.busy": "2022-09-30T20:11:58.926769Z",
     "iopub.status.idle": "2022-09-30T20:12:00.544219Z",
     "shell.execute_reply": "2022-09-30T20:12:00.543697Z"
    },
    "papermill": {
     "duration": 1.645513,
     "end_time": "2022-09-30T20:12:00.544334",
     "exception": false,
     "start_time": "2022-09-30T20:11:58.898821",
     "status": "completed"
    },
    "tags": []
   },
   "outputs": [
    {
     "name": "stdout",
     "output_type": "stream",
     "text": [
      "Collecting mnist\r\n"
     ]
    },
    {
     "name": "stdout",
     "output_type": "stream",
     "text": [
      "  Downloading mnist-0.2.2-py2.py3-none-any.whl (3.5 kB)\r\n",
      "Requirement already satisfied: numpy in /opt/hostedtoolcache/Python/3.6.15/x64/lib/python3.6/site-packages (from mnist) (1.19.5)\r\n"
     ]
    },
    {
     "name": "stdout",
     "output_type": "stream",
     "text": [
      "Installing collected packages: mnist\r\n"
     ]
    },
    {
     "name": "stdout",
     "output_type": "stream",
     "text": [
      "Successfully installed mnist-0.2.2\r\n"
     ]
    }
   ],
   "source": [
    "!pip install mnist"
   ]
  },
  {
   "cell_type": "markdown",
   "id": "69df9c9a",
   "metadata": {
    "papermill": {
     "duration": 0.025104,
     "end_time": "2022-09-30T20:12:00.594837",
     "exception": false,
     "start_time": "2022-09-30T20:12:00.569733",
     "status": "completed"
    },
    "tags": []
   },
   "source": [
    "## Preparing the Data"
   ]
  },
  {
   "cell_type": "code",
   "execution_count": 4,
   "id": "7f69d806",
   "metadata": {
    "execution": {
     "iopub.execute_input": "2022-09-30T20:12:00.649115Z",
     "iopub.status.busy": "2022-09-30T20:12:00.648546Z",
     "iopub.status.idle": "2022-09-30T20:12:00.662862Z",
     "shell.execute_reply": "2022-09-30T20:12:00.662387Z"
    },
    "papermill": {
     "duration": 0.043101,
     "end_time": "2022-09-30T20:12:00.662969",
     "exception": false,
     "start_time": "2022-09-30T20:12:00.619868",
     "status": "completed"
    },
    "tags": []
   },
   "outputs": [],
   "source": [
    "import mnist"
   ]
  },
  {
   "cell_type": "code",
   "execution_count": 5,
   "id": "a411e44f",
   "metadata": {
    "execution": {
     "iopub.execute_input": "2022-09-30T20:12:00.716991Z",
     "iopub.status.busy": "2022-09-30T20:12:00.716430Z",
     "iopub.status.idle": "2022-09-30T20:12:01.407961Z",
     "shell.execute_reply": "2022-09-30T20:12:01.407426Z"
    },
    "papermill": {
     "duration": 0.719912,
     "end_time": "2022-09-30T20:12:01.408076",
     "exception": false,
     "start_time": "2022-09-30T20:12:00.688164",
     "status": "completed"
    },
    "tags": []
   },
   "outputs": [],
   "source": [
    "train_images = mnist.train_images()\n",
    "train_labels = mnist.train_labels()"
   ]
  },
  {
   "cell_type": "code",
   "execution_count": 6,
   "id": "dceab3a5",
   "metadata": {
    "execution": {
     "iopub.execute_input": "2022-09-30T20:12:01.463515Z",
     "iopub.status.busy": "2022-09-30T20:12:01.462937Z",
     "iopub.status.idle": "2022-09-30T20:12:01.477564Z",
     "shell.execute_reply": "2022-09-30T20:12:01.476998Z"
    },
    "papermill": {
     "duration": 0.044188,
     "end_time": "2022-09-30T20:12:01.477673",
     "exception": false,
     "start_time": "2022-09-30T20:12:01.433485",
     "status": "completed"
    },
    "tags": []
   },
   "outputs": [
    {
     "data": {
      "text/plain": [
       "((60000, 28, 28), (60000,))"
      ]
     },
     "execution_count": 6,
     "metadata": {},
     "output_type": "execute_result"
    }
   ],
   "source": [
    "train_images.shape, train_labels.shape"
   ]
  },
  {
   "cell_type": "code",
   "execution_count": 7,
   "id": "f50dc2bb",
   "metadata": {
    "execution": {
     "iopub.execute_input": "2022-09-30T20:12:01.532869Z",
     "iopub.status.busy": "2022-09-30T20:12:01.532269Z",
     "iopub.status.idle": "2022-09-30T20:12:01.745726Z",
     "shell.execute_reply": "2022-09-30T20:12:01.745210Z"
    },
    "papermill": {
     "duration": 0.242673,
     "end_time": "2022-09-30T20:12:01.745841",
     "exception": false,
     "start_time": "2022-09-30T20:12:01.503168",
     "status": "completed"
    },
    "tags": []
   },
   "outputs": [],
   "source": [
    "test_images = mnist.test_images()\n",
    "test_labels = mnist.test_labels()"
   ]
  },
  {
   "cell_type": "code",
   "execution_count": 8,
   "id": "fc38cf1b",
   "metadata": {
    "execution": {
     "iopub.execute_input": "2022-09-30T20:12:01.800987Z",
     "iopub.status.busy": "2022-09-30T20:12:01.800421Z",
     "iopub.status.idle": "2022-09-30T20:12:01.813423Z",
     "shell.execute_reply": "2022-09-30T20:12:01.812958Z"
    },
    "papermill": {
     "duration": 0.04191,
     "end_time": "2022-09-30T20:12:01.813534",
     "exception": false,
     "start_time": "2022-09-30T20:12:01.771624",
     "status": "completed"
    },
    "tags": []
   },
   "outputs": [
    {
     "data": {
      "text/plain": [
       "((10000, 28, 28), (10000,))"
      ]
     },
     "execution_count": 8,
     "metadata": {},
     "output_type": "execute_result"
    }
   ],
   "source": [
    "test_images.shape, test_labels.shape"
   ]
  },
  {
   "cell_type": "code",
   "execution_count": 9,
   "id": "f9ed8fe0",
   "metadata": {
    "execution": {
     "iopub.execute_input": "2022-09-30T20:12:01.869062Z",
     "iopub.status.busy": "2022-09-30T20:12:01.868494Z",
     "iopub.status.idle": "2022-09-30T20:12:02.002751Z",
     "shell.execute_reply": "2022-09-30T20:12:02.003196Z"
    },
    "papermill": {
     "duration": 0.164069,
     "end_time": "2022-09-30T20:12:02.003328",
     "exception": false,
     "start_time": "2022-09-30T20:12:01.839259",
     "status": "completed"
    },
    "tags": []
   },
   "outputs": [
    {
     "name": "stdout",
     "output_type": "stream",
     "text": [
      "2\n"
     ]
    },
    {
     "data": {
      "text/plain": [
       "<matplotlib.image.AxesImage at 0x7f6d16f69c88>"
      ]
     },
     "execution_count": 9,
     "metadata": {},
     "output_type": "execute_result"
    },
    {
     "data": {
      "image/png": "[encoded data removed]",
      "text/plain": [
       "<Figure size 432x288 with 1 Axes>"
      ]
     },
     "metadata": {
      "needs_background": "light"
     },
     "output_type": "display_data"
    }
   ],
   "source": [
    "image_index = 7776 # You may select anything up to 60,000\n",
    "print(train_labels[image_index]) \n",
    "plt.imshow(train_images[image_index], cmap='Greys')"
   ]
  },
  {
   "cell_type": "markdown",
   "id": "a8d2388d",
   "metadata": {
    "papermill": {
     "duration": 0.026756,
     "end_time": "2022-09-30T20:12:02.057213",
     "exception": false,
     "start_time": "2022-09-30T20:12:02.030457",
     "status": "completed"
    },
    "tags": []
   },
   "source": [
    "## Filter data to get 3 and 8 out"
   ]
  },
  {
   "cell_type": "code",
   "execution_count": 10,
   "id": "776f7fc7",
   "metadata": {
    "execution": {
     "iopub.execute_input": "2022-09-30T20:12:02.114909Z",
     "iopub.status.busy": "2022-09-30T20:12:02.114331Z",
     "iopub.status.idle": "2022-09-30T20:12:02.131115Z",
     "shell.execute_reply": "2022-09-30T20:12:02.130651Z"
    },
    "papermill": {
     "duration": 0.047319,
     "end_time": "2022-09-30T20:12:02.131222",
     "exception": false,
     "start_time": "2022-09-30T20:12:02.083903",
     "status": "completed"
    },
    "tags": []
   },
   "outputs": [],
   "source": [
    "train_filter = np.where((train_labels == 3 ) | (train_labels == 8))\n",
    "test_filter = np.where((test_labels == 3) | (test_labels == 8))\n",
    "X_train, y_train = train_images[train_filter], train_labels[train_filter]\n",
    "X_test, y_test = test_images[test_filter], test_labels[test_filter]"
   ]
  },
  {
   "cell_type": "markdown",
   "id": "948f0b7e",
   "metadata": {
    "papermill": {
     "duration": 0.026782,
     "end_time": "2022-09-30T20:12:02.184937",
     "exception": false,
     "start_time": "2022-09-30T20:12:02.158155",
     "status": "completed"
    },
    "tags": []
   },
   "source": [
    "We normalize the pizel values in the 0 to 1 range"
   ]
  },
  {
   "cell_type": "code",
   "execution_count": 11,
   "id": "ee4c2166",
   "metadata": {
    "execution": {
     "iopub.execute_input": "2022-09-30T20:12:02.241816Z",
     "iopub.status.busy": "2022-09-30T20:12:02.241235Z",
     "iopub.status.idle": "2022-09-30T20:12:02.282926Z",
     "shell.execute_reply": "2022-09-30T20:12:02.282426Z"
    },
    "papermill": {
     "duration": 0.071344,
     "end_time": "2022-09-30T20:12:02.283039",
     "exception": false,
     "start_time": "2022-09-30T20:12:02.211695",
     "status": "completed"
    },
    "tags": []
   },
   "outputs": [],
   "source": [
    "X_train = X_train/255.\n",
    "X_test = X_test/255."
   ]
  },
  {
   "cell_type": "markdown",
   "id": "ddcf4fab",
   "metadata": {
    "papermill": {
     "duration": 0.026665,
     "end_time": "2022-09-30T20:12:02.336572",
     "exception": false,
     "start_time": "2022-09-30T20:12:02.309907",
     "status": "completed"
    },
    "tags": []
   },
   "source": [
    "And setup the labels as 1 (when the digit is 3) and 0 (when the digit is 8)"
   ]
  },
  {
   "cell_type": "code",
   "execution_count": 12,
   "id": "7dc908f2",
   "metadata": {
    "execution": {
     "iopub.execute_input": "2022-09-30T20:12:02.393864Z",
     "iopub.status.busy": "2022-09-30T20:12:02.393291Z",
     "iopub.status.idle": "2022-09-30T20:12:02.405500Z",
     "shell.execute_reply": "2022-09-30T20:12:02.405022Z"
    },
    "papermill": {
     "duration": 0.042348,
     "end_time": "2022-09-30T20:12:02.405613",
     "exception": false,
     "start_time": "2022-09-30T20:12:02.363265",
     "status": "completed"
    },
    "tags": []
   },
   "outputs": [],
   "source": [
    "y_train = 1*(y_train==3)\n",
    "y_test = 1*(y_test==3)"
   ]
  },
  {
   "cell_type": "code",
   "execution_count": 13,
   "id": "01e4e969",
   "metadata": {
    "execution": {
     "iopub.execute_input": "2022-09-30T20:12:02.462925Z",
     "iopub.status.busy": "2022-09-30T20:12:02.462363Z",
     "iopub.status.idle": "2022-09-30T20:12:02.475691Z",
     "shell.execute_reply": "2022-09-30T20:12:02.475134Z"
    },
    "papermill": {
     "duration": 0.04332,
     "end_time": "2022-09-30T20:12:02.475801",
     "exception": false,
     "start_time": "2022-09-30T20:12:02.432481",
     "status": "completed"
    },
    "tags": []
   },
   "outputs": [
    {
     "data": {
      "text/plain": [
       "((11982, 28, 28), (1984, 28, 28))"
      ]
     },
     "execution_count": 13,
     "metadata": {},
     "output_type": "execute_result"
    }
   ],
   "source": [
    "X_train.shape, X_test.shape"
   ]
  },
  {
   "cell_type": "markdown",
   "id": "5ccf3f85",
   "metadata": {
    "papermill": {
     "duration": 0.026861,
     "end_time": "2022-09-30T20:12:02.529678",
     "exception": false,
     "start_time": "2022-09-30T20:12:02.502817",
     "status": "completed"
    },
    "tags": []
   },
   "source": [
    "We reshape the data to flatten the image pixels into a set of features or co-variates:"
   ]
  },
  {
   "cell_type": "code",
   "execution_count": 14,
   "id": "5286a4a3",
   "metadata": {
    "execution": {
     "iopub.execute_input": "2022-09-30T20:12:02.587886Z",
     "iopub.status.busy": "2022-09-30T20:12:02.587302Z",
     "iopub.status.idle": "2022-09-30T20:12:02.600321Z",
     "shell.execute_reply": "2022-09-30T20:12:02.600747Z"
    },
    "papermill": {
     "duration": 0.044015,
     "end_time": "2022-09-30T20:12:02.600874",
     "exception": false,
     "start_time": "2022-09-30T20:12:02.556859",
     "status": "completed"
    },
    "tags": []
   },
   "outputs": [
    {
     "data": {
      "text/plain": [
       "((11982, 784), (1984, 784))"
      ]
     },
     "execution_count": 14,
     "metadata": {},
     "output_type": "execute_result"
    }
   ],
   "source": [
    "X_train = X_train.reshape(X_train.shape[0], -1)\n",
    "X_test = X_test.reshape(X_test.shape[0], -1)\n",
    "X_train.shape, X_test.shape"
   ]
  },
  {
   "cell_type": "code",
   "execution_count": 15,
   "id": "73c5f88a",
   "metadata": {
    "execution": {
     "iopub.execute_input": "2022-09-30T20:12:02.660140Z",
     "iopub.status.busy": "2022-09-30T20:12:02.659533Z",
     "iopub.status.idle": "2022-09-30T20:12:02.684531Z",
     "shell.execute_reply": "2022-09-30T20:12:02.684984Z"
    },
    "papermill": {
     "duration": 0.057006,
     "end_time": "2022-09-30T20:12:02.685123",
     "exception": false,
     "start_time": "2022-09-30T20:12:02.628117",
     "status": "completed"
    },
    "tags": []
   },
   "outputs": [],
   "source": [
    "#Impoting functions from 'Kudzu'\n",
    "from kudzu.model import Model\n",
    "from kudzu.train import Learner\n",
    "from kudzu.optim import GD\n",
    "from kudzu.data import Data, Sampler,Dataloader\n",
    "\n",
    "from kudzu.callbacks import AccCallback\n",
    "from kudzu.callbacks import ClfCallback\n",
    "\n",
    "from kudzu.loss import MSE\n",
    "\n",
    "from kudzu.layer import Sigmoid,Relu\n",
    "from kudzu.layer import Affine"
   ]
  },
  {
   "cell_type": "markdown",
   "id": "bc01172a",
   "metadata": {
    "papermill": {
     "duration": 0.027534,
     "end_time": "2022-09-30T20:12:02.740055",
     "exception": false,
     "start_time": "2022-09-30T20:12:02.712521",
     "status": "completed"
    },
    "tags": []
   },
   "source": [
    "### Let us create a `Config` class, to store important parameters. \n",
    "This class essentially plays the role of a dictionary."
   ]
  },
  {
   "cell_type": "code",
   "execution_count": 16,
   "id": "978281aa",
   "metadata": {
    "execution": {
     "iopub.execute_input": "2022-09-30T20:12:02.800743Z",
     "iopub.status.busy": "2022-09-30T20:12:02.797967Z",
     "iopub.status.idle": "2022-09-30T20:12:02.809419Z",
     "shell.execute_reply": "2022-09-30T20:12:02.809858Z"
    },
    "papermill": {
     "duration": 0.042765,
     "end_time": "2022-09-30T20:12:02.809988",
     "exception": false,
     "start_time": "2022-09-30T20:12:02.767223",
     "status": "completed"
    },
    "tags": []
   },
   "outputs": [],
   "source": [
    "class Config:\n",
    "    pass\n",
    "config = Config()\n",
    "config.lr = 0.001\n",
    "config.num_epochs = 250\n",
    "config.bs = 50"
   ]
  },
  {
   "cell_type": "markdown",
   "id": "1385fa59",
   "metadata": {
    "papermill": {
     "duration": 0.027331,
     "end_time": "2022-09-30T20:12:02.864681",
     "exception": false,
     "start_time": "2022-09-30T20:12:02.837350",
     "status": "completed"
    },
    "tags": []
   },
   "source": [
    "### Running Models with the Training data\n",
    "Details about the network layers:\n",
    "- A first affine layer has 784 inputs and does 100 affine transforms. These are followed by a Relu\n",
    "- A second affine layer has 100 inputs from the 100 activations of the past layer, and does 100 affine transforms. These are followed by a Relu\n",
    "- A third affine layer has 100 activations and does 2 affine transformations to create an embedding for visualization. There is no non-linearity here.\n",
    "- A final \"logistic regression\" which has an affine transform from 2 inputs to 1 output, which is squeezed through a sigmoid.\n"
   ]
  },
  {
   "cell_type": "code",
   "execution_count": 17,
   "id": "2b9c66db",
   "metadata": {
    "execution": {
     "iopub.execute_input": "2022-09-30T20:12:02.923198Z",
     "iopub.status.busy": "2022-09-30T20:12:02.922630Z",
     "iopub.status.idle": "2022-09-30T20:12:02.935157Z",
     "shell.execute_reply": "2022-09-30T20:12:02.934692Z"
    },
    "papermill": {
     "duration": 0.043413,
     "end_time": "2022-09-30T20:12:02.935265",
     "exception": false,
     "start_time": "2022-09-30T20:12:02.891852",
     "status": "completed"
    },
    "tags": []
   },
   "outputs": [],
   "source": [
    "data = Data(X_train, y_train.reshape(-1,1))\n",
    "sampler = Sampler(data, config.bs, shuffle=True)\n",
    "\n",
    "dl = Dataloader(data, sampler)\n",
    "\n",
    "opt = GD(config.lr)\n",
    "loss = MSE()"
   ]
  },
  {
   "cell_type": "code",
   "execution_count": 18,
   "id": "b275e4c2",
   "metadata": {
    "execution": {
     "iopub.execute_input": "2022-09-30T20:12:02.994127Z",
     "iopub.status.busy": "2022-09-30T20:12:02.993553Z",
     "iopub.status.idle": "2022-09-30T20:12:03.005497Z",
     "shell.execute_reply": "2022-09-30T20:12:03.005030Z"
    },
    "papermill": {
     "duration": 0.042949,
     "end_time": "2022-09-30T20:12:03.005605",
     "exception": false,
     "start_time": "2022-09-30T20:12:02.962656",
     "status": "completed"
    },
    "tags": []
   },
   "outputs": [],
   "source": [
    "training_data_x = X_train\n",
    "testing_data_x = X_test\n",
    "training_data_y = y_train.reshape(-1,1)\n",
    "testing_data_y = y_test.reshape(-1,1)"
   ]
  },
  {
   "cell_type": "code",
   "execution_count": 19,
   "id": "76951160",
   "metadata": {
    "execution": {
     "iopub.execute_input": "2022-09-30T20:12:03.065028Z",
     "iopub.status.busy": "2022-09-30T20:12:03.064449Z",
     "iopub.status.idle": "2022-09-30T20:12:03.081131Z",
     "shell.execute_reply": "2022-09-30T20:12:03.080573Z"
    },
    "papermill": {
     "duration": 0.048383,
     "end_time": "2022-09-30T20:12:03.081242",
     "exception": false,
     "start_time": "2022-09-30T20:12:03.032859",
     "status": "completed"
    },
    "tags": []
   },
   "outputs": [
    {
     "name": "stdout",
     "output_type": "stream",
     "text": [
      "xavier\n",
      "xavier\n",
      "xavier\n",
      "xavier\n",
      "xavier\n"
     ]
    }
   ],
   "source": [
    "layers = [Affine(\"first\", 784, 100), Relu(\"first\"), Affine(\"second\", 100, 100), Relu(\"second\"), Affine(\"third\", 100, 2), Affine(\"last\", 2, 1), Sigmoid(\"last\")]\n",
    "model_nn = Model(layers)\n",
    "model_lr = Model([Affine(\"logits\", 784, 1), Sigmoid(\"sigmoid\")])"
   ]
  },
  {
   "cell_type": "code",
   "execution_count": 20,
   "id": "6eede77a",
   "metadata": {
    "execution": {
     "iopub.execute_input": "2022-09-30T20:12:03.142178Z",
     "iopub.status.busy": "2022-09-30T20:12:03.139359Z",
     "iopub.status.idle": "2022-09-30T20:12:03.153809Z",
     "shell.execute_reply": "2022-09-30T20:12:03.153334Z"
    },
    "papermill": {
     "duration": 0.044977,
     "end_time": "2022-09-30T20:12:03.153918",
     "exception": false,
     "start_time": "2022-09-30T20:12:03.108941",
     "status": "completed"
    },
    "tags": []
   },
   "outputs": [],
   "source": [
    "nn_learner = Learner(loss, model_nn, opt, config.num_epochs)\n",
    "acc_nn = ClfCallback(nn_learner, config.bs, training_data_x , testing_data_x, training_data_y, testing_data_y)\n",
    "nn_learner.set_callbacks([acc_nn])"
   ]
  },
  {
   "cell_type": "code",
   "execution_count": 21,
   "id": "877b6cc7",
   "metadata": {
    "execution": {
     "iopub.execute_input": "2022-09-30T20:12:03.214095Z",
     "iopub.status.busy": "2022-09-30T20:12:03.213073Z",
     "iopub.status.idle": "2022-09-30T20:12:03.226158Z",
     "shell.execute_reply": "2022-09-30T20:12:03.226890Z"
    },
    "papermill": {
     "duration": 0.04538,
     "end_time": "2022-09-30T20:12:03.227024",
     "exception": false,
     "start_time": "2022-09-30T20:12:03.181644",
     "status": "completed"
    },
    "tags": []
   },
   "outputs": [],
   "source": [
    "lr_learner = Learner(loss, model_lr, opt, config.num_epochs)\n",
    "acc_lr = ClfCallback(lr_learner, config.bs, training_data_x , testing_data_x, training_data_y, testing_data_y)\n",
    "lr_learner.set_callbacks([acc_lr])"
   ]
  },
  {
   "cell_type": "code",
   "execution_count": 22,
   "id": "d9b133c3",
   "metadata": {
    "execution": {
     "iopub.execute_input": "2022-09-30T20:12:03.286310Z",
     "iopub.status.busy": "2022-09-30T20:12:03.285744Z",
     "iopub.status.idle": "2022-09-30T20:15:02.871615Z",
     "shell.execute_reply": "2022-09-30T20:15:02.872116Z"
    },
    "papermill": {
     "duration": 179.617568,
     "end_time": "2022-09-30T20:15:02.872248",
     "exception": false,
     "start_time": "2022-09-30T20:12:03.254680",
     "status": "completed"
    },
    "tags": []
   },
   "outputs": [
    {
     "name": "stdout",
     "output_type": "stream",
     "text": [
      "Epoch 0, Loss 0.2416\n",
      "Training Accuracy: 0.6879, Testing Accuracy: 0.6769\n",
      "\n"
     ]
    },
    {
     "name": "stdout",
     "output_type": "stream",
     "text": [
      "Epoch 10, Loss 0.1092\n",
      "Training Accuracy: 0.9044, Testing Accuracy: 0.9163\n",
      "\n"
     ]
    },
    {
     "name": "stdout",
     "output_type": "stream",
     "text": [
      "Epoch 20, Loss 0.0622\n",
      "Training Accuracy: 0.9372, Testing Accuracy: 0.9506\n",
      "\n"
     ]
    },
    {
     "name": "stdout",
     "output_type": "stream",
     "text": [
      "Epoch 30, Loss 0.0467\n",
      "Training Accuracy: 0.9498, Testing Accuracy: 0.9617\n",
      "\n"
     ]
    },
    {
     "name": "stdout",
     "output_type": "stream",
     "text": [
      "Epoch 40, Loss 0.0396\n",
      "Training Accuracy: 0.9565, Testing Accuracy: 0.9632\n",
      "\n"
     ]
    },
    {
     "name": "stdout",
     "output_type": "stream",
     "text": [
      "Epoch 50, Loss 0.0355\n",
      "Training Accuracy: 0.9591, Testing Accuracy: 0.9657\n",
      "\n"
     ]
    },
    {
     "name": "stdout",
     "output_type": "stream",
     "text": [
      "Epoch 60, Loss 0.0328\n",
      "Training Accuracy: 0.9619, Testing Accuracy: 0.9677\n",
      "\n"
     ]
    },
    {
     "name": "stdout",
     "output_type": "stream",
     "text": [
      "Epoch 70, Loss 0.0308\n",
      "Training Accuracy: 0.9639, Testing Accuracy: 0.9688\n",
      "\n"
     ]
    },
    {
     "name": "stdout",
     "output_type": "stream",
     "text": [
      "Epoch 80, Loss 0.0292\n",
      "Training Accuracy: 0.9654, Testing Accuracy: 0.9703\n",
      "\n"
     ]
    },
    {
     "name": "stdout",
     "output_type": "stream",
     "text": [
      "Epoch 90, Loss 0.0279\n",
      "Training Accuracy: 0.9671, Testing Accuracy: 0.9713\n",
      "\n"
     ]
    },
    {
     "name": "stdout",
     "output_type": "stream",
     "text": [
      "Epoch 100, Loss 0.0269\n",
      "Training Accuracy: 0.9680, Testing Accuracy: 0.9713\n",
      "\n"
     ]
    },
    {
     "name": "stdout",
     "output_type": "stream",
     "text": [
      "Epoch 110, Loss 0.0259\n",
      "Training Accuracy: 0.9688, Testing Accuracy: 0.9713\n",
      "\n"
     ]
    },
    {
     "name": "stdout",
     "output_type": "stream",
     "text": [
      "Epoch 120, Loss 0.0251\n",
      "Training Accuracy: 0.9706, Testing Accuracy: 0.9718\n",
      "\n"
     ]
    },
    {
     "name": "stdout",
     "output_type": "stream",
     "text": [
      "Epoch 130, Loss 0.0243\n",
      "Training Accuracy: 0.9717, Testing Accuracy: 0.9723\n",
      "\n"
     ]
    },
    {
     "name": "stdout",
     "output_type": "stream",
     "text": [
      "Epoch 140, Loss 0.0236\n",
      "Training Accuracy: 0.9726, Testing Accuracy: 0.9718\n",
      "\n"
     ]
    },
    {
     "name": "stdout",
     "output_type": "stream",
     "text": [
      "Epoch 150, Loss 0.023\n",
      "Training Accuracy: 0.9732, Testing Accuracy: 0.9723\n",
      "\n"
     ]
    },
    {
     "name": "stdout",
     "output_type": "stream",
     "text": [
      "Epoch 160, Loss 0.0224\n",
      "Training Accuracy: 0.9744, Testing Accuracy: 0.9728\n",
      "\n"
     ]
    },
    {
     "name": "stdout",
     "output_type": "stream",
     "text": [
      "Epoch 170, Loss 0.0219\n",
      "Training Accuracy: 0.9746, Testing Accuracy: 0.9723\n",
      "\n"
     ]
    },
    {
     "name": "stdout",
     "output_type": "stream",
     "text": [
      "Epoch 180, Loss 0.0214\n",
      "Training Accuracy: 0.9755, Testing Accuracy: 0.9733\n",
      "\n"
     ]
    },
    {
     "name": "stdout",
     "output_type": "stream",
     "text": [
      "Epoch 190, Loss 0.0209\n",
      "Training Accuracy: 0.9761, Testing Accuracy: 0.9738\n",
      "\n"
     ]
    },
    {
     "name": "stdout",
     "output_type": "stream",
     "text": [
      "Epoch 200, Loss 0.0204\n",
      "Training Accuracy: 0.9764, Testing Accuracy: 0.9743\n",
      "\n"
     ]
    },
    {
     "name": "stdout",
     "output_type": "stream",
     "text": [
      "Epoch 210, Loss 0.02\n",
      "Training Accuracy: 0.9769, Testing Accuracy: 0.9753\n",
      "\n"
     ]
    },
    {
     "name": "stdout",
     "output_type": "stream",
     "text": [
      "Epoch 220, Loss 0.0196\n",
      "Training Accuracy: 0.9775, Testing Accuracy: 0.9753\n",
      "\n"
     ]
    },
    {
     "name": "stdout",
     "output_type": "stream",
     "text": [
      "Epoch 230, Loss 0.0192\n",
      "Training Accuracy: 0.9782, Testing Accuracy: 0.9748\n",
      "\n"
     ]
    },
    {
     "name": "stdout",
     "output_type": "stream",
     "text": [
      "Epoch 240, Loss 0.0188\n",
      "Training Accuracy: 0.9789, Testing Accuracy: 0.9758\n",
      "\n"
     ]
    },
    {
     "data": {
      "text/plain": [
       "0.02700450627354402"
      ]
     },
     "execution_count": 22,
     "metadata": {},
     "output_type": "execute_result"
    }
   ],
   "source": [
    "nn_learner.train_loop(dl)"
   ]
  },
  {
   "cell_type": "code",
   "execution_count": 23,
   "id": "e0163366",
   "metadata": {
    "execution": {
     "iopub.execute_input": "2022-09-30T20:15:02.948647Z",
     "iopub.status.busy": "2022-09-30T20:15:02.946031Z",
     "iopub.status.idle": "2022-09-30T20:15:15.434830Z",
     "shell.execute_reply": "2022-09-30T20:15:15.434368Z"
    },
    "papermill": {
     "duration": 12.527999,
     "end_time": "2022-09-30T20:15:15.434945",
     "exception": false,
     "start_time": "2022-09-30T20:15:02.906946",
     "status": "completed"
    },
    "tags": []
   },
   "outputs": [
    {
     "name": "stdout",
     "output_type": "stream",
     "text": [
      "Epoch 0, Loss 0.2565\n",
      "Training Accuracy: 0.6133, Testing Accuracy: 0.6210\n",
      "\n"
     ]
    },
    {
     "name": "stdout",
     "output_type": "stream",
     "text": [
      "Epoch 10, Loss 0.1014\n",
      "Training Accuracy: 0.9172, Testing Accuracy: 0.9224\n",
      "\n"
     ]
    },
    {
     "name": "stdout",
     "output_type": "stream",
     "text": [
      "Epoch 20, Loss 0.0775\n",
      "Training Accuracy: 0.9307, Testing Accuracy: 0.9385\n",
      "\n"
     ]
    },
    {
     "name": "stdout",
     "output_type": "stream",
     "text": [
      "Epoch 30, Loss 0.0668\n",
      "Training Accuracy: 0.9392, Testing Accuracy: 0.9471\n",
      "\n"
     ]
    },
    {
     "name": "stdout",
     "output_type": "stream",
     "text": [
      "Epoch 40, Loss 0.0605\n",
      "Training Accuracy: 0.9444, Testing Accuracy: 0.9546\n",
      "\n"
     ]
    },
    {
     "name": "stdout",
     "output_type": "stream",
     "text": [
      "Epoch 50, Loss 0.0561\n",
      "Training Accuracy: 0.9468, Testing Accuracy: 0.9577\n",
      "\n"
     ]
    },
    {
     "name": "stdout",
     "output_type": "stream",
     "text": [
      "Epoch 60, Loss 0.053\n",
      "Training Accuracy: 0.9483, Testing Accuracy: 0.9592\n",
      "\n"
     ]
    },
    {
     "name": "stdout",
     "output_type": "stream",
     "text": [
      "Epoch 70, Loss 0.0505\n",
      "Training Accuracy: 0.9501, Testing Accuracy: 0.9612\n",
      "\n"
     ]
    },
    {
     "name": "stdout",
     "output_type": "stream",
     "text": [
      "Epoch 80, Loss 0.0486\n",
      "Training Accuracy: 0.9513, Testing Accuracy: 0.9627\n",
      "\n"
     ]
    },
    {
     "name": "stdout",
     "output_type": "stream",
     "text": [
      "Epoch 90, Loss 0.047\n",
      "Training Accuracy: 0.9528, Testing Accuracy: 0.9637\n",
      "\n"
     ]
    },
    {
     "name": "stdout",
     "output_type": "stream",
     "text": [
      "Epoch 100, Loss 0.0456\n",
      "Training Accuracy: 0.9538, Testing Accuracy: 0.9652\n",
      "\n"
     ]
    },
    {
     "name": "stdout",
     "output_type": "stream",
     "text": [
      "Epoch 110, Loss 0.0445\n",
      "Training Accuracy: 0.9547, Testing Accuracy: 0.9662\n",
      "\n"
     ]
    },
    {
     "name": "stdout",
     "output_type": "stream",
     "text": [
      "Epoch 120, Loss 0.0434\n",
      "Training Accuracy: 0.9555, Testing Accuracy: 0.9667\n",
      "\n"
     ]
    },
    {
     "name": "stdout",
     "output_type": "stream",
     "text": [
      "Epoch 130, Loss 0.0425\n",
      "Training Accuracy: 0.9562, Testing Accuracy: 0.9667\n",
      "\n"
     ]
    },
    {
     "name": "stdout",
     "output_type": "stream",
     "text": [
      "Epoch 140, Loss 0.0417\n",
      "Training Accuracy: 0.9566, Testing Accuracy: 0.9672\n",
      "\n"
     ]
    },
    {
     "name": "stdout",
     "output_type": "stream",
     "text": [
      "Epoch 150, Loss 0.041\n",
      "Training Accuracy: 0.9571, Testing Accuracy: 0.9677\n",
      "\n"
     ]
    },
    {
     "name": "stdout",
     "output_type": "stream",
     "text": [
      "Epoch 160, Loss 0.0404\n",
      "Training Accuracy: 0.9578, Testing Accuracy: 0.9667\n",
      "\n"
     ]
    },
    {
     "name": "stdout",
     "output_type": "stream",
     "text": [
      "Epoch 170, Loss 0.0398\n",
      "Training Accuracy: 0.9583, Testing Accuracy: 0.9667\n",
      "\n"
     ]
    },
    {
     "name": "stdout",
     "output_type": "stream",
     "text": [
      "Epoch 180, Loss 0.0392\n",
      "Training Accuracy: 0.9589, Testing Accuracy: 0.9672\n",
      "\n"
     ]
    },
    {
     "name": "stdout",
     "output_type": "stream",
     "text": [
      "Epoch 190, Loss 0.0387\n",
      "Training Accuracy: 0.9594, Testing Accuracy: 0.9672\n",
      "\n"
     ]
    },
    {
     "name": "stdout",
     "output_type": "stream",
     "text": [
      "Epoch 200, Loss 0.0383\n",
      "Training Accuracy: 0.9599, Testing Accuracy: 0.9677\n",
      "\n"
     ]
    },
    {
     "name": "stdout",
     "output_type": "stream",
     "text": [
      "Epoch 210, Loss 0.0379\n",
      "Training Accuracy: 0.9604, Testing Accuracy: 0.9677\n",
      "\n"
     ]
    },
    {
     "name": "stdout",
     "output_type": "stream",
     "text": [
      "Epoch 220, Loss 0.0375\n",
      "Training Accuracy: 0.9609, Testing Accuracy: 0.9677\n",
      "\n"
     ]
    },
    {
     "name": "stdout",
     "output_type": "stream",
     "text": [
      "Epoch 230, Loss 0.0371\n",
      "Training Accuracy: 0.9614, Testing Accuracy: 0.9677\n",
      "\n"
     ]
    },
    {
     "name": "stdout",
     "output_type": "stream",
     "text": [
      "Epoch 240, Loss 0.0367\n",
      "Training Accuracy: 0.9618, Testing Accuracy: 0.9677\n",
      "\n"
     ]
    },
    {
     "data": {
      "text/plain": [
       "0.045490544649175825"
      ]
     },
     "execution_count": 23,
     "metadata": {},
     "output_type": "execute_result"
    }
   ],
   "source": [
    "lr_learner.train_loop(dl)"
   ]
  },
  {
   "cell_type": "code",
   "execution_count": 24,
   "id": "ca410940",
   "metadata": {
    "execution": {
     "iopub.execute_input": "2022-09-30T20:15:15.523556Z",
     "iopub.status.busy": "2022-09-30T20:15:15.522987Z",
     "iopub.status.idle": "2022-09-30T20:15:15.775387Z",
     "shell.execute_reply": "2022-09-30T20:15:15.774412Z"
    },
    "papermill": {
     "duration": 0.29887,
     "end_time": "2022-09-30T20:15:15.775507",
     "exception": false,
     "start_time": "2022-09-30T20:15:15.476637",
     "status": "completed"
    },
    "tags": []
   },
   "outputs": [
    {
     "data": {
      "text/plain": [
       "<matplotlib.legend.Legend at 0x7f6d16ad63c8>"
      ]
     },
     "execution_count": 24,
     "metadata": {},
     "output_type": "execute_result"
    },
    {
     "data": {
      "image/png": "[encoded data removed]",
      "text/plain": [
       "<Figure size 1080x720 with 1 Axes>"
      ]
     },
     "metadata": {
      "needs_background": "light"
     },
     "output_type": "display_data"
    }
   ],
   "source": [
    "#comparing the results of NN and LR\n",
    "plt.figure(figsize=(15,10))\n",
    "\n",
    "# Neural Network plots\n",
    "plt.plot(acc_nn.accuracies, 'r-', label = \"Training Accuracies - NN\")\n",
    "plt.plot(acc_nn.test_accuracies, 'g-', label = \"Testing Accuracies - NN\")\n",
    "\n",
    "# Logistic Regression plots\n",
    "plt.plot(acc_lr.accuracies, 'k-', label = \"Training Accuracies - LR\")\n",
    "plt.plot(acc_lr.test_accuracies, 'b-', label = \"Testing Accuracies - LR\")\n",
    "plt.legend()"
   ]
  },
  {
   "cell_type": "markdown",
   "id": "80dfb35c",
   "metadata": {
    "papermill": {
     "duration": 0.042477,
     "end_time": "2022-09-30T20:15:15.860508",
     "exception": false,
     "start_time": "2022-09-30T20:15:15.818031",
     "status": "completed"
    },
    "tags": []
   },
   "source": [
    "#### Plotting the outputs of this layer of the NN.\n"
   ]
  },
  {
   "cell_type": "code",
   "execution_count": 25,
   "id": "45eb2ff5",
   "metadata": {
    "execution": {
     "iopub.execute_input": "2022-09-30T20:15:15.949308Z",
     "iopub.status.busy": "2022-09-30T20:15:15.948733Z",
     "iopub.status.idle": "2022-09-30T20:15:15.984540Z",
     "shell.execute_reply": "2022-09-30T20:15:15.985013Z"
    },
    "papermill": {
     "duration": 0.082298,
     "end_time": "2022-09-30T20:15:15.985147",
     "exception": false,
     "start_time": "2022-09-30T20:15:15.902849",
     "status": "completed"
    },
    "tags": []
   },
   "outputs": [],
   "source": [
    "new_model = Model(layers[:-2])\n",
    "testing_plot = new_model(testing_data_x)"
   ]
  },
  {
   "cell_type": "code",
   "execution_count": 26,
   "id": "4c0a5485",
   "metadata": {
    "execution": {
     "iopub.execute_input": "2022-09-30T20:15:16.078990Z",
     "iopub.status.busy": "2022-09-30T20:15:16.078406Z",
     "iopub.status.idle": "2022-09-30T20:15:16.265451Z",
     "shell.execute_reply": "2022-09-30T20:15:16.264968Z"
    },
    "papermill": {
     "duration": 0.237774,
     "end_time": "2022-09-30T20:15:16.265559",
     "exception": false,
     "start_time": "2022-09-30T20:15:16.027785",
     "status": "completed"
    },
    "tags": []
   },
   "outputs": [
    {
     "data": {
      "text/plain": [
       "Text(0.5, 1.0, 'Outputs')"
      ]
     },
     "execution_count": 26,
     "metadata": {},
     "output_type": "execute_result"
    },
    {
     "data": {
      "image/png": "[encoded data removed]",
      "text/plain": [
       "<Figure size 576x504 with 1 Axes>"
      ]
     },
     "metadata": {
      "needs_background": "light"
     },
     "output_type": "display_data"
    }
   ],
   "source": [
    "# Plotting the scatter plot of points and color coding by class\n",
    "plt.figure(figsize=(8,7))\n",
    "plt.scatter(testing_plot[:,0], testing_plot[:,1], alpha = 0.1, c = y_test.ravel());\n",
    "plt.title('Outputs')"
   ]
  },
  {
   "cell_type": "markdown",
   "id": "a74fcf8f",
   "metadata": {
    "papermill": {
     "duration": 0.044199,
     "end_time": "2022-09-30T20:15:16.378566",
     "exception": false,
     "start_time": "2022-09-30T20:15:16.334367",
     "status": "completed"
    },
    "tags": []
   },
   "source": [
    "Probability contours"
   ]
  },
  {
   "cell_type": "code",
   "execution_count": 27,
   "id": "d0afc8e3",
   "metadata": {
    "execution": {
     "iopub.execute_input": "2022-09-30T20:15:16.471243Z",
     "iopub.status.busy": "2022-09-30T20:15:16.470667Z",
     "iopub.status.idle": "2022-09-30T20:15:16.484196Z",
     "shell.execute_reply": "2022-09-30T20:15:16.483643Z"
    },
    "papermill": {
     "duration": 0.06166,
     "end_time": "2022-09-30T20:15:16.484308",
     "exception": false,
     "start_time": "2022-09-30T20:15:16.422648",
     "status": "completed"
    },
    "tags": []
   },
   "outputs": [],
   "source": [
    "model_prob = Model(layers[-2:]) "
   ]
  },
  {
   "cell_type": "code",
   "execution_count": 28,
   "id": "9b96e238",
   "metadata": {
    "execution": {
     "iopub.execute_input": "2022-09-30T20:15:16.578528Z",
     "iopub.status.busy": "2022-09-30T20:15:16.577941Z",
     "iopub.status.idle": "2022-09-30T20:15:16.591991Z",
     "shell.execute_reply": "2022-09-30T20:15:16.592857Z"
    },
    "papermill": {
     "duration": 0.063865,
     "end_time": "2022-09-30T20:15:16.592992",
     "exception": false,
     "start_time": "2022-09-30T20:15:16.529127",
     "status": "completed"
    },
    "tags": []
   },
   "outputs": [],
   "source": [
    "#creating the x and y ranges according to the above generated plot.\n",
    "x_range = np.linspace(-4, 1, 100) \n",
    "y_range = np.linspace(-6, 6, 100) \n",
    "x_grid, y_grid = np.meshgrid(x_range, y_range) # x_grid and y_grig are of size 100 X 100\n",
    "\n",
    "# converting x_grid and y_grid to continuous arrays\n",
    "x_gridflat = np.ravel(x_grid)\n",
    "y_gridflat = np.ravel(y_grid)\n",
    "\n",
    "# The last layer of the current model takes two columns as input. Hence transpose of np.vstack() is required.\n",
    "X = np.vstack((x_gridflat, y_gridflat)).T\n",
    "\n",
    "prob_contour = model_prob(X).reshape(100,100) "
   ]
  },
  {
   "cell_type": "code",
   "execution_count": 29,
   "id": "da72499a",
   "metadata": {
    "execution": {
     "iopub.execute_input": "2022-09-30T20:15:16.687296Z",
     "iopub.status.busy": "2022-09-30T20:15:16.686693Z",
     "iopub.status.idle": "2022-09-30T20:15:16.930983Z",
     "shell.execute_reply": "2022-09-30T20:15:16.930549Z"
    },
    "papermill": {
     "duration": 0.292926,
     "end_time": "2022-09-30T20:15:16.931093",
     "exception": false,
     "start_time": "2022-09-30T20:15:16.638167",
     "status": "completed"
    },
    "tags": []
   },
   "outputs": [
    {
     "data": {
      "image/png": "[encoded data removed]",
      "text/plain": [
       "<Figure size 720x648 with 1 Axes>"
      ]
     },
     "metadata": {
      "needs_background": "light"
     },
     "output_type": "display_data"
    }
   ],
   "source": [
    "plt.figure(figsize=(10,9))\n",
    "plt.scatter(testing_plot[:,0], testing_plot[:,1], alpha = 0.1, c = y_test.ravel())\n",
    "contours = plt.contour(x_grid,y_grid,prob_contour)\n",
    "plt.title('Probability Contours')\n",
    "plt.clabel(contours, inline = True );"
   ]
  },
  {
   "cell_type": "code",
   "execution_count": null,
   "id": "e81b4ac7",
   "metadata": {
    "papermill": {
     "duration": 0.046578,
     "end_time": "2022-09-30T20:15:17.025081",
     "exception": false,
     "start_time": "2022-09-30T20:15:16.978503",
     "status": "completed"
    },
    "tags": []
   },
   "outputs": [],
   "source": []
  }
 ],
 "metadata": {
  "kernelspec": {
   "display_name": "Python 3",
   "language": "python",
   "name": "python3"
  },
  "language_info": {
   "codemirror_mode": {
    "name": "ipython",
    "version": 3
   },
   "file_extension": ".py",
   "mimetype": "text/x-python",
   "name": "python",
   "nbconvert_exporter": "python",
   "pygments_lexer": "ipython3",
   "version": "3.6.15"
  },
  "papermill": {
   "default_parameters": {},
   "duration": 200.324499,
   "end_time": "2022-09-30T20:15:17.490210",
   "environment_variables": {},
   "exception": null,
   "input_path": "2020-08-11-part2.ipynb",
   "output_path": "2020-08-11-part2.ipynb",
   "parameters": {},
   "start_time": "2022-09-30T20:11:57.165711",
   "version": "2.3.3"
  }
 },
 "nbformat": 4,
 "nbformat_minor": 5
}