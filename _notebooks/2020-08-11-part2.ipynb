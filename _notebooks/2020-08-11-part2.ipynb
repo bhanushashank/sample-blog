{
 "cells": [
  {
   "cell_type": "markdown",
   "id": "98380cd3",
   "metadata": {
    "papermill": {
     "duration": 0.029773,
     "end_time": "2022-07-02T00:40:52.141246",
     "exception": false,
     "start_time": "2022-07-02T00:40:52.111473",
     "status": "completed"
    },
    "tags": []
   },
   "source": [
    "# Distinguish Your Own Digits (DYOD)"
   ]
  },
  {
   "cell_type": "markdown",
   "id": "ef31240d",
   "metadata": {
    "papermill": {
     "duration": 0.023482,
     "end_time": "2022-07-02T00:40:52.189038",
     "exception": false,
     "start_time": "2022-07-02T00:40:52.165556",
     "status": "completed"
    },
    "tags": []
   },
   "source": [
    "You are going to write a classifier that distinguishes between the number 3 and number 8."
   ]
  },
  {
   "cell_type": "code",
   "execution_count": 1,
   "id": "b15c8646",
   "metadata": {
    "execution": {
     "iopub.execute_input": "2022-07-02T00:40:52.246465Z",
     "iopub.status.busy": "2022-07-02T00:40:52.245868Z",
     "iopub.status.idle": "2022-07-02T00:40:52.256706Z",
     "shell.execute_reply": "2022-07-02T00:40:52.256122Z"
    },
    "papermill": {
     "duration": 0.044404,
     "end_time": "2022-07-02T00:40:52.256827",
     "exception": false,
     "start_time": "2022-07-02T00:40:52.212423",
     "status": "completed"
    },
    "tags": []
   },
   "outputs": [],
   "source": [
    "%load_ext autoreload\n",
    "%autoreload 2"
   ]
  },
  {
   "cell_type": "code",
   "execution_count": 2,
   "id": "22ef38dc",
   "metadata": {
    "execution": {
     "iopub.execute_input": "2022-07-02T00:40:52.307549Z",
     "iopub.status.busy": "2022-07-02T00:40:52.306971Z",
     "iopub.status.idle": "2022-07-02T00:40:52.841655Z",
     "shell.execute_reply": "2022-07-02T00:40:52.841021Z"
    },
    "papermill": {
     "duration": 0.561445,
     "end_time": "2022-07-02T00:40:52.841805",
     "exception": false,
     "start_time": "2022-07-02T00:40:52.280360",
     "status": "completed"
    },
    "tags": []
   },
   "outputs": [],
   "source": [
    "%matplotlib inline\n",
    "import numpy as np\n",
    "import matplotlib.pyplot as plt\n",
    "import pandas as pd"
   ]
  },
  {
   "cell_type": "markdown",
   "id": "ba036198",
   "metadata": {
    "papermill": {
     "duration": 0.023801,
     "end_time": "2022-07-02T00:40:52.891965",
     "exception": false,
     "start_time": "2022-07-02T00:40:52.868164",
     "status": "completed"
    },
    "tags": []
   },
   "source": [
    "From the command line run `pip install mnist`. This is a library that will help you bring down the mnist dataset. If you run this from a notebook, you need to put  `!pip install mnist` in a cell by itself."
   ]
  },
  {
   "cell_type": "code",
   "execution_count": 3,
   "id": "bb6ad8a1",
   "metadata": {
    "execution": {
     "iopub.execute_input": "2022-07-02T00:40:52.943994Z",
     "iopub.status.busy": "2022-07-02T00:40:52.943400Z",
     "iopub.status.idle": "2022-07-02T00:40:54.623535Z",
     "shell.execute_reply": "2022-07-02T00:40:54.622659Z"
    },
    "papermill": {
     "duration": 1.707965,
     "end_time": "2022-07-02T00:40:54.623673",
     "exception": false,
     "start_time": "2022-07-02T00:40:52.915708",
     "status": "completed"
    },
    "tags": []
   },
   "outputs": [
    {
     "name": "stdout",
     "output_type": "stream",
     "text": [
      "Collecting mnist\r\n"
     ]
    },
    {
     "name": "stdout",
     "output_type": "stream",
     "text": [
      "  Downloading mnist-0.2.2-py2.py3-none-any.whl (3.5 kB)\r\n"
     ]
    },
    {
     "name": "stdout",
     "output_type": "stream",
     "text": [
      "Requirement already satisfied: numpy in /opt/hostedtoolcache/Python/3.6.15/x64/lib/python3.6/site-packages (from mnist) (1.19.5)\r\n"
     ]
    },
    {
     "name": "stdout",
     "output_type": "stream",
     "text": [
      "Installing collected packages: mnist\r\n",
      "Successfully installed mnist-0.2.2\r\n"
     ]
    }
   ],
   "source": [
    "!pip install mnist"
   ]
  },
  {
   "cell_type": "markdown",
   "id": "69df9c9a",
   "metadata": {
    "papermill": {
     "duration": 0.025009,
     "end_time": "2022-07-02T00:40:54.673714",
     "exception": false,
     "start_time": "2022-07-02T00:40:54.648705",
     "status": "completed"
    },
    "tags": []
   },
   "source": [
    "## Preparing the Data"
   ]
  },
  {
   "cell_type": "code",
   "execution_count": 4,
   "id": "7f69d806",
   "metadata": {
    "execution": {
     "iopub.execute_input": "2022-07-02T00:40:54.739517Z",
     "iopub.status.busy": "2022-07-02T00:40:54.738926Z",
     "iopub.status.idle": "2022-07-02T00:40:54.746854Z",
     "shell.execute_reply": "2022-07-02T00:40:54.746376Z"
    },
    "papermill": {
     "duration": 0.048819,
     "end_time": "2022-07-02T00:40:54.746957",
     "exception": false,
     "start_time": "2022-07-02T00:40:54.698138",
     "status": "completed"
    },
    "tags": []
   },
   "outputs": [],
   "source": [
    "import mnist"
   ]
  },
  {
   "cell_type": "code",
   "execution_count": 5,
   "id": "a411e44f",
   "metadata": {
    "execution": {
     "iopub.execute_input": "2022-07-02T00:40:54.811144Z",
     "iopub.status.busy": "2022-07-02T00:40:54.810210Z",
     "iopub.status.idle": "2022-07-02T00:40:55.328854Z",
     "shell.execute_reply": "2022-07-02T00:40:55.328224Z"
    },
    "papermill": {
     "duration": 0.557188,
     "end_time": "2022-07-02T00:40:55.328992",
     "exception": false,
     "start_time": "2022-07-02T00:40:54.771804",
     "status": "completed"
    },
    "tags": []
   },
   "outputs": [],
   "source": [
    "train_images = mnist.train_images()\n",
    "train_labels = mnist.train_labels()"
   ]
  },
  {
   "cell_type": "code",
   "execution_count": 6,
   "id": "dceab3a5",
   "metadata": {
    "execution": {
     "iopub.execute_input": "2022-07-02T00:40:55.382230Z",
     "iopub.status.busy": "2022-07-02T00:40:55.381647Z",
     "iopub.status.idle": "2022-07-02T00:40:55.396647Z",
     "shell.execute_reply": "2022-07-02T00:40:55.396175Z"
    },
    "papermill": {
     "duration": 0.042608,
     "end_time": "2022-07-02T00:40:55.396753",
     "exception": false,
     "start_time": "2022-07-02T00:40:55.354145",
     "status": "completed"
    },
    "tags": []
   },
   "outputs": [
    {
     "data": {
      "text/plain": [
       "((60000, 28, 28), (60000,))"
      ]
     },
     "execution_count": 6,
     "metadata": {},
     "output_type": "execute_result"
    }
   ],
   "source": [
    "train_images.shape, train_labels.shape"
   ]
  },
  {
   "cell_type": "code",
   "execution_count": 7,
   "id": "f50dc2bb",
   "metadata": {
    "execution": {
     "iopub.execute_input": "2022-07-02T00:40:55.453037Z",
     "iopub.status.busy": "2022-07-02T00:40:55.452471Z",
     "iopub.status.idle": "2022-07-02T00:40:55.612724Z",
     "shell.execute_reply": "2022-07-02T00:40:55.612100Z"
    },
    "papermill": {
     "duration": 0.191258,
     "end_time": "2022-07-02T00:40:55.612861",
     "exception": false,
     "start_time": "2022-07-02T00:40:55.421603",
     "status": "completed"
    },
    "tags": []
   },
   "outputs": [],
   "source": [
    "test_images = mnist.test_images()\n",
    "test_labels = mnist.test_labels()"
   ]
  },
  {
   "cell_type": "code",
   "execution_count": 8,
   "id": "fc38cf1b",
   "metadata": {
    "execution": {
     "iopub.execute_input": "2022-07-02T00:40:55.671599Z",
     "iopub.status.busy": "2022-07-02T00:40:55.671016Z",
     "iopub.status.idle": "2022-07-02T00:40:55.681922Z",
     "shell.execute_reply": "2022-07-02T00:40:55.681437Z"
    },
    "papermill": {
     "duration": 0.04381,
     "end_time": "2022-07-02T00:40:55.682032",
     "exception": false,
     "start_time": "2022-07-02T00:40:55.638222",
     "status": "completed"
    },
    "tags": []
   },
   "outputs": [
    {
     "data": {
      "text/plain": [
       "((10000, 28, 28), (10000,))"
      ]
     },
     "execution_count": 8,
     "metadata": {},
     "output_type": "execute_result"
    }
   ],
   "source": [
    "test_images.shape, test_labels.shape"
   ]
  },
  {
   "cell_type": "code",
   "execution_count": 9,
   "id": "f9ed8fe0",
   "metadata": {
    "execution": {
     "iopub.execute_input": "2022-07-02T00:40:55.747851Z",
     "iopub.status.busy": "2022-07-02T00:40:55.743084Z",
     "iopub.status.idle": "2022-07-02T00:40:55.876229Z",
     "shell.execute_reply": "2022-07-02T00:40:55.875676Z"
    },
    "papermill": {
     "duration": 0.16943,
     "end_time": "2022-07-02T00:40:55.876377",
     "exception": false,
     "start_time": "2022-07-02T00:40:55.706947",
     "status": "completed"
    },
    "tags": []
   },
   "outputs": [
    {
     "name": "stdout",
     "output_type": "stream",
     "text": [
      "2\n"
     ]
    },
    {
     "data": {
      "text/plain": [
       "<matplotlib.image.AxesImage at 0x7f2a5306e588>"
      ]
     },
     "execution_count": 9,
     "metadata": {},
     "output_type": "execute_result"
    },
    {
     "data": {
      "image/png": "[encoded data removed]",
      "text/plain": [
       "<Figure size 432x288 with 1 Axes>"
      ]
     },
     "metadata": {
      "needs_background": "light"
     },
     "output_type": "display_data"
    }
   ],
   "source": [
    "image_index = 7776 # You may select anything up to 60,000\n",
    "print(train_labels[image_index]) \n",
    "plt.imshow(train_images[image_index], cmap='Greys')"
   ]
  },
  {
   "cell_type": "markdown",
   "id": "a8d2388d",
   "metadata": {
    "papermill": {
     "duration": 0.026627,
     "end_time": "2022-07-02T00:40:55.929841",
     "exception": false,
     "start_time": "2022-07-02T00:40:55.903214",
     "status": "completed"
    },
    "tags": []
   },
   "source": [
    "## Filter data to get 3 and 8 out"
   ]
  },
  {
   "cell_type": "code",
   "execution_count": 10,
   "id": "776f7fc7",
   "metadata": {
    "execution": {
     "iopub.execute_input": "2022-07-02T00:40:55.999245Z",
     "iopub.status.busy": "2022-07-02T00:40:55.998650Z",
     "iopub.status.idle": "2022-07-02T00:40:56.010180Z",
     "shell.execute_reply": "2022-07-02T00:40:56.009698Z"
    },
    "papermill": {
     "duration": 0.054159,
     "end_time": "2022-07-02T00:40:56.010294",
     "exception": false,
     "start_time": "2022-07-02T00:40:55.956135",
     "status": "completed"
    },
    "tags": []
   },
   "outputs": [],
   "source": [
    "train_filter = np.where((train_labels == 3 ) | (train_labels == 8))\n",
    "test_filter = np.where((test_labels == 3) | (test_labels == 8))\n",
    "X_train, y_train = train_images[train_filter], train_labels[train_filter]\n",
    "X_test, y_test = test_images[test_filter], test_labels[test_filter]"
   ]
  },
  {
   "cell_type": "markdown",
   "id": "948f0b7e",
   "metadata": {
    "papermill": {
     "duration": 0.026186,
     "end_time": "2022-07-02T00:40:56.062873",
     "exception": false,
     "start_time": "2022-07-02T00:40:56.036687",
     "status": "completed"
    },
    "tags": []
   },
   "source": [
    "We normalize the pizel values in the 0 to 1 range"
   ]
  },
  {
   "cell_type": "code",
   "execution_count": 11,
   "id": "ee4c2166",
   "metadata": {
    "execution": {
     "iopub.execute_input": "2022-07-02T00:40:56.118907Z",
     "iopub.status.busy": "2022-07-02T00:40:56.118320Z",
     "iopub.status.idle": "2022-07-02T00:40:56.166748Z",
     "shell.execute_reply": "2022-07-02T00:40:56.166163Z"
    },
    "papermill": {
     "duration": 0.077891,
     "end_time": "2022-07-02T00:40:56.166885",
     "exception": false,
     "start_time": "2022-07-02T00:40:56.088994",
     "status": "completed"
    },
    "tags": []
   },
   "outputs": [],
   "source": [
    "X_train = X_train/255.\n",
    "X_test = X_test/255."
   ]
  },
  {
   "cell_type": "markdown",
   "id": "ddcf4fab",
   "metadata": {
    "papermill": {
     "duration": 0.026191,
     "end_time": "2022-07-02T00:40:56.220426",
     "exception": false,
     "start_time": "2022-07-02T00:40:56.194235",
     "status": "completed"
    },
    "tags": []
   },
   "source": [
    "And setup the labels as 1 (when the digit is 3) and 0 (when the digit is 8)"
   ]
  },
  {
   "cell_type": "code",
   "execution_count": 12,
   "id": "7dc908f2",
   "metadata": {
    "execution": {
     "iopub.execute_input": "2022-07-02T00:40:56.277567Z",
     "iopub.status.busy": "2022-07-02T00:40:56.276941Z",
     "iopub.status.idle": "2022-07-02T00:40:56.288991Z",
     "shell.execute_reply": "2022-07-02T00:40:56.289441Z"
    },
    "papermill": {
     "duration": 0.042435,
     "end_time": "2022-07-02T00:40:56.289576",
     "exception": false,
     "start_time": "2022-07-02T00:40:56.247141",
     "status": "completed"
    },
    "tags": []
   },
   "outputs": [],
   "source": [
    "y_train = 1*(y_train==3)\n",
    "y_test = 1*(y_test==3)"
   ]
  },
  {
   "cell_type": "code",
   "execution_count": 13,
   "id": "01e4e969",
   "metadata": {
    "execution": {
     "iopub.execute_input": "2022-07-02T00:40:56.345247Z",
     "iopub.status.busy": "2022-07-02T00:40:56.344642Z",
     "iopub.status.idle": "2022-07-02T00:40:56.358455Z",
     "shell.execute_reply": "2022-07-02T00:40:56.357982Z"
    },
    "papermill": {
     "duration": 0.042947,
     "end_time": "2022-07-02T00:40:56.358564",
     "exception": false,
     "start_time": "2022-07-02T00:40:56.315617",
     "status": "completed"
    },
    "tags": []
   },
   "outputs": [
    {
     "data": {
      "text/plain": [
       "((11982, 28, 28), (1984, 28, 28))"
      ]
     },
     "execution_count": 13,
     "metadata": {},
     "output_type": "execute_result"
    }
   ],
   "source": [
    "X_train.shape, X_test.shape"
   ]
  },
  {
   "cell_type": "markdown",
   "id": "5ccf3f85",
   "metadata": {
    "papermill": {
     "duration": 0.027287,
     "end_time": "2022-07-02T00:40:56.412314",
     "exception": false,
     "start_time": "2022-07-02T00:40:56.385027",
     "status": "completed"
    },
    "tags": []
   },
   "source": [
    "We reshape the data to flatten the image pixels into a set of features or co-variates:"
   ]
  },
  {
   "cell_type": "code",
   "execution_count": 14,
   "id": "5286a4a3",
   "metadata": {
    "execution": {
     "iopub.execute_input": "2022-07-02T00:40:56.484948Z",
     "iopub.status.busy": "2022-07-02T00:40:56.482094Z",
     "iopub.status.idle": "2022-07-02T00:40:56.488474Z",
     "shell.execute_reply": "2022-07-02T00:40:56.488002Z"
    },
    "papermill": {
     "duration": 0.049577,
     "end_time": "2022-07-02T00:40:56.488578",
     "exception": false,
     "start_time": "2022-07-02T00:40:56.439001",
     "status": "completed"
    },
    "tags": []
   },
   "outputs": [
    {
     "data": {
      "text/plain": [
       "((11982, 784), (1984, 784))"
      ]
     },
     "execution_count": 14,
     "metadata": {},
     "output_type": "execute_result"
    }
   ],
   "source": [
    "X_train = X_train.reshape(X_train.shape[0], -1)\n",
    "X_test = X_test.reshape(X_test.shape[0], -1)\n",
    "X_train.shape, X_test.shape"
   ]
  },
  {
   "cell_type": "code",
   "execution_count": 15,
   "id": "73c5f88a",
   "metadata": {
    "execution": {
     "iopub.execute_input": "2022-07-02T00:40:56.545966Z",
     "iopub.status.busy": "2022-07-02T00:40:56.545139Z",
     "iopub.status.idle": "2022-07-02T00:40:56.563495Z",
     "shell.execute_reply": "2022-07-02T00:40:56.563916Z"
    },
    "papermill": {
     "duration": 0.048942,
     "end_time": "2022-07-02T00:40:56.564034",
     "exception": false,
     "start_time": "2022-07-02T00:40:56.515092",
     "status": "completed"
    },
    "tags": []
   },
   "outputs": [],
   "source": [
    "#Impoting functions from 'Kudzu'\n",
    "from kudzu.model import Model\n",
    "from kudzu.train import Learner\n",
    "from kudzu.optim import GD\n",
    "from kudzu.data import Data, Sampler,Dataloader\n",
    "\n",
    "from kudzu.callbacks import AccCallback\n",
    "from kudzu.callbacks import ClfCallback\n",
    "\n",
    "from kudzu.loss import MSE\n",
    "\n",
    "from kudzu.layer import Sigmoid,Relu\n",
    "from kudzu.layer import Affine"
   ]
  },
  {
   "cell_type": "markdown",
   "id": "bc01172a",
   "metadata": {
    "papermill": {
     "duration": 0.026705,
     "end_time": "2022-07-02T00:40:56.619776",
     "exception": false,
     "start_time": "2022-07-02T00:40:56.593071",
     "status": "completed"
    },
    "tags": []
   },
   "source": [
    "### Let us create a `Config` class, to store important parameters. \n",
    "This class essentially plays the role of a dictionary."
   ]
  },
  {
   "cell_type": "code",
   "execution_count": 16,
   "id": "978281aa",
   "metadata": {
    "execution": {
     "iopub.execute_input": "2022-07-02T00:40:56.676773Z",
     "iopub.status.busy": "2022-07-02T00:40:56.676193Z",
     "iopub.status.idle": "2022-07-02T00:40:56.689143Z",
     "shell.execute_reply": "2022-07-02T00:40:56.688674Z"
    },
    "papermill": {
     "duration": 0.042957,
     "end_time": "2022-07-02T00:40:56.689268",
     "exception": false,
     "start_time": "2022-07-02T00:40:56.646311",
     "status": "completed"
    },
    "tags": []
   },
   "outputs": [],
   "source": [
    "class Config:\n",
    "    pass\n",
    "config = Config()\n",
    "config.lr = 0.001\n",
    "config.num_epochs = 250\n",
    "config.bs = 50"
   ]
  },
  {
   "cell_type": "markdown",
   "id": "1385fa59",
   "metadata": {
    "papermill": {
     "duration": 0.026638,
     "end_time": "2022-07-02T00:40:56.742709",
     "exception": false,
     "start_time": "2022-07-02T00:40:56.716071",
     "status": "completed"
    },
    "tags": []
   },
   "source": [
    "### Running Models with the Training data\n",
    "Details about the network layers:\n",
    "- A first affine layer has 784 inputs and does 100 affine transforms. These are followed by a Relu\n",
    "- A second affine layer has 100 inputs from the 100 activations of the past layer, and does 100 affine transforms. These are followed by a Relu\n",
    "- A third affine layer has 100 activations and does 2 affine transformations to create an embedding for visualization. There is no non-linearity here.\n",
    "- A final \"logistic regression\" which has an affine transform from 2 inputs to 1 output, which is squeezed through a sigmoid.\n"
   ]
  },
  {
   "cell_type": "code",
   "execution_count": 17,
   "id": "2b9c66db",
   "metadata": {
    "execution": {
     "iopub.execute_input": "2022-07-02T00:40:56.815630Z",
     "iopub.status.busy": "2022-07-02T00:40:56.815043Z",
     "iopub.status.idle": "2022-07-02T00:40:56.817355Z",
     "shell.execute_reply": "2022-07-02T00:40:56.817812Z"
    },
    "papermill": {
     "duration": 0.04868,
     "end_time": "2022-07-02T00:40:56.817939",
     "exception": false,
     "start_time": "2022-07-02T00:40:56.769259",
     "status": "completed"
    },
    "tags": []
   },
   "outputs": [],
   "source": [
    "data = Data(X_train, y_train.reshape(-1,1))\n",
    "sampler = Sampler(data, config.bs, shuffle=True)\n",
    "\n",
    "dl = Dataloader(data, sampler)\n",
    "\n",
    "opt = GD(config.lr)\n",
    "loss = MSE()"
   ]
  },
  {
   "cell_type": "code",
   "execution_count": 18,
   "id": "b275e4c2",
   "metadata": {
    "execution": {
     "iopub.execute_input": "2022-07-02T00:40:56.883496Z",
     "iopub.status.busy": "2022-07-02T00:40:56.882911Z",
     "iopub.status.idle": "2022-07-02T00:40:56.891756Z",
     "shell.execute_reply": "2022-07-02T00:40:56.890964Z"
    },
    "papermill": {
     "duration": 0.047277,
     "end_time": "2022-07-02T00:40:56.891864",
     "exception": false,
     "start_time": "2022-07-02T00:40:56.844587",
     "status": "completed"
    },
    "tags": []
   },
   "outputs": [],
   "source": [
    "training_data_x = X_train\n",
    "testing_data_x = X_test\n",
    "training_data_y = y_train.reshape(-1,1)\n",
    "testing_data_y = y_test.reshape(-1,1)"
   ]
  },
  {
   "cell_type": "code",
   "execution_count": 19,
   "id": "76951160",
   "metadata": {
    "execution": {
     "iopub.execute_input": "2022-07-02T00:40:56.953988Z",
     "iopub.status.busy": "2022-07-02T00:40:56.951030Z",
     "iopub.status.idle": "2022-07-02T00:40:56.968328Z",
     "shell.execute_reply": "2022-07-02T00:40:56.968778Z"
    },
    "papermill": {
     "duration": 0.048155,
     "end_time": "2022-07-02T00:40:56.968894",
     "exception": false,
     "start_time": "2022-07-02T00:40:56.920739",
     "status": "completed"
    },
    "tags": []
   },
   "outputs": [
    {
     "name": "stdout",
     "output_type": "stream",
     "text": [
      "xavier\n",
      "xavier\n",
      "xavier\n",
      "xavier\n",
      "xavier\n"
     ]
    }
   ],
   "source": [
    "layers = [Affine(\"first\", 784, 100), Relu(\"first\"), Affine(\"second\", 100, 100), Relu(\"second\"), Affine(\"third\", 100, 2), Affine(\"last\", 2, 1), Sigmoid(\"last\")]\n",
    "model_nn = Model(layers)\n",
    "model_lr = Model([Affine(\"logits\", 784, 1), Sigmoid(\"sigmoid\")])"
   ]
  },
  {
   "cell_type": "code",
   "execution_count": 20,
   "id": "6eede77a",
   "metadata": {
    "execution": {
     "iopub.execute_input": "2022-07-02T00:40:57.038104Z",
     "iopub.status.busy": "2022-07-02T00:40:57.034977Z",
     "iopub.status.idle": "2022-07-02T00:40:57.043448Z",
     "shell.execute_reply": "2022-07-02T00:40:57.042953Z"
    },
    "papermill": {
     "duration": 0.045265,
     "end_time": "2022-07-02T00:40:57.043558",
     "exception": false,
     "start_time": "2022-07-02T00:40:56.998293",
     "status": "completed"
    },
    "tags": []
   },
   "outputs": [],
   "source": [
    "nn_learner = Learner(loss, model_nn, opt, config.num_epochs)\n",
    "acc_nn = ClfCallback(nn_learner, config.bs, training_data_x , testing_data_x, training_data_y, testing_data_y)\n",
    "nn_learner.set_callbacks([acc_nn])"
   ]
  },
  {
   "cell_type": "code",
   "execution_count": 21,
   "id": "877b6cc7",
   "metadata": {
    "execution": {
     "iopub.execute_input": "2022-07-02T00:40:57.114018Z",
     "iopub.status.busy": "2022-07-02T00:40:57.100879Z",
     "iopub.status.idle": "2022-07-02T00:40:57.118209Z",
     "shell.execute_reply": "2022-07-02T00:40:57.117708Z"
    },
    "papermill": {
     "duration": 0.047893,
     "end_time": "2022-07-02T00:40:57.118316",
     "exception": false,
     "start_time": "2022-07-02T00:40:57.070423",
     "status": "completed"
    },
    "tags": []
   },
   "outputs": [],
   "source": [
    "lr_learner = Learner(loss, model_lr, opt, config.num_epochs)\n",
    "acc_lr = ClfCallback(lr_learner, config.bs, training_data_x , testing_data_x, training_data_y, testing_data_y)\n",
    "lr_learner.set_callbacks([acc_lr])"
   ]
  },
  {
   "cell_type": "code",
   "execution_count": 22,
   "id": "d9b133c3",
   "metadata": {
    "execution": {
     "iopub.execute_input": "2022-07-02T00:40:57.185923Z",
     "iopub.status.busy": "2022-07-02T00:40:57.175034Z",
     "iopub.status.idle": "2022-07-02T00:42:12.015272Z",
     "shell.execute_reply": "2022-07-02T00:42:12.016111Z"
    },
    "papermill": {
     "duration": 74.870893,
     "end_time": "2022-07-02T00:42:12.016269",
     "exception": false,
     "start_time": "2022-07-02T00:40:57.145376",
     "status": "completed"
    },
    "tags": []
   },
   "outputs": [
    {
     "name": "stdout",
     "output_type": "stream",
     "text": [
      "Epoch 0, Loss 0.2013\n",
      "Training Accuracy: 0.8213, Testing Accuracy: 0.8236\n",
      "\n"
     ]
    },
    {
     "name": "stdout",
     "output_type": "stream",
     "text": [
      "Epoch 10, Loss 0.055\n",
      "Training Accuracy: 0.9412, Testing Accuracy: 0.9506\n",
      "\n"
     ]
    },
    {
     "name": "stdout",
     "output_type": "stream",
     "text": [
      "Epoch 20, Loss 0.0403\n",
      "Training Accuracy: 0.9554, Testing Accuracy: 0.9642\n",
      "\n"
     ]
    },
    {
     "name": "stdout",
     "output_type": "stream",
     "text": [
      "Epoch 30, Loss 0.0342\n",
      "Training Accuracy: 0.9620, Testing Accuracy: 0.9688\n",
      "\n"
     ]
    },
    {
     "name": "stdout",
     "output_type": "stream",
     "text": [
      "Epoch 40, Loss 0.0307\n",
      "Training Accuracy: 0.9663, Testing Accuracy: 0.9708\n",
      "\n"
     ]
    },
    {
     "name": "stdout",
     "output_type": "stream",
     "text": [
      "Epoch 50, Loss 0.0283\n",
      "Training Accuracy: 0.9688, Testing Accuracy: 0.9723\n",
      "\n"
     ]
    },
    {
     "name": "stdout",
     "output_type": "stream",
     "text": [
      "Epoch 60, Loss 0.0265\n",
      "Training Accuracy: 0.9708, Testing Accuracy: 0.9738\n",
      "\n"
     ]
    },
    {
     "name": "stdout",
     "output_type": "stream",
     "text": [
      "Epoch 70, Loss 0.0251\n",
      "Training Accuracy: 0.9720, Testing Accuracy: 0.9743\n",
      "\n"
     ]
    },
    {
     "name": "stdout",
     "output_type": "stream",
     "text": [
      "Epoch 80, Loss 0.024\n",
      "Training Accuracy: 0.9736, Testing Accuracy: 0.9738\n",
      "\n"
     ]
    },
    {
     "name": "stdout",
     "output_type": "stream",
     "text": [
      "Epoch 90, Loss 0.023\n",
      "Training Accuracy: 0.9749, Testing Accuracy: 0.9743\n",
      "\n"
     ]
    },
    {
     "name": "stdout",
     "output_type": "stream",
     "text": [
      "Epoch 100, Loss 0.0221\n",
      "Training Accuracy: 0.9756, Testing Accuracy: 0.9748\n",
      "\n"
     ]
    },
    {
     "name": "stdout",
     "output_type": "stream",
     "text": [
      "Epoch 110, Loss 0.0213\n",
      "Training Accuracy: 0.9764, Testing Accuracy: 0.9753\n",
      "\n"
     ]
    },
    {
     "name": "stdout",
     "output_type": "stream",
     "text": [
      "Epoch 120, Loss 0.0206\n",
      "Training Accuracy: 0.9771, Testing Accuracy: 0.9758\n",
      "\n"
     ]
    },
    {
     "name": "stdout",
     "output_type": "stream",
     "text": [
      "Epoch 130, Loss 0.0199\n",
      "Training Accuracy: 0.9775, Testing Accuracy: 0.9758\n",
      "\n"
     ]
    },
    {
     "name": "stdout",
     "output_type": "stream",
     "text": [
      "Epoch 140, Loss 0.0193\n",
      "Training Accuracy: 0.9789, Testing Accuracy: 0.9758\n",
      "\n"
     ]
    },
    {
     "name": "stdout",
     "output_type": "stream",
     "text": [
      "Epoch 150, Loss 0.0187\n",
      "Training Accuracy: 0.9796, Testing Accuracy: 0.9763\n",
      "\n"
     ]
    },
    {
     "name": "stdout",
     "output_type": "stream",
     "text": [
      "Epoch 160, Loss 0.0182\n",
      "Training Accuracy: 0.9801, Testing Accuracy: 0.9768\n",
      "\n"
     ]
    },
    {
     "name": "stdout",
     "output_type": "stream",
     "text": [
      "Epoch 170, Loss 0.0177\n",
      "Training Accuracy: 0.9809, Testing Accuracy: 0.9768\n",
      "\n"
     ]
    },
    {
     "name": "stdout",
     "output_type": "stream",
     "text": [
      "Epoch 180, Loss 0.0172\n",
      "Training Accuracy: 0.9818, Testing Accuracy: 0.9768\n",
      "\n"
     ]
    },
    {
     "name": "stdout",
     "output_type": "stream",
     "text": [
      "Epoch 190, Loss 0.0167\n",
      "Training Accuracy: 0.9826, Testing Accuracy: 0.9768\n",
      "\n"
     ]
    },
    {
     "name": "stdout",
     "output_type": "stream",
     "text": [
      "Epoch 200, Loss 0.0162\n",
      "Training Accuracy: 0.9831, Testing Accuracy: 0.9773\n",
      "\n"
     ]
    },
    {
     "name": "stdout",
     "output_type": "stream",
     "text": [
      "Epoch 210, Loss 0.0158\n",
      "Training Accuracy: 0.9838, Testing Accuracy: 0.9773\n",
      "\n"
     ]
    },
    {
     "name": "stdout",
     "output_type": "stream",
     "text": [
      "Epoch 220, Loss 0.0154\n",
      "Training Accuracy: 0.9841, Testing Accuracy: 0.9783\n",
      "\n"
     ]
    },
    {
     "name": "stdout",
     "output_type": "stream",
     "text": [
      "Epoch 230, Loss 0.015\n",
      "Training Accuracy: 0.9845, Testing Accuracy: 0.9783\n",
      "\n"
     ]
    },
    {
     "name": "stdout",
     "output_type": "stream",
     "text": [
      "Epoch 240, Loss 0.0146\n",
      "Training Accuracy: 0.9851, Testing Accuracy: 0.9793\n",
      "\n"
     ]
    },
    {
     "data": {
      "text/plain": [
       "0.0007433317808606371"
      ]
     },
     "execution_count": 22,
     "metadata": {},
     "output_type": "execute_result"
    }
   ],
   "source": [
    "nn_learner.train_loop(dl)"
   ]
  },
  {
   "cell_type": "code",
   "execution_count": 23,
   "id": "e0163366",
   "metadata": {
    "execution": {
     "iopub.execute_input": "2022-07-02T00:42:12.098878Z",
     "iopub.status.busy": "2022-07-02T00:42:12.098270Z",
     "iopub.status.idle": "2022-07-02T00:42:25.778378Z",
     "shell.execute_reply": "2022-07-02T00:42:25.779212Z"
    },
    "papermill": {
     "duration": 13.724839,
     "end_time": "2022-07-02T00:42:25.779370",
     "exception": false,
     "start_time": "2022-07-02T00:42:12.054531",
     "status": "completed"
    },
    "tags": []
   },
   "outputs": [
    {
     "name": "stdout",
     "output_type": "stream",
     "text": [
      "Epoch 0, Loss 0.2173\n",
      "Training Accuracy: 0.7679, Testing Accuracy: 0.7697\n",
      "\n"
     ]
    },
    {
     "name": "stdout",
     "output_type": "stream",
     "text": [
      "Epoch 10, Loss 0.1007\n",
      "Training Accuracy: 0.9146, Testing Accuracy: 0.9299\n",
      "\n"
     ]
    },
    {
     "name": "stdout",
     "output_type": "stream",
     "text": [
      "Epoch 20, Loss 0.0782\n",
      "Training Accuracy: 0.9289, Testing Accuracy: 0.9451\n",
      "\n"
     ]
    },
    {
     "name": "stdout",
     "output_type": "stream",
     "text": [
      "Epoch 30, Loss 0.0676\n",
      "Training Accuracy: 0.9363, Testing Accuracy: 0.9516\n",
      "\n"
     ]
    },
    {
     "name": "stdout",
     "output_type": "stream",
     "text": [
      "Epoch 40, Loss 0.0612\n",
      "Training Accuracy: 0.9427, Testing Accuracy: 0.9526\n",
      "\n"
     ]
    },
    {
     "name": "stdout",
     "output_type": "stream",
     "text": [
      "Epoch 50, Loss 0.0568\n",
      "Training Accuracy: 0.9463, Testing Accuracy: 0.9561\n",
      "\n"
     ]
    },
    {
     "name": "stdout",
     "output_type": "stream",
     "text": [
      "Epoch 60, Loss 0.0535\n",
      "Training Accuracy: 0.9486, Testing Accuracy: 0.9597\n",
      "\n"
     ]
    },
    {
     "name": "stdout",
     "output_type": "stream",
     "text": [
      "Epoch 70, Loss 0.051\n",
      "Training Accuracy: 0.9503, Testing Accuracy: 0.9612\n",
      "\n"
     ]
    },
    {
     "name": "stdout",
     "output_type": "stream",
     "text": [
      "Epoch 80, Loss 0.049\n",
      "Training Accuracy: 0.9516, Testing Accuracy: 0.9632\n",
      "\n"
     ]
    },
    {
     "name": "stdout",
     "output_type": "stream",
     "text": [
      "Epoch 90, Loss 0.0474\n",
      "Training Accuracy: 0.9528, Testing Accuracy: 0.9642\n",
      "\n"
     ]
    },
    {
     "name": "stdout",
     "output_type": "stream",
     "text": [
      "Epoch 100, Loss 0.0459\n",
      "Training Accuracy: 0.9535, Testing Accuracy: 0.9642\n",
      "\n"
     ]
    },
    {
     "name": "stdout",
     "output_type": "stream",
     "text": [
      "Epoch 110, Loss 0.0447\n",
      "Training Accuracy: 0.9543, Testing Accuracy: 0.9652\n",
      "\n"
     ]
    },
    {
     "name": "stdout",
     "output_type": "stream",
     "text": [
      "Epoch 120, Loss 0.0437\n",
      "Training Accuracy: 0.9553, Testing Accuracy: 0.9647\n",
      "\n"
     ]
    },
    {
     "name": "stdout",
     "output_type": "stream",
     "text": [
      "Epoch 130, Loss 0.0428\n",
      "Training Accuracy: 0.9557, Testing Accuracy: 0.9642\n",
      "\n"
     ]
    },
    {
     "name": "stdout",
     "output_type": "stream",
     "text": [
      "Epoch 140, Loss 0.042\n",
      "Training Accuracy: 0.9565, Testing Accuracy: 0.9647\n",
      "\n"
     ]
    },
    {
     "name": "stdout",
     "output_type": "stream",
     "text": [
      "Epoch 150, Loss 0.0412\n",
      "Training Accuracy: 0.9575, Testing Accuracy: 0.9652\n",
      "\n"
     ]
    },
    {
     "name": "stdout",
     "output_type": "stream",
     "text": [
      "Epoch 160, Loss 0.0406\n",
      "Training Accuracy: 0.9577, Testing Accuracy: 0.9667\n",
      "\n"
     ]
    },
    {
     "name": "stdout",
     "output_type": "stream",
     "text": [
      "Epoch 170, Loss 0.04\n",
      "Training Accuracy: 0.9584, Testing Accuracy: 0.9677\n",
      "\n"
     ]
    },
    {
     "name": "stdout",
     "output_type": "stream",
     "text": [
      "Epoch 180, Loss 0.0394\n",
      "Training Accuracy: 0.9594, Testing Accuracy: 0.9677\n",
      "\n"
     ]
    },
    {
     "name": "stdout",
     "output_type": "stream",
     "text": [
      "Epoch 190, Loss 0.0389\n",
      "Training Accuracy: 0.9597, Testing Accuracy: 0.9677\n",
      "\n"
     ]
    },
    {
     "name": "stdout",
     "output_type": "stream",
     "text": [
      "Epoch 200, Loss 0.0384\n",
      "Training Accuracy: 0.9600, Testing Accuracy: 0.9682\n",
      "\n"
     ]
    },
    {
     "name": "stdout",
     "output_type": "stream",
     "text": [
      "Epoch 210, Loss 0.038\n",
      "Training Accuracy: 0.9606, Testing Accuracy: 0.9688\n",
      "\n"
     ]
    },
    {
     "name": "stdout",
     "output_type": "stream",
     "text": [
      "Epoch 220, Loss 0.0376\n",
      "Training Accuracy: 0.9608, Testing Accuracy: 0.9688\n",
      "\n"
     ]
    },
    {
     "name": "stdout",
     "output_type": "stream",
     "text": [
      "Epoch 230, Loss 0.0372\n",
      "Training Accuracy: 0.9609, Testing Accuracy: 0.9682\n",
      "\n"
     ]
    },
    {
     "name": "stdout",
     "output_type": "stream",
     "text": [
      "Epoch 240, Loss 0.0368\n",
      "Training Accuracy: 0.9611, Testing Accuracy: 0.9688\n",
      "\n"
     ]
    },
    {
     "data": {
      "text/plain": [
       "0.015252911410293973"
      ]
     },
     "execution_count": 23,
     "metadata": {},
     "output_type": "execute_result"
    }
   ],
   "source": [
    "lr_learner.train_loop(dl)"
   ]
  },
  {
   "cell_type": "code",
   "execution_count": 24,
   "id": "ca410940",
   "metadata": {
    "execution": {
     "iopub.execute_input": "2022-07-02T00:42:25.876790Z",
     "iopub.status.busy": "2022-07-02T00:42:25.876161Z",
     "iopub.status.idle": "2022-07-02T00:42:26.085436Z",
     "shell.execute_reply": "2022-07-02T00:42:26.084908Z"
    },
    "papermill": {
     "duration": 0.264286,
     "end_time": "2022-07-02T00:42:26.085566",
     "exception": false,
     "start_time": "2022-07-02T00:42:25.821280",
     "status": "completed"
    },
    "tags": []
   },
   "outputs": [
    {
     "data": {
      "text/plain": [
       "<matplotlib.legend.Legend at 0x7f2a52bc8c50>"
      ]
     },
     "execution_count": 24,
     "metadata": {},
     "output_type": "execute_result"
    },
    {
     "data": {
      "image/png": "[encoded data removed]",
      "text/plain": [
       "<Figure size 1080x720 with 1 Axes>"
      ]
     },
     "metadata": {
      "needs_background": "light"
     },
     "output_type": "display_data"
    }
   ],
   "source": [
    "#comparing the results of NN and LR\n",
    "plt.figure(figsize=(15,10))\n",
    "\n",
    "# Neural Network plots\n",
    "plt.plot(acc_nn.accuracies, 'r-', label = \"Training Accuracies - NN\")\n",
    "plt.plot(acc_nn.test_accuracies, 'g-', label = \"Testing Accuracies - NN\")\n",
    "\n",
    "# Logistic Regression plots\n",
    "plt.plot(acc_lr.accuracies, 'k-', label = \"Training Accuracies - LR\")\n",
    "plt.plot(acc_lr.test_accuracies, 'b-', label = \"Testing Accuracies - LR\")\n",
    "plt.legend()"
   ]
  },
  {
   "cell_type": "markdown",
   "id": "80dfb35c",
   "metadata": {
    "papermill": {
     "duration": 0.04362,
     "end_time": "2022-07-02T00:42:26.171232",
     "exception": false,
     "start_time": "2022-07-02T00:42:26.127612",
     "status": "completed"
    },
    "tags": []
   },
   "source": [
    "#### Plotting the outputs of this layer of the NN.\n"
   ]
  },
  {
   "cell_type": "code",
   "execution_count": 25,
   "id": "45eb2ff5",
   "metadata": {
    "execution": {
     "iopub.execute_input": "2022-07-02T00:42:26.261809Z",
     "iopub.status.busy": "2022-07-02T00:42:26.261171Z",
     "iopub.status.idle": "2022-07-02T00:42:26.280732Z",
     "shell.execute_reply": "2022-07-02T00:42:26.279931Z"
    },
    "papermill": {
     "duration": 0.06778,
     "end_time": "2022-07-02T00:42:26.280851",
     "exception": false,
     "start_time": "2022-07-02T00:42:26.213071",
     "status": "completed"
    },
    "tags": []
   },
   "outputs": [],
   "source": [
    "new_model = Model(layers[:-2])\n",
    "testing_plot = new_model(testing_data_x)"
   ]
  },
  {
   "cell_type": "code",
   "execution_count": 26,
   "id": "4c0a5485",
   "metadata": {
    "execution": {
     "iopub.execute_input": "2022-07-02T00:42:26.369123Z",
     "iopub.status.busy": "2022-07-02T00:42:26.368536Z",
     "iopub.status.idle": "2022-07-02T00:42:26.579140Z",
     "shell.execute_reply": "2022-07-02T00:42:26.579598Z"
    },
    "papermill": {
     "duration": 0.256843,
     "end_time": "2022-07-02T00:42:26.579745",
     "exception": false,
     "start_time": "2022-07-02T00:42:26.322902",
     "status": "completed"
    },
    "tags": []
   },
   "outputs": [
    {
     "data": {
      "text/plain": [
       "Text(0.5, 1.0, 'Outputs')"
      ]
     },
     "execution_count": 26,
     "metadata": {},
     "output_type": "execute_result"
    },
    {
     "data": {
      "image/png": "[encoded data removed]",
      "text/plain": [
       "<Figure size 576x504 with 1 Axes>"
      ]
     },
     "metadata": {
      "needs_background": "light"
     },
     "output_type": "display_data"
    }
   ],
   "source": [
    "# Plotting the scatter plot of points and color coding by class\n",
    "plt.figure(figsize=(8,7))\n",
    "plt.scatter(testing_plot[:,0], testing_plot[:,1], alpha = 0.1, c = y_test.ravel());\n",
    "plt.title('Outputs')"
   ]
  },
  {
   "cell_type": "markdown",
   "id": "a74fcf8f",
   "metadata": {
    "papermill": {
     "duration": 0.043642,
     "end_time": "2022-07-02T00:42:26.667390",
     "exception": false,
     "start_time": "2022-07-02T00:42:26.623748",
     "status": "completed"
    },
    "tags": []
   },
   "source": [
    "Probability contours"
   ]
  },
  {
   "cell_type": "code",
   "execution_count": 27,
   "id": "d0afc8e3",
   "metadata": {
    "execution": {
     "iopub.execute_input": "2022-07-02T00:42:26.789907Z",
     "iopub.status.busy": "2022-07-02T00:42:26.789304Z",
     "iopub.status.idle": "2022-07-02T00:42:26.800738Z",
     "shell.execute_reply": "2022-07-02T00:42:26.801180Z"
    },
    "papermill": {
     "duration": 0.0901,
     "end_time": "2022-07-02T00:42:26.801327",
     "exception": false,
     "start_time": "2022-07-02T00:42:26.711227",
     "status": "completed"
    },
    "tags": []
   },
   "outputs": [],
   "source": [
    "model_prob = Model(layers[-2:]) "
   ]
  },
  {
   "cell_type": "code",
   "execution_count": 28,
   "id": "9b96e238",
   "metadata": {
    "execution": {
     "iopub.execute_input": "2022-07-02T00:42:26.894241Z",
     "iopub.status.busy": "2022-07-02T00:42:26.893657Z",
     "iopub.status.idle": "2022-07-02T00:42:26.908708Z",
     "shell.execute_reply": "2022-07-02T00:42:26.909126Z"
    },
    "papermill": {
     "duration": 0.06374,
     "end_time": "2022-07-02T00:42:26.909272",
     "exception": false,
     "start_time": "2022-07-02T00:42:26.845532",
     "status": "completed"
    },
    "tags": []
   },
   "outputs": [],
   "source": [
    "#creating the x and y ranges according to the above generated plot.\n",
    "x_range = np.linspace(-4, 1, 100) \n",
    "y_range = np.linspace(-6, 6, 100) \n",
    "x_grid, y_grid = np.meshgrid(x_range, y_range) # x_grid and y_grig are of size 100 X 100\n",
    "\n",
    "# converting x_grid and y_grid to continuous arrays\n",
    "x_gridflat = np.ravel(x_grid)\n",
    "y_gridflat = np.ravel(y_grid)\n",
    "\n",
    "# The last layer of the current model takes two columns as input. Hence transpose of np.vstack() is required.\n",
    "X = np.vstack((x_gridflat, y_gridflat)).T\n",
    "\n",
    "prob_contour = model_prob(X).reshape(100,100) "
   ]
  },
  {
   "cell_type": "code",
   "execution_count": 29,
   "id": "da72499a",
   "metadata": {
    "execution": {
     "iopub.execute_input": "2022-07-02T00:42:27.008896Z",
     "iopub.status.busy": "2022-07-02T00:42:27.008306Z",
     "iopub.status.idle": "2022-07-02T00:42:27.256204Z",
     "shell.execute_reply": "2022-07-02T00:42:27.255703Z"
    },
    "papermill": {
     "duration": 0.302929,
     "end_time": "2022-07-02T00:42:27.256324",
     "exception": false,
     "start_time": "2022-07-02T00:42:26.953395",
     "status": "completed"
    },
    "tags": []
   },
   "outputs": [
    {
     "data": {
      "image/png": "[encoded data removed]",
      "text/plain": [
       "<Figure size 720x648 with 1 Axes>"
      ]
     },
     "metadata": {
      "needs_background": "light"
     },
     "output_type": "display_data"
    }
   ],
   "source": [
    "plt.figure(figsize=(10,9))\n",
    "plt.scatter(testing_plot[:,0], testing_plot[:,1], alpha = 0.1, c = y_test.ravel())\n",
    "contours = plt.contour(x_grid,y_grid,prob_contour)\n",
    "plt.title('Probability Contours')\n",
    "plt.clabel(contours, inline = True );"
   ]
  },
  {
   "cell_type": "code",
   "execution_count": null,
   "id": "e81b4ac7",
   "metadata": {
    "papermill": {
     "duration": 0.046745,
     "end_time": "2022-07-02T00:42:27.352545",
     "exception": false,
     "start_time": "2022-07-02T00:42:27.305800",
     "status": "completed"
    },
    "tags": []
   },
   "outputs": [],
   "source": []
  }
 ],
 "metadata": {
  "kernelspec": {
   "display_name": "Python 3",
   "language": "python",
   "name": "python3"
  },
  "language_info": {
   "codemirror_mode": {
    "name": "ipython",
    "version": 3
   },
   "file_extension": ".py",
   "mimetype": "text/x-python",
   "name": "python",
   "nbconvert_exporter": "python",
   "pygments_lexer": "ipython3",
   "version": "3.6.15"
  },
  "papermill": {
   "default_parameters": {},
   "duration": 96.644445,
   "end_time": "2022-07-02T00:42:27.818644",
   "environment_variables": {},
   "exception": null,
   "input_path": "2020-08-11-part2.ipynb",
   "output_path": "2020-08-11-part2.ipynb",
   "parameters": {},
   "start_time": "2022-07-02T00:40:51.174199",
   "version": "2.3.3"
  }
 },
 "nbformat": 4,
 "nbformat_minor": 5
}