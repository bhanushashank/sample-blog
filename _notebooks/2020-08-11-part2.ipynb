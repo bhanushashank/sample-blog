{
 "cells": [
  {
   "cell_type": "markdown",
   "id": "98380cd3",
   "metadata": {
    "papermill": {
     "duration": 0.03149,
     "end_time": "2021-09-18T00:19:22.761510",
     "exception": false,
     "start_time": "2021-09-18T00:19:22.730020",
     "status": "completed"
    },
    "tags": []
   },
   "source": [
    "# Distinguish Your Own Digits (DYOD)"
   ]
  },
  {
   "cell_type": "markdown",
   "id": "ef31240d",
   "metadata": {
    "papermill": {
     "duration": 0.028317,
     "end_time": "2021-09-18T00:19:22.820325",
     "exception": false,
     "start_time": "2021-09-18T00:19:22.792008",
     "status": "completed"
    },
    "tags": []
   },
   "source": [
    "You are going to write a classifier that distinguishes between the number 3 and number 8."
   ]
  },
  {
   "cell_type": "code",
   "execution_count": 1,
   "id": "b15c8646",
   "metadata": {
    "execution": {
     "iopub.execute_input": "2021-09-18T00:19:22.890215Z",
     "iopub.status.busy": "2021-09-18T00:19:22.889563Z",
     "iopub.status.idle": "2021-09-18T00:19:22.900173Z",
     "shell.execute_reply": "2021-09-18T00:19:22.899639Z"
    },
    "papermill": {
     "duration": 0.049486,
     "end_time": "2021-09-18T00:19:22.900307",
     "exception": false,
     "start_time": "2021-09-18T00:19:22.850821",
     "status": "completed"
    },
    "tags": []
   },
   "outputs": [],
   "source": [
    "%load_ext autoreload\n",
    "%autoreload 2"
   ]
  },
  {
   "cell_type": "code",
   "execution_count": 2,
   "id": "22ef38dc",
   "metadata": {
    "execution": {
     "iopub.execute_input": "2021-09-18T00:19:22.966935Z",
     "iopub.status.busy": "2021-09-18T00:19:22.966278Z",
     "iopub.status.idle": "2021-09-18T00:19:23.522073Z",
     "shell.execute_reply": "2021-09-18T00:19:23.521296Z"
    },
    "papermill": {
     "duration": 0.589993,
     "end_time": "2021-09-18T00:19:23.522202",
     "exception": false,
     "start_time": "2021-09-18T00:19:22.932209",
     "status": "completed"
    },
    "tags": []
   },
   "outputs": [],
   "source": [
    "%matplotlib inline\n",
    "import numpy as np\n",
    "import matplotlib.pyplot as plt\n",
    "import pandas as pd"
   ]
  },
  {
   "cell_type": "markdown",
   "id": "ba036198",
   "metadata": {
    "papermill": {
     "duration": 0.028378,
     "end_time": "2021-09-18T00:19:23.579088",
     "exception": false,
     "start_time": "2021-09-18T00:19:23.550710",
     "status": "completed"
    },
    "tags": []
   },
   "source": [
    "From the command line run `pip install mnist`. This is a library that will help you bring down the mnist dataset. If you run this from a notebook, you need to put  `!pip install mnist` in a cell by itself."
   ]
  },
  {
   "cell_type": "code",
   "execution_count": 3,
   "id": "bb6ad8a1",
   "metadata": {
    "execution": {
     "iopub.execute_input": "2021-09-18T00:19:23.636506Z",
     "iopub.status.busy": "2021-09-18T00:19:23.635769Z",
     "iopub.status.idle": "2021-09-18T00:19:25.618157Z",
     "shell.execute_reply": "2021-09-18T00:19:25.618656Z"
    },
    "papermill": {
     "duration": 2.013031,
     "end_time": "2021-09-18T00:19:25.618809",
     "exception": false,
     "start_time": "2021-09-18T00:19:23.605778",
     "status": "completed"
    },
    "tags": []
   },
   "outputs": [
    {
     "name": "stdout",
     "output_type": "stream",
     "text": [
      "Collecting mnist\r\n"
     ]
    },
    {
     "name": "stdout",
     "output_type": "stream",
     "text": [
      "  Downloading mnist-0.2.2-py2.py3-none-any.whl (3.5 kB)\r\n",
      "Requirement already satisfied: numpy in /opt/hostedtoolcache/Python/3.6.15/x64/lib/python3.6/site-packages (from mnist) (1.19.5)\r\n"
     ]
    },
    {
     "name": "stdout",
     "output_type": "stream",
     "text": [
      "Installing collected packages: mnist\r\n",
      "Successfully installed mnist-0.2.2\r\n"
     ]
    }
   ],
   "source": [
    "!pip install mnist"
   ]
  },
  {
   "cell_type": "markdown",
   "id": "69df9c9a",
   "metadata": {
    "papermill": {
     "duration": 0.028365,
     "end_time": "2021-09-18T00:19:25.675401",
     "exception": false,
     "start_time": "2021-09-18T00:19:25.647036",
     "status": "completed"
    },
    "tags": []
   },
   "source": [
    "## Preparing the Data"
   ]
  },
  {
   "cell_type": "code",
   "execution_count": 4,
   "id": "7f69d806",
   "metadata": {
    "execution": {
     "iopub.execute_input": "2021-09-18T00:19:25.736175Z",
     "iopub.status.busy": "2021-09-18T00:19:25.735599Z",
     "iopub.status.idle": "2021-09-18T00:19:25.749599Z",
     "shell.execute_reply": "2021-09-18T00:19:25.749103Z"
    },
    "papermill": {
     "duration": 0.044865,
     "end_time": "2021-09-18T00:19:25.749743",
     "exception": false,
     "start_time": "2021-09-18T00:19:25.704878",
     "status": "completed"
    },
    "tags": []
   },
   "outputs": [],
   "source": [
    "import mnist"
   ]
  },
  {
   "cell_type": "code",
   "execution_count": 5,
   "id": "a411e44f",
   "metadata": {
    "execution": {
     "iopub.execute_input": "2021-09-18T00:19:25.809211Z",
     "iopub.status.busy": "2021-09-18T00:19:25.808635Z",
     "iopub.status.idle": "2021-09-18T00:19:26.460262Z",
     "shell.execute_reply": "2021-09-18T00:19:26.459341Z"
    },
    "papermill": {
     "duration": 0.683027,
     "end_time": "2021-09-18T00:19:26.460402",
     "exception": false,
     "start_time": "2021-09-18T00:19:25.777375",
     "status": "completed"
    },
    "tags": []
   },
   "outputs": [],
   "source": [
    "train_images = mnist.train_images()\n",
    "train_labels = mnist.train_labels()"
   ]
  },
  {
   "cell_type": "code",
   "execution_count": 6,
   "id": "dceab3a5",
   "metadata": {
    "execution": {
     "iopub.execute_input": "2021-09-18T00:19:26.526483Z",
     "iopub.status.busy": "2021-09-18T00:19:26.525209Z",
     "iopub.status.idle": "2021-09-18T00:19:26.540319Z",
     "shell.execute_reply": "2021-09-18T00:19:26.539788Z"
    },
    "papermill": {
     "duration": 0.049248,
     "end_time": "2021-09-18T00:19:26.540446",
     "exception": false,
     "start_time": "2021-09-18T00:19:26.491198",
     "status": "completed"
    },
    "tags": []
   },
   "outputs": [
    {
     "data": {
      "text/plain": [
       "((60000, 28, 28), (60000,))"
      ]
     },
     "execution_count": 6,
     "metadata": {},
     "output_type": "execute_result"
    }
   ],
   "source": [
    "train_images.shape, train_labels.shape"
   ]
  },
  {
   "cell_type": "code",
   "execution_count": 7,
   "id": "f50dc2bb",
   "metadata": {
    "execution": {
     "iopub.execute_input": "2021-09-18T00:19:26.605219Z",
     "iopub.status.busy": "2021-09-18T00:19:26.604569Z",
     "iopub.status.idle": "2021-09-18T00:19:26.842626Z",
     "shell.execute_reply": "2021-09-18T00:19:26.842067Z"
    },
    "papermill": {
     "duration": 0.272811,
     "end_time": "2021-09-18T00:19:26.842761",
     "exception": false,
     "start_time": "2021-09-18T00:19:26.569950",
     "status": "completed"
    },
    "tags": []
   },
   "outputs": [],
   "source": [
    "test_images = mnist.test_images()\n",
    "test_labels = mnist.test_labels()"
   ]
  },
  {
   "cell_type": "code",
   "execution_count": 8,
   "id": "fc38cf1b",
   "metadata": {
    "execution": {
     "iopub.execute_input": "2021-09-18T00:19:26.910868Z",
     "iopub.status.busy": "2021-09-18T00:19:26.910254Z",
     "iopub.status.idle": "2021-09-18T00:19:26.922437Z",
     "shell.execute_reply": "2021-09-18T00:19:26.921922Z"
    },
    "papermill": {
     "duration": 0.049472,
     "end_time": "2021-09-18T00:19:26.922558",
     "exception": false,
     "start_time": "2021-09-18T00:19:26.873086",
     "status": "completed"
    },
    "tags": []
   },
   "outputs": [
    {
     "data": {
      "text/plain": [
       "((10000, 28, 28), (10000,))"
      ]
     },
     "execution_count": 8,
     "metadata": {},
     "output_type": "execute_result"
    }
   ],
   "source": [
    "test_images.shape, test_labels.shape"
   ]
  },
  {
   "cell_type": "code",
   "execution_count": 9,
   "id": "f9ed8fe0",
   "metadata": {
    "execution": {
     "iopub.execute_input": "2021-09-18T00:19:26.986186Z",
     "iopub.status.busy": "2021-09-18T00:19:26.985430Z",
     "iopub.status.idle": "2021-09-18T00:19:27.146329Z",
     "shell.execute_reply": "2021-09-18T00:19:27.146805Z"
    },
    "papermill": {
     "duration": 0.19571,
     "end_time": "2021-09-18T00:19:27.147034",
     "exception": false,
     "start_time": "2021-09-18T00:19:26.951324",
     "status": "completed"
    },
    "tags": []
   },
   "outputs": [
    {
     "name": "stdout",
     "output_type": "stream",
     "text": [
      "2\n"
     ]
    },
    {
     "data": {
      "text/plain": [
       "<matplotlib.image.AxesImage at 0x7f38f0ae1898>"
      ]
     },
     "execution_count": 9,
     "metadata": {},
     "output_type": "execute_result"
    },
    {
     "data": {
      "image/png": "[encoded data removed]",
      "text/plain": [
       "<Figure size 432x288 with 1 Axes>"
      ]
     },
     "metadata": {
      "needs_background": "light"
     },
     "output_type": "display_data"
    }
   ],
   "source": [
    "image_index = 7776 # You may select anything up to 60,000\n",
    "print(train_labels[image_index]) \n",
    "plt.imshow(train_images[image_index], cmap='Greys')"
   ]
  },
  {
   "cell_type": "markdown",
   "id": "a8d2388d",
   "metadata": {
    "papermill": {
     "duration": 0.030606,
     "end_time": "2021-09-18T00:19:27.207284",
     "exception": false,
     "start_time": "2021-09-18T00:19:27.176678",
     "status": "completed"
    },
    "tags": []
   },
   "source": [
    "## Filter data to get 3 and 8 out"
   ]
  },
  {
   "cell_type": "code",
   "execution_count": 10,
   "id": "776f7fc7",
   "metadata": {
    "execution": {
     "iopub.execute_input": "2021-09-18T00:19:27.274966Z",
     "iopub.status.busy": "2021-09-18T00:19:27.274303Z",
     "iopub.status.idle": "2021-09-18T00:19:27.294580Z",
     "shell.execute_reply": "2021-09-18T00:19:27.295120Z"
    },
    "papermill": {
     "duration": 0.057218,
     "end_time": "2021-09-18T00:19:27.295274",
     "exception": false,
     "start_time": "2021-09-18T00:19:27.238056",
     "status": "completed"
    },
    "tags": []
   },
   "outputs": [],
   "source": [
    "train_filter = np.where((train_labels == 3 ) | (train_labels == 8))\n",
    "test_filter = np.where((test_labels == 3) | (test_labels == 8))\n",
    "X_train, y_train = train_images[train_filter], train_labels[train_filter]\n",
    "X_test, y_test = test_images[test_filter], test_labels[test_filter]"
   ]
  },
  {
   "cell_type": "markdown",
   "id": "948f0b7e",
   "metadata": {
    "papermill": {
     "duration": 0.031493,
     "end_time": "2021-09-18T00:19:27.358081",
     "exception": false,
     "start_time": "2021-09-18T00:19:27.326588",
     "status": "completed"
    },
    "tags": []
   },
   "source": [
    "We normalize the pizel values in the 0 to 1 range"
   ]
  },
  {
   "cell_type": "code",
   "execution_count": 11,
   "id": "ee4c2166",
   "metadata": {
    "execution": {
     "iopub.execute_input": "2021-09-18T00:19:27.423528Z",
     "iopub.status.busy": "2021-09-18T00:19:27.422863Z",
     "iopub.status.idle": "2021-09-18T00:19:27.479078Z",
     "shell.execute_reply": "2021-09-18T00:19:27.478541Z"
    },
    "papermill": {
     "duration": 0.090461,
     "end_time": "2021-09-18T00:19:27.479373",
     "exception": false,
     "start_time": "2021-09-18T00:19:27.388912",
     "status": "completed"
    },
    "tags": []
   },
   "outputs": [],
   "source": [
    "X_train = X_train/255.\n",
    "X_test = X_test/255."
   ]
  },
  {
   "cell_type": "markdown",
   "id": "ddcf4fab",
   "metadata": {
    "papermill": {
     "duration": 0.04392,
     "end_time": "2021-09-18T00:19:27.555228",
     "exception": false,
     "start_time": "2021-09-18T00:19:27.511308",
     "status": "completed"
    },
    "tags": []
   },
   "source": [
    "And setup the labels as 1 (when the digit is 3) and 0 (when the digit is 8)"
   ]
  },
  {
   "cell_type": "code",
   "execution_count": 12,
   "id": "7dc908f2",
   "metadata": {
    "execution": {
     "iopub.execute_input": "2021-09-18T00:19:27.620639Z",
     "iopub.status.busy": "2021-09-18T00:19:27.619719Z",
     "iopub.status.idle": "2021-09-18T00:19:27.632647Z",
     "shell.execute_reply": "2021-09-18T00:19:27.632154Z"
    },
    "papermill": {
     "duration": 0.046961,
     "end_time": "2021-09-18T00:19:27.632760",
     "exception": false,
     "start_time": "2021-09-18T00:19:27.585799",
     "status": "completed"
    },
    "tags": []
   },
   "outputs": [],
   "source": [
    "y_train = 1*(y_train==3)\n",
    "y_test = 1*(y_test==3)"
   ]
  },
  {
   "cell_type": "code",
   "execution_count": 13,
   "id": "01e4e969",
   "metadata": {
    "execution": {
     "iopub.execute_input": "2021-09-18T00:19:27.696425Z",
     "iopub.status.busy": "2021-09-18T00:19:27.695852Z",
     "iopub.status.idle": "2021-09-18T00:19:27.708280Z",
     "shell.execute_reply": "2021-09-18T00:19:27.708755Z"
    },
    "papermill": {
     "duration": 0.046186,
     "end_time": "2021-09-18T00:19:27.708885",
     "exception": false,
     "start_time": "2021-09-18T00:19:27.662699",
     "status": "completed"
    },
    "tags": []
   },
   "outputs": [
    {
     "data": {
      "text/plain": [
       "((11982, 28, 28), (1984, 28, 28))"
      ]
     },
     "execution_count": 13,
     "metadata": {},
     "output_type": "execute_result"
    }
   ],
   "source": [
    "X_train.shape, X_test.shape"
   ]
  },
  {
   "cell_type": "markdown",
   "id": "5ccf3f85",
   "metadata": {
    "papermill": {
     "duration": 0.032592,
     "end_time": "2021-09-18T00:19:27.775118",
     "exception": false,
     "start_time": "2021-09-18T00:19:27.742526",
     "status": "completed"
    },
    "tags": []
   },
   "source": [
    "We reshape the data to flatten the image pixels into a set of features or co-variates:"
   ]
  },
  {
   "cell_type": "code",
   "execution_count": 14,
   "id": "5286a4a3",
   "metadata": {
    "execution": {
     "iopub.execute_input": "2021-09-18T00:19:27.841318Z",
     "iopub.status.busy": "2021-09-18T00:19:27.840732Z",
     "iopub.status.idle": "2021-09-18T00:19:27.854470Z",
     "shell.execute_reply": "2021-09-18T00:19:27.853942Z"
    },
    "papermill": {
     "duration": 0.048671,
     "end_time": "2021-09-18T00:19:27.854589",
     "exception": false,
     "start_time": "2021-09-18T00:19:27.805918",
     "status": "completed"
    },
    "tags": []
   },
   "outputs": [
    {
     "data": {
      "text/plain": [
       "((11982, 784), (1984, 784))"
      ]
     },
     "execution_count": 14,
     "metadata": {},
     "output_type": "execute_result"
    }
   ],
   "source": [
    "X_train = X_train.reshape(X_train.shape[0], -1)\n",
    "X_test = X_test.reshape(X_test.shape[0], -1)\n",
    "X_train.shape, X_test.shape"
   ]
  },
  {
   "cell_type": "code",
   "execution_count": 15,
   "id": "73c5f88a",
   "metadata": {
    "execution": {
     "iopub.execute_input": "2021-09-18T00:19:27.917425Z",
     "iopub.status.busy": "2021-09-18T00:19:27.916844Z",
     "iopub.status.idle": "2021-09-18T00:19:27.933709Z",
     "shell.execute_reply": "2021-09-18T00:19:27.934183Z"
    },
    "papermill": {
     "duration": 0.050257,
     "end_time": "2021-09-18T00:19:27.934304",
     "exception": false,
     "start_time": "2021-09-18T00:19:27.884047",
     "status": "completed"
    },
    "tags": []
   },
   "outputs": [],
   "source": [
    "#Impoting functions from 'Kudzu'\n",
    "from kudzu.model import Model\n",
    "from kudzu.train import Learner\n",
    "from kudzu.optim import GD\n",
    "from kudzu.data import Data, Sampler,Dataloader\n",
    "\n",
    "from kudzu.callbacks import AccCallback\n",
    "from kudzu.callbacks import ClfCallback\n",
    "\n",
    "from kudzu.loss import MSE\n",
    "\n",
    "from kudzu.layer import Sigmoid,Relu\n",
    "from kudzu.layer import Affine"
   ]
  },
  {
   "cell_type": "markdown",
   "id": "bc01172a",
   "metadata": {
    "papermill": {
     "duration": 0.030942,
     "end_time": "2021-09-18T00:19:27.995765",
     "exception": false,
     "start_time": "2021-09-18T00:19:27.964823",
     "status": "completed"
    },
    "tags": []
   },
   "source": [
    "### Let us create a `Config` class, to store important parameters. \n",
    "This class essentially plays the role of a dictionary."
   ]
  },
  {
   "cell_type": "code",
   "execution_count": 16,
   "id": "978281aa",
   "metadata": {
    "execution": {
     "iopub.execute_input": "2021-09-18T00:19:28.061162Z",
     "iopub.status.busy": "2021-09-18T00:19:28.060577Z",
     "iopub.status.idle": "2021-09-18T00:19:28.076047Z",
     "shell.execute_reply": "2021-09-18T00:19:28.076611Z"
    },
    "papermill": {
     "duration": 0.049653,
     "end_time": "2021-09-18T00:19:28.076752",
     "exception": false,
     "start_time": "2021-09-18T00:19:28.027099",
     "status": "completed"
    },
    "tags": []
   },
   "outputs": [],
   "source": [
    "class Config:\n",
    "    pass\n",
    "config = Config()\n",
    "config.lr = 0.001\n",
    "config.num_epochs = 250\n",
    "config.bs = 50"
   ]
  },
  {
   "cell_type": "markdown",
   "id": "1385fa59",
   "metadata": {
    "papermill": {
     "duration": 0.036645,
     "end_time": "2021-09-18T00:19:28.145122",
     "exception": false,
     "start_time": "2021-09-18T00:19:28.108477",
     "status": "completed"
    },
    "tags": []
   },
   "source": [
    "### Running Models with the Training data\n",
    "Details about the network layers:\n",
    "- A first affine layer has 784 inputs and does 100 affine transforms. These are followed by a Relu\n",
    "- A second affine layer has 100 inputs from the 100 activations of the past layer, and does 100 affine transforms. These are followed by a Relu\n",
    "- A third affine layer has 100 activations and does 2 affine transformations to create an embedding for visualization. There is no non-linearity here.\n",
    "- A final \"logistic regression\" which has an affine transform from 2 inputs to 1 output, which is squeezed through a sigmoid.\n"
   ]
  },
  {
   "cell_type": "code",
   "execution_count": 17,
   "id": "2b9c66db",
   "metadata": {
    "execution": {
     "iopub.execute_input": "2021-09-18T00:19:28.209415Z",
     "iopub.status.busy": "2021-09-18T00:19:28.208832Z",
     "iopub.status.idle": "2021-09-18T00:19:28.220973Z",
     "shell.execute_reply": "2021-09-18T00:19:28.221449Z"
    },
    "papermill": {
     "duration": 0.046127,
     "end_time": "2021-09-18T00:19:28.221577",
     "exception": false,
     "start_time": "2021-09-18T00:19:28.175450",
     "status": "completed"
    },
    "tags": []
   },
   "outputs": [],
   "source": [
    "data = Data(X_train, y_train.reshape(-1,1))\n",
    "sampler = Sampler(data, config.bs, shuffle=True)\n",
    "\n",
    "dl = Dataloader(data, sampler)\n",
    "\n",
    "opt = GD(config.lr)\n",
    "loss = MSE()"
   ]
  },
  {
   "cell_type": "code",
   "execution_count": 18,
   "id": "b275e4c2",
   "metadata": {
    "execution": {
     "iopub.execute_input": "2021-09-18T00:19:28.286675Z",
     "iopub.status.busy": "2021-09-18T00:19:28.285758Z",
     "iopub.status.idle": "2021-09-18T00:19:28.297460Z",
     "shell.execute_reply": "2021-09-18T00:19:28.298036Z"
    },
    "papermill": {
     "duration": 0.045731,
     "end_time": "2021-09-18T00:19:28.298165",
     "exception": false,
     "start_time": "2021-09-18T00:19:28.252434",
     "status": "completed"
    },
    "tags": []
   },
   "outputs": [],
   "source": [
    "training_data_x = X_train\n",
    "testing_data_x = X_test\n",
    "training_data_y = y_train.reshape(-1,1)\n",
    "testing_data_y = y_test.reshape(-1,1)"
   ]
  },
  {
   "cell_type": "code",
   "execution_count": 19,
   "id": "76951160",
   "metadata": {
    "execution": {
     "iopub.execute_input": "2021-09-18T00:19:28.367398Z",
     "iopub.status.busy": "2021-09-18T00:19:28.366721Z",
     "iopub.status.idle": "2021-09-18T00:19:28.383698Z",
     "shell.execute_reply": "2021-09-18T00:19:28.383204Z"
    },
    "papermill": {
     "duration": 0.055686,
     "end_time": "2021-09-18T00:19:28.383813",
     "exception": false,
     "start_time": "2021-09-18T00:19:28.328127",
     "status": "completed"
    },
    "tags": []
   },
   "outputs": [
    {
     "name": "stdout",
     "output_type": "stream",
     "text": [
      "xavier\n",
      "xavier\n",
      "xavier\n",
      "xavier\n",
      "xavier\n"
     ]
    }
   ],
   "source": [
    "layers = [Affine(\"first\", 784, 100), Relu(\"first\"), Affine(\"second\", 100, 100), Relu(\"second\"), Affine(\"third\", 100, 2), Affine(\"last\", 2, 1), Sigmoid(\"last\")]\n",
    "model_nn = Model(layers)\n",
    "model_lr = Model([Affine(\"logits\", 784, 1), Sigmoid(\"sigmoid\")])"
   ]
  },
  {
   "cell_type": "code",
   "execution_count": 20,
   "id": "6eede77a",
   "metadata": {
    "execution": {
     "iopub.execute_input": "2021-09-18T00:19:28.451499Z",
     "iopub.status.busy": "2021-09-18T00:19:28.450850Z",
     "iopub.status.idle": "2021-09-18T00:19:28.463256Z",
     "shell.execute_reply": "2021-09-18T00:19:28.462737Z"
    },
    "papermill": {
     "duration": 0.048105,
     "end_time": "2021-09-18T00:19:28.463383",
     "exception": false,
     "start_time": "2021-09-18T00:19:28.415278",
     "status": "completed"
    },
    "tags": []
   },
   "outputs": [],
   "source": [
    "nn_learner = Learner(loss, model_nn, opt, config.num_epochs)\n",
    "acc_nn = ClfCallback(nn_learner, config.bs, training_data_x , testing_data_x, training_data_y, testing_data_y)\n",
    "nn_learner.set_callbacks([acc_nn])"
   ]
  },
  {
   "cell_type": "code",
   "execution_count": 21,
   "id": "877b6cc7",
   "metadata": {
    "execution": {
     "iopub.execute_input": "2021-09-18T00:19:28.529877Z",
     "iopub.status.busy": "2021-09-18T00:19:28.529216Z",
     "iopub.status.idle": "2021-09-18T00:19:28.540700Z",
     "shell.execute_reply": "2021-09-18T00:19:28.541197Z"
    },
    "papermill": {
     "duration": 0.046963,
     "end_time": "2021-09-18T00:19:28.541340",
     "exception": false,
     "start_time": "2021-09-18T00:19:28.494377",
     "status": "completed"
    },
    "tags": []
   },
   "outputs": [],
   "source": [
    "lr_learner = Learner(loss, model_lr, opt, config.num_epochs)\n",
    "acc_lr = ClfCallback(lr_learner, config.bs, training_data_x , testing_data_x, training_data_y, testing_data_y)\n",
    "lr_learner.set_callbacks([acc_lr])"
   ]
  },
  {
   "cell_type": "code",
   "execution_count": 22,
   "id": "d9b133c3",
   "metadata": {
    "execution": {
     "iopub.execute_input": "2021-09-18T00:19:28.621561Z",
     "iopub.status.busy": "2021-09-18T00:19:28.617644Z",
     "iopub.status.idle": "2021-09-18T00:21:30.001142Z",
     "shell.execute_reply": "2021-09-18T00:21:30.001921Z"
    },
    "papermill": {
     "duration": 121.426908,
     "end_time": "2021-09-18T00:21:30.002069",
     "exception": false,
     "start_time": "2021-09-18T00:19:28.575161",
     "status": "completed"
    },
    "tags": []
   },
   "outputs": [
    {
     "name": "stdout",
     "output_type": "stream",
     "text": [
      "Epoch 0, Loss 0.2478\n",
      "Training Accuracy: 0.6108, Testing Accuracy: 0.6573\n",
      "\n"
     ]
    },
    {
     "name": "stdout",
     "output_type": "stream",
     "text": [
      "Epoch 10, Loss 0.088\n",
      "Training Accuracy: 0.9285, Testing Accuracy: 0.9441\n",
      "\n"
     ]
    },
    {
     "name": "stdout",
     "output_type": "stream",
     "text": [
      "Epoch 20, Loss 0.0534\n",
      "Training Accuracy: 0.9462, Testing Accuracy: 0.9531\n",
      "\n"
     ]
    },
    {
     "name": "stdout",
     "output_type": "stream",
     "text": [
      "Epoch 30, Loss 0.043\n",
      "Training Accuracy: 0.9520, Testing Accuracy: 0.9632\n",
      "\n"
     ]
    },
    {
     "name": "stdout",
     "output_type": "stream",
     "text": [
      "Epoch 40, Loss 0.0379\n",
      "Training Accuracy: 0.9567, Testing Accuracy: 0.9657\n",
      "\n"
     ]
    },
    {
     "name": "stdout",
     "output_type": "stream",
     "text": [
      "Epoch 50, Loss 0.0348\n",
      "Training Accuracy: 0.9589, Testing Accuracy: 0.9672\n",
      "\n"
     ]
    },
    {
     "name": "stdout",
     "output_type": "stream",
     "text": [
      "Epoch 60, Loss 0.0326\n",
      "Training Accuracy: 0.9619, Testing Accuracy: 0.9688\n",
      "\n"
     ]
    },
    {
     "name": "stdout",
     "output_type": "stream",
     "text": [
      "Epoch 70, Loss 0.0309\n",
      "Training Accuracy: 0.9634, Testing Accuracy: 0.9703\n",
      "\n"
     ]
    },
    {
     "name": "stdout",
     "output_type": "stream",
     "text": [
      "Epoch 80, Loss 0.0296\n",
      "Training Accuracy: 0.9650, Testing Accuracy: 0.9698\n",
      "\n"
     ]
    },
    {
     "name": "stdout",
     "output_type": "stream",
     "text": [
      "Epoch 90, Loss 0.0285\n",
      "Training Accuracy: 0.9662, Testing Accuracy: 0.9698\n",
      "\n"
     ]
    },
    {
     "name": "stdout",
     "output_type": "stream",
     "text": [
      "Epoch 100, Loss 0.0275\n",
      "Training Accuracy: 0.9681, Testing Accuracy: 0.9693\n",
      "\n"
     ]
    },
    {
     "name": "stdout",
     "output_type": "stream",
     "text": [
      "Epoch 110, Loss 0.0266\n",
      "Training Accuracy: 0.9690, Testing Accuracy: 0.9703\n",
      "\n"
     ]
    },
    {
     "name": "stdout",
     "output_type": "stream",
     "text": [
      "Epoch 120, Loss 0.0259\n",
      "Training Accuracy: 0.9700, Testing Accuracy: 0.9698\n",
      "\n"
     ]
    },
    {
     "name": "stdout",
     "output_type": "stream",
     "text": [
      "Epoch 130, Loss 0.0252\n",
      "Training Accuracy: 0.9705, Testing Accuracy: 0.9698\n",
      "\n"
     ]
    },
    {
     "name": "stdout",
     "output_type": "stream",
     "text": [
      "Epoch 140, Loss 0.0245\n",
      "Training Accuracy: 0.9715, Testing Accuracy: 0.9708\n",
      "\n"
     ]
    },
    {
     "name": "stdout",
     "output_type": "stream",
     "text": [
      "Epoch 150, Loss 0.0239\n",
      "Training Accuracy: 0.9717, Testing Accuracy: 0.9713\n",
      "\n"
     ]
    },
    {
     "name": "stdout",
     "output_type": "stream",
     "text": [
      "Epoch 160, Loss 0.0234\n",
      "Training Accuracy: 0.9723, Testing Accuracy: 0.9723\n",
      "\n"
     ]
    },
    {
     "name": "stdout",
     "output_type": "stream",
     "text": [
      "Epoch 170, Loss 0.0229\n",
      "Training Accuracy: 0.9727, Testing Accuracy: 0.9723\n",
      "\n"
     ]
    },
    {
     "name": "stdout",
     "output_type": "stream",
     "text": [
      "Epoch 180, Loss 0.0224\n",
      "Training Accuracy: 0.9737, Testing Accuracy: 0.9713\n",
      "\n"
     ]
    },
    {
     "name": "stdout",
     "output_type": "stream",
     "text": [
      "Epoch 190, Loss 0.0219\n",
      "Training Accuracy: 0.9742, Testing Accuracy: 0.9723\n",
      "\n"
     ]
    },
    {
     "name": "stdout",
     "output_type": "stream",
     "text": [
      "Epoch 200, Loss 0.0214\n",
      "Training Accuracy: 0.9750, Testing Accuracy: 0.9713\n",
      "\n"
     ]
    },
    {
     "name": "stdout",
     "output_type": "stream",
     "text": [
      "Epoch 210, Loss 0.021\n",
      "Training Accuracy: 0.9757, Testing Accuracy: 0.9728\n",
      "\n"
     ]
    },
    {
     "name": "stdout",
     "output_type": "stream",
     "text": [
      "Epoch 220, Loss 0.0206\n",
      "Training Accuracy: 0.9765, Testing Accuracy: 0.9733\n",
      "\n"
     ]
    },
    {
     "name": "stdout",
     "output_type": "stream",
     "text": [
      "Epoch 230, Loss 0.0202\n",
      "Training Accuracy: 0.9770, Testing Accuracy: 0.9733\n",
      "\n"
     ]
    },
    {
     "name": "stdout",
     "output_type": "stream",
     "text": [
      "Epoch 240, Loss 0.0198\n",
      "Training Accuracy: 0.9774, Testing Accuracy: 0.9733\n",
      "\n"
     ]
    },
    {
     "data": {
      "text/plain": [
       "0.002696787498479668"
      ]
     },
     "execution_count": 22,
     "metadata": {},
     "output_type": "execute_result"
    }
   ],
   "source": [
    "nn_learner.train_loop(dl)"
   ]
  },
  {
   "cell_type": "code",
   "execution_count": 23,
   "id": "e0163366",
   "metadata": {
    "execution": {
     "iopub.execute_input": "2021-09-18T00:21:30.109288Z",
     "iopub.status.busy": "2021-09-18T00:21:30.108654Z",
     "iopub.status.idle": "2021-09-18T00:21:48.096666Z",
     "shell.execute_reply": "2021-09-18T00:21:48.097454Z"
    },
    "papermill": {
     "duration": 18.053509,
     "end_time": "2021-09-18T00:21:48.097622",
     "exception": false,
     "start_time": "2021-09-18T00:21:30.044113",
     "status": "completed"
    },
    "tags": []
   },
   "outputs": [
    {
     "name": "stdout",
     "output_type": "stream",
     "text": [
      "Epoch 0, Loss 0.2163\n",
      "Training Accuracy: 0.7677, Testing Accuracy: 0.7807\n",
      "\n"
     ]
    },
    {
     "name": "stdout",
     "output_type": "stream",
     "text": [
      "Epoch 10, Loss 0.1003\n",
      "Training Accuracy: 0.9084, Testing Accuracy: 0.9178\n",
      "\n"
     ]
    },
    {
     "name": "stdout",
     "output_type": "stream",
     "text": [
      "Epoch 20, Loss 0.0788\n",
      "Training Accuracy: 0.9251, Testing Accuracy: 0.9365\n",
      "\n"
     ]
    },
    {
     "name": "stdout",
     "output_type": "stream",
     "text": [
      "Epoch 30, Loss 0.0684\n",
      "Training Accuracy: 0.9335, Testing Accuracy: 0.9441\n",
      "\n"
     ]
    },
    {
     "name": "stdout",
     "output_type": "stream",
     "text": [
      "Epoch 40, Loss 0.0619\n",
      "Training Accuracy: 0.9387, Testing Accuracy: 0.9476\n",
      "\n"
     ]
    },
    {
     "name": "stdout",
     "output_type": "stream",
     "text": [
      "Epoch 50, Loss 0.0574\n",
      "Training Accuracy: 0.9425, Testing Accuracy: 0.9526\n",
      "\n"
     ]
    },
    {
     "name": "stdout",
     "output_type": "stream",
     "text": [
      "Epoch 60, Loss 0.0541\n",
      "Training Accuracy: 0.9454, Testing Accuracy: 0.9551\n",
      "\n"
     ]
    },
    {
     "name": "stdout",
     "output_type": "stream",
     "text": [
      "Epoch 70, Loss 0.0515\n",
      "Training Accuracy: 0.9474, Testing Accuracy: 0.9572\n",
      "\n"
     ]
    },
    {
     "name": "stdout",
     "output_type": "stream",
     "text": [
      "Epoch 80, Loss 0.0495\n",
      "Training Accuracy: 0.9489, Testing Accuracy: 0.9577\n",
      "\n"
     ]
    },
    {
     "name": "stdout",
     "output_type": "stream",
     "text": [
      "Epoch 90, Loss 0.0477\n",
      "Training Accuracy: 0.9503, Testing Accuracy: 0.9597\n",
      "\n"
     ]
    },
    {
     "name": "stdout",
     "output_type": "stream",
     "text": [
      "Epoch 100, Loss 0.0463\n",
      "Training Accuracy: 0.9521, Testing Accuracy: 0.9607\n",
      "\n"
     ]
    },
    {
     "name": "stdout",
     "output_type": "stream",
     "text": [
      "Epoch 110, Loss 0.045\n",
      "Training Accuracy: 0.9533, Testing Accuracy: 0.9622\n",
      "\n"
     ]
    },
    {
     "name": "stdout",
     "output_type": "stream",
     "text": [
      "Epoch 120, Loss 0.044\n",
      "Training Accuracy: 0.9538, Testing Accuracy: 0.9632\n",
      "\n"
     ]
    },
    {
     "name": "stdout",
     "output_type": "stream",
     "text": [
      "Epoch 130, Loss 0.043\n",
      "Training Accuracy: 0.9546, Testing Accuracy: 0.9642\n",
      "\n"
     ]
    },
    {
     "name": "stdout",
     "output_type": "stream",
     "text": [
      "Epoch 140, Loss 0.0422\n",
      "Training Accuracy: 0.9553, Testing Accuracy: 0.9647\n",
      "\n"
     ]
    },
    {
     "name": "stdout",
     "output_type": "stream",
     "text": [
      "Epoch 150, Loss 0.0414\n",
      "Training Accuracy: 0.9564, Testing Accuracy: 0.9662\n",
      "\n"
     ]
    },
    {
     "name": "stdout",
     "output_type": "stream",
     "text": [
      "Epoch 160, Loss 0.0407\n",
      "Training Accuracy: 0.9575, Testing Accuracy: 0.9667\n",
      "\n"
     ]
    },
    {
     "name": "stdout",
     "output_type": "stream",
     "text": [
      "Epoch 170, Loss 0.0401\n",
      "Training Accuracy: 0.9580, Testing Accuracy: 0.9672\n",
      "\n"
     ]
    },
    {
     "name": "stdout",
     "output_type": "stream",
     "text": [
      "Epoch 180, Loss 0.0395\n",
      "Training Accuracy: 0.9584, Testing Accuracy: 0.9677\n",
      "\n"
     ]
    },
    {
     "name": "stdout",
     "output_type": "stream",
     "text": [
      "Epoch 190, Loss 0.039\n",
      "Training Accuracy: 0.9588, Testing Accuracy: 0.9682\n",
      "\n"
     ]
    },
    {
     "name": "stdout",
     "output_type": "stream",
     "text": [
      "Epoch 200, Loss 0.0385\n",
      "Training Accuracy: 0.9594, Testing Accuracy: 0.9682\n",
      "\n"
     ]
    },
    {
     "name": "stdout",
     "output_type": "stream",
     "text": [
      "Epoch 210, Loss 0.038\n",
      "Training Accuracy: 0.9601, Testing Accuracy: 0.9682\n",
      "\n"
     ]
    },
    {
     "name": "stdout",
     "output_type": "stream",
     "text": [
      "Epoch 220, Loss 0.0376\n",
      "Training Accuracy: 0.9605, Testing Accuracy: 0.9682\n",
      "\n"
     ]
    },
    {
     "name": "stdout",
     "output_type": "stream",
     "text": [
      "Epoch 230, Loss 0.0372\n",
      "Training Accuracy: 0.9608, Testing Accuracy: 0.9677\n",
      "\n"
     ]
    },
    {
     "name": "stdout",
     "output_type": "stream",
     "text": [
      "Epoch 240, Loss 0.0369\n",
      "Training Accuracy: 0.9613, Testing Accuracy: 0.9677\n",
      "\n"
     ]
    },
    {
     "data": {
      "text/plain": [
       "0.0252960495878984"
      ]
     },
     "execution_count": 23,
     "metadata": {},
     "output_type": "execute_result"
    }
   ],
   "source": [
    "lr_learner.train_loop(dl)"
   ]
  },
  {
   "cell_type": "code",
   "execution_count": 24,
   "id": "ca410940",
   "metadata": {
    "execution": {
     "iopub.execute_input": "2021-09-18T00:21:48.211105Z",
     "iopub.status.busy": "2021-09-18T00:21:48.210493Z",
     "iopub.status.idle": "2021-09-18T00:21:48.498471Z",
     "shell.execute_reply": "2021-09-18T00:21:48.499140Z"
    },
    "papermill": {
     "duration": 0.350778,
     "end_time": "2021-09-18T00:21:48.499286",
     "exception": false,
     "start_time": "2021-09-18T00:21:48.148508",
     "status": "completed"
    },
    "tags": []
   },
   "outputs": [
    {
     "data": {
      "text/plain": [
       "<matplotlib.legend.Legend at 0x7f38f0644978>"
      ]
     },
     "execution_count": 24,
     "metadata": {},
     "output_type": "execute_result"
    },
    {
     "data": {
      "image/png": "[encoded data removed]",
      "text/plain": [
       "<Figure size 1080x720 with 1 Axes>"
      ]
     },
     "metadata": {
      "needs_background": "light"
     },
     "output_type": "display_data"
    }
   ],
   "source": [
    "#comparing the results of NN and LR\n",
    "plt.figure(figsize=(15,10))\n",
    "\n",
    "# Neural Network plots\n",
    "plt.plot(acc_nn.accuracies, 'r-', label = \"Training Accuracies - NN\")\n",
    "plt.plot(acc_nn.test_accuracies, 'g-', label = \"Testing Accuracies - NN\")\n",
    "\n",
    "# Logistic Regression plots\n",
    "plt.plot(acc_lr.accuracies, 'k-', label = \"Training Accuracies - LR\")\n",
    "plt.plot(acc_lr.test_accuracies, 'b-', label = \"Testing Accuracies - LR\")\n",
    "plt.legend()"
   ]
  },
  {
   "cell_type": "markdown",
   "id": "80dfb35c",
   "metadata": {
    "papermill": {
     "duration": 0.046631,
     "end_time": "2021-09-18T00:21:48.594470",
     "exception": false,
     "start_time": "2021-09-18T00:21:48.547839",
     "status": "completed"
    },
    "tags": []
   },
   "source": [
    "#### Plotting the outputs of this layer of the NN.\n"
   ]
  },
  {
   "cell_type": "code",
   "execution_count": 25,
   "id": "45eb2ff5",
   "metadata": {
    "execution": {
     "iopub.execute_input": "2021-09-18T00:21:48.704437Z",
     "iopub.status.busy": "2021-09-18T00:21:48.703800Z",
     "iopub.status.idle": "2021-09-18T00:21:48.727979Z",
     "shell.execute_reply": "2021-09-18T00:21:48.728496Z"
    },
    "papermill": {
     "duration": 0.083928,
     "end_time": "2021-09-18T00:21:48.728649",
     "exception": false,
     "start_time": "2021-09-18T00:21:48.644721",
     "status": "completed"
    },
    "tags": []
   },
   "outputs": [],
   "source": [
    "new_model = Model(layers[:-2])\n",
    "testing_plot = new_model(testing_data_x)"
   ]
  },
  {
   "cell_type": "code",
   "execution_count": 26,
   "id": "4c0a5485",
   "metadata": {
    "execution": {
     "iopub.execute_input": "2021-09-18T00:21:48.846985Z",
     "iopub.status.busy": "2021-09-18T00:21:48.846379Z",
     "iopub.status.idle": "2021-09-18T00:21:49.088447Z",
     "shell.execute_reply": "2021-09-18T00:21:49.087848Z"
    },
    "papermill": {
     "duration": 0.300079,
     "end_time": "2021-09-18T00:21:49.088590",
     "exception": false,
     "start_time": "2021-09-18T00:21:48.788511",
     "status": "completed"
    },
    "tags": []
   },
   "outputs": [
    {
     "data": {
      "text/plain": [
       "Text(0.5, 1.0, 'Outputs')"
      ]
     },
     "execution_count": 26,
     "metadata": {},
     "output_type": "execute_result"
    },
    {
     "data": {
      "image/png": "[encoded data removed]",
      "text/plain": [
       "<Figure size 576x504 with 1 Axes>"
      ]
     },
     "metadata": {
      "needs_background": "light"
     },
     "output_type": "display_data"
    }
   ],
   "source": [
    "# Plotting the scatter plot of points and color coding by class\n",
    "plt.figure(figsize=(8,7))\n",
    "plt.scatter(testing_plot[:,0], testing_plot[:,1], alpha = 0.1, c = y_test.ravel());\n",
    "plt.title('Outputs')"
   ]
  },
  {
   "cell_type": "markdown",
   "id": "a74fcf8f",
   "metadata": {
    "papermill": {
     "duration": 0.051345,
     "end_time": "2021-09-18T00:21:49.190061",
     "exception": false,
     "start_time": "2021-09-18T00:21:49.138716",
     "status": "completed"
    },
    "tags": []
   },
   "source": [
    "Probability contours"
   ]
  },
  {
   "cell_type": "code",
   "execution_count": 27,
   "id": "d0afc8e3",
   "metadata": {
    "execution": {
     "iopub.execute_input": "2021-09-18T00:21:49.294817Z",
     "iopub.status.busy": "2021-09-18T00:21:49.293872Z",
     "iopub.status.idle": "2021-09-18T00:21:49.304972Z",
     "shell.execute_reply": "2021-09-18T00:21:49.304254Z"
    },
    "papermill": {
     "duration": 0.065149,
     "end_time": "2021-09-18T00:21:49.305085",
     "exception": false,
     "start_time": "2021-09-18T00:21:49.239936",
     "status": "completed"
    },
    "tags": []
   },
   "outputs": [],
   "source": [
    "model_prob = Model(layers[-2:]) "
   ]
  },
  {
   "cell_type": "code",
   "execution_count": 28,
   "id": "9b96e238",
   "metadata": {
    "execution": {
     "iopub.execute_input": "2021-09-18T00:21:49.413259Z",
     "iopub.status.busy": "2021-09-18T00:21:49.412280Z",
     "iopub.status.idle": "2021-09-18T00:21:49.423966Z",
     "shell.execute_reply": "2021-09-18T00:21:49.424403Z"
    },
    "papermill": {
     "duration": 0.070254,
     "end_time": "2021-09-18T00:21:49.424534",
     "exception": false,
     "start_time": "2021-09-18T00:21:49.354280",
     "status": "completed"
    },
    "tags": []
   },
   "outputs": [],
   "source": [
    "#creating the x and y ranges according to the above generated plot.\n",
    "x_range = np.linspace(-4, 1, 100) \n",
    "y_range = np.linspace(-6, 6, 100) \n",
    "x_grid, y_grid = np.meshgrid(x_range, y_range) # x_grid and y_grig are of size 100 X 100\n",
    "\n",
    "# converting x_grid and y_grid to continuous arrays\n",
    "x_gridflat = np.ravel(x_grid)\n",
    "y_gridflat = np.ravel(y_grid)\n",
    "\n",
    "# The last layer of the current model takes two columns as input. Hence transpose of np.vstack() is required.\n",
    "X = np.vstack((x_gridflat, y_gridflat)).T\n",
    "\n",
    "prob_contour = model_prob(X).reshape(100,100) "
   ]
  },
  {
   "cell_type": "code",
   "execution_count": 29,
   "id": "da72499a",
   "metadata": {
    "execution": {
     "iopub.execute_input": "2021-09-18T00:21:49.568528Z",
     "iopub.status.busy": "2021-09-18T00:21:49.566981Z",
     "iopub.status.idle": "2021-09-18T00:21:49.871754Z",
     "shell.execute_reply": "2021-09-18T00:21:49.871200Z"
    },
    "papermill": {
     "duration": 0.368438,
     "end_time": "2021-09-18T00:21:49.871890",
     "exception": false,
     "start_time": "2021-09-18T00:21:49.503452",
     "status": "completed"
    },
    "tags": []
   },
   "outputs": [
    {
     "data": {
      "image/png": "[encoded data removed]",
      "text/plain": [
       "<Figure size 720x648 with 1 Axes>"
      ]
     },
     "metadata": {
      "needs_background": "light"
     },
     "output_type": "display_data"
    }
   ],
   "source": [
    "plt.figure(figsize=(10,9))\n",
    "plt.scatter(testing_plot[:,0], testing_plot[:,1], alpha = 0.1, c = y_test.ravel())\n",
    "contours = plt.contour(x_grid,y_grid,prob_contour)\n",
    "plt.title('Probability Contours')\n",
    "plt.clabel(contours, inline = True );"
   ]
  },
  {
   "cell_type": "code",
   "execution_count": null,
   "id": "e81b4ac7",
   "metadata": {
    "papermill": {
     "duration": 0.052062,
     "end_time": "2021-09-18T00:21:49.978961",
     "exception": false,
     "start_time": "2021-09-18T00:21:49.926899",
     "status": "completed"
    },
    "tags": []
   },
   "outputs": [],
   "source": []
  }
 ],
 "metadata": {
  "kernelspec": {
   "display_name": "Python 3",
   "language": "python",
   "name": "python3"
  },
  "language_info": {
   "codemirror_mode": {
    "name": "ipython",
    "version": 3
   },
   "file_extension": ".py",
   "mimetype": "text/x-python",
   "name": "python",
   "nbconvert_exporter": "python",
   "pygments_lexer": "ipython3",
   "version": "3.6.15"
  },
  "papermill": {
   "default_parameters": {},
   "duration": 148.777634,
   "end_time": "2021-09-18T00:21:50.444919",
   "environment_variables": {},
   "exception": null,
   "input_path": "2020-08-11-part2.ipynb",
   "output_path": "2020-08-11-part2.ipynb",
   "parameters": {},
   "start_time": "2021-09-18T00:19:21.667285",
   "version": "2.3.3"
  }
 },
 "nbformat": 4,
 "nbformat_minor": 5
}