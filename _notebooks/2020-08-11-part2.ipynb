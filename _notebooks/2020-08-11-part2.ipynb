{
 "cells": [
  {
   "cell_type": "markdown",
   "id": "98380cd3",
   "metadata": {
    "papermill": {
     "duration": 0.03586,
     "end_time": "2021-10-06T00:21:44.758038",
     "exception": false,
     "start_time": "2021-10-06T00:21:44.722178",
     "status": "completed"
    },
    "tags": []
   },
   "source": [
    "# Distinguish Your Own Digits (DYOD)"
   ]
  },
  {
   "cell_type": "markdown",
   "id": "ef31240d",
   "metadata": {
    "papermill": {
     "duration": 0.030855,
     "end_time": "2021-10-06T00:21:44.820181",
     "exception": false,
     "start_time": "2021-10-06T00:21:44.789326",
     "status": "completed"
    },
    "tags": []
   },
   "source": [
    "You are going to write a classifier that distinguishes between the number 3 and number 8."
   ]
  },
  {
   "cell_type": "code",
   "execution_count": 1,
   "id": "b15c8646",
   "metadata": {
    "execution": {
     "iopub.execute_input": "2021-10-06T00:21:44.893641Z",
     "iopub.status.busy": "2021-10-06T00:21:44.892966Z",
     "iopub.status.idle": "2021-10-06T00:21:44.905041Z",
     "shell.execute_reply": "2021-10-06T00:21:44.904467Z"
    },
    "papermill": {
     "duration": 0.054806,
     "end_time": "2021-10-06T00:21:44.905179",
     "exception": false,
     "start_time": "2021-10-06T00:21:44.850373",
     "status": "completed"
    },
    "tags": []
   },
   "outputs": [],
   "source": [
    "%load_ext autoreload\n",
    "%autoreload 2"
   ]
  },
  {
   "cell_type": "code",
   "execution_count": 2,
   "id": "22ef38dc",
   "metadata": {
    "execution": {
     "iopub.execute_input": "2021-10-06T00:21:44.967635Z",
     "iopub.status.busy": "2021-10-06T00:21:44.967024Z",
     "iopub.status.idle": "2021-10-06T00:21:45.585937Z",
     "shell.execute_reply": "2021-10-06T00:21:45.585307Z"
    },
    "papermill": {
     "duration": 0.651578,
     "end_time": "2021-10-06T00:21:45.586101",
     "exception": false,
     "start_time": "2021-10-06T00:21:44.934523",
     "status": "completed"
    },
    "tags": []
   },
   "outputs": [],
   "source": [
    "%matplotlib inline\n",
    "import numpy as np\n",
    "import matplotlib.pyplot as plt\n",
    "import pandas as pd"
   ]
  },
  {
   "cell_type": "markdown",
   "id": "ba036198",
   "metadata": {
    "papermill": {
     "duration": 0.033139,
     "end_time": "2021-10-06T00:21:45.651335",
     "exception": false,
     "start_time": "2021-10-06T00:21:45.618196",
     "status": "completed"
    },
    "tags": []
   },
   "source": [
    "From the command line run `pip install mnist`. This is a library that will help you bring down the mnist dataset. If you run this from a notebook, you need to put  `!pip install mnist` in a cell by itself."
   ]
  },
  {
   "cell_type": "code",
   "execution_count": 3,
   "id": "bb6ad8a1",
   "metadata": {
    "execution": {
     "iopub.execute_input": "2021-10-06T00:21:45.723872Z",
     "iopub.status.busy": "2021-10-06T00:21:45.723232Z",
     "iopub.status.idle": "2021-10-06T00:21:47.663134Z",
     "shell.execute_reply": "2021-10-06T00:21:47.662600Z"
    },
    "papermill": {
     "duration": 1.980233,
     "end_time": "2021-10-06T00:21:47.663271",
     "exception": false,
     "start_time": "2021-10-06T00:21:45.683038",
     "status": "completed"
    },
    "tags": []
   },
   "outputs": [
    {
     "name": "stdout",
     "output_type": "stream",
     "text": [
      "Collecting mnist\r\n"
     ]
    },
    {
     "name": "stdout",
     "output_type": "stream",
     "text": [
      "  Downloading mnist-0.2.2-py2.py3-none-any.whl (3.5 kB)\r\n",
      "Requirement already satisfied: numpy in /opt/hostedtoolcache/Python/3.6.15/x64/lib/python3.6/site-packages (from mnist) (1.19.5)\r\n"
     ]
    },
    {
     "name": "stdout",
     "output_type": "stream",
     "text": [
      "Installing collected packages: mnist\r\n"
     ]
    },
    {
     "name": "stdout",
     "output_type": "stream",
     "text": [
      "Successfully installed mnist-0.2.2\r\n"
     ]
    }
   ],
   "source": [
    "!pip install mnist"
   ]
  },
  {
   "cell_type": "markdown",
   "id": "69df9c9a",
   "metadata": {
    "papermill": {
     "duration": 0.033519,
     "end_time": "2021-10-06T00:21:47.727485",
     "exception": false,
     "start_time": "2021-10-06T00:21:47.693966",
     "status": "completed"
    },
    "tags": []
   },
   "source": [
    "## Preparing the Data"
   ]
  },
  {
   "cell_type": "code",
   "execution_count": 4,
   "id": "7f69d806",
   "metadata": {
    "execution": {
     "iopub.execute_input": "2021-10-06T00:21:47.808109Z",
     "iopub.status.busy": "2021-10-06T00:21:47.800592Z",
     "iopub.status.idle": "2021-10-06T00:21:47.812329Z",
     "shell.execute_reply": "2021-10-06T00:21:47.811603Z"
    },
    "papermill": {
     "duration": 0.054654,
     "end_time": "2021-10-06T00:21:47.812444",
     "exception": false,
     "start_time": "2021-10-06T00:21:47.757790",
     "status": "completed"
    },
    "tags": []
   },
   "outputs": [],
   "source": [
    "import mnist"
   ]
  },
  {
   "cell_type": "code",
   "execution_count": 5,
   "id": "a411e44f",
   "metadata": {
    "execution": {
     "iopub.execute_input": "2021-10-06T00:21:47.877696Z",
     "iopub.status.busy": "2021-10-06T00:21:47.877127Z",
     "iopub.status.idle": "2021-10-06T00:21:48.434730Z",
     "shell.execute_reply": "2021-10-06T00:21:48.434123Z"
    },
    "papermill": {
     "duration": 0.591848,
     "end_time": "2021-10-06T00:21:48.434904",
     "exception": false,
     "start_time": "2021-10-06T00:21:47.843056",
     "status": "completed"
    },
    "tags": []
   },
   "outputs": [],
   "source": [
    "train_images = mnist.train_images()\n",
    "train_labels = mnist.train_labels()"
   ]
  },
  {
   "cell_type": "code",
   "execution_count": 6,
   "id": "dceab3a5",
   "metadata": {
    "execution": {
     "iopub.execute_input": "2021-10-06T00:21:48.502145Z",
     "iopub.status.busy": "2021-10-06T00:21:48.501362Z",
     "iopub.status.idle": "2021-10-06T00:21:48.518489Z",
     "shell.execute_reply": "2021-10-06T00:21:48.517962Z"
    },
    "papermill": {
     "duration": 0.051828,
     "end_time": "2021-10-06T00:21:48.518606",
     "exception": false,
     "start_time": "2021-10-06T00:21:48.466778",
     "status": "completed"
    },
    "tags": []
   },
   "outputs": [
    {
     "data": {
      "text/plain": [
       "((60000, 28, 28), (60000,))"
      ]
     },
     "execution_count": 6,
     "metadata": {},
     "output_type": "execute_result"
    }
   ],
   "source": [
    "train_images.shape, train_labels.shape"
   ]
  },
  {
   "cell_type": "code",
   "execution_count": 7,
   "id": "f50dc2bb",
   "metadata": {
    "execution": {
     "iopub.execute_input": "2021-10-06T00:21:48.584100Z",
     "iopub.status.busy": "2021-10-06T00:21:48.583331Z",
     "iopub.status.idle": "2021-10-06T00:21:48.725207Z",
     "shell.execute_reply": "2021-10-06T00:21:48.724437Z"
    },
    "papermill": {
     "duration": 0.176895,
     "end_time": "2021-10-06T00:21:48.725364",
     "exception": false,
     "start_time": "2021-10-06T00:21:48.548469",
     "status": "completed"
    },
    "tags": []
   },
   "outputs": [],
   "source": [
    "test_images = mnist.test_images()\n",
    "test_labels = mnist.test_labels()"
   ]
  },
  {
   "cell_type": "code",
   "execution_count": 8,
   "id": "fc38cf1b",
   "metadata": {
    "execution": {
     "iopub.execute_input": "2021-10-06T00:21:48.794483Z",
     "iopub.status.busy": "2021-10-06T00:21:48.792934Z",
     "iopub.status.idle": "2021-10-06T00:21:48.808357Z",
     "shell.execute_reply": "2021-10-06T00:21:48.807845Z"
    },
    "papermill": {
     "duration": 0.051941,
     "end_time": "2021-10-06T00:21:48.808502",
     "exception": false,
     "start_time": "2021-10-06T00:21:48.756561",
     "status": "completed"
    },
    "tags": []
   },
   "outputs": [
    {
     "data": {
      "text/plain": [
       "((10000, 28, 28), (10000,))"
      ]
     },
     "execution_count": 8,
     "metadata": {},
     "output_type": "execute_result"
    }
   ],
   "source": [
    "test_images.shape, test_labels.shape"
   ]
  },
  {
   "cell_type": "code",
   "execution_count": 9,
   "id": "f9ed8fe0",
   "metadata": {
    "execution": {
     "iopub.execute_input": "2021-10-06T00:21:48.875485Z",
     "iopub.status.busy": "2021-10-06T00:21:48.874734Z",
     "iopub.status.idle": "2021-10-06T00:21:49.063585Z",
     "shell.execute_reply": "2021-10-06T00:21:49.064278Z"
    },
    "papermill": {
     "duration": 0.224723,
     "end_time": "2021-10-06T00:21:49.064546",
     "exception": false,
     "start_time": "2021-10-06T00:21:48.839823",
     "status": "completed"
    },
    "tags": []
   },
   "outputs": [
    {
     "name": "stdout",
     "output_type": "stream",
     "text": [
      "2\n"
     ]
    },
    {
     "data": {
      "text/plain": [
       "<matplotlib.image.AxesImage at 0x7f5b83fe9828>"
      ]
     },
     "execution_count": 9,
     "metadata": {},
     "output_type": "execute_result"
    },
    {
     "data": {
      "image/png": "[encoded data removed]",
      "text/plain": [
       "<Figure size 432x288 with 1 Axes>"
      ]
     },
     "metadata": {
      "needs_background": "light"
     },
     "output_type": "display_data"
    }
   ],
   "source": [
    "image_index = 7776 # You may select anything up to 60,000\n",
    "print(train_labels[image_index]) \n",
    "plt.imshow(train_images[image_index], cmap='Greys')"
   ]
  },
  {
   "cell_type": "markdown",
   "id": "a8d2388d",
   "metadata": {
    "papermill": {
     "duration": 0.035413,
     "end_time": "2021-10-06T00:21:49.134903",
     "exception": false,
     "start_time": "2021-10-06T00:21:49.099490",
     "status": "completed"
    },
    "tags": []
   },
   "source": [
    "## Filter data to get 3 and 8 out"
   ]
  },
  {
   "cell_type": "code",
   "execution_count": 10,
   "id": "776f7fc7",
   "metadata": {
    "execution": {
     "iopub.execute_input": "2021-10-06T00:21:49.206362Z",
     "iopub.status.busy": "2021-10-06T00:21:49.205514Z",
     "iopub.status.idle": "2021-10-06T00:21:49.223157Z",
     "shell.execute_reply": "2021-10-06T00:21:49.223671Z"
    },
    "papermill": {
     "duration": 0.055392,
     "end_time": "2021-10-06T00:21:49.223859",
     "exception": false,
     "start_time": "2021-10-06T00:21:49.168467",
     "status": "completed"
    },
    "tags": []
   },
   "outputs": [],
   "source": [
    "train_filter = np.where((train_labels == 3 ) | (train_labels == 8))\n",
    "test_filter = np.where((test_labels == 3) | (test_labels == 8))\n",
    "X_train, y_train = train_images[train_filter], train_labels[train_filter]\n",
    "X_test, y_test = test_images[test_filter], test_labels[test_filter]"
   ]
  },
  {
   "cell_type": "markdown",
   "id": "948f0b7e",
   "metadata": {
    "papermill": {
     "duration": 0.034417,
     "end_time": "2021-10-06T00:21:49.292139",
     "exception": false,
     "start_time": "2021-10-06T00:21:49.257722",
     "status": "completed"
    },
    "tags": []
   },
   "source": [
    "We normalize the pizel values in the 0 to 1 range"
   ]
  },
  {
   "cell_type": "code",
   "execution_count": 11,
   "id": "ee4c2166",
   "metadata": {
    "execution": {
     "iopub.execute_input": "2021-10-06T00:21:49.367569Z",
     "iopub.status.busy": "2021-10-06T00:21:49.366929Z",
     "iopub.status.idle": "2021-10-06T00:21:49.428011Z",
     "shell.execute_reply": "2021-10-06T00:21:49.427327Z"
    },
    "papermill": {
     "duration": 0.102231,
     "end_time": "2021-10-06T00:21:49.428156",
     "exception": false,
     "start_time": "2021-10-06T00:21:49.325925",
     "status": "completed"
    },
    "tags": []
   },
   "outputs": [],
   "source": [
    "X_train = X_train/255.\n",
    "X_test = X_test/255."
   ]
  },
  {
   "cell_type": "markdown",
   "id": "ddcf4fab",
   "metadata": {
    "papermill": {
     "duration": 0.032978,
     "end_time": "2021-10-06T00:21:49.495830",
     "exception": false,
     "start_time": "2021-10-06T00:21:49.462852",
     "status": "completed"
    },
    "tags": []
   },
   "source": [
    "And setup the labels as 1 (when the digit is 3) and 0 (when the digit is 8)"
   ]
  },
  {
   "cell_type": "code",
   "execution_count": 12,
   "id": "7dc908f2",
   "metadata": {
    "execution": {
     "iopub.execute_input": "2021-10-06T00:21:49.568130Z",
     "iopub.status.busy": "2021-10-06T00:21:49.567425Z",
     "iopub.status.idle": "2021-10-06T00:21:49.582643Z",
     "shell.execute_reply": "2021-10-06T00:21:49.581884Z"
    },
    "papermill": {
     "duration": 0.051997,
     "end_time": "2021-10-06T00:21:49.582778",
     "exception": false,
     "start_time": "2021-10-06T00:21:49.530781",
     "status": "completed"
    },
    "tags": []
   },
   "outputs": [],
   "source": [
    "y_train = 1*(y_train==3)\n",
    "y_test = 1*(y_test==3)"
   ]
  },
  {
   "cell_type": "code",
   "execution_count": 13,
   "id": "01e4e969",
   "metadata": {
    "execution": {
     "iopub.execute_input": "2021-10-06T00:21:49.653288Z",
     "iopub.status.busy": "2021-10-06T00:21:49.652466Z",
     "iopub.status.idle": "2021-10-06T00:21:49.666190Z",
     "shell.execute_reply": "2021-10-06T00:21:49.666688Z"
    },
    "papermill": {
     "duration": 0.050345,
     "end_time": "2021-10-06T00:21:49.666814",
     "exception": false,
     "start_time": "2021-10-06T00:21:49.616469",
     "status": "completed"
    },
    "tags": []
   },
   "outputs": [
    {
     "data": {
      "text/plain": [
       "((11982, 28, 28), (1984, 28, 28))"
      ]
     },
     "execution_count": 13,
     "metadata": {},
     "output_type": "execute_result"
    }
   ],
   "source": [
    "X_train.shape, X_test.shape"
   ]
  },
  {
   "cell_type": "markdown",
   "id": "5ccf3f85",
   "metadata": {
    "papermill": {
     "duration": 0.034468,
     "end_time": "2021-10-06T00:21:49.735348",
     "exception": false,
     "start_time": "2021-10-06T00:21:49.700880",
     "status": "completed"
    },
    "tags": []
   },
   "source": [
    "We reshape the data to flatten the image pixels into a set of features or co-variates:"
   ]
  },
  {
   "cell_type": "code",
   "execution_count": 14,
   "id": "5286a4a3",
   "metadata": {
    "execution": {
     "iopub.execute_input": "2021-10-06T00:21:49.810619Z",
     "iopub.status.busy": "2021-10-06T00:21:49.809934Z",
     "iopub.status.idle": "2021-10-06T00:21:49.826556Z",
     "shell.execute_reply": "2021-10-06T00:21:49.827118Z"
    },
    "papermill": {
     "duration": 0.056552,
     "end_time": "2021-10-06T00:21:49.827269",
     "exception": false,
     "start_time": "2021-10-06T00:21:49.770717",
     "status": "completed"
    },
    "tags": []
   },
   "outputs": [
    {
     "data": {
      "text/plain": [
       "((11982, 784), (1984, 784))"
      ]
     },
     "execution_count": 14,
     "metadata": {},
     "output_type": "execute_result"
    }
   ],
   "source": [
    "X_train = X_train.reshape(X_train.shape[0], -1)\n",
    "X_test = X_test.reshape(X_test.shape[0], -1)\n",
    "X_train.shape, X_test.shape"
   ]
  },
  {
   "cell_type": "code",
   "execution_count": 15,
   "id": "73c5f88a",
   "metadata": {
    "execution": {
     "iopub.execute_input": "2021-10-06T00:21:49.899199Z",
     "iopub.status.busy": "2021-10-06T00:21:49.898582Z",
     "iopub.status.idle": "2021-10-06T00:21:49.918151Z",
     "shell.execute_reply": "2021-10-06T00:21:49.918705Z"
    },
    "papermill": {
     "duration": 0.057852,
     "end_time": "2021-10-06T00:21:49.918844",
     "exception": false,
     "start_time": "2021-10-06T00:21:49.860992",
     "status": "completed"
    },
    "tags": []
   },
   "outputs": [],
   "source": [
    "#Impoting functions from 'Kudzu'\n",
    "from kudzu.model import Model\n",
    "from kudzu.train import Learner\n",
    "from kudzu.optim import GD\n",
    "from kudzu.data import Data, Sampler,Dataloader\n",
    "\n",
    "from kudzu.callbacks import AccCallback\n",
    "from kudzu.callbacks import ClfCallback\n",
    "\n",
    "from kudzu.loss import MSE\n",
    "\n",
    "from kudzu.layer import Sigmoid,Relu\n",
    "from kudzu.layer import Affine"
   ]
  },
  {
   "cell_type": "markdown",
   "id": "bc01172a",
   "metadata": {
    "papermill": {
     "duration": 0.033347,
     "end_time": "2021-10-06T00:21:49.984509",
     "exception": false,
     "start_time": "2021-10-06T00:21:49.951162",
     "status": "completed"
    },
    "tags": []
   },
   "source": [
    "### Let us create a `Config` class, to store important parameters. \n",
    "This class essentially plays the role of a dictionary."
   ]
  },
  {
   "cell_type": "code",
   "execution_count": 16,
   "id": "978281aa",
   "metadata": {
    "execution": {
     "iopub.execute_input": "2021-10-06T00:21:50.054046Z",
     "iopub.status.busy": "2021-10-06T00:21:50.053405Z",
     "iopub.status.idle": "2021-10-06T00:21:50.067802Z",
     "shell.execute_reply": "2021-10-06T00:21:50.068334Z"
    },
    "papermill": {
     "duration": 0.051023,
     "end_time": "2021-10-06T00:21:50.068467",
     "exception": false,
     "start_time": "2021-10-06T00:21:50.017444",
     "status": "completed"
    },
    "tags": []
   },
   "outputs": [],
   "source": [
    "class Config:\n",
    "    pass\n",
    "config = Config()\n",
    "config.lr = 0.001\n",
    "config.num_epochs = 250\n",
    "config.bs = 50"
   ]
  },
  {
   "cell_type": "markdown",
   "id": "1385fa59",
   "metadata": {
    "papermill": {
     "duration": 0.034247,
     "end_time": "2021-10-06T00:21:50.136615",
     "exception": false,
     "start_time": "2021-10-06T00:21:50.102368",
     "status": "completed"
    },
    "tags": []
   },
   "source": [
    "### Running Models with the Training data\n",
    "Details about the network layers:\n",
    "- A first affine layer has 784 inputs and does 100 affine transforms. These are followed by a Relu\n",
    "- A second affine layer has 100 inputs from the 100 activations of the past layer, and does 100 affine transforms. These are followed by a Relu\n",
    "- A third affine layer has 100 activations and does 2 affine transformations to create an embedding for visualization. There is no non-linearity here.\n",
    "- A final \"logistic regression\" which has an affine transform from 2 inputs to 1 output, which is squeezed through a sigmoid.\n"
   ]
  },
  {
   "cell_type": "code",
   "execution_count": 17,
   "id": "2b9c66db",
   "metadata": {
    "execution": {
     "iopub.execute_input": "2021-10-06T00:21:50.208258Z",
     "iopub.status.busy": "2021-10-06T00:21:50.207540Z",
     "iopub.status.idle": "2021-10-06T00:21:50.221816Z",
     "shell.execute_reply": "2021-10-06T00:21:50.221271Z"
    },
    "papermill": {
     "duration": 0.051939,
     "end_time": "2021-10-06T00:21:50.221939",
     "exception": false,
     "start_time": "2021-10-06T00:21:50.170000",
     "status": "completed"
    },
    "tags": []
   },
   "outputs": [],
   "source": [
    "data = Data(X_train, y_train.reshape(-1,1))\n",
    "sampler = Sampler(data, config.bs, shuffle=True)\n",
    "\n",
    "dl = Dataloader(data, sampler)\n",
    "\n",
    "opt = GD(config.lr)\n",
    "loss = MSE()"
   ]
  },
  {
   "cell_type": "code",
   "execution_count": 18,
   "id": "b275e4c2",
   "metadata": {
    "execution": {
     "iopub.execute_input": "2021-10-06T00:21:50.293698Z",
     "iopub.status.busy": "2021-10-06T00:21:50.293057Z",
     "iopub.status.idle": "2021-10-06T00:21:50.304878Z",
     "shell.execute_reply": "2021-10-06T00:21:50.305426Z"
    },
    "papermill": {
     "duration": 0.051503,
     "end_time": "2021-10-06T00:21:50.305690",
     "exception": false,
     "start_time": "2021-10-06T00:21:50.254187",
     "status": "completed"
    },
    "tags": []
   },
   "outputs": [],
   "source": [
    "training_data_x = X_train\n",
    "testing_data_x = X_test\n",
    "training_data_y = y_train.reshape(-1,1)\n",
    "testing_data_y = y_test.reshape(-1,1)"
   ]
  },
  {
   "cell_type": "code",
   "execution_count": 19,
   "id": "76951160",
   "metadata": {
    "execution": {
     "iopub.execute_input": "2021-10-06T00:21:50.376883Z",
     "iopub.status.busy": "2021-10-06T00:21:50.376167Z",
     "iopub.status.idle": "2021-10-06T00:21:50.393258Z",
     "shell.execute_reply": "2021-10-06T00:21:50.393765Z"
    },
    "papermill": {
     "duration": 0.055239,
     "end_time": "2021-10-06T00:21:50.393895",
     "exception": false,
     "start_time": "2021-10-06T00:21:50.338656",
     "status": "completed"
    },
    "tags": []
   },
   "outputs": [
    {
     "name": "stdout",
     "output_type": "stream",
     "text": [
      "xavier\n",
      "xavier\n",
      "xavier\n",
      "xavier\n",
      "xavier\n"
     ]
    }
   ],
   "source": [
    "layers = [Affine(\"first\", 784, 100), Relu(\"first\"), Affine(\"second\", 100, 100), Relu(\"second\"), Affine(\"third\", 100, 2), Affine(\"last\", 2, 1), Sigmoid(\"last\")]\n",
    "model_nn = Model(layers)\n",
    "model_lr = Model([Affine(\"logits\", 784, 1), Sigmoid(\"sigmoid\")])"
   ]
  },
  {
   "cell_type": "code",
   "execution_count": 20,
   "id": "6eede77a",
   "metadata": {
    "execution": {
     "iopub.execute_input": "2021-10-06T00:21:50.465752Z",
     "iopub.status.busy": "2021-10-06T00:21:50.465171Z",
     "iopub.status.idle": "2021-10-06T00:21:50.477026Z",
     "shell.execute_reply": "2021-10-06T00:21:50.477513Z"
    },
    "papermill": {
     "duration": 0.048899,
     "end_time": "2021-10-06T00:21:50.477635",
     "exception": false,
     "start_time": "2021-10-06T00:21:50.428736",
     "status": "completed"
    },
    "tags": []
   },
   "outputs": [],
   "source": [
    "nn_learner = Learner(loss, model_nn, opt, config.num_epochs)\n",
    "acc_nn = ClfCallback(nn_learner, config.bs, training_data_x , testing_data_x, training_data_y, testing_data_y)\n",
    "nn_learner.set_callbacks([acc_nn])"
   ]
  },
  {
   "cell_type": "code",
   "execution_count": 21,
   "id": "877b6cc7",
   "metadata": {
    "execution": {
     "iopub.execute_input": "2021-10-06T00:21:50.547542Z",
     "iopub.status.busy": "2021-10-06T00:21:50.546971Z",
     "iopub.status.idle": "2021-10-06T00:21:50.558169Z",
     "shell.execute_reply": "2021-10-06T00:21:50.558746Z"
    },
    "papermill": {
     "duration": 0.049018,
     "end_time": "2021-10-06T00:21:50.558868",
     "exception": false,
     "start_time": "2021-10-06T00:21:50.509850",
     "status": "completed"
    },
    "tags": []
   },
   "outputs": [],
   "source": [
    "lr_learner = Learner(loss, model_lr, opt, config.num_epochs)\n",
    "acc_lr = ClfCallback(lr_learner, config.bs, training_data_x , testing_data_x, training_data_y, testing_data_y)\n",
    "lr_learner.set_callbacks([acc_lr])"
   ]
  },
  {
   "cell_type": "code",
   "execution_count": 22,
   "id": "d9b133c3",
   "metadata": {
    "execution": {
     "iopub.execute_input": "2021-10-06T00:21:50.636741Z",
     "iopub.status.busy": "2021-10-06T00:21:50.635984Z",
     "iopub.status.idle": "2021-10-06T00:24:12.518589Z",
     "shell.execute_reply": "2021-10-06T00:24:12.519623Z"
    },
    "papermill": {
     "duration": 141.925312,
     "end_time": "2021-10-06T00:24:12.519782",
     "exception": false,
     "start_time": "2021-10-06T00:21:50.594470",
     "status": "completed"
    },
    "tags": []
   },
   "outputs": [
    {
     "name": "stdout",
     "output_type": "stream",
     "text": [
      "Epoch 0, Loss 0.2458\n",
      "Training Accuracy: 0.6174, Testing Accuracy: 0.6255\n",
      "\n"
     ]
    },
    {
     "name": "stdout",
     "output_type": "stream",
     "text": [
      "Epoch 10, Loss 0.1018\n",
      "Training Accuracy: 0.9106, Testing Accuracy: 0.9113\n",
      "\n"
     ]
    },
    {
     "name": "stdout",
     "output_type": "stream",
     "text": [
      "Epoch 20, Loss 0.0603\n",
      "Training Accuracy: 0.9393, Testing Accuracy: 0.9430\n",
      "\n"
     ]
    },
    {
     "name": "stdout",
     "output_type": "stream",
     "text": [
      "Epoch 30, Loss 0.0459\n",
      "Training Accuracy: 0.9492, Testing Accuracy: 0.9556\n",
      "\n"
     ]
    },
    {
     "name": "stdout",
     "output_type": "stream",
     "text": [
      "Epoch 40, Loss 0.0391\n",
      "Training Accuracy: 0.9568, Testing Accuracy: 0.9602\n",
      "\n"
     ]
    },
    {
     "name": "stdout",
     "output_type": "stream",
     "text": [
      "Epoch 50, Loss 0.035\n",
      "Training Accuracy: 0.9609, Testing Accuracy: 0.9637\n",
      "\n"
     ]
    },
    {
     "name": "stdout",
     "output_type": "stream",
     "text": [
      "Epoch 60, Loss 0.0323\n",
      "Training Accuracy: 0.9639, Testing Accuracy: 0.9667\n",
      "\n"
     ]
    },
    {
     "name": "stdout",
     "output_type": "stream",
     "text": [
      "Epoch 70, Loss 0.0304\n",
      "Training Accuracy: 0.9653, Testing Accuracy: 0.9672\n",
      "\n"
     ]
    },
    {
     "name": "stdout",
     "output_type": "stream",
     "text": [
      "Epoch 80, Loss 0.0289\n",
      "Training Accuracy: 0.9675, Testing Accuracy: 0.9677\n",
      "\n"
     ]
    },
    {
     "name": "stdout",
     "output_type": "stream",
     "text": [
      "Epoch 90, Loss 0.0277\n",
      "Training Accuracy: 0.9685, Testing Accuracy: 0.9677\n",
      "\n"
     ]
    },
    {
     "name": "stdout",
     "output_type": "stream",
     "text": [
      "Epoch 100, Loss 0.0267\n",
      "Training Accuracy: 0.9699, Testing Accuracy: 0.9708\n",
      "\n"
     ]
    },
    {
     "name": "stdout",
     "output_type": "stream",
     "text": [
      "Epoch 110, Loss 0.0259\n",
      "Training Accuracy: 0.9705, Testing Accuracy: 0.9708\n",
      "\n"
     ]
    },
    {
     "name": "stdout",
     "output_type": "stream",
     "text": [
      "Epoch 120, Loss 0.0251\n",
      "Training Accuracy: 0.9715, Testing Accuracy: 0.9703\n",
      "\n"
     ]
    },
    {
     "name": "stdout",
     "output_type": "stream",
     "text": [
      "Epoch 130, Loss 0.0244\n",
      "Training Accuracy: 0.9723, Testing Accuracy: 0.9703\n",
      "\n"
     ]
    },
    {
     "name": "stdout",
     "output_type": "stream",
     "text": [
      "Epoch 140, Loss 0.0238\n",
      "Training Accuracy: 0.9730, Testing Accuracy: 0.9703\n",
      "\n"
     ]
    },
    {
     "name": "stdout",
     "output_type": "stream",
     "text": [
      "Epoch 150, Loss 0.0233\n",
      "Training Accuracy: 0.9740, Testing Accuracy: 0.9713\n",
      "\n"
     ]
    },
    {
     "name": "stdout",
     "output_type": "stream",
     "text": [
      "Epoch 160, Loss 0.0227\n",
      "Training Accuracy: 0.9748, Testing Accuracy: 0.9718\n",
      "\n"
     ]
    },
    {
     "name": "stdout",
     "output_type": "stream",
     "text": [
      "Epoch 170, Loss 0.0222\n",
      "Training Accuracy: 0.9752, Testing Accuracy: 0.9728\n",
      "\n"
     ]
    },
    {
     "name": "stdout",
     "output_type": "stream",
     "text": [
      "Epoch 180, Loss 0.0218\n",
      "Training Accuracy: 0.9760, Testing Accuracy: 0.9728\n",
      "\n"
     ]
    },
    {
     "name": "stdout",
     "output_type": "stream",
     "text": [
      "Epoch 190, Loss 0.0214\n",
      "Training Accuracy: 0.9765, Testing Accuracy: 0.9728\n",
      "\n"
     ]
    },
    {
     "name": "stdout",
     "output_type": "stream",
     "text": [
      "Epoch 200, Loss 0.021\n",
      "Training Accuracy: 0.9771, Testing Accuracy: 0.9733\n",
      "\n"
     ]
    },
    {
     "name": "stdout",
     "output_type": "stream",
     "text": [
      "Epoch 210, Loss 0.0206\n",
      "Training Accuracy: 0.9775, Testing Accuracy: 0.9738\n",
      "\n"
     ]
    },
    {
     "name": "stdout",
     "output_type": "stream",
     "text": [
      "Epoch 220, Loss 0.0202\n",
      "Training Accuracy: 0.9781, Testing Accuracy: 0.9748\n",
      "\n"
     ]
    },
    {
     "name": "stdout",
     "output_type": "stream",
     "text": [
      "Epoch 230, Loss 0.0198\n",
      "Training Accuracy: 0.9786, Testing Accuracy: 0.9743\n",
      "\n"
     ]
    },
    {
     "name": "stdout",
     "output_type": "stream",
     "text": [
      "Epoch 240, Loss 0.0195\n",
      "Training Accuracy: 0.9789, Testing Accuracy: 0.9743\n",
      "\n"
     ]
    },
    {
     "data": {
      "text/plain": [
       "0.00899598406593391"
      ]
     },
     "execution_count": 22,
     "metadata": {},
     "output_type": "execute_result"
    }
   ],
   "source": [
    "nn_learner.train_loop(dl)"
   ]
  },
  {
   "cell_type": "code",
   "execution_count": 23,
   "id": "e0163366",
   "metadata": {
    "execution": {
     "iopub.execute_input": "2021-10-06T00:24:12.617639Z",
     "iopub.status.busy": "2021-10-06T00:24:12.616956Z",
     "iopub.status.idle": "2021-10-06T00:24:32.876624Z",
     "shell.execute_reply": "2021-10-06T00:24:32.877273Z"
    },
    "papermill": {
     "duration": 20.31511,
     "end_time": "2021-10-06T00:24:32.877431",
     "exception": false,
     "start_time": "2021-10-06T00:24:12.562321",
     "status": "completed"
    },
    "tags": []
   },
   "outputs": [
    {
     "name": "stdout",
     "output_type": "stream",
     "text": [
      "Epoch 0, Loss 0.2168\n",
      "Training Accuracy: 0.7714, Testing Accuracy: 0.7802\n",
      "\n"
     ]
    },
    {
     "name": "stdout",
     "output_type": "stream",
     "text": [
      "Epoch 10, Loss 0.1027\n",
      "Training Accuracy: 0.9054, Testing Accuracy: 0.9108\n",
      "\n"
     ]
    },
    {
     "name": "stdout",
     "output_type": "stream",
     "text": [
      "Epoch 20, Loss 0.0797\n",
      "Training Accuracy: 0.9253, Testing Accuracy: 0.9345\n",
      "\n"
     ]
    },
    {
     "name": "stdout",
     "output_type": "stream",
     "text": [
      "Epoch 30, Loss 0.0687\n",
      "Training Accuracy: 0.9351, Testing Accuracy: 0.9451\n",
      "\n"
     ]
    },
    {
     "name": "stdout",
     "output_type": "stream",
     "text": [
      "Epoch 40, Loss 0.062\n",
      "Training Accuracy: 0.9397, Testing Accuracy: 0.9486\n",
      "\n"
     ]
    },
    {
     "name": "stdout",
     "output_type": "stream",
     "text": [
      "Epoch 50, Loss 0.0575\n",
      "Training Accuracy: 0.9429, Testing Accuracy: 0.9531\n",
      "\n"
     ]
    },
    {
     "name": "stdout",
     "output_type": "stream",
     "text": [
      "Epoch 60, Loss 0.0541\n",
      "Training Accuracy: 0.9453, Testing Accuracy: 0.9587\n",
      "\n"
     ]
    },
    {
     "name": "stdout",
     "output_type": "stream",
     "text": [
      "Epoch 70, Loss 0.0515\n",
      "Training Accuracy: 0.9486, Testing Accuracy: 0.9602\n",
      "\n"
     ]
    },
    {
     "name": "stdout",
     "output_type": "stream",
     "text": [
      "Epoch 80, Loss 0.0494\n",
      "Training Accuracy: 0.9498, Testing Accuracy: 0.9607\n",
      "\n"
     ]
    },
    {
     "name": "stdout",
     "output_type": "stream",
     "text": [
      "Epoch 90, Loss 0.0477\n",
      "Training Accuracy: 0.9517, Testing Accuracy: 0.9647\n",
      "\n"
     ]
    },
    {
     "name": "stdout",
     "output_type": "stream",
     "text": [
      "Epoch 100, Loss 0.0463\n",
      "Training Accuracy: 0.9527, Testing Accuracy: 0.9652\n",
      "\n"
     ]
    },
    {
     "name": "stdout",
     "output_type": "stream",
     "text": [
      "Epoch 110, Loss 0.045\n",
      "Training Accuracy: 0.9537, Testing Accuracy: 0.9657\n",
      "\n"
     ]
    },
    {
     "name": "stdout",
     "output_type": "stream",
     "text": [
      "Epoch 120, Loss 0.0439\n",
      "Training Accuracy: 0.9544, Testing Accuracy: 0.9657\n",
      "\n"
     ]
    },
    {
     "name": "stdout",
     "output_type": "stream",
     "text": [
      "Epoch 130, Loss 0.043\n",
      "Training Accuracy: 0.9552, Testing Accuracy: 0.9672\n",
      "\n"
     ]
    },
    {
     "name": "stdout",
     "output_type": "stream",
     "text": [
      "Epoch 140, Loss 0.0422\n",
      "Training Accuracy: 0.9559, Testing Accuracy: 0.9672\n",
      "\n"
     ]
    },
    {
     "name": "stdout",
     "output_type": "stream",
     "text": [
      "Epoch 150, Loss 0.0414\n",
      "Training Accuracy: 0.9564, Testing Accuracy: 0.9672\n",
      "\n"
     ]
    },
    {
     "name": "stdout",
     "output_type": "stream",
     "text": [
      "Epoch 160, Loss 0.0407\n",
      "Training Accuracy: 0.9565, Testing Accuracy: 0.9672\n",
      "\n"
     ]
    },
    {
     "name": "stdout",
     "output_type": "stream",
     "text": [
      "Epoch 170, Loss 0.0401\n",
      "Training Accuracy: 0.9571, Testing Accuracy: 0.9672\n",
      "\n"
     ]
    },
    {
     "name": "stdout",
     "output_type": "stream",
     "text": [
      "Epoch 180, Loss 0.0395\n",
      "Training Accuracy: 0.9579, Testing Accuracy: 0.9667\n",
      "\n"
     ]
    },
    {
     "name": "stdout",
     "output_type": "stream",
     "text": [
      "Epoch 190, Loss 0.039\n",
      "Training Accuracy: 0.9586, Testing Accuracy: 0.9662\n",
      "\n"
     ]
    },
    {
     "name": "stdout",
     "output_type": "stream",
     "text": [
      "Epoch 200, Loss 0.0385\n",
      "Training Accuracy: 0.9591, Testing Accuracy: 0.9662\n",
      "\n"
     ]
    },
    {
     "name": "stdout",
     "output_type": "stream",
     "text": [
      "Epoch 210, Loss 0.0381\n",
      "Training Accuracy: 0.9597, Testing Accuracy: 0.9667\n",
      "\n"
     ]
    },
    {
     "name": "stdout",
     "output_type": "stream",
     "text": [
      "Epoch 220, Loss 0.0376\n",
      "Training Accuracy: 0.9599, Testing Accuracy: 0.9667\n",
      "\n"
     ]
    },
    {
     "name": "stdout",
     "output_type": "stream",
     "text": [
      "Epoch 230, Loss 0.0373\n",
      "Training Accuracy: 0.9600, Testing Accuracy: 0.9667\n",
      "\n"
     ]
    },
    {
     "name": "stdout",
     "output_type": "stream",
     "text": [
      "Epoch 240, Loss 0.0369\n",
      "Training Accuracy: 0.9603, Testing Accuracy: 0.9667\n",
      "\n"
     ]
    },
    {
     "data": {
      "text/plain": [
       "0.039606723457400385"
      ]
     },
     "execution_count": 23,
     "metadata": {},
     "output_type": "execute_result"
    }
   ],
   "source": [
    "lr_learner.train_loop(dl)"
   ]
  },
  {
   "cell_type": "code",
   "execution_count": 24,
   "id": "ca410940",
   "metadata": {
    "execution": {
     "iopub.execute_input": "2021-10-06T00:24:32.993833Z",
     "iopub.status.busy": "2021-10-06T00:24:32.993232Z",
     "iopub.status.idle": "2021-10-06T00:24:33.313554Z",
     "shell.execute_reply": "2021-10-06T00:24:33.312978Z"
    },
    "papermill": {
     "duration": 0.382695,
     "end_time": "2021-10-06T00:24:33.313742",
     "exception": false,
     "start_time": "2021-10-06T00:24:32.931047",
     "status": "completed"
    },
    "tags": []
   },
   "outputs": [
    {
     "data": {
      "text/plain": [
       "<matplotlib.legend.Legend at 0x7f5b767c0630>"
      ]
     },
     "execution_count": 24,
     "metadata": {},
     "output_type": "execute_result"
    },
    {
     "data": {
      "image/png": "[encoded data removed]",
      "text/plain": [
       "<Figure size 1080x720 with 1 Axes>"
      ]
     },
     "metadata": {
      "needs_background": "light"
     },
     "output_type": "display_data"
    }
   ],
   "source": [
    "#comparing the results of NN and LR\n",
    "plt.figure(figsize=(15,10))\n",
    "\n",
    "# Neural Network plots\n",
    "plt.plot(acc_nn.accuracies, 'r-', label = \"Training Accuracies - NN\")\n",
    "plt.plot(acc_nn.test_accuracies, 'g-', label = \"Testing Accuracies - NN\")\n",
    "\n",
    "# Logistic Regression plots\n",
    "plt.plot(acc_lr.accuracies, 'k-', label = \"Training Accuracies - LR\")\n",
    "plt.plot(acc_lr.test_accuracies, 'b-', label = \"Testing Accuracies - LR\")\n",
    "plt.legend()"
   ]
  },
  {
   "cell_type": "markdown",
   "id": "80dfb35c",
   "metadata": {
    "papermill": {
     "duration": 0.055764,
     "end_time": "2021-10-06T00:24:33.425487",
     "exception": false,
     "start_time": "2021-10-06T00:24:33.369723",
     "status": "completed"
    },
    "tags": []
   },
   "source": [
    "#### Plotting the outputs of this layer of the NN.\n"
   ]
  },
  {
   "cell_type": "code",
   "execution_count": 25,
   "id": "45eb2ff5",
   "metadata": {
    "execution": {
     "iopub.execute_input": "2021-10-06T00:24:33.540259Z",
     "iopub.status.busy": "2021-10-06T00:24:33.539180Z",
     "iopub.status.idle": "2021-10-06T00:24:33.567249Z",
     "shell.execute_reply": "2021-10-06T00:24:33.567773Z"
    },
    "papermill": {
     "duration": 0.087584,
     "end_time": "2021-10-06T00:24:33.567964",
     "exception": false,
     "start_time": "2021-10-06T00:24:33.480380",
     "status": "completed"
    },
    "tags": []
   },
   "outputs": [],
   "source": [
    "new_model = Model(layers[:-2])\n",
    "testing_plot = new_model(testing_data_x)"
   ]
  },
  {
   "cell_type": "code",
   "execution_count": 26,
   "id": "4c0a5485",
   "metadata": {
    "execution": {
     "iopub.execute_input": "2021-10-06T00:24:33.688647Z",
     "iopub.status.busy": "2021-10-06T00:24:33.687715Z",
     "iopub.status.idle": "2021-10-06T00:24:33.964321Z",
     "shell.execute_reply": "2021-10-06T00:24:33.963654Z"
    },
    "papermill": {
     "duration": 0.336425,
     "end_time": "2021-10-06T00:24:33.964454",
     "exception": false,
     "start_time": "2021-10-06T00:24:33.628029",
     "status": "completed"
    },
    "tags": []
   },
   "outputs": [
    {
     "data": {
      "text/plain": [
       "Text(0.5, 1.0, 'Outputs')"
      ]
     },
     "execution_count": 26,
     "metadata": {},
     "output_type": "execute_result"
    },
    {
     "data": {
      "image/png": "[encoded data removed]",
      "text/plain": [
       "<Figure size 576x504 with 1 Axes>"
      ]
     },
     "metadata": {
      "needs_background": "light"
     },
     "output_type": "display_data"
    }
   ],
   "source": [
    "# Plotting the scatter plot of points and color coding by class\n",
    "plt.figure(figsize=(8,7))\n",
    "plt.scatter(testing_plot[:,0], testing_plot[:,1], alpha = 0.1, c = y_test.ravel());\n",
    "plt.title('Outputs')"
   ]
  },
  {
   "cell_type": "markdown",
   "id": "a74fcf8f",
   "metadata": {
    "papermill": {
     "duration": 0.056823,
     "end_time": "2021-10-06T00:24:34.075343",
     "exception": false,
     "start_time": "2021-10-06T00:24:34.018520",
     "status": "completed"
    },
    "tags": []
   },
   "source": [
    "Probability contours"
   ]
  },
  {
   "cell_type": "code",
   "execution_count": 27,
   "id": "d0afc8e3",
   "metadata": {
    "execution": {
     "iopub.execute_input": "2021-10-06T00:24:34.213199Z",
     "iopub.status.busy": "2021-10-06T00:24:34.212265Z",
     "iopub.status.idle": "2021-10-06T00:24:34.225957Z",
     "shell.execute_reply": "2021-10-06T00:24:34.225480Z"
    },
    "papermill": {
     "duration": 0.096749,
     "end_time": "2021-10-06T00:24:34.226093",
     "exception": false,
     "start_time": "2021-10-06T00:24:34.129344",
     "status": "completed"
    },
    "tags": []
   },
   "outputs": [],
   "source": [
    "model_prob = Model(layers[-2:]) "
   ]
  },
  {
   "cell_type": "code",
   "execution_count": 28,
   "id": "9b96e238",
   "metadata": {
    "execution": {
     "iopub.execute_input": "2021-10-06T00:24:34.350914Z",
     "iopub.status.busy": "2021-10-06T00:24:34.349939Z",
     "iopub.status.idle": "2021-10-06T00:24:34.368737Z",
     "shell.execute_reply": "2021-10-06T00:24:34.368069Z"
    },
    "papermill": {
     "duration": 0.081459,
     "end_time": "2021-10-06T00:24:34.368908",
     "exception": false,
     "start_time": "2021-10-06T00:24:34.287449",
     "status": "completed"
    },
    "tags": []
   },
   "outputs": [],
   "source": [
    "#creating the x and y ranges according to the above generated plot.\n",
    "x_range = np.linspace(-4, 1, 100) \n",
    "y_range = np.linspace(-6, 6, 100) \n",
    "x_grid, y_grid = np.meshgrid(x_range, y_range) # x_grid and y_grig are of size 100 X 100\n",
    "\n",
    "# converting x_grid and y_grid to continuous arrays\n",
    "x_gridflat = np.ravel(x_grid)\n",
    "y_gridflat = np.ravel(y_grid)\n",
    "\n",
    "# The last layer of the current model takes two columns as input. Hence transpose of np.vstack() is required.\n",
    "X = np.vstack((x_gridflat, y_gridflat)).T\n",
    "\n",
    "prob_contour = model_prob(X).reshape(100,100) "
   ]
  },
  {
   "cell_type": "code",
   "execution_count": 29,
   "id": "da72499a",
   "metadata": {
    "execution": {
     "iopub.execute_input": "2021-10-06T00:24:34.506035Z",
     "iopub.status.busy": "2021-10-06T00:24:34.505280Z",
     "iopub.status.idle": "2021-10-06T00:24:34.845522Z",
     "shell.execute_reply": "2021-10-06T00:24:34.846072Z"
    },
    "papermill": {
     "duration": 0.41196,
     "end_time": "2021-10-06T00:24:34.846259",
     "exception": false,
     "start_time": "2021-10-06T00:24:34.434299",
     "status": "completed"
    },
    "tags": []
   },
   "outputs": [
    {
     "data": {
      "image/png": "[encoded data removed]",
      "text/plain": [
       "<Figure size 720x648 with 1 Axes>"
      ]
     },
     "metadata": {
      "needs_background": "light"
     },
     "output_type": "display_data"
    }
   ],
   "source": [
    "plt.figure(figsize=(10,9))\n",
    "plt.scatter(testing_plot[:,0], testing_plot[:,1], alpha = 0.1, c = y_test.ravel())\n",
    "contours = plt.contour(x_grid,y_grid,prob_contour)\n",
    "plt.title('Probability Contours')\n",
    "plt.clabel(contours, inline = True );"
   ]
  },
  {
   "cell_type": "code",
   "execution_count": null,
   "id": "e81b4ac7",
   "metadata": {
    "papermill": {
     "duration": 0.059194,
     "end_time": "2021-10-06T00:24:34.965725",
     "exception": false,
     "start_time": "2021-10-06T00:24:34.906531",
     "status": "completed"
    },
    "tags": []
   },
   "outputs": [],
   "source": []
  }
 ],
 "metadata": {
  "kernelspec": {
   "display_name": "Python 3",
   "language": "python",
   "name": "python3"
  },
  "language_info": {
   "codemirror_mode": {
    "name": "ipython",
    "version": 3
   },
   "file_extension": ".py",
   "mimetype": "text/x-python",
   "name": "python",
   "nbconvert_exporter": "python",
   "pygments_lexer": "ipython3",
   "version": "3.6.15"
  },
  "papermill": {
   "default_parameters": {},
   "duration": 171.939567,
   "end_time": "2021-10-06T00:24:35.533577",
   "environment_variables": {},
   "exception": null,
   "input_path": "2020-08-11-part2.ipynb",
   "output_path": "2020-08-11-part2.ipynb",
   "parameters": {},
   "start_time": "2021-10-06T00:21:43.594010",
   "version": "2.3.3"
  }
 },
 "nbformat": 4,
 "nbformat_minor": 5
}