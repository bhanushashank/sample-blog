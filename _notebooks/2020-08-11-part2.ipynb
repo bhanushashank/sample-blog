{
 "cells": [
  {
   "cell_type": "markdown",
   "id": "98380cd3",
   "metadata": {
    "papermill": {
     "duration": 0.025821,
     "end_time": "2022-05-04T20:10:22.246113",
     "exception": false,
     "start_time": "2022-05-04T20:10:22.220292",
     "status": "completed"
    },
    "tags": []
   },
   "source": [
    "# Distinguish Your Own Digits (DYOD)"
   ]
  },
  {
   "cell_type": "markdown",
   "id": "ef31240d",
   "metadata": {
    "papermill": {
     "duration": 0.024885,
     "end_time": "2022-05-04T20:10:22.293157",
     "exception": false,
     "start_time": "2022-05-04T20:10:22.268272",
     "status": "completed"
    },
    "tags": []
   },
   "source": [
    "You are going to write a classifier that distinguishes between the number 3 and number 8."
   ]
  },
  {
   "cell_type": "code",
   "execution_count": 1,
   "id": "b15c8646",
   "metadata": {
    "execution": {
     "iopub.execute_input": "2022-05-04T20:10:22.347473Z",
     "iopub.status.busy": "2022-05-04T20:10:22.346966Z",
     "iopub.status.idle": "2022-05-04T20:10:22.357703Z",
     "shell.execute_reply": "2022-05-04T20:10:22.357269Z"
    },
    "papermill": {
     "duration": 0.043224,
     "end_time": "2022-05-04T20:10:22.357841",
     "exception": false,
     "start_time": "2022-05-04T20:10:22.314617",
     "status": "completed"
    },
    "tags": []
   },
   "outputs": [],
   "source": [
    "%load_ext autoreload\n",
    "%autoreload 2"
   ]
  },
  {
   "cell_type": "code",
   "execution_count": 2,
   "id": "22ef38dc",
   "metadata": {
    "execution": {
     "iopub.execute_input": "2022-05-04T20:10:22.407109Z",
     "iopub.status.busy": "2022-05-04T20:10:22.406606Z",
     "iopub.status.idle": "2022-05-04T20:10:22.956485Z",
     "shell.execute_reply": "2022-05-04T20:10:22.957021Z"
    },
    "papermill": {
     "duration": 0.577749,
     "end_time": "2022-05-04T20:10:22.957214",
     "exception": false,
     "start_time": "2022-05-04T20:10:22.379465",
     "status": "completed"
    },
    "tags": []
   },
   "outputs": [],
   "source": [
    "%matplotlib inline\n",
    "import numpy as np\n",
    "import matplotlib.pyplot as plt\n",
    "import pandas as pd"
   ]
  },
  {
   "cell_type": "markdown",
   "id": "ba036198",
   "metadata": {
    "papermill": {
     "duration": 0.021565,
     "end_time": "2022-05-04T20:10:23.000378",
     "exception": false,
     "start_time": "2022-05-04T20:10:22.978813",
     "status": "completed"
    },
    "tags": []
   },
   "source": [
    "From the command line run `pip install mnist`. This is a library that will help you bring down the mnist dataset. If you run this from a notebook, you need to put  `!pip install mnist` in a cell by itself."
   ]
  },
  {
   "cell_type": "code",
   "execution_count": 3,
   "id": "bb6ad8a1",
   "metadata": {
    "execution": {
     "iopub.execute_input": "2022-05-04T20:10:23.048218Z",
     "iopub.status.busy": "2022-05-04T20:10:23.047690Z",
     "iopub.status.idle": "2022-05-04T20:10:25.011978Z",
     "shell.execute_reply": "2022-05-04T20:10:25.010130Z"
    },
    "papermill": {
     "duration": 1.99015,
     "end_time": "2022-05-04T20:10:25.012254",
     "exception": false,
     "start_time": "2022-05-04T20:10:23.022104",
     "status": "completed"
    },
    "tags": []
   },
   "outputs": [
    {
     "name": "stdout",
     "output_type": "stream",
     "text": [
      "Collecting mnist\r\n"
     ]
    },
    {
     "name": "stdout",
     "output_type": "stream",
     "text": [
      "  Downloading mnist-0.2.2-py2.py3-none-any.whl (3.5 kB)\r\n"
     ]
    },
    {
     "name": "stdout",
     "output_type": "stream",
     "text": [
      "Requirement already satisfied: numpy in /opt/hostedtoolcache/Python/3.6.15/x64/lib/python3.6/site-packages (from mnist) (1.19.5)\r\n"
     ]
    },
    {
     "name": "stdout",
     "output_type": "stream",
     "text": [
      "Installing collected packages: mnist\r\n"
     ]
    },
    {
     "name": "stdout",
     "output_type": "stream",
     "text": [
      "Successfully installed mnist-0.2.2\r\n"
     ]
    }
   ],
   "source": [
    "!pip install mnist"
   ]
  },
  {
   "cell_type": "markdown",
   "id": "69df9c9a",
   "metadata": {
    "papermill": {
     "duration": 0.031527,
     "end_time": "2022-05-04T20:10:25.078717",
     "exception": false,
     "start_time": "2022-05-04T20:10:25.047190",
     "status": "completed"
    },
    "tags": []
   },
   "source": [
    "## Preparing the Data"
   ]
  },
  {
   "cell_type": "code",
   "execution_count": 4,
   "id": "7f69d806",
   "metadata": {
    "execution": {
     "iopub.execute_input": "2022-05-04T20:10:25.135712Z",
     "iopub.status.busy": "2022-05-04T20:10:25.135144Z",
     "iopub.status.idle": "2022-05-04T20:10:25.148698Z",
     "shell.execute_reply": "2022-05-04T20:10:25.149138Z"
    },
    "papermill": {
     "duration": 0.044775,
     "end_time": "2022-05-04T20:10:25.149290",
     "exception": false,
     "start_time": "2022-05-04T20:10:25.104515",
     "status": "completed"
    },
    "tags": []
   },
   "outputs": [],
   "source": [
    "import mnist"
   ]
  },
  {
   "cell_type": "code",
   "execution_count": 5,
   "id": "a411e44f",
   "metadata": {
    "execution": {
     "iopub.execute_input": "2022-05-04T20:10:25.201837Z",
     "iopub.status.busy": "2022-05-04T20:10:25.198526Z",
     "iopub.status.idle": "2022-05-04T20:10:25.759313Z",
     "shell.execute_reply": "2022-05-04T20:10:25.758857Z"
    },
    "papermill": {
     "duration": 0.587234,
     "end_time": "2022-05-04T20:10:25.759434",
     "exception": false,
     "start_time": "2022-05-04T20:10:25.172200",
     "status": "completed"
    },
    "tags": []
   },
   "outputs": [],
   "source": [
    "train_images = mnist.train_images()\n",
    "train_labels = mnist.train_labels()"
   ]
  },
  {
   "cell_type": "code",
   "execution_count": 6,
   "id": "dceab3a5",
   "metadata": {
    "execution": {
     "iopub.execute_input": "2022-05-04T20:10:25.822931Z",
     "iopub.status.busy": "2022-05-04T20:10:25.822406Z",
     "iopub.status.idle": "2022-05-04T20:10:25.830129Z",
     "shell.execute_reply": "2022-05-04T20:10:25.829744Z"
    },
    "papermill": {
     "duration": 0.047894,
     "end_time": "2022-05-04T20:10:25.830244",
     "exception": false,
     "start_time": "2022-05-04T20:10:25.782350",
     "status": "completed"
    },
    "tags": []
   },
   "outputs": [
    {
     "data": {
      "text/plain": [
       "((60000, 28, 28), (60000,))"
      ]
     },
     "execution_count": 6,
     "metadata": {},
     "output_type": "execute_result"
    }
   ],
   "source": [
    "train_images.shape, train_labels.shape"
   ]
  },
  {
   "cell_type": "code",
   "execution_count": 7,
   "id": "f50dc2bb",
   "metadata": {
    "execution": {
     "iopub.execute_input": "2022-05-04T20:10:25.883200Z",
     "iopub.status.busy": "2022-05-04T20:10:25.882705Z",
     "iopub.status.idle": "2022-05-04T20:10:26.060129Z",
     "shell.execute_reply": "2022-05-04T20:10:26.059583Z"
    },
    "papermill": {
     "duration": 0.207168,
     "end_time": "2022-05-04T20:10:26.060280",
     "exception": false,
     "start_time": "2022-05-04T20:10:25.853112",
     "status": "completed"
    },
    "tags": []
   },
   "outputs": [],
   "source": [
    "test_images = mnist.test_images()\n",
    "test_labels = mnist.test_labels()"
   ]
  },
  {
   "cell_type": "code",
   "execution_count": 8,
   "id": "fc38cf1b",
   "metadata": {
    "execution": {
     "iopub.execute_input": "2022-05-04T20:10:26.115161Z",
     "iopub.status.busy": "2022-05-04T20:10:26.114642Z",
     "iopub.status.idle": "2022-05-04T20:10:26.125559Z",
     "shell.execute_reply": "2022-05-04T20:10:26.125124Z"
    },
    "papermill": {
     "duration": 0.041631,
     "end_time": "2022-05-04T20:10:26.125677",
     "exception": false,
     "start_time": "2022-05-04T20:10:26.084046",
     "status": "completed"
    },
    "tags": []
   },
   "outputs": [
    {
     "data": {
      "text/plain": [
       "((10000, 28, 28), (10000,))"
      ]
     },
     "execution_count": 8,
     "metadata": {},
     "output_type": "execute_result"
    }
   ],
   "source": [
    "test_images.shape, test_labels.shape"
   ]
  },
  {
   "cell_type": "code",
   "execution_count": 9,
   "id": "f9ed8fe0",
   "metadata": {
    "execution": {
     "iopub.execute_input": "2022-05-04T20:10:26.202745Z",
     "iopub.status.busy": "2022-05-04T20:10:26.185976Z",
     "iopub.status.idle": "2022-05-04T20:10:26.316314Z",
     "shell.execute_reply": "2022-05-04T20:10:26.316743Z"
    },
    "papermill": {
     "duration": 0.168077,
     "end_time": "2022-05-04T20:10:26.316905",
     "exception": false,
     "start_time": "2022-05-04T20:10:26.148828",
     "status": "completed"
    },
    "tags": []
   },
   "outputs": [
    {
     "name": "stdout",
     "output_type": "stream",
     "text": [
      "2\n"
     ]
    },
    {
     "data": {
      "text/plain": [
       "<matplotlib.image.AxesImage at 0x7fb68887a4a8>"
      ]
     },
     "execution_count": 9,
     "metadata": {},
     "output_type": "execute_result"
    },
    {
     "data": {
      "image/png": "[encoded data removed]",
      "text/plain": [
       "<Figure size 432x288 with 1 Axes>"
      ]
     },
     "metadata": {
      "needs_background": "light"
     },
     "output_type": "display_data"
    }
   ],
   "source": [
    "image_index = 7776 # You may select anything up to 60,000\n",
    "print(train_labels[image_index]) \n",
    "plt.imshow(train_images[image_index], cmap='Greys')"
   ]
  },
  {
   "cell_type": "markdown",
   "id": "a8d2388d",
   "metadata": {
    "papermill": {
     "duration": 0.024418,
     "end_time": "2022-05-04T20:10:26.365812",
     "exception": false,
     "start_time": "2022-05-04T20:10:26.341394",
     "status": "completed"
    },
    "tags": []
   },
   "source": [
    "## Filter data to get 3 and 8 out"
   ]
  },
  {
   "cell_type": "code",
   "execution_count": 10,
   "id": "776f7fc7",
   "metadata": {
    "execution": {
     "iopub.execute_input": "2022-05-04T20:10:26.419159Z",
     "iopub.status.busy": "2022-05-04T20:10:26.418637Z",
     "iopub.status.idle": "2022-05-04T20:10:26.438375Z",
     "shell.execute_reply": "2022-05-04T20:10:26.437961Z"
    },
    "papermill": {
     "duration": 0.048479,
     "end_time": "2022-05-04T20:10:26.438492",
     "exception": false,
     "start_time": "2022-05-04T20:10:26.390013",
     "status": "completed"
    },
    "tags": []
   },
   "outputs": [],
   "source": [
    "train_filter = np.where((train_labels == 3 ) | (train_labels == 8))\n",
    "test_filter = np.where((test_labels == 3) | (test_labels == 8))\n",
    "X_train, y_train = train_images[train_filter], train_labels[train_filter]\n",
    "X_test, y_test = test_images[test_filter], test_labels[test_filter]"
   ]
  },
  {
   "cell_type": "markdown",
   "id": "948f0b7e",
   "metadata": {
    "papermill": {
     "duration": 0.024009,
     "end_time": "2022-05-04T20:10:26.486847",
     "exception": false,
     "start_time": "2022-05-04T20:10:26.462838",
     "status": "completed"
    },
    "tags": []
   },
   "source": [
    "We normalize the pizel values in the 0 to 1 range"
   ]
  },
  {
   "cell_type": "code",
   "execution_count": 11,
   "id": "ee4c2166",
   "metadata": {
    "execution": {
     "iopub.execute_input": "2022-05-04T20:10:26.539642Z",
     "iopub.status.busy": "2022-05-04T20:10:26.539144Z",
     "iopub.status.idle": "2022-05-04T20:10:26.586992Z",
     "shell.execute_reply": "2022-05-04T20:10:26.586449Z"
    },
    "papermill": {
     "duration": 0.07619,
     "end_time": "2022-05-04T20:10:26.587140",
     "exception": false,
     "start_time": "2022-05-04T20:10:26.510950",
     "status": "completed"
    },
    "tags": []
   },
   "outputs": [],
   "source": [
    "X_train = X_train/255.\n",
    "X_test = X_test/255."
   ]
  },
  {
   "cell_type": "markdown",
   "id": "ddcf4fab",
   "metadata": {
    "papermill": {
     "duration": 0.024187,
     "end_time": "2022-05-04T20:10:26.636599",
     "exception": false,
     "start_time": "2022-05-04T20:10:26.612412",
     "status": "completed"
    },
    "tags": []
   },
   "source": [
    "And setup the labels as 1 (when the digit is 3) and 0 (when the digit is 8)"
   ]
  },
  {
   "cell_type": "code",
   "execution_count": 12,
   "id": "7dc908f2",
   "metadata": {
    "execution": {
     "iopub.execute_input": "2022-05-04T20:10:26.688715Z",
     "iopub.status.busy": "2022-05-04T20:10:26.688227Z",
     "iopub.status.idle": "2022-05-04T20:10:26.701960Z",
     "shell.execute_reply": "2022-05-04T20:10:26.701506Z"
    },
    "papermill": {
     "duration": 0.041332,
     "end_time": "2022-05-04T20:10:26.702082",
     "exception": false,
     "start_time": "2022-05-04T20:10:26.660750",
     "status": "completed"
    },
    "tags": []
   },
   "outputs": [],
   "source": [
    "y_train = 1*(y_train==3)\n",
    "y_test = 1*(y_test==3)"
   ]
  },
  {
   "cell_type": "code",
   "execution_count": 13,
   "id": "01e4e969",
   "metadata": {
    "execution": {
     "iopub.execute_input": "2022-05-04T20:10:26.754539Z",
     "iopub.status.busy": "2022-05-04T20:10:26.754050Z",
     "iopub.status.idle": "2022-05-04T20:10:26.769258Z",
     "shell.execute_reply": "2022-05-04T20:10:26.769615Z"
    },
    "papermill": {
     "duration": 0.043144,
     "end_time": "2022-05-04T20:10:26.769754",
     "exception": false,
     "start_time": "2022-05-04T20:10:26.726610",
     "status": "completed"
    },
    "tags": []
   },
   "outputs": [
    {
     "data": {
      "text/plain": [
       "((11982, 28, 28), (1984, 28, 28))"
      ]
     },
     "execution_count": 13,
     "metadata": {},
     "output_type": "execute_result"
    }
   ],
   "source": [
    "X_train.shape, X_test.shape"
   ]
  },
  {
   "cell_type": "markdown",
   "id": "5ccf3f85",
   "metadata": {
    "papermill": {
     "duration": 0.024342,
     "end_time": "2022-05-04T20:10:26.818672",
     "exception": false,
     "start_time": "2022-05-04T20:10:26.794330",
     "status": "completed"
    },
    "tags": []
   },
   "source": [
    "We reshape the data to flatten the image pixels into a set of features or co-variates:"
   ]
  },
  {
   "cell_type": "code",
   "execution_count": 14,
   "id": "5286a4a3",
   "metadata": {
    "execution": {
     "iopub.execute_input": "2022-05-04T20:10:26.871702Z",
     "iopub.status.busy": "2022-05-04T20:10:26.871200Z",
     "iopub.status.idle": "2022-05-04T20:10:26.887294Z",
     "shell.execute_reply": "2022-05-04T20:10:26.887959Z"
    },
    "papermill": {
     "duration": 0.045018,
     "end_time": "2022-05-04T20:10:26.888116",
     "exception": false,
     "start_time": "2022-05-04T20:10:26.843098",
     "status": "completed"
    },
    "tags": []
   },
   "outputs": [
    {
     "data": {
      "text/plain": [
       "((11982, 784), (1984, 784))"
      ]
     },
     "execution_count": 14,
     "metadata": {},
     "output_type": "execute_result"
    }
   ],
   "source": [
    "X_train = X_train.reshape(X_train.shape[0], -1)\n",
    "X_test = X_test.reshape(X_test.shape[0], -1)\n",
    "X_train.shape, X_test.shape"
   ]
  },
  {
   "cell_type": "code",
   "execution_count": 15,
   "id": "73c5f88a",
   "metadata": {
    "execution": {
     "iopub.execute_input": "2022-05-04T20:10:26.948769Z",
     "iopub.status.busy": "2022-05-04T20:10:26.948090Z",
     "iopub.status.idle": "2022-05-04T20:10:26.963854Z",
     "shell.execute_reply": "2022-05-04T20:10:26.963355Z"
    },
    "papermill": {
     "duration": 0.051016,
     "end_time": "2022-05-04T20:10:26.963996",
     "exception": false,
     "start_time": "2022-05-04T20:10:26.912980",
     "status": "completed"
    },
    "tags": []
   },
   "outputs": [],
   "source": [
    "#Impoting functions from 'Kudzu'\n",
    "from kudzu.model import Model\n",
    "from kudzu.train import Learner\n",
    "from kudzu.optim import GD\n",
    "from kudzu.data import Data, Sampler,Dataloader\n",
    "\n",
    "from kudzu.callbacks import AccCallback\n",
    "from kudzu.callbacks import ClfCallback\n",
    "\n",
    "from kudzu.loss import MSE\n",
    "\n",
    "from kudzu.layer import Sigmoid,Relu\n",
    "from kudzu.layer import Affine"
   ]
  },
  {
   "cell_type": "markdown",
   "id": "bc01172a",
   "metadata": {
    "papermill": {
     "duration": 0.039803,
     "end_time": "2022-05-04T20:10:27.052650",
     "exception": false,
     "start_time": "2022-05-04T20:10:27.012847",
     "status": "completed"
    },
    "tags": []
   },
   "source": [
    "### Let us create a `Config` class, to store important parameters. \n",
    "This class essentially plays the role of a dictionary."
   ]
  },
  {
   "cell_type": "code",
   "execution_count": 16,
   "id": "978281aa",
   "metadata": {
    "execution": {
     "iopub.execute_input": "2022-05-04T20:10:27.116217Z",
     "iopub.status.busy": "2022-05-04T20:10:27.115637Z",
     "iopub.status.idle": "2022-05-04T20:10:27.126849Z",
     "shell.execute_reply": "2022-05-04T20:10:27.127266Z"
    },
    "papermill": {
     "duration": 0.045145,
     "end_time": "2022-05-04T20:10:27.127426",
     "exception": false,
     "start_time": "2022-05-04T20:10:27.082281",
     "status": "completed"
    },
    "tags": []
   },
   "outputs": [],
   "source": [
    "class Config:\n",
    "    pass\n",
    "config = Config()\n",
    "config.lr = 0.001\n",
    "config.num_epochs = 250\n",
    "config.bs = 50"
   ]
  },
  {
   "cell_type": "markdown",
   "id": "1385fa59",
   "metadata": {
    "papermill": {
     "duration": 0.027724,
     "end_time": "2022-05-04T20:10:27.183025",
     "exception": false,
     "start_time": "2022-05-04T20:10:27.155301",
     "status": "completed"
    },
    "tags": []
   },
   "source": [
    "### Running Models with the Training data\n",
    "Details about the network layers:\n",
    "- A first affine layer has 784 inputs and does 100 affine transforms. These are followed by a Relu\n",
    "- A second affine layer has 100 inputs from the 100 activations of the past layer, and does 100 affine transforms. These are followed by a Relu\n",
    "- A third affine layer has 100 activations and does 2 affine transformations to create an embedding for visualization. There is no non-linearity here.\n",
    "- A final \"logistic regression\" which has an affine transform from 2 inputs to 1 output, which is squeezed through a sigmoid.\n"
   ]
  },
  {
   "cell_type": "code",
   "execution_count": 17,
   "id": "2b9c66db",
   "metadata": {
    "execution": {
     "iopub.execute_input": "2022-05-04T20:10:27.246163Z",
     "iopub.status.busy": "2022-05-04T20:10:27.245589Z",
     "iopub.status.idle": "2022-05-04T20:10:27.256725Z",
     "shell.execute_reply": "2022-05-04T20:10:27.256261Z"
    },
    "papermill": {
     "duration": 0.045959,
     "end_time": "2022-05-04T20:10:27.256868",
     "exception": false,
     "start_time": "2022-05-04T20:10:27.210909",
     "status": "completed"
    },
    "tags": []
   },
   "outputs": [],
   "source": [
    "data = Data(X_train, y_train.reshape(-1,1))\n",
    "sampler = Sampler(data, config.bs, shuffle=True)\n",
    "\n",
    "dl = Dataloader(data, sampler)\n",
    "\n",
    "opt = GD(config.lr)\n",
    "loss = MSE()"
   ]
  },
  {
   "cell_type": "code",
   "execution_count": 18,
   "id": "b275e4c2",
   "metadata": {
    "execution": {
     "iopub.execute_input": "2022-05-04T20:10:27.320209Z",
     "iopub.status.busy": "2022-05-04T20:10:27.319631Z",
     "iopub.status.idle": "2022-05-04T20:10:27.330709Z",
     "shell.execute_reply": "2022-05-04T20:10:27.330224Z"
    },
    "papermill": {
     "duration": 0.046002,
     "end_time": "2022-05-04T20:10:27.330841",
     "exception": false,
     "start_time": "2022-05-04T20:10:27.284839",
     "status": "completed"
    },
    "tags": []
   },
   "outputs": [],
   "source": [
    "training_data_x = X_train\n",
    "testing_data_x = X_test\n",
    "training_data_y = y_train.reshape(-1,1)\n",
    "testing_data_y = y_test.reshape(-1,1)"
   ]
  },
  {
   "cell_type": "code",
   "execution_count": 19,
   "id": "76951160",
   "metadata": {
    "execution": {
     "iopub.execute_input": "2022-05-04T20:10:27.391848Z",
     "iopub.status.busy": "2022-05-04T20:10:27.390768Z",
     "iopub.status.idle": "2022-05-04T20:10:27.409593Z",
     "shell.execute_reply": "2022-05-04T20:10:27.409136Z"
    },
    "papermill": {
     "duration": 0.05115,
     "end_time": "2022-05-04T20:10:27.409727",
     "exception": false,
     "start_time": "2022-05-04T20:10:27.358577",
     "status": "completed"
    },
    "tags": []
   },
   "outputs": [
    {
     "name": "stdout",
     "output_type": "stream",
     "text": [
      "xavier\n",
      "xavier\n",
      "xavier\n",
      "xavier\n",
      "xavier\n"
     ]
    }
   ],
   "source": [
    "layers = [Affine(\"first\", 784, 100), Relu(\"first\"), Affine(\"second\", 100, 100), Relu(\"second\"), Affine(\"third\", 100, 2), Affine(\"last\", 2, 1), Sigmoid(\"last\")]\n",
    "model_nn = Model(layers)\n",
    "model_lr = Model([Affine(\"logits\", 784, 1), Sigmoid(\"sigmoid\")])"
   ]
  },
  {
   "cell_type": "code",
   "execution_count": 20,
   "id": "6eede77a",
   "metadata": {
    "execution": {
     "iopub.execute_input": "2022-05-04T20:10:27.482609Z",
     "iopub.status.busy": "2022-05-04T20:10:27.475897Z",
     "iopub.status.idle": "2022-05-04T20:10:27.484910Z",
     "shell.execute_reply": "2022-05-04T20:10:27.484412Z"
    },
    "papermill": {
     "duration": 0.046919,
     "end_time": "2022-05-04T20:10:27.485042",
     "exception": false,
     "start_time": "2022-05-04T20:10:27.438123",
     "status": "completed"
    },
    "tags": []
   },
   "outputs": [],
   "source": [
    "nn_learner = Learner(loss, model_nn, opt, config.num_epochs)\n",
    "acc_nn = ClfCallback(nn_learner, config.bs, training_data_x , testing_data_x, training_data_y, testing_data_y)\n",
    "nn_learner.set_callbacks([acc_nn])"
   ]
  },
  {
   "cell_type": "code",
   "execution_count": 21,
   "id": "877b6cc7",
   "metadata": {
    "execution": {
     "iopub.execute_input": "2022-05-04T20:10:27.550571Z",
     "iopub.status.busy": "2022-05-04T20:10:27.545107Z",
     "iopub.status.idle": "2022-05-04T20:10:27.559879Z",
     "shell.execute_reply": "2022-05-04T20:10:27.559416Z"
    },
    "papermill": {
     "duration": 0.046847,
     "end_time": "2022-05-04T20:10:27.560014",
     "exception": false,
     "start_time": "2022-05-04T20:10:27.513167",
     "status": "completed"
    },
    "tags": []
   },
   "outputs": [],
   "source": [
    "lr_learner = Learner(loss, model_lr, opt, config.num_epochs)\n",
    "acc_lr = ClfCallback(lr_learner, config.bs, training_data_x , testing_data_x, training_data_y, testing_data_y)\n",
    "lr_learner.set_callbacks([acc_lr])"
   ]
  },
  {
   "cell_type": "code",
   "execution_count": 22,
   "id": "d9b133c3",
   "metadata": {
    "execution": {
     "iopub.execute_input": "2022-05-04T20:10:27.621935Z",
     "iopub.status.busy": "2022-05-04T20:10:27.621379Z",
     "iopub.status.idle": "2022-05-04T20:11:59.198924Z",
     "shell.execute_reply": "2022-05-04T20:11:59.199319Z"
    },
    "papermill": {
     "duration": 91.610187,
     "end_time": "2022-05-04T20:11:59.199468",
     "exception": false,
     "start_time": "2022-05-04T20:10:27.589281",
     "status": "completed"
    },
    "tags": []
   },
   "outputs": [
    {
     "name": "stdout",
     "output_type": "stream",
     "text": [
      "Epoch 0, Loss 0.2485\n",
      "Training Accuracy: 0.7481, Testing Accuracy: 0.7515\n",
      "\n"
     ]
    },
    {
     "name": "stdout",
     "output_type": "stream",
     "text": [
      "Epoch 10, Loss 0.0576\n",
      "Training Accuracy: 0.9420, Testing Accuracy: 0.9496\n",
      "\n"
     ]
    },
    {
     "name": "stdout",
     "output_type": "stream",
     "text": [
      "Epoch 20, Loss 0.0419\n",
      "Training Accuracy: 0.9543, Testing Accuracy: 0.9582\n",
      "\n"
     ]
    },
    {
     "name": "stdout",
     "output_type": "stream",
     "text": [
      "Epoch 30, Loss 0.0358\n",
      "Training Accuracy: 0.9594, Testing Accuracy: 0.9617\n",
      "\n"
     ]
    },
    {
     "name": "stdout",
     "output_type": "stream",
     "text": [
      "Epoch 40, Loss 0.0323\n",
      "Training Accuracy: 0.9629, Testing Accuracy: 0.9657\n",
      "\n"
     ]
    },
    {
     "name": "stdout",
     "output_type": "stream",
     "text": [
      "Epoch 50, Loss 0.0299\n",
      "Training Accuracy: 0.9659, Testing Accuracy: 0.9672\n",
      "\n"
     ]
    },
    {
     "name": "stdout",
     "output_type": "stream",
     "text": [
      "Epoch 60, Loss 0.0281\n",
      "Training Accuracy: 0.9687, Testing Accuracy: 0.9682\n",
      "\n"
     ]
    },
    {
     "name": "stdout",
     "output_type": "stream",
     "text": [
      "Epoch 70, Loss 0.0267\n",
      "Training Accuracy: 0.9704, Testing Accuracy: 0.9698\n",
      "\n"
     ]
    },
    {
     "name": "stdout",
     "output_type": "stream",
     "text": [
      "Epoch 80, Loss 0.0255\n",
      "Training Accuracy: 0.9715, Testing Accuracy: 0.9703\n",
      "\n"
     ]
    },
    {
     "name": "stdout",
     "output_type": "stream",
     "text": [
      "Epoch 90, Loss 0.0244\n",
      "Training Accuracy: 0.9721, Testing Accuracy: 0.9723\n",
      "\n"
     ]
    },
    {
     "name": "stdout",
     "output_type": "stream",
     "text": [
      "Epoch 100, Loss 0.0235\n",
      "Training Accuracy: 0.9730, Testing Accuracy: 0.9728\n",
      "\n"
     ]
    },
    {
     "name": "stdout",
     "output_type": "stream",
     "text": [
      "Epoch 110, Loss 0.0227\n",
      "Training Accuracy: 0.9740, Testing Accuracy: 0.9738\n",
      "\n"
     ]
    },
    {
     "name": "stdout",
     "output_type": "stream",
     "text": [
      "Epoch 120, Loss 0.022\n",
      "Training Accuracy: 0.9754, Testing Accuracy: 0.9743\n",
      "\n"
     ]
    },
    {
     "name": "stdout",
     "output_type": "stream",
     "text": [
      "Epoch 130, Loss 0.0213\n",
      "Training Accuracy: 0.9761, Testing Accuracy: 0.9753\n",
      "\n"
     ]
    },
    {
     "name": "stdout",
     "output_type": "stream",
     "text": [
      "Epoch 140, Loss 0.0207\n",
      "Training Accuracy: 0.9770, Testing Accuracy: 0.9753\n",
      "\n"
     ]
    },
    {
     "name": "stdout",
     "output_type": "stream",
     "text": [
      "Epoch 150, Loss 0.0201\n",
      "Training Accuracy: 0.9782, Testing Accuracy: 0.9758\n",
      "\n"
     ]
    },
    {
     "name": "stdout",
     "output_type": "stream",
     "text": [
      "Epoch 160, Loss 0.0196\n",
      "Training Accuracy: 0.9790, Testing Accuracy: 0.9763\n",
      "\n"
     ]
    },
    {
     "name": "stdout",
     "output_type": "stream",
     "text": [
      "Epoch 170, Loss 0.0191\n",
      "Training Accuracy: 0.9793, Testing Accuracy: 0.9768\n",
      "\n"
     ]
    },
    {
     "name": "stdout",
     "output_type": "stream",
     "text": [
      "Epoch 180, Loss 0.0186\n",
      "Training Accuracy: 0.9797, Testing Accuracy: 0.9778\n",
      "\n"
     ]
    },
    {
     "name": "stdout",
     "output_type": "stream",
     "text": [
      "Epoch 190, Loss 0.0181\n",
      "Training Accuracy: 0.9799, Testing Accuracy: 0.9783\n",
      "\n"
     ]
    },
    {
     "name": "stdout",
     "output_type": "stream",
     "text": [
      "Epoch 200, Loss 0.0177\n",
      "Training Accuracy: 0.9806, Testing Accuracy: 0.9788\n",
      "\n"
     ]
    },
    {
     "name": "stdout",
     "output_type": "stream",
     "text": [
      "Epoch 210, Loss 0.0172\n",
      "Training Accuracy: 0.9812, Testing Accuracy: 0.9788\n",
      "\n"
     ]
    },
    {
     "name": "stdout",
     "output_type": "stream",
     "text": [
      "Epoch 220, Loss 0.0168\n",
      "Training Accuracy: 0.9816, Testing Accuracy: 0.9793\n",
      "\n"
     ]
    },
    {
     "name": "stdout",
     "output_type": "stream",
     "text": [
      "Epoch 230, Loss 0.0165\n",
      "Training Accuracy: 0.9818, Testing Accuracy: 0.9783\n",
      "\n"
     ]
    },
    {
     "name": "stdout",
     "output_type": "stream",
     "text": [
      "Epoch 240, Loss 0.0161\n",
      "Training Accuracy: 0.9823, Testing Accuracy: 0.9788\n",
      "\n"
     ]
    },
    {
     "data": {
      "text/plain": [
       "0.0028514548952928293"
      ]
     },
     "execution_count": 22,
     "metadata": {},
     "output_type": "execute_result"
    }
   ],
   "source": [
    "nn_learner.train_loop(dl)"
   ]
  },
  {
   "cell_type": "code",
   "execution_count": 23,
   "id": "e0163366",
   "metadata": {
    "execution": {
     "iopub.execute_input": "2022-05-04T20:11:59.265435Z",
     "iopub.status.busy": "2022-05-04T20:11:59.264905Z",
     "iopub.status.idle": "2022-05-04T20:12:15.541754Z",
     "shell.execute_reply": "2022-05-04T20:12:15.542159Z"
    },
    "papermill": {
     "duration": 16.311782,
     "end_time": "2022-05-04T20:12:15.542302",
     "exception": false,
     "start_time": "2022-05-04T20:11:59.230520",
     "status": "completed"
    },
    "tags": []
   },
   "outputs": [
    {
     "name": "stdout",
     "output_type": "stream",
     "text": [
      "Epoch 0, Loss 0.2274\n",
      "Training Accuracy: 0.7517, Testing Accuracy: 0.7308\n",
      "\n"
     ]
    },
    {
     "name": "stdout",
     "output_type": "stream",
     "text": [
      "Epoch 10, Loss 0.1024\n",
      "Training Accuracy: 0.9109, Testing Accuracy: 0.9128\n",
      "\n"
     ]
    },
    {
     "name": "stdout",
     "output_type": "stream",
     "text": [
      "Epoch 20, Loss 0.0794\n",
      "Training Accuracy: 0.9266, Testing Accuracy: 0.9340\n",
      "\n"
     ]
    },
    {
     "name": "stdout",
     "output_type": "stream",
     "text": [
      "Epoch 30, Loss 0.0687\n",
      "Training Accuracy: 0.9360, Testing Accuracy: 0.9446\n",
      "\n"
     ]
    },
    {
     "name": "stdout",
     "output_type": "stream",
     "text": [
      "Epoch 40, Loss 0.0621\n",
      "Training Accuracy: 0.9407, Testing Accuracy: 0.9526\n",
      "\n"
     ]
    },
    {
     "name": "stdout",
     "output_type": "stream",
     "text": [
      "Epoch 50, Loss 0.0576\n",
      "Training Accuracy: 0.9435, Testing Accuracy: 0.9551\n",
      "\n"
     ]
    },
    {
     "name": "stdout",
     "output_type": "stream",
     "text": [
      "Epoch 60, Loss 0.0543\n",
      "Training Accuracy: 0.9456, Testing Accuracy: 0.9561\n",
      "\n"
     ]
    },
    {
     "name": "stdout",
     "output_type": "stream",
     "text": [
      "Epoch 70, Loss 0.0517\n",
      "Training Accuracy: 0.9474, Testing Accuracy: 0.9572\n",
      "\n"
     ]
    },
    {
     "name": "stdout",
     "output_type": "stream",
     "text": [
      "Epoch 80, Loss 0.0497\n",
      "Training Accuracy: 0.9493, Testing Accuracy: 0.9587\n",
      "\n"
     ]
    },
    {
     "name": "stdout",
     "output_type": "stream",
     "text": [
      "Epoch 90, Loss 0.0479\n",
      "Training Accuracy: 0.9506, Testing Accuracy: 0.9602\n",
      "\n"
     ]
    },
    {
     "name": "stdout",
     "output_type": "stream",
     "text": [
      "Epoch 100, Loss 0.0465\n",
      "Training Accuracy: 0.9514, Testing Accuracy: 0.9622\n",
      "\n"
     ]
    },
    {
     "name": "stdout",
     "output_type": "stream",
     "text": [
      "Epoch 110, Loss 0.0453\n",
      "Training Accuracy: 0.9524, Testing Accuracy: 0.9627\n",
      "\n"
     ]
    },
    {
     "name": "stdout",
     "output_type": "stream",
     "text": [
      "Epoch 120, Loss 0.0442\n",
      "Training Accuracy: 0.9537, Testing Accuracy: 0.9642\n",
      "\n"
     ]
    },
    {
     "name": "stdout",
     "output_type": "stream",
     "text": [
      "Epoch 130, Loss 0.0432\n",
      "Training Accuracy: 0.9541, Testing Accuracy: 0.9652\n",
      "\n"
     ]
    },
    {
     "name": "stdout",
     "output_type": "stream",
     "text": [
      "Epoch 140, Loss 0.0424\n",
      "Training Accuracy: 0.9545, Testing Accuracy: 0.9652\n",
      "\n"
     ]
    },
    {
     "name": "stdout",
     "output_type": "stream",
     "text": [
      "Epoch 150, Loss 0.0416\n",
      "Training Accuracy: 0.9553, Testing Accuracy: 0.9657\n",
      "\n"
     ]
    },
    {
     "name": "stdout",
     "output_type": "stream",
     "text": [
      "Epoch 160, Loss 0.0409\n",
      "Training Accuracy: 0.9561, Testing Accuracy: 0.9657\n",
      "\n"
     ]
    },
    {
     "name": "stdout",
     "output_type": "stream",
     "text": [
      "Epoch 170, Loss 0.0403\n",
      "Training Accuracy: 0.9565, Testing Accuracy: 0.9652\n",
      "\n"
     ]
    },
    {
     "name": "stdout",
     "output_type": "stream",
     "text": [
      "Epoch 180, Loss 0.0397\n",
      "Training Accuracy: 0.9571, Testing Accuracy: 0.9652\n",
      "\n"
     ]
    },
    {
     "name": "stdout",
     "output_type": "stream",
     "text": [
      "Epoch 190, Loss 0.0392\n",
      "Training Accuracy: 0.9578, Testing Accuracy: 0.9652\n",
      "\n"
     ]
    },
    {
     "name": "stdout",
     "output_type": "stream",
     "text": [
      "Epoch 200, Loss 0.0387\n",
      "Training Accuracy: 0.9580, Testing Accuracy: 0.9652\n",
      "\n"
     ]
    },
    {
     "name": "stdout",
     "output_type": "stream",
     "text": [
      "Epoch 210, Loss 0.0383\n",
      "Training Accuracy: 0.9585, Testing Accuracy: 0.9657\n",
      "\n"
     ]
    },
    {
     "name": "stdout",
     "output_type": "stream",
     "text": [
      "Epoch 220, Loss 0.0379\n",
      "Training Accuracy: 0.9589, Testing Accuracy: 0.9657\n",
      "\n"
     ]
    },
    {
     "name": "stdout",
     "output_type": "stream",
     "text": [
      "Epoch 230, Loss 0.0375\n",
      "Training Accuracy: 0.9593, Testing Accuracy: 0.9657\n",
      "\n"
     ]
    },
    {
     "name": "stdout",
     "output_type": "stream",
     "text": [
      "Epoch 240, Loss 0.0371\n",
      "Training Accuracy: 0.9600, Testing Accuracy: 0.9672\n",
      "\n"
     ]
    },
    {
     "data": {
      "text/plain": [
       "0.07458744776838591"
      ]
     },
     "execution_count": 23,
     "metadata": {},
     "output_type": "execute_result"
    }
   ],
   "source": [
    "lr_learner.train_loop(dl)"
   ]
  },
  {
   "cell_type": "code",
   "execution_count": 24,
   "id": "ca410940",
   "metadata": {
    "execution": {
     "iopub.execute_input": "2022-05-04T20:12:15.622828Z",
     "iopub.status.busy": "2022-05-04T20:12:15.622260Z",
     "iopub.status.idle": "2022-05-04T20:12:15.860458Z",
     "shell.execute_reply": "2022-05-04T20:12:15.859931Z"
    },
    "papermill": {
     "duration": 0.280657,
     "end_time": "2022-05-04T20:12:15.860603",
     "exception": false,
     "start_time": "2022-05-04T20:12:15.579946",
     "status": "completed"
    },
    "tags": []
   },
   "outputs": [
    {
     "data": {
      "text/plain": [
       "<matplotlib.legend.Legend at 0x7fb68845bb38>"
      ]
     },
     "execution_count": 24,
     "metadata": {},
     "output_type": "execute_result"
    },
    {
     "data": {
      "image/png": "[encoded data removed]",
      "text/plain": [
       "<Figure size 1080x720 with 1 Axes>"
      ]
     },
     "metadata": {
      "needs_background": "light"
     },
     "output_type": "display_data"
    }
   ],
   "source": [
    "#comparing the results of NN and LR\n",
    "plt.figure(figsize=(15,10))\n",
    "\n",
    "# Neural Network plots\n",
    "plt.plot(acc_nn.accuracies, 'r-', label = \"Training Accuracies - NN\")\n",
    "plt.plot(acc_nn.test_accuracies, 'g-', label = \"Testing Accuracies - NN\")\n",
    "\n",
    "# Logistic Regression plots\n",
    "plt.plot(acc_lr.accuracies, 'k-', label = \"Training Accuracies - LR\")\n",
    "plt.plot(acc_lr.test_accuracies, 'b-', label = \"Testing Accuracies - LR\")\n",
    "plt.legend()"
   ]
  },
  {
   "cell_type": "markdown",
   "id": "80dfb35c",
   "metadata": {
    "papermill": {
     "duration": 0.038708,
     "end_time": "2022-05-04T20:12:15.937903",
     "exception": false,
     "start_time": "2022-05-04T20:12:15.899195",
     "status": "completed"
    },
    "tags": []
   },
   "source": [
    "#### Plotting the outputs of this layer of the NN.\n"
   ]
  },
  {
   "cell_type": "code",
   "execution_count": 25,
   "id": "45eb2ff5",
   "metadata": {
    "execution": {
     "iopub.execute_input": "2022-05-04T20:12:16.030281Z",
     "iopub.status.busy": "2022-05-04T20:12:16.029505Z",
     "iopub.status.idle": "2022-05-04T20:12:16.044573Z",
     "shell.execute_reply": "2022-05-04T20:12:16.045082Z"
    },
    "papermill": {
     "duration": 0.06859,
     "end_time": "2022-05-04T20:12:16.045249",
     "exception": false,
     "start_time": "2022-05-04T20:12:15.976659",
     "status": "completed"
    },
    "tags": []
   },
   "outputs": [],
   "source": [
    "new_model = Model(layers[:-2])\n",
    "testing_plot = new_model(testing_data_x)"
   ]
  },
  {
   "cell_type": "code",
   "execution_count": 26,
   "id": "4c0a5485",
   "metadata": {
    "execution": {
     "iopub.execute_input": "2022-05-04T20:12:16.142749Z",
     "iopub.status.busy": "2022-05-04T20:12:16.142154Z",
     "iopub.status.idle": "2022-05-04T20:12:16.340438Z",
     "shell.execute_reply": "2022-05-04T20:12:16.339586Z"
    },
    "papermill": {
     "duration": 0.251249,
     "end_time": "2022-05-04T20:12:16.340583",
     "exception": false,
     "start_time": "2022-05-04T20:12:16.089334",
     "status": "completed"
    },
    "tags": []
   },
   "outputs": [
    {
     "data": {
      "text/plain": [
       "Text(0.5, 1.0, 'Outputs')"
      ]
     },
     "execution_count": 26,
     "metadata": {},
     "output_type": "execute_result"
    },
    {
     "data": {
      "image/png": "[encoded data removed]",
      "text/plain": [
       "<Figure size 576x504 with 1 Axes>"
      ]
     },
     "metadata": {
      "needs_background": "light"
     },
     "output_type": "display_data"
    }
   ],
   "source": [
    "# Plotting the scatter plot of points and color coding by class\n",
    "plt.figure(figsize=(8,7))\n",
    "plt.scatter(testing_plot[:,0], testing_plot[:,1], alpha = 0.1, c = y_test.ravel());\n",
    "plt.title('Outputs')"
   ]
  },
  {
   "cell_type": "markdown",
   "id": "a74fcf8f",
   "metadata": {
    "papermill": {
     "duration": 0.045324,
     "end_time": "2022-05-04T20:12:16.431314",
     "exception": false,
     "start_time": "2022-05-04T20:12:16.385990",
     "status": "completed"
    },
    "tags": []
   },
   "source": [
    "Probability contours"
   ]
  },
  {
   "cell_type": "code",
   "execution_count": 27,
   "id": "d0afc8e3",
   "metadata": {
    "execution": {
     "iopub.execute_input": "2022-05-04T20:12:16.570378Z",
     "iopub.status.busy": "2022-05-04T20:12:16.569806Z",
     "iopub.status.idle": "2022-05-04T20:12:16.580568Z",
     "shell.execute_reply": "2022-05-04T20:12:16.581052Z"
    },
    "papermill": {
     "duration": 0.103919,
     "end_time": "2022-05-04T20:12:16.581213",
     "exception": false,
     "start_time": "2022-05-04T20:12:16.477294",
     "status": "completed"
    },
    "tags": []
   },
   "outputs": [],
   "source": [
    "model_prob = Model(layers[-2:]) "
   ]
  },
  {
   "cell_type": "code",
   "execution_count": 28,
   "id": "9b96e238",
   "metadata": {
    "execution": {
     "iopub.execute_input": "2022-05-04T20:12:16.682625Z",
     "iopub.status.busy": "2022-05-04T20:12:16.682011Z",
     "iopub.status.idle": "2022-05-04T20:12:16.693734Z",
     "shell.execute_reply": "2022-05-04T20:12:16.694119Z"
    },
    "papermill": {
     "duration": 0.067679,
     "end_time": "2022-05-04T20:12:16.694264",
     "exception": false,
     "start_time": "2022-05-04T20:12:16.626585",
     "status": "completed"
    },
    "tags": []
   },
   "outputs": [],
   "source": [
    "#creating the x and y ranges according to the above generated plot.\n",
    "x_range = np.linspace(-4, 1, 100) \n",
    "y_range = np.linspace(-6, 6, 100) \n",
    "x_grid, y_grid = np.meshgrid(x_range, y_range) # x_grid and y_grig are of size 100 X 100\n",
    "\n",
    "# converting x_grid and y_grid to continuous arrays\n",
    "x_gridflat = np.ravel(x_grid)\n",
    "y_gridflat = np.ravel(y_grid)\n",
    "\n",
    "# The last layer of the current model takes two columns as input. Hence transpose of np.vstack() is required.\n",
    "X = np.vstack((x_gridflat, y_gridflat)).T\n",
    "\n",
    "prob_contour = model_prob(X).reshape(100,100) "
   ]
  },
  {
   "cell_type": "code",
   "execution_count": 29,
   "id": "da72499a",
   "metadata": {
    "execution": {
     "iopub.execute_input": "2022-05-04T20:12:16.790435Z",
     "iopub.status.busy": "2022-05-04T20:12:16.789939Z",
     "iopub.status.idle": "2022-05-04T20:12:17.013398Z",
     "shell.execute_reply": "2022-05-04T20:12:17.012824Z"
    },
    "papermill": {
     "duration": 0.278393,
     "end_time": "2022-05-04T20:12:17.013536",
     "exception": false,
     "start_time": "2022-05-04T20:12:16.735143",
     "status": "completed"
    },
    "tags": []
   },
   "outputs": [
    {
     "data": {
      "image/png": "[encoded data removed]",
      "text/plain": [
       "<Figure size 720x648 with 1 Axes>"
      ]
     },
     "metadata": {
      "needs_background": "light"
     },
     "output_type": "display_data"
    }
   ],
   "source": [
    "plt.figure(figsize=(10,9))\n",
    "plt.scatter(testing_plot[:,0], testing_plot[:,1], alpha = 0.1, c = y_test.ravel())\n",
    "contours = plt.contour(x_grid,y_grid,prob_contour)\n",
    "plt.title('Probability Contours')\n",
    "plt.clabel(contours, inline = True );"
   ]
  },
  {
   "cell_type": "code",
   "execution_count": null,
   "id": "e81b4ac7",
   "metadata": {
    "papermill": {
     "duration": 0.050076,
     "end_time": "2022-05-04T20:12:17.119731",
     "exception": false,
     "start_time": "2022-05-04T20:12:17.069655",
     "status": "completed"
    },
    "tags": []
   },
   "outputs": [],
   "source": []
  }
 ],
 "metadata": {
  "kernelspec": {
   "display_name": "Python 3",
   "language": "python",
   "name": "python3"
  },
  "language_info": {
   "codemirror_mode": {
    "name": "ipython",
    "version": 3
   },
   "file_extension": ".py",
   "mimetype": "text/x-python",
   "name": "python",
   "nbconvert_exporter": "python",
   "pygments_lexer": "ipython3",
   "version": "3.6.15"
  },
  "papermill": {
   "default_parameters": {},
   "duration": 116.387574,
   "end_time": "2022-05-04T20:12:17.687229",
   "environment_variables": {},
   "exception": null,
   "input_path": "2020-08-11-part2.ipynb",
   "output_path": "2020-08-11-part2.ipynb",
   "parameters": {},
   "start_time": "2022-05-04T20:10:21.299655",
   "version": "2.3.3"
  }
 },
 "nbformat": 4,
 "nbformat_minor": 5
}