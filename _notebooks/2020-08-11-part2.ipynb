{
 "cells": [
  {
   "cell_type": "markdown",
   "id": "98380cd3",
   "metadata": {
    "papermill": {
     "duration": 0.036742,
     "end_time": "2022-03-31T20:10:31.900058",
     "exception": false,
     "start_time": "2022-03-31T20:10:31.863316",
     "status": "completed"
    },
    "tags": []
   },
   "source": [
    "# Distinguish Your Own Digits (DYOD)"
   ]
  },
  {
   "cell_type": "markdown",
   "id": "ef31240d",
   "metadata": {
    "papermill": {
     "duration": 0.032988,
     "end_time": "2022-03-31T20:10:31.965365",
     "exception": false,
     "start_time": "2022-03-31T20:10:31.932377",
     "status": "completed"
    },
    "tags": []
   },
   "source": [
    "You are going to write a classifier that distinguishes between the number 3 and number 8."
   ]
  },
  {
   "cell_type": "code",
   "execution_count": 1,
   "id": "b15c8646",
   "metadata": {
    "execution": {
     "iopub.execute_input": "2022-03-31T20:10:32.041856Z",
     "iopub.status.busy": "2022-03-31T20:10:32.041126Z",
     "iopub.status.idle": "2022-03-31T20:10:32.054100Z",
     "shell.execute_reply": "2022-03-31T20:10:32.053492Z"
    },
    "papermill": {
     "duration": 0.056857,
     "end_time": "2022-03-31T20:10:32.054293",
     "exception": false,
     "start_time": "2022-03-31T20:10:31.997436",
     "status": "completed"
    },
    "tags": []
   },
   "outputs": [],
   "source": [
    "%load_ext autoreload\n",
    "%autoreload 2"
   ]
  },
  {
   "cell_type": "code",
   "execution_count": 2,
   "id": "22ef38dc",
   "metadata": {
    "execution": {
     "iopub.execute_input": "2022-03-31T20:10:32.127046Z",
     "iopub.status.busy": "2022-03-31T20:10:32.126267Z",
     "iopub.status.idle": "2022-03-31T20:10:32.909713Z",
     "shell.execute_reply": "2022-03-31T20:10:32.909101Z"
    },
    "papermill": {
     "duration": 0.823695,
     "end_time": "2022-03-31T20:10:32.909874",
     "exception": false,
     "start_time": "2022-03-31T20:10:32.086179",
     "status": "completed"
    },
    "tags": []
   },
   "outputs": [],
   "source": [
    "%matplotlib inline\n",
    "import numpy as np\n",
    "import matplotlib.pyplot as plt\n",
    "import pandas as pd"
   ]
  },
  {
   "cell_type": "markdown",
   "id": "ba036198",
   "metadata": {
    "papermill": {
     "duration": 0.035347,
     "end_time": "2022-03-31T20:10:32.977739",
     "exception": false,
     "start_time": "2022-03-31T20:10:32.942392",
     "status": "completed"
    },
    "tags": []
   },
   "source": [
    "From the command line run `pip install mnist`. This is a library that will help you bring down the mnist dataset. If you run this from a notebook, you need to put  `!pip install mnist` in a cell by itself."
   ]
  },
  {
   "cell_type": "code",
   "execution_count": 3,
   "id": "bb6ad8a1",
   "metadata": {
    "execution": {
     "iopub.execute_input": "2022-03-31T20:10:33.050401Z",
     "iopub.status.busy": "2022-03-31T20:10:33.049720Z",
     "iopub.status.idle": "2022-03-31T20:10:35.244196Z",
     "shell.execute_reply": "2022-03-31T20:10:35.244773Z"
    },
    "papermill": {
     "duration": 2.234904,
     "end_time": "2022-03-31T20:10:35.244999",
     "exception": false,
     "start_time": "2022-03-31T20:10:33.010095",
     "status": "completed"
    },
    "tags": []
   },
   "outputs": [
    {
     "name": "stdout",
     "output_type": "stream",
     "text": [
      "Collecting mnist\r\n"
     ]
    },
    {
     "name": "stdout",
     "output_type": "stream",
     "text": [
      "  Downloading mnist-0.2.2-py2.py3-none-any.whl (3.5 kB)\r\n",
      "Requirement already satisfied: numpy in /opt/hostedtoolcache/Python/3.6.15/x64/lib/python3.6/site-packages (from mnist) (1.19.5)\r\n"
     ]
    },
    {
     "name": "stdout",
     "output_type": "stream",
     "text": [
      "Installing collected packages: mnist\r\n"
     ]
    },
    {
     "name": "stdout",
     "output_type": "stream",
     "text": [
      "Successfully installed mnist-0.2.2\r\n"
     ]
    }
   ],
   "source": [
    "!pip install mnist"
   ]
  },
  {
   "cell_type": "markdown",
   "id": "69df9c9a",
   "metadata": {
    "papermill": {
     "duration": 0.035612,
     "end_time": "2022-03-31T20:10:35.314462",
     "exception": false,
     "start_time": "2022-03-31T20:10:35.278850",
     "status": "completed"
    },
    "tags": []
   },
   "source": [
    "## Preparing the Data"
   ]
  },
  {
   "cell_type": "code",
   "execution_count": 4,
   "id": "7f69d806",
   "metadata": {
    "execution": {
     "iopub.execute_input": "2022-03-31T20:10:35.388893Z",
     "iopub.status.busy": "2022-03-31T20:10:35.386390Z",
     "iopub.status.idle": "2022-03-31T20:10:35.403662Z",
     "shell.execute_reply": "2022-03-31T20:10:35.403051Z"
    },
    "papermill": {
     "duration": 0.056649,
     "end_time": "2022-03-31T20:10:35.403822",
     "exception": false,
     "start_time": "2022-03-31T20:10:35.347173",
     "status": "completed"
    },
    "tags": []
   },
   "outputs": [],
   "source": [
    "import mnist"
   ]
  },
  {
   "cell_type": "code",
   "execution_count": 5,
   "id": "a411e44f",
   "metadata": {
    "execution": {
     "iopub.execute_input": "2022-03-31T20:10:35.476907Z",
     "iopub.status.busy": "2022-03-31T20:10:35.476211Z",
     "iopub.status.idle": "2022-03-31T20:10:36.053795Z",
     "shell.execute_reply": "2022-03-31T20:10:36.053181Z"
    },
    "papermill": {
     "duration": 0.616423,
     "end_time": "2022-03-31T20:10:36.053977",
     "exception": false,
     "start_time": "2022-03-31T20:10:35.437554",
     "status": "completed"
    },
    "tags": []
   },
   "outputs": [],
   "source": [
    "train_images = mnist.train_images()\n",
    "train_labels = mnist.train_labels()"
   ]
  },
  {
   "cell_type": "code",
   "execution_count": 6,
   "id": "dceab3a5",
   "metadata": {
    "execution": {
     "iopub.execute_input": "2022-03-31T20:10:36.131568Z",
     "iopub.status.busy": "2022-03-31T20:10:36.129595Z",
     "iopub.status.idle": "2022-03-31T20:10:36.145610Z",
     "shell.execute_reply": "2022-03-31T20:10:36.146249Z"
    },
    "papermill": {
     "duration": 0.05856,
     "end_time": "2022-03-31T20:10:36.146436",
     "exception": false,
     "start_time": "2022-03-31T20:10:36.087876",
     "status": "completed"
    },
    "tags": []
   },
   "outputs": [
    {
     "data": {
      "text/plain": [
       "((60000, 28, 28), (60000,))"
      ]
     },
     "execution_count": 6,
     "metadata": {},
     "output_type": "execute_result"
    }
   ],
   "source": [
    "train_images.shape, train_labels.shape"
   ]
  },
  {
   "cell_type": "code",
   "execution_count": 7,
   "id": "f50dc2bb",
   "metadata": {
    "execution": {
     "iopub.execute_input": "2022-03-31T20:10:36.223437Z",
     "iopub.status.busy": "2022-03-31T20:10:36.222746Z",
     "iopub.status.idle": "2022-03-31T20:10:36.359320Z",
     "shell.execute_reply": "2022-03-31T20:10:36.358516Z"
    },
    "papermill": {
     "duration": 0.177432,
     "end_time": "2022-03-31T20:10:36.359480",
     "exception": false,
     "start_time": "2022-03-31T20:10:36.182048",
     "status": "completed"
    },
    "tags": []
   },
   "outputs": [],
   "source": [
    "test_images = mnist.test_images()\n",
    "test_labels = mnist.test_labels()"
   ]
  },
  {
   "cell_type": "code",
   "execution_count": 8,
   "id": "fc38cf1b",
   "metadata": {
    "execution": {
     "iopub.execute_input": "2022-03-31T20:10:36.433679Z",
     "iopub.status.busy": "2022-03-31T20:10:36.432994Z",
     "iopub.status.idle": "2022-03-31T20:10:36.449237Z",
     "shell.execute_reply": "2022-03-31T20:10:36.448633Z"
    },
    "papermill": {
     "duration": 0.054559,
     "end_time": "2022-03-31T20:10:36.449382",
     "exception": false,
     "start_time": "2022-03-31T20:10:36.394823",
     "status": "completed"
    },
    "tags": []
   },
   "outputs": [
    {
     "data": {
      "text/plain": [
       "((10000, 28, 28), (10000,))"
      ]
     },
     "execution_count": 8,
     "metadata": {},
     "output_type": "execute_result"
    }
   ],
   "source": [
    "test_images.shape, test_labels.shape"
   ]
  },
  {
   "cell_type": "code",
   "execution_count": 9,
   "id": "f9ed8fe0",
   "metadata": {
    "execution": {
     "iopub.execute_input": "2022-03-31T20:10:36.523082Z",
     "iopub.status.busy": "2022-03-31T20:10:36.522375Z",
     "iopub.status.idle": "2022-03-31T20:10:36.717269Z",
     "shell.execute_reply": "2022-03-31T20:10:36.716670Z"
    },
    "papermill": {
     "duration": 0.233383,
     "end_time": "2022-03-31T20:10:36.717422",
     "exception": false,
     "start_time": "2022-03-31T20:10:36.484039",
     "status": "completed"
    },
    "tags": []
   },
   "outputs": [
    {
     "name": "stdout",
     "output_type": "stream",
     "text": [
      "2\n"
     ]
    },
    {
     "data": {
      "text/plain": [
       "<matplotlib.image.AxesImage at 0x7f954328e5f8>"
      ]
     },
     "execution_count": 9,
     "metadata": {},
     "output_type": "execute_result"
    },
    {
     "data": {
      "image/png": "[encoded data removed]",
      "text/plain": [
       "<Figure size 432x288 with 1 Axes>"
      ]
     },
     "metadata": {
      "needs_background": "light"
     },
     "output_type": "display_data"
    }
   ],
   "source": [
    "image_index = 7776 # You may select anything up to 60,000\n",
    "print(train_labels[image_index]) \n",
    "plt.imshow(train_images[image_index], cmap='Greys')"
   ]
  },
  {
   "cell_type": "markdown",
   "id": "a8d2388d",
   "metadata": {
    "papermill": {
     "duration": 0.035907,
     "end_time": "2022-03-31T20:10:36.788975",
     "exception": false,
     "start_time": "2022-03-31T20:10:36.753068",
     "status": "completed"
    },
    "tags": []
   },
   "source": [
    "## Filter data to get 3 and 8 out"
   ]
  },
  {
   "cell_type": "code",
   "execution_count": 10,
   "id": "776f7fc7",
   "metadata": {
    "execution": {
     "iopub.execute_input": "2022-03-31T20:10:36.867912Z",
     "iopub.status.busy": "2022-03-31T20:10:36.867196Z",
     "iopub.status.idle": "2022-03-31T20:10:36.886003Z",
     "shell.execute_reply": "2022-03-31T20:10:36.886539Z"
    },
    "papermill": {
     "duration": 0.061608,
     "end_time": "2022-03-31T20:10:36.886766",
     "exception": false,
     "start_time": "2022-03-31T20:10:36.825158",
     "status": "completed"
    },
    "tags": []
   },
   "outputs": [],
   "source": [
    "train_filter = np.where((train_labels == 3 ) | (train_labels == 8))\n",
    "test_filter = np.where((test_labels == 3) | (test_labels == 8))\n",
    "X_train, y_train = train_images[train_filter], train_labels[train_filter]\n",
    "X_test, y_test = test_images[test_filter], test_labels[test_filter]"
   ]
  },
  {
   "cell_type": "markdown",
   "id": "948f0b7e",
   "metadata": {
    "papermill": {
     "duration": 0.036115,
     "end_time": "2022-03-31T20:10:36.957851",
     "exception": false,
     "start_time": "2022-03-31T20:10:36.921736",
     "status": "completed"
    },
    "tags": []
   },
   "source": [
    "We normalize the pizel values in the 0 to 1 range"
   ]
  },
  {
   "cell_type": "code",
   "execution_count": 11,
   "id": "ee4c2166",
   "metadata": {
    "execution": {
     "iopub.execute_input": "2022-03-31T20:10:37.036672Z",
     "iopub.status.busy": "2022-03-31T20:10:37.035970Z",
     "iopub.status.idle": "2022-03-31T20:10:37.096586Z",
     "shell.execute_reply": "2022-03-31T20:10:37.095956Z"
    },
    "papermill": {
     "duration": 0.103671,
     "end_time": "2022-03-31T20:10:37.096751",
     "exception": false,
     "start_time": "2022-03-31T20:10:36.993080",
     "status": "completed"
    },
    "tags": []
   },
   "outputs": [],
   "source": [
    "X_train = X_train/255.\n",
    "X_test = X_test/255."
   ]
  },
  {
   "cell_type": "markdown",
   "id": "ddcf4fab",
   "metadata": {
    "papermill": {
     "duration": 0.037155,
     "end_time": "2022-03-31T20:10:37.170269",
     "exception": false,
     "start_time": "2022-03-31T20:10:37.133114",
     "status": "completed"
    },
    "tags": []
   },
   "source": [
    "And setup the labels as 1 (when the digit is 3) and 0 (when the digit is 8)"
   ]
  },
  {
   "cell_type": "code",
   "execution_count": 12,
   "id": "7dc908f2",
   "metadata": {
    "execution": {
     "iopub.execute_input": "2022-03-31T20:10:37.249083Z",
     "iopub.status.busy": "2022-03-31T20:10:37.248336Z",
     "iopub.status.idle": "2022-03-31T20:10:37.262772Z",
     "shell.execute_reply": "2022-03-31T20:10:37.262153Z"
    },
    "papermill": {
     "duration": 0.056678,
     "end_time": "2022-03-31T20:10:37.262934",
     "exception": false,
     "start_time": "2022-03-31T20:10:37.206256",
     "status": "completed"
    },
    "tags": []
   },
   "outputs": [],
   "source": [
    "y_train = 1*(y_train==3)\n",
    "y_test = 1*(y_test==3)"
   ]
  },
  {
   "cell_type": "code",
   "execution_count": 13,
   "id": "01e4e969",
   "metadata": {
    "execution": {
     "iopub.execute_input": "2022-03-31T20:10:37.341707Z",
     "iopub.status.busy": "2022-03-31T20:10:37.341028Z",
     "iopub.status.idle": "2022-03-31T20:10:37.356171Z",
     "shell.execute_reply": "2022-03-31T20:10:37.356784Z"
    },
    "papermill": {
     "duration": 0.055224,
     "end_time": "2022-03-31T20:10:37.356974",
     "exception": false,
     "start_time": "2022-03-31T20:10:37.301750",
     "status": "completed"
    },
    "tags": []
   },
   "outputs": [
    {
     "data": {
      "text/plain": [
       "((11982, 28, 28), (1984, 28, 28))"
      ]
     },
     "execution_count": 13,
     "metadata": {},
     "output_type": "execute_result"
    }
   ],
   "source": [
    "X_train.shape, X_test.shape"
   ]
  },
  {
   "cell_type": "markdown",
   "id": "5ccf3f85",
   "metadata": {
    "papermill": {
     "duration": 0.036718,
     "end_time": "2022-03-31T20:10:37.429633",
     "exception": false,
     "start_time": "2022-03-31T20:10:37.392915",
     "status": "completed"
    },
    "tags": []
   },
   "source": [
    "We reshape the data to flatten the image pixels into a set of features or co-variates:"
   ]
  },
  {
   "cell_type": "code",
   "execution_count": 14,
   "id": "5286a4a3",
   "metadata": {
    "execution": {
     "iopub.execute_input": "2022-03-31T20:10:37.511162Z",
     "iopub.status.busy": "2022-03-31T20:10:37.510402Z",
     "iopub.status.idle": "2022-03-31T20:10:37.523828Z",
     "shell.execute_reply": "2022-03-31T20:10:37.524414Z"
    },
    "papermill": {
     "duration": 0.058604,
     "end_time": "2022-03-31T20:10:37.524611",
     "exception": false,
     "start_time": "2022-03-31T20:10:37.466007",
     "status": "completed"
    },
    "tags": []
   },
   "outputs": [
    {
     "data": {
      "text/plain": [
       "((11982, 784), (1984, 784))"
      ]
     },
     "execution_count": 14,
     "metadata": {},
     "output_type": "execute_result"
    }
   ],
   "source": [
    "X_train = X_train.reshape(X_train.shape[0], -1)\n",
    "X_test = X_test.reshape(X_test.shape[0], -1)\n",
    "X_train.shape, X_test.shape"
   ]
  },
  {
   "cell_type": "code",
   "execution_count": 15,
   "id": "73c5f88a",
   "metadata": {
    "execution": {
     "iopub.execute_input": "2022-03-31T20:10:37.604475Z",
     "iopub.status.busy": "2022-03-31T20:10:37.603785Z",
     "iopub.status.idle": "2022-03-31T20:10:37.625899Z",
     "shell.execute_reply": "2022-03-31T20:10:37.625297Z"
    },
    "papermill": {
     "duration": 0.065255,
     "end_time": "2022-03-31T20:10:37.626063",
     "exception": false,
     "start_time": "2022-03-31T20:10:37.560808",
     "status": "completed"
    },
    "tags": []
   },
   "outputs": [],
   "source": [
    "#Impoting functions from 'Kudzu'\n",
    "from kudzu.model import Model\n",
    "from kudzu.train import Learner\n",
    "from kudzu.optim import GD\n",
    "from kudzu.data import Data, Sampler,Dataloader\n",
    "\n",
    "from kudzu.callbacks import AccCallback\n",
    "from kudzu.callbacks import ClfCallback\n",
    "\n",
    "from kudzu.loss import MSE\n",
    "\n",
    "from kudzu.layer import Sigmoid,Relu\n",
    "from kudzu.layer import Affine"
   ]
  },
  {
   "cell_type": "markdown",
   "id": "bc01172a",
   "metadata": {
    "papermill": {
     "duration": 0.035929,
     "end_time": "2022-03-31T20:10:37.699659",
     "exception": false,
     "start_time": "2022-03-31T20:10:37.663730",
     "status": "completed"
    },
    "tags": []
   },
   "source": [
    "### Let us create a `Config` class, to store important parameters. \n",
    "This class essentially plays the role of a dictionary."
   ]
  },
  {
   "cell_type": "code",
   "execution_count": 16,
   "id": "978281aa",
   "metadata": {
    "execution": {
     "iopub.execute_input": "2022-03-31T20:10:37.779246Z",
     "iopub.status.busy": "2022-03-31T20:10:37.778514Z",
     "iopub.status.idle": "2022-03-31T20:10:37.793004Z",
     "shell.execute_reply": "2022-03-31T20:10:37.792387Z"
    },
    "papermill": {
     "duration": 0.056875,
     "end_time": "2022-03-31T20:10:37.793170",
     "exception": false,
     "start_time": "2022-03-31T20:10:37.736295",
     "status": "completed"
    },
    "tags": []
   },
   "outputs": [],
   "source": [
    "class Config:\n",
    "    pass\n",
    "config = Config()\n",
    "config.lr = 0.001\n",
    "config.num_epochs = 250\n",
    "config.bs = 50"
   ]
  },
  {
   "cell_type": "markdown",
   "id": "1385fa59",
   "metadata": {
    "papermill": {
     "duration": 0.036082,
     "end_time": "2022-03-31T20:10:37.867277",
     "exception": false,
     "start_time": "2022-03-31T20:10:37.831195",
     "status": "completed"
    },
    "tags": []
   },
   "source": [
    "### Running Models with the Training data\n",
    "Details about the network layers:\n",
    "- A first affine layer has 784 inputs and does 100 affine transforms. These are followed by a Relu\n",
    "- A second affine layer has 100 inputs from the 100 activations of the past layer, and does 100 affine transforms. These are followed by a Relu\n",
    "- A third affine layer has 100 activations and does 2 affine transformations to create an embedding for visualization. There is no non-linearity here.\n",
    "- A final \"logistic regression\" which has an affine transform from 2 inputs to 1 output, which is squeezed through a sigmoid.\n"
   ]
  },
  {
   "cell_type": "code",
   "execution_count": 17,
   "id": "2b9c66db",
   "metadata": {
    "execution": {
     "iopub.execute_input": "2022-03-31T20:10:37.944714Z",
     "iopub.status.busy": "2022-03-31T20:10:37.944015Z",
     "iopub.status.idle": "2022-03-31T20:10:37.959476Z",
     "shell.execute_reply": "2022-03-31T20:10:37.958877Z"
    },
    "papermill": {
     "duration": 0.056084,
     "end_time": "2022-03-31T20:10:37.959637",
     "exception": false,
     "start_time": "2022-03-31T20:10:37.903553",
     "status": "completed"
    },
    "tags": []
   },
   "outputs": [],
   "source": [
    "data = Data(X_train, y_train.reshape(-1,1))\n",
    "sampler = Sampler(data, config.bs, shuffle=True)\n",
    "\n",
    "dl = Dataloader(data, sampler)\n",
    "\n",
    "opt = GD(config.lr)\n",
    "loss = MSE()"
   ]
  },
  {
   "cell_type": "code",
   "execution_count": 18,
   "id": "b275e4c2",
   "metadata": {
    "execution": {
     "iopub.execute_input": "2022-03-31T20:10:38.037415Z",
     "iopub.status.busy": "2022-03-31T20:10:38.036728Z",
     "iopub.status.idle": "2022-03-31T20:10:38.051634Z",
     "shell.execute_reply": "2022-03-31T20:10:38.051037Z"
    },
    "papermill": {
     "duration": 0.056143,
     "end_time": "2022-03-31T20:10:38.051798",
     "exception": false,
     "start_time": "2022-03-31T20:10:37.995655",
     "status": "completed"
    },
    "tags": []
   },
   "outputs": [],
   "source": [
    "training_data_x = X_train\n",
    "testing_data_x = X_test\n",
    "training_data_y = y_train.reshape(-1,1)\n",
    "testing_data_y = y_test.reshape(-1,1)"
   ]
  },
  {
   "cell_type": "code",
   "execution_count": 19,
   "id": "76951160",
   "metadata": {
    "execution": {
     "iopub.execute_input": "2022-03-31T20:10:38.130720Z",
     "iopub.status.busy": "2022-03-31T20:10:38.129966Z",
     "iopub.status.idle": "2022-03-31T20:10:38.148315Z",
     "shell.execute_reply": "2022-03-31T20:10:38.148976Z"
    },
    "papermill": {
     "duration": 0.060309,
     "end_time": "2022-03-31T20:10:38.149160",
     "exception": false,
     "start_time": "2022-03-31T20:10:38.088851",
     "status": "completed"
    },
    "tags": []
   },
   "outputs": [
    {
     "name": "stdout",
     "output_type": "stream",
     "text": [
      "xavier\n",
      "xavier\n",
      "xavier\n",
      "xavier\n",
      "xavier\n"
     ]
    }
   ],
   "source": [
    "layers = [Affine(\"first\", 784, 100), Relu(\"first\"), Affine(\"second\", 100, 100), Relu(\"second\"), Affine(\"third\", 100, 2), Affine(\"last\", 2, 1), Sigmoid(\"last\")]\n",
    "model_nn = Model(layers)\n",
    "model_lr = Model([Affine(\"logits\", 784, 1), Sigmoid(\"sigmoid\")])"
   ]
  },
  {
   "cell_type": "code",
   "execution_count": 20,
   "id": "6eede77a",
   "metadata": {
    "execution": {
     "iopub.execute_input": "2022-03-31T20:10:38.229924Z",
     "iopub.status.busy": "2022-03-31T20:10:38.229218Z",
     "iopub.status.idle": "2022-03-31T20:10:38.244425Z",
     "shell.execute_reply": "2022-03-31T20:10:38.243831Z"
    },
    "papermill": {
     "duration": 0.056757,
     "end_time": "2022-03-31T20:10:38.244586",
     "exception": false,
     "start_time": "2022-03-31T20:10:38.187829",
     "status": "completed"
    },
    "tags": []
   },
   "outputs": [],
   "source": [
    "nn_learner = Learner(loss, model_nn, opt, config.num_epochs)\n",
    "acc_nn = ClfCallback(nn_learner, config.bs, training_data_x , testing_data_x, training_data_y, testing_data_y)\n",
    "nn_learner.set_callbacks([acc_nn])"
   ]
  },
  {
   "cell_type": "code",
   "execution_count": 21,
   "id": "877b6cc7",
   "metadata": {
    "execution": {
     "iopub.execute_input": "2022-03-31T20:10:38.323864Z",
     "iopub.status.busy": "2022-03-31T20:10:38.323171Z",
     "iopub.status.idle": "2022-03-31T20:10:38.337903Z",
     "shell.execute_reply": "2022-03-31T20:10:38.337183Z"
    },
    "papermill": {
     "duration": 0.056316,
     "end_time": "2022-03-31T20:10:38.338079",
     "exception": false,
     "start_time": "2022-03-31T20:10:38.281763",
     "status": "completed"
    },
    "tags": []
   },
   "outputs": [],
   "source": [
    "lr_learner = Learner(loss, model_lr, opt, config.num_epochs)\n",
    "acc_lr = ClfCallback(lr_learner, config.bs, training_data_x , testing_data_x, training_data_y, testing_data_y)\n",
    "lr_learner.set_callbacks([acc_lr])"
   ]
  },
  {
   "cell_type": "code",
   "execution_count": 22,
   "id": "d9b133c3",
   "metadata": {
    "execution": {
     "iopub.execute_input": "2022-03-31T20:10:38.416911Z",
     "iopub.status.busy": "2022-03-31T20:10:38.416221Z",
     "iopub.status.idle": "2022-03-31T20:12:58.612354Z",
     "shell.execute_reply": "2022-03-31T20:12:58.613331Z"
    },
    "papermill": {
     "duration": 140.23859,
     "end_time": "2022-03-31T20:12:58.613536",
     "exception": false,
     "start_time": "2022-03-31T20:10:38.374946",
     "status": "completed"
    },
    "tags": []
   },
   "outputs": [
    {
     "name": "stdout",
     "output_type": "stream",
     "text": [
      "Epoch 0, Loss 0.2614\n",
      "Training Accuracy: 0.5066, Testing Accuracy: 0.4955\n",
      "\n"
     ]
    },
    {
     "name": "stdout",
     "output_type": "stream",
     "text": [
      "Epoch 10, Loss 0.1107\n",
      "Training Accuracy: 0.9049, Testing Accuracy: 0.9123\n",
      "\n"
     ]
    },
    {
     "name": "stdout",
     "output_type": "stream",
     "text": [
      "Epoch 20, Loss 0.0606\n",
      "Training Accuracy: 0.9382, Testing Accuracy: 0.9486\n",
      "\n"
     ]
    },
    {
     "name": "stdout",
     "output_type": "stream",
     "text": [
      "Epoch 30, Loss 0.0454\n",
      "Training Accuracy: 0.9523, Testing Accuracy: 0.9612\n",
      "\n"
     ]
    },
    {
     "name": "stdout",
     "output_type": "stream",
     "text": [
      "Epoch 40, Loss 0.0385\n",
      "Training Accuracy: 0.9580, Testing Accuracy: 0.9642\n",
      "\n"
     ]
    },
    {
     "name": "stdout",
     "output_type": "stream",
     "text": [
      "Epoch 50, Loss 0.0346\n",
      "Training Accuracy: 0.9619, Testing Accuracy: 0.9672\n",
      "\n"
     ]
    },
    {
     "name": "stdout",
     "output_type": "stream",
     "text": [
      "Epoch 60, Loss 0.0321\n",
      "Training Accuracy: 0.9643, Testing Accuracy: 0.9677\n",
      "\n"
     ]
    },
    {
     "name": "stdout",
     "output_type": "stream",
     "text": [
      "Epoch 70, Loss 0.0302\n",
      "Training Accuracy: 0.9654, Testing Accuracy: 0.9698\n",
      "\n"
     ]
    },
    {
     "name": "stdout",
     "output_type": "stream",
     "text": [
      "Epoch 80, Loss 0.0287\n",
      "Training Accuracy: 0.9670, Testing Accuracy: 0.9713\n",
      "\n"
     ]
    },
    {
     "name": "stdout",
     "output_type": "stream",
     "text": [
      "Epoch 90, Loss 0.0275\n",
      "Training Accuracy: 0.9682, Testing Accuracy: 0.9728\n",
      "\n"
     ]
    },
    {
     "name": "stdout",
     "output_type": "stream",
     "text": [
      "Epoch 100, Loss 0.0266\n",
      "Training Accuracy: 0.9694, Testing Accuracy: 0.9733\n",
      "\n"
     ]
    },
    {
     "name": "stdout",
     "output_type": "stream",
     "text": [
      "Epoch 110, Loss 0.0257\n",
      "Training Accuracy: 0.9702, Testing Accuracy: 0.9733\n",
      "\n"
     ]
    },
    {
     "name": "stdout",
     "output_type": "stream",
     "text": [
      "Epoch 120, Loss 0.025\n",
      "Training Accuracy: 0.9715, Testing Accuracy: 0.9728\n",
      "\n"
     ]
    },
    {
     "name": "stdout",
     "output_type": "stream",
     "text": [
      "Epoch 130, Loss 0.0243\n",
      "Training Accuracy: 0.9723, Testing Accuracy: 0.9728\n",
      "\n"
     ]
    },
    {
     "name": "stdout",
     "output_type": "stream",
     "text": [
      "Epoch 140, Loss 0.0237\n",
      "Training Accuracy: 0.9733, Testing Accuracy: 0.9728\n",
      "\n"
     ]
    },
    {
     "name": "stdout",
     "output_type": "stream",
     "text": [
      "Epoch 150, Loss 0.0231\n",
      "Training Accuracy: 0.9734, Testing Accuracy: 0.9728\n",
      "\n"
     ]
    },
    {
     "name": "stdout",
     "output_type": "stream",
     "text": [
      "Epoch 160, Loss 0.0226\n",
      "Training Accuracy: 0.9745, Testing Accuracy: 0.9733\n",
      "\n"
     ]
    },
    {
     "name": "stdout",
     "output_type": "stream",
     "text": [
      "Epoch 170, Loss 0.0221\n",
      "Training Accuracy: 0.9741, Testing Accuracy: 0.9743\n",
      "\n"
     ]
    },
    {
     "name": "stdout",
     "output_type": "stream",
     "text": [
      "Epoch 180, Loss 0.0217\n",
      "Training Accuracy: 0.9745, Testing Accuracy: 0.9753\n",
      "\n"
     ]
    },
    {
     "name": "stdout",
     "output_type": "stream",
     "text": [
      "Epoch 190, Loss 0.0213\n",
      "Training Accuracy: 0.9755, Testing Accuracy: 0.9753\n",
      "\n"
     ]
    },
    {
     "name": "stdout",
     "output_type": "stream",
     "text": [
      "Epoch 200, Loss 0.0208\n",
      "Training Accuracy: 0.9758, Testing Accuracy: 0.9748\n",
      "\n"
     ]
    },
    {
     "name": "stdout",
     "output_type": "stream",
     "text": [
      "Epoch 210, Loss 0.0205\n",
      "Training Accuracy: 0.9765, Testing Accuracy: 0.9743\n",
      "\n"
     ]
    },
    {
     "name": "stdout",
     "output_type": "stream",
     "text": [
      "Epoch 220, Loss 0.0201\n",
      "Training Accuracy: 0.9770, Testing Accuracy: 0.9743\n",
      "\n"
     ]
    },
    {
     "name": "stdout",
     "output_type": "stream",
     "text": [
      "Epoch 230, Loss 0.0197\n",
      "Training Accuracy: 0.9774, Testing Accuracy: 0.9743\n",
      "\n"
     ]
    },
    {
     "name": "stdout",
     "output_type": "stream",
     "text": [
      "Epoch 240, Loss 0.0194\n",
      "Training Accuracy: 0.9781, Testing Accuracy: 0.9738\n",
      "\n"
     ]
    },
    {
     "data": {
      "text/plain": [
       "0.035524691858915186"
      ]
     },
     "execution_count": 22,
     "metadata": {},
     "output_type": "execute_result"
    }
   ],
   "source": [
    "nn_learner.train_loop(dl)"
   ]
  },
  {
   "cell_type": "code",
   "execution_count": 23,
   "id": "e0163366",
   "metadata": {
    "execution": {
     "iopub.execute_input": "2022-03-31T20:12:58.717084Z",
     "iopub.status.busy": "2022-03-31T20:12:58.716188Z",
     "iopub.status.idle": "2022-03-31T20:13:18.652565Z",
     "shell.execute_reply": "2022-03-31T20:13:18.653574Z"
    },
    "papermill": {
     "duration": 19.993252,
     "end_time": "2022-03-31T20:13:18.653776",
     "exception": false,
     "start_time": "2022-03-31T20:12:58.660524",
     "status": "completed"
    },
    "tags": []
   },
   "outputs": [
    {
     "name": "stdout",
     "output_type": "stream",
     "text": [
      "Epoch 0, Loss 0.2427\n",
      "Training Accuracy: 0.6650, Testing Accuracy: 0.6804\n",
      "\n"
     ]
    },
    {
     "name": "stdout",
     "output_type": "stream",
     "text": [
      "Epoch 10, Loss 0.1042\n",
      "Training Accuracy: 0.9031, Testing Accuracy: 0.9123\n",
      "\n"
     ]
    },
    {
     "name": "stdout",
     "output_type": "stream",
     "text": [
      "Epoch 20, Loss 0.0793\n",
      "Training Accuracy: 0.9251, Testing Accuracy: 0.9370\n",
      "\n"
     ]
    },
    {
     "name": "stdout",
     "output_type": "stream",
     "text": [
      "Epoch 30, Loss 0.068\n",
      "Training Accuracy: 0.9344, Testing Accuracy: 0.9435\n",
      "\n"
     ]
    },
    {
     "name": "stdout",
     "output_type": "stream",
     "text": [
      "Epoch 40, Loss 0.0613\n",
      "Training Accuracy: 0.9403, Testing Accuracy: 0.9496\n",
      "\n"
     ]
    },
    {
     "name": "stdout",
     "output_type": "stream",
     "text": [
      "Epoch 50, Loss 0.0567\n",
      "Training Accuracy: 0.9436, Testing Accuracy: 0.9531\n",
      "\n"
     ]
    },
    {
     "name": "stdout",
     "output_type": "stream",
     "text": [
      "Epoch 60, Loss 0.0534\n",
      "Training Accuracy: 0.9472, Testing Accuracy: 0.9556\n",
      "\n"
     ]
    },
    {
     "name": "stdout",
     "output_type": "stream",
     "text": [
      "Epoch 70, Loss 0.0508\n",
      "Training Accuracy: 0.9494, Testing Accuracy: 0.9577\n",
      "\n"
     ]
    },
    {
     "name": "stdout",
     "output_type": "stream",
     "text": [
      "Epoch 80, Loss 0.0488\n",
      "Training Accuracy: 0.9511, Testing Accuracy: 0.9587\n",
      "\n"
     ]
    },
    {
     "name": "stdout",
     "output_type": "stream",
     "text": [
      "Epoch 90, Loss 0.0471\n",
      "Training Accuracy: 0.9522, Testing Accuracy: 0.9612\n",
      "\n"
     ]
    },
    {
     "name": "stdout",
     "output_type": "stream",
     "text": [
      "Epoch 100, Loss 0.0457\n",
      "Training Accuracy: 0.9532, Testing Accuracy: 0.9627\n",
      "\n"
     ]
    },
    {
     "name": "stdout",
     "output_type": "stream",
     "text": [
      "Epoch 110, Loss 0.0444\n",
      "Training Accuracy: 0.9544, Testing Accuracy: 0.9632\n",
      "\n"
     ]
    },
    {
     "name": "stdout",
     "output_type": "stream",
     "text": [
      "Epoch 120, Loss 0.0434\n",
      "Training Accuracy: 0.9548, Testing Accuracy: 0.9637\n",
      "\n"
     ]
    },
    {
     "name": "stdout",
     "output_type": "stream",
     "text": [
      "Epoch 130, Loss 0.0425\n",
      "Training Accuracy: 0.9553, Testing Accuracy: 0.9642\n",
      "\n"
     ]
    },
    {
     "name": "stdout",
     "output_type": "stream",
     "text": [
      "Epoch 140, Loss 0.0416\n",
      "Training Accuracy: 0.9563, Testing Accuracy: 0.9647\n",
      "\n"
     ]
    },
    {
     "name": "stdout",
     "output_type": "stream",
     "text": [
      "Epoch 150, Loss 0.0409\n",
      "Training Accuracy: 0.9569, Testing Accuracy: 0.9652\n",
      "\n"
     ]
    },
    {
     "name": "stdout",
     "output_type": "stream",
     "text": [
      "Epoch 160, Loss 0.0402\n",
      "Training Accuracy: 0.9577, Testing Accuracy: 0.9662\n",
      "\n"
     ]
    },
    {
     "name": "stdout",
     "output_type": "stream",
     "text": [
      "Epoch 170, Loss 0.0396\n",
      "Training Accuracy: 0.9582, Testing Accuracy: 0.9672\n",
      "\n"
     ]
    },
    {
     "name": "stdout",
     "output_type": "stream",
     "text": [
      "Epoch 180, Loss 0.0391\n",
      "Training Accuracy: 0.9587, Testing Accuracy: 0.9677\n",
      "\n"
     ]
    },
    {
     "name": "stdout",
     "output_type": "stream",
     "text": [
      "Epoch 190, Loss 0.0386\n",
      "Training Accuracy: 0.9589, Testing Accuracy: 0.9667\n",
      "\n"
     ]
    },
    {
     "name": "stdout",
     "output_type": "stream",
     "text": [
      "Epoch 200, Loss 0.0381\n",
      "Training Accuracy: 0.9589, Testing Accuracy: 0.9672\n",
      "\n"
     ]
    },
    {
     "name": "stdout",
     "output_type": "stream",
     "text": [
      "Epoch 210, Loss 0.0377\n",
      "Training Accuracy: 0.9596, Testing Accuracy: 0.9672\n",
      "\n"
     ]
    },
    {
     "name": "stdout",
     "output_type": "stream",
     "text": [
      "Epoch 220, Loss 0.0373\n",
      "Training Accuracy: 0.9602, Testing Accuracy: 0.9672\n",
      "\n"
     ]
    },
    {
     "name": "stdout",
     "output_type": "stream",
     "text": [
      "Epoch 230, Loss 0.0369\n",
      "Training Accuracy: 0.9604, Testing Accuracy: 0.9672\n",
      "\n"
     ]
    },
    {
     "name": "stdout",
     "output_type": "stream",
     "text": [
      "Epoch 240, Loss 0.0365\n",
      "Training Accuracy: 0.9608, Testing Accuracy: 0.9667\n",
      "\n"
     ]
    },
    {
     "data": {
      "text/plain": [
       "0.0100861476802016"
      ]
     },
     "execution_count": 23,
     "metadata": {},
     "output_type": "execute_result"
    }
   ],
   "source": [
    "lr_learner.train_loop(dl)"
   ]
  },
  {
   "cell_type": "code",
   "execution_count": 24,
   "id": "ca410940",
   "metadata": {
    "execution": {
     "iopub.execute_input": "2022-03-31T20:13:18.771746Z",
     "iopub.status.busy": "2022-03-31T20:13:18.771028Z",
     "iopub.status.idle": "2022-03-31T20:13:19.090117Z",
     "shell.execute_reply": "2022-03-31T20:13:19.090727Z"
    },
    "papermill": {
     "duration": 0.381557,
     "end_time": "2022-03-31T20:13:19.090919",
     "exception": false,
     "start_time": "2022-03-31T20:13:18.709362",
     "status": "completed"
    },
    "tags": []
   },
   "outputs": [
    {
     "data": {
      "text/plain": [
       "<matplotlib.legend.Legend at 0x7f95366becc0>"
      ]
     },
     "execution_count": 24,
     "metadata": {},
     "output_type": "execute_result"
    },
    {
     "data": {
      "image/png": "[encoded data removed]",
      "text/plain": [
       "<Figure size 1080x720 with 1 Axes>"
      ]
     },
     "metadata": {
      "needs_background": "light"
     },
     "output_type": "display_data"
    }
   ],
   "source": [
    "#comparing the results of NN and LR\n",
    "plt.figure(figsize=(15,10))\n",
    "\n",
    "# Neural Network plots\n",
    "plt.plot(acc_nn.accuracies, 'r-', label = \"Training Accuracies - NN\")\n",
    "plt.plot(acc_nn.test_accuracies, 'g-', label = \"Testing Accuracies - NN\")\n",
    "\n",
    "# Logistic Regression plots\n",
    "plt.plot(acc_lr.accuracies, 'k-', label = \"Training Accuracies - LR\")\n",
    "plt.plot(acc_lr.test_accuracies, 'b-', label = \"Testing Accuracies - LR\")\n",
    "plt.legend()"
   ]
  },
  {
   "cell_type": "markdown",
   "id": "80dfb35c",
   "metadata": {
    "papermill": {
     "duration": 0.059878,
     "end_time": "2022-03-31T20:13:19.206924",
     "exception": false,
     "start_time": "2022-03-31T20:13:19.147046",
     "status": "completed"
    },
    "tags": []
   },
   "source": [
    "#### Plotting the outputs of this layer of the NN.\n"
   ]
  },
  {
   "cell_type": "code",
   "execution_count": 25,
   "id": "45eb2ff5",
   "metadata": {
    "execution": {
     "iopub.execute_input": "2022-03-31T20:13:19.339823Z",
     "iopub.status.busy": "2022-03-31T20:13:19.338999Z",
     "iopub.status.idle": "2022-03-31T20:13:19.367187Z",
     "shell.execute_reply": "2022-03-31T20:13:19.367771Z"
    },
    "papermill": {
     "duration": 0.093843,
     "end_time": "2022-03-31T20:13:19.367960",
     "exception": false,
     "start_time": "2022-03-31T20:13:19.274117",
     "status": "completed"
    },
    "tags": []
   },
   "outputs": [],
   "source": [
    "new_model = Model(layers[:-2])\n",
    "testing_plot = new_model(testing_data_x)"
   ]
  },
  {
   "cell_type": "code",
   "execution_count": 26,
   "id": "4c0a5485",
   "metadata": {
    "execution": {
     "iopub.execute_input": "2022-03-31T20:13:19.491715Z",
     "iopub.status.busy": "2022-03-31T20:13:19.490853Z",
     "iopub.status.idle": "2022-03-31T20:13:19.768928Z",
     "shell.execute_reply": "2022-03-31T20:13:19.768202Z"
    },
    "papermill": {
     "duration": 0.342716,
     "end_time": "2022-03-31T20:13:19.769080",
     "exception": false,
     "start_time": "2022-03-31T20:13:19.426364",
     "status": "completed"
    },
    "tags": []
   },
   "outputs": [
    {
     "data": {
      "text/plain": [
       "Text(0.5, 1.0, 'Outputs')"
      ]
     },
     "execution_count": 26,
     "metadata": {},
     "output_type": "execute_result"
    },
    {
     "data": {
      "image/png": "[encoded data removed]",
      "text/plain": [
       "<Figure size 576x504 with 1 Axes>"
      ]
     },
     "metadata": {
      "needs_background": "light"
     },
     "output_type": "display_data"
    }
   ],
   "source": [
    "# Plotting the scatter plot of points and color coding by class\n",
    "plt.figure(figsize=(8,7))\n",
    "plt.scatter(testing_plot[:,0], testing_plot[:,1], alpha = 0.1, c = y_test.ravel());\n",
    "plt.title('Outputs')"
   ]
  },
  {
   "cell_type": "markdown",
   "id": "a74fcf8f",
   "metadata": {
    "papermill": {
     "duration": 0.05855,
     "end_time": "2022-03-31T20:13:19.887187",
     "exception": false,
     "start_time": "2022-03-31T20:13:19.828637",
     "status": "completed"
    },
    "tags": []
   },
   "source": [
    "Probability contours"
   ]
  },
  {
   "cell_type": "code",
   "execution_count": 27,
   "id": "d0afc8e3",
   "metadata": {
    "execution": {
     "iopub.execute_input": "2022-03-31T20:13:20.047317Z",
     "iopub.status.busy": "2022-03-31T20:13:20.046587Z",
     "iopub.status.idle": "2022-03-31T20:13:20.062584Z",
     "shell.execute_reply": "2022-03-31T20:13:20.061985Z"
    },
    "papermill": {
     "duration": 0.083182,
     "end_time": "2022-03-31T20:13:20.062785",
     "exception": false,
     "start_time": "2022-03-31T20:13:19.979603",
     "status": "completed"
    },
    "tags": []
   },
   "outputs": [],
   "source": [
    "model_prob = Model(layers[-2:]) "
   ]
  },
  {
   "cell_type": "code",
   "execution_count": 28,
   "id": "9b96e238",
   "metadata": {
    "execution": {
     "iopub.execute_input": "2022-03-31T20:13:20.188091Z",
     "iopub.status.busy": "2022-03-31T20:13:20.187374Z",
     "iopub.status.idle": "2022-03-31T20:13:20.204203Z",
     "shell.execute_reply": "2022-03-31T20:13:20.203611Z"
    },
    "papermill": {
     "duration": 0.082693,
     "end_time": "2022-03-31T20:13:20.204366",
     "exception": false,
     "start_time": "2022-03-31T20:13:20.121673",
     "status": "completed"
    },
    "tags": []
   },
   "outputs": [],
   "source": [
    "#creating the x and y ranges according to the above generated plot.\n",
    "x_range = np.linspace(-4, 1, 100) \n",
    "y_range = np.linspace(-6, 6, 100) \n",
    "x_grid, y_grid = np.meshgrid(x_range, y_range) # x_grid and y_grig are of size 100 X 100\n",
    "\n",
    "# converting x_grid and y_grid to continuous arrays\n",
    "x_gridflat = np.ravel(x_grid)\n",
    "y_gridflat = np.ravel(y_grid)\n",
    "\n",
    "# The last layer of the current model takes two columns as input. Hence transpose of np.vstack() is required.\n",
    "X = np.vstack((x_gridflat, y_gridflat)).T\n",
    "\n",
    "prob_contour = model_prob(X).reshape(100,100) "
   ]
  },
  {
   "cell_type": "code",
   "execution_count": 29,
   "id": "da72499a",
   "metadata": {
    "execution": {
     "iopub.execute_input": "2022-03-31T20:13:20.331059Z",
     "iopub.status.busy": "2022-03-31T20:13:20.330202Z",
     "iopub.status.idle": "2022-03-31T20:13:20.666409Z",
     "shell.execute_reply": "2022-03-31T20:13:20.665831Z"
    },
    "papermill": {
     "duration": 0.403248,
     "end_time": "2022-03-31T20:13:20.666570",
     "exception": false,
     "start_time": "2022-03-31T20:13:20.263322",
     "status": "completed"
    },
    "tags": []
   },
   "outputs": [
    {
     "data": {
      "image/png": "[encoded data removed]",
      "text/plain": [
       "<Figure size 720x648 with 1 Axes>"
      ]
     },
     "metadata": {
      "needs_background": "light"
     },
     "output_type": "display_data"
    }
   ],
   "source": [
    "plt.figure(figsize=(10,9))\n",
    "plt.scatter(testing_plot[:,0], testing_plot[:,1], alpha = 0.1, c = y_test.ravel())\n",
    "contours = plt.contour(x_grid,y_grid,prob_contour)\n",
    "plt.title('Probability Contours')\n",
    "plt.clabel(contours, inline = True );"
   ]
  },
  {
   "cell_type": "code",
   "execution_count": null,
   "id": "e81b4ac7",
   "metadata": {
    "papermill": {
     "duration": 0.061018,
     "end_time": "2022-03-31T20:13:20.787851",
     "exception": false,
     "start_time": "2022-03-31T20:13:20.726833",
     "status": "completed"
    },
    "tags": []
   },
   "outputs": [],
   "source": []
  }
 ],
 "metadata": {
  "kernelspec": {
   "display_name": "Python 3",
   "language": "python",
   "name": "python3"
  },
  "language_info": {
   "codemirror_mode": {
    "name": "ipython",
    "version": 3
   },
   "file_extension": ".py",
   "mimetype": "text/x-python",
   "name": "python",
   "nbconvert_exporter": "python",
   "pygments_lexer": "ipython3",
   "version": "3.6.15"
  },
  "papermill": {
   "default_parameters": {},
   "duration": 170.750196,
   "end_time": "2022-03-31T20:13:21.369949",
   "environment_variables": {},
   "exception": null,
   "input_path": "2020-08-11-part2.ipynb",
   "output_path": "2020-08-11-part2.ipynb",
   "parameters": {},
   "start_time": "2022-03-31T20:10:30.619753",
   "version": "2.3.3"
  }
 },
 "nbformat": 4,
 "nbformat_minor": 5
}