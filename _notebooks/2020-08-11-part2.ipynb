{
 "cells": [
  {
   "cell_type": "markdown",
   "id": "98380cd3",
   "metadata": {
    "papermill": {
     "duration": 0.027887,
     "end_time": "2022-04-16T20:09:36.787229",
     "exception": false,
     "start_time": "2022-04-16T20:09:36.759342",
     "status": "completed"
    },
    "tags": []
   },
   "source": [
    "# Distinguish Your Own Digits (DYOD)"
   ]
  },
  {
   "cell_type": "markdown",
   "id": "ef31240d",
   "metadata": {
    "papermill": {
     "duration": 0.025168,
     "end_time": "2022-04-16T20:09:36.836204",
     "exception": false,
     "start_time": "2022-04-16T20:09:36.811036",
     "status": "completed"
    },
    "tags": []
   },
   "source": [
    "You are going to write a classifier that distinguishes between the number 3 and number 8."
   ]
  },
  {
   "cell_type": "code",
   "execution_count": 1,
   "id": "b15c8646",
   "metadata": {
    "execution": {
     "iopub.execute_input": "2022-04-16T20:09:36.891055Z",
     "iopub.status.busy": "2022-04-16T20:09:36.890616Z",
     "iopub.status.idle": "2022-04-16T20:09:36.901420Z",
     "shell.execute_reply": "2022-04-16T20:09:36.900988Z"
    },
    "papermill": {
     "duration": 0.043389,
     "end_time": "2022-04-16T20:09:36.901540",
     "exception": false,
     "start_time": "2022-04-16T20:09:36.858151",
     "status": "completed"
    },
    "tags": []
   },
   "outputs": [],
   "source": [
    "%load_ext autoreload\n",
    "%autoreload 2"
   ]
  },
  {
   "cell_type": "code",
   "execution_count": 2,
   "id": "22ef38dc",
   "metadata": {
    "execution": {
     "iopub.execute_input": "2022-04-16T20:09:36.950370Z",
     "iopub.status.busy": "2022-04-16T20:09:36.949771Z",
     "iopub.status.idle": "2022-04-16T20:09:37.480618Z",
     "shell.execute_reply": "2022-04-16T20:09:37.479534Z"
    },
    "papermill": {
     "duration": 0.557452,
     "end_time": "2022-04-16T20:09:37.480756",
     "exception": false,
     "start_time": "2022-04-16T20:09:36.923304",
     "status": "completed"
    },
    "tags": []
   },
   "outputs": [],
   "source": [
    "%matplotlib inline\n",
    "import numpy as np\n",
    "import matplotlib.pyplot as plt\n",
    "import pandas as pd"
   ]
  },
  {
   "cell_type": "markdown",
   "id": "ba036198",
   "metadata": {
    "papermill": {
     "duration": 0.022746,
     "end_time": "2022-04-16T20:09:37.525588",
     "exception": false,
     "start_time": "2022-04-16T20:09:37.502842",
     "status": "completed"
    },
    "tags": []
   },
   "source": [
    "From the command line run `pip install mnist`. This is a library that will help you bring down the mnist dataset. If you run this from a notebook, you need to put  `!pip install mnist` in a cell by itself."
   ]
  },
  {
   "cell_type": "code",
   "execution_count": 3,
   "id": "bb6ad8a1",
   "metadata": {
    "execution": {
     "iopub.execute_input": "2022-04-16T20:09:37.575591Z",
     "iopub.status.busy": "2022-04-16T20:09:37.573961Z",
     "iopub.status.idle": "2022-04-16T20:09:40.024077Z",
     "shell.execute_reply": "2022-04-16T20:09:40.023597Z"
    },
    "papermill": {
     "duration": 2.477156,
     "end_time": "2022-04-16T20:09:40.024180",
     "exception": false,
     "start_time": "2022-04-16T20:09:37.547024",
     "status": "completed"
    },
    "tags": []
   },
   "outputs": [
    {
     "name": "stdout",
     "output_type": "stream",
     "text": [
      "Collecting mnist\r\n"
     ]
    },
    {
     "name": "stdout",
     "output_type": "stream",
     "text": [
      "  Downloading mnist-0.2.2-py2.py3-none-any.whl (3.5 kB)\r\n",
      "Requirement already satisfied: numpy in /opt/hostedtoolcache/Python/3.6.15/x64/lib/python3.6/site-packages (from mnist) (1.19.5)\r\n"
     ]
    },
    {
     "name": "stdout",
     "output_type": "stream",
     "text": [
      "Installing collected packages: mnist\r\n"
     ]
    },
    {
     "name": "stdout",
     "output_type": "stream",
     "text": [
      "Successfully installed mnist-0.2.2\r\n"
     ]
    }
   ],
   "source": [
    "!pip install mnist"
   ]
  },
  {
   "cell_type": "markdown",
   "id": "69df9c9a",
   "metadata": {
    "papermill": {
     "duration": 0.026435,
     "end_time": "2022-04-16T20:09:40.075275",
     "exception": false,
     "start_time": "2022-04-16T20:09:40.048840",
     "status": "completed"
    },
    "tags": []
   },
   "source": [
    "## Preparing the Data"
   ]
  },
  {
   "cell_type": "code",
   "execution_count": 4,
   "id": "7f69d806",
   "metadata": {
    "execution": {
     "iopub.execute_input": "2022-04-16T20:09:40.137607Z",
     "iopub.status.busy": "2022-04-16T20:09:40.132252Z",
     "iopub.status.idle": "2022-04-16T20:09:40.149227Z",
     "shell.execute_reply": "2022-04-16T20:09:40.148774Z"
    },
    "papermill": {
     "duration": 0.048618,
     "end_time": "2022-04-16T20:09:40.149363",
     "exception": false,
     "start_time": "2022-04-16T20:09:40.100745",
     "status": "completed"
    },
    "tags": []
   },
   "outputs": [],
   "source": [
    "import mnist"
   ]
  },
  {
   "cell_type": "code",
   "execution_count": 5,
   "id": "a411e44f",
   "metadata": {
    "execution": {
     "iopub.execute_input": "2022-04-16T20:09:40.203461Z",
     "iopub.status.busy": "2022-04-16T20:09:40.202896Z",
     "iopub.status.idle": "2022-04-16T20:09:40.711030Z",
     "shell.execute_reply": "2022-04-16T20:09:40.710127Z"
    },
    "papermill": {
     "duration": 0.537128,
     "end_time": "2022-04-16T20:09:40.711251",
     "exception": false,
     "start_time": "2022-04-16T20:09:40.174123",
     "status": "completed"
    },
    "tags": []
   },
   "outputs": [],
   "source": [
    "train_images = mnist.train_images()\n",
    "train_labels = mnist.train_labels()"
   ]
  },
  {
   "cell_type": "code",
   "execution_count": 6,
   "id": "dceab3a5",
   "metadata": {
    "execution": {
     "iopub.execute_input": "2022-04-16T20:09:40.766426Z",
     "iopub.status.busy": "2022-04-16T20:09:40.765965Z",
     "iopub.status.idle": "2022-04-16T20:09:40.779879Z",
     "shell.execute_reply": "2022-04-16T20:09:40.779420Z"
    },
    "papermill": {
     "duration": 0.042474,
     "end_time": "2022-04-16T20:09:40.779993",
     "exception": false,
     "start_time": "2022-04-16T20:09:40.737519",
     "status": "completed"
    },
    "tags": []
   },
   "outputs": [
    {
     "data": {
      "text/plain": [
       "((60000, 28, 28), (60000,))"
      ]
     },
     "execution_count": 6,
     "metadata": {},
     "output_type": "execute_result"
    }
   ],
   "source": [
    "train_images.shape, train_labels.shape"
   ]
  },
  {
   "cell_type": "code",
   "execution_count": 7,
   "id": "f50dc2bb",
   "metadata": {
    "execution": {
     "iopub.execute_input": "2022-04-16T20:09:40.833810Z",
     "iopub.status.busy": "2022-04-16T20:09:40.833351Z",
     "iopub.status.idle": "2022-04-16T20:09:40.957128Z",
     "shell.execute_reply": "2022-04-16T20:09:40.956249Z"
    },
    "papermill": {
     "duration": 0.152443,
     "end_time": "2022-04-16T20:09:40.957379",
     "exception": false,
     "start_time": "2022-04-16T20:09:40.804936",
     "status": "completed"
    },
    "tags": []
   },
   "outputs": [],
   "source": [
    "test_images = mnist.test_images()\n",
    "test_labels = mnist.test_labels()"
   ]
  },
  {
   "cell_type": "code",
   "execution_count": 8,
   "id": "fc38cf1b",
   "metadata": {
    "execution": {
     "iopub.execute_input": "2022-04-16T20:09:41.013036Z",
     "iopub.status.busy": "2022-04-16T20:09:41.012471Z",
     "iopub.status.idle": "2022-04-16T20:09:41.027517Z",
     "shell.execute_reply": "2022-04-16T20:09:41.027039Z"
    },
    "papermill": {
     "duration": 0.044078,
     "end_time": "2022-04-16T20:09:41.027633",
     "exception": false,
     "start_time": "2022-04-16T20:09:40.983555",
     "status": "completed"
    },
    "tags": []
   },
   "outputs": [
    {
     "data": {
      "text/plain": [
       "((10000, 28, 28), (10000,))"
      ]
     },
     "execution_count": 8,
     "metadata": {},
     "output_type": "execute_result"
    }
   ],
   "source": [
    "test_images.shape, test_labels.shape"
   ]
  },
  {
   "cell_type": "code",
   "execution_count": 9,
   "id": "f9ed8fe0",
   "metadata": {
    "execution": {
     "iopub.execute_input": "2022-04-16T20:09:41.084684Z",
     "iopub.status.busy": "2022-04-16T20:09:41.083679Z",
     "iopub.status.idle": "2022-04-16T20:09:41.225848Z",
     "shell.execute_reply": "2022-04-16T20:09:41.225365Z"
    },
    "papermill": {
     "duration": 0.171659,
     "end_time": "2022-04-16T20:09:41.225971",
     "exception": false,
     "start_time": "2022-04-16T20:09:41.054312",
     "status": "completed"
    },
    "tags": []
   },
   "outputs": [
    {
     "name": "stdout",
     "output_type": "stream",
     "text": [
      "2\n"
     ]
    },
    {
     "data": {
      "text/plain": [
       "<matplotlib.image.AxesImage at 0x7f1db7ef1320>"
      ]
     },
     "execution_count": 9,
     "metadata": {},
     "output_type": "execute_result"
    },
    {
     "data": {
      "image/png": "[encoded data removed]",
      "text/plain": [
       "<Figure size 432x288 with 1 Axes>"
      ]
     },
     "metadata": {
      "needs_background": "light"
     },
     "output_type": "display_data"
    }
   ],
   "source": [
    "image_index = 7776 # You may select anything up to 60,000\n",
    "print(train_labels[image_index]) \n",
    "plt.imshow(train_images[image_index], cmap='Greys')"
   ]
  },
  {
   "cell_type": "markdown",
   "id": "a8d2388d",
   "metadata": {
    "papermill": {
     "duration": 0.026135,
     "end_time": "2022-04-16T20:09:41.278282",
     "exception": false,
     "start_time": "2022-04-16T20:09:41.252147",
     "status": "completed"
    },
    "tags": []
   },
   "source": [
    "## Filter data to get 3 and 8 out"
   ]
  },
  {
   "cell_type": "code",
   "execution_count": 10,
   "id": "776f7fc7",
   "metadata": {
    "execution": {
     "iopub.execute_input": "2022-04-16T20:09:41.331853Z",
     "iopub.status.busy": "2022-04-16T20:09:41.331381Z",
     "iopub.status.idle": "2022-04-16T20:09:41.350625Z",
     "shell.execute_reply": "2022-04-16T20:09:41.349280Z"
    },
    "papermill": {
     "duration": 0.04842,
     "end_time": "2022-04-16T20:09:41.350793",
     "exception": false,
     "start_time": "2022-04-16T20:09:41.302373",
     "status": "completed"
    },
    "tags": []
   },
   "outputs": [],
   "source": [
    "train_filter = np.where((train_labels == 3 ) | (train_labels == 8))\n",
    "test_filter = np.where((test_labels == 3) | (test_labels == 8))\n",
    "X_train, y_train = train_images[train_filter], train_labels[train_filter]\n",
    "X_test, y_test = test_images[test_filter], test_labels[test_filter]"
   ]
  },
  {
   "cell_type": "markdown",
   "id": "948f0b7e",
   "metadata": {
    "papermill": {
     "duration": 0.024961,
     "end_time": "2022-04-16T20:09:41.402878",
     "exception": false,
     "start_time": "2022-04-16T20:09:41.377917",
     "status": "completed"
    },
    "tags": []
   },
   "source": [
    "We normalize the pizel values in the 0 to 1 range"
   ]
  },
  {
   "cell_type": "code",
   "execution_count": 11,
   "id": "ee4c2166",
   "metadata": {
    "execution": {
     "iopub.execute_input": "2022-04-16T20:09:41.455840Z",
     "iopub.status.busy": "2022-04-16T20:09:41.455358Z",
     "iopub.status.idle": "2022-04-16T20:09:41.509448Z",
     "shell.execute_reply": "2022-04-16T20:09:41.508572Z"
    },
    "papermill": {
     "duration": 0.081501,
     "end_time": "2022-04-16T20:09:41.509668",
     "exception": false,
     "start_time": "2022-04-16T20:09:41.428167",
     "status": "completed"
    },
    "tags": []
   },
   "outputs": [],
   "source": [
    "X_train = X_train/255.\n",
    "X_test = X_test/255."
   ]
  },
  {
   "cell_type": "markdown",
   "id": "ddcf4fab",
   "metadata": {
    "papermill": {
     "duration": 0.026635,
     "end_time": "2022-04-16T20:09:41.567081",
     "exception": false,
     "start_time": "2022-04-16T20:09:41.540446",
     "status": "completed"
    },
    "tags": []
   },
   "source": [
    "And setup the labels as 1 (when the digit is 3) and 0 (when the digit is 8)"
   ]
  },
  {
   "cell_type": "code",
   "execution_count": 12,
   "id": "7dc908f2",
   "metadata": {
    "execution": {
     "iopub.execute_input": "2022-04-16T20:09:41.622037Z",
     "iopub.status.busy": "2022-04-16T20:09:41.621543Z",
     "iopub.status.idle": "2022-04-16T20:09:41.637124Z",
     "shell.execute_reply": "2022-04-16T20:09:41.636725Z"
    },
    "papermill": {
     "duration": 0.045803,
     "end_time": "2022-04-16T20:09:41.637225",
     "exception": false,
     "start_time": "2022-04-16T20:09:41.591422",
     "status": "completed"
    },
    "tags": []
   },
   "outputs": [],
   "source": [
    "y_train = 1*(y_train==3)\n",
    "y_test = 1*(y_test==3)"
   ]
  },
  {
   "cell_type": "code",
   "execution_count": 13,
   "id": "01e4e969",
   "metadata": {
    "execution": {
     "iopub.execute_input": "2022-04-16T20:09:41.690903Z",
     "iopub.status.busy": "2022-04-16T20:09:41.690349Z",
     "iopub.status.idle": "2022-04-16T20:09:41.703181Z",
     "shell.execute_reply": "2022-04-16T20:09:41.702789Z"
    },
    "papermill": {
     "duration": 0.041362,
     "end_time": "2022-04-16T20:09:41.703280",
     "exception": false,
     "start_time": "2022-04-16T20:09:41.661918",
     "status": "completed"
    },
    "tags": []
   },
   "outputs": [
    {
     "data": {
      "text/plain": [
       "((11982, 28, 28), (1984, 28, 28))"
      ]
     },
     "execution_count": 13,
     "metadata": {},
     "output_type": "execute_result"
    }
   ],
   "source": [
    "X_train.shape, X_test.shape"
   ]
  },
  {
   "cell_type": "markdown",
   "id": "5ccf3f85",
   "metadata": {
    "papermill": {
     "duration": 0.025452,
     "end_time": "2022-04-16T20:09:41.752951",
     "exception": false,
     "start_time": "2022-04-16T20:09:41.727499",
     "status": "completed"
    },
    "tags": []
   },
   "source": [
    "We reshape the data to flatten the image pixels into a set of features or co-variates:"
   ]
  },
  {
   "cell_type": "code",
   "execution_count": 14,
   "id": "5286a4a3",
   "metadata": {
    "execution": {
     "iopub.execute_input": "2022-04-16T20:09:41.810485Z",
     "iopub.status.busy": "2022-04-16T20:09:41.809754Z",
     "iopub.status.idle": "2022-04-16T20:09:41.823660Z",
     "shell.execute_reply": "2022-04-16T20:09:41.823205Z"
    },
    "papermill": {
     "duration": 0.043734,
     "end_time": "2022-04-16T20:09:41.823760",
     "exception": false,
     "start_time": "2022-04-16T20:09:41.780026",
     "status": "completed"
    },
    "tags": []
   },
   "outputs": [
    {
     "data": {
      "text/plain": [
       "((11982, 784), (1984, 784))"
      ]
     },
     "execution_count": 14,
     "metadata": {},
     "output_type": "execute_result"
    }
   ],
   "source": [
    "X_train = X_train.reshape(X_train.shape[0], -1)\n",
    "X_test = X_test.reshape(X_test.shape[0], -1)\n",
    "X_train.shape, X_test.shape"
   ]
  },
  {
   "cell_type": "code",
   "execution_count": 15,
   "id": "73c5f88a",
   "metadata": {
    "execution": {
     "iopub.execute_input": "2022-04-16T20:09:41.880473Z",
     "iopub.status.busy": "2022-04-16T20:09:41.879362Z",
     "iopub.status.idle": "2022-04-16T20:09:41.899087Z",
     "shell.execute_reply": "2022-04-16T20:09:41.898108Z"
    },
    "papermill": {
     "duration": 0.048635,
     "end_time": "2022-04-16T20:09:41.899189",
     "exception": false,
     "start_time": "2022-04-16T20:09:41.850554",
     "status": "completed"
    },
    "tags": []
   },
   "outputs": [],
   "source": [
    "#Impoting functions from 'Kudzu'\n",
    "from kudzu.model import Model\n",
    "from kudzu.train import Learner\n",
    "from kudzu.optim import GD\n",
    "from kudzu.data import Data, Sampler,Dataloader\n",
    "\n",
    "from kudzu.callbacks import AccCallback\n",
    "from kudzu.callbacks import ClfCallback\n",
    "\n",
    "from kudzu.loss import MSE\n",
    "\n",
    "from kudzu.layer import Sigmoid,Relu\n",
    "from kudzu.layer import Affine"
   ]
  },
  {
   "cell_type": "markdown",
   "id": "bc01172a",
   "metadata": {
    "papermill": {
     "duration": 0.025229,
     "end_time": "2022-04-16T20:09:41.949540",
     "exception": false,
     "start_time": "2022-04-16T20:09:41.924311",
     "status": "completed"
    },
    "tags": []
   },
   "source": [
    "### Let us create a `Config` class, to store important parameters. \n",
    "This class essentially plays the role of a dictionary."
   ]
  },
  {
   "cell_type": "code",
   "execution_count": 16,
   "id": "978281aa",
   "metadata": {
    "execution": {
     "iopub.execute_input": "2022-04-16T20:09:42.003873Z",
     "iopub.status.busy": "2022-04-16T20:09:42.003303Z",
     "iopub.status.idle": "2022-04-16T20:09:42.016178Z",
     "shell.execute_reply": "2022-04-16T20:09:42.015752Z"
    },
    "papermill": {
     "duration": 0.041953,
     "end_time": "2022-04-16T20:09:42.016288",
     "exception": false,
     "start_time": "2022-04-16T20:09:41.974335",
     "status": "completed"
    },
    "tags": []
   },
   "outputs": [],
   "source": [
    "class Config:\n",
    "    pass\n",
    "config = Config()\n",
    "config.lr = 0.001\n",
    "config.num_epochs = 250\n",
    "config.bs = 50"
   ]
  },
  {
   "cell_type": "markdown",
   "id": "1385fa59",
   "metadata": {
    "papermill": {
     "duration": 0.028648,
     "end_time": "2022-04-16T20:09:42.071342",
     "exception": false,
     "start_time": "2022-04-16T20:09:42.042694",
     "status": "completed"
    },
    "tags": []
   },
   "source": [
    "### Running Models with the Training data\n",
    "Details about the network layers:\n",
    "- A first affine layer has 784 inputs and does 100 affine transforms. These are followed by a Relu\n",
    "- A second affine layer has 100 inputs from the 100 activations of the past layer, and does 100 affine transforms. These are followed by a Relu\n",
    "- A third affine layer has 100 activations and does 2 affine transformations to create an embedding for visualization. There is no non-linearity here.\n",
    "- A final \"logistic regression\" which has an affine transform from 2 inputs to 1 output, which is squeezed through a sigmoid.\n"
   ]
  },
  {
   "cell_type": "code",
   "execution_count": 17,
   "id": "2b9c66db",
   "metadata": {
    "execution": {
     "iopub.execute_input": "2022-04-16T20:09:42.134671Z",
     "iopub.status.busy": "2022-04-16T20:09:42.134073Z",
     "iopub.status.idle": "2022-04-16T20:09:42.147712Z",
     "shell.execute_reply": "2022-04-16T20:09:42.148229Z"
    },
    "papermill": {
     "duration": 0.048536,
     "end_time": "2022-04-16T20:09:42.148361",
     "exception": false,
     "start_time": "2022-04-16T20:09:42.099825",
     "status": "completed"
    },
    "tags": []
   },
   "outputs": [],
   "source": [
    "data = Data(X_train, y_train.reshape(-1,1))\n",
    "sampler = Sampler(data, config.bs, shuffle=True)\n",
    "\n",
    "dl = Dataloader(data, sampler)\n",
    "\n",
    "opt = GD(config.lr)\n",
    "loss = MSE()"
   ]
  },
  {
   "cell_type": "code",
   "execution_count": 18,
   "id": "b275e4c2",
   "metadata": {
    "execution": {
     "iopub.execute_input": "2022-04-16T20:09:42.208732Z",
     "iopub.status.busy": "2022-04-16T20:09:42.208217Z",
     "iopub.status.idle": "2022-04-16T20:09:42.219071Z",
     "shell.execute_reply": "2022-04-16T20:09:42.218679Z"
    },
    "papermill": {
     "duration": 0.043117,
     "end_time": "2022-04-16T20:09:42.219170",
     "exception": false,
     "start_time": "2022-04-16T20:09:42.176053",
     "status": "completed"
    },
    "tags": []
   },
   "outputs": [],
   "source": [
    "training_data_x = X_train\n",
    "testing_data_x = X_test\n",
    "training_data_y = y_train.reshape(-1,1)\n",
    "testing_data_y = y_test.reshape(-1,1)"
   ]
  },
  {
   "cell_type": "code",
   "execution_count": 19,
   "id": "76951160",
   "metadata": {
    "execution": {
     "iopub.execute_input": "2022-04-16T20:09:42.275461Z",
     "iopub.status.busy": "2022-04-16T20:09:42.274976Z",
     "iopub.status.idle": "2022-04-16T20:09:42.292281Z",
     "shell.execute_reply": "2022-04-16T20:09:42.291804Z"
    },
    "papermill": {
     "duration": 0.048008,
     "end_time": "2022-04-16T20:09:42.292402",
     "exception": false,
     "start_time": "2022-04-16T20:09:42.244394",
     "status": "completed"
    },
    "tags": []
   },
   "outputs": [
    {
     "name": "stdout",
     "output_type": "stream",
     "text": [
      "xavier\n",
      "xavier\n",
      "xavier\n",
      "xavier\n",
      "xavier\n"
     ]
    }
   ],
   "source": [
    "layers = [Affine(\"first\", 784, 100), Relu(\"first\"), Affine(\"second\", 100, 100), Relu(\"second\"), Affine(\"third\", 100, 2), Affine(\"last\", 2, 1), Sigmoid(\"last\")]\n",
    "model_nn = Model(layers)\n",
    "model_lr = Model([Affine(\"logits\", 784, 1), Sigmoid(\"sigmoid\")])"
   ]
  },
  {
   "cell_type": "code",
   "execution_count": 20,
   "id": "6eede77a",
   "metadata": {
    "execution": {
     "iopub.execute_input": "2022-04-16T20:09:42.349935Z",
     "iopub.status.busy": "2022-04-16T20:09:42.349368Z",
     "iopub.status.idle": "2022-04-16T20:09:42.359671Z",
     "shell.execute_reply": "2022-04-16T20:09:42.360073Z"
    },
    "papermill": {
     "duration": 0.041884,
     "end_time": "2022-04-16T20:09:42.360182",
     "exception": false,
     "start_time": "2022-04-16T20:09:42.318298",
     "status": "completed"
    },
    "tags": []
   },
   "outputs": [],
   "source": [
    "nn_learner = Learner(loss, model_nn, opt, config.num_epochs)\n",
    "acc_nn = ClfCallback(nn_learner, config.bs, training_data_x , testing_data_x, training_data_y, testing_data_y)\n",
    "nn_learner.set_callbacks([acc_nn])"
   ]
  },
  {
   "cell_type": "code",
   "execution_count": 21,
   "id": "877b6cc7",
   "metadata": {
    "execution": {
     "iopub.execute_input": "2022-04-16T20:09:42.420472Z",
     "iopub.status.busy": "2022-04-16T20:09:42.419989Z",
     "iopub.status.idle": "2022-04-16T20:09:42.431614Z",
     "shell.execute_reply": "2022-04-16T20:09:42.431174Z"
    },
    "papermill": {
     "duration": 0.043643,
     "end_time": "2022-04-16T20:09:42.431723",
     "exception": false,
     "start_time": "2022-04-16T20:09:42.388080",
     "status": "completed"
    },
    "tags": []
   },
   "outputs": [],
   "source": [
    "lr_learner = Learner(loss, model_lr, opt, config.num_epochs)\n",
    "acc_lr = ClfCallback(lr_learner, config.bs, training_data_x , testing_data_x, training_data_y, testing_data_y)\n",
    "lr_learner.set_callbacks([acc_lr])"
   ]
  },
  {
   "cell_type": "code",
   "execution_count": 22,
   "id": "d9b133c3",
   "metadata": {
    "execution": {
     "iopub.execute_input": "2022-04-16T20:09:42.487583Z",
     "iopub.status.busy": "2022-04-16T20:09:42.487107Z",
     "iopub.status.idle": "2022-04-16T20:11:04.192894Z",
     "shell.execute_reply": "2022-04-16T20:11:04.193808Z"
    },
    "papermill": {
     "duration": 81.736649,
     "end_time": "2022-04-16T20:11:04.193976",
     "exception": false,
     "start_time": "2022-04-16T20:09:42.457327",
     "status": "completed"
    },
    "tags": []
   },
   "outputs": [
    {
     "name": "stdout",
     "output_type": "stream",
     "text": [
      "Epoch 0, Loss 0.2282\n",
      "Training Accuracy: 0.7857, Testing Accuracy: 0.7878\n",
      "\n"
     ]
    },
    {
     "name": "stdout",
     "output_type": "stream",
     "text": [
      "Epoch 10, Loss 0.0612\n",
      "Training Accuracy: 0.9366, Testing Accuracy: 0.9471\n",
      "\n"
     ]
    },
    {
     "name": "stdout",
     "output_type": "stream",
     "text": [
      "Epoch 20, Loss 0.044\n",
      "Training Accuracy: 0.9515, Testing Accuracy: 0.9612\n",
      "\n"
     ]
    },
    {
     "name": "stdout",
     "output_type": "stream",
     "text": [
      "Epoch 30, Loss 0.0371\n",
      "Training Accuracy: 0.9589, Testing Accuracy: 0.9647\n",
      "\n"
     ]
    },
    {
     "name": "stdout",
     "output_type": "stream",
     "text": [
      "Epoch 40, Loss 0.0331\n",
      "Training Accuracy: 0.9633, Testing Accuracy: 0.9703\n",
      "\n"
     ]
    },
    {
     "name": "stdout",
     "output_type": "stream",
     "text": [
      "Epoch 50, Loss 0.0305\n",
      "Training Accuracy: 0.9662, Testing Accuracy: 0.9718\n",
      "\n"
     ]
    },
    {
     "name": "stdout",
     "output_type": "stream",
     "text": [
      "Epoch 60, Loss 0.0286\n",
      "Training Accuracy: 0.9676, Testing Accuracy: 0.9718\n",
      "\n"
     ]
    },
    {
     "name": "stdout",
     "output_type": "stream",
     "text": [
      "Epoch 70, Loss 0.0271\n",
      "Training Accuracy: 0.9688, Testing Accuracy: 0.9723\n",
      "\n"
     ]
    },
    {
     "name": "stdout",
     "output_type": "stream",
     "text": [
      "Epoch 80, Loss 0.0259\n",
      "Training Accuracy: 0.9708, Testing Accuracy: 0.9733\n",
      "\n"
     ]
    },
    {
     "name": "stdout",
     "output_type": "stream",
     "text": [
      "Epoch 90, Loss 0.0248\n",
      "Training Accuracy: 0.9720, Testing Accuracy: 0.9728\n",
      "\n"
     ]
    },
    {
     "name": "stdout",
     "output_type": "stream",
     "text": [
      "Epoch 100, Loss 0.0239\n",
      "Training Accuracy: 0.9730, Testing Accuracy: 0.9723\n",
      "\n"
     ]
    },
    {
     "name": "stdout",
     "output_type": "stream",
     "text": [
      "Epoch 110, Loss 0.0231\n",
      "Training Accuracy: 0.9744, Testing Accuracy: 0.9723\n",
      "\n"
     ]
    },
    {
     "name": "stdout",
     "output_type": "stream",
     "text": [
      "Epoch 120, Loss 0.0224\n",
      "Training Accuracy: 0.9752, Testing Accuracy: 0.9728\n",
      "\n"
     ]
    },
    {
     "name": "stdout",
     "output_type": "stream",
     "text": [
      "Epoch 130, Loss 0.0217\n",
      "Training Accuracy: 0.9760, Testing Accuracy: 0.9728\n",
      "\n"
     ]
    },
    {
     "name": "stdout",
     "output_type": "stream",
     "text": [
      "Epoch 140, Loss 0.0211\n",
      "Training Accuracy: 0.9767, Testing Accuracy: 0.9733\n",
      "\n"
     ]
    },
    {
     "name": "stdout",
     "output_type": "stream",
     "text": [
      "Epoch 150, Loss 0.0205\n",
      "Training Accuracy: 0.9779, Testing Accuracy: 0.9738\n",
      "\n"
     ]
    },
    {
     "name": "stdout",
     "output_type": "stream",
     "text": [
      "Epoch 160, Loss 0.0199\n",
      "Training Accuracy: 0.9780, Testing Accuracy: 0.9738\n",
      "\n"
     ]
    },
    {
     "name": "stdout",
     "output_type": "stream",
     "text": [
      "Epoch 170, Loss 0.0194\n",
      "Training Accuracy: 0.9788, Testing Accuracy: 0.9743\n",
      "\n"
     ]
    },
    {
     "name": "stdout",
     "output_type": "stream",
     "text": [
      "Epoch 180, Loss 0.0189\n",
      "Training Accuracy: 0.9791, Testing Accuracy: 0.9743\n",
      "\n"
     ]
    },
    {
     "name": "stdout",
     "output_type": "stream",
     "text": [
      "Epoch 190, Loss 0.0184\n",
      "Training Accuracy: 0.9796, Testing Accuracy: 0.9743\n",
      "\n"
     ]
    },
    {
     "name": "stdout",
     "output_type": "stream",
     "text": [
      "Epoch 200, Loss 0.0179\n",
      "Training Accuracy: 0.9801, Testing Accuracy: 0.9748\n",
      "\n"
     ]
    },
    {
     "name": "stdout",
     "output_type": "stream",
     "text": [
      "Epoch 210, Loss 0.0175\n",
      "Training Accuracy: 0.9807, Testing Accuracy: 0.9748\n",
      "\n"
     ]
    },
    {
     "name": "stdout",
     "output_type": "stream",
     "text": [
      "Epoch 220, Loss 0.0171\n",
      "Training Accuracy: 0.9811, Testing Accuracy: 0.9753\n",
      "\n"
     ]
    },
    {
     "name": "stdout",
     "output_type": "stream",
     "text": [
      "Epoch 230, Loss 0.0167\n",
      "Training Accuracy: 0.9814, Testing Accuracy: 0.9753\n",
      "\n"
     ]
    },
    {
     "name": "stdout",
     "output_type": "stream",
     "text": [
      "Epoch 240, Loss 0.0163\n",
      "Training Accuracy: 0.9818, Testing Accuracy: 0.9763\n",
      "\n"
     ]
    },
    {
     "data": {
      "text/plain": [
       "0.004012634668511802"
      ]
     },
     "execution_count": 22,
     "metadata": {},
     "output_type": "execute_result"
    }
   ],
   "source": [
    "nn_learner.train_loop(dl)"
   ]
  },
  {
   "cell_type": "code",
   "execution_count": 23,
   "id": "e0163366",
   "metadata": {
    "execution": {
     "iopub.execute_input": "2022-04-16T20:11:04.282942Z",
     "iopub.status.busy": "2022-04-16T20:11:04.282351Z",
     "iopub.status.idle": "2022-04-16T20:11:19.001116Z",
     "shell.execute_reply": "2022-04-16T20:11:19.001725Z"
    },
    "papermill": {
     "duration": 14.769559,
     "end_time": "2022-04-16T20:11:19.001897",
     "exception": false,
     "start_time": "2022-04-16T20:11:04.232338",
     "status": "completed"
    },
    "tags": []
   },
   "outputs": [
    {
     "name": "stdout",
     "output_type": "stream",
     "text": [
      "Epoch 0, Loss 0.2549\n",
      "Training Accuracy: 0.6238, Testing Accuracy: 0.6018\n",
      "\n"
     ]
    },
    {
     "name": "stdout",
     "output_type": "stream",
     "text": [
      "Epoch 10, Loss 0.1053\n",
      "Training Accuracy: 0.9004, Testing Accuracy: 0.9042\n",
      "\n"
     ]
    },
    {
     "name": "stdout",
     "output_type": "stream",
     "text": [
      "Epoch 20, Loss 0.0804\n",
      "Training Accuracy: 0.9245, Testing Accuracy: 0.9304\n",
      "\n"
     ]
    },
    {
     "name": "stdout",
     "output_type": "stream",
     "text": [
      "Epoch 30, Loss 0.0691\n",
      "Training Accuracy: 0.9324, Testing Accuracy: 0.9435\n",
      "\n"
     ]
    },
    {
     "name": "stdout",
     "output_type": "stream",
     "text": [
      "Epoch 40, Loss 0.0623\n",
      "Training Accuracy: 0.9381, Testing Accuracy: 0.9476\n",
      "\n"
     ]
    },
    {
     "name": "stdout",
     "output_type": "stream",
     "text": [
      "Epoch 50, Loss 0.0577\n",
      "Training Accuracy: 0.9426, Testing Accuracy: 0.9501\n",
      "\n"
     ]
    },
    {
     "name": "stdout",
     "output_type": "stream",
     "text": [
      "Epoch 60, Loss 0.0543\n",
      "Training Accuracy: 0.9459, Testing Accuracy: 0.9556\n",
      "\n"
     ]
    },
    {
     "name": "stdout",
     "output_type": "stream",
     "text": [
      "Epoch 70, Loss 0.0516\n",
      "Training Accuracy: 0.9478, Testing Accuracy: 0.9587\n",
      "\n"
     ]
    },
    {
     "name": "stdout",
     "output_type": "stream",
     "text": [
      "Epoch 80, Loss 0.0495\n",
      "Training Accuracy: 0.9503, Testing Accuracy: 0.9592\n",
      "\n"
     ]
    },
    {
     "name": "stdout",
     "output_type": "stream",
     "text": [
      "Epoch 90, Loss 0.0478\n",
      "Training Accuracy: 0.9509, Testing Accuracy: 0.9612\n",
      "\n"
     ]
    },
    {
     "name": "stdout",
     "output_type": "stream",
     "text": [
      "Epoch 100, Loss 0.0464\n",
      "Training Accuracy: 0.9520, Testing Accuracy: 0.9622\n",
      "\n"
     ]
    },
    {
     "name": "stdout",
     "output_type": "stream",
     "text": [
      "Epoch 110, Loss 0.0451\n",
      "Training Accuracy: 0.9533, Testing Accuracy: 0.9637\n",
      "\n"
     ]
    },
    {
     "name": "stdout",
     "output_type": "stream",
     "text": [
      "Epoch 120, Loss 0.044\n",
      "Training Accuracy: 0.9539, Testing Accuracy: 0.9642\n",
      "\n"
     ]
    },
    {
     "name": "stdout",
     "output_type": "stream",
     "text": [
      "Epoch 130, Loss 0.0431\n",
      "Training Accuracy: 0.9547, Testing Accuracy: 0.9637\n",
      "\n"
     ]
    },
    {
     "name": "stdout",
     "output_type": "stream",
     "text": [
      "Epoch 140, Loss 0.0422\n",
      "Training Accuracy: 0.9556, Testing Accuracy: 0.9652\n",
      "\n"
     ]
    },
    {
     "name": "stdout",
     "output_type": "stream",
     "text": [
      "Epoch 150, Loss 0.0414\n",
      "Training Accuracy: 0.9559, Testing Accuracy: 0.9652\n",
      "\n"
     ]
    },
    {
     "name": "stdout",
     "output_type": "stream",
     "text": [
      "Epoch 160, Loss 0.0408\n",
      "Training Accuracy: 0.9566, Testing Accuracy: 0.9657\n",
      "\n"
     ]
    },
    {
     "name": "stdout",
     "output_type": "stream",
     "text": [
      "Epoch 170, Loss 0.0401\n",
      "Training Accuracy: 0.9569, Testing Accuracy: 0.9657\n",
      "\n"
     ]
    },
    {
     "name": "stdout",
     "output_type": "stream",
     "text": [
      "Epoch 180, Loss 0.0396\n",
      "Training Accuracy: 0.9575, Testing Accuracy: 0.9657\n",
      "\n"
     ]
    },
    {
     "name": "stdout",
     "output_type": "stream",
     "text": [
      "Epoch 190, Loss 0.039\n",
      "Training Accuracy: 0.9583, Testing Accuracy: 0.9667\n",
      "\n"
     ]
    },
    {
     "name": "stdout",
     "output_type": "stream",
     "text": [
      "Epoch 200, Loss 0.0385\n",
      "Training Accuracy: 0.9589, Testing Accuracy: 0.9677\n",
      "\n"
     ]
    },
    {
     "name": "stdout",
     "output_type": "stream",
     "text": [
      "Epoch 210, Loss 0.0381\n",
      "Training Accuracy: 0.9594, Testing Accuracy: 0.9682\n",
      "\n"
     ]
    },
    {
     "name": "stdout",
     "output_type": "stream",
     "text": [
      "Epoch 220, Loss 0.0377\n",
      "Training Accuracy: 0.9596, Testing Accuracy: 0.9682\n",
      "\n"
     ]
    },
    {
     "name": "stdout",
     "output_type": "stream",
     "text": [
      "Epoch 230, Loss 0.0373\n",
      "Training Accuracy: 0.9597, Testing Accuracy: 0.9688\n",
      "\n"
     ]
    },
    {
     "name": "stdout",
     "output_type": "stream",
     "text": [
      "Epoch 240, Loss 0.0369\n",
      "Training Accuracy: 0.9597, Testing Accuracy: 0.9693\n",
      "\n"
     ]
    },
    {
     "data": {
      "text/plain": [
       "0.0513307391335783"
      ]
     },
     "execution_count": 23,
     "metadata": {},
     "output_type": "execute_result"
    }
   ],
   "source": [
    "lr_learner.train_loop(dl)"
   ]
  },
  {
   "cell_type": "code",
   "execution_count": 24,
   "id": "ca410940",
   "metadata": {
    "execution": {
     "iopub.execute_input": "2022-04-16T20:11:19.098914Z",
     "iopub.status.busy": "2022-04-16T20:11:19.098346Z",
     "iopub.status.idle": "2022-04-16T20:11:19.348879Z",
     "shell.execute_reply": "2022-04-16T20:11:19.348386Z"
    },
    "papermill": {
     "duration": 0.303253,
     "end_time": "2022-04-16T20:11:19.349003",
     "exception": false,
     "start_time": "2022-04-16T20:11:19.045750",
     "status": "completed"
    },
    "tags": []
   },
   "outputs": [
    {
     "data": {
      "text/plain": [
       "<matplotlib.legend.Legend at 0x7f1db7ad0a90>"
      ]
     },
     "execution_count": 24,
     "metadata": {},
     "output_type": "execute_result"
    },
    {
     "data": {
      "image/png": "[encoded data removed]",
      "text/plain": [
       "<Figure size 1080x720 with 1 Axes>"
      ]
     },
     "metadata": {
      "needs_background": "light"
     },
     "output_type": "display_data"
    }
   ],
   "source": [
    "#comparing the results of NN and LR\n",
    "plt.figure(figsize=(15,10))\n",
    "\n",
    "# Neural Network plots\n",
    "plt.plot(acc_nn.accuracies, 'r-', label = \"Training Accuracies - NN\")\n",
    "plt.plot(acc_nn.test_accuracies, 'g-', label = \"Testing Accuracies - NN\")\n",
    "\n",
    "# Logistic Regression plots\n",
    "plt.plot(acc_lr.accuracies, 'k-', label = \"Training Accuracies - LR\")\n",
    "plt.plot(acc_lr.test_accuracies, 'b-', label = \"Testing Accuracies - LR\")\n",
    "plt.legend()"
   ]
  },
  {
   "cell_type": "markdown",
   "id": "80dfb35c",
   "metadata": {
    "papermill": {
     "duration": 0.041389,
     "end_time": "2022-04-16T20:11:19.434303",
     "exception": false,
     "start_time": "2022-04-16T20:11:19.392914",
     "status": "completed"
    },
    "tags": []
   },
   "source": [
    "#### Plotting the outputs of this layer of the NN.\n"
   ]
  },
  {
   "cell_type": "code",
   "execution_count": 25,
   "id": "45eb2ff5",
   "metadata": {
    "execution": {
     "iopub.execute_input": "2022-04-16T20:11:19.528936Z",
     "iopub.status.busy": "2022-04-16T20:11:19.528366Z",
     "iopub.status.idle": "2022-04-16T20:11:19.549008Z",
     "shell.execute_reply": "2022-04-16T20:11:19.549522Z"
    },
    "papermill": {
     "duration": 0.071088,
     "end_time": "2022-04-16T20:11:19.549668",
     "exception": false,
     "start_time": "2022-04-16T20:11:19.478580",
     "status": "completed"
    },
    "tags": []
   },
   "outputs": [],
   "source": [
    "new_model = Model(layers[:-2])\n",
    "testing_plot = new_model(testing_data_x)"
   ]
  },
  {
   "cell_type": "code",
   "execution_count": 26,
   "id": "4c0a5485",
   "metadata": {
    "execution": {
     "iopub.execute_input": "2022-04-16T20:11:19.652319Z",
     "iopub.status.busy": "2022-04-16T20:11:19.651442Z",
     "iopub.status.idle": "2022-04-16T20:11:19.868800Z",
     "shell.execute_reply": "2022-04-16T20:11:19.868144Z"
    },
    "papermill": {
     "duration": 0.273437,
     "end_time": "2022-04-16T20:11:19.868968",
     "exception": false,
     "start_time": "2022-04-16T20:11:19.595531",
     "status": "completed"
    },
    "tags": []
   },
   "outputs": [
    {
     "data": {
      "text/plain": [
       "Text(0.5, 1.0, 'Outputs')"
      ]
     },
     "execution_count": 26,
     "metadata": {},
     "output_type": "execute_result"
    },
    {
     "data": {
      "image/png": "[encoded data removed]",
      "text/plain": [
       "<Figure size 576x504 with 1 Axes>"
      ]
     },
     "metadata": {
      "needs_background": "light"
     },
     "output_type": "display_data"
    }
   ],
   "source": [
    "# Plotting the scatter plot of points and color coding by class\n",
    "plt.figure(figsize=(8,7))\n",
    "plt.scatter(testing_plot[:,0], testing_plot[:,1], alpha = 0.1, c = y_test.ravel());\n",
    "plt.title('Outputs')"
   ]
  },
  {
   "cell_type": "markdown",
   "id": "a74fcf8f",
   "metadata": {
    "papermill": {
     "duration": 0.043212,
     "end_time": "2022-04-16T20:11:19.958478",
     "exception": false,
     "start_time": "2022-04-16T20:11:19.915266",
     "status": "completed"
    },
    "tags": []
   },
   "source": [
    "Probability contours"
   ]
  },
  {
   "cell_type": "code",
   "execution_count": 27,
   "id": "d0afc8e3",
   "metadata": {
    "execution": {
     "iopub.execute_input": "2022-04-16T20:11:20.083513Z",
     "iopub.status.busy": "2022-04-16T20:11:20.082430Z",
     "iopub.status.idle": "2022-04-16T20:11:20.092476Z",
     "shell.execute_reply": "2022-04-16T20:11:20.092906Z"
    },
    "papermill": {
     "duration": 0.091139,
     "end_time": "2022-04-16T20:11:20.093042",
     "exception": false,
     "start_time": "2022-04-16T20:11:20.001903",
     "status": "completed"
    },
    "tags": []
   },
   "outputs": [],
   "source": [
    "model_prob = Model(layers[-2:]) "
   ]
  },
  {
   "cell_type": "code",
   "execution_count": 28,
   "id": "9b96e238",
   "metadata": {
    "execution": {
     "iopub.execute_input": "2022-04-16T20:11:20.191109Z",
     "iopub.status.busy": "2022-04-16T20:11:20.190486Z",
     "iopub.status.idle": "2022-04-16T20:11:20.208003Z",
     "shell.execute_reply": "2022-04-16T20:11:20.208408Z"
    },
    "papermill": {
     "duration": 0.069966,
     "end_time": "2022-04-16T20:11:20.208529",
     "exception": false,
     "start_time": "2022-04-16T20:11:20.138563",
     "status": "completed"
    },
    "tags": []
   },
   "outputs": [],
   "source": [
    "#creating the x and y ranges according to the above generated plot.\n",
    "x_range = np.linspace(-4, 1, 100) \n",
    "y_range = np.linspace(-6, 6, 100) \n",
    "x_grid, y_grid = np.meshgrid(x_range, y_range) # x_grid and y_grig are of size 100 X 100\n",
    "\n",
    "# converting x_grid and y_grid to continuous arrays\n",
    "x_gridflat = np.ravel(x_grid)\n",
    "y_gridflat = np.ravel(y_grid)\n",
    "\n",
    "# The last layer of the current model takes two columns as input. Hence transpose of np.vstack() is required.\n",
    "X = np.vstack((x_gridflat, y_gridflat)).T\n",
    "\n",
    "prob_contour = model_prob(X).reshape(100,100) "
   ]
  },
  {
   "cell_type": "code",
   "execution_count": 29,
   "id": "da72499a",
   "metadata": {
    "execution": {
     "iopub.execute_input": "2022-04-16T20:11:20.308295Z",
     "iopub.status.busy": "2022-04-16T20:11:20.307686Z",
     "iopub.status.idle": "2022-04-16T20:11:20.558869Z",
     "shell.execute_reply": "2022-04-16T20:11:20.558457Z"
    },
    "papermill": {
     "duration": 0.303225,
     "end_time": "2022-04-16T20:11:20.558969",
     "exception": false,
     "start_time": "2022-04-16T20:11:20.255744",
     "status": "completed"
    },
    "tags": []
   },
   "outputs": [
    {
     "data": {
      "image/png": "[encoded data removed]",
      "text/plain": [
       "<Figure size 720x648 with 1 Axes>"
      ]
     },
     "metadata": {
      "needs_background": "light"
     },
     "output_type": "display_data"
    }
   ],
   "source": [
    "plt.figure(figsize=(10,9))\n",
    "plt.scatter(testing_plot[:,0], testing_plot[:,1], alpha = 0.1, c = y_test.ravel())\n",
    "contours = plt.contour(x_grid,y_grid,prob_contour)\n",
    "plt.title('Probability Contours')\n",
    "plt.clabel(contours, inline = True );"
   ]
  },
  {
   "cell_type": "code",
   "execution_count": null,
   "id": "e81b4ac7",
   "metadata": {
    "papermill": {
     "duration": 0.047722,
     "end_time": "2022-04-16T20:11:20.652495",
     "exception": false,
     "start_time": "2022-04-16T20:11:20.604773",
     "status": "completed"
    },
    "tags": []
   },
   "outputs": [],
   "source": []
  }
 ],
 "metadata": {
  "kernelspec": {
   "display_name": "Python 3",
   "language": "python",
   "name": "python3"
  },
  "language_info": {
   "codemirror_mode": {
    "name": "ipython",
    "version": 3
   },
   "file_extension": ".py",
   "mimetype": "text/x-python",
   "name": "python",
   "nbconvert_exporter": "python",
   "pygments_lexer": "ipython3",
   "version": "3.6.15"
  },
  "papermill": {
   "default_parameters": {},
   "duration": 105.306478,
   "end_time": "2022-04-16T20:11:21.123565",
   "environment_variables": {},
   "exception": null,
   "input_path": "2020-08-11-part2.ipynb",
   "output_path": "2020-08-11-part2.ipynb",
   "parameters": {},
   "start_time": "2022-04-16T20:09:35.817087",
   "version": "2.3.3"
  }
 },
 "nbformat": 4,
 "nbformat_minor": 5
}