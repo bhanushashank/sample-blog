{
 "cells": [
  {
   "cell_type": "markdown",
   "id": "98380cd3",
   "metadata": {
    "papermill": {
     "duration": 0.036076,
     "end_time": "2022-02-20T20:10:05.303333",
     "exception": false,
     "start_time": "2022-02-20T20:10:05.267257",
     "status": "completed"
    },
    "tags": []
   },
   "source": [
    "# Distinguish Your Own Digits (DYOD)"
   ]
  },
  {
   "cell_type": "markdown",
   "id": "ef31240d",
   "metadata": {
    "papermill": {
     "duration": 0.032052,
     "end_time": "2022-02-20T20:10:05.367195",
     "exception": false,
     "start_time": "2022-02-20T20:10:05.335143",
     "status": "completed"
    },
    "tags": []
   },
   "source": [
    "You are going to write a classifier that distinguishes between the number 3 and number 8."
   ]
  },
  {
   "cell_type": "code",
   "execution_count": 1,
   "id": "b15c8646",
   "metadata": {
    "execution": {
     "iopub.execute_input": "2022-02-20T20:10:05.441578Z",
     "iopub.status.busy": "2022-02-20T20:10:05.440887Z",
     "iopub.status.idle": "2022-02-20T20:10:05.453194Z",
     "shell.execute_reply": "2022-02-20T20:10:05.452609Z"
    },
    "papermill": {
     "duration": 0.054747,
     "end_time": "2022-02-20T20:10:05.453344",
     "exception": false,
     "start_time": "2022-02-20T20:10:05.398597",
     "status": "completed"
    },
    "tags": []
   },
   "outputs": [],
   "source": [
    "%load_ext autoreload\n",
    "%autoreload 2"
   ]
  },
  {
   "cell_type": "code",
   "execution_count": 2,
   "id": "22ef38dc",
   "metadata": {
    "execution": {
     "iopub.execute_input": "2022-02-20T20:10:05.519408Z",
     "iopub.status.busy": "2022-02-20T20:10:05.518699Z",
     "iopub.status.idle": "2022-02-20T20:10:06.250076Z",
     "shell.execute_reply": "2022-02-20T20:10:06.249435Z"
    },
    "papermill": {
     "duration": 0.765738,
     "end_time": "2022-02-20T20:10:06.250226",
     "exception": false,
     "start_time": "2022-02-20T20:10:05.484488",
     "status": "completed"
    },
    "tags": []
   },
   "outputs": [],
   "source": [
    "%matplotlib inline\n",
    "import numpy as np\n",
    "import matplotlib.pyplot as plt\n",
    "import pandas as pd"
   ]
  },
  {
   "cell_type": "markdown",
   "id": "ba036198",
   "metadata": {
    "papermill": {
     "duration": 0.040206,
     "end_time": "2022-02-20T20:10:06.324095",
     "exception": false,
     "start_time": "2022-02-20T20:10:06.283889",
     "status": "completed"
    },
    "tags": []
   },
   "source": [
    "From the command line run `pip install mnist`. This is a library that will help you bring down the mnist dataset. If you run this from a notebook, you need to put  `!pip install mnist` in a cell by itself."
   ]
  },
  {
   "cell_type": "code",
   "execution_count": 3,
   "id": "bb6ad8a1",
   "metadata": {
    "execution": {
     "iopub.execute_input": "2022-02-20T20:10:06.391742Z",
     "iopub.status.busy": "2022-02-20T20:10:06.391034Z",
     "iopub.status.idle": "2022-02-20T20:10:08.483467Z",
     "shell.execute_reply": "2022-02-20T20:10:08.482847Z"
    },
    "papermill": {
     "duration": 2.128399,
     "end_time": "2022-02-20T20:10:08.483617",
     "exception": false,
     "start_time": "2022-02-20T20:10:06.355218",
     "status": "completed"
    },
    "tags": []
   },
   "outputs": [
    {
     "name": "stdout",
     "output_type": "stream",
     "text": [
      "Collecting mnist\r\n"
     ]
    },
    {
     "name": "stdout",
     "output_type": "stream",
     "text": [
      "  Downloading mnist-0.2.2-py2.py3-none-any.whl (3.5 kB)\r\n",
      "Requirement already satisfied: numpy in /opt/hostedtoolcache/Python/3.6.15/x64/lib/python3.6/site-packages (from mnist) (1.19.5)\r\n"
     ]
    },
    {
     "name": "stdout",
     "output_type": "stream",
     "text": [
      "Installing collected packages: mnist\r\n"
     ]
    },
    {
     "name": "stdout",
     "output_type": "stream",
     "text": [
      "Successfully installed mnist-0.2.2\r\n"
     ]
    }
   ],
   "source": [
    "!pip install mnist"
   ]
  },
  {
   "cell_type": "markdown",
   "id": "69df9c9a",
   "metadata": {
    "papermill": {
     "duration": 0.034758,
     "end_time": "2022-02-20T20:10:08.551963",
     "exception": false,
     "start_time": "2022-02-20T20:10:08.517205",
     "status": "completed"
    },
    "tags": []
   },
   "source": [
    "## Preparing the Data"
   ]
  },
  {
   "cell_type": "code",
   "execution_count": 4,
   "id": "7f69d806",
   "metadata": {
    "execution": {
     "iopub.execute_input": "2022-02-20T20:10:08.621115Z",
     "iopub.status.busy": "2022-02-20T20:10:08.620355Z",
     "iopub.status.idle": "2022-02-20T20:10:08.640114Z",
     "shell.execute_reply": "2022-02-20T20:10:08.639496Z"
    },
    "papermill": {
     "duration": 0.056001,
     "end_time": "2022-02-20T20:10:08.640278",
     "exception": false,
     "start_time": "2022-02-20T20:10:08.584277",
     "status": "completed"
    },
    "tags": []
   },
   "outputs": [],
   "source": [
    "import mnist"
   ]
  },
  {
   "cell_type": "code",
   "execution_count": 5,
   "id": "a411e44f",
   "metadata": {
    "execution": {
     "iopub.execute_input": "2022-02-20T20:10:08.712503Z",
     "iopub.status.busy": "2022-02-20T20:10:08.711826Z",
     "iopub.status.idle": "2022-02-20T20:10:09.314475Z",
     "shell.execute_reply": "2022-02-20T20:10:09.313275Z"
    },
    "papermill": {
     "duration": 0.641233,
     "end_time": "2022-02-20T20:10:09.314625",
     "exception": false,
     "start_time": "2022-02-20T20:10:08.673392",
     "status": "completed"
    },
    "tags": []
   },
   "outputs": [],
   "source": [
    "train_images = mnist.train_images()\n",
    "train_labels = mnist.train_labels()"
   ]
  },
  {
   "cell_type": "code",
   "execution_count": 6,
   "id": "dceab3a5",
   "metadata": {
    "execution": {
     "iopub.execute_input": "2022-02-20T20:10:09.387499Z",
     "iopub.status.busy": "2022-02-20T20:10:09.386558Z",
     "iopub.status.idle": "2022-02-20T20:10:09.404986Z",
     "shell.execute_reply": "2022-02-20T20:10:09.406156Z"
    },
    "papermill": {
     "duration": 0.057061,
     "end_time": "2022-02-20T20:10:09.406358",
     "exception": false,
     "start_time": "2022-02-20T20:10:09.349297",
     "status": "completed"
    },
    "tags": []
   },
   "outputs": [
    {
     "data": {
      "text/plain": [
       "((60000, 28, 28), (60000,))"
      ]
     },
     "execution_count": 6,
     "metadata": {},
     "output_type": "execute_result"
    }
   ],
   "source": [
    "train_images.shape, train_labels.shape"
   ]
  },
  {
   "cell_type": "code",
   "execution_count": 7,
   "id": "f50dc2bb",
   "metadata": {
    "execution": {
     "iopub.execute_input": "2022-02-20T20:10:09.486995Z",
     "iopub.status.busy": "2022-02-20T20:10:09.486256Z",
     "iopub.status.idle": "2022-02-20T20:10:09.659860Z",
     "shell.execute_reply": "2022-02-20T20:10:09.659244Z"
    },
    "papermill": {
     "duration": 0.215842,
     "end_time": "2022-02-20T20:10:09.660013",
     "exception": false,
     "start_time": "2022-02-20T20:10:09.444171",
     "status": "completed"
    },
    "tags": []
   },
   "outputs": [],
   "source": [
    "test_images = mnist.test_images()\n",
    "test_labels = mnist.test_labels()"
   ]
  },
  {
   "cell_type": "code",
   "execution_count": 8,
   "id": "fc38cf1b",
   "metadata": {
    "execution": {
     "iopub.execute_input": "2022-02-20T20:10:09.735569Z",
     "iopub.status.busy": "2022-02-20T20:10:09.734896Z",
     "iopub.status.idle": "2022-02-20T20:10:09.755296Z",
     "shell.execute_reply": "2022-02-20T20:10:09.754695Z"
    },
    "papermill": {
     "duration": 0.057182,
     "end_time": "2022-02-20T20:10:09.755439",
     "exception": false,
     "start_time": "2022-02-20T20:10:09.698257",
     "status": "completed"
    },
    "tags": []
   },
   "outputs": [
    {
     "data": {
      "text/plain": [
       "((10000, 28, 28), (10000,))"
      ]
     },
     "execution_count": 8,
     "metadata": {},
     "output_type": "execute_result"
    }
   ],
   "source": [
    "test_images.shape, test_labels.shape"
   ]
  },
  {
   "cell_type": "code",
   "execution_count": 9,
   "id": "f9ed8fe0",
   "metadata": {
    "execution": {
     "iopub.execute_input": "2022-02-20T20:10:09.832144Z",
     "iopub.status.busy": "2022-02-20T20:10:09.831383Z",
     "iopub.status.idle": "2022-02-20T20:10:10.017490Z",
     "shell.execute_reply": "2022-02-20T20:10:10.018083Z"
    },
    "papermill": {
     "duration": 0.225036,
     "end_time": "2022-02-20T20:10:10.018258",
     "exception": false,
     "start_time": "2022-02-20T20:10:09.793222",
     "status": "completed"
    },
    "tags": []
   },
   "outputs": [
    {
     "name": "stdout",
     "output_type": "stream",
     "text": [
      "2\n"
     ]
    },
    {
     "data": {
      "text/plain": [
       "<matplotlib.image.AxesImage at 0x7fdfda600588>"
      ]
     },
     "execution_count": 9,
     "metadata": {},
     "output_type": "execute_result"
    },
    {
     "data": {
      "image/png": "[encoded data removed]",
      "text/plain": [
       "<Figure size 432x288 with 1 Axes>"
      ]
     },
     "metadata": {
      "needs_background": "light"
     },
     "output_type": "display_data"
    }
   ],
   "source": [
    "image_index = 7776 # You may select anything up to 60,000\n",
    "print(train_labels[image_index]) \n",
    "plt.imshow(train_images[image_index], cmap='Greys')"
   ]
  },
  {
   "cell_type": "markdown",
   "id": "a8d2388d",
   "metadata": {
    "papermill": {
     "duration": 0.036747,
     "end_time": "2022-02-20T20:10:10.094853",
     "exception": false,
     "start_time": "2022-02-20T20:10:10.058106",
     "status": "completed"
    },
    "tags": []
   },
   "source": [
    "## Filter data to get 3 and 8 out"
   ]
  },
  {
   "cell_type": "code",
   "execution_count": 10,
   "id": "776f7fc7",
   "metadata": {
    "execution": {
     "iopub.execute_input": "2022-02-20T20:10:10.172599Z",
     "iopub.status.busy": "2022-02-20T20:10:10.171885Z",
     "iopub.status.idle": "2022-02-20T20:10:10.201133Z",
     "shell.execute_reply": "2022-02-20T20:10:10.202049Z"
    },
    "papermill": {
     "duration": 0.071374,
     "end_time": "2022-02-20T20:10:10.202220",
     "exception": false,
     "start_time": "2022-02-20T20:10:10.130846",
     "status": "completed"
    },
    "tags": []
   },
   "outputs": [],
   "source": [
    "train_filter = np.where((train_labels == 3 ) | (train_labels == 8))\n",
    "test_filter = np.where((test_labels == 3) | (test_labels == 8))\n",
    "X_train, y_train = train_images[train_filter], train_labels[train_filter]\n",
    "X_test, y_test = test_images[test_filter], test_labels[test_filter]"
   ]
  },
  {
   "cell_type": "markdown",
   "id": "948f0b7e",
   "metadata": {
    "papermill": {
     "duration": 0.04689,
     "end_time": "2022-02-20T20:10:10.285465",
     "exception": false,
     "start_time": "2022-02-20T20:10:10.238575",
     "status": "completed"
    },
    "tags": []
   },
   "source": [
    "We normalize the pizel values in the 0 to 1 range"
   ]
  },
  {
   "cell_type": "code",
   "execution_count": 11,
   "id": "ee4c2166",
   "metadata": {
    "execution": {
     "iopub.execute_input": "2022-02-20T20:10:10.365029Z",
     "iopub.status.busy": "2022-02-20T20:10:10.364312Z",
     "iopub.status.idle": "2022-02-20T20:10:10.433898Z",
     "shell.execute_reply": "2022-02-20T20:10:10.433180Z"
    },
    "papermill": {
     "duration": 0.11275,
     "end_time": "2022-02-20T20:10:10.434048",
     "exception": false,
     "start_time": "2022-02-20T20:10:10.321298",
     "status": "completed"
    },
    "tags": []
   },
   "outputs": [],
   "source": [
    "X_train = X_train/255.\n",
    "X_test = X_test/255."
   ]
  },
  {
   "cell_type": "markdown",
   "id": "ddcf4fab",
   "metadata": {
    "papermill": {
     "duration": 0.034775,
     "end_time": "2022-02-20T20:10:10.508316",
     "exception": false,
     "start_time": "2022-02-20T20:10:10.473541",
     "status": "completed"
    },
    "tags": []
   },
   "source": [
    "And setup the labels as 1 (when the digit is 3) and 0 (when the digit is 8)"
   ]
  },
  {
   "cell_type": "code",
   "execution_count": 12,
   "id": "7dc908f2",
   "metadata": {
    "execution": {
     "iopub.execute_input": "2022-02-20T20:10:10.600274Z",
     "iopub.status.busy": "2022-02-20T20:10:10.599582Z",
     "iopub.status.idle": "2022-02-20T20:10:10.613409Z",
     "shell.execute_reply": "2022-02-20T20:10:10.612832Z"
    },
    "papermill": {
     "duration": 0.069996,
     "end_time": "2022-02-20T20:10:10.613547",
     "exception": false,
     "start_time": "2022-02-20T20:10:10.543551",
     "status": "completed"
    },
    "tags": []
   },
   "outputs": [],
   "source": [
    "y_train = 1*(y_train==3)\n",
    "y_test = 1*(y_test==3)"
   ]
  },
  {
   "cell_type": "code",
   "execution_count": 13,
   "id": "01e4e969",
   "metadata": {
    "execution": {
     "iopub.execute_input": "2022-02-20T20:10:10.692248Z",
     "iopub.status.busy": "2022-02-20T20:10:10.691580Z",
     "iopub.status.idle": "2022-02-20T20:10:10.706938Z",
     "shell.execute_reply": "2022-02-20T20:10:10.707518Z"
    },
    "papermill": {
     "duration": 0.059628,
     "end_time": "2022-02-20T20:10:10.707662",
     "exception": false,
     "start_time": "2022-02-20T20:10:10.648034",
     "status": "completed"
    },
    "tags": []
   },
   "outputs": [
    {
     "data": {
      "text/plain": [
       "((11982, 28, 28), (1984, 28, 28))"
      ]
     },
     "execution_count": 13,
     "metadata": {},
     "output_type": "execute_result"
    }
   ],
   "source": [
    "X_train.shape, X_test.shape"
   ]
  },
  {
   "cell_type": "markdown",
   "id": "5ccf3f85",
   "metadata": {
    "papermill": {
     "duration": 0.040385,
     "end_time": "2022-02-20T20:10:10.782889",
     "exception": false,
     "start_time": "2022-02-20T20:10:10.742504",
     "status": "completed"
    },
    "tags": []
   },
   "source": [
    "We reshape the data to flatten the image pixels into a set of features or co-variates:"
   ]
  },
  {
   "cell_type": "code",
   "execution_count": 14,
   "id": "5286a4a3",
   "metadata": {
    "execution": {
     "iopub.execute_input": "2022-02-20T20:10:10.872654Z",
     "iopub.status.busy": "2022-02-20T20:10:10.871972Z",
     "iopub.status.idle": "2022-02-20T20:10:10.886542Z",
     "shell.execute_reply": "2022-02-20T20:10:10.885981Z"
    },
    "papermill": {
     "duration": 0.057372,
     "end_time": "2022-02-20T20:10:10.886666",
     "exception": false,
     "start_time": "2022-02-20T20:10:10.829294",
     "status": "completed"
    },
    "tags": []
   },
   "outputs": [
    {
     "data": {
      "text/plain": [
       "((11982, 784), (1984, 784))"
      ]
     },
     "execution_count": 14,
     "metadata": {},
     "output_type": "execute_result"
    }
   ],
   "source": [
    "X_train = X_train.reshape(X_train.shape[0], -1)\n",
    "X_test = X_test.reshape(X_test.shape[0], -1)\n",
    "X_train.shape, X_test.shape"
   ]
  },
  {
   "cell_type": "code",
   "execution_count": 15,
   "id": "73c5f88a",
   "metadata": {
    "execution": {
     "iopub.execute_input": "2022-02-20T20:10:10.960564Z",
     "iopub.status.busy": "2022-02-20T20:10:10.959897Z",
     "iopub.status.idle": "2022-02-20T20:10:10.981303Z",
     "shell.execute_reply": "2022-02-20T20:10:10.981983Z"
    },
    "papermill": {
     "duration": 0.061056,
     "end_time": "2022-02-20T20:10:10.982128",
     "exception": false,
     "start_time": "2022-02-20T20:10:10.921072",
     "status": "completed"
    },
    "tags": []
   },
   "outputs": [],
   "source": [
    "#Impoting functions from 'Kudzu'\n",
    "from kudzu.model import Model\n",
    "from kudzu.train import Learner\n",
    "from kudzu.optim import GD\n",
    "from kudzu.data import Data, Sampler,Dataloader\n",
    "\n",
    "from kudzu.callbacks import AccCallback\n",
    "from kudzu.callbacks import ClfCallback\n",
    "\n",
    "from kudzu.loss import MSE\n",
    "\n",
    "from kudzu.layer import Sigmoid,Relu\n",
    "from kudzu.layer import Affine"
   ]
  },
  {
   "cell_type": "markdown",
   "id": "bc01172a",
   "metadata": {
    "papermill": {
     "duration": 0.034762,
     "end_time": "2022-02-20T20:10:11.052826",
     "exception": false,
     "start_time": "2022-02-20T20:10:11.018064",
     "status": "completed"
    },
    "tags": []
   },
   "source": [
    "### Let us create a `Config` class, to store important parameters. \n",
    "This class essentially plays the role of a dictionary."
   ]
  },
  {
   "cell_type": "code",
   "execution_count": 16,
   "id": "978281aa",
   "metadata": {
    "execution": {
     "iopub.execute_input": "2022-02-20T20:10:11.137899Z",
     "iopub.status.busy": "2022-02-20T20:10:11.136648Z",
     "iopub.status.idle": "2022-02-20T20:10:11.152629Z",
     "shell.execute_reply": "2022-02-20T20:10:11.151470Z"
    },
    "papermill": {
     "duration": 0.058739,
     "end_time": "2022-02-20T20:10:11.152857",
     "exception": false,
     "start_time": "2022-02-20T20:10:11.094118",
     "status": "completed"
    },
    "tags": []
   },
   "outputs": [],
   "source": [
    "class Config:\n",
    "    pass\n",
    "config = Config()\n",
    "config.lr = 0.001\n",
    "config.num_epochs = 250\n",
    "config.bs = 50"
   ]
  },
  {
   "cell_type": "markdown",
   "id": "1385fa59",
   "metadata": {
    "papermill": {
     "duration": 0.036233,
     "end_time": "2022-02-20T20:10:11.233511",
     "exception": false,
     "start_time": "2022-02-20T20:10:11.197278",
     "status": "completed"
    },
    "tags": []
   },
   "source": [
    "### Running Models with the Training data\n",
    "Details about the network layers:\n",
    "- A first affine layer has 784 inputs and does 100 affine transforms. These are followed by a Relu\n",
    "- A second affine layer has 100 inputs from the 100 activations of the past layer, and does 100 affine transforms. These are followed by a Relu\n",
    "- A third affine layer has 100 activations and does 2 affine transformations to create an embedding for visualization. There is no non-linearity here.\n",
    "- A final \"logistic regression\" which has an affine transform from 2 inputs to 1 output, which is squeezed through a sigmoid.\n"
   ]
  },
  {
   "cell_type": "code",
   "execution_count": 17,
   "id": "2b9c66db",
   "metadata": {
    "execution": {
     "iopub.execute_input": "2022-02-20T20:10:11.323619Z",
     "iopub.status.busy": "2022-02-20T20:10:11.322897Z",
     "iopub.status.idle": "2022-02-20T20:10:11.337374Z",
     "shell.execute_reply": "2022-02-20T20:10:11.336508Z"
    },
    "papermill": {
     "duration": 0.057076,
     "end_time": "2022-02-20T20:10:11.337558",
     "exception": false,
     "start_time": "2022-02-20T20:10:11.280482",
     "status": "completed"
    },
    "tags": []
   },
   "outputs": [],
   "source": [
    "data = Data(X_train, y_train.reshape(-1,1))\n",
    "sampler = Sampler(data, config.bs, shuffle=True)\n",
    "\n",
    "dl = Dataloader(data, sampler)\n",
    "\n",
    "opt = GD(config.lr)\n",
    "loss = MSE()"
   ]
  },
  {
   "cell_type": "code",
   "execution_count": 18,
   "id": "b275e4c2",
   "metadata": {
    "execution": {
     "iopub.execute_input": "2022-02-20T20:10:11.419264Z",
     "iopub.status.busy": "2022-02-20T20:10:11.418535Z",
     "iopub.status.idle": "2022-02-20T20:10:11.430501Z",
     "shell.execute_reply": "2022-02-20T20:10:11.431222Z"
    },
    "papermill": {
     "duration": 0.056859,
     "end_time": "2022-02-20T20:10:11.431384",
     "exception": false,
     "start_time": "2022-02-20T20:10:11.374525",
     "status": "completed"
    },
    "tags": []
   },
   "outputs": [],
   "source": [
    "training_data_x = X_train\n",
    "testing_data_x = X_test\n",
    "training_data_y = y_train.reshape(-1,1)\n",
    "testing_data_y = y_test.reshape(-1,1)"
   ]
  },
  {
   "cell_type": "code",
   "execution_count": 19,
   "id": "76951160",
   "metadata": {
    "execution": {
     "iopub.execute_input": "2022-02-20T20:10:11.522762Z",
     "iopub.status.busy": "2022-02-20T20:10:11.522053Z",
     "iopub.status.idle": "2022-02-20T20:10:11.543127Z",
     "shell.execute_reply": "2022-02-20T20:10:11.543644Z"
    },
    "papermill": {
     "duration": 0.075932,
     "end_time": "2022-02-20T20:10:11.543790",
     "exception": false,
     "start_time": "2022-02-20T20:10:11.467858",
     "status": "completed"
    },
    "tags": []
   },
   "outputs": [
    {
     "name": "stdout",
     "output_type": "stream",
     "text": [
      "xavier\n",
      "xavier\n",
      "xavier\n",
      "xavier\n",
      "xavier\n"
     ]
    }
   ],
   "source": [
    "layers = [Affine(\"first\", 784, 100), Relu(\"first\"), Affine(\"second\", 100, 100), Relu(\"second\"), Affine(\"third\", 100, 2), Affine(\"last\", 2, 1), Sigmoid(\"last\")]\n",
    "model_nn = Model(layers)\n",
    "model_lr = Model([Affine(\"logits\", 784, 1), Sigmoid(\"sigmoid\")])"
   ]
  },
  {
   "cell_type": "code",
   "execution_count": 20,
   "id": "6eede77a",
   "metadata": {
    "execution": {
     "iopub.execute_input": "2022-02-20T20:10:11.627793Z",
     "iopub.status.busy": "2022-02-20T20:10:11.627099Z",
     "iopub.status.idle": "2022-02-20T20:10:11.641172Z",
     "shell.execute_reply": "2022-02-20T20:10:11.640604Z"
    },
    "papermill": {
     "duration": 0.055831,
     "end_time": "2022-02-20T20:10:11.641306",
     "exception": false,
     "start_time": "2022-02-20T20:10:11.585475",
     "status": "completed"
    },
    "tags": []
   },
   "outputs": [],
   "source": [
    "nn_learner = Learner(loss, model_nn, opt, config.num_epochs)\n",
    "acc_nn = ClfCallback(nn_learner, config.bs, training_data_x , testing_data_x, training_data_y, testing_data_y)\n",
    "nn_learner.set_callbacks([acc_nn])"
   ]
  },
  {
   "cell_type": "code",
   "execution_count": 21,
   "id": "877b6cc7",
   "metadata": {
    "execution": {
     "iopub.execute_input": "2022-02-20T20:10:11.727705Z",
     "iopub.status.busy": "2022-02-20T20:10:11.726502Z",
     "iopub.status.idle": "2022-02-20T20:10:11.738440Z",
     "shell.execute_reply": "2022-02-20T20:10:11.737886Z"
    },
    "papermill": {
     "duration": 0.055566,
     "end_time": "2022-02-20T20:10:11.738588",
     "exception": false,
     "start_time": "2022-02-20T20:10:11.683022",
     "status": "completed"
    },
    "tags": []
   },
   "outputs": [],
   "source": [
    "lr_learner = Learner(loss, model_lr, opt, config.num_epochs)\n",
    "acc_lr = ClfCallback(lr_learner, config.bs, training_data_x , testing_data_x, training_data_y, testing_data_y)\n",
    "lr_learner.set_callbacks([acc_lr])"
   ]
  },
  {
   "cell_type": "code",
   "execution_count": 22,
   "id": "d9b133c3",
   "metadata": {
    "execution": {
     "iopub.execute_input": "2022-02-20T20:10:11.823330Z",
     "iopub.status.busy": "2022-02-20T20:10:11.822393Z",
     "iopub.status.idle": "2022-02-20T20:12:34.103473Z",
     "shell.execute_reply": "2022-02-20T20:12:34.104446Z"
    },
    "papermill": {
     "duration": 142.326278,
     "end_time": "2022-02-20T20:12:34.104630",
     "exception": false,
     "start_time": "2022-02-20T20:10:11.778352",
     "status": "completed"
    },
    "tags": []
   },
   "outputs": [
    {
     "name": "stdout",
     "output_type": "stream",
     "text": [
      "Epoch 0, Loss 0.2309\n",
      "Training Accuracy: 0.7162, Testing Accuracy: 0.7147\n",
      "\n"
     ]
    },
    {
     "name": "stdout",
     "output_type": "stream",
     "text": [
      "Epoch 10, Loss 0.1203\n",
      "Training Accuracy: 0.9064, Testing Accuracy: 0.9173\n",
      "\n"
     ]
    },
    {
     "name": "stdout",
     "output_type": "stream",
     "text": [
      "Epoch 20, Loss 0.0649\n",
      "Training Accuracy: 0.9387, Testing Accuracy: 0.9466\n",
      "\n"
     ]
    },
    {
     "name": "stdout",
     "output_type": "stream",
     "text": [
      "Epoch 30, Loss 0.0481\n",
      "Training Accuracy: 0.9493, Testing Accuracy: 0.9556\n",
      "\n"
     ]
    },
    {
     "name": "stdout",
     "output_type": "stream",
     "text": [
      "Epoch 40, Loss 0.0407\n",
      "Training Accuracy: 0.9548, Testing Accuracy: 0.9612\n",
      "\n"
     ]
    },
    {
     "name": "stdout",
     "output_type": "stream",
     "text": [
      "Epoch 50, Loss 0.0365\n",
      "Training Accuracy: 0.9589, Testing Accuracy: 0.9662\n",
      "\n"
     ]
    },
    {
     "name": "stdout",
     "output_type": "stream",
     "text": [
      "Epoch 60, Loss 0.0337\n",
      "Training Accuracy: 0.9610, Testing Accuracy: 0.9682\n",
      "\n"
     ]
    },
    {
     "name": "stdout",
     "output_type": "stream",
     "text": [
      "Epoch 70, Loss 0.0316\n",
      "Training Accuracy: 0.9632, Testing Accuracy: 0.9693\n",
      "\n"
     ]
    },
    {
     "name": "stdout",
     "output_type": "stream",
     "text": [
      "Epoch 80, Loss 0.03\n",
      "Training Accuracy: 0.9647, Testing Accuracy: 0.9693\n",
      "\n"
     ]
    },
    {
     "name": "stdout",
     "output_type": "stream",
     "text": [
      "Epoch 90, Loss 0.0287\n",
      "Training Accuracy: 0.9666, Testing Accuracy: 0.9698\n",
      "\n"
     ]
    },
    {
     "name": "stdout",
     "output_type": "stream",
     "text": [
      "Epoch 100, Loss 0.0276\n",
      "Training Accuracy: 0.9680, Testing Accuracy: 0.9723\n",
      "\n"
     ]
    },
    {
     "name": "stdout",
     "output_type": "stream",
     "text": [
      "Epoch 110, Loss 0.0267\n",
      "Training Accuracy: 0.9694, Testing Accuracy: 0.9733\n",
      "\n"
     ]
    },
    {
     "name": "stdout",
     "output_type": "stream",
     "text": [
      "Epoch 120, Loss 0.0259\n",
      "Training Accuracy: 0.9707, Testing Accuracy: 0.9723\n",
      "\n"
     ]
    },
    {
     "name": "stdout",
     "output_type": "stream",
     "text": [
      "Epoch 130, Loss 0.0251\n",
      "Training Accuracy: 0.9706, Testing Accuracy: 0.9728\n",
      "\n"
     ]
    },
    {
     "name": "stdout",
     "output_type": "stream",
     "text": [
      "Epoch 140, Loss 0.0245\n",
      "Training Accuracy: 0.9718, Testing Accuracy: 0.9738\n",
      "\n"
     ]
    },
    {
     "name": "stdout",
     "output_type": "stream",
     "text": [
      "Epoch 150, Loss 0.0239\n",
      "Training Accuracy: 0.9722, Testing Accuracy: 0.9733\n",
      "\n"
     ]
    },
    {
     "name": "stdout",
     "output_type": "stream",
     "text": [
      "Epoch 160, Loss 0.0233\n",
      "Training Accuracy: 0.9730, Testing Accuracy: 0.9738\n",
      "\n"
     ]
    },
    {
     "name": "stdout",
     "output_type": "stream",
     "text": [
      "Epoch 170, Loss 0.0228\n",
      "Training Accuracy: 0.9739, Testing Accuracy: 0.9728\n",
      "\n"
     ]
    },
    {
     "name": "stdout",
     "output_type": "stream",
     "text": [
      "Epoch 180, Loss 0.0223\n",
      "Training Accuracy: 0.9743, Testing Accuracy: 0.9733\n",
      "\n"
     ]
    },
    {
     "name": "stdout",
     "output_type": "stream",
     "text": [
      "Epoch 190, Loss 0.0219\n",
      "Training Accuracy: 0.9751, Testing Accuracy: 0.9733\n",
      "\n"
     ]
    },
    {
     "name": "stdout",
     "output_type": "stream",
     "text": [
      "Epoch 200, Loss 0.0214\n",
      "Training Accuracy: 0.9754, Testing Accuracy: 0.9733\n",
      "\n"
     ]
    },
    {
     "name": "stdout",
     "output_type": "stream",
     "text": [
      "Epoch 210, Loss 0.021\n",
      "Training Accuracy: 0.9757, Testing Accuracy: 0.9728\n",
      "\n"
     ]
    },
    {
     "name": "stdout",
     "output_type": "stream",
     "text": [
      "Epoch 220, Loss 0.0206\n",
      "Training Accuracy: 0.9764, Testing Accuracy: 0.9728\n",
      "\n"
     ]
    },
    {
     "name": "stdout",
     "output_type": "stream",
     "text": [
      "Epoch 230, Loss 0.0203\n",
      "Training Accuracy: 0.9766, Testing Accuracy: 0.9738\n",
      "\n"
     ]
    },
    {
     "name": "stdout",
     "output_type": "stream",
     "text": [
      "Epoch 240, Loss 0.0199\n",
      "Training Accuracy: 0.9774, Testing Accuracy: 0.9753\n",
      "\n"
     ]
    },
    {
     "data": {
      "text/plain": [
       "0.026352207478879373"
      ]
     },
     "execution_count": 22,
     "metadata": {},
     "output_type": "execute_result"
    }
   ],
   "source": [
    "nn_learner.train_loop(dl)"
   ]
  },
  {
   "cell_type": "code",
   "execution_count": 23,
   "id": "e0163366",
   "metadata": {
    "execution": {
     "iopub.execute_input": "2022-02-20T20:12:34.204596Z",
     "iopub.status.busy": "2022-02-20T20:12:34.203926Z",
     "iopub.status.idle": "2022-02-20T20:12:54.209474Z",
     "shell.execute_reply": "2022-02-20T20:12:54.210348Z"
    },
    "papermill": {
     "duration": 20.060832,
     "end_time": "2022-02-20T20:12:54.210519",
     "exception": false,
     "start_time": "2022-02-20T20:12:34.149687",
     "status": "completed"
    },
    "tags": []
   },
   "outputs": [
    {
     "name": "stdout",
     "output_type": "stream",
     "text": [
      "Epoch 0, Loss 0.2561\n",
      "Training Accuracy: 0.6228, Testing Accuracy: 0.6074\n",
      "\n"
     ]
    },
    {
     "name": "stdout",
     "output_type": "stream",
     "text": [
      "Epoch 10, Loss 0.1061\n",
      "Training Accuracy: 0.9075, Testing Accuracy: 0.9168\n",
      "\n"
     ]
    },
    {
     "name": "stdout",
     "output_type": "stream",
     "text": [
      "Epoch 20, Loss 0.0803\n",
      "Training Accuracy: 0.9276, Testing Accuracy: 0.9345\n",
      "\n"
     ]
    },
    {
     "name": "stdout",
     "output_type": "stream",
     "text": [
      "Epoch 30, Loss 0.0688\n",
      "Training Accuracy: 0.9358, Testing Accuracy: 0.9456\n",
      "\n"
     ]
    },
    {
     "name": "stdout",
     "output_type": "stream",
     "text": [
      "Epoch 40, Loss 0.062\n",
      "Training Accuracy: 0.9417, Testing Accuracy: 0.9486\n",
      "\n"
     ]
    },
    {
     "name": "stdout",
     "output_type": "stream",
     "text": [
      "Epoch 50, Loss 0.0574\n",
      "Training Accuracy: 0.9442, Testing Accuracy: 0.9516\n",
      "\n"
     ]
    },
    {
     "name": "stdout",
     "output_type": "stream",
     "text": [
      "Epoch 60, Loss 0.054\n",
      "Training Accuracy: 0.9465, Testing Accuracy: 0.9546\n",
      "\n"
     ]
    },
    {
     "name": "stdout",
     "output_type": "stream",
     "text": [
      "Epoch 70, Loss 0.0515\n",
      "Training Accuracy: 0.9473, Testing Accuracy: 0.9567\n",
      "\n"
     ]
    },
    {
     "name": "stdout",
     "output_type": "stream",
     "text": [
      "Epoch 80, Loss 0.0494\n",
      "Training Accuracy: 0.9485, Testing Accuracy: 0.9577\n",
      "\n"
     ]
    },
    {
     "name": "stdout",
     "output_type": "stream",
     "text": [
      "Epoch 90, Loss 0.0477\n",
      "Training Accuracy: 0.9503, Testing Accuracy: 0.9597\n",
      "\n"
     ]
    },
    {
     "name": "stdout",
     "output_type": "stream",
     "text": [
      "Epoch 100, Loss 0.0462\n",
      "Training Accuracy: 0.9514, Testing Accuracy: 0.9602\n",
      "\n"
     ]
    },
    {
     "name": "stdout",
     "output_type": "stream",
     "text": [
      "Epoch 110, Loss 0.045\n",
      "Training Accuracy: 0.9526, Testing Accuracy: 0.9612\n",
      "\n"
     ]
    },
    {
     "name": "stdout",
     "output_type": "stream",
     "text": [
      "Epoch 120, Loss 0.0439\n",
      "Training Accuracy: 0.9534, Testing Accuracy: 0.9622\n",
      "\n"
     ]
    },
    {
     "name": "stdout",
     "output_type": "stream",
     "text": [
      "Epoch 130, Loss 0.043\n",
      "Training Accuracy: 0.9541, Testing Accuracy: 0.9632\n",
      "\n"
     ]
    },
    {
     "name": "stdout",
     "output_type": "stream",
     "text": [
      "Epoch 140, Loss 0.0422\n",
      "Training Accuracy: 0.9548, Testing Accuracy: 0.9637\n",
      "\n"
     ]
    },
    {
     "name": "stdout",
     "output_type": "stream",
     "text": [
      "Epoch 150, Loss 0.0414\n",
      "Training Accuracy: 0.9557, Testing Accuracy: 0.9637\n",
      "\n"
     ]
    },
    {
     "name": "stdout",
     "output_type": "stream",
     "text": [
      "Epoch 160, Loss 0.0407\n",
      "Training Accuracy: 0.9561, Testing Accuracy: 0.9642\n",
      "\n"
     ]
    },
    {
     "name": "stdout",
     "output_type": "stream",
     "text": [
      "Epoch 170, Loss 0.0401\n",
      "Training Accuracy: 0.9566, Testing Accuracy: 0.9652\n",
      "\n"
     ]
    },
    {
     "name": "stdout",
     "output_type": "stream",
     "text": [
      "Epoch 180, Loss 0.0396\n",
      "Training Accuracy: 0.9571, Testing Accuracy: 0.9662\n",
      "\n"
     ]
    },
    {
     "name": "stdout",
     "output_type": "stream",
     "text": [
      "Epoch 190, Loss 0.039\n",
      "Training Accuracy: 0.9578, Testing Accuracy: 0.9652\n",
      "\n"
     ]
    },
    {
     "name": "stdout",
     "output_type": "stream",
     "text": [
      "Epoch 200, Loss 0.0386\n",
      "Training Accuracy: 0.9580, Testing Accuracy: 0.9652\n",
      "\n"
     ]
    },
    {
     "name": "stdout",
     "output_type": "stream",
     "text": [
      "Epoch 210, Loss 0.0381\n",
      "Training Accuracy: 0.9584, Testing Accuracy: 0.9657\n",
      "\n"
     ]
    },
    {
     "name": "stdout",
     "output_type": "stream",
     "text": [
      "Epoch 220, Loss 0.0377\n",
      "Training Accuracy: 0.9589, Testing Accuracy: 0.9657\n",
      "\n"
     ]
    },
    {
     "name": "stdout",
     "output_type": "stream",
     "text": [
      "Epoch 230, Loss 0.0373\n",
      "Training Accuracy: 0.9594, Testing Accuracy: 0.9662\n",
      "\n"
     ]
    },
    {
     "name": "stdout",
     "output_type": "stream",
     "text": [
      "Epoch 240, Loss 0.037\n",
      "Training Accuracy: 0.9603, Testing Accuracy: 0.9657\n",
      "\n"
     ]
    },
    {
     "data": {
      "text/plain": [
       "0.061591212116362176"
      ]
     },
     "execution_count": 23,
     "metadata": {},
     "output_type": "execute_result"
    }
   ],
   "source": [
    "lr_learner.train_loop(dl)"
   ]
  },
  {
   "cell_type": "code",
   "execution_count": 24,
   "id": "ca410940",
   "metadata": {
    "execution": {
     "iopub.execute_input": "2022-02-20T20:12:54.326982Z",
     "iopub.status.busy": "2022-02-20T20:12:54.325605Z",
     "iopub.status.idle": "2022-02-20T20:12:54.645981Z",
     "shell.execute_reply": "2022-02-20T20:12:54.646553Z"
    },
    "papermill": {
     "duration": 0.381749,
     "end_time": "2022-02-20T20:12:54.646723",
     "exception": false,
     "start_time": "2022-02-20T20:12:54.264974",
     "status": "completed"
    },
    "tags": []
   },
   "outputs": [
    {
     "data": {
      "text/plain": [
       "<matplotlib.legend.Legend at 0x7fdfda1dbcc0>"
      ]
     },
     "execution_count": 24,
     "metadata": {},
     "output_type": "execute_result"
    },
    {
     "data": {
      "image/png": "[encoded data removed]",
      "text/plain": [
       "<Figure size 1080x720 with 1 Axes>"
      ]
     },
     "metadata": {
      "needs_background": "light"
     },
     "output_type": "display_data"
    }
   ],
   "source": [
    "#comparing the results of NN and LR\n",
    "plt.figure(figsize=(15,10))\n",
    "\n",
    "# Neural Network plots\n",
    "plt.plot(acc_nn.accuracies, 'r-', label = \"Training Accuracies - NN\")\n",
    "plt.plot(acc_nn.test_accuracies, 'g-', label = \"Testing Accuracies - NN\")\n",
    "\n",
    "# Logistic Regression plots\n",
    "plt.plot(acc_lr.accuracies, 'k-', label = \"Training Accuracies - LR\")\n",
    "plt.plot(acc_lr.test_accuracies, 'b-', label = \"Testing Accuracies - LR\")\n",
    "plt.legend()"
   ]
  },
  {
   "cell_type": "markdown",
   "id": "80dfb35c",
   "metadata": {
    "papermill": {
     "duration": 0.054974,
     "end_time": "2022-02-20T20:12:54.758191",
     "exception": false,
     "start_time": "2022-02-20T20:12:54.703217",
     "status": "completed"
    },
    "tags": []
   },
   "source": [
    "#### Plotting the outputs of this layer of the NN.\n"
   ]
  },
  {
   "cell_type": "code",
   "execution_count": 25,
   "id": "45eb2ff5",
   "metadata": {
    "execution": {
     "iopub.execute_input": "2022-02-20T20:12:54.881581Z",
     "iopub.status.busy": "2022-02-20T20:12:54.880912Z",
     "iopub.status.idle": "2022-02-20T20:12:54.907698Z",
     "shell.execute_reply": "2022-02-20T20:12:54.908258Z"
    },
    "papermill": {
     "duration": 0.091385,
     "end_time": "2022-02-20T20:12:54.908408",
     "exception": false,
     "start_time": "2022-02-20T20:12:54.817023",
     "status": "completed"
    },
    "tags": []
   },
   "outputs": [],
   "source": [
    "new_model = Model(layers[:-2])\n",
    "testing_plot = new_model(testing_data_x)"
   ]
  },
  {
   "cell_type": "code",
   "execution_count": 26,
   "id": "4c0a5485",
   "metadata": {
    "execution": {
     "iopub.execute_input": "2022-02-20T20:12:55.025198Z",
     "iopub.status.busy": "2022-02-20T20:12:55.024494Z",
     "iopub.status.idle": "2022-02-20T20:12:55.294250Z",
     "shell.execute_reply": "2022-02-20T20:12:55.293675Z"
    },
    "papermill": {
     "duration": 0.330952,
     "end_time": "2022-02-20T20:12:55.294402",
     "exception": false,
     "start_time": "2022-02-20T20:12:54.963450",
     "status": "completed"
    },
    "tags": []
   },
   "outputs": [
    {
     "data": {
      "text/plain": [
       "Text(0.5, 1.0, 'Outputs')"
      ]
     },
     "execution_count": 26,
     "metadata": {},
     "output_type": "execute_result"
    },
    {
     "data": {
      "image/png": "[encoded data removed]",
      "text/plain": [
       "<Figure size 576x504 with 1 Axes>"
      ]
     },
     "metadata": {
      "needs_background": "light"
     },
     "output_type": "display_data"
    }
   ],
   "source": [
    "# Plotting the scatter plot of points and color coding by class\n",
    "plt.figure(figsize=(8,7))\n",
    "plt.scatter(testing_plot[:,0], testing_plot[:,1], alpha = 0.1, c = y_test.ravel());\n",
    "plt.title('Outputs')"
   ]
  },
  {
   "cell_type": "markdown",
   "id": "a74fcf8f",
   "metadata": {
    "papermill": {
     "duration": 0.059077,
     "end_time": "2022-02-20T20:12:55.414869",
     "exception": false,
     "start_time": "2022-02-20T20:12:55.355792",
     "status": "completed"
    },
    "tags": []
   },
   "source": [
    "Probability contours"
   ]
  },
  {
   "cell_type": "code",
   "execution_count": 27,
   "id": "d0afc8e3",
   "metadata": {
    "execution": {
     "iopub.execute_input": "2022-02-20T20:12:55.563787Z",
     "iopub.status.busy": "2022-02-20T20:12:55.562967Z",
     "iopub.status.idle": "2022-02-20T20:12:55.576275Z",
     "shell.execute_reply": "2022-02-20T20:12:55.575646Z"
    },
    "papermill": {
     "duration": 0.078532,
     "end_time": "2022-02-20T20:12:55.576436",
     "exception": false,
     "start_time": "2022-02-20T20:12:55.497904",
     "status": "completed"
    },
    "tags": []
   },
   "outputs": [],
   "source": [
    "model_prob = Model(layers[-2:]) "
   ]
  },
  {
   "cell_type": "code",
   "execution_count": 28,
   "id": "9b96e238",
   "metadata": {
    "execution": {
     "iopub.execute_input": "2022-02-20T20:12:55.700471Z",
     "iopub.status.busy": "2022-02-20T20:12:55.699769Z",
     "iopub.status.idle": "2022-02-20T20:12:55.714009Z",
     "shell.execute_reply": "2022-02-20T20:12:55.714670Z"
    },
    "papermill": {
     "duration": 0.07959,
     "end_time": "2022-02-20T20:12:55.714880",
     "exception": false,
     "start_time": "2022-02-20T20:12:55.635290",
     "status": "completed"
    },
    "tags": []
   },
   "outputs": [],
   "source": [
    "#creating the x and y ranges according to the above generated plot.\n",
    "x_range = np.linspace(-4, 1, 100) \n",
    "y_range = np.linspace(-6, 6, 100) \n",
    "x_grid, y_grid = np.meshgrid(x_range, y_range) # x_grid and y_grig are of size 100 X 100\n",
    "\n",
    "# converting x_grid and y_grid to continuous arrays\n",
    "x_gridflat = np.ravel(x_grid)\n",
    "y_gridflat = np.ravel(y_grid)\n",
    "\n",
    "# The last layer of the current model takes two columns as input. Hence transpose of np.vstack() is required.\n",
    "X = np.vstack((x_gridflat, y_gridflat)).T\n",
    "\n",
    "prob_contour = model_prob(X).reshape(100,100) "
   ]
  },
  {
   "cell_type": "code",
   "execution_count": 29,
   "id": "da72499a",
   "metadata": {
    "execution": {
     "iopub.execute_input": "2022-02-20T20:12:55.836191Z",
     "iopub.status.busy": "2022-02-20T20:12:55.835387Z",
     "iopub.status.idle": "2022-02-20T20:12:56.181731Z",
     "shell.execute_reply": "2022-02-20T20:12:56.182286Z"
    },
    "papermill": {
     "duration": 0.409192,
     "end_time": "2022-02-20T20:12:56.182453",
     "exception": false,
     "start_time": "2022-02-20T20:12:55.773261",
     "status": "completed"
    },
    "tags": []
   },
   "outputs": [
    {
     "data": {
      "image/png": "[encoded data removed]",
      "text/plain": [
       "<Figure size 720x648 with 1 Axes>"
      ]
     },
     "metadata": {
      "needs_background": "light"
     },
     "output_type": "display_data"
    }
   ],
   "source": [
    "plt.figure(figsize=(10,9))\n",
    "plt.scatter(testing_plot[:,0], testing_plot[:,1], alpha = 0.1, c = y_test.ravel())\n",
    "contours = plt.contour(x_grid,y_grid,prob_contour)\n",
    "plt.title('Probability Contours')\n",
    "plt.clabel(contours, inline = True );"
   ]
  },
  {
   "cell_type": "code",
   "execution_count": null,
   "id": "e81b4ac7",
   "metadata": {
    "papermill": {
     "duration": 0.060281,
     "end_time": "2022-02-20T20:12:56.303452",
     "exception": false,
     "start_time": "2022-02-20T20:12:56.243171",
     "status": "completed"
    },
    "tags": []
   },
   "outputs": [],
   "source": []
  }
 ],
 "metadata": {
  "kernelspec": {
   "display_name": "Python 3",
   "language": "python",
   "name": "python3"
  },
  "language_info": {
   "codemirror_mode": {
    "name": "ipython",
    "version": 3
   },
   "file_extension": ".py",
   "mimetype": "text/x-python",
   "name": "python",
   "nbconvert_exporter": "python",
   "pygments_lexer": "ipython3",
   "version": "3.6.15"
  },
  "papermill": {
   "default_parameters": {},
   "duration": 172.887522,
   "end_time": "2022-02-20T20:12:56.781907",
   "environment_variables": {},
   "exception": null,
   "input_path": "2020-08-11-part2.ipynb",
   "output_path": "2020-08-11-part2.ipynb",
   "parameters": {},
   "start_time": "2022-02-20T20:10:03.894385",
   "version": "2.3.3"
  }
 },
 "nbformat": 4,
 "nbformat_minor": 5
}