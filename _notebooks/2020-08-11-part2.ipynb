{
 "cells": [
  {
   "cell_type": "markdown",
   "id": "98380cd3",
   "metadata": {
    "papermill": {
     "duration": 0.034908,
     "end_time": "2022-09-13T00:45:53.045930",
     "exception": false,
     "start_time": "2022-09-13T00:45:53.011022",
     "status": "completed"
    },
    "tags": []
   },
   "source": [
    "# Distinguish Your Own Digits (DYOD)"
   ]
  },
  {
   "cell_type": "markdown",
   "id": "ef31240d",
   "metadata": {
    "papermill": {
     "duration": 0.029182,
     "end_time": "2022-09-13T00:45:53.104049",
     "exception": false,
     "start_time": "2022-09-13T00:45:53.074867",
     "status": "completed"
    },
    "tags": []
   },
   "source": [
    "You are going to write a classifier that distinguishes between the number 3 and number 8."
   ]
  },
  {
   "cell_type": "code",
   "execution_count": 1,
   "id": "b15c8646",
   "metadata": {
    "execution": {
     "iopub.execute_input": "2022-09-13T00:45:53.174590Z",
     "iopub.status.busy": "2022-09-13T00:45:53.173801Z",
     "iopub.status.idle": "2022-09-13T00:45:53.186149Z",
     "shell.execute_reply": "2022-09-13T00:45:53.185570Z"
    },
    "papermill": {
     "duration": 0.052753,
     "end_time": "2022-09-13T00:45:53.186299",
     "exception": false,
     "start_time": "2022-09-13T00:45:53.133546",
     "status": "completed"
    },
    "tags": []
   },
   "outputs": [],
   "source": [
    "%load_ext autoreload\n",
    "%autoreload 2"
   ]
  },
  {
   "cell_type": "code",
   "execution_count": 2,
   "id": "22ef38dc",
   "metadata": {
    "execution": {
     "iopub.execute_input": "2022-09-13T00:45:53.241476Z",
     "iopub.status.busy": "2022-09-13T00:45:53.240698Z",
     "iopub.status.idle": "2022-09-13T00:45:53.851757Z",
     "shell.execute_reply": "2022-09-13T00:45:53.852267Z"
    },
    "papermill": {
     "duration": 0.640529,
     "end_time": "2022-09-13T00:45:53.852433",
     "exception": false,
     "start_time": "2022-09-13T00:45:53.211904",
     "status": "completed"
    },
    "tags": []
   },
   "outputs": [],
   "source": [
    "%matplotlib inline\n",
    "import numpy as np\n",
    "import matplotlib.pyplot as plt\n",
    "import pandas as pd"
   ]
  },
  {
   "cell_type": "markdown",
   "id": "ba036198",
   "metadata": {
    "papermill": {
     "duration": 0.028493,
     "end_time": "2022-09-13T00:45:53.911885",
     "exception": false,
     "start_time": "2022-09-13T00:45:53.883392",
     "status": "completed"
    },
    "tags": []
   },
   "source": [
    "From the command line run `pip install mnist`. This is a library that will help you bring down the mnist dataset. If you run this from a notebook, you need to put  `!pip install mnist` in a cell by itself."
   ]
  },
  {
   "cell_type": "code",
   "execution_count": 3,
   "id": "bb6ad8a1",
   "metadata": {
    "execution": {
     "iopub.execute_input": "2022-09-13T00:45:53.975956Z",
     "iopub.status.busy": "2022-09-13T00:45:53.975140Z",
     "iopub.status.idle": "2022-09-13T00:45:55.920526Z",
     "shell.execute_reply": "2022-09-13T00:45:55.919630Z"
    },
    "papermill": {
     "duration": 1.978908,
     "end_time": "2022-09-13T00:45:55.920682",
     "exception": false,
     "start_time": "2022-09-13T00:45:53.941774",
     "status": "completed"
    },
    "tags": []
   },
   "outputs": [
    {
     "name": "stdout",
     "output_type": "stream",
     "text": [
      "Collecting mnist\r\n"
     ]
    },
    {
     "name": "stdout",
     "output_type": "stream",
     "text": [
      "  Downloading mnist-0.2.2-py2.py3-none-any.whl (3.5 kB)\r\n",
      "Requirement already satisfied: numpy in /opt/hostedtoolcache/Python/3.6.15/x64/lib/python3.6/site-packages (from mnist) (1.19.5)\r\n"
     ]
    },
    {
     "name": "stdout",
     "output_type": "stream",
     "text": [
      "Installing collected packages: mnist\r\n"
     ]
    },
    {
     "name": "stdout",
     "output_type": "stream",
     "text": [
      "Successfully installed mnist-0.2.2\r\n"
     ]
    }
   ],
   "source": [
    "!pip install mnist"
   ]
  },
  {
   "cell_type": "markdown",
   "id": "69df9c9a",
   "metadata": {
    "papermill": {
     "duration": 0.029701,
     "end_time": "2022-09-13T00:45:55.984018",
     "exception": false,
     "start_time": "2022-09-13T00:45:55.954317",
     "status": "completed"
    },
    "tags": []
   },
   "source": [
    "## Preparing the Data"
   ]
  },
  {
   "cell_type": "code",
   "execution_count": 4,
   "id": "7f69d806",
   "metadata": {
    "execution": {
     "iopub.execute_input": "2022-09-13T00:45:56.053577Z",
     "iopub.status.busy": "2022-09-13T00:45:56.052515Z",
     "iopub.status.idle": "2022-09-13T00:45:56.069514Z",
     "shell.execute_reply": "2022-09-13T00:45:56.068824Z"
    },
    "papermill": {
     "duration": 0.054625,
     "end_time": "2022-09-13T00:45:56.069636",
     "exception": false,
     "start_time": "2022-09-13T00:45:56.015011",
     "status": "completed"
    },
    "tags": []
   },
   "outputs": [],
   "source": [
    "import mnist"
   ]
  },
  {
   "cell_type": "code",
   "execution_count": 5,
   "id": "a411e44f",
   "metadata": {
    "execution": {
     "iopub.execute_input": "2022-09-13T00:45:56.134330Z",
     "iopub.status.busy": "2022-09-13T00:45:56.133648Z",
     "iopub.status.idle": "2022-09-13T00:45:56.773276Z",
     "shell.execute_reply": "2022-09-13T00:45:56.772611Z"
    },
    "papermill": {
     "duration": 0.673188,
     "end_time": "2022-09-13T00:45:56.773462",
     "exception": false,
     "start_time": "2022-09-13T00:45:56.100274",
     "status": "completed"
    },
    "tags": []
   },
   "outputs": [],
   "source": [
    "train_images = mnist.train_images()\n",
    "train_labels = mnist.train_labels()"
   ]
  },
  {
   "cell_type": "code",
   "execution_count": 6,
   "id": "dceab3a5",
   "metadata": {
    "execution": {
     "iopub.execute_input": "2022-09-13T00:45:56.847460Z",
     "iopub.status.busy": "2022-09-13T00:45:56.846733Z",
     "iopub.status.idle": "2022-09-13T00:45:56.864007Z",
     "shell.execute_reply": "2022-09-13T00:45:56.865167Z"
    },
    "papermill": {
     "duration": 0.059115,
     "end_time": "2022-09-13T00:45:56.865309",
     "exception": false,
     "start_time": "2022-09-13T00:45:56.806194",
     "status": "completed"
    },
    "tags": []
   },
   "outputs": [
    {
     "data": {
      "text/plain": [
       "((60000, 28, 28), (60000,))"
      ]
     },
     "execution_count": 6,
     "metadata": {},
     "output_type": "execute_result"
    }
   ],
   "source": [
    "train_images.shape, train_labels.shape"
   ]
  },
  {
   "cell_type": "code",
   "execution_count": 7,
   "id": "f50dc2bb",
   "metadata": {
    "execution": {
     "iopub.execute_input": "2022-09-13T00:45:56.934118Z",
     "iopub.status.busy": "2022-09-13T00:45:56.933444Z",
     "iopub.status.idle": "2022-09-13T00:45:57.132794Z",
     "shell.execute_reply": "2022-09-13T00:45:57.131441Z"
    },
    "papermill": {
     "duration": 0.235347,
     "end_time": "2022-09-13T00:45:57.132969",
     "exception": false,
     "start_time": "2022-09-13T00:45:56.897622",
     "status": "completed"
    },
    "tags": []
   },
   "outputs": [],
   "source": [
    "test_images = mnist.test_images()\n",
    "test_labels = mnist.test_labels()"
   ]
  },
  {
   "cell_type": "code",
   "execution_count": 8,
   "id": "fc38cf1b",
   "metadata": {
    "execution": {
     "iopub.execute_input": "2022-09-13T00:45:57.204417Z",
     "iopub.status.busy": "2022-09-13T00:45:57.203767Z",
     "iopub.status.idle": "2022-09-13T00:45:57.215073Z",
     "shell.execute_reply": "2022-09-13T00:45:57.214518Z"
    },
    "papermill": {
     "duration": 0.050138,
     "end_time": "2022-09-13T00:45:57.215193",
     "exception": false,
     "start_time": "2022-09-13T00:45:57.165055",
     "status": "completed"
    },
    "tags": []
   },
   "outputs": [
    {
     "data": {
      "text/plain": [
       "((10000, 28, 28), (10000,))"
      ]
     },
     "execution_count": 8,
     "metadata": {},
     "output_type": "execute_result"
    }
   ],
   "source": [
    "test_images.shape, test_labels.shape"
   ]
  },
  {
   "cell_type": "code",
   "execution_count": 9,
   "id": "f9ed8fe0",
   "metadata": {
    "execution": {
     "iopub.execute_input": "2022-09-13T00:45:57.281978Z",
     "iopub.status.busy": "2022-09-13T00:45:57.281287Z",
     "iopub.status.idle": "2022-09-13T00:45:57.470204Z",
     "shell.execute_reply": "2022-09-13T00:45:57.469529Z"
    },
    "papermill": {
     "duration": 0.223542,
     "end_time": "2022-09-13T00:45:57.470332",
     "exception": false,
     "start_time": "2022-09-13T00:45:57.246790",
     "status": "completed"
    },
    "tags": []
   },
   "outputs": [
    {
     "name": "stdout",
     "output_type": "stream",
     "text": [
      "2\n"
     ]
    },
    {
     "data": {
      "text/plain": [
       "<matplotlib.image.AxesImage at 0x7fe8ebf96c50>"
      ]
     },
     "execution_count": 9,
     "metadata": {},
     "output_type": "execute_result"
    },
    {
     "data": {
      "image/png": "[encoded data removed]",
      "text/plain": [
       "<Figure size 432x288 with 1 Axes>"
      ]
     },
     "metadata": {
      "needs_background": "light"
     },
     "output_type": "display_data"
    }
   ],
   "source": [
    "image_index = 7776 # You may select anything up to 60,000\n",
    "print(train_labels[image_index]) \n",
    "plt.imshow(train_images[image_index], cmap='Greys')"
   ]
  },
  {
   "cell_type": "markdown",
   "id": "a8d2388d",
   "metadata": {
    "papermill": {
     "duration": 0.032619,
     "end_time": "2022-09-13T00:45:57.534985",
     "exception": false,
     "start_time": "2022-09-13T00:45:57.502366",
     "status": "completed"
    },
    "tags": []
   },
   "source": [
    "## Filter data to get 3 and 8 out"
   ]
  },
  {
   "cell_type": "code",
   "execution_count": 10,
   "id": "776f7fc7",
   "metadata": {
    "execution": {
     "iopub.execute_input": "2022-09-13T00:45:57.610098Z",
     "iopub.status.busy": "2022-09-13T00:45:57.603612Z",
     "iopub.status.idle": "2022-09-13T00:45:57.627486Z",
     "shell.execute_reply": "2022-09-13T00:45:57.626946Z"
    },
    "papermill": {
     "duration": 0.060667,
     "end_time": "2022-09-13T00:45:57.627608",
     "exception": false,
     "start_time": "2022-09-13T00:45:57.566941",
     "status": "completed"
    },
    "tags": []
   },
   "outputs": [],
   "source": [
    "train_filter = np.where((train_labels == 3 ) | (train_labels == 8))\n",
    "test_filter = np.where((test_labels == 3) | (test_labels == 8))\n",
    "X_train, y_train = train_images[train_filter], train_labels[train_filter]\n",
    "X_test, y_test = test_images[test_filter], test_labels[test_filter]"
   ]
  },
  {
   "cell_type": "markdown",
   "id": "948f0b7e",
   "metadata": {
    "papermill": {
     "duration": 0.033147,
     "end_time": "2022-09-13T00:45:57.693385",
     "exception": false,
     "start_time": "2022-09-13T00:45:57.660238",
     "status": "completed"
    },
    "tags": []
   },
   "source": [
    "We normalize the pizel values in the 0 to 1 range"
   ]
  },
  {
   "cell_type": "code",
   "execution_count": 11,
   "id": "ee4c2166",
   "metadata": {
    "execution": {
     "iopub.execute_input": "2022-09-13T00:45:57.762153Z",
     "iopub.status.busy": "2022-09-13T00:45:57.761438Z",
     "iopub.status.idle": "2022-09-13T00:45:57.826865Z",
     "shell.execute_reply": "2022-09-13T00:45:57.826201Z"
    },
    "papermill": {
     "duration": 0.101757,
     "end_time": "2022-09-13T00:45:57.827029",
     "exception": false,
     "start_time": "2022-09-13T00:45:57.725272",
     "status": "completed"
    },
    "tags": []
   },
   "outputs": [],
   "source": [
    "X_train = X_train/255.\n",
    "X_test = X_test/255."
   ]
  },
  {
   "cell_type": "markdown",
   "id": "ddcf4fab",
   "metadata": {
    "papermill": {
     "duration": 0.032448,
     "end_time": "2022-09-13T00:45:57.892214",
     "exception": false,
     "start_time": "2022-09-13T00:45:57.859766",
     "status": "completed"
    },
    "tags": []
   },
   "source": [
    "And setup the labels as 1 (when the digit is 3) and 0 (when the digit is 8)"
   ]
  },
  {
   "cell_type": "code",
   "execution_count": 12,
   "id": "7dc908f2",
   "metadata": {
    "execution": {
     "iopub.execute_input": "2022-09-13T00:45:57.960134Z",
     "iopub.status.busy": "2022-09-13T00:45:57.959230Z",
     "iopub.status.idle": "2022-09-13T00:45:57.974834Z",
     "shell.execute_reply": "2022-09-13T00:45:57.974242Z"
    },
    "papermill": {
     "duration": 0.051288,
     "end_time": "2022-09-13T00:45:57.974959",
     "exception": false,
     "start_time": "2022-09-13T00:45:57.923671",
     "status": "completed"
    },
    "tags": []
   },
   "outputs": [],
   "source": [
    "y_train = 1*(y_train==3)\n",
    "y_test = 1*(y_test==3)"
   ]
  },
  {
   "cell_type": "code",
   "execution_count": 13,
   "id": "01e4e969",
   "metadata": {
    "execution": {
     "iopub.execute_input": "2022-09-13T00:45:58.043159Z",
     "iopub.status.busy": "2022-09-13T00:45:58.042483Z",
     "iopub.status.idle": "2022-09-13T00:45:58.058055Z",
     "shell.execute_reply": "2022-09-13T00:45:58.057427Z"
    },
    "papermill": {
     "duration": 0.051556,
     "end_time": "2022-09-13T00:45:58.058182",
     "exception": false,
     "start_time": "2022-09-13T00:45:58.006626",
     "status": "completed"
    },
    "tags": []
   },
   "outputs": [
    {
     "data": {
      "text/plain": [
       "((11982, 28, 28), (1984, 28, 28))"
      ]
     },
     "execution_count": 13,
     "metadata": {},
     "output_type": "execute_result"
    }
   ],
   "source": [
    "X_train.shape, X_test.shape"
   ]
  },
  {
   "cell_type": "markdown",
   "id": "5ccf3f85",
   "metadata": {
    "papermill": {
     "duration": 0.03415,
     "end_time": "2022-09-13T00:45:58.126602",
     "exception": false,
     "start_time": "2022-09-13T00:45:58.092452",
     "status": "completed"
    },
    "tags": []
   },
   "source": [
    "We reshape the data to flatten the image pixels into a set of features or co-variates:"
   ]
  },
  {
   "cell_type": "code",
   "execution_count": 14,
   "id": "5286a4a3",
   "metadata": {
    "execution": {
     "iopub.execute_input": "2022-09-13T00:45:58.197190Z",
     "iopub.status.busy": "2022-09-13T00:45:58.196429Z",
     "iopub.status.idle": "2022-09-13T00:45:58.211221Z",
     "shell.execute_reply": "2022-09-13T00:45:58.211735Z"
    },
    "papermill": {
     "duration": 0.052981,
     "end_time": "2022-09-13T00:45:58.211890",
     "exception": false,
     "start_time": "2022-09-13T00:45:58.158909",
     "status": "completed"
    },
    "tags": []
   },
   "outputs": [
    {
     "data": {
      "text/plain": [
       "((11982, 784), (1984, 784))"
      ]
     },
     "execution_count": 14,
     "metadata": {},
     "output_type": "execute_result"
    }
   ],
   "source": [
    "X_train = X_train.reshape(X_train.shape[0], -1)\n",
    "X_test = X_test.reshape(X_test.shape[0], -1)\n",
    "X_train.shape, X_test.shape"
   ]
  },
  {
   "cell_type": "code",
   "execution_count": 15,
   "id": "73c5f88a",
   "metadata": {
    "execution": {
     "iopub.execute_input": "2022-09-13T00:45:58.283401Z",
     "iopub.status.busy": "2022-09-13T00:45:58.282484Z",
     "iopub.status.idle": "2022-09-13T00:45:58.303942Z",
     "shell.execute_reply": "2022-09-13T00:45:58.303204Z"
    },
    "papermill": {
     "duration": 0.058695,
     "end_time": "2022-09-13T00:45:58.304083",
     "exception": false,
     "start_time": "2022-09-13T00:45:58.245388",
     "status": "completed"
    },
    "tags": []
   },
   "outputs": [],
   "source": [
    "#Impoting functions from 'Kudzu'\n",
    "from kudzu.model import Model\n",
    "from kudzu.train import Learner\n",
    "from kudzu.optim import GD\n",
    "from kudzu.data import Data, Sampler,Dataloader\n",
    "\n",
    "from kudzu.callbacks import AccCallback\n",
    "from kudzu.callbacks import ClfCallback\n",
    "\n",
    "from kudzu.loss import MSE\n",
    "\n",
    "from kudzu.layer import Sigmoid,Relu\n",
    "from kudzu.layer import Affine"
   ]
  },
  {
   "cell_type": "markdown",
   "id": "bc01172a",
   "metadata": {
    "papermill": {
     "duration": 0.032679,
     "end_time": "2022-09-13T00:45:58.368953",
     "exception": false,
     "start_time": "2022-09-13T00:45:58.336274",
     "status": "completed"
    },
    "tags": []
   },
   "source": [
    "### Let us create a `Config` class, to store important parameters. \n",
    "This class essentially plays the role of a dictionary."
   ]
  },
  {
   "cell_type": "code",
   "execution_count": 16,
   "id": "978281aa",
   "metadata": {
    "execution": {
     "iopub.execute_input": "2022-09-13T00:45:58.439774Z",
     "iopub.status.busy": "2022-09-13T00:45:58.438069Z",
     "iopub.status.idle": "2022-09-13T00:45:58.451204Z",
     "shell.execute_reply": "2022-09-13T00:45:58.451701Z"
    },
    "papermill": {
     "duration": 0.050177,
     "end_time": "2022-09-13T00:45:58.451860",
     "exception": false,
     "start_time": "2022-09-13T00:45:58.401683",
     "status": "completed"
    },
    "tags": []
   },
   "outputs": [],
   "source": [
    "class Config:\n",
    "    pass\n",
    "config = Config()\n",
    "config.lr = 0.001\n",
    "config.num_epochs = 250\n",
    "config.bs = 50"
   ]
  },
  {
   "cell_type": "markdown",
   "id": "1385fa59",
   "metadata": {
    "papermill": {
     "duration": 0.032351,
     "end_time": "2022-09-13T00:45:58.518172",
     "exception": false,
     "start_time": "2022-09-13T00:45:58.485821",
     "status": "completed"
    },
    "tags": []
   },
   "source": [
    "### Running Models with the Training data\n",
    "Details about the network layers:\n",
    "- A first affine layer has 784 inputs and does 100 affine transforms. These are followed by a Relu\n",
    "- A second affine layer has 100 inputs from the 100 activations of the past layer, and does 100 affine transforms. These are followed by a Relu\n",
    "- A third affine layer has 100 activations and does 2 affine transformations to create an embedding for visualization. There is no non-linearity here.\n",
    "- A final \"logistic regression\" which has an affine transform from 2 inputs to 1 output, which is squeezed through a sigmoid.\n"
   ]
  },
  {
   "cell_type": "code",
   "execution_count": 17,
   "id": "2b9c66db",
   "metadata": {
    "execution": {
     "iopub.execute_input": "2022-09-13T00:45:58.588515Z",
     "iopub.status.busy": "2022-09-13T00:45:58.587710Z",
     "iopub.status.idle": "2022-09-13T00:45:58.601335Z",
     "shell.execute_reply": "2022-09-13T00:45:58.600670Z"
    },
    "papermill": {
     "duration": 0.04993,
     "end_time": "2022-09-13T00:45:58.601440",
     "exception": false,
     "start_time": "2022-09-13T00:45:58.551510",
     "status": "completed"
    },
    "tags": []
   },
   "outputs": [],
   "source": [
    "data = Data(X_train, y_train.reshape(-1,1))\n",
    "sampler = Sampler(data, config.bs, shuffle=True)\n",
    "\n",
    "dl = Dataloader(data, sampler)\n",
    "\n",
    "opt = GD(config.lr)\n",
    "loss = MSE()"
   ]
  },
  {
   "cell_type": "code",
   "execution_count": 18,
   "id": "b275e4c2",
   "metadata": {
    "execution": {
     "iopub.execute_input": "2022-09-13T00:45:58.670200Z",
     "iopub.status.busy": "2022-09-13T00:45:58.669451Z",
     "iopub.status.idle": "2022-09-13T00:45:58.683997Z",
     "shell.execute_reply": "2022-09-13T00:45:58.683401Z"
    },
    "papermill": {
     "duration": 0.050382,
     "end_time": "2022-09-13T00:45:58.684124",
     "exception": false,
     "start_time": "2022-09-13T00:45:58.633742",
     "status": "completed"
    },
    "tags": []
   },
   "outputs": [],
   "source": [
    "training_data_x = X_train\n",
    "testing_data_x = X_test\n",
    "training_data_y = y_train.reshape(-1,1)\n",
    "testing_data_y = y_test.reshape(-1,1)"
   ]
  },
  {
   "cell_type": "code",
   "execution_count": 19,
   "id": "76951160",
   "metadata": {
    "execution": {
     "iopub.execute_input": "2022-09-13T00:45:58.753083Z",
     "iopub.status.busy": "2022-09-13T00:45:58.752311Z",
     "iopub.status.idle": "2022-09-13T00:45:58.769839Z",
     "shell.execute_reply": "2022-09-13T00:45:58.769154Z"
    },
    "papermill": {
     "duration": 0.054376,
     "end_time": "2022-09-13T00:45:58.769976",
     "exception": false,
     "start_time": "2022-09-13T00:45:58.715600",
     "status": "completed"
    },
    "tags": []
   },
   "outputs": [
    {
     "name": "stdout",
     "output_type": "stream",
     "text": [
      "xavier\n",
      "xavier\n",
      "xavier\n",
      "xavier\n",
      "xavier\n"
     ]
    }
   ],
   "source": [
    "layers = [Affine(\"first\", 784, 100), Relu(\"first\"), Affine(\"second\", 100, 100), Relu(\"second\"), Affine(\"third\", 100, 2), Affine(\"last\", 2, 1), Sigmoid(\"last\")]\n",
    "model_nn = Model(layers)\n",
    "model_lr = Model([Affine(\"logits\", 784, 1), Sigmoid(\"sigmoid\")])"
   ]
  },
  {
   "cell_type": "code",
   "execution_count": 20,
   "id": "6eede77a",
   "metadata": {
    "execution": {
     "iopub.execute_input": "2022-09-13T00:45:58.841628Z",
     "iopub.status.busy": "2022-09-13T00:45:58.840916Z",
     "iopub.status.idle": "2022-09-13T00:45:58.853184Z",
     "shell.execute_reply": "2022-09-13T00:45:58.852519Z"
    },
    "papermill": {
     "duration": 0.050294,
     "end_time": "2022-09-13T00:45:58.853291",
     "exception": false,
     "start_time": "2022-09-13T00:45:58.802997",
     "status": "completed"
    },
    "tags": []
   },
   "outputs": [],
   "source": [
    "nn_learner = Learner(loss, model_nn, opt, config.num_epochs)\n",
    "acc_nn = ClfCallback(nn_learner, config.bs, training_data_x , testing_data_x, training_data_y, testing_data_y)\n",
    "nn_learner.set_callbacks([acc_nn])"
   ]
  },
  {
   "cell_type": "code",
   "execution_count": 21,
   "id": "877b6cc7",
   "metadata": {
    "execution": {
     "iopub.execute_input": "2022-09-13T00:45:58.923502Z",
     "iopub.status.busy": "2022-09-13T00:45:58.922830Z",
     "iopub.status.idle": "2022-09-13T00:45:58.934880Z",
     "shell.execute_reply": "2022-09-13T00:45:58.935454Z"
    },
    "papermill": {
     "duration": 0.049957,
     "end_time": "2022-09-13T00:45:58.935572",
     "exception": false,
     "start_time": "2022-09-13T00:45:58.885615",
     "status": "completed"
    },
    "tags": []
   },
   "outputs": [],
   "source": [
    "lr_learner = Learner(loss, model_lr, opt, config.num_epochs)\n",
    "acc_lr = ClfCallback(lr_learner, config.bs, training_data_x , testing_data_x, training_data_y, testing_data_y)\n",
    "lr_learner.set_callbacks([acc_lr])"
   ]
  },
  {
   "cell_type": "code",
   "execution_count": 22,
   "id": "d9b133c3",
   "metadata": {
    "execution": {
     "iopub.execute_input": "2022-09-13T00:45:58.998204Z",
     "iopub.status.busy": "2022-09-13T00:45:58.997517Z",
     "iopub.status.idle": "2022-09-13T00:48:20.361816Z",
     "shell.execute_reply": "2022-09-13T00:48:20.362884Z"
    },
    "papermill": {
     "duration": 141.397758,
     "end_time": "2022-09-13T00:48:20.363048",
     "exception": false,
     "start_time": "2022-09-13T00:45:58.965290",
     "status": "completed"
    },
    "tags": []
   },
   "outputs": [
    {
     "name": "stdout",
     "output_type": "stream",
     "text": [
      "Epoch 0, Loss 0.2523\n",
      "Training Accuracy: 0.5335, Testing Accuracy: 0.5489\n",
      "\n"
     ]
    },
    {
     "name": "stdout",
     "output_type": "stream",
     "text": [
      "Epoch 10, Loss 0.1498\n",
      "Training Accuracy: 0.8790, Testing Accuracy: 0.8952\n",
      "\n"
     ]
    },
    {
     "name": "stdout",
     "output_type": "stream",
     "text": [
      "Epoch 20, Loss 0.0778\n",
      "Training Accuracy: 0.9203, Testing Accuracy: 0.9330\n",
      "\n"
     ]
    },
    {
     "name": "stdout",
     "output_type": "stream",
     "text": [
      "Epoch 30, Loss 0.0542\n",
      "Training Accuracy: 0.9414, Testing Accuracy: 0.9511\n",
      "\n"
     ]
    },
    {
     "name": "stdout",
     "output_type": "stream",
     "text": [
      "Epoch 40, Loss 0.044\n",
      "Training Accuracy: 0.9494, Testing Accuracy: 0.9592\n",
      "\n"
     ]
    },
    {
     "name": "stdout",
     "output_type": "stream",
     "text": [
      "Epoch 50, Loss 0.0386\n",
      "Training Accuracy: 0.9554, Testing Accuracy: 0.9642\n",
      "\n"
     ]
    },
    {
     "name": "stdout",
     "output_type": "stream",
     "text": [
      "Epoch 60, Loss 0.0353\n",
      "Training Accuracy: 0.9587, Testing Accuracy: 0.9672\n",
      "\n"
     ]
    },
    {
     "name": "stdout",
     "output_type": "stream",
     "text": [
      "Epoch 70, Loss 0.033\n",
      "Training Accuracy: 0.9613, Testing Accuracy: 0.9682\n",
      "\n"
     ]
    },
    {
     "name": "stdout",
     "output_type": "stream",
     "text": [
      "Epoch 80, Loss 0.0313\n",
      "Training Accuracy: 0.9636, Testing Accuracy: 0.9682\n",
      "\n"
     ]
    },
    {
     "name": "stdout",
     "output_type": "stream",
     "text": [
      "Epoch 90, Loss 0.0299\n",
      "Training Accuracy: 0.9646, Testing Accuracy: 0.9682\n",
      "\n"
     ]
    },
    {
     "name": "stdout",
     "output_type": "stream",
     "text": [
      "Epoch 100, Loss 0.0288\n",
      "Training Accuracy: 0.9662, Testing Accuracy: 0.9703\n",
      "\n"
     ]
    },
    {
     "name": "stdout",
     "output_type": "stream",
     "text": [
      "Epoch 110, Loss 0.0278\n",
      "Training Accuracy: 0.9675, Testing Accuracy: 0.9703\n",
      "\n"
     ]
    },
    {
     "name": "stdout",
     "output_type": "stream",
     "text": [
      "Epoch 120, Loss 0.0269\n",
      "Training Accuracy: 0.9682, Testing Accuracy: 0.9708\n",
      "\n"
     ]
    },
    {
     "name": "stdout",
     "output_type": "stream",
     "text": [
      "Epoch 130, Loss 0.0262\n",
      "Training Accuracy: 0.9690, Testing Accuracy: 0.9713\n",
      "\n"
     ]
    },
    {
     "name": "stdout",
     "output_type": "stream",
     "text": [
      "Epoch 140, Loss 0.0255\n",
      "Training Accuracy: 0.9696, Testing Accuracy: 0.9718\n",
      "\n"
     ]
    },
    {
     "name": "stdout",
     "output_type": "stream",
     "text": [
      "Epoch 150, Loss 0.0248\n",
      "Training Accuracy: 0.9705, Testing Accuracy: 0.9718\n",
      "\n"
     ]
    },
    {
     "name": "stdout",
     "output_type": "stream",
     "text": [
      "Epoch 160, Loss 0.0243\n",
      "Training Accuracy: 0.9711, Testing Accuracy: 0.9718\n",
      "\n"
     ]
    },
    {
     "name": "stdout",
     "output_type": "stream",
     "text": [
      "Epoch 170, Loss 0.0237\n",
      "Training Accuracy: 0.9720, Testing Accuracy: 0.9723\n",
      "\n"
     ]
    },
    {
     "name": "stdout",
     "output_type": "stream",
     "text": [
      "Epoch 180, Loss 0.0232\n",
      "Training Accuracy: 0.9727, Testing Accuracy: 0.9728\n",
      "\n"
     ]
    },
    {
     "name": "stdout",
     "output_type": "stream",
     "text": [
      "Epoch 190, Loss 0.0227\n",
      "Training Accuracy: 0.9733, Testing Accuracy: 0.9728\n",
      "\n"
     ]
    },
    {
     "name": "stdout",
     "output_type": "stream",
     "text": [
      "Epoch 200, Loss 0.0223\n",
      "Training Accuracy: 0.9738, Testing Accuracy: 0.9733\n",
      "\n"
     ]
    },
    {
     "name": "stdout",
     "output_type": "stream",
     "text": [
      "Epoch 210, Loss 0.0218\n",
      "Training Accuracy: 0.9746, Testing Accuracy: 0.9733\n",
      "\n"
     ]
    },
    {
     "name": "stdout",
     "output_type": "stream",
     "text": [
      "Epoch 220, Loss 0.0214\n",
      "Training Accuracy: 0.9749, Testing Accuracy: 0.9738\n",
      "\n"
     ]
    },
    {
     "name": "stdout",
     "output_type": "stream",
     "text": [
      "Epoch 230, Loss 0.0211\n",
      "Training Accuracy: 0.9751, Testing Accuracy: 0.9728\n",
      "\n"
     ]
    },
    {
     "name": "stdout",
     "output_type": "stream",
     "text": [
      "Epoch 240, Loss 0.0207\n",
      "Training Accuracy: 0.9756, Testing Accuracy: 0.9728\n",
      "\n"
     ]
    },
    {
     "data": {
      "text/plain": [
       "0.03135159251829306"
      ]
     },
     "execution_count": 22,
     "metadata": {},
     "output_type": "execute_result"
    }
   ],
   "source": [
    "nn_learner.train_loop(dl)"
   ]
  },
  {
   "cell_type": "code",
   "execution_count": 23,
   "id": "e0163366",
   "metadata": {
    "execution": {
     "iopub.execute_input": "2022-09-13T00:48:20.464152Z",
     "iopub.status.busy": "2022-09-13T00:48:20.463415Z",
     "iopub.status.idle": "2022-09-13T00:48:40.426132Z",
     "shell.execute_reply": "2022-09-13T00:48:40.427238Z"
    },
    "papermill": {
     "duration": 20.019894,
     "end_time": "2022-09-13T00:48:40.427489",
     "exception": false,
     "start_time": "2022-09-13T00:48:20.407595",
     "status": "completed"
    },
    "tags": []
   },
   "outputs": [
    {
     "name": "stdout",
     "output_type": "stream",
     "text": [
      "Epoch 0, Loss 0.2515\n",
      "Training Accuracy: 0.6481, Testing Accuracy: 0.6739\n",
      "\n"
     ]
    },
    {
     "name": "stdout",
     "output_type": "stream",
     "text": [
      "Epoch 10, Loss 0.1054\n",
      "Training Accuracy: 0.9060, Testing Accuracy: 0.9143\n",
      "\n"
     ]
    },
    {
     "name": "stdout",
     "output_type": "stream",
     "text": [
      "Epoch 20, Loss 0.0805\n",
      "Training Accuracy: 0.9273, Testing Accuracy: 0.9299\n",
      "\n"
     ]
    },
    {
     "name": "stdout",
     "output_type": "stream",
     "text": [
      "Epoch 30, Loss 0.0692\n",
      "Training Accuracy: 0.9362, Testing Accuracy: 0.9405\n",
      "\n"
     ]
    },
    {
     "name": "stdout",
     "output_type": "stream",
     "text": [
      "Epoch 40, Loss 0.0624\n",
      "Training Accuracy: 0.9414, Testing Accuracy: 0.9471\n",
      "\n"
     ]
    },
    {
     "name": "stdout",
     "output_type": "stream",
     "text": [
      "Epoch 50, Loss 0.0578\n",
      "Training Accuracy: 0.9436, Testing Accuracy: 0.9516\n",
      "\n"
     ]
    },
    {
     "name": "stdout",
     "output_type": "stream",
     "text": [
      "Epoch 60, Loss 0.0544\n",
      "Training Accuracy: 0.9461, Testing Accuracy: 0.9546\n",
      "\n"
     ]
    },
    {
     "name": "stdout",
     "output_type": "stream",
     "text": [
      "Epoch 70, Loss 0.0518\n",
      "Training Accuracy: 0.9479, Testing Accuracy: 0.9551\n",
      "\n"
     ]
    },
    {
     "name": "stdout",
     "output_type": "stream",
     "text": [
      "Epoch 80, Loss 0.0497\n",
      "Training Accuracy: 0.9498, Testing Accuracy: 0.9572\n",
      "\n"
     ]
    },
    {
     "name": "stdout",
     "output_type": "stream",
     "text": [
      "Epoch 90, Loss 0.048\n",
      "Training Accuracy: 0.9508, Testing Accuracy: 0.9582\n",
      "\n"
     ]
    },
    {
     "name": "stdout",
     "output_type": "stream",
     "text": [
      "Epoch 100, Loss 0.0465\n",
      "Training Accuracy: 0.9523, Testing Accuracy: 0.9597\n",
      "\n"
     ]
    },
    {
     "name": "stdout",
     "output_type": "stream",
     "text": [
      "Epoch 110, Loss 0.0453\n",
      "Training Accuracy: 0.9536, Testing Accuracy: 0.9592\n",
      "\n"
     ]
    },
    {
     "name": "stdout",
     "output_type": "stream",
     "text": [
      "Epoch 120, Loss 0.0442\n",
      "Training Accuracy: 0.9545, Testing Accuracy: 0.9602\n",
      "\n"
     ]
    },
    {
     "name": "stdout",
     "output_type": "stream",
     "text": [
      "Epoch 130, Loss 0.0433\n",
      "Training Accuracy: 0.9553, Testing Accuracy: 0.9617\n",
      "\n"
     ]
    },
    {
     "name": "stdout",
     "output_type": "stream",
     "text": [
      "Epoch 140, Loss 0.0424\n",
      "Training Accuracy: 0.9562, Testing Accuracy: 0.9617\n",
      "\n"
     ]
    },
    {
     "name": "stdout",
     "output_type": "stream",
     "text": [
      "Epoch 150, Loss 0.0417\n",
      "Training Accuracy: 0.9565, Testing Accuracy: 0.9632\n",
      "\n"
     ]
    },
    {
     "name": "stdout",
     "output_type": "stream",
     "text": [
      "Epoch 160, Loss 0.041\n",
      "Training Accuracy: 0.9570, Testing Accuracy: 0.9632\n",
      "\n"
     ]
    },
    {
     "name": "stdout",
     "output_type": "stream",
     "text": [
      "Epoch 170, Loss 0.0404\n",
      "Training Accuracy: 0.9574, Testing Accuracy: 0.9632\n",
      "\n"
     ]
    },
    {
     "name": "stdout",
     "output_type": "stream",
     "text": [
      "Epoch 180, Loss 0.0398\n",
      "Training Accuracy: 0.9574, Testing Accuracy: 0.9642\n",
      "\n"
     ]
    },
    {
     "name": "stdout",
     "output_type": "stream",
     "text": [
      "Epoch 190, Loss 0.0393\n",
      "Training Accuracy: 0.9580, Testing Accuracy: 0.9642\n",
      "\n"
     ]
    },
    {
     "name": "stdout",
     "output_type": "stream",
     "text": [
      "Epoch 200, Loss 0.0388\n",
      "Training Accuracy: 0.9581, Testing Accuracy: 0.9647\n",
      "\n"
     ]
    },
    {
     "name": "stdout",
     "output_type": "stream",
     "text": [
      "Epoch 210, Loss 0.0383\n",
      "Training Accuracy: 0.9586, Testing Accuracy: 0.9652\n",
      "\n"
     ]
    },
    {
     "name": "stdout",
     "output_type": "stream",
     "text": [
      "Epoch 220, Loss 0.0379\n",
      "Training Accuracy: 0.9591, Testing Accuracy: 0.9652\n",
      "\n"
     ]
    },
    {
     "name": "stdout",
     "output_type": "stream",
     "text": [
      "Epoch 230, Loss 0.0375\n",
      "Training Accuracy: 0.9594, Testing Accuracy: 0.9657\n",
      "\n"
     ]
    },
    {
     "name": "stdout",
     "output_type": "stream",
     "text": [
      "Epoch 240, Loss 0.0372\n",
      "Training Accuracy: 0.9598, Testing Accuracy: 0.9662\n",
      "\n"
     ]
    },
    {
     "data": {
      "text/plain": [
       "0.032580194557909614"
      ]
     },
     "execution_count": 23,
     "metadata": {},
     "output_type": "execute_result"
    }
   ],
   "source": [
    "lr_learner.train_loop(dl)"
   ]
  },
  {
   "cell_type": "code",
   "execution_count": 24,
   "id": "ca410940",
   "metadata": {
    "execution": {
     "iopub.execute_input": "2022-09-13T00:48:40.535145Z",
     "iopub.status.busy": "2022-09-13T00:48:40.534291Z",
     "iopub.status.idle": "2022-09-13T00:48:40.820067Z",
     "shell.execute_reply": "2022-09-13T00:48:40.819389Z"
    },
    "papermill": {
     "duration": 0.342688,
     "end_time": "2022-09-13T00:48:40.820194",
     "exception": false,
     "start_time": "2022-09-13T00:48:40.477506",
     "status": "completed"
    },
    "tags": []
   },
   "outputs": [
    {
     "data": {
      "text/plain": [
       "<matplotlib.legend.Legend at 0x7fe8ebb04400>"
      ]
     },
     "execution_count": 24,
     "metadata": {},
     "output_type": "execute_result"
    },
    {
     "data": {
      "image/png": "[encoded data removed]",
      "text/plain": [
       "<Figure size 1080x720 with 1 Axes>"
      ]
     },
     "metadata": {
      "needs_background": "light"
     },
     "output_type": "display_data"
    }
   ],
   "source": [
    "#comparing the results of NN and LR\n",
    "plt.figure(figsize=(15,10))\n",
    "\n",
    "# Neural Network plots\n",
    "plt.plot(acc_nn.accuracies, 'r-', label = \"Training Accuracies - NN\")\n",
    "plt.plot(acc_nn.test_accuracies, 'g-', label = \"Testing Accuracies - NN\")\n",
    "\n",
    "# Logistic Regression plots\n",
    "plt.plot(acc_lr.accuracies, 'k-', label = \"Training Accuracies - LR\")\n",
    "plt.plot(acc_lr.test_accuracies, 'b-', label = \"Testing Accuracies - LR\")\n",
    "plt.legend()"
   ]
  },
  {
   "cell_type": "markdown",
   "id": "80dfb35c",
   "metadata": {
    "papermill": {
     "duration": 0.050089,
     "end_time": "2022-09-13T00:48:40.920283",
     "exception": false,
     "start_time": "2022-09-13T00:48:40.870194",
     "status": "completed"
    },
    "tags": []
   },
   "source": [
    "#### Plotting the outputs of this layer of the NN.\n"
   ]
  },
  {
   "cell_type": "code",
   "execution_count": 25,
   "id": "45eb2ff5",
   "metadata": {
    "execution": {
     "iopub.execute_input": "2022-09-13T00:48:41.028456Z",
     "iopub.status.busy": "2022-09-13T00:48:41.027766Z",
     "iopub.status.idle": "2022-09-13T00:48:41.057681Z",
     "shell.execute_reply": "2022-09-13T00:48:41.058189Z"
    },
    "papermill": {
     "duration": 0.087796,
     "end_time": "2022-09-13T00:48:41.058359",
     "exception": false,
     "start_time": "2022-09-13T00:48:40.970563",
     "status": "completed"
    },
    "tags": []
   },
   "outputs": [],
   "source": [
    "new_model = Model(layers[:-2])\n",
    "testing_plot = new_model(testing_data_x)"
   ]
  },
  {
   "cell_type": "code",
   "execution_count": 26,
   "id": "4c0a5485",
   "metadata": {
    "execution": {
     "iopub.execute_input": "2022-09-13T00:48:41.163148Z",
     "iopub.status.busy": "2022-09-13T00:48:41.162446Z",
     "iopub.status.idle": "2022-09-13T00:48:41.426032Z",
     "shell.execute_reply": "2022-09-13T00:48:41.425440Z"
    },
    "papermill": {
     "duration": 0.316434,
     "end_time": "2022-09-13T00:48:41.426163",
     "exception": false,
     "start_time": "2022-09-13T00:48:41.109729",
     "status": "completed"
    },
    "tags": []
   },
   "outputs": [
    {
     "data": {
      "text/plain": [
       "Text(0.5, 1.0, 'Outputs')"
      ]
     },
     "execution_count": 26,
     "metadata": {},
     "output_type": "execute_result"
    },
    {
     "data": {
      "image/png": "[encoded data removed]",
      "text/plain": [
       "<Figure size 576x504 with 1 Axes>"
      ]
     },
     "metadata": {
      "needs_background": "light"
     },
     "output_type": "display_data"
    }
   ],
   "source": [
    "# Plotting the scatter plot of points and color coding by class\n",
    "plt.figure(figsize=(8,7))\n",
    "plt.scatter(testing_plot[:,0], testing_plot[:,1], alpha = 0.1, c = y_test.ravel());\n",
    "plt.title('Outputs')"
   ]
  },
  {
   "cell_type": "markdown",
   "id": "a74fcf8f",
   "metadata": {
    "papermill": {
     "duration": 0.073087,
     "end_time": "2022-09-13T00:48:41.554201",
     "exception": false,
     "start_time": "2022-09-13T00:48:41.481114",
     "status": "completed"
    },
    "tags": []
   },
   "source": [
    "Probability contours"
   ]
  },
  {
   "cell_type": "code",
   "execution_count": 27,
   "id": "d0afc8e3",
   "metadata": {
    "execution": {
     "iopub.execute_input": "2022-09-13T00:48:41.661169Z",
     "iopub.status.busy": "2022-09-13T00:48:41.660483Z",
     "iopub.status.idle": "2022-09-13T00:48:41.674349Z",
     "shell.execute_reply": "2022-09-13T00:48:41.673850Z"
    },
    "papermill": {
     "duration": 0.070504,
     "end_time": "2022-09-13T00:48:41.674500",
     "exception": false,
     "start_time": "2022-09-13T00:48:41.603996",
     "status": "completed"
    },
    "tags": []
   },
   "outputs": [],
   "source": [
    "model_prob = Model(layers[-2:]) "
   ]
  },
  {
   "cell_type": "code",
   "execution_count": 28,
   "id": "9b96e238",
   "metadata": {
    "execution": {
     "iopub.execute_input": "2022-09-13T00:48:41.782800Z",
     "iopub.status.busy": "2022-09-13T00:48:41.781378Z",
     "iopub.status.idle": "2022-09-13T00:48:41.796523Z",
     "shell.execute_reply": "2022-09-13T00:48:41.797025Z"
    },
    "papermill": {
     "duration": 0.071952,
     "end_time": "2022-09-13T00:48:41.797173",
     "exception": false,
     "start_time": "2022-09-13T00:48:41.725221",
     "status": "completed"
    },
    "tags": []
   },
   "outputs": [],
   "source": [
    "#creating the x and y ranges according to the above generated plot.\n",
    "x_range = np.linspace(-4, 1, 100) \n",
    "y_range = np.linspace(-6, 6, 100) \n",
    "x_grid, y_grid = np.meshgrid(x_range, y_range) # x_grid and y_grig are of size 100 X 100\n",
    "\n",
    "# converting x_grid and y_grid to continuous arrays\n",
    "x_gridflat = np.ravel(x_grid)\n",
    "y_gridflat = np.ravel(y_grid)\n",
    "\n",
    "# The last layer of the current model takes two columns as input. Hence transpose of np.vstack() is required.\n",
    "X = np.vstack((x_gridflat, y_gridflat)).T\n",
    "\n",
    "prob_contour = model_prob(X).reshape(100,100) "
   ]
  },
  {
   "cell_type": "code",
   "execution_count": 29,
   "id": "da72499a",
   "metadata": {
    "execution": {
     "iopub.execute_input": "2022-09-13T00:48:41.908761Z",
     "iopub.status.busy": "2022-09-13T00:48:41.906827Z",
     "iopub.status.idle": "2022-09-13T00:48:42.238654Z",
     "shell.execute_reply": "2022-09-13T00:48:42.238041Z"
    },
    "papermill": {
     "duration": 0.389408,
     "end_time": "2022-09-13T00:48:42.238823",
     "exception": false,
     "start_time": "2022-09-13T00:48:41.849415",
     "status": "completed"
    },
    "tags": []
   },
   "outputs": [
    {
     "data": {
      "image/png": "[encoded data removed]",
      "text/plain": [
       "<Figure size 720x648 with 1 Axes>"
      ]
     },
     "metadata": {
      "needs_background": "light"
     },
     "output_type": "display_data"
    }
   ],
   "source": [
    "plt.figure(figsize=(10,9))\n",
    "plt.scatter(testing_plot[:,0], testing_plot[:,1], alpha = 0.1, c = y_test.ravel())\n",
    "contours = plt.contour(x_grid,y_grid,prob_contour)\n",
    "plt.title('Probability Contours')\n",
    "plt.clabel(contours, inline = True );"
   ]
  },
  {
   "cell_type": "code",
   "execution_count": null,
   "id": "e81b4ac7",
   "metadata": {
    "papermill": {
     "duration": 0.051813,
     "end_time": "2022-09-13T00:48:42.344496",
     "exception": false,
     "start_time": "2022-09-13T00:48:42.292683",
     "status": "completed"
    },
    "tags": []
   },
   "outputs": [],
   "source": []
  }
 ],
 "metadata": {
  "kernelspec": {
   "display_name": "Python 3",
   "language": "python",
   "name": "python3"
  },
  "language_info": {
   "codemirror_mode": {
    "name": "ipython",
    "version": 3
   },
   "file_extension": ".py",
   "mimetype": "text/x-python",
   "name": "python",
   "nbconvert_exporter": "python",
   "pygments_lexer": "ipython3",
   "version": "3.6.15"
  },
  "papermill": {
   "default_parameters": {},
   "duration": 170.989019,
   "end_time": "2022-09-13T00:48:42.720804",
   "environment_variables": {},
   "exception": null,
   "input_path": "2020-08-11-part2.ipynb",
   "output_path": "2020-08-11-part2.ipynb",
   "parameters": {},
   "start_time": "2022-09-13T00:45:51.731785",
   "version": "2.3.3"
  }
 },
 "nbformat": 4,
 "nbformat_minor": 5
}