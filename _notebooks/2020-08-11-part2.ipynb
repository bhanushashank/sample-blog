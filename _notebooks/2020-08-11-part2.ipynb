{
 "cells": [
  {
   "cell_type": "markdown",
   "id": "98380cd3",
   "metadata": {
    "papermill": {
     "duration": 0.028018,
     "end_time": "2021-10-07T20:07:38.036006",
     "exception": false,
     "start_time": "2021-10-07T20:07:38.007988",
     "status": "completed"
    },
    "tags": []
   },
   "source": [
    "# Distinguish Your Own Digits (DYOD)"
   ]
  },
  {
   "cell_type": "markdown",
   "id": "ef31240d",
   "metadata": {
    "papermill": {
     "duration": 0.027581,
     "end_time": "2021-10-07T20:07:38.094837",
     "exception": false,
     "start_time": "2021-10-07T20:07:38.067256",
     "status": "completed"
    },
    "tags": []
   },
   "source": [
    "You are going to write a classifier that distinguishes between the number 3 and number 8."
   ]
  },
  {
   "cell_type": "code",
   "execution_count": 1,
   "id": "b15c8646",
   "metadata": {
    "execution": {
     "iopub.execute_input": "2021-10-07T20:07:38.159055Z",
     "iopub.status.busy": "2021-10-07T20:07:38.158323Z",
     "iopub.status.idle": "2021-10-07T20:07:38.168731Z",
     "shell.execute_reply": "2021-10-07T20:07:38.168198Z"
    },
    "papermill": {
     "duration": 0.047817,
     "end_time": "2021-10-07T20:07:38.168861",
     "exception": false,
     "start_time": "2021-10-07T20:07:38.121044",
     "status": "completed"
    },
    "tags": []
   },
   "outputs": [],
   "source": [
    "%load_ext autoreload\n",
    "%autoreload 2"
   ]
  },
  {
   "cell_type": "code",
   "execution_count": 2,
   "id": "22ef38dc",
   "metadata": {
    "execution": {
     "iopub.execute_input": "2021-10-07T20:07:38.223095Z",
     "iopub.status.busy": "2021-10-07T20:07:38.222475Z",
     "iopub.status.idle": "2021-10-07T20:07:38.766911Z",
     "shell.execute_reply": "2021-10-07T20:07:38.766307Z"
    },
    "papermill": {
     "duration": 0.572065,
     "end_time": "2021-10-07T20:07:38.767041",
     "exception": false,
     "start_time": "2021-10-07T20:07:38.194976",
     "status": "completed"
    },
    "tags": []
   },
   "outputs": [],
   "source": [
    "%matplotlib inline\n",
    "import numpy as np\n",
    "import matplotlib.pyplot as plt\n",
    "import pandas as pd"
   ]
  },
  {
   "cell_type": "markdown",
   "id": "ba036198",
   "metadata": {
    "papermill": {
     "duration": 0.026336,
     "end_time": "2021-10-07T20:07:38.819775",
     "exception": false,
     "start_time": "2021-10-07T20:07:38.793439",
     "status": "completed"
    },
    "tags": []
   },
   "source": [
    "From the command line run `pip install mnist`. This is a library that will help you bring down the mnist dataset. If you run this from a notebook, you need to put  `!pip install mnist` in a cell by itself."
   ]
  },
  {
   "cell_type": "code",
   "execution_count": 3,
   "id": "bb6ad8a1",
   "metadata": {
    "execution": {
     "iopub.execute_input": "2021-10-07T20:07:38.871543Z",
     "iopub.status.busy": "2021-10-07T20:07:38.870998Z",
     "iopub.status.idle": "2021-10-07T20:07:40.685283Z",
     "shell.execute_reply": "2021-10-07T20:07:40.684783Z"
    },
    "papermill": {
     "duration": 1.841564,
     "end_time": "2021-10-07T20:07:40.685412",
     "exception": false,
     "start_time": "2021-10-07T20:07:38.843848",
     "status": "completed"
    },
    "tags": []
   },
   "outputs": [
    {
     "name": "stdout",
     "output_type": "stream",
     "text": [
      "Collecting mnist\r\n"
     ]
    },
    {
     "name": "stdout",
     "output_type": "stream",
     "text": [
      "  Downloading mnist-0.2.2-py2.py3-none-any.whl (3.5 kB)\r\n",
      "Requirement already satisfied: numpy in /opt/hostedtoolcache/Python/3.6.15/x64/lib/python3.6/site-packages (from mnist) (1.19.5)\r\n"
     ]
    },
    {
     "name": "stdout",
     "output_type": "stream",
     "text": [
      "Installing collected packages: mnist\r\n",
      "Successfully installed mnist-0.2.2\r\n"
     ]
    }
   ],
   "source": [
    "!pip install mnist"
   ]
  },
  {
   "cell_type": "markdown",
   "id": "69df9c9a",
   "metadata": {
    "papermill": {
     "duration": 0.02532,
     "end_time": "2021-10-07T20:07:40.737536",
     "exception": false,
     "start_time": "2021-10-07T20:07:40.712216",
     "status": "completed"
    },
    "tags": []
   },
   "source": [
    "## Preparing the Data"
   ]
  },
  {
   "cell_type": "code",
   "execution_count": 4,
   "id": "7f69d806",
   "metadata": {
    "execution": {
     "iopub.execute_input": "2021-10-07T20:07:40.792252Z",
     "iopub.status.busy": "2021-10-07T20:07:40.791691Z",
     "iopub.status.idle": "2021-10-07T20:07:40.805164Z",
     "shell.execute_reply": "2021-10-07T20:07:40.805678Z"
    },
    "papermill": {
     "duration": 0.0431,
     "end_time": "2021-10-07T20:07:40.805796",
     "exception": false,
     "start_time": "2021-10-07T20:07:40.762696",
     "status": "completed"
    },
    "tags": []
   },
   "outputs": [],
   "source": [
    "import mnist"
   ]
  },
  {
   "cell_type": "code",
   "execution_count": 5,
   "id": "a411e44f",
   "metadata": {
    "execution": {
     "iopub.execute_input": "2021-10-07T20:07:40.863448Z",
     "iopub.status.busy": "2021-10-07T20:07:40.862844Z",
     "iopub.status.idle": "2021-10-07T20:07:41.445247Z",
     "shell.execute_reply": "2021-10-07T20:07:41.444601Z"
    },
    "papermill": {
     "duration": 0.613771,
     "end_time": "2021-10-07T20:07:41.445415",
     "exception": false,
     "start_time": "2021-10-07T20:07:40.831644",
     "status": "completed"
    },
    "tags": []
   },
   "outputs": [],
   "source": [
    "train_images = mnist.train_images()\n",
    "train_labels = mnist.train_labels()"
   ]
  },
  {
   "cell_type": "code",
   "execution_count": 6,
   "id": "dceab3a5",
   "metadata": {
    "execution": {
     "iopub.execute_input": "2021-10-07T20:07:41.506014Z",
     "iopub.status.busy": "2021-10-07T20:07:41.505477Z",
     "iopub.status.idle": "2021-10-07T20:07:41.519089Z",
     "shell.execute_reply": "2021-10-07T20:07:41.519729Z"
    },
    "papermill": {
     "duration": 0.045269,
     "end_time": "2021-10-07T20:07:41.519899",
     "exception": false,
     "start_time": "2021-10-07T20:07:41.474630",
     "status": "completed"
    },
    "tags": []
   },
   "outputs": [
    {
     "data": {
      "text/plain": [
       "((60000, 28, 28), (60000,))"
      ]
     },
     "execution_count": 6,
     "metadata": {},
     "output_type": "execute_result"
    }
   ],
   "source": [
    "train_images.shape, train_labels.shape"
   ]
  },
  {
   "cell_type": "code",
   "execution_count": 7,
   "id": "f50dc2bb",
   "metadata": {
    "execution": {
     "iopub.execute_input": "2021-10-07T20:07:41.580372Z",
     "iopub.status.busy": "2021-10-07T20:07:41.579796Z",
     "iopub.status.idle": "2021-10-07T20:07:41.778461Z",
     "shell.execute_reply": "2021-10-07T20:07:41.777798Z"
    },
    "papermill": {
     "duration": 0.228874,
     "end_time": "2021-10-07T20:07:41.778629",
     "exception": false,
     "start_time": "2021-10-07T20:07:41.549755",
     "status": "completed"
    },
    "tags": []
   },
   "outputs": [],
   "source": [
    "test_images = mnist.test_images()\n",
    "test_labels = mnist.test_labels()"
   ]
  },
  {
   "cell_type": "code",
   "execution_count": 8,
   "id": "fc38cf1b",
   "metadata": {
    "execution": {
     "iopub.execute_input": "2021-10-07T20:07:41.843355Z",
     "iopub.status.busy": "2021-10-07T20:07:41.841886Z",
     "iopub.status.idle": "2021-10-07T20:07:41.854914Z",
     "shell.execute_reply": "2021-10-07T20:07:41.855464Z"
    },
    "papermill": {
     "duration": 0.045713,
     "end_time": "2021-10-07T20:07:41.855587",
     "exception": false,
     "start_time": "2021-10-07T20:07:41.809874",
     "status": "completed"
    },
    "tags": []
   },
   "outputs": [
    {
     "data": {
      "text/plain": [
       "((10000, 28, 28), (10000,))"
      ]
     },
     "execution_count": 8,
     "metadata": {},
     "output_type": "execute_result"
    }
   ],
   "source": [
    "test_images.shape, test_labels.shape"
   ]
  },
  {
   "cell_type": "code",
   "execution_count": 9,
   "id": "f9ed8fe0",
   "metadata": {
    "execution": {
     "iopub.execute_input": "2021-10-07T20:07:41.921615Z",
     "iopub.status.busy": "2021-10-07T20:07:41.921064Z",
     "iopub.status.idle": "2021-10-07T20:07:42.104269Z",
     "shell.execute_reply": "2021-10-07T20:07:42.104747Z"
    },
    "papermill": {
     "duration": 0.221768,
     "end_time": "2021-10-07T20:07:42.104894",
     "exception": false,
     "start_time": "2021-10-07T20:07:41.883126",
     "status": "completed"
    },
    "tags": []
   },
   "outputs": [
    {
     "name": "stdout",
     "output_type": "stream",
     "text": [
      "2\n"
     ]
    },
    {
     "data": {
      "text/plain": [
       "<matplotlib.image.AxesImage at 0x7f8b00a56828>"
      ]
     },
     "execution_count": 9,
     "metadata": {},
     "output_type": "execute_result"
    },
    {
     "data": {
      "image/png": "[encoded data removed]",
      "text/plain": [
       "<Figure size 432x288 with 1 Axes>"
      ]
     },
     "metadata": {
      "needs_background": "light"
     },
     "output_type": "display_data"
    }
   ],
   "source": [
    "image_index = 7776 # You may select anything up to 60,000\n",
    "print(train_labels[image_index]) \n",
    "plt.imshow(train_images[image_index], cmap='Greys')"
   ]
  },
  {
   "cell_type": "markdown",
   "id": "a8d2388d",
   "metadata": {
    "papermill": {
     "duration": 0.028828,
     "end_time": "2021-10-07T20:07:42.167299",
     "exception": false,
     "start_time": "2021-10-07T20:07:42.138471",
     "status": "completed"
    },
    "tags": []
   },
   "source": [
    "## Filter data to get 3 and 8 out"
   ]
  },
  {
   "cell_type": "code",
   "execution_count": 10,
   "id": "776f7fc7",
   "metadata": {
    "execution": {
     "iopub.execute_input": "2021-10-07T20:07:42.230120Z",
     "iopub.status.busy": "2021-10-07T20:07:42.229561Z",
     "iopub.status.idle": "2021-10-07T20:07:42.247110Z",
     "shell.execute_reply": "2021-10-07T20:07:42.246645Z"
    },
    "papermill": {
     "duration": 0.050708,
     "end_time": "2021-10-07T20:07:42.247247",
     "exception": false,
     "start_time": "2021-10-07T20:07:42.196539",
     "status": "completed"
    },
    "tags": []
   },
   "outputs": [],
   "source": [
    "train_filter = np.where((train_labels == 3 ) | (train_labels == 8))\n",
    "test_filter = np.where((test_labels == 3) | (test_labels == 8))\n",
    "X_train, y_train = train_images[train_filter], train_labels[train_filter]\n",
    "X_test, y_test = test_images[test_filter], test_labels[test_filter]"
   ]
  },
  {
   "cell_type": "markdown",
   "id": "948f0b7e",
   "metadata": {
    "papermill": {
     "duration": 0.028302,
     "end_time": "2021-10-07T20:07:42.304707",
     "exception": false,
     "start_time": "2021-10-07T20:07:42.276405",
     "status": "completed"
    },
    "tags": []
   },
   "source": [
    "We normalize the pizel values in the 0 to 1 range"
   ]
  },
  {
   "cell_type": "code",
   "execution_count": 11,
   "id": "ee4c2166",
   "metadata": {
    "execution": {
     "iopub.execute_input": "2021-10-07T20:07:42.366247Z",
     "iopub.status.busy": "2021-10-07T20:07:42.365687Z",
     "iopub.status.idle": "2021-10-07T20:07:42.429422Z",
     "shell.execute_reply": "2021-10-07T20:07:42.428879Z"
    },
    "papermill": {
     "duration": 0.096996,
     "end_time": "2021-10-07T20:07:42.429576",
     "exception": false,
     "start_time": "2021-10-07T20:07:42.332580",
     "status": "completed"
    },
    "tags": []
   },
   "outputs": [],
   "source": [
    "X_train = X_train/255.\n",
    "X_test = X_test/255."
   ]
  },
  {
   "cell_type": "markdown",
   "id": "ddcf4fab",
   "metadata": {
    "papermill": {
     "duration": 0.027405,
     "end_time": "2021-10-07T20:07:42.486110",
     "exception": false,
     "start_time": "2021-10-07T20:07:42.458705",
     "status": "completed"
    },
    "tags": []
   },
   "source": [
    "And setup the labels as 1 (when the digit is 3) and 0 (when the digit is 8)"
   ]
  },
  {
   "cell_type": "code",
   "execution_count": 12,
   "id": "7dc908f2",
   "metadata": {
    "execution": {
     "iopub.execute_input": "2021-10-07T20:07:42.545213Z",
     "iopub.status.busy": "2021-10-07T20:07:42.544579Z",
     "iopub.status.idle": "2021-10-07T20:07:42.557193Z",
     "shell.execute_reply": "2021-10-07T20:07:42.557680Z"
    },
    "papermill": {
     "duration": 0.045435,
     "end_time": "2021-10-07T20:07:42.557855",
     "exception": false,
     "start_time": "2021-10-07T20:07:42.512420",
     "status": "completed"
    },
    "tags": []
   },
   "outputs": [],
   "source": [
    "y_train = 1*(y_train==3)\n",
    "y_test = 1*(y_test==3)"
   ]
  },
  {
   "cell_type": "code",
   "execution_count": 13,
   "id": "01e4e969",
   "metadata": {
    "execution": {
     "iopub.execute_input": "2021-10-07T20:07:42.617168Z",
     "iopub.status.busy": "2021-10-07T20:07:42.616434Z",
     "iopub.status.idle": "2021-10-07T20:07:42.630249Z",
     "shell.execute_reply": "2021-10-07T20:07:42.629784Z"
    },
    "papermill": {
     "duration": 0.044809,
     "end_time": "2021-10-07T20:07:42.630431",
     "exception": false,
     "start_time": "2021-10-07T20:07:42.585622",
     "status": "completed"
    },
    "tags": []
   },
   "outputs": [
    {
     "data": {
      "text/plain": [
       "((11982, 28, 28), (1984, 28, 28))"
      ]
     },
     "execution_count": 13,
     "metadata": {},
     "output_type": "execute_result"
    }
   ],
   "source": [
    "X_train.shape, X_test.shape"
   ]
  },
  {
   "cell_type": "markdown",
   "id": "5ccf3f85",
   "metadata": {
    "papermill": {
     "duration": 0.030095,
     "end_time": "2021-10-07T20:07:42.692122",
     "exception": false,
     "start_time": "2021-10-07T20:07:42.662027",
     "status": "completed"
    },
    "tags": []
   },
   "source": [
    "We reshape the data to flatten the image pixels into a set of features or co-variates:"
   ]
  },
  {
   "cell_type": "code",
   "execution_count": 14,
   "id": "5286a4a3",
   "metadata": {
    "execution": {
     "iopub.execute_input": "2021-10-07T20:07:42.755230Z",
     "iopub.status.busy": "2021-10-07T20:07:42.754643Z",
     "iopub.status.idle": "2021-10-07T20:07:42.766856Z",
     "shell.execute_reply": "2021-10-07T20:07:42.767379Z"
    },
    "papermill": {
     "duration": 0.044399,
     "end_time": "2021-10-07T20:07:42.767544",
     "exception": false,
     "start_time": "2021-10-07T20:07:42.723145",
     "status": "completed"
    },
    "tags": []
   },
   "outputs": [
    {
     "data": {
      "text/plain": [
       "((11982, 784), (1984, 784))"
      ]
     },
     "execution_count": 14,
     "metadata": {},
     "output_type": "execute_result"
    }
   ],
   "source": [
    "X_train = X_train.reshape(X_train.shape[0], -1)\n",
    "X_test = X_test.reshape(X_test.shape[0], -1)\n",
    "X_train.shape, X_test.shape"
   ]
  },
  {
   "cell_type": "code",
   "execution_count": 15,
   "id": "73c5f88a",
   "metadata": {
    "execution": {
     "iopub.execute_input": "2021-10-07T20:07:42.828219Z",
     "iopub.status.busy": "2021-10-07T20:07:42.827644Z",
     "iopub.status.idle": "2021-10-07T20:07:42.844364Z",
     "shell.execute_reply": "2021-10-07T20:07:42.844816Z"
    },
    "papermill": {
     "duration": 0.049003,
     "end_time": "2021-10-07T20:07:42.844946",
     "exception": false,
     "start_time": "2021-10-07T20:07:42.795943",
     "status": "completed"
    },
    "tags": []
   },
   "outputs": [],
   "source": [
    "#Impoting functions from 'Kudzu'\n",
    "from kudzu.model import Model\n",
    "from kudzu.train import Learner\n",
    "from kudzu.optim import GD\n",
    "from kudzu.data import Data, Sampler,Dataloader\n",
    "\n",
    "from kudzu.callbacks import AccCallback\n",
    "from kudzu.callbacks import ClfCallback\n",
    "\n",
    "from kudzu.loss import MSE\n",
    "\n",
    "from kudzu.layer import Sigmoid,Relu\n",
    "from kudzu.layer import Affine"
   ]
  },
  {
   "cell_type": "markdown",
   "id": "bc01172a",
   "metadata": {
    "papermill": {
     "duration": 0.027502,
     "end_time": "2021-10-07T20:07:42.900153",
     "exception": false,
     "start_time": "2021-10-07T20:07:42.872651",
     "status": "completed"
    },
    "tags": []
   },
   "source": [
    "### Let us create a `Config` class, to store important parameters. \n",
    "This class essentially plays the role of a dictionary."
   ]
  },
  {
   "cell_type": "code",
   "execution_count": 16,
   "id": "978281aa",
   "metadata": {
    "execution": {
     "iopub.execute_input": "2021-10-07T20:07:42.961588Z",
     "iopub.status.busy": "2021-10-07T20:07:42.961014Z",
     "iopub.status.idle": "2021-10-07T20:07:42.971863Z",
     "shell.execute_reply": "2021-10-07T20:07:42.972476Z"
    },
    "papermill": {
     "duration": 0.042423,
     "end_time": "2021-10-07T20:07:42.972605",
     "exception": false,
     "start_time": "2021-10-07T20:07:42.930182",
     "status": "completed"
    },
    "tags": []
   },
   "outputs": [],
   "source": [
    "class Config:\n",
    "    pass\n",
    "config = Config()\n",
    "config.lr = 0.001\n",
    "config.num_epochs = 250\n",
    "config.bs = 50"
   ]
  },
  {
   "cell_type": "markdown",
   "id": "1385fa59",
   "metadata": {
    "papermill": {
     "duration": 0.028199,
     "end_time": "2021-10-07T20:07:43.031800",
     "exception": false,
     "start_time": "2021-10-07T20:07:43.003601",
     "status": "completed"
    },
    "tags": []
   },
   "source": [
    "### Running Models with the Training data\n",
    "Details about the network layers:\n",
    "- A first affine layer has 784 inputs and does 100 affine transforms. These are followed by a Relu\n",
    "- A second affine layer has 100 inputs from the 100 activations of the past layer, and does 100 affine transforms. These are followed by a Relu\n",
    "- A third affine layer has 100 activations and does 2 affine transformations to create an embedding for visualization. There is no non-linearity here.\n",
    "- A final \"logistic regression\" which has an affine transform from 2 inputs to 1 output, which is squeezed through a sigmoid.\n"
   ]
  },
  {
   "cell_type": "code",
   "execution_count": 17,
   "id": "2b9c66db",
   "metadata": {
    "execution": {
     "iopub.execute_input": "2021-10-07T20:07:43.090812Z",
     "iopub.status.busy": "2021-10-07T20:07:43.090258Z",
     "iopub.status.idle": "2021-10-07T20:07:43.101609Z",
     "shell.execute_reply": "2021-10-07T20:07:43.102128Z"
    },
    "papermill": {
     "duration": 0.041894,
     "end_time": "2021-10-07T20:07:43.102244",
     "exception": false,
     "start_time": "2021-10-07T20:07:43.060350",
     "status": "completed"
    },
    "tags": []
   },
   "outputs": [],
   "source": [
    "data = Data(X_train, y_train.reshape(-1,1))\n",
    "sampler = Sampler(data, config.bs, shuffle=True)\n",
    "\n",
    "dl = Dataloader(data, sampler)\n",
    "\n",
    "opt = GD(config.lr)\n",
    "loss = MSE()"
   ]
  },
  {
   "cell_type": "code",
   "execution_count": 18,
   "id": "b275e4c2",
   "metadata": {
    "execution": {
     "iopub.execute_input": "2021-10-07T20:07:43.165132Z",
     "iopub.status.busy": "2021-10-07T20:07:43.164438Z",
     "iopub.status.idle": "2021-10-07T20:07:43.175484Z",
     "shell.execute_reply": "2021-10-07T20:07:43.175989Z"
    },
    "papermill": {
     "duration": 0.045561,
     "end_time": "2021-10-07T20:07:43.176152",
     "exception": false,
     "start_time": "2021-10-07T20:07:43.130591",
     "status": "completed"
    },
    "tags": []
   },
   "outputs": [],
   "source": [
    "training_data_x = X_train\n",
    "testing_data_x = X_test\n",
    "training_data_y = y_train.reshape(-1,1)\n",
    "testing_data_y = y_test.reshape(-1,1)"
   ]
  },
  {
   "cell_type": "code",
   "execution_count": 19,
   "id": "76951160",
   "metadata": {
    "execution": {
     "iopub.execute_input": "2021-10-07T20:07:43.256575Z",
     "iopub.status.busy": "2021-10-07T20:07:43.255967Z",
     "iopub.status.idle": "2021-10-07T20:07:43.271782Z",
     "shell.execute_reply": "2021-10-07T20:07:43.272366Z"
    },
    "papermill": {
     "duration": 0.054837,
     "end_time": "2021-10-07T20:07:43.272489",
     "exception": false,
     "start_time": "2021-10-07T20:07:43.217652",
     "status": "completed"
    },
    "tags": []
   },
   "outputs": [
    {
     "name": "stdout",
     "output_type": "stream",
     "text": [
      "xavier\n",
      "xavier\n",
      "xavier\n",
      "xavier\n",
      "xavier\n"
     ]
    }
   ],
   "source": [
    "layers = [Affine(\"first\", 784, 100), Relu(\"first\"), Affine(\"second\", 100, 100), Relu(\"second\"), Affine(\"third\", 100, 2), Affine(\"last\", 2, 1), Sigmoid(\"last\")]\n",
    "model_nn = Model(layers)\n",
    "model_lr = Model([Affine(\"logits\", 784, 1), Sigmoid(\"sigmoid\")])"
   ]
  },
  {
   "cell_type": "code",
   "execution_count": 20,
   "id": "6eede77a",
   "metadata": {
    "execution": {
     "iopub.execute_input": "2021-10-07T20:07:43.335805Z",
     "iopub.status.busy": "2021-10-07T20:07:43.335195Z",
     "iopub.status.idle": "2021-10-07T20:07:43.347244Z",
     "shell.execute_reply": "2021-10-07T20:07:43.347765Z"
    },
    "papermill": {
     "duration": 0.045778,
     "end_time": "2021-10-07T20:07:43.347883",
     "exception": false,
     "start_time": "2021-10-07T20:07:43.302105",
     "status": "completed"
    },
    "tags": []
   },
   "outputs": [],
   "source": [
    "nn_learner = Learner(loss, model_nn, opt, config.num_epochs)\n",
    "acc_nn = ClfCallback(nn_learner, config.bs, training_data_x , testing_data_x, training_data_y, testing_data_y)\n",
    "nn_learner.set_callbacks([acc_nn])"
   ]
  },
  {
   "cell_type": "code",
   "execution_count": 21,
   "id": "877b6cc7",
   "metadata": {
    "execution": {
     "iopub.execute_input": "2021-10-07T20:07:43.408132Z",
     "iopub.status.busy": "2021-10-07T20:07:43.407559Z",
     "iopub.status.idle": "2021-10-07T20:07:43.421216Z",
     "shell.execute_reply": "2021-10-07T20:07:43.420752Z"
    },
    "papermill": {
     "duration": 0.045706,
     "end_time": "2021-10-07T20:07:43.421329",
     "exception": false,
     "start_time": "2021-10-07T20:07:43.375623",
     "status": "completed"
    },
    "tags": []
   },
   "outputs": [],
   "source": [
    "lr_learner = Learner(loss, model_lr, opt, config.num_epochs)\n",
    "acc_lr = ClfCallback(lr_learner, config.bs, training_data_x , testing_data_x, training_data_y, testing_data_y)\n",
    "lr_learner.set_callbacks([acc_lr])"
   ]
  },
  {
   "cell_type": "code",
   "execution_count": 22,
   "id": "d9b133c3",
   "metadata": {
    "execution": {
     "iopub.execute_input": "2021-10-07T20:07:43.482283Z",
     "iopub.status.busy": "2021-10-07T20:07:43.481774Z",
     "iopub.status.idle": "2021-10-07T20:09:58.873107Z",
     "shell.execute_reply": "2021-10-07T20:09:58.873861Z"
    },
    "papermill": {
     "duration": 135.423905,
     "end_time": "2021-10-07T20:09:58.874009",
     "exception": false,
     "start_time": "2021-10-07T20:07:43.450104",
     "status": "completed"
    },
    "tags": []
   },
   "outputs": [
    {
     "name": "stdout",
     "output_type": "stream",
     "text": [
      "Epoch 0, Loss 0.2475\n",
      "Training Accuracy: 0.5880, Testing Accuracy: 0.5943\n",
      "\n"
     ]
    },
    {
     "name": "stdout",
     "output_type": "stream",
     "text": [
      "Epoch 10, Loss 0.1203\n",
      "Training Accuracy: 0.9007, Testing Accuracy: 0.9128\n",
      "\n"
     ]
    },
    {
     "name": "stdout",
     "output_type": "stream",
     "text": [
      "Epoch 20, Loss 0.0662\n",
      "Training Accuracy: 0.9341, Testing Accuracy: 0.9446\n",
      "\n"
     ]
    },
    {
     "name": "stdout",
     "output_type": "stream",
     "text": [
      "Epoch 30, Loss 0.0493\n",
      "Training Accuracy: 0.9479, Testing Accuracy: 0.9531\n",
      "\n"
     ]
    },
    {
     "name": "stdout",
     "output_type": "stream",
     "text": [
      "Epoch 40, Loss 0.0416\n",
      "Training Accuracy: 0.9534, Testing Accuracy: 0.9622\n",
      "\n"
     ]
    },
    {
     "name": "stdout",
     "output_type": "stream",
     "text": [
      "Epoch 50, Loss 0.0373\n",
      "Training Accuracy: 0.9583, Testing Accuracy: 0.9642\n",
      "\n"
     ]
    },
    {
     "name": "stdout",
     "output_type": "stream",
     "text": [
      "Epoch 60, Loss 0.0344\n",
      "Training Accuracy: 0.9609, Testing Accuracy: 0.9657\n",
      "\n"
     ]
    },
    {
     "name": "stdout",
     "output_type": "stream",
     "text": [
      "Epoch 70, Loss 0.0323\n",
      "Training Accuracy: 0.9632, Testing Accuracy: 0.9662\n",
      "\n"
     ]
    },
    {
     "name": "stdout",
     "output_type": "stream",
     "text": [
      "Epoch 80, Loss 0.0307\n",
      "Training Accuracy: 0.9654, Testing Accuracy: 0.9672\n",
      "\n"
     ]
    },
    {
     "name": "stdout",
     "output_type": "stream",
     "text": [
      "Epoch 90, Loss 0.0293\n",
      "Training Accuracy: 0.9664, Testing Accuracy: 0.9672\n",
      "\n"
     ]
    },
    {
     "name": "stdout",
     "output_type": "stream",
     "text": [
      "Epoch 100, Loss 0.0282\n",
      "Training Accuracy: 0.9679, Testing Accuracy: 0.9682\n",
      "\n"
     ]
    },
    {
     "name": "stdout",
     "output_type": "stream",
     "text": [
      "Epoch 110, Loss 0.0273\n",
      "Training Accuracy: 0.9687, Testing Accuracy: 0.9688\n",
      "\n"
     ]
    },
    {
     "name": "stdout",
     "output_type": "stream",
     "text": [
      "Epoch 120, Loss 0.0264\n",
      "Training Accuracy: 0.9698, Testing Accuracy: 0.9698\n",
      "\n"
     ]
    },
    {
     "name": "stdout",
     "output_type": "stream",
     "text": [
      "Epoch 130, Loss 0.0257\n",
      "Training Accuracy: 0.9710, Testing Accuracy: 0.9698\n",
      "\n"
     ]
    },
    {
     "name": "stdout",
     "output_type": "stream",
     "text": [
      "Epoch 140, Loss 0.025\n",
      "Training Accuracy: 0.9716, Testing Accuracy: 0.9698\n",
      "\n"
     ]
    },
    {
     "name": "stdout",
     "output_type": "stream",
     "text": [
      "Epoch 150, Loss 0.0244\n",
      "Training Accuracy: 0.9720, Testing Accuracy: 0.9708\n",
      "\n"
     ]
    },
    {
     "name": "stdout",
     "output_type": "stream",
     "text": [
      "Epoch 160, Loss 0.0239\n",
      "Training Accuracy: 0.9725, Testing Accuracy: 0.9713\n",
      "\n"
     ]
    },
    {
     "name": "stdout",
     "output_type": "stream",
     "text": [
      "Epoch 170, Loss 0.0234\n",
      "Training Accuracy: 0.9732, Testing Accuracy: 0.9708\n",
      "\n"
     ]
    },
    {
     "name": "stdout",
     "output_type": "stream",
     "text": [
      "Epoch 180, Loss 0.0229\n",
      "Training Accuracy: 0.9738, Testing Accuracy: 0.9703\n",
      "\n"
     ]
    },
    {
     "name": "stdout",
     "output_type": "stream",
     "text": [
      "Epoch 190, Loss 0.0224\n",
      "Training Accuracy: 0.9745, Testing Accuracy: 0.9703\n",
      "\n"
     ]
    },
    {
     "name": "stdout",
     "output_type": "stream",
     "text": [
      "Epoch 200, Loss 0.022\n",
      "Training Accuracy: 0.9748, Testing Accuracy: 0.9708\n",
      "\n"
     ]
    },
    {
     "name": "stdout",
     "output_type": "stream",
     "text": [
      "Epoch 210, Loss 0.0216\n",
      "Training Accuracy: 0.9755, Testing Accuracy: 0.9708\n",
      "\n"
     ]
    },
    {
     "name": "stdout",
     "output_type": "stream",
     "text": [
      "Epoch 220, Loss 0.0212\n",
      "Training Accuracy: 0.9761, Testing Accuracy: 0.9708\n",
      "\n"
     ]
    },
    {
     "name": "stdout",
     "output_type": "stream",
     "text": [
      "Epoch 230, Loss 0.0208\n",
      "Training Accuracy: 0.9765, Testing Accuracy: 0.9713\n",
      "\n"
     ]
    },
    {
     "name": "stdout",
     "output_type": "stream",
     "text": [
      "Epoch 240, Loss 0.0204\n",
      "Training Accuracy: 0.9767, Testing Accuracy: 0.9718\n",
      "\n"
     ]
    },
    {
     "data": {
      "text/plain": [
       "0.04240038906232775"
      ]
     },
     "execution_count": 22,
     "metadata": {},
     "output_type": "execute_result"
    }
   ],
   "source": [
    "nn_learner.train_loop(dl)"
   ]
  },
  {
   "cell_type": "code",
   "execution_count": 23,
   "id": "e0163366",
   "metadata": {
    "execution": {
     "iopub.execute_input": "2021-10-07T20:09:58.962539Z",
     "iopub.status.busy": "2021-10-07T20:09:58.960918Z",
     "iopub.status.idle": "2021-10-07T20:10:18.243270Z",
     "shell.execute_reply": "2021-10-07T20:10:18.244292Z"
    },
    "papermill": {
     "duration": 19.332109,
     "end_time": "2021-10-07T20:10:18.244486",
     "exception": false,
     "start_time": "2021-10-07T20:09:58.912377",
     "status": "completed"
    },
    "tags": []
   },
   "outputs": [
    {
     "name": "stdout",
     "output_type": "stream",
     "text": [
      "Epoch 0, Loss 0.2526\n",
      "Training Accuracy: 0.6531, Testing Accuracy: 0.6442\n",
      "\n"
     ]
    },
    {
     "name": "stdout",
     "output_type": "stream",
     "text": [
      "Epoch 10, Loss 0.1036\n",
      "Training Accuracy: 0.9064, Testing Accuracy: 0.9138\n",
      "\n"
     ]
    },
    {
     "name": "stdout",
     "output_type": "stream",
     "text": [
      "Epoch 20, Loss 0.0805\n",
      "Training Accuracy: 0.9237, Testing Accuracy: 0.9320\n",
      "\n"
     ]
    },
    {
     "name": "stdout",
     "output_type": "stream",
     "text": [
      "Epoch 30, Loss 0.0697\n",
      "Training Accuracy: 0.9319, Testing Accuracy: 0.9441\n",
      "\n"
     ]
    },
    {
     "name": "stdout",
     "output_type": "stream",
     "text": [
      "Epoch 40, Loss 0.063\n",
      "Training Accuracy: 0.9374, Testing Accuracy: 0.9501\n",
      "\n"
     ]
    },
    {
     "name": "stdout",
     "output_type": "stream",
     "text": [
      "Epoch 50, Loss 0.0584\n",
      "Training Accuracy: 0.9418, Testing Accuracy: 0.9526\n",
      "\n"
     ]
    },
    {
     "name": "stdout",
     "output_type": "stream",
     "text": [
      "Epoch 60, Loss 0.055\n",
      "Training Accuracy: 0.9448, Testing Accuracy: 0.9541\n",
      "\n"
     ]
    },
    {
     "name": "stdout",
     "output_type": "stream",
     "text": [
      "Epoch 70, Loss 0.0524\n",
      "Training Accuracy: 0.9475, Testing Accuracy: 0.9551\n",
      "\n"
     ]
    },
    {
     "name": "stdout",
     "output_type": "stream",
     "text": [
      "Epoch 80, Loss 0.0503\n",
      "Training Accuracy: 0.9494, Testing Accuracy: 0.9561\n",
      "\n"
     ]
    },
    {
     "name": "stdout",
     "output_type": "stream",
     "text": [
      "Epoch 90, Loss 0.0485\n",
      "Training Accuracy: 0.9512, Testing Accuracy: 0.9561\n",
      "\n"
     ]
    },
    {
     "name": "stdout",
     "output_type": "stream",
     "text": [
      "Epoch 100, Loss 0.047\n",
      "Training Accuracy: 0.9524, Testing Accuracy: 0.9577\n",
      "\n"
     ]
    },
    {
     "name": "stdout",
     "output_type": "stream",
     "text": [
      "Epoch 110, Loss 0.0457\n",
      "Training Accuracy: 0.9536, Testing Accuracy: 0.9597\n",
      "\n"
     ]
    },
    {
     "name": "stdout",
     "output_type": "stream",
     "text": [
      "Epoch 120, Loss 0.0446\n",
      "Training Accuracy: 0.9543, Testing Accuracy: 0.9602\n",
      "\n"
     ]
    },
    {
     "name": "stdout",
     "output_type": "stream",
     "text": [
      "Epoch 130, Loss 0.0437\n",
      "Training Accuracy: 0.9549, Testing Accuracy: 0.9627\n",
      "\n"
     ]
    },
    {
     "name": "stdout",
     "output_type": "stream",
     "text": [
      "Epoch 140, Loss 0.0428\n",
      "Training Accuracy: 0.9553, Testing Accuracy: 0.9632\n",
      "\n"
     ]
    },
    {
     "name": "stdout",
     "output_type": "stream",
     "text": [
      "Epoch 150, Loss 0.042\n",
      "Training Accuracy: 0.9556, Testing Accuracy: 0.9637\n",
      "\n"
     ]
    },
    {
     "name": "stdout",
     "output_type": "stream",
     "text": [
      "Epoch 160, Loss 0.0413\n",
      "Training Accuracy: 0.9561, Testing Accuracy: 0.9632\n",
      "\n"
     ]
    },
    {
     "name": "stdout",
     "output_type": "stream",
     "text": [
      "Epoch 170, Loss 0.0407\n",
      "Training Accuracy: 0.9568, Testing Accuracy: 0.9637\n",
      "\n"
     ]
    },
    {
     "name": "stdout",
     "output_type": "stream",
     "text": [
      "Epoch 180, Loss 0.0401\n",
      "Training Accuracy: 0.9570, Testing Accuracy: 0.9642\n",
      "\n"
     ]
    },
    {
     "name": "stdout",
     "output_type": "stream",
     "text": [
      "Epoch 190, Loss 0.0395\n",
      "Training Accuracy: 0.9572, Testing Accuracy: 0.9647\n",
      "\n"
     ]
    },
    {
     "name": "stdout",
     "output_type": "stream",
     "text": [
      "Epoch 200, Loss 0.039\n",
      "Training Accuracy: 0.9574, Testing Accuracy: 0.9657\n",
      "\n"
     ]
    },
    {
     "name": "stdout",
     "output_type": "stream",
     "text": [
      "Epoch 210, Loss 0.0386\n",
      "Training Accuracy: 0.9579, Testing Accuracy: 0.9667\n",
      "\n"
     ]
    },
    {
     "name": "stdout",
     "output_type": "stream",
     "text": [
      "Epoch 220, Loss 0.0382\n",
      "Training Accuracy: 0.9579, Testing Accuracy: 0.9667\n",
      "\n"
     ]
    },
    {
     "name": "stdout",
     "output_type": "stream",
     "text": [
      "Epoch 230, Loss 0.0378\n",
      "Training Accuracy: 0.9586, Testing Accuracy: 0.9672\n",
      "\n"
     ]
    },
    {
     "name": "stdout",
     "output_type": "stream",
     "text": [
      "Epoch 240, Loss 0.0374\n",
      "Training Accuracy: 0.9592, Testing Accuracy: 0.9682\n",
      "\n"
     ]
    },
    {
     "data": {
      "text/plain": [
       "0.04159931685277705"
      ]
     },
     "execution_count": 23,
     "metadata": {},
     "output_type": "execute_result"
    }
   ],
   "source": [
    "lr_learner.train_loop(dl)"
   ]
  },
  {
   "cell_type": "code",
   "execution_count": 24,
   "id": "ca410940",
   "metadata": {
    "execution": {
     "iopub.execute_input": "2021-10-07T20:10:18.344020Z",
     "iopub.status.busy": "2021-10-07T20:10:18.343396Z",
     "iopub.status.idle": "2021-10-07T20:10:18.637250Z",
     "shell.execute_reply": "2021-10-07T20:10:18.637930Z"
    },
    "papermill": {
     "duration": 0.345851,
     "end_time": "2021-10-07T20:10:18.638113",
     "exception": false,
     "start_time": "2021-10-07T20:10:18.292262",
     "status": "completed"
    },
    "tags": []
   },
   "outputs": [
    {
     "data": {
      "text/plain": [
       "<matplotlib.legend.Legend at 0x7f8af322f908>"
      ]
     },
     "execution_count": 24,
     "metadata": {},
     "output_type": "execute_result"
    },
    {
     "data": {
      "image/png": "[encoded data removed]",
      "text/plain": [
       "<Figure size 1080x720 with 1 Axes>"
      ]
     },
     "metadata": {
      "needs_background": "light"
     },
     "output_type": "display_data"
    }
   ],
   "source": [
    "#comparing the results of NN and LR\n",
    "plt.figure(figsize=(15,10))\n",
    "\n",
    "# Neural Network plots\n",
    "plt.plot(acc_nn.accuracies, 'r-', label = \"Training Accuracies - NN\")\n",
    "plt.plot(acc_nn.test_accuracies, 'g-', label = \"Testing Accuracies - NN\")\n",
    "\n",
    "# Logistic Regression plots\n",
    "plt.plot(acc_lr.accuracies, 'k-', label = \"Training Accuracies - LR\")\n",
    "plt.plot(acc_lr.test_accuracies, 'b-', label = \"Testing Accuracies - LR\")\n",
    "plt.legend()"
   ]
  },
  {
   "cell_type": "markdown",
   "id": "80dfb35c",
   "metadata": {
    "papermill": {
     "duration": 0.042875,
     "end_time": "2021-10-07T20:10:18.724222",
     "exception": false,
     "start_time": "2021-10-07T20:10:18.681347",
     "status": "completed"
    },
    "tags": []
   },
   "source": [
    "#### Plotting the outputs of this layer of the NN.\n"
   ]
  },
  {
   "cell_type": "code",
   "execution_count": 25,
   "id": "45eb2ff5",
   "metadata": {
    "execution": {
     "iopub.execute_input": "2021-10-07T20:10:18.817325Z",
     "iopub.status.busy": "2021-10-07T20:10:18.815736Z",
     "iopub.status.idle": "2021-10-07T20:10:18.840175Z",
     "shell.execute_reply": "2021-10-07T20:10:18.840869Z"
    },
    "papermill": {
     "duration": 0.072715,
     "end_time": "2021-10-07T20:10:18.840995",
     "exception": false,
     "start_time": "2021-10-07T20:10:18.768280",
     "status": "completed"
    },
    "tags": []
   },
   "outputs": [],
   "source": [
    "new_model = Model(layers[:-2])\n",
    "testing_plot = new_model(testing_data_x)"
   ]
  },
  {
   "cell_type": "code",
   "execution_count": 26,
   "id": "4c0a5485",
   "metadata": {
    "execution": {
     "iopub.execute_input": "2021-10-07T20:10:18.951546Z",
     "iopub.status.busy": "2021-10-07T20:10:18.951014Z",
     "iopub.status.idle": "2021-10-07T20:10:19.200655Z",
     "shell.execute_reply": "2021-10-07T20:10:19.200185Z"
    },
    "papermill": {
     "duration": 0.306344,
     "end_time": "2021-10-07T20:10:19.200783",
     "exception": false,
     "start_time": "2021-10-07T20:10:18.894439",
     "status": "completed"
    },
    "tags": []
   },
   "outputs": [
    {
     "data": {
      "text/plain": [
       "Text(0.5, 1.0, 'Outputs')"
      ]
     },
     "execution_count": 26,
     "metadata": {},
     "output_type": "execute_result"
    },
    {
     "data": {
      "image/png": "[encoded data removed]",
      "text/plain": [
       "<Figure size 576x504 with 1 Axes>"
      ]
     },
     "metadata": {
      "needs_background": "light"
     },
     "output_type": "display_data"
    }
   ],
   "source": [
    "# Plotting the scatter plot of points and color coding by class\n",
    "plt.figure(figsize=(8,7))\n",
    "plt.scatter(testing_plot[:,0], testing_plot[:,1], alpha = 0.1, c = y_test.ravel());\n",
    "plt.title('Outputs')"
   ]
  },
  {
   "cell_type": "markdown",
   "id": "a74fcf8f",
   "metadata": {
    "papermill": {
     "duration": 0.05023,
     "end_time": "2021-10-07T20:10:19.300229",
     "exception": false,
     "start_time": "2021-10-07T20:10:19.249999",
     "status": "completed"
    },
    "tags": []
   },
   "source": [
    "Probability contours"
   ]
  },
  {
   "cell_type": "code",
   "execution_count": 27,
   "id": "d0afc8e3",
   "metadata": {
    "execution": {
     "iopub.execute_input": "2021-10-07T20:10:19.403809Z",
     "iopub.status.busy": "2021-10-07T20:10:19.403093Z",
     "iopub.status.idle": "2021-10-07T20:10:19.410093Z",
     "shell.execute_reply": "2021-10-07T20:10:19.410538Z"
    },
    "papermill": {
     "duration": 0.061509,
     "end_time": "2021-10-07T20:10:19.410685",
     "exception": false,
     "start_time": "2021-10-07T20:10:19.349176",
     "status": "completed"
    },
    "tags": []
   },
   "outputs": [],
   "source": [
    "model_prob = Model(layers[-2:]) "
   ]
  },
  {
   "cell_type": "code",
   "execution_count": 28,
   "id": "9b96e238",
   "metadata": {
    "execution": {
     "iopub.execute_input": "2021-10-07T20:10:19.504901Z",
     "iopub.status.busy": "2021-10-07T20:10:19.504341Z",
     "iopub.status.idle": "2021-10-07T20:10:19.517279Z",
     "shell.execute_reply": "2021-10-07T20:10:19.517705Z"
    },
    "papermill": {
     "duration": 0.062439,
     "end_time": "2021-10-07T20:10:19.517881",
     "exception": false,
     "start_time": "2021-10-07T20:10:19.455442",
     "status": "completed"
    },
    "tags": []
   },
   "outputs": [],
   "source": [
    "#creating the x and y ranges according to the above generated plot.\n",
    "x_range = np.linspace(-4, 1, 100) \n",
    "y_range = np.linspace(-6, 6, 100) \n",
    "x_grid, y_grid = np.meshgrid(x_range, y_range) # x_grid and y_grig are of size 100 X 100\n",
    "\n",
    "# converting x_grid and y_grid to continuous arrays\n",
    "x_gridflat = np.ravel(x_grid)\n",
    "y_gridflat = np.ravel(y_grid)\n",
    "\n",
    "# The last layer of the current model takes two columns as input. Hence transpose of np.vstack() is required.\n",
    "X = np.vstack((x_gridflat, y_gridflat)).T\n",
    "\n",
    "prob_contour = model_prob(X).reshape(100,100) "
   ]
  },
  {
   "cell_type": "code",
   "execution_count": 29,
   "id": "da72499a",
   "metadata": {
    "execution": {
     "iopub.execute_input": "2021-10-07T20:10:19.659755Z",
     "iopub.status.busy": "2021-10-07T20:10:19.658920Z",
     "iopub.status.idle": "2021-10-07T20:10:19.938508Z",
     "shell.execute_reply": "2021-10-07T20:10:19.937546Z"
    },
    "papermill": {
     "duration": 0.341298,
     "end_time": "2021-10-07T20:10:19.938629",
     "exception": false,
     "start_time": "2021-10-07T20:10:19.597331",
     "status": "completed"
    },
    "tags": []
   },
   "outputs": [
    {
     "data": {
      "image/png": "[encoded data removed]",
      "text/plain": [
       "<Figure size 720x648 with 1 Axes>"
      ]
     },
     "metadata": {
      "needs_background": "light"
     },
     "output_type": "display_data"
    }
   ],
   "source": [
    "plt.figure(figsize=(10,9))\n",
    "plt.scatter(testing_plot[:,0], testing_plot[:,1], alpha = 0.1, c = y_test.ravel())\n",
    "contours = plt.contour(x_grid,y_grid,prob_contour)\n",
    "plt.title('Probability Contours')\n",
    "plt.clabel(contours, inline = True );"
   ]
  },
  {
   "cell_type": "code",
   "execution_count": null,
   "id": "e81b4ac7",
   "metadata": {
    "papermill": {
     "duration": 0.051577,
     "end_time": "2021-10-07T20:10:20.037131",
     "exception": false,
     "start_time": "2021-10-07T20:10:19.985554",
     "status": "completed"
    },
    "tags": []
   },
   "outputs": [],
   "source": []
  }
 ],
 "metadata": {
  "kernelspec": {
   "display_name": "Python 3",
   "language": "python",
   "name": "python3"
  },
  "language_info": {
   "codemirror_mode": {
    "name": "ipython",
    "version": 3
   },
   "file_extension": ".py",
   "mimetype": "text/x-python",
   "name": "python",
   "nbconvert_exporter": "python",
   "pygments_lexer": "ipython3",
   "version": "3.6.15"
  },
  "papermill": {
   "default_parameters": {},
   "duration": 163.580494,
   "end_time": "2021-10-07T20:10:20.398748",
   "environment_variables": {},
   "exception": null,
   "input_path": "2020-08-11-part2.ipynb",
   "output_path": "2020-08-11-part2.ipynb",
   "parameters": {},
   "start_time": "2021-10-07T20:07:36.818254",
   "version": "2.3.3"
  }
 },
 "nbformat": 4,
 "nbformat_minor": 5
}