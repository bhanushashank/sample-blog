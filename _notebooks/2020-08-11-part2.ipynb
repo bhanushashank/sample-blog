{
 "cells": [
  {
   "cell_type": "markdown",
   "id": "98380cd3",
   "metadata": {
    "papermill": {
     "duration": 0.037754,
     "end_time": "2022-04-10T10:09:47.495592",
     "exception": false,
     "start_time": "2022-04-10T10:09:47.457838",
     "status": "completed"
    },
    "tags": []
   },
   "source": [
    "# Distinguish Your Own Digits (DYOD)"
   ]
  },
  {
   "cell_type": "markdown",
   "id": "ef31240d",
   "metadata": {
    "papermill": {
     "duration": 0.031736,
     "end_time": "2022-04-10T10:09:47.560696",
     "exception": false,
     "start_time": "2022-04-10T10:09:47.528960",
     "status": "completed"
    },
    "tags": []
   },
   "source": [
    "You are going to write a classifier that distinguishes between the number 3 and number 8."
   ]
  },
  {
   "cell_type": "code",
   "execution_count": 1,
   "id": "b15c8646",
   "metadata": {
    "execution": {
     "iopub.execute_input": "2022-04-10T10:09:47.636499Z",
     "iopub.status.busy": "2022-04-10T10:09:47.635714Z",
     "iopub.status.idle": "2022-04-10T10:09:47.649744Z",
     "shell.execute_reply": "2022-04-10T10:09:47.650309Z"
    },
    "papermill": {
     "duration": 0.060114,
     "end_time": "2022-04-10T10:09:47.650474",
     "exception": false,
     "start_time": "2022-04-10T10:09:47.590360",
     "status": "completed"
    },
    "tags": []
   },
   "outputs": [],
   "source": [
    "%load_ext autoreload\n",
    "%autoreload 2"
   ]
  },
  {
   "cell_type": "code",
   "execution_count": 2,
   "id": "22ef38dc",
   "metadata": {
    "execution": {
     "iopub.execute_input": "2022-04-10T10:09:47.717459Z",
     "iopub.status.busy": "2022-04-10T10:09:47.716781Z",
     "iopub.status.idle": "2022-04-10T10:09:48.395331Z",
     "shell.execute_reply": "2022-04-10T10:09:48.394544Z"
    },
    "papermill": {
     "duration": 0.713952,
     "end_time": "2022-04-10T10:09:48.395496",
     "exception": false,
     "start_time": "2022-04-10T10:09:47.681544",
     "status": "completed"
    },
    "tags": []
   },
   "outputs": [],
   "source": [
    "%matplotlib inline\n",
    "import numpy as np\n",
    "import matplotlib.pyplot as plt\n",
    "import pandas as pd"
   ]
  },
  {
   "cell_type": "markdown",
   "id": "ba036198",
   "metadata": {
    "papermill": {
     "duration": 0.032255,
     "end_time": "2022-04-10T10:09:48.459660",
     "exception": false,
     "start_time": "2022-04-10T10:09:48.427405",
     "status": "completed"
    },
    "tags": []
   },
   "source": [
    "From the command line run `pip install mnist`. This is a library that will help you bring down the mnist dataset. If you run this from a notebook, you need to put  `!pip install mnist` in a cell by itself."
   ]
  },
  {
   "cell_type": "code",
   "execution_count": 3,
   "id": "bb6ad8a1",
   "metadata": {
    "execution": {
     "iopub.execute_input": "2022-04-10T10:09:48.529443Z",
     "iopub.status.busy": "2022-04-10T10:09:48.528757Z",
     "iopub.status.idle": "2022-04-10T10:09:50.623299Z",
     "shell.execute_reply": "2022-04-10T10:09:50.623961Z"
    },
    "papermill": {
     "duration": 2.13215,
     "end_time": "2022-04-10T10:09:50.624204",
     "exception": false,
     "start_time": "2022-04-10T10:09:48.492054",
     "status": "completed"
    },
    "tags": []
   },
   "outputs": [
    {
     "name": "stdout",
     "output_type": "stream",
     "text": [
      "Collecting mnist\r\n",
      "  Downloading mnist-0.2.2-py2.py3-none-any.whl (3.5 kB)\r\n",
      "Requirement already satisfied: numpy in /opt/hostedtoolcache/Python/3.6.15/x64/lib/python3.6/site-packages (from mnist) (1.19.5)\r\n"
     ]
    },
    {
     "name": "stdout",
     "output_type": "stream",
     "text": [
      "Installing collected packages: mnist\r\n"
     ]
    },
    {
     "name": "stdout",
     "output_type": "stream",
     "text": [
      "Successfully installed mnist-0.2.2\r\n"
     ]
    }
   ],
   "source": [
    "!pip install mnist"
   ]
  },
  {
   "cell_type": "markdown",
   "id": "69df9c9a",
   "metadata": {
    "papermill": {
     "duration": 0.032771,
     "end_time": "2022-04-10T10:09:50.691220",
     "exception": false,
     "start_time": "2022-04-10T10:09:50.658449",
     "status": "completed"
    },
    "tags": []
   },
   "source": [
    "## Preparing the Data"
   ]
  },
  {
   "cell_type": "code",
   "execution_count": 4,
   "id": "7f69d806",
   "metadata": {
    "execution": {
     "iopub.execute_input": "2022-04-10T10:09:50.764110Z",
     "iopub.status.busy": "2022-04-10T10:09:50.763427Z",
     "iopub.status.idle": "2022-04-10T10:09:50.801823Z",
     "shell.execute_reply": "2022-04-10T10:09:50.802515Z"
    },
    "papermill": {
     "duration": 0.078146,
     "end_time": "2022-04-10T10:09:50.802678",
     "exception": false,
     "start_time": "2022-04-10T10:09:50.724532",
     "status": "completed"
    },
    "tags": []
   },
   "outputs": [],
   "source": [
    "import mnist"
   ]
  },
  {
   "cell_type": "code",
   "execution_count": 5,
   "id": "a411e44f",
   "metadata": {
    "execution": {
     "iopub.execute_input": "2022-04-10T10:09:50.875422Z",
     "iopub.status.busy": "2022-04-10T10:09:50.874773Z",
     "iopub.status.idle": "2022-04-10T10:09:51.387276Z",
     "shell.execute_reply": "2022-04-10T10:09:51.387791Z"
    },
    "papermill": {
     "duration": 0.549869,
     "end_time": "2022-04-10T10:09:51.387956",
     "exception": false,
     "start_time": "2022-04-10T10:09:50.838087",
     "status": "completed"
    },
    "tags": []
   },
   "outputs": [],
   "source": [
    "train_images = mnist.train_images()\n",
    "train_labels = mnist.train_labels()"
   ]
  },
  {
   "cell_type": "code",
   "execution_count": 6,
   "id": "dceab3a5",
   "metadata": {
    "execution": {
     "iopub.execute_input": "2022-04-10T10:09:51.458828Z",
     "iopub.status.busy": "2022-04-10T10:09:51.458066Z",
     "iopub.status.idle": "2022-04-10T10:09:51.476062Z",
     "shell.execute_reply": "2022-04-10T10:09:51.475561Z"
    },
    "papermill": {
     "duration": 0.055261,
     "end_time": "2022-04-10T10:09:51.476193",
     "exception": false,
     "start_time": "2022-04-10T10:09:51.420932",
     "status": "completed"
    },
    "tags": []
   },
   "outputs": [
    {
     "data": {
      "text/plain": [
       "((60000, 28, 28), (60000,))"
      ]
     },
     "execution_count": 6,
     "metadata": {},
     "output_type": "execute_result"
    }
   ],
   "source": [
    "train_images.shape, train_labels.shape"
   ]
  },
  {
   "cell_type": "code",
   "execution_count": 7,
   "id": "f50dc2bb",
   "metadata": {
    "execution": {
     "iopub.execute_input": "2022-04-10T10:09:51.546846Z",
     "iopub.status.busy": "2022-04-10T10:09:51.546204Z",
     "iopub.status.idle": "2022-04-10T10:09:51.661945Z",
     "shell.execute_reply": "2022-04-10T10:09:51.661328Z"
    },
    "papermill": {
     "duration": 0.154724,
     "end_time": "2022-04-10T10:09:51.662102",
     "exception": false,
     "start_time": "2022-04-10T10:09:51.507378",
     "status": "completed"
    },
    "tags": []
   },
   "outputs": [],
   "source": [
    "test_images = mnist.test_images()\n",
    "test_labels = mnist.test_labels()"
   ]
  },
  {
   "cell_type": "code",
   "execution_count": 8,
   "id": "fc38cf1b",
   "metadata": {
    "execution": {
     "iopub.execute_input": "2022-04-10T10:09:51.734551Z",
     "iopub.status.busy": "2022-04-10T10:09:51.733611Z",
     "iopub.status.idle": "2022-04-10T10:09:51.752136Z",
     "shell.execute_reply": "2022-04-10T10:09:51.752700Z"
    },
    "papermill": {
     "duration": 0.057567,
     "end_time": "2022-04-10T10:09:51.752887",
     "exception": false,
     "start_time": "2022-04-10T10:09:51.695320",
     "status": "completed"
    },
    "tags": []
   },
   "outputs": [
    {
     "data": {
      "text/plain": [
       "((10000, 28, 28), (10000,))"
      ]
     },
     "execution_count": 8,
     "metadata": {},
     "output_type": "execute_result"
    }
   ],
   "source": [
    "test_images.shape, test_labels.shape"
   ]
  },
  {
   "cell_type": "code",
   "execution_count": 9,
   "id": "f9ed8fe0",
   "metadata": {
    "execution": {
     "iopub.execute_input": "2022-04-10T10:09:51.831495Z",
     "iopub.status.busy": "2022-04-10T10:09:51.830827Z",
     "iopub.status.idle": "2022-04-10T10:09:52.036531Z",
     "shell.execute_reply": "2022-04-10T10:09:52.037104Z"
    },
    "papermill": {
     "duration": 0.24685,
     "end_time": "2022-04-10T10:09:52.037311",
     "exception": false,
     "start_time": "2022-04-10T10:09:51.790461",
     "status": "completed"
    },
    "tags": []
   },
   "outputs": [
    {
     "name": "stdout",
     "output_type": "stream",
     "text": [
      "2\n"
     ]
    },
    {
     "data": {
      "text/plain": [
       "<matplotlib.image.AxesImage at 0x7f5e35c31358>"
      ]
     },
     "execution_count": 9,
     "metadata": {},
     "output_type": "execute_result"
    },
    {
     "data": {
      "image/png": "[encoded data removed]",
      "text/plain": [
       "<Figure size 432x288 with 1 Axes>"
      ]
     },
     "metadata": {
      "needs_background": "light"
     },
     "output_type": "display_data"
    }
   ],
   "source": [
    "image_index = 7776 # You may select anything up to 60,000\n",
    "print(train_labels[image_index]) \n",
    "plt.imshow(train_images[image_index], cmap='Greys')"
   ]
  },
  {
   "cell_type": "markdown",
   "id": "a8d2388d",
   "metadata": {
    "papermill": {
     "duration": 0.038066,
     "end_time": "2022-04-10T10:09:52.113312",
     "exception": false,
     "start_time": "2022-04-10T10:09:52.075246",
     "status": "completed"
    },
    "tags": []
   },
   "source": [
    "## Filter data to get 3 and 8 out"
   ]
  },
  {
   "cell_type": "code",
   "execution_count": 10,
   "id": "776f7fc7",
   "metadata": {
    "execution": {
     "iopub.execute_input": "2022-04-10T10:09:52.193689Z",
     "iopub.status.busy": "2022-04-10T10:09:52.192649Z",
     "iopub.status.idle": "2022-04-10T10:09:52.220341Z",
     "shell.execute_reply": "2022-04-10T10:09:52.219573Z"
    },
    "papermill": {
     "duration": 0.068275,
     "end_time": "2022-04-10T10:09:52.220502",
     "exception": false,
     "start_time": "2022-04-10T10:09:52.152227",
     "status": "completed"
    },
    "tags": []
   },
   "outputs": [],
   "source": [
    "train_filter = np.where((train_labels == 3 ) | (train_labels == 8))\n",
    "test_filter = np.where((test_labels == 3) | (test_labels == 8))\n",
    "X_train, y_train = train_images[train_filter], train_labels[train_filter]\n",
    "X_test, y_test = test_images[test_filter], test_labels[test_filter]"
   ]
  },
  {
   "cell_type": "markdown",
   "id": "948f0b7e",
   "metadata": {
    "papermill": {
     "duration": 0.037181,
     "end_time": "2022-04-10T10:09:52.294380",
     "exception": false,
     "start_time": "2022-04-10T10:09:52.257199",
     "status": "completed"
    },
    "tags": []
   },
   "source": [
    "We normalize the pizel values in the 0 to 1 range"
   ]
  },
  {
   "cell_type": "code",
   "execution_count": 11,
   "id": "ee4c2166",
   "metadata": {
    "execution": {
     "iopub.execute_input": "2022-04-10T10:09:52.378645Z",
     "iopub.status.busy": "2022-04-10T10:09:52.377827Z",
     "iopub.status.idle": "2022-04-10T10:09:52.446425Z",
     "shell.execute_reply": "2022-04-10T10:09:52.445843Z"
    },
    "papermill": {
     "duration": 0.114201,
     "end_time": "2022-04-10T10:09:52.446579",
     "exception": false,
     "start_time": "2022-04-10T10:09:52.332378",
     "status": "completed"
    },
    "tags": []
   },
   "outputs": [],
   "source": [
    "X_train = X_train/255.\n",
    "X_test = X_test/255."
   ]
  },
  {
   "cell_type": "markdown",
   "id": "ddcf4fab",
   "metadata": {
    "papermill": {
     "duration": 0.035815,
     "end_time": "2022-04-10T10:09:52.521232",
     "exception": false,
     "start_time": "2022-04-10T10:09:52.485417",
     "status": "completed"
    },
    "tags": []
   },
   "source": [
    "And setup the labels as 1 (when the digit is 3) and 0 (when the digit is 8)"
   ]
  },
  {
   "cell_type": "code",
   "execution_count": 12,
   "id": "7dc908f2",
   "metadata": {
    "execution": {
     "iopub.execute_input": "2022-04-10T10:09:52.595190Z",
     "iopub.status.busy": "2022-04-10T10:09:52.594516Z",
     "iopub.status.idle": "2022-04-10T10:09:52.610837Z",
     "shell.execute_reply": "2022-04-10T10:09:52.611543Z"
    },
    "papermill": {
     "duration": 0.056308,
     "end_time": "2022-04-10T10:09:52.611724",
     "exception": false,
     "start_time": "2022-04-10T10:09:52.555416",
     "status": "completed"
    },
    "tags": []
   },
   "outputs": [],
   "source": [
    "y_train = 1*(y_train==3)\n",
    "y_test = 1*(y_test==3)"
   ]
  },
  {
   "cell_type": "code",
   "execution_count": 13,
   "id": "01e4e969",
   "metadata": {
    "execution": {
     "iopub.execute_input": "2022-04-10T10:09:52.693902Z",
     "iopub.status.busy": "2022-04-10T10:09:52.692982Z",
     "iopub.status.idle": "2022-04-10T10:09:52.710104Z",
     "shell.execute_reply": "2022-04-10T10:09:52.710788Z"
    },
    "papermill": {
     "duration": 0.060454,
     "end_time": "2022-04-10T10:09:52.710968",
     "exception": false,
     "start_time": "2022-04-10T10:09:52.650514",
     "status": "completed"
    },
    "tags": []
   },
   "outputs": [
    {
     "data": {
      "text/plain": [
       "((11982, 28, 28), (1984, 28, 28))"
      ]
     },
     "execution_count": 13,
     "metadata": {},
     "output_type": "execute_result"
    }
   ],
   "source": [
    "X_train.shape, X_test.shape"
   ]
  },
  {
   "cell_type": "markdown",
   "id": "5ccf3f85",
   "metadata": {
    "papermill": {
     "duration": 0.036231,
     "end_time": "2022-04-10T10:09:52.785295",
     "exception": false,
     "start_time": "2022-04-10T10:09:52.749064",
     "status": "completed"
    },
    "tags": []
   },
   "source": [
    "We reshape the data to flatten the image pixels into a set of features or co-variates:"
   ]
  },
  {
   "cell_type": "code",
   "execution_count": 14,
   "id": "5286a4a3",
   "metadata": {
    "execution": {
     "iopub.execute_input": "2022-04-10T10:09:52.861889Z",
     "iopub.status.busy": "2022-04-10T10:09:52.861195Z",
     "iopub.status.idle": "2022-04-10T10:09:52.879090Z",
     "shell.execute_reply": "2022-04-10T10:09:52.878474Z"
    },
    "papermill": {
     "duration": 0.058541,
     "end_time": "2022-04-10T10:09:52.879266",
     "exception": false,
     "start_time": "2022-04-10T10:09:52.820725",
     "status": "completed"
    },
    "tags": []
   },
   "outputs": [
    {
     "data": {
      "text/plain": [
       "((11982, 784), (1984, 784))"
      ]
     },
     "execution_count": 14,
     "metadata": {},
     "output_type": "execute_result"
    }
   ],
   "source": [
    "X_train = X_train.reshape(X_train.shape[0], -1)\n",
    "X_test = X_test.reshape(X_test.shape[0], -1)\n",
    "X_train.shape, X_test.shape"
   ]
  },
  {
   "cell_type": "code",
   "execution_count": 15,
   "id": "73c5f88a",
   "metadata": {
    "execution": {
     "iopub.execute_input": "2022-04-10T10:09:52.958507Z",
     "iopub.status.busy": "2022-04-10T10:09:52.957827Z",
     "iopub.status.idle": "2022-04-10T10:09:52.983372Z",
     "shell.execute_reply": "2022-04-10T10:09:52.982722Z"
    },
    "papermill": {
     "duration": 0.067988,
     "end_time": "2022-04-10T10:09:52.983559",
     "exception": false,
     "start_time": "2022-04-10T10:09:52.915571",
     "status": "completed"
    },
    "tags": []
   },
   "outputs": [],
   "source": [
    "#Impoting functions from 'Kudzu'\n",
    "from kudzu.model import Model\n",
    "from kudzu.train import Learner\n",
    "from kudzu.optim import GD\n",
    "from kudzu.data import Data, Sampler,Dataloader\n",
    "\n",
    "from kudzu.callbacks import AccCallback\n",
    "from kudzu.callbacks import ClfCallback\n",
    "\n",
    "from kudzu.loss import MSE\n",
    "\n",
    "from kudzu.layer import Sigmoid,Relu\n",
    "from kudzu.layer import Affine"
   ]
  },
  {
   "cell_type": "markdown",
   "id": "bc01172a",
   "metadata": {
    "papermill": {
     "duration": 0.036821,
     "end_time": "2022-04-10T10:09:53.058382",
     "exception": false,
     "start_time": "2022-04-10T10:09:53.021561",
     "status": "completed"
    },
    "tags": []
   },
   "source": [
    "### Let us create a `Config` class, to store important parameters. \n",
    "This class essentially plays the role of a dictionary."
   ]
  },
  {
   "cell_type": "code",
   "execution_count": 16,
   "id": "978281aa",
   "metadata": {
    "execution": {
     "iopub.execute_input": "2022-04-10T10:09:53.142125Z",
     "iopub.status.busy": "2022-04-10T10:09:53.141188Z",
     "iopub.status.idle": "2022-04-10T10:09:53.154717Z",
     "shell.execute_reply": "2022-04-10T10:09:53.154130Z"
    },
    "papermill": {
     "duration": 0.059665,
     "end_time": "2022-04-10T10:09:53.154865",
     "exception": false,
     "start_time": "2022-04-10T10:09:53.095200",
     "status": "completed"
    },
    "tags": []
   },
   "outputs": [],
   "source": [
    "class Config:\n",
    "    pass\n",
    "config = Config()\n",
    "config.lr = 0.001\n",
    "config.num_epochs = 250\n",
    "config.bs = 50"
   ]
  },
  {
   "cell_type": "markdown",
   "id": "1385fa59",
   "metadata": {
    "papermill": {
     "duration": 0.037654,
     "end_time": "2022-04-10T10:09:53.229257",
     "exception": false,
     "start_time": "2022-04-10T10:09:53.191603",
     "status": "completed"
    },
    "tags": []
   },
   "source": [
    "### Running Models with the Training data\n",
    "Details about the network layers:\n",
    "- A first affine layer has 784 inputs and does 100 affine transforms. These are followed by a Relu\n",
    "- A second affine layer has 100 inputs from the 100 activations of the past layer, and does 100 affine transforms. These are followed by a Relu\n",
    "- A third affine layer has 100 activations and does 2 affine transformations to create an embedding for visualization. There is no non-linearity here.\n",
    "- A final \"logistic regression\" which has an affine transform from 2 inputs to 1 output, which is squeezed through a sigmoid.\n"
   ]
  },
  {
   "cell_type": "code",
   "execution_count": 17,
   "id": "2b9c66db",
   "metadata": {
    "execution": {
     "iopub.execute_input": "2022-04-10T10:09:53.311977Z",
     "iopub.status.busy": "2022-04-10T10:09:53.311204Z",
     "iopub.status.idle": "2022-04-10T10:09:53.327672Z",
     "shell.execute_reply": "2022-04-10T10:09:53.327076Z"
    },
    "papermill": {
     "duration": 0.059513,
     "end_time": "2022-04-10T10:09:53.327811",
     "exception": false,
     "start_time": "2022-04-10T10:09:53.268298",
     "status": "completed"
    },
    "tags": []
   },
   "outputs": [],
   "source": [
    "data = Data(X_train, y_train.reshape(-1,1))\n",
    "sampler = Sampler(data, config.bs, shuffle=True)\n",
    "\n",
    "dl = Dataloader(data, sampler)\n",
    "\n",
    "opt = GD(config.lr)\n",
    "loss = MSE()"
   ]
  },
  {
   "cell_type": "code",
   "execution_count": 18,
   "id": "b275e4c2",
   "metadata": {
    "execution": {
     "iopub.execute_input": "2022-04-10T10:09:53.410937Z",
     "iopub.status.busy": "2022-04-10T10:09:53.410152Z",
     "iopub.status.idle": "2022-04-10T10:09:53.427548Z",
     "shell.execute_reply": "2022-04-10T10:09:53.426897Z"
    },
    "papermill": {
     "duration": 0.060783,
     "end_time": "2022-04-10T10:09:53.427708",
     "exception": false,
     "start_time": "2022-04-10T10:09:53.366925",
     "status": "completed"
    },
    "tags": []
   },
   "outputs": [],
   "source": [
    "training_data_x = X_train\n",
    "testing_data_x = X_test\n",
    "training_data_y = y_train.reshape(-1,1)\n",
    "testing_data_y = y_test.reshape(-1,1)"
   ]
  },
  {
   "cell_type": "code",
   "execution_count": 19,
   "id": "76951160",
   "metadata": {
    "execution": {
     "iopub.execute_input": "2022-04-10T10:09:53.505885Z",
     "iopub.status.busy": "2022-04-10T10:09:53.505017Z",
     "iopub.status.idle": "2022-04-10T10:09:53.524981Z",
     "shell.execute_reply": "2022-04-10T10:09:53.525523Z"
    },
    "papermill": {
     "duration": 0.061804,
     "end_time": "2022-04-10T10:09:53.525859",
     "exception": false,
     "start_time": "2022-04-10T10:09:53.464055",
     "status": "completed"
    },
    "tags": []
   },
   "outputs": [
    {
     "name": "stdout",
     "output_type": "stream",
     "text": [
      "xavier\n",
      "xavier\n",
      "xavier\n",
      "xavier\n",
      "xavier\n"
     ]
    }
   ],
   "source": [
    "layers = [Affine(\"first\", 784, 100), Relu(\"first\"), Affine(\"second\", 100, 100), Relu(\"second\"), Affine(\"third\", 100, 2), Affine(\"last\", 2, 1), Sigmoid(\"last\")]\n",
    "model_nn = Model(layers)\n",
    "model_lr = Model([Affine(\"logits\", 784, 1), Sigmoid(\"sigmoid\")])"
   ]
  },
  {
   "cell_type": "code",
   "execution_count": 20,
   "id": "6eede77a",
   "metadata": {
    "execution": {
     "iopub.execute_input": "2022-04-10T10:09:53.604937Z",
     "iopub.status.busy": "2022-04-10T10:09:53.604238Z",
     "iopub.status.idle": "2022-04-10T10:09:53.621406Z",
     "shell.execute_reply": "2022-04-10T10:09:53.620745Z"
    },
    "papermill": {
     "duration": 0.05866,
     "end_time": "2022-04-10T10:09:53.621556",
     "exception": false,
     "start_time": "2022-04-10T10:09:53.562896",
     "status": "completed"
    },
    "tags": []
   },
   "outputs": [],
   "source": [
    "nn_learner = Learner(loss, model_nn, opt, config.num_epochs)\n",
    "acc_nn = ClfCallback(nn_learner, config.bs, training_data_x , testing_data_x, training_data_y, testing_data_y)\n",
    "nn_learner.set_callbacks([acc_nn])"
   ]
  },
  {
   "cell_type": "code",
   "execution_count": 21,
   "id": "877b6cc7",
   "metadata": {
    "execution": {
     "iopub.execute_input": "2022-04-10T10:09:53.702876Z",
     "iopub.status.busy": "2022-04-10T10:09:53.702207Z",
     "iopub.status.idle": "2022-04-10T10:09:53.717026Z",
     "shell.execute_reply": "2022-04-10T10:09:53.716258Z"
    },
    "papermill": {
     "duration": 0.057162,
     "end_time": "2022-04-10T10:09:53.717165",
     "exception": false,
     "start_time": "2022-04-10T10:09:53.660003",
     "status": "completed"
    },
    "tags": []
   },
   "outputs": [],
   "source": [
    "lr_learner = Learner(loss, model_lr, opt, config.num_epochs)\n",
    "acc_lr = ClfCallback(lr_learner, config.bs, training_data_x , testing_data_x, training_data_y, testing_data_y)\n",
    "lr_learner.set_callbacks([acc_lr])"
   ]
  },
  {
   "cell_type": "code",
   "execution_count": 22,
   "id": "d9b133c3",
   "metadata": {
    "execution": {
     "iopub.execute_input": "2022-04-10T10:09:53.797646Z",
     "iopub.status.busy": "2022-04-10T10:09:53.796743Z",
     "iopub.status.idle": "2022-04-10T10:12:21.808873Z",
     "shell.execute_reply": "2022-04-10T10:12:21.809782Z"
    },
    "papermill": {
     "duration": 148.053623,
     "end_time": "2022-04-10T10:12:21.809959",
     "exception": false,
     "start_time": "2022-04-10T10:09:53.756336",
     "status": "completed"
    },
    "tags": []
   },
   "outputs": [
    {
     "name": "stdout",
     "output_type": "stream",
     "text": [
      "Epoch 0, Loss 0.2397\n",
      "Training Accuracy: 0.7167, Testing Accuracy: 0.7218\n",
      "\n"
     ]
    },
    {
     "name": "stdout",
     "output_type": "stream",
     "text": [
      "Epoch 10, Loss 0.0664\n",
      "Training Accuracy: 0.9342, Testing Accuracy: 0.9456\n",
      "\n"
     ]
    },
    {
     "name": "stdout",
     "output_type": "stream",
     "text": [
      "Epoch 20, Loss 0.0461\n",
      "Training Accuracy: 0.9489, Testing Accuracy: 0.9572\n",
      "\n"
     ]
    },
    {
     "name": "stdout",
     "output_type": "stream",
     "text": [
      "Epoch 30, Loss 0.0382\n",
      "Training Accuracy: 0.9560, Testing Accuracy: 0.9632\n",
      "\n"
     ]
    },
    {
     "name": "stdout",
     "output_type": "stream",
     "text": [
      "Epoch 40, Loss 0.0339\n",
      "Training Accuracy: 0.9613, Testing Accuracy: 0.9662\n",
      "\n"
     ]
    },
    {
     "name": "stdout",
     "output_type": "stream",
     "text": [
      "Epoch 50, Loss 0.0311\n",
      "Training Accuracy: 0.9643, Testing Accuracy: 0.9677\n",
      "\n"
     ]
    },
    {
     "name": "stdout",
     "output_type": "stream",
     "text": [
      "Epoch 60, Loss 0.029\n",
      "Training Accuracy: 0.9660, Testing Accuracy: 0.9698\n",
      "\n"
     ]
    },
    {
     "name": "stdout",
     "output_type": "stream",
     "text": [
      "Epoch 70, Loss 0.0274\n",
      "Training Accuracy: 0.9685, Testing Accuracy: 0.9713\n",
      "\n"
     ]
    },
    {
     "name": "stdout",
     "output_type": "stream",
     "text": [
      "Epoch 80, Loss 0.0261\n",
      "Training Accuracy: 0.9704, Testing Accuracy: 0.9708\n",
      "\n"
     ]
    },
    {
     "name": "stdout",
     "output_type": "stream",
     "text": [
      "Epoch 90, Loss 0.025\n",
      "Training Accuracy: 0.9717, Testing Accuracy: 0.9728\n",
      "\n"
     ]
    },
    {
     "name": "stdout",
     "output_type": "stream",
     "text": [
      "Epoch 100, Loss 0.0241\n",
      "Training Accuracy: 0.9730, Testing Accuracy: 0.9723\n",
      "\n"
     ]
    },
    {
     "name": "stdout",
     "output_type": "stream",
     "text": [
      "Epoch 110, Loss 0.0232\n",
      "Training Accuracy: 0.9737, Testing Accuracy: 0.9723\n",
      "\n"
     ]
    },
    {
     "name": "stdout",
     "output_type": "stream",
     "text": [
      "Epoch 120, Loss 0.0224\n",
      "Training Accuracy: 0.9743, Testing Accuracy: 0.9743\n",
      "\n"
     ]
    },
    {
     "name": "stdout",
     "output_type": "stream",
     "text": [
      "Epoch 130, Loss 0.0217\n",
      "Training Accuracy: 0.9758, Testing Accuracy: 0.9758\n",
      "\n"
     ]
    },
    {
     "name": "stdout",
     "output_type": "stream",
     "text": [
      "Epoch 140, Loss 0.021\n",
      "Training Accuracy: 0.9765, Testing Accuracy: 0.9753\n",
      "\n"
     ]
    },
    {
     "name": "stdout",
     "output_type": "stream",
     "text": [
      "Epoch 150, Loss 0.0203\n",
      "Training Accuracy: 0.9773, Testing Accuracy: 0.9753\n",
      "\n"
     ]
    },
    {
     "name": "stdout",
     "output_type": "stream",
     "text": [
      "Epoch 160, Loss 0.0197\n",
      "Training Accuracy: 0.9785, Testing Accuracy: 0.9763\n",
      "\n"
     ]
    },
    {
     "name": "stdout",
     "output_type": "stream",
     "text": [
      "Epoch 170, Loss 0.0192\n",
      "Training Accuracy: 0.9793, Testing Accuracy: 0.9783\n",
      "\n"
     ]
    },
    {
     "name": "stdout",
     "output_type": "stream",
     "text": [
      "Epoch 180, Loss 0.0186\n",
      "Training Accuracy: 0.9796, Testing Accuracy: 0.9783\n",
      "\n"
     ]
    },
    {
     "name": "stdout",
     "output_type": "stream",
     "text": [
      "Epoch 190, Loss 0.0181\n",
      "Training Accuracy: 0.9801, Testing Accuracy: 0.9793\n",
      "\n"
     ]
    },
    {
     "name": "stdout",
     "output_type": "stream",
     "text": [
      "Epoch 200, Loss 0.0176\n",
      "Training Accuracy: 0.9806, Testing Accuracy: 0.9793\n",
      "\n"
     ]
    },
    {
     "name": "stdout",
     "output_type": "stream",
     "text": [
      "Epoch 210, Loss 0.0171\n",
      "Training Accuracy: 0.9809, Testing Accuracy: 0.9793\n",
      "\n"
     ]
    },
    {
     "name": "stdout",
     "output_type": "stream",
     "text": [
      "Epoch 220, Loss 0.0167\n",
      "Training Accuracy: 0.9819, Testing Accuracy: 0.9798\n",
      "\n"
     ]
    },
    {
     "name": "stdout",
     "output_type": "stream",
     "text": [
      "Epoch 230, Loss 0.0163\n",
      "Training Accuracy: 0.9827, Testing Accuracy: 0.9798\n",
      "\n"
     ]
    },
    {
     "name": "stdout",
     "output_type": "stream",
     "text": [
      "Epoch 240, Loss 0.0159\n",
      "Training Accuracy: 0.9835, Testing Accuracy: 0.9803\n",
      "\n"
     ]
    },
    {
     "data": {
      "text/plain": [
       "0.00806955086369918"
      ]
     },
     "execution_count": 22,
     "metadata": {},
     "output_type": "execute_result"
    }
   ],
   "source": [
    "nn_learner.train_loop(dl)"
   ]
  },
  {
   "cell_type": "code",
   "execution_count": 23,
   "id": "e0163366",
   "metadata": {
    "execution": {
     "iopub.execute_input": "2022-04-10T10:12:21.913039Z",
     "iopub.status.busy": "2022-04-10T10:12:21.912203Z",
     "iopub.status.idle": "2022-04-10T10:12:43.053969Z",
     "shell.execute_reply": "2022-04-10T10:12:43.055679Z"
    },
    "papermill": {
     "duration": 21.200288,
     "end_time": "2022-04-10T10:12:43.055875",
     "exception": false,
     "start_time": "2022-04-10T10:12:21.855587",
     "status": "completed"
    },
    "tags": []
   },
   "outputs": [
    {
     "name": "stdout",
     "output_type": "stream",
     "text": [
      "Epoch 0, Loss 0.2249\n",
      "Training Accuracy: 0.7541, Testing Accuracy: 0.7606\n",
      "\n"
     ]
    },
    {
     "name": "stdout",
     "output_type": "stream",
     "text": [
      "Epoch 10, Loss 0.1024\n",
      "Training Accuracy: 0.9069, Testing Accuracy: 0.9199\n",
      "\n"
     ]
    },
    {
     "name": "stdout",
     "output_type": "stream",
     "text": [
      "Epoch 20, Loss 0.0795\n",
      "Training Accuracy: 0.9266, Testing Accuracy: 0.9375\n",
      "\n"
     ]
    },
    {
     "name": "stdout",
     "output_type": "stream",
     "text": [
      "Epoch 30, Loss 0.0687\n",
      "Training Accuracy: 0.9342, Testing Accuracy: 0.9486\n",
      "\n"
     ]
    },
    {
     "name": "stdout",
     "output_type": "stream",
     "text": [
      "Epoch 40, Loss 0.0622\n",
      "Training Accuracy: 0.9406, Testing Accuracy: 0.9521\n",
      "\n"
     ]
    },
    {
     "name": "stdout",
     "output_type": "stream",
     "text": [
      "Epoch 50, Loss 0.0577\n",
      "Training Accuracy: 0.9446, Testing Accuracy: 0.9556\n",
      "\n"
     ]
    },
    {
     "name": "stdout",
     "output_type": "stream",
     "text": [
      "Epoch 60, Loss 0.0544\n",
      "Training Accuracy: 0.9468, Testing Accuracy: 0.9577\n",
      "\n"
     ]
    },
    {
     "name": "stdout",
     "output_type": "stream",
     "text": [
      "Epoch 70, Loss 0.0518\n",
      "Training Accuracy: 0.9490, Testing Accuracy: 0.9592\n",
      "\n"
     ]
    },
    {
     "name": "stdout",
     "output_type": "stream",
     "text": [
      "Epoch 80, Loss 0.0497\n",
      "Training Accuracy: 0.9498, Testing Accuracy: 0.9602\n",
      "\n"
     ]
    },
    {
     "name": "stdout",
     "output_type": "stream",
     "text": [
      "Epoch 90, Loss 0.048\n",
      "Training Accuracy: 0.9517, Testing Accuracy: 0.9607\n",
      "\n"
     ]
    },
    {
     "name": "stdout",
     "output_type": "stream",
     "text": [
      "Epoch 100, Loss 0.0466\n",
      "Training Accuracy: 0.9523, Testing Accuracy: 0.9617\n",
      "\n"
     ]
    },
    {
     "name": "stdout",
     "output_type": "stream",
     "text": [
      "Epoch 110, Loss 0.0453\n",
      "Training Accuracy: 0.9537, Testing Accuracy: 0.9627\n",
      "\n"
     ]
    },
    {
     "name": "stdout",
     "output_type": "stream",
     "text": [
      "Epoch 120, Loss 0.0443\n",
      "Training Accuracy: 0.9541, Testing Accuracy: 0.9637\n",
      "\n"
     ]
    },
    {
     "name": "stdout",
     "output_type": "stream",
     "text": [
      "Epoch 130, Loss 0.0433\n",
      "Training Accuracy: 0.9548, Testing Accuracy: 0.9642\n",
      "\n"
     ]
    },
    {
     "name": "stdout",
     "output_type": "stream",
     "text": [
      "Epoch 140, Loss 0.0425\n",
      "Training Accuracy: 0.9553, Testing Accuracy: 0.9642\n",
      "\n"
     ]
    },
    {
     "name": "stdout",
     "output_type": "stream",
     "text": [
      "Epoch 150, Loss 0.0417\n",
      "Training Accuracy: 0.9564, Testing Accuracy: 0.9647\n",
      "\n"
     ]
    },
    {
     "name": "stdout",
     "output_type": "stream",
     "text": [
      "Epoch 160, Loss 0.041\n",
      "Training Accuracy: 0.9570, Testing Accuracy: 0.9652\n",
      "\n"
     ]
    },
    {
     "name": "stdout",
     "output_type": "stream",
     "text": [
      "Epoch 170, Loss 0.0404\n",
      "Training Accuracy: 0.9579, Testing Accuracy: 0.9652\n",
      "\n"
     ]
    },
    {
     "name": "stdout",
     "output_type": "stream",
     "text": [
      "Epoch 180, Loss 0.0398\n",
      "Training Accuracy: 0.9584, Testing Accuracy: 0.9652\n",
      "\n"
     ]
    },
    {
     "name": "stdout",
     "output_type": "stream",
     "text": [
      "Epoch 190, Loss 0.0393\n",
      "Training Accuracy: 0.9587, Testing Accuracy: 0.9657\n",
      "\n"
     ]
    },
    {
     "name": "stdout",
     "output_type": "stream",
     "text": [
      "Epoch 200, Loss 0.0388\n",
      "Training Accuracy: 0.9594, Testing Accuracy: 0.9657\n",
      "\n"
     ]
    },
    {
     "name": "stdout",
     "output_type": "stream",
     "text": [
      "Epoch 210, Loss 0.0384\n",
      "Training Accuracy: 0.9600, Testing Accuracy: 0.9657\n",
      "\n"
     ]
    },
    {
     "name": "stdout",
     "output_type": "stream",
     "text": [
      "Epoch 220, Loss 0.0379\n",
      "Training Accuracy: 0.9604, Testing Accuracy: 0.9657\n",
      "\n"
     ]
    },
    {
     "name": "stdout",
     "output_type": "stream",
     "text": [
      "Epoch 230, Loss 0.0375\n",
      "Training Accuracy: 0.9606, Testing Accuracy: 0.9672\n",
      "\n"
     ]
    },
    {
     "name": "stdout",
     "output_type": "stream",
     "text": [
      "Epoch 240, Loss 0.0372\n",
      "Training Accuracy: 0.9608, Testing Accuracy: 0.9672\n",
      "\n"
     ]
    },
    {
     "data": {
      "text/plain": [
       "0.012659587956602379"
      ]
     },
     "execution_count": 23,
     "metadata": {},
     "output_type": "execute_result"
    }
   ],
   "source": [
    "lr_learner.train_loop(dl)"
   ]
  },
  {
   "cell_type": "code",
   "execution_count": 24,
   "id": "ca410940",
   "metadata": {
    "execution": {
     "iopub.execute_input": "2022-04-10T10:12:43.182282Z",
     "iopub.status.busy": "2022-04-10T10:12:43.180083Z",
     "iopub.status.idle": "2022-04-10T10:12:43.497096Z",
     "shell.execute_reply": "2022-04-10T10:12:43.497689Z"
    },
    "papermill": {
     "duration": 0.38262,
     "end_time": "2022-04-10T10:12:43.497855",
     "exception": false,
     "start_time": "2022-04-10T10:12:43.115235",
     "status": "completed"
    },
    "tags": []
   },
   "outputs": [
    {
     "data": {
      "text/plain": [
       "<matplotlib.legend.Legend at 0x7f5e3580fb00>"
      ]
     },
     "execution_count": 24,
     "metadata": {},
     "output_type": "execute_result"
    },
    {
     "data": {
      "image/png": "[encoded data removed]",
      "text/plain": [
       "<Figure size 1080x720 with 1 Axes>"
      ]
     },
     "metadata": {
      "needs_background": "light"
     },
     "output_type": "display_data"
    }
   ],
   "source": [
    "#comparing the results of NN and LR\n",
    "plt.figure(figsize=(15,10))\n",
    "\n",
    "# Neural Network plots\n",
    "plt.plot(acc_nn.accuracies, 'r-', label = \"Training Accuracies - NN\")\n",
    "plt.plot(acc_nn.test_accuracies, 'g-', label = \"Testing Accuracies - NN\")\n",
    "\n",
    "# Logistic Regression plots\n",
    "plt.plot(acc_lr.accuracies, 'k-', label = \"Training Accuracies - LR\")\n",
    "plt.plot(acc_lr.test_accuracies, 'b-', label = \"Testing Accuracies - LR\")\n",
    "plt.legend()"
   ]
  },
  {
   "cell_type": "markdown",
   "id": "80dfb35c",
   "metadata": {
    "papermill": {
     "duration": 0.05662,
     "end_time": "2022-04-10T10:12:43.607972",
     "exception": false,
     "start_time": "2022-04-10T10:12:43.551352",
     "status": "completed"
    },
    "tags": []
   },
   "source": [
    "#### Plotting the outputs of this layer of the NN.\n"
   ]
  },
  {
   "cell_type": "code",
   "execution_count": 25,
   "id": "45eb2ff5",
   "metadata": {
    "execution": {
     "iopub.execute_input": "2022-04-10T10:12:43.725014Z",
     "iopub.status.busy": "2022-04-10T10:12:43.724342Z",
     "iopub.status.idle": "2022-04-10T10:12:43.754663Z",
     "shell.execute_reply": "2022-04-10T10:12:43.754047Z"
    },
    "papermill": {
     "duration": 0.090705,
     "end_time": "2022-04-10T10:12:43.754929",
     "exception": false,
     "start_time": "2022-04-10T10:12:43.664224",
     "status": "completed"
    },
    "tags": []
   },
   "outputs": [],
   "source": [
    "new_model = Model(layers[:-2])\n",
    "testing_plot = new_model(testing_data_x)"
   ]
  },
  {
   "cell_type": "code",
   "execution_count": 26,
   "id": "4c0a5485",
   "metadata": {
    "execution": {
     "iopub.execute_input": "2022-04-10T10:12:43.871626Z",
     "iopub.status.busy": "2022-04-10T10:12:43.870902Z",
     "iopub.status.idle": "2022-04-10T10:12:44.178548Z",
     "shell.execute_reply": "2022-04-10T10:12:44.179349Z"
    },
    "papermill": {
     "duration": 0.369544,
     "end_time": "2022-04-10T10:12:44.179527",
     "exception": false,
     "start_time": "2022-04-10T10:12:43.809983",
     "status": "completed"
    },
    "tags": []
   },
   "outputs": [
    {
     "data": {
      "text/plain": [
       "Text(0.5, 1.0, 'Outputs')"
      ]
     },
     "execution_count": 26,
     "metadata": {},
     "output_type": "execute_result"
    },
    {
     "data": {
      "image/png": "[encoded data removed]",
      "text/plain": [
       "<Figure size 576x504 with 1 Axes>"
      ]
     },
     "metadata": {
      "needs_background": "light"
     },
     "output_type": "display_data"
    }
   ],
   "source": [
    "# Plotting the scatter plot of points and color coding by class\n",
    "plt.figure(figsize=(8,7))\n",
    "plt.scatter(testing_plot[:,0], testing_plot[:,1], alpha = 0.1, c = y_test.ravel());\n",
    "plt.title('Outputs')"
   ]
  },
  {
   "cell_type": "markdown",
   "id": "a74fcf8f",
   "metadata": {
    "papermill": {
     "duration": 0.055412,
     "end_time": "2022-04-10T10:12:44.295476",
     "exception": false,
     "start_time": "2022-04-10T10:12:44.240064",
     "status": "completed"
    },
    "tags": []
   },
   "source": [
    "Probability contours"
   ]
  },
  {
   "cell_type": "code",
   "execution_count": 27,
   "id": "d0afc8e3",
   "metadata": {
    "execution": {
     "iopub.execute_input": "2022-04-10T10:12:44.416610Z",
     "iopub.status.busy": "2022-04-10T10:12:44.415995Z",
     "iopub.status.idle": "2022-04-10T10:12:44.428896Z",
     "shell.execute_reply": "2022-04-10T10:12:44.430088Z"
    },
    "papermill": {
     "duration": 0.078878,
     "end_time": "2022-04-10T10:12:44.430235",
     "exception": false,
     "start_time": "2022-04-10T10:12:44.351357",
     "status": "completed"
    },
    "tags": []
   },
   "outputs": [],
   "source": [
    "model_prob = Model(layers[-2:]) "
   ]
  },
  {
   "cell_type": "code",
   "execution_count": 28,
   "id": "9b96e238",
   "metadata": {
    "execution": {
     "iopub.execute_input": "2022-04-10T10:12:44.574170Z",
     "iopub.status.busy": "2022-04-10T10:12:44.573519Z",
     "iopub.status.idle": "2022-04-10T10:12:44.587865Z",
     "shell.execute_reply": "2022-04-10T10:12:44.588480Z"
    },
    "papermill": {
     "duration": 0.104177,
     "end_time": "2022-04-10T10:12:44.588635",
     "exception": false,
     "start_time": "2022-04-10T10:12:44.484458",
     "status": "completed"
    },
    "tags": []
   },
   "outputs": [],
   "source": [
    "#creating the x and y ranges according to the above generated plot.\n",
    "x_range = np.linspace(-4, 1, 100) \n",
    "y_range = np.linspace(-6, 6, 100) \n",
    "x_grid, y_grid = np.meshgrid(x_range, y_range) # x_grid and y_grig are of size 100 X 100\n",
    "\n",
    "# converting x_grid and y_grid to continuous arrays\n",
    "x_gridflat = np.ravel(x_grid)\n",
    "y_gridflat = np.ravel(y_grid)\n",
    "\n",
    "# The last layer of the current model takes two columns as input. Hence transpose of np.vstack() is required.\n",
    "X = np.vstack((x_gridflat, y_gridflat)).T\n",
    "\n",
    "prob_contour = model_prob(X).reshape(100,100) "
   ]
  },
  {
   "cell_type": "code",
   "execution_count": 29,
   "id": "da72499a",
   "metadata": {
    "execution": {
     "iopub.execute_input": "2022-04-10T10:12:44.713684Z",
     "iopub.status.busy": "2022-04-10T10:12:44.712796Z",
     "iopub.status.idle": "2022-04-10T10:12:45.044350Z",
     "shell.execute_reply": "2022-04-10T10:12:45.044826Z"
    },
    "papermill": {
     "duration": 0.396227,
     "end_time": "2022-04-10T10:12:45.045166",
     "exception": false,
     "start_time": "2022-04-10T10:12:44.648939",
     "status": "completed"
    },
    "tags": []
   },
   "outputs": [
    {
     "data": {
      "image/png": "[encoded data removed]",
      "text/plain": [
       "<Figure size 720x648 with 1 Axes>"
      ]
     },
     "metadata": {
      "needs_background": "light"
     },
     "output_type": "display_data"
    }
   ],
   "source": [
    "plt.figure(figsize=(10,9))\n",
    "plt.scatter(testing_plot[:,0], testing_plot[:,1], alpha = 0.1, c = y_test.ravel())\n",
    "contours = plt.contour(x_grid,y_grid,prob_contour)\n",
    "plt.title('Probability Contours')\n",
    "plt.clabel(contours, inline = True );"
   ]
  },
  {
   "cell_type": "code",
   "execution_count": null,
   "id": "e81b4ac7",
   "metadata": {
    "papermill": {
     "duration": 0.062742,
     "end_time": "2022-04-10T10:12:45.168862",
     "exception": false,
     "start_time": "2022-04-10T10:12:45.106120",
     "status": "completed"
    },
    "tags": []
   },
   "outputs": [],
   "source": []
  }
 ],
 "metadata": {
  "kernelspec": {
   "display_name": "Python 3",
   "language": "python",
   "name": "python3"
  },
  "language_info": {
   "codemirror_mode": {
    "name": "ipython",
    "version": 3
   },
   "file_extension": ".py",
   "mimetype": "text/x-python",
   "name": "python",
   "nbconvert_exporter": "python",
   "pygments_lexer": "ipython3",
   "version": "3.6.15"
  },
  "papermill": {
   "default_parameters": {},
   "duration": 179.404277,
   "end_time": "2022-04-10T10:12:45.654621",
   "environment_variables": {},
   "exception": null,
   "input_path": "2020-08-11-part2.ipynb",
   "output_path": "2020-08-11-part2.ipynb",
   "parameters": {},
   "start_time": "2022-04-10T10:09:46.250344",
   "version": "2.3.3"
  }
 },
 "nbformat": 4,
 "nbformat_minor": 5
}