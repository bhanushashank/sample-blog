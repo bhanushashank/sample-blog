{
 "cells": [
  {
   "cell_type": "markdown",
   "id": "98380cd3",
   "metadata": {
    "papermill": {
     "duration": 0.029873,
     "end_time": "2022-08-09T20:10:34.383315",
     "exception": false,
     "start_time": "2022-08-09T20:10:34.353442",
     "status": "completed"
    },
    "tags": []
   },
   "source": [
    "# Distinguish Your Own Digits (DYOD)"
   ]
  },
  {
   "cell_type": "markdown",
   "id": "ef31240d",
   "metadata": {
    "papermill": {
     "duration": 0.024706,
     "end_time": "2022-08-09T20:10:34.433310",
     "exception": false,
     "start_time": "2022-08-09T20:10:34.408604",
     "status": "completed"
    },
    "tags": []
   },
   "source": [
    "You are going to write a classifier that distinguishes between the number 3 and number 8."
   ]
  },
  {
   "cell_type": "code",
   "execution_count": 1,
   "id": "b15c8646",
   "metadata": {
    "execution": {
     "iopub.execute_input": "2022-08-09T20:10:34.492930Z",
     "iopub.status.busy": "2022-08-09T20:10:34.492321Z",
     "iopub.status.idle": "2022-08-09T20:10:34.504138Z",
     "shell.execute_reply": "2022-08-09T20:10:34.503642Z"
    },
    "papermill": {
     "duration": 0.046259,
     "end_time": "2022-08-09T20:10:34.504263",
     "exception": false,
     "start_time": "2022-08-09T20:10:34.458004",
     "status": "completed"
    },
    "tags": []
   },
   "outputs": [],
   "source": [
    "%load_ext autoreload\n",
    "%autoreload 2"
   ]
  },
  {
   "cell_type": "code",
   "execution_count": 2,
   "id": "22ef38dc",
   "metadata": {
    "execution": {
     "iopub.execute_input": "2022-08-09T20:10:34.558485Z",
     "iopub.status.busy": "2022-08-09T20:10:34.557847Z",
     "iopub.status.idle": "2022-08-09T20:10:35.105689Z",
     "shell.execute_reply": "2022-08-09T20:10:35.104849Z"
    },
    "papermill": {
     "duration": 0.576803,
     "end_time": "2022-08-09T20:10:35.105810",
     "exception": false,
     "start_time": "2022-08-09T20:10:34.529007",
     "status": "completed"
    },
    "tags": []
   },
   "outputs": [],
   "source": [
    "%matplotlib inline\n",
    "import numpy as np\n",
    "import matplotlib.pyplot as plt\n",
    "import pandas as pd"
   ]
  },
  {
   "cell_type": "markdown",
   "id": "ba036198",
   "metadata": {
    "papermill": {
     "duration": 0.024491,
     "end_time": "2022-08-09T20:10:35.154936",
     "exception": false,
     "start_time": "2022-08-09T20:10:35.130445",
     "status": "completed"
    },
    "tags": []
   },
   "source": [
    "From the command line run `pip install mnist`. This is a library that will help you bring down the mnist dataset. If you run this from a notebook, you need to put  `!pip install mnist` in a cell by itself."
   ]
  },
  {
   "cell_type": "code",
   "execution_count": 3,
   "id": "bb6ad8a1",
   "metadata": {
    "execution": {
     "iopub.execute_input": "2022-08-09T20:10:35.208639Z",
     "iopub.status.busy": "2022-08-09T20:10:35.208070Z",
     "iopub.status.idle": "2022-08-09T20:10:36.840042Z",
     "shell.execute_reply": "2022-08-09T20:10:36.839518Z"
    },
    "papermill": {
     "duration": 1.66052,
     "end_time": "2022-08-09T20:10:36.840158",
     "exception": false,
     "start_time": "2022-08-09T20:10:35.179638",
     "status": "completed"
    },
    "tags": []
   },
   "outputs": [
    {
     "name": "stdout",
     "output_type": "stream",
     "text": [
      "Collecting mnist\r\n"
     ]
    },
    {
     "name": "stdout",
     "output_type": "stream",
     "text": [
      "  Downloading mnist-0.2.2-py2.py3-none-any.whl (3.5 kB)\r\n",
      "Requirement already satisfied: numpy in /opt/hostedtoolcache/Python/3.6.15/x64/lib/python3.6/site-packages (from mnist) (1.19.5)\r\n"
     ]
    },
    {
     "name": "stdout",
     "output_type": "stream",
     "text": [
      "Installing collected packages: mnist\r\n"
     ]
    },
    {
     "name": "stdout",
     "output_type": "stream",
     "text": [
      "Successfully installed mnist-0.2.2\r\n"
     ]
    }
   ],
   "source": [
    "!pip install mnist"
   ]
  },
  {
   "cell_type": "markdown",
   "id": "69df9c9a",
   "metadata": {
    "papermill": {
     "duration": 0.026078,
     "end_time": "2022-08-09T20:10:36.892072",
     "exception": false,
     "start_time": "2022-08-09T20:10:36.865994",
     "status": "completed"
    },
    "tags": []
   },
   "source": [
    "## Preparing the Data"
   ]
  },
  {
   "cell_type": "code",
   "execution_count": 4,
   "id": "7f69d806",
   "metadata": {
    "execution": {
     "iopub.execute_input": "2022-08-09T20:10:36.947775Z",
     "iopub.status.busy": "2022-08-09T20:10:36.947201Z",
     "iopub.status.idle": "2022-08-09T20:10:36.961785Z",
     "shell.execute_reply": "2022-08-09T20:10:36.961327Z"
    },
    "papermill": {
     "duration": 0.044216,
     "end_time": "2022-08-09T20:10:36.961896",
     "exception": false,
     "start_time": "2022-08-09T20:10:36.917680",
     "status": "completed"
    },
    "tags": []
   },
   "outputs": [],
   "source": [
    "import mnist"
   ]
  },
  {
   "cell_type": "code",
   "execution_count": 5,
   "id": "a411e44f",
   "metadata": {
    "execution": {
     "iopub.execute_input": "2022-08-09T20:10:37.017523Z",
     "iopub.status.busy": "2022-08-09T20:10:37.016902Z",
     "iopub.status.idle": "2022-08-09T20:10:37.626806Z",
     "shell.execute_reply": "2022-08-09T20:10:37.626297Z"
    },
    "papermill": {
     "duration": 0.639168,
     "end_time": "2022-08-09T20:10:37.626925",
     "exception": false,
     "start_time": "2022-08-09T20:10:36.987757",
     "status": "completed"
    },
    "tags": []
   },
   "outputs": [],
   "source": [
    "train_images = mnist.train_images()\n",
    "train_labels = mnist.train_labels()"
   ]
  },
  {
   "cell_type": "code",
   "execution_count": 6,
   "id": "dceab3a5",
   "metadata": {
    "execution": {
     "iopub.execute_input": "2022-08-09T20:10:37.683900Z",
     "iopub.status.busy": "2022-08-09T20:10:37.682335Z",
     "iopub.status.idle": "2022-08-09T20:10:37.699153Z",
     "shell.execute_reply": "2022-08-09T20:10:37.699587Z"
    },
    "papermill": {
     "duration": 0.04686,
     "end_time": "2022-08-09T20:10:37.699715",
     "exception": false,
     "start_time": "2022-08-09T20:10:37.652855",
     "status": "completed"
    },
    "tags": []
   },
   "outputs": [
    {
     "data": {
      "text/plain": [
       "((60000, 28, 28), (60000,))"
      ]
     },
     "execution_count": 6,
     "metadata": {},
     "output_type": "execute_result"
    }
   ],
   "source": [
    "train_images.shape, train_labels.shape"
   ]
  },
  {
   "cell_type": "code",
   "execution_count": 7,
   "id": "f50dc2bb",
   "metadata": {
    "execution": {
     "iopub.execute_input": "2022-08-09T20:10:37.755726Z",
     "iopub.status.busy": "2022-08-09T20:10:37.755121Z",
     "iopub.status.idle": "2022-08-09T20:10:37.947248Z",
     "shell.execute_reply": "2022-08-09T20:10:37.946744Z"
    },
    "papermill": {
     "duration": 0.221794,
     "end_time": "2022-08-09T20:10:37.947363",
     "exception": false,
     "start_time": "2022-08-09T20:10:37.725569",
     "status": "completed"
    },
    "tags": []
   },
   "outputs": [],
   "source": [
    "test_images = mnist.test_images()\n",
    "test_labels = mnist.test_labels()"
   ]
  },
  {
   "cell_type": "code",
   "execution_count": 8,
   "id": "fc38cf1b",
   "metadata": {
    "execution": {
     "iopub.execute_input": "2022-08-09T20:10:38.003448Z",
     "iopub.status.busy": "2022-08-09T20:10:38.002879Z",
     "iopub.status.idle": "2022-08-09T20:10:38.016238Z",
     "shell.execute_reply": "2022-08-09T20:10:38.015787Z"
    },
    "papermill": {
     "duration": 0.04299,
     "end_time": "2022-08-09T20:10:38.016345",
     "exception": false,
     "start_time": "2022-08-09T20:10:37.973355",
     "status": "completed"
    },
    "tags": []
   },
   "outputs": [
    {
     "data": {
      "text/plain": [
       "((10000, 28, 28), (10000,))"
      ]
     },
     "execution_count": 8,
     "metadata": {},
     "output_type": "execute_result"
    }
   ],
   "source": [
    "test_images.shape, test_labels.shape"
   ]
  },
  {
   "cell_type": "code",
   "execution_count": 9,
   "id": "f9ed8fe0",
   "metadata": {
    "execution": {
     "iopub.execute_input": "2022-08-09T20:10:38.072779Z",
     "iopub.status.busy": "2022-08-09T20:10:38.072208Z",
     "iopub.status.idle": "2022-08-09T20:10:38.207988Z",
     "shell.execute_reply": "2022-08-09T20:10:38.208434Z"
    },
    "papermill": {
     "duration": 0.166094,
     "end_time": "2022-08-09T20:10:38.208564",
     "exception": false,
     "start_time": "2022-08-09T20:10:38.042470",
     "status": "completed"
    },
    "tags": []
   },
   "outputs": [
    {
     "name": "stdout",
     "output_type": "stream",
     "text": [
      "2\n"
     ]
    },
    {
     "data": {
      "text/plain": [
       "<matplotlib.image.AxesImage at 0x7f4e558b0470>"
      ]
     },
     "execution_count": 9,
     "metadata": {},
     "output_type": "execute_result"
    },
    {
     "data": {
      "image/png": "[encoded data removed]",
      "text/plain": [
       "<Figure size 432x288 with 1 Axes>"
      ]
     },
     "metadata": {
      "needs_background": "light"
     },
     "output_type": "display_data"
    }
   ],
   "source": [
    "image_index = 7776 # You may select anything up to 60,000\n",
    "print(train_labels[image_index]) \n",
    "plt.imshow(train_images[image_index], cmap='Greys')"
   ]
  },
  {
   "cell_type": "markdown",
   "id": "a8d2388d",
   "metadata": {
    "papermill": {
     "duration": 0.027404,
     "end_time": "2022-08-09T20:10:38.263429",
     "exception": false,
     "start_time": "2022-08-09T20:10:38.236025",
     "status": "completed"
    },
    "tags": []
   },
   "source": [
    "## Filter data to get 3 and 8 out"
   ]
  },
  {
   "cell_type": "code",
   "execution_count": 10,
   "id": "776f7fc7",
   "metadata": {
    "execution": {
     "iopub.execute_input": "2022-08-09T20:10:38.323493Z",
     "iopub.status.busy": "2022-08-09T20:10:38.322883Z",
     "iopub.status.idle": "2022-08-09T20:10:38.338842Z",
     "shell.execute_reply": "2022-08-09T20:10:38.338387Z"
    },
    "papermill": {
     "duration": 0.048065,
     "end_time": "2022-08-09T20:10:38.338959",
     "exception": false,
     "start_time": "2022-08-09T20:10:38.290894",
     "status": "completed"
    },
    "tags": []
   },
   "outputs": [],
   "source": [
    "train_filter = np.where((train_labels == 3 ) | (train_labels == 8))\n",
    "test_filter = np.where((test_labels == 3) | (test_labels == 8))\n",
    "X_train, y_train = train_images[train_filter], train_labels[train_filter]\n",
    "X_test, y_test = test_images[test_filter], test_labels[test_filter]"
   ]
  },
  {
   "cell_type": "markdown",
   "id": "948f0b7e",
   "metadata": {
    "papermill": {
     "duration": 0.027335,
     "end_time": "2022-08-09T20:10:38.393758",
     "exception": false,
     "start_time": "2022-08-09T20:10:38.366423",
     "status": "completed"
    },
    "tags": []
   },
   "source": [
    "We normalize the pizel values in the 0 to 1 range"
   ]
  },
  {
   "cell_type": "code",
   "execution_count": 11,
   "id": "ee4c2166",
   "metadata": {
    "execution": {
     "iopub.execute_input": "2022-08-09T20:10:38.452289Z",
     "iopub.status.busy": "2022-08-09T20:10:38.451716Z",
     "iopub.status.idle": "2022-08-09T20:10:38.492734Z",
     "shell.execute_reply": "2022-08-09T20:10:38.492263Z"
    },
    "papermill": {
     "duration": 0.071748,
     "end_time": "2022-08-09T20:10:38.492845",
     "exception": false,
     "start_time": "2022-08-09T20:10:38.421097",
     "status": "completed"
    },
    "tags": []
   },
   "outputs": [],
   "source": [
    "X_train = X_train/255.\n",
    "X_test = X_test/255."
   ]
  },
  {
   "cell_type": "markdown",
   "id": "ddcf4fab",
   "metadata": {
    "papermill": {
     "duration": 0.027272,
     "end_time": "2022-08-09T20:10:38.547669",
     "exception": false,
     "start_time": "2022-08-09T20:10:38.520397",
     "status": "completed"
    },
    "tags": []
   },
   "source": [
    "And setup the labels as 1 (when the digit is 3) and 0 (when the digit is 8)"
   ]
  },
  {
   "cell_type": "code",
   "execution_count": 12,
   "id": "7dc908f2",
   "metadata": {
    "execution": {
     "iopub.execute_input": "2022-08-09T20:10:38.606850Z",
     "iopub.status.busy": "2022-08-09T20:10:38.606259Z",
     "iopub.status.idle": "2022-08-09T20:10:38.618888Z",
     "shell.execute_reply": "2022-08-09T20:10:38.618431Z"
    },
    "papermill": {
     "duration": 0.043958,
     "end_time": "2022-08-09T20:10:38.619002",
     "exception": false,
     "start_time": "2022-08-09T20:10:38.575044",
     "status": "completed"
    },
    "tags": []
   },
   "outputs": [],
   "source": [
    "y_train = 1*(y_train==3)\n",
    "y_test = 1*(y_test==3)"
   ]
  },
  {
   "cell_type": "code",
   "execution_count": 13,
   "id": "01e4e969",
   "metadata": {
    "execution": {
     "iopub.execute_input": "2022-08-09T20:10:38.677982Z",
     "iopub.status.busy": "2022-08-09T20:10:38.677366Z",
     "iopub.status.idle": "2022-08-09T20:10:38.692881Z",
     "shell.execute_reply": "2022-08-09T20:10:38.692123Z"
    },
    "papermill": {
     "duration": 0.046457,
     "end_time": "2022-08-09T20:10:38.693000",
     "exception": false,
     "start_time": "2022-08-09T20:10:38.646543",
     "status": "completed"
    },
    "tags": []
   },
   "outputs": [
    {
     "data": {
      "text/plain": [
       "((11982, 28, 28), (1984, 28, 28))"
      ]
     },
     "execution_count": 13,
     "metadata": {},
     "output_type": "execute_result"
    }
   ],
   "source": [
    "X_train.shape, X_test.shape"
   ]
  },
  {
   "cell_type": "markdown",
   "id": "5ccf3f85",
   "metadata": {
    "papermill": {
     "duration": 0.027564,
     "end_time": "2022-08-09T20:10:38.748316",
     "exception": false,
     "start_time": "2022-08-09T20:10:38.720752",
     "status": "completed"
    },
    "tags": []
   },
   "source": [
    "We reshape the data to flatten the image pixels into a set of features or co-variates:"
   ]
  },
  {
   "cell_type": "code",
   "execution_count": 14,
   "id": "5286a4a3",
   "metadata": {
    "execution": {
     "iopub.execute_input": "2022-08-09T20:10:38.808566Z",
     "iopub.status.busy": "2022-08-09T20:10:38.807932Z",
     "iopub.status.idle": "2022-08-09T20:10:38.822642Z",
     "shell.execute_reply": "2022-08-09T20:10:38.822077Z"
    },
    "papermill": {
     "duration": 0.046596,
     "end_time": "2022-08-09T20:10:38.822751",
     "exception": false,
     "start_time": "2022-08-09T20:10:38.776155",
     "status": "completed"
    },
    "tags": []
   },
   "outputs": [
    {
     "data": {
      "text/plain": [
       "((11982, 784), (1984, 784))"
      ]
     },
     "execution_count": 14,
     "metadata": {},
     "output_type": "execute_result"
    }
   ],
   "source": [
    "X_train = X_train.reshape(X_train.shape[0], -1)\n",
    "X_test = X_test.reshape(X_test.shape[0], -1)\n",
    "X_train.shape, X_test.shape"
   ]
  },
  {
   "cell_type": "code",
   "execution_count": 15,
   "id": "73c5f88a",
   "metadata": {
    "execution": {
     "iopub.execute_input": "2022-08-09T20:10:38.883129Z",
     "iopub.status.busy": "2022-08-09T20:10:38.882522Z",
     "iopub.status.idle": "2022-08-09T20:10:38.901424Z",
     "shell.execute_reply": "2022-08-09T20:10:38.900981Z"
    },
    "papermill": {
     "duration": 0.050925,
     "end_time": "2022-08-09T20:10:38.901534",
     "exception": false,
     "start_time": "2022-08-09T20:10:38.850609",
     "status": "completed"
    },
    "tags": []
   },
   "outputs": [],
   "source": [
    "#Impoting functions from 'Kudzu'\n",
    "from kudzu.model import Model\n",
    "from kudzu.train import Learner\n",
    "from kudzu.optim import GD\n",
    "from kudzu.data import Data, Sampler,Dataloader\n",
    "\n",
    "from kudzu.callbacks import AccCallback\n",
    "from kudzu.callbacks import ClfCallback\n",
    "\n",
    "from kudzu.loss import MSE\n",
    "\n",
    "from kudzu.layer import Sigmoid,Relu\n",
    "from kudzu.layer import Affine"
   ]
  },
  {
   "cell_type": "markdown",
   "id": "bc01172a",
   "metadata": {
    "papermill": {
     "duration": 0.027889,
     "end_time": "2022-08-09T20:10:38.957693",
     "exception": false,
     "start_time": "2022-08-09T20:10:38.929804",
     "status": "completed"
    },
    "tags": []
   },
   "source": [
    "### Let us create a `Config` class, to store important parameters. \n",
    "This class essentially plays the role of a dictionary."
   ]
  },
  {
   "cell_type": "code",
   "execution_count": 16,
   "id": "978281aa",
   "metadata": {
    "execution": {
     "iopub.execute_input": "2022-08-09T20:10:39.017896Z",
     "iopub.status.busy": "2022-08-09T20:10:39.017324Z",
     "iopub.status.idle": "2022-08-09T20:10:39.029634Z",
     "shell.execute_reply": "2022-08-09T20:10:39.029175Z"
    },
    "papermill": {
     "duration": 0.044142,
     "end_time": "2022-08-09T20:10:39.029742",
     "exception": false,
     "start_time": "2022-08-09T20:10:38.985600",
     "status": "completed"
    },
    "tags": []
   },
   "outputs": [],
   "source": [
    "class Config:\n",
    "    pass\n",
    "config = Config()\n",
    "config.lr = 0.001\n",
    "config.num_epochs = 250\n",
    "config.bs = 50"
   ]
  },
  {
   "cell_type": "markdown",
   "id": "1385fa59",
   "metadata": {
    "papermill": {
     "duration": 0.027705,
     "end_time": "2022-08-09T20:10:39.085580",
     "exception": false,
     "start_time": "2022-08-09T20:10:39.057875",
     "status": "completed"
    },
    "tags": []
   },
   "source": [
    "### Running Models with the Training data\n",
    "Details about the network layers:\n",
    "- A first affine layer has 784 inputs and does 100 affine transforms. These are followed by a Relu\n",
    "- A second affine layer has 100 inputs from the 100 activations of the past layer, and does 100 affine transforms. These are followed by a Relu\n",
    "- A third affine layer has 100 activations and does 2 affine transformations to create an embedding for visualization. There is no non-linearity here.\n",
    "- A final \"logistic regression\" which has an affine transform from 2 inputs to 1 output, which is squeezed through a sigmoid.\n"
   ]
  },
  {
   "cell_type": "code",
   "execution_count": 17,
   "id": "2b9c66db",
   "metadata": {
    "execution": {
     "iopub.execute_input": "2022-08-09T20:10:39.145679Z",
     "iopub.status.busy": "2022-08-09T20:10:39.145105Z",
     "iopub.status.idle": "2022-08-09T20:10:39.157605Z",
     "shell.execute_reply": "2022-08-09T20:10:39.157153Z"
    },
    "papermill": {
     "duration": 0.044285,
     "end_time": "2022-08-09T20:10:39.157712",
     "exception": false,
     "start_time": "2022-08-09T20:10:39.113427",
     "status": "completed"
    },
    "tags": []
   },
   "outputs": [],
   "source": [
    "data = Data(X_train, y_train.reshape(-1,1))\n",
    "sampler = Sampler(data, config.bs, shuffle=True)\n",
    "\n",
    "dl = Dataloader(data, sampler)\n",
    "\n",
    "opt = GD(config.lr)\n",
    "loss = MSE()"
   ]
  },
  {
   "cell_type": "code",
   "execution_count": 18,
   "id": "b275e4c2",
   "metadata": {
    "execution": {
     "iopub.execute_input": "2022-08-09T20:10:39.217597Z",
     "iopub.status.busy": "2022-08-09T20:10:39.217022Z",
     "iopub.status.idle": "2022-08-09T20:10:39.229550Z",
     "shell.execute_reply": "2022-08-09T20:10:39.229122Z"
    },
    "papermill": {
     "duration": 0.043956,
     "end_time": "2022-08-09T20:10:39.229658",
     "exception": false,
     "start_time": "2022-08-09T20:10:39.185702",
     "status": "completed"
    },
    "tags": []
   },
   "outputs": [],
   "source": [
    "training_data_x = X_train\n",
    "testing_data_x = X_test\n",
    "training_data_y = y_train.reshape(-1,1)\n",
    "testing_data_y = y_test.reshape(-1,1)"
   ]
  },
  {
   "cell_type": "code",
   "execution_count": 19,
   "id": "76951160",
   "metadata": {
    "execution": {
     "iopub.execute_input": "2022-08-09T20:10:39.289833Z",
     "iopub.status.busy": "2022-08-09T20:10:39.289254Z",
     "iopub.status.idle": "2022-08-09T20:10:39.306353Z",
     "shell.execute_reply": "2022-08-09T20:10:39.306791Z"
    },
    "papermill": {
     "duration": 0.049353,
     "end_time": "2022-08-09T20:10:39.306919",
     "exception": false,
     "start_time": "2022-08-09T20:10:39.257566",
     "status": "completed"
    },
    "tags": []
   },
   "outputs": [
    {
     "name": "stdout",
     "output_type": "stream",
     "text": [
      "xavier\n",
      "xavier\n",
      "xavier\n",
      "xavier\n",
      "xavier\n"
     ]
    }
   ],
   "source": [
    "layers = [Affine(\"first\", 784, 100), Relu(\"first\"), Affine(\"second\", 100, 100), Relu(\"second\"), Affine(\"third\", 100, 2), Affine(\"last\", 2, 1), Sigmoid(\"last\")]\n",
    "model_nn = Model(layers)\n",
    "model_lr = Model([Affine(\"logits\", 784, 1), Sigmoid(\"sigmoid\")])"
   ]
  },
  {
   "cell_type": "code",
   "execution_count": 20,
   "id": "6eede77a",
   "metadata": {
    "execution": {
     "iopub.execute_input": "2022-08-09T20:10:39.367625Z",
     "iopub.status.busy": "2022-08-09T20:10:39.367045Z",
     "iopub.status.idle": "2022-08-09T20:10:39.379310Z",
     "shell.execute_reply": "2022-08-09T20:10:39.378752Z"
    },
    "papermill": {
     "duration": 0.044093,
     "end_time": "2022-08-09T20:10:39.379421",
     "exception": false,
     "start_time": "2022-08-09T20:10:39.335328",
     "status": "completed"
    },
    "tags": []
   },
   "outputs": [],
   "source": [
    "nn_learner = Learner(loss, model_nn, opt, config.num_epochs)\n",
    "acc_nn = ClfCallback(nn_learner, config.bs, training_data_x , testing_data_x, training_data_y, testing_data_y)\n",
    "nn_learner.set_callbacks([acc_nn])"
   ]
  },
  {
   "cell_type": "code",
   "execution_count": 21,
   "id": "877b6cc7",
   "metadata": {
    "execution": {
     "iopub.execute_input": "2022-08-09T20:10:39.439877Z",
     "iopub.status.busy": "2022-08-09T20:10:39.439298Z",
     "iopub.status.idle": "2022-08-09T20:10:39.452526Z",
     "shell.execute_reply": "2022-08-09T20:10:39.452047Z"
    },
    "papermill": {
     "duration": 0.044887,
     "end_time": "2022-08-09T20:10:39.452646",
     "exception": false,
     "start_time": "2022-08-09T20:10:39.407759",
     "status": "completed"
    },
    "tags": []
   },
   "outputs": [],
   "source": [
    "lr_learner = Learner(loss, model_lr, opt, config.num_epochs)\n",
    "acc_lr = ClfCallback(lr_learner, config.bs, training_data_x , testing_data_x, training_data_y, testing_data_y)\n",
    "lr_learner.set_callbacks([acc_lr])"
   ]
  },
  {
   "cell_type": "code",
   "execution_count": 22,
   "id": "d9b133c3",
   "metadata": {
    "execution": {
     "iopub.execute_input": "2022-08-09T20:10:39.513543Z",
     "iopub.status.busy": "2022-08-09T20:10:39.512964Z",
     "iopub.status.idle": "2022-08-09T20:13:41.915924Z",
     "shell.execute_reply": "2022-08-09T20:13:41.916775Z"
    },
    "papermill": {
     "duration": 182.435578,
     "end_time": "2022-08-09T20:13:41.916920",
     "exception": false,
     "start_time": "2022-08-09T20:10:39.481342",
     "status": "completed"
    },
    "tags": []
   },
   "outputs": [
    {
     "name": "stdout",
     "output_type": "stream",
     "text": [
      "Epoch 0, Loss 0.2486\n",
      "Training Accuracy: 0.5664, Testing Accuracy: 0.5922\n",
      "\n"
     ]
    },
    {
     "name": "stdout",
     "output_type": "stream",
     "text": [
      "Epoch 10, Loss 0.2288\n",
      "Training Accuracy: 0.8392, Testing Accuracy: 0.8473\n",
      "\n"
     ]
    },
    {
     "name": "stdout",
     "output_type": "stream",
     "text": [
      "Epoch 20, Loss 0.1522\n",
      "Training Accuracy: 0.8852, Testing Accuracy: 0.8977\n",
      "\n"
     ]
    },
    {
     "name": "stdout",
     "output_type": "stream",
     "text": [
      "Epoch 30, Loss 0.0806\n",
      "Training Accuracy: 0.9160, Testing Accuracy: 0.9330\n",
      "\n"
     ]
    },
    {
     "name": "stdout",
     "output_type": "stream",
     "text": [
      "Epoch 40, Loss 0.0565\n",
      "Training Accuracy: 0.9380, Testing Accuracy: 0.9471\n",
      "\n"
     ]
    },
    {
     "name": "stdout",
     "output_type": "stream",
     "text": [
      "Epoch 50, Loss 0.0455\n",
      "Training Accuracy: 0.9489, Testing Accuracy: 0.9592\n",
      "\n"
     ]
    },
    {
     "name": "stdout",
     "output_type": "stream",
     "text": [
      "Epoch 60, Loss 0.0397\n",
      "Training Accuracy: 0.9537, Testing Accuracy: 0.9652\n",
      "\n"
     ]
    },
    {
     "name": "stdout",
     "output_type": "stream",
     "text": [
      "Epoch 70, Loss 0.036\n",
      "Training Accuracy: 0.9569, Testing Accuracy: 0.9688\n",
      "\n"
     ]
    },
    {
     "name": "stdout",
     "output_type": "stream",
     "text": [
      "Epoch 80, Loss 0.0335\n",
      "Training Accuracy: 0.9597, Testing Accuracy: 0.9688\n",
      "\n"
     ]
    },
    {
     "name": "stdout",
     "output_type": "stream",
     "text": [
      "Epoch 90, Loss 0.0317\n",
      "Training Accuracy: 0.9623, Testing Accuracy: 0.9703\n",
      "\n"
     ]
    },
    {
     "name": "stdout",
     "output_type": "stream",
     "text": [
      "Epoch 100, Loss 0.0302\n",
      "Training Accuracy: 0.9640, Testing Accuracy: 0.9703\n",
      "\n"
     ]
    },
    {
     "name": "stdout",
     "output_type": "stream",
     "text": [
      "Epoch 110, Loss 0.029\n",
      "Training Accuracy: 0.9663, Testing Accuracy: 0.9708\n",
      "\n"
     ]
    },
    {
     "name": "stdout",
     "output_type": "stream",
     "text": [
      "Epoch 120, Loss 0.028\n",
      "Training Accuracy: 0.9671, Testing Accuracy: 0.9703\n",
      "\n"
     ]
    },
    {
     "name": "stdout",
     "output_type": "stream",
     "text": [
      "Epoch 130, Loss 0.0272\n",
      "Training Accuracy: 0.9683, Testing Accuracy: 0.9703\n",
      "\n"
     ]
    },
    {
     "name": "stdout",
     "output_type": "stream",
     "text": [
      "Epoch 140, Loss 0.0264\n",
      "Training Accuracy: 0.9691, Testing Accuracy: 0.9688\n",
      "\n"
     ]
    },
    {
     "name": "stdout",
     "output_type": "stream",
     "text": [
      "Epoch 150, Loss 0.0258\n",
      "Training Accuracy: 0.9697, Testing Accuracy: 0.9688\n",
      "\n"
     ]
    },
    {
     "name": "stdout",
     "output_type": "stream",
     "text": [
      "Epoch 160, Loss 0.0252\n",
      "Training Accuracy: 0.9704, Testing Accuracy: 0.9693\n",
      "\n"
     ]
    },
    {
     "name": "stdout",
     "output_type": "stream",
     "text": [
      "Epoch 170, Loss 0.0246\n",
      "Training Accuracy: 0.9710, Testing Accuracy: 0.9693\n",
      "\n"
     ]
    },
    {
     "name": "stdout",
     "output_type": "stream",
     "text": [
      "Epoch 180, Loss 0.0241\n",
      "Training Accuracy: 0.9719, Testing Accuracy: 0.9698\n",
      "\n"
     ]
    },
    {
     "name": "stdout",
     "output_type": "stream",
     "text": [
      "Epoch 190, Loss 0.0237\n",
      "Training Accuracy: 0.9725, Testing Accuracy: 0.9698\n",
      "\n"
     ]
    },
    {
     "name": "stdout",
     "output_type": "stream",
     "text": [
      "Epoch 200, Loss 0.0232\n",
      "Training Accuracy: 0.9729, Testing Accuracy: 0.9698\n",
      "\n"
     ]
    },
    {
     "name": "stdout",
     "output_type": "stream",
     "text": [
      "Epoch 210, Loss 0.0228\n",
      "Training Accuracy: 0.9735, Testing Accuracy: 0.9713\n",
      "\n"
     ]
    },
    {
     "name": "stdout",
     "output_type": "stream",
     "text": [
      "Epoch 220, Loss 0.0224\n",
      "Training Accuracy: 0.9740, Testing Accuracy: 0.9713\n",
      "\n"
     ]
    },
    {
     "name": "stdout",
     "output_type": "stream",
     "text": [
      "Epoch 230, Loss 0.0221\n",
      "Training Accuracy: 0.9745, Testing Accuracy: 0.9703\n",
      "\n"
     ]
    },
    {
     "name": "stdout",
     "output_type": "stream",
     "text": [
      "Epoch 240, Loss 0.0217\n",
      "Training Accuracy: 0.9750, Testing Accuracy: 0.9703\n",
      "\n"
     ]
    },
    {
     "data": {
      "text/plain": [
       "0.03531268415980751"
      ]
     },
     "execution_count": 22,
     "metadata": {},
     "output_type": "execute_result"
    }
   ],
   "source": [
    "nn_learner.train_loop(dl)"
   ]
  },
  {
   "cell_type": "code",
   "execution_count": 23,
   "id": "e0163366",
   "metadata": {
    "execution": {
     "iopub.execute_input": "2022-08-09T20:13:41.999718Z",
     "iopub.status.busy": "2022-08-09T20:13:41.999155Z",
     "iopub.status.idle": "2022-08-09T20:13:54.346161Z",
     "shell.execute_reply": "2022-08-09T20:13:54.347043Z"
    },
    "papermill": {
     "duration": 12.394432,
     "end_time": "2022-08-09T20:13:54.347190",
     "exception": false,
     "start_time": "2022-08-09T20:13:41.952758",
     "status": "completed"
    },
    "tags": []
   },
   "outputs": [
    {
     "name": "stdout",
     "output_type": "stream",
     "text": [
      "Epoch 0, Loss 0.2632\n",
      "Training Accuracy: 0.6198, Testing Accuracy: 0.6376\n",
      "\n"
     ]
    },
    {
     "name": "stdout",
     "output_type": "stream",
     "text": [
      "Epoch 10, Loss 0.1013\n",
      "Training Accuracy: 0.9201, Testing Accuracy: 0.9309\n",
      "\n"
     ]
    },
    {
     "name": "stdout",
     "output_type": "stream",
     "text": [
      "Epoch 20, Loss 0.0777\n",
      "Training Accuracy: 0.9327, Testing Accuracy: 0.9435\n",
      "\n"
     ]
    },
    {
     "name": "stdout",
     "output_type": "stream",
     "text": [
      "Epoch 30, Loss 0.067\n",
      "Training Accuracy: 0.9398, Testing Accuracy: 0.9506\n",
      "\n"
     ]
    },
    {
     "name": "stdout",
     "output_type": "stream",
     "text": [
      "Epoch 40, Loss 0.0606\n",
      "Training Accuracy: 0.9446, Testing Accuracy: 0.9556\n",
      "\n"
     ]
    },
    {
     "name": "stdout",
     "output_type": "stream",
     "text": [
      "Epoch 50, Loss 0.0563\n",
      "Training Accuracy: 0.9471, Testing Accuracy: 0.9572\n",
      "\n"
     ]
    },
    {
     "name": "stdout",
     "output_type": "stream",
     "text": [
      "Epoch 60, Loss 0.0531\n",
      "Training Accuracy: 0.9493, Testing Accuracy: 0.9587\n",
      "\n"
     ]
    },
    {
     "name": "stdout",
     "output_type": "stream",
     "text": [
      "Epoch 70, Loss 0.0506\n",
      "Training Accuracy: 0.9510, Testing Accuracy: 0.9622\n",
      "\n"
     ]
    },
    {
     "name": "stdout",
     "output_type": "stream",
     "text": [
      "Epoch 80, Loss 0.0487\n",
      "Training Accuracy: 0.9523, Testing Accuracy: 0.9627\n",
      "\n"
     ]
    },
    {
     "name": "stdout",
     "output_type": "stream",
     "text": [
      "Epoch 90, Loss 0.047\n",
      "Training Accuracy: 0.9532, Testing Accuracy: 0.9637\n",
      "\n"
     ]
    },
    {
     "name": "stdout",
     "output_type": "stream",
     "text": [
      "Epoch 100, Loss 0.0457\n",
      "Training Accuracy: 0.9538, Testing Accuracy: 0.9637\n",
      "\n"
     ]
    },
    {
     "name": "stdout",
     "output_type": "stream",
     "text": [
      "Epoch 110, Loss 0.0445\n",
      "Training Accuracy: 0.9551, Testing Accuracy: 0.9652\n",
      "\n"
     ]
    },
    {
     "name": "stdout",
     "output_type": "stream",
     "text": [
      "Epoch 120, Loss 0.0435\n",
      "Training Accuracy: 0.9559, Testing Accuracy: 0.9662\n",
      "\n"
     ]
    },
    {
     "name": "stdout",
     "output_type": "stream",
     "text": [
      "Epoch 130, Loss 0.0425\n",
      "Training Accuracy: 0.9565, Testing Accuracy: 0.9662\n",
      "\n"
     ]
    },
    {
     "name": "stdout",
     "output_type": "stream",
     "text": [
      "Epoch 140, Loss 0.0417\n",
      "Training Accuracy: 0.9570, Testing Accuracy: 0.9662\n",
      "\n"
     ]
    },
    {
     "name": "stdout",
     "output_type": "stream",
     "text": [
      "Epoch 150, Loss 0.041\n",
      "Training Accuracy: 0.9577, Testing Accuracy: 0.9657\n",
      "\n"
     ]
    },
    {
     "name": "stdout",
     "output_type": "stream",
     "text": [
      "Epoch 160, Loss 0.0404\n",
      "Training Accuracy: 0.9584, Testing Accuracy: 0.9672\n",
      "\n"
     ]
    },
    {
     "name": "stdout",
     "output_type": "stream",
     "text": [
      "Epoch 170, Loss 0.0398\n",
      "Training Accuracy: 0.9590, Testing Accuracy: 0.9677\n",
      "\n"
     ]
    },
    {
     "name": "stdout",
     "output_type": "stream",
     "text": [
      "Epoch 180, Loss 0.0392\n",
      "Training Accuracy: 0.9595, Testing Accuracy: 0.9682\n",
      "\n"
     ]
    },
    {
     "name": "stdout",
     "output_type": "stream",
     "text": [
      "Epoch 190, Loss 0.0387\n",
      "Training Accuracy: 0.9596, Testing Accuracy: 0.9682\n",
      "\n"
     ]
    },
    {
     "name": "stdout",
     "output_type": "stream",
     "text": [
      "Epoch 200, Loss 0.0383\n",
      "Training Accuracy: 0.9599, Testing Accuracy: 0.9682\n",
      "\n"
     ]
    },
    {
     "name": "stdout",
     "output_type": "stream",
     "text": [
      "Epoch 210, Loss 0.0378\n",
      "Training Accuracy: 0.9602, Testing Accuracy: 0.9682\n",
      "\n"
     ]
    },
    {
     "name": "stdout",
     "output_type": "stream",
     "text": [
      "Epoch 220, Loss 0.0374\n",
      "Training Accuracy: 0.9604, Testing Accuracy: 0.9688\n",
      "\n"
     ]
    },
    {
     "name": "stdout",
     "output_type": "stream",
     "text": [
      "Epoch 230, Loss 0.0371\n",
      "Training Accuracy: 0.9604, Testing Accuracy: 0.9688\n",
      "\n"
     ]
    },
    {
     "name": "stdout",
     "output_type": "stream",
     "text": [
      "Epoch 240, Loss 0.0367\n",
      "Training Accuracy: 0.9609, Testing Accuracy: 0.9688\n",
      "\n"
     ]
    },
    {
     "data": {
      "text/plain": [
       "0.01411809115193038"
      ]
     },
     "execution_count": 23,
     "metadata": {},
     "output_type": "execute_result"
    }
   ],
   "source": [
    "lr_learner.train_loop(dl)"
   ]
  },
  {
   "cell_type": "code",
   "execution_count": 24,
   "id": "ca410940",
   "metadata": {
    "execution": {
     "iopub.execute_input": "2022-08-09T20:13:54.439362Z",
     "iopub.status.busy": "2022-08-09T20:13:54.438744Z",
     "iopub.status.idle": "2022-08-09T20:13:54.663050Z",
     "shell.execute_reply": "2022-08-09T20:13:54.662562Z"
    },
    "papermill": {
     "duration": 0.273408,
     "end_time": "2022-08-09T20:13:54.663160",
     "exception": false,
     "start_time": "2022-08-09T20:13:54.389752",
     "status": "completed"
    },
    "tags": []
   },
   "outputs": [
    {
     "data": {
      "text/plain": [
       "<matplotlib.legend.Legend at 0x7f4e48c62ba8>"
      ]
     },
     "execution_count": 24,
     "metadata": {},
     "output_type": "execute_result"
    },
    {
     "data": {
      "image/png": "[encoded data removed]",
      "text/plain": [
       "<Figure size 1080x720 with 1 Axes>"
      ]
     },
     "metadata": {
      "needs_background": "light"
     },
     "output_type": "display_data"
    }
   ],
   "source": [
    "#comparing the results of NN and LR\n",
    "plt.figure(figsize=(15,10))\n",
    "\n",
    "# Neural Network plots\n",
    "plt.plot(acc_nn.accuracies, 'r-', label = \"Training Accuracies - NN\")\n",
    "plt.plot(acc_nn.test_accuracies, 'g-', label = \"Testing Accuracies - NN\")\n",
    "\n",
    "# Logistic Regression plots\n",
    "plt.plot(acc_lr.accuracies, 'k-', label = \"Training Accuracies - LR\")\n",
    "plt.plot(acc_lr.test_accuracies, 'b-', label = \"Testing Accuracies - LR\")\n",
    "plt.legend()"
   ]
  },
  {
   "cell_type": "markdown",
   "id": "80dfb35c",
   "metadata": {
    "papermill": {
     "duration": 0.043293,
     "end_time": "2022-08-09T20:13:54.750600",
     "exception": false,
     "start_time": "2022-08-09T20:13:54.707307",
     "status": "completed"
    },
    "tags": []
   },
   "source": [
    "#### Plotting the outputs of this layer of the NN.\n"
   ]
  },
  {
   "cell_type": "code",
   "execution_count": 25,
   "id": "45eb2ff5",
   "metadata": {
    "execution": {
     "iopub.execute_input": "2022-08-09T20:13:54.841218Z",
     "iopub.status.busy": "2022-08-09T20:13:54.840627Z",
     "iopub.status.idle": "2022-08-09T20:13:54.879447Z",
     "shell.execute_reply": "2022-08-09T20:13:54.878515Z"
    },
    "papermill": {
     "duration": 0.085833,
     "end_time": "2022-08-09T20:13:54.879574",
     "exception": false,
     "start_time": "2022-08-09T20:13:54.793741",
     "status": "completed"
    },
    "tags": []
   },
   "outputs": [],
   "source": [
    "new_model = Model(layers[:-2])\n",
    "testing_plot = new_model(testing_data_x)"
   ]
  },
  {
   "cell_type": "code",
   "execution_count": 26,
   "id": "4c0a5485",
   "metadata": {
    "execution": {
     "iopub.execute_input": "2022-08-09T20:13:54.978836Z",
     "iopub.status.busy": "2022-08-09T20:13:54.975899Z",
     "iopub.status.idle": "2022-08-09T20:13:55.172980Z",
     "shell.execute_reply": "2022-08-09T20:13:55.173403Z"
    },
    "papermill": {
     "duration": 0.250191,
     "end_time": "2022-08-09T20:13:55.173541",
     "exception": false,
     "start_time": "2022-08-09T20:13:54.923350",
     "status": "completed"
    },
    "tags": []
   },
   "outputs": [
    {
     "data": {
      "text/plain": [
       "Text(0.5, 1.0, 'Outputs')"
      ]
     },
     "execution_count": 26,
     "metadata": {},
     "output_type": "execute_result"
    },
    {
     "data": {
      "image/png": "[encoded data removed]",
      "text/plain": [
       "<Figure size 576x504 with 1 Axes>"
      ]
     },
     "metadata": {
      "needs_background": "light"
     },
     "output_type": "display_data"
    }
   ],
   "source": [
    "# Plotting the scatter plot of points and color coding by class\n",
    "plt.figure(figsize=(8,7))\n",
    "plt.scatter(testing_plot[:,0], testing_plot[:,1], alpha = 0.1, c = y_test.ravel());\n",
    "plt.title('Outputs')"
   ]
  },
  {
   "cell_type": "markdown",
   "id": "a74fcf8f",
   "metadata": {
    "papermill": {
     "duration": 0.045406,
     "end_time": "2022-08-09T20:13:55.289053",
     "exception": false,
     "start_time": "2022-08-09T20:13:55.243647",
     "status": "completed"
    },
    "tags": []
   },
   "source": [
    "Probability contours"
   ]
  },
  {
   "cell_type": "code",
   "execution_count": 27,
   "id": "d0afc8e3",
   "metadata": {
    "execution": {
     "iopub.execute_input": "2022-08-09T20:13:55.384227Z",
     "iopub.status.busy": "2022-08-09T20:13:55.383102Z",
     "iopub.status.idle": "2022-08-09T20:13:55.396374Z",
     "shell.execute_reply": "2022-08-09T20:13:55.395913Z"
    },
    "papermill": {
     "duration": 0.062009,
     "end_time": "2022-08-09T20:13:55.396484",
     "exception": false,
     "start_time": "2022-08-09T20:13:55.334475",
     "status": "completed"
    },
    "tags": []
   },
   "outputs": [],
   "source": [
    "model_prob = Model(layers[-2:]) "
   ]
  },
  {
   "cell_type": "code",
   "execution_count": 28,
   "id": "9b96e238",
   "metadata": {
    "execution": {
     "iopub.execute_input": "2022-08-09T20:13:55.491556Z",
     "iopub.status.busy": "2022-08-09T20:13:55.490972Z",
     "iopub.status.idle": "2022-08-09T20:13:55.504417Z",
     "shell.execute_reply": "2022-08-09T20:13:55.504852Z"
    },
    "papermill": {
     "duration": 0.063375,
     "end_time": "2022-08-09T20:13:55.504990",
     "exception": false,
     "start_time": "2022-08-09T20:13:55.441615",
     "status": "completed"
    },
    "tags": []
   },
   "outputs": [],
   "source": [
    "#creating the x and y ranges according to the above generated plot.\n",
    "x_range = np.linspace(-4, 1, 100) \n",
    "y_range = np.linspace(-6, 6, 100) \n",
    "x_grid, y_grid = np.meshgrid(x_range, y_range) # x_grid and y_grig are of size 100 X 100\n",
    "\n",
    "# converting x_grid and y_grid to continuous arrays\n",
    "x_gridflat = np.ravel(x_grid)\n",
    "y_gridflat = np.ravel(y_grid)\n",
    "\n",
    "# The last layer of the current model takes two columns as input. Hence transpose of np.vstack() is required.\n",
    "X = np.vstack((x_gridflat, y_gridflat)).T\n",
    "\n",
    "prob_contour = model_prob(X).reshape(100,100) "
   ]
  },
  {
   "cell_type": "code",
   "execution_count": 29,
   "id": "da72499a",
   "metadata": {
    "execution": {
     "iopub.execute_input": "2022-08-09T20:13:55.600737Z",
     "iopub.status.busy": "2022-08-09T20:13:55.600166Z",
     "iopub.status.idle": "2022-08-09T20:13:55.850854Z",
     "shell.execute_reply": "2022-08-09T20:13:55.851287Z"
    },
    "papermill": {
     "duration": 0.300722,
     "end_time": "2022-08-09T20:13:55.851416",
     "exception": false,
     "start_time": "2022-08-09T20:13:55.550694",
     "status": "completed"
    },
    "tags": []
   },
   "outputs": [
    {
     "data": {
      "image/png": "[encoded data removed]",
      "text/plain": [
       "<Figure size 720x648 with 1 Axes>"
      ]
     },
     "metadata": {
      "needs_background": "light"
     },
     "output_type": "display_data"
    }
   ],
   "source": [
    "plt.figure(figsize=(10,9))\n",
    "plt.scatter(testing_plot[:,0], testing_plot[:,1], alpha = 0.1, c = y_test.ravel())\n",
    "contours = plt.contour(x_grid,y_grid,prob_contour)\n",
    "plt.title('Probability Contours')\n",
    "plt.clabel(contours, inline = True );"
   ]
  },
  {
   "cell_type": "code",
   "execution_count": null,
   "id": "e81b4ac7",
   "metadata": {
    "papermill": {
     "duration": 0.048157,
     "end_time": "2022-08-09T20:13:55.947287",
     "exception": false,
     "start_time": "2022-08-09T20:13:55.899130",
     "status": "completed"
    },
    "tags": []
   },
   "outputs": [],
   "source": []
  }
 ],
 "metadata": {
  "kernelspec": {
   "display_name": "Python 3",
   "language": "python",
   "name": "python3"
  },
  "language_info": {
   "codemirror_mode": {
    "name": "ipython",
    "version": 3
   },
   "file_extension": ".py",
   "mimetype": "text/x-python",
   "name": "python",
   "nbconvert_exporter": "python",
   "pygments_lexer": "ipython3",
   "version": "3.6.15"
  },
  "papermill": {
   "default_parameters": {},
   "duration": 203.107355,
   "end_time": "2022-08-09T20:13:56.413756",
   "environment_variables": {},
   "exception": null,
   "input_path": "2020-08-11-part2.ipynb",
   "output_path": "2020-08-11-part2.ipynb",
   "parameters": {},
   "start_time": "2022-08-09T20:10:33.306401",
   "version": "2.3.3"
  }
 },
 "nbformat": 4,
 "nbformat_minor": 5
}