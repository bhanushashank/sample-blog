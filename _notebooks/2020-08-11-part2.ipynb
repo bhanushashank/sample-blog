{
 "cells": [
  {
   "cell_type": "markdown",
   "id": "98380cd3",
   "metadata": {
    "papermill": {
     "duration": 0.028136,
     "end_time": "2021-09-25T10:08:22.784501",
     "exception": false,
     "start_time": "2021-09-25T10:08:22.756365",
     "status": "completed"
    },
    "tags": []
   },
   "source": [
    "# Distinguish Your Own Digits (DYOD)"
   ]
  },
  {
   "cell_type": "markdown",
   "id": "ef31240d",
   "metadata": {
    "papermill": {
     "duration": 0.023374,
     "end_time": "2021-09-25T10:08:22.832042",
     "exception": false,
     "start_time": "2021-09-25T10:08:22.808668",
     "status": "completed"
    },
    "tags": []
   },
   "source": [
    "You are going to write a classifier that distinguishes between the number 3 and number 8."
   ]
  },
  {
   "cell_type": "code",
   "execution_count": 1,
   "id": "b15c8646",
   "metadata": {
    "execution": {
     "iopub.execute_input": "2021-09-25T10:08:22.890212Z",
     "iopub.status.busy": "2021-09-25T10:08:22.889647Z",
     "iopub.status.idle": "2021-09-25T10:08:22.900056Z",
     "shell.execute_reply": "2021-09-25T10:08:22.899627Z"
    },
    "papermill": {
     "duration": 0.044687,
     "end_time": "2021-09-25T10:08:22.900181",
     "exception": false,
     "start_time": "2021-09-25T10:08:22.855494",
     "status": "completed"
    },
    "tags": []
   },
   "outputs": [],
   "source": [
    "%load_ext autoreload\n",
    "%autoreload 2"
   ]
  },
  {
   "cell_type": "code",
   "execution_count": 2,
   "id": "22ef38dc",
   "metadata": {
    "execution": {
     "iopub.execute_input": "2021-09-25T10:08:22.950953Z",
     "iopub.status.busy": "2021-09-25T10:08:22.950442Z",
     "iopub.status.idle": "2021-09-25T10:08:23.457771Z",
     "shell.execute_reply": "2021-09-25T10:08:23.457230Z"
    },
    "papermill": {
     "duration": 0.534128,
     "end_time": "2021-09-25T10:08:23.457918",
     "exception": false,
     "start_time": "2021-09-25T10:08:22.923790",
     "status": "completed"
    },
    "tags": []
   },
   "outputs": [],
   "source": [
    "%matplotlib inline\n",
    "import numpy as np\n",
    "import matplotlib.pyplot as plt\n",
    "import pandas as pd"
   ]
  },
  {
   "cell_type": "markdown",
   "id": "ba036198",
   "metadata": {
    "papermill": {
     "duration": 0.023641,
     "end_time": "2021-09-25T10:08:23.505837",
     "exception": false,
     "start_time": "2021-09-25T10:08:23.482196",
     "status": "completed"
    },
    "tags": []
   },
   "source": [
    "From the command line run `pip install mnist`. This is a library that will help you bring down the mnist dataset. If you run this from a notebook, you need to put  `!pip install mnist` in a cell by itself."
   ]
  },
  {
   "cell_type": "code",
   "execution_count": 3,
   "id": "bb6ad8a1",
   "metadata": {
    "execution": {
     "iopub.execute_input": "2021-09-25T10:08:23.564378Z",
     "iopub.status.busy": "2021-09-25T10:08:23.563578Z",
     "iopub.status.idle": "2021-09-25T10:08:25.251117Z",
     "shell.execute_reply": "2021-09-25T10:08:25.251978Z"
    },
    "papermill": {
     "duration": 1.722621,
     "end_time": "2021-09-25T10:08:25.252162",
     "exception": false,
     "start_time": "2021-09-25T10:08:23.529541",
     "status": "completed"
    },
    "tags": []
   },
   "outputs": [
    {
     "name": "stdout",
     "output_type": "stream",
     "text": [
      "Collecting mnist\r\n"
     ]
    },
    {
     "name": "stdout",
     "output_type": "stream",
     "text": [
      "  Downloading mnist-0.2.2-py2.py3-none-any.whl (3.5 kB)\r\n",
      "Requirement already satisfied: numpy in /opt/hostedtoolcache/Python/3.6.15/x64/lib/python3.6/site-packages (from mnist) (1.19.5)\r\n"
     ]
    },
    {
     "name": "stdout",
     "output_type": "stream",
     "text": [
      "Installing collected packages: mnist\r\n"
     ]
    },
    {
     "name": "stdout",
     "output_type": "stream",
     "text": [
      "Successfully installed mnist-0.2.2\r\n"
     ]
    }
   ],
   "source": [
    "!pip install mnist"
   ]
  },
  {
   "cell_type": "markdown",
   "id": "69df9c9a",
   "metadata": {
    "papermill": {
     "duration": 0.024804,
     "end_time": "2021-09-25T10:08:25.302480",
     "exception": false,
     "start_time": "2021-09-25T10:08:25.277676",
     "status": "completed"
    },
    "tags": []
   },
   "source": [
    "## Preparing the Data"
   ]
  },
  {
   "cell_type": "code",
   "execution_count": 4,
   "id": "7f69d806",
   "metadata": {
    "execution": {
     "iopub.execute_input": "2021-09-25T10:08:25.359029Z",
     "iopub.status.busy": "2021-09-25T10:08:25.355200Z",
     "iopub.status.idle": "2021-09-25T10:08:25.369274Z",
     "shell.execute_reply": "2021-09-25T10:08:25.368859Z"
    },
    "papermill": {
     "duration": 0.042265,
     "end_time": "2021-09-25T10:08:25.369390",
     "exception": false,
     "start_time": "2021-09-25T10:08:25.327125",
     "status": "completed"
    },
    "tags": []
   },
   "outputs": [],
   "source": [
    "import mnist"
   ]
  },
  {
   "cell_type": "code",
   "execution_count": 5,
   "id": "a411e44f",
   "metadata": {
    "execution": {
     "iopub.execute_input": "2021-09-25T10:08:25.423618Z",
     "iopub.status.busy": "2021-09-25T10:08:25.423112Z",
     "iopub.status.idle": "2021-09-25T10:08:26.002240Z",
     "shell.execute_reply": "2021-09-25T10:08:26.001195Z"
    },
    "papermill": {
     "duration": 0.608181,
     "end_time": "2021-09-25T10:08:26.002405",
     "exception": false,
     "start_time": "2021-09-25T10:08:25.394224",
     "status": "completed"
    },
    "tags": []
   },
   "outputs": [],
   "source": [
    "train_images = mnist.train_images()\n",
    "train_labels = mnist.train_labels()"
   ]
  },
  {
   "cell_type": "code",
   "execution_count": 6,
   "id": "dceab3a5",
   "metadata": {
    "execution": {
     "iopub.execute_input": "2021-09-25T10:08:26.058866Z",
     "iopub.status.busy": "2021-09-25T10:08:26.057492Z",
     "iopub.status.idle": "2021-09-25T10:08:26.070833Z",
     "shell.execute_reply": "2021-09-25T10:08:26.070396Z"
    },
    "papermill": {
     "duration": 0.043134,
     "end_time": "2021-09-25T10:08:26.070947",
     "exception": false,
     "start_time": "2021-09-25T10:08:26.027813",
     "status": "completed"
    },
    "tags": []
   },
   "outputs": [
    {
     "data": {
      "text/plain": [
       "((60000, 28, 28), (60000,))"
      ]
     },
     "execution_count": 6,
     "metadata": {},
     "output_type": "execute_result"
    }
   ],
   "source": [
    "train_images.shape, train_labels.shape"
   ]
  },
  {
   "cell_type": "code",
   "execution_count": 7,
   "id": "f50dc2bb",
   "metadata": {
    "execution": {
     "iopub.execute_input": "2021-09-25T10:08:26.124855Z",
     "iopub.status.busy": "2021-09-25T10:08:26.124358Z",
     "iopub.status.idle": "2021-09-25T10:08:26.311896Z",
     "shell.execute_reply": "2021-09-25T10:08:26.311332Z"
    },
    "papermill": {
     "duration": 0.216244,
     "end_time": "2021-09-25T10:08:26.312029",
     "exception": false,
     "start_time": "2021-09-25T10:08:26.095785",
     "status": "completed"
    },
    "tags": []
   },
   "outputs": [],
   "source": [
    "test_images = mnist.test_images()\n",
    "test_labels = mnist.test_labels()"
   ]
  },
  {
   "cell_type": "code",
   "execution_count": 8,
   "id": "fc38cf1b",
   "metadata": {
    "execution": {
     "iopub.execute_input": "2021-09-25T10:08:26.366924Z",
     "iopub.status.busy": "2021-09-25T10:08:26.366392Z",
     "iopub.status.idle": "2021-09-25T10:08:26.379490Z",
     "shell.execute_reply": "2021-09-25T10:08:26.379077Z"
    },
    "papermill": {
     "duration": 0.041143,
     "end_time": "2021-09-25T10:08:26.379601",
     "exception": false,
     "start_time": "2021-09-25T10:08:26.338458",
     "status": "completed"
    },
    "tags": []
   },
   "outputs": [
    {
     "data": {
      "text/plain": [
       "((10000, 28, 28), (10000,))"
      ]
     },
     "execution_count": 8,
     "metadata": {},
     "output_type": "execute_result"
    }
   ],
   "source": [
    "test_images.shape, test_labels.shape"
   ]
  },
  {
   "cell_type": "code",
   "execution_count": 9,
   "id": "f9ed8fe0",
   "metadata": {
    "execution": {
     "iopub.execute_input": "2021-09-25T10:08:26.433148Z",
     "iopub.status.busy": "2021-09-25T10:08:26.432643Z",
     "iopub.status.idle": "2021-09-25T10:08:26.568421Z",
     "shell.execute_reply": "2021-09-25T10:08:26.568892Z"
    },
    "papermill": {
     "duration": 0.164431,
     "end_time": "2021-09-25T10:08:26.569037",
     "exception": false,
     "start_time": "2021-09-25T10:08:26.404606",
     "status": "completed"
    },
    "tags": []
   },
   "outputs": [
    {
     "name": "stdout",
     "output_type": "stream",
     "text": [
      "2\n"
     ]
    },
    {
     "data": {
      "text/plain": [
       "<matplotlib.image.AxesImage at 0x7f3a3ca47e80>"
      ]
     },
     "execution_count": 9,
     "metadata": {},
     "output_type": "execute_result"
    },
    {
     "data": {
      "image/png": "[encoded data removed]",
      "text/plain": [
       "<Figure size 432x288 with 1 Axes>"
      ]
     },
     "metadata": {
      "needs_background": "light"
     },
     "output_type": "display_data"
    }
   ],
   "source": [
    "image_index = 7776 # You may select anything up to 60,000\n",
    "print(train_labels[image_index]) \n",
    "plt.imshow(train_images[image_index], cmap='Greys')"
   ]
  },
  {
   "cell_type": "markdown",
   "id": "a8d2388d",
   "metadata": {
    "papermill": {
     "duration": 0.026053,
     "end_time": "2021-09-25T10:08:26.622149",
     "exception": false,
     "start_time": "2021-09-25T10:08:26.596096",
     "status": "completed"
    },
    "tags": []
   },
   "source": [
    "## Filter data to get 3 and 8 out"
   ]
  },
  {
   "cell_type": "code",
   "execution_count": 10,
   "id": "776f7fc7",
   "metadata": {
    "execution": {
     "iopub.execute_input": "2021-09-25T10:08:26.690715Z",
     "iopub.status.busy": "2021-09-25T10:08:26.686179Z",
     "iopub.status.idle": "2021-09-25T10:08:26.699266Z",
     "shell.execute_reply": "2021-09-25T10:08:26.699674Z"
    },
    "papermill": {
     "duration": 0.051628,
     "end_time": "2021-09-25T10:08:26.699797",
     "exception": false,
     "start_time": "2021-09-25T10:08:26.648169",
     "status": "completed"
    },
    "tags": []
   },
   "outputs": [],
   "source": [
    "train_filter = np.where((train_labels == 3 ) | (train_labels == 8))\n",
    "test_filter = np.where((test_labels == 3) | (test_labels == 8))\n",
    "X_train, y_train = train_images[train_filter], train_labels[train_filter]\n",
    "X_test, y_test = test_images[test_filter], test_labels[test_filter]"
   ]
  },
  {
   "cell_type": "markdown",
   "id": "948f0b7e",
   "metadata": {
    "papermill": {
     "duration": 0.026029,
     "end_time": "2021-09-25T10:08:26.752027",
     "exception": false,
     "start_time": "2021-09-25T10:08:26.725998",
     "status": "completed"
    },
    "tags": []
   },
   "source": [
    "We normalize the pizel values in the 0 to 1 range"
   ]
  },
  {
   "cell_type": "code",
   "execution_count": 11,
   "id": "ee4c2166",
   "metadata": {
    "execution": {
     "iopub.execute_input": "2021-09-25T10:08:26.815150Z",
     "iopub.status.busy": "2021-09-25T10:08:26.806960Z",
     "iopub.status.idle": "2021-09-25T10:08:26.856412Z",
     "shell.execute_reply": "2021-09-25T10:08:26.855861Z"
    },
    "papermill": {
     "duration": 0.078402,
     "end_time": "2021-09-25T10:08:26.856557",
     "exception": false,
     "start_time": "2021-09-25T10:08:26.778155",
     "status": "completed"
    },
    "tags": []
   },
   "outputs": [],
   "source": [
    "X_train = X_train/255.\n",
    "X_test = X_test/255."
   ]
  },
  {
   "cell_type": "markdown",
   "id": "ddcf4fab",
   "metadata": {
    "papermill": {
     "duration": 0.026119,
     "end_time": "2021-09-25T10:08:26.909469",
     "exception": false,
     "start_time": "2021-09-25T10:08:26.883350",
     "status": "completed"
    },
    "tags": []
   },
   "source": [
    "And setup the labels as 1 (when the digit is 3) and 0 (when the digit is 8)"
   ]
  },
  {
   "cell_type": "code",
   "execution_count": 12,
   "id": "7dc908f2",
   "metadata": {
    "execution": {
     "iopub.execute_input": "2021-09-25T10:08:26.977892Z",
     "iopub.status.busy": "2021-09-25T10:08:26.973742Z",
     "iopub.status.idle": "2021-09-25T10:08:26.980186Z",
     "shell.execute_reply": "2021-09-25T10:08:26.979755Z"
    },
    "papermill": {
     "duration": 0.044763,
     "end_time": "2021-09-25T10:08:26.980291",
     "exception": false,
     "start_time": "2021-09-25T10:08:26.935528",
     "status": "completed"
    },
    "tags": []
   },
   "outputs": [],
   "source": [
    "y_train = 1*(y_train==3)\n",
    "y_test = 1*(y_test==3)"
   ]
  },
  {
   "cell_type": "code",
   "execution_count": 13,
   "id": "01e4e969",
   "metadata": {
    "execution": {
     "iopub.execute_input": "2021-09-25T10:08:27.043386Z",
     "iopub.status.busy": "2021-09-25T10:08:27.042882Z",
     "iopub.status.idle": "2021-09-25T10:08:27.052348Z",
     "shell.execute_reply": "2021-09-25T10:08:27.051942Z"
    },
    "papermill": {
     "duration": 0.045689,
     "end_time": "2021-09-25T10:08:27.052456",
     "exception": false,
     "start_time": "2021-09-25T10:08:27.006767",
     "status": "completed"
    },
    "tags": []
   },
   "outputs": [
    {
     "data": {
      "text/plain": [
       "((11982, 28, 28), (1984, 28, 28))"
      ]
     },
     "execution_count": 13,
     "metadata": {},
     "output_type": "execute_result"
    }
   ],
   "source": [
    "X_train.shape, X_test.shape"
   ]
  },
  {
   "cell_type": "markdown",
   "id": "5ccf3f85",
   "metadata": {
    "papermill": {
     "duration": 0.026319,
     "end_time": "2021-09-25T10:08:27.105099",
     "exception": false,
     "start_time": "2021-09-25T10:08:27.078780",
     "status": "completed"
    },
    "tags": []
   },
   "source": [
    "We reshape the data to flatten the image pixels into a set of features or co-variates:"
   ]
  },
  {
   "cell_type": "code",
   "execution_count": 14,
   "id": "5286a4a3",
   "metadata": {
    "execution": {
     "iopub.execute_input": "2021-09-25T10:08:27.163414Z",
     "iopub.status.busy": "2021-09-25T10:08:27.162908Z",
     "iopub.status.idle": "2021-09-25T10:08:27.174875Z",
     "shell.execute_reply": "2021-09-25T10:08:27.174467Z"
    },
    "papermill": {
     "duration": 0.043403,
     "end_time": "2021-09-25T10:08:27.174981",
     "exception": false,
     "start_time": "2021-09-25T10:08:27.131578",
     "status": "completed"
    },
    "tags": []
   },
   "outputs": [
    {
     "data": {
      "text/plain": [
       "((11982, 784), (1984, 784))"
      ]
     },
     "execution_count": 14,
     "metadata": {},
     "output_type": "execute_result"
    }
   ],
   "source": [
    "X_train = X_train.reshape(X_train.shape[0], -1)\n",
    "X_test = X_test.reshape(X_test.shape[0], -1)\n",
    "X_train.shape, X_test.shape"
   ]
  },
  {
   "cell_type": "code",
   "execution_count": 15,
   "id": "73c5f88a",
   "metadata": {
    "execution": {
     "iopub.execute_input": "2021-09-25T10:08:27.231905Z",
     "iopub.status.busy": "2021-09-25T10:08:27.231106Z",
     "iopub.status.idle": "2021-09-25T10:08:27.249142Z",
     "shell.execute_reply": "2021-09-25T10:08:27.248713Z"
    },
    "papermill": {
     "duration": 0.047732,
     "end_time": "2021-09-25T10:08:27.249243",
     "exception": false,
     "start_time": "2021-09-25T10:08:27.201511",
     "status": "completed"
    },
    "tags": []
   },
   "outputs": [],
   "source": [
    "#Impoting functions from 'Kudzu'\n",
    "from kudzu.model import Model\n",
    "from kudzu.train import Learner\n",
    "from kudzu.optim import GD\n",
    "from kudzu.data import Data, Sampler,Dataloader\n",
    "\n",
    "from kudzu.callbacks import AccCallback\n",
    "from kudzu.callbacks import ClfCallback\n",
    "\n",
    "from kudzu.loss import MSE\n",
    "\n",
    "from kudzu.layer import Sigmoid,Relu\n",
    "from kudzu.layer import Affine"
   ]
  },
  {
   "cell_type": "markdown",
   "id": "bc01172a",
   "metadata": {
    "papermill": {
     "duration": 0.02677,
     "end_time": "2021-09-25T10:08:27.302848",
     "exception": false,
     "start_time": "2021-09-25T10:08:27.276078",
     "status": "completed"
    },
    "tags": []
   },
   "source": [
    "### Let us create a `Config` class, to store important parameters. \n",
    "This class essentially plays the role of a dictionary."
   ]
  },
  {
   "cell_type": "code",
   "execution_count": 16,
   "id": "978281aa",
   "metadata": {
    "execution": {
     "iopub.execute_input": "2021-09-25T10:08:27.374467Z",
     "iopub.status.busy": "2021-09-25T10:08:27.373895Z",
     "iopub.status.idle": "2021-09-25T10:08:27.376267Z",
     "shell.execute_reply": "2021-09-25T10:08:27.375759Z"
    },
    "papermill": {
     "duration": 0.046874,
     "end_time": "2021-09-25T10:08:27.376374",
     "exception": false,
     "start_time": "2021-09-25T10:08:27.329500",
     "status": "completed"
    },
    "tags": []
   },
   "outputs": [],
   "source": [
    "class Config:\n",
    "    pass\n",
    "config = Config()\n",
    "config.lr = 0.001\n",
    "config.num_epochs = 250\n",
    "config.bs = 50"
   ]
  },
  {
   "cell_type": "markdown",
   "id": "1385fa59",
   "metadata": {
    "papermill": {
     "duration": 0.02646,
     "end_time": "2021-09-25T10:08:27.429525",
     "exception": false,
     "start_time": "2021-09-25T10:08:27.403065",
     "status": "completed"
    },
    "tags": []
   },
   "source": [
    "### Running Models with the Training data\n",
    "Details about the network layers:\n",
    "- A first affine layer has 784 inputs and does 100 affine transforms. These are followed by a Relu\n",
    "- A second affine layer has 100 inputs from the 100 activations of the past layer, and does 100 affine transforms. These are followed by a Relu\n",
    "- A third affine layer has 100 activations and does 2 affine transformations to create an embedding for visualization. There is no non-linearity here.\n",
    "- A final \"logistic regression\" which has an affine transform from 2 inputs to 1 output, which is squeezed through a sigmoid.\n"
   ]
  },
  {
   "cell_type": "code",
   "execution_count": 17,
   "id": "2b9c66db",
   "metadata": {
    "execution": {
     "iopub.execute_input": "2021-09-25T10:08:27.491543Z",
     "iopub.status.busy": "2021-09-25T10:08:27.489794Z",
     "iopub.status.idle": "2021-09-25T10:08:27.499816Z",
     "shell.execute_reply": "2021-09-25T10:08:27.499362Z"
    },
    "papermill": {
     "duration": 0.04382,
     "end_time": "2021-09-25T10:08:27.499919",
     "exception": false,
     "start_time": "2021-09-25T10:08:27.456099",
     "status": "completed"
    },
    "tags": []
   },
   "outputs": [],
   "source": [
    "data = Data(X_train, y_train.reshape(-1,1))\n",
    "sampler = Sampler(data, config.bs, shuffle=True)\n",
    "\n",
    "dl = Dataloader(data, sampler)\n",
    "\n",
    "opt = GD(config.lr)\n",
    "loss = MSE()"
   ]
  },
  {
   "cell_type": "code",
   "execution_count": 18,
   "id": "b275e4c2",
   "metadata": {
    "execution": {
     "iopub.execute_input": "2021-09-25T10:08:27.559909Z",
     "iopub.status.busy": "2021-09-25T10:08:27.559391Z",
     "iopub.status.idle": "2021-09-25T10:08:27.569217Z",
     "shell.execute_reply": "2021-09-25T10:08:27.568809Z"
    },
    "papermill": {
     "duration": 0.042718,
     "end_time": "2021-09-25T10:08:27.569323",
     "exception": false,
     "start_time": "2021-09-25T10:08:27.526605",
     "status": "completed"
    },
    "tags": []
   },
   "outputs": [],
   "source": [
    "training_data_x = X_train\n",
    "testing_data_x = X_test\n",
    "training_data_y = y_train.reshape(-1,1)\n",
    "testing_data_y = y_test.reshape(-1,1)"
   ]
  },
  {
   "cell_type": "code",
   "execution_count": 19,
   "id": "76951160",
   "metadata": {
    "execution": {
     "iopub.execute_input": "2021-09-25T10:08:27.627153Z",
     "iopub.status.busy": "2021-09-25T10:08:27.626646Z",
     "iopub.status.idle": "2021-09-25T10:08:27.641055Z",
     "shell.execute_reply": "2021-09-25T10:08:27.641437Z"
    },
    "papermill": {
     "duration": 0.04576,
     "end_time": "2021-09-25T10:08:27.641553",
     "exception": false,
     "start_time": "2021-09-25T10:08:27.595793",
     "status": "completed"
    },
    "tags": []
   },
   "outputs": [
    {
     "name": "stdout",
     "output_type": "stream",
     "text": [
      "xavier\n",
      "xavier\n",
      "xavier\n",
      "xavier\n",
      "xavier\n"
     ]
    }
   ],
   "source": [
    "layers = [Affine(\"first\", 784, 100), Relu(\"first\"), Affine(\"second\", 100, 100), Relu(\"second\"), Affine(\"third\", 100, 2), Affine(\"last\", 2, 1), Sigmoid(\"last\")]\n",
    "model_nn = Model(layers)\n",
    "model_lr = Model([Affine(\"logits\", 784, 1), Sigmoid(\"sigmoid\")])"
   ]
  },
  {
   "cell_type": "code",
   "execution_count": 20,
   "id": "6eede77a",
   "metadata": {
    "execution": {
     "iopub.execute_input": "2021-09-25T10:08:27.698580Z",
     "iopub.status.busy": "2021-09-25T10:08:27.698062Z",
     "iopub.status.idle": "2021-09-25T10:08:27.709662Z",
     "shell.execute_reply": "2021-09-25T10:08:27.709257Z"
    },
    "papermill": {
     "duration": 0.041263,
     "end_time": "2021-09-25T10:08:27.709765",
     "exception": false,
     "start_time": "2021-09-25T10:08:27.668502",
     "status": "completed"
    },
    "tags": []
   },
   "outputs": [],
   "source": [
    "nn_learner = Learner(loss, model_nn, opt, config.num_epochs)\n",
    "acc_nn = ClfCallback(nn_learner, config.bs, training_data_x , testing_data_x, training_data_y, testing_data_y)\n",
    "nn_learner.set_callbacks([acc_nn])"
   ]
  },
  {
   "cell_type": "code",
   "execution_count": 21,
   "id": "877b6cc7",
   "metadata": {
    "execution": {
     "iopub.execute_input": "2021-09-25T10:08:27.767148Z",
     "iopub.status.busy": "2021-09-25T10:08:27.766649Z",
     "iopub.status.idle": "2021-09-25T10:08:27.777793Z",
     "shell.execute_reply": "2021-09-25T10:08:27.777367Z"
    },
    "papermill": {
     "duration": 0.041241,
     "end_time": "2021-09-25T10:08:27.777891",
     "exception": false,
     "start_time": "2021-09-25T10:08:27.736650",
     "status": "completed"
    },
    "tags": []
   },
   "outputs": [],
   "source": [
    "lr_learner = Learner(loss, model_lr, opt, config.num_epochs)\n",
    "acc_lr = ClfCallback(lr_learner, config.bs, training_data_x , testing_data_x, training_data_y, testing_data_y)\n",
    "lr_learner.set_callbacks([acc_lr])"
   ]
  },
  {
   "cell_type": "code",
   "execution_count": 22,
   "id": "d9b133c3",
   "metadata": {
    "execution": {
     "iopub.execute_input": "2021-09-25T10:08:27.843348Z",
     "iopub.status.busy": "2021-09-25T10:08:27.842170Z",
     "iopub.status.idle": "2021-09-25T10:09:43.155461Z",
     "shell.execute_reply": "2021-09-25T10:09:43.156229Z"
    },
    "papermill": {
     "duration": 75.351596,
     "end_time": "2021-09-25T10:09:43.156390",
     "exception": false,
     "start_time": "2021-09-25T10:08:27.804794",
     "status": "completed"
    },
    "tags": []
   },
   "outputs": [
    {
     "name": "stdout",
     "output_type": "stream",
     "text": [
      "Epoch 0, Loss 0.2065\n",
      "Training Accuracy: 0.8119, Testing Accuracy: 0.8246\n",
      "\n"
     ]
    },
    {
     "name": "stdout",
     "output_type": "stream",
     "text": [
      "Epoch 10, Loss 0.0677\n",
      "Training Accuracy: 0.9322, Testing Accuracy: 0.9405\n",
      "\n"
     ]
    },
    {
     "name": "stdout",
     "output_type": "stream",
     "text": [
      "Epoch 20, Loss 0.0469\n",
      "Training Accuracy: 0.9504, Testing Accuracy: 0.9567\n",
      "\n"
     ]
    },
    {
     "name": "stdout",
     "output_type": "stream",
     "text": [
      "Epoch 30, Loss 0.0387\n",
      "Training Accuracy: 0.9578, Testing Accuracy: 0.9612\n",
      "\n"
     ]
    },
    {
     "name": "stdout",
     "output_type": "stream",
     "text": [
      "Epoch 40, Loss 0.0343\n",
      "Training Accuracy: 0.9613, Testing Accuracy: 0.9647\n",
      "\n"
     ]
    },
    {
     "name": "stdout",
     "output_type": "stream",
     "text": [
      "Epoch 50, Loss 0.0314\n",
      "Training Accuracy: 0.9642, Testing Accuracy: 0.9677\n",
      "\n"
     ]
    },
    {
     "name": "stdout",
     "output_type": "stream",
     "text": [
      "Epoch 60, Loss 0.0293\n",
      "Training Accuracy: 0.9666, Testing Accuracy: 0.9688\n",
      "\n"
     ]
    },
    {
     "name": "stdout",
     "output_type": "stream",
     "text": [
      "Epoch 70, Loss 0.0277\n",
      "Training Accuracy: 0.9681, Testing Accuracy: 0.9698\n",
      "\n"
     ]
    },
    {
     "name": "stdout",
     "output_type": "stream",
     "text": [
      "Epoch 80, Loss 0.0264\n",
      "Training Accuracy: 0.9696, Testing Accuracy: 0.9688\n",
      "\n"
     ]
    },
    {
     "name": "stdout",
     "output_type": "stream",
     "text": [
      "Epoch 90, Loss 0.0253\n",
      "Training Accuracy: 0.9700, Testing Accuracy: 0.9698\n",
      "\n"
     ]
    },
    {
     "name": "stdout",
     "output_type": "stream",
     "text": [
      "Epoch 100, Loss 0.0243\n",
      "Training Accuracy: 0.9716, Testing Accuracy: 0.9718\n",
      "\n"
     ]
    },
    {
     "name": "stdout",
     "output_type": "stream",
     "text": [
      "Epoch 110, Loss 0.0235\n",
      "Training Accuracy: 0.9732, Testing Accuracy: 0.9718\n",
      "\n"
     ]
    },
    {
     "name": "stdout",
     "output_type": "stream",
     "text": [
      "Epoch 120, Loss 0.0227\n",
      "Training Accuracy: 0.9740, Testing Accuracy: 0.9728\n",
      "\n"
     ]
    },
    {
     "name": "stdout",
     "output_type": "stream",
     "text": [
      "Epoch 130, Loss 0.022\n",
      "Training Accuracy: 0.9752, Testing Accuracy: 0.9738\n",
      "\n"
     ]
    },
    {
     "name": "stdout",
     "output_type": "stream",
     "text": [
      "Epoch 140, Loss 0.0214\n",
      "Training Accuracy: 0.9758, Testing Accuracy: 0.9758\n",
      "\n"
     ]
    },
    {
     "name": "stdout",
     "output_type": "stream",
     "text": [
      "Epoch 150, Loss 0.0208\n",
      "Training Accuracy: 0.9764, Testing Accuracy: 0.9758\n",
      "\n"
     ]
    },
    {
     "name": "stdout",
     "output_type": "stream",
     "text": [
      "Epoch 160, Loss 0.0203\n",
      "Training Accuracy: 0.9775, Testing Accuracy: 0.9758\n",
      "\n"
     ]
    },
    {
     "name": "stdout",
     "output_type": "stream",
     "text": [
      "Epoch 170, Loss 0.0198\n",
      "Training Accuracy: 0.9784, Testing Accuracy: 0.9758\n",
      "\n"
     ]
    },
    {
     "name": "stdout",
     "output_type": "stream",
     "text": [
      "Epoch 180, Loss 0.0193\n",
      "Training Accuracy: 0.9792, Testing Accuracy: 0.9763\n",
      "\n"
     ]
    },
    {
     "name": "stdout",
     "output_type": "stream",
     "text": [
      "Epoch 190, Loss 0.0189\n",
      "Training Accuracy: 0.9796, Testing Accuracy: 0.9768\n",
      "\n"
     ]
    },
    {
     "name": "stdout",
     "output_type": "stream",
     "text": [
      "Epoch 200, Loss 0.0185\n",
      "Training Accuracy: 0.9801, Testing Accuracy: 0.9778\n",
      "\n"
     ]
    },
    {
     "name": "stdout",
     "output_type": "stream",
     "text": [
      "Epoch 210, Loss 0.018\n",
      "Training Accuracy: 0.9808, Testing Accuracy: 0.9773\n",
      "\n"
     ]
    },
    {
     "name": "stdout",
     "output_type": "stream",
     "text": [
      "Epoch 220, Loss 0.0176\n",
      "Training Accuracy: 0.9814, Testing Accuracy: 0.9783\n",
      "\n"
     ]
    },
    {
     "name": "stdout",
     "output_type": "stream",
     "text": [
      "Epoch 230, Loss 0.0173\n",
      "Training Accuracy: 0.9817, Testing Accuracy: 0.9783\n",
      "\n"
     ]
    },
    {
     "name": "stdout",
     "output_type": "stream",
     "text": [
      "Epoch 240, Loss 0.0169\n",
      "Training Accuracy: 0.9822, Testing Accuracy: 0.9788\n",
      "\n"
     ]
    },
    {
     "data": {
      "text/plain": [
       "0.017532619465085407"
      ]
     },
     "execution_count": 22,
     "metadata": {},
     "output_type": "execute_result"
    }
   ],
   "source": [
    "nn_learner.train_loop(dl)"
   ]
  },
  {
   "cell_type": "code",
   "execution_count": 23,
   "id": "e0163366",
   "metadata": {
    "execution": {
     "iopub.execute_input": "2021-09-25T10:09:43.235295Z",
     "iopub.status.busy": "2021-09-25T10:09:43.234777Z",
     "iopub.status.idle": "2021-09-25T10:09:56.815667Z",
     "shell.execute_reply": "2021-09-25T10:09:56.816395Z"
    },
    "papermill": {
     "duration": 13.625391,
     "end_time": "2021-09-25T10:09:56.816549",
     "exception": false,
     "start_time": "2021-09-25T10:09:43.191158",
     "status": "completed"
    },
    "tags": []
   },
   "outputs": [
    {
     "name": "stdout",
     "output_type": "stream",
     "text": [
      "Epoch 0, Loss 0.2433\n",
      "Training Accuracy: 0.6874, Testing Accuracy: 0.7016\n",
      "\n"
     ]
    },
    {
     "name": "stdout",
     "output_type": "stream",
     "text": [
      "Epoch 10, Loss 0.1027\n",
      "Training Accuracy: 0.9149, Testing Accuracy: 0.9259\n",
      "\n"
     ]
    },
    {
     "name": "stdout",
     "output_type": "stream",
     "text": [
      "Epoch 20, Loss 0.0787\n",
      "Training Accuracy: 0.9316, Testing Accuracy: 0.9410\n",
      "\n"
     ]
    },
    {
     "name": "stdout",
     "output_type": "stream",
     "text": [
      "Epoch 30, Loss 0.0677\n",
      "Training Accuracy: 0.9394, Testing Accuracy: 0.9481\n",
      "\n"
     ]
    },
    {
     "name": "stdout",
     "output_type": "stream",
     "text": [
      "Epoch 40, Loss 0.0612\n",
      "Training Accuracy: 0.9442, Testing Accuracy: 0.9491\n",
      "\n"
     ]
    },
    {
     "name": "stdout",
     "output_type": "stream",
     "text": [
      "Epoch 50, Loss 0.0568\n",
      "Training Accuracy: 0.9472, Testing Accuracy: 0.9541\n",
      "\n"
     ]
    },
    {
     "name": "stdout",
     "output_type": "stream",
     "text": [
      "Epoch 60, Loss 0.0535\n",
      "Training Accuracy: 0.9483, Testing Accuracy: 0.9567\n",
      "\n"
     ]
    },
    {
     "name": "stdout",
     "output_type": "stream",
     "text": [
      "Epoch 70, Loss 0.051\n",
      "Training Accuracy: 0.9500, Testing Accuracy: 0.9592\n",
      "\n"
     ]
    },
    {
     "name": "stdout",
     "output_type": "stream",
     "text": [
      "Epoch 80, Loss 0.049\n",
      "Training Accuracy: 0.9508, Testing Accuracy: 0.9597\n",
      "\n"
     ]
    },
    {
     "name": "stdout",
     "output_type": "stream",
     "text": [
      "Epoch 90, Loss 0.0474\n",
      "Training Accuracy: 0.9522, Testing Accuracy: 0.9602\n",
      "\n"
     ]
    },
    {
     "name": "stdout",
     "output_type": "stream",
     "text": [
      "Epoch 100, Loss 0.046\n",
      "Training Accuracy: 0.9534, Testing Accuracy: 0.9632\n",
      "\n"
     ]
    },
    {
     "name": "stdout",
     "output_type": "stream",
     "text": [
      "Epoch 110, Loss 0.0448\n",
      "Training Accuracy: 0.9539, Testing Accuracy: 0.9632\n",
      "\n"
     ]
    },
    {
     "name": "stdout",
     "output_type": "stream",
     "text": [
      "Epoch 120, Loss 0.0438\n",
      "Training Accuracy: 0.9550, Testing Accuracy: 0.9647\n",
      "\n"
     ]
    },
    {
     "name": "stdout",
     "output_type": "stream",
     "text": [
      "Epoch 130, Loss 0.0428\n",
      "Training Accuracy: 0.9563, Testing Accuracy: 0.9647\n",
      "\n"
     ]
    },
    {
     "name": "stdout",
     "output_type": "stream",
     "text": [
      "Epoch 140, Loss 0.042\n",
      "Training Accuracy: 0.9567, Testing Accuracy: 0.9647\n",
      "\n"
     ]
    },
    {
     "name": "stdout",
     "output_type": "stream",
     "text": [
      "Epoch 150, Loss 0.0413\n",
      "Training Accuracy: 0.9573, Testing Accuracy: 0.9652\n",
      "\n"
     ]
    },
    {
     "name": "stdout",
     "output_type": "stream",
     "text": [
      "Epoch 160, Loss 0.0406\n",
      "Training Accuracy: 0.9578, Testing Accuracy: 0.9662\n",
      "\n"
     ]
    },
    {
     "name": "stdout",
     "output_type": "stream",
     "text": [
      "Epoch 170, Loss 0.04\n",
      "Training Accuracy: 0.9579, Testing Accuracy: 0.9667\n",
      "\n"
     ]
    },
    {
     "name": "stdout",
     "output_type": "stream",
     "text": [
      "Epoch 180, Loss 0.0395\n",
      "Training Accuracy: 0.9588, Testing Accuracy: 0.9662\n",
      "\n"
     ]
    },
    {
     "name": "stdout",
     "output_type": "stream",
     "text": [
      "Epoch 190, Loss 0.039\n",
      "Training Accuracy: 0.9597, Testing Accuracy: 0.9667\n",
      "\n"
     ]
    },
    {
     "name": "stdout",
     "output_type": "stream",
     "text": [
      "Epoch 200, Loss 0.0385\n",
      "Training Accuracy: 0.9601, Testing Accuracy: 0.9662\n",
      "\n"
     ]
    },
    {
     "name": "stdout",
     "output_type": "stream",
     "text": [
      "Epoch 210, Loss 0.038\n",
      "Training Accuracy: 0.9604, Testing Accuracy: 0.9662\n",
      "\n"
     ]
    },
    {
     "name": "stdout",
     "output_type": "stream",
     "text": [
      "Epoch 220, Loss 0.0376\n",
      "Training Accuracy: 0.9603, Testing Accuracy: 0.9662\n",
      "\n"
     ]
    },
    {
     "name": "stdout",
     "output_type": "stream",
     "text": [
      "Epoch 230, Loss 0.0373\n",
      "Training Accuracy: 0.9604, Testing Accuracy: 0.9662\n",
      "\n"
     ]
    },
    {
     "name": "stdout",
     "output_type": "stream",
     "text": [
      "Epoch 240, Loss 0.0369\n",
      "Training Accuracy: 0.9605, Testing Accuracy: 0.9667\n",
      "\n"
     ]
    },
    {
     "data": {
      "text/plain": [
       "0.052565465889722746"
      ]
     },
     "execution_count": 23,
     "metadata": {},
     "output_type": "execute_result"
    }
   ],
   "source": [
    "lr_learner.train_loop(dl)"
   ]
  },
  {
   "cell_type": "code",
   "execution_count": 24,
   "id": "ca410940",
   "metadata": {
    "execution": {
     "iopub.execute_input": "2021-09-25T10:09:56.911326Z",
     "iopub.status.busy": "2021-09-25T10:09:56.910807Z",
     "iopub.status.idle": "2021-09-25T10:09:57.130885Z",
     "shell.execute_reply": "2021-09-25T10:09:57.130168Z"
    },
    "papermill": {
     "duration": 0.272659,
     "end_time": "2021-09-25T10:09:57.131014",
     "exception": false,
     "start_time": "2021-09-25T10:09:56.858355",
     "status": "completed"
    },
    "tags": []
   },
   "outputs": [
    {
     "data": {
      "text/plain": [
       "<matplotlib.legend.Legend at 0x7f3a3c5b99b0>"
      ]
     },
     "execution_count": 24,
     "metadata": {},
     "output_type": "execute_result"
    },
    {
     "data": {
      "image/png": "[encoded data removed]",
      "text/plain": [
       "<Figure size 1080x720 with 1 Axes>"
      ]
     },
     "metadata": {
      "needs_background": "light"
     },
     "output_type": "display_data"
    }
   ],
   "source": [
    "#comparing the results of NN and LR\n",
    "plt.figure(figsize=(15,10))\n",
    "\n",
    "# Neural Network plots\n",
    "plt.plot(acc_nn.accuracies, 'r-', label = \"Training Accuracies - NN\")\n",
    "plt.plot(acc_nn.test_accuracies, 'g-', label = \"Testing Accuracies - NN\")\n",
    "\n",
    "# Logistic Regression plots\n",
    "plt.plot(acc_lr.accuracies, 'k-', label = \"Training Accuracies - LR\")\n",
    "plt.plot(acc_lr.test_accuracies, 'b-', label = \"Testing Accuracies - LR\")\n",
    "plt.legend()"
   ]
  },
  {
   "cell_type": "markdown",
   "id": "80dfb35c",
   "metadata": {
    "papermill": {
     "duration": 0.041909,
     "end_time": "2021-09-25T10:09:57.215519",
     "exception": false,
     "start_time": "2021-09-25T10:09:57.173610",
     "status": "completed"
    },
    "tags": []
   },
   "source": [
    "#### Plotting the outputs of this layer of the NN.\n"
   ]
  },
  {
   "cell_type": "code",
   "execution_count": 25,
   "id": "45eb2ff5",
   "metadata": {
    "execution": {
     "iopub.execute_input": "2021-09-25T10:09:57.307478Z",
     "iopub.status.busy": "2021-09-25T10:09:57.306411Z",
     "iopub.status.idle": "2021-09-25T10:09:57.323552Z",
     "shell.execute_reply": "2021-09-25T10:09:57.323973Z"
    },
    "papermill": {
     "duration": 0.066893,
     "end_time": "2021-09-25T10:09:57.324110",
     "exception": false,
     "start_time": "2021-09-25T10:09:57.257217",
     "status": "completed"
    },
    "tags": []
   },
   "outputs": [],
   "source": [
    "new_model = Model(layers[:-2])\n",
    "testing_plot = new_model(testing_data_x)"
   ]
  },
  {
   "cell_type": "code",
   "execution_count": 26,
   "id": "4c0a5485",
   "metadata": {
    "execution": {
     "iopub.execute_input": "2021-09-25T10:09:57.431339Z",
     "iopub.status.busy": "2021-09-25T10:09:57.430820Z",
     "iopub.status.idle": "2021-09-25T10:09:57.624708Z",
     "shell.execute_reply": "2021-09-25T10:09:57.625124Z"
    },
    "papermill": {
     "duration": 0.25017,
     "end_time": "2021-09-25T10:09:57.625262",
     "exception": false,
     "start_time": "2021-09-25T10:09:57.375092",
     "status": "completed"
    },
    "tags": []
   },
   "outputs": [
    {
     "data": {
      "text/plain": [
       "Text(0.5, 1.0, 'Outputs')"
      ]
     },
     "execution_count": 26,
     "metadata": {},
     "output_type": "execute_result"
    },
    {
     "data": {
      "image/png": "[encoded data removed]",
      "text/plain": [
       "<Figure size 576x504 with 1 Axes>"
      ]
     },
     "metadata": {
      "needs_background": "light"
     },
     "output_type": "display_data"
    }
   ],
   "source": [
    "# Plotting the scatter plot of points and color coding by class\n",
    "plt.figure(figsize=(8,7))\n",
    "plt.scatter(testing_plot[:,0], testing_plot[:,1], alpha = 0.1, c = y_test.ravel());\n",
    "plt.title('Outputs')"
   ]
  },
  {
   "cell_type": "markdown",
   "id": "a74fcf8f",
   "metadata": {
    "papermill": {
     "duration": 0.043853,
     "end_time": "2021-09-25T10:09:57.713336",
     "exception": false,
     "start_time": "2021-09-25T10:09:57.669483",
     "status": "completed"
    },
    "tags": []
   },
   "source": [
    "Probability contours"
   ]
  },
  {
   "cell_type": "code",
   "execution_count": 27,
   "id": "d0afc8e3",
   "metadata": {
    "execution": {
     "iopub.execute_input": "2021-09-25T10:09:57.811073Z",
     "iopub.status.busy": "2021-09-25T10:09:57.810543Z",
     "iopub.status.idle": "2021-09-25T10:09:57.815862Z",
     "shell.execute_reply": "2021-09-25T10:09:57.815449Z"
    },
    "papermill": {
     "duration": 0.0586,
     "end_time": "2021-09-25T10:09:57.815971",
     "exception": false,
     "start_time": "2021-09-25T10:09:57.757371",
     "status": "completed"
    },
    "tags": []
   },
   "outputs": [],
   "source": [
    "model_prob = Model(layers[-2:]) "
   ]
  },
  {
   "cell_type": "code",
   "execution_count": 28,
   "id": "9b96e238",
   "metadata": {
    "execution": {
     "iopub.execute_input": "2021-09-25T10:09:57.940648Z",
     "iopub.status.busy": "2021-09-25T10:09:57.940127Z",
     "iopub.status.idle": "2021-09-25T10:09:57.954552Z",
     "shell.execute_reply": "2021-09-25T10:09:57.954934Z"
    },
    "papermill": {
     "duration": 0.095049,
     "end_time": "2021-09-25T10:09:57.955053",
     "exception": false,
     "start_time": "2021-09-25T10:09:57.860004",
     "status": "completed"
    },
    "tags": []
   },
   "outputs": [],
   "source": [
    "#creating the x and y ranges according to the above generated plot.\n",
    "x_range = np.linspace(-4, 1, 100) \n",
    "y_range = np.linspace(-6, 6, 100) \n",
    "x_grid, y_grid = np.meshgrid(x_range, y_range) # x_grid and y_grig are of size 100 X 100\n",
    "\n",
    "# converting x_grid and y_grid to continuous arrays\n",
    "x_gridflat = np.ravel(x_grid)\n",
    "y_gridflat = np.ravel(y_grid)\n",
    "\n",
    "# The last layer of the current model takes two columns as input. Hence transpose of np.vstack() is required.\n",
    "X = np.vstack((x_gridflat, y_gridflat)).T\n",
    "\n",
    "prob_contour = model_prob(X).reshape(100,100) "
   ]
  },
  {
   "cell_type": "code",
   "execution_count": 29,
   "id": "da72499a",
   "metadata": {
    "execution": {
     "iopub.execute_input": "2021-09-25T10:09:58.054012Z",
     "iopub.status.busy": "2021-09-25T10:09:58.052418Z",
     "iopub.status.idle": "2021-09-25T10:09:58.291421Z",
     "shell.execute_reply": "2021-09-25T10:09:58.290563Z"
    },
    "papermill": {
     "duration": 0.288335,
     "end_time": "2021-09-25T10:09:58.291554",
     "exception": false,
     "start_time": "2021-09-25T10:09:58.003219",
     "status": "completed"
    },
    "tags": []
   },
   "outputs": [
    {
     "data": {
      "image/png": "[encoded data removed]",
      "text/plain": [
       "<Figure size 720x648 with 1 Axes>"
      ]
     },
     "metadata": {
      "needs_background": "light"
     },
     "output_type": "display_data"
    }
   ],
   "source": [
    "plt.figure(figsize=(10,9))\n",
    "plt.scatter(testing_plot[:,0], testing_plot[:,1], alpha = 0.1, c = y_test.ravel())\n",
    "contours = plt.contour(x_grid,y_grid,prob_contour)\n",
    "plt.title('Probability Contours')\n",
    "plt.clabel(contours, inline = True );"
   ]
  },
  {
   "cell_type": "code",
   "execution_count": null,
   "id": "e81b4ac7",
   "metadata": {
    "papermill": {
     "duration": 0.046817,
     "end_time": "2021-09-25T10:09:58.386155",
     "exception": false,
     "start_time": "2021-09-25T10:09:58.339338",
     "status": "completed"
    },
    "tags": []
   },
   "outputs": [],
   "source": []
  }
 ],
 "metadata": {
  "kernelspec": {
   "display_name": "Python 3",
   "language": "python",
   "name": "python3"
  },
  "language_info": {
   "codemirror_mode": {
    "name": "ipython",
    "version": 3
   },
   "file_extension": ".py",
   "mimetype": "text/x-python",
   "name": "python",
   "nbconvert_exporter": "python",
   "pygments_lexer": "ipython3",
   "version": "3.6.15"
  },
  "papermill": {
   "default_parameters": {},
   "duration": 97.113972,
   "end_time": "2021-09-25T10:09:58.841133",
   "environment_variables": {},
   "exception": null,
   "input_path": "2020-08-11-part2.ipynb",
   "output_path": "2020-08-11-part2.ipynb",
   "parameters": {},
   "start_time": "2021-09-25T10:08:21.727161",
   "version": "2.3.3"
  }
 },
 "nbformat": 4,
 "nbformat_minor": 5
}