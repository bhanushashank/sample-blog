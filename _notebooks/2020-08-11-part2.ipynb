{
 "cells": [
  {
   "cell_type": "markdown",
   "id": "98380cd3",
   "metadata": {
    "papermill": {
     "duration": 0.026568,
     "end_time": "2022-03-18T20:09:35.545905",
     "exception": false,
     "start_time": "2022-03-18T20:09:35.519337",
     "status": "completed"
    },
    "tags": []
   },
   "source": [
    "# Distinguish Your Own Digits (DYOD)"
   ]
  },
  {
   "cell_type": "markdown",
   "id": "ef31240d",
   "metadata": {
    "papermill": {
     "duration": 0.022395,
     "end_time": "2022-03-18T20:09:35.590128",
     "exception": false,
     "start_time": "2022-03-18T20:09:35.567733",
     "status": "completed"
    },
    "tags": []
   },
   "source": [
    "You are going to write a classifier that distinguishes between the number 3 and number 8."
   ]
  },
  {
   "cell_type": "code",
   "execution_count": 1,
   "id": "b15c8646",
   "metadata": {
    "execution": {
     "iopub.execute_input": "2022-03-18T20:09:35.643001Z",
     "iopub.status.busy": "2022-03-18T20:09:35.642498Z",
     "iopub.status.idle": "2022-03-18T20:09:35.652045Z",
     "shell.execute_reply": "2022-03-18T20:09:35.651647Z"
    },
    "papermill": {
     "duration": 0.040803,
     "end_time": "2022-03-18T20:09:35.652173",
     "exception": false,
     "start_time": "2022-03-18T20:09:35.611370",
     "status": "completed"
    },
    "tags": []
   },
   "outputs": [],
   "source": [
    "%load_ext autoreload\n",
    "%autoreload 2"
   ]
  },
  {
   "cell_type": "code",
   "execution_count": 2,
   "id": "22ef38dc",
   "metadata": {
    "execution": {
     "iopub.execute_input": "2022-03-18T20:09:35.699102Z",
     "iopub.status.busy": "2022-03-18T20:09:35.698631Z",
     "iopub.status.idle": "2022-03-18T20:09:36.232207Z",
     "shell.execute_reply": "2022-03-18T20:09:36.231742Z"
    },
    "papermill": {
     "duration": 0.558726,
     "end_time": "2022-03-18T20:09:36.232335",
     "exception": false,
     "start_time": "2022-03-18T20:09:35.673609",
     "status": "completed"
    },
    "tags": []
   },
   "outputs": [],
   "source": [
    "%matplotlib inline\n",
    "import numpy as np\n",
    "import matplotlib.pyplot as plt\n",
    "import pandas as pd"
   ]
  },
  {
   "cell_type": "markdown",
   "id": "ba036198",
   "metadata": {
    "papermill": {
     "duration": 0.021283,
     "end_time": "2022-03-18T20:09:36.275951",
     "exception": false,
     "start_time": "2022-03-18T20:09:36.254668",
     "status": "completed"
    },
    "tags": []
   },
   "source": [
    "From the command line run `pip install mnist`. This is a library that will help you bring down the mnist dataset. If you run this from a notebook, you need to put  `!pip install mnist` in a cell by itself."
   ]
  },
  {
   "cell_type": "code",
   "execution_count": 3,
   "id": "bb6ad8a1",
   "metadata": {
    "execution": {
     "iopub.execute_input": "2022-03-18T20:09:36.322674Z",
     "iopub.status.busy": "2022-03-18T20:09:36.322194Z",
     "iopub.status.idle": "2022-03-18T20:09:37.827192Z",
     "shell.execute_reply": "2022-03-18T20:09:37.826660Z"
    },
    "papermill": {
     "duration": 1.530089,
     "end_time": "2022-03-18T20:09:37.827344",
     "exception": false,
     "start_time": "2022-03-18T20:09:36.297255",
     "status": "completed"
    },
    "tags": []
   },
   "outputs": [
    {
     "name": "stdout",
     "output_type": "stream",
     "text": [
      "Collecting mnist\r\n"
     ]
    },
    {
     "name": "stdout",
     "output_type": "stream",
     "text": [
      "  Downloading mnist-0.2.2-py2.py3-none-any.whl (3.5 kB)\r\n",
      "Requirement already satisfied: numpy in /opt/hostedtoolcache/Python/3.6.15/x64/lib/python3.6/site-packages (from mnist) (1.19.5)\r\n"
     ]
    },
    {
     "name": "stdout",
     "output_type": "stream",
     "text": [
      "Installing collected packages: mnist\r\n",
      "Successfully installed mnist-0.2.2\r\n"
     ]
    }
   ],
   "source": [
    "!pip install mnist"
   ]
  },
  {
   "cell_type": "markdown",
   "id": "69df9c9a",
   "metadata": {
    "papermill": {
     "duration": 0.022075,
     "end_time": "2022-03-18T20:09:37.872812",
     "exception": false,
     "start_time": "2022-03-18T20:09:37.850737",
     "status": "completed"
    },
    "tags": []
   },
   "source": [
    "## Preparing the Data"
   ]
  },
  {
   "cell_type": "code",
   "execution_count": 4,
   "id": "7f69d806",
   "metadata": {
    "execution": {
     "iopub.execute_input": "2022-03-18T20:09:37.930134Z",
     "iopub.status.busy": "2022-03-18T20:09:37.929631Z",
     "iopub.status.idle": "2022-03-18T20:09:37.934836Z",
     "shell.execute_reply": "2022-03-18T20:09:37.935178Z"
    },
    "papermill": {
     "duration": 0.040458,
     "end_time": "2022-03-18T20:09:37.935305",
     "exception": false,
     "start_time": "2022-03-18T20:09:37.894847",
     "status": "completed"
    },
    "tags": []
   },
   "outputs": [],
   "source": [
    "import mnist"
   ]
  },
  {
   "cell_type": "code",
   "execution_count": 5,
   "id": "a411e44f",
   "metadata": {
    "execution": {
     "iopub.execute_input": "2022-03-18T20:09:37.984977Z",
     "iopub.status.busy": "2022-03-18T20:09:37.984459Z",
     "iopub.status.idle": "2022-03-18T20:09:38.468252Z",
     "shell.execute_reply": "2022-03-18T20:09:38.468767Z"
    },
    "papermill": {
     "duration": 0.511585,
     "end_time": "2022-03-18T20:09:38.468946",
     "exception": false,
     "start_time": "2022-03-18T20:09:37.957361",
     "status": "completed"
    },
    "tags": []
   },
   "outputs": [],
   "source": [
    "train_images = mnist.train_images()\n",
    "train_labels = mnist.train_labels()"
   ]
  },
  {
   "cell_type": "code",
   "execution_count": 6,
   "id": "dceab3a5",
   "metadata": {
    "execution": {
     "iopub.execute_input": "2022-03-18T20:09:38.521665Z",
     "iopub.status.busy": "2022-03-18T20:09:38.517827Z",
     "iopub.status.idle": "2022-03-18T20:09:38.530367Z",
     "shell.execute_reply": "2022-03-18T20:09:38.529997Z"
    },
    "papermill": {
     "duration": 0.037995,
     "end_time": "2022-03-18T20:09:38.530474",
     "exception": false,
     "start_time": "2022-03-18T20:09:38.492479",
     "status": "completed"
    },
    "tags": []
   },
   "outputs": [
    {
     "data": {
      "text/plain": [
       "((60000, 28, 28), (60000,))"
      ]
     },
     "execution_count": 6,
     "metadata": {},
     "output_type": "execute_result"
    }
   ],
   "source": [
    "train_images.shape, train_labels.shape"
   ]
  },
  {
   "cell_type": "code",
   "execution_count": 7,
   "id": "f50dc2bb",
   "metadata": {
    "execution": {
     "iopub.execute_input": "2022-03-18T20:09:38.592503Z",
     "iopub.status.busy": "2022-03-18T20:09:38.592014Z",
     "iopub.status.idle": "2022-03-18T20:09:38.756386Z",
     "shell.execute_reply": "2022-03-18T20:09:38.755852Z"
    },
    "papermill": {
     "duration": 0.203833,
     "end_time": "2022-03-18T20:09:38.756531",
     "exception": false,
     "start_time": "2022-03-18T20:09:38.552698",
     "status": "completed"
    },
    "tags": []
   },
   "outputs": [],
   "source": [
    "test_images = mnist.test_images()\n",
    "test_labels = mnist.test_labels()"
   ]
  },
  {
   "cell_type": "code",
   "execution_count": 8,
   "id": "fc38cf1b",
   "metadata": {
    "execution": {
     "iopub.execute_input": "2022-03-18T20:09:38.805776Z",
     "iopub.status.busy": "2022-03-18T20:09:38.805290Z",
     "iopub.status.idle": "2022-03-18T20:09:38.816777Z",
     "shell.execute_reply": "2022-03-18T20:09:38.816381Z"
    },
    "papermill": {
     "duration": 0.037073,
     "end_time": "2022-03-18T20:09:38.816890",
     "exception": false,
     "start_time": "2022-03-18T20:09:38.779817",
     "status": "completed"
    },
    "tags": []
   },
   "outputs": [
    {
     "data": {
      "text/plain": [
       "((10000, 28, 28), (10000,))"
      ]
     },
     "execution_count": 8,
     "metadata": {},
     "output_type": "execute_result"
    }
   ],
   "source": [
    "test_images.shape, test_labels.shape"
   ]
  },
  {
   "cell_type": "code",
   "execution_count": 9,
   "id": "f9ed8fe0",
   "metadata": {
    "execution": {
     "iopub.execute_input": "2022-03-18T20:09:38.865636Z",
     "iopub.status.busy": "2022-03-18T20:09:38.865157Z",
     "iopub.status.idle": "2022-03-18T20:09:38.990311Z",
     "shell.execute_reply": "2022-03-18T20:09:38.990792Z"
    },
    "papermill": {
     "duration": 0.151563,
     "end_time": "2022-03-18T20:09:38.990942",
     "exception": false,
     "start_time": "2022-03-18T20:09:38.839379",
     "status": "completed"
    },
    "tags": []
   },
   "outputs": [
    {
     "name": "stdout",
     "output_type": "stream",
     "text": [
      "2\n"
     ]
    },
    {
     "data": {
      "text/plain": [
       "<matplotlib.image.AxesImage at 0x7ff9a92cf588>"
      ]
     },
     "execution_count": 9,
     "metadata": {},
     "output_type": "execute_result"
    },
    {
     "data": {
      "image/png": "[encoded data removed]",
      "text/plain": [
       "<Figure size 432x288 with 1 Axes>"
      ]
     },
     "metadata": {
      "needs_background": "light"
     },
     "output_type": "display_data"
    }
   ],
   "source": [
    "image_index = 7776 # You may select anything up to 60,000\n",
    "print(train_labels[image_index]) \n",
    "plt.imshow(train_images[image_index], cmap='Greys')"
   ]
  },
  {
   "cell_type": "markdown",
   "id": "a8d2388d",
   "metadata": {
    "papermill": {
     "duration": 0.023295,
     "end_time": "2022-03-18T20:09:39.038502",
     "exception": false,
     "start_time": "2022-03-18T20:09:39.015207",
     "status": "completed"
    },
    "tags": []
   },
   "source": [
    "## Filter data to get 3 and 8 out"
   ]
  },
  {
   "cell_type": "code",
   "execution_count": 10,
   "id": "776f7fc7",
   "metadata": {
    "execution": {
     "iopub.execute_input": "2022-03-18T20:09:39.093835Z",
     "iopub.status.busy": "2022-03-18T20:09:39.093347Z",
     "iopub.status.idle": "2022-03-18T20:09:39.108084Z",
     "shell.execute_reply": "2022-03-18T20:09:39.107701Z"
    },
    "papermill": {
     "duration": 0.046238,
     "end_time": "2022-03-18T20:09:39.108204",
     "exception": false,
     "start_time": "2022-03-18T20:09:39.061966",
     "status": "completed"
    },
    "tags": []
   },
   "outputs": [],
   "source": [
    "train_filter = np.where((train_labels == 3 ) | (train_labels == 8))\n",
    "test_filter = np.where((test_labels == 3) | (test_labels == 8))\n",
    "X_train, y_train = train_images[train_filter], train_labels[train_filter]\n",
    "X_test, y_test = test_images[test_filter], test_labels[test_filter]"
   ]
  },
  {
   "cell_type": "markdown",
   "id": "948f0b7e",
   "metadata": {
    "papermill": {
     "duration": 0.023286,
     "end_time": "2022-03-18T20:09:39.155024",
     "exception": false,
     "start_time": "2022-03-18T20:09:39.131738",
     "status": "completed"
    },
    "tags": []
   },
   "source": [
    "We normalize the pizel values in the 0 to 1 range"
   ]
  },
  {
   "cell_type": "code",
   "execution_count": 11,
   "id": "ee4c2166",
   "metadata": {
    "execution": {
     "iopub.execute_input": "2022-03-18T20:09:39.209203Z",
     "iopub.status.busy": "2022-03-18T20:09:39.208704Z",
     "iopub.status.idle": "2022-03-18T20:09:39.251873Z",
     "shell.execute_reply": "2022-03-18T20:09:39.251361Z"
    },
    "papermill": {
     "duration": 0.073708,
     "end_time": "2022-03-18T20:09:39.252011",
     "exception": false,
     "start_time": "2022-03-18T20:09:39.178303",
     "status": "completed"
    },
    "tags": []
   },
   "outputs": [],
   "source": [
    "X_train = X_train/255.\n",
    "X_test = X_test/255."
   ]
  },
  {
   "cell_type": "markdown",
   "id": "ddcf4fab",
   "metadata": {
    "papermill": {
     "duration": 0.023462,
     "end_time": "2022-03-18T20:09:39.300812",
     "exception": false,
     "start_time": "2022-03-18T20:09:39.277350",
     "status": "completed"
    },
    "tags": []
   },
   "source": [
    "And setup the labels as 1 (when the digit is 3) and 0 (when the digit is 8)"
   ]
  },
  {
   "cell_type": "code",
   "execution_count": 12,
   "id": "7dc908f2",
   "metadata": {
    "execution": {
     "iopub.execute_input": "2022-03-18T20:09:39.351539Z",
     "iopub.status.busy": "2022-03-18T20:09:39.351044Z",
     "iopub.status.idle": "2022-03-18T20:09:39.362015Z",
     "shell.execute_reply": "2022-03-18T20:09:39.361625Z"
    },
    "papermill": {
     "duration": 0.037957,
     "end_time": "2022-03-18T20:09:39.362125",
     "exception": false,
     "start_time": "2022-03-18T20:09:39.324168",
     "status": "completed"
    },
    "tags": []
   },
   "outputs": [],
   "source": [
    "y_train = 1*(y_train==3)\n",
    "y_test = 1*(y_test==3)"
   ]
  },
  {
   "cell_type": "code",
   "execution_count": 13,
   "id": "01e4e969",
   "metadata": {
    "execution": {
     "iopub.execute_input": "2022-03-18T20:09:39.416537Z",
     "iopub.status.busy": "2022-03-18T20:09:39.414607Z",
     "iopub.status.idle": "2022-03-18T20:09:39.425751Z",
     "shell.execute_reply": "2022-03-18T20:09:39.425381Z"
    },
    "papermill": {
     "duration": 0.039722,
     "end_time": "2022-03-18T20:09:39.425858",
     "exception": false,
     "start_time": "2022-03-18T20:09:39.386136",
     "status": "completed"
    },
    "tags": []
   },
   "outputs": [
    {
     "data": {
      "text/plain": [
       "((11982, 28, 28), (1984, 28, 28))"
      ]
     },
     "execution_count": 13,
     "metadata": {},
     "output_type": "execute_result"
    }
   ],
   "source": [
    "X_train.shape, X_test.shape"
   ]
  },
  {
   "cell_type": "markdown",
   "id": "5ccf3f85",
   "metadata": {
    "papermill": {
     "duration": 0.023669,
     "end_time": "2022-03-18T20:09:39.473106",
     "exception": false,
     "start_time": "2022-03-18T20:09:39.449437",
     "status": "completed"
    },
    "tags": []
   },
   "source": [
    "We reshape the data to flatten the image pixels into a set of features or co-variates:"
   ]
  },
  {
   "cell_type": "code",
   "execution_count": 14,
   "id": "5286a4a3",
   "metadata": {
    "execution": {
     "iopub.execute_input": "2022-03-18T20:09:39.527520Z",
     "iopub.status.busy": "2022-03-18T20:09:39.527040Z",
     "iopub.status.idle": "2022-03-18T20:09:39.540134Z",
     "shell.execute_reply": "2022-03-18T20:09:39.540476Z"
    },
    "papermill": {
     "duration": 0.04377,
     "end_time": "2022-03-18T20:09:39.540622",
     "exception": false,
     "start_time": "2022-03-18T20:09:39.496852",
     "status": "completed"
    },
    "tags": []
   },
   "outputs": [
    {
     "data": {
      "text/plain": [
       "((11982, 784), (1984, 784))"
      ]
     },
     "execution_count": 14,
     "metadata": {},
     "output_type": "execute_result"
    }
   ],
   "source": [
    "X_train = X_train.reshape(X_train.shape[0], -1)\n",
    "X_test = X_test.reshape(X_test.shape[0], -1)\n",
    "X_train.shape, X_test.shape"
   ]
  },
  {
   "cell_type": "code",
   "execution_count": 15,
   "id": "73c5f88a",
   "metadata": {
    "execution": {
     "iopub.execute_input": "2022-03-18T20:09:39.593001Z",
     "iopub.status.busy": "2022-03-18T20:09:39.592487Z",
     "iopub.status.idle": "2022-03-18T20:09:39.609421Z",
     "shell.execute_reply": "2022-03-18T20:09:39.608986Z"
    },
    "papermill": {
     "duration": 0.045039,
     "end_time": "2022-03-18T20:09:39.609535",
     "exception": false,
     "start_time": "2022-03-18T20:09:39.564496",
     "status": "completed"
    },
    "tags": []
   },
   "outputs": [],
   "source": [
    "#Impoting functions from 'Kudzu'\n",
    "from kudzu.model import Model\n",
    "from kudzu.train import Learner\n",
    "from kudzu.optim import GD\n",
    "from kudzu.data import Data, Sampler,Dataloader\n",
    "\n",
    "from kudzu.callbacks import AccCallback\n",
    "from kudzu.callbacks import ClfCallback\n",
    "\n",
    "from kudzu.loss import MSE\n",
    "\n",
    "from kudzu.layer import Sigmoid,Relu\n",
    "from kudzu.layer import Affine"
   ]
  },
  {
   "cell_type": "markdown",
   "id": "bc01172a",
   "metadata": {
    "papermill": {
     "duration": 0.023819,
     "end_time": "2022-03-18T20:09:39.657687",
     "exception": false,
     "start_time": "2022-03-18T20:09:39.633868",
     "status": "completed"
    },
    "tags": []
   },
   "source": [
    "### Let us create a `Config` class, to store important parameters. \n",
    "This class essentially plays the role of a dictionary."
   ]
  },
  {
   "cell_type": "code",
   "execution_count": 16,
   "id": "978281aa",
   "metadata": {
    "execution": {
     "iopub.execute_input": "2022-03-18T20:09:39.715992Z",
     "iopub.status.busy": "2022-03-18T20:09:39.715074Z",
     "iopub.status.idle": "2022-03-18T20:09:39.722037Z",
     "shell.execute_reply": "2022-03-18T20:09:39.722383Z"
    },
    "papermill": {
     "duration": 0.041084,
     "end_time": "2022-03-18T20:09:39.722511",
     "exception": false,
     "start_time": "2022-03-18T20:09:39.681427",
     "status": "completed"
    },
    "tags": []
   },
   "outputs": [],
   "source": [
    "class Config:\n",
    "    pass\n",
    "config = Config()\n",
    "config.lr = 0.001\n",
    "config.num_epochs = 250\n",
    "config.bs = 50"
   ]
  },
  {
   "cell_type": "markdown",
   "id": "1385fa59",
   "metadata": {
    "papermill": {
     "duration": 0.023955,
     "end_time": "2022-03-18T20:09:39.770563",
     "exception": false,
     "start_time": "2022-03-18T20:09:39.746608",
     "status": "completed"
    },
    "tags": []
   },
   "source": [
    "### Running Models with the Training data\n",
    "Details about the network layers:\n",
    "- A first affine layer has 784 inputs and does 100 affine transforms. These are followed by a Relu\n",
    "- A second affine layer has 100 inputs from the 100 activations of the past layer, and does 100 affine transforms. These are followed by a Relu\n",
    "- A third affine layer has 100 activations and does 2 affine transformations to create an embedding for visualization. There is no non-linearity here.\n",
    "- A final \"logistic regression\" which has an affine transform from 2 inputs to 1 output, which is squeezed through a sigmoid.\n"
   ]
  },
  {
   "cell_type": "code",
   "execution_count": 17,
   "id": "2b9c66db",
   "metadata": {
    "execution": {
     "iopub.execute_input": "2022-03-18T20:09:39.826429Z",
     "iopub.status.busy": "2022-03-18T20:09:39.825933Z",
     "iopub.status.idle": "2022-03-18T20:09:39.834750Z",
     "shell.execute_reply": "2022-03-18T20:09:39.834365Z"
    },
    "papermill": {
     "duration": 0.040277,
     "end_time": "2022-03-18T20:09:39.834860",
     "exception": false,
     "start_time": "2022-03-18T20:09:39.794583",
     "status": "completed"
    },
    "tags": []
   },
   "outputs": [],
   "source": [
    "data = Data(X_train, y_train.reshape(-1,1))\n",
    "sampler = Sampler(data, config.bs, shuffle=True)\n",
    "\n",
    "dl = Dataloader(data, sampler)\n",
    "\n",
    "opt = GD(config.lr)\n",
    "loss = MSE()"
   ]
  },
  {
   "cell_type": "code",
   "execution_count": 18,
   "id": "b275e4c2",
   "metadata": {
    "execution": {
     "iopub.execute_input": "2022-03-18T20:09:39.890393Z",
     "iopub.status.busy": "2022-03-18T20:09:39.889720Z",
     "iopub.status.idle": "2022-03-18T20:09:39.899539Z",
     "shell.execute_reply": "2022-03-18T20:09:39.899160Z"
    },
    "papermill": {
     "duration": 0.040646,
     "end_time": "2022-03-18T20:09:39.899650",
     "exception": false,
     "start_time": "2022-03-18T20:09:39.859004",
     "status": "completed"
    },
    "tags": []
   },
   "outputs": [],
   "source": [
    "training_data_x = X_train\n",
    "testing_data_x = X_test\n",
    "training_data_y = y_train.reshape(-1,1)\n",
    "testing_data_y = y_test.reshape(-1,1)"
   ]
  },
  {
   "cell_type": "code",
   "execution_count": 19,
   "id": "76951160",
   "metadata": {
    "execution": {
     "iopub.execute_input": "2022-03-18T20:09:39.962084Z",
     "iopub.status.busy": "2022-03-18T20:09:39.961307Z",
     "iopub.status.idle": "2022-03-18T20:09:39.971216Z",
     "shell.execute_reply": "2022-03-18T20:09:39.970577Z"
    },
    "papermill": {
     "duration": 0.047759,
     "end_time": "2022-03-18T20:09:39.971329",
     "exception": false,
     "start_time": "2022-03-18T20:09:39.923570",
     "status": "completed"
    },
    "tags": []
   },
   "outputs": [
    {
     "name": "stdout",
     "output_type": "stream",
     "text": [
      "xavier\n",
      "xavier\n",
      "xavier\n",
      "xavier\n",
      "xavier\n"
     ]
    }
   ],
   "source": [
    "layers = [Affine(\"first\", 784, 100), Relu(\"first\"), Affine(\"second\", 100, 100), Relu(\"second\"), Affine(\"third\", 100, 2), Affine(\"last\", 2, 1), Sigmoid(\"last\")]\n",
    "model_nn = Model(layers)\n",
    "model_lr = Model([Affine(\"logits\", 784, 1), Sigmoid(\"sigmoid\")])"
   ]
  },
  {
   "cell_type": "code",
   "execution_count": 20,
   "id": "6eede77a",
   "metadata": {
    "execution": {
     "iopub.execute_input": "2022-03-18T20:09:40.027360Z",
     "iopub.status.busy": "2022-03-18T20:09:40.026850Z",
     "iopub.status.idle": "2022-03-18T20:09:40.037036Z",
     "shell.execute_reply": "2022-03-18T20:09:40.036512Z"
    },
    "papermill": {
     "duration": 0.04155,
     "end_time": "2022-03-18T20:09:40.037145",
     "exception": false,
     "start_time": "2022-03-18T20:09:39.995595",
     "status": "completed"
    },
    "tags": []
   },
   "outputs": [],
   "source": [
    "nn_learner = Learner(loss, model_nn, opt, config.num_epochs)\n",
    "acc_nn = ClfCallback(nn_learner, config.bs, training_data_x , testing_data_x, training_data_y, testing_data_y)\n",
    "nn_learner.set_callbacks([acc_nn])"
   ]
  },
  {
   "cell_type": "code",
   "execution_count": 21,
   "id": "877b6cc7",
   "metadata": {
    "execution": {
     "iopub.execute_input": "2022-03-18T20:09:40.097745Z",
     "iopub.status.busy": "2022-03-18T20:09:40.096869Z",
     "iopub.status.idle": "2022-03-18T20:09:40.103464Z",
     "shell.execute_reply": "2022-03-18T20:09:40.103806Z"
    },
    "papermill": {
     "duration": 0.042592,
     "end_time": "2022-03-18T20:09:40.103935",
     "exception": false,
     "start_time": "2022-03-18T20:09:40.061343",
     "status": "completed"
    },
    "tags": []
   },
   "outputs": [],
   "source": [
    "lr_learner = Learner(loss, model_lr, opt, config.num_epochs)\n",
    "acc_lr = ClfCallback(lr_learner, config.bs, training_data_x , testing_data_x, training_data_y, testing_data_y)\n",
    "lr_learner.set_callbacks([acc_lr])"
   ]
  },
  {
   "cell_type": "code",
   "execution_count": 22,
   "id": "d9b133c3",
   "metadata": {
    "execution": {
     "iopub.execute_input": "2022-03-18T20:09:40.164796Z",
     "iopub.status.busy": "2022-03-18T20:09:40.155318Z",
     "iopub.status.idle": "2022-03-18T20:10:56.033756Z",
     "shell.execute_reply": "2022-03-18T20:10:56.034474Z"
    },
    "papermill": {
     "duration": 75.906393,
     "end_time": "2022-03-18T20:10:56.034614",
     "exception": false,
     "start_time": "2022-03-18T20:09:40.128221",
     "status": "completed"
    },
    "tags": []
   },
   "outputs": [
    {
     "name": "stdout",
     "output_type": "stream",
     "text": [
      "Epoch 0, Loss 0.2249\n",
      "Training Accuracy: 0.7609, Testing Accuracy: 0.7686\n",
      "\n"
     ]
    },
    {
     "name": "stdout",
     "output_type": "stream",
     "text": [
      "Epoch 10, Loss 0.0609\n",
      "Training Accuracy: 0.9347, Testing Accuracy: 0.9456\n",
      "\n"
     ]
    },
    {
     "name": "stdout",
     "output_type": "stream",
     "text": [
      "Epoch 20, Loss 0.0415\n",
      "Training Accuracy: 0.9538, Testing Accuracy: 0.9662\n",
      "\n"
     ]
    },
    {
     "name": "stdout",
     "output_type": "stream",
     "text": [
      "Epoch 30, Loss 0.0349\n",
      "Training Accuracy: 0.9592, Testing Accuracy: 0.9698\n",
      "\n"
     ]
    },
    {
     "name": "stdout",
     "output_type": "stream",
     "text": [
      "Epoch 40, Loss 0.0313\n",
      "Training Accuracy: 0.9628, Testing Accuracy: 0.9723\n",
      "\n"
     ]
    },
    {
     "name": "stdout",
     "output_type": "stream",
     "text": [
      "Epoch 50, Loss 0.029\n",
      "Training Accuracy: 0.9649, Testing Accuracy: 0.9723\n",
      "\n"
     ]
    },
    {
     "name": "stdout",
     "output_type": "stream",
     "text": [
      "Epoch 60, Loss 0.0273\n",
      "Training Accuracy: 0.9679, Testing Accuracy: 0.9723\n",
      "\n"
     ]
    },
    {
     "name": "stdout",
     "output_type": "stream",
     "text": [
      "Epoch 70, Loss 0.0259\n",
      "Training Accuracy: 0.9698, Testing Accuracy: 0.9723\n",
      "\n"
     ]
    },
    {
     "name": "stdout",
     "output_type": "stream",
     "text": [
      "Epoch 80, Loss 0.0248\n",
      "Training Accuracy: 0.9710, Testing Accuracy: 0.9723\n",
      "\n"
     ]
    },
    {
     "name": "stdout",
     "output_type": "stream",
     "text": [
      "Epoch 90, Loss 0.0238\n",
      "Training Accuracy: 0.9727, Testing Accuracy: 0.9738\n",
      "\n"
     ]
    },
    {
     "name": "stdout",
     "output_type": "stream",
     "text": [
      "Epoch 100, Loss 0.0229\n",
      "Training Accuracy: 0.9736, Testing Accuracy: 0.9733\n",
      "\n"
     ]
    },
    {
     "name": "stdout",
     "output_type": "stream",
     "text": [
      "Epoch 110, Loss 0.0221\n",
      "Training Accuracy: 0.9745, Testing Accuracy: 0.9743\n",
      "\n"
     ]
    },
    {
     "name": "stdout",
     "output_type": "stream",
     "text": [
      "Epoch 120, Loss 0.0214\n",
      "Training Accuracy: 0.9750, Testing Accuracy: 0.9753\n",
      "\n"
     ]
    },
    {
     "name": "stdout",
     "output_type": "stream",
     "text": [
      "Epoch 130, Loss 0.0207\n",
      "Training Accuracy: 0.9759, Testing Accuracy: 0.9758\n",
      "\n"
     ]
    },
    {
     "name": "stdout",
     "output_type": "stream",
     "text": [
      "Epoch 140, Loss 0.0201\n",
      "Training Accuracy: 0.9767, Testing Accuracy: 0.9758\n",
      "\n"
     ]
    },
    {
     "name": "stdout",
     "output_type": "stream",
     "text": [
      "Epoch 150, Loss 0.0195\n",
      "Training Accuracy: 0.9781, Testing Accuracy: 0.9763\n",
      "\n"
     ]
    },
    {
     "name": "stdout",
     "output_type": "stream",
     "text": [
      "Epoch 160, Loss 0.0189\n",
      "Training Accuracy: 0.9786, Testing Accuracy: 0.9763\n",
      "\n"
     ]
    },
    {
     "name": "stdout",
     "output_type": "stream",
     "text": [
      "Epoch 170, Loss 0.0183\n",
      "Training Accuracy: 0.9791, Testing Accuracy: 0.9768\n",
      "\n"
     ]
    },
    {
     "name": "stdout",
     "output_type": "stream",
     "text": [
      "Epoch 180, Loss 0.0178\n",
      "Training Accuracy: 0.9797, Testing Accuracy: 0.9773\n",
      "\n"
     ]
    },
    {
     "name": "stdout",
     "output_type": "stream",
     "text": [
      "Epoch 190, Loss 0.0173\n",
      "Training Accuracy: 0.9804, Testing Accuracy: 0.9778\n",
      "\n"
     ]
    },
    {
     "name": "stdout",
     "output_type": "stream",
     "text": [
      "Epoch 200, Loss 0.0168\n",
      "Training Accuracy: 0.9808, Testing Accuracy: 0.9778\n",
      "\n"
     ]
    },
    {
     "name": "stdout",
     "output_type": "stream",
     "text": [
      "Epoch 210, Loss 0.0163\n",
      "Training Accuracy: 0.9817, Testing Accuracy: 0.9793\n",
      "\n"
     ]
    },
    {
     "name": "stdout",
     "output_type": "stream",
     "text": [
      "Epoch 220, Loss 0.0159\n",
      "Training Accuracy: 0.9822, Testing Accuracy: 0.9803\n",
      "\n"
     ]
    },
    {
     "name": "stdout",
     "output_type": "stream",
     "text": [
      "Epoch 230, Loss 0.0155\n",
      "Training Accuracy: 0.9830, Testing Accuracy: 0.9819\n",
      "\n"
     ]
    },
    {
     "name": "stdout",
     "output_type": "stream",
     "text": [
      "Epoch 240, Loss 0.0151\n",
      "Training Accuracy: 0.9836, Testing Accuracy: 0.9819\n",
      "\n"
     ]
    },
    {
     "data": {
      "text/plain": [
       "0.00569568141954049"
      ]
     },
     "execution_count": 22,
     "metadata": {},
     "output_type": "execute_result"
    }
   ],
   "source": [
    "nn_learner.train_loop(dl)"
   ]
  },
  {
   "cell_type": "code",
   "execution_count": 23,
   "id": "e0163366",
   "metadata": {
    "execution": {
     "iopub.execute_input": "2022-03-18T20:10:56.107240Z",
     "iopub.status.busy": "2022-03-18T20:10:56.106756Z",
     "iopub.status.idle": "2022-03-18T20:11:09.936468Z",
     "shell.execute_reply": "2022-03-18T20:11:09.937259Z"
    },
    "papermill": {
     "duration": 13.871965,
     "end_time": "2022-03-18T20:11:09.937395",
     "exception": false,
     "start_time": "2022-03-18T20:10:56.065430",
     "status": "completed"
    },
    "tags": []
   },
   "outputs": [
    {
     "name": "stdout",
     "output_type": "stream",
     "text": [
      "Epoch 0, Loss 0.1945\n",
      "Training Accuracy: 0.8530, Testing Accuracy: 0.8569\n",
      "\n"
     ]
    },
    {
     "name": "stdout",
     "output_type": "stream",
     "text": [
      "Epoch 10, Loss 0.096\n",
      "Training Accuracy: 0.9190, Testing Accuracy: 0.9284\n",
      "\n"
     ]
    },
    {
     "name": "stdout",
     "output_type": "stream",
     "text": [
      "Epoch 20, Loss 0.0763\n",
      "Training Accuracy: 0.9306, Testing Accuracy: 0.9415\n",
      "\n"
     ]
    },
    {
     "name": "stdout",
     "output_type": "stream",
     "text": [
      "Epoch 30, Loss 0.0666\n",
      "Training Accuracy: 0.9367, Testing Accuracy: 0.9501\n",
      "\n"
     ]
    },
    {
     "name": "stdout",
     "output_type": "stream",
     "text": [
      "Epoch 40, Loss 0.0606\n",
      "Training Accuracy: 0.9410, Testing Accuracy: 0.9541\n",
      "\n"
     ]
    },
    {
     "name": "stdout",
     "output_type": "stream",
     "text": [
      "Epoch 50, Loss 0.0565\n",
      "Training Accuracy: 0.9445, Testing Accuracy: 0.9567\n",
      "\n"
     ]
    },
    {
     "name": "stdout",
     "output_type": "stream",
     "text": [
      "Epoch 60, Loss 0.0534\n",
      "Training Accuracy: 0.9468, Testing Accuracy: 0.9592\n",
      "\n"
     ]
    },
    {
     "name": "stdout",
     "output_type": "stream",
     "text": [
      "Epoch 70, Loss 0.051\n",
      "Training Accuracy: 0.9486, Testing Accuracy: 0.9602\n",
      "\n"
     ]
    },
    {
     "name": "stdout",
     "output_type": "stream",
     "text": [
      "Epoch 80, Loss 0.049\n",
      "Training Accuracy: 0.9503, Testing Accuracy: 0.9607\n",
      "\n"
     ]
    },
    {
     "name": "stdout",
     "output_type": "stream",
     "text": [
      "Epoch 90, Loss 0.0474\n",
      "Training Accuracy: 0.9522, Testing Accuracy: 0.9612\n",
      "\n"
     ]
    },
    {
     "name": "stdout",
     "output_type": "stream",
     "text": [
      "Epoch 100, Loss 0.046\n",
      "Training Accuracy: 0.9533, Testing Accuracy: 0.9617\n",
      "\n"
     ]
    },
    {
     "name": "stdout",
     "output_type": "stream",
     "text": [
      "Epoch 110, Loss 0.0448\n",
      "Training Accuracy: 0.9541, Testing Accuracy: 0.9622\n",
      "\n"
     ]
    },
    {
     "name": "stdout",
     "output_type": "stream",
     "text": [
      "Epoch 120, Loss 0.0438\n",
      "Training Accuracy: 0.9549, Testing Accuracy: 0.9622\n",
      "\n"
     ]
    },
    {
     "name": "stdout",
     "output_type": "stream",
     "text": [
      "Epoch 130, Loss 0.0429\n",
      "Training Accuracy: 0.9553, Testing Accuracy: 0.9642\n",
      "\n"
     ]
    },
    {
     "name": "stdout",
     "output_type": "stream",
     "text": [
      "Epoch 140, Loss 0.0421\n",
      "Training Accuracy: 0.9557, Testing Accuracy: 0.9647\n",
      "\n"
     ]
    },
    {
     "name": "stdout",
     "output_type": "stream",
     "text": [
      "Epoch 150, Loss 0.0413\n",
      "Training Accuracy: 0.9563, Testing Accuracy: 0.9647\n",
      "\n"
     ]
    },
    {
     "name": "stdout",
     "output_type": "stream",
     "text": [
      "Epoch 160, Loss 0.0407\n",
      "Training Accuracy: 0.9569, Testing Accuracy: 0.9657\n",
      "\n"
     ]
    },
    {
     "name": "stdout",
     "output_type": "stream",
     "text": [
      "Epoch 170, Loss 0.0401\n",
      "Training Accuracy: 0.9574, Testing Accuracy: 0.9657\n",
      "\n"
     ]
    },
    {
     "name": "stdout",
     "output_type": "stream",
     "text": [
      "Epoch 180, Loss 0.0395\n",
      "Training Accuracy: 0.9579, Testing Accuracy: 0.9657\n",
      "\n"
     ]
    },
    {
     "name": "stdout",
     "output_type": "stream",
     "text": [
      "Epoch 190, Loss 0.039\n",
      "Training Accuracy: 0.9585, Testing Accuracy: 0.9657\n",
      "\n"
     ]
    },
    {
     "name": "stdout",
     "output_type": "stream",
     "text": [
      "Epoch 200, Loss 0.0385\n",
      "Training Accuracy: 0.9588, Testing Accuracy: 0.9662\n",
      "\n"
     ]
    },
    {
     "name": "stdout",
     "output_type": "stream",
     "text": [
      "Epoch 210, Loss 0.0381\n",
      "Training Accuracy: 0.9591, Testing Accuracy: 0.9662\n",
      "\n"
     ]
    },
    {
     "name": "stdout",
     "output_type": "stream",
     "text": [
      "Epoch 220, Loss 0.0377\n",
      "Training Accuracy: 0.9594, Testing Accuracy: 0.9657\n",
      "\n"
     ]
    },
    {
     "name": "stdout",
     "output_type": "stream",
     "text": [
      "Epoch 230, Loss 0.0373\n",
      "Training Accuracy: 0.9599, Testing Accuracy: 0.9662\n",
      "\n"
     ]
    },
    {
     "name": "stdout",
     "output_type": "stream",
     "text": [
      "Epoch 240, Loss 0.0369\n",
      "Training Accuracy: 0.9603, Testing Accuracy: 0.9667\n",
      "\n"
     ]
    },
    {
     "data": {
      "text/plain": [
       "0.037819393625593584"
      ]
     },
     "execution_count": 23,
     "metadata": {},
     "output_type": "execute_result"
    }
   ],
   "source": [
    "lr_learner.train_loop(dl)"
   ]
  },
  {
   "cell_type": "code",
   "execution_count": 24,
   "id": "ca410940",
   "metadata": {
    "execution": {
     "iopub.execute_input": "2022-03-18T20:11:10.025883Z",
     "iopub.status.busy": "2022-03-18T20:11:10.025386Z",
     "iopub.status.idle": "2022-03-18T20:11:10.218491Z",
     "shell.execute_reply": "2022-03-18T20:11:10.218104Z"
    },
    "papermill": {
     "duration": 0.243847,
     "end_time": "2022-03-18T20:11:10.218606",
     "exception": false,
     "start_time": "2022-03-18T20:11:09.974759",
     "status": "completed"
    },
    "tags": []
   },
   "outputs": [
    {
     "data": {
      "text/plain": [
       "<matplotlib.legend.Legend at 0x7ff9a8eabd30>"
      ]
     },
     "execution_count": 24,
     "metadata": {},
     "output_type": "execute_result"
    },
    {
     "data": {
      "image/png": "[encoded data removed]",
      "text/plain": [
       "<Figure size 1080x720 with 1 Axes>"
      ]
     },
     "metadata": {
      "needs_background": "light"
     },
     "output_type": "display_data"
    }
   ],
   "source": [
    "#comparing the results of NN and LR\n",
    "plt.figure(figsize=(15,10))\n",
    "\n",
    "# Neural Network plots\n",
    "plt.plot(acc_nn.accuracies, 'r-', label = \"Training Accuracies - NN\")\n",
    "plt.plot(acc_nn.test_accuracies, 'g-', label = \"Testing Accuracies - NN\")\n",
    "\n",
    "# Logistic Regression plots\n",
    "plt.plot(acc_lr.accuracies, 'k-', label = \"Training Accuracies - LR\")\n",
    "plt.plot(acc_lr.test_accuracies, 'b-', label = \"Testing Accuracies - LR\")\n",
    "plt.legend()"
   ]
  },
  {
   "cell_type": "markdown",
   "id": "80dfb35c",
   "metadata": {
    "papermill": {
     "duration": 0.037435,
     "end_time": "2022-03-18T20:11:10.293676",
     "exception": false,
     "start_time": "2022-03-18T20:11:10.256241",
     "status": "completed"
    },
    "tags": []
   },
   "source": [
    "#### Plotting the outputs of this layer of the NN.\n"
   ]
  },
  {
   "cell_type": "code",
   "execution_count": 25,
   "id": "45eb2ff5",
   "metadata": {
    "execution": {
     "iopub.execute_input": "2022-03-18T20:11:10.384374Z",
     "iopub.status.busy": "2022-03-18T20:11:10.383878Z",
     "iopub.status.idle": "2022-03-18T20:11:10.397653Z",
     "shell.execute_reply": "2022-03-18T20:11:10.397217Z"
    },
    "papermill": {
     "duration": 0.062591,
     "end_time": "2022-03-18T20:11:10.397763",
     "exception": false,
     "start_time": "2022-03-18T20:11:10.335172",
     "status": "completed"
    },
    "tags": []
   },
   "outputs": [],
   "source": [
    "new_model = Model(layers[:-2])\n",
    "testing_plot = new_model(testing_data_x)"
   ]
  },
  {
   "cell_type": "code",
   "execution_count": 26,
   "id": "4c0a5485",
   "metadata": {
    "execution": {
     "iopub.execute_input": "2022-03-18T20:11:10.485437Z",
     "iopub.status.busy": "2022-03-18T20:11:10.484938Z",
     "iopub.status.idle": "2022-03-18T20:11:10.666473Z",
     "shell.execute_reply": "2022-03-18T20:11:10.666039Z"
    },
    "papermill": {
     "duration": 0.227087,
     "end_time": "2022-03-18T20:11:10.666585",
     "exception": false,
     "start_time": "2022-03-18T20:11:10.439498",
     "status": "completed"
    },
    "tags": []
   },
   "outputs": [
    {
     "data": {
      "text/plain": [
       "Text(0.5, 1.0, 'Outputs')"
      ]
     },
     "execution_count": 26,
     "metadata": {},
     "output_type": "execute_result"
    },
    {
     "data": {
      "image/png": "[encoded data removed]",
      "text/plain": [
       "<Figure size 576x504 with 1 Axes>"
      ]
     },
     "metadata": {
      "needs_background": "light"
     },
     "output_type": "display_data"
    }
   ],
   "source": [
    "# Plotting the scatter plot of points and color coding by class\n",
    "plt.figure(figsize=(8,7))\n",
    "plt.scatter(testing_plot[:,0], testing_plot[:,1], alpha = 0.1, c = y_test.ravel());\n",
    "plt.title('Outputs')"
   ]
  },
  {
   "cell_type": "markdown",
   "id": "a74fcf8f",
   "metadata": {
    "papermill": {
     "duration": 0.039806,
     "end_time": "2022-03-18T20:11:10.746119",
     "exception": false,
     "start_time": "2022-03-18T20:11:10.706313",
     "status": "completed"
    },
    "tags": []
   },
   "source": [
    "Probability contours"
   ]
  },
  {
   "cell_type": "code",
   "execution_count": 27,
   "id": "d0afc8e3",
   "metadata": {
    "execution": {
     "iopub.execute_input": "2022-03-18T20:11:10.829365Z",
     "iopub.status.busy": "2022-03-18T20:11:10.828732Z",
     "iopub.status.idle": "2022-03-18T20:11:10.838913Z",
     "shell.execute_reply": "2022-03-18T20:11:10.838528Z"
    },
    "papermill": {
     "duration": 0.052988,
     "end_time": "2022-03-18T20:11:10.839024",
     "exception": false,
     "start_time": "2022-03-18T20:11:10.786036",
     "status": "completed"
    },
    "tags": []
   },
   "outputs": [],
   "source": [
    "model_prob = Model(layers[-2:]) "
   ]
  },
  {
   "cell_type": "code",
   "execution_count": 28,
   "id": "9b96e238",
   "metadata": {
    "execution": {
     "iopub.execute_input": "2022-03-18T20:11:10.923862Z",
     "iopub.status.busy": "2022-03-18T20:11:10.923387Z",
     "iopub.status.idle": "2022-03-18T20:11:10.936698Z",
     "shell.execute_reply": "2022-03-18T20:11:10.937055Z"
    },
    "papermill": {
     "duration": 0.058535,
     "end_time": "2022-03-18T20:11:10.937186",
     "exception": false,
     "start_time": "2022-03-18T20:11:10.878651",
     "status": "completed"
    },
    "tags": []
   },
   "outputs": [],
   "source": [
    "#creating the x and y ranges according to the above generated plot.\n",
    "x_range = np.linspace(-4, 1, 100) \n",
    "y_range = np.linspace(-6, 6, 100) \n",
    "x_grid, y_grid = np.meshgrid(x_range, y_range) # x_grid and y_grig are of size 100 X 100\n",
    "\n",
    "# converting x_grid and y_grid to continuous arrays\n",
    "x_gridflat = np.ravel(x_grid)\n",
    "y_gridflat = np.ravel(y_grid)\n",
    "\n",
    "# The last layer of the current model takes two columns as input. Hence transpose of np.vstack() is required.\n",
    "X = np.vstack((x_gridflat, y_gridflat)).T\n",
    "\n",
    "prob_contour = model_prob(X).reshape(100,100) "
   ]
  },
  {
   "cell_type": "code",
   "execution_count": 29,
   "id": "da72499a",
   "metadata": {
    "execution": {
     "iopub.execute_input": "2022-03-18T20:11:11.053629Z",
     "iopub.status.busy": "2022-03-18T20:11:11.053139Z",
     "iopub.status.idle": "2022-03-18T20:11:11.278377Z",
     "shell.execute_reply": "2022-03-18T20:11:11.277965Z"
    },
    "papermill": {
     "duration": 0.301062,
     "end_time": "2022-03-18T20:11:11.278487",
     "exception": false,
     "start_time": "2022-03-18T20:11:10.977425",
     "status": "completed"
    },
    "tags": []
   },
   "outputs": [
    {
     "data": {
      "image/png": "[encoded data removed]",
      "text/plain": [
       "<Figure size 720x648 with 1 Axes>"
      ]
     },
     "metadata": {
      "needs_background": "light"
     },
     "output_type": "display_data"
    }
   ],
   "source": [
    "plt.figure(figsize=(10,9))\n",
    "plt.scatter(testing_plot[:,0], testing_plot[:,1], alpha = 0.1, c = y_test.ravel())\n",
    "contours = plt.contour(x_grid,y_grid,prob_contour)\n",
    "plt.title('Probability Contours')\n",
    "plt.clabel(contours, inline = True );"
   ]
  },
  {
   "cell_type": "code",
   "execution_count": null,
   "id": "e81b4ac7",
   "metadata": {
    "papermill": {
     "duration": 0.041953,
     "end_time": "2022-03-18T20:11:11.363433",
     "exception": false,
     "start_time": "2022-03-18T20:11:11.321480",
     "status": "completed"
    },
    "tags": []
   },
   "outputs": [],
   "source": []
  }
 ],
 "metadata": {
  "kernelspec": {
   "display_name": "Python 3",
   "language": "python",
   "name": "python3"
  },
  "language_info": {
   "codemirror_mode": {
    "name": "ipython",
    "version": 3
   },
   "file_extension": ".py",
   "mimetype": "text/x-python",
   "name": "python",
   "nbconvert_exporter": "python",
   "pygments_lexer": "ipython3",
   "version": "3.6.15"
  },
  "papermill": {
   "default_parameters": {},
   "duration": 97.395422,
   "end_time": "2022-03-18T20:11:11.827980",
   "environment_variables": {},
   "exception": null,
   "input_path": "2020-08-11-part2.ipynb",
   "output_path": "2020-08-11-part2.ipynb",
   "parameters": {},
   "start_time": "2022-03-18T20:09:34.432558",
   "version": "2.3.3"
  }
 },
 "nbformat": 4,
 "nbformat_minor": 5
}