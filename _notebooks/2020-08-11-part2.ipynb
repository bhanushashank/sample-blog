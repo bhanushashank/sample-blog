{
 "cells": [
  {
   "cell_type": "markdown",
   "id": "98380cd3",
   "metadata": {
    "papermill": {
     "duration": 0.02803,
     "end_time": "2021-12-17T00:24:08.154939",
     "exception": false,
     "start_time": "2021-12-17T00:24:08.126909",
     "status": "completed"
    },
    "tags": []
   },
   "source": [
    "# Distinguish Your Own Digits (DYOD)"
   ]
  },
  {
   "cell_type": "markdown",
   "id": "ef31240d",
   "metadata": {
    "papermill": {
     "duration": 0.024694,
     "end_time": "2021-12-17T00:24:08.204942",
     "exception": false,
     "start_time": "2021-12-17T00:24:08.180248",
     "status": "completed"
    },
    "tags": []
   },
   "source": [
    "You are going to write a classifier that distinguishes between the number 3 and number 8."
   ]
  },
  {
   "cell_type": "code",
   "execution_count": 1,
   "id": "b15c8646",
   "metadata": {
    "execution": {
     "iopub.execute_input": "2021-12-17T00:24:08.264750Z",
     "iopub.status.busy": "2021-12-17T00:24:08.264230Z",
     "iopub.status.idle": "2021-12-17T00:24:08.272918Z",
     "shell.execute_reply": "2021-12-17T00:24:08.273335Z"
    },
    "papermill": {
     "duration": 0.043968,
     "end_time": "2021-12-17T00:24:08.273464",
     "exception": false,
     "start_time": "2021-12-17T00:24:08.229496",
     "status": "completed"
    },
    "tags": []
   },
   "outputs": [],
   "source": [
    "%load_ext autoreload\n",
    "%autoreload 2"
   ]
  },
  {
   "cell_type": "code",
   "execution_count": 2,
   "id": "22ef38dc",
   "metadata": {
    "execution": {
     "iopub.execute_input": "2021-12-17T00:24:08.327520Z",
     "iopub.status.busy": "2021-12-17T00:24:08.326618Z",
     "iopub.status.idle": "2021-12-17T00:24:08.870610Z",
     "shell.execute_reply": "2021-12-17T00:24:08.870172Z"
    },
    "papermill": {
     "duration": 0.572211,
     "end_time": "2021-12-17T00:24:08.870722",
     "exception": false,
     "start_time": "2021-12-17T00:24:08.298511",
     "status": "completed"
    },
    "tags": []
   },
   "outputs": [],
   "source": [
    "%matplotlib inline\n",
    "import numpy as np\n",
    "import matplotlib.pyplot as plt\n",
    "import pandas as pd"
   ]
  },
  {
   "cell_type": "markdown",
   "id": "ba036198",
   "metadata": {
    "papermill": {
     "duration": 0.024669,
     "end_time": "2021-12-17T00:24:08.920294",
     "exception": false,
     "start_time": "2021-12-17T00:24:08.895625",
     "status": "completed"
    },
    "tags": []
   },
   "source": [
    "From the command line run `pip install mnist`. This is a library that will help you bring down the mnist dataset. If you run this from a notebook, you need to put  `!pip install mnist` in a cell by itself."
   ]
  },
  {
   "cell_type": "code",
   "execution_count": 3,
   "id": "bb6ad8a1",
   "metadata": {
    "execution": {
     "iopub.execute_input": "2021-12-17T00:24:08.973472Z",
     "iopub.status.busy": "2021-12-17T00:24:08.972982Z",
     "iopub.status.idle": "2021-12-17T00:24:10.666119Z",
     "shell.execute_reply": "2021-12-17T00:24:10.666563Z"
    },
    "papermill": {
     "duration": 1.721719,
     "end_time": "2021-12-17T00:24:10.666690",
     "exception": false,
     "start_time": "2021-12-17T00:24:08.944971",
     "status": "completed"
    },
    "tags": []
   },
   "outputs": [
    {
     "name": "stdout",
     "output_type": "stream",
     "text": [
      "Collecting mnist\r\n"
     ]
    },
    {
     "name": "stdout",
     "output_type": "stream",
     "text": [
      "  Downloading mnist-0.2.2-py2.py3-none-any.whl (3.5 kB)\r\n",
      "Requirement already satisfied: numpy in /opt/hostedtoolcache/Python/3.6.15/x64/lib/python3.6/site-packages (from mnist) (1.19.5)\r\n"
     ]
    },
    {
     "name": "stdout",
     "output_type": "stream",
     "text": [
      "Installing collected packages: mnist\r\n",
      "Successfully installed mnist-0.2.2\r\n"
     ]
    }
   ],
   "source": [
    "!pip install mnist"
   ]
  },
  {
   "cell_type": "markdown",
   "id": "69df9c9a",
   "metadata": {
    "papermill": {
     "duration": 0.025574,
     "end_time": "2021-12-17T00:24:10.718118",
     "exception": false,
     "start_time": "2021-12-17T00:24:10.692544",
     "status": "completed"
    },
    "tags": []
   },
   "source": [
    "## Preparing the Data"
   ]
  },
  {
   "cell_type": "code",
   "execution_count": 4,
   "id": "7f69d806",
   "metadata": {
    "execution": {
     "iopub.execute_input": "2021-12-17T00:24:10.772538Z",
     "iopub.status.busy": "2021-12-17T00:24:10.772019Z",
     "iopub.status.idle": "2021-12-17T00:24:10.785047Z",
     "shell.execute_reply": "2021-12-17T00:24:10.785408Z"
    },
    "papermill": {
     "duration": 0.041843,
     "end_time": "2021-12-17T00:24:10.785527",
     "exception": false,
     "start_time": "2021-12-17T00:24:10.743684",
     "status": "completed"
    },
    "tags": []
   },
   "outputs": [],
   "source": [
    "import mnist"
   ]
  },
  {
   "cell_type": "code",
   "execution_count": 5,
   "id": "a411e44f",
   "metadata": {
    "execution": {
     "iopub.execute_input": "2021-12-17T00:24:10.840422Z",
     "iopub.status.busy": "2021-12-17T00:24:10.839908Z",
     "iopub.status.idle": "2021-12-17T00:24:11.433750Z",
     "shell.execute_reply": "2021-12-17T00:24:11.433309Z"
    },
    "papermill": {
     "duration": 0.622601,
     "end_time": "2021-12-17T00:24:11.433861",
     "exception": false,
     "start_time": "2021-12-17T00:24:10.811260",
     "status": "completed"
    },
    "tags": []
   },
   "outputs": [],
   "source": [
    "train_images = mnist.train_images()\n",
    "train_labels = mnist.train_labels()"
   ]
  },
  {
   "cell_type": "code",
   "execution_count": 6,
   "id": "dceab3a5",
   "metadata": {
    "execution": {
     "iopub.execute_input": "2021-12-17T00:24:11.490625Z",
     "iopub.status.busy": "2021-12-17T00:24:11.490137Z",
     "iopub.status.idle": "2021-12-17T00:24:11.503285Z",
     "shell.execute_reply": "2021-12-17T00:24:11.502879Z"
    },
    "papermill": {
     "duration": 0.043426,
     "end_time": "2021-12-17T00:24:11.503381",
     "exception": false,
     "start_time": "2021-12-17T00:24:11.459955",
     "status": "completed"
    },
    "tags": []
   },
   "outputs": [
    {
     "data": {
      "text/plain": [
       "((60000, 28, 28), (60000,))"
      ]
     },
     "execution_count": 6,
     "metadata": {},
     "output_type": "execute_result"
    }
   ],
   "source": [
    "train_images.shape, train_labels.shape"
   ]
  },
  {
   "cell_type": "code",
   "execution_count": 7,
   "id": "f50dc2bb",
   "metadata": {
    "execution": {
     "iopub.execute_input": "2021-12-17T00:24:11.569083Z",
     "iopub.status.busy": "2021-12-17T00:24:11.568598Z",
     "iopub.status.idle": "2021-12-17T00:24:11.803537Z",
     "shell.execute_reply": "2021-12-17T00:24:11.803099Z"
    },
    "papermill": {
     "duration": 0.26347,
     "end_time": "2021-12-17T00:24:11.803650",
     "exception": false,
     "start_time": "2021-12-17T00:24:11.540180",
     "status": "completed"
    },
    "tags": []
   },
   "outputs": [],
   "source": [
    "test_images = mnist.test_images()\n",
    "test_labels = mnist.test_labels()"
   ]
  },
  {
   "cell_type": "code",
   "execution_count": 8,
   "id": "fc38cf1b",
   "metadata": {
    "execution": {
     "iopub.execute_input": "2021-12-17T00:24:11.858595Z",
     "iopub.status.busy": "2021-12-17T00:24:11.858105Z",
     "iopub.status.idle": "2021-12-17T00:24:11.869862Z",
     "shell.execute_reply": "2021-12-17T00:24:11.869456Z"
    },
    "papermill": {
     "duration": 0.040232,
     "end_time": "2021-12-17T00:24:11.869960",
     "exception": false,
     "start_time": "2021-12-17T00:24:11.829728",
     "status": "completed"
    },
    "tags": []
   },
   "outputs": [
    {
     "data": {
      "text/plain": [
       "((10000, 28, 28), (10000,))"
      ]
     },
     "execution_count": 8,
     "metadata": {},
     "output_type": "execute_result"
    }
   ],
   "source": [
    "test_images.shape, test_labels.shape"
   ]
  },
  {
   "cell_type": "code",
   "execution_count": 9,
   "id": "f9ed8fe0",
   "metadata": {
    "execution": {
     "iopub.execute_input": "2021-12-17T00:24:11.925401Z",
     "iopub.status.busy": "2021-12-17T00:24:11.924920Z",
     "iopub.status.idle": "2021-12-17T00:24:12.054737Z",
     "shell.execute_reply": "2021-12-17T00:24:12.054330Z"
    },
    "papermill": {
     "duration": 0.158815,
     "end_time": "2021-12-17T00:24:12.054846",
     "exception": false,
     "start_time": "2021-12-17T00:24:11.896031",
     "status": "completed"
    },
    "tags": []
   },
   "outputs": [
    {
     "name": "stdout",
     "output_type": "stream",
     "text": [
      "2\n"
     ]
    },
    {
     "data": {
      "text/plain": [
       "<matplotlib.image.AxesImage at 0x7f2482395550>"
      ]
     },
     "execution_count": 9,
     "metadata": {},
     "output_type": "execute_result"
    },
    {
     "data": {
      "image/png": "[encoded data removed]",
      "text/plain": [
       "<Figure size 432x288 with 1 Axes>"
      ]
     },
     "metadata": {
      "needs_background": "light"
     },
     "output_type": "display_data"
    }
   ],
   "source": [
    "image_index = 7776 # You may select anything up to 60,000\n",
    "print(train_labels[image_index]) \n",
    "plt.imshow(train_images[image_index], cmap='Greys')"
   ]
  },
  {
   "cell_type": "markdown",
   "id": "a8d2388d",
   "metadata": {
    "papermill": {
     "duration": 0.026978,
     "end_time": "2021-12-17T00:24:12.109240",
     "exception": false,
     "start_time": "2021-12-17T00:24:12.082262",
     "status": "completed"
    },
    "tags": []
   },
   "source": [
    "## Filter data to get 3 and 8 out"
   ]
  },
  {
   "cell_type": "code",
   "execution_count": 10,
   "id": "776f7fc7",
   "metadata": {
    "execution": {
     "iopub.execute_input": "2021-12-17T00:24:12.167140Z",
     "iopub.status.busy": "2021-12-17T00:24:12.166642Z",
     "iopub.status.idle": "2021-12-17T00:24:12.182179Z",
     "shell.execute_reply": "2021-12-17T00:24:12.181773Z"
    },
    "papermill": {
     "duration": 0.045973,
     "end_time": "2021-12-17T00:24:12.182281",
     "exception": false,
     "start_time": "2021-12-17T00:24:12.136308",
     "status": "completed"
    },
    "tags": []
   },
   "outputs": [],
   "source": [
    "train_filter = np.where((train_labels == 3 ) | (train_labels == 8))\n",
    "test_filter = np.where((test_labels == 3) | (test_labels == 8))\n",
    "X_train, y_train = train_images[train_filter], train_labels[train_filter]\n",
    "X_test, y_test = test_images[test_filter], test_labels[test_filter]"
   ]
  },
  {
   "cell_type": "markdown",
   "id": "948f0b7e",
   "metadata": {
    "papermill": {
     "duration": 0.027068,
     "end_time": "2021-12-17T00:24:12.236732",
     "exception": false,
     "start_time": "2021-12-17T00:24:12.209664",
     "status": "completed"
    },
    "tags": []
   },
   "source": [
    "We normalize the pizel values in the 0 to 1 range"
   ]
  },
  {
   "cell_type": "code",
   "execution_count": 11,
   "id": "ee4c2166",
   "metadata": {
    "execution": {
     "iopub.execute_input": "2021-12-17T00:24:12.294516Z",
     "iopub.status.busy": "2021-12-17T00:24:12.294015Z",
     "iopub.status.idle": "2021-12-17T00:24:12.333364Z",
     "shell.execute_reply": "2021-12-17T00:24:12.333766Z"
    },
    "papermill": {
     "duration": 0.069994,
     "end_time": "2021-12-17T00:24:12.333899",
     "exception": false,
     "start_time": "2021-12-17T00:24:12.263905",
     "status": "completed"
    },
    "tags": []
   },
   "outputs": [],
   "source": [
    "X_train = X_train/255.\n",
    "X_test = X_test/255."
   ]
  },
  {
   "cell_type": "markdown",
   "id": "ddcf4fab",
   "metadata": {
    "papermill": {
     "duration": 0.027093,
     "end_time": "2021-12-17T00:24:12.388394",
     "exception": false,
     "start_time": "2021-12-17T00:24:12.361301",
     "status": "completed"
    },
    "tags": []
   },
   "source": [
    "And setup the labels as 1 (when the digit is 3) and 0 (when the digit is 8)"
   ]
  },
  {
   "cell_type": "code",
   "execution_count": 12,
   "id": "7dc908f2",
   "metadata": {
    "execution": {
     "iopub.execute_input": "2021-12-17T00:24:12.446126Z",
     "iopub.status.busy": "2021-12-17T00:24:12.445646Z",
     "iopub.status.idle": "2021-12-17T00:24:12.456578Z",
     "shell.execute_reply": "2021-12-17T00:24:12.456164Z"
    },
    "papermill": {
     "duration": 0.0411,
     "end_time": "2021-12-17T00:24:12.456682",
     "exception": false,
     "start_time": "2021-12-17T00:24:12.415582",
     "status": "completed"
    },
    "tags": []
   },
   "outputs": [],
   "source": [
    "y_train = 1*(y_train==3)\n",
    "y_test = 1*(y_test==3)"
   ]
  },
  {
   "cell_type": "code",
   "execution_count": 13,
   "id": "01e4e969",
   "metadata": {
    "execution": {
     "iopub.execute_input": "2021-12-17T00:24:12.513821Z",
     "iopub.status.busy": "2021-12-17T00:24:12.513342Z",
     "iopub.status.idle": "2021-12-17T00:24:12.524871Z",
     "shell.execute_reply": "2021-12-17T00:24:12.525246Z"
    },
    "papermill": {
     "duration": 0.041424,
     "end_time": "2021-12-17T00:24:12.525363",
     "exception": false,
     "start_time": "2021-12-17T00:24:12.483939",
     "status": "completed"
    },
    "tags": []
   },
   "outputs": [
    {
     "data": {
      "text/plain": [
       "((11982, 28, 28), (1984, 28, 28))"
      ]
     },
     "execution_count": 13,
     "metadata": {},
     "output_type": "execute_result"
    }
   ],
   "source": [
    "X_train.shape, X_test.shape"
   ]
  },
  {
   "cell_type": "markdown",
   "id": "5ccf3f85",
   "metadata": {
    "papermill": {
     "duration": 0.027403,
     "end_time": "2021-12-17T00:24:12.580133",
     "exception": false,
     "start_time": "2021-12-17T00:24:12.552730",
     "status": "completed"
    },
    "tags": []
   },
   "source": [
    "We reshape the data to flatten the image pixels into a set of features or co-variates:"
   ]
  },
  {
   "cell_type": "code",
   "execution_count": 14,
   "id": "5286a4a3",
   "metadata": {
    "execution": {
     "iopub.execute_input": "2021-12-17T00:24:12.639024Z",
     "iopub.status.busy": "2021-12-17T00:24:12.638526Z",
     "iopub.status.idle": "2021-12-17T00:24:12.651500Z",
     "shell.execute_reply": "2021-12-17T00:24:12.651872Z"
    },
    "papermill": {
     "duration": 0.044311,
     "end_time": "2021-12-17T00:24:12.651988",
     "exception": false,
     "start_time": "2021-12-17T00:24:12.607677",
     "status": "completed"
    },
    "tags": []
   },
   "outputs": [
    {
     "data": {
      "text/plain": [
       "((11982, 784), (1984, 784))"
      ]
     },
     "execution_count": 14,
     "metadata": {},
     "output_type": "execute_result"
    }
   ],
   "source": [
    "X_train = X_train.reshape(X_train.shape[0], -1)\n",
    "X_test = X_test.reshape(X_test.shape[0], -1)\n",
    "X_train.shape, X_test.shape"
   ]
  },
  {
   "cell_type": "code",
   "execution_count": 15,
   "id": "73c5f88a",
   "metadata": {
    "execution": {
     "iopub.execute_input": "2021-12-17T00:24:12.711053Z",
     "iopub.status.busy": "2021-12-17T00:24:12.710544Z",
     "iopub.status.idle": "2021-12-17T00:24:12.728791Z",
     "shell.execute_reply": "2021-12-17T00:24:12.728143Z"
    },
    "papermill": {
     "duration": 0.049152,
     "end_time": "2021-12-17T00:24:12.728896",
     "exception": false,
     "start_time": "2021-12-17T00:24:12.679744",
     "status": "completed"
    },
    "tags": []
   },
   "outputs": [],
   "source": [
    "#Impoting functions from 'Kudzu'\n",
    "from kudzu.model import Model\n",
    "from kudzu.train import Learner\n",
    "from kudzu.optim import GD\n",
    "from kudzu.data import Data, Sampler,Dataloader\n",
    "\n",
    "from kudzu.callbacks import AccCallback\n",
    "from kudzu.callbacks import ClfCallback\n",
    "\n",
    "from kudzu.loss import MSE\n",
    "\n",
    "from kudzu.layer import Sigmoid,Relu\n",
    "from kudzu.layer import Affine"
   ]
  },
  {
   "cell_type": "markdown",
   "id": "bc01172a",
   "metadata": {
    "papermill": {
     "duration": 0.027625,
     "end_time": "2021-12-17T00:24:12.784325",
     "exception": false,
     "start_time": "2021-12-17T00:24:12.756700",
     "status": "completed"
    },
    "tags": []
   },
   "source": [
    "### Let us create a `Config` class, to store important parameters. \n",
    "This class essentially plays the role of a dictionary."
   ]
  },
  {
   "cell_type": "code",
   "execution_count": 16,
   "id": "978281aa",
   "metadata": {
    "execution": {
     "iopub.execute_input": "2021-12-17T00:24:12.843511Z",
     "iopub.status.busy": "2021-12-17T00:24:12.843002Z",
     "iopub.status.idle": "2021-12-17T00:24:12.854634Z",
     "shell.execute_reply": "2021-12-17T00:24:12.855034Z"
    },
    "papermill": {
     "duration": 0.043206,
     "end_time": "2021-12-17T00:24:12.855156",
     "exception": false,
     "start_time": "2021-12-17T00:24:12.811950",
     "status": "completed"
    },
    "tags": []
   },
   "outputs": [],
   "source": [
    "class Config:\n",
    "    pass\n",
    "config = Config()\n",
    "config.lr = 0.001\n",
    "config.num_epochs = 250\n",
    "config.bs = 50"
   ]
  },
  {
   "cell_type": "markdown",
   "id": "1385fa59",
   "metadata": {
    "papermill": {
     "duration": 0.027724,
     "end_time": "2021-12-17T00:24:12.910963",
     "exception": false,
     "start_time": "2021-12-17T00:24:12.883239",
     "status": "completed"
    },
    "tags": []
   },
   "source": [
    "### Running Models with the Training data\n",
    "Details about the network layers:\n",
    "- A first affine layer has 784 inputs and does 100 affine transforms. These are followed by a Relu\n",
    "- A second affine layer has 100 inputs from the 100 activations of the past layer, and does 100 affine transforms. These are followed by a Relu\n",
    "- A third affine layer has 100 activations and does 2 affine transformations to create an embedding for visualization. There is no non-linearity here.\n",
    "- A final \"logistic regression\" which has an affine transform from 2 inputs to 1 output, which is squeezed through a sigmoid.\n"
   ]
  },
  {
   "cell_type": "code",
   "execution_count": 17,
   "id": "2b9c66db",
   "metadata": {
    "execution": {
     "iopub.execute_input": "2021-12-17T00:24:12.970233Z",
     "iopub.status.busy": "2021-12-17T00:24:12.969741Z",
     "iopub.status.idle": "2021-12-17T00:24:12.981268Z",
     "shell.execute_reply": "2021-12-17T00:24:12.980876Z"
    },
    "papermill": {
     "duration": 0.042569,
     "end_time": "2021-12-17T00:24:12.981371",
     "exception": false,
     "start_time": "2021-12-17T00:24:12.938802",
     "status": "completed"
    },
    "tags": []
   },
   "outputs": [],
   "source": [
    "data = Data(X_train, y_train.reshape(-1,1))\n",
    "sampler = Sampler(data, config.bs, shuffle=True)\n",
    "\n",
    "dl = Dataloader(data, sampler)\n",
    "\n",
    "opt = GD(config.lr)\n",
    "loss = MSE()"
   ]
  },
  {
   "cell_type": "code",
   "execution_count": 18,
   "id": "b275e4c2",
   "metadata": {
    "execution": {
     "iopub.execute_input": "2021-12-17T00:24:13.041435Z",
     "iopub.status.busy": "2021-12-17T00:24:13.040950Z",
     "iopub.status.idle": "2021-12-17T00:24:13.051007Z",
     "shell.execute_reply": "2021-12-17T00:24:13.050608Z"
    },
    "papermill": {
     "duration": 0.041789,
     "end_time": "2021-12-17T00:24:13.051109",
     "exception": false,
     "start_time": "2021-12-17T00:24:13.009320",
     "status": "completed"
    },
    "tags": []
   },
   "outputs": [],
   "source": [
    "training_data_x = X_train\n",
    "testing_data_x = X_test\n",
    "training_data_y = y_train.reshape(-1,1)\n",
    "testing_data_y = y_test.reshape(-1,1)"
   ]
  },
  {
   "cell_type": "code",
   "execution_count": 19,
   "id": "76951160",
   "metadata": {
    "execution": {
     "iopub.execute_input": "2021-12-17T00:24:13.110634Z",
     "iopub.status.busy": "2021-12-17T00:24:13.110136Z",
     "iopub.status.idle": "2021-12-17T00:24:13.124990Z",
     "shell.execute_reply": "2021-12-17T00:24:13.125358Z"
    },
    "papermill": {
     "duration": 0.046519,
     "end_time": "2021-12-17T00:24:13.125485",
     "exception": false,
     "start_time": "2021-12-17T00:24:13.078966",
     "status": "completed"
    },
    "tags": []
   },
   "outputs": [
    {
     "name": "stdout",
     "output_type": "stream",
     "text": [
      "xavier\n",
      "xavier\n",
      "xavier\n",
      "xavier\n",
      "xavier\n"
     ]
    }
   ],
   "source": [
    "layers = [Affine(\"first\", 784, 100), Relu(\"first\"), Affine(\"second\", 100, 100), Relu(\"second\"), Affine(\"third\", 100, 2), Affine(\"last\", 2, 1), Sigmoid(\"last\")]\n",
    "model_nn = Model(layers)\n",
    "model_lr = Model([Affine(\"logits\", 784, 1), Sigmoid(\"sigmoid\")])"
   ]
  },
  {
   "cell_type": "code",
   "execution_count": 20,
   "id": "6eede77a",
   "metadata": {
    "execution": {
     "iopub.execute_input": "2021-12-17T00:24:13.185635Z",
     "iopub.status.busy": "2021-12-17T00:24:13.185142Z",
     "iopub.status.idle": "2021-12-17T00:24:13.195518Z",
     "shell.execute_reply": "2021-12-17T00:24:13.195922Z"
    },
    "papermill": {
     "duration": 0.042103,
     "end_time": "2021-12-17T00:24:13.196036",
     "exception": false,
     "start_time": "2021-12-17T00:24:13.153933",
     "status": "completed"
    },
    "tags": []
   },
   "outputs": [],
   "source": [
    "nn_learner = Learner(loss, model_nn, opt, config.num_epochs)\n",
    "acc_nn = ClfCallback(nn_learner, config.bs, training_data_x , testing_data_x, training_data_y, testing_data_y)\n",
    "nn_learner.set_callbacks([acc_nn])"
   ]
  },
  {
   "cell_type": "code",
   "execution_count": 21,
   "id": "877b6cc7",
   "metadata": {
    "execution": {
     "iopub.execute_input": "2021-12-17T00:24:13.255955Z",
     "iopub.status.busy": "2021-12-17T00:24:13.255455Z",
     "iopub.status.idle": "2021-12-17T00:24:13.266066Z",
     "shell.execute_reply": "2021-12-17T00:24:13.265673Z"
    },
    "papermill": {
     "duration": 0.041996,
     "end_time": "2021-12-17T00:24:13.266166",
     "exception": false,
     "start_time": "2021-12-17T00:24:13.224170",
     "status": "completed"
    },
    "tags": []
   },
   "outputs": [],
   "source": [
    "lr_learner = Learner(loss, model_lr, opt, config.num_epochs)\n",
    "acc_lr = ClfCallback(lr_learner, config.bs, training_data_x , testing_data_x, training_data_y, testing_data_y)\n",
    "lr_learner.set_callbacks([acc_lr])"
   ]
  },
  {
   "cell_type": "code",
   "execution_count": 22,
   "id": "d9b133c3",
   "metadata": {
    "execution": {
     "iopub.execute_input": "2021-12-17T00:24:13.326378Z",
     "iopub.status.busy": "2021-12-17T00:24:13.325887Z",
     "iopub.status.idle": "2021-12-17T00:27:08.406207Z",
     "shell.execute_reply": "2021-12-17T00:27:08.406614Z"
    },
    "papermill": {
     "duration": 175.112286,
     "end_time": "2021-12-17T00:27:08.406736",
     "exception": false,
     "start_time": "2021-12-17T00:24:13.294450",
     "status": "completed"
    },
    "tags": []
   },
   "outputs": [
    {
     "name": "stdout",
     "output_type": "stream",
     "text": [
      "Epoch 0, Loss 0.251\n",
      "Training Accuracy: 0.5411, Testing Accuracy: 0.5680\n",
      "\n"
     ]
    },
    {
     "name": "stdout",
     "output_type": "stream",
     "text": [
      "Epoch 10, Loss 0.1385\n",
      "Training Accuracy: 0.8975, Testing Accuracy: 0.9098\n",
      "\n"
     ]
    },
    {
     "name": "stdout",
     "output_type": "stream",
     "text": [
      "Epoch 20, Loss 0.0719\n",
      "Training Accuracy: 0.9295, Testing Accuracy: 0.9420\n",
      "\n"
     ]
    },
    {
     "name": "stdout",
     "output_type": "stream",
     "text": [
      "Epoch 30, Loss 0.0521\n",
      "Training Accuracy: 0.9444, Testing Accuracy: 0.9561\n",
      "\n"
     ]
    },
    {
     "name": "stdout",
     "output_type": "stream",
     "text": [
      "Epoch 40, Loss 0.0436\n",
      "Training Accuracy: 0.9521, Testing Accuracy: 0.9607\n",
      "\n"
     ]
    },
    {
     "name": "stdout",
     "output_type": "stream",
     "text": [
      "Epoch 50, Loss 0.0387\n",
      "Training Accuracy: 0.9569, Testing Accuracy: 0.9642\n",
      "\n"
     ]
    },
    {
     "name": "stdout",
     "output_type": "stream",
     "text": [
      "Epoch 60, Loss 0.0356\n",
      "Training Accuracy: 0.9589, Testing Accuracy: 0.9682\n",
      "\n"
     ]
    },
    {
     "name": "stdout",
     "output_type": "stream",
     "text": [
      "Epoch 70, Loss 0.0334\n",
      "Training Accuracy: 0.9614, Testing Accuracy: 0.9682\n",
      "\n"
     ]
    },
    {
     "name": "stdout",
     "output_type": "stream",
     "text": [
      "Epoch 80, Loss 0.0317\n",
      "Training Accuracy: 0.9629, Testing Accuracy: 0.9688\n",
      "\n"
     ]
    },
    {
     "name": "stdout",
     "output_type": "stream",
     "text": [
      "Epoch 90, Loss 0.0303\n",
      "Training Accuracy: 0.9641, Testing Accuracy: 0.9693\n",
      "\n"
     ]
    },
    {
     "name": "stdout",
     "output_type": "stream",
     "text": [
      "Epoch 100, Loss 0.0291\n",
      "Training Accuracy: 0.9659, Testing Accuracy: 0.9693\n",
      "\n"
     ]
    },
    {
     "name": "stdout",
     "output_type": "stream",
     "text": [
      "Epoch 110, Loss 0.0281\n",
      "Training Accuracy: 0.9670, Testing Accuracy: 0.9708\n",
      "\n"
     ]
    },
    {
     "name": "stdout",
     "output_type": "stream",
     "text": [
      "Epoch 120, Loss 0.0273\n",
      "Training Accuracy: 0.9684, Testing Accuracy: 0.9713\n",
      "\n"
     ]
    },
    {
     "name": "stdout",
     "output_type": "stream",
     "text": [
      "Epoch 130, Loss 0.0265\n",
      "Training Accuracy: 0.9695, Testing Accuracy: 0.9713\n",
      "\n"
     ]
    },
    {
     "name": "stdout",
     "output_type": "stream",
     "text": [
      "Epoch 140, Loss 0.0258\n",
      "Training Accuracy: 0.9703, Testing Accuracy: 0.9718\n",
      "\n"
     ]
    },
    {
     "name": "stdout",
     "output_type": "stream",
     "text": [
      "Epoch 150, Loss 0.0252\n",
      "Training Accuracy: 0.9710, Testing Accuracy: 0.9718\n",
      "\n"
     ]
    },
    {
     "name": "stdout",
     "output_type": "stream",
     "text": [
      "Epoch 160, Loss 0.0247\n",
      "Training Accuracy: 0.9718, Testing Accuracy: 0.9723\n",
      "\n"
     ]
    },
    {
     "name": "stdout",
     "output_type": "stream",
     "text": [
      "Epoch 170, Loss 0.0241\n",
      "Training Accuracy: 0.9721, Testing Accuracy: 0.9718\n",
      "\n"
     ]
    },
    {
     "name": "stdout",
     "output_type": "stream",
     "text": [
      "Epoch 180, Loss 0.0236\n",
      "Training Accuracy: 0.9724, Testing Accuracy: 0.9723\n",
      "\n"
     ]
    },
    {
     "name": "stdout",
     "output_type": "stream",
     "text": [
      "Epoch 190, Loss 0.0232\n",
      "Training Accuracy: 0.9732, Testing Accuracy: 0.9723\n",
      "\n"
     ]
    },
    {
     "name": "stdout",
     "output_type": "stream",
     "text": [
      "Epoch 200, Loss 0.0227\n",
      "Training Accuracy: 0.9739, Testing Accuracy: 0.9733\n",
      "\n"
     ]
    },
    {
     "name": "stdout",
     "output_type": "stream",
     "text": [
      "Epoch 210, Loss 0.0223\n",
      "Training Accuracy: 0.9744, Testing Accuracy: 0.9733\n",
      "\n"
     ]
    },
    {
     "name": "stdout",
     "output_type": "stream",
     "text": [
      "Epoch 220, Loss 0.0219\n",
      "Training Accuracy: 0.9751, Testing Accuracy: 0.9728\n",
      "\n"
     ]
    },
    {
     "name": "stdout",
     "output_type": "stream",
     "text": [
      "Epoch 230, Loss 0.0215\n",
      "Training Accuracy: 0.9761, Testing Accuracy: 0.9728\n",
      "\n"
     ]
    },
    {
     "name": "stdout",
     "output_type": "stream",
     "text": [
      "Epoch 240, Loss 0.0211\n",
      "Training Accuracy: 0.9762, Testing Accuracy: 0.9728\n",
      "\n"
     ]
    },
    {
     "data": {
      "text/plain": [
       "0.057452671396638455"
      ]
     },
     "execution_count": 22,
     "metadata": {},
     "output_type": "execute_result"
    }
   ],
   "source": [
    "nn_learner.train_loop(dl)"
   ]
  },
  {
   "cell_type": "code",
   "execution_count": 23,
   "id": "e0163366",
   "metadata": {
    "execution": {
     "iopub.execute_input": "2021-12-17T00:27:08.480515Z",
     "iopub.status.busy": "2021-12-17T00:27:08.479967Z",
     "iopub.status.idle": "2021-12-17T00:27:20.659878Z",
     "shell.execute_reply": "2021-12-17T00:27:20.660581Z"
    },
    "papermill": {
     "duration": 12.218635,
     "end_time": "2021-12-17T00:27:20.660718",
     "exception": false,
     "start_time": "2021-12-17T00:27:08.442083",
     "status": "completed"
    },
    "tags": []
   },
   "outputs": [
    {
     "name": "stdout",
     "output_type": "stream",
     "text": [
      "Epoch 0, Loss 0.2114\n",
      "Training Accuracy: 0.7682, Testing Accuracy: 0.7812\n",
      "\n"
     ]
    },
    {
     "name": "stdout",
     "output_type": "stream",
     "text": [
      "Epoch 10, Loss 0.1033\n",
      "Training Accuracy: 0.9009, Testing Accuracy: 0.9047\n",
      "\n"
     ]
    },
    {
     "name": "stdout",
     "output_type": "stream",
     "text": [
      "Epoch 20, Loss 0.0803\n",
      "Training Accuracy: 0.9217, Testing Accuracy: 0.9345\n",
      "\n"
     ]
    },
    {
     "name": "stdout",
     "output_type": "stream",
     "text": [
      "Epoch 30, Loss 0.0691\n",
      "Training Accuracy: 0.9337, Testing Accuracy: 0.9461\n",
      "\n"
     ]
    },
    {
     "name": "stdout",
     "output_type": "stream",
     "text": [
      "Epoch 40, Loss 0.0623\n",
      "Training Accuracy: 0.9390, Testing Accuracy: 0.9521\n",
      "\n"
     ]
    },
    {
     "name": "stdout",
     "output_type": "stream",
     "text": [
      "Epoch 50, Loss 0.0576\n",
      "Training Accuracy: 0.9439, Testing Accuracy: 0.9551\n",
      "\n"
     ]
    },
    {
     "name": "stdout",
     "output_type": "stream",
     "text": [
      "Epoch 60, Loss 0.0542\n",
      "Training Accuracy: 0.9463, Testing Accuracy: 0.9592\n",
      "\n"
     ]
    },
    {
     "name": "stdout",
     "output_type": "stream",
     "text": [
      "Epoch 70, Loss 0.0516\n",
      "Training Accuracy: 0.9486, Testing Accuracy: 0.9597\n",
      "\n"
     ]
    },
    {
     "name": "stdout",
     "output_type": "stream",
     "text": [
      "Epoch 80, Loss 0.0495\n",
      "Training Accuracy: 0.9511, Testing Accuracy: 0.9597\n",
      "\n"
     ]
    },
    {
     "name": "stdout",
     "output_type": "stream",
     "text": [
      "Epoch 90, Loss 0.0477\n",
      "Training Accuracy: 0.9523, Testing Accuracy: 0.9617\n",
      "\n"
     ]
    },
    {
     "name": "stdout",
     "output_type": "stream",
     "text": [
      "Epoch 100, Loss 0.0463\n",
      "Training Accuracy: 0.9535, Testing Accuracy: 0.9627\n",
      "\n"
     ]
    },
    {
     "name": "stdout",
     "output_type": "stream",
     "text": [
      "Epoch 110, Loss 0.045\n",
      "Training Accuracy: 0.9544, Testing Accuracy: 0.9627\n",
      "\n"
     ]
    },
    {
     "name": "stdout",
     "output_type": "stream",
     "text": [
      "Epoch 120, Loss 0.0439\n",
      "Training Accuracy: 0.9553, Testing Accuracy: 0.9637\n",
      "\n"
     ]
    },
    {
     "name": "stdout",
     "output_type": "stream",
     "text": [
      "Epoch 130, Loss 0.043\n",
      "Training Accuracy: 0.9562, Testing Accuracy: 0.9642\n",
      "\n"
     ]
    },
    {
     "name": "stdout",
     "output_type": "stream",
     "text": [
      "Epoch 140, Loss 0.0421\n",
      "Training Accuracy: 0.9573, Testing Accuracy: 0.9647\n",
      "\n"
     ]
    },
    {
     "name": "stdout",
     "output_type": "stream",
     "text": [
      "Epoch 150, Loss 0.0414\n",
      "Training Accuracy: 0.9578, Testing Accuracy: 0.9647\n",
      "\n"
     ]
    },
    {
     "name": "stdout",
     "output_type": "stream",
     "text": [
      "Epoch 160, Loss 0.0407\n",
      "Training Accuracy: 0.9580, Testing Accuracy: 0.9652\n",
      "\n"
     ]
    },
    {
     "name": "stdout",
     "output_type": "stream",
     "text": [
      "Epoch 170, Loss 0.0401\n",
      "Training Accuracy: 0.9587, Testing Accuracy: 0.9652\n",
      "\n"
     ]
    },
    {
     "name": "stdout",
     "output_type": "stream",
     "text": [
      "Epoch 180, Loss 0.0395\n",
      "Training Accuracy: 0.9592, Testing Accuracy: 0.9657\n",
      "\n"
     ]
    },
    {
     "name": "stdout",
     "output_type": "stream",
     "text": [
      "Epoch 190, Loss 0.039\n",
      "Training Accuracy: 0.9594, Testing Accuracy: 0.9667\n",
      "\n"
     ]
    },
    {
     "name": "stdout",
     "output_type": "stream",
     "text": [
      "Epoch 200, Loss 0.0385\n",
      "Training Accuracy: 0.9598, Testing Accuracy: 0.9667\n",
      "\n"
     ]
    },
    {
     "name": "stdout",
     "output_type": "stream",
     "text": [
      "Epoch 210, Loss 0.0381\n",
      "Training Accuracy: 0.9604, Testing Accuracy: 0.9672\n",
      "\n"
     ]
    },
    {
     "name": "stdout",
     "output_type": "stream",
     "text": [
      "Epoch 220, Loss 0.0376\n",
      "Training Accuracy: 0.9608, Testing Accuracy: 0.9672\n",
      "\n"
     ]
    },
    {
     "name": "stdout",
     "output_type": "stream",
     "text": [
      "Epoch 230, Loss 0.0372\n",
      "Training Accuracy: 0.9611, Testing Accuracy: 0.9672\n",
      "\n"
     ]
    },
    {
     "name": "stdout",
     "output_type": "stream",
     "text": [
      "Epoch 240, Loss 0.0369\n",
      "Training Accuracy: 0.9612, Testing Accuracy: 0.9672\n",
      "\n"
     ]
    },
    {
     "data": {
      "text/plain": [
       "0.021721396893489633"
      ]
     },
     "execution_count": 23,
     "metadata": {},
     "output_type": "execute_result"
    }
   ],
   "source": [
    "lr_learner.train_loop(dl)"
   ]
  },
  {
   "cell_type": "code",
   "execution_count": 24,
   "id": "ca410940",
   "metadata": {
    "execution": {
     "iopub.execute_input": "2021-12-17T00:27:20.753695Z",
     "iopub.status.busy": "2021-12-17T00:27:20.753198Z",
     "iopub.status.idle": "2021-12-17T00:27:20.965222Z",
     "shell.execute_reply": "2021-12-17T00:27:20.964808Z"
    },
    "papermill": {
     "duration": 0.261491,
     "end_time": "2021-12-17T00:27:20.965332",
     "exception": false,
     "start_time": "2021-12-17T00:27:20.703841",
     "status": "completed"
    },
    "tags": []
   },
   "outputs": [
    {
     "data": {
      "text/plain": [
       "<matplotlib.legend.Legend at 0x7f2481f6ebe0>"
      ]
     },
     "execution_count": 24,
     "metadata": {},
     "output_type": "execute_result"
    },
    {
     "data": {
      "image/png": "[encoded data removed]",
      "text/plain": [
       "<Figure size 1080x720 with 1 Axes>"
      ]
     },
     "metadata": {
      "needs_background": "light"
     },
     "output_type": "display_data"
    }
   ],
   "source": [
    "#comparing the results of NN and LR\n",
    "plt.figure(figsize=(15,10))\n",
    "\n",
    "# Neural Network plots\n",
    "plt.plot(acc_nn.accuracies, 'r-', label = \"Training Accuracies - NN\")\n",
    "plt.plot(acc_nn.test_accuracies, 'g-', label = \"Testing Accuracies - NN\")\n",
    "\n",
    "# Logistic Regression plots\n",
    "plt.plot(acc_lr.accuracies, 'k-', label = \"Training Accuracies - LR\")\n",
    "plt.plot(acc_lr.test_accuracies, 'b-', label = \"Testing Accuracies - LR\")\n",
    "plt.legend()"
   ]
  },
  {
   "cell_type": "markdown",
   "id": "80dfb35c",
   "metadata": {
    "papermill": {
     "duration": 0.043263,
     "end_time": "2021-12-17T00:27:21.052174",
     "exception": false,
     "start_time": "2021-12-17T00:27:21.008911",
     "status": "completed"
    },
    "tags": []
   },
   "source": [
    "#### Plotting the outputs of this layer of the NN.\n"
   ]
  },
  {
   "cell_type": "code",
   "execution_count": 25,
   "id": "45eb2ff5",
   "metadata": {
    "execution": {
     "iopub.execute_input": "2021-12-17T00:27:21.143706Z",
     "iopub.status.busy": "2021-12-17T00:27:21.143152Z",
     "iopub.status.idle": "2021-12-17T00:27:21.177273Z",
     "shell.execute_reply": "2021-12-17T00:27:21.177671Z"
    },
    "papermill": {
     "duration": 0.082283,
     "end_time": "2021-12-17T00:27:21.177807",
     "exception": false,
     "start_time": "2021-12-17T00:27:21.095524",
     "status": "completed"
    },
    "tags": []
   },
   "outputs": [],
   "source": [
    "new_model = Model(layers[:-2])\n",
    "testing_plot = new_model(testing_data_x)"
   ]
  },
  {
   "cell_type": "code",
   "execution_count": 26,
   "id": "4c0a5485",
   "metadata": {
    "execution": {
     "iopub.execute_input": "2021-12-17T00:27:21.271630Z",
     "iopub.status.busy": "2021-12-17T00:27:21.270581Z",
     "iopub.status.idle": "2021-12-17T00:27:21.463246Z",
     "shell.execute_reply": "2021-12-17T00:27:21.462463Z"
    },
    "papermill": {
     "duration": 0.240451,
     "end_time": "2021-12-17T00:27:21.463363",
     "exception": false,
     "start_time": "2021-12-17T00:27:21.222912",
     "status": "completed"
    },
    "tags": []
   },
   "outputs": [
    {
     "data": {
      "text/plain": [
       "Text(0.5, 1.0, 'Outputs')"
      ]
     },
     "execution_count": 26,
     "metadata": {},
     "output_type": "execute_result"
    },
    {
     "data": {
      "image/png": "[encoded data removed]",
      "text/plain": [
       "<Figure size 576x504 with 1 Axes>"
      ]
     },
     "metadata": {
      "needs_background": "light"
     },
     "output_type": "display_data"
    }
   ],
   "source": [
    "# Plotting the scatter plot of points and color coding by class\n",
    "plt.figure(figsize=(8,7))\n",
    "plt.scatter(testing_plot[:,0], testing_plot[:,1], alpha = 0.1, c = y_test.ravel());\n",
    "plt.title('Outputs')"
   ]
  },
  {
   "cell_type": "markdown",
   "id": "a74fcf8f",
   "metadata": {
    "papermill": {
     "duration": 0.045461,
     "end_time": "2021-12-17T00:27:21.554472",
     "exception": false,
     "start_time": "2021-12-17T00:27:21.509011",
     "status": "completed"
    },
    "tags": []
   },
   "source": [
    "Probability contours"
   ]
  },
  {
   "cell_type": "code",
   "execution_count": 27,
   "id": "d0afc8e3",
   "metadata": {
    "execution": {
     "iopub.execute_input": "2021-12-17T00:27:21.648903Z",
     "iopub.status.busy": "2021-12-17T00:27:21.648403Z",
     "iopub.status.idle": "2021-12-17T00:27:21.658927Z",
     "shell.execute_reply": "2021-12-17T00:27:21.658515Z"
    },
    "papermill": {
     "duration": 0.059075,
     "end_time": "2021-12-17T00:27:21.659024",
     "exception": false,
     "start_time": "2021-12-17T00:27:21.599949",
     "status": "completed"
    },
    "tags": []
   },
   "outputs": [],
   "source": [
    "model_prob = Model(layers[-2:]) "
   ]
  },
  {
   "cell_type": "code",
   "execution_count": 28,
   "id": "9b96e238",
   "metadata": {
    "execution": {
     "iopub.execute_input": "2021-12-17T00:27:21.774118Z",
     "iopub.status.busy": "2021-12-17T00:27:21.773327Z",
     "iopub.status.idle": "2021-12-17T00:27:21.786150Z",
     "shell.execute_reply": "2021-12-17T00:27:21.786548Z"
    },
    "papermill": {
     "duration": 0.082123,
     "end_time": "2021-12-17T00:27:21.786661",
     "exception": false,
     "start_time": "2021-12-17T00:27:21.704538",
     "status": "completed"
    },
    "tags": []
   },
   "outputs": [],
   "source": [
    "#creating the x and y ranges according to the above generated plot.\n",
    "x_range = np.linspace(-4, 1, 100) \n",
    "y_range = np.linspace(-6, 6, 100) \n",
    "x_grid, y_grid = np.meshgrid(x_range, y_range) # x_grid and y_grig are of size 100 X 100\n",
    "\n",
    "# converting x_grid and y_grid to continuous arrays\n",
    "x_gridflat = np.ravel(x_grid)\n",
    "y_gridflat = np.ravel(y_grid)\n",
    "\n",
    "# The last layer of the current model takes two columns as input. Hence transpose of np.vstack() is required.\n",
    "X = np.vstack((x_gridflat, y_gridflat)).T\n",
    "\n",
    "prob_contour = model_prob(X).reshape(100,100) "
   ]
  },
  {
   "cell_type": "code",
   "execution_count": 29,
   "id": "da72499a",
   "metadata": {
    "execution": {
     "iopub.execute_input": "2021-12-17T00:27:21.882860Z",
     "iopub.status.busy": "2021-12-17T00:27:21.882360Z",
     "iopub.status.idle": "2021-12-17T00:27:22.130440Z",
     "shell.execute_reply": "2021-12-17T00:27:22.129660Z"
    },
    "papermill": {
     "duration": 0.297353,
     "end_time": "2021-12-17T00:27:22.130560",
     "exception": false,
     "start_time": "2021-12-17T00:27:21.833207",
     "status": "completed"
    },
    "tags": []
   },
   "outputs": [
    {
     "data": {
      "image/png": "[encoded data removed]",
      "text/plain": [
       "<Figure size 720x648 with 1 Axes>"
      ]
     },
     "metadata": {
      "needs_background": "light"
     },
     "output_type": "display_data"
    }
   ],
   "source": [
    "plt.figure(figsize=(10,9))\n",
    "plt.scatter(testing_plot[:,0], testing_plot[:,1], alpha = 0.1, c = y_test.ravel())\n",
    "contours = plt.contour(x_grid,y_grid,prob_contour)\n",
    "plt.title('Probability Contours')\n",
    "plt.clabel(contours, inline = True );"
   ]
  },
  {
   "cell_type": "code",
   "execution_count": null,
   "id": "e81b4ac7",
   "metadata": {
    "papermill": {
     "duration": 0.048474,
     "end_time": "2021-12-17T00:27:22.227785",
     "exception": false,
     "start_time": "2021-12-17T00:27:22.179311",
     "status": "completed"
    },
    "tags": []
   },
   "outputs": [],
   "source": []
  }
 ],
 "metadata": {
  "kernelspec": {
   "display_name": "Python 3",
   "language": "python",
   "name": "python3"
  },
  "language_info": {
   "codemirror_mode": {
    "name": "ipython",
    "version": 3
   },
   "file_extension": ".py",
   "mimetype": "text/x-python",
   "name": "python",
   "nbconvert_exporter": "python",
   "pygments_lexer": "ipython3",
   "version": "3.6.15"
  },
  "papermill": {
   "default_parameters": {},
   "duration": 195.55343,
   "end_time": "2021-12-17T00:27:22.582428",
   "environment_variables": {},
   "exception": null,
   "input_path": "2020-08-11-part2.ipynb",
   "output_path": "2020-08-11-part2.ipynb",
   "parameters": {},
   "start_time": "2021-12-17T00:24:07.028998",
   "version": "2.3.3"
  }
 },
 "nbformat": 4,
 "nbformat_minor": 5
}