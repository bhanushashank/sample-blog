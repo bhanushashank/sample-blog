{
 "cells": [
  {
   "cell_type": "markdown",
   "id": "98380cd3",
   "metadata": {
    "papermill": {
     "duration": 0.028957,
     "end_time": "2022-04-04T00:32:44.318022",
     "exception": false,
     "start_time": "2022-04-04T00:32:44.289065",
     "status": "completed"
    },
    "tags": []
   },
   "source": [
    "# Distinguish Your Own Digits (DYOD)"
   ]
  },
  {
   "cell_type": "markdown",
   "id": "ef31240d",
   "metadata": {
    "papermill": {
     "duration": 0.025279,
     "end_time": "2022-04-04T00:32:44.367734",
     "exception": false,
     "start_time": "2022-04-04T00:32:44.342455",
     "status": "completed"
    },
    "tags": []
   },
   "source": [
    "You are going to write a classifier that distinguishes between the number 3 and number 8."
   ]
  },
  {
   "cell_type": "code",
   "execution_count": 1,
   "id": "b15c8646",
   "metadata": {
    "execution": {
     "iopub.execute_input": "2022-04-04T00:32:44.425266Z",
     "iopub.status.busy": "2022-04-04T00:32:44.424732Z",
     "iopub.status.idle": "2022-04-04T00:32:44.435465Z",
     "shell.execute_reply": "2022-04-04T00:32:44.435027Z"
    },
    "papermill": {
     "duration": 0.044252,
     "end_time": "2022-04-04T00:32:44.435603",
     "exception": false,
     "start_time": "2022-04-04T00:32:44.391351",
     "status": "completed"
    },
    "tags": []
   },
   "outputs": [],
   "source": [
    "%load_ext autoreload\n",
    "%autoreload 2"
   ]
  },
  {
   "cell_type": "code",
   "execution_count": 2,
   "id": "22ef38dc",
   "metadata": {
    "execution": {
     "iopub.execute_input": "2022-04-04T00:32:44.496959Z",
     "iopub.status.busy": "2022-04-04T00:32:44.496432Z",
     "iopub.status.idle": "2022-04-04T00:32:45.080866Z",
     "shell.execute_reply": "2022-04-04T00:32:45.081374Z"
    },
    "papermill": {
     "duration": 0.621918,
     "end_time": "2022-04-04T00:32:45.081553",
     "exception": false,
     "start_time": "2022-04-04T00:32:44.459635",
     "status": "completed"
    },
    "tags": []
   },
   "outputs": [],
   "source": [
    "%matplotlib inline\n",
    "import numpy as np\n",
    "import matplotlib.pyplot as plt\n",
    "import pandas as pd"
   ]
  },
  {
   "cell_type": "markdown",
   "id": "ba036198",
   "metadata": {
    "papermill": {
     "duration": 0.033532,
     "end_time": "2022-04-04T00:32:45.140285",
     "exception": false,
     "start_time": "2022-04-04T00:32:45.106753",
     "status": "completed"
    },
    "tags": []
   },
   "source": [
    "From the command line run `pip install mnist`. This is a library that will help you bring down the mnist dataset. If you run this from a notebook, you need to put  `!pip install mnist` in a cell by itself."
   ]
  },
  {
   "cell_type": "code",
   "execution_count": 3,
   "id": "bb6ad8a1",
   "metadata": {
    "execution": {
     "iopub.execute_input": "2022-04-04T00:32:45.193606Z",
     "iopub.status.busy": "2022-04-04T00:32:45.193072Z",
     "iopub.status.idle": "2022-04-04T00:32:47.730657Z",
     "shell.execute_reply": "2022-04-04T00:32:47.730134Z"
    },
    "papermill": {
     "duration": 2.567963,
     "end_time": "2022-04-04T00:32:47.730787",
     "exception": false,
     "start_time": "2022-04-04T00:32:45.162824",
     "status": "completed"
    },
    "tags": []
   },
   "outputs": [
    {
     "name": "stdout",
     "output_type": "stream",
     "text": [
      "Collecting mnist\r\n"
     ]
    },
    {
     "name": "stdout",
     "output_type": "stream",
     "text": [
      "  Downloading mnist-0.2.2-py2.py3-none-any.whl (3.5 kB)\r\n",
      "Requirement already satisfied: numpy in /opt/hostedtoolcache/Python/3.6.15/x64/lib/python3.6/site-packages (from mnist) (1.19.5)\r\n"
     ]
    },
    {
     "name": "stdout",
     "output_type": "stream",
     "text": [
      "Installing collected packages: mnist\r\n"
     ]
    },
    {
     "name": "stdout",
     "output_type": "stream",
     "text": [
      "Successfully installed mnist-0.2.2\r\n"
     ]
    }
   ],
   "source": [
    "!pip install mnist"
   ]
  },
  {
   "cell_type": "markdown",
   "id": "69df9c9a",
   "metadata": {
    "papermill": {
     "duration": 0.025225,
     "end_time": "2022-04-04T00:32:47.781282",
     "exception": false,
     "start_time": "2022-04-04T00:32:47.756057",
     "status": "completed"
    },
    "tags": []
   },
   "source": [
    "## Preparing the Data"
   ]
  },
  {
   "cell_type": "code",
   "execution_count": 4,
   "id": "7f69d806",
   "metadata": {
    "execution": {
     "iopub.execute_input": "2022-04-04T00:32:47.840299Z",
     "iopub.status.busy": "2022-04-04T00:32:47.835128Z",
     "iopub.status.idle": "2022-04-04T00:32:47.851278Z",
     "shell.execute_reply": "2022-04-04T00:32:47.851697Z"
    },
    "papermill": {
     "duration": 0.045436,
     "end_time": "2022-04-04T00:32:47.851833",
     "exception": false,
     "start_time": "2022-04-04T00:32:47.806397",
     "status": "completed"
    },
    "tags": []
   },
   "outputs": [],
   "source": [
    "import mnist"
   ]
  },
  {
   "cell_type": "code",
   "execution_count": 5,
   "id": "a411e44f",
   "metadata": {
    "execution": {
     "iopub.execute_input": "2022-04-04T00:32:47.914676Z",
     "iopub.status.busy": "2022-04-04T00:32:47.912927Z",
     "iopub.status.idle": "2022-04-04T00:32:48.436689Z",
     "shell.execute_reply": "2022-04-04T00:32:48.436200Z"
    },
    "papermill": {
     "duration": 0.559829,
     "end_time": "2022-04-04T00:32:48.436823",
     "exception": false,
     "start_time": "2022-04-04T00:32:47.876994",
     "status": "completed"
    },
    "tags": []
   },
   "outputs": [],
   "source": [
    "train_images = mnist.train_images()\n",
    "train_labels = mnist.train_labels()"
   ]
  },
  {
   "cell_type": "code",
   "execution_count": 6,
   "id": "dceab3a5",
   "metadata": {
    "execution": {
     "iopub.execute_input": "2022-04-04T00:32:48.491516Z",
     "iopub.status.busy": "2022-04-04T00:32:48.491014Z",
     "iopub.status.idle": "2022-04-04T00:32:48.513520Z",
     "shell.execute_reply": "2022-04-04T00:32:48.513051Z"
    },
    "papermill": {
     "duration": 0.051399,
     "end_time": "2022-04-04T00:32:48.513653",
     "exception": false,
     "start_time": "2022-04-04T00:32:48.462254",
     "status": "completed"
    },
    "tags": []
   },
   "outputs": [
    {
     "data": {
      "text/plain": [
       "((60000, 28, 28), (60000,))"
      ]
     },
     "execution_count": 6,
     "metadata": {},
     "output_type": "execute_result"
    }
   ],
   "source": [
    "train_images.shape, train_labels.shape"
   ]
  },
  {
   "cell_type": "code",
   "execution_count": 7,
   "id": "f50dc2bb",
   "metadata": {
    "execution": {
     "iopub.execute_input": "2022-04-04T00:32:48.568239Z",
     "iopub.status.busy": "2022-04-04T00:32:48.567737Z",
     "iopub.status.idle": "2022-04-04T00:32:48.711008Z",
     "shell.execute_reply": "2022-04-04T00:32:48.710463Z"
    },
    "papermill": {
     "duration": 0.171879,
     "end_time": "2022-04-04T00:32:48.711139",
     "exception": false,
     "start_time": "2022-04-04T00:32:48.539260",
     "status": "completed"
    },
    "tags": []
   },
   "outputs": [],
   "source": [
    "test_images = mnist.test_images()\n",
    "test_labels = mnist.test_labels()"
   ]
  },
  {
   "cell_type": "code",
   "execution_count": 8,
   "id": "fc38cf1b",
   "metadata": {
    "execution": {
     "iopub.execute_input": "2022-04-04T00:32:48.766798Z",
     "iopub.status.busy": "2022-04-04T00:32:48.766249Z",
     "iopub.status.idle": "2022-04-04T00:32:48.779677Z",
     "shell.execute_reply": "2022-04-04T00:32:48.780157Z"
    },
    "papermill": {
     "duration": 0.043317,
     "end_time": "2022-04-04T00:32:48.780295",
     "exception": false,
     "start_time": "2022-04-04T00:32:48.736978",
     "status": "completed"
    },
    "tags": []
   },
   "outputs": [
    {
     "data": {
      "text/plain": [
       "((10000, 28, 28), (10000,))"
      ]
     },
     "execution_count": 8,
     "metadata": {},
     "output_type": "execute_result"
    }
   ],
   "source": [
    "test_images.shape, test_labels.shape"
   ]
  },
  {
   "cell_type": "code",
   "execution_count": 9,
   "id": "f9ed8fe0",
   "metadata": {
    "execution": {
     "iopub.execute_input": "2022-04-04T00:32:48.836009Z",
     "iopub.status.busy": "2022-04-04T00:32:48.835497Z",
     "iopub.status.idle": "2022-04-04T00:32:48.984270Z",
     "shell.execute_reply": "2022-04-04T00:32:48.984744Z"
    },
    "papermill": {
     "duration": 0.178787,
     "end_time": "2022-04-04T00:32:48.984902",
     "exception": false,
     "start_time": "2022-04-04T00:32:48.806115",
     "status": "completed"
    },
    "tags": []
   },
   "outputs": [
    {
     "name": "stdout",
     "output_type": "stream",
     "text": [
      "2\n"
     ]
    },
    {
     "data": {
      "text/plain": [
       "<matplotlib.image.AxesImage at 0x7f3f2f2655c0>"
      ]
     },
     "execution_count": 9,
     "metadata": {},
     "output_type": "execute_result"
    },
    {
     "data": {
      "image/png": "[encoded data removed]",
      "text/plain": [
       "<Figure size 432x288 with 1 Axes>"
      ]
     },
     "metadata": {
      "needs_background": "light"
     },
     "output_type": "display_data"
    }
   ],
   "source": [
    "image_index = 7776 # You may select anything up to 60,000\n",
    "print(train_labels[image_index]) \n",
    "plt.imshow(train_images[image_index], cmap='Greys')"
   ]
  },
  {
   "cell_type": "markdown",
   "id": "a8d2388d",
   "metadata": {
    "papermill": {
     "duration": 0.026639,
     "end_time": "2022-04-04T00:32:49.038430",
     "exception": false,
     "start_time": "2022-04-04T00:32:49.011791",
     "status": "completed"
    },
    "tags": []
   },
   "source": [
    "## Filter data to get 3 and 8 out"
   ]
  },
  {
   "cell_type": "code",
   "execution_count": 10,
   "id": "776f7fc7",
   "metadata": {
    "execution": {
     "iopub.execute_input": "2022-04-04T00:32:49.098191Z",
     "iopub.status.busy": "2022-04-04T00:32:49.097637Z",
     "iopub.status.idle": "2022-04-04T00:32:49.114663Z",
     "shell.execute_reply": "2022-04-04T00:32:49.114218Z"
    },
    "papermill": {
     "duration": 0.049559,
     "end_time": "2022-04-04T00:32:49.114779",
     "exception": false,
     "start_time": "2022-04-04T00:32:49.065220",
     "status": "completed"
    },
    "tags": []
   },
   "outputs": [],
   "source": [
    "train_filter = np.where((train_labels == 3 ) | (train_labels == 8))\n",
    "test_filter = np.where((test_labels == 3) | (test_labels == 8))\n",
    "X_train, y_train = train_images[train_filter], train_labels[train_filter]\n",
    "X_test, y_test = test_images[test_filter], test_labels[test_filter]"
   ]
  },
  {
   "cell_type": "markdown",
   "id": "948f0b7e",
   "metadata": {
    "papermill": {
     "duration": 0.026508,
     "end_time": "2022-04-04T00:32:49.168101",
     "exception": false,
     "start_time": "2022-04-04T00:32:49.141593",
     "status": "completed"
    },
    "tags": []
   },
   "source": [
    "We normalize the pizel values in the 0 to 1 range"
   ]
  },
  {
   "cell_type": "code",
   "execution_count": 11,
   "id": "ee4c2166",
   "metadata": {
    "execution": {
     "iopub.execute_input": "2022-04-04T00:32:49.229416Z",
     "iopub.status.busy": "2022-04-04T00:32:49.228878Z",
     "iopub.status.idle": "2022-04-04T00:32:49.270216Z",
     "shell.execute_reply": "2022-04-04T00:32:49.270705Z"
    },
    "papermill": {
     "duration": 0.076378,
     "end_time": "2022-04-04T00:32:49.270872",
     "exception": false,
     "start_time": "2022-04-04T00:32:49.194494",
     "status": "completed"
    },
    "tags": []
   },
   "outputs": [],
   "source": [
    "X_train = X_train/255.\n",
    "X_test = X_test/255."
   ]
  },
  {
   "cell_type": "markdown",
   "id": "ddcf4fab",
   "metadata": {
    "papermill": {
     "duration": 0.02651,
     "end_time": "2022-04-04T00:32:49.324180",
     "exception": false,
     "start_time": "2022-04-04T00:32:49.297670",
     "status": "completed"
    },
    "tags": []
   },
   "source": [
    "And setup the labels as 1 (when the digit is 3) and 0 (when the digit is 8)"
   ]
  },
  {
   "cell_type": "code",
   "execution_count": 12,
   "id": "7dc908f2",
   "metadata": {
    "execution": {
     "iopub.execute_input": "2022-04-04T00:32:49.381452Z",
     "iopub.status.busy": "2022-04-04T00:32:49.380615Z",
     "iopub.status.idle": "2022-04-04T00:32:49.393796Z",
     "shell.execute_reply": "2022-04-04T00:32:49.393380Z"
    },
    "papermill": {
     "duration": 0.043062,
     "end_time": "2022-04-04T00:32:49.393912",
     "exception": false,
     "start_time": "2022-04-04T00:32:49.350850",
     "status": "completed"
    },
    "tags": []
   },
   "outputs": [],
   "source": [
    "y_train = 1*(y_train==3)\n",
    "y_test = 1*(y_test==3)"
   ]
  },
  {
   "cell_type": "code",
   "execution_count": 13,
   "id": "01e4e969",
   "metadata": {
    "execution": {
     "iopub.execute_input": "2022-04-04T00:32:49.454578Z",
     "iopub.status.busy": "2022-04-04T00:32:49.454042Z",
     "iopub.status.idle": "2022-04-04T00:32:49.466607Z",
     "shell.execute_reply": "2022-04-04T00:32:49.466177Z"
    },
    "papermill": {
     "duration": 0.046301,
     "end_time": "2022-04-04T00:32:49.466728",
     "exception": false,
     "start_time": "2022-04-04T00:32:49.420427",
     "status": "completed"
    },
    "tags": []
   },
   "outputs": [
    {
     "data": {
      "text/plain": [
       "((11982, 28, 28), (1984, 28, 28))"
      ]
     },
     "execution_count": 13,
     "metadata": {},
     "output_type": "execute_result"
    }
   ],
   "source": [
    "X_train.shape, X_test.shape"
   ]
  },
  {
   "cell_type": "markdown",
   "id": "5ccf3f85",
   "metadata": {
    "papermill": {
     "duration": 0.026677,
     "end_time": "2022-04-04T00:32:49.520169",
     "exception": false,
     "start_time": "2022-04-04T00:32:49.493492",
     "status": "completed"
    },
    "tags": []
   },
   "source": [
    "We reshape the data to flatten the image pixels into a set of features or co-variates:"
   ]
  },
  {
   "cell_type": "code",
   "execution_count": 14,
   "id": "5286a4a3",
   "metadata": {
    "execution": {
     "iopub.execute_input": "2022-04-04T00:32:49.586864Z",
     "iopub.status.busy": "2022-04-04T00:32:49.582986Z",
     "iopub.status.idle": "2022-04-04T00:32:49.593563Z",
     "shell.execute_reply": "2022-04-04T00:32:49.593140Z"
    },
    "papermill": {
     "duration": 0.046767,
     "end_time": "2022-04-04T00:32:49.593683",
     "exception": false,
     "start_time": "2022-04-04T00:32:49.546916",
     "status": "completed"
    },
    "tags": []
   },
   "outputs": [
    {
     "data": {
      "text/plain": [
       "((11982, 784), (1984, 784))"
      ]
     },
     "execution_count": 14,
     "metadata": {},
     "output_type": "execute_result"
    }
   ],
   "source": [
    "X_train = X_train.reshape(X_train.shape[0], -1)\n",
    "X_test = X_test.reshape(X_test.shape[0], -1)\n",
    "X_train.shape, X_test.shape"
   ]
  },
  {
   "cell_type": "code",
   "execution_count": 15,
   "id": "73c5f88a",
   "metadata": {
    "execution": {
     "iopub.execute_input": "2022-04-04T00:32:49.663376Z",
     "iopub.status.busy": "2022-04-04T00:32:49.662831Z",
     "iopub.status.idle": "2022-04-04T00:32:49.675517Z",
     "shell.execute_reply": "2022-04-04T00:32:49.675072Z"
    },
    "papermill": {
     "duration": 0.054688,
     "end_time": "2022-04-04T00:32:49.675634",
     "exception": false,
     "start_time": "2022-04-04T00:32:49.620946",
     "status": "completed"
    },
    "tags": []
   },
   "outputs": [],
   "source": [
    "#Impoting functions from 'Kudzu'\n",
    "from kudzu.model import Model\n",
    "from kudzu.train import Learner\n",
    "from kudzu.optim import GD\n",
    "from kudzu.data import Data, Sampler,Dataloader\n",
    "\n",
    "from kudzu.callbacks import AccCallback\n",
    "from kudzu.callbacks import ClfCallback\n",
    "\n",
    "from kudzu.loss import MSE\n",
    "\n",
    "from kudzu.layer import Sigmoid,Relu\n",
    "from kudzu.layer import Affine"
   ]
  },
  {
   "cell_type": "markdown",
   "id": "bc01172a",
   "metadata": {
    "papermill": {
     "duration": 0.028668,
     "end_time": "2022-04-04T00:32:49.740790",
     "exception": false,
     "start_time": "2022-04-04T00:32:49.712122",
     "status": "completed"
    },
    "tags": []
   },
   "source": [
    "### Let us create a `Config` class, to store important parameters. \n",
    "This class essentially plays the role of a dictionary."
   ]
  },
  {
   "cell_type": "code",
   "execution_count": 16,
   "id": "978281aa",
   "metadata": {
    "execution": {
     "iopub.execute_input": "2022-04-04T00:32:49.804380Z",
     "iopub.status.busy": "2022-04-04T00:32:49.803843Z",
     "iopub.status.idle": "2022-04-04T00:32:49.813395Z",
     "shell.execute_reply": "2022-04-04T00:32:49.813884Z"
    },
    "papermill": {
     "duration": 0.045656,
     "end_time": "2022-04-04T00:32:49.814037",
     "exception": false,
     "start_time": "2022-04-04T00:32:49.768381",
     "status": "completed"
    },
    "tags": []
   },
   "outputs": [],
   "source": [
    "class Config:\n",
    "    pass\n",
    "config = Config()\n",
    "config.lr = 0.001\n",
    "config.num_epochs = 250\n",
    "config.bs = 50"
   ]
  },
  {
   "cell_type": "markdown",
   "id": "1385fa59",
   "metadata": {
    "papermill": {
     "duration": 0.027111,
     "end_time": "2022-04-04T00:32:49.871298",
     "exception": false,
     "start_time": "2022-04-04T00:32:49.844187",
     "status": "completed"
    },
    "tags": []
   },
   "source": [
    "### Running Models with the Training data\n",
    "Details about the network layers:\n",
    "- A first affine layer has 784 inputs and does 100 affine transforms. These are followed by a Relu\n",
    "- A second affine layer has 100 inputs from the 100 activations of the past layer, and does 100 affine transforms. These are followed by a Relu\n",
    "- A third affine layer has 100 activations and does 2 affine transformations to create an embedding for visualization. There is no non-linearity here.\n",
    "- A final \"logistic regression\" which has an affine transform from 2 inputs to 1 output, which is squeezed through a sigmoid.\n"
   ]
  },
  {
   "cell_type": "code",
   "execution_count": 17,
   "id": "2b9c66db",
   "metadata": {
    "execution": {
     "iopub.execute_input": "2022-04-04T00:32:49.933863Z",
     "iopub.status.busy": "2022-04-04T00:32:49.933319Z",
     "iopub.status.idle": "2022-04-04T00:32:49.943066Z",
     "shell.execute_reply": "2022-04-04T00:32:49.943470Z"
    },
    "papermill": {
     "duration": 0.045269,
     "end_time": "2022-04-04T00:32:49.943610",
     "exception": false,
     "start_time": "2022-04-04T00:32:49.898341",
     "status": "completed"
    },
    "tags": []
   },
   "outputs": [],
   "source": [
    "data = Data(X_train, y_train.reshape(-1,1))\n",
    "sampler = Sampler(data, config.bs, shuffle=True)\n",
    "\n",
    "dl = Dataloader(data, sampler)\n",
    "\n",
    "opt = GD(config.lr)\n",
    "loss = MSE()"
   ]
  },
  {
   "cell_type": "code",
   "execution_count": 18,
   "id": "b275e4c2",
   "metadata": {
    "execution": {
     "iopub.execute_input": "2022-04-04T00:32:50.002030Z",
     "iopub.status.busy": "2022-04-04T00:32:50.001482Z",
     "iopub.status.idle": "2022-04-04T00:32:50.015179Z",
     "shell.execute_reply": "2022-04-04T00:32:50.014751Z"
    },
    "papermill": {
     "duration": 0.044565,
     "end_time": "2022-04-04T00:32:50.015304",
     "exception": false,
     "start_time": "2022-04-04T00:32:49.970739",
     "status": "completed"
    },
    "tags": []
   },
   "outputs": [],
   "source": [
    "training_data_x = X_train\n",
    "testing_data_x = X_test\n",
    "training_data_y = y_train.reshape(-1,1)\n",
    "testing_data_y = y_test.reshape(-1,1)"
   ]
  },
  {
   "cell_type": "code",
   "execution_count": 19,
   "id": "76951160",
   "metadata": {
    "execution": {
     "iopub.execute_input": "2022-04-04T00:32:50.075461Z",
     "iopub.status.busy": "2022-04-04T00:32:50.074932Z",
     "iopub.status.idle": "2022-04-04T00:32:50.113183Z",
     "shell.execute_reply": "2022-04-04T00:32:50.113848Z"
    },
    "papermill": {
     "duration": 0.071607,
     "end_time": "2022-04-04T00:32:50.114057",
     "exception": false,
     "start_time": "2022-04-04T00:32:50.042450",
     "status": "completed"
    },
    "tags": []
   },
   "outputs": [
    {
     "name": "stdout",
     "output_type": "stream",
     "text": [
      "xavier\n",
      "xavier\n",
      "xavier\n",
      "xavier\n",
      "xavier\n"
     ]
    }
   ],
   "source": [
    "layers = [Affine(\"first\", 784, 100), Relu(\"first\"), Affine(\"second\", 100, 100), Relu(\"second\"), Affine(\"third\", 100, 2), Affine(\"last\", 2, 1), Sigmoid(\"last\")]\n",
    "model_nn = Model(layers)\n",
    "model_lr = Model([Affine(\"logits\", 784, 1), Sigmoid(\"sigmoid\")])"
   ]
  },
  {
   "cell_type": "code",
   "execution_count": 20,
   "id": "6eede77a",
   "metadata": {
    "execution": {
     "iopub.execute_input": "2022-04-04T00:32:50.177627Z",
     "iopub.status.busy": "2022-04-04T00:32:50.177068Z",
     "iopub.status.idle": "2022-04-04T00:32:50.190098Z",
     "shell.execute_reply": "2022-04-04T00:32:50.189138Z"
    },
    "papermill": {
     "duration": 0.04684,
     "end_time": "2022-04-04T00:32:50.190227",
     "exception": false,
     "start_time": "2022-04-04T00:32:50.143387",
     "status": "completed"
    },
    "tags": []
   },
   "outputs": [],
   "source": [
    "nn_learner = Learner(loss, model_nn, opt, config.num_epochs)\n",
    "acc_nn = ClfCallback(nn_learner, config.bs, training_data_x , testing_data_x, training_data_y, testing_data_y)\n",
    "nn_learner.set_callbacks([acc_nn])"
   ]
  },
  {
   "cell_type": "code",
   "execution_count": 21,
   "id": "877b6cc7",
   "metadata": {
    "execution": {
     "iopub.execute_input": "2022-04-04T00:32:50.251675Z",
     "iopub.status.busy": "2022-04-04T00:32:50.249251Z",
     "iopub.status.idle": "2022-04-04T00:32:50.262345Z",
     "shell.execute_reply": "2022-04-04T00:32:50.261893Z"
    },
    "papermill": {
     "duration": 0.044462,
     "end_time": "2022-04-04T00:32:50.262468",
     "exception": false,
     "start_time": "2022-04-04T00:32:50.218006",
     "status": "completed"
    },
    "tags": []
   },
   "outputs": [],
   "source": [
    "lr_learner = Learner(loss, model_lr, opt, config.num_epochs)\n",
    "acc_lr = ClfCallback(lr_learner, config.bs, training_data_x , testing_data_x, training_data_y, testing_data_y)\n",
    "lr_learner.set_callbacks([acc_lr])"
   ]
  },
  {
   "cell_type": "code",
   "execution_count": 22,
   "id": "d9b133c3",
   "metadata": {
    "execution": {
     "iopub.execute_input": "2022-04-04T00:32:50.323607Z",
     "iopub.status.busy": "2022-04-04T00:32:50.323084Z",
     "iopub.status.idle": "2022-04-04T00:34:10.676070Z",
     "shell.execute_reply": "2022-04-04T00:34:10.676836Z"
    },
    "papermill": {
     "duration": 80.386768,
     "end_time": "2022-04-04T00:34:10.677002",
     "exception": false,
     "start_time": "2022-04-04T00:32:50.290234",
     "status": "completed"
    },
    "tags": []
   },
   "outputs": [
    {
     "name": "stdout",
     "output_type": "stream",
     "text": [
      "Epoch 0, Loss 0.2259\n",
      "Training Accuracy: 0.7755, Testing Accuracy: 0.7818\n",
      "\n"
     ]
    },
    {
     "name": "stdout",
     "output_type": "stream",
     "text": [
      "Epoch 10, Loss 0.0757\n",
      "Training Accuracy: 0.9223, Testing Accuracy: 0.9320\n",
      "\n"
     ]
    },
    {
     "name": "stdout",
     "output_type": "stream",
     "text": [
      "Epoch 20, Loss 0.0501\n",
      "Training Accuracy: 0.9456, Testing Accuracy: 0.9531\n",
      "\n"
     ]
    },
    {
     "name": "stdout",
     "output_type": "stream",
     "text": [
      "Epoch 30, Loss 0.0406\n",
      "Training Accuracy: 0.9546, Testing Accuracy: 0.9617\n",
      "\n"
     ]
    },
    {
     "name": "stdout",
     "output_type": "stream",
     "text": [
      "Epoch 40, Loss 0.0358\n",
      "Training Accuracy: 0.9582, Testing Accuracy: 0.9662\n",
      "\n"
     ]
    },
    {
     "name": "stdout",
     "output_type": "stream",
     "text": [
      "Epoch 50, Loss 0.0328\n",
      "Training Accuracy: 0.9622, Testing Accuracy: 0.9677\n",
      "\n"
     ]
    },
    {
     "name": "stdout",
     "output_type": "stream",
     "text": [
      "Epoch 60, Loss 0.0306\n",
      "Training Accuracy: 0.9649, Testing Accuracy: 0.9688\n",
      "\n"
     ]
    },
    {
     "name": "stdout",
     "output_type": "stream",
     "text": [
      "Epoch 70, Loss 0.029\n",
      "Training Accuracy: 0.9670, Testing Accuracy: 0.9698\n",
      "\n"
     ]
    },
    {
     "name": "stdout",
     "output_type": "stream",
     "text": [
      "Epoch 80, Loss 0.0276\n",
      "Training Accuracy: 0.9689, Testing Accuracy: 0.9703\n",
      "\n"
     ]
    },
    {
     "name": "stdout",
     "output_type": "stream",
     "text": [
      "Epoch 90, Loss 0.0264\n",
      "Training Accuracy: 0.9704, Testing Accuracy: 0.9718\n",
      "\n"
     ]
    },
    {
     "name": "stdout",
     "output_type": "stream",
     "text": [
      "Epoch 100, Loss 0.0255\n",
      "Training Accuracy: 0.9713, Testing Accuracy: 0.9713\n",
      "\n"
     ]
    },
    {
     "name": "stdout",
     "output_type": "stream",
     "text": [
      "Epoch 110, Loss 0.0246\n",
      "Training Accuracy: 0.9722, Testing Accuracy: 0.9718\n",
      "\n"
     ]
    },
    {
     "name": "stdout",
     "output_type": "stream",
     "text": [
      "Epoch 120, Loss 0.0238\n",
      "Training Accuracy: 0.9732, Testing Accuracy: 0.9723\n",
      "\n"
     ]
    },
    {
     "name": "stdout",
     "output_type": "stream",
     "text": [
      "Epoch 130, Loss 0.0231\n",
      "Training Accuracy: 0.9737, Testing Accuracy: 0.9733\n",
      "\n"
     ]
    },
    {
     "name": "stdout",
     "output_type": "stream",
     "text": [
      "Epoch 140, Loss 0.0224\n",
      "Training Accuracy: 0.9742, Testing Accuracy: 0.9733\n",
      "\n"
     ]
    },
    {
     "name": "stdout",
     "output_type": "stream",
     "text": [
      "Epoch 150, Loss 0.0218\n",
      "Training Accuracy: 0.9747, Testing Accuracy: 0.9738\n",
      "\n"
     ]
    },
    {
     "name": "stdout",
     "output_type": "stream",
     "text": [
      "Epoch 160, Loss 0.0212\n",
      "Training Accuracy: 0.9758, Testing Accuracy: 0.9738\n",
      "\n"
     ]
    },
    {
     "name": "stdout",
     "output_type": "stream",
     "text": [
      "Epoch 170, Loss 0.0207\n",
      "Training Accuracy: 0.9761, Testing Accuracy: 0.9743\n",
      "\n"
     ]
    },
    {
     "name": "stdout",
     "output_type": "stream",
     "text": [
      "Epoch 180, Loss 0.0202\n",
      "Training Accuracy: 0.9770, Testing Accuracy: 0.9743\n",
      "\n"
     ]
    },
    {
     "name": "stdout",
     "output_type": "stream",
     "text": [
      "Epoch 190, Loss 0.0197\n",
      "Training Accuracy: 0.9774, Testing Accuracy: 0.9748\n",
      "\n"
     ]
    },
    {
     "name": "stdout",
     "output_type": "stream",
     "text": [
      "Epoch 200, Loss 0.0193\n",
      "Training Accuracy: 0.9780, Testing Accuracy: 0.9748\n",
      "\n"
     ]
    },
    {
     "name": "stdout",
     "output_type": "stream",
     "text": [
      "Epoch 210, Loss 0.0188\n",
      "Training Accuracy: 0.9786, Testing Accuracy: 0.9748\n",
      "\n"
     ]
    },
    {
     "name": "stdout",
     "output_type": "stream",
     "text": [
      "Epoch 220, Loss 0.0184\n",
      "Training Accuracy: 0.9793, Testing Accuracy: 0.9758\n",
      "\n"
     ]
    },
    {
     "name": "stdout",
     "output_type": "stream",
     "text": [
      "Epoch 230, Loss 0.018\n",
      "Training Accuracy: 0.9799, Testing Accuracy: 0.9758\n",
      "\n"
     ]
    },
    {
     "name": "stdout",
     "output_type": "stream",
     "text": [
      "Epoch 240, Loss 0.0176\n",
      "Training Accuracy: 0.9806, Testing Accuracy: 0.9758\n",
      "\n"
     ]
    },
    {
     "data": {
      "text/plain": [
       "0.008627768047031583"
      ]
     },
     "execution_count": 22,
     "metadata": {},
     "output_type": "execute_result"
    }
   ],
   "source": [
    "nn_learner.train_loop(dl)"
   ]
  },
  {
   "cell_type": "code",
   "execution_count": 23,
   "id": "e0163366",
   "metadata": {
    "execution": {
     "iopub.execute_input": "2022-04-04T00:34:10.759501Z",
     "iopub.status.busy": "2022-04-04T00:34:10.758948Z",
     "iopub.status.idle": "2022-04-04T00:34:25.777366Z",
     "shell.execute_reply": "2022-04-04T00:34:25.778121Z"
    },
    "papermill": {
     "duration": 15.06582,
     "end_time": "2022-04-04T00:34:25.778270",
     "exception": false,
     "start_time": "2022-04-04T00:34:10.712450",
     "status": "completed"
    },
    "tags": []
   },
   "outputs": [
    {
     "name": "stdout",
     "output_type": "stream",
     "text": [
      "Epoch 0, Loss 0.2478\n",
      "Training Accuracy: 0.6533, Testing Accuracy: 0.6497\n",
      "\n"
     ]
    },
    {
     "name": "stdout",
     "output_type": "stream",
     "text": [
      "Epoch 10, Loss 0.106\n",
      "Training Accuracy: 0.8997, Testing Accuracy: 0.9108\n",
      "\n"
     ]
    },
    {
     "name": "stdout",
     "output_type": "stream",
     "text": [
      "Epoch 20, Loss 0.081\n",
      "Training Accuracy: 0.9235, Testing Accuracy: 0.9340\n",
      "\n"
     ]
    },
    {
     "name": "stdout",
     "output_type": "stream",
     "text": [
      "Epoch 30, Loss 0.0694\n",
      "Training Accuracy: 0.9346, Testing Accuracy: 0.9430\n",
      "\n"
     ]
    },
    {
     "name": "stdout",
     "output_type": "stream",
     "text": [
      "Epoch 40, Loss 0.0624\n",
      "Training Accuracy: 0.9407, Testing Accuracy: 0.9536\n",
      "\n"
     ]
    },
    {
     "name": "stdout",
     "output_type": "stream",
     "text": [
      "Epoch 50, Loss 0.0577\n",
      "Training Accuracy: 0.9449, Testing Accuracy: 0.9572\n",
      "\n"
     ]
    },
    {
     "name": "stdout",
     "output_type": "stream",
     "text": [
      "Epoch 60, Loss 0.0543\n",
      "Training Accuracy: 0.9468, Testing Accuracy: 0.9582\n",
      "\n"
     ]
    },
    {
     "name": "stdout",
     "output_type": "stream",
     "text": [
      "Epoch 70, Loss 0.0516\n",
      "Training Accuracy: 0.9481, Testing Accuracy: 0.9587\n",
      "\n"
     ]
    },
    {
     "name": "stdout",
     "output_type": "stream",
     "text": [
      "Epoch 80, Loss 0.0495\n",
      "Training Accuracy: 0.9496, Testing Accuracy: 0.9597\n",
      "\n"
     ]
    },
    {
     "name": "stdout",
     "output_type": "stream",
     "text": [
      "Epoch 90, Loss 0.0478\n",
      "Training Accuracy: 0.9512, Testing Accuracy: 0.9597\n",
      "\n"
     ]
    },
    {
     "name": "stdout",
     "output_type": "stream",
     "text": [
      "Epoch 100, Loss 0.0463\n",
      "Training Accuracy: 0.9524, Testing Accuracy: 0.9617\n",
      "\n"
     ]
    },
    {
     "name": "stdout",
     "output_type": "stream",
     "text": [
      "Epoch 110, Loss 0.0451\n",
      "Training Accuracy: 0.9530, Testing Accuracy: 0.9622\n",
      "\n"
     ]
    },
    {
     "name": "stdout",
     "output_type": "stream",
     "text": [
      "Epoch 120, Loss 0.044\n",
      "Training Accuracy: 0.9538, Testing Accuracy: 0.9632\n",
      "\n"
     ]
    },
    {
     "name": "stdout",
     "output_type": "stream",
     "text": [
      "Epoch 130, Loss 0.0431\n",
      "Training Accuracy: 0.9553, Testing Accuracy: 0.9637\n",
      "\n"
     ]
    },
    {
     "name": "stdout",
     "output_type": "stream",
     "text": [
      "Epoch 140, Loss 0.0422\n",
      "Training Accuracy: 0.9559, Testing Accuracy: 0.9642\n",
      "\n"
     ]
    },
    {
     "name": "stdout",
     "output_type": "stream",
     "text": [
      "Epoch 150, Loss 0.0415\n",
      "Training Accuracy: 0.9561, Testing Accuracy: 0.9647\n",
      "\n"
     ]
    },
    {
     "name": "stdout",
     "output_type": "stream",
     "text": [
      "Epoch 160, Loss 0.0408\n",
      "Training Accuracy: 0.9569, Testing Accuracy: 0.9647\n",
      "\n"
     ]
    },
    {
     "name": "stdout",
     "output_type": "stream",
     "text": [
      "Epoch 170, Loss 0.0402\n",
      "Training Accuracy: 0.9580, Testing Accuracy: 0.9657\n",
      "\n"
     ]
    },
    {
     "name": "stdout",
     "output_type": "stream",
     "text": [
      "Epoch 180, Loss 0.0396\n",
      "Training Accuracy: 0.9586, Testing Accuracy: 0.9667\n",
      "\n"
     ]
    },
    {
     "name": "stdout",
     "output_type": "stream",
     "text": [
      "Epoch 190, Loss 0.0391\n",
      "Training Accuracy: 0.9589, Testing Accuracy: 0.9672\n",
      "\n"
     ]
    },
    {
     "name": "stdout",
     "output_type": "stream",
     "text": [
      "Epoch 200, Loss 0.0386\n",
      "Training Accuracy: 0.9591, Testing Accuracy: 0.9672\n",
      "\n"
     ]
    },
    {
     "name": "stdout",
     "output_type": "stream",
     "text": [
      "Epoch 210, Loss 0.0381\n",
      "Training Accuracy: 0.9595, Testing Accuracy: 0.9672\n",
      "\n"
     ]
    },
    {
     "name": "stdout",
     "output_type": "stream",
     "text": [
      "Epoch 220, Loss 0.0377\n",
      "Training Accuracy: 0.9601, Testing Accuracy: 0.9667\n",
      "\n"
     ]
    },
    {
     "name": "stdout",
     "output_type": "stream",
     "text": [
      "Epoch 230, Loss 0.0373\n",
      "Training Accuracy: 0.9604, Testing Accuracy: 0.9662\n",
      "\n"
     ]
    },
    {
     "name": "stdout",
     "output_type": "stream",
     "text": [
      "Epoch 240, Loss 0.037\n",
      "Training Accuracy: 0.9604, Testing Accuracy: 0.9662\n",
      "\n"
     ]
    },
    {
     "data": {
      "text/plain": [
       "0.036651573975634406"
      ]
     },
     "execution_count": 23,
     "metadata": {},
     "output_type": "execute_result"
    }
   ],
   "source": [
    "lr_learner.train_loop(dl)"
   ]
  },
  {
   "cell_type": "code",
   "execution_count": 24,
   "id": "ca410940",
   "metadata": {
    "execution": {
     "iopub.execute_input": "2022-04-04T00:34:25.871504Z",
     "iopub.status.busy": "2022-04-04T00:34:25.870925Z",
     "iopub.status.idle": "2022-04-04T00:34:26.108278Z",
     "shell.execute_reply": "2022-04-04T00:34:26.107800Z"
    },
    "papermill": {
     "duration": 0.288173,
     "end_time": "2022-04-04T00:34:26.108405",
     "exception": false,
     "start_time": "2022-04-04T00:34:25.820232",
     "status": "completed"
    },
    "tags": []
   },
   "outputs": [
    {
     "data": {
      "text/plain": [
       "<matplotlib.legend.Legend at 0x7f3f22694d68>"
      ]
     },
     "execution_count": 24,
     "metadata": {},
     "output_type": "execute_result"
    },
    {
     "data": {
      "image/png": "[encoded data removed]",
      "text/plain": [
       "<Figure size 1080x720 with 1 Axes>"
      ]
     },
     "metadata": {
      "needs_background": "light"
     },
     "output_type": "display_data"
    }
   ],
   "source": [
    "#comparing the results of NN and LR\n",
    "plt.figure(figsize=(15,10))\n",
    "\n",
    "# Neural Network plots\n",
    "plt.plot(acc_nn.accuracies, 'r-', label = \"Training Accuracies - NN\")\n",
    "plt.plot(acc_nn.test_accuracies, 'g-', label = \"Testing Accuracies - NN\")\n",
    "\n",
    "# Logistic Regression plots\n",
    "plt.plot(acc_lr.accuracies, 'k-', label = \"Training Accuracies - LR\")\n",
    "plt.plot(acc_lr.test_accuracies, 'b-', label = \"Testing Accuracies - LR\")\n",
    "plt.legend()"
   ]
  },
  {
   "cell_type": "markdown",
   "id": "80dfb35c",
   "metadata": {
    "papermill": {
     "duration": 0.042796,
     "end_time": "2022-04-04T00:34:26.194075",
     "exception": false,
     "start_time": "2022-04-04T00:34:26.151279",
     "status": "completed"
    },
    "tags": []
   },
   "source": [
    "#### Plotting the outputs of this layer of the NN.\n"
   ]
  },
  {
   "cell_type": "code",
   "execution_count": 25,
   "id": "45eb2ff5",
   "metadata": {
    "execution": {
     "iopub.execute_input": "2022-04-04T00:34:26.283630Z",
     "iopub.status.busy": "2022-04-04T00:34:26.283078Z",
     "iopub.status.idle": "2022-04-04T00:34:26.304528Z",
     "shell.execute_reply": "2022-04-04T00:34:26.304050Z"
    },
    "papermill": {
     "duration": 0.068144,
     "end_time": "2022-04-04T00:34:26.304658",
     "exception": false,
     "start_time": "2022-04-04T00:34:26.236514",
     "status": "completed"
    },
    "tags": []
   },
   "outputs": [],
   "source": [
    "new_model = Model(layers[:-2])\n",
    "testing_plot = new_model(testing_data_x)"
   ]
  },
  {
   "cell_type": "code",
   "execution_count": 26,
   "id": "4c0a5485",
   "metadata": {
    "execution": {
     "iopub.execute_input": "2022-04-04T00:34:26.394587Z",
     "iopub.status.busy": "2022-04-04T00:34:26.394033Z",
     "iopub.status.idle": "2022-04-04T00:34:26.586544Z",
     "shell.execute_reply": "2022-04-04T00:34:26.586066Z"
    },
    "papermill": {
     "duration": 0.238964,
     "end_time": "2022-04-04T00:34:26.586674",
     "exception": false,
     "start_time": "2022-04-04T00:34:26.347710",
     "status": "completed"
    },
    "tags": []
   },
   "outputs": [
    {
     "data": {
      "text/plain": [
       "Text(0.5, 1.0, 'Outputs')"
      ]
     },
     "execution_count": 26,
     "metadata": {},
     "output_type": "execute_result"
    },
    {
     "data": {
      "image/png": "[encoded data removed]",
      "text/plain": [
       "<Figure size 576x504 with 1 Axes>"
      ]
     },
     "metadata": {
      "needs_background": "light"
     },
     "output_type": "display_data"
    }
   ],
   "source": [
    "# Plotting the scatter plot of points and color coding by class\n",
    "plt.figure(figsize=(8,7))\n",
    "plt.scatter(testing_plot[:,0], testing_plot[:,1], alpha = 0.1, c = y_test.ravel());\n",
    "plt.title('Outputs')"
   ]
  },
  {
   "cell_type": "markdown",
   "id": "a74fcf8f",
   "metadata": {
    "papermill": {
     "duration": 0.04479,
     "end_time": "2022-04-04T00:34:26.676069",
     "exception": false,
     "start_time": "2022-04-04T00:34:26.631279",
     "status": "completed"
    },
    "tags": []
   },
   "source": [
    "Probability contours"
   ]
  },
  {
   "cell_type": "code",
   "execution_count": 27,
   "id": "d0afc8e3",
   "metadata": {
    "execution": {
     "iopub.execute_input": "2022-04-04T00:34:26.771717Z",
     "iopub.status.busy": "2022-04-04T00:34:26.771103Z",
     "iopub.status.idle": "2022-04-04T00:34:26.781970Z",
     "shell.execute_reply": "2022-04-04T00:34:26.782399Z"
    },
    "papermill": {
     "duration": 0.061464,
     "end_time": "2022-04-04T00:34:26.782538",
     "exception": false,
     "start_time": "2022-04-04T00:34:26.721074",
     "status": "completed"
    },
    "tags": []
   },
   "outputs": [],
   "source": [
    "model_prob = Model(layers[-2:]) "
   ]
  },
  {
   "cell_type": "code",
   "execution_count": 28,
   "id": "9b96e238",
   "metadata": {
    "execution": {
     "iopub.execute_input": "2022-04-04T00:34:26.913746Z",
     "iopub.status.busy": "2022-04-04T00:34:26.913215Z",
     "iopub.status.idle": "2022-04-04T00:34:26.924639Z",
     "shell.execute_reply": "2022-04-04T00:34:26.925031Z"
    },
    "papermill": {
     "duration": 0.063778,
     "end_time": "2022-04-04T00:34:26.925182",
     "exception": false,
     "start_time": "2022-04-04T00:34:26.861404",
     "status": "completed"
    },
    "tags": []
   },
   "outputs": [],
   "source": [
    "#creating the x and y ranges according to the above generated plot.\n",
    "x_range = np.linspace(-4, 1, 100) \n",
    "y_range = np.linspace(-6, 6, 100) \n",
    "x_grid, y_grid = np.meshgrid(x_range, y_range) # x_grid and y_grig are of size 100 X 100\n",
    "\n",
    "# converting x_grid and y_grid to continuous arrays\n",
    "x_gridflat = np.ravel(x_grid)\n",
    "y_gridflat = np.ravel(y_grid)\n",
    "\n",
    "# The last layer of the current model takes two columns as input. Hence transpose of np.vstack() is required.\n",
    "X = np.vstack((x_gridflat, y_gridflat)).T\n",
    "\n",
    "prob_contour = model_prob(X).reshape(100,100) "
   ]
  },
  {
   "cell_type": "code",
   "execution_count": 29,
   "id": "da72499a",
   "metadata": {
    "execution": {
     "iopub.execute_input": "2022-04-04T00:34:27.023863Z",
     "iopub.status.busy": "2022-04-04T00:34:27.023338Z",
     "iopub.status.idle": "2022-04-04T00:34:27.259856Z",
     "shell.execute_reply": "2022-04-04T00:34:27.259369Z"
    },
    "papermill": {
     "duration": 0.28983,
     "end_time": "2022-04-04T00:34:27.259982",
     "exception": false,
     "start_time": "2022-04-04T00:34:26.970152",
     "status": "completed"
    },
    "tags": []
   },
   "outputs": [
    {
     "data": {
      "image/png": "[encoded data removed]",
      "text/plain": [
       "<Figure size 720x648 with 1 Axes>"
      ]
     },
     "metadata": {
      "needs_background": "light"
     },
     "output_type": "display_data"
    }
   ],
   "source": [
    "plt.figure(figsize=(10,9))\n",
    "plt.scatter(testing_plot[:,0], testing_plot[:,1], alpha = 0.1, c = y_test.ravel())\n",
    "contours = plt.contour(x_grid,y_grid,prob_contour)\n",
    "plt.title('Probability Contours')\n",
    "plt.clabel(contours, inline = True );"
   ]
  },
  {
   "cell_type": "code",
   "execution_count": null,
   "id": "e81b4ac7",
   "metadata": {
    "papermill": {
     "duration": 0.047258,
     "end_time": "2022-04-04T00:34:27.354672",
     "exception": false,
     "start_time": "2022-04-04T00:34:27.307414",
     "status": "completed"
    },
    "tags": []
   },
   "outputs": [],
   "source": []
  }
 ],
 "metadata": {
  "kernelspec": {
   "display_name": "Python 3",
   "language": "python",
   "name": "python3"
  },
  "language_info": {
   "codemirror_mode": {
    "name": "ipython",
    "version": 3
   },
   "file_extension": ".py",
   "mimetype": "text/x-python",
   "name": "python",
   "nbconvert_exporter": "python",
   "pygments_lexer": "ipython3",
   "version": "3.6.15"
  },
  "papermill": {
   "default_parameters": {},
   "duration": 104.477603,
   "end_time": "2022-04-04T00:34:27.820413",
   "environment_variables": {},
   "exception": null,
   "input_path": "2020-08-11-part2.ipynb",
   "output_path": "2020-08-11-part2.ipynb",
   "parameters": {},
   "start_time": "2022-04-04T00:32:43.342810",
   "version": "2.3.3"
  }
 },
 "nbformat": 4,
 "nbformat_minor": 5
}