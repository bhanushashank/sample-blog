{
 "cells": [
  {
   "cell_type": "markdown",
   "id": "98380cd3",
   "metadata": {
    "papermill": {
     "duration": 0.02911,
     "end_time": "2022-09-02T20:10:34.675250",
     "exception": false,
     "start_time": "2022-09-02T20:10:34.646140",
     "status": "completed"
    },
    "tags": []
   },
   "source": [
    "# Distinguish Your Own Digits (DYOD)"
   ]
  },
  {
   "cell_type": "markdown",
   "id": "ef31240d",
   "metadata": {
    "papermill": {
     "duration": 0.025537,
     "end_time": "2022-09-02T20:10:34.726759",
     "exception": false,
     "start_time": "2022-09-02T20:10:34.701222",
     "status": "completed"
    },
    "tags": []
   },
   "source": [
    "You are going to write a classifier that distinguishes between the number 3 and number 8."
   ]
  },
  {
   "cell_type": "code",
   "execution_count": 1,
   "id": "b15c8646",
   "metadata": {
    "execution": {
     "iopub.execute_input": "2022-09-02T20:10:34.790322Z",
     "iopub.status.busy": "2022-09-02T20:10:34.789108Z",
     "iopub.status.idle": "2022-09-02T20:10:34.801026Z",
     "shell.execute_reply": "2022-09-02T20:10:34.800455Z"
    },
    "papermill": {
     "duration": 0.050433,
     "end_time": "2022-09-02T20:10:34.801173",
     "exception": false,
     "start_time": "2022-09-02T20:10:34.750740",
     "status": "completed"
    },
    "tags": []
   },
   "outputs": [],
   "source": [
    "%load_ext autoreload\n",
    "%autoreload 2"
   ]
  },
  {
   "cell_type": "code",
   "execution_count": 2,
   "id": "22ef38dc",
   "metadata": {
    "execution": {
     "iopub.execute_input": "2022-09-02T20:10:34.856554Z",
     "iopub.status.busy": "2022-09-02T20:10:34.855890Z",
     "iopub.status.idle": "2022-09-02T20:10:35.445158Z",
     "shell.execute_reply": "2022-09-02T20:10:35.444078Z"
    },
    "papermill": {
     "duration": 0.619722,
     "end_time": "2022-09-02T20:10:35.445303",
     "exception": false,
     "start_time": "2022-09-02T20:10:34.825581",
     "status": "completed"
    },
    "tags": []
   },
   "outputs": [],
   "source": [
    "%matplotlib inline\n",
    "import numpy as np\n",
    "import matplotlib.pyplot as plt\n",
    "import pandas as pd"
   ]
  },
  {
   "cell_type": "markdown",
   "id": "ba036198",
   "metadata": {
    "papermill": {
     "duration": 0.026473,
     "end_time": "2022-09-02T20:10:35.498509",
     "exception": false,
     "start_time": "2022-09-02T20:10:35.472036",
     "status": "completed"
    },
    "tags": []
   },
   "source": [
    "From the command line run `pip install mnist`. This is a library that will help you bring down the mnist dataset. If you run this from a notebook, you need to put  `!pip install mnist` in a cell by itself."
   ]
  },
  {
   "cell_type": "code",
   "execution_count": 3,
   "id": "bb6ad8a1",
   "metadata": {
    "execution": {
     "iopub.execute_input": "2022-09-02T20:10:35.555894Z",
     "iopub.status.busy": "2022-09-02T20:10:35.555158Z",
     "iopub.status.idle": "2022-09-02T20:10:37.328002Z",
     "shell.execute_reply": "2022-09-02T20:10:37.328870Z"
    },
    "papermill": {
     "duration": 1.806916,
     "end_time": "2022-09-02T20:10:37.329092",
     "exception": false,
     "start_time": "2022-09-02T20:10:35.522176",
     "status": "completed"
    },
    "tags": []
   },
   "outputs": [
    {
     "name": "stdout",
     "output_type": "stream",
     "text": [
      "Collecting mnist\r\n"
     ]
    },
    {
     "name": "stdout",
     "output_type": "stream",
     "text": [
      "  Downloading mnist-0.2.2-py2.py3-none-any.whl (3.5 kB)\r\n",
      "Requirement already satisfied: numpy in /opt/hostedtoolcache/Python/3.6.15/x64/lib/python3.6/site-packages (from mnist) (1.19.5)\r\n"
     ]
    },
    {
     "name": "stdout",
     "output_type": "stream",
     "text": [
      "Installing collected packages: mnist\r\n"
     ]
    },
    {
     "name": "stdout",
     "output_type": "stream",
     "text": [
      "Successfully installed mnist-0.2.2\r\n"
     ]
    }
   ],
   "source": [
    "!pip install mnist"
   ]
  },
  {
   "cell_type": "markdown",
   "id": "69df9c9a",
   "metadata": {
    "papermill": {
     "duration": 0.027565,
     "end_time": "2022-09-02T20:10:37.385001",
     "exception": false,
     "start_time": "2022-09-02T20:10:37.357436",
     "status": "completed"
    },
    "tags": []
   },
   "source": [
    "## Preparing the Data"
   ]
  },
  {
   "cell_type": "code",
   "execution_count": 4,
   "id": "7f69d806",
   "metadata": {
    "execution": {
     "iopub.execute_input": "2022-09-02T20:10:37.444434Z",
     "iopub.status.busy": "2022-09-02T20:10:37.442817Z",
     "iopub.status.idle": "2022-09-02T20:10:37.459715Z",
     "shell.execute_reply": "2022-09-02T20:10:37.459172Z"
    },
    "papermill": {
     "duration": 0.048376,
     "end_time": "2022-09-02T20:10:37.459857",
     "exception": false,
     "start_time": "2022-09-02T20:10:37.411481",
     "status": "completed"
    },
    "tags": []
   },
   "outputs": [],
   "source": [
    "import mnist"
   ]
  },
  {
   "cell_type": "code",
   "execution_count": 5,
   "id": "a411e44f",
   "metadata": {
    "execution": {
     "iopub.execute_input": "2022-09-02T20:10:37.520191Z",
     "iopub.status.busy": "2022-09-02T20:10:37.519502Z",
     "iopub.status.idle": "2022-09-02T20:10:38.223723Z",
     "shell.execute_reply": "2022-09-02T20:10:38.222705Z"
    },
    "papermill": {
     "duration": 0.73682,
     "end_time": "2022-09-02T20:10:38.223954",
     "exception": false,
     "start_time": "2022-09-02T20:10:37.487134",
     "status": "completed"
    },
    "tags": []
   },
   "outputs": [],
   "source": [
    "train_images = mnist.train_images()\n",
    "train_labels = mnist.train_labels()"
   ]
  },
  {
   "cell_type": "code",
   "execution_count": 6,
   "id": "dceab3a5",
   "metadata": {
    "execution": {
     "iopub.execute_input": "2022-09-02T20:10:38.282535Z",
     "iopub.status.busy": "2022-09-02T20:10:38.281861Z",
     "iopub.status.idle": "2022-09-02T20:10:38.298497Z",
     "shell.execute_reply": "2022-09-02T20:10:38.297944Z"
    },
    "papermill": {
     "duration": 0.047054,
     "end_time": "2022-09-02T20:10:38.298618",
     "exception": false,
     "start_time": "2022-09-02T20:10:38.251564",
     "status": "completed"
    },
    "tags": []
   },
   "outputs": [
    {
     "data": {
      "text/plain": [
       "((60000, 28, 28), (60000,))"
      ]
     },
     "execution_count": 6,
     "metadata": {},
     "output_type": "execute_result"
    }
   ],
   "source": [
    "train_images.shape, train_labels.shape"
   ]
  },
  {
   "cell_type": "code",
   "execution_count": 7,
   "id": "f50dc2bb",
   "metadata": {
    "execution": {
     "iopub.execute_input": "2022-09-02T20:10:38.356268Z",
     "iopub.status.busy": "2022-09-02T20:10:38.355643Z",
     "iopub.status.idle": "2022-09-02T20:10:38.566759Z",
     "shell.execute_reply": "2022-09-02T20:10:38.565731Z"
    },
    "papermill": {
     "duration": 0.242704,
     "end_time": "2022-09-02T20:10:38.566975",
     "exception": false,
     "start_time": "2022-09-02T20:10:38.324271",
     "status": "completed"
    },
    "tags": []
   },
   "outputs": [],
   "source": [
    "test_images = mnist.test_images()\n",
    "test_labels = mnist.test_labels()"
   ]
  },
  {
   "cell_type": "code",
   "execution_count": 8,
   "id": "fc38cf1b",
   "metadata": {
    "execution": {
     "iopub.execute_input": "2022-09-02T20:10:38.627234Z",
     "iopub.status.busy": "2022-09-02T20:10:38.626612Z",
     "iopub.status.idle": "2022-09-02T20:10:38.644920Z",
     "shell.execute_reply": "2022-09-02T20:10:38.645442Z"
    },
    "papermill": {
     "duration": 0.050006,
     "end_time": "2022-09-02T20:10:38.645577",
     "exception": false,
     "start_time": "2022-09-02T20:10:38.595571",
     "status": "completed"
    },
    "tags": []
   },
   "outputs": [
    {
     "data": {
      "text/plain": [
       "((10000, 28, 28), (10000,))"
      ]
     },
     "execution_count": 8,
     "metadata": {},
     "output_type": "execute_result"
    }
   ],
   "source": [
    "test_images.shape, test_labels.shape"
   ]
  },
  {
   "cell_type": "code",
   "execution_count": 9,
   "id": "f9ed8fe0",
   "metadata": {
    "execution": {
     "iopub.execute_input": "2022-09-02T20:10:38.706540Z",
     "iopub.status.busy": "2022-09-02T20:10:38.705875Z",
     "iopub.status.idle": "2022-09-02T20:10:38.863262Z",
     "shell.execute_reply": "2022-09-02T20:10:38.862690Z"
    },
    "papermill": {
     "duration": 0.189808,
     "end_time": "2022-09-02T20:10:38.863435",
     "exception": false,
     "start_time": "2022-09-02T20:10:38.673627",
     "status": "completed"
    },
    "tags": []
   },
   "outputs": [
    {
     "name": "stdout",
     "output_type": "stream",
     "text": [
      "2\n"
     ]
    },
    {
     "data": {
      "text/plain": [
       "<matplotlib.image.AxesImage at 0x7fce9341ec50>"
      ]
     },
     "execution_count": 9,
     "metadata": {},
     "output_type": "execute_result"
    },
    {
     "data": {
      "image/png": "[encoded data removed]",
      "text/plain": [
       "<Figure size 432x288 with 1 Axes>"
      ]
     },
     "metadata": {
      "needs_background": "light"
     },
     "output_type": "display_data"
    }
   ],
   "source": [
    "image_index = 7776 # You may select anything up to 60,000\n",
    "print(train_labels[image_index]) \n",
    "plt.imshow(train_images[image_index], cmap='Greys')"
   ]
  },
  {
   "cell_type": "markdown",
   "id": "a8d2388d",
   "metadata": {
    "papermill": {
     "duration": 0.02939,
     "end_time": "2022-09-02T20:10:38.922484",
     "exception": false,
     "start_time": "2022-09-02T20:10:38.893094",
     "status": "completed"
    },
    "tags": []
   },
   "source": [
    "## Filter data to get 3 and 8 out"
   ]
  },
  {
   "cell_type": "code",
   "execution_count": 10,
   "id": "776f7fc7",
   "metadata": {
    "execution": {
     "iopub.execute_input": "2022-09-02T20:10:38.982921Z",
     "iopub.status.busy": "2022-09-02T20:10:38.982272Z",
     "iopub.status.idle": "2022-09-02T20:10:38.999687Z",
     "shell.execute_reply": "2022-09-02T20:10:38.999165Z"
    },
    "papermill": {
     "duration": 0.049528,
     "end_time": "2022-09-02T20:10:38.999835",
     "exception": false,
     "start_time": "2022-09-02T20:10:38.950307",
     "status": "completed"
    },
    "tags": []
   },
   "outputs": [],
   "source": [
    "train_filter = np.where((train_labels == 3 ) | (train_labels == 8))\n",
    "test_filter = np.where((test_labels == 3) | (test_labels == 8))\n",
    "X_train, y_train = train_images[train_filter], train_labels[train_filter]\n",
    "X_test, y_test = test_images[test_filter], test_labels[test_filter]"
   ]
  },
  {
   "cell_type": "markdown",
   "id": "948f0b7e",
   "metadata": {
    "papermill": {
     "duration": 0.026727,
     "end_time": "2022-09-02T20:10:39.052236",
     "exception": false,
     "start_time": "2022-09-02T20:10:39.025509",
     "status": "completed"
    },
    "tags": []
   },
   "source": [
    "We normalize the pizel values in the 0 to 1 range"
   ]
  },
  {
   "cell_type": "code",
   "execution_count": 11,
   "id": "ee4c2166",
   "metadata": {
    "execution": {
     "iopub.execute_input": "2022-09-02T20:10:39.112599Z",
     "iopub.status.busy": "2022-09-02T20:10:39.112042Z",
     "iopub.status.idle": "2022-09-02T20:10:39.163581Z",
     "shell.execute_reply": "2022-09-02T20:10:39.162966Z"
    },
    "papermill": {
     "duration": 0.083196,
     "end_time": "2022-09-02T20:10:39.163717",
     "exception": false,
     "start_time": "2022-09-02T20:10:39.080521",
     "status": "completed"
    },
    "tags": []
   },
   "outputs": [],
   "source": [
    "X_train = X_train/255.\n",
    "X_test = X_test/255."
   ]
  },
  {
   "cell_type": "markdown",
   "id": "ddcf4fab",
   "metadata": {
    "papermill": {
     "duration": 0.029381,
     "end_time": "2022-09-02T20:10:39.221783",
     "exception": false,
     "start_time": "2022-09-02T20:10:39.192402",
     "status": "completed"
    },
    "tags": []
   },
   "source": [
    "And setup the labels as 1 (when the digit is 3) and 0 (when the digit is 8)"
   ]
  },
  {
   "cell_type": "code",
   "execution_count": 12,
   "id": "7dc908f2",
   "metadata": {
    "execution": {
     "iopub.execute_input": "2022-09-02T20:10:39.283200Z",
     "iopub.status.busy": "2022-09-02T20:10:39.282520Z",
     "iopub.status.idle": "2022-09-02T20:10:39.297176Z",
     "shell.execute_reply": "2022-09-02T20:10:39.297738Z"
    },
    "papermill": {
     "duration": 0.048765,
     "end_time": "2022-09-02T20:10:39.297901",
     "exception": false,
     "start_time": "2022-09-02T20:10:39.249136",
     "status": "completed"
    },
    "tags": []
   },
   "outputs": [],
   "source": [
    "y_train = 1*(y_train==3)\n",
    "y_test = 1*(y_test==3)"
   ]
  },
  {
   "cell_type": "code",
   "execution_count": 13,
   "id": "01e4e969",
   "metadata": {
    "execution": {
     "iopub.execute_input": "2022-09-02T20:10:39.361960Z",
     "iopub.status.busy": "2022-09-02T20:10:39.361335Z",
     "iopub.status.idle": "2022-09-02T20:10:39.378093Z",
     "shell.execute_reply": "2022-09-02T20:10:39.377586Z"
    },
    "papermill": {
     "duration": 0.050679,
     "end_time": "2022-09-02T20:10:39.378211",
     "exception": false,
     "start_time": "2022-09-02T20:10:39.327532",
     "status": "completed"
    },
    "tags": []
   },
   "outputs": [
    {
     "data": {
      "text/plain": [
       "((11982, 28, 28), (1984, 28, 28))"
      ]
     },
     "execution_count": 13,
     "metadata": {},
     "output_type": "execute_result"
    }
   ],
   "source": [
    "X_train.shape, X_test.shape"
   ]
  },
  {
   "cell_type": "markdown",
   "id": "5ccf3f85",
   "metadata": {
    "papermill": {
     "duration": 0.028719,
     "end_time": "2022-09-02T20:10:39.435158",
     "exception": false,
     "start_time": "2022-09-02T20:10:39.406439",
     "status": "completed"
    },
    "tags": []
   },
   "source": [
    "We reshape the data to flatten the image pixels into a set of features or co-variates:"
   ]
  },
  {
   "cell_type": "code",
   "execution_count": 14,
   "id": "5286a4a3",
   "metadata": {
    "execution": {
     "iopub.execute_input": "2022-09-02T20:10:39.499528Z",
     "iopub.status.busy": "2022-09-02T20:10:39.498846Z",
     "iopub.status.idle": "2022-09-02T20:10:39.513945Z",
     "shell.execute_reply": "2022-09-02T20:10:39.514458Z"
    },
    "papermill": {
     "duration": 0.050902,
     "end_time": "2022-09-02T20:10:39.514592",
     "exception": false,
     "start_time": "2022-09-02T20:10:39.463690",
     "status": "completed"
    },
    "tags": []
   },
   "outputs": [
    {
     "data": {
      "text/plain": [
       "((11982, 784), (1984, 784))"
      ]
     },
     "execution_count": 14,
     "metadata": {},
     "output_type": "execute_result"
    }
   ],
   "source": [
    "X_train = X_train.reshape(X_train.shape[0], -1)\n",
    "X_test = X_test.reshape(X_test.shape[0], -1)\n",
    "X_train.shape, X_test.shape"
   ]
  },
  {
   "cell_type": "code",
   "execution_count": 15,
   "id": "73c5f88a",
   "metadata": {
    "execution": {
     "iopub.execute_input": "2022-09-02T20:10:39.579172Z",
     "iopub.status.busy": "2022-09-02T20:10:39.578486Z",
     "iopub.status.idle": "2022-09-02T20:10:39.599264Z",
     "shell.execute_reply": "2022-09-02T20:10:39.598806Z"
    },
    "papermill": {
     "duration": 0.055079,
     "end_time": "2022-09-02T20:10:39.599392",
     "exception": false,
     "start_time": "2022-09-02T20:10:39.544313",
     "status": "completed"
    },
    "tags": []
   },
   "outputs": [],
   "source": [
    "#Impoting functions from 'Kudzu'\n",
    "from kudzu.model import Model\n",
    "from kudzu.train import Learner\n",
    "from kudzu.optim import GD\n",
    "from kudzu.data import Data, Sampler,Dataloader\n",
    "\n",
    "from kudzu.callbacks import AccCallback\n",
    "from kudzu.callbacks import ClfCallback\n",
    "\n",
    "from kudzu.loss import MSE\n",
    "\n",
    "from kudzu.layer import Sigmoid,Relu\n",
    "from kudzu.layer import Affine"
   ]
  },
  {
   "cell_type": "markdown",
   "id": "bc01172a",
   "metadata": {
    "papermill": {
     "duration": 0.026619,
     "end_time": "2022-09-02T20:10:39.652909",
     "exception": false,
     "start_time": "2022-09-02T20:10:39.626290",
     "status": "completed"
    },
    "tags": []
   },
   "source": [
    "### Let us create a `Config` class, to store important parameters. \n",
    "This class essentially plays the role of a dictionary."
   ]
  },
  {
   "cell_type": "code",
   "execution_count": 16,
   "id": "978281aa",
   "metadata": {
    "execution": {
     "iopub.execute_input": "2022-09-02T20:10:39.712068Z",
     "iopub.status.busy": "2022-09-02T20:10:39.711355Z",
     "iopub.status.idle": "2022-09-02T20:10:39.724668Z",
     "shell.execute_reply": "2022-09-02T20:10:39.724149Z"
    },
    "papermill": {
     "duration": 0.045287,
     "end_time": "2022-09-02T20:10:39.724782",
     "exception": false,
     "start_time": "2022-09-02T20:10:39.679495",
     "status": "completed"
    },
    "tags": []
   },
   "outputs": [],
   "source": [
    "class Config:\n",
    "    pass\n",
    "config = Config()\n",
    "config.lr = 0.001\n",
    "config.num_epochs = 250\n",
    "config.bs = 50"
   ]
  },
  {
   "cell_type": "markdown",
   "id": "1385fa59",
   "metadata": {
    "papermill": {
     "duration": 0.027831,
     "end_time": "2022-09-02T20:10:39.780822",
     "exception": false,
     "start_time": "2022-09-02T20:10:39.752991",
     "status": "completed"
    },
    "tags": []
   },
   "source": [
    "### Running Models with the Training data\n",
    "Details about the network layers:\n",
    "- A first affine layer has 784 inputs and does 100 affine transforms. These are followed by a Relu\n",
    "- A second affine layer has 100 inputs from the 100 activations of the past layer, and does 100 affine transforms. These are followed by a Relu\n",
    "- A third affine layer has 100 activations and does 2 affine transformations to create an embedding for visualization. There is no non-linearity here.\n",
    "- A final \"logistic regression\" which has an affine transform from 2 inputs to 1 output, which is squeezed through a sigmoid.\n"
   ]
  },
  {
   "cell_type": "code",
   "execution_count": 17,
   "id": "2b9c66db",
   "metadata": {
    "execution": {
     "iopub.execute_input": "2022-09-02T20:10:39.839824Z",
     "iopub.status.busy": "2022-09-02T20:10:39.839089Z",
     "iopub.status.idle": "2022-09-02T20:10:39.852848Z",
     "shell.execute_reply": "2022-09-02T20:10:39.852365Z"
    },
    "papermill": {
     "duration": 0.044953,
     "end_time": "2022-09-02T20:10:39.852948",
     "exception": false,
     "start_time": "2022-09-02T20:10:39.807995",
     "status": "completed"
    },
    "tags": []
   },
   "outputs": [],
   "source": [
    "data = Data(X_train, y_train.reshape(-1,1))\n",
    "sampler = Sampler(data, config.bs, shuffle=True)\n",
    "\n",
    "dl = Dataloader(data, sampler)\n",
    "\n",
    "opt = GD(config.lr)\n",
    "loss = MSE()"
   ]
  },
  {
   "cell_type": "code",
   "execution_count": 18,
   "id": "b275e4c2",
   "metadata": {
    "execution": {
     "iopub.execute_input": "2022-09-02T20:10:39.915941Z",
     "iopub.status.busy": "2022-09-02T20:10:39.915232Z",
     "iopub.status.idle": "2022-09-02T20:10:39.929177Z",
     "shell.execute_reply": "2022-09-02T20:10:39.928626Z"
    },
    "papermill": {
     "duration": 0.04848,
     "end_time": "2022-09-02T20:10:39.929298",
     "exception": false,
     "start_time": "2022-09-02T20:10:39.880818",
     "status": "completed"
    },
    "tags": []
   },
   "outputs": [],
   "source": [
    "training_data_x = X_train\n",
    "testing_data_x = X_test\n",
    "training_data_y = y_train.reshape(-1,1)\n",
    "testing_data_y = y_test.reshape(-1,1)"
   ]
  },
  {
   "cell_type": "code",
   "execution_count": 19,
   "id": "76951160",
   "metadata": {
    "execution": {
     "iopub.execute_input": "2022-09-02T20:10:39.994080Z",
     "iopub.status.busy": "2022-09-02T20:10:39.993396Z",
     "iopub.status.idle": "2022-09-02T20:10:40.012237Z",
     "shell.execute_reply": "2022-09-02T20:10:40.011711Z"
    },
    "papermill": {
     "duration": 0.053254,
     "end_time": "2022-09-02T20:10:40.012365",
     "exception": false,
     "start_time": "2022-09-02T20:10:39.959111",
     "status": "completed"
    },
    "tags": []
   },
   "outputs": [
    {
     "name": "stdout",
     "output_type": "stream",
     "text": [
      "xavier\n",
      "xavier\n",
      "xavier\n",
      "xavier\n",
      "xavier\n"
     ]
    }
   ],
   "source": [
    "layers = [Affine(\"first\", 784, 100), Relu(\"first\"), Affine(\"second\", 100, 100), Relu(\"second\"), Affine(\"third\", 100, 2), Affine(\"last\", 2, 1), Sigmoid(\"last\")]\n",
    "model_nn = Model(layers)\n",
    "model_lr = Model([Affine(\"logits\", 784, 1), Sigmoid(\"sigmoid\")])"
   ]
  },
  {
   "cell_type": "code",
   "execution_count": 20,
   "id": "6eede77a",
   "metadata": {
    "execution": {
     "iopub.execute_input": "2022-09-02T20:10:40.080022Z",
     "iopub.status.busy": "2022-09-02T20:10:40.079290Z",
     "iopub.status.idle": "2022-09-02T20:10:40.095631Z",
     "shell.execute_reply": "2022-09-02T20:10:40.094933Z"
    },
    "papermill": {
     "duration": 0.052692,
     "end_time": "2022-09-02T20:10:40.095771",
     "exception": false,
     "start_time": "2022-09-02T20:10:40.043079",
     "status": "completed"
    },
    "tags": []
   },
   "outputs": [],
   "source": [
    "nn_learner = Learner(loss, model_nn, opt, config.num_epochs)\n",
    "acc_nn = ClfCallback(nn_learner, config.bs, training_data_x , testing_data_x, training_data_y, testing_data_y)\n",
    "nn_learner.set_callbacks([acc_nn])"
   ]
  },
  {
   "cell_type": "code",
   "execution_count": 21,
   "id": "877b6cc7",
   "metadata": {
    "execution": {
     "iopub.execute_input": "2022-09-02T20:10:40.160175Z",
     "iopub.status.busy": "2022-09-02T20:10:40.159489Z",
     "iopub.status.idle": "2022-09-02T20:10:40.172601Z",
     "shell.execute_reply": "2022-09-02T20:10:40.173243Z"
    },
    "papermill": {
     "duration": 0.047909,
     "end_time": "2022-09-02T20:10:40.173387",
     "exception": false,
     "start_time": "2022-09-02T20:10:40.125478",
     "status": "completed"
    },
    "tags": []
   },
   "outputs": [],
   "source": [
    "lr_learner = Learner(loss, model_lr, opt, config.num_epochs)\n",
    "acc_lr = ClfCallback(lr_learner, config.bs, training_data_x , testing_data_x, training_data_y, testing_data_y)\n",
    "lr_learner.set_callbacks([acc_lr])"
   ]
  },
  {
   "cell_type": "code",
   "execution_count": 22,
   "id": "d9b133c3",
   "metadata": {
    "execution": {
     "iopub.execute_input": "2022-09-02T20:10:40.235821Z",
     "iopub.status.busy": "2022-09-02T20:10:40.235105Z",
     "iopub.status.idle": "2022-09-02T20:12:04.733393Z",
     "shell.execute_reply": "2022-09-02T20:12:04.734389Z"
    },
    "papermill": {
     "duration": 84.53238,
     "end_time": "2022-09-02T20:12:04.734558",
     "exception": false,
     "start_time": "2022-09-02T20:10:40.202178",
     "status": "completed"
    },
    "tags": []
   },
   "outputs": [
    {
     "name": "stdout",
     "output_type": "stream",
     "text": [
      "Epoch 0, Loss 0.2542\n",
      "Training Accuracy: 0.7104, Testing Accuracy: 0.7188\n",
      "\n"
     ]
    },
    {
     "name": "stdout",
     "output_type": "stream",
     "text": [
      "Epoch 10, Loss 0.0668\n",
      "Training Accuracy: 0.9348, Testing Accuracy: 0.9446\n",
      "\n"
     ]
    },
    {
     "name": "stdout",
     "output_type": "stream",
     "text": [
      "Epoch 20, Loss 0.0458\n",
      "Training Accuracy: 0.9519, Testing Accuracy: 0.9592\n",
      "\n"
     ]
    },
    {
     "name": "stdout",
     "output_type": "stream",
     "text": [
      "Epoch 30, Loss 0.038\n",
      "Training Accuracy: 0.9594, Testing Accuracy: 0.9662\n",
      "\n"
     ]
    },
    {
     "name": "stdout",
     "output_type": "stream",
     "text": [
      "Epoch 40, Loss 0.0337\n",
      "Training Accuracy: 0.9629, Testing Accuracy: 0.9703\n",
      "\n"
     ]
    },
    {
     "name": "stdout",
     "output_type": "stream",
     "text": [
      "Epoch 50, Loss 0.0309\n",
      "Training Accuracy: 0.9661, Testing Accuracy: 0.9693\n",
      "\n"
     ]
    },
    {
     "name": "stdout",
     "output_type": "stream",
     "text": [
      "Epoch 60, Loss 0.0289\n",
      "Training Accuracy: 0.9688, Testing Accuracy: 0.9698\n",
      "\n"
     ]
    },
    {
     "name": "stdout",
     "output_type": "stream",
     "text": [
      "Epoch 70, Loss 0.0273\n",
      "Training Accuracy: 0.9705, Testing Accuracy: 0.9713\n",
      "\n"
     ]
    },
    {
     "name": "stdout",
     "output_type": "stream",
     "text": [
      "Epoch 80, Loss 0.0261\n",
      "Training Accuracy: 0.9714, Testing Accuracy: 0.9723\n",
      "\n"
     ]
    },
    {
     "name": "stdout",
     "output_type": "stream",
     "text": [
      "Epoch 90, Loss 0.025\n",
      "Training Accuracy: 0.9719, Testing Accuracy: 0.9738\n",
      "\n"
     ]
    },
    {
     "name": "stdout",
     "output_type": "stream",
     "text": [
      "Epoch 100, Loss 0.0241\n",
      "Training Accuracy: 0.9727, Testing Accuracy: 0.9733\n",
      "\n"
     ]
    },
    {
     "name": "stdout",
     "output_type": "stream",
     "text": [
      "Epoch 110, Loss 0.0233\n",
      "Training Accuracy: 0.9734, Testing Accuracy: 0.9738\n",
      "\n"
     ]
    },
    {
     "name": "stdout",
     "output_type": "stream",
     "text": [
      "Epoch 120, Loss 0.0226\n",
      "Training Accuracy: 0.9741, Testing Accuracy: 0.9728\n",
      "\n"
     ]
    },
    {
     "name": "stdout",
     "output_type": "stream",
     "text": [
      "Epoch 130, Loss 0.0219\n",
      "Training Accuracy: 0.9744, Testing Accuracy: 0.9738\n",
      "\n"
     ]
    },
    {
     "name": "stdout",
     "output_type": "stream",
     "text": [
      "Epoch 140, Loss 0.0213\n",
      "Training Accuracy: 0.9750, Testing Accuracy: 0.9738\n",
      "\n"
     ]
    },
    {
     "name": "stdout",
     "output_type": "stream",
     "text": [
      "Epoch 150, Loss 0.0208\n",
      "Training Accuracy: 0.9760, Testing Accuracy: 0.9738\n",
      "\n"
     ]
    },
    {
     "name": "stdout",
     "output_type": "stream",
     "text": [
      "Epoch 160, Loss 0.0203\n",
      "Training Accuracy: 0.9771, Testing Accuracy: 0.9738\n",
      "\n"
     ]
    },
    {
     "name": "stdout",
     "output_type": "stream",
     "text": [
      "Epoch 170, Loss 0.0198\n",
      "Training Accuracy: 0.9775, Testing Accuracy: 0.9738\n",
      "\n"
     ]
    },
    {
     "name": "stdout",
     "output_type": "stream",
     "text": [
      "Epoch 180, Loss 0.0193\n",
      "Training Accuracy: 0.9784, Testing Accuracy: 0.9748\n",
      "\n"
     ]
    },
    {
     "name": "stdout",
     "output_type": "stream",
     "text": [
      "Epoch 190, Loss 0.0189\n",
      "Training Accuracy: 0.9788, Testing Accuracy: 0.9743\n",
      "\n"
     ]
    },
    {
     "name": "stdout",
     "output_type": "stream",
     "text": [
      "Epoch 200, Loss 0.0185\n",
      "Training Accuracy: 0.9791, Testing Accuracy: 0.9738\n",
      "\n"
     ]
    },
    {
     "name": "stdout",
     "output_type": "stream",
     "text": [
      "Epoch 210, Loss 0.0181\n",
      "Training Accuracy: 0.9801, Testing Accuracy: 0.9738\n",
      "\n"
     ]
    },
    {
     "name": "stdout",
     "output_type": "stream",
     "text": [
      "Epoch 220, Loss 0.0177\n",
      "Training Accuracy: 0.9808, Testing Accuracy: 0.9763\n",
      "\n"
     ]
    },
    {
     "name": "stdout",
     "output_type": "stream",
     "text": [
      "Epoch 230, Loss 0.0173\n",
      "Training Accuracy: 0.9813, Testing Accuracy: 0.9763\n",
      "\n"
     ]
    },
    {
     "name": "stdout",
     "output_type": "stream",
     "text": [
      "Epoch 240, Loss 0.0169\n",
      "Training Accuracy: 0.9814, Testing Accuracy: 0.9768\n",
      "\n"
     ]
    },
    {
     "data": {
      "text/plain": [
       "0.006925198943742205"
      ]
     },
     "execution_count": 22,
     "metadata": {},
     "output_type": "execute_result"
    }
   ],
   "source": [
    "nn_learner.train_loop(dl)"
   ]
  },
  {
   "cell_type": "code",
   "execution_count": 23,
   "id": "e0163366",
   "metadata": {
    "execution": {
     "iopub.execute_input": "2022-09-02T20:12:04.821559Z",
     "iopub.status.busy": "2022-09-02T20:12:04.820897Z",
     "iopub.status.idle": "2022-09-02T20:12:19.941358Z",
     "shell.execute_reply": "2022-09-02T20:12:19.942372Z"
    },
    "papermill": {
     "duration": 15.167729,
     "end_time": "2022-09-02T20:12:19.942535",
     "exception": false,
     "start_time": "2022-09-02T20:12:04.774806",
     "status": "completed"
    },
    "tags": []
   },
   "outputs": [
    {
     "name": "stdout",
     "output_type": "stream",
     "text": [
      "Epoch 0, Loss 0.2339\n",
      "Training Accuracy: 0.7182, Testing Accuracy: 0.7475\n",
      "\n"
     ]
    },
    {
     "name": "stdout",
     "output_type": "stream",
     "text": [
      "Epoch 10, Loss 0.1017\n",
      "Training Accuracy: 0.9065, Testing Accuracy: 0.9244\n",
      "\n"
     ]
    },
    {
     "name": "stdout",
     "output_type": "stream",
     "text": [
      "Epoch 20, Loss 0.0788\n",
      "Training Accuracy: 0.9233, Testing Accuracy: 0.9410\n",
      "\n"
     ]
    },
    {
     "name": "stdout",
     "output_type": "stream",
     "text": [
      "Epoch 30, Loss 0.0683\n",
      "Training Accuracy: 0.9332, Testing Accuracy: 0.9466\n",
      "\n"
     ]
    },
    {
     "name": "stdout",
     "output_type": "stream",
     "text": [
      "Epoch 40, Loss 0.0618\n",
      "Training Accuracy: 0.9381, Testing Accuracy: 0.9536\n",
      "\n"
     ]
    },
    {
     "name": "stdout",
     "output_type": "stream",
     "text": [
      "Epoch 50, Loss 0.0574\n",
      "Training Accuracy: 0.9429, Testing Accuracy: 0.9567\n",
      "\n"
     ]
    },
    {
     "name": "stdout",
     "output_type": "stream",
     "text": [
      "Epoch 60, Loss 0.0542\n",
      "Training Accuracy: 0.9461, Testing Accuracy: 0.9582\n",
      "\n"
     ]
    },
    {
     "name": "stdout",
     "output_type": "stream",
     "text": [
      "Epoch 70, Loss 0.0516\n",
      "Training Accuracy: 0.9486, Testing Accuracy: 0.9592\n",
      "\n"
     ]
    },
    {
     "name": "stdout",
     "output_type": "stream",
     "text": [
      "Epoch 80, Loss 0.0496\n",
      "Training Accuracy: 0.9499, Testing Accuracy: 0.9597\n",
      "\n"
     ]
    },
    {
     "name": "stdout",
     "output_type": "stream",
     "text": [
      "Epoch 90, Loss 0.0479\n",
      "Training Accuracy: 0.9514, Testing Accuracy: 0.9617\n",
      "\n"
     ]
    },
    {
     "name": "stdout",
     "output_type": "stream",
     "text": [
      "Epoch 100, Loss 0.0465\n",
      "Training Accuracy: 0.9528, Testing Accuracy: 0.9612\n",
      "\n"
     ]
    },
    {
     "name": "stdout",
     "output_type": "stream",
     "text": [
      "Epoch 110, Loss 0.0453\n",
      "Training Accuracy: 0.9533, Testing Accuracy: 0.9627\n",
      "\n"
     ]
    },
    {
     "name": "stdout",
     "output_type": "stream",
     "text": [
      "Epoch 120, Loss 0.0442\n",
      "Training Accuracy: 0.9543, Testing Accuracy: 0.9637\n",
      "\n"
     ]
    },
    {
     "name": "stdout",
     "output_type": "stream",
     "text": [
      "Epoch 130, Loss 0.0432\n",
      "Training Accuracy: 0.9550, Testing Accuracy: 0.9642\n",
      "\n"
     ]
    },
    {
     "name": "stdout",
     "output_type": "stream",
     "text": [
      "Epoch 140, Loss 0.0424\n",
      "Training Accuracy: 0.9557, Testing Accuracy: 0.9642\n",
      "\n"
     ]
    },
    {
     "name": "stdout",
     "output_type": "stream",
     "text": [
      "Epoch 150, Loss 0.0416\n",
      "Training Accuracy: 0.9562, Testing Accuracy: 0.9647\n",
      "\n"
     ]
    },
    {
     "name": "stdout",
     "output_type": "stream",
     "text": [
      "Epoch 160, Loss 0.041\n",
      "Training Accuracy: 0.9569, Testing Accuracy: 0.9657\n",
      "\n"
     ]
    },
    {
     "name": "stdout",
     "output_type": "stream",
     "text": [
      "Epoch 170, Loss 0.0403\n",
      "Training Accuracy: 0.9572, Testing Accuracy: 0.9657\n",
      "\n"
     ]
    },
    {
     "name": "stdout",
     "output_type": "stream",
     "text": [
      "Epoch 180, Loss 0.0398\n",
      "Training Accuracy: 0.9574, Testing Accuracy: 0.9662\n",
      "\n"
     ]
    },
    {
     "name": "stdout",
     "output_type": "stream",
     "text": [
      "Epoch 190, Loss 0.0392\n",
      "Training Accuracy: 0.9578, Testing Accuracy: 0.9662\n",
      "\n"
     ]
    },
    {
     "name": "stdout",
     "output_type": "stream",
     "text": [
      "Epoch 200, Loss 0.0388\n",
      "Training Accuracy: 0.9581, Testing Accuracy: 0.9672\n",
      "\n"
     ]
    },
    {
     "name": "stdout",
     "output_type": "stream",
     "text": [
      "Epoch 210, Loss 0.0383\n",
      "Training Accuracy: 0.9583, Testing Accuracy: 0.9677\n",
      "\n"
     ]
    },
    {
     "name": "stdout",
     "output_type": "stream",
     "text": [
      "Epoch 220, Loss 0.0379\n",
      "Training Accuracy: 0.9584, Testing Accuracy: 0.9677\n",
      "\n"
     ]
    },
    {
     "name": "stdout",
     "output_type": "stream",
     "text": [
      "Epoch 230, Loss 0.0375\n",
      "Training Accuracy: 0.9587, Testing Accuracy: 0.9677\n",
      "\n"
     ]
    },
    {
     "name": "stdout",
     "output_type": "stream",
     "text": [
      "Epoch 240, Loss 0.0371\n",
      "Training Accuracy: 0.9592, Testing Accuracy: 0.9677\n",
      "\n"
     ]
    },
    {
     "data": {
      "text/plain": [
       "0.02732381770056526"
      ]
     },
     "execution_count": 23,
     "metadata": {},
     "output_type": "execute_result"
    }
   ],
   "source": [
    "lr_learner.train_loop(dl)"
   ]
  },
  {
   "cell_type": "code",
   "execution_count": 24,
   "id": "ca410940",
   "metadata": {
    "execution": {
     "iopub.execute_input": "2022-09-02T20:12:20.041612Z",
     "iopub.status.busy": "2022-09-02T20:12:20.040912Z",
     "iopub.status.idle": "2022-09-02T20:12:20.289687Z",
     "shell.execute_reply": "2022-09-02T20:12:20.290180Z"
    },
    "papermill": {
     "duration": 0.303861,
     "end_time": "2022-09-02T20:12:20.290333",
     "exception": false,
     "start_time": "2022-09-02T20:12:19.986472",
     "status": "completed"
    },
    "tags": []
   },
   "outputs": [
    {
     "data": {
      "text/plain": [
       "<matplotlib.legend.Legend at 0x7fce85bf0fd0>"
      ]
     },
     "execution_count": 24,
     "metadata": {},
     "output_type": "execute_result"
    },
    {
     "data": {
      "image/png": "[encoded data removed]",
      "text/plain": [
       "<Figure size 1080x720 with 1 Axes>"
      ]
     },
     "metadata": {
      "needs_background": "light"
     },
     "output_type": "display_data"
    }
   ],
   "source": [
    "#comparing the results of NN and LR\n",
    "plt.figure(figsize=(15,10))\n",
    "\n",
    "# Neural Network plots\n",
    "plt.plot(acc_nn.accuracies, 'r-', label = \"Training Accuracies - NN\")\n",
    "plt.plot(acc_nn.test_accuracies, 'g-', label = \"Testing Accuracies - NN\")\n",
    "\n",
    "# Logistic Regression plots\n",
    "plt.plot(acc_lr.accuracies, 'k-', label = \"Training Accuracies - LR\")\n",
    "plt.plot(acc_lr.test_accuracies, 'b-', label = \"Testing Accuracies - LR\")\n",
    "plt.legend()"
   ]
  },
  {
   "cell_type": "markdown",
   "id": "80dfb35c",
   "metadata": {
    "papermill": {
     "duration": 0.043128,
     "end_time": "2022-09-02T20:12:20.376404",
     "exception": false,
     "start_time": "2022-09-02T20:12:20.333276",
     "status": "completed"
    },
    "tags": []
   },
   "source": [
    "#### Plotting the outputs of this layer of the NN.\n"
   ]
  },
  {
   "cell_type": "code",
   "execution_count": 25,
   "id": "45eb2ff5",
   "metadata": {
    "execution": {
     "iopub.execute_input": "2022-09-02T20:12:20.465014Z",
     "iopub.status.busy": "2022-09-02T20:12:20.463770Z",
     "iopub.status.idle": "2022-09-02T20:12:20.487937Z",
     "shell.execute_reply": "2022-09-02T20:12:20.488443Z"
    },
    "papermill": {
     "duration": 0.071114,
     "end_time": "2022-09-02T20:12:20.488596",
     "exception": false,
     "start_time": "2022-09-02T20:12:20.417482",
     "status": "completed"
    },
    "tags": []
   },
   "outputs": [],
   "source": [
    "new_model = Model(layers[:-2])\n",
    "testing_plot = new_model(testing_data_x)"
   ]
  },
  {
   "cell_type": "code",
   "execution_count": 26,
   "id": "4c0a5485",
   "metadata": {
    "execution": {
     "iopub.execute_input": "2022-09-02T20:12:20.582990Z",
     "iopub.status.busy": "2022-09-02T20:12:20.582284Z",
     "iopub.status.idle": "2022-09-02T20:12:20.796904Z",
     "shell.execute_reply": "2022-09-02T20:12:20.797386Z"
    },
    "papermill": {
     "duration": 0.264385,
     "end_time": "2022-09-02T20:12:20.797532",
     "exception": false,
     "start_time": "2022-09-02T20:12:20.533147",
     "status": "completed"
    },
    "tags": []
   },
   "outputs": [
    {
     "data": {
      "text/plain": [
       "Text(0.5, 1.0, 'Outputs')"
      ]
     },
     "execution_count": 26,
     "metadata": {},
     "output_type": "execute_result"
    },
    {
     "data": {
      "image/png": "[encoded data removed]",
      "text/plain": [
       "<Figure size 576x504 with 1 Axes>"
      ]
     },
     "metadata": {
      "needs_background": "light"
     },
     "output_type": "display_data"
    }
   ],
   "source": [
    "# Plotting the scatter plot of points and color coding by class\n",
    "plt.figure(figsize=(8,7))\n",
    "plt.scatter(testing_plot[:,0], testing_plot[:,1], alpha = 0.1, c = y_test.ravel());\n",
    "plt.title('Outputs')"
   ]
  },
  {
   "cell_type": "markdown",
   "id": "a74fcf8f",
   "metadata": {
    "papermill": {
     "duration": 0.04792,
     "end_time": "2022-09-02T20:12:20.892527",
     "exception": false,
     "start_time": "2022-09-02T20:12:20.844607",
     "status": "completed"
    },
    "tags": []
   },
   "source": [
    "Probability contours"
   ]
  },
  {
   "cell_type": "code",
   "execution_count": 27,
   "id": "d0afc8e3",
   "metadata": {
    "execution": {
     "iopub.execute_input": "2022-09-02T20:12:21.018786Z",
     "iopub.status.busy": "2022-09-02T20:12:21.018116Z",
     "iopub.status.idle": "2022-09-02T20:12:21.031396Z",
     "shell.execute_reply": "2022-09-02T20:12:21.030830Z"
    },
    "papermill": {
     "duration": 0.063615,
     "end_time": "2022-09-02T20:12:21.031503",
     "exception": false,
     "start_time": "2022-09-02T20:12:20.967888",
     "status": "completed"
    },
    "tags": []
   },
   "outputs": [],
   "source": [
    "model_prob = Model(layers[-2:]) "
   ]
  },
  {
   "cell_type": "code",
   "execution_count": 28,
   "id": "9b96e238",
   "metadata": {
    "execution": {
     "iopub.execute_input": "2022-09-02T20:12:21.130411Z",
     "iopub.status.busy": "2022-09-02T20:12:21.129716Z",
     "iopub.status.idle": "2022-09-02T20:12:21.146279Z",
     "shell.execute_reply": "2022-09-02T20:12:21.146756Z"
    },
    "papermill": {
     "duration": 0.068621,
     "end_time": "2022-09-02T20:12:21.146886",
     "exception": false,
     "start_time": "2022-09-02T20:12:21.078265",
     "status": "completed"
    },
    "tags": []
   },
   "outputs": [],
   "source": [
    "#creating the x and y ranges according to the above generated plot.\n",
    "x_range = np.linspace(-4, 1, 100) \n",
    "y_range = np.linspace(-6, 6, 100) \n",
    "x_grid, y_grid = np.meshgrid(x_range, y_range) # x_grid and y_grig are of size 100 X 100\n",
    "\n",
    "# converting x_grid and y_grid to continuous arrays\n",
    "x_gridflat = np.ravel(x_grid)\n",
    "y_gridflat = np.ravel(y_grid)\n",
    "\n",
    "# The last layer of the current model takes two columns as input. Hence transpose of np.vstack() is required.\n",
    "X = np.vstack((x_gridflat, y_gridflat)).T\n",
    "\n",
    "prob_contour = model_prob(X).reshape(100,100) "
   ]
  },
  {
   "cell_type": "code",
   "execution_count": 29,
   "id": "da72499a",
   "metadata": {
    "execution": {
     "iopub.execute_input": "2022-09-02T20:12:21.249497Z",
     "iopub.status.busy": "2022-09-02T20:12:21.248868Z",
     "iopub.status.idle": "2022-09-02T20:12:21.530534Z",
     "shell.execute_reply": "2022-09-02T20:12:21.531029Z"
    },
    "papermill": {
     "duration": 0.336339,
     "end_time": "2022-09-02T20:12:21.531188",
     "exception": false,
     "start_time": "2022-09-02T20:12:21.194849",
     "status": "completed"
    },
    "tags": []
   },
   "outputs": [
    {
     "data": {
      "image/png": "[encoded data removed]",
      "text/plain": [
       "<Figure size 720x648 with 1 Axes>"
      ]
     },
     "metadata": {
      "needs_background": "light"
     },
     "output_type": "display_data"
    }
   ],
   "source": [
    "plt.figure(figsize=(10,9))\n",
    "plt.scatter(testing_plot[:,0], testing_plot[:,1], alpha = 0.1, c = y_test.ravel())\n",
    "contours = plt.contour(x_grid,y_grid,prob_contour)\n",
    "plt.title('Probability Contours')\n",
    "plt.clabel(contours, inline = True );"
   ]
  },
  {
   "cell_type": "code",
   "execution_count": null,
   "id": "e81b4ac7",
   "metadata": {
    "papermill": {
     "duration": 0.050302,
     "end_time": "2022-09-02T20:12:21.632773",
     "exception": false,
     "start_time": "2022-09-02T20:12:21.582471",
     "status": "completed"
    },
    "tags": []
   },
   "outputs": [],
   "source": []
  }
 ],
 "metadata": {
  "kernelspec": {
   "display_name": "Python 3",
   "language": "python",
   "name": "python3"
  },
  "language_info": {
   "codemirror_mode": {
    "name": "ipython",
    "version": 3
   },
   "file_extension": ".py",
   "mimetype": "text/x-python",
   "name": "python",
   "nbconvert_exporter": "python",
   "pygments_lexer": "ipython3",
   "version": "3.6.15"
  },
  "papermill": {
   "default_parameters": {},
   "duration": 108.741189,
   "end_time": "2022-09-02T20:12:22.101065",
   "environment_variables": {},
   "exception": null,
   "input_path": "2020-08-11-part2.ipynb",
   "output_path": "2020-08-11-part2.ipynb",
   "parameters": {},
   "start_time": "2022-09-02T20:10:33.359876",
   "version": "2.3.3"
  }
 },
 "nbformat": 4,
 "nbformat_minor": 5
}