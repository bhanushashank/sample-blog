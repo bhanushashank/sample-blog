{
 "cells": [
  {
   "cell_type": "markdown",
   "id": "98380cd3",
   "metadata": {
    "papermill": {
     "duration": 0.031591,
     "end_time": "2022-10-06T10:14:48.623271",
     "exception": false,
     "start_time": "2022-10-06T10:14:48.591680",
     "status": "completed"
    },
    "tags": []
   },
   "source": [
    "# Distinguish Your Own Digits (DYOD)"
   ]
  },
  {
   "cell_type": "markdown",
   "id": "ef31240d",
   "metadata": {
    "papermill": {
     "duration": 0.024727,
     "end_time": "2022-10-06T10:14:48.674815",
     "exception": false,
     "start_time": "2022-10-06T10:14:48.650088",
     "status": "completed"
    },
    "tags": []
   },
   "source": [
    "You are going to write a classifier that distinguishes between the number 3 and number 8."
   ]
  },
  {
   "cell_type": "code",
   "execution_count": 1,
   "id": "b15c8646",
   "metadata": {
    "execution": {
     "iopub.execute_input": "2022-10-06T10:14:48.737767Z",
     "iopub.status.busy": "2022-10-06T10:14:48.737123Z",
     "iopub.status.idle": "2022-10-06T10:14:48.748817Z",
     "shell.execute_reply": "2022-10-06T10:14:48.748329Z"
    },
    "papermill": {
     "duration": 0.048481,
     "end_time": "2022-10-06T10:14:48.748942",
     "exception": false,
     "start_time": "2022-10-06T10:14:48.700461",
     "status": "completed"
    },
    "tags": []
   },
   "outputs": [],
   "source": [
    "%load_ext autoreload\n",
    "%autoreload 2"
   ]
  },
  {
   "cell_type": "code",
   "execution_count": 2,
   "id": "22ef38dc",
   "metadata": {
    "execution": {
     "iopub.execute_input": "2022-10-06T10:14:48.807624Z",
     "iopub.status.busy": "2022-10-06T10:14:48.806787Z",
     "iopub.status.idle": "2022-10-06T10:14:49.383772Z",
     "shell.execute_reply": "2022-10-06T10:14:49.383202Z"
    },
    "papermill": {
     "duration": 0.609153,
     "end_time": "2022-10-06T10:14:49.383905",
     "exception": false,
     "start_time": "2022-10-06T10:14:48.774752",
     "status": "completed"
    },
    "tags": []
   },
   "outputs": [],
   "source": [
    "%matplotlib inline\n",
    "import numpy as np\n",
    "import matplotlib.pyplot as plt\n",
    "import pandas as pd"
   ]
  },
  {
   "cell_type": "markdown",
   "id": "ba036198",
   "metadata": {
    "papermill": {
     "duration": 0.026662,
     "end_time": "2022-10-06T10:14:49.437495",
     "exception": false,
     "start_time": "2022-10-06T10:14:49.410833",
     "status": "completed"
    },
    "tags": []
   },
   "source": [
    "From the command line run `pip install mnist`. This is a library that will help you bring down the mnist dataset. If you run this from a notebook, you need to put  `!pip install mnist` in a cell by itself."
   ]
  },
  {
   "cell_type": "code",
   "execution_count": 3,
   "id": "bb6ad8a1",
   "metadata": {
    "execution": {
     "iopub.execute_input": "2022-10-06T10:14:49.495197Z",
     "iopub.status.busy": "2022-10-06T10:14:49.494572Z",
     "iopub.status.idle": "2022-10-06T10:14:51.252653Z",
     "shell.execute_reply": "2022-10-06T10:14:51.251898Z"
    },
    "papermill": {
     "duration": 1.78841,
     "end_time": "2022-10-06T10:14:51.252841",
     "exception": false,
     "start_time": "2022-10-06T10:14:49.464431",
     "status": "completed"
    },
    "tags": []
   },
   "outputs": [
    {
     "name": "stdout",
     "output_type": "stream",
     "text": [
      "Collecting mnist\r\n"
     ]
    },
    {
     "name": "stdout",
     "output_type": "stream",
     "text": [
      "  Downloading mnist-0.2.2-py2.py3-none-any.whl (3.5 kB)\r\n",
      "Requirement already satisfied: numpy in /opt/hostedtoolcache/Python/3.6.15/x64/lib/python3.6/site-packages (from mnist) (1.19.5)\r\n"
     ]
    },
    {
     "name": "stdout",
     "output_type": "stream",
     "text": [
      "Installing collected packages: mnist\r\n"
     ]
    },
    {
     "name": "stdout",
     "output_type": "stream",
     "text": [
      "Successfully installed mnist-0.2.2\r\n"
     ]
    }
   ],
   "source": [
    "!pip install mnist"
   ]
  },
  {
   "cell_type": "markdown",
   "id": "69df9c9a",
   "metadata": {
    "papermill": {
     "duration": 0.02652,
     "end_time": "2022-10-06T10:14:51.306659",
     "exception": false,
     "start_time": "2022-10-06T10:14:51.280139",
     "status": "completed"
    },
    "tags": []
   },
   "source": [
    "## Preparing the Data"
   ]
  },
  {
   "cell_type": "code",
   "execution_count": 4,
   "id": "7f69d806",
   "metadata": {
    "execution": {
     "iopub.execute_input": "2022-10-06T10:14:51.371596Z",
     "iopub.status.busy": "2022-10-06T10:14:51.370966Z",
     "iopub.status.idle": "2022-10-06T10:14:51.383703Z",
     "shell.execute_reply": "2022-10-06T10:14:51.384203Z"
    },
    "papermill": {
     "duration": 0.049421,
     "end_time": "2022-10-06T10:14:51.384326",
     "exception": false,
     "start_time": "2022-10-06T10:14:51.334905",
     "status": "completed"
    },
    "tags": []
   },
   "outputs": [],
   "source": [
    "import mnist"
   ]
  },
  {
   "cell_type": "code",
   "execution_count": 5,
   "id": "a411e44f",
   "metadata": {
    "execution": {
     "iopub.execute_input": "2022-10-06T10:14:51.441957Z",
     "iopub.status.busy": "2022-10-06T10:14:51.441323Z",
     "iopub.status.idle": "2022-10-06T10:14:51.961235Z",
     "shell.execute_reply": "2022-10-06T10:14:51.960490Z"
    },
    "papermill": {
     "duration": 0.549349,
     "end_time": "2022-10-06T10:14:51.961485",
     "exception": false,
     "start_time": "2022-10-06T10:14:51.412136",
     "status": "completed"
    },
    "tags": []
   },
   "outputs": [],
   "source": [
    "train_images = mnist.train_images()\n",
    "train_labels = mnist.train_labels()"
   ]
  },
  {
   "cell_type": "code",
   "execution_count": 6,
   "id": "dceab3a5",
   "metadata": {
    "execution": {
     "iopub.execute_input": "2022-10-06T10:14:52.032774Z",
     "iopub.status.busy": "2022-10-06T10:14:52.032103Z",
     "iopub.status.idle": "2022-10-06T10:14:52.047365Z",
     "shell.execute_reply": "2022-10-06T10:14:52.046831Z"
    },
    "papermill": {
     "duration": 0.052931,
     "end_time": "2022-10-06T10:14:52.047497",
     "exception": false,
     "start_time": "2022-10-06T10:14:51.994566",
     "status": "completed"
    },
    "tags": []
   },
   "outputs": [
    {
     "data": {
      "text/plain": [
       "((60000, 28, 28), (60000,))"
      ]
     },
     "execution_count": 6,
     "metadata": {},
     "output_type": "execute_result"
    }
   ],
   "source": [
    "train_images.shape, train_labels.shape"
   ]
  },
  {
   "cell_type": "code",
   "execution_count": 7,
   "id": "f50dc2bb",
   "metadata": {
    "execution": {
     "iopub.execute_input": "2022-10-06T10:14:52.106706Z",
     "iopub.status.busy": "2022-10-06T10:14:52.106128Z",
     "iopub.status.idle": "2022-10-06T10:14:52.219771Z",
     "shell.execute_reply": "2022-10-06T10:14:52.219090Z"
    },
    "papermill": {
     "duration": 0.144429,
     "end_time": "2022-10-06T10:14:52.219901",
     "exception": false,
     "start_time": "2022-10-06T10:14:52.075472",
     "status": "completed"
    },
    "tags": []
   },
   "outputs": [],
   "source": [
    "test_images = mnist.test_images()\n",
    "test_labels = mnist.test_labels()"
   ]
  },
  {
   "cell_type": "code",
   "execution_count": 8,
   "id": "fc38cf1b",
   "metadata": {
    "execution": {
     "iopub.execute_input": "2022-10-06T10:14:52.280227Z",
     "iopub.status.busy": "2022-10-06T10:14:52.279387Z",
     "iopub.status.idle": "2022-10-06T10:14:52.295509Z",
     "shell.execute_reply": "2022-10-06T10:14:52.296153Z"
    },
    "papermill": {
     "duration": 0.049239,
     "end_time": "2022-10-06T10:14:52.296287",
     "exception": false,
     "start_time": "2022-10-06T10:14:52.247048",
     "status": "completed"
    },
    "tags": []
   },
   "outputs": [
    {
     "data": {
      "text/plain": [
       "((10000, 28, 28), (10000,))"
      ]
     },
     "execution_count": 8,
     "metadata": {},
     "output_type": "execute_result"
    }
   ],
   "source": [
    "test_images.shape, test_labels.shape"
   ]
  },
  {
   "cell_type": "code",
   "execution_count": 9,
   "id": "f9ed8fe0",
   "metadata": {
    "execution": {
     "iopub.execute_input": "2022-10-06T10:14:52.358314Z",
     "iopub.status.busy": "2022-10-06T10:14:52.354775Z",
     "iopub.status.idle": "2022-10-06T10:14:52.525866Z",
     "shell.execute_reply": "2022-10-06T10:14:52.526329Z"
    },
    "papermill": {
     "duration": 0.204333,
     "end_time": "2022-10-06T10:14:52.526464",
     "exception": false,
     "start_time": "2022-10-06T10:14:52.322131",
     "status": "completed"
    },
    "tags": []
   },
   "outputs": [
    {
     "name": "stdout",
     "output_type": "stream",
     "text": [
      "2\n"
     ]
    },
    {
     "data": {
      "text/plain": [
       "<matplotlib.image.AxesImage at 0x7f9239898d68>"
      ]
     },
     "execution_count": 9,
     "metadata": {},
     "output_type": "execute_result"
    },
    {
     "data": {
      "image/png": "[encoded data removed]",
      "text/plain": [
       "<Figure size 432x288 with 1 Axes>"
      ]
     },
     "metadata": {
      "needs_background": "light"
     },
     "output_type": "display_data"
    }
   ],
   "source": [
    "image_index = 7776 # You may select anything up to 60,000\n",
    "print(train_labels[image_index]) \n",
    "plt.imshow(train_images[image_index], cmap='Greys')"
   ]
  },
  {
   "cell_type": "markdown",
   "id": "a8d2388d",
   "metadata": {
    "papermill": {
     "duration": 0.027652,
     "end_time": "2022-10-06T10:14:52.583211",
     "exception": false,
     "start_time": "2022-10-06T10:14:52.555559",
     "status": "completed"
    },
    "tags": []
   },
   "source": [
    "## Filter data to get 3 and 8 out"
   ]
  },
  {
   "cell_type": "code",
   "execution_count": 10,
   "id": "776f7fc7",
   "metadata": {
    "execution": {
     "iopub.execute_input": "2022-10-06T10:14:52.642047Z",
     "iopub.status.busy": "2022-10-06T10:14:52.641345Z",
     "iopub.status.idle": "2022-10-06T10:14:52.661605Z",
     "shell.execute_reply": "2022-10-06T10:14:52.660989Z"
    },
    "papermill": {
     "duration": 0.051724,
     "end_time": "2022-10-06T10:14:52.661726",
     "exception": false,
     "start_time": "2022-10-06T10:14:52.610002",
     "status": "completed"
    },
    "tags": []
   },
   "outputs": [],
   "source": [
    "train_filter = np.where((train_labels == 3 ) | (train_labels == 8))\n",
    "test_filter = np.where((test_labels == 3) | (test_labels == 8))\n",
    "X_train, y_train = train_images[train_filter], train_labels[train_filter]\n",
    "X_test, y_test = test_images[test_filter], test_labels[test_filter]"
   ]
  },
  {
   "cell_type": "markdown",
   "id": "948f0b7e",
   "metadata": {
    "papermill": {
     "duration": 0.02684,
     "end_time": "2022-10-06T10:14:52.716683",
     "exception": false,
     "start_time": "2022-10-06T10:14:52.689843",
     "status": "completed"
    },
    "tags": []
   },
   "source": [
    "We normalize the pizel values in the 0 to 1 range"
   ]
  },
  {
   "cell_type": "code",
   "execution_count": 11,
   "id": "ee4c2166",
   "metadata": {
    "execution": {
     "iopub.execute_input": "2022-10-06T10:14:52.774906Z",
     "iopub.status.busy": "2022-10-06T10:14:52.774317Z",
     "iopub.status.idle": "2022-10-06T10:14:52.831370Z",
     "shell.execute_reply": "2022-10-06T10:14:52.830813Z"
    },
    "papermill": {
     "duration": 0.087975,
     "end_time": "2022-10-06T10:14:52.831503",
     "exception": false,
     "start_time": "2022-10-06T10:14:52.743528",
     "status": "completed"
    },
    "tags": []
   },
   "outputs": [],
   "source": [
    "X_train = X_train/255.\n",
    "X_test = X_test/255."
   ]
  },
  {
   "cell_type": "markdown",
   "id": "ddcf4fab",
   "metadata": {
    "papermill": {
     "duration": 0.028346,
     "end_time": "2022-10-06T10:14:52.889988",
     "exception": false,
     "start_time": "2022-10-06T10:14:52.861642",
     "status": "completed"
    },
    "tags": []
   },
   "source": [
    "And setup the labels as 1 (when the digit is 3) and 0 (when the digit is 8)"
   ]
  },
  {
   "cell_type": "code",
   "execution_count": 12,
   "id": "7dc908f2",
   "metadata": {
    "execution": {
     "iopub.execute_input": "2022-10-06T10:14:52.953588Z",
     "iopub.status.busy": "2022-10-06T10:14:52.952865Z",
     "iopub.status.idle": "2022-10-06T10:14:52.964695Z",
     "shell.execute_reply": "2022-10-06T10:14:52.964066Z"
    },
    "papermill": {
     "duration": 0.04706,
     "end_time": "2022-10-06T10:14:52.964807",
     "exception": false,
     "start_time": "2022-10-06T10:14:52.917747",
     "status": "completed"
    },
    "tags": []
   },
   "outputs": [],
   "source": [
    "y_train = 1*(y_train==3)\n",
    "y_test = 1*(y_test==3)"
   ]
  },
  {
   "cell_type": "code",
   "execution_count": 13,
   "id": "01e4e969",
   "metadata": {
    "execution": {
     "iopub.execute_input": "2022-10-06T10:14:53.026789Z",
     "iopub.status.busy": "2022-10-06T10:14:53.026211Z",
     "iopub.status.idle": "2022-10-06T10:14:53.040186Z",
     "shell.execute_reply": "2022-10-06T10:14:53.039556Z"
    },
    "papermill": {
     "duration": 0.046479,
     "end_time": "2022-10-06T10:14:53.040290",
     "exception": false,
     "start_time": "2022-10-06T10:14:52.993811",
     "status": "completed"
    },
    "tags": []
   },
   "outputs": [
    {
     "data": {
      "text/plain": [
       "((11982, 28, 28), (1984, 28, 28))"
      ]
     },
     "execution_count": 13,
     "metadata": {},
     "output_type": "execute_result"
    }
   ],
   "source": [
    "X_train.shape, X_test.shape"
   ]
  },
  {
   "cell_type": "markdown",
   "id": "5ccf3f85",
   "metadata": {
    "papermill": {
     "duration": 0.027427,
     "end_time": "2022-10-06T10:14:53.097758",
     "exception": false,
     "start_time": "2022-10-06T10:14:53.070331",
     "status": "completed"
    },
    "tags": []
   },
   "source": [
    "We reshape the data to flatten the image pixels into a set of features or co-variates:"
   ]
  },
  {
   "cell_type": "code",
   "execution_count": 14,
   "id": "5286a4a3",
   "metadata": {
    "execution": {
     "iopub.execute_input": "2022-10-06T10:14:53.158487Z",
     "iopub.status.busy": "2022-10-06T10:14:53.157841Z",
     "iopub.status.idle": "2022-10-06T10:14:53.171659Z",
     "shell.execute_reply": "2022-10-06T10:14:53.172329Z"
    },
    "papermill": {
     "duration": 0.047283,
     "end_time": "2022-10-06T10:14:53.172518",
     "exception": false,
     "start_time": "2022-10-06T10:14:53.125235",
     "status": "completed"
    },
    "tags": []
   },
   "outputs": [
    {
     "data": {
      "text/plain": [
       "((11982, 784), (1984, 784))"
      ]
     },
     "execution_count": 14,
     "metadata": {},
     "output_type": "execute_result"
    }
   ],
   "source": [
    "X_train = X_train.reshape(X_train.shape[0], -1)\n",
    "X_test = X_test.reshape(X_test.shape[0], -1)\n",
    "X_train.shape, X_test.shape"
   ]
  },
  {
   "cell_type": "code",
   "execution_count": 15,
   "id": "73c5f88a",
   "metadata": {
    "execution": {
     "iopub.execute_input": "2022-10-06T10:14:53.234764Z",
     "iopub.status.busy": "2022-10-06T10:14:53.234173Z",
     "iopub.status.idle": "2022-10-06T10:14:53.252262Z",
     "shell.execute_reply": "2022-10-06T10:14:53.252698Z"
    },
    "papermill": {
     "duration": 0.050758,
     "end_time": "2022-10-06T10:14:53.252814",
     "exception": false,
     "start_time": "2022-10-06T10:14:53.202056",
     "status": "completed"
    },
    "tags": []
   },
   "outputs": [],
   "source": [
    "#Impoting functions from 'Kudzu'\n",
    "from kudzu.model import Model\n",
    "from kudzu.train import Learner\n",
    "from kudzu.optim import GD\n",
    "from kudzu.data import Data, Sampler,Dataloader\n",
    "\n",
    "from kudzu.callbacks import AccCallback\n",
    "from kudzu.callbacks import ClfCallback\n",
    "\n",
    "from kudzu.loss import MSE\n",
    "\n",
    "from kudzu.layer import Sigmoid,Relu\n",
    "from kudzu.layer import Affine"
   ]
  },
  {
   "cell_type": "markdown",
   "id": "bc01172a",
   "metadata": {
    "papermill": {
     "duration": 0.03318,
     "end_time": "2022-10-06T10:14:53.318945",
     "exception": false,
     "start_time": "2022-10-06T10:14:53.285765",
     "status": "completed"
    },
    "tags": []
   },
   "source": [
    "### Let us create a `Config` class, to store important parameters. \n",
    "This class essentially plays the role of a dictionary."
   ]
  },
  {
   "cell_type": "code",
   "execution_count": 16,
   "id": "978281aa",
   "metadata": {
    "execution": {
     "iopub.execute_input": "2022-10-06T10:14:53.386371Z",
     "iopub.status.busy": "2022-10-06T10:14:53.385781Z",
     "iopub.status.idle": "2022-10-06T10:14:53.398315Z",
     "shell.execute_reply": "2022-10-06T10:14:53.397832Z"
    },
    "papermill": {
     "duration": 0.046558,
     "end_time": "2022-10-06T10:14:53.398423",
     "exception": false,
     "start_time": "2022-10-06T10:14:53.351865",
     "status": "completed"
    },
    "tags": []
   },
   "outputs": [],
   "source": [
    "class Config:\n",
    "    pass\n",
    "config = Config()\n",
    "config.lr = 0.001\n",
    "config.num_epochs = 250\n",
    "config.bs = 50"
   ]
  },
  {
   "cell_type": "markdown",
   "id": "1385fa59",
   "metadata": {
    "papermill": {
     "duration": 0.028183,
     "end_time": "2022-10-06T10:14:53.454502",
     "exception": false,
     "start_time": "2022-10-06T10:14:53.426319",
     "status": "completed"
    },
    "tags": []
   },
   "source": [
    "### Running Models with the Training data\n",
    "Details about the network layers:\n",
    "- A first affine layer has 784 inputs and does 100 affine transforms. These are followed by a Relu\n",
    "- A second affine layer has 100 inputs from the 100 activations of the past layer, and does 100 affine transforms. These are followed by a Relu\n",
    "- A third affine layer has 100 activations and does 2 affine transformations to create an embedding for visualization. There is no non-linearity here.\n",
    "- A final \"logistic regression\" which has an affine transform from 2 inputs to 1 output, which is squeezed through a sigmoid.\n"
   ]
  },
  {
   "cell_type": "code",
   "execution_count": 17,
   "id": "2b9c66db",
   "metadata": {
    "execution": {
     "iopub.execute_input": "2022-10-06T10:14:53.517213Z",
     "iopub.status.busy": "2022-10-06T10:14:53.516313Z",
     "iopub.status.idle": "2022-10-06T10:14:53.529248Z",
     "shell.execute_reply": "2022-10-06T10:14:53.528712Z"
    },
    "papermill": {
     "duration": 0.045787,
     "end_time": "2022-10-06T10:14:53.529423",
     "exception": false,
     "start_time": "2022-10-06T10:14:53.483636",
     "status": "completed"
    },
    "tags": []
   },
   "outputs": [],
   "source": [
    "data = Data(X_train, y_train.reshape(-1,1))\n",
    "sampler = Sampler(data, config.bs, shuffle=True)\n",
    "\n",
    "dl = Dataloader(data, sampler)\n",
    "\n",
    "opt = GD(config.lr)\n",
    "loss = MSE()"
   ]
  },
  {
   "cell_type": "code",
   "execution_count": 18,
   "id": "b275e4c2",
   "metadata": {
    "execution": {
     "iopub.execute_input": "2022-10-06T10:14:53.597250Z",
     "iopub.status.busy": "2022-10-06T10:14:53.596605Z",
     "iopub.status.idle": "2022-10-06T10:14:53.607202Z",
     "shell.execute_reply": "2022-10-06T10:14:53.607892Z"
    },
    "papermill": {
     "duration": 0.048871,
     "end_time": "2022-10-06T10:14:53.608024",
     "exception": false,
     "start_time": "2022-10-06T10:14:53.559153",
     "status": "completed"
    },
    "tags": []
   },
   "outputs": [],
   "source": [
    "training_data_x = X_train\n",
    "testing_data_x = X_test\n",
    "training_data_y = y_train.reshape(-1,1)\n",
    "testing_data_y = y_test.reshape(-1,1)"
   ]
  },
  {
   "cell_type": "code",
   "execution_count": 19,
   "id": "76951160",
   "metadata": {
    "execution": {
     "iopub.execute_input": "2022-10-06T10:14:53.677800Z",
     "iopub.status.busy": "2022-10-06T10:14:53.677125Z",
     "iopub.status.idle": "2022-10-06T10:14:53.694718Z",
     "shell.execute_reply": "2022-10-06T10:14:53.694218Z"
    },
    "papermill": {
     "duration": 0.055251,
     "end_time": "2022-10-06T10:14:53.694850",
     "exception": false,
     "start_time": "2022-10-06T10:14:53.639599",
     "status": "completed"
    },
    "tags": []
   },
   "outputs": [
    {
     "name": "stdout",
     "output_type": "stream",
     "text": [
      "xavier\n",
      "xavier\n",
      "xavier\n",
      "xavier\n",
      "xavier\n"
     ]
    }
   ],
   "source": [
    "layers = [Affine(\"first\", 784, 100), Relu(\"first\"), Affine(\"second\", 100, 100), Relu(\"second\"), Affine(\"third\", 100, 2), Affine(\"last\", 2, 1), Sigmoid(\"last\")]\n",
    "model_nn = Model(layers)\n",
    "model_lr = Model([Affine(\"logits\", 784, 1), Sigmoid(\"sigmoid\")])"
   ]
  },
  {
   "cell_type": "code",
   "execution_count": 20,
   "id": "6eede77a",
   "metadata": {
    "execution": {
     "iopub.execute_input": "2022-10-06T10:14:53.771532Z",
     "iopub.status.busy": "2022-10-06T10:14:53.770527Z",
     "iopub.status.idle": "2022-10-06T10:14:53.780137Z",
     "shell.execute_reply": "2022-10-06T10:14:53.780643Z"
    },
    "papermill": {
     "duration": 0.054972,
     "end_time": "2022-10-06T10:14:53.780775",
     "exception": false,
     "start_time": "2022-10-06T10:14:53.725803",
     "status": "completed"
    },
    "tags": []
   },
   "outputs": [],
   "source": [
    "nn_learner = Learner(loss, model_nn, opt, config.num_epochs)\n",
    "acc_nn = ClfCallback(nn_learner, config.bs, training_data_x , testing_data_x, training_data_y, testing_data_y)\n",
    "nn_learner.set_callbacks([acc_nn])"
   ]
  },
  {
   "cell_type": "code",
   "execution_count": 21,
   "id": "877b6cc7",
   "metadata": {
    "execution": {
     "iopub.execute_input": "2022-10-06T10:14:53.850579Z",
     "iopub.status.busy": "2022-10-06T10:14:53.848288Z",
     "iopub.status.idle": "2022-10-06T10:14:53.862680Z",
     "shell.execute_reply": "2022-10-06T10:14:53.862138Z"
    },
    "papermill": {
     "duration": 0.049969,
     "end_time": "2022-10-06T10:14:53.862824",
     "exception": false,
     "start_time": "2022-10-06T10:14:53.812855",
     "status": "completed"
    },
    "tags": []
   },
   "outputs": [],
   "source": [
    "lr_learner = Learner(loss, model_lr, opt, config.num_epochs)\n",
    "acc_lr = ClfCallback(lr_learner, config.bs, training_data_x , testing_data_x, training_data_y, testing_data_y)\n",
    "lr_learner.set_callbacks([acc_lr])"
   ]
  },
  {
   "cell_type": "code",
   "execution_count": 22,
   "id": "d9b133c3",
   "metadata": {
    "execution": {
     "iopub.execute_input": "2022-10-06T10:14:53.928034Z",
     "iopub.status.busy": "2022-10-06T10:14:53.927176Z",
     "iopub.status.idle": "2022-10-06T10:17:15.875867Z",
     "shell.execute_reply": "2022-10-06T10:17:15.876680Z"
    },
    "papermill": {
     "duration": 141.984552,
     "end_time": "2022-10-06T10:17:15.876826",
     "exception": false,
     "start_time": "2022-10-06T10:14:53.892274",
     "status": "completed"
    },
    "tags": []
   },
   "outputs": [
    {
     "name": "stdout",
     "output_type": "stream",
     "text": [
      "Epoch 0, Loss 0.2428\n",
      "Training Accuracy: 0.6469, Testing Accuracy: 0.6638\n",
      "\n"
     ]
    },
    {
     "name": "stdout",
     "output_type": "stream",
     "text": [
      "Epoch 10, Loss 0.1737\n",
      "Training Accuracy: 0.8885, Testing Accuracy: 0.8977\n",
      "\n"
     ]
    },
    {
     "name": "stdout",
     "output_type": "stream",
     "text": [
      "Epoch 20, Loss 0.0863\n",
      "Training Accuracy: 0.9197, Testing Accuracy: 0.9269\n",
      "\n"
     ]
    },
    {
     "name": "stdout",
     "output_type": "stream",
     "text": [
      "Epoch 30, Loss 0.058\n",
      "Training Accuracy: 0.9367, Testing Accuracy: 0.9466\n",
      "\n"
     ]
    },
    {
     "name": "stdout",
     "output_type": "stream",
     "text": [
      "Epoch 40, Loss 0.0469\n",
      "Training Accuracy: 0.9466, Testing Accuracy: 0.9587\n",
      "\n"
     ]
    },
    {
     "name": "stdout",
     "output_type": "stream",
     "text": [
      "Epoch 50, Loss 0.0409\n",
      "Training Accuracy: 0.9529, Testing Accuracy: 0.9637\n",
      "\n"
     ]
    },
    {
     "name": "stdout",
     "output_type": "stream",
     "text": [
      "Epoch 60, Loss 0.0371\n",
      "Training Accuracy: 0.9571, Testing Accuracy: 0.9627\n",
      "\n"
     ]
    },
    {
     "name": "stdout",
     "output_type": "stream",
     "text": [
      "Epoch 70, Loss 0.0345\n",
      "Training Accuracy: 0.9598, Testing Accuracy: 0.9647\n",
      "\n"
     ]
    },
    {
     "name": "stdout",
     "output_type": "stream",
     "text": [
      "Epoch 80, Loss 0.0325\n",
      "Training Accuracy: 0.9618, Testing Accuracy: 0.9652\n",
      "\n"
     ]
    },
    {
     "name": "stdout",
     "output_type": "stream",
     "text": [
      "Epoch 90, Loss 0.0309\n",
      "Training Accuracy: 0.9635, Testing Accuracy: 0.9682\n",
      "\n"
     ]
    },
    {
     "name": "stdout",
     "output_type": "stream",
     "text": [
      "Epoch 100, Loss 0.0296\n",
      "Training Accuracy: 0.9650, Testing Accuracy: 0.9693\n",
      "\n"
     ]
    },
    {
     "name": "stdout",
     "output_type": "stream",
     "text": [
      "Epoch 110, Loss 0.0285\n",
      "Training Accuracy: 0.9661, Testing Accuracy: 0.9698\n",
      "\n"
     ]
    },
    {
     "name": "stdout",
     "output_type": "stream",
     "text": [
      "Epoch 120, Loss 0.0275\n",
      "Training Accuracy: 0.9680, Testing Accuracy: 0.9703\n",
      "\n"
     ]
    },
    {
     "name": "stdout",
     "output_type": "stream",
     "text": [
      "Epoch 130, Loss 0.0267\n",
      "Training Accuracy: 0.9689, Testing Accuracy: 0.9708\n",
      "\n"
     ]
    },
    {
     "name": "stdout",
     "output_type": "stream",
     "text": [
      "Epoch 140, Loss 0.0259\n",
      "Training Accuracy: 0.9697, Testing Accuracy: 0.9723\n",
      "\n"
     ]
    },
    {
     "name": "stdout",
     "output_type": "stream",
     "text": [
      "Epoch 150, Loss 0.0253\n",
      "Training Accuracy: 0.9705, Testing Accuracy: 0.9723\n",
      "\n"
     ]
    },
    {
     "name": "stdout",
     "output_type": "stream",
     "text": [
      "Epoch 160, Loss 0.0246\n",
      "Training Accuracy: 0.9712, Testing Accuracy: 0.9723\n",
      "\n"
     ]
    },
    {
     "name": "stdout",
     "output_type": "stream",
     "text": [
      "Epoch 170, Loss 0.0241\n",
      "Training Accuracy: 0.9725, Testing Accuracy: 0.9728\n",
      "\n"
     ]
    },
    {
     "name": "stdout",
     "output_type": "stream",
     "text": [
      "Epoch 180, Loss 0.0235\n",
      "Training Accuracy: 0.9730, Testing Accuracy: 0.9733\n",
      "\n"
     ]
    },
    {
     "name": "stdout",
     "output_type": "stream",
     "text": [
      "Epoch 190, Loss 0.023\n",
      "Training Accuracy: 0.9735, Testing Accuracy: 0.9728\n",
      "\n"
     ]
    },
    {
     "name": "stdout",
     "output_type": "stream",
     "text": [
      "Epoch 200, Loss 0.0226\n",
      "Training Accuracy: 0.9741, Testing Accuracy: 0.9728\n",
      "\n"
     ]
    },
    {
     "name": "stdout",
     "output_type": "stream",
     "text": [
      "Epoch 210, Loss 0.0221\n",
      "Training Accuracy: 0.9751, Testing Accuracy: 0.9728\n",
      "\n"
     ]
    },
    {
     "name": "stdout",
     "output_type": "stream",
     "text": [
      "Epoch 220, Loss 0.0217\n",
      "Training Accuracy: 0.9756, Testing Accuracy: 0.9728\n",
      "\n"
     ]
    },
    {
     "name": "stdout",
     "output_type": "stream",
     "text": [
      "Epoch 230, Loss 0.0213\n",
      "Training Accuracy: 0.9760, Testing Accuracy: 0.9723\n",
      "\n"
     ]
    },
    {
     "name": "stdout",
     "output_type": "stream",
     "text": [
      "Epoch 240, Loss 0.0209\n",
      "Training Accuracy: 0.9764, Testing Accuracy: 0.9718\n",
      "\n"
     ]
    },
    {
     "data": {
      "text/plain": [
       "0.034868567593275376"
      ]
     },
     "execution_count": 22,
     "metadata": {},
     "output_type": "execute_result"
    }
   ],
   "source": [
    "nn_learner.train_loop(dl)"
   ]
  },
  {
   "cell_type": "code",
   "execution_count": 23,
   "id": "e0163366",
   "metadata": {
    "execution": {
     "iopub.execute_input": "2022-10-06T10:17:15.965661Z",
     "iopub.status.busy": "2022-10-06T10:17:15.964736Z",
     "iopub.status.idle": "2022-10-06T10:17:36.548002Z",
     "shell.execute_reply": "2022-10-06T10:17:36.548869Z"
    },
    "papermill": {
     "duration": 20.634957,
     "end_time": "2022-10-06T10:17:36.549024",
     "exception": false,
     "start_time": "2022-10-06T10:17:15.914067",
     "status": "completed"
    },
    "tags": []
   },
   "outputs": [
    {
     "name": "stdout",
     "output_type": "stream",
     "text": [
      "Epoch 0, Loss 0.252\n",
      "Training Accuracy: 0.6346, Testing Accuracy: 0.6230\n",
      "\n"
     ]
    },
    {
     "name": "stdout",
     "output_type": "stream",
     "text": [
      "Epoch 10, Loss 0.107\n",
      "Training Accuracy: 0.8984, Testing Accuracy: 0.9143\n",
      "\n"
     ]
    },
    {
     "name": "stdout",
     "output_type": "stream",
     "text": [
      "Epoch 20, Loss 0.081\n",
      "Training Accuracy: 0.9240, Testing Accuracy: 0.9309\n",
      "\n"
     ]
    },
    {
     "name": "stdout",
     "output_type": "stream",
     "text": [
      "Epoch 30, Loss 0.0692\n",
      "Training Accuracy: 0.9345, Testing Accuracy: 0.9441\n",
      "\n"
     ]
    },
    {
     "name": "stdout",
     "output_type": "stream",
     "text": [
      "Epoch 40, Loss 0.0623\n",
      "Training Accuracy: 0.9403, Testing Accuracy: 0.9511\n",
      "\n"
     ]
    },
    {
     "name": "stdout",
     "output_type": "stream",
     "text": [
      "Epoch 50, Loss 0.0576\n",
      "Training Accuracy: 0.9437, Testing Accuracy: 0.9556\n",
      "\n"
     ]
    },
    {
     "name": "stdout",
     "output_type": "stream",
     "text": [
      "Epoch 60, Loss 0.0541\n",
      "Training Accuracy: 0.9466, Testing Accuracy: 0.9582\n",
      "\n"
     ]
    },
    {
     "name": "stdout",
     "output_type": "stream",
     "text": [
      "Epoch 70, Loss 0.0515\n",
      "Training Accuracy: 0.9486, Testing Accuracy: 0.9597\n",
      "\n"
     ]
    },
    {
     "name": "stdout",
     "output_type": "stream",
     "text": [
      "Epoch 80, Loss 0.0494\n",
      "Training Accuracy: 0.9496, Testing Accuracy: 0.9617\n",
      "\n"
     ]
    },
    {
     "name": "stdout",
     "output_type": "stream",
     "text": [
      "Epoch 90, Loss 0.0477\n",
      "Training Accuracy: 0.9513, Testing Accuracy: 0.9632\n",
      "\n"
     ]
    },
    {
     "name": "stdout",
     "output_type": "stream",
     "text": [
      "Epoch 100, Loss 0.0463\n",
      "Training Accuracy: 0.9525, Testing Accuracy: 0.9642\n",
      "\n"
     ]
    },
    {
     "name": "stdout",
     "output_type": "stream",
     "text": [
      "Epoch 110, Loss 0.045\n",
      "Training Accuracy: 0.9543, Testing Accuracy: 0.9647\n",
      "\n"
     ]
    },
    {
     "name": "stdout",
     "output_type": "stream",
     "text": [
      "Epoch 120, Loss 0.044\n",
      "Training Accuracy: 0.9546, Testing Accuracy: 0.9647\n",
      "\n"
     ]
    },
    {
     "name": "stdout",
     "output_type": "stream",
     "text": [
      "Epoch 130, Loss 0.043\n",
      "Training Accuracy: 0.9553, Testing Accuracy: 0.9652\n",
      "\n"
     ]
    },
    {
     "name": "stdout",
     "output_type": "stream",
     "text": [
      "Epoch 140, Loss 0.0422\n",
      "Training Accuracy: 0.9564, Testing Accuracy: 0.9652\n",
      "\n"
     ]
    },
    {
     "name": "stdout",
     "output_type": "stream",
     "text": [
      "Epoch 150, Loss 0.0414\n",
      "Training Accuracy: 0.9566, Testing Accuracy: 0.9652\n",
      "\n"
     ]
    },
    {
     "name": "stdout",
     "output_type": "stream",
     "text": [
      "Epoch 160, Loss 0.0408\n",
      "Training Accuracy: 0.9569, Testing Accuracy: 0.9662\n",
      "\n"
     ]
    },
    {
     "name": "stdout",
     "output_type": "stream",
     "text": [
      "Epoch 170, Loss 0.0401\n",
      "Training Accuracy: 0.9576, Testing Accuracy: 0.9662\n",
      "\n"
     ]
    },
    {
     "name": "stdout",
     "output_type": "stream",
     "text": [
      "Epoch 180, Loss 0.0396\n",
      "Training Accuracy: 0.9579, Testing Accuracy: 0.9672\n",
      "\n"
     ]
    },
    {
     "name": "stdout",
     "output_type": "stream",
     "text": [
      "Epoch 190, Loss 0.0391\n",
      "Training Accuracy: 0.9580, Testing Accuracy: 0.9672\n",
      "\n"
     ]
    },
    {
     "name": "stdout",
     "output_type": "stream",
     "text": [
      "Epoch 200, Loss 0.0386\n",
      "Training Accuracy: 0.9584, Testing Accuracy: 0.9672\n",
      "\n"
     ]
    },
    {
     "name": "stdout",
     "output_type": "stream",
     "text": [
      "Epoch 210, Loss 0.0381\n",
      "Training Accuracy: 0.9584, Testing Accuracy: 0.9677\n",
      "\n"
     ]
    },
    {
     "name": "stdout",
     "output_type": "stream",
     "text": [
      "Epoch 220, Loss 0.0377\n",
      "Training Accuracy: 0.9590, Testing Accuracy: 0.9682\n",
      "\n"
     ]
    },
    {
     "name": "stdout",
     "output_type": "stream",
     "text": [
      "Epoch 230, Loss 0.0373\n",
      "Training Accuracy: 0.9592, Testing Accuracy: 0.9682\n",
      "\n"
     ]
    },
    {
     "name": "stdout",
     "output_type": "stream",
     "text": [
      "Epoch 240, Loss 0.037\n",
      "Training Accuracy: 0.9598, Testing Accuracy: 0.9682\n",
      "\n"
     ]
    },
    {
     "data": {
      "text/plain": [
       "0.04957728814941112"
      ]
     },
     "execution_count": 23,
     "metadata": {},
     "output_type": "execute_result"
    }
   ],
   "source": [
    "lr_learner.train_loop(dl)"
   ]
  },
  {
   "cell_type": "code",
   "execution_count": 24,
   "id": "ca410940",
   "metadata": {
    "execution": {
     "iopub.execute_input": "2022-10-06T10:17:36.655141Z",
     "iopub.status.busy": "2022-10-06T10:17:36.654411Z",
     "iopub.status.idle": "2022-10-06T10:17:36.958858Z",
     "shell.execute_reply": "2022-10-06T10:17:36.959607Z"
    },
    "papermill": {
     "duration": 0.363428,
     "end_time": "2022-10-06T10:17:36.959797",
     "exception": false,
     "start_time": "2022-10-06T10:17:36.596369",
     "status": "completed"
    },
    "tags": []
   },
   "outputs": [
    {
     "data": {
      "text/plain": [
       "<matplotlib.legend.Legend at 0x7f92394074e0>"
      ]
     },
     "execution_count": 24,
     "metadata": {},
     "output_type": "execute_result"
    },
    {
     "data": {
      "image/png": "[encoded data removed]",
      "text/plain": [
       "<Figure size 1080x720 with 1 Axes>"
      ]
     },
     "metadata": {
      "needs_background": "light"
     },
     "output_type": "display_data"
    }
   ],
   "source": [
    "#comparing the results of NN and LR\n",
    "plt.figure(figsize=(15,10))\n",
    "\n",
    "# Neural Network plots\n",
    "plt.plot(acc_nn.accuracies, 'r-', label = \"Training Accuracies - NN\")\n",
    "plt.plot(acc_nn.test_accuracies, 'g-', label = \"Testing Accuracies - NN\")\n",
    "\n",
    "# Logistic Regression plots\n",
    "plt.plot(acc_lr.accuracies, 'k-', label = \"Training Accuracies - LR\")\n",
    "plt.plot(acc_lr.test_accuracies, 'b-', label = \"Testing Accuracies - LR\")\n",
    "plt.legend()"
   ]
  },
  {
   "cell_type": "markdown",
   "id": "80dfb35c",
   "metadata": {
    "papermill": {
     "duration": 0.045319,
     "end_time": "2022-10-06T10:17:37.053148",
     "exception": false,
     "start_time": "2022-10-06T10:17:37.007829",
     "status": "completed"
    },
    "tags": []
   },
   "source": [
    "#### Plotting the outputs of this layer of the NN.\n"
   ]
  },
  {
   "cell_type": "code",
   "execution_count": 25,
   "id": "45eb2ff5",
   "metadata": {
    "execution": {
     "iopub.execute_input": "2022-10-06T10:17:37.161519Z",
     "iopub.status.busy": "2022-10-06T10:17:37.160399Z",
     "iopub.status.idle": "2022-10-06T10:17:37.189605Z",
     "shell.execute_reply": "2022-10-06T10:17:37.190118Z"
    },
    "papermill": {
     "duration": 0.087335,
     "end_time": "2022-10-06T10:17:37.190270",
     "exception": false,
     "start_time": "2022-10-06T10:17:37.102935",
     "status": "completed"
    },
    "tags": []
   },
   "outputs": [],
   "source": [
    "new_model = Model(layers[:-2])\n",
    "testing_plot = new_model(testing_data_x)"
   ]
  },
  {
   "cell_type": "code",
   "execution_count": 26,
   "id": "4c0a5485",
   "metadata": {
    "execution": {
     "iopub.execute_input": "2022-10-06T10:17:37.299038Z",
     "iopub.status.busy": "2022-10-06T10:17:37.298001Z",
     "iopub.status.idle": "2022-10-06T10:17:37.535150Z",
     "shell.execute_reply": "2022-10-06T10:17:37.535667Z"
    },
    "papermill": {
     "duration": 0.296986,
     "end_time": "2022-10-06T10:17:37.535814",
     "exception": false,
     "start_time": "2022-10-06T10:17:37.238828",
     "status": "completed"
    },
    "tags": []
   },
   "outputs": [
    {
     "data": {
      "text/plain": [
       "Text(0.5, 1.0, 'Outputs')"
      ]
     },
     "execution_count": 26,
     "metadata": {},
     "output_type": "execute_result"
    },
    {
     "data": {
      "image/png": "[encoded data removed]",
      "text/plain": [
       "<Figure size 576x504 with 1 Axes>"
      ]
     },
     "metadata": {
      "needs_background": "light"
     },
     "output_type": "display_data"
    }
   ],
   "source": [
    "# Plotting the scatter plot of points and color coding by class\n",
    "plt.figure(figsize=(8,7))\n",
    "plt.scatter(testing_plot[:,0], testing_plot[:,1], alpha = 0.1, c = y_test.ravel());\n",
    "plt.title('Outputs')"
   ]
  },
  {
   "cell_type": "markdown",
   "id": "a74fcf8f",
   "metadata": {
    "papermill": {
     "duration": 0.070024,
     "end_time": "2022-10-06T10:17:37.654385",
     "exception": false,
     "start_time": "2022-10-06T10:17:37.584361",
     "status": "completed"
    },
    "tags": []
   },
   "source": [
    "Probability contours"
   ]
  },
  {
   "cell_type": "code",
   "execution_count": 27,
   "id": "d0afc8e3",
   "metadata": {
    "execution": {
     "iopub.execute_input": "2022-10-06T10:17:37.750747Z",
     "iopub.status.busy": "2022-10-06T10:17:37.750146Z",
     "iopub.status.idle": "2022-10-06T10:17:37.762551Z",
     "shell.execute_reply": "2022-10-06T10:17:37.763218Z"
    },
    "papermill": {
     "duration": 0.061762,
     "end_time": "2022-10-06T10:17:37.763341",
     "exception": false,
     "start_time": "2022-10-06T10:17:37.701579",
     "status": "completed"
    },
    "tags": []
   },
   "outputs": [],
   "source": [
    "model_prob = Model(layers[-2:]) "
   ]
  },
  {
   "cell_type": "code",
   "execution_count": 28,
   "id": "9b96e238",
   "metadata": {
    "execution": {
     "iopub.execute_input": "2022-10-06T10:17:37.872934Z",
     "iopub.status.busy": "2022-10-06T10:17:37.866318Z",
     "iopub.status.idle": "2022-10-06T10:17:37.881154Z",
     "shell.execute_reply": "2022-10-06T10:17:37.880649Z"
    },
    "papermill": {
     "duration": 0.068807,
     "end_time": "2022-10-06T10:17:37.881260",
     "exception": false,
     "start_time": "2022-10-06T10:17:37.812453",
     "status": "completed"
    },
    "tags": []
   },
   "outputs": [],
   "source": [
    "#creating the x and y ranges according to the above generated plot.\n",
    "x_range = np.linspace(-4, 1, 100) \n",
    "y_range = np.linspace(-6, 6, 100) \n",
    "x_grid, y_grid = np.meshgrid(x_range, y_range) # x_grid and y_grig are of size 100 X 100\n",
    "\n",
    "# converting x_grid and y_grid to continuous arrays\n",
    "x_gridflat = np.ravel(x_grid)\n",
    "y_gridflat = np.ravel(y_grid)\n",
    "\n",
    "# The last layer of the current model takes two columns as input. Hence transpose of np.vstack() is required.\n",
    "X = np.vstack((x_gridflat, y_gridflat)).T\n",
    "\n",
    "prob_contour = model_prob(X).reshape(100,100) "
   ]
  },
  {
   "cell_type": "code",
   "execution_count": 29,
   "id": "da72499a",
   "metadata": {
    "execution": {
     "iopub.execute_input": "2022-10-06T10:17:37.991586Z",
     "iopub.status.busy": "2022-10-06T10:17:37.990637Z",
     "iopub.status.idle": "2022-10-06T10:17:38.312719Z",
     "shell.execute_reply": "2022-10-06T10:17:38.313239Z"
    },
    "papermill": {
     "duration": 0.382915,
     "end_time": "2022-10-06T10:17:38.313413",
     "exception": false,
     "start_time": "2022-10-06T10:17:37.930498",
     "status": "completed"
    },
    "tags": []
   },
   "outputs": [
    {
     "data": {
      "image/png": "[encoded data removed]",
      "text/plain": [
       "<Figure size 720x648 with 1 Axes>"
      ]
     },
     "metadata": {
      "needs_background": "light"
     },
     "output_type": "display_data"
    }
   ],
   "source": [
    "plt.figure(figsize=(10,9))\n",
    "plt.scatter(testing_plot[:,0], testing_plot[:,1], alpha = 0.1, c = y_test.ravel())\n",
    "contours = plt.contour(x_grid,y_grid,prob_contour)\n",
    "plt.title('Probability Contours')\n",
    "plt.clabel(contours, inline = True );"
   ]
  },
  {
   "cell_type": "code",
   "execution_count": null,
   "id": "e81b4ac7",
   "metadata": {
    "papermill": {
     "duration": 0.059724,
     "end_time": "2022-10-06T10:17:38.430602",
     "exception": false,
     "start_time": "2022-10-06T10:17:38.370878",
     "status": "completed"
    },
    "tags": []
   },
   "outputs": [],
   "source": []
  }
 ],
 "metadata": {
  "kernelspec": {
   "display_name": "Python 3",
   "language": "python",
   "name": "python3"
  },
  "language_info": {
   "codemirror_mode": {
    "name": "ipython",
    "version": 3
   },
   "file_extension": ".py",
   "mimetype": "text/x-python",
   "name": "python",
   "nbconvert_exporter": "python",
   "pygments_lexer": "ipython3",
   "version": "3.6.15"
  },
  "papermill": {
   "default_parameters": {},
   "duration": 171.595463,
   "end_time": "2022-10-06T10:17:38.905199",
   "environment_variables": {},
   "exception": null,
   "input_path": "2020-08-11-part2.ipynb",
   "output_path": "2020-08-11-part2.ipynb",
   "parameters": {},
   "start_time": "2022-10-06T10:14:47.309736",
   "version": "2.3.3"
  }
 },
 "nbformat": 4,
 "nbformat_minor": 5
}