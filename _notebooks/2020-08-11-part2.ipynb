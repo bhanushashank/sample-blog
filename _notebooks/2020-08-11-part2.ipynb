{
 "cells": [
  {
   "cell_type": "markdown",
   "id": "98380cd3",
   "metadata": {
    "papermill": {
     "duration": 0.033713,
     "end_time": "2021-12-12T00:25:10.450469",
     "exception": false,
     "start_time": "2021-12-12T00:25:10.416756",
     "status": "completed"
    },
    "tags": []
   },
   "source": [
    "# Distinguish Your Own Digits (DYOD)"
   ]
  },
  {
   "cell_type": "markdown",
   "id": "ef31240d",
   "metadata": {
    "papermill": {
     "duration": 0.029308,
     "end_time": "2021-12-12T00:25:10.508933",
     "exception": false,
     "start_time": "2021-12-12T00:25:10.479625",
     "status": "completed"
    },
    "tags": []
   },
   "source": [
    "You are going to write a classifier that distinguishes between the number 3 and number 8."
   ]
  },
  {
   "cell_type": "code",
   "execution_count": 1,
   "id": "b15c8646",
   "metadata": {
    "execution": {
     "iopub.execute_input": "2021-12-12T00:25:10.578088Z",
     "iopub.status.busy": "2021-12-12T00:25:10.577416Z",
     "iopub.status.idle": "2021-12-12T00:25:10.589120Z",
     "shell.execute_reply": "2021-12-12T00:25:10.588625Z"
    },
    "papermill": {
     "duration": 0.052177,
     "end_time": "2021-12-12T00:25:10.589283",
     "exception": false,
     "start_time": "2021-12-12T00:25:10.537106",
     "status": "completed"
    },
    "tags": []
   },
   "outputs": [],
   "source": [
    "%load_ext autoreload\n",
    "%autoreload 2"
   ]
  },
  {
   "cell_type": "code",
   "execution_count": 2,
   "id": "22ef38dc",
   "metadata": {
    "execution": {
     "iopub.execute_input": "2021-12-12T00:25:10.645795Z",
     "iopub.status.busy": "2021-12-12T00:25:10.645025Z",
     "iopub.status.idle": "2021-12-12T00:25:11.283295Z",
     "shell.execute_reply": "2021-12-12T00:25:11.282624Z"
    },
    "papermill": {
     "duration": 0.667672,
     "end_time": "2021-12-12T00:25:11.283435",
     "exception": false,
     "start_time": "2021-12-12T00:25:10.615763",
     "status": "completed"
    },
    "tags": []
   },
   "outputs": [],
   "source": [
    "%matplotlib inline\n",
    "import numpy as np\n",
    "import matplotlib.pyplot as plt\n",
    "import pandas as pd"
   ]
  },
  {
   "cell_type": "markdown",
   "id": "ba036198",
   "metadata": {
    "papermill": {
     "duration": 0.028147,
     "end_time": "2021-12-12T00:25:11.339274",
     "exception": false,
     "start_time": "2021-12-12T00:25:11.311127",
     "status": "completed"
    },
    "tags": []
   },
   "source": [
    "From the command line run `pip install mnist`. This is a library that will help you bring down the mnist dataset. If you run this from a notebook, you need to put  `!pip install mnist` in a cell by itself."
   ]
  },
  {
   "cell_type": "code",
   "execution_count": 3,
   "id": "bb6ad8a1",
   "metadata": {
    "execution": {
     "iopub.execute_input": "2021-12-12T00:25:11.401206Z",
     "iopub.status.busy": "2021-12-12T00:25:11.400518Z",
     "iopub.status.idle": "2021-12-12T00:25:14.019649Z",
     "shell.execute_reply": "2021-12-12T00:25:14.018844Z"
    },
    "papermill": {
     "duration": 2.653382,
     "end_time": "2021-12-12T00:25:14.019782",
     "exception": false,
     "start_time": "2021-12-12T00:25:11.366400",
     "status": "completed"
    },
    "tags": []
   },
   "outputs": [
    {
     "name": "stdout",
     "output_type": "stream",
     "text": [
      "Collecting mnist\r\n"
     ]
    },
    {
     "name": "stdout",
     "output_type": "stream",
     "text": [
      "  Downloading mnist-0.2.2-py2.py3-none-any.whl (3.5 kB)\r\n",
      "Requirement already satisfied: numpy in /opt/hostedtoolcache/Python/3.6.15/x64/lib/python3.6/site-packages (from mnist) (1.19.5)\r\n"
     ]
    },
    {
     "name": "stdout",
     "output_type": "stream",
     "text": [
      "Installing collected packages: mnist\r\n"
     ]
    },
    {
     "name": "stdout",
     "output_type": "stream",
     "text": [
      "Successfully installed mnist-0.2.2\r\n"
     ]
    }
   ],
   "source": [
    "!pip install mnist"
   ]
  },
  {
   "cell_type": "markdown",
   "id": "69df9c9a",
   "metadata": {
    "papermill": {
     "duration": 0.030621,
     "end_time": "2021-12-12T00:25:14.081490",
     "exception": false,
     "start_time": "2021-12-12T00:25:14.050869",
     "status": "completed"
    },
    "tags": []
   },
   "source": [
    "## Preparing the Data"
   ]
  },
  {
   "cell_type": "code",
   "execution_count": 4,
   "id": "7f69d806",
   "metadata": {
    "execution": {
     "iopub.execute_input": "2021-12-12T00:25:14.148179Z",
     "iopub.status.busy": "2021-12-12T00:25:14.147551Z",
     "iopub.status.idle": "2021-12-12T00:25:14.161244Z",
     "shell.execute_reply": "2021-12-12T00:25:14.160680Z"
    },
    "papermill": {
     "duration": 0.050487,
     "end_time": "2021-12-12T00:25:14.161381",
     "exception": false,
     "start_time": "2021-12-12T00:25:14.110894",
     "status": "completed"
    },
    "tags": []
   },
   "outputs": [],
   "source": [
    "import mnist"
   ]
  },
  {
   "cell_type": "code",
   "execution_count": 5,
   "id": "a411e44f",
   "metadata": {
    "execution": {
     "iopub.execute_input": "2021-12-12T00:25:14.222163Z",
     "iopub.status.busy": "2021-12-12T00:25:14.221616Z",
     "iopub.status.idle": "2021-12-12T00:25:14.742676Z",
     "shell.execute_reply": "2021-12-12T00:25:14.742077Z"
    },
    "papermill": {
     "duration": 0.552896,
     "end_time": "2021-12-12T00:25:14.742822",
     "exception": false,
     "start_time": "2021-12-12T00:25:14.189926",
     "status": "completed"
    },
    "tags": []
   },
   "outputs": [],
   "source": [
    "train_images = mnist.train_images()\n",
    "train_labels = mnist.train_labels()"
   ]
  },
  {
   "cell_type": "code",
   "execution_count": 6,
   "id": "dceab3a5",
   "metadata": {
    "execution": {
     "iopub.execute_input": "2021-12-12T00:25:14.815117Z",
     "iopub.status.busy": "2021-12-12T00:25:14.814400Z",
     "iopub.status.idle": "2021-12-12T00:25:14.830509Z",
     "shell.execute_reply": "2021-12-12T00:25:14.831205Z"
    },
    "papermill": {
     "duration": 0.053883,
     "end_time": "2021-12-12T00:25:14.831365",
     "exception": false,
     "start_time": "2021-12-12T00:25:14.777482",
     "status": "completed"
    },
    "tags": []
   },
   "outputs": [
    {
     "data": {
      "text/plain": [
       "((60000, 28, 28), (60000,))"
      ]
     },
     "execution_count": 6,
     "metadata": {},
     "output_type": "execute_result"
    }
   ],
   "source": [
    "train_images.shape, train_labels.shape"
   ]
  },
  {
   "cell_type": "code",
   "execution_count": 7,
   "id": "f50dc2bb",
   "metadata": {
    "execution": {
     "iopub.execute_input": "2021-12-12T00:25:14.897852Z",
     "iopub.status.busy": "2021-12-12T00:25:14.897246Z",
     "iopub.status.idle": "2021-12-12T00:25:15.018200Z",
     "shell.execute_reply": "2021-12-12T00:25:15.017595Z"
    },
    "papermill": {
     "duration": 0.155692,
     "end_time": "2021-12-12T00:25:15.018361",
     "exception": false,
     "start_time": "2021-12-12T00:25:14.862669",
     "status": "completed"
    },
    "tags": []
   },
   "outputs": [],
   "source": [
    "test_images = mnist.test_images()\n",
    "test_labels = mnist.test_labels()"
   ]
  },
  {
   "cell_type": "code",
   "execution_count": 8,
   "id": "fc38cf1b",
   "metadata": {
    "execution": {
     "iopub.execute_input": "2021-12-12T00:25:15.090077Z",
     "iopub.status.busy": "2021-12-12T00:25:15.089322Z",
     "iopub.status.idle": "2021-12-12T00:25:15.105773Z",
     "shell.execute_reply": "2021-12-12T00:25:15.104490Z"
    },
    "papermill": {
     "duration": 0.055895,
     "end_time": "2021-12-12T00:25:15.105907",
     "exception": false,
     "start_time": "2021-12-12T00:25:15.050012",
     "status": "completed"
    },
    "tags": []
   },
   "outputs": [
    {
     "data": {
      "text/plain": [
       "((10000, 28, 28), (10000,))"
      ]
     },
     "execution_count": 8,
     "metadata": {},
     "output_type": "execute_result"
    }
   ],
   "source": [
    "test_images.shape, test_labels.shape"
   ]
  },
  {
   "cell_type": "code",
   "execution_count": 9,
   "id": "f9ed8fe0",
   "metadata": {
    "execution": {
     "iopub.execute_input": "2021-12-12T00:25:15.176012Z",
     "iopub.status.busy": "2021-12-12T00:25:15.171986Z",
     "iopub.status.idle": "2021-12-12T00:25:15.361276Z",
     "shell.execute_reply": "2021-12-12T00:25:15.360373Z"
    },
    "papermill": {
     "duration": 0.22442,
     "end_time": "2021-12-12T00:25:15.361428",
     "exception": false,
     "start_time": "2021-12-12T00:25:15.137008",
     "status": "completed"
    },
    "tags": []
   },
   "outputs": [
    {
     "name": "stdout",
     "output_type": "stream",
     "text": [
      "2\n"
     ]
    },
    {
     "data": {
      "text/plain": [
       "<matplotlib.image.AxesImage at 0x7fadc737b438>"
      ]
     },
     "execution_count": 9,
     "metadata": {},
     "output_type": "execute_result"
    },
    {
     "data": {
      "image/png": "[encoded data removed]",
      "text/plain": [
       "<Figure size 432x288 with 1 Axes>"
      ]
     },
     "metadata": {
      "needs_background": "light"
     },
     "output_type": "display_data"
    }
   ],
   "source": [
    "image_index = 7776 # You may select anything up to 60,000\n",
    "print(train_labels[image_index]) \n",
    "plt.imshow(train_images[image_index], cmap='Greys')"
   ]
  },
  {
   "cell_type": "markdown",
   "id": "a8d2388d",
   "metadata": {
    "papermill": {
     "duration": 0.031647,
     "end_time": "2021-12-12T00:25:15.425599",
     "exception": false,
     "start_time": "2021-12-12T00:25:15.393952",
     "status": "completed"
    },
    "tags": []
   },
   "source": [
    "## Filter data to get 3 and 8 out"
   ]
  },
  {
   "cell_type": "code",
   "execution_count": 10,
   "id": "776f7fc7",
   "metadata": {
    "execution": {
     "iopub.execute_input": "2021-12-12T00:25:15.500557Z",
     "iopub.status.busy": "2021-12-12T00:25:15.499701Z",
     "iopub.status.idle": "2021-12-12T00:25:15.521688Z",
     "shell.execute_reply": "2021-12-12T00:25:15.521109Z"
    },
    "papermill": {
     "duration": 0.063156,
     "end_time": "2021-12-12T00:25:15.521826",
     "exception": false,
     "start_time": "2021-12-12T00:25:15.458670",
     "status": "completed"
    },
    "tags": []
   },
   "outputs": [],
   "source": [
    "train_filter = np.where((train_labels == 3 ) | (train_labels == 8))\n",
    "test_filter = np.where((test_labels == 3) | (test_labels == 8))\n",
    "X_train, y_train = train_images[train_filter], train_labels[train_filter]\n",
    "X_test, y_test = test_images[test_filter], test_labels[test_filter]"
   ]
  },
  {
   "cell_type": "markdown",
   "id": "948f0b7e",
   "metadata": {
    "papermill": {
     "duration": 0.031996,
     "end_time": "2021-12-12T00:25:15.584594",
     "exception": false,
     "start_time": "2021-12-12T00:25:15.552598",
     "status": "completed"
    },
    "tags": []
   },
   "source": [
    "We normalize the pizel values in the 0 to 1 range"
   ]
  },
  {
   "cell_type": "code",
   "execution_count": 11,
   "id": "ee4c2166",
   "metadata": {
    "execution": {
     "iopub.execute_input": "2021-12-12T00:25:15.655998Z",
     "iopub.status.busy": "2021-12-12T00:25:15.655196Z",
     "iopub.status.idle": "2021-12-12T00:25:15.727609Z",
     "shell.execute_reply": "2021-12-12T00:25:15.728294Z"
    },
    "papermill": {
     "duration": 0.112645,
     "end_time": "2021-12-12T00:25:15.728484",
     "exception": false,
     "start_time": "2021-12-12T00:25:15.615839",
     "status": "completed"
    },
    "tags": []
   },
   "outputs": [],
   "source": [
    "X_train = X_train/255.\n",
    "X_test = X_test/255."
   ]
  },
  {
   "cell_type": "markdown",
   "id": "ddcf4fab",
   "metadata": {
    "papermill": {
     "duration": 0.034392,
     "end_time": "2021-12-12T00:25:15.800728",
     "exception": false,
     "start_time": "2021-12-12T00:25:15.766336",
     "status": "completed"
    },
    "tags": []
   },
   "source": [
    "And setup the labels as 1 (when the digit is 3) and 0 (when the digit is 8)"
   ]
  },
  {
   "cell_type": "code",
   "execution_count": 12,
   "id": "7dc908f2",
   "metadata": {
    "execution": {
     "iopub.execute_input": "2021-12-12T00:25:15.872318Z",
     "iopub.status.busy": "2021-12-12T00:25:15.871698Z",
     "iopub.status.idle": "2021-12-12T00:25:15.884431Z",
     "shell.execute_reply": "2021-12-12T00:25:15.884941Z"
    },
    "papermill": {
     "duration": 0.051675,
     "end_time": "2021-12-12T00:25:15.885079",
     "exception": false,
     "start_time": "2021-12-12T00:25:15.833404",
     "status": "completed"
    },
    "tags": []
   },
   "outputs": [],
   "source": [
    "y_train = 1*(y_train==3)\n",
    "y_test = 1*(y_test==3)"
   ]
  },
  {
   "cell_type": "code",
   "execution_count": 13,
   "id": "01e4e969",
   "metadata": {
    "execution": {
     "iopub.execute_input": "2021-12-12T00:25:15.958062Z",
     "iopub.status.busy": "2021-12-12T00:25:15.957496Z",
     "iopub.status.idle": "2021-12-12T00:25:15.969052Z",
     "shell.execute_reply": "2021-12-12T00:25:15.969504Z"
    },
    "papermill": {
     "duration": 0.051539,
     "end_time": "2021-12-12T00:25:15.969655",
     "exception": false,
     "start_time": "2021-12-12T00:25:15.918116",
     "status": "completed"
    },
    "tags": []
   },
   "outputs": [
    {
     "data": {
      "text/plain": [
       "((11982, 28, 28), (1984, 28, 28))"
      ]
     },
     "execution_count": 13,
     "metadata": {},
     "output_type": "execute_result"
    }
   ],
   "source": [
    "X_train.shape, X_test.shape"
   ]
  },
  {
   "cell_type": "markdown",
   "id": "5ccf3f85",
   "metadata": {
    "papermill": {
     "duration": 0.033026,
     "end_time": "2021-12-12T00:25:16.034705",
     "exception": false,
     "start_time": "2021-12-12T00:25:16.001679",
     "status": "completed"
    },
    "tags": []
   },
   "source": [
    "We reshape the data to flatten the image pixels into a set of features or co-variates:"
   ]
  },
  {
   "cell_type": "code",
   "execution_count": 14,
   "id": "5286a4a3",
   "metadata": {
    "execution": {
     "iopub.execute_input": "2021-12-12T00:25:16.110563Z",
     "iopub.status.busy": "2021-12-12T00:25:16.109956Z",
     "iopub.status.idle": "2021-12-12T00:25:16.125230Z",
     "shell.execute_reply": "2021-12-12T00:25:16.124692Z"
    },
    "papermill": {
     "duration": 0.052914,
     "end_time": "2021-12-12T00:25:16.125451",
     "exception": false,
     "start_time": "2021-12-12T00:25:16.072537",
     "status": "completed"
    },
    "tags": []
   },
   "outputs": [
    {
     "data": {
      "text/plain": [
       "((11982, 784), (1984, 784))"
      ]
     },
     "execution_count": 14,
     "metadata": {},
     "output_type": "execute_result"
    }
   ],
   "source": [
    "X_train = X_train.reshape(X_train.shape[0], -1)\n",
    "X_test = X_test.reshape(X_test.shape[0], -1)\n",
    "X_train.shape, X_test.shape"
   ]
  },
  {
   "cell_type": "code",
   "execution_count": 15,
   "id": "73c5f88a",
   "metadata": {
    "execution": {
     "iopub.execute_input": "2021-12-12T00:25:16.215370Z",
     "iopub.status.busy": "2021-12-12T00:25:16.207474Z",
     "iopub.status.idle": "2021-12-12T00:25:16.225832Z",
     "shell.execute_reply": "2021-12-12T00:25:16.226337Z"
    },
    "papermill": {
     "duration": 0.060929,
     "end_time": "2021-12-12T00:25:16.226480",
     "exception": false,
     "start_time": "2021-12-12T00:25:16.165551",
     "status": "completed"
    },
    "tags": []
   },
   "outputs": [],
   "source": [
    "#Impoting functions from 'Kudzu'\n",
    "from kudzu.model import Model\n",
    "from kudzu.train import Learner\n",
    "from kudzu.optim import GD\n",
    "from kudzu.data import Data, Sampler,Dataloader\n",
    "\n",
    "from kudzu.callbacks import AccCallback\n",
    "from kudzu.callbacks import ClfCallback\n",
    "\n",
    "from kudzu.loss import MSE\n",
    "\n",
    "from kudzu.layer import Sigmoid,Relu\n",
    "from kudzu.layer import Affine"
   ]
  },
  {
   "cell_type": "markdown",
   "id": "bc01172a",
   "metadata": {
    "papermill": {
     "duration": 0.031185,
     "end_time": "2021-12-12T00:25:16.293471",
     "exception": false,
     "start_time": "2021-12-12T00:25:16.262286",
     "status": "completed"
    },
    "tags": []
   },
   "source": [
    "### Let us create a `Config` class, to store important parameters. \n",
    "This class essentially plays the role of a dictionary."
   ]
  },
  {
   "cell_type": "code",
   "execution_count": 16,
   "id": "978281aa",
   "metadata": {
    "execution": {
     "iopub.execute_input": "2021-12-12T00:25:16.359424Z",
     "iopub.status.busy": "2021-12-12T00:25:16.358851Z",
     "iopub.status.idle": "2021-12-12T00:25:16.371284Z",
     "shell.execute_reply": "2021-12-12T00:25:16.371795Z"
    },
    "papermill": {
     "duration": 0.047229,
     "end_time": "2021-12-12T00:25:16.371944",
     "exception": false,
     "start_time": "2021-12-12T00:25:16.324715",
     "status": "completed"
    },
    "tags": []
   },
   "outputs": [],
   "source": [
    "class Config:\n",
    "    pass\n",
    "config = Config()\n",
    "config.lr = 0.001\n",
    "config.num_epochs = 250\n",
    "config.bs = 50"
   ]
  },
  {
   "cell_type": "markdown",
   "id": "1385fa59",
   "metadata": {
    "papermill": {
     "duration": 0.035473,
     "end_time": "2021-12-12T00:25:16.440277",
     "exception": false,
     "start_time": "2021-12-12T00:25:16.404804",
     "status": "completed"
    },
    "tags": []
   },
   "source": [
    "### Running Models with the Training data\n",
    "Details about the network layers:\n",
    "- A first affine layer has 784 inputs and does 100 affine transforms. These are followed by a Relu\n",
    "- A second affine layer has 100 inputs from the 100 activations of the past layer, and does 100 affine transforms. These are followed by a Relu\n",
    "- A third affine layer has 100 activations and does 2 affine transformations to create an embedding for visualization. There is no non-linearity here.\n",
    "- A final \"logistic regression\" which has an affine transform from 2 inputs to 1 output, which is squeezed through a sigmoid.\n"
   ]
  },
  {
   "cell_type": "code",
   "execution_count": 17,
   "id": "2b9c66db",
   "metadata": {
    "execution": {
     "iopub.execute_input": "2021-12-12T00:25:16.517135Z",
     "iopub.status.busy": "2021-12-12T00:25:16.516373Z",
     "iopub.status.idle": "2021-12-12T00:25:16.530375Z",
     "shell.execute_reply": "2021-12-12T00:25:16.531281Z"
    },
    "papermill": {
     "duration": 0.052463,
     "end_time": "2021-12-12T00:25:16.531470",
     "exception": false,
     "start_time": "2021-12-12T00:25:16.479007",
     "status": "completed"
    },
    "tags": []
   },
   "outputs": [],
   "source": [
    "data = Data(X_train, y_train.reshape(-1,1))\n",
    "sampler = Sampler(data, config.bs, shuffle=True)\n",
    "\n",
    "dl = Dataloader(data, sampler)\n",
    "\n",
    "opt = GD(config.lr)\n",
    "loss = MSE()"
   ]
  },
  {
   "cell_type": "code",
   "execution_count": 18,
   "id": "b275e4c2",
   "metadata": {
    "execution": {
     "iopub.execute_input": "2021-12-12T00:25:16.599647Z",
     "iopub.status.busy": "2021-12-12T00:25:16.599089Z",
     "iopub.status.idle": "2021-12-12T00:25:16.611766Z",
     "shell.execute_reply": "2021-12-12T00:25:16.612347Z"
    },
    "papermill": {
     "duration": 0.048649,
     "end_time": "2021-12-12T00:25:16.612465",
     "exception": false,
     "start_time": "2021-12-12T00:25:16.563816",
     "status": "completed"
    },
    "tags": []
   },
   "outputs": [],
   "source": [
    "training_data_x = X_train\n",
    "testing_data_x = X_test\n",
    "training_data_y = y_train.reshape(-1,1)\n",
    "testing_data_y = y_test.reshape(-1,1)"
   ]
  },
  {
   "cell_type": "code",
   "execution_count": 19,
   "id": "76951160",
   "metadata": {
    "execution": {
     "iopub.execute_input": "2021-12-12T00:25:16.675859Z",
     "iopub.status.busy": "2021-12-12T00:25:16.675196Z",
     "iopub.status.idle": "2021-12-12T00:25:16.691582Z",
     "shell.execute_reply": "2021-12-12T00:25:16.691978Z"
    },
    "papermill": {
     "duration": 0.050084,
     "end_time": "2021-12-12T00:25:16.692094",
     "exception": false,
     "start_time": "2021-12-12T00:25:16.642010",
     "status": "completed"
    },
    "tags": []
   },
   "outputs": [
    {
     "name": "stdout",
     "output_type": "stream",
     "text": [
      "xavier\n",
      "xavier\n",
      "xavier\n",
      "xavier\n",
      "xavier\n"
     ]
    }
   ],
   "source": [
    "layers = [Affine(\"first\", 784, 100), Relu(\"first\"), Affine(\"second\", 100, 100), Relu(\"second\"), Affine(\"third\", 100, 2), Affine(\"last\", 2, 1), Sigmoid(\"last\")]\n",
    "model_nn = Model(layers)\n",
    "model_lr = Model([Affine(\"logits\", 784, 1), Sigmoid(\"sigmoid\")])"
   ]
  },
  {
   "cell_type": "code",
   "execution_count": 20,
   "id": "6eede77a",
   "metadata": {
    "execution": {
     "iopub.execute_input": "2021-12-12T00:25:16.761865Z",
     "iopub.status.busy": "2021-12-12T00:25:16.761061Z",
     "iopub.status.idle": "2021-12-12T00:25:16.773631Z",
     "shell.execute_reply": "2021-12-12T00:25:16.774109Z"
    },
    "papermill": {
     "duration": 0.049784,
     "end_time": "2021-12-12T00:25:16.774229",
     "exception": false,
     "start_time": "2021-12-12T00:25:16.724445",
     "status": "completed"
    },
    "tags": []
   },
   "outputs": [],
   "source": [
    "nn_learner = Learner(loss, model_nn, opt, config.num_epochs)\n",
    "acc_nn = ClfCallback(nn_learner, config.bs, training_data_x , testing_data_x, training_data_y, testing_data_y)\n",
    "nn_learner.set_callbacks([acc_nn])"
   ]
  },
  {
   "cell_type": "code",
   "execution_count": 21,
   "id": "877b6cc7",
   "metadata": {
    "execution": {
     "iopub.execute_input": "2021-12-12T00:25:16.838359Z",
     "iopub.status.busy": "2021-12-12T00:25:16.837719Z",
     "iopub.status.idle": "2021-12-12T00:25:16.851996Z",
     "shell.execute_reply": "2021-12-12T00:25:16.851464Z"
    },
    "papermill": {
     "duration": 0.049773,
     "end_time": "2021-12-12T00:25:16.852140",
     "exception": false,
     "start_time": "2021-12-12T00:25:16.802367",
     "status": "completed"
    },
    "tags": []
   },
   "outputs": [],
   "source": [
    "lr_learner = Learner(loss, model_lr, opt, config.num_epochs)\n",
    "acc_lr = ClfCallback(lr_learner, config.bs, training_data_x , testing_data_x, training_data_y, testing_data_y)\n",
    "lr_learner.set_callbacks([acc_lr])"
   ]
  },
  {
   "cell_type": "code",
   "execution_count": 22,
   "id": "d9b133c3",
   "metadata": {
    "execution": {
     "iopub.execute_input": "2021-12-12T00:25:16.920046Z",
     "iopub.status.busy": "2021-12-12T00:25:16.919426Z",
     "iopub.status.idle": "2021-12-12T00:27:39.145284Z",
     "shell.execute_reply": "2021-12-12T00:27:39.146310Z"
    },
    "papermill": {
     "duration": 142.263364,
     "end_time": "2021-12-12T00:27:39.146536",
     "exception": false,
     "start_time": "2021-12-12T00:25:16.883172",
     "status": "completed"
    },
    "tags": []
   },
   "outputs": [
    {
     "name": "stdout",
     "output_type": "stream",
     "text": [
      "Epoch 0, Loss 0.2271\n",
      "Training Accuracy: 0.7595, Testing Accuracy: 0.7455\n",
      "\n"
     ]
    },
    {
     "name": "stdout",
     "output_type": "stream",
     "text": [
      "Epoch 10, Loss 0.0694\n",
      "Training Accuracy: 0.9281, Testing Accuracy: 0.9435\n",
      "\n"
     ]
    },
    {
     "name": "stdout",
     "output_type": "stream",
     "text": [
      "Epoch 20, Loss 0.0474\n",
      "Training Accuracy: 0.9478, Testing Accuracy: 0.9577\n",
      "\n"
     ]
    },
    {
     "name": "stdout",
     "output_type": "stream",
     "text": [
      "Epoch 30, Loss 0.0389\n",
      "Training Accuracy: 0.9545, Testing Accuracy: 0.9622\n",
      "\n"
     ]
    },
    {
     "name": "stdout",
     "output_type": "stream",
     "text": [
      "Epoch 40, Loss 0.0344\n",
      "Training Accuracy: 0.9591, Testing Accuracy: 0.9672\n",
      "\n"
     ]
    },
    {
     "name": "stdout",
     "output_type": "stream",
     "text": [
      "Epoch 50, Loss 0.0314\n",
      "Training Accuracy: 0.9616, Testing Accuracy: 0.9693\n",
      "\n"
     ]
    },
    {
     "name": "stdout",
     "output_type": "stream",
     "text": [
      "Epoch 60, Loss 0.0292\n",
      "Training Accuracy: 0.9647, Testing Accuracy: 0.9698\n",
      "\n"
     ]
    },
    {
     "name": "stdout",
     "output_type": "stream",
     "text": [
      "Epoch 70, Loss 0.0275\n",
      "Training Accuracy: 0.9670, Testing Accuracy: 0.9713\n",
      "\n"
     ]
    },
    {
     "name": "stdout",
     "output_type": "stream",
     "text": [
      "Epoch 80, Loss 0.0261\n",
      "Training Accuracy: 0.9698, Testing Accuracy: 0.9708\n",
      "\n"
     ]
    },
    {
     "name": "stdout",
     "output_type": "stream",
     "text": [
      "Epoch 90, Loss 0.0248\n",
      "Training Accuracy: 0.9717, Testing Accuracy: 0.9718\n",
      "\n"
     ]
    },
    {
     "name": "stdout",
     "output_type": "stream",
     "text": [
      "Epoch 100, Loss 0.0237\n",
      "Training Accuracy: 0.9729, Testing Accuracy: 0.9723\n",
      "\n"
     ]
    },
    {
     "name": "stdout",
     "output_type": "stream",
     "text": [
      "Epoch 110, Loss 0.0228\n",
      "Training Accuracy: 0.9747, Testing Accuracy: 0.9733\n",
      "\n"
     ]
    },
    {
     "name": "stdout",
     "output_type": "stream",
     "text": [
      "Epoch 120, Loss 0.0219\n",
      "Training Accuracy: 0.9760, Testing Accuracy: 0.9748\n",
      "\n"
     ]
    },
    {
     "name": "stdout",
     "output_type": "stream",
     "text": [
      "Epoch 130, Loss 0.0211\n",
      "Training Accuracy: 0.9767, Testing Accuracy: 0.9748\n",
      "\n"
     ]
    },
    {
     "name": "stdout",
     "output_type": "stream",
     "text": [
      "Epoch 140, Loss 0.0203\n",
      "Training Accuracy: 0.9780, Testing Accuracy: 0.9753\n",
      "\n"
     ]
    },
    {
     "name": "stdout",
     "output_type": "stream",
     "text": [
      "Epoch 150, Loss 0.0196\n",
      "Training Accuracy: 0.9793, Testing Accuracy: 0.9763\n",
      "\n"
     ]
    },
    {
     "name": "stdout",
     "output_type": "stream",
     "text": [
      "Epoch 160, Loss 0.019\n",
      "Training Accuracy: 0.9800, Testing Accuracy: 0.9758\n",
      "\n"
     ]
    },
    {
     "name": "stdout",
     "output_type": "stream",
     "text": [
      "Epoch 170, Loss 0.0183\n",
      "Training Accuracy: 0.9807, Testing Accuracy: 0.9758\n",
      "\n"
     ]
    },
    {
     "name": "stdout",
     "output_type": "stream",
     "text": [
      "Epoch 180, Loss 0.0178\n",
      "Training Accuracy: 0.9810, Testing Accuracy: 0.9758\n",
      "\n"
     ]
    },
    {
     "name": "stdout",
     "output_type": "stream",
     "text": [
      "Epoch 190, Loss 0.0172\n",
      "Training Accuracy: 0.9817, Testing Accuracy: 0.9758\n",
      "\n"
     ]
    },
    {
     "name": "stdout",
     "output_type": "stream",
     "text": [
      "Epoch 200, Loss 0.0167\n",
      "Training Accuracy: 0.9827, Testing Accuracy: 0.9763\n",
      "\n"
     ]
    },
    {
     "name": "stdout",
     "output_type": "stream",
     "text": [
      "Epoch 210, Loss 0.0162\n",
      "Training Accuracy: 0.9835, Testing Accuracy: 0.9778\n",
      "\n"
     ]
    },
    {
     "name": "stdout",
     "output_type": "stream",
     "text": [
      "Epoch 220, Loss 0.0157\n",
      "Training Accuracy: 0.9841, Testing Accuracy: 0.9783\n",
      "\n"
     ]
    },
    {
     "name": "stdout",
     "output_type": "stream",
     "text": [
      "Epoch 230, Loss 0.0153\n",
      "Training Accuracy: 0.9847, Testing Accuracy: 0.9783\n",
      "\n"
     ]
    },
    {
     "name": "stdout",
     "output_type": "stream",
     "text": [
      "Epoch 240, Loss 0.0148\n",
      "Training Accuracy: 0.9856, Testing Accuracy: 0.9783\n",
      "\n"
     ]
    },
    {
     "data": {
      "text/plain": [
       "0.004546163477826883"
      ]
     },
     "execution_count": 22,
     "metadata": {},
     "output_type": "execute_result"
    }
   ],
   "source": [
    "nn_learner.train_loop(dl)"
   ]
  },
  {
   "cell_type": "code",
   "execution_count": 23,
   "id": "e0163366",
   "metadata": {
    "execution": {
     "iopub.execute_input": "2021-12-12T00:27:39.240117Z",
     "iopub.status.busy": "2021-12-12T00:27:39.239492Z",
     "iopub.status.idle": "2021-12-12T00:27:59.466957Z",
     "shell.execute_reply": "2021-12-12T00:27:59.467794Z"
    },
    "papermill": {
     "duration": 20.279983,
     "end_time": "2021-12-12T00:27:59.467944",
     "exception": false,
     "start_time": "2021-12-12T00:27:39.187961",
     "status": "completed"
    },
    "tags": []
   },
   "outputs": [
    {
     "name": "stdout",
     "output_type": "stream",
     "text": [
      "Epoch 0, Loss 0.2158\n",
      "Training Accuracy: 0.7396, Testing Accuracy: 0.7651\n",
      "\n"
     ]
    },
    {
     "name": "stdout",
     "output_type": "stream",
     "text": [
      "Epoch 10, Loss 0.1022\n",
      "Training Accuracy: 0.9082, Testing Accuracy: 0.9148\n",
      "\n"
     ]
    },
    {
     "name": "stdout",
     "output_type": "stream",
     "text": [
      "Epoch 20, Loss 0.0789\n",
      "Training Accuracy: 0.9269, Testing Accuracy: 0.9380\n",
      "\n"
     ]
    },
    {
     "name": "stdout",
     "output_type": "stream",
     "text": [
      "Epoch 30, Loss 0.068\n",
      "Training Accuracy: 0.9352, Testing Accuracy: 0.9456\n",
      "\n"
     ]
    },
    {
     "name": "stdout",
     "output_type": "stream",
     "text": [
      "Epoch 40, Loss 0.0615\n",
      "Training Accuracy: 0.9395, Testing Accuracy: 0.9496\n",
      "\n"
     ]
    },
    {
     "name": "stdout",
     "output_type": "stream",
     "text": [
      "Epoch 50, Loss 0.0571\n",
      "Training Accuracy: 0.9438, Testing Accuracy: 0.9506\n",
      "\n"
     ]
    },
    {
     "name": "stdout",
     "output_type": "stream",
     "text": [
      "Epoch 60, Loss 0.0538\n",
      "Training Accuracy: 0.9449, Testing Accuracy: 0.9551\n",
      "\n"
     ]
    },
    {
     "name": "stdout",
     "output_type": "stream",
     "text": [
      "Epoch 70, Loss 0.0513\n",
      "Training Accuracy: 0.9468, Testing Accuracy: 0.9561\n",
      "\n"
     ]
    },
    {
     "name": "stdout",
     "output_type": "stream",
     "text": [
      "Epoch 80, Loss 0.0492\n",
      "Training Accuracy: 0.9491, Testing Accuracy: 0.9567\n",
      "\n"
     ]
    },
    {
     "name": "stdout",
     "output_type": "stream",
     "text": [
      "Epoch 90, Loss 0.0476\n",
      "Training Accuracy: 0.9505, Testing Accuracy: 0.9587\n",
      "\n"
     ]
    },
    {
     "name": "stdout",
     "output_type": "stream",
     "text": [
      "Epoch 100, Loss 0.0461\n",
      "Training Accuracy: 0.9522, Testing Accuracy: 0.9587\n",
      "\n"
     ]
    },
    {
     "name": "stdout",
     "output_type": "stream",
     "text": [
      "Epoch 110, Loss 0.0449\n",
      "Training Accuracy: 0.9533, Testing Accuracy: 0.9597\n",
      "\n"
     ]
    },
    {
     "name": "stdout",
     "output_type": "stream",
     "text": [
      "Epoch 120, Loss 0.0439\n",
      "Training Accuracy: 0.9539, Testing Accuracy: 0.9607\n",
      "\n"
     ]
    },
    {
     "name": "stdout",
     "output_type": "stream",
     "text": [
      "Epoch 130, Loss 0.0429\n",
      "Training Accuracy: 0.9548, Testing Accuracy: 0.9622\n",
      "\n"
     ]
    },
    {
     "name": "stdout",
     "output_type": "stream",
     "text": [
      "Epoch 140, Loss 0.0421\n",
      "Training Accuracy: 0.9554, Testing Accuracy: 0.9617\n",
      "\n"
     ]
    },
    {
     "name": "stdout",
     "output_type": "stream",
     "text": [
      "Epoch 150, Loss 0.0413\n",
      "Training Accuracy: 0.9564, Testing Accuracy: 0.9612\n",
      "\n"
     ]
    },
    {
     "name": "stdout",
     "output_type": "stream",
     "text": [
      "Epoch 160, Loss 0.0407\n",
      "Training Accuracy: 0.9574, Testing Accuracy: 0.9612\n",
      "\n"
     ]
    },
    {
     "name": "stdout",
     "output_type": "stream",
     "text": [
      "Epoch 170, Loss 0.0401\n",
      "Training Accuracy: 0.9578, Testing Accuracy: 0.9617\n",
      "\n"
     ]
    },
    {
     "name": "stdout",
     "output_type": "stream",
     "text": [
      "Epoch 180, Loss 0.0395\n",
      "Training Accuracy: 0.9581, Testing Accuracy: 0.9622\n",
      "\n"
     ]
    },
    {
     "name": "stdout",
     "output_type": "stream",
     "text": [
      "Epoch 190, Loss 0.039\n",
      "Training Accuracy: 0.9587, Testing Accuracy: 0.9622\n",
      "\n"
     ]
    },
    {
     "name": "stdout",
     "output_type": "stream",
     "text": [
      "Epoch 200, Loss 0.0385\n",
      "Training Accuracy: 0.9592, Testing Accuracy: 0.9627\n",
      "\n"
     ]
    },
    {
     "name": "stdout",
     "output_type": "stream",
     "text": [
      "Epoch 210, Loss 0.038\n",
      "Training Accuracy: 0.9593, Testing Accuracy: 0.9632\n",
      "\n"
     ]
    },
    {
     "name": "stdout",
     "output_type": "stream",
     "text": [
      "Epoch 220, Loss 0.0376\n",
      "Training Accuracy: 0.9598, Testing Accuracy: 0.9637\n",
      "\n"
     ]
    },
    {
     "name": "stdout",
     "output_type": "stream",
     "text": [
      "Epoch 230, Loss 0.0372\n",
      "Training Accuracy: 0.9600, Testing Accuracy: 0.9642\n",
      "\n"
     ]
    },
    {
     "name": "stdout",
     "output_type": "stream",
     "text": [
      "Epoch 240, Loss 0.0369\n",
      "Training Accuracy: 0.9601, Testing Accuracy: 0.9642\n",
      "\n"
     ]
    },
    {
     "data": {
      "text/plain": [
       "0.041640282713539666"
      ]
     },
     "execution_count": 23,
     "metadata": {},
     "output_type": "execute_result"
    }
   ],
   "source": [
    "lr_learner.train_loop(dl)"
   ]
  },
  {
   "cell_type": "code",
   "execution_count": 24,
   "id": "ca410940",
   "metadata": {
    "execution": {
     "iopub.execute_input": "2021-12-12T00:27:59.583847Z",
     "iopub.status.busy": "2021-12-12T00:27:59.583267Z",
     "iopub.status.idle": "2021-12-12T00:27:59.876059Z",
     "shell.execute_reply": "2021-12-12T00:27:59.875512Z"
    },
    "papermill": {
     "duration": 0.355228,
     "end_time": "2021-12-12T00:27:59.876184",
     "exception": false,
     "start_time": "2021-12-12T00:27:59.520956",
     "status": "completed"
    },
    "tags": []
   },
   "outputs": [
    {
     "data": {
      "text/plain": [
       "<matplotlib.legend.Legend at 0x7fadc6f70c50>"
      ]
     },
     "execution_count": 24,
     "metadata": {},
     "output_type": "execute_result"
    },
    {
     "data": {
      "image/png": "[encoded data removed]",
      "text/plain": [
       "<Figure size 1080x720 with 1 Axes>"
      ]
     },
     "metadata": {
      "needs_background": "light"
     },
     "output_type": "display_data"
    }
   ],
   "source": [
    "#comparing the results of NN and LR\n",
    "plt.figure(figsize=(15,10))\n",
    "\n",
    "# Neural Network plots\n",
    "plt.plot(acc_nn.accuracies, 'r-', label = \"Training Accuracies - NN\")\n",
    "plt.plot(acc_nn.test_accuracies, 'g-', label = \"Testing Accuracies - NN\")\n",
    "\n",
    "# Logistic Regression plots\n",
    "plt.plot(acc_lr.accuracies, 'k-', label = \"Training Accuracies - LR\")\n",
    "plt.plot(acc_lr.test_accuracies, 'b-', label = \"Testing Accuracies - LR\")\n",
    "plt.legend()"
   ]
  },
  {
   "cell_type": "markdown",
   "id": "80dfb35c",
   "metadata": {
    "papermill": {
     "duration": 0.046682,
     "end_time": "2021-12-12T00:27:59.972874",
     "exception": false,
     "start_time": "2021-12-12T00:27:59.926192",
     "status": "completed"
    },
    "tags": []
   },
   "source": [
    "#### Plotting the outputs of this layer of the NN.\n"
   ]
  },
  {
   "cell_type": "code",
   "execution_count": 25,
   "id": "45eb2ff5",
   "metadata": {
    "execution": {
     "iopub.execute_input": "2021-12-12T00:28:00.087998Z",
     "iopub.status.busy": "2021-12-12T00:28:00.087321Z",
     "iopub.status.idle": "2021-12-12T00:28:00.111815Z",
     "shell.execute_reply": "2021-12-12T00:28:00.112346Z"
    },
    "papermill": {
     "duration": 0.088087,
     "end_time": "2021-12-12T00:28:00.112529",
     "exception": false,
     "start_time": "2021-12-12T00:28:00.024442",
     "status": "completed"
    },
    "tags": []
   },
   "outputs": [],
   "source": [
    "new_model = Model(layers[:-2])\n",
    "testing_plot = new_model(testing_data_x)"
   ]
  },
  {
   "cell_type": "code",
   "execution_count": 26,
   "id": "4c0a5485",
   "metadata": {
    "execution": {
     "iopub.execute_input": "2021-12-12T00:28:00.228538Z",
     "iopub.status.busy": "2021-12-12T00:28:00.227865Z",
     "iopub.status.idle": "2021-12-12T00:28:00.469960Z",
     "shell.execute_reply": "2021-12-12T00:28:00.469479Z"
    },
    "papermill": {
     "duration": 0.302101,
     "end_time": "2021-12-12T00:28:00.470140",
     "exception": false,
     "start_time": "2021-12-12T00:28:00.168039",
     "status": "completed"
    },
    "tags": []
   },
   "outputs": [
    {
     "data": {
      "text/plain": [
       "Text(0.5, 1.0, 'Outputs')"
      ]
     },
     "execution_count": 26,
     "metadata": {},
     "output_type": "execute_result"
    },
    {
     "data": {
      "image/png": "[encoded data removed]",
      "text/plain": [
       "<Figure size 576x504 with 1 Axes>"
      ]
     },
     "metadata": {
      "needs_background": "light"
     },
     "output_type": "display_data"
    }
   ],
   "source": [
    "# Plotting the scatter plot of points and color coding by class\n",
    "plt.figure(figsize=(8,7))\n",
    "plt.scatter(testing_plot[:,0], testing_plot[:,1], alpha = 0.1, c = y_test.ravel());\n",
    "plt.title('Outputs')"
   ]
  },
  {
   "cell_type": "markdown",
   "id": "a74fcf8f",
   "metadata": {
    "papermill": {
     "duration": 0.04811,
     "end_time": "2021-12-12T00:28:00.569285",
     "exception": false,
     "start_time": "2021-12-12T00:28:00.521175",
     "status": "completed"
    },
    "tags": []
   },
   "source": [
    "Probability contours"
   ]
  },
  {
   "cell_type": "code",
   "execution_count": 27,
   "id": "d0afc8e3",
   "metadata": {
    "execution": {
     "iopub.execute_input": "2021-12-12T00:28:00.696973Z",
     "iopub.status.busy": "2021-12-12T00:28:00.696269Z",
     "iopub.status.idle": "2021-12-12T00:28:00.710121Z",
     "shell.execute_reply": "2021-12-12T00:28:00.709482Z"
    },
    "papermill": {
     "duration": 0.09041,
     "end_time": "2021-12-12T00:28:00.710249",
     "exception": false,
     "start_time": "2021-12-12T00:28:00.619839",
     "status": "completed"
    },
    "tags": []
   },
   "outputs": [],
   "source": [
    "model_prob = Model(layers[-2:]) "
   ]
  },
  {
   "cell_type": "code",
   "execution_count": 28,
   "id": "9b96e238",
   "metadata": {
    "execution": {
     "iopub.execute_input": "2021-12-12T00:28:00.822826Z",
     "iopub.status.busy": "2021-12-12T00:28:00.821069Z",
     "iopub.status.idle": "2021-12-12T00:28:00.837954Z",
     "shell.execute_reply": "2021-12-12T00:28:00.837340Z"
    },
    "papermill": {
     "duration": 0.07567,
     "end_time": "2021-12-12T00:28:00.838076",
     "exception": false,
     "start_time": "2021-12-12T00:28:00.762406",
     "status": "completed"
    },
    "tags": []
   },
   "outputs": [],
   "source": [
    "#creating the x and y ranges according to the above generated plot.\n",
    "x_range = np.linspace(-4, 1, 100) \n",
    "y_range = np.linspace(-6, 6, 100) \n",
    "x_grid, y_grid = np.meshgrid(x_range, y_range) # x_grid and y_grig are of size 100 X 100\n",
    "\n",
    "# converting x_grid and y_grid to continuous arrays\n",
    "x_gridflat = np.ravel(x_grid)\n",
    "y_gridflat = np.ravel(y_grid)\n",
    "\n",
    "# The last layer of the current model takes two columns as input. Hence transpose of np.vstack() is required.\n",
    "X = np.vstack((x_gridflat, y_gridflat)).T\n",
    "\n",
    "prob_contour = model_prob(X).reshape(100,100) "
   ]
  },
  {
   "cell_type": "code",
   "execution_count": 29,
   "id": "da72499a",
   "metadata": {
    "execution": {
     "iopub.execute_input": "2021-12-12T00:28:00.949415Z",
     "iopub.status.busy": "2021-12-12T00:28:00.948868Z",
     "iopub.status.idle": "2021-12-12T00:28:01.273255Z",
     "shell.execute_reply": "2021-12-12T00:28:01.273785Z"
    },
    "papermill": {
     "duration": 0.382932,
     "end_time": "2021-12-12T00:28:01.273932",
     "exception": false,
     "start_time": "2021-12-12T00:28:00.891000",
     "status": "completed"
    },
    "tags": []
   },
   "outputs": [
    {
     "data": {
      "image/png": "[encoded data removed]",
      "text/plain": [
       "<Figure size 720x648 with 1 Axes>"
      ]
     },
     "metadata": {
      "needs_background": "light"
     },
     "output_type": "display_data"
    }
   ],
   "source": [
    "plt.figure(figsize=(10,9))\n",
    "plt.scatter(testing_plot[:,0], testing_plot[:,1], alpha = 0.1, c = y_test.ravel())\n",
    "contours = plt.contour(x_grid,y_grid,prob_contour)\n",
    "plt.title('Probability Contours')\n",
    "plt.clabel(contours, inline = True );"
   ]
  },
  {
   "cell_type": "code",
   "execution_count": null,
   "id": "e81b4ac7",
   "metadata": {
    "papermill": {
     "duration": 0.05695,
     "end_time": "2021-12-12T00:28:01.383788",
     "exception": false,
     "start_time": "2021-12-12T00:28:01.326838",
     "status": "completed"
    },
    "tags": []
   },
   "outputs": [],
   "source": []
  }
 ],
 "metadata": {
  "kernelspec": {
   "display_name": "Python 3",
   "language": "python",
   "name": "python3"
  },
  "language_info": {
   "codemirror_mode": {
    "name": "ipython",
    "version": 3
   },
   "file_extension": ".py",
   "mimetype": "text/x-python",
   "name": "python",
   "nbconvert_exporter": "python",
   "pygments_lexer": "ipython3",
   "version": "3.6.15"
  },
  "papermill": {
   "default_parameters": {},
   "duration": 172.718907,
   "end_time": "2021-12-12T00:28:01.849176",
   "environment_variables": {},
   "exception": null,
   "input_path": "2020-08-11-part2.ipynb",
   "output_path": "2020-08-11-part2.ipynb",
   "parameters": {},
   "start_time": "2021-12-12T00:25:09.130269",
   "version": "2.3.3"
  }
 },
 "nbformat": 4,
 "nbformat_minor": 5
}