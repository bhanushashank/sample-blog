{
 "cells": [
  {
   "cell_type": "markdown",
   "id": "98380cd3",
   "metadata": {
    "papermill": {
     "duration": 0.030261,
     "end_time": "2022-08-28T20:10:35.908632",
     "exception": false,
     "start_time": "2022-08-28T20:10:35.878371",
     "status": "completed"
    },
    "tags": []
   },
   "source": [
    "# Distinguish Your Own Digits (DYOD)"
   ]
  },
  {
   "cell_type": "markdown",
   "id": "ef31240d",
   "metadata": {
    "papermill": {
     "duration": 0.024219,
     "end_time": "2022-08-28T20:10:35.958698",
     "exception": false,
     "start_time": "2022-08-28T20:10:35.934479",
     "status": "completed"
    },
    "tags": []
   },
   "source": [
    "You are going to write a classifier that distinguishes between the number 3 and number 8."
   ]
  },
  {
   "cell_type": "code",
   "execution_count": 1,
   "id": "b15c8646",
   "metadata": {
    "execution": {
     "iopub.execute_input": "2022-08-28T20:10:36.018550Z",
     "iopub.status.busy": "2022-08-28T20:10:36.017941Z",
     "iopub.status.idle": "2022-08-28T20:10:36.029594Z",
     "shell.execute_reply": "2022-08-28T20:10:36.029114Z"
    },
    "papermill": {
     "duration": 0.046961,
     "end_time": "2022-08-28T20:10:36.029730",
     "exception": false,
     "start_time": "2022-08-28T20:10:35.982769",
     "status": "completed"
    },
    "tags": []
   },
   "outputs": [],
   "source": [
    "%load_ext autoreload\n",
    "%autoreload 2"
   ]
  },
  {
   "cell_type": "code",
   "execution_count": 2,
   "id": "22ef38dc",
   "metadata": {
    "execution": {
     "iopub.execute_input": "2022-08-28T20:10:36.082614Z",
     "iopub.status.busy": "2022-08-28T20:10:36.082009Z",
     "iopub.status.idle": "2022-08-28T20:10:36.645858Z",
     "shell.execute_reply": "2022-08-28T20:10:36.644989Z"
    },
    "papermill": {
     "duration": 0.592106,
     "end_time": "2022-08-28T20:10:36.645993",
     "exception": false,
     "start_time": "2022-08-28T20:10:36.053887",
     "status": "completed"
    },
    "tags": []
   },
   "outputs": [],
   "source": [
    "%matplotlib inline\n",
    "import numpy as np\n",
    "import matplotlib.pyplot as plt\n",
    "import pandas as pd"
   ]
  },
  {
   "cell_type": "markdown",
   "id": "ba036198",
   "metadata": {
    "papermill": {
     "duration": 0.024095,
     "end_time": "2022-08-28T20:10:36.695380",
     "exception": false,
     "start_time": "2022-08-28T20:10:36.671285",
     "status": "completed"
    },
    "tags": []
   },
   "source": [
    "From the command line run `pip install mnist`. This is a library that will help you bring down the mnist dataset. If you run this from a notebook, you need to put  `!pip install mnist` in a cell by itself."
   ]
  },
  {
   "cell_type": "code",
   "execution_count": 3,
   "id": "bb6ad8a1",
   "metadata": {
    "execution": {
     "iopub.execute_input": "2022-08-28T20:10:36.748477Z",
     "iopub.status.busy": "2022-08-28T20:10:36.747882Z",
     "iopub.status.idle": "2022-08-28T20:10:38.412392Z",
     "shell.execute_reply": "2022-08-28T20:10:38.411840Z"
    },
    "papermill": {
     "duration": 1.692973,
     "end_time": "2022-08-28T20:10:38.412521",
     "exception": false,
     "start_time": "2022-08-28T20:10:36.719548",
     "status": "completed"
    },
    "tags": []
   },
   "outputs": [
    {
     "name": "stdout",
     "output_type": "stream",
     "text": [
      "Collecting mnist\r\n"
     ]
    },
    {
     "name": "stdout",
     "output_type": "stream",
     "text": [
      "  Downloading mnist-0.2.2-py2.py3-none-any.whl (3.5 kB)\r\n",
      "Requirement already satisfied: numpy in /opt/hostedtoolcache/Python/3.6.15/x64/lib/python3.6/site-packages (from mnist) (1.19.5)\r\n"
     ]
    },
    {
     "name": "stdout",
     "output_type": "stream",
     "text": [
      "Installing collected packages: mnist\r\n"
     ]
    },
    {
     "name": "stdout",
     "output_type": "stream",
     "text": [
      "Successfully installed mnist-0.2.2\r\n"
     ]
    }
   ],
   "source": [
    "!pip install mnist"
   ]
  },
  {
   "cell_type": "markdown",
   "id": "69df9c9a",
   "metadata": {
    "papermill": {
     "duration": 0.025161,
     "end_time": "2022-08-28T20:10:38.463377",
     "exception": false,
     "start_time": "2022-08-28T20:10:38.438216",
     "status": "completed"
    },
    "tags": []
   },
   "source": [
    "## Preparing the Data"
   ]
  },
  {
   "cell_type": "code",
   "execution_count": 4,
   "id": "7f69d806",
   "metadata": {
    "execution": {
     "iopub.execute_input": "2022-08-28T20:10:38.520316Z",
     "iopub.status.busy": "2022-08-28T20:10:38.517738Z",
     "iopub.status.idle": "2022-08-28T20:10:38.532590Z",
     "shell.execute_reply": "2022-08-28T20:10:38.532105Z"
    },
    "papermill": {
     "duration": 0.044263,
     "end_time": "2022-08-28T20:10:38.532708",
     "exception": false,
     "start_time": "2022-08-28T20:10:38.488445",
     "status": "completed"
    },
    "tags": []
   },
   "outputs": [],
   "source": [
    "import mnist"
   ]
  },
  {
   "cell_type": "code",
   "execution_count": 5,
   "id": "a411e44f",
   "metadata": {
    "execution": {
     "iopub.execute_input": "2022-08-28T20:10:38.587465Z",
     "iopub.status.busy": "2022-08-28T20:10:38.586873Z",
     "iopub.status.idle": "2022-08-28T20:10:39.090516Z",
     "shell.execute_reply": "2022-08-28T20:10:39.089950Z"
    },
    "papermill": {
     "duration": 0.532606,
     "end_time": "2022-08-28T20:10:39.090663",
     "exception": false,
     "start_time": "2022-08-28T20:10:38.558057",
     "status": "completed"
    },
    "tags": []
   },
   "outputs": [],
   "source": [
    "train_images = mnist.train_images()\n",
    "train_labels = mnist.train_labels()"
   ]
  },
  {
   "cell_type": "code",
   "execution_count": 6,
   "id": "dceab3a5",
   "metadata": {
    "execution": {
     "iopub.execute_input": "2022-08-28T20:10:39.146853Z",
     "iopub.status.busy": "2022-08-28T20:10:39.146253Z",
     "iopub.status.idle": "2022-08-28T20:10:39.161936Z",
     "shell.execute_reply": "2022-08-28T20:10:39.162381Z"
    },
    "papermill": {
     "duration": 0.04558,
     "end_time": "2022-08-28T20:10:39.162520",
     "exception": false,
     "start_time": "2022-08-28T20:10:39.116940",
     "status": "completed"
    },
    "tags": []
   },
   "outputs": [
    {
     "data": {
      "text/plain": [
       "((60000, 28, 28), (60000,))"
      ]
     },
     "execution_count": 6,
     "metadata": {},
     "output_type": "execute_result"
    }
   ],
   "source": [
    "train_images.shape, train_labels.shape"
   ]
  },
  {
   "cell_type": "code",
   "execution_count": 7,
   "id": "f50dc2bb",
   "metadata": {
    "execution": {
     "iopub.execute_input": "2022-08-28T20:10:39.229171Z",
     "iopub.status.busy": "2022-08-28T20:10:39.222953Z",
     "iopub.status.idle": "2022-08-28T20:10:39.349595Z",
     "shell.execute_reply": "2022-08-28T20:10:39.348962Z"
    },
    "papermill": {
     "duration": 0.161924,
     "end_time": "2022-08-28T20:10:39.349733",
     "exception": false,
     "start_time": "2022-08-28T20:10:39.187809",
     "status": "completed"
    },
    "tags": []
   },
   "outputs": [],
   "source": [
    "test_images = mnist.test_images()\n",
    "test_labels = mnist.test_labels()"
   ]
  },
  {
   "cell_type": "code",
   "execution_count": 8,
   "id": "fc38cf1b",
   "metadata": {
    "execution": {
     "iopub.execute_input": "2022-08-28T20:10:39.409167Z",
     "iopub.status.busy": "2022-08-28T20:10:39.408572Z",
     "iopub.status.idle": "2022-08-28T20:10:39.421532Z",
     "shell.execute_reply": "2022-08-28T20:10:39.421047Z"
    },
    "papermill": {
     "duration": 0.045477,
     "end_time": "2022-08-28T20:10:39.421651",
     "exception": false,
     "start_time": "2022-08-28T20:10:39.376174",
     "status": "completed"
    },
    "tags": []
   },
   "outputs": [
    {
     "data": {
      "text/plain": [
       "((10000, 28, 28), (10000,))"
      ]
     },
     "execution_count": 8,
     "metadata": {},
     "output_type": "execute_result"
    }
   ],
   "source": [
    "test_images.shape, test_labels.shape"
   ]
  },
  {
   "cell_type": "code",
   "execution_count": 9,
   "id": "f9ed8fe0",
   "metadata": {
    "execution": {
     "iopub.execute_input": "2022-08-28T20:10:39.482234Z",
     "iopub.status.busy": "2022-08-28T20:10:39.481632Z",
     "iopub.status.idle": "2022-08-28T20:10:39.625008Z",
     "shell.execute_reply": "2022-08-28T20:10:39.624541Z"
    },
    "papermill": {
     "duration": 0.177637,
     "end_time": "2022-08-28T20:10:39.625134",
     "exception": false,
     "start_time": "2022-08-28T20:10:39.447497",
     "status": "completed"
    },
    "tags": []
   },
   "outputs": [
    {
     "name": "stdout",
     "output_type": "stream",
     "text": [
      "2\n"
     ]
    },
    {
     "data": {
      "text/plain": [
       "<matplotlib.image.AxesImage at 0x7fccc60d8ef0>"
      ]
     },
     "execution_count": 9,
     "metadata": {},
     "output_type": "execute_result"
    },
    {
     "data": {
      "image/png": "[encoded data removed]",
      "text/plain": [
       "<Figure size 432x288 with 1 Axes>"
      ]
     },
     "metadata": {
      "needs_background": "light"
     },
     "output_type": "display_data"
    }
   ],
   "source": [
    "image_index = 7776 # You may select anything up to 60,000\n",
    "print(train_labels[image_index]) \n",
    "plt.imshow(train_images[image_index], cmap='Greys')"
   ]
  },
  {
   "cell_type": "markdown",
   "id": "a8d2388d",
   "metadata": {
    "papermill": {
     "duration": 0.027106,
     "end_time": "2022-08-28T20:10:39.679089",
     "exception": false,
     "start_time": "2022-08-28T20:10:39.651983",
     "status": "completed"
    },
    "tags": []
   },
   "source": [
    "## Filter data to get 3 and 8 out"
   ]
  },
  {
   "cell_type": "code",
   "execution_count": 10,
   "id": "776f7fc7",
   "metadata": {
    "execution": {
     "iopub.execute_input": "2022-08-28T20:10:39.738689Z",
     "iopub.status.busy": "2022-08-28T20:10:39.738065Z",
     "iopub.status.idle": "2022-08-28T20:10:39.758674Z",
     "shell.execute_reply": "2022-08-28T20:10:39.758104Z"
    },
    "papermill": {
     "duration": 0.052927,
     "end_time": "2022-08-28T20:10:39.758811",
     "exception": false,
     "start_time": "2022-08-28T20:10:39.705884",
     "status": "completed"
    },
    "tags": []
   },
   "outputs": [],
   "source": [
    "train_filter = np.where((train_labels == 3 ) | (train_labels == 8))\n",
    "test_filter = np.where((test_labels == 3) | (test_labels == 8))\n",
    "X_train, y_train = train_images[train_filter], train_labels[train_filter]\n",
    "X_test, y_test = test_images[test_filter], test_labels[test_filter]"
   ]
  },
  {
   "cell_type": "markdown",
   "id": "948f0b7e",
   "metadata": {
    "papermill": {
     "duration": 0.026709,
     "end_time": "2022-08-28T20:10:39.813253",
     "exception": false,
     "start_time": "2022-08-28T20:10:39.786544",
     "status": "completed"
    },
    "tags": []
   },
   "source": [
    "We normalize the pizel values in the 0 to 1 range"
   ]
  },
  {
   "cell_type": "code",
   "execution_count": 11,
   "id": "ee4c2166",
   "metadata": {
    "execution": {
     "iopub.execute_input": "2022-08-28T20:10:39.870999Z",
     "iopub.status.busy": "2022-08-28T20:10:39.870421Z",
     "iopub.status.idle": "2022-08-28T20:10:39.920633Z",
     "shell.execute_reply": "2022-08-28T20:10:39.920025Z"
    },
    "papermill": {
     "duration": 0.080925,
     "end_time": "2022-08-28T20:10:39.920784",
     "exception": false,
     "start_time": "2022-08-28T20:10:39.839859",
     "status": "completed"
    },
    "tags": []
   },
   "outputs": [],
   "source": [
    "X_train = X_train/255.\n",
    "X_test = X_test/255."
   ]
  },
  {
   "cell_type": "markdown",
   "id": "ddcf4fab",
   "metadata": {
    "papermill": {
     "duration": 0.026663,
     "end_time": "2022-08-28T20:10:39.976191",
     "exception": false,
     "start_time": "2022-08-28T20:10:39.949528",
     "status": "completed"
    },
    "tags": []
   },
   "source": [
    "And setup the labels as 1 (when the digit is 3) and 0 (when the digit is 8)"
   ]
  },
  {
   "cell_type": "code",
   "execution_count": 12,
   "id": "7dc908f2",
   "metadata": {
    "execution": {
     "iopub.execute_input": "2022-08-28T20:10:40.034805Z",
     "iopub.status.busy": "2022-08-28T20:10:40.034223Z",
     "iopub.status.idle": "2022-08-28T20:10:40.046679Z",
     "shell.execute_reply": "2022-08-28T20:10:40.046202Z"
    },
    "papermill": {
     "duration": 0.043845,
     "end_time": "2022-08-28T20:10:40.046791",
     "exception": false,
     "start_time": "2022-08-28T20:10:40.002946",
     "status": "completed"
    },
    "tags": []
   },
   "outputs": [],
   "source": [
    "y_train = 1*(y_train==3)\n",
    "y_test = 1*(y_test==3)"
   ]
  },
  {
   "cell_type": "code",
   "execution_count": 13,
   "id": "01e4e969",
   "metadata": {
    "execution": {
     "iopub.execute_input": "2022-08-28T20:10:40.105700Z",
     "iopub.status.busy": "2022-08-28T20:10:40.105086Z",
     "iopub.status.idle": "2022-08-28T20:10:40.119379Z",
     "shell.execute_reply": "2022-08-28T20:10:40.119829Z"
    },
    "papermill": {
     "duration": 0.046214,
     "end_time": "2022-08-28T20:10:40.119972",
     "exception": false,
     "start_time": "2022-08-28T20:10:40.073758",
     "status": "completed"
    },
    "tags": []
   },
   "outputs": [
    {
     "data": {
      "text/plain": [
       "((11982, 28, 28), (1984, 28, 28))"
      ]
     },
     "execution_count": 13,
     "metadata": {},
     "output_type": "execute_result"
    }
   ],
   "source": [
    "X_train.shape, X_test.shape"
   ]
  },
  {
   "cell_type": "markdown",
   "id": "5ccf3f85",
   "metadata": {
    "papermill": {
     "duration": 0.027,
     "end_time": "2022-08-28T20:10:40.173911",
     "exception": false,
     "start_time": "2022-08-28T20:10:40.146911",
     "status": "completed"
    },
    "tags": []
   },
   "source": [
    "We reshape the data to flatten the image pixels into a set of features or co-variates:"
   ]
  },
  {
   "cell_type": "code",
   "execution_count": 14,
   "id": "5286a4a3",
   "metadata": {
    "execution": {
     "iopub.execute_input": "2022-08-28T20:10:40.232904Z",
     "iopub.status.busy": "2022-08-28T20:10:40.232205Z",
     "iopub.status.idle": "2022-08-28T20:10:40.246181Z",
     "shell.execute_reply": "2022-08-28T20:10:40.246633Z"
    },
    "papermill": {
     "duration": 0.045765,
     "end_time": "2022-08-28T20:10:40.246774",
     "exception": false,
     "start_time": "2022-08-28T20:10:40.201009",
     "status": "completed"
    },
    "tags": []
   },
   "outputs": [
    {
     "data": {
      "text/plain": [
       "((11982, 784), (1984, 784))"
      ]
     },
     "execution_count": 14,
     "metadata": {},
     "output_type": "execute_result"
    }
   ],
   "source": [
    "X_train = X_train.reshape(X_train.shape[0], -1)\n",
    "X_test = X_test.reshape(X_test.shape[0], -1)\n",
    "X_train.shape, X_test.shape"
   ]
  },
  {
   "cell_type": "code",
   "execution_count": 15,
   "id": "73c5f88a",
   "metadata": {
    "execution": {
     "iopub.execute_input": "2022-08-28T20:10:40.306579Z",
     "iopub.status.busy": "2022-08-28T20:10:40.305979Z",
     "iopub.status.idle": "2022-08-28T20:10:40.325483Z",
     "shell.execute_reply": "2022-08-28T20:10:40.325916Z"
    },
    "papermill": {
     "duration": 0.051843,
     "end_time": "2022-08-28T20:10:40.326060",
     "exception": false,
     "start_time": "2022-08-28T20:10:40.274217",
     "status": "completed"
    },
    "tags": []
   },
   "outputs": [],
   "source": [
    "#Impoting functions from 'Kudzu'\n",
    "from kudzu.model import Model\n",
    "from kudzu.train import Learner\n",
    "from kudzu.optim import GD\n",
    "from kudzu.data import Data, Sampler,Dataloader\n",
    "\n",
    "from kudzu.callbacks import AccCallback\n",
    "from kudzu.callbacks import ClfCallback\n",
    "\n",
    "from kudzu.loss import MSE\n",
    "\n",
    "from kudzu.layer import Sigmoid,Relu\n",
    "from kudzu.layer import Affine"
   ]
  },
  {
   "cell_type": "markdown",
   "id": "bc01172a",
   "metadata": {
    "papermill": {
     "duration": 0.027076,
     "end_time": "2022-08-28T20:10:40.380591",
     "exception": false,
     "start_time": "2022-08-28T20:10:40.353515",
     "status": "completed"
    },
    "tags": []
   },
   "source": [
    "### Let us create a `Config` class, to store important parameters. \n",
    "This class essentially plays the role of a dictionary."
   ]
  },
  {
   "cell_type": "code",
   "execution_count": 16,
   "id": "978281aa",
   "metadata": {
    "execution": {
     "iopub.execute_input": "2022-08-28T20:10:40.439945Z",
     "iopub.status.busy": "2022-08-28T20:10:40.439299Z",
     "iopub.status.idle": "2022-08-28T20:10:40.453252Z",
     "shell.execute_reply": "2022-08-28T20:10:40.452728Z"
    },
    "papermill": {
     "duration": 0.045684,
     "end_time": "2022-08-28T20:10:40.453371",
     "exception": false,
     "start_time": "2022-08-28T20:10:40.407687",
     "status": "completed"
    },
    "tags": []
   },
   "outputs": [],
   "source": [
    "class Config:\n",
    "    pass\n",
    "config = Config()\n",
    "config.lr = 0.001\n",
    "config.num_epochs = 250\n",
    "config.bs = 50"
   ]
  },
  {
   "cell_type": "markdown",
   "id": "1385fa59",
   "metadata": {
    "papermill": {
     "duration": 0.027622,
     "end_time": "2022-08-28T20:10:40.508340",
     "exception": false,
     "start_time": "2022-08-28T20:10:40.480718",
     "status": "completed"
    },
    "tags": []
   },
   "source": [
    "### Running Models with the Training data\n",
    "Details about the network layers:\n",
    "- A first affine layer has 784 inputs and does 100 affine transforms. These are followed by a Relu\n",
    "- A second affine layer has 100 inputs from the 100 activations of the past layer, and does 100 affine transforms. These are followed by a Relu\n",
    "- A third affine layer has 100 activations and does 2 affine transformations to create an embedding for visualization. There is no non-linearity here.\n",
    "- A final \"logistic regression\" which has an affine transform from 2 inputs to 1 output, which is squeezed through a sigmoid.\n"
   ]
  },
  {
   "cell_type": "code",
   "execution_count": 17,
   "id": "2b9c66db",
   "metadata": {
    "execution": {
     "iopub.execute_input": "2022-08-28T20:10:40.575411Z",
     "iopub.status.busy": "2022-08-28T20:10:40.574777Z",
     "iopub.status.idle": "2022-08-28T20:10:40.583599Z",
     "shell.execute_reply": "2022-08-28T20:10:40.583090Z"
    },
    "papermill": {
     "duration": 0.048155,
     "end_time": "2022-08-28T20:10:40.583718",
     "exception": false,
     "start_time": "2022-08-28T20:10:40.535563",
     "status": "completed"
    },
    "tags": []
   },
   "outputs": [],
   "source": [
    "data = Data(X_train, y_train.reshape(-1,1))\n",
    "sampler = Sampler(data, config.bs, shuffle=True)\n",
    "\n",
    "dl = Dataloader(data, sampler)\n",
    "\n",
    "opt = GD(config.lr)\n",
    "loss = MSE()"
   ]
  },
  {
   "cell_type": "code",
   "execution_count": 18,
   "id": "b275e4c2",
   "metadata": {
    "execution": {
     "iopub.execute_input": "2022-08-28T20:10:40.654897Z",
     "iopub.status.busy": "2022-08-28T20:10:40.653013Z",
     "iopub.status.idle": "2022-08-28T20:10:40.657208Z",
     "shell.execute_reply": "2022-08-28T20:10:40.657630Z"
    },
    "papermill": {
     "duration": 0.046752,
     "end_time": "2022-08-28T20:10:40.657769",
     "exception": false,
     "start_time": "2022-08-28T20:10:40.611017",
     "status": "completed"
    },
    "tags": []
   },
   "outputs": [],
   "source": [
    "training_data_x = X_train\n",
    "testing_data_x = X_test\n",
    "training_data_y = y_train.reshape(-1,1)\n",
    "testing_data_y = y_test.reshape(-1,1)"
   ]
  },
  {
   "cell_type": "code",
   "execution_count": 19,
   "id": "76951160",
   "metadata": {
    "execution": {
     "iopub.execute_input": "2022-08-28T20:10:40.720439Z",
     "iopub.status.busy": "2022-08-28T20:10:40.717423Z",
     "iopub.status.idle": "2022-08-28T20:10:40.733806Z",
     "shell.execute_reply": "2022-08-28T20:10:40.734233Z"
    },
    "papermill": {
     "duration": 0.049348,
     "end_time": "2022-08-28T20:10:40.734378",
     "exception": false,
     "start_time": "2022-08-28T20:10:40.685030",
     "status": "completed"
    },
    "tags": []
   },
   "outputs": [
    {
     "name": "stdout",
     "output_type": "stream",
     "text": [
      "xavier\n",
      "xavier\n",
      "xavier\n",
      "xavier\n",
      "xavier\n"
     ]
    }
   ],
   "source": [
    "layers = [Affine(\"first\", 784, 100), Relu(\"first\"), Affine(\"second\", 100, 100), Relu(\"second\"), Affine(\"third\", 100, 2), Affine(\"last\", 2, 1), Sigmoid(\"last\")]\n",
    "model_nn = Model(layers)\n",
    "model_lr = Model([Affine(\"logits\", 784, 1), Sigmoid(\"sigmoid\")])"
   ]
  },
  {
   "cell_type": "code",
   "execution_count": 20,
   "id": "6eede77a",
   "metadata": {
    "execution": {
     "iopub.execute_input": "2022-08-28T20:10:40.795887Z",
     "iopub.status.busy": "2022-08-28T20:10:40.794607Z",
     "iopub.status.idle": "2022-08-28T20:10:40.808373Z",
     "shell.execute_reply": "2022-08-28T20:10:40.808841Z"
    },
    "papermill": {
     "duration": 0.047009,
     "end_time": "2022-08-28T20:10:40.808984",
     "exception": false,
     "start_time": "2022-08-28T20:10:40.761975",
     "status": "completed"
    },
    "tags": []
   },
   "outputs": [],
   "source": [
    "nn_learner = Learner(loss, model_nn, opt, config.num_epochs)\n",
    "acc_nn = ClfCallback(nn_learner, config.bs, training_data_x , testing_data_x, training_data_y, testing_data_y)\n",
    "nn_learner.set_callbacks([acc_nn])"
   ]
  },
  {
   "cell_type": "code",
   "execution_count": 21,
   "id": "877b6cc7",
   "metadata": {
    "execution": {
     "iopub.execute_input": "2022-08-28T20:10:40.880554Z",
     "iopub.status.busy": "2022-08-28T20:10:40.872494Z",
     "iopub.status.idle": "2022-08-28T20:10:40.885710Z",
     "shell.execute_reply": "2022-08-28T20:10:40.886177Z"
    },
    "papermill": {
     "duration": 0.049562,
     "end_time": "2022-08-28T20:10:40.886324",
     "exception": false,
     "start_time": "2022-08-28T20:10:40.836762",
     "status": "completed"
    },
    "tags": []
   },
   "outputs": [],
   "source": [
    "lr_learner = Learner(loss, model_lr, opt, config.num_epochs)\n",
    "acc_lr = ClfCallback(lr_learner, config.bs, training_data_x , testing_data_x, training_data_y, testing_data_y)\n",
    "lr_learner.set_callbacks([acc_lr])"
   ]
  },
  {
   "cell_type": "code",
   "execution_count": 22,
   "id": "d9b133c3",
   "metadata": {
    "execution": {
     "iopub.execute_input": "2022-08-28T20:10:40.949091Z",
     "iopub.status.busy": "2022-08-28T20:10:40.948497Z",
     "iopub.status.idle": "2022-08-28T20:12:04.292487Z",
     "shell.execute_reply": "2022-08-28T20:12:04.293329Z"
    },
    "papermill": {
     "duration": 83.379343,
     "end_time": "2022-08-28T20:12:04.293482",
     "exception": false,
     "start_time": "2022-08-28T20:10:40.914139",
     "status": "completed"
    },
    "tags": []
   },
   "outputs": [
    {
     "name": "stdout",
     "output_type": "stream",
     "text": [
      "Epoch 0, Loss 0.249\n",
      "Training Accuracy: 0.5385, Testing Accuracy: 0.5388\n",
      "\n"
     ]
    },
    {
     "name": "stdout",
     "output_type": "stream",
     "text": [
      "Epoch 10, Loss 0.1969\n",
      "Training Accuracy: 0.8800, Testing Accuracy: 0.9007\n",
      "\n"
     ]
    },
    {
     "name": "stdout",
     "output_type": "stream",
     "text": [
      "Epoch 20, Loss 0.0961\n",
      "Training Accuracy: 0.9233, Testing Accuracy: 0.9390\n",
      "\n"
     ]
    },
    {
     "name": "stdout",
     "output_type": "stream",
     "text": [
      "Epoch 30, Loss 0.0596\n",
      "Training Accuracy: 0.9389, Testing Accuracy: 0.9516\n",
      "\n"
     ]
    },
    {
     "name": "stdout",
     "output_type": "stream",
     "text": [
      "Epoch 40, Loss 0.0471\n",
      "Training Accuracy: 0.9494, Testing Accuracy: 0.9577\n",
      "\n"
     ]
    },
    {
     "name": "stdout",
     "output_type": "stream",
     "text": [
      "Epoch 50, Loss 0.0408\n",
      "Training Accuracy: 0.9536, Testing Accuracy: 0.9632\n",
      "\n"
     ]
    },
    {
     "name": "stdout",
     "output_type": "stream",
     "text": [
      "Epoch 60, Loss 0.0369\n",
      "Training Accuracy: 0.9579, Testing Accuracy: 0.9667\n",
      "\n"
     ]
    },
    {
     "name": "stdout",
     "output_type": "stream",
     "text": [
      "Epoch 70, Loss 0.0343\n",
      "Training Accuracy: 0.9604, Testing Accuracy: 0.9688\n",
      "\n"
     ]
    },
    {
     "name": "stdout",
     "output_type": "stream",
     "text": [
      "Epoch 80, Loss 0.0323\n",
      "Training Accuracy: 0.9619, Testing Accuracy: 0.9708\n",
      "\n"
     ]
    },
    {
     "name": "stdout",
     "output_type": "stream",
     "text": [
      "Epoch 90, Loss 0.0308\n",
      "Training Accuracy: 0.9635, Testing Accuracy: 0.9708\n",
      "\n"
     ]
    },
    {
     "name": "stdout",
     "output_type": "stream",
     "text": [
      "Epoch 100, Loss 0.0295\n",
      "Training Accuracy: 0.9653, Testing Accuracy: 0.9698\n",
      "\n"
     ]
    },
    {
     "name": "stdout",
     "output_type": "stream",
     "text": [
      "Epoch 110, Loss 0.0285\n",
      "Training Accuracy: 0.9665, Testing Accuracy: 0.9708\n",
      "\n"
     ]
    },
    {
     "name": "stdout",
     "output_type": "stream",
     "text": [
      "Epoch 120, Loss 0.0276\n",
      "Training Accuracy: 0.9669, Testing Accuracy: 0.9718\n",
      "\n"
     ]
    },
    {
     "name": "stdout",
     "output_type": "stream",
     "text": [
      "Epoch 130, Loss 0.0268\n",
      "Training Accuracy: 0.9685, Testing Accuracy: 0.9718\n",
      "\n"
     ]
    },
    {
     "name": "stdout",
     "output_type": "stream",
     "text": [
      "Epoch 140, Loss 0.026\n",
      "Training Accuracy: 0.9691, Testing Accuracy: 0.9718\n",
      "\n"
     ]
    },
    {
     "name": "stdout",
     "output_type": "stream",
     "text": [
      "Epoch 150, Loss 0.0254\n",
      "Training Accuracy: 0.9697, Testing Accuracy: 0.9723\n",
      "\n"
     ]
    },
    {
     "name": "stdout",
     "output_type": "stream",
     "text": [
      "Epoch 160, Loss 0.0248\n",
      "Training Accuracy: 0.9705, Testing Accuracy: 0.9708\n",
      "\n"
     ]
    },
    {
     "name": "stdout",
     "output_type": "stream",
     "text": [
      "Epoch 170, Loss 0.0242\n",
      "Training Accuracy: 0.9711, Testing Accuracy: 0.9708\n",
      "\n"
     ]
    },
    {
     "name": "stdout",
     "output_type": "stream",
     "text": [
      "Epoch 180, Loss 0.0237\n",
      "Training Accuracy: 0.9722, Testing Accuracy: 0.9698\n",
      "\n"
     ]
    },
    {
     "name": "stdout",
     "output_type": "stream",
     "text": [
      "Epoch 190, Loss 0.0232\n",
      "Training Accuracy: 0.9730, Testing Accuracy: 0.9703\n",
      "\n"
     ]
    },
    {
     "name": "stdout",
     "output_type": "stream",
     "text": [
      "Epoch 200, Loss 0.0228\n",
      "Training Accuracy: 0.9730, Testing Accuracy: 0.9718\n",
      "\n"
     ]
    },
    {
     "name": "stdout",
     "output_type": "stream",
     "text": [
      "Epoch 210, Loss 0.0224\n",
      "Training Accuracy: 0.9738, Testing Accuracy: 0.9723\n",
      "\n"
     ]
    },
    {
     "name": "stdout",
     "output_type": "stream",
     "text": [
      "Epoch 220, Loss 0.022\n",
      "Training Accuracy: 0.9743, Testing Accuracy: 0.9728\n",
      "\n"
     ]
    },
    {
     "name": "stdout",
     "output_type": "stream",
     "text": [
      "Epoch 230, Loss 0.0216\n",
      "Training Accuracy: 0.9751, Testing Accuracy: 0.9738\n",
      "\n"
     ]
    },
    {
     "name": "stdout",
     "output_type": "stream",
     "text": [
      "Epoch 240, Loss 0.0212\n",
      "Training Accuracy: 0.9755, Testing Accuracy: 0.9738\n",
      "\n"
     ]
    },
    {
     "data": {
      "text/plain": [
       "0.0037889530658577445"
      ]
     },
     "execution_count": 22,
     "metadata": {},
     "output_type": "execute_result"
    }
   ],
   "source": [
    "nn_learner.train_loop(dl)"
   ]
  },
  {
   "cell_type": "code",
   "execution_count": 23,
   "id": "e0163366",
   "metadata": {
    "execution": {
     "iopub.execute_input": "2022-08-28T20:12:04.373824Z",
     "iopub.status.busy": "2022-08-28T20:12:04.373214Z",
     "iopub.status.idle": "2022-08-28T20:12:20.047440Z",
     "shell.execute_reply": "2022-08-28T20:12:20.048313Z"
    },
    "papermill": {
     "duration": 15.719404,
     "end_time": "2022-08-28T20:12:20.048467",
     "exception": false,
     "start_time": "2022-08-28T20:12:04.329063",
     "status": "completed"
    },
    "tags": []
   },
   "outputs": [
    {
     "name": "stdout",
     "output_type": "stream",
     "text": [
      "Epoch 0, Loss 0.2699\n",
      "Training Accuracy: 0.5638, Testing Accuracy: 0.5832\n",
      "\n"
     ]
    },
    {
     "name": "stdout",
     "output_type": "stream",
     "text": [
      "Epoch 10, Loss 0.1053\n",
      "Training Accuracy: 0.9069, Testing Accuracy: 0.9204\n",
      "\n"
     ]
    },
    {
     "name": "stdout",
     "output_type": "stream",
     "text": [
      "Epoch 20, Loss 0.0802\n",
      "Training Accuracy: 0.9247, Testing Accuracy: 0.9345\n",
      "\n"
     ]
    },
    {
     "name": "stdout",
     "output_type": "stream",
     "text": [
      "Epoch 30, Loss 0.0689\n",
      "Training Accuracy: 0.9347, Testing Accuracy: 0.9446\n",
      "\n"
     ]
    },
    {
     "name": "stdout",
     "output_type": "stream",
     "text": [
      "Epoch 40, Loss 0.0621\n",
      "Training Accuracy: 0.9408, Testing Accuracy: 0.9491\n",
      "\n"
     ]
    },
    {
     "name": "stdout",
     "output_type": "stream",
     "text": [
      "Epoch 50, Loss 0.0575\n",
      "Training Accuracy: 0.9447, Testing Accuracy: 0.9501\n",
      "\n"
     ]
    },
    {
     "name": "stdout",
     "output_type": "stream",
     "text": [
      "Epoch 60, Loss 0.0541\n",
      "Training Accuracy: 0.9471, Testing Accuracy: 0.9551\n",
      "\n"
     ]
    },
    {
     "name": "stdout",
     "output_type": "stream",
     "text": [
      "Epoch 70, Loss 0.0515\n",
      "Training Accuracy: 0.9487, Testing Accuracy: 0.9577\n",
      "\n"
     ]
    },
    {
     "name": "stdout",
     "output_type": "stream",
     "text": [
      "Epoch 80, Loss 0.0494\n",
      "Training Accuracy: 0.9505, Testing Accuracy: 0.9587\n",
      "\n"
     ]
    },
    {
     "name": "stdout",
     "output_type": "stream",
     "text": [
      "Epoch 90, Loss 0.0477\n",
      "Training Accuracy: 0.9513, Testing Accuracy: 0.9597\n",
      "\n"
     ]
    },
    {
     "name": "stdout",
     "output_type": "stream",
     "text": [
      "Epoch 100, Loss 0.0463\n",
      "Training Accuracy: 0.9529, Testing Accuracy: 0.9597\n",
      "\n"
     ]
    },
    {
     "name": "stdout",
     "output_type": "stream",
     "text": [
      "Epoch 110, Loss 0.045\n",
      "Training Accuracy: 0.9541, Testing Accuracy: 0.9612\n",
      "\n"
     ]
    },
    {
     "name": "stdout",
     "output_type": "stream",
     "text": [
      "Epoch 120, Loss 0.0439\n",
      "Training Accuracy: 0.9550, Testing Accuracy: 0.9627\n",
      "\n"
     ]
    },
    {
     "name": "stdout",
     "output_type": "stream",
     "text": [
      "Epoch 130, Loss 0.043\n",
      "Training Accuracy: 0.9558, Testing Accuracy: 0.9647\n",
      "\n"
     ]
    },
    {
     "name": "stdout",
     "output_type": "stream",
     "text": [
      "Epoch 140, Loss 0.0422\n",
      "Training Accuracy: 0.9564, Testing Accuracy: 0.9647\n",
      "\n"
     ]
    },
    {
     "name": "stdout",
     "output_type": "stream",
     "text": [
      "Epoch 150, Loss 0.0414\n",
      "Training Accuracy: 0.9574, Testing Accuracy: 0.9647\n",
      "\n"
     ]
    },
    {
     "name": "stdout",
     "output_type": "stream",
     "text": [
      "Epoch 160, Loss 0.0407\n",
      "Training Accuracy: 0.9576, Testing Accuracy: 0.9647\n",
      "\n"
     ]
    },
    {
     "name": "stdout",
     "output_type": "stream",
     "text": [
      "Epoch 170, Loss 0.0401\n",
      "Training Accuracy: 0.9577, Testing Accuracy: 0.9657\n",
      "\n"
     ]
    },
    {
     "name": "stdout",
     "output_type": "stream",
     "text": [
      "Epoch 180, Loss 0.0395\n",
      "Training Accuracy: 0.9582, Testing Accuracy: 0.9652\n",
      "\n"
     ]
    },
    {
     "name": "stdout",
     "output_type": "stream",
     "text": [
      "Epoch 190, Loss 0.039\n",
      "Training Accuracy: 0.9586, Testing Accuracy: 0.9652\n",
      "\n"
     ]
    },
    {
     "name": "stdout",
     "output_type": "stream",
     "text": [
      "Epoch 200, Loss 0.0385\n",
      "Training Accuracy: 0.9589, Testing Accuracy: 0.9647\n",
      "\n"
     ]
    },
    {
     "name": "stdout",
     "output_type": "stream",
     "text": [
      "Epoch 210, Loss 0.0381\n",
      "Training Accuracy: 0.9593, Testing Accuracy: 0.9647\n",
      "\n"
     ]
    },
    {
     "name": "stdout",
     "output_type": "stream",
     "text": [
      "Epoch 220, Loss 0.0376\n",
      "Training Accuracy: 0.9597, Testing Accuracy: 0.9652\n",
      "\n"
     ]
    },
    {
     "name": "stdout",
     "output_type": "stream",
     "text": [
      "Epoch 230, Loss 0.0373\n",
      "Training Accuracy: 0.9600, Testing Accuracy: 0.9652\n",
      "\n"
     ]
    },
    {
     "name": "stdout",
     "output_type": "stream",
     "text": [
      "Epoch 240, Loss 0.0369\n",
      "Training Accuracy: 0.9604, Testing Accuracy: 0.9657\n",
      "\n"
     ]
    },
    {
     "data": {
      "text/plain": [
       "0.03027801158943109"
      ]
     },
     "execution_count": 23,
     "metadata": {},
     "output_type": "execute_result"
    }
   ],
   "source": [
    "lr_learner.train_loop(dl)"
   ]
  },
  {
   "cell_type": "code",
   "execution_count": 24,
   "id": "ca410940",
   "metadata": {
    "execution": {
     "iopub.execute_input": "2022-08-28T20:12:20.141743Z",
     "iopub.status.busy": "2022-08-28T20:12:20.141101Z",
     "iopub.status.idle": "2022-08-28T20:12:20.362780Z",
     "shell.execute_reply": "2022-08-28T20:12:20.362283Z"
    },
    "papermill": {
     "duration": 0.272421,
     "end_time": "2022-08-28T20:12:20.362905",
     "exception": false,
     "start_time": "2022-08-28T20:12:20.090484",
     "status": "completed"
    },
    "tags": []
   },
   "outputs": [
    {
     "data": {
      "text/plain": [
       "<matplotlib.legend.Legend at 0x7fccc5c47f98>"
      ]
     },
     "execution_count": 24,
     "metadata": {},
     "output_type": "execute_result"
    },
    {
     "data": {
      "image/png": "[encoded data removed]",
      "text/plain": [
       "<Figure size 1080x720 with 1 Axes>"
      ]
     },
     "metadata": {
      "needs_background": "light"
     },
     "output_type": "display_data"
    }
   ],
   "source": [
    "#comparing the results of NN and LR\n",
    "plt.figure(figsize=(15,10))\n",
    "\n",
    "# Neural Network plots\n",
    "plt.plot(acc_nn.accuracies, 'r-', label = \"Training Accuracies - NN\")\n",
    "plt.plot(acc_nn.test_accuracies, 'g-', label = \"Testing Accuracies - NN\")\n",
    "\n",
    "# Logistic Regression plots\n",
    "plt.plot(acc_lr.accuracies, 'k-', label = \"Training Accuracies - LR\")\n",
    "plt.plot(acc_lr.test_accuracies, 'b-', label = \"Testing Accuracies - LR\")\n",
    "plt.legend()"
   ]
  },
  {
   "cell_type": "markdown",
   "id": "80dfb35c",
   "metadata": {
    "papermill": {
     "duration": 0.042273,
     "end_time": "2022-08-28T20:12:20.447865",
     "exception": false,
     "start_time": "2022-08-28T20:12:20.405592",
     "status": "completed"
    },
    "tags": []
   },
   "source": [
    "#### Plotting the outputs of this layer of the NN.\n"
   ]
  },
  {
   "cell_type": "code",
   "execution_count": 25,
   "id": "45eb2ff5",
   "metadata": {
    "execution": {
     "iopub.execute_input": "2022-08-28T20:12:20.537160Z",
     "iopub.status.busy": "2022-08-28T20:12:20.536530Z",
     "iopub.status.idle": "2022-08-28T20:12:20.559348Z",
     "shell.execute_reply": "2022-08-28T20:12:20.560142Z"
    },
    "papermill": {
     "duration": 0.0699,
     "end_time": "2022-08-28T20:12:20.560293",
     "exception": false,
     "start_time": "2022-08-28T20:12:20.490393",
     "status": "completed"
    },
    "tags": []
   },
   "outputs": [],
   "source": [
    "new_model = Model(layers[:-2])\n",
    "testing_plot = new_model(testing_data_x)"
   ]
  },
  {
   "cell_type": "code",
   "execution_count": 26,
   "id": "4c0a5485",
   "metadata": {
    "execution": {
     "iopub.execute_input": "2022-08-28T20:12:20.660194Z",
     "iopub.status.busy": "2022-08-28T20:12:20.659542Z",
     "iopub.status.idle": "2022-08-28T20:12:20.845455Z",
     "shell.execute_reply": "2022-08-28T20:12:20.844947Z"
    },
    "papermill": {
     "duration": 0.241715,
     "end_time": "2022-08-28T20:12:20.845580",
     "exception": false,
     "start_time": "2022-08-28T20:12:20.603865",
     "status": "completed"
    },
    "tags": []
   },
   "outputs": [
    {
     "data": {
      "text/plain": [
       "Text(0.5, 1.0, 'Outputs')"
      ]
     },
     "execution_count": 26,
     "metadata": {},
     "output_type": "execute_result"
    },
    {
     "data": {
      "image/png": "[encoded data removed]",
      "text/plain": [
       "<Figure size 576x504 with 1 Axes>"
      ]
     },
     "metadata": {
      "needs_background": "light"
     },
     "output_type": "display_data"
    }
   ],
   "source": [
    "# Plotting the scatter plot of points and color coding by class\n",
    "plt.figure(figsize=(8,7))\n",
    "plt.scatter(testing_plot[:,0], testing_plot[:,1], alpha = 0.1, c = y_test.ravel());\n",
    "plt.title('Outputs')"
   ]
  },
  {
   "cell_type": "markdown",
   "id": "a74fcf8f",
   "metadata": {
    "papermill": {
     "duration": 0.044642,
     "end_time": "2022-08-28T20:12:20.934721",
     "exception": false,
     "start_time": "2022-08-28T20:12:20.890079",
     "status": "completed"
    },
    "tags": []
   },
   "source": [
    "Probability contours"
   ]
  },
  {
   "cell_type": "code",
   "execution_count": 27,
   "id": "d0afc8e3",
   "metadata": {
    "execution": {
     "iopub.execute_input": "2022-08-28T20:12:21.068443Z",
     "iopub.status.busy": "2022-08-28T20:12:21.067803Z",
     "iopub.status.idle": "2022-08-28T20:12:21.081318Z",
     "shell.execute_reply": "2022-08-28T20:12:21.080791Z"
    },
    "papermill": {
     "duration": 0.063598,
     "end_time": "2022-08-28T20:12:21.081447",
     "exception": false,
     "start_time": "2022-08-28T20:12:21.017849",
     "status": "completed"
    },
    "tags": []
   },
   "outputs": [],
   "source": [
    "model_prob = Model(layers[-2:]) "
   ]
  },
  {
   "cell_type": "code",
   "execution_count": 28,
   "id": "9b96e238",
   "metadata": {
    "execution": {
     "iopub.execute_input": "2022-08-28T20:12:21.176970Z",
     "iopub.status.busy": "2022-08-28T20:12:21.176336Z",
     "iopub.status.idle": "2022-08-28T20:12:21.192421Z",
     "shell.execute_reply": "2022-08-28T20:12:21.192873Z"
    },
    "papermill": {
     "duration": 0.066741,
     "end_time": "2022-08-28T20:12:21.193024",
     "exception": false,
     "start_time": "2022-08-28T20:12:21.126283",
     "status": "completed"
    },
    "tags": []
   },
   "outputs": [],
   "source": [
    "#creating the x and y ranges according to the above generated plot.\n",
    "x_range = np.linspace(-4, 1, 100) \n",
    "y_range = np.linspace(-6, 6, 100) \n",
    "x_grid, y_grid = np.meshgrid(x_range, y_range) # x_grid and y_grig are of size 100 X 100\n",
    "\n",
    "# converting x_grid and y_grid to continuous arrays\n",
    "x_gridflat = np.ravel(x_grid)\n",
    "y_gridflat = np.ravel(y_grid)\n",
    "\n",
    "# The last layer of the current model takes two columns as input. Hence transpose of np.vstack() is required.\n",
    "X = np.vstack((x_gridflat, y_gridflat)).T\n",
    "\n",
    "prob_contour = model_prob(X).reshape(100,100) "
   ]
  },
  {
   "cell_type": "code",
   "execution_count": 29,
   "id": "da72499a",
   "metadata": {
    "execution": {
     "iopub.execute_input": "2022-08-28T20:12:21.292449Z",
     "iopub.status.busy": "2022-08-28T20:12:21.291813Z",
     "iopub.status.idle": "2022-08-28T20:12:21.538700Z",
     "shell.execute_reply": "2022-08-28T20:12:21.539303Z"
    },
    "papermill": {
     "duration": 0.301348,
     "end_time": "2022-08-28T20:12:21.539460",
     "exception": false,
     "start_time": "2022-08-28T20:12:21.238112",
     "status": "completed"
    },
    "tags": []
   },
   "outputs": [
    {
     "data": {
      "image/png": "[encoded data removed]",
      "text/plain": [
       "<Figure size 720x648 with 1 Axes>"
      ]
     },
     "metadata": {
      "needs_background": "light"
     },
     "output_type": "display_data"
    }
   ],
   "source": [
    "plt.figure(figsize=(10,9))\n",
    "plt.scatter(testing_plot[:,0], testing_plot[:,1], alpha = 0.1, c = y_test.ravel())\n",
    "contours = plt.contour(x_grid,y_grid,prob_contour)\n",
    "plt.title('Probability Contours')\n",
    "plt.clabel(contours, inline = True );"
   ]
  },
  {
   "cell_type": "code",
   "execution_count": null,
   "id": "e81b4ac7",
   "metadata": {
    "papermill": {
     "duration": 0.047299,
     "end_time": "2022-08-28T20:12:21.634569",
     "exception": false,
     "start_time": "2022-08-28T20:12:21.587270",
     "status": "completed"
    },
    "tags": []
   },
   "outputs": [],
   "source": []
  }
 ],
 "metadata": {
  "kernelspec": {
   "display_name": "Python 3",
   "language": "python",
   "name": "python3"
  },
  "language_info": {
   "codemirror_mode": {
    "name": "ipython",
    "version": 3
   },
   "file_extension": ".py",
   "mimetype": "text/x-python",
   "name": "python",
   "nbconvert_exporter": "python",
   "pygments_lexer": "ipython3",
   "version": "3.6.15"
  },
  "papermill": {
   "default_parameters": {},
   "duration": 107.578331,
   "end_time": "2022-08-28T20:12:22.202591",
   "environment_variables": {},
   "exception": null,
   "input_path": "2020-08-11-part2.ipynb",
   "output_path": "2020-08-11-part2.ipynb",
   "parameters": {},
   "start_time": "2022-08-28T20:10:34.624260",
   "version": "2.3.3"
  }
 },
 "nbformat": 4,
 "nbformat_minor": 5
}