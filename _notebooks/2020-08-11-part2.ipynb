{
 "cells": [
  {
   "cell_type": "markdown",
   "id": "98380cd3",
   "metadata": {
    "papermill": {
     "duration": 0.020704,
     "end_time": "2022-10-21T00:48:04.192369",
     "exception": false,
     "start_time": "2022-10-21T00:48:04.171665",
     "status": "completed"
    },
    "tags": []
   },
   "source": [
    "# Distinguish Your Own Digits (DYOD)"
   ]
  },
  {
   "cell_type": "markdown",
   "id": "ef31240d",
   "metadata": {
    "papermill": {
     "duration": 0.019309,
     "end_time": "2022-10-21T00:48:04.229366",
     "exception": false,
     "start_time": "2022-10-21T00:48:04.210057",
     "status": "completed"
    },
    "tags": []
   },
   "source": [
    "You are going to write a classifier that distinguishes between the number 3 and number 8."
   ]
  },
  {
   "cell_type": "code",
   "execution_count": 1,
   "id": "b15c8646",
   "metadata": {
    "execution": {
     "iopub.execute_input": "2022-10-21T00:48:04.272464Z",
     "iopub.status.busy": "2022-10-21T00:48:04.271499Z",
     "iopub.status.idle": "2022-10-21T00:48:04.278954Z",
     "shell.execute_reply": "2022-10-21T00:48:04.278546Z"
    },
    "papermill": {
     "duration": 0.032132,
     "end_time": "2022-10-21T00:48:04.279038",
     "exception": false,
     "start_time": "2022-10-21T00:48:04.246906",
     "status": "completed"
    },
    "tags": []
   },
   "outputs": [],
   "source": [
    "%load_ext autoreload\n",
    "%autoreload 2"
   ]
  },
  {
   "cell_type": "code",
   "execution_count": 2,
   "id": "22ef38dc",
   "metadata": {
    "execution": {
     "iopub.execute_input": "2022-10-21T00:48:04.316648Z",
     "iopub.status.busy": "2022-10-21T00:48:04.316242Z",
     "iopub.status.idle": "2022-10-21T00:48:04.692586Z",
     "shell.execute_reply": "2022-10-21T00:48:04.692210Z"
    },
    "papermill": {
     "duration": 0.396276,
     "end_time": "2022-10-21T00:48:04.692670",
     "exception": false,
     "start_time": "2022-10-21T00:48:04.296394",
     "status": "completed"
    },
    "tags": []
   },
   "outputs": [],
   "source": [
    "%matplotlib inline\n",
    "import numpy as np\n",
    "import matplotlib.pyplot as plt\n",
    "import pandas as pd"
   ]
  },
  {
   "cell_type": "markdown",
   "id": "ba036198",
   "metadata": {
    "papermill": {
     "duration": 0.017327,
     "end_time": "2022-10-21T00:48:04.727725",
     "exception": false,
     "start_time": "2022-10-21T00:48:04.710398",
     "status": "completed"
    },
    "tags": []
   },
   "source": [
    "From the command line run `pip install mnist`. This is a library that will help you bring down the mnist dataset. If you run this from a notebook, you need to put  `!pip install mnist` in a cell by itself."
   ]
  },
  {
   "cell_type": "code",
   "execution_count": 3,
   "id": "bb6ad8a1",
   "metadata": {
    "execution": {
     "iopub.execute_input": "2022-10-21T00:48:04.824303Z",
     "iopub.status.busy": "2022-10-21T00:48:04.823895Z",
     "iopub.status.idle": "2022-10-21T00:48:06.185436Z",
     "shell.execute_reply": "2022-10-21T00:48:06.184825Z"
    },
    "papermill": {
     "duration": 1.429577,
     "end_time": "2022-10-21T00:48:06.185525",
     "exception": false,
     "start_time": "2022-10-21T00:48:04.755948",
     "status": "completed"
    },
    "tags": []
   },
   "outputs": [
    {
     "name": "stdout",
     "output_type": "stream",
     "text": [
      "Collecting mnist\r\n"
     ]
    },
    {
     "name": "stdout",
     "output_type": "stream",
     "text": [
      "  Downloading mnist-0.2.2-py2.py3-none-any.whl (3.5 kB)\r\n",
      "Requirement already satisfied: numpy in /opt/hostedtoolcache/Python/3.6.15/x64/lib/python3.6/site-packages (from mnist) (1.19.5)\r\n"
     ]
    },
    {
     "name": "stdout",
     "output_type": "stream",
     "text": [
      "Installing collected packages: mnist\r\n",
      "Successfully installed mnist-0.2.2\r\n"
     ]
    }
   ],
   "source": [
    "!pip install mnist"
   ]
  },
  {
   "cell_type": "markdown",
   "id": "69df9c9a",
   "metadata": {
    "papermill": {
     "duration": 0.017843,
     "end_time": "2022-10-21T00:48:06.221384",
     "exception": false,
     "start_time": "2022-10-21T00:48:06.203541",
     "status": "completed"
    },
    "tags": []
   },
   "source": [
    "## Preparing the Data"
   ]
  },
  {
   "cell_type": "code",
   "execution_count": 4,
   "id": "7f69d806",
   "metadata": {
    "execution": {
     "iopub.execute_input": "2022-10-21T00:48:06.259662Z",
     "iopub.status.busy": "2022-10-21T00:48:06.259263Z",
     "iopub.status.idle": "2022-10-21T00:48:06.270325Z",
     "shell.execute_reply": "2022-10-21T00:48:06.269921Z"
    },
    "papermill": {
     "duration": 0.031336,
     "end_time": "2022-10-21T00:48:06.270411",
     "exception": false,
     "start_time": "2022-10-21T00:48:06.239075",
     "status": "completed"
    },
    "tags": []
   },
   "outputs": [],
   "source": [
    "import mnist"
   ]
  },
  {
   "cell_type": "code",
   "execution_count": 5,
   "id": "a411e44f",
   "metadata": {
    "execution": {
     "iopub.execute_input": "2022-10-21T00:48:06.308176Z",
     "iopub.status.busy": "2022-10-21T00:48:06.307779Z",
     "iopub.status.idle": "2022-10-21T00:48:07.554792Z",
     "shell.execute_reply": "2022-10-21T00:48:07.553956Z"
    },
    "papermill": {
     "duration": 1.266784,
     "end_time": "2022-10-21T00:48:07.554900",
     "exception": false,
     "start_time": "2022-10-21T00:48:06.288116",
     "status": "completed"
    },
    "tags": []
   },
   "outputs": [],
   "source": [
    "train_images = mnist.train_images()\n",
    "train_labels = mnist.train_labels()"
   ]
  },
  {
   "cell_type": "code",
   "execution_count": 6,
   "id": "dceab3a5",
   "metadata": {
    "execution": {
     "iopub.execute_input": "2022-10-21T00:48:07.593285Z",
     "iopub.status.busy": "2022-10-21T00:48:07.592889Z",
     "iopub.status.idle": "2022-10-21T00:48:07.603139Z",
     "shell.execute_reply": "2022-10-21T00:48:07.602732Z"
    },
    "papermill": {
     "duration": 0.030376,
     "end_time": "2022-10-21T00:48:07.603212",
     "exception": false,
     "start_time": "2022-10-21T00:48:07.572836",
     "status": "completed"
    },
    "tags": []
   },
   "outputs": [
    {
     "data": {
      "text/plain": [
       "((60000, 28, 28), (60000,))"
      ]
     },
     "execution_count": 6,
     "metadata": {},
     "output_type": "execute_result"
    }
   ],
   "source": [
    "train_images.shape, train_labels.shape"
   ]
  },
  {
   "cell_type": "code",
   "execution_count": 7,
   "id": "f50dc2bb",
   "metadata": {
    "execution": {
     "iopub.execute_input": "2022-10-21T00:48:07.641445Z",
     "iopub.status.busy": "2022-10-21T00:48:07.641053Z",
     "iopub.status.idle": "2022-10-21T00:48:07.869420Z",
     "shell.execute_reply": "2022-10-21T00:48:07.869069Z"
    },
    "papermill": {
     "duration": 0.248417,
     "end_time": "2022-10-21T00:48:07.869507",
     "exception": false,
     "start_time": "2022-10-21T00:48:07.621090",
     "status": "completed"
    },
    "tags": []
   },
   "outputs": [],
   "source": [
    "test_images = mnist.test_images()\n",
    "test_labels = mnist.test_labels()"
   ]
  },
  {
   "cell_type": "code",
   "execution_count": 8,
   "id": "fc38cf1b",
   "metadata": {
    "execution": {
     "iopub.execute_input": "2022-10-21T00:48:07.908871Z",
     "iopub.status.busy": "2022-10-21T00:48:07.908476Z",
     "iopub.status.idle": "2022-10-21T00:48:07.917860Z",
     "shell.execute_reply": "2022-10-21T00:48:07.917537Z"
    },
    "papermill": {
     "duration": 0.030086,
     "end_time": "2022-10-21T00:48:07.917935",
     "exception": false,
     "start_time": "2022-10-21T00:48:07.887849",
     "status": "completed"
    },
    "tags": []
   },
   "outputs": [
    {
     "data": {
      "text/plain": [
       "((10000, 28, 28), (10000,))"
      ]
     },
     "execution_count": 8,
     "metadata": {},
     "output_type": "execute_result"
    }
   ],
   "source": [
    "test_images.shape, test_labels.shape"
   ]
  },
  {
   "cell_type": "code",
   "execution_count": 9,
   "id": "f9ed8fe0",
   "metadata": {
    "execution": {
     "iopub.execute_input": "2022-10-21T00:48:07.956812Z",
     "iopub.status.busy": "2022-10-21T00:48:07.956419Z",
     "iopub.status.idle": "2022-10-21T00:48:08.050618Z",
     "shell.execute_reply": "2022-10-21T00:48:08.050283Z"
    },
    "papermill": {
     "duration": 0.114675,
     "end_time": "2022-10-21T00:48:08.050696",
     "exception": false,
     "start_time": "2022-10-21T00:48:07.936021",
     "status": "completed"
    },
    "tags": []
   },
   "outputs": [
    {
     "name": "stdout",
     "output_type": "stream",
     "text": [
      "2\n"
     ]
    },
    {
     "data": {
      "text/plain": [
       "<matplotlib.image.AxesImage at 0x7efe7bcb2cf8>"
      ]
     },
     "execution_count": 9,
     "metadata": {},
     "output_type": "execute_result"
    },
    {
     "data": {
      "image/png": "[encoded data removed]",
      "text/plain": [
       "<Figure size 432x288 with 1 Axes>"
      ]
     },
     "metadata": {
      "needs_background": "light"
     },
     "output_type": "display_data"
    }
   ],
   "source": [
    "image_index = 7776 # You may select anything up to 60,000\n",
    "print(train_labels[image_index]) \n",
    "plt.imshow(train_images[image_index], cmap='Greys')"
   ]
  },
  {
   "cell_type": "markdown",
   "id": "a8d2388d",
   "metadata": {
    "papermill": {
     "duration": 0.019047,
     "end_time": "2022-10-21T00:48:08.088942",
     "exception": false,
     "start_time": "2022-10-21T00:48:08.069895",
     "status": "completed"
    },
    "tags": []
   },
   "source": [
    "## Filter data to get 3 and 8 out"
   ]
  },
  {
   "cell_type": "code",
   "execution_count": 10,
   "id": "776f7fc7",
   "metadata": {
    "execution": {
     "iopub.execute_input": "2022-10-21T00:48:08.130332Z",
     "iopub.status.busy": "2022-10-21T00:48:08.129906Z",
     "iopub.status.idle": "2022-10-21T00:48:08.142678Z",
     "shell.execute_reply": "2022-10-21T00:48:08.142268Z"
    },
    "papermill": {
     "duration": 0.034814,
     "end_time": "2022-10-21T00:48:08.142755",
     "exception": false,
     "start_time": "2022-10-21T00:48:08.107941",
     "status": "completed"
    },
    "tags": []
   },
   "outputs": [],
   "source": [
    "train_filter = np.where((train_labels == 3 ) | (train_labels == 8))\n",
    "test_filter = np.where((test_labels == 3) | (test_labels == 8))\n",
    "X_train, y_train = train_images[train_filter], train_labels[train_filter]\n",
    "X_test, y_test = test_images[test_filter], test_labels[test_filter]"
   ]
  },
  {
   "cell_type": "markdown",
   "id": "948f0b7e",
   "metadata": {
    "papermill": {
     "duration": 0.018883,
     "end_time": "2022-10-21T00:48:08.180635",
     "exception": false,
     "start_time": "2022-10-21T00:48:08.161752",
     "status": "completed"
    },
    "tags": []
   },
   "source": [
    "We normalize the pizel values in the 0 to 1 range"
   ]
  },
  {
   "cell_type": "code",
   "execution_count": 11,
   "id": "ee4c2166",
   "metadata": {
    "execution": {
     "iopub.execute_input": "2022-10-21T00:48:08.221278Z",
     "iopub.status.busy": "2022-10-21T00:48:08.220878Z",
     "iopub.status.idle": "2022-10-21T00:48:08.253292Z",
     "shell.execute_reply": "2022-10-21T00:48:08.252952Z"
    },
    "papermill": {
     "duration": 0.053735,
     "end_time": "2022-10-21T00:48:08.253372",
     "exception": false,
     "start_time": "2022-10-21T00:48:08.199637",
     "status": "completed"
    },
    "tags": []
   },
   "outputs": [],
   "source": [
    "X_train = X_train/255.\n",
    "X_test = X_test/255."
   ]
  },
  {
   "cell_type": "markdown",
   "id": "ddcf4fab",
   "metadata": {
    "papermill": {
     "duration": 0.01893,
     "end_time": "2022-10-21T00:48:08.291368",
     "exception": false,
     "start_time": "2022-10-21T00:48:08.272438",
     "status": "completed"
    },
    "tags": []
   },
   "source": [
    "And setup the labels as 1 (when the digit is 3) and 0 (when the digit is 8)"
   ]
  },
  {
   "cell_type": "code",
   "execution_count": 12,
   "id": "7dc908f2",
   "metadata": {
    "execution": {
     "iopub.execute_input": "2022-10-21T00:48:08.332368Z",
     "iopub.status.busy": "2022-10-21T00:48:08.331964Z",
     "iopub.status.idle": "2022-10-21T00:48:08.340669Z",
     "shell.execute_reply": "2022-10-21T00:48:08.340278Z"
    },
    "papermill": {
     "duration": 0.030216,
     "end_time": "2022-10-21T00:48:08.340743",
     "exception": false,
     "start_time": "2022-10-21T00:48:08.310527",
     "status": "completed"
    },
    "tags": []
   },
   "outputs": [],
   "source": [
    "y_train = 1*(y_train==3)\n",
    "y_test = 1*(y_test==3)"
   ]
  },
  {
   "cell_type": "code",
   "execution_count": 13,
   "id": "01e4e969",
   "metadata": {
    "execution": {
     "iopub.execute_input": "2022-10-21T00:48:08.381410Z",
     "iopub.status.busy": "2022-10-21T00:48:08.381016Z",
     "iopub.status.idle": "2022-10-21T00:48:08.390488Z",
     "shell.execute_reply": "2022-10-21T00:48:08.390111Z"
    },
    "papermill": {
     "duration": 0.030778,
     "end_time": "2022-10-21T00:48:08.390561",
     "exception": false,
     "start_time": "2022-10-21T00:48:08.359783",
     "status": "completed"
    },
    "tags": []
   },
   "outputs": [
    {
     "data": {
      "text/plain": [
       "((11982, 28, 28), (1984, 28, 28))"
      ]
     },
     "execution_count": 13,
     "metadata": {},
     "output_type": "execute_result"
    }
   ],
   "source": [
    "X_train.shape, X_test.shape"
   ]
  },
  {
   "cell_type": "markdown",
   "id": "5ccf3f85",
   "metadata": {
    "papermill": {
     "duration": 0.019099,
     "end_time": "2022-10-21T00:48:08.428802",
     "exception": false,
     "start_time": "2022-10-21T00:48:08.409703",
     "status": "completed"
    },
    "tags": []
   },
   "source": [
    "We reshape the data to flatten the image pixels into a set of features or co-variates:"
   ]
  },
  {
   "cell_type": "code",
   "execution_count": 14,
   "id": "5286a4a3",
   "metadata": {
    "execution": {
     "iopub.execute_input": "2022-10-21T00:48:08.470210Z",
     "iopub.status.busy": "2022-10-21T00:48:08.469815Z",
     "iopub.status.idle": "2022-10-21T00:48:08.479489Z",
     "shell.execute_reply": "2022-10-21T00:48:08.479107Z"
    },
    "papermill": {
     "duration": 0.031596,
     "end_time": "2022-10-21T00:48:08.479563",
     "exception": false,
     "start_time": "2022-10-21T00:48:08.447967",
     "status": "completed"
    },
    "tags": []
   },
   "outputs": [
    {
     "data": {
      "text/plain": [
       "((11982, 784), (1984, 784))"
      ]
     },
     "execution_count": 14,
     "metadata": {},
     "output_type": "execute_result"
    }
   ],
   "source": [
    "X_train = X_train.reshape(X_train.shape[0], -1)\n",
    "X_test = X_test.reshape(X_test.shape[0], -1)\n",
    "X_train.shape, X_test.shape"
   ]
  },
  {
   "cell_type": "code",
   "execution_count": 15,
   "id": "73c5f88a",
   "metadata": {
    "execution": {
     "iopub.execute_input": "2022-10-21T00:48:08.520895Z",
     "iopub.status.busy": "2022-10-21T00:48:08.520500Z",
     "iopub.status.idle": "2022-10-21T00:48:08.533574Z",
     "shell.execute_reply": "2022-10-21T00:48:08.533251Z"
    },
    "papermill": {
     "duration": 0.034935,
     "end_time": "2022-10-21T00:48:08.533644",
     "exception": false,
     "start_time": "2022-10-21T00:48:08.498709",
     "status": "completed"
    },
    "tags": []
   },
   "outputs": [],
   "source": [
    "#Impoting functions from 'Kudzu'\n",
    "from kudzu.model import Model\n",
    "from kudzu.train import Learner\n",
    "from kudzu.optim import GD\n",
    "from kudzu.data import Data, Sampler,Dataloader\n",
    "\n",
    "from kudzu.callbacks import AccCallback\n",
    "from kudzu.callbacks import ClfCallback\n",
    "\n",
    "from kudzu.loss import MSE\n",
    "\n",
    "from kudzu.layer import Sigmoid,Relu\n",
    "from kudzu.layer import Affine"
   ]
  },
  {
   "cell_type": "markdown",
   "id": "bc01172a",
   "metadata": {
    "papermill": {
     "duration": 0.01914,
     "end_time": "2022-10-21T00:48:08.571975",
     "exception": false,
     "start_time": "2022-10-21T00:48:08.552835",
     "status": "completed"
    },
    "tags": []
   },
   "source": [
    "### Let us create a `Config` class, to store important parameters. \n",
    "This class essentially plays the role of a dictionary."
   ]
  },
  {
   "cell_type": "code",
   "execution_count": 16,
   "id": "978281aa",
   "metadata": {
    "execution": {
     "iopub.execute_input": "2022-10-21T00:48:08.613580Z",
     "iopub.status.busy": "2022-10-21T00:48:08.613190Z",
     "iopub.status.idle": "2022-10-21T00:48:08.622101Z",
     "shell.execute_reply": "2022-10-21T00:48:08.621709Z"
    },
    "papermill": {
     "duration": 0.03099,
     "end_time": "2022-10-21T00:48:08.622178",
     "exception": false,
     "start_time": "2022-10-21T00:48:08.591188",
     "status": "completed"
    },
    "tags": []
   },
   "outputs": [],
   "source": [
    "class Config:\n",
    "    pass\n",
    "config = Config()\n",
    "config.lr = 0.001\n",
    "config.num_epochs = 250\n",
    "config.bs = 50"
   ]
  },
  {
   "cell_type": "markdown",
   "id": "1385fa59",
   "metadata": {
    "papermill": {
     "duration": 0.019342,
     "end_time": "2022-10-21T00:48:08.660725",
     "exception": false,
     "start_time": "2022-10-21T00:48:08.641383",
     "status": "completed"
    },
    "tags": []
   },
   "source": [
    "### Running Models with the Training data\n",
    "Details about the network layers:\n",
    "- A first affine layer has 784 inputs and does 100 affine transforms. These are followed by a Relu\n",
    "- A second affine layer has 100 inputs from the 100 activations of the past layer, and does 100 affine transforms. These are followed by a Relu\n",
    "- A third affine layer has 100 activations and does 2 affine transformations to create an embedding for visualization. There is no non-linearity here.\n",
    "- A final \"logistic regression\" which has an affine transform from 2 inputs to 1 output, which is squeezed through a sigmoid.\n"
   ]
  },
  {
   "cell_type": "code",
   "execution_count": 17,
   "id": "2b9c66db",
   "metadata": {
    "execution": {
     "iopub.execute_input": "2022-10-21T00:48:08.702427Z",
     "iopub.status.busy": "2022-10-21T00:48:08.702030Z",
     "iopub.status.idle": "2022-10-21T00:48:08.710764Z",
     "shell.execute_reply": "2022-10-21T00:48:08.710391Z"
    },
    "papermill": {
     "duration": 0.030731,
     "end_time": "2022-10-21T00:48:08.710857",
     "exception": false,
     "start_time": "2022-10-21T00:48:08.680126",
     "status": "completed"
    },
    "tags": []
   },
   "outputs": [],
   "source": [
    "data = Data(X_train, y_train.reshape(-1,1))\n",
    "sampler = Sampler(data, config.bs, shuffle=True)\n",
    "\n",
    "dl = Dataloader(data, sampler)\n",
    "\n",
    "opt = GD(config.lr)\n",
    "loss = MSE()"
   ]
  },
  {
   "cell_type": "code",
   "execution_count": 18,
   "id": "b275e4c2",
   "metadata": {
    "execution": {
     "iopub.execute_input": "2022-10-21T00:48:08.751650Z",
     "iopub.status.busy": "2022-10-21T00:48:08.751261Z",
     "iopub.status.idle": "2022-10-21T00:48:08.759659Z",
     "shell.execute_reply": "2022-10-21T00:48:08.759281Z"
    },
    "papermill": {
     "duration": 0.029752,
     "end_time": "2022-10-21T00:48:08.759728",
     "exception": false,
     "start_time": "2022-10-21T00:48:08.729976",
     "status": "completed"
    },
    "tags": []
   },
   "outputs": [],
   "source": [
    "training_data_x = X_train\n",
    "testing_data_x = X_test\n",
    "training_data_y = y_train.reshape(-1,1)\n",
    "testing_data_y = y_test.reshape(-1,1)"
   ]
  },
  {
   "cell_type": "code",
   "execution_count": 19,
   "id": "76951160",
   "metadata": {
    "execution": {
     "iopub.execute_input": "2022-10-21T00:48:08.801028Z",
     "iopub.status.busy": "2022-10-21T00:48:08.800641Z",
     "iopub.status.idle": "2022-10-21T00:48:08.812130Z",
     "shell.execute_reply": "2022-10-21T00:48:08.811741Z"
    },
    "papermill": {
     "duration": 0.033318,
     "end_time": "2022-10-21T00:48:08.812201",
     "exception": false,
     "start_time": "2022-10-21T00:48:08.778883",
     "status": "completed"
    },
    "tags": []
   },
   "outputs": [
    {
     "name": "stdout",
     "output_type": "stream",
     "text": [
      "xavier\n",
      "xavier\n",
      "xavier\n",
      "xavier\n",
      "xavier\n"
     ]
    }
   ],
   "source": [
    "layers = [Affine(\"first\", 784, 100), Relu(\"first\"), Affine(\"second\", 100, 100), Relu(\"second\"), Affine(\"third\", 100, 2), Affine(\"last\", 2, 1), Sigmoid(\"last\")]\n",
    "model_nn = Model(layers)\n",
    "model_lr = Model([Affine(\"logits\", 784, 1), Sigmoid(\"sigmoid\")])"
   ]
  },
  {
   "cell_type": "code",
   "execution_count": 20,
   "id": "6eede77a",
   "metadata": {
    "execution": {
     "iopub.execute_input": "2022-10-21T00:48:08.854100Z",
     "iopub.status.busy": "2022-10-21T00:48:08.853714Z",
     "iopub.status.idle": "2022-10-21T00:48:08.862333Z",
     "shell.execute_reply": "2022-10-21T00:48:08.861936Z"
    },
    "papermill": {
     "duration": 0.030711,
     "end_time": "2022-10-21T00:48:08.862408",
     "exception": false,
     "start_time": "2022-10-21T00:48:08.831697",
     "status": "completed"
    },
    "tags": []
   },
   "outputs": [],
   "source": [
    "nn_learner = Learner(loss, model_nn, opt, config.num_epochs)\n",
    "acc_nn = ClfCallback(nn_learner, config.bs, training_data_x , testing_data_x, training_data_y, testing_data_y)\n",
    "nn_learner.set_callbacks([acc_nn])"
   ]
  },
  {
   "cell_type": "code",
   "execution_count": 21,
   "id": "877b6cc7",
   "metadata": {
    "execution": {
     "iopub.execute_input": "2022-10-21T00:48:08.908074Z",
     "iopub.status.busy": "2022-10-21T00:48:08.907582Z",
     "iopub.status.idle": "2022-10-21T00:48:08.911910Z",
     "shell.execute_reply": "2022-10-21T00:48:08.911538Z"
    },
    "papermill": {
     "duration": 0.030028,
     "end_time": "2022-10-21T00:48:08.911982",
     "exception": false,
     "start_time": "2022-10-21T00:48:08.881954",
     "status": "completed"
    },
    "tags": []
   },
   "outputs": [],
   "source": [
    "lr_learner = Learner(loss, model_lr, opt, config.num_epochs)\n",
    "acc_lr = ClfCallback(lr_learner, config.bs, training_data_x , testing_data_x, training_data_y, testing_data_y)\n",
    "lr_learner.set_callbacks([acc_lr])"
   ]
  },
  {
   "cell_type": "code",
   "execution_count": 22,
   "id": "d9b133c3",
   "metadata": {
    "execution": {
     "iopub.execute_input": "2022-10-21T00:48:08.953564Z",
     "iopub.status.busy": "2022-10-21T00:48:08.953161Z",
     "iopub.status.idle": "2022-10-21T00:50:19.998183Z",
     "shell.execute_reply": "2022-10-21T00:50:19.998778Z"
    },
    "papermill": {
     "duration": 131.067477,
     "end_time": "2022-10-21T00:50:19.998896",
     "exception": false,
     "start_time": "2022-10-21T00:48:08.931419",
     "status": "completed"
    },
    "tags": []
   },
   "outputs": [
    {
     "name": "stdout",
     "output_type": "stream",
     "text": [
      "Epoch 0, Loss 0.2306\n",
      "Training Accuracy: 0.7120, Testing Accuracy: 0.7243\n",
      "\n"
     ]
    },
    {
     "name": "stdout",
     "output_type": "stream",
     "text": [
      "Epoch 10, Loss 0.0792\n",
      "Training Accuracy: 0.9203, Testing Accuracy: 0.9360\n",
      "\n"
     ]
    },
    {
     "name": "stdout",
     "output_type": "stream",
     "text": [
      "Epoch 20, Loss 0.0503\n",
      "Training Accuracy: 0.9461, Testing Accuracy: 0.9567\n",
      "\n"
     ]
    },
    {
     "name": "stdout",
     "output_type": "stream",
     "text": [
      "Epoch 30, Loss 0.0398\n",
      "Training Accuracy: 0.9572, Testing Accuracy: 0.9662\n",
      "\n"
     ]
    },
    {
     "name": "stdout",
     "output_type": "stream",
     "text": [
      "Epoch 40, Loss 0.0346\n",
      "Training Accuracy: 0.9618, Testing Accuracy: 0.9708\n",
      "\n"
     ]
    },
    {
     "name": "stdout",
     "output_type": "stream",
     "text": [
      "Epoch 50, Loss 0.0313\n",
      "Training Accuracy: 0.9649, Testing Accuracy: 0.9723\n",
      "\n"
     ]
    },
    {
     "name": "stdout",
     "output_type": "stream",
     "text": [
      "Epoch 60, Loss 0.0291\n",
      "Training Accuracy: 0.9675, Testing Accuracy: 0.9718\n",
      "\n"
     ]
    },
    {
     "name": "stdout",
     "output_type": "stream",
     "text": [
      "Epoch 70, Loss 0.0275\n",
      "Training Accuracy: 0.9695, Testing Accuracy: 0.9733\n",
      "\n"
     ]
    },
    {
     "name": "stdout",
     "output_type": "stream",
     "text": [
      "Epoch 80, Loss 0.0262\n",
      "Training Accuracy: 0.9710, Testing Accuracy: 0.9738\n",
      "\n"
     ]
    },
    {
     "name": "stdout",
     "output_type": "stream",
     "text": [
      "Epoch 90, Loss 0.0252\n",
      "Training Accuracy: 0.9719, Testing Accuracy: 0.9738\n",
      "\n"
     ]
    },
    {
     "name": "stdout",
     "output_type": "stream",
     "text": [
      "Epoch 100, Loss 0.0243\n",
      "Training Accuracy: 0.9731, Testing Accuracy: 0.9753\n",
      "\n"
     ]
    },
    {
     "name": "stdout",
     "output_type": "stream",
     "text": [
      "Epoch 110, Loss 0.0235\n",
      "Training Accuracy: 0.9735, Testing Accuracy: 0.9758\n",
      "\n"
     ]
    },
    {
     "name": "stdout",
     "output_type": "stream",
     "text": [
      "Epoch 120, Loss 0.0228\n",
      "Training Accuracy: 0.9743, Testing Accuracy: 0.9758\n",
      "\n"
     ]
    },
    {
     "name": "stdout",
     "output_type": "stream",
     "text": [
      "Epoch 130, Loss 0.0222\n",
      "Training Accuracy: 0.9750, Testing Accuracy: 0.9758\n",
      "\n"
     ]
    },
    {
     "name": "stdout",
     "output_type": "stream",
     "text": [
      "Epoch 140, Loss 0.0216\n",
      "Training Accuracy: 0.9755, Testing Accuracy: 0.9753\n",
      "\n"
     ]
    },
    {
     "name": "stdout",
     "output_type": "stream",
     "text": [
      "Epoch 150, Loss 0.0211\n",
      "Training Accuracy: 0.9760, Testing Accuracy: 0.9753\n",
      "\n"
     ]
    },
    {
     "name": "stdout",
     "output_type": "stream",
     "text": [
      "Epoch 160, Loss 0.0206\n",
      "Training Accuracy: 0.9769, Testing Accuracy: 0.9753\n",
      "\n"
     ]
    },
    {
     "name": "stdout",
     "output_type": "stream",
     "text": [
      "Epoch 170, Loss 0.0201\n",
      "Training Accuracy: 0.9773, Testing Accuracy: 0.9753\n",
      "\n"
     ]
    },
    {
     "name": "stdout",
     "output_type": "stream",
     "text": [
      "Epoch 180, Loss 0.0197\n",
      "Training Accuracy: 0.9781, Testing Accuracy: 0.9753\n",
      "\n"
     ]
    },
    {
     "name": "stdout",
     "output_type": "stream",
     "text": [
      "Epoch 190, Loss 0.0193\n",
      "Training Accuracy: 0.9786, Testing Accuracy: 0.9753\n",
      "\n"
     ]
    },
    {
     "name": "stdout",
     "output_type": "stream",
     "text": [
      "Epoch 200, Loss 0.0189\n",
      "Training Accuracy: 0.9790, Testing Accuracy: 0.9773\n",
      "\n"
     ]
    },
    {
     "name": "stdout",
     "output_type": "stream",
     "text": [
      "Epoch 210, Loss 0.0185\n",
      "Training Accuracy: 0.9794, Testing Accuracy: 0.9773\n",
      "\n"
     ]
    },
    {
     "name": "stdout",
     "output_type": "stream",
     "text": [
      "Epoch 220, Loss 0.0181\n",
      "Training Accuracy: 0.9800, Testing Accuracy: 0.9773\n",
      "\n"
     ]
    },
    {
     "name": "stdout",
     "output_type": "stream",
     "text": [
      "Epoch 230, Loss 0.0177\n",
      "Training Accuracy: 0.9802, Testing Accuracy: 0.9773\n",
      "\n"
     ]
    },
    {
     "name": "stdout",
     "output_type": "stream",
     "text": [
      "Epoch 240, Loss 0.0174\n",
      "Training Accuracy: 0.9803, Testing Accuracy: 0.9773\n",
      "\n"
     ]
    },
    {
     "data": {
      "text/plain": [
       "0.003549421871040358"
      ]
     },
     "execution_count": 22,
     "metadata": {},
     "output_type": "execute_result"
    }
   ],
   "source": [
    "nn_learner.train_loop(dl)"
   ]
  },
  {
   "cell_type": "code",
   "execution_count": 23,
   "id": "e0163366",
   "metadata": {
    "execution": {
     "iopub.execute_input": "2022-10-21T00:50:20.057587Z",
     "iopub.status.busy": "2022-10-21T00:50:20.057186Z",
     "iopub.status.idle": "2022-10-21T00:50:29.505629Z",
     "shell.execute_reply": "2022-10-21T00:50:29.506011Z"
    },
    "papermill": {
     "duration": 9.482077,
     "end_time": "2022-10-21T00:50:29.506106",
     "exception": false,
     "start_time": "2022-10-21T00:50:20.024029",
     "status": "completed"
    },
    "tags": []
   },
   "outputs": [
    {
     "name": "stdout",
     "output_type": "stream",
     "text": [
      "Epoch 0, Loss 0.2788\n",
      "Training Accuracy: 0.5225, Testing Accuracy: 0.5277\n",
      "\n"
     ]
    },
    {
     "name": "stdout",
     "output_type": "stream",
     "text": [
      "Epoch 10, Loss 0.1082\n",
      "Training Accuracy: 0.9028, Testing Accuracy: 0.9148\n",
      "\n"
     ]
    },
    {
     "name": "stdout",
     "output_type": "stream",
     "text": [
      "Epoch 20, Loss 0.0813\n",
      "Training Accuracy: 0.9266, Testing Accuracy: 0.9370\n",
      "\n"
     ]
    },
    {
     "name": "stdout",
     "output_type": "stream",
     "text": [
      "Epoch 30, Loss 0.0693\n",
      "Training Accuracy: 0.9364, Testing Accuracy: 0.9516\n",
      "\n"
     ]
    },
    {
     "name": "stdout",
     "output_type": "stream",
     "text": [
      "Epoch 40, Loss 0.0623\n",
      "Training Accuracy: 0.9417, Testing Accuracy: 0.9556\n",
      "\n"
     ]
    },
    {
     "name": "stdout",
     "output_type": "stream",
     "text": [
      "Epoch 50, Loss 0.0575\n",
      "Training Accuracy: 0.9442, Testing Accuracy: 0.9567\n",
      "\n"
     ]
    },
    {
     "name": "stdout",
     "output_type": "stream",
     "text": [
      "Epoch 60, Loss 0.0541\n",
      "Training Accuracy: 0.9465, Testing Accuracy: 0.9592\n",
      "\n"
     ]
    },
    {
     "name": "stdout",
     "output_type": "stream",
     "text": [
      "Epoch 70, Loss 0.0515\n",
      "Training Accuracy: 0.9482, Testing Accuracy: 0.9597\n",
      "\n"
     ]
    },
    {
     "name": "stdout",
     "output_type": "stream",
     "text": [
      "Epoch 80, Loss 0.0494\n",
      "Training Accuracy: 0.9500, Testing Accuracy: 0.9597\n",
      "\n"
     ]
    },
    {
     "name": "stdout",
     "output_type": "stream",
     "text": [
      "Epoch 90, Loss 0.0477\n",
      "Training Accuracy: 0.9511, Testing Accuracy: 0.9607\n",
      "\n"
     ]
    },
    {
     "name": "stdout",
     "output_type": "stream",
     "text": [
      "Epoch 100, Loss 0.0462\n",
      "Training Accuracy: 0.9525, Testing Accuracy: 0.9607\n",
      "\n"
     ]
    },
    {
     "name": "stdout",
     "output_type": "stream",
     "text": [
      "Epoch 110, Loss 0.045\n",
      "Training Accuracy: 0.9538, Testing Accuracy: 0.9607\n",
      "\n"
     ]
    },
    {
     "name": "stdout",
     "output_type": "stream",
     "text": [
      "Epoch 120, Loss 0.0439\n",
      "Training Accuracy: 0.9546, Testing Accuracy: 0.9627\n",
      "\n"
     ]
    },
    {
     "name": "stdout",
     "output_type": "stream",
     "text": [
      "Epoch 130, Loss 0.043\n",
      "Training Accuracy: 0.9556, Testing Accuracy: 0.9627\n",
      "\n"
     ]
    },
    {
     "name": "stdout",
     "output_type": "stream",
     "text": [
      "Epoch 140, Loss 0.0422\n",
      "Training Accuracy: 0.9557, Testing Accuracy: 0.9632\n",
      "\n"
     ]
    },
    {
     "name": "stdout",
     "output_type": "stream",
     "text": [
      "Epoch 150, Loss 0.0414\n",
      "Training Accuracy: 0.9559, Testing Accuracy: 0.9637\n",
      "\n"
     ]
    },
    {
     "name": "stdout",
     "output_type": "stream",
     "text": [
      "Epoch 160, Loss 0.0407\n",
      "Training Accuracy: 0.9565, Testing Accuracy: 0.9637\n",
      "\n"
     ]
    },
    {
     "name": "stdout",
     "output_type": "stream",
     "text": [
      "Epoch 170, Loss 0.0401\n",
      "Training Accuracy: 0.9570, Testing Accuracy: 0.9637\n",
      "\n"
     ]
    },
    {
     "name": "stdout",
     "output_type": "stream",
     "text": [
      "Epoch 180, Loss 0.0396\n",
      "Training Accuracy: 0.9573, Testing Accuracy: 0.9642\n",
      "\n"
     ]
    },
    {
     "name": "stdout",
     "output_type": "stream",
     "text": [
      "Epoch 190, Loss 0.0391\n",
      "Training Accuracy: 0.9578, Testing Accuracy: 0.9642\n",
      "\n"
     ]
    },
    {
     "name": "stdout",
     "output_type": "stream",
     "text": [
      "Epoch 200, Loss 0.0386\n",
      "Training Accuracy: 0.9587, Testing Accuracy: 0.9642\n",
      "\n"
     ]
    },
    {
     "name": "stdout",
     "output_type": "stream",
     "text": [
      "Epoch 210, Loss 0.0381\n",
      "Training Accuracy: 0.9593, Testing Accuracy: 0.9652\n",
      "\n"
     ]
    },
    {
     "name": "stdout",
     "output_type": "stream",
     "text": [
      "Epoch 220, Loss 0.0377\n",
      "Training Accuracy: 0.9596, Testing Accuracy: 0.9652\n",
      "\n"
     ]
    },
    {
     "name": "stdout",
     "output_type": "stream",
     "text": [
      "Epoch 230, Loss 0.0373\n",
      "Training Accuracy: 0.9598, Testing Accuracy: 0.9657\n",
      "\n"
     ]
    },
    {
     "name": "stdout",
     "output_type": "stream",
     "text": [
      "Epoch 240, Loss 0.037\n",
      "Training Accuracy: 0.9602, Testing Accuracy: 0.9657\n",
      "\n"
     ]
    },
    {
     "data": {
      "text/plain": [
       "0.0395728908205172"
      ]
     },
     "execution_count": 23,
     "metadata": {},
     "output_type": "execute_result"
    }
   ],
   "source": [
    "lr_learner.train_loop(dl)"
   ]
  },
  {
   "cell_type": "code",
   "execution_count": 24,
   "id": "ca410940",
   "metadata": {
    "execution": {
     "iopub.execute_input": "2022-10-21T00:50:29.569127Z",
     "iopub.status.busy": "2022-10-21T00:50:29.568708Z",
     "iopub.status.idle": "2022-10-21T00:50:29.730336Z",
     "shell.execute_reply": "2022-10-21T00:50:29.730886Z"
    },
    "papermill": {
     "duration": 0.194986,
     "end_time": "2022-10-21T00:50:29.730993",
     "exception": false,
     "start_time": "2022-10-21T00:50:29.536007",
     "status": "completed"
    },
    "tags": []
   },
   "outputs": [
    {
     "data": {
      "text/plain": [
       "<matplotlib.legend.Legend at 0x7efe7b81c400>"
      ]
     },
     "execution_count": 24,
     "metadata": {},
     "output_type": "execute_result"
    },
    {
     "data": {
      "image/png": "[encoded data removed]",
      "text/plain": [
       "<Figure size 1080x720 with 1 Axes>"
      ]
     },
     "metadata": {
      "needs_background": "light"
     },
     "output_type": "display_data"
    }
   ],
   "source": [
    "#comparing the results of NN and LR\n",
    "plt.figure(figsize=(15,10))\n",
    "\n",
    "# Neural Network plots\n",
    "plt.plot(acc_nn.accuracies, 'r-', label = \"Training Accuracies - NN\")\n",
    "plt.plot(acc_nn.test_accuracies, 'g-', label = \"Testing Accuracies - NN\")\n",
    "\n",
    "# Logistic Regression plots\n",
    "plt.plot(acc_lr.accuracies, 'k-', label = \"Training Accuracies - LR\")\n",
    "plt.plot(acc_lr.test_accuracies, 'b-', label = \"Testing Accuracies - LR\")\n",
    "plt.legend()"
   ]
  },
  {
   "cell_type": "markdown",
   "id": "80dfb35c",
   "metadata": {
    "papermill": {
     "duration": 0.029982,
     "end_time": "2022-10-21T00:50:29.791289",
     "exception": false,
     "start_time": "2022-10-21T00:50:29.761307",
     "status": "completed"
    },
    "tags": []
   },
   "source": [
    "#### Plotting the outputs of this layer of the NN.\n"
   ]
  },
  {
   "cell_type": "code",
   "execution_count": 25,
   "id": "45eb2ff5",
   "metadata": {
    "execution": {
     "iopub.execute_input": "2022-10-21T00:50:29.854439Z",
     "iopub.status.busy": "2022-10-21T00:50:29.854042Z",
     "iopub.status.idle": "2022-10-21T00:50:29.880271Z",
     "shell.execute_reply": "2022-10-21T00:50:29.880742Z"
    },
    "papermill": {
     "duration": 0.059459,
     "end_time": "2022-10-21T00:50:29.880837",
     "exception": false,
     "start_time": "2022-10-21T00:50:29.821378",
     "status": "completed"
    },
    "tags": []
   },
   "outputs": [],
   "source": [
    "new_model = Model(layers[:-2])\n",
    "testing_plot = new_model(testing_data_x)"
   ]
  },
  {
   "cell_type": "code",
   "execution_count": 26,
   "id": "4c0a5485",
   "metadata": {
    "execution": {
     "iopub.execute_input": "2022-10-21T00:50:29.952086Z",
     "iopub.status.busy": "2022-10-21T00:50:29.951679Z",
     "iopub.status.idle": "2022-10-21T00:50:30.083203Z",
     "shell.execute_reply": "2022-10-21T00:50:30.082669Z"
    },
    "papermill": {
     "duration": 0.172297,
     "end_time": "2022-10-21T00:50:30.083289",
     "exception": false,
     "start_time": "2022-10-21T00:50:29.910992",
     "status": "completed"
    },
    "tags": []
   },
   "outputs": [
    {
     "data": {
      "text/plain": [
       "Text(0.5, 1.0, 'Outputs')"
      ]
     },
     "execution_count": 26,
     "metadata": {},
     "output_type": "execute_result"
    },
    {
     "data": {
      "image/png": "[encoded data removed]",
      "text/plain": [
       "<Figure size 576x504 with 1 Axes>"
      ]
     },
     "metadata": {
      "needs_background": "light"
     },
     "output_type": "display_data"
    }
   ],
   "source": [
    "# Plotting the scatter plot of points and color coding by class\n",
    "plt.figure(figsize=(8,7))\n",
    "plt.scatter(testing_plot[:,0], testing_plot[:,1], alpha = 0.1, c = y_test.ravel());\n",
    "plt.title('Outputs')"
   ]
  },
  {
   "cell_type": "markdown",
   "id": "a74fcf8f",
   "metadata": {
    "papermill": {
     "duration": 0.03201,
     "end_time": "2022-10-21T00:50:30.147378",
     "exception": false,
     "start_time": "2022-10-21T00:50:30.115368",
     "status": "completed"
    },
    "tags": []
   },
   "source": [
    "Probability contours"
   ]
  },
  {
   "cell_type": "code",
   "execution_count": 27,
   "id": "d0afc8e3",
   "metadata": {
    "execution": {
     "iopub.execute_input": "2022-10-21T00:50:30.215708Z",
     "iopub.status.busy": "2022-10-21T00:50:30.215317Z",
     "iopub.status.idle": "2022-10-21T00:50:30.221665Z",
     "shell.execute_reply": "2022-10-21T00:50:30.221975Z"
    },
    "papermill": {
     "duration": 0.042905,
     "end_time": "2022-10-21T00:50:30.222062",
     "exception": false,
     "start_time": "2022-10-21T00:50:30.179157",
     "status": "completed"
    },
    "tags": []
   },
   "outputs": [],
   "source": [
    "model_prob = Model(layers[-2:]) "
   ]
  },
  {
   "cell_type": "code",
   "execution_count": 28,
   "id": "9b96e238",
   "metadata": {
    "execution": {
     "iopub.execute_input": "2022-10-21T00:50:30.306608Z",
     "iopub.status.busy": "2022-10-21T00:50:30.306126Z",
     "iopub.status.idle": "2022-10-21T00:50:30.317136Z",
     "shell.execute_reply": "2022-10-21T00:50:30.317423Z"
    },
    "papermill": {
     "duration": 0.046583,
     "end_time": "2022-10-21T00:50:30.317513",
     "exception": false,
     "start_time": "2022-10-21T00:50:30.270930",
     "status": "completed"
    },
    "tags": []
   },
   "outputs": [],
   "source": [
    "#creating the x and y ranges according to the above generated plot.\n",
    "x_range = np.linspace(-4, 1, 100) \n",
    "y_range = np.linspace(-6, 6, 100) \n",
    "x_grid, y_grid = np.meshgrid(x_range, y_range) # x_grid and y_grig are of size 100 X 100\n",
    "\n",
    "# converting x_grid and y_grid to continuous arrays\n",
    "x_gridflat = np.ravel(x_grid)\n",
    "y_gridflat = np.ravel(y_grid)\n",
    "\n",
    "# The last layer of the current model takes two columns as input. Hence transpose of np.vstack() is required.\n",
    "X = np.vstack((x_gridflat, y_gridflat)).T\n",
    "\n",
    "prob_contour = model_prob(X).reshape(100,100) "
   ]
  },
  {
   "cell_type": "code",
   "execution_count": 29,
   "id": "da72499a",
   "metadata": {
    "execution": {
     "iopub.execute_input": "2022-10-21T00:50:30.392137Z",
     "iopub.status.busy": "2022-10-21T00:50:30.391738Z",
     "iopub.status.idle": "2022-10-21T00:50:30.556743Z",
     "shell.execute_reply": "2022-10-21T00:50:30.556403Z"
    },
    "papermill": {
     "duration": 0.207639,
     "end_time": "2022-10-21T00:50:30.556824",
     "exception": false,
     "start_time": "2022-10-21T00:50:30.349185",
     "status": "completed"
    },
    "tags": []
   },
   "outputs": [
    {
     "data": {
      "image/png": "[encoded data removed]",
      "text/plain": [
       "<Figure size 720x648 with 1 Axes>"
      ]
     },
     "metadata": {
      "needs_background": "light"
     },
     "output_type": "display_data"
    }
   ],
   "source": [
    "plt.figure(figsize=(10,9))\n",
    "plt.scatter(testing_plot[:,0], testing_plot[:,1], alpha = 0.1, c = y_test.ravel())\n",
    "contours = plt.contour(x_grid,y_grid,prob_contour)\n",
    "plt.title('Probability Contours')\n",
    "plt.clabel(contours, inline = True );"
   ]
  },
  {
   "cell_type": "code",
   "execution_count": null,
   "id": "e81b4ac7",
   "metadata": {
    "papermill": {
     "duration": 0.033669,
     "end_time": "2022-10-21T00:50:30.624343",
     "exception": false,
     "start_time": "2022-10-21T00:50:30.590674",
     "status": "completed"
    },
    "tags": []
   },
   "outputs": [],
   "source": []
  }
 ],
 "metadata": {
  "kernelspec": {
   "display_name": "Python 3",
   "language": "python",
   "name": "python3"
  },
  "language_info": {
   "codemirror_mode": {
    "name": "ipython",
    "version": 3
   },
   "file_extension": ".py",
   "mimetype": "text/x-python",
   "name": "python",
   "nbconvert_exporter": "python",
   "pygments_lexer": "ipython3",
   "version": "3.6.15"
  },
  "papermill": {
   "default_parameters": {},
   "duration": 147.520053,
   "end_time": "2022-10-21T00:50:30.974752",
   "environment_variables": {},
   "exception": null,
   "input_path": "2020-08-11-part2.ipynb",
   "output_path": "2020-08-11-part2.ipynb",
   "parameters": {},
   "start_time": "2022-10-21T00:48:03.454699",
   "version": "2.3.3"
  }
 },
 "nbformat": 4,
 "nbformat_minor": 5
}