{
 "cells": [
  {
   "cell_type": "markdown",
   "id": "98380cd3",
   "metadata": {
    "papermill": {
     "duration": 0.034784,
     "end_time": "2021-11-29T00:23:17.481245",
     "exception": false,
     "start_time": "2021-11-29T00:23:17.446461",
     "status": "completed"
    },
    "tags": []
   },
   "source": [
    "# Distinguish Your Own Digits (DYOD)"
   ]
  },
  {
   "cell_type": "markdown",
   "id": "ef31240d",
   "metadata": {
    "papermill": {
     "duration": 0.026583,
     "end_time": "2021-11-29T00:23:17.535420",
     "exception": false,
     "start_time": "2021-11-29T00:23:17.508837",
     "status": "completed"
    },
    "tags": []
   },
   "source": [
    "You are going to write a classifier that distinguishes between the number 3 and number 8."
   ]
  },
  {
   "cell_type": "code",
   "execution_count": 1,
   "id": "b15c8646",
   "metadata": {
    "execution": {
     "iopub.execute_input": "2021-11-29T00:23:17.604816Z",
     "iopub.status.busy": "2021-11-29T00:23:17.604113Z",
     "iopub.status.idle": "2021-11-29T00:23:17.617521Z",
     "shell.execute_reply": "2021-11-29T00:23:17.616953Z"
    },
    "papermill": {
     "duration": 0.055691,
     "end_time": "2021-11-29T00:23:17.617686",
     "exception": false,
     "start_time": "2021-11-29T00:23:17.561995",
     "status": "completed"
    },
    "tags": []
   },
   "outputs": [],
   "source": [
    "%load_ext autoreload\n",
    "%autoreload 2"
   ]
  },
  {
   "cell_type": "code",
   "execution_count": 2,
   "id": "22ef38dc",
   "metadata": {
    "execution": {
     "iopub.execute_input": "2021-11-29T00:23:17.677146Z",
     "iopub.status.busy": "2021-11-29T00:23:17.676462Z",
     "iopub.status.idle": "2021-11-29T00:23:18.380317Z",
     "shell.execute_reply": "2021-11-29T00:23:18.379446Z"
    },
    "papermill": {
     "duration": 0.73571,
     "end_time": "2021-11-29T00:23:18.380539",
     "exception": false,
     "start_time": "2021-11-29T00:23:17.644829",
     "status": "completed"
    },
    "tags": []
   },
   "outputs": [],
   "source": [
    "%matplotlib inline\n",
    "import numpy as np\n",
    "import matplotlib.pyplot as plt\n",
    "import pandas as pd"
   ]
  },
  {
   "cell_type": "markdown",
   "id": "ba036198",
   "metadata": {
    "papermill": {
     "duration": 0.028766,
     "end_time": "2021-11-29T00:23:18.438315",
     "exception": false,
     "start_time": "2021-11-29T00:23:18.409549",
     "status": "completed"
    },
    "tags": []
   },
   "source": [
    "From the command line run `pip install mnist`. This is a library that will help you bring down the mnist dataset. If you run this from a notebook, you need to put  `!pip install mnist` in a cell by itself."
   ]
  },
  {
   "cell_type": "code",
   "execution_count": 3,
   "id": "bb6ad8a1",
   "metadata": {
    "execution": {
     "iopub.execute_input": "2021-11-29T00:23:18.502619Z",
     "iopub.status.busy": "2021-11-29T00:23:18.501909Z",
     "iopub.status.idle": "2021-11-29T00:23:20.489247Z",
     "shell.execute_reply": "2021-11-29T00:23:20.488306Z"
    },
    "papermill": {
     "duration": 2.023494,
     "end_time": "2021-11-29T00:23:20.489477",
     "exception": false,
     "start_time": "2021-11-29T00:23:18.465983",
     "status": "completed"
    },
    "tags": []
   },
   "outputs": [
    {
     "name": "stdout",
     "output_type": "stream",
     "text": [
      "Collecting mnist\r\n"
     ]
    },
    {
     "name": "stdout",
     "output_type": "stream",
     "text": [
      "  Downloading mnist-0.2.2-py2.py3-none-any.whl (3.5 kB)\r\n",
      "Requirement already satisfied: numpy in /opt/hostedtoolcache/Python/3.6.15/x64/lib/python3.6/site-packages (from mnist) (1.19.5)\r\n"
     ]
    },
    {
     "name": "stdout",
     "output_type": "stream",
     "text": [
      "Installing collected packages: mnist\r\n",
      "Successfully installed mnist-0.2.2\r\n"
     ]
    }
   ],
   "source": [
    "!pip install mnist"
   ]
  },
  {
   "cell_type": "markdown",
   "id": "69df9c9a",
   "metadata": {
    "papermill": {
     "duration": 0.028227,
     "end_time": "2021-11-29T00:23:20.547371",
     "exception": false,
     "start_time": "2021-11-29T00:23:20.519144",
     "status": "completed"
    },
    "tags": []
   },
   "source": [
    "## Preparing the Data"
   ]
  },
  {
   "cell_type": "code",
   "execution_count": 4,
   "id": "7f69d806",
   "metadata": {
    "execution": {
     "iopub.execute_input": "2021-11-29T00:23:20.609100Z",
     "iopub.status.busy": "2021-11-29T00:23:20.607932Z",
     "iopub.status.idle": "2021-11-29T00:23:20.627289Z",
     "shell.execute_reply": "2021-11-29T00:23:20.626782Z"
    },
    "papermill": {
     "duration": 0.05202,
     "end_time": "2021-11-29T00:23:20.627428",
     "exception": false,
     "start_time": "2021-11-29T00:23:20.575408",
     "status": "completed"
    },
    "tags": []
   },
   "outputs": [],
   "source": [
    "import mnist"
   ]
  },
  {
   "cell_type": "code",
   "execution_count": 5,
   "id": "a411e44f",
   "metadata": {
    "execution": {
     "iopub.execute_input": "2021-11-29T00:23:20.688109Z",
     "iopub.status.busy": "2021-11-29T00:23:20.687501Z",
     "iopub.status.idle": "2021-11-29T00:23:21.312633Z",
     "shell.execute_reply": "2021-11-29T00:23:21.312067Z"
    },
    "papermill": {
     "duration": 0.657609,
     "end_time": "2021-11-29T00:23:21.312770",
     "exception": false,
     "start_time": "2021-11-29T00:23:20.655161",
     "status": "completed"
    },
    "tags": []
   },
   "outputs": [],
   "source": [
    "train_images = mnist.train_images()\n",
    "train_labels = mnist.train_labels()"
   ]
  },
  {
   "cell_type": "code",
   "execution_count": 6,
   "id": "dceab3a5",
   "metadata": {
    "execution": {
     "iopub.execute_input": "2021-11-29T00:23:21.377902Z",
     "iopub.status.busy": "2021-11-29T00:23:21.373502Z",
     "iopub.status.idle": "2021-11-29T00:23:21.391119Z",
     "shell.execute_reply": "2021-11-29T00:23:21.391598Z"
    },
    "papermill": {
     "duration": 0.050654,
     "end_time": "2021-11-29T00:23:21.391747",
     "exception": false,
     "start_time": "2021-11-29T00:23:21.341093",
     "status": "completed"
    },
    "tags": []
   },
   "outputs": [
    {
     "data": {
      "text/plain": [
       "((60000, 28, 28), (60000,))"
      ]
     },
     "execution_count": 6,
     "metadata": {},
     "output_type": "execute_result"
    }
   ],
   "source": [
    "train_images.shape, train_labels.shape"
   ]
  },
  {
   "cell_type": "code",
   "execution_count": 7,
   "id": "f50dc2bb",
   "metadata": {
    "execution": {
     "iopub.execute_input": "2021-11-29T00:23:21.459063Z",
     "iopub.status.busy": "2021-11-29T00:23:21.458442Z",
     "iopub.status.idle": "2021-11-29T00:23:21.686892Z",
     "shell.execute_reply": "2021-11-29T00:23:21.686006Z"
    },
    "papermill": {
     "duration": 0.263494,
     "end_time": "2021-11-29T00:23:21.687114",
     "exception": false,
     "start_time": "2021-11-29T00:23:21.423620",
     "status": "completed"
    },
    "tags": []
   },
   "outputs": [],
   "source": [
    "test_images = mnist.test_images()\n",
    "test_labels = mnist.test_labels()"
   ]
  },
  {
   "cell_type": "code",
   "execution_count": 8,
   "id": "fc38cf1b",
   "metadata": {
    "execution": {
     "iopub.execute_input": "2021-11-29T00:23:21.748999Z",
     "iopub.status.busy": "2021-11-29T00:23:21.748367Z",
     "iopub.status.idle": "2021-11-29T00:23:21.763198Z",
     "shell.execute_reply": "2021-11-29T00:23:21.762687Z"
    },
    "papermill": {
     "duration": 0.047366,
     "end_time": "2021-11-29T00:23:21.763330",
     "exception": false,
     "start_time": "2021-11-29T00:23:21.715964",
     "status": "completed"
    },
    "tags": []
   },
   "outputs": [
    {
     "data": {
      "text/plain": [
       "((10000, 28, 28), (10000,))"
      ]
     },
     "execution_count": 8,
     "metadata": {},
     "output_type": "execute_result"
    }
   ],
   "source": [
    "test_images.shape, test_labels.shape"
   ]
  },
  {
   "cell_type": "code",
   "execution_count": 9,
   "id": "f9ed8fe0",
   "metadata": {
    "execution": {
     "iopub.execute_input": "2021-11-29T00:23:21.831430Z",
     "iopub.status.busy": "2021-11-29T00:23:21.830813Z",
     "iopub.status.idle": "2021-11-29T00:23:22.003546Z",
     "shell.execute_reply": "2021-11-29T00:23:22.004021Z"
    },
    "papermill": {
     "duration": 0.21204,
     "end_time": "2021-11-29T00:23:22.004185",
     "exception": false,
     "start_time": "2021-11-29T00:23:21.792145",
     "status": "completed"
    },
    "tags": []
   },
   "outputs": [
    {
     "name": "stdout",
     "output_type": "stream",
     "text": [
      "2\n"
     ]
    },
    {
     "data": {
      "text/plain": [
       "<matplotlib.image.AxesImage at 0x7f381a8844e0>"
      ]
     },
     "execution_count": 9,
     "metadata": {},
     "output_type": "execute_result"
    },
    {
     "data": {
      "image/png": "[encoded data removed]",
      "text/plain": [
       "<Figure size 432x288 with 1 Axes>"
      ]
     },
     "metadata": {
      "needs_background": "light"
     },
     "output_type": "display_data"
    }
   ],
   "source": [
    "image_index = 7776 # You may select anything up to 60,000\n",
    "print(train_labels[image_index]) \n",
    "plt.imshow(train_images[image_index], cmap='Greys')"
   ]
  },
  {
   "cell_type": "markdown",
   "id": "a8d2388d",
   "metadata": {
    "papermill": {
     "duration": 0.029845,
     "end_time": "2021-11-29T00:23:22.064113",
     "exception": false,
     "start_time": "2021-11-29T00:23:22.034268",
     "status": "completed"
    },
    "tags": []
   },
   "source": [
    "## Filter data to get 3 and 8 out"
   ]
  },
  {
   "cell_type": "code",
   "execution_count": 10,
   "id": "776f7fc7",
   "metadata": {
    "execution": {
     "iopub.execute_input": "2021-11-29T00:23:22.133075Z",
     "iopub.status.busy": "2021-11-29T00:23:22.132369Z",
     "iopub.status.idle": "2021-11-29T00:23:22.154497Z",
     "shell.execute_reply": "2021-11-29T00:23:22.153965Z"
    },
    "papermill": {
     "duration": 0.060122,
     "end_time": "2021-11-29T00:23:22.154628",
     "exception": false,
     "start_time": "2021-11-29T00:23:22.094506",
     "status": "completed"
    },
    "tags": []
   },
   "outputs": [],
   "source": [
    "train_filter = np.where((train_labels == 3 ) | (train_labels == 8))\n",
    "test_filter = np.where((test_labels == 3) | (test_labels == 8))\n",
    "X_train, y_train = train_images[train_filter], train_labels[train_filter]\n",
    "X_test, y_test = test_images[test_filter], test_labels[test_filter]"
   ]
  },
  {
   "cell_type": "markdown",
   "id": "948f0b7e",
   "metadata": {
    "papermill": {
     "duration": 0.029825,
     "end_time": "2021-11-29T00:23:22.214555",
     "exception": false,
     "start_time": "2021-11-29T00:23:22.184730",
     "status": "completed"
    },
    "tags": []
   },
   "source": [
    "We normalize the pizel values in the 0 to 1 range"
   ]
  },
  {
   "cell_type": "code",
   "execution_count": 11,
   "id": "ee4c2166",
   "metadata": {
    "execution": {
     "iopub.execute_input": "2021-11-29T00:23:22.281918Z",
     "iopub.status.busy": "2021-11-29T00:23:22.281308Z",
     "iopub.status.idle": "2021-11-29T00:23:22.340513Z",
     "shell.execute_reply": "2021-11-29T00:23:22.339631Z"
    },
    "papermill": {
     "duration": 0.096092,
     "end_time": "2021-11-29T00:23:22.340758",
     "exception": false,
     "start_time": "2021-11-29T00:23:22.244666",
     "status": "completed"
    },
    "tags": []
   },
   "outputs": [],
   "source": [
    "X_train = X_train/255.\n",
    "X_test = X_test/255."
   ]
  },
  {
   "cell_type": "markdown",
   "id": "ddcf4fab",
   "metadata": {
    "papermill": {
     "duration": 0.029996,
     "end_time": "2021-11-29T00:23:22.403391",
     "exception": false,
     "start_time": "2021-11-29T00:23:22.373395",
     "status": "completed"
    },
    "tags": []
   },
   "source": [
    "And setup the labels as 1 (when the digit is 3) and 0 (when the digit is 8)"
   ]
  },
  {
   "cell_type": "code",
   "execution_count": 12,
   "id": "7dc908f2",
   "metadata": {
    "execution": {
     "iopub.execute_input": "2021-11-29T00:23:22.469978Z",
     "iopub.status.busy": "2021-11-29T00:23:22.469356Z",
     "iopub.status.idle": "2021-11-29T00:23:22.482901Z",
     "shell.execute_reply": "2021-11-29T00:23:22.482403Z"
    },
    "papermill": {
     "duration": 0.04959,
     "end_time": "2021-11-29T00:23:22.483039",
     "exception": false,
     "start_time": "2021-11-29T00:23:22.433449",
     "status": "completed"
    },
    "tags": []
   },
   "outputs": [],
   "source": [
    "y_train = 1*(y_train==3)\n",
    "y_test = 1*(y_test==3)"
   ]
  },
  {
   "cell_type": "code",
   "execution_count": 13,
   "id": "01e4e969",
   "metadata": {
    "execution": {
     "iopub.execute_input": "2021-11-29T00:23:22.548876Z",
     "iopub.status.busy": "2021-11-29T00:23:22.548218Z",
     "iopub.status.idle": "2021-11-29T00:23:22.564929Z",
     "shell.execute_reply": "2021-11-29T00:23:22.564384Z"
    },
    "papermill": {
     "duration": 0.051466,
     "end_time": "2021-11-29T00:23:22.565065",
     "exception": false,
     "start_time": "2021-11-29T00:23:22.513599",
     "status": "completed"
    },
    "tags": []
   },
   "outputs": [
    {
     "data": {
      "text/plain": [
       "((11982, 28, 28), (1984, 28, 28))"
      ]
     },
     "execution_count": 13,
     "metadata": {},
     "output_type": "execute_result"
    }
   ],
   "source": [
    "X_train.shape, X_test.shape"
   ]
  },
  {
   "cell_type": "markdown",
   "id": "5ccf3f85",
   "metadata": {
    "papermill": {
     "duration": 0.030356,
     "end_time": "2021-11-29T00:23:22.625384",
     "exception": false,
     "start_time": "2021-11-29T00:23:22.595028",
     "status": "completed"
    },
    "tags": []
   },
   "source": [
    "We reshape the data to flatten the image pixels into a set of features or co-variates:"
   ]
  },
  {
   "cell_type": "code",
   "execution_count": 14,
   "id": "5286a4a3",
   "metadata": {
    "execution": {
     "iopub.execute_input": "2021-11-29T00:23:22.691614Z",
     "iopub.status.busy": "2021-11-29T00:23:22.691011Z",
     "iopub.status.idle": "2021-11-29T00:23:22.706475Z",
     "shell.execute_reply": "2021-11-29T00:23:22.705994Z"
    },
    "papermill": {
     "duration": 0.050871,
     "end_time": "2021-11-29T00:23:22.706609",
     "exception": false,
     "start_time": "2021-11-29T00:23:22.655738",
     "status": "completed"
    },
    "tags": []
   },
   "outputs": [
    {
     "data": {
      "text/plain": [
       "((11982, 784), (1984, 784))"
      ]
     },
     "execution_count": 14,
     "metadata": {},
     "output_type": "execute_result"
    }
   ],
   "source": [
    "X_train = X_train.reshape(X_train.shape[0], -1)\n",
    "X_test = X_test.reshape(X_test.shape[0], -1)\n",
    "X_train.shape, X_test.shape"
   ]
  },
  {
   "cell_type": "code",
   "execution_count": 15,
   "id": "73c5f88a",
   "metadata": {
    "execution": {
     "iopub.execute_input": "2021-11-29T00:23:22.772923Z",
     "iopub.status.busy": "2021-11-29T00:23:22.772279Z",
     "iopub.status.idle": "2021-11-29T00:23:22.795722Z",
     "shell.execute_reply": "2021-11-29T00:23:22.795109Z"
    },
    "papermill": {
     "duration": 0.058674,
     "end_time": "2021-11-29T00:23:22.795856",
     "exception": false,
     "start_time": "2021-11-29T00:23:22.737182",
     "status": "completed"
    },
    "tags": []
   },
   "outputs": [],
   "source": [
    "#Impoting functions from 'Kudzu'\n",
    "from kudzu.model import Model\n",
    "from kudzu.train import Learner\n",
    "from kudzu.optim import GD\n",
    "from kudzu.data import Data, Sampler,Dataloader\n",
    "\n",
    "from kudzu.callbacks import AccCallback\n",
    "from kudzu.callbacks import ClfCallback\n",
    "\n",
    "from kudzu.loss import MSE\n",
    "\n",
    "from kudzu.layer import Sigmoid,Relu\n",
    "from kudzu.layer import Affine"
   ]
  },
  {
   "cell_type": "markdown",
   "id": "bc01172a",
   "metadata": {
    "papermill": {
     "duration": 0.030283,
     "end_time": "2021-11-29T00:23:22.856808",
     "exception": false,
     "start_time": "2021-11-29T00:23:22.826525",
     "status": "completed"
    },
    "tags": []
   },
   "source": [
    "### Let us create a `Config` class, to store important parameters. \n",
    "This class essentially plays the role of a dictionary."
   ]
  },
  {
   "cell_type": "code",
   "execution_count": 16,
   "id": "978281aa",
   "metadata": {
    "execution": {
     "iopub.execute_input": "2021-11-29T00:23:22.920784Z",
     "iopub.status.busy": "2021-11-29T00:23:22.920055Z",
     "iopub.status.idle": "2021-11-29T00:23:22.933732Z",
     "shell.execute_reply": "2021-11-29T00:23:22.934307Z"
    },
    "papermill": {
     "duration": 0.048049,
     "end_time": "2021-11-29T00:23:22.934460",
     "exception": false,
     "start_time": "2021-11-29T00:23:22.886411",
     "status": "completed"
    },
    "tags": []
   },
   "outputs": [],
   "source": [
    "class Config:\n",
    "    pass\n",
    "config = Config()\n",
    "config.lr = 0.001\n",
    "config.num_epochs = 250\n",
    "config.bs = 50"
   ]
  },
  {
   "cell_type": "markdown",
   "id": "1385fa59",
   "metadata": {
    "papermill": {
     "duration": 0.03044,
     "end_time": "2021-11-29T00:23:22.995375",
     "exception": false,
     "start_time": "2021-11-29T00:23:22.964935",
     "status": "completed"
    },
    "tags": []
   },
   "source": [
    "### Running Models with the Training data\n",
    "Details about the network layers:\n",
    "- A first affine layer has 784 inputs and does 100 affine transforms. These are followed by a Relu\n",
    "- A second affine layer has 100 inputs from the 100 activations of the past layer, and does 100 affine transforms. These are followed by a Relu\n",
    "- A third affine layer has 100 activations and does 2 affine transformations to create an embedding for visualization. There is no non-linearity here.\n",
    "- A final \"logistic regression\" which has an affine transform from 2 inputs to 1 output, which is squeezed through a sigmoid.\n"
   ]
  },
  {
   "cell_type": "code",
   "execution_count": 17,
   "id": "2b9c66db",
   "metadata": {
    "execution": {
     "iopub.execute_input": "2021-11-29T00:23:23.063099Z",
     "iopub.status.busy": "2021-11-29T00:23:23.062477Z",
     "iopub.status.idle": "2021-11-29T00:23:23.078361Z",
     "shell.execute_reply": "2021-11-29T00:23:23.078843Z"
    },
    "papermill": {
     "duration": 0.053281,
     "end_time": "2021-11-29T00:23:23.078999",
     "exception": false,
     "start_time": "2021-11-29T00:23:23.025718",
     "status": "completed"
    },
    "tags": []
   },
   "outputs": [],
   "source": [
    "data = Data(X_train, y_train.reshape(-1,1))\n",
    "sampler = Sampler(data, config.bs, shuffle=True)\n",
    "\n",
    "dl = Dataloader(data, sampler)\n",
    "\n",
    "opt = GD(config.lr)\n",
    "loss = MSE()"
   ]
  },
  {
   "cell_type": "code",
   "execution_count": 18,
   "id": "b275e4c2",
   "metadata": {
    "execution": {
     "iopub.execute_input": "2021-11-29T00:23:23.145231Z",
     "iopub.status.busy": "2021-11-29T00:23:23.144603Z",
     "iopub.status.idle": "2021-11-29T00:23:23.158340Z",
     "shell.execute_reply": "2021-11-29T00:23:23.158837Z"
    },
    "papermill": {
     "duration": 0.049392,
     "end_time": "2021-11-29T00:23:23.159001",
     "exception": false,
     "start_time": "2021-11-29T00:23:23.109609",
     "status": "completed"
    },
    "tags": []
   },
   "outputs": [],
   "source": [
    "training_data_x = X_train\n",
    "testing_data_x = X_test\n",
    "training_data_y = y_train.reshape(-1,1)\n",
    "testing_data_y = y_test.reshape(-1,1)"
   ]
  },
  {
   "cell_type": "code",
   "execution_count": 19,
   "id": "76951160",
   "metadata": {
    "execution": {
     "iopub.execute_input": "2021-11-29T00:23:23.226489Z",
     "iopub.status.busy": "2021-11-29T00:23:23.225869Z",
     "iopub.status.idle": "2021-11-29T00:23:23.245835Z",
     "shell.execute_reply": "2021-11-29T00:23:23.246345Z"
    },
    "papermill": {
     "duration": 0.056951,
     "end_time": "2021-11-29T00:23:23.246501",
     "exception": false,
     "start_time": "2021-11-29T00:23:23.189550",
     "status": "completed"
    },
    "tags": []
   },
   "outputs": [
    {
     "name": "stdout",
     "output_type": "stream",
     "text": [
      "xavier\n",
      "xavier\n",
      "xavier\n",
      "xavier\n",
      "xavier\n"
     ]
    }
   ],
   "source": [
    "layers = [Affine(\"first\", 784, 100), Relu(\"first\"), Affine(\"second\", 100, 100), Relu(\"second\"), Affine(\"third\", 100, 2), Affine(\"last\", 2, 1), Sigmoid(\"last\")]\n",
    "model_nn = Model(layers)\n",
    "model_lr = Model([Affine(\"logits\", 784, 1), Sigmoid(\"sigmoid\")])"
   ]
  },
  {
   "cell_type": "code",
   "execution_count": 20,
   "id": "6eede77a",
   "metadata": {
    "execution": {
     "iopub.execute_input": "2021-11-29T00:23:23.313101Z",
     "iopub.status.busy": "2021-11-29T00:23:23.312456Z",
     "iopub.status.idle": "2021-11-29T00:23:23.326837Z",
     "shell.execute_reply": "2021-11-29T00:23:23.326350Z"
    },
    "papermill": {
     "duration": 0.049281,
     "end_time": "2021-11-29T00:23:23.326969",
     "exception": false,
     "start_time": "2021-11-29T00:23:23.277688",
     "status": "completed"
    },
    "tags": []
   },
   "outputs": [],
   "source": [
    "nn_learner = Learner(loss, model_nn, opt, config.num_epochs)\n",
    "acc_nn = ClfCallback(nn_learner, config.bs, training_data_x , testing_data_x, training_data_y, testing_data_y)\n",
    "nn_learner.set_callbacks([acc_nn])"
   ]
  },
  {
   "cell_type": "code",
   "execution_count": 21,
   "id": "877b6cc7",
   "metadata": {
    "execution": {
     "iopub.execute_input": "2021-11-29T00:23:23.393771Z",
     "iopub.status.busy": "2021-11-29T00:23:23.393156Z",
     "iopub.status.idle": "2021-11-29T00:23:23.415004Z",
     "shell.execute_reply": "2021-11-29T00:23:23.414499Z"
    },
    "papermill": {
     "duration": 0.057074,
     "end_time": "2021-11-29T00:23:23.415143",
     "exception": false,
     "start_time": "2021-11-29T00:23:23.358069",
     "status": "completed"
    },
    "tags": []
   },
   "outputs": [],
   "source": [
    "lr_learner = Learner(loss, model_lr, opt, config.num_epochs)\n",
    "acc_lr = ClfCallback(lr_learner, config.bs, training_data_x , testing_data_x, training_data_y, testing_data_y)\n",
    "lr_learner.set_callbacks([acc_lr])"
   ]
  },
  {
   "cell_type": "code",
   "execution_count": 22,
   "id": "d9b133c3",
   "metadata": {
    "execution": {
     "iopub.execute_input": "2021-11-29T00:23:23.482019Z",
     "iopub.status.busy": "2021-11-29T00:23:23.481417Z",
     "iopub.status.idle": "2021-11-29T00:24:50.654621Z",
     "shell.execute_reply": "2021-11-29T00:24:50.655466Z"
    },
    "papermill": {
     "duration": 87.209418,
     "end_time": "2021-11-29T00:24:50.655632",
     "exception": false,
     "start_time": "2021-11-29T00:23:23.446214",
     "status": "completed"
    },
    "tags": []
   },
   "outputs": [
    {
     "name": "stdout",
     "output_type": "stream",
     "text": [
      "Epoch 0, Loss 0.2472\n",
      "Training Accuracy: 0.7128, Testing Accuracy: 0.7213\n",
      "\n"
     ]
    },
    {
     "name": "stdout",
     "output_type": "stream",
     "text": [
      "Epoch 10, Loss 0.0637\n",
      "Training Accuracy: 0.9328, Testing Accuracy: 0.9441\n",
      "\n"
     ]
    },
    {
     "name": "stdout",
     "output_type": "stream",
     "text": [
      "Epoch 20, Loss 0.045\n",
      "Training Accuracy: 0.9497, Testing Accuracy: 0.9622\n",
      "\n"
     ]
    },
    {
     "name": "stdout",
     "output_type": "stream",
     "text": [
      "Epoch 30, Loss 0.0375\n",
      "Training Accuracy: 0.9561, Testing Accuracy: 0.9657\n",
      "\n"
     ]
    },
    {
     "name": "stdout",
     "output_type": "stream",
     "text": [
      "Epoch 40, Loss 0.0332\n",
      "Training Accuracy: 0.9609, Testing Accuracy: 0.9693\n",
      "\n"
     ]
    },
    {
     "name": "stdout",
     "output_type": "stream",
     "text": [
      "Epoch 50, Loss 0.0303\n",
      "Training Accuracy: 0.9643, Testing Accuracy: 0.9703\n",
      "\n"
     ]
    },
    {
     "name": "stdout",
     "output_type": "stream",
     "text": [
      "Epoch 60, Loss 0.0282\n",
      "Training Accuracy: 0.9665, Testing Accuracy: 0.9708\n",
      "\n"
     ]
    },
    {
     "name": "stdout",
     "output_type": "stream",
     "text": [
      "Epoch 70, Loss 0.0266\n",
      "Training Accuracy: 0.9685, Testing Accuracy: 0.9703\n",
      "\n"
     ]
    },
    {
     "name": "stdout",
     "output_type": "stream",
     "text": [
      "Epoch 80, Loss 0.0253\n",
      "Training Accuracy: 0.9700, Testing Accuracy: 0.9708\n",
      "\n"
     ]
    },
    {
     "name": "stdout",
     "output_type": "stream",
     "text": [
      "Epoch 90, Loss 0.0242\n",
      "Training Accuracy: 0.9715, Testing Accuracy: 0.9713\n",
      "\n"
     ]
    },
    {
     "name": "stdout",
     "output_type": "stream",
     "text": [
      "Epoch 100, Loss 0.0232\n",
      "Training Accuracy: 0.9730, Testing Accuracy: 0.9723\n",
      "\n"
     ]
    },
    {
     "name": "stdout",
     "output_type": "stream",
     "text": [
      "Epoch 110, Loss 0.0223\n",
      "Training Accuracy: 0.9747, Testing Accuracy: 0.9723\n",
      "\n"
     ]
    },
    {
     "name": "stdout",
     "output_type": "stream",
     "text": [
      "Epoch 120, Loss 0.0216\n",
      "Training Accuracy: 0.9760, Testing Accuracy: 0.9738\n",
      "\n"
     ]
    },
    {
     "name": "stdout",
     "output_type": "stream",
     "text": [
      "Epoch 130, Loss 0.0209\n",
      "Training Accuracy: 0.9767, Testing Accuracy: 0.9748\n",
      "\n"
     ]
    },
    {
     "name": "stdout",
     "output_type": "stream",
     "text": [
      "Epoch 140, Loss 0.0202\n",
      "Training Accuracy: 0.9776, Testing Accuracy: 0.9753\n",
      "\n"
     ]
    },
    {
     "name": "stdout",
     "output_type": "stream",
     "text": [
      "Epoch 150, Loss 0.0197\n",
      "Training Accuracy: 0.9784, Testing Accuracy: 0.9748\n",
      "\n"
     ]
    },
    {
     "name": "stdout",
     "output_type": "stream",
     "text": [
      "Epoch 160, Loss 0.0191\n",
      "Training Accuracy: 0.9794, Testing Accuracy: 0.9753\n",
      "\n"
     ]
    },
    {
     "name": "stdout",
     "output_type": "stream",
     "text": [
      "Epoch 170, Loss 0.0186\n",
      "Training Accuracy: 0.9801, Testing Accuracy: 0.9758\n",
      "\n"
     ]
    },
    {
     "name": "stdout",
     "output_type": "stream",
     "text": [
      "Epoch 180, Loss 0.0181\n",
      "Training Accuracy: 0.9804, Testing Accuracy: 0.9758\n",
      "\n"
     ]
    },
    {
     "name": "stdout",
     "output_type": "stream",
     "text": [
      "Epoch 190, Loss 0.0177\n",
      "Training Accuracy: 0.9812, Testing Accuracy: 0.9783\n",
      "\n"
     ]
    },
    {
     "name": "stdout",
     "output_type": "stream",
     "text": [
      "Epoch 200, Loss 0.0172\n",
      "Training Accuracy: 0.9821, Testing Accuracy: 0.9783\n",
      "\n"
     ]
    },
    {
     "name": "stdout",
     "output_type": "stream",
     "text": [
      "Epoch 210, Loss 0.0168\n",
      "Training Accuracy: 0.9825, Testing Accuracy: 0.9788\n",
      "\n"
     ]
    },
    {
     "name": "stdout",
     "output_type": "stream",
     "text": [
      "Epoch 220, Loss 0.0164\n",
      "Training Accuracy: 0.9831, Testing Accuracy: 0.9788\n",
      "\n"
     ]
    },
    {
     "name": "stdout",
     "output_type": "stream",
     "text": [
      "Epoch 230, Loss 0.016\n",
      "Training Accuracy: 0.9832, Testing Accuracy: 0.9798\n",
      "\n"
     ]
    },
    {
     "name": "stdout",
     "output_type": "stream",
     "text": [
      "Epoch 240, Loss 0.0157\n",
      "Training Accuracy: 0.9838, Testing Accuracy: 0.9803\n",
      "\n"
     ]
    },
    {
     "data": {
      "text/plain": [
       "0.016549336805771725"
      ]
     },
     "execution_count": 22,
     "metadata": {},
     "output_type": "execute_result"
    }
   ],
   "source": [
    "nn_learner.train_loop(dl)"
   ]
  },
  {
   "cell_type": "code",
   "execution_count": 23,
   "id": "e0163366",
   "metadata": {
    "execution": {
     "iopub.execute_input": "2021-11-29T00:24:50.746035Z",
     "iopub.status.busy": "2021-11-29T00:24:50.745470Z",
     "iopub.status.idle": "2021-11-29T00:25:06.084907Z",
     "shell.execute_reply": "2021-11-29T00:25:06.085763Z"
    },
    "papermill": {
     "duration": 15.392488,
     "end_time": "2021-11-29T00:25:06.085931",
     "exception": false,
     "start_time": "2021-11-29T00:24:50.693443",
     "status": "completed"
    },
    "tags": []
   },
   "outputs": [
    {
     "name": "stdout",
     "output_type": "stream",
     "text": [
      "Epoch 0, Loss 0.2086\n",
      "Training Accuracy: 0.7949, Testing Accuracy: 0.7898\n",
      "\n"
     ]
    },
    {
     "name": "stdout",
     "output_type": "stream",
     "text": [
      "Epoch 10, Loss 0.0976\n",
      "Training Accuracy: 0.9173, Testing Accuracy: 0.9279\n",
      "\n"
     ]
    },
    {
     "name": "stdout",
     "output_type": "stream",
     "text": [
      "Epoch 20, Loss 0.0768\n",
      "Training Accuracy: 0.9308, Testing Accuracy: 0.9420\n",
      "\n"
     ]
    },
    {
     "name": "stdout",
     "output_type": "stream",
     "text": [
      "Epoch 30, Loss 0.067\n",
      "Training Accuracy: 0.9373, Testing Accuracy: 0.9486\n",
      "\n"
     ]
    },
    {
     "name": "stdout",
     "output_type": "stream",
     "text": [
      "Epoch 40, Loss 0.0609\n",
      "Training Accuracy: 0.9417, Testing Accuracy: 0.9536\n",
      "\n"
     ]
    },
    {
     "name": "stdout",
     "output_type": "stream",
     "text": [
      "Epoch 50, Loss 0.0567\n",
      "Training Accuracy: 0.9448, Testing Accuracy: 0.9541\n",
      "\n"
     ]
    },
    {
     "name": "stdout",
     "output_type": "stream",
     "text": [
      "Epoch 60, Loss 0.0536\n",
      "Training Accuracy: 0.9474, Testing Accuracy: 0.9572\n",
      "\n"
     ]
    },
    {
     "name": "stdout",
     "output_type": "stream",
     "text": [
      "Epoch 70, Loss 0.0512\n",
      "Training Accuracy: 0.9498, Testing Accuracy: 0.9582\n",
      "\n"
     ]
    },
    {
     "name": "stdout",
     "output_type": "stream",
     "text": [
      "Epoch 80, Loss 0.0492\n",
      "Training Accuracy: 0.9509, Testing Accuracy: 0.9597\n",
      "\n"
     ]
    },
    {
     "name": "stdout",
     "output_type": "stream",
     "text": [
      "Epoch 90, Loss 0.0476\n",
      "Training Accuracy: 0.9519, Testing Accuracy: 0.9627\n",
      "\n"
     ]
    },
    {
     "name": "stdout",
     "output_type": "stream",
     "text": [
      "Epoch 100, Loss 0.0462\n",
      "Training Accuracy: 0.9526, Testing Accuracy: 0.9617\n",
      "\n"
     ]
    },
    {
     "name": "stdout",
     "output_type": "stream",
     "text": [
      "Epoch 110, Loss 0.045\n",
      "Training Accuracy: 0.9538, Testing Accuracy: 0.9622\n",
      "\n"
     ]
    },
    {
     "name": "stdout",
     "output_type": "stream",
     "text": [
      "Epoch 120, Loss 0.044\n",
      "Training Accuracy: 0.9546, Testing Accuracy: 0.9627\n",
      "\n"
     ]
    },
    {
     "name": "stdout",
     "output_type": "stream",
     "text": [
      "Epoch 130, Loss 0.043\n",
      "Training Accuracy: 0.9554, Testing Accuracy: 0.9627\n",
      "\n"
     ]
    },
    {
     "name": "stdout",
     "output_type": "stream",
     "text": [
      "Epoch 140, Loss 0.0422\n",
      "Training Accuracy: 0.9564, Testing Accuracy: 0.9632\n",
      "\n"
     ]
    },
    {
     "name": "stdout",
     "output_type": "stream",
     "text": [
      "Epoch 150, Loss 0.0415\n",
      "Training Accuracy: 0.9571, Testing Accuracy: 0.9637\n",
      "\n"
     ]
    },
    {
     "name": "stdout",
     "output_type": "stream",
     "text": [
      "Epoch 160, Loss 0.0408\n",
      "Training Accuracy: 0.9577, Testing Accuracy: 0.9642\n",
      "\n"
     ]
    },
    {
     "name": "stdout",
     "output_type": "stream",
     "text": [
      "Epoch 170, Loss 0.0402\n",
      "Training Accuracy: 0.9579, Testing Accuracy: 0.9647\n",
      "\n"
     ]
    },
    {
     "name": "stdout",
     "output_type": "stream",
     "text": [
      "Epoch 180, Loss 0.0396\n",
      "Training Accuracy: 0.9584, Testing Accuracy: 0.9647\n",
      "\n"
     ]
    },
    {
     "name": "stdout",
     "output_type": "stream",
     "text": [
      "Epoch 190, Loss 0.0391\n",
      "Training Accuracy: 0.9586, Testing Accuracy: 0.9647\n",
      "\n"
     ]
    },
    {
     "name": "stdout",
     "output_type": "stream",
     "text": [
      "Epoch 200, Loss 0.0386\n",
      "Training Accuracy: 0.9589, Testing Accuracy: 0.9652\n",
      "\n"
     ]
    },
    {
     "name": "stdout",
     "output_type": "stream",
     "text": [
      "Epoch 210, Loss 0.0382\n",
      "Training Accuracy: 0.9592, Testing Accuracy: 0.9657\n",
      "\n"
     ]
    },
    {
     "name": "stdout",
     "output_type": "stream",
     "text": [
      "Epoch 220, Loss 0.0378\n",
      "Training Accuracy: 0.9597, Testing Accuracy: 0.9657\n",
      "\n"
     ]
    },
    {
     "name": "stdout",
     "output_type": "stream",
     "text": [
      "Epoch 230, Loss 0.0374\n",
      "Training Accuracy: 0.9597, Testing Accuracy: 0.9667\n",
      "\n"
     ]
    },
    {
     "name": "stdout",
     "output_type": "stream",
     "text": [
      "Epoch 240, Loss 0.037\n",
      "Training Accuracy: 0.9601, Testing Accuracy: 0.9667\n",
      "\n"
     ]
    },
    {
     "data": {
      "text/plain": [
       "0.0142025141920296"
      ]
     },
     "execution_count": 23,
     "metadata": {},
     "output_type": "execute_result"
    }
   ],
   "source": [
    "lr_learner.train_loop(dl)"
   ]
  },
  {
   "cell_type": "code",
   "execution_count": 24,
   "id": "ca410940",
   "metadata": {
    "execution": {
     "iopub.execute_input": "2021-11-29T00:25:06.190173Z",
     "iopub.status.busy": "2021-11-29T00:25:06.189553Z",
     "iopub.status.idle": "2021-11-29T00:25:06.443178Z",
     "shell.execute_reply": "2021-11-29T00:25:06.441846Z"
    },
    "papermill": {
     "duration": 0.310424,
     "end_time": "2021-11-29T00:25:06.443399",
     "exception": false,
     "start_time": "2021-11-29T00:25:06.132975",
     "status": "completed"
    },
    "tags": []
   },
   "outputs": [
    {
     "data": {
      "text/plain": [
       "<matplotlib.legend.Legend at 0x7f381a45ec18>"
      ]
     },
     "execution_count": 24,
     "metadata": {},
     "output_type": "execute_result"
    },
    {
     "data": {
      "image/png": "[encoded data removed]",
      "text/plain": [
       "<Figure size 1080x720 with 1 Axes>"
      ]
     },
     "metadata": {
      "needs_background": "light"
     },
     "output_type": "display_data"
    }
   ],
   "source": [
    "#comparing the results of NN and LR\n",
    "plt.figure(figsize=(15,10))\n",
    "\n",
    "# Neural Network plots\n",
    "plt.plot(acc_nn.accuracies, 'r-', label = \"Training Accuracies - NN\")\n",
    "plt.plot(acc_nn.test_accuracies, 'g-', label = \"Testing Accuracies - NN\")\n",
    "\n",
    "# Logistic Regression plots\n",
    "plt.plot(acc_lr.accuracies, 'k-', label = \"Training Accuracies - LR\")\n",
    "plt.plot(acc_lr.test_accuracies, 'b-', label = \"Testing Accuracies - LR\")\n",
    "plt.legend()"
   ]
  },
  {
   "cell_type": "markdown",
   "id": "80dfb35c",
   "metadata": {
    "papermill": {
     "duration": 0.045342,
     "end_time": "2021-11-29T00:25:06.535687",
     "exception": false,
     "start_time": "2021-11-29T00:25:06.490345",
     "status": "completed"
    },
    "tags": []
   },
   "source": [
    "#### Plotting the outputs of this layer of the NN.\n"
   ]
  },
  {
   "cell_type": "code",
   "execution_count": 25,
   "id": "45eb2ff5",
   "metadata": {
    "execution": {
     "iopub.execute_input": "2021-11-29T00:25:06.637338Z",
     "iopub.status.busy": "2021-11-29T00:25:06.636692Z",
     "iopub.status.idle": "2021-11-29T00:25:06.658067Z",
     "shell.execute_reply": "2021-11-29T00:25:06.658833Z"
    },
    "papermill": {
     "duration": 0.077535,
     "end_time": "2021-11-29T00:25:06.658987",
     "exception": false,
     "start_time": "2021-11-29T00:25:06.581452",
     "status": "completed"
    },
    "tags": []
   },
   "outputs": [],
   "source": [
    "new_model = Model(layers[:-2])\n",
    "testing_plot = new_model(testing_data_x)"
   ]
  },
  {
   "cell_type": "code",
   "execution_count": 26,
   "id": "4c0a5485",
   "metadata": {
    "execution": {
     "iopub.execute_input": "2021-11-29T00:25:06.769907Z",
     "iopub.status.busy": "2021-11-29T00:25:06.769325Z",
     "iopub.status.idle": "2021-11-29T00:25:06.955808Z",
     "shell.execute_reply": "2021-11-29T00:25:06.955285Z"
    },
    "papermill": {
     "duration": 0.249824,
     "end_time": "2021-11-29T00:25:06.955945",
     "exception": false,
     "start_time": "2021-11-29T00:25:06.706121",
     "status": "completed"
    },
    "tags": []
   },
   "outputs": [
    {
     "data": {
      "text/plain": [
       "Text(0.5, 1.0, 'Outputs')"
      ]
     },
     "execution_count": 26,
     "metadata": {},
     "output_type": "execute_result"
    },
    {
     "data": {
      "image/png": "[encoded data removed]",
      "text/plain": [
       "<Figure size 576x504 with 1 Axes>"
      ]
     },
     "metadata": {
      "needs_background": "light"
     },
     "output_type": "display_data"
    }
   ],
   "source": [
    "# Plotting the scatter plot of points and color coding by class\n",
    "plt.figure(figsize=(8,7))\n",
    "plt.scatter(testing_plot[:,0], testing_plot[:,1], alpha = 0.1, c = y_test.ravel());\n",
    "plt.title('Outputs')"
   ]
  },
  {
   "cell_type": "markdown",
   "id": "a74fcf8f",
   "metadata": {
    "papermill": {
     "duration": 0.047828,
     "end_time": "2021-11-29T00:25:07.052286",
     "exception": false,
     "start_time": "2021-11-29T00:25:07.004458",
     "status": "completed"
    },
    "tags": []
   },
   "source": [
    "Probability contours"
   ]
  },
  {
   "cell_type": "code",
   "execution_count": 27,
   "id": "d0afc8e3",
   "metadata": {
    "execution": {
     "iopub.execute_input": "2021-11-29T00:25:07.156904Z",
     "iopub.status.busy": "2021-11-29T00:25:07.156214Z",
     "iopub.status.idle": "2021-11-29T00:25:07.171287Z",
     "shell.execute_reply": "2021-11-29T00:25:07.171725Z"
    },
    "papermill": {
     "duration": 0.069983,
     "end_time": "2021-11-29T00:25:07.171878",
     "exception": false,
     "start_time": "2021-11-29T00:25:07.101895",
     "status": "completed"
    },
    "tags": []
   },
   "outputs": [],
   "source": [
    "model_prob = Model(layers[-2:]) "
   ]
  },
  {
   "cell_type": "code",
   "execution_count": 28,
   "id": "9b96e238",
   "metadata": {
    "execution": {
     "iopub.execute_input": "2021-11-29T00:25:07.275692Z",
     "iopub.status.busy": "2021-11-29T00:25:07.274962Z",
     "iopub.status.idle": "2021-11-29T00:25:07.289665Z",
     "shell.execute_reply": "2021-11-29T00:25:07.290152Z"
    },
    "papermill": {
     "duration": 0.070497,
     "end_time": "2021-11-29T00:25:07.290313",
     "exception": false,
     "start_time": "2021-11-29T00:25:07.219816",
     "status": "completed"
    },
    "tags": []
   },
   "outputs": [],
   "source": [
    "#creating the x and y ranges according to the above generated plot.\n",
    "x_range = np.linspace(-4, 1, 100) \n",
    "y_range = np.linspace(-6, 6, 100) \n",
    "x_grid, y_grid = np.meshgrid(x_range, y_range) # x_grid and y_grig are of size 100 X 100\n",
    "\n",
    "# converting x_grid and y_grid to continuous arrays\n",
    "x_gridflat = np.ravel(x_grid)\n",
    "y_gridflat = np.ravel(y_grid)\n",
    "\n",
    "# The last layer of the current model takes two columns as input. Hence transpose of np.vstack() is required.\n",
    "X = np.vstack((x_gridflat, y_gridflat)).T\n",
    "\n",
    "prob_contour = model_prob(X).reshape(100,100) "
   ]
  },
  {
   "cell_type": "code",
   "execution_count": 29,
   "id": "da72499a",
   "metadata": {
    "execution": {
     "iopub.execute_input": "2021-11-29T00:25:07.425578Z",
     "iopub.status.busy": "2021-11-29T00:25:07.424978Z",
     "iopub.status.idle": "2021-11-29T00:25:07.683811Z",
     "shell.execute_reply": "2021-11-29T00:25:07.684283Z"
    },
    "papermill": {
     "duration": 0.342773,
     "end_time": "2021-11-29T00:25:07.684431",
     "exception": false,
     "start_time": "2021-11-29T00:25:07.341658",
     "status": "completed"
    },
    "tags": []
   },
   "outputs": [
    {
     "data": {
      "image/png": "[encoded data removed]",
      "text/plain": [
       "<Figure size 720x648 with 1 Axes>"
      ]
     },
     "metadata": {
      "needs_background": "light"
     },
     "output_type": "display_data"
    }
   ],
   "source": [
    "plt.figure(figsize=(10,9))\n",
    "plt.scatter(testing_plot[:,0], testing_plot[:,1], alpha = 0.1, c = y_test.ravel())\n",
    "contours = plt.contour(x_grid,y_grid,prob_contour)\n",
    "plt.title('Probability Contours')\n",
    "plt.clabel(contours, inline = True );"
   ]
  },
  {
   "cell_type": "code",
   "execution_count": null,
   "id": "e81b4ac7",
   "metadata": {
    "papermill": {
     "duration": 0.051348,
     "end_time": "2021-11-29T00:25:07.788920",
     "exception": false,
     "start_time": "2021-11-29T00:25:07.737572",
     "status": "completed"
    },
    "tags": []
   },
   "outputs": [],
   "source": []
  }
 ],
 "metadata": {
  "kernelspec": {
   "display_name": "Python 3",
   "language": "python",
   "name": "python3"
  },
  "language_info": {
   "codemirror_mode": {
    "name": "ipython",
    "version": 3
   },
   "file_extension": ".py",
   "mimetype": "text/x-python",
   "name": "python",
   "nbconvert_exporter": "python",
   "pygments_lexer": "ipython3",
   "version": "3.6.15"
  },
  "papermill": {
   "default_parameters": {},
   "duration": 112.096076,
   "end_time": "2021-11-29T00:25:08.251543",
   "environment_variables": {},
   "exception": null,
   "input_path": "2020-08-11-part2.ipynb",
   "output_path": "2020-08-11-part2.ipynb",
   "parameters": {},
   "start_time": "2021-11-29T00:23:16.155467",
   "version": "2.3.3"
  }
 },
 "nbformat": 4,
 "nbformat_minor": 5
}