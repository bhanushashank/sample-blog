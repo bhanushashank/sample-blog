{
 "cells": [
  {
   "cell_type": "markdown",
   "id": "98380cd3",
   "metadata": {
    "papermill": {
     "duration": 0.032058,
     "end_time": "2021-10-31T10:07:39.668039",
     "exception": false,
     "start_time": "2021-10-31T10:07:39.635981",
     "status": "completed"
    },
    "tags": []
   },
   "source": [
    "# Distinguish Your Own Digits (DYOD)"
   ]
  },
  {
   "cell_type": "markdown",
   "id": "ef31240d",
   "metadata": {
    "papermill": {
     "duration": 0.029093,
     "end_time": "2021-10-31T10:07:39.734436",
     "exception": false,
     "start_time": "2021-10-31T10:07:39.705343",
     "status": "completed"
    },
    "tags": []
   },
   "source": [
    "You are going to write a classifier that distinguishes between the number 3 and number 8."
   ]
  },
  {
   "cell_type": "code",
   "execution_count": 1,
   "id": "b15c8646",
   "metadata": {
    "execution": {
     "iopub.execute_input": "2021-10-31T10:07:39.803284Z",
     "iopub.status.busy": "2021-10-31T10:07:39.802599Z",
     "iopub.status.idle": "2021-10-31T10:07:39.814099Z",
     "shell.execute_reply": "2021-10-31T10:07:39.813631Z"
    },
    "papermill": {
     "duration": 0.050721,
     "end_time": "2021-10-31T10:07:39.814284",
     "exception": false,
     "start_time": "2021-10-31T10:07:39.763563",
     "status": "completed"
    },
    "tags": []
   },
   "outputs": [],
   "source": [
    "%load_ext autoreload\n",
    "%autoreload 2"
   ]
  },
  {
   "cell_type": "code",
   "execution_count": 2,
   "id": "22ef38dc",
   "metadata": {
    "execution": {
     "iopub.execute_input": "2021-10-31T10:07:39.872496Z",
     "iopub.status.busy": "2021-10-31T10:07:39.871922Z",
     "iopub.status.idle": "2021-10-31T10:07:40.427860Z",
     "shell.execute_reply": "2021-10-31T10:07:40.427235Z"
    },
    "papermill": {
     "duration": 0.586419,
     "end_time": "2021-10-31T10:07:40.428013",
     "exception": false,
     "start_time": "2021-10-31T10:07:39.841594",
     "status": "completed"
    },
    "tags": []
   },
   "outputs": [],
   "source": [
    "%matplotlib inline\n",
    "import numpy as np\n",
    "import matplotlib.pyplot as plt\n",
    "import pandas as pd"
   ]
  },
  {
   "cell_type": "markdown",
   "id": "ba036198",
   "metadata": {
    "papermill": {
     "duration": 0.029646,
     "end_time": "2021-10-31T10:07:40.487624",
     "exception": false,
     "start_time": "2021-10-31T10:07:40.457978",
     "status": "completed"
    },
    "tags": []
   },
   "source": [
    "From the command line run `pip install mnist`. This is a library that will help you bring down the mnist dataset. If you run this from a notebook, you need to put  `!pip install mnist` in a cell by itself."
   ]
  },
  {
   "cell_type": "code",
   "execution_count": 3,
   "id": "bb6ad8a1",
   "metadata": {
    "execution": {
     "iopub.execute_input": "2021-10-31T10:07:40.553776Z",
     "iopub.status.busy": "2021-10-31T10:07:40.553006Z",
     "iopub.status.idle": "2021-10-31T10:07:43.131721Z",
     "shell.execute_reply": "2021-10-31T10:07:43.131266Z"
    },
    "papermill": {
     "duration": 2.613999,
     "end_time": "2021-10-31T10:07:43.131846",
     "exception": false,
     "start_time": "2021-10-31T10:07:40.517847",
     "status": "completed"
    },
    "tags": []
   },
   "outputs": [
    {
     "name": "stdout",
     "output_type": "stream",
     "text": [
      "Collecting mnist\r\n"
     ]
    },
    {
     "name": "stdout",
     "output_type": "stream",
     "text": [
      "  Downloading mnist-0.2.2-py2.py3-none-any.whl (3.5 kB)\r\n",
      "Requirement already satisfied: numpy in /opt/hostedtoolcache/Python/3.6.15/x64/lib/python3.6/site-packages (from mnist) (1.19.5)\r\n"
     ]
    },
    {
     "name": "stdout",
     "output_type": "stream",
     "text": [
      "Installing collected packages: mnist\r\n"
     ]
    },
    {
     "name": "stdout",
     "output_type": "stream",
     "text": [
      "Successfully installed mnist-0.2.2\r\n"
     ]
    },
    {
     "name": "stdout",
     "output_type": "stream",
     "text": [
      "\u001b[33mWARNING: You are using pip version 21.3; however, version 21.3.1 is available.\r\n",
      "You should consider upgrading via the '/opt/hostedtoolcache/Python/3.6.15/x64/bin/python -m pip install --upgrade pip' command.\u001b[0m\r\n"
     ]
    }
   ],
   "source": [
    "!pip install mnist"
   ]
  },
  {
   "cell_type": "markdown",
   "id": "69df9c9a",
   "metadata": {
    "papermill": {
     "duration": 0.025604,
     "end_time": "2021-10-31T10:07:43.183610",
     "exception": false,
     "start_time": "2021-10-31T10:07:43.158006",
     "status": "completed"
    },
    "tags": []
   },
   "source": [
    "## Preparing the Data"
   ]
  },
  {
   "cell_type": "code",
   "execution_count": 4,
   "id": "7f69d806",
   "metadata": {
    "execution": {
     "iopub.execute_input": "2021-10-31T10:07:43.256104Z",
     "iopub.status.busy": "2021-10-31T10:07:43.255029Z",
     "iopub.status.idle": "2021-10-31T10:07:43.259248Z",
     "shell.execute_reply": "2021-10-31T10:07:43.258656Z"
    },
    "papermill": {
     "duration": 0.049914,
     "end_time": "2021-10-31T10:07:43.259357",
     "exception": false,
     "start_time": "2021-10-31T10:07:43.209443",
     "status": "completed"
    },
    "tags": []
   },
   "outputs": [],
   "source": [
    "import mnist"
   ]
  },
  {
   "cell_type": "code",
   "execution_count": 5,
   "id": "a411e44f",
   "metadata": {
    "execution": {
     "iopub.execute_input": "2021-10-31T10:07:43.314687Z",
     "iopub.status.busy": "2021-10-31T10:07:43.314161Z",
     "iopub.status.idle": "2021-10-31T10:07:43.841018Z",
     "shell.execute_reply": "2021-10-31T10:07:43.840511Z"
    },
    "papermill": {
     "duration": 0.555214,
     "end_time": "2021-10-31T10:07:43.841154",
     "exception": false,
     "start_time": "2021-10-31T10:07:43.285940",
     "status": "completed"
    },
    "tags": []
   },
   "outputs": [],
   "source": [
    "train_images = mnist.train_images()\n",
    "train_labels = mnist.train_labels()"
   ]
  },
  {
   "cell_type": "code",
   "execution_count": 6,
   "id": "dceab3a5",
   "metadata": {
    "execution": {
     "iopub.execute_input": "2021-10-31T10:07:43.907418Z",
     "iopub.status.busy": "2021-10-31T10:07:43.906158Z",
     "iopub.status.idle": "2021-10-31T10:07:43.920793Z",
     "shell.execute_reply": "2021-10-31T10:07:43.920311Z"
    },
    "papermill": {
     "duration": 0.049469,
     "end_time": "2021-10-31T10:07:43.920915",
     "exception": false,
     "start_time": "2021-10-31T10:07:43.871446",
     "status": "completed"
    },
    "tags": []
   },
   "outputs": [
    {
     "data": {
      "text/plain": [
       "((60000, 28, 28), (60000,))"
      ]
     },
     "execution_count": 6,
     "metadata": {},
     "output_type": "execute_result"
    }
   ],
   "source": [
    "train_images.shape, train_labels.shape"
   ]
  },
  {
   "cell_type": "code",
   "execution_count": 7,
   "id": "f50dc2bb",
   "metadata": {
    "execution": {
     "iopub.execute_input": "2021-10-31T10:07:43.982950Z",
     "iopub.status.busy": "2021-10-31T10:07:43.982252Z",
     "iopub.status.idle": "2021-10-31T10:07:44.118659Z",
     "shell.execute_reply": "2021-10-31T10:07:44.118110Z"
    },
    "papermill": {
     "duration": 0.168729,
     "end_time": "2021-10-31T10:07:44.118782",
     "exception": false,
     "start_time": "2021-10-31T10:07:43.950053",
     "status": "completed"
    },
    "tags": []
   },
   "outputs": [],
   "source": [
    "test_images = mnist.test_images()\n",
    "test_labels = mnist.test_labels()"
   ]
  },
  {
   "cell_type": "code",
   "execution_count": 8,
   "id": "fc38cf1b",
   "metadata": {
    "execution": {
     "iopub.execute_input": "2021-10-31T10:07:44.177106Z",
     "iopub.status.busy": "2021-10-31T10:07:44.176546Z",
     "iopub.status.idle": "2021-10-31T10:07:44.189243Z",
     "shell.execute_reply": "2021-10-31T10:07:44.189765Z"
    },
    "papermill": {
     "duration": 0.043435,
     "end_time": "2021-10-31T10:07:44.189904",
     "exception": false,
     "start_time": "2021-10-31T10:07:44.146469",
     "status": "completed"
    },
    "tags": []
   },
   "outputs": [
    {
     "data": {
      "text/plain": [
       "((10000, 28, 28), (10000,))"
      ]
     },
     "execution_count": 8,
     "metadata": {},
     "output_type": "execute_result"
    }
   ],
   "source": [
    "test_images.shape, test_labels.shape"
   ]
  },
  {
   "cell_type": "code",
   "execution_count": 9,
   "id": "f9ed8fe0",
   "metadata": {
    "execution": {
     "iopub.execute_input": "2021-10-31T10:07:44.247067Z",
     "iopub.status.busy": "2021-10-31T10:07:44.246520Z",
     "iopub.status.idle": "2021-10-31T10:07:44.419034Z",
     "shell.execute_reply": "2021-10-31T10:07:44.418349Z"
    },
    "papermill": {
     "duration": 0.203328,
     "end_time": "2021-10-31T10:07:44.419167",
     "exception": false,
     "start_time": "2021-10-31T10:07:44.215839",
     "status": "completed"
    },
    "tags": []
   },
   "outputs": [
    {
     "name": "stdout",
     "output_type": "stream",
     "text": [
      "2\n"
     ]
    },
    {
     "data": {
      "text/plain": [
       "<matplotlib.image.AxesImage at 0x7fed110bf0f0>"
      ]
     },
     "execution_count": 9,
     "metadata": {},
     "output_type": "execute_result"
    },
    {
     "data": {
      "image/png": "[encoded data removed]",
      "text/plain": [
       "<Figure size 432x288 with 1 Axes>"
      ]
     },
     "metadata": {
      "needs_background": "light"
     },
     "output_type": "display_data"
    }
   ],
   "source": [
    "image_index = 7776 # You may select anything up to 60,000\n",
    "print(train_labels[image_index]) \n",
    "plt.imshow(train_images[image_index], cmap='Greys')"
   ]
  },
  {
   "cell_type": "markdown",
   "id": "a8d2388d",
   "metadata": {
    "papermill": {
     "duration": 0.030421,
     "end_time": "2021-10-31T10:07:44.488384",
     "exception": false,
     "start_time": "2021-10-31T10:07:44.457963",
     "status": "completed"
    },
    "tags": []
   },
   "source": [
    "## Filter data to get 3 and 8 out"
   ]
  },
  {
   "cell_type": "code",
   "execution_count": 10,
   "id": "776f7fc7",
   "metadata": {
    "execution": {
     "iopub.execute_input": "2021-10-31T10:07:44.554644Z",
     "iopub.status.busy": "2021-10-31T10:07:44.553991Z",
     "iopub.status.idle": "2021-10-31T10:07:44.572400Z",
     "shell.execute_reply": "2021-10-31T10:07:44.571911Z"
    },
    "papermill": {
     "duration": 0.051875,
     "end_time": "2021-10-31T10:07:44.572516",
     "exception": false,
     "start_time": "2021-10-31T10:07:44.520641",
     "status": "completed"
    },
    "tags": []
   },
   "outputs": [],
   "source": [
    "train_filter = np.where((train_labels == 3 ) | (train_labels == 8))\n",
    "test_filter = np.where((test_labels == 3) | (test_labels == 8))\n",
    "X_train, y_train = train_images[train_filter], train_labels[train_filter]\n",
    "X_test, y_test = test_images[test_filter], test_labels[test_filter]"
   ]
  },
  {
   "cell_type": "markdown",
   "id": "948f0b7e",
   "metadata": {
    "papermill": {
     "duration": 0.027449,
     "end_time": "2021-10-31T10:07:44.629179",
     "exception": false,
     "start_time": "2021-10-31T10:07:44.601730",
     "status": "completed"
    },
    "tags": []
   },
   "source": [
    "We normalize the pizel values in the 0 to 1 range"
   ]
  },
  {
   "cell_type": "code",
   "execution_count": 11,
   "id": "ee4c2166",
   "metadata": {
    "execution": {
     "iopub.execute_input": "2021-10-31T10:07:44.689418Z",
     "iopub.status.busy": "2021-10-31T10:07:44.688906Z",
     "iopub.status.idle": "2021-10-31T10:07:44.746820Z",
     "shell.execute_reply": "2021-10-31T10:07:44.746155Z"
    },
    "papermill": {
     "duration": 0.088349,
     "end_time": "2021-10-31T10:07:44.747007",
     "exception": false,
     "start_time": "2021-10-31T10:07:44.658658",
     "status": "completed"
    },
    "tags": []
   },
   "outputs": [],
   "source": [
    "X_train = X_train/255.\n",
    "X_test = X_test/255."
   ]
  },
  {
   "cell_type": "markdown",
   "id": "ddcf4fab",
   "metadata": {
    "papermill": {
     "duration": 0.030189,
     "end_time": "2021-10-31T10:07:44.810070",
     "exception": false,
     "start_time": "2021-10-31T10:07:44.779881",
     "status": "completed"
    },
    "tags": []
   },
   "source": [
    "And setup the labels as 1 (when the digit is 3) and 0 (when the digit is 8)"
   ]
  },
  {
   "cell_type": "code",
   "execution_count": 12,
   "id": "7dc908f2",
   "metadata": {
    "execution": {
     "iopub.execute_input": "2021-10-31T10:07:44.876694Z",
     "iopub.status.busy": "2021-10-31T10:07:44.876161Z",
     "iopub.status.idle": "2021-10-31T10:07:44.885668Z",
     "shell.execute_reply": "2021-10-31T10:07:44.886238Z"
    },
    "papermill": {
     "duration": 0.047265,
     "end_time": "2021-10-31T10:07:44.886360",
     "exception": false,
     "start_time": "2021-10-31T10:07:44.839095",
     "status": "completed"
    },
    "tags": []
   },
   "outputs": [],
   "source": [
    "y_train = 1*(y_train==3)\n",
    "y_test = 1*(y_test==3)"
   ]
  },
  {
   "cell_type": "code",
   "execution_count": 13,
   "id": "01e4e969",
   "metadata": {
    "execution": {
     "iopub.execute_input": "2021-10-31T10:07:44.956694Z",
     "iopub.status.busy": "2021-10-31T10:07:44.956184Z",
     "iopub.status.idle": "2021-10-31T10:07:44.965816Z",
     "shell.execute_reply": "2021-10-31T10:07:44.965162Z"
    },
    "papermill": {
     "duration": 0.050563,
     "end_time": "2021-10-31T10:07:44.965960",
     "exception": false,
     "start_time": "2021-10-31T10:07:44.915397",
     "status": "completed"
    },
    "tags": []
   },
   "outputs": [
    {
     "data": {
      "text/plain": [
       "((11982, 28, 28), (1984, 28, 28))"
      ]
     },
     "execution_count": 13,
     "metadata": {},
     "output_type": "execute_result"
    }
   ],
   "source": [
    "X_train.shape, X_test.shape"
   ]
  },
  {
   "cell_type": "markdown",
   "id": "5ccf3f85",
   "metadata": {
    "papermill": {
     "duration": 0.029105,
     "end_time": "2021-10-31T10:07:45.023508",
     "exception": false,
     "start_time": "2021-10-31T10:07:44.994403",
     "status": "completed"
    },
    "tags": []
   },
   "source": [
    "We reshape the data to flatten the image pixels into a set of features or co-variates:"
   ]
  },
  {
   "cell_type": "code",
   "execution_count": 14,
   "id": "5286a4a3",
   "metadata": {
    "execution": {
     "iopub.execute_input": "2021-10-31T10:07:45.100670Z",
     "iopub.status.busy": "2021-10-31T10:07:45.094988Z",
     "iopub.status.idle": "2021-10-31T10:07:45.103770Z",
     "shell.execute_reply": "2021-10-31T10:07:45.104276Z"
    },
    "papermill": {
     "duration": 0.052326,
     "end_time": "2021-10-31T10:07:45.104394",
     "exception": false,
     "start_time": "2021-10-31T10:07:45.052068",
     "status": "completed"
    },
    "tags": []
   },
   "outputs": [
    {
     "data": {
      "text/plain": [
       "((11982, 784), (1984, 784))"
      ]
     },
     "execution_count": 14,
     "metadata": {},
     "output_type": "execute_result"
    }
   ],
   "source": [
    "X_train = X_train.reshape(X_train.shape[0], -1)\n",
    "X_test = X_test.reshape(X_test.shape[0], -1)\n",
    "X_train.shape, X_test.shape"
   ]
  },
  {
   "cell_type": "code",
   "execution_count": 15,
   "id": "73c5f88a",
   "metadata": {
    "execution": {
     "iopub.execute_input": "2021-10-31T10:07:45.186908Z",
     "iopub.status.busy": "2021-10-31T10:07:45.183381Z",
     "iopub.status.idle": "2021-10-31T10:07:45.194744Z",
     "shell.execute_reply": "2021-10-31T10:07:45.195228Z"
    },
    "papermill": {
     "duration": 0.060087,
     "end_time": "2021-10-31T10:07:45.195356",
     "exception": false,
     "start_time": "2021-10-31T10:07:45.135269",
     "status": "completed"
    },
    "tags": []
   },
   "outputs": [],
   "source": [
    "#Impoting functions from 'Kudzu'\n",
    "from kudzu.model import Model\n",
    "from kudzu.train import Learner\n",
    "from kudzu.optim import GD\n",
    "from kudzu.data import Data, Sampler,Dataloader\n",
    "\n",
    "from kudzu.callbacks import AccCallback\n",
    "from kudzu.callbacks import ClfCallback\n",
    "\n",
    "from kudzu.loss import MSE\n",
    "\n",
    "from kudzu.layer import Sigmoid,Relu\n",
    "from kudzu.layer import Affine"
   ]
  },
  {
   "cell_type": "markdown",
   "id": "bc01172a",
   "metadata": {
    "papermill": {
     "duration": 0.029724,
     "end_time": "2021-10-31T10:07:45.254181",
     "exception": false,
     "start_time": "2021-10-31T10:07:45.224457",
     "status": "completed"
    },
    "tags": []
   },
   "source": [
    "### Let us create a `Config` class, to store important parameters. \n",
    "This class essentially plays the role of a dictionary."
   ]
  },
  {
   "cell_type": "code",
   "execution_count": 16,
   "id": "978281aa",
   "metadata": {
    "execution": {
     "iopub.execute_input": "2021-10-31T10:07:45.332630Z",
     "iopub.status.busy": "2021-10-31T10:07:45.329732Z",
     "iopub.status.idle": "2021-10-31T10:07:45.335624Z",
     "shell.execute_reply": "2021-10-31T10:07:45.334808Z"
    },
    "papermill": {
     "duration": 0.051044,
     "end_time": "2021-10-31T10:07:45.335758",
     "exception": false,
     "start_time": "2021-10-31T10:07:45.284714",
     "status": "completed"
    },
    "tags": []
   },
   "outputs": [],
   "source": [
    "class Config:\n",
    "    pass\n",
    "config = Config()\n",
    "config.lr = 0.001\n",
    "config.num_epochs = 250\n",
    "config.bs = 50"
   ]
  },
  {
   "cell_type": "markdown",
   "id": "1385fa59",
   "metadata": {
    "papermill": {
     "duration": 0.028165,
     "end_time": "2021-10-31T10:07:45.392641",
     "exception": false,
     "start_time": "2021-10-31T10:07:45.364476",
     "status": "completed"
    },
    "tags": []
   },
   "source": [
    "### Running Models with the Training data\n",
    "Details about the network layers:\n",
    "- A first affine layer has 784 inputs and does 100 affine transforms. These are followed by a Relu\n",
    "- A second affine layer has 100 inputs from the 100 activations of the past layer, and does 100 affine transforms. These are followed by a Relu\n",
    "- A third affine layer has 100 activations and does 2 affine transformations to create an embedding for visualization. There is no non-linearity here.\n",
    "- A final \"logistic regression\" which has an affine transform from 2 inputs to 1 output, which is squeezed through a sigmoid.\n"
   ]
  },
  {
   "cell_type": "code",
   "execution_count": 17,
   "id": "2b9c66db",
   "metadata": {
    "execution": {
     "iopub.execute_input": "2021-10-31T10:07:45.454887Z",
     "iopub.status.busy": "2021-10-31T10:07:45.451950Z",
     "iopub.status.idle": "2021-10-31T10:07:45.462728Z",
     "shell.execute_reply": "2021-10-31T10:07:45.463169Z"
    },
    "papermill": {
     "duration": 0.042841,
     "end_time": "2021-10-31T10:07:45.463280",
     "exception": false,
     "start_time": "2021-10-31T10:07:45.420439",
     "status": "completed"
    },
    "tags": []
   },
   "outputs": [],
   "source": [
    "data = Data(X_train, y_train.reshape(-1,1))\n",
    "sampler = Sampler(data, config.bs, shuffle=True)\n",
    "\n",
    "dl = Dataloader(data, sampler)\n",
    "\n",
    "opt = GD(config.lr)\n",
    "loss = MSE()"
   ]
  },
  {
   "cell_type": "code",
   "execution_count": 18,
   "id": "b275e4c2",
   "metadata": {
    "execution": {
     "iopub.execute_input": "2021-10-31T10:07:45.522925Z",
     "iopub.status.busy": "2021-10-31T10:07:45.521860Z",
     "iopub.status.idle": "2021-10-31T10:07:45.534509Z",
     "shell.execute_reply": "2021-10-31T10:07:45.534068Z"
    },
    "papermill": {
     "duration": 0.043498,
     "end_time": "2021-10-31T10:07:45.534610",
     "exception": false,
     "start_time": "2021-10-31T10:07:45.491112",
     "status": "completed"
    },
    "tags": []
   },
   "outputs": [],
   "source": [
    "training_data_x = X_train\n",
    "testing_data_x = X_test\n",
    "training_data_y = y_train.reshape(-1,1)\n",
    "testing_data_y = y_test.reshape(-1,1)"
   ]
  },
  {
   "cell_type": "code",
   "execution_count": 19,
   "id": "76951160",
   "metadata": {
    "execution": {
     "iopub.execute_input": "2021-10-31T10:07:45.595340Z",
     "iopub.status.busy": "2021-10-31T10:07:45.594747Z",
     "iopub.status.idle": "2021-10-31T10:07:45.608927Z",
     "shell.execute_reply": "2021-10-31T10:07:45.609412Z"
    },
    "papermill": {
     "duration": 0.046933,
     "end_time": "2021-10-31T10:07:45.609524",
     "exception": false,
     "start_time": "2021-10-31T10:07:45.562591",
     "status": "completed"
    },
    "tags": []
   },
   "outputs": [
    {
     "name": "stdout",
     "output_type": "stream",
     "text": [
      "xavier\n",
      "xavier\n",
      "xavier\n",
      "xavier\n",
      "xavier\n"
     ]
    }
   ],
   "source": [
    "layers = [Affine(\"first\", 784, 100), Relu(\"first\"), Affine(\"second\", 100, 100), Relu(\"second\"), Affine(\"third\", 100, 2), Affine(\"last\", 2, 1), Sigmoid(\"last\")]\n",
    "model_nn = Model(layers)\n",
    "model_lr = Model([Affine(\"logits\", 784, 1), Sigmoid(\"sigmoid\")])"
   ]
  },
  {
   "cell_type": "code",
   "execution_count": 20,
   "id": "6eede77a",
   "metadata": {
    "execution": {
     "iopub.execute_input": "2021-10-31T10:07:45.672056Z",
     "iopub.status.busy": "2021-10-31T10:07:45.671495Z",
     "iopub.status.idle": "2021-10-31T10:07:45.683330Z",
     "shell.execute_reply": "2021-10-31T10:07:45.682824Z"
    },
    "papermill": {
     "duration": 0.04404,
     "end_time": "2021-10-31T10:07:45.683437",
     "exception": false,
     "start_time": "2021-10-31T10:07:45.639397",
     "status": "completed"
    },
    "tags": []
   },
   "outputs": [],
   "source": [
    "nn_learner = Learner(loss, model_nn, opt, config.num_epochs)\n",
    "acc_nn = ClfCallback(nn_learner, config.bs, training_data_x , testing_data_x, training_data_y, testing_data_y)\n",
    "nn_learner.set_callbacks([acc_nn])"
   ]
  },
  {
   "cell_type": "code",
   "execution_count": 21,
   "id": "877b6cc7",
   "metadata": {
    "execution": {
     "iopub.execute_input": "2021-10-31T10:07:45.744668Z",
     "iopub.status.busy": "2021-10-31T10:07:45.744136Z",
     "iopub.status.idle": "2021-10-31T10:07:45.754873Z",
     "shell.execute_reply": "2021-10-31T10:07:45.755322Z"
    },
    "papermill": {
     "duration": 0.043617,
     "end_time": "2021-10-31T10:07:45.755434",
     "exception": false,
     "start_time": "2021-10-31T10:07:45.711817",
     "status": "completed"
    },
    "tags": []
   },
   "outputs": [],
   "source": [
    "lr_learner = Learner(loss, model_lr, opt, config.num_epochs)\n",
    "acc_lr = ClfCallback(lr_learner, config.bs, training_data_x , testing_data_x, training_data_y, testing_data_y)\n",
    "lr_learner.set_callbacks([acc_lr])"
   ]
  },
  {
   "cell_type": "code",
   "execution_count": 22,
   "id": "d9b133c3",
   "metadata": {
    "execution": {
     "iopub.execute_input": "2021-10-31T10:07:45.816678Z",
     "iopub.status.busy": "2021-10-31T10:07:45.816168Z",
     "iopub.status.idle": "2021-10-31T10:10:01.651901Z",
     "shell.execute_reply": "2021-10-31T10:10:01.652679Z"
    },
    "papermill": {
     "duration": 135.868793,
     "end_time": "2021-10-31T10:10:01.652834",
     "exception": false,
     "start_time": "2021-10-31T10:07:45.784041",
     "status": "completed"
    },
    "tags": []
   },
   "outputs": [
    {
     "name": "stdout",
     "output_type": "stream",
     "text": [
      "Epoch 0, Loss 0.2345\n",
      "Training Accuracy: 0.7441, Testing Accuracy: 0.7480\n",
      "\n"
     ]
    },
    {
     "name": "stdout",
     "output_type": "stream",
     "text": [
      "Epoch 10, Loss 0.1042\n",
      "Training Accuracy: 0.9089, Testing Accuracy: 0.9178\n",
      "\n"
     ]
    },
    {
     "name": "stdout",
     "output_type": "stream",
     "text": [
      "Epoch 20, Loss 0.0596\n",
      "Training Accuracy: 0.9388, Testing Accuracy: 0.9521\n",
      "\n"
     ]
    },
    {
     "name": "stdout",
     "output_type": "stream",
     "text": [
      "Epoch 30, Loss 0.0451\n",
      "Training Accuracy: 0.9505, Testing Accuracy: 0.9597\n",
      "\n"
     ]
    },
    {
     "name": "stdout",
     "output_type": "stream",
     "text": [
      "Epoch 40, Loss 0.0385\n",
      "Training Accuracy: 0.9564, Testing Accuracy: 0.9642\n",
      "\n"
     ]
    },
    {
     "name": "stdout",
     "output_type": "stream",
     "text": [
      "Epoch 50, Loss 0.0347\n",
      "Training Accuracy: 0.9599, Testing Accuracy: 0.9662\n",
      "\n"
     ]
    },
    {
     "name": "stdout",
     "output_type": "stream",
     "text": [
      "Epoch 60, Loss 0.0321\n",
      "Training Accuracy: 0.9629, Testing Accuracy: 0.9672\n",
      "\n"
     ]
    },
    {
     "name": "stdout",
     "output_type": "stream",
     "text": [
      "Epoch 70, Loss 0.0302\n",
      "Training Accuracy: 0.9654, Testing Accuracy: 0.9662\n",
      "\n"
     ]
    },
    {
     "name": "stdout",
     "output_type": "stream",
     "text": [
      "Epoch 80, Loss 0.0288\n",
      "Training Accuracy: 0.9677, Testing Accuracy: 0.9672\n",
      "\n"
     ]
    },
    {
     "name": "stdout",
     "output_type": "stream",
     "text": [
      "Epoch 90, Loss 0.0276\n",
      "Training Accuracy: 0.9687, Testing Accuracy: 0.9682\n",
      "\n"
     ]
    },
    {
     "name": "stdout",
     "output_type": "stream",
     "text": [
      "Epoch 100, Loss 0.0266\n",
      "Training Accuracy: 0.9693, Testing Accuracy: 0.9682\n",
      "\n"
     ]
    },
    {
     "name": "stdout",
     "output_type": "stream",
     "text": [
      "Epoch 110, Loss 0.0257\n",
      "Training Accuracy: 0.9699, Testing Accuracy: 0.9693\n",
      "\n"
     ]
    },
    {
     "name": "stdout",
     "output_type": "stream",
     "text": [
      "Epoch 120, Loss 0.025\n",
      "Training Accuracy: 0.9704, Testing Accuracy: 0.9693\n",
      "\n"
     ]
    },
    {
     "name": "stdout",
     "output_type": "stream",
     "text": [
      "Epoch 130, Loss 0.0243\n",
      "Training Accuracy: 0.9715, Testing Accuracy: 0.9688\n",
      "\n"
     ]
    },
    {
     "name": "stdout",
     "output_type": "stream",
     "text": [
      "Epoch 140, Loss 0.0237\n",
      "Training Accuracy: 0.9725, Testing Accuracy: 0.9688\n",
      "\n"
     ]
    },
    {
     "name": "stdout",
     "output_type": "stream",
     "text": [
      "Epoch 150, Loss 0.0231\n",
      "Training Accuracy: 0.9732, Testing Accuracy: 0.9693\n",
      "\n"
     ]
    },
    {
     "name": "stdout",
     "output_type": "stream",
     "text": [
      "Epoch 160, Loss 0.0226\n",
      "Training Accuracy: 0.9734, Testing Accuracy: 0.9693\n",
      "\n"
     ]
    },
    {
     "name": "stdout",
     "output_type": "stream",
     "text": [
      "Epoch 170, Loss 0.0221\n",
      "Training Accuracy: 0.9745, Testing Accuracy: 0.9693\n",
      "\n"
     ]
    },
    {
     "name": "stdout",
     "output_type": "stream",
     "text": [
      "Epoch 180, Loss 0.0217\n",
      "Training Accuracy: 0.9754, Testing Accuracy: 0.9698\n",
      "\n"
     ]
    },
    {
     "name": "stdout",
     "output_type": "stream",
     "text": [
      "Epoch 190, Loss 0.0212\n",
      "Training Accuracy: 0.9761, Testing Accuracy: 0.9703\n",
      "\n"
     ]
    },
    {
     "name": "stdout",
     "output_type": "stream",
     "text": [
      "Epoch 200, Loss 0.0208\n",
      "Training Accuracy: 0.9766, Testing Accuracy: 0.9703\n",
      "\n"
     ]
    },
    {
     "name": "stdout",
     "output_type": "stream",
     "text": [
      "Epoch 210, Loss 0.0204\n",
      "Training Accuracy: 0.9772, Testing Accuracy: 0.9703\n",
      "\n"
     ]
    },
    {
     "name": "stdout",
     "output_type": "stream",
     "text": [
      "Epoch 220, Loss 0.02\n",
      "Training Accuracy: 0.9781, Testing Accuracy: 0.9698\n",
      "\n"
     ]
    },
    {
     "name": "stdout",
     "output_type": "stream",
     "text": [
      "Epoch 230, Loss 0.0197\n",
      "Training Accuracy: 0.9782, Testing Accuracy: 0.9698\n",
      "\n"
     ]
    },
    {
     "name": "stdout",
     "output_type": "stream",
     "text": [
      "Epoch 240, Loss 0.0193\n",
      "Training Accuracy: 0.9790, Testing Accuracy: 0.9698\n",
      "\n"
     ]
    },
    {
     "data": {
      "text/plain": [
       "0.005483411394856292"
      ]
     },
     "execution_count": 22,
     "metadata": {},
     "output_type": "execute_result"
    }
   ],
   "source": [
    "nn_learner.train_loop(dl)"
   ]
  },
  {
   "cell_type": "code",
   "execution_count": 23,
   "id": "e0163366",
   "metadata": {
    "execution": {
     "iopub.execute_input": "2021-10-31T10:10:01.749092Z",
     "iopub.status.busy": "2021-10-31T10:10:01.748475Z",
     "iopub.status.idle": "2021-10-31T10:10:20.422372Z",
     "shell.execute_reply": "2021-10-31T10:10:20.423084Z"
    },
    "papermill": {
     "duration": 18.728534,
     "end_time": "2021-10-31T10:10:20.423226",
     "exception": false,
     "start_time": "2021-10-31T10:10:01.694692",
     "status": "completed"
    },
    "tags": []
   },
   "outputs": [
    {
     "name": "stdout",
     "output_type": "stream",
     "text": [
      "Epoch 0, Loss 0.2184\n",
      "Training Accuracy: 0.7736, Testing Accuracy: 0.7918\n",
      "\n"
     ]
    },
    {
     "name": "stdout",
     "output_type": "stream",
     "text": [
      "Epoch 10, Loss 0.1019\n",
      "Training Accuracy: 0.9103, Testing Accuracy: 0.9229\n",
      "\n"
     ]
    },
    {
     "name": "stdout",
     "output_type": "stream",
     "text": [
      "Epoch 20, Loss 0.0792\n",
      "Training Accuracy: 0.9268, Testing Accuracy: 0.9390\n",
      "\n"
     ]
    },
    {
     "name": "stdout",
     "output_type": "stream",
     "text": [
      "Epoch 30, Loss 0.0685\n",
      "Training Accuracy: 0.9357, Testing Accuracy: 0.9496\n",
      "\n"
     ]
    },
    {
     "name": "stdout",
     "output_type": "stream",
     "text": [
      "Epoch 40, Loss 0.062\n",
      "Training Accuracy: 0.9404, Testing Accuracy: 0.9567\n",
      "\n"
     ]
    },
    {
     "name": "stdout",
     "output_type": "stream",
     "text": [
      "Epoch 50, Loss 0.0575\n",
      "Training Accuracy: 0.9441, Testing Accuracy: 0.9572\n",
      "\n"
     ]
    },
    {
     "name": "stdout",
     "output_type": "stream",
     "text": [
      "Epoch 60, Loss 0.0543\n",
      "Training Accuracy: 0.9470, Testing Accuracy: 0.9592\n",
      "\n"
     ]
    },
    {
     "name": "stdout",
     "output_type": "stream",
     "text": [
      "Epoch 70, Loss 0.0517\n",
      "Training Accuracy: 0.9484, Testing Accuracy: 0.9607\n",
      "\n"
     ]
    },
    {
     "name": "stdout",
     "output_type": "stream",
     "text": [
      "Epoch 80, Loss 0.0497\n",
      "Training Accuracy: 0.9496, Testing Accuracy: 0.9622\n",
      "\n"
     ]
    },
    {
     "name": "stdout",
     "output_type": "stream",
     "text": [
      "Epoch 90, Loss 0.048\n",
      "Training Accuracy: 0.9508, Testing Accuracy: 0.9622\n",
      "\n"
     ]
    },
    {
     "name": "stdout",
     "output_type": "stream",
     "text": [
      "Epoch 100, Loss 0.0465\n",
      "Training Accuracy: 0.9520, Testing Accuracy: 0.9627\n",
      "\n"
     ]
    },
    {
     "name": "stdout",
     "output_type": "stream",
     "text": [
      "Epoch 110, Loss 0.0453\n",
      "Training Accuracy: 0.9528, Testing Accuracy: 0.9637\n",
      "\n"
     ]
    },
    {
     "name": "stdout",
     "output_type": "stream",
     "text": [
      "Epoch 120, Loss 0.0442\n",
      "Training Accuracy: 0.9537, Testing Accuracy: 0.9647\n",
      "\n"
     ]
    },
    {
     "name": "stdout",
     "output_type": "stream",
     "text": [
      "Epoch 130, Loss 0.0433\n",
      "Training Accuracy: 0.9544, Testing Accuracy: 0.9652\n",
      "\n"
     ]
    },
    {
     "name": "stdout",
     "output_type": "stream",
     "text": [
      "Epoch 140, Loss 0.0425\n",
      "Training Accuracy: 0.9550, Testing Accuracy: 0.9652\n",
      "\n"
     ]
    },
    {
     "name": "stdout",
     "output_type": "stream",
     "text": [
      "Epoch 150, Loss 0.0417\n",
      "Training Accuracy: 0.9558, Testing Accuracy: 0.9662\n",
      "\n"
     ]
    },
    {
     "name": "stdout",
     "output_type": "stream",
     "text": [
      "Epoch 160, Loss 0.041\n",
      "Training Accuracy: 0.9562, Testing Accuracy: 0.9657\n",
      "\n"
     ]
    },
    {
     "name": "stdout",
     "output_type": "stream",
     "text": [
      "Epoch 170, Loss 0.0404\n",
      "Training Accuracy: 0.9569, Testing Accuracy: 0.9657\n",
      "\n"
     ]
    },
    {
     "name": "stdout",
     "output_type": "stream",
     "text": [
      "Epoch 180, Loss 0.0398\n",
      "Training Accuracy: 0.9576, Testing Accuracy: 0.9662\n",
      "\n"
     ]
    },
    {
     "name": "stdout",
     "output_type": "stream",
     "text": [
      "Epoch 190, Loss 0.0393\n",
      "Training Accuracy: 0.9580, Testing Accuracy: 0.9662\n",
      "\n"
     ]
    },
    {
     "name": "stdout",
     "output_type": "stream",
     "text": [
      "Epoch 200, Loss 0.0388\n",
      "Training Accuracy: 0.9583, Testing Accuracy: 0.9657\n",
      "\n"
     ]
    },
    {
     "name": "stdout",
     "output_type": "stream",
     "text": [
      "Epoch 210, Loss 0.0384\n",
      "Training Accuracy: 0.9587, Testing Accuracy: 0.9662\n",
      "\n"
     ]
    },
    {
     "name": "stdout",
     "output_type": "stream",
     "text": [
      "Epoch 220, Loss 0.038\n",
      "Training Accuracy: 0.9589, Testing Accuracy: 0.9667\n",
      "\n"
     ]
    },
    {
     "name": "stdout",
     "output_type": "stream",
     "text": [
      "Epoch 230, Loss 0.0376\n",
      "Training Accuracy: 0.9598, Testing Accuracy: 0.9662\n",
      "\n"
     ]
    },
    {
     "name": "stdout",
     "output_type": "stream",
     "text": [
      "Epoch 240, Loss 0.0372\n",
      "Training Accuracy: 0.9602, Testing Accuracy: 0.9662\n",
      "\n"
     ]
    },
    {
     "data": {
      "text/plain": [
       "0.07222636882948716"
      ]
     },
     "execution_count": 23,
     "metadata": {},
     "output_type": "execute_result"
    }
   ],
   "source": [
    "lr_learner.train_loop(dl)"
   ]
  },
  {
   "cell_type": "code",
   "execution_count": 24,
   "id": "ca410940",
   "metadata": {
    "execution": {
     "iopub.execute_input": "2021-10-31T10:10:20.523767Z",
     "iopub.status.busy": "2021-10-31T10:10:20.523201Z",
     "iopub.status.idle": "2021-10-31T10:10:20.776724Z",
     "shell.execute_reply": "2021-10-31T10:10:20.776185Z"
    },
    "papermill": {
     "duration": 0.307294,
     "end_time": "2021-10-31T10:10:20.776844",
     "exception": false,
     "start_time": "2021-10-31T10:10:20.469550",
     "status": "completed"
    },
    "tags": []
   },
   "outputs": [
    {
     "data": {
      "text/plain": [
       "<matplotlib.legend.Legend at 0x7fed10c20780>"
      ]
     },
     "execution_count": 24,
     "metadata": {},
     "output_type": "execute_result"
    },
    {
     "data": {
      "image/png": "[encoded data removed]",
      "text/plain": [
       "<Figure size 1080x720 with 1 Axes>"
      ]
     },
     "metadata": {
      "needs_background": "light"
     },
     "output_type": "display_data"
    }
   ],
   "source": [
    "#comparing the results of NN and LR\n",
    "plt.figure(figsize=(15,10))\n",
    "\n",
    "# Neural Network plots\n",
    "plt.plot(acc_nn.accuracies, 'r-', label = \"Training Accuracies - NN\")\n",
    "plt.plot(acc_nn.test_accuracies, 'g-', label = \"Testing Accuracies - NN\")\n",
    "\n",
    "# Logistic Regression plots\n",
    "plt.plot(acc_lr.accuracies, 'k-', label = \"Training Accuracies - LR\")\n",
    "plt.plot(acc_lr.test_accuracies, 'b-', label = \"Testing Accuracies - LR\")\n",
    "plt.legend()"
   ]
  },
  {
   "cell_type": "markdown",
   "id": "80dfb35c",
   "metadata": {
    "papermill": {
     "duration": 0.043704,
     "end_time": "2021-10-31T10:10:20.866469",
     "exception": false,
     "start_time": "2021-10-31T10:10:20.822765",
     "status": "completed"
    },
    "tags": []
   },
   "source": [
    "#### Plotting the outputs of this layer of the NN.\n"
   ]
  },
  {
   "cell_type": "code",
   "execution_count": 25,
   "id": "45eb2ff5",
   "metadata": {
    "execution": {
     "iopub.execute_input": "2021-10-31T10:10:20.968498Z",
     "iopub.status.busy": "2021-10-31T10:10:20.966390Z",
     "iopub.status.idle": "2021-10-31T10:10:20.991472Z",
     "shell.execute_reply": "2021-10-31T10:10:20.992003Z"
    },
    "papermill": {
     "duration": 0.077745,
     "end_time": "2021-10-31T10:10:20.992215",
     "exception": false,
     "start_time": "2021-10-31T10:10:20.914470",
     "status": "completed"
    },
    "tags": []
   },
   "outputs": [],
   "source": [
    "new_model = Model(layers[:-2])\n",
    "testing_plot = new_model(testing_data_x)"
   ]
  },
  {
   "cell_type": "code",
   "execution_count": 26,
   "id": "4c0a5485",
   "metadata": {
    "execution": {
     "iopub.execute_input": "2021-10-31T10:10:21.116140Z",
     "iopub.status.busy": "2021-10-31T10:10:21.115296Z",
     "iopub.status.idle": "2021-10-31T10:10:21.359196Z",
     "shell.execute_reply": "2021-10-31T10:10:21.358734Z"
    },
    "papermill": {
     "duration": 0.31163,
     "end_time": "2021-10-31T10:10:21.359313",
     "exception": false,
     "start_time": "2021-10-31T10:10:21.047683",
     "status": "completed"
    },
    "tags": []
   },
   "outputs": [
    {
     "data": {
      "text/plain": [
       "Text(0.5, 1.0, 'Outputs')"
      ]
     },
     "execution_count": 26,
     "metadata": {},
     "output_type": "execute_result"
    },
    {
     "data": {
      "image/png": "[encoded data removed]",
      "text/plain": [
       "<Figure size 576x504 with 1 Axes>"
      ]
     },
     "metadata": {
      "needs_background": "light"
     },
     "output_type": "display_data"
    }
   ],
   "source": [
    "# Plotting the scatter plot of points and color coding by class\n",
    "plt.figure(figsize=(8,7))\n",
    "plt.scatter(testing_plot[:,0], testing_plot[:,1], alpha = 0.1, c = y_test.ravel());\n",
    "plt.title('Outputs')"
   ]
  },
  {
   "cell_type": "markdown",
   "id": "a74fcf8f",
   "metadata": {
    "papermill": {
     "duration": 0.048174,
     "end_time": "2021-10-31T10:10:21.458862",
     "exception": false,
     "start_time": "2021-10-31T10:10:21.410688",
     "status": "completed"
    },
    "tags": []
   },
   "source": [
    "Probability contours"
   ]
  },
  {
   "cell_type": "code",
   "execution_count": 27,
   "id": "d0afc8e3",
   "metadata": {
    "execution": {
     "iopub.execute_input": "2021-10-31T10:10:21.583685Z",
     "iopub.status.busy": "2021-10-31T10:10:21.582964Z",
     "iopub.status.idle": "2021-10-31T10:10:21.594818Z",
     "shell.execute_reply": "2021-10-31T10:10:21.594104Z"
    },
    "papermill": {
     "duration": 0.08814,
     "end_time": "2021-10-31T10:10:21.594952",
     "exception": false,
     "start_time": "2021-10-31T10:10:21.506812",
     "status": "completed"
    },
    "tags": []
   },
   "outputs": [],
   "source": [
    "model_prob = Model(layers[-2:]) "
   ]
  },
  {
   "cell_type": "code",
   "execution_count": 28,
   "id": "9b96e238",
   "metadata": {
    "execution": {
     "iopub.execute_input": "2021-10-31T10:10:21.703328Z",
     "iopub.status.busy": "2021-10-31T10:10:21.702767Z",
     "iopub.status.idle": "2021-10-31T10:10:21.716262Z",
     "shell.execute_reply": "2021-10-31T10:10:21.716692Z"
    },
    "papermill": {
     "duration": 0.070027,
     "end_time": "2021-10-31T10:10:21.716817",
     "exception": false,
     "start_time": "2021-10-31T10:10:21.646790",
     "status": "completed"
    },
    "tags": []
   },
   "outputs": [],
   "source": [
    "#creating the x and y ranges according to the above generated plot.\n",
    "x_range = np.linspace(-4, 1, 100) \n",
    "y_range = np.linspace(-6, 6, 100) \n",
    "x_grid, y_grid = np.meshgrid(x_range, y_range) # x_grid and y_grig are of size 100 X 100\n",
    "\n",
    "# converting x_grid and y_grid to continuous arrays\n",
    "x_gridflat = np.ravel(x_grid)\n",
    "y_gridflat = np.ravel(y_grid)\n",
    "\n",
    "# The last layer of the current model takes two columns as input. Hence transpose of np.vstack() is required.\n",
    "X = np.vstack((x_gridflat, y_gridflat)).T\n",
    "\n",
    "prob_contour = model_prob(X).reshape(100,100) "
   ]
  },
  {
   "cell_type": "code",
   "execution_count": 29,
   "id": "da72499a",
   "metadata": {
    "execution": {
     "iopub.execute_input": "2021-10-31T10:10:21.831286Z",
     "iopub.status.busy": "2021-10-31T10:10:21.830717Z",
     "iopub.status.idle": "2021-10-31T10:10:22.121290Z",
     "shell.execute_reply": "2021-10-31T10:10:22.120288Z"
    },
    "papermill": {
     "duration": 0.350439,
     "end_time": "2021-10-31T10:10:22.121415",
     "exception": false,
     "start_time": "2021-10-31T10:10:21.770976",
     "status": "completed"
    },
    "tags": []
   },
   "outputs": [
    {
     "data": {
      "image/png": "[encoded data removed]",
      "text/plain": [
       "<Figure size 720x648 with 1 Axes>"
      ]
     },
     "metadata": {
      "needs_background": "light"
     },
     "output_type": "display_data"
    }
   ],
   "source": [
    "plt.figure(figsize=(10,9))\n",
    "plt.scatter(testing_plot[:,0], testing_plot[:,1], alpha = 0.1, c = y_test.ravel())\n",
    "contours = plt.contour(x_grid,y_grid,prob_contour)\n",
    "plt.title('Probability Contours')\n",
    "plt.clabel(contours, inline = True );"
   ]
  },
  {
   "cell_type": "code",
   "execution_count": null,
   "id": "e81b4ac7",
   "metadata": {
    "papermill": {
     "duration": 0.049062,
     "end_time": "2021-10-31T10:10:22.218756",
     "exception": false,
     "start_time": "2021-10-31T10:10:22.169694",
     "status": "completed"
    },
    "tags": []
   },
   "outputs": [],
   "source": []
  }
 ],
 "metadata": {
  "kernelspec": {
   "display_name": "Python 3",
   "language": "python",
   "name": "python3"
  },
  "language_info": {
   "codemirror_mode": {
    "name": "ipython",
    "version": 3
   },
   "file_extension": ".py",
   "mimetype": "text/x-python",
   "name": "python",
   "nbconvert_exporter": "python",
   "pygments_lexer": "ipython3",
   "version": "3.6.15"
  },
  "papermill": {
   "default_parameters": {},
   "duration": 163.998964,
   "end_time": "2021-10-31T10:10:22.576865",
   "environment_variables": {},
   "exception": null,
   "input_path": "2020-08-11-part2.ipynb",
   "output_path": "2020-08-11-part2.ipynb",
   "parameters": {},
   "start_time": "2021-10-31T10:07:38.577901",
   "version": "2.3.3"
  }
 },
 "nbformat": 4,
 "nbformat_minor": 5
}