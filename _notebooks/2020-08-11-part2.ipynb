{
 "cells": [
  {
   "cell_type": "markdown",
   "id": "98380cd3",
   "metadata": {
    "papermill": {
     "duration": 0.028645,
     "end_time": "2021-12-22T10:08:33.024309",
     "exception": false,
     "start_time": "2021-12-22T10:08:32.995664",
     "status": "completed"
    },
    "tags": []
   },
   "source": [
    "# Distinguish Your Own Digits (DYOD)"
   ]
  },
  {
   "cell_type": "markdown",
   "id": "ef31240d",
   "metadata": {
    "papermill": {
     "duration": 0.023486,
     "end_time": "2021-12-22T10:08:33.072020",
     "exception": false,
     "start_time": "2021-12-22T10:08:33.048534",
     "status": "completed"
    },
    "tags": []
   },
   "source": [
    "You are going to write a classifier that distinguishes between the number 3 and number 8."
   ]
  },
  {
   "cell_type": "code",
   "execution_count": 1,
   "id": "b15c8646",
   "metadata": {
    "execution": {
     "iopub.execute_input": "2021-12-22T10:08:33.130517Z",
     "iopub.status.busy": "2021-12-22T10:08:33.127890Z",
     "iopub.status.idle": "2021-12-22T10:08:33.140078Z",
     "shell.execute_reply": "2021-12-22T10:08:33.140562Z"
    },
    "papermill": {
     "duration": 0.045148,
     "end_time": "2021-12-22T10:08:33.140708",
     "exception": false,
     "start_time": "2021-12-22T10:08:33.095560",
     "status": "completed"
    },
    "tags": []
   },
   "outputs": [],
   "source": [
    "%load_ext autoreload\n",
    "%autoreload 2"
   ]
  },
  {
   "cell_type": "code",
   "execution_count": 2,
   "id": "22ef38dc",
   "metadata": {
    "execution": {
     "iopub.execute_input": "2021-12-22T10:08:33.200063Z",
     "iopub.status.busy": "2021-12-22T10:08:33.199542Z",
     "iopub.status.idle": "2021-12-22T10:08:33.785184Z",
     "shell.execute_reply": "2021-12-22T10:08:33.784638Z"
    },
    "papermill": {
     "duration": 0.621007,
     "end_time": "2021-12-22T10:08:33.785334",
     "exception": false,
     "start_time": "2021-12-22T10:08:33.164327",
     "status": "completed"
    },
    "tags": []
   },
   "outputs": [],
   "source": [
    "%matplotlib inline\n",
    "import numpy as np\n",
    "import matplotlib.pyplot as plt\n",
    "import pandas as pd"
   ]
  },
  {
   "cell_type": "markdown",
   "id": "ba036198",
   "metadata": {
    "papermill": {
     "duration": 0.023737,
     "end_time": "2021-12-22T10:08:33.833200",
     "exception": false,
     "start_time": "2021-12-22T10:08:33.809463",
     "status": "completed"
    },
    "tags": []
   },
   "source": [
    "From the command line run `pip install mnist`. This is a library that will help you bring down the mnist dataset. If you run this from a notebook, you need to put  `!pip install mnist` in a cell by itself."
   ]
  },
  {
   "cell_type": "code",
   "execution_count": 3,
   "id": "bb6ad8a1",
   "metadata": {
    "execution": {
     "iopub.execute_input": "2021-12-22T10:08:33.886767Z",
     "iopub.status.busy": "2021-12-22T10:08:33.886251Z",
     "iopub.status.idle": "2021-12-22T10:08:36.420500Z",
     "shell.execute_reply": "2021-12-22T10:08:36.419746Z"
    },
    "papermill": {
     "duration": 2.563602,
     "end_time": "2021-12-22T10:08:36.420629",
     "exception": false,
     "start_time": "2021-12-22T10:08:33.857027",
     "status": "completed"
    },
    "tags": []
   },
   "outputs": [
    {
     "name": "stdout",
     "output_type": "stream",
     "text": [
      "Collecting mnist\r\n"
     ]
    },
    {
     "name": "stdout",
     "output_type": "stream",
     "text": [
      "  Downloading mnist-0.2.2-py2.py3-none-any.whl (3.5 kB)\r\n",
      "Requirement already satisfied: numpy in /opt/hostedtoolcache/Python/3.6.15/x64/lib/python3.6/site-packages (from mnist) (1.19.5)\r\n"
     ]
    },
    {
     "name": "stdout",
     "output_type": "stream",
     "text": [
      "Installing collected packages: mnist\r\n"
     ]
    },
    {
     "name": "stdout",
     "output_type": "stream",
     "text": [
      "Successfully installed mnist-0.2.2\r\n"
     ]
    }
   ],
   "source": [
    "!pip install mnist"
   ]
  },
  {
   "cell_type": "markdown",
   "id": "69df9c9a",
   "metadata": {
    "papermill": {
     "duration": 0.024682,
     "end_time": "2021-12-22T10:08:36.471410",
     "exception": false,
     "start_time": "2021-12-22T10:08:36.446728",
     "status": "completed"
    },
    "tags": []
   },
   "source": [
    "## Preparing the Data"
   ]
  },
  {
   "cell_type": "code",
   "execution_count": 4,
   "id": "7f69d806",
   "metadata": {
    "execution": {
     "iopub.execute_input": "2021-12-22T10:08:36.527477Z",
     "iopub.status.busy": "2021-12-22T10:08:36.526934Z",
     "iopub.status.idle": "2021-12-22T10:08:36.540749Z",
     "shell.execute_reply": "2021-12-22T10:08:36.540308Z"
    },
    "papermill": {
     "duration": 0.044552,
     "end_time": "2021-12-22T10:08:36.540860",
     "exception": false,
     "start_time": "2021-12-22T10:08:36.496308",
     "status": "completed"
    },
    "tags": []
   },
   "outputs": [],
   "source": [
    "import mnist"
   ]
  },
  {
   "cell_type": "code",
   "execution_count": 5,
   "id": "a411e44f",
   "metadata": {
    "execution": {
     "iopub.execute_input": "2021-12-22T10:08:36.610541Z",
     "iopub.status.busy": "2021-12-22T10:08:36.603592Z",
     "iopub.status.idle": "2021-12-22T10:08:37.290442Z",
     "shell.execute_reply": "2021-12-22T10:08:37.289868Z"
    },
    "papermill": {
     "duration": 0.724891,
     "end_time": "2021-12-22T10:08:37.290575",
     "exception": false,
     "start_time": "2021-12-22T10:08:36.565684",
     "status": "completed"
    },
    "tags": []
   },
   "outputs": [],
   "source": [
    "train_images = mnist.train_images()\n",
    "train_labels = mnist.train_labels()"
   ]
  },
  {
   "cell_type": "code",
   "execution_count": 6,
   "id": "dceab3a5",
   "metadata": {
    "execution": {
     "iopub.execute_input": "2021-12-22T10:08:37.347123Z",
     "iopub.status.busy": "2021-12-22T10:08:37.346572Z",
     "iopub.status.idle": "2021-12-22T10:08:37.359242Z",
     "shell.execute_reply": "2021-12-22T10:08:37.358802Z"
    },
    "papermill": {
     "duration": 0.043106,
     "end_time": "2021-12-22T10:08:37.359359",
     "exception": false,
     "start_time": "2021-12-22T10:08:37.316253",
     "status": "completed"
    },
    "tags": []
   },
   "outputs": [
    {
     "data": {
      "text/plain": [
       "((60000, 28, 28), (60000,))"
      ]
     },
     "execution_count": 6,
     "metadata": {},
     "output_type": "execute_result"
    }
   ],
   "source": [
    "train_images.shape, train_labels.shape"
   ]
  },
  {
   "cell_type": "code",
   "execution_count": 7,
   "id": "f50dc2bb",
   "metadata": {
    "execution": {
     "iopub.execute_input": "2021-12-22T10:08:37.412965Z",
     "iopub.status.busy": "2021-12-22T10:08:37.412458Z",
     "iopub.status.idle": "2021-12-22T10:08:37.652767Z",
     "shell.execute_reply": "2021-12-22T10:08:37.653233Z"
    },
    "papermill": {
     "duration": 0.269068,
     "end_time": "2021-12-22T10:08:37.653390",
     "exception": false,
     "start_time": "2021-12-22T10:08:37.384322",
     "status": "completed"
    },
    "tags": []
   },
   "outputs": [],
   "source": [
    "test_images = mnist.test_images()\n",
    "test_labels = mnist.test_labels()"
   ]
  },
  {
   "cell_type": "code",
   "execution_count": 8,
   "id": "fc38cf1b",
   "metadata": {
    "execution": {
     "iopub.execute_input": "2021-12-22T10:08:37.722327Z",
     "iopub.status.busy": "2021-12-22T10:08:37.719653Z",
     "iopub.status.idle": "2021-12-22T10:08:37.724828Z",
     "shell.execute_reply": "2021-12-22T10:08:37.725211Z"
    },
    "papermill": {
     "duration": 0.04641,
     "end_time": "2021-12-22T10:08:37.725349",
     "exception": false,
     "start_time": "2021-12-22T10:08:37.678939",
     "status": "completed"
    },
    "tags": []
   },
   "outputs": [
    {
     "data": {
      "text/plain": [
       "((10000, 28, 28), (10000,))"
      ]
     },
     "execution_count": 8,
     "metadata": {},
     "output_type": "execute_result"
    }
   ],
   "source": [
    "test_images.shape, test_labels.shape"
   ]
  },
  {
   "cell_type": "code",
   "execution_count": 9,
   "id": "f9ed8fe0",
   "metadata": {
    "execution": {
     "iopub.execute_input": "2021-12-22T10:08:37.787912Z",
     "iopub.status.busy": "2021-12-22T10:08:37.783452Z",
     "iopub.status.idle": "2021-12-22T10:08:37.921162Z",
     "shell.execute_reply": "2021-12-22T10:08:37.920676Z"
    },
    "papermill": {
     "duration": 0.170614,
     "end_time": "2021-12-22T10:08:37.921296",
     "exception": false,
     "start_time": "2021-12-22T10:08:37.750682",
     "status": "completed"
    },
    "tags": []
   },
   "outputs": [
    {
     "name": "stdout",
     "output_type": "stream",
     "text": [
      "2\n"
     ]
    },
    {
     "data": {
      "text/plain": [
       "<matplotlib.image.AxesImage at 0x7f744e830588>"
      ]
     },
     "execution_count": 9,
     "metadata": {},
     "output_type": "execute_result"
    },
    {
     "data": {
      "image/png": "[encoded data removed]",
      "text/plain": [
       "<Figure size 432x288 with 1 Axes>"
      ]
     },
     "metadata": {
      "needs_background": "light"
     },
     "output_type": "display_data"
    }
   ],
   "source": [
    "image_index = 7776 # You may select anything up to 60,000\n",
    "print(train_labels[image_index]) \n",
    "plt.imshow(train_images[image_index], cmap='Greys')"
   ]
  },
  {
   "cell_type": "markdown",
   "id": "a8d2388d",
   "metadata": {
    "papermill": {
     "duration": 0.026812,
     "end_time": "2021-12-22T10:08:37.975569",
     "exception": false,
     "start_time": "2021-12-22T10:08:37.948757",
     "status": "completed"
    },
    "tags": []
   },
   "source": [
    "## Filter data to get 3 and 8 out"
   ]
  },
  {
   "cell_type": "code",
   "execution_count": 10,
   "id": "776f7fc7",
   "metadata": {
    "execution": {
     "iopub.execute_input": "2021-12-22T10:08:38.036213Z",
     "iopub.status.busy": "2021-12-22T10:08:38.035674Z",
     "iopub.status.idle": "2021-12-22T10:08:38.052421Z",
     "shell.execute_reply": "2021-12-22T10:08:38.052863Z"
    },
    "papermill": {
     "duration": 0.051067,
     "end_time": "2021-12-22T10:08:38.052999",
     "exception": false,
     "start_time": "2021-12-22T10:08:38.001932",
     "status": "completed"
    },
    "tags": []
   },
   "outputs": [],
   "source": [
    "train_filter = np.where((train_labels == 3 ) | (train_labels == 8))\n",
    "test_filter = np.where((test_labels == 3) | (test_labels == 8))\n",
    "X_train, y_train = train_images[train_filter], train_labels[train_filter]\n",
    "X_test, y_test = test_images[test_filter], test_labels[test_filter]"
   ]
  },
  {
   "cell_type": "markdown",
   "id": "948f0b7e",
   "metadata": {
    "papermill": {
     "duration": 0.026436,
     "end_time": "2021-12-22T10:08:38.106631",
     "exception": false,
     "start_time": "2021-12-22T10:08:38.080195",
     "status": "completed"
    },
    "tags": []
   },
   "source": [
    "We normalize the pizel values in the 0 to 1 range"
   ]
  },
  {
   "cell_type": "code",
   "execution_count": 11,
   "id": "ee4c2166",
   "metadata": {
    "execution": {
     "iopub.execute_input": "2021-12-22T10:08:38.164159Z",
     "iopub.status.busy": "2021-12-22T10:08:38.163635Z",
     "iopub.status.idle": "2021-12-22T10:08:38.211497Z",
     "shell.execute_reply": "2021-12-22T10:08:38.210974Z"
    },
    "papermill": {
     "duration": 0.078444,
     "end_time": "2021-12-22T10:08:38.211636",
     "exception": false,
     "start_time": "2021-12-22T10:08:38.133192",
     "status": "completed"
    },
    "tags": []
   },
   "outputs": [],
   "source": [
    "X_train = X_train/255.\n",
    "X_test = X_test/255."
   ]
  },
  {
   "cell_type": "markdown",
   "id": "ddcf4fab",
   "metadata": {
    "papermill": {
     "duration": 0.026532,
     "end_time": "2021-12-22T10:08:38.266142",
     "exception": false,
     "start_time": "2021-12-22T10:08:38.239610",
     "status": "completed"
    },
    "tags": []
   },
   "source": [
    "And setup the labels as 1 (when the digit is 3) and 0 (when the digit is 8)"
   ]
  },
  {
   "cell_type": "code",
   "execution_count": 12,
   "id": "7dc908f2",
   "metadata": {
    "execution": {
     "iopub.execute_input": "2021-12-22T10:08:38.325038Z",
     "iopub.status.busy": "2021-12-22T10:08:38.324500Z",
     "iopub.status.idle": "2021-12-22T10:08:38.334858Z",
     "shell.execute_reply": "2021-12-22T10:08:38.334425Z"
    },
    "papermill": {
     "duration": 0.042436,
     "end_time": "2021-12-22T10:08:38.334972",
     "exception": false,
     "start_time": "2021-12-22T10:08:38.292536",
     "status": "completed"
    },
    "tags": []
   },
   "outputs": [],
   "source": [
    "y_train = 1*(y_train==3)\n",
    "y_test = 1*(y_test==3)"
   ]
  },
  {
   "cell_type": "code",
   "execution_count": 13,
   "id": "01e4e969",
   "metadata": {
    "execution": {
     "iopub.execute_input": "2021-12-22T10:08:38.393833Z",
     "iopub.status.busy": "2021-12-22T10:08:38.393327Z",
     "iopub.status.idle": "2021-12-22T10:08:38.404249Z",
     "shell.execute_reply": "2021-12-22T10:08:38.404684Z"
    },
    "papermill": {
     "duration": 0.043019,
     "end_time": "2021-12-22T10:08:38.404807",
     "exception": false,
     "start_time": "2021-12-22T10:08:38.361788",
     "status": "completed"
    },
    "tags": []
   },
   "outputs": [
    {
     "data": {
      "text/plain": [
       "((11982, 28, 28), (1984, 28, 28))"
      ]
     },
     "execution_count": 13,
     "metadata": {},
     "output_type": "execute_result"
    }
   ],
   "source": [
    "X_train.shape, X_test.shape"
   ]
  },
  {
   "cell_type": "markdown",
   "id": "5ccf3f85",
   "metadata": {
    "papermill": {
     "duration": 0.026589,
     "end_time": "2021-12-22T10:08:38.458266",
     "exception": false,
     "start_time": "2021-12-22T10:08:38.431677",
     "status": "completed"
    },
    "tags": []
   },
   "source": [
    "We reshape the data to flatten the image pixels into a set of features or co-variates:"
   ]
  },
  {
   "cell_type": "code",
   "execution_count": 14,
   "id": "5286a4a3",
   "metadata": {
    "execution": {
     "iopub.execute_input": "2021-12-22T10:08:38.516931Z",
     "iopub.status.busy": "2021-12-22T10:08:38.516400Z",
     "iopub.status.idle": "2021-12-22T10:08:38.529160Z",
     "shell.execute_reply": "2021-12-22T10:08:38.529549Z"
    },
    "papermill": {
     "duration": 0.044645,
     "end_time": "2021-12-22T10:08:38.529687",
     "exception": false,
     "start_time": "2021-12-22T10:08:38.485042",
     "status": "completed"
    },
    "tags": []
   },
   "outputs": [
    {
     "data": {
      "text/plain": [
       "((11982, 784), (1984, 784))"
      ]
     },
     "execution_count": 14,
     "metadata": {},
     "output_type": "execute_result"
    }
   ],
   "source": [
    "X_train = X_train.reshape(X_train.shape[0], -1)\n",
    "X_test = X_test.reshape(X_test.shape[0], -1)\n",
    "X_train.shape, X_test.shape"
   ]
  },
  {
   "cell_type": "code",
   "execution_count": 15,
   "id": "73c5f88a",
   "metadata": {
    "execution": {
     "iopub.execute_input": "2021-12-22T10:08:38.599563Z",
     "iopub.status.busy": "2021-12-22T10:08:38.594281Z",
     "iopub.status.idle": "2021-12-22T10:08:38.607750Z",
     "shell.execute_reply": "2021-12-22T10:08:38.608134Z"
    },
    "papermill": {
     "duration": 0.051739,
     "end_time": "2021-12-22T10:08:38.608259",
     "exception": false,
     "start_time": "2021-12-22T10:08:38.556520",
     "status": "completed"
    },
    "tags": []
   },
   "outputs": [],
   "source": [
    "#Impoting functions from 'Kudzu'\n",
    "from kudzu.model import Model\n",
    "from kudzu.train import Learner\n",
    "from kudzu.optim import GD\n",
    "from kudzu.data import Data, Sampler,Dataloader\n",
    "\n",
    "from kudzu.callbacks import AccCallback\n",
    "from kudzu.callbacks import ClfCallback\n",
    "\n",
    "from kudzu.loss import MSE\n",
    "\n",
    "from kudzu.layer import Sigmoid,Relu\n",
    "from kudzu.layer import Affine"
   ]
  },
  {
   "cell_type": "markdown",
   "id": "bc01172a",
   "metadata": {
    "papermill": {
     "duration": 0.026696,
     "end_time": "2021-12-22T10:08:38.661790",
     "exception": false,
     "start_time": "2021-12-22T10:08:38.635094",
     "status": "completed"
    },
    "tags": []
   },
   "source": [
    "### Let us create a `Config` class, to store important parameters. \n",
    "This class essentially plays the role of a dictionary."
   ]
  },
  {
   "cell_type": "code",
   "execution_count": 16,
   "id": "978281aa",
   "metadata": {
    "execution": {
     "iopub.execute_input": "2021-12-22T10:08:38.733578Z",
     "iopub.status.busy": "2021-12-22T10:08:38.731677Z",
     "iopub.status.idle": "2021-12-22T10:08:38.736224Z",
     "shell.execute_reply": "2021-12-22T10:08:38.736614Z"
    },
    "papermill": {
     "duration": 0.048253,
     "end_time": "2021-12-22T10:08:38.736742",
     "exception": false,
     "start_time": "2021-12-22T10:08:38.688489",
     "status": "completed"
    },
    "tags": []
   },
   "outputs": [],
   "source": [
    "class Config:\n",
    "    pass\n",
    "config = Config()\n",
    "config.lr = 0.001\n",
    "config.num_epochs = 250\n",
    "config.bs = 50"
   ]
  },
  {
   "cell_type": "markdown",
   "id": "1385fa59",
   "metadata": {
    "papermill": {
     "duration": 0.026999,
     "end_time": "2021-12-22T10:08:38.791360",
     "exception": false,
     "start_time": "2021-12-22T10:08:38.764361",
     "status": "completed"
    },
    "tags": []
   },
   "source": [
    "### Running Models with the Training data\n",
    "Details about the network layers:\n",
    "- A first affine layer has 784 inputs and does 100 affine transforms. These are followed by a Relu\n",
    "- A second affine layer has 100 inputs from the 100 activations of the past layer, and does 100 affine transforms. These are followed by a Relu\n",
    "- A third affine layer has 100 activations and does 2 affine transformations to create an embedding for visualization. There is no non-linearity here.\n",
    "- A final \"logistic regression\" which has an affine transform from 2 inputs to 1 output, which is squeezed through a sigmoid.\n"
   ]
  },
  {
   "cell_type": "code",
   "execution_count": 17,
   "id": "2b9c66db",
   "metadata": {
    "execution": {
     "iopub.execute_input": "2021-12-22T10:08:38.859655Z",
     "iopub.status.busy": "2021-12-22T10:08:38.857099Z",
     "iopub.status.idle": "2021-12-22T10:08:38.864658Z",
     "shell.execute_reply": "2021-12-22T10:08:38.864220Z"
    },
    "papermill": {
     "duration": 0.046574,
     "end_time": "2021-12-22T10:08:38.864766",
     "exception": false,
     "start_time": "2021-12-22T10:08:38.818192",
     "status": "completed"
    },
    "tags": []
   },
   "outputs": [],
   "source": [
    "data = Data(X_train, y_train.reshape(-1,1))\n",
    "sampler = Sampler(data, config.bs, shuffle=True)\n",
    "\n",
    "dl = Dataloader(data, sampler)\n",
    "\n",
    "opt = GD(config.lr)\n",
    "loss = MSE()"
   ]
  },
  {
   "cell_type": "code",
   "execution_count": 18,
   "id": "b275e4c2",
   "metadata": {
    "execution": {
     "iopub.execute_input": "2021-12-22T10:08:38.923627Z",
     "iopub.status.busy": "2021-12-22T10:08:38.921987Z",
     "iopub.status.idle": "2021-12-22T10:08:38.933464Z",
     "shell.execute_reply": "2021-12-22T10:08:38.933019Z"
    },
    "papermill": {
     "duration": 0.041939,
     "end_time": "2021-12-22T10:08:38.933572",
     "exception": false,
     "start_time": "2021-12-22T10:08:38.891633",
     "status": "completed"
    },
    "tags": []
   },
   "outputs": [],
   "source": [
    "training_data_x = X_train\n",
    "testing_data_x = X_test\n",
    "training_data_y = y_train.reshape(-1,1)\n",
    "testing_data_y = y_test.reshape(-1,1)"
   ]
  },
  {
   "cell_type": "code",
   "execution_count": 19,
   "id": "76951160",
   "metadata": {
    "execution": {
     "iopub.execute_input": "2021-12-22T10:08:39.000423Z",
     "iopub.status.busy": "2021-12-22T10:08:38.990733Z",
     "iopub.status.idle": "2021-12-22T10:08:39.009770Z",
     "shell.execute_reply": "2021-12-22T10:08:39.009357Z"
    },
    "papermill": {
     "duration": 0.049483,
     "end_time": "2021-12-22T10:08:39.009882",
     "exception": false,
     "start_time": "2021-12-22T10:08:38.960399",
     "status": "completed"
    },
    "tags": []
   },
   "outputs": [
    {
     "name": "stdout",
     "output_type": "stream",
     "text": [
      "xavier\n",
      "xavier\n",
      "xavier\n",
      "xavier\n",
      "xavier\n"
     ]
    }
   ],
   "source": [
    "layers = [Affine(\"first\", 784, 100), Relu(\"first\"), Affine(\"second\", 100, 100), Relu(\"second\"), Affine(\"third\", 100, 2), Affine(\"last\", 2, 1), Sigmoid(\"last\")]\n",
    "model_nn = Model(layers)\n",
    "model_lr = Model([Affine(\"logits\", 784, 1), Sigmoid(\"sigmoid\")])"
   ]
  },
  {
   "cell_type": "code",
   "execution_count": 20,
   "id": "6eede77a",
   "metadata": {
    "execution": {
     "iopub.execute_input": "2021-12-22T10:08:39.072427Z",
     "iopub.status.busy": "2021-12-22T10:08:39.071888Z",
     "iopub.status.idle": "2021-12-22T10:08:39.082192Z",
     "shell.execute_reply": "2021-12-22T10:08:39.081770Z"
    },
    "papermill": {
     "duration": 0.0451,
     "end_time": "2021-12-22T10:08:39.082310",
     "exception": false,
     "start_time": "2021-12-22T10:08:39.037210",
     "status": "completed"
    },
    "tags": []
   },
   "outputs": [],
   "source": [
    "nn_learner = Learner(loss, model_nn, opt, config.num_epochs)\n",
    "acc_nn = ClfCallback(nn_learner, config.bs, training_data_x , testing_data_x, training_data_y, testing_data_y)\n",
    "nn_learner.set_callbacks([acc_nn])"
   ]
  },
  {
   "cell_type": "code",
   "execution_count": 21,
   "id": "877b6cc7",
   "metadata": {
    "execution": {
     "iopub.execute_input": "2021-12-22T10:08:39.143766Z",
     "iopub.status.busy": "2021-12-22T10:08:39.143172Z",
     "iopub.status.idle": "2021-12-22T10:08:39.155226Z",
     "shell.execute_reply": "2021-12-22T10:08:39.154731Z"
    },
    "papermill": {
     "duration": 0.04578,
     "end_time": "2021-12-22T10:08:39.155344",
     "exception": false,
     "start_time": "2021-12-22T10:08:39.109564",
     "status": "completed"
    },
    "tags": []
   },
   "outputs": [],
   "source": [
    "lr_learner = Learner(loss, model_lr, opt, config.num_epochs)\n",
    "acc_lr = ClfCallback(lr_learner, config.bs, training_data_x , testing_data_x, training_data_y, testing_data_y)\n",
    "lr_learner.set_callbacks([acc_lr])"
   ]
  },
  {
   "cell_type": "code",
   "execution_count": 22,
   "id": "d9b133c3",
   "metadata": {
    "execution": {
     "iopub.execute_input": "2021-12-22T10:08:39.218796Z",
     "iopub.status.busy": "2021-12-22T10:08:39.215665Z",
     "iopub.status.idle": "2021-12-22T10:09:57.211558Z",
     "shell.execute_reply": "2021-12-22T10:09:57.212276Z"
    },
    "papermill": {
     "duration": 78.029629,
     "end_time": "2021-12-22T10:09:57.212431",
     "exception": false,
     "start_time": "2021-12-22T10:08:39.182802",
     "status": "completed"
    },
    "tags": []
   },
   "outputs": [
    {
     "name": "stdout",
     "output_type": "stream",
     "text": [
      "Epoch 0, Loss 0.239\n",
      "Training Accuracy: 0.6856, Testing Accuracy: 0.7001\n",
      "\n"
     ]
    },
    {
     "name": "stdout",
     "output_type": "stream",
     "text": [
      "Epoch 10, Loss 0.0657\n",
      "Training Accuracy: 0.9332, Testing Accuracy: 0.9405\n",
      "\n"
     ]
    },
    {
     "name": "stdout",
     "output_type": "stream",
     "text": [
      "Epoch 20, Loss 0.044\n",
      "Training Accuracy: 0.9520, Testing Accuracy: 0.9607\n",
      "\n"
     ]
    },
    {
     "name": "stdout",
     "output_type": "stream",
     "text": [
      "Epoch 30, Loss 0.0363\n",
      "Training Accuracy: 0.9596, Testing Accuracy: 0.9672\n",
      "\n"
     ]
    },
    {
     "name": "stdout",
     "output_type": "stream",
     "text": [
      "Epoch 40, Loss 0.0323\n",
      "Training Accuracy: 0.9630, Testing Accuracy: 0.9677\n",
      "\n"
     ]
    },
    {
     "name": "stdout",
     "output_type": "stream",
     "text": [
      "Epoch 50, Loss 0.0297\n",
      "Training Accuracy: 0.9667, Testing Accuracy: 0.9688\n",
      "\n"
     ]
    },
    {
     "name": "stdout",
     "output_type": "stream",
     "text": [
      "Epoch 60, Loss 0.0278\n",
      "Training Accuracy: 0.9689, Testing Accuracy: 0.9708\n",
      "\n"
     ]
    },
    {
     "name": "stdout",
     "output_type": "stream",
     "text": [
      "Epoch 70, Loss 0.0262\n",
      "Training Accuracy: 0.9709, Testing Accuracy: 0.9713\n",
      "\n"
     ]
    },
    {
     "name": "stdout",
     "output_type": "stream",
     "text": [
      "Epoch 80, Loss 0.025\n",
      "Training Accuracy: 0.9719, Testing Accuracy: 0.9713\n",
      "\n"
     ]
    },
    {
     "name": "stdout",
     "output_type": "stream",
     "text": [
      "Epoch 90, Loss 0.024\n",
      "Training Accuracy: 0.9731, Testing Accuracy: 0.9713\n",
      "\n"
     ]
    },
    {
     "name": "stdout",
     "output_type": "stream",
     "text": [
      "Epoch 100, Loss 0.0231\n",
      "Training Accuracy: 0.9740, Testing Accuracy: 0.9718\n",
      "\n"
     ]
    },
    {
     "name": "stdout",
     "output_type": "stream",
     "text": [
      "Epoch 110, Loss 0.0223\n",
      "Training Accuracy: 0.9751, Testing Accuracy: 0.9723\n",
      "\n"
     ]
    },
    {
     "name": "stdout",
     "output_type": "stream",
     "text": [
      "Epoch 120, Loss 0.0216\n",
      "Training Accuracy: 0.9759, Testing Accuracy: 0.9723\n",
      "\n"
     ]
    },
    {
     "name": "stdout",
     "output_type": "stream",
     "text": [
      "Epoch 130, Loss 0.0209\n",
      "Training Accuracy: 0.9767, Testing Accuracy: 0.9733\n",
      "\n"
     ]
    },
    {
     "name": "stdout",
     "output_type": "stream",
     "text": [
      "Epoch 140, Loss 0.0203\n",
      "Training Accuracy: 0.9770, Testing Accuracy: 0.9743\n",
      "\n"
     ]
    },
    {
     "name": "stdout",
     "output_type": "stream",
     "text": [
      "Epoch 150, Loss 0.0198\n",
      "Training Accuracy: 0.9775, Testing Accuracy: 0.9743\n",
      "\n"
     ]
    },
    {
     "name": "stdout",
     "output_type": "stream",
     "text": [
      "Epoch 160, Loss 0.0193\n",
      "Training Accuracy: 0.9776, Testing Accuracy: 0.9743\n",
      "\n"
     ]
    },
    {
     "name": "stdout",
     "output_type": "stream",
     "text": [
      "Epoch 170, Loss 0.0188\n",
      "Training Accuracy: 0.9783, Testing Accuracy: 0.9743\n",
      "\n"
     ]
    },
    {
     "name": "stdout",
     "output_type": "stream",
     "text": [
      "Epoch 180, Loss 0.0183\n",
      "Training Accuracy: 0.9787, Testing Accuracy: 0.9748\n",
      "\n"
     ]
    },
    {
     "name": "stdout",
     "output_type": "stream",
     "text": [
      "Epoch 190, Loss 0.0179\n",
      "Training Accuracy: 0.9793, Testing Accuracy: 0.9753\n",
      "\n"
     ]
    },
    {
     "name": "stdout",
     "output_type": "stream",
     "text": [
      "Epoch 200, Loss 0.0175\n",
      "Training Accuracy: 0.9799, Testing Accuracy: 0.9753\n",
      "\n"
     ]
    },
    {
     "name": "stdout",
     "output_type": "stream",
     "text": [
      "Epoch 210, Loss 0.0171\n",
      "Training Accuracy: 0.9805, Testing Accuracy: 0.9753\n",
      "\n"
     ]
    },
    {
     "name": "stdout",
     "output_type": "stream",
     "text": [
      "Epoch 220, Loss 0.0167\n",
      "Training Accuracy: 0.9814, Testing Accuracy: 0.9753\n",
      "\n"
     ]
    },
    {
     "name": "stdout",
     "output_type": "stream",
     "text": [
      "Epoch 230, Loss 0.0163\n",
      "Training Accuracy: 0.9818, Testing Accuracy: 0.9753\n",
      "\n"
     ]
    },
    {
     "name": "stdout",
     "output_type": "stream",
     "text": [
      "Epoch 240, Loss 0.0159\n",
      "Training Accuracy: 0.9824, Testing Accuracy: 0.9758\n",
      "\n"
     ]
    },
    {
     "data": {
      "text/plain": [
       "0.0094540111022558"
      ]
     },
     "execution_count": 22,
     "metadata": {},
     "output_type": "execute_result"
    }
   ],
   "source": [
    "nn_learner.train_loop(dl)"
   ]
  },
  {
   "cell_type": "code",
   "execution_count": 23,
   "id": "e0163366",
   "metadata": {
    "execution": {
     "iopub.execute_input": "2021-12-22T10:09:57.292046Z",
     "iopub.status.busy": "2021-12-22T10:09:57.291523Z",
     "iopub.status.idle": "2021-12-22T10:10:11.338771Z",
     "shell.execute_reply": "2021-12-22T10:10:11.339461Z"
    },
    "papermill": {
     "duration": 14.092113,
     "end_time": "2021-12-22T10:10:11.339616",
     "exception": false,
     "start_time": "2021-12-22T10:09:57.247503",
     "status": "completed"
    },
    "tags": []
   },
   "outputs": [
    {
     "name": "stdout",
     "output_type": "stream",
     "text": [
      "Epoch 0, Loss 0.2462\n",
      "Training Accuracy: 0.6520, Testing Accuracy: 0.6457\n",
      "\n"
     ]
    },
    {
     "name": "stdout",
     "output_type": "stream",
     "text": [
      "Epoch 10, Loss 0.1058\n",
      "Training Accuracy: 0.9029, Testing Accuracy: 0.9103\n",
      "\n"
     ]
    },
    {
     "name": "stdout",
     "output_type": "stream",
     "text": [
      "Epoch 20, Loss 0.0807\n",
      "Training Accuracy: 0.9244, Testing Accuracy: 0.9360\n",
      "\n"
     ]
    },
    {
     "name": "stdout",
     "output_type": "stream",
     "text": [
      "Epoch 30, Loss 0.0691\n",
      "Training Accuracy: 0.9338, Testing Accuracy: 0.9456\n",
      "\n"
     ]
    },
    {
     "name": "stdout",
     "output_type": "stream",
     "text": [
      "Epoch 40, Loss 0.0622\n",
      "Training Accuracy: 0.9394, Testing Accuracy: 0.9486\n",
      "\n"
     ]
    },
    {
     "name": "stdout",
     "output_type": "stream",
     "text": [
      "Epoch 50, Loss 0.0576\n",
      "Training Accuracy: 0.9438, Testing Accuracy: 0.9541\n",
      "\n"
     ]
    },
    {
     "name": "stdout",
     "output_type": "stream",
     "text": [
      "Epoch 60, Loss 0.0541\n",
      "Training Accuracy: 0.9467, Testing Accuracy: 0.9546\n",
      "\n"
     ]
    },
    {
     "name": "stdout",
     "output_type": "stream",
     "text": [
      "Epoch 70, Loss 0.0515\n",
      "Training Accuracy: 0.9491, Testing Accuracy: 0.9572\n",
      "\n"
     ]
    },
    {
     "name": "stdout",
     "output_type": "stream",
     "text": [
      "Epoch 80, Loss 0.0494\n",
      "Training Accuracy: 0.9505, Testing Accuracy: 0.9592\n",
      "\n"
     ]
    },
    {
     "name": "stdout",
     "output_type": "stream",
     "text": [
      "Epoch 90, Loss 0.0477\n",
      "Training Accuracy: 0.9521, Testing Accuracy: 0.9612\n",
      "\n"
     ]
    },
    {
     "name": "stdout",
     "output_type": "stream",
     "text": [
      "Epoch 100, Loss 0.0462\n",
      "Training Accuracy: 0.9530, Testing Accuracy: 0.9632\n",
      "\n"
     ]
    },
    {
     "name": "stdout",
     "output_type": "stream",
     "text": [
      "Epoch 110, Loss 0.045\n",
      "Training Accuracy: 0.9544, Testing Accuracy: 0.9632\n",
      "\n"
     ]
    },
    {
     "name": "stdout",
     "output_type": "stream",
     "text": [
      "Epoch 120, Loss 0.0439\n",
      "Training Accuracy: 0.9554, Testing Accuracy: 0.9642\n",
      "\n"
     ]
    },
    {
     "name": "stdout",
     "output_type": "stream",
     "text": [
      "Epoch 130, Loss 0.0429\n",
      "Training Accuracy: 0.9565, Testing Accuracy: 0.9652\n",
      "\n"
     ]
    },
    {
     "name": "stdout",
     "output_type": "stream",
     "text": [
      "Epoch 140, Loss 0.0421\n",
      "Training Accuracy: 0.9574, Testing Accuracy: 0.9657\n",
      "\n"
     ]
    },
    {
     "name": "stdout",
     "output_type": "stream",
     "text": [
      "Epoch 150, Loss 0.0413\n",
      "Training Accuracy: 0.9574, Testing Accuracy: 0.9657\n",
      "\n"
     ]
    },
    {
     "name": "stdout",
     "output_type": "stream",
     "text": [
      "Epoch 160, Loss 0.0406\n",
      "Training Accuracy: 0.9576, Testing Accuracy: 0.9657\n",
      "\n"
     ]
    },
    {
     "name": "stdout",
     "output_type": "stream",
     "text": [
      "Epoch 170, Loss 0.04\n",
      "Training Accuracy: 0.9581, Testing Accuracy: 0.9662\n",
      "\n"
     ]
    },
    {
     "name": "stdout",
     "output_type": "stream",
     "text": [
      "Epoch 180, Loss 0.0395\n",
      "Training Accuracy: 0.9584, Testing Accuracy: 0.9662\n",
      "\n"
     ]
    },
    {
     "name": "stdout",
     "output_type": "stream",
     "text": [
      "Epoch 190, Loss 0.0389\n",
      "Training Accuracy: 0.9589, Testing Accuracy: 0.9657\n",
      "\n"
     ]
    },
    {
     "name": "stdout",
     "output_type": "stream",
     "text": [
      "Epoch 200, Loss 0.0384\n",
      "Training Accuracy: 0.9591, Testing Accuracy: 0.9667\n",
      "\n"
     ]
    },
    {
     "name": "stdout",
     "output_type": "stream",
     "text": [
      "Epoch 210, Loss 0.038\n",
      "Training Accuracy: 0.9594, Testing Accuracy: 0.9667\n",
      "\n"
     ]
    },
    {
     "name": "stdout",
     "output_type": "stream",
     "text": [
      "Epoch 220, Loss 0.0376\n",
      "Training Accuracy: 0.9599, Testing Accuracy: 0.9657\n",
      "\n"
     ]
    },
    {
     "name": "stdout",
     "output_type": "stream",
     "text": [
      "Epoch 230, Loss 0.0372\n",
      "Training Accuracy: 0.9604, Testing Accuracy: 0.9662\n",
      "\n"
     ]
    },
    {
     "name": "stdout",
     "output_type": "stream",
     "text": [
      "Epoch 240, Loss 0.0368\n",
      "Training Accuracy: 0.9609, Testing Accuracy: 0.9662\n",
      "\n"
     ]
    },
    {
     "data": {
      "text/plain": [
       "0.03286786866499804"
      ]
     },
     "execution_count": 23,
     "metadata": {},
     "output_type": "execute_result"
    }
   ],
   "source": [
    "lr_learner.train_loop(dl)"
   ]
  },
  {
   "cell_type": "code",
   "execution_count": 24,
   "id": "ca410940",
   "metadata": {
    "execution": {
     "iopub.execute_input": "2021-12-22T10:10:11.430225Z",
     "iopub.status.busy": "2021-12-22T10:10:11.429690Z",
     "iopub.status.idle": "2021-12-22T10:10:11.665618Z",
     "shell.execute_reply": "2021-12-22T10:10:11.666327Z"
    },
    "papermill": {
     "duration": 0.284902,
     "end_time": "2021-12-22T10:10:11.666485",
     "exception": false,
     "start_time": "2021-12-22T10:10:11.381583",
     "status": "completed"
    },
    "tags": []
   },
   "outputs": [
    {
     "data": {
      "text/plain": [
       "<matplotlib.legend.Legend at 0x7f744e409cc0>"
      ]
     },
     "execution_count": 24,
     "metadata": {},
     "output_type": "execute_result"
    },
    {
     "data": {
      "image/png": "[encoded data removed]",
      "text/plain": [
       "<Figure size 1080x720 with 1 Axes>"
      ]
     },
     "metadata": {
      "needs_background": "light"
     },
     "output_type": "display_data"
    }
   ],
   "source": [
    "#comparing the results of NN and LR\n",
    "plt.figure(figsize=(15,10))\n",
    "\n",
    "# Neural Network plots\n",
    "plt.plot(acc_nn.accuracies, 'r-', label = \"Training Accuracies - NN\")\n",
    "plt.plot(acc_nn.test_accuracies, 'g-', label = \"Testing Accuracies - NN\")\n",
    "\n",
    "# Logistic Regression plots\n",
    "plt.plot(acc_lr.accuracies, 'k-', label = \"Training Accuracies - LR\")\n",
    "plt.plot(acc_lr.test_accuracies, 'b-', label = \"Testing Accuracies - LR\")\n",
    "plt.legend()"
   ]
  },
  {
   "cell_type": "markdown",
   "id": "80dfb35c",
   "metadata": {
    "papermill": {
     "duration": 0.042366,
     "end_time": "2021-12-22T10:10:11.751600",
     "exception": false,
     "start_time": "2021-12-22T10:10:11.709234",
     "status": "completed"
    },
    "tags": []
   },
   "source": [
    "#### Plotting the outputs of this layer of the NN.\n"
   ]
  },
  {
   "cell_type": "code",
   "execution_count": 25,
   "id": "45eb2ff5",
   "metadata": {
    "execution": {
     "iopub.execute_input": "2021-12-22T10:10:11.840127Z",
     "iopub.status.busy": "2021-12-22T10:10:11.839587Z",
     "iopub.status.idle": "2021-12-22T10:10:11.859341Z",
     "shell.execute_reply": "2021-12-22T10:10:11.859746Z"
    },
    "papermill": {
     "duration": 0.066282,
     "end_time": "2021-12-22T10:10:11.859898",
     "exception": false,
     "start_time": "2021-12-22T10:10:11.793616",
     "status": "completed"
    },
    "tags": []
   },
   "outputs": [],
   "source": [
    "new_model = Model(layers[:-2])\n",
    "testing_plot = new_model(testing_data_x)"
   ]
  },
  {
   "cell_type": "code",
   "execution_count": 26,
   "id": "4c0a5485",
   "metadata": {
    "execution": {
     "iopub.execute_input": "2021-12-22T10:10:11.949583Z",
     "iopub.status.busy": "2021-12-22T10:10:11.949051Z",
     "iopub.status.idle": "2021-12-22T10:10:12.141246Z",
     "shell.execute_reply": "2021-12-22T10:10:12.140785Z"
    },
    "papermill": {
     "duration": 0.238562,
     "end_time": "2021-12-22T10:10:12.141364",
     "exception": false,
     "start_time": "2021-12-22T10:10:11.902802",
     "status": "completed"
    },
    "tags": []
   },
   "outputs": [
    {
     "data": {
      "text/plain": [
       "Text(0.5, 1.0, 'Outputs')"
      ]
     },
     "execution_count": 26,
     "metadata": {},
     "output_type": "execute_result"
    },
    {
     "data": {
      "image/png": "[encoded data removed]",
      "text/plain": [
       "<Figure size 576x504 with 1 Axes>"
      ]
     },
     "metadata": {
      "needs_background": "light"
     },
     "output_type": "display_data"
    }
   ],
   "source": [
    "# Plotting the scatter plot of points and color coding by class\n",
    "plt.figure(figsize=(8,7))\n",
    "plt.scatter(testing_plot[:,0], testing_plot[:,1], alpha = 0.1, c = y_test.ravel());\n",
    "plt.title('Outputs')"
   ]
  },
  {
   "cell_type": "markdown",
   "id": "a74fcf8f",
   "metadata": {
    "papermill": {
     "duration": 0.044506,
     "end_time": "2021-12-22T10:10:12.230542",
     "exception": false,
     "start_time": "2021-12-22T10:10:12.186036",
     "status": "completed"
    },
    "tags": []
   },
   "source": [
    "Probability contours"
   ]
  },
  {
   "cell_type": "code",
   "execution_count": 27,
   "id": "d0afc8e3",
   "metadata": {
    "execution": {
     "iopub.execute_input": "2021-12-22T10:10:12.327974Z",
     "iopub.status.busy": "2021-12-22T10:10:12.326104Z",
     "iopub.status.idle": "2021-12-22T10:10:12.337732Z",
     "shell.execute_reply": "2021-12-22T10:10:12.337248Z"
    },
    "papermill": {
     "duration": 0.062635,
     "end_time": "2021-12-22T10:10:12.337852",
     "exception": false,
     "start_time": "2021-12-22T10:10:12.275217",
     "status": "completed"
    },
    "tags": []
   },
   "outputs": [],
   "source": [
    "model_prob = Model(layers[-2:]) "
   ]
  },
  {
   "cell_type": "code",
   "execution_count": 28,
   "id": "9b96e238",
   "metadata": {
    "execution": {
     "iopub.execute_input": "2021-12-22T10:10:12.463787Z",
     "iopub.status.busy": "2021-12-22T10:10:12.463234Z",
     "iopub.status.idle": "2021-12-22T10:10:12.477314Z",
     "shell.execute_reply": "2021-12-22T10:10:12.478075Z"
    },
    "papermill": {
     "duration": 0.095542,
     "end_time": "2021-12-22T10:10:12.478228",
     "exception": false,
     "start_time": "2021-12-22T10:10:12.382686",
     "status": "completed"
    },
    "tags": []
   },
   "outputs": [],
   "source": [
    "#creating the x and y ranges according to the above generated plot.\n",
    "x_range = np.linspace(-4, 1, 100) \n",
    "y_range = np.linspace(-6, 6, 100) \n",
    "x_grid, y_grid = np.meshgrid(x_range, y_range) # x_grid and y_grig are of size 100 X 100\n",
    "\n",
    "# converting x_grid and y_grid to continuous arrays\n",
    "x_gridflat = np.ravel(x_grid)\n",
    "y_gridflat = np.ravel(y_grid)\n",
    "\n",
    "# The last layer of the current model takes two columns as input. Hence transpose of np.vstack() is required.\n",
    "X = np.vstack((x_gridflat, y_gridflat)).T\n",
    "\n",
    "prob_contour = model_prob(X).reshape(100,100) "
   ]
  },
  {
   "cell_type": "code",
   "execution_count": 29,
   "id": "da72499a",
   "metadata": {
    "execution": {
     "iopub.execute_input": "2021-12-22T10:10:12.578935Z",
     "iopub.status.busy": "2021-12-22T10:10:12.578352Z",
     "iopub.status.idle": "2021-12-22T10:10:12.813785Z",
     "shell.execute_reply": "2021-12-22T10:10:12.813325Z"
    },
    "papermill": {
     "duration": 0.288492,
     "end_time": "2021-12-22T10:10:12.813919",
     "exception": false,
     "start_time": "2021-12-22T10:10:12.525427",
     "status": "completed"
    },
    "tags": []
   },
   "outputs": [
    {
     "data": {
      "image/png": "[encoded data removed]",
      "text/plain": [
       "<Figure size 720x648 with 1 Axes>"
      ]
     },
     "metadata": {
      "needs_background": "light"
     },
     "output_type": "display_data"
    }
   ],
   "source": [
    "plt.figure(figsize=(10,9))\n",
    "plt.scatter(testing_plot[:,0], testing_plot[:,1], alpha = 0.1, c = y_test.ravel())\n",
    "contours = plt.contour(x_grid,y_grid,prob_contour)\n",
    "plt.title('Probability Contours')\n",
    "plt.clabel(contours, inline = True );"
   ]
  },
  {
   "cell_type": "code",
   "execution_count": null,
   "id": "e81b4ac7",
   "metadata": {
    "papermill": {
     "duration": 0.047224,
     "end_time": "2021-12-22T10:10:12.909364",
     "exception": false,
     "start_time": "2021-12-22T10:10:12.862140",
     "status": "completed"
    },
    "tags": []
   },
   "outputs": [],
   "source": []
  }
 ],
 "metadata": {
  "kernelspec": {
   "display_name": "Python 3",
   "language": "python",
   "name": "python3"
  },
  "language_info": {
   "codemirror_mode": {
    "name": "ipython",
    "version": 3
   },
   "file_extension": ".py",
   "mimetype": "text/x-python",
   "name": "python",
   "nbconvert_exporter": "python",
   "pygments_lexer": "ipython3",
   "version": "3.6.15"
  },
  "papermill": {
   "default_parameters": {},
   "duration": 101.295655,
   "end_time": "2021-12-22T10:10:13.365519",
   "environment_variables": {},
   "exception": null,
   "input_path": "2020-08-11-part2.ipynb",
   "output_path": "2020-08-11-part2.ipynb",
   "parameters": {},
   "start_time": "2021-12-22T10:08:32.069864",
   "version": "2.3.3"
  }
 },
 "nbformat": 4,
 "nbformat_minor": 5
}