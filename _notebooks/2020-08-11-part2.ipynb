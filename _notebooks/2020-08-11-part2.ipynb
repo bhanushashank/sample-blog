{
 "cells": [
  {
   "cell_type": "markdown",
   "id": "98380cd3",
   "metadata": {
    "papermill": {
     "duration": 0.039186,
     "end_time": "2022-10-19T20:13:00.182949",
     "exception": false,
     "start_time": "2022-10-19T20:13:00.143763",
     "status": "completed"
    },
    "tags": []
   },
   "source": [
    "# Distinguish Your Own Digits (DYOD)"
   ]
  },
  {
   "cell_type": "markdown",
   "id": "ef31240d",
   "metadata": {
    "papermill": {
     "duration": 0.032546,
     "end_time": "2022-10-19T20:13:00.248143",
     "exception": false,
     "start_time": "2022-10-19T20:13:00.215597",
     "status": "completed"
    },
    "tags": []
   },
   "source": [
    "You are going to write a classifier that distinguishes between the number 3 and number 8."
   ]
  },
  {
   "cell_type": "code",
   "execution_count": 1,
   "id": "b15c8646",
   "metadata": {
    "execution": {
     "iopub.execute_input": "2022-10-19T20:13:00.326710Z",
     "iopub.status.busy": "2022-10-19T20:13:00.325873Z",
     "iopub.status.idle": "2022-10-19T20:13:00.339206Z",
     "shell.execute_reply": "2022-10-19T20:13:00.338486Z"
    },
    "papermill": {
     "duration": 0.05927,
     "end_time": "2022-10-19T20:13:00.339395",
     "exception": false,
     "start_time": "2022-10-19T20:13:00.280125",
     "status": "completed"
    },
    "tags": []
   },
   "outputs": [],
   "source": [
    "%load_ext autoreload\n",
    "%autoreload 2"
   ]
  },
  {
   "cell_type": "code",
   "execution_count": 2,
   "id": "22ef38dc",
   "metadata": {
    "execution": {
     "iopub.execute_input": "2022-10-19T20:13:00.409408Z",
     "iopub.status.busy": "2022-10-19T20:13:00.408545Z",
     "iopub.status.idle": "2022-10-19T20:13:01.103147Z",
     "shell.execute_reply": "2022-10-19T20:13:01.102432Z"
    },
    "papermill": {
     "duration": 0.731598,
     "end_time": "2022-10-19T20:13:01.103303",
     "exception": false,
     "start_time": "2022-10-19T20:13:00.371705",
     "status": "completed"
    },
    "tags": []
   },
   "outputs": [],
   "source": [
    "%matplotlib inline\n",
    "import numpy as np\n",
    "import matplotlib.pyplot as plt\n",
    "import pandas as pd"
   ]
  },
  {
   "cell_type": "markdown",
   "id": "ba036198",
   "metadata": {
    "papermill": {
     "duration": 0.032653,
     "end_time": "2022-10-19T20:13:01.168942",
     "exception": false,
     "start_time": "2022-10-19T20:13:01.136289",
     "status": "completed"
    },
    "tags": []
   },
   "source": [
    "From the command line run `pip install mnist`. This is a library that will help you bring down the mnist dataset. If you run this from a notebook, you need to put  `!pip install mnist` in a cell by itself."
   ]
  },
  {
   "cell_type": "code",
   "execution_count": 3,
   "id": "bb6ad8a1",
   "metadata": {
    "execution": {
     "iopub.execute_input": "2022-10-19T20:13:01.238273Z",
     "iopub.status.busy": "2022-10-19T20:13:01.237493Z",
     "iopub.status.idle": "2022-10-19T20:13:03.266965Z",
     "shell.execute_reply": "2022-10-19T20:13:03.266256Z"
    },
    "papermill": {
     "duration": 2.066676,
     "end_time": "2022-10-19T20:13:03.267120",
     "exception": false,
     "start_time": "2022-10-19T20:13:01.200444",
     "status": "completed"
    },
    "tags": []
   },
   "outputs": [
    {
     "name": "stdout",
     "output_type": "stream",
     "text": [
      "Collecting mnist\r\n",
      "  Downloading mnist-0.2.2-py2.py3-none-any.whl (3.5 kB)\r\n"
     ]
    },
    {
     "name": "stdout",
     "output_type": "stream",
     "text": [
      "Requirement already satisfied: numpy in /opt/hostedtoolcache/Python/3.6.15/x64/lib/python3.6/site-packages (from mnist) (1.19.5)\r\n"
     ]
    },
    {
     "name": "stdout",
     "output_type": "stream",
     "text": [
      "Installing collected packages: mnist\r\n"
     ]
    },
    {
     "name": "stdout",
     "output_type": "stream",
     "text": [
      "Successfully installed mnist-0.2.2\r\n"
     ]
    }
   ],
   "source": [
    "!pip install mnist"
   ]
  },
  {
   "cell_type": "markdown",
   "id": "69df9c9a",
   "metadata": {
    "papermill": {
     "duration": 0.031892,
     "end_time": "2022-10-19T20:13:03.331830",
     "exception": false,
     "start_time": "2022-10-19T20:13:03.299938",
     "status": "completed"
    },
    "tags": []
   },
   "source": [
    "## Preparing the Data"
   ]
  },
  {
   "cell_type": "code",
   "execution_count": 4,
   "id": "7f69d806",
   "metadata": {
    "execution": {
     "iopub.execute_input": "2022-10-19T20:13:03.408046Z",
     "iopub.status.busy": "2022-10-19T20:13:03.403858Z",
     "iopub.status.idle": "2022-10-19T20:13:03.420330Z",
     "shell.execute_reply": "2022-10-19T20:13:03.420937Z"
    },
    "papermill": {
     "duration": 0.055729,
     "end_time": "2022-10-19T20:13:03.421109",
     "exception": false,
     "start_time": "2022-10-19T20:13:03.365380",
     "status": "completed"
    },
    "tags": []
   },
   "outputs": [],
   "source": [
    "import mnist"
   ]
  },
  {
   "cell_type": "code",
   "execution_count": 5,
   "id": "a411e44f",
   "metadata": {
    "execution": {
     "iopub.execute_input": "2022-10-19T20:13:03.494724Z",
     "iopub.status.busy": "2022-10-19T20:13:03.493655Z",
     "iopub.status.idle": "2022-10-19T20:13:04.094255Z",
     "shell.execute_reply": "2022-10-19T20:13:04.093557Z"
    },
    "papermill": {
     "duration": 0.640534,
     "end_time": "2022-10-19T20:13:04.094444",
     "exception": false,
     "start_time": "2022-10-19T20:13:03.453910",
     "status": "completed"
    },
    "tags": []
   },
   "outputs": [],
   "source": [
    "train_images = mnist.train_images()\n",
    "train_labels = mnist.train_labels()"
   ]
  },
  {
   "cell_type": "code",
   "execution_count": 6,
   "id": "dceab3a5",
   "metadata": {
    "execution": {
     "iopub.execute_input": "2022-10-19T20:13:04.169872Z",
     "iopub.status.busy": "2022-10-19T20:13:04.169065Z",
     "iopub.status.idle": "2022-10-19T20:13:04.186625Z",
     "shell.execute_reply": "2022-10-19T20:13:04.185920Z"
    },
    "papermill": {
     "duration": 0.058935,
     "end_time": "2022-10-19T20:13:04.186764",
     "exception": false,
     "start_time": "2022-10-19T20:13:04.127829",
     "status": "completed"
    },
    "tags": []
   },
   "outputs": [
    {
     "data": {
      "text/plain": [
       "((60000, 28, 28), (60000,))"
      ]
     },
     "execution_count": 6,
     "metadata": {},
     "output_type": "execute_result"
    }
   ],
   "source": [
    "train_images.shape, train_labels.shape"
   ]
  },
  {
   "cell_type": "code",
   "execution_count": 7,
   "id": "f50dc2bb",
   "metadata": {
    "execution": {
     "iopub.execute_input": "2022-10-19T20:13:04.259337Z",
     "iopub.status.busy": "2022-10-19T20:13:04.258569Z",
     "iopub.status.idle": "2022-10-19T20:13:04.396968Z",
     "shell.execute_reply": "2022-10-19T20:13:04.397594Z"
    },
    "papermill": {
     "duration": 0.178122,
     "end_time": "2022-10-19T20:13:04.397778",
     "exception": false,
     "start_time": "2022-10-19T20:13:04.219656",
     "status": "completed"
    },
    "tags": []
   },
   "outputs": [],
   "source": [
    "test_images = mnist.test_images()\n",
    "test_labels = mnist.test_labels()"
   ]
  },
  {
   "cell_type": "code",
   "execution_count": 8,
   "id": "fc38cf1b",
   "metadata": {
    "execution": {
     "iopub.execute_input": "2022-10-19T20:13:04.476575Z",
     "iopub.status.busy": "2022-10-19T20:13:04.475800Z",
     "iopub.status.idle": "2022-10-19T20:13:04.491958Z",
     "shell.execute_reply": "2022-10-19T20:13:04.491018Z"
    },
    "papermill": {
     "duration": 0.060306,
     "end_time": "2022-10-19T20:13:04.492110",
     "exception": false,
     "start_time": "2022-10-19T20:13:04.431804",
     "status": "completed"
    },
    "tags": []
   },
   "outputs": [
    {
     "data": {
      "text/plain": [
       "((10000, 28, 28), (10000,))"
      ]
     },
     "execution_count": 8,
     "metadata": {},
     "output_type": "execute_result"
    }
   ],
   "source": [
    "test_images.shape, test_labels.shape"
   ]
  },
  {
   "cell_type": "code",
   "execution_count": 9,
   "id": "f9ed8fe0",
   "metadata": {
    "execution": {
     "iopub.execute_input": "2022-10-19T20:13:04.570907Z",
     "iopub.status.busy": "2022-10-19T20:13:04.570116Z",
     "iopub.status.idle": "2022-10-19T20:13:04.754722Z",
     "shell.execute_reply": "2022-10-19T20:13:04.753960Z"
    },
    "papermill": {
     "duration": 0.225614,
     "end_time": "2022-10-19T20:13:04.754873",
     "exception": false,
     "start_time": "2022-10-19T20:13:04.529259",
     "status": "completed"
    },
    "tags": []
   },
   "outputs": [
    {
     "name": "stdout",
     "output_type": "stream",
     "text": [
      "2\n"
     ]
    },
    {
     "data": {
      "text/plain": [
       "<matplotlib.image.AxesImage at 0x7fc074d07d30>"
      ]
     },
     "execution_count": 9,
     "metadata": {},
     "output_type": "execute_result"
    },
    {
     "data": {
      "image/png": "[encoded data removed]",
      "text/plain": [
       "<Figure size 432x288 with 1 Axes>"
      ]
     },
     "metadata": {
      "needs_background": "light"
     },
     "output_type": "display_data"
    }
   ],
   "source": [
    "image_index = 7776 # You may select anything up to 60,000\n",
    "print(train_labels[image_index]) \n",
    "plt.imshow(train_images[image_index], cmap='Greys')"
   ]
  },
  {
   "cell_type": "markdown",
   "id": "a8d2388d",
   "metadata": {
    "papermill": {
     "duration": 0.034164,
     "end_time": "2022-10-19T20:13:04.828996",
     "exception": false,
     "start_time": "2022-10-19T20:13:04.794832",
     "status": "completed"
    },
    "tags": []
   },
   "source": [
    "## Filter data to get 3 and 8 out"
   ]
  },
  {
   "cell_type": "code",
   "execution_count": 10,
   "id": "776f7fc7",
   "metadata": {
    "execution": {
     "iopub.execute_input": "2022-10-19T20:13:04.917972Z",
     "iopub.status.busy": "2022-10-19T20:13:04.917205Z",
     "iopub.status.idle": "2022-10-19T20:13:04.939013Z",
     "shell.execute_reply": "2022-10-19T20:13:04.939771Z"
    },
    "papermill": {
     "duration": 0.068377,
     "end_time": "2022-10-19T20:13:04.939948",
     "exception": false,
     "start_time": "2022-10-19T20:13:04.871571",
     "status": "completed"
    },
    "tags": []
   },
   "outputs": [],
   "source": [
    "train_filter = np.where((train_labels == 3 ) | (train_labels == 8))\n",
    "test_filter = np.where((test_labels == 3) | (test_labels == 8))\n",
    "X_train, y_train = train_images[train_filter], train_labels[train_filter]\n",
    "X_test, y_test = test_images[test_filter], test_labels[test_filter]"
   ]
  },
  {
   "cell_type": "markdown",
   "id": "948f0b7e",
   "metadata": {
    "papermill": {
     "duration": 0.035477,
     "end_time": "2022-10-19T20:13:05.010337",
     "exception": false,
     "start_time": "2022-10-19T20:13:04.974860",
     "status": "completed"
    },
    "tags": []
   },
   "source": [
    "We normalize the pizel values in the 0 to 1 range"
   ]
  },
  {
   "cell_type": "code",
   "execution_count": 11,
   "id": "ee4c2166",
   "metadata": {
    "execution": {
     "iopub.execute_input": "2022-10-19T20:13:05.100080Z",
     "iopub.status.busy": "2022-10-19T20:13:05.099310Z",
     "iopub.status.idle": "2022-10-19T20:13:05.169099Z",
     "shell.execute_reply": "2022-10-19T20:13:05.168398Z"
    },
    "papermill": {
     "duration": 0.115827,
     "end_time": "2022-10-19T20:13:05.169252",
     "exception": false,
     "start_time": "2022-10-19T20:13:05.053425",
     "status": "completed"
    },
    "tags": []
   },
   "outputs": [],
   "source": [
    "X_train = X_train/255.\n",
    "X_test = X_test/255."
   ]
  },
  {
   "cell_type": "markdown",
   "id": "ddcf4fab",
   "metadata": {
    "papermill": {
     "duration": 0.034814,
     "end_time": "2022-10-19T20:13:05.239243",
     "exception": false,
     "start_time": "2022-10-19T20:13:05.204429",
     "status": "completed"
    },
    "tags": []
   },
   "source": [
    "And setup the labels as 1 (when the digit is 3) and 0 (when the digit is 8)"
   ]
  },
  {
   "cell_type": "code",
   "execution_count": 12,
   "id": "7dc908f2",
   "metadata": {
    "execution": {
     "iopub.execute_input": "2022-10-19T20:13:05.312862Z",
     "iopub.status.busy": "2022-10-19T20:13:05.312116Z",
     "iopub.status.idle": "2022-10-19T20:13:05.326445Z",
     "shell.execute_reply": "2022-10-19T20:13:05.326985Z"
    },
    "papermill": {
     "duration": 0.053239,
     "end_time": "2022-10-19T20:13:05.327151",
     "exception": false,
     "start_time": "2022-10-19T20:13:05.273912",
     "status": "completed"
    },
    "tags": []
   },
   "outputs": [],
   "source": [
    "y_train = 1*(y_train==3)\n",
    "y_test = 1*(y_test==3)"
   ]
  },
  {
   "cell_type": "code",
   "execution_count": 13,
   "id": "01e4e969",
   "metadata": {
    "execution": {
     "iopub.execute_input": "2022-10-19T20:13:05.402726Z",
     "iopub.status.busy": "2022-10-19T20:13:05.401897Z",
     "iopub.status.idle": "2022-10-19T20:13:05.417005Z",
     "shell.execute_reply": "2022-10-19T20:13:05.417679Z"
    },
    "papermill": {
     "duration": 0.055569,
     "end_time": "2022-10-19T20:13:05.417837",
     "exception": false,
     "start_time": "2022-10-19T20:13:05.362268",
     "status": "completed"
    },
    "tags": []
   },
   "outputs": [
    {
     "data": {
      "text/plain": [
       "((11982, 28, 28), (1984, 28, 28))"
      ]
     },
     "execution_count": 13,
     "metadata": {},
     "output_type": "execute_result"
    }
   ],
   "source": [
    "X_train.shape, X_test.shape"
   ]
  },
  {
   "cell_type": "markdown",
   "id": "5ccf3f85",
   "metadata": {
    "papermill": {
     "duration": 0.034662,
     "end_time": "2022-10-19T20:13:05.487511",
     "exception": false,
     "start_time": "2022-10-19T20:13:05.452849",
     "status": "completed"
    },
    "tags": []
   },
   "source": [
    "We reshape the data to flatten the image pixels into a set of features or co-variates:"
   ]
  },
  {
   "cell_type": "code",
   "execution_count": 14,
   "id": "5286a4a3",
   "metadata": {
    "execution": {
     "iopub.execute_input": "2022-10-19T20:13:05.567205Z",
     "iopub.status.busy": "2022-10-19T20:13:05.566333Z",
     "iopub.status.idle": "2022-10-19T20:13:05.605935Z",
     "shell.execute_reply": "2022-10-19T20:13:05.605148Z"
    },
    "papermill": {
     "duration": 0.083644,
     "end_time": "2022-10-19T20:13:05.606096",
     "exception": false,
     "start_time": "2022-10-19T20:13:05.522452",
     "status": "completed"
    },
    "tags": []
   },
   "outputs": [
    {
     "data": {
      "text/plain": [
       "((11982, 784), (1984, 784))"
      ]
     },
     "execution_count": 14,
     "metadata": {},
     "output_type": "execute_result"
    }
   ],
   "source": [
    "X_train = X_train.reshape(X_train.shape[0], -1)\n",
    "X_test = X_test.reshape(X_test.shape[0], -1)\n",
    "X_train.shape, X_test.shape"
   ]
  },
  {
   "cell_type": "code",
   "execution_count": 15,
   "id": "73c5f88a",
   "metadata": {
    "execution": {
     "iopub.execute_input": "2022-10-19T20:13:05.690722Z",
     "iopub.status.busy": "2022-10-19T20:13:05.689924Z",
     "iopub.status.idle": "2022-10-19T20:13:05.710757Z",
     "shell.execute_reply": "2022-10-19T20:13:05.711393Z"
    },
    "papermill": {
     "duration": 0.064831,
     "end_time": "2022-10-19T20:13:05.711567",
     "exception": false,
     "start_time": "2022-10-19T20:13:05.646736",
     "status": "completed"
    },
    "tags": []
   },
   "outputs": [],
   "source": [
    "#Impoting functions from 'Kudzu'\n",
    "from kudzu.model import Model\n",
    "from kudzu.train import Learner\n",
    "from kudzu.optim import GD\n",
    "from kudzu.data import Data, Sampler,Dataloader\n",
    "\n",
    "from kudzu.callbacks import AccCallback\n",
    "from kudzu.callbacks import ClfCallback\n",
    "\n",
    "from kudzu.loss import MSE\n",
    "\n",
    "from kudzu.layer import Sigmoid,Relu\n",
    "from kudzu.layer import Affine"
   ]
  },
  {
   "cell_type": "markdown",
   "id": "bc01172a",
   "metadata": {
    "papermill": {
     "duration": 0.035537,
     "end_time": "2022-10-19T20:13:05.782482",
     "exception": false,
     "start_time": "2022-10-19T20:13:05.746945",
     "status": "completed"
    },
    "tags": []
   },
   "source": [
    "### Let us create a `Config` class, to store important parameters. \n",
    "This class essentially plays the role of a dictionary."
   ]
  },
  {
   "cell_type": "code",
   "execution_count": 16,
   "id": "978281aa",
   "metadata": {
    "execution": {
     "iopub.execute_input": "2022-10-19T20:13:05.858199Z",
     "iopub.status.busy": "2022-10-19T20:13:05.857419Z",
     "iopub.status.idle": "2022-10-19T20:13:05.872122Z",
     "shell.execute_reply": "2022-10-19T20:13:05.871502Z"
    },
    "papermill": {
     "duration": 0.055389,
     "end_time": "2022-10-19T20:13:05.872285",
     "exception": false,
     "start_time": "2022-10-19T20:13:05.816896",
     "status": "completed"
    },
    "tags": []
   },
   "outputs": [],
   "source": [
    "class Config:\n",
    "    pass\n",
    "config = Config()\n",
    "config.lr = 0.001\n",
    "config.num_epochs = 250\n",
    "config.bs = 50"
   ]
  },
  {
   "cell_type": "markdown",
   "id": "1385fa59",
   "metadata": {
    "papermill": {
     "duration": 0.035254,
     "end_time": "2022-10-19T20:13:05.943271",
     "exception": false,
     "start_time": "2022-10-19T20:13:05.908017",
     "status": "completed"
    },
    "tags": []
   },
   "source": [
    "### Running Models with the Training data\n",
    "Details about the network layers:\n",
    "- A first affine layer has 784 inputs and does 100 affine transforms. These are followed by a Relu\n",
    "- A second affine layer has 100 inputs from the 100 activations of the past layer, and does 100 affine transforms. These are followed by a Relu\n",
    "- A third affine layer has 100 activations and does 2 affine transformations to create an embedding for visualization. There is no non-linearity here.\n",
    "- A final \"logistic regression\" which has an affine transform from 2 inputs to 1 output, which is squeezed through a sigmoid.\n"
   ]
  },
  {
   "cell_type": "code",
   "execution_count": 17,
   "id": "2b9c66db",
   "metadata": {
    "execution": {
     "iopub.execute_input": "2022-10-19T20:13:06.021686Z",
     "iopub.status.busy": "2022-10-19T20:13:06.020923Z",
     "iopub.status.idle": "2022-10-19T20:13:06.035916Z",
     "shell.execute_reply": "2022-10-19T20:13:06.035267Z"
    },
    "papermill": {
     "duration": 0.0574,
     "end_time": "2022-10-19T20:13:06.036059",
     "exception": false,
     "start_time": "2022-10-19T20:13:05.978659",
     "status": "completed"
    },
    "tags": []
   },
   "outputs": [],
   "source": [
    "data = Data(X_train, y_train.reshape(-1,1))\n",
    "sampler = Sampler(data, config.bs, shuffle=True)\n",
    "\n",
    "dl = Dataloader(data, sampler)\n",
    "\n",
    "opt = GD(config.lr)\n",
    "loss = MSE()"
   ]
  },
  {
   "cell_type": "code",
   "execution_count": 18,
   "id": "b275e4c2",
   "metadata": {
    "execution": {
     "iopub.execute_input": "2022-10-19T20:13:06.126122Z",
     "iopub.status.busy": "2022-10-19T20:13:06.125368Z",
     "iopub.status.idle": "2022-10-19T20:13:06.139591Z",
     "shell.execute_reply": "2022-10-19T20:13:06.138845Z"
    },
    "papermill": {
     "duration": 0.062724,
     "end_time": "2022-10-19T20:13:06.139733",
     "exception": false,
     "start_time": "2022-10-19T20:13:06.077009",
     "status": "completed"
    },
    "tags": []
   },
   "outputs": [],
   "source": [
    "training_data_x = X_train\n",
    "testing_data_x = X_test\n",
    "training_data_y = y_train.reshape(-1,1)\n",
    "testing_data_y = y_test.reshape(-1,1)"
   ]
  },
  {
   "cell_type": "code",
   "execution_count": 19,
   "id": "76951160",
   "metadata": {
    "execution": {
     "iopub.execute_input": "2022-10-19T20:13:06.220938Z",
     "iopub.status.busy": "2022-10-19T20:13:06.220124Z",
     "iopub.status.idle": "2022-10-19T20:13:06.240002Z",
     "shell.execute_reply": "2022-10-19T20:13:06.239189Z"
    },
    "papermill": {
     "duration": 0.062532,
     "end_time": "2022-10-19T20:13:06.240173",
     "exception": false,
     "start_time": "2022-10-19T20:13:06.177641",
     "status": "completed"
    },
    "tags": []
   },
   "outputs": [
    {
     "name": "stdout",
     "output_type": "stream",
     "text": [
      "xavier\n",
      "xavier\n",
      "xavier\n",
      "xavier\n",
      "xavier\n"
     ]
    }
   ],
   "source": [
    "layers = [Affine(\"first\", 784, 100), Relu(\"first\"), Affine(\"second\", 100, 100), Relu(\"second\"), Affine(\"third\", 100, 2), Affine(\"last\", 2, 1), Sigmoid(\"last\")]\n",
    "model_nn = Model(layers)\n",
    "model_lr = Model([Affine(\"logits\", 784, 1), Sigmoid(\"sigmoid\")])"
   ]
  },
  {
   "cell_type": "code",
   "execution_count": 20,
   "id": "6eede77a",
   "metadata": {
    "execution": {
     "iopub.execute_input": "2022-10-19T20:13:06.316777Z",
     "iopub.status.busy": "2022-10-19T20:13:06.316021Z",
     "iopub.status.idle": "2022-10-19T20:13:06.331074Z",
     "shell.execute_reply": "2022-10-19T20:13:06.330123Z"
    },
    "papermill": {
     "duration": 0.055753,
     "end_time": "2022-10-19T20:13:06.331213",
     "exception": false,
     "start_time": "2022-10-19T20:13:06.275460",
     "status": "completed"
    },
    "tags": []
   },
   "outputs": [],
   "source": [
    "nn_learner = Learner(loss, model_nn, opt, config.num_epochs)\n",
    "acc_nn = ClfCallback(nn_learner, config.bs, training_data_x , testing_data_x, training_data_y, testing_data_y)\n",
    "nn_learner.set_callbacks([acc_nn])"
   ]
  },
  {
   "cell_type": "code",
   "execution_count": 21,
   "id": "877b6cc7",
   "metadata": {
    "execution": {
     "iopub.execute_input": "2022-10-19T20:13:06.412564Z",
     "iopub.status.busy": "2022-10-19T20:13:06.411796Z",
     "iopub.status.idle": "2022-10-19T20:13:06.427091Z",
     "shell.execute_reply": "2022-10-19T20:13:06.426375Z"
    },
    "papermill": {
     "duration": 0.060614,
     "end_time": "2022-10-19T20:13:06.427249",
     "exception": false,
     "start_time": "2022-10-19T20:13:06.366635",
     "status": "completed"
    },
    "tags": []
   },
   "outputs": [],
   "source": [
    "lr_learner = Learner(loss, model_lr, opt, config.num_epochs)\n",
    "acc_lr = ClfCallback(lr_learner, config.bs, training_data_x , testing_data_x, training_data_y, testing_data_y)\n",
    "lr_learner.set_callbacks([acc_lr])"
   ]
  },
  {
   "cell_type": "code",
   "execution_count": 22,
   "id": "d9b133c3",
   "metadata": {
    "execution": {
     "iopub.execute_input": "2022-10-19T20:13:06.510833Z",
     "iopub.status.busy": "2022-10-19T20:13:06.510039Z",
     "iopub.status.idle": "2022-10-19T20:15:12.707093Z",
     "shell.execute_reply": "2022-10-19T20:15:12.708009Z"
    },
    "papermill": {
     "duration": 126.239574,
     "end_time": "2022-10-19T20:15:12.708193",
     "exception": false,
     "start_time": "2022-10-19T20:13:06.468619",
     "status": "completed"
    },
    "tags": []
   },
   "outputs": [
    {
     "name": "stdout",
     "output_type": "stream",
     "text": [
      "Epoch 0, Loss 0.26\n",
      "Training Accuracy: 0.4257, Testing Accuracy: 0.4153\n",
      "\n"
     ]
    },
    {
     "name": "stdout",
     "output_type": "stream",
     "text": [
      "Epoch 10, Loss 0.1826\n",
      "Training Accuracy: 0.8733, Testing Accuracy: 0.8901\n",
      "\n"
     ]
    },
    {
     "name": "stdout",
     "output_type": "stream",
     "text": [
      "Epoch 20, Loss 0.0906\n",
      "Training Accuracy: 0.9172, Testing Accuracy: 0.9289\n",
      "\n"
     ]
    },
    {
     "name": "stdout",
     "output_type": "stream",
     "text": [
      "Epoch 30, Loss 0.0585\n",
      "Training Accuracy: 0.9388, Testing Accuracy: 0.9526\n",
      "\n"
     ]
    },
    {
     "name": "stdout",
     "output_type": "stream",
     "text": [
      "Epoch 40, Loss 0.046\n",
      "Training Accuracy: 0.9495, Testing Accuracy: 0.9587\n",
      "\n"
     ]
    },
    {
     "name": "stdout",
     "output_type": "stream",
     "text": [
      "Epoch 50, Loss 0.0397\n",
      "Training Accuracy: 0.9553, Testing Accuracy: 0.9632\n",
      "\n"
     ]
    },
    {
     "name": "stdout",
     "output_type": "stream",
     "text": [
      "Epoch 60, Loss 0.0359\n",
      "Training Accuracy: 0.9583, Testing Accuracy: 0.9657\n",
      "\n"
     ]
    },
    {
     "name": "stdout",
     "output_type": "stream",
     "text": [
      "Epoch 70, Loss 0.0333\n",
      "Training Accuracy: 0.9611, Testing Accuracy: 0.9682\n",
      "\n"
     ]
    },
    {
     "name": "stdout",
     "output_type": "stream",
     "text": [
      "Epoch 80, Loss 0.0314\n",
      "Training Accuracy: 0.9632, Testing Accuracy: 0.9693\n",
      "\n"
     ]
    },
    {
     "name": "stdout",
     "output_type": "stream",
     "text": [
      "Epoch 90, Loss 0.0298\n",
      "Training Accuracy: 0.9649, Testing Accuracy: 0.9703\n",
      "\n"
     ]
    },
    {
     "name": "stdout",
     "output_type": "stream",
     "text": [
      "Epoch 100, Loss 0.0286\n",
      "Training Accuracy: 0.9654, Testing Accuracy: 0.9698\n",
      "\n"
     ]
    },
    {
     "name": "stdout",
     "output_type": "stream",
     "text": [
      "Epoch 110, Loss 0.0276\n",
      "Training Accuracy: 0.9665, Testing Accuracy: 0.9693\n",
      "\n"
     ]
    },
    {
     "name": "stdout",
     "output_type": "stream",
     "text": [
      "Epoch 120, Loss 0.0267\n",
      "Training Accuracy: 0.9680, Testing Accuracy: 0.9703\n",
      "\n"
     ]
    },
    {
     "name": "stdout",
     "output_type": "stream",
     "text": [
      "Epoch 130, Loss 0.0259\n",
      "Training Accuracy: 0.9690, Testing Accuracy: 0.9703\n",
      "\n"
     ]
    },
    {
     "name": "stdout",
     "output_type": "stream",
     "text": [
      "Epoch 140, Loss 0.0252\n",
      "Training Accuracy: 0.9703, Testing Accuracy: 0.9708\n",
      "\n"
     ]
    },
    {
     "name": "stdout",
     "output_type": "stream",
     "text": [
      "Epoch 150, Loss 0.0245\n",
      "Training Accuracy: 0.9709, Testing Accuracy: 0.9708\n",
      "\n"
     ]
    },
    {
     "name": "stdout",
     "output_type": "stream",
     "text": [
      "Epoch 160, Loss 0.0239\n",
      "Training Accuracy: 0.9720, Testing Accuracy: 0.9713\n",
      "\n"
     ]
    },
    {
     "name": "stdout",
     "output_type": "stream",
     "text": [
      "Epoch 170, Loss 0.0234\n",
      "Training Accuracy: 0.9725, Testing Accuracy: 0.9728\n",
      "\n"
     ]
    },
    {
     "name": "stdout",
     "output_type": "stream",
     "text": [
      "Epoch 180, Loss 0.0228\n",
      "Training Accuracy: 0.9738, Testing Accuracy: 0.9733\n",
      "\n"
     ]
    },
    {
     "name": "stdout",
     "output_type": "stream",
     "text": [
      "Epoch 190, Loss 0.0223\n",
      "Training Accuracy: 0.9743, Testing Accuracy: 0.9733\n",
      "\n"
     ]
    },
    {
     "name": "stdout",
     "output_type": "stream",
     "text": [
      "Epoch 200, Loss 0.0219\n",
      "Training Accuracy: 0.9747, Testing Accuracy: 0.9733\n",
      "\n"
     ]
    },
    {
     "name": "stdout",
     "output_type": "stream",
     "text": [
      "Epoch 210, Loss 0.0214\n",
      "Training Accuracy: 0.9756, Testing Accuracy: 0.9733\n",
      "\n"
     ]
    },
    {
     "name": "stdout",
     "output_type": "stream",
     "text": [
      "Epoch 220, Loss 0.021\n",
      "Training Accuracy: 0.9765, Testing Accuracy: 0.9738\n",
      "\n"
     ]
    },
    {
     "name": "stdout",
     "output_type": "stream",
     "text": [
      "Epoch 230, Loss 0.0206\n",
      "Training Accuracy: 0.9768, Testing Accuracy: 0.9748\n",
      "\n"
     ]
    },
    {
     "name": "stdout",
     "output_type": "stream",
     "text": [
      "Epoch 240, Loss 0.0202\n",
      "Training Accuracy: 0.9772, Testing Accuracy: 0.9748\n",
      "\n"
     ]
    },
    {
     "data": {
      "text/plain": [
       "0.0054039561092925105"
      ]
     },
     "execution_count": 22,
     "metadata": {},
     "output_type": "execute_result"
    }
   ],
   "source": [
    "nn_learner.train_loop(dl)"
   ]
  },
  {
   "cell_type": "code",
   "execution_count": 23,
   "id": "e0163366",
   "metadata": {
    "execution": {
     "iopub.execute_input": "2022-10-19T20:15:12.812965Z",
     "iopub.status.busy": "2022-10-19T20:15:12.812199Z",
     "iopub.status.idle": "2022-10-19T20:15:31.357509Z",
     "shell.execute_reply": "2022-10-19T20:15:31.358692Z"
    },
    "papermill": {
     "duration": 18.605354,
     "end_time": "2022-10-19T20:15:31.358875",
     "exception": false,
     "start_time": "2022-10-19T20:15:12.753521",
     "status": "completed"
    },
    "tags": []
   },
   "outputs": [
    {
     "name": "stdout",
     "output_type": "stream",
     "text": [
      "Epoch 0, Loss 0.2512\n",
      "Training Accuracy: 0.6492, Testing Accuracy: 0.6356\n",
      "\n"
     ]
    },
    {
     "name": "stdout",
     "output_type": "stream",
     "text": [
      "Epoch 10, Loss 0.1017\n",
      "Training Accuracy: 0.9163, Testing Accuracy: 0.9269\n",
      "\n"
     ]
    },
    {
     "name": "stdout",
     "output_type": "stream",
     "text": [
      "Epoch 20, Loss 0.078\n",
      "Training Accuracy: 0.9328, Testing Accuracy: 0.9446\n",
      "\n"
     ]
    },
    {
     "name": "stdout",
     "output_type": "stream",
     "text": [
      "Epoch 30, Loss 0.0673\n",
      "Training Accuracy: 0.9402, Testing Accuracy: 0.9481\n",
      "\n"
     ]
    },
    {
     "name": "stdout",
     "output_type": "stream",
     "text": [
      "Epoch 40, Loss 0.0609\n",
      "Training Accuracy: 0.9446, Testing Accuracy: 0.9516\n",
      "\n"
     ]
    },
    {
     "name": "stdout",
     "output_type": "stream",
     "text": [
      "Epoch 50, Loss 0.0566\n",
      "Training Accuracy: 0.9468, Testing Accuracy: 0.9561\n",
      "\n"
     ]
    },
    {
     "name": "stdout",
     "output_type": "stream",
     "text": [
      "Epoch 60, Loss 0.0533\n",
      "Training Accuracy: 0.9492, Testing Accuracy: 0.9582\n",
      "\n"
     ]
    },
    {
     "name": "stdout",
     "output_type": "stream",
     "text": [
      "Epoch 70, Loss 0.0508\n",
      "Training Accuracy: 0.9510, Testing Accuracy: 0.9602\n",
      "\n"
     ]
    },
    {
     "name": "stdout",
     "output_type": "stream",
     "text": [
      "Epoch 80, Loss 0.0488\n",
      "Training Accuracy: 0.9521, Testing Accuracy: 0.9612\n",
      "\n"
     ]
    },
    {
     "name": "stdout",
     "output_type": "stream",
     "text": [
      "Epoch 90, Loss 0.0472\n",
      "Training Accuracy: 0.9539, Testing Accuracy: 0.9637\n",
      "\n"
     ]
    },
    {
     "name": "stdout",
     "output_type": "stream",
     "text": [
      "Epoch 100, Loss 0.0458\n",
      "Training Accuracy: 0.9547, Testing Accuracy: 0.9632\n",
      "\n"
     ]
    },
    {
     "name": "stdout",
     "output_type": "stream",
     "text": [
      "Epoch 110, Loss 0.0445\n",
      "Training Accuracy: 0.9557, Testing Accuracy: 0.9627\n",
      "\n"
     ]
    },
    {
     "name": "stdout",
     "output_type": "stream",
     "text": [
      "Epoch 120, Loss 0.0435\n",
      "Training Accuracy: 0.9558, Testing Accuracy: 0.9647\n",
      "\n"
     ]
    },
    {
     "name": "stdout",
     "output_type": "stream",
     "text": [
      "Epoch 130, Loss 0.0426\n",
      "Training Accuracy: 0.9566, Testing Accuracy: 0.9647\n",
      "\n"
     ]
    },
    {
     "name": "stdout",
     "output_type": "stream",
     "text": [
      "Epoch 140, Loss 0.0418\n",
      "Training Accuracy: 0.9569, Testing Accuracy: 0.9642\n",
      "\n"
     ]
    },
    {
     "name": "stdout",
     "output_type": "stream",
     "text": [
      "Epoch 150, Loss 0.041\n",
      "Training Accuracy: 0.9569, Testing Accuracy: 0.9647\n",
      "\n"
     ]
    },
    {
     "name": "stdout",
     "output_type": "stream",
     "text": [
      "Epoch 160, Loss 0.0404\n",
      "Training Accuracy: 0.9573, Testing Accuracy: 0.9657\n",
      "\n"
     ]
    },
    {
     "name": "stdout",
     "output_type": "stream",
     "text": [
      "Epoch 170, Loss 0.0398\n",
      "Training Accuracy: 0.9579, Testing Accuracy: 0.9652\n",
      "\n"
     ]
    },
    {
     "name": "stdout",
     "output_type": "stream",
     "text": [
      "Epoch 180, Loss 0.0392\n",
      "Training Accuracy: 0.9586, Testing Accuracy: 0.9652\n",
      "\n"
     ]
    },
    {
     "name": "stdout",
     "output_type": "stream",
     "text": [
      "Epoch 190, Loss 0.0387\n",
      "Training Accuracy: 0.9589, Testing Accuracy: 0.9652\n",
      "\n"
     ]
    },
    {
     "name": "stdout",
     "output_type": "stream",
     "text": [
      "Epoch 200, Loss 0.0382\n",
      "Training Accuracy: 0.9599, Testing Accuracy: 0.9657\n",
      "\n"
     ]
    },
    {
     "name": "stdout",
     "output_type": "stream",
     "text": [
      "Epoch 210, Loss 0.0378\n",
      "Training Accuracy: 0.9602, Testing Accuracy: 0.9662\n",
      "\n"
     ]
    },
    {
     "name": "stdout",
     "output_type": "stream",
     "text": [
      "Epoch 220, Loss 0.0374\n",
      "Training Accuracy: 0.9603, Testing Accuracy: 0.9657\n",
      "\n"
     ]
    },
    {
     "name": "stdout",
     "output_type": "stream",
     "text": [
      "Epoch 230, Loss 0.037\n",
      "Training Accuracy: 0.9604, Testing Accuracy: 0.9657\n",
      "\n"
     ]
    },
    {
     "name": "stdout",
     "output_type": "stream",
     "text": [
      "Epoch 240, Loss 0.0366\n",
      "Training Accuracy: 0.9608, Testing Accuracy: 0.9662\n",
      "\n"
     ]
    },
    {
     "data": {
      "text/plain": [
       "0.08203396502892511"
      ]
     },
     "execution_count": 23,
     "metadata": {},
     "output_type": "execute_result"
    }
   ],
   "source": [
    "lr_learner.train_loop(dl)"
   ]
  },
  {
   "cell_type": "code",
   "execution_count": 24,
   "id": "ca410940",
   "metadata": {
    "execution": {
     "iopub.execute_input": "2022-10-19T20:15:31.480721Z",
     "iopub.status.busy": "2022-10-19T20:15:31.479661Z",
     "iopub.status.idle": "2022-10-19T20:15:31.786496Z",
     "shell.execute_reply": "2022-10-19T20:15:31.785879Z"
    },
    "papermill": {
     "duration": 0.371572,
     "end_time": "2022-10-19T20:15:31.786630",
     "exception": false,
     "start_time": "2022-10-19T20:15:31.415058",
     "status": "completed"
    },
    "tags": []
   },
   "outputs": [
    {
     "data": {
      "text/plain": [
       "<matplotlib.legend.Legend at 0x7fc074875438>"
      ]
     },
     "execution_count": 24,
     "metadata": {},
     "output_type": "execute_result"
    },
    {
     "data": {
      "image/png": "[encoded data removed]",
      "text/plain": [
       "<Figure size 1080x720 with 1 Axes>"
      ]
     },
     "metadata": {
      "needs_background": "light"
     },
     "output_type": "display_data"
    }
   ],
   "source": [
    "#comparing the results of NN and LR\n",
    "plt.figure(figsize=(15,10))\n",
    "\n",
    "# Neural Network plots\n",
    "plt.plot(acc_nn.accuracies, 'r-', label = \"Training Accuracies - NN\")\n",
    "plt.plot(acc_nn.test_accuracies, 'g-', label = \"Testing Accuracies - NN\")\n",
    "\n",
    "# Logistic Regression plots\n",
    "plt.plot(acc_lr.accuracies, 'k-', label = \"Training Accuracies - LR\")\n",
    "plt.plot(acc_lr.test_accuracies, 'b-', label = \"Testing Accuracies - LR\")\n",
    "plt.legend()"
   ]
  },
  {
   "cell_type": "markdown",
   "id": "80dfb35c",
   "metadata": {
    "papermill": {
     "duration": 0.053892,
     "end_time": "2022-10-19T20:15:31.899443",
     "exception": false,
     "start_time": "2022-10-19T20:15:31.845551",
     "status": "completed"
    },
    "tags": []
   },
   "source": [
    "#### Plotting the outputs of this layer of the NN.\n"
   ]
  },
  {
   "cell_type": "code",
   "execution_count": 25,
   "id": "45eb2ff5",
   "metadata": {
    "execution": {
     "iopub.execute_input": "2022-10-19T20:15:32.023476Z",
     "iopub.status.busy": "2022-10-19T20:15:32.018630Z",
     "iopub.status.idle": "2022-10-19T20:15:32.044895Z",
     "shell.execute_reply": "2022-10-19T20:15:32.045850Z"
    },
    "papermill": {
     "duration": 0.08652,
     "end_time": "2022-10-19T20:15:32.046054",
     "exception": false,
     "start_time": "2022-10-19T20:15:31.959534",
     "status": "completed"
    },
    "tags": []
   },
   "outputs": [],
   "source": [
    "new_model = Model(layers[:-2])\n",
    "testing_plot = new_model(testing_data_x)"
   ]
  },
  {
   "cell_type": "code",
   "execution_count": 26,
   "id": "4c0a5485",
   "metadata": {
    "execution": {
     "iopub.execute_input": "2022-10-19T20:15:32.169309Z",
     "iopub.status.busy": "2022-10-19T20:15:32.168130Z",
     "iopub.status.idle": "2022-10-19T20:15:32.432417Z",
     "shell.execute_reply": "2022-10-19T20:15:32.433055Z"
    },
    "papermill": {
     "duration": 0.328989,
     "end_time": "2022-10-19T20:15:32.433227",
     "exception": false,
     "start_time": "2022-10-19T20:15:32.104238",
     "status": "completed"
    },
    "tags": []
   },
   "outputs": [
    {
     "data": {
      "text/plain": [
       "Text(0.5, 1.0, 'Outputs')"
      ]
     },
     "execution_count": 26,
     "metadata": {},
     "output_type": "execute_result"
    },
    {
     "data": {
      "image/png": "[encoded data removed]",
      "text/plain": [
       "<Figure size 576x504 with 1 Axes>"
      ]
     },
     "metadata": {
      "needs_background": "light"
     },
     "output_type": "display_data"
    }
   ],
   "source": [
    "# Plotting the scatter plot of points and color coding by class\n",
    "plt.figure(figsize=(8,7))\n",
    "plt.scatter(testing_plot[:,0], testing_plot[:,1], alpha = 0.1, c = y_test.ravel());\n",
    "plt.title('Outputs')"
   ]
  },
  {
   "cell_type": "markdown",
   "id": "a74fcf8f",
   "metadata": {
    "papermill": {
     "duration": 0.086734,
     "end_time": "2022-10-19T20:15:32.577399",
     "exception": false,
     "start_time": "2022-10-19T20:15:32.490665",
     "status": "completed"
    },
    "tags": []
   },
   "source": [
    "Probability contours"
   ]
  },
  {
   "cell_type": "code",
   "execution_count": 27,
   "id": "d0afc8e3",
   "metadata": {
    "execution": {
     "iopub.execute_input": "2022-10-19T20:15:32.701527Z",
     "iopub.status.busy": "2022-10-19T20:15:32.700752Z",
     "iopub.status.idle": "2022-10-19T20:15:32.713910Z",
     "shell.execute_reply": "2022-10-19T20:15:32.714584Z"
    },
    "papermill": {
     "duration": 0.07913,
     "end_time": "2022-10-19T20:15:32.714746",
     "exception": false,
     "start_time": "2022-10-19T20:15:32.635616",
     "status": "completed"
    },
    "tags": []
   },
   "outputs": [],
   "source": [
    "model_prob = Model(layers[-2:]) "
   ]
  },
  {
   "cell_type": "code",
   "execution_count": 28,
   "id": "9b96e238",
   "metadata": {
    "execution": {
     "iopub.execute_input": "2022-10-19T20:15:32.839958Z",
     "iopub.status.busy": "2022-10-19T20:15:32.839170Z",
     "iopub.status.idle": "2022-10-19T20:15:32.851840Z",
     "shell.execute_reply": "2022-10-19T20:15:32.851225Z"
    },
    "papermill": {
     "duration": 0.079028,
     "end_time": "2022-10-19T20:15:32.851985",
     "exception": false,
     "start_time": "2022-10-19T20:15:32.772957",
     "status": "completed"
    },
    "tags": []
   },
   "outputs": [],
   "source": [
    "#creating the x and y ranges according to the above generated plot.\n",
    "x_range = np.linspace(-4, 1, 100) \n",
    "y_range = np.linspace(-6, 6, 100) \n",
    "x_grid, y_grid = np.meshgrid(x_range, y_range) # x_grid and y_grig are of size 100 X 100\n",
    "\n",
    "# converting x_grid and y_grid to continuous arrays\n",
    "x_gridflat = np.ravel(x_grid)\n",
    "y_gridflat = np.ravel(y_grid)\n",
    "\n",
    "# The last layer of the current model takes two columns as input. Hence transpose of np.vstack() is required.\n",
    "X = np.vstack((x_gridflat, y_gridflat)).T\n",
    "\n",
    "prob_contour = model_prob(X).reshape(100,100) "
   ]
  },
  {
   "cell_type": "code",
   "execution_count": 29,
   "id": "da72499a",
   "metadata": {
    "execution": {
     "iopub.execute_input": "2022-10-19T20:15:32.975142Z",
     "iopub.status.busy": "2022-10-19T20:15:32.974249Z",
     "iopub.status.idle": "2022-10-19T20:15:33.309452Z",
     "shell.execute_reply": "2022-10-19T20:15:33.310056Z"
    },
    "papermill": {
     "duration": 0.399135,
     "end_time": "2022-10-19T20:15:33.310234",
     "exception": false,
     "start_time": "2022-10-19T20:15:32.911099",
     "status": "completed"
    },
    "tags": []
   },
   "outputs": [
    {
     "data": {
      "image/png": "[encoded data removed]",
      "text/plain": [
       "<Figure size 720x648 with 1 Axes>"
      ]
     },
     "metadata": {
      "needs_background": "light"
     },
     "output_type": "display_data"
    }
   ],
   "source": [
    "plt.figure(figsize=(10,9))\n",
    "plt.scatter(testing_plot[:,0], testing_plot[:,1], alpha = 0.1, c = y_test.ravel())\n",
    "contours = plt.contour(x_grid,y_grid,prob_contour)\n",
    "plt.title('Probability Contours')\n",
    "plt.clabel(contours, inline = True );"
   ]
  },
  {
   "cell_type": "code",
   "execution_count": null,
   "id": "e81b4ac7",
   "metadata": {
    "papermill": {
     "duration": 0.061983,
     "end_time": "2022-10-19T20:15:33.434152",
     "exception": false,
     "start_time": "2022-10-19T20:15:33.372169",
     "status": "completed"
    },
    "tags": []
   },
   "outputs": [],
   "source": []
  }
 ],
 "metadata": {
  "kernelspec": {
   "display_name": "Python 3",
   "language": "python",
   "name": "python3"
  },
  "language_info": {
   "codemirror_mode": {
    "name": "ipython",
    "version": 3
   },
   "file_extension": ".py",
   "mimetype": "text/x-python",
   "name": "python",
   "nbconvert_exporter": "python",
   "pygments_lexer": "ipython3",
   "version": "3.6.15"
  },
  "papermill": {
   "default_parameters": {},
   "duration": 155.145227,
   "end_time": "2022-10-19T20:15:33.917779",
   "environment_variables": {},
   "exception": null,
   "input_path": "2020-08-11-part2.ipynb",
   "output_path": "2020-08-11-part2.ipynb",
   "parameters": {},
   "start_time": "2022-10-19T20:12:58.772552",
   "version": "2.3.3"
  }
 },
 "nbformat": 4,
 "nbformat_minor": 5
}