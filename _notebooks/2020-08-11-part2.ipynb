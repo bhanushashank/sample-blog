{
 "cells": [
  {
   "cell_type": "markdown",
   "id": "98380cd3",
   "metadata": {
    "papermill": {
     "duration": 0.027934,
     "end_time": "2021-11-26T10:09:02.098036",
     "exception": false,
     "start_time": "2021-11-26T10:09:02.070102",
     "status": "completed"
    },
    "tags": []
   },
   "source": [
    "# Distinguish Your Own Digits (DYOD)"
   ]
  },
  {
   "cell_type": "markdown",
   "id": "ef31240d",
   "metadata": {
    "papermill": {
     "duration": 0.02557,
     "end_time": "2021-11-26T10:09:02.148346",
     "exception": false,
     "start_time": "2021-11-26T10:09:02.122776",
     "status": "completed"
    },
    "tags": []
   },
   "source": [
    "You are going to write a classifier that distinguishes between the number 3 and number 8."
   ]
  },
  {
   "cell_type": "code",
   "execution_count": 1,
   "id": "b15c8646",
   "metadata": {
    "execution": {
     "iopub.execute_input": "2021-11-26T10:09:02.207536Z",
     "iopub.status.busy": "2021-11-26T10:09:02.206969Z",
     "iopub.status.idle": "2021-11-26T10:09:02.217535Z",
     "shell.execute_reply": "2021-11-26T10:09:02.217100Z"
    },
    "papermill": {
     "duration": 0.045398,
     "end_time": "2021-11-26T10:09:02.217668",
     "exception": false,
     "start_time": "2021-11-26T10:09:02.172270",
     "status": "completed"
    },
    "tags": []
   },
   "outputs": [],
   "source": [
    "%load_ext autoreload\n",
    "%autoreload 2"
   ]
  },
  {
   "cell_type": "code",
   "execution_count": 2,
   "id": "22ef38dc",
   "metadata": {
    "execution": {
     "iopub.execute_input": "2021-11-26T10:09:02.273412Z",
     "iopub.status.busy": "2021-11-26T10:09:02.272883Z",
     "iopub.status.idle": "2021-11-26T10:09:02.874024Z",
     "shell.execute_reply": "2021-11-26T10:09:02.873487Z"
    },
    "papermill": {
     "duration": 0.632374,
     "end_time": "2021-11-26T10:09:02.874165",
     "exception": false,
     "start_time": "2021-11-26T10:09:02.241791",
     "status": "completed"
    },
    "tags": []
   },
   "outputs": [],
   "source": [
    "%matplotlib inline\n",
    "import numpy as np\n",
    "import matplotlib.pyplot as plt\n",
    "import pandas as pd"
   ]
  },
  {
   "cell_type": "markdown",
   "id": "ba036198",
   "metadata": {
    "papermill": {
     "duration": 0.024146,
     "end_time": "2021-11-26T10:09:02.923299",
     "exception": false,
     "start_time": "2021-11-26T10:09:02.899153",
     "status": "completed"
    },
    "tags": []
   },
   "source": [
    "From the command line run `pip install mnist`. This is a library that will help you bring down the mnist dataset. If you run this from a notebook, you need to put  `!pip install mnist` in a cell by itself."
   ]
  },
  {
   "cell_type": "code",
   "execution_count": 3,
   "id": "bb6ad8a1",
   "metadata": {
    "execution": {
     "iopub.execute_input": "2021-11-26T10:09:02.980438Z",
     "iopub.status.busy": "2021-11-26T10:09:02.979858Z",
     "iopub.status.idle": "2021-11-26T10:09:04.735004Z",
     "shell.execute_reply": "2021-11-26T10:09:04.734439Z"
    },
    "papermill": {
     "duration": 1.787619,
     "end_time": "2021-11-26T10:09:04.735148",
     "exception": false,
     "start_time": "2021-11-26T10:09:02.947529",
     "status": "completed"
    },
    "tags": []
   },
   "outputs": [
    {
     "name": "stdout",
     "output_type": "stream",
     "text": [
      "Collecting mnist\r\n"
     ]
    },
    {
     "name": "stdout",
     "output_type": "stream",
     "text": [
      "  Downloading mnist-0.2.2-py2.py3-none-any.whl (3.5 kB)\r\n"
     ]
    },
    {
     "name": "stdout",
     "output_type": "stream",
     "text": [
      "Requirement already satisfied: numpy in /opt/hostedtoolcache/Python/3.6.15/x64/lib/python3.6/site-packages (from mnist) (1.19.5)\r\n"
     ]
    },
    {
     "name": "stdout",
     "output_type": "stream",
     "text": [
      "Installing collected packages: mnist\r\n",
      "Successfully installed mnist-0.2.2\r\n"
     ]
    }
   ],
   "source": [
    "!pip install mnist"
   ]
  },
  {
   "cell_type": "markdown",
   "id": "69df9c9a",
   "metadata": {
    "papermill": {
     "duration": 0.02516,
     "end_time": "2021-11-26T10:09:04.785721",
     "exception": false,
     "start_time": "2021-11-26T10:09:04.760561",
     "status": "completed"
    },
    "tags": []
   },
   "source": [
    "## Preparing the Data"
   ]
  },
  {
   "cell_type": "code",
   "execution_count": 4,
   "id": "7f69d806",
   "metadata": {
    "execution": {
     "iopub.execute_input": "2021-11-26T10:09:04.840014Z",
     "iopub.status.busy": "2021-11-26T10:09:04.839508Z",
     "iopub.status.idle": "2021-11-26T10:09:04.855083Z",
     "shell.execute_reply": "2021-11-26T10:09:04.854624Z"
    },
    "papermill": {
     "duration": 0.04437,
     "end_time": "2021-11-26T10:09:04.855208",
     "exception": false,
     "start_time": "2021-11-26T10:09:04.810838",
     "status": "completed"
    },
    "tags": []
   },
   "outputs": [],
   "source": [
    "import mnist"
   ]
  },
  {
   "cell_type": "code",
   "execution_count": 5,
   "id": "a411e44f",
   "metadata": {
    "execution": {
     "iopub.execute_input": "2021-11-26T10:09:04.909558Z",
     "iopub.status.busy": "2021-11-26T10:09:04.909029Z",
     "iopub.status.idle": "2021-11-26T10:09:05.475883Z",
     "shell.execute_reply": "2021-11-26T10:09:05.475340Z"
    },
    "papermill": {
     "duration": 0.595551,
     "end_time": "2021-11-26T10:09:05.476025",
     "exception": false,
     "start_time": "2021-11-26T10:09:04.880474",
     "status": "completed"
    },
    "tags": []
   },
   "outputs": [],
   "source": [
    "train_images = mnist.train_images()\n",
    "train_labels = mnist.train_labels()"
   ]
  },
  {
   "cell_type": "code",
   "execution_count": 6,
   "id": "dceab3a5",
   "metadata": {
    "execution": {
     "iopub.execute_input": "2021-11-26T10:09:05.532155Z",
     "iopub.status.busy": "2021-11-26T10:09:05.531622Z",
     "iopub.status.idle": "2021-11-26T10:09:05.546432Z",
     "shell.execute_reply": "2021-11-26T10:09:05.546006Z"
    },
    "papermill": {
     "duration": 0.04411,
     "end_time": "2021-11-26T10:09:05.546553",
     "exception": false,
     "start_time": "2021-11-26T10:09:05.502443",
     "status": "completed"
    },
    "tags": []
   },
   "outputs": [
    {
     "data": {
      "text/plain": [
       "((60000, 28, 28), (60000,))"
      ]
     },
     "execution_count": 6,
     "metadata": {},
     "output_type": "execute_result"
    }
   ],
   "source": [
    "train_images.shape, train_labels.shape"
   ]
  },
  {
   "cell_type": "code",
   "execution_count": 7,
   "id": "f50dc2bb",
   "metadata": {
    "execution": {
     "iopub.execute_input": "2021-11-26T10:09:05.604391Z",
     "iopub.status.busy": "2021-11-26T10:09:05.603814Z",
     "iopub.status.idle": "2021-11-26T10:09:05.798827Z",
     "shell.execute_reply": "2021-11-26T10:09:05.798355Z"
    },
    "papermill": {
     "duration": 0.226958,
     "end_time": "2021-11-26T10:09:05.798986",
     "exception": false,
     "start_time": "2021-11-26T10:09:05.572028",
     "status": "completed"
    },
    "tags": []
   },
   "outputs": [],
   "source": [
    "test_images = mnist.test_images()\n",
    "test_labels = mnist.test_labels()"
   ]
  },
  {
   "cell_type": "code",
   "execution_count": 8,
   "id": "fc38cf1b",
   "metadata": {
    "execution": {
     "iopub.execute_input": "2021-11-26T10:09:05.854427Z",
     "iopub.status.busy": "2021-11-26T10:09:05.853806Z",
     "iopub.status.idle": "2021-11-26T10:09:05.867412Z",
     "shell.execute_reply": "2021-11-26T10:09:05.867912Z"
    },
    "papermill": {
     "duration": 0.043109,
     "end_time": "2021-11-26T10:09:05.868057",
     "exception": false,
     "start_time": "2021-11-26T10:09:05.824948",
     "status": "completed"
    },
    "tags": []
   },
   "outputs": [
    {
     "data": {
      "text/plain": [
       "((10000, 28, 28), (10000,))"
      ]
     },
     "execution_count": 8,
     "metadata": {},
     "output_type": "execute_result"
    }
   ],
   "source": [
    "test_images.shape, test_labels.shape"
   ]
  },
  {
   "cell_type": "code",
   "execution_count": 9,
   "id": "f9ed8fe0",
   "metadata": {
    "execution": {
     "iopub.execute_input": "2021-11-26T10:09:05.924319Z",
     "iopub.status.busy": "2021-11-26T10:09:05.923761Z",
     "iopub.status.idle": "2021-11-26T10:09:06.067078Z",
     "shell.execute_reply": "2021-11-26T10:09:06.067490Z"
    },
    "papermill": {
     "duration": 0.174053,
     "end_time": "2021-11-26T10:09:06.067642",
     "exception": false,
     "start_time": "2021-11-26T10:09:05.893589",
     "status": "completed"
    },
    "tags": []
   },
   "outputs": [
    {
     "name": "stdout",
     "output_type": "stream",
     "text": [
      "2\n"
     ]
    },
    {
     "data": {
      "text/plain": [
       "<matplotlib.image.AxesImage at 0x7f0a16025160>"
      ]
     },
     "execution_count": 9,
     "metadata": {},
     "output_type": "execute_result"
    },
    {
     "data": {
      "image/png": "[encoded data removed]",
      "text/plain": [
       "<Figure size 432x288 with 1 Axes>"
      ]
     },
     "metadata": {
      "needs_background": "light"
     },
     "output_type": "display_data"
    }
   ],
   "source": [
    "image_index = 7776 # You may select anything up to 60,000\n",
    "print(train_labels[image_index]) \n",
    "plt.imshow(train_images[image_index], cmap='Greys')"
   ]
  },
  {
   "cell_type": "markdown",
   "id": "a8d2388d",
   "metadata": {
    "papermill": {
     "duration": 0.027173,
     "end_time": "2021-11-26T10:09:06.121745",
     "exception": false,
     "start_time": "2021-11-26T10:09:06.094572",
     "status": "completed"
    },
    "tags": []
   },
   "source": [
    "## Filter data to get 3 and 8 out"
   ]
  },
  {
   "cell_type": "code",
   "execution_count": 10,
   "id": "776f7fc7",
   "metadata": {
    "execution": {
     "iopub.execute_input": "2021-11-26T10:09:06.191957Z",
     "iopub.status.busy": "2021-11-26T10:09:06.187929Z",
     "iopub.status.idle": "2021-11-26T10:09:06.199048Z",
     "shell.execute_reply": "2021-11-26T10:09:06.199440Z"
    },
    "papermill": {
     "duration": 0.051337,
     "end_time": "2021-11-26T10:09:06.199584",
     "exception": false,
     "start_time": "2021-11-26T10:09:06.148247",
     "status": "completed"
    },
    "tags": []
   },
   "outputs": [],
   "source": [
    "train_filter = np.where((train_labels == 3 ) | (train_labels == 8))\n",
    "test_filter = np.where((test_labels == 3) | (test_labels == 8))\n",
    "X_train, y_train = train_images[train_filter], train_labels[train_filter]\n",
    "X_test, y_test = test_images[test_filter], test_labels[test_filter]"
   ]
  },
  {
   "cell_type": "markdown",
   "id": "948f0b7e",
   "metadata": {
    "papermill": {
     "duration": 0.026514,
     "end_time": "2021-11-26T10:09:06.252798",
     "exception": false,
     "start_time": "2021-11-26T10:09:06.226284",
     "status": "completed"
    },
    "tags": []
   },
   "source": [
    "We normalize the pizel values in the 0 to 1 range"
   ]
  },
  {
   "cell_type": "code",
   "execution_count": 11,
   "id": "ee4c2166",
   "metadata": {
    "execution": {
     "iopub.execute_input": "2021-11-26T10:09:06.314022Z",
     "iopub.status.busy": "2021-11-26T10:09:06.313488Z",
     "iopub.status.idle": "2021-11-26T10:09:06.360881Z",
     "shell.execute_reply": "2021-11-26T10:09:06.360376Z"
    },
    "papermill": {
     "duration": 0.081597,
     "end_time": "2021-11-26T10:09:06.361019",
     "exception": false,
     "start_time": "2021-11-26T10:09:06.279422",
     "status": "completed"
    },
    "tags": []
   },
   "outputs": [],
   "source": [
    "X_train = X_train/255.\n",
    "X_test = X_test/255."
   ]
  },
  {
   "cell_type": "markdown",
   "id": "ddcf4fab",
   "metadata": {
    "papermill": {
     "duration": 0.027261,
     "end_time": "2021-11-26T10:09:06.415366",
     "exception": false,
     "start_time": "2021-11-26T10:09:06.388105",
     "status": "completed"
    },
    "tags": []
   },
   "source": [
    "And setup the labels as 1 (when the digit is 3) and 0 (when the digit is 8)"
   ]
  },
  {
   "cell_type": "code",
   "execution_count": 12,
   "id": "7dc908f2",
   "metadata": {
    "execution": {
     "iopub.execute_input": "2021-11-26T10:09:06.473176Z",
     "iopub.status.busy": "2021-11-26T10:09:06.472647Z",
     "iopub.status.idle": "2021-11-26T10:09:06.484556Z",
     "shell.execute_reply": "2021-11-26T10:09:06.484133Z"
    },
    "papermill": {
     "duration": 0.042709,
     "end_time": "2021-11-26T10:09:06.484677",
     "exception": false,
     "start_time": "2021-11-26T10:09:06.441968",
     "status": "completed"
    },
    "tags": []
   },
   "outputs": [],
   "source": [
    "y_train = 1*(y_train==3)\n",
    "y_test = 1*(y_test==3)"
   ]
  },
  {
   "cell_type": "code",
   "execution_count": 13,
   "id": "01e4e969",
   "metadata": {
    "execution": {
     "iopub.execute_input": "2021-11-26T10:09:06.556147Z",
     "iopub.status.busy": "2021-11-26T10:09:06.552172Z",
     "iopub.status.idle": "2021-11-26T10:09:06.558954Z",
     "shell.execute_reply": "2021-11-26T10:09:06.559351Z"
    },
    "papermill": {
     "duration": 0.048065,
     "end_time": "2021-11-26T10:09:06.559494",
     "exception": false,
     "start_time": "2021-11-26T10:09:06.511429",
     "status": "completed"
    },
    "tags": []
   },
   "outputs": [
    {
     "data": {
      "text/plain": [
       "((11982, 28, 28), (1984, 28, 28))"
      ]
     },
     "execution_count": 13,
     "metadata": {},
     "output_type": "execute_result"
    }
   ],
   "source": [
    "X_train.shape, X_test.shape"
   ]
  },
  {
   "cell_type": "markdown",
   "id": "5ccf3f85",
   "metadata": {
    "papermill": {
     "duration": 0.026788,
     "end_time": "2021-11-26T10:09:06.613128",
     "exception": false,
     "start_time": "2021-11-26T10:09:06.586340",
     "status": "completed"
    },
    "tags": []
   },
   "source": [
    "We reshape the data to flatten the image pixels into a set of features or co-variates:"
   ]
  },
  {
   "cell_type": "code",
   "execution_count": 14,
   "id": "5286a4a3",
   "metadata": {
    "execution": {
     "iopub.execute_input": "2021-11-26T10:09:06.684177Z",
     "iopub.status.busy": "2021-11-26T10:09:06.673074Z",
     "iopub.status.idle": "2021-11-26T10:09:06.689207Z",
     "shell.execute_reply": "2021-11-26T10:09:06.688686Z"
    },
    "papermill": {
     "duration": 0.049078,
     "end_time": "2021-11-26T10:09:06.689325",
     "exception": false,
     "start_time": "2021-11-26T10:09:06.640247",
     "status": "completed"
    },
    "tags": []
   },
   "outputs": [
    {
     "data": {
      "text/plain": [
       "((11982, 784), (1984, 784))"
      ]
     },
     "execution_count": 14,
     "metadata": {},
     "output_type": "execute_result"
    }
   ],
   "source": [
    "X_train = X_train.reshape(X_train.shape[0], -1)\n",
    "X_test = X_test.reshape(X_test.shape[0], -1)\n",
    "X_train.shape, X_test.shape"
   ]
  },
  {
   "cell_type": "code",
   "execution_count": 15,
   "id": "73c5f88a",
   "metadata": {
    "execution": {
     "iopub.execute_input": "2021-11-26T10:09:06.759783Z",
     "iopub.status.busy": "2021-11-26T10:09:06.755781Z",
     "iopub.status.idle": "2021-11-26T10:09:06.769939Z",
     "shell.execute_reply": "2021-11-26T10:09:06.770331Z"
    },
    "papermill": {
     "duration": 0.053916,
     "end_time": "2021-11-26T10:09:06.770477",
     "exception": false,
     "start_time": "2021-11-26T10:09:06.716561",
     "status": "completed"
    },
    "tags": []
   },
   "outputs": [],
   "source": [
    "#Impoting functions from 'Kudzu'\n",
    "from kudzu.model import Model\n",
    "from kudzu.train import Learner\n",
    "from kudzu.optim import GD\n",
    "from kudzu.data import Data, Sampler,Dataloader\n",
    "\n",
    "from kudzu.callbacks import AccCallback\n",
    "from kudzu.callbacks import ClfCallback\n",
    "\n",
    "from kudzu.loss import MSE\n",
    "\n",
    "from kudzu.layer import Sigmoid,Relu\n",
    "from kudzu.layer import Affine"
   ]
  },
  {
   "cell_type": "markdown",
   "id": "bc01172a",
   "metadata": {
    "papermill": {
     "duration": 0.027377,
     "end_time": "2021-11-26T10:09:06.825239",
     "exception": false,
     "start_time": "2021-11-26T10:09:06.797862",
     "status": "completed"
    },
    "tags": []
   },
   "source": [
    "### Let us create a `Config` class, to store important parameters. \n",
    "This class essentially plays the role of a dictionary."
   ]
  },
  {
   "cell_type": "code",
   "execution_count": 16,
   "id": "978281aa",
   "metadata": {
    "execution": {
     "iopub.execute_input": "2021-11-26T10:09:06.884305Z",
     "iopub.status.busy": "2021-11-26T10:09:06.883774Z",
     "iopub.status.idle": "2021-11-26T10:09:06.895161Z",
     "shell.execute_reply": "2021-11-26T10:09:06.895552Z"
    },
    "papermill": {
     "duration": 0.043341,
     "end_time": "2021-11-26T10:09:06.895695",
     "exception": false,
     "start_time": "2021-11-26T10:09:06.852354",
     "status": "completed"
    },
    "tags": []
   },
   "outputs": [],
   "source": [
    "class Config:\n",
    "    pass\n",
    "config = Config()\n",
    "config.lr = 0.001\n",
    "config.num_epochs = 250\n",
    "config.bs = 50"
   ]
  },
  {
   "cell_type": "markdown",
   "id": "1385fa59",
   "metadata": {
    "papermill": {
     "duration": 0.026988,
     "end_time": "2021-11-26T10:09:06.950081",
     "exception": false,
     "start_time": "2021-11-26T10:09:06.923093",
     "status": "completed"
    },
    "tags": []
   },
   "source": [
    "### Running Models with the Training data\n",
    "Details about the network layers:\n",
    "- A first affine layer has 784 inputs and does 100 affine transforms. These are followed by a Relu\n",
    "- A second affine layer has 100 inputs from the 100 activations of the past layer, and does 100 affine transforms. These are followed by a Relu\n",
    "- A third affine layer has 100 activations and does 2 affine transformations to create an embedding for visualization. There is no non-linearity here.\n",
    "- A final \"logistic regression\" which has an affine transform from 2 inputs to 1 output, which is squeezed through a sigmoid.\n"
   ]
  },
  {
   "cell_type": "code",
   "execution_count": 17,
   "id": "2b9c66db",
   "metadata": {
    "execution": {
     "iopub.execute_input": "2021-11-26T10:09:07.008677Z",
     "iopub.status.busy": "2021-11-26T10:09:07.008152Z",
     "iopub.status.idle": "2021-11-26T10:09:07.021204Z",
     "shell.execute_reply": "2021-11-26T10:09:07.020769Z"
    },
    "papermill": {
     "duration": 0.044076,
     "end_time": "2021-11-26T10:09:07.021321",
     "exception": false,
     "start_time": "2021-11-26T10:09:06.977245",
     "status": "completed"
    },
    "tags": []
   },
   "outputs": [],
   "source": [
    "data = Data(X_train, y_train.reshape(-1,1))\n",
    "sampler = Sampler(data, config.bs, shuffle=True)\n",
    "\n",
    "dl = Dataloader(data, sampler)\n",
    "\n",
    "opt = GD(config.lr)\n",
    "loss = MSE()"
   ]
  },
  {
   "cell_type": "code",
   "execution_count": 18,
   "id": "b275e4c2",
   "metadata": {
    "execution": {
     "iopub.execute_input": "2021-11-26T10:09:07.079990Z",
     "iopub.status.busy": "2021-11-26T10:09:07.079456Z",
     "iopub.status.idle": "2021-11-26T10:09:07.091725Z",
     "shell.execute_reply": "2021-11-26T10:09:07.092161Z"
    },
    "papermill": {
     "duration": 0.043731,
     "end_time": "2021-11-26T10:09:07.092299",
     "exception": false,
     "start_time": "2021-11-26T10:09:07.048568",
     "status": "completed"
    },
    "tags": []
   },
   "outputs": [],
   "source": [
    "training_data_x = X_train\n",
    "testing_data_x = X_test\n",
    "training_data_y = y_train.reshape(-1,1)\n",
    "testing_data_y = y_test.reshape(-1,1)"
   ]
  },
  {
   "cell_type": "code",
   "execution_count": 19,
   "id": "76951160",
   "metadata": {
    "execution": {
     "iopub.execute_input": "2021-11-26T10:09:07.151466Z",
     "iopub.status.busy": "2021-11-26T10:09:07.150893Z",
     "iopub.status.idle": "2021-11-26T10:09:07.166740Z",
     "shell.execute_reply": "2021-11-26T10:09:07.167146Z"
    },
    "papermill": {
     "duration": 0.047935,
     "end_time": "2021-11-26T10:09:07.167291",
     "exception": false,
     "start_time": "2021-11-26T10:09:07.119356",
     "status": "completed"
    },
    "tags": []
   },
   "outputs": [
    {
     "name": "stdout",
     "output_type": "stream",
     "text": [
      "xavier\n",
      "xavier\n",
      "xavier\n",
      "xavier\n",
      "xavier\n"
     ]
    }
   ],
   "source": [
    "layers = [Affine(\"first\", 784, 100), Relu(\"first\"), Affine(\"second\", 100, 100), Relu(\"second\"), Affine(\"third\", 100, 2), Affine(\"last\", 2, 1), Sigmoid(\"last\")]\n",
    "model_nn = Model(layers)\n",
    "model_lr = Model([Affine(\"logits\", 784, 1), Sigmoid(\"sigmoid\")])"
   ]
  },
  {
   "cell_type": "code",
   "execution_count": 20,
   "id": "6eede77a",
   "metadata": {
    "execution": {
     "iopub.execute_input": "2021-11-26T10:09:07.226107Z",
     "iopub.status.busy": "2021-11-26T10:09:07.225601Z",
     "iopub.status.idle": "2021-11-26T10:09:07.237967Z",
     "shell.execute_reply": "2021-11-26T10:09:07.238364Z"
    },
    "papermill": {
     "duration": 0.043597,
     "end_time": "2021-11-26T10:09:07.238497",
     "exception": false,
     "start_time": "2021-11-26T10:09:07.194900",
     "status": "completed"
    },
    "tags": []
   },
   "outputs": [],
   "source": [
    "nn_learner = Learner(loss, model_nn, opt, config.num_epochs)\n",
    "acc_nn = ClfCallback(nn_learner, config.bs, training_data_x , testing_data_x, training_data_y, testing_data_y)\n",
    "nn_learner.set_callbacks([acc_nn])"
   ]
  },
  {
   "cell_type": "code",
   "execution_count": 21,
   "id": "877b6cc7",
   "metadata": {
    "execution": {
     "iopub.execute_input": "2021-11-26T10:09:07.297108Z",
     "iopub.status.busy": "2021-11-26T10:09:07.296594Z",
     "iopub.status.idle": "2021-11-26T10:09:07.309280Z",
     "shell.execute_reply": "2021-11-26T10:09:07.308837Z"
    },
    "papermill": {
     "duration": 0.043554,
     "end_time": "2021-11-26T10:09:07.309399",
     "exception": false,
     "start_time": "2021-11-26T10:09:07.265845",
     "status": "completed"
    },
    "tags": []
   },
   "outputs": [],
   "source": [
    "lr_learner = Learner(loss, model_lr, opt, config.num_epochs)\n",
    "acc_lr = ClfCallback(lr_learner, config.bs, training_data_x , testing_data_x, training_data_y, testing_data_y)\n",
    "lr_learner.set_callbacks([acc_lr])"
   ]
  },
  {
   "cell_type": "code",
   "execution_count": 22,
   "id": "d9b133c3",
   "metadata": {
    "execution": {
     "iopub.execute_input": "2021-11-26T10:09:07.368251Z",
     "iopub.status.busy": "2021-11-26T10:09:07.367735Z",
     "iopub.status.idle": "2021-11-26T10:10:25.822392Z",
     "shell.execute_reply": "2021-11-26T10:10:25.823167Z"
    },
    "papermill": {
     "duration": 78.486414,
     "end_time": "2021-11-26T10:10:25.823325",
     "exception": false,
     "start_time": "2021-11-26T10:09:07.336911",
     "status": "completed"
    },
    "tags": []
   },
   "outputs": [
    {
     "name": "stdout",
     "output_type": "stream",
     "text": [
      "Epoch 0, Loss 0.2292\n",
      "Training Accuracy: 0.7621, Testing Accuracy: 0.7828\n",
      "\n"
     ]
    },
    {
     "name": "stdout",
     "output_type": "stream",
     "text": [
      "Epoch 10, Loss 0.0706\n",
      "Training Accuracy: 0.9293, Testing Accuracy: 0.9405\n",
      "\n"
     ]
    },
    {
     "name": "stdout",
     "output_type": "stream",
     "text": [
      "Epoch 20, Loss 0.0488\n",
      "Training Accuracy: 0.9458, Testing Accuracy: 0.9546\n",
      "\n"
     ]
    },
    {
     "name": "stdout",
     "output_type": "stream",
     "text": [
      "Epoch 30, Loss 0.0405\n",
      "Training Accuracy: 0.9540, Testing Accuracy: 0.9607\n",
      "\n"
     ]
    },
    {
     "name": "stdout",
     "output_type": "stream",
     "text": [
      "Epoch 40, Loss 0.036\n",
      "Training Accuracy: 0.9588, Testing Accuracy: 0.9637\n",
      "\n"
     ]
    },
    {
     "name": "stdout",
     "output_type": "stream",
     "text": [
      "Epoch 50, Loss 0.033\n",
      "Training Accuracy: 0.9619, Testing Accuracy: 0.9677\n",
      "\n"
     ]
    },
    {
     "name": "stdout",
     "output_type": "stream",
     "text": [
      "Epoch 60, Loss 0.0308\n",
      "Training Accuracy: 0.9637, Testing Accuracy: 0.9688\n",
      "\n"
     ]
    },
    {
     "name": "stdout",
     "output_type": "stream",
     "text": [
      "Epoch 70, Loss 0.0292\n",
      "Training Accuracy: 0.9664, Testing Accuracy: 0.9713\n",
      "\n"
     ]
    },
    {
     "name": "stdout",
     "output_type": "stream",
     "text": [
      "Epoch 80, Loss 0.0278\n",
      "Training Accuracy: 0.9672, Testing Accuracy: 0.9723\n",
      "\n"
     ]
    },
    {
     "name": "stdout",
     "output_type": "stream",
     "text": [
      "Epoch 90, Loss 0.0267\n",
      "Training Accuracy: 0.9688, Testing Accuracy: 0.9728\n",
      "\n"
     ]
    },
    {
     "name": "stdout",
     "output_type": "stream",
     "text": [
      "Epoch 100, Loss 0.0258\n",
      "Training Accuracy: 0.9697, Testing Accuracy: 0.9713\n",
      "\n"
     ]
    },
    {
     "name": "stdout",
     "output_type": "stream",
     "text": [
      "Epoch 110, Loss 0.025\n",
      "Training Accuracy: 0.9704, Testing Accuracy: 0.9708\n",
      "\n"
     ]
    },
    {
     "name": "stdout",
     "output_type": "stream",
     "text": [
      "Epoch 120, Loss 0.0242\n",
      "Training Accuracy: 0.9717, Testing Accuracy: 0.9708\n",
      "\n"
     ]
    },
    {
     "name": "stdout",
     "output_type": "stream",
     "text": [
      "Epoch 130, Loss 0.0236\n",
      "Training Accuracy: 0.9724, Testing Accuracy: 0.9698\n",
      "\n"
     ]
    },
    {
     "name": "stdout",
     "output_type": "stream",
     "text": [
      "Epoch 140, Loss 0.023\n",
      "Training Accuracy: 0.9736, Testing Accuracy: 0.9698\n",
      "\n"
     ]
    },
    {
     "name": "stdout",
     "output_type": "stream",
     "text": [
      "Epoch 150, Loss 0.0224\n",
      "Training Accuracy: 0.9743, Testing Accuracy: 0.9698\n",
      "\n"
     ]
    },
    {
     "name": "stdout",
     "output_type": "stream",
     "text": [
      "Epoch 160, Loss 0.0219\n",
      "Training Accuracy: 0.9747, Testing Accuracy: 0.9703\n",
      "\n"
     ]
    },
    {
     "name": "stdout",
     "output_type": "stream",
     "text": [
      "Epoch 170, Loss 0.0215\n",
      "Training Accuracy: 0.9745, Testing Accuracy: 0.9708\n",
      "\n"
     ]
    },
    {
     "name": "stdout",
     "output_type": "stream",
     "text": [
      "Epoch 180, Loss 0.021\n",
      "Training Accuracy: 0.9758, Testing Accuracy: 0.9723\n",
      "\n"
     ]
    },
    {
     "name": "stdout",
     "output_type": "stream",
     "text": [
      "Epoch 190, Loss 0.0206\n",
      "Training Accuracy: 0.9762, Testing Accuracy: 0.9723\n",
      "\n"
     ]
    },
    {
     "name": "stdout",
     "output_type": "stream",
     "text": [
      "Epoch 200, Loss 0.0202\n",
      "Training Accuracy: 0.9768, Testing Accuracy: 0.9723\n",
      "\n"
     ]
    },
    {
     "name": "stdout",
     "output_type": "stream",
     "text": [
      "Epoch 210, Loss 0.0198\n",
      "Training Accuracy: 0.9774, Testing Accuracy: 0.9723\n",
      "\n"
     ]
    },
    {
     "name": "stdout",
     "output_type": "stream",
     "text": [
      "Epoch 220, Loss 0.0194\n",
      "Training Accuracy: 0.9779, Testing Accuracy: 0.9723\n",
      "\n"
     ]
    },
    {
     "name": "stdout",
     "output_type": "stream",
     "text": [
      "Epoch 230, Loss 0.0191\n",
      "Training Accuracy: 0.9786, Testing Accuracy: 0.9728\n",
      "\n"
     ]
    },
    {
     "name": "stdout",
     "output_type": "stream",
     "text": [
      "Epoch 240, Loss 0.0188\n",
      "Training Accuracy: 0.9788, Testing Accuracy: 0.9728\n",
      "\n"
     ]
    },
    {
     "data": {
      "text/plain": [
       "0.05727837922740896"
      ]
     },
     "execution_count": 22,
     "metadata": {},
     "output_type": "execute_result"
    }
   ],
   "source": [
    "nn_learner.train_loop(dl)"
   ]
  },
  {
   "cell_type": "code",
   "execution_count": 23,
   "id": "e0163366",
   "metadata": {
    "execution": {
     "iopub.execute_input": "2021-11-26T10:10:25.904415Z",
     "iopub.status.busy": "2021-11-26T10:10:25.903879Z",
     "iopub.status.idle": "2021-11-26T10:10:40.137995Z",
     "shell.execute_reply": "2021-11-26T10:10:40.138775Z"
    },
    "papermill": {
     "duration": 14.280668,
     "end_time": "2021-11-26T10:10:40.138949",
     "exception": false,
     "start_time": "2021-11-26T10:10:25.858281",
     "status": "completed"
    },
    "tags": []
   },
   "outputs": [
    {
     "name": "stdout",
     "output_type": "stream",
     "text": [
      "Epoch 0, Loss 0.2603\n",
      "Training Accuracy: 0.6072, Testing Accuracy: 0.6099\n",
      "\n"
     ]
    },
    {
     "name": "stdout",
     "output_type": "stream",
     "text": [
      "Epoch 10, Loss 0.1032\n",
      "Training Accuracy: 0.9133, Testing Accuracy: 0.9274\n",
      "\n"
     ]
    },
    {
     "name": "stdout",
     "output_type": "stream",
     "text": [
      "Epoch 20, Loss 0.079\n",
      "Training Accuracy: 0.9298, Testing Accuracy: 0.9441\n",
      "\n"
     ]
    },
    {
     "name": "stdout",
     "output_type": "stream",
     "text": [
      "Epoch 30, Loss 0.0681\n",
      "Training Accuracy: 0.9374, Testing Accuracy: 0.9491\n",
      "\n"
     ]
    },
    {
     "name": "stdout",
     "output_type": "stream",
     "text": [
      "Epoch 40, Loss 0.0616\n",
      "Training Accuracy: 0.9416, Testing Accuracy: 0.9516\n",
      "\n"
     ]
    },
    {
     "name": "stdout",
     "output_type": "stream",
     "text": [
      "Epoch 50, Loss 0.0571\n",
      "Training Accuracy: 0.9438, Testing Accuracy: 0.9551\n",
      "\n"
     ]
    },
    {
     "name": "stdout",
     "output_type": "stream",
     "text": [
      "Epoch 60, Loss 0.0539\n",
      "Training Accuracy: 0.9461, Testing Accuracy: 0.9567\n",
      "\n"
     ]
    },
    {
     "name": "stdout",
     "output_type": "stream",
     "text": [
      "Epoch 70, Loss 0.0513\n",
      "Training Accuracy: 0.9487, Testing Accuracy: 0.9587\n",
      "\n"
     ]
    },
    {
     "name": "stdout",
     "output_type": "stream",
     "text": [
      "Epoch 80, Loss 0.0493\n",
      "Training Accuracy: 0.9508, Testing Accuracy: 0.9592\n",
      "\n"
     ]
    },
    {
     "name": "stdout",
     "output_type": "stream",
     "text": [
      "Epoch 90, Loss 0.0476\n",
      "Training Accuracy: 0.9520, Testing Accuracy: 0.9607\n",
      "\n"
     ]
    },
    {
     "name": "stdout",
     "output_type": "stream",
     "text": [
      "Epoch 100, Loss 0.0462\n",
      "Training Accuracy: 0.9532, Testing Accuracy: 0.9612\n",
      "\n"
     ]
    },
    {
     "name": "stdout",
     "output_type": "stream",
     "text": [
      "Epoch 110, Loss 0.045\n",
      "Training Accuracy: 0.9533, Testing Accuracy: 0.9622\n",
      "\n"
     ]
    },
    {
     "name": "stdout",
     "output_type": "stream",
     "text": [
      "Epoch 120, Loss 0.0439\n",
      "Training Accuracy: 0.9541, Testing Accuracy: 0.9627\n",
      "\n"
     ]
    },
    {
     "name": "stdout",
     "output_type": "stream",
     "text": [
      "Epoch 130, Loss 0.043\n",
      "Training Accuracy: 0.9545, Testing Accuracy: 0.9642\n",
      "\n"
     ]
    },
    {
     "name": "stdout",
     "output_type": "stream",
     "text": [
      "Epoch 140, Loss 0.0421\n",
      "Training Accuracy: 0.9555, Testing Accuracy: 0.9647\n",
      "\n"
     ]
    },
    {
     "name": "stdout",
     "output_type": "stream",
     "text": [
      "Epoch 150, Loss 0.0414\n",
      "Training Accuracy: 0.9562, Testing Accuracy: 0.9652\n",
      "\n"
     ]
    },
    {
     "name": "stdout",
     "output_type": "stream",
     "text": [
      "Epoch 160, Loss 0.0407\n",
      "Training Accuracy: 0.9568, Testing Accuracy: 0.9652\n",
      "\n"
     ]
    },
    {
     "name": "stdout",
     "output_type": "stream",
     "text": [
      "Epoch 170, Loss 0.0401\n",
      "Training Accuracy: 0.9571, Testing Accuracy: 0.9652\n",
      "\n"
     ]
    },
    {
     "name": "stdout",
     "output_type": "stream",
     "text": [
      "Epoch 180, Loss 0.0395\n",
      "Training Accuracy: 0.9576, Testing Accuracy: 0.9657\n",
      "\n"
     ]
    },
    {
     "name": "stdout",
     "output_type": "stream",
     "text": [
      "Epoch 190, Loss 0.039\n",
      "Training Accuracy: 0.9577, Testing Accuracy: 0.9657\n",
      "\n"
     ]
    },
    {
     "name": "stdout",
     "output_type": "stream",
     "text": [
      "Epoch 200, Loss 0.0385\n",
      "Training Accuracy: 0.9581, Testing Accuracy: 0.9652\n",
      "\n"
     ]
    },
    {
     "name": "stdout",
     "output_type": "stream",
     "text": [
      "Epoch 210, Loss 0.0381\n",
      "Training Accuracy: 0.9584, Testing Accuracy: 0.9657\n",
      "\n"
     ]
    },
    {
     "name": "stdout",
     "output_type": "stream",
     "text": [
      "Epoch 220, Loss 0.0377\n",
      "Training Accuracy: 0.9590, Testing Accuracy: 0.9657\n",
      "\n"
     ]
    },
    {
     "name": "stdout",
     "output_type": "stream",
     "text": [
      "Epoch 230, Loss 0.0373\n",
      "Training Accuracy: 0.9594, Testing Accuracy: 0.9662\n",
      "\n"
     ]
    },
    {
     "name": "stdout",
     "output_type": "stream",
     "text": [
      "Epoch 240, Loss 0.0369\n",
      "Training Accuracy: 0.9600, Testing Accuracy: 0.9662\n",
      "\n"
     ]
    },
    {
     "data": {
      "text/plain": [
       "0.025721827275287212"
      ]
     },
     "execution_count": 23,
     "metadata": {},
     "output_type": "execute_result"
    }
   ],
   "source": [
    "lr_learner.train_loop(dl)"
   ]
  },
  {
   "cell_type": "code",
   "execution_count": 24,
   "id": "ca410940",
   "metadata": {
    "execution": {
     "iopub.execute_input": "2021-11-26T10:10:40.236564Z",
     "iopub.status.busy": "2021-11-26T10:10:40.235999Z",
     "iopub.status.idle": "2021-11-26T10:10:40.469442Z",
     "shell.execute_reply": "2021-11-26T10:10:40.468986Z"
    },
    "papermill": {
     "duration": 0.288727,
     "end_time": "2021-11-26T10:10:40.469561",
     "exception": false,
     "start_time": "2021-11-26T10:10:40.180834",
     "status": "completed"
    },
    "tags": []
   },
   "outputs": [
    {
     "data": {
      "text/plain": [
       "<matplotlib.legend.Legend at 0x7f0a087fb8d0>"
      ]
     },
     "execution_count": 24,
     "metadata": {},
     "output_type": "execute_result"
    },
    {
     "data": {
      "image/png": "[encoded data removed]",
      "text/plain": [
       "<Figure size 1080x720 with 1 Axes>"
      ]
     },
     "metadata": {
      "needs_background": "light"
     },
     "output_type": "display_data"
    }
   ],
   "source": [
    "#comparing the results of NN and LR\n",
    "plt.figure(figsize=(15,10))\n",
    "\n",
    "# Neural Network plots\n",
    "plt.plot(acc_nn.accuracies, 'r-', label = \"Training Accuracies - NN\")\n",
    "plt.plot(acc_nn.test_accuracies, 'g-', label = \"Testing Accuracies - NN\")\n",
    "\n",
    "# Logistic Regression plots\n",
    "plt.plot(acc_lr.accuracies, 'k-', label = \"Training Accuracies - LR\")\n",
    "plt.plot(acc_lr.test_accuracies, 'b-', label = \"Testing Accuracies - LR\")\n",
    "plt.legend()"
   ]
  },
  {
   "cell_type": "markdown",
   "id": "80dfb35c",
   "metadata": {
    "papermill": {
     "duration": 0.042472,
     "end_time": "2021-11-26T10:10:40.554774",
     "exception": false,
     "start_time": "2021-11-26T10:10:40.512302",
     "status": "completed"
    },
    "tags": []
   },
   "source": [
    "#### Plotting the outputs of this layer of the NN.\n"
   ]
  },
  {
   "cell_type": "code",
   "execution_count": 25,
   "id": "45eb2ff5",
   "metadata": {
    "execution": {
     "iopub.execute_input": "2021-11-26T10:10:40.644724Z",
     "iopub.status.busy": "2021-11-26T10:10:40.644182Z",
     "iopub.status.idle": "2021-11-26T10:10:40.663979Z",
     "shell.execute_reply": "2021-11-26T10:10:40.664411Z"
    },
    "papermill": {
     "duration": 0.067383,
     "end_time": "2021-11-26T10:10:40.664557",
     "exception": false,
     "start_time": "2021-11-26T10:10:40.597174",
     "status": "completed"
    },
    "tags": []
   },
   "outputs": [],
   "source": [
    "new_model = Model(layers[:-2])\n",
    "testing_plot = new_model(testing_data_x)"
   ]
  },
  {
   "cell_type": "code",
   "execution_count": 26,
   "id": "4c0a5485",
   "metadata": {
    "execution": {
     "iopub.execute_input": "2021-11-26T10:10:40.758426Z",
     "iopub.status.busy": "2021-11-26T10:10:40.755336Z",
     "iopub.status.idle": "2021-11-26T10:10:40.973740Z",
     "shell.execute_reply": "2021-11-26T10:10:40.973210Z"
    },
    "papermill": {
     "duration": 0.266564,
     "end_time": "2021-11-26T10:10:40.973860",
     "exception": false,
     "start_time": "2021-11-26T10:10:40.707296",
     "status": "completed"
    },
    "tags": []
   },
   "outputs": [
    {
     "data": {
      "text/plain": [
       "Text(0.5, 1.0, 'Outputs')"
      ]
     },
     "execution_count": 26,
     "metadata": {},
     "output_type": "execute_result"
    },
    {
     "data": {
      "image/png": "[encoded data removed]",
      "text/plain": [
       "<Figure size 576x504 with 1 Axes>"
      ]
     },
     "metadata": {
      "needs_background": "light"
     },
     "output_type": "display_data"
    }
   ],
   "source": [
    "# Plotting the scatter plot of points and color coding by class\n",
    "plt.figure(figsize=(8,7))\n",
    "plt.scatter(testing_plot[:,0], testing_plot[:,1], alpha = 0.1, c = y_test.ravel());\n",
    "plt.title('Outputs')"
   ]
  },
  {
   "cell_type": "markdown",
   "id": "a74fcf8f",
   "metadata": {
    "papermill": {
     "duration": 0.045375,
     "end_time": "2021-11-26T10:10:41.064559",
     "exception": false,
     "start_time": "2021-11-26T10:10:41.019184",
     "status": "completed"
    },
    "tags": []
   },
   "source": [
    "Probability contours"
   ]
  },
  {
   "cell_type": "code",
   "execution_count": 27,
   "id": "d0afc8e3",
   "metadata": {
    "execution": {
     "iopub.execute_input": "2021-11-26T10:10:41.164170Z",
     "iopub.status.busy": "2021-11-26T10:10:41.163630Z",
     "iopub.status.idle": "2021-11-26T10:10:41.173479Z",
     "shell.execute_reply": "2021-11-26T10:10:41.173035Z"
    },
    "papermill": {
     "duration": 0.063726,
     "end_time": "2021-11-26T10:10:41.173596",
     "exception": false,
     "start_time": "2021-11-26T10:10:41.109870",
     "status": "completed"
    },
    "tags": []
   },
   "outputs": [],
   "source": [
    "model_prob = Model(layers[-2:]) "
   ]
  },
  {
   "cell_type": "code",
   "execution_count": 28,
   "id": "9b96e238",
   "metadata": {
    "execution": {
     "iopub.execute_input": "2021-11-26T10:10:41.304266Z",
     "iopub.status.busy": "2021-11-26T10:10:41.303737Z",
     "iopub.status.idle": "2021-11-26T10:10:41.314525Z",
     "shell.execute_reply": "2021-11-26T10:10:41.314913Z"
    },
    "papermill": {
     "duration": 0.06432,
     "end_time": "2021-11-26T10:10:41.315075",
     "exception": false,
     "start_time": "2021-11-26T10:10:41.250755",
     "status": "completed"
    },
    "tags": []
   },
   "outputs": [],
   "source": [
    "#creating the x and y ranges according to the above generated plot.\n",
    "x_range = np.linspace(-4, 1, 100) \n",
    "y_range = np.linspace(-6, 6, 100) \n",
    "x_grid, y_grid = np.meshgrid(x_range, y_range) # x_grid and y_grig are of size 100 X 100\n",
    "\n",
    "# converting x_grid and y_grid to continuous arrays\n",
    "x_gridflat = np.ravel(x_grid)\n",
    "y_gridflat = np.ravel(y_grid)\n",
    "\n",
    "# The last layer of the current model takes two columns as input. Hence transpose of np.vstack() is required.\n",
    "X = np.vstack((x_gridflat, y_gridflat)).T\n",
    "\n",
    "prob_contour = model_prob(X).reshape(100,100) "
   ]
  },
  {
   "cell_type": "code",
   "execution_count": 29,
   "id": "da72499a",
   "metadata": {
    "execution": {
     "iopub.execute_input": "2021-11-26T10:10:41.416461Z",
     "iopub.status.busy": "2021-11-26T10:10:41.415925Z",
     "iopub.status.idle": "2021-11-26T10:10:41.661806Z",
     "shell.execute_reply": "2021-11-26T10:10:41.661363Z"
    },
    "papermill": {
     "duration": 0.300462,
     "end_time": "2021-11-26T10:10:41.661931",
     "exception": false,
     "start_time": "2021-11-26T10:10:41.361469",
     "status": "completed"
    },
    "tags": []
   },
   "outputs": [
    {
     "data": {
      "image/png": "[encoded data removed]",
      "text/plain": [
       "<Figure size 720x648 with 1 Axes>"
      ]
     },
     "metadata": {
      "needs_background": "light"
     },
     "output_type": "display_data"
    }
   ],
   "source": [
    "plt.figure(figsize=(10,9))\n",
    "plt.scatter(testing_plot[:,0], testing_plot[:,1], alpha = 0.1, c = y_test.ravel())\n",
    "contours = plt.contour(x_grid,y_grid,prob_contour)\n",
    "plt.title('Probability Contours')\n",
    "plt.clabel(contours, inline = True );"
   ]
  },
  {
   "cell_type": "code",
   "execution_count": null,
   "id": "e81b4ac7",
   "metadata": {
    "papermill": {
     "duration": 0.048654,
     "end_time": "2021-11-26T10:10:41.760723",
     "exception": false,
     "start_time": "2021-11-26T10:10:41.712069",
     "status": "completed"
    },
    "tags": []
   },
   "outputs": [],
   "source": []
  }
 ],
 "metadata": {
  "kernelspec": {
   "display_name": "Python 3",
   "language": "python",
   "name": "python3"
  },
  "language_info": {
   "codemirror_mode": {
    "name": "ipython",
    "version": 3
   },
   "file_extension": ".py",
   "mimetype": "text/x-python",
   "name": "python",
   "nbconvert_exporter": "python",
   "pygments_lexer": "ipython3",
   "version": "3.6.15"
  },
  "papermill": {
   "default_parameters": {},
   "duration": 101.106102,
   "end_time": "2021-11-26T10:10:42.217960",
   "environment_variables": {},
   "exception": null,
   "input_path": "2020-08-11-part2.ipynb",
   "output_path": "2020-08-11-part2.ipynb",
   "parameters": {},
   "start_time": "2021-11-26T10:09:01.111858",
   "version": "2.3.3"
  }
 },
 "nbformat": 4,
 "nbformat_minor": 5
}