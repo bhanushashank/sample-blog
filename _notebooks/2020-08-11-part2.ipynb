{
 "cells": [
  {
   "cell_type": "markdown",
   "id": "98380cd3",
   "metadata": {
    "papermill": {
     "duration": 0.040381,
     "end_time": "2022-09-12T20:12:31.684361",
     "exception": false,
     "start_time": "2022-09-12T20:12:31.643980",
     "status": "completed"
    },
    "tags": []
   },
   "source": [
    "# Distinguish Your Own Digits (DYOD)"
   ]
  },
  {
   "cell_type": "markdown",
   "id": "ef31240d",
   "metadata": {
    "papermill": {
     "duration": 0.030588,
     "end_time": "2022-09-12T20:12:31.746121",
     "exception": false,
     "start_time": "2022-09-12T20:12:31.715533",
     "status": "completed"
    },
    "tags": []
   },
   "source": [
    "You are going to write a classifier that distinguishes between the number 3 and number 8."
   ]
  },
  {
   "cell_type": "code",
   "execution_count": 1,
   "id": "b15c8646",
   "metadata": {
    "execution": {
     "iopub.execute_input": "2022-09-12T20:12:31.828312Z",
     "iopub.status.busy": "2022-09-12T20:12:31.827539Z",
     "iopub.status.idle": "2022-09-12T20:12:31.839037Z",
     "shell.execute_reply": "2022-09-12T20:12:31.839770Z"
    },
    "papermill": {
     "duration": 0.061132,
     "end_time": "2022-09-12T20:12:31.839972",
     "exception": false,
     "start_time": "2022-09-12T20:12:31.778840",
     "status": "completed"
    },
    "tags": []
   },
   "outputs": [],
   "source": [
    "%load_ext autoreload\n",
    "%autoreload 2"
   ]
  },
  {
   "cell_type": "code",
   "execution_count": 2,
   "id": "22ef38dc",
   "metadata": {
    "execution": {
     "iopub.execute_input": "2022-09-12T20:12:31.914339Z",
     "iopub.status.busy": "2022-09-12T20:12:31.909907Z",
     "iopub.status.idle": "2022-09-12T20:12:32.574009Z",
     "shell.execute_reply": "2022-09-12T20:12:32.573401Z"
    },
    "papermill": {
     "duration": 0.704125,
     "end_time": "2022-09-12T20:12:32.574153",
     "exception": false,
     "start_time": "2022-09-12T20:12:31.870028",
     "status": "completed"
    },
    "tags": []
   },
   "outputs": [],
   "source": [
    "%matplotlib inline\n",
    "import numpy as np\n",
    "import matplotlib.pyplot as plt\n",
    "import pandas as pd"
   ]
  },
  {
   "cell_type": "markdown",
   "id": "ba036198",
   "metadata": {
    "papermill": {
     "duration": 0.040593,
     "end_time": "2022-09-12T20:12:32.645694",
     "exception": false,
     "start_time": "2022-09-12T20:12:32.605101",
     "status": "completed"
    },
    "tags": []
   },
   "source": [
    "From the command line run `pip install mnist`. This is a library that will help you bring down the mnist dataset. If you run this from a notebook, you need to put  `!pip install mnist` in a cell by itself."
   ]
  },
  {
   "cell_type": "code",
   "execution_count": 3,
   "id": "bb6ad8a1",
   "metadata": {
    "execution": {
     "iopub.execute_input": "2022-09-12T20:12:32.715135Z",
     "iopub.status.busy": "2022-09-12T20:12:32.714399Z",
     "iopub.status.idle": "2022-09-12T20:12:34.721375Z",
     "shell.execute_reply": "2022-09-12T20:12:34.720710Z"
    },
    "papermill": {
     "duration": 2.044835,
     "end_time": "2022-09-12T20:12:34.721518",
     "exception": false,
     "start_time": "2022-09-12T20:12:32.676683",
     "status": "completed"
    },
    "tags": []
   },
   "outputs": [
    {
     "name": "stdout",
     "output_type": "stream",
     "text": [
      "Collecting mnist\r\n"
     ]
    },
    {
     "name": "stdout",
     "output_type": "stream",
     "text": [
      "  Downloading mnist-0.2.2-py2.py3-none-any.whl (3.5 kB)\r\n",
      "Requirement already satisfied: numpy in /opt/hostedtoolcache/Python/3.6.15/x64/lib/python3.6/site-packages (from mnist) (1.19.5)\r\n"
     ]
    },
    {
     "name": "stdout",
     "output_type": "stream",
     "text": [
      "Installing collected packages: mnist\r\n"
     ]
    },
    {
     "name": "stdout",
     "output_type": "stream",
     "text": [
      "Successfully installed mnist-0.2.2\r\n"
     ]
    }
   ],
   "source": [
    "!pip install mnist"
   ]
  },
  {
   "cell_type": "markdown",
   "id": "69df9c9a",
   "metadata": {
    "papermill": {
     "duration": 0.032875,
     "end_time": "2022-09-12T20:12:34.787132",
     "exception": false,
     "start_time": "2022-09-12T20:12:34.754257",
     "status": "completed"
    },
    "tags": []
   },
   "source": [
    "## Preparing the Data"
   ]
  },
  {
   "cell_type": "code",
   "execution_count": 4,
   "id": "7f69d806",
   "metadata": {
    "execution": {
     "iopub.execute_input": "2022-09-12T20:12:34.856951Z",
     "iopub.status.busy": "2022-09-12T20:12:34.856208Z",
     "iopub.status.idle": "2022-09-12T20:12:34.872693Z",
     "shell.execute_reply": "2022-09-12T20:12:34.872061Z"
    },
    "papermill": {
     "duration": 0.053215,
     "end_time": "2022-09-12T20:12:34.872826",
     "exception": false,
     "start_time": "2022-09-12T20:12:34.819611",
     "status": "completed"
    },
    "tags": []
   },
   "outputs": [],
   "source": [
    "import mnist"
   ]
  },
  {
   "cell_type": "code",
   "execution_count": 5,
   "id": "a411e44f",
   "metadata": {
    "execution": {
     "iopub.execute_input": "2022-09-12T20:12:34.944947Z",
     "iopub.status.busy": "2022-09-12T20:12:34.944186Z",
     "iopub.status.idle": "2022-09-12T20:12:35.471744Z",
     "shell.execute_reply": "2022-09-12T20:12:35.471108Z"
    },
    "papermill": {
     "duration": 0.565294,
     "end_time": "2022-09-12T20:12:35.471886",
     "exception": false,
     "start_time": "2022-09-12T20:12:34.906592",
     "status": "completed"
    },
    "tags": []
   },
   "outputs": [],
   "source": [
    "train_images = mnist.train_images()\n",
    "train_labels = mnist.train_labels()"
   ]
  },
  {
   "cell_type": "code",
   "execution_count": 6,
   "id": "dceab3a5",
   "metadata": {
    "execution": {
     "iopub.execute_input": "2022-09-12T20:12:35.544364Z",
     "iopub.status.busy": "2022-09-12T20:12:35.543534Z",
     "iopub.status.idle": "2022-09-12T20:12:35.565739Z",
     "shell.execute_reply": "2022-09-12T20:12:35.564791Z"
    },
    "papermill": {
     "duration": 0.060257,
     "end_time": "2022-09-12T20:12:35.565879",
     "exception": false,
     "start_time": "2022-09-12T20:12:35.505622",
     "status": "completed"
    },
    "tags": []
   },
   "outputs": [
    {
     "data": {
      "text/plain": [
       "((60000, 28, 28), (60000,))"
      ]
     },
     "execution_count": 6,
     "metadata": {},
     "output_type": "execute_result"
    }
   ],
   "source": [
    "train_images.shape, train_labels.shape"
   ]
  },
  {
   "cell_type": "code",
   "execution_count": 7,
   "id": "f50dc2bb",
   "metadata": {
    "execution": {
     "iopub.execute_input": "2022-09-12T20:12:35.640259Z",
     "iopub.status.busy": "2022-09-12T20:12:35.639525Z",
     "iopub.status.idle": "2022-09-12T20:12:35.765699Z",
     "shell.execute_reply": "2022-09-12T20:12:35.766266Z"
    },
    "papermill": {
     "duration": 0.167834,
     "end_time": "2022-09-12T20:12:35.766431",
     "exception": false,
     "start_time": "2022-09-12T20:12:35.598597",
     "status": "completed"
    },
    "tags": []
   },
   "outputs": [],
   "source": [
    "test_images = mnist.test_images()\n",
    "test_labels = mnist.test_labels()"
   ]
  },
  {
   "cell_type": "code",
   "execution_count": 8,
   "id": "fc38cf1b",
   "metadata": {
    "execution": {
     "iopub.execute_input": "2022-09-12T20:12:35.847032Z",
     "iopub.status.busy": "2022-09-12T20:12:35.846307Z",
     "iopub.status.idle": "2022-09-12T20:12:35.855802Z",
     "shell.execute_reply": "2022-09-12T20:12:35.855171Z"
    },
    "papermill": {
     "duration": 0.055125,
     "end_time": "2022-09-12T20:12:35.855952",
     "exception": false,
     "start_time": "2022-09-12T20:12:35.800827",
     "status": "completed"
    },
    "tags": []
   },
   "outputs": [
    {
     "data": {
      "text/plain": [
       "((10000, 28, 28), (10000,))"
      ]
     },
     "execution_count": 8,
     "metadata": {},
     "output_type": "execute_result"
    }
   ],
   "source": [
    "test_images.shape, test_labels.shape"
   ]
  },
  {
   "cell_type": "code",
   "execution_count": 9,
   "id": "f9ed8fe0",
   "metadata": {
    "execution": {
     "iopub.execute_input": "2022-09-12T20:12:35.928627Z",
     "iopub.status.busy": "2022-09-12T20:12:35.927874Z",
     "iopub.status.idle": "2022-09-12T20:12:36.110870Z",
     "shell.execute_reply": "2022-09-12T20:12:36.111471Z"
    },
    "papermill": {
     "duration": 0.222095,
     "end_time": "2022-09-12T20:12:36.111641",
     "exception": false,
     "start_time": "2022-09-12T20:12:35.889546",
     "status": "completed"
    },
    "tags": []
   },
   "outputs": [
    {
     "name": "stdout",
     "output_type": "stream",
     "text": [
      "2\n"
     ]
    },
    {
     "data": {
      "text/plain": [
       "<matplotlib.image.AxesImage at 0x7f177cf2cc50>"
      ]
     },
     "execution_count": 9,
     "metadata": {},
     "output_type": "execute_result"
    },
    {
     "data": {
      "image/png": "[encoded data removed]",
      "text/plain": [
       "<Figure size 432x288 with 1 Axes>"
      ]
     },
     "metadata": {
      "needs_background": "light"
     },
     "output_type": "display_data"
    }
   ],
   "source": [
    "image_index = 7776 # You may select anything up to 60,000\n",
    "print(train_labels[image_index]) \n",
    "plt.imshow(train_images[image_index], cmap='Greys')"
   ]
  },
  {
   "cell_type": "markdown",
   "id": "a8d2388d",
   "metadata": {
    "papermill": {
     "duration": 0.035823,
     "end_time": "2022-09-12T20:12:36.181156",
     "exception": false,
     "start_time": "2022-09-12T20:12:36.145333",
     "status": "completed"
    },
    "tags": []
   },
   "source": [
    "## Filter data to get 3 and 8 out"
   ]
  },
  {
   "cell_type": "code",
   "execution_count": 10,
   "id": "776f7fc7",
   "metadata": {
    "execution": {
     "iopub.execute_input": "2022-09-12T20:12:36.258462Z",
     "iopub.status.busy": "2022-09-12T20:12:36.257621Z",
     "iopub.status.idle": "2022-09-12T20:12:36.279344Z",
     "shell.execute_reply": "2022-09-12T20:12:36.279916Z"
    },
    "papermill": {
     "duration": 0.063957,
     "end_time": "2022-09-12T20:12:36.280077",
     "exception": false,
     "start_time": "2022-09-12T20:12:36.216120",
     "status": "completed"
    },
    "tags": []
   },
   "outputs": [],
   "source": [
    "train_filter = np.where((train_labels == 3 ) | (train_labels == 8))\n",
    "test_filter = np.where((test_labels == 3) | (test_labels == 8))\n",
    "X_train, y_train = train_images[train_filter], train_labels[train_filter]\n",
    "X_test, y_test = test_images[test_filter], test_labels[test_filter]"
   ]
  },
  {
   "cell_type": "markdown",
   "id": "948f0b7e",
   "metadata": {
    "papermill": {
     "duration": 0.034779,
     "end_time": "2022-09-12T20:12:36.349177",
     "exception": false,
     "start_time": "2022-09-12T20:12:36.314398",
     "status": "completed"
    },
    "tags": []
   },
   "source": [
    "We normalize the pizel values in the 0 to 1 range"
   ]
  },
  {
   "cell_type": "code",
   "execution_count": 11,
   "id": "ee4c2166",
   "metadata": {
    "execution": {
     "iopub.execute_input": "2022-09-12T20:12:36.435663Z",
     "iopub.status.busy": "2022-09-12T20:12:36.430405Z",
     "iopub.status.idle": "2022-09-12T20:12:36.492304Z",
     "shell.execute_reply": "2022-09-12T20:12:36.491721Z"
    },
    "papermill": {
     "duration": 0.109722,
     "end_time": "2022-09-12T20:12:36.492444",
     "exception": false,
     "start_time": "2022-09-12T20:12:36.382722",
     "status": "completed"
    },
    "tags": []
   },
   "outputs": [],
   "source": [
    "X_train = X_train/255.\n",
    "X_test = X_test/255."
   ]
  },
  {
   "cell_type": "markdown",
   "id": "ddcf4fab",
   "metadata": {
    "papermill": {
     "duration": 0.034292,
     "end_time": "2022-09-12T20:12:36.561797",
     "exception": false,
     "start_time": "2022-09-12T20:12:36.527505",
     "status": "completed"
    },
    "tags": []
   },
   "source": [
    "And setup the labels as 1 (when the digit is 3) and 0 (when the digit is 8)"
   ]
  },
  {
   "cell_type": "code",
   "execution_count": 12,
   "id": "7dc908f2",
   "metadata": {
    "execution": {
     "iopub.execute_input": "2022-09-12T20:12:36.639676Z",
     "iopub.status.busy": "2022-09-12T20:12:36.638949Z",
     "iopub.status.idle": "2022-09-12T20:12:36.651813Z",
     "shell.execute_reply": "2022-09-12T20:12:36.651204Z"
    },
    "papermill": {
     "duration": 0.054446,
     "end_time": "2022-09-12T20:12:36.651953",
     "exception": false,
     "start_time": "2022-09-12T20:12:36.597507",
     "status": "completed"
    },
    "tags": []
   },
   "outputs": [],
   "source": [
    "y_train = 1*(y_train==3)\n",
    "y_test = 1*(y_test==3)"
   ]
  },
  {
   "cell_type": "code",
   "execution_count": 13,
   "id": "01e4e969",
   "metadata": {
    "execution": {
     "iopub.execute_input": "2022-09-12T20:12:36.727643Z",
     "iopub.status.busy": "2022-09-12T20:12:36.726921Z",
     "iopub.status.idle": "2022-09-12T20:12:36.741646Z",
     "shell.execute_reply": "2022-09-12T20:12:36.742201Z"
    },
    "papermill": {
     "duration": 0.056194,
     "end_time": "2022-09-12T20:12:36.742365",
     "exception": false,
     "start_time": "2022-09-12T20:12:36.686171",
     "status": "completed"
    },
    "tags": []
   },
   "outputs": [
    {
     "data": {
      "text/plain": [
       "((11982, 28, 28), (1984, 28, 28))"
      ]
     },
     "execution_count": 13,
     "metadata": {},
     "output_type": "execute_result"
    }
   ],
   "source": [
    "X_train.shape, X_test.shape"
   ]
  },
  {
   "cell_type": "markdown",
   "id": "5ccf3f85",
   "metadata": {
    "papermill": {
     "duration": 0.034224,
     "end_time": "2022-09-12T20:12:36.810493",
     "exception": false,
     "start_time": "2022-09-12T20:12:36.776269",
     "status": "completed"
    },
    "tags": []
   },
   "source": [
    "We reshape the data to flatten the image pixels into a set of features or co-variates:"
   ]
  },
  {
   "cell_type": "code",
   "execution_count": 14,
   "id": "5286a4a3",
   "metadata": {
    "execution": {
     "iopub.execute_input": "2022-09-12T20:12:36.886282Z",
     "iopub.status.busy": "2022-09-12T20:12:36.885540Z",
     "iopub.status.idle": "2022-09-12T20:12:36.901483Z",
     "shell.execute_reply": "2022-09-12T20:12:36.900806Z"
    },
    "papermill": {
     "duration": 0.056526,
     "end_time": "2022-09-12T20:12:36.901632",
     "exception": false,
     "start_time": "2022-09-12T20:12:36.845106",
     "status": "completed"
    },
    "tags": []
   },
   "outputs": [
    {
     "data": {
      "text/plain": [
       "((11982, 784), (1984, 784))"
      ]
     },
     "execution_count": 14,
     "metadata": {},
     "output_type": "execute_result"
    }
   ],
   "source": [
    "X_train = X_train.reshape(X_train.shape[0], -1)\n",
    "X_test = X_test.reshape(X_test.shape[0], -1)\n",
    "X_train.shape, X_test.shape"
   ]
  },
  {
   "cell_type": "code",
   "execution_count": 15,
   "id": "73c5f88a",
   "metadata": {
    "execution": {
     "iopub.execute_input": "2022-09-12T20:12:36.982030Z",
     "iopub.status.busy": "2022-09-12T20:12:36.981202Z",
     "iopub.status.idle": "2022-09-12T20:12:37.003946Z",
     "shell.execute_reply": "2022-09-12T20:12:37.004537Z"
    },
    "papermill": {
     "duration": 0.067324,
     "end_time": "2022-09-12T20:12:37.004705",
     "exception": false,
     "start_time": "2022-09-12T20:12:36.937381",
     "status": "completed"
    },
    "tags": []
   },
   "outputs": [],
   "source": [
    "#Impoting functions from 'Kudzu'\n",
    "from kudzu.model import Model\n",
    "from kudzu.train import Learner\n",
    "from kudzu.optim import GD\n",
    "from kudzu.data import Data, Sampler,Dataloader\n",
    "\n",
    "from kudzu.callbacks import AccCallback\n",
    "from kudzu.callbacks import ClfCallback\n",
    "\n",
    "from kudzu.loss import MSE\n",
    "\n",
    "from kudzu.layer import Sigmoid,Relu\n",
    "from kudzu.layer import Affine"
   ]
  },
  {
   "cell_type": "markdown",
   "id": "bc01172a",
   "metadata": {
    "papermill": {
     "duration": 0.036126,
     "end_time": "2022-09-12T20:12:37.077044",
     "exception": false,
     "start_time": "2022-09-12T20:12:37.040918",
     "status": "completed"
    },
    "tags": []
   },
   "source": [
    "### Let us create a `Config` class, to store important parameters. \n",
    "This class essentially plays the role of a dictionary."
   ]
  },
  {
   "cell_type": "code",
   "execution_count": 16,
   "id": "978281aa",
   "metadata": {
    "execution": {
     "iopub.execute_input": "2022-09-12T20:12:37.159920Z",
     "iopub.status.busy": "2022-09-12T20:12:37.159138Z",
     "iopub.status.idle": "2022-09-12T20:12:37.169787Z",
     "shell.execute_reply": "2022-09-12T20:12:37.169186Z"
    },
    "papermill": {
     "duration": 0.058872,
     "end_time": "2022-09-12T20:12:37.169933",
     "exception": false,
     "start_time": "2022-09-12T20:12:37.111061",
     "status": "completed"
    },
    "tags": []
   },
   "outputs": [],
   "source": [
    "class Config:\n",
    "    pass\n",
    "config = Config()\n",
    "config.lr = 0.001\n",
    "config.num_epochs = 250\n",
    "config.bs = 50"
   ]
  },
  {
   "cell_type": "markdown",
   "id": "1385fa59",
   "metadata": {
    "papermill": {
     "duration": 0.035694,
     "end_time": "2022-09-12T20:12:37.241849",
     "exception": false,
     "start_time": "2022-09-12T20:12:37.206155",
     "status": "completed"
    },
    "tags": []
   },
   "source": [
    "### Running Models with the Training data\n",
    "Details about the network layers:\n",
    "- A first affine layer has 784 inputs and does 100 affine transforms. These are followed by a Relu\n",
    "- A second affine layer has 100 inputs from the 100 activations of the past layer, and does 100 affine transforms. These are followed by a Relu\n",
    "- A third affine layer has 100 activations and does 2 affine transformations to create an embedding for visualization. There is no non-linearity here.\n",
    "- A final \"logistic regression\" which has an affine transform from 2 inputs to 1 output, which is squeezed through a sigmoid.\n"
   ]
  },
  {
   "cell_type": "code",
   "execution_count": 17,
   "id": "2b9c66db",
   "metadata": {
    "execution": {
     "iopub.execute_input": "2022-09-12T20:12:37.321993Z",
     "iopub.status.busy": "2022-09-12T20:12:37.321244Z",
     "iopub.status.idle": "2022-09-12T20:12:37.332666Z",
     "shell.execute_reply": "2022-09-12T20:12:37.332053Z"
    },
    "papermill": {
     "duration": 0.056611,
     "end_time": "2022-09-12T20:12:37.332807",
     "exception": false,
     "start_time": "2022-09-12T20:12:37.276196",
     "status": "completed"
    },
    "tags": []
   },
   "outputs": [],
   "source": [
    "data = Data(X_train, y_train.reshape(-1,1))\n",
    "sampler = Sampler(data, config.bs, shuffle=True)\n",
    "\n",
    "dl = Dataloader(data, sampler)\n",
    "\n",
    "opt = GD(config.lr)\n",
    "loss = MSE()"
   ]
  },
  {
   "cell_type": "code",
   "execution_count": 18,
   "id": "b275e4c2",
   "metadata": {
    "execution": {
     "iopub.execute_input": "2022-09-12T20:12:37.410096Z",
     "iopub.status.busy": "2022-09-12T20:12:37.409364Z",
     "iopub.status.idle": "2022-09-12T20:12:37.424217Z",
     "shell.execute_reply": "2022-09-12T20:12:37.423225Z"
    },
    "papermill": {
     "duration": 0.05585,
     "end_time": "2022-09-12T20:12:37.424363",
     "exception": false,
     "start_time": "2022-09-12T20:12:37.368513",
     "status": "completed"
    },
    "tags": []
   },
   "outputs": [],
   "source": [
    "training_data_x = X_train\n",
    "testing_data_x = X_test\n",
    "training_data_y = y_train.reshape(-1,1)\n",
    "testing_data_y = y_test.reshape(-1,1)"
   ]
  },
  {
   "cell_type": "code",
   "execution_count": 19,
   "id": "76951160",
   "metadata": {
    "execution": {
     "iopub.execute_input": "2022-09-12T20:12:37.501506Z",
     "iopub.status.busy": "2022-09-12T20:12:37.500699Z",
     "iopub.status.idle": "2022-09-12T20:12:37.521352Z",
     "shell.execute_reply": "2022-09-12T20:12:37.520703Z"
    },
    "papermill": {
     "duration": 0.061039,
     "end_time": "2022-09-12T20:12:37.521493",
     "exception": false,
     "start_time": "2022-09-12T20:12:37.460454",
     "status": "completed"
    },
    "tags": []
   },
   "outputs": [
    {
     "name": "stdout",
     "output_type": "stream",
     "text": [
      "xavier\n",
      "xavier\n",
      "xavier\n",
      "xavier\n",
      "xavier\n"
     ]
    }
   ],
   "source": [
    "layers = [Affine(\"first\", 784, 100), Relu(\"first\"), Affine(\"second\", 100, 100), Relu(\"second\"), Affine(\"third\", 100, 2), Affine(\"last\", 2, 1), Sigmoid(\"last\")]\n",
    "model_nn = Model(layers)\n",
    "model_lr = Model([Affine(\"logits\", 784, 1), Sigmoid(\"sigmoid\")])"
   ]
  },
  {
   "cell_type": "code",
   "execution_count": 20,
   "id": "6eede77a",
   "metadata": {
    "execution": {
     "iopub.execute_input": "2022-09-12T20:12:37.606167Z",
     "iopub.status.busy": "2022-09-12T20:12:37.605393Z",
     "iopub.status.idle": "2022-09-12T20:12:37.620750Z",
     "shell.execute_reply": "2022-09-12T20:12:37.619897Z"
    },
    "papermill": {
     "duration": 0.059495,
     "end_time": "2022-09-12T20:12:37.620934",
     "exception": false,
     "start_time": "2022-09-12T20:12:37.561439",
     "status": "completed"
    },
    "tags": []
   },
   "outputs": [],
   "source": [
    "nn_learner = Learner(loss, model_nn, opt, config.num_epochs)\n",
    "acc_nn = ClfCallback(nn_learner, config.bs, training_data_x , testing_data_x, training_data_y, testing_data_y)\n",
    "nn_learner.set_callbacks([acc_nn])"
   ]
  },
  {
   "cell_type": "code",
   "execution_count": 21,
   "id": "877b6cc7",
   "metadata": {
    "execution": {
     "iopub.execute_input": "2022-09-12T20:12:37.701383Z",
     "iopub.status.busy": "2022-09-12T20:12:37.700484Z",
     "iopub.status.idle": "2022-09-12T20:12:37.721847Z",
     "shell.execute_reply": "2022-09-12T20:12:37.720776Z"
    },
    "papermill": {
     "duration": 0.06403,
     "end_time": "2022-09-12T20:12:37.721998",
     "exception": false,
     "start_time": "2022-09-12T20:12:37.657968",
     "status": "completed"
    },
    "tags": []
   },
   "outputs": [],
   "source": [
    "lr_learner = Learner(loss, model_lr, opt, config.num_epochs)\n",
    "acc_lr = ClfCallback(lr_learner, config.bs, training_data_x , testing_data_x, training_data_y, testing_data_y)\n",
    "lr_learner.set_callbacks([acc_lr])"
   ]
  },
  {
   "cell_type": "code",
   "execution_count": 22,
   "id": "d9b133c3",
   "metadata": {
    "execution": {
     "iopub.execute_input": "2022-09-12T20:12:37.801011Z",
     "iopub.status.busy": "2022-09-12T20:12:37.800228Z",
     "iopub.status.idle": "2022-09-12T20:14:48.124489Z",
     "shell.execute_reply": "2022-09-12T20:14:48.125508Z"
    },
    "papermill": {
     "duration": 130.368096,
     "end_time": "2022-09-12T20:14:48.125674",
     "exception": false,
     "start_time": "2022-09-12T20:12:37.757578",
     "status": "completed"
    },
    "tags": []
   },
   "outputs": [
    {
     "name": "stdout",
     "output_type": "stream",
     "text": [
      "Epoch 0, Loss 0.2553\n",
      "Training Accuracy: 0.5815, Testing Accuracy: 0.5741\n",
      "\n"
     ]
    },
    {
     "name": "stdout",
     "output_type": "stream",
     "text": [
      "Epoch 10, Loss 0.1073\n",
      "Training Accuracy: 0.8926, Testing Accuracy: 0.9002\n",
      "\n"
     ]
    },
    {
     "name": "stdout",
     "output_type": "stream",
     "text": [
      "Epoch 20, Loss 0.0603\n",
      "Training Accuracy: 0.9377, Testing Accuracy: 0.9491\n",
      "\n"
     ]
    },
    {
     "name": "stdout",
     "output_type": "stream",
     "text": [
      "Epoch 30, Loss 0.0452\n",
      "Training Accuracy: 0.9527, Testing Accuracy: 0.9607\n",
      "\n"
     ]
    },
    {
     "name": "stdout",
     "output_type": "stream",
     "text": [
      "Epoch 40, Loss 0.0383\n",
      "Training Accuracy: 0.9585, Testing Accuracy: 0.9622\n",
      "\n"
     ]
    },
    {
     "name": "stdout",
     "output_type": "stream",
     "text": [
      "Epoch 50, Loss 0.0344\n",
      "Training Accuracy: 0.9619, Testing Accuracy: 0.9652\n",
      "\n"
     ]
    },
    {
     "name": "stdout",
     "output_type": "stream",
     "text": [
      "Epoch 60, Loss 0.0318\n",
      "Training Accuracy: 0.9642, Testing Accuracy: 0.9662\n",
      "\n"
     ]
    },
    {
     "name": "stdout",
     "output_type": "stream",
     "text": [
      "Epoch 70, Loss 0.0299\n",
      "Training Accuracy: 0.9661, Testing Accuracy: 0.9672\n",
      "\n"
     ]
    },
    {
     "name": "stdout",
     "output_type": "stream",
     "text": [
      "Epoch 80, Loss 0.0284\n",
      "Training Accuracy: 0.9677, Testing Accuracy: 0.9677\n",
      "\n"
     ]
    },
    {
     "name": "stdout",
     "output_type": "stream",
     "text": [
      "Epoch 90, Loss 0.0271\n",
      "Training Accuracy: 0.9690, Testing Accuracy: 0.9688\n",
      "\n"
     ]
    },
    {
     "name": "stdout",
     "output_type": "stream",
     "text": [
      "Epoch 100, Loss 0.0261\n",
      "Training Accuracy: 0.9701, Testing Accuracy: 0.9693\n",
      "\n"
     ]
    },
    {
     "name": "stdout",
     "output_type": "stream",
     "text": [
      "Epoch 110, Loss 0.0252\n",
      "Training Accuracy: 0.9716, Testing Accuracy: 0.9713\n",
      "\n"
     ]
    },
    {
     "name": "stdout",
     "output_type": "stream",
     "text": [
      "Epoch 120, Loss 0.0243\n",
      "Training Accuracy: 0.9721, Testing Accuracy: 0.9718\n",
      "\n"
     ]
    },
    {
     "name": "stdout",
     "output_type": "stream",
     "text": [
      "Epoch 130, Loss 0.0236\n",
      "Training Accuracy: 0.9725, Testing Accuracy: 0.9723\n",
      "\n"
     ]
    },
    {
     "name": "stdout",
     "output_type": "stream",
     "text": [
      "Epoch 140, Loss 0.0229\n",
      "Training Accuracy: 0.9738, Testing Accuracy: 0.9718\n",
      "\n"
     ]
    },
    {
     "name": "stdout",
     "output_type": "stream",
     "text": [
      "Epoch 150, Loss 0.0223\n",
      "Training Accuracy: 0.9750, Testing Accuracy: 0.9728\n",
      "\n"
     ]
    },
    {
     "name": "stdout",
     "output_type": "stream",
     "text": [
      "Epoch 160, Loss 0.0217\n",
      "Training Accuracy: 0.9752, Testing Accuracy: 0.9733\n",
      "\n"
     ]
    },
    {
     "name": "stdout",
     "output_type": "stream",
     "text": [
      "Epoch 170, Loss 0.0212\n",
      "Training Accuracy: 0.9759, Testing Accuracy: 0.9738\n",
      "\n"
     ]
    },
    {
     "name": "stdout",
     "output_type": "stream",
     "text": [
      "Epoch 180, Loss 0.0207\n",
      "Training Accuracy: 0.9765, Testing Accuracy: 0.9748\n",
      "\n"
     ]
    },
    {
     "name": "stdout",
     "output_type": "stream",
     "text": [
      "Epoch 190, Loss 0.0202\n",
      "Training Accuracy: 0.9773, Testing Accuracy: 0.9763\n",
      "\n"
     ]
    },
    {
     "name": "stdout",
     "output_type": "stream",
     "text": [
      "Epoch 200, Loss 0.0197\n",
      "Training Accuracy: 0.9777, Testing Accuracy: 0.9773\n",
      "\n"
     ]
    },
    {
     "name": "stdout",
     "output_type": "stream",
     "text": [
      "Epoch 210, Loss 0.0192\n",
      "Training Accuracy: 0.9780, Testing Accuracy: 0.9763\n",
      "\n"
     ]
    },
    {
     "name": "stdout",
     "output_type": "stream",
     "text": [
      "Epoch 220, Loss 0.0188\n",
      "Training Accuracy: 0.9782, Testing Accuracy: 0.9768\n",
      "\n"
     ]
    },
    {
     "name": "stdout",
     "output_type": "stream",
     "text": [
      "Epoch 230, Loss 0.0184\n",
      "Training Accuracy: 0.9789, Testing Accuracy: 0.9768\n",
      "\n"
     ]
    },
    {
     "name": "stdout",
     "output_type": "stream",
     "text": [
      "Epoch 240, Loss 0.018\n",
      "Training Accuracy: 0.9798, Testing Accuracy: 0.9778\n",
      "\n"
     ]
    },
    {
     "data": {
      "text/plain": [
       "0.010184727904430826"
      ]
     },
     "execution_count": 22,
     "metadata": {},
     "output_type": "execute_result"
    }
   ],
   "source": [
    "nn_learner.train_loop(dl)"
   ]
  },
  {
   "cell_type": "code",
   "execution_count": 23,
   "id": "e0163366",
   "metadata": {
    "execution": {
     "iopub.execute_input": "2022-09-12T20:14:48.230938Z",
     "iopub.status.busy": "2022-09-12T20:14:48.230179Z",
     "iopub.status.idle": "2022-09-12T20:15:06.863651Z",
     "shell.execute_reply": "2022-09-12T20:15:06.864628Z"
    },
    "papermill": {
     "duration": 18.693553,
     "end_time": "2022-09-12T20:15:06.864788",
     "exception": false,
     "start_time": "2022-09-12T20:14:48.171235",
     "status": "completed"
    },
    "tags": []
   },
   "outputs": [
    {
     "name": "stdout",
     "output_type": "stream",
     "text": [
      "Epoch 0, Loss 0.2369\n",
      "Training Accuracy: 0.7141, Testing Accuracy: 0.7238\n",
      "\n"
     ]
    },
    {
     "name": "stdout",
     "output_type": "stream",
     "text": [
      "Epoch 10, Loss 0.102\n",
      "Training Accuracy: 0.9120, Testing Accuracy: 0.9209\n",
      "\n"
     ]
    },
    {
     "name": "stdout",
     "output_type": "stream",
     "text": [
      "Epoch 20, Loss 0.0788\n",
      "Training Accuracy: 0.9306, Testing Accuracy: 0.9375\n",
      "\n"
     ]
    },
    {
     "name": "stdout",
     "output_type": "stream",
     "text": [
      "Epoch 30, Loss 0.0681\n",
      "Training Accuracy: 0.9370, Testing Accuracy: 0.9451\n",
      "\n"
     ]
    },
    {
     "name": "stdout",
     "output_type": "stream",
     "text": [
      "Epoch 40, Loss 0.0617\n",
      "Training Accuracy: 0.9407, Testing Accuracy: 0.9511\n",
      "\n"
     ]
    },
    {
     "name": "stdout",
     "output_type": "stream",
     "text": [
      "Epoch 50, Loss 0.0573\n",
      "Training Accuracy: 0.9443, Testing Accuracy: 0.9551\n",
      "\n"
     ]
    },
    {
     "name": "stdout",
     "output_type": "stream",
     "text": [
      "Epoch 60, Loss 0.054\n",
      "Training Accuracy: 0.9467, Testing Accuracy: 0.9582\n",
      "\n"
     ]
    },
    {
     "name": "stdout",
     "output_type": "stream",
     "text": [
      "Epoch 70, Loss 0.0515\n",
      "Training Accuracy: 0.9490, Testing Accuracy: 0.9602\n",
      "\n"
     ]
    },
    {
     "name": "stdout",
     "output_type": "stream",
     "text": [
      "Epoch 80, Loss 0.0495\n",
      "Training Accuracy: 0.9498, Testing Accuracy: 0.9607\n",
      "\n"
     ]
    },
    {
     "name": "stdout",
     "output_type": "stream",
     "text": [
      "Epoch 90, Loss 0.0478\n",
      "Training Accuracy: 0.9511, Testing Accuracy: 0.9622\n",
      "\n"
     ]
    },
    {
     "name": "stdout",
     "output_type": "stream",
     "text": [
      "Epoch 100, Loss 0.0464\n",
      "Training Accuracy: 0.9527, Testing Accuracy: 0.9612\n",
      "\n"
     ]
    },
    {
     "name": "stdout",
     "output_type": "stream",
     "text": [
      "Epoch 110, Loss 0.0452\n",
      "Training Accuracy: 0.9537, Testing Accuracy: 0.9622\n",
      "\n"
     ]
    },
    {
     "name": "stdout",
     "output_type": "stream",
     "text": [
      "Epoch 120, Loss 0.0441\n",
      "Training Accuracy: 0.9540, Testing Accuracy: 0.9642\n",
      "\n"
     ]
    },
    {
     "name": "stdout",
     "output_type": "stream",
     "text": [
      "Epoch 130, Loss 0.0432\n",
      "Training Accuracy: 0.9546, Testing Accuracy: 0.9652\n",
      "\n"
     ]
    },
    {
     "name": "stdout",
     "output_type": "stream",
     "text": [
      "Epoch 140, Loss 0.0423\n",
      "Training Accuracy: 0.9555, Testing Accuracy: 0.9652\n",
      "\n"
     ]
    },
    {
     "name": "stdout",
     "output_type": "stream",
     "text": [
      "Epoch 150, Loss 0.0416\n",
      "Training Accuracy: 0.9559, Testing Accuracy: 0.9677\n",
      "\n"
     ]
    },
    {
     "name": "stdout",
     "output_type": "stream",
     "text": [
      "Epoch 160, Loss 0.0409\n",
      "Training Accuracy: 0.9565, Testing Accuracy: 0.9672\n",
      "\n"
     ]
    },
    {
     "name": "stdout",
     "output_type": "stream",
     "text": [
      "Epoch 170, Loss 0.0403\n",
      "Training Accuracy: 0.9571, Testing Accuracy: 0.9677\n",
      "\n"
     ]
    },
    {
     "name": "stdout",
     "output_type": "stream",
     "text": [
      "Epoch 180, Loss 0.0397\n",
      "Training Accuracy: 0.9574, Testing Accuracy: 0.9677\n",
      "\n"
     ]
    },
    {
     "name": "stdout",
     "output_type": "stream",
     "text": [
      "Epoch 190, Loss 0.0392\n",
      "Training Accuracy: 0.9579, Testing Accuracy: 0.9677\n",
      "\n"
     ]
    },
    {
     "name": "stdout",
     "output_type": "stream",
     "text": [
      "Epoch 200, Loss 0.0387\n",
      "Training Accuracy: 0.9584, Testing Accuracy: 0.9677\n",
      "\n"
     ]
    },
    {
     "name": "stdout",
     "output_type": "stream",
     "text": [
      "Epoch 210, Loss 0.0383\n",
      "Training Accuracy: 0.9586, Testing Accuracy: 0.9677\n",
      "\n"
     ]
    },
    {
     "name": "stdout",
     "output_type": "stream",
     "text": [
      "Epoch 220, Loss 0.0378\n",
      "Training Accuracy: 0.9591, Testing Accuracy: 0.9677\n",
      "\n"
     ]
    },
    {
     "name": "stdout",
     "output_type": "stream",
     "text": [
      "Epoch 230, Loss 0.0375\n",
      "Training Accuracy: 0.9595, Testing Accuracy: 0.9682\n",
      "\n"
     ]
    },
    {
     "name": "stdout",
     "output_type": "stream",
     "text": [
      "Epoch 240, Loss 0.0371\n",
      "Training Accuracy: 0.9596, Testing Accuracy: 0.9682\n",
      "\n"
     ]
    },
    {
     "data": {
      "text/plain": [
       "0.01196432936682874"
      ]
     },
     "execution_count": 23,
     "metadata": {},
     "output_type": "execute_result"
    }
   ],
   "source": [
    "lr_learner.train_loop(dl)"
   ]
  },
  {
   "cell_type": "code",
   "execution_count": 24,
   "id": "ca410940",
   "metadata": {
    "execution": {
     "iopub.execute_input": "2022-09-12T20:15:06.982213Z",
     "iopub.status.busy": "2022-09-12T20:15:06.981460Z",
     "iopub.status.idle": "2022-09-12T20:15:07.298440Z",
     "shell.execute_reply": "2022-09-12T20:15:07.297821Z"
    },
    "papermill": {
     "duration": 0.374756,
     "end_time": "2022-09-12T20:15:07.298583",
     "exception": false,
     "start_time": "2022-09-12T20:15:06.923827",
     "status": "completed"
    },
    "tags": []
   },
   "outputs": [
    {
     "data": {
      "text/plain": [
       "<matplotlib.legend.Legend at 0x7f177ca9a320>"
      ]
     },
     "execution_count": 24,
     "metadata": {},
     "output_type": "execute_result"
    },
    {
     "data": {
      "image/png": "[encoded data removed]",
      "text/plain": [
       "<Figure size 1080x720 with 1 Axes>"
      ]
     },
     "metadata": {
      "needs_background": "light"
     },
     "output_type": "display_data"
    }
   ],
   "source": [
    "#comparing the results of NN and LR\n",
    "plt.figure(figsize=(15,10))\n",
    "\n",
    "# Neural Network plots\n",
    "plt.plot(acc_nn.accuracies, 'r-', label = \"Training Accuracies - NN\")\n",
    "plt.plot(acc_nn.test_accuracies, 'g-', label = \"Testing Accuracies - NN\")\n",
    "\n",
    "# Logistic Regression plots\n",
    "plt.plot(acc_lr.accuracies, 'k-', label = \"Training Accuracies - LR\")\n",
    "plt.plot(acc_lr.test_accuracies, 'b-', label = \"Testing Accuracies - LR\")\n",
    "plt.legend()"
   ]
  },
  {
   "cell_type": "markdown",
   "id": "80dfb35c",
   "metadata": {
    "papermill": {
     "duration": 0.052338,
     "end_time": "2022-09-12T20:15:07.404809",
     "exception": false,
     "start_time": "2022-09-12T20:15:07.352471",
     "status": "completed"
    },
    "tags": []
   },
   "source": [
    "#### Plotting the outputs of this layer of the NN.\n"
   ]
  },
  {
   "cell_type": "code",
   "execution_count": 25,
   "id": "45eb2ff5",
   "metadata": {
    "execution": {
     "iopub.execute_input": "2022-09-12T20:15:07.521645Z",
     "iopub.status.busy": "2022-09-12T20:15:07.519695Z",
     "iopub.status.idle": "2022-09-12T20:15:07.546240Z",
     "shell.execute_reply": "2022-09-12T20:15:07.547069Z"
    },
    "papermill": {
     "duration": 0.088082,
     "end_time": "2022-09-12T20:15:07.547243",
     "exception": false,
     "start_time": "2022-09-12T20:15:07.459161",
     "status": "completed"
    },
    "tags": []
   },
   "outputs": [],
   "source": [
    "new_model = Model(layers[:-2])\n",
    "testing_plot = new_model(testing_data_x)"
   ]
  },
  {
   "cell_type": "code",
   "execution_count": 26,
   "id": "4c0a5485",
   "metadata": {
    "execution": {
     "iopub.execute_input": "2022-09-12T20:15:07.666432Z",
     "iopub.status.busy": "2022-09-12T20:15:07.665715Z",
     "iopub.status.idle": "2022-09-12T20:15:07.968589Z",
     "shell.execute_reply": "2022-09-12T20:15:07.967841Z"
    },
    "papermill": {
     "duration": 0.369116,
     "end_time": "2022-09-12T20:15:07.968729",
     "exception": false,
     "start_time": "2022-09-12T20:15:07.599613",
     "status": "completed"
    },
    "tags": []
   },
   "outputs": [
    {
     "data": {
      "text/plain": [
       "Text(0.5, 1.0, 'Outputs')"
      ]
     },
     "execution_count": 26,
     "metadata": {},
     "output_type": "execute_result"
    },
    {
     "data": {
      "image/png": "[encoded data removed]",
      "text/plain": [
       "<Figure size 576x504 with 1 Axes>"
      ]
     },
     "metadata": {
      "needs_background": "light"
     },
     "output_type": "display_data"
    }
   ],
   "source": [
    "# Plotting the scatter plot of points and color coding by class\n",
    "plt.figure(figsize=(8,7))\n",
    "plt.scatter(testing_plot[:,0], testing_plot[:,1], alpha = 0.1, c = y_test.ravel());\n",
    "plt.title('Outputs')"
   ]
  },
  {
   "cell_type": "markdown",
   "id": "a74fcf8f",
   "metadata": {
    "papermill": {
     "duration": 0.091027,
     "end_time": "2022-09-12T20:15:08.119296",
     "exception": false,
     "start_time": "2022-09-12T20:15:08.028269",
     "status": "completed"
    },
    "tags": []
   },
   "source": [
    "Probability contours"
   ]
  },
  {
   "cell_type": "code",
   "execution_count": 27,
   "id": "d0afc8e3",
   "metadata": {
    "execution": {
     "iopub.execute_input": "2022-09-12T20:15:08.238100Z",
     "iopub.status.busy": "2022-09-12T20:15:08.237307Z",
     "iopub.status.idle": "2022-09-12T20:15:08.252027Z",
     "shell.execute_reply": "2022-09-12T20:15:08.251427Z"
    },
    "papermill": {
     "duration": 0.075942,
     "end_time": "2022-09-12T20:15:08.252163",
     "exception": false,
     "start_time": "2022-09-12T20:15:08.176221",
     "status": "completed"
    },
    "tags": []
   },
   "outputs": [],
   "source": [
    "model_prob = Model(layers[-2:]) "
   ]
  },
  {
   "cell_type": "code",
   "execution_count": 28,
   "id": "9b96e238",
   "metadata": {
    "execution": {
     "iopub.execute_input": "2022-09-12T20:15:08.373615Z",
     "iopub.status.busy": "2022-09-12T20:15:08.372825Z",
     "iopub.status.idle": "2022-09-12T20:15:08.388205Z",
     "shell.execute_reply": "2022-09-12T20:15:08.388771Z"
    },
    "papermill": {
     "duration": 0.079712,
     "end_time": "2022-09-12T20:15:08.388969",
     "exception": false,
     "start_time": "2022-09-12T20:15:08.309257",
     "status": "completed"
    },
    "tags": []
   },
   "outputs": [],
   "source": [
    "#creating the x and y ranges according to the above generated plot.\n",
    "x_range = np.linspace(-4, 1, 100) \n",
    "y_range = np.linspace(-6, 6, 100) \n",
    "x_grid, y_grid = np.meshgrid(x_range, y_range) # x_grid and y_grig are of size 100 X 100\n",
    "\n",
    "# converting x_grid and y_grid to continuous arrays\n",
    "x_gridflat = np.ravel(x_grid)\n",
    "y_gridflat = np.ravel(y_grid)\n",
    "\n",
    "# The last layer of the current model takes two columns as input. Hence transpose of np.vstack() is required.\n",
    "X = np.vstack((x_gridflat, y_gridflat)).T\n",
    "\n",
    "prob_contour = model_prob(X).reshape(100,100) "
   ]
  },
  {
   "cell_type": "code",
   "execution_count": 29,
   "id": "da72499a",
   "metadata": {
    "execution": {
     "iopub.execute_input": "2022-09-12T20:15:08.520242Z",
     "iopub.status.busy": "2022-09-12T20:15:08.519487Z",
     "iopub.status.idle": "2022-09-12T20:15:08.839083Z",
     "shell.execute_reply": "2022-09-12T20:15:08.840301Z"
    },
    "papermill": {
     "duration": 0.392498,
     "end_time": "2022-09-12T20:15:08.840468",
     "exception": false,
     "start_time": "2022-09-12T20:15:08.447970",
     "status": "completed"
    },
    "tags": []
   },
   "outputs": [
    {
     "data": {
      "image/png": "[encoded data removed]",
      "text/plain": [
       "<Figure size 720x648 with 1 Axes>"
      ]
     },
     "metadata": {
      "needs_background": "light"
     },
     "output_type": "display_data"
    }
   ],
   "source": [
    "plt.figure(figsize=(10,9))\n",
    "plt.scatter(testing_plot[:,0], testing_plot[:,1], alpha = 0.1, c = y_test.ravel())\n",
    "contours = plt.contour(x_grid,y_grid,prob_contour)\n",
    "plt.title('Probability Contours')\n",
    "plt.clabel(contours, inline = True );"
   ]
  },
  {
   "cell_type": "code",
   "execution_count": null,
   "id": "e81b4ac7",
   "metadata": {
    "papermill": {
     "duration": 0.058813,
     "end_time": "2022-09-12T20:15:08.958951",
     "exception": false,
     "start_time": "2022-09-12T20:15:08.900138",
     "status": "completed"
    },
    "tags": []
   },
   "outputs": [],
   "source": []
  }
 ],
 "metadata": {
  "kernelspec": {
   "display_name": "Python 3",
   "language": "python",
   "name": "python3"
  },
  "language_info": {
   "codemirror_mode": {
    "name": "ipython",
    "version": 3
   },
   "file_extension": ".py",
   "mimetype": "text/x-python",
   "name": "python",
   "nbconvert_exporter": "python",
   "pygments_lexer": "ipython3",
   "version": "3.6.15"
  },
  "papermill": {
   "default_parameters": {},
   "duration": 159.156617,
   "end_time": "2022-09-12T20:15:09.439486",
   "environment_variables": {},
   "exception": null,
   "input_path": "2020-08-11-part2.ipynb",
   "output_path": "2020-08-11-part2.ipynb",
   "parameters": {},
   "start_time": "2022-09-12T20:12:30.282869",
   "version": "2.3.3"
  }
 },
 "nbformat": 4,
 "nbformat_minor": 5
}