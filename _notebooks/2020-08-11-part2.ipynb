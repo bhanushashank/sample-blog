{
 "cells": [
  {
   "cell_type": "markdown",
   "id": "98380cd3",
   "metadata": {
    "papermill": {
     "duration": 0.039541,
     "end_time": "2022-09-05T10:11:27.213622",
     "exception": false,
     "start_time": "2022-09-05T10:11:27.174081",
     "status": "completed"
    },
    "tags": []
   },
   "source": [
    "# Distinguish Your Own Digits (DYOD)"
   ]
  },
  {
   "cell_type": "markdown",
   "id": "ef31240d",
   "metadata": {
    "papermill": {
     "duration": 0.026346,
     "end_time": "2022-09-05T10:11:27.267728",
     "exception": false,
     "start_time": "2022-09-05T10:11:27.241382",
     "status": "completed"
    },
    "tags": []
   },
   "source": [
    "You are going to write a classifier that distinguishes between the number 3 and number 8."
   ]
  },
  {
   "cell_type": "code",
   "execution_count": 1,
   "id": "b15c8646",
   "metadata": {
    "execution": {
     "iopub.execute_input": "2022-09-05T10:11:27.334386Z",
     "iopub.status.busy": "2022-09-05T10:11:27.332833Z",
     "iopub.status.idle": "2022-09-05T10:11:27.345639Z",
     "shell.execute_reply": "2022-09-05T10:11:27.345005Z"
    },
    "papermill": {
     "duration": 0.051696,
     "end_time": "2022-09-05T10:11:27.345791",
     "exception": false,
     "start_time": "2022-09-05T10:11:27.294095",
     "status": "completed"
    },
    "tags": []
   },
   "outputs": [],
   "source": [
    "%load_ext autoreload\n",
    "%autoreload 2"
   ]
  },
  {
   "cell_type": "code",
   "execution_count": 2,
   "id": "22ef38dc",
   "metadata": {
    "execution": {
     "iopub.execute_input": "2022-09-05T10:11:27.410047Z",
     "iopub.status.busy": "2022-09-05T10:11:27.409254Z",
     "iopub.status.idle": "2022-09-05T10:11:28.063992Z",
     "shell.execute_reply": "2022-09-05T10:11:28.059824Z"
    },
    "papermill": {
     "duration": 0.689859,
     "end_time": "2022-09-05T10:11:28.064239",
     "exception": false,
     "start_time": "2022-09-05T10:11:27.374380",
     "status": "completed"
    },
    "tags": []
   },
   "outputs": [],
   "source": [
    "%matplotlib inline\n",
    "import numpy as np\n",
    "import matplotlib.pyplot as plt\n",
    "import pandas as pd"
   ]
  },
  {
   "cell_type": "markdown",
   "id": "ba036198",
   "metadata": {
    "papermill": {
     "duration": 0.026995,
     "end_time": "2022-09-05T10:11:28.118845",
     "exception": false,
     "start_time": "2022-09-05T10:11:28.091850",
     "status": "completed"
    },
    "tags": []
   },
   "source": [
    "From the command line run `pip install mnist`. This is a library that will help you bring down the mnist dataset. If you run this from a notebook, you need to put  `!pip install mnist` in a cell by itself."
   ]
  },
  {
   "cell_type": "code",
   "execution_count": 3,
   "id": "bb6ad8a1",
   "metadata": {
    "execution": {
     "iopub.execute_input": "2022-09-05T10:11:28.177805Z",
     "iopub.status.busy": "2022-09-05T10:11:28.177113Z",
     "iopub.status.idle": "2022-09-05T10:11:30.086134Z",
     "shell.execute_reply": "2022-09-05T10:11:30.087001Z"
    },
    "papermill": {
     "duration": 1.941851,
     "end_time": "2022-09-05T10:11:30.087161",
     "exception": false,
     "start_time": "2022-09-05T10:11:28.145310",
     "status": "completed"
    },
    "tags": []
   },
   "outputs": [
    {
     "name": "stdout",
     "output_type": "stream",
     "text": [
      "Collecting mnist\r\n",
      "  Downloading mnist-0.2.2-py2.py3-none-any.whl (3.5 kB)\r\n",
      "Requirement already satisfied: numpy in /opt/hostedtoolcache/Python/3.6.15/x64/lib/python3.6/site-packages (from mnist) (1.19.5)\r\n"
     ]
    },
    {
     "name": "stdout",
     "output_type": "stream",
     "text": [
      "Installing collected packages: mnist\r\n"
     ]
    },
    {
     "name": "stdout",
     "output_type": "stream",
     "text": [
      "Successfully installed mnist-0.2.2\r\n"
     ]
    }
   ],
   "source": [
    "!pip install mnist"
   ]
  },
  {
   "cell_type": "markdown",
   "id": "69df9c9a",
   "metadata": {
    "papermill": {
     "duration": 0.028651,
     "end_time": "2022-09-05T10:11:30.144047",
     "exception": false,
     "start_time": "2022-09-05T10:11:30.115396",
     "status": "completed"
    },
    "tags": []
   },
   "source": [
    "## Preparing the Data"
   ]
  },
  {
   "cell_type": "code",
   "execution_count": 4,
   "id": "7f69d806",
   "metadata": {
    "execution": {
     "iopub.execute_input": "2022-09-05T10:11:30.210062Z",
     "iopub.status.busy": "2022-09-05T10:11:30.205461Z",
     "iopub.status.idle": "2022-09-05T10:11:30.224072Z",
     "shell.execute_reply": "2022-09-05T10:11:30.224749Z"
    },
    "papermill": {
     "duration": 0.052077,
     "end_time": "2022-09-05T10:11:30.224906",
     "exception": false,
     "start_time": "2022-09-05T10:11:30.172829",
     "status": "completed"
    },
    "tags": []
   },
   "outputs": [],
   "source": [
    "import mnist"
   ]
  },
  {
   "cell_type": "code",
   "execution_count": 5,
   "id": "a411e44f",
   "metadata": {
    "execution": {
     "iopub.execute_input": "2022-09-05T10:11:30.289414Z",
     "iopub.status.busy": "2022-09-05T10:11:30.288674Z",
     "iopub.status.idle": "2022-09-05T10:11:31.037239Z",
     "shell.execute_reply": "2022-09-05T10:11:31.036150Z"
    },
    "papermill": {
     "duration": 0.784205,
     "end_time": "2022-09-05T10:11:31.037467",
     "exception": false,
     "start_time": "2022-09-05T10:11:30.253262",
     "status": "completed"
    },
    "tags": []
   },
   "outputs": [],
   "source": [
    "train_images = mnist.train_images()\n",
    "train_labels = mnist.train_labels()"
   ]
  },
  {
   "cell_type": "code",
   "execution_count": 6,
   "id": "dceab3a5",
   "metadata": {
    "execution": {
     "iopub.execute_input": "2022-09-05T10:11:31.098542Z",
     "iopub.status.busy": "2022-09-05T10:11:31.097856Z",
     "iopub.status.idle": "2022-09-05T10:11:31.116281Z",
     "shell.execute_reply": "2022-09-05T10:11:31.115728Z"
    },
    "papermill": {
     "duration": 0.049628,
     "end_time": "2022-09-05T10:11:31.116410",
     "exception": false,
     "start_time": "2022-09-05T10:11:31.066782",
     "status": "completed"
    },
    "tags": []
   },
   "outputs": [
    {
     "data": {
      "text/plain": [
       "((60000, 28, 28), (60000,))"
      ]
     },
     "execution_count": 6,
     "metadata": {},
     "output_type": "execute_result"
    }
   ],
   "source": [
    "train_images.shape, train_labels.shape"
   ]
  },
  {
   "cell_type": "code",
   "execution_count": 7,
   "id": "f50dc2bb",
   "metadata": {
    "execution": {
     "iopub.execute_input": "2022-09-05T10:11:31.178394Z",
     "iopub.status.busy": "2022-09-05T10:11:31.177714Z",
     "iopub.status.idle": "2022-09-05T10:11:31.371503Z",
     "shell.execute_reply": "2022-09-05T10:11:31.370491Z"
    },
    "papermill": {
     "duration": 0.227405,
     "end_time": "2022-09-05T10:11:31.371720",
     "exception": false,
     "start_time": "2022-09-05T10:11:31.144315",
     "status": "completed"
    },
    "tags": []
   },
   "outputs": [],
   "source": [
    "test_images = mnist.test_images()\n",
    "test_labels = mnist.test_labels()"
   ]
  },
  {
   "cell_type": "code",
   "execution_count": 8,
   "id": "fc38cf1b",
   "metadata": {
    "execution": {
     "iopub.execute_input": "2022-09-05T10:11:31.435518Z",
     "iopub.status.busy": "2022-09-05T10:11:31.434814Z",
     "iopub.status.idle": "2022-09-05T10:11:31.449852Z",
     "shell.execute_reply": "2022-09-05T10:11:31.450371Z"
    },
    "papermill": {
     "duration": 0.049336,
     "end_time": "2022-09-05T10:11:31.450513",
     "exception": false,
     "start_time": "2022-09-05T10:11:31.401177",
     "status": "completed"
    },
    "tags": []
   },
   "outputs": [
    {
     "data": {
      "text/plain": [
       "((10000, 28, 28), (10000,))"
      ]
     },
     "execution_count": 8,
     "metadata": {},
     "output_type": "execute_result"
    }
   ],
   "source": [
    "test_images.shape, test_labels.shape"
   ]
  },
  {
   "cell_type": "code",
   "execution_count": 9,
   "id": "f9ed8fe0",
   "metadata": {
    "execution": {
     "iopub.execute_input": "2022-09-05T10:11:31.514776Z",
     "iopub.status.busy": "2022-09-05T10:11:31.514098Z",
     "iopub.status.idle": "2022-09-05T10:11:31.677274Z",
     "shell.execute_reply": "2022-09-05T10:11:31.676700Z"
    },
    "papermill": {
     "duration": 0.198413,
     "end_time": "2022-09-05T10:11:31.677403",
     "exception": false,
     "start_time": "2022-09-05T10:11:31.478990",
     "status": "completed"
    },
    "tags": []
   },
   "outputs": [
    {
     "name": "stdout",
     "output_type": "stream",
     "text": [
      "2\n"
     ]
    },
    {
     "data": {
      "text/plain": [
       "<matplotlib.image.AxesImage at 0x7f561db21c50>"
      ]
     },
     "execution_count": 9,
     "metadata": {},
     "output_type": "execute_result"
    },
    {
     "data": {
      "image/png": "[encoded data removed]",
      "text/plain": [
       "<Figure size 432x288 with 1 Axes>"
      ]
     },
     "metadata": {
      "needs_background": "light"
     },
     "output_type": "display_data"
    }
   ],
   "source": [
    "image_index = 7776 # You may select anything up to 60,000\n",
    "print(train_labels[image_index]) \n",
    "plt.imshow(train_images[image_index], cmap='Greys')"
   ]
  },
  {
   "cell_type": "markdown",
   "id": "a8d2388d",
   "metadata": {
    "papermill": {
     "duration": 0.029122,
     "end_time": "2022-09-05T10:11:31.736255",
     "exception": false,
     "start_time": "2022-09-05T10:11:31.707133",
     "status": "completed"
    },
    "tags": []
   },
   "source": [
    "## Filter data to get 3 and 8 out"
   ]
  },
  {
   "cell_type": "code",
   "execution_count": 10,
   "id": "776f7fc7",
   "metadata": {
    "execution": {
     "iopub.execute_input": "2022-09-05T10:11:31.799838Z",
     "iopub.status.busy": "2022-09-05T10:11:31.799131Z",
     "iopub.status.idle": "2022-09-05T10:11:31.819880Z",
     "shell.execute_reply": "2022-09-05T10:11:31.819155Z"
    },
    "papermill": {
     "duration": 0.054614,
     "end_time": "2022-09-05T10:11:31.820017",
     "exception": false,
     "start_time": "2022-09-05T10:11:31.765403",
     "status": "completed"
    },
    "tags": []
   },
   "outputs": [],
   "source": [
    "train_filter = np.where((train_labels == 3 ) | (train_labels == 8))\n",
    "test_filter = np.where((test_labels == 3) | (test_labels == 8))\n",
    "X_train, y_train = train_images[train_filter], train_labels[train_filter]\n",
    "X_test, y_test = test_images[test_filter], test_labels[test_filter]"
   ]
  },
  {
   "cell_type": "markdown",
   "id": "948f0b7e",
   "metadata": {
    "papermill": {
     "duration": 0.03083,
     "end_time": "2022-09-05T10:11:31.881426",
     "exception": false,
     "start_time": "2022-09-05T10:11:31.850596",
     "status": "completed"
    },
    "tags": []
   },
   "source": [
    "We normalize the pizel values in the 0 to 1 range"
   ]
  },
  {
   "cell_type": "code",
   "execution_count": 11,
   "id": "ee4c2166",
   "metadata": {
    "execution": {
     "iopub.execute_input": "2022-09-05T10:11:31.957787Z",
     "iopub.status.busy": "2022-09-05T10:11:31.949243Z",
     "iopub.status.idle": "2022-09-05T10:11:32.005292Z",
     "shell.execute_reply": "2022-09-05T10:11:32.004647Z"
    },
    "papermill": {
     "duration": 0.093515,
     "end_time": "2022-09-05T10:11:32.005423",
     "exception": false,
     "start_time": "2022-09-05T10:11:31.911908",
     "status": "completed"
    },
    "tags": []
   },
   "outputs": [],
   "source": [
    "X_train = X_train/255.\n",
    "X_test = X_test/255."
   ]
  },
  {
   "cell_type": "markdown",
   "id": "ddcf4fab",
   "metadata": {
    "papermill": {
     "duration": 0.033022,
     "end_time": "2022-09-05T10:11:32.069125",
     "exception": false,
     "start_time": "2022-09-05T10:11:32.036103",
     "status": "completed"
    },
    "tags": []
   },
   "source": [
    "And setup the labels as 1 (when the digit is 3) and 0 (when the digit is 8)"
   ]
  },
  {
   "cell_type": "code",
   "execution_count": 12,
   "id": "7dc908f2",
   "metadata": {
    "execution": {
     "iopub.execute_input": "2022-09-05T10:11:32.135781Z",
     "iopub.status.busy": "2022-09-05T10:11:32.135093Z",
     "iopub.status.idle": "2022-09-05T10:11:32.150523Z",
     "shell.execute_reply": "2022-09-05T10:11:32.151596Z"
    },
    "papermill": {
     "duration": 0.052131,
     "end_time": "2022-09-05T10:11:32.151756",
     "exception": false,
     "start_time": "2022-09-05T10:11:32.099625",
     "status": "completed"
    },
    "tags": []
   },
   "outputs": [],
   "source": [
    "y_train = 1*(y_train==3)\n",
    "y_test = 1*(y_test==3)"
   ]
  },
  {
   "cell_type": "code",
   "execution_count": 13,
   "id": "01e4e969",
   "metadata": {
    "execution": {
     "iopub.execute_input": "2022-09-05T10:11:32.218499Z",
     "iopub.status.busy": "2022-09-05T10:11:32.217821Z",
     "iopub.status.idle": "2022-09-05T10:11:32.233736Z",
     "shell.execute_reply": "2022-09-05T10:11:32.233091Z"
    },
    "papermill": {
     "duration": 0.051242,
     "end_time": "2022-09-05T10:11:32.233879",
     "exception": false,
     "start_time": "2022-09-05T10:11:32.182637",
     "status": "completed"
    },
    "tags": []
   },
   "outputs": [
    {
     "data": {
      "text/plain": [
       "((11982, 28, 28), (1984, 28, 28))"
      ]
     },
     "execution_count": 13,
     "metadata": {},
     "output_type": "execute_result"
    }
   ],
   "source": [
    "X_train.shape, X_test.shape"
   ]
  },
  {
   "cell_type": "markdown",
   "id": "5ccf3f85",
   "metadata": {
    "papermill": {
     "duration": 0.030623,
     "end_time": "2022-09-05T10:11:32.294713",
     "exception": false,
     "start_time": "2022-09-05T10:11:32.264090",
     "status": "completed"
    },
    "tags": []
   },
   "source": [
    "We reshape the data to flatten the image pixels into a set of features or co-variates:"
   ]
  },
  {
   "cell_type": "code",
   "execution_count": 14,
   "id": "5286a4a3",
   "metadata": {
    "execution": {
     "iopub.execute_input": "2022-09-05T10:11:32.364828Z",
     "iopub.status.busy": "2022-09-05T10:11:32.364112Z",
     "iopub.status.idle": "2022-09-05T10:11:32.383905Z",
     "shell.execute_reply": "2022-09-05T10:11:32.384496Z"
    },
    "papermill": {
     "duration": 0.058391,
     "end_time": "2022-09-05T10:11:32.384763",
     "exception": false,
     "start_time": "2022-09-05T10:11:32.326372",
     "status": "completed"
    },
    "tags": []
   },
   "outputs": [
    {
     "data": {
      "text/plain": [
       "((11982, 784), (1984, 784))"
      ]
     },
     "execution_count": 14,
     "metadata": {},
     "output_type": "execute_result"
    }
   ],
   "source": [
    "X_train = X_train.reshape(X_train.shape[0], -1)\n",
    "X_test = X_test.reshape(X_test.shape[0], -1)\n",
    "X_train.shape, X_test.shape"
   ]
  },
  {
   "cell_type": "code",
   "execution_count": 15,
   "id": "73c5f88a",
   "metadata": {
    "execution": {
     "iopub.execute_input": "2022-09-05T10:11:32.460304Z",
     "iopub.status.busy": "2022-09-05T10:11:32.459542Z",
     "iopub.status.idle": "2022-09-05T10:11:32.481141Z",
     "shell.execute_reply": "2022-09-05T10:11:32.481642Z"
    },
    "papermill": {
     "duration": 0.061874,
     "end_time": "2022-09-05T10:11:32.481787",
     "exception": false,
     "start_time": "2022-09-05T10:11:32.419913",
     "status": "completed"
    },
    "tags": []
   },
   "outputs": [],
   "source": [
    "#Impoting functions from 'Kudzu'\n",
    "from kudzu.model import Model\n",
    "from kudzu.train import Learner\n",
    "from kudzu.optim import GD\n",
    "from kudzu.data import Data, Sampler,Dataloader\n",
    "\n",
    "from kudzu.callbacks import AccCallback\n",
    "from kudzu.callbacks import ClfCallback\n",
    "\n",
    "from kudzu.loss import MSE\n",
    "\n",
    "from kudzu.layer import Sigmoid,Relu\n",
    "from kudzu.layer import Affine"
   ]
  },
  {
   "cell_type": "markdown",
   "id": "bc01172a",
   "metadata": {
    "papermill": {
     "duration": 0.029624,
     "end_time": "2022-09-05T10:11:32.542065",
     "exception": false,
     "start_time": "2022-09-05T10:11:32.512441",
     "status": "completed"
    },
    "tags": []
   },
   "source": [
    "### Let us create a `Config` class, to store important parameters. \n",
    "This class essentially plays the role of a dictionary."
   ]
  },
  {
   "cell_type": "code",
   "execution_count": 16,
   "id": "978281aa",
   "metadata": {
    "execution": {
     "iopub.execute_input": "2022-09-05T10:11:32.607584Z",
     "iopub.status.busy": "2022-09-05T10:11:32.606524Z",
     "iopub.status.idle": "2022-09-05T10:11:32.621085Z",
     "shell.execute_reply": "2022-09-05T10:11:32.620390Z"
    },
    "papermill": {
     "duration": 0.049349,
     "end_time": "2022-09-05T10:11:32.621221",
     "exception": false,
     "start_time": "2022-09-05T10:11:32.571872",
     "status": "completed"
    },
    "tags": []
   },
   "outputs": [],
   "source": [
    "class Config:\n",
    "    pass\n",
    "config = Config()\n",
    "config.lr = 0.001\n",
    "config.num_epochs = 250\n",
    "config.bs = 50"
   ]
  },
  {
   "cell_type": "markdown",
   "id": "1385fa59",
   "metadata": {
    "papermill": {
     "duration": 0.02984,
     "end_time": "2022-09-05T10:11:32.681759",
     "exception": false,
     "start_time": "2022-09-05T10:11:32.651919",
     "status": "completed"
    },
    "tags": []
   },
   "source": [
    "### Running Models with the Training data\n",
    "Details about the network layers:\n",
    "- A first affine layer has 784 inputs and does 100 affine transforms. These are followed by a Relu\n",
    "- A second affine layer has 100 inputs from the 100 activations of the past layer, and does 100 affine transforms. These are followed by a Relu\n",
    "- A third affine layer has 100 activations and does 2 affine transformations to create an embedding for visualization. There is no non-linearity here.\n",
    "- A final \"logistic regression\" which has an affine transform from 2 inputs to 1 output, which is squeezed through a sigmoid.\n"
   ]
  },
  {
   "cell_type": "code",
   "execution_count": 17,
   "id": "2b9c66db",
   "metadata": {
    "execution": {
     "iopub.execute_input": "2022-09-05T10:11:32.749092Z",
     "iopub.status.busy": "2022-09-05T10:11:32.748381Z",
     "iopub.status.idle": "2022-09-05T10:11:32.762965Z",
     "shell.execute_reply": "2022-09-05T10:11:32.762446Z"
    },
    "papermill": {
     "duration": 0.051207,
     "end_time": "2022-09-05T10:11:32.763086",
     "exception": false,
     "start_time": "2022-09-05T10:11:32.711879",
     "status": "completed"
    },
    "tags": []
   },
   "outputs": [],
   "source": [
    "data = Data(X_train, y_train.reshape(-1,1))\n",
    "sampler = Sampler(data, config.bs, shuffle=True)\n",
    "\n",
    "dl = Dataloader(data, sampler)\n",
    "\n",
    "opt = GD(config.lr)\n",
    "loss = MSE()"
   ]
  },
  {
   "cell_type": "code",
   "execution_count": 18,
   "id": "b275e4c2",
   "metadata": {
    "execution": {
     "iopub.execute_input": "2022-09-05T10:11:32.828142Z",
     "iopub.status.busy": "2022-09-05T10:11:32.827471Z",
     "iopub.status.idle": "2022-09-05T10:11:32.841532Z",
     "shell.execute_reply": "2022-09-05T10:11:32.840903Z"
    },
    "papermill": {
     "duration": 0.049506,
     "end_time": "2022-09-05T10:11:32.841653",
     "exception": false,
     "start_time": "2022-09-05T10:11:32.792147",
     "status": "completed"
    },
    "tags": []
   },
   "outputs": [],
   "source": [
    "training_data_x = X_train\n",
    "testing_data_x = X_test\n",
    "training_data_y = y_train.reshape(-1,1)\n",
    "testing_data_y = y_test.reshape(-1,1)"
   ]
  },
  {
   "cell_type": "code",
   "execution_count": 19,
   "id": "76951160",
   "metadata": {
    "execution": {
     "iopub.execute_input": "2022-09-05T10:11:32.909979Z",
     "iopub.status.busy": "2022-09-05T10:11:32.909248Z",
     "iopub.status.idle": "2022-09-05T10:11:32.926758Z",
     "shell.execute_reply": "2022-09-05T10:11:32.926210Z"
    },
    "papermill": {
     "duration": 0.055706,
     "end_time": "2022-09-05T10:11:32.926878",
     "exception": false,
     "start_time": "2022-09-05T10:11:32.871172",
     "status": "completed"
    },
    "tags": []
   },
   "outputs": [
    {
     "name": "stdout",
     "output_type": "stream",
     "text": [
      "xavier\n",
      "xavier\n",
      "xavier\n",
      "xavier\n",
      "xavier\n"
     ]
    }
   ],
   "source": [
    "layers = [Affine(\"first\", 784, 100), Relu(\"first\"), Affine(\"second\", 100, 100), Relu(\"second\"), Affine(\"third\", 100, 2), Affine(\"last\", 2, 1), Sigmoid(\"last\")]\n",
    "model_nn = Model(layers)\n",
    "model_lr = Model([Affine(\"logits\", 784, 1), Sigmoid(\"sigmoid\")])"
   ]
  },
  {
   "cell_type": "code",
   "execution_count": 20,
   "id": "6eede77a",
   "metadata": {
    "execution": {
     "iopub.execute_input": "2022-09-05T10:11:32.994318Z",
     "iopub.status.busy": "2022-09-05T10:11:32.993634Z",
     "iopub.status.idle": "2022-09-05T10:11:33.010260Z",
     "shell.execute_reply": "2022-09-05T10:11:33.009682Z"
    },
    "papermill": {
     "duration": 0.052419,
     "end_time": "2022-09-05T10:11:33.010393",
     "exception": false,
     "start_time": "2022-09-05T10:11:32.957974",
     "status": "completed"
    },
    "tags": []
   },
   "outputs": [],
   "source": [
    "nn_learner = Learner(loss, model_nn, opt, config.num_epochs)\n",
    "acc_nn = ClfCallback(nn_learner, config.bs, training_data_x , testing_data_x, training_data_y, testing_data_y)\n",
    "nn_learner.set_callbacks([acc_nn])"
   ]
  },
  {
   "cell_type": "code",
   "execution_count": 21,
   "id": "877b6cc7",
   "metadata": {
    "execution": {
     "iopub.execute_input": "2022-09-05T10:11:33.080434Z",
     "iopub.status.busy": "2022-09-05T10:11:33.079764Z",
     "iopub.status.idle": "2022-09-05T10:11:33.095355Z",
     "shell.execute_reply": "2022-09-05T10:11:33.094761Z"
    },
    "papermill": {
     "duration": 0.054003,
     "end_time": "2022-09-05T10:11:33.095479",
     "exception": false,
     "start_time": "2022-09-05T10:11:33.041476",
     "status": "completed"
    },
    "tags": []
   },
   "outputs": [],
   "source": [
    "lr_learner = Learner(loss, model_lr, opt, config.num_epochs)\n",
    "acc_lr = ClfCallback(lr_learner, config.bs, training_data_x , testing_data_x, training_data_y, testing_data_y)\n",
    "lr_learner.set_callbacks([acc_lr])"
   ]
  },
  {
   "cell_type": "code",
   "execution_count": 22,
   "id": "d9b133c3",
   "metadata": {
    "execution": {
     "iopub.execute_input": "2022-09-05T10:11:33.162408Z",
     "iopub.status.busy": "2022-09-05T10:11:33.161710Z",
     "iopub.status.idle": "2022-09-05T10:13:03.435852Z",
     "shell.execute_reply": "2022-09-05T10:13:03.435299Z"
    },
    "papermill": {
     "duration": 90.310001,
     "end_time": "2022-09-05T10:13:03.435994",
     "exception": false,
     "start_time": "2022-09-05T10:11:33.125993",
     "status": "completed"
    },
    "tags": []
   },
   "outputs": [
    {
     "name": "stdout",
     "output_type": "stream",
     "text": [
      "Epoch 0, Loss 0.243\n",
      "Training Accuracy: 0.6989, Testing Accuracy: 0.7218\n",
      "\n"
     ]
    },
    {
     "name": "stdout",
     "output_type": "stream",
     "text": [
      "Epoch 10, Loss 0.0888\n",
      "Training Accuracy: 0.9142, Testing Accuracy: 0.9289\n",
      "\n"
     ]
    },
    {
     "name": "stdout",
     "output_type": "stream",
     "text": [
      "Epoch 20, Loss 0.0548\n",
      "Training Accuracy: 0.9428, Testing Accuracy: 0.9506\n",
      "\n"
     ]
    },
    {
     "name": "stdout",
     "output_type": "stream",
     "text": [
      "Epoch 30, Loss 0.043\n",
      "Training Accuracy: 0.9534, Testing Accuracy: 0.9602\n",
      "\n"
     ]
    },
    {
     "name": "stdout",
     "output_type": "stream",
     "text": [
      "Epoch 40, Loss 0.0371\n",
      "Training Accuracy: 0.9584, Testing Accuracy: 0.9642\n",
      "\n"
     ]
    },
    {
     "name": "stdout",
     "output_type": "stream",
     "text": [
      "Epoch 50, Loss 0.0335\n",
      "Training Accuracy: 0.9624, Testing Accuracy: 0.9677\n",
      "\n"
     ]
    },
    {
     "name": "stdout",
     "output_type": "stream",
     "text": [
      "Epoch 60, Loss 0.0311\n",
      "Training Accuracy: 0.9653, Testing Accuracy: 0.9698\n",
      "\n"
     ]
    },
    {
     "name": "stdout",
     "output_type": "stream",
     "text": [
      "Epoch 70, Loss 0.0293\n",
      "Training Accuracy: 0.9665, Testing Accuracy: 0.9708\n",
      "\n"
     ]
    },
    {
     "name": "stdout",
     "output_type": "stream",
     "text": [
      "Epoch 80, Loss 0.0279\n",
      "Training Accuracy: 0.9675, Testing Accuracy: 0.9698\n",
      "\n"
     ]
    },
    {
     "name": "stdout",
     "output_type": "stream",
     "text": [
      "Epoch 90, Loss 0.0267\n",
      "Training Accuracy: 0.9689, Testing Accuracy: 0.9723\n",
      "\n"
     ]
    },
    {
     "name": "stdout",
     "output_type": "stream",
     "text": [
      "Epoch 100, Loss 0.0258\n",
      "Training Accuracy: 0.9697, Testing Accuracy: 0.9728\n",
      "\n"
     ]
    },
    {
     "name": "stdout",
     "output_type": "stream",
     "text": [
      "Epoch 110, Loss 0.0249\n",
      "Training Accuracy: 0.9708, Testing Accuracy: 0.9728\n",
      "\n"
     ]
    },
    {
     "name": "stdout",
     "output_type": "stream",
     "text": [
      "Epoch 120, Loss 0.0242\n",
      "Training Accuracy: 0.9717, Testing Accuracy: 0.9718\n",
      "\n"
     ]
    },
    {
     "name": "stdout",
     "output_type": "stream",
     "text": [
      "Epoch 130, Loss 0.0235\n",
      "Training Accuracy: 0.9727, Testing Accuracy: 0.9718\n",
      "\n"
     ]
    },
    {
     "name": "stdout",
     "output_type": "stream",
     "text": [
      "Epoch 140, Loss 0.0229\n",
      "Training Accuracy: 0.9735, Testing Accuracy: 0.9718\n",
      "\n"
     ]
    },
    {
     "name": "stdout",
     "output_type": "stream",
     "text": [
      "Epoch 150, Loss 0.0224\n",
      "Training Accuracy: 0.9745, Testing Accuracy: 0.9713\n",
      "\n"
     ]
    },
    {
     "name": "stdout",
     "output_type": "stream",
     "text": [
      "Epoch 160, Loss 0.0219\n",
      "Training Accuracy: 0.9747, Testing Accuracy: 0.9708\n",
      "\n"
     ]
    },
    {
     "name": "stdout",
     "output_type": "stream",
     "text": [
      "Epoch 170, Loss 0.0214\n",
      "Training Accuracy: 0.9754, Testing Accuracy: 0.9713\n",
      "\n"
     ]
    },
    {
     "name": "stdout",
     "output_type": "stream",
     "text": [
      "Epoch 180, Loss 0.0209\n",
      "Training Accuracy: 0.9763, Testing Accuracy: 0.9713\n",
      "\n"
     ]
    },
    {
     "name": "stdout",
     "output_type": "stream",
     "text": [
      "Epoch 190, Loss 0.0205\n",
      "Training Accuracy: 0.9771, Testing Accuracy: 0.9728\n",
      "\n"
     ]
    },
    {
     "name": "stdout",
     "output_type": "stream",
     "text": [
      "Epoch 200, Loss 0.0201\n",
      "Training Accuracy: 0.9779, Testing Accuracy: 0.9728\n",
      "\n"
     ]
    },
    {
     "name": "stdout",
     "output_type": "stream",
     "text": [
      "Epoch 210, Loss 0.0197\n",
      "Training Accuracy: 0.9781, Testing Accuracy: 0.9728\n",
      "\n"
     ]
    },
    {
     "name": "stdout",
     "output_type": "stream",
     "text": [
      "Epoch 220, Loss 0.0193\n",
      "Training Accuracy: 0.9782, Testing Accuracy: 0.9723\n",
      "\n"
     ]
    },
    {
     "name": "stdout",
     "output_type": "stream",
     "text": [
      "Epoch 230, Loss 0.019\n",
      "Training Accuracy: 0.9788, Testing Accuracy: 0.9723\n",
      "\n"
     ]
    },
    {
     "name": "stdout",
     "output_type": "stream",
     "text": [
      "Epoch 240, Loss 0.0186\n",
      "Training Accuracy: 0.9793, Testing Accuracy: 0.9723\n",
      "\n"
     ]
    },
    {
     "data": {
      "text/plain": [
       "0.019749525182478772"
      ]
     },
     "execution_count": 22,
     "metadata": {},
     "output_type": "execute_result"
    }
   ],
   "source": [
    "nn_learner.train_loop(dl)"
   ]
  },
  {
   "cell_type": "code",
   "execution_count": 23,
   "id": "e0163366",
   "metadata": {
    "execution": {
     "iopub.execute_input": "2022-09-05T10:13:03.520301Z",
     "iopub.status.busy": "2022-09-05T10:13:03.519571Z",
     "iopub.status.idle": "2022-09-05T10:13:19.623413Z",
     "shell.execute_reply": "2022-09-05T10:13:19.624372Z"
    },
    "papermill": {
     "duration": 16.14926,
     "end_time": "2022-09-05T10:13:19.624529",
     "exception": false,
     "start_time": "2022-09-05T10:13:03.475269",
     "status": "completed"
    },
    "tags": []
   },
   "outputs": [
    {
     "name": "stdout",
     "output_type": "stream",
     "text": [
      "Epoch 0, Loss 0.2625\n",
      "Training Accuracy: 0.5897, Testing Accuracy: 0.5811\n",
      "\n"
     ]
    },
    {
     "name": "stdout",
     "output_type": "stream",
     "text": [
      "Epoch 10, Loss 0.1058\n",
      "Training Accuracy: 0.9062, Testing Accuracy: 0.9118\n",
      "\n"
     ]
    },
    {
     "name": "stdout",
     "output_type": "stream",
     "text": [
      "Epoch 20, Loss 0.0802\n",
      "Training Accuracy: 0.9277, Testing Accuracy: 0.9370\n",
      "\n"
     ]
    },
    {
     "name": "stdout",
     "output_type": "stream",
     "text": [
      "Epoch 30, Loss 0.0688\n",
      "Training Accuracy: 0.9384, Testing Accuracy: 0.9466\n",
      "\n"
     ]
    },
    {
     "name": "stdout",
     "output_type": "stream",
     "text": [
      "Epoch 40, Loss 0.062\n",
      "Training Accuracy: 0.9428, Testing Accuracy: 0.9516\n",
      "\n"
     ]
    },
    {
     "name": "stdout",
     "output_type": "stream",
     "text": [
      "Epoch 50, Loss 0.0574\n",
      "Training Accuracy: 0.9459, Testing Accuracy: 0.9546\n",
      "\n"
     ]
    },
    {
     "name": "stdout",
     "output_type": "stream",
     "text": [
      "Epoch 60, Loss 0.054\n",
      "Training Accuracy: 0.9480, Testing Accuracy: 0.9577\n",
      "\n"
     ]
    },
    {
     "name": "stdout",
     "output_type": "stream",
     "text": [
      "Epoch 70, Loss 0.0514\n",
      "Training Accuracy: 0.9503, Testing Accuracy: 0.9597\n",
      "\n"
     ]
    },
    {
     "name": "stdout",
     "output_type": "stream",
     "text": [
      "Epoch 80, Loss 0.0494\n",
      "Training Accuracy: 0.9518, Testing Accuracy: 0.9612\n",
      "\n"
     ]
    },
    {
     "name": "stdout",
     "output_type": "stream",
     "text": [
      "Epoch 90, Loss 0.0477\n",
      "Training Accuracy: 0.9533, Testing Accuracy: 0.9622\n",
      "\n"
     ]
    },
    {
     "name": "stdout",
     "output_type": "stream",
     "text": [
      "Epoch 100, Loss 0.0462\n",
      "Training Accuracy: 0.9543, Testing Accuracy: 0.9632\n",
      "\n"
     ]
    },
    {
     "name": "stdout",
     "output_type": "stream",
     "text": [
      "Epoch 110, Loss 0.045\n",
      "Training Accuracy: 0.9555, Testing Accuracy: 0.9637\n",
      "\n"
     ]
    },
    {
     "name": "stdout",
     "output_type": "stream",
     "text": [
      "Epoch 120, Loss 0.0439\n",
      "Training Accuracy: 0.9563, Testing Accuracy: 0.9652\n",
      "\n"
     ]
    },
    {
     "name": "stdout",
     "output_type": "stream",
     "text": [
      "Epoch 130, Loss 0.043\n",
      "Training Accuracy: 0.9569, Testing Accuracy: 0.9657\n",
      "\n"
     ]
    },
    {
     "name": "stdout",
     "output_type": "stream",
     "text": [
      "Epoch 140, Loss 0.0422\n",
      "Training Accuracy: 0.9573, Testing Accuracy: 0.9652\n",
      "\n"
     ]
    },
    {
     "name": "stdout",
     "output_type": "stream",
     "text": [
      "Epoch 150, Loss 0.0414\n",
      "Training Accuracy: 0.9572, Testing Accuracy: 0.9657\n",
      "\n"
     ]
    },
    {
     "name": "stdout",
     "output_type": "stream",
     "text": [
      "Epoch 160, Loss 0.0408\n",
      "Training Accuracy: 0.9574, Testing Accuracy: 0.9667\n",
      "\n"
     ]
    },
    {
     "name": "stdout",
     "output_type": "stream",
     "text": [
      "Epoch 170, Loss 0.0402\n",
      "Training Accuracy: 0.9579, Testing Accuracy: 0.9672\n",
      "\n"
     ]
    },
    {
     "name": "stdout",
     "output_type": "stream",
     "text": [
      "Epoch 180, Loss 0.0396\n",
      "Training Accuracy: 0.9584, Testing Accuracy: 0.9672\n",
      "\n"
     ]
    },
    {
     "name": "stdout",
     "output_type": "stream",
     "text": [
      "Epoch 190, Loss 0.0391\n",
      "Training Accuracy: 0.9586, Testing Accuracy: 0.9667\n",
      "\n"
     ]
    },
    {
     "name": "stdout",
     "output_type": "stream",
     "text": [
      "Epoch 200, Loss 0.0386\n",
      "Training Accuracy: 0.9591, Testing Accuracy: 0.9667\n",
      "\n"
     ]
    },
    {
     "name": "stdout",
     "output_type": "stream",
     "text": [
      "Epoch 210, Loss 0.0382\n",
      "Training Accuracy: 0.9596, Testing Accuracy: 0.9667\n",
      "\n"
     ]
    },
    {
     "name": "stdout",
     "output_type": "stream",
     "text": [
      "Epoch 220, Loss 0.0378\n",
      "Training Accuracy: 0.9599, Testing Accuracy: 0.9667\n",
      "\n"
     ]
    },
    {
     "name": "stdout",
     "output_type": "stream",
     "text": [
      "Epoch 230, Loss 0.0374\n",
      "Training Accuracy: 0.9604, Testing Accuracy: 0.9672\n",
      "\n"
     ]
    },
    {
     "name": "stdout",
     "output_type": "stream",
     "text": [
      "Epoch 240, Loss 0.037\n",
      "Training Accuracy: 0.9605, Testing Accuracy: 0.9662\n",
      "\n"
     ]
    },
    {
     "data": {
      "text/plain": [
       "0.04203934558253909"
      ]
     },
     "execution_count": 23,
     "metadata": {},
     "output_type": "execute_result"
    }
   ],
   "source": [
    "lr_learner.train_loop(dl)"
   ]
  },
  {
   "cell_type": "code",
   "execution_count": 24,
   "id": "ca410940",
   "metadata": {
    "execution": {
     "iopub.execute_input": "2022-09-05T10:13:19.725157Z",
     "iopub.status.busy": "2022-09-05T10:13:19.724415Z",
     "iopub.status.idle": "2022-09-05T10:13:20.004635Z",
     "shell.execute_reply": "2022-09-05T10:13:20.004049Z"
    },
    "papermill": {
     "duration": 0.332823,
     "end_time": "2022-09-05T10:13:20.004808",
     "exception": false,
     "start_time": "2022-09-05T10:13:19.671985",
     "status": "completed"
    },
    "tags": []
   },
   "outputs": [
    {
     "data": {
      "text/plain": [
       "<matplotlib.legend.Legend at 0x7f561d691320>"
      ]
     },
     "execution_count": 24,
     "metadata": {},
     "output_type": "execute_result"
    },
    {
     "data": {
      "image/png": "[encoded data removed]",
      "text/plain": [
       "<Figure size 1080x720 with 1 Axes>"
      ]
     },
     "metadata": {
      "needs_background": "light"
     },
     "output_type": "display_data"
    }
   ],
   "source": [
    "#comparing the results of NN and LR\n",
    "plt.figure(figsize=(15,10))\n",
    "\n",
    "# Neural Network plots\n",
    "plt.plot(acc_nn.accuracies, 'r-', label = \"Training Accuracies - NN\")\n",
    "plt.plot(acc_nn.test_accuracies, 'g-', label = \"Testing Accuracies - NN\")\n",
    "\n",
    "# Logistic Regression plots\n",
    "plt.plot(acc_lr.accuracies, 'k-', label = \"Training Accuracies - LR\")\n",
    "plt.plot(acc_lr.test_accuracies, 'b-', label = \"Testing Accuracies - LR\")\n",
    "plt.legend()"
   ]
  },
  {
   "cell_type": "markdown",
   "id": "80dfb35c",
   "metadata": {
    "papermill": {
     "duration": 0.046554,
     "end_time": "2022-09-05T10:13:20.098935",
     "exception": false,
     "start_time": "2022-09-05T10:13:20.052381",
     "status": "completed"
    },
    "tags": []
   },
   "source": [
    "#### Plotting the outputs of this layer of the NN.\n"
   ]
  },
  {
   "cell_type": "code",
   "execution_count": 25,
   "id": "45eb2ff5",
   "metadata": {
    "execution": {
     "iopub.execute_input": "2022-09-05T10:13:20.198115Z",
     "iopub.status.busy": "2022-09-05T10:13:20.197444Z",
     "iopub.status.idle": "2022-09-05T10:13:20.223731Z",
     "shell.execute_reply": "2022-09-05T10:13:20.224611Z"
    },
    "papermill": {
     "duration": 0.078742,
     "end_time": "2022-09-05T10:13:20.224838",
     "exception": false,
     "start_time": "2022-09-05T10:13:20.146096",
     "status": "completed"
    },
    "tags": []
   },
   "outputs": [],
   "source": [
    "new_model = Model(layers[:-2])\n",
    "testing_plot = new_model(testing_data_x)"
   ]
  },
  {
   "cell_type": "code",
   "execution_count": 26,
   "id": "4c0a5485",
   "metadata": {
    "execution": {
     "iopub.execute_input": "2022-09-05T10:13:20.330727Z",
     "iopub.status.busy": "2022-09-05T10:13:20.330035Z",
     "iopub.status.idle": "2022-09-05T10:13:20.579816Z",
     "shell.execute_reply": "2022-09-05T10:13:20.580302Z"
    },
    "papermill": {
     "duration": 0.307317,
     "end_time": "2022-09-05T10:13:20.580447",
     "exception": false,
     "start_time": "2022-09-05T10:13:20.273130",
     "status": "completed"
    },
    "tags": []
   },
   "outputs": [
    {
     "data": {
      "text/plain": [
       "Text(0.5, 1.0, 'Outputs')"
      ]
     },
     "execution_count": 26,
     "metadata": {},
     "output_type": "execute_result"
    },
    {
     "data": {
      "image/png": "[encoded data removed]",
      "text/plain": [
       "<Figure size 576x504 with 1 Axes>"
      ]
     },
     "metadata": {
      "needs_background": "light"
     },
     "output_type": "display_data"
    }
   ],
   "source": [
    "# Plotting the scatter plot of points and color coding by class\n",
    "plt.figure(figsize=(8,7))\n",
    "plt.scatter(testing_plot[:,0], testing_plot[:,1], alpha = 0.1, c = y_test.ravel());\n",
    "plt.title('Outputs')"
   ]
  },
  {
   "cell_type": "markdown",
   "id": "a74fcf8f",
   "metadata": {
    "papermill": {
     "duration": 0.051519,
     "end_time": "2022-09-05T10:13:20.684074",
     "exception": false,
     "start_time": "2022-09-05T10:13:20.632555",
     "status": "completed"
    },
    "tags": []
   },
   "source": [
    "Probability contours"
   ]
  },
  {
   "cell_type": "code",
   "execution_count": 27,
   "id": "d0afc8e3",
   "metadata": {
    "execution": {
     "iopub.execute_input": "2022-09-05T10:13:20.793562Z",
     "iopub.status.busy": "2022-09-05T10:13:20.792921Z",
     "iopub.status.idle": "2022-09-05T10:13:20.810233Z",
     "shell.execute_reply": "2022-09-05T10:13:20.809660Z"
    },
    "papermill": {
     "duration": 0.073573,
     "end_time": "2022-09-05T10:13:20.810359",
     "exception": false,
     "start_time": "2022-09-05T10:13:20.736786",
     "status": "completed"
    },
    "tags": []
   },
   "outputs": [],
   "source": [
    "model_prob = Model(layers[-2:]) "
   ]
  },
  {
   "cell_type": "code",
   "execution_count": 28,
   "id": "9b96e238",
   "metadata": {
    "execution": {
     "iopub.execute_input": "2022-09-05T10:13:20.952327Z",
     "iopub.status.busy": "2022-09-05T10:13:20.951475Z",
     "iopub.status.idle": "2022-09-05T10:13:20.972023Z",
     "shell.execute_reply": "2022-09-05T10:13:20.972522Z"
    },
    "papermill": {
     "duration": 0.110754,
     "end_time": "2022-09-05T10:13:20.972677",
     "exception": false,
     "start_time": "2022-09-05T10:13:20.861923",
     "status": "completed"
    },
    "tags": []
   },
   "outputs": [],
   "source": [
    "#creating the x and y ranges according to the above generated plot.\n",
    "x_range = np.linspace(-4, 1, 100) \n",
    "y_range = np.linspace(-6, 6, 100) \n",
    "x_grid, y_grid = np.meshgrid(x_range, y_range) # x_grid and y_grig are of size 100 X 100\n",
    "\n",
    "# converting x_grid and y_grid to continuous arrays\n",
    "x_gridflat = np.ravel(x_grid)\n",
    "y_gridflat = np.ravel(y_grid)\n",
    "\n",
    "# The last layer of the current model takes two columns as input. Hence transpose of np.vstack() is required.\n",
    "X = np.vstack((x_gridflat, y_gridflat)).T\n",
    "\n",
    "prob_contour = model_prob(X).reshape(100,100) "
   ]
  },
  {
   "cell_type": "code",
   "execution_count": 29,
   "id": "da72499a",
   "metadata": {
    "execution": {
     "iopub.execute_input": "2022-09-05T10:13:21.093707Z",
     "iopub.status.busy": "2022-09-05T10:13:21.092990Z",
     "iopub.status.idle": "2022-09-05T10:13:21.400327Z",
     "shell.execute_reply": "2022-09-05T10:13:21.399611Z"
    },
    "papermill": {
     "duration": 0.374855,
     "end_time": "2022-09-05T10:13:21.400501",
     "exception": false,
     "start_time": "2022-09-05T10:13:21.025646",
     "status": "completed"
    },
    "tags": []
   },
   "outputs": [
    {
     "data": {
      "image/png": "[encoded data removed]",
      "text/plain": [
       "<Figure size 720x648 with 1 Axes>"
      ]
     },
     "metadata": {
      "needs_background": "light"
     },
     "output_type": "display_data"
    }
   ],
   "source": [
    "plt.figure(figsize=(10,9))\n",
    "plt.scatter(testing_plot[:,0], testing_plot[:,1], alpha = 0.1, c = y_test.ravel())\n",
    "contours = plt.contour(x_grid,y_grid,prob_contour)\n",
    "plt.title('Probability Contours')\n",
    "plt.clabel(contours, inline = True );"
   ]
  },
  {
   "cell_type": "code",
   "execution_count": null,
   "id": "e81b4ac7",
   "metadata": {
    "papermill": {
     "duration": 0.055184,
     "end_time": "2022-09-05T10:13:21.513240",
     "exception": false,
     "start_time": "2022-09-05T10:13:21.458056",
     "status": "completed"
    },
    "tags": []
   },
   "outputs": [],
   "source": []
  }
 ],
 "metadata": {
  "kernelspec": {
   "display_name": "Python 3",
   "language": "python",
   "name": "python3"
  },
  "language_info": {
   "codemirror_mode": {
    "name": "ipython",
    "version": 3
   },
   "file_extension": ".py",
   "mimetype": "text/x-python",
   "name": "python",
   "nbconvert_exporter": "python",
   "pygments_lexer": "ipython3",
   "version": "3.6.15"
  },
  "papermill": {
   "default_parameters": {},
   "duration": 116.146914,
   "end_time": "2022-09-05T10:13:21.991018",
   "environment_variables": {},
   "exception": null,
   "input_path": "2020-08-11-part2.ipynb",
   "output_path": "2020-08-11-part2.ipynb",
   "parameters": {},
   "start_time": "2022-09-05T10:11:25.844104",
   "version": "2.3.3"
  }
 },
 "nbformat": 4,
 "nbformat_minor": 5
}