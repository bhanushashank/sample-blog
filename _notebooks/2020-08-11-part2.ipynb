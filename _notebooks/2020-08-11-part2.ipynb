{
 "cells": [
  {
   "cell_type": "markdown",
   "id": "98380cd3",
   "metadata": {
    "papermill": {
     "duration": 0.033188,
     "end_time": "2022-01-13T10:08:54.459888",
     "exception": false,
     "start_time": "2022-01-13T10:08:54.426700",
     "status": "completed"
    },
    "tags": []
   },
   "source": [
    "# Distinguish Your Own Digits (DYOD)"
   ]
  },
  {
   "cell_type": "markdown",
   "id": "ef31240d",
   "metadata": {
    "papermill": {
     "duration": 0.027547,
     "end_time": "2022-01-13T10:08:54.515858",
     "exception": false,
     "start_time": "2022-01-13T10:08:54.488311",
     "status": "completed"
    },
    "tags": []
   },
   "source": [
    "You are going to write a classifier that distinguishes between the number 3 and number 8."
   ]
  },
  {
   "cell_type": "code",
   "execution_count": 1,
   "id": "b15c8646",
   "metadata": {
    "execution": {
     "iopub.execute_input": "2022-01-13T10:08:54.584151Z",
     "iopub.status.busy": "2022-01-13T10:08:54.583535Z",
     "iopub.status.idle": "2022-01-13T10:08:54.594420Z",
     "shell.execute_reply": "2022-01-13T10:08:54.594905Z"
    },
    "papermill": {
     "duration": 0.051634,
     "end_time": "2022-01-13T10:08:54.595075",
     "exception": false,
     "start_time": "2022-01-13T10:08:54.543441",
     "status": "completed"
    },
    "tags": []
   },
   "outputs": [],
   "source": [
    "%load_ext autoreload\n",
    "%autoreload 2"
   ]
  },
  {
   "cell_type": "code",
   "execution_count": 2,
   "id": "22ef38dc",
   "metadata": {
    "execution": {
     "iopub.execute_input": "2022-01-13T10:08:54.656715Z",
     "iopub.status.busy": "2022-01-13T10:08:54.656119Z",
     "iopub.status.idle": "2022-01-13T10:08:55.367761Z",
     "shell.execute_reply": "2022-01-13T10:08:55.366194Z"
    },
    "papermill": {
     "duration": 0.744527,
     "end_time": "2022-01-13T10:08:55.368201",
     "exception": false,
     "start_time": "2022-01-13T10:08:54.623674",
     "status": "completed"
    },
    "tags": []
   },
   "outputs": [],
   "source": [
    "%matplotlib inline\n",
    "import numpy as np\n",
    "import matplotlib.pyplot as plt\n",
    "import pandas as pd"
   ]
  },
  {
   "cell_type": "markdown",
   "id": "ba036198",
   "metadata": {
    "papermill": {
     "duration": 0.028151,
     "end_time": "2022-01-13T10:08:55.425829",
     "exception": false,
     "start_time": "2022-01-13T10:08:55.397678",
     "status": "completed"
    },
    "tags": []
   },
   "source": [
    "From the command line run `pip install mnist`. This is a library that will help you bring down the mnist dataset. If you run this from a notebook, you need to put  `!pip install mnist` in a cell by itself."
   ]
  },
  {
   "cell_type": "code",
   "execution_count": 3,
   "id": "bb6ad8a1",
   "metadata": {
    "execution": {
     "iopub.execute_input": "2022-01-13T10:08:55.484841Z",
     "iopub.status.busy": "2022-01-13T10:08:55.484244Z",
     "iopub.status.idle": "2022-01-13T10:08:58.232751Z",
     "shell.execute_reply": "2022-01-13T10:08:58.231863Z"
    },
    "papermill": {
     "duration": 2.780239,
     "end_time": "2022-01-13T10:08:58.232970",
     "exception": false,
     "start_time": "2022-01-13T10:08:55.452731",
     "status": "completed"
    },
    "tags": []
   },
   "outputs": [
    {
     "name": "stdout",
     "output_type": "stream",
     "text": [
      "Collecting mnist\r\n"
     ]
    },
    {
     "name": "stdout",
     "output_type": "stream",
     "text": [
      "  Downloading mnist-0.2.2-py2.py3-none-any.whl (3.5 kB)\r\n",
      "Requirement already satisfied: numpy in /opt/hostedtoolcache/Python/3.6.15/x64/lib/python3.6/site-packages (from mnist) (1.19.5)\r\n"
     ]
    },
    {
     "name": "stdout",
     "output_type": "stream",
     "text": [
      "Installing collected packages: mnist\r\n",
      "Successfully installed mnist-0.2.2\r\n"
     ]
    }
   ],
   "source": [
    "!pip install mnist"
   ]
  },
  {
   "cell_type": "markdown",
   "id": "69df9c9a",
   "metadata": {
    "papermill": {
     "duration": 0.028693,
     "end_time": "2022-01-13T10:08:58.294411",
     "exception": false,
     "start_time": "2022-01-13T10:08:58.265718",
     "status": "completed"
    },
    "tags": []
   },
   "source": [
    "## Preparing the Data"
   ]
  },
  {
   "cell_type": "code",
   "execution_count": 4,
   "id": "7f69d806",
   "metadata": {
    "execution": {
     "iopub.execute_input": "2022-01-13T10:08:58.356825Z",
     "iopub.status.busy": "2022-01-13T10:08:58.356228Z",
     "iopub.status.idle": "2022-01-13T10:08:58.373611Z",
     "shell.execute_reply": "2022-01-13T10:08:58.372921Z"
    },
    "papermill": {
     "duration": 0.05098,
     "end_time": "2022-01-13T10:08:58.373756",
     "exception": false,
     "start_time": "2022-01-13T10:08:58.322776",
     "status": "completed"
    },
    "tags": []
   },
   "outputs": [],
   "source": [
    "import mnist"
   ]
  },
  {
   "cell_type": "code",
   "execution_count": 5,
   "id": "a411e44f",
   "metadata": {
    "execution": {
     "iopub.execute_input": "2022-01-13T10:08:58.438244Z",
     "iopub.status.busy": "2022-01-13T10:08:58.437641Z",
     "iopub.status.idle": "2022-01-13T10:08:59.023978Z",
     "shell.execute_reply": "2022-01-13T10:08:59.023399Z"
    },
    "papermill": {
     "duration": 0.618887,
     "end_time": "2022-01-13T10:08:59.024119",
     "exception": false,
     "start_time": "2022-01-13T10:08:58.405232",
     "status": "completed"
    },
    "tags": []
   },
   "outputs": [],
   "source": [
    "train_images = mnist.train_images()\n",
    "train_labels = mnist.train_labels()"
   ]
  },
  {
   "cell_type": "code",
   "execution_count": 6,
   "id": "dceab3a5",
   "metadata": {
    "execution": {
     "iopub.execute_input": "2022-01-13T10:08:59.087023Z",
     "iopub.status.busy": "2022-01-13T10:08:59.086405Z",
     "iopub.status.idle": "2022-01-13T10:08:59.101745Z",
     "shell.execute_reply": "2022-01-13T10:08:59.102258Z"
    },
    "papermill": {
     "duration": 0.049992,
     "end_time": "2022-01-13T10:08:59.102452",
     "exception": false,
     "start_time": "2022-01-13T10:08:59.052460",
     "status": "completed"
    },
    "tags": []
   },
   "outputs": [
    {
     "data": {
      "text/plain": [
       "((60000, 28, 28), (60000,))"
      ]
     },
     "execution_count": 6,
     "metadata": {},
     "output_type": "execute_result"
    }
   ],
   "source": [
    "train_images.shape, train_labels.shape"
   ]
  },
  {
   "cell_type": "code",
   "execution_count": 7,
   "id": "f50dc2bb",
   "metadata": {
    "execution": {
     "iopub.execute_input": "2022-01-13T10:08:59.165573Z",
     "iopub.status.busy": "2022-01-13T10:08:59.164948Z",
     "iopub.status.idle": "2022-01-13T10:08:59.347728Z",
     "shell.execute_reply": "2022-01-13T10:08:59.347082Z"
    },
    "papermill": {
     "duration": 0.217022,
     "end_time": "2022-01-13T10:08:59.347867",
     "exception": false,
     "start_time": "2022-01-13T10:08:59.130845",
     "status": "completed"
    },
    "tags": []
   },
   "outputs": [],
   "source": [
    "test_images = mnist.test_images()\n",
    "test_labels = mnist.test_labels()"
   ]
  },
  {
   "cell_type": "code",
   "execution_count": 8,
   "id": "fc38cf1b",
   "metadata": {
    "execution": {
     "iopub.execute_input": "2022-01-13T10:08:59.418182Z",
     "iopub.status.busy": "2022-01-13T10:08:59.411239Z",
     "iopub.status.idle": "2022-01-13T10:08:59.428672Z",
     "shell.execute_reply": "2022-01-13T10:08:59.429231Z"
    },
    "papermill": {
     "duration": 0.052328,
     "end_time": "2022-01-13T10:08:59.429395",
     "exception": false,
     "start_time": "2022-01-13T10:08:59.377067",
     "status": "completed"
    },
    "tags": []
   },
   "outputs": [
    {
     "data": {
      "text/plain": [
       "((10000, 28, 28), (10000,))"
      ]
     },
     "execution_count": 8,
     "metadata": {},
     "output_type": "execute_result"
    }
   ],
   "source": [
    "test_images.shape, test_labels.shape"
   ]
  },
  {
   "cell_type": "code",
   "execution_count": 9,
   "id": "f9ed8fe0",
   "metadata": {
    "execution": {
     "iopub.execute_input": "2022-01-13T10:08:59.496430Z",
     "iopub.status.busy": "2022-01-13T10:08:59.495826Z",
     "iopub.status.idle": "2022-01-13T10:08:59.670593Z",
     "shell.execute_reply": "2022-01-13T10:08:59.669922Z"
    },
    "papermill": {
     "duration": 0.21227,
     "end_time": "2022-01-13T10:08:59.670731",
     "exception": false,
     "start_time": "2022-01-13T10:08:59.458461",
     "status": "completed"
    },
    "tags": []
   },
   "outputs": [
    {
     "name": "stdout",
     "output_type": "stream",
     "text": [
      "2\n"
     ]
    },
    {
     "data": {
      "text/plain": [
       "<matplotlib.image.AxesImage at 0x7f0d1442d358>"
      ]
     },
     "execution_count": 9,
     "metadata": {},
     "output_type": "execute_result"
    },
    {
     "data": {
      "image/png": "[encoded data removed]",
      "text/plain": [
       "<Figure size 432x288 with 1 Axes>"
      ]
     },
     "metadata": {
      "needs_background": "light"
     },
     "output_type": "display_data"
    }
   ],
   "source": [
    "image_index = 7776 # You may select anything up to 60,000\n",
    "print(train_labels[image_index]) \n",
    "plt.imshow(train_images[image_index], cmap='Greys')"
   ]
  },
  {
   "cell_type": "markdown",
   "id": "a8d2388d",
   "metadata": {
    "papermill": {
     "duration": 0.030465,
     "end_time": "2022-01-13T10:08:59.731427",
     "exception": false,
     "start_time": "2022-01-13T10:08:59.700962",
     "status": "completed"
    },
    "tags": []
   },
   "source": [
    "## Filter data to get 3 and 8 out"
   ]
  },
  {
   "cell_type": "code",
   "execution_count": 10,
   "id": "776f7fc7",
   "metadata": {
    "execution": {
     "iopub.execute_input": "2022-01-13T10:08:59.800890Z",
     "iopub.status.busy": "2022-01-13T10:08:59.800277Z",
     "iopub.status.idle": "2022-01-13T10:08:59.822248Z",
     "shell.execute_reply": "2022-01-13T10:08:59.821690Z"
    },
    "papermill": {
     "duration": 0.061137,
     "end_time": "2022-01-13T10:08:59.822379",
     "exception": false,
     "start_time": "2022-01-13T10:08:59.761242",
     "status": "completed"
    },
    "tags": []
   },
   "outputs": [],
   "source": [
    "train_filter = np.where((train_labels == 3 ) | (train_labels == 8))\n",
    "test_filter = np.where((test_labels == 3) | (test_labels == 8))\n",
    "X_train, y_train = train_images[train_filter], train_labels[train_filter]\n",
    "X_test, y_test = test_images[test_filter], test_labels[test_filter]"
   ]
  },
  {
   "cell_type": "markdown",
   "id": "948f0b7e",
   "metadata": {
    "papermill": {
     "duration": 0.031975,
     "end_time": "2022-01-13T10:08:59.886029",
     "exception": false,
     "start_time": "2022-01-13T10:08:59.854054",
     "status": "completed"
    },
    "tags": []
   },
   "source": [
    "We normalize the pizel values in the 0 to 1 range"
   ]
  },
  {
   "cell_type": "code",
   "execution_count": 11,
   "id": "ee4c2166",
   "metadata": {
    "execution": {
     "iopub.execute_input": "2022-01-13T10:08:59.952303Z",
     "iopub.status.busy": "2022-01-13T10:08:59.951686Z",
     "iopub.status.idle": "2022-01-13T10:09:00.007112Z",
     "shell.execute_reply": "2022-01-13T10:09:00.007612Z"
    },
    "papermill": {
     "duration": 0.091281,
     "end_time": "2022-01-13T10:09:00.007785",
     "exception": false,
     "start_time": "2022-01-13T10:08:59.916504",
     "status": "completed"
    },
    "tags": []
   },
   "outputs": [],
   "source": [
    "X_train = X_train/255.\n",
    "X_test = X_test/255."
   ]
  },
  {
   "cell_type": "markdown",
   "id": "ddcf4fab",
   "metadata": {
    "papermill": {
     "duration": 0.030605,
     "end_time": "2022-01-13T10:09:00.070418",
     "exception": false,
     "start_time": "2022-01-13T10:09:00.039813",
     "status": "completed"
    },
    "tags": []
   },
   "source": [
    "And setup the labels as 1 (when the digit is 3) and 0 (when the digit is 8)"
   ]
  },
  {
   "cell_type": "code",
   "execution_count": 12,
   "id": "7dc908f2",
   "metadata": {
    "execution": {
     "iopub.execute_input": "2022-01-13T10:09:00.137026Z",
     "iopub.status.busy": "2022-01-13T10:09:00.136248Z",
     "iopub.status.idle": "2022-01-13T10:09:00.150830Z",
     "shell.execute_reply": "2022-01-13T10:09:00.150233Z"
    },
    "papermill": {
     "duration": 0.050451,
     "end_time": "2022-01-13T10:09:00.150955",
     "exception": false,
     "start_time": "2022-01-13T10:09:00.100504",
     "status": "completed"
    },
    "tags": []
   },
   "outputs": [],
   "source": [
    "y_train = 1*(y_train==3)\n",
    "y_test = 1*(y_test==3)"
   ]
  },
  {
   "cell_type": "code",
   "execution_count": 13,
   "id": "01e4e969",
   "metadata": {
    "execution": {
     "iopub.execute_input": "2022-01-13T10:09:00.219828Z",
     "iopub.status.busy": "2022-01-13T10:09:00.219196Z",
     "iopub.status.idle": "2022-01-13T10:09:00.235148Z",
     "shell.execute_reply": "2022-01-13T10:09:00.235622Z"
    },
    "papermill": {
     "duration": 0.053242,
     "end_time": "2022-01-13T10:09:00.235777",
     "exception": false,
     "start_time": "2022-01-13T10:09:00.182535",
     "status": "completed"
    },
    "tags": []
   },
   "outputs": [
    {
     "data": {
      "text/plain": [
       "((11982, 28, 28), (1984, 28, 28))"
      ]
     },
     "execution_count": 13,
     "metadata": {},
     "output_type": "execute_result"
    }
   ],
   "source": [
    "X_train.shape, X_test.shape"
   ]
  },
  {
   "cell_type": "markdown",
   "id": "5ccf3f85",
   "metadata": {
    "papermill": {
     "duration": 0.043007,
     "end_time": "2022-01-13T10:09:00.309352",
     "exception": false,
     "start_time": "2022-01-13T10:09:00.266345",
     "status": "completed"
    },
    "tags": []
   },
   "source": [
    "We reshape the data to flatten the image pixels into a set of features or co-variates:"
   ]
  },
  {
   "cell_type": "code",
   "execution_count": 14,
   "id": "5286a4a3",
   "metadata": {
    "execution": {
     "iopub.execute_input": "2022-01-13T10:09:00.380334Z",
     "iopub.status.busy": "2022-01-13T10:09:00.379721Z",
     "iopub.status.idle": "2022-01-13T10:09:00.398127Z",
     "shell.execute_reply": "2022-01-13T10:09:00.397546Z"
    },
    "papermill": {
     "duration": 0.054297,
     "end_time": "2022-01-13T10:09:00.398270",
     "exception": false,
     "start_time": "2022-01-13T10:09:00.343973",
     "status": "completed"
    },
    "tags": []
   },
   "outputs": [
    {
     "data": {
      "text/plain": [
       "((11982, 784), (1984, 784))"
      ]
     },
     "execution_count": 14,
     "metadata": {},
     "output_type": "execute_result"
    }
   ],
   "source": [
    "X_train = X_train.reshape(X_train.shape[0], -1)\n",
    "X_test = X_test.reshape(X_test.shape[0], -1)\n",
    "X_train.shape, X_test.shape"
   ]
  },
  {
   "cell_type": "code",
   "execution_count": 15,
   "id": "73c5f88a",
   "metadata": {
    "execution": {
     "iopub.execute_input": "2022-01-13T10:09:00.472786Z",
     "iopub.status.busy": "2022-01-13T10:09:00.472130Z",
     "iopub.status.idle": "2022-01-13T10:09:00.494246Z",
     "shell.execute_reply": "2022-01-13T10:09:00.494707Z"
    },
    "papermill": {
     "duration": 0.065492,
     "end_time": "2022-01-13T10:09:00.494863",
     "exception": false,
     "start_time": "2022-01-13T10:09:00.429371",
     "status": "completed"
    },
    "tags": []
   },
   "outputs": [],
   "source": [
    "#Impoting functions from 'Kudzu'\n",
    "from kudzu.model import Model\n",
    "from kudzu.train import Learner\n",
    "from kudzu.optim import GD\n",
    "from kudzu.data import Data, Sampler,Dataloader\n",
    "\n",
    "from kudzu.callbacks import AccCallback\n",
    "from kudzu.callbacks import ClfCallback\n",
    "\n",
    "from kudzu.loss import MSE\n",
    "\n",
    "from kudzu.layer import Sigmoid,Relu\n",
    "from kudzu.layer import Affine"
   ]
  },
  {
   "cell_type": "markdown",
   "id": "bc01172a",
   "metadata": {
    "papermill": {
     "duration": 0.031061,
     "end_time": "2022-01-13T10:09:00.559417",
     "exception": false,
     "start_time": "2022-01-13T10:09:00.528356",
     "status": "completed"
    },
    "tags": []
   },
   "source": [
    "### Let us create a `Config` class, to store important parameters. \n",
    "This class essentially plays the role of a dictionary."
   ]
  },
  {
   "cell_type": "code",
   "execution_count": 16,
   "id": "978281aa",
   "metadata": {
    "execution": {
     "iopub.execute_input": "2022-01-13T10:09:00.627672Z",
     "iopub.status.busy": "2022-01-13T10:09:00.627062Z",
     "iopub.status.idle": "2022-01-13T10:09:00.645498Z",
     "shell.execute_reply": "2022-01-13T10:09:00.644877Z"
    },
    "papermill": {
     "duration": 0.055052,
     "end_time": "2022-01-13T10:09:00.645689",
     "exception": false,
     "start_time": "2022-01-13T10:09:00.590637",
     "status": "completed"
    },
    "tags": []
   },
   "outputs": [],
   "source": [
    "class Config:\n",
    "    pass\n",
    "config = Config()\n",
    "config.lr = 0.001\n",
    "config.num_epochs = 250\n",
    "config.bs = 50"
   ]
  },
  {
   "cell_type": "markdown",
   "id": "1385fa59",
   "metadata": {
    "papermill": {
     "duration": 0.031731,
     "end_time": "2022-01-13T10:09:00.709416",
     "exception": false,
     "start_time": "2022-01-13T10:09:00.677685",
     "status": "completed"
    },
    "tags": []
   },
   "source": [
    "### Running Models with the Training data\n",
    "Details about the network layers:\n",
    "- A first affine layer has 784 inputs and does 100 affine transforms. These are followed by a Relu\n",
    "- A second affine layer has 100 inputs from the 100 activations of the past layer, and does 100 affine transforms. These are followed by a Relu\n",
    "- A third affine layer has 100 activations and does 2 affine transformations to create an embedding for visualization. There is no non-linearity here.\n",
    "- A final \"logistic regression\" which has an affine transform from 2 inputs to 1 output, which is squeezed through a sigmoid.\n"
   ]
  },
  {
   "cell_type": "code",
   "execution_count": 17,
   "id": "2b9c66db",
   "metadata": {
    "execution": {
     "iopub.execute_input": "2022-01-13T10:09:00.786137Z",
     "iopub.status.busy": "2022-01-13T10:09:00.785501Z",
     "iopub.status.idle": "2022-01-13T10:09:00.799335Z",
     "shell.execute_reply": "2022-01-13T10:09:00.799823Z"
    },
    "papermill": {
     "duration": 0.055967,
     "end_time": "2022-01-13T10:09:00.799972",
     "exception": false,
     "start_time": "2022-01-13T10:09:00.744005",
     "status": "completed"
    },
    "tags": []
   },
   "outputs": [],
   "source": [
    "data = Data(X_train, y_train.reshape(-1,1))\n",
    "sampler = Sampler(data, config.bs, shuffle=True)\n",
    "\n",
    "dl = Dataloader(data, sampler)\n",
    "\n",
    "opt = GD(config.lr)\n",
    "loss = MSE()"
   ]
  },
  {
   "cell_type": "code",
   "execution_count": 18,
   "id": "b275e4c2",
   "metadata": {
    "execution": {
     "iopub.execute_input": "2022-01-13T10:09:00.870603Z",
     "iopub.status.busy": "2022-01-13T10:09:00.869997Z",
     "iopub.status.idle": "2022-01-13T10:09:00.883901Z",
     "shell.execute_reply": "2022-01-13T10:09:00.883400Z"
    },
    "papermill": {
     "duration": 0.052679,
     "end_time": "2022-01-13T10:09:00.884032",
     "exception": false,
     "start_time": "2022-01-13T10:09:00.831353",
     "status": "completed"
    },
    "tags": []
   },
   "outputs": [],
   "source": [
    "training_data_x = X_train\n",
    "testing_data_x = X_test\n",
    "training_data_y = y_train.reshape(-1,1)\n",
    "testing_data_y = y_test.reshape(-1,1)"
   ]
  },
  {
   "cell_type": "code",
   "execution_count": 19,
   "id": "76951160",
   "metadata": {
    "execution": {
     "iopub.execute_input": "2022-01-13T10:09:00.949041Z",
     "iopub.status.busy": "2022-01-13T10:09:00.948439Z",
     "iopub.status.idle": "2022-01-13T10:09:00.967139Z",
     "shell.execute_reply": "2022-01-13T10:09:00.966636Z"
    },
    "papermill": {
     "duration": 0.052649,
     "end_time": "2022-01-13T10:09:00.967268",
     "exception": false,
     "start_time": "2022-01-13T10:09:00.914619",
     "status": "completed"
    },
    "tags": []
   },
   "outputs": [
    {
     "name": "stdout",
     "output_type": "stream",
     "text": [
      "xavier\n",
      "xavier\n",
      "xavier\n",
      "xavier\n",
      "xavier\n"
     ]
    }
   ],
   "source": [
    "layers = [Affine(\"first\", 784, 100), Relu(\"first\"), Affine(\"second\", 100, 100), Relu(\"second\"), Affine(\"third\", 100, 2), Affine(\"last\", 2, 1), Sigmoid(\"last\")]\n",
    "model_nn = Model(layers)\n",
    "model_lr = Model([Affine(\"logits\", 784, 1), Sigmoid(\"sigmoid\")])"
   ]
  },
  {
   "cell_type": "code",
   "execution_count": 20,
   "id": "6eede77a",
   "metadata": {
    "execution": {
     "iopub.execute_input": "2022-01-13T10:09:01.032692Z",
     "iopub.status.busy": "2022-01-13T10:09:01.032096Z",
     "iopub.status.idle": "2022-01-13T10:09:01.049615Z",
     "shell.execute_reply": "2022-01-13T10:09:01.050142Z"
    },
    "papermill": {
     "duration": 0.052622,
     "end_time": "2022-01-13T10:09:01.050289",
     "exception": false,
     "start_time": "2022-01-13T10:09:00.997667",
     "status": "completed"
    },
    "tags": []
   },
   "outputs": [],
   "source": [
    "nn_learner = Learner(loss, model_nn, opt, config.num_epochs)\n",
    "acc_nn = ClfCallback(nn_learner, config.bs, training_data_x , testing_data_x, training_data_y, testing_data_y)\n",
    "nn_learner.set_callbacks([acc_nn])"
   ]
  },
  {
   "cell_type": "code",
   "execution_count": 21,
   "id": "877b6cc7",
   "metadata": {
    "execution": {
     "iopub.execute_input": "2022-01-13T10:09:01.115819Z",
     "iopub.status.busy": "2022-01-13T10:09:01.115219Z",
     "iopub.status.idle": "2022-01-13T10:09:01.129792Z",
     "shell.execute_reply": "2022-01-13T10:09:01.129213Z"
    },
    "papermill": {
     "duration": 0.049342,
     "end_time": "2022-01-13T10:09:01.129924",
     "exception": false,
     "start_time": "2022-01-13T10:09:01.080582",
     "status": "completed"
    },
    "tags": []
   },
   "outputs": [],
   "source": [
    "lr_learner = Learner(loss, model_lr, opt, config.num_epochs)\n",
    "acc_lr = ClfCallback(lr_learner, config.bs, training_data_x , testing_data_x, training_data_y, testing_data_y)\n",
    "lr_learner.set_callbacks([acc_lr])"
   ]
  },
  {
   "cell_type": "code",
   "execution_count": 22,
   "id": "d9b133c3",
   "metadata": {
    "execution": {
     "iopub.execute_input": "2022-01-13T10:09:01.195091Z",
     "iopub.status.busy": "2022-01-13T10:09:01.194501Z",
     "iopub.status.idle": "2022-01-13T10:10:32.526573Z",
     "shell.execute_reply": "2022-01-13T10:10:32.527426Z"
    },
    "papermill": {
     "duration": 91.367374,
     "end_time": "2022-01-13T10:10:32.527599",
     "exception": false,
     "start_time": "2022-01-13T10:09:01.160225",
     "status": "completed"
    },
    "tags": []
   },
   "outputs": [
    {
     "name": "stdout",
     "output_type": "stream",
     "text": [
      "Epoch 0, Loss 0.2181\n",
      "Training Accuracy: 0.7780, Testing Accuracy: 0.7989\n",
      "\n"
     ]
    },
    {
     "name": "stdout",
     "output_type": "stream",
     "text": [
      "Epoch 10, Loss 0.0752\n",
      "Training Accuracy: 0.9286, Testing Accuracy: 0.9355\n",
      "\n"
     ]
    },
    {
     "name": "stdout",
     "output_type": "stream",
     "text": [
      "Epoch 20, Loss 0.0496\n",
      "Training Accuracy: 0.9461, Testing Accuracy: 0.9551\n",
      "\n"
     ]
    },
    {
     "name": "stdout",
     "output_type": "stream",
     "text": [
      "Epoch 30, Loss 0.0405\n",
      "Training Accuracy: 0.9541, Testing Accuracy: 0.9647\n",
      "\n"
     ]
    },
    {
     "name": "stdout",
     "output_type": "stream",
     "text": [
      "Epoch 40, Loss 0.0357\n",
      "Training Accuracy: 0.9594, Testing Accuracy: 0.9667\n",
      "\n"
     ]
    },
    {
     "name": "stdout",
     "output_type": "stream",
     "text": [
      "Epoch 50, Loss 0.0327\n",
      "Training Accuracy: 0.9625, Testing Accuracy: 0.9667\n",
      "\n"
     ]
    },
    {
     "name": "stdout",
     "output_type": "stream",
     "text": [
      "Epoch 60, Loss 0.0306\n",
      "Training Accuracy: 0.9649, Testing Accuracy: 0.9682\n",
      "\n"
     ]
    },
    {
     "name": "stdout",
     "output_type": "stream",
     "text": [
      "Epoch 70, Loss 0.029\n",
      "Training Accuracy: 0.9664, Testing Accuracy: 0.9708\n",
      "\n"
     ]
    },
    {
     "name": "stdout",
     "output_type": "stream",
     "text": [
      "Epoch 80, Loss 0.0277\n",
      "Training Accuracy: 0.9680, Testing Accuracy: 0.9718\n",
      "\n"
     ]
    },
    {
     "name": "stdout",
     "output_type": "stream",
     "text": [
      "Epoch 90, Loss 0.0266\n",
      "Training Accuracy: 0.9690, Testing Accuracy: 0.9718\n",
      "\n"
     ]
    },
    {
     "name": "stdout",
     "output_type": "stream",
     "text": [
      "Epoch 100, Loss 0.0257\n",
      "Training Accuracy: 0.9701, Testing Accuracy: 0.9718\n",
      "\n"
     ]
    },
    {
     "name": "stdout",
     "output_type": "stream",
     "text": [
      "Epoch 110, Loss 0.0249\n",
      "Training Accuracy: 0.9711, Testing Accuracy: 0.9718\n",
      "\n"
     ]
    },
    {
     "name": "stdout",
     "output_type": "stream",
     "text": [
      "Epoch 120, Loss 0.0242\n",
      "Training Accuracy: 0.9718, Testing Accuracy: 0.9723\n",
      "\n"
     ]
    },
    {
     "name": "stdout",
     "output_type": "stream",
     "text": [
      "Epoch 130, Loss 0.0235\n",
      "Training Accuracy: 0.9733, Testing Accuracy: 0.9728\n",
      "\n"
     ]
    },
    {
     "name": "stdout",
     "output_type": "stream",
     "text": [
      "Epoch 140, Loss 0.0229\n",
      "Training Accuracy: 0.9740, Testing Accuracy: 0.9728\n",
      "\n"
     ]
    },
    {
     "name": "stdout",
     "output_type": "stream",
     "text": [
      "Epoch 150, Loss 0.0224\n",
      "Training Accuracy: 0.9747, Testing Accuracy: 0.9728\n",
      "\n"
     ]
    },
    {
     "name": "stdout",
     "output_type": "stream",
     "text": [
      "Epoch 160, Loss 0.0219\n",
      "Training Accuracy: 0.9756, Testing Accuracy: 0.9728\n",
      "\n"
     ]
    },
    {
     "name": "stdout",
     "output_type": "stream",
     "text": [
      "Epoch 170, Loss 0.0214\n",
      "Training Accuracy: 0.9764, Testing Accuracy: 0.9728\n",
      "\n"
     ]
    },
    {
     "name": "stdout",
     "output_type": "stream",
     "text": [
      "Epoch 180, Loss 0.0209\n",
      "Training Accuracy: 0.9766, Testing Accuracy: 0.9733\n",
      "\n"
     ]
    },
    {
     "name": "stdout",
     "output_type": "stream",
     "text": [
      "Epoch 190, Loss 0.0205\n",
      "Training Accuracy: 0.9773, Testing Accuracy: 0.9733\n",
      "\n"
     ]
    },
    {
     "name": "stdout",
     "output_type": "stream",
     "text": [
      "Epoch 200, Loss 0.0201\n",
      "Training Accuracy: 0.9781, Testing Accuracy: 0.9743\n",
      "\n"
     ]
    },
    {
     "name": "stdout",
     "output_type": "stream",
     "text": [
      "Epoch 210, Loss 0.0196\n",
      "Training Accuracy: 0.9786, Testing Accuracy: 0.9748\n",
      "\n"
     ]
    },
    {
     "name": "stdout",
     "output_type": "stream",
     "text": [
      "Epoch 220, Loss 0.0192\n",
      "Training Accuracy: 0.9791, Testing Accuracy: 0.9743\n",
      "\n"
     ]
    },
    {
     "name": "stdout",
     "output_type": "stream",
     "text": [
      "Epoch 230, Loss 0.0188\n",
      "Training Accuracy: 0.9797, Testing Accuracy: 0.9743\n",
      "\n"
     ]
    },
    {
     "name": "stdout",
     "output_type": "stream",
     "text": [
      "Epoch 240, Loss 0.0185\n",
      "Training Accuracy: 0.9801, Testing Accuracy: 0.9758\n",
      "\n"
     ]
    },
    {
     "data": {
      "text/plain": [
       "0.00038877397490145327"
      ]
     },
     "execution_count": 22,
     "metadata": {},
     "output_type": "execute_result"
    }
   ],
   "source": [
    "nn_learner.train_loop(dl)"
   ]
  },
  {
   "cell_type": "code",
   "execution_count": 23,
   "id": "e0163366",
   "metadata": {
    "execution": {
     "iopub.execute_input": "2022-01-13T10:10:32.615714Z",
     "iopub.status.busy": "2022-01-13T10:10:32.615088Z",
     "iopub.status.idle": "2022-01-13T10:10:48.458775Z",
     "shell.execute_reply": "2022-01-13T10:10:48.459650Z"
    },
    "papermill": {
     "duration": 15.892759,
     "end_time": "2022-01-13T10:10:48.459828",
     "exception": false,
     "start_time": "2022-01-13T10:10:32.567069",
     "status": "completed"
    },
    "tags": []
   },
   "outputs": [
    {
     "name": "stdout",
     "output_type": "stream",
     "text": [
      "Epoch 0, Loss 0.21\n",
      "Training Accuracy: 0.7762, Testing Accuracy: 0.7999\n",
      "\n"
     ]
    },
    {
     "name": "stdout",
     "output_type": "stream",
     "text": [
      "Epoch 10, Loss 0.1013\n",
      "Training Accuracy: 0.9057, Testing Accuracy: 0.9209\n",
      "\n"
     ]
    },
    {
     "name": "stdout",
     "output_type": "stream",
     "text": [
      "Epoch 20, Loss 0.0789\n",
      "Training Accuracy: 0.9251, Testing Accuracy: 0.9365\n",
      "\n"
     ]
    },
    {
     "name": "stdout",
     "output_type": "stream",
     "text": [
      "Epoch 30, Loss 0.0683\n",
      "Training Accuracy: 0.9351, Testing Accuracy: 0.9456\n",
      "\n"
     ]
    },
    {
     "name": "stdout",
     "output_type": "stream",
     "text": [
      "Epoch 40, Loss 0.0618\n",
      "Training Accuracy: 0.9402, Testing Accuracy: 0.9506\n",
      "\n"
     ]
    },
    {
     "name": "stdout",
     "output_type": "stream",
     "text": [
      "Epoch 50, Loss 0.0573\n",
      "Training Accuracy: 0.9437, Testing Accuracy: 0.9556\n",
      "\n"
     ]
    },
    {
     "name": "stdout",
     "output_type": "stream",
     "text": [
      "Epoch 60, Loss 0.054\n",
      "Training Accuracy: 0.9474, Testing Accuracy: 0.9587\n",
      "\n"
     ]
    },
    {
     "name": "stdout",
     "output_type": "stream",
     "text": [
      "Epoch 70, Loss 0.0515\n",
      "Training Accuracy: 0.9492, Testing Accuracy: 0.9582\n",
      "\n"
     ]
    },
    {
     "name": "stdout",
     "output_type": "stream",
     "text": [
      "Epoch 80, Loss 0.0494\n",
      "Training Accuracy: 0.9509, Testing Accuracy: 0.9612\n",
      "\n"
     ]
    },
    {
     "name": "stdout",
     "output_type": "stream",
     "text": [
      "Epoch 90, Loss 0.0477\n",
      "Training Accuracy: 0.9525, Testing Accuracy: 0.9617\n",
      "\n"
     ]
    },
    {
     "name": "stdout",
     "output_type": "stream",
     "text": [
      "Epoch 100, Loss 0.0463\n",
      "Training Accuracy: 0.9533, Testing Accuracy: 0.9617\n",
      "\n"
     ]
    },
    {
     "name": "stdout",
     "output_type": "stream",
     "text": [
      "Epoch 110, Loss 0.0451\n",
      "Training Accuracy: 0.9543, Testing Accuracy: 0.9622\n",
      "\n"
     ]
    },
    {
     "name": "stdout",
     "output_type": "stream",
     "text": [
      "Epoch 120, Loss 0.044\n",
      "Training Accuracy: 0.9548, Testing Accuracy: 0.9632\n",
      "\n"
     ]
    },
    {
     "name": "stdout",
     "output_type": "stream",
     "text": [
      "Epoch 130, Loss 0.0431\n",
      "Training Accuracy: 0.9553, Testing Accuracy: 0.9632\n",
      "\n"
     ]
    },
    {
     "name": "stdout",
     "output_type": "stream",
     "text": [
      "Epoch 140, Loss 0.0422\n",
      "Training Accuracy: 0.9557, Testing Accuracy: 0.9637\n",
      "\n"
     ]
    },
    {
     "name": "stdout",
     "output_type": "stream",
     "text": [
      "Epoch 150, Loss 0.0415\n",
      "Training Accuracy: 0.9563, Testing Accuracy: 0.9637\n",
      "\n"
     ]
    },
    {
     "name": "stdout",
     "output_type": "stream",
     "text": [
      "Epoch 160, Loss 0.0408\n",
      "Training Accuracy: 0.9567, Testing Accuracy: 0.9642\n",
      "\n"
     ]
    },
    {
     "name": "stdout",
     "output_type": "stream",
     "text": [
      "Epoch 170, Loss 0.0402\n",
      "Training Accuracy: 0.9575, Testing Accuracy: 0.9642\n",
      "\n"
     ]
    },
    {
     "name": "stdout",
     "output_type": "stream",
     "text": [
      "Epoch 180, Loss 0.0396\n",
      "Training Accuracy: 0.9579, Testing Accuracy: 0.9647\n",
      "\n"
     ]
    },
    {
     "name": "stdout",
     "output_type": "stream",
     "text": [
      "Epoch 190, Loss 0.0391\n",
      "Training Accuracy: 0.9585, Testing Accuracy: 0.9647\n",
      "\n"
     ]
    },
    {
     "name": "stdout",
     "output_type": "stream",
     "text": [
      "Epoch 200, Loss 0.0386\n",
      "Training Accuracy: 0.9587, Testing Accuracy: 0.9657\n",
      "\n"
     ]
    },
    {
     "name": "stdout",
     "output_type": "stream",
     "text": [
      "Epoch 210, Loss 0.0382\n",
      "Training Accuracy: 0.9591, Testing Accuracy: 0.9667\n",
      "\n"
     ]
    },
    {
     "name": "stdout",
     "output_type": "stream",
     "text": [
      "Epoch 220, Loss 0.0378\n",
      "Training Accuracy: 0.9594, Testing Accuracy: 0.9667\n",
      "\n"
     ]
    },
    {
     "name": "stdout",
     "output_type": "stream",
     "text": [
      "Epoch 230, Loss 0.0374\n",
      "Training Accuracy: 0.9599, Testing Accuracy: 0.9682\n",
      "\n"
     ]
    },
    {
     "name": "stdout",
     "output_type": "stream",
     "text": [
      "Epoch 240, Loss 0.037\n",
      "Training Accuracy: 0.9600, Testing Accuracy: 0.9682\n",
      "\n"
     ]
    },
    {
     "data": {
      "text/plain": [
       "0.021544031537225002"
      ]
     },
     "execution_count": 23,
     "metadata": {},
     "output_type": "execute_result"
    }
   ],
   "source": [
    "lr_learner.train_loop(dl)"
   ]
  },
  {
   "cell_type": "code",
   "execution_count": 24,
   "id": "ca410940",
   "metadata": {
    "execution": {
     "iopub.execute_input": "2022-01-13T10:10:48.567092Z",
     "iopub.status.busy": "2022-01-13T10:10:48.566478Z",
     "iopub.status.idle": "2022-01-13T10:10:48.843803Z",
     "shell.execute_reply": "2022-01-13T10:10:48.843209Z"
    },
    "papermill": {
     "duration": 0.336879,
     "end_time": "2022-01-13T10:10:48.843956",
     "exception": false,
     "start_time": "2022-01-13T10:10:48.507077",
     "status": "completed"
    },
    "tags": []
   },
   "outputs": [
    {
     "data": {
      "text/plain": [
       "<matplotlib.legend.Legend at 0x7f0d13f8da90>"
      ]
     },
     "execution_count": 24,
     "metadata": {},
     "output_type": "execute_result"
    },
    {
     "data": {
      "image/png": "[encoded data removed]",
      "text/plain": [
       "<Figure size 1080x720 with 1 Axes>"
      ]
     },
     "metadata": {
      "needs_background": "light"
     },
     "output_type": "display_data"
    }
   ],
   "source": [
    "#comparing the results of NN and LR\n",
    "plt.figure(figsize=(15,10))\n",
    "\n",
    "# Neural Network plots\n",
    "plt.plot(acc_nn.accuracies, 'r-', label = \"Training Accuracies - NN\")\n",
    "plt.plot(acc_nn.test_accuracies, 'g-', label = \"Testing Accuracies - NN\")\n",
    "\n",
    "# Logistic Regression plots\n",
    "plt.plot(acc_lr.accuracies, 'k-', label = \"Training Accuracies - LR\")\n",
    "plt.plot(acc_lr.test_accuracies, 'b-', label = \"Testing Accuracies - LR\")\n",
    "plt.legend()"
   ]
  },
  {
   "cell_type": "markdown",
   "id": "80dfb35c",
   "metadata": {
    "papermill": {
     "duration": 0.04882,
     "end_time": "2022-01-13T10:10:48.941103",
     "exception": false,
     "start_time": "2022-01-13T10:10:48.892283",
     "status": "completed"
    },
    "tags": []
   },
   "source": [
    "#### Plotting the outputs of this layer of the NN.\n"
   ]
  },
  {
   "cell_type": "code",
   "execution_count": 25,
   "id": "45eb2ff5",
   "metadata": {
    "execution": {
     "iopub.execute_input": "2022-01-13T10:10:49.043690Z",
     "iopub.status.busy": "2022-01-13T10:10:49.042283Z",
     "iopub.status.idle": "2022-01-13T10:10:49.063455Z",
     "shell.execute_reply": "2022-01-13T10:10:49.063973Z"
    },
    "papermill": {
     "duration": 0.075121,
     "end_time": "2022-01-13T10:10:49.064126",
     "exception": false,
     "start_time": "2022-01-13T10:10:48.989005",
     "status": "completed"
    },
    "tags": []
   },
   "outputs": [],
   "source": [
    "new_model = Model(layers[:-2])\n",
    "testing_plot = new_model(testing_data_x)"
   ]
  },
  {
   "cell_type": "code",
   "execution_count": 26,
   "id": "4c0a5485",
   "metadata": {
    "execution": {
     "iopub.execute_input": "2022-01-13T10:10:49.172108Z",
     "iopub.status.busy": "2022-01-13T10:10:49.167808Z",
     "iopub.status.idle": "2022-01-13T10:10:49.400894Z",
     "shell.execute_reply": "2022-01-13T10:10:49.401401Z"
    },
    "papermill": {
     "duration": 0.289214,
     "end_time": "2022-01-13T10:10:49.401684",
     "exception": false,
     "start_time": "2022-01-13T10:10:49.112470",
     "status": "completed"
    },
    "tags": []
   },
   "outputs": [
    {
     "data": {
      "text/plain": [
       "Text(0.5, 1.0, 'Outputs')"
      ]
     },
     "execution_count": 26,
     "metadata": {},
     "output_type": "execute_result"
    },
    {
     "data": {
      "image/png": "[encoded data removed]",
      "text/plain": [
       "<Figure size 576x504 with 1 Axes>"
      ]
     },
     "metadata": {
      "needs_background": "light"
     },
     "output_type": "display_data"
    }
   ],
   "source": [
    "# Plotting the scatter plot of points and color coding by class\n",
    "plt.figure(figsize=(8,7))\n",
    "plt.scatter(testing_plot[:,0], testing_plot[:,1], alpha = 0.1, c = y_test.ravel());\n",
    "plt.title('Outputs')"
   ]
  },
  {
   "cell_type": "markdown",
   "id": "a74fcf8f",
   "metadata": {
    "papermill": {
     "duration": 0.049605,
     "end_time": "2022-01-13T10:10:49.502118",
     "exception": false,
     "start_time": "2022-01-13T10:10:49.452513",
     "status": "completed"
    },
    "tags": []
   },
   "source": [
    "Probability contours"
   ]
  },
  {
   "cell_type": "code",
   "execution_count": 27,
   "id": "d0afc8e3",
   "metadata": {
    "execution": {
     "iopub.execute_input": "2022-01-13T10:10:49.608870Z",
     "iopub.status.busy": "2022-01-13T10:10:49.607431Z",
     "iopub.status.idle": "2022-01-13T10:10:49.620207Z",
     "shell.execute_reply": "2022-01-13T10:10:49.619695Z"
    },
    "papermill": {
     "duration": 0.067677,
     "end_time": "2022-01-13T10:10:49.620336",
     "exception": false,
     "start_time": "2022-01-13T10:10:49.552659",
     "status": "completed"
    },
    "tags": []
   },
   "outputs": [],
   "source": [
    "model_prob = Model(layers[-2:]) "
   ]
  },
  {
   "cell_type": "code",
   "execution_count": 28,
   "id": "9b96e238",
   "metadata": {
    "execution": {
     "iopub.execute_input": "2022-01-13T10:10:49.725792Z",
     "iopub.status.busy": "2022-01-13T10:10:49.725122Z",
     "iopub.status.idle": "2022-01-13T10:10:49.741760Z",
     "shell.execute_reply": "2022-01-13T10:10:49.742222Z"
    },
    "papermill": {
     "duration": 0.071878,
     "end_time": "2022-01-13T10:10:49.742380",
     "exception": false,
     "start_time": "2022-01-13T10:10:49.670502",
     "status": "completed"
    },
    "tags": []
   },
   "outputs": [],
   "source": [
    "#creating the x and y ranges according to the above generated plot.\n",
    "x_range = np.linspace(-4, 1, 100) \n",
    "y_range = np.linspace(-6, 6, 100) \n",
    "x_grid, y_grid = np.meshgrid(x_range, y_range) # x_grid and y_grig are of size 100 X 100\n",
    "\n",
    "# converting x_grid and y_grid to continuous arrays\n",
    "x_gridflat = np.ravel(x_grid)\n",
    "y_gridflat = np.ravel(y_grid)\n",
    "\n",
    "# The last layer of the current model takes two columns as input. Hence transpose of np.vstack() is required.\n",
    "X = np.vstack((x_gridflat, y_gridflat)).T\n",
    "\n",
    "prob_contour = model_prob(X).reshape(100,100) "
   ]
  },
  {
   "cell_type": "code",
   "execution_count": 29,
   "id": "da72499a",
   "metadata": {
    "execution": {
     "iopub.execute_input": "2022-01-13T10:10:49.876874Z",
     "iopub.status.busy": "2022-01-13T10:10:49.875459Z",
     "iopub.status.idle": "2022-01-13T10:10:50.172752Z",
     "shell.execute_reply": "2022-01-13T10:10:50.172221Z"
    },
    "papermill": {
     "duration": 0.380502,
     "end_time": "2022-01-13T10:10:50.172884",
     "exception": false,
     "start_time": "2022-01-13T10:10:49.792382",
     "status": "completed"
    },
    "tags": []
   },
   "outputs": [
    {
     "data": {
      "image/png": "[encoded data removed]",
      "text/plain": [
       "<Figure size 720x648 with 1 Axes>"
      ]
     },
     "metadata": {
      "needs_background": "light"
     },
     "output_type": "display_data"
    }
   ],
   "source": [
    "plt.figure(figsize=(10,9))\n",
    "plt.scatter(testing_plot[:,0], testing_plot[:,1], alpha = 0.1, c = y_test.ravel())\n",
    "contours = plt.contour(x_grid,y_grid,prob_contour)\n",
    "plt.title('Probability Contours')\n",
    "plt.clabel(contours, inline = True );"
   ]
  },
  {
   "cell_type": "code",
   "execution_count": null,
   "id": "e81b4ac7",
   "metadata": {
    "papermill": {
     "duration": 0.055074,
     "end_time": "2022-01-13T10:10:50.283449",
     "exception": false,
     "start_time": "2022-01-13T10:10:50.228375",
     "status": "completed"
    },
    "tags": []
   },
   "outputs": [],
   "source": []
  }
 ],
 "metadata": {
  "kernelspec": {
   "display_name": "Python 3",
   "language": "python",
   "name": "python3"
  },
  "language_info": {
   "codemirror_mode": {
    "name": "ipython",
    "version": 3
   },
   "file_extension": ".py",
   "mimetype": "text/x-python",
   "name": "python",
   "nbconvert_exporter": "python",
   "pygments_lexer": "ipython3",
   "version": "3.6.15"
  },
  "papermill": {
   "default_parameters": {},
   "duration": 117.630239,
   "end_time": "2022-01-13T10:10:50.748306",
   "environment_variables": {},
   "exception": null,
   "input_path": "2020-08-11-part2.ipynb",
   "output_path": "2020-08-11-part2.ipynb",
   "parameters": {},
   "start_time": "2022-01-13T10:08:53.118067",
   "version": "2.3.3"
  }
 },
 "nbformat": 4,
 "nbformat_minor": 5
}