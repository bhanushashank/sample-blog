{
 "cells": [
  {
   "cell_type": "markdown",
   "id": "98380cd3",
   "metadata": {
    "papermill": {
     "duration": 0.034337,
     "end_time": "2022-02-21T00:28:46.327622",
     "exception": false,
     "start_time": "2022-02-21T00:28:46.293285",
     "status": "completed"
    },
    "tags": []
   },
   "source": [
    "# Distinguish Your Own Digits (DYOD)"
   ]
  },
  {
   "cell_type": "markdown",
   "id": "ef31240d",
   "metadata": {
    "papermill": {
     "duration": 0.027897,
     "end_time": "2022-02-21T00:28:46.382627",
     "exception": false,
     "start_time": "2022-02-21T00:28:46.354730",
     "status": "completed"
    },
    "tags": []
   },
   "source": [
    "You are going to write a classifier that distinguishes between the number 3 and number 8."
   ]
  },
  {
   "cell_type": "code",
   "execution_count": 1,
   "id": "b15c8646",
   "metadata": {
    "execution": {
     "iopub.execute_input": "2022-02-21T00:28:46.450121Z",
     "iopub.status.busy": "2022-02-21T00:28:46.448776Z",
     "iopub.status.idle": "2022-02-21T00:28:46.460835Z",
     "shell.execute_reply": "2022-02-21T00:28:46.461353Z"
    },
    "papermill": {
     "duration": 0.052384,
     "end_time": "2022-02-21T00:28:46.461519",
     "exception": false,
     "start_time": "2022-02-21T00:28:46.409135",
     "status": "completed"
    },
    "tags": []
   },
   "outputs": [],
   "source": [
    "%load_ext autoreload\n",
    "%autoreload 2"
   ]
  },
  {
   "cell_type": "code",
   "execution_count": 2,
   "id": "22ef38dc",
   "metadata": {
    "execution": {
     "iopub.execute_input": "2022-02-21T00:28:46.522116Z",
     "iopub.status.busy": "2022-02-21T00:28:46.521439Z",
     "iopub.status.idle": "2022-02-21T00:28:47.164798Z",
     "shell.execute_reply": "2022-02-21T00:28:47.164039Z"
    },
    "papermill": {
     "duration": 0.675715,
     "end_time": "2022-02-21T00:28:47.164961",
     "exception": false,
     "start_time": "2022-02-21T00:28:46.489246",
     "status": "completed"
    },
    "tags": []
   },
   "outputs": [],
   "source": [
    "%matplotlib inline\n",
    "import numpy as np\n",
    "import matplotlib.pyplot as plt\n",
    "import pandas as pd"
   ]
  },
  {
   "cell_type": "markdown",
   "id": "ba036198",
   "metadata": {
    "papermill": {
     "duration": 0.028595,
     "end_time": "2022-02-21T00:28:47.221320",
     "exception": false,
     "start_time": "2022-02-21T00:28:47.192725",
     "status": "completed"
    },
    "tags": []
   },
   "source": [
    "From the command line run `pip install mnist`. This is a library that will help you bring down the mnist dataset. If you run this from a notebook, you need to put  `!pip install mnist` in a cell by itself."
   ]
  },
  {
   "cell_type": "code",
   "execution_count": 3,
   "id": "bb6ad8a1",
   "metadata": {
    "execution": {
     "iopub.execute_input": "2022-02-21T00:28:47.281218Z",
     "iopub.status.busy": "2022-02-21T00:28:47.280635Z",
     "iopub.status.idle": "2022-02-21T00:28:49.940576Z",
     "shell.execute_reply": "2022-02-21T00:28:49.941397Z"
    },
    "papermill": {
     "duration": 2.69299,
     "end_time": "2022-02-21T00:28:49.941649",
     "exception": false,
     "start_time": "2022-02-21T00:28:47.248659",
     "status": "completed"
    },
    "tags": []
   },
   "outputs": [
    {
     "name": "stdout",
     "output_type": "stream",
     "text": [
      "Collecting mnist\r\n"
     ]
    },
    {
     "name": "stdout",
     "output_type": "stream",
     "text": [
      "  Downloading mnist-0.2.2-py2.py3-none-any.whl (3.5 kB)\r\n",
      "Requirement already satisfied: numpy in /opt/hostedtoolcache/Python/3.6.15/x64/lib/python3.6/site-packages (from mnist) (1.19.5)\r\n"
     ]
    },
    {
     "name": "stdout",
     "output_type": "stream",
     "text": [
      "Installing collected packages: mnist\r\n"
     ]
    },
    {
     "name": "stdout",
     "output_type": "stream",
     "text": [
      "Successfully installed mnist-0.2.2\r\n"
     ]
    }
   ],
   "source": [
    "!pip install mnist"
   ]
  },
  {
   "cell_type": "markdown",
   "id": "69df9c9a",
   "metadata": {
    "papermill": {
     "duration": 0.027842,
     "end_time": "2022-02-21T00:28:49.998218",
     "exception": false,
     "start_time": "2022-02-21T00:28:49.970376",
     "status": "completed"
    },
    "tags": []
   },
   "source": [
    "## Preparing the Data"
   ]
  },
  {
   "cell_type": "code",
   "execution_count": 4,
   "id": "7f69d806",
   "metadata": {
    "execution": {
     "iopub.execute_input": "2022-02-21T00:28:50.060043Z",
     "iopub.status.busy": "2022-02-21T00:28:50.059422Z",
     "iopub.status.idle": "2022-02-21T00:28:50.081212Z",
     "shell.execute_reply": "2022-02-21T00:28:50.080614Z"
    },
    "papermill": {
     "duration": 0.055081,
     "end_time": "2022-02-21T00:28:50.081335",
     "exception": false,
     "start_time": "2022-02-21T00:28:50.026254",
     "status": "completed"
    },
    "tags": []
   },
   "outputs": [],
   "source": [
    "import mnist"
   ]
  },
  {
   "cell_type": "code",
   "execution_count": 5,
   "id": "a411e44f",
   "metadata": {
    "execution": {
     "iopub.execute_input": "2022-02-21T00:28:50.142680Z",
     "iopub.status.busy": "2022-02-21T00:28:50.142123Z",
     "iopub.status.idle": "2022-02-21T00:28:50.718934Z",
     "shell.execute_reply": "2022-02-21T00:28:50.720367Z"
    },
    "papermill": {
     "duration": 0.610616,
     "end_time": "2022-02-21T00:28:50.720627",
     "exception": false,
     "start_time": "2022-02-21T00:28:50.110011",
     "status": "completed"
    },
    "tags": []
   },
   "outputs": [],
   "source": [
    "train_images = mnist.train_images()\n",
    "train_labels = mnist.train_labels()"
   ]
  },
  {
   "cell_type": "code",
   "execution_count": 6,
   "id": "dceab3a5",
   "metadata": {
    "execution": {
     "iopub.execute_input": "2022-02-21T00:28:50.784741Z",
     "iopub.status.busy": "2022-02-21T00:28:50.784154Z",
     "iopub.status.idle": "2022-02-21T00:28:50.799826Z",
     "shell.execute_reply": "2022-02-21T00:28:50.799325Z"
    },
    "papermill": {
     "duration": 0.04946,
     "end_time": "2022-02-21T00:28:50.799945",
     "exception": false,
     "start_time": "2022-02-21T00:28:50.750485",
     "status": "completed"
    },
    "tags": []
   },
   "outputs": [
    {
     "data": {
      "text/plain": [
       "((60000, 28, 28), (60000,))"
      ]
     },
     "execution_count": 6,
     "metadata": {},
     "output_type": "execute_result"
    }
   ],
   "source": [
    "train_images.shape, train_labels.shape"
   ]
  },
  {
   "cell_type": "code",
   "execution_count": 7,
   "id": "f50dc2bb",
   "metadata": {
    "execution": {
     "iopub.execute_input": "2022-02-21T00:28:50.865936Z",
     "iopub.status.busy": "2022-02-21T00:28:50.865310Z",
     "iopub.status.idle": "2022-02-21T00:28:51.007126Z",
     "shell.execute_reply": "2022-02-21T00:28:51.006515Z"
    },
    "papermill": {
     "duration": 0.178744,
     "end_time": "2022-02-21T00:28:51.007252",
     "exception": false,
     "start_time": "2022-02-21T00:28:50.828508",
     "status": "completed"
    },
    "tags": []
   },
   "outputs": [],
   "source": [
    "test_images = mnist.test_images()\n",
    "test_labels = mnist.test_labels()"
   ]
  },
  {
   "cell_type": "code",
   "execution_count": 8,
   "id": "fc38cf1b",
   "metadata": {
    "execution": {
     "iopub.execute_input": "2022-02-21T00:28:51.067961Z",
     "iopub.status.busy": "2022-02-21T00:28:51.067364Z",
     "iopub.status.idle": "2022-02-21T00:28:51.081597Z",
     "shell.execute_reply": "2022-02-21T00:28:51.081123Z"
    },
    "papermill": {
     "duration": 0.046017,
     "end_time": "2022-02-21T00:28:51.081740",
     "exception": false,
     "start_time": "2022-02-21T00:28:51.035723",
     "status": "completed"
    },
    "tags": []
   },
   "outputs": [
    {
     "data": {
      "text/plain": [
       "((10000, 28, 28), (10000,))"
      ]
     },
     "execution_count": 8,
     "metadata": {},
     "output_type": "execute_result"
    }
   ],
   "source": [
    "test_images.shape, test_labels.shape"
   ]
  },
  {
   "cell_type": "code",
   "execution_count": 9,
   "id": "f9ed8fe0",
   "metadata": {
    "execution": {
     "iopub.execute_input": "2022-02-21T00:28:51.147795Z",
     "iopub.status.busy": "2022-02-21T00:28:51.147214Z",
     "iopub.status.idle": "2022-02-21T00:28:51.309098Z",
     "shell.execute_reply": "2022-02-21T00:28:51.309556Z"
    },
    "papermill": {
     "duration": 0.199047,
     "end_time": "2022-02-21T00:28:51.309749",
     "exception": false,
     "start_time": "2022-02-21T00:28:51.110702",
     "status": "completed"
    },
    "tags": []
   },
   "outputs": [
    {
     "name": "stdout",
     "output_type": "stream",
     "text": [
      "2\n"
     ]
    },
    {
     "data": {
      "text/plain": [
       "<matplotlib.image.AxesImage at 0x7fc3089f2518>"
      ]
     },
     "execution_count": 9,
     "metadata": {},
     "output_type": "execute_result"
    },
    {
     "data": {
      "image/png": "[encoded data removed]",
      "text/plain": [
       "<Figure size 432x288 with 1 Axes>"
      ]
     },
     "metadata": {
      "needs_background": "light"
     },
     "output_type": "display_data"
    }
   ],
   "source": [
    "image_index = 7776 # You may select anything up to 60,000\n",
    "print(train_labels[image_index]) \n",
    "plt.imshow(train_images[image_index], cmap='Greys')"
   ]
  },
  {
   "cell_type": "markdown",
   "id": "a8d2388d",
   "metadata": {
    "papermill": {
     "duration": 0.029506,
     "end_time": "2022-02-21T00:28:51.373415",
     "exception": false,
     "start_time": "2022-02-21T00:28:51.343909",
     "status": "completed"
    },
    "tags": []
   },
   "source": [
    "## Filter data to get 3 and 8 out"
   ]
  },
  {
   "cell_type": "code",
   "execution_count": 10,
   "id": "776f7fc7",
   "metadata": {
    "execution": {
     "iopub.execute_input": "2022-02-21T00:28:51.441281Z",
     "iopub.status.busy": "2022-02-21T00:28:51.440709Z",
     "iopub.status.idle": "2022-02-21T00:28:51.464839Z",
     "shell.execute_reply": "2022-02-21T00:28:51.463366Z"
    },
    "papermill": {
     "duration": 0.062484,
     "end_time": "2022-02-21T00:28:51.465145",
     "exception": false,
     "start_time": "2022-02-21T00:28:51.402661",
     "status": "completed"
    },
    "tags": []
   },
   "outputs": [],
   "source": [
    "train_filter = np.where((train_labels == 3 ) | (train_labels == 8))\n",
    "test_filter = np.where((test_labels == 3) | (test_labels == 8))\n",
    "X_train, y_train = train_images[train_filter], train_labels[train_filter]\n",
    "X_test, y_test = test_images[test_filter], test_labels[test_filter]"
   ]
  },
  {
   "cell_type": "markdown",
   "id": "948f0b7e",
   "metadata": {
    "papermill": {
     "duration": 0.030614,
     "end_time": "2022-02-21T00:28:51.527104",
     "exception": false,
     "start_time": "2022-02-21T00:28:51.496490",
     "status": "completed"
    },
    "tags": []
   },
   "source": [
    "We normalize the pizel values in the 0 to 1 range"
   ]
  },
  {
   "cell_type": "code",
   "execution_count": 11,
   "id": "ee4c2166",
   "metadata": {
    "execution": {
     "iopub.execute_input": "2022-02-21T00:28:51.592964Z",
     "iopub.status.busy": "2022-02-21T00:28:51.592403Z",
     "iopub.status.idle": "2022-02-21T00:28:51.645399Z",
     "shell.execute_reply": "2022-02-21T00:28:51.644846Z"
    },
    "papermill": {
     "duration": 0.087652,
     "end_time": "2022-02-21T00:28:51.645537",
     "exception": false,
     "start_time": "2022-02-21T00:28:51.557885",
     "status": "completed"
    },
    "tags": []
   },
   "outputs": [],
   "source": [
    "X_train = X_train/255.\n",
    "X_test = X_test/255."
   ]
  },
  {
   "cell_type": "markdown",
   "id": "ddcf4fab",
   "metadata": {
    "papermill": {
     "duration": 0.030298,
     "end_time": "2022-02-21T00:28:51.706461",
     "exception": false,
     "start_time": "2022-02-21T00:28:51.676163",
     "status": "completed"
    },
    "tags": []
   },
   "source": [
    "And setup the labels as 1 (when the digit is 3) and 0 (when the digit is 8)"
   ]
  },
  {
   "cell_type": "code",
   "execution_count": 12,
   "id": "7dc908f2",
   "metadata": {
    "execution": {
     "iopub.execute_input": "2022-02-21T00:28:51.770990Z",
     "iopub.status.busy": "2022-02-21T00:28:51.770376Z",
     "iopub.status.idle": "2022-02-21T00:28:51.783306Z",
     "shell.execute_reply": "2022-02-21T00:28:51.782701Z"
    },
    "papermill": {
     "duration": 0.046179,
     "end_time": "2022-02-21T00:28:51.783430",
     "exception": false,
     "start_time": "2022-02-21T00:28:51.737251",
     "status": "completed"
    },
    "tags": []
   },
   "outputs": [],
   "source": [
    "y_train = 1*(y_train==3)\n",
    "y_test = 1*(y_test==3)"
   ]
  },
  {
   "cell_type": "code",
   "execution_count": 13,
   "id": "01e4e969",
   "metadata": {
    "execution": {
     "iopub.execute_input": "2022-02-21T00:28:51.847831Z",
     "iopub.status.busy": "2022-02-21T00:28:51.847235Z",
     "iopub.status.idle": "2022-02-21T00:28:51.862192Z",
     "shell.execute_reply": "2022-02-21T00:28:51.861661Z"
    },
    "papermill": {
     "duration": 0.048766,
     "end_time": "2022-02-21T00:28:51.862312",
     "exception": false,
     "start_time": "2022-02-21T00:28:51.813546",
     "status": "completed"
    },
    "tags": []
   },
   "outputs": [
    {
     "data": {
      "text/plain": [
       "((11982, 28, 28), (1984, 28, 28))"
      ]
     },
     "execution_count": 13,
     "metadata": {},
     "output_type": "execute_result"
    }
   ],
   "source": [
    "X_train.shape, X_test.shape"
   ]
  },
  {
   "cell_type": "markdown",
   "id": "5ccf3f85",
   "metadata": {
    "papermill": {
     "duration": 0.029199,
     "end_time": "2022-02-21T00:28:51.921407",
     "exception": false,
     "start_time": "2022-02-21T00:28:51.892208",
     "status": "completed"
    },
    "tags": []
   },
   "source": [
    "We reshape the data to flatten the image pixels into a set of features or co-variates:"
   ]
  },
  {
   "cell_type": "code",
   "execution_count": 14,
   "id": "5286a4a3",
   "metadata": {
    "execution": {
     "iopub.execute_input": "2022-02-21T00:28:51.987286Z",
     "iopub.status.busy": "2022-02-21T00:28:51.986698Z",
     "iopub.status.idle": "2022-02-21T00:28:52.003305Z",
     "shell.execute_reply": "2022-02-21T00:28:52.002786Z"
    },
    "papermill": {
     "duration": 0.052033,
     "end_time": "2022-02-21T00:28:52.003430",
     "exception": false,
     "start_time": "2022-02-21T00:28:51.951397",
     "status": "completed"
    },
    "tags": []
   },
   "outputs": [
    {
     "data": {
      "text/plain": [
       "((11982, 784), (1984, 784))"
      ]
     },
     "execution_count": 14,
     "metadata": {},
     "output_type": "execute_result"
    }
   ],
   "source": [
    "X_train = X_train.reshape(X_train.shape[0], -1)\n",
    "X_test = X_test.reshape(X_test.shape[0], -1)\n",
    "X_train.shape, X_test.shape"
   ]
  },
  {
   "cell_type": "code",
   "execution_count": 15,
   "id": "73c5f88a",
   "metadata": {
    "execution": {
     "iopub.execute_input": "2022-02-21T00:28:52.071217Z",
     "iopub.status.busy": "2022-02-21T00:28:52.070650Z",
     "iopub.status.idle": "2022-02-21T00:28:52.089603Z",
     "shell.execute_reply": "2022-02-21T00:28:52.090102Z"
    },
    "papermill": {
     "duration": 0.055912,
     "end_time": "2022-02-21T00:28:52.090233",
     "exception": false,
     "start_time": "2022-02-21T00:28:52.034321",
     "status": "completed"
    },
    "tags": []
   },
   "outputs": [],
   "source": [
    "#Impoting functions from 'Kudzu'\n",
    "from kudzu.model import Model\n",
    "from kudzu.train import Learner\n",
    "from kudzu.optim import GD\n",
    "from kudzu.data import Data, Sampler,Dataloader\n",
    "\n",
    "from kudzu.callbacks import AccCallback\n",
    "from kudzu.callbacks import ClfCallback\n",
    "\n",
    "from kudzu.loss import MSE\n",
    "\n",
    "from kudzu.layer import Sigmoid,Relu\n",
    "from kudzu.layer import Affine"
   ]
  },
  {
   "cell_type": "markdown",
   "id": "bc01172a",
   "metadata": {
    "papermill": {
     "duration": 0.029357,
     "end_time": "2022-02-21T00:28:52.148733",
     "exception": false,
     "start_time": "2022-02-21T00:28:52.119376",
     "status": "completed"
    },
    "tags": []
   },
   "source": [
    "### Let us create a `Config` class, to store important parameters. \n",
    "This class essentially plays the role of a dictionary."
   ]
  },
  {
   "cell_type": "code",
   "execution_count": 16,
   "id": "978281aa",
   "metadata": {
    "execution": {
     "iopub.execute_input": "2022-02-21T00:28:52.213642Z",
     "iopub.status.busy": "2022-02-21T00:28:52.212339Z",
     "iopub.status.idle": "2022-02-21T00:28:52.226521Z",
     "shell.execute_reply": "2022-02-21T00:28:52.226067Z"
    },
    "papermill": {
     "duration": 0.048392,
     "end_time": "2022-02-21T00:28:52.226638",
     "exception": false,
     "start_time": "2022-02-21T00:28:52.178246",
     "status": "completed"
    },
    "tags": []
   },
   "outputs": [],
   "source": [
    "class Config:\n",
    "    pass\n",
    "config = Config()\n",
    "config.lr = 0.001\n",
    "config.num_epochs = 250\n",
    "config.bs = 50"
   ]
  },
  {
   "cell_type": "markdown",
   "id": "1385fa59",
   "metadata": {
    "papermill": {
     "duration": 0.030144,
     "end_time": "2022-02-21T00:28:52.286120",
     "exception": false,
     "start_time": "2022-02-21T00:28:52.255976",
     "status": "completed"
    },
    "tags": []
   },
   "source": [
    "### Running Models with the Training data\n",
    "Details about the network layers:\n",
    "- A first affine layer has 784 inputs and does 100 affine transforms. These are followed by a Relu\n",
    "- A second affine layer has 100 inputs from the 100 activations of the past layer, and does 100 affine transforms. These are followed by a Relu\n",
    "- A third affine layer has 100 activations and does 2 affine transformations to create an embedding for visualization. There is no non-linearity here.\n",
    "- A final \"logistic regression\" which has an affine transform from 2 inputs to 1 output, which is squeezed through a sigmoid.\n"
   ]
  },
  {
   "cell_type": "code",
   "execution_count": 17,
   "id": "2b9c66db",
   "metadata": {
    "execution": {
     "iopub.execute_input": "2022-02-21T00:28:52.355053Z",
     "iopub.status.busy": "2022-02-21T00:28:52.354443Z",
     "iopub.status.idle": "2022-02-21T00:28:52.366538Z",
     "shell.execute_reply": "2022-02-21T00:28:52.366047Z"
    },
    "papermill": {
     "duration": 0.051287,
     "end_time": "2022-02-21T00:28:52.366644",
     "exception": false,
     "start_time": "2022-02-21T00:28:52.315357",
     "status": "completed"
    },
    "tags": []
   },
   "outputs": [],
   "source": [
    "data = Data(X_train, y_train.reshape(-1,1))\n",
    "sampler = Sampler(data, config.bs, shuffle=True)\n",
    "\n",
    "dl = Dataloader(data, sampler)\n",
    "\n",
    "opt = GD(config.lr)\n",
    "loss = MSE()"
   ]
  },
  {
   "cell_type": "code",
   "execution_count": 18,
   "id": "b275e4c2",
   "metadata": {
    "execution": {
     "iopub.execute_input": "2022-02-21T00:28:52.430988Z",
     "iopub.status.busy": "2022-02-21T00:28:52.430399Z",
     "iopub.status.idle": "2022-02-21T00:28:52.443151Z",
     "shell.execute_reply": "2022-02-21T00:28:52.442711Z"
    },
    "papermill": {
     "duration": 0.046469,
     "end_time": "2022-02-21T00:28:52.443260",
     "exception": false,
     "start_time": "2022-02-21T00:28:52.396791",
     "status": "completed"
    },
    "tags": []
   },
   "outputs": [],
   "source": [
    "training_data_x = X_train\n",
    "testing_data_x = X_test\n",
    "training_data_y = y_train.reshape(-1,1)\n",
    "testing_data_y = y_test.reshape(-1,1)"
   ]
  },
  {
   "cell_type": "code",
   "execution_count": 19,
   "id": "76951160",
   "metadata": {
    "execution": {
     "iopub.execute_input": "2022-02-21T00:28:52.507307Z",
     "iopub.status.busy": "2022-02-21T00:28:52.506719Z",
     "iopub.status.idle": "2022-02-21T00:28:52.524563Z",
     "shell.execute_reply": "2022-02-21T00:28:52.524096Z"
    },
    "papermill": {
     "duration": 0.052196,
     "end_time": "2022-02-21T00:28:52.524672",
     "exception": false,
     "start_time": "2022-02-21T00:28:52.472476",
     "status": "completed"
    },
    "tags": []
   },
   "outputs": [
    {
     "name": "stdout",
     "output_type": "stream",
     "text": [
      "xavier\n",
      "xavier\n",
      "xavier\n",
      "xavier\n",
      "xavier\n"
     ]
    }
   ],
   "source": [
    "layers = [Affine(\"first\", 784, 100), Relu(\"first\"), Affine(\"second\", 100, 100), Relu(\"second\"), Affine(\"third\", 100, 2), Affine(\"last\", 2, 1), Sigmoid(\"last\")]\n",
    "model_nn = Model(layers)\n",
    "model_lr = Model([Affine(\"logits\", 784, 1), Sigmoid(\"sigmoid\")])"
   ]
  },
  {
   "cell_type": "code",
   "execution_count": 20,
   "id": "6eede77a",
   "metadata": {
    "execution": {
     "iopub.execute_input": "2022-02-21T00:28:52.591415Z",
     "iopub.status.busy": "2022-02-21T00:28:52.590829Z",
     "iopub.status.idle": "2022-02-21T00:28:52.606088Z",
     "shell.execute_reply": "2022-02-21T00:28:52.605581Z"
    },
    "papermill": {
     "duration": 0.050978,
     "end_time": "2022-02-21T00:28:52.606209",
     "exception": false,
     "start_time": "2022-02-21T00:28:52.555231",
     "status": "completed"
    },
    "tags": []
   },
   "outputs": [],
   "source": [
    "nn_learner = Learner(loss, model_nn, opt, config.num_epochs)\n",
    "acc_nn = ClfCallback(nn_learner, config.bs, training_data_x , testing_data_x, training_data_y, testing_data_y)\n",
    "nn_learner.set_callbacks([acc_nn])"
   ]
  },
  {
   "cell_type": "code",
   "execution_count": 21,
   "id": "877b6cc7",
   "metadata": {
    "execution": {
     "iopub.execute_input": "2022-02-21T00:28:52.672766Z",
     "iopub.status.busy": "2022-02-21T00:28:52.672202Z",
     "iopub.status.idle": "2022-02-21T00:28:52.687274Z",
     "shell.execute_reply": "2022-02-21T00:28:52.686832Z"
    },
    "papermill": {
     "duration": 0.050608,
     "end_time": "2022-02-21T00:28:52.687401",
     "exception": false,
     "start_time": "2022-02-21T00:28:52.636793",
     "status": "completed"
    },
    "tags": []
   },
   "outputs": [],
   "source": [
    "lr_learner = Learner(loss, model_lr, opt, config.num_epochs)\n",
    "acc_lr = ClfCallback(lr_learner, config.bs, training_data_x , testing_data_x, training_data_y, testing_data_y)\n",
    "lr_learner.set_callbacks([acc_lr])"
   ]
  },
  {
   "cell_type": "code",
   "execution_count": 22,
   "id": "d9b133c3",
   "metadata": {
    "execution": {
     "iopub.execute_input": "2022-02-21T00:28:52.753254Z",
     "iopub.status.busy": "2022-02-21T00:28:52.752708Z",
     "iopub.status.idle": "2022-02-21T00:30:17.843887Z",
     "shell.execute_reply": "2022-02-21T00:30:17.844777Z"
    },
    "papermill": {
     "duration": 85.126535,
     "end_time": "2022-02-21T00:30:17.844944",
     "exception": false,
     "start_time": "2022-02-21T00:28:52.718409",
     "status": "completed"
    },
    "tags": []
   },
   "outputs": [
    {
     "name": "stdout",
     "output_type": "stream",
     "text": [
      "Epoch 0, Loss 0.2437\n",
      "Training Accuracy: 0.5120, Testing Accuracy: 0.5252\n",
      "\n"
     ]
    },
    {
     "name": "stdout",
     "output_type": "stream",
     "text": [
      "Epoch 10, Loss 0.1479\n",
      "Training Accuracy: 0.8983, Testing Accuracy: 0.9052\n",
      "\n"
     ]
    },
    {
     "name": "stdout",
     "output_type": "stream",
     "text": [
      "Epoch 20, Loss 0.0746\n",
      "Training Accuracy: 0.9291, Testing Accuracy: 0.9370\n",
      "\n"
     ]
    },
    {
     "name": "stdout",
     "output_type": "stream",
     "text": [
      "Epoch 30, Loss 0.0527\n",
      "Training Accuracy: 0.9443, Testing Accuracy: 0.9546\n",
      "\n"
     ]
    },
    {
     "name": "stdout",
     "output_type": "stream",
     "text": [
      "Epoch 40, Loss 0.0431\n",
      "Training Accuracy: 0.9527, Testing Accuracy: 0.9612\n",
      "\n"
     ]
    },
    {
     "name": "stdout",
     "output_type": "stream",
     "text": [
      "Epoch 50, Loss 0.0379\n",
      "Training Accuracy: 0.9583, Testing Accuracy: 0.9642\n",
      "\n"
     ]
    },
    {
     "name": "stdout",
     "output_type": "stream",
     "text": [
      "Epoch 60, Loss 0.0346\n",
      "Training Accuracy: 0.9613, Testing Accuracy: 0.9672\n",
      "\n"
     ]
    },
    {
     "name": "stdout",
     "output_type": "stream",
     "text": [
      "Epoch 70, Loss 0.0323\n",
      "Training Accuracy: 0.9630, Testing Accuracy: 0.9677\n",
      "\n"
     ]
    },
    {
     "name": "stdout",
     "output_type": "stream",
     "text": [
      "Epoch 80, Loss 0.0306\n",
      "Training Accuracy: 0.9653, Testing Accuracy: 0.9682\n",
      "\n"
     ]
    },
    {
     "name": "stdout",
     "output_type": "stream",
     "text": [
      "Epoch 90, Loss 0.0291\n",
      "Training Accuracy: 0.9666, Testing Accuracy: 0.9688\n",
      "\n"
     ]
    },
    {
     "name": "stdout",
     "output_type": "stream",
     "text": [
      "Epoch 100, Loss 0.0279\n",
      "Training Accuracy: 0.9680, Testing Accuracy: 0.9677\n",
      "\n"
     ]
    },
    {
     "name": "stdout",
     "output_type": "stream",
     "text": [
      "Epoch 110, Loss 0.0269\n",
      "Training Accuracy: 0.9690, Testing Accuracy: 0.9677\n",
      "\n"
     ]
    },
    {
     "name": "stdout",
     "output_type": "stream",
     "text": [
      "Epoch 120, Loss 0.026\n",
      "Training Accuracy: 0.9700, Testing Accuracy: 0.9682\n",
      "\n"
     ]
    },
    {
     "name": "stdout",
     "output_type": "stream",
     "text": [
      "Epoch 130, Loss 0.0252\n",
      "Training Accuracy: 0.9707, Testing Accuracy: 0.9693\n",
      "\n"
     ]
    },
    {
     "name": "stdout",
     "output_type": "stream",
     "text": [
      "Epoch 140, Loss 0.0244\n",
      "Training Accuracy: 0.9714, Testing Accuracy: 0.9698\n",
      "\n"
     ]
    },
    {
     "name": "stdout",
     "output_type": "stream",
     "text": [
      "Epoch 150, Loss 0.0237\n",
      "Training Accuracy: 0.9720, Testing Accuracy: 0.9708\n",
      "\n"
     ]
    },
    {
     "name": "stdout",
     "output_type": "stream",
     "text": [
      "Epoch 160, Loss 0.0231\n",
      "Training Accuracy: 0.9726, Testing Accuracy: 0.9708\n",
      "\n"
     ]
    },
    {
     "name": "stdout",
     "output_type": "stream",
     "text": [
      "Epoch 170, Loss 0.0225\n",
      "Training Accuracy: 0.9737, Testing Accuracy: 0.9713\n",
      "\n"
     ]
    },
    {
     "name": "stdout",
     "output_type": "stream",
     "text": [
      "Epoch 180, Loss 0.022\n",
      "Training Accuracy: 0.9745, Testing Accuracy: 0.9713\n",
      "\n"
     ]
    },
    {
     "name": "stdout",
     "output_type": "stream",
     "text": [
      "Epoch 190, Loss 0.0215\n",
      "Training Accuracy: 0.9752, Testing Accuracy: 0.9723\n",
      "\n"
     ]
    },
    {
     "name": "stdout",
     "output_type": "stream",
     "text": [
      "Epoch 200, Loss 0.021\n",
      "Training Accuracy: 0.9759, Testing Accuracy: 0.9718\n",
      "\n"
     ]
    },
    {
     "name": "stdout",
     "output_type": "stream",
     "text": [
      "Epoch 210, Loss 0.0205\n",
      "Training Accuracy: 0.9762, Testing Accuracy: 0.9738\n",
      "\n"
     ]
    },
    {
     "name": "stdout",
     "output_type": "stream",
     "text": [
      "Epoch 220, Loss 0.0201\n",
      "Training Accuracy: 0.9767, Testing Accuracy: 0.9738\n",
      "\n"
     ]
    },
    {
     "name": "stdout",
     "output_type": "stream",
     "text": [
      "Epoch 230, Loss 0.0197\n",
      "Training Accuracy: 0.9769, Testing Accuracy: 0.9733\n",
      "\n"
     ]
    },
    {
     "name": "stdout",
     "output_type": "stream",
     "text": [
      "Epoch 240, Loss 0.0193\n",
      "Training Accuracy: 0.9781, Testing Accuracy: 0.9738\n",
      "\n"
     ]
    },
    {
     "data": {
      "text/plain": [
       "0.0684298418078438"
      ]
     },
     "execution_count": 22,
     "metadata": {},
     "output_type": "execute_result"
    }
   ],
   "source": [
    "nn_learner.train_loop(dl)"
   ]
  },
  {
   "cell_type": "code",
   "execution_count": 23,
   "id": "e0163366",
   "metadata": {
    "execution": {
     "iopub.execute_input": "2022-02-21T00:30:17.939579Z",
     "iopub.status.busy": "2022-02-21T00:30:17.938664Z",
     "iopub.status.idle": "2022-02-21T00:30:33.174631Z",
     "shell.execute_reply": "2022-02-21T00:30:33.175420Z"
    },
    "papermill": {
     "duration": 15.290849,
     "end_time": "2022-02-21T00:30:33.175583",
     "exception": false,
     "start_time": "2022-02-21T00:30:17.884734",
     "status": "completed"
    },
    "tags": []
   },
   "outputs": [
    {
     "name": "stdout",
     "output_type": "stream",
     "text": [
      "Epoch 0, Loss 0.2317\n",
      "Training Accuracy: 0.7228, Testing Accuracy: 0.7077\n",
      "\n"
     ]
    },
    {
     "name": "stdout",
     "output_type": "stream",
     "text": [
      "Epoch 10, Loss 0.1034\n",
      "Training Accuracy: 0.9100, Testing Accuracy: 0.9189\n",
      "\n"
     ]
    },
    {
     "name": "stdout",
     "output_type": "stream",
     "text": [
      "Epoch 20, Loss 0.0792\n",
      "Training Accuracy: 0.9288, Testing Accuracy: 0.9446\n",
      "\n"
     ]
    },
    {
     "name": "stdout",
     "output_type": "stream",
     "text": [
      "Epoch 30, Loss 0.0679\n",
      "Training Accuracy: 0.9383, Testing Accuracy: 0.9476\n",
      "\n"
     ]
    },
    {
     "name": "stdout",
     "output_type": "stream",
     "text": [
      "Epoch 40, Loss 0.0612\n",
      "Training Accuracy: 0.9429, Testing Accuracy: 0.9541\n",
      "\n"
     ]
    },
    {
     "name": "stdout",
     "output_type": "stream",
     "text": [
      "Epoch 50, Loss 0.0567\n",
      "Training Accuracy: 0.9471, Testing Accuracy: 0.9587\n",
      "\n"
     ]
    },
    {
     "name": "stdout",
     "output_type": "stream",
     "text": [
      "Epoch 60, Loss 0.0533\n",
      "Training Accuracy: 0.9502, Testing Accuracy: 0.9602\n",
      "\n"
     ]
    },
    {
     "name": "stdout",
     "output_type": "stream",
     "text": [
      "Epoch 70, Loss 0.0508\n",
      "Training Accuracy: 0.9519, Testing Accuracy: 0.9617\n",
      "\n"
     ]
    },
    {
     "name": "stdout",
     "output_type": "stream",
     "text": [
      "Epoch 80, Loss 0.0487\n",
      "Training Accuracy: 0.9531, Testing Accuracy: 0.9617\n",
      "\n"
     ]
    },
    {
     "name": "stdout",
     "output_type": "stream",
     "text": [
      "Epoch 90, Loss 0.047\n",
      "Training Accuracy: 0.9539, Testing Accuracy: 0.9622\n",
      "\n"
     ]
    },
    {
     "name": "stdout",
     "output_type": "stream",
     "text": [
      "Epoch 100, Loss 0.0456\n",
      "Training Accuracy: 0.9547, Testing Accuracy: 0.9642\n",
      "\n"
     ]
    },
    {
     "name": "stdout",
     "output_type": "stream",
     "text": [
      "Epoch 110, Loss 0.0444\n",
      "Training Accuracy: 0.9554, Testing Accuracy: 0.9657\n",
      "\n"
     ]
    },
    {
     "name": "stdout",
     "output_type": "stream",
     "text": [
      "Epoch 120, Loss 0.0434\n",
      "Training Accuracy: 0.9560, Testing Accuracy: 0.9662\n",
      "\n"
     ]
    },
    {
     "name": "stdout",
     "output_type": "stream",
     "text": [
      "Epoch 130, Loss 0.0425\n",
      "Training Accuracy: 0.9571, Testing Accuracy: 0.9667\n",
      "\n"
     ]
    },
    {
     "name": "stdout",
     "output_type": "stream",
     "text": [
      "Epoch 140, Loss 0.0416\n",
      "Training Accuracy: 0.9579, Testing Accuracy: 0.9677\n",
      "\n"
     ]
    },
    {
     "name": "stdout",
     "output_type": "stream",
     "text": [
      "Epoch 150, Loss 0.0409\n",
      "Training Accuracy: 0.9583, Testing Accuracy: 0.9672\n",
      "\n"
     ]
    },
    {
     "name": "stdout",
     "output_type": "stream",
     "text": [
      "Epoch 160, Loss 0.0402\n",
      "Training Accuracy: 0.9584, Testing Accuracy: 0.9672\n",
      "\n"
     ]
    },
    {
     "name": "stdout",
     "output_type": "stream",
     "text": [
      "Epoch 170, Loss 0.0396\n",
      "Training Accuracy: 0.9590, Testing Accuracy: 0.9682\n",
      "\n"
     ]
    },
    {
     "name": "stdout",
     "output_type": "stream",
     "text": [
      "Epoch 180, Loss 0.0391\n",
      "Training Accuracy: 0.9596, Testing Accuracy: 0.9688\n",
      "\n"
     ]
    },
    {
     "name": "stdout",
     "output_type": "stream",
     "text": [
      "Epoch 190, Loss 0.0386\n",
      "Training Accuracy: 0.9604, Testing Accuracy: 0.9693\n",
      "\n"
     ]
    },
    {
     "name": "stdout",
     "output_type": "stream",
     "text": [
      "Epoch 200, Loss 0.0381\n",
      "Training Accuracy: 0.9604, Testing Accuracy: 0.9693\n",
      "\n"
     ]
    },
    {
     "name": "stdout",
     "output_type": "stream",
     "text": [
      "Epoch 210, Loss 0.0377\n",
      "Training Accuracy: 0.9605, Testing Accuracy: 0.9698\n",
      "\n"
     ]
    },
    {
     "name": "stdout",
     "output_type": "stream",
     "text": [
      "Epoch 220, Loss 0.0373\n",
      "Training Accuracy: 0.9607, Testing Accuracy: 0.9698\n",
      "\n"
     ]
    },
    {
     "name": "stdout",
     "output_type": "stream",
     "text": [
      "Epoch 230, Loss 0.0369\n",
      "Training Accuracy: 0.9609, Testing Accuracy: 0.9693\n",
      "\n"
     ]
    },
    {
     "name": "stdout",
     "output_type": "stream",
     "text": [
      "Epoch 240, Loss 0.0365\n",
      "Training Accuracy: 0.9612, Testing Accuracy: 0.9688\n",
      "\n"
     ]
    },
    {
     "data": {
      "text/plain": [
       "0.0626499893871589"
      ]
     },
     "execution_count": 23,
     "metadata": {},
     "output_type": "execute_result"
    }
   ],
   "source": [
    "lr_learner.train_loop(dl)"
   ]
  },
  {
   "cell_type": "code",
   "execution_count": 24,
   "id": "ca410940",
   "metadata": {
    "execution": {
     "iopub.execute_input": "2022-02-21T00:30:33.275256Z",
     "iopub.status.busy": "2022-02-21T00:30:33.274643Z",
     "iopub.status.idle": "2022-02-21T00:30:33.536922Z",
     "shell.execute_reply": "2022-02-21T00:30:33.536343Z"
    },
    "papermill": {
     "duration": 0.314401,
     "end_time": "2022-02-21T00:30:33.537054",
     "exception": false,
     "start_time": "2022-02-21T00:30:33.222653",
     "status": "completed"
    },
    "tags": []
   },
   "outputs": [
    {
     "data": {
      "text/plain": [
       "<matplotlib.legend.Legend at 0x7fc3085cecc0>"
      ]
     },
     "execution_count": 24,
     "metadata": {},
     "output_type": "execute_result"
    },
    {
     "data": {
      "image/png": "[encoded data removed]",
      "text/plain": [
       "<Figure size 1080x720 with 1 Axes>"
      ]
     },
     "metadata": {
      "needs_background": "light"
     },
     "output_type": "display_data"
    }
   ],
   "source": [
    "#comparing the results of NN and LR\n",
    "plt.figure(figsize=(15,10))\n",
    "\n",
    "# Neural Network plots\n",
    "plt.plot(acc_nn.accuracies, 'r-', label = \"Training Accuracies - NN\")\n",
    "plt.plot(acc_nn.test_accuracies, 'g-', label = \"Testing Accuracies - NN\")\n",
    "\n",
    "# Logistic Regression plots\n",
    "plt.plot(acc_lr.accuracies, 'k-', label = \"Training Accuracies - LR\")\n",
    "plt.plot(acc_lr.test_accuracies, 'b-', label = \"Testing Accuracies - LR\")\n",
    "plt.legend()"
   ]
  },
  {
   "cell_type": "markdown",
   "id": "80dfb35c",
   "metadata": {
    "papermill": {
     "duration": 0.047502,
     "end_time": "2022-02-21T00:30:33.632777",
     "exception": false,
     "start_time": "2022-02-21T00:30:33.585275",
     "status": "completed"
    },
    "tags": []
   },
   "source": [
    "#### Plotting the outputs of this layer of the NN.\n"
   ]
  },
  {
   "cell_type": "code",
   "execution_count": 25,
   "id": "45eb2ff5",
   "metadata": {
    "execution": {
     "iopub.execute_input": "2022-02-21T00:30:33.732319Z",
     "iopub.status.busy": "2022-02-21T00:30:33.731707Z",
     "iopub.status.idle": "2022-02-21T00:30:33.755467Z",
     "shell.execute_reply": "2022-02-21T00:30:33.755958Z"
    },
    "papermill": {
     "duration": 0.075609,
     "end_time": "2022-02-21T00:30:33.756112",
     "exception": false,
     "start_time": "2022-02-21T00:30:33.680503",
     "status": "completed"
    },
    "tags": []
   },
   "outputs": [],
   "source": [
    "new_model = Model(layers[:-2])\n",
    "testing_plot = new_model(testing_data_x)"
   ]
  },
  {
   "cell_type": "code",
   "execution_count": 26,
   "id": "4c0a5485",
   "metadata": {
    "execution": {
     "iopub.execute_input": "2022-02-21T00:30:33.862366Z",
     "iopub.status.busy": "2022-02-21T00:30:33.858344Z",
     "iopub.status.idle": "2022-02-21T00:30:34.105096Z",
     "shell.execute_reply": "2022-02-21T00:30:34.105573Z"
    },
    "papermill": {
     "duration": 0.300484,
     "end_time": "2022-02-21T00:30:34.105749",
     "exception": false,
     "start_time": "2022-02-21T00:30:33.805265",
     "status": "completed"
    },
    "tags": []
   },
   "outputs": [
    {
     "data": {
      "text/plain": [
       "Text(0.5, 1.0, 'Outputs')"
      ]
     },
     "execution_count": 26,
     "metadata": {},
     "output_type": "execute_result"
    },
    {
     "data": {
      "image/png": "[encoded data removed]",
      "text/plain": [
       "<Figure size 576x504 with 1 Axes>"
      ]
     },
     "metadata": {
      "needs_background": "light"
     },
     "output_type": "display_data"
    }
   ],
   "source": [
    "# Plotting the scatter plot of points and color coding by class\n",
    "plt.figure(figsize=(8,7))\n",
    "plt.scatter(testing_plot[:,0], testing_plot[:,1], alpha = 0.1, c = y_test.ravel());\n",
    "plt.title('Outputs')"
   ]
  },
  {
   "cell_type": "markdown",
   "id": "a74fcf8f",
   "metadata": {
    "papermill": {
     "duration": 0.050806,
     "end_time": "2022-02-21T00:30:34.206133",
     "exception": false,
     "start_time": "2022-02-21T00:30:34.155327",
     "status": "completed"
    },
    "tags": []
   },
   "source": [
    "Probability contours"
   ]
  },
  {
   "cell_type": "code",
   "execution_count": 27,
   "id": "d0afc8e3",
   "metadata": {
    "execution": {
     "iopub.execute_input": "2022-02-21T00:30:34.343127Z",
     "iopub.status.busy": "2022-02-21T00:30:34.342543Z",
     "iopub.status.idle": "2022-02-21T00:30:34.356331Z",
     "shell.execute_reply": "2022-02-21T00:30:34.356803Z"
    },
    "papermill": {
     "duration": 0.099889,
     "end_time": "2022-02-21T00:30:34.356944",
     "exception": false,
     "start_time": "2022-02-21T00:30:34.257055",
     "status": "completed"
    },
    "tags": []
   },
   "outputs": [],
   "source": [
    "model_prob = Model(layers[-2:]) "
   ]
  },
  {
   "cell_type": "code",
   "execution_count": 28,
   "id": "9b96e238",
   "metadata": {
    "execution": {
     "iopub.execute_input": "2022-02-21T00:30:34.461695Z",
     "iopub.status.busy": "2022-02-21T00:30:34.461074Z",
     "iopub.status.idle": "2022-02-21T00:30:34.478270Z",
     "shell.execute_reply": "2022-02-21T00:30:34.478819Z"
    },
    "papermill": {
     "duration": 0.072406,
     "end_time": "2022-02-21T00:30:34.478953",
     "exception": false,
     "start_time": "2022-02-21T00:30:34.406547",
     "status": "completed"
    },
    "tags": []
   },
   "outputs": [],
   "source": [
    "#creating the x and y ranges according to the above generated plot.\n",
    "x_range = np.linspace(-4, 1, 100) \n",
    "y_range = np.linspace(-6, 6, 100) \n",
    "x_grid, y_grid = np.meshgrid(x_range, y_range) # x_grid and y_grig are of size 100 X 100\n",
    "\n",
    "# converting x_grid and y_grid to continuous arrays\n",
    "x_gridflat = np.ravel(x_grid)\n",
    "y_gridflat = np.ravel(y_grid)\n",
    "\n",
    "# The last layer of the current model takes two columns as input. Hence transpose of np.vstack() is required.\n",
    "X = np.vstack((x_gridflat, y_gridflat)).T\n",
    "\n",
    "prob_contour = model_prob(X).reshape(100,100) "
   ]
  },
  {
   "cell_type": "code",
   "execution_count": 29,
   "id": "da72499a",
   "metadata": {
    "execution": {
     "iopub.execute_input": "2022-02-21T00:30:34.583997Z",
     "iopub.status.busy": "2022-02-21T00:30:34.583397Z",
     "iopub.status.idle": "2022-02-21T00:30:34.885116Z",
     "shell.execute_reply": "2022-02-21T00:30:34.884615Z"
    },
    "papermill": {
     "duration": 0.355614,
     "end_time": "2022-02-21T00:30:34.885261",
     "exception": false,
     "start_time": "2022-02-21T00:30:34.529647",
     "status": "completed"
    },
    "tags": []
   },
   "outputs": [
    {
     "data": {
      "image/png": "[encoded data removed]",
      "text/plain": [
       "<Figure size 720x648 with 1 Axes>"
      ]
     },
     "metadata": {
      "needs_background": "light"
     },
     "output_type": "display_data"
    }
   ],
   "source": [
    "plt.figure(figsize=(10,9))\n",
    "plt.scatter(testing_plot[:,0], testing_plot[:,1], alpha = 0.1, c = y_test.ravel())\n",
    "contours = plt.contour(x_grid,y_grid,prob_contour)\n",
    "plt.title('Probability Contours')\n",
    "plt.clabel(contours, inline = True );"
   ]
  },
  {
   "cell_type": "code",
   "execution_count": null,
   "id": "e81b4ac7",
   "metadata": {
    "papermill": {
     "duration": 0.053769,
     "end_time": "2022-02-21T00:30:34.992819",
     "exception": false,
     "start_time": "2022-02-21T00:30:34.939050",
     "status": "completed"
    },
    "tags": []
   },
   "outputs": [],
   "source": []
  }
 ],
 "metadata": {
  "kernelspec": {
   "display_name": "Python 3",
   "language": "python",
   "name": "python3"
  },
  "language_info": {
   "codemirror_mode": {
    "name": "ipython",
    "version": 3
   },
   "file_extension": ".py",
   "mimetype": "text/x-python",
   "name": "python",
   "nbconvert_exporter": "python",
   "pygments_lexer": "ipython3",
   "version": "3.6.15"
  },
  "papermill": {
   "default_parameters": {},
   "duration": 110.464839,
   "end_time": "2022-02-21T00:30:35.467157",
   "environment_variables": {},
   "exception": null,
   "input_path": "2020-08-11-part2.ipynb",
   "output_path": "2020-08-11-part2.ipynb",
   "parameters": {},
   "start_time": "2022-02-21T00:28:45.002318",
   "version": "2.3.3"
  }
 },
 "nbformat": 4,
 "nbformat_minor": 5
}