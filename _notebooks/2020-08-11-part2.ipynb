{
 "cells": [
  {
   "cell_type": "markdown",
   "id": "98380cd3",
   "metadata": {
    "papermill": {
     "duration": 0.043448,
     "end_time": "2021-10-31T00:23:09.871019",
     "exception": false,
     "start_time": "2021-10-31T00:23:09.827571",
     "status": "completed"
    },
    "tags": []
   },
   "source": [
    "# Distinguish Your Own Digits (DYOD)"
   ]
  },
  {
   "cell_type": "markdown",
   "id": "ef31240d",
   "metadata": {
    "papermill": {
     "duration": 0.030899,
     "end_time": "2021-10-31T00:23:09.935529",
     "exception": false,
     "start_time": "2021-10-31T00:23:09.904630",
     "status": "completed"
    },
    "tags": []
   },
   "source": [
    "You are going to write a classifier that distinguishes between the number 3 and number 8."
   ]
  },
  {
   "cell_type": "code",
   "execution_count": 1,
   "id": "b15c8646",
   "metadata": {
    "execution": {
     "iopub.execute_input": "2021-10-31T00:23:10.010225Z",
     "iopub.status.busy": "2021-10-31T00:23:10.004183Z",
     "iopub.status.idle": "2021-10-31T00:23:10.021810Z",
     "shell.execute_reply": "2021-10-31T00:23:10.022339Z"
    },
    "papermill": {
     "duration": 0.057151,
     "end_time": "2021-10-31T00:23:10.022519",
     "exception": false,
     "start_time": "2021-10-31T00:23:09.965368",
     "status": "completed"
    },
    "tags": []
   },
   "outputs": [],
   "source": [
    "%load_ext autoreload\n",
    "%autoreload 2"
   ]
  },
  {
   "cell_type": "code",
   "execution_count": 2,
   "id": "22ef38dc",
   "metadata": {
    "execution": {
     "iopub.execute_input": "2021-10-31T00:23:10.092165Z",
     "iopub.status.busy": "2021-10-31T00:23:10.091529Z",
     "iopub.status.idle": "2021-10-31T00:23:10.706419Z",
     "shell.execute_reply": "2021-10-31T00:23:10.705511Z"
    },
    "papermill": {
     "duration": 0.652267,
     "end_time": "2021-10-31T00:23:10.706596",
     "exception": false,
     "start_time": "2021-10-31T00:23:10.054329",
     "status": "completed"
    },
    "tags": []
   },
   "outputs": [],
   "source": [
    "%matplotlib inline\n",
    "import numpy as np\n",
    "import matplotlib.pyplot as plt\n",
    "import pandas as pd"
   ]
  },
  {
   "cell_type": "markdown",
   "id": "ba036198",
   "metadata": {
    "papermill": {
     "duration": 0.030503,
     "end_time": "2021-10-31T00:23:10.772543",
     "exception": false,
     "start_time": "2021-10-31T00:23:10.742040",
     "status": "completed"
    },
    "tags": []
   },
   "source": [
    "From the command line run `pip install mnist`. This is a library that will help you bring down the mnist dataset. If you run this from a notebook, you need to put  `!pip install mnist` in a cell by itself."
   ]
  },
  {
   "cell_type": "code",
   "execution_count": 3,
   "id": "bb6ad8a1",
   "metadata": {
    "execution": {
     "iopub.execute_input": "2021-10-31T00:23:10.840729Z",
     "iopub.status.busy": "2021-10-31T00:23:10.840008Z",
     "iopub.status.idle": "2021-10-31T00:23:13.543121Z",
     "shell.execute_reply": "2021-10-31T00:23:13.543669Z"
    },
    "papermill": {
     "duration": 2.739006,
     "end_time": "2021-10-31T00:23:13.543841",
     "exception": false,
     "start_time": "2021-10-31T00:23:10.804835",
     "status": "completed"
    },
    "tags": []
   },
   "outputs": [
    {
     "name": "stdout",
     "output_type": "stream",
     "text": [
      "Collecting mnist\r\n"
     ]
    },
    {
     "name": "stdout",
     "output_type": "stream",
     "text": [
      "  Downloading mnist-0.2.2-py2.py3-none-any.whl (3.5 kB)\r\n",
      "Requirement already satisfied: numpy in /opt/hostedtoolcache/Python/3.6.15/x64/lib/python3.6/site-packages (from mnist) (1.19.5)\r\n"
     ]
    },
    {
     "name": "stdout",
     "output_type": "stream",
     "text": [
      "Installing collected packages: mnist\r\n"
     ]
    },
    {
     "name": "stdout",
     "output_type": "stream",
     "text": [
      "Successfully installed mnist-0.2.2\r\n"
     ]
    },
    {
     "name": "stdout",
     "output_type": "stream",
     "text": [
      "\u001b[33mWARNING: You are using pip version 21.3; however, version 21.3.1 is available.\r\n",
      "You should consider upgrading via the '/opt/hostedtoolcache/Python/3.6.15/x64/bin/python -m pip install --upgrade pip' command.\u001b[0m\r\n"
     ]
    }
   ],
   "source": [
    "!pip install mnist"
   ]
  },
  {
   "cell_type": "markdown",
   "id": "69df9c9a",
   "metadata": {
    "papermill": {
     "duration": 0.032689,
     "end_time": "2021-10-31T00:23:13.610389",
     "exception": false,
     "start_time": "2021-10-31T00:23:13.577700",
     "status": "completed"
    },
    "tags": []
   },
   "source": [
    "## Preparing the Data"
   ]
  },
  {
   "cell_type": "code",
   "execution_count": 4,
   "id": "7f69d806",
   "metadata": {
    "execution": {
     "iopub.execute_input": "2021-10-31T00:23:13.682073Z",
     "iopub.status.busy": "2021-10-31T00:23:13.681405Z",
     "iopub.status.idle": "2021-10-31T00:23:13.697781Z",
     "shell.execute_reply": "2021-10-31T00:23:13.697250Z"
    },
    "papermill": {
     "duration": 0.055162,
     "end_time": "2021-10-31T00:23:13.697909",
     "exception": false,
     "start_time": "2021-10-31T00:23:13.642747",
     "status": "completed"
    },
    "tags": []
   },
   "outputs": [],
   "source": [
    "import mnist"
   ]
  },
  {
   "cell_type": "code",
   "execution_count": 5,
   "id": "a411e44f",
   "metadata": {
    "execution": {
     "iopub.execute_input": "2021-10-31T00:23:13.772886Z",
     "iopub.status.busy": "2021-10-31T00:23:13.772016Z",
     "iopub.status.idle": "2021-10-31T00:23:14.347554Z",
     "shell.execute_reply": "2021-10-31T00:23:14.346996Z"
    },
    "papermill": {
     "duration": 0.613239,
     "end_time": "2021-10-31T00:23:14.347699",
     "exception": false,
     "start_time": "2021-10-31T00:23:13.734460",
     "status": "completed"
    },
    "tags": []
   },
   "outputs": [],
   "source": [
    "train_images = mnist.train_images()\n",
    "train_labels = mnist.train_labels()"
   ]
  },
  {
   "cell_type": "code",
   "execution_count": 6,
   "id": "dceab3a5",
   "metadata": {
    "execution": {
     "iopub.execute_input": "2021-10-31T00:23:14.428026Z",
     "iopub.status.busy": "2021-10-31T00:23:14.427142Z",
     "iopub.status.idle": "2021-10-31T00:23:14.443443Z",
     "shell.execute_reply": "2021-10-31T00:23:14.444303Z"
    },
    "papermill": {
     "duration": 0.057473,
     "end_time": "2021-10-31T00:23:14.444492",
     "exception": false,
     "start_time": "2021-10-31T00:23:14.387019",
     "status": "completed"
    },
    "tags": []
   },
   "outputs": [
    {
     "data": {
      "text/plain": [
       "((60000, 28, 28), (60000,))"
      ]
     },
     "execution_count": 6,
     "metadata": {},
     "output_type": "execute_result"
    }
   ],
   "source": [
    "train_images.shape, train_labels.shape"
   ]
  },
  {
   "cell_type": "code",
   "execution_count": 7,
   "id": "f50dc2bb",
   "metadata": {
    "execution": {
     "iopub.execute_input": "2021-10-31T00:23:14.516711Z",
     "iopub.status.busy": "2021-10-31T00:23:14.516041Z",
     "iopub.status.idle": "2021-10-31T00:23:14.653905Z",
     "shell.execute_reply": "2021-10-31T00:23:14.653353Z"
    },
    "papermill": {
     "duration": 0.17609,
     "end_time": "2021-10-31T00:23:14.654059",
     "exception": false,
     "start_time": "2021-10-31T00:23:14.477969",
     "status": "completed"
    },
    "tags": []
   },
   "outputs": [],
   "source": [
    "test_images = mnist.test_images()\n",
    "test_labels = mnist.test_labels()"
   ]
  },
  {
   "cell_type": "code",
   "execution_count": 8,
   "id": "fc38cf1b",
   "metadata": {
    "execution": {
     "iopub.execute_input": "2021-10-31T00:23:14.735460Z",
     "iopub.status.busy": "2021-10-31T00:23:14.734382Z",
     "iopub.status.idle": "2021-10-31T00:23:14.752681Z",
     "shell.execute_reply": "2021-10-31T00:23:14.752127Z"
    },
    "papermill": {
     "duration": 0.062351,
     "end_time": "2021-10-31T00:23:14.752824",
     "exception": false,
     "start_time": "2021-10-31T00:23:14.690473",
     "status": "completed"
    },
    "tags": []
   },
   "outputs": [
    {
     "data": {
      "text/plain": [
       "((10000, 28, 28), (10000,))"
      ]
     },
     "execution_count": 8,
     "metadata": {},
     "output_type": "execute_result"
    }
   ],
   "source": [
    "test_images.shape, test_labels.shape"
   ]
  },
  {
   "cell_type": "code",
   "execution_count": 9,
   "id": "f9ed8fe0",
   "metadata": {
    "execution": {
     "iopub.execute_input": "2021-10-31T00:23:14.820291Z",
     "iopub.status.busy": "2021-10-31T00:23:14.819671Z",
     "iopub.status.idle": "2021-10-31T00:23:15.003063Z",
     "shell.execute_reply": "2021-10-31T00:23:15.002527Z"
    },
    "papermill": {
     "duration": 0.219806,
     "end_time": "2021-10-31T00:23:15.003204",
     "exception": false,
     "start_time": "2021-10-31T00:23:14.783398",
     "status": "completed"
    },
    "tags": []
   },
   "outputs": [
    {
     "name": "stdout",
     "output_type": "stream",
     "text": [
      "2\n"
     ]
    },
    {
     "data": {
      "text/plain": [
       "<matplotlib.image.AxesImage at 0x7f81d9ab8f60>"
      ]
     },
     "execution_count": 9,
     "metadata": {},
     "output_type": "execute_result"
    },
    {
     "data": {
      "image/png": "[encoded data removed]",
      "text/plain": [
       "<Figure size 432x288 with 1 Axes>"
      ]
     },
     "metadata": {
      "needs_background": "light"
     },
     "output_type": "display_data"
    }
   ],
   "source": [
    "image_index = 7776 # You may select anything up to 60,000\n",
    "print(train_labels[image_index]) \n",
    "plt.imshow(train_images[image_index], cmap='Greys')"
   ]
  },
  {
   "cell_type": "markdown",
   "id": "a8d2388d",
   "metadata": {
    "papermill": {
     "duration": 0.03546,
     "end_time": "2021-10-31T00:23:15.073832",
     "exception": false,
     "start_time": "2021-10-31T00:23:15.038372",
     "status": "completed"
    },
    "tags": []
   },
   "source": [
    "## Filter data to get 3 and 8 out"
   ]
  },
  {
   "cell_type": "code",
   "execution_count": 10,
   "id": "776f7fc7",
   "metadata": {
    "execution": {
     "iopub.execute_input": "2021-10-31T00:23:15.149777Z",
     "iopub.status.busy": "2021-10-31T00:23:15.148063Z",
     "iopub.status.idle": "2021-10-31T00:23:15.167153Z",
     "shell.execute_reply": "2021-10-31T00:23:15.166389Z"
    },
    "papermill": {
     "duration": 0.058048,
     "end_time": "2021-10-31T00:23:15.167300",
     "exception": false,
     "start_time": "2021-10-31T00:23:15.109252",
     "status": "completed"
    },
    "tags": []
   },
   "outputs": [],
   "source": [
    "train_filter = np.where((train_labels == 3 ) | (train_labels == 8))\n",
    "test_filter = np.where((test_labels == 3) | (test_labels == 8))\n",
    "X_train, y_train = train_images[train_filter], train_labels[train_filter]\n",
    "X_test, y_test = test_images[test_filter], test_labels[test_filter]"
   ]
  },
  {
   "cell_type": "markdown",
   "id": "948f0b7e",
   "metadata": {
    "papermill": {
     "duration": 0.035825,
     "end_time": "2021-10-31T00:23:15.241746",
     "exception": false,
     "start_time": "2021-10-31T00:23:15.205921",
     "status": "completed"
    },
    "tags": []
   },
   "source": [
    "We normalize the pizel values in the 0 to 1 range"
   ]
  },
  {
   "cell_type": "code",
   "execution_count": 11,
   "id": "ee4c2166",
   "metadata": {
    "execution": {
     "iopub.execute_input": "2021-10-31T00:23:15.313352Z",
     "iopub.status.busy": "2021-10-31T00:23:15.311620Z",
     "iopub.status.idle": "2021-10-31T00:23:15.367850Z",
     "shell.execute_reply": "2021-10-31T00:23:15.366942Z"
    },
    "papermill": {
     "duration": 0.094657,
     "end_time": "2021-10-31T00:23:15.368058",
     "exception": false,
     "start_time": "2021-10-31T00:23:15.273401",
     "status": "completed"
    },
    "tags": []
   },
   "outputs": [],
   "source": [
    "X_train = X_train/255.\n",
    "X_test = X_test/255."
   ]
  },
  {
   "cell_type": "markdown",
   "id": "ddcf4fab",
   "metadata": {
    "papermill": {
     "duration": 0.031667,
     "end_time": "2021-10-31T00:23:15.433073",
     "exception": false,
     "start_time": "2021-10-31T00:23:15.401406",
     "status": "completed"
    },
    "tags": []
   },
   "source": [
    "And setup the labels as 1 (when the digit is 3) and 0 (when the digit is 8)"
   ]
  },
  {
   "cell_type": "code",
   "execution_count": 12,
   "id": "7dc908f2",
   "metadata": {
    "execution": {
     "iopub.execute_input": "2021-10-31T00:23:15.505756Z",
     "iopub.status.busy": "2021-10-31T00:23:15.505130Z",
     "iopub.status.idle": "2021-10-31T00:23:15.517435Z",
     "shell.execute_reply": "2021-10-31T00:23:15.516933Z"
    },
    "papermill": {
     "duration": 0.053031,
     "end_time": "2021-10-31T00:23:15.517570",
     "exception": false,
     "start_time": "2021-10-31T00:23:15.464539",
     "status": "completed"
    },
    "tags": []
   },
   "outputs": [],
   "source": [
    "y_train = 1*(y_train==3)\n",
    "y_test = 1*(y_test==3)"
   ]
  },
  {
   "cell_type": "code",
   "execution_count": 13,
   "id": "01e4e969",
   "metadata": {
    "execution": {
     "iopub.execute_input": "2021-10-31T00:23:15.585635Z",
     "iopub.status.busy": "2021-10-31T00:23:15.585014Z",
     "iopub.status.idle": "2021-10-31T00:23:15.600656Z",
     "shell.execute_reply": "2021-10-31T00:23:15.601155Z"
    },
    "papermill": {
     "duration": 0.051832,
     "end_time": "2021-10-31T00:23:15.601305",
     "exception": false,
     "start_time": "2021-10-31T00:23:15.549473",
     "status": "completed"
    },
    "tags": []
   },
   "outputs": [
    {
     "data": {
      "text/plain": [
       "((11982, 28, 28), (1984, 28, 28))"
      ]
     },
     "execution_count": 13,
     "metadata": {},
     "output_type": "execute_result"
    }
   ],
   "source": [
    "X_train.shape, X_test.shape"
   ]
  },
  {
   "cell_type": "markdown",
   "id": "5ccf3f85",
   "metadata": {
    "papermill": {
     "duration": 0.031919,
     "end_time": "2021-10-31T00:23:15.665133",
     "exception": false,
     "start_time": "2021-10-31T00:23:15.633214",
     "status": "completed"
    },
    "tags": []
   },
   "source": [
    "We reshape the data to flatten the image pixels into a set of features or co-variates:"
   ]
  },
  {
   "cell_type": "code",
   "execution_count": 14,
   "id": "5286a4a3",
   "metadata": {
    "execution": {
     "iopub.execute_input": "2021-10-31T00:23:15.733865Z",
     "iopub.status.busy": "2021-10-31T00:23:15.733236Z",
     "iopub.status.idle": "2021-10-31T00:23:15.751748Z",
     "shell.execute_reply": "2021-10-31T00:23:15.751222Z"
    },
    "papermill": {
     "duration": 0.054718,
     "end_time": "2021-10-31T00:23:15.751877",
     "exception": false,
     "start_time": "2021-10-31T00:23:15.697159",
     "status": "completed"
    },
    "tags": []
   },
   "outputs": [
    {
     "data": {
      "text/plain": [
       "((11982, 784), (1984, 784))"
      ]
     },
     "execution_count": 14,
     "metadata": {},
     "output_type": "execute_result"
    }
   ],
   "source": [
    "X_train = X_train.reshape(X_train.shape[0], -1)\n",
    "X_test = X_test.reshape(X_test.shape[0], -1)\n",
    "X_train.shape, X_test.shape"
   ]
  },
  {
   "cell_type": "code",
   "execution_count": 15,
   "id": "73c5f88a",
   "metadata": {
    "execution": {
     "iopub.execute_input": "2021-10-31T00:23:15.822289Z",
     "iopub.status.busy": "2021-10-31T00:23:15.821668Z",
     "iopub.status.idle": "2021-10-31T00:23:15.848284Z",
     "shell.execute_reply": "2021-10-31T00:23:15.847616Z"
    },
    "papermill": {
     "duration": 0.064267,
     "end_time": "2021-10-31T00:23:15.848489",
     "exception": false,
     "start_time": "2021-10-31T00:23:15.784222",
     "status": "completed"
    },
    "tags": []
   },
   "outputs": [],
   "source": [
    "#Impoting functions from 'Kudzu'\n",
    "from kudzu.model import Model\n",
    "from kudzu.train import Learner\n",
    "from kudzu.optim import GD\n",
    "from kudzu.data import Data, Sampler,Dataloader\n",
    "\n",
    "from kudzu.callbacks import AccCallback\n",
    "from kudzu.callbacks import ClfCallback\n",
    "\n",
    "from kudzu.loss import MSE\n",
    "\n",
    "from kudzu.layer import Sigmoid,Relu\n",
    "from kudzu.layer import Affine"
   ]
  },
  {
   "cell_type": "markdown",
   "id": "bc01172a",
   "metadata": {
    "papermill": {
     "duration": 0.032439,
     "end_time": "2021-10-31T00:23:15.914174",
     "exception": false,
     "start_time": "2021-10-31T00:23:15.881735",
     "status": "completed"
    },
    "tags": []
   },
   "source": [
    "### Let us create a `Config` class, to store important parameters. \n",
    "This class essentially plays the role of a dictionary."
   ]
  },
  {
   "cell_type": "code",
   "execution_count": 16,
   "id": "978281aa",
   "metadata": {
    "execution": {
     "iopub.execute_input": "2021-10-31T00:23:15.984158Z",
     "iopub.status.busy": "2021-10-31T00:23:15.983535Z",
     "iopub.status.idle": "2021-10-31T00:23:15.997677Z",
     "shell.execute_reply": "2021-10-31T00:23:15.997181Z"
    },
    "papermill": {
     "duration": 0.05124,
     "end_time": "2021-10-31T00:23:15.997811",
     "exception": false,
     "start_time": "2021-10-31T00:23:15.946571",
     "status": "completed"
    },
    "tags": []
   },
   "outputs": [],
   "source": [
    "class Config:\n",
    "    pass\n",
    "config = Config()\n",
    "config.lr = 0.001\n",
    "config.num_epochs = 250\n",
    "config.bs = 50"
   ]
  },
  {
   "cell_type": "markdown",
   "id": "1385fa59",
   "metadata": {
    "papermill": {
     "duration": 0.032013,
     "end_time": "2021-10-31T00:23:16.062277",
     "exception": false,
     "start_time": "2021-10-31T00:23:16.030264",
     "status": "completed"
    },
    "tags": []
   },
   "source": [
    "### Running Models with the Training data\n",
    "Details about the network layers:\n",
    "- A first affine layer has 784 inputs and does 100 affine transforms. These are followed by a Relu\n",
    "- A second affine layer has 100 inputs from the 100 activations of the past layer, and does 100 affine transforms. These are followed by a Relu\n",
    "- A third affine layer has 100 activations and does 2 affine transformations to create an embedding for visualization. There is no non-linearity here.\n",
    "- A final \"logistic regression\" which has an affine transform from 2 inputs to 1 output, which is squeezed through a sigmoid.\n"
   ]
  },
  {
   "cell_type": "code",
   "execution_count": 17,
   "id": "2b9c66db",
   "metadata": {
    "execution": {
     "iopub.execute_input": "2021-10-31T00:23:16.131540Z",
     "iopub.status.busy": "2021-10-31T00:23:16.130915Z",
     "iopub.status.idle": "2021-10-31T00:23:16.145877Z",
     "shell.execute_reply": "2021-10-31T00:23:16.145381Z"
    },
    "papermill": {
     "duration": 0.051196,
     "end_time": "2021-10-31T00:23:16.146009",
     "exception": false,
     "start_time": "2021-10-31T00:23:16.094813",
     "status": "completed"
    },
    "tags": []
   },
   "outputs": [],
   "source": [
    "data = Data(X_train, y_train.reshape(-1,1))\n",
    "sampler = Sampler(data, config.bs, shuffle=True)\n",
    "\n",
    "dl = Dataloader(data, sampler)\n",
    "\n",
    "opt = GD(config.lr)\n",
    "loss = MSE()"
   ]
  },
  {
   "cell_type": "code",
   "execution_count": 18,
   "id": "b275e4c2",
   "metadata": {
    "execution": {
     "iopub.execute_input": "2021-10-31T00:23:16.215479Z",
     "iopub.status.busy": "2021-10-31T00:23:16.214855Z",
     "iopub.status.idle": "2021-10-31T00:23:16.230871Z",
     "shell.execute_reply": "2021-10-31T00:23:16.231335Z"
    },
    "papermill": {
     "duration": 0.053163,
     "end_time": "2021-10-31T00:23:16.231486",
     "exception": false,
     "start_time": "2021-10-31T00:23:16.178323",
     "status": "completed"
    },
    "tags": []
   },
   "outputs": [],
   "source": [
    "training_data_x = X_train\n",
    "testing_data_x = X_test\n",
    "training_data_y = y_train.reshape(-1,1)\n",
    "testing_data_y = y_test.reshape(-1,1)"
   ]
  },
  {
   "cell_type": "code",
   "execution_count": 19,
   "id": "76951160",
   "metadata": {
    "execution": {
     "iopub.execute_input": "2021-10-31T00:23:16.301664Z",
     "iopub.status.busy": "2021-10-31T00:23:16.301032Z",
     "iopub.status.idle": "2021-10-31T00:23:16.324003Z",
     "shell.execute_reply": "2021-10-31T00:23:16.323504Z"
    },
    "papermill": {
     "duration": 0.060408,
     "end_time": "2021-10-31T00:23:16.324139",
     "exception": false,
     "start_time": "2021-10-31T00:23:16.263731",
     "status": "completed"
    },
    "tags": []
   },
   "outputs": [
    {
     "name": "stdout",
     "output_type": "stream",
     "text": [
      "xavier\n",
      "xavier\n",
      "xavier\n",
      "xavier\n",
      "xavier\n"
     ]
    }
   ],
   "source": [
    "layers = [Affine(\"first\", 784, 100), Relu(\"first\"), Affine(\"second\", 100, 100), Relu(\"second\"), Affine(\"third\", 100, 2), Affine(\"last\", 2, 1), Sigmoid(\"last\")]\n",
    "model_nn = Model(layers)\n",
    "model_lr = Model([Affine(\"logits\", 784, 1), Sigmoid(\"sigmoid\")])"
   ]
  },
  {
   "cell_type": "code",
   "execution_count": 20,
   "id": "6eede77a",
   "metadata": {
    "execution": {
     "iopub.execute_input": "2021-10-31T00:23:16.394295Z",
     "iopub.status.busy": "2021-10-31T00:23:16.393670Z",
     "iopub.status.idle": "2021-10-31T00:23:16.418483Z",
     "shell.execute_reply": "2021-10-31T00:23:16.419077Z"
    },
    "papermill": {
     "duration": 0.062251,
     "end_time": "2021-10-31T00:23:16.419246",
     "exception": false,
     "start_time": "2021-10-31T00:23:16.356995",
     "status": "completed"
    },
    "tags": []
   },
   "outputs": [],
   "source": [
    "nn_learner = Learner(loss, model_nn, opt, config.num_epochs)\n",
    "acc_nn = ClfCallback(nn_learner, config.bs, training_data_x , testing_data_x, training_data_y, testing_data_y)\n",
    "nn_learner.set_callbacks([acc_nn])"
   ]
  },
  {
   "cell_type": "code",
   "execution_count": 21,
   "id": "877b6cc7",
   "metadata": {
    "execution": {
     "iopub.execute_input": "2021-10-31T00:23:16.488986Z",
     "iopub.status.busy": "2021-10-31T00:23:16.488326Z",
     "iopub.status.idle": "2021-10-31T00:23:16.505971Z",
     "shell.execute_reply": "2021-10-31T00:23:16.505472Z"
    },
    "papermill": {
     "duration": 0.05418,
     "end_time": "2021-10-31T00:23:16.506106",
     "exception": false,
     "start_time": "2021-10-31T00:23:16.451926",
     "status": "completed"
    },
    "tags": []
   },
   "outputs": [],
   "source": [
    "lr_learner = Learner(loss, model_lr, opt, config.num_epochs)\n",
    "acc_lr = ClfCallback(lr_learner, config.bs, training_data_x , testing_data_x, training_data_y, testing_data_y)\n",
    "lr_learner.set_callbacks([acc_lr])"
   ]
  },
  {
   "cell_type": "code",
   "execution_count": 22,
   "id": "d9b133c3",
   "metadata": {
    "execution": {
     "iopub.execute_input": "2021-10-31T00:23:16.575918Z",
     "iopub.status.busy": "2021-10-31T00:23:16.575309Z",
     "iopub.status.idle": "2021-10-31T00:24:53.234451Z",
     "shell.execute_reply": "2021-10-31T00:24:53.235351Z"
    },
    "papermill": {
     "duration": 96.696479,
     "end_time": "2021-10-31T00:24:53.235519",
     "exception": false,
     "start_time": "2021-10-31T00:23:16.539040",
     "status": "completed"
    },
    "tags": []
   },
   "outputs": [
    {
     "name": "stdout",
     "output_type": "stream",
     "text": [
      "Epoch 0, Loss 0.2233\n",
      "Training Accuracy: 0.7751, Testing Accuracy: 0.7888\n",
      "\n"
     ]
    },
    {
     "name": "stdout",
     "output_type": "stream",
     "text": [
      "Epoch 10, Loss 0.076\n",
      "Training Accuracy: 0.9286, Testing Accuracy: 0.9330\n",
      "\n"
     ]
    },
    {
     "name": "stdout",
     "output_type": "stream",
     "text": [
      "Epoch 20, Loss 0.0494\n",
      "Training Accuracy: 0.9490, Testing Accuracy: 0.9531\n",
      "\n"
     ]
    },
    {
     "name": "stdout",
     "output_type": "stream",
     "text": [
      "Epoch 30, Loss 0.0396\n",
      "Training Accuracy: 0.9577, Testing Accuracy: 0.9617\n",
      "\n"
     ]
    },
    {
     "name": "stdout",
     "output_type": "stream",
     "text": [
      "Epoch 40, Loss 0.0345\n",
      "Training Accuracy: 0.9616, Testing Accuracy: 0.9667\n",
      "\n"
     ]
    },
    {
     "name": "stdout",
     "output_type": "stream",
     "text": [
      "Epoch 50, Loss 0.0314\n",
      "Training Accuracy: 0.9643, Testing Accuracy: 0.9693\n",
      "\n"
     ]
    },
    {
     "name": "stdout",
     "output_type": "stream",
     "text": [
      "Epoch 60, Loss 0.0293\n",
      "Training Accuracy: 0.9666, Testing Accuracy: 0.9703\n",
      "\n"
     ]
    },
    {
     "name": "stdout",
     "output_type": "stream",
     "text": [
      "Epoch 70, Loss 0.0277\n",
      "Training Accuracy: 0.9689, Testing Accuracy: 0.9703\n",
      "\n"
     ]
    },
    {
     "name": "stdout",
     "output_type": "stream",
     "text": [
      "Epoch 80, Loss 0.0264\n",
      "Training Accuracy: 0.9701, Testing Accuracy: 0.9713\n",
      "\n"
     ]
    },
    {
     "name": "stdout",
     "output_type": "stream",
     "text": [
      "Epoch 90, Loss 0.0253\n",
      "Training Accuracy: 0.9715, Testing Accuracy: 0.9713\n",
      "\n"
     ]
    },
    {
     "name": "stdout",
     "output_type": "stream",
     "text": [
      "Epoch 100, Loss 0.0244\n",
      "Training Accuracy: 0.9731, Testing Accuracy: 0.9718\n",
      "\n"
     ]
    },
    {
     "name": "stdout",
     "output_type": "stream",
     "text": [
      "Epoch 110, Loss 0.0236\n",
      "Training Accuracy: 0.9740, Testing Accuracy: 0.9728\n",
      "\n"
     ]
    },
    {
     "name": "stdout",
     "output_type": "stream",
     "text": [
      "Epoch 120, Loss 0.0229\n",
      "Training Accuracy: 0.9748, Testing Accuracy: 0.9738\n",
      "\n"
     ]
    },
    {
     "name": "stdout",
     "output_type": "stream",
     "text": [
      "Epoch 130, Loss 0.0223\n",
      "Training Accuracy: 0.9754, Testing Accuracy: 0.9738\n",
      "\n"
     ]
    },
    {
     "name": "stdout",
     "output_type": "stream",
     "text": [
      "Epoch 140, Loss 0.0217\n",
      "Training Accuracy: 0.9759, Testing Accuracy: 0.9743\n",
      "\n"
     ]
    },
    {
     "name": "stdout",
     "output_type": "stream",
     "text": [
      "Epoch 150, Loss 0.0211\n",
      "Training Accuracy: 0.9767, Testing Accuracy: 0.9748\n",
      "\n"
     ]
    },
    {
     "name": "stdout",
     "output_type": "stream",
     "text": [
      "Epoch 160, Loss 0.0206\n",
      "Training Accuracy: 0.9774, Testing Accuracy: 0.9738\n",
      "\n"
     ]
    },
    {
     "name": "stdout",
     "output_type": "stream",
     "text": [
      "Epoch 170, Loss 0.0202\n",
      "Training Accuracy: 0.9779, Testing Accuracy: 0.9738\n",
      "\n"
     ]
    },
    {
     "name": "stdout",
     "output_type": "stream",
     "text": [
      "Epoch 180, Loss 0.0197\n",
      "Training Accuracy: 0.9788, Testing Accuracy: 0.9743\n",
      "\n"
     ]
    },
    {
     "name": "stdout",
     "output_type": "stream",
     "text": [
      "Epoch 190, Loss 0.0193\n",
      "Training Accuracy: 0.9796, Testing Accuracy: 0.9743\n",
      "\n"
     ]
    },
    {
     "name": "stdout",
     "output_type": "stream",
     "text": [
      "Epoch 200, Loss 0.0189\n",
      "Training Accuracy: 0.9804, Testing Accuracy: 0.9743\n",
      "\n"
     ]
    },
    {
     "name": "stdout",
     "output_type": "stream",
     "text": [
      "Epoch 210, Loss 0.0185\n",
      "Training Accuracy: 0.9807, Testing Accuracy: 0.9748\n",
      "\n"
     ]
    },
    {
     "name": "stdout",
     "output_type": "stream",
     "text": [
      "Epoch 220, Loss 0.0182\n",
      "Training Accuracy: 0.9810, Testing Accuracy: 0.9743\n",
      "\n"
     ]
    },
    {
     "name": "stdout",
     "output_type": "stream",
     "text": [
      "Epoch 230, Loss 0.0178\n",
      "Training Accuracy: 0.9813, Testing Accuracy: 0.9748\n",
      "\n"
     ]
    },
    {
     "name": "stdout",
     "output_type": "stream",
     "text": [
      "Epoch 240, Loss 0.0175\n",
      "Training Accuracy: 0.9816, Testing Accuracy: 0.9748\n",
      "\n"
     ]
    },
    {
     "data": {
      "text/plain": [
       "0.032752209945052665"
      ]
     },
     "execution_count": 22,
     "metadata": {},
     "output_type": "execute_result"
    }
   ],
   "source": [
    "nn_learner.train_loop(dl)"
   ]
  },
  {
   "cell_type": "code",
   "execution_count": 23,
   "id": "e0163366",
   "metadata": {
    "execution": {
     "iopub.execute_input": "2021-10-31T00:24:53.326531Z",
     "iopub.status.busy": "2021-10-31T00:24:53.325903Z",
     "iopub.status.idle": "2021-10-31T00:25:10.473463Z",
     "shell.execute_reply": "2021-10-31T00:25:10.474344Z"
    },
    "papermill": {
     "duration": 17.197339,
     "end_time": "2021-10-31T00:25:10.474512",
     "exception": false,
     "start_time": "2021-10-31T00:24:53.277173",
     "status": "completed"
    },
    "tags": []
   },
   "outputs": [
    {
     "name": "stdout",
     "output_type": "stream",
     "text": [
      "Epoch 0, Loss 0.2325\n",
      "Training Accuracy: 0.6976, Testing Accuracy: 0.6925\n",
      "\n"
     ]
    },
    {
     "name": "stdout",
     "output_type": "stream",
     "text": [
      "Epoch 10, Loss 0.1044\n",
      "Training Accuracy: 0.9037, Testing Accuracy: 0.9143\n",
      "\n"
     ]
    },
    {
     "name": "stdout",
     "output_type": "stream",
     "text": [
      "Epoch 20, Loss 0.0801\n",
      "Training Accuracy: 0.9246, Testing Accuracy: 0.9355\n",
      "\n"
     ]
    },
    {
     "name": "stdout",
     "output_type": "stream",
     "text": [
      "Epoch 30, Loss 0.0689\n",
      "Training Accuracy: 0.9344, Testing Accuracy: 0.9486\n",
      "\n"
     ]
    },
    {
     "name": "stdout",
     "output_type": "stream",
     "text": [
      "Epoch 40, Loss 0.0622\n",
      "Training Accuracy: 0.9397, Testing Accuracy: 0.9521\n",
      "\n"
     ]
    },
    {
     "name": "stdout",
     "output_type": "stream",
     "text": [
      "Epoch 50, Loss 0.0576\n",
      "Training Accuracy: 0.9439, Testing Accuracy: 0.9561\n",
      "\n"
     ]
    },
    {
     "name": "stdout",
     "output_type": "stream",
     "text": [
      "Epoch 60, Loss 0.0542\n",
      "Training Accuracy: 0.9468, Testing Accuracy: 0.9572\n",
      "\n"
     ]
    },
    {
     "name": "stdout",
     "output_type": "stream",
     "text": [
      "Epoch 70, Loss 0.0516\n",
      "Training Accuracy: 0.9495, Testing Accuracy: 0.9597\n",
      "\n"
     ]
    },
    {
     "name": "stdout",
     "output_type": "stream",
     "text": [
      "Epoch 80, Loss 0.0495\n",
      "Training Accuracy: 0.9508, Testing Accuracy: 0.9617\n",
      "\n"
     ]
    },
    {
     "name": "stdout",
     "output_type": "stream",
     "text": [
      "Epoch 90, Loss 0.0478\n",
      "Training Accuracy: 0.9518, Testing Accuracy: 0.9622\n",
      "\n"
     ]
    },
    {
     "name": "stdout",
     "output_type": "stream",
     "text": [
      "Epoch 100, Loss 0.0464\n",
      "Training Accuracy: 0.9532, Testing Accuracy: 0.9622\n",
      "\n"
     ]
    },
    {
     "name": "stdout",
     "output_type": "stream",
     "text": [
      "Epoch 110, Loss 0.0451\n",
      "Training Accuracy: 0.9543, Testing Accuracy: 0.9637\n",
      "\n"
     ]
    },
    {
     "name": "stdout",
     "output_type": "stream",
     "text": [
      "Epoch 120, Loss 0.0441\n",
      "Training Accuracy: 0.9552, Testing Accuracy: 0.9647\n",
      "\n"
     ]
    },
    {
     "name": "stdout",
     "output_type": "stream",
     "text": [
      "Epoch 130, Loss 0.0431\n",
      "Training Accuracy: 0.9553, Testing Accuracy: 0.9647\n",
      "\n"
     ]
    },
    {
     "name": "stdout",
     "output_type": "stream",
     "text": [
      "Epoch 140, Loss 0.0423\n",
      "Training Accuracy: 0.9562, Testing Accuracy: 0.9652\n",
      "\n"
     ]
    },
    {
     "name": "stdout",
     "output_type": "stream",
     "text": [
      "Epoch 150, Loss 0.0415\n",
      "Training Accuracy: 0.9569, Testing Accuracy: 0.9652\n",
      "\n"
     ]
    },
    {
     "name": "stdout",
     "output_type": "stream",
     "text": [
      "Epoch 160, Loss 0.0409\n",
      "Training Accuracy: 0.9573, Testing Accuracy: 0.9657\n",
      "\n"
     ]
    },
    {
     "name": "stdout",
     "output_type": "stream",
     "text": [
      "Epoch 170, Loss 0.0403\n",
      "Training Accuracy: 0.9578, Testing Accuracy: 0.9657\n",
      "\n"
     ]
    },
    {
     "name": "stdout",
     "output_type": "stream",
     "text": [
      "Epoch 180, Loss 0.0397\n",
      "Training Accuracy: 0.9582, Testing Accuracy: 0.9667\n",
      "\n"
     ]
    },
    {
     "name": "stdout",
     "output_type": "stream",
     "text": [
      "Epoch 190, Loss 0.0392\n",
      "Training Accuracy: 0.9588, Testing Accuracy: 0.9662\n",
      "\n"
     ]
    },
    {
     "name": "stdout",
     "output_type": "stream",
     "text": [
      "Epoch 200, Loss 0.0387\n",
      "Training Accuracy: 0.9591, Testing Accuracy: 0.9667\n",
      "\n"
     ]
    },
    {
     "name": "stdout",
     "output_type": "stream",
     "text": [
      "Epoch 210, Loss 0.0382\n",
      "Training Accuracy: 0.9599, Testing Accuracy: 0.9667\n",
      "\n"
     ]
    },
    {
     "name": "stdout",
     "output_type": "stream",
     "text": [
      "Epoch 220, Loss 0.0378\n",
      "Training Accuracy: 0.9602, Testing Accuracy: 0.9672\n",
      "\n"
     ]
    },
    {
     "name": "stdout",
     "output_type": "stream",
     "text": [
      "Epoch 230, Loss 0.0374\n",
      "Training Accuracy: 0.9605, Testing Accuracy: 0.9672\n",
      "\n"
     ]
    },
    {
     "name": "stdout",
     "output_type": "stream",
     "text": [
      "Epoch 240, Loss 0.0371\n",
      "Training Accuracy: 0.9609, Testing Accuracy: 0.9677\n",
      "\n"
     ]
    },
    {
     "data": {
      "text/plain": [
       "0.013909193960647647"
      ]
     },
     "execution_count": 23,
     "metadata": {},
     "output_type": "execute_result"
    }
   ],
   "source": [
    "lr_learner.train_loop(dl)"
   ]
  },
  {
   "cell_type": "code",
   "execution_count": 24,
   "id": "ca410940",
   "metadata": {
    "execution": {
     "iopub.execute_input": "2021-10-31T00:25:10.582717Z",
     "iopub.status.busy": "2021-10-31T00:25:10.582056Z",
     "iopub.status.idle": "2021-10-31T00:25:10.858916Z",
     "shell.execute_reply": "2021-10-31T00:25:10.859522Z"
    },
    "papermill": {
     "duration": 0.335097,
     "end_time": "2021-10-31T00:25:10.859682",
     "exception": false,
     "start_time": "2021-10-31T00:25:10.524585",
     "status": "completed"
    },
    "tags": []
   },
   "outputs": [
    {
     "data": {
      "text/plain": [
       "<matplotlib.legend.Legend at 0x7f81c28c0710>"
      ]
     },
     "execution_count": 24,
     "metadata": {},
     "output_type": "execute_result"
    },
    {
     "data": {
      "image/png": "[encoded data removed]",
      "text/plain": [
       "<Figure size 1080x720 with 1 Axes>"
      ]
     },
     "metadata": {
      "needs_background": "light"
     },
     "output_type": "display_data"
    }
   ],
   "source": [
    "#comparing the results of NN and LR\n",
    "plt.figure(figsize=(15,10))\n",
    "\n",
    "# Neural Network plots\n",
    "plt.plot(acc_nn.accuracies, 'r-', label = \"Training Accuracies - NN\")\n",
    "plt.plot(acc_nn.test_accuracies, 'g-', label = \"Testing Accuracies - NN\")\n",
    "\n",
    "# Logistic Regression plots\n",
    "plt.plot(acc_lr.accuracies, 'k-', label = \"Training Accuracies - LR\")\n",
    "plt.plot(acc_lr.test_accuracies, 'b-', label = \"Testing Accuracies - LR\")\n",
    "plt.legend()"
   ]
  },
  {
   "cell_type": "markdown",
   "id": "80dfb35c",
   "metadata": {
    "papermill": {
     "duration": 0.051489,
     "end_time": "2021-10-31T00:25:10.962311",
     "exception": false,
     "start_time": "2021-10-31T00:25:10.910822",
     "status": "completed"
    },
    "tags": []
   },
   "source": [
    "#### Plotting the outputs of this layer of the NN.\n"
   ]
  },
  {
   "cell_type": "code",
   "execution_count": 25,
   "id": "45eb2ff5",
   "metadata": {
    "execution": {
     "iopub.execute_input": "2021-10-31T00:25:11.068688Z",
     "iopub.status.busy": "2021-10-31T00:25:11.068020Z",
     "iopub.status.idle": "2021-10-31T00:25:11.093645Z",
     "shell.execute_reply": "2021-10-31T00:25:11.094184Z"
    },
    "papermill": {
     "duration": 0.080815,
     "end_time": "2021-10-31T00:25:11.094351",
     "exception": false,
     "start_time": "2021-10-31T00:25:11.013536",
     "status": "completed"
    },
    "tags": []
   },
   "outputs": [],
   "source": [
    "new_model = Model(layers[:-2])\n",
    "testing_plot = new_model(testing_data_x)"
   ]
  },
  {
   "cell_type": "code",
   "execution_count": 26,
   "id": "4c0a5485",
   "metadata": {
    "execution": {
     "iopub.execute_input": "2021-10-31T00:25:11.227109Z",
     "iopub.status.busy": "2021-10-31T00:25:11.226470Z",
     "iopub.status.idle": "2021-10-31T00:25:11.450610Z",
     "shell.execute_reply": "2021-10-31T00:25:11.451085Z"
    },
    "papermill": {
     "duration": 0.286545,
     "end_time": "2021-10-31T00:25:11.451247",
     "exception": false,
     "start_time": "2021-10-31T00:25:11.164702",
     "status": "completed"
    },
    "tags": []
   },
   "outputs": [
    {
     "data": {
      "text/plain": [
       "Text(0.5, 1.0, 'Outputs')"
      ]
     },
     "execution_count": 26,
     "metadata": {},
     "output_type": "execute_result"
    },
    {
     "data": {
      "image/png": "[encoded data removed]",
      "text/plain": [
       "<Figure size 576x504 with 1 Axes>"
      ]
     },
     "metadata": {
      "needs_background": "light"
     },
     "output_type": "display_data"
    }
   ],
   "source": [
    "# Plotting the scatter plot of points and color coding by class\n",
    "plt.figure(figsize=(8,7))\n",
    "plt.scatter(testing_plot[:,0], testing_plot[:,1], alpha = 0.1, c = y_test.ravel());\n",
    "plt.title('Outputs')"
   ]
  },
  {
   "cell_type": "markdown",
   "id": "a74fcf8f",
   "metadata": {
    "papermill": {
     "duration": 0.052834,
     "end_time": "2021-10-31T00:25:11.558008",
     "exception": false,
     "start_time": "2021-10-31T00:25:11.505174",
     "status": "completed"
    },
    "tags": []
   },
   "source": [
    "Probability contours"
   ]
  },
  {
   "cell_type": "code",
   "execution_count": 27,
   "id": "d0afc8e3",
   "metadata": {
    "execution": {
     "iopub.execute_input": "2021-10-31T00:25:11.677843Z",
     "iopub.status.busy": "2021-10-31T00:25:11.677179Z",
     "iopub.status.idle": "2021-10-31T00:25:11.681938Z",
     "shell.execute_reply": "2021-10-31T00:25:11.681405Z"
    },
    "papermill": {
     "duration": 0.071013,
     "end_time": "2021-10-31T00:25:11.682072",
     "exception": false,
     "start_time": "2021-10-31T00:25:11.611059",
     "status": "completed"
    },
    "tags": []
   },
   "outputs": [],
   "source": [
    "model_prob = Model(layers[-2:]) "
   ]
  },
  {
   "cell_type": "code",
   "execution_count": 28,
   "id": "9b96e238",
   "metadata": {
    "execution": {
     "iopub.execute_input": "2021-10-31T00:25:11.796175Z",
     "iopub.status.busy": "2021-10-31T00:25:11.794836Z",
     "iopub.status.idle": "2021-10-31T00:25:11.811367Z",
     "shell.execute_reply": "2021-10-31T00:25:11.811840Z"
    },
    "papermill": {
     "duration": 0.076763,
     "end_time": "2021-10-31T00:25:11.812001",
     "exception": false,
     "start_time": "2021-10-31T00:25:11.735238",
     "status": "completed"
    },
    "tags": []
   },
   "outputs": [],
   "source": [
    "#creating the x and y ranges according to the above generated plot.\n",
    "x_range = np.linspace(-4, 1, 100) \n",
    "y_range = np.linspace(-6, 6, 100) \n",
    "x_grid, y_grid = np.meshgrid(x_range, y_range) # x_grid and y_grig are of size 100 X 100\n",
    "\n",
    "# converting x_grid and y_grid to continuous arrays\n",
    "x_gridflat = np.ravel(x_grid)\n",
    "y_gridflat = np.ravel(y_grid)\n",
    "\n",
    "# The last layer of the current model takes two columns as input. Hence transpose of np.vstack() is required.\n",
    "X = np.vstack((x_gridflat, y_gridflat)).T\n",
    "\n",
    "prob_contour = model_prob(X).reshape(100,100) "
   ]
  },
  {
   "cell_type": "code",
   "execution_count": 29,
   "id": "da72499a",
   "metadata": {
    "execution": {
     "iopub.execute_input": "2021-10-31T00:25:11.976988Z",
     "iopub.status.busy": "2021-10-31T00:25:11.976310Z",
     "iopub.status.idle": "2021-10-31T00:25:12.270255Z",
     "shell.execute_reply": "2021-10-31T00:25:12.272736Z"
    },
    "papermill": {
     "duration": 0.362553,
     "end_time": "2021-10-31T00:25:12.273283",
     "exception": false,
     "start_time": "2021-10-31T00:25:11.910730",
     "status": "completed"
    },
    "tags": []
   },
   "outputs": [
    {
     "data": {
      "image/png": "[encoded data removed]",
      "text/plain": [
       "<Figure size 720x648 with 1 Axes>"
      ]
     },
     "metadata": {
      "needs_background": "light"
     },
     "output_type": "display_data"
    }
   ],
   "source": [
    "plt.figure(figsize=(10,9))\n",
    "plt.scatter(testing_plot[:,0], testing_plot[:,1], alpha = 0.1, c = y_test.ravel())\n",
    "contours = plt.contour(x_grid,y_grid,prob_contour)\n",
    "plt.title('Probability Contours')\n",
    "plt.clabel(contours, inline = True );"
   ]
  },
  {
   "cell_type": "code",
   "execution_count": null,
   "id": "e81b4ac7",
   "metadata": {
    "papermill": {
     "duration": 0.05708,
     "end_time": "2021-10-31T00:25:12.394052",
     "exception": false,
     "start_time": "2021-10-31T00:25:12.336972",
     "status": "completed"
    },
    "tags": []
   },
   "outputs": [],
   "source": []
  }
 ],
 "metadata": {
  "kernelspec": {
   "display_name": "Python 3",
   "language": "python",
   "name": "python3"
  },
  "language_info": {
   "codemirror_mode": {
    "name": "ipython",
    "version": 3
   },
   "file_extension": ".py",
   "mimetype": "text/x-python",
   "name": "python",
   "nbconvert_exporter": "python",
   "pygments_lexer": "ipython3",
   "version": "3.6.15"
  },
  "papermill": {
   "default_parameters": {},
   "duration": 124.128165,
   "end_time": "2021-10-31T00:25:12.862836",
   "environment_variables": {},
   "exception": null,
   "input_path": "2020-08-11-part2.ipynb",
   "output_path": "2020-08-11-part2.ipynb",
   "parameters": {},
   "start_time": "2021-10-31T00:23:08.734671",
   "version": "2.3.3"
  }
 },
 "nbformat": 4,
 "nbformat_minor": 5
}