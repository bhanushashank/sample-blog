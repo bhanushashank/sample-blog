{
 "cells": [
  {
   "cell_type": "markdown",
   "id": "98380cd3",
   "metadata": {
    "papermill": {
     "duration": 0.030384,
     "end_time": "2022-05-22T10:10:37.382761",
     "exception": false,
     "start_time": "2022-05-22T10:10:37.352377",
     "status": "completed"
    },
    "tags": []
   },
   "source": [
    "# Distinguish Your Own Digits (DYOD)"
   ]
  },
  {
   "cell_type": "markdown",
   "id": "ef31240d",
   "metadata": {
    "papermill": {
     "duration": 0.024287,
     "end_time": "2022-05-22T10:10:37.432169",
     "exception": false,
     "start_time": "2022-05-22T10:10:37.407882",
     "status": "completed"
    },
    "tags": []
   },
   "source": [
    "You are going to write a classifier that distinguishes between the number 3 and number 8."
   ]
  },
  {
   "cell_type": "code",
   "execution_count": 1,
   "id": "b15c8646",
   "metadata": {
    "execution": {
     "iopub.execute_input": "2022-05-22T10:10:37.492265Z",
     "iopub.status.busy": "2022-05-22T10:10:37.491638Z",
     "iopub.status.idle": "2022-05-22T10:10:37.503038Z",
     "shell.execute_reply": "2022-05-22T10:10:37.502523Z"
    },
    "papermill": {
     "duration": 0.046729,
     "end_time": "2022-05-22T10:10:37.503174",
     "exception": false,
     "start_time": "2022-05-22T10:10:37.456445",
     "status": "completed"
    },
    "tags": []
   },
   "outputs": [],
   "source": [
    "%load_ext autoreload\n",
    "%autoreload 2"
   ]
  },
  {
   "cell_type": "code",
   "execution_count": 2,
   "id": "22ef38dc",
   "metadata": {
    "execution": {
     "iopub.execute_input": "2022-05-22T10:10:37.569305Z",
     "iopub.status.busy": "2022-05-22T10:10:37.566078Z",
     "iopub.status.idle": "2022-05-22T10:10:38.139355Z",
     "shell.execute_reply": "2022-05-22T10:10:38.138876Z"
    },
    "papermill": {
     "duration": 0.611976,
     "end_time": "2022-05-22T10:10:38.139482",
     "exception": false,
     "start_time": "2022-05-22T10:10:37.527506",
     "status": "completed"
    },
    "tags": []
   },
   "outputs": [],
   "source": [
    "%matplotlib inline\n",
    "import numpy as np\n",
    "import matplotlib.pyplot as plt\n",
    "import pandas as pd"
   ]
  },
  {
   "cell_type": "markdown",
   "id": "ba036198",
   "metadata": {
    "papermill": {
     "duration": 0.021384,
     "end_time": "2022-05-22T10:10:38.182409",
     "exception": false,
     "start_time": "2022-05-22T10:10:38.161025",
     "status": "completed"
    },
    "tags": []
   },
   "source": [
    "From the command line run `pip install mnist`. This is a library that will help you bring down the mnist dataset. If you run this from a notebook, you need to put  `!pip install mnist` in a cell by itself."
   ]
  },
  {
   "cell_type": "code",
   "execution_count": 3,
   "id": "bb6ad8a1",
   "metadata": {
    "execution": {
     "iopub.execute_input": "2022-05-22T10:10:38.230184Z",
     "iopub.status.busy": "2022-05-22T10:10:38.229581Z",
     "iopub.status.idle": "2022-05-22T10:10:40.027176Z",
     "shell.execute_reply": "2022-05-22T10:10:40.027609Z"
    },
    "papermill": {
     "duration": 1.823888,
     "end_time": "2022-05-22T10:10:40.027762",
     "exception": false,
     "start_time": "2022-05-22T10:10:38.203874",
     "status": "completed"
    },
    "tags": []
   },
   "outputs": [
    {
     "name": "stdout",
     "output_type": "stream",
     "text": [
      "Collecting mnist\r\n"
     ]
    },
    {
     "name": "stdout",
     "output_type": "stream",
     "text": [
      "  Downloading mnist-0.2.2-py2.py3-none-any.whl (3.5 kB)\r\n",
      "Requirement already satisfied: numpy in /opt/hostedtoolcache/Python/3.6.15/x64/lib/python3.6/site-packages (from mnist) (1.19.5)\r\n"
     ]
    },
    {
     "name": "stdout",
     "output_type": "stream",
     "text": [
      "Installing collected packages: mnist\r\n"
     ]
    },
    {
     "name": "stdout",
     "output_type": "stream",
     "text": [
      "Successfully installed mnist-0.2.2\r\n"
     ]
    }
   ],
   "source": [
    "!pip install mnist"
   ]
  },
  {
   "cell_type": "markdown",
   "id": "69df9c9a",
   "metadata": {
    "papermill": {
     "duration": 0.022666,
     "end_time": "2022-05-22T10:10:40.073040",
     "exception": false,
     "start_time": "2022-05-22T10:10:40.050374",
     "status": "completed"
    },
    "tags": []
   },
   "source": [
    "## Preparing the Data"
   ]
  },
  {
   "cell_type": "code",
   "execution_count": 4,
   "id": "7f69d806",
   "metadata": {
    "execution": {
     "iopub.execute_input": "2022-05-22T10:10:40.132430Z",
     "iopub.status.busy": "2022-05-22T10:10:40.131834Z",
     "iopub.status.idle": "2022-05-22T10:10:40.141342Z",
     "shell.execute_reply": "2022-05-22T10:10:40.140913Z"
    },
    "papermill": {
     "duration": 0.046035,
     "end_time": "2022-05-22T10:10:40.141459",
     "exception": false,
     "start_time": "2022-05-22T10:10:40.095424",
     "status": "completed"
    },
    "tags": []
   },
   "outputs": [],
   "source": [
    "import mnist"
   ]
  },
  {
   "cell_type": "code",
   "execution_count": 5,
   "id": "a411e44f",
   "metadata": {
    "execution": {
     "iopub.execute_input": "2022-05-22T10:10:40.190410Z",
     "iopub.status.busy": "2022-05-22T10:10:40.189884Z",
     "iopub.status.idle": "2022-05-22T10:10:40.804807Z",
     "shell.execute_reply": "2022-05-22T10:10:40.803848Z"
    },
    "papermill": {
     "duration": 0.641006,
     "end_time": "2022-05-22T10:10:40.804969",
     "exception": false,
     "start_time": "2022-05-22T10:10:40.163963",
     "status": "completed"
    },
    "tags": []
   },
   "outputs": [],
   "source": [
    "train_images = mnist.train_images()\n",
    "train_labels = mnist.train_labels()"
   ]
  },
  {
   "cell_type": "code",
   "execution_count": 6,
   "id": "dceab3a5",
   "metadata": {
    "execution": {
     "iopub.execute_input": "2022-05-22T10:10:40.856237Z",
     "iopub.status.busy": "2022-05-22T10:10:40.855696Z",
     "iopub.status.idle": "2022-05-22T10:10:40.871567Z",
     "shell.execute_reply": "2022-05-22T10:10:40.871112Z"
    },
    "papermill": {
     "duration": 0.041937,
     "end_time": "2022-05-22T10:10:40.871681",
     "exception": false,
     "start_time": "2022-05-22T10:10:40.829744",
     "status": "completed"
    },
    "tags": []
   },
   "outputs": [
    {
     "data": {
      "text/plain": [
       "((60000, 28, 28), (60000,))"
      ]
     },
     "execution_count": 6,
     "metadata": {},
     "output_type": "execute_result"
    }
   ],
   "source": [
    "train_images.shape, train_labels.shape"
   ]
  },
  {
   "cell_type": "code",
   "execution_count": 7,
   "id": "f50dc2bb",
   "metadata": {
    "execution": {
     "iopub.execute_input": "2022-05-22T10:10:40.923228Z",
     "iopub.status.busy": "2022-05-22T10:10:40.922667Z",
     "iopub.status.idle": "2022-05-22T10:10:41.240991Z",
     "shell.execute_reply": "2022-05-22T10:10:41.240372Z"
    },
    "papermill": {
     "duration": 0.346745,
     "end_time": "2022-05-22T10:10:41.241142",
     "exception": false,
     "start_time": "2022-05-22T10:10:40.894397",
     "status": "completed"
    },
    "tags": []
   },
   "outputs": [],
   "source": [
    "test_images = mnist.test_images()\n",
    "test_labels = mnist.test_labels()"
   ]
  },
  {
   "cell_type": "code",
   "execution_count": 8,
   "id": "fc38cf1b",
   "metadata": {
    "execution": {
     "iopub.execute_input": "2022-05-22T10:10:41.299222Z",
     "iopub.status.busy": "2022-05-22T10:10:41.298591Z",
     "iopub.status.idle": "2022-05-22T10:10:41.313511Z",
     "shell.execute_reply": "2022-05-22T10:10:41.312999Z"
    },
    "papermill": {
     "duration": 0.04613,
     "end_time": "2022-05-22T10:10:41.313637",
     "exception": false,
     "start_time": "2022-05-22T10:10:41.267507",
     "status": "completed"
    },
    "tags": []
   },
   "outputs": [
    {
     "data": {
      "text/plain": [
       "((10000, 28, 28), (10000,))"
      ]
     },
     "execution_count": 8,
     "metadata": {},
     "output_type": "execute_result"
    }
   ],
   "source": [
    "test_images.shape, test_labels.shape"
   ]
  },
  {
   "cell_type": "code",
   "execution_count": 9,
   "id": "f9ed8fe0",
   "metadata": {
    "execution": {
     "iopub.execute_input": "2022-05-22T10:10:41.399086Z",
     "iopub.status.busy": "2022-05-22T10:10:41.381944Z",
     "iopub.status.idle": "2022-05-22T10:10:41.520073Z",
     "shell.execute_reply": "2022-05-22T10:10:41.519229Z"
    },
    "papermill": {
     "duration": 0.180659,
     "end_time": "2022-05-22T10:10:41.520212",
     "exception": false,
     "start_time": "2022-05-22T10:10:41.339553",
     "status": "completed"
    },
    "tags": []
   },
   "outputs": [
    {
     "name": "stdout",
     "output_type": "stream",
     "text": [
      "2\n"
     ]
    },
    {
     "data": {
      "text/plain": [
       "<matplotlib.image.AxesImage at 0x7f8d90015eb8>"
      ]
     },
     "execution_count": 9,
     "metadata": {},
     "output_type": "execute_result"
    },
    {
     "data": {
      "image/png": "[encoded data removed]",
      "text/plain": [
       "<Figure size 432x288 with 1 Axes>"
      ]
     },
     "metadata": {
      "needs_background": "light"
     },
     "output_type": "display_data"
    }
   ],
   "source": [
    "image_index = 7776 # You may select anything up to 60,000\n",
    "print(train_labels[image_index]) \n",
    "plt.imshow(train_images[image_index], cmap='Greys')"
   ]
  },
  {
   "cell_type": "markdown",
   "id": "a8d2388d",
   "metadata": {
    "papermill": {
     "duration": 0.027248,
     "end_time": "2022-05-22T10:10:41.574636",
     "exception": false,
     "start_time": "2022-05-22T10:10:41.547388",
     "status": "completed"
    },
    "tags": []
   },
   "source": [
    "## Filter data to get 3 and 8 out"
   ]
  },
  {
   "cell_type": "code",
   "execution_count": 10,
   "id": "776f7fc7",
   "metadata": {
    "execution": {
     "iopub.execute_input": "2022-05-22T10:10:41.633665Z",
     "iopub.status.busy": "2022-05-22T10:10:41.633046Z",
     "iopub.status.idle": "2022-05-22T10:10:41.653211Z",
     "shell.execute_reply": "2022-05-22T10:10:41.652578Z"
    },
    "papermill": {
     "duration": 0.051696,
     "end_time": "2022-05-22T10:10:41.653359",
     "exception": false,
     "start_time": "2022-05-22T10:10:41.601663",
     "status": "completed"
    },
    "tags": []
   },
   "outputs": [],
   "source": [
    "train_filter = np.where((train_labels == 3 ) | (train_labels == 8))\n",
    "test_filter = np.where((test_labels == 3) | (test_labels == 8))\n",
    "X_train, y_train = train_images[train_filter], train_labels[train_filter]\n",
    "X_test, y_test = test_images[test_filter], test_labels[test_filter]"
   ]
  },
  {
   "cell_type": "markdown",
   "id": "948f0b7e",
   "metadata": {
    "papermill": {
     "duration": 0.023824,
     "end_time": "2022-05-22T10:10:41.703044",
     "exception": false,
     "start_time": "2022-05-22T10:10:41.679220",
     "status": "completed"
    },
    "tags": []
   },
   "source": [
    "We normalize the pizel values in the 0 to 1 range"
   ]
  },
  {
   "cell_type": "code",
   "execution_count": 11,
   "id": "ee4c2166",
   "metadata": {
    "execution": {
     "iopub.execute_input": "2022-05-22T10:10:41.765873Z",
     "iopub.status.busy": "2022-05-22T10:10:41.761272Z",
     "iopub.status.idle": "2022-05-22T10:10:41.804746Z",
     "shell.execute_reply": "2022-05-22T10:10:41.804093Z"
    },
    "papermill": {
     "duration": 0.07804,
     "end_time": "2022-05-22T10:10:41.804879",
     "exception": false,
     "start_time": "2022-05-22T10:10:41.726839",
     "status": "completed"
    },
    "tags": []
   },
   "outputs": [],
   "source": [
    "X_train = X_train/255.\n",
    "X_test = X_test/255."
   ]
  },
  {
   "cell_type": "markdown",
   "id": "ddcf4fab",
   "metadata": {
    "papermill": {
     "duration": 0.024059,
     "end_time": "2022-05-22T10:10:41.853174",
     "exception": false,
     "start_time": "2022-05-22T10:10:41.829115",
     "status": "completed"
    },
    "tags": []
   },
   "source": [
    "And setup the labels as 1 (when the digit is 3) and 0 (when the digit is 8)"
   ]
  },
  {
   "cell_type": "code",
   "execution_count": 12,
   "id": "7dc908f2",
   "metadata": {
    "execution": {
     "iopub.execute_input": "2022-05-22T10:10:41.915902Z",
     "iopub.status.busy": "2022-05-22T10:10:41.908712Z",
     "iopub.status.idle": "2022-05-22T10:10:41.918521Z",
     "shell.execute_reply": "2022-05-22T10:10:41.918907Z"
    },
    "papermill": {
     "duration": 0.042081,
     "end_time": "2022-05-22T10:10:41.919044",
     "exception": false,
     "start_time": "2022-05-22T10:10:41.876963",
     "status": "completed"
    },
    "tags": []
   },
   "outputs": [],
   "source": [
    "y_train = 1*(y_train==3)\n",
    "y_test = 1*(y_test==3)"
   ]
  },
  {
   "cell_type": "code",
   "execution_count": 13,
   "id": "01e4e969",
   "metadata": {
    "execution": {
     "iopub.execute_input": "2022-05-22T10:10:41.971356Z",
     "iopub.status.busy": "2022-05-22T10:10:41.970808Z",
     "iopub.status.idle": "2022-05-22T10:10:41.989337Z",
     "shell.execute_reply": "2022-05-22T10:10:41.985582Z"
    },
    "papermill": {
     "duration": 0.04635,
     "end_time": "2022-05-22T10:10:41.989467",
     "exception": false,
     "start_time": "2022-05-22T10:10:41.943117",
     "status": "completed"
    },
    "tags": []
   },
   "outputs": [
    {
     "data": {
      "text/plain": [
       "((11982, 28, 28), (1984, 28, 28))"
      ]
     },
     "execution_count": 13,
     "metadata": {},
     "output_type": "execute_result"
    }
   ],
   "source": [
    "X_train.shape, X_test.shape"
   ]
  },
  {
   "cell_type": "markdown",
   "id": "5ccf3f85",
   "metadata": {
    "papermill": {
     "duration": 0.024021,
     "end_time": "2022-05-22T10:10:42.037634",
     "exception": false,
     "start_time": "2022-05-22T10:10:42.013613",
     "status": "completed"
    },
    "tags": []
   },
   "source": [
    "We reshape the data to flatten the image pixels into a set of features or co-variates:"
   ]
  },
  {
   "cell_type": "code",
   "execution_count": 14,
   "id": "5286a4a3",
   "metadata": {
    "execution": {
     "iopub.execute_input": "2022-05-22T10:10:42.093815Z",
     "iopub.status.busy": "2022-05-22T10:10:42.093273Z",
     "iopub.status.idle": "2022-05-22T10:10:42.105869Z",
     "shell.execute_reply": "2022-05-22T10:10:42.106367Z"
    },
    "papermill": {
     "duration": 0.044654,
     "end_time": "2022-05-22T10:10:42.106505",
     "exception": false,
     "start_time": "2022-05-22T10:10:42.061851",
     "status": "completed"
    },
    "tags": []
   },
   "outputs": [
    {
     "data": {
      "text/plain": [
       "((11982, 784), (1984, 784))"
      ]
     },
     "execution_count": 14,
     "metadata": {},
     "output_type": "execute_result"
    }
   ],
   "source": [
    "X_train = X_train.reshape(X_train.shape[0], -1)\n",
    "X_test = X_test.reshape(X_test.shape[0], -1)\n",
    "X_train.shape, X_test.shape"
   ]
  },
  {
   "cell_type": "code",
   "execution_count": 15,
   "id": "73c5f88a",
   "metadata": {
    "execution": {
     "iopub.execute_input": "2022-05-22T10:10:42.161140Z",
     "iopub.status.busy": "2022-05-22T10:10:42.160408Z",
     "iopub.status.idle": "2022-05-22T10:10:42.178157Z",
     "shell.execute_reply": "2022-05-22T10:10:42.178689Z"
    },
    "papermill": {
     "duration": 0.047941,
     "end_time": "2022-05-22T10:10:42.178865",
     "exception": false,
     "start_time": "2022-05-22T10:10:42.130924",
     "status": "completed"
    },
    "tags": []
   },
   "outputs": [],
   "source": [
    "#Impoting functions from 'Kudzu'\n",
    "from kudzu.model import Model\n",
    "from kudzu.train import Learner\n",
    "from kudzu.optim import GD\n",
    "from kudzu.data import Data, Sampler,Dataloader\n",
    "\n",
    "from kudzu.callbacks import AccCallback\n",
    "from kudzu.callbacks import ClfCallback\n",
    "\n",
    "from kudzu.loss import MSE\n",
    "\n",
    "from kudzu.layer import Sigmoid,Relu\n",
    "from kudzu.layer import Affine"
   ]
  },
  {
   "cell_type": "markdown",
   "id": "bc01172a",
   "metadata": {
    "papermill": {
     "duration": 0.027331,
     "end_time": "2022-05-22T10:10:42.234465",
     "exception": false,
     "start_time": "2022-05-22T10:10:42.207134",
     "status": "completed"
    },
    "tags": []
   },
   "source": [
    "### Let us create a `Config` class, to store important parameters. \n",
    "This class essentially plays the role of a dictionary."
   ]
  },
  {
   "cell_type": "code",
   "execution_count": 16,
   "id": "978281aa",
   "metadata": {
    "execution": {
     "iopub.execute_input": "2022-05-22T10:10:42.295341Z",
     "iopub.status.busy": "2022-05-22T10:10:42.294736Z",
     "iopub.status.idle": "2022-05-22T10:10:42.307813Z",
     "shell.execute_reply": "2022-05-22T10:10:42.307301Z"
    },
    "papermill": {
     "duration": 0.046145,
     "end_time": "2022-05-22T10:10:42.307945",
     "exception": false,
     "start_time": "2022-05-22T10:10:42.261800",
     "status": "completed"
    },
    "tags": []
   },
   "outputs": [],
   "source": [
    "class Config:\n",
    "    pass\n",
    "config = Config()\n",
    "config.lr = 0.001\n",
    "config.num_epochs = 250\n",
    "config.bs = 50"
   ]
  },
  {
   "cell_type": "markdown",
   "id": "1385fa59",
   "metadata": {
    "papermill": {
     "duration": 0.027464,
     "end_time": "2022-05-22T10:10:42.363121",
     "exception": false,
     "start_time": "2022-05-22T10:10:42.335657",
     "status": "completed"
    },
    "tags": []
   },
   "source": [
    "### Running Models with the Training data\n",
    "Details about the network layers:\n",
    "- A first affine layer has 784 inputs and does 100 affine transforms. These are followed by a Relu\n",
    "- A second affine layer has 100 inputs from the 100 activations of the past layer, and does 100 affine transforms. These are followed by a Relu\n",
    "- A third affine layer has 100 activations and does 2 affine transformations to create an embedding for visualization. There is no non-linearity here.\n",
    "- A final \"logistic regression\" which has an affine transform from 2 inputs to 1 output, which is squeezed through a sigmoid.\n"
   ]
  },
  {
   "cell_type": "code",
   "execution_count": 17,
   "id": "2b9c66db",
   "metadata": {
    "execution": {
     "iopub.execute_input": "2022-05-22T10:10:42.423337Z",
     "iopub.status.busy": "2022-05-22T10:10:42.422749Z",
     "iopub.status.idle": "2022-05-22T10:10:42.436715Z",
     "shell.execute_reply": "2022-05-22T10:10:42.436180Z"
    },
    "papermill": {
     "duration": 0.045982,
     "end_time": "2022-05-22T10:10:42.436845",
     "exception": false,
     "start_time": "2022-05-22T10:10:42.390863",
     "status": "completed"
    },
    "tags": []
   },
   "outputs": [],
   "source": [
    "data = Data(X_train, y_train.reshape(-1,1))\n",
    "sampler = Sampler(data, config.bs, shuffle=True)\n",
    "\n",
    "dl = Dataloader(data, sampler)\n",
    "\n",
    "opt = GD(config.lr)\n",
    "loss = MSE()"
   ]
  },
  {
   "cell_type": "code",
   "execution_count": 18,
   "id": "b275e4c2",
   "metadata": {
    "execution": {
     "iopub.execute_input": "2022-05-22T10:10:42.510646Z",
     "iopub.status.busy": "2022-05-22T10:10:42.506267Z",
     "iopub.status.idle": "2022-05-22T10:10:42.513265Z",
     "shell.execute_reply": "2022-05-22T10:10:42.512766Z"
    },
    "papermill": {
     "duration": 0.048963,
     "end_time": "2022-05-22T10:10:42.513397",
     "exception": false,
     "start_time": "2022-05-22T10:10:42.464434",
     "status": "completed"
    },
    "tags": []
   },
   "outputs": [],
   "source": [
    "training_data_x = X_train\n",
    "testing_data_x = X_test\n",
    "training_data_y = y_train.reshape(-1,1)\n",
    "testing_data_y = y_test.reshape(-1,1)"
   ]
  },
  {
   "cell_type": "code",
   "execution_count": 19,
   "id": "76951160",
   "metadata": {
    "execution": {
     "iopub.execute_input": "2022-05-22T10:10:42.573269Z",
     "iopub.status.busy": "2022-05-22T10:10:42.572651Z",
     "iopub.status.idle": "2022-05-22T10:10:42.589758Z",
     "shell.execute_reply": "2022-05-22T10:10:42.590248Z"
    },
    "papermill": {
     "duration": 0.04957,
     "end_time": "2022-05-22T10:10:42.590395",
     "exception": false,
     "start_time": "2022-05-22T10:10:42.540825",
     "status": "completed"
    },
    "tags": []
   },
   "outputs": [
    {
     "name": "stdout",
     "output_type": "stream",
     "text": [
      "xavier\n",
      "xavier\n",
      "xavier\n",
      "xavier\n",
      "xavier\n"
     ]
    }
   ],
   "source": [
    "layers = [Affine(\"first\", 784, 100), Relu(\"first\"), Affine(\"second\", 100, 100), Relu(\"second\"), Affine(\"third\", 100, 2), Affine(\"last\", 2, 1), Sigmoid(\"last\")]\n",
    "model_nn = Model(layers)\n",
    "model_lr = Model([Affine(\"logits\", 784, 1), Sigmoid(\"sigmoid\")])"
   ]
  },
  {
   "cell_type": "code",
   "execution_count": 20,
   "id": "6eede77a",
   "metadata": {
    "execution": {
     "iopub.execute_input": "2022-05-22T10:10:42.650553Z",
     "iopub.status.busy": "2022-05-22T10:10:42.649946Z",
     "iopub.status.idle": "2022-05-22T10:10:42.662839Z",
     "shell.execute_reply": "2022-05-22T10:10:42.662335Z"
    },
    "papermill": {
     "duration": 0.044566,
     "end_time": "2022-05-22T10:10:42.662962",
     "exception": false,
     "start_time": "2022-05-22T10:10:42.618396",
     "status": "completed"
    },
    "tags": []
   },
   "outputs": [],
   "source": [
    "nn_learner = Learner(loss, model_nn, opt, config.num_epochs)\n",
    "acc_nn = ClfCallback(nn_learner, config.bs, training_data_x , testing_data_x, training_data_y, testing_data_y)\n",
    "nn_learner.set_callbacks([acc_nn])"
   ]
  },
  {
   "cell_type": "code",
   "execution_count": 21,
   "id": "877b6cc7",
   "metadata": {
    "execution": {
     "iopub.execute_input": "2022-05-22T10:10:42.723136Z",
     "iopub.status.busy": "2022-05-22T10:10:42.722512Z",
     "iopub.status.idle": "2022-05-22T10:10:42.737279Z",
     "shell.execute_reply": "2022-05-22T10:10:42.736734Z"
    },
    "papermill": {
     "duration": 0.046779,
     "end_time": "2022-05-22T10:10:42.737410",
     "exception": false,
     "start_time": "2022-05-22T10:10:42.690631",
     "status": "completed"
    },
    "tags": []
   },
   "outputs": [],
   "source": [
    "lr_learner = Learner(loss, model_lr, opt, config.num_epochs)\n",
    "acc_lr = ClfCallback(lr_learner, config.bs, training_data_x , testing_data_x, training_data_y, testing_data_y)\n",
    "lr_learner.set_callbacks([acc_lr])"
   ]
  },
  {
   "cell_type": "code",
   "execution_count": 22,
   "id": "d9b133c3",
   "metadata": {
    "execution": {
     "iopub.execute_input": "2022-05-22T10:10:42.808714Z",
     "iopub.status.busy": "2022-05-22T10:10:42.799627Z",
     "iopub.status.idle": "2022-05-22T10:12:06.477764Z",
     "shell.execute_reply": "2022-05-22T10:12:06.478556Z"
    },
    "papermill": {
     "duration": 83.713361,
     "end_time": "2022-05-22T10:12:06.478706",
     "exception": false,
     "start_time": "2022-05-22T10:10:42.765345",
     "status": "completed"
    },
    "tags": []
   },
   "outputs": [
    {
     "name": "stdout",
     "output_type": "stream",
     "text": [
      "Epoch 0, Loss 0.2518\n",
      "Training Accuracy: 0.4811, Testing Accuracy: 0.4587\n",
      "\n"
     ]
    },
    {
     "name": "stdout",
     "output_type": "stream",
     "text": [
      "Epoch 10, Loss 0.2149\n",
      "Training Accuracy: 0.8424, Testing Accuracy: 0.8427\n",
      "\n"
     ]
    },
    {
     "name": "stdout",
     "output_type": "stream",
     "text": [
      "Epoch 20, Loss 0.1165\n",
      "Training Accuracy: 0.9182, Testing Accuracy: 0.9224\n",
      "\n"
     ]
    },
    {
     "name": "stdout",
     "output_type": "stream",
     "text": [
      "Epoch 30, Loss 0.0631\n",
      "Training Accuracy: 0.9406, Testing Accuracy: 0.9511\n",
      "\n"
     ]
    },
    {
     "name": "stdout",
     "output_type": "stream",
     "text": [
      "Epoch 40, Loss 0.0467\n",
      "Training Accuracy: 0.9523, Testing Accuracy: 0.9572\n",
      "\n"
     ]
    },
    {
     "name": "stdout",
     "output_type": "stream",
     "text": [
      "Epoch 50, Loss 0.0395\n",
      "Training Accuracy: 0.9569, Testing Accuracy: 0.9587\n",
      "\n"
     ]
    },
    {
     "name": "stdout",
     "output_type": "stream",
     "text": [
      "Epoch 60, Loss 0.0355\n",
      "Training Accuracy: 0.9600, Testing Accuracy: 0.9647\n",
      "\n"
     ]
    },
    {
     "name": "stdout",
     "output_type": "stream",
     "text": [
      "Epoch 70, Loss 0.033\n",
      "Training Accuracy: 0.9625, Testing Accuracy: 0.9662\n",
      "\n"
     ]
    },
    {
     "name": "stdout",
     "output_type": "stream",
     "text": [
      "Epoch 80, Loss 0.0311\n",
      "Training Accuracy: 0.9644, Testing Accuracy: 0.9688\n",
      "\n"
     ]
    },
    {
     "name": "stdout",
     "output_type": "stream",
     "text": [
      "Epoch 90, Loss 0.0297\n",
      "Training Accuracy: 0.9651, Testing Accuracy: 0.9703\n",
      "\n"
     ]
    },
    {
     "name": "stdout",
     "output_type": "stream",
     "text": [
      "Epoch 100, Loss 0.0285\n",
      "Training Accuracy: 0.9664, Testing Accuracy: 0.9693\n",
      "\n"
     ]
    },
    {
     "name": "stdout",
     "output_type": "stream",
     "text": [
      "Epoch 110, Loss 0.0276\n",
      "Training Accuracy: 0.9673, Testing Accuracy: 0.9693\n",
      "\n"
     ]
    },
    {
     "name": "stdout",
     "output_type": "stream",
     "text": [
      "Epoch 120, Loss 0.0267\n",
      "Training Accuracy: 0.9680, Testing Accuracy: 0.9688\n",
      "\n"
     ]
    },
    {
     "name": "stdout",
     "output_type": "stream",
     "text": [
      "Epoch 130, Loss 0.026\n",
      "Training Accuracy: 0.9690, Testing Accuracy: 0.9688\n",
      "\n"
     ]
    },
    {
     "name": "stdout",
     "output_type": "stream",
     "text": [
      "Epoch 140, Loss 0.0253\n",
      "Training Accuracy: 0.9696, Testing Accuracy: 0.9688\n",
      "\n"
     ]
    },
    {
     "name": "stdout",
     "output_type": "stream",
     "text": [
      "Epoch 150, Loss 0.0247\n",
      "Training Accuracy: 0.9705, Testing Accuracy: 0.9677\n",
      "\n"
     ]
    },
    {
     "name": "stdout",
     "output_type": "stream",
     "text": [
      "Epoch 160, Loss 0.0242\n",
      "Training Accuracy: 0.9713, Testing Accuracy: 0.9682\n",
      "\n"
     ]
    },
    {
     "name": "stdout",
     "output_type": "stream",
     "text": [
      "Epoch 170, Loss 0.0237\n",
      "Training Accuracy: 0.9721, Testing Accuracy: 0.9688\n",
      "\n"
     ]
    },
    {
     "name": "stdout",
     "output_type": "stream",
     "text": [
      "Epoch 180, Loss 0.0232\n",
      "Training Accuracy: 0.9727, Testing Accuracy: 0.9688\n",
      "\n"
     ]
    },
    {
     "name": "stdout",
     "output_type": "stream",
     "text": [
      "Epoch 190, Loss 0.0228\n",
      "Training Accuracy: 0.9730, Testing Accuracy: 0.9693\n",
      "\n"
     ]
    },
    {
     "name": "stdout",
     "output_type": "stream",
     "text": [
      "Epoch 200, Loss 0.0224\n",
      "Training Accuracy: 0.9735, Testing Accuracy: 0.9693\n",
      "\n"
     ]
    },
    {
     "name": "stdout",
     "output_type": "stream",
     "text": [
      "Epoch 210, Loss 0.022\n",
      "Training Accuracy: 0.9740, Testing Accuracy: 0.9693\n",
      "\n"
     ]
    },
    {
     "name": "stdout",
     "output_type": "stream",
     "text": [
      "Epoch 220, Loss 0.0216\n",
      "Training Accuracy: 0.9747, Testing Accuracy: 0.9688\n",
      "\n"
     ]
    },
    {
     "name": "stdout",
     "output_type": "stream",
     "text": [
      "Epoch 230, Loss 0.0212\n",
      "Training Accuracy: 0.9752, Testing Accuracy: 0.9698\n",
      "\n"
     ]
    },
    {
     "name": "stdout",
     "output_type": "stream",
     "text": [
      "Epoch 240, Loss 0.0209\n",
      "Training Accuracy: 0.9755, Testing Accuracy: 0.9698\n",
      "\n"
     ]
    },
    {
     "data": {
      "text/plain": [
       "0.03238314496569218"
      ]
     },
     "execution_count": 22,
     "metadata": {},
     "output_type": "execute_result"
    }
   ],
   "source": [
    "nn_learner.train_loop(dl)"
   ]
  },
  {
   "cell_type": "code",
   "execution_count": 23,
   "id": "e0163366",
   "metadata": {
    "execution": {
     "iopub.execute_input": "2022-05-22T10:12:06.549892Z",
     "iopub.status.busy": "2022-05-22T10:12:06.549344Z",
     "iopub.status.idle": "2022-05-22T10:12:21.640988Z",
     "shell.execute_reply": "2022-05-22T10:12:21.641753Z"
    },
    "papermill": {
     "duration": 15.13205,
     "end_time": "2022-05-22T10:12:21.641899",
     "exception": false,
     "start_time": "2022-05-22T10:12:06.509849",
     "status": "completed"
    },
    "tags": []
   },
   "outputs": [
    {
     "name": "stdout",
     "output_type": "stream",
     "text": [
      "Epoch 0, Loss 0.2488\n",
      "Training Accuracy: 0.6579, Testing Accuracy: 0.6316\n",
      "\n"
     ]
    },
    {
     "name": "stdout",
     "output_type": "stream",
     "text": [
      "Epoch 10, Loss 0.1022\n",
      "Training Accuracy: 0.9125, Testing Accuracy: 0.9234\n",
      "\n"
     ]
    },
    {
     "name": "stdout",
     "output_type": "stream",
     "text": [
      "Epoch 20, Loss 0.0789\n",
      "Training Accuracy: 0.9282, Testing Accuracy: 0.9385\n",
      "\n"
     ]
    },
    {
     "name": "stdout",
     "output_type": "stream",
     "text": [
      "Epoch 30, Loss 0.0682\n",
      "Training Accuracy: 0.9359, Testing Accuracy: 0.9451\n",
      "\n"
     ]
    },
    {
     "name": "stdout",
     "output_type": "stream",
     "text": [
      "Epoch 40, Loss 0.0617\n",
      "Training Accuracy: 0.9403, Testing Accuracy: 0.9526\n",
      "\n"
     ]
    },
    {
     "name": "stdout",
     "output_type": "stream",
     "text": [
      "Epoch 50, Loss 0.0572\n",
      "Training Accuracy: 0.9442, Testing Accuracy: 0.9561\n",
      "\n"
     ]
    },
    {
     "name": "stdout",
     "output_type": "stream",
     "text": [
      "Epoch 60, Loss 0.0539\n",
      "Training Accuracy: 0.9468, Testing Accuracy: 0.9577\n",
      "\n"
     ]
    },
    {
     "name": "stdout",
     "output_type": "stream",
     "text": [
      "Epoch 70, Loss 0.0514\n",
      "Training Accuracy: 0.9493, Testing Accuracy: 0.9597\n",
      "\n"
     ]
    },
    {
     "name": "stdout",
     "output_type": "stream",
     "text": [
      "Epoch 80, Loss 0.0494\n",
      "Training Accuracy: 0.9510, Testing Accuracy: 0.9612\n",
      "\n"
     ]
    },
    {
     "name": "stdout",
     "output_type": "stream",
     "text": [
      "Epoch 90, Loss 0.0477\n",
      "Training Accuracy: 0.9522, Testing Accuracy: 0.9627\n",
      "\n"
     ]
    },
    {
     "name": "stdout",
     "output_type": "stream",
     "text": [
      "Epoch 100, Loss 0.0462\n",
      "Training Accuracy: 0.9533, Testing Accuracy: 0.9642\n",
      "\n"
     ]
    },
    {
     "name": "stdout",
     "output_type": "stream",
     "text": [
      "Epoch 110, Loss 0.045\n",
      "Training Accuracy: 0.9539, Testing Accuracy: 0.9637\n",
      "\n"
     ]
    },
    {
     "name": "stdout",
     "output_type": "stream",
     "text": [
      "Epoch 120, Loss 0.0439\n",
      "Training Accuracy: 0.9551, Testing Accuracy: 0.9637\n",
      "\n"
     ]
    },
    {
     "name": "stdout",
     "output_type": "stream",
     "text": [
      "Epoch 130, Loss 0.043\n",
      "Training Accuracy: 0.9559, Testing Accuracy: 0.9647\n",
      "\n"
     ]
    },
    {
     "name": "stdout",
     "output_type": "stream",
     "text": [
      "Epoch 140, Loss 0.0422\n",
      "Training Accuracy: 0.9565, Testing Accuracy: 0.9652\n",
      "\n"
     ]
    },
    {
     "name": "stdout",
     "output_type": "stream",
     "text": [
      "Epoch 150, Loss 0.0414\n",
      "Training Accuracy: 0.9570, Testing Accuracy: 0.9652\n",
      "\n"
     ]
    },
    {
     "name": "stdout",
     "output_type": "stream",
     "text": [
      "Epoch 160, Loss 0.0407\n",
      "Training Accuracy: 0.9578, Testing Accuracy: 0.9662\n",
      "\n"
     ]
    },
    {
     "name": "stdout",
     "output_type": "stream",
     "text": [
      "Epoch 170, Loss 0.0401\n",
      "Training Accuracy: 0.9584, Testing Accuracy: 0.9662\n",
      "\n"
     ]
    },
    {
     "name": "stdout",
     "output_type": "stream",
     "text": [
      "Epoch 180, Loss 0.0396\n",
      "Training Accuracy: 0.9589, Testing Accuracy: 0.9662\n",
      "\n"
     ]
    },
    {
     "name": "stdout",
     "output_type": "stream",
     "text": [
      "Epoch 190, Loss 0.039\n",
      "Training Accuracy: 0.9595, Testing Accuracy: 0.9667\n",
      "\n"
     ]
    },
    {
     "name": "stdout",
     "output_type": "stream",
     "text": [
      "Epoch 200, Loss 0.0386\n",
      "Training Accuracy: 0.9597, Testing Accuracy: 0.9672\n",
      "\n"
     ]
    },
    {
     "name": "stdout",
     "output_type": "stream",
     "text": [
      "Epoch 210, Loss 0.0381\n",
      "Training Accuracy: 0.9608, Testing Accuracy: 0.9677\n",
      "\n"
     ]
    },
    {
     "name": "stdout",
     "output_type": "stream",
     "text": [
      "Epoch 220, Loss 0.0377\n",
      "Training Accuracy: 0.9611, Testing Accuracy: 0.9677\n",
      "\n"
     ]
    },
    {
     "name": "stdout",
     "output_type": "stream",
     "text": [
      "Epoch 230, Loss 0.0373\n",
      "Training Accuracy: 0.9613, Testing Accuracy: 0.9677\n",
      "\n"
     ]
    },
    {
     "name": "stdout",
     "output_type": "stream",
     "text": [
      "Epoch 240, Loss 0.037\n",
      "Training Accuracy: 0.9614, Testing Accuracy: 0.9677\n",
      "\n"
     ]
    },
    {
     "data": {
      "text/plain": [
       "0.01784170347410205"
      ]
     },
     "execution_count": 23,
     "metadata": {},
     "output_type": "execute_result"
    }
   ],
   "source": [
    "lr_learner.train_loop(dl)"
   ]
  },
  {
   "cell_type": "code",
   "execution_count": 24,
   "id": "ca410940",
   "metadata": {
    "execution": {
     "iopub.execute_input": "2022-05-22T10:12:21.727286Z",
     "iopub.status.busy": "2022-05-22T10:12:21.726730Z",
     "iopub.status.idle": "2022-05-22T10:12:21.930895Z",
     "shell.execute_reply": "2022-05-22T10:12:21.931426Z"
    },
    "papermill": {
     "duration": 0.252297,
     "end_time": "2022-05-22T10:12:21.931592",
     "exception": false,
     "start_time": "2022-05-22T10:12:21.679295",
     "status": "completed"
    },
    "tags": []
   },
   "outputs": [
    {
     "data": {
      "text/plain": [
       "<matplotlib.legend.Legend at 0x7f8d8fb86518>"
      ]
     },
     "execution_count": 24,
     "metadata": {},
     "output_type": "execute_result"
    },
    {
     "data": {
      "image/png": "[encoded data removed]",
      "text/plain": [
       "<Figure size 1080x720 with 1 Axes>"
      ]
     },
     "metadata": {
      "needs_background": "light"
     },
     "output_type": "display_data"
    }
   ],
   "source": [
    "#comparing the results of NN and LR\n",
    "plt.figure(figsize=(15,10))\n",
    "\n",
    "# Neural Network plots\n",
    "plt.plot(acc_nn.accuracies, 'r-', label = \"Training Accuracies - NN\")\n",
    "plt.plot(acc_nn.test_accuracies, 'g-', label = \"Testing Accuracies - NN\")\n",
    "\n",
    "# Logistic Regression plots\n",
    "plt.plot(acc_lr.accuracies, 'k-', label = \"Training Accuracies - LR\")\n",
    "plt.plot(acc_lr.test_accuracies, 'b-', label = \"Testing Accuracies - LR\")\n",
    "plt.legend()"
   ]
  },
  {
   "cell_type": "markdown",
   "id": "80dfb35c",
   "metadata": {
    "papermill": {
     "duration": 0.042423,
     "end_time": "2022-05-22T10:12:22.017059",
     "exception": false,
     "start_time": "2022-05-22T10:12:21.974636",
     "status": "completed"
    },
    "tags": []
   },
   "source": [
    "#### Plotting the outputs of this layer of the NN.\n"
   ]
  },
  {
   "cell_type": "code",
   "execution_count": 25,
   "id": "45eb2ff5",
   "metadata": {
    "execution": {
     "iopub.execute_input": "2022-05-22T10:12:22.108586Z",
     "iopub.status.busy": "2022-05-22T10:12:22.107443Z",
     "iopub.status.idle": "2022-05-22T10:12:22.127049Z",
     "shell.execute_reply": "2022-05-22T10:12:22.127561Z"
    },
    "papermill": {
     "duration": 0.068218,
     "end_time": "2022-05-22T10:12:22.127721",
     "exception": false,
     "start_time": "2022-05-22T10:12:22.059503",
     "status": "completed"
    },
    "tags": []
   },
   "outputs": [],
   "source": [
    "new_model = Model(layers[:-2])\n",
    "testing_plot = new_model(testing_data_x)"
   ]
  },
  {
   "cell_type": "code",
   "execution_count": 26,
   "id": "4c0a5485",
   "metadata": {
    "execution": {
     "iopub.execute_input": "2022-05-22T10:12:22.221674Z",
     "iopub.status.busy": "2022-05-22T10:12:22.219740Z",
     "iopub.status.idle": "2022-05-22T10:12:22.426436Z",
     "shell.execute_reply": "2022-05-22T10:12:22.426852Z"
    },
    "papermill": {
     "duration": 0.256119,
     "end_time": "2022-05-22T10:12:22.426990",
     "exception": false,
     "start_time": "2022-05-22T10:12:22.170871",
     "status": "completed"
    },
    "tags": []
   },
   "outputs": [
    {
     "data": {
      "text/plain": [
       "Text(0.5, 1.0, 'Outputs')"
      ]
     },
     "execution_count": 26,
     "metadata": {},
     "output_type": "execute_result"
    },
    {
     "data": {
      "image/png": "[encoded data removed]",
      "text/plain": [
       "<Figure size 576x504 with 1 Axes>"
      ]
     },
     "metadata": {
      "needs_background": "light"
     },
     "output_type": "display_data"
    }
   ],
   "source": [
    "# Plotting the scatter plot of points and color coding by class\n",
    "plt.figure(figsize=(8,7))\n",
    "plt.scatter(testing_plot[:,0], testing_plot[:,1], alpha = 0.1, c = y_test.ravel());\n",
    "plt.title('Outputs')"
   ]
  },
  {
   "cell_type": "markdown",
   "id": "a74fcf8f",
   "metadata": {
    "papermill": {
     "duration": 0.04053,
     "end_time": "2022-05-22T10:12:22.508410",
     "exception": false,
     "start_time": "2022-05-22T10:12:22.467880",
     "status": "completed"
    },
    "tags": []
   },
   "source": [
    "Probability contours"
   ]
  },
  {
   "cell_type": "code",
   "execution_count": 27,
   "id": "d0afc8e3",
   "metadata": {
    "execution": {
     "iopub.execute_input": "2022-05-22T10:12:22.629745Z",
     "iopub.status.busy": "2022-05-22T10:12:22.629063Z",
     "iopub.status.idle": "2022-05-22T10:12:22.640534Z",
     "shell.execute_reply": "2022-05-22T10:12:22.639974Z"
    },
    "papermill": {
     "duration": 0.05631,
     "end_time": "2022-05-22T10:12:22.640665",
     "exception": false,
     "start_time": "2022-05-22T10:12:22.584355",
     "status": "completed"
    },
    "tags": []
   },
   "outputs": [],
   "source": [
    "model_prob = Model(layers[-2:]) "
   ]
  },
  {
   "cell_type": "code",
   "execution_count": 28,
   "id": "9b96e238",
   "metadata": {
    "execution": {
     "iopub.execute_input": "2022-05-22T10:12:22.739398Z",
     "iopub.status.busy": "2022-05-22T10:12:22.738844Z",
     "iopub.status.idle": "2022-05-22T10:12:22.752508Z",
     "shell.execute_reply": "2022-05-22T10:12:22.752006Z"
    },
    "papermill": {
     "duration": 0.065748,
     "end_time": "2022-05-22T10:12:22.752625",
     "exception": false,
     "start_time": "2022-05-22T10:12:22.686877",
     "status": "completed"
    },
    "tags": []
   },
   "outputs": [],
   "source": [
    "#creating the x and y ranges according to the above generated plot.\n",
    "x_range = np.linspace(-4, 1, 100) \n",
    "y_range = np.linspace(-6, 6, 100) \n",
    "x_grid, y_grid = np.meshgrid(x_range, y_range) # x_grid and y_grig are of size 100 X 100\n",
    "\n",
    "# converting x_grid and y_grid to continuous arrays\n",
    "x_gridflat = np.ravel(x_grid)\n",
    "y_gridflat = np.ravel(y_grid)\n",
    "\n",
    "# The last layer of the current model takes two columns as input. Hence transpose of np.vstack() is required.\n",
    "X = np.vstack((x_gridflat, y_gridflat)).T\n",
    "\n",
    "prob_contour = model_prob(X).reshape(100,100) "
   ]
  },
  {
   "cell_type": "code",
   "execution_count": 29,
   "id": "da72499a",
   "metadata": {
    "execution": {
     "iopub.execute_input": "2022-05-22T10:12:22.845588Z",
     "iopub.status.busy": "2022-05-22T10:12:22.845036Z",
     "iopub.status.idle": "2022-05-22T10:12:23.074870Z",
     "shell.execute_reply": "2022-05-22T10:12:23.075295Z"
    },
    "papermill": {
     "duration": 0.281366,
     "end_time": "2022-05-22T10:12:23.075437",
     "exception": false,
     "start_time": "2022-05-22T10:12:22.794071",
     "status": "completed"
    },
    "tags": []
   },
   "outputs": [
    {
     "data": {
      "image/png": "[encoded data removed]",
      "text/plain": [
       "<Figure size 720x648 with 1 Axes>"
      ]
     },
     "metadata": {
      "needs_background": "light"
     },
     "output_type": "display_data"
    }
   ],
   "source": [
    "plt.figure(figsize=(10,9))\n",
    "plt.scatter(testing_plot[:,0], testing_plot[:,1], alpha = 0.1, c = y_test.ravel())\n",
    "contours = plt.contour(x_grid,y_grid,prob_contour)\n",
    "plt.title('Probability Contours')\n",
    "plt.clabel(contours, inline = True );"
   ]
  },
  {
   "cell_type": "code",
   "execution_count": null,
   "id": "e81b4ac7",
   "metadata": {
    "papermill": {
     "duration": 0.042931,
     "end_time": "2022-05-22T10:12:23.161665",
     "exception": false,
     "start_time": "2022-05-22T10:12:23.118734",
     "status": "completed"
    },
    "tags": []
   },
   "outputs": [],
   "source": []
  }
 ],
 "metadata": {
  "kernelspec": {
   "display_name": "Python 3",
   "language": "python",
   "name": "python3"
  },
  "language_info": {
   "codemirror_mode": {
    "name": "ipython",
    "version": 3
   },
   "file_extension": ".py",
   "mimetype": "text/x-python",
   "name": "python",
   "nbconvert_exporter": "python",
   "pygments_lexer": "ipython3",
   "version": "3.6.15"
  },
  "papermill": {
   "default_parameters": {},
   "duration": 107.532714,
   "end_time": "2022-05-22T10:12:23.623547",
   "environment_variables": {},
   "exception": null,
   "input_path": "2020-08-11-part2.ipynb",
   "output_path": "2020-08-11-part2.ipynb",
   "parameters": {},
   "start_time": "2022-05-22T10:10:36.090833",
   "version": "2.3.3"
  }
 },
 "nbformat": 4,
 "nbformat_minor": 5
}