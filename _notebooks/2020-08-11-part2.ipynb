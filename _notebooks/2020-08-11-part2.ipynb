{
 "cells": [
  {
   "cell_type": "markdown",
   "id": "98380cd3",
   "metadata": {
    "papermill": {
     "duration": 0.034062,
     "end_time": "2021-12-24T20:09:49.139722",
     "exception": false,
     "start_time": "2021-12-24T20:09:49.105660",
     "status": "completed"
    },
    "tags": []
   },
   "source": [
    "# Distinguish Your Own Digits (DYOD)"
   ]
  },
  {
   "cell_type": "markdown",
   "id": "ef31240d",
   "metadata": {
    "papermill": {
     "duration": 0.027785,
     "end_time": "2021-12-24T20:09:49.196476",
     "exception": false,
     "start_time": "2021-12-24T20:09:49.168691",
     "status": "completed"
    },
    "tags": []
   },
   "source": [
    "You are going to write a classifier that distinguishes between the number 3 and number 8."
   ]
  },
  {
   "cell_type": "code",
   "execution_count": 1,
   "id": "b15c8646",
   "metadata": {
    "execution": {
     "iopub.execute_input": "2021-12-24T20:09:49.266059Z",
     "iopub.status.busy": "2021-12-24T20:09:49.265424Z",
     "iopub.status.idle": "2021-12-24T20:09:49.278194Z",
     "shell.execute_reply": "2021-12-24T20:09:49.277675Z"
    },
    "papermill": {
     "duration": 0.055108,
     "end_time": "2021-12-24T20:09:49.278351",
     "exception": false,
     "start_time": "2021-12-24T20:09:49.223243",
     "status": "completed"
    },
    "tags": []
   },
   "outputs": [],
   "source": [
    "%load_ext autoreload\n",
    "%autoreload 2"
   ]
  },
  {
   "cell_type": "code",
   "execution_count": 2,
   "id": "22ef38dc",
   "metadata": {
    "execution": {
     "iopub.execute_input": "2021-12-24T20:09:49.336772Z",
     "iopub.status.busy": "2021-12-24T20:09:49.336115Z",
     "iopub.status.idle": "2021-12-24T20:09:50.038462Z",
     "shell.execute_reply": "2021-12-24T20:09:50.037885Z"
    },
    "papermill": {
     "duration": 0.733059,
     "end_time": "2021-12-24T20:09:50.038601",
     "exception": false,
     "start_time": "2021-12-24T20:09:49.305542",
     "status": "completed"
    },
    "tags": []
   },
   "outputs": [],
   "source": [
    "%matplotlib inline\n",
    "import numpy as np\n",
    "import matplotlib.pyplot as plt\n",
    "import pandas as pd"
   ]
  },
  {
   "cell_type": "markdown",
   "id": "ba036198",
   "metadata": {
    "papermill": {
     "duration": 0.032789,
     "end_time": "2021-12-24T20:09:50.105181",
     "exception": false,
     "start_time": "2021-12-24T20:09:50.072392",
     "status": "completed"
    },
    "tags": []
   },
   "source": [
    "From the command line run `pip install mnist`. This is a library that will help you bring down the mnist dataset. If you run this from a notebook, you need to put  `!pip install mnist` in a cell by itself."
   ]
  },
  {
   "cell_type": "code",
   "execution_count": 3,
   "id": "bb6ad8a1",
   "metadata": {
    "execution": {
     "iopub.execute_input": "2021-12-24T20:09:50.162460Z",
     "iopub.status.busy": "2021-12-24T20:09:50.161352Z",
     "iopub.status.idle": "2021-12-24T20:09:52.074399Z",
     "shell.execute_reply": "2021-12-24T20:09:52.076104Z"
    },
    "papermill": {
     "duration": 1.945813,
     "end_time": "2021-12-24T20:09:52.076322",
     "exception": false,
     "start_time": "2021-12-24T20:09:50.130509",
     "status": "completed"
    },
    "tags": []
   },
   "outputs": [
    {
     "name": "stdout",
     "output_type": "stream",
     "text": [
      "Collecting mnist\r\n"
     ]
    },
    {
     "name": "stdout",
     "output_type": "stream",
     "text": [
      "  Downloading mnist-0.2.2-py2.py3-none-any.whl (3.5 kB)\r\n",
      "Requirement already satisfied: numpy in /opt/hostedtoolcache/Python/3.6.15/x64/lib/python3.6/site-packages (from mnist) (1.19.5)\r\n"
     ]
    },
    {
     "name": "stdout",
     "output_type": "stream",
     "text": [
      "Installing collected packages: mnist\r\n"
     ]
    },
    {
     "name": "stdout",
     "output_type": "stream",
     "text": [
      "Successfully installed mnist-0.2.2\r\n"
     ]
    }
   ],
   "source": [
    "!pip install mnist"
   ]
  },
  {
   "cell_type": "markdown",
   "id": "69df9c9a",
   "metadata": {
    "papermill": {
     "duration": 0.026719,
     "end_time": "2021-12-24T20:09:52.130592",
     "exception": false,
     "start_time": "2021-12-24T20:09:52.103873",
     "status": "completed"
    },
    "tags": []
   },
   "source": [
    "## Preparing the Data"
   ]
  },
  {
   "cell_type": "code",
   "execution_count": 4,
   "id": "7f69d806",
   "metadata": {
    "execution": {
     "iopub.execute_input": "2021-12-24T20:09:52.196233Z",
     "iopub.status.busy": "2021-12-24T20:09:52.195615Z",
     "iopub.status.idle": "2021-12-24T20:09:52.212336Z",
     "shell.execute_reply": "2021-12-24T20:09:52.211869Z"
    },
    "papermill": {
     "duration": 0.052023,
     "end_time": "2021-12-24T20:09:52.212466",
     "exception": false,
     "start_time": "2021-12-24T20:09:52.160443",
     "status": "completed"
    },
    "tags": []
   },
   "outputs": [],
   "source": [
    "import mnist"
   ]
  },
  {
   "cell_type": "code",
   "execution_count": 5,
   "id": "a411e44f",
   "metadata": {
    "execution": {
     "iopub.execute_input": "2021-12-24T20:09:52.277095Z",
     "iopub.status.busy": "2021-12-24T20:09:52.276348Z",
     "iopub.status.idle": "2021-12-24T20:09:52.901237Z",
     "shell.execute_reply": "2021-12-24T20:09:52.900554Z"
    },
    "papermill": {
     "duration": 0.660115,
     "end_time": "2021-12-24T20:09:52.901405",
     "exception": false,
     "start_time": "2021-12-24T20:09:52.241290",
     "status": "completed"
    },
    "tags": []
   },
   "outputs": [],
   "source": [
    "train_images = mnist.train_images()\n",
    "train_labels = mnist.train_labels()"
   ]
  },
  {
   "cell_type": "code",
   "execution_count": 6,
   "id": "dceab3a5",
   "metadata": {
    "execution": {
     "iopub.execute_input": "2021-12-24T20:09:52.965402Z",
     "iopub.status.busy": "2021-12-24T20:09:52.964763Z",
     "iopub.status.idle": "2021-12-24T20:09:52.982996Z",
     "shell.execute_reply": "2021-12-24T20:09:52.982396Z"
    },
    "papermill": {
     "duration": 0.052331,
     "end_time": "2021-12-24T20:09:52.983128",
     "exception": false,
     "start_time": "2021-12-24T20:09:52.930797",
     "status": "completed"
    },
    "tags": []
   },
   "outputs": [
    {
     "data": {
      "text/plain": [
       "((60000, 28, 28), (60000,))"
      ]
     },
     "execution_count": 6,
     "metadata": {},
     "output_type": "execute_result"
    }
   ],
   "source": [
    "train_images.shape, train_labels.shape"
   ]
  },
  {
   "cell_type": "code",
   "execution_count": 7,
   "id": "f50dc2bb",
   "metadata": {
    "execution": {
     "iopub.execute_input": "2021-12-24T20:09:53.045376Z",
     "iopub.status.busy": "2021-12-24T20:09:53.044768Z",
     "iopub.status.idle": "2021-12-24T20:09:53.233749Z",
     "shell.execute_reply": "2021-12-24T20:09:53.233341Z"
    },
    "papermill": {
     "duration": 0.221846,
     "end_time": "2021-12-24T20:09:53.233865",
     "exception": false,
     "start_time": "2021-12-24T20:09:53.012019",
     "status": "completed"
    },
    "tags": []
   },
   "outputs": [],
   "source": [
    "test_images = mnist.test_images()\n",
    "test_labels = mnist.test_labels()"
   ]
  },
  {
   "cell_type": "code",
   "execution_count": 8,
   "id": "fc38cf1b",
   "metadata": {
    "execution": {
     "iopub.execute_input": "2021-12-24T20:09:53.295998Z",
     "iopub.status.busy": "2021-12-24T20:09:53.295379Z",
     "iopub.status.idle": "2021-12-24T20:09:53.310111Z",
     "shell.execute_reply": "2021-12-24T20:09:53.309663Z"
    },
    "papermill": {
     "duration": 0.048077,
     "end_time": "2021-12-24T20:09:53.310235",
     "exception": false,
     "start_time": "2021-12-24T20:09:53.262158",
     "status": "completed"
    },
    "tags": []
   },
   "outputs": [
    {
     "data": {
      "text/plain": [
       "((10000, 28, 28), (10000,))"
      ]
     },
     "execution_count": 8,
     "metadata": {},
     "output_type": "execute_result"
    }
   ],
   "source": [
    "test_images.shape, test_labels.shape"
   ]
  },
  {
   "cell_type": "code",
   "execution_count": 9,
   "id": "f9ed8fe0",
   "metadata": {
    "execution": {
     "iopub.execute_input": "2021-12-24T20:09:53.371843Z",
     "iopub.status.busy": "2021-12-24T20:09:53.371290Z",
     "iopub.status.idle": "2021-12-24T20:09:53.531791Z",
     "shell.execute_reply": "2021-12-24T20:09:53.532238Z"
    },
    "papermill": {
     "duration": 0.192096,
     "end_time": "2021-12-24T20:09:53.532393",
     "exception": false,
     "start_time": "2021-12-24T20:09:53.340297",
     "status": "completed"
    },
    "tags": []
   },
   "outputs": [
    {
     "name": "stdout",
     "output_type": "stream",
     "text": [
      "2\n"
     ]
    },
    {
     "data": {
      "text/plain": [
       "<matplotlib.image.AxesImage at 0x7f78e13174e0>"
      ]
     },
     "execution_count": 9,
     "metadata": {},
     "output_type": "execute_result"
    },
    {
     "data": {
      "image/png": "[encoded data removed]",
      "text/plain": [
       "<Figure size 432x288 with 1 Axes>"
      ]
     },
     "metadata": {
      "needs_background": "light"
     },
     "output_type": "display_data"
    }
   ],
   "source": [
    "image_index = 7776 # You may select anything up to 60,000\n",
    "print(train_labels[image_index]) \n",
    "plt.imshow(train_images[image_index], cmap='Greys')"
   ]
  },
  {
   "cell_type": "markdown",
   "id": "a8d2388d",
   "metadata": {
    "papermill": {
     "duration": 0.027985,
     "end_time": "2021-12-24T20:09:53.589516",
     "exception": false,
     "start_time": "2021-12-24T20:09:53.561531",
     "status": "completed"
    },
    "tags": []
   },
   "source": [
    "## Filter data to get 3 and 8 out"
   ]
  },
  {
   "cell_type": "code",
   "execution_count": 10,
   "id": "776f7fc7",
   "metadata": {
    "execution": {
     "iopub.execute_input": "2021-12-24T20:09:53.649490Z",
     "iopub.status.busy": "2021-12-24T20:09:53.648401Z",
     "iopub.status.idle": "2021-12-24T20:09:53.664320Z",
     "shell.execute_reply": "2021-12-24T20:09:53.664741Z"
    },
    "papermill": {
     "duration": 0.04781,
     "end_time": "2021-12-24T20:09:53.664903",
     "exception": false,
     "start_time": "2021-12-24T20:09:53.617093",
     "status": "completed"
    },
    "tags": []
   },
   "outputs": [],
   "source": [
    "train_filter = np.where((train_labels == 3 ) | (train_labels == 8))\n",
    "test_filter = np.where((test_labels == 3) | (test_labels == 8))\n",
    "X_train, y_train = train_images[train_filter], train_labels[train_filter]\n",
    "X_test, y_test = test_images[test_filter], test_labels[test_filter]"
   ]
  },
  {
   "cell_type": "markdown",
   "id": "948f0b7e",
   "metadata": {
    "papermill": {
     "duration": 0.02693,
     "end_time": "2021-12-24T20:09:53.719692",
     "exception": false,
     "start_time": "2021-12-24T20:09:53.692762",
     "status": "completed"
    },
    "tags": []
   },
   "source": [
    "We normalize the pizel values in the 0 to 1 range"
   ]
  },
  {
   "cell_type": "code",
   "execution_count": 11,
   "id": "ee4c2166",
   "metadata": {
    "execution": {
     "iopub.execute_input": "2021-12-24T20:09:53.781347Z",
     "iopub.status.busy": "2021-12-24T20:09:53.780792Z",
     "iopub.status.idle": "2021-12-24T20:09:53.836147Z",
     "shell.execute_reply": "2021-12-24T20:09:53.835392Z"
    },
    "papermill": {
     "duration": 0.089472,
     "end_time": "2021-12-24T20:09:53.836389",
     "exception": false,
     "start_time": "2021-12-24T20:09:53.746917",
     "status": "completed"
    },
    "tags": []
   },
   "outputs": [],
   "source": [
    "X_train = X_train/255.\n",
    "X_test = X_test/255."
   ]
  },
  {
   "cell_type": "markdown",
   "id": "ddcf4fab",
   "metadata": {
    "papermill": {
     "duration": 0.030589,
     "end_time": "2021-12-24T20:09:53.897193",
     "exception": false,
     "start_time": "2021-12-24T20:09:53.866604",
     "status": "completed"
    },
    "tags": []
   },
   "source": [
    "And setup the labels as 1 (when the digit is 3) and 0 (when the digit is 8)"
   ]
  },
  {
   "cell_type": "code",
   "execution_count": 12,
   "id": "7dc908f2",
   "metadata": {
    "execution": {
     "iopub.execute_input": "2021-12-24T20:09:53.964017Z",
     "iopub.status.busy": "2021-12-24T20:09:53.963344Z",
     "iopub.status.idle": "2021-12-24T20:09:53.980376Z",
     "shell.execute_reply": "2021-12-24T20:09:53.979231Z"
    },
    "papermill": {
     "duration": 0.055456,
     "end_time": "2021-12-24T20:09:53.980515",
     "exception": false,
     "start_time": "2021-12-24T20:09:53.925059",
     "status": "completed"
    },
    "tags": []
   },
   "outputs": [],
   "source": [
    "y_train = 1*(y_train==3)\n",
    "y_test = 1*(y_test==3)"
   ]
  },
  {
   "cell_type": "code",
   "execution_count": 13,
   "id": "01e4e969",
   "metadata": {
    "execution": {
     "iopub.execute_input": "2021-12-24T20:09:54.050272Z",
     "iopub.status.busy": "2021-12-24T20:09:54.049470Z",
     "iopub.status.idle": "2021-12-24T20:09:54.065150Z",
     "shell.execute_reply": "2021-12-24T20:09:54.065664Z"
    },
    "papermill": {
     "duration": 0.051115,
     "end_time": "2021-12-24T20:09:54.065827",
     "exception": false,
     "start_time": "2021-12-24T20:09:54.014712",
     "status": "completed"
    },
    "tags": []
   },
   "outputs": [
    {
     "data": {
      "text/plain": [
       "((11982, 28, 28), (1984, 28, 28))"
      ]
     },
     "execution_count": 13,
     "metadata": {},
     "output_type": "execute_result"
    }
   ],
   "source": [
    "X_train.shape, X_test.shape"
   ]
  },
  {
   "cell_type": "markdown",
   "id": "5ccf3f85",
   "metadata": {
    "papermill": {
     "duration": 0.032645,
     "end_time": "2021-12-24T20:09:54.133464",
     "exception": false,
     "start_time": "2021-12-24T20:09:54.100819",
     "status": "completed"
    },
    "tags": []
   },
   "source": [
    "We reshape the data to flatten the image pixels into a set of features or co-variates:"
   ]
  },
  {
   "cell_type": "code",
   "execution_count": 14,
   "id": "5286a4a3",
   "metadata": {
    "execution": {
     "iopub.execute_input": "2021-12-24T20:09:54.203193Z",
     "iopub.status.busy": "2021-12-24T20:09:54.202660Z",
     "iopub.status.idle": "2021-12-24T20:09:54.220159Z",
     "shell.execute_reply": "2021-12-24T20:09:54.219672Z"
    },
    "papermill": {
     "duration": 0.052253,
     "end_time": "2021-12-24T20:09:54.220292",
     "exception": false,
     "start_time": "2021-12-24T20:09:54.168039",
     "status": "completed"
    },
    "tags": []
   },
   "outputs": [
    {
     "data": {
      "text/plain": [
       "((11982, 784), (1984, 784))"
      ]
     },
     "execution_count": 14,
     "metadata": {},
     "output_type": "execute_result"
    }
   ],
   "source": [
    "X_train = X_train.reshape(X_train.shape[0], -1)\n",
    "X_test = X_test.reshape(X_test.shape[0], -1)\n",
    "X_train.shape, X_test.shape"
   ]
  },
  {
   "cell_type": "code",
   "execution_count": 15,
   "id": "73c5f88a",
   "metadata": {
    "execution": {
     "iopub.execute_input": "2021-12-24T20:09:54.291163Z",
     "iopub.status.busy": "2021-12-24T20:09:54.290546Z",
     "iopub.status.idle": "2021-12-24T20:09:54.310622Z",
     "shell.execute_reply": "2021-12-24T20:09:54.311097Z"
    },
    "papermill": {
     "duration": 0.060363,
     "end_time": "2021-12-24T20:09:54.311264",
     "exception": false,
     "start_time": "2021-12-24T20:09:54.250901",
     "status": "completed"
    },
    "tags": []
   },
   "outputs": [],
   "source": [
    "#Impoting functions from 'Kudzu'\n",
    "from kudzu.model import Model\n",
    "from kudzu.train import Learner\n",
    "from kudzu.optim import GD\n",
    "from kudzu.data import Data, Sampler,Dataloader\n",
    "\n",
    "from kudzu.callbacks import AccCallback\n",
    "from kudzu.callbacks import ClfCallback\n",
    "\n",
    "from kudzu.loss import MSE\n",
    "\n",
    "from kudzu.layer import Sigmoid,Relu\n",
    "from kudzu.layer import Affine"
   ]
  },
  {
   "cell_type": "markdown",
   "id": "bc01172a",
   "metadata": {
    "papermill": {
     "duration": 0.030179,
     "end_time": "2021-12-24T20:09:54.371461",
     "exception": false,
     "start_time": "2021-12-24T20:09:54.341282",
     "status": "completed"
    },
    "tags": []
   },
   "source": [
    "### Let us create a `Config` class, to store important parameters. \n",
    "This class essentially plays the role of a dictionary."
   ]
  },
  {
   "cell_type": "code",
   "execution_count": 16,
   "id": "978281aa",
   "metadata": {
    "execution": {
     "iopub.execute_input": "2021-12-24T20:09:54.435947Z",
     "iopub.status.busy": "2021-12-24T20:09:54.435371Z",
     "iopub.status.idle": "2021-12-24T20:09:54.450310Z",
     "shell.execute_reply": "2021-12-24T20:09:54.450761Z"
    },
    "papermill": {
     "duration": 0.049263,
     "end_time": "2021-12-24T20:09:54.450903",
     "exception": false,
     "start_time": "2021-12-24T20:09:54.401640",
     "status": "completed"
    },
    "tags": []
   },
   "outputs": [],
   "source": [
    "class Config:\n",
    "    pass\n",
    "config = Config()\n",
    "config.lr = 0.001\n",
    "config.num_epochs = 250\n",
    "config.bs = 50"
   ]
  },
  {
   "cell_type": "markdown",
   "id": "1385fa59",
   "metadata": {
    "papermill": {
     "duration": 0.029831,
     "end_time": "2021-12-24T20:09:54.511171",
     "exception": false,
     "start_time": "2021-12-24T20:09:54.481340",
     "status": "completed"
    },
    "tags": []
   },
   "source": [
    "### Running Models with the Training data\n",
    "Details about the network layers:\n",
    "- A first affine layer has 784 inputs and does 100 affine transforms. These are followed by a Relu\n",
    "- A second affine layer has 100 inputs from the 100 activations of the past layer, and does 100 affine transforms. These are followed by a Relu\n",
    "- A third affine layer has 100 activations and does 2 affine transformations to create an embedding for visualization. There is no non-linearity here.\n",
    "- A final \"logistic regression\" which has an affine transform from 2 inputs to 1 output, which is squeezed through a sigmoid.\n"
   ]
  },
  {
   "cell_type": "code",
   "execution_count": 17,
   "id": "2b9c66db",
   "metadata": {
    "execution": {
     "iopub.execute_input": "2021-12-24T20:09:54.575940Z",
     "iopub.status.busy": "2021-12-24T20:09:54.575357Z",
     "iopub.status.idle": "2021-12-24T20:09:54.589095Z",
     "shell.execute_reply": "2021-12-24T20:09:54.588553Z"
    },
    "papermill": {
     "duration": 0.047692,
     "end_time": "2021-12-24T20:09:54.589221",
     "exception": false,
     "start_time": "2021-12-24T20:09:54.541529",
     "status": "completed"
    },
    "tags": []
   },
   "outputs": [],
   "source": [
    "data = Data(X_train, y_train.reshape(-1,1))\n",
    "sampler = Sampler(data, config.bs, shuffle=True)\n",
    "\n",
    "dl = Dataloader(data, sampler)\n",
    "\n",
    "opt = GD(config.lr)\n",
    "loss = MSE()"
   ]
  },
  {
   "cell_type": "code",
   "execution_count": 18,
   "id": "b275e4c2",
   "metadata": {
    "execution": {
     "iopub.execute_input": "2021-12-24T20:09:54.653048Z",
     "iopub.status.busy": "2021-12-24T20:09:54.652507Z",
     "iopub.status.idle": "2021-12-24T20:09:54.666681Z",
     "shell.execute_reply": "2021-12-24T20:09:54.667154Z"
    },
    "papermill": {
     "duration": 0.04844,
     "end_time": "2021-12-24T20:09:54.667296",
     "exception": false,
     "start_time": "2021-12-24T20:09:54.618856",
     "status": "completed"
    },
    "tags": []
   },
   "outputs": [],
   "source": [
    "training_data_x = X_train\n",
    "testing_data_x = X_test\n",
    "training_data_y = y_train.reshape(-1,1)\n",
    "testing_data_y = y_test.reshape(-1,1)"
   ]
  },
  {
   "cell_type": "code",
   "execution_count": 19,
   "id": "76951160",
   "metadata": {
    "execution": {
     "iopub.execute_input": "2021-12-24T20:09:54.732453Z",
     "iopub.status.busy": "2021-12-24T20:09:54.731840Z",
     "iopub.status.idle": "2021-12-24T20:09:54.750590Z",
     "shell.execute_reply": "2021-12-24T20:09:54.750082Z"
    },
    "papermill": {
     "duration": 0.053424,
     "end_time": "2021-12-24T20:09:54.750719",
     "exception": false,
     "start_time": "2021-12-24T20:09:54.697295",
     "status": "completed"
    },
    "tags": []
   },
   "outputs": [
    {
     "name": "stdout",
     "output_type": "stream",
     "text": [
      "xavier\n",
      "xavier\n",
      "xavier\n",
      "xavier\n",
      "xavier\n"
     ]
    }
   ],
   "source": [
    "layers = [Affine(\"first\", 784, 100), Relu(\"first\"), Affine(\"second\", 100, 100), Relu(\"second\"), Affine(\"third\", 100, 2), Affine(\"last\", 2, 1), Sigmoid(\"last\")]\n",
    "model_nn = Model(layers)\n",
    "model_lr = Model([Affine(\"logits\", 784, 1), Sigmoid(\"sigmoid\")])"
   ]
  },
  {
   "cell_type": "code",
   "execution_count": 20,
   "id": "6eede77a",
   "metadata": {
    "execution": {
     "iopub.execute_input": "2021-12-24T20:09:54.815521Z",
     "iopub.status.busy": "2021-12-24T20:09:54.814946Z",
     "iopub.status.idle": "2021-12-24T20:09:54.827210Z",
     "shell.execute_reply": "2021-12-24T20:09:54.826793Z"
    },
    "papermill": {
     "duration": 0.046145,
     "end_time": "2021-12-24T20:09:54.827320",
     "exception": false,
     "start_time": "2021-12-24T20:09:54.781175",
     "status": "completed"
    },
    "tags": []
   },
   "outputs": [],
   "source": [
    "nn_learner = Learner(loss, model_nn, opt, config.num_epochs)\n",
    "acc_nn = ClfCallback(nn_learner, config.bs, training_data_x , testing_data_x, training_data_y, testing_data_y)\n",
    "nn_learner.set_callbacks([acc_nn])"
   ]
  },
  {
   "cell_type": "code",
   "execution_count": 21,
   "id": "877b6cc7",
   "metadata": {
    "execution": {
     "iopub.execute_input": "2021-12-24T20:09:54.890080Z",
     "iopub.status.busy": "2021-12-24T20:09:54.889484Z",
     "iopub.status.idle": "2021-12-24T20:09:54.905180Z",
     "shell.execute_reply": "2021-12-24T20:09:54.904677Z"
    },
    "papermill": {
     "duration": 0.049133,
     "end_time": "2021-12-24T20:09:54.905316",
     "exception": false,
     "start_time": "2021-12-24T20:09:54.856183",
     "status": "completed"
    },
    "tags": []
   },
   "outputs": [],
   "source": [
    "lr_learner = Learner(loss, model_lr, opt, config.num_epochs)\n",
    "acc_lr = ClfCallback(lr_learner, config.bs, training_data_x , testing_data_x, training_data_y, testing_data_y)\n",
    "lr_learner.set_callbacks([acc_lr])"
   ]
  },
  {
   "cell_type": "code",
   "execution_count": 22,
   "id": "d9b133c3",
   "metadata": {
    "execution": {
     "iopub.execute_input": "2021-12-24T20:09:54.970198Z",
     "iopub.status.busy": "2021-12-24T20:09:54.969602Z",
     "iopub.status.idle": "2021-12-24T20:11:21.851174Z",
     "shell.execute_reply": "2021-12-24T20:11:21.852067Z"
    },
    "papermill": {
     "duration": 86.917293,
     "end_time": "2021-12-24T20:11:21.852241",
     "exception": false,
     "start_time": "2021-12-24T20:09:54.934948",
     "status": "completed"
    },
    "tags": []
   },
   "outputs": [
    {
     "name": "stdout",
     "output_type": "stream",
     "text": [
      "Epoch 0, Loss 0.2372\n",
      "Training Accuracy: 0.6253, Testing Accuracy: 0.6179\n",
      "\n"
     ]
    },
    {
     "name": "stdout",
     "output_type": "stream",
     "text": [
      "Epoch 10, Loss 0.1034\n",
      "Training Accuracy: 0.9152, Testing Accuracy: 0.9264\n",
      "\n"
     ]
    },
    {
     "name": "stdout",
     "output_type": "stream",
     "text": [
      "Epoch 20, Loss 0.0598\n",
      "Training Accuracy: 0.9406, Testing Accuracy: 0.9531\n",
      "\n"
     ]
    },
    {
     "name": "stdout",
     "output_type": "stream",
     "text": [
      "Epoch 30, Loss 0.046\n",
      "Training Accuracy: 0.9510, Testing Accuracy: 0.9597\n",
      "\n"
     ]
    },
    {
     "name": "stdout",
     "output_type": "stream",
     "text": [
      "Epoch 40, Loss 0.0397\n",
      "Training Accuracy: 0.9553, Testing Accuracy: 0.9652\n",
      "\n"
     ]
    },
    {
     "name": "stdout",
     "output_type": "stream",
     "text": [
      "Epoch 50, Loss 0.036\n",
      "Training Accuracy: 0.9592, Testing Accuracy: 0.9657\n",
      "\n"
     ]
    },
    {
     "name": "stdout",
     "output_type": "stream",
     "text": [
      "Epoch 60, Loss 0.0335\n",
      "Training Accuracy: 0.9622, Testing Accuracy: 0.9662\n",
      "\n"
     ]
    },
    {
     "name": "stdout",
     "output_type": "stream",
     "text": [
      "Epoch 70, Loss 0.0317\n",
      "Training Accuracy: 0.9645, Testing Accuracy: 0.9677\n",
      "\n"
     ]
    },
    {
     "name": "stdout",
     "output_type": "stream",
     "text": [
      "Epoch 80, Loss 0.0303\n",
      "Training Accuracy: 0.9664, Testing Accuracy: 0.9688\n",
      "\n"
     ]
    },
    {
     "name": "stdout",
     "output_type": "stream",
     "text": [
      "Epoch 90, Loss 0.0291\n",
      "Training Accuracy: 0.9678, Testing Accuracy: 0.9698\n",
      "\n"
     ]
    },
    {
     "name": "stdout",
     "output_type": "stream",
     "text": [
      "Epoch 100, Loss 0.0281\n",
      "Training Accuracy: 0.9690, Testing Accuracy: 0.9693\n",
      "\n"
     ]
    },
    {
     "name": "stdout",
     "output_type": "stream",
     "text": [
      "Epoch 110, Loss 0.0273\n",
      "Training Accuracy: 0.9695, Testing Accuracy: 0.9698\n",
      "\n"
     ]
    },
    {
     "name": "stdout",
     "output_type": "stream",
     "text": [
      "Epoch 120, Loss 0.0265\n",
      "Training Accuracy: 0.9707, Testing Accuracy: 0.9698\n",
      "\n"
     ]
    },
    {
     "name": "stdout",
     "output_type": "stream",
     "text": [
      "Epoch 130, Loss 0.0259\n",
      "Training Accuracy: 0.9712, Testing Accuracy: 0.9703\n",
      "\n"
     ]
    },
    {
     "name": "stdout",
     "output_type": "stream",
     "text": [
      "Epoch 140, Loss 0.0253\n",
      "Training Accuracy: 0.9714, Testing Accuracy: 0.9703\n",
      "\n"
     ]
    },
    {
     "name": "stdout",
     "output_type": "stream",
     "text": [
      "Epoch 150, Loss 0.0247\n",
      "Training Accuracy: 0.9714, Testing Accuracy: 0.9708\n",
      "\n"
     ]
    },
    {
     "name": "stdout",
     "output_type": "stream",
     "text": [
      "Epoch 160, Loss 0.0242\n",
      "Training Accuracy: 0.9726, Testing Accuracy: 0.9703\n",
      "\n"
     ]
    },
    {
     "name": "stdout",
     "output_type": "stream",
     "text": [
      "Epoch 170, Loss 0.0237\n",
      "Training Accuracy: 0.9729, Testing Accuracy: 0.9718\n",
      "\n"
     ]
    },
    {
     "name": "stdout",
     "output_type": "stream",
     "text": [
      "Epoch 180, Loss 0.0232\n",
      "Training Accuracy: 0.9735, Testing Accuracy: 0.9723\n",
      "\n"
     ]
    },
    {
     "name": "stdout",
     "output_type": "stream",
     "text": [
      "Epoch 190, Loss 0.0228\n",
      "Training Accuracy: 0.9738, Testing Accuracy: 0.9733\n",
      "\n"
     ]
    },
    {
     "name": "stdout",
     "output_type": "stream",
     "text": [
      "Epoch 200, Loss 0.0224\n",
      "Training Accuracy: 0.9743, Testing Accuracy: 0.9728\n",
      "\n"
     ]
    },
    {
     "name": "stdout",
     "output_type": "stream",
     "text": [
      "Epoch 210, Loss 0.0219\n",
      "Training Accuracy: 0.9749, Testing Accuracy: 0.9738\n",
      "\n"
     ]
    },
    {
     "name": "stdout",
     "output_type": "stream",
     "text": [
      "Epoch 220, Loss 0.0215\n",
      "Training Accuracy: 0.9751, Testing Accuracy: 0.9738\n",
      "\n"
     ]
    },
    {
     "name": "stdout",
     "output_type": "stream",
     "text": [
      "Epoch 230, Loss 0.0211\n",
      "Training Accuracy: 0.9758, Testing Accuracy: 0.9743\n",
      "\n"
     ]
    },
    {
     "name": "stdout",
     "output_type": "stream",
     "text": [
      "Epoch 240, Loss 0.0207\n",
      "Training Accuracy: 0.9764, Testing Accuracy: 0.9738\n",
      "\n"
     ]
    },
    {
     "data": {
      "text/plain": [
       "0.024929565532391142"
      ]
     },
     "execution_count": 22,
     "metadata": {},
     "output_type": "execute_result"
    }
   ],
   "source": [
    "nn_learner.train_loop(dl)"
   ]
  },
  {
   "cell_type": "code",
   "execution_count": 23,
   "id": "e0163366",
   "metadata": {
    "execution": {
     "iopub.execute_input": "2021-12-24T20:11:21.945962Z",
     "iopub.status.busy": "2021-12-24T20:11:21.945229Z",
     "iopub.status.idle": "2021-12-24T20:11:37.590690Z",
     "shell.execute_reply": "2021-12-24T20:11:37.591547Z"
    },
    "papermill": {
     "duration": 15.699751,
     "end_time": "2021-12-24T20:11:37.591715",
     "exception": false,
     "start_time": "2021-12-24T20:11:21.891964",
     "status": "completed"
    },
    "tags": []
   },
   "outputs": [
    {
     "name": "stdout",
     "output_type": "stream",
     "text": [
      "Epoch 0, Loss 0.2491\n",
      "Training Accuracy: 0.6506, Testing Accuracy: 0.6447\n",
      "\n"
     ]
    },
    {
     "name": "stdout",
     "output_type": "stream",
     "text": [
      "Epoch 10, Loss 0.1017\n",
      "Training Accuracy: 0.9125, Testing Accuracy: 0.9219\n",
      "\n"
     ]
    },
    {
     "name": "stdout",
     "output_type": "stream",
     "text": [
      "Epoch 20, Loss 0.0785\n",
      "Training Accuracy: 0.9291, Testing Accuracy: 0.9390\n",
      "\n"
     ]
    },
    {
     "name": "stdout",
     "output_type": "stream",
     "text": [
      "Epoch 30, Loss 0.0679\n",
      "Training Accuracy: 0.9367, Testing Accuracy: 0.9461\n",
      "\n"
     ]
    },
    {
     "name": "stdout",
     "output_type": "stream",
     "text": [
      "Epoch 40, Loss 0.0614\n",
      "Training Accuracy: 0.9423, Testing Accuracy: 0.9491\n",
      "\n"
     ]
    },
    {
     "name": "stdout",
     "output_type": "stream",
     "text": [
      "Epoch 50, Loss 0.057\n",
      "Training Accuracy: 0.9461, Testing Accuracy: 0.9516\n",
      "\n"
     ]
    },
    {
     "name": "stdout",
     "output_type": "stream",
     "text": [
      "Epoch 60, Loss 0.0537\n",
      "Training Accuracy: 0.9493, Testing Accuracy: 0.9561\n",
      "\n"
     ]
    },
    {
     "name": "stdout",
     "output_type": "stream",
     "text": [
      "Epoch 70, Loss 0.0512\n",
      "Training Accuracy: 0.9509, Testing Accuracy: 0.9567\n",
      "\n"
     ]
    },
    {
     "name": "stdout",
     "output_type": "stream",
     "text": [
      "Epoch 80, Loss 0.0492\n",
      "Training Accuracy: 0.9529, Testing Accuracy: 0.9577\n",
      "\n"
     ]
    },
    {
     "name": "stdout",
     "output_type": "stream",
     "text": [
      "Epoch 90, Loss 0.0475\n",
      "Training Accuracy: 0.9536, Testing Accuracy: 0.9607\n",
      "\n"
     ]
    },
    {
     "name": "stdout",
     "output_type": "stream",
     "text": [
      "Epoch 100, Loss 0.0461\n",
      "Training Accuracy: 0.9548, Testing Accuracy: 0.9612\n",
      "\n"
     ]
    },
    {
     "name": "stdout",
     "output_type": "stream",
     "text": [
      "Epoch 110, Loss 0.0448\n",
      "Training Accuracy: 0.9553, Testing Accuracy: 0.9612\n",
      "\n"
     ]
    },
    {
     "name": "stdout",
     "output_type": "stream",
     "text": [
      "Epoch 120, Loss 0.0438\n",
      "Training Accuracy: 0.9559, Testing Accuracy: 0.9627\n",
      "\n"
     ]
    },
    {
     "name": "stdout",
     "output_type": "stream",
     "text": [
      "Epoch 130, Loss 0.0429\n",
      "Training Accuracy: 0.9560, Testing Accuracy: 0.9627\n",
      "\n"
     ]
    },
    {
     "name": "stdout",
     "output_type": "stream",
     "text": [
      "Epoch 140, Loss 0.042\n",
      "Training Accuracy: 0.9571, Testing Accuracy: 0.9632\n",
      "\n"
     ]
    },
    {
     "name": "stdout",
     "output_type": "stream",
     "text": [
      "Epoch 150, Loss 0.0413\n",
      "Training Accuracy: 0.9578, Testing Accuracy: 0.9647\n",
      "\n"
     ]
    },
    {
     "name": "stdout",
     "output_type": "stream",
     "text": [
      "Epoch 160, Loss 0.0406\n",
      "Training Accuracy: 0.9581, Testing Accuracy: 0.9647\n",
      "\n"
     ]
    },
    {
     "name": "stdout",
     "output_type": "stream",
     "text": [
      "Epoch 170, Loss 0.04\n",
      "Training Accuracy: 0.9583, Testing Accuracy: 0.9647\n",
      "\n"
     ]
    },
    {
     "name": "stdout",
     "output_type": "stream",
     "text": [
      "Epoch 180, Loss 0.0394\n",
      "Training Accuracy: 0.9589, Testing Accuracy: 0.9647\n",
      "\n"
     ]
    },
    {
     "name": "stdout",
     "output_type": "stream",
     "text": [
      "Epoch 190, Loss 0.0389\n",
      "Training Accuracy: 0.9596, Testing Accuracy: 0.9662\n",
      "\n"
     ]
    },
    {
     "name": "stdout",
     "output_type": "stream",
     "text": [
      "Epoch 200, Loss 0.0385\n",
      "Training Accuracy: 0.9599, Testing Accuracy: 0.9667\n",
      "\n"
     ]
    },
    {
     "name": "stdout",
     "output_type": "stream",
     "text": [
      "Epoch 210, Loss 0.038\n",
      "Training Accuracy: 0.9601, Testing Accuracy: 0.9662\n",
      "\n"
     ]
    },
    {
     "name": "stdout",
     "output_type": "stream",
     "text": [
      "Epoch 220, Loss 0.0376\n",
      "Training Accuracy: 0.9605, Testing Accuracy: 0.9667\n",
      "\n"
     ]
    },
    {
     "name": "stdout",
     "output_type": "stream",
     "text": [
      "Epoch 230, Loss 0.0372\n",
      "Training Accuracy: 0.9607, Testing Accuracy: 0.9672\n",
      "\n"
     ]
    },
    {
     "name": "stdout",
     "output_type": "stream",
     "text": [
      "Epoch 240, Loss 0.0369\n",
      "Training Accuracy: 0.9609, Testing Accuracy: 0.9672\n",
      "\n"
     ]
    },
    {
     "data": {
      "text/plain": [
       "0.024045771475887212"
      ]
     },
     "execution_count": 23,
     "metadata": {},
     "output_type": "execute_result"
    }
   ],
   "source": [
    "lr_learner.train_loop(dl)"
   ]
  },
  {
   "cell_type": "code",
   "execution_count": 24,
   "id": "ca410940",
   "metadata": {
    "execution": {
     "iopub.execute_input": "2021-12-24T20:11:37.698206Z",
     "iopub.status.busy": "2021-12-24T20:11:37.697625Z",
     "iopub.status.idle": "2021-12-24T20:11:37.960477Z",
     "shell.execute_reply": "2021-12-24T20:11:37.959594Z"
    },
    "papermill": {
     "duration": 0.320732,
     "end_time": "2021-12-24T20:11:37.960720",
     "exception": false,
     "start_time": "2021-12-24T20:11:37.639988",
     "status": "completed"
    },
    "tags": []
   },
   "outputs": [
    {
     "data": {
      "text/plain": [
       "<matplotlib.legend.Legend at 0x7f78d3b68c18>"
      ]
     },
     "execution_count": 24,
     "metadata": {},
     "output_type": "execute_result"
    },
    {
     "data": {
      "image/png": "[encoded data removed]",
      "text/plain": [
       "<Figure size 1080x720 with 1 Axes>"
      ]
     },
     "metadata": {
      "needs_background": "light"
     },
     "output_type": "display_data"
    }
   ],
   "source": [
    "#comparing the results of NN and LR\n",
    "plt.figure(figsize=(15,10))\n",
    "\n",
    "# Neural Network plots\n",
    "plt.plot(acc_nn.accuracies, 'r-', label = \"Training Accuracies - NN\")\n",
    "plt.plot(acc_nn.test_accuracies, 'g-', label = \"Testing Accuracies - NN\")\n",
    "\n",
    "# Logistic Regression plots\n",
    "plt.plot(acc_lr.accuracies, 'k-', label = \"Training Accuracies - LR\")\n",
    "plt.plot(acc_lr.test_accuracies, 'b-', label = \"Testing Accuracies - LR\")\n",
    "plt.legend()"
   ]
  },
  {
   "cell_type": "markdown",
   "id": "80dfb35c",
   "metadata": {
    "papermill": {
     "duration": 0.04659,
     "end_time": "2021-12-24T20:11:38.056350",
     "exception": false,
     "start_time": "2021-12-24T20:11:38.009760",
     "status": "completed"
    },
    "tags": []
   },
   "source": [
    "#### Plotting the outputs of this layer of the NN.\n"
   ]
  },
  {
   "cell_type": "code",
   "execution_count": 25,
   "id": "45eb2ff5",
   "metadata": {
    "execution": {
     "iopub.execute_input": "2021-12-24T20:11:38.159593Z",
     "iopub.status.busy": "2021-12-24T20:11:38.158574Z",
     "iopub.status.idle": "2021-12-24T20:11:38.181550Z",
     "shell.execute_reply": "2021-12-24T20:11:38.181054Z"
    },
    "papermill": {
     "duration": 0.073203,
     "end_time": "2021-12-24T20:11:38.181673",
     "exception": false,
     "start_time": "2021-12-24T20:11:38.108470",
     "status": "completed"
    },
    "tags": []
   },
   "outputs": [],
   "source": [
    "new_model = Model(layers[:-2])\n",
    "testing_plot = new_model(testing_data_x)"
   ]
  },
  {
   "cell_type": "code",
   "execution_count": 26,
   "id": "4c0a5485",
   "metadata": {
    "execution": {
     "iopub.execute_input": "2021-12-24T20:11:38.286878Z",
     "iopub.status.busy": "2021-12-24T20:11:38.286261Z",
     "iopub.status.idle": "2021-12-24T20:11:38.523870Z",
     "shell.execute_reply": "2021-12-24T20:11:38.524420Z"
    },
    "papermill": {
     "duration": 0.291797,
     "end_time": "2021-12-24T20:11:38.524607",
     "exception": false,
     "start_time": "2021-12-24T20:11:38.232810",
     "status": "completed"
    },
    "tags": []
   },
   "outputs": [
    {
     "data": {
      "text/plain": [
       "Text(0.5, 1.0, 'Outputs')"
      ]
     },
     "execution_count": 26,
     "metadata": {},
     "output_type": "execute_result"
    },
    {
     "data": {
      "image/png": "[encoded data removed]",
      "text/plain": [
       "<Figure size 576x504 with 1 Axes>"
      ]
     },
     "metadata": {
      "needs_background": "light"
     },
     "output_type": "display_data"
    }
   ],
   "source": [
    "# Plotting the scatter plot of points and color coding by class\n",
    "plt.figure(figsize=(8,7))\n",
    "plt.scatter(testing_plot[:,0], testing_plot[:,1], alpha = 0.1, c = y_test.ravel());\n",
    "plt.title('Outputs')"
   ]
  },
  {
   "cell_type": "markdown",
   "id": "a74fcf8f",
   "metadata": {
    "papermill": {
     "duration": 0.048098,
     "end_time": "2021-12-24T20:11:38.622266",
     "exception": false,
     "start_time": "2021-12-24T20:11:38.574168",
     "status": "completed"
    },
    "tags": []
   },
   "source": [
    "Probability contours"
   ]
  },
  {
   "cell_type": "code",
   "execution_count": 27,
   "id": "d0afc8e3",
   "metadata": {
    "execution": {
     "iopub.execute_input": "2021-12-24T20:11:38.726078Z",
     "iopub.status.busy": "2021-12-24T20:11:38.725444Z",
     "iopub.status.idle": "2021-12-24T20:11:38.737222Z",
     "shell.execute_reply": "2021-12-24T20:11:38.736681Z"
    },
    "papermill": {
     "duration": 0.06618,
     "end_time": "2021-12-24T20:11:38.737365",
     "exception": false,
     "start_time": "2021-12-24T20:11:38.671185",
     "status": "completed"
    },
    "tags": []
   },
   "outputs": [],
   "source": [
    "model_prob = Model(layers[-2:]) "
   ]
  },
  {
   "cell_type": "code",
   "execution_count": 28,
   "id": "9b96e238",
   "metadata": {
    "execution": {
     "iopub.execute_input": "2021-12-24T20:11:38.872801Z",
     "iopub.status.busy": "2021-12-24T20:11:38.871869Z",
     "iopub.status.idle": "2021-12-24T20:11:38.887848Z",
     "shell.execute_reply": "2021-12-24T20:11:38.888301Z"
    },
    "papermill": {
     "duration": 0.070869,
     "end_time": "2021-12-24T20:11:38.888463",
     "exception": false,
     "start_time": "2021-12-24T20:11:38.817594",
     "status": "completed"
    },
    "tags": []
   },
   "outputs": [],
   "source": [
    "#creating the x and y ranges according to the above generated plot.\n",
    "x_range = np.linspace(-4, 1, 100) \n",
    "y_range = np.linspace(-6, 6, 100) \n",
    "x_grid, y_grid = np.meshgrid(x_range, y_range) # x_grid and y_grig are of size 100 X 100\n",
    "\n",
    "# converting x_grid and y_grid to continuous arrays\n",
    "x_gridflat = np.ravel(x_grid)\n",
    "y_gridflat = np.ravel(y_grid)\n",
    "\n",
    "# The last layer of the current model takes two columns as input. Hence transpose of np.vstack() is required.\n",
    "X = np.vstack((x_gridflat, y_gridflat)).T\n",
    "\n",
    "prob_contour = model_prob(X).reshape(100,100) "
   ]
  },
  {
   "cell_type": "code",
   "execution_count": 29,
   "id": "da72499a",
   "metadata": {
    "execution": {
     "iopub.execute_input": "2021-12-24T20:11:38.992033Z",
     "iopub.status.busy": "2021-12-24T20:11:38.991464Z",
     "iopub.status.idle": "2021-12-24T20:11:39.276020Z",
     "shell.execute_reply": "2021-12-24T20:11:39.275513Z"
    },
    "papermill": {
     "duration": 0.337353,
     "end_time": "2021-12-24T20:11:39.276152",
     "exception": false,
     "start_time": "2021-12-24T20:11:38.938799",
     "status": "completed"
    },
    "tags": []
   },
   "outputs": [
    {
     "data": {
      "image/png": "[encoded data removed]",
      "text/plain": [
       "<Figure size 720x648 with 1 Axes>"
      ]
     },
     "metadata": {
      "needs_background": "light"
     },
     "output_type": "display_data"
    }
   ],
   "source": [
    "plt.figure(figsize=(10,9))\n",
    "plt.scatter(testing_plot[:,0], testing_plot[:,1], alpha = 0.1, c = y_test.ravel())\n",
    "contours = plt.contour(x_grid,y_grid,prob_contour)\n",
    "plt.title('Probability Contours')\n",
    "plt.clabel(contours, inline = True );"
   ]
  },
  {
   "cell_type": "code",
   "execution_count": null,
   "id": "e81b4ac7",
   "metadata": {
    "papermill": {
     "duration": 0.055909,
     "end_time": "2021-12-24T20:11:39.384036",
     "exception": false,
     "start_time": "2021-12-24T20:11:39.328127",
     "status": "completed"
    },
    "tags": []
   },
   "outputs": [],
   "source": []
  }
 ],
 "metadata": {
  "kernelspec": {
   "display_name": "Python 3",
   "language": "python",
   "name": "python3"
  },
  "language_info": {
   "codemirror_mode": {
    "name": "ipython",
    "version": 3
   },
   "file_extension": ".py",
   "mimetype": "text/x-python",
   "name": "python",
   "nbconvert_exporter": "python",
   "pygments_lexer": "ipython3",
   "version": "3.6.15"
  },
  "papermill": {
   "default_parameters": {},
   "duration": 112.027938,
   "end_time": "2021-12-24T20:11:39.855640",
   "environment_variables": {},
   "exception": null,
   "input_path": "2020-08-11-part2.ipynb",
   "output_path": "2020-08-11-part2.ipynb",
   "parameters": {},
   "start_time": "2021-12-24T20:09:47.827702",
   "version": "2.3.3"
  }
 },
 "nbformat": 4,
 "nbformat_minor": 5
}