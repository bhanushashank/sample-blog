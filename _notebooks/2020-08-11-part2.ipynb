{
 "cells": [
  {
   "cell_type": "markdown",
   "id": "98380cd3",
   "metadata": {
    "papermill": {
     "duration": 0.032877,
     "end_time": "2021-11-15T00:22:42.280474",
     "exception": false,
     "start_time": "2021-11-15T00:22:42.247597",
     "status": "completed"
    },
    "tags": []
   },
   "source": [
    "# Distinguish Your Own Digits (DYOD)"
   ]
  },
  {
   "cell_type": "markdown",
   "id": "ef31240d",
   "metadata": {
    "papermill": {
     "duration": 0.033968,
     "end_time": "2021-11-15T00:22:42.343186",
     "exception": false,
     "start_time": "2021-11-15T00:22:42.309218",
     "status": "completed"
    },
    "tags": []
   },
   "source": [
    "You are going to write a classifier that distinguishes between the number 3 and number 8."
   ]
  },
  {
   "cell_type": "code",
   "execution_count": 1,
   "id": "b15c8646",
   "metadata": {
    "execution": {
     "iopub.execute_input": "2021-11-15T00:22:42.414523Z",
     "iopub.status.busy": "2021-11-15T00:22:42.413853Z",
     "iopub.status.idle": "2021-11-15T00:22:42.430697Z",
     "shell.execute_reply": "2021-11-15T00:22:42.430084Z"
    },
    "papermill": {
     "duration": 0.058376,
     "end_time": "2021-11-15T00:22:42.430870",
     "exception": false,
     "start_time": "2021-11-15T00:22:42.372494",
     "status": "completed"
    },
    "tags": []
   },
   "outputs": [],
   "source": [
    "%load_ext autoreload\n",
    "%autoreload 2"
   ]
  },
  {
   "cell_type": "code",
   "execution_count": 2,
   "id": "22ef38dc",
   "metadata": {
    "execution": {
     "iopub.execute_input": "2021-11-15T00:22:42.497601Z",
     "iopub.status.busy": "2021-11-15T00:22:42.496979Z",
     "iopub.status.idle": "2021-11-15T00:22:43.066897Z",
     "shell.execute_reply": "2021-11-15T00:22:43.066367Z"
    },
    "papermill": {
     "duration": 0.606633,
     "end_time": "2021-11-15T00:22:43.067038",
     "exception": false,
     "start_time": "2021-11-15T00:22:42.460405",
     "status": "completed"
    },
    "tags": []
   },
   "outputs": [],
   "source": [
    "%matplotlib inline\n",
    "import numpy as np\n",
    "import matplotlib.pyplot as plt\n",
    "import pandas as pd"
   ]
  },
  {
   "cell_type": "markdown",
   "id": "ba036198",
   "metadata": {
    "papermill": {
     "duration": 0.029815,
     "end_time": "2021-11-15T00:22:43.125045",
     "exception": false,
     "start_time": "2021-11-15T00:22:43.095230",
     "status": "completed"
    },
    "tags": []
   },
   "source": [
    "From the command line run `pip install mnist`. This is a library that will help you bring down the mnist dataset. If you run this from a notebook, you need to put  `!pip install mnist` in a cell by itself."
   ]
  },
  {
   "cell_type": "code",
   "execution_count": 3,
   "id": "bb6ad8a1",
   "metadata": {
    "execution": {
     "iopub.execute_input": "2021-11-15T00:22:43.184935Z",
     "iopub.status.busy": "2021-11-15T00:22:43.184285Z",
     "iopub.status.idle": "2021-11-15T00:23:00.083116Z",
     "shell.execute_reply": "2021-11-15T00:23:00.082186Z"
    },
    "papermill": {
     "duration": 16.930972,
     "end_time": "2021-11-15T00:23:00.083261",
     "exception": false,
     "start_time": "2021-11-15T00:22:43.152289",
     "status": "completed"
    },
    "tags": []
   },
   "outputs": [
    {
     "name": "stdout",
     "output_type": "stream",
     "text": [
      "Collecting mnist\r\n"
     ]
    },
    {
     "name": "stdout",
     "output_type": "stream",
     "text": [
      "  Downloading mnist-0.2.2-py2.py3-none-any.whl (3.5 kB)\r\n",
      "Requirement already satisfied: numpy in /opt/hostedtoolcache/Python/3.6.15/x64/lib/python3.6/site-packages (from mnist) (1.19.5)\r\n"
     ]
    },
    {
     "name": "stdout",
     "output_type": "stream",
     "text": [
      "Installing collected packages: mnist\r\n"
     ]
    },
    {
     "name": "stdout",
     "output_type": "stream",
     "text": [
      "Successfully installed mnist-0.2.2\r\n"
     ]
    }
   ],
   "source": [
    "!pip install mnist"
   ]
  },
  {
   "cell_type": "markdown",
   "id": "69df9c9a",
   "metadata": {
    "papermill": {
     "duration": 0.030159,
     "end_time": "2021-11-15T00:23:00.144105",
     "exception": false,
     "start_time": "2021-11-15T00:23:00.113946",
     "status": "completed"
    },
    "tags": []
   },
   "source": [
    "## Preparing the Data"
   ]
  },
  {
   "cell_type": "code",
   "execution_count": 4,
   "id": "7f69d806",
   "metadata": {
    "execution": {
     "iopub.execute_input": "2021-11-15T00:23:00.226211Z",
     "iopub.status.busy": "2021-11-15T00:23:00.224937Z",
     "iopub.status.idle": "2021-11-15T00:23:00.229920Z",
     "shell.execute_reply": "2021-11-15T00:23:00.229438Z"
    },
    "papermill": {
     "duration": 0.056406,
     "end_time": "2021-11-15T00:23:00.230053",
     "exception": false,
     "start_time": "2021-11-15T00:23:00.173647",
     "status": "completed"
    },
    "tags": []
   },
   "outputs": [],
   "source": [
    "import mnist"
   ]
  },
  {
   "cell_type": "code",
   "execution_count": 5,
   "id": "a411e44f",
   "metadata": {
    "execution": {
     "iopub.execute_input": "2021-11-15T00:23:00.292449Z",
     "iopub.status.busy": "2021-11-15T00:23:00.291713Z",
     "iopub.status.idle": "2021-11-15T00:23:00.955441Z",
     "shell.execute_reply": "2021-11-15T00:23:00.954861Z"
    },
    "papermill": {
     "duration": 0.696015,
     "end_time": "2021-11-15T00:23:00.955585",
     "exception": false,
     "start_time": "2021-11-15T00:23:00.259570",
     "status": "completed"
    },
    "tags": []
   },
   "outputs": [],
   "source": [
    "train_images = mnist.train_images()\n",
    "train_labels = mnist.train_labels()"
   ]
  },
  {
   "cell_type": "code",
   "execution_count": 6,
   "id": "dceab3a5",
   "metadata": {
    "execution": {
     "iopub.execute_input": "2021-11-15T00:23:01.018053Z",
     "iopub.status.busy": "2021-11-15T00:23:01.017463Z",
     "iopub.status.idle": "2021-11-15T00:23:01.033838Z",
     "shell.execute_reply": "2021-11-15T00:23:01.033338Z"
    },
    "papermill": {
     "duration": 0.04846,
     "end_time": "2021-11-15T00:23:01.033953",
     "exception": false,
     "start_time": "2021-11-15T00:23:00.985493",
     "status": "completed"
    },
    "tags": []
   },
   "outputs": [
    {
     "data": {
      "text/plain": [
       "((60000, 28, 28), (60000,))"
      ]
     },
     "execution_count": 6,
     "metadata": {},
     "output_type": "execute_result"
    }
   ],
   "source": [
    "train_images.shape, train_labels.shape"
   ]
  },
  {
   "cell_type": "code",
   "execution_count": 7,
   "id": "f50dc2bb",
   "metadata": {
    "execution": {
     "iopub.execute_input": "2021-11-15T00:23:01.097493Z",
     "iopub.status.busy": "2021-11-15T00:23:01.096795Z",
     "iopub.status.idle": "2021-11-15T00:23:01.340884Z",
     "shell.execute_reply": "2021-11-15T00:23:01.341376Z"
    },
    "papermill": {
     "duration": 0.277989,
     "end_time": "2021-11-15T00:23:01.341539",
     "exception": false,
     "start_time": "2021-11-15T00:23:01.063550",
     "status": "completed"
    },
    "tags": []
   },
   "outputs": [],
   "source": [
    "test_images = mnist.test_images()\n",
    "test_labels = mnist.test_labels()"
   ]
  },
  {
   "cell_type": "code",
   "execution_count": 8,
   "id": "fc38cf1b",
   "metadata": {
    "execution": {
     "iopub.execute_input": "2021-11-15T00:23:01.412701Z",
     "iopub.status.busy": "2021-11-15T00:23:01.412012Z",
     "iopub.status.idle": "2021-11-15T00:23:01.425924Z",
     "shell.execute_reply": "2021-11-15T00:23:01.425423Z"
    },
    "papermill": {
     "duration": 0.051722,
     "end_time": "2021-11-15T00:23:01.426054",
     "exception": false,
     "start_time": "2021-11-15T00:23:01.374332",
     "status": "completed"
    },
    "tags": []
   },
   "outputs": [
    {
     "data": {
      "text/plain": [
       "((10000, 28, 28), (10000,))"
      ]
     },
     "execution_count": 8,
     "metadata": {},
     "output_type": "execute_result"
    }
   ],
   "source": [
    "test_images.shape, test_labels.shape"
   ]
  },
  {
   "cell_type": "code",
   "execution_count": 9,
   "id": "f9ed8fe0",
   "metadata": {
    "execution": {
     "iopub.execute_input": "2021-11-15T00:23:01.495198Z",
     "iopub.status.busy": "2021-11-15T00:23:01.494612Z",
     "iopub.status.idle": "2021-11-15T00:23:01.666267Z",
     "shell.execute_reply": "2021-11-15T00:23:01.666823Z"
    },
    "papermill": {
     "duration": 0.208619,
     "end_time": "2021-11-15T00:23:01.667134",
     "exception": false,
     "start_time": "2021-11-15T00:23:01.458515",
     "status": "completed"
    },
    "tags": []
   },
   "outputs": [
    {
     "name": "stdout",
     "output_type": "stream",
     "text": [
      "2\n"
     ]
    },
    {
     "data": {
      "text/plain": [
       "<matplotlib.image.AxesImage at 0x7fa233711080>"
      ]
     },
     "execution_count": 9,
     "metadata": {},
     "output_type": "execute_result"
    },
    {
     "data": {
      "image/png": "[encoded data removed]",
      "text/plain": [
       "<Figure size 432x288 with 1 Axes>"
      ]
     },
     "metadata": {
      "needs_background": "light"
     },
     "output_type": "display_data"
    }
   ],
   "source": [
    "image_index = 7776 # You may select anything up to 60,000\n",
    "print(train_labels[image_index]) \n",
    "plt.imshow(train_images[image_index], cmap='Greys')"
   ]
  },
  {
   "cell_type": "markdown",
   "id": "a8d2388d",
   "metadata": {
    "papermill": {
     "duration": 0.031685,
     "end_time": "2021-11-15T00:23:01.730278",
     "exception": false,
     "start_time": "2021-11-15T00:23:01.698593",
     "status": "completed"
    },
    "tags": []
   },
   "source": [
    "## Filter data to get 3 and 8 out"
   ]
  },
  {
   "cell_type": "code",
   "execution_count": 10,
   "id": "776f7fc7",
   "metadata": {
    "execution": {
     "iopub.execute_input": "2021-11-15T00:23:01.806021Z",
     "iopub.status.busy": "2021-11-15T00:23:01.805373Z",
     "iopub.status.idle": "2021-11-15T00:23:01.822535Z",
     "shell.execute_reply": "2021-11-15T00:23:01.821888Z"
    },
    "papermill": {
     "duration": 0.06031,
     "end_time": "2021-11-15T00:23:01.822690",
     "exception": false,
     "start_time": "2021-11-15T00:23:01.762380",
     "status": "completed"
    },
    "tags": []
   },
   "outputs": [],
   "source": [
    "train_filter = np.where((train_labels == 3 ) | (train_labels == 8))\n",
    "test_filter = np.where((test_labels == 3) | (test_labels == 8))\n",
    "X_train, y_train = train_images[train_filter], train_labels[train_filter]\n",
    "X_test, y_test = test_images[test_filter], test_labels[test_filter]"
   ]
  },
  {
   "cell_type": "markdown",
   "id": "948f0b7e",
   "metadata": {
    "papermill": {
     "duration": 0.033136,
     "end_time": "2021-11-15T00:23:01.888851",
     "exception": false,
     "start_time": "2021-11-15T00:23:01.855715",
     "status": "completed"
    },
    "tags": []
   },
   "source": [
    "We normalize the pizel values in the 0 to 1 range"
   ]
  },
  {
   "cell_type": "code",
   "execution_count": 11,
   "id": "ee4c2166",
   "metadata": {
    "execution": {
     "iopub.execute_input": "2021-11-15T00:23:01.958306Z",
     "iopub.status.busy": "2021-11-15T00:23:01.957649Z",
     "iopub.status.idle": "2021-11-15T00:23:02.020663Z",
     "shell.execute_reply": "2021-11-15T00:23:02.020082Z"
    },
    "papermill": {
     "duration": 0.098857,
     "end_time": "2021-11-15T00:23:02.020803",
     "exception": false,
     "start_time": "2021-11-15T00:23:01.921946",
     "status": "completed"
    },
    "tags": []
   },
   "outputs": [],
   "source": [
    "X_train = X_train/255.\n",
    "X_test = X_test/255."
   ]
  },
  {
   "cell_type": "markdown",
   "id": "ddcf4fab",
   "metadata": {
    "papermill": {
     "duration": 0.03336,
     "end_time": "2021-11-15T00:23:02.088687",
     "exception": false,
     "start_time": "2021-11-15T00:23:02.055327",
     "status": "completed"
    },
    "tags": []
   },
   "source": [
    "And setup the labels as 1 (when the digit is 3) and 0 (when the digit is 8)"
   ]
  },
  {
   "cell_type": "code",
   "execution_count": 12,
   "id": "7dc908f2",
   "metadata": {
    "execution": {
     "iopub.execute_input": "2021-11-15T00:23:02.157516Z",
     "iopub.status.busy": "2021-11-15T00:23:02.156924Z",
     "iopub.status.idle": "2021-11-15T00:23:02.167263Z",
     "shell.execute_reply": "2021-11-15T00:23:02.166758Z"
    },
    "papermill": {
     "duration": 0.047252,
     "end_time": "2021-11-15T00:23:02.167390",
     "exception": false,
     "start_time": "2021-11-15T00:23:02.120138",
     "status": "completed"
    },
    "tags": []
   },
   "outputs": [],
   "source": [
    "y_train = 1*(y_train==3)\n",
    "y_test = 1*(y_test==3)"
   ]
  },
  {
   "cell_type": "code",
   "execution_count": 13,
   "id": "01e4e969",
   "metadata": {
    "execution": {
     "iopub.execute_input": "2021-11-15T00:23:02.233846Z",
     "iopub.status.busy": "2021-11-15T00:23:02.232668Z",
     "iopub.status.idle": "2021-11-15T00:23:02.245944Z",
     "shell.execute_reply": "2021-11-15T00:23:02.245445Z"
    },
    "papermill": {
     "duration": 0.048007,
     "end_time": "2021-11-15T00:23:02.246059",
     "exception": false,
     "start_time": "2021-11-15T00:23:02.198052",
     "status": "completed"
    },
    "tags": []
   },
   "outputs": [
    {
     "data": {
      "text/plain": [
       "((11982, 28, 28), (1984, 28, 28))"
      ]
     },
     "execution_count": 13,
     "metadata": {},
     "output_type": "execute_result"
    }
   ],
   "source": [
    "X_train.shape, X_test.shape"
   ]
  },
  {
   "cell_type": "markdown",
   "id": "5ccf3f85",
   "metadata": {
    "papermill": {
     "duration": 0.030039,
     "end_time": "2021-11-15T00:23:02.307763",
     "exception": false,
     "start_time": "2021-11-15T00:23:02.277724",
     "status": "completed"
    },
    "tags": []
   },
   "source": [
    "We reshape the data to flatten the image pixels into a set of features or co-variates:"
   ]
  },
  {
   "cell_type": "code",
   "execution_count": 14,
   "id": "5286a4a3",
   "metadata": {
    "execution": {
     "iopub.execute_input": "2021-11-15T00:23:02.382491Z",
     "iopub.status.busy": "2021-11-15T00:23:02.381808Z",
     "iopub.status.idle": "2021-11-15T00:23:02.394320Z",
     "shell.execute_reply": "2021-11-15T00:23:02.393728Z"
    },
    "papermill": {
     "duration": 0.054066,
     "end_time": "2021-11-15T00:23:02.394446",
     "exception": false,
     "start_time": "2021-11-15T00:23:02.340380",
     "status": "completed"
    },
    "tags": []
   },
   "outputs": [
    {
     "data": {
      "text/plain": [
       "((11982, 784), (1984, 784))"
      ]
     },
     "execution_count": 14,
     "metadata": {},
     "output_type": "execute_result"
    }
   ],
   "source": [
    "X_train = X_train.reshape(X_train.shape[0], -1)\n",
    "X_test = X_test.reshape(X_test.shape[0], -1)\n",
    "X_train.shape, X_test.shape"
   ]
  },
  {
   "cell_type": "code",
   "execution_count": 15,
   "id": "73c5f88a",
   "metadata": {
    "execution": {
     "iopub.execute_input": "2021-11-15T00:23:02.469741Z",
     "iopub.status.busy": "2021-11-15T00:23:02.469065Z",
     "iopub.status.idle": "2021-11-15T00:23:02.490569Z",
     "shell.execute_reply": "2021-11-15T00:23:02.489988Z"
    },
    "papermill": {
     "duration": 0.06404,
     "end_time": "2021-11-15T00:23:02.490718",
     "exception": false,
     "start_time": "2021-11-15T00:23:02.426678",
     "status": "completed"
    },
    "tags": []
   },
   "outputs": [],
   "source": [
    "#Impoting functions from 'Kudzu'\n",
    "from kudzu.model import Model\n",
    "from kudzu.train import Learner\n",
    "from kudzu.optim import GD\n",
    "from kudzu.data import Data, Sampler,Dataloader\n",
    "\n",
    "from kudzu.callbacks import AccCallback\n",
    "from kudzu.callbacks import ClfCallback\n",
    "\n",
    "from kudzu.loss import MSE\n",
    "\n",
    "from kudzu.layer import Sigmoid,Relu\n",
    "from kudzu.layer import Affine"
   ]
  },
  {
   "cell_type": "markdown",
   "id": "bc01172a",
   "metadata": {
    "papermill": {
     "duration": 0.032562,
     "end_time": "2021-11-15T00:23:02.557673",
     "exception": false,
     "start_time": "2021-11-15T00:23:02.525111",
     "status": "completed"
    },
    "tags": []
   },
   "source": [
    "### Let us create a `Config` class, to store important parameters. \n",
    "This class essentially plays the role of a dictionary."
   ]
  },
  {
   "cell_type": "code",
   "execution_count": 16,
   "id": "978281aa",
   "metadata": {
    "execution": {
     "iopub.execute_input": "2021-11-15T00:23:02.630064Z",
     "iopub.status.busy": "2021-11-15T00:23:02.629433Z",
     "iopub.status.idle": "2021-11-15T00:23:02.638899Z",
     "shell.execute_reply": "2021-11-15T00:23:02.639347Z"
    },
    "papermill": {
     "duration": 0.049883,
     "end_time": "2021-11-15T00:23:02.639481",
     "exception": false,
     "start_time": "2021-11-15T00:23:02.589598",
     "status": "completed"
    },
    "tags": []
   },
   "outputs": [],
   "source": [
    "class Config:\n",
    "    pass\n",
    "config = Config()\n",
    "config.lr = 0.001\n",
    "config.num_epochs = 250\n",
    "config.bs = 50"
   ]
  },
  {
   "cell_type": "markdown",
   "id": "1385fa59",
   "metadata": {
    "papermill": {
     "duration": 0.033129,
     "end_time": "2021-11-15T00:23:02.703810",
     "exception": false,
     "start_time": "2021-11-15T00:23:02.670681",
     "status": "completed"
    },
    "tags": []
   },
   "source": [
    "### Running Models with the Training data\n",
    "Details about the network layers:\n",
    "- A first affine layer has 784 inputs and does 100 affine transforms. These are followed by a Relu\n",
    "- A second affine layer has 100 inputs from the 100 activations of the past layer, and does 100 affine transforms. These are followed by a Relu\n",
    "- A third affine layer has 100 activations and does 2 affine transformations to create an embedding for visualization. There is no non-linearity here.\n",
    "- A final \"logistic regression\" which has an affine transform from 2 inputs to 1 output, which is squeezed through a sigmoid.\n"
   ]
  },
  {
   "cell_type": "code",
   "execution_count": 17,
   "id": "2b9c66db",
   "metadata": {
    "execution": {
     "iopub.execute_input": "2021-11-15T00:23:02.781316Z",
     "iopub.status.busy": "2021-11-15T00:23:02.780687Z",
     "iopub.status.idle": "2021-11-15T00:23:02.793245Z",
     "shell.execute_reply": "2021-11-15T00:23:02.792652Z"
    },
    "papermill": {
     "duration": 0.050024,
     "end_time": "2021-11-15T00:23:02.793364",
     "exception": false,
     "start_time": "2021-11-15T00:23:02.743340",
     "status": "completed"
    },
    "tags": []
   },
   "outputs": [],
   "source": [
    "data = Data(X_train, y_train.reshape(-1,1))\n",
    "sampler = Sampler(data, config.bs, shuffle=True)\n",
    "\n",
    "dl = Dataloader(data, sampler)\n",
    "\n",
    "opt = GD(config.lr)\n",
    "loss = MSE()"
   ]
  },
  {
   "cell_type": "code",
   "execution_count": 18,
   "id": "b275e4c2",
   "metadata": {
    "execution": {
     "iopub.execute_input": "2021-11-15T00:23:02.871370Z",
     "iopub.status.busy": "2021-11-15T00:23:02.866054Z",
     "iopub.status.idle": "2021-11-15T00:23:02.873974Z",
     "shell.execute_reply": "2021-11-15T00:23:02.873474Z"
    },
    "papermill": {
     "duration": 0.049334,
     "end_time": "2021-11-15T00:23:02.874088",
     "exception": false,
     "start_time": "2021-11-15T00:23:02.824754",
     "status": "completed"
    },
    "tags": []
   },
   "outputs": [],
   "source": [
    "training_data_x = X_train\n",
    "testing_data_x = X_test\n",
    "training_data_y = y_train.reshape(-1,1)\n",
    "testing_data_y = y_test.reshape(-1,1)"
   ]
  },
  {
   "cell_type": "code",
   "execution_count": 19,
   "id": "76951160",
   "metadata": {
    "execution": {
     "iopub.execute_input": "2021-11-15T00:23:02.940250Z",
     "iopub.status.busy": "2021-11-15T00:23:02.939586Z",
     "iopub.status.idle": "2021-11-15T00:23:02.955665Z",
     "shell.execute_reply": "2021-11-15T00:23:02.955169Z"
    },
    "papermill": {
     "duration": 0.051401,
     "end_time": "2021-11-15T00:23:02.955779",
     "exception": false,
     "start_time": "2021-11-15T00:23:02.904378",
     "status": "completed"
    },
    "tags": []
   },
   "outputs": [
    {
     "name": "stdout",
     "output_type": "stream",
     "text": [
      "xavier\n",
      "xavier\n",
      "xavier\n",
      "xavier\n",
      "xavier\n"
     ]
    }
   ],
   "source": [
    "layers = [Affine(\"first\", 784, 100), Relu(\"first\"), Affine(\"second\", 100, 100), Relu(\"second\"), Affine(\"third\", 100, 2), Affine(\"last\", 2, 1), Sigmoid(\"last\")]\n",
    "model_nn = Model(layers)\n",
    "model_lr = Model([Affine(\"logits\", 784, 1), Sigmoid(\"sigmoid\")])"
   ]
  },
  {
   "cell_type": "code",
   "execution_count": 20,
   "id": "6eede77a",
   "metadata": {
    "execution": {
     "iopub.execute_input": "2021-11-15T00:23:03.027053Z",
     "iopub.status.busy": "2021-11-15T00:23:03.026411Z",
     "iopub.status.idle": "2021-11-15T00:23:03.038898Z",
     "shell.execute_reply": "2021-11-15T00:23:03.039355Z"
    },
    "papermill": {
     "duration": 0.049378,
     "end_time": "2021-11-15T00:23:03.039491",
     "exception": false,
     "start_time": "2021-11-15T00:23:02.990113",
     "status": "completed"
    },
    "tags": []
   },
   "outputs": [],
   "source": [
    "nn_learner = Learner(loss, model_nn, opt, config.num_epochs)\n",
    "acc_nn = ClfCallback(nn_learner, config.bs, training_data_x , testing_data_x, training_data_y, testing_data_y)\n",
    "nn_learner.set_callbacks([acc_nn])"
   ]
  },
  {
   "cell_type": "code",
   "execution_count": 21,
   "id": "877b6cc7",
   "metadata": {
    "execution": {
     "iopub.execute_input": "2021-11-15T00:23:03.114047Z",
     "iopub.status.busy": "2021-11-15T00:23:03.113345Z",
     "iopub.status.idle": "2021-11-15T00:23:03.125294Z",
     "shell.execute_reply": "2021-11-15T00:23:03.125972Z"
    },
    "papermill": {
     "duration": 0.0527,
     "end_time": "2021-11-15T00:23:03.126117",
     "exception": false,
     "start_time": "2021-11-15T00:23:03.073417",
     "status": "completed"
    },
    "tags": []
   },
   "outputs": [],
   "source": [
    "lr_learner = Learner(loss, model_lr, opt, config.num_epochs)\n",
    "acc_lr = ClfCallback(lr_learner, config.bs, training_data_x , testing_data_x, training_data_y, testing_data_y)\n",
    "lr_learner.set_callbacks([acc_lr])"
   ]
  },
  {
   "cell_type": "code",
   "execution_count": 22,
   "id": "d9b133c3",
   "metadata": {
    "execution": {
     "iopub.execute_input": "2021-11-15T00:23:03.210231Z",
     "iopub.status.busy": "2021-11-15T00:23:03.209383Z",
     "iopub.status.idle": "2021-11-15T00:25:04.407288Z",
     "shell.execute_reply": "2021-11-15T00:25:04.408284Z"
    },
    "papermill": {
     "duration": 121.248018,
     "end_time": "2021-11-15T00:25:04.408484",
     "exception": false,
     "start_time": "2021-11-15T00:23:03.160466",
     "status": "completed"
    },
    "tags": []
   },
   "outputs": [
    {
     "name": "stdout",
     "output_type": "stream",
     "text": [
      "Epoch 0, Loss 0.2317\n",
      "Training Accuracy: 0.7600, Testing Accuracy: 0.7838\n",
      "\n"
     ]
    },
    {
     "name": "stdout",
     "output_type": "stream",
     "text": [
      "Epoch 10, Loss 0.1255\n",
      "Training Accuracy: 0.9033, Testing Accuracy: 0.9128\n",
      "\n"
     ]
    },
    {
     "name": "stdout",
     "output_type": "stream",
     "text": [
      "Epoch 20, Loss 0.0674\n",
      "Training Accuracy: 0.9331, Testing Accuracy: 0.9405\n",
      "\n"
     ]
    },
    {
     "name": "stdout",
     "output_type": "stream",
     "text": [
      "Epoch 30, Loss 0.0486\n",
      "Training Accuracy: 0.9507, Testing Accuracy: 0.9577\n",
      "\n"
     ]
    },
    {
     "name": "stdout",
     "output_type": "stream",
     "text": [
      "Epoch 40, Loss 0.0401\n",
      "Training Accuracy: 0.9571, Testing Accuracy: 0.9632\n",
      "\n"
     ]
    },
    {
     "name": "stdout",
     "output_type": "stream",
     "text": [
      "Epoch 50, Loss 0.0355\n",
      "Training Accuracy: 0.9610, Testing Accuracy: 0.9652\n",
      "\n"
     ]
    },
    {
     "name": "stdout",
     "output_type": "stream",
     "text": [
      "Epoch 60, Loss 0.0326\n",
      "Training Accuracy: 0.9636, Testing Accuracy: 0.9662\n",
      "\n"
     ]
    },
    {
     "name": "stdout",
     "output_type": "stream",
     "text": [
      "Epoch 70, Loss 0.0305\n",
      "Training Accuracy: 0.9658, Testing Accuracy: 0.9682\n",
      "\n"
     ]
    },
    {
     "name": "stdout",
     "output_type": "stream",
     "text": [
      "Epoch 80, Loss 0.0289\n",
      "Training Accuracy: 0.9671, Testing Accuracy: 0.9688\n",
      "\n"
     ]
    },
    {
     "name": "stdout",
     "output_type": "stream",
     "text": [
      "Epoch 90, Loss 0.0276\n",
      "Training Accuracy: 0.9683, Testing Accuracy: 0.9703\n",
      "\n"
     ]
    },
    {
     "name": "stdout",
     "output_type": "stream",
     "text": [
      "Epoch 100, Loss 0.0265\n",
      "Training Accuracy: 0.9699, Testing Accuracy: 0.9703\n",
      "\n"
     ]
    },
    {
     "name": "stdout",
     "output_type": "stream",
     "text": [
      "Epoch 110, Loss 0.0256\n",
      "Training Accuracy: 0.9705, Testing Accuracy: 0.9708\n",
      "\n"
     ]
    },
    {
     "name": "stdout",
     "output_type": "stream",
     "text": [
      "Epoch 120, Loss 0.0248\n",
      "Training Accuracy: 0.9716, Testing Accuracy: 0.9708\n",
      "\n"
     ]
    },
    {
     "name": "stdout",
     "output_type": "stream",
     "text": [
      "Epoch 130, Loss 0.024\n",
      "Training Accuracy: 0.9727, Testing Accuracy: 0.9713\n",
      "\n"
     ]
    },
    {
     "name": "stdout",
     "output_type": "stream",
     "text": [
      "Epoch 140, Loss 0.0234\n",
      "Training Accuracy: 0.9734, Testing Accuracy: 0.9723\n",
      "\n"
     ]
    },
    {
     "name": "stdout",
     "output_type": "stream",
     "text": [
      "Epoch 150, Loss 0.0227\n",
      "Training Accuracy: 0.9738, Testing Accuracy: 0.9728\n",
      "\n"
     ]
    },
    {
     "name": "stdout",
     "output_type": "stream",
     "text": [
      "Epoch 160, Loss 0.0221\n",
      "Training Accuracy: 0.9750, Testing Accuracy: 0.9743\n",
      "\n"
     ]
    },
    {
     "name": "stdout",
     "output_type": "stream",
     "text": [
      "Epoch 170, Loss 0.0216\n",
      "Training Accuracy: 0.9754, Testing Accuracy: 0.9743\n",
      "\n"
     ]
    },
    {
     "name": "stdout",
     "output_type": "stream",
     "text": [
      "Epoch 180, Loss 0.021\n",
      "Training Accuracy: 0.9765, Testing Accuracy: 0.9748\n",
      "\n"
     ]
    },
    {
     "name": "stdout",
     "output_type": "stream",
     "text": [
      "Epoch 190, Loss 0.0205\n",
      "Training Accuracy: 0.9768, Testing Accuracy: 0.9748\n",
      "\n"
     ]
    },
    {
     "name": "stdout",
     "output_type": "stream",
     "text": [
      "Epoch 200, Loss 0.0201\n",
      "Training Accuracy: 0.9777, Testing Accuracy: 0.9748\n",
      "\n"
     ]
    },
    {
     "name": "stdout",
     "output_type": "stream",
     "text": [
      "Epoch 210, Loss 0.0196\n",
      "Training Accuracy: 0.9785, Testing Accuracy: 0.9748\n",
      "\n"
     ]
    },
    {
     "name": "stdout",
     "output_type": "stream",
     "text": [
      "Epoch 220, Loss 0.0192\n",
      "Training Accuracy: 0.9787, Testing Accuracy: 0.9753\n",
      "\n"
     ]
    },
    {
     "name": "stdout",
     "output_type": "stream",
     "text": [
      "Epoch 230, Loss 0.0188\n",
      "Training Accuracy: 0.9793, Testing Accuracy: 0.9758\n",
      "\n"
     ]
    },
    {
     "name": "stdout",
     "output_type": "stream",
     "text": [
      "Epoch 240, Loss 0.0184\n",
      "Training Accuracy: 0.9800, Testing Accuracy: 0.9758\n",
      "\n"
     ]
    },
    {
     "data": {
      "text/plain": [
       "0.08035119661418602"
      ]
     },
     "execution_count": 22,
     "metadata": {},
     "output_type": "execute_result"
    }
   ],
   "source": [
    "nn_learner.train_loop(dl)"
   ]
  },
  {
   "cell_type": "code",
   "execution_count": 23,
   "id": "e0163366",
   "metadata": {
    "execution": {
     "iopub.execute_input": "2021-11-15T00:25:04.501604Z",
     "iopub.status.busy": "2021-11-15T00:25:04.500980Z",
     "iopub.status.idle": "2021-11-15T00:25:22.209289Z",
     "shell.execute_reply": "2021-11-15T00:25:22.210223Z"
    },
    "papermill": {
     "duration": 17.759899,
     "end_time": "2021-11-15T00:25:22.210379",
     "exception": false,
     "start_time": "2021-11-15T00:25:04.450480",
     "status": "completed"
    },
    "tags": []
   },
   "outputs": [
    {
     "name": "stdout",
     "output_type": "stream",
     "text": [
      "Epoch 0, Loss 0.2228\n",
      "Training Accuracy: 0.7542, Testing Accuracy: 0.7566\n",
      "\n"
     ]
    },
    {
     "name": "stdout",
     "output_type": "stream",
     "text": [
      "Epoch 10, Loss 0.1008\n",
      "Training Accuracy: 0.9094, Testing Accuracy: 0.9229\n",
      "\n"
     ]
    },
    {
     "name": "stdout",
     "output_type": "stream",
     "text": [
      "Epoch 20, Loss 0.0784\n",
      "Training Accuracy: 0.9271, Testing Accuracy: 0.9395\n",
      "\n"
     ]
    },
    {
     "name": "stdout",
     "output_type": "stream",
     "text": [
      "Epoch 30, Loss 0.0678\n",
      "Training Accuracy: 0.9363, Testing Accuracy: 0.9491\n",
      "\n"
     ]
    },
    {
     "name": "stdout",
     "output_type": "stream",
     "text": [
      "Epoch 40, Loss 0.0614\n",
      "Training Accuracy: 0.9410, Testing Accuracy: 0.9531\n",
      "\n"
     ]
    },
    {
     "name": "stdout",
     "output_type": "stream",
     "text": [
      "Epoch 50, Loss 0.057\n",
      "Training Accuracy: 0.9455, Testing Accuracy: 0.9561\n",
      "\n"
     ]
    },
    {
     "name": "stdout",
     "output_type": "stream",
     "text": [
      "Epoch 60, Loss 0.0538\n",
      "Training Accuracy: 0.9473, Testing Accuracy: 0.9572\n",
      "\n"
     ]
    },
    {
     "name": "stdout",
     "output_type": "stream",
     "text": [
      "Epoch 70, Loss 0.0512\n",
      "Training Accuracy: 0.9486, Testing Accuracy: 0.9587\n",
      "\n"
     ]
    },
    {
     "name": "stdout",
     "output_type": "stream",
     "text": [
      "Epoch 80, Loss 0.0492\n",
      "Training Accuracy: 0.9507, Testing Accuracy: 0.9597\n",
      "\n"
     ]
    },
    {
     "name": "stdout",
     "output_type": "stream",
     "text": [
      "Epoch 90, Loss 0.0475\n",
      "Training Accuracy: 0.9520, Testing Accuracy: 0.9617\n",
      "\n"
     ]
    },
    {
     "name": "stdout",
     "output_type": "stream",
     "text": [
      "Epoch 100, Loss 0.0461\n",
      "Training Accuracy: 0.9536, Testing Accuracy: 0.9632\n",
      "\n"
     ]
    },
    {
     "name": "stdout",
     "output_type": "stream",
     "text": [
      "Epoch 110, Loss 0.0449\n",
      "Training Accuracy: 0.9550, Testing Accuracy: 0.9637\n",
      "\n"
     ]
    },
    {
     "name": "stdout",
     "output_type": "stream",
     "text": [
      "Epoch 120, Loss 0.0438\n",
      "Training Accuracy: 0.9557, Testing Accuracy: 0.9652\n",
      "\n"
     ]
    },
    {
     "name": "stdout",
     "output_type": "stream",
     "text": [
      "Epoch 130, Loss 0.0429\n",
      "Training Accuracy: 0.9564, Testing Accuracy: 0.9652\n",
      "\n"
     ]
    },
    {
     "name": "stdout",
     "output_type": "stream",
     "text": [
      "Epoch 140, Loss 0.0421\n",
      "Training Accuracy: 0.9573, Testing Accuracy: 0.9657\n",
      "\n"
     ]
    },
    {
     "name": "stdout",
     "output_type": "stream",
     "text": [
      "Epoch 150, Loss 0.0413\n",
      "Training Accuracy: 0.9582, Testing Accuracy: 0.9667\n",
      "\n"
     ]
    },
    {
     "name": "stdout",
     "output_type": "stream",
     "text": [
      "Epoch 160, Loss 0.0407\n",
      "Training Accuracy: 0.9589, Testing Accuracy: 0.9677\n",
      "\n"
     ]
    },
    {
     "name": "stdout",
     "output_type": "stream",
     "text": [
      "Epoch 170, Loss 0.04\n",
      "Training Accuracy: 0.9599, Testing Accuracy: 0.9682\n",
      "\n"
     ]
    },
    {
     "name": "stdout",
     "output_type": "stream",
     "text": [
      "Epoch 180, Loss 0.0395\n",
      "Training Accuracy: 0.9604, Testing Accuracy: 0.9682\n",
      "\n"
     ]
    },
    {
     "name": "stdout",
     "output_type": "stream",
     "text": [
      "Epoch 190, Loss 0.039\n",
      "Training Accuracy: 0.9605, Testing Accuracy: 0.9682\n",
      "\n"
     ]
    },
    {
     "name": "stdout",
     "output_type": "stream",
     "text": [
      "Epoch 200, Loss 0.0385\n",
      "Training Accuracy: 0.9613, Testing Accuracy: 0.9688\n",
      "\n"
     ]
    },
    {
     "name": "stdout",
     "output_type": "stream",
     "text": [
      "Epoch 210, Loss 0.038\n",
      "Training Accuracy: 0.9618, Testing Accuracy: 0.9703\n",
      "\n"
     ]
    },
    {
     "name": "stdout",
     "output_type": "stream",
     "text": [
      "Epoch 220, Loss 0.0376\n",
      "Training Accuracy: 0.9620, Testing Accuracy: 0.9708\n",
      "\n"
     ]
    },
    {
     "name": "stdout",
     "output_type": "stream",
     "text": [
      "Epoch 230, Loss 0.0372\n",
      "Training Accuracy: 0.9621, Testing Accuracy: 0.9708\n",
      "\n"
     ]
    },
    {
     "name": "stdout",
     "output_type": "stream",
     "text": [
      "Epoch 240, Loss 0.0369\n",
      "Training Accuracy: 0.9621, Testing Accuracy: 0.9708\n",
      "\n"
     ]
    },
    {
     "data": {
      "text/plain": [
       "0.02489058034764355"
      ]
     },
     "execution_count": 23,
     "metadata": {},
     "output_type": "execute_result"
    }
   ],
   "source": [
    "lr_learner.train_loop(dl)"
   ]
  },
  {
   "cell_type": "code",
   "execution_count": 24,
   "id": "ca410940",
   "metadata": {
    "execution": {
     "iopub.execute_input": "2021-11-15T00:25:22.317731Z",
     "iopub.status.busy": "2021-11-15T00:25:22.317128Z",
     "iopub.status.idle": "2021-11-15T00:25:22.578566Z",
     "shell.execute_reply": "2021-11-15T00:25:22.578073Z"
    },
    "papermill": {
     "duration": 0.318007,
     "end_time": "2021-11-15T00:25:22.578703",
     "exception": false,
     "start_time": "2021-11-15T00:25:22.260696",
     "status": "completed"
    },
    "tags": []
   },
   "outputs": [
    {
     "data": {
      "text/plain": [
       "<matplotlib.legend.Legend at 0x7fa233274860>"
      ]
     },
     "execution_count": 24,
     "metadata": {},
     "output_type": "execute_result"
    },
    {
     "data": {
      "image/png": "[encoded data removed]",
      "text/plain": [
       "<Figure size 1080x720 with 1 Axes>"
      ]
     },
     "metadata": {
      "needs_background": "light"
     },
     "output_type": "display_data"
    }
   ],
   "source": [
    "#comparing the results of NN and LR\n",
    "plt.figure(figsize=(15,10))\n",
    "\n",
    "# Neural Network plots\n",
    "plt.plot(acc_nn.accuracies, 'r-', label = \"Training Accuracies - NN\")\n",
    "plt.plot(acc_nn.test_accuracies, 'g-', label = \"Testing Accuracies - NN\")\n",
    "\n",
    "# Logistic Regression plots\n",
    "plt.plot(acc_lr.accuracies, 'k-', label = \"Training Accuracies - LR\")\n",
    "plt.plot(acc_lr.test_accuracies, 'b-', label = \"Testing Accuracies - LR\")\n",
    "plt.legend()"
   ]
  },
  {
   "cell_type": "markdown",
   "id": "80dfb35c",
   "metadata": {
    "papermill": {
     "duration": 0.047644,
     "end_time": "2021-11-15T00:25:22.674745",
     "exception": false,
     "start_time": "2021-11-15T00:25:22.627101",
     "status": "completed"
    },
    "tags": []
   },
   "source": [
    "#### Plotting the outputs of this layer of the NN.\n"
   ]
  },
  {
   "cell_type": "code",
   "execution_count": 25,
   "id": "45eb2ff5",
   "metadata": {
    "execution": {
     "iopub.execute_input": "2021-11-15T00:25:22.791314Z",
     "iopub.status.busy": "2021-11-15T00:25:22.788845Z",
     "iopub.status.idle": "2021-11-15T00:25:22.813398Z",
     "shell.execute_reply": "2021-11-15T00:25:22.813885Z"
    },
    "papermill": {
     "duration": 0.081402,
     "end_time": "2021-11-15T00:25:22.814042",
     "exception": false,
     "start_time": "2021-11-15T00:25:22.732640",
     "status": "completed"
    },
    "tags": []
   },
   "outputs": [],
   "source": [
    "new_model = Model(layers[:-2])\n",
    "testing_plot = new_model(testing_data_x)"
   ]
  },
  {
   "cell_type": "code",
   "execution_count": 26,
   "id": "4c0a5485",
   "metadata": {
    "execution": {
     "iopub.execute_input": "2021-11-15T00:25:22.922646Z",
     "iopub.status.busy": "2021-11-15T00:25:22.922056Z",
     "iopub.status.idle": "2021-11-15T00:25:23.151947Z",
     "shell.execute_reply": "2021-11-15T00:25:23.152460Z"
    },
    "papermill": {
     "duration": 0.287604,
     "end_time": "2021-11-15T00:25:23.152613",
     "exception": false,
     "start_time": "2021-11-15T00:25:22.865009",
     "status": "completed"
    },
    "tags": []
   },
   "outputs": [
    {
     "data": {
      "text/plain": [
       "Text(0.5, 1.0, 'Outputs')"
      ]
     },
     "execution_count": 26,
     "metadata": {},
     "output_type": "execute_result"
    },
    {
     "data": {
      "image/png": "[encoded data removed]",
      "text/plain": [
       "<Figure size 576x504 with 1 Axes>"
      ]
     },
     "metadata": {
      "needs_background": "light"
     },
     "output_type": "display_data"
    }
   ],
   "source": [
    "# Plotting the scatter plot of points and color coding by class\n",
    "plt.figure(figsize=(8,7))\n",
    "plt.scatter(testing_plot[:,0], testing_plot[:,1], alpha = 0.1, c = y_test.ravel());\n",
    "plt.title('Outputs')"
   ]
  },
  {
   "cell_type": "markdown",
   "id": "a74fcf8f",
   "metadata": {
    "papermill": {
     "duration": 0.049269,
     "end_time": "2021-11-15T00:25:23.253428",
     "exception": false,
     "start_time": "2021-11-15T00:25:23.204159",
     "status": "completed"
    },
    "tags": []
   },
   "source": [
    "Probability contours"
   ]
  },
  {
   "cell_type": "code",
   "execution_count": 27,
   "id": "d0afc8e3",
   "metadata": {
    "execution": {
     "iopub.execute_input": "2021-11-15T00:25:23.385887Z",
     "iopub.status.busy": "2021-11-15T00:25:23.385301Z",
     "iopub.status.idle": "2021-11-15T00:25:23.394830Z",
     "shell.execute_reply": "2021-11-15T00:25:23.395567Z"
    },
    "papermill": {
     "duration": 0.069281,
     "end_time": "2021-11-15T00:25:23.395698",
     "exception": false,
     "start_time": "2021-11-15T00:25:23.326417",
     "status": "completed"
    },
    "tags": []
   },
   "outputs": [],
   "source": [
    "model_prob = Model(layers[-2:]) "
   ]
  },
  {
   "cell_type": "code",
   "execution_count": 28,
   "id": "9b96e238",
   "metadata": {
    "execution": {
     "iopub.execute_input": "2021-11-15T00:25:23.505322Z",
     "iopub.status.busy": "2021-11-15T00:25:23.504723Z",
     "iopub.status.idle": "2021-11-15T00:25:23.519694Z",
     "shell.execute_reply": "2021-11-15T00:25:23.520137Z"
    },
    "papermill": {
     "duration": 0.072003,
     "end_time": "2021-11-15T00:25:23.520294",
     "exception": false,
     "start_time": "2021-11-15T00:25:23.448291",
     "status": "completed"
    },
    "tags": []
   },
   "outputs": [],
   "source": [
    "#creating the x and y ranges according to the above generated plot.\n",
    "x_range = np.linspace(-4, 1, 100) \n",
    "y_range = np.linspace(-6, 6, 100) \n",
    "x_grid, y_grid = np.meshgrid(x_range, y_range) # x_grid and y_grig are of size 100 X 100\n",
    "\n",
    "# converting x_grid and y_grid to continuous arrays\n",
    "x_gridflat = np.ravel(x_grid)\n",
    "y_gridflat = np.ravel(y_grid)\n",
    "\n",
    "# The last layer of the current model takes two columns as input. Hence transpose of np.vstack() is required.\n",
    "X = np.vstack((x_gridflat, y_gridflat)).T\n",
    "\n",
    "prob_contour = model_prob(X).reshape(100,100) "
   ]
  },
  {
   "cell_type": "code",
   "execution_count": 29,
   "id": "da72499a",
   "metadata": {
    "execution": {
     "iopub.execute_input": "2021-11-15T00:25:23.627580Z",
     "iopub.status.busy": "2021-11-15T00:25:23.626745Z",
     "iopub.status.idle": "2021-11-15T00:25:23.930390Z",
     "shell.execute_reply": "2021-11-15T00:25:23.929888Z"
    },
    "papermill": {
     "duration": 0.36027,
     "end_time": "2021-11-15T00:25:23.930530",
     "exception": false,
     "start_time": "2021-11-15T00:25:23.570260",
     "status": "completed"
    },
    "tags": []
   },
   "outputs": [
    {
     "data": {
      "image/png": "[encoded data removed]",
      "text/plain": [
       "<Figure size 720x648 with 1 Axes>"
      ]
     },
     "metadata": {
      "needs_background": "light"
     },
     "output_type": "display_data"
    }
   ],
   "source": [
    "plt.figure(figsize=(10,9))\n",
    "plt.scatter(testing_plot[:,0], testing_plot[:,1], alpha = 0.1, c = y_test.ravel())\n",
    "contours = plt.contour(x_grid,y_grid,prob_contour)\n",
    "plt.title('Probability Contours')\n",
    "plt.clabel(contours, inline = True );"
   ]
  },
  {
   "cell_type": "code",
   "execution_count": null,
   "id": "e81b4ac7",
   "metadata": {
    "papermill": {
     "duration": 0.052225,
     "end_time": "2021-11-15T00:25:24.036944",
     "exception": false,
     "start_time": "2021-11-15T00:25:23.984719",
     "status": "completed"
    },
    "tags": []
   },
   "outputs": [],
   "source": []
  }
 ],
 "metadata": {
  "kernelspec": {
   "display_name": "Python 3",
   "language": "python",
   "name": "python3"
  },
  "language_info": {
   "codemirror_mode": {
    "name": "ipython",
    "version": 3
   },
   "file_extension": ".py",
   "mimetype": "text/x-python",
   "name": "python",
   "nbconvert_exporter": "python",
   "pygments_lexer": "ipython3",
   "version": "3.6.15"
  },
  "papermill": {
   "default_parameters": {},
   "duration": 163.487871,
   "end_time": "2021-11-15T00:25:24.498054",
   "environment_variables": {},
   "exception": null,
   "input_path": "2020-08-11-part2.ipynb",
   "output_path": "2020-08-11-part2.ipynb",
   "parameters": {},
   "start_time": "2021-11-15T00:22:41.010183",
   "version": "2.3.3"
  }
 },
 "nbformat": 4,
 "nbformat_minor": 5
}