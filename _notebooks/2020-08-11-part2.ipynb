{
 "cells": [
  {
   "cell_type": "markdown",
   "id": "98380cd3",
   "metadata": {
    "papermill": {
     "duration": 0.122412,
     "end_time": "2021-09-30T10:07:37.649259",
     "exception": false,
     "start_time": "2021-09-30T10:07:37.526847",
     "status": "completed"
    },
    "tags": []
   },
   "source": [
    "# Distinguish Your Own Digits (DYOD)"
   ]
  },
  {
   "cell_type": "markdown",
   "id": "ef31240d",
   "metadata": {
    "papermill": {
     "duration": 0.112419,
     "end_time": "2021-09-30T10:07:37.876130",
     "exception": false,
     "start_time": "2021-09-30T10:07:37.763711",
     "status": "completed"
    },
    "tags": []
   },
   "source": [
    "You are going to write a classifier that distinguishes between the number 3 and number 8."
   ]
  },
  {
   "cell_type": "code",
   "execution_count": 1,
   "id": "b15c8646",
   "metadata": {
    "execution": {
     "iopub.execute_input": "2021-09-30T10:07:38.110642Z",
     "iopub.status.busy": "2021-09-30T10:07:38.107667Z",
     "iopub.status.idle": "2021-09-30T10:07:38.123135Z",
     "shell.execute_reply": "2021-09-30T10:07:38.122674Z"
    },
    "papermill": {
     "duration": 0.137948,
     "end_time": "2021-09-30T10:07:38.123276",
     "exception": false,
     "start_time": "2021-09-30T10:07:37.985328",
     "status": "completed"
    },
    "tags": []
   },
   "outputs": [],
   "source": [
    "%load_ext autoreload\n",
    "%autoreload 2"
   ]
  },
  {
   "cell_type": "code",
   "execution_count": 2,
   "id": "22ef38dc",
   "metadata": {
    "execution": {
     "iopub.execute_input": "2021-09-30T10:07:38.350857Z",
     "iopub.status.busy": "2021-09-30T10:07:38.350228Z",
     "iopub.status.idle": "2021-09-30T10:07:38.978168Z",
     "shell.execute_reply": "2021-09-30T10:07:38.977254Z"
    },
    "papermill": {
     "duration": 0.746005,
     "end_time": "2021-09-30T10:07:38.978395",
     "exception": false,
     "start_time": "2021-09-30T10:07:38.232390",
     "status": "completed"
    },
    "tags": []
   },
   "outputs": [],
   "source": [
    "%matplotlib inline\n",
    "import numpy as np\n",
    "import matplotlib.pyplot as plt\n",
    "import pandas as pd"
   ]
  },
  {
   "cell_type": "markdown",
   "id": "ba036198",
   "metadata": {
    "papermill": {
     "duration": 0.113127,
     "end_time": "2021-09-30T10:07:39.209430",
     "exception": false,
     "start_time": "2021-09-30T10:07:39.096303",
     "status": "completed"
    },
    "tags": []
   },
   "source": [
    "From the command line run `pip install mnist`. This is a library that will help you bring down the mnist dataset. If you run this from a notebook, you need to put  `!pip install mnist` in a cell by itself."
   ]
  },
  {
   "cell_type": "code",
   "execution_count": 3,
   "id": "bb6ad8a1",
   "metadata": {
    "execution": {
     "iopub.execute_input": "2021-09-30T10:07:39.439371Z",
     "iopub.status.busy": "2021-09-30T10:07:39.438765Z",
     "iopub.status.idle": "2021-09-30T10:07:41.389230Z",
     "shell.execute_reply": "2021-09-30T10:07:41.389719Z"
    },
    "papermill": {
     "duration": 2.067576,
     "end_time": "2021-09-30T10:07:41.389887",
     "exception": false,
     "start_time": "2021-09-30T10:07:39.322311",
     "status": "completed"
    },
    "tags": []
   },
   "outputs": [
    {
     "name": "stdout",
     "output_type": "stream",
     "text": [
      "Collecting mnist\r\n"
     ]
    },
    {
     "name": "stdout",
     "output_type": "stream",
     "text": [
      "  Downloading mnist-0.2.2-py2.py3-none-any.whl (3.5 kB)\r\n"
     ]
    },
    {
     "name": "stdout",
     "output_type": "stream",
     "text": [
      "Requirement already satisfied: numpy in /opt/hostedtoolcache/Python/3.6.15/x64/lib/python3.6/site-packages (from mnist) (1.19.5)\r\n"
     ]
    },
    {
     "name": "stdout",
     "output_type": "stream",
     "text": [
      "Installing collected packages: mnist\r\n"
     ]
    },
    {
     "name": "stdout",
     "output_type": "stream",
     "text": [
      "Successfully installed mnist-0.2.2\r\n"
     ]
    }
   ],
   "source": [
    "!pip install mnist"
   ]
  },
  {
   "cell_type": "markdown",
   "id": "69df9c9a",
   "metadata": {
    "papermill": {
     "duration": 0.119914,
     "end_time": "2021-09-30T10:07:41.630884",
     "exception": false,
     "start_time": "2021-09-30T10:07:41.510970",
     "status": "completed"
    },
    "tags": []
   },
   "source": [
    "## Preparing the Data"
   ]
  },
  {
   "cell_type": "code",
   "execution_count": 4,
   "id": "7f69d806",
   "metadata": {
    "execution": {
     "iopub.execute_input": "2021-09-30T10:07:41.885813Z",
     "iopub.status.busy": "2021-09-30T10:07:41.877283Z",
     "iopub.status.idle": "2021-09-30T10:07:41.894994Z",
     "shell.execute_reply": "2021-09-30T10:07:41.894488Z"
    },
    "papermill": {
     "duration": 0.143366,
     "end_time": "2021-09-30T10:07:41.895132",
     "exception": false,
     "start_time": "2021-09-30T10:07:41.751766",
     "status": "completed"
    },
    "tags": []
   },
   "outputs": [],
   "source": [
    "import mnist"
   ]
  },
  {
   "cell_type": "code",
   "execution_count": 5,
   "id": "a411e44f",
   "metadata": {
    "execution": {
     "iopub.execute_input": "2021-09-30T10:07:42.141681Z",
     "iopub.status.busy": "2021-09-30T10:07:42.138044Z",
     "iopub.status.idle": "2021-09-30T10:07:42.892292Z",
     "shell.execute_reply": "2021-09-30T10:07:42.891430Z"
    },
    "papermill": {
     "duration": 0.881267,
     "end_time": "2021-09-30T10:07:42.892537",
     "exception": false,
     "start_time": "2021-09-30T10:07:42.011270",
     "status": "completed"
    },
    "tags": []
   },
   "outputs": [],
   "source": [
    "train_images = mnist.train_images()\n",
    "train_labels = mnist.train_labels()"
   ]
  },
  {
   "cell_type": "code",
   "execution_count": 6,
   "id": "dceab3a5",
   "metadata": {
    "execution": {
     "iopub.execute_input": "2021-09-30T10:07:43.133884Z",
     "iopub.status.busy": "2021-09-30T10:07:43.133302Z",
     "iopub.status.idle": "2021-09-30T10:07:43.147396Z",
     "shell.execute_reply": "2021-09-30T10:07:43.147824Z"
    },
    "papermill": {
     "duration": 0.133847,
     "end_time": "2021-09-30T10:07:43.147975",
     "exception": false,
     "start_time": "2021-09-30T10:07:43.014128",
     "status": "completed"
    },
    "tags": []
   },
   "outputs": [
    {
     "data": {
      "text/plain": [
       "((60000, 28, 28), (60000,))"
      ]
     },
     "execution_count": 6,
     "metadata": {},
     "output_type": "execute_result"
    }
   ],
   "source": [
    "train_images.shape, train_labels.shape"
   ]
  },
  {
   "cell_type": "code",
   "execution_count": 7,
   "id": "f50dc2bb",
   "metadata": {
    "execution": {
     "iopub.execute_input": "2021-09-30T10:07:43.386431Z",
     "iopub.status.busy": "2021-09-30T10:07:43.385801Z",
     "iopub.status.idle": "2021-09-30T10:07:43.630353Z",
     "shell.execute_reply": "2021-09-30T10:07:43.629792Z"
    },
    "papermill": {
     "duration": 0.363298,
     "end_time": "2021-09-30T10:07:43.630485",
     "exception": false,
     "start_time": "2021-09-30T10:07:43.267187",
     "status": "completed"
    },
    "tags": []
   },
   "outputs": [],
   "source": [
    "test_images = mnist.test_images()\n",
    "test_labels = mnist.test_labels()"
   ]
  },
  {
   "cell_type": "code",
   "execution_count": 8,
   "id": "fc38cf1b",
   "metadata": {
    "execution": {
     "iopub.execute_input": "2021-09-30T10:07:43.871216Z",
     "iopub.status.busy": "2021-09-30T10:07:43.870667Z",
     "iopub.status.idle": "2021-09-30T10:07:43.884616Z",
     "shell.execute_reply": "2021-09-30T10:07:43.885069Z"
    },
    "papermill": {
     "duration": 0.136448,
     "end_time": "2021-09-30T10:07:43.885210",
     "exception": false,
     "start_time": "2021-09-30T10:07:43.748762",
     "status": "completed"
    },
    "tags": []
   },
   "outputs": [
    {
     "data": {
      "text/plain": [
       "((10000, 28, 28), (10000,))"
      ]
     },
     "execution_count": 8,
     "metadata": {},
     "output_type": "execute_result"
    }
   ],
   "source": [
    "test_images.shape, test_labels.shape"
   ]
  },
  {
   "cell_type": "code",
   "execution_count": 9,
   "id": "f9ed8fe0",
   "metadata": {
    "execution": {
     "iopub.execute_input": "2021-09-30T10:07:44.131768Z",
     "iopub.status.busy": "2021-09-30T10:07:44.131099Z",
     "iopub.status.idle": "2021-09-30T10:07:44.282261Z",
     "shell.execute_reply": "2021-09-30T10:07:44.282744Z"
    },
    "papermill": {
     "duration": 0.273295,
     "end_time": "2021-09-30T10:07:44.282900",
     "exception": false,
     "start_time": "2021-09-30T10:07:44.009605",
     "status": "completed"
    },
    "tags": []
   },
   "outputs": [
    {
     "name": "stdout",
     "output_type": "stream",
     "text": [
      "2\n"
     ]
    },
    {
     "data": {
      "text/plain": [
       "<matplotlib.image.AxesImage at 0x7fe7e9b1e7b8>"
      ]
     },
     "execution_count": 9,
     "metadata": {},
     "output_type": "execute_result"
    },
    {
     "data": {
      "image/png": "[encoded data removed]",
      "text/plain": [
       "<Figure size 432x288 with 1 Axes>"
      ]
     },
     "metadata": {
      "needs_background": "light"
     },
     "output_type": "display_data"
    }
   ],
   "source": [
    "image_index = 7776 # You may select anything up to 60,000\n",
    "print(train_labels[image_index]) \n",
    "plt.imshow(train_images[image_index], cmap='Greys')"
   ]
  },
  {
   "cell_type": "markdown",
   "id": "a8d2388d",
   "metadata": {
    "papermill": {
     "duration": 0.120649,
     "end_time": "2021-09-30T10:07:44.529935",
     "exception": false,
     "start_time": "2021-09-30T10:07:44.409286",
     "status": "completed"
    },
    "tags": []
   },
   "source": [
    "## Filter data to get 3 and 8 out"
   ]
  },
  {
   "cell_type": "code",
   "execution_count": 10,
   "id": "776f7fc7",
   "metadata": {
    "execution": {
     "iopub.execute_input": "2021-09-30T10:07:44.783651Z",
     "iopub.status.busy": "2021-09-30T10:07:44.783014Z",
     "iopub.status.idle": "2021-09-30T10:07:44.803192Z",
     "shell.execute_reply": "2021-09-30T10:07:44.802697Z"
    },
    "papermill": {
     "duration": 0.152763,
     "end_time": "2021-09-30T10:07:44.803317",
     "exception": false,
     "start_time": "2021-09-30T10:07:44.650554",
     "status": "completed"
    },
    "tags": []
   },
   "outputs": [],
   "source": [
    "train_filter = np.where((train_labels == 3 ) | (train_labels == 8))\n",
    "test_filter = np.where((test_labels == 3) | (test_labels == 8))\n",
    "X_train, y_train = train_images[train_filter], train_labels[train_filter]\n",
    "X_test, y_test = test_images[test_filter], test_labels[test_filter]"
   ]
  },
  {
   "cell_type": "markdown",
   "id": "948f0b7e",
   "metadata": {
    "papermill": {
     "duration": 0.116891,
     "end_time": "2021-09-30T10:07:45.039436",
     "exception": false,
     "start_time": "2021-09-30T10:07:44.922545",
     "status": "completed"
    },
    "tags": []
   },
   "source": [
    "We normalize the pizel values in the 0 to 1 range"
   ]
  },
  {
   "cell_type": "code",
   "execution_count": 11,
   "id": "ee4c2166",
   "metadata": {
    "execution": {
     "iopub.execute_input": "2021-09-30T10:07:45.277877Z",
     "iopub.status.busy": "2021-09-30T10:07:45.277266Z",
     "iopub.status.idle": "2021-09-30T10:07:45.331369Z",
     "shell.execute_reply": "2021-09-30T10:07:45.330489Z"
    },
    "papermill": {
     "duration": 0.176037,
     "end_time": "2021-09-30T10:07:45.331595",
     "exception": false,
     "start_time": "2021-09-30T10:07:45.155558",
     "status": "completed"
    },
    "tags": []
   },
   "outputs": [],
   "source": [
    "X_train = X_train/255.\n",
    "X_test = X_test/255."
   ]
  },
  {
   "cell_type": "markdown",
   "id": "ddcf4fab",
   "metadata": {
    "papermill": {
     "duration": 0.113721,
     "end_time": "2021-09-30T10:07:45.566777",
     "exception": false,
     "start_time": "2021-09-30T10:07:45.453056",
     "status": "completed"
    },
    "tags": []
   },
   "source": [
    "And setup the labels as 1 (when the digit is 3) and 0 (when the digit is 8)"
   ]
  },
  {
   "cell_type": "code",
   "execution_count": 12,
   "id": "7dc908f2",
   "metadata": {
    "execution": {
     "iopub.execute_input": "2021-09-30T10:07:45.814969Z",
     "iopub.status.busy": "2021-09-30T10:07:45.814363Z",
     "iopub.status.idle": "2021-09-30T10:07:45.828439Z",
     "shell.execute_reply": "2021-09-30T10:07:45.827876Z"
    },
    "papermill": {
     "duration": 0.14223,
     "end_time": "2021-09-30T10:07:45.828575",
     "exception": false,
     "start_time": "2021-09-30T10:07:45.686345",
     "status": "completed"
    },
    "tags": []
   },
   "outputs": [],
   "source": [
    "y_train = 1*(y_train==3)\n",
    "y_test = 1*(y_test==3)"
   ]
  },
  {
   "cell_type": "code",
   "execution_count": 13,
   "id": "01e4e969",
   "metadata": {
    "execution": {
     "iopub.execute_input": "2021-09-30T10:07:46.078545Z",
     "iopub.status.busy": "2021-09-30T10:07:46.077944Z",
     "iopub.status.idle": "2021-09-30T10:07:46.092415Z",
     "shell.execute_reply": "2021-09-30T10:07:46.092997Z"
    },
    "papermill": {
     "duration": 0.141764,
     "end_time": "2021-09-30T10:07:46.093149",
     "exception": false,
     "start_time": "2021-09-30T10:07:45.951385",
     "status": "completed"
    },
    "tags": []
   },
   "outputs": [
    {
     "data": {
      "text/plain": [
       "((11982, 28, 28), (1984, 28, 28))"
      ]
     },
     "execution_count": 13,
     "metadata": {},
     "output_type": "execute_result"
    }
   ],
   "source": [
    "X_train.shape, X_test.shape"
   ]
  },
  {
   "cell_type": "markdown",
   "id": "5ccf3f85",
   "metadata": {
    "papermill": {
     "duration": 0.124981,
     "end_time": "2021-09-30T10:07:46.342953",
     "exception": false,
     "start_time": "2021-09-30T10:07:46.217972",
     "status": "completed"
    },
    "tags": []
   },
   "source": [
    "We reshape the data to flatten the image pixels into a set of features or co-variates:"
   ]
  },
  {
   "cell_type": "code",
   "execution_count": 14,
   "id": "5286a4a3",
   "metadata": {
    "execution": {
     "iopub.execute_input": "2021-09-30T10:07:46.601985Z",
     "iopub.status.busy": "2021-09-30T10:07:46.601371Z",
     "iopub.status.idle": "2021-09-30T10:07:46.616895Z",
     "shell.execute_reply": "2021-09-30T10:07:46.617452Z"
    },
    "papermill": {
     "duration": 0.148584,
     "end_time": "2021-09-30T10:07:46.617603",
     "exception": false,
     "start_time": "2021-09-30T10:07:46.469019",
     "status": "completed"
    },
    "tags": []
   },
   "outputs": [
    {
     "data": {
      "text/plain": [
       "((11982, 784), (1984, 784))"
      ]
     },
     "execution_count": 14,
     "metadata": {},
     "output_type": "execute_result"
    }
   ],
   "source": [
    "X_train = X_train.reshape(X_train.shape[0], -1)\n",
    "X_test = X_test.reshape(X_test.shape[0], -1)\n",
    "X_train.shape, X_test.shape"
   ]
  },
  {
   "cell_type": "code",
   "execution_count": 15,
   "id": "73c5f88a",
   "metadata": {
    "execution": {
     "iopub.execute_input": "2021-09-30T10:07:46.879369Z",
     "iopub.status.busy": "2021-09-30T10:07:46.878742Z",
     "iopub.status.idle": "2021-09-30T10:07:46.900786Z",
     "shell.execute_reply": "2021-09-30T10:07:46.901498Z"
    },
    "papermill": {
     "duration": 0.156694,
     "end_time": "2021-09-30T10:07:46.901695",
     "exception": false,
     "start_time": "2021-09-30T10:07:46.745001",
     "status": "completed"
    },
    "tags": []
   },
   "outputs": [],
   "source": [
    "#Impoting functions from 'Kudzu'\n",
    "from kudzu.model import Model\n",
    "from kudzu.train import Learner\n",
    "from kudzu.optim import GD\n",
    "from kudzu.data import Data, Sampler,Dataloader\n",
    "\n",
    "from kudzu.callbacks import AccCallback\n",
    "from kudzu.callbacks import ClfCallback\n",
    "\n",
    "from kudzu.loss import MSE\n",
    "\n",
    "from kudzu.layer import Sigmoid,Relu\n",
    "from kudzu.layer import Affine"
   ]
  },
  {
   "cell_type": "markdown",
   "id": "bc01172a",
   "metadata": {
    "papermill": {
     "duration": 0.127217,
     "end_time": "2021-09-30T10:07:47.157860",
     "exception": false,
     "start_time": "2021-09-30T10:07:47.030643",
     "status": "completed"
    },
    "tags": []
   },
   "source": [
    "### Let us create a `Config` class, to store important parameters. \n",
    "This class essentially plays the role of a dictionary."
   ]
  },
  {
   "cell_type": "code",
   "execution_count": 16,
   "id": "978281aa",
   "metadata": {
    "execution": {
     "iopub.execute_input": "2021-09-30T10:07:47.417843Z",
     "iopub.status.busy": "2021-09-30T10:07:47.417243Z",
     "iopub.status.idle": "2021-09-30T10:07:47.430790Z",
     "shell.execute_reply": "2021-09-30T10:07:47.430281Z"
    },
    "papermill": {
     "duration": 0.145852,
     "end_time": "2021-09-30T10:07:47.430917",
     "exception": false,
     "start_time": "2021-09-30T10:07:47.285065",
     "status": "completed"
    },
    "tags": []
   },
   "outputs": [],
   "source": [
    "class Config:\n",
    "    pass\n",
    "config = Config()\n",
    "config.lr = 0.001\n",
    "config.num_epochs = 250\n",
    "config.bs = 50"
   ]
  },
  {
   "cell_type": "markdown",
   "id": "1385fa59",
   "metadata": {
    "papermill": {
     "duration": 0.127203,
     "end_time": "2021-09-30T10:07:47.685118",
     "exception": false,
     "start_time": "2021-09-30T10:07:47.557915",
     "status": "completed"
    },
    "tags": []
   },
   "source": [
    "### Running Models with the Training data\n",
    "Details about the network layers:\n",
    "- A first affine layer has 784 inputs and does 100 affine transforms. These are followed by a Relu\n",
    "- A second affine layer has 100 inputs from the 100 activations of the past layer, and does 100 affine transforms. These are followed by a Relu\n",
    "- A third affine layer has 100 activations and does 2 affine transformations to create an embedding for visualization. There is no non-linearity here.\n",
    "- A final \"logistic regression\" which has an affine transform from 2 inputs to 1 output, which is squeezed through a sigmoid.\n"
   ]
  },
  {
   "cell_type": "code",
   "execution_count": 17,
   "id": "2b9c66db",
   "metadata": {
    "execution": {
     "iopub.execute_input": "2021-09-30T10:07:47.944271Z",
     "iopub.status.busy": "2021-09-30T10:07:47.943652Z",
     "iopub.status.idle": "2021-09-30T10:07:47.959772Z",
     "shell.execute_reply": "2021-09-30T10:07:47.960254Z"
    },
    "papermill": {
     "duration": 0.148347,
     "end_time": "2021-09-30T10:07:47.960432",
     "exception": false,
     "start_time": "2021-09-30T10:07:47.812085",
     "status": "completed"
    },
    "tags": []
   },
   "outputs": [],
   "source": [
    "data = Data(X_train, y_train.reshape(-1,1))\n",
    "sampler = Sampler(data, config.bs, shuffle=True)\n",
    "\n",
    "dl = Dataloader(data, sampler)\n",
    "\n",
    "opt = GD(config.lr)\n",
    "loss = MSE()"
   ]
  },
  {
   "cell_type": "code",
   "execution_count": 18,
   "id": "b275e4c2",
   "metadata": {
    "execution": {
     "iopub.execute_input": "2021-09-30T10:07:48.216206Z",
     "iopub.status.busy": "2021-09-30T10:07:48.215597Z",
     "iopub.status.idle": "2021-09-30T10:07:48.229300Z",
     "shell.execute_reply": "2021-09-30T10:07:48.228813Z"
    },
    "papermill": {
     "duration": 0.143122,
     "end_time": "2021-09-30T10:07:48.229432",
     "exception": false,
     "start_time": "2021-09-30T10:07:48.086310",
     "status": "completed"
    },
    "tags": []
   },
   "outputs": [],
   "source": [
    "training_data_x = X_train\n",
    "testing_data_x = X_test\n",
    "training_data_y = y_train.reshape(-1,1)\n",
    "testing_data_y = y_test.reshape(-1,1)"
   ]
  },
  {
   "cell_type": "code",
   "execution_count": 19,
   "id": "76951160",
   "metadata": {
    "execution": {
     "iopub.execute_input": "2021-09-30T10:07:48.486179Z",
     "iopub.status.busy": "2021-09-30T10:07:48.485560Z",
     "iopub.status.idle": "2021-09-30T10:07:48.505118Z",
     "shell.execute_reply": "2021-09-30T10:07:48.504627Z"
    },
    "papermill": {
     "duration": 0.151182,
     "end_time": "2021-09-30T10:07:48.505252",
     "exception": false,
     "start_time": "2021-09-30T10:07:48.354070",
     "status": "completed"
    },
    "tags": []
   },
   "outputs": [
    {
     "name": "stdout",
     "output_type": "stream",
     "text": [
      "xavier\n",
      "xavier\n",
      "xavier\n",
      "xavier\n",
      "xavier\n"
     ]
    }
   ],
   "source": [
    "layers = [Affine(\"first\", 784, 100), Relu(\"first\"), Affine(\"second\", 100, 100), Relu(\"second\"), Affine(\"third\", 100, 2), Affine(\"last\", 2, 1), Sigmoid(\"last\")]\n",
    "model_nn = Model(layers)\n",
    "model_lr = Model([Affine(\"logits\", 784, 1), Sigmoid(\"sigmoid\")])"
   ]
  },
  {
   "cell_type": "code",
   "execution_count": 20,
   "id": "6eede77a",
   "metadata": {
    "execution": {
     "iopub.execute_input": "2021-09-30T10:07:48.765125Z",
     "iopub.status.busy": "2021-09-30T10:07:48.764508Z",
     "iopub.status.idle": "2021-09-30T10:07:48.779209Z",
     "shell.execute_reply": "2021-09-30T10:07:48.778695Z"
    },
    "papermill": {
     "duration": 0.147187,
     "end_time": "2021-09-30T10:07:48.779338",
     "exception": false,
     "start_time": "2021-09-30T10:07:48.632151",
     "status": "completed"
    },
    "tags": []
   },
   "outputs": [],
   "source": [
    "nn_learner = Learner(loss, model_nn, opt, config.num_epochs)\n",
    "acc_nn = ClfCallback(nn_learner, config.bs, training_data_x , testing_data_x, training_data_y, testing_data_y)\n",
    "nn_learner.set_callbacks([acc_nn])"
   ]
  },
  {
   "cell_type": "code",
   "execution_count": 21,
   "id": "877b6cc7",
   "metadata": {
    "execution": {
     "iopub.execute_input": "2021-09-30T10:07:49.039963Z",
     "iopub.status.busy": "2021-09-30T10:07:49.039366Z",
     "iopub.status.idle": "2021-09-30T10:07:49.056462Z",
     "shell.execute_reply": "2021-09-30T10:07:49.055943Z"
    },
    "papermill": {
     "duration": 0.149351,
     "end_time": "2021-09-30T10:07:49.056603",
     "exception": false,
     "start_time": "2021-09-30T10:07:48.907252",
     "status": "completed"
    },
    "tags": []
   },
   "outputs": [],
   "source": [
    "lr_learner = Learner(loss, model_lr, opt, config.num_epochs)\n",
    "acc_lr = ClfCallback(lr_learner, config.bs, training_data_x , testing_data_x, training_data_y, testing_data_y)\n",
    "lr_learner.set_callbacks([acc_lr])"
   ]
  },
  {
   "cell_type": "code",
   "execution_count": 22,
   "id": "d9b133c3",
   "metadata": {
    "execution": {
     "iopub.execute_input": "2021-09-30T10:07:49.316178Z",
     "iopub.status.busy": "2021-09-30T10:07:49.315583Z",
     "iopub.status.idle": "2021-09-30T10:09:15.102570Z",
     "shell.execute_reply": "2021-09-30T10:09:15.103353Z"
    },
    "papermill": {
     "duration": 85.919122,
     "end_time": "2021-09-30T10:09:15.103520",
     "exception": false,
     "start_time": "2021-09-30T10:07:49.184398",
     "status": "completed"
    },
    "tags": []
   },
   "outputs": [
    {
     "name": "stdout",
     "output_type": "stream",
     "text": [
      "Epoch 0, Loss 0.2264\n",
      "Training Accuracy: 0.7994, Testing Accuracy: 0.8170\n",
      "\n"
     ]
    },
    {
     "name": "stdout",
     "output_type": "stream",
     "text": [
      "Epoch 10, Loss 0.0508\n",
      "Training Accuracy: 0.9467, Testing Accuracy: 0.9572\n",
      "\n"
     ]
    },
    {
     "name": "stdout",
     "output_type": "stream",
     "text": [
      "Epoch 20, Loss 0.0376\n",
      "Training Accuracy: 0.9580, Testing Accuracy: 0.9632\n",
      "\n"
     ]
    },
    {
     "name": "stdout",
     "output_type": "stream",
     "text": [
      "Epoch 30, Loss 0.0322\n",
      "Training Accuracy: 0.9629, Testing Accuracy: 0.9677\n",
      "\n"
     ]
    },
    {
     "name": "stdout",
     "output_type": "stream",
     "text": [
      "Epoch 40, Loss 0.0291\n",
      "Training Accuracy: 0.9665, Testing Accuracy: 0.9698\n",
      "\n"
     ]
    },
    {
     "name": "stdout",
     "output_type": "stream",
     "text": [
      "Epoch 50, Loss 0.0269\n",
      "Training Accuracy: 0.9690, Testing Accuracy: 0.9713\n",
      "\n"
     ]
    },
    {
     "name": "stdout",
     "output_type": "stream",
     "text": [
      "Epoch 60, Loss 0.0253\n",
      "Training Accuracy: 0.9708, Testing Accuracy: 0.9728\n",
      "\n"
     ]
    },
    {
     "name": "stdout",
     "output_type": "stream",
     "text": [
      "Epoch 70, Loss 0.024\n",
      "Training Accuracy: 0.9723, Testing Accuracy: 0.9743\n",
      "\n"
     ]
    },
    {
     "name": "stdout",
     "output_type": "stream",
     "text": [
      "Epoch 80, Loss 0.0228\n",
      "Training Accuracy: 0.9740, Testing Accuracy: 0.9743\n",
      "\n"
     ]
    },
    {
     "name": "stdout",
     "output_type": "stream",
     "text": [
      "Epoch 90, Loss 0.0219\n",
      "Training Accuracy: 0.9751, Testing Accuracy: 0.9738\n",
      "\n"
     ]
    },
    {
     "name": "stdout",
     "output_type": "stream",
     "text": [
      "Epoch 100, Loss 0.021\n",
      "Training Accuracy: 0.9762, Testing Accuracy: 0.9748\n",
      "\n"
     ]
    },
    {
     "name": "stdout",
     "output_type": "stream",
     "text": [
      "Epoch 110, Loss 0.0202\n",
      "Training Accuracy: 0.9774, Testing Accuracy: 0.9753\n",
      "\n"
     ]
    },
    {
     "name": "stdout",
     "output_type": "stream",
     "text": [
      "Epoch 120, Loss 0.0195\n",
      "Training Accuracy: 0.9784, Testing Accuracy: 0.9753\n",
      "\n"
     ]
    },
    {
     "name": "stdout",
     "output_type": "stream",
     "text": [
      "Epoch 130, Loss 0.0188\n",
      "Training Accuracy: 0.9791, Testing Accuracy: 0.9758\n",
      "\n"
     ]
    },
    {
     "name": "stdout",
     "output_type": "stream",
     "text": [
      "Epoch 140, Loss 0.0182\n",
      "Training Accuracy: 0.9796, Testing Accuracy: 0.9768\n",
      "\n"
     ]
    },
    {
     "name": "stdout",
     "output_type": "stream",
     "text": [
      "Epoch 150, Loss 0.0177\n",
      "Training Accuracy: 0.9806, Testing Accuracy: 0.9773\n",
      "\n"
     ]
    },
    {
     "name": "stdout",
     "output_type": "stream",
     "text": [
      "Epoch 160, Loss 0.0171\n",
      "Training Accuracy: 0.9811, Testing Accuracy: 0.9773\n",
      "\n"
     ]
    },
    {
     "name": "stdout",
     "output_type": "stream",
     "text": [
      "Epoch 170, Loss 0.0166\n",
      "Training Accuracy: 0.9818, Testing Accuracy: 0.9768\n",
      "\n"
     ]
    },
    {
     "name": "stdout",
     "output_type": "stream",
     "text": [
      "Epoch 180, Loss 0.0161\n",
      "Training Accuracy: 0.9825, Testing Accuracy: 0.9768\n",
      "\n"
     ]
    },
    {
     "name": "stdout",
     "output_type": "stream",
     "text": [
      "Epoch 190, Loss 0.0156\n",
      "Training Accuracy: 0.9833, Testing Accuracy: 0.9768\n",
      "\n"
     ]
    },
    {
     "name": "stdout",
     "output_type": "stream",
     "text": [
      "Epoch 200, Loss 0.0152\n",
      "Training Accuracy: 0.9842, Testing Accuracy: 0.9768\n",
      "\n"
     ]
    },
    {
     "name": "stdout",
     "output_type": "stream",
     "text": [
      "Epoch 210, Loss 0.0147\n",
      "Training Accuracy: 0.9851, Testing Accuracy: 0.9778\n",
      "\n"
     ]
    },
    {
     "name": "stdout",
     "output_type": "stream",
     "text": [
      "Epoch 220, Loss 0.0144\n",
      "Training Accuracy: 0.9854, Testing Accuracy: 0.9788\n",
      "\n"
     ]
    },
    {
     "name": "stdout",
     "output_type": "stream",
     "text": [
      "Epoch 230, Loss 0.014\n",
      "Training Accuracy: 0.9858, Testing Accuracy: 0.9793\n",
      "\n"
     ]
    },
    {
     "name": "stdout",
     "output_type": "stream",
     "text": [
      "Epoch 240, Loss 0.0136\n",
      "Training Accuracy: 0.9862, Testing Accuracy: 0.9798\n",
      "\n"
     ]
    },
    {
     "data": {
      "text/plain": [
       "0.004809554244312585"
      ]
     },
     "execution_count": 22,
     "metadata": {},
     "output_type": "execute_result"
    }
   ],
   "source": [
    "nn_learner.train_loop(dl)"
   ]
  },
  {
   "cell_type": "code",
   "execution_count": 23,
   "id": "e0163366",
   "metadata": {
    "execution": {
     "iopub.execute_input": "2021-09-30T10:09:15.395062Z",
     "iopub.status.busy": "2021-09-30T10:09:15.394451Z",
     "iopub.status.idle": "2021-09-30T10:09:29.982070Z",
     "shell.execute_reply": "2021-09-30T10:09:29.982741Z"
    },
    "papermill": {
     "duration": 14.735206,
     "end_time": "2021-09-30T10:09:29.982885",
     "exception": false,
     "start_time": "2021-09-30T10:09:15.247679",
     "status": "completed"
    },
    "tags": []
   },
   "outputs": [
    {
     "name": "stdout",
     "output_type": "stream",
     "text": [
      "Epoch 0, Loss 0.2378\n",
      "Training Accuracy: 0.6645, Testing Accuracy: 0.6794\n",
      "\n"
     ]
    },
    {
     "name": "stdout",
     "output_type": "stream",
     "text": [
      "Epoch 10, Loss 0.1073\n",
      "Training Accuracy: 0.8959, Testing Accuracy: 0.9108\n",
      "\n"
     ]
    },
    {
     "name": "stdout",
     "output_type": "stream",
     "text": [
      "Epoch 20, Loss 0.0813\n",
      "Training Accuracy: 0.9237, Testing Accuracy: 0.9355\n",
      "\n"
     ]
    },
    {
     "name": "stdout",
     "output_type": "stream",
     "text": [
      "Epoch 30, Loss 0.0695\n",
      "Training Accuracy: 0.9336, Testing Accuracy: 0.9471\n",
      "\n"
     ]
    },
    {
     "name": "stdout",
     "output_type": "stream",
     "text": [
      "Epoch 40, Loss 0.0625\n",
      "Training Accuracy: 0.9400, Testing Accuracy: 0.9526\n",
      "\n"
     ]
    },
    {
     "name": "stdout",
     "output_type": "stream",
     "text": [
      "Epoch 50, Loss 0.0578\n",
      "Training Accuracy: 0.9423, Testing Accuracy: 0.9561\n",
      "\n"
     ]
    },
    {
     "name": "stdout",
     "output_type": "stream",
     "text": [
      "Epoch 60, Loss 0.0544\n",
      "Training Accuracy: 0.9453, Testing Accuracy: 0.9582\n",
      "\n"
     ]
    },
    {
     "name": "stdout",
     "output_type": "stream",
     "text": [
      "Epoch 70, Loss 0.0517\n",
      "Training Accuracy: 0.9483, Testing Accuracy: 0.9607\n",
      "\n"
     ]
    },
    {
     "name": "stdout",
     "output_type": "stream",
     "text": [
      "Epoch 80, Loss 0.0496\n",
      "Training Accuracy: 0.9493, Testing Accuracy: 0.9597\n",
      "\n"
     ]
    },
    {
     "name": "stdout",
     "output_type": "stream",
     "text": [
      "Epoch 90, Loss 0.0479\n",
      "Training Accuracy: 0.9513, Testing Accuracy: 0.9612\n",
      "\n"
     ]
    },
    {
     "name": "stdout",
     "output_type": "stream",
     "text": [
      "Epoch 100, Loss 0.0464\n",
      "Training Accuracy: 0.9522, Testing Accuracy: 0.9627\n",
      "\n"
     ]
    },
    {
     "name": "stdout",
     "output_type": "stream",
     "text": [
      "Epoch 110, Loss 0.0452\n",
      "Training Accuracy: 0.9529, Testing Accuracy: 0.9637\n",
      "\n"
     ]
    },
    {
     "name": "stdout",
     "output_type": "stream",
     "text": [
      "Epoch 120, Loss 0.0441\n",
      "Training Accuracy: 0.9540, Testing Accuracy: 0.9637\n",
      "\n"
     ]
    },
    {
     "name": "stdout",
     "output_type": "stream",
     "text": [
      "Epoch 130, Loss 0.0432\n",
      "Training Accuracy: 0.9553, Testing Accuracy: 0.9637\n",
      "\n"
     ]
    },
    {
     "name": "stdout",
     "output_type": "stream",
     "text": [
      "Epoch 140, Loss 0.0423\n",
      "Training Accuracy: 0.9563, Testing Accuracy: 0.9642\n",
      "\n"
     ]
    },
    {
     "name": "stdout",
     "output_type": "stream",
     "text": [
      "Epoch 150, Loss 0.0415\n",
      "Training Accuracy: 0.9567, Testing Accuracy: 0.9642\n",
      "\n"
     ]
    },
    {
     "name": "stdout",
     "output_type": "stream",
     "text": [
      "Epoch 160, Loss 0.0409\n",
      "Training Accuracy: 0.9568, Testing Accuracy: 0.9652\n",
      "\n"
     ]
    },
    {
     "name": "stdout",
     "output_type": "stream",
     "text": [
      "Epoch 170, Loss 0.0402\n",
      "Training Accuracy: 0.9573, Testing Accuracy: 0.9652\n",
      "\n"
     ]
    },
    {
     "name": "stdout",
     "output_type": "stream",
     "text": [
      "Epoch 180, Loss 0.0397\n",
      "Training Accuracy: 0.9581, Testing Accuracy: 0.9652\n",
      "\n"
     ]
    },
    {
     "name": "stdout",
     "output_type": "stream",
     "text": [
      "Epoch 190, Loss 0.0391\n",
      "Training Accuracy: 0.9584, Testing Accuracy: 0.9662\n",
      "\n"
     ]
    },
    {
     "name": "stdout",
     "output_type": "stream",
     "text": [
      "Epoch 200, Loss 0.0387\n",
      "Training Accuracy: 0.9589, Testing Accuracy: 0.9667\n",
      "\n"
     ]
    },
    {
     "name": "stdout",
     "output_type": "stream",
     "text": [
      "Epoch 210, Loss 0.0382\n",
      "Training Accuracy: 0.9589, Testing Accuracy: 0.9672\n",
      "\n"
     ]
    },
    {
     "name": "stdout",
     "output_type": "stream",
     "text": [
      "Epoch 220, Loss 0.0378\n",
      "Training Accuracy: 0.9594, Testing Accuracy: 0.9677\n",
      "\n"
     ]
    },
    {
     "name": "stdout",
     "output_type": "stream",
     "text": [
      "Epoch 230, Loss 0.0374\n",
      "Training Accuracy: 0.9594, Testing Accuracy: 0.9688\n",
      "\n"
     ]
    },
    {
     "name": "stdout",
     "output_type": "stream",
     "text": [
      "Epoch 240, Loss 0.037\n",
      "Training Accuracy: 0.9600, Testing Accuracy: 0.9688\n",
      "\n"
     ]
    },
    {
     "data": {
      "text/plain": [
       "0.04417807354775171"
      ]
     },
     "execution_count": 23,
     "metadata": {},
     "output_type": "execute_result"
    }
   ],
   "source": [
    "lr_learner.train_loop(dl)"
   ]
  },
  {
   "cell_type": "code",
   "execution_count": 24,
   "id": "ca410940",
   "metadata": {
    "execution": {
     "iopub.execute_input": "2021-09-30T10:09:30.314830Z",
     "iopub.status.busy": "2021-09-30T10:09:30.313448Z",
     "iopub.status.idle": "2021-09-30T10:09:30.543301Z",
     "shell.execute_reply": "2021-09-30T10:09:30.543743Z"
    },
    "papermill": {
     "duration": 0.397307,
     "end_time": "2021-09-30T10:09:30.543897",
     "exception": false,
     "start_time": "2021-09-30T10:09:30.146590",
     "status": "completed"
    },
    "tags": []
   },
   "outputs": [
    {
     "data": {
      "text/plain": [
       "<matplotlib.legend.Legend at 0x7fe7e9682860>"
      ]
     },
     "execution_count": 24,
     "metadata": {},
     "output_type": "execute_result"
    },
    {
     "data": {
      "image/png": "[encoded data removed]",
      "text/plain": [
       "<Figure size 1080x720 with 1 Axes>"
      ]
     },
     "metadata": {
      "needs_background": "light"
     },
     "output_type": "display_data"
    }
   ],
   "source": [
    "#comparing the results of NN and LR\n",
    "plt.figure(figsize=(15,10))\n",
    "\n",
    "# Neural Network plots\n",
    "plt.plot(acc_nn.accuracies, 'r-', label = \"Training Accuracies - NN\")\n",
    "plt.plot(acc_nn.test_accuracies, 'g-', label = \"Testing Accuracies - NN\")\n",
    "\n",
    "# Logistic Regression plots\n",
    "plt.plot(acc_lr.accuracies, 'k-', label = \"Training Accuracies - LR\")\n",
    "plt.plot(acc_lr.test_accuracies, 'b-', label = \"Testing Accuracies - LR\")\n",
    "plt.legend()"
   ]
  },
  {
   "cell_type": "markdown",
   "id": "80dfb35c",
   "metadata": {
    "papermill": {
     "duration": 0.158014,
     "end_time": "2021-09-30T10:09:30.860729",
     "exception": false,
     "start_time": "2021-09-30T10:09:30.702715",
     "status": "completed"
    },
    "tags": []
   },
   "source": [
    "#### Plotting the outputs of this layer of the NN.\n"
   ]
  },
  {
   "cell_type": "code",
   "execution_count": 25,
   "id": "45eb2ff5",
   "metadata": {
    "execution": {
     "iopub.execute_input": "2021-09-30T10:09:31.198568Z",
     "iopub.status.busy": "2021-09-30T10:09:31.197954Z",
     "iopub.status.idle": "2021-09-30T10:09:31.223923Z",
     "shell.execute_reply": "2021-09-30T10:09:31.223533Z"
    },
    "papermill": {
     "duration": 0.197917,
     "end_time": "2021-09-30T10:09:31.224027",
     "exception": false,
     "start_time": "2021-09-30T10:09:31.026110",
     "status": "completed"
    },
    "tags": []
   },
   "outputs": [],
   "source": [
    "new_model = Model(layers[:-2])\n",
    "testing_plot = new_model(testing_data_x)"
   ]
  },
  {
   "cell_type": "code",
   "execution_count": 26,
   "id": "4c0a5485",
   "metadata": {
    "execution": {
     "iopub.execute_input": "2021-09-30T10:09:31.629593Z",
     "iopub.status.busy": "2021-09-30T10:09:31.628964Z",
     "iopub.status.idle": "2021-09-30T10:09:31.878296Z",
     "shell.execute_reply": "2021-09-30T10:09:31.877801Z"
    },
    "papermill": {
     "duration": 0.455414,
     "end_time": "2021-09-30T10:09:31.878430",
     "exception": false,
     "start_time": "2021-09-30T10:09:31.423016",
     "status": "completed"
    },
    "tags": []
   },
   "outputs": [
    {
     "data": {
      "text/plain": [
       "Text(0.5, 1.0, 'Outputs')"
      ]
     },
     "execution_count": 26,
     "metadata": {},
     "output_type": "execute_result"
    },
    {
     "data": {
      "image/png": "[encoded data removed]",
      "text/plain": [
       "<Figure size 576x504 with 1 Axes>"
      ]
     },
     "metadata": {
      "needs_background": "light"
     },
     "output_type": "display_data"
    }
   ],
   "source": [
    "# Plotting the scatter plot of points and color coding by class\n",
    "plt.figure(figsize=(8,7))\n",
    "plt.scatter(testing_plot[:,0], testing_plot[:,1], alpha = 0.1, c = y_test.ravel());\n",
    "plt.title('Outputs')"
   ]
  },
  {
   "cell_type": "markdown",
   "id": "a74fcf8f",
   "metadata": {
    "papermill": {
     "duration": 0.208449,
     "end_time": "2021-09-30T10:09:32.294486",
     "exception": false,
     "start_time": "2021-09-30T10:09:32.086037",
     "status": "completed"
    },
    "tags": []
   },
   "source": [
    "Probability contours"
   ]
  },
  {
   "cell_type": "code",
   "execution_count": 27,
   "id": "d0afc8e3",
   "metadata": {
    "execution": {
     "iopub.execute_input": "2021-09-30T10:09:32.690602Z",
     "iopub.status.busy": "2021-09-30T10:09:32.690043Z",
     "iopub.status.idle": "2021-09-30T10:09:32.701329Z",
     "shell.execute_reply": "2021-09-30T10:09:32.701694Z"
    },
    "papermill": {
     "duration": 0.193066,
     "end_time": "2021-09-30T10:09:32.701810",
     "exception": false,
     "start_time": "2021-09-30T10:09:32.508744",
     "status": "completed"
    },
    "tags": []
   },
   "outputs": [],
   "source": [
    "model_prob = Model(layers[-2:]) "
   ]
  },
  {
   "cell_type": "code",
   "execution_count": 28,
   "id": "9b96e238",
   "metadata": {
    "execution": {
     "iopub.execute_input": "2021-09-30T10:09:33.038905Z",
     "iopub.status.busy": "2021-09-30T10:09:33.038408Z",
     "iopub.status.idle": "2021-09-30T10:09:33.053094Z",
     "shell.execute_reply": "2021-09-30T10:09:33.053465Z"
    },
    "papermill": {
     "duration": 0.182686,
     "end_time": "2021-09-30T10:09:33.053597",
     "exception": false,
     "start_time": "2021-09-30T10:09:32.870911",
     "status": "completed"
    },
    "tags": []
   },
   "outputs": [],
   "source": [
    "#creating the x and y ranges according to the above generated plot.\n",
    "x_range = np.linspace(-4, 1, 100) \n",
    "y_range = np.linspace(-6, 6, 100) \n",
    "x_grid, y_grid = np.meshgrid(x_range, y_range) # x_grid and y_grig are of size 100 X 100\n",
    "\n",
    "# converting x_grid and y_grid to continuous arrays\n",
    "x_gridflat = np.ravel(x_grid)\n",
    "y_gridflat = np.ravel(y_grid)\n",
    "\n",
    "# The last layer of the current model takes two columns as input. Hence transpose of np.vstack() is required.\n",
    "X = np.vstack((x_gridflat, y_gridflat)).T\n",
    "\n",
    "prob_contour = model_prob(X).reshape(100,100) "
   ]
  },
  {
   "cell_type": "code",
   "execution_count": 29,
   "id": "da72499a",
   "metadata": {
    "execution": {
     "iopub.execute_input": "2021-09-30T10:09:33.428724Z",
     "iopub.status.busy": "2021-09-30T10:09:33.428232Z",
     "iopub.status.idle": "2021-09-30T10:09:33.691713Z",
     "shell.execute_reply": "2021-09-30T10:09:33.692627Z"
    },
    "papermill": {
     "duration": 0.436252,
     "end_time": "2021-09-30T10:09:33.692889",
     "exception": false,
     "start_time": "2021-09-30T10:09:33.256637",
     "status": "completed"
    },
    "tags": []
   },
   "outputs": [
    {
     "data": {
      "image/png": "[encoded data removed]",
      "text/plain": [
       "<Figure size 720x648 with 1 Axes>"
      ]
     },
     "metadata": {
      "needs_background": "light"
     },
     "output_type": "display_data"
    }
   ],
   "source": [
    "plt.figure(figsize=(10,9))\n",
    "plt.scatter(testing_plot[:,0], testing_plot[:,1], alpha = 0.1, c = y_test.ravel())\n",
    "contours = plt.contour(x_grid,y_grid,prob_contour)\n",
    "plt.title('Probability Contours')\n",
    "plt.clabel(contours, inline = True );"
   ]
  },
  {
   "cell_type": "code",
   "execution_count": null,
   "id": "e81b4ac7",
   "metadata": {
    "papermill": {
     "duration": 0.192086,
     "end_time": "2021-09-30T10:09:34.060092",
     "exception": false,
     "start_time": "2021-09-30T10:09:33.868006",
     "status": "completed"
    },
    "tags": []
   },
   "outputs": [],
   "source": []
  }
 ],
 "metadata": {
  "kernelspec": {
   "display_name": "Python 3",
   "language": "python",
   "name": "python3"
  },
  "language_info": {
   "codemirror_mode": {
    "name": "ipython",
    "version": 3
   },
   "file_extension": ".py",
   "mimetype": "text/x-python",
   "name": "python",
   "nbconvert_exporter": "python",
   "pygments_lexer": "ipython3",
   "version": "3.6.15"
  },
  "papermill": {
   "default_parameters": {},
   "duration": 118.305937,
   "end_time": "2021-09-30T10:09:34.664558",
   "environment_variables": {},
   "exception": null,
   "input_path": "2020-08-11-part2.ipynb",
   "output_path": "2020-08-11-part2.ipynb",
   "parameters": {},
   "start_time": "2021-09-30T10:07:36.358621",
   "version": "2.3.3"
  }
 },
 "nbformat": 4,
 "nbformat_minor": 5
}