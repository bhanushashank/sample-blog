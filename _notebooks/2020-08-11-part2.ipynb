{
 "cells": [
  {
   "cell_type": "markdown",
   "id": "98380cd3",
   "metadata": {
    "papermill": {
     "duration": 0.037027,
     "end_time": "2021-09-22T20:30:16.150288",
     "exception": false,
     "start_time": "2021-09-22T20:30:16.113261",
     "status": "completed"
    },
    "tags": []
   },
   "source": [
    "# Distinguish Your Own Digits (DYOD)"
   ]
  },
  {
   "cell_type": "markdown",
   "id": "ef31240d",
   "metadata": {
    "papermill": {
     "duration": 0.028276,
     "end_time": "2021-09-22T20:30:16.209829",
     "exception": false,
     "start_time": "2021-09-22T20:30:16.181553",
     "status": "completed"
    },
    "tags": []
   },
   "source": [
    "You are going to write a classifier that distinguishes between the number 3 and number 8."
   ]
  },
  {
   "cell_type": "code",
   "execution_count": 1,
   "id": "b15c8646",
   "metadata": {
    "execution": {
     "iopub.execute_input": "2021-09-22T20:30:16.287466Z",
     "iopub.status.busy": "2021-09-22T20:30:16.286829Z",
     "iopub.status.idle": "2021-09-22T20:30:16.298363Z",
     "shell.execute_reply": "2021-09-22T20:30:16.298908Z"
    },
    "papermill": {
     "duration": 0.055799,
     "end_time": "2021-09-22T20:30:16.299084",
     "exception": false,
     "start_time": "2021-09-22T20:30:16.243285",
     "status": "completed"
    },
    "tags": []
   },
   "outputs": [],
   "source": [
    "%load_ext autoreload\n",
    "%autoreload 2"
   ]
  },
  {
   "cell_type": "code",
   "execution_count": 2,
   "id": "22ef38dc",
   "metadata": {
    "execution": {
     "iopub.execute_input": "2021-09-22T20:30:16.370636Z",
     "iopub.status.busy": "2021-09-22T20:30:16.369857Z",
     "iopub.status.idle": "2021-09-22T20:30:16.988739Z",
     "shell.execute_reply": "2021-09-22T20:30:16.989503Z"
    },
    "papermill": {
     "duration": 0.65852,
     "end_time": "2021-09-22T20:30:16.989672",
     "exception": false,
     "start_time": "2021-09-22T20:30:16.331152",
     "status": "completed"
    },
    "tags": []
   },
   "outputs": [],
   "source": [
    "%matplotlib inline\n",
    "import numpy as np\n",
    "import matplotlib.pyplot as plt\n",
    "import pandas as pd"
   ]
  },
  {
   "cell_type": "markdown",
   "id": "ba036198",
   "metadata": {
    "papermill": {
     "duration": 0.030103,
     "end_time": "2021-09-22T20:30:17.049573",
     "exception": false,
     "start_time": "2021-09-22T20:30:17.019470",
     "status": "completed"
    },
    "tags": []
   },
   "source": [
    "From the command line run `pip install mnist`. This is a library that will help you bring down the mnist dataset. If you run this from a notebook, you need to put  `!pip install mnist` in a cell by itself."
   ]
  },
  {
   "cell_type": "code",
   "execution_count": 3,
   "id": "bb6ad8a1",
   "metadata": {
    "execution": {
     "iopub.execute_input": "2021-09-22T20:30:17.113858Z",
     "iopub.status.busy": "2021-09-22T20:30:17.112950Z",
     "iopub.status.idle": "2021-09-22T20:30:19.100753Z",
     "shell.execute_reply": "2021-09-22T20:30:19.099943Z"
    },
    "papermill": {
     "duration": 2.022864,
     "end_time": "2021-09-22T20:30:19.100979",
     "exception": false,
     "start_time": "2021-09-22T20:30:17.078115",
     "status": "completed"
    },
    "tags": []
   },
   "outputs": [
    {
     "name": "stdout",
     "output_type": "stream",
     "text": [
      "Collecting mnist\r\n"
     ]
    },
    {
     "name": "stdout",
     "output_type": "stream",
     "text": [
      "  Downloading mnist-0.2.2-py2.py3-none-any.whl (3.5 kB)\r\n",
      "Requirement already satisfied: numpy in /opt/hostedtoolcache/Python/3.6.15/x64/lib/python3.6/site-packages (from mnist) (1.19.5)\r\n"
     ]
    },
    {
     "name": "stdout",
     "output_type": "stream",
     "text": [
      "Installing collected packages: mnist\r\n"
     ]
    },
    {
     "name": "stdout",
     "output_type": "stream",
     "text": [
      "Successfully installed mnist-0.2.2\r\n"
     ]
    }
   ],
   "source": [
    "!pip install mnist"
   ]
  },
  {
   "cell_type": "markdown",
   "id": "69df9c9a",
   "metadata": {
    "papermill": {
     "duration": 0.033836,
     "end_time": "2021-09-22T20:30:19.168717",
     "exception": false,
     "start_time": "2021-09-22T20:30:19.134881",
     "status": "completed"
    },
    "tags": []
   },
   "source": [
    "## Preparing the Data"
   ]
  },
  {
   "cell_type": "code",
   "execution_count": 4,
   "id": "7f69d806",
   "metadata": {
    "execution": {
     "iopub.execute_input": "2021-09-22T20:30:19.238579Z",
     "iopub.status.busy": "2021-09-22T20:30:19.237953Z",
     "iopub.status.idle": "2021-09-22T20:30:19.254250Z",
     "shell.execute_reply": "2021-09-22T20:30:19.253602Z"
    },
    "papermill": {
     "duration": 0.053019,
     "end_time": "2021-09-22T20:30:19.254369",
     "exception": false,
     "start_time": "2021-09-22T20:30:19.201350",
     "status": "completed"
    },
    "tags": []
   },
   "outputs": [],
   "source": [
    "import mnist"
   ]
  },
  {
   "cell_type": "code",
   "execution_count": 5,
   "id": "a411e44f",
   "metadata": {
    "execution": {
     "iopub.execute_input": "2021-09-22T20:30:19.326515Z",
     "iopub.status.busy": "2021-09-22T20:30:19.325782Z",
     "iopub.status.idle": "2021-09-22T20:30:19.977436Z",
     "shell.execute_reply": "2021-09-22T20:30:19.976870Z"
    },
    "papermill": {
     "duration": 0.692108,
     "end_time": "2021-09-22T20:30:19.977591",
     "exception": false,
     "start_time": "2021-09-22T20:30:19.285483",
     "status": "completed"
    },
    "tags": []
   },
   "outputs": [],
   "source": [
    "train_images = mnist.train_images()\n",
    "train_labels = mnist.train_labels()"
   ]
  },
  {
   "cell_type": "code",
   "execution_count": 6,
   "id": "dceab3a5",
   "metadata": {
    "execution": {
     "iopub.execute_input": "2021-09-22T20:30:20.045028Z",
     "iopub.status.busy": "2021-09-22T20:30:20.044398Z",
     "iopub.status.idle": "2021-09-22T20:30:20.062394Z",
     "shell.execute_reply": "2021-09-22T20:30:20.061853Z"
    },
    "papermill": {
     "duration": 0.05287,
     "end_time": "2021-09-22T20:30:20.062514",
     "exception": false,
     "start_time": "2021-09-22T20:30:20.009644",
     "status": "completed"
    },
    "tags": []
   },
   "outputs": [
    {
     "data": {
      "text/plain": [
       "((60000, 28, 28), (60000,))"
      ]
     },
     "execution_count": 6,
     "metadata": {},
     "output_type": "execute_result"
    }
   ],
   "source": [
    "train_images.shape, train_labels.shape"
   ]
  },
  {
   "cell_type": "code",
   "execution_count": 7,
   "id": "f50dc2bb",
   "metadata": {
    "execution": {
     "iopub.execute_input": "2021-09-22T20:30:20.145352Z",
     "iopub.status.busy": "2021-09-22T20:30:20.137960Z",
     "iopub.status.idle": "2021-09-22T20:30:20.354839Z",
     "shell.execute_reply": "2021-09-22T20:30:20.353991Z"
    },
    "papermill": {
     "duration": 0.258688,
     "end_time": "2021-09-22T20:30:20.355078",
     "exception": false,
     "start_time": "2021-09-22T20:30:20.096390",
     "status": "completed"
    },
    "tags": []
   },
   "outputs": [],
   "source": [
    "test_images = mnist.test_images()\n",
    "test_labels = mnist.test_labels()"
   ]
  },
  {
   "cell_type": "code",
   "execution_count": 8,
   "id": "fc38cf1b",
   "metadata": {
    "execution": {
     "iopub.execute_input": "2021-09-22T20:30:20.429591Z",
     "iopub.status.busy": "2021-09-22T20:30:20.428985Z",
     "iopub.status.idle": "2021-09-22T20:30:20.443390Z",
     "shell.execute_reply": "2021-09-22T20:30:20.442837Z"
    },
    "papermill": {
     "duration": 0.05103,
     "end_time": "2021-09-22T20:30:20.443535",
     "exception": false,
     "start_time": "2021-09-22T20:30:20.392505",
     "status": "completed"
    },
    "tags": []
   },
   "outputs": [
    {
     "data": {
      "text/plain": [
       "((10000, 28, 28), (10000,))"
      ]
     },
     "execution_count": 8,
     "metadata": {},
     "output_type": "execute_result"
    }
   ],
   "source": [
    "test_images.shape, test_labels.shape"
   ]
  },
  {
   "cell_type": "code",
   "execution_count": 9,
   "id": "f9ed8fe0",
   "metadata": {
    "execution": {
     "iopub.execute_input": "2021-09-22T20:30:20.514604Z",
     "iopub.status.busy": "2021-09-22T20:30:20.513930Z",
     "iopub.status.idle": "2021-09-22T20:30:20.709706Z",
     "shell.execute_reply": "2021-09-22T20:30:20.710222Z"
    },
    "papermill": {
     "duration": 0.233361,
     "end_time": "2021-09-22T20:30:20.710382",
     "exception": false,
     "start_time": "2021-09-22T20:30:20.477021",
     "status": "completed"
    },
    "tags": []
   },
   "outputs": [
    {
     "name": "stdout",
     "output_type": "stream",
     "text": [
      "2\n"
     ]
    },
    {
     "data": {
      "text/plain": [
       "<matplotlib.image.AxesImage at 0x7f9420aea8d0>"
      ]
     },
     "execution_count": 9,
     "metadata": {},
     "output_type": "execute_result"
    },
    {
     "data": {
      "image/png": "[encoded data removed]",
      "text/plain": [
       "<Figure size 432x288 with 1 Axes>"
      ]
     },
     "metadata": {
      "needs_background": "light"
     },
     "output_type": "display_data"
    }
   ],
   "source": [
    "image_index = 7776 # You may select anything up to 60,000\n",
    "print(train_labels[image_index]) \n",
    "plt.imshow(train_images[image_index], cmap='Greys')"
   ]
  },
  {
   "cell_type": "markdown",
   "id": "a8d2388d",
   "metadata": {
    "papermill": {
     "duration": 0.033787,
     "end_time": "2021-09-22T20:30:20.778492",
     "exception": false,
     "start_time": "2021-09-22T20:30:20.744705",
     "status": "completed"
    },
    "tags": []
   },
   "source": [
    "## Filter data to get 3 and 8 out"
   ]
  },
  {
   "cell_type": "code",
   "execution_count": 10,
   "id": "776f7fc7",
   "metadata": {
    "execution": {
     "iopub.execute_input": "2021-09-22T20:30:20.850783Z",
     "iopub.status.busy": "2021-09-22T20:30:20.850183Z",
     "iopub.status.idle": "2021-09-22T20:30:20.874020Z",
     "shell.execute_reply": "2021-09-22T20:30:20.873452Z"
    },
    "papermill": {
     "duration": 0.060731,
     "end_time": "2021-09-22T20:30:20.874166",
     "exception": false,
     "start_time": "2021-09-22T20:30:20.813435",
     "status": "completed"
    },
    "tags": []
   },
   "outputs": [],
   "source": [
    "train_filter = np.where((train_labels == 3 ) | (train_labels == 8))\n",
    "test_filter = np.where((test_labels == 3) | (test_labels == 8))\n",
    "X_train, y_train = train_images[train_filter], train_labels[train_filter]\n",
    "X_test, y_test = test_images[test_filter], test_labels[test_filter]"
   ]
  },
  {
   "cell_type": "markdown",
   "id": "948f0b7e",
   "metadata": {
    "papermill": {
     "duration": 0.033071,
     "end_time": "2021-09-22T20:30:20.943391",
     "exception": false,
     "start_time": "2021-09-22T20:30:20.910320",
     "status": "completed"
    },
    "tags": []
   },
   "source": [
    "We normalize the pizel values in the 0 to 1 range"
   ]
  },
  {
   "cell_type": "code",
   "execution_count": 11,
   "id": "ee4c2166",
   "metadata": {
    "execution": {
     "iopub.execute_input": "2021-09-22T20:30:21.022243Z",
     "iopub.status.busy": "2021-09-22T20:30:21.021632Z",
     "iopub.status.idle": "2021-09-22T20:30:21.084474Z",
     "shell.execute_reply": "2021-09-22T20:30:21.083664Z"
    },
    "papermill": {
     "duration": 0.102458,
     "end_time": "2021-09-22T20:30:21.084610",
     "exception": false,
     "start_time": "2021-09-22T20:30:20.982152",
     "status": "completed"
    },
    "tags": []
   },
   "outputs": [],
   "source": [
    "X_train = X_train/255.\n",
    "X_test = X_test/255."
   ]
  },
  {
   "cell_type": "markdown",
   "id": "ddcf4fab",
   "metadata": {
    "papermill": {
     "duration": 0.031168,
     "end_time": "2021-09-22T20:30:21.150110",
     "exception": false,
     "start_time": "2021-09-22T20:30:21.118942",
     "status": "completed"
    },
    "tags": []
   },
   "source": [
    "And setup the labels as 1 (when the digit is 3) and 0 (when the digit is 8)"
   ]
  },
  {
   "cell_type": "code",
   "execution_count": 12,
   "id": "7dc908f2",
   "metadata": {
    "execution": {
     "iopub.execute_input": "2021-09-22T20:30:21.221185Z",
     "iopub.status.busy": "2021-09-22T20:30:21.220535Z",
     "iopub.status.idle": "2021-09-22T20:30:21.232906Z",
     "shell.execute_reply": "2021-09-22T20:30:21.232386Z"
    },
    "papermill": {
     "duration": 0.050096,
     "end_time": "2021-09-22T20:30:21.233080",
     "exception": false,
     "start_time": "2021-09-22T20:30:21.182984",
     "status": "completed"
    },
    "tags": []
   },
   "outputs": [],
   "source": [
    "y_train = 1*(y_train==3)\n",
    "y_test = 1*(y_test==3)"
   ]
  },
  {
   "cell_type": "code",
   "execution_count": 13,
   "id": "01e4e969",
   "metadata": {
    "execution": {
     "iopub.execute_input": "2021-09-22T20:30:21.310787Z",
     "iopub.status.busy": "2021-09-22T20:30:21.309308Z",
     "iopub.status.idle": "2021-09-22T20:30:21.322358Z",
     "shell.execute_reply": "2021-09-22T20:30:21.321893Z"
    },
    "papermill": {
     "duration": 0.055051,
     "end_time": "2021-09-22T20:30:21.322473",
     "exception": false,
     "start_time": "2021-09-22T20:30:21.267422",
     "status": "completed"
    },
    "tags": []
   },
   "outputs": [
    {
     "data": {
      "text/plain": [
       "((11982, 28, 28), (1984, 28, 28))"
      ]
     },
     "execution_count": 13,
     "metadata": {},
     "output_type": "execute_result"
    }
   ],
   "source": [
    "X_train.shape, X_test.shape"
   ]
  },
  {
   "cell_type": "markdown",
   "id": "5ccf3f85",
   "metadata": {
    "papermill": {
     "duration": 0.033891,
     "end_time": "2021-09-22T20:30:21.388013",
     "exception": false,
     "start_time": "2021-09-22T20:30:21.354122",
     "status": "completed"
    },
    "tags": []
   },
   "source": [
    "We reshape the data to flatten the image pixels into a set of features or co-variates:"
   ]
  },
  {
   "cell_type": "code",
   "execution_count": 14,
   "id": "5286a4a3",
   "metadata": {
    "execution": {
     "iopub.execute_input": "2021-09-22T20:30:21.455459Z",
     "iopub.status.busy": "2021-09-22T20:30:21.454587Z",
     "iopub.status.idle": "2021-09-22T20:30:21.471172Z",
     "shell.execute_reply": "2021-09-22T20:30:21.470664Z"
    },
    "papermill": {
     "duration": 0.050943,
     "end_time": "2021-09-22T20:30:21.471293",
     "exception": false,
     "start_time": "2021-09-22T20:30:21.420350",
     "status": "completed"
    },
    "tags": []
   },
   "outputs": [
    {
     "data": {
      "text/plain": [
       "((11982, 784), (1984, 784))"
      ]
     },
     "execution_count": 14,
     "metadata": {},
     "output_type": "execute_result"
    }
   ],
   "source": [
    "X_train = X_train.reshape(X_train.shape[0], -1)\n",
    "X_test = X_test.reshape(X_test.shape[0], -1)\n",
    "X_train.shape, X_test.shape"
   ]
  },
  {
   "cell_type": "code",
   "execution_count": 15,
   "id": "73c5f88a",
   "metadata": {
    "execution": {
     "iopub.execute_input": "2021-09-22T20:30:21.551628Z",
     "iopub.status.busy": "2021-09-22T20:30:21.551001Z",
     "iopub.status.idle": "2021-09-22T20:30:21.570756Z",
     "shell.execute_reply": "2021-09-22T20:30:21.570236Z"
    },
    "papermill": {
     "duration": 0.065459,
     "end_time": "2021-09-22T20:30:21.570892",
     "exception": false,
     "start_time": "2021-09-22T20:30:21.505433",
     "status": "completed"
    },
    "tags": []
   },
   "outputs": [],
   "source": [
    "#Impoting functions from 'Kudzu'\n",
    "from kudzu.model import Model\n",
    "from kudzu.train import Learner\n",
    "from kudzu.optim import GD\n",
    "from kudzu.data import Data, Sampler,Dataloader\n",
    "\n",
    "from kudzu.callbacks import AccCallback\n",
    "from kudzu.callbacks import ClfCallback\n",
    "\n",
    "from kudzu.loss import MSE\n",
    "\n",
    "from kudzu.layer import Sigmoid,Relu\n",
    "from kudzu.layer import Affine"
   ]
  },
  {
   "cell_type": "markdown",
   "id": "bc01172a",
   "metadata": {
    "papermill": {
     "duration": 0.034704,
     "end_time": "2021-09-22T20:30:21.643086",
     "exception": false,
     "start_time": "2021-09-22T20:30:21.608382",
     "status": "completed"
    },
    "tags": []
   },
   "source": [
    "### Let us create a `Config` class, to store important parameters. \n",
    "This class essentially plays the role of a dictionary."
   ]
  },
  {
   "cell_type": "code",
   "execution_count": 16,
   "id": "978281aa",
   "metadata": {
    "execution": {
     "iopub.execute_input": "2021-09-22T20:30:21.718853Z",
     "iopub.status.busy": "2021-09-22T20:30:21.718169Z",
     "iopub.status.idle": "2021-09-22T20:30:21.731125Z",
     "shell.execute_reply": "2021-09-22T20:30:21.731650Z"
    },
    "papermill": {
     "duration": 0.054637,
     "end_time": "2021-09-22T20:30:21.731827",
     "exception": false,
     "start_time": "2021-09-22T20:30:21.677190",
     "status": "completed"
    },
    "tags": []
   },
   "outputs": [],
   "source": [
    "class Config:\n",
    "    pass\n",
    "config = Config()\n",
    "config.lr = 0.001\n",
    "config.num_epochs = 250\n",
    "config.bs = 50"
   ]
  },
  {
   "cell_type": "markdown",
   "id": "1385fa59",
   "metadata": {
    "papermill": {
     "duration": 0.037005,
     "end_time": "2021-09-22T20:30:21.802815",
     "exception": false,
     "start_time": "2021-09-22T20:30:21.765810",
     "status": "completed"
    },
    "tags": []
   },
   "source": [
    "### Running Models with the Training data\n",
    "Details about the network layers:\n",
    "- A first affine layer has 784 inputs and does 100 affine transforms. These are followed by a Relu\n",
    "- A second affine layer has 100 inputs from the 100 activations of the past layer, and does 100 affine transforms. These are followed by a Relu\n",
    "- A third affine layer has 100 activations and does 2 affine transformations to create an embedding for visualization. There is no non-linearity here.\n",
    "- A final \"logistic regression\" which has an affine transform from 2 inputs to 1 output, which is squeezed through a sigmoid.\n"
   ]
  },
  {
   "cell_type": "code",
   "execution_count": 17,
   "id": "2b9c66db",
   "metadata": {
    "execution": {
     "iopub.execute_input": "2021-09-22T20:30:21.877828Z",
     "iopub.status.busy": "2021-09-22T20:30:21.877223Z",
     "iopub.status.idle": "2021-09-22T20:30:21.892237Z",
     "shell.execute_reply": "2021-09-22T20:30:21.891710Z"
    },
    "papermill": {
     "duration": 0.053368,
     "end_time": "2021-09-22T20:30:21.892359",
     "exception": false,
     "start_time": "2021-09-22T20:30:21.838991",
     "status": "completed"
    },
    "tags": []
   },
   "outputs": [],
   "source": [
    "data = Data(X_train, y_train.reshape(-1,1))\n",
    "sampler = Sampler(data, config.bs, shuffle=True)\n",
    "\n",
    "dl = Dataloader(data, sampler)\n",
    "\n",
    "opt = GD(config.lr)\n",
    "loss = MSE()"
   ]
  },
  {
   "cell_type": "code",
   "execution_count": 18,
   "id": "b275e4c2",
   "metadata": {
    "execution": {
     "iopub.execute_input": "2021-09-22T20:30:21.967579Z",
     "iopub.status.busy": "2021-09-22T20:30:21.966717Z",
     "iopub.status.idle": "2021-09-22T20:30:21.980142Z",
     "shell.execute_reply": "2021-09-22T20:30:21.980645Z"
    },
    "papermill": {
     "duration": 0.05485,
     "end_time": "2021-09-22T20:30:21.980772",
     "exception": false,
     "start_time": "2021-09-22T20:30:21.925922",
     "status": "completed"
    },
    "tags": []
   },
   "outputs": [],
   "source": [
    "training_data_x = X_train\n",
    "testing_data_x = X_test\n",
    "training_data_y = y_train.reshape(-1,1)\n",
    "testing_data_y = y_test.reshape(-1,1)"
   ]
  },
  {
   "cell_type": "code",
   "execution_count": 19,
   "id": "76951160",
   "metadata": {
    "execution": {
     "iopub.execute_input": "2021-09-22T20:30:22.054501Z",
     "iopub.status.busy": "2021-09-22T20:30:22.053807Z",
     "iopub.status.idle": "2021-09-22T20:30:22.072997Z",
     "shell.execute_reply": "2021-09-22T20:30:22.072340Z"
    },
    "papermill": {
     "duration": 0.058546,
     "end_time": "2021-09-22T20:30:22.073173",
     "exception": false,
     "start_time": "2021-09-22T20:30:22.014627",
     "status": "completed"
    },
    "tags": []
   },
   "outputs": [
    {
     "name": "stdout",
     "output_type": "stream",
     "text": [
      "xavier\n",
      "xavier\n",
      "xavier\n",
      "xavier\n",
      "xavier\n"
     ]
    }
   ],
   "source": [
    "layers = [Affine(\"first\", 784, 100), Relu(\"first\"), Affine(\"second\", 100, 100), Relu(\"second\"), Affine(\"third\", 100, 2), Affine(\"last\", 2, 1), Sigmoid(\"last\")]\n",
    "model_nn = Model(layers)\n",
    "model_lr = Model([Affine(\"logits\", 784, 1), Sigmoid(\"sigmoid\")])"
   ]
  },
  {
   "cell_type": "code",
   "execution_count": 20,
   "id": "6eede77a",
   "metadata": {
    "execution": {
     "iopub.execute_input": "2021-09-22T20:30:22.151375Z",
     "iopub.status.busy": "2021-09-22T20:30:22.150502Z",
     "iopub.status.idle": "2021-09-22T20:30:22.167637Z",
     "shell.execute_reply": "2021-09-22T20:30:22.167077Z"
    },
    "papermill": {
     "duration": 0.059523,
     "end_time": "2021-09-22T20:30:22.167797",
     "exception": false,
     "start_time": "2021-09-22T20:30:22.108274",
     "status": "completed"
    },
    "tags": []
   },
   "outputs": [],
   "source": [
    "nn_learner = Learner(loss, model_nn, opt, config.num_epochs)\n",
    "acc_nn = ClfCallback(nn_learner, config.bs, training_data_x , testing_data_x, training_data_y, testing_data_y)\n",
    "nn_learner.set_callbacks([acc_nn])"
   ]
  },
  {
   "cell_type": "code",
   "execution_count": 21,
   "id": "877b6cc7",
   "metadata": {
    "execution": {
     "iopub.execute_input": "2021-09-22T20:30:22.248279Z",
     "iopub.status.busy": "2021-09-22T20:30:22.247549Z",
     "iopub.status.idle": "2021-09-22T20:30:22.262619Z",
     "shell.execute_reply": "2021-09-22T20:30:22.262015Z"
    },
    "papermill": {
     "duration": 0.056312,
     "end_time": "2021-09-22T20:30:22.262761",
     "exception": false,
     "start_time": "2021-09-22T20:30:22.206449",
     "status": "completed"
    },
    "tags": []
   },
   "outputs": [],
   "source": [
    "lr_learner = Learner(loss, model_lr, opt, config.num_epochs)\n",
    "acc_lr = ClfCallback(lr_learner, config.bs, training_data_x , testing_data_x, training_data_y, testing_data_y)\n",
    "lr_learner.set_callbacks([acc_lr])"
   ]
  },
  {
   "cell_type": "code",
   "execution_count": 22,
   "id": "d9b133c3",
   "metadata": {
    "execution": {
     "iopub.execute_input": "2021-09-22T20:30:22.347157Z",
     "iopub.status.busy": "2021-09-22T20:30:22.346546Z",
     "iopub.status.idle": "2021-09-22T20:32:47.520710Z",
     "shell.execute_reply": "2021-09-22T20:32:47.521620Z"
    },
    "papermill": {
     "duration": 145.214834,
     "end_time": "2021-09-22T20:32:47.521789",
     "exception": false,
     "start_time": "2021-09-22T20:30:22.306955",
     "status": "completed"
    },
    "tags": []
   },
   "outputs": [
    {
     "name": "stdout",
     "output_type": "stream",
     "text": [
      "Epoch 0, Loss 0.2388\n",
      "Training Accuracy: 0.7207, Testing Accuracy: 0.7298\n",
      "\n"
     ]
    },
    {
     "name": "stdout",
     "output_type": "stream",
     "text": [
      "Epoch 10, Loss 0.0695\n",
      "Training Accuracy: 0.9326, Testing Accuracy: 0.9420\n",
      "\n"
     ]
    },
    {
     "name": "stdout",
     "output_type": "stream",
     "text": [
      "Epoch 20, Loss 0.047\n",
      "Training Accuracy: 0.9506, Testing Accuracy: 0.9572\n",
      "\n"
     ]
    },
    {
     "name": "stdout",
     "output_type": "stream",
     "text": [
      "Epoch 30, Loss 0.0388\n",
      "Training Accuracy: 0.9574, Testing Accuracy: 0.9632\n",
      "\n"
     ]
    },
    {
     "name": "stdout",
     "output_type": "stream",
     "text": [
      "Epoch 40, Loss 0.0344\n",
      "Training Accuracy: 0.9612, Testing Accuracy: 0.9667\n",
      "\n"
     ]
    },
    {
     "name": "stdout",
     "output_type": "stream",
     "text": [
      "Epoch 50, Loss 0.0315\n",
      "Training Accuracy: 0.9639, Testing Accuracy: 0.9667\n",
      "\n"
     ]
    },
    {
     "name": "stdout",
     "output_type": "stream",
     "text": [
      "Epoch 60, Loss 0.0295\n",
      "Training Accuracy: 0.9670, Testing Accuracy: 0.9688\n",
      "\n"
     ]
    },
    {
     "name": "stdout",
     "output_type": "stream",
     "text": [
      "Epoch 70, Loss 0.0278\n",
      "Training Accuracy: 0.9686, Testing Accuracy: 0.9703\n",
      "\n"
     ]
    },
    {
     "name": "stdout",
     "output_type": "stream",
     "text": [
      "Epoch 80, Loss 0.0265\n",
      "Training Accuracy: 0.9704, Testing Accuracy: 0.9703\n",
      "\n"
     ]
    },
    {
     "name": "stdout",
     "output_type": "stream",
     "text": [
      "Epoch 90, Loss 0.0254\n",
      "Training Accuracy: 0.9713, Testing Accuracy: 0.9713\n",
      "\n"
     ]
    },
    {
     "name": "stdout",
     "output_type": "stream",
     "text": [
      "Epoch 100, Loss 0.0245\n",
      "Training Accuracy: 0.9719, Testing Accuracy: 0.9723\n",
      "\n"
     ]
    },
    {
     "name": "stdout",
     "output_type": "stream",
     "text": [
      "Epoch 110, Loss 0.0236\n",
      "Training Accuracy: 0.9735, Testing Accuracy: 0.9728\n",
      "\n"
     ]
    },
    {
     "name": "stdout",
     "output_type": "stream",
     "text": [
      "Epoch 120, Loss 0.0229\n",
      "Training Accuracy: 0.9744, Testing Accuracy: 0.9728\n",
      "\n"
     ]
    },
    {
     "name": "stdout",
     "output_type": "stream",
     "text": [
      "Epoch 130, Loss 0.0222\n",
      "Training Accuracy: 0.9748, Testing Accuracy: 0.9738\n",
      "\n"
     ]
    },
    {
     "name": "stdout",
     "output_type": "stream",
     "text": [
      "Epoch 140, Loss 0.0215\n",
      "Training Accuracy: 0.9760, Testing Accuracy: 0.9733\n",
      "\n"
     ]
    },
    {
     "name": "stdout",
     "output_type": "stream",
     "text": [
      "Epoch 150, Loss 0.021\n",
      "Training Accuracy: 0.9768, Testing Accuracy: 0.9733\n",
      "\n"
     ]
    },
    {
     "name": "stdout",
     "output_type": "stream",
     "text": [
      "Epoch 160, Loss 0.0204\n",
      "Training Accuracy: 0.9775, Testing Accuracy: 0.9748\n",
      "\n"
     ]
    },
    {
     "name": "stdout",
     "output_type": "stream",
     "text": [
      "Epoch 170, Loss 0.0199\n",
      "Training Accuracy: 0.9783, Testing Accuracy: 0.9753\n",
      "\n"
     ]
    },
    {
     "name": "stdout",
     "output_type": "stream",
     "text": [
      "Epoch 180, Loss 0.0194\n",
      "Training Accuracy: 0.9791, Testing Accuracy: 0.9758\n",
      "\n"
     ]
    },
    {
     "name": "stdout",
     "output_type": "stream",
     "text": [
      "Epoch 190, Loss 0.019\n",
      "Training Accuracy: 0.9796, Testing Accuracy: 0.9758\n",
      "\n"
     ]
    },
    {
     "name": "stdout",
     "output_type": "stream",
     "text": [
      "Epoch 200, Loss 0.0185\n",
      "Training Accuracy: 0.9802, Testing Accuracy: 0.9748\n",
      "\n"
     ]
    },
    {
     "name": "stdout",
     "output_type": "stream",
     "text": [
      "Epoch 210, Loss 0.0181\n",
      "Training Accuracy: 0.9809, Testing Accuracy: 0.9748\n",
      "\n"
     ]
    },
    {
     "name": "stdout",
     "output_type": "stream",
     "text": [
      "Epoch 220, Loss 0.0177\n",
      "Training Accuracy: 0.9813, Testing Accuracy: 0.9758\n",
      "\n"
     ]
    },
    {
     "name": "stdout",
     "output_type": "stream",
     "text": [
      "Epoch 230, Loss 0.0174\n",
      "Training Accuracy: 0.9814, Testing Accuracy: 0.9763\n",
      "\n"
     ]
    },
    {
     "name": "stdout",
     "output_type": "stream",
     "text": [
      "Epoch 240, Loss 0.017\n",
      "Training Accuracy: 0.9818, Testing Accuracy: 0.9763\n",
      "\n"
     ]
    },
    {
     "data": {
      "text/plain": [
       "0.04336014220290365"
      ]
     },
     "execution_count": 22,
     "metadata": {},
     "output_type": "execute_result"
    }
   ],
   "source": [
    "nn_learner.train_loop(dl)"
   ]
  },
  {
   "cell_type": "code",
   "execution_count": 23,
   "id": "e0163366",
   "metadata": {
    "execution": {
     "iopub.execute_input": "2021-09-22T20:32:47.622604Z",
     "iopub.status.busy": "2021-09-22T20:32:47.621922Z",
     "iopub.status.idle": "2021-09-22T20:33:08.234504Z",
     "shell.execute_reply": "2021-09-22T20:33:08.235428Z"
    },
    "papermill": {
     "duration": 20.671299,
     "end_time": "2021-09-22T20:33:08.235580",
     "exception": false,
     "start_time": "2021-09-22T20:32:47.564281",
     "status": "completed"
    },
    "tags": []
   },
   "outputs": [
    {
     "name": "stdout",
     "output_type": "stream",
     "text": [
      "Epoch 0, Loss 0.2444\n",
      "Training Accuracy: 0.6746, Testing Accuracy: 0.6900\n",
      "\n"
     ]
    },
    {
     "name": "stdout",
     "output_type": "stream",
     "text": [
      "Epoch 10, Loss 0.1024\n",
      "Training Accuracy: 0.9136, Testing Accuracy: 0.9224\n",
      "\n"
     ]
    },
    {
     "name": "stdout",
     "output_type": "stream",
     "text": [
      "Epoch 20, Loss 0.0779\n",
      "Training Accuracy: 0.9319, Testing Accuracy: 0.9466\n",
      "\n"
     ]
    },
    {
     "name": "stdout",
     "output_type": "stream",
     "text": [
      "Epoch 30, Loss 0.0668\n",
      "Training Accuracy: 0.9401, Testing Accuracy: 0.9556\n",
      "\n"
     ]
    },
    {
     "name": "stdout",
     "output_type": "stream",
     "text": [
      "Epoch 40, Loss 0.0603\n",
      "Training Accuracy: 0.9440, Testing Accuracy: 0.9561\n",
      "\n"
     ]
    },
    {
     "name": "stdout",
     "output_type": "stream",
     "text": [
      "Epoch 50, Loss 0.0559\n",
      "Training Accuracy: 0.9468, Testing Accuracy: 0.9592\n",
      "\n"
     ]
    },
    {
     "name": "stdout",
     "output_type": "stream",
     "text": [
      "Epoch 60, Loss 0.0527\n",
      "Training Accuracy: 0.9500, Testing Accuracy: 0.9622\n",
      "\n"
     ]
    },
    {
     "name": "stdout",
     "output_type": "stream",
     "text": [
      "Epoch 70, Loss 0.0502\n",
      "Training Accuracy: 0.9509, Testing Accuracy: 0.9622\n",
      "\n"
     ]
    },
    {
     "name": "stdout",
     "output_type": "stream",
     "text": [
      "Epoch 80, Loss 0.0482\n",
      "Training Accuracy: 0.9527, Testing Accuracy: 0.9627\n",
      "\n"
     ]
    },
    {
     "name": "stdout",
     "output_type": "stream",
     "text": [
      "Epoch 90, Loss 0.0466\n",
      "Training Accuracy: 0.9533, Testing Accuracy: 0.9642\n",
      "\n"
     ]
    },
    {
     "name": "stdout",
     "output_type": "stream",
     "text": [
      "Epoch 100, Loss 0.0452\n",
      "Training Accuracy: 0.9548, Testing Accuracy: 0.9647\n",
      "\n"
     ]
    },
    {
     "name": "stdout",
     "output_type": "stream",
     "text": [
      "Epoch 110, Loss 0.0441\n",
      "Training Accuracy: 0.9554, Testing Accuracy: 0.9652\n",
      "\n"
     ]
    },
    {
     "name": "stdout",
     "output_type": "stream",
     "text": [
      "Epoch 120, Loss 0.0431\n",
      "Training Accuracy: 0.9563, Testing Accuracy: 0.9657\n",
      "\n"
     ]
    },
    {
     "name": "stdout",
     "output_type": "stream",
     "text": [
      "Epoch 130, Loss 0.0422\n",
      "Training Accuracy: 0.9567, Testing Accuracy: 0.9667\n",
      "\n"
     ]
    },
    {
     "name": "stdout",
     "output_type": "stream",
     "text": [
      "Epoch 140, Loss 0.0414\n",
      "Training Accuracy: 0.9576, Testing Accuracy: 0.9667\n",
      "\n"
     ]
    },
    {
     "name": "stdout",
     "output_type": "stream",
     "text": [
      "Epoch 150, Loss 0.0407\n",
      "Training Accuracy: 0.9582, Testing Accuracy: 0.9672\n",
      "\n"
     ]
    },
    {
     "name": "stdout",
     "output_type": "stream",
     "text": [
      "Epoch 160, Loss 0.04\n",
      "Training Accuracy: 0.9586, Testing Accuracy: 0.9682\n",
      "\n"
     ]
    },
    {
     "name": "stdout",
     "output_type": "stream",
     "text": [
      "Epoch 170, Loss 0.0394\n",
      "Training Accuracy: 0.9591, Testing Accuracy: 0.9682\n",
      "\n"
     ]
    },
    {
     "name": "stdout",
     "output_type": "stream",
     "text": [
      "Epoch 180, Loss 0.0389\n",
      "Training Accuracy: 0.9594, Testing Accuracy: 0.9693\n",
      "\n"
     ]
    },
    {
     "name": "stdout",
     "output_type": "stream",
     "text": [
      "Epoch 190, Loss 0.0384\n",
      "Training Accuracy: 0.9596, Testing Accuracy: 0.9698\n",
      "\n"
     ]
    },
    {
     "name": "stdout",
     "output_type": "stream",
     "text": [
      "Epoch 200, Loss 0.038\n",
      "Training Accuracy: 0.9599, Testing Accuracy: 0.9698\n",
      "\n"
     ]
    },
    {
     "name": "stdout",
     "output_type": "stream",
     "text": [
      "Epoch 210, Loss 0.0375\n",
      "Training Accuracy: 0.9600, Testing Accuracy: 0.9698\n",
      "\n"
     ]
    },
    {
     "name": "stdout",
     "output_type": "stream",
     "text": [
      "Epoch 220, Loss 0.0371\n",
      "Training Accuracy: 0.9601, Testing Accuracy: 0.9698\n",
      "\n"
     ]
    },
    {
     "name": "stdout",
     "output_type": "stream",
     "text": [
      "Epoch 230, Loss 0.0368\n",
      "Training Accuracy: 0.9607, Testing Accuracy: 0.9698\n",
      "\n"
     ]
    },
    {
     "name": "stdout",
     "output_type": "stream",
     "text": [
      "Epoch 240, Loss 0.0364\n",
      "Training Accuracy: 0.9609, Testing Accuracy: 0.9698\n",
      "\n"
     ]
    },
    {
     "data": {
      "text/plain": [
       "0.032883502095382926"
      ]
     },
     "execution_count": 23,
     "metadata": {},
     "output_type": "execute_result"
    }
   ],
   "source": [
    "lr_learner.train_loop(dl)"
   ]
  },
  {
   "cell_type": "code",
   "execution_count": 24,
   "id": "ca410940",
   "metadata": {
    "execution": {
     "iopub.execute_input": "2021-09-22T20:33:08.353789Z",
     "iopub.status.busy": "2021-09-22T20:33:08.353082Z",
     "iopub.status.idle": "2021-09-22T20:33:08.667858Z",
     "shell.execute_reply": "2021-09-22T20:33:08.668381Z"
    },
    "papermill": {
     "duration": 0.378135,
     "end_time": "2021-09-22T20:33:08.668533",
     "exception": false,
     "start_time": "2021-09-22T20:33:08.290398",
     "status": "completed"
    },
    "tags": []
   },
   "outputs": [
    {
     "data": {
      "text/plain": [
       "<matplotlib.legend.Legend at 0x7f942064d9b0>"
      ]
     },
     "execution_count": 24,
     "metadata": {},
     "output_type": "execute_result"
    },
    {
     "data": {
      "image/png": "[encoded data removed]",
      "text/plain": [
       "<Figure size 1080x720 with 1 Axes>"
      ]
     },
     "metadata": {
      "needs_background": "light"
     },
     "output_type": "display_data"
    }
   ],
   "source": [
    "#comparing the results of NN and LR\n",
    "plt.figure(figsize=(15,10))\n",
    "\n",
    "# Neural Network plots\n",
    "plt.plot(acc_nn.accuracies, 'r-', label = \"Training Accuracies - NN\")\n",
    "plt.plot(acc_nn.test_accuracies, 'g-', label = \"Testing Accuracies - NN\")\n",
    "\n",
    "# Logistic Regression plots\n",
    "plt.plot(acc_lr.accuracies, 'k-', label = \"Training Accuracies - LR\")\n",
    "plt.plot(acc_lr.test_accuracies, 'b-', label = \"Testing Accuracies - LR\")\n",
    "plt.legend()"
   ]
  },
  {
   "cell_type": "markdown",
   "id": "80dfb35c",
   "metadata": {
    "papermill": {
     "duration": 0.055879,
     "end_time": "2021-09-22T20:33:08.777638",
     "exception": false,
     "start_time": "2021-09-22T20:33:08.721759",
     "status": "completed"
    },
    "tags": []
   },
   "source": [
    "#### Plotting the outputs of this layer of the NN.\n"
   ]
  },
  {
   "cell_type": "code",
   "execution_count": 25,
   "id": "45eb2ff5",
   "metadata": {
    "execution": {
     "iopub.execute_input": "2021-09-22T20:33:08.900655Z",
     "iopub.status.busy": "2021-09-22T20:33:08.899025Z",
     "iopub.status.idle": "2021-09-22T20:33:08.925345Z",
     "shell.execute_reply": "2021-09-22T20:33:08.925877Z"
    },
    "papermill": {
     "duration": 0.092429,
     "end_time": "2021-09-22T20:33:08.926026",
     "exception": false,
     "start_time": "2021-09-22T20:33:08.833597",
     "status": "completed"
    },
    "tags": []
   },
   "outputs": [],
   "source": [
    "new_model = Model(layers[:-2])\n",
    "testing_plot = new_model(testing_data_x)"
   ]
  },
  {
   "cell_type": "code",
   "execution_count": 26,
   "id": "4c0a5485",
   "metadata": {
    "execution": {
     "iopub.execute_input": "2021-09-22T20:33:09.054357Z",
     "iopub.status.busy": "2021-09-22T20:33:09.053643Z",
     "iopub.status.idle": "2021-09-22T20:33:09.305088Z",
     "shell.execute_reply": "2021-09-22T20:33:09.304412Z"
    },
    "papermill": {
     "duration": 0.316351,
     "end_time": "2021-09-22T20:33:09.305227",
     "exception": false,
     "start_time": "2021-09-22T20:33:08.988876",
     "status": "completed"
    },
    "tags": []
   },
   "outputs": [
    {
     "data": {
      "text/plain": [
       "Text(0.5, 1.0, 'Outputs')"
      ]
     },
     "execution_count": 26,
     "metadata": {},
     "output_type": "execute_result"
    },
    {
     "data": {
      "image/png": "[encoded data removed]",
      "text/plain": [
       "<Figure size 576x504 with 1 Axes>"
      ]
     },
     "metadata": {
      "needs_background": "light"
     },
     "output_type": "display_data"
    }
   ],
   "source": [
    "# Plotting the scatter plot of points and color coding by class\n",
    "plt.figure(figsize=(8,7))\n",
    "plt.scatter(testing_plot[:,0], testing_plot[:,1], alpha = 0.1, c = y_test.ravel());\n",
    "plt.title('Outputs')"
   ]
  },
  {
   "cell_type": "markdown",
   "id": "a74fcf8f",
   "metadata": {
    "papermill": {
     "duration": 0.065372,
     "end_time": "2021-09-22T20:33:09.442212",
     "exception": false,
     "start_time": "2021-09-22T20:33:09.376840",
     "status": "completed"
    },
    "tags": []
   },
   "source": [
    "Probability contours"
   ]
  },
  {
   "cell_type": "code",
   "execution_count": 27,
   "id": "d0afc8e3",
   "metadata": {
    "execution": {
     "iopub.execute_input": "2021-09-22T20:33:09.605204Z",
     "iopub.status.busy": "2021-09-22T20:33:09.604255Z",
     "iopub.status.idle": "2021-09-22T20:33:09.613556Z",
     "shell.execute_reply": "2021-09-22T20:33:09.614533Z"
    },
    "papermill": {
     "duration": 0.112662,
     "end_time": "2021-09-22T20:33:09.614689",
     "exception": false,
     "start_time": "2021-09-22T20:33:09.502027",
     "status": "completed"
    },
    "tags": []
   },
   "outputs": [],
   "source": [
    "model_prob = Model(layers[-2:]) "
   ]
  },
  {
   "cell_type": "code",
   "execution_count": 28,
   "id": "9b96e238",
   "metadata": {
    "execution": {
     "iopub.execute_input": "2021-09-22T20:33:09.741030Z",
     "iopub.status.busy": "2021-09-22T20:33:09.740271Z",
     "iopub.status.idle": "2021-09-22T20:33:09.754821Z",
     "shell.execute_reply": "2021-09-22T20:33:09.754275Z"
    },
    "papermill": {
     "duration": 0.081764,
     "end_time": "2021-09-22T20:33:09.754954",
     "exception": false,
     "start_time": "2021-09-22T20:33:09.673190",
     "status": "completed"
    },
    "tags": []
   },
   "outputs": [],
   "source": [
    "#creating the x and y ranges according to the above generated plot.\n",
    "x_range = np.linspace(-4, 1, 100) \n",
    "y_range = np.linspace(-6, 6, 100) \n",
    "x_grid, y_grid = np.meshgrid(x_range, y_range) # x_grid and y_grig are of size 100 X 100\n",
    "\n",
    "# converting x_grid and y_grid to continuous arrays\n",
    "x_gridflat = np.ravel(x_grid)\n",
    "y_gridflat = np.ravel(y_grid)\n",
    "\n",
    "# The last layer of the current model takes two columns as input. Hence transpose of np.vstack() is required.\n",
    "X = np.vstack((x_gridflat, y_gridflat)).T\n",
    "\n",
    "prob_contour = model_prob(X).reshape(100,100) "
   ]
  },
  {
   "cell_type": "code",
   "execution_count": 29,
   "id": "da72499a",
   "metadata": {
    "execution": {
     "iopub.execute_input": "2021-09-22T20:33:09.889087Z",
     "iopub.status.busy": "2021-09-22T20:33:09.888348Z",
     "iopub.status.idle": "2021-09-22T20:33:10.200843Z",
     "shell.execute_reply": "2021-09-22T20:33:10.201407Z"
    },
    "papermill": {
     "duration": 0.375988,
     "end_time": "2021-09-22T20:33:10.201570",
     "exception": false,
     "start_time": "2021-09-22T20:33:09.825582",
     "status": "completed"
    },
    "tags": []
   },
   "outputs": [
    {
     "data": {
      "image/png": "[encoded data removed]",
      "text/plain": [
       "<Figure size 720x648 with 1 Axes>"
      ]
     },
     "metadata": {
      "needs_background": "light"
     },
     "output_type": "display_data"
    }
   ],
   "source": [
    "plt.figure(figsize=(10,9))\n",
    "plt.scatter(testing_plot[:,0], testing_plot[:,1], alpha = 0.1, c = y_test.ravel())\n",
    "contours = plt.contour(x_grid,y_grid,prob_contour)\n",
    "plt.title('Probability Contours')\n",
    "plt.clabel(contours, inline = True );"
   ]
  },
  {
   "cell_type": "code",
   "execution_count": null,
   "id": "e81b4ac7",
   "metadata": {
    "papermill": {
     "duration": 0.058081,
     "end_time": "2021-09-22T20:33:10.318113",
     "exception": false,
     "start_time": "2021-09-22T20:33:10.260032",
     "status": "completed"
    },
    "tags": []
   },
   "outputs": [],
   "source": []
  }
 ],
 "metadata": {
  "kernelspec": {
   "display_name": "Python 3",
   "language": "python",
   "name": "python3"
  },
  "language_info": {
   "codemirror_mode": {
    "name": "ipython",
    "version": 3
   },
   "file_extension": ".py",
   "mimetype": "text/x-python",
   "name": "python",
   "nbconvert_exporter": "python",
   "pygments_lexer": "ipython3",
   "version": "3.6.15"
  },
  "papermill": {
   "default_parameters": {},
   "duration": 176.005479,
   "end_time": "2021-09-22T20:33:10.783897",
   "environment_variables": {},
   "exception": null,
   "input_path": "2020-08-11-part2.ipynb",
   "output_path": "2020-08-11-part2.ipynb",
   "parameters": {},
   "start_time": "2021-09-22T20:30:14.778418",
   "version": "2.3.3"
  }
 },
 "nbformat": 4,
 "nbformat_minor": 5
}