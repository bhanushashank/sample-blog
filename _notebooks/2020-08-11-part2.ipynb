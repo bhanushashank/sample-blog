{
 "cells": [
  {
   "cell_type": "markdown",
   "id": "98380cd3",
   "metadata": {
    "papermill": {
     "duration": 0.037502,
     "end_time": "2021-12-26T20:08:40.364139",
     "exception": false,
     "start_time": "2021-12-26T20:08:40.326637",
     "status": "completed"
    },
    "tags": []
   },
   "source": [
    "# Distinguish Your Own Digits (DYOD)"
   ]
  },
  {
   "cell_type": "markdown",
   "id": "ef31240d",
   "metadata": {
    "papermill": {
     "duration": 0.026572,
     "end_time": "2021-12-26T20:08:40.425384",
     "exception": false,
     "start_time": "2021-12-26T20:08:40.398812",
     "status": "completed"
    },
    "tags": []
   },
   "source": [
    "You are going to write a classifier that distinguishes between the number 3 and number 8."
   ]
  },
  {
   "cell_type": "code",
   "execution_count": 1,
   "id": "b15c8646",
   "metadata": {
    "execution": {
     "iopub.execute_input": "2021-12-26T20:08:40.502486Z",
     "iopub.status.busy": "2021-12-26T20:08:40.501877Z",
     "iopub.status.idle": "2021-12-26T20:08:40.511636Z",
     "shell.execute_reply": "2021-12-26T20:08:40.512217Z"
    },
    "papermill": {
     "duration": 0.052385,
     "end_time": "2021-12-26T20:08:40.512368",
     "exception": false,
     "start_time": "2021-12-26T20:08:40.459983",
     "status": "completed"
    },
    "tags": []
   },
   "outputs": [],
   "source": [
    "%load_ext autoreload\n",
    "%autoreload 2"
   ]
  },
  {
   "cell_type": "code",
   "execution_count": 2,
   "id": "22ef38dc",
   "metadata": {
    "execution": {
     "iopub.execute_input": "2021-12-26T20:08:40.581008Z",
     "iopub.status.busy": "2021-12-26T20:08:40.580204Z",
     "iopub.status.idle": "2021-12-26T20:08:41.310391Z",
     "shell.execute_reply": "2021-12-26T20:08:41.310837Z"
    },
    "papermill": {
     "duration": 0.766022,
     "end_time": "2021-12-26T20:08:41.310988",
     "exception": false,
     "start_time": "2021-12-26T20:08:40.544966",
     "status": "completed"
    },
    "tags": []
   },
   "outputs": [],
   "source": [
    "%matplotlib inline\n",
    "import numpy as np\n",
    "import matplotlib.pyplot as plt\n",
    "import pandas as pd"
   ]
  },
  {
   "cell_type": "markdown",
   "id": "ba036198",
   "metadata": {
    "papermill": {
     "duration": 0.031635,
     "end_time": "2021-12-26T20:08:41.374232",
     "exception": false,
     "start_time": "2021-12-26T20:08:41.342597",
     "status": "completed"
    },
    "tags": []
   },
   "source": [
    "From the command line run `pip install mnist`. This is a library that will help you bring down the mnist dataset. If you run this from a notebook, you need to put  `!pip install mnist` in a cell by itself."
   ]
  },
  {
   "cell_type": "code",
   "execution_count": 3,
   "id": "bb6ad8a1",
   "metadata": {
    "execution": {
     "iopub.execute_input": "2021-12-26T20:08:41.444348Z",
     "iopub.status.busy": "2021-12-26T20:08:41.443527Z",
     "iopub.status.idle": "2021-12-26T20:08:43.548074Z",
     "shell.execute_reply": "2021-12-26T20:08:43.548610Z"
    },
    "papermill": {
     "duration": 2.144173,
     "end_time": "2021-12-26T20:08:43.548782",
     "exception": false,
     "start_time": "2021-12-26T20:08:41.404609",
     "status": "completed"
    },
    "tags": []
   },
   "outputs": [
    {
     "name": "stdout",
     "output_type": "stream",
     "text": [
      "Collecting mnist\r\n"
     ]
    },
    {
     "name": "stdout",
     "output_type": "stream",
     "text": [
      "  Downloading mnist-0.2.2-py2.py3-none-any.whl (3.5 kB)\r\n"
     ]
    },
    {
     "name": "stdout",
     "output_type": "stream",
     "text": [
      "Requirement already satisfied: numpy in /opt/hostedtoolcache/Python/3.6.15/x64/lib/python3.6/site-packages (from mnist) (1.19.5)\r\n"
     ]
    },
    {
     "name": "stdout",
     "output_type": "stream",
     "text": [
      "Installing collected packages: mnist\r\n"
     ]
    },
    {
     "name": "stdout",
     "output_type": "stream",
     "text": [
      "Successfully installed mnist-0.2.2\r\n"
     ]
    }
   ],
   "source": [
    "!pip install mnist"
   ]
  },
  {
   "cell_type": "markdown",
   "id": "69df9c9a",
   "metadata": {
    "papermill": {
     "duration": 0.03511,
     "end_time": "2021-12-26T20:08:43.617390",
     "exception": false,
     "start_time": "2021-12-26T20:08:43.582280",
     "status": "completed"
    },
    "tags": []
   },
   "source": [
    "## Preparing the Data"
   ]
  },
  {
   "cell_type": "code",
   "execution_count": 4,
   "id": "7f69d806",
   "metadata": {
    "execution": {
     "iopub.execute_input": "2021-12-26T20:08:43.694374Z",
     "iopub.status.busy": "2021-12-26T20:08:43.693613Z",
     "iopub.status.idle": "2021-12-26T20:08:43.704916Z",
     "shell.execute_reply": "2021-12-26T20:08:43.704042Z"
    },
    "papermill": {
     "duration": 0.055813,
     "end_time": "2021-12-26T20:08:43.705135",
     "exception": false,
     "start_time": "2021-12-26T20:08:43.649322",
     "status": "completed"
    },
    "tags": []
   },
   "outputs": [],
   "source": [
    "import mnist"
   ]
  },
  {
   "cell_type": "code",
   "execution_count": 5,
   "id": "a411e44f",
   "metadata": {
    "execution": {
     "iopub.execute_input": "2021-12-26T20:08:43.773768Z",
     "iopub.status.busy": "2021-12-26T20:08:43.771569Z",
     "iopub.status.idle": "2021-12-26T20:08:44.445639Z",
     "shell.execute_reply": "2021-12-26T20:08:44.446192Z"
    },
    "papermill": {
     "duration": 0.711517,
     "end_time": "2021-12-26T20:08:44.446373",
     "exception": false,
     "start_time": "2021-12-26T20:08:43.734856",
     "status": "completed"
    },
    "tags": []
   },
   "outputs": [],
   "source": [
    "train_images = mnist.train_images()\n",
    "train_labels = mnist.train_labels()"
   ]
  },
  {
   "cell_type": "code",
   "execution_count": 6,
   "id": "dceab3a5",
   "metadata": {
    "execution": {
     "iopub.execute_input": "2021-12-26T20:08:44.529992Z",
     "iopub.status.busy": "2021-12-26T20:08:44.524556Z",
     "iopub.status.idle": "2021-12-26T20:08:44.545493Z",
     "shell.execute_reply": "2021-12-26T20:08:44.544794Z"
    },
    "papermill": {
     "duration": 0.060729,
     "end_time": "2021-12-26T20:08:44.545647",
     "exception": false,
     "start_time": "2021-12-26T20:08:44.484918",
     "status": "completed"
    },
    "tags": []
   },
   "outputs": [
    {
     "data": {
      "text/plain": [
       "((60000, 28, 28), (60000,))"
      ]
     },
     "execution_count": 6,
     "metadata": {},
     "output_type": "execute_result"
    }
   ],
   "source": [
    "train_images.shape, train_labels.shape"
   ]
  },
  {
   "cell_type": "code",
   "execution_count": 7,
   "id": "f50dc2bb",
   "metadata": {
    "execution": {
     "iopub.execute_input": "2021-12-26T20:08:44.632460Z",
     "iopub.status.busy": "2021-12-26T20:08:44.631749Z",
     "iopub.status.idle": "2021-12-26T20:08:44.858383Z",
     "shell.execute_reply": "2021-12-26T20:08:44.857683Z"
    },
    "papermill": {
     "duration": 0.270308,
     "end_time": "2021-12-26T20:08:44.858528",
     "exception": false,
     "start_time": "2021-12-26T20:08:44.588220",
     "status": "completed"
    },
    "tags": []
   },
   "outputs": [],
   "source": [
    "test_images = mnist.test_images()\n",
    "test_labels = mnist.test_labels()"
   ]
  },
  {
   "cell_type": "code",
   "execution_count": 8,
   "id": "fc38cf1b",
   "metadata": {
    "execution": {
     "iopub.execute_input": "2021-12-26T20:08:44.936789Z",
     "iopub.status.busy": "2021-12-26T20:08:44.936024Z",
     "iopub.status.idle": "2021-12-26T20:08:44.951539Z",
     "shell.execute_reply": "2021-12-26T20:08:44.952260Z"
    },
    "papermill": {
     "duration": 0.057879,
     "end_time": "2021-12-26T20:08:44.952452",
     "exception": false,
     "start_time": "2021-12-26T20:08:44.894573",
     "status": "completed"
    },
    "tags": []
   },
   "outputs": [
    {
     "data": {
      "text/plain": [
       "((10000, 28, 28), (10000,))"
      ]
     },
     "execution_count": 8,
     "metadata": {},
     "output_type": "execute_result"
    }
   ],
   "source": [
    "test_images.shape, test_labels.shape"
   ]
  },
  {
   "cell_type": "code",
   "execution_count": 9,
   "id": "f9ed8fe0",
   "metadata": {
    "execution": {
     "iopub.execute_input": "2021-12-26T20:08:45.028464Z",
     "iopub.status.busy": "2021-12-26T20:08:45.027477Z",
     "iopub.status.idle": "2021-12-26T20:08:45.235099Z",
     "shell.execute_reply": "2021-12-26T20:08:45.235776Z"
    },
    "papermill": {
     "duration": 0.248353,
     "end_time": "2021-12-26T20:08:45.236036",
     "exception": false,
     "start_time": "2021-12-26T20:08:44.987683",
     "status": "completed"
    },
    "tags": []
   },
   "outputs": [
    {
     "name": "stdout",
     "output_type": "stream",
     "text": [
      "2\n"
     ]
    },
    {
     "data": {
      "text/plain": [
       "<matplotlib.image.AxesImage at 0x7f47075b14a8>"
      ]
     },
     "execution_count": 9,
     "metadata": {},
     "output_type": "execute_result"
    },
    {
     "data": {
      "image/png": "[encoded data removed]",
      "text/plain": [
       "<Figure size 432x288 with 1 Axes>"
      ]
     },
     "metadata": {
      "needs_background": "light"
     },
     "output_type": "display_data"
    }
   ],
   "source": [
    "image_index = 7776 # You may select anything up to 60,000\n",
    "print(train_labels[image_index]) \n",
    "plt.imshow(train_images[image_index], cmap='Greys')"
   ]
  },
  {
   "cell_type": "markdown",
   "id": "a8d2388d",
   "metadata": {
    "papermill": {
     "duration": 0.037921,
     "end_time": "2021-12-26T20:08:45.310689",
     "exception": false,
     "start_time": "2021-12-26T20:08:45.272768",
     "status": "completed"
    },
    "tags": []
   },
   "source": [
    "## Filter data to get 3 and 8 out"
   ]
  },
  {
   "cell_type": "code",
   "execution_count": 10,
   "id": "776f7fc7",
   "metadata": {
    "execution": {
     "iopub.execute_input": "2021-12-26T20:08:45.394865Z",
     "iopub.status.busy": "2021-12-26T20:08:45.394116Z",
     "iopub.status.idle": "2021-12-26T20:08:45.419061Z",
     "shell.execute_reply": "2021-12-26T20:08:45.418398Z"
    },
    "papermill": {
     "duration": 0.071858,
     "end_time": "2021-12-26T20:08:45.419212",
     "exception": false,
     "start_time": "2021-12-26T20:08:45.347354",
     "status": "completed"
    },
    "tags": []
   },
   "outputs": [],
   "source": [
    "train_filter = np.where((train_labels == 3 ) | (train_labels == 8))\n",
    "test_filter = np.where((test_labels == 3) | (test_labels == 8))\n",
    "X_train, y_train = train_images[train_filter], train_labels[train_filter]\n",
    "X_test, y_test = test_images[test_filter], test_labels[test_filter]"
   ]
  },
  {
   "cell_type": "markdown",
   "id": "948f0b7e",
   "metadata": {
    "papermill": {
     "duration": 0.03708,
     "end_time": "2021-12-26T20:08:45.495521",
     "exception": false,
     "start_time": "2021-12-26T20:08:45.458441",
     "status": "completed"
    },
    "tags": []
   },
   "source": [
    "We normalize the pizel values in the 0 to 1 range"
   ]
  },
  {
   "cell_type": "code",
   "execution_count": 11,
   "id": "ee4c2166",
   "metadata": {
    "execution": {
     "iopub.execute_input": "2021-12-26T20:08:45.588615Z",
     "iopub.status.busy": "2021-12-26T20:08:45.587894Z",
     "iopub.status.idle": "2021-12-26T20:08:45.660169Z",
     "shell.execute_reply": "2021-12-26T20:08:45.661194Z"
    },
    "papermill": {
     "duration": 0.125756,
     "end_time": "2021-12-26T20:08:45.661395",
     "exception": false,
     "start_time": "2021-12-26T20:08:45.535639",
     "status": "completed"
    },
    "tags": []
   },
   "outputs": [],
   "source": [
    "X_train = X_train/255.\n",
    "X_test = X_test/255."
   ]
  },
  {
   "cell_type": "markdown",
   "id": "ddcf4fab",
   "metadata": {
    "papermill": {
     "duration": 0.037285,
     "end_time": "2021-12-26T20:08:45.739763",
     "exception": false,
     "start_time": "2021-12-26T20:08:45.702478",
     "status": "completed"
    },
    "tags": []
   },
   "source": [
    "And setup the labels as 1 (when the digit is 3) and 0 (when the digit is 8)"
   ]
  },
  {
   "cell_type": "code",
   "execution_count": 12,
   "id": "7dc908f2",
   "metadata": {
    "execution": {
     "iopub.execute_input": "2021-12-26T20:08:45.821694Z",
     "iopub.status.busy": "2021-12-26T20:08:45.820993Z",
     "iopub.status.idle": "2021-12-26T20:08:45.842059Z",
     "shell.execute_reply": "2021-12-26T20:08:45.841332Z"
    },
    "papermill": {
     "duration": 0.064783,
     "end_time": "2021-12-26T20:08:45.842213",
     "exception": false,
     "start_time": "2021-12-26T20:08:45.777430",
     "status": "completed"
    },
    "tags": []
   },
   "outputs": [],
   "source": [
    "y_train = 1*(y_train==3)\n",
    "y_test = 1*(y_test==3)"
   ]
  },
  {
   "cell_type": "code",
   "execution_count": 13,
   "id": "01e4e969",
   "metadata": {
    "execution": {
     "iopub.execute_input": "2021-12-26T20:08:45.936625Z",
     "iopub.status.busy": "2021-12-26T20:08:45.935900Z",
     "iopub.status.idle": "2021-12-26T20:08:45.953283Z",
     "shell.execute_reply": "2021-12-26T20:08:45.952504Z"
    },
    "papermill": {
     "duration": 0.067808,
     "end_time": "2021-12-26T20:08:45.953423",
     "exception": false,
     "start_time": "2021-12-26T20:08:45.885615",
     "status": "completed"
    },
    "tags": []
   },
   "outputs": [
    {
     "data": {
      "text/plain": [
       "((11982, 28, 28), (1984, 28, 28))"
      ]
     },
     "execution_count": 13,
     "metadata": {},
     "output_type": "execute_result"
    }
   ],
   "source": [
    "X_train.shape, X_test.shape"
   ]
  },
  {
   "cell_type": "markdown",
   "id": "5ccf3f85",
   "metadata": {
    "papermill": {
     "duration": 0.039007,
     "end_time": "2021-12-26T20:08:46.031032",
     "exception": false,
     "start_time": "2021-12-26T20:08:45.992025",
     "status": "completed"
    },
    "tags": []
   },
   "source": [
    "We reshape the data to flatten the image pixels into a set of features or co-variates:"
   ]
  },
  {
   "cell_type": "code",
   "execution_count": 14,
   "id": "5286a4a3",
   "metadata": {
    "execution": {
     "iopub.execute_input": "2021-12-26T20:08:46.111327Z",
     "iopub.status.busy": "2021-12-26T20:08:46.110520Z",
     "iopub.status.idle": "2021-12-26T20:08:46.128480Z",
     "shell.execute_reply": "2021-12-26T20:08:46.127566Z"
    },
    "papermill": {
     "duration": 0.059784,
     "end_time": "2021-12-26T20:08:46.128705",
     "exception": false,
     "start_time": "2021-12-26T20:08:46.068921",
     "status": "completed"
    },
    "tags": []
   },
   "outputs": [
    {
     "data": {
      "text/plain": [
       "((11982, 784), (1984, 784))"
      ]
     },
     "execution_count": 14,
     "metadata": {},
     "output_type": "execute_result"
    }
   ],
   "source": [
    "X_train = X_train.reshape(X_train.shape[0], -1)\n",
    "X_test = X_test.reshape(X_test.shape[0], -1)\n",
    "X_train.shape, X_test.shape"
   ]
  },
  {
   "cell_type": "code",
   "execution_count": 15,
   "id": "73c5f88a",
   "metadata": {
    "execution": {
     "iopub.execute_input": "2021-12-26T20:08:46.223630Z",
     "iopub.status.busy": "2021-12-26T20:08:46.221311Z",
     "iopub.status.idle": "2021-12-26T20:08:46.243553Z",
     "shell.execute_reply": "2021-12-26T20:08:46.242826Z"
    },
    "papermill": {
     "duration": 0.072633,
     "end_time": "2021-12-26T20:08:46.243709",
     "exception": false,
     "start_time": "2021-12-26T20:08:46.171076",
     "status": "completed"
    },
    "tags": []
   },
   "outputs": [],
   "source": [
    "#Impoting functions from 'Kudzu'\n",
    "from kudzu.model import Model\n",
    "from kudzu.train import Learner\n",
    "from kudzu.optim import GD\n",
    "from kudzu.data import Data, Sampler,Dataloader\n",
    "\n",
    "from kudzu.callbacks import AccCallback\n",
    "from kudzu.callbacks import ClfCallback\n",
    "\n",
    "from kudzu.loss import MSE\n",
    "\n",
    "from kudzu.layer import Sigmoid,Relu\n",
    "from kudzu.layer import Affine"
   ]
  },
  {
   "cell_type": "markdown",
   "id": "bc01172a",
   "metadata": {
    "papermill": {
     "duration": 0.039802,
     "end_time": "2021-12-26T20:08:46.325123",
     "exception": false,
     "start_time": "2021-12-26T20:08:46.285321",
     "status": "completed"
    },
    "tags": []
   },
   "source": [
    "### Let us create a `Config` class, to store important parameters. \n",
    "This class essentially plays the role of a dictionary."
   ]
  },
  {
   "cell_type": "code",
   "execution_count": 16,
   "id": "978281aa",
   "metadata": {
    "execution": {
     "iopub.execute_input": "2021-12-26T20:08:46.408890Z",
     "iopub.status.busy": "2021-12-26T20:08:46.408203Z",
     "iopub.status.idle": "2021-12-26T20:08:46.422071Z",
     "shell.execute_reply": "2021-12-26T20:08:46.421463Z"
    },
    "papermill": {
     "duration": 0.057438,
     "end_time": "2021-12-26T20:08:46.422211",
     "exception": false,
     "start_time": "2021-12-26T20:08:46.364773",
     "status": "completed"
    },
    "tags": []
   },
   "outputs": [],
   "source": [
    "class Config:\n",
    "    pass\n",
    "config = Config()\n",
    "config.lr = 0.001\n",
    "config.num_epochs = 250\n",
    "config.bs = 50"
   ]
  },
  {
   "cell_type": "markdown",
   "id": "1385fa59",
   "metadata": {
    "papermill": {
     "duration": 0.036832,
     "end_time": "2021-12-26T20:08:46.497306",
     "exception": false,
     "start_time": "2021-12-26T20:08:46.460474",
     "status": "completed"
    },
    "tags": []
   },
   "source": [
    "### Running Models with the Training data\n",
    "Details about the network layers:\n",
    "- A first affine layer has 784 inputs and does 100 affine transforms. These are followed by a Relu\n",
    "- A second affine layer has 100 inputs from the 100 activations of the past layer, and does 100 affine transforms. These are followed by a Relu\n",
    "- A third affine layer has 100 activations and does 2 affine transformations to create an embedding for visualization. There is no non-linearity here.\n",
    "- A final \"logistic regression\" which has an affine transform from 2 inputs to 1 output, which is squeezed through a sigmoid.\n"
   ]
  },
  {
   "cell_type": "code",
   "execution_count": 17,
   "id": "2b9c66db",
   "metadata": {
    "execution": {
     "iopub.execute_input": "2021-12-26T20:08:46.581368Z",
     "iopub.status.busy": "2021-12-26T20:08:46.580681Z",
     "iopub.status.idle": "2021-12-26T20:08:46.596717Z",
     "shell.execute_reply": "2021-12-26T20:08:46.595913Z"
    },
    "papermill": {
     "duration": 0.062271,
     "end_time": "2021-12-26T20:08:46.596857",
     "exception": false,
     "start_time": "2021-12-26T20:08:46.534586",
     "status": "completed"
    },
    "tags": []
   },
   "outputs": [],
   "source": [
    "data = Data(X_train, y_train.reshape(-1,1))\n",
    "sampler = Sampler(data, config.bs, shuffle=True)\n",
    "\n",
    "dl = Dataloader(data, sampler)\n",
    "\n",
    "opt = GD(config.lr)\n",
    "loss = MSE()"
   ]
  },
  {
   "cell_type": "code",
   "execution_count": 18,
   "id": "b275e4c2",
   "metadata": {
    "execution": {
     "iopub.execute_input": "2021-12-26T20:08:46.679110Z",
     "iopub.status.busy": "2021-12-26T20:08:46.678427Z",
     "iopub.status.idle": "2021-12-26T20:08:46.692503Z",
     "shell.execute_reply": "2021-12-26T20:08:46.693129Z"
    },
    "papermill": {
     "duration": 0.058515,
     "end_time": "2021-12-26T20:08:46.693307",
     "exception": false,
     "start_time": "2021-12-26T20:08:46.634792",
     "status": "completed"
    },
    "tags": []
   },
   "outputs": [],
   "source": [
    "training_data_x = X_train\n",
    "testing_data_x = X_test\n",
    "training_data_y = y_train.reshape(-1,1)\n",
    "testing_data_y = y_test.reshape(-1,1)"
   ]
  },
  {
   "cell_type": "code",
   "execution_count": 19,
   "id": "76951160",
   "metadata": {
    "execution": {
     "iopub.execute_input": "2021-12-26T20:08:46.781604Z",
     "iopub.status.busy": "2021-12-26T20:08:46.780913Z",
     "iopub.status.idle": "2021-12-26T20:08:46.802120Z",
     "shell.execute_reply": "2021-12-26T20:08:46.801484Z"
    },
    "papermill": {
     "duration": 0.067362,
     "end_time": "2021-12-26T20:08:46.802263",
     "exception": false,
     "start_time": "2021-12-26T20:08:46.734901",
     "status": "completed"
    },
    "tags": []
   },
   "outputs": [
    {
     "name": "stdout",
     "output_type": "stream",
     "text": [
      "xavier\n",
      "xavier\n",
      "xavier\n",
      "xavier\n",
      "xavier\n"
     ]
    }
   ],
   "source": [
    "layers = [Affine(\"first\", 784, 100), Relu(\"first\"), Affine(\"second\", 100, 100), Relu(\"second\"), Affine(\"third\", 100, 2), Affine(\"last\", 2, 1), Sigmoid(\"last\")]\n",
    "model_nn = Model(layers)\n",
    "model_lr = Model([Affine(\"logits\", 784, 1), Sigmoid(\"sigmoid\")])"
   ]
  },
  {
   "cell_type": "code",
   "execution_count": 20,
   "id": "6eede77a",
   "metadata": {
    "execution": {
     "iopub.execute_input": "2021-12-26T20:08:46.894164Z",
     "iopub.status.busy": "2021-12-26T20:08:46.893446Z",
     "iopub.status.idle": "2021-12-26T20:08:46.909855Z",
     "shell.execute_reply": "2021-12-26T20:08:46.910780Z"
    },
    "papermill": {
     "duration": 0.067117,
     "end_time": "2021-12-26T20:08:46.910958",
     "exception": false,
     "start_time": "2021-12-26T20:08:46.843841",
     "status": "completed"
    },
    "tags": []
   },
   "outputs": [],
   "source": [
    "nn_learner = Learner(loss, model_nn, opt, config.num_epochs)\n",
    "acc_nn = ClfCallback(nn_learner, config.bs, training_data_x , testing_data_x, training_data_y, testing_data_y)\n",
    "nn_learner.set_callbacks([acc_nn])"
   ]
  },
  {
   "cell_type": "code",
   "execution_count": 21,
   "id": "877b6cc7",
   "metadata": {
    "execution": {
     "iopub.execute_input": "2021-12-26T20:08:46.989782Z",
     "iopub.status.busy": "2021-12-26T20:08:46.988225Z",
     "iopub.status.idle": "2021-12-26T20:08:47.000854Z",
     "shell.execute_reply": "2021-12-26T20:08:47.001324Z"
    },
    "papermill": {
     "duration": 0.05109,
     "end_time": "2021-12-26T20:08:47.001451",
     "exception": false,
     "start_time": "2021-12-26T20:08:46.950361",
     "status": "completed"
    },
    "tags": []
   },
   "outputs": [],
   "source": [
    "lr_learner = Learner(loss, model_lr, opt, config.num_epochs)\n",
    "acc_lr = ClfCallback(lr_learner, config.bs, training_data_x , testing_data_x, training_data_y, testing_data_y)\n",
    "lr_learner.set_callbacks([acc_lr])"
   ]
  },
  {
   "cell_type": "code",
   "execution_count": 22,
   "id": "d9b133c3",
   "metadata": {
    "execution": {
     "iopub.execute_input": "2021-12-26T20:08:47.089957Z",
     "iopub.status.busy": "2021-12-26T20:08:47.085605Z",
     "iopub.status.idle": "2021-12-26T20:11:17.031039Z",
     "shell.execute_reply": "2021-12-26T20:11:17.031852Z"
    },
    "papermill": {
     "duration": 149.990232,
     "end_time": "2021-12-26T20:11:17.032008",
     "exception": false,
     "start_time": "2021-12-26T20:08:47.041776",
     "status": "completed"
    },
    "tags": []
   },
   "outputs": [
    {
     "name": "stdout",
     "output_type": "stream",
     "text": [
      "Epoch 0, Loss 0.2485\n",
      "Training Accuracy: 0.5661, Testing Accuracy: 0.5832\n",
      "\n"
     ]
    },
    {
     "name": "stdout",
     "output_type": "stream",
     "text": [
      "Epoch 10, Loss 0.205\n",
      "Training Accuracy: 0.8614, Testing Accuracy: 0.8715\n",
      "\n"
     ]
    },
    {
     "name": "stdout",
     "output_type": "stream",
     "text": [
      "Epoch 20, Loss 0.1092\n",
      "Training Accuracy: 0.9022, Testing Accuracy: 0.9123\n",
      "\n"
     ]
    },
    {
     "name": "stdout",
     "output_type": "stream",
     "text": [
      "Epoch 30, Loss 0.0676\n",
      "Training Accuracy: 0.9282, Testing Accuracy: 0.9395\n",
      "\n"
     ]
    },
    {
     "name": "stdout",
     "output_type": "stream",
     "text": [
      "Epoch 40, Loss 0.0515\n",
      "Training Accuracy: 0.9425, Testing Accuracy: 0.9546\n",
      "\n"
     ]
    },
    {
     "name": "stdout",
     "output_type": "stream",
     "text": [
      "Epoch 50, Loss 0.0433\n",
      "Training Accuracy: 0.9502, Testing Accuracy: 0.9587\n",
      "\n"
     ]
    },
    {
     "name": "stdout",
     "output_type": "stream",
     "text": [
      "Epoch 60, Loss 0.0384\n",
      "Training Accuracy: 0.9549, Testing Accuracy: 0.9632\n",
      "\n"
     ]
    },
    {
     "name": "stdout",
     "output_type": "stream",
     "text": [
      "Epoch 70, Loss 0.0352\n",
      "Training Accuracy: 0.9588, Testing Accuracy: 0.9662\n",
      "\n"
     ]
    },
    {
     "name": "stdout",
     "output_type": "stream",
     "text": [
      "Epoch 80, Loss 0.0329\n",
      "Training Accuracy: 0.9614, Testing Accuracy: 0.9677\n",
      "\n"
     ]
    },
    {
     "name": "stdout",
     "output_type": "stream",
     "text": [
      "Epoch 90, Loss 0.0311\n",
      "Training Accuracy: 0.9634, Testing Accuracy: 0.9693\n",
      "\n"
     ]
    },
    {
     "name": "stdout",
     "output_type": "stream",
     "text": [
      "Epoch 100, Loss 0.0297\n",
      "Training Accuracy: 0.9651, Testing Accuracy: 0.9713\n",
      "\n"
     ]
    },
    {
     "name": "stdout",
     "output_type": "stream",
     "text": [
      "Epoch 110, Loss 0.0285\n",
      "Training Accuracy: 0.9665, Testing Accuracy: 0.9718\n",
      "\n"
     ]
    },
    {
     "name": "stdout",
     "output_type": "stream",
     "text": [
      "Epoch 120, Loss 0.0275\n",
      "Training Accuracy: 0.9675, Testing Accuracy: 0.9708\n",
      "\n"
     ]
    },
    {
     "name": "stdout",
     "output_type": "stream",
     "text": [
      "Epoch 130, Loss 0.0265\n",
      "Training Accuracy: 0.9692, Testing Accuracy: 0.9703\n",
      "\n"
     ]
    },
    {
     "name": "stdout",
     "output_type": "stream",
     "text": [
      "Epoch 140, Loss 0.0258\n",
      "Training Accuracy: 0.9702, Testing Accuracy: 0.9718\n",
      "\n"
     ]
    },
    {
     "name": "stdout",
     "output_type": "stream",
     "text": [
      "Epoch 150, Loss 0.025\n",
      "Training Accuracy: 0.9713, Testing Accuracy: 0.9718\n",
      "\n"
     ]
    },
    {
     "name": "stdout",
     "output_type": "stream",
     "text": [
      "Epoch 160, Loss 0.0244\n",
      "Training Accuracy: 0.9719, Testing Accuracy: 0.9718\n",
      "\n"
     ]
    },
    {
     "name": "stdout",
     "output_type": "stream",
     "text": [
      "Epoch 170, Loss 0.0238\n",
      "Training Accuracy: 0.9734, Testing Accuracy: 0.9728\n",
      "\n"
     ]
    },
    {
     "name": "stdout",
     "output_type": "stream",
     "text": [
      "Epoch 180, Loss 0.0232\n",
      "Training Accuracy: 0.9742, Testing Accuracy: 0.9733\n",
      "\n"
     ]
    },
    {
     "name": "stdout",
     "output_type": "stream",
     "text": [
      "Epoch 190, Loss 0.0227\n",
      "Training Accuracy: 0.9749, Testing Accuracy: 0.9728\n",
      "\n"
     ]
    },
    {
     "name": "stdout",
     "output_type": "stream",
     "text": [
      "Epoch 200, Loss 0.0222\n",
      "Training Accuracy: 0.9752, Testing Accuracy: 0.9733\n",
      "\n"
     ]
    },
    {
     "name": "stdout",
     "output_type": "stream",
     "text": [
      "Epoch 210, Loss 0.0218\n",
      "Training Accuracy: 0.9763, Testing Accuracy: 0.9733\n",
      "\n"
     ]
    },
    {
     "name": "stdout",
     "output_type": "stream",
     "text": [
      "Epoch 220, Loss 0.0213\n",
      "Training Accuracy: 0.9770, Testing Accuracy: 0.9733\n",
      "\n"
     ]
    },
    {
     "name": "stdout",
     "output_type": "stream",
     "text": [
      "Epoch 230, Loss 0.0209\n",
      "Training Accuracy: 0.9774, Testing Accuracy: 0.9733\n",
      "\n"
     ]
    },
    {
     "name": "stdout",
     "output_type": "stream",
     "text": [
      "Epoch 240, Loss 0.0205\n",
      "Training Accuracy: 0.9778, Testing Accuracy: 0.9733\n",
      "\n"
     ]
    },
    {
     "data": {
      "text/plain": [
       "0.019502579344812854"
      ]
     },
     "execution_count": 22,
     "metadata": {},
     "output_type": "execute_result"
    }
   ],
   "source": [
    "nn_learner.train_loop(dl)"
   ]
  },
  {
   "cell_type": "code",
   "execution_count": 23,
   "id": "e0163366",
   "metadata": {
    "execution": {
     "iopub.execute_input": "2021-12-26T20:11:17.136333Z",
     "iopub.status.busy": "2021-12-26T20:11:17.135249Z",
     "iopub.status.idle": "2021-12-26T20:11:38.254973Z",
     "shell.execute_reply": "2021-12-26T20:11:38.256314Z"
    },
    "papermill": {
     "duration": 21.177995,
     "end_time": "2021-12-26T20:11:38.256532",
     "exception": false,
     "start_time": "2021-12-26T20:11:17.078537",
     "status": "completed"
    },
    "tags": []
   },
   "outputs": [
    {
     "name": "stdout",
     "output_type": "stream",
     "text": [
      "Epoch 0, Loss 0.2296\n",
      "Training Accuracy: 0.7276, Testing Accuracy: 0.7298\n",
      "\n"
     ]
    },
    {
     "name": "stdout",
     "output_type": "stream",
     "text": [
      "Epoch 10, Loss 0.1057\n",
      "Training Accuracy: 0.8969, Testing Accuracy: 0.9093\n",
      "\n"
     ]
    },
    {
     "name": "stdout",
     "output_type": "stream",
     "text": [
      "Epoch 20, Loss 0.0822\n",
      "Training Accuracy: 0.9172, Testing Accuracy: 0.9304\n",
      "\n"
     ]
    },
    {
     "name": "stdout",
     "output_type": "stream",
     "text": [
      "Epoch 30, Loss 0.0708\n",
      "Training Accuracy: 0.9292, Testing Accuracy: 0.9420\n",
      "\n"
     ]
    },
    {
     "name": "stdout",
     "output_type": "stream",
     "text": [
      "Epoch 40, Loss 0.0639\n",
      "Training Accuracy: 0.9359, Testing Accuracy: 0.9501\n",
      "\n"
     ]
    },
    {
     "name": "stdout",
     "output_type": "stream",
     "text": [
      "Epoch 50, Loss 0.0591\n",
      "Training Accuracy: 0.9402, Testing Accuracy: 0.9536\n",
      "\n"
     ]
    },
    {
     "name": "stdout",
     "output_type": "stream",
     "text": [
      "Epoch 60, Loss 0.0555\n",
      "Training Accuracy: 0.9432, Testing Accuracy: 0.9546\n",
      "\n"
     ]
    },
    {
     "name": "stdout",
     "output_type": "stream",
     "text": [
      "Epoch 70, Loss 0.0528\n",
      "Training Accuracy: 0.9467, Testing Accuracy: 0.9572\n",
      "\n"
     ]
    },
    {
     "name": "stdout",
     "output_type": "stream",
     "text": [
      "Epoch 80, Loss 0.0506\n",
      "Training Accuracy: 0.9485, Testing Accuracy: 0.9587\n",
      "\n"
     ]
    },
    {
     "name": "stdout",
     "output_type": "stream",
     "text": [
      "Epoch 90, Loss 0.0488\n",
      "Training Accuracy: 0.9503, Testing Accuracy: 0.9592\n",
      "\n"
     ]
    },
    {
     "name": "stdout",
     "output_type": "stream",
     "text": [
      "Epoch 100, Loss 0.0473\n",
      "Training Accuracy: 0.9518, Testing Accuracy: 0.9602\n",
      "\n"
     ]
    },
    {
     "name": "stdout",
     "output_type": "stream",
     "text": [
      "Epoch 110, Loss 0.046\n",
      "Training Accuracy: 0.9526, Testing Accuracy: 0.9612\n",
      "\n"
     ]
    },
    {
     "name": "stdout",
     "output_type": "stream",
     "text": [
      "Epoch 120, Loss 0.0448\n",
      "Training Accuracy: 0.9542, Testing Accuracy: 0.9617\n",
      "\n"
     ]
    },
    {
     "name": "stdout",
     "output_type": "stream",
     "text": [
      "Epoch 130, Loss 0.0438\n",
      "Training Accuracy: 0.9549, Testing Accuracy: 0.9617\n",
      "\n"
     ]
    },
    {
     "name": "stdout",
     "output_type": "stream",
     "text": [
      "Epoch 140, Loss 0.0429\n",
      "Training Accuracy: 0.9559, Testing Accuracy: 0.9627\n",
      "\n"
     ]
    },
    {
     "name": "stdout",
     "output_type": "stream",
     "text": [
      "Epoch 150, Loss 0.0421\n",
      "Training Accuracy: 0.9567, Testing Accuracy: 0.9637\n",
      "\n"
     ]
    },
    {
     "name": "stdout",
     "output_type": "stream",
     "text": [
      "Epoch 160, Loss 0.0414\n",
      "Training Accuracy: 0.9569, Testing Accuracy: 0.9642\n",
      "\n"
     ]
    },
    {
     "name": "stdout",
     "output_type": "stream",
     "text": [
      "Epoch 170, Loss 0.0408\n",
      "Training Accuracy: 0.9577, Testing Accuracy: 0.9647\n",
      "\n"
     ]
    },
    {
     "name": "stdout",
     "output_type": "stream",
     "text": [
      "Epoch 180, Loss 0.0402\n",
      "Training Accuracy: 0.9579, Testing Accuracy: 0.9647\n",
      "\n"
     ]
    },
    {
     "name": "stdout",
     "output_type": "stream",
     "text": [
      "Epoch 190, Loss 0.0396\n",
      "Training Accuracy: 0.9585, Testing Accuracy: 0.9647\n",
      "\n"
     ]
    },
    {
     "name": "stdout",
     "output_type": "stream",
     "text": [
      "Epoch 200, Loss 0.0391\n",
      "Training Accuracy: 0.9588, Testing Accuracy: 0.9642\n",
      "\n"
     ]
    },
    {
     "name": "stdout",
     "output_type": "stream",
     "text": [
      "Epoch 210, Loss 0.0387\n",
      "Training Accuracy: 0.9592, Testing Accuracy: 0.9647\n",
      "\n"
     ]
    },
    {
     "name": "stdout",
     "output_type": "stream",
     "text": [
      "Epoch 220, Loss 0.0382\n",
      "Training Accuracy: 0.9597, Testing Accuracy: 0.9652\n",
      "\n"
     ]
    },
    {
     "name": "stdout",
     "output_type": "stream",
     "text": [
      "Epoch 230, Loss 0.0378\n",
      "Training Accuracy: 0.9601, Testing Accuracy: 0.9652\n",
      "\n"
     ]
    },
    {
     "name": "stdout",
     "output_type": "stream",
     "text": [
      "Epoch 240, Loss 0.0374\n",
      "Training Accuracy: 0.9607, Testing Accuracy: 0.9652\n",
      "\n"
     ]
    },
    {
     "data": {
      "text/plain": [
       "0.0495511017793349"
      ]
     },
     "execution_count": 23,
     "metadata": {},
     "output_type": "execute_result"
    }
   ],
   "source": [
    "lr_learner.train_loop(dl)"
   ]
  },
  {
   "cell_type": "code",
   "execution_count": 24,
   "id": "ca410940",
   "metadata": {
    "execution": {
     "iopub.execute_input": "2021-12-26T20:11:38.366415Z",
     "iopub.status.busy": "2021-12-26T20:11:38.365764Z",
     "iopub.status.idle": "2021-12-26T20:11:38.648655Z",
     "shell.execute_reply": "2021-12-26T20:11:38.649289Z"
    },
    "papermill": {
     "duration": 0.342655,
     "end_time": "2021-12-26T20:11:38.649509",
     "exception": false,
     "start_time": "2021-12-26T20:11:38.306854",
     "status": "completed"
    },
    "tags": []
   },
   "outputs": [
    {
     "data": {
      "text/plain": [
       "<matplotlib.legend.Legend at 0x7f470718dc50>"
      ]
     },
     "execution_count": 24,
     "metadata": {},
     "output_type": "execute_result"
    },
    {
     "data": {
      "image/png": "[encoded data removed]",
      "text/plain": [
       "<Figure size 1080x720 with 1 Axes>"
      ]
     },
     "metadata": {
      "needs_background": "light"
     },
     "output_type": "display_data"
    }
   ],
   "source": [
    "#comparing the results of NN and LR\n",
    "plt.figure(figsize=(15,10))\n",
    "\n",
    "# Neural Network plots\n",
    "plt.plot(acc_nn.accuracies, 'r-', label = \"Training Accuracies - NN\")\n",
    "plt.plot(acc_nn.test_accuracies, 'g-', label = \"Testing Accuracies - NN\")\n",
    "\n",
    "# Logistic Regression plots\n",
    "plt.plot(acc_lr.accuracies, 'k-', label = \"Training Accuracies - LR\")\n",
    "plt.plot(acc_lr.test_accuracies, 'b-', label = \"Testing Accuracies - LR\")\n",
    "plt.legend()"
   ]
  },
  {
   "cell_type": "markdown",
   "id": "80dfb35c",
   "metadata": {
    "papermill": {
     "duration": 0.055844,
     "end_time": "2021-12-26T20:11:38.758489",
     "exception": false,
     "start_time": "2021-12-26T20:11:38.702645",
     "status": "completed"
    },
    "tags": []
   },
   "source": [
    "#### Plotting the outputs of this layer of the NN.\n"
   ]
  },
  {
   "cell_type": "code",
   "execution_count": 25,
   "id": "45eb2ff5",
   "metadata": {
    "execution": {
     "iopub.execute_input": "2021-12-26T20:11:38.874875Z",
     "iopub.status.busy": "2021-12-26T20:11:38.874171Z",
     "iopub.status.idle": "2021-12-26T20:11:38.903495Z",
     "shell.execute_reply": "2021-12-26T20:11:38.904036Z"
    },
    "papermill": {
     "duration": 0.089414,
     "end_time": "2021-12-26T20:11:38.904219",
     "exception": false,
     "start_time": "2021-12-26T20:11:38.814805",
     "status": "completed"
    },
    "tags": []
   },
   "outputs": [],
   "source": [
    "new_model = Model(layers[:-2])\n",
    "testing_plot = new_model(testing_data_x)"
   ]
  },
  {
   "cell_type": "code",
   "execution_count": 26,
   "id": "4c0a5485",
   "metadata": {
    "execution": {
     "iopub.execute_input": "2021-12-26T20:11:39.028874Z",
     "iopub.status.busy": "2021-12-26T20:11:39.027929Z",
     "iopub.status.idle": "2021-12-26T20:11:39.277885Z",
     "shell.execute_reply": "2021-12-26T20:11:39.278452Z"
    },
    "papermill": {
     "duration": 0.315369,
     "end_time": "2021-12-26T20:11:39.278611",
     "exception": false,
     "start_time": "2021-12-26T20:11:38.963242",
     "status": "completed"
    },
    "tags": []
   },
   "outputs": [
    {
     "data": {
      "text/plain": [
       "Text(0.5, 1.0, 'Outputs')"
      ]
     },
     "execution_count": 26,
     "metadata": {},
     "output_type": "execute_result"
    },
    {
     "data": {
      "image/png": "[encoded data removed]",
      "text/plain": [
       "<Figure size 576x504 with 1 Axes>"
      ]
     },
     "metadata": {
      "needs_background": "light"
     },
     "output_type": "display_data"
    }
   ],
   "source": [
    "# Plotting the scatter plot of points and color coding by class\n",
    "plt.figure(figsize=(8,7))\n",
    "plt.scatter(testing_plot[:,0], testing_plot[:,1], alpha = 0.1, c = y_test.ravel());\n",
    "plt.title('Outputs')"
   ]
  },
  {
   "cell_type": "markdown",
   "id": "a74fcf8f",
   "metadata": {
    "papermill": {
     "duration": 0.058297,
     "end_time": "2021-12-26T20:11:39.396309",
     "exception": false,
     "start_time": "2021-12-26T20:11:39.338012",
     "status": "completed"
    },
    "tags": []
   },
   "source": [
    "Probability contours"
   ]
  },
  {
   "cell_type": "code",
   "execution_count": 27,
   "id": "d0afc8e3",
   "metadata": {
    "execution": {
     "iopub.execute_input": "2021-12-26T20:11:39.538694Z",
     "iopub.status.busy": "2021-12-26T20:11:39.538003Z",
     "iopub.status.idle": "2021-12-26T20:11:39.551166Z",
     "shell.execute_reply": "2021-12-26T20:11:39.550373Z"
    },
    "papermill": {
     "duration": 0.075232,
     "end_time": "2021-12-26T20:11:39.551290",
     "exception": false,
     "start_time": "2021-12-26T20:11:39.476058",
     "status": "completed"
    },
    "tags": []
   },
   "outputs": [],
   "source": [
    "model_prob = Model(layers[-2:]) "
   ]
  },
  {
   "cell_type": "code",
   "execution_count": 28,
   "id": "9b96e238",
   "metadata": {
    "execution": {
     "iopub.execute_input": "2021-12-26T20:11:39.683543Z",
     "iopub.status.busy": "2021-12-26T20:11:39.682844Z",
     "iopub.status.idle": "2021-12-26T20:11:39.698046Z",
     "shell.execute_reply": "2021-12-26T20:11:39.698584Z"
    },
    "papermill": {
     "duration": 0.087174,
     "end_time": "2021-12-26T20:11:39.698763",
     "exception": false,
     "start_time": "2021-12-26T20:11:39.611589",
     "status": "completed"
    },
    "tags": []
   },
   "outputs": [],
   "source": [
    "#creating the x and y ranges according to the above generated plot.\n",
    "x_range = np.linspace(-4, 1, 100) \n",
    "y_range = np.linspace(-6, 6, 100) \n",
    "x_grid, y_grid = np.meshgrid(x_range, y_range) # x_grid and y_grig are of size 100 X 100\n",
    "\n",
    "# converting x_grid and y_grid to continuous arrays\n",
    "x_gridflat = np.ravel(x_grid)\n",
    "y_gridflat = np.ravel(y_grid)\n",
    "\n",
    "# The last layer of the current model takes two columns as input. Hence transpose of np.vstack() is required.\n",
    "X = np.vstack((x_gridflat, y_gridflat)).T\n",
    "\n",
    "prob_contour = model_prob(X).reshape(100,100) "
   ]
  },
  {
   "cell_type": "code",
   "execution_count": 29,
   "id": "da72499a",
   "metadata": {
    "execution": {
     "iopub.execute_input": "2021-12-26T20:11:39.821227Z",
     "iopub.status.busy": "2021-12-26T20:11:39.820409Z",
     "iopub.status.idle": "2021-12-26T20:11:40.159561Z",
     "shell.execute_reply": "2021-12-26T20:11:40.159052Z"
    },
    "papermill": {
     "duration": 0.400567,
     "end_time": "2021-12-26T20:11:40.159689",
     "exception": false,
     "start_time": "2021-12-26T20:11:39.759122",
     "status": "completed"
    },
    "tags": []
   },
   "outputs": [
    {
     "data": {
      "image/png": "[encoded data removed]",
      "text/plain": [
       "<Figure size 720x648 with 1 Axes>"
      ]
     },
     "metadata": {
      "needs_background": "light"
     },
     "output_type": "display_data"
    }
   ],
   "source": [
    "plt.figure(figsize=(10,9))\n",
    "plt.scatter(testing_plot[:,0], testing_plot[:,1], alpha = 0.1, c = y_test.ravel())\n",
    "contours = plt.contour(x_grid,y_grid,prob_contour)\n",
    "plt.title('Probability Contours')\n",
    "plt.clabel(contours, inline = True );"
   ]
  },
  {
   "cell_type": "code",
   "execution_count": null,
   "id": "e81b4ac7",
   "metadata": {
    "papermill": {
     "duration": 0.064828,
     "end_time": "2021-12-26T20:11:40.281959",
     "exception": false,
     "start_time": "2021-12-26T20:11:40.217131",
     "status": "completed"
    },
    "tags": []
   },
   "outputs": [],
   "source": []
  }
 ],
 "metadata": {
  "kernelspec": {
   "display_name": "Python 3",
   "language": "python",
   "name": "python3"
  },
  "language_info": {
   "codemirror_mode": {
    "name": "ipython",
    "version": 3
   },
   "file_extension": ".py",
   "mimetype": "text/x-python",
   "name": "python",
   "nbconvert_exporter": "python",
   "pygments_lexer": "ipython3",
   "version": "3.6.15"
  },
  "papermill": {
   "default_parameters": {},
   "duration": 181.749443,
   "end_time": "2021-12-26T20:11:40.759067",
   "environment_variables": {},
   "exception": null,
   "input_path": "2020-08-11-part2.ipynb",
   "output_path": "2020-08-11-part2.ipynb",
   "parameters": {},
   "start_time": "2021-12-26T20:08:39.009624",
   "version": "2.3.3"
  }
 },
 "nbformat": 4,
 "nbformat_minor": 5
}