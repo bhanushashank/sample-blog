{
 "cells": [
  {
   "cell_type": "markdown",
   "id": "98380cd3",
   "metadata": {
    "papermill": {
     "duration": 0.028465,
     "end_time": "2022-01-28T10:08:51.689493",
     "exception": false,
     "start_time": "2022-01-28T10:08:51.661028",
     "status": "completed"
    },
    "tags": []
   },
   "source": [
    "# Distinguish Your Own Digits (DYOD)"
   ]
  },
  {
   "cell_type": "markdown",
   "id": "ef31240d",
   "metadata": {
    "papermill": {
     "duration": 0.024725,
     "end_time": "2022-01-28T10:08:51.739931",
     "exception": false,
     "start_time": "2022-01-28T10:08:51.715206",
     "status": "completed"
    },
    "tags": []
   },
   "source": [
    "You are going to write a classifier that distinguishes between the number 3 and number 8."
   ]
  },
  {
   "cell_type": "code",
   "execution_count": 1,
   "id": "b15c8646",
   "metadata": {
    "execution": {
     "iopub.execute_input": "2022-01-28T10:08:51.800893Z",
     "iopub.status.busy": "2022-01-28T10:08:51.800328Z",
     "iopub.status.idle": "2022-01-28T10:08:51.811171Z",
     "shell.execute_reply": "2022-01-28T10:08:51.810717Z"
    },
    "papermill": {
     "duration": 0.047162,
     "end_time": "2022-01-28T10:08:51.811321",
     "exception": false,
     "start_time": "2022-01-28T10:08:51.764159",
     "status": "completed"
    },
    "tags": []
   },
   "outputs": [],
   "source": [
    "%load_ext autoreload\n",
    "%autoreload 2"
   ]
  },
  {
   "cell_type": "code",
   "execution_count": 2,
   "id": "22ef38dc",
   "metadata": {
    "execution": {
     "iopub.execute_input": "2022-01-28T10:08:51.866928Z",
     "iopub.status.busy": "2022-01-28T10:08:51.866360Z",
     "iopub.status.idle": "2022-01-28T10:08:52.503380Z",
     "shell.execute_reply": "2022-01-28T10:08:52.502847Z"
    },
    "papermill": {
     "duration": 0.667675,
     "end_time": "2022-01-28T10:08:52.503531",
     "exception": false,
     "start_time": "2022-01-28T10:08:51.835856",
     "status": "completed"
    },
    "tags": []
   },
   "outputs": [],
   "source": [
    "%matplotlib inline\n",
    "import numpy as np\n",
    "import matplotlib.pyplot as plt\n",
    "import pandas as pd"
   ]
  },
  {
   "cell_type": "markdown",
   "id": "ba036198",
   "metadata": {
    "papermill": {
     "duration": 0.024195,
     "end_time": "2022-01-28T10:08:52.552792",
     "exception": false,
     "start_time": "2022-01-28T10:08:52.528597",
     "status": "completed"
    },
    "tags": []
   },
   "source": [
    "From the command line run `pip install mnist`. This is a library that will help you bring down the mnist dataset. If you run this from a notebook, you need to put  `!pip install mnist` in a cell by itself."
   ]
  },
  {
   "cell_type": "code",
   "execution_count": 3,
   "id": "bb6ad8a1",
   "metadata": {
    "execution": {
     "iopub.execute_input": "2022-01-28T10:08:52.607294Z",
     "iopub.status.busy": "2022-01-28T10:08:52.606750Z",
     "iopub.status.idle": "2022-01-28T10:08:54.448022Z",
     "shell.execute_reply": "2022-01-28T10:08:54.447017Z"
    },
    "papermill": {
     "duration": 1.871003,
     "end_time": "2022-01-28T10:08:54.448169",
     "exception": false,
     "start_time": "2022-01-28T10:08:52.577166",
     "status": "completed"
    },
    "tags": []
   },
   "outputs": [
    {
     "name": "stdout",
     "output_type": "stream",
     "text": [
      "Collecting mnist\r\n"
     ]
    },
    {
     "name": "stdout",
     "output_type": "stream",
     "text": [
      "  Downloading mnist-0.2.2-py2.py3-none-any.whl (3.5 kB)\r\n",
      "Requirement already satisfied: numpy in /opt/hostedtoolcache/Python/3.6.15/x64/lib/python3.6/site-packages (from mnist) (1.19.5)\r\n"
     ]
    },
    {
     "name": "stdout",
     "output_type": "stream",
     "text": [
      "Installing collected packages: mnist\r\n"
     ]
    },
    {
     "name": "stdout",
     "output_type": "stream",
     "text": [
      "Successfully installed mnist-0.2.2\r\n"
     ]
    }
   ],
   "source": [
    "!pip install mnist"
   ]
  },
  {
   "cell_type": "markdown",
   "id": "69df9c9a",
   "metadata": {
    "papermill": {
     "duration": 0.025775,
     "end_time": "2022-01-28T10:08:54.499683",
     "exception": false,
     "start_time": "2022-01-28T10:08:54.473908",
     "status": "completed"
    },
    "tags": []
   },
   "source": [
    "## Preparing the Data"
   ]
  },
  {
   "cell_type": "code",
   "execution_count": 4,
   "id": "7f69d806",
   "metadata": {
    "execution": {
     "iopub.execute_input": "2022-01-28T10:08:54.558590Z",
     "iopub.status.busy": "2022-01-28T10:08:54.554132Z",
     "iopub.status.idle": "2022-01-28T10:08:54.568644Z",
     "shell.execute_reply": "2022-01-28T10:08:54.569082Z"
    },
    "papermill": {
     "duration": 0.044337,
     "end_time": "2022-01-28T10:08:54.569257",
     "exception": false,
     "start_time": "2022-01-28T10:08:54.524920",
     "status": "completed"
    },
    "tags": []
   },
   "outputs": [],
   "source": [
    "import mnist"
   ]
  },
  {
   "cell_type": "code",
   "execution_count": 5,
   "id": "a411e44f",
   "metadata": {
    "execution": {
     "iopub.execute_input": "2022-01-28T10:08:54.637238Z",
     "iopub.status.busy": "2022-01-28T10:08:54.630113Z",
     "iopub.status.idle": "2022-01-28T10:08:55.266077Z",
     "shell.execute_reply": "2022-01-28T10:08:55.265516Z"
    },
    "papermill": {
     "duration": 0.671322,
     "end_time": "2022-01-28T10:08:55.266236",
     "exception": false,
     "start_time": "2022-01-28T10:08:54.594914",
     "status": "completed"
    },
    "tags": []
   },
   "outputs": [],
   "source": [
    "train_images = mnist.train_images()\n",
    "train_labels = mnist.train_labels()"
   ]
  },
  {
   "cell_type": "code",
   "execution_count": 6,
   "id": "dceab3a5",
   "metadata": {
    "execution": {
     "iopub.execute_input": "2022-01-28T10:08:55.322304Z",
     "iopub.status.busy": "2022-01-28T10:08:55.321725Z",
     "iopub.status.idle": "2022-01-28T10:08:55.336668Z",
     "shell.execute_reply": "2022-01-28T10:08:55.337069Z"
    },
    "papermill": {
     "duration": 0.044782,
     "end_time": "2022-01-28T10:08:55.337233",
     "exception": false,
     "start_time": "2022-01-28T10:08:55.292451",
     "status": "completed"
    },
    "tags": []
   },
   "outputs": [
    {
     "data": {
      "text/plain": [
       "((60000, 28, 28), (60000,))"
      ]
     },
     "execution_count": 6,
     "metadata": {},
     "output_type": "execute_result"
    }
   ],
   "source": [
    "train_images.shape, train_labels.shape"
   ]
  },
  {
   "cell_type": "code",
   "execution_count": 7,
   "id": "f50dc2bb",
   "metadata": {
    "execution": {
     "iopub.execute_input": "2022-01-28T10:08:55.398208Z",
     "iopub.status.busy": "2022-01-28T10:08:55.397288Z",
     "iopub.status.idle": "2022-01-28T10:08:55.631548Z",
     "shell.execute_reply": "2022-01-28T10:08:55.631007Z"
    },
    "papermill": {
     "duration": 0.268923,
     "end_time": "2022-01-28T10:08:55.631706",
     "exception": false,
     "start_time": "2022-01-28T10:08:55.362783",
     "status": "completed"
    },
    "tags": []
   },
   "outputs": [],
   "source": [
    "test_images = mnist.test_images()\n",
    "test_labels = mnist.test_labels()"
   ]
  },
  {
   "cell_type": "code",
   "execution_count": 8,
   "id": "fc38cf1b",
   "metadata": {
    "execution": {
     "iopub.execute_input": "2022-01-28T10:08:55.691497Z",
     "iopub.status.busy": "2022-01-28T10:08:55.690947Z",
     "iopub.status.idle": "2022-01-28T10:08:55.703024Z",
     "shell.execute_reply": "2022-01-28T10:08:55.703520Z"
    },
    "papermill": {
     "duration": 0.045,
     "end_time": "2022-01-28T10:08:55.703670",
     "exception": false,
     "start_time": "2022-01-28T10:08:55.658670",
     "status": "completed"
    },
    "tags": []
   },
   "outputs": [
    {
     "data": {
      "text/plain": [
       "((10000, 28, 28), (10000,))"
      ]
     },
     "execution_count": 8,
     "metadata": {},
     "output_type": "execute_result"
    }
   ],
   "source": [
    "test_images.shape, test_labels.shape"
   ]
  },
  {
   "cell_type": "code",
   "execution_count": 9,
   "id": "f9ed8fe0",
   "metadata": {
    "execution": {
     "iopub.execute_input": "2022-01-28T10:08:55.764560Z",
     "iopub.status.busy": "2022-01-28T10:08:55.764001Z",
     "iopub.status.idle": "2022-01-28T10:08:55.902287Z",
     "shell.execute_reply": "2022-01-28T10:08:55.902770Z"
    },
    "papermill": {
     "duration": 0.173062,
     "end_time": "2022-01-28T10:08:55.902937",
     "exception": false,
     "start_time": "2022-01-28T10:08:55.729875",
     "status": "completed"
    },
    "tags": []
   },
   "outputs": [
    {
     "name": "stdout",
     "output_type": "stream",
     "text": [
      "2\n"
     ]
    },
    {
     "data": {
      "text/plain": [
       "<matplotlib.image.AxesImage at 0x7f9fa5f27c18>"
      ]
     },
     "execution_count": 9,
     "metadata": {},
     "output_type": "execute_result"
    },
    {
     "data": {
      "image/png": "[encoded data removed]",
      "text/plain": [
       "<Figure size 432x288 with 1 Axes>"
      ]
     },
     "metadata": {
      "needs_background": "light"
     },
     "output_type": "display_data"
    }
   ],
   "source": [
    "image_index = 7776 # You may select anything up to 60,000\n",
    "print(train_labels[image_index]) \n",
    "plt.imshow(train_images[image_index], cmap='Greys')"
   ]
  },
  {
   "cell_type": "markdown",
   "id": "a8d2388d",
   "metadata": {
    "papermill": {
     "duration": 0.027243,
     "end_time": "2022-01-28T10:08:55.957729",
     "exception": false,
     "start_time": "2022-01-28T10:08:55.930486",
     "status": "completed"
    },
    "tags": []
   },
   "source": [
    "## Filter data to get 3 and 8 out"
   ]
  },
  {
   "cell_type": "code",
   "execution_count": 10,
   "id": "776f7fc7",
   "metadata": {
    "execution": {
     "iopub.execute_input": "2022-01-28T10:08:56.016895Z",
     "iopub.status.busy": "2022-01-28T10:08:56.016324Z",
     "iopub.status.idle": "2022-01-28T10:08:56.035820Z",
     "shell.execute_reply": "2022-01-28T10:08:56.035367Z"
    },
    "papermill": {
     "duration": 0.051178,
     "end_time": "2022-01-28T10:08:56.035954",
     "exception": false,
     "start_time": "2022-01-28T10:08:55.984776",
     "status": "completed"
    },
    "tags": []
   },
   "outputs": [],
   "source": [
    "train_filter = np.where((train_labels == 3 ) | (train_labels == 8))\n",
    "test_filter = np.where((test_labels == 3) | (test_labels == 8))\n",
    "X_train, y_train = train_images[train_filter], train_labels[train_filter]\n",
    "X_test, y_test = test_images[test_filter], test_labels[test_filter]"
   ]
  },
  {
   "cell_type": "markdown",
   "id": "948f0b7e",
   "metadata": {
    "papermill": {
     "duration": 0.027046,
     "end_time": "2022-01-28T10:08:56.090226",
     "exception": false,
     "start_time": "2022-01-28T10:08:56.063180",
     "status": "completed"
    },
    "tags": []
   },
   "source": [
    "We normalize the pizel values in the 0 to 1 range"
   ]
  },
  {
   "cell_type": "code",
   "execution_count": 11,
   "id": "ee4c2166",
   "metadata": {
    "execution": {
     "iopub.execute_input": "2022-01-28T10:08:56.150934Z",
     "iopub.status.busy": "2022-01-28T10:08:56.150378Z",
     "iopub.status.idle": "2022-01-28T10:08:56.197443Z",
     "shell.execute_reply": "2022-01-28T10:08:56.197919Z"
    },
    "papermill": {
     "duration": 0.080925,
     "end_time": "2022-01-28T10:08:56.198082",
     "exception": false,
     "start_time": "2022-01-28T10:08:56.117157",
     "status": "completed"
    },
    "tags": []
   },
   "outputs": [],
   "source": [
    "X_train = X_train/255.\n",
    "X_test = X_test/255."
   ]
  },
  {
   "cell_type": "markdown",
   "id": "ddcf4fab",
   "metadata": {
    "papermill": {
     "duration": 0.027161,
     "end_time": "2022-01-28T10:08:56.252353",
     "exception": false,
     "start_time": "2022-01-28T10:08:56.225192",
     "status": "completed"
    },
    "tags": []
   },
   "source": [
    "And setup the labels as 1 (when the digit is 3) and 0 (when the digit is 8)"
   ]
  },
  {
   "cell_type": "code",
   "execution_count": 12,
   "id": "7dc908f2",
   "metadata": {
    "execution": {
     "iopub.execute_input": "2022-01-28T10:08:56.318849Z",
     "iopub.status.busy": "2022-01-28T10:08:56.318284Z",
     "iopub.status.idle": "2022-01-28T10:08:56.323087Z",
     "shell.execute_reply": "2022-01-28T10:08:56.323957Z"
    },
    "papermill": {
     "duration": 0.044846,
     "end_time": "2022-01-28T10:08:56.324122",
     "exception": false,
     "start_time": "2022-01-28T10:08:56.279276",
     "status": "completed"
    },
    "tags": []
   },
   "outputs": [],
   "source": [
    "y_train = 1*(y_train==3)\n",
    "y_test = 1*(y_test==3)"
   ]
  },
  {
   "cell_type": "code",
   "execution_count": 13,
   "id": "01e4e969",
   "metadata": {
    "execution": {
     "iopub.execute_input": "2022-01-28T10:08:56.386247Z",
     "iopub.status.busy": "2022-01-28T10:08:56.381786Z",
     "iopub.status.idle": "2022-01-28T10:08:56.396540Z",
     "shell.execute_reply": "2022-01-28T10:08:56.396107Z"
    },
    "papermill": {
     "duration": 0.045366,
     "end_time": "2022-01-28T10:08:56.396667",
     "exception": false,
     "start_time": "2022-01-28T10:08:56.351301",
     "status": "completed"
    },
    "tags": []
   },
   "outputs": [
    {
     "data": {
      "text/plain": [
       "((11982, 28, 28), (1984, 28, 28))"
      ]
     },
     "execution_count": 13,
     "metadata": {},
     "output_type": "execute_result"
    }
   ],
   "source": [
    "X_train.shape, X_test.shape"
   ]
  },
  {
   "cell_type": "markdown",
   "id": "5ccf3f85",
   "metadata": {
    "papermill": {
     "duration": 0.027138,
     "end_time": "2022-01-28T10:08:56.451280",
     "exception": false,
     "start_time": "2022-01-28T10:08:56.424142",
     "status": "completed"
    },
    "tags": []
   },
   "source": [
    "We reshape the data to flatten the image pixels into a set of features or co-variates:"
   ]
  },
  {
   "cell_type": "code",
   "execution_count": 14,
   "id": "5286a4a3",
   "metadata": {
    "execution": {
     "iopub.execute_input": "2022-01-28T10:08:56.514879Z",
     "iopub.status.busy": "2022-01-28T10:08:56.514328Z",
     "iopub.status.idle": "2022-01-28T10:08:56.525593Z",
     "shell.execute_reply": "2022-01-28T10:08:56.525985Z"
    },
    "papermill": {
     "duration": 0.047426,
     "end_time": "2022-01-28T10:08:56.526134",
     "exception": false,
     "start_time": "2022-01-28T10:08:56.478708",
     "status": "completed"
    },
    "tags": []
   },
   "outputs": [
    {
     "data": {
      "text/plain": [
       "((11982, 784), (1984, 784))"
      ]
     },
     "execution_count": 14,
     "metadata": {},
     "output_type": "execute_result"
    }
   ],
   "source": [
    "X_train = X_train.reshape(X_train.shape[0], -1)\n",
    "X_test = X_test.reshape(X_test.shape[0], -1)\n",
    "X_train.shape, X_test.shape"
   ]
  },
  {
   "cell_type": "code",
   "execution_count": 15,
   "id": "73c5f88a",
   "metadata": {
    "execution": {
     "iopub.execute_input": "2022-01-28T10:08:56.598550Z",
     "iopub.status.busy": "2022-01-28T10:08:56.596095Z",
     "iopub.status.idle": "2022-01-28T10:08:56.609789Z",
     "shell.execute_reply": "2022-01-28T10:08:56.609274Z"
    },
    "papermill": {
     "duration": 0.056206,
     "end_time": "2022-01-28T10:08:56.609932",
     "exception": false,
     "start_time": "2022-01-28T10:08:56.553726",
     "status": "completed"
    },
    "tags": []
   },
   "outputs": [],
   "source": [
    "#Impoting functions from 'Kudzu'\n",
    "from kudzu.model import Model\n",
    "from kudzu.train import Learner\n",
    "from kudzu.optim import GD\n",
    "from kudzu.data import Data, Sampler,Dataloader\n",
    "\n",
    "from kudzu.callbacks import AccCallback\n",
    "from kudzu.callbacks import ClfCallback\n",
    "\n",
    "from kudzu.loss import MSE\n",
    "\n",
    "from kudzu.layer import Sigmoid,Relu\n",
    "from kudzu.layer import Affine"
   ]
  },
  {
   "cell_type": "markdown",
   "id": "bc01172a",
   "metadata": {
    "papermill": {
     "duration": 0.027397,
     "end_time": "2022-01-28T10:08:56.665068",
     "exception": false,
     "start_time": "2022-01-28T10:08:56.637671",
     "status": "completed"
    },
    "tags": []
   },
   "source": [
    "### Let us create a `Config` class, to store important parameters. \n",
    "This class essentially plays the role of a dictionary."
   ]
  },
  {
   "cell_type": "code",
   "execution_count": 16,
   "id": "978281aa",
   "metadata": {
    "execution": {
     "iopub.execute_input": "2022-01-28T10:08:56.729493Z",
     "iopub.status.busy": "2022-01-28T10:08:56.728898Z",
     "iopub.status.idle": "2022-01-28T10:08:56.739601Z",
     "shell.execute_reply": "2022-01-28T10:08:56.739140Z"
    },
    "papermill": {
     "duration": 0.047189,
     "end_time": "2022-01-28T10:08:56.739743",
     "exception": false,
     "start_time": "2022-01-28T10:08:56.692554",
     "status": "completed"
    },
    "tags": []
   },
   "outputs": [],
   "source": [
    "class Config:\n",
    "    pass\n",
    "config = Config()\n",
    "config.lr = 0.001\n",
    "config.num_epochs = 250\n",
    "config.bs = 50"
   ]
  },
  {
   "cell_type": "markdown",
   "id": "1385fa59",
   "metadata": {
    "papermill": {
     "duration": 0.027389,
     "end_time": "2022-01-28T10:08:56.794737",
     "exception": false,
     "start_time": "2022-01-28T10:08:56.767348",
     "status": "completed"
    },
    "tags": []
   },
   "source": [
    "### Running Models with the Training data\n",
    "Details about the network layers:\n",
    "- A first affine layer has 784 inputs and does 100 affine transforms. These are followed by a Relu\n",
    "- A second affine layer has 100 inputs from the 100 activations of the past layer, and does 100 affine transforms. These are followed by a Relu\n",
    "- A third affine layer has 100 activations and does 2 affine transformations to create an embedding for visualization. There is no non-linearity here.\n",
    "- A final \"logistic regression\" which has an affine transform from 2 inputs to 1 output, which is squeezed through a sigmoid.\n"
   ]
  },
  {
   "cell_type": "code",
   "execution_count": 17,
   "id": "2b9c66db",
   "metadata": {
    "execution": {
     "iopub.execute_input": "2022-01-28T10:08:56.862476Z",
     "iopub.status.busy": "2022-01-28T10:08:56.859855Z",
     "iopub.status.idle": "2022-01-28T10:08:56.869669Z",
     "shell.execute_reply": "2022-01-28T10:08:56.869162Z"
    },
    "papermill": {
     "duration": 0.047576,
     "end_time": "2022-01-28T10:08:56.869797",
     "exception": false,
     "start_time": "2022-01-28T10:08:56.822221",
     "status": "completed"
    },
    "tags": []
   },
   "outputs": [],
   "source": [
    "data = Data(X_train, y_train.reshape(-1,1))\n",
    "sampler = Sampler(data, config.bs, shuffle=True)\n",
    "\n",
    "dl = Dataloader(data, sampler)\n",
    "\n",
    "opt = GD(config.lr)\n",
    "loss = MSE()"
   ]
  },
  {
   "cell_type": "code",
   "execution_count": 18,
   "id": "b275e4c2",
   "metadata": {
    "execution": {
     "iopub.execute_input": "2022-01-28T10:08:56.931340Z",
     "iopub.status.busy": "2022-01-28T10:08:56.930776Z",
     "iopub.status.idle": "2022-01-28T10:08:56.942606Z",
     "shell.execute_reply": "2022-01-28T10:08:56.942159Z"
    },
    "papermill": {
     "duration": 0.045184,
     "end_time": "2022-01-28T10:08:56.942739",
     "exception": false,
     "start_time": "2022-01-28T10:08:56.897555",
     "status": "completed"
    },
    "tags": []
   },
   "outputs": [],
   "source": [
    "training_data_x = X_train\n",
    "testing_data_x = X_test\n",
    "training_data_y = y_train.reshape(-1,1)\n",
    "testing_data_y = y_test.reshape(-1,1)"
   ]
  },
  {
   "cell_type": "code",
   "execution_count": 19,
   "id": "76951160",
   "metadata": {
    "execution": {
     "iopub.execute_input": "2022-01-28T10:08:57.002566Z",
     "iopub.status.busy": "2022-01-28T10:08:57.001988Z",
     "iopub.status.idle": "2022-01-28T10:08:57.018648Z",
     "shell.execute_reply": "2022-01-28T10:08:57.018208Z"
    },
    "papermill": {
     "duration": 0.04859,
     "end_time": "2022-01-28T10:08:57.018776",
     "exception": false,
     "start_time": "2022-01-28T10:08:56.970186",
     "status": "completed"
    },
    "tags": []
   },
   "outputs": [
    {
     "name": "stdout",
     "output_type": "stream",
     "text": [
      "xavier\n",
      "xavier\n",
      "xavier\n",
      "xavier\n",
      "xavier\n"
     ]
    }
   ],
   "source": [
    "layers = [Affine(\"first\", 784, 100), Relu(\"first\"), Affine(\"second\", 100, 100), Relu(\"second\"), Affine(\"third\", 100, 2), Affine(\"last\", 2, 1), Sigmoid(\"last\")]\n",
    "model_nn = Model(layers)\n",
    "model_lr = Model([Affine(\"logits\", 784, 1), Sigmoid(\"sigmoid\")])"
   ]
  },
  {
   "cell_type": "code",
   "execution_count": 20,
   "id": "6eede77a",
   "metadata": {
    "execution": {
     "iopub.execute_input": "2022-01-28T10:08:57.093357Z",
     "iopub.status.busy": "2022-01-28T10:08:57.089661Z",
     "iopub.status.idle": "2022-01-28T10:08:57.095856Z",
     "shell.execute_reply": "2022-01-28T10:08:57.095395Z"
    },
    "papermill": {
     "duration": 0.049289,
     "end_time": "2022-01-28T10:08:57.095983",
     "exception": false,
     "start_time": "2022-01-28T10:08:57.046694",
     "status": "completed"
    },
    "tags": []
   },
   "outputs": [],
   "source": [
    "nn_learner = Learner(loss, model_nn, opt, config.num_epochs)\n",
    "acc_nn = ClfCallback(nn_learner, config.bs, training_data_x , testing_data_x, training_data_y, testing_data_y)\n",
    "nn_learner.set_callbacks([acc_nn])"
   ]
  },
  {
   "cell_type": "code",
   "execution_count": 21,
   "id": "877b6cc7",
   "metadata": {
    "execution": {
     "iopub.execute_input": "2022-01-28T10:08:57.156093Z",
     "iopub.status.busy": "2022-01-28T10:08:57.155541Z",
     "iopub.status.idle": "2022-01-28T10:08:57.168725Z",
     "shell.execute_reply": "2022-01-28T10:08:57.168266Z"
    },
    "papermill": {
     "duration": 0.045047,
     "end_time": "2022-01-28T10:08:57.168864",
     "exception": false,
     "start_time": "2022-01-28T10:08:57.123817",
     "status": "completed"
    },
    "tags": []
   },
   "outputs": [],
   "source": [
    "lr_learner = Learner(loss, model_lr, opt, config.num_epochs)\n",
    "acc_lr = ClfCallback(lr_learner, config.bs, training_data_x , testing_data_x, training_data_y, testing_data_y)\n",
    "lr_learner.set_callbacks([acc_lr])"
   ]
  },
  {
   "cell_type": "code",
   "execution_count": 22,
   "id": "d9b133c3",
   "metadata": {
    "execution": {
     "iopub.execute_input": "2022-01-28T10:08:57.228661Z",
     "iopub.status.busy": "2022-01-28T10:08:57.228127Z",
     "iopub.status.idle": "2022-01-28T10:10:19.061174Z",
     "shell.execute_reply": "2022-01-28T10:10:19.062049Z"
    },
    "papermill": {
     "duration": 81.865464,
     "end_time": "2022-01-28T10:10:19.062216",
     "exception": false,
     "start_time": "2022-01-28T10:08:57.196752",
     "status": "completed"
    },
    "tags": []
   },
   "outputs": [
    {
     "name": "stdout",
     "output_type": "stream",
     "text": [
      "Epoch 0, Loss 0.2249\n",
      "Training Accuracy: 0.7915, Testing Accuracy: 0.8090\n",
      "\n"
     ]
    },
    {
     "name": "stdout",
     "output_type": "stream",
     "text": [
      "Epoch 10, Loss 0.0689\n",
      "Training Accuracy: 0.9367, Testing Accuracy: 0.9486\n",
      "\n"
     ]
    },
    {
     "name": "stdout",
     "output_type": "stream",
     "text": [
      "Epoch 20, Loss 0.0464\n",
      "Training Accuracy: 0.9520, Testing Accuracy: 0.9627\n",
      "\n"
     ]
    },
    {
     "name": "stdout",
     "output_type": "stream",
     "text": [
      "Epoch 30, Loss 0.0384\n",
      "Training Accuracy: 0.9591, Testing Accuracy: 0.9682\n",
      "\n"
     ]
    },
    {
     "name": "stdout",
     "output_type": "stream",
     "text": [
      "Epoch 40, Loss 0.0341\n",
      "Training Accuracy: 0.9623, Testing Accuracy: 0.9698\n",
      "\n"
     ]
    },
    {
     "name": "stdout",
     "output_type": "stream",
     "text": [
      "Epoch 50, Loss 0.0314\n",
      "Training Accuracy: 0.9648, Testing Accuracy: 0.9698\n",
      "\n"
     ]
    },
    {
     "name": "stdout",
     "output_type": "stream",
     "text": [
      "Epoch 60, Loss 0.0294\n",
      "Training Accuracy: 0.9680, Testing Accuracy: 0.9703\n",
      "\n"
     ]
    },
    {
     "name": "stdout",
     "output_type": "stream",
     "text": [
      "Epoch 70, Loss 0.0278\n",
      "Training Accuracy: 0.9700, Testing Accuracy: 0.9708\n",
      "\n"
     ]
    },
    {
     "name": "stdout",
     "output_type": "stream",
     "text": [
      "Epoch 80, Loss 0.0265\n",
      "Training Accuracy: 0.9712, Testing Accuracy: 0.9708\n",
      "\n"
     ]
    },
    {
     "name": "stdout",
     "output_type": "stream",
     "text": [
      "Epoch 90, Loss 0.0254\n",
      "Training Accuracy: 0.9725, Testing Accuracy: 0.9708\n",
      "\n"
     ]
    },
    {
     "name": "stdout",
     "output_type": "stream",
     "text": [
      "Epoch 100, Loss 0.0244\n",
      "Training Accuracy: 0.9735, Testing Accuracy: 0.9718\n",
      "\n"
     ]
    },
    {
     "name": "stdout",
     "output_type": "stream",
     "text": [
      "Epoch 110, Loss 0.0236\n",
      "Training Accuracy: 0.9744, Testing Accuracy: 0.9718\n",
      "\n"
     ]
    },
    {
     "name": "stdout",
     "output_type": "stream",
     "text": [
      "Epoch 120, Loss 0.0228\n",
      "Training Accuracy: 0.9753, Testing Accuracy: 0.9723\n",
      "\n"
     ]
    },
    {
     "name": "stdout",
     "output_type": "stream",
     "text": [
      "Epoch 130, Loss 0.0222\n",
      "Training Accuracy: 0.9760, Testing Accuracy: 0.9723\n",
      "\n"
     ]
    },
    {
     "name": "stdout",
     "output_type": "stream",
     "text": [
      "Epoch 140, Loss 0.0215\n",
      "Training Accuracy: 0.9764, Testing Accuracy: 0.9728\n",
      "\n"
     ]
    },
    {
     "name": "stdout",
     "output_type": "stream",
     "text": [
      "Epoch 150, Loss 0.021\n",
      "Training Accuracy: 0.9768, Testing Accuracy: 0.9738\n",
      "\n"
     ]
    },
    {
     "name": "stdout",
     "output_type": "stream",
     "text": [
      "Epoch 160, Loss 0.0204\n",
      "Training Accuracy: 0.9771, Testing Accuracy: 0.9753\n",
      "\n"
     ]
    },
    {
     "name": "stdout",
     "output_type": "stream",
     "text": [
      "Epoch 170, Loss 0.0199\n",
      "Training Accuracy: 0.9782, Testing Accuracy: 0.9753\n",
      "\n"
     ]
    },
    {
     "name": "stdout",
     "output_type": "stream",
     "text": [
      "Epoch 180, Loss 0.0195\n",
      "Training Accuracy: 0.9790, Testing Accuracy: 0.9758\n",
      "\n"
     ]
    },
    {
     "name": "stdout",
     "output_type": "stream",
     "text": [
      "Epoch 190, Loss 0.019\n",
      "Training Accuracy: 0.9797, Testing Accuracy: 0.9763\n",
      "\n"
     ]
    },
    {
     "name": "stdout",
     "output_type": "stream",
     "text": [
      "Epoch 200, Loss 0.0186\n",
      "Training Accuracy: 0.9799, Testing Accuracy: 0.9768\n",
      "\n"
     ]
    },
    {
     "name": "stdout",
     "output_type": "stream",
     "text": [
      "Epoch 210, Loss 0.0182\n",
      "Training Accuracy: 0.9806, Testing Accuracy: 0.9768\n",
      "\n"
     ]
    },
    {
     "name": "stdout",
     "output_type": "stream",
     "text": [
      "Epoch 220, Loss 0.0179\n",
      "Training Accuracy: 0.9811, Testing Accuracy: 0.9768\n",
      "\n"
     ]
    },
    {
     "name": "stdout",
     "output_type": "stream",
     "text": [
      "Epoch 230, Loss 0.0175\n",
      "Training Accuracy: 0.9811, Testing Accuracy: 0.9768\n",
      "\n"
     ]
    },
    {
     "name": "stdout",
     "output_type": "stream",
     "text": [
      "Epoch 240, Loss 0.0172\n",
      "Training Accuracy: 0.9815, Testing Accuracy: 0.9768\n",
      "\n"
     ]
    },
    {
     "data": {
      "text/plain": [
       "0.0031943817613287657"
      ]
     },
     "execution_count": 22,
     "metadata": {},
     "output_type": "execute_result"
    }
   ],
   "source": [
    "nn_learner.train_loop(dl)"
   ]
  },
  {
   "cell_type": "code",
   "execution_count": 23,
   "id": "e0163366",
   "metadata": {
    "execution": {
     "iopub.execute_input": "2022-01-28T10:10:19.143106Z",
     "iopub.status.busy": "2022-01-28T10:10:19.142539Z",
     "iopub.status.idle": "2022-01-28T10:10:33.664336Z",
     "shell.execute_reply": "2022-01-28T10:10:33.665084Z"
    },
    "papermill": {
     "duration": 14.567917,
     "end_time": "2022-01-28T10:10:33.665243",
     "exception": false,
     "start_time": "2022-01-28T10:10:19.097326",
     "status": "completed"
    },
    "tags": []
   },
   "outputs": [
    {
     "name": "stdout",
     "output_type": "stream",
     "text": [
      "Epoch 0, Loss 0.2253\n",
      "Training Accuracy: 0.7407, Testing Accuracy: 0.7258\n",
      "\n"
     ]
    },
    {
     "name": "stdout",
     "output_type": "stream",
     "text": [
      "Epoch 10, Loss 0.1021\n",
      "Training Accuracy: 0.9039, Testing Accuracy: 0.9148\n",
      "\n"
     ]
    },
    {
     "name": "stdout",
     "output_type": "stream",
     "text": [
      "Epoch 20, Loss 0.0795\n",
      "Training Accuracy: 0.9236, Testing Accuracy: 0.9335\n",
      "\n"
     ]
    },
    {
     "name": "stdout",
     "output_type": "stream",
     "text": [
      "Epoch 30, Loss 0.0688\n",
      "Training Accuracy: 0.9330, Testing Accuracy: 0.9451\n",
      "\n"
     ]
    },
    {
     "name": "stdout",
     "output_type": "stream",
     "text": [
      "Epoch 40, Loss 0.0622\n",
      "Training Accuracy: 0.9382, Testing Accuracy: 0.9531\n",
      "\n"
     ]
    },
    {
     "name": "stdout",
     "output_type": "stream",
     "text": [
      "Epoch 50, Loss 0.0577\n",
      "Training Accuracy: 0.9423, Testing Accuracy: 0.9567\n",
      "\n"
     ]
    },
    {
     "name": "stdout",
     "output_type": "stream",
     "text": [
      "Epoch 60, Loss 0.0544\n",
      "Training Accuracy: 0.9452, Testing Accuracy: 0.9587\n",
      "\n"
     ]
    },
    {
     "name": "stdout",
     "output_type": "stream",
     "text": [
      "Epoch 70, Loss 0.0518\n",
      "Training Accuracy: 0.9468, Testing Accuracy: 0.9612\n",
      "\n"
     ]
    },
    {
     "name": "stdout",
     "output_type": "stream",
     "text": [
      "Epoch 80, Loss 0.0497\n",
      "Training Accuracy: 0.9481, Testing Accuracy: 0.9632\n",
      "\n"
     ]
    },
    {
     "name": "stdout",
     "output_type": "stream",
     "text": [
      "Epoch 90, Loss 0.048\n",
      "Training Accuracy: 0.9492, Testing Accuracy: 0.9647\n",
      "\n"
     ]
    },
    {
     "name": "stdout",
     "output_type": "stream",
     "text": [
      "Epoch 100, Loss 0.0465\n",
      "Training Accuracy: 0.9508, Testing Accuracy: 0.9652\n",
      "\n"
     ]
    },
    {
     "name": "stdout",
     "output_type": "stream",
     "text": [
      "Epoch 110, Loss 0.0453\n",
      "Training Accuracy: 0.9526, Testing Accuracy: 0.9647\n",
      "\n"
     ]
    },
    {
     "name": "stdout",
     "output_type": "stream",
     "text": [
      "Epoch 120, Loss 0.0442\n",
      "Training Accuracy: 0.9540, Testing Accuracy: 0.9647\n",
      "\n"
     ]
    },
    {
     "name": "stdout",
     "output_type": "stream",
     "text": [
      "Epoch 130, Loss 0.0433\n",
      "Training Accuracy: 0.9547, Testing Accuracy: 0.9652\n",
      "\n"
     ]
    },
    {
     "name": "stdout",
     "output_type": "stream",
     "text": [
      "Epoch 140, Loss 0.0424\n",
      "Training Accuracy: 0.9551, Testing Accuracy: 0.9652\n",
      "\n"
     ]
    },
    {
     "name": "stdout",
     "output_type": "stream",
     "text": [
      "Epoch 150, Loss 0.0416\n",
      "Training Accuracy: 0.9555, Testing Accuracy: 0.9652\n",
      "\n"
     ]
    },
    {
     "name": "stdout",
     "output_type": "stream",
     "text": [
      "Epoch 160, Loss 0.0409\n",
      "Training Accuracy: 0.9563, Testing Accuracy: 0.9642\n",
      "\n"
     ]
    },
    {
     "name": "stdout",
     "output_type": "stream",
     "text": [
      "Epoch 170, Loss 0.0403\n",
      "Training Accuracy: 0.9564, Testing Accuracy: 0.9642\n",
      "\n"
     ]
    },
    {
     "name": "stdout",
     "output_type": "stream",
     "text": [
      "Epoch 180, Loss 0.0397\n",
      "Training Accuracy: 0.9574, Testing Accuracy: 0.9647\n",
      "\n"
     ]
    },
    {
     "name": "stdout",
     "output_type": "stream",
     "text": [
      "Epoch 190, Loss 0.0392\n",
      "Training Accuracy: 0.9581, Testing Accuracy: 0.9647\n",
      "\n"
     ]
    },
    {
     "name": "stdout",
     "output_type": "stream",
     "text": [
      "Epoch 200, Loss 0.0387\n",
      "Training Accuracy: 0.9586, Testing Accuracy: 0.9652\n",
      "\n"
     ]
    },
    {
     "name": "stdout",
     "output_type": "stream",
     "text": [
      "Epoch 210, Loss 0.0383\n",
      "Training Accuracy: 0.9589, Testing Accuracy: 0.9647\n",
      "\n"
     ]
    },
    {
     "name": "stdout",
     "output_type": "stream",
     "text": [
      "Epoch 220, Loss 0.0378\n",
      "Training Accuracy: 0.9594, Testing Accuracy: 0.9647\n",
      "\n"
     ]
    },
    {
     "name": "stdout",
     "output_type": "stream",
     "text": [
      "Epoch 230, Loss 0.0374\n",
      "Training Accuracy: 0.9599, Testing Accuracy: 0.9657\n",
      "\n"
     ]
    },
    {
     "name": "stdout",
     "output_type": "stream",
     "text": [
      "Epoch 240, Loss 0.0371\n",
      "Training Accuracy: 0.9604, Testing Accuracy: 0.9657\n",
      "\n"
     ]
    },
    {
     "data": {
      "text/plain": [
       "0.07673638869813579"
      ]
     },
     "execution_count": 23,
     "metadata": {},
     "output_type": "execute_result"
    }
   ],
   "source": [
    "lr_learner.train_loop(dl)"
   ]
  },
  {
   "cell_type": "code",
   "execution_count": 24,
   "id": "ca410940",
   "metadata": {
    "execution": {
     "iopub.execute_input": "2022-01-28T10:10:33.763122Z",
     "iopub.status.busy": "2022-01-28T10:10:33.762539Z",
     "iopub.status.idle": "2022-01-28T10:10:33.988789Z",
     "shell.execute_reply": "2022-01-28T10:10:33.988304Z"
    },
    "papermill": {
     "duration": 0.281386,
     "end_time": "2022-01-28T10:10:33.988918",
     "exception": false,
     "start_time": "2022-01-28T10:10:33.707532",
     "status": "completed"
    },
    "tags": []
   },
   "outputs": [
    {
     "data": {
      "text/plain": [
       "<matplotlib.legend.Legend at 0x7f9fa5a95400>"
      ]
     },
     "execution_count": 24,
     "metadata": {},
     "output_type": "execute_result"
    },
    {
     "data": {
      "image/png": "[encoded data removed]",
      "text/plain": [
       "<Figure size 1080x720 with 1 Axes>"
      ]
     },
     "metadata": {
      "needs_background": "light"
     },
     "output_type": "display_data"
    }
   ],
   "source": [
    "#comparing the results of NN and LR\n",
    "plt.figure(figsize=(15,10))\n",
    "\n",
    "# Neural Network plots\n",
    "plt.plot(acc_nn.accuracies, 'r-', label = \"Training Accuracies - NN\")\n",
    "plt.plot(acc_nn.test_accuracies, 'g-', label = \"Testing Accuracies - NN\")\n",
    "\n",
    "# Logistic Regression plots\n",
    "plt.plot(acc_lr.accuracies, 'k-', label = \"Training Accuracies - LR\")\n",
    "plt.plot(acc_lr.test_accuracies, 'b-', label = \"Testing Accuracies - LR\")\n",
    "plt.legend()"
   ]
  },
  {
   "cell_type": "markdown",
   "id": "80dfb35c",
   "metadata": {
    "papermill": {
     "duration": 0.042704,
     "end_time": "2022-01-28T10:10:34.074944",
     "exception": false,
     "start_time": "2022-01-28T10:10:34.032240",
     "status": "completed"
    },
    "tags": []
   },
   "source": [
    "#### Plotting the outputs of this layer of the NN.\n"
   ]
  },
  {
   "cell_type": "code",
   "execution_count": 25,
   "id": "45eb2ff5",
   "metadata": {
    "execution": {
     "iopub.execute_input": "2022-01-28T10:10:34.176291Z",
     "iopub.status.busy": "2022-01-28T10:10:34.175056Z",
     "iopub.status.idle": "2022-01-28T10:10:34.190232Z",
     "shell.execute_reply": "2022-01-28T10:10:34.190690Z"
    },
    "papermill": {
     "duration": 0.07306,
     "end_time": "2022-01-28T10:10:34.190849",
     "exception": false,
     "start_time": "2022-01-28T10:10:34.117789",
     "status": "completed"
    },
    "tags": []
   },
   "outputs": [],
   "source": [
    "new_model = Model(layers[:-2])\n",
    "testing_plot = new_model(testing_data_x)"
   ]
  },
  {
   "cell_type": "code",
   "execution_count": 26,
   "id": "4c0a5485",
   "metadata": {
    "execution": {
     "iopub.execute_input": "2022-01-28T10:10:34.292420Z",
     "iopub.status.busy": "2022-01-28T10:10:34.291326Z",
     "iopub.status.idle": "2022-01-28T10:10:34.507619Z",
     "shell.execute_reply": "2022-01-28T10:10:34.508019Z"
    },
    "papermill": {
     "duration": 0.273915,
     "end_time": "2022-01-28T10:10:34.508176",
     "exception": false,
     "start_time": "2022-01-28T10:10:34.234261",
     "status": "completed"
    },
    "tags": []
   },
   "outputs": [
    {
     "data": {
      "text/plain": [
       "Text(0.5, 1.0, 'Outputs')"
      ]
     },
     "execution_count": 26,
     "metadata": {},
     "output_type": "execute_result"
    },
    {
     "data": {
      "image/png": "[encoded data removed]",
      "text/plain": [
       "<Figure size 576x504 with 1 Axes>"
      ]
     },
     "metadata": {
      "needs_background": "light"
     },
     "output_type": "display_data"
    }
   ],
   "source": [
    "# Plotting the scatter plot of points and color coding by class\n",
    "plt.figure(figsize=(8,7))\n",
    "plt.scatter(testing_plot[:,0], testing_plot[:,1], alpha = 0.1, c = y_test.ravel());\n",
    "plt.title('Outputs')"
   ]
  },
  {
   "cell_type": "markdown",
   "id": "a74fcf8f",
   "metadata": {
    "papermill": {
     "duration": 0.045434,
     "end_time": "2022-01-28T10:10:34.599300",
     "exception": false,
     "start_time": "2022-01-28T10:10:34.553866",
     "status": "completed"
    },
    "tags": []
   },
   "source": [
    "Probability contours"
   ]
  },
  {
   "cell_type": "code",
   "execution_count": 27,
   "id": "d0afc8e3",
   "metadata": {
    "execution": {
     "iopub.execute_input": "2022-01-28T10:10:34.699492Z",
     "iopub.status.busy": "2022-01-28T10:10:34.696496Z",
     "iopub.status.idle": "2022-01-28T10:10:34.709126Z",
     "shell.execute_reply": "2022-01-28T10:10:34.708626Z"
    },
    "papermill": {
     "duration": 0.06441,
     "end_time": "2022-01-28T10:10:34.709255",
     "exception": false,
     "start_time": "2022-01-28T10:10:34.644845",
     "status": "completed"
    },
    "tags": []
   },
   "outputs": [],
   "source": [
    "model_prob = Model(layers[-2:]) "
   ]
  },
  {
   "cell_type": "code",
   "execution_count": 28,
   "id": "9b96e238",
   "metadata": {
    "execution": {
     "iopub.execute_input": "2022-01-28T10:10:34.858596Z",
     "iopub.status.busy": "2022-01-28T10:10:34.857211Z",
     "iopub.status.idle": "2022-01-28T10:10:34.867638Z",
     "shell.execute_reply": "2022-01-28T10:10:34.868061Z"
    },
    "papermill": {
     "duration": 0.113016,
     "end_time": "2022-01-28T10:10:34.868209",
     "exception": false,
     "start_time": "2022-01-28T10:10:34.755193",
     "status": "completed"
    },
    "tags": []
   },
   "outputs": [],
   "source": [
    "#creating the x and y ranges according to the above generated plot.\n",
    "x_range = np.linspace(-4, 1, 100) \n",
    "y_range = np.linspace(-6, 6, 100) \n",
    "x_grid, y_grid = np.meshgrid(x_range, y_range) # x_grid and y_grig are of size 100 X 100\n",
    "\n",
    "# converting x_grid and y_grid to continuous arrays\n",
    "x_gridflat = np.ravel(x_grid)\n",
    "y_gridflat = np.ravel(y_grid)\n",
    "\n",
    "# The last layer of the current model takes two columns as input. Hence transpose of np.vstack() is required.\n",
    "X = np.vstack((x_gridflat, y_gridflat)).T\n",
    "\n",
    "prob_contour = model_prob(X).reshape(100,100) "
   ]
  },
  {
   "cell_type": "code",
   "execution_count": 29,
   "id": "da72499a",
   "metadata": {
    "execution": {
     "iopub.execute_input": "2022-01-28T10:10:34.967522Z",
     "iopub.status.busy": "2022-01-28T10:10:34.966073Z",
     "iopub.status.idle": "2022-01-28T10:10:35.212111Z",
     "shell.execute_reply": "2022-01-28T10:10:35.212586Z"
    },
    "papermill": {
     "duration": 0.297814,
     "end_time": "2022-01-28T10:10:35.212746",
     "exception": false,
     "start_time": "2022-01-28T10:10:34.914932",
     "status": "completed"
    },
    "tags": []
   },
   "outputs": [
    {
     "data": {
      "image/png": "[encoded data removed]",
      "text/plain": [
       "<Figure size 720x648 with 1 Axes>"
      ]
     },
     "metadata": {
      "needs_background": "light"
     },
     "output_type": "display_data"
    }
   ],
   "source": [
    "plt.figure(figsize=(10,9))\n",
    "plt.scatter(testing_plot[:,0], testing_plot[:,1], alpha = 0.1, c = y_test.ravel())\n",
    "contours = plt.contour(x_grid,y_grid,prob_contour)\n",
    "plt.title('Probability Contours')\n",
    "plt.clabel(contours, inline = True );"
   ]
  },
  {
   "cell_type": "code",
   "execution_count": null,
   "id": "e81b4ac7",
   "metadata": {
    "papermill": {
     "duration": 0.048059,
     "end_time": "2022-01-28T10:10:35.310235",
     "exception": false,
     "start_time": "2022-01-28T10:10:35.262176",
     "status": "completed"
    },
    "tags": []
   },
   "outputs": [],
   "source": []
  }
 ],
 "metadata": {
  "kernelspec": {
   "display_name": "Python 3",
   "language": "python",
   "name": "python3"
  },
  "language_info": {
   "codemirror_mode": {
    "name": "ipython",
    "version": 3
   },
   "file_extension": ".py",
   "mimetype": "text/x-python",
   "name": "python",
   "nbconvert_exporter": "python",
   "pygments_lexer": "ipython3",
   "version": "3.6.15"
  },
  "papermill": {
   "default_parameters": {},
   "duration": 105.475382,
   "end_time": "2022-01-28T10:10:35.878228",
   "environment_variables": {},
   "exception": null,
   "input_path": "2020-08-11-part2.ipynb",
   "output_path": "2020-08-11-part2.ipynb",
   "parameters": {},
   "start_time": "2022-01-28T10:08:50.402846",
   "version": "2.3.3"
  }
 },
 "nbformat": 4,
 "nbformat_minor": 5
}