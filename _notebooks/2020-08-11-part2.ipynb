{
 "cells": [
  {
   "cell_type": "markdown",
   "id": "98380cd3",
   "metadata": {
    "papermill": {
     "duration": 0.034421,
     "end_time": "2022-01-04T20:09:49.414748",
     "exception": false,
     "start_time": "2022-01-04T20:09:49.380327",
     "status": "completed"
    },
    "tags": []
   },
   "source": [
    "# Distinguish Your Own Digits (DYOD)"
   ]
  },
  {
   "cell_type": "markdown",
   "id": "ef31240d",
   "metadata": {
    "papermill": {
     "duration": 0.027947,
     "end_time": "2022-01-04T20:09:49.473664",
     "exception": false,
     "start_time": "2022-01-04T20:09:49.445717",
     "status": "completed"
    },
    "tags": []
   },
   "source": [
    "You are going to write a classifier that distinguishes between the number 3 and number 8."
   ]
  },
  {
   "cell_type": "code",
   "execution_count": 1,
   "id": "b15c8646",
   "metadata": {
    "execution": {
     "iopub.execute_input": "2022-01-04T20:09:49.540257Z",
     "iopub.status.busy": "2022-01-04T20:09:49.539602Z",
     "iopub.status.idle": "2022-01-04T20:09:49.559721Z",
     "shell.execute_reply": "2022-01-04T20:09:49.558765Z"
    },
    "papermill": {
     "duration": 0.056861,
     "end_time": "2022-01-04T20:09:49.559980",
     "exception": false,
     "start_time": "2022-01-04T20:09:49.503119",
     "status": "completed"
    },
    "tags": []
   },
   "outputs": [],
   "source": [
    "%load_ext autoreload\n",
    "%autoreload 2"
   ]
  },
  {
   "cell_type": "code",
   "execution_count": 2,
   "id": "22ef38dc",
   "metadata": {
    "execution": {
     "iopub.execute_input": "2022-01-04T20:09:49.625922Z",
     "iopub.status.busy": "2022-01-04T20:09:49.625309Z",
     "iopub.status.idle": "2022-01-04T20:09:50.363103Z",
     "shell.execute_reply": "2022-01-04T20:09:50.362169Z"
    },
    "papermill": {
     "duration": 0.77164,
     "end_time": "2022-01-04T20:09:50.363400",
     "exception": false,
     "start_time": "2022-01-04T20:09:49.591760",
     "status": "completed"
    },
    "tags": []
   },
   "outputs": [],
   "source": [
    "%matplotlib inline\n",
    "import numpy as np\n",
    "import matplotlib.pyplot as plt\n",
    "import pandas as pd"
   ]
  },
  {
   "cell_type": "markdown",
   "id": "ba036198",
   "metadata": {
    "papermill": {
     "duration": 0.028352,
     "end_time": "2022-01-04T20:09:50.420824",
     "exception": false,
     "start_time": "2022-01-04T20:09:50.392472",
     "status": "completed"
    },
    "tags": []
   },
   "source": [
    "From the command line run `pip install mnist`. This is a library that will help you bring down the mnist dataset. If you run this from a notebook, you need to put  `!pip install mnist` in a cell by itself."
   ]
  },
  {
   "cell_type": "code",
   "execution_count": 3,
   "id": "bb6ad8a1",
   "metadata": {
    "execution": {
     "iopub.execute_input": "2022-01-04T20:09:50.480823Z",
     "iopub.status.busy": "2022-01-04T20:09:50.480211Z",
     "iopub.status.idle": "2022-01-04T20:09:52.729484Z",
     "shell.execute_reply": "2022-01-04T20:09:52.728950Z"
    },
    "papermill": {
     "duration": 2.281331,
     "end_time": "2022-01-04T20:09:52.729626",
     "exception": false,
     "start_time": "2022-01-04T20:09:50.448295",
     "status": "completed"
    },
    "tags": []
   },
   "outputs": [
    {
     "name": "stdout",
     "output_type": "stream",
     "text": [
      "Collecting mnist\r\n"
     ]
    },
    {
     "name": "stdout",
     "output_type": "stream",
     "text": [
      "  Downloading mnist-0.2.2-py2.py3-none-any.whl (3.5 kB)\r\n"
     ]
    },
    {
     "name": "stdout",
     "output_type": "stream",
     "text": [
      "Requirement already satisfied: numpy in /opt/hostedtoolcache/Python/3.6.15/x64/lib/python3.6/site-packages (from mnist) (1.19.5)\r\n"
     ]
    },
    {
     "name": "stdout",
     "output_type": "stream",
     "text": [
      "Installing collected packages: mnist\r\n"
     ]
    },
    {
     "name": "stdout",
     "output_type": "stream",
     "text": [
      "Successfully installed mnist-0.2.2\r\n"
     ]
    }
   ],
   "source": [
    "!pip install mnist"
   ]
  },
  {
   "cell_type": "markdown",
   "id": "69df9c9a",
   "metadata": {
    "papermill": {
     "duration": 0.028764,
     "end_time": "2022-01-04T20:09:52.787942",
     "exception": false,
     "start_time": "2022-01-04T20:09:52.759178",
     "status": "completed"
    },
    "tags": []
   },
   "source": [
    "## Preparing the Data"
   ]
  },
  {
   "cell_type": "code",
   "execution_count": 4,
   "id": "7f69d806",
   "metadata": {
    "execution": {
     "iopub.execute_input": "2022-01-04T20:09:52.850304Z",
     "iopub.status.busy": "2022-01-04T20:09:52.849306Z",
     "iopub.status.idle": "2022-01-04T20:09:52.870894Z",
     "shell.execute_reply": "2022-01-04T20:09:52.870359Z"
    },
    "papermill": {
     "duration": 0.054475,
     "end_time": "2022-01-04T20:09:52.871037",
     "exception": false,
     "start_time": "2022-01-04T20:09:52.816562",
     "status": "completed"
    },
    "tags": []
   },
   "outputs": [],
   "source": [
    "import mnist"
   ]
  },
  {
   "cell_type": "code",
   "execution_count": 5,
   "id": "a411e44f",
   "metadata": {
    "execution": {
     "iopub.execute_input": "2022-01-04T20:09:52.933511Z",
     "iopub.status.busy": "2022-01-04T20:09:52.932820Z",
     "iopub.status.idle": "2022-01-04T20:09:53.727564Z",
     "shell.execute_reply": "2022-01-04T20:09:53.726520Z"
    },
    "papermill": {
     "duration": 0.827561,
     "end_time": "2022-01-04T20:09:53.727720",
     "exception": false,
     "start_time": "2022-01-04T20:09:52.900159",
     "status": "completed"
    },
    "tags": []
   },
   "outputs": [],
   "source": [
    "train_images = mnist.train_images()\n",
    "train_labels = mnist.train_labels()"
   ]
  },
  {
   "cell_type": "code",
   "execution_count": 6,
   "id": "dceab3a5",
   "metadata": {
    "execution": {
     "iopub.execute_input": "2022-01-04T20:09:53.796862Z",
     "iopub.status.busy": "2022-01-04T20:09:53.791590Z",
     "iopub.status.idle": "2022-01-04T20:09:53.809483Z",
     "shell.execute_reply": "2022-01-04T20:09:53.808917Z"
    },
    "papermill": {
     "duration": 0.051743,
     "end_time": "2022-01-04T20:09:53.809625",
     "exception": false,
     "start_time": "2022-01-04T20:09:53.757882",
     "status": "completed"
    },
    "tags": []
   },
   "outputs": [
    {
     "data": {
      "text/plain": [
       "((60000, 28, 28), (60000,))"
      ]
     },
     "execution_count": 6,
     "metadata": {},
     "output_type": "execute_result"
    }
   ],
   "source": [
    "train_images.shape, train_labels.shape"
   ]
  },
  {
   "cell_type": "code",
   "execution_count": 7,
   "id": "f50dc2bb",
   "metadata": {
    "execution": {
     "iopub.execute_input": "2022-01-04T20:09:53.874556Z",
     "iopub.status.busy": "2022-01-04T20:09:53.873906Z",
     "iopub.status.idle": "2022-01-04T20:09:54.156394Z",
     "shell.execute_reply": "2022-01-04T20:09:54.155431Z"
    },
    "papermill": {
     "duration": 0.316866,
     "end_time": "2022-01-04T20:09:54.156610",
     "exception": false,
     "start_time": "2022-01-04T20:09:53.839744",
     "status": "completed"
    },
    "tags": []
   },
   "outputs": [],
   "source": [
    "test_images = mnist.test_images()\n",
    "test_labels = mnist.test_labels()"
   ]
  },
  {
   "cell_type": "code",
   "execution_count": 8,
   "id": "fc38cf1b",
   "metadata": {
    "execution": {
     "iopub.execute_input": "2022-01-04T20:09:54.223465Z",
     "iopub.status.busy": "2022-01-04T20:09:54.222820Z",
     "iopub.status.idle": "2022-01-04T20:09:54.236293Z",
     "shell.execute_reply": "2022-01-04T20:09:54.235775Z"
    },
    "papermill": {
     "duration": 0.048529,
     "end_time": "2022-01-04T20:09:54.236421",
     "exception": false,
     "start_time": "2022-01-04T20:09:54.187892",
     "status": "completed"
    },
    "tags": []
   },
   "outputs": [
    {
     "data": {
      "text/plain": [
       "((10000, 28, 28), (10000,))"
      ]
     },
     "execution_count": 8,
     "metadata": {},
     "output_type": "execute_result"
    }
   ],
   "source": [
    "test_images.shape, test_labels.shape"
   ]
  },
  {
   "cell_type": "code",
   "execution_count": 9,
   "id": "f9ed8fe0",
   "metadata": {
    "execution": {
     "iopub.execute_input": "2022-01-04T20:09:54.303092Z",
     "iopub.status.busy": "2022-01-04T20:09:54.302406Z",
     "iopub.status.idle": "2022-01-04T20:09:54.472544Z",
     "shell.execute_reply": "2022-01-04T20:09:54.471985Z"
    },
    "papermill": {
     "duration": 0.20705,
     "end_time": "2022-01-04T20:09:54.472681",
     "exception": false,
     "start_time": "2022-01-04T20:09:54.265631",
     "status": "completed"
    },
    "tags": []
   },
   "outputs": [
    {
     "name": "stdout",
     "output_type": "stream",
     "text": [
      "2\n"
     ]
    },
    {
     "data": {
      "text/plain": [
       "<matplotlib.image.AxesImage at 0x7f6d9162b898>"
      ]
     },
     "execution_count": 9,
     "metadata": {},
     "output_type": "execute_result"
    },
    {
     "data": {
      "image/png": "[encoded data removed]",
      "text/plain": [
       "<Figure size 432x288 with 1 Axes>"
      ]
     },
     "metadata": {
      "needs_background": "light"
     },
     "output_type": "display_data"
    }
   ],
   "source": [
    "image_index = 7776 # You may select anything up to 60,000\n",
    "print(train_labels[image_index]) \n",
    "plt.imshow(train_images[image_index], cmap='Greys')"
   ]
  },
  {
   "cell_type": "markdown",
   "id": "a8d2388d",
   "metadata": {
    "papermill": {
     "duration": 0.030977,
     "end_time": "2022-01-04T20:09:54.533941",
     "exception": false,
     "start_time": "2022-01-04T20:09:54.502964",
     "status": "completed"
    },
    "tags": []
   },
   "source": [
    "## Filter data to get 3 and 8 out"
   ]
  },
  {
   "cell_type": "code",
   "execution_count": 10,
   "id": "776f7fc7",
   "metadata": {
    "execution": {
     "iopub.execute_input": "2022-01-04T20:09:54.599527Z",
     "iopub.status.busy": "2022-01-04T20:09:54.598544Z",
     "iopub.status.idle": "2022-01-04T20:09:54.620880Z",
     "shell.execute_reply": "2022-01-04T20:09:54.620318Z"
    },
    "papermill": {
     "duration": 0.057052,
     "end_time": "2022-01-04T20:09:54.621018",
     "exception": false,
     "start_time": "2022-01-04T20:09:54.563966",
     "status": "completed"
    },
    "tags": []
   },
   "outputs": [],
   "source": [
    "train_filter = np.where((train_labels == 3 ) | (train_labels == 8))\n",
    "test_filter = np.where((test_labels == 3) | (test_labels == 8))\n",
    "X_train, y_train = train_images[train_filter], train_labels[train_filter]\n",
    "X_test, y_test = test_images[test_filter], test_labels[test_filter]"
   ]
  },
  {
   "cell_type": "markdown",
   "id": "948f0b7e",
   "metadata": {
    "papermill": {
     "duration": 0.030144,
     "end_time": "2022-01-04T20:09:54.681694",
     "exception": false,
     "start_time": "2022-01-04T20:09:54.651550",
     "status": "completed"
    },
    "tags": []
   },
   "source": [
    "We normalize the pizel values in the 0 to 1 range"
   ]
  },
  {
   "cell_type": "code",
   "execution_count": 11,
   "id": "ee4c2166",
   "metadata": {
    "execution": {
     "iopub.execute_input": "2022-01-04T20:09:54.746904Z",
     "iopub.status.busy": "2022-01-04T20:09:54.746284Z",
     "iopub.status.idle": "2022-01-04T20:09:54.800675Z",
     "shell.execute_reply": "2022-01-04T20:09:54.799954Z"
    },
    "papermill": {
     "duration": 0.088766,
     "end_time": "2022-01-04T20:09:54.800845",
     "exception": false,
     "start_time": "2022-01-04T20:09:54.712079",
     "status": "completed"
    },
    "tags": []
   },
   "outputs": [],
   "source": [
    "X_train = X_train/255.\n",
    "X_test = X_test/255."
   ]
  },
  {
   "cell_type": "markdown",
   "id": "ddcf4fab",
   "metadata": {
    "papermill": {
     "duration": 0.030217,
     "end_time": "2022-01-04T20:09:54.861744",
     "exception": false,
     "start_time": "2022-01-04T20:09:54.831527",
     "status": "completed"
    },
    "tags": []
   },
   "source": [
    "And setup the labels as 1 (when the digit is 3) and 0 (when the digit is 8)"
   ]
  },
  {
   "cell_type": "code",
   "execution_count": 12,
   "id": "7dc908f2",
   "metadata": {
    "execution": {
     "iopub.execute_input": "2022-01-04T20:09:54.926072Z",
     "iopub.status.busy": "2022-01-04T20:09:54.925496Z",
     "iopub.status.idle": "2022-01-04T20:09:54.940576Z",
     "shell.execute_reply": "2022-01-04T20:09:54.940064Z"
    },
    "papermill": {
     "duration": 0.048797,
     "end_time": "2022-01-04T20:09:54.940712",
     "exception": false,
     "start_time": "2022-01-04T20:09:54.891915",
     "status": "completed"
    },
    "tags": []
   },
   "outputs": [],
   "source": [
    "y_train = 1*(y_train==3)\n",
    "y_test = 1*(y_test==3)"
   ]
  },
  {
   "cell_type": "code",
   "execution_count": 13,
   "id": "01e4e969",
   "metadata": {
    "execution": {
     "iopub.execute_input": "2022-01-04T20:09:55.006111Z",
     "iopub.status.busy": "2022-01-04T20:09:55.005506Z",
     "iopub.status.idle": "2022-01-04T20:09:55.022147Z",
     "shell.execute_reply": "2022-01-04T20:09:55.021654Z"
    },
    "papermill": {
     "duration": 0.051199,
     "end_time": "2022-01-04T20:09:55.022280",
     "exception": false,
     "start_time": "2022-01-04T20:09:54.971081",
     "status": "completed"
    },
    "tags": []
   },
   "outputs": [
    {
     "data": {
      "text/plain": [
       "((11982, 28, 28), (1984, 28, 28))"
      ]
     },
     "execution_count": 13,
     "metadata": {},
     "output_type": "execute_result"
    }
   ],
   "source": [
    "X_train.shape, X_test.shape"
   ]
  },
  {
   "cell_type": "markdown",
   "id": "5ccf3f85",
   "metadata": {
    "papermill": {
     "duration": 0.030718,
     "end_time": "2022-01-04T20:09:55.083587",
     "exception": false,
     "start_time": "2022-01-04T20:09:55.052869",
     "status": "completed"
    },
    "tags": []
   },
   "source": [
    "We reshape the data to flatten the image pixels into a set of features or co-variates:"
   ]
  },
  {
   "cell_type": "code",
   "execution_count": 14,
   "id": "5286a4a3",
   "metadata": {
    "execution": {
     "iopub.execute_input": "2022-01-04T20:09:55.149833Z",
     "iopub.status.busy": "2022-01-04T20:09:55.149199Z",
     "iopub.status.idle": "2022-01-04T20:09:55.167283Z",
     "shell.execute_reply": "2022-01-04T20:09:55.166756Z"
    },
    "papermill": {
     "duration": 0.053053,
     "end_time": "2022-01-04T20:09:55.167427",
     "exception": false,
     "start_time": "2022-01-04T20:09:55.114374",
     "status": "completed"
    },
    "tags": []
   },
   "outputs": [
    {
     "data": {
      "text/plain": [
       "((11982, 784), (1984, 784))"
      ]
     },
     "execution_count": 14,
     "metadata": {},
     "output_type": "execute_result"
    }
   ],
   "source": [
    "X_train = X_train.reshape(X_train.shape[0], -1)\n",
    "X_test = X_test.reshape(X_test.shape[0], -1)\n",
    "X_train.shape, X_test.shape"
   ]
  },
  {
   "cell_type": "code",
   "execution_count": 15,
   "id": "73c5f88a",
   "metadata": {
    "execution": {
     "iopub.execute_input": "2022-01-04T20:09:55.234671Z",
     "iopub.status.busy": "2022-01-04T20:09:55.234040Z",
     "iopub.status.idle": "2022-01-04T20:09:55.258073Z",
     "shell.execute_reply": "2022-01-04T20:09:55.256869Z"
    },
    "papermill": {
     "duration": 0.059903,
     "end_time": "2022-01-04T20:09:55.258223",
     "exception": false,
     "start_time": "2022-01-04T20:09:55.198320",
     "status": "completed"
    },
    "tags": []
   },
   "outputs": [],
   "source": [
    "#Impoting functions from 'Kudzu'\n",
    "from kudzu.model import Model\n",
    "from kudzu.train import Learner\n",
    "from kudzu.optim import GD\n",
    "from kudzu.data import Data, Sampler,Dataloader\n",
    "\n",
    "from kudzu.callbacks import AccCallback\n",
    "from kudzu.callbacks import ClfCallback\n",
    "\n",
    "from kudzu.loss import MSE\n",
    "\n",
    "from kudzu.layer import Sigmoid,Relu\n",
    "from kudzu.layer import Affine"
   ]
  },
  {
   "cell_type": "markdown",
   "id": "bc01172a",
   "metadata": {
    "papermill": {
     "duration": 0.03078,
     "end_time": "2022-01-04T20:09:55.320263",
     "exception": false,
     "start_time": "2022-01-04T20:09:55.289483",
     "status": "completed"
    },
    "tags": []
   },
   "source": [
    "### Let us create a `Config` class, to store important parameters. \n",
    "This class essentially plays the role of a dictionary."
   ]
  },
  {
   "cell_type": "code",
   "execution_count": 16,
   "id": "978281aa",
   "metadata": {
    "execution": {
     "iopub.execute_input": "2022-01-04T20:09:55.388265Z",
     "iopub.status.busy": "2022-01-04T20:09:55.385822Z",
     "iopub.status.idle": "2022-01-04T20:09:55.399259Z",
     "shell.execute_reply": "2022-01-04T20:09:55.399752Z"
    },
    "papermill": {
     "duration": 0.048782,
     "end_time": "2022-01-04T20:09:55.399916",
     "exception": false,
     "start_time": "2022-01-04T20:09:55.351134",
     "status": "completed"
    },
    "tags": []
   },
   "outputs": [],
   "source": [
    "class Config:\n",
    "    pass\n",
    "config = Config()\n",
    "config.lr = 0.001\n",
    "config.num_epochs = 250\n",
    "config.bs = 50"
   ]
  },
  {
   "cell_type": "markdown",
   "id": "1385fa59",
   "metadata": {
    "papermill": {
     "duration": 0.031835,
     "end_time": "2022-01-04T20:09:55.468268",
     "exception": false,
     "start_time": "2022-01-04T20:09:55.436433",
     "status": "completed"
    },
    "tags": []
   },
   "source": [
    "### Running Models with the Training data\n",
    "Details about the network layers:\n",
    "- A first affine layer has 784 inputs and does 100 affine transforms. These are followed by a Relu\n",
    "- A second affine layer has 100 inputs from the 100 activations of the past layer, and does 100 affine transforms. These are followed by a Relu\n",
    "- A third affine layer has 100 activations and does 2 affine transformations to create an embedding for visualization. There is no non-linearity here.\n",
    "- A final \"logistic regression\" which has an affine transform from 2 inputs to 1 output, which is squeezed through a sigmoid.\n"
   ]
  },
  {
   "cell_type": "code",
   "execution_count": 17,
   "id": "2b9c66db",
   "metadata": {
    "execution": {
     "iopub.execute_input": "2022-01-04T20:09:55.539852Z",
     "iopub.status.busy": "2022-01-04T20:09:55.539208Z",
     "iopub.status.idle": "2022-01-04T20:09:55.555210Z",
     "shell.execute_reply": "2022-01-04T20:09:55.554663Z"
    },
    "papermill": {
     "duration": 0.055086,
     "end_time": "2022-01-04T20:09:55.555368",
     "exception": false,
     "start_time": "2022-01-04T20:09:55.500282",
     "status": "completed"
    },
    "tags": []
   },
   "outputs": [],
   "source": [
    "data = Data(X_train, y_train.reshape(-1,1))\n",
    "sampler = Sampler(data, config.bs, shuffle=True)\n",
    "\n",
    "dl = Dataloader(data, sampler)\n",
    "\n",
    "opt = GD(config.lr)\n",
    "loss = MSE()"
   ]
  },
  {
   "cell_type": "code",
   "execution_count": 18,
   "id": "b275e4c2",
   "metadata": {
    "execution": {
     "iopub.execute_input": "2022-01-04T20:09:55.626969Z",
     "iopub.status.busy": "2022-01-04T20:09:55.626343Z",
     "iopub.status.idle": "2022-01-04T20:09:55.639838Z",
     "shell.execute_reply": "2022-01-04T20:09:55.639322Z"
    },
    "papermill": {
     "duration": 0.052315,
     "end_time": "2022-01-04T20:09:55.639973",
     "exception": false,
     "start_time": "2022-01-04T20:09:55.587658",
     "status": "completed"
    },
    "tags": []
   },
   "outputs": [],
   "source": [
    "training_data_x = X_train\n",
    "testing_data_x = X_test\n",
    "training_data_y = y_train.reshape(-1,1)\n",
    "testing_data_y = y_test.reshape(-1,1)"
   ]
  },
  {
   "cell_type": "code",
   "execution_count": 19,
   "id": "76951160",
   "metadata": {
    "execution": {
     "iopub.execute_input": "2022-01-04T20:09:55.714853Z",
     "iopub.status.busy": "2022-01-04T20:09:55.714230Z",
     "iopub.status.idle": "2022-01-04T20:09:55.734823Z",
     "shell.execute_reply": "2022-01-04T20:09:55.735308Z"
    },
    "papermill": {
     "duration": 0.062751,
     "end_time": "2022-01-04T20:09:55.735470",
     "exception": false,
     "start_time": "2022-01-04T20:09:55.672719",
     "status": "completed"
    },
    "tags": []
   },
   "outputs": [
    {
     "name": "stdout",
     "output_type": "stream",
     "text": [
      "xavier\n",
      "xavier\n",
      "xavier\n",
      "xavier\n",
      "xavier\n"
     ]
    }
   ],
   "source": [
    "layers = [Affine(\"first\", 784, 100), Relu(\"first\"), Affine(\"second\", 100, 100), Relu(\"second\"), Affine(\"third\", 100, 2), Affine(\"last\", 2, 1), Sigmoid(\"last\")]\n",
    "model_nn = Model(layers)\n",
    "model_lr = Model([Affine(\"logits\", 784, 1), Sigmoid(\"sigmoid\")])"
   ]
  },
  {
   "cell_type": "code",
   "execution_count": 20,
   "id": "6eede77a",
   "metadata": {
    "execution": {
     "iopub.execute_input": "2022-01-04T20:09:55.807868Z",
     "iopub.status.busy": "2022-01-04T20:09:55.807206Z",
     "iopub.status.idle": "2022-01-04T20:09:55.821616Z",
     "shell.execute_reply": "2022-01-04T20:09:55.822123Z"
    },
    "papermill": {
     "duration": 0.054537,
     "end_time": "2022-01-04T20:09:55.822293",
     "exception": false,
     "start_time": "2022-01-04T20:09:55.767756",
     "status": "completed"
    },
    "tags": []
   },
   "outputs": [],
   "source": [
    "nn_learner = Learner(loss, model_nn, opt, config.num_epochs)\n",
    "acc_nn = ClfCallback(nn_learner, config.bs, training_data_x , testing_data_x, training_data_y, testing_data_y)\n",
    "nn_learner.set_callbacks([acc_nn])"
   ]
  },
  {
   "cell_type": "code",
   "execution_count": 21,
   "id": "877b6cc7",
   "metadata": {
    "execution": {
     "iopub.execute_input": "2022-01-04T20:09:55.889109Z",
     "iopub.status.busy": "2022-01-04T20:09:55.888497Z",
     "iopub.status.idle": "2022-01-04T20:09:55.902719Z",
     "shell.execute_reply": "2022-01-04T20:09:55.902221Z"
    },
    "papermill": {
     "duration": 0.049418,
     "end_time": "2022-01-04T20:09:55.902861",
     "exception": false,
     "start_time": "2022-01-04T20:09:55.853443",
     "status": "completed"
    },
    "tags": []
   },
   "outputs": [],
   "source": [
    "lr_learner = Learner(loss, model_lr, opt, config.num_epochs)\n",
    "acc_lr = ClfCallback(lr_learner, config.bs, training_data_x , testing_data_x, training_data_y, testing_data_y)\n",
    "lr_learner.set_callbacks([acc_lr])"
   ]
  },
  {
   "cell_type": "code",
   "execution_count": 22,
   "id": "d9b133c3",
   "metadata": {
    "execution": {
     "iopub.execute_input": "2022-01-04T20:09:55.971433Z",
     "iopub.status.busy": "2022-01-04T20:09:55.970785Z",
     "iopub.status.idle": "2022-01-04T20:11:26.019664Z",
     "shell.execute_reply": "2022-01-04T20:11:26.020597Z"
    },
    "papermill": {
     "duration": 90.086492,
     "end_time": "2022-01-04T20:11:26.020769",
     "exception": false,
     "start_time": "2022-01-04T20:09:55.934277",
     "status": "completed"
    },
    "tags": []
   },
   "outputs": [
    {
     "name": "stdout",
     "output_type": "stream",
     "text": [
      "Epoch 0, Loss 0.2425\n",
      "Training Accuracy: 0.5964, Testing Accuracy: 0.5983\n",
      "\n"
     ]
    },
    {
     "name": "stdout",
     "output_type": "stream",
     "text": [
      "Epoch 10, Loss 0.0948\n",
      "Training Accuracy: 0.9262, Testing Accuracy: 0.9405\n",
      "\n"
     ]
    },
    {
     "name": "stdout",
     "output_type": "stream",
     "text": [
      "Epoch 20, Loss 0.0565\n",
      "Training Accuracy: 0.9423, Testing Accuracy: 0.9531\n",
      "\n"
     ]
    },
    {
     "name": "stdout",
     "output_type": "stream",
     "text": [
      "Epoch 30, Loss 0.0445\n",
      "Training Accuracy: 0.9534, Testing Accuracy: 0.9592\n",
      "\n"
     ]
    },
    {
     "name": "stdout",
     "output_type": "stream",
     "text": [
      "Epoch 40, Loss 0.0387\n",
      "Training Accuracy: 0.9568, Testing Accuracy: 0.9637\n",
      "\n"
     ]
    },
    {
     "name": "stdout",
     "output_type": "stream",
     "text": [
      "Epoch 50, Loss 0.0352\n",
      "Training Accuracy: 0.9594, Testing Accuracy: 0.9652\n",
      "\n"
     ]
    },
    {
     "name": "stdout",
     "output_type": "stream",
     "text": [
      "Epoch 60, Loss 0.0328\n",
      "Training Accuracy: 0.9619, Testing Accuracy: 0.9667\n",
      "\n"
     ]
    },
    {
     "name": "stdout",
     "output_type": "stream",
     "text": [
      "Epoch 70, Loss 0.031\n",
      "Training Accuracy: 0.9636, Testing Accuracy: 0.9682\n",
      "\n"
     ]
    },
    {
     "name": "stdout",
     "output_type": "stream",
     "text": [
      "Epoch 80, Loss 0.0296\n",
      "Training Accuracy: 0.9653, Testing Accuracy: 0.9698\n",
      "\n"
     ]
    },
    {
     "name": "stdout",
     "output_type": "stream",
     "text": [
      "Epoch 90, Loss 0.0285\n",
      "Training Accuracy: 0.9661, Testing Accuracy: 0.9708\n",
      "\n"
     ]
    },
    {
     "name": "stdout",
     "output_type": "stream",
     "text": [
      "Epoch 100, Loss 0.0275\n",
      "Training Accuracy: 0.9674, Testing Accuracy: 0.9708\n",
      "\n"
     ]
    },
    {
     "name": "stdout",
     "output_type": "stream",
     "text": [
      "Epoch 110, Loss 0.0267\n",
      "Training Accuracy: 0.9686, Testing Accuracy: 0.9703\n",
      "\n"
     ]
    },
    {
     "name": "stdout",
     "output_type": "stream",
     "text": [
      "Epoch 120, Loss 0.0259\n",
      "Training Accuracy: 0.9697, Testing Accuracy: 0.9708\n",
      "\n"
     ]
    },
    {
     "name": "stdout",
     "output_type": "stream",
     "text": [
      "Epoch 130, Loss 0.0253\n",
      "Training Accuracy: 0.9701, Testing Accuracy: 0.9703\n",
      "\n"
     ]
    },
    {
     "name": "stdout",
     "output_type": "stream",
     "text": [
      "Epoch 140, Loss 0.0247\n",
      "Training Accuracy: 0.9710, Testing Accuracy: 0.9728\n",
      "\n"
     ]
    },
    {
     "name": "stdout",
     "output_type": "stream",
     "text": [
      "Epoch 150, Loss 0.0241\n",
      "Training Accuracy: 0.9719, Testing Accuracy: 0.9728\n",
      "\n"
     ]
    },
    {
     "name": "stdout",
     "output_type": "stream",
     "text": [
      "Epoch 160, Loss 0.0236\n",
      "Training Accuracy: 0.9725, Testing Accuracy: 0.9728\n",
      "\n"
     ]
    },
    {
     "name": "stdout",
     "output_type": "stream",
     "text": [
      "Epoch 170, Loss 0.0232\n",
      "Training Accuracy: 0.9734, Testing Accuracy: 0.9723\n",
      "\n"
     ]
    },
    {
     "name": "stdout",
     "output_type": "stream",
     "text": [
      "Epoch 180, Loss 0.0227\n",
      "Training Accuracy: 0.9738, Testing Accuracy: 0.9738\n",
      "\n"
     ]
    },
    {
     "name": "stdout",
     "output_type": "stream",
     "text": [
      "Epoch 190, Loss 0.0223\n",
      "Training Accuracy: 0.9743, Testing Accuracy: 0.9738\n",
      "\n"
     ]
    },
    {
     "name": "stdout",
     "output_type": "stream",
     "text": [
      "Epoch 200, Loss 0.0219\n",
      "Training Accuracy: 0.9744, Testing Accuracy: 0.9743\n",
      "\n"
     ]
    },
    {
     "name": "stdout",
     "output_type": "stream",
     "text": [
      "Epoch 210, Loss 0.0215\n",
      "Training Accuracy: 0.9750, Testing Accuracy: 0.9743\n",
      "\n"
     ]
    },
    {
     "name": "stdout",
     "output_type": "stream",
     "text": [
      "Epoch 220, Loss 0.0212\n",
      "Training Accuracy: 0.9756, Testing Accuracy: 0.9743\n",
      "\n"
     ]
    },
    {
     "name": "stdout",
     "output_type": "stream",
     "text": [
      "Epoch 230, Loss 0.0208\n",
      "Training Accuracy: 0.9763, Testing Accuracy: 0.9743\n",
      "\n"
     ]
    },
    {
     "name": "stdout",
     "output_type": "stream",
     "text": [
      "Epoch 240, Loss 0.0205\n",
      "Training Accuracy: 0.9769, Testing Accuracy: 0.9748\n",
      "\n"
     ]
    },
    {
     "data": {
      "text/plain": [
       "0.04356594915206444"
      ]
     },
     "execution_count": 22,
     "metadata": {},
     "output_type": "execute_result"
    }
   ],
   "source": [
    "nn_learner.train_loop(dl)"
   ]
  },
  {
   "cell_type": "code",
   "execution_count": 23,
   "id": "e0163366",
   "metadata": {
    "execution": {
     "iopub.execute_input": "2022-01-04T20:11:26.112853Z",
     "iopub.status.busy": "2022-01-04T20:11:26.112243Z",
     "iopub.status.idle": "2022-01-04T20:11:42.118765Z",
     "shell.execute_reply": "2022-01-04T20:11:42.119629Z"
    },
    "papermill": {
     "duration": 16.058625,
     "end_time": "2022-01-04T20:11:42.119792",
     "exception": false,
     "start_time": "2022-01-04T20:11:26.061167",
     "status": "completed"
    },
    "tags": []
   },
   "outputs": [
    {
     "name": "stdout",
     "output_type": "stream",
     "text": [
      "Epoch 0, Loss 0.2454\n",
      "Training Accuracy: 0.6763, Testing Accuracy: 0.6855\n",
      "\n"
     ]
    },
    {
     "name": "stdout",
     "output_type": "stream",
     "text": [
      "Epoch 10, Loss 0.1019\n",
      "Training Accuracy: 0.9122, Testing Accuracy: 0.9229\n",
      "\n"
     ]
    },
    {
     "name": "stdout",
     "output_type": "stream",
     "text": [
      "Epoch 20, Loss 0.0784\n",
      "Training Accuracy: 0.9279, Testing Accuracy: 0.9425\n",
      "\n"
     ]
    },
    {
     "name": "stdout",
     "output_type": "stream",
     "text": [
      "Epoch 30, Loss 0.0678\n",
      "Training Accuracy: 0.9361, Testing Accuracy: 0.9501\n",
      "\n"
     ]
    },
    {
     "name": "stdout",
     "output_type": "stream",
     "text": [
      "Epoch 40, Loss 0.0614\n",
      "Training Accuracy: 0.9404, Testing Accuracy: 0.9546\n",
      "\n"
     ]
    },
    {
     "name": "stdout",
     "output_type": "stream",
     "text": [
      "Epoch 50, Loss 0.057\n",
      "Training Accuracy: 0.9425, Testing Accuracy: 0.9556\n",
      "\n"
     ]
    },
    {
     "name": "stdout",
     "output_type": "stream",
     "text": [
      "Epoch 60, Loss 0.0538\n",
      "Training Accuracy: 0.9442, Testing Accuracy: 0.9572\n",
      "\n"
     ]
    },
    {
     "name": "stdout",
     "output_type": "stream",
     "text": [
      "Epoch 70, Loss 0.0513\n",
      "Training Accuracy: 0.9458, Testing Accuracy: 0.9592\n",
      "\n"
     ]
    },
    {
     "name": "stdout",
     "output_type": "stream",
     "text": [
      "Epoch 80, Loss 0.0493\n",
      "Training Accuracy: 0.9486, Testing Accuracy: 0.9607\n",
      "\n"
     ]
    },
    {
     "name": "stdout",
     "output_type": "stream",
     "text": [
      "Epoch 90, Loss 0.0477\n",
      "Training Accuracy: 0.9502, Testing Accuracy: 0.9622\n",
      "\n"
     ]
    },
    {
     "name": "stdout",
     "output_type": "stream",
     "text": [
      "Epoch 100, Loss 0.0463\n",
      "Training Accuracy: 0.9514, Testing Accuracy: 0.9627\n",
      "\n"
     ]
    },
    {
     "name": "stdout",
     "output_type": "stream",
     "text": [
      "Epoch 110, Loss 0.0451\n",
      "Training Accuracy: 0.9526, Testing Accuracy: 0.9637\n",
      "\n"
     ]
    },
    {
     "name": "stdout",
     "output_type": "stream",
     "text": [
      "Epoch 120, Loss 0.044\n",
      "Training Accuracy: 0.9535, Testing Accuracy: 0.9642\n",
      "\n"
     ]
    },
    {
     "name": "stdout",
     "output_type": "stream",
     "text": [
      "Epoch 130, Loss 0.0431\n",
      "Training Accuracy: 0.9548, Testing Accuracy: 0.9647\n",
      "\n"
     ]
    },
    {
     "name": "stdout",
     "output_type": "stream",
     "text": [
      "Epoch 140, Loss 0.0423\n",
      "Training Accuracy: 0.9555, Testing Accuracy: 0.9652\n",
      "\n"
     ]
    },
    {
     "name": "stdout",
     "output_type": "stream",
     "text": [
      "Epoch 150, Loss 0.0415\n",
      "Training Accuracy: 0.9563, Testing Accuracy: 0.9657\n",
      "\n"
     ]
    },
    {
     "name": "stdout",
     "output_type": "stream",
     "text": [
      "Epoch 160, Loss 0.0409\n",
      "Training Accuracy: 0.9574, Testing Accuracy: 0.9662\n",
      "\n"
     ]
    },
    {
     "name": "stdout",
     "output_type": "stream",
     "text": [
      "Epoch 170, Loss 0.0402\n",
      "Training Accuracy: 0.9579, Testing Accuracy: 0.9657\n",
      "\n"
     ]
    },
    {
     "name": "stdout",
     "output_type": "stream",
     "text": [
      "Epoch 180, Loss 0.0397\n",
      "Training Accuracy: 0.9584, Testing Accuracy: 0.9657\n",
      "\n"
     ]
    },
    {
     "name": "stdout",
     "output_type": "stream",
     "text": [
      "Epoch 190, Loss 0.0392\n",
      "Training Accuracy: 0.9587, Testing Accuracy: 0.9662\n",
      "\n"
     ]
    },
    {
     "name": "stdout",
     "output_type": "stream",
     "text": [
      "Epoch 200, Loss 0.0387\n",
      "Training Accuracy: 0.9590, Testing Accuracy: 0.9662\n",
      "\n"
     ]
    },
    {
     "name": "stdout",
     "output_type": "stream",
     "text": [
      "Epoch 210, Loss 0.0382\n",
      "Training Accuracy: 0.9597, Testing Accuracy: 0.9662\n",
      "\n"
     ]
    },
    {
     "name": "stdout",
     "output_type": "stream",
     "text": [
      "Epoch 220, Loss 0.0378\n",
      "Training Accuracy: 0.9599, Testing Accuracy: 0.9677\n",
      "\n"
     ]
    },
    {
     "name": "stdout",
     "output_type": "stream",
     "text": [
      "Epoch 230, Loss 0.0374\n",
      "Training Accuracy: 0.9603, Testing Accuracy: 0.9677\n",
      "\n"
     ]
    },
    {
     "name": "stdout",
     "output_type": "stream",
     "text": [
      "Epoch 240, Loss 0.0371\n",
      "Training Accuracy: 0.9604, Testing Accuracy: 0.9677\n",
      "\n"
     ]
    },
    {
     "data": {
      "text/plain": [
       "0.04000351734072904"
      ]
     },
     "execution_count": 23,
     "metadata": {},
     "output_type": "execute_result"
    }
   ],
   "source": [
    "lr_learner.train_loop(dl)"
   ]
  },
  {
   "cell_type": "code",
   "execution_count": 24,
   "id": "ca410940",
   "metadata": {
    "execution": {
     "iopub.execute_input": "2022-01-04T20:11:42.228956Z",
     "iopub.status.busy": "2022-01-04T20:11:42.228322Z",
     "iopub.status.idle": "2022-01-04T20:11:42.493361Z",
     "shell.execute_reply": "2022-01-04T20:11:42.493852Z"
    },
    "papermill": {
     "duration": 0.327029,
     "end_time": "2022-01-04T20:11:42.494009",
     "exception": false,
     "start_time": "2022-01-04T20:11:42.166980",
     "status": "completed"
    },
    "tags": []
   },
   "outputs": [
    {
     "data": {
      "text/plain": [
       "<matplotlib.legend.Legend at 0x7f6d91215a58>"
      ]
     },
     "execution_count": 24,
     "metadata": {},
     "output_type": "execute_result"
    },
    {
     "data": {
      "image/png": "[encoded data removed]",
      "text/plain": [
       "<Figure size 1080x720 with 1 Axes>"
      ]
     },
     "metadata": {
      "needs_background": "light"
     },
     "output_type": "display_data"
    }
   ],
   "source": [
    "#comparing the results of NN and LR\n",
    "plt.figure(figsize=(15,10))\n",
    "\n",
    "# Neural Network plots\n",
    "plt.plot(acc_nn.accuracies, 'r-', label = \"Training Accuracies - NN\")\n",
    "plt.plot(acc_nn.test_accuracies, 'g-', label = \"Testing Accuracies - NN\")\n",
    "\n",
    "# Logistic Regression plots\n",
    "plt.plot(acc_lr.accuracies, 'k-', label = \"Training Accuracies - LR\")\n",
    "plt.plot(acc_lr.test_accuracies, 'b-', label = \"Testing Accuracies - LR\")\n",
    "plt.legend()"
   ]
  },
  {
   "cell_type": "markdown",
   "id": "80dfb35c",
   "metadata": {
    "papermill": {
     "duration": 0.048446,
     "end_time": "2022-01-04T20:11:42.591043",
     "exception": false,
     "start_time": "2022-01-04T20:11:42.542597",
     "status": "completed"
    },
    "tags": []
   },
   "source": [
    "#### Plotting the outputs of this layer of the NN.\n"
   ]
  },
  {
   "cell_type": "code",
   "execution_count": 25,
   "id": "45eb2ff5",
   "metadata": {
    "execution": {
     "iopub.execute_input": "2022-01-04T20:11:42.696886Z",
     "iopub.status.busy": "2022-01-04T20:11:42.696069Z",
     "iopub.status.idle": "2022-01-04T20:11:42.718314Z",
     "shell.execute_reply": "2022-01-04T20:11:42.719273Z"
    },
    "papermill": {
     "duration": 0.080108,
     "end_time": "2022-01-04T20:11:42.719449",
     "exception": false,
     "start_time": "2022-01-04T20:11:42.639341",
     "status": "completed"
    },
    "tags": []
   },
   "outputs": [],
   "source": [
    "new_model = Model(layers[:-2])\n",
    "testing_plot = new_model(testing_data_x)"
   ]
  },
  {
   "cell_type": "code",
   "execution_count": 26,
   "id": "4c0a5485",
   "metadata": {
    "execution": {
     "iopub.execute_input": "2022-01-04T20:11:42.826561Z",
     "iopub.status.busy": "2022-01-04T20:11:42.825942Z",
     "iopub.status.idle": "2022-01-04T20:11:43.098136Z",
     "shell.execute_reply": "2022-01-04T20:11:43.098608Z"
    },
    "papermill": {
     "duration": 0.327442,
     "end_time": "2022-01-04T20:11:43.098778",
     "exception": false,
     "start_time": "2022-01-04T20:11:42.771336",
     "status": "completed"
    },
    "tags": []
   },
   "outputs": [
    {
     "data": {
      "text/plain": [
       "Text(0.5, 1.0, 'Outputs')"
      ]
     },
     "execution_count": 26,
     "metadata": {},
     "output_type": "execute_result"
    },
    {
     "data": {
      "image/png": "[encoded data removed]",
      "text/plain": [
       "<Figure size 576x504 with 1 Axes>"
      ]
     },
     "metadata": {
      "needs_background": "light"
     },
     "output_type": "display_data"
    }
   ],
   "source": [
    "# Plotting the scatter plot of points and color coding by class\n",
    "plt.figure(figsize=(8,7))\n",
    "plt.scatter(testing_plot[:,0], testing_plot[:,1], alpha = 0.1, c = y_test.ravel());\n",
    "plt.title('Outputs')"
   ]
  },
  {
   "cell_type": "markdown",
   "id": "a74fcf8f",
   "metadata": {
    "papermill": {
     "duration": 0.051295,
     "end_time": "2022-01-04T20:11:43.201825",
     "exception": false,
     "start_time": "2022-01-04T20:11:43.150530",
     "status": "completed"
    },
    "tags": []
   },
   "source": [
    "Probability contours"
   ]
  },
  {
   "cell_type": "code",
   "execution_count": 27,
   "id": "d0afc8e3",
   "metadata": {
    "execution": {
     "iopub.execute_input": "2022-01-04T20:11:43.309554Z",
     "iopub.status.busy": "2022-01-04T20:11:43.308919Z",
     "iopub.status.idle": "2022-01-04T20:11:43.323163Z",
     "shell.execute_reply": "2022-01-04T20:11:43.322574Z"
    },
    "papermill": {
     "duration": 0.069976,
     "end_time": "2022-01-04T20:11:43.323323",
     "exception": false,
     "start_time": "2022-01-04T20:11:43.253347",
     "status": "completed"
    },
    "tags": []
   },
   "outputs": [],
   "source": [
    "model_prob = Model(layers[-2:]) "
   ]
  },
  {
   "cell_type": "code",
   "execution_count": 28,
   "id": "9b96e238",
   "metadata": {
    "execution": {
     "iopub.execute_input": "2022-01-04T20:11:43.477795Z",
     "iopub.status.busy": "2022-01-04T20:11:43.476696Z",
     "iopub.status.idle": "2022-01-04T20:11:43.494119Z",
     "shell.execute_reply": "2022-01-04T20:11:43.494611Z"
    },
    "papermill": {
     "duration": 0.079856,
     "end_time": "2022-01-04T20:11:43.494782",
     "exception": false,
     "start_time": "2022-01-04T20:11:43.414926",
     "status": "completed"
    },
    "tags": []
   },
   "outputs": [],
   "source": [
    "#creating the x and y ranges according to the above generated plot.\n",
    "x_range = np.linspace(-4, 1, 100) \n",
    "y_range = np.linspace(-6, 6, 100) \n",
    "x_grid, y_grid = np.meshgrid(x_range, y_range) # x_grid and y_grig are of size 100 X 100\n",
    "\n",
    "# converting x_grid and y_grid to continuous arrays\n",
    "x_gridflat = np.ravel(x_grid)\n",
    "y_gridflat = np.ravel(y_grid)\n",
    "\n",
    "# The last layer of the current model takes two columns as input. Hence transpose of np.vstack() is required.\n",
    "X = np.vstack((x_gridflat, y_gridflat)).T\n",
    "\n",
    "prob_contour = model_prob(X).reshape(100,100) "
   ]
  },
  {
   "cell_type": "code",
   "execution_count": 29,
   "id": "da72499a",
   "metadata": {
    "execution": {
     "iopub.execute_input": "2022-01-04T20:11:43.605939Z",
     "iopub.status.busy": "2022-01-04T20:11:43.605319Z",
     "iopub.status.idle": "2022-01-04T20:11:43.926208Z",
     "shell.execute_reply": "2022-01-04T20:11:43.926695Z"
    },
    "papermill": {
     "duration": 0.378686,
     "end_time": "2022-01-04T20:11:43.926860",
     "exception": false,
     "start_time": "2022-01-04T20:11:43.548174",
     "status": "completed"
    },
    "tags": []
   },
   "outputs": [
    {
     "data": {
      "image/png": "[encoded data removed]",
      "text/plain": [
       "<Figure size 720x648 with 1 Axes>"
      ]
     },
     "metadata": {
      "needs_background": "light"
     },
     "output_type": "display_data"
    }
   ],
   "source": [
    "plt.figure(figsize=(10,9))\n",
    "plt.scatter(testing_plot[:,0], testing_plot[:,1], alpha = 0.1, c = y_test.ravel())\n",
    "contours = plt.contour(x_grid,y_grid,prob_contour)\n",
    "plt.title('Probability Contours')\n",
    "plt.clabel(contours, inline = True );"
   ]
  },
  {
   "cell_type": "code",
   "execution_count": null,
   "id": "e81b4ac7",
   "metadata": {
    "papermill": {
     "duration": 0.062105,
     "end_time": "2022-01-04T20:11:44.049164",
     "exception": false,
     "start_time": "2022-01-04T20:11:43.987059",
     "status": "completed"
    },
    "tags": []
   },
   "outputs": [],
   "source": []
  }
 ],
 "metadata": {
  "kernelspec": {
   "display_name": "Python 3",
   "language": "python",
   "name": "python3"
  },
  "language_info": {
   "codemirror_mode": {
    "name": "ipython",
    "version": 3
   },
   "file_extension": ".py",
   "mimetype": "text/x-python",
   "name": "python",
   "nbconvert_exporter": "python",
   "pygments_lexer": "ipython3",
   "version": "3.6.15"
  },
  "papermill": {
   "default_parameters": {},
   "duration": 116.547492,
   "end_time": "2022-01-04T20:11:44.624199",
   "environment_variables": {},
   "exception": null,
   "input_path": "2020-08-11-part2.ipynb",
   "output_path": "2020-08-11-part2.ipynb",
   "parameters": {},
   "start_time": "2022-01-04T20:09:48.076707",
   "version": "2.3.3"
  }
 },
 "nbformat": 4,
 "nbformat_minor": 5
}