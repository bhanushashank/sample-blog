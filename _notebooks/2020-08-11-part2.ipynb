{
 "cells": [
  {
   "cell_type": "markdown",
   "id": "98380cd3",
   "metadata": {
    "papermill": {
     "duration": 0.028313,
     "end_time": "2022-02-15T00:25:34.885550",
     "exception": false,
     "start_time": "2022-02-15T00:25:34.857237",
     "status": "completed"
    },
    "tags": []
   },
   "source": [
    "# Distinguish Your Own Digits (DYOD)"
   ]
  },
  {
   "cell_type": "markdown",
   "id": "ef31240d",
   "metadata": {
    "papermill": {
     "duration": 0.025939,
     "end_time": "2022-02-15T00:25:34.936719",
     "exception": false,
     "start_time": "2022-02-15T00:25:34.910780",
     "status": "completed"
    },
    "tags": []
   },
   "source": [
    "You are going to write a classifier that distinguishes between the number 3 and number 8."
   ]
  },
  {
   "cell_type": "code",
   "execution_count": 1,
   "id": "b15c8646",
   "metadata": {
    "execution": {
     "iopub.execute_input": "2022-02-15T00:25:34.995871Z",
     "iopub.status.busy": "2022-02-15T00:25:34.995346Z",
     "iopub.status.idle": "2022-02-15T00:25:35.005059Z",
     "shell.execute_reply": "2022-02-15T00:25:35.005496Z"
    },
    "papermill": {
     "duration": 0.0443,
     "end_time": "2022-02-15T00:25:35.005641",
     "exception": false,
     "start_time": "2022-02-15T00:25:34.961341",
     "status": "completed"
    },
    "tags": []
   },
   "outputs": [],
   "source": [
    "%load_ext autoreload\n",
    "%autoreload 2"
   ]
  },
  {
   "cell_type": "code",
   "execution_count": 2,
   "id": "22ef38dc",
   "metadata": {
    "execution": {
     "iopub.execute_input": "2022-02-15T00:25:35.058916Z",
     "iopub.status.busy": "2022-02-15T00:25:35.058414Z",
     "iopub.status.idle": "2022-02-15T00:25:35.623370Z",
     "shell.execute_reply": "2022-02-15T00:25:35.622421Z"
    },
    "papermill": {
     "duration": 0.593218,
     "end_time": "2022-02-15T00:25:35.623487",
     "exception": false,
     "start_time": "2022-02-15T00:25:35.030269",
     "status": "completed"
    },
    "tags": []
   },
   "outputs": [],
   "source": [
    "%matplotlib inline\n",
    "import numpy as np\n",
    "import matplotlib.pyplot as plt\n",
    "import pandas as pd"
   ]
  },
  {
   "cell_type": "markdown",
   "id": "ba036198",
   "metadata": {
    "papermill": {
     "duration": 0.024828,
     "end_time": "2022-02-15T00:25:35.673133",
     "exception": false,
     "start_time": "2022-02-15T00:25:35.648305",
     "status": "completed"
    },
    "tags": []
   },
   "source": [
    "From the command line run `pip install mnist`. This is a library that will help you bring down the mnist dataset. If you run this from a notebook, you need to put  `!pip install mnist` in a cell by itself."
   ]
  },
  {
   "cell_type": "code",
   "execution_count": 3,
   "id": "bb6ad8a1",
   "metadata": {
    "execution": {
     "iopub.execute_input": "2022-02-15T00:25:35.730324Z",
     "iopub.status.busy": "2022-02-15T00:25:35.725899Z",
     "iopub.status.idle": "2022-02-15T00:25:37.506913Z",
     "shell.execute_reply": "2022-02-15T00:25:37.506445Z"
    },
    "papermill": {
     "duration": 1.809135,
     "end_time": "2022-02-15T00:25:37.507023",
     "exception": false,
     "start_time": "2022-02-15T00:25:35.697888",
     "status": "completed"
    },
    "tags": []
   },
   "outputs": [
    {
     "name": "stdout",
     "output_type": "stream",
     "text": [
      "Collecting mnist\r\n"
     ]
    },
    {
     "name": "stdout",
     "output_type": "stream",
     "text": [
      "  Downloading mnist-0.2.2-py2.py3-none-any.whl (3.5 kB)\r\n",
      "Requirement already satisfied: numpy in /opt/hostedtoolcache/Python/3.6.15/x64/lib/python3.6/site-packages (from mnist) (1.19.5)\r\n"
     ]
    },
    {
     "name": "stdout",
     "output_type": "stream",
     "text": [
      "Installing collected packages: mnist\r\n"
     ]
    },
    {
     "name": "stdout",
     "output_type": "stream",
     "text": [
      "Successfully installed mnist-0.2.2\r\n"
     ]
    }
   ],
   "source": [
    "!pip install mnist"
   ]
  },
  {
   "cell_type": "markdown",
   "id": "69df9c9a",
   "metadata": {
    "papermill": {
     "duration": 0.026124,
     "end_time": "2022-02-15T00:25:37.559194",
     "exception": false,
     "start_time": "2022-02-15T00:25:37.533070",
     "status": "completed"
    },
    "tags": []
   },
   "source": [
    "## Preparing the Data"
   ]
  },
  {
   "cell_type": "code",
   "execution_count": 4,
   "id": "7f69d806",
   "metadata": {
    "execution": {
     "iopub.execute_input": "2022-02-15T00:25:37.614436Z",
     "iopub.status.busy": "2022-02-15T00:25:37.613940Z",
     "iopub.status.idle": "2022-02-15T00:25:37.626892Z",
     "shell.execute_reply": "2022-02-15T00:25:37.627301Z"
    },
    "papermill": {
     "duration": 0.04244,
     "end_time": "2022-02-15T00:25:37.627420",
     "exception": false,
     "start_time": "2022-02-15T00:25:37.584980",
     "status": "completed"
    },
    "tags": []
   },
   "outputs": [],
   "source": [
    "import mnist"
   ]
  },
  {
   "cell_type": "code",
   "execution_count": 5,
   "id": "a411e44f",
   "metadata": {
    "execution": {
     "iopub.execute_input": "2022-02-15T00:25:37.682670Z",
     "iopub.status.busy": "2022-02-15T00:25:37.682174Z",
     "iopub.status.idle": "2022-02-15T00:25:38.421955Z",
     "shell.execute_reply": "2022-02-15T00:25:38.421508Z"
    },
    "papermill": {
     "duration": 0.76868,
     "end_time": "2022-02-15T00:25:38.422070",
     "exception": false,
     "start_time": "2022-02-15T00:25:37.653390",
     "status": "completed"
    },
    "tags": []
   },
   "outputs": [],
   "source": [
    "train_images = mnist.train_images()\n",
    "train_labels = mnist.train_labels()"
   ]
  },
  {
   "cell_type": "code",
   "execution_count": 6,
   "id": "dceab3a5",
   "metadata": {
    "execution": {
     "iopub.execute_input": "2022-02-15T00:25:38.478039Z",
     "iopub.status.busy": "2022-02-15T00:25:38.477525Z",
     "iopub.status.idle": "2022-02-15T00:25:38.491182Z",
     "shell.execute_reply": "2022-02-15T00:25:38.490759Z"
    },
    "papermill": {
     "duration": 0.042927,
     "end_time": "2022-02-15T00:25:38.491284",
     "exception": false,
     "start_time": "2022-02-15T00:25:38.448357",
     "status": "completed"
    },
    "tags": []
   },
   "outputs": [
    {
     "data": {
      "text/plain": [
       "((60000, 28, 28), (60000,))"
      ]
     },
     "execution_count": 6,
     "metadata": {},
     "output_type": "execute_result"
    }
   ],
   "source": [
    "train_images.shape, train_labels.shape"
   ]
  },
  {
   "cell_type": "code",
   "execution_count": 7,
   "id": "f50dc2bb",
   "metadata": {
    "execution": {
     "iopub.execute_input": "2022-02-15T00:25:38.547195Z",
     "iopub.status.busy": "2022-02-15T00:25:38.546691Z",
     "iopub.status.idle": "2022-02-15T00:25:38.753422Z",
     "shell.execute_reply": "2022-02-15T00:25:38.752973Z"
    },
    "papermill": {
     "duration": 0.236243,
     "end_time": "2022-02-15T00:25:38.753554",
     "exception": false,
     "start_time": "2022-02-15T00:25:38.517311",
     "status": "completed"
    },
    "tags": []
   },
   "outputs": [],
   "source": [
    "test_images = mnist.test_images()\n",
    "test_labels = mnist.test_labels()"
   ]
  },
  {
   "cell_type": "code",
   "execution_count": 8,
   "id": "fc38cf1b",
   "metadata": {
    "execution": {
     "iopub.execute_input": "2022-02-15T00:25:38.809793Z",
     "iopub.status.busy": "2022-02-15T00:25:38.809265Z",
     "iopub.status.idle": "2022-02-15T00:25:38.821977Z",
     "shell.execute_reply": "2022-02-15T00:25:38.821566Z"
    },
    "papermill": {
     "duration": 0.042133,
     "end_time": "2022-02-15T00:25:38.822084",
     "exception": false,
     "start_time": "2022-02-15T00:25:38.779951",
     "status": "completed"
    },
    "tags": []
   },
   "outputs": [
    {
     "data": {
      "text/plain": [
       "((10000, 28, 28), (10000,))"
      ]
     },
     "execution_count": 8,
     "metadata": {},
     "output_type": "execute_result"
    }
   ],
   "source": [
    "test_images.shape, test_labels.shape"
   ]
  },
  {
   "cell_type": "code",
   "execution_count": 9,
   "id": "f9ed8fe0",
   "metadata": {
    "execution": {
     "iopub.execute_input": "2022-02-15T00:25:38.878583Z",
     "iopub.status.busy": "2022-02-15T00:25:38.878090Z",
     "iopub.status.idle": "2022-02-15T00:25:39.009439Z",
     "shell.execute_reply": "2022-02-15T00:25:39.009861Z"
    },
    "papermill": {
     "duration": 0.161478,
     "end_time": "2022-02-15T00:25:39.009989",
     "exception": false,
     "start_time": "2022-02-15T00:25:38.848511",
     "status": "completed"
    },
    "tags": []
   },
   "outputs": [
    {
     "name": "stdout",
     "output_type": "stream",
     "text": [
      "2\n"
     ]
    },
    {
     "data": {
      "text/plain": [
       "<matplotlib.image.AxesImage at 0x7f8b3ae7c518>"
      ]
     },
     "execution_count": 9,
     "metadata": {},
     "output_type": "execute_result"
    },
    {
     "data": {
      "image/png": "[encoded data removed]",
      "text/plain": [
       "<Figure size 432x288 with 1 Axes>"
      ]
     },
     "metadata": {
      "needs_background": "light"
     },
     "output_type": "display_data"
    }
   ],
   "source": [
    "image_index = 7776 # You may select anything up to 60,000\n",
    "print(train_labels[image_index]) \n",
    "plt.imshow(train_images[image_index], cmap='Greys')"
   ]
  },
  {
   "cell_type": "markdown",
   "id": "a8d2388d",
   "metadata": {
    "papermill": {
     "duration": 0.027846,
     "end_time": "2022-02-15T00:25:39.065512",
     "exception": false,
     "start_time": "2022-02-15T00:25:39.037666",
     "status": "completed"
    },
    "tags": []
   },
   "source": [
    "## Filter data to get 3 and 8 out"
   ]
  },
  {
   "cell_type": "code",
   "execution_count": 10,
   "id": "776f7fc7",
   "metadata": {
    "execution": {
     "iopub.execute_input": "2022-02-15T00:25:39.124734Z",
     "iopub.status.busy": "2022-02-15T00:25:39.124234Z",
     "iopub.status.idle": "2022-02-15T00:25:39.140953Z",
     "shell.execute_reply": "2022-02-15T00:25:39.140531Z"
    },
    "papermill": {
     "duration": 0.048067,
     "end_time": "2022-02-15T00:25:39.141058",
     "exception": false,
     "start_time": "2022-02-15T00:25:39.092991",
     "status": "completed"
    },
    "tags": []
   },
   "outputs": [],
   "source": [
    "train_filter = np.where((train_labels == 3 ) | (train_labels == 8))\n",
    "test_filter = np.where((test_labels == 3) | (test_labels == 8))\n",
    "X_train, y_train = train_images[train_filter], train_labels[train_filter]\n",
    "X_test, y_test = test_images[test_filter], test_labels[test_filter]"
   ]
  },
  {
   "cell_type": "markdown",
   "id": "948f0b7e",
   "metadata": {
    "papermill": {
     "duration": 0.027816,
     "end_time": "2022-02-15T00:25:39.196517",
     "exception": false,
     "start_time": "2022-02-15T00:25:39.168701",
     "status": "completed"
    },
    "tags": []
   },
   "source": [
    "We normalize the pizel values in the 0 to 1 range"
   ]
  },
  {
   "cell_type": "code",
   "execution_count": 11,
   "id": "ee4c2166",
   "metadata": {
    "execution": {
     "iopub.execute_input": "2022-02-15T00:25:39.255500Z",
     "iopub.status.busy": "2022-02-15T00:25:39.255004Z",
     "iopub.status.idle": "2022-02-15T00:25:39.296011Z",
     "shell.execute_reply": "2022-02-15T00:25:39.295586Z"
    },
    "papermill": {
     "duration": 0.071754,
     "end_time": "2022-02-15T00:25:39.296125",
     "exception": false,
     "start_time": "2022-02-15T00:25:39.224371",
     "status": "completed"
    },
    "tags": []
   },
   "outputs": [],
   "source": [
    "X_train = X_train/255.\n",
    "X_test = X_test/255."
   ]
  },
  {
   "cell_type": "markdown",
   "id": "ddcf4fab",
   "metadata": {
    "papermill": {
     "duration": 0.02795,
     "end_time": "2022-02-15T00:25:39.351878",
     "exception": false,
     "start_time": "2022-02-15T00:25:39.323928",
     "status": "completed"
    },
    "tags": []
   },
   "source": [
    "And setup the labels as 1 (when the digit is 3) and 0 (when the digit is 8)"
   ]
  },
  {
   "cell_type": "code",
   "execution_count": 12,
   "id": "7dc908f2",
   "metadata": {
    "execution": {
     "iopub.execute_input": "2022-02-15T00:25:39.410394Z",
     "iopub.status.busy": "2022-02-15T00:25:39.409886Z",
     "iopub.status.idle": "2022-02-15T00:25:39.421193Z",
     "shell.execute_reply": "2022-02-15T00:25:39.421616Z"
    },
    "papermill": {
     "duration": 0.042297,
     "end_time": "2022-02-15T00:25:39.421737",
     "exception": false,
     "start_time": "2022-02-15T00:25:39.379440",
     "status": "completed"
    },
    "tags": []
   },
   "outputs": [],
   "source": [
    "y_train = 1*(y_train==3)\n",
    "y_test = 1*(y_test==3)"
   ]
  },
  {
   "cell_type": "code",
   "execution_count": 13,
   "id": "01e4e969",
   "metadata": {
    "execution": {
     "iopub.execute_input": "2022-02-15T00:25:39.480400Z",
     "iopub.status.busy": "2022-02-15T00:25:39.479897Z",
     "iopub.status.idle": "2022-02-15T00:25:39.492379Z",
     "shell.execute_reply": "2022-02-15T00:25:39.491981Z"
    },
    "papermill": {
     "duration": 0.042981,
     "end_time": "2022-02-15T00:25:39.492483",
     "exception": false,
     "start_time": "2022-02-15T00:25:39.449502",
     "status": "completed"
    },
    "tags": []
   },
   "outputs": [
    {
     "data": {
      "text/plain": [
       "((11982, 28, 28), (1984, 28, 28))"
      ]
     },
     "execution_count": 13,
     "metadata": {},
     "output_type": "execute_result"
    }
   ],
   "source": [
    "X_train.shape, X_test.shape"
   ]
  },
  {
   "cell_type": "markdown",
   "id": "5ccf3f85",
   "metadata": {
    "papermill": {
     "duration": 0.027812,
     "end_time": "2022-02-15T00:25:39.548022",
     "exception": false,
     "start_time": "2022-02-15T00:25:39.520210",
     "status": "completed"
    },
    "tags": []
   },
   "source": [
    "We reshape the data to flatten the image pixels into a set of features or co-variates:"
   ]
  },
  {
   "cell_type": "code",
   "execution_count": 14,
   "id": "5286a4a3",
   "metadata": {
    "execution": {
     "iopub.execute_input": "2022-02-15T00:25:39.607488Z",
     "iopub.status.busy": "2022-02-15T00:25:39.606993Z",
     "iopub.status.idle": "2022-02-15T00:25:39.619956Z",
     "shell.execute_reply": "2022-02-15T00:25:39.619557Z"
    },
    "papermill": {
     "duration": 0.04401,
     "end_time": "2022-02-15T00:25:39.620058",
     "exception": false,
     "start_time": "2022-02-15T00:25:39.576048",
     "status": "completed"
    },
    "tags": []
   },
   "outputs": [
    {
     "data": {
      "text/plain": [
       "((11982, 784), (1984, 784))"
      ]
     },
     "execution_count": 14,
     "metadata": {},
     "output_type": "execute_result"
    }
   ],
   "source": [
    "X_train = X_train.reshape(X_train.shape[0], -1)\n",
    "X_test = X_test.reshape(X_test.shape[0], -1)\n",
    "X_train.shape, X_test.shape"
   ]
  },
  {
   "cell_type": "code",
   "execution_count": 15,
   "id": "73c5f88a",
   "metadata": {
    "execution": {
     "iopub.execute_input": "2022-02-15T00:25:39.680646Z",
     "iopub.status.busy": "2022-02-15T00:25:39.680145Z",
     "iopub.status.idle": "2022-02-15T00:25:39.697542Z",
     "shell.execute_reply": "2022-02-15T00:25:39.697947Z"
    },
    "papermill": {
     "duration": 0.049808,
     "end_time": "2022-02-15T00:25:39.698068",
     "exception": false,
     "start_time": "2022-02-15T00:25:39.648260",
     "status": "completed"
    },
    "tags": []
   },
   "outputs": [],
   "source": [
    "#Impoting functions from 'Kudzu'\n",
    "from kudzu.model import Model\n",
    "from kudzu.train import Learner\n",
    "from kudzu.optim import GD\n",
    "from kudzu.data import Data, Sampler,Dataloader\n",
    "\n",
    "from kudzu.callbacks import AccCallback\n",
    "from kudzu.callbacks import ClfCallback\n",
    "\n",
    "from kudzu.loss import MSE\n",
    "\n",
    "from kudzu.layer import Sigmoid,Relu\n",
    "from kudzu.layer import Affine"
   ]
  },
  {
   "cell_type": "markdown",
   "id": "bc01172a",
   "metadata": {
    "papermill": {
     "duration": 0.027865,
     "end_time": "2022-02-15T00:25:39.754008",
     "exception": false,
     "start_time": "2022-02-15T00:25:39.726143",
     "status": "completed"
    },
    "tags": []
   },
   "source": [
    "### Let us create a `Config` class, to store important parameters. \n",
    "This class essentially plays the role of a dictionary."
   ]
  },
  {
   "cell_type": "code",
   "execution_count": 16,
   "id": "978281aa",
   "metadata": {
    "execution": {
     "iopub.execute_input": "2022-02-15T00:25:39.813870Z",
     "iopub.status.busy": "2022-02-15T00:25:39.813331Z",
     "iopub.status.idle": "2022-02-15T00:25:39.824506Z",
     "shell.execute_reply": "2022-02-15T00:25:39.824923Z"
    },
    "papermill": {
     "duration": 0.042939,
     "end_time": "2022-02-15T00:25:39.825044",
     "exception": false,
     "start_time": "2022-02-15T00:25:39.782105",
     "status": "completed"
    },
    "tags": []
   },
   "outputs": [],
   "source": [
    "class Config:\n",
    "    pass\n",
    "config = Config()\n",
    "config.lr = 0.001\n",
    "config.num_epochs = 250\n",
    "config.bs = 50"
   ]
  },
  {
   "cell_type": "markdown",
   "id": "1385fa59",
   "metadata": {
    "papermill": {
     "duration": 0.027914,
     "end_time": "2022-02-15T00:25:39.881078",
     "exception": false,
     "start_time": "2022-02-15T00:25:39.853164",
     "status": "completed"
    },
    "tags": []
   },
   "source": [
    "### Running Models with the Training data\n",
    "Details about the network layers:\n",
    "- A first affine layer has 784 inputs and does 100 affine transforms. These are followed by a Relu\n",
    "- A second affine layer has 100 inputs from the 100 activations of the past layer, and does 100 affine transforms. These are followed by a Relu\n",
    "- A third affine layer has 100 activations and does 2 affine transformations to create an embedding for visualization. There is no non-linearity here.\n",
    "- A final \"logistic regression\" which has an affine transform from 2 inputs to 1 output, which is squeezed through a sigmoid.\n"
   ]
  },
  {
   "cell_type": "code",
   "execution_count": 17,
   "id": "2b9c66db",
   "metadata": {
    "execution": {
     "iopub.execute_input": "2022-02-15T00:25:39.941095Z",
     "iopub.status.busy": "2022-02-15T00:25:39.940603Z",
     "iopub.status.idle": "2022-02-15T00:25:39.952482Z",
     "shell.execute_reply": "2022-02-15T00:25:39.952081Z"
    },
    "papermill": {
     "duration": 0.04333,
     "end_time": "2022-02-15T00:25:39.952585",
     "exception": false,
     "start_time": "2022-02-15T00:25:39.909255",
     "status": "completed"
    },
    "tags": []
   },
   "outputs": [],
   "source": [
    "data = Data(X_train, y_train.reshape(-1,1))\n",
    "sampler = Sampler(data, config.bs, shuffle=True)\n",
    "\n",
    "dl = Dataloader(data, sampler)\n",
    "\n",
    "opt = GD(config.lr)\n",
    "loss = MSE()"
   ]
  },
  {
   "cell_type": "code",
   "execution_count": 18,
   "id": "b275e4c2",
   "metadata": {
    "execution": {
     "iopub.execute_input": "2022-02-15T00:25:40.012597Z",
     "iopub.status.busy": "2022-02-15T00:25:40.011837Z",
     "iopub.status.idle": "2022-02-15T00:25:40.023779Z",
     "shell.execute_reply": "2022-02-15T00:25:40.024190Z"
    },
    "papermill": {
     "duration": 0.04369,
     "end_time": "2022-02-15T00:25:40.024311",
     "exception": false,
     "start_time": "2022-02-15T00:25:39.980621",
     "status": "completed"
    },
    "tags": []
   },
   "outputs": [],
   "source": [
    "training_data_x = X_train\n",
    "testing_data_x = X_test\n",
    "training_data_y = y_train.reshape(-1,1)\n",
    "testing_data_y = y_test.reshape(-1,1)"
   ]
  },
  {
   "cell_type": "code",
   "execution_count": 19,
   "id": "76951160",
   "metadata": {
    "execution": {
     "iopub.execute_input": "2022-02-15T00:25:40.084620Z",
     "iopub.status.busy": "2022-02-15T00:25:40.084116Z",
     "iopub.status.idle": "2022-02-15T00:25:40.099353Z",
     "shell.execute_reply": "2022-02-15T00:25:40.099769Z"
    },
    "papermill": {
     "duration": 0.047542,
     "end_time": "2022-02-15T00:25:40.099889",
     "exception": false,
     "start_time": "2022-02-15T00:25:40.052347",
     "status": "completed"
    },
    "tags": []
   },
   "outputs": [
    {
     "name": "stdout",
     "output_type": "stream",
     "text": [
      "xavier\n",
      "xavier\n",
      "xavier\n",
      "xavier\n",
      "xavier\n"
     ]
    }
   ],
   "source": [
    "layers = [Affine(\"first\", 784, 100), Relu(\"first\"), Affine(\"second\", 100, 100), Relu(\"second\"), Affine(\"third\", 100, 2), Affine(\"last\", 2, 1), Sigmoid(\"last\")]\n",
    "model_nn = Model(layers)\n",
    "model_lr = Model([Affine(\"logits\", 784, 1), Sigmoid(\"sigmoid\")])"
   ]
  },
  {
   "cell_type": "code",
   "execution_count": 20,
   "id": "6eede77a",
   "metadata": {
    "execution": {
     "iopub.execute_input": "2022-02-15T00:25:40.160305Z",
     "iopub.status.busy": "2022-02-15T00:25:40.159798Z",
     "iopub.status.idle": "2022-02-15T00:25:40.171234Z",
     "shell.execute_reply": "2022-02-15T00:25:40.170841Z"
    },
    "papermill": {
     "duration": 0.043176,
     "end_time": "2022-02-15T00:25:40.171337",
     "exception": false,
     "start_time": "2022-02-15T00:25:40.128161",
     "status": "completed"
    },
    "tags": []
   },
   "outputs": [],
   "source": [
    "nn_learner = Learner(loss, model_nn, opt, config.num_epochs)\n",
    "acc_nn = ClfCallback(nn_learner, config.bs, training_data_x , testing_data_x, training_data_y, testing_data_y)\n",
    "nn_learner.set_callbacks([acc_nn])"
   ]
  },
  {
   "cell_type": "code",
   "execution_count": 21,
   "id": "877b6cc7",
   "metadata": {
    "execution": {
     "iopub.execute_input": "2022-02-15T00:25:40.231578Z",
     "iopub.status.busy": "2022-02-15T00:25:40.231093Z",
     "iopub.status.idle": "2022-02-15T00:25:40.243170Z",
     "shell.execute_reply": "2022-02-15T00:25:40.242766Z"
    },
    "papermill": {
     "duration": 0.043559,
     "end_time": "2022-02-15T00:25:40.243276",
     "exception": false,
     "start_time": "2022-02-15T00:25:40.199717",
     "status": "completed"
    },
    "tags": []
   },
   "outputs": [],
   "source": [
    "lr_learner = Learner(loss, model_lr, opt, config.num_epochs)\n",
    "acc_lr = ClfCallback(lr_learner, config.bs, training_data_x , testing_data_x, training_data_y, testing_data_y)\n",
    "lr_learner.set_callbacks([acc_lr])"
   ]
  },
  {
   "cell_type": "code",
   "execution_count": 22,
   "id": "d9b133c3",
   "metadata": {
    "execution": {
     "iopub.execute_input": "2022-02-15T00:25:40.303295Z",
     "iopub.status.busy": "2022-02-15T00:25:40.302796Z",
     "iopub.status.idle": "2022-02-15T00:28:36.915841Z",
     "shell.execute_reply": "2022-02-15T00:28:36.916264Z"
    },
    "papermill": {
     "duration": 176.644637,
     "end_time": "2022-02-15T00:28:36.916389",
     "exception": false,
     "start_time": "2022-02-15T00:25:40.271752",
     "status": "completed"
    },
    "tags": []
   },
   "outputs": [
    {
     "name": "stdout",
     "output_type": "stream",
     "text": [
      "Epoch 0, Loss 0.2467\n",
      "Training Accuracy: 0.6155, Testing Accuracy: 0.6633\n",
      "\n"
     ]
    },
    {
     "name": "stdout",
     "output_type": "stream",
     "text": [
      "Epoch 10, Loss 0.1566\n",
      "Training Accuracy: 0.8939, Testing Accuracy: 0.9128\n",
      "\n"
     ]
    },
    {
     "name": "stdout",
     "output_type": "stream",
     "text": [
      "Epoch 20, Loss 0.0771\n",
      "Training Accuracy: 0.9268, Testing Accuracy: 0.9410\n",
      "\n"
     ]
    },
    {
     "name": "stdout",
     "output_type": "stream",
     "text": [
      "Epoch 30, Loss 0.0536\n",
      "Training Accuracy: 0.9441, Testing Accuracy: 0.9556\n",
      "\n"
     ]
    },
    {
     "name": "stdout",
     "output_type": "stream",
     "text": [
      "Epoch 40, Loss 0.0437\n",
      "Training Accuracy: 0.9528, Testing Accuracy: 0.9592\n",
      "\n"
     ]
    },
    {
     "name": "stdout",
     "output_type": "stream",
     "text": [
      "Epoch 50, Loss 0.0384\n",
      "Training Accuracy: 0.9569, Testing Accuracy: 0.9632\n",
      "\n"
     ]
    },
    {
     "name": "stdout",
     "output_type": "stream",
     "text": [
      "Epoch 60, Loss 0.0352\n",
      "Training Accuracy: 0.9596, Testing Accuracy: 0.9652\n",
      "\n"
     ]
    },
    {
     "name": "stdout",
     "output_type": "stream",
     "text": [
      "Epoch 70, Loss 0.0329\n",
      "Training Accuracy: 0.9613, Testing Accuracy: 0.9688\n",
      "\n"
     ]
    },
    {
     "name": "stdout",
     "output_type": "stream",
     "text": [
      "Epoch 80, Loss 0.0311\n",
      "Training Accuracy: 0.9639, Testing Accuracy: 0.9682\n",
      "\n"
     ]
    },
    {
     "name": "stdout",
     "output_type": "stream",
     "text": [
      "Epoch 90, Loss 0.0298\n",
      "Training Accuracy: 0.9649, Testing Accuracy: 0.9698\n",
      "\n"
     ]
    },
    {
     "name": "stdout",
     "output_type": "stream",
     "text": [
      "Epoch 100, Loss 0.0287\n",
      "Training Accuracy: 0.9666, Testing Accuracy: 0.9693\n",
      "\n"
     ]
    },
    {
     "name": "stdout",
     "output_type": "stream",
     "text": [
      "Epoch 110, Loss 0.0277\n",
      "Training Accuracy: 0.9676, Testing Accuracy: 0.9703\n",
      "\n"
     ]
    },
    {
     "name": "stdout",
     "output_type": "stream",
     "text": [
      "Epoch 120, Loss 0.0269\n",
      "Training Accuracy: 0.9682, Testing Accuracy: 0.9708\n",
      "\n"
     ]
    },
    {
     "name": "stdout",
     "output_type": "stream",
     "text": [
      "Epoch 130, Loss 0.0262\n",
      "Training Accuracy: 0.9686, Testing Accuracy: 0.9713\n",
      "\n"
     ]
    },
    {
     "name": "stdout",
     "output_type": "stream",
     "text": [
      "Epoch 140, Loss 0.0256\n",
      "Training Accuracy: 0.9696, Testing Accuracy: 0.9708\n",
      "\n"
     ]
    },
    {
     "name": "stdout",
     "output_type": "stream",
     "text": [
      "Epoch 150, Loss 0.025\n",
      "Training Accuracy: 0.9703, Testing Accuracy: 0.9708\n",
      "\n"
     ]
    },
    {
     "name": "stdout",
     "output_type": "stream",
     "text": [
      "Epoch 160, Loss 0.0244\n",
      "Training Accuracy: 0.9706, Testing Accuracy: 0.9708\n",
      "\n"
     ]
    },
    {
     "name": "stdout",
     "output_type": "stream",
     "text": [
      "Epoch 170, Loss 0.0239\n",
      "Training Accuracy: 0.9712, Testing Accuracy: 0.9708\n",
      "\n"
     ]
    },
    {
     "name": "stdout",
     "output_type": "stream",
     "text": [
      "Epoch 180, Loss 0.0235\n",
      "Training Accuracy: 0.9719, Testing Accuracy: 0.9708\n",
      "\n"
     ]
    },
    {
     "name": "stdout",
     "output_type": "stream",
     "text": [
      "Epoch 190, Loss 0.023\n",
      "Training Accuracy: 0.9726, Testing Accuracy: 0.9708\n",
      "\n"
     ]
    },
    {
     "name": "stdout",
     "output_type": "stream",
     "text": [
      "Epoch 200, Loss 0.0226\n",
      "Training Accuracy: 0.9730, Testing Accuracy: 0.9708\n",
      "\n"
     ]
    },
    {
     "name": "stdout",
     "output_type": "stream",
     "text": [
      "Epoch 210, Loss 0.0222\n",
      "Training Accuracy: 0.9736, Testing Accuracy: 0.9708\n",
      "\n"
     ]
    },
    {
     "name": "stdout",
     "output_type": "stream",
     "text": [
      "Epoch 220, Loss 0.0218\n",
      "Training Accuracy: 0.9740, Testing Accuracy: 0.9718\n",
      "\n"
     ]
    },
    {
     "name": "stdout",
     "output_type": "stream",
     "text": [
      "Epoch 230, Loss 0.0214\n",
      "Training Accuracy: 0.9745, Testing Accuracy: 0.9718\n",
      "\n"
     ]
    },
    {
     "name": "stdout",
     "output_type": "stream",
     "text": [
      "Epoch 240, Loss 0.0211\n",
      "Training Accuracy: 0.9749, Testing Accuracy: 0.9723\n",
      "\n"
     ]
    },
    {
     "data": {
      "text/plain": [
       "0.008357816303417287"
      ]
     },
     "execution_count": 22,
     "metadata": {},
     "output_type": "execute_result"
    }
   ],
   "source": [
    "nn_learner.train_loop(dl)"
   ]
  },
  {
   "cell_type": "code",
   "execution_count": 23,
   "id": "e0163366",
   "metadata": {
    "execution": {
     "iopub.execute_input": "2022-02-15T00:28:36.999013Z",
     "iopub.status.busy": "2022-02-15T00:28:36.998517Z",
     "iopub.status.idle": "2022-02-15T00:28:49.204084Z",
     "shell.execute_reply": "2022-02-15T00:28:49.204833Z"
    },
    "papermill": {
     "duration": 12.252868,
     "end_time": "2022-02-15T00:28:49.204968",
     "exception": false,
     "start_time": "2022-02-15T00:28:36.952100",
     "status": "completed"
    },
    "tags": []
   },
   "outputs": [
    {
     "name": "stdout",
     "output_type": "stream",
     "text": [
      "Epoch 0, Loss 0.23\n",
      "Training Accuracy: 0.6960, Testing Accuracy: 0.6875\n",
      "\n"
     ]
    },
    {
     "name": "stdout",
     "output_type": "stream",
     "text": [
      "Epoch 10, Loss 0.0985\n",
      "Training Accuracy: 0.9249, Testing Accuracy: 0.9360\n",
      "\n"
     ]
    },
    {
     "name": "stdout",
     "output_type": "stream",
     "text": [
      "Epoch 20, Loss 0.0757\n",
      "Training Accuracy: 0.9378, Testing Accuracy: 0.9491\n",
      "\n"
     ]
    },
    {
     "name": "stdout",
     "output_type": "stream",
     "text": [
      "Epoch 30, Loss 0.0655\n",
      "Training Accuracy: 0.9427, Testing Accuracy: 0.9561\n",
      "\n"
     ]
    },
    {
     "name": "stdout",
     "output_type": "stream",
     "text": [
      "Epoch 40, Loss 0.0595\n",
      "Training Accuracy: 0.9461, Testing Accuracy: 0.9582\n",
      "\n"
     ]
    },
    {
     "name": "stdout",
     "output_type": "stream",
     "text": [
      "Epoch 50, Loss 0.0553\n",
      "Training Accuracy: 0.9484, Testing Accuracy: 0.9587\n",
      "\n"
     ]
    },
    {
     "name": "stdout",
     "output_type": "stream",
     "text": [
      "Epoch 60, Loss 0.0523\n",
      "Training Accuracy: 0.9495, Testing Accuracy: 0.9592\n",
      "\n"
     ]
    },
    {
     "name": "stdout",
     "output_type": "stream",
     "text": [
      "Epoch 70, Loss 0.0499\n",
      "Training Accuracy: 0.9510, Testing Accuracy: 0.9622\n",
      "\n"
     ]
    },
    {
     "name": "stdout",
     "output_type": "stream",
     "text": [
      "Epoch 80, Loss 0.048\n",
      "Training Accuracy: 0.9529, Testing Accuracy: 0.9617\n",
      "\n"
     ]
    },
    {
     "name": "stdout",
     "output_type": "stream",
     "text": [
      "Epoch 90, Loss 0.0464\n",
      "Training Accuracy: 0.9538, Testing Accuracy: 0.9627\n",
      "\n"
     ]
    },
    {
     "name": "stdout",
     "output_type": "stream",
     "text": [
      "Epoch 100, Loss 0.0451\n",
      "Training Accuracy: 0.9543, Testing Accuracy: 0.9637\n",
      "\n"
     ]
    },
    {
     "name": "stdout",
     "output_type": "stream",
     "text": [
      "Epoch 110, Loss 0.044\n",
      "Training Accuracy: 0.9550, Testing Accuracy: 0.9647\n",
      "\n"
     ]
    },
    {
     "name": "stdout",
     "output_type": "stream",
     "text": [
      "Epoch 120, Loss 0.043\n",
      "Training Accuracy: 0.9556, Testing Accuracy: 0.9647\n",
      "\n"
     ]
    },
    {
     "name": "stdout",
     "output_type": "stream",
     "text": [
      "Epoch 130, Loss 0.0421\n",
      "Training Accuracy: 0.9564, Testing Accuracy: 0.9652\n",
      "\n"
     ]
    },
    {
     "name": "stdout",
     "output_type": "stream",
     "text": [
      "Epoch 140, Loss 0.0413\n",
      "Training Accuracy: 0.9576, Testing Accuracy: 0.9657\n",
      "\n"
     ]
    },
    {
     "name": "stdout",
     "output_type": "stream",
     "text": [
      "Epoch 150, Loss 0.0406\n",
      "Training Accuracy: 0.9581, Testing Accuracy: 0.9662\n",
      "\n"
     ]
    },
    {
     "name": "stdout",
     "output_type": "stream",
     "text": [
      "Epoch 160, Loss 0.04\n",
      "Training Accuracy: 0.9588, Testing Accuracy: 0.9662\n",
      "\n"
     ]
    },
    {
     "name": "stdout",
     "output_type": "stream",
     "text": [
      "Epoch 170, Loss 0.0394\n",
      "Training Accuracy: 0.9594, Testing Accuracy: 0.9667\n",
      "\n"
     ]
    },
    {
     "name": "stdout",
     "output_type": "stream",
     "text": [
      "Epoch 180, Loss 0.0389\n",
      "Training Accuracy: 0.9598, Testing Accuracy: 0.9667\n",
      "\n"
     ]
    },
    {
     "name": "stdout",
     "output_type": "stream",
     "text": [
      "Epoch 190, Loss 0.0384\n",
      "Training Accuracy: 0.9604, Testing Accuracy: 0.9667\n",
      "\n"
     ]
    },
    {
     "name": "stdout",
     "output_type": "stream",
     "text": [
      "Epoch 200, Loss 0.0379\n",
      "Training Accuracy: 0.9610, Testing Accuracy: 0.9672\n",
      "\n"
     ]
    },
    {
     "name": "stdout",
     "output_type": "stream",
     "text": [
      "Epoch 210, Loss 0.0375\n",
      "Training Accuracy: 0.9611, Testing Accuracy: 0.9667\n",
      "\n"
     ]
    },
    {
     "name": "stdout",
     "output_type": "stream",
     "text": [
      "Epoch 220, Loss 0.0371\n",
      "Training Accuracy: 0.9611, Testing Accuracy: 0.9672\n",
      "\n"
     ]
    },
    {
     "name": "stdout",
     "output_type": "stream",
     "text": [
      "Epoch 230, Loss 0.0367\n",
      "Training Accuracy: 0.9613, Testing Accuracy: 0.9672\n",
      "\n"
     ]
    },
    {
     "name": "stdout",
     "output_type": "stream",
     "text": [
      "Epoch 240, Loss 0.0364\n",
      "Training Accuracy: 0.9615, Testing Accuracy: 0.9672\n",
      "\n"
     ]
    },
    {
     "data": {
      "text/plain": [
       "0.015634478638351962"
      ]
     },
     "execution_count": 23,
     "metadata": {},
     "output_type": "execute_result"
    }
   ],
   "source": [
    "lr_learner.train_loop(dl)"
   ]
  },
  {
   "cell_type": "code",
   "execution_count": 24,
   "id": "ca410940",
   "metadata": {
    "execution": {
     "iopub.execute_input": "2022-02-15T00:28:49.296681Z",
     "iopub.status.busy": "2022-02-15T00:28:49.296154Z",
     "iopub.status.idle": "2022-02-15T00:28:49.530780Z",
     "shell.execute_reply": "2022-02-15T00:28:49.530342Z"
    },
    "papermill": {
     "duration": 0.283066,
     "end_time": "2022-02-15T00:28:49.530886",
     "exception": false,
     "start_time": "2022-02-15T00:28:49.247820",
     "status": "completed"
    },
    "tags": []
   },
   "outputs": [
    {
     "data": {
      "text/plain": [
       "<matplotlib.legend.Legend at 0x7f8b3aa59c50>"
      ]
     },
     "execution_count": 24,
     "metadata": {},
     "output_type": "execute_result"
    },
    {
     "data": {
      "image/png": "[encoded data removed]",
      "text/plain": [
       "<Figure size 1080x720 with 1 Axes>"
      ]
     },
     "metadata": {
      "needs_background": "light"
     },
     "output_type": "display_data"
    }
   ],
   "source": [
    "#comparing the results of NN and LR\n",
    "plt.figure(figsize=(15,10))\n",
    "\n",
    "# Neural Network plots\n",
    "plt.plot(acc_nn.accuracies, 'r-', label = \"Training Accuracies - NN\")\n",
    "plt.plot(acc_nn.test_accuracies, 'g-', label = \"Testing Accuracies - NN\")\n",
    "\n",
    "# Logistic Regression plots\n",
    "plt.plot(acc_lr.accuracies, 'k-', label = \"Training Accuracies - LR\")\n",
    "plt.plot(acc_lr.test_accuracies, 'b-', label = \"Testing Accuracies - LR\")\n",
    "plt.legend()"
   ]
  },
  {
   "cell_type": "markdown",
   "id": "80dfb35c",
   "metadata": {
    "papermill": {
     "duration": 0.043556,
     "end_time": "2022-02-15T00:28:49.618310",
     "exception": false,
     "start_time": "2022-02-15T00:28:49.574754",
     "status": "completed"
    },
    "tags": []
   },
   "source": [
    "#### Plotting the outputs of this layer of the NN.\n"
   ]
  },
  {
   "cell_type": "code",
   "execution_count": 25,
   "id": "45eb2ff5",
   "metadata": {
    "execution": {
     "iopub.execute_input": "2022-02-15T00:28:49.710416Z",
     "iopub.status.busy": "2022-02-15T00:28:49.709251Z",
     "iopub.status.idle": "2022-02-15T00:28:49.743910Z",
     "shell.execute_reply": "2022-02-15T00:28:49.744289Z"
    },
    "papermill": {
     "duration": 0.082672,
     "end_time": "2022-02-15T00:28:49.744417",
     "exception": false,
     "start_time": "2022-02-15T00:28:49.661745",
     "status": "completed"
    },
    "tags": []
   },
   "outputs": [],
   "source": [
    "new_model = Model(layers[:-2])\n",
    "testing_plot = new_model(testing_data_x)"
   ]
  },
  {
   "cell_type": "code",
   "execution_count": 26,
   "id": "4c0a5485",
   "metadata": {
    "execution": {
     "iopub.execute_input": "2022-02-15T00:28:49.840898Z",
     "iopub.status.busy": "2022-02-15T00:28:49.839411Z",
     "iopub.status.idle": "2022-02-15T00:28:50.021445Z",
     "shell.execute_reply": "2022-02-15T00:28:50.021837Z"
    },
    "papermill": {
     "duration": 0.233086,
     "end_time": "2022-02-15T00:28:50.021966",
     "exception": false,
     "start_time": "2022-02-15T00:28:49.788880",
     "status": "completed"
    },
    "tags": []
   },
   "outputs": [
    {
     "data": {
      "text/plain": [
       "Text(0.5, 1.0, 'Outputs')"
      ]
     },
     "execution_count": 26,
     "metadata": {},
     "output_type": "execute_result"
    },
    {
     "data": {
      "image/png": "[encoded data removed]",
      "text/plain": [
       "<Figure size 576x504 with 1 Axes>"
      ]
     },
     "metadata": {
      "needs_background": "light"
     },
     "output_type": "display_data"
    }
   ],
   "source": [
    "# Plotting the scatter plot of points and color coding by class\n",
    "plt.figure(figsize=(8,7))\n",
    "plt.scatter(testing_plot[:,0], testing_plot[:,1], alpha = 0.1, c = y_test.ravel());\n",
    "plt.title('Outputs')"
   ]
  },
  {
   "cell_type": "markdown",
   "id": "a74fcf8f",
   "metadata": {
    "papermill": {
     "duration": 0.070359,
     "end_time": "2022-02-15T00:28:50.137931",
     "exception": false,
     "start_time": "2022-02-15T00:28:50.067572",
     "status": "completed"
    },
    "tags": []
   },
   "source": [
    "Probability contours"
   ]
  },
  {
   "cell_type": "code",
   "execution_count": 27,
   "id": "d0afc8e3",
   "metadata": {
    "execution": {
     "iopub.execute_input": "2022-02-15T00:28:50.234308Z",
     "iopub.status.busy": "2022-02-15T00:28:50.231546Z",
     "iopub.status.idle": "2022-02-15T00:28:50.242566Z",
     "shell.execute_reply": "2022-02-15T00:28:50.242148Z"
    },
    "papermill": {
     "duration": 0.059181,
     "end_time": "2022-02-15T00:28:50.242669",
     "exception": false,
     "start_time": "2022-02-15T00:28:50.183488",
     "status": "completed"
    },
    "tags": []
   },
   "outputs": [],
   "source": [
    "model_prob = Model(layers[-2:]) "
   ]
  },
  {
   "cell_type": "code",
   "execution_count": 28,
   "id": "9b96e238",
   "metadata": {
    "execution": {
     "iopub.execute_input": "2022-02-15T00:28:50.337735Z",
     "iopub.status.busy": "2022-02-15T00:28:50.337217Z",
     "iopub.status.idle": "2022-02-15T00:28:50.349726Z",
     "shell.execute_reply": "2022-02-15T00:28:50.349292Z"
    },
    "papermill": {
     "duration": 0.061654,
     "end_time": "2022-02-15T00:28:50.349833",
     "exception": false,
     "start_time": "2022-02-15T00:28:50.288179",
     "status": "completed"
    },
    "tags": []
   },
   "outputs": [],
   "source": [
    "#creating the x and y ranges according to the above generated plot.\n",
    "x_range = np.linspace(-4, 1, 100) \n",
    "y_range = np.linspace(-6, 6, 100) \n",
    "x_grid, y_grid = np.meshgrid(x_range, y_range) # x_grid and y_grig are of size 100 X 100\n",
    "\n",
    "# converting x_grid and y_grid to continuous arrays\n",
    "x_gridflat = np.ravel(x_grid)\n",
    "y_gridflat = np.ravel(y_grid)\n",
    "\n",
    "# The last layer of the current model takes two columns as input. Hence transpose of np.vstack() is required.\n",
    "X = np.vstack((x_gridflat, y_gridflat)).T\n",
    "\n",
    "prob_contour = model_prob(X).reshape(100,100) "
   ]
  },
  {
   "cell_type": "code",
   "execution_count": 29,
   "id": "da72499a",
   "metadata": {
    "execution": {
     "iopub.execute_input": "2022-02-15T00:28:50.444201Z",
     "iopub.status.busy": "2022-02-15T00:28:50.443706Z",
     "iopub.status.idle": "2022-02-15T00:28:50.687810Z",
     "shell.execute_reply": "2022-02-15T00:28:50.688208Z"
    },
    "papermill": {
     "duration": 0.293302,
     "end_time": "2022-02-15T00:28:50.688331",
     "exception": false,
     "start_time": "2022-02-15T00:28:50.395029",
     "status": "completed"
    },
    "tags": []
   },
   "outputs": [
    {
     "data": {
      "image/png": "[encoded data removed]",
      "text/plain": [
       "<Figure size 720x648 with 1 Axes>"
      ]
     },
     "metadata": {
      "needs_background": "light"
     },
     "output_type": "display_data"
    }
   ],
   "source": [
    "plt.figure(figsize=(10,9))\n",
    "plt.scatter(testing_plot[:,0], testing_plot[:,1], alpha = 0.1, c = y_test.ravel())\n",
    "contours = plt.contour(x_grid,y_grid,prob_contour)\n",
    "plt.title('Probability Contours')\n",
    "plt.clabel(contours, inline = True );"
   ]
  },
  {
   "cell_type": "code",
   "execution_count": null,
   "id": "e81b4ac7",
   "metadata": {
    "papermill": {
     "duration": 0.047989,
     "end_time": "2022-02-15T00:28:50.784916",
     "exception": false,
     "start_time": "2022-02-15T00:28:50.736927",
     "status": "completed"
    },
    "tags": []
   },
   "outputs": [],
   "source": []
  }
 ],
 "metadata": {
  "kernelspec": {
   "display_name": "Python 3",
   "language": "python",
   "name": "python3"
  },
  "language_info": {
   "codemirror_mode": {
    "name": "ipython",
    "version": 3
   },
   "file_extension": ".py",
   "mimetype": "text/x-python",
   "name": "python",
   "nbconvert_exporter": "python",
   "pygments_lexer": "ipython3",
   "version": "3.6.15"
  },
  "papermill": {
   "default_parameters": {},
   "duration": 197.213635,
   "end_time": "2022-02-15T00:28:51.150280",
   "environment_variables": {},
   "exception": null,
   "input_path": "2020-08-11-part2.ipynb",
   "output_path": "2020-08-11-part2.ipynb",
   "parameters": {},
   "start_time": "2022-02-15T00:25:33.936645",
   "version": "2.3.3"
  }
 },
 "nbformat": 4,
 "nbformat_minor": 5
}