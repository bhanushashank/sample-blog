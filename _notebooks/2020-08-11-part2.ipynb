{
 "cells": [
  {
   "cell_type": "markdown",
   "id": "98380cd3",
   "metadata": {
    "papermill": {
     "duration": 0.028325,
     "end_time": "2022-04-04T10:10:14.574092",
     "exception": false,
     "start_time": "2022-04-04T10:10:14.545767",
     "status": "completed"
    },
    "tags": []
   },
   "source": [
    "# Distinguish Your Own Digits (DYOD)"
   ]
  },
  {
   "cell_type": "markdown",
   "id": "ef31240d",
   "metadata": {
    "papermill": {
     "duration": 0.025774,
     "end_time": "2022-04-04T10:10:14.624782",
     "exception": false,
     "start_time": "2022-04-04T10:10:14.599008",
     "status": "completed"
    },
    "tags": []
   },
   "source": [
    "You are going to write a classifier that distinguishes between the number 3 and number 8."
   ]
  },
  {
   "cell_type": "code",
   "execution_count": 1,
   "id": "b15c8646",
   "metadata": {
    "execution": {
     "iopub.execute_input": "2022-04-04T10:10:14.684184Z",
     "iopub.status.busy": "2022-04-04T10:10:14.683640Z",
     "iopub.status.idle": "2022-04-04T10:10:14.694219Z",
     "shell.execute_reply": "2022-04-04T10:10:14.693757Z"
    },
    "papermill": {
     "duration": 0.045438,
     "end_time": "2022-04-04T10:10:14.694352",
     "exception": false,
     "start_time": "2022-04-04T10:10:14.648914",
     "status": "completed"
    },
    "tags": []
   },
   "outputs": [],
   "source": [
    "%load_ext autoreload\n",
    "%autoreload 2"
   ]
  },
  {
   "cell_type": "code",
   "execution_count": 2,
   "id": "22ef38dc",
   "metadata": {
    "execution": {
     "iopub.execute_input": "2022-04-04T10:10:14.746158Z",
     "iopub.status.busy": "2022-04-04T10:10:14.745645Z",
     "iopub.status.idle": "2022-04-04T10:10:15.345119Z",
     "shell.execute_reply": "2022-04-04T10:10:15.344509Z"
    },
    "papermill": {
     "duration": 0.62685,
     "end_time": "2022-04-04T10:10:15.345271",
     "exception": false,
     "start_time": "2022-04-04T10:10:14.718421",
     "status": "completed"
    },
    "tags": []
   },
   "outputs": [],
   "source": [
    "%matplotlib inline\n",
    "import numpy as np\n",
    "import matplotlib.pyplot as plt\n",
    "import pandas as pd"
   ]
  },
  {
   "cell_type": "markdown",
   "id": "ba036198",
   "metadata": {
    "papermill": {
     "duration": 0.02411,
     "end_time": "2022-04-04T10:10:15.394405",
     "exception": false,
     "start_time": "2022-04-04T10:10:15.370295",
     "status": "completed"
    },
    "tags": []
   },
   "source": [
    "From the command line run `pip install mnist`. This is a library that will help you bring down the mnist dataset. If you run this from a notebook, you need to put  `!pip install mnist` in a cell by itself."
   ]
  },
  {
   "cell_type": "code",
   "execution_count": 3,
   "id": "bb6ad8a1",
   "metadata": {
    "execution": {
     "iopub.execute_input": "2022-04-04T10:10:15.466244Z",
     "iopub.status.busy": "2022-04-04T10:10:15.461608Z",
     "iopub.status.idle": "2022-04-04T10:10:17.177555Z",
     "shell.execute_reply": "2022-04-04T10:10:17.176639Z"
    },
    "papermill": {
     "duration": 1.759146,
     "end_time": "2022-04-04T10:10:17.177704",
     "exception": false,
     "start_time": "2022-04-04T10:10:15.418558",
     "status": "completed"
    },
    "tags": []
   },
   "outputs": [
    {
     "name": "stdout",
     "output_type": "stream",
     "text": [
      "Collecting mnist\r\n"
     ]
    },
    {
     "name": "stdout",
     "output_type": "stream",
     "text": [
      "  Downloading mnist-0.2.2-py2.py3-none-any.whl (3.5 kB)\r\n",
      "Requirement already satisfied: numpy in /opt/hostedtoolcache/Python/3.6.15/x64/lib/python3.6/site-packages (from mnist) (1.19.5)\r\n"
     ]
    },
    {
     "name": "stdout",
     "output_type": "stream",
     "text": [
      "Installing collected packages: mnist\r\n"
     ]
    },
    {
     "name": "stdout",
     "output_type": "stream",
     "text": [
      "Successfully installed mnist-0.2.2\r\n"
     ]
    }
   ],
   "source": [
    "!pip install mnist"
   ]
  },
  {
   "cell_type": "markdown",
   "id": "69df9c9a",
   "metadata": {
    "papermill": {
     "duration": 0.025494,
     "end_time": "2022-04-04T10:10:17.229588",
     "exception": false,
     "start_time": "2022-04-04T10:10:17.204094",
     "status": "completed"
    },
    "tags": []
   },
   "source": [
    "## Preparing the Data"
   ]
  },
  {
   "cell_type": "code",
   "execution_count": 4,
   "id": "7f69d806",
   "metadata": {
    "execution": {
     "iopub.execute_input": "2022-04-04T10:10:17.285451Z",
     "iopub.status.busy": "2022-04-04T10:10:17.284922Z",
     "iopub.status.idle": "2022-04-04T10:10:17.299317Z",
     "shell.execute_reply": "2022-04-04T10:10:17.298890Z"
    },
    "papermill": {
     "duration": 0.044411,
     "end_time": "2022-04-04T10:10:17.299440",
     "exception": false,
     "start_time": "2022-04-04T10:10:17.255029",
     "status": "completed"
    },
    "tags": []
   },
   "outputs": [],
   "source": [
    "import mnist"
   ]
  },
  {
   "cell_type": "code",
   "execution_count": 5,
   "id": "a411e44f",
   "metadata": {
    "execution": {
     "iopub.execute_input": "2022-04-04T10:10:17.358072Z",
     "iopub.status.busy": "2022-04-04T10:10:17.357546Z",
     "iopub.status.idle": "2022-04-04T10:10:17.877382Z",
     "shell.execute_reply": "2022-04-04T10:10:17.876832Z"
    },
    "papermill": {
     "duration": 0.552487,
     "end_time": "2022-04-04T10:10:17.877534",
     "exception": false,
     "start_time": "2022-04-04T10:10:17.325047",
     "status": "completed"
    },
    "tags": []
   },
   "outputs": [],
   "source": [
    "train_images = mnist.train_images()\n",
    "train_labels = mnist.train_labels()"
   ]
  },
  {
   "cell_type": "code",
   "execution_count": 6,
   "id": "dceab3a5",
   "metadata": {
    "execution": {
     "iopub.execute_input": "2022-04-04T10:10:17.947137Z",
     "iopub.status.busy": "2022-04-04T10:10:17.946581Z",
     "iopub.status.idle": "2022-04-04T10:10:17.956493Z",
     "shell.execute_reply": "2022-04-04T10:10:17.956042Z"
    },
    "papermill": {
     "duration": 0.05235,
     "end_time": "2022-04-04T10:10:17.956617",
     "exception": false,
     "start_time": "2022-04-04T10:10:17.904267",
     "status": "completed"
    },
    "tags": []
   },
   "outputs": [
    {
     "data": {
      "text/plain": [
       "((60000, 28, 28), (60000,))"
      ]
     },
     "execution_count": 6,
     "metadata": {},
     "output_type": "execute_result"
    }
   ],
   "source": [
    "train_images.shape, train_labels.shape"
   ]
  },
  {
   "cell_type": "code",
   "execution_count": 7,
   "id": "f50dc2bb",
   "metadata": {
    "execution": {
     "iopub.execute_input": "2022-04-04T10:10:18.012333Z",
     "iopub.status.busy": "2022-04-04T10:10:18.011816Z",
     "iopub.status.idle": "2022-04-04T10:10:18.121824Z",
     "shell.execute_reply": "2022-04-04T10:10:18.122322Z"
    },
    "papermill": {
     "duration": 0.139892,
     "end_time": "2022-04-04T10:10:18.122507",
     "exception": false,
     "start_time": "2022-04-04T10:10:17.982615",
     "status": "completed"
    },
    "tags": []
   },
   "outputs": [],
   "source": [
    "test_images = mnist.test_images()\n",
    "test_labels = mnist.test_labels()"
   ]
  },
  {
   "cell_type": "code",
   "execution_count": 8,
   "id": "fc38cf1b",
   "metadata": {
    "execution": {
     "iopub.execute_input": "2022-04-04T10:10:18.193619Z",
     "iopub.status.busy": "2022-04-04T10:10:18.187249Z",
     "iopub.status.idle": "2022-04-04T10:10:18.196742Z",
     "shell.execute_reply": "2022-04-04T10:10:18.196256Z"
    },
    "papermill": {
     "duration": 0.04799,
     "end_time": "2022-04-04T10:10:18.196871",
     "exception": false,
     "start_time": "2022-04-04T10:10:18.148881",
     "status": "completed"
    },
    "tags": []
   },
   "outputs": [
    {
     "data": {
      "text/plain": [
       "((10000, 28, 28), (10000,))"
      ]
     },
     "execution_count": 8,
     "metadata": {},
     "output_type": "execute_result"
    }
   ],
   "source": [
    "test_images.shape, test_labels.shape"
   ]
  },
  {
   "cell_type": "code",
   "execution_count": 9,
   "id": "f9ed8fe0",
   "metadata": {
    "execution": {
     "iopub.execute_input": "2022-04-04T10:10:18.258097Z",
     "iopub.status.busy": "2022-04-04T10:10:18.257559Z",
     "iopub.status.idle": "2022-04-04T10:10:18.398267Z",
     "shell.execute_reply": "2022-04-04T10:10:18.397755Z"
    },
    "papermill": {
     "duration": 0.175488,
     "end_time": "2022-04-04T10:10:18.398407",
     "exception": false,
     "start_time": "2022-04-04T10:10:18.222919",
     "status": "completed"
    },
    "tags": []
   },
   "outputs": [
    {
     "name": "stdout",
     "output_type": "stream",
     "text": [
      "2\n"
     ]
    },
    {
     "data": {
      "text/plain": [
       "<matplotlib.image.AxesImage at 0x7f1a46563630>"
      ]
     },
     "execution_count": 9,
     "metadata": {},
     "output_type": "execute_result"
    },
    {
     "data": {
      "image/png": "[encoded data removed]",
      "text/plain": [
       "<Figure size 432x288 with 1 Axes>"
      ]
     },
     "metadata": {
      "needs_background": "light"
     },
     "output_type": "display_data"
    }
   ],
   "source": [
    "image_index = 7776 # You may select anything up to 60,000\n",
    "print(train_labels[image_index]) \n",
    "plt.imshow(train_images[image_index], cmap='Greys')"
   ]
  },
  {
   "cell_type": "markdown",
   "id": "a8d2388d",
   "metadata": {
    "papermill": {
     "duration": 0.027378,
     "end_time": "2022-04-04T10:10:18.453389",
     "exception": false,
     "start_time": "2022-04-04T10:10:18.426011",
     "status": "completed"
    },
    "tags": []
   },
   "source": [
    "## Filter data to get 3 and 8 out"
   ]
  },
  {
   "cell_type": "code",
   "execution_count": 10,
   "id": "776f7fc7",
   "metadata": {
    "execution": {
     "iopub.execute_input": "2022-04-04T10:10:18.528252Z",
     "iopub.status.busy": "2022-04-04T10:10:18.527668Z",
     "iopub.status.idle": "2022-04-04T10:10:18.538704Z",
     "shell.execute_reply": "2022-04-04T10:10:18.538237Z"
    },
    "papermill": {
     "duration": 0.058199,
     "end_time": "2022-04-04T10:10:18.538828",
     "exception": false,
     "start_time": "2022-04-04T10:10:18.480629",
     "status": "completed"
    },
    "tags": []
   },
   "outputs": [],
   "source": [
    "train_filter = np.where((train_labels == 3 ) | (train_labels == 8))\n",
    "test_filter = np.where((test_labels == 3) | (test_labels == 8))\n",
    "X_train, y_train = train_images[train_filter], train_labels[train_filter]\n",
    "X_test, y_test = test_images[test_filter], test_labels[test_filter]"
   ]
  },
  {
   "cell_type": "markdown",
   "id": "948f0b7e",
   "metadata": {
    "papermill": {
     "duration": 0.027085,
     "end_time": "2022-04-04T10:10:18.593091",
     "exception": false,
     "start_time": "2022-04-04T10:10:18.566006",
     "status": "completed"
    },
    "tags": []
   },
   "source": [
    "We normalize the pizel values in the 0 to 1 range"
   ]
  },
  {
   "cell_type": "code",
   "execution_count": 11,
   "id": "ee4c2166",
   "metadata": {
    "execution": {
     "iopub.execute_input": "2022-04-04T10:10:18.652549Z",
     "iopub.status.busy": "2022-04-04T10:10:18.652027Z",
     "iopub.status.idle": "2022-04-04T10:10:18.701494Z",
     "shell.execute_reply": "2022-04-04T10:10:18.701966Z"
    },
    "papermill": {
     "duration": 0.082091,
     "end_time": "2022-04-04T10:10:18.702145",
     "exception": false,
     "start_time": "2022-04-04T10:10:18.620054",
     "status": "completed"
    },
    "tags": []
   },
   "outputs": [],
   "source": [
    "X_train = X_train/255.\n",
    "X_test = X_test/255."
   ]
  },
  {
   "cell_type": "markdown",
   "id": "ddcf4fab",
   "metadata": {
    "papermill": {
     "duration": 0.027187,
     "end_time": "2022-04-04T10:10:18.757074",
     "exception": false,
     "start_time": "2022-04-04T10:10:18.729887",
     "status": "completed"
    },
    "tags": []
   },
   "source": [
    "And setup the labels as 1 (when the digit is 3) and 0 (when the digit is 8)"
   ]
  },
  {
   "cell_type": "code",
   "execution_count": 12,
   "id": "7dc908f2",
   "metadata": {
    "execution": {
     "iopub.execute_input": "2022-04-04T10:10:18.815175Z",
     "iopub.status.busy": "2022-04-04T10:10:18.814654Z",
     "iopub.status.idle": "2022-04-04T10:10:18.827867Z",
     "shell.execute_reply": "2022-04-04T10:10:18.827428Z"
    },
    "papermill": {
     "duration": 0.0437,
     "end_time": "2022-04-04T10:10:18.827990",
     "exception": false,
     "start_time": "2022-04-04T10:10:18.784290",
     "status": "completed"
    },
    "tags": []
   },
   "outputs": [],
   "source": [
    "y_train = 1*(y_train==3)\n",
    "y_test = 1*(y_test==3)"
   ]
  },
  {
   "cell_type": "code",
   "execution_count": 13,
   "id": "01e4e969",
   "metadata": {
    "execution": {
     "iopub.execute_input": "2022-04-04T10:10:18.886380Z",
     "iopub.status.busy": "2022-04-04T10:10:18.885863Z",
     "iopub.status.idle": "2022-04-04T10:10:18.899807Z",
     "shell.execute_reply": "2022-04-04T10:10:18.899364Z"
    },
    "papermill": {
     "duration": 0.044894,
     "end_time": "2022-04-04T10:10:18.899922",
     "exception": false,
     "start_time": "2022-04-04T10:10:18.855028",
     "status": "completed"
    },
    "tags": []
   },
   "outputs": [
    {
     "data": {
      "text/plain": [
       "((11982, 28, 28), (1984, 28, 28))"
      ]
     },
     "execution_count": 13,
     "metadata": {},
     "output_type": "execute_result"
    }
   ],
   "source": [
    "X_train.shape, X_test.shape"
   ]
  },
  {
   "cell_type": "markdown",
   "id": "5ccf3f85",
   "metadata": {
    "papermill": {
     "duration": 0.027649,
     "end_time": "2022-04-04T10:10:18.954822",
     "exception": false,
     "start_time": "2022-04-04T10:10:18.927173",
     "status": "completed"
    },
    "tags": []
   },
   "source": [
    "We reshape the data to flatten the image pixels into a set of features or co-variates:"
   ]
  },
  {
   "cell_type": "code",
   "execution_count": 14,
   "id": "5286a4a3",
   "metadata": {
    "execution": {
     "iopub.execute_input": "2022-04-04T10:10:19.015388Z",
     "iopub.status.busy": "2022-04-04T10:10:19.014845Z",
     "iopub.status.idle": "2022-04-04T10:10:19.028994Z",
     "shell.execute_reply": "2022-04-04T10:10:19.028288Z"
    },
    "papermill": {
     "duration": 0.047015,
     "end_time": "2022-04-04T10:10:19.029114",
     "exception": false,
     "start_time": "2022-04-04T10:10:18.982099",
     "status": "completed"
    },
    "tags": []
   },
   "outputs": [
    {
     "data": {
      "text/plain": [
       "((11982, 784), (1984, 784))"
      ]
     },
     "execution_count": 14,
     "metadata": {},
     "output_type": "execute_result"
    }
   ],
   "source": [
    "X_train = X_train.reshape(X_train.shape[0], -1)\n",
    "X_test = X_test.reshape(X_test.shape[0], -1)\n",
    "X_train.shape, X_test.shape"
   ]
  },
  {
   "cell_type": "code",
   "execution_count": 15,
   "id": "73c5f88a",
   "metadata": {
    "execution": {
     "iopub.execute_input": "2022-04-04T10:10:19.089783Z",
     "iopub.status.busy": "2022-04-04T10:10:19.089258Z",
     "iopub.status.idle": "2022-04-04T10:10:19.108636Z",
     "shell.execute_reply": "2022-04-04T10:10:19.108147Z"
    },
    "papermill": {
     "duration": 0.052136,
     "end_time": "2022-04-04T10:10:19.108801",
     "exception": false,
     "start_time": "2022-04-04T10:10:19.056665",
     "status": "completed"
    },
    "tags": []
   },
   "outputs": [],
   "source": [
    "#Impoting functions from 'Kudzu'\n",
    "from kudzu.model import Model\n",
    "from kudzu.train import Learner\n",
    "from kudzu.optim import GD\n",
    "from kudzu.data import Data, Sampler,Dataloader\n",
    "\n",
    "from kudzu.callbacks import AccCallback\n",
    "from kudzu.callbacks import ClfCallback\n",
    "\n",
    "from kudzu.loss import MSE\n",
    "\n",
    "from kudzu.layer import Sigmoid,Relu\n",
    "from kudzu.layer import Affine"
   ]
  },
  {
   "cell_type": "markdown",
   "id": "bc01172a",
   "metadata": {
    "papermill": {
     "duration": 0.028087,
     "end_time": "2022-04-04T10:10:19.165277",
     "exception": false,
     "start_time": "2022-04-04T10:10:19.137190",
     "status": "completed"
    },
    "tags": []
   },
   "source": [
    "### Let us create a `Config` class, to store important parameters. \n",
    "This class essentially plays the role of a dictionary."
   ]
  },
  {
   "cell_type": "code",
   "execution_count": 16,
   "id": "978281aa",
   "metadata": {
    "execution": {
     "iopub.execute_input": "2022-04-04T10:10:19.226109Z",
     "iopub.status.busy": "2022-04-04T10:10:19.225574Z",
     "iopub.status.idle": "2022-04-04T10:10:19.238006Z",
     "shell.execute_reply": "2022-04-04T10:10:19.237574Z"
    },
    "papermill": {
     "duration": 0.045354,
     "end_time": "2022-04-04T10:10:19.238130",
     "exception": false,
     "start_time": "2022-04-04T10:10:19.192776",
     "status": "completed"
    },
    "tags": []
   },
   "outputs": [],
   "source": [
    "class Config:\n",
    "    pass\n",
    "config = Config()\n",
    "config.lr = 0.001\n",
    "config.num_epochs = 250\n",
    "config.bs = 50"
   ]
  },
  {
   "cell_type": "markdown",
   "id": "1385fa59",
   "metadata": {
    "papermill": {
     "duration": 0.027696,
     "end_time": "2022-04-04T10:10:19.293592",
     "exception": false,
     "start_time": "2022-04-04T10:10:19.265896",
     "status": "completed"
    },
    "tags": []
   },
   "source": [
    "### Running Models with the Training data\n",
    "Details about the network layers:\n",
    "- A first affine layer has 784 inputs and does 100 affine transforms. These are followed by a Relu\n",
    "- A second affine layer has 100 inputs from the 100 activations of the past layer, and does 100 affine transforms. These are followed by a Relu\n",
    "- A third affine layer has 100 activations and does 2 affine transformations to create an embedding for visualization. There is no non-linearity here.\n",
    "- A final \"logistic regression\" which has an affine transform from 2 inputs to 1 output, which is squeezed through a sigmoid.\n"
   ]
  },
  {
   "cell_type": "code",
   "execution_count": 17,
   "id": "2b9c66db",
   "metadata": {
    "execution": {
     "iopub.execute_input": "2022-04-04T10:10:19.353891Z",
     "iopub.status.busy": "2022-04-04T10:10:19.353363Z",
     "iopub.status.idle": "2022-04-04T10:10:19.365403Z",
     "shell.execute_reply": "2022-04-04T10:10:19.365843Z"
    },
    "papermill": {
     "duration": 0.044679,
     "end_time": "2022-04-04T10:10:19.365984",
     "exception": false,
     "start_time": "2022-04-04T10:10:19.321305",
     "status": "completed"
    },
    "tags": []
   },
   "outputs": [],
   "source": [
    "data = Data(X_train, y_train.reshape(-1,1))\n",
    "sampler = Sampler(data, config.bs, shuffle=True)\n",
    "\n",
    "dl = Dataloader(data, sampler)\n",
    "\n",
    "opt = GD(config.lr)\n",
    "loss = MSE()"
   ]
  },
  {
   "cell_type": "code",
   "execution_count": 18,
   "id": "b275e4c2",
   "metadata": {
    "execution": {
     "iopub.execute_input": "2022-04-04T10:10:19.425925Z",
     "iopub.status.busy": "2022-04-04T10:10:19.424912Z",
     "iopub.status.idle": "2022-04-04T10:10:19.439345Z",
     "shell.execute_reply": "2022-04-04T10:10:19.438869Z"
    },
    "papermill": {
     "duration": 0.045836,
     "end_time": "2022-04-04T10:10:19.439468",
     "exception": false,
     "start_time": "2022-04-04T10:10:19.393632",
     "status": "completed"
    },
    "tags": []
   },
   "outputs": [],
   "source": [
    "training_data_x = X_train\n",
    "testing_data_x = X_test\n",
    "training_data_y = y_train.reshape(-1,1)\n",
    "testing_data_y = y_test.reshape(-1,1)"
   ]
  },
  {
   "cell_type": "code",
   "execution_count": 19,
   "id": "76951160",
   "metadata": {
    "execution": {
     "iopub.execute_input": "2022-04-04T10:10:19.499509Z",
     "iopub.status.busy": "2022-04-04T10:10:19.498974Z",
     "iopub.status.idle": "2022-04-04T10:10:19.516304Z",
     "shell.execute_reply": "2022-04-04T10:10:19.515857Z"
    },
    "papermill": {
     "duration": 0.049025,
     "end_time": "2022-04-04T10:10:19.516422",
     "exception": false,
     "start_time": "2022-04-04T10:10:19.467397",
     "status": "completed"
    },
    "tags": []
   },
   "outputs": [
    {
     "name": "stdout",
     "output_type": "stream",
     "text": [
      "xavier\n",
      "xavier\n",
      "xavier\n",
      "xavier\n",
      "xavier\n"
     ]
    }
   ],
   "source": [
    "layers = [Affine(\"first\", 784, 100), Relu(\"first\"), Affine(\"second\", 100, 100), Relu(\"second\"), Affine(\"third\", 100, 2), Affine(\"last\", 2, 1), Sigmoid(\"last\")]\n",
    "model_nn = Model(layers)\n",
    "model_lr = Model([Affine(\"logits\", 784, 1), Sigmoid(\"sigmoid\")])"
   ]
  },
  {
   "cell_type": "code",
   "execution_count": 20,
   "id": "6eede77a",
   "metadata": {
    "execution": {
     "iopub.execute_input": "2022-04-04T10:10:19.591000Z",
     "iopub.status.busy": "2022-04-04T10:10:19.586878Z",
     "iopub.status.idle": "2022-04-04T10:10:19.594015Z",
     "shell.execute_reply": "2022-04-04T10:10:19.593588Z"
    },
    "papermill": {
     "duration": 0.04986,
     "end_time": "2022-04-04T10:10:19.594146",
     "exception": false,
     "start_time": "2022-04-04T10:10:19.544286",
     "status": "completed"
    },
    "tags": []
   },
   "outputs": [],
   "source": [
    "nn_learner = Learner(loss, model_nn, opt, config.num_epochs)\n",
    "acc_nn = ClfCallback(nn_learner, config.bs, training_data_x , testing_data_x, training_data_y, testing_data_y)\n",
    "nn_learner.set_callbacks([acc_nn])"
   ]
  },
  {
   "cell_type": "code",
   "execution_count": 21,
   "id": "877b6cc7",
   "metadata": {
    "execution": {
     "iopub.execute_input": "2022-04-04T10:10:19.659125Z",
     "iopub.status.busy": "2022-04-04T10:10:19.658581Z",
     "iopub.status.idle": "2022-04-04T10:10:19.669234Z",
     "shell.execute_reply": "2022-04-04T10:10:19.668792Z"
    },
    "papermill": {
     "duration": 0.047103,
     "end_time": "2022-04-04T10:10:19.669360",
     "exception": false,
     "start_time": "2022-04-04T10:10:19.622257",
     "status": "completed"
    },
    "tags": []
   },
   "outputs": [],
   "source": [
    "lr_learner = Learner(loss, model_lr, opt, config.num_epochs)\n",
    "acc_lr = ClfCallback(lr_learner, config.bs, training_data_x , testing_data_x, training_data_y, testing_data_y)\n",
    "lr_learner.set_callbacks([acc_lr])"
   ]
  },
  {
   "cell_type": "code",
   "execution_count": 22,
   "id": "d9b133c3",
   "metadata": {
    "execution": {
     "iopub.execute_input": "2022-04-04T10:10:19.732767Z",
     "iopub.status.busy": "2022-04-04T10:10:19.732220Z",
     "iopub.status.idle": "2022-04-04T10:11:36.480965Z",
     "shell.execute_reply": "2022-04-04T10:11:36.481733Z"
    },
    "papermill": {
     "duration": 76.784589,
     "end_time": "2022-04-04T10:11:36.481898",
     "exception": false,
     "start_time": "2022-04-04T10:10:19.697309",
     "status": "completed"
    },
    "tags": []
   },
   "outputs": [
    {
     "name": "stdout",
     "output_type": "stream",
     "text": [
      "Epoch 0, Loss 0.2462\n",
      "Training Accuracy: 0.5870, Testing Accuracy: 0.5837\n",
      "\n"
     ]
    },
    {
     "name": "stdout",
     "output_type": "stream",
     "text": [
      "Epoch 10, Loss 0.0956\n",
      "Training Accuracy: 0.9189, Testing Accuracy: 0.9299\n",
      "\n"
     ]
    },
    {
     "name": "stdout",
     "output_type": "stream",
     "text": [
      "Epoch 20, Loss 0.058\n",
      "Training Accuracy: 0.9418, Testing Accuracy: 0.9546\n",
      "\n"
     ]
    },
    {
     "name": "stdout",
     "output_type": "stream",
     "text": [
      "Epoch 30, Loss 0.045\n",
      "Training Accuracy: 0.9513, Testing Accuracy: 0.9672\n",
      "\n"
     ]
    },
    {
     "name": "stdout",
     "output_type": "stream",
     "text": [
      "Epoch 40, Loss 0.0387\n",
      "Training Accuracy: 0.9564, Testing Accuracy: 0.9693\n",
      "\n"
     ]
    },
    {
     "name": "stdout",
     "output_type": "stream",
     "text": [
      "Epoch 50, Loss 0.0351\n",
      "Training Accuracy: 0.9593, Testing Accuracy: 0.9718\n",
      "\n"
     ]
    },
    {
     "name": "stdout",
     "output_type": "stream",
     "text": [
      "Epoch 60, Loss 0.0326\n",
      "Training Accuracy: 0.9615, Testing Accuracy: 0.9723\n",
      "\n"
     ]
    },
    {
     "name": "stdout",
     "output_type": "stream",
     "text": [
      "Epoch 70, Loss 0.0308\n",
      "Training Accuracy: 0.9637, Testing Accuracy: 0.9733\n",
      "\n"
     ]
    },
    {
     "name": "stdout",
     "output_type": "stream",
     "text": [
      "Epoch 80, Loss 0.0293\n",
      "Training Accuracy: 0.9654, Testing Accuracy: 0.9728\n",
      "\n"
     ]
    },
    {
     "name": "stdout",
     "output_type": "stream",
     "text": [
      "Epoch 90, Loss 0.0282\n",
      "Training Accuracy: 0.9668, Testing Accuracy: 0.9733\n",
      "\n"
     ]
    },
    {
     "name": "stdout",
     "output_type": "stream",
     "text": [
      "Epoch 100, Loss 0.0272\n",
      "Training Accuracy: 0.9684, Testing Accuracy: 0.9743\n",
      "\n"
     ]
    },
    {
     "name": "stdout",
     "output_type": "stream",
     "text": [
      "Epoch 110, Loss 0.0263\n",
      "Training Accuracy: 0.9692, Testing Accuracy: 0.9743\n",
      "\n"
     ]
    },
    {
     "name": "stdout",
     "output_type": "stream",
     "text": [
      "Epoch 120, Loss 0.0256\n",
      "Training Accuracy: 0.9703, Testing Accuracy: 0.9743\n",
      "\n"
     ]
    },
    {
     "name": "stdout",
     "output_type": "stream",
     "text": [
      "Epoch 130, Loss 0.0249\n",
      "Training Accuracy: 0.9710, Testing Accuracy: 0.9733\n",
      "\n"
     ]
    },
    {
     "name": "stdout",
     "output_type": "stream",
     "text": [
      "Epoch 140, Loss 0.0243\n",
      "Training Accuracy: 0.9722, Testing Accuracy: 0.9728\n",
      "\n"
     ]
    },
    {
     "name": "stdout",
     "output_type": "stream",
     "text": [
      "Epoch 150, Loss 0.0238\n",
      "Training Accuracy: 0.9725, Testing Accuracy: 0.9723\n",
      "\n"
     ]
    },
    {
     "name": "stdout",
     "output_type": "stream",
     "text": [
      "Epoch 160, Loss 0.0233\n",
      "Training Accuracy: 0.9730, Testing Accuracy: 0.9733\n",
      "\n"
     ]
    },
    {
     "name": "stdout",
     "output_type": "stream",
     "text": [
      "Epoch 170, Loss 0.0228\n",
      "Training Accuracy: 0.9733, Testing Accuracy: 0.9733\n",
      "\n"
     ]
    },
    {
     "name": "stdout",
     "output_type": "stream",
     "text": [
      "Epoch 180, Loss 0.0224\n",
      "Training Accuracy: 0.9737, Testing Accuracy: 0.9733\n",
      "\n"
     ]
    },
    {
     "name": "stdout",
     "output_type": "stream",
     "text": [
      "Epoch 190, Loss 0.0219\n",
      "Training Accuracy: 0.9740, Testing Accuracy: 0.9743\n",
      "\n"
     ]
    },
    {
     "name": "stdout",
     "output_type": "stream",
     "text": [
      "Epoch 200, Loss 0.0215\n",
      "Training Accuracy: 0.9749, Testing Accuracy: 0.9743\n",
      "\n"
     ]
    },
    {
     "name": "stdout",
     "output_type": "stream",
     "text": [
      "Epoch 210, Loss 0.0211\n",
      "Training Accuracy: 0.9752, Testing Accuracy: 0.9748\n",
      "\n"
     ]
    },
    {
     "name": "stdout",
     "output_type": "stream",
     "text": [
      "Epoch 220, Loss 0.0208\n",
      "Training Accuracy: 0.9759, Testing Accuracy: 0.9748\n",
      "\n"
     ]
    },
    {
     "name": "stdout",
     "output_type": "stream",
     "text": [
      "Epoch 230, Loss 0.0204\n",
      "Training Accuracy: 0.9762, Testing Accuracy: 0.9758\n",
      "\n"
     ]
    },
    {
     "name": "stdout",
     "output_type": "stream",
     "text": [
      "Epoch 240, Loss 0.02\n",
      "Training Accuracy: 0.9768, Testing Accuracy: 0.9758\n",
      "\n"
     ]
    },
    {
     "data": {
      "text/plain": [
       "0.03661059582473692"
      ]
     },
     "execution_count": 22,
     "metadata": {},
     "output_type": "execute_result"
    }
   ],
   "source": [
    "nn_learner.train_loop(dl)"
   ]
  },
  {
   "cell_type": "code",
   "execution_count": 23,
   "id": "e0163366",
   "metadata": {
    "execution": {
     "iopub.execute_input": "2022-04-04T10:11:36.564760Z",
     "iopub.status.busy": "2022-04-04T10:11:36.564207Z",
     "iopub.status.idle": "2022-04-04T10:11:50.954549Z",
     "shell.execute_reply": "2022-04-04T10:11:50.955298Z"
    },
    "papermill": {
     "duration": 14.438471,
     "end_time": "2022-04-04T10:11:50.955459",
     "exception": false,
     "start_time": "2022-04-04T10:11:36.516988",
     "status": "completed"
    },
    "tags": []
   },
   "outputs": [
    {
     "name": "stdout",
     "output_type": "stream",
     "text": [
      "Epoch 0, Loss 0.2396\n",
      "Training Accuracy: 0.7160, Testing Accuracy: 0.6779\n",
      "\n"
     ]
    },
    {
     "name": "stdout",
     "output_type": "stream",
     "text": [
      "Epoch 10, Loss 0.102\n",
      "Training Accuracy: 0.9041, Testing Accuracy: 0.9113\n",
      "\n"
     ]
    },
    {
     "name": "stdout",
     "output_type": "stream",
     "text": [
      "Epoch 20, Loss 0.0791\n",
      "Training Accuracy: 0.9250, Testing Accuracy: 0.9370\n",
      "\n"
     ]
    },
    {
     "name": "stdout",
     "output_type": "stream",
     "text": [
      "Epoch 30, Loss 0.0684\n",
      "Training Accuracy: 0.9355, Testing Accuracy: 0.9476\n",
      "\n"
     ]
    },
    {
     "name": "stdout",
     "output_type": "stream",
     "text": [
      "Epoch 40, Loss 0.062\n",
      "Training Accuracy: 0.9404, Testing Accuracy: 0.9491\n",
      "\n"
     ]
    },
    {
     "name": "stdout",
     "output_type": "stream",
     "text": [
      "Epoch 50, Loss 0.0575\n",
      "Training Accuracy: 0.9438, Testing Accuracy: 0.9546\n",
      "\n"
     ]
    },
    {
     "name": "stdout",
     "output_type": "stream",
     "text": [
      "Epoch 60, Loss 0.0542\n",
      "Training Accuracy: 0.9461, Testing Accuracy: 0.9577\n",
      "\n"
     ]
    },
    {
     "name": "stdout",
     "output_type": "stream",
     "text": [
      "Epoch 70, Loss 0.0516\n",
      "Training Accuracy: 0.9490, Testing Accuracy: 0.9567\n",
      "\n"
     ]
    },
    {
     "name": "stdout",
     "output_type": "stream",
     "text": [
      "Epoch 80, Loss 0.0496\n",
      "Training Accuracy: 0.9507, Testing Accuracy: 0.9592\n",
      "\n"
     ]
    },
    {
     "name": "stdout",
     "output_type": "stream",
     "text": [
      "Epoch 90, Loss 0.0478\n",
      "Training Accuracy: 0.9524, Testing Accuracy: 0.9602\n",
      "\n"
     ]
    },
    {
     "name": "stdout",
     "output_type": "stream",
     "text": [
      "Epoch 100, Loss 0.0464\n",
      "Training Accuracy: 0.9526, Testing Accuracy: 0.9617\n",
      "\n"
     ]
    },
    {
     "name": "stdout",
     "output_type": "stream",
     "text": [
      "Epoch 110, Loss 0.0451\n",
      "Training Accuracy: 0.9534, Testing Accuracy: 0.9622\n",
      "\n"
     ]
    },
    {
     "name": "stdout",
     "output_type": "stream",
     "text": [
      "Epoch 120, Loss 0.0441\n",
      "Training Accuracy: 0.9543, Testing Accuracy: 0.9617\n",
      "\n"
     ]
    },
    {
     "name": "stdout",
     "output_type": "stream",
     "text": [
      "Epoch 130, Loss 0.0431\n",
      "Training Accuracy: 0.9551, Testing Accuracy: 0.9637\n",
      "\n"
     ]
    },
    {
     "name": "stdout",
     "output_type": "stream",
     "text": [
      "Epoch 140, Loss 0.0423\n",
      "Training Accuracy: 0.9557, Testing Accuracy: 0.9637\n",
      "\n"
     ]
    },
    {
     "name": "stdout",
     "output_type": "stream",
     "text": [
      "Epoch 150, Loss 0.0415\n",
      "Training Accuracy: 0.9569, Testing Accuracy: 0.9642\n",
      "\n"
     ]
    },
    {
     "name": "stdout",
     "output_type": "stream",
     "text": [
      "Epoch 160, Loss 0.0408\n",
      "Training Accuracy: 0.9578, Testing Accuracy: 0.9642\n",
      "\n"
     ]
    },
    {
     "name": "stdout",
     "output_type": "stream",
     "text": [
      "Epoch 170, Loss 0.0402\n",
      "Training Accuracy: 0.9586, Testing Accuracy: 0.9657\n",
      "\n"
     ]
    },
    {
     "name": "stdout",
     "output_type": "stream",
     "text": [
      "Epoch 180, Loss 0.0396\n",
      "Training Accuracy: 0.9590, Testing Accuracy: 0.9672\n",
      "\n"
     ]
    },
    {
     "name": "stdout",
     "output_type": "stream",
     "text": [
      "Epoch 190, Loss 0.0391\n",
      "Training Accuracy: 0.9593, Testing Accuracy: 0.9672\n",
      "\n"
     ]
    },
    {
     "name": "stdout",
     "output_type": "stream",
     "text": [
      "Epoch 200, Loss 0.0386\n",
      "Training Accuracy: 0.9598, Testing Accuracy: 0.9672\n",
      "\n"
     ]
    },
    {
     "name": "stdout",
     "output_type": "stream",
     "text": [
      "Epoch 210, Loss 0.0381\n",
      "Training Accuracy: 0.9602, Testing Accuracy: 0.9677\n",
      "\n"
     ]
    },
    {
     "name": "stdout",
     "output_type": "stream",
     "text": [
      "Epoch 220, Loss 0.0377\n",
      "Training Accuracy: 0.9604, Testing Accuracy: 0.9677\n",
      "\n"
     ]
    },
    {
     "name": "stdout",
     "output_type": "stream",
     "text": [
      "Epoch 230, Loss 0.0373\n",
      "Training Accuracy: 0.9607, Testing Accuracy: 0.9677\n",
      "\n"
     ]
    },
    {
     "name": "stdout",
     "output_type": "stream",
     "text": [
      "Epoch 240, Loss 0.037\n",
      "Training Accuracy: 0.9612, Testing Accuracy: 0.9677\n",
      "\n"
     ]
    },
    {
     "data": {
      "text/plain": [
       "0.04617379464234349"
      ]
     },
     "execution_count": 23,
     "metadata": {},
     "output_type": "execute_result"
    }
   ],
   "source": [
    "lr_learner.train_loop(dl)"
   ]
  },
  {
   "cell_type": "code",
   "execution_count": 24,
   "id": "ca410940",
   "metadata": {
    "execution": {
     "iopub.execute_input": "2022-04-04T10:11:51.053486Z",
     "iopub.status.busy": "2022-04-04T10:11:51.052929Z",
     "iopub.status.idle": "2022-04-04T10:11:51.291278Z",
     "shell.execute_reply": "2022-04-04T10:11:51.291686Z"
    },
    "papermill": {
     "duration": 0.287401,
     "end_time": "2022-04-04T10:11:51.291842",
     "exception": false,
     "start_time": "2022-04-04T10:11:51.004441",
     "status": "completed"
    },
    "tags": []
   },
   "outputs": [
    {
     "data": {
      "text/plain": [
       "<matplotlib.legend.Legend at 0x7f1a46140c88>"
      ]
     },
     "execution_count": 24,
     "metadata": {},
     "output_type": "execute_result"
    },
    {
     "data": {
      "image/png": "[encoded data removed]",
      "text/plain": [
       "<Figure size 1080x720 with 1 Axes>"
      ]
     },
     "metadata": {
      "needs_background": "light"
     },
     "output_type": "display_data"
    }
   ],
   "source": [
    "#comparing the results of NN and LR\n",
    "plt.figure(figsize=(15,10))\n",
    "\n",
    "# Neural Network plots\n",
    "plt.plot(acc_nn.accuracies, 'r-', label = \"Training Accuracies - NN\")\n",
    "plt.plot(acc_nn.test_accuracies, 'g-', label = \"Testing Accuracies - NN\")\n",
    "\n",
    "# Logistic Regression plots\n",
    "plt.plot(acc_lr.accuracies, 'k-', label = \"Training Accuracies - LR\")\n",
    "plt.plot(acc_lr.test_accuracies, 'b-', label = \"Testing Accuracies - LR\")\n",
    "plt.legend()"
   ]
  },
  {
   "cell_type": "markdown",
   "id": "80dfb35c",
   "metadata": {
    "papermill": {
     "duration": 0.04717,
     "end_time": "2022-04-04T10:11:51.381870",
     "exception": false,
     "start_time": "2022-04-04T10:11:51.334700",
     "status": "completed"
    },
    "tags": []
   },
   "source": [
    "#### Plotting the outputs of this layer of the NN.\n"
   ]
  },
  {
   "cell_type": "code",
   "execution_count": 25,
   "id": "45eb2ff5",
   "metadata": {
    "execution": {
     "iopub.execute_input": "2022-04-04T10:11:51.485900Z",
     "iopub.status.busy": "2022-04-04T10:11:51.480650Z",
     "iopub.status.idle": "2022-04-04T10:11:51.499244Z",
     "shell.execute_reply": "2022-04-04T10:11:51.499656Z"
    },
    "papermill": {
     "duration": 0.075416,
     "end_time": "2022-04-04T10:11:51.499798",
     "exception": false,
     "start_time": "2022-04-04T10:11:51.424382",
     "status": "completed"
    },
    "tags": []
   },
   "outputs": [],
   "source": [
    "new_model = Model(layers[:-2])\n",
    "testing_plot = new_model(testing_data_x)"
   ]
  },
  {
   "cell_type": "code",
   "execution_count": 26,
   "id": "4c0a5485",
   "metadata": {
    "execution": {
     "iopub.execute_input": "2022-04-04T10:11:51.595117Z",
     "iopub.status.busy": "2022-04-04T10:11:51.594580Z",
     "iopub.status.idle": "2022-04-04T10:11:51.799204Z",
     "shell.execute_reply": "2022-04-04T10:11:51.799602Z"
    },
    "papermill": {
     "duration": 0.256671,
     "end_time": "2022-04-04T10:11:51.799758",
     "exception": false,
     "start_time": "2022-04-04T10:11:51.543087",
     "status": "completed"
    },
    "tags": []
   },
   "outputs": [
    {
     "data": {
      "text/plain": [
       "Text(0.5, 1.0, 'Outputs')"
      ]
     },
     "execution_count": 26,
     "metadata": {},
     "output_type": "execute_result"
    },
    {
     "data": {
      "image/png": "[encoded data removed]",
      "text/plain": [
       "<Figure size 576x504 with 1 Axes>"
      ]
     },
     "metadata": {
      "needs_background": "light"
     },
     "output_type": "display_data"
    }
   ],
   "source": [
    "# Plotting the scatter plot of points and color coding by class\n",
    "plt.figure(figsize=(8,7))\n",
    "plt.scatter(testing_plot[:,0], testing_plot[:,1], alpha = 0.1, c = y_test.ravel());\n",
    "plt.title('Outputs')"
   ]
  },
  {
   "cell_type": "markdown",
   "id": "a74fcf8f",
   "metadata": {
    "papermill": {
     "duration": 0.04471,
     "end_time": "2022-04-04T10:11:51.889278",
     "exception": false,
     "start_time": "2022-04-04T10:11:51.844568",
     "status": "completed"
    },
    "tags": []
   },
   "source": [
    "Probability contours"
   ]
  },
  {
   "cell_type": "code",
   "execution_count": 27,
   "id": "d0afc8e3",
   "metadata": {
    "execution": {
     "iopub.execute_input": "2022-04-04T10:11:51.986241Z",
     "iopub.status.busy": "2022-04-04T10:11:51.985712Z",
     "iopub.status.idle": "2022-04-04T10:11:51.996172Z",
     "shell.execute_reply": "2022-04-04T10:11:51.996578Z"
    },
    "papermill": {
     "duration": 0.062753,
     "end_time": "2022-04-04T10:11:51.996731",
     "exception": false,
     "start_time": "2022-04-04T10:11:51.933978",
     "status": "completed"
    },
    "tags": []
   },
   "outputs": [],
   "source": [
    "model_prob = Model(layers[-2:]) "
   ]
  },
  {
   "cell_type": "code",
   "execution_count": 28,
   "id": "9b96e238",
   "metadata": {
    "execution": {
     "iopub.execute_input": "2022-04-04T10:11:52.130129Z",
     "iopub.status.busy": "2022-04-04T10:11:52.129592Z",
     "iopub.status.idle": "2022-04-04T10:11:52.139094Z",
     "shell.execute_reply": "2022-04-04T10:11:52.138344Z"
    },
    "papermill": {
     "duration": 0.06741,
     "end_time": "2022-04-04T10:11:52.139212",
     "exception": false,
     "start_time": "2022-04-04T10:11:52.071802",
     "status": "completed"
    },
    "tags": []
   },
   "outputs": [],
   "source": [
    "#creating the x and y ranges according to the above generated plot.\n",
    "x_range = np.linspace(-4, 1, 100) \n",
    "y_range = np.linspace(-6, 6, 100) \n",
    "x_grid, y_grid = np.meshgrid(x_range, y_range) # x_grid and y_grig are of size 100 X 100\n",
    "\n",
    "# converting x_grid and y_grid to continuous arrays\n",
    "x_gridflat = np.ravel(x_grid)\n",
    "y_gridflat = np.ravel(y_grid)\n",
    "\n",
    "# The last layer of the current model takes two columns as input. Hence transpose of np.vstack() is required.\n",
    "X = np.vstack((x_gridflat, y_gridflat)).T\n",
    "\n",
    "prob_contour = model_prob(X).reshape(100,100) "
   ]
  },
  {
   "cell_type": "code",
   "execution_count": 29,
   "id": "da72499a",
   "metadata": {
    "execution": {
     "iopub.execute_input": "2022-04-04T10:11:52.240342Z",
     "iopub.status.busy": "2022-04-04T10:11:52.239823Z",
     "iopub.status.idle": "2022-04-04T10:11:52.487590Z",
     "shell.execute_reply": "2022-04-04T10:11:52.487143Z"
    },
    "papermill": {
     "duration": 0.302877,
     "end_time": "2022-04-04T10:11:52.487719",
     "exception": false,
     "start_time": "2022-04-04T10:11:52.184842",
     "status": "completed"
    },
    "tags": []
   },
   "outputs": [
    {
     "data": {
      "image/png": "[encoded data removed]",
      "text/plain": [
       "<Figure size 720x648 with 1 Axes>"
      ]
     },
     "metadata": {
      "needs_background": "light"
     },
     "output_type": "display_data"
    }
   ],
   "source": [
    "plt.figure(figsize=(10,9))\n",
    "plt.scatter(testing_plot[:,0], testing_plot[:,1], alpha = 0.1, c = y_test.ravel())\n",
    "contours = plt.contour(x_grid,y_grid,prob_contour)\n",
    "plt.title('Probability Contours')\n",
    "plt.clabel(contours, inline = True );"
   ]
  },
  {
   "cell_type": "code",
   "execution_count": null,
   "id": "e81b4ac7",
   "metadata": {
    "papermill": {
     "duration": 0.046916,
     "end_time": "2022-04-04T10:11:52.581973",
     "exception": false,
     "start_time": "2022-04-04T10:11:52.535057",
     "status": "completed"
    },
    "tags": []
   },
   "outputs": [],
   "source": []
  }
 ],
 "metadata": {
  "kernelspec": {
   "display_name": "Python 3",
   "language": "python",
   "name": "python3"
  },
  "language_info": {
   "codemirror_mode": {
    "name": "ipython",
    "version": 3
   },
   "file_extension": ".py",
   "mimetype": "text/x-python",
   "name": "python",
   "nbconvert_exporter": "python",
   "pygments_lexer": "ipython3",
   "version": "3.6.15"
  },
  "papermill": {
   "default_parameters": {},
   "duration": 99.443837,
   "end_time": "2022-04-04T10:11:53.047173",
   "environment_variables": {},
   "exception": null,
   "input_path": "2020-08-11-part2.ipynb",
   "output_path": "2020-08-11-part2.ipynb",
   "parameters": {},
   "start_time": "2022-04-04T10:10:13.603336",
   "version": "2.3.3"
  }
 },
 "nbformat": 4,
 "nbformat_minor": 5
}