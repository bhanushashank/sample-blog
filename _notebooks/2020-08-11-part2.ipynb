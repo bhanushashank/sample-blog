{
 "cells": [
  {
   "cell_type": "markdown",
   "id": "98380cd3",
   "metadata": {
    "papermill": {
     "duration": 0.028479,
     "end_time": "2022-03-01T10:09:35.533545",
     "exception": false,
     "start_time": "2022-03-01T10:09:35.505066",
     "status": "completed"
    },
    "tags": []
   },
   "source": [
    "# Distinguish Your Own Digits (DYOD)"
   ]
  },
  {
   "cell_type": "markdown",
   "id": "ef31240d",
   "metadata": {
    "papermill": {
     "duration": 0.026081,
     "end_time": "2022-03-01T10:09:35.587808",
     "exception": false,
     "start_time": "2022-03-01T10:09:35.561727",
     "status": "completed"
    },
    "tags": []
   },
   "source": [
    "You are going to write a classifier that distinguishes between the number 3 and number 8."
   ]
  },
  {
   "cell_type": "code",
   "execution_count": 1,
   "id": "b15c8646",
   "metadata": {
    "execution": {
     "iopub.execute_input": "2022-03-01T10:09:35.647281Z",
     "iopub.status.busy": "2022-03-01T10:09:35.644935Z",
     "iopub.status.idle": "2022-03-01T10:09:35.657377Z",
     "shell.execute_reply": "2022-03-01T10:09:35.656947Z"
    },
    "papermill": {
     "duration": 0.044901,
     "end_time": "2022-03-01T10:09:35.657505",
     "exception": false,
     "start_time": "2022-03-01T10:09:35.612604",
     "status": "completed"
    },
    "tags": []
   },
   "outputs": [],
   "source": [
    "%load_ext autoreload\n",
    "%autoreload 2"
   ]
  },
  {
   "cell_type": "code",
   "execution_count": 2,
   "id": "22ef38dc",
   "metadata": {
    "execution": {
     "iopub.execute_input": "2022-03-01T10:09:35.711248Z",
     "iopub.status.busy": "2022-03-01T10:09:35.710712Z",
     "iopub.status.idle": "2022-03-01T10:09:36.288151Z",
     "shell.execute_reply": "2022-03-01T10:09:36.288567Z"
    },
    "papermill": {
     "duration": 0.606198,
     "end_time": "2022-03-01T10:09:36.288701",
     "exception": false,
     "start_time": "2022-03-01T10:09:35.682503",
     "status": "completed"
    },
    "tags": []
   },
   "outputs": [],
   "source": [
    "%matplotlib inline\n",
    "import numpy as np\n",
    "import matplotlib.pyplot as plt\n",
    "import pandas as pd"
   ]
  },
  {
   "cell_type": "markdown",
   "id": "ba036198",
   "metadata": {
    "papermill": {
     "duration": 0.024907,
     "end_time": "2022-03-01T10:09:36.338579",
     "exception": false,
     "start_time": "2022-03-01T10:09:36.313672",
     "status": "completed"
    },
    "tags": []
   },
   "source": [
    "From the command line run `pip install mnist`. This is a library that will help you bring down the mnist dataset. If you run this from a notebook, you need to put  `!pip install mnist` in a cell by itself."
   ]
  },
  {
   "cell_type": "code",
   "execution_count": 3,
   "id": "bb6ad8a1",
   "metadata": {
    "execution": {
     "iopub.execute_input": "2022-03-01T10:09:36.393666Z",
     "iopub.status.busy": "2022-03-01T10:09:36.393170Z",
     "iopub.status.idle": "2022-03-01T10:09:38.178445Z",
     "shell.execute_reply": "2022-03-01T10:09:38.178857Z"
    },
    "papermill": {
     "duration": 1.815357,
     "end_time": "2022-03-01T10:09:38.179021",
     "exception": false,
     "start_time": "2022-03-01T10:09:36.363664",
     "status": "completed"
    },
    "tags": []
   },
   "outputs": [
    {
     "name": "stdout",
     "output_type": "stream",
     "text": [
      "Collecting mnist\r\n"
     ]
    },
    {
     "name": "stdout",
     "output_type": "stream",
     "text": [
      "  Downloading mnist-0.2.2-py2.py3-none-any.whl (3.5 kB)\r\n",
      "Requirement already satisfied: numpy in /opt/hostedtoolcache/Python/3.6.15/x64/lib/python3.6/site-packages (from mnist) (1.19.5)\r\n"
     ]
    },
    {
     "name": "stdout",
     "output_type": "stream",
     "text": [
      "Installing collected packages: mnist\r\n"
     ]
    },
    {
     "name": "stdout",
     "output_type": "stream",
     "text": [
      "Successfully installed mnist-0.2.2\r\n"
     ]
    }
   ],
   "source": [
    "!pip install mnist"
   ]
  },
  {
   "cell_type": "markdown",
   "id": "69df9c9a",
   "metadata": {
    "papermill": {
     "duration": 0.026197,
     "end_time": "2022-03-01T10:09:38.232074",
     "exception": false,
     "start_time": "2022-03-01T10:09:38.205877",
     "status": "completed"
    },
    "tags": []
   },
   "source": [
    "## Preparing the Data"
   ]
  },
  {
   "cell_type": "code",
   "execution_count": 4,
   "id": "7f69d806",
   "metadata": {
    "execution": {
     "iopub.execute_input": "2022-03-01T10:09:38.289877Z",
     "iopub.status.busy": "2022-03-01T10:09:38.288762Z",
     "iopub.status.idle": "2022-03-01T10:09:38.302344Z",
     "shell.execute_reply": "2022-03-01T10:09:38.301824Z"
    },
    "papermill": {
     "duration": 0.044158,
     "end_time": "2022-03-01T10:09:38.302452",
     "exception": false,
     "start_time": "2022-03-01T10:09:38.258294",
     "status": "completed"
    },
    "tags": []
   },
   "outputs": [],
   "source": [
    "import mnist"
   ]
  },
  {
   "cell_type": "code",
   "execution_count": 5,
   "id": "a411e44f",
   "metadata": {
    "execution": {
     "iopub.execute_input": "2022-03-01T10:09:38.358865Z",
     "iopub.status.busy": "2022-03-01T10:09:38.358356Z",
     "iopub.status.idle": "2022-03-01T10:09:38.953571Z",
     "shell.execute_reply": "2022-03-01T10:09:38.953117Z"
    },
    "papermill": {
     "duration": 0.624836,
     "end_time": "2022-03-01T10:09:38.953689",
     "exception": false,
     "start_time": "2022-03-01T10:09:38.328853",
     "status": "completed"
    },
    "tags": []
   },
   "outputs": [],
   "source": [
    "train_images = mnist.train_images()\n",
    "train_labels = mnist.train_labels()"
   ]
  },
  {
   "cell_type": "code",
   "execution_count": 6,
   "id": "dceab3a5",
   "metadata": {
    "execution": {
     "iopub.execute_input": "2022-03-01T10:09:39.010354Z",
     "iopub.status.busy": "2022-03-01T10:09:39.009866Z",
     "iopub.status.idle": "2022-03-01T10:09:39.023592Z",
     "shell.execute_reply": "2022-03-01T10:09:39.023171Z"
    },
    "papermill": {
     "duration": 0.04351,
     "end_time": "2022-03-01T10:09:39.023696",
     "exception": false,
     "start_time": "2022-03-01T10:09:38.980186",
     "status": "completed"
    },
    "tags": []
   },
   "outputs": [
    {
     "data": {
      "text/plain": [
       "((60000, 28, 28), (60000,))"
      ]
     },
     "execution_count": 6,
     "metadata": {},
     "output_type": "execute_result"
    }
   ],
   "source": [
    "train_images.shape, train_labels.shape"
   ]
  },
  {
   "cell_type": "code",
   "execution_count": 7,
   "id": "f50dc2bb",
   "metadata": {
    "execution": {
     "iopub.execute_input": "2022-03-01T10:09:39.080334Z",
     "iopub.status.busy": "2022-03-01T10:09:39.079837Z",
     "iopub.status.idle": "2022-03-01T10:09:39.322553Z",
     "shell.execute_reply": "2022-03-01T10:09:39.322111Z"
    },
    "papermill": {
     "duration": 0.27258,
     "end_time": "2022-03-01T10:09:39.322665",
     "exception": false,
     "start_time": "2022-03-01T10:09:39.050085",
     "status": "completed"
    },
    "tags": []
   },
   "outputs": [],
   "source": [
    "test_images = mnist.test_images()\n",
    "test_labels = mnist.test_labels()"
   ]
  },
  {
   "cell_type": "code",
   "execution_count": 8,
   "id": "fc38cf1b",
   "metadata": {
    "execution": {
     "iopub.execute_input": "2022-03-01T10:09:39.379540Z",
     "iopub.status.busy": "2022-03-01T10:09:39.379035Z",
     "iopub.status.idle": "2022-03-01T10:09:39.391004Z",
     "shell.execute_reply": "2022-03-01T10:09:39.391474Z"
    },
    "papermill": {
     "duration": 0.042344,
     "end_time": "2022-03-01T10:09:39.391597",
     "exception": false,
     "start_time": "2022-03-01T10:09:39.349253",
     "status": "completed"
    },
    "tags": []
   },
   "outputs": [
    {
     "data": {
      "text/plain": [
       "((10000, 28, 28), (10000,))"
      ]
     },
     "execution_count": 8,
     "metadata": {},
     "output_type": "execute_result"
    }
   ],
   "source": [
    "test_images.shape, test_labels.shape"
   ]
  },
  {
   "cell_type": "code",
   "execution_count": 9,
   "id": "f9ed8fe0",
   "metadata": {
    "execution": {
     "iopub.execute_input": "2022-03-01T10:09:39.448751Z",
     "iopub.status.busy": "2022-03-01T10:09:39.448240Z",
     "iopub.status.idle": "2022-03-01T10:09:39.588614Z",
     "shell.execute_reply": "2022-03-01T10:09:39.588185Z"
    },
    "papermill": {
     "duration": 0.170443,
     "end_time": "2022-03-01T10:09:39.588726",
     "exception": false,
     "start_time": "2022-03-01T10:09:39.418283",
     "status": "completed"
    },
    "tags": []
   },
   "outputs": [
    {
     "name": "stdout",
     "output_type": "stream",
     "text": [
      "2\n"
     ]
    },
    {
     "data": {
      "text/plain": [
       "<matplotlib.image.AxesImage at 0x7fc09adf7550>"
      ]
     },
     "execution_count": 9,
     "metadata": {},
     "output_type": "execute_result"
    },
    {
     "data": {
      "image/png": "[encoded data removed]",
      "text/plain": [
       "<Figure size 432x288 with 1 Axes>"
      ]
     },
     "metadata": {
      "needs_background": "light"
     },
     "output_type": "display_data"
    }
   ],
   "source": [
    "image_index = 7776 # You may select anything up to 60,000\n",
    "print(train_labels[image_index]) \n",
    "plt.imshow(train_images[image_index], cmap='Greys')"
   ]
  },
  {
   "cell_type": "markdown",
   "id": "a8d2388d",
   "metadata": {
    "papermill": {
     "duration": 0.027672,
     "end_time": "2022-03-01T10:09:39.644724",
     "exception": false,
     "start_time": "2022-03-01T10:09:39.617052",
     "status": "completed"
    },
    "tags": []
   },
   "source": [
    "## Filter data to get 3 and 8 out"
   ]
  },
  {
   "cell_type": "code",
   "execution_count": 10,
   "id": "776f7fc7",
   "metadata": {
    "execution": {
     "iopub.execute_input": "2022-03-01T10:09:39.704715Z",
     "iopub.status.busy": "2022-03-01T10:09:39.704189Z",
     "iopub.status.idle": "2022-03-01T10:09:39.720233Z",
     "shell.execute_reply": "2022-03-01T10:09:39.720621Z"
    },
    "papermill": {
     "duration": 0.048185,
     "end_time": "2022-03-01T10:09:39.720750",
     "exception": false,
     "start_time": "2022-03-01T10:09:39.672565",
     "status": "completed"
    },
    "tags": []
   },
   "outputs": [],
   "source": [
    "train_filter = np.where((train_labels == 3 ) | (train_labels == 8))\n",
    "test_filter = np.where((test_labels == 3) | (test_labels == 8))\n",
    "X_train, y_train = train_images[train_filter], train_labels[train_filter]\n",
    "X_test, y_test = test_images[test_filter], test_labels[test_filter]"
   ]
  },
  {
   "cell_type": "markdown",
   "id": "948f0b7e",
   "metadata": {
    "papermill": {
     "duration": 0.027735,
     "end_time": "2022-03-01T10:09:39.776518",
     "exception": false,
     "start_time": "2022-03-01T10:09:39.748783",
     "status": "completed"
    },
    "tags": []
   },
   "source": [
    "We normalize the pizel values in the 0 to 1 range"
   ]
  },
  {
   "cell_type": "code",
   "execution_count": 11,
   "id": "ee4c2166",
   "metadata": {
    "execution": {
     "iopub.execute_input": "2022-03-01T10:09:39.835584Z",
     "iopub.status.busy": "2022-03-01T10:09:39.835019Z",
     "iopub.status.idle": "2022-03-01T10:09:39.876204Z",
     "shell.execute_reply": "2022-03-01T10:09:39.875779Z"
    },
    "papermill": {
     "duration": 0.07211,
     "end_time": "2022-03-01T10:09:39.876314",
     "exception": false,
     "start_time": "2022-03-01T10:09:39.804204",
     "status": "completed"
    },
    "tags": []
   },
   "outputs": [],
   "source": [
    "X_train = X_train/255.\n",
    "X_test = X_test/255."
   ]
  },
  {
   "cell_type": "markdown",
   "id": "ddcf4fab",
   "metadata": {
    "papermill": {
     "duration": 0.02772,
     "end_time": "2022-03-01T10:09:39.931822",
     "exception": false,
     "start_time": "2022-03-01T10:09:39.904102",
     "status": "completed"
    },
    "tags": []
   },
   "source": [
    "And setup the labels as 1 (when the digit is 3) and 0 (when the digit is 8)"
   ]
  },
  {
   "cell_type": "code",
   "execution_count": 12,
   "id": "7dc908f2",
   "metadata": {
    "execution": {
     "iopub.execute_input": "2022-03-01T10:09:39.990837Z",
     "iopub.status.busy": "2022-03-01T10:09:39.990341Z",
     "iopub.status.idle": "2022-03-01T10:09:40.001486Z",
     "shell.execute_reply": "2022-03-01T10:09:40.001892Z"
    },
    "papermill": {
     "duration": 0.042608,
     "end_time": "2022-03-01T10:09:40.002012",
     "exception": false,
     "start_time": "2022-03-01T10:09:39.959404",
     "status": "completed"
    },
    "tags": []
   },
   "outputs": [],
   "source": [
    "y_train = 1*(y_train==3)\n",
    "y_test = 1*(y_test==3)"
   ]
  },
  {
   "cell_type": "code",
   "execution_count": 13,
   "id": "01e4e969",
   "metadata": {
    "execution": {
     "iopub.execute_input": "2022-03-01T10:09:40.061641Z",
     "iopub.status.busy": "2022-03-01T10:09:40.061142Z",
     "iopub.status.idle": "2022-03-01T10:09:40.074016Z",
     "shell.execute_reply": "2022-03-01T10:09:40.073589Z"
    },
    "papermill": {
     "duration": 0.044117,
     "end_time": "2022-03-01T10:09:40.074121",
     "exception": false,
     "start_time": "2022-03-01T10:09:40.030004",
     "status": "completed"
    },
    "tags": []
   },
   "outputs": [
    {
     "data": {
      "text/plain": [
       "((11982, 28, 28), (1984, 28, 28))"
      ]
     },
     "execution_count": 13,
     "metadata": {},
     "output_type": "execute_result"
    }
   ],
   "source": [
    "X_train.shape, X_test.shape"
   ]
  },
  {
   "cell_type": "markdown",
   "id": "5ccf3f85",
   "metadata": {
    "papermill": {
     "duration": 0.027894,
     "end_time": "2022-03-01T10:09:40.129961",
     "exception": false,
     "start_time": "2022-03-01T10:09:40.102067",
     "status": "completed"
    },
    "tags": []
   },
   "source": [
    "We reshape the data to flatten the image pixels into a set of features or co-variates:"
   ]
  },
  {
   "cell_type": "code",
   "execution_count": 14,
   "id": "5286a4a3",
   "metadata": {
    "execution": {
     "iopub.execute_input": "2022-03-01T10:09:40.189868Z",
     "iopub.status.busy": "2022-03-01T10:09:40.189355Z",
     "iopub.status.idle": "2022-03-01T10:09:40.204065Z",
     "shell.execute_reply": "2022-03-01T10:09:40.203402Z"
    },
    "papermill": {
     "duration": 0.046122,
     "end_time": "2022-03-01T10:09:40.204175",
     "exception": false,
     "start_time": "2022-03-01T10:09:40.158053",
     "status": "completed"
    },
    "tags": []
   },
   "outputs": [
    {
     "data": {
      "text/plain": [
       "((11982, 784), (1984, 784))"
      ]
     },
     "execution_count": 14,
     "metadata": {},
     "output_type": "execute_result"
    }
   ],
   "source": [
    "X_train = X_train.reshape(X_train.shape[0], -1)\n",
    "X_test = X_test.reshape(X_test.shape[0], -1)\n",
    "X_train.shape, X_test.shape"
   ]
  },
  {
   "cell_type": "code",
   "execution_count": 15,
   "id": "73c5f88a",
   "metadata": {
    "execution": {
     "iopub.execute_input": "2022-03-01T10:09:40.265170Z",
     "iopub.status.busy": "2022-03-01T10:09:40.264659Z",
     "iopub.status.idle": "2022-03-01T10:09:40.282715Z",
     "shell.execute_reply": "2022-03-01T10:09:40.282303Z"
    },
    "papermill": {
     "duration": 0.050212,
     "end_time": "2022-03-01T10:09:40.282825",
     "exception": false,
     "start_time": "2022-03-01T10:09:40.232613",
     "status": "completed"
    },
    "tags": []
   },
   "outputs": [],
   "source": [
    "#Impoting functions from 'Kudzu'\n",
    "from kudzu.model import Model\n",
    "from kudzu.train import Learner\n",
    "from kudzu.optim import GD\n",
    "from kudzu.data import Data, Sampler,Dataloader\n",
    "\n",
    "from kudzu.callbacks import AccCallback\n",
    "from kudzu.callbacks import ClfCallback\n",
    "\n",
    "from kudzu.loss import MSE\n",
    "\n",
    "from kudzu.layer import Sigmoid,Relu\n",
    "from kudzu.layer import Affine"
   ]
  },
  {
   "cell_type": "markdown",
   "id": "bc01172a",
   "metadata": {
    "papermill": {
     "duration": 0.028163,
     "end_time": "2022-03-01T10:09:40.339540",
     "exception": false,
     "start_time": "2022-03-01T10:09:40.311377",
     "status": "completed"
    },
    "tags": []
   },
   "source": [
    "### Let us create a `Config` class, to store important parameters. \n",
    "This class essentially plays the role of a dictionary."
   ]
  },
  {
   "cell_type": "code",
   "execution_count": 16,
   "id": "978281aa",
   "metadata": {
    "execution": {
     "iopub.execute_input": "2022-03-01T10:09:40.400014Z",
     "iopub.status.busy": "2022-03-01T10:09:40.399497Z",
     "iopub.status.idle": "2022-03-01T10:09:40.411001Z",
     "shell.execute_reply": "2022-03-01T10:09:40.410581Z"
    },
    "papermill": {
     "duration": 0.04332,
     "end_time": "2022-03-01T10:09:40.411111",
     "exception": false,
     "start_time": "2022-03-01T10:09:40.367791",
     "status": "completed"
    },
    "tags": []
   },
   "outputs": [],
   "source": [
    "class Config:\n",
    "    pass\n",
    "config = Config()\n",
    "config.lr = 0.001\n",
    "config.num_epochs = 250\n",
    "config.bs = 50"
   ]
  },
  {
   "cell_type": "markdown",
   "id": "1385fa59",
   "metadata": {
    "papermill": {
     "duration": 0.028167,
     "end_time": "2022-03-01T10:09:40.467706",
     "exception": false,
     "start_time": "2022-03-01T10:09:40.439539",
     "status": "completed"
    },
    "tags": []
   },
   "source": [
    "### Running Models with the Training data\n",
    "Details about the network layers:\n",
    "- A first affine layer has 784 inputs and does 100 affine transforms. These are followed by a Relu\n",
    "- A second affine layer has 100 inputs from the 100 activations of the past layer, and does 100 affine transforms. These are followed by a Relu\n",
    "- A third affine layer has 100 activations and does 2 affine transformations to create an embedding for visualization. There is no non-linearity here.\n",
    "- A final \"logistic regression\" which has an affine transform from 2 inputs to 1 output, which is squeezed through a sigmoid.\n"
   ]
  },
  {
   "cell_type": "code",
   "execution_count": 17,
   "id": "2b9c66db",
   "metadata": {
    "execution": {
     "iopub.execute_input": "2022-03-01T10:09:40.528085Z",
     "iopub.status.busy": "2022-03-01T10:09:40.527572Z",
     "iopub.status.idle": "2022-03-01T10:09:40.539462Z",
     "shell.execute_reply": "2022-03-01T10:09:40.539033Z"
    },
    "papermill": {
     "duration": 0.043549,
     "end_time": "2022-03-01T10:09:40.539567",
     "exception": false,
     "start_time": "2022-03-01T10:09:40.496018",
     "status": "completed"
    },
    "tags": []
   },
   "outputs": [],
   "source": [
    "data = Data(X_train, y_train.reshape(-1,1))\n",
    "sampler = Sampler(data, config.bs, shuffle=True)\n",
    "\n",
    "dl = Dataloader(data, sampler)\n",
    "\n",
    "opt = GD(config.lr)\n",
    "loss = MSE()"
   ]
  },
  {
   "cell_type": "code",
   "execution_count": 18,
   "id": "b275e4c2",
   "metadata": {
    "execution": {
     "iopub.execute_input": "2022-03-01T10:09:40.601069Z",
     "iopub.status.busy": "2022-03-01T10:09:40.600525Z",
     "iopub.status.idle": "2022-03-01T10:09:40.613840Z",
     "shell.execute_reply": "2022-03-01T10:09:40.613371Z"
    },
    "papermill": {
     "duration": 0.045188,
     "end_time": "2022-03-01T10:09:40.613949",
     "exception": false,
     "start_time": "2022-03-01T10:09:40.568761",
     "status": "completed"
    },
    "tags": []
   },
   "outputs": [],
   "source": [
    "training_data_x = X_train\n",
    "testing_data_x = X_test\n",
    "training_data_y = y_train.reshape(-1,1)\n",
    "testing_data_y = y_test.reshape(-1,1)"
   ]
  },
  {
   "cell_type": "code",
   "execution_count": 19,
   "id": "76951160",
   "metadata": {
    "execution": {
     "iopub.execute_input": "2022-03-01T10:09:40.674655Z",
     "iopub.status.busy": "2022-03-01T10:09:40.674148Z",
     "iopub.status.idle": "2022-03-01T10:09:40.690246Z",
     "shell.execute_reply": "2022-03-01T10:09:40.689835Z"
    },
    "papermill": {
     "duration": 0.048057,
     "end_time": "2022-03-01T10:09:40.690355",
     "exception": false,
     "start_time": "2022-03-01T10:09:40.642298",
     "status": "completed"
    },
    "tags": []
   },
   "outputs": [
    {
     "name": "stdout",
     "output_type": "stream",
     "text": [
      "xavier\n",
      "xavier\n",
      "xavier\n",
      "xavier\n",
      "xavier\n"
     ]
    }
   ],
   "source": [
    "layers = [Affine(\"first\", 784, 100), Relu(\"first\"), Affine(\"second\", 100, 100), Relu(\"second\"), Affine(\"third\", 100, 2), Affine(\"last\", 2, 1), Sigmoid(\"last\")]\n",
    "model_nn = Model(layers)\n",
    "model_lr = Model([Affine(\"logits\", 784, 1), Sigmoid(\"sigmoid\")])"
   ]
  },
  {
   "cell_type": "code",
   "execution_count": 20,
   "id": "6eede77a",
   "metadata": {
    "execution": {
     "iopub.execute_input": "2022-03-01T10:09:40.751948Z",
     "iopub.status.busy": "2022-03-01T10:09:40.751441Z",
     "iopub.status.idle": "2022-03-01T10:09:40.765045Z",
     "shell.execute_reply": "2022-03-01T10:09:40.764327Z"
    },
    "papermill": {
     "duration": 0.04578,
     "end_time": "2022-03-01T10:09:40.765160",
     "exception": false,
     "start_time": "2022-03-01T10:09:40.719380",
     "status": "completed"
    },
    "tags": []
   },
   "outputs": [],
   "source": [
    "nn_learner = Learner(loss, model_nn, opt, config.num_epochs)\n",
    "acc_nn = ClfCallback(nn_learner, config.bs, training_data_x , testing_data_x, training_data_y, testing_data_y)\n",
    "nn_learner.set_callbacks([acc_nn])"
   ]
  },
  {
   "cell_type": "code",
   "execution_count": 21,
   "id": "877b6cc7",
   "metadata": {
    "execution": {
     "iopub.execute_input": "2022-03-01T10:09:40.826383Z",
     "iopub.status.busy": "2022-03-01T10:09:40.825867Z",
     "iopub.status.idle": "2022-03-01T10:09:40.837861Z",
     "shell.execute_reply": "2022-03-01T10:09:40.837437Z"
    },
    "papermill": {
     "duration": 0.04393,
     "end_time": "2022-03-01T10:09:40.837968",
     "exception": false,
     "start_time": "2022-03-01T10:09:40.794038",
     "status": "completed"
    },
    "tags": []
   },
   "outputs": [],
   "source": [
    "lr_learner = Learner(loss, model_lr, opt, config.num_epochs)\n",
    "acc_lr = ClfCallback(lr_learner, config.bs, training_data_x , testing_data_x, training_data_y, testing_data_y)\n",
    "lr_learner.set_callbacks([acc_lr])"
   ]
  },
  {
   "cell_type": "code",
   "execution_count": 22,
   "id": "d9b133c3",
   "metadata": {
    "execution": {
     "iopub.execute_input": "2022-03-01T10:09:40.899037Z",
     "iopub.status.busy": "2022-03-01T10:09:40.898501Z",
     "iopub.status.idle": "2022-03-01T10:12:37.855641Z",
     "shell.execute_reply": "2022-03-01T10:12:37.856057Z"
    },
    "papermill": {
     "duration": 176.989129,
     "end_time": "2022-03-01T10:12:37.856179",
     "exception": false,
     "start_time": "2022-03-01T10:09:40.867050",
     "status": "completed"
    },
    "tags": []
   },
   "outputs": [
    {
     "name": "stdout",
     "output_type": "stream",
     "text": [
      "Epoch 0, Loss 0.2507\n",
      "Training Accuracy: 0.5505, Testing Accuracy: 0.5378\n",
      "\n"
     ]
    },
    {
     "name": "stdout",
     "output_type": "stream",
     "text": [
      "Epoch 10, Loss 0.2138\n",
      "Training Accuracy: 0.8712, Testing Accuracy: 0.8745\n",
      "\n"
     ]
    },
    {
     "name": "stdout",
     "output_type": "stream",
     "text": [
      "Epoch 20, Loss 0.1166\n",
      "Training Accuracy: 0.9079, Testing Accuracy: 0.9153\n",
      "\n"
     ]
    },
    {
     "name": "stdout",
     "output_type": "stream",
     "text": [
      "Epoch 30, Loss 0.0672\n",
      "Training Accuracy: 0.9300, Testing Accuracy: 0.9385\n",
      "\n"
     ]
    },
    {
     "name": "stdout",
     "output_type": "stream",
     "text": [
      "Epoch 40, Loss 0.051\n",
      "Training Accuracy: 0.9426, Testing Accuracy: 0.9516\n",
      "\n"
     ]
    },
    {
     "name": "stdout",
     "output_type": "stream",
     "text": [
      "Epoch 50, Loss 0.0432\n",
      "Training Accuracy: 0.9503, Testing Accuracy: 0.9597\n",
      "\n"
     ]
    },
    {
     "name": "stdout",
     "output_type": "stream",
     "text": [
      "Epoch 60, Loss 0.0387\n",
      "Training Accuracy: 0.9553, Testing Accuracy: 0.9637\n",
      "\n"
     ]
    },
    {
     "name": "stdout",
     "output_type": "stream",
     "text": [
      "Epoch 70, Loss 0.0357\n",
      "Training Accuracy: 0.9589, Testing Accuracy: 0.9647\n",
      "\n"
     ]
    },
    {
     "name": "stdout",
     "output_type": "stream",
     "text": [
      "Epoch 80, Loss 0.0335\n",
      "Training Accuracy: 0.9613, Testing Accuracy: 0.9667\n",
      "\n"
     ]
    },
    {
     "name": "stdout",
     "output_type": "stream",
     "text": [
      "Epoch 90, Loss 0.0318\n",
      "Training Accuracy: 0.9619, Testing Accuracy: 0.9657\n",
      "\n"
     ]
    },
    {
     "name": "stdout",
     "output_type": "stream",
     "text": [
      "Epoch 100, Loss 0.0305\n",
      "Training Accuracy: 0.9640, Testing Accuracy: 0.9662\n",
      "\n"
     ]
    },
    {
     "name": "stdout",
     "output_type": "stream",
     "text": [
      "Epoch 110, Loss 0.0293\n",
      "Training Accuracy: 0.9652, Testing Accuracy: 0.9662\n",
      "\n"
     ]
    },
    {
     "name": "stdout",
     "output_type": "stream",
     "text": [
      "Epoch 120, Loss 0.0284\n",
      "Training Accuracy: 0.9665, Testing Accuracy: 0.9672\n",
      "\n"
     ]
    },
    {
     "name": "stdout",
     "output_type": "stream",
     "text": [
      "Epoch 130, Loss 0.0275\n",
      "Training Accuracy: 0.9675, Testing Accuracy: 0.9682\n",
      "\n"
     ]
    },
    {
     "name": "stdout",
     "output_type": "stream",
     "text": [
      "Epoch 140, Loss 0.0268\n",
      "Training Accuracy: 0.9683, Testing Accuracy: 0.9688\n",
      "\n"
     ]
    },
    {
     "name": "stdout",
     "output_type": "stream",
     "text": [
      "Epoch 150, Loss 0.0261\n",
      "Training Accuracy: 0.9690, Testing Accuracy: 0.9688\n",
      "\n"
     ]
    },
    {
     "name": "stdout",
     "output_type": "stream",
     "text": [
      "Epoch 160, Loss 0.0254\n",
      "Training Accuracy: 0.9698, Testing Accuracy: 0.9682\n",
      "\n"
     ]
    },
    {
     "name": "stdout",
     "output_type": "stream",
     "text": [
      "Epoch 170, Loss 0.0249\n",
      "Training Accuracy: 0.9704, Testing Accuracy: 0.9688\n",
      "\n"
     ]
    },
    {
     "name": "stdout",
     "output_type": "stream",
     "text": [
      "Epoch 180, Loss 0.0243\n",
      "Training Accuracy: 0.9712, Testing Accuracy: 0.9688\n",
      "\n"
     ]
    },
    {
     "name": "stdout",
     "output_type": "stream",
     "text": [
      "Epoch 190, Loss 0.0238\n",
      "Training Accuracy: 0.9715, Testing Accuracy: 0.9693\n",
      "\n"
     ]
    },
    {
     "name": "stdout",
     "output_type": "stream",
     "text": [
      "Epoch 200, Loss 0.0233\n",
      "Training Accuracy: 0.9723, Testing Accuracy: 0.9698\n",
      "\n"
     ]
    },
    {
     "name": "stdout",
     "output_type": "stream",
     "text": [
      "Epoch 210, Loss 0.0229\n",
      "Training Accuracy: 0.9732, Testing Accuracy: 0.9688\n",
      "\n"
     ]
    },
    {
     "name": "stdout",
     "output_type": "stream",
     "text": [
      "Epoch 220, Loss 0.0224\n",
      "Training Accuracy: 0.9735, Testing Accuracy: 0.9698\n",
      "\n"
     ]
    },
    {
     "name": "stdout",
     "output_type": "stream",
     "text": [
      "Epoch 230, Loss 0.022\n",
      "Training Accuracy: 0.9744, Testing Accuracy: 0.9713\n",
      "\n"
     ]
    },
    {
     "name": "stdout",
     "output_type": "stream",
     "text": [
      "Epoch 240, Loss 0.0216\n",
      "Training Accuracy: 0.9748, Testing Accuracy: 0.9723\n",
      "\n"
     ]
    },
    {
     "data": {
      "text/plain": [
       "0.003344746255714974"
      ]
     },
     "execution_count": 22,
     "metadata": {},
     "output_type": "execute_result"
    }
   ],
   "source": [
    "nn_learner.train_loop(dl)"
   ]
  },
  {
   "cell_type": "code",
   "execution_count": 23,
   "id": "e0163366",
   "metadata": {
    "execution": {
     "iopub.execute_input": "2022-03-01T10:12:37.931969Z",
     "iopub.status.busy": "2022-03-01T10:12:37.931473Z",
     "iopub.status.idle": "2022-03-01T10:12:50.127276Z",
     "shell.execute_reply": "2022-03-01T10:12:50.127684Z"
    },
    "papermill": {
     "duration": 12.23561,
     "end_time": "2022-03-01T10:12:50.127808",
     "exception": false,
     "start_time": "2022-03-01T10:12:37.892198",
     "status": "completed"
    },
    "tags": []
   },
   "outputs": [
    {
     "name": "stdout",
     "output_type": "stream",
     "text": [
      "Epoch 0, Loss 0.2379\n",
      "Training Accuracy: 0.6881, Testing Accuracy: 0.6895\n",
      "\n"
     ]
    },
    {
     "name": "stdout",
     "output_type": "stream",
     "text": [
      "Epoch 10, Loss 0.106\n",
      "Training Accuracy: 0.9020, Testing Accuracy: 0.9098\n",
      "\n"
     ]
    },
    {
     "name": "stdout",
     "output_type": "stream",
     "text": [
      "Epoch 20, Loss 0.081\n",
      "Training Accuracy: 0.9252, Testing Accuracy: 0.9365\n",
      "\n"
     ]
    },
    {
     "name": "stdout",
     "output_type": "stream",
     "text": [
      "Epoch 30, Loss 0.0693\n",
      "Training Accuracy: 0.9344, Testing Accuracy: 0.9451\n",
      "\n"
     ]
    },
    {
     "name": "stdout",
     "output_type": "stream",
     "text": [
      "Epoch 40, Loss 0.0624\n",
      "Training Accuracy: 0.9398, Testing Accuracy: 0.9531\n",
      "\n"
     ]
    },
    {
     "name": "stdout",
     "output_type": "stream",
     "text": [
      "Epoch 50, Loss 0.0577\n",
      "Training Accuracy: 0.9448, Testing Accuracy: 0.9551\n",
      "\n"
     ]
    },
    {
     "name": "stdout",
     "output_type": "stream",
     "text": [
      "Epoch 60, Loss 0.0542\n",
      "Training Accuracy: 0.9475, Testing Accuracy: 0.9561\n",
      "\n"
     ]
    },
    {
     "name": "stdout",
     "output_type": "stream",
     "text": [
      "Epoch 70, Loss 0.0516\n",
      "Training Accuracy: 0.9496, Testing Accuracy: 0.9577\n",
      "\n"
     ]
    },
    {
     "name": "stdout",
     "output_type": "stream",
     "text": [
      "Epoch 80, Loss 0.0495\n",
      "Training Accuracy: 0.9508, Testing Accuracy: 0.9587\n",
      "\n"
     ]
    },
    {
     "name": "stdout",
     "output_type": "stream",
     "text": [
      "Epoch 90, Loss 0.0477\n",
      "Training Accuracy: 0.9519, Testing Accuracy: 0.9592\n",
      "\n"
     ]
    },
    {
     "name": "stdout",
     "output_type": "stream",
     "text": [
      "Epoch 100, Loss 0.0463\n",
      "Training Accuracy: 0.9530, Testing Accuracy: 0.9612\n",
      "\n"
     ]
    },
    {
     "name": "stdout",
     "output_type": "stream",
     "text": [
      "Epoch 110, Loss 0.045\n",
      "Training Accuracy: 0.9544, Testing Accuracy: 0.9622\n",
      "\n"
     ]
    },
    {
     "name": "stdout",
     "output_type": "stream",
     "text": [
      "Epoch 120, Loss 0.044\n",
      "Training Accuracy: 0.9549, Testing Accuracy: 0.9632\n",
      "\n"
     ]
    },
    {
     "name": "stdout",
     "output_type": "stream",
     "text": [
      "Epoch 130, Loss 0.043\n",
      "Training Accuracy: 0.9554, Testing Accuracy: 0.9637\n",
      "\n"
     ]
    },
    {
     "name": "stdout",
     "output_type": "stream",
     "text": [
      "Epoch 140, Loss 0.0422\n",
      "Training Accuracy: 0.9565, Testing Accuracy: 0.9642\n",
      "\n"
     ]
    },
    {
     "name": "stdout",
     "output_type": "stream",
     "text": [
      "Epoch 150, Loss 0.0414\n",
      "Training Accuracy: 0.9571, Testing Accuracy: 0.9647\n",
      "\n"
     ]
    },
    {
     "name": "stdout",
     "output_type": "stream",
     "text": [
      "Epoch 160, Loss 0.0407\n",
      "Training Accuracy: 0.9574, Testing Accuracy: 0.9647\n",
      "\n"
     ]
    },
    {
     "name": "stdout",
     "output_type": "stream",
     "text": [
      "Epoch 170, Loss 0.0401\n",
      "Training Accuracy: 0.9579, Testing Accuracy: 0.9657\n",
      "\n"
     ]
    },
    {
     "name": "stdout",
     "output_type": "stream",
     "text": [
      "Epoch 180, Loss 0.0396\n",
      "Training Accuracy: 0.9584, Testing Accuracy: 0.9662\n",
      "\n"
     ]
    },
    {
     "name": "stdout",
     "output_type": "stream",
     "text": [
      "Epoch 190, Loss 0.039\n",
      "Training Accuracy: 0.9585, Testing Accuracy: 0.9667\n",
      "\n"
     ]
    },
    {
     "name": "stdout",
     "output_type": "stream",
     "text": [
      "Epoch 200, Loss 0.0386\n",
      "Training Accuracy: 0.9589, Testing Accuracy: 0.9667\n",
      "\n"
     ]
    },
    {
     "name": "stdout",
     "output_type": "stream",
     "text": [
      "Epoch 210, Loss 0.0381\n",
      "Training Accuracy: 0.9594, Testing Accuracy: 0.9667\n",
      "\n"
     ]
    },
    {
     "name": "stdout",
     "output_type": "stream",
     "text": [
      "Epoch 220, Loss 0.0377\n",
      "Training Accuracy: 0.9596, Testing Accuracy: 0.9677\n",
      "\n"
     ]
    },
    {
     "name": "stdout",
     "output_type": "stream",
     "text": [
      "Epoch 230, Loss 0.0373\n",
      "Training Accuracy: 0.9599, Testing Accuracy: 0.9677\n",
      "\n"
     ]
    },
    {
     "name": "stdout",
     "output_type": "stream",
     "text": [
      "Epoch 240, Loss 0.0369\n",
      "Training Accuracy: 0.9602, Testing Accuracy: 0.9682\n",
      "\n"
     ]
    },
    {
     "data": {
      "text/plain": [
       "0.03690490844885888"
      ]
     },
     "execution_count": 23,
     "metadata": {},
     "output_type": "execute_result"
    }
   ],
   "source": [
    "lr_learner.train_loop(dl)"
   ]
  },
  {
   "cell_type": "code",
   "execution_count": 24,
   "id": "ca410940",
   "metadata": {
    "execution": {
     "iopub.execute_input": "2022-03-01T10:12:50.218724Z",
     "iopub.status.busy": "2022-03-01T10:12:50.217590Z",
     "iopub.status.idle": "2022-03-01T10:12:50.435144Z",
     "shell.execute_reply": "2022-03-01T10:12:50.434698Z"
    },
    "papermill": {
     "duration": 0.264249,
     "end_time": "2022-03-01T10:12:50.435259",
     "exception": false,
     "start_time": "2022-03-01T10:12:50.171010",
     "status": "completed"
    },
    "tags": []
   },
   "outputs": [
    {
     "data": {
      "text/plain": [
       "<matplotlib.legend.Legend at 0x7fc09a9d4d30>"
      ]
     },
     "execution_count": 24,
     "metadata": {},
     "output_type": "execute_result"
    },
    {
     "data": {
      "image/png": "[encoded data removed]",
      "text/plain": [
       "<Figure size 1080x720 with 1 Axes>"
      ]
     },
     "metadata": {
      "needs_background": "light"
     },
     "output_type": "display_data"
    }
   ],
   "source": [
    "#comparing the results of NN and LR\n",
    "plt.figure(figsize=(15,10))\n",
    "\n",
    "# Neural Network plots\n",
    "plt.plot(acc_nn.accuracies, 'r-', label = \"Training Accuracies - NN\")\n",
    "plt.plot(acc_nn.test_accuracies, 'g-', label = \"Testing Accuracies - NN\")\n",
    "\n",
    "# Logistic Regression plots\n",
    "plt.plot(acc_lr.accuracies, 'k-', label = \"Training Accuracies - LR\")\n",
    "plt.plot(acc_lr.test_accuracies, 'b-', label = \"Testing Accuracies - LR\")\n",
    "plt.legend()"
   ]
  },
  {
   "cell_type": "markdown",
   "id": "80dfb35c",
   "metadata": {
    "papermill": {
     "duration": 0.043864,
     "end_time": "2022-03-01T10:12:50.523190",
     "exception": false,
     "start_time": "2022-03-01T10:12:50.479326",
     "status": "completed"
    },
    "tags": []
   },
   "source": [
    "#### Plotting the outputs of this layer of the NN.\n"
   ]
  },
  {
   "cell_type": "code",
   "execution_count": 25,
   "id": "45eb2ff5",
   "metadata": {
    "execution": {
     "iopub.execute_input": "2022-03-01T10:12:50.615647Z",
     "iopub.status.busy": "2022-03-01T10:12:50.613878Z",
     "iopub.status.idle": "2022-03-01T10:12:50.648284Z",
     "shell.execute_reply": "2022-03-01T10:12:50.648865Z"
    },
    "papermill": {
     "duration": 0.081918,
     "end_time": "2022-03-01T10:12:50.648989",
     "exception": false,
     "start_time": "2022-03-01T10:12:50.567071",
     "status": "completed"
    },
    "tags": []
   },
   "outputs": [],
   "source": [
    "new_model = Model(layers[:-2])\n",
    "testing_plot = new_model(testing_data_x)"
   ]
  },
  {
   "cell_type": "code",
   "execution_count": 26,
   "id": "4c0a5485",
   "metadata": {
    "execution": {
     "iopub.execute_input": "2022-03-01T10:12:50.743186Z",
     "iopub.status.busy": "2022-03-01T10:12:50.742678Z",
     "iopub.status.idle": "2022-03-01T10:12:50.937653Z",
     "shell.execute_reply": "2022-03-01T10:12:50.937238Z"
    },
    "papermill": {
     "duration": 0.244461,
     "end_time": "2022-03-01T10:12:50.937762",
     "exception": false,
     "start_time": "2022-03-01T10:12:50.693301",
     "status": "completed"
    },
    "tags": []
   },
   "outputs": [
    {
     "data": {
      "text/plain": [
       "Text(0.5, 1.0, 'Outputs')"
      ]
     },
     "execution_count": 26,
     "metadata": {},
     "output_type": "execute_result"
    },
    {
     "data": {
      "image/png": "[encoded data removed]",
      "text/plain": [
       "<Figure size 576x504 with 1 Axes>"
      ]
     },
     "metadata": {
      "needs_background": "light"
     },
     "output_type": "display_data"
    }
   ],
   "source": [
    "# Plotting the scatter plot of points and color coding by class\n",
    "plt.figure(figsize=(8,7))\n",
    "plt.scatter(testing_plot[:,0], testing_plot[:,1], alpha = 0.1, c = y_test.ravel());\n",
    "plt.title('Outputs')"
   ]
  },
  {
   "cell_type": "markdown",
   "id": "a74fcf8f",
   "metadata": {
    "papermill": {
     "duration": 0.066427,
     "end_time": "2022-03-01T10:12:51.050056",
     "exception": false,
     "start_time": "2022-03-01T10:12:50.983629",
     "status": "completed"
    },
    "tags": []
   },
   "source": [
    "Probability contours"
   ]
  },
  {
   "cell_type": "code",
   "execution_count": 27,
   "id": "d0afc8e3",
   "metadata": {
    "execution": {
     "iopub.execute_input": "2022-03-01T10:12:51.145123Z",
     "iopub.status.busy": "2022-03-01T10:12:51.144623Z",
     "iopub.status.idle": "2022-03-01T10:12:51.156640Z",
     "shell.execute_reply": "2022-03-01T10:12:51.157052Z"
    },
    "papermill": {
     "duration": 0.061247,
     "end_time": "2022-03-01T10:12:51.157169",
     "exception": false,
     "start_time": "2022-03-01T10:12:51.095922",
     "status": "completed"
    },
    "tags": []
   },
   "outputs": [],
   "source": [
    "model_prob = Model(layers[-2:]) "
   ]
  },
  {
   "cell_type": "code",
   "execution_count": 28,
   "id": "9b96e238",
   "metadata": {
    "execution": {
     "iopub.execute_input": "2022-03-01T10:12:51.253110Z",
     "iopub.status.busy": "2022-03-01T10:12:51.252378Z",
     "iopub.status.idle": "2022-03-01T10:12:51.266005Z",
     "shell.execute_reply": "2022-03-01T10:12:51.265565Z"
    },
    "papermill": {
     "duration": 0.063251,
     "end_time": "2022-03-01T10:12:51.266108",
     "exception": false,
     "start_time": "2022-03-01T10:12:51.202857",
     "status": "completed"
    },
    "tags": []
   },
   "outputs": [],
   "source": [
    "#creating the x and y ranges according to the above generated plot.\n",
    "x_range = np.linspace(-4, 1, 100) \n",
    "y_range = np.linspace(-6, 6, 100) \n",
    "x_grid, y_grid = np.meshgrid(x_range, y_range) # x_grid and y_grig are of size 100 X 100\n",
    "\n",
    "# converting x_grid and y_grid to continuous arrays\n",
    "x_gridflat = np.ravel(x_grid)\n",
    "y_gridflat = np.ravel(y_grid)\n",
    "\n",
    "# The last layer of the current model takes two columns as input. Hence transpose of np.vstack() is required.\n",
    "X = np.vstack((x_gridflat, y_gridflat)).T\n",
    "\n",
    "prob_contour = model_prob(X).reshape(100,100) "
   ]
  },
  {
   "cell_type": "code",
   "execution_count": 29,
   "id": "da72499a",
   "metadata": {
    "execution": {
     "iopub.execute_input": "2022-03-01T10:12:51.361236Z",
     "iopub.status.busy": "2022-03-01T10:12:51.359704Z",
     "iopub.status.idle": "2022-03-01T10:12:51.607085Z",
     "shell.execute_reply": "2022-03-01T10:12:51.607488Z"
    },
    "papermill": {
     "duration": 0.295442,
     "end_time": "2022-03-01T10:12:51.607610",
     "exception": false,
     "start_time": "2022-03-01T10:12:51.312168",
     "status": "completed"
    },
    "tags": []
   },
   "outputs": [
    {
     "data": {
      "image/png": "[encoded data removed]",
      "text/plain": [
       "<Figure size 720x648 with 1 Axes>"
      ]
     },
     "metadata": {
      "needs_background": "light"
     },
     "output_type": "display_data"
    }
   ],
   "source": [
    "plt.figure(figsize=(10,9))\n",
    "plt.scatter(testing_plot[:,0], testing_plot[:,1], alpha = 0.1, c = y_test.ravel())\n",
    "contours = plt.contour(x_grid,y_grid,prob_contour)\n",
    "plt.title('Probability Contours')\n",
    "plt.clabel(contours, inline = True );"
   ]
  },
  {
   "cell_type": "code",
   "execution_count": null,
   "id": "e81b4ac7",
   "metadata": {
    "papermill": {
     "duration": 0.047845,
     "end_time": "2022-03-01T10:12:51.703586",
     "exception": false,
     "start_time": "2022-03-01T10:12:51.655741",
     "status": "completed"
    },
    "tags": []
   },
   "outputs": [],
   "source": []
  }
 ],
 "metadata": {
  "kernelspec": {
   "display_name": "Python 3",
   "language": "python",
   "name": "python3"
  },
  "language_info": {
   "codemirror_mode": {
    "name": "ipython",
    "version": 3
   },
   "file_extension": ".py",
   "mimetype": "text/x-python",
   "name": "python",
   "nbconvert_exporter": "python",
   "pygments_lexer": "ipython3",
   "version": "3.6.15"
  },
  "papermill": {
   "default_parameters": {},
   "duration": 197.496877,
   "end_time": "2022-03-01T10:12:52.069283",
   "environment_variables": {},
   "exception": null,
   "input_path": "2020-08-11-part2.ipynb",
   "output_path": "2020-08-11-part2.ipynb",
   "parameters": {},
   "start_time": "2022-03-01T10:09:34.572406",
   "version": "2.3.3"
  }
 },
 "nbformat": 4,
 "nbformat_minor": 5
}