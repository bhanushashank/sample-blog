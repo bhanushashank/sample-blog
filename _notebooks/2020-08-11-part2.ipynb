{
 "cells": [
  {
   "cell_type": "markdown",
   "id": "98380cd3",
   "metadata": {
    "papermill": {
     "duration": 0.031237,
     "end_time": "2021-08-30T00:20:18.204322",
     "exception": false,
     "start_time": "2021-08-30T00:20:18.173085",
     "status": "completed"
    },
    "tags": []
   },
   "source": [
    "# Distinguish Your Own Digits (DYOD)"
   ]
  },
  {
   "cell_type": "markdown",
   "id": "ef31240d",
   "metadata": {
    "papermill": {
     "duration": 0.027901,
     "end_time": "2021-08-30T00:20:18.263086",
     "exception": false,
     "start_time": "2021-08-30T00:20:18.235185",
     "status": "completed"
    },
    "tags": []
   },
   "source": [
    "You are going to write a classifier that distinguishes between the number 3 and number 8."
   ]
  },
  {
   "cell_type": "code",
   "execution_count": 1,
   "id": "b15c8646",
   "metadata": {
    "execution": {
     "iopub.execute_input": "2021-08-30T00:20:18.331793Z",
     "iopub.status.busy": "2021-08-30T00:20:18.331094Z",
     "iopub.status.idle": "2021-08-30T00:20:18.342302Z",
     "shell.execute_reply": "2021-08-30T00:20:18.341631Z"
    },
    "papermill": {
     "duration": 0.049648,
     "end_time": "2021-08-30T00:20:18.342433",
     "exception": false,
     "start_time": "2021-08-30T00:20:18.292785",
     "status": "completed"
    },
    "tags": []
   },
   "outputs": [],
   "source": [
    "%load_ext autoreload\n",
    "%autoreload 2"
   ]
  },
  {
   "cell_type": "code",
   "execution_count": 2,
   "id": "22ef38dc",
   "metadata": {
    "execution": {
     "iopub.execute_input": "2021-08-30T00:20:18.400807Z",
     "iopub.status.busy": "2021-08-30T00:20:18.400196Z",
     "iopub.status.idle": "2021-08-30T00:20:18.996747Z",
     "shell.execute_reply": "2021-08-30T00:20:18.996198Z"
    },
    "papermill": {
     "duration": 0.626802,
     "end_time": "2021-08-30T00:20:18.996887",
     "exception": false,
     "start_time": "2021-08-30T00:20:18.370085",
     "status": "completed"
    },
    "tags": []
   },
   "outputs": [],
   "source": [
    "%matplotlib inline\n",
    "import numpy as np\n",
    "import matplotlib.pyplot as plt\n",
    "import pandas as pd"
   ]
  },
  {
   "cell_type": "markdown",
   "id": "ba036198",
   "metadata": {
    "papermill": {
     "duration": 0.031154,
     "end_time": "2021-08-30T00:20:19.058616",
     "exception": false,
     "start_time": "2021-08-30T00:20:19.027462",
     "status": "completed"
    },
    "tags": []
   },
   "source": [
    "From the command line run `pip install mnist`. This is a library that will help you bring down the mnist dataset. If you run this from a notebook, you need to put  `!pip install mnist` in a cell by itself."
   ]
  },
  {
   "cell_type": "code",
   "execution_count": 3,
   "id": "bb6ad8a1",
   "metadata": {
    "execution": {
     "iopub.execute_input": "2021-08-30T00:20:19.134633Z",
     "iopub.status.busy": "2021-08-30T00:20:19.128817Z",
     "iopub.status.idle": "2021-08-30T00:20:21.865845Z",
     "shell.execute_reply": "2021-08-30T00:20:21.866363Z"
    },
    "papermill": {
     "duration": 2.77902,
     "end_time": "2021-08-30T00:20:21.866522",
     "exception": false,
     "start_time": "2021-08-30T00:20:19.087502",
     "status": "completed"
    },
    "tags": []
   },
   "outputs": [
    {
     "name": "stdout",
     "output_type": "stream",
     "text": [
      "Collecting mnist\r\n"
     ]
    },
    {
     "name": "stdout",
     "output_type": "stream",
     "text": [
      "  Downloading mnist-0.2.2-py2.py3-none-any.whl (3.5 kB)\r\n",
      "Requirement already satisfied: numpy in /opt/hostedtoolcache/Python/3.6.14/x64/lib/python3.6/site-packages (from mnist) (1.19.5)\r\n"
     ]
    },
    {
     "name": "stdout",
     "output_type": "stream",
     "text": [
      "Installing collected packages: mnist\r\n"
     ]
    },
    {
     "name": "stdout",
     "output_type": "stream",
     "text": [
      "Successfully installed mnist-0.2.2\r\n"
     ]
    }
   ],
   "source": [
    "!pip install mnist"
   ]
  },
  {
   "cell_type": "markdown",
   "id": "69df9c9a",
   "metadata": {
    "papermill": {
     "duration": 0.027795,
     "end_time": "2021-08-30T00:20:21.922970",
     "exception": false,
     "start_time": "2021-08-30T00:20:21.895175",
     "status": "completed"
    },
    "tags": []
   },
   "source": [
    "## Preparing the Data"
   ]
  },
  {
   "cell_type": "code",
   "execution_count": 4,
   "id": "7f69d806",
   "metadata": {
    "execution": {
     "iopub.execute_input": "2021-08-30T00:20:21.982604Z",
     "iopub.status.busy": "2021-08-30T00:20:21.982017Z",
     "iopub.status.idle": "2021-08-30T00:20:21.995484Z",
     "shell.execute_reply": "2021-08-30T00:20:21.994991Z"
    },
    "papermill": {
     "duration": 0.044993,
     "end_time": "2021-08-30T00:20:21.995594",
     "exception": false,
     "start_time": "2021-08-30T00:20:21.950601",
     "status": "completed"
    },
    "tags": []
   },
   "outputs": [],
   "source": [
    "import mnist"
   ]
  },
  {
   "cell_type": "code",
   "execution_count": 5,
   "id": "a411e44f",
   "metadata": {
    "execution": {
     "iopub.execute_input": "2021-08-30T00:20:22.054460Z",
     "iopub.status.busy": "2021-08-30T00:20:22.053882Z",
     "iopub.status.idle": "2021-08-30T00:20:22.705061Z",
     "shell.execute_reply": "2021-08-30T00:20:22.705555Z"
    },
    "papermill": {
     "duration": 0.682366,
     "end_time": "2021-08-30T00:20:22.705767",
     "exception": false,
     "start_time": "2021-08-30T00:20:22.023401",
     "status": "completed"
    },
    "tags": []
   },
   "outputs": [],
   "source": [
    "train_images = mnist.train_images()\n",
    "train_labels = mnist.train_labels()"
   ]
  },
  {
   "cell_type": "code",
   "execution_count": 6,
   "id": "dceab3a5",
   "metadata": {
    "execution": {
     "iopub.execute_input": "2021-08-30T00:20:22.779687Z",
     "iopub.status.busy": "2021-08-30T00:20:22.773661Z",
     "iopub.status.idle": "2021-08-30T00:20:22.782816Z",
     "shell.execute_reply": "2021-08-30T00:20:22.782334Z"
    },
    "papermill": {
     "duration": 0.048805,
     "end_time": "2021-08-30T00:20:22.782926",
     "exception": false,
     "start_time": "2021-08-30T00:20:22.734121",
     "status": "completed"
    },
    "tags": []
   },
   "outputs": [
    {
     "data": {
      "text/plain": [
       "((60000, 28, 28), (60000,))"
      ]
     },
     "execution_count": 6,
     "metadata": {},
     "output_type": "execute_result"
    }
   ],
   "source": [
    "train_images.shape, train_labels.shape"
   ]
  },
  {
   "cell_type": "code",
   "execution_count": 7,
   "id": "f50dc2bb",
   "metadata": {
    "execution": {
     "iopub.execute_input": "2021-08-30T00:20:22.842883Z",
     "iopub.status.busy": "2021-08-30T00:20:22.842327Z",
     "iopub.status.idle": "2021-08-30T00:20:23.092624Z",
     "shell.execute_reply": "2021-08-30T00:20:23.092046Z"
    },
    "papermill": {
     "duration": 0.281625,
     "end_time": "2021-08-30T00:20:23.092765",
     "exception": false,
     "start_time": "2021-08-30T00:20:22.811140",
     "status": "completed"
    },
    "tags": []
   },
   "outputs": [],
   "source": [
    "test_images = mnist.test_images()\n",
    "test_labels = mnist.test_labels()"
   ]
  },
  {
   "cell_type": "code",
   "execution_count": 8,
   "id": "fc38cf1b",
   "metadata": {
    "execution": {
     "iopub.execute_input": "2021-08-30T00:20:23.167796Z",
     "iopub.status.busy": "2021-08-30T00:20:23.162453Z",
     "iopub.status.idle": "2021-08-30T00:20:23.176775Z",
     "shell.execute_reply": "2021-08-30T00:20:23.177379Z"
    },
    "papermill": {
     "duration": 0.051761,
     "end_time": "2021-08-30T00:20:23.177571",
     "exception": false,
     "start_time": "2021-08-30T00:20:23.125810",
     "status": "completed"
    },
    "tags": []
   },
   "outputs": [
    {
     "data": {
      "text/plain": [
       "((10000, 28, 28), (10000,))"
      ]
     },
     "execution_count": 8,
     "metadata": {},
     "output_type": "execute_result"
    }
   ],
   "source": [
    "test_images.shape, test_labels.shape"
   ]
  },
  {
   "cell_type": "code",
   "execution_count": 9,
   "id": "f9ed8fe0",
   "metadata": {
    "execution": {
     "iopub.execute_input": "2021-08-30T00:20:23.247065Z",
     "iopub.status.busy": "2021-08-30T00:20:23.246434Z",
     "iopub.status.idle": "2021-08-30T00:20:23.424527Z",
     "shell.execute_reply": "2021-08-30T00:20:23.425208Z"
    },
    "papermill": {
     "duration": 0.215499,
     "end_time": "2021-08-30T00:20:23.425360",
     "exception": false,
     "start_time": "2021-08-30T00:20:23.209861",
     "status": "completed"
    },
    "tags": []
   },
   "outputs": [
    {
     "name": "stdout",
     "output_type": "stream",
     "text": [
      "2\n"
     ]
    },
    {
     "data": {
      "text/plain": [
       "<matplotlib.image.AxesImage at 0x7ff3870ebb38>"
      ]
     },
     "execution_count": 9,
     "metadata": {},
     "output_type": "execute_result"
    },
    {
     "data": {
      "image/png": "[encoded data removed]",
      "text/plain": [
       "<Figure size 432x288 with 1 Axes>"
      ]
     },
     "metadata": {
      "needs_background": "light"
     },
     "output_type": "display_data"
    }
   ],
   "source": [
    "image_index = 7776 # You may select anything up to 60,000\n",
    "print(train_labels[image_index]) \n",
    "plt.imshow(train_images[image_index], cmap='Greys')"
   ]
  },
  {
   "cell_type": "markdown",
   "id": "a8d2388d",
   "metadata": {
    "papermill": {
     "duration": 0.030975,
     "end_time": "2021-08-30T00:20:23.486148",
     "exception": false,
     "start_time": "2021-08-30T00:20:23.455173",
     "status": "completed"
    },
    "tags": []
   },
   "source": [
    "## Filter data to get 3 and 8 out"
   ]
  },
  {
   "cell_type": "code",
   "execution_count": 10,
   "id": "776f7fc7",
   "metadata": {
    "execution": {
     "iopub.execute_input": "2021-08-30T00:20:23.552085Z",
     "iopub.status.busy": "2021-08-30T00:20:23.551182Z",
     "iopub.status.idle": "2021-08-30T00:20:23.569204Z",
     "shell.execute_reply": "2021-08-30T00:20:23.568671Z"
    },
    "papermill": {
     "duration": 0.05269,
     "end_time": "2021-08-30T00:20:23.569348",
     "exception": false,
     "start_time": "2021-08-30T00:20:23.516658",
     "status": "completed"
    },
    "tags": []
   },
   "outputs": [],
   "source": [
    "train_filter = np.where((train_labels == 3 ) | (train_labels == 8))\n",
    "test_filter = np.where((test_labels == 3) | (test_labels == 8))\n",
    "X_train, y_train = train_images[train_filter], train_labels[train_filter]\n",
    "X_test, y_test = test_images[test_filter], test_labels[test_filter]"
   ]
  },
  {
   "cell_type": "markdown",
   "id": "948f0b7e",
   "metadata": {
    "papermill": {
     "duration": 0.030526,
     "end_time": "2021-08-30T00:20:23.630212",
     "exception": false,
     "start_time": "2021-08-30T00:20:23.599686",
     "status": "completed"
    },
    "tags": []
   },
   "source": [
    "We normalize the pizel values in the 0 to 1 range"
   ]
  },
  {
   "cell_type": "code",
   "execution_count": 11,
   "id": "ee4c2166",
   "metadata": {
    "execution": {
     "iopub.execute_input": "2021-08-30T00:20:23.694397Z",
     "iopub.status.busy": "2021-08-30T00:20:23.693758Z",
     "iopub.status.idle": "2021-08-30T00:20:23.754694Z",
     "shell.execute_reply": "2021-08-30T00:20:23.755196Z"
    },
    "papermill": {
     "duration": 0.094718,
     "end_time": "2021-08-30T00:20:23.755367",
     "exception": false,
     "start_time": "2021-08-30T00:20:23.660649",
     "status": "completed"
    },
    "tags": []
   },
   "outputs": [],
   "source": [
    "X_train = X_train/255.\n",
    "X_test = X_test/255."
   ]
  },
  {
   "cell_type": "markdown",
   "id": "ddcf4fab",
   "metadata": {
    "papermill": {
     "duration": 0.030985,
     "end_time": "2021-08-30T00:20:23.817283",
     "exception": false,
     "start_time": "2021-08-30T00:20:23.786298",
     "status": "completed"
    },
    "tags": []
   },
   "source": [
    "And setup the labels as 1 (when the digit is 3) and 0 (when the digit is 8)"
   ]
  },
  {
   "cell_type": "code",
   "execution_count": 12,
   "id": "7dc908f2",
   "metadata": {
    "execution": {
     "iopub.execute_input": "2021-08-30T00:20:23.885957Z",
     "iopub.status.busy": "2021-08-30T00:20:23.885279Z",
     "iopub.status.idle": "2021-08-30T00:20:23.895199Z",
     "shell.execute_reply": "2021-08-30T00:20:23.894706Z"
    },
    "papermill": {
     "duration": 0.04826,
     "end_time": "2021-08-30T00:20:23.895313",
     "exception": false,
     "start_time": "2021-08-30T00:20:23.847053",
     "status": "completed"
    },
    "tags": []
   },
   "outputs": [],
   "source": [
    "y_train = 1*(y_train==3)\n",
    "y_test = 1*(y_test==3)"
   ]
  },
  {
   "cell_type": "code",
   "execution_count": 13,
   "id": "01e4e969",
   "metadata": {
    "execution": {
     "iopub.execute_input": "2021-08-30T00:20:23.960938Z",
     "iopub.status.busy": "2021-08-30T00:20:23.960325Z",
     "iopub.status.idle": "2021-08-30T00:20:23.970902Z",
     "shell.execute_reply": "2021-08-30T00:20:23.971345Z"
    },
    "papermill": {
     "duration": 0.046236,
     "end_time": "2021-08-30T00:20:23.971467",
     "exception": false,
     "start_time": "2021-08-30T00:20:23.925231",
     "status": "completed"
    },
    "tags": []
   },
   "outputs": [
    {
     "data": {
      "text/plain": [
       "((11982, 28, 28), (1984, 28, 28))"
      ]
     },
     "execution_count": 13,
     "metadata": {},
     "output_type": "execute_result"
    }
   ],
   "source": [
    "X_train.shape, X_test.shape"
   ]
  },
  {
   "cell_type": "markdown",
   "id": "5ccf3f85",
   "metadata": {
    "papermill": {
     "duration": 0.031778,
     "end_time": "2021-08-30T00:20:24.034909",
     "exception": false,
     "start_time": "2021-08-30T00:20:24.003131",
     "status": "completed"
    },
    "tags": []
   },
   "source": [
    "We reshape the data to flatten the image pixels into a set of features or co-variates:"
   ]
  },
  {
   "cell_type": "code",
   "execution_count": 14,
   "id": "5286a4a3",
   "metadata": {
    "execution": {
     "iopub.execute_input": "2021-08-30T00:20:24.105028Z",
     "iopub.status.busy": "2021-08-30T00:20:24.104370Z",
     "iopub.status.idle": "2021-08-30T00:20:24.118335Z",
     "shell.execute_reply": "2021-08-30T00:20:24.118831Z"
    },
    "papermill": {
     "duration": 0.052493,
     "end_time": "2021-08-30T00:20:24.118965",
     "exception": false,
     "start_time": "2021-08-30T00:20:24.066472",
     "status": "completed"
    },
    "tags": []
   },
   "outputs": [
    {
     "data": {
      "text/plain": [
       "((11982, 784), (1984, 784))"
      ]
     },
     "execution_count": 14,
     "metadata": {},
     "output_type": "execute_result"
    }
   ],
   "source": [
    "X_train = X_train.reshape(X_train.shape[0], -1)\n",
    "X_test = X_test.reshape(X_test.shape[0], -1)\n",
    "X_train.shape, X_test.shape"
   ]
  },
  {
   "cell_type": "code",
   "execution_count": 15,
   "id": "73c5f88a",
   "metadata": {
    "execution": {
     "iopub.execute_input": "2021-08-30T00:20:24.199446Z",
     "iopub.status.busy": "2021-08-30T00:20:24.194660Z",
     "iopub.status.idle": "2021-08-30T00:20:24.209378Z",
     "shell.execute_reply": "2021-08-30T00:20:24.210013Z"
    },
    "papermill": {
     "duration": 0.060103,
     "end_time": "2021-08-30T00:20:24.210153",
     "exception": false,
     "start_time": "2021-08-30T00:20:24.150050",
     "status": "completed"
    },
    "tags": []
   },
   "outputs": [],
   "source": [
    "#Impoting functions from 'Kudzu'\n",
    "from kudzu.model import Model\n",
    "from kudzu.train import Learner\n",
    "from kudzu.optim import GD\n",
    "from kudzu.data import Data, Sampler,Dataloader\n",
    "\n",
    "from kudzu.callbacks import AccCallback\n",
    "from kudzu.callbacks import ClfCallback\n",
    "\n",
    "from kudzu.loss import MSE\n",
    "\n",
    "from kudzu.layer import Sigmoid,Relu\n",
    "from kudzu.layer import Affine"
   ]
  },
  {
   "cell_type": "markdown",
   "id": "bc01172a",
   "metadata": {
    "papermill": {
     "duration": 0.033894,
     "end_time": "2021-08-30T00:20:24.276924",
     "exception": false,
     "start_time": "2021-08-30T00:20:24.243030",
     "status": "completed"
    },
    "tags": []
   },
   "source": [
    "### Let us create a `Config` class, to store important parameters. \n",
    "This class essentially plays the role of a dictionary."
   ]
  },
  {
   "cell_type": "code",
   "execution_count": 16,
   "id": "978281aa",
   "metadata": {
    "execution": {
     "iopub.execute_input": "2021-08-30T00:20:24.358401Z",
     "iopub.status.busy": "2021-08-30T00:20:24.355223Z",
     "iopub.status.idle": "2021-08-30T00:20:24.364932Z",
     "shell.execute_reply": "2021-08-30T00:20:24.364415Z"
    },
    "papermill": {
     "duration": 0.05495,
     "end_time": "2021-08-30T00:20:24.365054",
     "exception": false,
     "start_time": "2021-08-30T00:20:24.310104",
     "status": "completed"
    },
    "tags": []
   },
   "outputs": [],
   "source": [
    "class Config:\n",
    "    pass\n",
    "config = Config()\n",
    "config.lr = 0.001\n",
    "config.num_epochs = 250\n",
    "config.bs = 50"
   ]
  },
  {
   "cell_type": "markdown",
   "id": "1385fa59",
   "metadata": {
    "papermill": {
     "duration": 0.032812,
     "end_time": "2021-08-30T00:20:24.431761",
     "exception": false,
     "start_time": "2021-08-30T00:20:24.398949",
     "status": "completed"
    },
    "tags": []
   },
   "source": [
    "### Running Models with the Training data\n",
    "Details about the network layers:\n",
    "- A first affine layer has 784 inputs and does 100 affine transforms. These are followed by a Relu\n",
    "- A second affine layer has 100 inputs from the 100 activations of the past layer, and does 100 affine transforms. These are followed by a Relu\n",
    "- A third affine layer has 100 activations and does 2 affine transformations to create an embedding for visualization. There is no non-linearity here.\n",
    "- A final \"logistic regression\" which has an affine transform from 2 inputs to 1 output, which is squeezed through a sigmoid.\n"
   ]
  },
  {
   "cell_type": "code",
   "execution_count": 17,
   "id": "2b9c66db",
   "metadata": {
    "execution": {
     "iopub.execute_input": "2021-08-30T00:20:24.510359Z",
     "iopub.status.busy": "2021-08-30T00:20:24.509274Z",
     "iopub.status.idle": "2021-08-30T00:20:24.518307Z",
     "shell.execute_reply": "2021-08-30T00:20:24.517566Z"
    },
    "papermill": {
     "duration": 0.053126,
     "end_time": "2021-08-30T00:20:24.518434",
     "exception": false,
     "start_time": "2021-08-30T00:20:24.465308",
     "status": "completed"
    },
    "tags": []
   },
   "outputs": [],
   "source": [
    "data = Data(X_train, y_train.reshape(-1,1))\n",
    "sampler = Sampler(data, config.bs, shuffle=True)\n",
    "\n",
    "dl = Dataloader(data, sampler)\n",
    "\n",
    "opt = GD(config.lr)\n",
    "loss = MSE()"
   ]
  },
  {
   "cell_type": "code",
   "execution_count": 18,
   "id": "b275e4c2",
   "metadata": {
    "execution": {
     "iopub.execute_input": "2021-08-30T00:20:24.598413Z",
     "iopub.status.busy": "2021-08-30T00:20:24.594374Z",
     "iopub.status.idle": "2021-08-30T00:20:24.601410Z",
     "shell.execute_reply": "2021-08-30T00:20:24.600642Z"
    },
    "papermill": {
     "duration": 0.05079,
     "end_time": "2021-08-30T00:20:24.601562",
     "exception": false,
     "start_time": "2021-08-30T00:20:24.550772",
     "status": "completed"
    },
    "tags": []
   },
   "outputs": [],
   "source": [
    "training_data_x = X_train\n",
    "testing_data_x = X_test\n",
    "training_data_y = y_train.reshape(-1,1)\n",
    "testing_data_y = y_test.reshape(-1,1)"
   ]
  },
  {
   "cell_type": "code",
   "execution_count": 19,
   "id": "76951160",
   "metadata": {
    "execution": {
     "iopub.execute_input": "2021-08-30T00:20:24.678282Z",
     "iopub.status.busy": "2021-08-30T00:20:24.670745Z",
     "iopub.status.idle": "2021-08-30T00:20:24.686863Z",
     "shell.execute_reply": "2021-08-30T00:20:24.686376Z"
    },
    "papermill": {
     "duration": 0.054191,
     "end_time": "2021-08-30T00:20:24.686986",
     "exception": false,
     "start_time": "2021-08-30T00:20:24.632795",
     "status": "completed"
    },
    "tags": []
   },
   "outputs": [
    {
     "name": "stdout",
     "output_type": "stream",
     "text": [
      "xavier\n",
      "xavier\n",
      "xavier\n",
      "xavier\n",
      "xavier\n"
     ]
    }
   ],
   "source": [
    "layers = [Affine(\"first\", 784, 100), Relu(\"first\"), Affine(\"second\", 100, 100), Relu(\"second\"), Affine(\"third\", 100, 2), Affine(\"last\", 2, 1), Sigmoid(\"last\")]\n",
    "model_nn = Model(layers)\n",
    "model_lr = Model([Affine(\"logits\", 784, 1), Sigmoid(\"sigmoid\")])"
   ]
  },
  {
   "cell_type": "code",
   "execution_count": 20,
   "id": "6eede77a",
   "metadata": {
    "execution": {
     "iopub.execute_input": "2021-08-30T00:20:24.760822Z",
     "iopub.status.busy": "2021-08-30T00:20:24.760150Z",
     "iopub.status.idle": "2021-08-30T00:20:24.770120Z",
     "shell.execute_reply": "2021-08-30T00:20:24.770712Z"
    },
    "papermill": {
     "duration": 0.051837,
     "end_time": "2021-08-30T00:20:24.770853",
     "exception": false,
     "start_time": "2021-08-30T00:20:24.719016",
     "status": "completed"
    },
    "tags": []
   },
   "outputs": [],
   "source": [
    "nn_learner = Learner(loss, model_nn, opt, config.num_epochs)\n",
    "acc_nn = ClfCallback(nn_learner, config.bs, training_data_x , testing_data_x, training_data_y, testing_data_y)\n",
    "nn_learner.set_callbacks([acc_nn])"
   ]
  },
  {
   "cell_type": "code",
   "execution_count": 21,
   "id": "877b6cc7",
   "metadata": {
    "execution": {
     "iopub.execute_input": "2021-08-30T00:20:24.840272Z",
     "iopub.status.busy": "2021-08-30T00:20:24.839607Z",
     "iopub.status.idle": "2021-08-30T00:20:24.851231Z",
     "shell.execute_reply": "2021-08-30T00:20:24.851781Z"
    },
    "papermill": {
     "duration": 0.049863,
     "end_time": "2021-08-30T00:20:24.851911",
     "exception": false,
     "start_time": "2021-08-30T00:20:24.802048",
     "status": "completed"
    },
    "tags": []
   },
   "outputs": [],
   "source": [
    "lr_learner = Learner(loss, model_lr, opt, config.num_epochs)\n",
    "acc_lr = ClfCallback(lr_learner, config.bs, training_data_x , testing_data_x, training_data_y, testing_data_y)\n",
    "lr_learner.set_callbacks([acc_lr])"
   ]
  },
  {
   "cell_type": "code",
   "execution_count": 22,
   "id": "d9b133c3",
   "metadata": {
    "execution": {
     "iopub.execute_input": "2021-08-30T00:20:24.930592Z",
     "iopub.status.busy": "2021-08-30T00:20:24.924648Z",
     "iopub.status.idle": "2021-08-30T00:22:28.764037Z",
     "shell.execute_reply": "2021-08-30T00:22:28.764899Z"
    },
    "papermill": {
     "duration": 123.881238,
     "end_time": "2021-08-30T00:22:28.765057",
     "exception": false,
     "start_time": "2021-08-30T00:20:24.883819",
     "status": "completed"
    },
    "tags": []
   },
   "outputs": [
    {
     "name": "stdout",
     "output_type": "stream",
     "text": [
      "Epoch 0, Loss 0.25\n",
      "Training Accuracy: 0.5517, Testing Accuracy: 0.5680\n",
      "\n"
     ]
    },
    {
     "name": "stdout",
     "output_type": "stream",
     "text": [
      "Epoch 10, Loss 0.2017\n",
      "Training Accuracy: 0.8567, Testing Accuracy: 0.8760\n",
      "\n"
     ]
    },
    {
     "name": "stdout",
     "output_type": "stream",
     "text": [
      "Epoch 20, Loss 0.1069\n",
      "Training Accuracy: 0.9046, Testing Accuracy: 0.9098\n",
      "\n"
     ]
    },
    {
     "name": "stdout",
     "output_type": "stream",
     "text": [
      "Epoch 30, Loss 0.0649\n",
      "Training Accuracy: 0.9336, Testing Accuracy: 0.9420\n",
      "\n"
     ]
    },
    {
     "name": "stdout",
     "output_type": "stream",
     "text": [
      "Epoch 40, Loss 0.0491\n",
      "Training Accuracy: 0.9463, Testing Accuracy: 0.9556\n",
      "\n"
     ]
    },
    {
     "name": "stdout",
     "output_type": "stream",
     "text": [
      "Epoch 50, Loss 0.0413\n",
      "Training Accuracy: 0.9530, Testing Accuracy: 0.9622\n",
      "\n"
     ]
    },
    {
     "name": "stdout",
     "output_type": "stream",
     "text": [
      "Epoch 60, Loss 0.0368\n",
      "Training Accuracy: 0.9576, Testing Accuracy: 0.9677\n",
      "\n"
     ]
    },
    {
     "name": "stdout",
     "output_type": "stream",
     "text": [
      "Epoch 70, Loss 0.0338\n",
      "Training Accuracy: 0.9598, Testing Accuracy: 0.9688\n",
      "\n"
     ]
    },
    {
     "name": "stdout",
     "output_type": "stream",
     "text": [
      "Epoch 80, Loss 0.0317\n",
      "Training Accuracy: 0.9624, Testing Accuracy: 0.9693\n",
      "\n"
     ]
    },
    {
     "name": "stdout",
     "output_type": "stream",
     "text": [
      "Epoch 90, Loss 0.03\n",
      "Training Accuracy: 0.9646, Testing Accuracy: 0.9703\n",
      "\n"
     ]
    },
    {
     "name": "stdout",
     "output_type": "stream",
     "text": [
      "Epoch 100, Loss 0.0286\n",
      "Training Accuracy: 0.9660, Testing Accuracy: 0.9713\n",
      "\n"
     ]
    },
    {
     "name": "stdout",
     "output_type": "stream",
     "text": [
      "Epoch 110, Loss 0.0275\n",
      "Training Accuracy: 0.9675, Testing Accuracy: 0.9713\n",
      "\n"
     ]
    },
    {
     "name": "stdout",
     "output_type": "stream",
     "text": [
      "Epoch 120, Loss 0.0266\n",
      "Training Accuracy: 0.9680, Testing Accuracy: 0.9733\n",
      "\n"
     ]
    },
    {
     "name": "stdout",
     "output_type": "stream",
     "text": [
      "Epoch 130, Loss 0.0257\n",
      "Training Accuracy: 0.9697, Testing Accuracy: 0.9733\n",
      "\n"
     ]
    },
    {
     "name": "stdout",
     "output_type": "stream",
     "text": [
      "Epoch 140, Loss 0.025\n",
      "Training Accuracy: 0.9706, Testing Accuracy: 0.9738\n",
      "\n"
     ]
    },
    {
     "name": "stdout",
     "output_type": "stream",
     "text": [
      "Epoch 150, Loss 0.0243\n",
      "Training Accuracy: 0.9711, Testing Accuracy: 0.9733\n",
      "\n"
     ]
    },
    {
     "name": "stdout",
     "output_type": "stream",
     "text": [
      "Epoch 160, Loss 0.0237\n",
      "Training Accuracy: 0.9720, Testing Accuracy: 0.9743\n",
      "\n"
     ]
    },
    {
     "name": "stdout",
     "output_type": "stream",
     "text": [
      "Epoch 170, Loss 0.0232\n",
      "Training Accuracy: 0.9724, Testing Accuracy: 0.9743\n",
      "\n"
     ]
    },
    {
     "name": "stdout",
     "output_type": "stream",
     "text": [
      "Epoch 180, Loss 0.0226\n",
      "Training Accuracy: 0.9732, Testing Accuracy: 0.9743\n",
      "\n"
     ]
    },
    {
     "name": "stdout",
     "output_type": "stream",
     "text": [
      "Epoch 190, Loss 0.0222\n",
      "Training Accuracy: 0.9738, Testing Accuracy: 0.9743\n",
      "\n"
     ]
    },
    {
     "name": "stdout",
     "output_type": "stream",
     "text": [
      "Epoch 200, Loss 0.0217\n",
      "Training Accuracy: 0.9742, Testing Accuracy: 0.9748\n",
      "\n"
     ]
    },
    {
     "name": "stdout",
     "output_type": "stream",
     "text": [
      "Epoch 210, Loss 0.0213\n",
      "Training Accuracy: 0.9750, Testing Accuracy: 0.9758\n",
      "\n"
     ]
    },
    {
     "name": "stdout",
     "output_type": "stream",
     "text": [
      "Epoch 220, Loss 0.0209\n",
      "Training Accuracy: 0.9750, Testing Accuracy: 0.9758\n",
      "\n"
     ]
    },
    {
     "name": "stdout",
     "output_type": "stream",
     "text": [
      "Epoch 230, Loss 0.0206\n",
      "Training Accuracy: 0.9762, Testing Accuracy: 0.9763\n",
      "\n"
     ]
    },
    {
     "name": "stdout",
     "output_type": "stream",
     "text": [
      "Epoch 240, Loss 0.0202\n",
      "Training Accuracy: 0.9770, Testing Accuracy: 0.9763\n",
      "\n"
     ]
    },
    {
     "data": {
      "text/plain": [
       "0.001983885465393161"
      ]
     },
     "execution_count": 22,
     "metadata": {},
     "output_type": "execute_result"
    }
   ],
   "source": [
    "nn_learner.train_loop(dl)"
   ]
  },
  {
   "cell_type": "code",
   "execution_count": 23,
   "id": "e0163366",
   "metadata": {
    "execution": {
     "iopub.execute_input": "2021-08-30T00:22:28.855016Z",
     "iopub.status.busy": "2021-08-30T00:22:28.854391Z",
     "iopub.status.idle": "2021-08-30T00:22:46.843697Z",
     "shell.execute_reply": "2021-08-30T00:22:46.844479Z"
    },
    "papermill": {
     "duration": 18.039413,
     "end_time": "2021-08-30T00:22:46.844631",
     "exception": false,
     "start_time": "2021-08-30T00:22:28.805218",
     "status": "completed"
    },
    "tags": []
   },
   "outputs": [
    {
     "name": "stdout",
     "output_type": "stream",
     "text": [
      "Epoch 0, Loss 0.2412\n",
      "Training Accuracy: 0.6873, Testing Accuracy: 0.7122\n",
      "\n"
     ]
    },
    {
     "name": "stdout",
     "output_type": "stream",
     "text": [
      "Epoch 10, Loss 0.1019\n",
      "Training Accuracy: 0.9085, Testing Accuracy: 0.9204\n",
      "\n"
     ]
    },
    {
     "name": "stdout",
     "output_type": "stream",
     "text": [
      "Epoch 20, Loss 0.0789\n",
      "Training Accuracy: 0.9269, Testing Accuracy: 0.9360\n",
      "\n"
     ]
    },
    {
     "name": "stdout",
     "output_type": "stream",
     "text": [
      "Epoch 30, Loss 0.0682\n",
      "Training Accuracy: 0.9349, Testing Accuracy: 0.9471\n",
      "\n"
     ]
    },
    {
     "name": "stdout",
     "output_type": "stream",
     "text": [
      "Epoch 40, Loss 0.0617\n",
      "Training Accuracy: 0.9402, Testing Accuracy: 0.9516\n",
      "\n"
     ]
    },
    {
     "name": "stdout",
     "output_type": "stream",
     "text": [
      "Epoch 50, Loss 0.0572\n",
      "Training Accuracy: 0.9438, Testing Accuracy: 0.9551\n",
      "\n"
     ]
    },
    {
     "name": "stdout",
     "output_type": "stream",
     "text": [
      "Epoch 60, Loss 0.0539\n",
      "Training Accuracy: 0.9466, Testing Accuracy: 0.9602\n",
      "\n"
     ]
    },
    {
     "name": "stdout",
     "output_type": "stream",
     "text": [
      "Epoch 70, Loss 0.0514\n",
      "Training Accuracy: 0.9480, Testing Accuracy: 0.9607\n",
      "\n"
     ]
    },
    {
     "name": "stdout",
     "output_type": "stream",
     "text": [
      "Epoch 80, Loss 0.0493\n",
      "Training Accuracy: 0.9495, Testing Accuracy: 0.9602\n",
      "\n"
     ]
    },
    {
     "name": "stdout",
     "output_type": "stream",
     "text": [
      "Epoch 90, Loss 0.0477\n",
      "Training Accuracy: 0.9511, Testing Accuracy: 0.9602\n",
      "\n"
     ]
    },
    {
     "name": "stdout",
     "output_type": "stream",
     "text": [
      "Epoch 100, Loss 0.0462\n",
      "Training Accuracy: 0.9523, Testing Accuracy: 0.9617\n",
      "\n"
     ]
    },
    {
     "name": "stdout",
     "output_type": "stream",
     "text": [
      "Epoch 110, Loss 0.045\n",
      "Training Accuracy: 0.9530, Testing Accuracy: 0.9612\n",
      "\n"
     ]
    },
    {
     "name": "stdout",
     "output_type": "stream",
     "text": [
      "Epoch 120, Loss 0.044\n",
      "Training Accuracy: 0.9538, Testing Accuracy: 0.9607\n",
      "\n"
     ]
    },
    {
     "name": "stdout",
     "output_type": "stream",
     "text": [
      "Epoch 130, Loss 0.043\n",
      "Training Accuracy: 0.9547, Testing Accuracy: 0.9622\n",
      "\n"
     ]
    },
    {
     "name": "stdout",
     "output_type": "stream",
     "text": [
      "Epoch 140, Loss 0.0422\n",
      "Training Accuracy: 0.9553, Testing Accuracy: 0.9632\n",
      "\n"
     ]
    },
    {
     "name": "stdout",
     "output_type": "stream",
     "text": [
      "Epoch 150, Loss 0.0415\n",
      "Training Accuracy: 0.9561, Testing Accuracy: 0.9632\n",
      "\n"
     ]
    },
    {
     "name": "stdout",
     "output_type": "stream",
     "text": [
      "Epoch 160, Loss 0.0408\n",
      "Training Accuracy: 0.9567, Testing Accuracy: 0.9627\n",
      "\n"
     ]
    },
    {
     "name": "stdout",
     "output_type": "stream",
     "text": [
      "Epoch 170, Loss 0.0402\n",
      "Training Accuracy: 0.9571, Testing Accuracy: 0.9627\n",
      "\n"
     ]
    },
    {
     "name": "stdout",
     "output_type": "stream",
     "text": [
      "Epoch 180, Loss 0.0396\n",
      "Training Accuracy: 0.9575, Testing Accuracy: 0.9627\n",
      "\n"
     ]
    },
    {
     "name": "stdout",
     "output_type": "stream",
     "text": [
      "Epoch 190, Loss 0.0391\n",
      "Training Accuracy: 0.9580, Testing Accuracy: 0.9632\n",
      "\n"
     ]
    },
    {
     "name": "stdout",
     "output_type": "stream",
     "text": [
      "Epoch 200, Loss 0.0386\n",
      "Training Accuracy: 0.9587, Testing Accuracy: 0.9627\n",
      "\n"
     ]
    },
    {
     "name": "stdout",
     "output_type": "stream",
     "text": [
      "Epoch 210, Loss 0.0382\n",
      "Training Accuracy: 0.9589, Testing Accuracy: 0.9632\n",
      "\n"
     ]
    },
    {
     "name": "stdout",
     "output_type": "stream",
     "text": [
      "Epoch 220, Loss 0.0378\n",
      "Training Accuracy: 0.9591, Testing Accuracy: 0.9637\n",
      "\n"
     ]
    },
    {
     "name": "stdout",
     "output_type": "stream",
     "text": [
      "Epoch 230, Loss 0.0374\n",
      "Training Accuracy: 0.9597, Testing Accuracy: 0.9637\n",
      "\n"
     ]
    },
    {
     "name": "stdout",
     "output_type": "stream",
     "text": [
      "Epoch 240, Loss 0.037\n",
      "Training Accuracy: 0.9602, Testing Accuracy: 0.9642\n",
      "\n"
     ]
    },
    {
     "data": {
      "text/plain": [
       "0.018707244720881696"
      ]
     },
     "execution_count": 23,
     "metadata": {},
     "output_type": "execute_result"
    }
   ],
   "source": [
    "lr_learner.train_loop(dl)"
   ]
  },
  {
   "cell_type": "code",
   "execution_count": 24,
   "id": "ca410940",
   "metadata": {
    "execution": {
     "iopub.execute_input": "2021-08-30T00:22:46.950757Z",
     "iopub.status.busy": "2021-08-30T00:22:46.950142Z",
     "iopub.status.idle": "2021-08-30T00:22:47.211559Z",
     "shell.execute_reply": "2021-08-30T00:22:47.212032Z"
    },
    "papermill": {
     "duration": 0.31906,
     "end_time": "2021-08-30T00:22:47.212178",
     "exception": false,
     "start_time": "2021-08-30T00:22:46.893118",
     "status": "completed"
    },
    "tags": []
   },
   "outputs": [
    {
     "data": {
      "text/plain": [
       "<matplotlib.legend.Legend at 0x7ff386cd0b70>"
      ]
     },
     "execution_count": 24,
     "metadata": {},
     "output_type": "execute_result"
    },
    {
     "data": {
      "image/png": "[encoded data removed]",
      "text/plain": [
       "<Figure size 1080x720 with 1 Axes>"
      ]
     },
     "metadata": {
      "needs_background": "light"
     },
     "output_type": "display_data"
    }
   ],
   "source": [
    "#comparing the results of NN and LR\n",
    "plt.figure(figsize=(15,10))\n",
    "\n",
    "# Neural Network plots\n",
    "plt.plot(acc_nn.accuracies, 'r-', label = \"Training Accuracies - NN\")\n",
    "plt.plot(acc_nn.test_accuracies, 'g-', label = \"Testing Accuracies - NN\")\n",
    "\n",
    "# Logistic Regression plots\n",
    "plt.plot(acc_lr.accuracies, 'k-', label = \"Training Accuracies - LR\")\n",
    "plt.plot(acc_lr.test_accuracies, 'b-', label = \"Testing Accuracies - LR\")\n",
    "plt.legend()"
   ]
  },
  {
   "cell_type": "markdown",
   "id": "80dfb35c",
   "metadata": {
    "papermill": {
     "duration": 0.054021,
     "end_time": "2021-08-30T00:22:47.317828",
     "exception": false,
     "start_time": "2021-08-30T00:22:47.263807",
     "status": "completed"
    },
    "tags": []
   },
   "source": [
    "#### Plotting the outputs of this layer of the NN.\n"
   ]
  },
  {
   "cell_type": "code",
   "execution_count": 25,
   "id": "45eb2ff5",
   "metadata": {
    "execution": {
     "iopub.execute_input": "2021-08-30T00:22:47.422946Z",
     "iopub.status.busy": "2021-08-30T00:22:47.421132Z",
     "iopub.status.idle": "2021-08-30T00:22:47.443984Z",
     "shell.execute_reply": "2021-08-30T00:22:47.444474Z"
    },
    "papermill": {
     "duration": 0.077197,
     "end_time": "2021-08-30T00:22:47.444625",
     "exception": false,
     "start_time": "2021-08-30T00:22:47.367428",
     "status": "completed"
    },
    "tags": []
   },
   "outputs": [],
   "source": [
    "new_model = Model(layers[:-2])\n",
    "testing_plot = new_model(testing_data_x)"
   ]
  },
  {
   "cell_type": "code",
   "execution_count": 26,
   "id": "4c0a5485",
   "metadata": {
    "execution": {
     "iopub.execute_input": "2021-08-30T00:22:47.554503Z",
     "iopub.status.busy": "2021-08-30T00:22:47.553915Z",
     "iopub.status.idle": "2021-08-30T00:22:47.787788Z",
     "shell.execute_reply": "2021-08-30T00:22:47.787290Z"
    },
    "papermill": {
     "duration": 0.288555,
     "end_time": "2021-08-30T00:22:47.787912",
     "exception": false,
     "start_time": "2021-08-30T00:22:47.499357",
     "status": "completed"
    },
    "tags": []
   },
   "outputs": [
    {
     "data": {
      "text/plain": [
       "Text(0.5, 1.0, 'Outputs')"
      ]
     },
     "execution_count": 26,
     "metadata": {},
     "output_type": "execute_result"
    },
    {
     "data": {
      "image/png": "[encoded data removed]",
      "text/plain": [
       "<Figure size 576x504 with 1 Axes>"
      ]
     },
     "metadata": {
      "needs_background": "light"
     },
     "output_type": "display_data"
    }
   ],
   "source": [
    "# Plotting the scatter plot of points and color coding by class\n",
    "plt.figure(figsize=(8,7))\n",
    "plt.scatter(testing_plot[:,0], testing_plot[:,1], alpha = 0.1, c = y_test.ravel());\n",
    "plt.title('Outputs')"
   ]
  },
  {
   "cell_type": "markdown",
   "id": "a74fcf8f",
   "metadata": {
    "papermill": {
     "duration": 0.050652,
     "end_time": "2021-08-30T00:22:47.887798",
     "exception": false,
     "start_time": "2021-08-30T00:22:47.837146",
     "status": "completed"
    },
    "tags": []
   },
   "source": [
    "Probability contours"
   ]
  },
  {
   "cell_type": "code",
   "execution_count": 27,
   "id": "d0afc8e3",
   "metadata": {
    "execution": {
     "iopub.execute_input": "2021-08-30T00:22:47.995843Z",
     "iopub.status.busy": "2021-08-30T00:22:47.992528Z",
     "iopub.status.idle": "2021-08-30T00:22:48.003832Z",
     "shell.execute_reply": "2021-08-30T00:22:48.003333Z"
    },
    "papermill": {
     "duration": 0.068135,
     "end_time": "2021-08-30T00:22:48.003950",
     "exception": false,
     "start_time": "2021-08-30T00:22:47.935815",
     "status": "completed"
    },
    "tags": []
   },
   "outputs": [],
   "source": [
    "model_prob = Model(layers[-2:]) "
   ]
  },
  {
   "cell_type": "code",
   "execution_count": 28,
   "id": "9b96e238",
   "metadata": {
    "execution": {
     "iopub.execute_input": "2021-08-30T00:22:48.130687Z",
     "iopub.status.busy": "2021-08-30T00:22:48.130099Z",
     "iopub.status.idle": "2021-08-30T00:22:48.144432Z",
     "shell.execute_reply": "2021-08-30T00:22:48.144884Z"
    },
    "papermill": {
     "duration": 0.092242,
     "end_time": "2021-08-30T00:22:48.145020",
     "exception": false,
     "start_time": "2021-08-30T00:22:48.052778",
     "status": "completed"
    },
    "tags": []
   },
   "outputs": [],
   "source": [
    "#creating the x and y ranges according to the above generated plot.\n",
    "x_range = np.linspace(-4, 1, 100) \n",
    "y_range = np.linspace(-6, 6, 100) \n",
    "x_grid, y_grid = np.meshgrid(x_range, y_range) # x_grid and y_grig are of size 100 X 100\n",
    "\n",
    "# converting x_grid and y_grid to continuous arrays\n",
    "x_gridflat = np.ravel(x_grid)\n",
    "y_gridflat = np.ravel(y_grid)\n",
    "\n",
    "# The last layer of the current model takes two columns as input. Hence transpose of np.vstack() is required.\n",
    "X = np.vstack((x_gridflat, y_gridflat)).T\n",
    "\n",
    "prob_contour = model_prob(X).reshape(100,100) "
   ]
  },
  {
   "cell_type": "code",
   "execution_count": 29,
   "id": "da72499a",
   "metadata": {
    "execution": {
     "iopub.execute_input": "2021-08-30T00:22:48.263483Z",
     "iopub.status.busy": "2021-08-30T00:22:48.262424Z",
     "iopub.status.idle": "2021-08-30T00:22:48.578286Z",
     "shell.execute_reply": "2021-08-30T00:22:48.578737Z"
    },
    "papermill": {
     "duration": 0.377904,
     "end_time": "2021-08-30T00:22:48.578889",
     "exception": false,
     "start_time": "2021-08-30T00:22:48.200985",
     "status": "completed"
    },
    "tags": []
   },
   "outputs": [
    {
     "data": {
      "image/png": "[encoded data removed]",
      "text/plain": [
       "<Figure size 720x648 with 1 Axes>"
      ]
     },
     "metadata": {
      "needs_background": "light"
     },
     "output_type": "display_data"
    }
   ],
   "source": [
    "plt.figure(figsize=(10,9))\n",
    "plt.scatter(testing_plot[:,0], testing_plot[:,1], alpha = 0.1, c = y_test.ravel())\n",
    "contours = plt.contour(x_grid,y_grid,prob_contour)\n",
    "plt.title('Probability Contours')\n",
    "plt.clabel(contours, inline = True );"
   ]
  },
  {
   "cell_type": "code",
   "execution_count": null,
   "id": "e81b4ac7",
   "metadata": {
    "papermill": {
     "duration": 0.052324,
     "end_time": "2021-08-30T00:22:48.682494",
     "exception": false,
     "start_time": "2021-08-30T00:22:48.630170",
     "status": "completed"
    },
    "tags": []
   },
   "outputs": [],
   "source": []
  }
 ],
 "metadata": {
  "kernelspec": {
   "display_name": "Python 3",
   "language": "python",
   "name": "python3"
  },
  "language_info": {
   "codemirror_mode": {
    "name": "ipython",
    "version": 3
   },
   "file_extension": ".py",
   "mimetype": "text/x-python",
   "name": "python",
   "nbconvert_exporter": "python",
   "pygments_lexer": "ipython3",
   "version": "3.6.14"
  },
  "papermill": {
   "default_parameters": {},
   "duration": 152.028428,
   "end_time": "2021-08-30T00:22:49.141694",
   "environment_variables": {},
   "exception": null,
   "input_path": "2020-08-11-part2.ipynb",
   "output_path": "2020-08-11-part2.ipynb",
   "parameters": {},
   "start_time": "2021-08-30T00:20:17.113266",
   "version": "2.3.3"
  }
 },
 "nbformat": 4,
 "nbformat_minor": 5
}