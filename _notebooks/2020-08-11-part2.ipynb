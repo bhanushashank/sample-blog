{
 "cells": [
  {
   "cell_type": "markdown",
   "id": "98380cd3",
   "metadata": {
    "papermill": {
     "duration": 0.028086,
     "end_time": "2022-03-21T20:10:38.008918",
     "exception": false,
     "start_time": "2022-03-21T20:10:37.980832",
     "status": "completed"
    },
    "tags": []
   },
   "source": [
    "# Distinguish Your Own Digits (DYOD)"
   ]
  },
  {
   "cell_type": "markdown",
   "id": "ef31240d",
   "metadata": {
    "papermill": {
     "duration": 0.025351,
     "end_time": "2022-03-21T20:10:38.058898",
     "exception": false,
     "start_time": "2022-03-21T20:10:38.033547",
     "status": "completed"
    },
    "tags": []
   },
   "source": [
    "You are going to write a classifier that distinguishes between the number 3 and number 8."
   ]
  },
  {
   "cell_type": "code",
   "execution_count": 1,
   "id": "b15c8646",
   "metadata": {
    "execution": {
     "iopub.execute_input": "2022-03-21T20:10:38.117386Z",
     "iopub.status.busy": "2022-03-21T20:10:38.116850Z",
     "iopub.status.idle": "2022-03-21T20:10:38.127259Z",
     "shell.execute_reply": "2022-03-21T20:10:38.127671Z"
    },
    "papermill": {
     "duration": 0.04505,
     "end_time": "2022-03-21T20:10:38.127813",
     "exception": false,
     "start_time": "2022-03-21T20:10:38.082763",
     "status": "completed"
    },
    "tags": []
   },
   "outputs": [],
   "source": [
    "%load_ext autoreload\n",
    "%autoreload 2"
   ]
  },
  {
   "cell_type": "code",
   "execution_count": 2,
   "id": "22ef38dc",
   "metadata": {
    "execution": {
     "iopub.execute_input": "2022-03-21T20:10:38.180097Z",
     "iopub.status.busy": "2022-03-21T20:10:38.179583Z",
     "iopub.status.idle": "2022-03-21T20:10:38.743910Z",
     "shell.execute_reply": "2022-03-21T20:10:38.743444Z"
    },
    "papermill": {
     "duration": 0.592244,
     "end_time": "2022-03-21T20:10:38.744034",
     "exception": false,
     "start_time": "2022-03-21T20:10:38.151790",
     "status": "completed"
    },
    "tags": []
   },
   "outputs": [],
   "source": [
    "%matplotlib inline\n",
    "import numpy as np\n",
    "import matplotlib.pyplot as plt\n",
    "import pandas as pd"
   ]
  },
  {
   "cell_type": "markdown",
   "id": "ba036198",
   "metadata": {
    "papermill": {
     "duration": 0.023995,
     "end_time": "2022-03-21T20:10:38.792009",
     "exception": false,
     "start_time": "2022-03-21T20:10:38.768014",
     "status": "completed"
    },
    "tags": []
   },
   "source": [
    "From the command line run `pip install mnist`. This is a library that will help you bring down the mnist dataset. If you run this from a notebook, you need to put  `!pip install mnist` in a cell by itself."
   ]
  },
  {
   "cell_type": "code",
   "execution_count": 3,
   "id": "bb6ad8a1",
   "metadata": {
    "execution": {
     "iopub.execute_input": "2022-03-21T20:10:38.843959Z",
     "iopub.status.busy": "2022-03-21T20:10:38.843453Z",
     "iopub.status.idle": "2022-03-21T20:10:41.334738Z",
     "shell.execute_reply": "2022-03-21T20:10:41.335225Z"
    },
    "papermill": {
     "duration": 2.519351,
     "end_time": "2022-03-21T20:10:41.335379",
     "exception": false,
     "start_time": "2022-03-21T20:10:38.816028",
     "status": "completed"
    },
    "tags": []
   },
   "outputs": [
    {
     "name": "stdout",
     "output_type": "stream",
     "text": [
      "Collecting mnist\r\n",
      "  Downloading mnist-0.2.2-py2.py3-none-any.whl (3.5 kB)\r\n"
     ]
    },
    {
     "name": "stdout",
     "output_type": "stream",
     "text": [
      "Requirement already satisfied: numpy in /opt/hostedtoolcache/Python/3.6.15/x64/lib/python3.6/site-packages (from mnist) (1.19.5)\r\n"
     ]
    },
    {
     "name": "stdout",
     "output_type": "stream",
     "text": [
      "Installing collected packages: mnist\r\n"
     ]
    },
    {
     "name": "stdout",
     "output_type": "stream",
     "text": [
      "Successfully installed mnist-0.2.2\r\n"
     ]
    }
   ],
   "source": [
    "!pip install mnist"
   ]
  },
  {
   "cell_type": "markdown",
   "id": "69df9c9a",
   "metadata": {
    "papermill": {
     "duration": 0.025239,
     "end_time": "2022-03-21T20:10:41.386660",
     "exception": false,
     "start_time": "2022-03-21T20:10:41.361421",
     "status": "completed"
    },
    "tags": []
   },
   "source": [
    "## Preparing the Data"
   ]
  },
  {
   "cell_type": "code",
   "execution_count": 4,
   "id": "7f69d806",
   "metadata": {
    "execution": {
     "iopub.execute_input": "2022-03-21T20:10:41.441042Z",
     "iopub.status.busy": "2022-03-21T20:10:41.440528Z",
     "iopub.status.idle": "2022-03-21T20:10:41.454887Z",
     "shell.execute_reply": "2022-03-21T20:10:41.455303Z"
    },
    "papermill": {
     "duration": 0.043662,
     "end_time": "2022-03-21T20:10:41.455427",
     "exception": false,
     "start_time": "2022-03-21T20:10:41.411765",
     "status": "completed"
    },
    "tags": []
   },
   "outputs": [],
   "source": [
    "import mnist"
   ]
  },
  {
   "cell_type": "code",
   "execution_count": 5,
   "id": "a411e44f",
   "metadata": {
    "execution": {
     "iopub.execute_input": "2022-03-21T20:10:41.508862Z",
     "iopub.status.busy": "2022-03-21T20:10:41.508361Z",
     "iopub.status.idle": "2022-03-21T20:10:42.011673Z",
     "shell.execute_reply": "2022-03-21T20:10:42.012147Z"
    },
    "papermill": {
     "duration": 0.531842,
     "end_time": "2022-03-21T20:10:42.012306",
     "exception": false,
     "start_time": "2022-03-21T20:10:41.480464",
     "status": "completed"
    },
    "tags": []
   },
   "outputs": [],
   "source": [
    "train_images = mnist.train_images()\n",
    "train_labels = mnist.train_labels()"
   ]
  },
  {
   "cell_type": "code",
   "execution_count": 6,
   "id": "dceab3a5",
   "metadata": {
    "execution": {
     "iopub.execute_input": "2022-03-21T20:10:42.068405Z",
     "iopub.status.busy": "2022-03-21T20:10:42.067862Z",
     "iopub.status.idle": "2022-03-21T20:10:42.080809Z",
     "shell.execute_reply": "2022-03-21T20:10:42.081239Z"
    },
    "papermill": {
     "duration": 0.043188,
     "end_time": "2022-03-21T20:10:42.081366",
     "exception": false,
     "start_time": "2022-03-21T20:10:42.038178",
     "status": "completed"
    },
    "tags": []
   },
   "outputs": [
    {
     "data": {
      "text/plain": [
       "((60000, 28, 28), (60000,))"
      ]
     },
     "execution_count": 6,
     "metadata": {},
     "output_type": "execute_result"
    }
   ],
   "source": [
    "train_images.shape, train_labels.shape"
   ]
  },
  {
   "cell_type": "code",
   "execution_count": 7,
   "id": "f50dc2bb",
   "metadata": {
    "execution": {
     "iopub.execute_input": "2022-03-21T20:10:42.147351Z",
     "iopub.status.busy": "2022-03-21T20:10:42.146794Z",
     "iopub.status.idle": "2022-03-21T20:10:42.263000Z",
     "shell.execute_reply": "2022-03-21T20:10:42.262451Z"
    },
    "papermill": {
     "duration": 0.156448,
     "end_time": "2022-03-21T20:10:42.263142",
     "exception": false,
     "start_time": "2022-03-21T20:10:42.106694",
     "status": "completed"
    },
    "tags": []
   },
   "outputs": [],
   "source": [
    "test_images = mnist.test_images()\n",
    "test_labels = mnist.test_labels()"
   ]
  },
  {
   "cell_type": "code",
   "execution_count": 8,
   "id": "fc38cf1b",
   "metadata": {
    "execution": {
     "iopub.execute_input": "2022-03-21T20:10:42.325097Z",
     "iopub.status.busy": "2022-03-21T20:10:42.324588Z",
     "iopub.status.idle": "2022-03-21T20:10:42.333501Z",
     "shell.execute_reply": "2022-03-21T20:10:42.333077Z"
    },
    "papermill": {
     "duration": 0.043779,
     "end_time": "2022-03-21T20:10:42.333606",
     "exception": false,
     "start_time": "2022-03-21T20:10:42.289827",
     "status": "completed"
    },
    "tags": []
   },
   "outputs": [
    {
     "data": {
      "text/plain": [
       "((10000, 28, 28), (10000,))"
      ]
     },
     "execution_count": 8,
     "metadata": {},
     "output_type": "execute_result"
    }
   ],
   "source": [
    "test_images.shape, test_labels.shape"
   ]
  },
  {
   "cell_type": "code",
   "execution_count": 9,
   "id": "f9ed8fe0",
   "metadata": {
    "execution": {
     "iopub.execute_input": "2022-03-21T20:10:42.413703Z",
     "iopub.status.busy": "2022-03-21T20:10:42.400224Z",
     "iopub.status.idle": "2022-03-21T20:10:42.527337Z",
     "shell.execute_reply": "2022-03-21T20:10:42.526881Z"
    },
    "papermill": {
     "duration": 0.168058,
     "end_time": "2022-03-21T20:10:42.527451",
     "exception": false,
     "start_time": "2022-03-21T20:10:42.359393",
     "status": "completed"
    },
    "tags": []
   },
   "outputs": [
    {
     "name": "stdout",
     "output_type": "stream",
     "text": [
      "2\n"
     ]
    },
    {
     "data": {
      "text/plain": [
       "<matplotlib.image.AxesImage at 0x7f3b609a96d8>"
      ]
     },
     "execution_count": 9,
     "metadata": {},
     "output_type": "execute_result"
    },
    {
     "data": {
      "image/png": "[encoded data removed]",
      "text/plain": [
       "<Figure size 432x288 with 1 Axes>"
      ]
     },
     "metadata": {
      "needs_background": "light"
     },
     "output_type": "display_data"
    }
   ],
   "source": [
    "image_index = 7776 # You may select anything up to 60,000\n",
    "print(train_labels[image_index]) \n",
    "plt.imshow(train_images[image_index], cmap='Greys')"
   ]
  },
  {
   "cell_type": "markdown",
   "id": "a8d2388d",
   "metadata": {
    "papermill": {
     "duration": 0.0266,
     "end_time": "2022-03-21T20:10:42.580929",
     "exception": false,
     "start_time": "2022-03-21T20:10:42.554329",
     "status": "completed"
    },
    "tags": []
   },
   "source": [
    "## Filter data to get 3 and 8 out"
   ]
  },
  {
   "cell_type": "code",
   "execution_count": 10,
   "id": "776f7fc7",
   "metadata": {
    "execution": {
     "iopub.execute_input": "2022-03-21T20:10:42.651525Z",
     "iopub.status.busy": "2022-03-21T20:10:42.647589Z",
     "iopub.status.idle": "2022-03-21T20:10:42.659504Z",
     "shell.execute_reply": "2022-03-21T20:10:42.660188Z"
    },
    "papermill": {
     "duration": 0.052659,
     "end_time": "2022-03-21T20:10:42.660325",
     "exception": false,
     "start_time": "2022-03-21T20:10:42.607666",
     "status": "completed"
    },
    "tags": []
   },
   "outputs": [],
   "source": [
    "train_filter = np.where((train_labels == 3 ) | (train_labels == 8))\n",
    "test_filter = np.where((test_labels == 3) | (test_labels == 8))\n",
    "X_train, y_train = train_images[train_filter], train_labels[train_filter]\n",
    "X_test, y_test = test_images[test_filter], test_labels[test_filter]"
   ]
  },
  {
   "cell_type": "markdown",
   "id": "948f0b7e",
   "metadata": {
    "papermill": {
     "duration": 0.026556,
     "end_time": "2022-03-21T20:10:42.713713",
     "exception": false,
     "start_time": "2022-03-21T20:10:42.687157",
     "status": "completed"
    },
    "tags": []
   },
   "source": [
    "We normalize the pizel values in the 0 to 1 range"
   ]
  },
  {
   "cell_type": "code",
   "execution_count": 11,
   "id": "ee4c2166",
   "metadata": {
    "execution": {
     "iopub.execute_input": "2022-03-21T20:10:42.771800Z",
     "iopub.status.busy": "2022-03-21T20:10:42.769791Z",
     "iopub.status.idle": "2022-03-21T20:10:42.818306Z",
     "shell.execute_reply": "2022-03-21T20:10:42.817757Z"
    },
    "papermill": {
     "duration": 0.078112,
     "end_time": "2022-03-21T20:10:42.818440",
     "exception": false,
     "start_time": "2022-03-21T20:10:42.740328",
     "status": "completed"
    },
    "tags": []
   },
   "outputs": [],
   "source": [
    "X_train = X_train/255.\n",
    "X_test = X_test/255."
   ]
  },
  {
   "cell_type": "markdown",
   "id": "ddcf4fab",
   "metadata": {
    "papermill": {
     "duration": 0.026755,
     "end_time": "2022-03-21T20:10:42.872425",
     "exception": false,
     "start_time": "2022-03-21T20:10:42.845670",
     "status": "completed"
    },
    "tags": []
   },
   "source": [
    "And setup the labels as 1 (when the digit is 3) and 0 (when the digit is 8)"
   ]
  },
  {
   "cell_type": "code",
   "execution_count": 12,
   "id": "7dc908f2",
   "metadata": {
    "execution": {
     "iopub.execute_input": "2022-03-21T20:10:42.932068Z",
     "iopub.status.busy": "2022-03-21T20:10:42.931552Z",
     "iopub.status.idle": "2022-03-21T20:10:42.941650Z",
     "shell.execute_reply": "2022-03-21T20:10:42.941239Z"
    },
    "papermill": {
     "duration": 0.042464,
     "end_time": "2022-03-21T20:10:42.941761",
     "exception": false,
     "start_time": "2022-03-21T20:10:42.899297",
     "status": "completed"
    },
    "tags": []
   },
   "outputs": [],
   "source": [
    "y_train = 1*(y_train==3)\n",
    "y_test = 1*(y_test==3)"
   ]
  },
  {
   "cell_type": "code",
   "execution_count": 13,
   "id": "01e4e969",
   "metadata": {
    "execution": {
     "iopub.execute_input": "2022-03-21T20:10:43.001327Z",
     "iopub.status.busy": "2022-03-21T20:10:43.000785Z",
     "iopub.status.idle": "2022-03-21T20:10:43.012757Z",
     "shell.execute_reply": "2022-03-21T20:10:43.012330Z"
    },
    "papermill": {
     "duration": 0.044396,
     "end_time": "2022-03-21T20:10:43.012860",
     "exception": false,
     "start_time": "2022-03-21T20:10:42.968464",
     "status": "completed"
    },
    "tags": []
   },
   "outputs": [
    {
     "data": {
      "text/plain": [
       "((11982, 28, 28), (1984, 28, 28))"
      ]
     },
     "execution_count": 13,
     "metadata": {},
     "output_type": "execute_result"
    }
   ],
   "source": [
    "X_train.shape, X_test.shape"
   ]
  },
  {
   "cell_type": "markdown",
   "id": "5ccf3f85",
   "metadata": {
    "papermill": {
     "duration": 0.026714,
     "end_time": "2022-03-21T20:10:43.066515",
     "exception": false,
     "start_time": "2022-03-21T20:10:43.039801",
     "status": "completed"
    },
    "tags": []
   },
   "source": [
    "We reshape the data to flatten the image pixels into a set of features or co-variates:"
   ]
  },
  {
   "cell_type": "code",
   "execution_count": 14,
   "id": "5286a4a3",
   "metadata": {
    "execution": {
     "iopub.execute_input": "2022-03-21T20:10:43.127836Z",
     "iopub.status.busy": "2022-03-21T20:10:43.125868Z",
     "iopub.status.idle": "2022-03-21T20:10:43.137874Z",
     "shell.execute_reply": "2022-03-21T20:10:43.137440Z"
    },
    "papermill": {
     "duration": 0.044528,
     "end_time": "2022-03-21T20:10:43.137980",
     "exception": false,
     "start_time": "2022-03-21T20:10:43.093452",
     "status": "completed"
    },
    "tags": []
   },
   "outputs": [
    {
     "data": {
      "text/plain": [
       "((11982, 784), (1984, 784))"
      ]
     },
     "execution_count": 14,
     "metadata": {},
     "output_type": "execute_result"
    }
   ],
   "source": [
    "X_train = X_train.reshape(X_train.shape[0], -1)\n",
    "X_test = X_test.reshape(X_test.shape[0], -1)\n",
    "X_train.shape, X_test.shape"
   ]
  },
  {
   "cell_type": "code",
   "execution_count": 15,
   "id": "73c5f88a",
   "metadata": {
    "execution": {
     "iopub.execute_input": "2022-03-21T20:10:43.199152Z",
     "iopub.status.busy": "2022-03-21T20:10:43.198619Z",
     "iopub.status.idle": "2022-03-21T20:10:43.214828Z",
     "shell.execute_reply": "2022-03-21T20:10:43.215225Z"
    },
    "papermill": {
     "duration": 0.050118,
     "end_time": "2022-03-21T20:10:43.215348",
     "exception": false,
     "start_time": "2022-03-21T20:10:43.165230",
     "status": "completed"
    },
    "tags": []
   },
   "outputs": [],
   "source": [
    "#Impoting functions from 'Kudzu'\n",
    "from kudzu.model import Model\n",
    "from kudzu.train import Learner\n",
    "from kudzu.optim import GD\n",
    "from kudzu.data import Data, Sampler,Dataloader\n",
    "\n",
    "from kudzu.callbacks import AccCallback\n",
    "from kudzu.callbacks import ClfCallback\n",
    "\n",
    "from kudzu.loss import MSE\n",
    "\n",
    "from kudzu.layer import Sigmoid,Relu\n",
    "from kudzu.layer import Affine"
   ]
  },
  {
   "cell_type": "markdown",
   "id": "bc01172a",
   "metadata": {
    "papermill": {
     "duration": 0.027018,
     "end_time": "2022-03-21T20:10:43.269557",
     "exception": false,
     "start_time": "2022-03-21T20:10:43.242539",
     "status": "completed"
    },
    "tags": []
   },
   "source": [
    "### Let us create a `Config` class, to store important parameters. \n",
    "This class essentially plays the role of a dictionary."
   ]
  },
  {
   "cell_type": "code",
   "execution_count": 16,
   "id": "978281aa",
   "metadata": {
    "execution": {
     "iopub.execute_input": "2022-03-21T20:10:43.329773Z",
     "iopub.status.busy": "2022-03-21T20:10:43.329238Z",
     "iopub.status.idle": "2022-03-21T20:10:43.338870Z",
     "shell.execute_reply": "2022-03-21T20:10:43.339268Z"
    },
    "papermill": {
     "duration": 0.042828,
     "end_time": "2022-03-21T20:10:43.339391",
     "exception": false,
     "start_time": "2022-03-21T20:10:43.296563",
     "status": "completed"
    },
    "tags": []
   },
   "outputs": [],
   "source": [
    "class Config:\n",
    "    pass\n",
    "config = Config()\n",
    "config.lr = 0.001\n",
    "config.num_epochs = 250\n",
    "config.bs = 50"
   ]
  },
  {
   "cell_type": "markdown",
   "id": "1385fa59",
   "metadata": {
    "papermill": {
     "duration": 0.027204,
     "end_time": "2022-03-21T20:10:43.394122",
     "exception": false,
     "start_time": "2022-03-21T20:10:43.366918",
     "status": "completed"
    },
    "tags": []
   },
   "source": [
    "### Running Models with the Training data\n",
    "Details about the network layers:\n",
    "- A first affine layer has 784 inputs and does 100 affine transforms. These are followed by a Relu\n",
    "- A second affine layer has 100 inputs from the 100 activations of the past layer, and does 100 affine transforms. These are followed by a Relu\n",
    "- A third affine layer has 100 activations and does 2 affine transformations to create an embedding for visualization. There is no non-linearity here.\n",
    "- A final \"logistic regression\" which has an affine transform from 2 inputs to 1 output, which is squeezed through a sigmoid.\n"
   ]
  },
  {
   "cell_type": "code",
   "execution_count": 17,
   "id": "2b9c66db",
   "metadata": {
    "execution": {
     "iopub.execute_input": "2022-03-21T20:10:43.466206Z",
     "iopub.status.busy": "2022-03-21T20:10:43.463660Z",
     "iopub.status.idle": "2022-03-21T20:10:43.468579Z",
     "shell.execute_reply": "2022-03-21T20:10:43.468071Z"
    },
    "papermill": {
     "duration": 0.04735,
     "end_time": "2022-03-21T20:10:43.468686",
     "exception": false,
     "start_time": "2022-03-21T20:10:43.421336",
     "status": "completed"
    },
    "tags": []
   },
   "outputs": [],
   "source": [
    "data = Data(X_train, y_train.reshape(-1,1))\n",
    "sampler = Sampler(data, config.bs, shuffle=True)\n",
    "\n",
    "dl = Dataloader(data, sampler)\n",
    "\n",
    "opt = GD(config.lr)\n",
    "loss = MSE()"
   ]
  },
  {
   "cell_type": "code",
   "execution_count": 18,
   "id": "b275e4c2",
   "metadata": {
    "execution": {
     "iopub.execute_input": "2022-03-21T20:10:43.541220Z",
     "iopub.status.busy": "2022-03-21T20:10:43.540713Z",
     "iopub.status.idle": "2022-03-21T20:10:43.543072Z",
     "shell.execute_reply": "2022-03-21T20:10:43.542610Z"
    },
    "papermill": {
     "duration": 0.047222,
     "end_time": "2022-03-21T20:10:43.543179",
     "exception": false,
     "start_time": "2022-03-21T20:10:43.495957",
     "status": "completed"
    },
    "tags": []
   },
   "outputs": [],
   "source": [
    "training_data_x = X_train\n",
    "testing_data_x = X_test\n",
    "training_data_y = y_train.reshape(-1,1)\n",
    "testing_data_y = y_test.reshape(-1,1)"
   ]
  },
  {
   "cell_type": "code",
   "execution_count": 19,
   "id": "76951160",
   "metadata": {
    "execution": {
     "iopub.execute_input": "2022-03-21T20:10:43.617421Z",
     "iopub.status.busy": "2022-03-21T20:10:43.614084Z",
     "iopub.status.idle": "2022-03-21T20:10:43.620283Z",
     "shell.execute_reply": "2022-03-21T20:10:43.619856Z"
    },
    "papermill": {
     "duration": 0.050234,
     "end_time": "2022-03-21T20:10:43.620388",
     "exception": false,
     "start_time": "2022-03-21T20:10:43.570154",
     "status": "completed"
    },
    "tags": []
   },
   "outputs": [
    {
     "name": "stdout",
     "output_type": "stream",
     "text": [
      "xavier\n",
      "xavier\n",
      "xavier\n",
      "xavier\n",
      "xavier\n"
     ]
    }
   ],
   "source": [
    "layers = [Affine(\"first\", 784, 100), Relu(\"first\"), Affine(\"second\", 100, 100), Relu(\"second\"), Affine(\"third\", 100, 2), Affine(\"last\", 2, 1), Sigmoid(\"last\")]\n",
    "model_nn = Model(layers)\n",
    "model_lr = Model([Affine(\"logits\", 784, 1), Sigmoid(\"sigmoid\")])"
   ]
  },
  {
   "cell_type": "code",
   "execution_count": 20,
   "id": "6eede77a",
   "metadata": {
    "execution": {
     "iopub.execute_input": "2022-03-21T20:10:43.681456Z",
     "iopub.status.busy": "2022-03-21T20:10:43.678588Z",
     "iopub.status.idle": "2022-03-21T20:10:43.690797Z",
     "shell.execute_reply": "2022-03-21T20:10:43.691235Z"
    },
    "papermill": {
     "duration": 0.043287,
     "end_time": "2022-03-21T20:10:43.691358",
     "exception": false,
     "start_time": "2022-03-21T20:10:43.648071",
     "status": "completed"
    },
    "tags": []
   },
   "outputs": [],
   "source": [
    "nn_learner = Learner(loss, model_nn, opt, config.num_epochs)\n",
    "acc_nn = ClfCallback(nn_learner, config.bs, training_data_x , testing_data_x, training_data_y, testing_data_y)\n",
    "nn_learner.set_callbacks([acc_nn])"
   ]
  },
  {
   "cell_type": "code",
   "execution_count": 21,
   "id": "877b6cc7",
   "metadata": {
    "execution": {
     "iopub.execute_input": "2022-03-21T20:10:43.763196Z",
     "iopub.status.busy": "2022-03-21T20:10:43.759693Z",
     "iopub.status.idle": "2022-03-21T20:10:43.765692Z",
     "shell.execute_reply": "2022-03-21T20:10:43.765004Z"
    },
    "papermill": {
     "duration": 0.04694,
     "end_time": "2022-03-21T20:10:43.765801",
     "exception": false,
     "start_time": "2022-03-21T20:10:43.718861",
     "status": "completed"
    },
    "tags": []
   },
   "outputs": [],
   "source": [
    "lr_learner = Learner(loss, model_lr, opt, config.num_epochs)\n",
    "acc_lr = ClfCallback(lr_learner, config.bs, training_data_x , testing_data_x, training_data_y, testing_data_y)\n",
    "lr_learner.set_callbacks([acc_lr])"
   ]
  },
  {
   "cell_type": "code",
   "execution_count": 22,
   "id": "d9b133c3",
   "metadata": {
    "execution": {
     "iopub.execute_input": "2022-03-21T20:10:43.828158Z",
     "iopub.status.busy": "2022-03-21T20:10:43.827643Z",
     "iopub.status.idle": "2022-03-21T20:12:01.077128Z",
     "shell.execute_reply": "2022-03-21T20:12:01.077849Z"
    },
    "papermill": {
     "duration": 77.284681,
     "end_time": "2022-03-21T20:12:01.077995",
     "exception": false,
     "start_time": "2022-03-21T20:10:43.793314",
     "status": "completed"
    },
    "tags": []
   },
   "outputs": [
    {
     "name": "stdout",
     "output_type": "stream",
     "text": [
      "Epoch 0, Loss 0.2345\n",
      "Training Accuracy: 0.7158, Testing Accuracy: 0.7273\n",
      "\n"
     ]
    },
    {
     "name": "stdout",
     "output_type": "stream",
     "text": [
      "Epoch 10, Loss 0.0839\n",
      "Training Accuracy: 0.9205, Testing Accuracy: 0.9325\n",
      "\n"
     ]
    },
    {
     "name": "stdout",
     "output_type": "stream",
     "text": [
      "Epoch 20, Loss 0.0544\n",
      "Training Accuracy: 0.9430, Testing Accuracy: 0.9496\n",
      "\n"
     ]
    },
    {
     "name": "stdout",
     "output_type": "stream",
     "text": [
      "Epoch 30, Loss 0.0436\n",
      "Training Accuracy: 0.9520, Testing Accuracy: 0.9582\n",
      "\n"
     ]
    },
    {
     "name": "stdout",
     "output_type": "stream",
     "text": [
      "Epoch 40, Loss 0.0381\n",
      "Training Accuracy: 0.9564, Testing Accuracy: 0.9627\n",
      "\n"
     ]
    },
    {
     "name": "stdout",
     "output_type": "stream",
     "text": [
      "Epoch 50, Loss 0.0345\n",
      "Training Accuracy: 0.9603, Testing Accuracy: 0.9657\n",
      "\n"
     ]
    },
    {
     "name": "stdout",
     "output_type": "stream",
     "text": [
      "Epoch 60, Loss 0.032\n",
      "Training Accuracy: 0.9630, Testing Accuracy: 0.9682\n",
      "\n"
     ]
    },
    {
     "name": "stdout",
     "output_type": "stream",
     "text": [
      "Epoch 70, Loss 0.0301\n",
      "Training Accuracy: 0.9649, Testing Accuracy: 0.9693\n",
      "\n"
     ]
    },
    {
     "name": "stdout",
     "output_type": "stream",
     "text": [
      "Epoch 80, Loss 0.0286\n",
      "Training Accuracy: 0.9665, Testing Accuracy: 0.9698\n",
      "\n"
     ]
    },
    {
     "name": "stdout",
     "output_type": "stream",
     "text": [
      "Epoch 90, Loss 0.0273\n",
      "Training Accuracy: 0.9680, Testing Accuracy: 0.9713\n",
      "\n"
     ]
    },
    {
     "name": "stdout",
     "output_type": "stream",
     "text": [
      "Epoch 100, Loss 0.0262\n",
      "Training Accuracy: 0.9687, Testing Accuracy: 0.9713\n",
      "\n"
     ]
    },
    {
     "name": "stdout",
     "output_type": "stream",
     "text": [
      "Epoch 110, Loss 0.0252\n",
      "Training Accuracy: 0.9697, Testing Accuracy: 0.9713\n",
      "\n"
     ]
    },
    {
     "name": "stdout",
     "output_type": "stream",
     "text": [
      "Epoch 120, Loss 0.0244\n",
      "Training Accuracy: 0.9715, Testing Accuracy: 0.9713\n",
      "\n"
     ]
    },
    {
     "name": "stdout",
     "output_type": "stream",
     "text": [
      "Epoch 130, Loss 0.0236\n",
      "Training Accuracy: 0.9722, Testing Accuracy: 0.9718\n",
      "\n"
     ]
    },
    {
     "name": "stdout",
     "output_type": "stream",
     "text": [
      "Epoch 140, Loss 0.0229\n",
      "Training Accuracy: 0.9732, Testing Accuracy: 0.9733\n",
      "\n"
     ]
    },
    {
     "name": "stdout",
     "output_type": "stream",
     "text": [
      "Epoch 150, Loss 0.0223\n",
      "Training Accuracy: 0.9740, Testing Accuracy: 0.9743\n",
      "\n"
     ]
    },
    {
     "name": "stdout",
     "output_type": "stream",
     "text": [
      "Epoch 160, Loss 0.0217\n",
      "Training Accuracy: 0.9743, Testing Accuracy: 0.9743\n",
      "\n"
     ]
    },
    {
     "name": "stdout",
     "output_type": "stream",
     "text": [
      "Epoch 170, Loss 0.0211\n",
      "Training Accuracy: 0.9750, Testing Accuracy: 0.9738\n",
      "\n"
     ]
    },
    {
     "name": "stdout",
     "output_type": "stream",
     "text": [
      "Epoch 180, Loss 0.0206\n",
      "Training Accuracy: 0.9759, Testing Accuracy: 0.9738\n",
      "\n"
     ]
    },
    {
     "name": "stdout",
     "output_type": "stream",
     "text": [
      "Epoch 190, Loss 0.0201\n",
      "Training Accuracy: 0.9765, Testing Accuracy: 0.9743\n",
      "\n"
     ]
    },
    {
     "name": "stdout",
     "output_type": "stream",
     "text": [
      "Epoch 200, Loss 0.0196\n",
      "Training Accuracy: 0.9768, Testing Accuracy: 0.9743\n",
      "\n"
     ]
    },
    {
     "name": "stdout",
     "output_type": "stream",
     "text": [
      "Epoch 210, Loss 0.0191\n",
      "Training Accuracy: 0.9773, Testing Accuracy: 0.9748\n",
      "\n"
     ]
    },
    {
     "name": "stdout",
     "output_type": "stream",
     "text": [
      "Epoch 220, Loss 0.0187\n",
      "Training Accuracy: 0.9784, Testing Accuracy: 0.9758\n",
      "\n"
     ]
    },
    {
     "name": "stdout",
     "output_type": "stream",
     "text": [
      "Epoch 230, Loss 0.0183\n",
      "Training Accuracy: 0.9787, Testing Accuracy: 0.9758\n",
      "\n"
     ]
    },
    {
     "name": "stdout",
     "output_type": "stream",
     "text": [
      "Epoch 240, Loss 0.0178\n",
      "Training Accuracy: 0.9793, Testing Accuracy: 0.9768\n",
      "\n"
     ]
    },
    {
     "data": {
      "text/plain": [
       "0.04547485423609118"
      ]
     },
     "execution_count": 22,
     "metadata": {},
     "output_type": "execute_result"
    }
   ],
   "source": [
    "nn_learner.train_loop(dl)"
   ]
  },
  {
   "cell_type": "code",
   "execution_count": 23,
   "id": "e0163366",
   "metadata": {
    "execution": {
     "iopub.execute_input": "2022-03-21T20:12:01.159745Z",
     "iopub.status.busy": "2022-03-21T20:12:01.159228Z",
     "iopub.status.idle": "2022-03-21T20:12:14.754578Z",
     "shell.execute_reply": "2022-03-21T20:12:14.755342Z"
    },
    "papermill": {
     "duration": 13.642304,
     "end_time": "2022-03-21T20:12:14.755491",
     "exception": false,
     "start_time": "2022-03-21T20:12:01.113187",
     "status": "completed"
    },
    "tags": []
   },
   "outputs": [
    {
     "name": "stdout",
     "output_type": "stream",
     "text": [
      "Epoch 0, Loss 0.2459\n",
      "Training Accuracy: 0.6752, Testing Accuracy: 0.6820\n",
      "\n"
     ]
    },
    {
     "name": "stdout",
     "output_type": "stream",
     "text": [
      "Epoch 10, Loss 0.1017\n",
      "Training Accuracy: 0.9145, Testing Accuracy: 0.9289\n",
      "\n"
     ]
    },
    {
     "name": "stdout",
     "output_type": "stream",
     "text": [
      "Epoch 20, Loss 0.0785\n",
      "Training Accuracy: 0.9296, Testing Accuracy: 0.9415\n",
      "\n"
     ]
    },
    {
     "name": "stdout",
     "output_type": "stream",
     "text": [
      "Epoch 30, Loss 0.0678\n",
      "Training Accuracy: 0.9374, Testing Accuracy: 0.9501\n",
      "\n"
     ]
    },
    {
     "name": "stdout",
     "output_type": "stream",
     "text": [
      "Epoch 40, Loss 0.0614\n",
      "Training Accuracy: 0.9427, Testing Accuracy: 0.9546\n",
      "\n"
     ]
    },
    {
     "name": "stdout",
     "output_type": "stream",
     "text": [
      "Epoch 50, Loss 0.057\n",
      "Training Accuracy: 0.9458, Testing Accuracy: 0.9587\n",
      "\n"
     ]
    },
    {
     "name": "stdout",
     "output_type": "stream",
     "text": [
      "Epoch 60, Loss 0.0537\n",
      "Training Accuracy: 0.9478, Testing Accuracy: 0.9602\n",
      "\n"
     ]
    },
    {
     "name": "stdout",
     "output_type": "stream",
     "text": [
      "Epoch 70, Loss 0.0512\n",
      "Training Accuracy: 0.9498, Testing Accuracy: 0.9617\n",
      "\n"
     ]
    },
    {
     "name": "stdout",
     "output_type": "stream",
     "text": [
      "Epoch 80, Loss 0.0492\n",
      "Training Accuracy: 0.9511, Testing Accuracy: 0.9622\n",
      "\n"
     ]
    },
    {
     "name": "stdout",
     "output_type": "stream",
     "text": [
      "Epoch 90, Loss 0.0475\n",
      "Training Accuracy: 0.9526, Testing Accuracy: 0.9622\n",
      "\n"
     ]
    },
    {
     "name": "stdout",
     "output_type": "stream",
     "text": [
      "Epoch 100, Loss 0.0461\n",
      "Training Accuracy: 0.9535, Testing Accuracy: 0.9622\n",
      "\n"
     ]
    },
    {
     "name": "stdout",
     "output_type": "stream",
     "text": [
      "Epoch 110, Loss 0.0449\n",
      "Training Accuracy: 0.9543, Testing Accuracy: 0.9642\n",
      "\n"
     ]
    },
    {
     "name": "stdout",
     "output_type": "stream",
     "text": [
      "Epoch 120, Loss 0.0439\n",
      "Training Accuracy: 0.9553, Testing Accuracy: 0.9647\n",
      "\n"
     ]
    },
    {
     "name": "stdout",
     "output_type": "stream",
     "text": [
      "Epoch 130, Loss 0.043\n",
      "Training Accuracy: 0.9560, Testing Accuracy: 0.9647\n",
      "\n"
     ]
    },
    {
     "name": "stdout",
     "output_type": "stream",
     "text": [
      "Epoch 140, Loss 0.0421\n",
      "Training Accuracy: 0.9569, Testing Accuracy: 0.9642\n",
      "\n"
     ]
    },
    {
     "name": "stdout",
     "output_type": "stream",
     "text": [
      "Epoch 150, Loss 0.0414\n",
      "Training Accuracy: 0.9577, Testing Accuracy: 0.9642\n",
      "\n"
     ]
    },
    {
     "name": "stdout",
     "output_type": "stream",
     "text": [
      "Epoch 160, Loss 0.0407\n",
      "Training Accuracy: 0.9582, Testing Accuracy: 0.9647\n",
      "\n"
     ]
    },
    {
     "name": "stdout",
     "output_type": "stream",
     "text": [
      "Epoch 170, Loss 0.0401\n",
      "Training Accuracy: 0.9588, Testing Accuracy: 0.9652\n",
      "\n"
     ]
    },
    {
     "name": "stdout",
     "output_type": "stream",
     "text": [
      "Epoch 180, Loss 0.0396\n",
      "Training Accuracy: 0.9594, Testing Accuracy: 0.9652\n",
      "\n"
     ]
    },
    {
     "name": "stdout",
     "output_type": "stream",
     "text": [
      "Epoch 190, Loss 0.039\n",
      "Training Accuracy: 0.9598, Testing Accuracy: 0.9647\n",
      "\n"
     ]
    },
    {
     "name": "stdout",
     "output_type": "stream",
     "text": [
      "Epoch 200, Loss 0.0386\n",
      "Training Accuracy: 0.9603, Testing Accuracy: 0.9647\n",
      "\n"
     ]
    },
    {
     "name": "stdout",
     "output_type": "stream",
     "text": [
      "Epoch 210, Loss 0.0381\n",
      "Training Accuracy: 0.9604, Testing Accuracy: 0.9642\n",
      "\n"
     ]
    },
    {
     "name": "stdout",
     "output_type": "stream",
     "text": [
      "Epoch 220, Loss 0.0377\n",
      "Training Accuracy: 0.9609, Testing Accuracy: 0.9642\n",
      "\n"
     ]
    },
    {
     "name": "stdout",
     "output_type": "stream",
     "text": [
      "Epoch 230, Loss 0.0373\n",
      "Training Accuracy: 0.9610, Testing Accuracy: 0.9642\n",
      "\n"
     ]
    },
    {
     "name": "stdout",
     "output_type": "stream",
     "text": [
      "Epoch 240, Loss 0.037\n",
      "Training Accuracy: 0.9611, Testing Accuracy: 0.9642\n",
      "\n"
     ]
    },
    {
     "data": {
      "text/plain": [
       "0.04137952692865144"
      ]
     },
     "execution_count": 23,
     "metadata": {},
     "output_type": "execute_result"
    }
   ],
   "source": [
    "lr_learner.train_loop(dl)"
   ]
  },
  {
   "cell_type": "code",
   "execution_count": 24,
   "id": "ca410940",
   "metadata": {
    "execution": {
     "iopub.execute_input": "2022-03-21T20:12:14.849825Z",
     "iopub.status.busy": "2022-03-21T20:12:14.849282Z",
     "iopub.status.idle": "2022-03-21T20:12:15.068394Z",
     "shell.execute_reply": "2022-03-21T20:12:15.068796Z"
    },
    "papermill": {
     "duration": 0.27164,
     "end_time": "2022-03-21T20:12:15.068939",
     "exception": false,
     "start_time": "2022-03-21T20:12:14.797299",
     "status": "completed"
    },
    "tags": []
   },
   "outputs": [
    {
     "data": {
      "text/plain": [
       "<matplotlib.legend.Legend at 0x7f3b60584da0>"
      ]
     },
     "execution_count": 24,
     "metadata": {},
     "output_type": "execute_result"
    },
    {
     "data": {
      "image/png": "[encoded data removed]",
      "text/plain": [
       "<Figure size 1080x720 with 1 Axes>"
      ]
     },
     "metadata": {
      "needs_background": "light"
     },
     "output_type": "display_data"
    }
   ],
   "source": [
    "#comparing the results of NN and LR\n",
    "plt.figure(figsize=(15,10))\n",
    "\n",
    "# Neural Network plots\n",
    "plt.plot(acc_nn.accuracies, 'r-', label = \"Training Accuracies - NN\")\n",
    "plt.plot(acc_nn.test_accuracies, 'g-', label = \"Testing Accuracies - NN\")\n",
    "\n",
    "# Logistic Regression plots\n",
    "plt.plot(acc_lr.accuracies, 'k-', label = \"Training Accuracies - LR\")\n",
    "plt.plot(acc_lr.test_accuracies, 'b-', label = \"Testing Accuracies - LR\")\n",
    "plt.legend()"
   ]
  },
  {
   "cell_type": "markdown",
   "id": "80dfb35c",
   "metadata": {
    "papermill": {
     "duration": 0.042724,
     "end_time": "2022-03-21T20:12:15.154694",
     "exception": false,
     "start_time": "2022-03-21T20:12:15.111970",
     "status": "completed"
    },
    "tags": []
   },
   "source": [
    "#### Plotting the outputs of this layer of the NN.\n"
   ]
  },
  {
   "cell_type": "code",
   "execution_count": 25,
   "id": "45eb2ff5",
   "metadata": {
    "execution": {
     "iopub.execute_input": "2022-03-21T20:12:15.244106Z",
     "iopub.status.busy": "2022-03-21T20:12:15.243218Z",
     "iopub.status.idle": "2022-03-21T20:12:15.263487Z",
     "shell.execute_reply": "2022-03-21T20:12:15.263920Z"
    },
    "papermill": {
     "duration": 0.066823,
     "end_time": "2022-03-21T20:12:15.264062",
     "exception": false,
     "start_time": "2022-03-21T20:12:15.197239",
     "status": "completed"
    },
    "tags": []
   },
   "outputs": [],
   "source": [
    "new_model = Model(layers[:-2])\n",
    "testing_plot = new_model(testing_data_x)"
   ]
  },
  {
   "cell_type": "code",
   "execution_count": 26,
   "id": "4c0a5485",
   "metadata": {
    "execution": {
     "iopub.execute_input": "2022-03-21T20:12:15.357769Z",
     "iopub.status.busy": "2022-03-21T20:12:15.357246Z",
     "iopub.status.idle": "2022-03-21T20:12:15.559895Z",
     "shell.execute_reply": "2022-03-21T20:12:15.560310Z"
    },
    "papermill": {
     "duration": 0.253022,
     "end_time": "2022-03-21T20:12:15.560448",
     "exception": false,
     "start_time": "2022-03-21T20:12:15.307426",
     "status": "completed"
    },
    "tags": []
   },
   "outputs": [
    {
     "data": {
      "text/plain": [
       "Text(0.5, 1.0, 'Outputs')"
      ]
     },
     "execution_count": 26,
     "metadata": {},
     "output_type": "execute_result"
    },
    {
     "data": {
      "image/png": "[encoded data removed]",
      "text/plain": [
       "<Figure size 576x504 with 1 Axes>"
      ]
     },
     "metadata": {
      "needs_background": "light"
     },
     "output_type": "display_data"
    }
   ],
   "source": [
    "# Plotting the scatter plot of points and color coding by class\n",
    "plt.figure(figsize=(8,7))\n",
    "plt.scatter(testing_plot[:,0], testing_plot[:,1], alpha = 0.1, c = y_test.ravel());\n",
    "plt.title('Outputs')"
   ]
  },
  {
   "cell_type": "markdown",
   "id": "a74fcf8f",
   "metadata": {
    "papermill": {
     "duration": 0.044708,
     "end_time": "2022-03-21T20:12:15.650062",
     "exception": false,
     "start_time": "2022-03-21T20:12:15.605354",
     "status": "completed"
    },
    "tags": []
   },
   "source": [
    "Probability contours"
   ]
  },
  {
   "cell_type": "code",
   "execution_count": 27,
   "id": "d0afc8e3",
   "metadata": {
    "execution": {
     "iopub.execute_input": "2022-03-21T20:12:15.747136Z",
     "iopub.status.busy": "2022-03-21T20:12:15.745442Z",
     "iopub.status.idle": "2022-03-21T20:12:15.755645Z",
     "shell.execute_reply": "2022-03-21T20:12:15.756030Z"
    },
    "papermill": {
     "duration": 0.061162,
     "end_time": "2022-03-21T20:12:15.756163",
     "exception": false,
     "start_time": "2022-03-21T20:12:15.695001",
     "status": "completed"
    },
    "tags": []
   },
   "outputs": [],
   "source": [
    "model_prob = Model(layers[-2:]) "
   ]
  },
  {
   "cell_type": "code",
   "execution_count": 28,
   "id": "9b96e238",
   "metadata": {
    "execution": {
     "iopub.execute_input": "2022-03-21T20:12:15.886990Z",
     "iopub.status.busy": "2022-03-21T20:12:15.885404Z",
     "iopub.status.idle": "2022-03-21T20:12:15.897484Z",
     "shell.execute_reply": "2022-03-21T20:12:15.897862Z"
    },
    "papermill": {
     "duration": 0.067136,
     "end_time": "2022-03-21T20:12:15.897994",
     "exception": false,
     "start_time": "2022-03-21T20:12:15.830858",
     "status": "completed"
    },
    "tags": []
   },
   "outputs": [],
   "source": [
    "#creating the x and y ranges according to the above generated plot.\n",
    "x_range = np.linspace(-4, 1, 100) \n",
    "y_range = np.linspace(-6, 6, 100) \n",
    "x_grid, y_grid = np.meshgrid(x_range, y_range) # x_grid and y_grig are of size 100 X 100\n",
    "\n",
    "# converting x_grid and y_grid to continuous arrays\n",
    "x_gridflat = np.ravel(x_grid)\n",
    "y_gridflat = np.ravel(y_grid)\n",
    "\n",
    "# The last layer of the current model takes two columns as input. Hence transpose of np.vstack() is required.\n",
    "X = np.vstack((x_gridflat, y_gridflat)).T\n",
    "\n",
    "prob_contour = model_prob(X).reshape(100,100) "
   ]
  },
  {
   "cell_type": "code",
   "execution_count": 29,
   "id": "da72499a",
   "metadata": {
    "execution": {
     "iopub.execute_input": "2022-03-21T20:12:15.996281Z",
     "iopub.status.busy": "2022-03-21T20:12:15.995767Z",
     "iopub.status.idle": "2022-03-21T20:12:16.237227Z",
     "shell.execute_reply": "2022-03-21T20:12:16.237628Z"
    },
    "papermill": {
     "duration": 0.29457,
     "end_time": "2022-03-21T20:12:16.237761",
     "exception": false,
     "start_time": "2022-03-21T20:12:15.943191",
     "status": "completed"
    },
    "tags": []
   },
   "outputs": [
    {
     "data": {
      "image/png": "[encoded data removed]",
      "text/plain": [
       "<Figure size 720x648 with 1 Axes>"
      ]
     },
     "metadata": {
      "needs_background": "light"
     },
     "output_type": "display_data"
    }
   ],
   "source": [
    "plt.figure(figsize=(10,9))\n",
    "plt.scatter(testing_plot[:,0], testing_plot[:,1], alpha = 0.1, c = y_test.ravel())\n",
    "contours = plt.contour(x_grid,y_grid,prob_contour)\n",
    "plt.title('Probability Contours')\n",
    "plt.clabel(contours, inline = True );"
   ]
  },
  {
   "cell_type": "code",
   "execution_count": null,
   "id": "e81b4ac7",
   "metadata": {
    "papermill": {
     "duration": 0.046998,
     "end_time": "2022-03-21T20:12:16.332386",
     "exception": false,
     "start_time": "2022-03-21T20:12:16.285388",
     "status": "completed"
    },
    "tags": []
   },
   "outputs": [],
   "source": []
  }
 ],
 "metadata": {
  "kernelspec": {
   "display_name": "Python 3",
   "language": "python",
   "name": "python3"
  },
  "language_info": {
   "codemirror_mode": {
    "name": "ipython",
    "version": 3
   },
   "file_extension": ".py",
   "mimetype": "text/x-python",
   "name": "python",
   "nbconvert_exporter": "python",
   "pygments_lexer": "ipython3",
   "version": "3.6.15"
  },
  "papermill": {
   "default_parameters": {},
   "duration": 99.7394,
   "end_time": "2022-03-21T20:12:16.798332",
   "environment_variables": {},
   "exception": null,
   "input_path": "2020-08-11-part2.ipynb",
   "output_path": "2020-08-11-part2.ipynb",
   "parameters": {},
   "start_time": "2022-03-21T20:10:37.058932",
   "version": "2.3.3"
  }
 },
 "nbformat": 4,
 "nbformat_minor": 5
}