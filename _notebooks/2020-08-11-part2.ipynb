{
 "cells": [
  {
   "cell_type": "markdown",
   "id": "98380cd3",
   "metadata": {
    "papermill": {
     "duration": 0.029958,
     "end_time": "2022-04-20T00:37:10.672432",
     "exception": false,
     "start_time": "2022-04-20T00:37:10.642474",
     "status": "completed"
    },
    "tags": []
   },
   "source": [
    "# Distinguish Your Own Digits (DYOD)"
   ]
  },
  {
   "cell_type": "markdown",
   "id": "ef31240d",
   "metadata": {
    "papermill": {
     "duration": 0.033916,
     "end_time": "2022-04-20T00:37:10.731650",
     "exception": false,
     "start_time": "2022-04-20T00:37:10.697734",
     "status": "completed"
    },
    "tags": []
   },
   "source": [
    "You are going to write a classifier that distinguishes between the number 3 and number 8."
   ]
  },
  {
   "cell_type": "code",
   "execution_count": 1,
   "id": "b15c8646",
   "metadata": {
    "execution": {
     "iopub.execute_input": "2022-04-20T00:37:10.789369Z",
     "iopub.status.busy": "2022-04-20T00:37:10.788835Z",
     "iopub.status.idle": "2022-04-20T00:37:10.799673Z",
     "shell.execute_reply": "2022-04-20T00:37:10.799201Z"
    },
    "papermill": {
     "duration": 0.04434,
     "end_time": "2022-04-20T00:37:10.799809",
     "exception": false,
     "start_time": "2022-04-20T00:37:10.755469",
     "status": "completed"
    },
    "tags": []
   },
   "outputs": [],
   "source": [
    "%load_ext autoreload\n",
    "%autoreload 2"
   ]
  },
  {
   "cell_type": "code",
   "execution_count": 2,
   "id": "22ef38dc",
   "metadata": {
    "execution": {
     "iopub.execute_input": "2022-04-20T00:37:10.857589Z",
     "iopub.status.busy": "2022-04-20T00:37:10.857034Z",
     "iopub.status.idle": "2022-04-20T00:37:11.392681Z",
     "shell.execute_reply": "2022-04-20T00:37:11.393133Z"
    },
    "papermill": {
     "duration": 0.5694,
     "end_time": "2022-04-20T00:37:11.393280",
     "exception": false,
     "start_time": "2022-04-20T00:37:10.823880",
     "status": "completed"
    },
    "tags": []
   },
   "outputs": [],
   "source": [
    "%matplotlib inline\n",
    "import numpy as np\n",
    "import matplotlib.pyplot as plt\n",
    "import pandas as pd"
   ]
  },
  {
   "cell_type": "markdown",
   "id": "ba036198",
   "metadata": {
    "papermill": {
     "duration": 0.026722,
     "end_time": "2022-04-20T00:37:11.450119",
     "exception": false,
     "start_time": "2022-04-20T00:37:11.423397",
     "status": "completed"
    },
    "tags": []
   },
   "source": [
    "From the command line run `pip install mnist`. This is a library that will help you bring down the mnist dataset. If you run this from a notebook, you need to put  `!pip install mnist` in a cell by itself."
   ]
  },
  {
   "cell_type": "code",
   "execution_count": 3,
   "id": "bb6ad8a1",
   "metadata": {
    "execution": {
     "iopub.execute_input": "2022-04-20T00:37:11.527414Z",
     "iopub.status.busy": "2022-04-20T00:37:11.526820Z",
     "iopub.status.idle": "2022-04-20T00:37:14.095460Z",
     "shell.execute_reply": "2022-04-20T00:37:14.094940Z"
    },
    "papermill": {
     "duration": 2.618508,
     "end_time": "2022-04-20T00:37:14.095586",
     "exception": false,
     "start_time": "2022-04-20T00:37:11.477078",
     "status": "completed"
    },
    "tags": []
   },
   "outputs": [
    {
     "name": "stdout",
     "output_type": "stream",
     "text": [
      "Collecting mnist\r\n"
     ]
    },
    {
     "name": "stdout",
     "output_type": "stream",
     "text": [
      "  Downloading mnist-0.2.2-py2.py3-none-any.whl (3.5 kB)\r\n",
      "Requirement already satisfied: numpy in /opt/hostedtoolcache/Python/3.6.15/x64/lib/python3.6/site-packages (from mnist) (1.19.5)\r\n"
     ]
    },
    {
     "name": "stdout",
     "output_type": "stream",
     "text": [
      "Installing collected packages: mnist\r\n"
     ]
    },
    {
     "name": "stdout",
     "output_type": "stream",
     "text": [
      "Successfully installed mnist-0.2.2\r\n"
     ]
    }
   ],
   "source": [
    "!pip install mnist"
   ]
  },
  {
   "cell_type": "markdown",
   "id": "69df9c9a",
   "metadata": {
    "papermill": {
     "duration": 0.025324,
     "end_time": "2022-04-20T00:37:14.146214",
     "exception": false,
     "start_time": "2022-04-20T00:37:14.120890",
     "status": "completed"
    },
    "tags": []
   },
   "source": [
    "## Preparing the Data"
   ]
  },
  {
   "cell_type": "code",
   "execution_count": 4,
   "id": "7f69d806",
   "metadata": {
    "execution": {
     "iopub.execute_input": "2022-04-20T00:37:14.233813Z",
     "iopub.status.busy": "2022-04-20T00:37:14.201931Z",
     "iopub.status.idle": "2022-04-20T00:37:14.238365Z",
     "shell.execute_reply": "2022-04-20T00:37:14.237629Z"
    },
    "papermill": {
     "duration": 0.066927,
     "end_time": "2022-04-20T00:37:14.238491",
     "exception": false,
     "start_time": "2022-04-20T00:37:14.171564",
     "status": "completed"
    },
    "tags": []
   },
   "outputs": [],
   "source": [
    "import mnist"
   ]
  },
  {
   "cell_type": "code",
   "execution_count": 5,
   "id": "a411e44f",
   "metadata": {
    "execution": {
     "iopub.execute_input": "2022-04-20T00:37:14.304595Z",
     "iopub.status.busy": "2022-04-20T00:37:14.292806Z",
     "iopub.status.idle": "2022-04-20T00:37:14.946613Z",
     "shell.execute_reply": "2022-04-20T00:37:14.946043Z"
    },
    "papermill": {
     "duration": 0.682303,
     "end_time": "2022-04-20T00:37:14.946752",
     "exception": false,
     "start_time": "2022-04-20T00:37:14.264449",
     "status": "completed"
    },
    "tags": []
   },
   "outputs": [],
   "source": [
    "train_images = mnist.train_images()\n",
    "train_labels = mnist.train_labels()"
   ]
  },
  {
   "cell_type": "code",
   "execution_count": 6,
   "id": "dceab3a5",
   "metadata": {
    "execution": {
     "iopub.execute_input": "2022-04-20T00:37:15.004915Z",
     "iopub.status.busy": "2022-04-20T00:37:15.004389Z",
     "iopub.status.idle": "2022-04-20T00:37:15.018896Z",
     "shell.execute_reply": "2022-04-20T00:37:15.018470Z"
    },
    "papermill": {
     "duration": 0.046447,
     "end_time": "2022-04-20T00:37:15.019015",
     "exception": false,
     "start_time": "2022-04-20T00:37:14.972568",
     "status": "completed"
    },
    "tags": []
   },
   "outputs": [
    {
     "data": {
      "text/plain": [
       "((60000, 28, 28), (60000,))"
      ]
     },
     "execution_count": 6,
     "metadata": {},
     "output_type": "execute_result"
    }
   ],
   "source": [
    "train_images.shape, train_labels.shape"
   ]
  },
  {
   "cell_type": "code",
   "execution_count": 7,
   "id": "f50dc2bb",
   "metadata": {
    "execution": {
     "iopub.execute_input": "2022-04-20T00:37:15.074155Z",
     "iopub.status.busy": "2022-04-20T00:37:15.073633Z",
     "iopub.status.idle": "2022-04-20T00:37:15.333657Z",
     "shell.execute_reply": "2022-04-20T00:37:15.333111Z"
    },
    "papermill": {
     "duration": 0.289436,
     "end_time": "2022-04-20T00:37:15.333797",
     "exception": false,
     "start_time": "2022-04-20T00:37:15.044361",
     "status": "completed"
    },
    "tags": []
   },
   "outputs": [],
   "source": [
    "test_images = mnist.test_images()\n",
    "test_labels = mnist.test_labels()"
   ]
  },
  {
   "cell_type": "code",
   "execution_count": 8,
   "id": "fc38cf1b",
   "metadata": {
    "execution": {
     "iopub.execute_input": "2022-04-20T00:37:15.402171Z",
     "iopub.status.busy": "2022-04-20T00:37:15.396087Z",
     "iopub.status.idle": "2022-04-20T00:37:15.412224Z",
     "shell.execute_reply": "2022-04-20T00:37:15.411295Z"
    },
    "papermill": {
     "duration": 0.053057,
     "end_time": "2022-04-20T00:37:15.412595",
     "exception": false,
     "start_time": "2022-04-20T00:37:15.359538",
     "status": "completed"
    },
    "tags": []
   },
   "outputs": [
    {
     "data": {
      "text/plain": [
       "((10000, 28, 28), (10000,))"
      ]
     },
     "execution_count": 8,
     "metadata": {},
     "output_type": "execute_result"
    }
   ],
   "source": [
    "test_images.shape, test_labels.shape"
   ]
  },
  {
   "cell_type": "code",
   "execution_count": 9,
   "id": "f9ed8fe0",
   "metadata": {
    "execution": {
     "iopub.execute_input": "2022-04-20T00:37:15.506446Z",
     "iopub.status.busy": "2022-04-20T00:37:15.487912Z",
     "iopub.status.idle": "2022-04-20T00:37:15.621938Z",
     "shell.execute_reply": "2022-04-20T00:37:15.622333Z"
    },
    "papermill": {
     "duration": 0.174316,
     "end_time": "2022-04-20T00:37:15.622484",
     "exception": false,
     "start_time": "2022-04-20T00:37:15.448168",
     "status": "completed"
    },
    "tags": []
   },
   "outputs": [
    {
     "name": "stdout",
     "output_type": "stream",
     "text": [
      "2\n"
     ]
    },
    {
     "data": {
      "text/plain": [
       "<matplotlib.image.AxesImage at 0x7f2ce1d82a20>"
      ]
     },
     "execution_count": 9,
     "metadata": {},
     "output_type": "execute_result"
    },
    {
     "data": {
      "image/png": "[encoded data removed]",
      "text/plain": [
       "<Figure size 432x288 with 1 Axes>"
      ]
     },
     "metadata": {
      "needs_background": "light"
     },
     "output_type": "display_data"
    }
   ],
   "source": [
    "image_index = 7776 # You may select anything up to 60,000\n",
    "print(train_labels[image_index]) \n",
    "plt.imshow(train_images[image_index], cmap='Greys')"
   ]
  },
  {
   "cell_type": "markdown",
   "id": "a8d2388d",
   "metadata": {
    "papermill": {
     "duration": 0.026818,
     "end_time": "2022-04-20T00:37:15.676179",
     "exception": false,
     "start_time": "2022-04-20T00:37:15.649361",
     "status": "completed"
    },
    "tags": []
   },
   "source": [
    "## Filter data to get 3 and 8 out"
   ]
  },
  {
   "cell_type": "code",
   "execution_count": 10,
   "id": "776f7fc7",
   "metadata": {
    "execution": {
     "iopub.execute_input": "2022-04-20T00:37:15.736797Z",
     "iopub.status.busy": "2022-04-20T00:37:15.733793Z",
     "iopub.status.idle": "2022-04-20T00:37:15.752929Z",
     "shell.execute_reply": "2022-04-20T00:37:15.752492Z"
    },
    "papermill": {
     "duration": 0.050203,
     "end_time": "2022-04-20T00:37:15.753050",
     "exception": false,
     "start_time": "2022-04-20T00:37:15.702847",
     "status": "completed"
    },
    "tags": []
   },
   "outputs": [],
   "source": [
    "train_filter = np.where((train_labels == 3 ) | (train_labels == 8))\n",
    "test_filter = np.where((test_labels == 3) | (test_labels == 8))\n",
    "X_train, y_train = train_images[train_filter], train_labels[train_filter]\n",
    "X_test, y_test = test_images[test_filter], test_labels[test_filter]"
   ]
  },
  {
   "cell_type": "markdown",
   "id": "948f0b7e",
   "metadata": {
    "papermill": {
     "duration": 0.026667,
     "end_time": "2022-04-20T00:37:15.806700",
     "exception": false,
     "start_time": "2022-04-20T00:37:15.780033",
     "status": "completed"
    },
    "tags": []
   },
   "source": [
    "We normalize the pizel values in the 0 to 1 range"
   ]
  },
  {
   "cell_type": "code",
   "execution_count": 11,
   "id": "ee4c2166",
   "metadata": {
    "execution": {
     "iopub.execute_input": "2022-04-20T00:37:15.863823Z",
     "iopub.status.busy": "2022-04-20T00:37:15.863244Z",
     "iopub.status.idle": "2022-04-20T00:37:15.914218Z",
     "shell.execute_reply": "2022-04-20T00:37:15.913743Z"
    },
    "papermill": {
     "duration": 0.080992,
     "end_time": "2022-04-20T00:37:15.914339",
     "exception": false,
     "start_time": "2022-04-20T00:37:15.833347",
     "status": "completed"
    },
    "tags": []
   },
   "outputs": [],
   "source": [
    "X_train = X_train/255.\n",
    "X_test = X_test/255."
   ]
  },
  {
   "cell_type": "markdown",
   "id": "ddcf4fab",
   "metadata": {
    "papermill": {
     "duration": 0.026777,
     "end_time": "2022-04-20T00:37:15.968075",
     "exception": false,
     "start_time": "2022-04-20T00:37:15.941298",
     "status": "completed"
    },
    "tags": []
   },
   "source": [
    "And setup the labels as 1 (when the digit is 3) and 0 (when the digit is 8)"
   ]
  },
  {
   "cell_type": "code",
   "execution_count": 12,
   "id": "7dc908f2",
   "metadata": {
    "execution": {
     "iopub.execute_input": "2022-04-20T00:37:16.025869Z",
     "iopub.status.busy": "2022-04-20T00:37:16.025350Z",
     "iopub.status.idle": "2022-04-20T00:37:16.037937Z",
     "shell.execute_reply": "2022-04-20T00:37:16.037515Z"
    },
    "papermill": {
     "duration": 0.043323,
     "end_time": "2022-04-20T00:37:16.038054",
     "exception": false,
     "start_time": "2022-04-20T00:37:15.994731",
     "status": "completed"
    },
    "tags": []
   },
   "outputs": [],
   "source": [
    "y_train = 1*(y_train==3)\n",
    "y_test = 1*(y_test==3)"
   ]
  },
  {
   "cell_type": "code",
   "execution_count": 13,
   "id": "01e4e969",
   "metadata": {
    "execution": {
     "iopub.execute_input": "2022-04-20T00:37:16.099011Z",
     "iopub.status.busy": "2022-04-20T00:37:16.098488Z",
     "iopub.status.idle": "2022-04-20T00:37:16.109957Z",
     "shell.execute_reply": "2022-04-20T00:37:16.109534Z"
    },
    "papermill": {
     "duration": 0.045095,
     "end_time": "2022-04-20T00:37:16.110076",
     "exception": false,
     "start_time": "2022-04-20T00:37:16.064981",
     "status": "completed"
    },
    "tags": []
   },
   "outputs": [
    {
     "data": {
      "text/plain": [
       "((11982, 28, 28), (1984, 28, 28))"
      ]
     },
     "execution_count": 13,
     "metadata": {},
     "output_type": "execute_result"
    }
   ],
   "source": [
    "X_train.shape, X_test.shape"
   ]
  },
  {
   "cell_type": "markdown",
   "id": "5ccf3f85",
   "metadata": {
    "papermill": {
     "duration": 0.026882,
     "end_time": "2022-04-20T00:37:16.163910",
     "exception": false,
     "start_time": "2022-04-20T00:37:16.137028",
     "status": "completed"
    },
    "tags": []
   },
   "source": [
    "We reshape the data to flatten the image pixels into a set of features or co-variates:"
   ]
  },
  {
   "cell_type": "code",
   "execution_count": 14,
   "id": "5286a4a3",
   "metadata": {
    "execution": {
     "iopub.execute_input": "2022-04-20T00:37:16.222190Z",
     "iopub.status.busy": "2022-04-20T00:37:16.221665Z",
     "iopub.status.idle": "2022-04-20T00:37:16.236103Z",
     "shell.execute_reply": "2022-04-20T00:37:16.236511Z"
    },
    "papermill": {
     "duration": 0.045614,
     "end_time": "2022-04-20T00:37:16.236650",
     "exception": false,
     "start_time": "2022-04-20T00:37:16.191036",
     "status": "completed"
    },
    "tags": []
   },
   "outputs": [
    {
     "data": {
      "text/plain": [
       "((11982, 784), (1984, 784))"
      ]
     },
     "execution_count": 14,
     "metadata": {},
     "output_type": "execute_result"
    }
   ],
   "source": [
    "X_train = X_train.reshape(X_train.shape[0], -1)\n",
    "X_test = X_test.reshape(X_test.shape[0], -1)\n",
    "X_train.shape, X_test.shape"
   ]
  },
  {
   "cell_type": "code",
   "execution_count": 15,
   "id": "73c5f88a",
   "metadata": {
    "execution": {
     "iopub.execute_input": "2022-04-20T00:37:16.301774Z",
     "iopub.status.busy": "2022-04-20T00:37:16.301252Z",
     "iopub.status.idle": "2022-04-20T00:37:16.316176Z",
     "shell.execute_reply": "2022-04-20T00:37:16.315750Z"
    },
    "papermill": {
     "duration": 0.052312,
     "end_time": "2022-04-20T00:37:16.316297",
     "exception": false,
     "start_time": "2022-04-20T00:37:16.263985",
     "status": "completed"
    },
    "tags": []
   },
   "outputs": [],
   "source": [
    "#Impoting functions from 'Kudzu'\n",
    "from kudzu.model import Model\n",
    "from kudzu.train import Learner\n",
    "from kudzu.optim import GD\n",
    "from kudzu.data import Data, Sampler,Dataloader\n",
    "\n",
    "from kudzu.callbacks import AccCallback\n",
    "from kudzu.callbacks import ClfCallback\n",
    "\n",
    "from kudzu.loss import MSE\n",
    "\n",
    "from kudzu.layer import Sigmoid,Relu\n",
    "from kudzu.layer import Affine"
   ]
  },
  {
   "cell_type": "markdown",
   "id": "bc01172a",
   "metadata": {
    "papermill": {
     "duration": 0.027524,
     "end_time": "2022-04-20T00:37:16.371273",
     "exception": false,
     "start_time": "2022-04-20T00:37:16.343749",
     "status": "completed"
    },
    "tags": []
   },
   "source": [
    "### Let us create a `Config` class, to store important parameters. \n",
    "This class essentially plays the role of a dictionary."
   ]
  },
  {
   "cell_type": "code",
   "execution_count": 16,
   "id": "978281aa",
   "metadata": {
    "execution": {
     "iopub.execute_input": "2022-04-20T00:37:16.429708Z",
     "iopub.status.busy": "2022-04-20T00:37:16.429186Z",
     "iopub.status.idle": "2022-04-20T00:37:16.451241Z",
     "shell.execute_reply": "2022-04-20T00:37:16.451791Z"
    },
    "papermill": {
     "duration": 0.05346,
     "end_time": "2022-04-20T00:37:16.451935",
     "exception": false,
     "start_time": "2022-04-20T00:37:16.398475",
     "status": "completed"
    },
    "tags": []
   },
   "outputs": [],
   "source": [
    "class Config:\n",
    "    pass\n",
    "config = Config()\n",
    "config.lr = 0.001\n",
    "config.num_epochs = 250\n",
    "config.bs = 50"
   ]
  },
  {
   "cell_type": "markdown",
   "id": "1385fa59",
   "metadata": {
    "papermill": {
     "duration": 0.027231,
     "end_time": "2022-04-20T00:37:16.506760",
     "exception": false,
     "start_time": "2022-04-20T00:37:16.479529",
     "status": "completed"
    },
    "tags": []
   },
   "source": [
    "### Running Models with the Training data\n",
    "Details about the network layers:\n",
    "- A first affine layer has 784 inputs and does 100 affine transforms. These are followed by a Relu\n",
    "- A second affine layer has 100 inputs from the 100 activations of the past layer, and does 100 affine transforms. These are followed by a Relu\n",
    "- A third affine layer has 100 activations and does 2 affine transformations to create an embedding for visualization. There is no non-linearity here.\n",
    "- A final \"logistic regression\" which has an affine transform from 2 inputs to 1 output, which is squeezed through a sigmoid.\n"
   ]
  },
  {
   "cell_type": "code",
   "execution_count": 17,
   "id": "2b9c66db",
   "metadata": {
    "execution": {
     "iopub.execute_input": "2022-04-20T00:37:16.569294Z",
     "iopub.status.busy": "2022-04-20T00:37:16.568756Z",
     "iopub.status.idle": "2022-04-20T00:37:16.579302Z",
     "shell.execute_reply": "2022-04-20T00:37:16.579739Z"
    },
    "papermill": {
     "duration": 0.045808,
     "end_time": "2022-04-20T00:37:16.579877",
     "exception": false,
     "start_time": "2022-04-20T00:37:16.534069",
     "status": "completed"
    },
    "tags": []
   },
   "outputs": [],
   "source": [
    "data = Data(X_train, y_train.reshape(-1,1))\n",
    "sampler = Sampler(data, config.bs, shuffle=True)\n",
    "\n",
    "dl = Dataloader(data, sampler)\n",
    "\n",
    "opt = GD(config.lr)\n",
    "loss = MSE()"
   ]
  },
  {
   "cell_type": "code",
   "execution_count": 18,
   "id": "b275e4c2",
   "metadata": {
    "execution": {
     "iopub.execute_input": "2022-04-20T00:37:16.638468Z",
     "iopub.status.busy": "2022-04-20T00:37:16.637946Z",
     "iopub.status.idle": "2022-04-20T00:37:16.651430Z",
     "shell.execute_reply": "2022-04-20T00:37:16.650987Z"
    },
    "papermill": {
     "duration": 0.044329,
     "end_time": "2022-04-20T00:37:16.651551",
     "exception": false,
     "start_time": "2022-04-20T00:37:16.607222",
     "status": "completed"
    },
    "tags": []
   },
   "outputs": [],
   "source": [
    "training_data_x = X_train\n",
    "testing_data_x = X_test\n",
    "training_data_y = y_train.reshape(-1,1)\n",
    "testing_data_y = y_test.reshape(-1,1)"
   ]
  },
  {
   "cell_type": "code",
   "execution_count": 19,
   "id": "76951160",
   "metadata": {
    "execution": {
     "iopub.execute_input": "2022-04-20T00:37:16.720423Z",
     "iopub.status.busy": "2022-04-20T00:37:16.715896Z",
     "iopub.status.idle": "2022-04-20T00:37:16.728342Z",
     "shell.execute_reply": "2022-04-20T00:37:16.728728Z"
    },
    "papermill": {
     "duration": 0.050268,
     "end_time": "2022-04-20T00:37:16.728865",
     "exception": false,
     "start_time": "2022-04-20T00:37:16.678597",
     "status": "completed"
    },
    "tags": []
   },
   "outputs": [
    {
     "name": "stdout",
     "output_type": "stream",
     "text": [
      "xavier\n",
      "xavier\n",
      "xavier\n",
      "xavier\n",
      "xavier\n"
     ]
    }
   ],
   "source": [
    "layers = [Affine(\"first\", 784, 100), Relu(\"first\"), Affine(\"second\", 100, 100), Relu(\"second\"), Affine(\"third\", 100, 2), Affine(\"last\", 2, 1), Sigmoid(\"last\")]\n",
    "model_nn = Model(layers)\n",
    "model_lr = Model([Affine(\"logits\", 784, 1), Sigmoid(\"sigmoid\")])"
   ]
  },
  {
   "cell_type": "code",
   "execution_count": 20,
   "id": "6eede77a",
   "metadata": {
    "execution": {
     "iopub.execute_input": "2022-04-20T00:37:16.800892Z",
     "iopub.status.busy": "2022-04-20T00:37:16.787204Z",
     "iopub.status.idle": "2022-04-20T00:37:16.804953Z",
     "shell.execute_reply": "2022-04-20T00:37:16.805361Z"
    },
    "papermill": {
     "duration": 0.049135,
     "end_time": "2022-04-20T00:37:16.805497",
     "exception": false,
     "start_time": "2022-04-20T00:37:16.756362",
     "status": "completed"
    },
    "tags": []
   },
   "outputs": [],
   "source": [
    "nn_learner = Learner(loss, model_nn, opt, config.num_epochs)\n",
    "acc_nn = ClfCallback(nn_learner, config.bs, training_data_x , testing_data_x, training_data_y, testing_data_y)\n",
    "nn_learner.set_callbacks([acc_nn])"
   ]
  },
  {
   "cell_type": "code",
   "execution_count": 21,
   "id": "877b6cc7",
   "metadata": {
    "execution": {
     "iopub.execute_input": "2022-04-20T00:37:16.877298Z",
     "iopub.status.busy": "2022-04-20T00:37:16.868085Z",
     "iopub.status.idle": "2022-04-20T00:37:16.879973Z",
     "shell.execute_reply": "2022-04-20T00:37:16.880379Z"
    },
    "papermill": {
     "duration": 0.047442,
     "end_time": "2022-04-20T00:37:16.880515",
     "exception": false,
     "start_time": "2022-04-20T00:37:16.833073",
     "status": "completed"
    },
    "tags": []
   },
   "outputs": [],
   "source": [
    "lr_learner = Learner(loss, model_lr, opt, config.num_epochs)\n",
    "acc_lr = ClfCallback(lr_learner, config.bs, training_data_x , testing_data_x, training_data_y, testing_data_y)\n",
    "lr_learner.set_callbacks([acc_lr])"
   ]
  },
  {
   "cell_type": "code",
   "execution_count": 22,
   "id": "d9b133c3",
   "metadata": {
    "execution": {
     "iopub.execute_input": "2022-04-20T00:37:16.954817Z",
     "iopub.status.busy": "2022-04-20T00:37:16.954271Z",
     "iopub.status.idle": "2022-04-20T00:38:30.947213Z",
     "shell.execute_reply": "2022-04-20T00:38:30.947977Z"
    },
    "papermill": {
     "duration": 74.039928,
     "end_time": "2022-04-20T00:38:30.948132",
     "exception": false,
     "start_time": "2022-04-20T00:37:16.908204",
     "status": "completed"
    },
    "tags": []
   },
   "outputs": [
    {
     "name": "stdout",
     "output_type": "stream",
     "text": [
      "Epoch 0, Loss 0.225\n",
      "Training Accuracy: 0.7416, Testing Accuracy: 0.7510\n",
      "\n"
     ]
    },
    {
     "name": "stdout",
     "output_type": "stream",
     "text": [
      "Epoch 10, Loss 0.0888\n",
      "Training Accuracy: 0.9103, Testing Accuracy: 0.9294\n",
      "\n"
     ]
    },
    {
     "name": "stdout",
     "output_type": "stream",
     "text": [
      "Epoch 20, Loss 0.0552\n",
      "Training Accuracy: 0.9418, Testing Accuracy: 0.9572\n",
      "\n"
     ]
    },
    {
     "name": "stdout",
     "output_type": "stream",
     "text": [
      "Epoch 30, Loss 0.0428\n",
      "Training Accuracy: 0.9533, Testing Accuracy: 0.9667\n",
      "\n"
     ]
    },
    {
     "name": "stdout",
     "output_type": "stream",
     "text": [
      "Epoch 40, Loss 0.0368\n",
      "Training Accuracy: 0.9599, Testing Accuracy: 0.9698\n",
      "\n"
     ]
    },
    {
     "name": "stdout",
     "output_type": "stream",
     "text": [
      "Epoch 50, Loss 0.0333\n",
      "Training Accuracy: 0.9629, Testing Accuracy: 0.9718\n",
      "\n"
     ]
    },
    {
     "name": "stdout",
     "output_type": "stream",
     "text": [
      "Epoch 60, Loss 0.0309\n",
      "Training Accuracy: 0.9647, Testing Accuracy: 0.9728\n",
      "\n"
     ]
    },
    {
     "name": "stdout",
     "output_type": "stream",
     "text": [
      "Epoch 70, Loss 0.0291\n",
      "Training Accuracy: 0.9672, Testing Accuracy: 0.9738\n",
      "\n"
     ]
    },
    {
     "name": "stdout",
     "output_type": "stream",
     "text": [
      "Epoch 80, Loss 0.0277\n",
      "Training Accuracy: 0.9683, Testing Accuracy: 0.9738\n",
      "\n"
     ]
    },
    {
     "name": "stdout",
     "output_type": "stream",
     "text": [
      "Epoch 90, Loss 0.0265\n",
      "Training Accuracy: 0.9694, Testing Accuracy: 0.9738\n",
      "\n"
     ]
    },
    {
     "name": "stdout",
     "output_type": "stream",
     "text": [
      "Epoch 100, Loss 0.0255\n",
      "Training Accuracy: 0.9710, Testing Accuracy: 0.9738\n",
      "\n"
     ]
    },
    {
     "name": "stdout",
     "output_type": "stream",
     "text": [
      "Epoch 110, Loss 0.0247\n",
      "Training Accuracy: 0.9719, Testing Accuracy: 0.9728\n",
      "\n"
     ]
    },
    {
     "name": "stdout",
     "output_type": "stream",
     "text": [
      "Epoch 120, Loss 0.0239\n",
      "Training Accuracy: 0.9730, Testing Accuracy: 0.9733\n",
      "\n"
     ]
    },
    {
     "name": "stdout",
     "output_type": "stream",
     "text": [
      "Epoch 130, Loss 0.0232\n",
      "Training Accuracy: 0.9735, Testing Accuracy: 0.9743\n",
      "\n"
     ]
    },
    {
     "name": "stdout",
     "output_type": "stream",
     "text": [
      "Epoch 140, Loss 0.0226\n",
      "Training Accuracy: 0.9741, Testing Accuracy: 0.9738\n",
      "\n"
     ]
    },
    {
     "name": "stdout",
     "output_type": "stream",
     "text": [
      "Epoch 150, Loss 0.022\n",
      "Training Accuracy: 0.9751, Testing Accuracy: 0.9743\n",
      "\n"
     ]
    },
    {
     "name": "stdout",
     "output_type": "stream",
     "text": [
      "Epoch 160, Loss 0.0215\n",
      "Training Accuracy: 0.9757, Testing Accuracy: 0.9738\n",
      "\n"
     ]
    },
    {
     "name": "stdout",
     "output_type": "stream",
     "text": [
      "Epoch 170, Loss 0.0209\n",
      "Training Accuracy: 0.9762, Testing Accuracy: 0.9743\n",
      "\n"
     ]
    },
    {
     "name": "stdout",
     "output_type": "stream",
     "text": [
      "Epoch 180, Loss 0.0204\n",
      "Training Accuracy: 0.9767, Testing Accuracy: 0.9758\n",
      "\n"
     ]
    },
    {
     "name": "stdout",
     "output_type": "stream",
     "text": [
      "Epoch 190, Loss 0.02\n",
      "Training Accuracy: 0.9772, Testing Accuracy: 0.9763\n",
      "\n"
     ]
    },
    {
     "name": "stdout",
     "output_type": "stream",
     "text": [
      "Epoch 200, Loss 0.0195\n",
      "Training Accuracy: 0.9775, Testing Accuracy: 0.9758\n",
      "\n"
     ]
    },
    {
     "name": "stdout",
     "output_type": "stream",
     "text": [
      "Epoch 210, Loss 0.0191\n",
      "Training Accuracy: 0.9782, Testing Accuracy: 0.9758\n",
      "\n"
     ]
    },
    {
     "name": "stdout",
     "output_type": "stream",
     "text": [
      "Epoch 220, Loss 0.0187\n",
      "Training Accuracy: 0.9787, Testing Accuracy: 0.9763\n",
      "\n"
     ]
    },
    {
     "name": "stdout",
     "output_type": "stream",
     "text": [
      "Epoch 230, Loss 0.0182\n",
      "Training Accuracy: 0.9793, Testing Accuracy: 0.9763\n",
      "\n"
     ]
    },
    {
     "name": "stdout",
     "output_type": "stream",
     "text": [
      "Epoch 240, Loss 0.0178\n",
      "Training Accuracy: 0.9798, Testing Accuracy: 0.9773\n",
      "\n"
     ]
    },
    {
     "data": {
      "text/plain": [
       "0.005888944543482694"
      ]
     },
     "execution_count": 22,
     "metadata": {},
     "output_type": "execute_result"
    }
   ],
   "source": [
    "nn_learner.train_loop(dl)"
   ]
  },
  {
   "cell_type": "code",
   "execution_count": 23,
   "id": "e0163366",
   "metadata": {
    "execution": {
     "iopub.execute_input": "2022-04-20T00:38:31.030262Z",
     "iopub.status.busy": "2022-04-20T00:38:31.029738Z",
     "iopub.status.idle": "2022-04-20T00:38:44.161590Z",
     "shell.execute_reply": "2022-04-20T00:38:44.162384Z"
    },
    "papermill": {
     "duration": 13.17936,
     "end_time": "2022-04-20T00:38:44.162539",
     "exception": false,
     "start_time": "2022-04-20T00:38:30.983179",
     "status": "completed"
    },
    "tags": []
   },
   "outputs": [
    {
     "name": "stdout",
     "output_type": "stream",
     "text": [
      "Epoch 0, Loss 0.2198\n",
      "Training Accuracy: 0.7410, Testing Accuracy: 0.7359\n",
      "\n"
     ]
    },
    {
     "name": "stdout",
     "output_type": "stream",
     "text": [
      "Epoch 10, Loss 0.1029\n",
      "Training Accuracy: 0.8990, Testing Accuracy: 0.9133\n",
      "\n"
     ]
    },
    {
     "name": "stdout",
     "output_type": "stream",
     "text": [
      "Epoch 20, Loss 0.0796\n",
      "Training Accuracy: 0.9226, Testing Accuracy: 0.9375\n",
      "\n"
     ]
    },
    {
     "name": "stdout",
     "output_type": "stream",
     "text": [
      "Epoch 30, Loss 0.0685\n",
      "Training Accuracy: 0.9329, Testing Accuracy: 0.9456\n",
      "\n"
     ]
    },
    {
     "name": "stdout",
     "output_type": "stream",
     "text": [
      "Epoch 40, Loss 0.0618\n",
      "Training Accuracy: 0.9391, Testing Accuracy: 0.9526\n",
      "\n"
     ]
    },
    {
     "name": "stdout",
     "output_type": "stream",
     "text": [
      "Epoch 50, Loss 0.0572\n",
      "Training Accuracy: 0.9437, Testing Accuracy: 0.9561\n",
      "\n"
     ]
    },
    {
     "name": "stdout",
     "output_type": "stream",
     "text": [
      "Epoch 60, Loss 0.0538\n",
      "Training Accuracy: 0.9458, Testing Accuracy: 0.9572\n",
      "\n"
     ]
    },
    {
     "name": "stdout",
     "output_type": "stream",
     "text": [
      "Epoch 70, Loss 0.0513\n",
      "Training Accuracy: 0.9468, Testing Accuracy: 0.9612\n",
      "\n"
     ]
    },
    {
     "name": "stdout",
     "output_type": "stream",
     "text": [
      "Epoch 80, Loss 0.0492\n",
      "Training Accuracy: 0.9481, Testing Accuracy: 0.9632\n",
      "\n"
     ]
    },
    {
     "name": "stdout",
     "output_type": "stream",
     "text": [
      "Epoch 90, Loss 0.0475\n",
      "Training Accuracy: 0.9498, Testing Accuracy: 0.9642\n",
      "\n"
     ]
    },
    {
     "name": "stdout",
     "output_type": "stream",
     "text": [
      "Epoch 100, Loss 0.0461\n",
      "Training Accuracy: 0.9522, Testing Accuracy: 0.9642\n",
      "\n"
     ]
    },
    {
     "name": "stdout",
     "output_type": "stream",
     "text": [
      "Epoch 110, Loss 0.0448\n",
      "Training Accuracy: 0.9538, Testing Accuracy: 0.9632\n",
      "\n"
     ]
    },
    {
     "name": "stdout",
     "output_type": "stream",
     "text": [
      "Epoch 120, Loss 0.0438\n",
      "Training Accuracy: 0.9551, Testing Accuracy: 0.9642\n",
      "\n"
     ]
    },
    {
     "name": "stdout",
     "output_type": "stream",
     "text": [
      "Epoch 130, Loss 0.0428\n",
      "Training Accuracy: 0.9559, Testing Accuracy: 0.9652\n",
      "\n"
     ]
    },
    {
     "name": "stdout",
     "output_type": "stream",
     "text": [
      "Epoch 140, Loss 0.042\n",
      "Training Accuracy: 0.9564, Testing Accuracy: 0.9652\n",
      "\n"
     ]
    },
    {
     "name": "stdout",
     "output_type": "stream",
     "text": [
      "Epoch 150, Loss 0.0413\n",
      "Training Accuracy: 0.9567, Testing Accuracy: 0.9662\n",
      "\n"
     ]
    },
    {
     "name": "stdout",
     "output_type": "stream",
     "text": [
      "Epoch 160, Loss 0.0406\n",
      "Training Accuracy: 0.9572, Testing Accuracy: 0.9662\n",
      "\n"
     ]
    },
    {
     "name": "stdout",
     "output_type": "stream",
     "text": [
      "Epoch 170, Loss 0.04\n",
      "Training Accuracy: 0.9572, Testing Accuracy: 0.9662\n",
      "\n"
     ]
    },
    {
     "name": "stdout",
     "output_type": "stream",
     "text": [
      "Epoch 180, Loss 0.0394\n",
      "Training Accuracy: 0.9577, Testing Accuracy: 0.9667\n",
      "\n"
     ]
    },
    {
     "name": "stdout",
     "output_type": "stream",
     "text": [
      "Epoch 190, Loss 0.0389\n",
      "Training Accuracy: 0.9586, Testing Accuracy: 0.9672\n",
      "\n"
     ]
    },
    {
     "name": "stdout",
     "output_type": "stream",
     "text": [
      "Epoch 200, Loss 0.0384\n",
      "Training Accuracy: 0.9588, Testing Accuracy: 0.9672\n",
      "\n"
     ]
    },
    {
     "name": "stdout",
     "output_type": "stream",
     "text": [
      "Epoch 210, Loss 0.038\n",
      "Training Accuracy: 0.9592, Testing Accuracy: 0.9677\n",
      "\n"
     ]
    },
    {
     "name": "stdout",
     "output_type": "stream",
     "text": [
      "Epoch 220, Loss 0.0376\n",
      "Training Accuracy: 0.9592, Testing Accuracy: 0.9682\n",
      "\n"
     ]
    },
    {
     "name": "stdout",
     "output_type": "stream",
     "text": [
      "Epoch 230, Loss 0.0372\n",
      "Training Accuracy: 0.9595, Testing Accuracy: 0.9677\n",
      "\n"
     ]
    },
    {
     "name": "stdout",
     "output_type": "stream",
     "text": [
      "Epoch 240, Loss 0.0368\n",
      "Training Accuracy: 0.9601, Testing Accuracy: 0.9682\n",
      "\n"
     ]
    },
    {
     "data": {
      "text/plain": [
       "0.032503908838562134"
      ]
     },
     "execution_count": 23,
     "metadata": {},
     "output_type": "execute_result"
    }
   ],
   "source": [
    "lr_learner.train_loop(dl)"
   ]
  },
  {
   "cell_type": "code",
   "execution_count": 24,
   "id": "ca410940",
   "metadata": {
    "execution": {
     "iopub.execute_input": "2022-04-20T00:38:44.260685Z",
     "iopub.status.busy": "2022-04-20T00:38:44.260153Z",
     "iopub.status.idle": "2022-04-20T00:38:44.474204Z",
     "shell.execute_reply": "2022-04-20T00:38:44.473739Z"
    },
    "papermill": {
     "duration": 0.269906,
     "end_time": "2022-04-20T00:38:44.474326",
     "exception": false,
     "start_time": "2022-04-20T00:38:44.204420",
     "status": "completed"
    },
    "tags": []
   },
   "outputs": [
    {
     "data": {
      "text/plain": [
       "<matplotlib.legend.Legend at 0x7f2ce18eeac8>"
      ]
     },
     "execution_count": 24,
     "metadata": {},
     "output_type": "execute_result"
    },
    {
     "data": {
      "image/png": "[encoded data removed]",
      "text/plain": [
       "<Figure size 1080x720 with 1 Axes>"
      ]
     },
     "metadata": {
      "needs_background": "light"
     },
     "output_type": "display_data"
    }
   ],
   "source": [
    "#comparing the results of NN and LR\n",
    "plt.figure(figsize=(15,10))\n",
    "\n",
    "# Neural Network plots\n",
    "plt.plot(acc_nn.accuracies, 'r-', label = \"Training Accuracies - NN\")\n",
    "plt.plot(acc_nn.test_accuracies, 'g-', label = \"Testing Accuracies - NN\")\n",
    "\n",
    "# Logistic Regression plots\n",
    "plt.plot(acc_lr.accuracies, 'k-', label = \"Training Accuracies - LR\")\n",
    "plt.plot(acc_lr.test_accuracies, 'b-', label = \"Testing Accuracies - LR\")\n",
    "plt.legend()"
   ]
  },
  {
   "cell_type": "markdown",
   "id": "80dfb35c",
   "metadata": {
    "papermill": {
     "duration": 0.042774,
     "end_time": "2022-04-20T00:38:44.559847",
     "exception": false,
     "start_time": "2022-04-20T00:38:44.517073",
     "status": "completed"
    },
    "tags": []
   },
   "source": [
    "#### Plotting the outputs of this layer of the NN.\n"
   ]
  },
  {
   "cell_type": "code",
   "execution_count": 25,
   "id": "45eb2ff5",
   "metadata": {
    "execution": {
     "iopub.execute_input": "2022-04-20T00:38:44.648281Z",
     "iopub.status.busy": "2022-04-20T00:38:44.647723Z",
     "iopub.status.idle": "2022-04-20T00:38:44.668037Z",
     "shell.execute_reply": "2022-04-20T00:38:44.668751Z"
    },
    "papermill": {
     "duration": 0.066902,
     "end_time": "2022-04-20T00:38:44.668901",
     "exception": false,
     "start_time": "2022-04-20T00:38:44.601999",
     "status": "completed"
    },
    "tags": []
   },
   "outputs": [],
   "source": [
    "new_model = Model(layers[:-2])\n",
    "testing_plot = new_model(testing_data_x)"
   ]
  },
  {
   "cell_type": "code",
   "execution_count": 26,
   "id": "4c0a5485",
   "metadata": {
    "execution": {
     "iopub.execute_input": "2022-04-20T00:38:44.768540Z",
     "iopub.status.busy": "2022-04-20T00:38:44.768019Z",
     "iopub.status.idle": "2022-04-20T00:38:44.953961Z",
     "shell.execute_reply": "2022-04-20T00:38:44.954354Z"
    },
    "papermill": {
     "duration": 0.242321,
     "end_time": "2022-04-20T00:38:44.954499",
     "exception": false,
     "start_time": "2022-04-20T00:38:44.712178",
     "status": "completed"
    },
    "tags": []
   },
   "outputs": [
    {
     "data": {
      "text/plain": [
       "Text(0.5, 1.0, 'Outputs')"
      ]
     },
     "execution_count": 26,
     "metadata": {},
     "output_type": "execute_result"
    },
    {
     "data": {
      "image/png": "[encoded data removed]",
      "text/plain": [
       "<Figure size 576x504 with 1 Axes>"
      ]
     },
     "metadata": {
      "needs_background": "light"
     },
     "output_type": "display_data"
    }
   ],
   "source": [
    "# Plotting the scatter plot of points and color coding by class\n",
    "plt.figure(figsize=(8,7))\n",
    "plt.scatter(testing_plot[:,0], testing_plot[:,1], alpha = 0.1, c = y_test.ravel());\n",
    "plt.title('Outputs')"
   ]
  },
  {
   "cell_type": "markdown",
   "id": "a74fcf8f",
   "metadata": {
    "papermill": {
     "duration": 0.044513,
     "end_time": "2022-04-20T00:38:45.043668",
     "exception": false,
     "start_time": "2022-04-20T00:38:44.999155",
     "status": "completed"
    },
    "tags": []
   },
   "source": [
    "Probability contours"
   ]
  },
  {
   "cell_type": "code",
   "execution_count": 27,
   "id": "d0afc8e3",
   "metadata": {
    "execution": {
     "iopub.execute_input": "2022-04-20T00:38:45.136896Z",
     "iopub.status.busy": "2022-04-20T00:38:45.136350Z",
     "iopub.status.idle": "2022-04-20T00:38:45.148268Z",
     "shell.execute_reply": "2022-04-20T00:38:45.148681Z"
    },
    "papermill": {
     "duration": 0.060711,
     "end_time": "2022-04-20T00:38:45.148818",
     "exception": false,
     "start_time": "2022-04-20T00:38:45.088107",
     "status": "completed"
    },
    "tags": []
   },
   "outputs": [],
   "source": [
    "model_prob = Model(layers[-2:]) "
   ]
  },
  {
   "cell_type": "code",
   "execution_count": 28,
   "id": "9b96e238",
   "metadata": {
    "execution": {
     "iopub.execute_input": "2022-04-20T00:38:45.269197Z",
     "iopub.status.busy": "2022-04-20T00:38:45.268647Z",
     "iopub.status.idle": "2022-04-20T00:38:45.284130Z",
     "shell.execute_reply": "2022-04-20T00:38:45.284517Z"
    },
    "papermill": {
     "duration": 0.06511,
     "end_time": "2022-04-20T00:38:45.284659",
     "exception": false,
     "start_time": "2022-04-20T00:38:45.219549",
     "status": "completed"
    },
    "tags": []
   },
   "outputs": [],
   "source": [
    "#creating the x and y ranges according to the above generated plot.\n",
    "x_range = np.linspace(-4, 1, 100) \n",
    "y_range = np.linspace(-6, 6, 100) \n",
    "x_grid, y_grid = np.meshgrid(x_range, y_range) # x_grid and y_grig are of size 100 X 100\n",
    "\n",
    "# converting x_grid and y_grid to continuous arrays\n",
    "x_gridflat = np.ravel(x_grid)\n",
    "y_gridflat = np.ravel(y_grid)\n",
    "\n",
    "# The last layer of the current model takes two columns as input. Hence transpose of np.vstack() is required.\n",
    "X = np.vstack((x_gridflat, y_gridflat)).T\n",
    "\n",
    "prob_contour = model_prob(X).reshape(100,100) "
   ]
  },
  {
   "cell_type": "code",
   "execution_count": 29,
   "id": "da72499a",
   "metadata": {
    "execution": {
     "iopub.execute_input": "2022-04-20T00:38:45.377529Z",
     "iopub.status.busy": "2022-04-20T00:38:45.377017Z",
     "iopub.status.idle": "2022-04-20T00:38:45.612089Z",
     "shell.execute_reply": "2022-04-20T00:38:45.612502Z"
    },
    "papermill": {
     "duration": 0.283294,
     "end_time": "2022-04-20T00:38:45.612645",
     "exception": false,
     "start_time": "2022-04-20T00:38:45.329351",
     "status": "completed"
    },
    "tags": []
   },
   "outputs": [
    {
     "data": {
      "image/png": "[encoded data removed]",
      "text/plain": [
       "<Figure size 720x648 with 1 Axes>"
      ]
     },
     "metadata": {
      "needs_background": "light"
     },
     "output_type": "display_data"
    }
   ],
   "source": [
    "plt.figure(figsize=(10,9))\n",
    "plt.scatter(testing_plot[:,0], testing_plot[:,1], alpha = 0.1, c = y_test.ravel())\n",
    "contours = plt.contour(x_grid,y_grid,prob_contour)\n",
    "plt.title('Probability Contours')\n",
    "plt.clabel(contours, inline = True );"
   ]
  },
  {
   "cell_type": "code",
   "execution_count": null,
   "id": "e81b4ac7",
   "metadata": {
    "papermill": {
     "duration": 0.047159,
     "end_time": "2022-04-20T00:38:45.707258",
     "exception": false,
     "start_time": "2022-04-20T00:38:45.660099",
     "status": "completed"
    },
    "tags": []
   },
   "outputs": [],
   "source": []
  }
 ],
 "metadata": {
  "kernelspec": {
   "display_name": "Python 3",
   "language": "python",
   "name": "python3"
  },
  "language_info": {
   "codemirror_mode": {
    "name": "ipython",
    "version": 3
   },
   "file_extension": ".py",
   "mimetype": "text/x-python",
   "name": "python",
   "nbconvert_exporter": "python",
   "pygments_lexer": "ipython3",
   "version": "3.6.15"
  },
  "papermill": {
   "default_parameters": {},
   "duration": 96.468607,
   "end_time": "2022-04-20T00:38:46.172762",
   "environment_variables": {},
   "exception": null,
   "input_path": "2020-08-11-part2.ipynb",
   "output_path": "2020-08-11-part2.ipynb",
   "parameters": {},
   "start_time": "2022-04-20T00:37:09.704155",
   "version": "2.3.3"
  }
 },
 "nbformat": 4,
 "nbformat_minor": 5
}