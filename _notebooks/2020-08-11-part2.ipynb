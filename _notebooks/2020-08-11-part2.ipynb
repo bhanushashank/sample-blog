{
 "cells": [
  {
   "cell_type": "markdown",
   "id": "98380cd3",
   "metadata": {
    "papermill": {
     "duration": 0.032795,
     "end_time": "2022-02-21T10:09:16.544318",
     "exception": false,
     "start_time": "2022-02-21T10:09:16.511523",
     "status": "completed"
    },
    "tags": []
   },
   "source": [
    "# Distinguish Your Own Digits (DYOD)"
   ]
  },
  {
   "cell_type": "markdown",
   "id": "ef31240d",
   "metadata": {
    "papermill": {
     "duration": 0.027093,
     "end_time": "2022-02-21T10:09:16.597592",
     "exception": false,
     "start_time": "2022-02-21T10:09:16.570499",
     "status": "completed"
    },
    "tags": []
   },
   "source": [
    "You are going to write a classifier that distinguishes between the number 3 and number 8."
   ]
  },
  {
   "cell_type": "code",
   "execution_count": 1,
   "id": "b15c8646",
   "metadata": {
    "execution": {
     "iopub.execute_input": "2022-02-21T10:09:16.660141Z",
     "iopub.status.busy": "2022-02-21T10:09:16.659533Z",
     "iopub.status.idle": "2022-02-21T10:09:16.670855Z",
     "shell.execute_reply": "2022-02-21T10:09:16.670335Z"
    },
    "papermill": {
     "duration": 0.04786,
     "end_time": "2022-02-21T10:09:16.671000",
     "exception": false,
     "start_time": "2022-02-21T10:09:16.623140",
     "status": "completed"
    },
    "tags": []
   },
   "outputs": [],
   "source": [
    "%load_ext autoreload\n",
    "%autoreload 2"
   ]
  },
  {
   "cell_type": "code",
   "execution_count": 2,
   "id": "22ef38dc",
   "metadata": {
    "execution": {
     "iopub.execute_input": "2022-02-21T10:09:16.725943Z",
     "iopub.status.busy": "2022-02-21T10:09:16.725383Z",
     "iopub.status.idle": "2022-02-21T10:09:17.320638Z",
     "shell.execute_reply": "2022-02-21T10:09:17.319500Z"
    },
    "papermill": {
     "duration": 0.624551,
     "end_time": "2022-02-21T10:09:17.320782",
     "exception": false,
     "start_time": "2022-02-21T10:09:16.696231",
     "status": "completed"
    },
    "tags": []
   },
   "outputs": [],
   "source": [
    "%matplotlib inline\n",
    "import numpy as np\n",
    "import matplotlib.pyplot as plt\n",
    "import pandas as pd"
   ]
  },
  {
   "cell_type": "markdown",
   "id": "ba036198",
   "metadata": {
    "papermill": {
     "duration": 0.024605,
     "end_time": "2022-02-21T10:09:17.368773",
     "exception": false,
     "start_time": "2022-02-21T10:09:17.344168",
     "status": "completed"
    },
    "tags": []
   },
   "source": [
    "From the command line run `pip install mnist`. This is a library that will help you bring down the mnist dataset. If you run this from a notebook, you need to put  `!pip install mnist` in a cell by itself."
   ]
  },
  {
   "cell_type": "code",
   "execution_count": 3,
   "id": "bb6ad8a1",
   "metadata": {
    "execution": {
     "iopub.execute_input": "2022-02-21T10:09:17.423731Z",
     "iopub.status.busy": "2022-02-21T10:09:17.419129Z",
     "iopub.status.idle": "2022-02-21T10:09:19.089450Z",
     "shell.execute_reply": "2022-02-21T10:09:19.090143Z"
    },
    "papermill": {
     "duration": 1.698624,
     "end_time": "2022-02-21T10:09:19.090294",
     "exception": false,
     "start_time": "2022-02-21T10:09:17.391670",
     "status": "completed"
    },
    "tags": []
   },
   "outputs": [
    {
     "name": "stdout",
     "output_type": "stream",
     "text": [
      "Collecting mnist\r\n",
      "  Downloading mnist-0.2.2-py2.py3-none-any.whl (3.5 kB)\r\n",
      "Requirement already satisfied: numpy in /opt/hostedtoolcache/Python/3.6.15/x64/lib/python3.6/site-packages (from mnist) (1.19.5)\r\n"
     ]
    },
    {
     "name": "stdout",
     "output_type": "stream",
     "text": [
      "Installing collected packages: mnist\r\n"
     ]
    },
    {
     "name": "stdout",
     "output_type": "stream",
     "text": [
      "Successfully installed mnist-0.2.2\r\n"
     ]
    }
   ],
   "source": [
    "!pip install mnist"
   ]
  },
  {
   "cell_type": "markdown",
   "id": "69df9c9a",
   "metadata": {
    "papermill": {
     "duration": 0.024531,
     "end_time": "2022-02-21T10:09:19.141190",
     "exception": false,
     "start_time": "2022-02-21T10:09:19.116659",
     "status": "completed"
    },
    "tags": []
   },
   "source": [
    "## Preparing the Data"
   ]
  },
  {
   "cell_type": "code",
   "execution_count": 4,
   "id": "7f69d806",
   "metadata": {
    "execution": {
     "iopub.execute_input": "2022-02-21T10:09:19.196168Z",
     "iopub.status.busy": "2022-02-21T10:09:19.195660Z",
     "iopub.status.idle": "2022-02-21T10:09:19.212830Z",
     "shell.execute_reply": "2022-02-21T10:09:19.212388Z"
    },
    "papermill": {
     "duration": 0.046992,
     "end_time": "2022-02-21T10:09:19.212943",
     "exception": false,
     "start_time": "2022-02-21T10:09:19.165951",
     "status": "completed"
    },
    "tags": []
   },
   "outputs": [],
   "source": [
    "import mnist"
   ]
  },
  {
   "cell_type": "code",
   "execution_count": 5,
   "id": "a411e44f",
   "metadata": {
    "execution": {
     "iopub.execute_input": "2022-02-21T10:09:19.264228Z",
     "iopub.status.busy": "2022-02-21T10:09:19.263686Z",
     "iopub.status.idle": "2022-02-21T10:09:19.808810Z",
     "shell.execute_reply": "2022-02-21T10:09:19.807923Z"
    },
    "papermill": {
     "duration": 0.571826,
     "end_time": "2022-02-21T10:09:19.809030",
     "exception": false,
     "start_time": "2022-02-21T10:09:19.237204",
     "status": "completed"
    },
    "tags": []
   },
   "outputs": [],
   "source": [
    "train_images = mnist.train_images()\n",
    "train_labels = mnist.train_labels()"
   ]
  },
  {
   "cell_type": "code",
   "execution_count": 6,
   "id": "dceab3a5",
   "metadata": {
    "execution": {
     "iopub.execute_input": "2022-02-21T10:09:19.869966Z",
     "iopub.status.busy": "2022-02-21T10:09:19.869384Z",
     "iopub.status.idle": "2022-02-21T10:09:19.884796Z",
     "shell.execute_reply": "2022-02-21T10:09:19.884347Z"
    },
    "papermill": {
     "duration": 0.048773,
     "end_time": "2022-02-21T10:09:19.884910",
     "exception": false,
     "start_time": "2022-02-21T10:09:19.836137",
     "status": "completed"
    },
    "tags": []
   },
   "outputs": [
    {
     "data": {
      "text/plain": [
       "((60000, 28, 28), (60000,))"
      ]
     },
     "execution_count": 6,
     "metadata": {},
     "output_type": "execute_result"
    }
   ],
   "source": [
    "train_images.shape, train_labels.shape"
   ]
  },
  {
   "cell_type": "code",
   "execution_count": 7,
   "id": "f50dc2bb",
   "metadata": {
    "execution": {
     "iopub.execute_input": "2022-02-21T10:09:19.942715Z",
     "iopub.status.busy": "2022-02-21T10:09:19.942088Z",
     "iopub.status.idle": "2022-02-21T10:09:20.075082Z",
     "shell.execute_reply": "2022-02-21T10:09:20.073675Z"
    },
    "papermill": {
     "duration": 0.163554,
     "end_time": "2022-02-21T10:09:20.075214",
     "exception": false,
     "start_time": "2022-02-21T10:09:19.911660",
     "status": "completed"
    },
    "tags": []
   },
   "outputs": [],
   "source": [
    "test_images = mnist.test_images()\n",
    "test_labels = mnist.test_labels()"
   ]
  },
  {
   "cell_type": "code",
   "execution_count": 8,
   "id": "fc38cf1b",
   "metadata": {
    "execution": {
     "iopub.execute_input": "2022-02-21T10:09:20.130696Z",
     "iopub.status.busy": "2022-02-21T10:09:20.129659Z",
     "iopub.status.idle": "2022-02-21T10:09:20.141944Z",
     "shell.execute_reply": "2022-02-21T10:09:20.141455Z"
    },
    "papermill": {
     "duration": 0.041066,
     "end_time": "2022-02-21T10:09:20.142057",
     "exception": false,
     "start_time": "2022-02-21T10:09:20.100991",
     "status": "completed"
    },
    "tags": []
   },
   "outputs": [
    {
     "data": {
      "text/plain": [
       "((10000, 28, 28), (10000,))"
      ]
     },
     "execution_count": 8,
     "metadata": {},
     "output_type": "execute_result"
    }
   ],
   "source": [
    "test_images.shape, test_labels.shape"
   ]
  },
  {
   "cell_type": "code",
   "execution_count": 9,
   "id": "f9ed8fe0",
   "metadata": {
    "execution": {
     "iopub.execute_input": "2022-02-21T10:09:20.195411Z",
     "iopub.status.busy": "2022-02-21T10:09:20.194898Z",
     "iopub.status.idle": "2022-02-21T10:09:20.340858Z",
     "shell.execute_reply": "2022-02-21T10:09:20.341309Z"
    },
    "papermill": {
     "duration": 0.174048,
     "end_time": "2022-02-21T10:09:20.341460",
     "exception": false,
     "start_time": "2022-02-21T10:09:20.167412",
     "status": "completed"
    },
    "tags": []
   },
   "outputs": [
    {
     "name": "stdout",
     "output_type": "stream",
     "text": [
      "2\n"
     ]
    },
    {
     "data": {
      "text/plain": [
       "<matplotlib.image.AxesImage at 0x7f8b244d55c0>"
      ]
     },
     "execution_count": 9,
     "metadata": {},
     "output_type": "execute_result"
    },
    {
     "data": {
      "image/png": "[encoded data removed]",
      "text/plain": [
       "<Figure size 432x288 with 1 Axes>"
      ]
     },
     "metadata": {
      "needs_background": "light"
     },
     "output_type": "display_data"
    }
   ],
   "source": [
    "image_index = 7776 # You may select anything up to 60,000\n",
    "print(train_labels[image_index]) \n",
    "plt.imshow(train_images[image_index], cmap='Greys')"
   ]
  },
  {
   "cell_type": "markdown",
   "id": "a8d2388d",
   "metadata": {
    "papermill": {
     "duration": 0.027172,
     "end_time": "2022-02-21T10:09:20.395869",
     "exception": false,
     "start_time": "2022-02-21T10:09:20.368697",
     "status": "completed"
    },
    "tags": []
   },
   "source": [
    "## Filter data to get 3 and 8 out"
   ]
  },
  {
   "cell_type": "code",
   "execution_count": 10,
   "id": "776f7fc7",
   "metadata": {
    "execution": {
     "iopub.execute_input": "2022-02-21T10:09:20.455942Z",
     "iopub.status.busy": "2022-02-21T10:09:20.455428Z",
     "iopub.status.idle": "2022-02-21T10:09:20.476669Z",
     "shell.execute_reply": "2022-02-21T10:09:20.476119Z"
    },
    "papermill": {
     "duration": 0.0535,
     "end_time": "2022-02-21T10:09:20.476796",
     "exception": false,
     "start_time": "2022-02-21T10:09:20.423296",
     "status": "completed"
    },
    "tags": []
   },
   "outputs": [],
   "source": [
    "train_filter = np.where((train_labels == 3 ) | (train_labels == 8))\n",
    "test_filter = np.where((test_labels == 3) | (test_labels == 8))\n",
    "X_train, y_train = train_images[train_filter], train_labels[train_filter]\n",
    "X_test, y_test = test_images[test_filter], test_labels[test_filter]"
   ]
  },
  {
   "cell_type": "markdown",
   "id": "948f0b7e",
   "metadata": {
    "papermill": {
     "duration": 0.026765,
     "end_time": "2022-02-21T10:09:20.531407",
     "exception": false,
     "start_time": "2022-02-21T10:09:20.504642",
     "status": "completed"
    },
    "tags": []
   },
   "source": [
    "We normalize the pizel values in the 0 to 1 range"
   ]
  },
  {
   "cell_type": "code",
   "execution_count": 11,
   "id": "ee4c2166",
   "metadata": {
    "execution": {
     "iopub.execute_input": "2022-02-21T10:09:20.590235Z",
     "iopub.status.busy": "2022-02-21T10:09:20.589630Z",
     "iopub.status.idle": "2022-02-21T10:09:20.641705Z",
     "shell.execute_reply": "2022-02-21T10:09:20.640787Z"
    },
    "papermill": {
     "duration": 0.084366,
     "end_time": "2022-02-21T10:09:20.641915",
     "exception": false,
     "start_time": "2022-02-21T10:09:20.557549",
     "status": "completed"
    },
    "tags": []
   },
   "outputs": [],
   "source": [
    "X_train = X_train/255.\n",
    "X_test = X_test/255."
   ]
  },
  {
   "cell_type": "markdown",
   "id": "ddcf4fab",
   "metadata": {
    "papermill": {
     "duration": 0.026412,
     "end_time": "2022-02-21T10:09:20.694819",
     "exception": false,
     "start_time": "2022-02-21T10:09:20.668407",
     "status": "completed"
    },
    "tags": []
   },
   "source": [
    "And setup the labels as 1 (when the digit is 3) and 0 (when the digit is 8)"
   ]
  },
  {
   "cell_type": "code",
   "execution_count": 12,
   "id": "7dc908f2",
   "metadata": {
    "execution": {
     "iopub.execute_input": "2022-02-21T10:09:20.749973Z",
     "iopub.status.busy": "2022-02-21T10:09:20.749478Z",
     "iopub.status.idle": "2022-02-21T10:09:20.763683Z",
     "shell.execute_reply": "2022-02-21T10:09:20.763209Z"
    },
    "papermill": {
     "duration": 0.042523,
     "end_time": "2022-02-21T10:09:20.763794",
     "exception": false,
     "start_time": "2022-02-21T10:09:20.721271",
     "status": "completed"
    },
    "tags": []
   },
   "outputs": [],
   "source": [
    "y_train = 1*(y_train==3)\n",
    "y_test = 1*(y_test==3)"
   ]
  },
  {
   "cell_type": "code",
   "execution_count": 13,
   "id": "01e4e969",
   "metadata": {
    "execution": {
     "iopub.execute_input": "2022-02-21T10:09:20.821866Z",
     "iopub.status.busy": "2022-02-21T10:09:20.821345Z",
     "iopub.status.idle": "2022-02-21T10:09:20.835776Z",
     "shell.execute_reply": "2022-02-21T10:09:20.835296Z"
    },
    "papermill": {
     "duration": 0.047167,
     "end_time": "2022-02-21T10:09:20.835891",
     "exception": false,
     "start_time": "2022-02-21T10:09:20.788724",
     "status": "completed"
    },
    "tags": []
   },
   "outputs": [
    {
     "data": {
      "text/plain": [
       "((11982, 28, 28), (1984, 28, 28))"
      ]
     },
     "execution_count": 13,
     "metadata": {},
     "output_type": "execute_result"
    }
   ],
   "source": [
    "X_train.shape, X_test.shape"
   ]
  },
  {
   "cell_type": "markdown",
   "id": "5ccf3f85",
   "metadata": {
    "papermill": {
     "duration": 0.024958,
     "end_time": "2022-02-21T10:09:20.887794",
     "exception": false,
     "start_time": "2022-02-21T10:09:20.862836",
     "status": "completed"
    },
    "tags": []
   },
   "source": [
    "We reshape the data to flatten the image pixels into a set of features or co-variates:"
   ]
  },
  {
   "cell_type": "code",
   "execution_count": 14,
   "id": "5286a4a3",
   "metadata": {
    "execution": {
     "iopub.execute_input": "2022-02-21T10:09:20.947767Z",
     "iopub.status.busy": "2022-02-21T10:09:20.947257Z",
     "iopub.status.idle": "2022-02-21T10:09:20.961414Z",
     "shell.execute_reply": "2022-02-21T10:09:20.960946Z"
    },
    "papermill": {
     "duration": 0.046536,
     "end_time": "2022-02-21T10:09:20.961524",
     "exception": false,
     "start_time": "2022-02-21T10:09:20.914988",
     "status": "completed"
    },
    "tags": []
   },
   "outputs": [
    {
     "data": {
      "text/plain": [
       "((11982, 784), (1984, 784))"
      ]
     },
     "execution_count": 14,
     "metadata": {},
     "output_type": "execute_result"
    }
   ],
   "source": [
    "X_train = X_train.reshape(X_train.shape[0], -1)\n",
    "X_test = X_test.reshape(X_test.shape[0], -1)\n",
    "X_train.shape, X_test.shape"
   ]
  },
  {
   "cell_type": "code",
   "execution_count": 15,
   "id": "73c5f88a",
   "metadata": {
    "execution": {
     "iopub.execute_input": "2022-02-21T10:09:21.020340Z",
     "iopub.status.busy": "2022-02-21T10:09:21.019792Z",
     "iopub.status.idle": "2022-02-21T10:09:21.037800Z",
     "shell.execute_reply": "2022-02-21T10:09:21.038213Z"
    },
    "papermill": {
     "duration": 0.049873,
     "end_time": "2022-02-21T10:09:21.038340",
     "exception": false,
     "start_time": "2022-02-21T10:09:20.988467",
     "status": "completed"
    },
    "tags": []
   },
   "outputs": [],
   "source": [
    "#Impoting functions from 'Kudzu'\n",
    "from kudzu.model import Model\n",
    "from kudzu.train import Learner\n",
    "from kudzu.optim import GD\n",
    "from kudzu.data import Data, Sampler,Dataloader\n",
    "\n",
    "from kudzu.callbacks import AccCallback\n",
    "from kudzu.callbacks import ClfCallback\n",
    "\n",
    "from kudzu.loss import MSE\n",
    "\n",
    "from kudzu.layer import Sigmoid,Relu\n",
    "from kudzu.layer import Affine"
   ]
  },
  {
   "cell_type": "markdown",
   "id": "bc01172a",
   "metadata": {
    "papermill": {
     "duration": 0.025588,
     "end_time": "2022-02-21T10:09:21.091701",
     "exception": false,
     "start_time": "2022-02-21T10:09:21.066113",
     "status": "completed"
    },
    "tags": []
   },
   "source": [
    "### Let us create a `Config` class, to store important parameters. \n",
    "This class essentially plays the role of a dictionary."
   ]
  },
  {
   "cell_type": "code",
   "execution_count": 16,
   "id": "978281aa",
   "metadata": {
    "execution": {
     "iopub.execute_input": "2022-02-21T10:09:21.148059Z",
     "iopub.status.busy": "2022-02-21T10:09:21.147492Z",
     "iopub.status.idle": "2022-02-21T10:09:21.160895Z",
     "shell.execute_reply": "2022-02-21T10:09:21.160452Z"
    },
    "papermill": {
     "duration": 0.043755,
     "end_time": "2022-02-21T10:09:21.161005",
     "exception": false,
     "start_time": "2022-02-21T10:09:21.117250",
     "status": "completed"
    },
    "tags": []
   },
   "outputs": [],
   "source": [
    "class Config:\n",
    "    pass\n",
    "config = Config()\n",
    "config.lr = 0.001\n",
    "config.num_epochs = 250\n",
    "config.bs = 50"
   ]
  },
  {
   "cell_type": "markdown",
   "id": "1385fa59",
   "metadata": {
    "papermill": {
     "duration": 0.027231,
     "end_time": "2022-02-21T10:09:21.215234",
     "exception": false,
     "start_time": "2022-02-21T10:09:21.188003",
     "status": "completed"
    },
    "tags": []
   },
   "source": [
    "### Running Models with the Training data\n",
    "Details about the network layers:\n",
    "- A first affine layer has 784 inputs and does 100 affine transforms. These are followed by a Relu\n",
    "- A second affine layer has 100 inputs from the 100 activations of the past layer, and does 100 affine transforms. These are followed by a Relu\n",
    "- A third affine layer has 100 activations and does 2 affine transformations to create an embedding for visualization. There is no non-linearity here.\n",
    "- A final \"logistic regression\" which has an affine transform from 2 inputs to 1 output, which is squeezed through a sigmoid.\n"
   ]
  },
  {
   "cell_type": "code",
   "execution_count": 17,
   "id": "2b9c66db",
   "metadata": {
    "execution": {
     "iopub.execute_input": "2022-02-21T10:09:21.274038Z",
     "iopub.status.busy": "2022-02-21T10:09:21.273552Z",
     "iopub.status.idle": "2022-02-21T10:09:21.284680Z",
     "shell.execute_reply": "2022-02-21T10:09:21.284269Z"
    },
    "papermill": {
     "duration": 0.043316,
     "end_time": "2022-02-21T10:09:21.284774",
     "exception": false,
     "start_time": "2022-02-21T10:09:21.241458",
     "status": "completed"
    },
    "tags": []
   },
   "outputs": [],
   "source": [
    "data = Data(X_train, y_train.reshape(-1,1))\n",
    "sampler = Sampler(data, config.bs, shuffle=True)\n",
    "\n",
    "dl = Dataloader(data, sampler)\n",
    "\n",
    "opt = GD(config.lr)\n",
    "loss = MSE()"
   ]
  },
  {
   "cell_type": "code",
   "execution_count": 18,
   "id": "b275e4c2",
   "metadata": {
    "execution": {
     "iopub.execute_input": "2022-02-21T10:09:21.343438Z",
     "iopub.status.busy": "2022-02-21T10:09:21.342876Z",
     "iopub.status.idle": "2022-02-21T10:09:21.355239Z",
     "shell.execute_reply": "2022-02-21T10:09:21.354820Z"
    },
    "papermill": {
     "duration": 0.044185,
     "end_time": "2022-02-21T10:09:21.355334",
     "exception": false,
     "start_time": "2022-02-21T10:09:21.311149",
     "status": "completed"
    },
    "tags": []
   },
   "outputs": [],
   "source": [
    "training_data_x = X_train\n",
    "testing_data_x = X_test\n",
    "training_data_y = y_train.reshape(-1,1)\n",
    "testing_data_y = y_test.reshape(-1,1)"
   ]
  },
  {
   "cell_type": "code",
   "execution_count": 19,
   "id": "76951160",
   "metadata": {
    "execution": {
     "iopub.execute_input": "2022-02-21T10:09:21.412027Z",
     "iopub.status.busy": "2022-02-21T10:09:21.411543Z",
     "iopub.status.idle": "2022-02-21T10:09:21.429195Z",
     "shell.execute_reply": "2022-02-21T10:09:21.428717Z"
    },
    "papermill": {
     "duration": 0.048928,
     "end_time": "2022-02-21T10:09:21.429341",
     "exception": false,
     "start_time": "2022-02-21T10:09:21.380413",
     "status": "completed"
    },
    "tags": []
   },
   "outputs": [
    {
     "name": "stdout",
     "output_type": "stream",
     "text": [
      "xavier\n",
      "xavier\n",
      "xavier\n",
      "xavier\n",
      "xavier\n"
     ]
    }
   ],
   "source": [
    "layers = [Affine(\"first\", 784, 100), Relu(\"first\"), Affine(\"second\", 100, 100), Relu(\"second\"), Affine(\"third\", 100, 2), Affine(\"last\", 2, 1), Sigmoid(\"last\")]\n",
    "model_nn = Model(layers)\n",
    "model_lr = Model([Affine(\"logits\", 784, 1), Sigmoid(\"sigmoid\")])"
   ]
  },
  {
   "cell_type": "code",
   "execution_count": 20,
   "id": "6eede77a",
   "metadata": {
    "execution": {
     "iopub.execute_input": "2022-02-21T10:09:21.487593Z",
     "iopub.status.busy": "2022-02-21T10:09:21.487072Z",
     "iopub.status.idle": "2022-02-21T10:09:21.499807Z",
     "shell.execute_reply": "2022-02-21T10:09:21.500214Z"
    },
    "papermill": {
     "duration": 0.043843,
     "end_time": "2022-02-21T10:09:21.500334",
     "exception": false,
     "start_time": "2022-02-21T10:09:21.456491",
     "status": "completed"
    },
    "tags": []
   },
   "outputs": [],
   "source": [
    "nn_learner = Learner(loss, model_nn, opt, config.num_epochs)\n",
    "acc_nn = ClfCallback(nn_learner, config.bs, training_data_x , testing_data_x, training_data_y, testing_data_y)\n",
    "nn_learner.set_callbacks([acc_nn])"
   ]
  },
  {
   "cell_type": "code",
   "execution_count": 21,
   "id": "877b6cc7",
   "metadata": {
    "execution": {
     "iopub.execute_input": "2022-02-21T10:09:21.558231Z",
     "iopub.status.busy": "2022-02-21T10:09:21.557718Z",
     "iopub.status.idle": "2022-02-21T10:09:21.569650Z",
     "shell.execute_reply": "2022-02-21T10:09:21.569263Z"
    },
    "papermill": {
     "duration": 0.042035,
     "end_time": "2022-02-21T10:09:21.569748",
     "exception": false,
     "start_time": "2022-02-21T10:09:21.527713",
     "status": "completed"
    },
    "tags": []
   },
   "outputs": [],
   "source": [
    "lr_learner = Learner(loss, model_lr, opt, config.num_epochs)\n",
    "acc_lr = ClfCallback(lr_learner, config.bs, training_data_x , testing_data_x, training_data_y, testing_data_y)\n",
    "lr_learner.set_callbacks([acc_lr])"
   ]
  },
  {
   "cell_type": "code",
   "execution_count": 22,
   "id": "d9b133c3",
   "metadata": {
    "execution": {
     "iopub.execute_input": "2022-02-21T10:09:21.626195Z",
     "iopub.status.busy": "2022-02-21T10:09:21.625607Z",
     "iopub.status.idle": "2022-02-21T10:10:42.054627Z",
     "shell.execute_reply": "2022-02-21T10:10:42.055473Z"
    },
    "papermill": {
     "duration": 80.460053,
     "end_time": "2022-02-21T10:10:42.055638",
     "exception": false,
     "start_time": "2022-02-21T10:09:21.595585",
     "status": "completed"
    },
    "tags": []
   },
   "outputs": [
    {
     "name": "stdout",
     "output_type": "stream",
     "text": [
      "Epoch 0, Loss 0.2433\n",
      "Training Accuracy: 0.6305, Testing Accuracy: 0.6396\n",
      "\n"
     ]
    },
    {
     "name": "stdout",
     "output_type": "stream",
     "text": [
      "Epoch 10, Loss 0.0939\n",
      "Training Accuracy: 0.9065, Testing Accuracy: 0.9153\n",
      "\n"
     ]
    },
    {
     "name": "stdout",
     "output_type": "stream",
     "text": [
      "Epoch 20, Loss 0.0585\n",
      "Training Accuracy: 0.9368, Testing Accuracy: 0.9471\n",
      "\n"
     ]
    },
    {
     "name": "stdout",
     "output_type": "stream",
     "text": [
      "Epoch 30, Loss 0.0457\n",
      "Training Accuracy: 0.9498, Testing Accuracy: 0.9531\n",
      "\n"
     ]
    },
    {
     "name": "stdout",
     "output_type": "stream",
     "text": [
      "Epoch 40, Loss 0.0391\n",
      "Training Accuracy: 0.9566, Testing Accuracy: 0.9602\n",
      "\n"
     ]
    },
    {
     "name": "stdout",
     "output_type": "stream",
     "text": [
      "Epoch 50, Loss 0.0351\n",
      "Training Accuracy: 0.9603, Testing Accuracy: 0.9627\n",
      "\n"
     ]
    },
    {
     "name": "stdout",
     "output_type": "stream",
     "text": [
      "Epoch 60, Loss 0.0324\n",
      "Training Accuracy: 0.9626, Testing Accuracy: 0.9627\n",
      "\n"
     ]
    },
    {
     "name": "stdout",
     "output_type": "stream",
     "text": [
      "Epoch 70, Loss 0.0303\n",
      "Training Accuracy: 0.9642, Testing Accuracy: 0.9637\n",
      "\n"
     ]
    },
    {
     "name": "stdout",
     "output_type": "stream",
     "text": [
      "Epoch 80, Loss 0.0287\n",
      "Training Accuracy: 0.9660, Testing Accuracy: 0.9672\n",
      "\n"
     ]
    },
    {
     "name": "stdout",
     "output_type": "stream",
     "text": [
      "Epoch 90, Loss 0.0274\n",
      "Training Accuracy: 0.9675, Testing Accuracy: 0.9672\n",
      "\n"
     ]
    },
    {
     "name": "stdout",
     "output_type": "stream",
     "text": [
      "Epoch 100, Loss 0.0263\n",
      "Training Accuracy: 0.9694, Testing Accuracy: 0.9703\n",
      "\n"
     ]
    },
    {
     "name": "stdout",
     "output_type": "stream",
     "text": [
      "Epoch 110, Loss 0.0254\n",
      "Training Accuracy: 0.9706, Testing Accuracy: 0.9708\n",
      "\n"
     ]
    },
    {
     "name": "stdout",
     "output_type": "stream",
     "text": [
      "Epoch 120, Loss 0.0246\n",
      "Training Accuracy: 0.9714, Testing Accuracy: 0.9708\n",
      "\n"
     ]
    },
    {
     "name": "stdout",
     "output_type": "stream",
     "text": [
      "Epoch 130, Loss 0.0238\n",
      "Training Accuracy: 0.9722, Testing Accuracy: 0.9713\n",
      "\n"
     ]
    },
    {
     "name": "stdout",
     "output_type": "stream",
     "text": [
      "Epoch 140, Loss 0.0231\n",
      "Training Accuracy: 0.9728, Testing Accuracy: 0.9708\n",
      "\n"
     ]
    },
    {
     "name": "stdout",
     "output_type": "stream",
     "text": [
      "Epoch 150, Loss 0.0225\n",
      "Training Accuracy: 0.9737, Testing Accuracy: 0.9708\n",
      "\n"
     ]
    },
    {
     "name": "stdout",
     "output_type": "stream",
     "text": [
      "Epoch 160, Loss 0.0219\n",
      "Training Accuracy: 0.9747, Testing Accuracy: 0.9718\n",
      "\n"
     ]
    },
    {
     "name": "stdout",
     "output_type": "stream",
     "text": [
      "Epoch 170, Loss 0.0214\n",
      "Training Accuracy: 0.9755, Testing Accuracy: 0.9723\n",
      "\n"
     ]
    },
    {
     "name": "stdout",
     "output_type": "stream",
     "text": [
      "Epoch 180, Loss 0.0209\n",
      "Training Accuracy: 0.9759, Testing Accuracy: 0.9718\n",
      "\n"
     ]
    },
    {
     "name": "stdout",
     "output_type": "stream",
     "text": [
      "Epoch 190, Loss 0.0204\n",
      "Training Accuracy: 0.9767, Testing Accuracy: 0.9718\n",
      "\n"
     ]
    },
    {
     "name": "stdout",
     "output_type": "stream",
     "text": [
      "Epoch 200, Loss 0.0199\n",
      "Training Accuracy: 0.9775, Testing Accuracy: 0.9718\n",
      "\n"
     ]
    },
    {
     "name": "stdout",
     "output_type": "stream",
     "text": [
      "Epoch 210, Loss 0.0195\n",
      "Training Accuracy: 0.9782, Testing Accuracy: 0.9733\n",
      "\n"
     ]
    },
    {
     "name": "stdout",
     "output_type": "stream",
     "text": [
      "Epoch 220, Loss 0.0191\n",
      "Training Accuracy: 0.9789, Testing Accuracy: 0.9733\n",
      "\n"
     ]
    },
    {
     "name": "stdout",
     "output_type": "stream",
     "text": [
      "Epoch 230, Loss 0.0186\n",
      "Training Accuracy: 0.9798, Testing Accuracy: 0.9738\n",
      "\n"
     ]
    },
    {
     "name": "stdout",
     "output_type": "stream",
     "text": [
      "Epoch 240, Loss 0.0182\n",
      "Training Accuracy: 0.9803, Testing Accuracy: 0.9733\n",
      "\n"
     ]
    },
    {
     "data": {
      "text/plain": [
       "0.002531300390144803"
      ]
     },
     "execution_count": 22,
     "metadata": {},
     "output_type": "execute_result"
    }
   ],
   "source": [
    "nn_learner.train_loop(dl)"
   ]
  },
  {
   "cell_type": "code",
   "execution_count": 23,
   "id": "e0163366",
   "metadata": {
    "execution": {
     "iopub.execute_input": "2022-02-21T10:10:42.140836Z",
     "iopub.status.busy": "2022-02-21T10:10:42.140240Z",
     "iopub.status.idle": "2022-02-21T10:10:56.577881Z",
     "shell.execute_reply": "2022-02-21T10:10:56.578734Z"
    },
    "papermill": {
     "duration": 14.485266,
     "end_time": "2022-02-21T10:10:56.578913",
     "exception": false,
     "start_time": "2022-02-21T10:10:42.093647",
     "status": "completed"
    },
    "tags": []
   },
   "outputs": [
    {
     "name": "stdout",
     "output_type": "stream",
     "text": [
      "Epoch 0, Loss 0.2164\n",
      "Training Accuracy: 0.7607, Testing Accuracy: 0.7520\n",
      "\n"
     ]
    },
    {
     "name": "stdout",
     "output_type": "stream",
     "text": [
      "Epoch 10, Loss 0.1032\n",
      "Training Accuracy: 0.9035, Testing Accuracy: 0.9128\n",
      "\n"
     ]
    },
    {
     "name": "stdout",
     "output_type": "stream",
     "text": [
      "Epoch 20, Loss 0.08\n",
      "Training Accuracy: 0.9246, Testing Accuracy: 0.9380\n",
      "\n"
     ]
    },
    {
     "name": "stdout",
     "output_type": "stream",
     "text": [
      "Epoch 30, Loss 0.069\n",
      "Training Accuracy: 0.9351, Testing Accuracy: 0.9425\n",
      "\n"
     ]
    },
    {
     "name": "stdout",
     "output_type": "stream",
     "text": [
      "Epoch 40, Loss 0.0623\n",
      "Training Accuracy: 0.9407, Testing Accuracy: 0.9496\n",
      "\n"
     ]
    },
    {
     "name": "stdout",
     "output_type": "stream",
     "text": [
      "Epoch 50, Loss 0.0577\n",
      "Training Accuracy: 0.9439, Testing Accuracy: 0.9536\n",
      "\n"
     ]
    },
    {
     "name": "stdout",
     "output_type": "stream",
     "text": [
      "Epoch 60, Loss 0.0543\n",
      "Training Accuracy: 0.9464, Testing Accuracy: 0.9556\n",
      "\n"
     ]
    },
    {
     "name": "stdout",
     "output_type": "stream",
     "text": [
      "Epoch 70, Loss 0.0517\n",
      "Training Accuracy: 0.9483, Testing Accuracy: 0.9587\n",
      "\n"
     ]
    },
    {
     "name": "stdout",
     "output_type": "stream",
     "text": [
      "Epoch 80, Loss 0.0496\n",
      "Training Accuracy: 0.9503, Testing Accuracy: 0.9607\n",
      "\n"
     ]
    },
    {
     "name": "stdout",
     "output_type": "stream",
     "text": [
      "Epoch 90, Loss 0.0479\n",
      "Training Accuracy: 0.9520, Testing Accuracy: 0.9617\n",
      "\n"
     ]
    },
    {
     "name": "stdout",
     "output_type": "stream",
     "text": [
      "Epoch 100, Loss 0.0464\n",
      "Training Accuracy: 0.9532, Testing Accuracy: 0.9622\n",
      "\n"
     ]
    },
    {
     "name": "stdout",
     "output_type": "stream",
     "text": [
      "Epoch 110, Loss 0.0451\n",
      "Training Accuracy: 0.9538, Testing Accuracy: 0.9637\n",
      "\n"
     ]
    },
    {
     "name": "stdout",
     "output_type": "stream",
     "text": [
      "Epoch 120, Loss 0.044\n",
      "Training Accuracy: 0.9548, Testing Accuracy: 0.9647\n",
      "\n"
     ]
    },
    {
     "name": "stdout",
     "output_type": "stream",
     "text": [
      "Epoch 130, Loss 0.0431\n",
      "Training Accuracy: 0.9555, Testing Accuracy: 0.9662\n",
      "\n"
     ]
    },
    {
     "name": "stdout",
     "output_type": "stream",
     "text": [
      "Epoch 140, Loss 0.0422\n",
      "Training Accuracy: 0.9561, Testing Accuracy: 0.9662\n",
      "\n"
     ]
    },
    {
     "name": "stdout",
     "output_type": "stream",
     "text": [
      "Epoch 150, Loss 0.0415\n",
      "Training Accuracy: 0.9577, Testing Accuracy: 0.9672\n",
      "\n"
     ]
    },
    {
     "name": "stdout",
     "output_type": "stream",
     "text": [
      "Epoch 160, Loss 0.0408\n",
      "Training Accuracy: 0.9581, Testing Accuracy: 0.9672\n",
      "\n"
     ]
    },
    {
     "name": "stdout",
     "output_type": "stream",
     "text": [
      "Epoch 170, Loss 0.0401\n",
      "Training Accuracy: 0.9585, Testing Accuracy: 0.9667\n",
      "\n"
     ]
    },
    {
     "name": "stdout",
     "output_type": "stream",
     "text": [
      "Epoch 180, Loss 0.0396\n",
      "Training Accuracy: 0.9586, Testing Accuracy: 0.9662\n",
      "\n"
     ]
    },
    {
     "name": "stdout",
     "output_type": "stream",
     "text": [
      "Epoch 190, Loss 0.039\n",
      "Training Accuracy: 0.9590, Testing Accuracy: 0.9662\n",
      "\n"
     ]
    },
    {
     "name": "stdout",
     "output_type": "stream",
     "text": [
      "Epoch 200, Loss 0.0385\n",
      "Training Accuracy: 0.9594, Testing Accuracy: 0.9667\n",
      "\n"
     ]
    },
    {
     "name": "stdout",
     "output_type": "stream",
     "text": [
      "Epoch 210, Loss 0.0381\n",
      "Training Accuracy: 0.9597, Testing Accuracy: 0.9667\n",
      "\n"
     ]
    },
    {
     "name": "stdout",
     "output_type": "stream",
     "text": [
      "Epoch 220, Loss 0.0377\n",
      "Training Accuracy: 0.9600, Testing Accuracy: 0.9667\n",
      "\n"
     ]
    },
    {
     "name": "stdout",
     "output_type": "stream",
     "text": [
      "Epoch 230, Loss 0.0373\n",
      "Training Accuracy: 0.9604, Testing Accuracy: 0.9667\n",
      "\n"
     ]
    },
    {
     "name": "stdout",
     "output_type": "stream",
     "text": [
      "Epoch 240, Loss 0.0369\n",
      "Training Accuracy: 0.9606, Testing Accuracy: 0.9667\n",
      "\n"
     ]
    },
    {
     "data": {
      "text/plain": [
       "0.05573708260673831"
      ]
     },
     "execution_count": 23,
     "metadata": {},
     "output_type": "execute_result"
    }
   ],
   "source": [
    "lr_learner.train_loop(dl)"
   ]
  },
  {
   "cell_type": "code",
   "execution_count": 24,
   "id": "ca410940",
   "metadata": {
    "execution": {
     "iopub.execute_input": "2022-02-21T10:10:56.676383Z",
     "iopub.status.busy": "2022-02-21T10:10:56.675816Z",
     "iopub.status.idle": "2022-02-21T10:10:56.922141Z",
     "shell.execute_reply": "2022-02-21T10:10:56.922654Z"
    },
    "papermill": {
     "duration": 0.300252,
     "end_time": "2022-02-21T10:10:56.922833",
     "exception": false,
     "start_time": "2022-02-21T10:10:56.622581",
     "status": "completed"
    },
    "tags": []
   },
   "outputs": [
    {
     "data": {
      "text/plain": [
       "<matplotlib.legend.Legend at 0x7f8b240b0cc0>"
      ]
     },
     "execution_count": 24,
     "metadata": {},
     "output_type": "execute_result"
    },
    {
     "data": {
      "image/png": "[encoded data removed]",
      "text/plain": [
       "<Figure size 1080x720 with 1 Axes>"
      ]
     },
     "metadata": {
      "needs_background": "light"
     },
     "output_type": "display_data"
    }
   ],
   "source": [
    "#comparing the results of NN and LR\n",
    "plt.figure(figsize=(15,10))\n",
    "\n",
    "# Neural Network plots\n",
    "plt.plot(acc_nn.accuracies, 'r-', label = \"Training Accuracies - NN\")\n",
    "plt.plot(acc_nn.test_accuracies, 'g-', label = \"Testing Accuracies - NN\")\n",
    "\n",
    "# Logistic Regression plots\n",
    "plt.plot(acc_lr.accuracies, 'k-', label = \"Training Accuracies - LR\")\n",
    "plt.plot(acc_lr.test_accuracies, 'b-', label = \"Testing Accuracies - LR\")\n",
    "plt.legend()"
   ]
  },
  {
   "cell_type": "markdown",
   "id": "80dfb35c",
   "metadata": {
    "papermill": {
     "duration": 0.045959,
     "end_time": "2022-02-21T10:10:57.014657",
     "exception": false,
     "start_time": "2022-02-21T10:10:56.968698",
     "status": "completed"
    },
    "tags": []
   },
   "source": [
    "#### Plotting the outputs of this layer of the NN.\n"
   ]
  },
  {
   "cell_type": "code",
   "execution_count": 25,
   "id": "45eb2ff5",
   "metadata": {
    "execution": {
     "iopub.execute_input": "2022-02-21T10:10:57.109830Z",
     "iopub.status.busy": "2022-02-21T10:10:57.109227Z",
     "iopub.status.idle": "2022-02-21T10:10:57.128647Z",
     "shell.execute_reply": "2022-02-21T10:10:57.129165Z"
    },
    "papermill": {
     "duration": 0.071437,
     "end_time": "2022-02-21T10:10:57.129325",
     "exception": false,
     "start_time": "2022-02-21T10:10:57.057888",
     "status": "completed"
    },
    "tags": []
   },
   "outputs": [],
   "source": [
    "new_model = Model(layers[:-2])\n",
    "testing_plot = new_model(testing_data_x)"
   ]
  },
  {
   "cell_type": "code",
   "execution_count": 26,
   "id": "4c0a5485",
   "metadata": {
    "execution": {
     "iopub.execute_input": "2022-02-21T10:10:57.233963Z",
     "iopub.status.busy": "2022-02-21T10:10:57.231664Z",
     "iopub.status.idle": "2022-02-21T10:10:57.446125Z",
     "shell.execute_reply": "2022-02-21T10:10:57.445619Z"
    },
    "papermill": {
     "duration": 0.269597,
     "end_time": "2022-02-21T10:10:57.446239",
     "exception": false,
     "start_time": "2022-02-21T10:10:57.176642",
     "status": "completed"
    },
    "tags": []
   },
   "outputs": [
    {
     "data": {
      "text/plain": [
       "Text(0.5, 1.0, 'Outputs')"
      ]
     },
     "execution_count": 26,
     "metadata": {},
     "output_type": "execute_result"
    },
    {
     "data": {
      "image/png": "[encoded data removed]",
      "text/plain": [
       "<Figure size 576x504 with 1 Axes>"
      ]
     },
     "metadata": {
      "needs_background": "light"
     },
     "output_type": "display_data"
    }
   ],
   "source": [
    "# Plotting the scatter plot of points and color coding by class\n",
    "plt.figure(figsize=(8,7))\n",
    "plt.scatter(testing_plot[:,0], testing_plot[:,1], alpha = 0.1, c = y_test.ravel());\n",
    "plt.title('Outputs')"
   ]
  },
  {
   "cell_type": "markdown",
   "id": "a74fcf8f",
   "metadata": {
    "papermill": {
     "duration": 0.044216,
     "end_time": "2022-02-21T10:10:57.535905",
     "exception": false,
     "start_time": "2022-02-21T10:10:57.491689",
     "status": "completed"
    },
    "tags": []
   },
   "source": [
    "Probability contours"
   ]
  },
  {
   "cell_type": "code",
   "execution_count": 27,
   "id": "d0afc8e3",
   "metadata": {
    "execution": {
     "iopub.execute_input": "2022-02-21T10:10:57.632367Z",
     "iopub.status.busy": "2022-02-21T10:10:57.631317Z",
     "iopub.status.idle": "2022-02-21T10:10:57.642842Z",
     "shell.execute_reply": "2022-02-21T10:10:57.643322Z"
    },
    "papermill": {
     "duration": 0.061506,
     "end_time": "2022-02-21T10:10:57.643475",
     "exception": false,
     "start_time": "2022-02-21T10:10:57.581969",
     "status": "completed"
    },
    "tags": []
   },
   "outputs": [],
   "source": [
    "model_prob = Model(layers[-2:]) "
   ]
  },
  {
   "cell_type": "code",
   "execution_count": 28,
   "id": "9b96e238",
   "metadata": {
    "execution": {
     "iopub.execute_input": "2022-02-21T10:10:57.738081Z",
     "iopub.status.busy": "2022-02-21T10:10:57.737499Z",
     "iopub.status.idle": "2022-02-21T10:10:57.751607Z",
     "shell.execute_reply": "2022-02-21T10:10:57.751991Z"
    },
    "papermill": {
     "duration": 0.063059,
     "end_time": "2022-02-21T10:10:57.752111",
     "exception": false,
     "start_time": "2022-02-21T10:10:57.689052",
     "status": "completed"
    },
    "tags": []
   },
   "outputs": [],
   "source": [
    "#creating the x and y ranges according to the above generated plot.\n",
    "x_range = np.linspace(-4, 1, 100) \n",
    "y_range = np.linspace(-6, 6, 100) \n",
    "x_grid, y_grid = np.meshgrid(x_range, y_range) # x_grid and y_grig are of size 100 X 100\n",
    "\n",
    "# converting x_grid and y_grid to continuous arrays\n",
    "x_gridflat = np.ravel(x_grid)\n",
    "y_gridflat = np.ravel(y_grid)\n",
    "\n",
    "# The last layer of the current model takes two columns as input. Hence transpose of np.vstack() is required.\n",
    "X = np.vstack((x_gridflat, y_gridflat)).T\n",
    "\n",
    "prob_contour = model_prob(X).reshape(100,100) "
   ]
  },
  {
   "cell_type": "code",
   "execution_count": 29,
   "id": "da72499a",
   "metadata": {
    "execution": {
     "iopub.execute_input": "2022-02-21T10:10:57.880991Z",
     "iopub.status.busy": "2022-02-21T10:10:57.879824Z",
     "iopub.status.idle": "2022-02-21T10:10:58.148336Z",
     "shell.execute_reply": "2022-02-21T10:10:58.147872Z"
    },
    "papermill": {
     "duration": 0.349314,
     "end_time": "2022-02-21T10:10:58.148465",
     "exception": false,
     "start_time": "2022-02-21T10:10:57.799151",
     "status": "completed"
    },
    "tags": []
   },
   "outputs": [
    {
     "data": {
      "image/png": "[encoded data removed]",
      "text/plain": [
       "<Figure size 720x648 with 1 Axes>"
      ]
     },
     "metadata": {
      "needs_background": "light"
     },
     "output_type": "display_data"
    }
   ],
   "source": [
    "plt.figure(figsize=(10,9))\n",
    "plt.scatter(testing_plot[:,0], testing_plot[:,1], alpha = 0.1, c = y_test.ravel())\n",
    "contours = plt.contour(x_grid,y_grid,prob_contour)\n",
    "plt.title('Probability Contours')\n",
    "plt.clabel(contours, inline = True );"
   ]
  },
  {
   "cell_type": "code",
   "execution_count": null,
   "id": "e81b4ac7",
   "metadata": {
    "papermill": {
     "duration": 0.048794,
     "end_time": "2022-02-21T10:10:58.248426",
     "exception": false,
     "start_time": "2022-02-21T10:10:58.199632",
     "status": "completed"
    },
    "tags": []
   },
   "outputs": [],
   "source": []
  }
 ],
 "metadata": {
  "kernelspec": {
   "display_name": "Python 3",
   "language": "python",
   "name": "python3"
  },
  "language_info": {
   "codemirror_mode": {
    "name": "ipython",
    "version": 3
   },
   "file_extension": ".py",
   "mimetype": "text/x-python",
   "name": "python",
   "nbconvert_exporter": "python",
   "pygments_lexer": "ipython3",
   "version": "3.6.15"
  },
  "papermill": {
   "default_parameters": {},
   "duration": 103.170966,
   "end_time": "2022-02-21T10:10:58.718432",
   "environment_variables": {},
   "exception": null,
   "input_path": "2020-08-11-part2.ipynb",
   "output_path": "2020-08-11-part2.ipynb",
   "parameters": {},
   "start_time": "2022-02-21T10:09:15.547466",
   "version": "2.3.3"
  }
 },
 "nbformat": 4,
 "nbformat_minor": 5
}