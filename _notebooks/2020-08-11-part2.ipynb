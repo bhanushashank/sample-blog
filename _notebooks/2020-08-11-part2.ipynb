{
 "cells": [
  {
   "cell_type": "markdown",
   "id": "98380cd3",
   "metadata": {
    "papermill": {
     "duration": 0.029448,
     "end_time": "2022-07-23T20:09:56.484135",
     "exception": false,
     "start_time": "2022-07-23T20:09:56.454687",
     "status": "completed"
    },
    "tags": []
   },
   "source": [
    "# Distinguish Your Own Digits (DYOD)"
   ]
  },
  {
   "cell_type": "markdown",
   "id": "ef31240d",
   "metadata": {
    "papermill": {
     "duration": 0.024324,
     "end_time": "2022-07-23T20:09:56.533247",
     "exception": false,
     "start_time": "2022-07-23T20:09:56.508923",
     "status": "completed"
    },
    "tags": []
   },
   "source": [
    "You are going to write a classifier that distinguishes between the number 3 and number 8."
   ]
  },
  {
   "cell_type": "code",
   "execution_count": 1,
   "id": "b15c8646",
   "metadata": {
    "execution": {
     "iopub.execute_input": "2022-07-23T20:09:56.591104Z",
     "iopub.status.busy": "2022-07-23T20:09:56.590536Z",
     "iopub.status.idle": "2022-07-23T20:09:56.602301Z",
     "shell.execute_reply": "2022-07-23T20:09:56.601839Z"
    },
    "papermill": {
     "duration": 0.045088,
     "end_time": "2022-07-23T20:09:56.602411",
     "exception": false,
     "start_time": "2022-07-23T20:09:56.557323",
     "status": "completed"
    },
    "tags": []
   },
   "outputs": [],
   "source": [
    "%load_ext autoreload\n",
    "%autoreload 2"
   ]
  },
  {
   "cell_type": "code",
   "execution_count": 2,
   "id": "22ef38dc",
   "metadata": {
    "execution": {
     "iopub.execute_input": "2022-07-23T20:09:56.654536Z",
     "iopub.status.busy": "2022-07-23T20:09:56.653961Z",
     "iopub.status.idle": "2022-07-23T20:09:57.164893Z",
     "shell.execute_reply": "2022-07-23T20:09:57.164368Z"
    },
    "papermill": {
     "duration": 0.538393,
     "end_time": "2022-07-23T20:09:57.165014",
     "exception": false,
     "start_time": "2022-07-23T20:09:56.626621",
     "status": "completed"
    },
    "tags": []
   },
   "outputs": [],
   "source": [
    "%matplotlib inline\n",
    "import numpy as np\n",
    "import matplotlib.pyplot as plt\n",
    "import pandas as pd"
   ]
  },
  {
   "cell_type": "markdown",
   "id": "ba036198",
   "metadata": {
    "papermill": {
     "duration": 0.028497,
     "end_time": "2022-07-23T20:09:57.217777",
     "exception": false,
     "start_time": "2022-07-23T20:09:57.189280",
     "status": "completed"
    },
    "tags": []
   },
   "source": [
    "From the command line run `pip install mnist`. This is a library that will help you bring down the mnist dataset. If you run this from a notebook, you need to put  `!pip install mnist` in a cell by itself."
   ]
  },
  {
   "cell_type": "code",
   "execution_count": 3,
   "id": "bb6ad8a1",
   "metadata": {
    "execution": {
     "iopub.execute_input": "2022-07-23T20:09:57.270135Z",
     "iopub.status.busy": "2022-07-23T20:09:57.269562Z",
     "iopub.status.idle": "2022-07-23T20:09:58.961092Z",
     "shell.execute_reply": "2022-07-23T20:09:58.960577Z"
    },
    "papermill": {
     "duration": 1.719159,
     "end_time": "2022-07-23T20:09:58.961205",
     "exception": false,
     "start_time": "2022-07-23T20:09:57.242046",
     "status": "completed"
    },
    "tags": []
   },
   "outputs": [
    {
     "name": "stdout",
     "output_type": "stream",
     "text": [
      "Collecting mnist\r\n"
     ]
    },
    {
     "name": "stdout",
     "output_type": "stream",
     "text": [
      "  Downloading mnist-0.2.2-py2.py3-none-any.whl (3.5 kB)\r\n"
     ]
    },
    {
     "name": "stdout",
     "output_type": "stream",
     "text": [
      "Requirement already satisfied: numpy in /opt/hostedtoolcache/Python/3.6.15/x64/lib/python3.6/site-packages (from mnist) (1.19.5)\r\n"
     ]
    },
    {
     "name": "stdout",
     "output_type": "stream",
     "text": [
      "Installing collected packages: mnist\r\n"
     ]
    },
    {
     "name": "stdout",
     "output_type": "stream",
     "text": [
      "Successfully installed mnist-0.2.2\r\n"
     ]
    }
   ],
   "source": [
    "!pip install mnist"
   ]
  },
  {
   "cell_type": "markdown",
   "id": "69df9c9a",
   "metadata": {
    "papermill": {
     "duration": 0.025933,
     "end_time": "2022-07-23T20:09:59.012954",
     "exception": false,
     "start_time": "2022-07-23T20:09:58.987021",
     "status": "completed"
    },
    "tags": []
   },
   "source": [
    "## Preparing the Data"
   ]
  },
  {
   "cell_type": "code",
   "execution_count": 4,
   "id": "7f69d806",
   "metadata": {
    "execution": {
     "iopub.execute_input": "2022-07-23T20:09:59.067730Z",
     "iopub.status.busy": "2022-07-23T20:09:59.067158Z",
     "iopub.status.idle": "2022-07-23T20:09:59.083647Z",
     "shell.execute_reply": "2022-07-23T20:09:59.084118Z"
    },
    "papermill": {
     "duration": 0.045878,
     "end_time": "2022-07-23T20:09:59.084235",
     "exception": false,
     "start_time": "2022-07-23T20:09:59.038357",
     "status": "completed"
    },
    "tags": []
   },
   "outputs": [],
   "source": [
    "import mnist"
   ]
  },
  {
   "cell_type": "code",
   "execution_count": 5,
   "id": "a411e44f",
   "metadata": {
    "execution": {
     "iopub.execute_input": "2022-07-23T20:09:59.138947Z",
     "iopub.status.busy": "2022-07-23T20:09:59.138371Z",
     "iopub.status.idle": "2022-07-23T20:09:59.773240Z",
     "shell.execute_reply": "2022-07-23T20:09:59.772735Z"
    },
    "papermill": {
     "duration": 0.663573,
     "end_time": "2022-07-23T20:09:59.773356",
     "exception": false,
     "start_time": "2022-07-23T20:09:59.109783",
     "status": "completed"
    },
    "tags": []
   },
   "outputs": [],
   "source": [
    "train_images = mnist.train_images()\n",
    "train_labels = mnist.train_labels()"
   ]
  },
  {
   "cell_type": "code",
   "execution_count": 6,
   "id": "dceab3a5",
   "metadata": {
    "execution": {
     "iopub.execute_input": "2022-07-23T20:09:59.829678Z",
     "iopub.status.busy": "2022-07-23T20:09:59.829102Z",
     "iopub.status.idle": "2022-07-23T20:09:59.843967Z",
     "shell.execute_reply": "2022-07-23T20:09:59.844439Z"
    },
    "papermill": {
     "duration": 0.045115,
     "end_time": "2022-07-23T20:09:59.844576",
     "exception": false,
     "start_time": "2022-07-23T20:09:59.799461",
     "status": "completed"
    },
    "tags": []
   },
   "outputs": [
    {
     "data": {
      "text/plain": [
       "((60000, 28, 28), (60000,))"
      ]
     },
     "execution_count": 6,
     "metadata": {},
     "output_type": "execute_result"
    }
   ],
   "source": [
    "train_images.shape, train_labels.shape"
   ]
  },
  {
   "cell_type": "code",
   "execution_count": 7,
   "id": "f50dc2bb",
   "metadata": {
    "execution": {
     "iopub.execute_input": "2022-07-23T20:09:59.899980Z",
     "iopub.status.busy": "2022-07-23T20:09:59.899422Z",
     "iopub.status.idle": "2022-07-23T20:10:00.086293Z",
     "shell.execute_reply": "2022-07-23T20:10:00.085151Z"
    },
    "papermill": {
     "duration": 0.21556,
     "end_time": "2022-07-23T20:10:00.086417",
     "exception": false,
     "start_time": "2022-07-23T20:09:59.870857",
     "status": "completed"
    },
    "tags": []
   },
   "outputs": [],
   "source": [
    "test_images = mnist.test_images()\n",
    "test_labels = mnist.test_labels()"
   ]
  },
  {
   "cell_type": "code",
   "execution_count": 8,
   "id": "fc38cf1b",
   "metadata": {
    "execution": {
     "iopub.execute_input": "2022-07-23T20:10:00.161968Z",
     "iopub.status.busy": "2022-07-23T20:10:00.161394Z",
     "iopub.status.idle": "2022-07-23T20:10:00.174300Z",
     "shell.execute_reply": "2022-07-23T20:10:00.174718Z"
    },
    "papermill": {
     "duration": 0.044771,
     "end_time": "2022-07-23T20:10:00.174842",
     "exception": false,
     "start_time": "2022-07-23T20:10:00.130071",
     "status": "completed"
    },
    "tags": []
   },
   "outputs": [
    {
     "data": {
      "text/plain": [
       "((10000, 28, 28), (10000,))"
      ]
     },
     "execution_count": 8,
     "metadata": {},
     "output_type": "execute_result"
    }
   ],
   "source": [
    "test_images.shape, test_labels.shape"
   ]
  },
  {
   "cell_type": "code",
   "execution_count": 9,
   "id": "f9ed8fe0",
   "metadata": {
    "execution": {
     "iopub.execute_input": "2022-07-23T20:10:00.230511Z",
     "iopub.status.busy": "2022-07-23T20:10:00.229939Z",
     "iopub.status.idle": "2022-07-23T20:10:00.371436Z",
     "shell.execute_reply": "2022-07-23T20:10:00.372385Z"
    },
    "papermill": {
     "duration": 0.171404,
     "end_time": "2022-07-23T20:10:00.372512",
     "exception": false,
     "start_time": "2022-07-23T20:10:00.201108",
     "status": "completed"
    },
    "tags": []
   },
   "outputs": [
    {
     "name": "stdout",
     "output_type": "stream",
     "text": [
      "2\n"
     ]
    },
    {
     "data": {
      "text/plain": [
       "<matplotlib.image.AxesImage at 0x7f8682f52550>"
      ]
     },
     "execution_count": 9,
     "metadata": {},
     "output_type": "execute_result"
    },
    {
     "data": {
      "image/png": "[encoded data removed]",
      "text/plain": [
       "<Figure size 432x288 with 1 Axes>"
      ]
     },
     "metadata": {
      "needs_background": "light"
     },
     "output_type": "display_data"
    }
   ],
   "source": [
    "image_index = 7776 # You may select anything up to 60,000\n",
    "print(train_labels[image_index]) \n",
    "plt.imshow(train_images[image_index], cmap='Greys')"
   ]
  },
  {
   "cell_type": "markdown",
   "id": "a8d2388d",
   "metadata": {
    "papermill": {
     "duration": 0.027345,
     "end_time": "2022-07-23T20:10:00.427140",
     "exception": false,
     "start_time": "2022-07-23T20:10:00.399795",
     "status": "completed"
    },
    "tags": []
   },
   "source": [
    "## Filter data to get 3 and 8 out"
   ]
  },
  {
   "cell_type": "code",
   "execution_count": 10,
   "id": "776f7fc7",
   "metadata": {
    "execution": {
     "iopub.execute_input": "2022-07-23T20:10:00.489575Z",
     "iopub.status.busy": "2022-07-23T20:10:00.484690Z",
     "iopub.status.idle": "2022-07-23T20:10:00.503008Z",
     "shell.execute_reply": "2022-07-23T20:10:00.502543Z"
    },
    "papermill": {
     "duration": 0.048878,
     "end_time": "2022-07-23T20:10:00.503112",
     "exception": false,
     "start_time": "2022-07-23T20:10:00.454234",
     "status": "completed"
    },
    "tags": []
   },
   "outputs": [],
   "source": [
    "train_filter = np.where((train_labels == 3 ) | (train_labels == 8))\n",
    "test_filter = np.where((test_labels == 3) | (test_labels == 8))\n",
    "X_train, y_train = train_images[train_filter], train_labels[train_filter]\n",
    "X_test, y_test = test_images[test_filter], test_labels[test_filter]"
   ]
  },
  {
   "cell_type": "markdown",
   "id": "948f0b7e",
   "metadata": {
    "papermill": {
     "duration": 0.027124,
     "end_time": "2022-07-23T20:10:00.557599",
     "exception": false,
     "start_time": "2022-07-23T20:10:00.530475",
     "status": "completed"
    },
    "tags": []
   },
   "source": [
    "We normalize the pizel values in the 0 to 1 range"
   ]
  },
  {
   "cell_type": "code",
   "execution_count": 11,
   "id": "ee4c2166",
   "metadata": {
    "execution": {
     "iopub.execute_input": "2022-07-23T20:10:00.615556Z",
     "iopub.status.busy": "2022-07-23T20:10:00.614988Z",
     "iopub.status.idle": "2022-07-23T20:10:00.674930Z",
     "shell.execute_reply": "2022-07-23T20:10:00.675432Z"
    },
    "papermill": {
     "duration": 0.090832,
     "end_time": "2022-07-23T20:10:00.675630",
     "exception": false,
     "start_time": "2022-07-23T20:10:00.584798",
     "status": "completed"
    },
    "tags": []
   },
   "outputs": [],
   "source": [
    "X_train = X_train/255.\n",
    "X_test = X_test/255."
   ]
  },
  {
   "cell_type": "markdown",
   "id": "ddcf4fab",
   "metadata": {
    "papermill": {
     "duration": 0.027389,
     "end_time": "2022-07-23T20:10:00.731044",
     "exception": false,
     "start_time": "2022-07-23T20:10:00.703655",
     "status": "completed"
    },
    "tags": []
   },
   "source": [
    "And setup the labels as 1 (when the digit is 3) and 0 (when the digit is 8)"
   ]
  },
  {
   "cell_type": "code",
   "execution_count": 12,
   "id": "7dc908f2",
   "metadata": {
    "execution": {
     "iopub.execute_input": "2022-07-23T20:10:00.789200Z",
     "iopub.status.busy": "2022-07-23T20:10:00.788636Z",
     "iopub.status.idle": "2022-07-23T20:10:00.801781Z",
     "shell.execute_reply": "2022-07-23T20:10:00.801319Z"
    },
    "papermill": {
     "duration": 0.043627,
     "end_time": "2022-07-23T20:10:00.801883",
     "exception": false,
     "start_time": "2022-07-23T20:10:00.758256",
     "status": "completed"
    },
    "tags": []
   },
   "outputs": [],
   "source": [
    "y_train = 1*(y_train==3)\n",
    "y_test = 1*(y_test==3)"
   ]
  },
  {
   "cell_type": "code",
   "execution_count": 13,
   "id": "01e4e969",
   "metadata": {
    "execution": {
     "iopub.execute_input": "2022-07-23T20:10:00.859238Z",
     "iopub.status.busy": "2022-07-23T20:10:00.858678Z",
     "iopub.status.idle": "2022-07-23T20:10:00.873189Z",
     "shell.execute_reply": "2022-07-23T20:10:00.873652Z"
    },
    "papermill": {
     "duration": 0.044635,
     "end_time": "2022-07-23T20:10:00.873768",
     "exception": false,
     "start_time": "2022-07-23T20:10:00.829133",
     "status": "completed"
    },
    "tags": []
   },
   "outputs": [
    {
     "data": {
      "text/plain": [
       "((11982, 28, 28), (1984, 28, 28))"
      ]
     },
     "execution_count": 13,
     "metadata": {},
     "output_type": "execute_result"
    }
   ],
   "source": [
    "X_train.shape, X_test.shape"
   ]
  },
  {
   "cell_type": "markdown",
   "id": "5ccf3f85",
   "metadata": {
    "papermill": {
     "duration": 0.029367,
     "end_time": "2022-07-23T20:10:00.930467",
     "exception": false,
     "start_time": "2022-07-23T20:10:00.901100",
     "status": "completed"
    },
    "tags": []
   },
   "source": [
    "We reshape the data to flatten the image pixels into a set of features or co-variates:"
   ]
  },
  {
   "cell_type": "code",
   "execution_count": 14,
   "id": "5286a4a3",
   "metadata": {
    "execution": {
     "iopub.execute_input": "2022-07-23T20:10:00.988949Z",
     "iopub.status.busy": "2022-07-23T20:10:00.988353Z",
     "iopub.status.idle": "2022-07-23T20:10:01.002479Z",
     "shell.execute_reply": "2022-07-23T20:10:01.002928Z"
    },
    "papermill": {
     "duration": 0.045028,
     "end_time": "2022-07-23T20:10:01.003039",
     "exception": false,
     "start_time": "2022-07-23T20:10:00.958011",
     "status": "completed"
    },
    "tags": []
   },
   "outputs": [
    {
     "data": {
      "text/plain": [
       "((11982, 784), (1984, 784))"
      ]
     },
     "execution_count": 14,
     "metadata": {},
     "output_type": "execute_result"
    }
   ],
   "source": [
    "X_train = X_train.reshape(X_train.shape[0], -1)\n",
    "X_test = X_test.reshape(X_test.shape[0], -1)\n",
    "X_train.shape, X_test.shape"
   ]
  },
  {
   "cell_type": "code",
   "execution_count": 15,
   "id": "73c5f88a",
   "metadata": {
    "execution": {
     "iopub.execute_input": "2022-07-23T20:10:01.062479Z",
     "iopub.status.busy": "2022-07-23T20:10:01.061915Z",
     "iopub.status.idle": "2022-07-23T20:10:01.084751Z",
     "shell.execute_reply": "2022-07-23T20:10:01.084259Z"
    },
    "papermill": {
     "duration": 0.054134,
     "end_time": "2022-07-23T20:10:01.084855",
     "exception": false,
     "start_time": "2022-07-23T20:10:01.030721",
     "status": "completed"
    },
    "tags": []
   },
   "outputs": [],
   "source": [
    "#Impoting functions from 'Kudzu'\n",
    "from kudzu.model import Model\n",
    "from kudzu.train import Learner\n",
    "from kudzu.optim import GD\n",
    "from kudzu.data import Data, Sampler,Dataloader\n",
    "\n",
    "from kudzu.callbacks import AccCallback\n",
    "from kudzu.callbacks import ClfCallback\n",
    "\n",
    "from kudzu.loss import MSE\n",
    "\n",
    "from kudzu.layer import Sigmoid,Relu\n",
    "from kudzu.layer import Affine"
   ]
  },
  {
   "cell_type": "markdown",
   "id": "bc01172a",
   "metadata": {
    "papermill": {
     "duration": 0.027643,
     "end_time": "2022-07-23T20:10:01.140117",
     "exception": false,
     "start_time": "2022-07-23T20:10:01.112474",
     "status": "completed"
    },
    "tags": []
   },
   "source": [
    "### Let us create a `Config` class, to store important parameters. \n",
    "This class essentially plays the role of a dictionary."
   ]
  },
  {
   "cell_type": "code",
   "execution_count": 16,
   "id": "978281aa",
   "metadata": {
    "execution": {
     "iopub.execute_input": "2022-07-23T20:10:01.199075Z",
     "iopub.status.busy": "2022-07-23T20:10:01.198489Z",
     "iopub.status.idle": "2022-07-23T20:10:01.210925Z",
     "shell.execute_reply": "2022-07-23T20:10:01.211401Z"
    },
    "papermill": {
     "duration": 0.043866,
     "end_time": "2022-07-23T20:10:01.211520",
     "exception": false,
     "start_time": "2022-07-23T20:10:01.167654",
     "status": "completed"
    },
    "tags": []
   },
   "outputs": [],
   "source": [
    "class Config:\n",
    "    pass\n",
    "config = Config()\n",
    "config.lr = 0.001\n",
    "config.num_epochs = 250\n",
    "config.bs = 50"
   ]
  },
  {
   "cell_type": "markdown",
   "id": "1385fa59",
   "metadata": {
    "papermill": {
     "duration": 0.027735,
     "end_time": "2022-07-23T20:10:01.267355",
     "exception": false,
     "start_time": "2022-07-23T20:10:01.239620",
     "status": "completed"
    },
    "tags": []
   },
   "source": [
    "### Running Models with the Training data\n",
    "Details about the network layers:\n",
    "- A first affine layer has 784 inputs and does 100 affine transforms. These are followed by a Relu\n",
    "- A second affine layer has 100 inputs from the 100 activations of the past layer, and does 100 affine transforms. These are followed by a Relu\n",
    "- A third affine layer has 100 activations and does 2 affine transformations to create an embedding for visualization. There is no non-linearity here.\n",
    "- A final \"logistic regression\" which has an affine transform from 2 inputs to 1 output, which is squeezed through a sigmoid.\n"
   ]
  },
  {
   "cell_type": "code",
   "execution_count": 17,
   "id": "2b9c66db",
   "metadata": {
    "execution": {
     "iopub.execute_input": "2022-07-23T20:10:01.327135Z",
     "iopub.status.busy": "2022-07-23T20:10:01.326559Z",
     "iopub.status.idle": "2022-07-23T20:10:01.340237Z",
     "shell.execute_reply": "2022-07-23T20:10:01.339788Z"
    },
    "papermill": {
     "duration": 0.045182,
     "end_time": "2022-07-23T20:10:01.340342",
     "exception": false,
     "start_time": "2022-07-23T20:10:01.295160",
     "status": "completed"
    },
    "tags": []
   },
   "outputs": [],
   "source": [
    "data = Data(X_train, y_train.reshape(-1,1))\n",
    "sampler = Sampler(data, config.bs, shuffle=True)\n",
    "\n",
    "dl = Dataloader(data, sampler)\n",
    "\n",
    "opt = GD(config.lr)\n",
    "loss = MSE()"
   ]
  },
  {
   "cell_type": "code",
   "execution_count": 18,
   "id": "b275e4c2",
   "metadata": {
    "execution": {
     "iopub.execute_input": "2022-07-23T20:10:01.399200Z",
     "iopub.status.busy": "2022-07-23T20:10:01.398631Z",
     "iopub.status.idle": "2022-07-23T20:10:01.411295Z",
     "shell.execute_reply": "2022-07-23T20:10:01.411829Z"
    },
    "papermill": {
     "duration": 0.043915,
     "end_time": "2022-07-23T20:10:01.411945",
     "exception": false,
     "start_time": "2022-07-23T20:10:01.368030",
     "status": "completed"
    },
    "tags": []
   },
   "outputs": [],
   "source": [
    "training_data_x = X_train\n",
    "testing_data_x = X_test\n",
    "training_data_y = y_train.reshape(-1,1)\n",
    "testing_data_y = y_test.reshape(-1,1)"
   ]
  },
  {
   "cell_type": "code",
   "execution_count": 19,
   "id": "76951160",
   "metadata": {
    "execution": {
     "iopub.execute_input": "2022-07-23T20:10:01.472545Z",
     "iopub.status.busy": "2022-07-23T20:10:01.471981Z",
     "iopub.status.idle": "2022-07-23T20:10:01.490118Z",
     "shell.execute_reply": "2022-07-23T20:10:01.489657Z"
    },
    "papermill": {
     "duration": 0.049176,
     "end_time": "2022-07-23T20:10:01.490221",
     "exception": false,
     "start_time": "2022-07-23T20:10:01.441045",
     "status": "completed"
    },
    "tags": []
   },
   "outputs": [
    {
     "name": "stdout",
     "output_type": "stream",
     "text": [
      "xavier\n",
      "xavier\n",
      "xavier\n",
      "xavier\n",
      "xavier\n"
     ]
    }
   ],
   "source": [
    "layers = [Affine(\"first\", 784, 100), Relu(\"first\"), Affine(\"second\", 100, 100), Relu(\"second\"), Affine(\"third\", 100, 2), Affine(\"last\", 2, 1), Sigmoid(\"last\")]\n",
    "model_nn = Model(layers)\n",
    "model_lr = Model([Affine(\"logits\", 784, 1), Sigmoid(\"sigmoid\")])"
   ]
  },
  {
   "cell_type": "code",
   "execution_count": 20,
   "id": "6eede77a",
   "metadata": {
    "execution": {
     "iopub.execute_input": "2022-07-23T20:10:01.550306Z",
     "iopub.status.busy": "2022-07-23T20:10:01.549752Z",
     "iopub.status.idle": "2022-07-23T20:10:01.562970Z",
     "shell.execute_reply": "2022-07-23T20:10:01.562519Z"
    },
    "papermill": {
     "duration": 0.044558,
     "end_time": "2022-07-23T20:10:01.563071",
     "exception": false,
     "start_time": "2022-07-23T20:10:01.518513",
     "status": "completed"
    },
    "tags": []
   },
   "outputs": [],
   "source": [
    "nn_learner = Learner(loss, model_nn, opt, config.num_epochs)\n",
    "acc_nn = ClfCallback(nn_learner, config.bs, training_data_x , testing_data_x, training_data_y, testing_data_y)\n",
    "nn_learner.set_callbacks([acc_nn])"
   ]
  },
  {
   "cell_type": "code",
   "execution_count": 21,
   "id": "877b6cc7",
   "metadata": {
    "execution": {
     "iopub.execute_input": "2022-07-23T20:10:01.642620Z",
     "iopub.status.busy": "2022-07-23T20:10:01.642041Z",
     "iopub.status.idle": "2022-07-23T20:10:01.651380Z",
     "shell.execute_reply": "2022-07-23T20:10:01.652210Z"
    },
    "papermill": {
     "duration": 0.052753,
     "end_time": "2022-07-23T20:10:01.652335",
     "exception": false,
     "start_time": "2022-07-23T20:10:01.599582",
     "status": "completed"
    },
    "tags": []
   },
   "outputs": [],
   "source": [
    "lr_learner = Learner(loss, model_lr, opt, config.num_epochs)\n",
    "acc_lr = ClfCallback(lr_learner, config.bs, training_data_x , testing_data_x, training_data_y, testing_data_y)\n",
    "lr_learner.set_callbacks([acc_lr])"
   ]
  },
  {
   "cell_type": "code",
   "execution_count": 22,
   "id": "d9b133c3",
   "metadata": {
    "execution": {
     "iopub.execute_input": "2022-07-23T20:10:01.725898Z",
     "iopub.status.busy": "2022-07-23T20:10:01.725294Z",
     "iopub.status.idle": "2022-07-23T20:13:01.295156Z",
     "shell.execute_reply": "2022-07-23T20:13:01.295607Z"
    },
    "papermill": {
     "duration": 179.60996,
     "end_time": "2022-07-23T20:13:01.295740",
     "exception": false,
     "start_time": "2022-07-23T20:10:01.685780",
     "status": "completed"
    },
    "tags": []
   },
   "outputs": [
    {
     "name": "stdout",
     "output_type": "stream",
     "text": [
      "Epoch 0, Loss 0.2613\n",
      "Training Accuracy: 0.4448, Testing Accuracy: 0.4395\n",
      "\n"
     ]
    },
    {
     "name": "stdout",
     "output_type": "stream",
     "text": [
      "Epoch 10, Loss 0.1837\n",
      "Training Accuracy: 0.8428, Testing Accuracy: 0.8498\n",
      "\n"
     ]
    },
    {
     "name": "stdout",
     "output_type": "stream",
     "text": [
      "Epoch 20, Loss 0.094\n",
      "Training Accuracy: 0.9076, Testing Accuracy: 0.9143\n",
      "\n"
     ]
    },
    {
     "name": "stdout",
     "output_type": "stream",
     "text": [
      "Epoch 30, Loss 0.0597\n",
      "Training Accuracy: 0.9367, Testing Accuracy: 0.9466\n",
      "\n"
     ]
    },
    {
     "name": "stdout",
     "output_type": "stream",
     "text": [
      "Epoch 40, Loss 0.046\n",
      "Training Accuracy: 0.9501, Testing Accuracy: 0.9587\n",
      "\n"
     ]
    },
    {
     "name": "stdout",
     "output_type": "stream",
     "text": [
      "Epoch 50, Loss 0.0392\n",
      "Training Accuracy: 0.9576, Testing Accuracy: 0.9632\n",
      "\n"
     ]
    },
    {
     "name": "stdout",
     "output_type": "stream",
     "text": [
      "Epoch 60, Loss 0.0351\n",
      "Training Accuracy: 0.9614, Testing Accuracy: 0.9642\n",
      "\n"
     ]
    },
    {
     "name": "stdout",
     "output_type": "stream",
     "text": [
      "Epoch 70, Loss 0.0324\n",
      "Training Accuracy: 0.9638, Testing Accuracy: 0.9652\n",
      "\n"
     ]
    },
    {
     "name": "stdout",
     "output_type": "stream",
     "text": [
      "Epoch 80, Loss 0.0304\n",
      "Training Accuracy: 0.9652, Testing Accuracy: 0.9672\n",
      "\n"
     ]
    },
    {
     "name": "stdout",
     "output_type": "stream",
     "text": [
      "Epoch 90, Loss 0.0289\n",
      "Training Accuracy: 0.9670, Testing Accuracy: 0.9667\n",
      "\n"
     ]
    },
    {
     "name": "stdout",
     "output_type": "stream",
     "text": [
      "Epoch 100, Loss 0.0277\n",
      "Training Accuracy: 0.9682, Testing Accuracy: 0.9688\n",
      "\n"
     ]
    },
    {
     "name": "stdout",
     "output_type": "stream",
     "text": [
      "Epoch 110, Loss 0.0266\n",
      "Training Accuracy: 0.9698, Testing Accuracy: 0.9688\n",
      "\n"
     ]
    },
    {
     "name": "stdout",
     "output_type": "stream",
     "text": [
      "Epoch 120, Loss 0.0257\n",
      "Training Accuracy: 0.9708, Testing Accuracy: 0.9682\n",
      "\n"
     ]
    },
    {
     "name": "stdout",
     "output_type": "stream",
     "text": [
      "Epoch 130, Loss 0.025\n",
      "Training Accuracy: 0.9713, Testing Accuracy: 0.9698\n",
      "\n"
     ]
    },
    {
     "name": "stdout",
     "output_type": "stream",
     "text": [
      "Epoch 140, Loss 0.0243\n",
      "Training Accuracy: 0.9721, Testing Accuracy: 0.9698\n",
      "\n"
     ]
    },
    {
     "name": "stdout",
     "output_type": "stream",
     "text": [
      "Epoch 150, Loss 0.0236\n",
      "Training Accuracy: 0.9728, Testing Accuracy: 0.9703\n",
      "\n"
     ]
    },
    {
     "name": "stdout",
     "output_type": "stream",
     "text": [
      "Epoch 160, Loss 0.0231\n",
      "Training Accuracy: 0.9734, Testing Accuracy: 0.9698\n",
      "\n"
     ]
    },
    {
     "name": "stdout",
     "output_type": "stream",
     "text": [
      "Epoch 170, Loss 0.0225\n",
      "Training Accuracy: 0.9741, Testing Accuracy: 0.9698\n",
      "\n"
     ]
    },
    {
     "name": "stdout",
     "output_type": "stream",
     "text": [
      "Epoch 180, Loss 0.022\n",
      "Training Accuracy: 0.9748, Testing Accuracy: 0.9713\n",
      "\n"
     ]
    },
    {
     "name": "stdout",
     "output_type": "stream",
     "text": [
      "Epoch 190, Loss 0.0216\n",
      "Training Accuracy: 0.9755, Testing Accuracy: 0.9713\n",
      "\n"
     ]
    },
    {
     "name": "stdout",
     "output_type": "stream",
     "text": [
      "Epoch 200, Loss 0.0211\n",
      "Training Accuracy: 0.9762, Testing Accuracy: 0.9713\n",
      "\n"
     ]
    },
    {
     "name": "stdout",
     "output_type": "stream",
     "text": [
      "Epoch 210, Loss 0.0207\n",
      "Training Accuracy: 0.9767, Testing Accuracy: 0.9718\n",
      "\n"
     ]
    },
    {
     "name": "stdout",
     "output_type": "stream",
     "text": [
      "Epoch 220, Loss 0.0203\n",
      "Training Accuracy: 0.9771, Testing Accuracy: 0.9718\n",
      "\n"
     ]
    },
    {
     "name": "stdout",
     "output_type": "stream",
     "text": [
      "Epoch 230, Loss 0.0199\n",
      "Training Accuracy: 0.9777, Testing Accuracy: 0.9723\n",
      "\n"
     ]
    },
    {
     "name": "stdout",
     "output_type": "stream",
     "text": [
      "Epoch 240, Loss 0.0195\n",
      "Training Accuracy: 0.9780, Testing Accuracy: 0.9728\n",
      "\n"
     ]
    },
    {
     "data": {
      "text/plain": [
       "0.03607113265534197"
      ]
     },
     "execution_count": 22,
     "metadata": {},
     "output_type": "execute_result"
    }
   ],
   "source": [
    "nn_learner.train_loop(dl)"
   ]
  },
  {
   "cell_type": "code",
   "execution_count": 23,
   "id": "e0163366",
   "metadata": {
    "execution": {
     "iopub.execute_input": "2022-07-23T20:13:01.374193Z",
     "iopub.status.busy": "2022-07-23T20:13:01.373625Z",
     "iopub.status.idle": "2022-07-23T20:13:14.062692Z",
     "shell.execute_reply": "2022-07-23T20:13:14.063233Z"
    },
    "papermill": {
     "duration": 12.732102,
     "end_time": "2022-07-23T20:13:14.063367",
     "exception": false,
     "start_time": "2022-07-23T20:13:01.331265",
     "status": "completed"
    },
    "tags": []
   },
   "outputs": [
    {
     "name": "stdout",
     "output_type": "stream",
     "text": [
      "Epoch 0, Loss 0.2289\n",
      "Training Accuracy: 0.7340, Testing Accuracy: 0.7319\n",
      "\n"
     ]
    },
    {
     "name": "stdout",
     "output_type": "stream",
     "text": [
      "Epoch 10, Loss 0.1024\n",
      "Training Accuracy: 0.9093, Testing Accuracy: 0.9138\n",
      "\n"
     ]
    },
    {
     "name": "stdout",
     "output_type": "stream",
     "text": [
      "Epoch 20, Loss 0.0788\n",
      "Training Accuracy: 0.9290, Testing Accuracy: 0.9360\n",
      "\n"
     ]
    },
    {
     "name": "stdout",
     "output_type": "stream",
     "text": [
      "Epoch 30, Loss 0.0677\n",
      "Training Accuracy: 0.9379, Testing Accuracy: 0.9476\n",
      "\n"
     ]
    },
    {
     "name": "stdout",
     "output_type": "stream",
     "text": [
      "Epoch 40, Loss 0.0611\n",
      "Training Accuracy: 0.9448, Testing Accuracy: 0.9526\n",
      "\n"
     ]
    },
    {
     "name": "stdout",
     "output_type": "stream",
     "text": [
      "Epoch 50, Loss 0.0566\n",
      "Training Accuracy: 0.9479, Testing Accuracy: 0.9551\n",
      "\n"
     ]
    },
    {
     "name": "stdout",
     "output_type": "stream",
     "text": [
      "Epoch 60, Loss 0.0533\n",
      "Training Accuracy: 0.9500, Testing Accuracy: 0.9572\n",
      "\n"
     ]
    },
    {
     "name": "stdout",
     "output_type": "stream",
     "text": [
      "Epoch 70, Loss 0.0507\n",
      "Training Accuracy: 0.9513, Testing Accuracy: 0.9577\n",
      "\n"
     ]
    },
    {
     "name": "stdout",
     "output_type": "stream",
     "text": [
      "Epoch 80, Loss 0.0487\n",
      "Training Accuracy: 0.9525, Testing Accuracy: 0.9587\n",
      "\n"
     ]
    },
    {
     "name": "stdout",
     "output_type": "stream",
     "text": [
      "Epoch 90, Loss 0.047\n",
      "Training Accuracy: 0.9544, Testing Accuracy: 0.9607\n",
      "\n"
     ]
    },
    {
     "name": "stdout",
     "output_type": "stream",
     "text": [
      "Epoch 100, Loss 0.0456\n",
      "Training Accuracy: 0.9551, Testing Accuracy: 0.9627\n",
      "\n"
     ]
    },
    {
     "name": "stdout",
     "output_type": "stream",
     "text": [
      "Epoch 110, Loss 0.0444\n",
      "Training Accuracy: 0.9561, Testing Accuracy: 0.9642\n",
      "\n"
     ]
    },
    {
     "name": "stdout",
     "output_type": "stream",
     "text": [
      "Epoch 120, Loss 0.0434\n",
      "Training Accuracy: 0.9567, Testing Accuracy: 0.9647\n",
      "\n"
     ]
    },
    {
     "name": "stdout",
     "output_type": "stream",
     "text": [
      "Epoch 130, Loss 0.0424\n",
      "Training Accuracy: 0.9571, Testing Accuracy: 0.9652\n",
      "\n"
     ]
    },
    {
     "name": "stdout",
     "output_type": "stream",
     "text": [
      "Epoch 140, Loss 0.0416\n",
      "Training Accuracy: 0.9579, Testing Accuracy: 0.9662\n",
      "\n"
     ]
    },
    {
     "name": "stdout",
     "output_type": "stream",
     "text": [
      "Epoch 150, Loss 0.0409\n",
      "Training Accuracy: 0.9582, Testing Accuracy: 0.9667\n",
      "\n"
     ]
    },
    {
     "name": "stdout",
     "output_type": "stream",
     "text": [
      "Epoch 160, Loss 0.0402\n",
      "Training Accuracy: 0.9588, Testing Accuracy: 0.9672\n",
      "\n"
     ]
    },
    {
     "name": "stdout",
     "output_type": "stream",
     "text": [
      "Epoch 170, Loss 0.0396\n",
      "Training Accuracy: 0.9592, Testing Accuracy: 0.9677\n",
      "\n"
     ]
    },
    {
     "name": "stdout",
     "output_type": "stream",
     "text": [
      "Epoch 180, Loss 0.0391\n",
      "Training Accuracy: 0.9594, Testing Accuracy: 0.9682\n",
      "\n"
     ]
    },
    {
     "name": "stdout",
     "output_type": "stream",
     "text": [
      "Epoch 190, Loss 0.0386\n",
      "Training Accuracy: 0.9599, Testing Accuracy: 0.9688\n",
      "\n"
     ]
    },
    {
     "name": "stdout",
     "output_type": "stream",
     "text": [
      "Epoch 200, Loss 0.0381\n",
      "Training Accuracy: 0.9606, Testing Accuracy: 0.9682\n",
      "\n"
     ]
    },
    {
     "name": "stdout",
     "output_type": "stream",
     "text": [
      "Epoch 210, Loss 0.0377\n",
      "Training Accuracy: 0.9610, Testing Accuracy: 0.9682\n",
      "\n"
     ]
    },
    {
     "name": "stdout",
     "output_type": "stream",
     "text": [
      "Epoch 220, Loss 0.0373\n",
      "Training Accuracy: 0.9614, Testing Accuracy: 0.9677\n",
      "\n"
     ]
    },
    {
     "name": "stdout",
     "output_type": "stream",
     "text": [
      "Epoch 230, Loss 0.0369\n",
      "Training Accuracy: 0.9617, Testing Accuracy: 0.9677\n",
      "\n"
     ]
    },
    {
     "name": "stdout",
     "output_type": "stream",
     "text": [
      "Epoch 240, Loss 0.0365\n",
      "Training Accuracy: 0.9618, Testing Accuracy: 0.9688\n",
      "\n"
     ]
    },
    {
     "data": {
      "text/plain": [
       "0.02886269567602435"
      ]
     },
     "execution_count": 23,
     "metadata": {},
     "output_type": "execute_result"
    }
   ],
   "source": [
    "lr_learner.train_loop(dl)"
   ]
  },
  {
   "cell_type": "code",
   "execution_count": 24,
   "id": "ca410940",
   "metadata": {
    "execution": {
     "iopub.execute_input": "2022-07-23T20:13:14.171401Z",
     "iopub.status.busy": "2022-07-23T20:13:14.170821Z",
     "iopub.status.idle": "2022-07-23T20:13:14.403158Z",
     "shell.execute_reply": "2022-07-23T20:13:14.403596Z"
    },
    "papermill": {
     "duration": 0.281388,
     "end_time": "2022-07-23T20:13:14.403725",
     "exception": false,
     "start_time": "2022-07-23T20:13:14.122337",
     "status": "completed"
    },
    "tags": []
   },
   "outputs": [
    {
     "data": {
      "text/plain": [
       "<matplotlib.legend.Legend at 0x7f8682ab4b38>"
      ]
     },
     "execution_count": 24,
     "metadata": {},
     "output_type": "execute_result"
    },
    {
     "data": {
      "image/png": "[encoded data removed]",
      "text/plain": [
       "<Figure size 1080x720 with 1 Axes>"
      ]
     },
     "metadata": {
      "needs_background": "light"
     },
     "output_type": "display_data"
    }
   ],
   "source": [
    "#comparing the results of NN and LR\n",
    "plt.figure(figsize=(15,10))\n",
    "\n",
    "# Neural Network plots\n",
    "plt.plot(acc_nn.accuracies, 'r-', label = \"Training Accuracies - NN\")\n",
    "plt.plot(acc_nn.test_accuracies, 'g-', label = \"Testing Accuracies - NN\")\n",
    "\n",
    "# Logistic Regression plots\n",
    "plt.plot(acc_lr.accuracies, 'k-', label = \"Training Accuracies - LR\")\n",
    "plt.plot(acc_lr.test_accuracies, 'b-', label = \"Testing Accuracies - LR\")\n",
    "plt.legend()"
   ]
  },
  {
   "cell_type": "markdown",
   "id": "80dfb35c",
   "metadata": {
    "papermill": {
     "duration": 0.042837,
     "end_time": "2022-07-23T20:13:14.495123",
     "exception": false,
     "start_time": "2022-07-23T20:13:14.452286",
     "status": "completed"
    },
    "tags": []
   },
   "source": [
    "#### Plotting the outputs of this layer of the NN.\n"
   ]
  },
  {
   "cell_type": "code",
   "execution_count": 25,
   "id": "45eb2ff5",
   "metadata": {
    "execution": {
     "iopub.execute_input": "2022-07-23T20:13:14.585503Z",
     "iopub.status.busy": "2022-07-23T20:13:14.584918Z",
     "iopub.status.idle": "2022-07-23T20:13:14.626108Z",
     "shell.execute_reply": "2022-07-23T20:13:14.625659Z"
    },
    "papermill": {
     "duration": 0.088271,
     "end_time": "2022-07-23T20:13:14.626220",
     "exception": false,
     "start_time": "2022-07-23T20:13:14.537949",
     "status": "completed"
    },
    "tags": []
   },
   "outputs": [],
   "source": [
    "new_model = Model(layers[:-2])\n",
    "testing_plot = new_model(testing_data_x)"
   ]
  },
  {
   "cell_type": "code",
   "execution_count": 26,
   "id": "4c0a5485",
   "metadata": {
    "execution": {
     "iopub.execute_input": "2022-07-23T20:13:14.729821Z",
     "iopub.status.busy": "2022-07-23T20:13:14.729242Z",
     "iopub.status.idle": "2022-07-23T20:13:14.967027Z",
     "shell.execute_reply": "2022-07-23T20:13:14.967471Z"
    },
    "papermill": {
     "duration": 0.293296,
     "end_time": "2022-07-23T20:13:14.967602",
     "exception": false,
     "start_time": "2022-07-23T20:13:14.674306",
     "status": "completed"
    },
    "tags": []
   },
   "outputs": [
    {
     "data": {
      "text/plain": [
       "Text(0.5, 1.0, 'Outputs')"
      ]
     },
     "execution_count": 26,
     "metadata": {},
     "output_type": "execute_result"
    },
    {
     "data": {
      "image/png": "[encoded data removed]",
      "text/plain": [
       "<Figure size 576x504 with 1 Axes>"
      ]
     },
     "metadata": {
      "needs_background": "light"
     },
     "output_type": "display_data"
    }
   ],
   "source": [
    "# Plotting the scatter plot of points and color coding by class\n",
    "plt.figure(figsize=(8,7))\n",
    "plt.scatter(testing_plot[:,0], testing_plot[:,1], alpha = 0.1, c = y_test.ravel());\n",
    "plt.title('Outputs')"
   ]
  },
  {
   "cell_type": "markdown",
   "id": "a74fcf8f",
   "metadata": {
    "papermill": {
     "duration": 0.046796,
     "end_time": "2022-07-23T20:13:15.082440",
     "exception": false,
     "start_time": "2022-07-23T20:13:15.035644",
     "status": "completed"
    },
    "tags": []
   },
   "source": [
    "Probability contours"
   ]
  },
  {
   "cell_type": "code",
   "execution_count": 27,
   "id": "d0afc8e3",
   "metadata": {
    "execution": {
     "iopub.execute_input": "2022-07-23T20:13:15.179127Z",
     "iopub.status.busy": "2022-07-23T20:13:15.178540Z",
     "iopub.status.idle": "2022-07-23T20:13:15.192474Z",
     "shell.execute_reply": "2022-07-23T20:13:15.193182Z"
    },
    "papermill": {
     "duration": 0.064393,
     "end_time": "2022-07-23T20:13:15.193307",
     "exception": false,
     "start_time": "2022-07-23T20:13:15.128914",
     "status": "completed"
    },
    "tags": []
   },
   "outputs": [],
   "source": [
    "model_prob = Model(layers[-2:]) "
   ]
  },
  {
   "cell_type": "code",
   "execution_count": 28,
   "id": "9b96e238",
   "metadata": {
    "execution": {
     "iopub.execute_input": "2022-07-23T20:13:15.289695Z",
     "iopub.status.busy": "2022-07-23T20:13:15.289117Z",
     "iopub.status.idle": "2022-07-23T20:13:15.305043Z",
     "shell.execute_reply": "2022-07-23T20:13:15.305440Z"
    },
    "papermill": {
     "duration": 0.065537,
     "end_time": "2022-07-23T20:13:15.305556",
     "exception": false,
     "start_time": "2022-07-23T20:13:15.240019",
     "status": "completed"
    },
    "tags": []
   },
   "outputs": [],
   "source": [
    "#creating the x and y ranges according to the above generated plot.\n",
    "x_range = np.linspace(-4, 1, 100) \n",
    "y_range = np.linspace(-6, 6, 100) \n",
    "x_grid, y_grid = np.meshgrid(x_range, y_range) # x_grid and y_grig are of size 100 X 100\n",
    "\n",
    "# converting x_grid and y_grid to continuous arrays\n",
    "x_gridflat = np.ravel(x_grid)\n",
    "y_gridflat = np.ravel(y_grid)\n",
    "\n",
    "# The last layer of the current model takes two columns as input. Hence transpose of np.vstack() is required.\n",
    "X = np.vstack((x_gridflat, y_gridflat)).T\n",
    "\n",
    "prob_contour = model_prob(X).reshape(100,100) "
   ]
  },
  {
   "cell_type": "code",
   "execution_count": 29,
   "id": "da72499a",
   "metadata": {
    "execution": {
     "iopub.execute_input": "2022-07-23T20:13:15.425948Z",
     "iopub.status.busy": "2022-07-23T20:13:15.425372Z",
     "iopub.status.idle": "2022-07-23T20:13:15.666146Z",
     "shell.execute_reply": "2022-07-23T20:13:15.665073Z"
    },
    "papermill": {
     "duration": 0.305498,
     "end_time": "2022-07-23T20:13:15.666264",
     "exception": false,
     "start_time": "2022-07-23T20:13:15.360766",
     "status": "completed"
    },
    "tags": []
   },
   "outputs": [
    {
     "data": {
      "image/png": "[encoded data removed]",
      "text/plain": [
       "<Figure size 720x648 with 1 Axes>"
      ]
     },
     "metadata": {
      "needs_background": "light"
     },
     "output_type": "display_data"
    }
   ],
   "source": [
    "plt.figure(figsize=(10,9))\n",
    "plt.scatter(testing_plot[:,0], testing_plot[:,1], alpha = 0.1, c = y_test.ravel())\n",
    "contours = plt.contour(x_grid,y_grid,prob_contour)\n",
    "plt.title('Probability Contours')\n",
    "plt.clabel(contours, inline = True );"
   ]
  },
  {
   "cell_type": "code",
   "execution_count": null,
   "id": "e81b4ac7",
   "metadata": {
    "papermill": {
     "duration": 0.048466,
     "end_time": "2022-07-23T20:13:15.763991",
     "exception": false,
     "start_time": "2022-07-23T20:13:15.715525",
     "status": "completed"
    },
    "tags": []
   },
   "outputs": [],
   "source": []
  }
 ],
 "metadata": {
  "kernelspec": {
   "display_name": "Python 3",
   "language": "python",
   "name": "python3"
  },
  "language_info": {
   "codemirror_mode": {
    "name": "ipython",
    "version": 3
   },
   "file_extension": ".py",
   "mimetype": "text/x-python",
   "name": "python",
   "nbconvert_exporter": "python",
   "pygments_lexer": "ipython3",
   "version": "3.6.15"
  },
  "papermill": {
   "default_parameters": {},
   "duration": 200.613823,
   "end_time": "2022-07-23T20:13:16.130102",
   "environment_variables": {},
   "exception": null,
   "input_path": "2020-08-11-part2.ipynb",
   "output_path": "2020-08-11-part2.ipynb",
   "parameters": {},
   "start_time": "2022-07-23T20:09:55.516279",
   "version": "2.3.3"
  }
 },
 "nbformat": 4,
 "nbformat_minor": 5
}