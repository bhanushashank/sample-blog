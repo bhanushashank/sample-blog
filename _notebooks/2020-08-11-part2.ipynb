{
 "cells": [
  {
   "cell_type": "markdown",
   "id": "98380cd3",
   "metadata": {
    "papermill": {
     "duration": 0.027919,
     "end_time": "2022-01-14T00:24:46.534902",
     "exception": false,
     "start_time": "2022-01-14T00:24:46.506983",
     "status": "completed"
    },
    "tags": []
   },
   "source": [
    "# Distinguish Your Own Digits (DYOD)"
   ]
  },
  {
   "cell_type": "markdown",
   "id": "ef31240d",
   "metadata": {
    "papermill": {
     "duration": 0.024214,
     "end_time": "2022-01-14T00:24:46.583603",
     "exception": false,
     "start_time": "2022-01-14T00:24:46.559389",
     "status": "completed"
    },
    "tags": []
   },
   "source": [
    "You are going to write a classifier that distinguishes between the number 3 and number 8."
   ]
  },
  {
   "cell_type": "code",
   "execution_count": 1,
   "id": "b15c8646",
   "metadata": {
    "execution": {
     "iopub.execute_input": "2022-01-14T00:24:46.644100Z",
     "iopub.status.busy": "2022-01-14T00:24:46.641259Z",
     "iopub.status.idle": "2022-01-14T00:24:46.654305Z",
     "shell.execute_reply": "2022-01-14T00:24:46.653879Z"
    },
    "papermill": {
     "duration": 0.045869,
     "end_time": "2022-01-14T00:24:46.654438",
     "exception": false,
     "start_time": "2022-01-14T00:24:46.608569",
     "status": "completed"
    },
    "tags": []
   },
   "outputs": [],
   "source": [
    "%load_ext autoreload\n",
    "%autoreload 2"
   ]
  },
  {
   "cell_type": "code",
   "execution_count": 2,
   "id": "22ef38dc",
   "metadata": {
    "execution": {
     "iopub.execute_input": "2022-01-14T00:24:46.716932Z",
     "iopub.status.busy": "2022-01-14T00:24:46.715977Z",
     "iopub.status.idle": "2022-01-14T00:24:47.295946Z",
     "shell.execute_reply": "2022-01-14T00:24:47.296475Z"
    },
    "papermill": {
     "duration": 0.618043,
     "end_time": "2022-01-14T00:24:47.296657",
     "exception": false,
     "start_time": "2022-01-14T00:24:46.678614",
     "status": "completed"
    },
    "tags": []
   },
   "outputs": [],
   "source": [
    "%matplotlib inline\n",
    "import numpy as np\n",
    "import matplotlib.pyplot as plt\n",
    "import pandas as pd"
   ]
  },
  {
   "cell_type": "markdown",
   "id": "ba036198",
   "metadata": {
    "papermill": {
     "duration": 0.024019,
     "end_time": "2022-01-14T00:24:47.345559",
     "exception": false,
     "start_time": "2022-01-14T00:24:47.321540",
     "status": "completed"
    },
    "tags": []
   },
   "source": [
    "From the command line run `pip install mnist`. This is a library that will help you bring down the mnist dataset. If you run this from a notebook, you need to put  `!pip install mnist` in a cell by itself."
   ]
  },
  {
   "cell_type": "code",
   "execution_count": 3,
   "id": "bb6ad8a1",
   "metadata": {
    "execution": {
     "iopub.execute_input": "2022-01-14T00:24:47.416895Z",
     "iopub.status.busy": "2022-01-14T00:24:47.409147Z",
     "iopub.status.idle": "2022-01-14T00:24:49.271948Z",
     "shell.execute_reply": "2022-01-14T00:24:49.271019Z"
    },
    "papermill": {
     "duration": 1.90254,
     "end_time": "2022-01-14T00:24:49.272095",
     "exception": false,
     "start_time": "2022-01-14T00:24:47.369555",
     "status": "completed"
    },
    "tags": []
   },
   "outputs": [
    {
     "name": "stdout",
     "output_type": "stream",
     "text": [
      "Collecting mnist\r\n"
     ]
    },
    {
     "name": "stdout",
     "output_type": "stream",
     "text": [
      "  Downloading mnist-0.2.2-py2.py3-none-any.whl (3.5 kB)\r\n",
      "Requirement already satisfied: numpy in /opt/hostedtoolcache/Python/3.6.15/x64/lib/python3.6/site-packages (from mnist) (1.19.5)\r\n"
     ]
    },
    {
     "name": "stdout",
     "output_type": "stream",
     "text": [
      "Installing collected packages: mnist\r\n"
     ]
    },
    {
     "name": "stdout",
     "output_type": "stream",
     "text": [
      "Successfully installed mnist-0.2.2\r\n"
     ]
    }
   ],
   "source": [
    "!pip install mnist"
   ]
  },
  {
   "cell_type": "markdown",
   "id": "69df9c9a",
   "metadata": {
    "papermill": {
     "duration": 0.024958,
     "end_time": "2022-01-14T00:24:49.323038",
     "exception": false,
     "start_time": "2022-01-14T00:24:49.298080",
     "status": "completed"
    },
    "tags": []
   },
   "source": [
    "## Preparing the Data"
   ]
  },
  {
   "cell_type": "code",
   "execution_count": 4,
   "id": "7f69d806",
   "metadata": {
    "execution": {
     "iopub.execute_input": "2022-01-14T00:24:49.389069Z",
     "iopub.status.busy": "2022-01-14T00:24:49.378090Z",
     "iopub.status.idle": "2022-01-14T00:24:49.394045Z",
     "shell.execute_reply": "2022-01-14T00:24:49.393617Z"
    },
    "papermill": {
     "duration": 0.046499,
     "end_time": "2022-01-14T00:24:49.394149",
     "exception": false,
     "start_time": "2022-01-14T00:24:49.347650",
     "status": "completed"
    },
    "tags": []
   },
   "outputs": [],
   "source": [
    "import mnist"
   ]
  },
  {
   "cell_type": "code",
   "execution_count": 5,
   "id": "a411e44f",
   "metadata": {
    "execution": {
     "iopub.execute_input": "2022-01-14T00:24:49.453332Z",
     "iopub.status.busy": "2022-01-14T00:24:49.446131Z",
     "iopub.status.idle": "2022-01-14T00:24:49.957515Z",
     "shell.execute_reply": "2022-01-14T00:24:49.956974Z"
    },
    "papermill": {
     "duration": 0.538835,
     "end_time": "2022-01-14T00:24:49.957670",
     "exception": false,
     "start_time": "2022-01-14T00:24:49.418835",
     "status": "completed"
    },
    "tags": []
   },
   "outputs": [],
   "source": [
    "train_images = mnist.train_images()\n",
    "train_labels = mnist.train_labels()"
   ]
  },
  {
   "cell_type": "code",
   "execution_count": 6,
   "id": "dceab3a5",
   "metadata": {
    "execution": {
     "iopub.execute_input": "2022-01-14T00:24:50.028064Z",
     "iopub.status.busy": "2022-01-14T00:24:50.027544Z",
     "iopub.status.idle": "2022-01-14T00:24:50.033483Z",
     "shell.execute_reply": "2022-01-14T00:24:50.033059Z"
    },
    "papermill": {
     "duration": 0.050135,
     "end_time": "2022-01-14T00:24:50.033587",
     "exception": false,
     "start_time": "2022-01-14T00:24:49.983452",
     "status": "completed"
    },
    "tags": []
   },
   "outputs": [
    {
     "data": {
      "text/plain": [
       "((60000, 28, 28), (60000,))"
      ]
     },
     "execution_count": 6,
     "metadata": {},
     "output_type": "execute_result"
    }
   ],
   "source": [
    "train_images.shape, train_labels.shape"
   ]
  },
  {
   "cell_type": "code",
   "execution_count": 7,
   "id": "f50dc2bb",
   "metadata": {
    "execution": {
     "iopub.execute_input": "2022-01-14T00:24:50.095661Z",
     "iopub.status.busy": "2022-01-14T00:24:50.086196Z",
     "iopub.status.idle": "2022-01-14T00:24:50.237117Z",
     "shell.execute_reply": "2022-01-14T00:24:50.237614Z"
    },
    "papermill": {
     "duration": 0.179349,
     "end_time": "2022-01-14T00:24:50.237788",
     "exception": false,
     "start_time": "2022-01-14T00:24:50.058439",
     "status": "completed"
    },
    "tags": []
   },
   "outputs": [],
   "source": [
    "test_images = mnist.test_images()\n",
    "test_labels = mnist.test_labels()"
   ]
  },
  {
   "cell_type": "code",
   "execution_count": 8,
   "id": "fc38cf1b",
   "metadata": {
    "execution": {
     "iopub.execute_input": "2022-01-14T00:24:50.301111Z",
     "iopub.status.busy": "2022-01-14T00:24:50.291700Z",
     "iopub.status.idle": "2022-01-14T00:24:50.307792Z",
     "shell.execute_reply": "2022-01-14T00:24:50.307358Z"
    },
    "papermill": {
     "duration": 0.044687,
     "end_time": "2022-01-14T00:24:50.307902",
     "exception": false,
     "start_time": "2022-01-14T00:24:50.263215",
     "status": "completed"
    },
    "tags": []
   },
   "outputs": [
    {
     "data": {
      "text/plain": [
       "((10000, 28, 28), (10000,))"
      ]
     },
     "execution_count": 8,
     "metadata": {},
     "output_type": "execute_result"
    }
   ],
   "source": [
    "test_images.shape, test_labels.shape"
   ]
  },
  {
   "cell_type": "code",
   "execution_count": 9,
   "id": "f9ed8fe0",
   "metadata": {
    "execution": {
     "iopub.execute_input": "2022-01-14T00:24:50.361482Z",
     "iopub.status.busy": "2022-01-14T00:24:50.360980Z",
     "iopub.status.idle": "2022-01-14T00:24:50.494885Z",
     "shell.execute_reply": "2022-01-14T00:24:50.495354Z"
    },
    "papermill": {
     "duration": 0.162421,
     "end_time": "2022-01-14T00:24:50.495500",
     "exception": false,
     "start_time": "2022-01-14T00:24:50.333079",
     "status": "completed"
    },
    "tags": []
   },
   "outputs": [
    {
     "name": "stdout",
     "output_type": "stream",
     "text": [
      "2\n"
     ]
    },
    {
     "data": {
      "text/plain": [
       "<matplotlib.image.AxesImage at 0x7f486cb15358>"
      ]
     },
     "execution_count": 9,
     "metadata": {},
     "output_type": "execute_result"
    },
    {
     "data": {
      "image/png": "[encoded data removed]",
      "text/plain": [
       "<Figure size 432x288 with 1 Axes>"
      ]
     },
     "metadata": {
      "needs_background": "light"
     },
     "output_type": "display_data"
    }
   ],
   "source": [
    "image_index = 7776 # You may select anything up to 60,000\n",
    "print(train_labels[image_index]) \n",
    "plt.imshow(train_images[image_index], cmap='Greys')"
   ]
  },
  {
   "cell_type": "markdown",
   "id": "a8d2388d",
   "metadata": {
    "papermill": {
     "duration": 0.02633,
     "end_time": "2022-01-14T00:24:50.549185",
     "exception": false,
     "start_time": "2022-01-14T00:24:50.522855",
     "status": "completed"
    },
    "tags": []
   },
   "source": [
    "## Filter data to get 3 and 8 out"
   ]
  },
  {
   "cell_type": "code",
   "execution_count": 10,
   "id": "776f7fc7",
   "metadata": {
    "execution": {
     "iopub.execute_input": "2022-01-14T00:24:50.609358Z",
     "iopub.status.busy": "2022-01-14T00:24:50.608838Z",
     "iopub.status.idle": "2022-01-14T00:24:50.626144Z",
     "shell.execute_reply": "2022-01-14T00:24:50.625674Z"
    },
    "papermill": {
     "duration": 0.050888,
     "end_time": "2022-01-14T00:24:50.626269",
     "exception": false,
     "start_time": "2022-01-14T00:24:50.575381",
     "status": "completed"
    },
    "tags": []
   },
   "outputs": [],
   "source": [
    "train_filter = np.where((train_labels == 3 ) | (train_labels == 8))\n",
    "test_filter = np.where((test_labels == 3) | (test_labels == 8))\n",
    "X_train, y_train = train_images[train_filter], train_labels[train_filter]\n",
    "X_test, y_test = test_images[test_filter], test_labels[test_filter]"
   ]
  },
  {
   "cell_type": "markdown",
   "id": "948f0b7e",
   "metadata": {
    "papermill": {
     "duration": 0.026322,
     "end_time": "2022-01-14T00:24:50.680016",
     "exception": false,
     "start_time": "2022-01-14T00:24:50.653694",
     "status": "completed"
    },
    "tags": []
   },
   "source": [
    "We normalize the pizel values in the 0 to 1 range"
   ]
  },
  {
   "cell_type": "code",
   "execution_count": 11,
   "id": "ee4c2166",
   "metadata": {
    "execution": {
     "iopub.execute_input": "2022-01-14T00:24:50.745452Z",
     "iopub.status.busy": "2022-01-14T00:24:50.744940Z",
     "iopub.status.idle": "2022-01-14T00:24:50.786372Z",
     "shell.execute_reply": "2022-01-14T00:24:50.786846Z"
    },
    "papermill": {
     "duration": 0.080987,
     "end_time": "2022-01-14T00:24:50.787011",
     "exception": false,
     "start_time": "2022-01-14T00:24:50.706024",
     "status": "completed"
    },
    "tags": []
   },
   "outputs": [],
   "source": [
    "X_train = X_train/255.\n",
    "X_test = X_test/255."
   ]
  },
  {
   "cell_type": "markdown",
   "id": "ddcf4fab",
   "metadata": {
    "papermill": {
     "duration": 0.026225,
     "end_time": "2022-01-14T00:24:50.840058",
     "exception": false,
     "start_time": "2022-01-14T00:24:50.813833",
     "status": "completed"
    },
    "tags": []
   },
   "source": [
    "And setup the labels as 1 (when the digit is 3) and 0 (when the digit is 8)"
   ]
  },
  {
   "cell_type": "code",
   "execution_count": 12,
   "id": "7dc908f2",
   "metadata": {
    "execution": {
     "iopub.execute_input": "2022-01-14T00:24:50.899821Z",
     "iopub.status.busy": "2022-01-14T00:24:50.899303Z",
     "iopub.status.idle": "2022-01-14T00:24:50.910301Z",
     "shell.execute_reply": "2022-01-14T00:24:50.910711Z"
    },
    "papermill": {
     "duration": 0.043975,
     "end_time": "2022-01-14T00:24:50.910843",
     "exception": false,
     "start_time": "2022-01-14T00:24:50.866868",
     "status": "completed"
    },
    "tags": []
   },
   "outputs": [],
   "source": [
    "y_train = 1*(y_train==3)\n",
    "y_test = 1*(y_test==3)"
   ]
  },
  {
   "cell_type": "code",
   "execution_count": 13,
   "id": "01e4e969",
   "metadata": {
    "execution": {
     "iopub.execute_input": "2022-01-14T00:24:50.969339Z",
     "iopub.status.busy": "2022-01-14T00:24:50.968841Z",
     "iopub.status.idle": "2022-01-14T00:24:50.979744Z",
     "shell.execute_reply": "2022-01-14T00:24:50.979336Z"
    },
    "papermill": {
     "duration": 0.042789,
     "end_time": "2022-01-14T00:24:50.979856",
     "exception": false,
     "start_time": "2022-01-14T00:24:50.937067",
     "status": "completed"
    },
    "tags": []
   },
   "outputs": [
    {
     "data": {
      "text/plain": [
       "((11982, 28, 28), (1984, 28, 28))"
      ]
     },
     "execution_count": 13,
     "metadata": {},
     "output_type": "execute_result"
    }
   ],
   "source": [
    "X_train.shape, X_test.shape"
   ]
  },
  {
   "cell_type": "markdown",
   "id": "5ccf3f85",
   "metadata": {
    "papermill": {
     "duration": 0.026465,
     "end_time": "2022-01-14T00:24:51.032755",
     "exception": false,
     "start_time": "2022-01-14T00:24:51.006290",
     "status": "completed"
    },
    "tags": []
   },
   "source": [
    "We reshape the data to flatten the image pixels into a set of features or co-variates:"
   ]
  },
  {
   "cell_type": "code",
   "execution_count": 14,
   "id": "5286a4a3",
   "metadata": {
    "execution": {
     "iopub.execute_input": "2022-01-14T00:24:51.093724Z",
     "iopub.status.busy": "2022-01-14T00:24:51.093202Z",
     "iopub.status.idle": "2022-01-14T00:24:51.105072Z",
     "shell.execute_reply": "2022-01-14T00:24:51.104662Z"
    },
    "papermill": {
     "duration": 0.045695,
     "end_time": "2022-01-14T00:24:51.105187",
     "exception": false,
     "start_time": "2022-01-14T00:24:51.059492",
     "status": "completed"
    },
    "tags": []
   },
   "outputs": [
    {
     "data": {
      "text/plain": [
       "((11982, 784), (1984, 784))"
      ]
     },
     "execution_count": 14,
     "metadata": {},
     "output_type": "execute_result"
    }
   ],
   "source": [
    "X_train = X_train.reshape(X_train.shape[0], -1)\n",
    "X_test = X_test.reshape(X_test.shape[0], -1)\n",
    "X_train.shape, X_test.shape"
   ]
  },
  {
   "cell_type": "code",
   "execution_count": 15,
   "id": "73c5f88a",
   "metadata": {
    "execution": {
     "iopub.execute_input": "2022-01-14T00:24:51.165323Z",
     "iopub.status.busy": "2022-01-14T00:24:51.164808Z",
     "iopub.status.idle": "2022-01-14T00:24:51.181589Z",
     "shell.execute_reply": "2022-01-14T00:24:51.181177Z"
    },
    "papermill": {
     "duration": 0.049748,
     "end_time": "2022-01-14T00:24:51.181702",
     "exception": false,
     "start_time": "2022-01-14T00:24:51.131954",
     "status": "completed"
    },
    "tags": []
   },
   "outputs": [],
   "source": [
    "#Impoting functions from 'Kudzu'\n",
    "from kudzu.model import Model\n",
    "from kudzu.train import Learner\n",
    "from kudzu.optim import GD\n",
    "from kudzu.data import Data, Sampler,Dataloader\n",
    "\n",
    "from kudzu.callbacks import AccCallback\n",
    "from kudzu.callbacks import ClfCallback\n",
    "\n",
    "from kudzu.loss import MSE\n",
    "\n",
    "from kudzu.layer import Sigmoid,Relu\n",
    "from kudzu.layer import Affine"
   ]
  },
  {
   "cell_type": "markdown",
   "id": "bc01172a",
   "metadata": {
    "papermill": {
     "duration": 0.026646,
     "end_time": "2022-01-14T00:24:51.235145",
     "exception": false,
     "start_time": "2022-01-14T00:24:51.208499",
     "status": "completed"
    },
    "tags": []
   },
   "source": [
    "### Let us create a `Config` class, to store important parameters. \n",
    "This class essentially plays the role of a dictionary."
   ]
  },
  {
   "cell_type": "code",
   "execution_count": 16,
   "id": "978281aa",
   "metadata": {
    "execution": {
     "iopub.execute_input": "2022-01-14T00:24:51.305534Z",
     "iopub.status.busy": "2022-01-14T00:24:51.298281Z",
     "iopub.status.idle": "2022-01-14T00:24:51.308188Z",
     "shell.execute_reply": "2022-01-14T00:24:51.308583Z"
    },
    "papermill": {
     "duration": 0.046948,
     "end_time": "2022-01-14T00:24:51.308713",
     "exception": false,
     "start_time": "2022-01-14T00:24:51.261765",
     "status": "completed"
    },
    "tags": []
   },
   "outputs": [],
   "source": [
    "class Config:\n",
    "    pass\n",
    "config = Config()\n",
    "config.lr = 0.001\n",
    "config.num_epochs = 250\n",
    "config.bs = 50"
   ]
  },
  {
   "cell_type": "markdown",
   "id": "1385fa59",
   "metadata": {
    "papermill": {
     "duration": 0.026642,
     "end_time": "2022-01-14T00:24:51.362271",
     "exception": false,
     "start_time": "2022-01-14T00:24:51.335629",
     "status": "completed"
    },
    "tags": []
   },
   "source": [
    "### Running Models with the Training data\n",
    "Details about the network layers:\n",
    "- A first affine layer has 784 inputs and does 100 affine transforms. These are followed by a Relu\n",
    "- A second affine layer has 100 inputs from the 100 activations of the past layer, and does 100 affine transforms. These are followed by a Relu\n",
    "- A third affine layer has 100 activations and does 2 affine transformations to create an embedding for visualization. There is no non-linearity here.\n",
    "- A final \"logistic regression\" which has an affine transform from 2 inputs to 1 output, which is squeezed through a sigmoid.\n"
   ]
  },
  {
   "cell_type": "code",
   "execution_count": 17,
   "id": "2b9c66db",
   "metadata": {
    "execution": {
     "iopub.execute_input": "2022-01-14T00:24:51.420427Z",
     "iopub.status.busy": "2022-01-14T00:24:51.419502Z",
     "iopub.status.idle": "2022-01-14T00:24:51.432715Z",
     "shell.execute_reply": "2022-01-14T00:24:51.433150Z"
    },
    "papermill": {
     "duration": 0.044258,
     "end_time": "2022-01-14T00:24:51.433280",
     "exception": false,
     "start_time": "2022-01-14T00:24:51.389022",
     "status": "completed"
    },
    "tags": []
   },
   "outputs": [],
   "source": [
    "data = Data(X_train, y_train.reshape(-1,1))\n",
    "sampler = Sampler(data, config.bs, shuffle=True)\n",
    "\n",
    "dl = Dataloader(data, sampler)\n",
    "\n",
    "opt = GD(config.lr)\n",
    "loss = MSE()"
   ]
  },
  {
   "cell_type": "code",
   "execution_count": 18,
   "id": "b275e4c2",
   "metadata": {
    "execution": {
     "iopub.execute_input": "2022-01-14T00:24:51.490555Z",
     "iopub.status.busy": "2022-01-14T00:24:51.490047Z",
     "iopub.status.idle": "2022-01-14T00:24:51.502789Z",
     "shell.execute_reply": "2022-01-14T00:24:51.502381Z"
    },
    "papermill": {
     "duration": 0.042607,
     "end_time": "2022-01-14T00:24:51.502897",
     "exception": false,
     "start_time": "2022-01-14T00:24:51.460290",
     "status": "completed"
    },
    "tags": []
   },
   "outputs": [],
   "source": [
    "training_data_x = X_train\n",
    "testing_data_x = X_test\n",
    "training_data_y = y_train.reshape(-1,1)\n",
    "testing_data_y = y_test.reshape(-1,1)"
   ]
  },
  {
   "cell_type": "code",
   "execution_count": 19,
   "id": "76951160",
   "metadata": {
    "execution": {
     "iopub.execute_input": "2022-01-14T00:24:51.560815Z",
     "iopub.status.busy": "2022-01-14T00:24:51.560292Z",
     "iopub.status.idle": "2022-01-14T00:24:51.575154Z",
     "shell.execute_reply": "2022-01-14T00:24:51.575587Z"
    },
    "papermill": {
     "duration": 0.046102,
     "end_time": "2022-01-14T00:24:51.575707",
     "exception": false,
     "start_time": "2022-01-14T00:24:51.529605",
     "status": "completed"
    },
    "tags": []
   },
   "outputs": [
    {
     "name": "stdout",
     "output_type": "stream",
     "text": [
      "xavier\n",
      "xavier\n",
      "xavier\n",
      "xavier\n",
      "xavier\n"
     ]
    }
   ],
   "source": [
    "layers = [Affine(\"first\", 784, 100), Relu(\"first\"), Affine(\"second\", 100, 100), Relu(\"second\"), Affine(\"third\", 100, 2), Affine(\"last\", 2, 1), Sigmoid(\"last\")]\n",
    "model_nn = Model(layers)\n",
    "model_lr = Model([Affine(\"logits\", 784, 1), Sigmoid(\"sigmoid\")])"
   ]
  },
  {
   "cell_type": "code",
   "execution_count": 20,
   "id": "6eede77a",
   "metadata": {
    "execution": {
     "iopub.execute_input": "2022-01-14T00:24:51.637351Z",
     "iopub.status.busy": "2022-01-14T00:24:51.636845Z",
     "iopub.status.idle": "2022-01-14T00:24:51.646691Z",
     "shell.execute_reply": "2022-01-14T00:24:51.647169Z"
    },
    "papermill": {
     "duration": 0.044507,
     "end_time": "2022-01-14T00:24:51.647299",
     "exception": false,
     "start_time": "2022-01-14T00:24:51.602792",
     "status": "completed"
    },
    "tags": []
   },
   "outputs": [],
   "source": [
    "nn_learner = Learner(loss, model_nn, opt, config.num_epochs)\n",
    "acc_nn = ClfCallback(nn_learner, config.bs, training_data_x , testing_data_x, training_data_y, testing_data_y)\n",
    "nn_learner.set_callbacks([acc_nn])"
   ]
  },
  {
   "cell_type": "code",
   "execution_count": 21,
   "id": "877b6cc7",
   "metadata": {
    "execution": {
     "iopub.execute_input": "2022-01-14T00:24:51.706707Z",
     "iopub.status.busy": "2022-01-14T00:24:51.706185Z",
     "iopub.status.idle": "2022-01-14T00:24:51.719216Z",
     "shell.execute_reply": "2022-01-14T00:24:51.718776Z"
    },
    "papermill": {
     "duration": 0.044709,
     "end_time": "2022-01-14T00:24:51.719327",
     "exception": false,
     "start_time": "2022-01-14T00:24:51.674618",
     "status": "completed"
    },
    "tags": []
   },
   "outputs": [],
   "source": [
    "lr_learner = Learner(loss, model_lr, opt, config.num_epochs)\n",
    "acc_lr = ClfCallback(lr_learner, config.bs, training_data_x , testing_data_x, training_data_y, testing_data_y)\n",
    "lr_learner.set_callbacks([acc_lr])"
   ]
  },
  {
   "cell_type": "code",
   "execution_count": 22,
   "id": "d9b133c3",
   "metadata": {
    "execution": {
     "iopub.execute_input": "2022-01-14T00:24:51.777109Z",
     "iopub.status.busy": "2022-01-14T00:24:51.776594Z",
     "iopub.status.idle": "2022-01-14T00:26:09.337651Z",
     "shell.execute_reply": "2022-01-14T00:26:09.338435Z"
    },
    "papermill": {
     "duration": 77.592085,
     "end_time": "2022-01-14T00:26:09.338595",
     "exception": false,
     "start_time": "2022-01-14T00:24:51.746510",
     "status": "completed"
    },
    "tags": []
   },
   "outputs": [
    {
     "name": "stdout",
     "output_type": "stream",
     "text": [
      "Epoch 0, Loss 0.2619\n",
      "Training Accuracy: 0.4901, Testing Accuracy: 0.4950\n",
      "\n"
     ]
    },
    {
     "name": "stdout",
     "output_type": "stream",
     "text": [
      "Epoch 10, Loss 0.0972\n",
      "Training Accuracy: 0.9084, Testing Accuracy: 0.9163\n",
      "\n"
     ]
    },
    {
     "name": "stdout",
     "output_type": "stream",
     "text": [
      "Epoch 20, Loss 0.0584\n",
      "Training Accuracy: 0.9387, Testing Accuracy: 0.9491\n",
      "\n"
     ]
    },
    {
     "name": "stdout",
     "output_type": "stream",
     "text": [
      "Epoch 30, Loss 0.0454\n",
      "Training Accuracy: 0.9500, Testing Accuracy: 0.9567\n",
      "\n"
     ]
    },
    {
     "name": "stdout",
     "output_type": "stream",
     "text": [
      "Epoch 40, Loss 0.039\n",
      "Training Accuracy: 0.9563, Testing Accuracy: 0.9637\n",
      "\n"
     ]
    },
    {
     "name": "stdout",
     "output_type": "stream",
     "text": [
      "Epoch 50, Loss 0.0351\n",
      "Training Accuracy: 0.9599, Testing Accuracy: 0.9657\n",
      "\n"
     ]
    },
    {
     "name": "stdout",
     "output_type": "stream",
     "text": [
      "Epoch 60, Loss 0.0325\n",
      "Training Accuracy: 0.9631, Testing Accuracy: 0.9662\n",
      "\n"
     ]
    },
    {
     "name": "stdout",
     "output_type": "stream",
     "text": [
      "Epoch 70, Loss 0.0305\n",
      "Training Accuracy: 0.9656, Testing Accuracy: 0.9667\n",
      "\n"
     ]
    },
    {
     "name": "stdout",
     "output_type": "stream",
     "text": [
      "Epoch 80, Loss 0.0289\n",
      "Training Accuracy: 0.9667, Testing Accuracy: 0.9688\n",
      "\n"
     ]
    },
    {
     "name": "stdout",
     "output_type": "stream",
     "text": [
      "Epoch 90, Loss 0.0276\n",
      "Training Accuracy: 0.9681, Testing Accuracy: 0.9693\n",
      "\n"
     ]
    },
    {
     "name": "stdout",
     "output_type": "stream",
     "text": [
      "Epoch 100, Loss 0.0265\n",
      "Training Accuracy: 0.9698, Testing Accuracy: 0.9698\n",
      "\n"
     ]
    },
    {
     "name": "stdout",
     "output_type": "stream",
     "text": [
      "Epoch 110, Loss 0.0256\n",
      "Training Accuracy: 0.9710, Testing Accuracy: 0.9698\n",
      "\n"
     ]
    },
    {
     "name": "stdout",
     "output_type": "stream",
     "text": [
      "Epoch 120, Loss 0.0247\n",
      "Training Accuracy: 0.9717, Testing Accuracy: 0.9703\n",
      "\n"
     ]
    },
    {
     "name": "stdout",
     "output_type": "stream",
     "text": [
      "Epoch 130, Loss 0.024\n",
      "Training Accuracy: 0.9723, Testing Accuracy: 0.9713\n",
      "\n"
     ]
    },
    {
     "name": "stdout",
     "output_type": "stream",
     "text": [
      "Epoch 140, Loss 0.0233\n",
      "Training Accuracy: 0.9740, Testing Accuracy: 0.9718\n",
      "\n"
     ]
    },
    {
     "name": "stdout",
     "output_type": "stream",
     "text": [
      "Epoch 150, Loss 0.0227\n",
      "Training Accuracy: 0.9746, Testing Accuracy: 0.9718\n",
      "\n"
     ]
    },
    {
     "name": "stdout",
     "output_type": "stream",
     "text": [
      "Epoch 160, Loss 0.0221\n",
      "Training Accuracy: 0.9753, Testing Accuracy: 0.9718\n",
      "\n"
     ]
    },
    {
     "name": "stdout",
     "output_type": "stream",
     "text": [
      "Epoch 170, Loss 0.0215\n",
      "Training Accuracy: 0.9760, Testing Accuracy: 0.9723\n",
      "\n"
     ]
    },
    {
     "name": "stdout",
     "output_type": "stream",
     "text": [
      "Epoch 180, Loss 0.021\n",
      "Training Accuracy: 0.9767, Testing Accuracy: 0.9723\n",
      "\n"
     ]
    },
    {
     "name": "stdout",
     "output_type": "stream",
     "text": [
      "Epoch 190, Loss 0.0205\n",
      "Training Accuracy: 0.9775, Testing Accuracy: 0.9728\n",
      "\n"
     ]
    },
    {
     "name": "stdout",
     "output_type": "stream",
     "text": [
      "Epoch 200, Loss 0.0201\n",
      "Training Accuracy: 0.9778, Testing Accuracy: 0.9728\n",
      "\n"
     ]
    },
    {
     "name": "stdout",
     "output_type": "stream",
     "text": [
      "Epoch 210, Loss 0.0197\n",
      "Training Accuracy: 0.9782, Testing Accuracy: 0.9738\n",
      "\n"
     ]
    },
    {
     "name": "stdout",
     "output_type": "stream",
     "text": [
      "Epoch 220, Loss 0.0193\n",
      "Training Accuracy: 0.9783, Testing Accuracy: 0.9738\n",
      "\n"
     ]
    },
    {
     "name": "stdout",
     "output_type": "stream",
     "text": [
      "Epoch 230, Loss 0.0189\n",
      "Training Accuracy: 0.9789, Testing Accuracy: 0.9738\n",
      "\n"
     ]
    },
    {
     "name": "stdout",
     "output_type": "stream",
     "text": [
      "Epoch 240, Loss 0.0185\n",
      "Training Accuracy: 0.9795, Testing Accuracy: 0.9743\n",
      "\n"
     ]
    },
    {
     "data": {
      "text/plain": [
       "0.023922230107863776"
      ]
     },
     "execution_count": 22,
     "metadata": {},
     "output_type": "execute_result"
    }
   ],
   "source": [
    "nn_learner.train_loop(dl)"
   ]
  },
  {
   "cell_type": "code",
   "execution_count": 23,
   "id": "e0163366",
   "metadata": {
    "execution": {
     "iopub.execute_input": "2022-01-14T00:26:09.418081Z",
     "iopub.status.busy": "2022-01-14T00:26:09.417527Z",
     "iopub.status.idle": "2022-01-14T00:26:23.457391Z",
     "shell.execute_reply": "2022-01-14T00:26:23.458136Z"
    },
    "papermill": {
     "duration": 14.084543,
     "end_time": "2022-01-14T00:26:23.458296",
     "exception": false,
     "start_time": "2022-01-14T00:26:09.373753",
     "status": "completed"
    },
    "tags": []
   },
   "outputs": [
    {
     "name": "stdout",
     "output_type": "stream",
     "text": [
      "Epoch 0, Loss 0.2509\n",
      "Training Accuracy: 0.6497, Testing Accuracy: 0.6462\n",
      "\n"
     ]
    },
    {
     "name": "stdout",
     "output_type": "stream",
     "text": [
      "Epoch 10, Loss 0.1047\n",
      "Training Accuracy: 0.9057, Testing Accuracy: 0.9163\n",
      "\n"
     ]
    },
    {
     "name": "stdout",
     "output_type": "stream",
     "text": [
      "Epoch 20, Loss 0.0804\n",
      "Training Accuracy: 0.9260, Testing Accuracy: 0.9365\n",
      "\n"
     ]
    },
    {
     "name": "stdout",
     "output_type": "stream",
     "text": [
      "Epoch 30, Loss 0.0692\n",
      "Training Accuracy: 0.9343, Testing Accuracy: 0.9476\n",
      "\n"
     ]
    },
    {
     "name": "stdout",
     "output_type": "stream",
     "text": [
      "Epoch 40, Loss 0.0624\n",
      "Training Accuracy: 0.9395, Testing Accuracy: 0.9511\n",
      "\n"
     ]
    },
    {
     "name": "stdout",
     "output_type": "stream",
     "text": [
      "Epoch 50, Loss 0.0578\n",
      "Training Accuracy: 0.9433, Testing Accuracy: 0.9551\n",
      "\n"
     ]
    },
    {
     "name": "stdout",
     "output_type": "stream",
     "text": [
      "Epoch 60, Loss 0.0544\n",
      "Training Accuracy: 0.9452, Testing Accuracy: 0.9567\n",
      "\n"
     ]
    },
    {
     "name": "stdout",
     "output_type": "stream",
     "text": [
      "Epoch 70, Loss 0.0518\n",
      "Training Accuracy: 0.9473, Testing Accuracy: 0.9602\n",
      "\n"
     ]
    },
    {
     "name": "stdout",
     "output_type": "stream",
     "text": [
      "Epoch 80, Loss 0.0497\n",
      "Training Accuracy: 0.9488, Testing Accuracy: 0.9602\n",
      "\n"
     ]
    },
    {
     "name": "stdout",
     "output_type": "stream",
     "text": [
      "Epoch 90, Loss 0.048\n",
      "Training Accuracy: 0.9497, Testing Accuracy: 0.9607\n",
      "\n"
     ]
    },
    {
     "name": "stdout",
     "output_type": "stream",
     "text": [
      "Epoch 100, Loss 0.0466\n",
      "Training Accuracy: 0.9512, Testing Accuracy: 0.9622\n",
      "\n"
     ]
    },
    {
     "name": "stdout",
     "output_type": "stream",
     "text": [
      "Epoch 110, Loss 0.0453\n",
      "Training Accuracy: 0.9526, Testing Accuracy: 0.9622\n",
      "\n"
     ]
    },
    {
     "name": "stdout",
     "output_type": "stream",
     "text": [
      "Epoch 120, Loss 0.0442\n",
      "Training Accuracy: 0.9539, Testing Accuracy: 0.9632\n",
      "\n"
     ]
    },
    {
     "name": "stdout",
     "output_type": "stream",
     "text": [
      "Epoch 130, Loss 0.0433\n",
      "Training Accuracy: 0.9549, Testing Accuracy: 0.9642\n",
      "\n"
     ]
    },
    {
     "name": "stdout",
     "output_type": "stream",
     "text": [
      "Epoch 140, Loss 0.0424\n",
      "Training Accuracy: 0.9559, Testing Accuracy: 0.9652\n",
      "\n"
     ]
    },
    {
     "name": "stdout",
     "output_type": "stream",
     "text": [
      "Epoch 150, Loss 0.0417\n",
      "Training Accuracy: 0.9562, Testing Accuracy: 0.9657\n",
      "\n"
     ]
    },
    {
     "name": "stdout",
     "output_type": "stream",
     "text": [
      "Epoch 160, Loss 0.041\n",
      "Training Accuracy: 0.9568, Testing Accuracy: 0.9657\n",
      "\n"
     ]
    },
    {
     "name": "stdout",
     "output_type": "stream",
     "text": [
      "Epoch 170, Loss 0.0404\n",
      "Training Accuracy: 0.9573, Testing Accuracy: 0.9657\n",
      "\n"
     ]
    },
    {
     "name": "stdout",
     "output_type": "stream",
     "text": [
      "Epoch 180, Loss 0.0398\n",
      "Training Accuracy: 0.9576, Testing Accuracy: 0.9657\n",
      "\n"
     ]
    },
    {
     "name": "stdout",
     "output_type": "stream",
     "text": [
      "Epoch 190, Loss 0.0393\n",
      "Training Accuracy: 0.9579, Testing Accuracy: 0.9657\n",
      "\n"
     ]
    },
    {
     "name": "stdout",
     "output_type": "stream",
     "text": [
      "Epoch 200, Loss 0.0388\n",
      "Training Accuracy: 0.9583, Testing Accuracy: 0.9662\n",
      "\n"
     ]
    },
    {
     "name": "stdout",
     "output_type": "stream",
     "text": [
      "Epoch 210, Loss 0.0383\n",
      "Training Accuracy: 0.9587, Testing Accuracy: 0.9662\n",
      "\n"
     ]
    },
    {
     "name": "stdout",
     "output_type": "stream",
     "text": [
      "Epoch 220, Loss 0.0379\n",
      "Training Accuracy: 0.9591, Testing Accuracy: 0.9677\n",
      "\n"
     ]
    },
    {
     "name": "stdout",
     "output_type": "stream",
     "text": [
      "Epoch 230, Loss 0.0375\n",
      "Training Accuracy: 0.9594, Testing Accuracy: 0.9672\n",
      "\n"
     ]
    },
    {
     "name": "stdout",
     "output_type": "stream",
     "text": [
      "Epoch 240, Loss 0.0371\n",
      "Training Accuracy: 0.9598, Testing Accuracy: 0.9667\n",
      "\n"
     ]
    },
    {
     "data": {
      "text/plain": [
       "0.009554363566080578"
      ]
     },
     "execution_count": 23,
     "metadata": {},
     "output_type": "execute_result"
    }
   ],
   "source": [
    "lr_learner.train_loop(dl)"
   ]
  },
  {
   "cell_type": "code",
   "execution_count": 24,
   "id": "ca410940",
   "metadata": {
    "execution": {
     "iopub.execute_input": "2022-01-14T00:26:23.553370Z",
     "iopub.status.busy": "2022-01-14T00:26:23.552850Z",
     "iopub.status.idle": "2022-01-14T00:26:23.773794Z",
     "shell.execute_reply": "2022-01-14T00:26:23.773114Z"
    },
    "papermill": {
     "duration": 0.273867,
     "end_time": "2022-01-14T00:26:23.773924",
     "exception": false,
     "start_time": "2022-01-14T00:26:23.500057",
     "status": "completed"
    },
    "tags": []
   },
   "outputs": [
    {
     "data": {
      "text/plain": [
       "<matplotlib.legend.Legend at 0x7f486c6f0a90>"
      ]
     },
     "execution_count": 24,
     "metadata": {},
     "output_type": "execute_result"
    },
    {
     "data": {
      "image/png": "[encoded data removed]",
      "text/plain": [
       "<Figure size 1080x720 with 1 Axes>"
      ]
     },
     "metadata": {
      "needs_background": "light"
     },
     "output_type": "display_data"
    }
   ],
   "source": [
    "#comparing the results of NN and LR\n",
    "plt.figure(figsize=(15,10))\n",
    "\n",
    "# Neural Network plots\n",
    "plt.plot(acc_nn.accuracies, 'r-', label = \"Training Accuracies - NN\")\n",
    "plt.plot(acc_nn.test_accuracies, 'g-', label = \"Testing Accuracies - NN\")\n",
    "\n",
    "# Logistic Regression plots\n",
    "plt.plot(acc_lr.accuracies, 'k-', label = \"Training Accuracies - LR\")\n",
    "plt.plot(acc_lr.test_accuracies, 'b-', label = \"Testing Accuracies - LR\")\n",
    "plt.legend()"
   ]
  },
  {
   "cell_type": "markdown",
   "id": "80dfb35c",
   "metadata": {
    "papermill": {
     "duration": 0.042254,
     "end_time": "2022-01-14T00:26:23.858838",
     "exception": false,
     "start_time": "2022-01-14T00:26:23.816584",
     "status": "completed"
    },
    "tags": []
   },
   "source": [
    "#### Plotting the outputs of this layer of the NN.\n"
   ]
  },
  {
   "cell_type": "code",
   "execution_count": 25,
   "id": "45eb2ff5",
   "metadata": {
    "execution": {
     "iopub.execute_input": "2022-01-14T00:26:23.952908Z",
     "iopub.status.busy": "2022-01-14T00:26:23.948704Z",
     "iopub.status.idle": "2022-01-14T00:26:23.968905Z",
     "shell.execute_reply": "2022-01-14T00:26:23.969323Z"
    },
    "papermill": {
     "duration": 0.06828,
     "end_time": "2022-01-14T00:26:23.969456",
     "exception": false,
     "start_time": "2022-01-14T00:26:23.901176",
     "status": "completed"
    },
    "tags": []
   },
   "outputs": [],
   "source": [
    "new_model = Model(layers[:-2])\n",
    "testing_plot = new_model(testing_data_x)"
   ]
  },
  {
   "cell_type": "code",
   "execution_count": 26,
   "id": "4c0a5485",
   "metadata": {
    "execution": {
     "iopub.execute_input": "2022-01-14T00:26:24.062006Z",
     "iopub.status.busy": "2022-01-14T00:26:24.060577Z",
     "iopub.status.idle": "2022-01-14T00:26:24.267144Z",
     "shell.execute_reply": "2022-01-14T00:26:24.266702Z"
    },
    "papermill": {
     "duration": 0.252784,
     "end_time": "2022-01-14T00:26:24.267270",
     "exception": false,
     "start_time": "2022-01-14T00:26:24.014486",
     "status": "completed"
    },
    "tags": []
   },
   "outputs": [
    {
     "data": {
      "text/plain": [
       "Text(0.5, 1.0, 'Outputs')"
      ]
     },
     "execution_count": 26,
     "metadata": {},
     "output_type": "execute_result"
    },
    {
     "data": {
      "image/png": "[encoded data removed]",
      "text/plain": [
       "<Figure size 576x504 with 1 Axes>"
      ]
     },
     "metadata": {
      "needs_background": "light"
     },
     "output_type": "display_data"
    }
   ],
   "source": [
    "# Plotting the scatter plot of points and color coding by class\n",
    "plt.figure(figsize=(8,7))\n",
    "plt.scatter(testing_plot[:,0], testing_plot[:,1], alpha = 0.1, c = y_test.ravel());\n",
    "plt.title('Outputs')"
   ]
  },
  {
   "cell_type": "markdown",
   "id": "a74fcf8f",
   "metadata": {
    "papermill": {
     "duration": 0.04402,
     "end_time": "2022-01-14T00:26:24.356119",
     "exception": false,
     "start_time": "2022-01-14T00:26:24.312099",
     "status": "completed"
    },
    "tags": []
   },
   "source": [
    "Probability contours"
   ]
  },
  {
   "cell_type": "code",
   "execution_count": 27,
   "id": "d0afc8e3",
   "metadata": {
    "execution": {
     "iopub.execute_input": "2022-01-14T00:26:24.448014Z",
     "iopub.status.busy": "2022-01-14T00:26:24.447505Z",
     "iopub.status.idle": "2022-01-14T00:26:24.460062Z",
     "shell.execute_reply": "2022-01-14T00:26:24.459651Z"
    },
    "papermill": {
     "duration": 0.059864,
     "end_time": "2022-01-14T00:26:24.460196",
     "exception": false,
     "start_time": "2022-01-14T00:26:24.400332",
     "status": "completed"
    },
    "tags": []
   },
   "outputs": [],
   "source": [
    "model_prob = Model(layers[-2:]) "
   ]
  },
  {
   "cell_type": "code",
   "execution_count": 28,
   "id": "9b96e238",
   "metadata": {
    "execution": {
     "iopub.execute_input": "2022-01-14T00:26:24.592876Z",
     "iopub.status.busy": "2022-01-14T00:26:24.590171Z",
     "iopub.status.idle": "2022-01-14T00:26:24.599694Z",
     "shell.execute_reply": "2022-01-14T00:26:24.600072Z"
    },
    "papermill": {
     "duration": 0.095782,
     "end_time": "2022-01-14T00:26:24.600221",
     "exception": false,
     "start_time": "2022-01-14T00:26:24.504439",
     "status": "completed"
    },
    "tags": []
   },
   "outputs": [],
   "source": [
    "#creating the x and y ranges according to the above generated plot.\n",
    "x_range = np.linspace(-4, 1, 100) \n",
    "y_range = np.linspace(-6, 6, 100) \n",
    "x_grid, y_grid = np.meshgrid(x_range, y_range) # x_grid and y_grig are of size 100 X 100\n",
    "\n",
    "# converting x_grid and y_grid to continuous arrays\n",
    "x_gridflat = np.ravel(x_grid)\n",
    "y_gridflat = np.ravel(y_grid)\n",
    "\n",
    "# The last layer of the current model takes two columns as input. Hence transpose of np.vstack() is required.\n",
    "X = np.vstack((x_gridflat, y_gridflat)).T\n",
    "\n",
    "prob_contour = model_prob(X).reshape(100,100) "
   ]
  },
  {
   "cell_type": "code",
   "execution_count": 29,
   "id": "da72499a",
   "metadata": {
    "execution": {
     "iopub.execute_input": "2022-01-14T00:26:24.697336Z",
     "iopub.status.busy": "2022-01-14T00:26:24.696834Z",
     "iopub.status.idle": "2022-01-14T00:26:24.949437Z",
     "shell.execute_reply": "2022-01-14T00:26:24.948990Z"
    },
    "papermill": {
     "duration": 0.304974,
     "end_time": "2022-01-14T00:26:24.949556",
     "exception": false,
     "start_time": "2022-01-14T00:26:24.644582",
     "status": "completed"
    },
    "tags": []
   },
   "outputs": [
    {
     "data": {
      "image/png": "[encoded data removed]",
      "text/plain": [
       "<Figure size 720x648 with 1 Axes>"
      ]
     },
     "metadata": {
      "needs_background": "light"
     },
     "output_type": "display_data"
    }
   ],
   "source": [
    "plt.figure(figsize=(10,9))\n",
    "plt.scatter(testing_plot[:,0], testing_plot[:,1], alpha = 0.1, c = y_test.ravel())\n",
    "contours = plt.contour(x_grid,y_grid,prob_contour)\n",
    "plt.title('Probability Contours')\n",
    "plt.clabel(contours, inline = True );"
   ]
  },
  {
   "cell_type": "code",
   "execution_count": null,
   "id": "e81b4ac7",
   "metadata": {
    "papermill": {
     "duration": 0.04751,
     "end_time": "2022-01-14T00:26:25.045046",
     "exception": false,
     "start_time": "2022-01-14T00:26:24.997536",
     "status": "completed"
    },
    "tags": []
   },
   "outputs": [],
   "source": []
  }
 ],
 "metadata": {
  "kernelspec": {
   "display_name": "Python 3",
   "language": "python",
   "name": "python3"
  },
  "language_info": {
   "codemirror_mode": {
    "name": "ipython",
    "version": 3
   },
   "file_extension": ".py",
   "mimetype": "text/x-python",
   "name": "python",
   "nbconvert_exporter": "python",
   "pygments_lexer": "ipython3",
   "version": "3.6.15"
  },
  "papermill": {
   "default_parameters": {},
   "duration": 99.929476,
   "end_time": "2022-01-14T00:26:25.502076",
   "environment_variables": {},
   "exception": null,
   "input_path": "2020-08-11-part2.ipynb",
   "output_path": "2020-08-11-part2.ipynb",
   "parameters": {},
   "start_time": "2022-01-14T00:24:45.572600",
   "version": "2.3.3"
  }
 },
 "nbformat": 4,
 "nbformat_minor": 5
}