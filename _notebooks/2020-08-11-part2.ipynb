{
 "cells": [
  {
   "cell_type": "markdown",
   "id": "98380cd3",
   "metadata": {
    "papermill": {
     "duration": 0.028004,
     "end_time": "2022-03-08T00:29:34.612736",
     "exception": false,
     "start_time": "2022-03-08T00:29:34.584732",
     "status": "completed"
    },
    "tags": []
   },
   "source": [
    "# Distinguish Your Own Digits (DYOD)"
   ]
  },
  {
   "cell_type": "markdown",
   "id": "ef31240d",
   "metadata": {
    "papermill": {
     "duration": 0.025125,
     "end_time": "2022-03-08T00:29:34.662175",
     "exception": false,
     "start_time": "2022-03-08T00:29:34.637050",
     "status": "completed"
    },
    "tags": []
   },
   "source": [
    "You are going to write a classifier that distinguishes between the number 3 and number 8."
   ]
  },
  {
   "cell_type": "code",
   "execution_count": 1,
   "id": "b15c8646",
   "metadata": {
    "execution": {
     "iopub.execute_input": "2022-03-08T00:29:34.720436Z",
     "iopub.status.busy": "2022-03-08T00:29:34.719856Z",
     "iopub.status.idle": "2022-03-08T00:29:34.729525Z",
     "shell.execute_reply": "2022-03-08T00:29:34.729097Z"
    },
    "papermill": {
     "duration": 0.043921,
     "end_time": "2022-03-08T00:29:34.729651",
     "exception": false,
     "start_time": "2022-03-08T00:29:34.685730",
     "status": "completed"
    },
    "tags": []
   },
   "outputs": [],
   "source": [
    "%load_ext autoreload\n",
    "%autoreload 2"
   ]
  },
  {
   "cell_type": "code",
   "execution_count": 2,
   "id": "22ef38dc",
   "metadata": {
    "execution": {
     "iopub.execute_input": "2022-03-08T00:29:34.780840Z",
     "iopub.status.busy": "2022-03-08T00:29:34.780311Z",
     "iopub.status.idle": "2022-03-08T00:29:35.313588Z",
     "shell.execute_reply": "2022-03-08T00:29:35.313056Z"
    },
    "papermill": {
     "duration": 0.560103,
     "end_time": "2022-03-08T00:29:35.313729",
     "exception": false,
     "start_time": "2022-03-08T00:29:34.753626",
     "status": "completed"
    },
    "tags": []
   },
   "outputs": [],
   "source": [
    "%matplotlib inline\n",
    "import numpy as np\n",
    "import matplotlib.pyplot as plt\n",
    "import pandas as pd"
   ]
  },
  {
   "cell_type": "markdown",
   "id": "ba036198",
   "metadata": {
    "papermill": {
     "duration": 0.023927,
     "end_time": "2022-03-08T00:29:35.362395",
     "exception": false,
     "start_time": "2022-03-08T00:29:35.338468",
     "status": "completed"
    },
    "tags": []
   },
   "source": [
    "From the command line run `pip install mnist`. This is a library that will help you bring down the mnist dataset. If you run this from a notebook, you need to put  `!pip install mnist` in a cell by itself."
   ]
  },
  {
   "cell_type": "code",
   "execution_count": 3,
   "id": "bb6ad8a1",
   "metadata": {
    "execution": {
     "iopub.execute_input": "2022-03-08T00:29:35.415384Z",
     "iopub.status.busy": "2022-03-08T00:29:35.414844Z",
     "iopub.status.idle": "2022-03-08T00:29:37.026725Z",
     "shell.execute_reply": "2022-03-08T00:29:37.026159Z"
    },
    "papermill": {
     "duration": 1.640528,
     "end_time": "2022-03-08T00:29:37.026864",
     "exception": false,
     "start_time": "2022-03-08T00:29:35.386336",
     "status": "completed"
    },
    "tags": []
   },
   "outputs": [
    {
     "name": "stdout",
     "output_type": "stream",
     "text": [
      "Collecting mnist\r\n",
      "  Downloading mnist-0.2.2-py2.py3-none-any.whl (3.5 kB)\r\n",
      "Requirement already satisfied: numpy in /opt/hostedtoolcache/Python/3.6.15/x64/lib/python3.6/site-packages (from mnist) (1.19.5)\r\n"
     ]
    },
    {
     "name": "stdout",
     "output_type": "stream",
     "text": [
      "Installing collected packages: mnist\r\n"
     ]
    },
    {
     "name": "stdout",
     "output_type": "stream",
     "text": [
      "Successfully installed mnist-0.2.2\r\n"
     ]
    }
   ],
   "source": [
    "!pip install mnist"
   ]
  },
  {
   "cell_type": "markdown",
   "id": "69df9c9a",
   "metadata": {
    "papermill": {
     "duration": 0.021877,
     "end_time": "2022-03-08T00:29:37.071090",
     "exception": false,
     "start_time": "2022-03-08T00:29:37.049213",
     "status": "completed"
    },
    "tags": []
   },
   "source": [
    "## Preparing the Data"
   ]
  },
  {
   "cell_type": "code",
   "execution_count": 4,
   "id": "7f69d806",
   "metadata": {
    "execution": {
     "iopub.execute_input": "2022-03-08T00:29:37.132724Z",
     "iopub.status.busy": "2022-03-08T00:29:37.128745Z",
     "iopub.status.idle": "2022-03-08T00:29:37.136479Z",
     "shell.execute_reply": "2022-03-08T00:29:37.136877Z"
    },
    "papermill": {
     "duration": 0.044213,
     "end_time": "2022-03-08T00:29:37.137014",
     "exception": false,
     "start_time": "2022-03-08T00:29:37.092801",
     "status": "completed"
    },
    "tags": []
   },
   "outputs": [],
   "source": [
    "import mnist"
   ]
  },
  {
   "cell_type": "code",
   "execution_count": 5,
   "id": "a411e44f",
   "metadata": {
    "execution": {
     "iopub.execute_input": "2022-03-08T00:29:37.191256Z",
     "iopub.status.busy": "2022-03-08T00:29:37.189844Z",
     "iopub.status.idle": "2022-03-08T00:29:37.737723Z",
     "shell.execute_reply": "2022-03-08T00:29:37.738203Z"
    },
    "papermill": {
     "duration": 0.576736,
     "end_time": "2022-03-08T00:29:37.738375",
     "exception": false,
     "start_time": "2022-03-08T00:29:37.161639",
     "status": "completed"
    },
    "tags": []
   },
   "outputs": [],
   "source": [
    "train_images = mnist.train_images()\n",
    "train_labels = mnist.train_labels()"
   ]
  },
  {
   "cell_type": "code",
   "execution_count": 6,
   "id": "dceab3a5",
   "metadata": {
    "execution": {
     "iopub.execute_input": "2022-03-08T00:29:37.788625Z",
     "iopub.status.busy": "2022-03-08T00:29:37.786801Z",
     "iopub.status.idle": "2022-03-08T00:29:37.801005Z",
     "shell.execute_reply": "2022-03-08T00:29:37.800638Z"
    },
    "papermill": {
     "duration": 0.040402,
     "end_time": "2022-03-08T00:29:37.801110",
     "exception": false,
     "start_time": "2022-03-08T00:29:37.760708",
     "status": "completed"
    },
    "tags": []
   },
   "outputs": [
    {
     "data": {
      "text/plain": [
       "((60000, 28, 28), (60000,))"
      ]
     },
     "execution_count": 6,
     "metadata": {},
     "output_type": "execute_result"
    }
   ],
   "source": [
    "train_images.shape, train_labels.shape"
   ]
  },
  {
   "cell_type": "code",
   "execution_count": 7,
   "id": "f50dc2bb",
   "metadata": {
    "execution": {
     "iopub.execute_input": "2022-03-08T00:29:37.848177Z",
     "iopub.status.busy": "2022-03-08T00:29:37.847681Z",
     "iopub.status.idle": "2022-03-08T00:29:38.010506Z",
     "shell.execute_reply": "2022-03-08T00:29:38.009969Z"
    },
    "papermill": {
     "duration": 0.187739,
     "end_time": "2022-03-08T00:29:38.010655",
     "exception": false,
     "start_time": "2022-03-08T00:29:37.822916",
     "status": "completed"
    },
    "tags": []
   },
   "outputs": [],
   "source": [
    "test_images = mnist.test_images()\n",
    "test_labels = mnist.test_labels()"
   ]
  },
  {
   "cell_type": "code",
   "execution_count": 8,
   "id": "fc38cf1b",
   "metadata": {
    "execution": {
     "iopub.execute_input": "2022-03-08T00:29:38.059286Z",
     "iopub.status.busy": "2022-03-08T00:29:38.058810Z",
     "iopub.status.idle": "2022-03-08T00:29:38.072161Z",
     "shell.execute_reply": "2022-03-08T00:29:38.071749Z"
    },
    "papermill": {
     "duration": 0.038844,
     "end_time": "2022-03-08T00:29:38.072266",
     "exception": false,
     "start_time": "2022-03-08T00:29:38.033422",
     "status": "completed"
    },
    "tags": []
   },
   "outputs": [
    {
     "data": {
      "text/plain": [
       "((10000, 28, 28), (10000,))"
      ]
     },
     "execution_count": 8,
     "metadata": {},
     "output_type": "execute_result"
    }
   ],
   "source": [
    "test_images.shape, test_labels.shape"
   ]
  },
  {
   "cell_type": "code",
   "execution_count": 9,
   "id": "f9ed8fe0",
   "metadata": {
    "execution": {
     "iopub.execute_input": "2022-03-08T00:29:38.134522Z",
     "iopub.status.busy": "2022-03-08T00:29:38.125600Z",
     "iopub.status.idle": "2022-03-08T00:29:38.253684Z",
     "shell.execute_reply": "2022-03-08T00:29:38.253197Z"
    },
    "papermill": {
     "duration": 0.159344,
     "end_time": "2022-03-08T00:29:38.253820",
     "exception": false,
     "start_time": "2022-03-08T00:29:38.094476",
     "status": "completed"
    },
    "tags": []
   },
   "outputs": [
    {
     "name": "stdout",
     "output_type": "stream",
     "text": [
      "2\n"
     ]
    },
    {
     "data": {
      "text/plain": [
       "<matplotlib.image.AxesImage at 0x7f840b312630>"
      ]
     },
     "execution_count": 9,
     "metadata": {},
     "output_type": "execute_result"
    },
    {
     "data": {
      "image/png": "[encoded data removed]",
      "text/plain": [
       "<Figure size 432x288 with 1 Axes>"
      ]
     },
     "metadata": {
      "needs_background": "light"
     },
     "output_type": "display_data"
    }
   ],
   "source": [
    "image_index = 7776 # You may select anything up to 60,000\n",
    "print(train_labels[image_index]) \n",
    "plt.imshow(train_images[image_index], cmap='Greys')"
   ]
  },
  {
   "cell_type": "markdown",
   "id": "a8d2388d",
   "metadata": {
    "papermill": {
     "duration": 0.026359,
     "end_time": "2022-03-08T00:29:38.307198",
     "exception": false,
     "start_time": "2022-03-08T00:29:38.280839",
     "status": "completed"
    },
    "tags": []
   },
   "source": [
    "## Filter data to get 3 and 8 out"
   ]
  },
  {
   "cell_type": "code",
   "execution_count": 10,
   "id": "776f7fc7",
   "metadata": {
    "execution": {
     "iopub.execute_input": "2022-03-08T00:29:38.370995Z",
     "iopub.status.busy": "2022-03-08T00:29:38.363181Z",
     "iopub.status.idle": "2022-03-08T00:29:38.383996Z",
     "shell.execute_reply": "2022-03-08T00:29:38.383553Z"
    },
    "papermill": {
     "duration": 0.050759,
     "end_time": "2022-03-08T00:29:38.384117",
     "exception": false,
     "start_time": "2022-03-08T00:29:38.333358",
     "status": "completed"
    },
    "tags": []
   },
   "outputs": [],
   "source": [
    "train_filter = np.where((train_labels == 3 ) | (train_labels == 8))\n",
    "test_filter = np.where((test_labels == 3) | (test_labels == 8))\n",
    "X_train, y_train = train_images[train_filter], train_labels[train_filter]\n",
    "X_test, y_test = test_images[test_filter], test_labels[test_filter]"
   ]
  },
  {
   "cell_type": "markdown",
   "id": "948f0b7e",
   "metadata": {
    "papermill": {
     "duration": 0.025966,
     "end_time": "2022-03-08T00:29:38.436301",
     "exception": false,
     "start_time": "2022-03-08T00:29:38.410335",
     "status": "completed"
    },
    "tags": []
   },
   "source": [
    "We normalize the pizel values in the 0 to 1 range"
   ]
  },
  {
   "cell_type": "code",
   "execution_count": 11,
   "id": "ee4c2166",
   "metadata": {
    "execution": {
     "iopub.execute_input": "2022-03-08T00:29:38.491796Z",
     "iopub.status.busy": "2022-03-08T00:29:38.491278Z",
     "iopub.status.idle": "2022-03-08T00:29:38.536380Z",
     "shell.execute_reply": "2022-03-08T00:29:38.535829Z"
    },
    "papermill": {
     "duration": 0.074283,
     "end_time": "2022-03-08T00:29:38.536527",
     "exception": false,
     "start_time": "2022-03-08T00:29:38.462244",
     "status": "completed"
    },
    "tags": []
   },
   "outputs": [],
   "source": [
    "X_train = X_train/255.\n",
    "X_test = X_test/255."
   ]
  },
  {
   "cell_type": "markdown",
   "id": "ddcf4fab",
   "metadata": {
    "papermill": {
     "duration": 0.026128,
     "end_time": "2022-03-08T00:29:38.589702",
     "exception": false,
     "start_time": "2022-03-08T00:29:38.563574",
     "status": "completed"
    },
    "tags": []
   },
   "source": [
    "And setup the labels as 1 (when the digit is 3) and 0 (when the digit is 8)"
   ]
  },
  {
   "cell_type": "code",
   "execution_count": 12,
   "id": "7dc908f2",
   "metadata": {
    "execution": {
     "iopub.execute_input": "2022-03-08T00:29:38.656689Z",
     "iopub.status.busy": "2022-03-08T00:29:38.652840Z",
     "iopub.status.idle": "2022-03-08T00:29:38.659689Z",
     "shell.execute_reply": "2022-03-08T00:29:38.660096Z"
    },
    "papermill": {
     "duration": 0.044571,
     "end_time": "2022-03-08T00:29:38.660228",
     "exception": false,
     "start_time": "2022-03-08T00:29:38.615657",
     "status": "completed"
    },
    "tags": []
   },
   "outputs": [],
   "source": [
    "y_train = 1*(y_train==3)\n",
    "y_test = 1*(y_test==3)"
   ]
  },
  {
   "cell_type": "code",
   "execution_count": 13,
   "id": "01e4e969",
   "metadata": {
    "execution": {
     "iopub.execute_input": "2022-03-08T00:29:38.724670Z",
     "iopub.status.busy": "2022-03-08T00:29:38.714763Z",
     "iopub.status.idle": "2022-03-08T00:29:38.731399Z",
     "shell.execute_reply": "2022-03-08T00:29:38.730725Z"
    },
    "papermill": {
     "duration": 0.04532,
     "end_time": "2022-03-08T00:29:38.731516",
     "exception": false,
     "start_time": "2022-03-08T00:29:38.686196",
     "status": "completed"
    },
    "tags": []
   },
   "outputs": [
    {
     "data": {
      "text/plain": [
       "((11982, 28, 28), (1984, 28, 28))"
      ]
     },
     "execution_count": 13,
     "metadata": {},
     "output_type": "execute_result"
    }
   ],
   "source": [
    "X_train.shape, X_test.shape"
   ]
  },
  {
   "cell_type": "markdown",
   "id": "5ccf3f85",
   "metadata": {
    "papermill": {
     "duration": 0.026722,
     "end_time": "2022-03-08T00:29:38.784502",
     "exception": false,
     "start_time": "2022-03-08T00:29:38.757780",
     "status": "completed"
    },
    "tags": []
   },
   "source": [
    "We reshape the data to flatten the image pixels into a set of features or co-variates:"
   ]
  },
  {
   "cell_type": "code",
   "execution_count": 14,
   "id": "5286a4a3",
   "metadata": {
    "execution": {
     "iopub.execute_input": "2022-03-08T00:29:38.846361Z",
     "iopub.status.busy": "2022-03-08T00:29:38.845864Z",
     "iopub.status.idle": "2022-03-08T00:29:38.855449Z",
     "shell.execute_reply": "2022-03-08T00:29:38.854769Z"
    },
    "papermill": {
     "duration": 0.044736,
     "end_time": "2022-03-08T00:29:38.855555",
     "exception": false,
     "start_time": "2022-03-08T00:29:38.810819",
     "status": "completed"
    },
    "tags": []
   },
   "outputs": [
    {
     "data": {
      "text/plain": [
       "((11982, 784), (1984, 784))"
      ]
     },
     "execution_count": 14,
     "metadata": {},
     "output_type": "execute_result"
    }
   ],
   "source": [
    "X_train = X_train.reshape(X_train.shape[0], -1)\n",
    "X_test = X_test.reshape(X_test.shape[0], -1)\n",
    "X_train.shape, X_test.shape"
   ]
  },
  {
   "cell_type": "code",
   "execution_count": 15,
   "id": "73c5f88a",
   "metadata": {
    "execution": {
     "iopub.execute_input": "2022-03-08T00:29:38.916791Z",
     "iopub.status.busy": "2022-03-08T00:29:38.912062Z",
     "iopub.status.idle": "2022-03-08T00:29:38.925856Z",
     "shell.execute_reply": "2022-03-08T00:29:38.926204Z"
    },
    "papermill": {
     "duration": 0.047328,
     "end_time": "2022-03-08T00:29:38.926319",
     "exception": false,
     "start_time": "2022-03-08T00:29:38.878991",
     "status": "completed"
    },
    "tags": []
   },
   "outputs": [],
   "source": [
    "#Impoting functions from 'Kudzu'\n",
    "from kudzu.model import Model\n",
    "from kudzu.train import Learner\n",
    "from kudzu.optim import GD\n",
    "from kudzu.data import Data, Sampler,Dataloader\n",
    "\n",
    "from kudzu.callbacks import AccCallback\n",
    "from kudzu.callbacks import ClfCallback\n",
    "\n",
    "from kudzu.loss import MSE\n",
    "\n",
    "from kudzu.layer import Sigmoid,Relu\n",
    "from kudzu.layer import Affine"
   ]
  },
  {
   "cell_type": "markdown",
   "id": "bc01172a",
   "metadata": {
    "papermill": {
     "duration": 0.023308,
     "end_time": "2022-03-08T00:29:38.973067",
     "exception": false,
     "start_time": "2022-03-08T00:29:38.949759",
     "status": "completed"
    },
    "tags": []
   },
   "source": [
    "### Let us create a `Config` class, to store important parameters. \n",
    "This class essentially plays the role of a dictionary."
   ]
  },
  {
   "cell_type": "code",
   "execution_count": 16,
   "id": "978281aa",
   "metadata": {
    "execution": {
     "iopub.execute_input": "2022-03-08T00:29:39.025094Z",
     "iopub.status.busy": "2022-03-08T00:29:39.024628Z",
     "iopub.status.idle": "2022-03-08T00:29:39.035881Z",
     "shell.execute_reply": "2022-03-08T00:29:39.035492Z"
    },
    "papermill": {
     "duration": 0.039683,
     "end_time": "2022-03-08T00:29:39.035990",
     "exception": false,
     "start_time": "2022-03-08T00:29:38.996307",
     "status": "completed"
    },
    "tags": []
   },
   "outputs": [],
   "source": [
    "class Config:\n",
    "    pass\n",
    "config = Config()\n",
    "config.lr = 0.001\n",
    "config.num_epochs = 250\n",
    "config.bs = 50"
   ]
  },
  {
   "cell_type": "markdown",
   "id": "1385fa59",
   "metadata": {
    "papermill": {
     "duration": 0.023467,
     "end_time": "2022-03-08T00:29:39.082880",
     "exception": false,
     "start_time": "2022-03-08T00:29:39.059413",
     "status": "completed"
    },
    "tags": []
   },
   "source": [
    "### Running Models with the Training data\n",
    "Details about the network layers:\n",
    "- A first affine layer has 784 inputs and does 100 affine transforms. These are followed by a Relu\n",
    "- A second affine layer has 100 inputs from the 100 activations of the past layer, and does 100 affine transforms. These are followed by a Relu\n",
    "- A third affine layer has 100 activations and does 2 affine transformations to create an embedding for visualization. There is no non-linearity here.\n",
    "- A final \"logistic regression\" which has an affine transform from 2 inputs to 1 output, which is squeezed through a sigmoid.\n"
   ]
  },
  {
   "cell_type": "code",
   "execution_count": 17,
   "id": "2b9c66db",
   "metadata": {
    "execution": {
     "iopub.execute_input": "2022-03-08T00:29:39.134129Z",
     "iopub.status.busy": "2022-03-08T00:29:39.133671Z",
     "iopub.status.idle": "2022-03-08T00:29:39.146124Z",
     "shell.execute_reply": "2022-03-08T00:29:39.146517Z"
    },
    "papermill": {
     "duration": 0.040204,
     "end_time": "2022-03-08T00:29:39.146630",
     "exception": false,
     "start_time": "2022-03-08T00:29:39.106426",
     "status": "completed"
    },
    "tags": []
   },
   "outputs": [],
   "source": [
    "data = Data(X_train, y_train.reshape(-1,1))\n",
    "sampler = Sampler(data, config.bs, shuffle=True)\n",
    "\n",
    "dl = Dataloader(data, sampler)\n",
    "\n",
    "opt = GD(config.lr)\n",
    "loss = MSE()"
   ]
  },
  {
   "cell_type": "code",
   "execution_count": 18,
   "id": "b275e4c2",
   "metadata": {
    "execution": {
     "iopub.execute_input": "2022-03-08T00:29:39.197370Z",
     "iopub.status.busy": "2022-03-08T00:29:39.196905Z",
     "iopub.status.idle": "2022-03-08T00:29:39.208420Z",
     "shell.execute_reply": "2022-03-08T00:29:39.208848Z"
    },
    "papermill": {
     "duration": 0.0389,
     "end_time": "2022-03-08T00:29:39.208958",
     "exception": false,
     "start_time": "2022-03-08T00:29:39.170058",
     "status": "completed"
    },
    "tags": []
   },
   "outputs": [],
   "source": [
    "training_data_x = X_train\n",
    "testing_data_x = X_test\n",
    "training_data_y = y_train.reshape(-1,1)\n",
    "testing_data_y = y_test.reshape(-1,1)"
   ]
  },
  {
   "cell_type": "code",
   "execution_count": 19,
   "id": "76951160",
   "metadata": {
    "execution": {
     "iopub.execute_input": "2022-03-08T00:29:39.262205Z",
     "iopub.status.busy": "2022-03-08T00:29:39.261643Z",
     "iopub.status.idle": "2022-03-08T00:29:39.277060Z",
     "shell.execute_reply": "2022-03-08T00:29:39.276413Z"
    },
    "papermill": {
     "duration": 0.044922,
     "end_time": "2022-03-08T00:29:39.277171",
     "exception": false,
     "start_time": "2022-03-08T00:29:39.232249",
     "status": "completed"
    },
    "tags": []
   },
   "outputs": [
    {
     "name": "stdout",
     "output_type": "stream",
     "text": [
      "xavier\n",
      "xavier\n",
      "xavier\n",
      "xavier\n",
      "xavier\n"
     ]
    }
   ],
   "source": [
    "layers = [Affine(\"first\", 784, 100), Relu(\"first\"), Affine(\"second\", 100, 100), Relu(\"second\"), Affine(\"third\", 100, 2), Affine(\"last\", 2, 1), Sigmoid(\"last\")]\n",
    "model_nn = Model(layers)\n",
    "model_lr = Model([Affine(\"logits\", 784, 1), Sigmoid(\"sigmoid\")])"
   ]
  },
  {
   "cell_type": "code",
   "execution_count": 20,
   "id": "6eede77a",
   "metadata": {
    "execution": {
     "iopub.execute_input": "2022-03-08T00:29:39.334416Z",
     "iopub.status.busy": "2022-03-08T00:29:39.333901Z",
     "iopub.status.idle": "2022-03-08T00:29:39.344929Z",
     "shell.execute_reply": "2022-03-08T00:29:39.344520Z"
    },
    "papermill": {
     "duration": 0.040994,
     "end_time": "2022-03-08T00:29:39.345040",
     "exception": false,
     "start_time": "2022-03-08T00:29:39.304046",
     "status": "completed"
    },
    "tags": []
   },
   "outputs": [],
   "source": [
    "nn_learner = Learner(loss, model_nn, opt, config.num_epochs)\n",
    "acc_nn = ClfCallback(nn_learner, config.bs, training_data_x , testing_data_x, training_data_y, testing_data_y)\n",
    "nn_learner.set_callbacks([acc_nn])"
   ]
  },
  {
   "cell_type": "code",
   "execution_count": 21,
   "id": "877b6cc7",
   "metadata": {
    "execution": {
     "iopub.execute_input": "2022-03-08T00:29:39.402416Z",
     "iopub.status.busy": "2022-03-08T00:29:39.401906Z",
     "iopub.status.idle": "2022-03-08T00:29:39.412989Z",
     "shell.execute_reply": "2022-03-08T00:29:39.413400Z"
    },
    "papermill": {
     "duration": 0.041643,
     "end_time": "2022-03-08T00:29:39.413522",
     "exception": false,
     "start_time": "2022-03-08T00:29:39.371879",
     "status": "completed"
    },
    "tags": []
   },
   "outputs": [],
   "source": [
    "lr_learner = Learner(loss, model_lr, opt, config.num_epochs)\n",
    "acc_lr = ClfCallback(lr_learner, config.bs, training_data_x , testing_data_x, training_data_y, testing_data_y)\n",
    "lr_learner.set_callbacks([acc_lr])"
   ]
  },
  {
   "cell_type": "code",
   "execution_count": 22,
   "id": "d9b133c3",
   "metadata": {
    "execution": {
     "iopub.execute_input": "2022-03-08T00:29:39.475525Z",
     "iopub.status.busy": "2022-03-08T00:29:39.475063Z",
     "iopub.status.idle": "2022-03-08T00:30:54.564736Z",
     "shell.execute_reply": "2022-03-08T00:30:54.565196Z"
    },
    "papermill": {
     "duration": 75.125056,
     "end_time": "2022-03-08T00:30:54.565331",
     "exception": false,
     "start_time": "2022-03-08T00:29:39.440275",
     "status": "completed"
    },
    "tags": []
   },
   "outputs": [
    {
     "name": "stdout",
     "output_type": "stream",
     "text": [
      "Epoch 0, Loss 0.2306\n",
      "Training Accuracy: 0.7357, Testing Accuracy: 0.7419\n",
      "\n"
     ]
    },
    {
     "name": "stdout",
     "output_type": "stream",
     "text": [
      "Epoch 10, Loss 0.086\n",
      "Training Accuracy: 0.9214, Testing Accuracy: 0.9365\n",
      "\n"
     ]
    },
    {
     "name": "stdout",
     "output_type": "stream",
     "text": [
      "Epoch 20, Loss 0.0546\n",
      "Training Accuracy: 0.9423, Testing Accuracy: 0.9546\n",
      "\n"
     ]
    },
    {
     "name": "stdout",
     "output_type": "stream",
     "text": [
      "Epoch 30, Loss 0.0437\n",
      "Training Accuracy: 0.9510, Testing Accuracy: 0.9617\n",
      "\n"
     ]
    },
    {
     "name": "stdout",
     "output_type": "stream",
     "text": [
      "Epoch 40, Loss 0.038\n",
      "Training Accuracy: 0.9554, Testing Accuracy: 0.9637\n",
      "\n"
     ]
    },
    {
     "name": "stdout",
     "output_type": "stream",
     "text": [
      "Epoch 50, Loss 0.0345\n",
      "Training Accuracy: 0.9602, Testing Accuracy: 0.9667\n",
      "\n"
     ]
    },
    {
     "name": "stdout",
     "output_type": "stream",
     "text": [
      "Epoch 60, Loss 0.032\n",
      "Training Accuracy: 0.9631, Testing Accuracy: 0.9682\n",
      "\n"
     ]
    },
    {
     "name": "stdout",
     "output_type": "stream",
     "text": [
      "Epoch 70, Loss 0.03\n",
      "Training Accuracy: 0.9654, Testing Accuracy: 0.9718\n",
      "\n"
     ]
    },
    {
     "name": "stdout",
     "output_type": "stream",
     "text": [
      "Epoch 80, Loss 0.0285\n",
      "Training Accuracy: 0.9668, Testing Accuracy: 0.9713\n",
      "\n"
     ]
    },
    {
     "name": "stdout",
     "output_type": "stream",
     "text": [
      "Epoch 90, Loss 0.0272\n",
      "Training Accuracy: 0.9685, Testing Accuracy: 0.9723\n",
      "\n"
     ]
    },
    {
     "name": "stdout",
     "output_type": "stream",
     "text": [
      "Epoch 100, Loss 0.0261\n",
      "Training Accuracy: 0.9693, Testing Accuracy: 0.9733\n",
      "\n"
     ]
    },
    {
     "name": "stdout",
     "output_type": "stream",
     "text": [
      "Epoch 110, Loss 0.0252\n",
      "Training Accuracy: 0.9707, Testing Accuracy: 0.9733\n",
      "\n"
     ]
    },
    {
     "name": "stdout",
     "output_type": "stream",
     "text": [
      "Epoch 120, Loss 0.0243\n",
      "Training Accuracy: 0.9715, Testing Accuracy: 0.9758\n",
      "\n"
     ]
    },
    {
     "name": "stdout",
     "output_type": "stream",
     "text": [
      "Epoch 130, Loss 0.0236\n",
      "Training Accuracy: 0.9727, Testing Accuracy: 0.9758\n",
      "\n"
     ]
    },
    {
     "name": "stdout",
     "output_type": "stream",
     "text": [
      "Epoch 140, Loss 0.0229\n",
      "Training Accuracy: 0.9737, Testing Accuracy: 0.9758\n",
      "\n"
     ]
    },
    {
     "name": "stdout",
     "output_type": "stream",
     "text": [
      "Epoch 150, Loss 0.0222\n",
      "Training Accuracy: 0.9746, Testing Accuracy: 0.9763\n",
      "\n"
     ]
    },
    {
     "name": "stdout",
     "output_type": "stream",
     "text": [
      "Epoch 160, Loss 0.0216\n",
      "Training Accuracy: 0.9752, Testing Accuracy: 0.9768\n",
      "\n"
     ]
    },
    {
     "name": "stdout",
     "output_type": "stream",
     "text": [
      "Epoch 170, Loss 0.0211\n",
      "Training Accuracy: 0.9758, Testing Accuracy: 0.9773\n",
      "\n"
     ]
    },
    {
     "name": "stdout",
     "output_type": "stream",
     "text": [
      "Epoch 180, Loss 0.0206\n",
      "Training Accuracy: 0.9765, Testing Accuracy: 0.9778\n",
      "\n"
     ]
    },
    {
     "name": "stdout",
     "output_type": "stream",
     "text": [
      "Epoch 190, Loss 0.0201\n",
      "Training Accuracy: 0.9777, Testing Accuracy: 0.9778\n",
      "\n"
     ]
    },
    {
     "name": "stdout",
     "output_type": "stream",
     "text": [
      "Epoch 200, Loss 0.0196\n",
      "Training Accuracy: 0.9783, Testing Accuracy: 0.9773\n",
      "\n"
     ]
    },
    {
     "name": "stdout",
     "output_type": "stream",
     "text": [
      "Epoch 210, Loss 0.0192\n",
      "Training Accuracy: 0.9784, Testing Accuracy: 0.9773\n",
      "\n"
     ]
    },
    {
     "name": "stdout",
     "output_type": "stream",
     "text": [
      "Epoch 220, Loss 0.0187\n",
      "Training Accuracy: 0.9787, Testing Accuracy: 0.9783\n",
      "\n"
     ]
    },
    {
     "name": "stdout",
     "output_type": "stream",
     "text": [
      "Epoch 230, Loss 0.0183\n",
      "Training Accuracy: 0.9796, Testing Accuracy: 0.9783\n",
      "\n"
     ]
    },
    {
     "name": "stdout",
     "output_type": "stream",
     "text": [
      "Epoch 240, Loss 0.0179\n",
      "Training Accuracy: 0.9800, Testing Accuracy: 0.9783\n",
      "\n"
     ]
    },
    {
     "data": {
      "text/plain": [
       "0.007324183416045385"
      ]
     },
     "execution_count": 22,
     "metadata": {},
     "output_type": "execute_result"
    }
   ],
   "source": [
    "nn_learner.train_loop(dl)"
   ]
  },
  {
   "cell_type": "code",
   "execution_count": 23,
   "id": "e0163366",
   "metadata": {
    "execution": {
     "iopub.execute_input": "2022-03-08T00:30:54.637379Z",
     "iopub.status.busy": "2022-03-08T00:30:54.636832Z",
     "iopub.status.idle": "2022-03-08T00:31:08.290607Z",
     "shell.execute_reply": "2022-03-08T00:31:08.291294Z"
    },
    "papermill": {
     "duration": 13.695595,
     "end_time": "2022-03-08T00:31:08.291442",
     "exception": false,
     "start_time": "2022-03-08T00:30:54.595847",
     "status": "completed"
    },
    "tags": []
   },
   "outputs": [
    {
     "name": "stdout",
     "output_type": "stream",
     "text": [
      "Epoch 0, Loss 0.2499\n",
      "Training Accuracy: 0.6524, Testing Accuracy: 0.6719\n",
      "\n"
     ]
    },
    {
     "name": "stdout",
     "output_type": "stream",
     "text": [
      "Epoch 10, Loss 0.1033\n",
      "Training Accuracy: 0.9113, Testing Accuracy: 0.9219\n",
      "\n"
     ]
    },
    {
     "name": "stdout",
     "output_type": "stream",
     "text": [
      "Epoch 20, Loss 0.0796\n",
      "Training Accuracy: 0.9261, Testing Accuracy: 0.9420\n",
      "\n"
     ]
    },
    {
     "name": "stdout",
     "output_type": "stream",
     "text": [
      "Epoch 30, Loss 0.0687\n",
      "Training Accuracy: 0.9347, Testing Accuracy: 0.9486\n",
      "\n"
     ]
    },
    {
     "name": "stdout",
     "output_type": "stream",
     "text": [
      "Epoch 40, Loss 0.0621\n",
      "Training Accuracy: 0.9402, Testing Accuracy: 0.9526\n",
      "\n"
     ]
    },
    {
     "name": "stdout",
     "output_type": "stream",
     "text": [
      "Epoch 50, Loss 0.0576\n",
      "Training Accuracy: 0.9442, Testing Accuracy: 0.9536\n",
      "\n"
     ]
    },
    {
     "name": "stdout",
     "output_type": "stream",
     "text": [
      "Epoch 60, Loss 0.0542\n",
      "Training Accuracy: 0.9467, Testing Accuracy: 0.9556\n",
      "\n"
     ]
    },
    {
     "name": "stdout",
     "output_type": "stream",
     "text": [
      "Epoch 70, Loss 0.0516\n",
      "Training Accuracy: 0.9483, Testing Accuracy: 0.9577\n",
      "\n"
     ]
    },
    {
     "name": "stdout",
     "output_type": "stream",
     "text": [
      "Epoch 80, Loss 0.0496\n",
      "Training Accuracy: 0.9503, Testing Accuracy: 0.9612\n",
      "\n"
     ]
    },
    {
     "name": "stdout",
     "output_type": "stream",
     "text": [
      "Epoch 90, Loss 0.0478\n",
      "Training Accuracy: 0.9512, Testing Accuracy: 0.9617\n",
      "\n"
     ]
    },
    {
     "name": "stdout",
     "output_type": "stream",
     "text": [
      "Epoch 100, Loss 0.0464\n",
      "Training Accuracy: 0.9526, Testing Accuracy: 0.9622\n",
      "\n"
     ]
    },
    {
     "name": "stdout",
     "output_type": "stream",
     "text": [
      "Epoch 110, Loss 0.0451\n",
      "Training Accuracy: 0.9545, Testing Accuracy: 0.9622\n",
      "\n"
     ]
    },
    {
     "name": "stdout",
     "output_type": "stream",
     "text": [
      "Epoch 120, Loss 0.044\n",
      "Training Accuracy: 0.9550, Testing Accuracy: 0.9627\n",
      "\n"
     ]
    },
    {
     "name": "stdout",
     "output_type": "stream",
     "text": [
      "Epoch 130, Loss 0.0431\n",
      "Training Accuracy: 0.9554, Testing Accuracy: 0.9627\n",
      "\n"
     ]
    },
    {
     "name": "stdout",
     "output_type": "stream",
     "text": [
      "Epoch 140, Loss 0.0422\n",
      "Training Accuracy: 0.9559, Testing Accuracy: 0.9632\n",
      "\n"
     ]
    },
    {
     "name": "stdout",
     "output_type": "stream",
     "text": [
      "Epoch 150, Loss 0.0415\n",
      "Training Accuracy: 0.9569, Testing Accuracy: 0.9642\n",
      "\n"
     ]
    },
    {
     "name": "stdout",
     "output_type": "stream",
     "text": [
      "Epoch 160, Loss 0.0408\n",
      "Training Accuracy: 0.9575, Testing Accuracy: 0.9642\n",
      "\n"
     ]
    },
    {
     "name": "stdout",
     "output_type": "stream",
     "text": [
      "Epoch 170, Loss 0.0402\n",
      "Training Accuracy: 0.9578, Testing Accuracy: 0.9647\n",
      "\n"
     ]
    },
    {
     "name": "stdout",
     "output_type": "stream",
     "text": [
      "Epoch 180, Loss 0.0396\n",
      "Training Accuracy: 0.9586, Testing Accuracy: 0.9657\n",
      "\n"
     ]
    },
    {
     "name": "stdout",
     "output_type": "stream",
     "text": [
      "Epoch 190, Loss 0.0391\n",
      "Training Accuracy: 0.9591, Testing Accuracy: 0.9652\n",
      "\n"
     ]
    },
    {
     "name": "stdout",
     "output_type": "stream",
     "text": [
      "Epoch 200, Loss 0.0386\n",
      "Training Accuracy: 0.9596, Testing Accuracy: 0.9652\n",
      "\n"
     ]
    },
    {
     "name": "stdout",
     "output_type": "stream",
     "text": [
      "Epoch 210, Loss 0.0381\n",
      "Training Accuracy: 0.9596, Testing Accuracy: 0.9657\n",
      "\n"
     ]
    },
    {
     "name": "stdout",
     "output_type": "stream",
     "text": [
      "Epoch 220, Loss 0.0377\n",
      "Training Accuracy: 0.9601, Testing Accuracy: 0.9657\n",
      "\n"
     ]
    },
    {
     "name": "stdout",
     "output_type": "stream",
     "text": [
      "Epoch 230, Loss 0.0373\n",
      "Training Accuracy: 0.9605, Testing Accuracy: 0.9657\n",
      "\n"
     ]
    },
    {
     "name": "stdout",
     "output_type": "stream",
     "text": [
      "Epoch 240, Loss 0.0369\n",
      "Training Accuracy: 0.9610, Testing Accuracy: 0.9662\n",
      "\n"
     ]
    },
    {
     "data": {
      "text/plain": [
       "0.06130289464318962"
      ]
     },
     "execution_count": 23,
     "metadata": {},
     "output_type": "execute_result"
    }
   ],
   "source": [
    "lr_learner.train_loop(dl)"
   ]
  },
  {
   "cell_type": "code",
   "execution_count": 24,
   "id": "ca410940",
   "metadata": {
    "execution": {
     "iopub.execute_input": "2022-03-08T00:31:08.374959Z",
     "iopub.status.busy": "2022-03-08T00:31:08.373627Z",
     "iopub.status.idle": "2022-03-08T00:31:08.582289Z",
     "shell.execute_reply": "2022-03-08T00:31:08.582721Z"
    },
    "papermill": {
     "duration": 0.254641,
     "end_time": "2022-03-08T00:31:08.582864",
     "exception": false,
     "start_time": "2022-03-08T00:31:08.328223",
     "status": "completed"
    },
    "tags": []
   },
   "outputs": [
    {
     "data": {
      "text/plain": [
       "<matplotlib.legend.Legend at 0x7f840aeedc50>"
      ]
     },
     "execution_count": 24,
     "metadata": {},
     "output_type": "execute_result"
    },
    {
     "data": {
      "image/png": "[encoded data removed]",
      "text/plain": [
       "<Figure size 1080x720 with 1 Axes>"
      ]
     },
     "metadata": {
      "needs_background": "light"
     },
     "output_type": "display_data"
    }
   ],
   "source": [
    "#comparing the results of NN and LR\n",
    "plt.figure(figsize=(15,10))\n",
    "\n",
    "# Neural Network plots\n",
    "plt.plot(acc_nn.accuracies, 'r-', label = \"Training Accuracies - NN\")\n",
    "plt.plot(acc_nn.test_accuracies, 'g-', label = \"Testing Accuracies - NN\")\n",
    "\n",
    "# Logistic Regression plots\n",
    "plt.plot(acc_lr.accuracies, 'k-', label = \"Training Accuracies - LR\")\n",
    "plt.plot(acc_lr.test_accuracies, 'b-', label = \"Testing Accuracies - LR\")\n",
    "plt.legend()"
   ]
  },
  {
   "cell_type": "markdown",
   "id": "80dfb35c",
   "metadata": {
    "papermill": {
     "duration": 0.042067,
     "end_time": "2022-03-08T00:31:08.667626",
     "exception": false,
     "start_time": "2022-03-08T00:31:08.625559",
     "status": "completed"
    },
    "tags": []
   },
   "source": [
    "#### Plotting the outputs of this layer of the NN.\n"
   ]
  },
  {
   "cell_type": "code",
   "execution_count": 25,
   "id": "45eb2ff5",
   "metadata": {
    "execution": {
     "iopub.execute_input": "2022-03-08T00:31:08.765448Z",
     "iopub.status.busy": "2022-03-08T00:31:08.764916Z",
     "iopub.status.idle": "2022-03-08T00:31:08.779927Z",
     "shell.execute_reply": "2022-03-08T00:31:08.780356Z"
    },
    "papermill": {
     "duration": 0.071154,
     "end_time": "2022-03-08T00:31:08.780504",
     "exception": false,
     "start_time": "2022-03-08T00:31:08.709350",
     "status": "completed"
    },
    "tags": []
   },
   "outputs": [],
   "source": [
    "new_model = Model(layers[:-2])\n",
    "testing_plot = new_model(testing_data_x)"
   ]
  },
  {
   "cell_type": "code",
   "execution_count": 26,
   "id": "4c0a5485",
   "metadata": {
    "execution": {
     "iopub.execute_input": "2022-03-08T00:31:08.863267Z",
     "iopub.status.busy": "2022-03-08T00:31:08.862790Z",
     "iopub.status.idle": "2022-03-08T00:31:09.058356Z",
     "shell.execute_reply": "2022-03-08T00:31:09.058719Z"
    },
    "papermill": {
     "duration": 0.240198,
     "end_time": "2022-03-08T00:31:09.058858",
     "exception": false,
     "start_time": "2022-03-08T00:31:08.818660",
     "status": "completed"
    },
    "tags": []
   },
   "outputs": [
    {
     "data": {
      "text/plain": [
       "Text(0.5, 1.0, 'Outputs')"
      ]
     },
     "execution_count": 26,
     "metadata": {},
     "output_type": "execute_result"
    },
    {
     "data": {
      "image/png": "[encoded data removed]",
      "text/plain": [
       "<Figure size 576x504 with 1 Axes>"
      ]
     },
     "metadata": {
      "needs_background": "light"
     },
     "output_type": "display_data"
    }
   ],
   "source": [
    "# Plotting the scatter plot of points and color coding by class\n",
    "plt.figure(figsize=(8,7))\n",
    "plt.scatter(testing_plot[:,0], testing_plot[:,1], alpha = 0.1, c = y_test.ravel());\n",
    "plt.title('Outputs')"
   ]
  },
  {
   "cell_type": "markdown",
   "id": "a74fcf8f",
   "metadata": {
    "papermill": {
     "duration": 0.039755,
     "end_time": "2022-03-08T00:31:09.138533",
     "exception": false,
     "start_time": "2022-03-08T00:31:09.098778",
     "status": "completed"
    },
    "tags": []
   },
   "source": [
    "Probability contours"
   ]
  },
  {
   "cell_type": "code",
   "execution_count": 27,
   "id": "d0afc8e3",
   "metadata": {
    "execution": {
     "iopub.execute_input": "2022-03-08T00:31:09.221857Z",
     "iopub.status.busy": "2022-03-08T00:31:09.221380Z",
     "iopub.status.idle": "2022-03-08T00:31:09.233984Z",
     "shell.execute_reply": "2022-03-08T00:31:09.233587Z"
    },
    "papermill": {
     "duration": 0.05581,
     "end_time": "2022-03-08T00:31:09.234092",
     "exception": false,
     "start_time": "2022-03-08T00:31:09.178282",
     "status": "completed"
    },
    "tags": []
   },
   "outputs": [],
   "source": [
    "model_prob = Model(layers[-2:]) "
   ]
  },
  {
   "cell_type": "code",
   "execution_count": 28,
   "id": "9b96e238",
   "metadata": {
    "execution": {
     "iopub.execute_input": "2022-03-08T00:31:09.318986Z",
     "iopub.status.busy": "2022-03-08T00:31:09.318506Z",
     "iopub.status.idle": "2022-03-08T00:31:09.332777Z",
     "shell.execute_reply": "2022-03-08T00:31:09.333175Z"
    },
    "papermill": {
     "duration": 0.059492,
     "end_time": "2022-03-08T00:31:09.333315",
     "exception": false,
     "start_time": "2022-03-08T00:31:09.273823",
     "status": "completed"
    },
    "tags": []
   },
   "outputs": [],
   "source": [
    "#creating the x and y ranges according to the above generated plot.\n",
    "x_range = np.linspace(-4, 1, 100) \n",
    "y_range = np.linspace(-6, 6, 100) \n",
    "x_grid, y_grid = np.meshgrid(x_range, y_range) # x_grid and y_grig are of size 100 X 100\n",
    "\n",
    "# converting x_grid and y_grid to continuous arrays\n",
    "x_gridflat = np.ravel(x_grid)\n",
    "y_gridflat = np.ravel(y_grid)\n",
    "\n",
    "# The last layer of the current model takes two columns as input. Hence transpose of np.vstack() is required.\n",
    "X = np.vstack((x_gridflat, y_gridflat)).T\n",
    "\n",
    "prob_contour = model_prob(X).reshape(100,100) "
   ]
  },
  {
   "cell_type": "code",
   "execution_count": 29,
   "id": "da72499a",
   "metadata": {
    "execution": {
     "iopub.execute_input": "2022-03-08T00:31:09.460761Z",
     "iopub.status.busy": "2022-03-08T00:31:09.460059Z",
     "iopub.status.idle": "2022-03-08T00:31:09.702485Z",
     "shell.execute_reply": "2022-03-08T00:31:09.702958Z"
    },
    "papermill": {
     "duration": 0.324174,
     "end_time": "2022-03-08T00:31:09.703113",
     "exception": false,
     "start_time": "2022-03-08T00:31:09.378939",
     "status": "completed"
    },
    "tags": []
   },
   "outputs": [
    {
     "data": {
      "image/png": "[encoded data removed]",
      "text/plain": [
       "<Figure size 720x648 with 1 Axes>"
      ]
     },
     "metadata": {
      "needs_background": "light"
     },
     "output_type": "display_data"
    }
   ],
   "source": [
    "plt.figure(figsize=(10,9))\n",
    "plt.scatter(testing_plot[:,0], testing_plot[:,1], alpha = 0.1, c = y_test.ravel())\n",
    "contours = plt.contour(x_grid,y_grid,prob_contour)\n",
    "plt.title('Probability Contours')\n",
    "plt.clabel(contours, inline = True );"
   ]
  },
  {
   "cell_type": "code",
   "execution_count": null,
   "id": "e81b4ac7",
   "metadata": {
    "papermill": {
     "duration": 0.041623,
     "end_time": "2022-03-08T00:31:09.787454",
     "exception": false,
     "start_time": "2022-03-08T00:31:09.745831",
     "status": "completed"
    },
    "tags": []
   },
   "outputs": [],
   "source": []
  }
 ],
 "metadata": {
  "kernelspec": {
   "display_name": "Python 3",
   "language": "python",
   "name": "python3"
  },
  "language_info": {
   "codemirror_mode": {
    "name": "ipython",
    "version": 3
   },
   "file_extension": ".py",
   "mimetype": "text/x-python",
   "name": "python",
   "nbconvert_exporter": "python",
   "pygments_lexer": "ipython3",
   "version": "3.6.15"
  },
  "papermill": {
   "default_parameters": {},
   "duration": 96.774238,
   "end_time": "2022-03-08T00:31:10.248592",
   "environment_variables": {},
   "exception": null,
   "input_path": "2020-08-11-part2.ipynb",
   "output_path": "2020-08-11-part2.ipynb",
   "parameters": {},
   "start_time": "2022-03-08T00:29:33.474354",
   "version": "2.3.3"
  }
 },
 "nbformat": 4,
 "nbformat_minor": 5
}