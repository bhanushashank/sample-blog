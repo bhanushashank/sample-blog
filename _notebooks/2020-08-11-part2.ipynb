{
 "cells": [
  {
   "cell_type": "markdown",
   "id": "98380cd3",
   "metadata": {
    "papermill": {
     "duration": 0.030488,
     "end_time": "2021-09-21T00:19:47.389393",
     "exception": false,
     "start_time": "2021-09-21T00:19:47.358905",
     "status": "completed"
    },
    "tags": []
   },
   "source": [
    "# Distinguish Your Own Digits (DYOD)"
   ]
  },
  {
   "cell_type": "markdown",
   "id": "ef31240d",
   "metadata": {
    "papermill": {
     "duration": 0.026924,
     "end_time": "2021-09-21T00:19:47.443523",
     "exception": false,
     "start_time": "2021-09-21T00:19:47.416599",
     "status": "completed"
    },
    "tags": []
   },
   "source": [
    "You are going to write a classifier that distinguishes between the number 3 and number 8."
   ]
  },
  {
   "cell_type": "code",
   "execution_count": 1,
   "id": "b15c8646",
   "metadata": {
    "execution": {
     "iopub.execute_input": "2021-09-21T00:19:47.513350Z",
     "iopub.status.busy": "2021-09-21T00:19:47.512773Z",
     "iopub.status.idle": "2021-09-21T00:19:47.523648Z",
     "shell.execute_reply": "2021-09-21T00:19:47.523118Z"
    },
    "papermill": {
     "duration": 0.0502,
     "end_time": "2021-09-21T00:19:47.523919",
     "exception": false,
     "start_time": "2021-09-21T00:19:47.473719",
     "status": "completed"
    },
    "tags": []
   },
   "outputs": [],
   "source": [
    "%load_ext autoreload\n",
    "%autoreload 2"
   ]
  },
  {
   "cell_type": "code",
   "execution_count": 2,
   "id": "22ef38dc",
   "metadata": {
    "execution": {
     "iopub.execute_input": "2021-09-21T00:19:47.584216Z",
     "iopub.status.busy": "2021-09-21T00:19:47.583627Z",
     "iopub.status.idle": "2021-09-21T00:19:48.131169Z",
     "shell.execute_reply": "2021-09-21T00:19:48.130609Z"
    },
    "papermill": {
     "duration": 0.579402,
     "end_time": "2021-09-21T00:19:48.131299",
     "exception": false,
     "start_time": "2021-09-21T00:19:47.551897",
     "status": "completed"
    },
    "tags": []
   },
   "outputs": [],
   "source": [
    "%matplotlib inline\n",
    "import numpy as np\n",
    "import matplotlib.pyplot as plt\n",
    "import pandas as pd"
   ]
  },
  {
   "cell_type": "markdown",
   "id": "ba036198",
   "metadata": {
    "papermill": {
     "duration": 0.030082,
     "end_time": "2021-09-21T00:19:48.191844",
     "exception": false,
     "start_time": "2021-09-21T00:19:48.161762",
     "status": "completed"
    },
    "tags": []
   },
   "source": [
    "From the command line run `pip install mnist`. This is a library that will help you bring down the mnist dataset. If you run this from a notebook, you need to put  `!pip install mnist` in a cell by itself."
   ]
  },
  {
   "cell_type": "code",
   "execution_count": 3,
   "id": "bb6ad8a1",
   "metadata": {
    "execution": {
     "iopub.execute_input": "2021-09-21T00:19:48.257271Z",
     "iopub.status.busy": "2021-09-21T00:19:48.255832Z",
     "iopub.status.idle": "2021-09-21T00:19:51.067880Z",
     "shell.execute_reply": "2021-09-21T00:19:51.066548Z"
    },
    "papermill": {
     "duration": 2.847189,
     "end_time": "2021-09-21T00:19:51.068018",
     "exception": false,
     "start_time": "2021-09-21T00:19:48.220829",
     "status": "completed"
    },
    "tags": []
   },
   "outputs": [
    {
     "name": "stdout",
     "output_type": "stream",
     "text": [
      "Collecting mnist\r\n"
     ]
    },
    {
     "name": "stdout",
     "output_type": "stream",
     "text": [
      "  Downloading mnist-0.2.2-py2.py3-none-any.whl (3.5 kB)\r\n",
      "Requirement already satisfied: numpy in /opt/hostedtoolcache/Python/3.6.15/x64/lib/python3.6/site-packages (from mnist) (1.19.5)\r\n"
     ]
    },
    {
     "name": "stdout",
     "output_type": "stream",
     "text": [
      "Installing collected packages: mnist\r\n"
     ]
    },
    {
     "name": "stdout",
     "output_type": "stream",
     "text": [
      "Successfully installed mnist-0.2.2\r\n"
     ]
    }
   ],
   "source": [
    "!pip install mnist"
   ]
  },
  {
   "cell_type": "markdown",
   "id": "69df9c9a",
   "metadata": {
    "papermill": {
     "duration": 0.030359,
     "end_time": "2021-09-21T00:19:51.128868",
     "exception": false,
     "start_time": "2021-09-21T00:19:51.098509",
     "status": "completed"
    },
    "tags": []
   },
   "source": [
    "## Preparing the Data"
   ]
  },
  {
   "cell_type": "code",
   "execution_count": 4,
   "id": "7f69d806",
   "metadata": {
    "execution": {
     "iopub.execute_input": "2021-09-21T00:19:51.200039Z",
     "iopub.status.busy": "2021-09-21T00:19:51.191987Z",
     "iopub.status.idle": "2021-09-21T00:19:51.207205Z",
     "shell.execute_reply": "2021-09-21T00:19:51.207750Z"
    },
    "papermill": {
     "duration": 0.050052,
     "end_time": "2021-09-21T00:19:51.207891",
     "exception": false,
     "start_time": "2021-09-21T00:19:51.157839",
     "status": "completed"
    },
    "tags": []
   },
   "outputs": [],
   "source": [
    "import mnist"
   ]
  },
  {
   "cell_type": "code",
   "execution_count": 5,
   "id": "a411e44f",
   "metadata": {
    "execution": {
     "iopub.execute_input": "2021-09-21T00:19:51.287626Z",
     "iopub.status.busy": "2021-09-21T00:19:51.280012Z",
     "iopub.status.idle": "2021-09-21T00:19:51.855127Z",
     "shell.execute_reply": "2021-09-21T00:19:51.854419Z"
    },
    "papermill": {
     "duration": 0.612006,
     "end_time": "2021-09-21T00:19:51.855270",
     "exception": false,
     "start_time": "2021-09-21T00:19:51.243264",
     "status": "completed"
    },
    "tags": []
   },
   "outputs": [],
   "source": [
    "train_images = mnist.train_images()\n",
    "train_labels = mnist.train_labels()"
   ]
  },
  {
   "cell_type": "code",
   "execution_count": 6,
   "id": "dceab3a5",
   "metadata": {
    "execution": {
     "iopub.execute_input": "2021-09-21T00:19:51.923499Z",
     "iopub.status.busy": "2021-09-21T00:19:51.922787Z",
     "iopub.status.idle": "2021-09-21T00:19:51.938954Z",
     "shell.execute_reply": "2021-09-21T00:19:51.938445Z"
    },
    "papermill": {
     "duration": 0.052213,
     "end_time": "2021-09-21T00:19:51.939084",
     "exception": false,
     "start_time": "2021-09-21T00:19:51.886871",
     "status": "completed"
    },
    "tags": []
   },
   "outputs": [
    {
     "data": {
      "text/plain": [
       "((60000, 28, 28), (60000,))"
      ]
     },
     "execution_count": 6,
     "metadata": {},
     "output_type": "execute_result"
    }
   ],
   "source": [
    "train_images.shape, train_labels.shape"
   ]
  },
  {
   "cell_type": "code",
   "execution_count": 7,
   "id": "f50dc2bb",
   "metadata": {
    "execution": {
     "iopub.execute_input": "2021-09-21T00:19:52.009529Z",
     "iopub.status.busy": "2021-09-21T00:19:52.008207Z",
     "iopub.status.idle": "2021-09-21T00:19:52.170606Z",
     "shell.execute_reply": "2021-09-21T00:19:52.169414Z"
    },
    "papermill": {
     "duration": 0.197803,
     "end_time": "2021-09-21T00:19:52.170737",
     "exception": false,
     "start_time": "2021-09-21T00:19:51.972934",
     "status": "completed"
    },
    "tags": []
   },
   "outputs": [],
   "source": [
    "test_images = mnist.test_images()\n",
    "test_labels = mnist.test_labels()"
   ]
  },
  {
   "cell_type": "code",
   "execution_count": 8,
   "id": "fc38cf1b",
   "metadata": {
    "execution": {
     "iopub.execute_input": "2021-09-21T00:19:52.233935Z",
     "iopub.status.busy": "2021-09-21T00:19:52.232709Z",
     "iopub.status.idle": "2021-09-21T00:19:52.246613Z",
     "shell.execute_reply": "2021-09-21T00:19:52.246025Z"
    },
    "papermill": {
     "duration": 0.04697,
     "end_time": "2021-09-21T00:19:52.246748",
     "exception": false,
     "start_time": "2021-09-21T00:19:52.199778",
     "status": "completed"
    },
    "tags": []
   },
   "outputs": [
    {
     "data": {
      "text/plain": [
       "((10000, 28, 28), (10000,))"
      ]
     },
     "execution_count": 8,
     "metadata": {},
     "output_type": "execute_result"
    }
   ],
   "source": [
    "test_images.shape, test_labels.shape"
   ]
  },
  {
   "cell_type": "code",
   "execution_count": 9,
   "id": "f9ed8fe0",
   "metadata": {
    "execution": {
     "iopub.execute_input": "2021-09-21T00:19:52.313869Z",
     "iopub.status.busy": "2021-09-21T00:19:52.313253Z",
     "iopub.status.idle": "2021-09-21T00:19:52.496154Z",
     "shell.execute_reply": "2021-09-21T00:19:52.496692Z"
    },
    "papermill": {
     "duration": 0.219924,
     "end_time": "2021-09-21T00:19:52.496852",
     "exception": false,
     "start_time": "2021-09-21T00:19:52.276928",
     "status": "completed"
    },
    "tags": []
   },
   "outputs": [
    {
     "name": "stdout",
     "output_type": "stream",
     "text": [
      "2\n"
     ]
    },
    {
     "data": {
      "text/plain": [
       "<matplotlib.image.AxesImage at 0x7f341115b898>"
      ]
     },
     "execution_count": 9,
     "metadata": {},
     "output_type": "execute_result"
    },
    {
     "data": {
      "image/png": "[encoded data removed]",
      "text/plain": [
       "<Figure size 432x288 with 1 Axes>"
      ]
     },
     "metadata": {
      "needs_background": "light"
     },
     "output_type": "display_data"
    }
   ],
   "source": [
    "image_index = 7776 # You may select anything up to 60,000\n",
    "print(train_labels[image_index]) \n",
    "plt.imshow(train_images[image_index], cmap='Greys')"
   ]
  },
  {
   "cell_type": "markdown",
   "id": "a8d2388d",
   "metadata": {
    "papermill": {
     "duration": 0.034422,
     "end_time": "2021-09-21T00:19:52.566114",
     "exception": false,
     "start_time": "2021-09-21T00:19:52.531692",
     "status": "completed"
    },
    "tags": []
   },
   "source": [
    "## Filter data to get 3 and 8 out"
   ]
  },
  {
   "cell_type": "code",
   "execution_count": 10,
   "id": "776f7fc7",
   "metadata": {
    "execution": {
     "iopub.execute_input": "2021-09-21T00:19:52.640467Z",
     "iopub.status.busy": "2021-09-21T00:19:52.639809Z",
     "iopub.status.idle": "2021-09-21T00:19:52.658636Z",
     "shell.execute_reply": "2021-09-21T00:19:52.659103Z"
    },
    "papermill": {
     "duration": 0.059552,
     "end_time": "2021-09-21T00:19:52.659254",
     "exception": false,
     "start_time": "2021-09-21T00:19:52.599702",
     "status": "completed"
    },
    "tags": []
   },
   "outputs": [],
   "source": [
    "train_filter = np.where((train_labels == 3 ) | (train_labels == 8))\n",
    "test_filter = np.where((test_labels == 3) | (test_labels == 8))\n",
    "X_train, y_train = train_images[train_filter], train_labels[train_filter]\n",
    "X_test, y_test = test_images[test_filter], test_labels[test_filter]"
   ]
  },
  {
   "cell_type": "markdown",
   "id": "948f0b7e",
   "metadata": {
    "papermill": {
     "duration": 0.032773,
     "end_time": "2021-09-21T00:19:52.723480",
     "exception": false,
     "start_time": "2021-09-21T00:19:52.690707",
     "status": "completed"
    },
    "tags": []
   },
   "source": [
    "We normalize the pizel values in the 0 to 1 range"
   ]
  },
  {
   "cell_type": "code",
   "execution_count": 11,
   "id": "ee4c2166",
   "metadata": {
    "execution": {
     "iopub.execute_input": "2021-09-21T00:19:52.794523Z",
     "iopub.status.busy": "2021-09-21T00:19:52.793854Z",
     "iopub.status.idle": "2021-09-21T00:19:52.855375Z",
     "shell.execute_reply": "2021-09-21T00:19:52.854777Z"
    },
    "papermill": {
     "duration": 0.099352,
     "end_time": "2021-09-21T00:19:52.855519",
     "exception": false,
     "start_time": "2021-09-21T00:19:52.756167",
     "status": "completed"
    },
    "tags": []
   },
   "outputs": [],
   "source": [
    "X_train = X_train/255.\n",
    "X_test = X_test/255."
   ]
  },
  {
   "cell_type": "markdown",
   "id": "ddcf4fab",
   "metadata": {
    "papermill": {
     "duration": 0.032535,
     "end_time": "2021-09-21T00:19:52.922694",
     "exception": false,
     "start_time": "2021-09-21T00:19:52.890159",
     "status": "completed"
    },
    "tags": []
   },
   "source": [
    "And setup the labels as 1 (when the digit is 3) and 0 (when the digit is 8)"
   ]
  },
  {
   "cell_type": "code",
   "execution_count": 12,
   "id": "7dc908f2",
   "metadata": {
    "execution": {
     "iopub.execute_input": "2021-09-21T00:19:52.996666Z",
     "iopub.status.busy": "2021-09-21T00:19:52.995993Z",
     "iopub.status.idle": "2021-09-21T00:19:53.007972Z",
     "shell.execute_reply": "2021-09-21T00:19:53.007449Z"
    },
    "papermill": {
     "duration": 0.053101,
     "end_time": "2021-09-21T00:19:53.008095",
     "exception": false,
     "start_time": "2021-09-21T00:19:52.954994",
     "status": "completed"
    },
    "tags": []
   },
   "outputs": [],
   "source": [
    "y_train = 1*(y_train==3)\n",
    "y_test = 1*(y_test==3)"
   ]
  },
  {
   "cell_type": "code",
   "execution_count": 13,
   "id": "01e4e969",
   "metadata": {
    "execution": {
     "iopub.execute_input": "2021-09-21T00:19:53.092337Z",
     "iopub.status.busy": "2021-09-21T00:19:53.091546Z",
     "iopub.status.idle": "2021-09-21T00:19:53.095210Z",
     "shell.execute_reply": "2021-09-21T00:19:53.094689Z"
    },
    "papermill": {
     "duration": 0.056398,
     "end_time": "2021-09-21T00:19:53.095374",
     "exception": false,
     "start_time": "2021-09-21T00:19:53.038976",
     "status": "completed"
    },
    "tags": []
   },
   "outputs": [
    {
     "data": {
      "text/plain": [
       "((11982, 28, 28), (1984, 28, 28))"
      ]
     },
     "execution_count": 13,
     "metadata": {},
     "output_type": "execute_result"
    }
   ],
   "source": [
    "X_train.shape, X_test.shape"
   ]
  },
  {
   "cell_type": "markdown",
   "id": "5ccf3f85",
   "metadata": {
    "papermill": {
     "duration": 0.031325,
     "end_time": "2021-09-21T00:19:53.158061",
     "exception": false,
     "start_time": "2021-09-21T00:19:53.126736",
     "status": "completed"
    },
    "tags": []
   },
   "source": [
    "We reshape the data to flatten the image pixels into a set of features or co-variates:"
   ]
  },
  {
   "cell_type": "code",
   "execution_count": 14,
   "id": "5286a4a3",
   "metadata": {
    "execution": {
     "iopub.execute_input": "2021-09-21T00:19:53.229388Z",
     "iopub.status.busy": "2021-09-21T00:19:53.228731Z",
     "iopub.status.idle": "2021-09-21T00:19:53.244123Z",
     "shell.execute_reply": "2021-09-21T00:19:53.244720Z"
    },
    "papermill": {
     "duration": 0.053433,
     "end_time": "2021-09-21T00:19:53.244867",
     "exception": false,
     "start_time": "2021-09-21T00:19:53.191434",
     "status": "completed"
    },
    "tags": []
   },
   "outputs": [
    {
     "data": {
      "text/plain": [
       "((11982, 784), (1984, 784))"
      ]
     },
     "execution_count": 14,
     "metadata": {},
     "output_type": "execute_result"
    }
   ],
   "source": [
    "X_train = X_train.reshape(X_train.shape[0], -1)\n",
    "X_test = X_test.reshape(X_test.shape[0], -1)\n",
    "X_train.shape, X_test.shape"
   ]
  },
  {
   "cell_type": "code",
   "execution_count": 15,
   "id": "73c5f88a",
   "metadata": {
    "execution": {
     "iopub.execute_input": "2021-09-21T00:19:53.316482Z",
     "iopub.status.busy": "2021-09-21T00:19:53.315825Z",
     "iopub.status.idle": "2021-09-21T00:19:53.335419Z",
     "shell.execute_reply": "2021-09-21T00:19:53.334832Z"
    },
    "papermill": {
     "duration": 0.057003,
     "end_time": "2021-09-21T00:19:53.335543",
     "exception": false,
     "start_time": "2021-09-21T00:19:53.278540",
     "status": "completed"
    },
    "tags": []
   },
   "outputs": [],
   "source": [
    "#Impoting functions from 'Kudzu'\n",
    "from kudzu.model import Model\n",
    "from kudzu.train import Learner\n",
    "from kudzu.optim import GD\n",
    "from kudzu.data import Data, Sampler,Dataloader\n",
    "\n",
    "from kudzu.callbacks import AccCallback\n",
    "from kudzu.callbacks import ClfCallback\n",
    "\n",
    "from kudzu.loss import MSE\n",
    "\n",
    "from kudzu.layer import Sigmoid,Relu\n",
    "from kudzu.layer import Affine"
   ]
  },
  {
   "cell_type": "markdown",
   "id": "bc01172a",
   "metadata": {
    "papermill": {
     "duration": 0.031136,
     "end_time": "2021-09-21T00:19:53.398233",
     "exception": false,
     "start_time": "2021-09-21T00:19:53.367097",
     "status": "completed"
    },
    "tags": []
   },
   "source": [
    "### Let us create a `Config` class, to store important parameters. \n",
    "This class essentially plays the role of a dictionary."
   ]
  },
  {
   "cell_type": "code",
   "execution_count": 16,
   "id": "978281aa",
   "metadata": {
    "execution": {
     "iopub.execute_input": "2021-09-21T00:19:53.466255Z",
     "iopub.status.busy": "2021-09-21T00:19:53.465499Z",
     "iopub.status.idle": "2021-09-21T00:19:53.478749Z",
     "shell.execute_reply": "2021-09-21T00:19:53.478207Z"
    },
    "papermill": {
     "duration": 0.048613,
     "end_time": "2021-09-21T00:19:53.478887",
     "exception": false,
     "start_time": "2021-09-21T00:19:53.430274",
     "status": "completed"
    },
    "tags": []
   },
   "outputs": [],
   "source": [
    "class Config:\n",
    "    pass\n",
    "config = Config()\n",
    "config.lr = 0.001\n",
    "config.num_epochs = 250\n",
    "config.bs = 50"
   ]
  },
  {
   "cell_type": "markdown",
   "id": "1385fa59",
   "metadata": {
    "papermill": {
     "duration": 0.032018,
     "end_time": "2021-09-21T00:19:53.544988",
     "exception": false,
     "start_time": "2021-09-21T00:19:53.512970",
     "status": "completed"
    },
    "tags": []
   },
   "source": [
    "### Running Models with the Training data\n",
    "Details about the network layers:\n",
    "- A first affine layer has 784 inputs and does 100 affine transforms. These are followed by a Relu\n",
    "- A second affine layer has 100 inputs from the 100 activations of the past layer, and does 100 affine transforms. These are followed by a Relu\n",
    "- A third affine layer has 100 activations and does 2 affine transformations to create an embedding for visualization. There is no non-linearity here.\n",
    "- A final \"logistic regression\" which has an affine transform from 2 inputs to 1 output, which is squeezed through a sigmoid.\n"
   ]
  },
  {
   "cell_type": "code",
   "execution_count": 17,
   "id": "2b9c66db",
   "metadata": {
    "execution": {
     "iopub.execute_input": "2021-09-21T00:19:53.611236Z",
     "iopub.status.busy": "2021-09-21T00:19:53.610624Z",
     "iopub.status.idle": "2021-09-21T00:19:53.622997Z",
     "shell.execute_reply": "2021-09-21T00:19:53.622434Z"
    },
    "papermill": {
     "duration": 0.047049,
     "end_time": "2021-09-21T00:19:53.623124",
     "exception": false,
     "start_time": "2021-09-21T00:19:53.576075",
     "status": "completed"
    },
    "tags": []
   },
   "outputs": [],
   "source": [
    "data = Data(X_train, y_train.reshape(-1,1))\n",
    "sampler = Sampler(data, config.bs, shuffle=True)\n",
    "\n",
    "dl = Dataloader(data, sampler)\n",
    "\n",
    "opt = GD(config.lr)\n",
    "loss = MSE()"
   ]
  },
  {
   "cell_type": "code",
   "execution_count": 18,
   "id": "b275e4c2",
   "metadata": {
    "execution": {
     "iopub.execute_input": "2021-09-21T00:19:53.689362Z",
     "iopub.status.busy": "2021-09-21T00:19:53.688704Z",
     "iopub.status.idle": "2021-09-21T00:19:53.699870Z",
     "shell.execute_reply": "2021-09-21T00:19:53.700403Z"
    },
    "papermill": {
     "duration": 0.046418,
     "end_time": "2021-09-21T00:19:53.700535",
     "exception": false,
     "start_time": "2021-09-21T00:19:53.654117",
     "status": "completed"
    },
    "tags": []
   },
   "outputs": [],
   "source": [
    "training_data_x = X_train\n",
    "testing_data_x = X_test\n",
    "training_data_y = y_train.reshape(-1,1)\n",
    "testing_data_y = y_test.reshape(-1,1)"
   ]
  },
  {
   "cell_type": "code",
   "execution_count": 19,
   "id": "76951160",
   "metadata": {
    "execution": {
     "iopub.execute_input": "2021-09-21T00:19:53.767430Z",
     "iopub.status.busy": "2021-09-21T00:19:53.766752Z",
     "iopub.status.idle": "2021-09-21T00:19:53.783154Z",
     "shell.execute_reply": "2021-09-21T00:19:53.783657Z"
    },
    "papermill": {
     "duration": 0.052284,
     "end_time": "2021-09-21T00:19:53.783787",
     "exception": false,
     "start_time": "2021-09-21T00:19:53.731503",
     "status": "completed"
    },
    "tags": []
   },
   "outputs": [
    {
     "name": "stdout",
     "output_type": "stream",
     "text": [
      "xavier\n",
      "xavier\n",
      "xavier\n",
      "xavier\n",
      "xavier\n"
     ]
    }
   ],
   "source": [
    "layers = [Affine(\"first\", 784, 100), Relu(\"first\"), Affine(\"second\", 100, 100), Relu(\"second\"), Affine(\"third\", 100, 2), Affine(\"last\", 2, 1), Sigmoid(\"last\")]\n",
    "model_nn = Model(layers)\n",
    "model_lr = Model([Affine(\"logits\", 784, 1), Sigmoid(\"sigmoid\")])"
   ]
  },
  {
   "cell_type": "code",
   "execution_count": 20,
   "id": "6eede77a",
   "metadata": {
    "execution": {
     "iopub.execute_input": "2021-09-21T00:19:53.853146Z",
     "iopub.status.busy": "2021-09-21T00:19:53.852507Z",
     "iopub.status.idle": "2021-09-21T00:19:53.864168Z",
     "shell.execute_reply": "2021-09-21T00:19:53.864693Z"
    },
    "papermill": {
     "duration": 0.046987,
     "end_time": "2021-09-21T00:19:53.864812",
     "exception": false,
     "start_time": "2021-09-21T00:19:53.817825",
     "status": "completed"
    },
    "tags": []
   },
   "outputs": [],
   "source": [
    "nn_learner = Learner(loss, model_nn, opt, config.num_epochs)\n",
    "acc_nn = ClfCallback(nn_learner, config.bs, training_data_x , testing_data_x, training_data_y, testing_data_y)\n",
    "nn_learner.set_callbacks([acc_nn])"
   ]
  },
  {
   "cell_type": "code",
   "execution_count": 21,
   "id": "877b6cc7",
   "metadata": {
    "execution": {
     "iopub.execute_input": "2021-09-21T00:19:53.935960Z",
     "iopub.status.busy": "2021-09-21T00:19:53.935268Z",
     "iopub.status.idle": "2021-09-21T00:19:53.947148Z",
     "shell.execute_reply": "2021-09-21T00:19:53.947837Z"
    },
    "papermill": {
     "duration": 0.049575,
     "end_time": "2021-09-21T00:19:53.947973",
     "exception": false,
     "start_time": "2021-09-21T00:19:53.898398",
     "status": "completed"
    },
    "tags": []
   },
   "outputs": [],
   "source": [
    "lr_learner = Learner(loss, model_lr, opt, config.num_epochs)\n",
    "acc_lr = ClfCallback(lr_learner, config.bs, training_data_x , testing_data_x, training_data_y, testing_data_y)\n",
    "lr_learner.set_callbacks([acc_lr])"
   ]
  },
  {
   "cell_type": "code",
   "execution_count": 22,
   "id": "d9b133c3",
   "metadata": {
    "execution": {
     "iopub.execute_input": "2021-09-21T00:19:54.022795Z",
     "iopub.status.busy": "2021-09-21T00:19:54.022153Z",
     "iopub.status.idle": "2021-09-21T00:21:57.954054Z",
     "shell.execute_reply": "2021-09-21T00:21:57.954915Z"
    },
    "papermill": {
     "duration": 123.974764,
     "end_time": "2021-09-21T00:21:57.955142",
     "exception": false,
     "start_time": "2021-09-21T00:19:53.980378",
     "status": "completed"
    },
    "tags": []
   },
   "outputs": [
    {
     "name": "stdout",
     "output_type": "stream",
     "text": [
      "Epoch 0, Loss 0.2232\n",
      "Training Accuracy: 0.7532, Testing Accuracy: 0.7465\n",
      "\n"
     ]
    },
    {
     "name": "stdout",
     "output_type": "stream",
     "text": [
      "Epoch 10, Loss 0.0695\n",
      "Training Accuracy: 0.9308, Testing Accuracy: 0.9405\n",
      "\n"
     ]
    },
    {
     "name": "stdout",
     "output_type": "stream",
     "text": [
      "Epoch 20, Loss 0.0465\n",
      "Training Accuracy: 0.9524, Testing Accuracy: 0.9602\n",
      "\n"
     ]
    },
    {
     "name": "stdout",
     "output_type": "stream",
     "text": [
      "Epoch 30, Loss 0.0379\n",
      "Training Accuracy: 0.9590, Testing Accuracy: 0.9657\n",
      "\n"
     ]
    },
    {
     "name": "stdout",
     "output_type": "stream",
     "text": [
      "Epoch 40, Loss 0.0333\n",
      "Training Accuracy: 0.9624, Testing Accuracy: 0.9662\n",
      "\n"
     ]
    },
    {
     "name": "stdout",
     "output_type": "stream",
     "text": [
      "Epoch 50, Loss 0.0304\n",
      "Training Accuracy: 0.9659, Testing Accuracy: 0.9672\n",
      "\n"
     ]
    },
    {
     "name": "stdout",
     "output_type": "stream",
     "text": [
      "Epoch 60, Loss 0.0283\n",
      "Training Accuracy: 0.9685, Testing Accuracy: 0.9693\n",
      "\n"
     ]
    },
    {
     "name": "stdout",
     "output_type": "stream",
     "text": [
      "Epoch 70, Loss 0.0267\n",
      "Training Accuracy: 0.9698, Testing Accuracy: 0.9708\n",
      "\n"
     ]
    },
    {
     "name": "stdout",
     "output_type": "stream",
     "text": [
      "Epoch 80, Loss 0.0253\n",
      "Training Accuracy: 0.9722, Testing Accuracy: 0.9713\n",
      "\n"
     ]
    },
    {
     "name": "stdout",
     "output_type": "stream",
     "text": [
      "Epoch 90, Loss 0.0242\n",
      "Training Accuracy: 0.9730, Testing Accuracy: 0.9723\n",
      "\n"
     ]
    },
    {
     "name": "stdout",
     "output_type": "stream",
     "text": [
      "Epoch 100, Loss 0.0233\n",
      "Training Accuracy: 0.9740, Testing Accuracy: 0.9723\n",
      "\n"
     ]
    },
    {
     "name": "stdout",
     "output_type": "stream",
     "text": [
      "Epoch 110, Loss 0.0224\n",
      "Training Accuracy: 0.9747, Testing Accuracy: 0.9723\n",
      "\n"
     ]
    },
    {
     "name": "stdout",
     "output_type": "stream",
     "text": [
      "Epoch 120, Loss 0.0217\n",
      "Training Accuracy: 0.9759, Testing Accuracy: 0.9728\n",
      "\n"
     ]
    },
    {
     "name": "stdout",
     "output_type": "stream",
     "text": [
      "Epoch 130, Loss 0.021\n",
      "Training Accuracy: 0.9773, Testing Accuracy: 0.9738\n",
      "\n"
     ]
    },
    {
     "name": "stdout",
     "output_type": "stream",
     "text": [
      "Epoch 140, Loss 0.0204\n",
      "Training Accuracy: 0.9778, Testing Accuracy: 0.9743\n",
      "\n"
     ]
    },
    {
     "name": "stdout",
     "output_type": "stream",
     "text": [
      "Epoch 150, Loss 0.0198\n",
      "Training Accuracy: 0.9786, Testing Accuracy: 0.9743\n",
      "\n"
     ]
    },
    {
     "name": "stdout",
     "output_type": "stream",
     "text": [
      "Epoch 160, Loss 0.0193\n",
      "Training Accuracy: 0.9793, Testing Accuracy: 0.9738\n",
      "\n"
     ]
    },
    {
     "name": "stdout",
     "output_type": "stream",
     "text": [
      "Epoch 170, Loss 0.0188\n",
      "Training Accuracy: 0.9801, Testing Accuracy: 0.9748\n",
      "\n"
     ]
    },
    {
     "name": "stdout",
     "output_type": "stream",
     "text": [
      "Epoch 180, Loss 0.0183\n",
      "Training Accuracy: 0.9804, Testing Accuracy: 0.9753\n",
      "\n"
     ]
    },
    {
     "name": "stdout",
     "output_type": "stream",
     "text": [
      "Epoch 190, Loss 0.0178\n",
      "Training Accuracy: 0.9810, Testing Accuracy: 0.9773\n",
      "\n"
     ]
    },
    {
     "name": "stdout",
     "output_type": "stream",
     "text": [
      "Epoch 200, Loss 0.0174\n",
      "Training Accuracy: 0.9814, Testing Accuracy: 0.9773\n",
      "\n"
     ]
    },
    {
     "name": "stdout",
     "output_type": "stream",
     "text": [
      "Epoch 210, Loss 0.017\n",
      "Training Accuracy: 0.9819, Testing Accuracy: 0.9773\n",
      "\n"
     ]
    },
    {
     "name": "stdout",
     "output_type": "stream",
     "text": [
      "Epoch 220, Loss 0.0166\n",
      "Training Accuracy: 0.9821, Testing Accuracy: 0.9768\n",
      "\n"
     ]
    },
    {
     "name": "stdout",
     "output_type": "stream",
     "text": [
      "Epoch 230, Loss 0.0162\n",
      "Training Accuracy: 0.9826, Testing Accuracy: 0.9783\n",
      "\n"
     ]
    },
    {
     "name": "stdout",
     "output_type": "stream",
     "text": [
      "Epoch 240, Loss 0.0158\n",
      "Training Accuracy: 0.9826, Testing Accuracy: 0.9783\n",
      "\n"
     ]
    },
    {
     "data": {
      "text/plain": [
       "0.022136516370037877"
      ]
     },
     "execution_count": 22,
     "metadata": {},
     "output_type": "execute_result"
    }
   ],
   "source": [
    "nn_learner.train_loop(dl)"
   ]
  },
  {
   "cell_type": "code",
   "execution_count": 23,
   "id": "e0163366",
   "metadata": {
    "execution": {
     "iopub.execute_input": "2021-09-21T00:21:58.061601Z",
     "iopub.status.busy": "2021-09-21T00:21:58.060858Z",
     "iopub.status.idle": "2021-09-21T00:22:16.773792Z",
     "shell.execute_reply": "2021-09-21T00:22:16.774710Z"
    },
    "papermill": {
     "duration": 18.773891,
     "end_time": "2021-09-21T00:22:16.774876",
     "exception": false,
     "start_time": "2021-09-21T00:21:58.000985",
     "status": "completed"
    },
    "tags": []
   },
   "outputs": [
    {
     "name": "stdout",
     "output_type": "stream",
     "text": [
      "Epoch 0, Loss 0.2426\n",
      "Training Accuracy: 0.6692, Testing Accuracy: 0.7112\n",
      "\n"
     ]
    },
    {
     "name": "stdout",
     "output_type": "stream",
     "text": [
      "Epoch 10, Loss 0.1041\n",
      "Training Accuracy: 0.9061, Testing Accuracy: 0.9178\n",
      "\n"
     ]
    },
    {
     "name": "stdout",
     "output_type": "stream",
     "text": [
      "Epoch 20, Loss 0.0795\n",
      "Training Accuracy: 0.9259, Testing Accuracy: 0.9375\n",
      "\n"
     ]
    },
    {
     "name": "stdout",
     "output_type": "stream",
     "text": [
      "Epoch 30, Loss 0.0682\n",
      "Training Accuracy: 0.9359, Testing Accuracy: 0.9476\n",
      "\n"
     ]
    },
    {
     "name": "stdout",
     "output_type": "stream",
     "text": [
      "Epoch 40, Loss 0.0615\n",
      "Training Accuracy: 0.9413, Testing Accuracy: 0.9551\n",
      "\n"
     ]
    },
    {
     "name": "stdout",
     "output_type": "stream",
     "text": [
      "Epoch 50, Loss 0.0569\n",
      "Training Accuracy: 0.9454, Testing Accuracy: 0.9541\n",
      "\n"
     ]
    },
    {
     "name": "stdout",
     "output_type": "stream",
     "text": [
      "Epoch 60, Loss 0.0535\n",
      "Training Accuracy: 0.9487, Testing Accuracy: 0.9577\n",
      "\n"
     ]
    },
    {
     "name": "stdout",
     "output_type": "stream",
     "text": [
      "Epoch 70, Loss 0.051\n",
      "Training Accuracy: 0.9500, Testing Accuracy: 0.9587\n",
      "\n"
     ]
    },
    {
     "name": "stdout",
     "output_type": "stream",
     "text": [
      "Epoch 80, Loss 0.0489\n",
      "Training Accuracy: 0.9518, Testing Accuracy: 0.9602\n",
      "\n"
     ]
    },
    {
     "name": "stdout",
     "output_type": "stream",
     "text": [
      "Epoch 90, Loss 0.0472\n",
      "Training Accuracy: 0.9530, Testing Accuracy: 0.9617\n",
      "\n"
     ]
    },
    {
     "name": "stdout",
     "output_type": "stream",
     "text": [
      "Epoch 100, Loss 0.0458\n",
      "Training Accuracy: 0.9540, Testing Accuracy: 0.9627\n",
      "\n"
     ]
    },
    {
     "name": "stdout",
     "output_type": "stream",
     "text": [
      "Epoch 110, Loss 0.0446\n",
      "Training Accuracy: 0.9550, Testing Accuracy: 0.9627\n",
      "\n"
     ]
    },
    {
     "name": "stdout",
     "output_type": "stream",
     "text": [
      "Epoch 120, Loss 0.0435\n",
      "Training Accuracy: 0.9556, Testing Accuracy: 0.9642\n",
      "\n"
     ]
    },
    {
     "name": "stdout",
     "output_type": "stream",
     "text": [
      "Epoch 130, Loss 0.0426\n",
      "Training Accuracy: 0.9567, Testing Accuracy: 0.9652\n",
      "\n"
     ]
    },
    {
     "name": "stdout",
     "output_type": "stream",
     "text": [
      "Epoch 140, Loss 0.0418\n",
      "Training Accuracy: 0.9573, Testing Accuracy: 0.9652\n",
      "\n"
     ]
    },
    {
     "name": "stdout",
     "output_type": "stream",
     "text": [
      "Epoch 150, Loss 0.0411\n",
      "Training Accuracy: 0.9578, Testing Accuracy: 0.9647\n",
      "\n"
     ]
    },
    {
     "name": "stdout",
     "output_type": "stream",
     "text": [
      "Epoch 160, Loss 0.0404\n",
      "Training Accuracy: 0.9586, Testing Accuracy: 0.9647\n",
      "\n"
     ]
    },
    {
     "name": "stdout",
     "output_type": "stream",
     "text": [
      "Epoch 170, Loss 0.0398\n",
      "Training Accuracy: 0.9585, Testing Accuracy: 0.9652\n",
      "\n"
     ]
    },
    {
     "name": "stdout",
     "output_type": "stream",
     "text": [
      "Epoch 180, Loss 0.0392\n",
      "Training Accuracy: 0.9589, Testing Accuracy: 0.9662\n",
      "\n"
     ]
    },
    {
     "name": "stdout",
     "output_type": "stream",
     "text": [
      "Epoch 190, Loss 0.0387\n",
      "Training Accuracy: 0.9591, Testing Accuracy: 0.9662\n",
      "\n"
     ]
    },
    {
     "name": "stdout",
     "output_type": "stream",
     "text": [
      "Epoch 200, Loss 0.0382\n",
      "Training Accuracy: 0.9598, Testing Accuracy: 0.9657\n",
      "\n"
     ]
    },
    {
     "name": "stdout",
     "output_type": "stream",
     "text": [
      "Epoch 210, Loss 0.0378\n",
      "Training Accuracy: 0.9600, Testing Accuracy: 0.9662\n",
      "\n"
     ]
    },
    {
     "name": "stdout",
     "output_type": "stream",
     "text": [
      "Epoch 220, Loss 0.0374\n",
      "Training Accuracy: 0.9602, Testing Accuracy: 0.9662\n",
      "\n"
     ]
    },
    {
     "name": "stdout",
     "output_type": "stream",
     "text": [
      "Epoch 230, Loss 0.037\n",
      "Training Accuracy: 0.9611, Testing Accuracy: 0.9662\n",
      "\n"
     ]
    },
    {
     "name": "stdout",
     "output_type": "stream",
     "text": [
      "Epoch 240, Loss 0.0367\n",
      "Training Accuracy: 0.9615, Testing Accuracy: 0.9667\n",
      "\n"
     ]
    },
    {
     "data": {
      "text/plain": [
       "0.015027905247313036"
      ]
     },
     "execution_count": 23,
     "metadata": {},
     "output_type": "execute_result"
    }
   ],
   "source": [
    "lr_learner.train_loop(dl)"
   ]
  },
  {
   "cell_type": "code",
   "execution_count": 24,
   "id": "ca410940",
   "metadata": {
    "execution": {
     "iopub.execute_input": "2021-09-21T00:22:16.899847Z",
     "iopub.status.busy": "2021-09-21T00:22:16.899139Z",
     "iopub.status.idle": "2021-09-21T00:22:17.213047Z",
     "shell.execute_reply": "2021-09-21T00:22:17.212489Z"
    },
    "papermill": {
     "duration": 0.385039,
     "end_time": "2021-09-21T00:22:17.213183",
     "exception": false,
     "start_time": "2021-09-21T00:22:16.828144",
     "status": "completed"
    },
    "tags": []
   },
   "outputs": [
    {
     "data": {
      "text/plain": [
       "<matplotlib.legend.Legend at 0x7f3410cbe908>"
      ]
     },
     "execution_count": 24,
     "metadata": {},
     "output_type": "execute_result"
    },
    {
     "data": {
      "image/png": "[encoded data removed]",
      "text/plain": [
       "<Figure size 1080x720 with 1 Axes>"
      ]
     },
     "metadata": {
      "needs_background": "light"
     },
     "output_type": "display_data"
    }
   ],
   "source": [
    "#comparing the results of NN and LR\n",
    "plt.figure(figsize=(15,10))\n",
    "\n",
    "# Neural Network plots\n",
    "plt.plot(acc_nn.accuracies, 'r-', label = \"Training Accuracies - NN\")\n",
    "plt.plot(acc_nn.test_accuracies, 'g-', label = \"Testing Accuracies - NN\")\n",
    "\n",
    "# Logistic Regression plots\n",
    "plt.plot(acc_lr.accuracies, 'k-', label = \"Training Accuracies - LR\")\n",
    "plt.plot(acc_lr.test_accuracies, 'b-', label = \"Testing Accuracies - LR\")\n",
    "plt.legend()"
   ]
  },
  {
   "cell_type": "markdown",
   "id": "80dfb35c",
   "metadata": {
    "papermill": {
     "duration": 0.053083,
     "end_time": "2021-09-21T00:22:17.319654",
     "exception": false,
     "start_time": "2021-09-21T00:22:17.266571",
     "status": "completed"
    },
    "tags": []
   },
   "source": [
    "#### Plotting the outputs of this layer of the NN.\n"
   ]
  },
  {
   "cell_type": "code",
   "execution_count": 25,
   "id": "45eb2ff5",
   "metadata": {
    "execution": {
     "iopub.execute_input": "2021-09-21T00:22:17.431557Z",
     "iopub.status.busy": "2021-09-21T00:22:17.430498Z",
     "iopub.status.idle": "2021-09-21T00:22:17.457609Z",
     "shell.execute_reply": "2021-09-21T00:22:17.458166Z"
    },
    "papermill": {
     "duration": 0.085728,
     "end_time": "2021-09-21T00:22:17.458333",
     "exception": false,
     "start_time": "2021-09-21T00:22:17.372605",
     "status": "completed"
    },
    "tags": []
   },
   "outputs": [],
   "source": [
    "new_model = Model(layers[:-2])\n",
    "testing_plot = new_model(testing_data_x)"
   ]
  },
  {
   "cell_type": "code",
   "execution_count": 26,
   "id": "4c0a5485",
   "metadata": {
    "execution": {
     "iopub.execute_input": "2021-09-21T00:22:17.581498Z",
     "iopub.status.busy": "2021-09-21T00:22:17.580876Z",
     "iopub.status.idle": "2021-09-21T00:22:17.848969Z",
     "shell.execute_reply": "2021-09-21T00:22:17.848456Z"
    },
    "papermill": {
     "duration": 0.325555,
     "end_time": "2021-09-21T00:22:17.849104",
     "exception": false,
     "start_time": "2021-09-21T00:22:17.523549",
     "status": "completed"
    },
    "tags": []
   },
   "outputs": [
    {
     "data": {
      "text/plain": [
       "Text(0.5, 1.0, 'Outputs')"
      ]
     },
     "execution_count": 26,
     "metadata": {},
     "output_type": "execute_result"
    },
    {
     "data": {
      "image/png": "[encoded data removed]",
      "text/plain": [
       "<Figure size 576x504 with 1 Axes>"
      ]
     },
     "metadata": {
      "needs_background": "light"
     },
     "output_type": "display_data"
    }
   ],
   "source": [
    "# Plotting the scatter plot of points and color coding by class\n",
    "plt.figure(figsize=(8,7))\n",
    "plt.scatter(testing_plot[:,0], testing_plot[:,1], alpha = 0.1, c = y_test.ravel());\n",
    "plt.title('Outputs')"
   ]
  },
  {
   "cell_type": "markdown",
   "id": "a74fcf8f",
   "metadata": {
    "papermill": {
     "duration": 0.054772,
     "end_time": "2021-09-21T00:22:17.960895",
     "exception": false,
     "start_time": "2021-09-21T00:22:17.906123",
     "status": "completed"
    },
    "tags": []
   },
   "source": [
    "Probability contours"
   ]
  },
  {
   "cell_type": "code",
   "execution_count": 27,
   "id": "d0afc8e3",
   "metadata": {
    "execution": {
     "iopub.execute_input": "2021-09-21T00:22:18.100592Z",
     "iopub.status.busy": "2021-09-21T00:22:18.099952Z",
     "iopub.status.idle": "2021-09-21T00:22:18.112624Z",
     "shell.execute_reply": "2021-09-21T00:22:18.113165Z"
    },
    "papermill": {
     "duration": 0.097197,
     "end_time": "2021-09-21T00:22:18.113310",
     "exception": false,
     "start_time": "2021-09-21T00:22:18.016113",
     "status": "completed"
    },
    "tags": []
   },
   "outputs": [],
   "source": [
    "model_prob = Model(layers[-2:]) "
   ]
  },
  {
   "cell_type": "code",
   "execution_count": 28,
   "id": "9b96e238",
   "metadata": {
    "execution": {
     "iopub.execute_input": "2021-09-21T00:22:18.231152Z",
     "iopub.status.busy": "2021-09-21T00:22:18.230473Z",
     "iopub.status.idle": "2021-09-21T00:22:18.245107Z",
     "shell.execute_reply": "2021-09-21T00:22:18.245581Z"
    },
    "papermill": {
     "duration": 0.076537,
     "end_time": "2021-09-21T00:22:18.245730",
     "exception": false,
     "start_time": "2021-09-21T00:22:18.169193",
     "status": "completed"
    },
    "tags": []
   },
   "outputs": [],
   "source": [
    "#creating the x and y ranges according to the above generated plot.\n",
    "x_range = np.linspace(-4, 1, 100) \n",
    "y_range = np.linspace(-6, 6, 100) \n",
    "x_grid, y_grid = np.meshgrid(x_range, y_range) # x_grid and y_grig are of size 100 X 100\n",
    "\n",
    "# converting x_grid and y_grid to continuous arrays\n",
    "x_gridflat = np.ravel(x_grid)\n",
    "y_gridflat = np.ravel(y_grid)\n",
    "\n",
    "# The last layer of the current model takes two columns as input. Hence transpose of np.vstack() is required.\n",
    "X = np.vstack((x_gridflat, y_gridflat)).T\n",
    "\n",
    "prob_contour = model_prob(X).reshape(100,100) "
   ]
  },
  {
   "cell_type": "code",
   "execution_count": 29,
   "id": "da72499a",
   "metadata": {
    "execution": {
     "iopub.execute_input": "2021-09-21T00:22:18.380718Z",
     "iopub.status.busy": "2021-09-21T00:22:18.380081Z",
     "iopub.status.idle": "2021-09-21T00:22:18.684016Z",
     "shell.execute_reply": "2021-09-21T00:22:18.684548Z"
    },
    "papermill": {
     "duration": 0.372889,
     "end_time": "2021-09-21T00:22:18.684709",
     "exception": false,
     "start_time": "2021-09-21T00:22:18.311820",
     "status": "completed"
    },
    "tags": []
   },
   "outputs": [
    {
     "data": {
      "image/png": "[encoded data removed]",
      "text/plain": [
       "<Figure size 720x648 with 1 Axes>"
      ]
     },
     "metadata": {
      "needs_background": "light"
     },
     "output_type": "display_data"
    }
   ],
   "source": [
    "plt.figure(figsize=(10,9))\n",
    "plt.scatter(testing_plot[:,0], testing_plot[:,1], alpha = 0.1, c = y_test.ravel())\n",
    "contours = plt.contour(x_grid,y_grid,prob_contour)\n",
    "plt.title('Probability Contours')\n",
    "plt.clabel(contours, inline = True );"
   ]
  },
  {
   "cell_type": "code",
   "execution_count": null,
   "id": "e81b4ac7",
   "metadata": {
    "papermill": {
     "duration": 0.057298,
     "end_time": "2021-09-21T00:22:18.798377",
     "exception": false,
     "start_time": "2021-09-21T00:22:18.741079",
     "status": "completed"
    },
    "tags": []
   },
   "outputs": [],
   "source": []
  }
 ],
 "metadata": {
  "kernelspec": {
   "display_name": "Python 3",
   "language": "python",
   "name": "python3"
  },
  "language_info": {
   "codemirror_mode": {
    "name": "ipython",
    "version": 3
   },
   "file_extension": ".py",
   "mimetype": "text/x-python",
   "name": "python",
   "nbconvert_exporter": "python",
   "pygments_lexer": "ipython3",
   "version": "3.6.15"
  },
  "papermill": {
   "default_parameters": {},
   "duration": 152.969306,
   "end_time": "2021-09-21T00:22:19.264820",
   "environment_variables": {},
   "exception": null,
   "input_path": "2020-08-11-part2.ipynb",
   "output_path": "2020-08-11-part2.ipynb",
   "parameters": {},
   "start_time": "2021-09-21T00:19:46.295514",
   "version": "2.3.3"
  }
 },
 "nbformat": 4,
 "nbformat_minor": 5
}