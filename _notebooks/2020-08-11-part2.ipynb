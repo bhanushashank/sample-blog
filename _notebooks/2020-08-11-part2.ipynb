{
 "cells": [
  {
   "cell_type": "markdown",
   "id": "98380cd3",
   "metadata": {
    "papermill": {
     "duration": 0.027572,
     "end_time": "2022-01-07T00:25:08.721341",
     "exception": false,
     "start_time": "2022-01-07T00:25:08.693769",
     "status": "completed"
    },
    "tags": []
   },
   "source": [
    "# Distinguish Your Own Digits (DYOD)"
   ]
  },
  {
   "cell_type": "markdown",
   "id": "ef31240d",
   "metadata": {
    "papermill": {
     "duration": 0.023532,
     "end_time": "2022-01-07T00:25:08.769280",
     "exception": false,
     "start_time": "2022-01-07T00:25:08.745748",
     "status": "completed"
    },
    "tags": []
   },
   "source": [
    "You are going to write a classifier that distinguishes between the number 3 and number 8."
   ]
  },
  {
   "cell_type": "code",
   "execution_count": 1,
   "id": "b15c8646",
   "metadata": {
    "execution": {
     "iopub.execute_input": "2022-01-07T00:25:08.828572Z",
     "iopub.status.busy": "2022-01-07T00:25:08.828055Z",
     "iopub.status.idle": "2022-01-07T00:25:08.837736Z",
     "shell.execute_reply": "2022-01-07T00:25:08.838212Z"
    },
    "papermill": {
     "duration": 0.044189,
     "end_time": "2022-01-07T00:25:08.838377",
     "exception": false,
     "start_time": "2022-01-07T00:25:08.794188",
     "status": "completed"
    },
    "tags": []
   },
   "outputs": [],
   "source": [
    "%load_ext autoreload\n",
    "%autoreload 2"
   ]
  },
  {
   "cell_type": "code",
   "execution_count": 2,
   "id": "22ef38dc",
   "metadata": {
    "execution": {
     "iopub.execute_input": "2022-01-07T00:25:08.890220Z",
     "iopub.status.busy": "2022-01-07T00:25:08.889713Z",
     "iopub.status.idle": "2022-01-07T00:25:09.449970Z",
     "shell.execute_reply": "2022-01-07T00:25:09.449457Z"
    },
    "papermill": {
     "duration": 0.587856,
     "end_time": "2022-01-07T00:25:09.450104",
     "exception": false,
     "start_time": "2022-01-07T00:25:08.862248",
     "status": "completed"
    },
    "tags": []
   },
   "outputs": [],
   "source": [
    "%matplotlib inline\n",
    "import numpy as np\n",
    "import matplotlib.pyplot as plt\n",
    "import pandas as pd"
   ]
  },
  {
   "cell_type": "markdown",
   "id": "ba036198",
   "metadata": {
    "papermill": {
     "duration": 0.02381,
     "end_time": "2022-01-07T00:25:09.498953",
     "exception": false,
     "start_time": "2022-01-07T00:25:09.475143",
     "status": "completed"
    },
    "tags": []
   },
   "source": [
    "From the command line run `pip install mnist`. This is a library that will help you bring down the mnist dataset. If you run this from a notebook, you need to put  `!pip install mnist` in a cell by itself."
   ]
  },
  {
   "cell_type": "code",
   "execution_count": 3,
   "id": "bb6ad8a1",
   "metadata": {
    "execution": {
     "iopub.execute_input": "2022-01-07T00:25:09.555791Z",
     "iopub.status.busy": "2022-01-07T00:25:09.555197Z",
     "iopub.status.idle": "2022-01-07T00:25:11.285716Z",
     "shell.execute_reply": "2022-01-07T00:25:11.285227Z"
    },
    "papermill": {
     "duration": 1.762787,
     "end_time": "2022-01-07T00:25:11.285833",
     "exception": false,
     "start_time": "2022-01-07T00:25:09.523046",
     "status": "completed"
    },
    "tags": []
   },
   "outputs": [
    {
     "name": "stdout",
     "output_type": "stream",
     "text": [
      "Collecting mnist\r\n"
     ]
    },
    {
     "name": "stdout",
     "output_type": "stream",
     "text": [
      "  Downloading mnist-0.2.2-py2.py3-none-any.whl (3.5 kB)\r\n",
      "Requirement already satisfied: numpy in /opt/hostedtoolcache/Python/3.6.15/x64/lib/python3.6/site-packages (from mnist) (1.19.5)\r\n"
     ]
    },
    {
     "name": "stdout",
     "output_type": "stream",
     "text": [
      "Installing collected packages: mnist\r\n",
      "Successfully installed mnist-0.2.2\r\n"
     ]
    }
   ],
   "source": [
    "!pip install mnist"
   ]
  },
  {
   "cell_type": "markdown",
   "id": "69df9c9a",
   "metadata": {
    "papermill": {
     "duration": 0.024436,
     "end_time": "2022-01-07T00:25:11.335207",
     "exception": false,
     "start_time": "2022-01-07T00:25:11.310771",
     "status": "completed"
    },
    "tags": []
   },
   "source": [
    "## Preparing the Data"
   ]
  },
  {
   "cell_type": "code",
   "execution_count": 4,
   "id": "7f69d806",
   "metadata": {
    "execution": {
     "iopub.execute_input": "2022-01-07T00:25:11.401483Z",
     "iopub.status.busy": "2022-01-07T00:25:11.400968Z",
     "iopub.status.idle": "2022-01-07T00:25:11.405007Z",
     "shell.execute_reply": "2022-01-07T00:25:11.405416Z"
    },
    "papermill": {
     "duration": 0.045823,
     "end_time": "2022-01-07T00:25:11.405540",
     "exception": false,
     "start_time": "2022-01-07T00:25:11.359717",
     "status": "completed"
    },
    "tags": []
   },
   "outputs": [],
   "source": [
    "import mnist"
   ]
  },
  {
   "cell_type": "code",
   "execution_count": 5,
   "id": "a411e44f",
   "metadata": {
    "execution": {
     "iopub.execute_input": "2022-01-07T00:25:11.474523Z",
     "iopub.status.busy": "2022-01-07T00:25:11.472571Z",
     "iopub.status.idle": "2022-01-07T00:25:12.079706Z",
     "shell.execute_reply": "2022-01-07T00:25:12.078930Z"
    },
    "papermill": {
     "duration": 0.649652,
     "end_time": "2022-01-07T00:25:12.079837",
     "exception": false,
     "start_time": "2022-01-07T00:25:11.430185",
     "status": "completed"
    },
    "tags": []
   },
   "outputs": [],
   "source": [
    "train_images = mnist.train_images()\n",
    "train_labels = mnist.train_labels()"
   ]
  },
  {
   "cell_type": "code",
   "execution_count": 6,
   "id": "dceab3a5",
   "metadata": {
    "execution": {
     "iopub.execute_input": "2022-01-07T00:25:12.133608Z",
     "iopub.status.busy": "2022-01-07T00:25:12.133108Z",
     "iopub.status.idle": "2022-01-07T00:25:12.147325Z",
     "shell.execute_reply": "2022-01-07T00:25:12.146898Z"
    },
    "papermill": {
     "duration": 0.042158,
     "end_time": "2022-01-07T00:25:12.147429",
     "exception": false,
     "start_time": "2022-01-07T00:25:12.105271",
     "status": "completed"
    },
    "tags": []
   },
   "outputs": [
    {
     "data": {
      "text/plain": [
       "((60000, 28, 28), (60000,))"
      ]
     },
     "execution_count": 6,
     "metadata": {},
     "output_type": "execute_result"
    }
   ],
   "source": [
    "train_images.shape, train_labels.shape"
   ]
  },
  {
   "cell_type": "code",
   "execution_count": 7,
   "id": "f50dc2bb",
   "metadata": {
    "execution": {
     "iopub.execute_input": "2022-01-07T00:25:12.213197Z",
     "iopub.status.busy": "2022-01-07T00:25:12.211174Z",
     "iopub.status.idle": "2022-01-07T00:25:12.437413Z",
     "shell.execute_reply": "2022-01-07T00:25:12.436899Z"
    },
    "papermill": {
     "duration": 0.265248,
     "end_time": "2022-01-07T00:25:12.437548",
     "exception": false,
     "start_time": "2022-01-07T00:25:12.172300",
     "status": "completed"
    },
    "tags": []
   },
   "outputs": [],
   "source": [
    "test_images = mnist.test_images()\n",
    "test_labels = mnist.test_labels()"
   ]
  },
  {
   "cell_type": "code",
   "execution_count": 8,
   "id": "fc38cf1b",
   "metadata": {
    "execution": {
     "iopub.execute_input": "2022-01-07T00:25:12.491382Z",
     "iopub.status.busy": "2022-01-07T00:25:12.490880Z",
     "iopub.status.idle": "2022-01-07T00:25:12.503445Z",
     "shell.execute_reply": "2022-01-07T00:25:12.503016Z"
    },
    "papermill": {
     "duration": 0.040558,
     "end_time": "2022-01-07T00:25:12.503552",
     "exception": false,
     "start_time": "2022-01-07T00:25:12.462994",
     "status": "completed"
    },
    "tags": []
   },
   "outputs": [
    {
     "data": {
      "text/plain": [
       "((10000, 28, 28), (10000,))"
      ]
     },
     "execution_count": 8,
     "metadata": {},
     "output_type": "execute_result"
    }
   ],
   "source": [
    "test_images.shape, test_labels.shape"
   ]
  },
  {
   "cell_type": "code",
   "execution_count": 9,
   "id": "f9ed8fe0",
   "metadata": {
    "execution": {
     "iopub.execute_input": "2022-01-07T00:25:12.559587Z",
     "iopub.status.busy": "2022-01-07T00:25:12.559085Z",
     "iopub.status.idle": "2022-01-07T00:25:12.695406Z",
     "shell.execute_reply": "2022-01-07T00:25:12.694978Z"
    },
    "papermill": {
     "duration": 0.167034,
     "end_time": "2022-01-07T00:25:12.695524",
     "exception": false,
     "start_time": "2022-01-07T00:25:12.528490",
     "status": "completed"
    },
    "tags": []
   },
   "outputs": [
    {
     "name": "stdout",
     "output_type": "stream",
     "text": [
      "2\n"
     ]
    },
    {
     "data": {
      "text/plain": [
       "<matplotlib.image.AxesImage at 0x7f6b2c64b3c8>"
      ]
     },
     "execution_count": 9,
     "metadata": {},
     "output_type": "execute_result"
    },
    {
     "data": {
      "image/png": "[encoded data removed]",
      "text/plain": [
       "<Figure size 432x288 with 1 Axes>"
      ]
     },
     "metadata": {
      "needs_background": "light"
     },
     "output_type": "display_data"
    }
   ],
   "source": [
    "image_index = 7776 # You may select anything up to 60,000\n",
    "print(train_labels[image_index]) \n",
    "plt.imshow(train_images[image_index], cmap='Greys')"
   ]
  },
  {
   "cell_type": "markdown",
   "id": "a8d2388d",
   "metadata": {
    "papermill": {
     "duration": 0.026335,
     "end_time": "2022-01-07T00:25:12.748437",
     "exception": false,
     "start_time": "2022-01-07T00:25:12.722102",
     "status": "completed"
    },
    "tags": []
   },
   "source": [
    "## Filter data to get 3 and 8 out"
   ]
  },
  {
   "cell_type": "code",
   "execution_count": 10,
   "id": "776f7fc7",
   "metadata": {
    "execution": {
     "iopub.execute_input": "2022-01-07T00:25:12.804591Z",
     "iopub.status.busy": "2022-01-07T00:25:12.804066Z",
     "iopub.status.idle": "2022-01-07T00:25:12.821627Z",
     "shell.execute_reply": "2022-01-07T00:25:12.821210Z"
    },
    "papermill": {
     "duration": 0.047258,
     "end_time": "2022-01-07T00:25:12.821739",
     "exception": false,
     "start_time": "2022-01-07T00:25:12.774481",
     "status": "completed"
    },
    "tags": []
   },
   "outputs": [],
   "source": [
    "train_filter = np.where((train_labels == 3 ) | (train_labels == 8))\n",
    "test_filter = np.where((test_labels == 3) | (test_labels == 8))\n",
    "X_train, y_train = train_images[train_filter], train_labels[train_filter]\n",
    "X_test, y_test = test_images[test_filter], test_labels[test_filter]"
   ]
  },
  {
   "cell_type": "markdown",
   "id": "948f0b7e",
   "metadata": {
    "papermill": {
     "duration": 0.025968,
     "end_time": "2022-01-07T00:25:12.873970",
     "exception": false,
     "start_time": "2022-01-07T00:25:12.848002",
     "status": "completed"
    },
    "tags": []
   },
   "source": [
    "We normalize the pizel values in the 0 to 1 range"
   ]
  },
  {
   "cell_type": "code",
   "execution_count": 11,
   "id": "ee4c2166",
   "metadata": {
    "execution": {
     "iopub.execute_input": "2022-01-07T00:25:12.929599Z",
     "iopub.status.busy": "2022-01-07T00:25:12.929093Z",
     "iopub.status.idle": "2022-01-07T00:25:12.976078Z",
     "shell.execute_reply": "2022-01-07T00:25:12.975567Z"
    },
    "papermill": {
     "duration": 0.076118,
     "end_time": "2022-01-07T00:25:12.976216",
     "exception": false,
     "start_time": "2022-01-07T00:25:12.900098",
     "status": "completed"
    },
    "tags": []
   },
   "outputs": [],
   "source": [
    "X_train = X_train/255.\n",
    "X_test = X_test/255."
   ]
  },
  {
   "cell_type": "markdown",
   "id": "ddcf4fab",
   "metadata": {
    "papermill": {
     "duration": 0.026078,
     "end_time": "2022-01-07T00:25:13.028874",
     "exception": false,
     "start_time": "2022-01-07T00:25:13.002796",
     "status": "completed"
    },
    "tags": []
   },
   "source": [
    "And setup the labels as 1 (when the digit is 3) and 0 (when the digit is 8)"
   ]
  },
  {
   "cell_type": "code",
   "execution_count": 12,
   "id": "7dc908f2",
   "metadata": {
    "execution": {
     "iopub.execute_input": "2022-01-07T00:25:13.095098Z",
     "iopub.status.busy": "2022-01-07T00:25:13.091212Z",
     "iopub.status.idle": "2022-01-07T00:25:13.099241Z",
     "shell.execute_reply": "2022-01-07T00:25:13.098833Z"
    },
    "papermill": {
     "duration": 0.04443,
     "end_time": "2022-01-07T00:25:13.099350",
     "exception": false,
     "start_time": "2022-01-07T00:25:13.054920",
     "status": "completed"
    },
    "tags": []
   },
   "outputs": [],
   "source": [
    "y_train = 1*(y_train==3)\n",
    "y_test = 1*(y_test==3)"
   ]
  },
  {
   "cell_type": "code",
   "execution_count": 13,
   "id": "01e4e969",
   "metadata": {
    "execution": {
     "iopub.execute_input": "2022-01-07T00:25:13.167650Z",
     "iopub.status.busy": "2022-01-07T00:25:13.167142Z",
     "iopub.status.idle": "2022-01-07T00:25:13.171283Z",
     "shell.execute_reply": "2022-01-07T00:25:13.171690Z"
    },
    "papermill": {
     "duration": 0.046323,
     "end_time": "2022-01-07T00:25:13.171812",
     "exception": false,
     "start_time": "2022-01-07T00:25:13.125489",
     "status": "completed"
    },
    "tags": []
   },
   "outputs": [
    {
     "data": {
      "text/plain": [
       "((11982, 28, 28), (1984, 28, 28))"
      ]
     },
     "execution_count": 13,
     "metadata": {},
     "output_type": "execute_result"
    }
   ],
   "source": [
    "X_train.shape, X_test.shape"
   ]
  },
  {
   "cell_type": "markdown",
   "id": "5ccf3f85",
   "metadata": {
    "papermill": {
     "duration": 0.026055,
     "end_time": "2022-01-07T00:25:13.224036",
     "exception": false,
     "start_time": "2022-01-07T00:25:13.197981",
     "status": "completed"
    },
    "tags": []
   },
   "source": [
    "We reshape the data to flatten the image pixels into a set of features or co-variates:"
   ]
  },
  {
   "cell_type": "code",
   "execution_count": 14,
   "id": "5286a4a3",
   "metadata": {
    "execution": {
     "iopub.execute_input": "2022-01-07T00:25:13.294866Z",
     "iopub.status.busy": "2022-01-07T00:25:13.294307Z",
     "iopub.status.idle": "2022-01-07T00:25:13.297283Z",
     "shell.execute_reply": "2022-01-07T00:25:13.296858Z"
    },
    "papermill": {
     "duration": 0.046884,
     "end_time": "2022-01-07T00:25:13.297386",
     "exception": false,
     "start_time": "2022-01-07T00:25:13.250502",
     "status": "completed"
    },
    "tags": []
   },
   "outputs": [
    {
     "data": {
      "text/plain": [
       "((11982, 784), (1984, 784))"
      ]
     },
     "execution_count": 14,
     "metadata": {},
     "output_type": "execute_result"
    }
   ],
   "source": [
    "X_train = X_train.reshape(X_train.shape[0], -1)\n",
    "X_test = X_test.reshape(X_test.shape[0], -1)\n",
    "X_train.shape, X_test.shape"
   ]
  },
  {
   "cell_type": "code",
   "execution_count": 15,
   "id": "73c5f88a",
   "metadata": {
    "execution": {
     "iopub.execute_input": "2022-01-07T00:25:13.363214Z",
     "iopub.status.busy": "2022-01-07T00:25:13.356526Z",
     "iopub.status.idle": "2022-01-07T00:25:13.374897Z",
     "shell.execute_reply": "2022-01-07T00:25:13.374478Z"
    },
    "papermill": {
     "duration": 0.051062,
     "end_time": "2022-01-07T00:25:13.375008",
     "exception": false,
     "start_time": "2022-01-07T00:25:13.323946",
     "status": "completed"
    },
    "tags": []
   },
   "outputs": [],
   "source": [
    "#Impoting functions from 'Kudzu'\n",
    "from kudzu.model import Model\n",
    "from kudzu.train import Learner\n",
    "from kudzu.optim import GD\n",
    "from kudzu.data import Data, Sampler,Dataloader\n",
    "\n",
    "from kudzu.callbacks import AccCallback\n",
    "from kudzu.callbacks import ClfCallback\n",
    "\n",
    "from kudzu.loss import MSE\n",
    "\n",
    "from kudzu.layer import Sigmoid,Relu\n",
    "from kudzu.layer import Affine"
   ]
  },
  {
   "cell_type": "markdown",
   "id": "bc01172a",
   "metadata": {
    "papermill": {
     "duration": 0.026496,
     "end_time": "2022-01-07T00:25:13.428195",
     "exception": false,
     "start_time": "2022-01-07T00:25:13.401699",
     "status": "completed"
    },
    "tags": []
   },
   "source": [
    "### Let us create a `Config` class, to store important parameters. \n",
    "This class essentially plays the role of a dictionary."
   ]
  },
  {
   "cell_type": "code",
   "execution_count": 16,
   "id": "978281aa",
   "metadata": {
    "execution": {
     "iopub.execute_input": "2022-01-07T00:25:13.484762Z",
     "iopub.status.busy": "2022-01-07T00:25:13.484250Z",
     "iopub.status.idle": "2022-01-07T00:25:13.496823Z",
     "shell.execute_reply": "2022-01-07T00:25:13.497256Z"
    },
    "papermill": {
     "duration": 0.042683,
     "end_time": "2022-01-07T00:25:13.497377",
     "exception": false,
     "start_time": "2022-01-07T00:25:13.454694",
     "status": "completed"
    },
    "tags": []
   },
   "outputs": [],
   "source": [
    "class Config:\n",
    "    pass\n",
    "config = Config()\n",
    "config.lr = 0.001\n",
    "config.num_epochs = 250\n",
    "config.bs = 50"
   ]
  },
  {
   "cell_type": "markdown",
   "id": "1385fa59",
   "metadata": {
    "papermill": {
     "duration": 0.026349,
     "end_time": "2022-01-07T00:25:13.550402",
     "exception": false,
     "start_time": "2022-01-07T00:25:13.524053",
     "status": "completed"
    },
    "tags": []
   },
   "source": [
    "### Running Models with the Training data\n",
    "Details about the network layers:\n",
    "- A first affine layer has 784 inputs and does 100 affine transforms. These are followed by a Relu\n",
    "- A second affine layer has 100 inputs from the 100 activations of the past layer, and does 100 affine transforms. These are followed by a Relu\n",
    "- A third affine layer has 100 activations and does 2 affine transformations to create an embedding for visualization. There is no non-linearity here.\n",
    "- A final \"logistic regression\" which has an affine transform from 2 inputs to 1 output, which is squeezed through a sigmoid.\n"
   ]
  },
  {
   "cell_type": "code",
   "execution_count": 17,
   "id": "2b9c66db",
   "metadata": {
    "execution": {
     "iopub.execute_input": "2022-01-07T00:25:13.607988Z",
     "iopub.status.busy": "2022-01-07T00:25:13.607474Z",
     "iopub.status.idle": "2022-01-07T00:25:13.619891Z",
     "shell.execute_reply": "2022-01-07T00:25:13.619462Z"
    },
    "papermill": {
     "duration": 0.043078,
     "end_time": "2022-01-07T00:25:13.619996",
     "exception": false,
     "start_time": "2022-01-07T00:25:13.576918",
     "status": "completed"
    },
    "tags": []
   },
   "outputs": [],
   "source": [
    "data = Data(X_train, y_train.reshape(-1,1))\n",
    "sampler = Sampler(data, config.bs, shuffle=True)\n",
    "\n",
    "dl = Dataloader(data, sampler)\n",
    "\n",
    "opt = GD(config.lr)\n",
    "loss = MSE()"
   ]
  },
  {
   "cell_type": "code",
   "execution_count": 18,
   "id": "b275e4c2",
   "metadata": {
    "execution": {
     "iopub.execute_input": "2022-01-07T00:25:13.678758Z",
     "iopub.status.busy": "2022-01-07T00:25:13.678225Z",
     "iopub.status.idle": "2022-01-07T00:25:13.688448Z",
     "shell.execute_reply": "2022-01-07T00:25:13.688020Z"
    },
    "papermill": {
     "duration": 0.041837,
     "end_time": "2022-01-07T00:25:13.688554",
     "exception": false,
     "start_time": "2022-01-07T00:25:13.646717",
     "status": "completed"
    },
    "tags": []
   },
   "outputs": [],
   "source": [
    "training_data_x = X_train\n",
    "testing_data_x = X_test\n",
    "training_data_y = y_train.reshape(-1,1)\n",
    "testing_data_y = y_test.reshape(-1,1)"
   ]
  },
  {
   "cell_type": "code",
   "execution_count": 19,
   "id": "76951160",
   "metadata": {
    "execution": {
     "iopub.execute_input": "2022-01-07T00:25:13.748665Z",
     "iopub.status.busy": "2022-01-07T00:25:13.748139Z",
     "iopub.status.idle": "2022-01-07T00:25:13.762902Z",
     "shell.execute_reply": "2022-01-07T00:25:13.762463Z"
    },
    "papermill": {
     "duration": 0.048002,
     "end_time": "2022-01-07T00:25:13.763006",
     "exception": false,
     "start_time": "2022-01-07T00:25:13.715004",
     "status": "completed"
    },
    "tags": []
   },
   "outputs": [
    {
     "name": "stdout",
     "output_type": "stream",
     "text": [
      "xavier\n",
      "xavier\n",
      "xavier\n",
      "xavier\n",
      "xavier\n"
     ]
    }
   ],
   "source": [
    "layers = [Affine(\"first\", 784, 100), Relu(\"first\"), Affine(\"second\", 100, 100), Relu(\"second\"), Affine(\"third\", 100, 2), Affine(\"last\", 2, 1), Sigmoid(\"last\")]\n",
    "model_nn = Model(layers)\n",
    "model_lr = Model([Affine(\"logits\", 784, 1), Sigmoid(\"sigmoid\")])"
   ]
  },
  {
   "cell_type": "code",
   "execution_count": 20,
   "id": "6eede77a",
   "metadata": {
    "execution": {
     "iopub.execute_input": "2022-01-07T00:25:13.831318Z",
     "iopub.status.busy": "2022-01-07T00:25:13.822341Z",
     "iopub.status.idle": "2022-01-07T00:25:13.833503Z",
     "shell.execute_reply": "2022-01-07T00:25:13.833098Z"
    },
    "papermill": {
     "duration": 0.043643,
     "end_time": "2022-01-07T00:25:13.833608",
     "exception": false,
     "start_time": "2022-01-07T00:25:13.789965",
     "status": "completed"
    },
    "tags": []
   },
   "outputs": [],
   "source": [
    "nn_learner = Learner(loss, model_nn, opt, config.num_epochs)\n",
    "acc_nn = ClfCallback(nn_learner, config.bs, training_data_x , testing_data_x, training_data_y, testing_data_y)\n",
    "nn_learner.set_callbacks([acc_nn])"
   ]
  },
  {
   "cell_type": "code",
   "execution_count": 21,
   "id": "877b6cc7",
   "metadata": {
    "execution": {
     "iopub.execute_input": "2022-01-07T00:25:13.896821Z",
     "iopub.status.busy": "2022-01-07T00:25:13.896318Z",
     "iopub.status.idle": "2022-01-07T00:25:13.904782Z",
     "shell.execute_reply": "2022-01-07T00:25:13.904358Z"
    },
    "papermill": {
     "duration": 0.044367,
     "end_time": "2022-01-07T00:25:13.904884",
     "exception": false,
     "start_time": "2022-01-07T00:25:13.860517",
     "status": "completed"
    },
    "tags": []
   },
   "outputs": [],
   "source": [
    "lr_learner = Learner(loss, model_lr, opt, config.num_epochs)\n",
    "acc_lr = ClfCallback(lr_learner, config.bs, training_data_x , testing_data_x, training_data_y, testing_data_y)\n",
    "lr_learner.set_callbacks([acc_lr])"
   ]
  },
  {
   "cell_type": "code",
   "execution_count": 22,
   "id": "d9b133c3",
   "metadata": {
    "execution": {
     "iopub.execute_input": "2022-01-07T00:25:13.970765Z",
     "iopub.status.busy": "2022-01-07T00:25:13.970222Z",
     "iopub.status.idle": "2022-01-07T00:26:26.815150Z",
     "shell.execute_reply": "2022-01-07T00:26:26.815877Z"
    },
    "papermill": {
     "duration": 72.884285,
     "end_time": "2022-01-07T00:26:26.816024",
     "exception": false,
     "start_time": "2022-01-07T00:25:13.931739",
     "status": "completed"
    },
    "tags": []
   },
   "outputs": [
    {
     "name": "stdout",
     "output_type": "stream",
     "text": [
      "Epoch 0, Loss 0.2647\n",
      "Training Accuracy: 0.4900, Testing Accuracy: 0.4934\n",
      "\n"
     ]
    },
    {
     "name": "stdout",
     "output_type": "stream",
     "text": [
      "Epoch 10, Loss 0.1141\n",
      "Training Accuracy: 0.9089, Testing Accuracy: 0.9108\n",
      "\n"
     ]
    },
    {
     "name": "stdout",
     "output_type": "stream",
     "text": [
      "Epoch 20, Loss 0.0626\n",
      "Training Accuracy: 0.9377, Testing Accuracy: 0.9420\n",
      "\n"
     ]
    },
    {
     "name": "stdout",
     "output_type": "stream",
     "text": [
      "Epoch 30, Loss 0.0469\n",
      "Training Accuracy: 0.9492, Testing Accuracy: 0.9561\n",
      "\n"
     ]
    },
    {
     "name": "stdout",
     "output_type": "stream",
     "text": [
      "Epoch 40, Loss 0.0398\n",
      "Training Accuracy: 0.9568, Testing Accuracy: 0.9602\n",
      "\n"
     ]
    },
    {
     "name": "stdout",
     "output_type": "stream",
     "text": [
      "Epoch 50, Loss 0.0356\n",
      "Training Accuracy: 0.9602, Testing Accuracy: 0.9632\n",
      "\n"
     ]
    },
    {
     "name": "stdout",
     "output_type": "stream",
     "text": [
      "Epoch 60, Loss 0.0328\n",
      "Training Accuracy: 0.9630, Testing Accuracy: 0.9657\n",
      "\n"
     ]
    },
    {
     "name": "stdout",
     "output_type": "stream",
     "text": [
      "Epoch 70, Loss 0.0307\n",
      "Training Accuracy: 0.9651, Testing Accuracy: 0.9688\n",
      "\n"
     ]
    },
    {
     "name": "stdout",
     "output_type": "stream",
     "text": [
      "Epoch 80, Loss 0.029\n",
      "Training Accuracy: 0.9664, Testing Accuracy: 0.9698\n",
      "\n"
     ]
    },
    {
     "name": "stdout",
     "output_type": "stream",
     "text": [
      "Epoch 90, Loss 0.0276\n",
      "Training Accuracy: 0.9678, Testing Accuracy: 0.9703\n",
      "\n"
     ]
    },
    {
     "name": "stdout",
     "output_type": "stream",
     "text": [
      "Epoch 100, Loss 0.0265\n",
      "Training Accuracy: 0.9691, Testing Accuracy: 0.9708\n",
      "\n"
     ]
    },
    {
     "name": "stdout",
     "output_type": "stream",
     "text": [
      "Epoch 110, Loss 0.0254\n",
      "Training Accuracy: 0.9706, Testing Accuracy: 0.9723\n",
      "\n"
     ]
    },
    {
     "name": "stdout",
     "output_type": "stream",
     "text": [
      "Epoch 120, Loss 0.0246\n",
      "Training Accuracy: 0.9716, Testing Accuracy: 0.9738\n",
      "\n"
     ]
    },
    {
     "name": "stdout",
     "output_type": "stream",
     "text": [
      "Epoch 130, Loss 0.0238\n",
      "Training Accuracy: 0.9725, Testing Accuracy: 0.9733\n",
      "\n"
     ]
    },
    {
     "name": "stdout",
     "output_type": "stream",
     "text": [
      "Epoch 140, Loss 0.023\n",
      "Training Accuracy: 0.9735, Testing Accuracy: 0.9743\n",
      "\n"
     ]
    },
    {
     "name": "stdout",
     "output_type": "stream",
     "text": [
      "Epoch 150, Loss 0.0224\n",
      "Training Accuracy: 0.9740, Testing Accuracy: 0.9753\n",
      "\n"
     ]
    },
    {
     "name": "stdout",
     "output_type": "stream",
     "text": [
      "Epoch 160, Loss 0.0217\n",
      "Training Accuracy: 0.9746, Testing Accuracy: 0.9753\n",
      "\n"
     ]
    },
    {
     "name": "stdout",
     "output_type": "stream",
     "text": [
      "Epoch 170, Loss 0.0211\n",
      "Training Accuracy: 0.9757, Testing Accuracy: 0.9763\n",
      "\n"
     ]
    },
    {
     "name": "stdout",
     "output_type": "stream",
     "text": [
      "Epoch 180, Loss 0.0206\n",
      "Training Accuracy: 0.9760, Testing Accuracy: 0.9763\n",
      "\n"
     ]
    },
    {
     "name": "stdout",
     "output_type": "stream",
     "text": [
      "Epoch 190, Loss 0.0201\n",
      "Training Accuracy: 0.9769, Testing Accuracy: 0.9768\n",
      "\n"
     ]
    },
    {
     "name": "stdout",
     "output_type": "stream",
     "text": [
      "Epoch 200, Loss 0.0196\n",
      "Training Accuracy: 0.9775, Testing Accuracy: 0.9768\n",
      "\n"
     ]
    },
    {
     "name": "stdout",
     "output_type": "stream",
     "text": [
      "Epoch 210, Loss 0.0191\n",
      "Training Accuracy: 0.9781, Testing Accuracy: 0.9773\n",
      "\n"
     ]
    },
    {
     "name": "stdout",
     "output_type": "stream",
     "text": [
      "Epoch 220, Loss 0.0186\n",
      "Training Accuracy: 0.9786, Testing Accuracy: 0.9778\n",
      "\n"
     ]
    },
    {
     "name": "stdout",
     "output_type": "stream",
     "text": [
      "Epoch 230, Loss 0.0182\n",
      "Training Accuracy: 0.9794, Testing Accuracy: 0.9783\n",
      "\n"
     ]
    },
    {
     "name": "stdout",
     "output_type": "stream",
     "text": [
      "Epoch 240, Loss 0.0177\n",
      "Training Accuracy: 0.9803, Testing Accuracy: 0.9783\n",
      "\n"
     ]
    },
    {
     "data": {
      "text/plain": [
       "0.0058920846822573215"
      ]
     },
     "execution_count": 22,
     "metadata": {},
     "output_type": "execute_result"
    }
   ],
   "source": [
    "nn_learner.train_loop(dl)"
   ]
  },
  {
   "cell_type": "code",
   "execution_count": 23,
   "id": "e0163366",
   "metadata": {
    "execution": {
     "iopub.execute_input": "2022-01-07T00:26:26.898340Z",
     "iopub.status.busy": "2022-01-07T00:26:26.897829Z",
     "iopub.status.idle": "2022-01-07T00:26:39.930603Z",
     "shell.execute_reply": "2022-01-07T00:26:39.931315Z"
    },
    "papermill": {
     "duration": 13.079038,
     "end_time": "2022-01-07T00:26:39.931459",
     "exception": false,
     "start_time": "2022-01-07T00:26:26.852421",
     "status": "completed"
    },
    "tags": []
   },
   "outputs": [
    {
     "name": "stdout",
     "output_type": "stream",
     "text": [
      "Epoch 0, Loss 0.2433\n",
      "Training Accuracy: 0.6616, Testing Accuracy: 0.6361\n",
      "\n"
     ]
    },
    {
     "name": "stdout",
     "output_type": "stream",
     "text": [
      "Epoch 10, Loss 0.1063\n",
      "Training Accuracy: 0.9016, Testing Accuracy: 0.9168\n",
      "\n"
     ]
    },
    {
     "name": "stdout",
     "output_type": "stream",
     "text": [
      "Epoch 20, Loss 0.0808\n",
      "Training Accuracy: 0.9250, Testing Accuracy: 0.9435\n",
      "\n"
     ]
    },
    {
     "name": "stdout",
     "output_type": "stream",
     "text": [
      "Epoch 30, Loss 0.069\n",
      "Training Accuracy: 0.9359, Testing Accuracy: 0.9506\n",
      "\n"
     ]
    },
    {
     "name": "stdout",
     "output_type": "stream",
     "text": [
      "Epoch 40, Loss 0.0621\n",
      "Training Accuracy: 0.9420, Testing Accuracy: 0.9521\n",
      "\n"
     ]
    },
    {
     "name": "stdout",
     "output_type": "stream",
     "text": [
      "Epoch 50, Loss 0.0574\n",
      "Training Accuracy: 0.9455, Testing Accuracy: 0.9567\n",
      "\n"
     ]
    },
    {
     "name": "stdout",
     "output_type": "stream",
     "text": [
      "Epoch 60, Loss 0.0539\n",
      "Training Accuracy: 0.9486, Testing Accuracy: 0.9592\n",
      "\n"
     ]
    },
    {
     "name": "stdout",
     "output_type": "stream",
     "text": [
      "Epoch 70, Loss 0.0513\n",
      "Training Accuracy: 0.9496, Testing Accuracy: 0.9622\n",
      "\n"
     ]
    },
    {
     "name": "stdout",
     "output_type": "stream",
     "text": [
      "Epoch 80, Loss 0.0492\n",
      "Training Accuracy: 0.9513, Testing Accuracy: 0.9627\n",
      "\n"
     ]
    },
    {
     "name": "stdout",
     "output_type": "stream",
     "text": [
      "Epoch 90, Loss 0.0475\n",
      "Training Accuracy: 0.9528, Testing Accuracy: 0.9627\n",
      "\n"
     ]
    },
    {
     "name": "stdout",
     "output_type": "stream",
     "text": [
      "Epoch 100, Loss 0.046\n",
      "Training Accuracy: 0.9540, Testing Accuracy: 0.9632\n",
      "\n"
     ]
    },
    {
     "name": "stdout",
     "output_type": "stream",
     "text": [
      "Epoch 110, Loss 0.0448\n",
      "Training Accuracy: 0.9550, Testing Accuracy: 0.9637\n",
      "\n"
     ]
    },
    {
     "name": "stdout",
     "output_type": "stream",
     "text": [
      "Epoch 120, Loss 0.0437\n",
      "Training Accuracy: 0.9559, Testing Accuracy: 0.9642\n",
      "\n"
     ]
    },
    {
     "name": "stdout",
     "output_type": "stream",
     "text": [
      "Epoch 130, Loss 0.0428\n",
      "Training Accuracy: 0.9564, Testing Accuracy: 0.9642\n",
      "\n"
     ]
    },
    {
     "name": "stdout",
     "output_type": "stream",
     "text": [
      "Epoch 140, Loss 0.0419\n",
      "Training Accuracy: 0.9565, Testing Accuracy: 0.9647\n",
      "\n"
     ]
    },
    {
     "name": "stdout",
     "output_type": "stream",
     "text": [
      "Epoch 150, Loss 0.0412\n",
      "Training Accuracy: 0.9572, Testing Accuracy: 0.9647\n",
      "\n"
     ]
    },
    {
     "name": "stdout",
     "output_type": "stream",
     "text": [
      "Epoch 160, Loss 0.0405\n",
      "Training Accuracy: 0.9576, Testing Accuracy: 0.9647\n",
      "\n"
     ]
    },
    {
     "name": "stdout",
     "output_type": "stream",
     "text": [
      "Epoch 170, Loss 0.0399\n",
      "Training Accuracy: 0.9582, Testing Accuracy: 0.9652\n",
      "\n"
     ]
    },
    {
     "name": "stdout",
     "output_type": "stream",
     "text": [
      "Epoch 180, Loss 0.0393\n",
      "Training Accuracy: 0.9586, Testing Accuracy: 0.9662\n",
      "\n"
     ]
    },
    {
     "name": "stdout",
     "output_type": "stream",
     "text": [
      "Epoch 190, Loss 0.0388\n",
      "Training Accuracy: 0.9591, Testing Accuracy: 0.9662\n",
      "\n"
     ]
    },
    {
     "name": "stdout",
     "output_type": "stream",
     "text": [
      "Epoch 200, Loss 0.0383\n",
      "Training Accuracy: 0.9594, Testing Accuracy: 0.9672\n",
      "\n"
     ]
    },
    {
     "name": "stdout",
     "output_type": "stream",
     "text": [
      "Epoch 210, Loss 0.0379\n",
      "Training Accuracy: 0.9596, Testing Accuracy: 0.9667\n",
      "\n"
     ]
    },
    {
     "name": "stdout",
     "output_type": "stream",
     "text": [
      "Epoch 220, Loss 0.0375\n",
      "Training Accuracy: 0.9596, Testing Accuracy: 0.9672\n",
      "\n"
     ]
    },
    {
     "name": "stdout",
     "output_type": "stream",
     "text": [
      "Epoch 230, Loss 0.0371\n",
      "Training Accuracy: 0.9598, Testing Accuracy: 0.9677\n",
      "\n"
     ]
    },
    {
     "name": "stdout",
     "output_type": "stream",
     "text": [
      "Epoch 240, Loss 0.0367\n",
      "Training Accuracy: 0.9601, Testing Accuracy: 0.9682\n",
      "\n"
     ]
    },
    {
     "data": {
      "text/plain": [
       "0.041085980084658996"
      ]
     },
     "execution_count": 23,
     "metadata": {},
     "output_type": "execute_result"
    }
   ],
   "source": [
    "lr_learner.train_loop(dl)"
   ]
  },
  {
   "cell_type": "code",
   "execution_count": 24,
   "id": "ca410940",
   "metadata": {
    "execution": {
     "iopub.execute_input": "2022-01-07T00:26:40.027676Z",
     "iopub.status.busy": "2022-01-07T00:26:40.027158Z",
     "iopub.status.idle": "2022-01-07T00:26:40.240867Z",
     "shell.execute_reply": "2022-01-07T00:26:40.241289Z"
    },
    "papermill": {
     "duration": 0.269129,
     "end_time": "2022-01-07T00:26:40.241426",
     "exception": false,
     "start_time": "2022-01-07T00:26:39.972297",
     "status": "completed"
    },
    "tags": []
   },
   "outputs": [
    {
     "data": {
      "text/plain": [
       "<matplotlib.legend.Legend at 0x7f6b2c2175f8>"
      ]
     },
     "execution_count": 24,
     "metadata": {},
     "output_type": "execute_result"
    },
    {
     "data": {
      "image/png": "[encoded data removed]",
      "text/plain": [
       "<Figure size 1080x720 with 1 Axes>"
      ]
     },
     "metadata": {
      "needs_background": "light"
     },
     "output_type": "display_data"
    }
   ],
   "source": [
    "#comparing the results of NN and LR\n",
    "plt.figure(figsize=(15,10))\n",
    "\n",
    "# Neural Network plots\n",
    "plt.plot(acc_nn.accuracies, 'r-', label = \"Training Accuracies - NN\")\n",
    "plt.plot(acc_nn.test_accuracies, 'g-', label = \"Testing Accuracies - NN\")\n",
    "\n",
    "# Logistic Regression plots\n",
    "plt.plot(acc_lr.accuracies, 'k-', label = \"Training Accuracies - LR\")\n",
    "plt.plot(acc_lr.test_accuracies, 'b-', label = \"Testing Accuracies - LR\")\n",
    "plt.legend()"
   ]
  },
  {
   "cell_type": "markdown",
   "id": "80dfb35c",
   "metadata": {
    "papermill": {
     "duration": 0.042036,
     "end_time": "2022-01-07T00:26:40.325414",
     "exception": false,
     "start_time": "2022-01-07T00:26:40.283378",
     "status": "completed"
    },
    "tags": []
   },
   "source": [
    "#### Plotting the outputs of this layer of the NN.\n"
   ]
  },
  {
   "cell_type": "code",
   "execution_count": 25,
   "id": "45eb2ff5",
   "metadata": {
    "execution": {
     "iopub.execute_input": "2022-01-07T00:26:40.413091Z",
     "iopub.status.busy": "2022-01-07T00:26:40.412554Z",
     "iopub.status.idle": "2022-01-07T00:26:40.431441Z",
     "shell.execute_reply": "2022-01-07T00:26:40.431868Z"
    },
    "papermill": {
     "duration": 0.065028,
     "end_time": "2022-01-07T00:26:40.432002",
     "exception": false,
     "start_time": "2022-01-07T00:26:40.366974",
     "status": "completed"
    },
    "tags": []
   },
   "outputs": [],
   "source": [
    "new_model = Model(layers[:-2])\n",
    "testing_plot = new_model(testing_data_x)"
   ]
  },
  {
   "cell_type": "code",
   "execution_count": 26,
   "id": "4c0a5485",
   "metadata": {
    "execution": {
     "iopub.execute_input": "2022-01-07T00:26:40.528868Z",
     "iopub.status.busy": "2022-01-07T00:26:40.523716Z",
     "iopub.status.idle": "2022-01-07T00:26:40.736115Z",
     "shell.execute_reply": "2022-01-07T00:26:40.735670Z"
    },
    "papermill": {
     "duration": 0.259537,
     "end_time": "2022-01-07T00:26:40.736230",
     "exception": false,
     "start_time": "2022-01-07T00:26:40.476693",
     "status": "completed"
    },
    "tags": []
   },
   "outputs": [
    {
     "data": {
      "text/plain": [
       "Text(0.5, 1.0, 'Outputs')"
      ]
     },
     "execution_count": 26,
     "metadata": {},
     "output_type": "execute_result"
    },
    {
     "data": {
      "image/png": "[encoded data removed]",
      "text/plain": [
       "<Figure size 576x504 with 1 Axes>"
      ]
     },
     "metadata": {
      "needs_background": "light"
     },
     "output_type": "display_data"
    }
   ],
   "source": [
    "# Plotting the scatter plot of points and color coding by class\n",
    "plt.figure(figsize=(8,7))\n",
    "plt.scatter(testing_plot[:,0], testing_plot[:,1], alpha = 0.1, c = y_test.ravel());\n",
    "plt.title('Outputs')"
   ]
  },
  {
   "cell_type": "markdown",
   "id": "a74fcf8f",
   "metadata": {
    "papermill": {
     "duration": 0.044113,
     "end_time": "2022-01-07T00:26:40.824777",
     "exception": false,
     "start_time": "2022-01-07T00:26:40.780664",
     "status": "completed"
    },
    "tags": []
   },
   "source": [
    "Probability contours"
   ]
  },
  {
   "cell_type": "code",
   "execution_count": 27,
   "id": "d0afc8e3",
   "metadata": {
    "execution": {
     "iopub.execute_input": "2022-01-07T00:26:40.917601Z",
     "iopub.status.busy": "2022-01-07T00:26:40.917077Z",
     "iopub.status.idle": "2022-01-07T00:26:40.928558Z",
     "shell.execute_reply": "2022-01-07T00:26:40.928940Z"
    },
    "papermill": {
     "duration": 0.06006,
     "end_time": "2022-01-07T00:26:40.929067",
     "exception": false,
     "start_time": "2022-01-07T00:26:40.869007",
     "status": "completed"
    },
    "tags": []
   },
   "outputs": [],
   "source": [
    "model_prob = Model(layers[-2:]) "
   ]
  },
  {
   "cell_type": "code",
   "execution_count": 28,
   "id": "9b96e238",
   "metadata": {
    "execution": {
     "iopub.execute_input": "2022-01-07T00:26:41.032165Z",
     "iopub.status.busy": "2022-01-07T00:26:41.031128Z",
     "iopub.status.idle": "2022-01-07T00:26:41.038089Z",
     "shell.execute_reply": "2022-01-07T00:26:41.037670Z"
    },
    "papermill": {
     "duration": 0.064969,
     "end_time": "2022-01-07T00:26:41.038201",
     "exception": false,
     "start_time": "2022-01-07T00:26:40.973232",
     "status": "completed"
    },
    "tags": []
   },
   "outputs": [],
   "source": [
    "#creating the x and y ranges according to the above generated plot.\n",
    "x_range = np.linspace(-4, 1, 100) \n",
    "y_range = np.linspace(-6, 6, 100) \n",
    "x_grid, y_grid = np.meshgrid(x_range, y_range) # x_grid and y_grig are of size 100 X 100\n",
    "\n",
    "# converting x_grid and y_grid to continuous arrays\n",
    "x_gridflat = np.ravel(x_grid)\n",
    "y_gridflat = np.ravel(y_grid)\n",
    "\n",
    "# The last layer of the current model takes two columns as input. Hence transpose of np.vstack() is required.\n",
    "X = np.vstack((x_gridflat, y_gridflat)).T\n",
    "\n",
    "prob_contour = model_prob(X).reshape(100,100) "
   ]
  },
  {
   "cell_type": "code",
   "execution_count": 29,
   "id": "da72499a",
   "metadata": {
    "execution": {
     "iopub.execute_input": "2022-01-07T00:26:41.143504Z",
     "iopub.status.busy": "2022-01-07T00:26:41.142994Z",
     "iopub.status.idle": "2022-01-07T00:26:41.385174Z",
     "shell.execute_reply": "2022-01-07T00:26:41.384724Z"
    },
    "papermill": {
     "duration": 0.301972,
     "end_time": "2022-01-07T00:26:41.385289",
     "exception": false,
     "start_time": "2022-01-07T00:26:41.083317",
     "status": "completed"
    },
    "tags": []
   },
   "outputs": [
    {
     "data": {
      "image/png": "[encoded data removed]",
      "text/plain": [
       "<Figure size 720x648 with 1 Axes>"
      ]
     },
     "metadata": {
      "needs_background": "light"
     },
     "output_type": "display_data"
    }
   ],
   "source": [
    "plt.figure(figsize=(10,9))\n",
    "plt.scatter(testing_plot[:,0], testing_plot[:,1], alpha = 0.1, c = y_test.ravel())\n",
    "contours = plt.contour(x_grid,y_grid,prob_contour)\n",
    "plt.title('Probability Contours')\n",
    "plt.clabel(contours, inline = True );"
   ]
  },
  {
   "cell_type": "code",
   "execution_count": null,
   "id": "e81b4ac7",
   "metadata": {
    "papermill": {
     "duration": 0.047564,
     "end_time": "2022-01-07T00:26:41.505065",
     "exception": false,
     "start_time": "2022-01-07T00:26:41.457501",
     "status": "completed"
    },
    "tags": []
   },
   "outputs": [],
   "source": []
  }
 ],
 "metadata": {
  "kernelspec": {
   "display_name": "Python 3",
   "language": "python",
   "name": "python3"
  },
  "language_info": {
   "codemirror_mode": {
    "name": "ipython",
    "version": 3
   },
   "file_extension": ".py",
   "mimetype": "text/x-python",
   "name": "python",
   "nbconvert_exporter": "python",
   "pygments_lexer": "ipython3",
   "version": "3.6.15"
  },
  "papermill": {
   "default_parameters": {},
   "duration": 94.178925,
   "end_time": "2022-01-07T00:26:41.960272",
   "environment_variables": {},
   "exception": null,
   "input_path": "2020-08-11-part2.ipynb",
   "output_path": "2020-08-11-part2.ipynb",
   "parameters": {},
   "start_time": "2022-01-07T00:25:07.781347",
   "version": "2.3.3"
  }
 },
 "nbformat": 4,
 "nbformat_minor": 5
}