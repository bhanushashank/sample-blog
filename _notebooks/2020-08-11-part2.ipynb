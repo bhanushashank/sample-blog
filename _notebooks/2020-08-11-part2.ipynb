{
 "cells": [
  {
   "cell_type": "markdown",
   "id": "98380cd3",
   "metadata": {
    "papermill": {
     "duration": 0.035649,
     "end_time": "2022-02-28T10:10:30.726199",
     "exception": false,
     "start_time": "2022-02-28T10:10:30.690550",
     "status": "completed"
    },
    "tags": []
   },
   "source": [
    "# Distinguish Your Own Digits (DYOD)"
   ]
  },
  {
   "cell_type": "markdown",
   "id": "ef31240d",
   "metadata": {
    "papermill": {
     "duration": 0.029441,
     "end_time": "2022-02-28T10:10:30.786300",
     "exception": false,
     "start_time": "2022-02-28T10:10:30.756859",
     "status": "completed"
    },
    "tags": []
   },
   "source": [
    "You are going to write a classifier that distinguishes between the number 3 and number 8."
   ]
  },
  {
   "cell_type": "code",
   "execution_count": 1,
   "id": "b15c8646",
   "metadata": {
    "execution": {
     "iopub.execute_input": "2022-02-28T10:10:30.856302Z",
     "iopub.status.busy": "2022-02-28T10:10:30.855708Z",
     "iopub.status.idle": "2022-02-28T10:10:30.866970Z",
     "shell.execute_reply": "2022-02-28T10:10:30.866391Z"
    },
    "papermill": {
     "duration": 0.051043,
     "end_time": "2022-02-28T10:10:30.867119",
     "exception": false,
     "start_time": "2022-02-28T10:10:30.816076",
     "status": "completed"
    },
    "tags": []
   },
   "outputs": [],
   "source": [
    "%load_ext autoreload\n",
    "%autoreload 2"
   ]
  },
  {
   "cell_type": "code",
   "execution_count": 2,
   "id": "22ef38dc",
   "metadata": {
    "execution": {
     "iopub.execute_input": "2022-02-28T10:10:30.927755Z",
     "iopub.status.busy": "2022-02-28T10:10:30.927155Z",
     "iopub.status.idle": "2022-02-28T10:10:31.615374Z",
     "shell.execute_reply": "2022-02-28T10:10:31.614562Z"
    },
    "papermill": {
     "duration": 0.720623,
     "end_time": "2022-02-28T10:10:31.615517",
     "exception": false,
     "start_time": "2022-02-28T10:10:30.894894",
     "status": "completed"
    },
    "tags": []
   },
   "outputs": [],
   "source": [
    "%matplotlib inline\n",
    "import numpy as np\n",
    "import matplotlib.pyplot as plt\n",
    "import pandas as pd"
   ]
  },
  {
   "cell_type": "markdown",
   "id": "ba036198",
   "metadata": {
    "papermill": {
     "duration": 0.028749,
     "end_time": "2022-02-28T10:10:31.672548",
     "exception": false,
     "start_time": "2022-02-28T10:10:31.643799",
     "status": "completed"
    },
    "tags": []
   },
   "source": [
    "From the command line run `pip install mnist`. This is a library that will help you bring down the mnist dataset. If you run this from a notebook, you need to put  `!pip install mnist` in a cell by itself."
   ]
  },
  {
   "cell_type": "code",
   "execution_count": 3,
   "id": "bb6ad8a1",
   "metadata": {
    "execution": {
     "iopub.execute_input": "2022-02-28T10:10:31.740476Z",
     "iopub.status.busy": "2022-02-28T10:10:31.739732Z",
     "iopub.status.idle": "2022-02-28T10:10:33.697362Z",
     "shell.execute_reply": "2022-02-28T10:10:33.696836Z"
    },
    "papermill": {
     "duration": 1.993816,
     "end_time": "2022-02-28T10:10:33.697528",
     "exception": false,
     "start_time": "2022-02-28T10:10:31.703712",
     "status": "completed"
    },
    "tags": []
   },
   "outputs": [
    {
     "name": "stdout",
     "output_type": "stream",
     "text": [
      "Collecting mnist\r\n"
     ]
    },
    {
     "name": "stdout",
     "output_type": "stream",
     "text": [
      "  Downloading mnist-0.2.2-py2.py3-none-any.whl (3.5 kB)\r\n",
      "Requirement already satisfied: numpy in /opt/hostedtoolcache/Python/3.6.15/x64/lib/python3.6/site-packages (from mnist) (1.19.5)\r\n"
     ]
    },
    {
     "name": "stdout",
     "output_type": "stream",
     "text": [
      "Installing collected packages: mnist\r\n",
      "Successfully installed mnist-0.2.2\r\n"
     ]
    }
   ],
   "source": [
    "!pip install mnist"
   ]
  },
  {
   "cell_type": "markdown",
   "id": "69df9c9a",
   "metadata": {
    "papermill": {
     "duration": 0.035012,
     "end_time": "2022-02-28T10:10:33.762384",
     "exception": false,
     "start_time": "2022-02-28T10:10:33.727372",
     "status": "completed"
    },
    "tags": []
   },
   "source": [
    "## Preparing the Data"
   ]
  },
  {
   "cell_type": "code",
   "execution_count": 4,
   "id": "7f69d806",
   "metadata": {
    "execution": {
     "iopub.execute_input": "2022-02-28T10:10:33.825871Z",
     "iopub.status.busy": "2022-02-28T10:10:33.825246Z",
     "iopub.status.idle": "2022-02-28T10:10:33.840472Z",
     "shell.execute_reply": "2022-02-28T10:10:33.841036Z"
    },
    "papermill": {
     "duration": 0.049258,
     "end_time": "2022-02-28T10:10:33.841174",
     "exception": false,
     "start_time": "2022-02-28T10:10:33.791916",
     "status": "completed"
    },
    "tags": []
   },
   "outputs": [],
   "source": [
    "import mnist"
   ]
  },
  {
   "cell_type": "code",
   "execution_count": 5,
   "id": "a411e44f",
   "metadata": {
    "execution": {
     "iopub.execute_input": "2022-02-28T10:10:33.911935Z",
     "iopub.status.busy": "2022-02-28T10:10:33.911101Z",
     "iopub.status.idle": "2022-02-28T10:10:34.448333Z",
     "shell.execute_reply": "2022-02-28T10:10:34.449090Z"
    },
    "papermill": {
     "duration": 0.575204,
     "end_time": "2022-02-28T10:10:34.449239",
     "exception": false,
     "start_time": "2022-02-28T10:10:33.874035",
     "status": "completed"
    },
    "tags": []
   },
   "outputs": [],
   "source": [
    "train_images = mnist.train_images()\n",
    "train_labels = mnist.train_labels()"
   ]
  },
  {
   "cell_type": "code",
   "execution_count": 6,
   "id": "dceab3a5",
   "metadata": {
    "execution": {
     "iopub.execute_input": "2022-02-28T10:10:34.509573Z",
     "iopub.status.busy": "2022-02-28T10:10:34.508975Z",
     "iopub.status.idle": "2022-02-28T10:10:34.533937Z",
     "shell.execute_reply": "2022-02-28T10:10:34.533266Z"
    },
    "papermill": {
     "duration": 0.056026,
     "end_time": "2022-02-28T10:10:34.534103",
     "exception": false,
     "start_time": "2022-02-28T10:10:34.478077",
     "status": "completed"
    },
    "tags": []
   },
   "outputs": [
    {
     "data": {
      "text/plain": [
       "((60000, 28, 28), (60000,))"
      ]
     },
     "execution_count": 6,
     "metadata": {},
     "output_type": "execute_result"
    }
   ],
   "source": [
    "train_images.shape, train_labels.shape"
   ]
  },
  {
   "cell_type": "code",
   "execution_count": 7,
   "id": "f50dc2bb",
   "metadata": {
    "execution": {
     "iopub.execute_input": "2022-02-28T10:10:34.598777Z",
     "iopub.status.busy": "2022-02-28T10:10:34.597192Z",
     "iopub.status.idle": "2022-02-28T10:10:34.747539Z",
     "shell.execute_reply": "2022-02-28T10:10:34.746871Z"
    },
    "papermill": {
     "duration": 0.183559,
     "end_time": "2022-02-28T10:10:34.747718",
     "exception": false,
     "start_time": "2022-02-28T10:10:34.564159",
     "status": "completed"
    },
    "tags": []
   },
   "outputs": [],
   "source": [
    "test_images = mnist.test_images()\n",
    "test_labels = mnist.test_labels()"
   ]
  },
  {
   "cell_type": "code",
   "execution_count": 8,
   "id": "fc38cf1b",
   "metadata": {
    "execution": {
     "iopub.execute_input": "2022-02-28T10:10:34.813154Z",
     "iopub.status.busy": "2022-02-28T10:10:34.812547Z",
     "iopub.status.idle": "2022-02-28T10:10:34.828435Z",
     "shell.execute_reply": "2022-02-28T10:10:34.827871Z"
    },
    "papermill": {
     "duration": 0.048714,
     "end_time": "2022-02-28T10:10:34.828585",
     "exception": false,
     "start_time": "2022-02-28T10:10:34.779871",
     "status": "completed"
    },
    "tags": []
   },
   "outputs": [
    {
     "data": {
      "text/plain": [
       "((10000, 28, 28), (10000,))"
      ]
     },
     "execution_count": 8,
     "metadata": {},
     "output_type": "execute_result"
    }
   ],
   "source": [
    "test_images.shape, test_labels.shape"
   ]
  },
  {
   "cell_type": "code",
   "execution_count": 9,
   "id": "f9ed8fe0",
   "metadata": {
    "execution": {
     "iopub.execute_input": "2022-02-28T10:10:34.898961Z",
     "iopub.status.busy": "2022-02-28T10:10:34.898290Z",
     "iopub.status.idle": "2022-02-28T10:10:35.092488Z",
     "shell.execute_reply": "2022-02-28T10:10:35.091942Z"
    },
    "papermill": {
     "duration": 0.234355,
     "end_time": "2022-02-28T10:10:35.095403",
     "exception": false,
     "start_time": "2022-02-28T10:10:34.861048",
     "status": "completed"
    },
    "tags": []
   },
   "outputs": [
    {
     "name": "stdout",
     "output_type": "stream",
     "text": [
      "2\n"
     ]
    },
    {
     "data": {
      "text/plain": [
       "<matplotlib.image.AxesImage at 0x7fb9654cd518>"
      ]
     },
     "execution_count": 9,
     "metadata": {},
     "output_type": "execute_result"
    },
    {
     "data": {
      "image/png": "[encoded data removed]",
      "text/plain": [
       "<Figure size 432x288 with 1 Axes>"
      ]
     },
     "metadata": {
      "needs_background": "light"
     },
     "output_type": "display_data"
    }
   ],
   "source": [
    "image_index = 7776 # You may select anything up to 60,000\n",
    "print(train_labels[image_index]) \n",
    "plt.imshow(train_images[image_index], cmap='Greys')"
   ]
  },
  {
   "cell_type": "markdown",
   "id": "a8d2388d",
   "metadata": {
    "papermill": {
     "duration": 0.035564,
     "end_time": "2022-02-28T10:10:35.161134",
     "exception": false,
     "start_time": "2022-02-28T10:10:35.125570",
     "status": "completed"
    },
    "tags": []
   },
   "source": [
    "## Filter data to get 3 and 8 out"
   ]
  },
  {
   "cell_type": "code",
   "execution_count": 10,
   "id": "776f7fc7",
   "metadata": {
    "execution": {
     "iopub.execute_input": "2022-02-28T10:10:35.233669Z",
     "iopub.status.busy": "2022-02-28T10:10:35.232900Z",
     "iopub.status.idle": "2022-02-28T10:10:35.257825Z",
     "shell.execute_reply": "2022-02-28T10:10:35.257234Z"
    },
    "papermill": {
     "duration": 0.064613,
     "end_time": "2022-02-28T10:10:35.257970",
     "exception": false,
     "start_time": "2022-02-28T10:10:35.193357",
     "status": "completed"
    },
    "tags": []
   },
   "outputs": [],
   "source": [
    "train_filter = np.where((train_labels == 3 ) | (train_labels == 8))\n",
    "test_filter = np.where((test_labels == 3) | (test_labels == 8))\n",
    "X_train, y_train = train_images[train_filter], train_labels[train_filter]\n",
    "X_test, y_test = test_images[test_filter], test_labels[test_filter]"
   ]
  },
  {
   "cell_type": "markdown",
   "id": "948f0b7e",
   "metadata": {
    "papermill": {
     "duration": 0.030679,
     "end_time": "2022-02-28T10:10:35.322274",
     "exception": false,
     "start_time": "2022-02-28T10:10:35.291595",
     "status": "completed"
    },
    "tags": []
   },
   "source": [
    "We normalize the pizel values in the 0 to 1 range"
   ]
  },
  {
   "cell_type": "code",
   "execution_count": 11,
   "id": "ee4c2166",
   "metadata": {
    "execution": {
     "iopub.execute_input": "2022-02-28T10:10:35.393483Z",
     "iopub.status.busy": "2022-02-28T10:10:35.392834Z",
     "iopub.status.idle": "2022-02-28T10:10:35.457272Z",
     "shell.execute_reply": "2022-02-28T10:10:35.456635Z"
    },
    "papermill": {
     "duration": 0.100325,
     "end_time": "2022-02-28T10:10:35.457436",
     "exception": false,
     "start_time": "2022-02-28T10:10:35.357111",
     "status": "completed"
    },
    "tags": []
   },
   "outputs": [],
   "source": [
    "X_train = X_train/255.\n",
    "X_test = X_test/255."
   ]
  },
  {
   "cell_type": "markdown",
   "id": "ddcf4fab",
   "metadata": {
    "papermill": {
     "duration": 0.032147,
     "end_time": "2022-02-28T10:10:35.524454",
     "exception": false,
     "start_time": "2022-02-28T10:10:35.492307",
     "status": "completed"
    },
    "tags": []
   },
   "source": [
    "And setup the labels as 1 (when the digit is 3) and 0 (when the digit is 8)"
   ]
  },
  {
   "cell_type": "code",
   "execution_count": 12,
   "id": "7dc908f2",
   "metadata": {
    "execution": {
     "iopub.execute_input": "2022-02-28T10:10:35.598897Z",
     "iopub.status.busy": "2022-02-28T10:10:35.598277Z",
     "iopub.status.idle": "2022-02-28T10:10:35.612524Z",
     "shell.execute_reply": "2022-02-28T10:10:35.612031Z"
    },
    "papermill": {
     "duration": 0.055293,
     "end_time": "2022-02-28T10:10:35.612630",
     "exception": false,
     "start_time": "2022-02-28T10:10:35.557337",
     "status": "completed"
    },
    "tags": []
   },
   "outputs": [],
   "source": [
    "y_train = 1*(y_train==3)\n",
    "y_test = 1*(y_test==3)"
   ]
  },
  {
   "cell_type": "code",
   "execution_count": 13,
   "id": "01e4e969",
   "metadata": {
    "execution": {
     "iopub.execute_input": "2022-02-28T10:10:35.675787Z",
     "iopub.status.busy": "2022-02-28T10:10:35.675148Z",
     "iopub.status.idle": "2022-02-28T10:10:35.688664Z",
     "shell.execute_reply": "2022-02-28T10:10:35.689463Z"
    },
    "papermill": {
     "duration": 0.048571,
     "end_time": "2022-02-28T10:10:35.689595",
     "exception": false,
     "start_time": "2022-02-28T10:10:35.641024",
     "status": "completed"
    },
    "tags": []
   },
   "outputs": [
    {
     "data": {
      "text/plain": [
       "((11982, 28, 28), (1984, 28, 28))"
      ]
     },
     "execution_count": 13,
     "metadata": {},
     "output_type": "execute_result"
    }
   ],
   "source": [
    "X_train.shape, X_test.shape"
   ]
  },
  {
   "cell_type": "markdown",
   "id": "5ccf3f85",
   "metadata": {
    "papermill": {
     "duration": 0.029211,
     "end_time": "2022-02-28T10:10:35.748952",
     "exception": false,
     "start_time": "2022-02-28T10:10:35.719741",
     "status": "completed"
    },
    "tags": []
   },
   "source": [
    "We reshape the data to flatten the image pixels into a set of features or co-variates:"
   ]
  },
  {
   "cell_type": "code",
   "execution_count": 14,
   "id": "5286a4a3",
   "metadata": {
    "execution": {
     "iopub.execute_input": "2022-02-28T10:10:35.821680Z",
     "iopub.status.busy": "2022-02-28T10:10:35.821081Z",
     "iopub.status.idle": "2022-02-28T10:10:35.836390Z",
     "shell.execute_reply": "2022-02-28T10:10:35.835801Z"
    },
    "papermill": {
     "duration": 0.053675,
     "end_time": "2022-02-28T10:10:35.836526",
     "exception": false,
     "start_time": "2022-02-28T10:10:35.782851",
     "status": "completed"
    },
    "tags": []
   },
   "outputs": [
    {
     "data": {
      "text/plain": [
       "((11982, 784), (1984, 784))"
      ]
     },
     "execution_count": 14,
     "metadata": {},
     "output_type": "execute_result"
    }
   ],
   "source": [
    "X_train = X_train.reshape(X_train.shape[0], -1)\n",
    "X_test = X_test.reshape(X_test.shape[0], -1)\n",
    "X_train.shape, X_test.shape"
   ]
  },
  {
   "cell_type": "code",
   "execution_count": 15,
   "id": "73c5f88a",
   "metadata": {
    "execution": {
     "iopub.execute_input": "2022-02-28T10:10:35.904835Z",
     "iopub.status.busy": "2022-02-28T10:10:35.904183Z",
     "iopub.status.idle": "2022-02-28T10:10:35.924982Z",
     "shell.execute_reply": "2022-02-28T10:10:35.924477Z"
    },
    "papermill": {
     "duration": 0.056054,
     "end_time": "2022-02-28T10:10:35.925113",
     "exception": false,
     "start_time": "2022-02-28T10:10:35.869059",
     "status": "completed"
    },
    "tags": []
   },
   "outputs": [],
   "source": [
    "#Impoting functions from 'Kudzu'\n",
    "from kudzu.model import Model\n",
    "from kudzu.train import Learner\n",
    "from kudzu.optim import GD\n",
    "from kudzu.data import Data, Sampler,Dataloader\n",
    "\n",
    "from kudzu.callbacks import AccCallback\n",
    "from kudzu.callbacks import ClfCallback\n",
    "\n",
    "from kudzu.loss import MSE\n",
    "\n",
    "from kudzu.layer import Sigmoid,Relu\n",
    "from kudzu.layer import Affine"
   ]
  },
  {
   "cell_type": "markdown",
   "id": "bc01172a",
   "metadata": {
    "papermill": {
     "duration": 0.035765,
     "end_time": "2022-02-28T10:10:35.991168",
     "exception": false,
     "start_time": "2022-02-28T10:10:35.955403",
     "status": "completed"
    },
    "tags": []
   },
   "source": [
    "### Let us create a `Config` class, to store important parameters. \n",
    "This class essentially plays the role of a dictionary."
   ]
  },
  {
   "cell_type": "code",
   "execution_count": 16,
   "id": "978281aa",
   "metadata": {
    "execution": {
     "iopub.execute_input": "2022-02-28T10:10:36.060915Z",
     "iopub.status.busy": "2022-02-28T10:10:36.060177Z",
     "iopub.status.idle": "2022-02-28T10:10:36.073674Z",
     "shell.execute_reply": "2022-02-28T10:10:36.073129Z"
    },
    "papermill": {
     "duration": 0.05008,
     "end_time": "2022-02-28T10:10:36.073796",
     "exception": false,
     "start_time": "2022-02-28T10:10:36.023716",
     "status": "completed"
    },
    "tags": []
   },
   "outputs": [],
   "source": [
    "class Config:\n",
    "    pass\n",
    "config = Config()\n",
    "config.lr = 0.001\n",
    "config.num_epochs = 250\n",
    "config.bs = 50"
   ]
  },
  {
   "cell_type": "markdown",
   "id": "1385fa59",
   "metadata": {
    "papermill": {
     "duration": 0.033729,
     "end_time": "2022-02-28T10:10:36.139378",
     "exception": false,
     "start_time": "2022-02-28T10:10:36.105649",
     "status": "completed"
    },
    "tags": []
   },
   "source": [
    "### Running Models with the Training data\n",
    "Details about the network layers:\n",
    "- A first affine layer has 784 inputs and does 100 affine transforms. These are followed by a Relu\n",
    "- A second affine layer has 100 inputs from the 100 activations of the past layer, and does 100 affine transforms. These are followed by a Relu\n",
    "- A third affine layer has 100 activations and does 2 affine transformations to create an embedding for visualization. There is no non-linearity here.\n",
    "- A final \"logistic regression\" which has an affine transform from 2 inputs to 1 output, which is squeezed through a sigmoid.\n"
   ]
  },
  {
   "cell_type": "code",
   "execution_count": 17,
   "id": "2b9c66db",
   "metadata": {
    "execution": {
     "iopub.execute_input": "2022-02-28T10:10:36.211717Z",
     "iopub.status.busy": "2022-02-28T10:10:36.211114Z",
     "iopub.status.idle": "2022-02-28T10:10:36.221882Z",
     "shell.execute_reply": "2022-02-28T10:10:36.221413Z"
    },
    "papermill": {
     "duration": 0.051288,
     "end_time": "2022-02-28T10:10:36.222066",
     "exception": false,
     "start_time": "2022-02-28T10:10:36.170778",
     "status": "completed"
    },
    "tags": []
   },
   "outputs": [],
   "source": [
    "data = Data(X_train, y_train.reshape(-1,1))\n",
    "sampler = Sampler(data, config.bs, shuffle=True)\n",
    "\n",
    "dl = Dataloader(data, sampler)\n",
    "\n",
    "opt = GD(config.lr)\n",
    "loss = MSE()"
   ]
  },
  {
   "cell_type": "code",
   "execution_count": 18,
   "id": "b275e4c2",
   "metadata": {
    "execution": {
     "iopub.execute_input": "2022-02-28T10:10:36.296407Z",
     "iopub.status.busy": "2022-02-28T10:10:36.295766Z",
     "iopub.status.idle": "2022-02-28T10:10:36.307309Z",
     "shell.execute_reply": "2022-02-28T10:10:36.306868Z"
    },
    "papermill": {
     "duration": 0.051447,
     "end_time": "2022-02-28T10:10:36.307421",
     "exception": false,
     "start_time": "2022-02-28T10:10:36.255974",
     "status": "completed"
    },
    "tags": []
   },
   "outputs": [],
   "source": [
    "training_data_x = X_train\n",
    "testing_data_x = X_test\n",
    "training_data_y = y_train.reshape(-1,1)\n",
    "testing_data_y = y_test.reshape(-1,1)"
   ]
  },
  {
   "cell_type": "code",
   "execution_count": 19,
   "id": "76951160",
   "metadata": {
    "execution": {
     "iopub.execute_input": "2022-02-28T10:10:36.377451Z",
     "iopub.status.busy": "2022-02-28T10:10:36.376793Z",
     "iopub.status.idle": "2022-02-28T10:10:36.395717Z",
     "shell.execute_reply": "2022-02-28T10:10:36.395149Z"
    },
    "papermill": {
     "duration": 0.057548,
     "end_time": "2022-02-28T10:10:36.395852",
     "exception": false,
     "start_time": "2022-02-28T10:10:36.338304",
     "status": "completed"
    },
    "tags": []
   },
   "outputs": [
    {
     "name": "stdout",
     "output_type": "stream",
     "text": [
      "xavier\n",
      "xavier\n",
      "xavier\n",
      "xavier\n",
      "xavier\n"
     ]
    }
   ],
   "source": [
    "layers = [Affine(\"first\", 784, 100), Relu(\"first\"), Affine(\"second\", 100, 100), Relu(\"second\"), Affine(\"third\", 100, 2), Affine(\"last\", 2, 1), Sigmoid(\"last\")]\n",
    "model_nn = Model(layers)\n",
    "model_lr = Model([Affine(\"logits\", 784, 1), Sigmoid(\"sigmoid\")])"
   ]
  },
  {
   "cell_type": "code",
   "execution_count": 20,
   "id": "6eede77a",
   "metadata": {
    "execution": {
     "iopub.execute_input": "2022-02-28T10:10:36.463999Z",
     "iopub.status.busy": "2022-02-28T10:10:36.463401Z",
     "iopub.status.idle": "2022-02-28T10:10:36.480182Z",
     "shell.execute_reply": "2022-02-28T10:10:36.479535Z"
    },
    "papermill": {
     "duration": 0.052814,
     "end_time": "2022-02-28T10:10:36.480329",
     "exception": false,
     "start_time": "2022-02-28T10:10:36.427515",
     "status": "completed"
    },
    "tags": []
   },
   "outputs": [],
   "source": [
    "nn_learner = Learner(loss, model_nn, opt, config.num_epochs)\n",
    "acc_nn = ClfCallback(nn_learner, config.bs, training_data_x , testing_data_x, training_data_y, testing_data_y)\n",
    "nn_learner.set_callbacks([acc_nn])"
   ]
  },
  {
   "cell_type": "code",
   "execution_count": 21,
   "id": "877b6cc7",
   "metadata": {
    "execution": {
     "iopub.execute_input": "2022-02-28T10:10:36.558905Z",
     "iopub.status.busy": "2022-02-28T10:10:36.558243Z",
     "iopub.status.idle": "2022-02-28T10:10:36.573420Z",
     "shell.execute_reply": "2022-02-28T10:10:36.574214Z"
    },
    "papermill": {
     "duration": 0.05368,
     "end_time": "2022-02-28T10:10:36.574361",
     "exception": false,
     "start_time": "2022-02-28T10:10:36.520681",
     "status": "completed"
    },
    "tags": []
   },
   "outputs": [],
   "source": [
    "lr_learner = Learner(loss, model_lr, opt, config.num_epochs)\n",
    "acc_lr = ClfCallback(lr_learner, config.bs, training_data_x , testing_data_x, training_data_y, testing_data_y)\n",
    "lr_learner.set_callbacks([acc_lr])"
   ]
  },
  {
   "cell_type": "code",
   "execution_count": 22,
   "id": "d9b133c3",
   "metadata": {
    "execution": {
     "iopub.execute_input": "2022-02-28T10:10:36.655800Z",
     "iopub.status.busy": "2022-02-28T10:10:36.654948Z",
     "iopub.status.idle": "2022-02-28T10:13:04.530740Z",
     "shell.execute_reply": "2022-02-28T10:13:04.531743Z"
    },
    "papermill": {
     "duration": 147.914148,
     "end_time": "2022-02-28T10:13:04.531928",
     "exception": false,
     "start_time": "2022-02-28T10:10:36.617780",
     "status": "completed"
    },
    "tags": []
   },
   "outputs": [
    {
     "name": "stdout",
     "output_type": "stream",
     "text": [
      "Epoch 0, Loss 0.1843\n",
      "Training Accuracy: 0.8465, Testing Accuracy: 0.8634\n",
      "\n"
     ]
    },
    {
     "name": "stdout",
     "output_type": "stream",
     "text": [
      "Epoch 10, Loss 0.0453\n",
      "Training Accuracy: 0.9498, Testing Accuracy: 0.9561\n",
      "\n"
     ]
    },
    {
     "name": "stdout",
     "output_type": "stream",
     "text": [
      "Epoch 20, Loss 0.0341\n",
      "Training Accuracy: 0.9634, Testing Accuracy: 0.9647\n",
      "\n"
     ]
    },
    {
     "name": "stdout",
     "output_type": "stream",
     "text": [
      "Epoch 30, Loss 0.0293\n",
      "Training Accuracy: 0.9680, Testing Accuracy: 0.9688\n",
      "\n"
     ]
    },
    {
     "name": "stdout",
     "output_type": "stream",
     "text": [
      "Epoch 40, Loss 0.0264\n",
      "Training Accuracy: 0.9705, Testing Accuracy: 0.9708\n",
      "\n"
     ]
    },
    {
     "name": "stdout",
     "output_type": "stream",
     "text": [
      "Epoch 50, Loss 0.0244\n",
      "Training Accuracy: 0.9720, Testing Accuracy: 0.9718\n",
      "\n"
     ]
    },
    {
     "name": "stdout",
     "output_type": "stream",
     "text": [
      "Epoch 60, Loss 0.0229\n",
      "Training Accuracy: 0.9736, Testing Accuracy: 0.9718\n",
      "\n"
     ]
    },
    {
     "name": "stdout",
     "output_type": "stream",
     "text": [
      "Epoch 70, Loss 0.0216\n",
      "Training Accuracy: 0.9752, Testing Accuracy: 0.9718\n",
      "\n"
     ]
    },
    {
     "name": "stdout",
     "output_type": "stream",
     "text": [
      "Epoch 80, Loss 0.0205\n",
      "Training Accuracy: 0.9770, Testing Accuracy: 0.9723\n",
      "\n"
     ]
    },
    {
     "name": "stdout",
     "output_type": "stream",
     "text": [
      "Epoch 90, Loss 0.0196\n",
      "Training Accuracy: 0.9783, Testing Accuracy: 0.9733\n",
      "\n"
     ]
    },
    {
     "name": "stdout",
     "output_type": "stream",
     "text": [
      "Epoch 100, Loss 0.0188\n",
      "Training Accuracy: 0.9798, Testing Accuracy: 0.9738\n",
      "\n"
     ]
    },
    {
     "name": "stdout",
     "output_type": "stream",
     "text": [
      "Epoch 110, Loss 0.018\n",
      "Training Accuracy: 0.9810, Testing Accuracy: 0.9738\n",
      "\n"
     ]
    },
    {
     "name": "stdout",
     "output_type": "stream",
     "text": [
      "Epoch 120, Loss 0.0173\n",
      "Training Accuracy: 0.9819, Testing Accuracy: 0.9753\n",
      "\n"
     ]
    },
    {
     "name": "stdout",
     "output_type": "stream",
     "text": [
      "Epoch 130, Loss 0.0167\n",
      "Training Accuracy: 0.9827, Testing Accuracy: 0.9758\n",
      "\n"
     ]
    },
    {
     "name": "stdout",
     "output_type": "stream",
     "text": [
      "Epoch 140, Loss 0.0161\n",
      "Training Accuracy: 0.9831, Testing Accuracy: 0.9758\n",
      "\n"
     ]
    },
    {
     "name": "stdout",
     "output_type": "stream",
     "text": [
      "Epoch 150, Loss 0.0155\n",
      "Training Accuracy: 0.9837, Testing Accuracy: 0.9768\n",
      "\n"
     ]
    },
    {
     "name": "stdout",
     "output_type": "stream",
     "text": [
      "Epoch 160, Loss 0.0149\n",
      "Training Accuracy: 0.9841, Testing Accuracy: 0.9778\n",
      "\n"
     ]
    },
    {
     "name": "stdout",
     "output_type": "stream",
     "text": [
      "Epoch 170, Loss 0.0144\n",
      "Training Accuracy: 0.9851, Testing Accuracy: 0.9783\n",
      "\n"
     ]
    },
    {
     "name": "stdout",
     "output_type": "stream",
     "text": [
      "Epoch 180, Loss 0.0139\n",
      "Training Accuracy: 0.9856, Testing Accuracy: 0.9783\n",
      "\n"
     ]
    },
    {
     "name": "stdout",
     "output_type": "stream",
     "text": [
      "Epoch 190, Loss 0.0134\n",
      "Training Accuracy: 0.9864, Testing Accuracy: 0.9788\n",
      "\n"
     ]
    },
    {
     "name": "stdout",
     "output_type": "stream",
     "text": [
      "Epoch 200, Loss 0.013\n",
      "Training Accuracy: 0.9871, Testing Accuracy: 0.9793\n",
      "\n"
     ]
    },
    {
     "name": "stdout",
     "output_type": "stream",
     "text": [
      "Epoch 210, Loss 0.0126\n",
      "Training Accuracy: 0.9873, Testing Accuracy: 0.9793\n",
      "\n"
     ]
    },
    {
     "name": "stdout",
     "output_type": "stream",
     "text": [
      "Epoch 220, Loss 0.0122\n",
      "Training Accuracy: 0.9879, Testing Accuracy: 0.9808\n",
      "\n"
     ]
    },
    {
     "name": "stdout",
     "output_type": "stream",
     "text": [
      "Epoch 230, Loss 0.0118\n",
      "Training Accuracy: 0.9882, Testing Accuracy: 0.9808\n",
      "\n"
     ]
    },
    {
     "name": "stdout",
     "output_type": "stream",
     "text": [
      "Epoch 240, Loss 0.0114\n",
      "Training Accuracy: 0.9885, Testing Accuracy: 0.9819\n",
      "\n"
     ]
    },
    {
     "data": {
      "text/plain": [
       "0.002439769810028416"
      ]
     },
     "execution_count": 22,
     "metadata": {},
     "output_type": "execute_result"
    }
   ],
   "source": [
    "nn_learner.train_loop(dl)"
   ]
  },
  {
   "cell_type": "code",
   "execution_count": 23,
   "id": "e0163366",
   "metadata": {
    "execution": {
     "iopub.execute_input": "2022-02-28T10:13:04.628508Z",
     "iopub.status.busy": "2022-02-28T10:13:04.627863Z",
     "iopub.status.idle": "2022-02-28T10:13:25.665563Z",
     "shell.execute_reply": "2022-02-28T10:13:25.666144Z"
    },
    "papermill": {
     "duration": 21.093337,
     "end_time": "2022-02-28T10:13:25.666294",
     "exception": false,
     "start_time": "2022-02-28T10:13:04.572957",
     "status": "completed"
    },
    "tags": []
   },
   "outputs": [
    {
     "name": "stdout",
     "output_type": "stream",
     "text": [
      "Epoch 0, Loss 0.2463\n",
      "Training Accuracy: 0.6391, Testing Accuracy: 0.6452\n",
      "\n"
     ]
    },
    {
     "name": "stdout",
     "output_type": "stream",
     "text": [
      "Epoch 10, Loss 0.1034\n",
      "Training Accuracy: 0.9102, Testing Accuracy: 0.9279\n",
      "\n"
     ]
    },
    {
     "name": "stdout",
     "output_type": "stream",
     "text": [
      "Epoch 20, Loss 0.079\n",
      "Training Accuracy: 0.9293, Testing Accuracy: 0.9466\n",
      "\n"
     ]
    },
    {
     "name": "stdout",
     "output_type": "stream",
     "text": [
      "Epoch 30, Loss 0.068\n",
      "Training Accuracy: 0.9365, Testing Accuracy: 0.9506\n",
      "\n"
     ]
    },
    {
     "name": "stdout",
     "output_type": "stream",
     "text": [
      "Epoch 40, Loss 0.0615\n",
      "Training Accuracy: 0.9414, Testing Accuracy: 0.9531\n",
      "\n"
     ]
    },
    {
     "name": "stdout",
     "output_type": "stream",
     "text": [
      "Epoch 50, Loss 0.0571\n",
      "Training Accuracy: 0.9451, Testing Accuracy: 0.9541\n",
      "\n"
     ]
    },
    {
     "name": "stdout",
     "output_type": "stream",
     "text": [
      "Epoch 60, Loss 0.0538\n",
      "Training Accuracy: 0.9478, Testing Accuracy: 0.9572\n",
      "\n"
     ]
    },
    {
     "name": "stdout",
     "output_type": "stream",
     "text": [
      "Epoch 70, Loss 0.0513\n",
      "Training Accuracy: 0.9492, Testing Accuracy: 0.9597\n",
      "\n"
     ]
    },
    {
     "name": "stdout",
     "output_type": "stream",
     "text": [
      "Epoch 80, Loss 0.0493\n",
      "Training Accuracy: 0.9500, Testing Accuracy: 0.9607\n",
      "\n"
     ]
    },
    {
     "name": "stdout",
     "output_type": "stream",
     "text": [
      "Epoch 90, Loss 0.0477\n",
      "Training Accuracy: 0.9508, Testing Accuracy: 0.9622\n",
      "\n"
     ]
    },
    {
     "name": "stdout",
     "output_type": "stream",
     "text": [
      "Epoch 100, Loss 0.0463\n",
      "Training Accuracy: 0.9518, Testing Accuracy: 0.9627\n",
      "\n"
     ]
    },
    {
     "name": "stdout",
     "output_type": "stream",
     "text": [
      "Epoch 110, Loss 0.0451\n",
      "Training Accuracy: 0.9530, Testing Accuracy: 0.9637\n",
      "\n"
     ]
    },
    {
     "name": "stdout",
     "output_type": "stream",
     "text": [
      "Epoch 120, Loss 0.044\n",
      "Training Accuracy: 0.9536, Testing Accuracy: 0.9642\n",
      "\n"
     ]
    },
    {
     "name": "stdout",
     "output_type": "stream",
     "text": [
      "Epoch 130, Loss 0.0431\n",
      "Training Accuracy: 0.9548, Testing Accuracy: 0.9647\n",
      "\n"
     ]
    },
    {
     "name": "stdout",
     "output_type": "stream",
     "text": [
      "Epoch 140, Loss 0.0423\n",
      "Training Accuracy: 0.9559, Testing Accuracy: 0.9647\n",
      "\n"
     ]
    },
    {
     "name": "stdout",
     "output_type": "stream",
     "text": [
      "Epoch 150, Loss 0.0415\n",
      "Training Accuracy: 0.9564, Testing Accuracy: 0.9652\n",
      "\n"
     ]
    },
    {
     "name": "stdout",
     "output_type": "stream",
     "text": [
      "Epoch 160, Loss 0.0409\n",
      "Training Accuracy: 0.9575, Testing Accuracy: 0.9657\n",
      "\n"
     ]
    },
    {
     "name": "stdout",
     "output_type": "stream",
     "text": [
      "Epoch 170, Loss 0.0403\n",
      "Training Accuracy: 0.9581, Testing Accuracy: 0.9662\n",
      "\n"
     ]
    },
    {
     "name": "stdout",
     "output_type": "stream",
     "text": [
      "Epoch 180, Loss 0.0397\n",
      "Training Accuracy: 0.9582, Testing Accuracy: 0.9667\n",
      "\n"
     ]
    },
    {
     "name": "stdout",
     "output_type": "stream",
     "text": [
      "Epoch 190, Loss 0.0392\n",
      "Training Accuracy: 0.9586, Testing Accuracy: 0.9662\n",
      "\n"
     ]
    },
    {
     "name": "stdout",
     "output_type": "stream",
     "text": [
      "Epoch 200, Loss 0.0387\n",
      "Training Accuracy: 0.9592, Testing Accuracy: 0.9667\n",
      "\n"
     ]
    },
    {
     "name": "stdout",
     "output_type": "stream",
     "text": [
      "Epoch 210, Loss 0.0383\n",
      "Training Accuracy: 0.9594, Testing Accuracy: 0.9667\n",
      "\n"
     ]
    },
    {
     "name": "stdout",
     "output_type": "stream",
     "text": [
      "Epoch 220, Loss 0.0379\n",
      "Training Accuracy: 0.9596, Testing Accuracy: 0.9672\n",
      "\n"
     ]
    },
    {
     "name": "stdout",
     "output_type": "stream",
     "text": [
      "Epoch 230, Loss 0.0375\n",
      "Training Accuracy: 0.9601, Testing Accuracy: 0.9672\n",
      "\n"
     ]
    },
    {
     "name": "stdout",
     "output_type": "stream",
     "text": [
      "Epoch 240, Loss 0.0371\n",
      "Training Accuracy: 0.9603, Testing Accuracy: 0.9672\n",
      "\n"
     ]
    },
    {
     "data": {
      "text/plain": [
       "0.026761945568475377"
      ]
     },
     "execution_count": 23,
     "metadata": {},
     "output_type": "execute_result"
    }
   ],
   "source": [
    "lr_learner.train_loop(dl)"
   ]
  },
  {
   "cell_type": "code",
   "execution_count": 24,
   "id": "ca410940",
   "metadata": {
    "execution": {
     "iopub.execute_input": "2022-02-28T10:13:25.772962Z",
     "iopub.status.busy": "2022-02-28T10:13:25.772159Z",
     "iopub.status.idle": "2022-02-28T10:13:26.081844Z",
     "shell.execute_reply": "2022-02-28T10:13:26.081352Z"
    },
    "papermill": {
     "duration": 0.367887,
     "end_time": "2022-02-28T10:13:26.081964",
     "exception": false,
     "start_time": "2022-02-28T10:13:25.714077",
     "status": "completed"
    },
    "tags": []
   },
   "outputs": [
    {
     "data": {
      "text/plain": [
       "<matplotlib.legend.Legend at 0x7fb96509a6a0>"
      ]
     },
     "execution_count": 24,
     "metadata": {},
     "output_type": "execute_result"
    },
    {
     "data": {
      "image/png": "[encoded data removed]",
      "text/plain": [
       "<Figure size 1080x720 with 1 Axes>"
      ]
     },
     "metadata": {
      "needs_background": "light"
     },
     "output_type": "display_data"
    }
   ],
   "source": [
    "#comparing the results of NN and LR\n",
    "plt.figure(figsize=(15,10))\n",
    "\n",
    "# Neural Network plots\n",
    "plt.plot(acc_nn.accuracies, 'r-', label = \"Training Accuracies - NN\")\n",
    "plt.plot(acc_nn.test_accuracies, 'g-', label = \"Testing Accuracies - NN\")\n",
    "\n",
    "# Logistic Regression plots\n",
    "plt.plot(acc_lr.accuracies, 'k-', label = \"Training Accuracies - LR\")\n",
    "plt.plot(acc_lr.test_accuracies, 'b-', label = \"Testing Accuracies - LR\")\n",
    "plt.legend()"
   ]
  },
  {
   "cell_type": "markdown",
   "id": "80dfb35c",
   "metadata": {
    "papermill": {
     "duration": 0.047667,
     "end_time": "2022-02-28T10:13:26.175034",
     "exception": false,
     "start_time": "2022-02-28T10:13:26.127367",
     "status": "completed"
    },
    "tags": []
   },
   "source": [
    "#### Plotting the outputs of this layer of the NN.\n"
   ]
  },
  {
   "cell_type": "code",
   "execution_count": 25,
   "id": "45eb2ff5",
   "metadata": {
    "execution": {
     "iopub.execute_input": "2022-02-28T10:13:26.278598Z",
     "iopub.status.busy": "2022-02-28T10:13:26.276018Z",
     "iopub.status.idle": "2022-02-28T10:13:26.304969Z",
     "shell.execute_reply": "2022-02-28T10:13:26.305442Z"
    },
    "papermill": {
     "duration": 0.081574,
     "end_time": "2022-02-28T10:13:26.305607",
     "exception": false,
     "start_time": "2022-02-28T10:13:26.224033",
     "status": "completed"
    },
    "tags": []
   },
   "outputs": [],
   "source": [
    "new_model = Model(layers[:-2])\n",
    "testing_plot = new_model(testing_data_x)"
   ]
  },
  {
   "cell_type": "code",
   "execution_count": 26,
   "id": "4c0a5485",
   "metadata": {
    "execution": {
     "iopub.execute_input": "2022-02-28T10:13:26.415817Z",
     "iopub.status.busy": "2022-02-28T10:13:26.415125Z",
     "iopub.status.idle": "2022-02-28T10:13:26.675933Z",
     "shell.execute_reply": "2022-02-28T10:13:26.676516Z"
    },
    "papermill": {
     "duration": 0.322149,
     "end_time": "2022-02-28T10:13:26.676717",
     "exception": false,
     "start_time": "2022-02-28T10:13:26.354568",
     "status": "completed"
    },
    "tags": []
   },
   "outputs": [
    {
     "data": {
      "text/plain": [
       "Text(0.5, 1.0, 'Outputs')"
      ]
     },
     "execution_count": 26,
     "metadata": {},
     "output_type": "execute_result"
    },
    {
     "data": {
      "image/png": "[encoded data removed]",
      "text/plain": [
       "<Figure size 576x504 with 1 Axes>"
      ]
     },
     "metadata": {
      "needs_background": "light"
     },
     "output_type": "display_data"
    }
   ],
   "source": [
    "# Plotting the scatter plot of points and color coding by class\n",
    "plt.figure(figsize=(8,7))\n",
    "plt.scatter(testing_plot[:,0], testing_plot[:,1], alpha = 0.1, c = y_test.ravel());\n",
    "plt.title('Outputs')"
   ]
  },
  {
   "cell_type": "markdown",
   "id": "a74fcf8f",
   "metadata": {
    "papermill": {
     "duration": 0.056738,
     "end_time": "2022-02-28T10:13:26.796127",
     "exception": false,
     "start_time": "2022-02-28T10:13:26.739389",
     "status": "completed"
    },
    "tags": []
   },
   "source": [
    "Probability contours"
   ]
  },
  {
   "cell_type": "code",
   "execution_count": 27,
   "id": "d0afc8e3",
   "metadata": {
    "execution": {
     "iopub.execute_input": "2022-02-28T10:13:26.913694Z",
     "iopub.status.busy": "2022-02-28T10:13:26.912043Z",
     "iopub.status.idle": "2022-02-28T10:13:26.925871Z",
     "shell.execute_reply": "2022-02-28T10:13:26.925303Z"
    },
    "papermill": {
     "duration": 0.072488,
     "end_time": "2022-02-28T10:13:26.926031",
     "exception": false,
     "start_time": "2022-02-28T10:13:26.853543",
     "status": "completed"
    },
    "tags": []
   },
   "outputs": [],
   "source": [
    "model_prob = Model(layers[-2:]) "
   ]
  },
  {
   "cell_type": "code",
   "execution_count": 28,
   "id": "9b96e238",
   "metadata": {
    "execution": {
     "iopub.execute_input": "2022-02-28T10:13:27.084159Z",
     "iopub.status.busy": "2022-02-28T10:13:27.083450Z",
     "iopub.status.idle": "2022-02-28T10:13:27.097780Z",
     "shell.execute_reply": "2022-02-28T10:13:27.098207Z"
    },
    "papermill": {
     "duration": 0.107305,
     "end_time": "2022-02-28T10:13:27.098339",
     "exception": false,
     "start_time": "2022-02-28T10:13:26.991034",
     "status": "completed"
    },
    "tags": []
   },
   "outputs": [],
   "source": [
    "#creating the x and y ranges according to the above generated plot.\n",
    "x_range = np.linspace(-4, 1, 100) \n",
    "y_range = np.linspace(-6, 6, 100) \n",
    "x_grid, y_grid = np.meshgrid(x_range, y_range) # x_grid and y_grig are of size 100 X 100\n",
    "\n",
    "# converting x_grid and y_grid to continuous arrays\n",
    "x_gridflat = np.ravel(x_grid)\n",
    "y_gridflat = np.ravel(y_grid)\n",
    "\n",
    "# The last layer of the current model takes two columns as input. Hence transpose of np.vstack() is required.\n",
    "X = np.vstack((x_gridflat, y_gridflat)).T\n",
    "\n",
    "prob_contour = model_prob(X).reshape(100,100) "
   ]
  },
  {
   "cell_type": "code",
   "execution_count": 29,
   "id": "da72499a",
   "metadata": {
    "execution": {
     "iopub.execute_input": "2022-02-28T10:13:27.215590Z",
     "iopub.status.busy": "2022-02-28T10:13:27.214886Z",
     "iopub.status.idle": "2022-02-28T10:13:27.536949Z",
     "shell.execute_reply": "2022-02-28T10:13:27.535876Z"
    },
    "papermill": {
     "duration": 0.384641,
     "end_time": "2022-02-28T10:13:27.537122",
     "exception": false,
     "start_time": "2022-02-28T10:13:27.152481",
     "status": "completed"
    },
    "tags": []
   },
   "outputs": [
    {
     "data": {
      "image/png": "[encoded data removed]",
      "text/plain": [
       "<Figure size 720x648 with 1 Axes>"
      ]
     },
     "metadata": {
      "needs_background": "light"
     },
     "output_type": "display_data"
    }
   ],
   "source": [
    "plt.figure(figsize=(10,9))\n",
    "plt.scatter(testing_plot[:,0], testing_plot[:,1], alpha = 0.1, c = y_test.ravel())\n",
    "contours = plt.contour(x_grid,y_grid,prob_contour)\n",
    "plt.title('Probability Contours')\n",
    "plt.clabel(contours, inline = True );"
   ]
  },
  {
   "cell_type": "code",
   "execution_count": null,
   "id": "e81b4ac7",
   "metadata": {
    "papermill": {
     "duration": 0.054346,
     "end_time": "2022-02-28T10:13:27.648001",
     "exception": false,
     "start_time": "2022-02-28T10:13:27.593655",
     "status": "completed"
    },
    "tags": []
   },
   "outputs": [],
   "source": []
  }
 ],
 "metadata": {
  "kernelspec": {
   "display_name": "Python 3",
   "language": "python",
   "name": "python3"
  },
  "language_info": {
   "codemirror_mode": {
    "name": "ipython",
    "version": 3
   },
   "file_extension": ".py",
   "mimetype": "text/x-python",
   "name": "python",
   "nbconvert_exporter": "python",
   "pygments_lexer": "ipython3",
   "version": "3.6.15"
  },
  "papermill": {
   "default_parameters": {},
   "duration": 178.76098,
   "end_time": "2022-02-28T10:13:28.120704",
   "environment_variables": {},
   "exception": null,
   "input_path": "2020-08-11-part2.ipynb",
   "output_path": "2020-08-11-part2.ipynb",
   "parameters": {},
   "start_time": "2022-02-28T10:10:29.359724",
   "version": "2.3.3"
  }
 },
 "nbformat": 4,
 "nbformat_minor": 5
}