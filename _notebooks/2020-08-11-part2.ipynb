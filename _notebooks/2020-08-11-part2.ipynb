{
 "cells": [
  {
   "cell_type": "markdown",
   "id": "98380cd3",
   "metadata": {
    "papermill": {
     "duration": 0.028062,
     "end_time": "2021-12-19T10:07:41.282362",
     "exception": false,
     "start_time": "2021-12-19T10:07:41.254300",
     "status": "completed"
    },
    "tags": []
   },
   "source": [
    "# Distinguish Your Own Digits (DYOD)"
   ]
  },
  {
   "cell_type": "markdown",
   "id": "ef31240d",
   "metadata": {
    "papermill": {
     "duration": 0.023973,
     "end_time": "2021-12-19T10:07:41.330951",
     "exception": false,
     "start_time": "2021-12-19T10:07:41.306978",
     "status": "completed"
    },
    "tags": []
   },
   "source": [
    "You are going to write a classifier that distinguishes between the number 3 and number 8."
   ]
  },
  {
   "cell_type": "code",
   "execution_count": 1,
   "id": "b15c8646",
   "metadata": {
    "execution": {
     "iopub.execute_input": "2021-12-19T10:07:41.391220Z",
     "iopub.status.busy": "2021-12-19T10:07:41.390619Z",
     "iopub.status.idle": "2021-12-19T10:07:41.401289Z",
     "shell.execute_reply": "2021-12-19T10:07:41.400798Z"
    },
    "papermill": {
     "duration": 0.046591,
     "end_time": "2021-12-19T10:07:41.401437",
     "exception": false,
     "start_time": "2021-12-19T10:07:41.354846",
     "status": "completed"
    },
    "tags": []
   },
   "outputs": [],
   "source": [
    "%load_ext autoreload\n",
    "%autoreload 2"
   ]
  },
  {
   "cell_type": "code",
   "execution_count": 2,
   "id": "22ef38dc",
   "metadata": {
    "execution": {
     "iopub.execute_input": "2021-12-19T10:07:41.463912Z",
     "iopub.status.busy": "2021-12-19T10:07:41.462075Z",
     "iopub.status.idle": "2021-12-19T10:07:42.057663Z",
     "shell.execute_reply": "2021-12-19T10:07:42.057115Z"
    },
    "papermill": {
     "duration": 0.632164,
     "end_time": "2021-12-19T10:07:42.057808",
     "exception": false,
     "start_time": "2021-12-19T10:07:41.425644",
     "status": "completed"
    },
    "tags": []
   },
   "outputs": [],
   "source": [
    "%matplotlib inline\n",
    "import numpy as np\n",
    "import matplotlib.pyplot as plt\n",
    "import pandas as pd"
   ]
  },
  {
   "cell_type": "markdown",
   "id": "ba036198",
   "metadata": {
    "papermill": {
     "duration": 0.024465,
     "end_time": "2021-12-19T10:07:42.107395",
     "exception": false,
     "start_time": "2021-12-19T10:07:42.082930",
     "status": "completed"
    },
    "tags": []
   },
   "source": [
    "From the command line run `pip install mnist`. This is a library that will help you bring down the mnist dataset. If you run this from a notebook, you need to put  `!pip install mnist` in a cell by itself."
   ]
  },
  {
   "cell_type": "code",
   "execution_count": 3,
   "id": "bb6ad8a1",
   "metadata": {
    "execution": {
     "iopub.execute_input": "2021-12-19T10:07:42.171312Z",
     "iopub.status.busy": "2021-12-19T10:07:42.166801Z",
     "iopub.status.idle": "2021-12-19T10:07:43.978715Z",
     "shell.execute_reply": "2021-12-19T10:07:43.979214Z"
    },
    "papermill": {
     "duration": 1.848028,
     "end_time": "2021-12-19T10:07:43.979387",
     "exception": false,
     "start_time": "2021-12-19T10:07:42.131359",
     "status": "completed"
    },
    "tags": []
   },
   "outputs": [
    {
     "name": "stdout",
     "output_type": "stream",
     "text": [
      "Collecting mnist\r\n"
     ]
    },
    {
     "name": "stdout",
     "output_type": "stream",
     "text": [
      "  Downloading mnist-0.2.2-py2.py3-none-any.whl (3.5 kB)\r\n",
      "Requirement already satisfied: numpy in /opt/hostedtoolcache/Python/3.6.15/x64/lib/python3.6/site-packages (from mnist) (1.19.5)\r\n"
     ]
    },
    {
     "name": "stdout",
     "output_type": "stream",
     "text": [
      "Installing collected packages: mnist\r\n"
     ]
    },
    {
     "name": "stdout",
     "output_type": "stream",
     "text": [
      "Successfully installed mnist-0.2.2\r\n"
     ]
    }
   ],
   "source": [
    "!pip install mnist"
   ]
  },
  {
   "cell_type": "markdown",
   "id": "69df9c9a",
   "metadata": {
    "papermill": {
     "duration": 0.024861,
     "end_time": "2021-12-19T10:07:44.030197",
     "exception": false,
     "start_time": "2021-12-19T10:07:44.005336",
     "status": "completed"
    },
    "tags": []
   },
   "source": [
    "## Preparing the Data"
   ]
  },
  {
   "cell_type": "code",
   "execution_count": 4,
   "id": "7f69d806",
   "metadata": {
    "execution": {
     "iopub.execute_input": "2021-12-19T10:07:44.092440Z",
     "iopub.status.busy": "2021-12-19T10:07:44.089633Z",
     "iopub.status.idle": "2021-12-19T10:07:44.101147Z",
     "shell.execute_reply": "2021-12-19T10:07:44.100673Z"
    },
    "papermill": {
     "duration": 0.046178,
     "end_time": "2021-12-19T10:07:44.101262",
     "exception": false,
     "start_time": "2021-12-19T10:07:44.055084",
     "status": "completed"
    },
    "tags": []
   },
   "outputs": [],
   "source": [
    "import mnist"
   ]
  },
  {
   "cell_type": "code",
   "execution_count": 5,
   "id": "a411e44f",
   "metadata": {
    "execution": {
     "iopub.execute_input": "2021-12-19T10:07:44.155438Z",
     "iopub.status.busy": "2021-12-19T10:07:44.154908Z",
     "iopub.status.idle": "2021-12-19T10:07:44.640742Z",
     "shell.execute_reply": "2021-12-19T10:07:44.640255Z"
    },
    "papermill": {
     "duration": 0.514358,
     "end_time": "2021-12-19T10:07:44.640874",
     "exception": false,
     "start_time": "2021-12-19T10:07:44.126516",
     "status": "completed"
    },
    "tags": []
   },
   "outputs": [],
   "source": [
    "train_images = mnist.train_images()\n",
    "train_labels = mnist.train_labels()"
   ]
  },
  {
   "cell_type": "code",
   "execution_count": 6,
   "id": "dceab3a5",
   "metadata": {
    "execution": {
     "iopub.execute_input": "2021-12-19T10:07:44.702752Z",
     "iopub.status.busy": "2021-12-19T10:07:44.702135Z",
     "iopub.status.idle": "2021-12-19T10:07:44.712775Z",
     "shell.execute_reply": "2021-12-19T10:07:44.712329Z"
    },
    "papermill": {
     "duration": 0.046765,
     "end_time": "2021-12-19T10:07:44.712892",
     "exception": false,
     "start_time": "2021-12-19T10:07:44.666127",
     "status": "completed"
    },
    "tags": []
   },
   "outputs": [
    {
     "data": {
      "text/plain": [
       "((60000, 28, 28), (60000,))"
      ]
     },
     "execution_count": 6,
     "metadata": {},
     "output_type": "execute_result"
    }
   ],
   "source": [
    "train_images.shape, train_labels.shape"
   ]
  },
  {
   "cell_type": "code",
   "execution_count": 7,
   "id": "f50dc2bb",
   "metadata": {
    "execution": {
     "iopub.execute_input": "2021-12-19T10:07:44.767753Z",
     "iopub.status.busy": "2021-12-19T10:07:44.767226Z",
     "iopub.status.idle": "2021-12-19T10:07:44.914392Z",
     "shell.execute_reply": "2021-12-19T10:07:44.914904Z"
    },
    "papermill": {
     "duration": 0.176919,
     "end_time": "2021-12-19T10:07:44.915115",
     "exception": false,
     "start_time": "2021-12-19T10:07:44.738196",
     "status": "completed"
    },
    "tags": []
   },
   "outputs": [],
   "source": [
    "test_images = mnist.test_images()\n",
    "test_labels = mnist.test_labels()"
   ]
  },
  {
   "cell_type": "code",
   "execution_count": 8,
   "id": "fc38cf1b",
   "metadata": {
    "execution": {
     "iopub.execute_input": "2021-12-19T10:07:44.971536Z",
     "iopub.status.busy": "2021-12-19T10:07:44.970996Z",
     "iopub.status.idle": "2021-12-19T10:07:44.984274Z",
     "shell.execute_reply": "2021-12-19T10:07:44.984690Z"
    },
    "papermill": {
     "duration": 0.044209,
     "end_time": "2021-12-19T10:07:44.984832",
     "exception": false,
     "start_time": "2021-12-19T10:07:44.940623",
     "status": "completed"
    },
    "tags": []
   },
   "outputs": [
    {
     "data": {
      "text/plain": [
       "((10000, 28, 28), (10000,))"
      ]
     },
     "execution_count": 8,
     "metadata": {},
     "output_type": "execute_result"
    }
   ],
   "source": [
    "test_images.shape, test_labels.shape"
   ]
  },
  {
   "cell_type": "code",
   "execution_count": 9,
   "id": "f9ed8fe0",
   "metadata": {
    "execution": {
     "iopub.execute_input": "2021-12-19T10:07:45.045602Z",
     "iopub.status.busy": "2021-12-19T10:07:45.045048Z",
     "iopub.status.idle": "2021-12-19T10:07:45.182484Z",
     "shell.execute_reply": "2021-12-19T10:07:45.182916Z"
    },
    "papermill": {
     "duration": 0.172466,
     "end_time": "2021-12-19T10:07:45.183058",
     "exception": false,
     "start_time": "2021-12-19T10:07:45.010592",
     "status": "completed"
    },
    "tags": []
   },
   "outputs": [
    {
     "name": "stdout",
     "output_type": "stream",
     "text": [
      "2\n"
     ]
    },
    {
     "data": {
      "text/plain": [
       "<matplotlib.image.AxesImage at 0x7f1c146da550>"
      ]
     },
     "execution_count": 9,
     "metadata": {},
     "output_type": "execute_result"
    },
    {
     "data": {
      "image/png": "[encoded data removed]",
      "text/plain": [
       "<Figure size 432x288 with 1 Axes>"
      ]
     },
     "metadata": {
      "needs_background": "light"
     },
     "output_type": "display_data"
    }
   ],
   "source": [
    "image_index = 7776 # You may select anything up to 60,000\n",
    "print(train_labels[image_index]) \n",
    "plt.imshow(train_images[image_index], cmap='Greys')"
   ]
  },
  {
   "cell_type": "markdown",
   "id": "a8d2388d",
   "metadata": {
    "papermill": {
     "duration": 0.027146,
     "end_time": "2021-12-19T10:07:45.237407",
     "exception": false,
     "start_time": "2021-12-19T10:07:45.210261",
     "status": "completed"
    },
    "tags": []
   },
   "source": [
    "## Filter data to get 3 and 8 out"
   ]
  },
  {
   "cell_type": "code",
   "execution_count": 10,
   "id": "776f7fc7",
   "metadata": {
    "execution": {
     "iopub.execute_input": "2021-12-19T10:07:45.296336Z",
     "iopub.status.busy": "2021-12-19T10:07:45.295744Z",
     "iopub.status.idle": "2021-12-19T10:07:45.312148Z",
     "shell.execute_reply": "2021-12-19T10:07:45.311695Z"
    },
    "papermill": {
     "duration": 0.047873,
     "end_time": "2021-12-19T10:07:45.312274",
     "exception": false,
     "start_time": "2021-12-19T10:07:45.264401",
     "status": "completed"
    },
    "tags": []
   },
   "outputs": [],
   "source": [
    "train_filter = np.where((train_labels == 3 ) | (train_labels == 8))\n",
    "test_filter = np.where((test_labels == 3) | (test_labels == 8))\n",
    "X_train, y_train = train_images[train_filter], train_labels[train_filter]\n",
    "X_test, y_test = test_images[test_filter], test_labels[test_filter]"
   ]
  },
  {
   "cell_type": "markdown",
   "id": "948f0b7e",
   "metadata": {
    "papermill": {
     "duration": 0.026878,
     "end_time": "2021-12-19T10:07:45.366129",
     "exception": false,
     "start_time": "2021-12-19T10:07:45.339251",
     "status": "completed"
    },
    "tags": []
   },
   "source": [
    "We normalize the pizel values in the 0 to 1 range"
   ]
  },
  {
   "cell_type": "code",
   "execution_count": 11,
   "id": "ee4c2166",
   "metadata": {
    "execution": {
     "iopub.execute_input": "2021-12-19T10:07:45.426220Z",
     "iopub.status.busy": "2021-12-19T10:07:45.425637Z",
     "iopub.status.idle": "2021-12-19T10:07:45.473808Z",
     "shell.execute_reply": "2021-12-19T10:07:45.474276Z"
    },
    "papermill": {
     "duration": 0.081168,
     "end_time": "2021-12-19T10:07:45.474457",
     "exception": false,
     "start_time": "2021-12-19T10:07:45.393289",
     "status": "completed"
    },
    "tags": []
   },
   "outputs": [],
   "source": [
    "X_train = X_train/255.\n",
    "X_test = X_test/255."
   ]
  },
  {
   "cell_type": "markdown",
   "id": "ddcf4fab",
   "metadata": {
    "papermill": {
     "duration": 0.026978,
     "end_time": "2021-12-19T10:07:45.528770",
     "exception": false,
     "start_time": "2021-12-19T10:07:45.501792",
     "status": "completed"
    },
    "tags": []
   },
   "source": [
    "And setup the labels as 1 (when the digit is 3) and 0 (when the digit is 8)"
   ]
  },
  {
   "cell_type": "code",
   "execution_count": 12,
   "id": "7dc908f2",
   "metadata": {
    "execution": {
     "iopub.execute_input": "2021-12-19T10:07:45.589209Z",
     "iopub.status.busy": "2021-12-19T10:07:45.588667Z",
     "iopub.status.idle": "2021-12-19T10:07:45.599708Z",
     "shell.execute_reply": "2021-12-19T10:07:45.599270Z"
    },
    "papermill": {
     "duration": 0.04449,
     "end_time": "2021-12-19T10:07:45.599836",
     "exception": false,
     "start_time": "2021-12-19T10:07:45.555346",
     "status": "completed"
    },
    "tags": []
   },
   "outputs": [],
   "source": [
    "y_train = 1*(y_train==3)\n",
    "y_test = 1*(y_test==3)"
   ]
  },
  {
   "cell_type": "code",
   "execution_count": 13,
   "id": "01e4e969",
   "metadata": {
    "execution": {
     "iopub.execute_input": "2021-12-19T10:07:45.657518Z",
     "iopub.status.busy": "2021-12-19T10:07:45.656997Z",
     "iopub.status.idle": "2021-12-19T10:07:45.671272Z",
     "shell.execute_reply": "2021-12-19T10:07:45.671697Z"
    },
    "papermill": {
     "duration": 0.044896,
     "end_time": "2021-12-19T10:07:45.671845",
     "exception": false,
     "start_time": "2021-12-19T10:07:45.626949",
     "status": "completed"
    },
    "tags": []
   },
   "outputs": [
    {
     "data": {
      "text/plain": [
       "((11982, 28, 28), (1984, 28, 28))"
      ]
     },
     "execution_count": 13,
     "metadata": {},
     "output_type": "execute_result"
    }
   ],
   "source": [
    "X_train.shape, X_test.shape"
   ]
  },
  {
   "cell_type": "markdown",
   "id": "5ccf3f85",
   "metadata": {
    "papermill": {
     "duration": 0.026745,
     "end_time": "2021-12-19T10:07:45.725597",
     "exception": false,
     "start_time": "2021-12-19T10:07:45.698852",
     "status": "completed"
    },
    "tags": []
   },
   "source": [
    "We reshape the data to flatten the image pixels into a set of features or co-variates:"
   ]
  },
  {
   "cell_type": "code",
   "execution_count": 14,
   "id": "5286a4a3",
   "metadata": {
    "execution": {
     "iopub.execute_input": "2021-12-19T10:07:45.783983Z",
     "iopub.status.busy": "2021-12-19T10:07:45.783432Z",
     "iopub.status.idle": "2021-12-19T10:07:45.798297Z",
     "shell.execute_reply": "2021-12-19T10:07:45.798794Z"
    },
    "papermill": {
     "duration": 0.046378,
     "end_time": "2021-12-19T10:07:45.798946",
     "exception": false,
     "start_time": "2021-12-19T10:07:45.752568",
     "status": "completed"
    },
    "tags": []
   },
   "outputs": [
    {
     "data": {
      "text/plain": [
       "((11982, 784), (1984, 784))"
      ]
     },
     "execution_count": 14,
     "metadata": {},
     "output_type": "execute_result"
    }
   ],
   "source": [
    "X_train = X_train.reshape(X_train.shape[0], -1)\n",
    "X_test = X_test.reshape(X_test.shape[0], -1)\n",
    "X_train.shape, X_test.shape"
   ]
  },
  {
   "cell_type": "code",
   "execution_count": 15,
   "id": "73c5f88a",
   "metadata": {
    "execution": {
     "iopub.execute_input": "2021-12-19T10:07:45.859696Z",
     "iopub.status.busy": "2021-12-19T10:07:45.858809Z",
     "iopub.status.idle": "2021-12-19T10:07:45.879777Z",
     "shell.execute_reply": "2021-12-19T10:07:45.878753Z"
    },
    "papermill": {
     "duration": 0.053237,
     "end_time": "2021-12-19T10:07:45.879908",
     "exception": false,
     "start_time": "2021-12-19T10:07:45.826671",
     "status": "completed"
    },
    "tags": []
   },
   "outputs": [],
   "source": [
    "#Impoting functions from 'Kudzu'\n",
    "from kudzu.model import Model\n",
    "from kudzu.train import Learner\n",
    "from kudzu.optim import GD\n",
    "from kudzu.data import Data, Sampler,Dataloader\n",
    "\n",
    "from kudzu.callbacks import AccCallback\n",
    "from kudzu.callbacks import ClfCallback\n",
    "\n",
    "from kudzu.loss import MSE\n",
    "\n",
    "from kudzu.layer import Sigmoid,Relu\n",
    "from kudzu.layer import Affine"
   ]
  },
  {
   "cell_type": "markdown",
   "id": "bc01172a",
   "metadata": {
    "papermill": {
     "duration": 0.027167,
     "end_time": "2021-12-19T10:07:45.935101",
     "exception": false,
     "start_time": "2021-12-19T10:07:45.907934",
     "status": "completed"
    },
    "tags": []
   },
   "source": [
    "### Let us create a `Config` class, to store important parameters. \n",
    "This class essentially plays the role of a dictionary."
   ]
  },
  {
   "cell_type": "code",
   "execution_count": 16,
   "id": "978281aa",
   "metadata": {
    "execution": {
     "iopub.execute_input": "2021-12-19T10:07:45.996846Z",
     "iopub.status.busy": "2021-12-19T10:07:45.995709Z",
     "iopub.status.idle": "2021-12-19T10:07:46.006882Z",
     "shell.execute_reply": "2021-12-19T10:07:46.006412Z"
    },
    "papermill": {
     "duration": 0.044821,
     "end_time": "2021-12-19T10:07:46.007012",
     "exception": false,
     "start_time": "2021-12-19T10:07:45.962191",
     "status": "completed"
    },
    "tags": []
   },
   "outputs": [],
   "source": [
    "class Config:\n",
    "    pass\n",
    "config = Config()\n",
    "config.lr = 0.001\n",
    "config.num_epochs = 250\n",
    "config.bs = 50"
   ]
  },
  {
   "cell_type": "markdown",
   "id": "1385fa59",
   "metadata": {
    "papermill": {
     "duration": 0.027113,
     "end_time": "2021-12-19T10:07:46.061500",
     "exception": false,
     "start_time": "2021-12-19T10:07:46.034387",
     "status": "completed"
    },
    "tags": []
   },
   "source": [
    "### Running Models with the Training data\n",
    "Details about the network layers:\n",
    "- A first affine layer has 784 inputs and does 100 affine transforms. These are followed by a Relu\n",
    "- A second affine layer has 100 inputs from the 100 activations of the past layer, and does 100 affine transforms. These are followed by a Relu\n",
    "- A third affine layer has 100 activations and does 2 affine transformations to create an embedding for visualization. There is no non-linearity here.\n",
    "- A final \"logistic regression\" which has an affine transform from 2 inputs to 1 output, which is squeezed through a sigmoid.\n"
   ]
  },
  {
   "cell_type": "code",
   "execution_count": 17,
   "id": "2b9c66db",
   "metadata": {
    "execution": {
     "iopub.execute_input": "2021-12-19T10:07:46.120215Z",
     "iopub.status.busy": "2021-12-19T10:07:46.119684Z",
     "iopub.status.idle": "2021-12-19T10:07:46.132382Z",
     "shell.execute_reply": "2021-12-19T10:07:46.131951Z"
    },
    "papermill": {
     "duration": 0.043746,
     "end_time": "2021-12-19T10:07:46.132502",
     "exception": false,
     "start_time": "2021-12-19T10:07:46.088756",
     "status": "completed"
    },
    "tags": []
   },
   "outputs": [],
   "source": [
    "data = Data(X_train, y_train.reshape(-1,1))\n",
    "sampler = Sampler(data, config.bs, shuffle=True)\n",
    "\n",
    "dl = Dataloader(data, sampler)\n",
    "\n",
    "opt = GD(config.lr)\n",
    "loss = MSE()"
   ]
  },
  {
   "cell_type": "code",
   "execution_count": 18,
   "id": "b275e4c2",
   "metadata": {
    "execution": {
     "iopub.execute_input": "2021-12-19T10:07:46.192911Z",
     "iopub.status.busy": "2021-12-19T10:07:46.192355Z",
     "iopub.status.idle": "2021-12-19T10:07:46.203970Z",
     "shell.execute_reply": "2021-12-19T10:07:46.203510Z"
    },
    "papermill": {
     "duration": 0.044409,
     "end_time": "2021-12-19T10:07:46.204093",
     "exception": false,
     "start_time": "2021-12-19T10:07:46.159684",
     "status": "completed"
    },
    "tags": []
   },
   "outputs": [],
   "source": [
    "training_data_x = X_train\n",
    "testing_data_x = X_test\n",
    "training_data_y = y_train.reshape(-1,1)\n",
    "testing_data_y = y_test.reshape(-1,1)"
   ]
  },
  {
   "cell_type": "code",
   "execution_count": 19,
   "id": "76951160",
   "metadata": {
    "execution": {
     "iopub.execute_input": "2021-12-19T10:07:46.265008Z",
     "iopub.status.busy": "2021-12-19T10:07:46.264428Z",
     "iopub.status.idle": "2021-12-19T10:07:46.280212Z",
     "shell.execute_reply": "2021-12-19T10:07:46.279773Z"
    },
    "papermill": {
     "duration": 0.049041,
     "end_time": "2021-12-19T10:07:46.280340",
     "exception": false,
     "start_time": "2021-12-19T10:07:46.231299",
     "status": "completed"
    },
    "tags": []
   },
   "outputs": [
    {
     "name": "stdout",
     "output_type": "stream",
     "text": [
      "xavier\n",
      "xavier\n",
      "xavier\n",
      "xavier\n",
      "xavier\n"
     ]
    }
   ],
   "source": [
    "layers = [Affine(\"first\", 784, 100), Relu(\"first\"), Affine(\"second\", 100, 100), Relu(\"second\"), Affine(\"third\", 100, 2), Affine(\"last\", 2, 1), Sigmoid(\"last\")]\n",
    "model_nn = Model(layers)\n",
    "model_lr = Model([Affine(\"logits\", 784, 1), Sigmoid(\"sigmoid\")])"
   ]
  },
  {
   "cell_type": "code",
   "execution_count": 20,
   "id": "6eede77a",
   "metadata": {
    "execution": {
     "iopub.execute_input": "2021-12-19T10:07:46.343772Z",
     "iopub.status.busy": "2021-12-19T10:07:46.343147Z",
     "iopub.status.idle": "2021-12-19T10:07:46.354769Z",
     "shell.execute_reply": "2021-12-19T10:07:46.354217Z"
    },
    "papermill": {
     "duration": 0.046534,
     "end_time": "2021-12-19T10:07:46.354909",
     "exception": false,
     "start_time": "2021-12-19T10:07:46.308375",
     "status": "completed"
    },
    "tags": []
   },
   "outputs": [],
   "source": [
    "nn_learner = Learner(loss, model_nn, opt, config.num_epochs)\n",
    "acc_nn = ClfCallback(nn_learner, config.bs, training_data_x , testing_data_x, training_data_y, testing_data_y)\n",
    "nn_learner.set_callbacks([acc_nn])"
   ]
  },
  {
   "cell_type": "code",
   "execution_count": 21,
   "id": "877b6cc7",
   "metadata": {
    "execution": {
     "iopub.execute_input": "2021-12-19T10:07:46.414821Z",
     "iopub.status.busy": "2021-12-19T10:07:46.414234Z",
     "iopub.status.idle": "2021-12-19T10:07:46.426980Z",
     "shell.execute_reply": "2021-12-19T10:07:46.426544Z"
    },
    "papermill": {
     "duration": 0.044396,
     "end_time": "2021-12-19T10:07:46.427106",
     "exception": false,
     "start_time": "2021-12-19T10:07:46.382710",
     "status": "completed"
    },
    "tags": []
   },
   "outputs": [],
   "source": [
    "lr_learner = Learner(loss, model_lr, opt, config.num_epochs)\n",
    "acc_lr = ClfCallback(lr_learner, config.bs, training_data_x , testing_data_x, training_data_y, testing_data_y)\n",
    "lr_learner.set_callbacks([acc_lr])"
   ]
  },
  {
   "cell_type": "code",
   "execution_count": 22,
   "id": "d9b133c3",
   "metadata": {
    "execution": {
     "iopub.execute_input": "2021-12-19T10:07:46.495370Z",
     "iopub.status.busy": "2021-12-19T10:07:46.493549Z",
     "iopub.status.idle": "2021-12-19T10:09:12.386936Z",
     "shell.execute_reply": "2021-12-19T10:09:12.387720Z"
    },
    "papermill": {
     "duration": 85.93335,
     "end_time": "2021-12-19T10:09:12.387877",
     "exception": false,
     "start_time": "2021-12-19T10:07:46.454527",
     "status": "completed"
    },
    "tags": []
   },
   "outputs": [
    {
     "name": "stdout",
     "output_type": "stream",
     "text": [
      "Epoch 0, Loss 0.2421\n",
      "Training Accuracy: 0.7005, Testing Accuracy: 0.7036\n",
      "\n"
     ]
    },
    {
     "name": "stdout",
     "output_type": "stream",
     "text": [
      "Epoch 10, Loss 0.1276\n",
      "Training Accuracy: 0.9004, Testing Accuracy: 0.9138\n",
      "\n"
     ]
    },
    {
     "name": "stdout",
     "output_type": "stream",
     "text": [
      "Epoch 20, Loss 0.0703\n",
      "Training Accuracy: 0.9307, Testing Accuracy: 0.9471\n",
      "\n"
     ]
    },
    {
     "name": "stdout",
     "output_type": "stream",
     "text": [
      "Epoch 30, Loss 0.0518\n",
      "Training Accuracy: 0.9460, Testing Accuracy: 0.9582\n",
      "\n"
     ]
    },
    {
     "name": "stdout",
     "output_type": "stream",
     "text": [
      "Epoch 40, Loss 0.0434\n",
      "Training Accuracy: 0.9522, Testing Accuracy: 0.9627\n",
      "\n"
     ]
    },
    {
     "name": "stdout",
     "output_type": "stream",
     "text": [
      "Epoch 50, Loss 0.0387\n",
      "Training Accuracy: 0.9564, Testing Accuracy: 0.9647\n",
      "\n"
     ]
    },
    {
     "name": "stdout",
     "output_type": "stream",
     "text": [
      "Epoch 60, Loss 0.0356\n",
      "Training Accuracy: 0.9589, Testing Accuracy: 0.9672\n",
      "\n"
     ]
    },
    {
     "name": "stdout",
     "output_type": "stream",
     "text": [
      "Epoch 70, Loss 0.0334\n",
      "Training Accuracy: 0.9606, Testing Accuracy: 0.9677\n",
      "\n"
     ]
    },
    {
     "name": "stdout",
     "output_type": "stream",
     "text": [
      "Epoch 80, Loss 0.0317\n",
      "Training Accuracy: 0.9624, Testing Accuracy: 0.9672\n",
      "\n"
     ]
    },
    {
     "name": "stdout",
     "output_type": "stream",
     "text": [
      "Epoch 90, Loss 0.0303\n",
      "Training Accuracy: 0.9635, Testing Accuracy: 0.9672\n",
      "\n"
     ]
    },
    {
     "name": "stdout",
     "output_type": "stream",
     "text": [
      "Epoch 100, Loss 0.0292\n",
      "Training Accuracy: 0.9645, Testing Accuracy: 0.9682\n",
      "\n"
     ]
    },
    {
     "name": "stdout",
     "output_type": "stream",
     "text": [
      "Epoch 110, Loss 0.0282\n",
      "Training Accuracy: 0.9664, Testing Accuracy: 0.9682\n",
      "\n"
     ]
    },
    {
     "name": "stdout",
     "output_type": "stream",
     "text": [
      "Epoch 120, Loss 0.0274\n",
      "Training Accuracy: 0.9670, Testing Accuracy: 0.9698\n",
      "\n"
     ]
    },
    {
     "name": "stdout",
     "output_type": "stream",
     "text": [
      "Epoch 130, Loss 0.0267\n",
      "Training Accuracy: 0.9684, Testing Accuracy: 0.9713\n",
      "\n"
     ]
    },
    {
     "name": "stdout",
     "output_type": "stream",
     "text": [
      "Epoch 140, Loss 0.026\n",
      "Training Accuracy: 0.9691, Testing Accuracy: 0.9718\n",
      "\n"
     ]
    },
    {
     "name": "stdout",
     "output_type": "stream",
     "text": [
      "Epoch 150, Loss 0.0254\n",
      "Training Accuracy: 0.9701, Testing Accuracy: 0.9723\n",
      "\n"
     ]
    },
    {
     "name": "stdout",
     "output_type": "stream",
     "text": [
      "Epoch 160, Loss 0.0248\n",
      "Training Accuracy: 0.9714, Testing Accuracy: 0.9723\n",
      "\n"
     ]
    },
    {
     "name": "stdout",
     "output_type": "stream",
     "text": [
      "Epoch 170, Loss 0.0243\n",
      "Training Accuracy: 0.9717, Testing Accuracy: 0.9723\n",
      "\n"
     ]
    },
    {
     "name": "stdout",
     "output_type": "stream",
     "text": [
      "Epoch 180, Loss 0.0238\n",
      "Training Accuracy: 0.9725, Testing Accuracy: 0.9723\n",
      "\n"
     ]
    },
    {
     "name": "stdout",
     "output_type": "stream",
     "text": [
      "Epoch 190, Loss 0.0233\n",
      "Training Accuracy: 0.9730, Testing Accuracy: 0.9733\n",
      "\n"
     ]
    },
    {
     "name": "stdout",
     "output_type": "stream",
     "text": [
      "Epoch 200, Loss 0.0229\n",
      "Training Accuracy: 0.9736, Testing Accuracy: 0.9723\n",
      "\n"
     ]
    },
    {
     "name": "stdout",
     "output_type": "stream",
     "text": [
      "Epoch 210, Loss 0.0225\n",
      "Training Accuracy: 0.9743, Testing Accuracy: 0.9718\n",
      "\n"
     ]
    },
    {
     "name": "stdout",
     "output_type": "stream",
     "text": [
      "Epoch 220, Loss 0.0221\n",
      "Training Accuracy: 0.9755, Testing Accuracy: 0.9733\n",
      "\n"
     ]
    },
    {
     "name": "stdout",
     "output_type": "stream",
     "text": [
      "Epoch 230, Loss 0.0217\n",
      "Training Accuracy: 0.9757, Testing Accuracy: 0.9728\n",
      "\n"
     ]
    },
    {
     "name": "stdout",
     "output_type": "stream",
     "text": [
      "Epoch 240, Loss 0.0213\n",
      "Training Accuracy: 0.9760, Testing Accuracy: 0.9733\n",
      "\n"
     ]
    },
    {
     "data": {
      "text/plain": [
       "0.02909406664971855"
      ]
     },
     "execution_count": 22,
     "metadata": {},
     "output_type": "execute_result"
    }
   ],
   "source": [
    "nn_learner.train_loop(dl)"
   ]
  },
  {
   "cell_type": "code",
   "execution_count": 23,
   "id": "e0163366",
   "metadata": {
    "execution": {
     "iopub.execute_input": "2021-12-19T10:09:12.470945Z",
     "iopub.status.busy": "2021-12-19T10:09:12.470324Z",
     "iopub.status.idle": "2021-12-19T10:09:27.814896Z",
     "shell.execute_reply": "2021-12-19T10:09:27.815693Z"
    },
    "papermill": {
     "duration": 15.392801,
     "end_time": "2021-12-19T10:09:27.815851",
     "exception": false,
     "start_time": "2021-12-19T10:09:12.423050",
     "status": "completed"
    },
    "tags": []
   },
   "outputs": [
    {
     "name": "stdout",
     "output_type": "stream",
     "text": [
      "Epoch 0, Loss 0.2613\n",
      "Training Accuracy: 0.5916, Testing Accuracy: 0.5907\n",
      "\n"
     ]
    },
    {
     "name": "stdout",
     "output_type": "stream",
     "text": [
      "Epoch 10, Loss 0.1083\n",
      "Training Accuracy: 0.8973, Testing Accuracy: 0.9078\n",
      "\n"
     ]
    },
    {
     "name": "stdout",
     "output_type": "stream",
     "text": [
      "Epoch 20, Loss 0.0822\n",
      "Training Accuracy: 0.9219, Testing Accuracy: 0.9299\n",
      "\n"
     ]
    },
    {
     "name": "stdout",
     "output_type": "stream",
     "text": [
      "Epoch 30, Loss 0.0704\n",
      "Training Accuracy: 0.9335, Testing Accuracy: 0.9425\n",
      "\n"
     ]
    },
    {
     "name": "stdout",
     "output_type": "stream",
     "text": [
      "Epoch 40, Loss 0.0633\n",
      "Training Accuracy: 0.9393, Testing Accuracy: 0.9496\n",
      "\n"
     ]
    },
    {
     "name": "stdout",
     "output_type": "stream",
     "text": [
      "Epoch 50, Loss 0.0585\n",
      "Training Accuracy: 0.9431, Testing Accuracy: 0.9541\n",
      "\n"
     ]
    },
    {
     "name": "stdout",
     "output_type": "stream",
     "text": [
      "Epoch 60, Loss 0.055\n",
      "Training Accuracy: 0.9464, Testing Accuracy: 0.9577\n",
      "\n"
     ]
    },
    {
     "name": "stdout",
     "output_type": "stream",
     "text": [
      "Epoch 70, Loss 0.0523\n",
      "Training Accuracy: 0.9483, Testing Accuracy: 0.9577\n",
      "\n"
     ]
    },
    {
     "name": "stdout",
     "output_type": "stream",
     "text": [
      "Epoch 80, Loss 0.0501\n",
      "Training Accuracy: 0.9494, Testing Accuracy: 0.9592\n",
      "\n"
     ]
    },
    {
     "name": "stdout",
     "output_type": "stream",
     "text": [
      "Epoch 90, Loss 0.0484\n",
      "Training Accuracy: 0.9508, Testing Accuracy: 0.9602\n",
      "\n"
     ]
    },
    {
     "name": "stdout",
     "output_type": "stream",
     "text": [
      "Epoch 100, Loss 0.0469\n",
      "Training Accuracy: 0.9515, Testing Accuracy: 0.9617\n",
      "\n"
     ]
    },
    {
     "name": "stdout",
     "output_type": "stream",
     "text": [
      "Epoch 110, Loss 0.0456\n",
      "Training Accuracy: 0.9527, Testing Accuracy: 0.9637\n",
      "\n"
     ]
    },
    {
     "name": "stdout",
     "output_type": "stream",
     "text": [
      "Epoch 120, Loss 0.0445\n",
      "Training Accuracy: 0.9532, Testing Accuracy: 0.9642\n",
      "\n"
     ]
    },
    {
     "name": "stdout",
     "output_type": "stream",
     "text": [
      "Epoch 130, Loss 0.0435\n",
      "Training Accuracy: 0.9540, Testing Accuracy: 0.9642\n",
      "\n"
     ]
    },
    {
     "name": "stdout",
     "output_type": "stream",
     "text": [
      "Epoch 140, Loss 0.0426\n",
      "Training Accuracy: 0.9547, Testing Accuracy: 0.9652\n",
      "\n"
     ]
    },
    {
     "name": "stdout",
     "output_type": "stream",
     "text": [
      "Epoch 150, Loss 0.0419\n",
      "Training Accuracy: 0.9553, Testing Accuracy: 0.9652\n",
      "\n"
     ]
    },
    {
     "name": "stdout",
     "output_type": "stream",
     "text": [
      "Epoch 160, Loss 0.0412\n",
      "Training Accuracy: 0.9559, Testing Accuracy: 0.9657\n",
      "\n"
     ]
    },
    {
     "name": "stdout",
     "output_type": "stream",
     "text": [
      "Epoch 170, Loss 0.0405\n",
      "Training Accuracy: 0.9560, Testing Accuracy: 0.9657\n",
      "\n"
     ]
    },
    {
     "name": "stdout",
     "output_type": "stream",
     "text": [
      "Epoch 180, Loss 0.0399\n",
      "Training Accuracy: 0.9567, Testing Accuracy: 0.9657\n",
      "\n"
     ]
    },
    {
     "name": "stdout",
     "output_type": "stream",
     "text": [
      "Epoch 190, Loss 0.0394\n",
      "Training Accuracy: 0.9569, Testing Accuracy: 0.9657\n",
      "\n"
     ]
    },
    {
     "name": "stdout",
     "output_type": "stream",
     "text": [
      "Epoch 200, Loss 0.0389\n",
      "Training Accuracy: 0.9578, Testing Accuracy: 0.9662\n",
      "\n"
     ]
    },
    {
     "name": "stdout",
     "output_type": "stream",
     "text": [
      "Epoch 210, Loss 0.0384\n",
      "Training Accuracy: 0.9583, Testing Accuracy: 0.9672\n",
      "\n"
     ]
    },
    {
     "name": "stdout",
     "output_type": "stream",
     "text": [
      "Epoch 220, Loss 0.038\n",
      "Training Accuracy: 0.9586, Testing Accuracy: 0.9672\n",
      "\n"
     ]
    },
    {
     "name": "stdout",
     "output_type": "stream",
     "text": [
      "Epoch 230, Loss 0.0376\n",
      "Training Accuracy: 0.9586, Testing Accuracy: 0.9672\n",
      "\n"
     ]
    },
    {
     "name": "stdout",
     "output_type": "stream",
     "text": [
      "Epoch 240, Loss 0.0372\n",
      "Training Accuracy: 0.9589, Testing Accuracy: 0.9672\n",
      "\n"
     ]
    },
    {
     "data": {
      "text/plain": [
       "0.040135961829464134"
      ]
     },
     "execution_count": 23,
     "metadata": {},
     "output_type": "execute_result"
    }
   ],
   "source": [
    "lr_learner.train_loop(dl)"
   ]
  },
  {
   "cell_type": "code",
   "execution_count": 24,
   "id": "ca410940",
   "metadata": {
    "execution": {
     "iopub.execute_input": "2021-12-19T10:09:27.908038Z",
     "iopub.status.busy": "2021-12-19T10:09:27.907458Z",
     "iopub.status.idle": "2021-12-19T10:09:28.147672Z",
     "shell.execute_reply": "2021-12-19T10:09:28.147166Z"
    },
    "papermill": {
     "duration": 0.29013,
     "end_time": "2021-12-19T10:09:28.147807",
     "exception": false,
     "start_time": "2021-12-19T10:09:27.857677",
     "status": "completed"
    },
    "tags": []
   },
   "outputs": [
    {
     "data": {
      "text/plain": [
       "<matplotlib.legend.Legend at 0x7f1c06f2ac50>"
      ]
     },
     "execution_count": 24,
     "metadata": {},
     "output_type": "execute_result"
    },
    {
     "data": {
      "image/png": "[encoded data removed]",
      "text/plain": [
       "<Figure size 1080x720 with 1 Axes>"
      ]
     },
     "metadata": {
      "needs_background": "light"
     },
     "output_type": "display_data"
    }
   ],
   "source": [
    "#comparing the results of NN and LR\n",
    "plt.figure(figsize=(15,10))\n",
    "\n",
    "# Neural Network plots\n",
    "plt.plot(acc_nn.accuracies, 'r-', label = \"Training Accuracies - NN\")\n",
    "plt.plot(acc_nn.test_accuracies, 'g-', label = \"Testing Accuracies - NN\")\n",
    "\n",
    "# Logistic Regression plots\n",
    "plt.plot(acc_lr.accuracies, 'k-', label = \"Training Accuracies - LR\")\n",
    "plt.plot(acc_lr.test_accuracies, 'b-', label = \"Testing Accuracies - LR\")\n",
    "plt.legend()"
   ]
  },
  {
   "cell_type": "markdown",
   "id": "80dfb35c",
   "metadata": {
    "papermill": {
     "duration": 0.042275,
     "end_time": "2021-12-19T10:09:28.233278",
     "exception": false,
     "start_time": "2021-12-19T10:09:28.191003",
     "status": "completed"
    },
    "tags": []
   },
   "source": [
    "#### Plotting the outputs of this layer of the NN.\n"
   ]
  },
  {
   "cell_type": "code",
   "execution_count": 25,
   "id": "45eb2ff5",
   "metadata": {
    "execution": {
     "iopub.execute_input": "2021-12-19T10:09:28.324458Z",
     "iopub.status.busy": "2021-12-19T10:09:28.323913Z",
     "iopub.status.idle": "2021-12-19T10:09:28.343734Z",
     "shell.execute_reply": "2021-12-19T10:09:28.343252Z"
    },
    "papermill": {
     "duration": 0.068411,
     "end_time": "2021-12-19T10:09:28.343858",
     "exception": false,
     "start_time": "2021-12-19T10:09:28.275447",
     "status": "completed"
    },
    "tags": []
   },
   "outputs": [],
   "source": [
    "new_model = Model(layers[:-2])\n",
    "testing_plot = new_model(testing_data_x)"
   ]
  },
  {
   "cell_type": "code",
   "execution_count": 26,
   "id": "4c0a5485",
   "metadata": {
    "execution": {
     "iopub.execute_input": "2021-12-19T10:09:28.433970Z",
     "iopub.status.busy": "2021-12-19T10:09:28.433433Z",
     "iopub.status.idle": "2021-12-19T10:09:28.635862Z",
     "shell.execute_reply": "2021-12-19T10:09:28.635386Z"
    },
    "papermill": {
     "duration": 0.249306,
     "end_time": "2021-12-19T10:09:28.635984",
     "exception": false,
     "start_time": "2021-12-19T10:09:28.386678",
     "status": "completed"
    },
    "tags": []
   },
   "outputs": [
    {
     "data": {
      "text/plain": [
       "Text(0.5, 1.0, 'Outputs')"
      ]
     },
     "execution_count": 26,
     "metadata": {},
     "output_type": "execute_result"
    },
    {
     "data": {
      "image/png": "[encoded data removed]",
      "text/plain": [
       "<Figure size 576x504 with 1 Axes>"
      ]
     },
     "metadata": {
      "needs_background": "light"
     },
     "output_type": "display_data"
    }
   ],
   "source": [
    "# Plotting the scatter plot of points and color coding by class\n",
    "plt.figure(figsize=(8,7))\n",
    "plt.scatter(testing_plot[:,0], testing_plot[:,1], alpha = 0.1, c = y_test.ravel());\n",
    "plt.title('Outputs')"
   ]
  },
  {
   "cell_type": "markdown",
   "id": "a74fcf8f",
   "metadata": {
    "papermill": {
     "duration": 0.044464,
     "end_time": "2021-12-19T10:09:28.725848",
     "exception": false,
     "start_time": "2021-12-19T10:09:28.681384",
     "status": "completed"
    },
    "tags": []
   },
   "source": [
    "Probability contours"
   ]
  },
  {
   "cell_type": "code",
   "execution_count": 27,
   "id": "d0afc8e3",
   "metadata": {
    "execution": {
     "iopub.execute_input": "2021-12-19T10:09:28.820776Z",
     "iopub.status.busy": "2021-12-19T10:09:28.820129Z",
     "iopub.status.idle": "2021-12-19T10:09:28.831821Z",
     "shell.execute_reply": "2021-12-19T10:09:28.831352Z"
    },
    "papermill": {
     "duration": 0.061186,
     "end_time": "2021-12-19T10:09:28.831946",
     "exception": false,
     "start_time": "2021-12-19T10:09:28.770760",
     "status": "completed"
    },
    "tags": []
   },
   "outputs": [],
   "source": [
    "model_prob = Model(layers[-2:]) "
   ]
  },
  {
   "cell_type": "code",
   "execution_count": 28,
   "id": "9b96e238",
   "metadata": {
    "execution": {
     "iopub.execute_input": "2021-12-19T10:09:28.960008Z",
     "iopub.status.busy": "2021-12-19T10:09:28.959406Z",
     "iopub.status.idle": "2021-12-19T10:09:28.973003Z",
     "shell.execute_reply": "2021-12-19T10:09:28.973897Z"
    },
    "papermill": {
     "duration": 0.065582,
     "end_time": "2021-12-19T10:09:28.974055",
     "exception": false,
     "start_time": "2021-12-19T10:09:28.908473",
     "status": "completed"
    },
    "tags": []
   },
   "outputs": [],
   "source": [
    "#creating the x and y ranges according to the above generated plot.\n",
    "x_range = np.linspace(-4, 1, 100) \n",
    "y_range = np.linspace(-6, 6, 100) \n",
    "x_grid, y_grid = np.meshgrid(x_range, y_range) # x_grid and y_grig are of size 100 X 100\n",
    "\n",
    "# converting x_grid and y_grid to continuous arrays\n",
    "x_gridflat = np.ravel(x_grid)\n",
    "y_gridflat = np.ravel(y_grid)\n",
    "\n",
    "# The last layer of the current model takes two columns as input. Hence transpose of np.vstack() is required.\n",
    "X = np.vstack((x_gridflat, y_gridflat)).T\n",
    "\n",
    "prob_contour = model_prob(X).reshape(100,100) "
   ]
  },
  {
   "cell_type": "code",
   "execution_count": 29,
   "id": "da72499a",
   "metadata": {
    "execution": {
     "iopub.execute_input": "2021-12-19T10:09:29.068005Z",
     "iopub.status.busy": "2021-12-19T10:09:29.067459Z",
     "iopub.status.idle": "2021-12-19T10:09:29.321461Z",
     "shell.execute_reply": "2021-12-19T10:09:29.321019Z"
    },
    "papermill": {
     "duration": 0.302399,
     "end_time": "2021-12-19T10:09:29.321583",
     "exception": false,
     "start_time": "2021-12-19T10:09:29.019184",
     "status": "completed"
    },
    "tags": []
   },
   "outputs": [
    {
     "data": {
      "image/png": "[encoded data removed]",
      "text/plain": [
       "<Figure size 720x648 with 1 Axes>"
      ]
     },
     "metadata": {
      "needs_background": "light"
     },
     "output_type": "display_data"
    }
   ],
   "source": [
    "plt.figure(figsize=(10,9))\n",
    "plt.scatter(testing_plot[:,0], testing_plot[:,1], alpha = 0.1, c = y_test.ravel())\n",
    "contours = plt.contour(x_grid,y_grid,prob_contour)\n",
    "plt.title('Probability Contours')\n",
    "plt.clabel(contours, inline = True );"
   ]
  },
  {
   "cell_type": "code",
   "execution_count": null,
   "id": "e81b4ac7",
   "metadata": {
    "papermill": {
     "duration": 0.047285,
     "end_time": "2021-12-19T10:09:29.416730",
     "exception": false,
     "start_time": "2021-12-19T10:09:29.369445",
     "status": "completed"
    },
    "tags": []
   },
   "outputs": [],
   "source": []
  }
 ],
 "metadata": {
  "kernelspec": {
   "display_name": "Python 3",
   "language": "python",
   "name": "python3"
  },
  "language_info": {
   "codemirror_mode": {
    "name": "ipython",
    "version": 3
   },
   "file_extension": ".py",
   "mimetype": "text/x-python",
   "name": "python",
   "nbconvert_exporter": "python",
   "pygments_lexer": "ipython3",
   "version": "3.6.15"
  },
  "papermill": {
   "default_parameters": {},
   "duration": 109.573912,
   "end_time": "2021-12-19T10:09:29.873615",
   "environment_variables": {},
   "exception": null,
   "input_path": "2020-08-11-part2.ipynb",
   "output_path": "2020-08-11-part2.ipynb",
   "parameters": {},
   "start_time": "2021-12-19T10:07:40.299703",
   "version": "2.3.3"
  }
 },
 "nbformat": 4,
 "nbformat_minor": 5
}