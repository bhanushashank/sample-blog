{
 "cells": [
  {
   "cell_type": "markdown",
   "id": "98380cd3",
   "metadata": {
    "papermill": {
     "duration": 0.024773,
     "end_time": "2021-12-04T00:22:59.756906",
     "exception": false,
     "start_time": "2021-12-04T00:22:59.732133",
     "status": "completed"
    },
    "tags": []
   },
   "source": [
    "# Distinguish Your Own Digits (DYOD)"
   ]
  },
  {
   "cell_type": "markdown",
   "id": "ef31240d",
   "metadata": {
    "papermill": {
     "duration": 0.021229,
     "end_time": "2021-12-04T00:22:59.800164",
     "exception": false,
     "start_time": "2021-12-04T00:22:59.778935",
     "status": "completed"
    },
    "tags": []
   },
   "source": [
    "You are going to write a classifier that distinguishes between the number 3 and number 8."
   ]
  },
  {
   "cell_type": "code",
   "execution_count": 1,
   "id": "b15c8646",
   "metadata": {
    "execution": {
     "iopub.execute_input": "2021-12-04T00:22:59.853674Z",
     "iopub.status.busy": "2021-12-04T00:22:59.853188Z",
     "iopub.status.idle": "2021-12-04T00:22:59.864029Z",
     "shell.execute_reply": "2021-12-04T00:22:59.863578Z"
    },
    "papermill": {
     "duration": 0.042859,
     "end_time": "2021-12-04T00:22:59.864161",
     "exception": false,
     "start_time": "2021-12-04T00:22:59.821302",
     "status": "completed"
    },
    "tags": []
   },
   "outputs": [],
   "source": [
    "%load_ext autoreload\n",
    "%autoreload 2"
   ]
  },
  {
   "cell_type": "code",
   "execution_count": 2,
   "id": "22ef38dc",
   "metadata": {
    "execution": {
     "iopub.execute_input": "2021-12-04T00:22:59.913020Z",
     "iopub.status.busy": "2021-12-04T00:22:59.912542Z",
     "iopub.status.idle": "2021-12-04T00:23:00.540716Z",
     "shell.execute_reply": "2021-12-04T00:23:00.540161Z"
    },
    "papermill": {
     "duration": 0.65536,
     "end_time": "2021-12-04T00:23:00.540859",
     "exception": false,
     "start_time": "2021-12-04T00:22:59.885499",
     "status": "completed"
    },
    "tags": []
   },
   "outputs": [],
   "source": [
    "%matplotlib inline\n",
    "import numpy as np\n",
    "import matplotlib.pyplot as plt\n",
    "import pandas as pd"
   ]
  },
  {
   "cell_type": "markdown",
   "id": "ba036198",
   "metadata": {
    "papermill": {
     "duration": 0.021288,
     "end_time": "2021-12-04T00:23:00.583636",
     "exception": false,
     "start_time": "2021-12-04T00:23:00.562348",
     "status": "completed"
    },
    "tags": []
   },
   "source": [
    "From the command line run `pip install mnist`. This is a library that will help you bring down the mnist dataset. If you run this from a notebook, you need to put  `!pip install mnist` in a cell by itself."
   ]
  },
  {
   "cell_type": "code",
   "execution_count": 3,
   "id": "bb6ad8a1",
   "metadata": {
    "execution": {
     "iopub.execute_input": "2021-12-04T00:23:00.632253Z",
     "iopub.status.busy": "2021-12-04T00:23:00.631706Z",
     "iopub.status.idle": "2021-12-04T00:23:03.057374Z",
     "shell.execute_reply": "2021-12-04T00:23:03.056889Z"
    },
    "papermill": {
     "duration": 2.452419,
     "end_time": "2021-12-04T00:23:03.057505",
     "exception": false,
     "start_time": "2021-12-04T00:23:00.605086",
     "status": "completed"
    },
    "tags": []
   },
   "outputs": [
    {
     "name": "stdout",
     "output_type": "stream",
     "text": [
      "Collecting mnist\r\n"
     ]
    },
    {
     "name": "stdout",
     "output_type": "stream",
     "text": [
      "  Downloading mnist-0.2.2-py2.py3-none-any.whl (3.5 kB)\r\n",
      "Requirement already satisfied: numpy in /opt/hostedtoolcache/Python/3.6.15/x64/lib/python3.6/site-packages (from mnist) (1.19.5)\r\n"
     ]
    },
    {
     "name": "stdout",
     "output_type": "stream",
     "text": [
      "Installing collected packages: mnist\r\n"
     ]
    },
    {
     "name": "stdout",
     "output_type": "stream",
     "text": [
      "Successfully installed mnist-0.2.2\r\n"
     ]
    }
   ],
   "source": [
    "!pip install mnist"
   ]
  },
  {
   "cell_type": "markdown",
   "id": "69df9c9a",
   "metadata": {
    "papermill": {
     "duration": 0.022211,
     "end_time": "2021-12-04T00:23:03.103187",
     "exception": false,
     "start_time": "2021-12-04T00:23:03.080976",
     "status": "completed"
    },
    "tags": []
   },
   "source": [
    "## Preparing the Data"
   ]
  },
  {
   "cell_type": "code",
   "execution_count": 4,
   "id": "7f69d806",
   "metadata": {
    "execution": {
     "iopub.execute_input": "2021-12-04T00:23:03.156525Z",
     "iopub.status.busy": "2021-12-04T00:23:03.156030Z",
     "iopub.status.idle": "2021-12-04T00:23:03.169018Z",
     "shell.execute_reply": "2021-12-04T00:23:03.168619Z"
    },
    "papermill": {
     "duration": 0.043723,
     "end_time": "2021-12-04T00:23:03.169134",
     "exception": false,
     "start_time": "2021-12-04T00:23:03.125411",
     "status": "completed"
    },
    "tags": []
   },
   "outputs": [],
   "source": [
    "import mnist"
   ]
  },
  {
   "cell_type": "code",
   "execution_count": 5,
   "id": "a411e44f",
   "metadata": {
    "execution": {
     "iopub.execute_input": "2021-12-04T00:23:03.217631Z",
     "iopub.status.busy": "2021-12-04T00:23:03.217157Z",
     "iopub.status.idle": "2021-12-04T00:23:03.879296Z",
     "shell.execute_reply": "2021-12-04T00:23:03.878726Z"
    },
    "papermill": {
     "duration": 0.687816,
     "end_time": "2021-12-04T00:23:03.879485",
     "exception": false,
     "start_time": "2021-12-04T00:23:03.191669",
     "status": "completed"
    },
    "tags": []
   },
   "outputs": [],
   "source": [
    "train_images = mnist.train_images()\n",
    "train_labels = mnist.train_labels()"
   ]
  },
  {
   "cell_type": "code",
   "execution_count": 6,
   "id": "dceab3a5",
   "metadata": {
    "execution": {
     "iopub.execute_input": "2021-12-04T00:23:03.934841Z",
     "iopub.status.busy": "2021-12-04T00:23:03.934331Z",
     "iopub.status.idle": "2021-12-04T00:23:03.948821Z",
     "shell.execute_reply": "2021-12-04T00:23:03.949317Z"
    },
    "papermill": {
     "duration": 0.044362,
     "end_time": "2021-12-04T00:23:03.949466",
     "exception": false,
     "start_time": "2021-12-04T00:23:03.905104",
     "status": "completed"
    },
    "tags": []
   },
   "outputs": [
    {
     "data": {
      "text/plain": [
       "((60000, 28, 28), (60000,))"
      ]
     },
     "execution_count": 6,
     "metadata": {},
     "output_type": "execute_result"
    }
   ],
   "source": [
    "train_images.shape, train_labels.shape"
   ]
  },
  {
   "cell_type": "code",
   "execution_count": 7,
   "id": "f50dc2bb",
   "metadata": {
    "execution": {
     "iopub.execute_input": "2021-12-04T00:23:04.000176Z",
     "iopub.status.busy": "2021-12-04T00:23:03.999653Z",
     "iopub.status.idle": "2021-12-04T00:23:04.189264Z",
     "shell.execute_reply": "2021-12-04T00:23:04.188673Z"
    },
    "papermill": {
     "duration": 0.216909,
     "end_time": "2021-12-04T00:23:04.189399",
     "exception": false,
     "start_time": "2021-12-04T00:23:03.972490",
     "status": "completed"
    },
    "tags": []
   },
   "outputs": [],
   "source": [
    "test_images = mnist.test_images()\n",
    "test_labels = mnist.test_labels()"
   ]
  },
  {
   "cell_type": "code",
   "execution_count": 8,
   "id": "fc38cf1b",
   "metadata": {
    "execution": {
     "iopub.execute_input": "2021-12-04T00:23:04.253607Z",
     "iopub.status.busy": "2021-12-04T00:23:04.253062Z",
     "iopub.status.idle": "2021-12-04T00:23:04.266118Z",
     "shell.execute_reply": "2021-12-04T00:23:04.265611Z"
    },
    "papermill": {
     "duration": 0.046916,
     "end_time": "2021-12-04T00:23:04.266246",
     "exception": false,
     "start_time": "2021-12-04T00:23:04.219330",
     "status": "completed"
    },
    "tags": []
   },
   "outputs": [
    {
     "data": {
      "text/plain": [
       "((10000, 28, 28), (10000,))"
      ]
     },
     "execution_count": 8,
     "metadata": {},
     "output_type": "execute_result"
    }
   ],
   "source": [
    "test_images.shape, test_labels.shape"
   ]
  },
  {
   "cell_type": "code",
   "execution_count": 9,
   "id": "f9ed8fe0",
   "metadata": {
    "execution": {
     "iopub.execute_input": "2021-12-04T00:23:04.316418Z",
     "iopub.status.busy": "2021-12-04T00:23:04.315916Z",
     "iopub.status.idle": "2021-12-04T00:23:04.448199Z",
     "shell.execute_reply": "2021-12-04T00:23:04.447651Z"
    },
    "papermill": {
     "duration": 0.159181,
     "end_time": "2021-12-04T00:23:04.448339",
     "exception": false,
     "start_time": "2021-12-04T00:23:04.289158",
     "status": "completed"
    },
    "tags": []
   },
   "outputs": [
    {
     "name": "stdout",
     "output_type": "stream",
     "text": [
      "2\n"
     ]
    },
    {
     "data": {
      "text/plain": [
       "<matplotlib.image.AxesImage at 0x7fd93d2e44a8>"
      ]
     },
     "execution_count": 9,
     "metadata": {},
     "output_type": "execute_result"
    },
    {
     "data": {
      "image/png": "[encoded data removed]",
      "text/plain": [
       "<Figure size 432x288 with 1 Axes>"
      ]
     },
     "metadata": {
      "needs_background": "light"
     },
     "output_type": "display_data"
    }
   ],
   "source": [
    "image_index = 7776 # You may select anything up to 60,000\n",
    "print(train_labels[image_index]) \n",
    "plt.imshow(train_images[image_index], cmap='Greys')"
   ]
  },
  {
   "cell_type": "markdown",
   "id": "a8d2388d",
   "metadata": {
    "papermill": {
     "duration": 0.024275,
     "end_time": "2021-12-04T00:23:04.497236",
     "exception": false,
     "start_time": "2021-12-04T00:23:04.472961",
     "status": "completed"
    },
    "tags": []
   },
   "source": [
    "## Filter data to get 3 and 8 out"
   ]
  },
  {
   "cell_type": "code",
   "execution_count": 10,
   "id": "776f7fc7",
   "metadata": {
    "execution": {
     "iopub.execute_input": "2021-12-04T00:23:04.558094Z",
     "iopub.status.busy": "2021-12-04T00:23:04.557573Z",
     "iopub.status.idle": "2021-12-04T00:23:04.572242Z",
     "shell.execute_reply": "2021-12-04T00:23:04.571786Z"
    },
    "papermill": {
     "duration": 0.051555,
     "end_time": "2021-12-04T00:23:04.572357",
     "exception": false,
     "start_time": "2021-12-04T00:23:04.520802",
     "status": "completed"
    },
    "tags": []
   },
   "outputs": [],
   "source": [
    "train_filter = np.where((train_labels == 3 ) | (train_labels == 8))\n",
    "test_filter = np.where((test_labels == 3) | (test_labels == 8))\n",
    "X_train, y_train = train_images[train_filter], train_labels[train_filter]\n",
    "X_test, y_test = test_images[test_filter], test_labels[test_filter]"
   ]
  },
  {
   "cell_type": "markdown",
   "id": "948f0b7e",
   "metadata": {
    "papermill": {
     "duration": 0.023873,
     "end_time": "2021-12-04T00:23:04.620250",
     "exception": false,
     "start_time": "2021-12-04T00:23:04.596377",
     "status": "completed"
    },
    "tags": []
   },
   "source": [
    "We normalize the pizel values in the 0 to 1 range"
   ]
  },
  {
   "cell_type": "code",
   "execution_count": 11,
   "id": "ee4c2166",
   "metadata": {
    "execution": {
     "iopub.execute_input": "2021-12-04T00:23:04.680683Z",
     "iopub.status.busy": "2021-12-04T00:23:04.677148Z",
     "iopub.status.idle": "2021-12-04T00:23:04.720469Z",
     "shell.execute_reply": "2021-12-04T00:23:04.719930Z"
    },
    "papermill": {
     "duration": 0.076613,
     "end_time": "2021-12-04T00:23:04.720612",
     "exception": false,
     "start_time": "2021-12-04T00:23:04.643999",
     "status": "completed"
    },
    "tags": []
   },
   "outputs": [],
   "source": [
    "X_train = X_train/255.\n",
    "X_test = X_test/255."
   ]
  },
  {
   "cell_type": "markdown",
   "id": "ddcf4fab",
   "metadata": {
    "papermill": {
     "duration": 0.023833,
     "end_time": "2021-12-04T00:23:04.769550",
     "exception": false,
     "start_time": "2021-12-04T00:23:04.745717",
     "status": "completed"
    },
    "tags": []
   },
   "source": [
    "And setup the labels as 1 (when the digit is 3) and 0 (when the digit is 8)"
   ]
  },
  {
   "cell_type": "code",
   "execution_count": 12,
   "id": "7dc908f2",
   "metadata": {
    "execution": {
     "iopub.execute_input": "2021-12-04T00:23:04.820939Z",
     "iopub.status.busy": "2021-12-04T00:23:04.820468Z",
     "iopub.status.idle": "2021-12-04T00:23:04.833473Z",
     "shell.execute_reply": "2021-12-04T00:23:04.833091Z"
    },
    "papermill": {
     "duration": 0.040284,
     "end_time": "2021-12-04T00:23:04.833581",
     "exception": false,
     "start_time": "2021-12-04T00:23:04.793297",
     "status": "completed"
    },
    "tags": []
   },
   "outputs": [],
   "source": [
    "y_train = 1*(y_train==3)\n",
    "y_test = 1*(y_test==3)"
   ]
  },
  {
   "cell_type": "code",
   "execution_count": 13,
   "id": "01e4e969",
   "metadata": {
    "execution": {
     "iopub.execute_input": "2021-12-04T00:23:04.886129Z",
     "iopub.status.busy": "2021-12-04T00:23:04.885671Z",
     "iopub.status.idle": "2021-12-04T00:23:04.898016Z",
     "shell.execute_reply": "2021-12-04T00:23:04.897624Z"
    },
    "papermill": {
     "duration": 0.040672,
     "end_time": "2021-12-04T00:23:04.898117",
     "exception": false,
     "start_time": "2021-12-04T00:23:04.857445",
     "status": "completed"
    },
    "tags": []
   },
   "outputs": [
    {
     "data": {
      "text/plain": [
       "((11982, 28, 28), (1984, 28, 28))"
      ]
     },
     "execution_count": 13,
     "metadata": {},
     "output_type": "execute_result"
    }
   ],
   "source": [
    "X_train.shape, X_test.shape"
   ]
  },
  {
   "cell_type": "markdown",
   "id": "5ccf3f85",
   "metadata": {
    "papermill": {
     "duration": 0.024316,
     "end_time": "2021-12-04T00:23:04.946340",
     "exception": false,
     "start_time": "2021-12-04T00:23:04.922024",
     "status": "completed"
    },
    "tags": []
   },
   "source": [
    "We reshape the data to flatten the image pixels into a set of features or co-variates:"
   ]
  },
  {
   "cell_type": "code",
   "execution_count": 14,
   "id": "5286a4a3",
   "metadata": {
    "execution": {
     "iopub.execute_input": "2021-12-04T00:23:05.001108Z",
     "iopub.status.busy": "2021-12-04T00:23:05.000558Z",
     "iopub.status.idle": "2021-12-04T00:23:05.012524Z",
     "shell.execute_reply": "2021-12-04T00:23:05.012075Z"
    },
    "papermill": {
     "duration": 0.042337,
     "end_time": "2021-12-04T00:23:05.012641",
     "exception": false,
     "start_time": "2021-12-04T00:23:04.970304",
     "status": "completed"
    },
    "tags": []
   },
   "outputs": [
    {
     "data": {
      "text/plain": [
       "((11982, 784), (1984, 784))"
      ]
     },
     "execution_count": 14,
     "metadata": {},
     "output_type": "execute_result"
    }
   ],
   "source": [
    "X_train = X_train.reshape(X_train.shape[0], -1)\n",
    "X_test = X_test.reshape(X_test.shape[0], -1)\n",
    "X_train.shape, X_test.shape"
   ]
  },
  {
   "cell_type": "code",
   "execution_count": 15,
   "id": "73c5f88a",
   "metadata": {
    "execution": {
     "iopub.execute_input": "2021-12-04T00:23:05.072682Z",
     "iopub.status.busy": "2021-12-04T00:23:05.072130Z",
     "iopub.status.idle": "2021-12-04T00:23:05.089148Z",
     "shell.execute_reply": "2021-12-04T00:23:05.088713Z"
    },
    "papermill": {
     "duration": 0.049248,
     "end_time": "2021-12-04T00:23:05.089268",
     "exception": false,
     "start_time": "2021-12-04T00:23:05.040020",
     "status": "completed"
    },
    "tags": []
   },
   "outputs": [],
   "source": [
    "#Impoting functions from 'Kudzu'\n",
    "from kudzu.model import Model\n",
    "from kudzu.train import Learner\n",
    "from kudzu.optim import GD\n",
    "from kudzu.data import Data, Sampler,Dataloader\n",
    "\n",
    "from kudzu.callbacks import AccCallback\n",
    "from kudzu.callbacks import ClfCallback\n",
    "\n",
    "from kudzu.loss import MSE\n",
    "\n",
    "from kudzu.layer import Sigmoid,Relu\n",
    "from kudzu.layer import Affine"
   ]
  },
  {
   "cell_type": "markdown",
   "id": "bc01172a",
   "metadata": {
    "papermill": {
     "duration": 0.027253,
     "end_time": "2021-12-04T00:23:05.144073",
     "exception": false,
     "start_time": "2021-12-04T00:23:05.116820",
     "status": "completed"
    },
    "tags": []
   },
   "source": [
    "### Let us create a `Config` class, to store important parameters. \n",
    "This class essentially plays the role of a dictionary."
   ]
  },
  {
   "cell_type": "code",
   "execution_count": 16,
   "id": "978281aa",
   "metadata": {
    "execution": {
     "iopub.execute_input": "2021-12-04T00:23:05.203498Z",
     "iopub.status.busy": "2021-12-04T00:23:05.202976Z",
     "iopub.status.idle": "2021-12-04T00:23:05.214936Z",
     "shell.execute_reply": "2021-12-04T00:23:05.214483Z"
    },
    "papermill": {
     "duration": 0.043821,
     "end_time": "2021-12-04T00:23:05.215053",
     "exception": false,
     "start_time": "2021-12-04T00:23:05.171232",
     "status": "completed"
    },
    "tags": []
   },
   "outputs": [],
   "source": [
    "class Config:\n",
    "    pass\n",
    "config = Config()\n",
    "config.lr = 0.001\n",
    "config.num_epochs = 250\n",
    "config.bs = 50"
   ]
  },
  {
   "cell_type": "markdown",
   "id": "1385fa59",
   "metadata": {
    "papermill": {
     "duration": 0.027407,
     "end_time": "2021-12-04T00:23:05.269965",
     "exception": false,
     "start_time": "2021-12-04T00:23:05.242558",
     "status": "completed"
    },
    "tags": []
   },
   "source": [
    "### Running Models with the Training data\n",
    "Details about the network layers:\n",
    "- A first affine layer has 784 inputs and does 100 affine transforms. These are followed by a Relu\n",
    "- A second affine layer has 100 inputs from the 100 activations of the past layer, and does 100 affine transforms. These are followed by a Relu\n",
    "- A third affine layer has 100 activations and does 2 affine transformations to create an embedding for visualization. There is no non-linearity here.\n",
    "- A final \"logistic regression\" which has an affine transform from 2 inputs to 1 output, which is squeezed through a sigmoid.\n"
   ]
  },
  {
   "cell_type": "code",
   "execution_count": 17,
   "id": "2b9c66db",
   "metadata": {
    "execution": {
     "iopub.execute_input": "2021-12-04T00:23:05.329335Z",
     "iopub.status.busy": "2021-12-04T00:23:05.328801Z",
     "iopub.status.idle": "2021-12-04T00:23:05.340290Z",
     "shell.execute_reply": "2021-12-04T00:23:05.340675Z"
    },
    "papermill": {
     "duration": 0.043611,
     "end_time": "2021-12-04T00:23:05.340810",
     "exception": false,
     "start_time": "2021-12-04T00:23:05.297199",
     "status": "completed"
    },
    "tags": []
   },
   "outputs": [],
   "source": [
    "data = Data(X_train, y_train.reshape(-1,1))\n",
    "sampler = Sampler(data, config.bs, shuffle=True)\n",
    "\n",
    "dl = Dataloader(data, sampler)\n",
    "\n",
    "opt = GD(config.lr)\n",
    "loss = MSE()"
   ]
  },
  {
   "cell_type": "code",
   "execution_count": 18,
   "id": "b275e4c2",
   "metadata": {
    "execution": {
     "iopub.execute_input": "2021-12-04T00:23:05.394054Z",
     "iopub.status.busy": "2021-12-04T00:23:05.393581Z",
     "iopub.status.idle": "2021-12-04T00:23:05.405666Z",
     "shell.execute_reply": "2021-12-04T00:23:05.405257Z"
    },
    "papermill": {
     "duration": 0.040548,
     "end_time": "2021-12-04T00:23:05.405773",
     "exception": false,
     "start_time": "2021-12-04T00:23:05.365225",
     "status": "completed"
    },
    "tags": []
   },
   "outputs": [],
   "source": [
    "training_data_x = X_train\n",
    "testing_data_x = X_test\n",
    "training_data_y = y_train.reshape(-1,1)\n",
    "testing_data_y = y_test.reshape(-1,1)"
   ]
  },
  {
   "cell_type": "code",
   "execution_count": 19,
   "id": "76951160",
   "metadata": {
    "execution": {
     "iopub.execute_input": "2021-12-04T00:23:05.458592Z",
     "iopub.status.busy": "2021-12-04T00:23:05.458112Z",
     "iopub.status.idle": "2021-12-04T00:23:05.473285Z",
     "shell.execute_reply": "2021-12-04T00:23:05.472832Z"
    },
    "papermill": {
     "duration": 0.043457,
     "end_time": "2021-12-04T00:23:05.473405",
     "exception": false,
     "start_time": "2021-12-04T00:23:05.429948",
     "status": "completed"
    },
    "tags": []
   },
   "outputs": [
    {
     "name": "stdout",
     "output_type": "stream",
     "text": [
      "xavier\n",
      "xavier\n",
      "xavier\n",
      "xavier\n",
      "xavier\n"
     ]
    }
   ],
   "source": [
    "layers = [Affine(\"first\", 784, 100), Relu(\"first\"), Affine(\"second\", 100, 100), Relu(\"second\"), Affine(\"third\", 100, 2), Affine(\"last\", 2, 1), Sigmoid(\"last\")]\n",
    "model_nn = Model(layers)\n",
    "model_lr = Model([Affine(\"logits\", 784, 1), Sigmoid(\"sigmoid\")])"
   ]
  },
  {
   "cell_type": "code",
   "execution_count": 20,
   "id": "6eede77a",
   "metadata": {
    "execution": {
     "iopub.execute_input": "2021-12-04T00:23:05.533143Z",
     "iopub.status.busy": "2021-12-04T00:23:05.532624Z",
     "iopub.status.idle": "2021-12-04T00:23:05.544132Z",
     "shell.execute_reply": "2021-12-04T00:23:05.543643Z"
    },
    "papermill": {
     "duration": 0.043098,
     "end_time": "2021-12-04T00:23:05.544248",
     "exception": false,
     "start_time": "2021-12-04T00:23:05.501150",
     "status": "completed"
    },
    "tags": []
   },
   "outputs": [],
   "source": [
    "nn_learner = Learner(loss, model_nn, opt, config.num_epochs)\n",
    "acc_nn = ClfCallback(nn_learner, config.bs, training_data_x , testing_data_x, training_data_y, testing_data_y)\n",
    "nn_learner.set_callbacks([acc_nn])"
   ]
  },
  {
   "cell_type": "code",
   "execution_count": 21,
   "id": "877b6cc7",
   "metadata": {
    "execution": {
     "iopub.execute_input": "2021-12-04T00:23:05.612984Z",
     "iopub.status.busy": "2021-12-04T00:23:05.612445Z",
     "iopub.status.idle": "2021-12-04T00:23:05.622026Z",
     "shell.execute_reply": "2021-12-04T00:23:05.621579Z"
    },
    "papermill": {
     "duration": 0.050267,
     "end_time": "2021-12-04T00:23:05.622147",
     "exception": false,
     "start_time": "2021-12-04T00:23:05.571880",
     "status": "completed"
    },
    "tags": []
   },
   "outputs": [],
   "source": [
    "lr_learner = Learner(loss, model_lr, opt, config.num_epochs)\n",
    "acc_lr = ClfCallback(lr_learner, config.bs, training_data_x , testing_data_x, training_data_y, testing_data_y)\n",
    "lr_learner.set_callbacks([acc_lr])"
   ]
  },
  {
   "cell_type": "code",
   "execution_count": 22,
   "id": "d9b133c3",
   "metadata": {
    "execution": {
     "iopub.execute_input": "2021-12-04T00:23:05.685870Z",
     "iopub.status.busy": "2021-12-04T00:23:05.685347Z",
     "iopub.status.idle": "2021-12-04T00:24:29.633260Z",
     "shell.execute_reply": "2021-12-04T00:24:29.634060Z"
    },
    "papermill": {
     "duration": 83.984201,
     "end_time": "2021-12-04T00:24:29.634212",
     "exception": false,
     "start_time": "2021-12-04T00:23:05.650011",
     "status": "completed"
    },
    "tags": []
   },
   "outputs": [
    {
     "name": "stdout",
     "output_type": "stream",
     "text": [
      "Epoch 0, Loss 0.2415\n",
      "Training Accuracy: 0.5953, Testing Accuracy: 0.6104\n",
      "\n"
     ]
    },
    {
     "name": "stdout",
     "output_type": "stream",
     "text": [
      "Epoch 10, Loss 0.1291\n",
      "Training Accuracy: 0.8844, Testing Accuracy: 0.8987\n",
      "\n"
     ]
    },
    {
     "name": "stdout",
     "output_type": "stream",
     "text": [
      "Epoch 20, Loss 0.0727\n",
      "Training Accuracy: 0.9226, Testing Accuracy: 0.9355\n",
      "\n"
     ]
    },
    {
     "name": "stdout",
     "output_type": "stream",
     "text": [
      "Epoch 30, Loss 0.053\n",
      "Training Accuracy: 0.9426, Testing Accuracy: 0.9551\n",
      "\n"
     ]
    },
    {
     "name": "stdout",
     "output_type": "stream",
     "text": [
      "Epoch 40, Loss 0.0437\n",
      "Training Accuracy: 0.9514, Testing Accuracy: 0.9617\n",
      "\n"
     ]
    },
    {
     "name": "stdout",
     "output_type": "stream",
     "text": [
      "Epoch 50, Loss 0.0385\n",
      "Training Accuracy: 0.9564, Testing Accuracy: 0.9632\n",
      "\n"
     ]
    },
    {
     "name": "stdout",
     "output_type": "stream",
     "text": [
      "Epoch 60, Loss 0.0352\n",
      "Training Accuracy: 0.9592, Testing Accuracy: 0.9662\n",
      "\n"
     ]
    },
    {
     "name": "stdout",
     "output_type": "stream",
     "text": [
      "Epoch 70, Loss 0.0329\n",
      "Training Accuracy: 0.9627, Testing Accuracy: 0.9693\n",
      "\n"
     ]
    },
    {
     "name": "stdout",
     "output_type": "stream",
     "text": [
      "Epoch 80, Loss 0.0312\n",
      "Training Accuracy: 0.9643, Testing Accuracy: 0.9698\n",
      "\n"
     ]
    },
    {
     "name": "stdout",
     "output_type": "stream",
     "text": [
      "Epoch 90, Loss 0.0298\n",
      "Training Accuracy: 0.9651, Testing Accuracy: 0.9703\n",
      "\n"
     ]
    },
    {
     "name": "stdout",
     "output_type": "stream",
     "text": [
      "Epoch 100, Loss 0.0286\n",
      "Training Accuracy: 0.9660, Testing Accuracy: 0.9698\n",
      "\n"
     ]
    },
    {
     "name": "stdout",
     "output_type": "stream",
     "text": [
      "Epoch 110, Loss 0.0277\n",
      "Training Accuracy: 0.9675, Testing Accuracy: 0.9708\n",
      "\n"
     ]
    },
    {
     "name": "stdout",
     "output_type": "stream",
     "text": [
      "Epoch 120, Loss 0.0268\n",
      "Training Accuracy: 0.9684, Testing Accuracy: 0.9703\n",
      "\n"
     ]
    },
    {
     "name": "stdout",
     "output_type": "stream",
     "text": [
      "Epoch 130, Loss 0.0261\n",
      "Training Accuracy: 0.9693, Testing Accuracy: 0.9713\n",
      "\n"
     ]
    },
    {
     "name": "stdout",
     "output_type": "stream",
     "text": [
      "Epoch 140, Loss 0.0254\n",
      "Training Accuracy: 0.9706, Testing Accuracy: 0.9713\n",
      "\n"
     ]
    },
    {
     "name": "stdout",
     "output_type": "stream",
     "text": [
      "Epoch 150, Loss 0.0249\n",
      "Training Accuracy: 0.9714, Testing Accuracy: 0.9713\n",
      "\n"
     ]
    },
    {
     "name": "stdout",
     "output_type": "stream",
     "text": [
      "Epoch 160, Loss 0.0243\n",
      "Training Accuracy: 0.9720, Testing Accuracy: 0.9713\n",
      "\n"
     ]
    },
    {
     "name": "stdout",
     "output_type": "stream",
     "text": [
      "Epoch 170, Loss 0.0238\n",
      "Training Accuracy: 0.9727, Testing Accuracy: 0.9723\n",
      "\n"
     ]
    },
    {
     "name": "stdout",
     "output_type": "stream",
     "text": [
      "Epoch 180, Loss 0.0233\n",
      "Training Accuracy: 0.9732, Testing Accuracy: 0.9723\n",
      "\n"
     ]
    },
    {
     "name": "stdout",
     "output_type": "stream",
     "text": [
      "Epoch 190, Loss 0.0229\n",
      "Training Accuracy: 0.9739, Testing Accuracy: 0.9718\n",
      "\n"
     ]
    },
    {
     "name": "stdout",
     "output_type": "stream",
     "text": [
      "Epoch 200, Loss 0.0225\n",
      "Training Accuracy: 0.9746, Testing Accuracy: 0.9718\n",
      "\n"
     ]
    },
    {
     "name": "stdout",
     "output_type": "stream",
     "text": [
      "Epoch 210, Loss 0.0221\n",
      "Training Accuracy: 0.9752, Testing Accuracy: 0.9723\n",
      "\n"
     ]
    },
    {
     "name": "stdout",
     "output_type": "stream",
     "text": [
      "Epoch 220, Loss 0.0217\n",
      "Training Accuracy: 0.9759, Testing Accuracy: 0.9718\n",
      "\n"
     ]
    },
    {
     "name": "stdout",
     "output_type": "stream",
     "text": [
      "Epoch 230, Loss 0.0214\n",
      "Training Accuracy: 0.9763, Testing Accuracy: 0.9718\n",
      "\n"
     ]
    },
    {
     "name": "stdout",
     "output_type": "stream",
     "text": [
      "Epoch 240, Loss 0.021\n",
      "Training Accuracy: 0.9765, Testing Accuracy: 0.9723\n",
      "\n"
     ]
    },
    {
     "data": {
      "text/plain": [
       "0.014566658831632415"
      ]
     },
     "execution_count": 22,
     "metadata": {},
     "output_type": "execute_result"
    }
   ],
   "source": [
    "nn_learner.train_loop(dl)"
   ]
  },
  {
   "cell_type": "code",
   "execution_count": 23,
   "id": "e0163366",
   "metadata": {
    "execution": {
     "iopub.execute_input": "2021-12-04T00:24:29.717171Z",
     "iopub.status.busy": "2021-12-04T00:24:29.716616Z",
     "iopub.status.idle": "2021-12-04T00:24:44.726590Z",
     "shell.execute_reply": "2021-12-04T00:24:44.727328Z"
    },
    "papermill": {
     "duration": 15.0582,
     "end_time": "2021-12-04T00:24:44.727485",
     "exception": false,
     "start_time": "2021-12-04T00:24:29.669285",
     "status": "completed"
    },
    "tags": []
   },
   "outputs": [
    {
     "name": "stdout",
     "output_type": "stream",
     "text": [
      "Epoch 0, Loss 0.1986\n",
      "Training Accuracy: 0.8110, Testing Accuracy: 0.8155\n",
      "\n"
     ]
    },
    {
     "name": "stdout",
     "output_type": "stream",
     "text": [
      "Epoch 10, Loss 0.0995\n",
      "Training Accuracy: 0.9120, Testing Accuracy: 0.9254\n",
      "\n"
     ]
    },
    {
     "name": "stdout",
     "output_type": "stream",
     "text": [
      "Epoch 20, Loss 0.0783\n",
      "Training Accuracy: 0.9274, Testing Accuracy: 0.9430\n",
      "\n"
     ]
    },
    {
     "name": "stdout",
     "output_type": "stream",
     "text": [
      "Epoch 30, Loss 0.068\n",
      "Training Accuracy: 0.9359, Testing Accuracy: 0.9491\n",
      "\n"
     ]
    },
    {
     "name": "stdout",
     "output_type": "stream",
     "text": [
      "Epoch 40, Loss 0.0616\n",
      "Training Accuracy: 0.9406, Testing Accuracy: 0.9516\n",
      "\n"
     ]
    },
    {
     "name": "stdout",
     "output_type": "stream",
     "text": [
      "Epoch 50, Loss 0.0572\n",
      "Training Accuracy: 0.9432, Testing Accuracy: 0.9541\n",
      "\n"
     ]
    },
    {
     "name": "stdout",
     "output_type": "stream",
     "text": [
      "Epoch 60, Loss 0.054\n",
      "Training Accuracy: 0.9463, Testing Accuracy: 0.9572\n",
      "\n"
     ]
    },
    {
     "name": "stdout",
     "output_type": "stream",
     "text": [
      "Epoch 70, Loss 0.0514\n",
      "Training Accuracy: 0.9488, Testing Accuracy: 0.9592\n",
      "\n"
     ]
    },
    {
     "name": "stdout",
     "output_type": "stream",
     "text": [
      "Epoch 80, Loss 0.0494\n",
      "Training Accuracy: 0.9504, Testing Accuracy: 0.9622\n",
      "\n"
     ]
    },
    {
     "name": "stdout",
     "output_type": "stream",
     "text": [
      "Epoch 90, Loss 0.0477\n",
      "Training Accuracy: 0.9519, Testing Accuracy: 0.9632\n",
      "\n"
     ]
    },
    {
     "name": "stdout",
     "output_type": "stream",
     "text": [
      "Epoch 100, Loss 0.0463\n",
      "Training Accuracy: 0.9528, Testing Accuracy: 0.9637\n",
      "\n"
     ]
    },
    {
     "name": "stdout",
     "output_type": "stream",
     "text": [
      "Epoch 110, Loss 0.0451\n",
      "Training Accuracy: 0.9538, Testing Accuracy: 0.9637\n",
      "\n"
     ]
    },
    {
     "name": "stdout",
     "output_type": "stream",
     "text": [
      "Epoch 120, Loss 0.044\n",
      "Training Accuracy: 0.9546, Testing Accuracy: 0.9652\n",
      "\n"
     ]
    },
    {
     "name": "stdout",
     "output_type": "stream",
     "text": [
      "Epoch 130, Loss 0.0431\n",
      "Training Accuracy: 0.9563, Testing Accuracy: 0.9652\n",
      "\n"
     ]
    },
    {
     "name": "stdout",
     "output_type": "stream",
     "text": [
      "Epoch 140, Loss 0.0422\n",
      "Training Accuracy: 0.9566, Testing Accuracy: 0.9657\n",
      "\n"
     ]
    },
    {
     "name": "stdout",
     "output_type": "stream",
     "text": [
      "Epoch 150, Loss 0.0415\n",
      "Training Accuracy: 0.9574, Testing Accuracy: 0.9657\n",
      "\n"
     ]
    },
    {
     "name": "stdout",
     "output_type": "stream",
     "text": [
      "Epoch 160, Loss 0.0408\n",
      "Training Accuracy: 0.9579, Testing Accuracy: 0.9662\n",
      "\n"
     ]
    },
    {
     "name": "stdout",
     "output_type": "stream",
     "text": [
      "Epoch 170, Loss 0.0402\n",
      "Training Accuracy: 0.9579, Testing Accuracy: 0.9662\n",
      "\n"
     ]
    },
    {
     "name": "stdout",
     "output_type": "stream",
     "text": [
      "Epoch 180, Loss 0.0396\n",
      "Training Accuracy: 0.9588, Testing Accuracy: 0.9667\n",
      "\n"
     ]
    },
    {
     "name": "stdout",
     "output_type": "stream",
     "text": [
      "Epoch 190, Loss 0.0391\n",
      "Training Accuracy: 0.9589, Testing Accuracy: 0.9672\n",
      "\n"
     ]
    },
    {
     "name": "stdout",
     "output_type": "stream",
     "text": [
      "Epoch 200, Loss 0.0386\n",
      "Training Accuracy: 0.9594, Testing Accuracy: 0.9677\n",
      "\n"
     ]
    },
    {
     "name": "stdout",
     "output_type": "stream",
     "text": [
      "Epoch 210, Loss 0.0382\n",
      "Training Accuracy: 0.9599, Testing Accuracy: 0.9682\n",
      "\n"
     ]
    },
    {
     "name": "stdout",
     "output_type": "stream",
     "text": [
      "Epoch 220, Loss 0.0377\n",
      "Training Accuracy: 0.9604, Testing Accuracy: 0.9682\n",
      "\n"
     ]
    },
    {
     "name": "stdout",
     "output_type": "stream",
     "text": [
      "Epoch 230, Loss 0.0374\n",
      "Training Accuracy: 0.9608, Testing Accuracy: 0.9677\n",
      "\n"
     ]
    },
    {
     "name": "stdout",
     "output_type": "stream",
     "text": [
      "Epoch 240, Loss 0.037\n",
      "Training Accuracy: 0.9611, Testing Accuracy: 0.9677\n",
      "\n"
     ]
    },
    {
     "data": {
      "text/plain": [
       "0.05011851162543135"
      ]
     },
     "execution_count": 23,
     "metadata": {},
     "output_type": "execute_result"
    }
   ],
   "source": [
    "lr_learner.train_loop(dl)"
   ]
  },
  {
   "cell_type": "code",
   "execution_count": 24,
   "id": "ca410940",
   "metadata": {
    "execution": {
     "iopub.execute_input": "2021-12-04T00:24:44.825320Z",
     "iopub.status.busy": "2021-12-04T00:24:44.824775Z",
     "iopub.status.idle": "2021-12-04T00:24:45.057222Z",
     "shell.execute_reply": "2021-12-04T00:24:45.056812Z"
    },
    "papermill": {
     "duration": 0.288367,
     "end_time": "2021-12-04T00:24:45.057337",
     "exception": false,
     "start_time": "2021-12-04T00:24:44.768970",
     "status": "completed"
    },
    "tags": []
   },
   "outputs": [
    {
     "data": {
      "text/plain": [
       "<matplotlib.legend.Legend at 0x7fd93cec0be0>"
      ]
     },
     "execution_count": 24,
     "metadata": {},
     "output_type": "execute_result"
    },
    {
     "data": {
      "image/png": "[encoded data removed]",
      "text/plain": [
       "<Figure size 1080x720 with 1 Axes>"
      ]
     },
     "metadata": {
      "needs_background": "light"
     },
     "output_type": "display_data"
    }
   ],
   "source": [
    "#comparing the results of NN and LR\n",
    "plt.figure(figsize=(15,10))\n",
    "\n",
    "# Neural Network plots\n",
    "plt.plot(acc_nn.accuracies, 'r-', label = \"Training Accuracies - NN\")\n",
    "plt.plot(acc_nn.test_accuracies, 'g-', label = \"Testing Accuracies - NN\")\n",
    "\n",
    "# Logistic Regression plots\n",
    "plt.plot(acc_lr.accuracies, 'k-', label = \"Training Accuracies - LR\")\n",
    "plt.plot(acc_lr.test_accuracies, 'b-', label = \"Testing Accuracies - LR\")\n",
    "plt.legend()"
   ]
  },
  {
   "cell_type": "markdown",
   "id": "80dfb35c",
   "metadata": {
    "papermill": {
     "duration": 0.038653,
     "end_time": "2021-12-04T00:24:45.133850",
     "exception": false,
     "start_time": "2021-12-04T00:24:45.095197",
     "status": "completed"
    },
    "tags": []
   },
   "source": [
    "#### Plotting the outputs of this layer of the NN.\n"
   ]
  },
  {
   "cell_type": "code",
   "execution_count": 25,
   "id": "45eb2ff5",
   "metadata": {
    "execution": {
     "iopub.execute_input": "2021-12-04T00:24:45.216451Z",
     "iopub.status.busy": "2021-12-04T00:24:45.215337Z",
     "iopub.status.idle": "2021-12-04T00:24:45.235047Z",
     "shell.execute_reply": "2021-12-04T00:24:45.235435Z"
    },
    "papermill": {
     "duration": 0.064212,
     "end_time": "2021-12-04T00:24:45.235578",
     "exception": false,
     "start_time": "2021-12-04T00:24:45.171366",
     "status": "completed"
    },
    "tags": []
   },
   "outputs": [],
   "source": [
    "new_model = Model(layers[:-2])\n",
    "testing_plot = new_model(testing_data_x)"
   ]
  },
  {
   "cell_type": "code",
   "execution_count": 26,
   "id": "4c0a5485",
   "metadata": {
    "execution": {
     "iopub.execute_input": "2021-12-04T00:24:45.315906Z",
     "iopub.status.busy": "2021-12-04T00:24:45.315375Z",
     "iopub.status.idle": "2021-12-04T00:24:45.506305Z",
     "shell.execute_reply": "2021-12-04T00:24:45.505873Z"
    },
    "papermill": {
     "duration": 0.232437,
     "end_time": "2021-12-04T00:24:45.506421",
     "exception": false,
     "start_time": "2021-12-04T00:24:45.273984",
     "status": "completed"
    },
    "tags": []
   },
   "outputs": [
    {
     "data": {
      "text/plain": [
       "Text(0.5, 1.0, 'Outputs')"
      ]
     },
     "execution_count": 26,
     "metadata": {},
     "output_type": "execute_result"
    },
    {
     "data": {
      "image/png": "[encoded data removed]",
      "text/plain": [
       "<Figure size 576x504 with 1 Axes>"
      ]
     },
     "metadata": {
      "needs_background": "light"
     },
     "output_type": "display_data"
    }
   ],
   "source": [
    "# Plotting the scatter plot of points and color coding by class\n",
    "plt.figure(figsize=(8,7))\n",
    "plt.scatter(testing_plot[:,0], testing_plot[:,1], alpha = 0.1, c = y_test.ravel());\n",
    "plt.title('Outputs')"
   ]
  },
  {
   "cell_type": "markdown",
   "id": "a74fcf8f",
   "metadata": {
    "papermill": {
     "duration": 0.03946,
     "end_time": "2021-12-04T00:24:45.585547",
     "exception": false,
     "start_time": "2021-12-04T00:24:45.546087",
     "status": "completed"
    },
    "tags": []
   },
   "source": [
    "Probability contours"
   ]
  },
  {
   "cell_type": "code",
   "execution_count": 27,
   "id": "d0afc8e3",
   "metadata": {
    "execution": {
     "iopub.execute_input": "2021-12-04T00:24:45.669185Z",
     "iopub.status.busy": "2021-12-04T00:24:45.668675Z",
     "iopub.status.idle": "2021-12-04T00:24:45.679828Z",
     "shell.execute_reply": "2021-12-04T00:24:45.679345Z"
    },
    "papermill": {
     "duration": 0.054703,
     "end_time": "2021-12-04T00:24:45.679945",
     "exception": false,
     "start_time": "2021-12-04T00:24:45.625242",
     "status": "completed"
    },
    "tags": []
   },
   "outputs": [],
   "source": [
    "model_prob = Model(layers[-2:]) "
   ]
  },
  {
   "cell_type": "code",
   "execution_count": 28,
   "id": "9b96e238",
   "metadata": {
    "execution": {
     "iopub.execute_input": "2021-12-04T00:24:45.800783Z",
     "iopub.status.busy": "2021-12-04T00:24:45.800288Z",
     "iopub.status.idle": "2021-12-04T00:24:45.815069Z",
     "shell.execute_reply": "2021-12-04T00:24:45.814656Z"
    },
    "papermill": {
     "duration": 0.060518,
     "end_time": "2021-12-04T00:24:45.815186",
     "exception": false,
     "start_time": "2021-12-04T00:24:45.754668",
     "status": "completed"
    },
    "tags": []
   },
   "outputs": [],
   "source": [
    "#creating the x and y ranges according to the above generated plot.\n",
    "x_range = np.linspace(-4, 1, 100) \n",
    "y_range = np.linspace(-6, 6, 100) \n",
    "x_grid, y_grid = np.meshgrid(x_range, y_range) # x_grid and y_grig are of size 100 X 100\n",
    "\n",
    "# converting x_grid and y_grid to continuous arrays\n",
    "x_gridflat = np.ravel(x_grid)\n",
    "y_gridflat = np.ravel(y_grid)\n",
    "\n",
    "# The last layer of the current model takes two columns as input. Hence transpose of np.vstack() is required.\n",
    "X = np.vstack((x_gridflat, y_gridflat)).T\n",
    "\n",
    "prob_contour = model_prob(X).reshape(100,100) "
   ]
  },
  {
   "cell_type": "code",
   "execution_count": 29,
   "id": "da72499a",
   "metadata": {
    "execution": {
     "iopub.execute_input": "2021-12-04T00:24:45.899827Z",
     "iopub.status.busy": "2021-12-04T00:24:45.899302Z",
     "iopub.status.idle": "2021-12-04T00:24:46.133273Z",
     "shell.execute_reply": "2021-12-04T00:24:46.133663Z"
    },
    "papermill": {
     "duration": 0.278539,
     "end_time": "2021-12-04T00:24:46.133802",
     "exception": false,
     "start_time": "2021-12-04T00:24:45.855263",
     "status": "completed"
    },
    "tags": []
   },
   "outputs": [
    {
     "data": {
      "image/png": "[encoded data removed]",
      "text/plain": [
       "<Figure size 720x648 with 1 Axes>"
      ]
     },
     "metadata": {
      "needs_background": "light"
     },
     "output_type": "display_data"
    }
   ],
   "source": [
    "plt.figure(figsize=(10,9))\n",
    "plt.scatter(testing_plot[:,0], testing_plot[:,1], alpha = 0.1, c = y_test.ravel())\n",
    "contours = plt.contour(x_grid,y_grid,prob_contour)\n",
    "plt.title('Probability Contours')\n",
    "plt.clabel(contours, inline = True );"
   ]
  },
  {
   "cell_type": "code",
   "execution_count": null,
   "id": "e81b4ac7",
   "metadata": {
    "papermill": {
     "duration": 0.042284,
     "end_time": "2021-12-04T00:24:46.218751",
     "exception": false,
     "start_time": "2021-12-04T00:24:46.176467",
     "status": "completed"
    },
    "tags": []
   },
   "outputs": [],
   "source": []
  }
 ],
 "metadata": {
  "kernelspec": {
   "display_name": "Python 3",
   "language": "python",
   "name": "python3"
  },
  "language_info": {
   "codemirror_mode": {
    "name": "ipython",
    "version": 3
   },
   "file_extension": ".py",
   "mimetype": "text/x-python",
   "name": "python",
   "nbconvert_exporter": "python",
   "pygments_lexer": "ipython3",
   "version": "3.6.15"
  },
  "papermill": {
   "default_parameters": {},
   "duration": 108.029598,
   "end_time": "2021-12-04T00:24:46.670308",
   "environment_variables": {},
   "exception": null,
   "input_path": "2020-08-11-part2.ipynb",
   "output_path": "2020-08-11-part2.ipynb",
   "parameters": {},
   "start_time": "2021-12-04T00:22:58.640710",
   "version": "2.3.3"
  }
 },
 "nbformat": 4,
 "nbformat_minor": 5
}