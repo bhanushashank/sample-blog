{
 "cells": [
  {
   "cell_type": "markdown",
   "id": "98380cd3",
   "metadata": {
    "papermill": {
     "duration": 0.027887,
     "end_time": "2022-01-09T20:08:50.201544",
     "exception": false,
     "start_time": "2022-01-09T20:08:50.173657",
     "status": "completed"
    },
    "tags": []
   },
   "source": [
    "# Distinguish Your Own Digits (DYOD)"
   ]
  },
  {
   "cell_type": "markdown",
   "id": "ef31240d",
   "metadata": {
    "papermill": {
     "duration": 0.023477,
     "end_time": "2022-01-09T20:08:50.249355",
     "exception": false,
     "start_time": "2022-01-09T20:08:50.225878",
     "status": "completed"
    },
    "tags": []
   },
   "source": [
    "You are going to write a classifier that distinguishes between the number 3 and number 8."
   ]
  },
  {
   "cell_type": "code",
   "execution_count": 1,
   "id": "b15c8646",
   "metadata": {
    "execution": {
     "iopub.execute_input": "2022-01-09T20:08:50.307832Z",
     "iopub.status.busy": "2022-01-09T20:08:50.307206Z",
     "iopub.status.idle": "2022-01-09T20:08:50.317537Z",
     "shell.execute_reply": "2022-01-09T20:08:50.317113Z"
    },
    "papermill": {
     "duration": 0.04486,
     "end_time": "2022-01-09T20:08:50.317661",
     "exception": false,
     "start_time": "2022-01-09T20:08:50.272801",
     "status": "completed"
    },
    "tags": []
   },
   "outputs": [],
   "source": [
    "%load_ext autoreload\n",
    "%autoreload 2"
   ]
  },
  {
   "cell_type": "code",
   "execution_count": 2,
   "id": "22ef38dc",
   "metadata": {
    "execution": {
     "iopub.execute_input": "2022-01-09T20:08:50.368269Z",
     "iopub.status.busy": "2022-01-09T20:08:50.367752Z",
     "iopub.status.idle": "2022-01-09T20:08:50.947473Z",
     "shell.execute_reply": "2022-01-09T20:08:50.947974Z"
    },
    "papermill": {
     "duration": 0.606922,
     "end_time": "2022-01-09T20:08:50.948147",
     "exception": false,
     "start_time": "2022-01-09T20:08:50.341225",
     "status": "completed"
    },
    "tags": []
   },
   "outputs": [],
   "source": [
    "%matplotlib inline\n",
    "import numpy as np\n",
    "import matplotlib.pyplot as plt\n",
    "import pandas as pd"
   ]
  },
  {
   "cell_type": "markdown",
   "id": "ba036198",
   "metadata": {
    "papermill": {
     "duration": 0.023629,
     "end_time": "2022-01-09T20:08:50.996127",
     "exception": false,
     "start_time": "2022-01-09T20:08:50.972498",
     "status": "completed"
    },
    "tags": []
   },
   "source": [
    "From the command line run `pip install mnist`. This is a library that will help you bring down the mnist dataset. If you run this from a notebook, you need to put  `!pip install mnist` in a cell by itself."
   ]
  },
  {
   "cell_type": "code",
   "execution_count": 3,
   "id": "bb6ad8a1",
   "metadata": {
    "execution": {
     "iopub.execute_input": "2022-01-09T20:08:51.049774Z",
     "iopub.status.busy": "2022-01-09T20:08:51.049121Z",
     "iopub.status.idle": "2022-01-09T20:08:53.369605Z",
     "shell.execute_reply": "2022-01-09T20:08:53.369024Z"
    },
    "papermill": {
     "duration": 2.349984,
     "end_time": "2022-01-09T20:08:53.369746",
     "exception": false,
     "start_time": "2022-01-09T20:08:51.019762",
     "status": "completed"
    },
    "tags": []
   },
   "outputs": [
    {
     "name": "stdout",
     "output_type": "stream",
     "text": [
      "Collecting mnist\r\n"
     ]
    },
    {
     "name": "stdout",
     "output_type": "stream",
     "text": [
      "  Downloading mnist-0.2.2-py2.py3-none-any.whl (3.5 kB)\r\n"
     ]
    },
    {
     "name": "stdout",
     "output_type": "stream",
     "text": [
      "Requirement already satisfied: numpy in /opt/hostedtoolcache/Python/3.6.15/x64/lib/python3.6/site-packages (from mnist) (1.19.5)\r\n"
     ]
    },
    {
     "name": "stdout",
     "output_type": "stream",
     "text": [
      "Installing collected packages: mnist\r\n",
      "Successfully installed mnist-0.2.2\r\n"
     ]
    }
   ],
   "source": [
    "!pip install mnist"
   ]
  },
  {
   "cell_type": "markdown",
   "id": "69df9c9a",
   "metadata": {
    "papermill": {
     "duration": 0.0247,
     "end_time": "2022-01-09T20:08:53.420063",
     "exception": false,
     "start_time": "2022-01-09T20:08:53.395363",
     "status": "completed"
    },
    "tags": []
   },
   "source": [
    "## Preparing the Data"
   ]
  },
  {
   "cell_type": "code",
   "execution_count": 4,
   "id": "7f69d806",
   "metadata": {
    "execution": {
     "iopub.execute_input": "2022-01-09T20:08:53.473706Z",
     "iopub.status.busy": "2022-01-09T20:08:53.473186Z",
     "iopub.status.idle": "2022-01-09T20:08:53.488069Z",
     "shell.execute_reply": "2022-01-09T20:08:53.487630Z"
    },
    "papermill": {
     "duration": 0.043534,
     "end_time": "2022-01-09T20:08:53.488182",
     "exception": false,
     "start_time": "2022-01-09T20:08:53.444648",
     "status": "completed"
    },
    "tags": []
   },
   "outputs": [],
   "source": [
    "import mnist"
   ]
  },
  {
   "cell_type": "code",
   "execution_count": 5,
   "id": "a411e44f",
   "metadata": {
    "execution": {
     "iopub.execute_input": "2022-01-09T20:08:53.555094Z",
     "iopub.status.busy": "2022-01-09T20:08:53.548460Z",
     "iopub.status.idle": "2022-01-09T20:08:54.257556Z",
     "shell.execute_reply": "2022-01-09T20:08:54.258058Z"
    },
    "papermill": {
     "duration": 0.745402,
     "end_time": "2022-01-09T20:08:54.258208",
     "exception": false,
     "start_time": "2022-01-09T20:08:53.512806",
     "status": "completed"
    },
    "tags": []
   },
   "outputs": [],
   "source": [
    "train_images = mnist.train_images()\n",
    "train_labels = mnist.train_labels()"
   ]
  },
  {
   "cell_type": "code",
   "execution_count": 6,
   "id": "dceab3a5",
   "metadata": {
    "execution": {
     "iopub.execute_input": "2022-01-09T20:08:54.327250Z",
     "iopub.status.busy": "2022-01-09T20:08:54.317467Z",
     "iopub.status.idle": "2022-01-09T20:08:54.332300Z",
     "shell.execute_reply": "2022-01-09T20:08:54.331874Z"
    },
    "papermill": {
     "duration": 0.049065,
     "end_time": "2022-01-09T20:08:54.332421",
     "exception": false,
     "start_time": "2022-01-09T20:08:54.283356",
     "status": "completed"
    },
    "tags": []
   },
   "outputs": [
    {
     "data": {
      "text/plain": [
       "((60000, 28, 28), (60000,))"
      ]
     },
     "execution_count": 6,
     "metadata": {},
     "output_type": "execute_result"
    }
   ],
   "source": [
    "train_images.shape, train_labels.shape"
   ]
  },
  {
   "cell_type": "code",
   "execution_count": 7,
   "id": "f50dc2bb",
   "metadata": {
    "execution": {
     "iopub.execute_input": "2022-01-09T20:08:54.389907Z",
     "iopub.status.busy": "2022-01-09T20:08:54.389393Z",
     "iopub.status.idle": "2022-01-09T20:08:54.621680Z",
     "shell.execute_reply": "2022-01-09T20:08:54.621138Z"
    },
    "papermill": {
     "duration": 0.264444,
     "end_time": "2022-01-09T20:08:54.621821",
     "exception": false,
     "start_time": "2022-01-09T20:08:54.357377",
     "status": "completed"
    },
    "tags": []
   },
   "outputs": [],
   "source": [
    "test_images = mnist.test_images()\n",
    "test_labels = mnist.test_labels()"
   ]
  },
  {
   "cell_type": "code",
   "execution_count": 8,
   "id": "fc38cf1b",
   "metadata": {
    "execution": {
     "iopub.execute_input": "2022-01-09T20:08:54.676646Z",
     "iopub.status.busy": "2022-01-09T20:08:54.676113Z",
     "iopub.status.idle": "2022-01-09T20:08:54.687676Z",
     "shell.execute_reply": "2022-01-09T20:08:54.688153Z"
    },
    "papermill": {
     "duration": 0.041125,
     "end_time": "2022-01-09T20:08:54.688276",
     "exception": false,
     "start_time": "2022-01-09T20:08:54.647151",
     "status": "completed"
    },
    "tags": []
   },
   "outputs": [
    {
     "data": {
      "text/plain": [
       "((10000, 28, 28), (10000,))"
      ]
     },
     "execution_count": 8,
     "metadata": {},
     "output_type": "execute_result"
    }
   ],
   "source": [
    "test_images.shape, test_labels.shape"
   ]
  },
  {
   "cell_type": "code",
   "execution_count": 9,
   "id": "f9ed8fe0",
   "metadata": {
    "execution": {
     "iopub.execute_input": "2022-01-09T20:08:54.741134Z",
     "iopub.status.busy": "2022-01-09T20:08:54.740579Z",
     "iopub.status.idle": "2022-01-09T20:08:54.877060Z",
     "shell.execute_reply": "2022-01-09T20:08:54.877538Z"
    },
    "papermill": {
     "duration": 0.164569,
     "end_time": "2022-01-09T20:08:54.877692",
     "exception": false,
     "start_time": "2022-01-09T20:08:54.713123",
     "status": "completed"
    },
    "tags": []
   },
   "outputs": [
    {
     "name": "stdout",
     "output_type": "stream",
     "text": [
      "2\n"
     ]
    },
    {
     "data": {
      "text/plain": [
       "<matplotlib.image.AxesImage at 0x7eff595af358>"
      ]
     },
     "execution_count": 9,
     "metadata": {},
     "output_type": "execute_result"
    },
    {
     "data": {
      "image/png": "[encoded data removed]",
      "text/plain": [
       "<Figure size 432x288 with 1 Axes>"
      ]
     },
     "metadata": {
      "needs_background": "light"
     },
     "output_type": "display_data"
    }
   ],
   "source": [
    "image_index = 7776 # You may select anything up to 60,000\n",
    "print(train_labels[image_index]) \n",
    "plt.imshow(train_images[image_index], cmap='Greys')"
   ]
  },
  {
   "cell_type": "markdown",
   "id": "a8d2388d",
   "metadata": {
    "papermill": {
     "duration": 0.026554,
     "end_time": "2022-01-09T20:08:54.930588",
     "exception": false,
     "start_time": "2022-01-09T20:08:54.904034",
     "status": "completed"
    },
    "tags": []
   },
   "source": [
    "## Filter data to get 3 and 8 out"
   ]
  },
  {
   "cell_type": "code",
   "execution_count": 10,
   "id": "776f7fc7",
   "metadata": {
    "execution": {
     "iopub.execute_input": "2022-01-09T20:08:54.988865Z",
     "iopub.status.busy": "2022-01-09T20:08:54.988298Z",
     "iopub.status.idle": "2022-01-09T20:08:55.003663Z",
     "shell.execute_reply": "2022-01-09T20:08:55.003221Z"
    },
    "papermill": {
     "duration": 0.047243,
     "end_time": "2022-01-09T20:08:55.003776",
     "exception": false,
     "start_time": "2022-01-09T20:08:54.956533",
     "status": "completed"
    },
    "tags": []
   },
   "outputs": [],
   "source": [
    "train_filter = np.where((train_labels == 3 ) | (train_labels == 8))\n",
    "test_filter = np.where((test_labels == 3) | (test_labels == 8))\n",
    "X_train, y_train = train_images[train_filter], train_labels[train_filter]\n",
    "X_test, y_test = test_images[test_filter], test_labels[test_filter]"
   ]
  },
  {
   "cell_type": "markdown",
   "id": "948f0b7e",
   "metadata": {
    "papermill": {
     "duration": 0.025901,
     "end_time": "2022-01-09T20:08:55.055713",
     "exception": false,
     "start_time": "2022-01-09T20:08:55.029812",
     "status": "completed"
    },
    "tags": []
   },
   "source": [
    "We normalize the pizel values in the 0 to 1 range"
   ]
  },
  {
   "cell_type": "code",
   "execution_count": 11,
   "id": "ee4c2166",
   "metadata": {
    "execution": {
     "iopub.execute_input": "2022-01-09T20:08:55.122970Z",
     "iopub.status.busy": "2022-01-09T20:08:55.122445Z",
     "iopub.status.idle": "2022-01-09T20:08:55.160777Z",
     "shell.execute_reply": "2022-01-09T20:08:55.160228Z"
    },
    "papermill": {
     "duration": 0.079236,
     "end_time": "2022-01-09T20:08:55.160921",
     "exception": false,
     "start_time": "2022-01-09T20:08:55.081685",
     "status": "completed"
    },
    "tags": []
   },
   "outputs": [],
   "source": [
    "X_train = X_train/255.\n",
    "X_test = X_test/255."
   ]
  },
  {
   "cell_type": "markdown",
   "id": "ddcf4fab",
   "metadata": {
    "papermill": {
     "duration": 0.026463,
     "end_time": "2022-01-09T20:08:55.213871",
     "exception": false,
     "start_time": "2022-01-09T20:08:55.187408",
     "status": "completed"
    },
    "tags": []
   },
   "source": [
    "And setup the labels as 1 (when the digit is 3) and 0 (when the digit is 8)"
   ]
  },
  {
   "cell_type": "code",
   "execution_count": 12,
   "id": "7dc908f2",
   "metadata": {
    "execution": {
     "iopub.execute_input": "2022-01-09T20:08:55.274147Z",
     "iopub.status.busy": "2022-01-09T20:08:55.273618Z",
     "iopub.status.idle": "2022-01-09T20:08:55.283150Z",
     "shell.execute_reply": "2022-01-09T20:08:55.282738Z"
    },
    "papermill": {
     "duration": 0.0434,
     "end_time": "2022-01-09T20:08:55.283261",
     "exception": false,
     "start_time": "2022-01-09T20:08:55.239861",
     "status": "completed"
    },
    "tags": []
   },
   "outputs": [],
   "source": [
    "y_train = 1*(y_train==3)\n",
    "y_test = 1*(y_test==3)"
   ]
  },
  {
   "cell_type": "code",
   "execution_count": 13,
   "id": "01e4e969",
   "metadata": {
    "execution": {
     "iopub.execute_input": "2022-01-09T20:08:55.342519Z",
     "iopub.status.busy": "2022-01-09T20:08:55.341911Z",
     "iopub.status.idle": "2022-01-09T20:08:55.352931Z",
     "shell.execute_reply": "2022-01-09T20:08:55.353322Z"
    },
    "papermill": {
     "duration": 0.043913,
     "end_time": "2022-01-09T20:08:55.353452",
     "exception": false,
     "start_time": "2022-01-09T20:08:55.309539",
     "status": "completed"
    },
    "tags": []
   },
   "outputs": [
    {
     "data": {
      "text/plain": [
       "((11982, 28, 28), (1984, 28, 28))"
      ]
     },
     "execution_count": 13,
     "metadata": {},
     "output_type": "execute_result"
    }
   ],
   "source": [
    "X_train.shape, X_test.shape"
   ]
  },
  {
   "cell_type": "markdown",
   "id": "5ccf3f85",
   "metadata": {
    "papermill": {
     "duration": 0.02604,
     "end_time": "2022-01-09T20:08:55.405551",
     "exception": false,
     "start_time": "2022-01-09T20:08:55.379511",
     "status": "completed"
    },
    "tags": []
   },
   "source": [
    "We reshape the data to flatten the image pixels into a set of features or co-variates:"
   ]
  },
  {
   "cell_type": "code",
   "execution_count": 14,
   "id": "5286a4a3",
   "metadata": {
    "execution": {
     "iopub.execute_input": "2022-01-09T20:08:55.461395Z",
     "iopub.status.busy": "2022-01-09T20:08:55.460881Z",
     "iopub.status.idle": "2022-01-09T20:08:55.474878Z",
     "shell.execute_reply": "2022-01-09T20:08:55.474448Z"
    },
    "papermill": {
     "duration": 0.043124,
     "end_time": "2022-01-09T20:08:55.474981",
     "exception": false,
     "start_time": "2022-01-09T20:08:55.431857",
     "status": "completed"
    },
    "tags": []
   },
   "outputs": [
    {
     "data": {
      "text/plain": [
       "((11982, 784), (1984, 784))"
      ]
     },
     "execution_count": 14,
     "metadata": {},
     "output_type": "execute_result"
    }
   ],
   "source": [
    "X_train = X_train.reshape(X_train.shape[0], -1)\n",
    "X_test = X_test.reshape(X_test.shape[0], -1)\n",
    "X_train.shape, X_test.shape"
   ]
  },
  {
   "cell_type": "code",
   "execution_count": 15,
   "id": "73c5f88a",
   "metadata": {
    "execution": {
     "iopub.execute_input": "2022-01-09T20:08:55.533755Z",
     "iopub.status.busy": "2022-01-09T20:08:55.533245Z",
     "iopub.status.idle": "2022-01-09T20:08:55.551831Z",
     "shell.execute_reply": "2022-01-09T20:08:55.551425Z"
    },
    "papermill": {
     "duration": 0.050581,
     "end_time": "2022-01-09T20:08:55.551936",
     "exception": false,
     "start_time": "2022-01-09T20:08:55.501355",
     "status": "completed"
    },
    "tags": []
   },
   "outputs": [],
   "source": [
    "#Impoting functions from 'Kudzu'\n",
    "from kudzu.model import Model\n",
    "from kudzu.train import Learner\n",
    "from kudzu.optim import GD\n",
    "from kudzu.data import Data, Sampler,Dataloader\n",
    "\n",
    "from kudzu.callbacks import AccCallback\n",
    "from kudzu.callbacks import ClfCallback\n",
    "\n",
    "from kudzu.loss import MSE\n",
    "\n",
    "from kudzu.layer import Sigmoid,Relu\n",
    "from kudzu.layer import Affine"
   ]
  },
  {
   "cell_type": "markdown",
   "id": "bc01172a",
   "metadata": {
    "papermill": {
     "duration": 0.026301,
     "end_time": "2022-01-09T20:08:55.604789",
     "exception": false,
     "start_time": "2022-01-09T20:08:55.578488",
     "status": "completed"
    },
    "tags": []
   },
   "source": [
    "### Let us create a `Config` class, to store important parameters. \n",
    "This class essentially plays the role of a dictionary."
   ]
  },
  {
   "cell_type": "code",
   "execution_count": 16,
   "id": "978281aa",
   "metadata": {
    "execution": {
     "iopub.execute_input": "2022-01-09T20:08:55.664300Z",
     "iopub.status.busy": "2022-01-09T20:08:55.663785Z",
     "iopub.status.idle": "2022-01-09T20:08:55.673061Z",
     "shell.execute_reply": "2022-01-09T20:08:55.673545Z"
    },
    "papermill": {
     "duration": 0.042548,
     "end_time": "2022-01-09T20:08:55.673664",
     "exception": false,
     "start_time": "2022-01-09T20:08:55.631116",
     "status": "completed"
    },
    "tags": []
   },
   "outputs": [],
   "source": [
    "class Config:\n",
    "    pass\n",
    "config = Config()\n",
    "config.lr = 0.001\n",
    "config.num_epochs = 250\n",
    "config.bs = 50"
   ]
  },
  {
   "cell_type": "markdown",
   "id": "1385fa59",
   "metadata": {
    "papermill": {
     "duration": 0.026467,
     "end_time": "2022-01-09T20:08:55.726649",
     "exception": false,
     "start_time": "2022-01-09T20:08:55.700182",
     "status": "completed"
    },
    "tags": []
   },
   "source": [
    "### Running Models with the Training data\n",
    "Details about the network layers:\n",
    "- A first affine layer has 784 inputs and does 100 affine transforms. These are followed by a Relu\n",
    "- A second affine layer has 100 inputs from the 100 activations of the past layer, and does 100 affine transforms. These are followed by a Relu\n",
    "- A third affine layer has 100 activations and does 2 affine transformations to create an embedding for visualization. There is no non-linearity here.\n",
    "- A final \"logistic regression\" which has an affine transform from 2 inputs to 1 output, which is squeezed through a sigmoid.\n"
   ]
  },
  {
   "cell_type": "code",
   "execution_count": 17,
   "id": "2b9c66db",
   "metadata": {
    "execution": {
     "iopub.execute_input": "2022-01-09T20:08:55.783001Z",
     "iopub.status.busy": "2022-01-09T20:08:55.782489Z",
     "iopub.status.idle": "2022-01-09T20:08:55.795459Z",
     "shell.execute_reply": "2022-01-09T20:08:55.795049Z"
    },
    "papermill": {
     "duration": 0.042609,
     "end_time": "2022-01-09T20:08:55.795565",
     "exception": false,
     "start_time": "2022-01-09T20:08:55.752956",
     "status": "completed"
    },
    "tags": []
   },
   "outputs": [],
   "source": [
    "data = Data(X_train, y_train.reshape(-1,1))\n",
    "sampler = Sampler(data, config.bs, shuffle=True)\n",
    "\n",
    "dl = Dataloader(data, sampler)\n",
    "\n",
    "opt = GD(config.lr)\n",
    "loss = MSE()"
   ]
  },
  {
   "cell_type": "code",
   "execution_count": 18,
   "id": "b275e4c2",
   "metadata": {
    "execution": {
     "iopub.execute_input": "2022-01-09T20:08:55.852268Z",
     "iopub.status.busy": "2022-01-09T20:08:55.851747Z",
     "iopub.status.idle": "2022-01-09T20:08:55.862775Z",
     "shell.execute_reply": "2022-01-09T20:08:55.862371Z"
    },
    "papermill": {
     "duration": 0.040894,
     "end_time": "2022-01-09T20:08:55.862879",
     "exception": false,
     "start_time": "2022-01-09T20:08:55.821985",
     "status": "completed"
    },
    "tags": []
   },
   "outputs": [],
   "source": [
    "training_data_x = X_train\n",
    "testing_data_x = X_test\n",
    "training_data_y = y_train.reshape(-1,1)\n",
    "testing_data_y = y_test.reshape(-1,1)"
   ]
  },
  {
   "cell_type": "code",
   "execution_count": 19,
   "id": "76951160",
   "metadata": {
    "execution": {
     "iopub.execute_input": "2022-01-09T20:08:55.921758Z",
     "iopub.status.busy": "2022-01-09T20:08:55.921252Z",
     "iopub.status.idle": "2022-01-09T20:08:55.935316Z",
     "shell.execute_reply": "2022-01-09T20:08:55.935747Z"
    },
    "papermill": {
     "duration": 0.046697,
     "end_time": "2022-01-09T20:08:55.935867",
     "exception": false,
     "start_time": "2022-01-09T20:08:55.889170",
     "status": "completed"
    },
    "tags": []
   },
   "outputs": [
    {
     "name": "stdout",
     "output_type": "stream",
     "text": [
      "xavier\n",
      "xavier\n",
      "xavier\n",
      "xavier\n",
      "xavier\n"
     ]
    }
   ],
   "source": [
    "layers = [Affine(\"first\", 784, 100), Relu(\"first\"), Affine(\"second\", 100, 100), Relu(\"second\"), Affine(\"third\", 100, 2), Affine(\"last\", 2, 1), Sigmoid(\"last\")]\n",
    "model_nn = Model(layers)\n",
    "model_lr = Model([Affine(\"logits\", 784, 1), Sigmoid(\"sigmoid\")])"
   ]
  },
  {
   "cell_type": "code",
   "execution_count": 20,
   "id": "6eede77a",
   "metadata": {
    "execution": {
     "iopub.execute_input": "2022-01-09T20:08:55.993745Z",
     "iopub.status.busy": "2022-01-09T20:08:55.993218Z",
     "iopub.status.idle": "2022-01-09T20:08:56.004875Z",
     "shell.execute_reply": "2022-01-09T20:08:56.005496Z"
    },
    "papermill": {
     "duration": 0.042986,
     "end_time": "2022-01-09T20:08:56.005621",
     "exception": false,
     "start_time": "2022-01-09T20:08:55.962635",
     "status": "completed"
    },
    "tags": []
   },
   "outputs": [],
   "source": [
    "nn_learner = Learner(loss, model_nn, opt, config.num_epochs)\n",
    "acc_nn = ClfCallback(nn_learner, config.bs, training_data_x , testing_data_x, training_data_y, testing_data_y)\n",
    "nn_learner.set_callbacks([acc_nn])"
   ]
  },
  {
   "cell_type": "code",
   "execution_count": 21,
   "id": "877b6cc7",
   "metadata": {
    "execution": {
     "iopub.execute_input": "2022-01-09T20:08:56.062728Z",
     "iopub.status.busy": "2022-01-09T20:08:56.062222Z",
     "iopub.status.idle": "2022-01-09T20:08:56.074038Z",
     "shell.execute_reply": "2022-01-09T20:08:56.073632Z"
    },
    "papermill": {
     "duration": 0.041803,
     "end_time": "2022-01-09T20:08:56.074147",
     "exception": false,
     "start_time": "2022-01-09T20:08:56.032344",
     "status": "completed"
    },
    "tags": []
   },
   "outputs": [],
   "source": [
    "lr_learner = Learner(loss, model_lr, opt, config.num_epochs)\n",
    "acc_lr = ClfCallback(lr_learner, config.bs, training_data_x , testing_data_x, training_data_y, testing_data_y)\n",
    "lr_learner.set_callbacks([acc_lr])"
   ]
  },
  {
   "cell_type": "code",
   "execution_count": 22,
   "id": "d9b133c3",
   "metadata": {
    "execution": {
     "iopub.execute_input": "2022-01-09T20:08:56.130964Z",
     "iopub.status.busy": "2022-01-09T20:08:56.130457Z",
     "iopub.status.idle": "2022-01-09T20:10:10.993281Z",
     "shell.execute_reply": "2022-01-09T20:10:10.994056Z"
    },
    "papermill": {
     "duration": 74.893239,
     "end_time": "2022-01-09T20:10:10.994219",
     "exception": false,
     "start_time": "2022-01-09T20:08:56.100980",
     "status": "completed"
    },
    "tags": []
   },
   "outputs": [
    {
     "name": "stdout",
     "output_type": "stream",
     "text": [
      "Epoch 0, Loss 0.2486\n",
      "Training Accuracy: 0.4996, Testing Accuracy: 0.5010\n",
      "\n"
     ]
    },
    {
     "name": "stdout",
     "output_type": "stream",
     "text": [
      "Epoch 10, Loss 0.1934\n",
      "Training Accuracy: 0.8679, Testing Accuracy: 0.8816\n",
      "\n"
     ]
    },
    {
     "name": "stdout",
     "output_type": "stream",
     "text": [
      "Epoch 20, Loss 0.0964\n",
      "Training Accuracy: 0.9166, Testing Accuracy: 0.9274\n",
      "\n"
     ]
    },
    {
     "name": "stdout",
     "output_type": "stream",
     "text": [
      "Epoch 30, Loss 0.0618\n",
      "Training Accuracy: 0.9352, Testing Accuracy: 0.9451\n",
      "\n"
     ]
    },
    {
     "name": "stdout",
     "output_type": "stream",
     "text": [
      "Epoch 40, Loss 0.0488\n",
      "Training Accuracy: 0.9458, Testing Accuracy: 0.9536\n",
      "\n"
     ]
    },
    {
     "name": "stdout",
     "output_type": "stream",
     "text": [
      "Epoch 50, Loss 0.0421\n",
      "Training Accuracy: 0.9513, Testing Accuracy: 0.9572\n",
      "\n"
     ]
    },
    {
     "name": "stdout",
     "output_type": "stream",
     "text": [
      "Epoch 60, Loss 0.0379\n",
      "Training Accuracy: 0.9566, Testing Accuracy: 0.9617\n",
      "\n"
     ]
    },
    {
     "name": "stdout",
     "output_type": "stream",
     "text": [
      "Epoch 70, Loss 0.035\n",
      "Training Accuracy: 0.9601, Testing Accuracy: 0.9642\n",
      "\n"
     ]
    },
    {
     "name": "stdout",
     "output_type": "stream",
     "text": [
      "Epoch 80, Loss 0.0328\n",
      "Training Accuracy: 0.9624, Testing Accuracy: 0.9662\n",
      "\n"
     ]
    },
    {
     "name": "stdout",
     "output_type": "stream",
     "text": [
      "Epoch 90, Loss 0.0312\n",
      "Training Accuracy: 0.9649, Testing Accuracy: 0.9677\n",
      "\n"
     ]
    },
    {
     "name": "stdout",
     "output_type": "stream",
     "text": [
      "Epoch 100, Loss 0.0298\n",
      "Training Accuracy: 0.9659, Testing Accuracy: 0.9688\n",
      "\n"
     ]
    },
    {
     "name": "stdout",
     "output_type": "stream",
     "text": [
      "Epoch 110, Loss 0.0287\n",
      "Training Accuracy: 0.9670, Testing Accuracy: 0.9698\n",
      "\n"
     ]
    },
    {
     "name": "stdout",
     "output_type": "stream",
     "text": [
      "Epoch 120, Loss 0.0277\n",
      "Training Accuracy: 0.9686, Testing Accuracy: 0.9703\n",
      "\n"
     ]
    },
    {
     "name": "stdout",
     "output_type": "stream",
     "text": [
      "Epoch 130, Loss 0.0269\n",
      "Training Accuracy: 0.9700, Testing Accuracy: 0.9708\n",
      "\n"
     ]
    },
    {
     "name": "stdout",
     "output_type": "stream",
     "text": [
      "Epoch 140, Loss 0.0261\n",
      "Training Accuracy: 0.9707, Testing Accuracy: 0.9718\n",
      "\n"
     ]
    },
    {
     "name": "stdout",
     "output_type": "stream",
     "text": [
      "Epoch 150, Loss 0.0255\n",
      "Training Accuracy: 0.9716, Testing Accuracy: 0.9728\n",
      "\n"
     ]
    },
    {
     "name": "stdout",
     "output_type": "stream",
     "text": [
      "Epoch 160, Loss 0.0249\n",
      "Training Accuracy: 0.9725, Testing Accuracy: 0.9728\n",
      "\n"
     ]
    },
    {
     "name": "stdout",
     "output_type": "stream",
     "text": [
      "Epoch 170, Loss 0.0243\n",
      "Training Accuracy: 0.9730, Testing Accuracy: 0.9728\n",
      "\n"
     ]
    },
    {
     "name": "stdout",
     "output_type": "stream",
     "text": [
      "Epoch 180, Loss 0.0238\n",
      "Training Accuracy: 0.9735, Testing Accuracy: 0.9723\n",
      "\n"
     ]
    },
    {
     "name": "stdout",
     "output_type": "stream",
     "text": [
      "Epoch 190, Loss 0.0233\n",
      "Training Accuracy: 0.9740, Testing Accuracy: 0.9723\n",
      "\n"
     ]
    },
    {
     "name": "stdout",
     "output_type": "stream",
     "text": [
      "Epoch 200, Loss 0.0229\n",
      "Training Accuracy: 0.9741, Testing Accuracy: 0.9718\n",
      "\n"
     ]
    },
    {
     "name": "stdout",
     "output_type": "stream",
     "text": [
      "Epoch 210, Loss 0.0225\n",
      "Training Accuracy: 0.9745, Testing Accuracy: 0.9723\n",
      "\n"
     ]
    },
    {
     "name": "stdout",
     "output_type": "stream",
     "text": [
      "Epoch 220, Loss 0.0221\n",
      "Training Accuracy: 0.9750, Testing Accuracy: 0.9723\n",
      "\n"
     ]
    },
    {
     "name": "stdout",
     "output_type": "stream",
     "text": [
      "Epoch 230, Loss 0.0217\n",
      "Training Accuracy: 0.9760, Testing Accuracy: 0.9733\n",
      "\n"
     ]
    },
    {
     "name": "stdout",
     "output_type": "stream",
     "text": [
      "Epoch 240, Loss 0.0213\n",
      "Training Accuracy: 0.9759, Testing Accuracy: 0.9733\n",
      "\n"
     ]
    },
    {
     "data": {
      "text/plain": [
       "0.021881266068013515"
      ]
     },
     "execution_count": 22,
     "metadata": {},
     "output_type": "execute_result"
    }
   ],
   "source": [
    "nn_learner.train_loop(dl)"
   ]
  },
  {
   "cell_type": "code",
   "execution_count": 23,
   "id": "e0163366",
   "metadata": {
    "execution": {
     "iopub.execute_input": "2022-01-09T20:10:11.070216Z",
     "iopub.status.busy": "2022-01-09T20:10:11.069694Z",
     "iopub.status.idle": "2022-01-09T20:10:24.452096Z",
     "shell.execute_reply": "2022-01-09T20:10:24.452873Z"
    },
    "papermill": {
     "duration": 13.424516,
     "end_time": "2022-01-09T20:10:24.453030",
     "exception": false,
     "start_time": "2022-01-09T20:10:11.028514",
     "status": "completed"
    },
    "tags": []
   },
   "outputs": [
    {
     "name": "stdout",
     "output_type": "stream",
     "text": [
      "Epoch 0, Loss 0.2532\n",
      "Training Accuracy: 0.6321, Testing Accuracy: 0.6169\n",
      "\n"
     ]
    },
    {
     "name": "stdout",
     "output_type": "stream",
     "text": [
      "Epoch 10, Loss 0.1027\n",
      "Training Accuracy: 0.9150, Testing Accuracy: 0.9194\n",
      "\n"
     ]
    },
    {
     "name": "stdout",
     "output_type": "stream",
     "text": [
      "Epoch 20, Loss 0.0782\n",
      "Training Accuracy: 0.9306, Testing Accuracy: 0.9385\n",
      "\n"
     ]
    },
    {
     "name": "stdout",
     "output_type": "stream",
     "text": [
      "Epoch 30, Loss 0.0673\n",
      "Training Accuracy: 0.9397, Testing Accuracy: 0.9441\n",
      "\n"
     ]
    },
    {
     "name": "stdout",
     "output_type": "stream",
     "text": [
      "Epoch 40, Loss 0.0608\n",
      "Training Accuracy: 0.9446, Testing Accuracy: 0.9501\n",
      "\n"
     ]
    },
    {
     "name": "stdout",
     "output_type": "stream",
     "text": [
      "Epoch 50, Loss 0.0564\n",
      "Training Accuracy: 0.9475, Testing Accuracy: 0.9546\n",
      "\n"
     ]
    },
    {
     "name": "stdout",
     "output_type": "stream",
     "text": [
      "Epoch 60, Loss 0.0531\n",
      "Training Accuracy: 0.9495, Testing Accuracy: 0.9551\n",
      "\n"
     ]
    },
    {
     "name": "stdout",
     "output_type": "stream",
     "text": [
      "Epoch 70, Loss 0.0506\n",
      "Training Accuracy: 0.9511, Testing Accuracy: 0.9572\n",
      "\n"
     ]
    },
    {
     "name": "stdout",
     "output_type": "stream",
     "text": [
      "Epoch 80, Loss 0.0486\n",
      "Training Accuracy: 0.9523, Testing Accuracy: 0.9602\n",
      "\n"
     ]
    },
    {
     "name": "stdout",
     "output_type": "stream",
     "text": [
      "Epoch 90, Loss 0.047\n",
      "Training Accuracy: 0.9528, Testing Accuracy: 0.9612\n",
      "\n"
     ]
    },
    {
     "name": "stdout",
     "output_type": "stream",
     "text": [
      "Epoch 100, Loss 0.0456\n",
      "Training Accuracy: 0.9537, Testing Accuracy: 0.9622\n",
      "\n"
     ]
    },
    {
     "name": "stdout",
     "output_type": "stream",
     "text": [
      "Epoch 110, Loss 0.0444\n",
      "Training Accuracy: 0.9546, Testing Accuracy: 0.9627\n",
      "\n"
     ]
    },
    {
     "name": "stdout",
     "output_type": "stream",
     "text": [
      "Epoch 120, Loss 0.0434\n",
      "Training Accuracy: 0.9552, Testing Accuracy: 0.9637\n",
      "\n"
     ]
    },
    {
     "name": "stdout",
     "output_type": "stream",
     "text": [
      "Epoch 130, Loss 0.0424\n",
      "Training Accuracy: 0.9563, Testing Accuracy: 0.9637\n",
      "\n"
     ]
    },
    {
     "name": "stdout",
     "output_type": "stream",
     "text": [
      "Epoch 140, Loss 0.0416\n",
      "Training Accuracy: 0.9568, Testing Accuracy: 0.9637\n",
      "\n"
     ]
    },
    {
     "name": "stdout",
     "output_type": "stream",
     "text": [
      "Epoch 150, Loss 0.0409\n",
      "Training Accuracy: 0.9578, Testing Accuracy: 0.9637\n",
      "\n"
     ]
    },
    {
     "name": "stdout",
     "output_type": "stream",
     "text": [
      "Epoch 160, Loss 0.0403\n",
      "Training Accuracy: 0.9584, Testing Accuracy: 0.9642\n",
      "\n"
     ]
    },
    {
     "name": "stdout",
     "output_type": "stream",
     "text": [
      "Epoch 170, Loss 0.0397\n",
      "Training Accuracy: 0.9595, Testing Accuracy: 0.9642\n",
      "\n"
     ]
    },
    {
     "name": "stdout",
     "output_type": "stream",
     "text": [
      "Epoch 180, Loss 0.0391\n",
      "Training Accuracy: 0.9603, Testing Accuracy: 0.9647\n",
      "\n"
     ]
    },
    {
     "name": "stdout",
     "output_type": "stream",
     "text": [
      "Epoch 190, Loss 0.0386\n",
      "Training Accuracy: 0.9605, Testing Accuracy: 0.9642\n",
      "\n"
     ]
    },
    {
     "name": "stdout",
     "output_type": "stream",
     "text": [
      "Epoch 200, Loss 0.0381\n",
      "Training Accuracy: 0.9609, Testing Accuracy: 0.9657\n",
      "\n"
     ]
    },
    {
     "name": "stdout",
     "output_type": "stream",
     "text": [
      "Epoch 210, Loss 0.0377\n",
      "Training Accuracy: 0.9611, Testing Accuracy: 0.9657\n",
      "\n"
     ]
    },
    {
     "name": "stdout",
     "output_type": "stream",
     "text": [
      "Epoch 220, Loss 0.0373\n",
      "Training Accuracy: 0.9612, Testing Accuracy: 0.9647\n",
      "\n"
     ]
    },
    {
     "name": "stdout",
     "output_type": "stream",
     "text": [
      "Epoch 230, Loss 0.0369\n",
      "Training Accuracy: 0.9614, Testing Accuracy: 0.9652\n",
      "\n"
     ]
    },
    {
     "name": "stdout",
     "output_type": "stream",
     "text": [
      "Epoch 240, Loss 0.0366\n",
      "Training Accuracy: 0.9616, Testing Accuracy: 0.9652\n",
      "\n"
     ]
    },
    {
     "data": {
      "text/plain": [
       "0.028861282072210243"
      ]
     },
     "execution_count": 23,
     "metadata": {},
     "output_type": "execute_result"
    }
   ],
   "source": [
    "lr_learner.train_loop(dl)"
   ]
  },
  {
   "cell_type": "code",
   "execution_count": 24,
   "id": "ca410940",
   "metadata": {
    "execution": {
     "iopub.execute_input": "2022-01-09T20:10:24.549730Z",
     "iopub.status.busy": "2022-01-09T20:10:24.549207Z",
     "iopub.status.idle": "2022-01-09T20:10:24.765643Z",
     "shell.execute_reply": "2022-01-09T20:10:24.765183Z"
    },
    "papermill": {
     "duration": 0.271808,
     "end_time": "2022-01-09T20:10:24.765765",
     "exception": false,
     "start_time": "2022-01-09T20:10:24.493957",
     "status": "completed"
    },
    "tags": []
   },
   "outputs": [
    {
     "data": {
      "text/plain": [
       "<matplotlib.legend.Legend at 0x7eff4bd85ac8>"
      ]
     },
     "execution_count": 24,
     "metadata": {},
     "output_type": "execute_result"
    },
    {
     "data": {
      "image/png": "[encoded data removed]",
      "text/plain": [
       "<Figure size 1080x720 with 1 Axes>"
      ]
     },
     "metadata": {
      "needs_background": "light"
     },
     "output_type": "display_data"
    }
   ],
   "source": [
    "#comparing the results of NN and LR\n",
    "plt.figure(figsize=(15,10))\n",
    "\n",
    "# Neural Network plots\n",
    "plt.plot(acc_nn.accuracies, 'r-', label = \"Training Accuracies - NN\")\n",
    "plt.plot(acc_nn.test_accuracies, 'g-', label = \"Testing Accuracies - NN\")\n",
    "\n",
    "# Logistic Regression plots\n",
    "plt.plot(acc_lr.accuracies, 'k-', label = \"Training Accuracies - LR\")\n",
    "plt.plot(acc_lr.test_accuracies, 'b-', label = \"Testing Accuracies - LR\")\n",
    "plt.legend()"
   ]
  },
  {
   "cell_type": "markdown",
   "id": "80dfb35c",
   "metadata": {
    "papermill": {
     "duration": 0.0416,
     "end_time": "2022-01-09T20:10:24.849576",
     "exception": false,
     "start_time": "2022-01-09T20:10:24.807976",
     "status": "completed"
    },
    "tags": []
   },
   "source": [
    "#### Plotting the outputs of this layer of the NN.\n"
   ]
  },
  {
   "cell_type": "code",
   "execution_count": 25,
   "id": "45eb2ff5",
   "metadata": {
    "execution": {
     "iopub.execute_input": "2022-01-09T20:10:24.941411Z",
     "iopub.status.busy": "2022-01-09T20:10:24.938203Z",
     "iopub.status.idle": "2022-01-09T20:10:24.957457Z",
     "shell.execute_reply": "2022-01-09T20:10:24.957867Z"
    },
    "papermill": {
     "duration": 0.066823,
     "end_time": "2022-01-09T20:10:24.958000",
     "exception": false,
     "start_time": "2022-01-09T20:10:24.891177",
     "status": "completed"
    },
    "tags": []
   },
   "outputs": [],
   "source": [
    "new_model = Model(layers[:-2])\n",
    "testing_plot = new_model(testing_data_x)"
   ]
  },
  {
   "cell_type": "code",
   "execution_count": 26,
   "id": "4c0a5485",
   "metadata": {
    "execution": {
     "iopub.execute_input": "2022-01-09T20:10:25.052170Z",
     "iopub.status.busy": "2022-01-09T20:10:25.047421Z",
     "iopub.status.idle": "2022-01-09T20:10:25.247007Z",
     "shell.execute_reply": "2022-01-09T20:10:25.246571Z"
    },
    "papermill": {
     "duration": 0.247188,
     "end_time": "2022-01-09T20:10:25.247132",
     "exception": false,
     "start_time": "2022-01-09T20:10:24.999944",
     "status": "completed"
    },
    "tags": []
   },
   "outputs": [
    {
     "data": {
      "text/plain": [
       "Text(0.5, 1.0, 'Outputs')"
      ]
     },
     "execution_count": 26,
     "metadata": {},
     "output_type": "execute_result"
    },
    {
     "data": {
      "image/png": "[encoded data removed]",
      "text/plain": [
       "<Figure size 576x504 with 1 Axes>"
      ]
     },
     "metadata": {
      "needs_background": "light"
     },
     "output_type": "display_data"
    }
   ],
   "source": [
    "# Plotting the scatter plot of points and color coding by class\n",
    "plt.figure(figsize=(8,7))\n",
    "plt.scatter(testing_plot[:,0], testing_plot[:,1], alpha = 0.1, c = y_test.ravel());\n",
    "plt.title('Outputs')"
   ]
  },
  {
   "cell_type": "markdown",
   "id": "a74fcf8f",
   "metadata": {
    "papermill": {
     "duration": 0.043235,
     "end_time": "2022-01-09T20:10:25.334264",
     "exception": false,
     "start_time": "2022-01-09T20:10:25.291029",
     "status": "completed"
    },
    "tags": []
   },
   "source": [
    "Probability contours"
   ]
  },
  {
   "cell_type": "code",
   "execution_count": 27,
   "id": "d0afc8e3",
   "metadata": {
    "execution": {
     "iopub.execute_input": "2022-01-09T20:10:25.434238Z",
     "iopub.status.busy": "2022-01-09T20:10:25.433410Z",
     "iopub.status.idle": "2022-01-09T20:10:25.439079Z",
     "shell.execute_reply": "2022-01-09T20:10:25.439460Z"
    },
    "papermill": {
     "duration": 0.062025,
     "end_time": "2022-01-09T20:10:25.439589",
     "exception": false,
     "start_time": "2022-01-09T20:10:25.377564",
     "status": "completed"
    },
    "tags": []
   },
   "outputs": [],
   "source": [
    "model_prob = Model(layers[-2:]) "
   ]
  },
  {
   "cell_type": "code",
   "execution_count": 28,
   "id": "9b96e238",
   "metadata": {
    "execution": {
     "iopub.execute_input": "2022-01-09T20:10:25.559957Z",
     "iopub.status.busy": "2022-01-09T20:10:25.559442Z",
     "iopub.status.idle": "2022-01-09T20:10:25.576576Z",
     "shell.execute_reply": "2022-01-09T20:10:25.577014Z"
    },
    "papermill": {
     "duration": 0.094259,
     "end_time": "2022-01-09T20:10:25.577138",
     "exception": false,
     "start_time": "2022-01-09T20:10:25.482879",
     "status": "completed"
    },
    "tags": []
   },
   "outputs": [],
   "source": [
    "#creating the x and y ranges according to the above generated plot.\n",
    "x_range = np.linspace(-4, 1, 100) \n",
    "y_range = np.linspace(-6, 6, 100) \n",
    "x_grid, y_grid = np.meshgrid(x_range, y_range) # x_grid and y_grig are of size 100 X 100\n",
    "\n",
    "# converting x_grid and y_grid to continuous arrays\n",
    "x_gridflat = np.ravel(x_grid)\n",
    "y_gridflat = np.ravel(y_grid)\n",
    "\n",
    "# The last layer of the current model takes two columns as input. Hence transpose of np.vstack() is required.\n",
    "X = np.vstack((x_gridflat, y_gridflat)).T\n",
    "\n",
    "prob_contour = model_prob(X).reshape(100,100) "
   ]
  },
  {
   "cell_type": "code",
   "execution_count": 29,
   "id": "da72499a",
   "metadata": {
    "execution": {
     "iopub.execute_input": "2022-01-09T20:10:25.678512Z",
     "iopub.status.busy": "2022-01-09T20:10:25.677607Z",
     "iopub.status.idle": "2022-01-09T20:10:25.921693Z",
     "shell.execute_reply": "2022-01-09T20:10:25.922106Z"
    },
    "papermill": {
     "duration": 0.301405,
     "end_time": "2022-01-09T20:10:25.922251",
     "exception": false,
     "start_time": "2022-01-09T20:10:25.620846",
     "status": "completed"
    },
    "tags": []
   },
   "outputs": [
    {
     "data": {
      "image/png": "[encoded data removed]",
      "text/plain": [
       "<Figure size 720x648 with 1 Axes>"
      ]
     },
     "metadata": {
      "needs_background": "light"
     },
     "output_type": "display_data"
    }
   ],
   "source": [
    "plt.figure(figsize=(10,9))\n",
    "plt.scatter(testing_plot[:,0], testing_plot[:,1], alpha = 0.1, c = y_test.ravel())\n",
    "contours = plt.contour(x_grid,y_grid,prob_contour)\n",
    "plt.title('Probability Contours')\n",
    "plt.clabel(contours, inline = True );"
   ]
  },
  {
   "cell_type": "code",
   "execution_count": null,
   "id": "e81b4ac7",
   "metadata": {
    "papermill": {
     "duration": 0.046554,
     "end_time": "2022-01-09T20:10:26.015557",
     "exception": false,
     "start_time": "2022-01-09T20:10:25.969003",
     "status": "completed"
    },
    "tags": []
   },
   "outputs": [],
   "source": []
  }
 ],
 "metadata": {
  "kernelspec": {
   "display_name": "Python 3",
   "language": "python",
   "name": "python3"
  },
  "language_info": {
   "codemirror_mode": {
    "name": "ipython",
    "version": 3
   },
   "file_extension": ".py",
   "mimetype": "text/x-python",
   "name": "python",
   "nbconvert_exporter": "python",
   "pygments_lexer": "ipython3",
   "version": "3.6.15"
  },
  "papermill": {
   "default_parameters": {},
   "duration": 97.22129,
   "end_time": "2022-01-09T20:10:26.470080",
   "environment_variables": {},
   "exception": null,
   "input_path": "2020-08-11-part2.ipynb",
   "output_path": "2020-08-11-part2.ipynb",
   "parameters": {},
   "start_time": "2022-01-09T20:08:49.248790",
   "version": "2.3.3"
  }
 },
 "nbformat": 4,
 "nbformat_minor": 5
}