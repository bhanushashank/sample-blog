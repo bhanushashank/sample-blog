{
 "cells": [
  {
   "cell_type": "markdown",
   "id": "98380cd3",
   "metadata": {
    "papermill": {
     "duration": 0.028321,
     "end_time": "2021-12-11T10:08:02.297720",
     "exception": false,
     "start_time": "2021-12-11T10:08:02.269399",
     "status": "completed"
    },
    "tags": []
   },
   "source": [
    "# Distinguish Your Own Digits (DYOD)"
   ]
  },
  {
   "cell_type": "markdown",
   "id": "ef31240d",
   "metadata": {
    "papermill": {
     "duration": 0.023502,
     "end_time": "2021-12-11T10:08:02.345444",
     "exception": false,
     "start_time": "2021-12-11T10:08:02.321942",
     "status": "completed"
    },
    "tags": []
   },
   "source": [
    "You are going to write a classifier that distinguishes between the number 3 and number 8."
   ]
  },
  {
   "cell_type": "code",
   "execution_count": 1,
   "id": "b15c8646",
   "metadata": {
    "execution": {
     "iopub.execute_input": "2021-12-11T10:08:02.403851Z",
     "iopub.status.busy": "2021-12-11T10:08:02.401265Z",
     "iopub.status.idle": "2021-12-11T10:08:02.414115Z",
     "shell.execute_reply": "2021-12-11T10:08:02.413694Z"
    },
    "papermill": {
     "duration": 0.045399,
     "end_time": "2021-12-11T10:08:02.414250",
     "exception": false,
     "start_time": "2021-12-11T10:08:02.368851",
     "status": "completed"
    },
    "tags": []
   },
   "outputs": [],
   "source": [
    "%load_ext autoreload\n",
    "%autoreload 2"
   ]
  },
  {
   "cell_type": "code",
   "execution_count": 2,
   "id": "22ef38dc",
   "metadata": {
    "execution": {
     "iopub.execute_input": "2021-12-11T10:08:02.468166Z",
     "iopub.status.busy": "2021-12-11T10:08:02.467649Z",
     "iopub.status.idle": "2021-12-11T10:08:03.040613Z",
     "shell.execute_reply": "2021-12-11T10:08:03.040069Z"
    },
    "papermill": {
     "duration": 0.60301,
     "end_time": "2021-12-11T10:08:03.040763",
     "exception": false,
     "start_time": "2021-12-11T10:08:02.437753",
     "status": "completed"
    },
    "tags": []
   },
   "outputs": [],
   "source": [
    "%matplotlib inline\n",
    "import numpy as np\n",
    "import matplotlib.pyplot as plt\n",
    "import pandas as pd"
   ]
  },
  {
   "cell_type": "markdown",
   "id": "ba036198",
   "metadata": {
    "papermill": {
     "duration": 0.02366,
     "end_time": "2021-12-11T10:08:03.088879",
     "exception": false,
     "start_time": "2021-12-11T10:08:03.065219",
     "status": "completed"
    },
    "tags": []
   },
   "source": [
    "From the command line run `pip install mnist`. This is a library that will help you bring down the mnist dataset. If you run this from a notebook, you need to put  `!pip install mnist` in a cell by itself."
   ]
  },
  {
   "cell_type": "code",
   "execution_count": 3,
   "id": "bb6ad8a1",
   "metadata": {
    "execution": {
     "iopub.execute_input": "2021-12-11T10:08:03.152451Z",
     "iopub.status.busy": "2021-12-11T10:08:03.148291Z",
     "iopub.status.idle": "2021-12-11T10:08:05.619586Z",
     "shell.execute_reply": "2021-12-11T10:08:05.618518Z"
    },
    "papermill": {
     "duration": 2.507134,
     "end_time": "2021-12-11T10:08:05.619758",
     "exception": false,
     "start_time": "2021-12-11T10:08:03.112624",
     "status": "completed"
    },
    "tags": []
   },
   "outputs": [
    {
     "name": "stdout",
     "output_type": "stream",
     "text": [
      "Collecting mnist\r\n"
     ]
    },
    {
     "name": "stdout",
     "output_type": "stream",
     "text": [
      "  Downloading mnist-0.2.2-py2.py3-none-any.whl (3.5 kB)\r\n",
      "Requirement already satisfied: numpy in /opt/hostedtoolcache/Python/3.6.15/x64/lib/python3.6/site-packages (from mnist) (1.19.5)\r\n"
     ]
    },
    {
     "name": "stdout",
     "output_type": "stream",
     "text": [
      "Installing collected packages: mnist\r\n"
     ]
    },
    {
     "name": "stdout",
     "output_type": "stream",
     "text": [
      "Successfully installed mnist-0.2.2\r\n"
     ]
    }
   ],
   "source": [
    "!pip install mnist"
   ]
  },
  {
   "cell_type": "markdown",
   "id": "69df9c9a",
   "metadata": {
    "papermill": {
     "duration": 0.024722,
     "end_time": "2021-12-11T10:08:05.669969",
     "exception": false,
     "start_time": "2021-12-11T10:08:05.645247",
     "status": "completed"
    },
    "tags": []
   },
   "source": [
    "## Preparing the Data"
   ]
  },
  {
   "cell_type": "code",
   "execution_count": 4,
   "id": "7f69d806",
   "metadata": {
    "execution": {
     "iopub.execute_input": "2021-12-11T10:08:05.725282Z",
     "iopub.status.busy": "2021-12-11T10:08:05.722428Z",
     "iopub.status.idle": "2021-12-11T10:08:05.737263Z",
     "shell.execute_reply": "2021-12-11T10:08:05.736855Z"
    },
    "papermill": {
     "duration": 0.042776,
     "end_time": "2021-12-11T10:08:05.737370",
     "exception": false,
     "start_time": "2021-12-11T10:08:05.694594",
     "status": "completed"
    },
    "tags": []
   },
   "outputs": [],
   "source": [
    "import mnist"
   ]
  },
  {
   "cell_type": "code",
   "execution_count": 5,
   "id": "a411e44f",
   "metadata": {
    "execution": {
     "iopub.execute_input": "2021-12-11T10:08:05.800363Z",
     "iopub.status.busy": "2021-12-11T10:08:05.794219Z",
     "iopub.status.idle": "2021-12-11T10:08:06.349951Z",
     "shell.execute_reply": "2021-12-11T10:08:06.349378Z"
    },
    "papermill": {
     "duration": 0.588059,
     "end_time": "2021-12-11T10:08:06.350095",
     "exception": false,
     "start_time": "2021-12-11T10:08:05.762036",
     "status": "completed"
    },
    "tags": []
   },
   "outputs": [],
   "source": [
    "train_images = mnist.train_images()\n",
    "train_labels = mnist.train_labels()"
   ]
  },
  {
   "cell_type": "code",
   "execution_count": 6,
   "id": "dceab3a5",
   "metadata": {
    "execution": {
     "iopub.execute_input": "2021-12-11T10:08:06.416915Z",
     "iopub.status.busy": "2021-12-11T10:08:06.416395Z",
     "iopub.status.idle": "2021-12-11T10:08:06.425234Z",
     "shell.execute_reply": "2021-12-11T10:08:06.425642Z"
    },
    "papermill": {
     "duration": 0.050183,
     "end_time": "2021-12-11T10:08:06.425771",
     "exception": false,
     "start_time": "2021-12-11T10:08:06.375588",
     "status": "completed"
    },
    "tags": []
   },
   "outputs": [
    {
     "data": {
      "text/plain": [
       "((60000, 28, 28), (60000,))"
      ]
     },
     "execution_count": 6,
     "metadata": {},
     "output_type": "execute_result"
    }
   ],
   "source": [
    "train_images.shape, train_labels.shape"
   ]
  },
  {
   "cell_type": "code",
   "execution_count": 7,
   "id": "f50dc2bb",
   "metadata": {
    "execution": {
     "iopub.execute_input": "2021-12-11T10:08:06.484795Z",
     "iopub.status.busy": "2021-12-11T10:08:06.484293Z",
     "iopub.status.idle": "2021-12-11T10:08:06.618550Z",
     "shell.execute_reply": "2021-12-11T10:08:06.618024Z"
    },
    "papermill": {
     "duration": 0.168009,
     "end_time": "2021-12-11T10:08:06.618699",
     "exception": false,
     "start_time": "2021-12-11T10:08:06.450690",
     "status": "completed"
    },
    "tags": []
   },
   "outputs": [],
   "source": [
    "test_images = mnist.test_images()\n",
    "test_labels = mnist.test_labels()"
   ]
  },
  {
   "cell_type": "code",
   "execution_count": 8,
   "id": "fc38cf1b",
   "metadata": {
    "execution": {
     "iopub.execute_input": "2021-12-11T10:08:06.673542Z",
     "iopub.status.busy": "2021-12-11T10:08:06.673029Z",
     "iopub.status.idle": "2021-12-11T10:08:06.686533Z",
     "shell.execute_reply": "2021-12-11T10:08:06.686097Z"
    },
    "papermill": {
     "duration": 0.041527,
     "end_time": "2021-12-11T10:08:06.686645",
     "exception": false,
     "start_time": "2021-12-11T10:08:06.645118",
     "status": "completed"
    },
    "tags": []
   },
   "outputs": [
    {
     "data": {
      "text/plain": [
       "((10000, 28, 28), (10000,))"
      ]
     },
     "execution_count": 8,
     "metadata": {},
     "output_type": "execute_result"
    }
   ],
   "source": [
    "test_images.shape, test_labels.shape"
   ]
  },
  {
   "cell_type": "code",
   "execution_count": 9,
   "id": "f9ed8fe0",
   "metadata": {
    "execution": {
     "iopub.execute_input": "2021-12-11T10:08:06.744756Z",
     "iopub.status.busy": "2021-12-11T10:08:06.744258Z",
     "iopub.status.idle": "2021-12-11T10:08:06.878642Z",
     "shell.execute_reply": "2021-12-11T10:08:06.878208Z"
    },
    "papermill": {
     "duration": 0.167033,
     "end_time": "2021-12-11T10:08:06.878766",
     "exception": false,
     "start_time": "2021-12-11T10:08:06.711733",
     "status": "completed"
    },
    "tags": []
   },
   "outputs": [
    {
     "name": "stdout",
     "output_type": "stream",
     "text": [
      "2\n"
     ]
    },
    {
     "data": {
      "text/plain": [
       "<matplotlib.image.AxesImage at 0x7fb1680264e0>"
      ]
     },
     "execution_count": 9,
     "metadata": {},
     "output_type": "execute_result"
    },
    {
     "data": {
      "image/png": "[encoded data removed]",
      "text/plain": [
       "<Figure size 432x288 with 1 Axes>"
      ]
     },
     "metadata": {
      "needs_background": "light"
     },
     "output_type": "display_data"
    }
   ],
   "source": [
    "image_index = 7776 # You may select anything up to 60,000\n",
    "print(train_labels[image_index]) \n",
    "plt.imshow(train_images[image_index], cmap='Greys')"
   ]
  },
  {
   "cell_type": "markdown",
   "id": "a8d2388d",
   "metadata": {
    "papermill": {
     "duration": 0.026342,
     "end_time": "2021-12-11T10:08:06.931683",
     "exception": false,
     "start_time": "2021-12-11T10:08:06.905341",
     "status": "completed"
    },
    "tags": []
   },
   "source": [
    "## Filter data to get 3 and 8 out"
   ]
  },
  {
   "cell_type": "code",
   "execution_count": 10,
   "id": "776f7fc7",
   "metadata": {
    "execution": {
     "iopub.execute_input": "2021-12-11T10:08:06.988912Z",
     "iopub.status.busy": "2021-12-11T10:08:06.988382Z",
     "iopub.status.idle": "2021-12-11T10:08:07.007669Z",
     "shell.execute_reply": "2021-12-11T10:08:07.008109Z"
    },
    "papermill": {
     "duration": 0.050297,
     "end_time": "2021-12-11T10:08:07.008251",
     "exception": false,
     "start_time": "2021-12-11T10:08:06.957954",
     "status": "completed"
    },
    "tags": []
   },
   "outputs": [],
   "source": [
    "train_filter = np.where((train_labels == 3 ) | (train_labels == 8))\n",
    "test_filter = np.where((test_labels == 3) | (test_labels == 8))\n",
    "X_train, y_train = train_images[train_filter], train_labels[train_filter]\n",
    "X_test, y_test = test_images[test_filter], test_labels[test_filter]"
   ]
  },
  {
   "cell_type": "markdown",
   "id": "948f0b7e",
   "metadata": {
    "papermill": {
     "duration": 0.026445,
     "end_time": "2021-12-11T10:08:07.061141",
     "exception": false,
     "start_time": "2021-12-11T10:08:07.034696",
     "status": "completed"
    },
    "tags": []
   },
   "source": [
    "We normalize the pizel values in the 0 to 1 range"
   ]
  },
  {
   "cell_type": "code",
   "execution_count": 11,
   "id": "ee4c2166",
   "metadata": {
    "execution": {
     "iopub.execute_input": "2021-12-11T10:08:07.117332Z",
     "iopub.status.busy": "2021-12-11T10:08:07.116822Z",
     "iopub.status.idle": "2021-12-11T10:08:07.165716Z",
     "shell.execute_reply": "2021-12-11T10:08:07.166180Z"
    },
    "papermill": {
     "duration": 0.078917,
     "end_time": "2021-12-11T10:08:07.166353",
     "exception": false,
     "start_time": "2021-12-11T10:08:07.087436",
     "status": "completed"
    },
    "tags": []
   },
   "outputs": [],
   "source": [
    "X_train = X_train/255.\n",
    "X_test = X_test/255."
   ]
  },
  {
   "cell_type": "markdown",
   "id": "ddcf4fab",
   "metadata": {
    "papermill": {
     "duration": 0.026257,
     "end_time": "2021-12-11T10:08:07.220254",
     "exception": false,
     "start_time": "2021-12-11T10:08:07.193997",
     "status": "completed"
    },
    "tags": []
   },
   "source": [
    "And setup the labels as 1 (when the digit is 3) and 0 (when the digit is 8)"
   ]
  },
  {
   "cell_type": "code",
   "execution_count": 12,
   "id": "7dc908f2",
   "metadata": {
    "execution": {
     "iopub.execute_input": "2021-12-11T10:08:07.280323Z",
     "iopub.status.busy": "2021-12-11T10:08:07.279784Z",
     "iopub.status.idle": "2021-12-11T10:08:07.289371Z",
     "shell.execute_reply": "2021-12-11T10:08:07.289776Z"
    },
    "papermill": {
     "duration": 0.043437,
     "end_time": "2021-12-11T10:08:07.289909",
     "exception": false,
     "start_time": "2021-12-11T10:08:07.246472",
     "status": "completed"
    },
    "tags": []
   },
   "outputs": [],
   "source": [
    "y_train = 1*(y_train==3)\n",
    "y_test = 1*(y_test==3)"
   ]
  },
  {
   "cell_type": "code",
   "execution_count": 13,
   "id": "01e4e969",
   "metadata": {
    "execution": {
     "iopub.execute_input": "2021-12-11T10:08:07.345433Z",
     "iopub.status.busy": "2021-12-11T10:08:07.344938Z",
     "iopub.status.idle": "2021-12-11T10:08:07.357971Z",
     "shell.execute_reply": "2021-12-11T10:08:07.357569Z"
    },
    "papermill": {
     "duration": 0.042047,
     "end_time": "2021-12-11T10:08:07.358080",
     "exception": false,
     "start_time": "2021-12-11T10:08:07.316033",
     "status": "completed"
    },
    "tags": []
   },
   "outputs": [
    {
     "data": {
      "text/plain": [
       "((11982, 28, 28), (1984, 28, 28))"
      ]
     },
     "execution_count": 13,
     "metadata": {},
     "output_type": "execute_result"
    }
   ],
   "source": [
    "X_train.shape, X_test.shape"
   ]
  },
  {
   "cell_type": "markdown",
   "id": "5ccf3f85",
   "metadata": {
    "papermill": {
     "duration": 0.027628,
     "end_time": "2021-12-11T10:08:07.412361",
     "exception": false,
     "start_time": "2021-12-11T10:08:07.384733",
     "status": "completed"
    },
    "tags": []
   },
   "source": [
    "We reshape the data to flatten the image pixels into a set of features or co-variates:"
   ]
  },
  {
   "cell_type": "code",
   "execution_count": 14,
   "id": "5286a4a3",
   "metadata": {
    "execution": {
     "iopub.execute_input": "2021-12-11T10:08:07.470194Z",
     "iopub.status.busy": "2021-12-11T10:08:07.469688Z",
     "iopub.status.idle": "2021-12-11T10:08:07.482144Z",
     "shell.execute_reply": "2021-12-11T10:08:07.481716Z"
    },
    "papermill": {
     "duration": 0.042308,
     "end_time": "2021-12-11T10:08:07.482247",
     "exception": false,
     "start_time": "2021-12-11T10:08:07.439939",
     "status": "completed"
    },
    "tags": []
   },
   "outputs": [
    {
     "data": {
      "text/plain": [
       "((11982, 784), (1984, 784))"
      ]
     },
     "execution_count": 14,
     "metadata": {},
     "output_type": "execute_result"
    }
   ],
   "source": [
    "X_train = X_train.reshape(X_train.shape[0], -1)\n",
    "X_test = X_test.reshape(X_test.shape[0], -1)\n",
    "X_train.shape, X_test.shape"
   ]
  },
  {
   "cell_type": "code",
   "execution_count": 15,
   "id": "73c5f88a",
   "metadata": {
    "execution": {
     "iopub.execute_input": "2021-12-11T10:08:07.540110Z",
     "iopub.status.busy": "2021-12-11T10:08:07.539569Z",
     "iopub.status.idle": "2021-12-11T10:08:07.557296Z",
     "shell.execute_reply": "2021-12-11T10:08:07.556890Z"
    },
    "papermill": {
     "duration": 0.048472,
     "end_time": "2021-12-11T10:08:07.557402",
     "exception": false,
     "start_time": "2021-12-11T10:08:07.508930",
     "status": "completed"
    },
    "tags": []
   },
   "outputs": [],
   "source": [
    "#Impoting functions from 'Kudzu'\n",
    "from kudzu.model import Model\n",
    "from kudzu.train import Learner\n",
    "from kudzu.optim import GD\n",
    "from kudzu.data import Data, Sampler,Dataloader\n",
    "\n",
    "from kudzu.callbacks import AccCallback\n",
    "from kudzu.callbacks import ClfCallback\n",
    "\n",
    "from kudzu.loss import MSE\n",
    "\n",
    "from kudzu.layer import Sigmoid,Relu\n",
    "from kudzu.layer import Affine"
   ]
  },
  {
   "cell_type": "markdown",
   "id": "bc01172a",
   "metadata": {
    "papermill": {
     "duration": 0.026713,
     "end_time": "2021-12-11T10:08:07.610918",
     "exception": false,
     "start_time": "2021-12-11T10:08:07.584205",
     "status": "completed"
    },
    "tags": []
   },
   "source": [
    "### Let us create a `Config` class, to store important parameters. \n",
    "This class essentially plays the role of a dictionary."
   ]
  },
  {
   "cell_type": "code",
   "execution_count": 16,
   "id": "978281aa",
   "metadata": {
    "execution": {
     "iopub.execute_input": "2021-12-11T10:08:07.668398Z",
     "iopub.status.busy": "2021-12-11T10:08:07.667878Z",
     "iopub.status.idle": "2021-12-11T10:08:07.680755Z",
     "shell.execute_reply": "2021-12-11T10:08:07.680339Z"
    },
    "papermill": {
     "duration": 0.04317,
     "end_time": "2021-12-11T10:08:07.680864",
     "exception": false,
     "start_time": "2021-12-11T10:08:07.637694",
     "status": "completed"
    },
    "tags": []
   },
   "outputs": [],
   "source": [
    "class Config:\n",
    "    pass\n",
    "config = Config()\n",
    "config.lr = 0.001\n",
    "config.num_epochs = 250\n",
    "config.bs = 50"
   ]
  },
  {
   "cell_type": "markdown",
   "id": "1385fa59",
   "metadata": {
    "papermill": {
     "duration": 0.02659,
     "end_time": "2021-12-11T10:08:07.734104",
     "exception": false,
     "start_time": "2021-12-11T10:08:07.707514",
     "status": "completed"
    },
    "tags": []
   },
   "source": [
    "### Running Models with the Training data\n",
    "Details about the network layers:\n",
    "- A first affine layer has 784 inputs and does 100 affine transforms. These are followed by a Relu\n",
    "- A second affine layer has 100 inputs from the 100 activations of the past layer, and does 100 affine transforms. These are followed by a Relu\n",
    "- A third affine layer has 100 activations and does 2 affine transformations to create an embedding for visualization. There is no non-linearity here.\n",
    "- A final \"logistic regression\" which has an affine transform from 2 inputs to 1 output, which is squeezed through a sigmoid.\n"
   ]
  },
  {
   "cell_type": "code",
   "execution_count": 17,
   "id": "2b9c66db",
   "metadata": {
    "execution": {
     "iopub.execute_input": "2021-12-11T10:08:07.794590Z",
     "iopub.status.busy": "2021-12-11T10:08:07.794078Z",
     "iopub.status.idle": "2021-12-11T10:08:07.804121Z",
     "shell.execute_reply": "2021-12-11T10:08:07.803686Z"
    },
    "papermill": {
     "duration": 0.043421,
     "end_time": "2021-12-11T10:08:07.804223",
     "exception": false,
     "start_time": "2021-12-11T10:08:07.760802",
     "status": "completed"
    },
    "tags": []
   },
   "outputs": [],
   "source": [
    "data = Data(X_train, y_train.reshape(-1,1))\n",
    "sampler = Sampler(data, config.bs, shuffle=True)\n",
    "\n",
    "dl = Dataloader(data, sampler)\n",
    "\n",
    "opt = GD(config.lr)\n",
    "loss = MSE()"
   ]
  },
  {
   "cell_type": "code",
   "execution_count": 18,
   "id": "b275e4c2",
   "metadata": {
    "execution": {
     "iopub.execute_input": "2021-12-11T10:08:07.864752Z",
     "iopub.status.busy": "2021-12-11T10:08:07.864249Z",
     "iopub.status.idle": "2021-12-11T10:08:07.874788Z",
     "shell.execute_reply": "2021-12-11T10:08:07.874382Z"
    },
    "papermill": {
     "duration": 0.043937,
     "end_time": "2021-12-11T10:08:07.874894",
     "exception": false,
     "start_time": "2021-12-11T10:08:07.830957",
     "status": "completed"
    },
    "tags": []
   },
   "outputs": [],
   "source": [
    "training_data_x = X_train\n",
    "testing_data_x = X_test\n",
    "training_data_y = y_train.reshape(-1,1)\n",
    "testing_data_y = y_test.reshape(-1,1)"
   ]
  },
  {
   "cell_type": "code",
   "execution_count": 19,
   "id": "76951160",
   "metadata": {
    "execution": {
     "iopub.execute_input": "2021-12-11T10:08:07.934174Z",
     "iopub.status.busy": "2021-12-11T10:08:07.933662Z",
     "iopub.status.idle": "2021-12-11T10:08:07.948415Z",
     "shell.execute_reply": "2021-12-11T10:08:07.947984Z"
    },
    "papermill": {
     "duration": 0.046963,
     "end_time": "2021-12-11T10:08:07.948519",
     "exception": false,
     "start_time": "2021-12-11T10:08:07.901556",
     "status": "completed"
    },
    "tags": []
   },
   "outputs": [
    {
     "name": "stdout",
     "output_type": "stream",
     "text": [
      "xavier\n",
      "xavier\n",
      "xavier\n",
      "xavier\n",
      "xavier\n"
     ]
    }
   ],
   "source": [
    "layers = [Affine(\"first\", 784, 100), Relu(\"first\"), Affine(\"second\", 100, 100), Relu(\"second\"), Affine(\"third\", 100, 2), Affine(\"last\", 2, 1), Sigmoid(\"last\")]\n",
    "model_nn = Model(layers)\n",
    "model_lr = Model([Affine(\"logits\", 784, 1), Sigmoid(\"sigmoid\")])"
   ]
  },
  {
   "cell_type": "code",
   "execution_count": 20,
   "id": "6eede77a",
   "metadata": {
    "execution": {
     "iopub.execute_input": "2021-12-11T10:08:08.006004Z",
     "iopub.status.busy": "2021-12-11T10:08:08.005504Z",
     "iopub.status.idle": "2021-12-11T10:08:08.017452Z",
     "shell.execute_reply": "2021-12-11T10:08:08.017028Z"
    },
    "papermill": {
     "duration": 0.04176,
     "end_time": "2021-12-11T10:08:08.017552",
     "exception": false,
     "start_time": "2021-12-11T10:08:07.975792",
     "status": "completed"
    },
    "tags": []
   },
   "outputs": [],
   "source": [
    "nn_learner = Learner(loss, model_nn, opt, config.num_epochs)\n",
    "acc_nn = ClfCallback(nn_learner, config.bs, training_data_x , testing_data_x, training_data_y, testing_data_y)\n",
    "nn_learner.set_callbacks([acc_nn])"
   ]
  },
  {
   "cell_type": "code",
   "execution_count": 21,
   "id": "877b6cc7",
   "metadata": {
    "execution": {
     "iopub.execute_input": "2021-12-11T10:08:08.077763Z",
     "iopub.status.busy": "2021-12-11T10:08:08.077264Z",
     "iopub.status.idle": "2021-12-11T10:08:08.086702Z",
     "shell.execute_reply": "2021-12-11T10:08:08.087079Z"
    },
    "papermill": {
     "duration": 0.042742,
     "end_time": "2021-12-11T10:08:08.087196",
     "exception": false,
     "start_time": "2021-12-11T10:08:08.044454",
     "status": "completed"
    },
    "tags": []
   },
   "outputs": [],
   "source": [
    "lr_learner = Learner(loss, model_lr, opt, config.num_epochs)\n",
    "acc_lr = ClfCallback(lr_learner, config.bs, training_data_x , testing_data_x, training_data_y, testing_data_y)\n",
    "lr_learner.set_callbacks([acc_lr])"
   ]
  },
  {
   "cell_type": "code",
   "execution_count": 22,
   "id": "d9b133c3",
   "metadata": {
    "execution": {
     "iopub.execute_input": "2021-12-11T10:08:08.144776Z",
     "iopub.status.busy": "2021-12-11T10:08:08.144276Z",
     "iopub.status.idle": "2021-12-11T10:09:22.716996Z",
     "shell.execute_reply": "2021-12-11T10:09:22.717788Z"
    },
    "papermill": {
     "duration": 74.603729,
     "end_time": "2021-12-11T10:09:22.717952",
     "exception": false,
     "start_time": "2021-12-11T10:08:08.114223",
     "status": "completed"
    },
    "tags": []
   },
   "outputs": [
    {
     "name": "stdout",
     "output_type": "stream",
     "text": [
      "Epoch 0, Loss 0.2452\n",
      "Training Accuracy: 0.6945, Testing Accuracy: 0.7172\n",
      "\n"
     ]
    },
    {
     "name": "stdout",
     "output_type": "stream",
     "text": [
      "Epoch 10, Loss 0.1712\n",
      "Training Accuracy: 0.9000, Testing Accuracy: 0.9057\n",
      "\n"
     ]
    },
    {
     "name": "stdout",
     "output_type": "stream",
     "text": [
      "Epoch 20, Loss 0.0844\n",
      "Training Accuracy: 0.9240, Testing Accuracy: 0.9294\n",
      "\n"
     ]
    },
    {
     "name": "stdout",
     "output_type": "stream",
     "text": [
      "Epoch 30, Loss 0.0569\n",
      "Training Accuracy: 0.9407, Testing Accuracy: 0.9471\n",
      "\n"
     ]
    },
    {
     "name": "stdout",
     "output_type": "stream",
     "text": [
      "Epoch 40, Loss 0.0457\n",
      "Training Accuracy: 0.9503, Testing Accuracy: 0.9567\n",
      "\n"
     ]
    },
    {
     "name": "stdout",
     "output_type": "stream",
     "text": [
      "Epoch 50, Loss 0.0399\n",
      "Training Accuracy: 0.9555, Testing Accuracy: 0.9607\n",
      "\n"
     ]
    },
    {
     "name": "stdout",
     "output_type": "stream",
     "text": [
      "Epoch 60, Loss 0.0364\n",
      "Training Accuracy: 0.9576, Testing Accuracy: 0.9622\n",
      "\n"
     ]
    },
    {
     "name": "stdout",
     "output_type": "stream",
     "text": [
      "Epoch 70, Loss 0.0339\n",
      "Training Accuracy: 0.9599, Testing Accuracy: 0.9657\n",
      "\n"
     ]
    },
    {
     "name": "stdout",
     "output_type": "stream",
     "text": [
      "Epoch 80, Loss 0.032\n",
      "Training Accuracy: 0.9622, Testing Accuracy: 0.9662\n",
      "\n"
     ]
    },
    {
     "name": "stdout",
     "output_type": "stream",
     "text": [
      "Epoch 90, Loss 0.0306\n",
      "Training Accuracy: 0.9640, Testing Accuracy: 0.9647\n",
      "\n"
     ]
    },
    {
     "name": "stdout",
     "output_type": "stream",
     "text": [
      "Epoch 100, Loss 0.0294\n",
      "Training Accuracy: 0.9659, Testing Accuracy: 0.9652\n",
      "\n"
     ]
    },
    {
     "name": "stdout",
     "output_type": "stream",
     "text": [
      "Epoch 110, Loss 0.0284\n",
      "Training Accuracy: 0.9672, Testing Accuracy: 0.9662\n",
      "\n"
     ]
    },
    {
     "name": "stdout",
     "output_type": "stream",
     "text": [
      "Epoch 120, Loss 0.0275\n",
      "Training Accuracy: 0.9681, Testing Accuracy: 0.9677\n",
      "\n"
     ]
    },
    {
     "name": "stdout",
     "output_type": "stream",
     "text": [
      "Epoch 130, Loss 0.0267\n",
      "Training Accuracy: 0.9690, Testing Accuracy: 0.9698\n",
      "\n"
     ]
    },
    {
     "name": "stdout",
     "output_type": "stream",
     "text": [
      "Epoch 140, Loss 0.0261\n",
      "Training Accuracy: 0.9695, Testing Accuracy: 0.9703\n",
      "\n"
     ]
    },
    {
     "name": "stdout",
     "output_type": "stream",
     "text": [
      "Epoch 150, Loss 0.0254\n",
      "Training Accuracy: 0.9702, Testing Accuracy: 0.9703\n",
      "\n"
     ]
    },
    {
     "name": "stdout",
     "output_type": "stream",
     "text": [
      "Epoch 160, Loss 0.0249\n",
      "Training Accuracy: 0.9705, Testing Accuracy: 0.9708\n",
      "\n"
     ]
    },
    {
     "name": "stdout",
     "output_type": "stream",
     "text": [
      "Epoch 170, Loss 0.0244\n",
      "Training Accuracy: 0.9710, Testing Accuracy: 0.9708\n",
      "\n"
     ]
    },
    {
     "name": "stdout",
     "output_type": "stream",
     "text": [
      "Epoch 180, Loss 0.0239\n",
      "Training Accuracy: 0.9720, Testing Accuracy: 0.9698\n",
      "\n"
     ]
    },
    {
     "name": "stdout",
     "output_type": "stream",
     "text": [
      "Epoch 190, Loss 0.0234\n",
      "Training Accuracy: 0.9725, Testing Accuracy: 0.9703\n",
      "\n"
     ]
    },
    {
     "name": "stdout",
     "output_type": "stream",
     "text": [
      "Epoch 200, Loss 0.023\n",
      "Training Accuracy: 0.9733, Testing Accuracy: 0.9703\n",
      "\n"
     ]
    },
    {
     "name": "stdout",
     "output_type": "stream",
     "text": [
      "Epoch 210, Loss 0.0226\n",
      "Training Accuracy: 0.9737, Testing Accuracy: 0.9703\n",
      "\n"
     ]
    },
    {
     "name": "stdout",
     "output_type": "stream",
     "text": [
      "Epoch 220, Loss 0.0222\n",
      "Training Accuracy: 0.9744, Testing Accuracy: 0.9708\n",
      "\n"
     ]
    },
    {
     "name": "stdout",
     "output_type": "stream",
     "text": [
      "Epoch 230, Loss 0.0218\n",
      "Training Accuracy: 0.9752, Testing Accuracy: 0.9708\n",
      "\n"
     ]
    },
    {
     "name": "stdout",
     "output_type": "stream",
     "text": [
      "Epoch 240, Loss 0.0215\n",
      "Training Accuracy: 0.9758, Testing Accuracy: 0.9713\n",
      "\n"
     ]
    },
    {
     "data": {
      "text/plain": [
       "0.009727772067385017"
      ]
     },
     "execution_count": 22,
     "metadata": {},
     "output_type": "execute_result"
    }
   ],
   "source": [
    "nn_learner.train_loop(dl)"
   ]
  },
  {
   "cell_type": "code",
   "execution_count": 23,
   "id": "e0163366",
   "metadata": {
    "execution": {
     "iopub.execute_input": "2021-12-11T10:09:22.798908Z",
     "iopub.status.busy": "2021-12-11T10:09:22.798397Z",
     "iopub.status.idle": "2021-12-11T10:09:36.284660Z",
     "shell.execute_reply": "2021-12-11T10:09:36.285398Z"
    },
    "papermill": {
     "duration": 13.532574,
     "end_time": "2021-12-11T10:09:36.285554",
     "exception": false,
     "start_time": "2021-12-11T10:09:22.752980",
     "status": "completed"
    },
    "tags": []
   },
   "outputs": [
    {
     "name": "stdout",
     "output_type": "stream",
     "text": [
      "Epoch 0, Loss 0.2217\n",
      "Training Accuracy: 0.7805, Testing Accuracy: 0.7898\n",
      "\n"
     ]
    },
    {
     "name": "stdout",
     "output_type": "stream",
     "text": [
      "Epoch 10, Loss 0.0999\n",
      "Training Accuracy: 0.9142, Testing Accuracy: 0.9189\n",
      "\n"
     ]
    },
    {
     "name": "stdout",
     "output_type": "stream",
     "text": [
      "Epoch 20, Loss 0.0777\n",
      "Training Accuracy: 0.9298, Testing Accuracy: 0.9370\n",
      "\n"
     ]
    },
    {
     "name": "stdout",
     "output_type": "stream",
     "text": [
      "Epoch 30, Loss 0.0673\n",
      "Training Accuracy: 0.9375, Testing Accuracy: 0.9456\n",
      "\n"
     ]
    },
    {
     "name": "stdout",
     "output_type": "stream",
     "text": [
      "Epoch 40, Loss 0.0609\n",
      "Training Accuracy: 0.9417, Testing Accuracy: 0.9511\n",
      "\n"
     ]
    },
    {
     "name": "stdout",
     "output_type": "stream",
     "text": [
      "Epoch 50, Loss 0.0565\n",
      "Training Accuracy: 0.9450, Testing Accuracy: 0.9541\n",
      "\n"
     ]
    },
    {
     "name": "stdout",
     "output_type": "stream",
     "text": [
      "Epoch 60, Loss 0.0533\n",
      "Training Accuracy: 0.9481, Testing Accuracy: 0.9572\n",
      "\n"
     ]
    },
    {
     "name": "stdout",
     "output_type": "stream",
     "text": [
      "Epoch 70, Loss 0.0508\n",
      "Training Accuracy: 0.9502, Testing Accuracy: 0.9592\n",
      "\n"
     ]
    },
    {
     "name": "stdout",
     "output_type": "stream",
     "text": [
      "Epoch 80, Loss 0.0488\n",
      "Training Accuracy: 0.9512, Testing Accuracy: 0.9607\n",
      "\n"
     ]
    },
    {
     "name": "stdout",
     "output_type": "stream",
     "text": [
      "Epoch 90, Loss 0.0472\n",
      "Training Accuracy: 0.9520, Testing Accuracy: 0.9612\n",
      "\n"
     ]
    },
    {
     "name": "stdout",
     "output_type": "stream",
     "text": [
      "Epoch 100, Loss 0.0458\n",
      "Training Accuracy: 0.9530, Testing Accuracy: 0.9617\n",
      "\n"
     ]
    },
    {
     "name": "stdout",
     "output_type": "stream",
     "text": [
      "Epoch 110, Loss 0.0446\n",
      "Training Accuracy: 0.9542, Testing Accuracy: 0.9622\n",
      "\n"
     ]
    },
    {
     "name": "stdout",
     "output_type": "stream",
     "text": [
      "Epoch 120, Loss 0.0435\n",
      "Training Accuracy: 0.9548, Testing Accuracy: 0.9627\n",
      "\n"
     ]
    },
    {
     "name": "stdout",
     "output_type": "stream",
     "text": [
      "Epoch 130, Loss 0.0426\n",
      "Training Accuracy: 0.9553, Testing Accuracy: 0.9637\n",
      "\n"
     ]
    },
    {
     "name": "stdout",
     "output_type": "stream",
     "text": [
      "Epoch 140, Loss 0.0418\n",
      "Training Accuracy: 0.9564, Testing Accuracy: 0.9642\n",
      "\n"
     ]
    },
    {
     "name": "stdout",
     "output_type": "stream",
     "text": [
      "Epoch 150, Loss 0.0411\n",
      "Training Accuracy: 0.9569, Testing Accuracy: 0.9647\n",
      "\n"
     ]
    },
    {
     "name": "stdout",
     "output_type": "stream",
     "text": [
      "Epoch 160, Loss 0.0404\n",
      "Training Accuracy: 0.9578, Testing Accuracy: 0.9652\n",
      "\n"
     ]
    },
    {
     "name": "stdout",
     "output_type": "stream",
     "text": [
      "Epoch 170, Loss 0.0398\n",
      "Training Accuracy: 0.9588, Testing Accuracy: 0.9657\n",
      "\n"
     ]
    },
    {
     "name": "stdout",
     "output_type": "stream",
     "text": [
      "Epoch 180, Loss 0.0392\n",
      "Training Accuracy: 0.9591, Testing Accuracy: 0.9662\n",
      "\n"
     ]
    },
    {
     "name": "stdout",
     "output_type": "stream",
     "text": [
      "Epoch 190, Loss 0.0387\n",
      "Training Accuracy: 0.9597, Testing Accuracy: 0.9667\n",
      "\n"
     ]
    },
    {
     "name": "stdout",
     "output_type": "stream",
     "text": [
      "Epoch 200, Loss 0.0383\n",
      "Training Accuracy: 0.9602, Testing Accuracy: 0.9672\n",
      "\n"
     ]
    },
    {
     "name": "stdout",
     "output_type": "stream",
     "text": [
      "Epoch 210, Loss 0.0378\n",
      "Training Accuracy: 0.9604, Testing Accuracy: 0.9672\n",
      "\n"
     ]
    },
    {
     "name": "stdout",
     "output_type": "stream",
     "text": [
      "Epoch 220, Loss 0.0374\n",
      "Training Accuracy: 0.9606, Testing Accuracy: 0.9662\n",
      "\n"
     ]
    },
    {
     "name": "stdout",
     "output_type": "stream",
     "text": [
      "Epoch 230, Loss 0.037\n",
      "Training Accuracy: 0.9609, Testing Accuracy: 0.9657\n",
      "\n"
     ]
    },
    {
     "name": "stdout",
     "output_type": "stream",
     "text": [
      "Epoch 240, Loss 0.0367\n",
      "Training Accuracy: 0.9616, Testing Accuracy: 0.9657\n",
      "\n"
     ]
    },
    {
     "data": {
      "text/plain": [
       "0.010646349111977493"
      ]
     },
     "execution_count": 23,
     "metadata": {},
     "output_type": "execute_result"
    }
   ],
   "source": [
    "lr_learner.train_loop(dl)"
   ]
  },
  {
   "cell_type": "code",
   "execution_count": 24,
   "id": "ca410940",
   "metadata": {
    "execution": {
     "iopub.execute_input": "2021-12-11T10:09:36.380954Z",
     "iopub.status.busy": "2021-12-11T10:09:36.380432Z",
     "iopub.status.idle": "2021-12-11T10:09:36.597776Z",
     "shell.execute_reply": "2021-12-11T10:09:36.598338Z"
    },
    "papermill": {
     "duration": 0.271958,
     "end_time": "2021-12-11T10:09:36.598508",
     "exception": false,
     "start_time": "2021-12-11T10:09:36.326550",
     "status": "completed"
    },
    "tags": []
   },
   "outputs": [
    {
     "data": {
      "text/plain": [
       "<matplotlib.legend.Legend at 0x7fb167c01c88>"
      ]
     },
     "execution_count": 24,
     "metadata": {},
     "output_type": "execute_result"
    },
    {
     "data": {
      "image/png": "[encoded data removed]",
      "text/plain": [
       "<Figure size 1080x720 with 1 Axes>"
      ]
     },
     "metadata": {
      "needs_background": "light"
     },
     "output_type": "display_data"
    }
   ],
   "source": [
    "#comparing the results of NN and LR\n",
    "plt.figure(figsize=(15,10))\n",
    "\n",
    "# Neural Network plots\n",
    "plt.plot(acc_nn.accuracies, 'r-', label = \"Training Accuracies - NN\")\n",
    "plt.plot(acc_nn.test_accuracies, 'g-', label = \"Testing Accuracies - NN\")\n",
    "\n",
    "# Logistic Regression plots\n",
    "plt.plot(acc_lr.accuracies, 'k-', label = \"Training Accuracies - LR\")\n",
    "plt.plot(acc_lr.test_accuracies, 'b-', label = \"Testing Accuracies - LR\")\n",
    "plt.legend()"
   ]
  },
  {
   "cell_type": "markdown",
   "id": "80dfb35c",
   "metadata": {
    "papermill": {
     "duration": 0.041822,
     "end_time": "2021-12-11T10:09:36.682671",
     "exception": false,
     "start_time": "2021-12-11T10:09:36.640849",
     "status": "completed"
    },
    "tags": []
   },
   "source": [
    "#### Plotting the outputs of this layer of the NN.\n"
   ]
  },
  {
   "cell_type": "code",
   "execution_count": 25,
   "id": "45eb2ff5",
   "metadata": {
    "execution": {
     "iopub.execute_input": "2021-12-11T10:09:36.770582Z",
     "iopub.status.busy": "2021-12-11T10:09:36.770053Z",
     "iopub.status.idle": "2021-12-11T10:09:36.790109Z",
     "shell.execute_reply": "2021-12-11T10:09:36.790500Z"
    },
    "papermill": {
     "duration": 0.06593,
     "end_time": "2021-12-11T10:09:36.790643",
     "exception": false,
     "start_time": "2021-12-11T10:09:36.724713",
     "status": "completed"
    },
    "tags": []
   },
   "outputs": [],
   "source": [
    "new_model = Model(layers[:-2])\n",
    "testing_plot = new_model(testing_data_x)"
   ]
  },
  {
   "cell_type": "code",
   "execution_count": 26,
   "id": "4c0a5485",
   "metadata": {
    "execution": {
     "iopub.execute_input": "2021-12-11T10:09:36.881345Z",
     "iopub.status.busy": "2021-12-11T10:09:36.879315Z",
     "iopub.status.idle": "2021-12-11T10:09:37.085962Z",
     "shell.execute_reply": "2021-12-11T10:09:37.086361Z"
    },
    "papermill": {
     "duration": 0.25393,
     "end_time": "2021-12-11T10:09:37.086512",
     "exception": false,
     "start_time": "2021-12-11T10:09:36.832582",
     "status": "completed"
    },
    "tags": []
   },
   "outputs": [
    {
     "data": {
      "text/plain": [
       "Text(0.5, 1.0, 'Outputs')"
      ]
     },
     "execution_count": 26,
     "metadata": {},
     "output_type": "execute_result"
    },
    {
     "data": {
      "image/png": "[encoded data removed]",
      "text/plain": [
       "<Figure size 576x504 with 1 Axes>"
      ]
     },
     "metadata": {
      "needs_background": "light"
     },
     "output_type": "display_data"
    }
   ],
   "source": [
    "# Plotting the scatter plot of points and color coding by class\n",
    "plt.figure(figsize=(8,7))\n",
    "plt.scatter(testing_plot[:,0], testing_plot[:,1], alpha = 0.1, c = y_test.ravel());\n",
    "plt.title('Outputs')"
   ]
  },
  {
   "cell_type": "markdown",
   "id": "a74fcf8f",
   "metadata": {
    "papermill": {
     "duration": 0.044353,
     "end_time": "2021-12-11T10:09:37.175507",
     "exception": false,
     "start_time": "2021-12-11T10:09:37.131154",
     "status": "completed"
    },
    "tags": []
   },
   "source": [
    "Probability contours"
   ]
  },
  {
   "cell_type": "code",
   "execution_count": 27,
   "id": "d0afc8e3",
   "metadata": {
    "execution": {
     "iopub.execute_input": "2021-12-11T10:09:37.267915Z",
     "iopub.status.busy": "2021-12-11T10:09:37.267357Z",
     "iopub.status.idle": "2021-12-11T10:09:37.279576Z",
     "shell.execute_reply": "2021-12-11T10:09:37.280026Z"
    },
    "papermill": {
     "duration": 0.060312,
     "end_time": "2021-12-11T10:09:37.280160",
     "exception": false,
     "start_time": "2021-12-11T10:09:37.219848",
     "status": "completed"
    },
    "tags": []
   },
   "outputs": [],
   "source": [
    "model_prob = Model(layers[-2:]) "
   ]
  },
  {
   "cell_type": "code",
   "execution_count": 28,
   "id": "9b96e238",
   "metadata": {
    "execution": {
     "iopub.execute_input": "2021-12-11T10:09:37.402122Z",
     "iopub.status.busy": "2021-12-11T10:09:37.401612Z",
     "iopub.status.idle": "2021-12-11T10:09:37.414532Z",
     "shell.execute_reply": "2021-12-11T10:09:37.414920Z"
    },
    "papermill": {
     "duration": 0.090474,
     "end_time": "2021-12-11T10:09:37.415048",
     "exception": false,
     "start_time": "2021-12-11T10:09:37.324574",
     "status": "completed"
    },
    "tags": []
   },
   "outputs": [],
   "source": [
    "#creating the x and y ranges according to the above generated plot.\n",
    "x_range = np.linspace(-4, 1, 100) \n",
    "y_range = np.linspace(-6, 6, 100) \n",
    "x_grid, y_grid = np.meshgrid(x_range, y_range) # x_grid and y_grig are of size 100 X 100\n",
    "\n",
    "# converting x_grid and y_grid to continuous arrays\n",
    "x_gridflat = np.ravel(x_grid)\n",
    "y_gridflat = np.ravel(y_grid)\n",
    "\n",
    "# The last layer of the current model takes two columns as input. Hence transpose of np.vstack() is required.\n",
    "X = np.vstack((x_gridflat, y_gridflat)).T\n",
    "\n",
    "prob_contour = model_prob(X).reshape(100,100) "
   ]
  },
  {
   "cell_type": "code",
   "execution_count": 29,
   "id": "da72499a",
   "metadata": {
    "execution": {
     "iopub.execute_input": "2021-12-11T10:09:37.513237Z",
     "iopub.status.busy": "2021-12-11T10:09:37.512726Z",
     "iopub.status.idle": "2021-12-11T10:09:37.753247Z",
     "shell.execute_reply": "2021-12-11T10:09:37.752780Z"
    },
    "papermill": {
     "duration": 0.293128,
     "end_time": "2021-12-11T10:09:37.753374",
     "exception": false,
     "start_time": "2021-12-11T10:09:37.460246",
     "status": "completed"
    },
    "tags": []
   },
   "outputs": [
    {
     "data": {
      "image/png": "[encoded data removed]",
      "text/plain": [
       "<Figure size 720x648 with 1 Axes>"
      ]
     },
     "metadata": {
      "needs_background": "light"
     },
     "output_type": "display_data"
    }
   ],
   "source": [
    "plt.figure(figsize=(10,9))\n",
    "plt.scatter(testing_plot[:,0], testing_plot[:,1], alpha = 0.1, c = y_test.ravel())\n",
    "contours = plt.contour(x_grid,y_grid,prob_contour)\n",
    "plt.title('Probability Contours')\n",
    "plt.clabel(contours, inline = True );"
   ]
  },
  {
   "cell_type": "code",
   "execution_count": null,
   "id": "e81b4ac7",
   "metadata": {
    "papermill": {
     "duration": 0.046843,
     "end_time": "2021-12-11T10:09:37.847783",
     "exception": false,
     "start_time": "2021-12-11T10:09:37.800940",
     "status": "completed"
    },
    "tags": []
   },
   "outputs": [],
   "source": []
  }
 ],
 "metadata": {
  "kernelspec": {
   "display_name": "Python 3",
   "language": "python",
   "name": "python3"
  },
  "language_info": {
   "codemirror_mode": {
    "name": "ipython",
    "version": 3
   },
   "file_extension": ".py",
   "mimetype": "text/x-python",
   "name": "python",
   "nbconvert_exporter": "python",
   "pygments_lexer": "ipython3",
   "version": "3.6.15"
  },
  "papermill": {
   "default_parameters": {},
   "duration": 96.956473,
   "end_time": "2021-12-11T10:09:38.302987",
   "environment_variables": {},
   "exception": null,
   "input_path": "2020-08-11-part2.ipynb",
   "output_path": "2020-08-11-part2.ipynb",
   "parameters": {},
   "start_time": "2021-12-11T10:08:01.346514",
   "version": "2.3.3"
  }
 },
 "nbformat": 4,
 "nbformat_minor": 5
}