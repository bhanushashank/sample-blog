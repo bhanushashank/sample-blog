{
 "cells": [
  {
   "cell_type": "markdown",
   "id": "98380cd3",
   "metadata": {
    "papermill": {
     "duration": 0.028476,
     "end_time": "2021-12-30T10:08:26.619854",
     "exception": false,
     "start_time": "2021-12-30T10:08:26.591378",
     "status": "completed"
    },
    "tags": []
   },
   "source": [
    "# Distinguish Your Own Digits (DYOD)"
   ]
  },
  {
   "cell_type": "markdown",
   "id": "ef31240d",
   "metadata": {
    "papermill": {
     "duration": 0.023858,
     "end_time": "2021-12-30T10:08:26.668215",
     "exception": false,
     "start_time": "2021-12-30T10:08:26.644357",
     "status": "completed"
    },
    "tags": []
   },
   "source": [
    "You are going to write a classifier that distinguishes between the number 3 and number 8."
   ]
  },
  {
   "cell_type": "code",
   "execution_count": 1,
   "id": "b15c8646",
   "metadata": {
    "execution": {
     "iopub.execute_input": "2021-12-30T10:08:26.726786Z",
     "iopub.status.busy": "2021-12-30T10:08:26.726262Z",
     "iopub.status.idle": "2021-12-30T10:08:26.737252Z",
     "shell.execute_reply": "2021-12-30T10:08:26.736826Z"
    },
    "papermill": {
     "duration": 0.045421,
     "end_time": "2021-12-30T10:08:26.737371",
     "exception": false,
     "start_time": "2021-12-30T10:08:26.691950",
     "status": "completed"
    },
    "tags": []
   },
   "outputs": [],
   "source": [
    "%load_ext autoreload\n",
    "%autoreload 2"
   ]
  },
  {
   "cell_type": "code",
   "execution_count": 2,
   "id": "22ef38dc",
   "metadata": {
    "execution": {
     "iopub.execute_input": "2021-12-30T10:08:26.805890Z",
     "iopub.status.busy": "2021-12-30T10:08:26.797645Z",
     "iopub.status.idle": "2021-12-30T10:08:27.353420Z",
     "shell.execute_reply": "2021-12-30T10:08:27.352877Z"
    },
    "papermill": {
     "duration": 0.59235,
     "end_time": "2021-12-30T10:08:27.353562",
     "exception": false,
     "start_time": "2021-12-30T10:08:26.761212",
     "status": "completed"
    },
    "tags": []
   },
   "outputs": [],
   "source": [
    "%matplotlib inline\n",
    "import numpy as np\n",
    "import matplotlib.pyplot as plt\n",
    "import pandas as pd"
   ]
  },
  {
   "cell_type": "markdown",
   "id": "ba036198",
   "metadata": {
    "papermill": {
     "duration": 0.024044,
     "end_time": "2021-12-30T10:08:27.402537",
     "exception": false,
     "start_time": "2021-12-30T10:08:27.378493",
     "status": "completed"
    },
    "tags": []
   },
   "source": [
    "From the command line run `pip install mnist`. This is a library that will help you bring down the mnist dataset. If you run this from a notebook, you need to put  `!pip install mnist` in a cell by itself."
   ]
  },
  {
   "cell_type": "code",
   "execution_count": 3,
   "id": "bb6ad8a1",
   "metadata": {
    "execution": {
     "iopub.execute_input": "2021-12-30T10:08:27.457788Z",
     "iopub.status.busy": "2021-12-30T10:08:27.457277Z",
     "iopub.status.idle": "2021-12-30T10:08:29.363857Z",
     "shell.execute_reply": "2021-12-30T10:08:29.362942Z"
    },
    "papermill": {
     "duration": 1.937339,
     "end_time": "2021-12-30T10:08:29.364000",
     "exception": false,
     "start_time": "2021-12-30T10:08:27.426661",
     "status": "completed"
    },
    "tags": []
   },
   "outputs": [
    {
     "name": "stdout",
     "output_type": "stream",
     "text": [
      "Collecting mnist\r\n"
     ]
    },
    {
     "name": "stdout",
     "output_type": "stream",
     "text": [
      "  Downloading mnist-0.2.2-py2.py3-none-any.whl (3.5 kB)\r\n",
      "Requirement already satisfied: numpy in /opt/hostedtoolcache/Python/3.6.15/x64/lib/python3.6/site-packages (from mnist) (1.19.5)\r\n"
     ]
    },
    {
     "name": "stdout",
     "output_type": "stream",
     "text": [
      "Installing collected packages: mnist\r\n"
     ]
    },
    {
     "name": "stdout",
     "output_type": "stream",
     "text": [
      "Successfully installed mnist-0.2.2\r\n"
     ]
    }
   ],
   "source": [
    "!pip install mnist"
   ]
  },
  {
   "cell_type": "markdown",
   "id": "69df9c9a",
   "metadata": {
    "papermill": {
     "duration": 0.024962,
     "end_time": "2021-12-30T10:08:29.414522",
     "exception": false,
     "start_time": "2021-12-30T10:08:29.389560",
     "status": "completed"
    },
    "tags": []
   },
   "source": [
    "## Preparing the Data"
   ]
  },
  {
   "cell_type": "code",
   "execution_count": 4,
   "id": "7f69d806",
   "metadata": {
    "execution": {
     "iopub.execute_input": "2021-12-30T10:08:29.471293Z",
     "iopub.status.busy": "2021-12-30T10:08:29.470787Z",
     "iopub.status.idle": "2021-12-30T10:08:29.482504Z",
     "shell.execute_reply": "2021-12-30T10:08:29.482103Z"
    },
    "papermill": {
     "duration": 0.04341,
     "end_time": "2021-12-30T10:08:29.482608",
     "exception": false,
     "start_time": "2021-12-30T10:08:29.439198",
     "status": "completed"
    },
    "tags": []
   },
   "outputs": [],
   "source": [
    "import mnist"
   ]
  },
  {
   "cell_type": "code",
   "execution_count": 5,
   "id": "a411e44f",
   "metadata": {
    "execution": {
     "iopub.execute_input": "2021-12-30T10:08:29.538576Z",
     "iopub.status.busy": "2021-12-30T10:08:29.538067Z",
     "iopub.status.idle": "2021-12-30T10:08:30.186678Z",
     "shell.execute_reply": "2021-12-30T10:08:30.186155Z"
    },
    "papermill": {
     "duration": 0.67934,
     "end_time": "2021-12-30T10:08:30.186818",
     "exception": false,
     "start_time": "2021-12-30T10:08:29.507478",
     "status": "completed"
    },
    "tags": []
   },
   "outputs": [],
   "source": [
    "train_images = mnist.train_images()\n",
    "train_labels = mnist.train_labels()"
   ]
  },
  {
   "cell_type": "code",
   "execution_count": 6,
   "id": "dceab3a5",
   "metadata": {
    "execution": {
     "iopub.execute_input": "2021-12-30T10:08:30.253240Z",
     "iopub.status.busy": "2021-12-30T10:08:30.240582Z",
     "iopub.status.idle": "2021-12-30T10:08:30.259594Z",
     "shell.execute_reply": "2021-12-30T10:08:30.258847Z"
    },
    "papermill": {
     "duration": 0.047708,
     "end_time": "2021-12-30T10:08:30.259704",
     "exception": false,
     "start_time": "2021-12-30T10:08:30.211996",
     "status": "completed"
    },
    "tags": []
   },
   "outputs": [
    {
     "data": {
      "text/plain": [
       "((60000, 28, 28), (60000,))"
      ]
     },
     "execution_count": 6,
     "metadata": {},
     "output_type": "execute_result"
    }
   ],
   "source": [
    "train_images.shape, train_labels.shape"
   ]
  },
  {
   "cell_type": "code",
   "execution_count": 7,
   "id": "f50dc2bb",
   "metadata": {
    "execution": {
     "iopub.execute_input": "2021-12-30T10:08:30.323338Z",
     "iopub.status.busy": "2021-12-30T10:08:30.321011Z",
     "iopub.status.idle": "2021-12-30T10:08:30.511828Z",
     "shell.execute_reply": "2021-12-30T10:08:30.511352Z"
    },
    "papermill": {
     "duration": 0.227172,
     "end_time": "2021-12-30T10:08:30.511940",
     "exception": false,
     "start_time": "2021-12-30T10:08:30.284768",
     "status": "completed"
    },
    "tags": []
   },
   "outputs": [],
   "source": [
    "test_images = mnist.test_images()\n",
    "test_labels = mnist.test_labels()"
   ]
  },
  {
   "cell_type": "code",
   "execution_count": 8,
   "id": "fc38cf1b",
   "metadata": {
    "execution": {
     "iopub.execute_input": "2021-12-30T10:08:30.565901Z",
     "iopub.status.busy": "2021-12-30T10:08:30.565394Z",
     "iopub.status.idle": "2021-12-30T10:08:30.578429Z",
     "shell.execute_reply": "2021-12-30T10:08:30.578001Z"
    },
    "papermill": {
     "duration": 0.040886,
     "end_time": "2021-12-30T10:08:30.578535",
     "exception": false,
     "start_time": "2021-12-30T10:08:30.537649",
     "status": "completed"
    },
    "tags": []
   },
   "outputs": [
    {
     "data": {
      "text/plain": [
       "((10000, 28, 28), (10000,))"
      ]
     },
     "execution_count": 8,
     "metadata": {},
     "output_type": "execute_result"
    }
   ],
   "source": [
    "test_images.shape, test_labels.shape"
   ]
  },
  {
   "cell_type": "code",
   "execution_count": 9,
   "id": "f9ed8fe0",
   "metadata": {
    "execution": {
     "iopub.execute_input": "2021-12-30T10:08:30.632512Z",
     "iopub.status.busy": "2021-12-30T10:08:30.632009Z",
     "iopub.status.idle": "2021-12-30T10:08:30.767688Z",
     "shell.execute_reply": "2021-12-30T10:08:30.767282Z"
    },
    "papermill": {
     "duration": 0.163945,
     "end_time": "2021-12-30T10:08:30.767796",
     "exception": false,
     "start_time": "2021-12-30T10:08:30.603851",
     "status": "completed"
    },
    "tags": []
   },
   "outputs": [
    {
     "name": "stdout",
     "output_type": "stream",
     "text": [
      "2\n"
     ]
    },
    {
     "data": {
      "text/plain": [
       "<matplotlib.image.AxesImage at 0x7fd4f106f550>"
      ]
     },
     "execution_count": 9,
     "metadata": {},
     "output_type": "execute_result"
    },
    {
     "data": {
      "image/png": "[encoded data removed]",
      "text/plain": [
       "<Figure size 432x288 with 1 Axes>"
      ]
     },
     "metadata": {
      "needs_background": "light"
     },
     "output_type": "display_data"
    }
   ],
   "source": [
    "image_index = 7776 # You may select anything up to 60,000\n",
    "print(train_labels[image_index]) \n",
    "plt.imshow(train_images[image_index], cmap='Greys')"
   ]
  },
  {
   "cell_type": "markdown",
   "id": "a8d2388d",
   "metadata": {
    "papermill": {
     "duration": 0.026837,
     "end_time": "2021-12-30T10:08:30.821313",
     "exception": false,
     "start_time": "2021-12-30T10:08:30.794476",
     "status": "completed"
    },
    "tags": []
   },
   "source": [
    "## Filter data to get 3 and 8 out"
   ]
  },
  {
   "cell_type": "code",
   "execution_count": 10,
   "id": "776f7fc7",
   "metadata": {
    "execution": {
     "iopub.execute_input": "2021-12-30T10:08:30.878279Z",
     "iopub.status.busy": "2021-12-30T10:08:30.877767Z",
     "iopub.status.idle": "2021-12-30T10:08:30.896270Z",
     "shell.execute_reply": "2021-12-30T10:08:30.895846Z"
    },
    "papermill": {
     "duration": 0.048684,
     "end_time": "2021-12-30T10:08:30.896370",
     "exception": false,
     "start_time": "2021-12-30T10:08:30.847686",
     "status": "completed"
    },
    "tags": []
   },
   "outputs": [],
   "source": [
    "train_filter = np.where((train_labels == 3 ) | (train_labels == 8))\n",
    "test_filter = np.where((test_labels == 3) | (test_labels == 8))\n",
    "X_train, y_train = train_images[train_filter], train_labels[train_filter]\n",
    "X_test, y_test = test_images[test_filter], test_labels[test_filter]"
   ]
  },
  {
   "cell_type": "markdown",
   "id": "948f0b7e",
   "metadata": {
    "papermill": {
     "duration": 0.026483,
     "end_time": "2021-12-30T10:08:30.949388",
     "exception": false,
     "start_time": "2021-12-30T10:08:30.922905",
     "status": "completed"
    },
    "tags": []
   },
   "source": [
    "We normalize the pizel values in the 0 to 1 range"
   ]
  },
  {
   "cell_type": "code",
   "execution_count": 11,
   "id": "ee4c2166",
   "metadata": {
    "execution": {
     "iopub.execute_input": "2021-12-30T10:08:31.009691Z",
     "iopub.status.busy": "2021-12-30T10:08:31.009186Z",
     "iopub.status.idle": "2021-12-30T10:08:31.053395Z",
     "shell.execute_reply": "2021-12-30T10:08:31.052884Z"
    },
    "papermill": {
     "duration": 0.077411,
     "end_time": "2021-12-30T10:08:31.053535",
     "exception": false,
     "start_time": "2021-12-30T10:08:30.976124",
     "status": "completed"
    },
    "tags": []
   },
   "outputs": [],
   "source": [
    "X_train = X_train/255.\n",
    "X_test = X_test/255."
   ]
  },
  {
   "cell_type": "markdown",
   "id": "ddcf4fab",
   "metadata": {
    "papermill": {
     "duration": 0.026697,
     "end_time": "2021-12-30T10:08:31.107839",
     "exception": false,
     "start_time": "2021-12-30T10:08:31.081142",
     "status": "completed"
    },
    "tags": []
   },
   "source": [
    "And setup the labels as 1 (when the digit is 3) and 0 (when the digit is 8)"
   ]
  },
  {
   "cell_type": "code",
   "execution_count": 12,
   "id": "7dc908f2",
   "metadata": {
    "execution": {
     "iopub.execute_input": "2021-12-30T10:08:31.172980Z",
     "iopub.status.busy": "2021-12-30T10:08:31.172395Z",
     "iopub.status.idle": "2021-12-30T10:08:31.179869Z",
     "shell.execute_reply": "2021-12-30T10:08:31.179435Z"
    },
    "papermill": {
     "duration": 0.045679,
     "end_time": "2021-12-30T10:08:31.179978",
     "exception": false,
     "start_time": "2021-12-30T10:08:31.134299",
     "status": "completed"
    },
    "tags": []
   },
   "outputs": [],
   "source": [
    "y_train = 1*(y_train==3)\n",
    "y_test = 1*(y_test==3)"
   ]
  },
  {
   "cell_type": "code",
   "execution_count": 13,
   "id": "01e4e969",
   "metadata": {
    "execution": {
     "iopub.execute_input": "2021-12-30T10:08:31.245274Z",
     "iopub.status.busy": "2021-12-30T10:08:31.237354Z",
     "iopub.status.idle": "2021-12-30T10:08:31.252803Z",
     "shell.execute_reply": "2021-12-30T10:08:31.252345Z"
    },
    "papermill": {
     "duration": 0.046337,
     "end_time": "2021-12-30T10:08:31.252910",
     "exception": false,
     "start_time": "2021-12-30T10:08:31.206573",
     "status": "completed"
    },
    "tags": []
   },
   "outputs": [
    {
     "data": {
      "text/plain": [
       "((11982, 28, 28), (1984, 28, 28))"
      ]
     },
     "execution_count": 13,
     "metadata": {},
     "output_type": "execute_result"
    }
   ],
   "source": [
    "X_train.shape, X_test.shape"
   ]
  },
  {
   "cell_type": "markdown",
   "id": "5ccf3f85",
   "metadata": {
    "papermill": {
     "duration": 0.026681,
     "end_time": "2021-12-30T10:08:31.306254",
     "exception": false,
     "start_time": "2021-12-30T10:08:31.279573",
     "status": "completed"
    },
    "tags": []
   },
   "source": [
    "We reshape the data to flatten the image pixels into a set of features or co-variates:"
   ]
  },
  {
   "cell_type": "code",
   "execution_count": 14,
   "id": "5286a4a3",
   "metadata": {
    "execution": {
     "iopub.execute_input": "2021-12-30T10:08:31.369216Z",
     "iopub.status.busy": "2021-12-30T10:08:31.363047Z",
     "iopub.status.idle": "2021-12-30T10:08:31.374589Z",
     "shell.execute_reply": "2021-12-30T10:08:31.374970Z"
    },
    "papermill": {
     "duration": 0.042026,
     "end_time": "2021-12-30T10:08:31.375083",
     "exception": false,
     "start_time": "2021-12-30T10:08:31.333057",
     "status": "completed"
    },
    "tags": []
   },
   "outputs": [
    {
     "data": {
      "text/plain": [
       "((11982, 784), (1984, 784))"
      ]
     },
     "execution_count": 14,
     "metadata": {},
     "output_type": "execute_result"
    }
   ],
   "source": [
    "X_train = X_train.reshape(X_train.shape[0], -1)\n",
    "X_test = X_test.reshape(X_test.shape[0], -1)\n",
    "X_train.shape, X_test.shape"
   ]
  },
  {
   "cell_type": "code",
   "execution_count": 15,
   "id": "73c5f88a",
   "metadata": {
    "execution": {
     "iopub.execute_input": "2021-12-30T10:08:31.434389Z",
     "iopub.status.busy": "2021-12-30T10:08:31.433876Z",
     "iopub.status.idle": "2021-12-30T10:08:31.448825Z",
     "shell.execute_reply": "2021-12-30T10:08:31.449260Z"
    },
    "papermill": {
     "duration": 0.04742,
     "end_time": "2021-12-30T10:08:31.449370",
     "exception": false,
     "start_time": "2021-12-30T10:08:31.401950",
     "status": "completed"
    },
    "tags": []
   },
   "outputs": [],
   "source": [
    "#Impoting functions from 'Kudzu'\n",
    "from kudzu.model import Model\n",
    "from kudzu.train import Learner\n",
    "from kudzu.optim import GD\n",
    "from kudzu.data import Data, Sampler,Dataloader\n",
    "\n",
    "from kudzu.callbacks import AccCallback\n",
    "from kudzu.callbacks import ClfCallback\n",
    "\n",
    "from kudzu.loss import MSE\n",
    "\n",
    "from kudzu.layer import Sigmoid,Relu\n",
    "from kudzu.layer import Affine"
   ]
  },
  {
   "cell_type": "markdown",
   "id": "bc01172a",
   "metadata": {
    "papermill": {
     "duration": 0.026946,
     "end_time": "2021-12-30T10:08:31.503348",
     "exception": false,
     "start_time": "2021-12-30T10:08:31.476402",
     "status": "completed"
    },
    "tags": []
   },
   "source": [
    "### Let us create a `Config` class, to store important parameters. \n",
    "This class essentially plays the role of a dictionary."
   ]
  },
  {
   "cell_type": "code",
   "execution_count": 16,
   "id": "978281aa",
   "metadata": {
    "execution": {
     "iopub.execute_input": "2021-12-30T10:08:31.561706Z",
     "iopub.status.busy": "2021-12-30T10:08:31.561198Z",
     "iopub.status.idle": "2021-12-30T10:08:31.570963Z",
     "shell.execute_reply": "2021-12-30T10:08:31.571392Z"
    },
    "papermill": {
     "duration": 0.041383,
     "end_time": "2021-12-30T10:08:31.571499",
     "exception": false,
     "start_time": "2021-12-30T10:08:31.530116",
     "status": "completed"
    },
    "tags": []
   },
   "outputs": [],
   "source": [
    "class Config:\n",
    "    pass\n",
    "config = Config()\n",
    "config.lr = 0.001\n",
    "config.num_epochs = 250\n",
    "config.bs = 50"
   ]
  },
  {
   "cell_type": "markdown",
   "id": "1385fa59",
   "metadata": {
    "papermill": {
     "duration": 0.02689,
     "end_time": "2021-12-30T10:08:31.625321",
     "exception": false,
     "start_time": "2021-12-30T10:08:31.598431",
     "status": "completed"
    },
    "tags": []
   },
   "source": [
    "### Running Models with the Training data\n",
    "Details about the network layers:\n",
    "- A first affine layer has 784 inputs and does 100 affine transforms. These are followed by a Relu\n",
    "- A second affine layer has 100 inputs from the 100 activations of the past layer, and does 100 affine transforms. These are followed by a Relu\n",
    "- A third affine layer has 100 activations and does 2 affine transformations to create an embedding for visualization. There is no non-linearity here.\n",
    "- A final \"logistic regression\" which has an affine transform from 2 inputs to 1 output, which is squeezed through a sigmoid.\n"
   ]
  },
  {
   "cell_type": "code",
   "execution_count": 17,
   "id": "2b9c66db",
   "metadata": {
    "execution": {
     "iopub.execute_input": "2021-12-30T10:08:31.689567Z",
     "iopub.status.busy": "2021-12-30T10:08:31.686385Z",
     "iopub.status.idle": "2021-12-30T10:08:31.695655Z",
     "shell.execute_reply": "2021-12-30T10:08:31.695228Z"
    },
    "papermill": {
     "duration": 0.04347,
     "end_time": "2021-12-30T10:08:31.695751",
     "exception": false,
     "start_time": "2021-12-30T10:08:31.652281",
     "status": "completed"
    },
    "tags": []
   },
   "outputs": [],
   "source": [
    "data = Data(X_train, y_train.reshape(-1,1))\n",
    "sampler = Sampler(data, config.bs, shuffle=True)\n",
    "\n",
    "dl = Dataloader(data, sampler)\n",
    "\n",
    "opt = GD(config.lr)\n",
    "loss = MSE()"
   ]
  },
  {
   "cell_type": "code",
   "execution_count": 18,
   "id": "b275e4c2",
   "metadata": {
    "execution": {
     "iopub.execute_input": "2021-12-30T10:08:31.757715Z",
     "iopub.status.busy": "2021-12-30T10:08:31.757207Z",
     "iopub.status.idle": "2021-12-30T10:08:31.766027Z",
     "shell.execute_reply": "2021-12-30T10:08:31.765603Z"
    },
    "papermill": {
     "duration": 0.043298,
     "end_time": "2021-12-30T10:08:31.766125",
     "exception": false,
     "start_time": "2021-12-30T10:08:31.722827",
     "status": "completed"
    },
    "tags": []
   },
   "outputs": [],
   "source": [
    "training_data_x = X_train\n",
    "testing_data_x = X_test\n",
    "training_data_y = y_train.reshape(-1,1)\n",
    "testing_data_y = y_test.reshape(-1,1)"
   ]
  },
  {
   "cell_type": "code",
   "execution_count": 19,
   "id": "76951160",
   "metadata": {
    "execution": {
     "iopub.execute_input": "2021-12-30T10:08:31.828848Z",
     "iopub.status.busy": "2021-12-30T10:08:31.823010Z",
     "iopub.status.idle": "2021-12-30T10:08:31.838708Z",
     "shell.execute_reply": "2021-12-30T10:08:31.839092Z"
    },
    "papermill": {
     "duration": 0.046223,
     "end_time": "2021-12-30T10:08:31.839203",
     "exception": false,
     "start_time": "2021-12-30T10:08:31.792980",
     "status": "completed"
    },
    "tags": []
   },
   "outputs": [
    {
     "name": "stdout",
     "output_type": "stream",
     "text": [
      "xavier\n",
      "xavier\n",
      "xavier\n",
      "xavier\n",
      "xavier\n"
     ]
    }
   ],
   "source": [
    "layers = [Affine(\"first\", 784, 100), Relu(\"first\"), Affine(\"second\", 100, 100), Relu(\"second\"), Affine(\"third\", 100, 2), Affine(\"last\", 2, 1), Sigmoid(\"last\")]\n",
    "model_nn = Model(layers)\n",
    "model_lr = Model([Affine(\"logits\", 784, 1), Sigmoid(\"sigmoid\")])"
   ]
  },
  {
   "cell_type": "code",
   "execution_count": 20,
   "id": "6eede77a",
   "metadata": {
    "execution": {
     "iopub.execute_input": "2021-12-30T10:08:31.899377Z",
     "iopub.status.busy": "2021-12-30T10:08:31.898876Z",
     "iopub.status.idle": "2021-12-30T10:08:31.907664Z",
     "shell.execute_reply": "2021-12-30T10:08:31.908136Z"
    },
    "papermill": {
     "duration": 0.041782,
     "end_time": "2021-12-30T10:08:31.908244",
     "exception": false,
     "start_time": "2021-12-30T10:08:31.866462",
     "status": "completed"
    },
    "tags": []
   },
   "outputs": [],
   "source": [
    "nn_learner = Learner(loss, model_nn, opt, config.num_epochs)\n",
    "acc_nn = ClfCallback(nn_learner, config.bs, training_data_x , testing_data_x, training_data_y, testing_data_y)\n",
    "nn_learner.set_callbacks([acc_nn])"
   ]
  },
  {
   "cell_type": "code",
   "execution_count": 21,
   "id": "877b6cc7",
   "metadata": {
    "execution": {
     "iopub.execute_input": "2021-12-30T10:08:31.970039Z",
     "iopub.status.busy": "2021-12-30T10:08:31.969538Z",
     "iopub.status.idle": "2021-12-30T10:08:31.978439Z",
     "shell.execute_reply": "2021-12-30T10:08:31.978042Z"
    },
    "papermill": {
     "duration": 0.043214,
     "end_time": "2021-12-30T10:08:31.978538",
     "exception": false,
     "start_time": "2021-12-30T10:08:31.935324",
     "status": "completed"
    },
    "tags": []
   },
   "outputs": [],
   "source": [
    "lr_learner = Learner(loss, model_lr, opt, config.num_epochs)\n",
    "acc_lr = ClfCallback(lr_learner, config.bs, training_data_x , testing_data_x, training_data_y, testing_data_y)\n",
    "lr_learner.set_callbacks([acc_lr])"
   ]
  },
  {
   "cell_type": "code",
   "execution_count": 22,
   "id": "d9b133c3",
   "metadata": {
    "execution": {
     "iopub.execute_input": "2021-12-30T10:08:32.045846Z",
     "iopub.status.busy": "2021-12-30T10:08:32.040730Z",
     "iopub.status.idle": "2021-12-30T10:09:44.652579Z",
     "shell.execute_reply": "2021-12-30T10:09:44.653347Z"
    },
    "papermill": {
     "duration": 72.647739,
     "end_time": "2021-12-30T10:09:44.653498",
     "exception": false,
     "start_time": "2021-12-30T10:08:32.005759",
     "status": "completed"
    },
    "tags": []
   },
   "outputs": [
    {
     "name": "stdout",
     "output_type": "stream",
     "text": [
      "Epoch 0, Loss 0.2412\n",
      "Training Accuracy: 0.6598, Testing Accuracy: 0.6789\n",
      "\n"
     ]
    },
    {
     "name": "stdout",
     "output_type": "stream",
     "text": [
      "Epoch 10, Loss 0.1163\n",
      "Training Accuracy: 0.9046, Testing Accuracy: 0.9168\n",
      "\n"
     ]
    },
    {
     "name": "stdout",
     "output_type": "stream",
     "text": [
      "Epoch 20, Loss 0.0674\n",
      "Training Accuracy: 0.9311, Testing Accuracy: 0.9415\n",
      "\n"
     ]
    },
    {
     "name": "stdout",
     "output_type": "stream",
     "text": [
      "Epoch 30, Loss 0.051\n",
      "Training Accuracy: 0.9438, Testing Accuracy: 0.9546\n",
      "\n"
     ]
    },
    {
     "name": "stdout",
     "output_type": "stream",
     "text": [
      "Epoch 40, Loss 0.0428\n",
      "Training Accuracy: 0.9518, Testing Accuracy: 0.9627\n",
      "\n"
     ]
    },
    {
     "name": "stdout",
     "output_type": "stream",
     "text": [
      "Epoch 50, Loss 0.038\n",
      "Training Accuracy: 0.9561, Testing Accuracy: 0.9637\n",
      "\n"
     ]
    },
    {
     "name": "stdout",
     "output_type": "stream",
     "text": [
      "Epoch 60, Loss 0.0348\n",
      "Training Accuracy: 0.9594, Testing Accuracy: 0.9672\n",
      "\n"
     ]
    },
    {
     "name": "stdout",
     "output_type": "stream",
     "text": [
      "Epoch 70, Loss 0.0326\n",
      "Training Accuracy: 0.9622, Testing Accuracy: 0.9682\n",
      "\n"
     ]
    },
    {
     "name": "stdout",
     "output_type": "stream",
     "text": [
      "Epoch 80, Loss 0.0308\n",
      "Training Accuracy: 0.9643, Testing Accuracy: 0.9698\n",
      "\n"
     ]
    },
    {
     "name": "stdout",
     "output_type": "stream",
     "text": [
      "Epoch 90, Loss 0.0294\n",
      "Training Accuracy: 0.9656, Testing Accuracy: 0.9698\n",
      "\n"
     ]
    },
    {
     "name": "stdout",
     "output_type": "stream",
     "text": [
      "Epoch 100, Loss 0.0283\n",
      "Training Accuracy: 0.9666, Testing Accuracy: 0.9693\n",
      "\n"
     ]
    },
    {
     "name": "stdout",
     "output_type": "stream",
     "text": [
      "Epoch 110, Loss 0.0273\n",
      "Training Accuracy: 0.9675, Testing Accuracy: 0.9703\n",
      "\n"
     ]
    },
    {
     "name": "stdout",
     "output_type": "stream",
     "text": [
      "Epoch 120, Loss 0.0265\n",
      "Training Accuracy: 0.9687, Testing Accuracy: 0.9708\n",
      "\n"
     ]
    },
    {
     "name": "stdout",
     "output_type": "stream",
     "text": [
      "Epoch 130, Loss 0.0257\n",
      "Training Accuracy: 0.9698, Testing Accuracy: 0.9723\n",
      "\n"
     ]
    },
    {
     "name": "stdout",
     "output_type": "stream",
     "text": [
      "Epoch 140, Loss 0.0251\n",
      "Training Accuracy: 0.9709, Testing Accuracy: 0.9723\n",
      "\n"
     ]
    },
    {
     "name": "stdout",
     "output_type": "stream",
     "text": [
      "Epoch 150, Loss 0.0245\n",
      "Training Accuracy: 0.9715, Testing Accuracy: 0.9728\n",
      "\n"
     ]
    },
    {
     "name": "stdout",
     "output_type": "stream",
     "text": [
      "Epoch 160, Loss 0.0239\n",
      "Training Accuracy: 0.9720, Testing Accuracy: 0.9733\n",
      "\n"
     ]
    },
    {
     "name": "stdout",
     "output_type": "stream",
     "text": [
      "Epoch 170, Loss 0.0234\n",
      "Training Accuracy: 0.9725, Testing Accuracy: 0.9728\n",
      "\n"
     ]
    },
    {
     "name": "stdout",
     "output_type": "stream",
     "text": [
      "Epoch 180, Loss 0.0229\n",
      "Training Accuracy: 0.9730, Testing Accuracy: 0.9728\n",
      "\n"
     ]
    },
    {
     "name": "stdout",
     "output_type": "stream",
     "text": [
      "Epoch 190, Loss 0.0224\n",
      "Training Accuracy: 0.9740, Testing Accuracy: 0.9728\n",
      "\n"
     ]
    },
    {
     "name": "stdout",
     "output_type": "stream",
     "text": [
      "Epoch 200, Loss 0.0219\n",
      "Training Accuracy: 0.9745, Testing Accuracy: 0.9728\n",
      "\n"
     ]
    },
    {
     "name": "stdout",
     "output_type": "stream",
     "text": [
      "Epoch 210, Loss 0.0215\n",
      "Training Accuracy: 0.9752, Testing Accuracy: 0.9728\n",
      "\n"
     ]
    },
    {
     "name": "stdout",
     "output_type": "stream",
     "text": [
      "Epoch 220, Loss 0.0211\n",
      "Training Accuracy: 0.9760, Testing Accuracy: 0.9738\n",
      "\n"
     ]
    },
    {
     "name": "stdout",
     "output_type": "stream",
     "text": [
      "Epoch 230, Loss 0.0207\n",
      "Training Accuracy: 0.9767, Testing Accuracy: 0.9738\n",
      "\n"
     ]
    },
    {
     "name": "stdout",
     "output_type": "stream",
     "text": [
      "Epoch 240, Loss 0.0203\n",
      "Training Accuracy: 0.9770, Testing Accuracy: 0.9738\n",
      "\n"
     ]
    },
    {
     "data": {
      "text/plain": [
       "0.004726147953402366"
      ]
     },
     "execution_count": 22,
     "metadata": {},
     "output_type": "execute_result"
    }
   ],
   "source": [
    "nn_learner.train_loop(dl)"
   ]
  },
  {
   "cell_type": "code",
   "execution_count": 23,
   "id": "e0163366",
   "metadata": {
    "execution": {
     "iopub.execute_input": "2021-12-30T10:09:44.731572Z",
     "iopub.status.busy": "2021-12-30T10:09:44.731066Z",
     "iopub.status.idle": "2021-12-30T10:09:57.641689Z",
     "shell.execute_reply": "2021-12-30T10:09:57.642443Z"
    },
    "papermill": {
     "duration": 12.95441,
     "end_time": "2021-12-30T10:09:57.642591",
     "exception": false,
     "start_time": "2021-12-30T10:09:44.688181",
     "status": "completed"
    },
    "tags": []
   },
   "outputs": [
    {
     "name": "stdout",
     "output_type": "stream",
     "text": [
      "Epoch 0, Loss 0.2191\n",
      "Training Accuracy: 0.7610, Testing Accuracy: 0.7671\n",
      "\n"
     ]
    },
    {
     "name": "stdout",
     "output_type": "stream",
     "text": [
      "Epoch 10, Loss 0.1006\n",
      "Training Accuracy: 0.9145, Testing Accuracy: 0.9249\n",
      "\n"
     ]
    },
    {
     "name": "stdout",
     "output_type": "stream",
     "text": [
      "Epoch 20, Loss 0.078\n",
      "Training Accuracy: 0.9309, Testing Accuracy: 0.9390\n",
      "\n"
     ]
    },
    {
     "name": "stdout",
     "output_type": "stream",
     "text": [
      "Epoch 30, Loss 0.0674\n",
      "Training Accuracy: 0.9382, Testing Accuracy: 0.9451\n",
      "\n"
     ]
    },
    {
     "name": "stdout",
     "output_type": "stream",
     "text": [
      "Epoch 40, Loss 0.061\n",
      "Training Accuracy: 0.9436, Testing Accuracy: 0.9506\n",
      "\n"
     ]
    },
    {
     "name": "stdout",
     "output_type": "stream",
     "text": [
      "Epoch 50, Loss 0.0566\n",
      "Training Accuracy: 0.9460, Testing Accuracy: 0.9541\n",
      "\n"
     ]
    },
    {
     "name": "stdout",
     "output_type": "stream",
     "text": [
      "Epoch 60, Loss 0.0534\n",
      "Training Accuracy: 0.9476, Testing Accuracy: 0.9561\n",
      "\n"
     ]
    },
    {
     "name": "stdout",
     "output_type": "stream",
     "text": [
      "Epoch 70, Loss 0.0509\n",
      "Training Accuracy: 0.9496, Testing Accuracy: 0.9582\n",
      "\n"
     ]
    },
    {
     "name": "stdout",
     "output_type": "stream",
     "text": [
      "Epoch 80, Loss 0.0489\n",
      "Training Accuracy: 0.9507, Testing Accuracy: 0.9617\n",
      "\n"
     ]
    },
    {
     "name": "stdout",
     "output_type": "stream",
     "text": [
      "Epoch 90, Loss 0.0473\n",
      "Training Accuracy: 0.9522, Testing Accuracy: 0.9632\n",
      "\n"
     ]
    },
    {
     "name": "stdout",
     "output_type": "stream",
     "text": [
      "Epoch 100, Loss 0.0459\n",
      "Training Accuracy: 0.9534, Testing Accuracy: 0.9632\n",
      "\n"
     ]
    },
    {
     "name": "stdout",
     "output_type": "stream",
     "text": [
      "Epoch 110, Loss 0.0447\n",
      "Training Accuracy: 0.9537, Testing Accuracy: 0.9642\n",
      "\n"
     ]
    },
    {
     "name": "stdout",
     "output_type": "stream",
     "text": [
      "Epoch 120, Loss 0.0437\n",
      "Training Accuracy: 0.9542, Testing Accuracy: 0.9642\n",
      "\n"
     ]
    },
    {
     "name": "stdout",
     "output_type": "stream",
     "text": [
      "Epoch 130, Loss 0.0427\n",
      "Training Accuracy: 0.9552, Testing Accuracy: 0.9642\n",
      "\n"
     ]
    },
    {
     "name": "stdout",
     "output_type": "stream",
     "text": [
      "Epoch 140, Loss 0.0419\n",
      "Training Accuracy: 0.9559, Testing Accuracy: 0.9647\n",
      "\n"
     ]
    },
    {
     "name": "stdout",
     "output_type": "stream",
     "text": [
      "Epoch 150, Loss 0.0412\n",
      "Training Accuracy: 0.9569, Testing Accuracy: 0.9657\n",
      "\n"
     ]
    },
    {
     "name": "stdout",
     "output_type": "stream",
     "text": [
      "Epoch 160, Loss 0.0405\n",
      "Training Accuracy: 0.9579, Testing Accuracy: 0.9657\n",
      "\n"
     ]
    },
    {
     "name": "stdout",
     "output_type": "stream",
     "text": [
      "Epoch 170, Loss 0.0399\n",
      "Training Accuracy: 0.9584, Testing Accuracy: 0.9652\n",
      "\n"
     ]
    },
    {
     "name": "stdout",
     "output_type": "stream",
     "text": [
      "Epoch 180, Loss 0.0394\n",
      "Training Accuracy: 0.9589, Testing Accuracy: 0.9652\n",
      "\n"
     ]
    },
    {
     "name": "stdout",
     "output_type": "stream",
     "text": [
      "Epoch 190, Loss 0.0389\n",
      "Training Accuracy: 0.9594, Testing Accuracy: 0.9657\n",
      "\n"
     ]
    },
    {
     "name": "stdout",
     "output_type": "stream",
     "text": [
      "Epoch 200, Loss 0.0384\n",
      "Training Accuracy: 0.9597, Testing Accuracy: 0.9667\n",
      "\n"
     ]
    },
    {
     "name": "stdout",
     "output_type": "stream",
     "text": [
      "Epoch 210, Loss 0.038\n",
      "Training Accuracy: 0.9605, Testing Accuracy: 0.9672\n",
      "\n"
     ]
    },
    {
     "name": "stdout",
     "output_type": "stream",
     "text": [
      "Epoch 220, Loss 0.0376\n",
      "Training Accuracy: 0.9606, Testing Accuracy: 0.9672\n",
      "\n"
     ]
    },
    {
     "name": "stdout",
     "output_type": "stream",
     "text": [
      "Epoch 230, Loss 0.0372\n",
      "Training Accuracy: 0.9609, Testing Accuracy: 0.9672\n",
      "\n"
     ]
    },
    {
     "name": "stdout",
     "output_type": "stream",
     "text": [
      "Epoch 240, Loss 0.0368\n",
      "Training Accuracy: 0.9612, Testing Accuracy: 0.9672\n",
      "\n"
     ]
    },
    {
     "data": {
      "text/plain": [
       "0.041726047628166216"
      ]
     },
     "execution_count": 23,
     "metadata": {},
     "output_type": "execute_result"
    }
   ],
   "source": [
    "lr_learner.train_loop(dl)"
   ]
  },
  {
   "cell_type": "code",
   "execution_count": 24,
   "id": "ca410940",
   "metadata": {
    "execution": {
     "iopub.execute_input": "2021-12-30T10:09:57.740389Z",
     "iopub.status.busy": "2021-12-30T10:09:57.739870Z",
     "iopub.status.idle": "2021-12-30T10:09:57.956398Z",
     "shell.execute_reply": "2021-12-30T10:09:57.956847Z"
    },
    "papermill": {
     "duration": 0.272941,
     "end_time": "2021-12-30T10:09:57.956983",
     "exception": false,
     "start_time": "2021-12-30T10:09:57.684042",
     "status": "completed"
    },
    "tags": []
   },
   "outputs": [
    {
     "data": {
      "text/plain": [
       "<matplotlib.legend.Legend at 0x7fd4f0c3d748>"
      ]
     },
     "execution_count": 24,
     "metadata": {},
     "output_type": "execute_result"
    },
    {
     "data": {
      "image/png": "[encoded data removed]",
      "text/plain": [
       "<Figure size 1080x720 with 1 Axes>"
      ]
     },
     "metadata": {
      "needs_background": "light"
     },
     "output_type": "display_data"
    }
   ],
   "source": [
    "#comparing the results of NN and LR\n",
    "plt.figure(figsize=(15,10))\n",
    "\n",
    "# Neural Network plots\n",
    "plt.plot(acc_nn.accuracies, 'r-', label = \"Training Accuracies - NN\")\n",
    "plt.plot(acc_nn.test_accuracies, 'g-', label = \"Testing Accuracies - NN\")\n",
    "\n",
    "# Logistic Regression plots\n",
    "plt.plot(acc_lr.accuracies, 'k-', label = \"Training Accuracies - LR\")\n",
    "plt.plot(acc_lr.test_accuracies, 'b-', label = \"Testing Accuracies - LR\")\n",
    "plt.legend()"
   ]
  },
  {
   "cell_type": "markdown",
   "id": "80dfb35c",
   "metadata": {
    "papermill": {
     "duration": 0.042047,
     "end_time": "2021-12-30T10:09:58.042464",
     "exception": false,
     "start_time": "2021-12-30T10:09:58.000417",
     "status": "completed"
    },
    "tags": []
   },
   "source": [
    "#### Plotting the outputs of this layer of the NN.\n"
   ]
  },
  {
   "cell_type": "code",
   "execution_count": 25,
   "id": "45eb2ff5",
   "metadata": {
    "execution": {
     "iopub.execute_input": "2021-12-30T10:09:58.133798Z",
     "iopub.status.busy": "2021-12-30T10:09:58.133279Z",
     "iopub.status.idle": "2021-12-30T10:09:58.149769Z",
     "shell.execute_reply": "2021-12-30T10:09:58.150175Z"
    },
    "papermill": {
     "duration": 0.065715,
     "end_time": "2021-12-30T10:09:58.150299",
     "exception": false,
     "start_time": "2021-12-30T10:09:58.084584",
     "status": "completed"
    },
    "tags": []
   },
   "outputs": [],
   "source": [
    "new_model = Model(layers[:-2])\n",
    "testing_plot = new_model(testing_data_x)"
   ]
  },
  {
   "cell_type": "code",
   "execution_count": 26,
   "id": "4c0a5485",
   "metadata": {
    "execution": {
     "iopub.execute_input": "2021-12-30T10:09:58.245849Z",
     "iopub.status.busy": "2021-12-30T10:09:58.245340Z",
     "iopub.status.idle": "2021-12-30T10:09:58.419429Z",
     "shell.execute_reply": "2021-12-30T10:09:58.418963Z"
    },
    "papermill": {
     "duration": 0.226788,
     "end_time": "2021-12-30T10:09:58.419548",
     "exception": false,
     "start_time": "2021-12-30T10:09:58.192760",
     "status": "completed"
    },
    "tags": []
   },
   "outputs": [
    {
     "data": {
      "text/plain": [
       "Text(0.5, 1.0, 'Outputs')"
      ]
     },
     "execution_count": 26,
     "metadata": {},
     "output_type": "execute_result"
    },
    {
     "data": {
      "image/png": "[encoded data removed]",
      "text/plain": [
       "<Figure size 576x504 with 1 Axes>"
      ]
     },
     "metadata": {
      "needs_background": "light"
     },
     "output_type": "display_data"
    }
   ],
   "source": [
    "# Plotting the scatter plot of points and color coding by class\n",
    "plt.figure(figsize=(8,7))\n",
    "plt.scatter(testing_plot[:,0], testing_plot[:,1], alpha = 0.1, c = y_test.ravel());\n",
    "plt.title('Outputs')"
   ]
  },
  {
   "cell_type": "markdown",
   "id": "a74fcf8f",
   "metadata": {
    "papermill": {
     "duration": 0.044229,
     "end_time": "2021-12-30T10:09:58.508282",
     "exception": false,
     "start_time": "2021-12-30T10:09:58.464053",
     "status": "completed"
    },
    "tags": []
   },
   "source": [
    "Probability contours"
   ]
  },
  {
   "cell_type": "code",
   "execution_count": 27,
   "id": "d0afc8e3",
   "metadata": {
    "execution": {
     "iopub.execute_input": "2021-12-30T10:09:58.608285Z",
     "iopub.status.busy": "2021-12-30T10:09:58.605241Z",
     "iopub.status.idle": "2021-12-30T10:09:58.614531Z",
     "shell.execute_reply": "2021-12-30T10:09:58.614127Z"
    },
    "papermill": {
     "duration": 0.062131,
     "end_time": "2021-12-30T10:09:58.614634",
     "exception": false,
     "start_time": "2021-12-30T10:09:58.552503",
     "status": "completed"
    },
    "tags": []
   },
   "outputs": [],
   "source": [
    "model_prob = Model(layers[-2:]) "
   ]
  },
  {
   "cell_type": "code",
   "execution_count": 28,
   "id": "9b96e238",
   "metadata": {
    "execution": {
     "iopub.execute_input": "2021-12-30T10:09:58.732443Z",
     "iopub.status.busy": "2021-12-30T10:09:58.731915Z",
     "iopub.status.idle": "2021-12-30T10:09:58.744188Z",
     "shell.execute_reply": "2021-12-30T10:09:58.744594Z"
    },
    "papermill": {
     "duration": 0.085967,
     "end_time": "2021-12-30T10:09:58.744716",
     "exception": false,
     "start_time": "2021-12-30T10:09:58.658749",
     "status": "completed"
    },
    "tags": []
   },
   "outputs": [],
   "source": [
    "#creating the x and y ranges according to the above generated plot.\n",
    "x_range = np.linspace(-4, 1, 100) \n",
    "y_range = np.linspace(-6, 6, 100) \n",
    "x_grid, y_grid = np.meshgrid(x_range, y_range) # x_grid and y_grig are of size 100 X 100\n",
    "\n",
    "# converting x_grid and y_grid to continuous arrays\n",
    "x_gridflat = np.ravel(x_grid)\n",
    "y_gridflat = np.ravel(y_grid)\n",
    "\n",
    "# The last layer of the current model takes two columns as input. Hence transpose of np.vstack() is required.\n",
    "X = np.vstack((x_gridflat, y_gridflat)).T\n",
    "\n",
    "prob_contour = model_prob(X).reshape(100,100) "
   ]
  },
  {
   "cell_type": "code",
   "execution_count": 29,
   "id": "da72499a",
   "metadata": {
    "execution": {
     "iopub.execute_input": "2021-12-30T10:09:58.842095Z",
     "iopub.status.busy": "2021-12-30T10:09:58.841589Z",
     "iopub.status.idle": "2021-12-30T10:09:59.079280Z",
     "shell.execute_reply": "2021-12-30T10:09:59.078740Z"
    },
    "papermill": {
     "duration": 0.29031,
     "end_time": "2021-12-30T10:09:59.079396",
     "exception": false,
     "start_time": "2021-12-30T10:09:58.789086",
     "status": "completed"
    },
    "tags": []
   },
   "outputs": [
    {
     "data": {
      "image/png": "[encoded data removed]",
      "text/plain": [
       "<Figure size 720x648 with 1 Axes>"
      ]
     },
     "metadata": {
      "needs_background": "light"
     },
     "output_type": "display_data"
    }
   ],
   "source": [
    "plt.figure(figsize=(10,9))\n",
    "plt.scatter(testing_plot[:,0], testing_plot[:,1], alpha = 0.1, c = y_test.ravel())\n",
    "contours = plt.contour(x_grid,y_grid,prob_contour)\n",
    "plt.title('Probability Contours')\n",
    "plt.clabel(contours, inline = True );"
   ]
  },
  {
   "cell_type": "code",
   "execution_count": null,
   "id": "e81b4ac7",
   "metadata": {
    "papermill": {
     "duration": 0.046808,
     "end_time": "2021-12-30T10:09:59.173806",
     "exception": false,
     "start_time": "2021-12-30T10:09:59.126998",
     "status": "completed"
    },
    "tags": []
   },
   "outputs": [],
   "source": []
  }
 ],
 "metadata": {
  "kernelspec": {
   "display_name": "Python 3",
   "language": "python",
   "name": "python3"
  },
  "language_info": {
   "codemirror_mode": {
    "name": "ipython",
    "version": 3
   },
   "file_extension": ".py",
   "mimetype": "text/x-python",
   "name": "python",
   "nbconvert_exporter": "python",
   "pygments_lexer": "ipython3",
   "version": "3.6.15"
  },
  "papermill": {
   "default_parameters": {},
   "duration": 93.846781,
   "end_time": "2021-12-30T10:09:59.529316",
   "environment_variables": {},
   "exception": null,
   "input_path": "2020-08-11-part2.ipynb",
   "output_path": "2020-08-11-part2.ipynb",
   "parameters": {},
   "start_time": "2021-12-30T10:08:25.682535",
   "version": "2.3.3"
  }
 },
 "nbformat": 4,
 "nbformat_minor": 5
}