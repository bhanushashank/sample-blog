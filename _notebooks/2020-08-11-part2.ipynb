{
 "cells": [
  {
   "cell_type": "markdown",
   "id": "98380cd3",
   "metadata": {
    "papermill": {
     "duration": 0.028811,
     "end_time": "2021-12-11T00:22:09.520746",
     "exception": false,
     "start_time": "2021-12-11T00:22:09.491935",
     "status": "completed"
    },
    "tags": []
   },
   "source": [
    "# Distinguish Your Own Digits (DYOD)"
   ]
  },
  {
   "cell_type": "markdown",
   "id": "ef31240d",
   "metadata": {
    "papermill": {
     "duration": 0.024824,
     "end_time": "2021-12-11T00:22:09.569705",
     "exception": false,
     "start_time": "2021-12-11T00:22:09.544881",
     "status": "completed"
    },
    "tags": []
   },
   "source": [
    "You are going to write a classifier that distinguishes between the number 3 and number 8."
   ]
  },
  {
   "cell_type": "code",
   "execution_count": 1,
   "id": "b15c8646",
   "metadata": {
    "execution": {
     "iopub.execute_input": "2021-12-11T00:22:09.629059Z",
     "iopub.status.busy": "2021-12-11T00:22:09.628518Z",
     "iopub.status.idle": "2021-12-11T00:22:09.638602Z",
     "shell.execute_reply": "2021-12-11T00:22:09.638150Z"
    },
    "papermill": {
     "duration": 0.044405,
     "end_time": "2021-12-11T00:22:09.638726",
     "exception": false,
     "start_time": "2021-12-11T00:22:09.594321",
     "status": "completed"
    },
    "tags": []
   },
   "outputs": [],
   "source": [
    "%load_ext autoreload\n",
    "%autoreload 2"
   ]
  },
  {
   "cell_type": "code",
   "execution_count": 2,
   "id": "22ef38dc",
   "metadata": {
    "execution": {
     "iopub.execute_input": "2021-12-11T00:22:09.689887Z",
     "iopub.status.busy": "2021-12-11T00:22:09.689372Z",
     "iopub.status.idle": "2021-12-11T00:22:10.278988Z",
     "shell.execute_reply": "2021-12-11T00:22:10.278462Z"
    },
    "papermill": {
     "duration": 0.616785,
     "end_time": "2021-12-11T00:22:10.279126",
     "exception": false,
     "start_time": "2021-12-11T00:22:09.662341",
     "status": "completed"
    },
    "tags": []
   },
   "outputs": [],
   "source": [
    "%matplotlib inline\n",
    "import numpy as np\n",
    "import matplotlib.pyplot as plt\n",
    "import pandas as pd"
   ]
  },
  {
   "cell_type": "markdown",
   "id": "ba036198",
   "metadata": {
    "papermill": {
     "duration": 0.023941,
     "end_time": "2021-12-11T00:22:10.327861",
     "exception": false,
     "start_time": "2021-12-11T00:22:10.303920",
     "status": "completed"
    },
    "tags": []
   },
   "source": [
    "From the command line run `pip install mnist`. This is a library that will help you bring down the mnist dataset. If you run this from a notebook, you need to put  `!pip install mnist` in a cell by itself."
   ]
  },
  {
   "cell_type": "code",
   "execution_count": 3,
   "id": "bb6ad8a1",
   "metadata": {
    "execution": {
     "iopub.execute_input": "2021-12-11T00:22:10.386835Z",
     "iopub.status.busy": "2021-12-11T00:22:10.384843Z",
     "iopub.status.idle": "2021-12-11T00:22:12.117435Z",
     "shell.execute_reply": "2021-12-11T00:22:12.116963Z"
    },
    "papermill": {
     "duration": 1.765758,
     "end_time": "2021-12-11T00:22:12.117562",
     "exception": false,
     "start_time": "2021-12-11T00:22:10.351804",
     "status": "completed"
    },
    "tags": []
   },
   "outputs": [
    {
     "name": "stdout",
     "output_type": "stream",
     "text": [
      "Collecting mnist\r\n"
     ]
    },
    {
     "name": "stdout",
     "output_type": "stream",
     "text": [
      "  Downloading mnist-0.2.2-py2.py3-none-any.whl (3.5 kB)\r\n"
     ]
    },
    {
     "name": "stdout",
     "output_type": "stream",
     "text": [
      "Requirement already satisfied: numpy in /opt/hostedtoolcache/Python/3.6.15/x64/lib/python3.6/site-packages (from mnist) (1.19.5)\r\n"
     ]
    },
    {
     "name": "stdout",
     "output_type": "stream",
     "text": [
      "Installing collected packages: mnist\r\n",
      "Successfully installed mnist-0.2.2\r\n"
     ]
    }
   ],
   "source": [
    "!pip install mnist"
   ]
  },
  {
   "cell_type": "markdown",
   "id": "69df9c9a",
   "metadata": {
    "papermill": {
     "duration": 0.024806,
     "end_time": "2021-12-11T00:22:12.167470",
     "exception": false,
     "start_time": "2021-12-11T00:22:12.142664",
     "status": "completed"
    },
    "tags": []
   },
   "source": [
    "## Preparing the Data"
   ]
  },
  {
   "cell_type": "code",
   "execution_count": 4,
   "id": "7f69d806",
   "metadata": {
    "execution": {
     "iopub.execute_input": "2021-12-11T00:22:12.221327Z",
     "iopub.status.busy": "2021-12-11T00:22:12.220808Z",
     "iopub.status.idle": "2021-12-11T00:22:12.235208Z",
     "shell.execute_reply": "2021-12-11T00:22:12.235624Z"
    },
    "papermill": {
     "duration": 0.043378,
     "end_time": "2021-12-11T00:22:12.235762",
     "exception": false,
     "start_time": "2021-12-11T00:22:12.192384",
     "status": "completed"
    },
    "tags": []
   },
   "outputs": [],
   "source": [
    "import mnist"
   ]
  },
  {
   "cell_type": "code",
   "execution_count": 5,
   "id": "a411e44f",
   "metadata": {
    "execution": {
     "iopub.execute_input": "2021-12-11T00:22:12.289360Z",
     "iopub.status.busy": "2021-12-11T00:22:12.288835Z",
     "iopub.status.idle": "2021-12-11T00:22:12.825607Z",
     "shell.execute_reply": "2021-12-11T00:22:12.825084Z"
    },
    "papermill": {
     "duration": 0.564945,
     "end_time": "2021-12-11T00:22:12.825746",
     "exception": false,
     "start_time": "2021-12-11T00:22:12.260801",
     "status": "completed"
    },
    "tags": []
   },
   "outputs": [],
   "source": [
    "train_images = mnist.train_images()\n",
    "train_labels = mnist.train_labels()"
   ]
  },
  {
   "cell_type": "code",
   "execution_count": 6,
   "id": "dceab3a5",
   "metadata": {
    "execution": {
     "iopub.execute_input": "2021-12-11T00:22:12.880511Z",
     "iopub.status.busy": "2021-12-11T00:22:12.879947Z",
     "iopub.status.idle": "2021-12-11T00:22:12.894462Z",
     "shell.execute_reply": "2021-12-11T00:22:12.894040Z"
    },
    "papermill": {
     "duration": 0.042966,
     "end_time": "2021-12-11T00:22:12.894578",
     "exception": false,
     "start_time": "2021-12-11T00:22:12.851612",
     "status": "completed"
    },
    "tags": []
   },
   "outputs": [
    {
     "data": {
      "text/plain": [
       "((60000, 28, 28), (60000,))"
      ]
     },
     "execution_count": 6,
     "metadata": {},
     "output_type": "execute_result"
    }
   ],
   "source": [
    "train_images.shape, train_labels.shape"
   ]
  },
  {
   "cell_type": "code",
   "execution_count": 7,
   "id": "f50dc2bb",
   "metadata": {
    "execution": {
     "iopub.execute_input": "2021-12-11T00:22:12.950858Z",
     "iopub.status.busy": "2021-12-11T00:22:12.950325Z",
     "iopub.status.idle": "2021-12-11T00:22:13.132973Z",
     "shell.execute_reply": "2021-12-11T00:22:13.132358Z"
    },
    "papermill": {
     "duration": 0.213305,
     "end_time": "2021-12-11T00:22:13.133115",
     "exception": false,
     "start_time": "2021-12-11T00:22:12.919810",
     "status": "completed"
    },
    "tags": []
   },
   "outputs": [],
   "source": [
    "test_images = mnist.test_images()\n",
    "test_labels = mnist.test_labels()"
   ]
  },
  {
   "cell_type": "code",
   "execution_count": 8,
   "id": "fc38cf1b",
   "metadata": {
    "execution": {
     "iopub.execute_input": "2021-12-11T00:22:13.187681Z",
     "iopub.status.busy": "2021-12-11T00:22:13.187156Z",
     "iopub.status.idle": "2021-12-11T00:22:13.200896Z",
     "shell.execute_reply": "2021-12-11T00:22:13.200461Z"
    },
    "papermill": {
     "duration": 0.042487,
     "end_time": "2021-12-11T00:22:13.201013",
     "exception": false,
     "start_time": "2021-12-11T00:22:13.158526",
     "status": "completed"
    },
    "tags": []
   },
   "outputs": [
    {
     "data": {
      "text/plain": [
       "((10000, 28, 28), (10000,))"
      ]
     },
     "execution_count": 8,
     "metadata": {},
     "output_type": "execute_result"
    }
   ],
   "source": [
    "test_images.shape, test_labels.shape"
   ]
  },
  {
   "cell_type": "code",
   "execution_count": 9,
   "id": "f9ed8fe0",
   "metadata": {
    "execution": {
     "iopub.execute_input": "2021-12-11T00:22:13.256801Z",
     "iopub.status.busy": "2021-12-11T00:22:13.256262Z",
     "iopub.status.idle": "2021-12-11T00:22:13.392735Z",
     "shell.execute_reply": "2021-12-11T00:22:13.393213Z"
    },
    "papermill": {
     "duration": 0.166744,
     "end_time": "2021-12-11T00:22:13.393362",
     "exception": false,
     "start_time": "2021-12-11T00:22:13.226618",
     "status": "completed"
    },
    "tags": []
   },
   "outputs": [
    {
     "name": "stdout",
     "output_type": "stream",
     "text": [
      "2\n"
     ]
    },
    {
     "data": {
      "text/plain": [
       "<matplotlib.image.AxesImage at 0x7f751a9eca90>"
      ]
     },
     "execution_count": 9,
     "metadata": {},
     "output_type": "execute_result"
    },
    {
     "data": {
      "image/png": "[encoded data removed]",
      "text/plain": [
       "<Figure size 432x288 with 1 Axes>"
      ]
     },
     "metadata": {
      "needs_background": "light"
     },
     "output_type": "display_data"
    }
   ],
   "source": [
    "image_index = 7776 # You may select anything up to 60,000\n",
    "print(train_labels[image_index]) \n",
    "plt.imshow(train_images[image_index], cmap='Greys')"
   ]
  },
  {
   "cell_type": "markdown",
   "id": "a8d2388d",
   "metadata": {
    "papermill": {
     "duration": 0.026479,
     "end_time": "2021-12-11T00:22:13.447332",
     "exception": false,
     "start_time": "2021-12-11T00:22:13.420853",
     "status": "completed"
    },
    "tags": []
   },
   "source": [
    "## Filter data to get 3 and 8 out"
   ]
  },
  {
   "cell_type": "code",
   "execution_count": 10,
   "id": "776f7fc7",
   "metadata": {
    "execution": {
     "iopub.execute_input": "2021-12-11T00:22:13.511891Z",
     "iopub.status.busy": "2021-12-11T00:22:13.508608Z",
     "iopub.status.idle": "2021-12-11T00:22:13.522919Z",
     "shell.execute_reply": "2021-12-11T00:22:13.522490Z"
    },
    "papermill": {
     "duration": 0.049267,
     "end_time": "2021-12-11T00:22:13.523038",
     "exception": false,
     "start_time": "2021-12-11T00:22:13.473771",
     "status": "completed"
    },
    "tags": []
   },
   "outputs": [],
   "source": [
    "train_filter = np.where((train_labels == 3 ) | (train_labels == 8))\n",
    "test_filter = np.where((test_labels == 3) | (test_labels == 8))\n",
    "X_train, y_train = train_images[train_filter], train_labels[train_filter]\n",
    "X_test, y_test = test_images[test_filter], test_labels[test_filter]"
   ]
  },
  {
   "cell_type": "markdown",
   "id": "948f0b7e",
   "metadata": {
    "papermill": {
     "duration": 0.026293,
     "end_time": "2021-12-11T00:22:13.575893",
     "exception": false,
     "start_time": "2021-12-11T00:22:13.549600",
     "status": "completed"
    },
    "tags": []
   },
   "source": [
    "We normalize the pizel values in the 0 to 1 range"
   ]
  },
  {
   "cell_type": "code",
   "execution_count": 11,
   "id": "ee4c2166",
   "metadata": {
    "execution": {
     "iopub.execute_input": "2021-12-11T00:22:13.633350Z",
     "iopub.status.busy": "2021-12-11T00:22:13.632799Z",
     "iopub.status.idle": "2021-12-11T00:22:13.680669Z",
     "shell.execute_reply": "2021-12-11T00:22:13.680118Z"
    },
    "papermill": {
     "duration": 0.078488,
     "end_time": "2021-12-11T00:22:13.680796",
     "exception": false,
     "start_time": "2021-12-11T00:22:13.602308",
     "status": "completed"
    },
    "tags": []
   },
   "outputs": [],
   "source": [
    "X_train = X_train/255.\n",
    "X_test = X_test/255."
   ]
  },
  {
   "cell_type": "markdown",
   "id": "ddcf4fab",
   "metadata": {
    "papermill": {
     "duration": 0.02637,
     "end_time": "2021-12-11T00:22:13.734844",
     "exception": false,
     "start_time": "2021-12-11T00:22:13.708474",
     "status": "completed"
    },
    "tags": []
   },
   "source": [
    "And setup the labels as 1 (when the digit is 3) and 0 (when the digit is 8)"
   ]
  },
  {
   "cell_type": "code",
   "execution_count": 12,
   "id": "7dc908f2",
   "metadata": {
    "execution": {
     "iopub.execute_input": "2021-12-11T00:22:13.793597Z",
     "iopub.status.busy": "2021-12-11T00:22:13.792997Z",
     "iopub.status.idle": "2021-12-11T00:22:13.801997Z",
     "shell.execute_reply": "2021-12-11T00:22:13.801568Z"
    },
    "papermill": {
     "duration": 0.040981,
     "end_time": "2021-12-11T00:22:13.802112",
     "exception": false,
     "start_time": "2021-12-11T00:22:13.761131",
     "status": "completed"
    },
    "tags": []
   },
   "outputs": [],
   "source": [
    "y_train = 1*(y_train==3)\n",
    "y_test = 1*(y_test==3)"
   ]
  },
  {
   "cell_type": "code",
   "execution_count": 13,
   "id": "01e4e969",
   "metadata": {
    "execution": {
     "iopub.execute_input": "2021-12-11T00:22:13.861256Z",
     "iopub.status.busy": "2021-12-11T00:22:13.860020Z",
     "iopub.status.idle": "2021-12-11T00:22:13.872465Z",
     "shell.execute_reply": "2021-12-11T00:22:13.871991Z"
    },
    "papermill": {
     "duration": 0.044065,
     "end_time": "2021-12-11T00:22:13.872584",
     "exception": false,
     "start_time": "2021-12-11T00:22:13.828519",
     "status": "completed"
    },
    "tags": []
   },
   "outputs": [
    {
     "data": {
      "text/plain": [
       "((11982, 28, 28), (1984, 28, 28))"
      ]
     },
     "execution_count": 13,
     "metadata": {},
     "output_type": "execute_result"
    }
   ],
   "source": [
    "X_train.shape, X_test.shape"
   ]
  },
  {
   "cell_type": "markdown",
   "id": "5ccf3f85",
   "metadata": {
    "papermill": {
     "duration": 0.026646,
     "end_time": "2021-12-11T00:22:13.926021",
     "exception": false,
     "start_time": "2021-12-11T00:22:13.899375",
     "status": "completed"
    },
    "tags": []
   },
   "source": [
    "We reshape the data to flatten the image pixels into a set of features or co-variates:"
   ]
  },
  {
   "cell_type": "code",
   "execution_count": 14,
   "id": "5286a4a3",
   "metadata": {
    "execution": {
     "iopub.execute_input": "2021-12-11T00:22:13.983956Z",
     "iopub.status.busy": "2021-12-11T00:22:13.983407Z",
     "iopub.status.idle": "2021-12-11T00:22:13.996963Z",
     "shell.execute_reply": "2021-12-11T00:22:13.997351Z"
    },
    "papermill": {
     "duration": 0.044714,
     "end_time": "2021-12-11T00:22:13.997488",
     "exception": false,
     "start_time": "2021-12-11T00:22:13.952774",
     "status": "completed"
    },
    "tags": []
   },
   "outputs": [
    {
     "data": {
      "text/plain": [
       "((11982, 784), (1984, 784))"
      ]
     },
     "execution_count": 14,
     "metadata": {},
     "output_type": "execute_result"
    }
   ],
   "source": [
    "X_train = X_train.reshape(X_train.shape[0], -1)\n",
    "X_test = X_test.reshape(X_test.shape[0], -1)\n",
    "X_train.shape, X_test.shape"
   ]
  },
  {
   "cell_type": "code",
   "execution_count": 15,
   "id": "73c5f88a",
   "metadata": {
    "execution": {
     "iopub.execute_input": "2021-12-11T00:22:14.056460Z",
     "iopub.status.busy": "2021-12-11T00:22:14.055865Z",
     "iopub.status.idle": "2021-12-11T00:22:14.075023Z",
     "shell.execute_reply": "2021-12-11T00:22:14.074533Z"
    },
    "papermill": {
     "duration": 0.050675,
     "end_time": "2021-12-11T00:22:14.075154",
     "exception": false,
     "start_time": "2021-12-11T00:22:14.024479",
     "status": "completed"
    },
    "tags": []
   },
   "outputs": [],
   "source": [
    "#Impoting functions from 'Kudzu'\n",
    "from kudzu.model import Model\n",
    "from kudzu.train import Learner\n",
    "from kudzu.optim import GD\n",
    "from kudzu.data import Data, Sampler,Dataloader\n",
    "\n",
    "from kudzu.callbacks import AccCallback\n",
    "from kudzu.callbacks import ClfCallback\n",
    "\n",
    "from kudzu.loss import MSE\n",
    "\n",
    "from kudzu.layer import Sigmoid,Relu\n",
    "from kudzu.layer import Affine"
   ]
  },
  {
   "cell_type": "markdown",
   "id": "bc01172a",
   "metadata": {
    "papermill": {
     "duration": 0.026951,
     "end_time": "2021-12-11T00:22:14.130165",
     "exception": false,
     "start_time": "2021-12-11T00:22:14.103214",
     "status": "completed"
    },
    "tags": []
   },
   "source": [
    "### Let us create a `Config` class, to store important parameters. \n",
    "This class essentially plays the role of a dictionary."
   ]
  },
  {
   "cell_type": "code",
   "execution_count": 16,
   "id": "978281aa",
   "metadata": {
    "execution": {
     "iopub.execute_input": "2021-12-11T00:22:14.195456Z",
     "iopub.status.busy": "2021-12-11T00:22:14.194894Z",
     "iopub.status.idle": "2021-12-11T00:22:14.204805Z",
     "shell.execute_reply": "2021-12-11T00:22:14.204332Z"
    },
    "papermill": {
     "duration": 0.047618,
     "end_time": "2021-12-11T00:22:14.204924",
     "exception": false,
     "start_time": "2021-12-11T00:22:14.157306",
     "status": "completed"
    },
    "tags": []
   },
   "outputs": [],
   "source": [
    "class Config:\n",
    "    pass\n",
    "config = Config()\n",
    "config.lr = 0.001\n",
    "config.num_epochs = 250\n",
    "config.bs = 50"
   ]
  },
  {
   "cell_type": "markdown",
   "id": "1385fa59",
   "metadata": {
    "papermill": {
     "duration": 0.027052,
     "end_time": "2021-12-11T00:22:14.259164",
     "exception": false,
     "start_time": "2021-12-11T00:22:14.232112",
     "status": "completed"
    },
    "tags": []
   },
   "source": [
    "### Running Models with the Training data\n",
    "Details about the network layers:\n",
    "- A first affine layer has 784 inputs and does 100 affine transforms. These are followed by a Relu\n",
    "- A second affine layer has 100 inputs from the 100 activations of the past layer, and does 100 affine transforms. These are followed by a Relu\n",
    "- A third affine layer has 100 activations and does 2 affine transformations to create an embedding for visualization. There is no non-linearity here.\n",
    "- A final \"logistic regression\" which has an affine transform from 2 inputs to 1 output, which is squeezed through a sigmoid.\n"
   ]
  },
  {
   "cell_type": "code",
   "execution_count": 17,
   "id": "2b9c66db",
   "metadata": {
    "execution": {
     "iopub.execute_input": "2021-12-11T00:22:14.324912Z",
     "iopub.status.busy": "2021-12-11T00:22:14.316975Z",
     "iopub.status.idle": "2021-12-11T00:22:14.331914Z",
     "shell.execute_reply": "2021-12-11T00:22:14.331501Z"
    },
    "papermill": {
     "duration": 0.045956,
     "end_time": "2021-12-11T00:22:14.332027",
     "exception": false,
     "start_time": "2021-12-11T00:22:14.286071",
     "status": "completed"
    },
    "tags": []
   },
   "outputs": [],
   "source": [
    "data = Data(X_train, y_train.reshape(-1,1))\n",
    "sampler = Sampler(data, config.bs, shuffle=True)\n",
    "\n",
    "dl = Dataloader(data, sampler)\n",
    "\n",
    "opt = GD(config.lr)\n",
    "loss = MSE()"
   ]
  },
  {
   "cell_type": "code",
   "execution_count": 18,
   "id": "b275e4c2",
   "metadata": {
    "execution": {
     "iopub.execute_input": "2021-12-11T00:22:14.389137Z",
     "iopub.status.busy": "2021-12-11T00:22:14.388628Z",
     "iopub.status.idle": "2021-12-11T00:22:14.400847Z",
     "shell.execute_reply": "2021-12-11T00:22:14.401234Z"
    },
    "papermill": {
     "duration": 0.04248,
     "end_time": "2021-12-11T00:22:14.401360",
     "exception": false,
     "start_time": "2021-12-11T00:22:14.358880",
     "status": "completed"
    },
    "tags": []
   },
   "outputs": [],
   "source": [
    "training_data_x = X_train\n",
    "testing_data_x = X_test\n",
    "training_data_y = y_train.reshape(-1,1)\n",
    "testing_data_y = y_test.reshape(-1,1)"
   ]
  },
  {
   "cell_type": "code",
   "execution_count": 19,
   "id": "76951160",
   "metadata": {
    "execution": {
     "iopub.execute_input": "2021-12-11T00:22:14.458835Z",
     "iopub.status.busy": "2021-12-11T00:22:14.458315Z",
     "iopub.status.idle": "2021-12-11T00:22:14.473775Z",
     "shell.execute_reply": "2021-12-11T00:22:14.473365Z"
    },
    "papermill": {
     "duration": 0.045935,
     "end_time": "2021-12-11T00:22:14.473884",
     "exception": false,
     "start_time": "2021-12-11T00:22:14.427949",
     "status": "completed"
    },
    "tags": []
   },
   "outputs": [
    {
     "name": "stdout",
     "output_type": "stream",
     "text": [
      "xavier\n",
      "xavier\n",
      "xavier\n",
      "xavier\n",
      "xavier\n"
     ]
    }
   ],
   "source": [
    "layers = [Affine(\"first\", 784, 100), Relu(\"first\"), Affine(\"second\", 100, 100), Relu(\"second\"), Affine(\"third\", 100, 2), Affine(\"last\", 2, 1), Sigmoid(\"last\")]\n",
    "model_nn = Model(layers)\n",
    "model_lr = Model([Affine(\"logits\", 784, 1), Sigmoid(\"sigmoid\")])"
   ]
  },
  {
   "cell_type": "code",
   "execution_count": 20,
   "id": "6eede77a",
   "metadata": {
    "execution": {
     "iopub.execute_input": "2021-12-11T00:22:14.531963Z",
     "iopub.status.busy": "2021-12-11T00:22:14.531455Z",
     "iopub.status.idle": "2021-12-11T00:22:14.544140Z",
     "shell.execute_reply": "2021-12-11T00:22:14.543724Z"
    },
    "papermill": {
     "duration": 0.043325,
     "end_time": "2021-12-11T00:22:14.544274",
     "exception": false,
     "start_time": "2021-12-11T00:22:14.500949",
     "status": "completed"
    },
    "tags": []
   },
   "outputs": [],
   "source": [
    "nn_learner = Learner(loss, model_nn, opt, config.num_epochs)\n",
    "acc_nn = ClfCallback(nn_learner, config.bs, training_data_x , testing_data_x, training_data_y, testing_data_y)\n",
    "nn_learner.set_callbacks([acc_nn])"
   ]
  },
  {
   "cell_type": "code",
   "execution_count": 21,
   "id": "877b6cc7",
   "metadata": {
    "execution": {
     "iopub.execute_input": "2021-12-11T00:22:14.601919Z",
     "iopub.status.busy": "2021-12-11T00:22:14.601410Z",
     "iopub.status.idle": "2021-12-11T00:22:14.613617Z",
     "shell.execute_reply": "2021-12-11T00:22:14.613197Z"
    },
    "papermill": {
     "duration": 0.042491,
     "end_time": "2021-12-11T00:22:14.613728",
     "exception": false,
     "start_time": "2021-12-11T00:22:14.571237",
     "status": "completed"
    },
    "tags": []
   },
   "outputs": [],
   "source": [
    "lr_learner = Learner(loss, model_lr, opt, config.num_epochs)\n",
    "acc_lr = ClfCallback(lr_learner, config.bs, training_data_x , testing_data_x, training_data_y, testing_data_y)\n",
    "lr_learner.set_callbacks([acc_lr])"
   ]
  },
  {
   "cell_type": "code",
   "execution_count": 22,
   "id": "d9b133c3",
   "metadata": {
    "execution": {
     "iopub.execute_input": "2021-12-11T00:22:14.677427Z",
     "iopub.status.busy": "2021-12-11T00:22:14.676887Z",
     "iopub.status.idle": "2021-12-11T00:23:29.864204Z",
     "shell.execute_reply": "2021-12-11T00:23:29.865001Z"
    },
    "papermill": {
     "duration": 75.224274,
     "end_time": "2021-12-11T00:23:29.865149",
     "exception": false,
     "start_time": "2021-12-11T00:22:14.640875",
     "status": "completed"
    },
    "tags": []
   },
   "outputs": [
    {
     "name": "stdout",
     "output_type": "stream",
     "text": [
      "Epoch 0, Loss 0.2521\n",
      "Training Accuracy: 0.5857, Testing Accuracy: 0.5842\n",
      "\n"
     ]
    },
    {
     "name": "stdout",
     "output_type": "stream",
     "text": [
      "Epoch 10, Loss 0.1008\n",
      "Training Accuracy: 0.9044, Testing Accuracy: 0.9113\n",
      "\n"
     ]
    },
    {
     "name": "stdout",
     "output_type": "stream",
     "text": [
      "Epoch 20, Loss 0.0602\n",
      "Training Accuracy: 0.9362, Testing Accuracy: 0.9420\n",
      "\n"
     ]
    },
    {
     "name": "stdout",
     "output_type": "stream",
     "text": [
      "Epoch 30, Loss 0.0467\n",
      "Training Accuracy: 0.9458, Testing Accuracy: 0.9561\n",
      "\n"
     ]
    },
    {
     "name": "stdout",
     "output_type": "stream",
     "text": [
      "Epoch 40, Loss 0.0401\n",
      "Training Accuracy: 0.9522, Testing Accuracy: 0.9587\n",
      "\n"
     ]
    },
    {
     "name": "stdout",
     "output_type": "stream",
     "text": [
      "Epoch 50, Loss 0.0362\n",
      "Training Accuracy: 0.9589, Testing Accuracy: 0.9627\n",
      "\n"
     ]
    },
    {
     "name": "stdout",
     "output_type": "stream",
     "text": [
      "Epoch 60, Loss 0.0334\n",
      "Training Accuracy: 0.9626, Testing Accuracy: 0.9652\n",
      "\n"
     ]
    },
    {
     "name": "stdout",
     "output_type": "stream",
     "text": [
      "Epoch 70, Loss 0.0314\n",
      "Training Accuracy: 0.9647, Testing Accuracy: 0.9667\n",
      "\n"
     ]
    },
    {
     "name": "stdout",
     "output_type": "stream",
     "text": [
      "Epoch 80, Loss 0.0298\n",
      "Training Accuracy: 0.9658, Testing Accuracy: 0.9677\n",
      "\n"
     ]
    },
    {
     "name": "stdout",
     "output_type": "stream",
     "text": [
      "Epoch 90, Loss 0.0285\n",
      "Training Accuracy: 0.9674, Testing Accuracy: 0.9693\n",
      "\n"
     ]
    },
    {
     "name": "stdout",
     "output_type": "stream",
     "text": [
      "Epoch 100, Loss 0.0274\n",
      "Training Accuracy: 0.9690, Testing Accuracy: 0.9688\n",
      "\n"
     ]
    },
    {
     "name": "stdout",
     "output_type": "stream",
     "text": [
      "Epoch 110, Loss 0.0264\n",
      "Training Accuracy: 0.9700, Testing Accuracy: 0.9693\n",
      "\n"
     ]
    },
    {
     "name": "stdout",
     "output_type": "stream",
     "text": [
      "Epoch 120, Loss 0.0256\n",
      "Training Accuracy: 0.9706, Testing Accuracy: 0.9688\n",
      "\n"
     ]
    },
    {
     "name": "stdout",
     "output_type": "stream",
     "text": [
      "Epoch 130, Loss 0.0248\n",
      "Training Accuracy: 0.9716, Testing Accuracy: 0.9698\n",
      "\n"
     ]
    },
    {
     "name": "stdout",
     "output_type": "stream",
     "text": [
      "Epoch 140, Loss 0.0241\n",
      "Training Accuracy: 0.9721, Testing Accuracy: 0.9703\n",
      "\n"
     ]
    },
    {
     "name": "stdout",
     "output_type": "stream",
     "text": [
      "Epoch 150, Loss 0.0235\n",
      "Training Accuracy: 0.9733, Testing Accuracy: 0.9713\n",
      "\n"
     ]
    },
    {
     "name": "stdout",
     "output_type": "stream",
     "text": [
      "Epoch 160, Loss 0.0229\n",
      "Training Accuracy: 0.9740, Testing Accuracy: 0.9713\n",
      "\n"
     ]
    },
    {
     "name": "stdout",
     "output_type": "stream",
     "text": [
      "Epoch 170, Loss 0.0223\n",
      "Training Accuracy: 0.9744, Testing Accuracy: 0.9723\n",
      "\n"
     ]
    },
    {
     "name": "stdout",
     "output_type": "stream",
     "text": [
      "Epoch 180, Loss 0.0218\n",
      "Training Accuracy: 0.9752, Testing Accuracy: 0.9723\n",
      "\n"
     ]
    },
    {
     "name": "stdout",
     "output_type": "stream",
     "text": [
      "Epoch 190, Loss 0.0213\n",
      "Training Accuracy: 0.9755, Testing Accuracy: 0.9723\n",
      "\n"
     ]
    },
    {
     "name": "stdout",
     "output_type": "stream",
     "text": [
      "Epoch 200, Loss 0.0209\n",
      "Training Accuracy: 0.9761, Testing Accuracy: 0.9723\n",
      "\n"
     ]
    },
    {
     "name": "stdout",
     "output_type": "stream",
     "text": [
      "Epoch 210, Loss 0.0204\n",
      "Training Accuracy: 0.9769, Testing Accuracy: 0.9723\n",
      "\n"
     ]
    },
    {
     "name": "stdout",
     "output_type": "stream",
     "text": [
      "Epoch 220, Loss 0.02\n",
      "Training Accuracy: 0.9774, Testing Accuracy: 0.9733\n",
      "\n"
     ]
    },
    {
     "name": "stdout",
     "output_type": "stream",
     "text": [
      "Epoch 230, Loss 0.0196\n",
      "Training Accuracy: 0.9778, Testing Accuracy: 0.9733\n",
      "\n"
     ]
    },
    {
     "name": "stdout",
     "output_type": "stream",
     "text": [
      "Epoch 240, Loss 0.0193\n",
      "Training Accuracy: 0.9783, Testing Accuracy: 0.9728\n",
      "\n"
     ]
    },
    {
     "data": {
      "text/plain": [
       "0.004755423649860908"
      ]
     },
     "execution_count": 22,
     "metadata": {},
     "output_type": "execute_result"
    }
   ],
   "source": [
    "nn_learner.train_loop(dl)"
   ]
  },
  {
   "cell_type": "code",
   "execution_count": 23,
   "id": "e0163366",
   "metadata": {
    "execution": {
     "iopub.execute_input": "2021-12-11T00:23:29.947690Z",
     "iopub.status.busy": "2021-12-11T00:23:29.945917Z",
     "iopub.status.idle": "2021-12-11T00:23:43.331766Z",
     "shell.execute_reply": "2021-12-11T00:23:43.332533Z"
    },
    "papermill": {
     "duration": 13.430914,
     "end_time": "2021-12-11T00:23:43.332682",
     "exception": false,
     "start_time": "2021-12-11T00:23:29.901768",
     "status": "completed"
    },
    "tags": []
   },
   "outputs": [
    {
     "name": "stdout",
     "output_type": "stream",
     "text": [
      "Epoch 0, Loss 0.2501\n",
      "Training Accuracy: 0.6598, Testing Accuracy: 0.6613\n",
      "\n"
     ]
    },
    {
     "name": "stdout",
     "output_type": "stream",
     "text": [
      "Epoch 10, Loss 0.1048\n",
      "Training Accuracy: 0.9024, Testing Accuracy: 0.9113\n",
      "\n"
     ]
    },
    {
     "name": "stdout",
     "output_type": "stream",
     "text": [
      "Epoch 20, Loss 0.0811\n",
      "Training Accuracy: 0.9219, Testing Accuracy: 0.9335\n",
      "\n"
     ]
    },
    {
     "name": "stdout",
     "output_type": "stream",
     "text": [
      "Epoch 30, Loss 0.07\n",
      "Training Accuracy: 0.9309, Testing Accuracy: 0.9425\n",
      "\n"
     ]
    },
    {
     "name": "stdout",
     "output_type": "stream",
     "text": [
      "Epoch 40, Loss 0.0632\n",
      "Training Accuracy: 0.9355, Testing Accuracy: 0.9491\n",
      "\n"
     ]
    },
    {
     "name": "stdout",
     "output_type": "stream",
     "text": [
      "Epoch 50, Loss 0.0585\n",
      "Training Accuracy: 0.9397, Testing Accuracy: 0.9526\n",
      "\n"
     ]
    },
    {
     "name": "stdout",
     "output_type": "stream",
     "text": [
      "Epoch 60, Loss 0.055\n",
      "Training Accuracy: 0.9427, Testing Accuracy: 0.9551\n",
      "\n"
     ]
    },
    {
     "name": "stdout",
     "output_type": "stream",
     "text": [
      "Epoch 70, Loss 0.0524\n",
      "Training Accuracy: 0.9453, Testing Accuracy: 0.9567\n",
      "\n"
     ]
    },
    {
     "name": "stdout",
     "output_type": "stream",
     "text": [
      "Epoch 80, Loss 0.0502\n",
      "Training Accuracy: 0.9473, Testing Accuracy: 0.9597\n",
      "\n"
     ]
    },
    {
     "name": "stdout",
     "output_type": "stream",
     "text": [
      "Epoch 90, Loss 0.0484\n",
      "Training Accuracy: 0.9488, Testing Accuracy: 0.9612\n",
      "\n"
     ]
    },
    {
     "name": "stdout",
     "output_type": "stream",
     "text": [
      "Epoch 100, Loss 0.047\n",
      "Training Accuracy: 0.9502, Testing Accuracy: 0.9627\n",
      "\n"
     ]
    },
    {
     "name": "stdout",
     "output_type": "stream",
     "text": [
      "Epoch 110, Loss 0.0457\n",
      "Training Accuracy: 0.9515, Testing Accuracy: 0.9627\n",
      "\n"
     ]
    },
    {
     "name": "stdout",
     "output_type": "stream",
     "text": [
      "Epoch 120, Loss 0.0446\n",
      "Training Accuracy: 0.9527, Testing Accuracy: 0.9627\n",
      "\n"
     ]
    },
    {
     "name": "stdout",
     "output_type": "stream",
     "text": [
      "Epoch 130, Loss 0.0436\n",
      "Training Accuracy: 0.9539, Testing Accuracy: 0.9632\n",
      "\n"
     ]
    },
    {
     "name": "stdout",
     "output_type": "stream",
     "text": [
      "Epoch 140, Loss 0.0427\n",
      "Training Accuracy: 0.9542, Testing Accuracy: 0.9632\n",
      "\n"
     ]
    },
    {
     "name": "stdout",
     "output_type": "stream",
     "text": [
      "Epoch 150, Loss 0.0419\n",
      "Training Accuracy: 0.9548, Testing Accuracy: 0.9632\n",
      "\n"
     ]
    },
    {
     "name": "stdout",
     "output_type": "stream",
     "text": [
      "Epoch 160, Loss 0.0412\n",
      "Training Accuracy: 0.9556, Testing Accuracy: 0.9637\n",
      "\n"
     ]
    },
    {
     "name": "stdout",
     "output_type": "stream",
     "text": [
      "Epoch 170, Loss 0.0406\n",
      "Training Accuracy: 0.9564, Testing Accuracy: 0.9642\n",
      "\n"
     ]
    },
    {
     "name": "stdout",
     "output_type": "stream",
     "text": [
      "Epoch 180, Loss 0.04\n",
      "Training Accuracy: 0.9568, Testing Accuracy: 0.9657\n",
      "\n"
     ]
    },
    {
     "name": "stdout",
     "output_type": "stream",
     "text": [
      "Epoch 190, Loss 0.0394\n",
      "Training Accuracy: 0.9577, Testing Accuracy: 0.9672\n",
      "\n"
     ]
    },
    {
     "name": "stdout",
     "output_type": "stream",
     "text": [
      "Epoch 200, Loss 0.0389\n",
      "Training Accuracy: 0.9580, Testing Accuracy: 0.9677\n",
      "\n"
     ]
    },
    {
     "name": "stdout",
     "output_type": "stream",
     "text": [
      "Epoch 210, Loss 0.0385\n",
      "Training Accuracy: 0.9584, Testing Accuracy: 0.9682\n",
      "\n"
     ]
    },
    {
     "name": "stdout",
     "output_type": "stream",
     "text": [
      "Epoch 220, Loss 0.0381\n",
      "Training Accuracy: 0.9587, Testing Accuracy: 0.9682\n",
      "\n"
     ]
    },
    {
     "name": "stdout",
     "output_type": "stream",
     "text": [
      "Epoch 230, Loss 0.0377\n",
      "Training Accuracy: 0.9589, Testing Accuracy: 0.9682\n",
      "\n"
     ]
    },
    {
     "name": "stdout",
     "output_type": "stream",
     "text": [
      "Epoch 240, Loss 0.0373\n",
      "Training Accuracy: 0.9591, Testing Accuracy: 0.9682\n",
      "\n"
     ]
    },
    {
     "data": {
      "text/plain": [
       "0.010757154656718192"
      ]
     },
     "execution_count": 23,
     "metadata": {},
     "output_type": "execute_result"
    }
   ],
   "source": [
    "lr_learner.train_loop(dl)"
   ]
  },
  {
   "cell_type": "code",
   "execution_count": 24,
   "id": "ca410940",
   "metadata": {
    "execution": {
     "iopub.execute_input": "2021-12-11T00:23:43.421882Z",
     "iopub.status.busy": "2021-12-11T00:23:43.421344Z",
     "iopub.status.idle": "2021-12-11T00:23:43.654793Z",
     "shell.execute_reply": "2021-12-11T00:23:43.655208Z"
    },
    "papermill": {
     "duration": 0.281806,
     "end_time": "2021-12-11T00:23:43.655353",
     "exception": false,
     "start_time": "2021-12-11T00:23:43.373547",
     "status": "completed"
    },
    "tags": []
   },
   "outputs": [
    {
     "data": {
      "text/plain": [
       "<matplotlib.legend.Legend at 0x7f750d24aba8>"
      ]
     },
     "execution_count": 24,
     "metadata": {},
     "output_type": "execute_result"
    },
    {
     "data": {
      "image/png": "[encoded data removed]",
      "text/plain": [
       "<Figure size 1080x720 with 1 Axes>"
      ]
     },
     "metadata": {
      "needs_background": "light"
     },
     "output_type": "display_data"
    }
   ],
   "source": [
    "#comparing the results of NN and LR\n",
    "plt.figure(figsize=(15,10))\n",
    "\n",
    "# Neural Network plots\n",
    "plt.plot(acc_nn.accuracies, 'r-', label = \"Training Accuracies - NN\")\n",
    "plt.plot(acc_nn.test_accuracies, 'g-', label = \"Testing Accuracies - NN\")\n",
    "\n",
    "# Logistic Regression plots\n",
    "plt.plot(acc_lr.accuracies, 'k-', label = \"Training Accuracies - LR\")\n",
    "plt.plot(acc_lr.test_accuracies, 'b-', label = \"Testing Accuracies - LR\")\n",
    "plt.legend()"
   ]
  },
  {
   "cell_type": "markdown",
   "id": "80dfb35c",
   "metadata": {
    "papermill": {
     "duration": 0.042086,
     "end_time": "2021-12-11T00:23:43.739789",
     "exception": false,
     "start_time": "2021-12-11T00:23:43.697703",
     "status": "completed"
    },
    "tags": []
   },
   "source": [
    "#### Plotting the outputs of this layer of the NN.\n"
   ]
  },
  {
   "cell_type": "code",
   "execution_count": 25,
   "id": "45eb2ff5",
   "metadata": {
    "execution": {
     "iopub.execute_input": "2021-12-11T00:23:43.828433Z",
     "iopub.status.busy": "2021-12-11T00:23:43.827849Z",
     "iopub.status.idle": "2021-12-11T00:23:43.847239Z",
     "shell.execute_reply": "2021-12-11T00:23:43.846779Z"
    },
    "papermill": {
     "duration": 0.065422,
     "end_time": "2021-12-11T00:23:43.847364",
     "exception": false,
     "start_time": "2021-12-11T00:23:43.781942",
     "status": "completed"
    },
    "tags": []
   },
   "outputs": [],
   "source": [
    "new_model = Model(layers[:-2])\n",
    "testing_plot = new_model(testing_data_x)"
   ]
  },
  {
   "cell_type": "code",
   "execution_count": 26,
   "id": "4c0a5485",
   "metadata": {
    "execution": {
     "iopub.execute_input": "2021-12-11T00:23:43.937656Z",
     "iopub.status.busy": "2021-12-11T00:23:43.936895Z",
     "iopub.status.idle": "2021-12-11T00:23:44.136580Z",
     "shell.execute_reply": "2021-12-11T00:23:44.136984Z"
    },
    "papermill": {
     "duration": 0.247029,
     "end_time": "2021-12-11T00:23:44.137131",
     "exception": false,
     "start_time": "2021-12-11T00:23:43.890102",
     "status": "completed"
    },
    "tags": []
   },
   "outputs": [
    {
     "data": {
      "text/plain": [
       "Text(0.5, 1.0, 'Outputs')"
      ]
     },
     "execution_count": 26,
     "metadata": {},
     "output_type": "execute_result"
    },
    {
     "data": {
      "image/png": "[encoded data removed]",
      "text/plain": [
       "<Figure size 576x504 with 1 Axes>"
      ]
     },
     "metadata": {
      "needs_background": "light"
     },
     "output_type": "display_data"
    }
   ],
   "source": [
    "# Plotting the scatter plot of points and color coding by class\n",
    "plt.figure(figsize=(8,7))\n",
    "plt.scatter(testing_plot[:,0], testing_plot[:,1], alpha = 0.1, c = y_test.ravel());\n",
    "plt.title('Outputs')"
   ]
  },
  {
   "cell_type": "markdown",
   "id": "a74fcf8f",
   "metadata": {
    "papermill": {
     "duration": 0.044446,
     "end_time": "2021-12-11T00:23:44.226082",
     "exception": false,
     "start_time": "2021-12-11T00:23:44.181636",
     "status": "completed"
    },
    "tags": []
   },
   "source": [
    "Probability contours"
   ]
  },
  {
   "cell_type": "code",
   "execution_count": 27,
   "id": "d0afc8e3",
   "metadata": {
    "execution": {
     "iopub.execute_input": "2021-12-11T00:23:44.318255Z",
     "iopub.status.busy": "2021-12-11T00:23:44.317729Z",
     "iopub.status.idle": "2021-12-11T00:23:44.330571Z",
     "shell.execute_reply": "2021-12-11T00:23:44.330960Z"
    },
    "papermill": {
     "duration": 0.060771,
     "end_time": "2021-12-11T00:23:44.331095",
     "exception": false,
     "start_time": "2021-12-11T00:23:44.270324",
     "status": "completed"
    },
    "tags": []
   },
   "outputs": [],
   "source": [
    "model_prob = Model(layers[-2:]) "
   ]
  },
  {
   "cell_type": "code",
   "execution_count": 28,
   "id": "9b96e238",
   "metadata": {
    "execution": {
     "iopub.execute_input": "2021-12-11T00:23:44.450108Z",
     "iopub.status.busy": "2021-12-11T00:23:44.449587Z",
     "iopub.status.idle": "2021-12-11T00:23:44.464801Z",
     "shell.execute_reply": "2021-12-11T00:23:44.465214Z"
    },
    "papermill": {
     "duration": 0.089904,
     "end_time": "2021-12-11T00:23:44.465339",
     "exception": false,
     "start_time": "2021-12-11T00:23:44.375435",
     "status": "completed"
    },
    "tags": []
   },
   "outputs": [],
   "source": [
    "#creating the x and y ranges according to the above generated plot.\n",
    "x_range = np.linspace(-4, 1, 100) \n",
    "y_range = np.linspace(-6, 6, 100) \n",
    "x_grid, y_grid = np.meshgrid(x_range, y_range) # x_grid and y_grig are of size 100 X 100\n",
    "\n",
    "# converting x_grid and y_grid to continuous arrays\n",
    "x_gridflat = np.ravel(x_grid)\n",
    "y_gridflat = np.ravel(y_grid)\n",
    "\n",
    "# The last layer of the current model takes two columns as input. Hence transpose of np.vstack() is required.\n",
    "X = np.vstack((x_gridflat, y_gridflat)).T\n",
    "\n",
    "prob_contour = model_prob(X).reshape(100,100) "
   ]
  },
  {
   "cell_type": "code",
   "execution_count": 29,
   "id": "da72499a",
   "metadata": {
    "execution": {
     "iopub.execute_input": "2021-12-11T00:23:44.557818Z",
     "iopub.status.busy": "2021-12-11T00:23:44.557305Z",
     "iopub.status.idle": "2021-12-11T00:23:44.806902Z",
     "shell.execute_reply": "2021-12-11T00:23:44.806468Z"
    },
    "papermill": {
     "duration": 0.297318,
     "end_time": "2021-12-11T00:23:44.807023",
     "exception": false,
     "start_time": "2021-12-11T00:23:44.509705",
     "status": "completed"
    },
    "tags": []
   },
   "outputs": [
    {
     "data": {
      "image/png": "[encoded data removed]",
      "text/plain": [
       "<Figure size 720x648 with 1 Axes>"
      ]
     },
     "metadata": {
      "needs_background": "light"
     },
     "output_type": "display_data"
    }
   ],
   "source": [
    "plt.figure(figsize=(10,9))\n",
    "plt.scatter(testing_plot[:,0], testing_plot[:,1], alpha = 0.1, c = y_test.ravel())\n",
    "contours = plt.contour(x_grid,y_grid,prob_contour)\n",
    "plt.title('Probability Contours')\n",
    "plt.clabel(contours, inline = True );"
   ]
  },
  {
   "cell_type": "code",
   "execution_count": null,
   "id": "e81b4ac7",
   "metadata": {
    "papermill": {
     "duration": 0.047283,
     "end_time": "2021-12-11T00:23:44.901514",
     "exception": false,
     "start_time": "2021-12-11T00:23:44.854231",
     "status": "completed"
    },
    "tags": []
   },
   "outputs": [],
   "source": []
  }
 ],
 "metadata": {
  "kernelspec": {
   "display_name": "Python 3",
   "language": "python",
   "name": "python3"
  },
  "language_info": {
   "codemirror_mode": {
    "name": "ipython",
    "version": 3
   },
   "file_extension": ".py",
   "mimetype": "text/x-python",
   "name": "python",
   "nbconvert_exporter": "python",
   "pygments_lexer": "ipython3",
   "version": "3.6.15"
  },
  "papermill": {
   "default_parameters": {},
   "duration": 96.799848,
   "end_time": "2021-12-11T00:23:45.357149",
   "environment_variables": {},
   "exception": null,
   "input_path": "2020-08-11-part2.ipynb",
   "output_path": "2020-08-11-part2.ipynb",
   "parameters": {},
   "start_time": "2021-12-11T00:22:08.557301",
   "version": "2.3.3"
  }
 },
 "nbformat": 4,
 "nbformat_minor": 5
}