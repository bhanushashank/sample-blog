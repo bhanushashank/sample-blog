{
 "cells": [
  {
   "cell_type": "markdown",
   "id": "98380cd3",
   "metadata": {
    "papermill": {
     "duration": 0.030061,
     "end_time": "2022-10-03T00:47:34.925671",
     "exception": false,
     "start_time": "2022-10-03T00:47:34.895610",
     "status": "completed"
    },
    "tags": []
   },
   "source": [
    "# Distinguish Your Own Digits (DYOD)"
   ]
  },
  {
   "cell_type": "markdown",
   "id": "ef31240d",
   "metadata": {
    "papermill": {
     "duration": 0.024205,
     "end_time": "2022-10-03T00:47:34.975071",
     "exception": false,
     "start_time": "2022-10-03T00:47:34.950866",
     "status": "completed"
    },
    "tags": []
   },
   "source": [
    "You are going to write a classifier that distinguishes between the number 3 and number 8."
   ]
  },
  {
   "cell_type": "code",
   "execution_count": 1,
   "id": "b15c8646",
   "metadata": {
    "execution": {
     "iopub.execute_input": "2022-10-03T00:47:35.038203Z",
     "iopub.status.busy": "2022-10-03T00:47:35.037243Z",
     "iopub.status.idle": "2022-10-03T00:47:35.050302Z",
     "shell.execute_reply": "2022-10-03T00:47:35.049779Z"
    },
    "papermill": {
     "duration": 0.051225,
     "end_time": "2022-10-03T00:47:35.050449",
     "exception": false,
     "start_time": "2022-10-03T00:47:34.999224",
     "status": "completed"
    },
    "tags": []
   },
   "outputs": [],
   "source": [
    "%load_ext autoreload\n",
    "%autoreload 2"
   ]
  },
  {
   "cell_type": "code",
   "execution_count": 2,
   "id": "22ef38dc",
   "metadata": {
    "execution": {
     "iopub.execute_input": "2022-10-03T00:47:35.104624Z",
     "iopub.status.busy": "2022-10-03T00:47:35.104005Z",
     "iopub.status.idle": "2022-10-03T00:47:35.671136Z",
     "shell.execute_reply": "2022-10-03T00:47:35.670558Z"
    },
    "papermill": {
     "duration": 0.596514,
     "end_time": "2022-10-03T00:47:35.671280",
     "exception": false,
     "start_time": "2022-10-03T00:47:35.074766",
     "status": "completed"
    },
    "tags": []
   },
   "outputs": [],
   "source": [
    "%matplotlib inline\n",
    "import numpy as np\n",
    "import matplotlib.pyplot as plt\n",
    "import pandas as pd"
   ]
  },
  {
   "cell_type": "markdown",
   "id": "ba036198",
   "metadata": {
    "papermill": {
     "duration": 0.024263,
     "end_time": "2022-10-03T00:47:35.720525",
     "exception": false,
     "start_time": "2022-10-03T00:47:35.696262",
     "status": "completed"
    },
    "tags": []
   },
   "source": [
    "From the command line run `pip install mnist`. This is a library that will help you bring down the mnist dataset. If you run this from a notebook, you need to put  `!pip install mnist` in a cell by itself."
   ]
  },
  {
   "cell_type": "code",
   "execution_count": 3,
   "id": "bb6ad8a1",
   "metadata": {
    "execution": {
     "iopub.execute_input": "2022-10-03T00:47:35.775666Z",
     "iopub.status.busy": "2022-10-03T00:47:35.775060Z",
     "iopub.status.idle": "2022-10-03T00:47:37.443381Z",
     "shell.execute_reply": "2022-10-03T00:47:37.442761Z"
    },
    "papermill": {
     "duration": 1.696634,
     "end_time": "2022-10-03T00:47:37.443502",
     "exception": false,
     "start_time": "2022-10-03T00:47:35.746868",
     "status": "completed"
    },
    "tags": []
   },
   "outputs": [
    {
     "name": "stdout",
     "output_type": "stream",
     "text": [
      "Collecting mnist\r\n"
     ]
    },
    {
     "name": "stdout",
     "output_type": "stream",
     "text": [
      "  Downloading mnist-0.2.2-py2.py3-none-any.whl (3.5 kB)\r\n",
      "Requirement already satisfied: numpy in /opt/hostedtoolcache/Python/3.6.15/x64/lib/python3.6/site-packages (from mnist) (1.19.5)\r\n"
     ]
    },
    {
     "name": "stdout",
     "output_type": "stream",
     "text": [
      "Installing collected packages: mnist\r\n",
      "Successfully installed mnist-0.2.2\r\n"
     ]
    }
   ],
   "source": [
    "!pip install mnist"
   ]
  },
  {
   "cell_type": "markdown",
   "id": "69df9c9a",
   "metadata": {
    "papermill": {
     "duration": 0.024931,
     "end_time": "2022-10-03T00:47:37.493674",
     "exception": false,
     "start_time": "2022-10-03T00:47:37.468743",
     "status": "completed"
    },
    "tags": []
   },
   "source": [
    "## Preparing the Data"
   ]
  },
  {
   "cell_type": "code",
   "execution_count": 4,
   "id": "7f69d806",
   "metadata": {
    "execution": {
     "iopub.execute_input": "2022-10-03T00:47:37.559651Z",
     "iopub.status.busy": "2022-10-03T00:47:37.550325Z",
     "iopub.status.idle": "2022-10-03T00:47:37.563646Z",
     "shell.execute_reply": "2022-10-03T00:47:37.563061Z"
    },
    "papermill": {
     "duration": 0.045156,
     "end_time": "2022-10-03T00:47:37.563767",
     "exception": false,
     "start_time": "2022-10-03T00:47:37.518611",
     "status": "completed"
    },
    "tags": []
   },
   "outputs": [],
   "source": [
    "import mnist"
   ]
  },
  {
   "cell_type": "code",
   "execution_count": 5,
   "id": "a411e44f",
   "metadata": {
    "execution": {
     "iopub.execute_input": "2022-10-03T00:47:37.626914Z",
     "iopub.status.busy": "2022-10-03T00:47:37.618407Z",
     "iopub.status.idle": "2022-10-03T00:47:38.204078Z",
     "shell.execute_reply": "2022-10-03T00:47:38.203071Z"
    },
    "papermill": {
     "duration": 0.615393,
     "end_time": "2022-10-03T00:47:38.204217",
     "exception": false,
     "start_time": "2022-10-03T00:47:37.588824",
     "status": "completed"
    },
    "tags": []
   },
   "outputs": [],
   "source": [
    "train_images = mnist.train_images()\n",
    "train_labels = mnist.train_labels()"
   ]
  },
  {
   "cell_type": "code",
   "execution_count": 6,
   "id": "dceab3a5",
   "metadata": {
    "execution": {
     "iopub.execute_input": "2022-10-03T00:47:38.260315Z",
     "iopub.status.busy": "2022-10-03T00:47:38.258882Z",
     "iopub.status.idle": "2022-10-03T00:47:38.274031Z",
     "shell.execute_reply": "2022-10-03T00:47:38.273529Z"
    },
    "papermill": {
     "duration": 0.044667,
     "end_time": "2022-10-03T00:47:38.274176",
     "exception": false,
     "start_time": "2022-10-03T00:47:38.229509",
     "status": "completed"
    },
    "tags": []
   },
   "outputs": [
    {
     "data": {
      "text/plain": [
       "((60000, 28, 28), (60000,))"
      ]
     },
     "execution_count": 6,
     "metadata": {},
     "output_type": "execute_result"
    }
   ],
   "source": [
    "train_images.shape, train_labels.shape"
   ]
  },
  {
   "cell_type": "code",
   "execution_count": 7,
   "id": "f50dc2bb",
   "metadata": {
    "execution": {
     "iopub.execute_input": "2022-10-03T00:47:38.329765Z",
     "iopub.status.busy": "2022-10-03T00:47:38.329157Z",
     "iopub.status.idle": "2022-10-03T00:47:38.524304Z",
     "shell.execute_reply": "2022-10-03T00:47:38.523700Z"
    },
    "papermill": {
     "duration": 0.22477,
     "end_time": "2022-10-03T00:47:38.524453",
     "exception": false,
     "start_time": "2022-10-03T00:47:38.299683",
     "status": "completed"
    },
    "tags": []
   },
   "outputs": [],
   "source": [
    "test_images = mnist.test_images()\n",
    "test_labels = mnist.test_labels()"
   ]
  },
  {
   "cell_type": "code",
   "execution_count": 8,
   "id": "fc38cf1b",
   "metadata": {
    "execution": {
     "iopub.execute_input": "2022-10-03T00:47:38.581289Z",
     "iopub.status.busy": "2022-10-03T00:47:38.580698Z",
     "iopub.status.idle": "2022-10-03T00:47:38.595082Z",
     "shell.execute_reply": "2022-10-03T00:47:38.595635Z"
    },
    "papermill": {
     "duration": 0.044736,
     "end_time": "2022-10-03T00:47:38.595779",
     "exception": false,
     "start_time": "2022-10-03T00:47:38.551043",
     "status": "completed"
    },
    "tags": []
   },
   "outputs": [
    {
     "data": {
      "text/plain": [
       "((10000, 28, 28), (10000,))"
      ]
     },
     "execution_count": 8,
     "metadata": {},
     "output_type": "execute_result"
    }
   ],
   "source": [
    "test_images.shape, test_labels.shape"
   ]
  },
  {
   "cell_type": "code",
   "execution_count": 9,
   "id": "f9ed8fe0",
   "metadata": {
    "execution": {
     "iopub.execute_input": "2022-10-03T00:47:38.651617Z",
     "iopub.status.busy": "2022-10-03T00:47:38.651025Z",
     "iopub.status.idle": "2022-10-03T00:47:38.793264Z",
     "shell.execute_reply": "2022-10-03T00:47:38.792768Z"
    },
    "papermill": {
     "duration": 0.172107,
     "end_time": "2022-10-03T00:47:38.793385",
     "exception": false,
     "start_time": "2022-10-03T00:47:38.621278",
     "status": "completed"
    },
    "tags": []
   },
   "outputs": [
    {
     "name": "stdout",
     "output_type": "stream",
     "text": [
      "2\n"
     ]
    },
    {
     "data": {
      "text/plain": [
       "<matplotlib.image.AxesImage at 0x7f19fdfc6cf8>"
      ]
     },
     "execution_count": 9,
     "metadata": {},
     "output_type": "execute_result"
    },
    {
     "data": {
      "image/png": "[encoded data removed]",
      "text/plain": [
       "<Figure size 432x288 with 1 Axes>"
      ]
     },
     "metadata": {
      "needs_background": "light"
     },
     "output_type": "display_data"
    }
   ],
   "source": [
    "image_index = 7776 # You may select anything up to 60,000\n",
    "print(train_labels[image_index]) \n",
    "plt.imshow(train_images[image_index], cmap='Greys')"
   ]
  },
  {
   "cell_type": "markdown",
   "id": "a8d2388d",
   "metadata": {
    "papermill": {
     "duration": 0.026987,
     "end_time": "2022-10-03T00:47:38.848370",
     "exception": false,
     "start_time": "2022-10-03T00:47:38.821383",
     "status": "completed"
    },
    "tags": []
   },
   "source": [
    "## Filter data to get 3 and 8 out"
   ]
  },
  {
   "cell_type": "code",
   "execution_count": 10,
   "id": "776f7fc7",
   "metadata": {
    "execution": {
     "iopub.execute_input": "2022-10-03T00:47:38.908273Z",
     "iopub.status.busy": "2022-10-03T00:47:38.906904Z",
     "iopub.status.idle": "2022-10-03T00:47:38.926396Z",
     "shell.execute_reply": "2022-10-03T00:47:38.925757Z"
    },
    "papermill": {
     "duration": 0.050812,
     "end_time": "2022-10-03T00:47:38.926539",
     "exception": false,
     "start_time": "2022-10-03T00:47:38.875727",
     "status": "completed"
    },
    "tags": []
   },
   "outputs": [],
   "source": [
    "train_filter = np.where((train_labels == 3 ) | (train_labels == 8))\n",
    "test_filter = np.where((test_labels == 3) | (test_labels == 8))\n",
    "X_train, y_train = train_images[train_filter], train_labels[train_filter]\n",
    "X_test, y_test = test_images[test_filter], test_labels[test_filter]"
   ]
  },
  {
   "cell_type": "markdown",
   "id": "948f0b7e",
   "metadata": {
    "papermill": {
     "duration": 0.027333,
     "end_time": "2022-10-03T00:47:38.982004",
     "exception": false,
     "start_time": "2022-10-03T00:47:38.954671",
     "status": "completed"
    },
    "tags": []
   },
   "source": [
    "We normalize the pizel values in the 0 to 1 range"
   ]
  },
  {
   "cell_type": "code",
   "execution_count": 11,
   "id": "ee4c2166",
   "metadata": {
    "execution": {
     "iopub.execute_input": "2022-10-03T00:47:39.056051Z",
     "iopub.status.busy": "2022-10-03T00:47:39.055387Z",
     "iopub.status.idle": "2022-10-03T00:47:39.094289Z",
     "shell.execute_reply": "2022-10-03T00:47:39.093722Z"
    },
    "papermill": {
     "duration": 0.085504,
     "end_time": "2022-10-03T00:47:39.094432",
     "exception": false,
     "start_time": "2022-10-03T00:47:39.008928",
     "status": "completed"
    },
    "tags": []
   },
   "outputs": [],
   "source": [
    "X_train = X_train/255.\n",
    "X_test = X_test/255."
   ]
  },
  {
   "cell_type": "markdown",
   "id": "ddcf4fab",
   "metadata": {
    "papermill": {
     "duration": 0.027282,
     "end_time": "2022-10-03T00:47:39.148949",
     "exception": false,
     "start_time": "2022-10-03T00:47:39.121667",
     "status": "completed"
    },
    "tags": []
   },
   "source": [
    "And setup the labels as 1 (when the digit is 3) and 0 (when the digit is 8)"
   ]
  },
  {
   "cell_type": "code",
   "execution_count": 12,
   "id": "7dc908f2",
   "metadata": {
    "execution": {
     "iopub.execute_input": "2022-10-03T00:47:39.219405Z",
     "iopub.status.busy": "2022-10-03T00:47:39.216613Z",
     "iopub.status.idle": "2022-10-03T00:47:39.223574Z",
     "shell.execute_reply": "2022-10-03T00:47:39.222988Z"
    },
    "papermill": {
     "duration": 0.047919,
     "end_time": "2022-10-03T00:47:39.223697",
     "exception": false,
     "start_time": "2022-10-03T00:47:39.175778",
     "status": "completed"
    },
    "tags": []
   },
   "outputs": [],
   "source": [
    "y_train = 1*(y_train==3)\n",
    "y_test = 1*(y_test==3)"
   ]
  },
  {
   "cell_type": "code",
   "execution_count": 13,
   "id": "01e4e969",
   "metadata": {
    "execution": {
     "iopub.execute_input": "2022-10-03T00:47:39.282275Z",
     "iopub.status.busy": "2022-10-03T00:47:39.281630Z",
     "iopub.status.idle": "2022-10-03T00:47:39.296741Z",
     "shell.execute_reply": "2022-10-03T00:47:39.297221Z"
    },
    "papermill": {
     "duration": 0.046415,
     "end_time": "2022-10-03T00:47:39.297367",
     "exception": false,
     "start_time": "2022-10-03T00:47:39.250952",
     "status": "completed"
    },
    "tags": []
   },
   "outputs": [
    {
     "data": {
      "text/plain": [
       "((11982, 28, 28), (1984, 28, 28))"
      ]
     },
     "execution_count": 13,
     "metadata": {},
     "output_type": "execute_result"
    }
   ],
   "source": [
    "X_train.shape, X_test.shape"
   ]
  },
  {
   "cell_type": "markdown",
   "id": "5ccf3f85",
   "metadata": {
    "papermill": {
     "duration": 0.027077,
     "end_time": "2022-10-03T00:47:39.351383",
     "exception": false,
     "start_time": "2022-10-03T00:47:39.324306",
     "status": "completed"
    },
    "tags": []
   },
   "source": [
    "We reshape the data to flatten the image pixels into a set of features or co-variates:"
   ]
  },
  {
   "cell_type": "code",
   "execution_count": 14,
   "id": "5286a4a3",
   "metadata": {
    "execution": {
     "iopub.execute_input": "2022-10-03T00:47:39.410643Z",
     "iopub.status.busy": "2022-10-03T00:47:39.409994Z",
     "iopub.status.idle": "2022-10-03T00:47:39.424573Z",
     "shell.execute_reply": "2022-10-03T00:47:39.425057Z"
    },
    "papermill": {
     "duration": 0.046348,
     "end_time": "2022-10-03T00:47:39.425205",
     "exception": false,
     "start_time": "2022-10-03T00:47:39.378857",
     "status": "completed"
    },
    "tags": []
   },
   "outputs": [
    {
     "data": {
      "text/plain": [
       "((11982, 784), (1984, 784))"
      ]
     },
     "execution_count": 14,
     "metadata": {},
     "output_type": "execute_result"
    }
   ],
   "source": [
    "X_train = X_train.reshape(X_train.shape[0], -1)\n",
    "X_test = X_test.reshape(X_test.shape[0], -1)\n",
    "X_train.shape, X_test.shape"
   ]
  },
  {
   "cell_type": "code",
   "execution_count": 15,
   "id": "73c5f88a",
   "metadata": {
    "execution": {
     "iopub.execute_input": "2022-10-03T00:47:39.485341Z",
     "iopub.status.busy": "2022-10-03T00:47:39.484725Z",
     "iopub.status.idle": "2022-10-03T00:47:39.504591Z",
     "shell.execute_reply": "2022-10-03T00:47:39.504109Z"
    },
    "papermill": {
     "duration": 0.052248,
     "end_time": "2022-10-03T00:47:39.504717",
     "exception": false,
     "start_time": "2022-10-03T00:47:39.452469",
     "status": "completed"
    },
    "tags": []
   },
   "outputs": [],
   "source": [
    "#Impoting functions from 'Kudzu'\n",
    "from kudzu.model import Model\n",
    "from kudzu.train import Learner\n",
    "from kudzu.optim import GD\n",
    "from kudzu.data import Data, Sampler,Dataloader\n",
    "\n",
    "from kudzu.callbacks import AccCallback\n",
    "from kudzu.callbacks import ClfCallback\n",
    "\n",
    "from kudzu.loss import MSE\n",
    "\n",
    "from kudzu.layer import Sigmoid,Relu\n",
    "from kudzu.layer import Affine"
   ]
  },
  {
   "cell_type": "markdown",
   "id": "bc01172a",
   "metadata": {
    "papermill": {
     "duration": 0.027254,
     "end_time": "2022-10-03T00:47:39.559408",
     "exception": false,
     "start_time": "2022-10-03T00:47:39.532154",
     "status": "completed"
    },
    "tags": []
   },
   "source": [
    "### Let us create a `Config` class, to store important parameters. \n",
    "This class essentially plays the role of a dictionary."
   ]
  },
  {
   "cell_type": "code",
   "execution_count": 16,
   "id": "978281aa",
   "metadata": {
    "execution": {
     "iopub.execute_input": "2022-10-03T00:47:39.621045Z",
     "iopub.status.busy": "2022-10-03T00:47:39.620411Z",
     "iopub.status.idle": "2022-10-03T00:47:39.634063Z",
     "shell.execute_reply": "2022-10-03T00:47:39.633585Z"
    },
    "papermill": {
     "duration": 0.046427,
     "end_time": "2022-10-03T00:47:39.634222",
     "exception": false,
     "start_time": "2022-10-03T00:47:39.587795",
     "status": "completed"
    },
    "tags": []
   },
   "outputs": [],
   "source": [
    "class Config:\n",
    "    pass\n",
    "config = Config()\n",
    "config.lr = 0.001\n",
    "config.num_epochs = 250\n",
    "config.bs = 50"
   ]
  },
  {
   "cell_type": "markdown",
   "id": "1385fa59",
   "metadata": {
    "papermill": {
     "duration": 0.027231,
     "end_time": "2022-10-03T00:47:39.688929",
     "exception": false,
     "start_time": "2022-10-03T00:47:39.661698",
     "status": "completed"
    },
    "tags": []
   },
   "source": [
    "### Running Models with the Training data\n",
    "Details about the network layers:\n",
    "- A first affine layer has 784 inputs and does 100 affine transforms. These are followed by a Relu\n",
    "- A second affine layer has 100 inputs from the 100 activations of the past layer, and does 100 affine transforms. These are followed by a Relu\n",
    "- A third affine layer has 100 activations and does 2 affine transformations to create an embedding for visualization. There is no non-linearity here.\n",
    "- A final \"logistic regression\" which has an affine transform from 2 inputs to 1 output, which is squeezed through a sigmoid.\n"
   ]
  },
  {
   "cell_type": "code",
   "execution_count": 17,
   "id": "2b9c66db",
   "metadata": {
    "execution": {
     "iopub.execute_input": "2022-10-03T00:47:39.748190Z",
     "iopub.status.busy": "2022-10-03T00:47:39.747588Z",
     "iopub.status.idle": "2022-10-03T00:47:39.760627Z",
     "shell.execute_reply": "2022-10-03T00:47:39.761084Z"
    },
    "papermill": {
     "duration": 0.044967,
     "end_time": "2022-10-03T00:47:39.761226",
     "exception": false,
     "start_time": "2022-10-03T00:47:39.716259",
     "status": "completed"
    },
    "tags": []
   },
   "outputs": [],
   "source": [
    "data = Data(X_train, y_train.reshape(-1,1))\n",
    "sampler = Sampler(data, config.bs, shuffle=True)\n",
    "\n",
    "dl = Dataloader(data, sampler)\n",
    "\n",
    "opt = GD(config.lr)\n",
    "loss = MSE()"
   ]
  },
  {
   "cell_type": "code",
   "execution_count": 18,
   "id": "b275e4c2",
   "metadata": {
    "execution": {
     "iopub.execute_input": "2022-10-03T00:47:39.822457Z",
     "iopub.status.busy": "2022-10-03T00:47:39.821809Z",
     "iopub.status.idle": "2022-10-03T00:47:39.832930Z",
     "shell.execute_reply": "2022-10-03T00:47:39.833357Z"
    },
    "papermill": {
     "duration": 0.044858,
     "end_time": "2022-10-03T00:47:39.833507",
     "exception": false,
     "start_time": "2022-10-03T00:47:39.788649",
     "status": "completed"
    },
    "tags": []
   },
   "outputs": [],
   "source": [
    "training_data_x = X_train\n",
    "testing_data_x = X_test\n",
    "training_data_y = y_train.reshape(-1,1)\n",
    "testing_data_y = y_test.reshape(-1,1)"
   ]
  },
  {
   "cell_type": "code",
   "execution_count": 19,
   "id": "76951160",
   "metadata": {
    "execution": {
     "iopub.execute_input": "2022-10-03T00:47:39.893490Z",
     "iopub.status.busy": "2022-10-03T00:47:39.892817Z",
     "iopub.status.idle": "2022-10-03T00:47:39.909328Z",
     "shell.execute_reply": "2022-10-03T00:47:39.909786Z"
    },
    "papermill": {
     "duration": 0.049175,
     "end_time": "2022-10-03T00:47:39.909927",
     "exception": false,
     "start_time": "2022-10-03T00:47:39.860752",
     "status": "completed"
    },
    "tags": []
   },
   "outputs": [
    {
     "name": "stdout",
     "output_type": "stream",
     "text": [
      "xavier\n",
      "xavier\n",
      "xavier\n",
      "xavier\n",
      "xavier\n"
     ]
    }
   ],
   "source": [
    "layers = [Affine(\"first\", 784, 100), Relu(\"first\"), Affine(\"second\", 100, 100), Relu(\"second\"), Affine(\"third\", 100, 2), Affine(\"last\", 2, 1), Sigmoid(\"last\")]\n",
    "model_nn = Model(layers)\n",
    "model_lr = Model([Affine(\"logits\", 784, 1), Sigmoid(\"sigmoid\")])"
   ]
  },
  {
   "cell_type": "code",
   "execution_count": 20,
   "id": "6eede77a",
   "metadata": {
    "execution": {
     "iopub.execute_input": "2022-10-03T00:47:39.972512Z",
     "iopub.status.busy": "2022-10-03T00:47:39.971891Z",
     "iopub.status.idle": "2022-10-03T00:47:39.983805Z",
     "shell.execute_reply": "2022-10-03T00:47:39.983326Z"
    },
    "papermill": {
     "duration": 0.046233,
     "end_time": "2022-10-03T00:47:39.983931",
     "exception": false,
     "start_time": "2022-10-03T00:47:39.937698",
     "status": "completed"
    },
    "tags": []
   },
   "outputs": [],
   "source": [
    "nn_learner = Learner(loss, model_nn, opt, config.num_epochs)\n",
    "acc_nn = ClfCallback(nn_learner, config.bs, training_data_x , testing_data_x, training_data_y, testing_data_y)\n",
    "nn_learner.set_callbacks([acc_nn])"
   ]
  },
  {
   "cell_type": "code",
   "execution_count": 21,
   "id": "877b6cc7",
   "metadata": {
    "execution": {
     "iopub.execute_input": "2022-10-03T00:47:40.043713Z",
     "iopub.status.busy": "2022-10-03T00:47:40.043122Z",
     "iopub.status.idle": "2022-10-03T00:47:40.056335Z",
     "shell.execute_reply": "2022-10-03T00:47:40.055842Z"
    },
    "papermill": {
     "duration": 0.04485,
     "end_time": "2022-10-03T00:47:40.056454",
     "exception": false,
     "start_time": "2022-10-03T00:47:40.011604",
     "status": "completed"
    },
    "tags": []
   },
   "outputs": [],
   "source": [
    "lr_learner = Learner(loss, model_lr, opt, config.num_epochs)\n",
    "acc_lr = ClfCallback(lr_learner, config.bs, training_data_x , testing_data_x, training_data_y, testing_data_y)\n",
    "lr_learner.set_callbacks([acc_lr])"
   ]
  },
  {
   "cell_type": "code",
   "execution_count": 22,
   "id": "d9b133c3",
   "metadata": {
    "execution": {
     "iopub.execute_input": "2022-10-03T00:47:40.116524Z",
     "iopub.status.busy": "2022-10-03T00:47:40.115922Z",
     "iopub.status.idle": "2022-10-03T00:49:03.150307Z",
     "shell.execute_reply": "2022-10-03T00:49:03.151208Z"
    },
    "papermill": {
     "duration": 83.067087,
     "end_time": "2022-10-03T00:49:03.151363",
     "exception": false,
     "start_time": "2022-10-03T00:47:40.084276",
     "status": "completed"
    },
    "tags": []
   },
   "outputs": [
    {
     "name": "stdout",
     "output_type": "stream",
     "text": [
      "Epoch 0, Loss 0.2486\n",
      "Training Accuracy: 0.7225, Testing Accuracy: 0.7364\n",
      "\n"
     ]
    },
    {
     "name": "stdout",
     "output_type": "stream",
     "text": [
      "Epoch 10, Loss 0.0715\n",
      "Training Accuracy: 0.9276, Testing Accuracy: 0.9375\n",
      "\n"
     ]
    },
    {
     "name": "stdout",
     "output_type": "stream",
     "text": [
      "Epoch 20, Loss 0.0485\n",
      "Training Accuracy: 0.9482, Testing Accuracy: 0.9587\n",
      "\n"
     ]
    },
    {
     "name": "stdout",
     "output_type": "stream",
     "text": [
      "Epoch 30, Loss 0.0394\n",
      "Training Accuracy: 0.9562, Testing Accuracy: 0.9657\n",
      "\n"
     ]
    },
    {
     "name": "stdout",
     "output_type": "stream",
     "text": [
      "Epoch 40, Loss 0.0344\n",
      "Training Accuracy: 0.9614, Testing Accuracy: 0.9693\n",
      "\n"
     ]
    },
    {
     "name": "stdout",
     "output_type": "stream",
     "text": [
      "Epoch 50, Loss 0.0312\n",
      "Training Accuracy: 0.9649, Testing Accuracy: 0.9703\n",
      "\n"
     ]
    },
    {
     "name": "stdout",
     "output_type": "stream",
     "text": [
      "Epoch 60, Loss 0.0288\n",
      "Training Accuracy: 0.9677, Testing Accuracy: 0.9728\n",
      "\n"
     ]
    },
    {
     "name": "stdout",
     "output_type": "stream",
     "text": [
      "Epoch 70, Loss 0.027\n",
      "Training Accuracy: 0.9694, Testing Accuracy: 0.9733\n",
      "\n"
     ]
    },
    {
     "name": "stdout",
     "output_type": "stream",
     "text": [
      "Epoch 80, Loss 0.0256\n",
      "Training Accuracy: 0.9715, Testing Accuracy: 0.9733\n",
      "\n"
     ]
    },
    {
     "name": "stdout",
     "output_type": "stream",
     "text": [
      "Epoch 90, Loss 0.0244\n",
      "Training Accuracy: 0.9726, Testing Accuracy: 0.9743\n",
      "\n"
     ]
    },
    {
     "name": "stdout",
     "output_type": "stream",
     "text": [
      "Epoch 100, Loss 0.0234\n",
      "Training Accuracy: 0.9739, Testing Accuracy: 0.9753\n",
      "\n"
     ]
    },
    {
     "name": "stdout",
     "output_type": "stream",
     "text": [
      "Epoch 110, Loss 0.0225\n",
      "Training Accuracy: 0.9751, Testing Accuracy: 0.9753\n",
      "\n"
     ]
    },
    {
     "name": "stdout",
     "output_type": "stream",
     "text": [
      "Epoch 120, Loss 0.0217\n",
      "Training Accuracy: 0.9765, Testing Accuracy: 0.9743\n",
      "\n"
     ]
    },
    {
     "name": "stdout",
     "output_type": "stream",
     "text": [
      "Epoch 130, Loss 0.021\n",
      "Training Accuracy: 0.9773, Testing Accuracy: 0.9743\n",
      "\n"
     ]
    },
    {
     "name": "stdout",
     "output_type": "stream",
     "text": [
      "Epoch 140, Loss 0.0204\n",
      "Training Accuracy: 0.9781, Testing Accuracy: 0.9748\n",
      "\n"
     ]
    },
    {
     "name": "stdout",
     "output_type": "stream",
     "text": [
      "Epoch 150, Loss 0.0198\n",
      "Training Accuracy: 0.9783, Testing Accuracy: 0.9748\n",
      "\n"
     ]
    },
    {
     "name": "stdout",
     "output_type": "stream",
     "text": [
      "Epoch 160, Loss 0.0193\n",
      "Training Accuracy: 0.9786, Testing Accuracy: 0.9748\n",
      "\n"
     ]
    },
    {
     "name": "stdout",
     "output_type": "stream",
     "text": [
      "Epoch 170, Loss 0.0188\n",
      "Training Accuracy: 0.9789, Testing Accuracy: 0.9758\n",
      "\n"
     ]
    },
    {
     "name": "stdout",
     "output_type": "stream",
     "text": [
      "Epoch 180, Loss 0.0183\n",
      "Training Accuracy: 0.9793, Testing Accuracy: 0.9758\n",
      "\n"
     ]
    },
    {
     "name": "stdout",
     "output_type": "stream",
     "text": [
      "Epoch 190, Loss 0.0178\n",
      "Training Accuracy: 0.9796, Testing Accuracy: 0.9753\n",
      "\n"
     ]
    },
    {
     "name": "stdout",
     "output_type": "stream",
     "text": [
      "Epoch 200, Loss 0.0174\n",
      "Training Accuracy: 0.9801, Testing Accuracy: 0.9763\n",
      "\n"
     ]
    },
    {
     "name": "stdout",
     "output_type": "stream",
     "text": [
      "Epoch 210, Loss 0.017\n",
      "Training Accuracy: 0.9806, Testing Accuracy: 0.9758\n",
      "\n"
     ]
    },
    {
     "name": "stdout",
     "output_type": "stream",
     "text": [
      "Epoch 220, Loss 0.0166\n",
      "Training Accuracy: 0.9812, Testing Accuracy: 0.9768\n",
      "\n"
     ]
    },
    {
     "name": "stdout",
     "output_type": "stream",
     "text": [
      "Epoch 230, Loss 0.0162\n",
      "Training Accuracy: 0.9816, Testing Accuracy: 0.9773\n",
      "\n"
     ]
    },
    {
     "name": "stdout",
     "output_type": "stream",
     "text": [
      "Epoch 240, Loss 0.0159\n",
      "Training Accuracy: 0.9820, Testing Accuracy: 0.9778\n",
      "\n"
     ]
    },
    {
     "data": {
      "text/plain": [
       "0.013433895688222902"
      ]
     },
     "execution_count": 22,
     "metadata": {},
     "output_type": "execute_result"
    }
   ],
   "source": [
    "nn_learner.train_loop(dl)"
   ]
  },
  {
   "cell_type": "code",
   "execution_count": 23,
   "id": "e0163366",
   "metadata": {
    "execution": {
     "iopub.execute_input": "2022-10-03T00:49:03.231885Z",
     "iopub.status.busy": "2022-10-03T00:49:03.231261Z",
     "iopub.status.idle": "2022-10-03T00:49:18.538924Z",
     "shell.execute_reply": "2022-10-03T00:49:18.539783Z"
    },
    "papermill": {
     "duration": 15.353286,
     "end_time": "2022-10-03T00:49:18.539935",
     "exception": false,
     "start_time": "2022-10-03T00:49:03.186649",
     "status": "completed"
    },
    "tags": []
   },
   "outputs": [
    {
     "name": "stdout",
     "output_type": "stream",
     "text": [
      "Epoch 0, Loss 0.2537\n",
      "Training Accuracy: 0.6464, Testing Accuracy: 0.6668\n",
      "\n"
     ]
    },
    {
     "name": "stdout",
     "output_type": "stream",
     "text": [
      "Epoch 10, Loss 0.1028\n",
      "Training Accuracy: 0.9157, Testing Accuracy: 0.9264\n",
      "\n"
     ]
    },
    {
     "name": "stdout",
     "output_type": "stream",
     "text": [
      "Epoch 20, Loss 0.0785\n",
      "Training Accuracy: 0.9300, Testing Accuracy: 0.9415\n",
      "\n"
     ]
    },
    {
     "name": "stdout",
     "output_type": "stream",
     "text": [
      "Epoch 30, Loss 0.0676\n",
      "Training Accuracy: 0.9382, Testing Accuracy: 0.9491\n",
      "\n"
     ]
    },
    {
     "name": "stdout",
     "output_type": "stream",
     "text": [
      "Epoch 40, Loss 0.0611\n",
      "Training Accuracy: 0.9428, Testing Accuracy: 0.9551\n",
      "\n"
     ]
    },
    {
     "name": "stdout",
     "output_type": "stream",
     "text": [
      "Epoch 50, Loss 0.0567\n",
      "Training Accuracy: 0.9458, Testing Accuracy: 0.9572\n",
      "\n"
     ]
    },
    {
     "name": "stdout",
     "output_type": "stream",
     "text": [
      "Epoch 60, Loss 0.0535\n",
      "Training Accuracy: 0.9478, Testing Accuracy: 0.9587\n",
      "\n"
     ]
    },
    {
     "name": "stdout",
     "output_type": "stream",
     "text": [
      "Epoch 70, Loss 0.051\n",
      "Training Accuracy: 0.9498, Testing Accuracy: 0.9587\n",
      "\n"
     ]
    },
    {
     "name": "stdout",
     "output_type": "stream",
     "text": [
      "Epoch 80, Loss 0.049\n",
      "Training Accuracy: 0.9513, Testing Accuracy: 0.9607\n",
      "\n"
     ]
    },
    {
     "name": "stdout",
     "output_type": "stream",
     "text": [
      "Epoch 90, Loss 0.0473\n",
      "Training Accuracy: 0.9528, Testing Accuracy: 0.9612\n",
      "\n"
     ]
    },
    {
     "name": "stdout",
     "output_type": "stream",
     "text": [
      "Epoch 100, Loss 0.0459\n",
      "Training Accuracy: 0.9539, Testing Accuracy: 0.9642\n",
      "\n"
     ]
    },
    {
     "name": "stdout",
     "output_type": "stream",
     "text": [
      "Epoch 110, Loss 0.0447\n",
      "Training Accuracy: 0.9552, Testing Accuracy: 0.9632\n",
      "\n"
     ]
    },
    {
     "name": "stdout",
     "output_type": "stream",
     "text": [
      "Epoch 120, Loss 0.0437\n",
      "Training Accuracy: 0.9558, Testing Accuracy: 0.9642\n",
      "\n"
     ]
    },
    {
     "name": "stdout",
     "output_type": "stream",
     "text": [
      "Epoch 130, Loss 0.0428\n",
      "Training Accuracy: 0.9559, Testing Accuracy: 0.9642\n",
      "\n"
     ]
    },
    {
     "name": "stdout",
     "output_type": "stream",
     "text": [
      "Epoch 140, Loss 0.0419\n",
      "Training Accuracy: 0.9568, Testing Accuracy: 0.9642\n",
      "\n"
     ]
    },
    {
     "name": "stdout",
     "output_type": "stream",
     "text": [
      "Epoch 150, Loss 0.0412\n",
      "Training Accuracy: 0.9575, Testing Accuracy: 0.9642\n",
      "\n"
     ]
    },
    {
     "name": "stdout",
     "output_type": "stream",
     "text": [
      "Epoch 160, Loss 0.0406\n",
      "Training Accuracy: 0.9579, Testing Accuracy: 0.9652\n",
      "\n"
     ]
    },
    {
     "name": "stdout",
     "output_type": "stream",
     "text": [
      "Epoch 170, Loss 0.0399\n",
      "Training Accuracy: 0.9583, Testing Accuracy: 0.9652\n",
      "\n"
     ]
    },
    {
     "name": "stdout",
     "output_type": "stream",
     "text": [
      "Epoch 180, Loss 0.0394\n",
      "Training Accuracy: 0.9591, Testing Accuracy: 0.9657\n",
      "\n"
     ]
    },
    {
     "name": "stdout",
     "output_type": "stream",
     "text": [
      "Epoch 190, Loss 0.0389\n",
      "Training Accuracy: 0.9592, Testing Accuracy: 0.9662\n",
      "\n"
     ]
    },
    {
     "name": "stdout",
     "output_type": "stream",
     "text": [
      "Epoch 200, Loss 0.0384\n",
      "Training Accuracy: 0.9597, Testing Accuracy: 0.9662\n",
      "\n"
     ]
    },
    {
     "name": "stdout",
     "output_type": "stream",
     "text": [
      "Epoch 210, Loss 0.038\n",
      "Training Accuracy: 0.9597, Testing Accuracy: 0.9662\n",
      "\n"
     ]
    },
    {
     "name": "stdout",
     "output_type": "stream",
     "text": [
      "Epoch 220, Loss 0.0376\n",
      "Training Accuracy: 0.9599, Testing Accuracy: 0.9662\n",
      "\n"
     ]
    },
    {
     "name": "stdout",
     "output_type": "stream",
     "text": [
      "Epoch 230, Loss 0.0372\n",
      "Training Accuracy: 0.9600, Testing Accuracy: 0.9667\n",
      "\n"
     ]
    },
    {
     "name": "stdout",
     "output_type": "stream",
     "text": [
      "Epoch 240, Loss 0.0368\n",
      "Training Accuracy: 0.9602, Testing Accuracy: 0.9662\n",
      "\n"
     ]
    },
    {
     "data": {
      "text/plain": [
       "0.04129774818960781"
      ]
     },
     "execution_count": 23,
     "metadata": {},
     "output_type": "execute_result"
    }
   ],
   "source": [
    "lr_learner.train_loop(dl)"
   ]
  },
  {
   "cell_type": "code",
   "execution_count": 24,
   "id": "ca410940",
   "metadata": {
    "execution": {
     "iopub.execute_input": "2022-10-03T00:49:18.635828Z",
     "iopub.status.busy": "2022-10-03T00:49:18.635201Z",
     "iopub.status.idle": "2022-10-03T00:49:18.865534Z",
     "shell.execute_reply": "2022-10-03T00:49:18.865056Z"
    },
    "papermill": {
     "duration": 0.28392,
     "end_time": "2022-10-03T00:49:18.865660",
     "exception": false,
     "start_time": "2022-10-03T00:49:18.581740",
     "status": "completed"
    },
    "tags": []
   },
   "outputs": [
    {
     "data": {
      "text/plain": [
       "<matplotlib.legend.Legend at 0x7f19fdb35470>"
      ]
     },
     "execution_count": 24,
     "metadata": {},
     "output_type": "execute_result"
    },
    {
     "data": {
      "image/png": "[encoded data removed]",
      "text/plain": [
       "<Figure size 1080x720 with 1 Axes>"
      ]
     },
     "metadata": {
      "needs_background": "light"
     },
     "output_type": "display_data"
    }
   ],
   "source": [
    "#comparing the results of NN and LR\n",
    "plt.figure(figsize=(15,10))\n",
    "\n",
    "# Neural Network plots\n",
    "plt.plot(acc_nn.accuracies, 'r-', label = \"Training Accuracies - NN\")\n",
    "plt.plot(acc_nn.test_accuracies, 'g-', label = \"Testing Accuracies - NN\")\n",
    "\n",
    "# Logistic Regression plots\n",
    "plt.plot(acc_lr.accuracies, 'k-', label = \"Training Accuracies - LR\")\n",
    "plt.plot(acc_lr.test_accuracies, 'b-', label = \"Testing Accuracies - LR\")\n",
    "plt.legend()"
   ]
  },
  {
   "cell_type": "markdown",
   "id": "80dfb35c",
   "metadata": {
    "papermill": {
     "duration": 0.042183,
     "end_time": "2022-10-03T00:49:18.950891",
     "exception": false,
     "start_time": "2022-10-03T00:49:18.908708",
     "status": "completed"
    },
    "tags": []
   },
   "source": [
    "#### Plotting the outputs of this layer of the NN.\n"
   ]
  },
  {
   "cell_type": "code",
   "execution_count": 25,
   "id": "45eb2ff5",
   "metadata": {
    "execution": {
     "iopub.execute_input": "2022-10-03T00:49:19.043460Z",
     "iopub.status.busy": "2022-10-03T00:49:19.042849Z",
     "iopub.status.idle": "2022-10-03T00:49:19.061672Z",
     "shell.execute_reply": "2022-10-03T00:49:19.062219Z"
    },
    "papermill": {
     "duration": 0.069036,
     "end_time": "2022-10-03T00:49:19.062372",
     "exception": false,
     "start_time": "2022-10-03T00:49:18.993336",
     "status": "completed"
    },
    "tags": []
   },
   "outputs": [],
   "source": [
    "new_model = Model(layers[:-2])\n",
    "testing_plot = new_model(testing_data_x)"
   ]
  },
  {
   "cell_type": "code",
   "execution_count": 26,
   "id": "4c0a5485",
   "metadata": {
    "execution": {
     "iopub.execute_input": "2022-10-03T00:49:19.155967Z",
     "iopub.status.busy": "2022-10-03T00:49:19.155368Z",
     "iopub.status.idle": "2022-10-03T00:49:19.361519Z",
     "shell.execute_reply": "2022-10-03T00:49:19.361984Z"
    },
    "papermill": {
     "duration": 0.256877,
     "end_time": "2022-10-03T00:49:19.362153",
     "exception": false,
     "start_time": "2022-10-03T00:49:19.105276",
     "status": "completed"
    },
    "tags": []
   },
   "outputs": [
    {
     "data": {
      "text/plain": [
       "Text(0.5, 1.0, 'Outputs')"
      ]
     },
     "execution_count": 26,
     "metadata": {},
     "output_type": "execute_result"
    },
    {
     "data": {
      "image/png": "[encoded data removed]",
      "text/plain": [
       "<Figure size 576x504 with 1 Axes>"
      ]
     },
     "metadata": {
      "needs_background": "light"
     },
     "output_type": "display_data"
    }
   ],
   "source": [
    "# Plotting the scatter plot of points and color coding by class\n",
    "plt.figure(figsize=(8,7))\n",
    "plt.scatter(testing_plot[:,0], testing_plot[:,1], alpha = 0.1, c = y_test.ravel());\n",
    "plt.title('Outputs')"
   ]
  },
  {
   "cell_type": "markdown",
   "id": "a74fcf8f",
   "metadata": {
    "papermill": {
     "duration": 0.044658,
     "end_time": "2022-10-03T00:49:19.452012",
     "exception": false,
     "start_time": "2022-10-03T00:49:19.407354",
     "status": "completed"
    },
    "tags": []
   },
   "source": [
    "Probability contours"
   ]
  },
  {
   "cell_type": "code",
   "execution_count": 27,
   "id": "d0afc8e3",
   "metadata": {
    "execution": {
     "iopub.execute_input": "2022-10-03T00:49:19.550127Z",
     "iopub.status.busy": "2022-10-03T00:49:19.549476Z",
     "iopub.status.idle": "2022-10-03T00:49:19.562345Z",
     "shell.execute_reply": "2022-10-03T00:49:19.561793Z"
    },
    "papermill": {
     "duration": 0.065627,
     "end_time": "2022-10-03T00:49:19.562475",
     "exception": false,
     "start_time": "2022-10-03T00:49:19.496848",
     "status": "completed"
    },
    "tags": []
   },
   "outputs": [],
   "source": [
    "model_prob = Model(layers[-2:]) "
   ]
  },
  {
   "cell_type": "code",
   "execution_count": 28,
   "id": "9b96e238",
   "metadata": {
    "execution": {
     "iopub.execute_input": "2022-10-03T00:49:19.692250Z",
     "iopub.status.busy": "2022-10-03T00:49:19.691636Z",
     "iopub.status.idle": "2022-10-03T00:49:19.707014Z",
     "shell.execute_reply": "2022-10-03T00:49:19.707475Z"
    },
    "papermill": {
     "duration": 0.065795,
     "end_time": "2022-10-03T00:49:19.707694",
     "exception": false,
     "start_time": "2022-10-03T00:49:19.641899",
     "status": "completed"
    },
    "tags": []
   },
   "outputs": [],
   "source": [
    "#creating the x and y ranges according to the above generated plot.\n",
    "x_range = np.linspace(-4, 1, 100) \n",
    "y_range = np.linspace(-6, 6, 100) \n",
    "x_grid, y_grid = np.meshgrid(x_range, y_range) # x_grid and y_grig are of size 100 X 100\n",
    "\n",
    "# converting x_grid and y_grid to continuous arrays\n",
    "x_gridflat = np.ravel(x_grid)\n",
    "y_gridflat = np.ravel(y_grid)\n",
    "\n",
    "# The last layer of the current model takes two columns as input. Hence transpose of np.vstack() is required.\n",
    "X = np.vstack((x_gridflat, y_gridflat)).T\n",
    "\n",
    "prob_contour = model_prob(X).reshape(100,100) "
   ]
  },
  {
   "cell_type": "code",
   "execution_count": 29,
   "id": "da72499a",
   "metadata": {
    "execution": {
     "iopub.execute_input": "2022-10-03T00:49:19.807885Z",
     "iopub.status.busy": "2022-10-03T00:49:19.807285Z",
     "iopub.status.idle": "2022-10-03T00:49:20.066641Z",
     "shell.execute_reply": "2022-10-03T00:49:20.066089Z"
    },
    "papermill": {
     "duration": 0.309124,
     "end_time": "2022-10-03T00:49:20.066763",
     "exception": false,
     "start_time": "2022-10-03T00:49:19.757639",
     "status": "completed"
    },
    "tags": []
   },
   "outputs": [
    {
     "data": {
      "image/png": "[encoded data removed]",
      "text/plain": [
       "<Figure size 720x648 with 1 Axes>"
      ]
     },
     "metadata": {
      "needs_background": "light"
     },
     "output_type": "display_data"
    }
   ],
   "source": [
    "plt.figure(figsize=(10,9))\n",
    "plt.scatter(testing_plot[:,0], testing_plot[:,1], alpha = 0.1, c = y_test.ravel())\n",
    "contours = plt.contour(x_grid,y_grid,prob_contour)\n",
    "plt.title('Probability Contours')\n",
    "plt.clabel(contours, inline = True );"
   ]
  },
  {
   "cell_type": "code",
   "execution_count": null,
   "id": "e81b4ac7",
   "metadata": {
    "papermill": {
     "duration": 0.047745,
     "end_time": "2022-10-03T00:49:20.162814",
     "exception": false,
     "start_time": "2022-10-03T00:49:20.115069",
     "status": "completed"
    },
    "tags": []
   },
   "outputs": [],
   "source": []
  }
 ],
 "metadata": {
  "kernelspec": {
   "display_name": "Python 3",
   "language": "python",
   "name": "python3"
  },
  "language_info": {
   "codemirror_mode": {
    "name": "ipython",
    "version": 3
   },
   "file_extension": ".py",
   "mimetype": "text/x-python",
   "name": "python",
   "nbconvert_exporter": "python",
   "pygments_lexer": "ipython3",
   "version": "3.6.15"
  },
  "papermill": {
   "default_parameters": {},
   "duration": 107.095373,
   "end_time": "2022-10-03T00:49:20.730162",
   "environment_variables": {},
   "exception": null,
   "input_path": "2020-08-11-part2.ipynb",
   "output_path": "2020-08-11-part2.ipynb",
   "parameters": {},
   "start_time": "2022-10-03T00:47:33.634789",
   "version": "2.3.3"
  }
 },
 "nbformat": 4,
 "nbformat_minor": 5
}