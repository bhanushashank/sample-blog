{
 "cells": [
  {
   "cell_type": "markdown",
   "id": "98380cd3",
   "metadata": {
    "papermill": {
     "duration": 0.048943,
     "end_time": "2022-08-01T10:11:52.704042",
     "exception": false,
     "start_time": "2022-08-01T10:11:52.655099",
     "status": "completed"
    },
    "tags": []
   },
   "source": [
    "# Distinguish Your Own Digits (DYOD)"
   ]
  },
  {
   "cell_type": "markdown",
   "id": "ef31240d",
   "metadata": {
    "papermill": {
     "duration": 0.033125,
     "end_time": "2022-08-01T10:11:52.770069",
     "exception": false,
     "start_time": "2022-08-01T10:11:52.736944",
     "status": "completed"
    },
    "tags": []
   },
   "source": [
    "You are going to write a classifier that distinguishes between the number 3 and number 8."
   ]
  },
  {
   "cell_type": "code",
   "execution_count": 1,
   "id": "b15c8646",
   "metadata": {
    "execution": {
     "iopub.execute_input": "2022-08-01T10:11:52.847470Z",
     "iopub.status.busy": "2022-08-01T10:11:52.846754Z",
     "iopub.status.idle": "2022-08-01T10:11:52.859954Z",
     "shell.execute_reply": "2022-08-01T10:11:52.859316Z"
    },
    "papermill": {
     "duration": 0.058173,
     "end_time": "2022-08-01T10:11:52.860100",
     "exception": false,
     "start_time": "2022-08-01T10:11:52.801927",
     "status": "completed"
    },
    "tags": []
   },
   "outputs": [],
   "source": [
    "%load_ext autoreload\n",
    "%autoreload 2"
   ]
  },
  {
   "cell_type": "code",
   "execution_count": 2,
   "id": "22ef38dc",
   "metadata": {
    "execution": {
     "iopub.execute_input": "2022-08-01T10:11:52.932324Z",
     "iopub.status.busy": "2022-08-01T10:11:52.931430Z",
     "iopub.status.idle": "2022-08-01T10:11:53.602084Z",
     "shell.execute_reply": "2022-08-01T10:11:53.600938Z"
    },
    "papermill": {
     "duration": 0.710195,
     "end_time": "2022-08-01T10:11:53.602272",
     "exception": false,
     "start_time": "2022-08-01T10:11:52.892077",
     "status": "completed"
    },
    "tags": []
   },
   "outputs": [],
   "source": [
    "%matplotlib inline\n",
    "import numpy as np\n",
    "import matplotlib.pyplot as plt\n",
    "import pandas as pd"
   ]
  },
  {
   "cell_type": "markdown",
   "id": "ba036198",
   "metadata": {
    "papermill": {
     "duration": 0.029901,
     "end_time": "2022-08-01T10:11:53.664330",
     "exception": false,
     "start_time": "2022-08-01T10:11:53.634429",
     "status": "completed"
    },
    "tags": []
   },
   "source": [
    "From the command line run `pip install mnist`. This is a library that will help you bring down the mnist dataset. If you run this from a notebook, you need to put  `!pip install mnist` in a cell by itself."
   ]
  },
  {
   "cell_type": "code",
   "execution_count": 3,
   "id": "bb6ad8a1",
   "metadata": {
    "execution": {
     "iopub.execute_input": "2022-08-01T10:11:53.732848Z",
     "iopub.status.busy": "2022-08-01T10:11:53.731188Z",
     "iopub.status.idle": "2022-08-01T10:11:55.793553Z",
     "shell.execute_reply": "2022-08-01T10:11:55.792809Z"
    },
    "papermill": {
     "duration": 2.099106,
     "end_time": "2022-08-01T10:11:55.793741",
     "exception": false,
     "start_time": "2022-08-01T10:11:53.694635",
     "status": "completed"
    },
    "tags": []
   },
   "outputs": [
    {
     "name": "stdout",
     "output_type": "stream",
     "text": [
      "Collecting mnist\r\n"
     ]
    },
    {
     "name": "stdout",
     "output_type": "stream",
     "text": [
      "  Downloading mnist-0.2.2-py2.py3-none-any.whl (3.5 kB)\r\n",
      "Requirement already satisfied: numpy in /opt/hostedtoolcache/Python/3.6.15/x64/lib/python3.6/site-packages (from mnist) (1.19.5)\r\n"
     ]
    },
    {
     "name": "stdout",
     "output_type": "stream",
     "text": [
      "Installing collected packages: mnist\r\n"
     ]
    },
    {
     "name": "stdout",
     "output_type": "stream",
     "text": [
      "Successfully installed mnist-0.2.2\r\n"
     ]
    }
   ],
   "source": [
    "!pip install mnist"
   ]
  },
  {
   "cell_type": "markdown",
   "id": "69df9c9a",
   "metadata": {
    "papermill": {
     "duration": 0.034231,
     "end_time": "2022-08-01T10:11:55.857859",
     "exception": false,
     "start_time": "2022-08-01T10:11:55.823628",
     "status": "completed"
    },
    "tags": []
   },
   "source": [
    "## Preparing the Data"
   ]
  },
  {
   "cell_type": "code",
   "execution_count": 4,
   "id": "7f69d806",
   "metadata": {
    "execution": {
     "iopub.execute_input": "2022-08-01T10:11:55.927026Z",
     "iopub.status.busy": "2022-08-01T10:11:55.926097Z",
     "iopub.status.idle": "2022-08-01T10:11:55.946268Z",
     "shell.execute_reply": "2022-08-01T10:11:55.945691Z"
    },
    "papermill": {
     "duration": 0.057902,
     "end_time": "2022-08-01T10:11:55.946412",
     "exception": false,
     "start_time": "2022-08-01T10:11:55.888510",
     "status": "completed"
    },
    "tags": []
   },
   "outputs": [],
   "source": [
    "import mnist"
   ]
  },
  {
   "cell_type": "code",
   "execution_count": 5,
   "id": "a411e44f",
   "metadata": {
    "execution": {
     "iopub.execute_input": "2022-08-01T10:11:56.018901Z",
     "iopub.status.busy": "2022-08-01T10:11:56.018189Z",
     "iopub.status.idle": "2022-08-01T10:11:56.673745Z",
     "shell.execute_reply": "2022-08-01T10:11:56.673014Z"
    },
    "papermill": {
     "duration": 0.692782,
     "end_time": "2022-08-01T10:11:56.673889",
     "exception": false,
     "start_time": "2022-08-01T10:11:55.981107",
     "status": "completed"
    },
    "tags": []
   },
   "outputs": [],
   "source": [
    "train_images = mnist.train_images()\n",
    "train_labels = mnist.train_labels()"
   ]
  },
  {
   "cell_type": "code",
   "execution_count": 6,
   "id": "dceab3a5",
   "metadata": {
    "execution": {
     "iopub.execute_input": "2022-08-01T10:11:56.740197Z",
     "iopub.status.busy": "2022-08-01T10:11:56.739411Z",
     "iopub.status.idle": "2022-08-01T10:11:56.759857Z",
     "shell.execute_reply": "2022-08-01T10:11:56.759262Z"
    },
    "papermill": {
     "duration": 0.05544,
     "end_time": "2022-08-01T10:11:56.760007",
     "exception": false,
     "start_time": "2022-08-01T10:11:56.704567",
     "status": "completed"
    },
    "tags": []
   },
   "outputs": [
    {
     "data": {
      "text/plain": [
       "((60000, 28, 28), (60000,))"
      ]
     },
     "execution_count": 6,
     "metadata": {},
     "output_type": "execute_result"
    }
   ],
   "source": [
    "train_images.shape, train_labels.shape"
   ]
  },
  {
   "cell_type": "code",
   "execution_count": 7,
   "id": "f50dc2bb",
   "metadata": {
    "execution": {
     "iopub.execute_input": "2022-08-01T10:11:56.828274Z",
     "iopub.status.busy": "2022-08-01T10:11:56.827466Z",
     "iopub.status.idle": "2022-08-01T10:11:57.031303Z",
     "shell.execute_reply": "2022-08-01T10:11:57.030446Z"
    },
    "papermill": {
     "duration": 0.23862,
     "end_time": "2022-08-01T10:11:57.031480",
     "exception": false,
     "start_time": "2022-08-01T10:11:56.792860",
     "status": "completed"
    },
    "tags": []
   },
   "outputs": [],
   "source": [
    "test_images = mnist.test_images()\n",
    "test_labels = mnist.test_labels()"
   ]
  },
  {
   "cell_type": "code",
   "execution_count": 8,
   "id": "fc38cf1b",
   "metadata": {
    "execution": {
     "iopub.execute_input": "2022-08-01T10:11:57.103344Z",
     "iopub.status.busy": "2022-08-01T10:11:57.102488Z",
     "iopub.status.idle": "2022-08-01T10:11:57.121782Z",
     "shell.execute_reply": "2022-08-01T10:11:57.123274Z"
    },
    "papermill": {
     "duration": 0.058558,
     "end_time": "2022-08-01T10:11:57.123445",
     "exception": false,
     "start_time": "2022-08-01T10:11:57.064887",
     "status": "completed"
    },
    "tags": []
   },
   "outputs": [
    {
     "data": {
      "text/plain": [
       "((10000, 28, 28), (10000,))"
      ]
     },
     "execution_count": 8,
     "metadata": {},
     "output_type": "execute_result"
    }
   ],
   "source": [
    "test_images.shape, test_labels.shape"
   ]
  },
  {
   "cell_type": "code",
   "execution_count": 9,
   "id": "f9ed8fe0",
   "metadata": {
    "execution": {
     "iopub.execute_input": "2022-08-01T10:11:57.196651Z",
     "iopub.status.busy": "2022-08-01T10:11:57.195681Z",
     "iopub.status.idle": "2022-08-01T10:11:57.394590Z",
     "shell.execute_reply": "2022-08-01T10:11:57.395334Z"
    },
    "papermill": {
     "duration": 0.239093,
     "end_time": "2022-08-01T10:11:57.395529",
     "exception": false,
     "start_time": "2022-08-01T10:11:57.156436",
     "status": "completed"
    },
    "tags": []
   },
   "outputs": [
    {
     "name": "stdout",
     "output_type": "stream",
     "text": [
      "2\n"
     ]
    },
    {
     "data": {
      "text/plain": [
       "<matplotlib.image.AxesImage at 0x7f5bec8004a8>"
      ]
     },
     "execution_count": 9,
     "metadata": {},
     "output_type": "execute_result"
    },
    {
     "data": {
      "image/png": "[encoded data removed]",
      "text/plain": [
       "<Figure size 432x288 with 1 Axes>"
      ]
     },
     "metadata": {
      "needs_background": "light"
     },
     "output_type": "display_data"
    }
   ],
   "source": [
    "image_index = 7776 # You may select anything up to 60,000\n",
    "print(train_labels[image_index]) \n",
    "plt.imshow(train_images[image_index], cmap='Greys')"
   ]
  },
  {
   "cell_type": "markdown",
   "id": "a8d2388d",
   "metadata": {
    "papermill": {
     "duration": 0.03649,
     "end_time": "2022-08-01T10:11:57.469659",
     "exception": false,
     "start_time": "2022-08-01T10:11:57.433169",
     "status": "completed"
    },
    "tags": []
   },
   "source": [
    "## Filter data to get 3 and 8 out"
   ]
  },
  {
   "cell_type": "code",
   "execution_count": 10,
   "id": "776f7fc7",
   "metadata": {
    "execution": {
     "iopub.execute_input": "2022-08-01T10:11:57.543508Z",
     "iopub.status.busy": "2022-08-01T10:11:57.542567Z",
     "iopub.status.idle": "2022-08-01T10:11:57.563706Z",
     "shell.execute_reply": "2022-08-01T10:11:57.562953Z"
    },
    "papermill": {
     "duration": 0.060936,
     "end_time": "2022-08-01T10:11:57.563924",
     "exception": false,
     "start_time": "2022-08-01T10:11:57.502988",
     "status": "completed"
    },
    "tags": []
   },
   "outputs": [],
   "source": [
    "train_filter = np.where((train_labels == 3 ) | (train_labels == 8))\n",
    "test_filter = np.where((test_labels == 3) | (test_labels == 8))\n",
    "X_train, y_train = train_images[train_filter], train_labels[train_filter]\n",
    "X_test, y_test = test_images[test_filter], test_labels[test_filter]"
   ]
  },
  {
   "cell_type": "markdown",
   "id": "948f0b7e",
   "metadata": {
    "papermill": {
     "duration": 0.033885,
     "end_time": "2022-08-01T10:11:57.631361",
     "exception": false,
     "start_time": "2022-08-01T10:11:57.597476",
     "status": "completed"
    },
    "tags": []
   },
   "source": [
    "We normalize the pizel values in the 0 to 1 range"
   ]
  },
  {
   "cell_type": "code",
   "execution_count": 11,
   "id": "ee4c2166",
   "metadata": {
    "execution": {
     "iopub.execute_input": "2022-08-01T10:11:57.704274Z",
     "iopub.status.busy": "2022-08-01T10:11:57.703407Z",
     "iopub.status.idle": "2022-08-01T10:11:57.766427Z",
     "shell.execute_reply": "2022-08-01T10:11:57.765793Z"
    },
    "papermill": {
     "duration": 0.102518,
     "end_time": "2022-08-01T10:11:57.766575",
     "exception": false,
     "start_time": "2022-08-01T10:11:57.664057",
     "status": "completed"
    },
    "tags": []
   },
   "outputs": [],
   "source": [
    "X_train = X_train/255.\n",
    "X_test = X_test/255."
   ]
  },
  {
   "cell_type": "markdown",
   "id": "ddcf4fab",
   "metadata": {
    "papermill": {
     "duration": 0.033243,
     "end_time": "2022-08-01T10:11:57.836081",
     "exception": false,
     "start_time": "2022-08-01T10:11:57.802838",
     "status": "completed"
    },
    "tags": []
   },
   "source": [
    "And setup the labels as 1 (when the digit is 3) and 0 (when the digit is 8)"
   ]
  },
  {
   "cell_type": "code",
   "execution_count": 12,
   "id": "7dc908f2",
   "metadata": {
    "execution": {
     "iopub.execute_input": "2022-08-01T10:11:57.914723Z",
     "iopub.status.busy": "2022-08-01T10:11:57.912809Z",
     "iopub.status.idle": "2022-08-01T10:11:57.925724Z",
     "shell.execute_reply": "2022-08-01T10:11:57.924981Z"
    },
    "papermill": {
     "duration": 0.057144,
     "end_time": "2022-08-01T10:11:57.925859",
     "exception": false,
     "start_time": "2022-08-01T10:11:57.868715",
     "status": "completed"
    },
    "tags": []
   },
   "outputs": [],
   "source": [
    "y_train = 1*(y_train==3)\n",
    "y_test = 1*(y_test==3)"
   ]
  },
  {
   "cell_type": "code",
   "execution_count": 13,
   "id": "01e4e969",
   "metadata": {
    "execution": {
     "iopub.execute_input": "2022-08-01T10:11:58.000307Z",
     "iopub.status.busy": "2022-08-01T10:11:57.999491Z",
     "iopub.status.idle": "2022-08-01T10:11:58.018228Z",
     "shell.execute_reply": "2022-08-01T10:11:58.017523Z"
    },
    "papermill": {
     "duration": 0.058713,
     "end_time": "2022-08-01T10:11:58.018399",
     "exception": false,
     "start_time": "2022-08-01T10:11:57.959686",
     "status": "completed"
    },
    "tags": []
   },
   "outputs": [
    {
     "data": {
      "text/plain": [
       "((11982, 28, 28), (1984, 28, 28))"
      ]
     },
     "execution_count": 13,
     "metadata": {},
     "output_type": "execute_result"
    }
   ],
   "source": [
    "X_train.shape, X_test.shape"
   ]
  },
  {
   "cell_type": "markdown",
   "id": "5ccf3f85",
   "metadata": {
    "papermill": {
     "duration": 0.033294,
     "end_time": "2022-08-01T10:11:58.088707",
     "exception": false,
     "start_time": "2022-08-01T10:11:58.055413",
     "status": "completed"
    },
    "tags": []
   },
   "source": [
    "We reshape the data to flatten the image pixels into a set of features or co-variates:"
   ]
  },
  {
   "cell_type": "code",
   "execution_count": 14,
   "id": "5286a4a3",
   "metadata": {
    "execution": {
     "iopub.execute_input": "2022-08-01T10:11:58.167804Z",
     "iopub.status.busy": "2022-08-01T10:11:58.166909Z",
     "iopub.status.idle": "2022-08-01T10:11:58.182549Z",
     "shell.execute_reply": "2022-08-01T10:11:58.181865Z"
    },
    "papermill": {
     "duration": 0.059503,
     "end_time": "2022-08-01T10:11:58.182705",
     "exception": false,
     "start_time": "2022-08-01T10:11:58.123202",
     "status": "completed"
    },
    "tags": []
   },
   "outputs": [
    {
     "data": {
      "text/plain": [
       "((11982, 784), (1984, 784))"
      ]
     },
     "execution_count": 14,
     "metadata": {},
     "output_type": "execute_result"
    }
   ],
   "source": [
    "X_train = X_train.reshape(X_train.shape[0], -1)\n",
    "X_test = X_test.reshape(X_test.shape[0], -1)\n",
    "X_train.shape, X_test.shape"
   ]
  },
  {
   "cell_type": "code",
   "execution_count": 15,
   "id": "73c5f88a",
   "metadata": {
    "execution": {
     "iopub.execute_input": "2022-08-01T10:11:58.259442Z",
     "iopub.status.busy": "2022-08-01T10:11:58.258633Z",
     "iopub.status.idle": "2022-08-01T10:11:58.283150Z",
     "shell.execute_reply": "2022-08-01T10:11:58.283922Z"
    },
    "papermill": {
     "duration": 0.066434,
     "end_time": "2022-08-01T10:11:58.284113",
     "exception": false,
     "start_time": "2022-08-01T10:11:58.217679",
     "status": "completed"
    },
    "tags": []
   },
   "outputs": [],
   "source": [
    "#Impoting functions from 'Kudzu'\n",
    "from kudzu.model import Model\n",
    "from kudzu.train import Learner\n",
    "from kudzu.optim import GD\n",
    "from kudzu.data import Data, Sampler,Dataloader\n",
    "\n",
    "from kudzu.callbacks import AccCallback\n",
    "from kudzu.callbacks import ClfCallback\n",
    "\n",
    "from kudzu.loss import MSE\n",
    "\n",
    "from kudzu.layer import Sigmoid,Relu\n",
    "from kudzu.layer import Affine"
   ]
  },
  {
   "cell_type": "markdown",
   "id": "bc01172a",
   "metadata": {
    "papermill": {
     "duration": 0.037409,
     "end_time": "2022-08-01T10:11:58.358652",
     "exception": false,
     "start_time": "2022-08-01T10:11:58.321243",
     "status": "completed"
    },
    "tags": []
   },
   "source": [
    "### Let us create a `Config` class, to store important parameters. \n",
    "This class essentially plays the role of a dictionary."
   ]
  },
  {
   "cell_type": "code",
   "execution_count": 16,
   "id": "978281aa",
   "metadata": {
    "execution": {
     "iopub.execute_input": "2022-08-01T10:11:58.439771Z",
     "iopub.status.busy": "2022-08-01T10:11:58.438953Z",
     "iopub.status.idle": "2022-08-01T10:11:58.455336Z",
     "shell.execute_reply": "2022-08-01T10:11:58.454679Z"
    },
    "papermill": {
     "duration": 0.060258,
     "end_time": "2022-08-01T10:11:58.455499",
     "exception": false,
     "start_time": "2022-08-01T10:11:58.395241",
     "status": "completed"
    },
    "tags": []
   },
   "outputs": [],
   "source": [
    "class Config:\n",
    "    pass\n",
    "config = Config()\n",
    "config.lr = 0.001\n",
    "config.num_epochs = 250\n",
    "config.bs = 50"
   ]
  },
  {
   "cell_type": "markdown",
   "id": "1385fa59",
   "metadata": {
    "papermill": {
     "duration": 0.03713,
     "end_time": "2022-08-01T10:11:58.530046",
     "exception": false,
     "start_time": "2022-08-01T10:11:58.492916",
     "status": "completed"
    },
    "tags": []
   },
   "source": [
    "### Running Models with the Training data\n",
    "Details about the network layers:\n",
    "- A first affine layer has 784 inputs and does 100 affine transforms. These are followed by a Relu\n",
    "- A second affine layer has 100 inputs from the 100 activations of the past layer, and does 100 affine transforms. These are followed by a Relu\n",
    "- A third affine layer has 100 activations and does 2 affine transformations to create an embedding for visualization. There is no non-linearity here.\n",
    "- A final \"logistic regression\" which has an affine transform from 2 inputs to 1 output, which is squeezed through a sigmoid.\n"
   ]
  },
  {
   "cell_type": "code",
   "execution_count": 17,
   "id": "2b9c66db",
   "metadata": {
    "execution": {
     "iopub.execute_input": "2022-08-01T10:11:58.612916Z",
     "iopub.status.busy": "2022-08-01T10:11:58.612124Z",
     "iopub.status.idle": "2022-08-01T10:11:58.627342Z",
     "shell.execute_reply": "2022-08-01T10:11:58.627957Z"
    },
    "papermill": {
     "duration": 0.06017,
     "end_time": "2022-08-01T10:11:58.628141",
     "exception": false,
     "start_time": "2022-08-01T10:11:58.567971",
     "status": "completed"
    },
    "tags": []
   },
   "outputs": [],
   "source": [
    "data = Data(X_train, y_train.reshape(-1,1))\n",
    "sampler = Sampler(data, config.bs, shuffle=True)\n",
    "\n",
    "dl = Dataloader(data, sampler)\n",
    "\n",
    "opt = GD(config.lr)\n",
    "loss = MSE()"
   ]
  },
  {
   "cell_type": "code",
   "execution_count": 18,
   "id": "b275e4c2",
   "metadata": {
    "execution": {
     "iopub.execute_input": "2022-08-01T10:11:58.708618Z",
     "iopub.status.busy": "2022-08-01T10:11:58.706892Z",
     "iopub.status.idle": "2022-08-01T10:11:58.722356Z",
     "shell.execute_reply": "2022-08-01T10:11:58.722901Z"
    },
    "papermill": {
     "duration": 0.058522,
     "end_time": "2022-08-01T10:11:58.723073",
     "exception": false,
     "start_time": "2022-08-01T10:11:58.664551",
     "status": "completed"
    },
    "tags": []
   },
   "outputs": [],
   "source": [
    "training_data_x = X_train\n",
    "testing_data_x = X_test\n",
    "training_data_y = y_train.reshape(-1,1)\n",
    "testing_data_y = y_test.reshape(-1,1)"
   ]
  },
  {
   "cell_type": "code",
   "execution_count": 19,
   "id": "76951160",
   "metadata": {
    "execution": {
     "iopub.execute_input": "2022-08-01T10:11:58.819478Z",
     "iopub.status.busy": "2022-08-01T10:11:58.818713Z",
     "iopub.status.idle": "2022-08-01T10:11:58.840998Z",
     "shell.execute_reply": "2022-08-01T10:11:58.840325Z"
    },
    "papermill": {
     "duration": 0.06486,
     "end_time": "2022-08-01T10:11:58.841160",
     "exception": false,
     "start_time": "2022-08-01T10:11:58.776300",
     "status": "completed"
    },
    "tags": []
   },
   "outputs": [
    {
     "name": "stdout",
     "output_type": "stream",
     "text": [
      "xavier\n",
      "xavier\n",
      "xavier\n",
      "xavier\n",
      "xavier\n"
     ]
    }
   ],
   "source": [
    "layers = [Affine(\"first\", 784, 100), Relu(\"first\"), Affine(\"second\", 100, 100), Relu(\"second\"), Affine(\"third\", 100, 2), Affine(\"last\", 2, 1), Sigmoid(\"last\")]\n",
    "model_nn = Model(layers)\n",
    "model_lr = Model([Affine(\"logits\", 784, 1), Sigmoid(\"sigmoid\")])"
   ]
  },
  {
   "cell_type": "code",
   "execution_count": 20,
   "id": "6eede77a",
   "metadata": {
    "execution": {
     "iopub.execute_input": "2022-08-01T10:11:58.919177Z",
     "iopub.status.busy": "2022-08-01T10:11:58.918367Z",
     "iopub.status.idle": "2022-08-01T10:11:58.932079Z",
     "shell.execute_reply": "2022-08-01T10:11:58.932733Z"
    },
    "papermill": {
     "duration": 0.05627,
     "end_time": "2022-08-01T10:11:58.932871",
     "exception": false,
     "start_time": "2022-08-01T10:11:58.876601",
     "status": "completed"
    },
    "tags": []
   },
   "outputs": [],
   "source": [
    "nn_learner = Learner(loss, model_nn, opt, config.num_epochs)\n",
    "acc_nn = ClfCallback(nn_learner, config.bs, training_data_x , testing_data_x, training_data_y, testing_data_y)\n",
    "nn_learner.set_callbacks([acc_nn])"
   ]
  },
  {
   "cell_type": "code",
   "execution_count": 21,
   "id": "877b6cc7",
   "metadata": {
    "execution": {
     "iopub.execute_input": "2022-08-01T10:11:59.007005Z",
     "iopub.status.busy": "2022-08-01T10:11:59.006297Z",
     "iopub.status.idle": "2022-08-01T10:11:59.021506Z",
     "shell.execute_reply": "2022-08-01T10:11:59.020923Z"
    },
    "papermill": {
     "duration": 0.056208,
     "end_time": "2022-08-01T10:11:59.021637",
     "exception": false,
     "start_time": "2022-08-01T10:11:58.965429",
     "status": "completed"
    },
    "tags": []
   },
   "outputs": [],
   "source": [
    "lr_learner = Learner(loss, model_lr, opt, config.num_epochs)\n",
    "acc_lr = ClfCallback(lr_learner, config.bs, training_data_x , testing_data_x, training_data_y, testing_data_y)\n",
    "lr_learner.set_callbacks([acc_lr])"
   ]
  },
  {
   "cell_type": "code",
   "execution_count": 22,
   "id": "d9b133c3",
   "metadata": {
    "execution": {
     "iopub.execute_input": "2022-08-01T10:11:59.094580Z",
     "iopub.status.busy": "2022-08-01T10:11:59.093821Z",
     "iopub.status.idle": "2022-08-01T10:14:26.880176Z",
     "shell.execute_reply": "2022-08-01T10:14:26.881273Z"
    },
    "papermill": {
     "duration": 147.825591,
     "end_time": "2022-08-01T10:14:26.881525",
     "exception": false,
     "start_time": "2022-08-01T10:11:59.055934",
     "status": "completed"
    },
    "tags": []
   },
   "outputs": [
    {
     "name": "stdout",
     "output_type": "stream",
     "text": [
      "Epoch 0, Loss 0.2511\n",
      "Training Accuracy: 0.5088, Testing Accuracy: 0.5202\n",
      "\n"
     ]
    },
    {
     "name": "stdout",
     "output_type": "stream",
     "text": [
      "Epoch 10, Loss 0.2318\n",
      "Training Accuracy: 0.8372, Testing Accuracy: 0.8574\n",
      "\n"
     ]
    },
    {
     "name": "stdout",
     "output_type": "stream",
     "text": [
      "Epoch 20, Loss 0.1601\n",
      "Training Accuracy: 0.9012, Testing Accuracy: 0.9143\n",
      "\n"
     ]
    },
    {
     "name": "stdout",
     "output_type": "stream",
     "text": [
      "Epoch 30, Loss 0.0806\n",
      "Training Accuracy: 0.9255, Testing Accuracy: 0.9390\n",
      "\n"
     ]
    },
    {
     "name": "stdout",
     "output_type": "stream",
     "text": [
      "Epoch 40, Loss 0.0558\n",
      "Training Accuracy: 0.9411, Testing Accuracy: 0.9521\n",
      "\n"
     ]
    },
    {
     "name": "stdout",
     "output_type": "stream",
     "text": [
      "Epoch 50, Loss 0.0456\n",
      "Training Accuracy: 0.9488, Testing Accuracy: 0.9612\n",
      "\n"
     ]
    },
    {
     "name": "stdout",
     "output_type": "stream",
     "text": [
      "Epoch 60, Loss 0.0402\n",
      "Training Accuracy: 0.9538, Testing Accuracy: 0.9627\n",
      "\n"
     ]
    },
    {
     "name": "stdout",
     "output_type": "stream",
     "text": [
      "Epoch 70, Loss 0.0367\n",
      "Training Accuracy: 0.9573, Testing Accuracy: 0.9642\n",
      "\n"
     ]
    },
    {
     "name": "stdout",
     "output_type": "stream",
     "text": [
      "Epoch 80, Loss 0.0342\n",
      "Training Accuracy: 0.9586, Testing Accuracy: 0.9667\n",
      "\n"
     ]
    },
    {
     "name": "stdout",
     "output_type": "stream",
     "text": [
      "Epoch 90, Loss 0.0323\n",
      "Training Accuracy: 0.9604, Testing Accuracy: 0.9688\n",
      "\n"
     ]
    },
    {
     "name": "stdout",
     "output_type": "stream",
     "text": [
      "Epoch 100, Loss 0.0307\n",
      "Training Accuracy: 0.9624, Testing Accuracy: 0.9713\n",
      "\n"
     ]
    },
    {
     "name": "stdout",
     "output_type": "stream",
     "text": [
      "Epoch 110, Loss 0.0294\n",
      "Training Accuracy: 0.9640, Testing Accuracy: 0.9713\n",
      "\n"
     ]
    },
    {
     "name": "stdout",
     "output_type": "stream",
     "text": [
      "Epoch 120, Loss 0.0283\n",
      "Training Accuracy: 0.9656, Testing Accuracy: 0.9708\n",
      "\n"
     ]
    },
    {
     "name": "stdout",
     "output_type": "stream",
     "text": [
      "Epoch 130, Loss 0.0273\n",
      "Training Accuracy: 0.9670, Testing Accuracy: 0.9698\n",
      "\n"
     ]
    },
    {
     "name": "stdout",
     "output_type": "stream",
     "text": [
      "Epoch 140, Loss 0.0264\n",
      "Training Accuracy: 0.9678, Testing Accuracy: 0.9708\n",
      "\n"
     ]
    },
    {
     "name": "stdout",
     "output_type": "stream",
     "text": [
      "Epoch 150, Loss 0.0257\n",
      "Training Accuracy: 0.9694, Testing Accuracy: 0.9723\n",
      "\n"
     ]
    },
    {
     "name": "stdout",
     "output_type": "stream",
     "text": [
      "Epoch 160, Loss 0.0249\n",
      "Training Accuracy: 0.9696, Testing Accuracy: 0.9718\n",
      "\n"
     ]
    },
    {
     "name": "stdout",
     "output_type": "stream",
     "text": [
      "Epoch 170, Loss 0.0243\n",
      "Training Accuracy: 0.9708, Testing Accuracy: 0.9718\n",
      "\n"
     ]
    },
    {
     "name": "stdout",
     "output_type": "stream",
     "text": [
      "Epoch 180, Loss 0.0237\n",
      "Training Accuracy: 0.9719, Testing Accuracy: 0.9718\n",
      "\n"
     ]
    },
    {
     "name": "stdout",
     "output_type": "stream",
     "text": [
      "Epoch 190, Loss 0.0231\n",
      "Training Accuracy: 0.9728, Testing Accuracy: 0.9723\n",
      "\n"
     ]
    },
    {
     "name": "stdout",
     "output_type": "stream",
     "text": [
      "Epoch 200, Loss 0.0226\n",
      "Training Accuracy: 0.9731, Testing Accuracy: 0.9718\n",
      "\n"
     ]
    },
    {
     "name": "stdout",
     "output_type": "stream",
     "text": [
      "Epoch 210, Loss 0.0221\n",
      "Training Accuracy: 0.9740, Testing Accuracy: 0.9723\n",
      "\n"
     ]
    },
    {
     "name": "stdout",
     "output_type": "stream",
     "text": [
      "Epoch 220, Loss 0.0216\n",
      "Training Accuracy: 0.9746, Testing Accuracy: 0.9728\n",
      "\n"
     ]
    },
    {
     "name": "stdout",
     "output_type": "stream",
     "text": [
      "Epoch 230, Loss 0.0212\n",
      "Training Accuracy: 0.9752, Testing Accuracy: 0.9738\n",
      "\n"
     ]
    },
    {
     "name": "stdout",
     "output_type": "stream",
     "text": [
      "Epoch 240, Loss 0.0207\n",
      "Training Accuracy: 0.9758, Testing Accuracy: 0.9728\n",
      "\n"
     ]
    },
    {
     "data": {
      "text/plain": [
       "0.003467959029931024"
      ]
     },
     "execution_count": 22,
     "metadata": {},
     "output_type": "execute_result"
    }
   ],
   "source": [
    "nn_learner.train_loop(dl)"
   ]
  },
  {
   "cell_type": "code",
   "execution_count": 23,
   "id": "e0163366",
   "metadata": {
    "execution": {
     "iopub.execute_input": "2022-08-01T10:14:26.987860Z",
     "iopub.status.busy": "2022-08-01T10:14:26.986965Z",
     "iopub.status.idle": "2022-08-01T10:14:49.018285Z",
     "shell.execute_reply": "2022-08-01T10:14:49.019020Z"
    },
    "papermill": {
     "duration": 22.088101,
     "end_time": "2022-08-01T10:14:49.019187",
     "exception": false,
     "start_time": "2022-08-01T10:14:26.931086",
     "status": "completed"
    },
    "tags": []
   },
   "outputs": [
    {
     "name": "stdout",
     "output_type": "stream",
     "text": [
      "Epoch 0, Loss 0.2656\n",
      "Training Accuracy: 0.5855, Testing Accuracy: 0.5857\n",
      "\n"
     ]
    },
    {
     "name": "stdout",
     "output_type": "stream",
     "text": [
      "Epoch 10, Loss 0.1059\n",
      "Training Accuracy: 0.9020, Testing Accuracy: 0.9093\n",
      "\n"
     ]
    },
    {
     "name": "stdout",
     "output_type": "stream",
     "text": [
      "Epoch 20, Loss 0.0806\n",
      "Training Accuracy: 0.9228, Testing Accuracy: 0.9355\n",
      "\n"
     ]
    },
    {
     "name": "stdout",
     "output_type": "stream",
     "text": [
      "Epoch 30, Loss 0.069\n",
      "Training Accuracy: 0.9334, Testing Accuracy: 0.9456\n",
      "\n"
     ]
    },
    {
     "name": "stdout",
     "output_type": "stream",
     "text": [
      "Epoch 40, Loss 0.0621\n",
      "Training Accuracy: 0.9394, Testing Accuracy: 0.9501\n",
      "\n"
     ]
    },
    {
     "name": "stdout",
     "output_type": "stream",
     "text": [
      "Epoch 50, Loss 0.0574\n",
      "Training Accuracy: 0.9434, Testing Accuracy: 0.9531\n",
      "\n"
     ]
    },
    {
     "name": "stdout",
     "output_type": "stream",
     "text": [
      "Epoch 60, Loss 0.054\n",
      "Training Accuracy: 0.9456, Testing Accuracy: 0.9577\n",
      "\n"
     ]
    },
    {
     "name": "stdout",
     "output_type": "stream",
     "text": [
      "Epoch 70, Loss 0.0514\n",
      "Training Accuracy: 0.9485, Testing Accuracy: 0.9607\n",
      "\n"
     ]
    },
    {
     "name": "stdout",
     "output_type": "stream",
     "text": [
      "Epoch 80, Loss 0.0493\n",
      "Training Accuracy: 0.9502, Testing Accuracy: 0.9627\n",
      "\n"
     ]
    },
    {
     "name": "stdout",
     "output_type": "stream",
     "text": [
      "Epoch 90, Loss 0.0476\n",
      "Training Accuracy: 0.9523, Testing Accuracy: 0.9632\n",
      "\n"
     ]
    },
    {
     "name": "stdout",
     "output_type": "stream",
     "text": [
      "Epoch 100, Loss 0.0462\n",
      "Training Accuracy: 0.9533, Testing Accuracy: 0.9647\n",
      "\n"
     ]
    },
    {
     "name": "stdout",
     "output_type": "stream",
     "text": [
      "Epoch 110, Loss 0.0449\n",
      "Training Accuracy: 0.9548, Testing Accuracy: 0.9662\n",
      "\n"
     ]
    },
    {
     "name": "stdout",
     "output_type": "stream",
     "text": [
      "Epoch 120, Loss 0.0439\n",
      "Training Accuracy: 0.9558, Testing Accuracy: 0.9662\n",
      "\n"
     ]
    },
    {
     "name": "stdout",
     "output_type": "stream",
     "text": [
      "Epoch 130, Loss 0.0429\n",
      "Training Accuracy: 0.9563, Testing Accuracy: 0.9667\n",
      "\n"
     ]
    },
    {
     "name": "stdout",
     "output_type": "stream",
     "text": [
      "Epoch 140, Loss 0.0421\n",
      "Training Accuracy: 0.9565, Testing Accuracy: 0.9672\n",
      "\n"
     ]
    },
    {
     "name": "stdout",
     "output_type": "stream",
     "text": [
      "Epoch 150, Loss 0.0414\n",
      "Training Accuracy: 0.9571, Testing Accuracy: 0.9677\n",
      "\n"
     ]
    },
    {
     "name": "stdout",
     "output_type": "stream",
     "text": [
      "Epoch 160, Loss 0.0407\n",
      "Training Accuracy: 0.9579, Testing Accuracy: 0.9677\n",
      "\n"
     ]
    },
    {
     "name": "stdout",
     "output_type": "stream",
     "text": [
      "Epoch 170, Loss 0.0401\n",
      "Training Accuracy: 0.9580, Testing Accuracy: 0.9693\n",
      "\n"
     ]
    },
    {
     "name": "stdout",
     "output_type": "stream",
     "text": [
      "Epoch 180, Loss 0.0395\n",
      "Training Accuracy: 0.9584, Testing Accuracy: 0.9688\n",
      "\n"
     ]
    },
    {
     "name": "stdout",
     "output_type": "stream",
     "text": [
      "Epoch 190, Loss 0.039\n",
      "Training Accuracy: 0.9588, Testing Accuracy: 0.9693\n",
      "\n"
     ]
    },
    {
     "name": "stdout",
     "output_type": "stream",
     "text": [
      "Epoch 200, Loss 0.0385\n",
      "Training Accuracy: 0.9592, Testing Accuracy: 0.9693\n",
      "\n"
     ]
    },
    {
     "name": "stdout",
     "output_type": "stream",
     "text": [
      "Epoch 210, Loss 0.0381\n",
      "Training Accuracy: 0.9594, Testing Accuracy: 0.9693\n",
      "\n"
     ]
    },
    {
     "name": "stdout",
     "output_type": "stream",
     "text": [
      "Epoch 220, Loss 0.0377\n",
      "Training Accuracy: 0.9598, Testing Accuracy: 0.9693\n",
      "\n"
     ]
    },
    {
     "name": "stdout",
     "output_type": "stream",
     "text": [
      "Epoch 230, Loss 0.0373\n",
      "Training Accuracy: 0.9601, Testing Accuracy: 0.9698\n",
      "\n"
     ]
    },
    {
     "name": "stdout",
     "output_type": "stream",
     "text": [
      "Epoch 240, Loss 0.0369\n",
      "Training Accuracy: 0.9605, Testing Accuracy: 0.9698\n",
      "\n"
     ]
    },
    {
     "data": {
      "text/plain": [
       "0.012298479024164914"
      ]
     },
     "execution_count": 23,
     "metadata": {},
     "output_type": "execute_result"
    }
   ],
   "source": [
    "lr_learner.train_loop(dl)"
   ]
  },
  {
   "cell_type": "code",
   "execution_count": 24,
   "id": "ca410940",
   "metadata": {
    "execution": {
     "iopub.execute_input": "2022-08-01T10:14:49.141415Z",
     "iopub.status.busy": "2022-08-01T10:14:49.140602Z",
     "iopub.status.idle": "2022-08-01T10:14:49.476445Z",
     "shell.execute_reply": "2022-08-01T10:14:49.475820Z"
    },
    "papermill": {
     "duration": 0.40078,
     "end_time": "2022-08-01T10:14:49.476600",
     "exception": false,
     "start_time": "2022-08-01T10:14:49.075820",
     "status": "completed"
    },
    "tags": []
   },
   "outputs": [
    {
     "data": {
      "text/plain": [
       "<matplotlib.legend.Legend at 0x7f5bdfbb7ac8>"
      ]
     },
     "execution_count": 24,
     "metadata": {},
     "output_type": "execute_result"
    },
    {
     "data": {
      "image/png": "[encoded data removed]",
      "text/plain": [
       "<Figure size 1080x720 with 1 Axes>"
      ]
     },
     "metadata": {
      "needs_background": "light"
     },
     "output_type": "display_data"
    }
   ],
   "source": [
    "#comparing the results of NN and LR\n",
    "plt.figure(figsize=(15,10))\n",
    "\n",
    "# Neural Network plots\n",
    "plt.plot(acc_nn.accuracies, 'r-', label = \"Training Accuracies - NN\")\n",
    "plt.plot(acc_nn.test_accuracies, 'g-', label = \"Testing Accuracies - NN\")\n",
    "\n",
    "# Logistic Regression plots\n",
    "plt.plot(acc_lr.accuracies, 'k-', label = \"Training Accuracies - LR\")\n",
    "plt.plot(acc_lr.test_accuracies, 'b-', label = \"Testing Accuracies - LR\")\n",
    "plt.legend()"
   ]
  },
  {
   "cell_type": "markdown",
   "id": "80dfb35c",
   "metadata": {
    "papermill": {
     "duration": 0.056817,
     "end_time": "2022-08-01T10:14:49.589269",
     "exception": false,
     "start_time": "2022-08-01T10:14:49.532452",
     "status": "completed"
    },
    "tags": []
   },
   "source": [
    "#### Plotting the outputs of this layer of the NN.\n"
   ]
  },
  {
   "cell_type": "code",
   "execution_count": 25,
   "id": "45eb2ff5",
   "metadata": {
    "execution": {
     "iopub.execute_input": "2022-08-01T10:14:49.719354Z",
     "iopub.status.busy": "2022-08-01T10:14:49.718536Z",
     "iopub.status.idle": "2022-08-01T10:14:49.747118Z",
     "shell.execute_reply": "2022-08-01T10:14:49.746517Z"
    },
    "papermill": {
     "duration": 0.092415,
     "end_time": "2022-08-01T10:14:49.747259",
     "exception": false,
     "start_time": "2022-08-01T10:14:49.654844",
     "status": "completed"
    },
    "tags": []
   },
   "outputs": [],
   "source": [
    "new_model = Model(layers[:-2])\n",
    "testing_plot = new_model(testing_data_x)"
   ]
  },
  {
   "cell_type": "code",
   "execution_count": 26,
   "id": "4c0a5485",
   "metadata": {
    "execution": {
     "iopub.execute_input": "2022-08-01T10:14:49.867630Z",
     "iopub.status.busy": "2022-08-01T10:14:49.866782Z",
     "iopub.status.idle": "2022-08-01T10:14:50.143551Z",
     "shell.execute_reply": "2022-08-01T10:14:50.144860Z"
    },
    "papermill": {
     "duration": 0.34136,
     "end_time": "2022-08-01T10:14:50.145047",
     "exception": false,
     "start_time": "2022-08-01T10:14:49.803687",
     "status": "completed"
    },
    "tags": []
   },
   "outputs": [
    {
     "data": {
      "text/plain": [
       "Text(0.5, 1.0, 'Outputs')"
      ]
     },
     "execution_count": 26,
     "metadata": {},
     "output_type": "execute_result"
    },
    {
     "data": {
      "image/png": "[encoded data removed]",
      "text/plain": [
       "<Figure size 576x504 with 1 Axes>"
      ]
     },
     "metadata": {
      "needs_background": "light"
     },
     "output_type": "display_data"
    }
   ],
   "source": [
    "# Plotting the scatter plot of points and color coding by class\n",
    "plt.figure(figsize=(8,7))\n",
    "plt.scatter(testing_plot[:,0], testing_plot[:,1], alpha = 0.1, c = y_test.ravel());\n",
    "plt.title('Outputs')"
   ]
  },
  {
   "cell_type": "markdown",
   "id": "a74fcf8f",
   "metadata": {
    "papermill": {
     "duration": 0.082254,
     "end_time": "2022-08-01T10:14:50.286748",
     "exception": false,
     "start_time": "2022-08-01T10:14:50.204494",
     "status": "completed"
    },
    "tags": []
   },
   "source": [
    "Probability contours"
   ]
  },
  {
   "cell_type": "code",
   "execution_count": 27,
   "id": "d0afc8e3",
   "metadata": {
    "execution": {
     "iopub.execute_input": "2022-08-01T10:14:50.405447Z",
     "iopub.status.busy": "2022-08-01T10:14:50.404735Z",
     "iopub.status.idle": "2022-08-01T10:14:50.418094Z",
     "shell.execute_reply": "2022-08-01T10:14:50.417555Z"
    },
    "papermill": {
     "duration": 0.076096,
     "end_time": "2022-08-01T10:14:50.418212",
     "exception": false,
     "start_time": "2022-08-01T10:14:50.342116",
     "status": "completed"
    },
    "tags": []
   },
   "outputs": [],
   "source": [
    "model_prob = Model(layers[-2:]) "
   ]
  },
  {
   "cell_type": "code",
   "execution_count": 28,
   "id": "9b96e238",
   "metadata": {
    "execution": {
     "iopub.execute_input": "2022-08-01T10:14:50.542775Z",
     "iopub.status.busy": "2022-08-01T10:14:50.541880Z",
     "iopub.status.idle": "2022-08-01T10:14:50.561014Z",
     "shell.execute_reply": "2022-08-01T10:14:50.562192Z"
    },
    "papermill": {
     "duration": 0.082923,
     "end_time": "2022-08-01T10:14:50.562375",
     "exception": false,
     "start_time": "2022-08-01T10:14:50.479452",
     "status": "completed"
    },
    "tags": []
   },
   "outputs": [],
   "source": [
    "#creating the x and y ranges according to the above generated plot.\n",
    "x_range = np.linspace(-4, 1, 100) \n",
    "y_range = np.linspace(-6, 6, 100) \n",
    "x_grid, y_grid = np.meshgrid(x_range, y_range) # x_grid and y_grig are of size 100 X 100\n",
    "\n",
    "# converting x_grid and y_grid to continuous arrays\n",
    "x_gridflat = np.ravel(x_grid)\n",
    "y_gridflat = np.ravel(y_grid)\n",
    "\n",
    "# The last layer of the current model takes two columns as input. Hence transpose of np.vstack() is required.\n",
    "X = np.vstack((x_gridflat, y_gridflat)).T\n",
    "\n",
    "prob_contour = model_prob(X).reshape(100,100) "
   ]
  },
  {
   "cell_type": "code",
   "execution_count": 29,
   "id": "da72499a",
   "metadata": {
    "execution": {
     "iopub.execute_input": "2022-08-01T10:14:50.698776Z",
     "iopub.status.busy": "2022-08-01T10:14:50.697966Z",
     "iopub.status.idle": "2022-08-01T10:14:51.043887Z",
     "shell.execute_reply": "2022-08-01T10:14:51.043153Z"
    },
    "papermill": {
     "duration": 0.412832,
     "end_time": "2022-08-01T10:14:51.044052",
     "exception": false,
     "start_time": "2022-08-01T10:14:50.631220",
     "status": "completed"
    },
    "tags": []
   },
   "outputs": [
    {
     "data": {
      "image/png": "[encoded data removed]",
      "text/plain": [
       "<Figure size 720x648 with 1 Axes>"
      ]
     },
     "metadata": {
      "needs_background": "light"
     },
     "output_type": "display_data"
    }
   ],
   "source": [
    "plt.figure(figsize=(10,9))\n",
    "plt.scatter(testing_plot[:,0], testing_plot[:,1], alpha = 0.1, c = y_test.ravel())\n",
    "contours = plt.contour(x_grid,y_grid,prob_contour)\n",
    "plt.title('Probability Contours')\n",
    "plt.clabel(contours, inline = True );"
   ]
  },
  {
   "cell_type": "code",
   "execution_count": null,
   "id": "e81b4ac7",
   "metadata": {
    "papermill": {
     "duration": 0.062215,
     "end_time": "2022-08-01T10:14:51.171537",
     "exception": false,
     "start_time": "2022-08-01T10:14:51.109322",
     "status": "completed"
    },
    "tags": []
   },
   "outputs": [],
   "source": []
  }
 ],
 "metadata": {
  "kernelspec": {
   "display_name": "Python 3",
   "language": "python",
   "name": "python3"
  },
  "language_info": {
   "codemirror_mode": {
    "name": "ipython",
    "version": 3
   },
   "file_extension": ".py",
   "mimetype": "text/x-python",
   "name": "python",
   "nbconvert_exporter": "python",
   "pygments_lexer": "ipython3",
   "version": "3.6.15"
  },
  "papermill": {
   "default_parameters": {},
   "duration": 180.342249,
   "end_time": "2022-08-01T10:14:51.654640",
   "environment_variables": {},
   "exception": null,
   "input_path": "2020-08-11-part2.ipynb",
   "output_path": "2020-08-11-part2.ipynb",
   "parameters": {},
   "start_time": "2022-08-01T10:11:51.312391",
   "version": "2.3.3"
  }
 },
 "nbformat": 4,
 "nbformat_minor": 5
}