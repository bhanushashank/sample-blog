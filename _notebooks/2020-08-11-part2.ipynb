{
 "cells": [
  {
   "cell_type": "markdown",
   "id": "98380cd3",
   "metadata": {
    "papermill": {
     "duration": 0.029767,
     "end_time": "2022-05-11T10:10:09.267603",
     "exception": false,
     "start_time": "2022-05-11T10:10:09.237836",
     "status": "completed"
    },
    "tags": []
   },
   "source": [
    "# Distinguish Your Own Digits (DYOD)"
   ]
  },
  {
   "cell_type": "markdown",
   "id": "ef31240d",
   "metadata": {
    "papermill": {
     "duration": 0.025741,
     "end_time": "2022-05-11T10:10:09.318147",
     "exception": false,
     "start_time": "2022-05-11T10:10:09.292406",
     "status": "completed"
    },
    "tags": []
   },
   "source": [
    "You are going to write a classifier that distinguishes between the number 3 and number 8."
   ]
  },
  {
   "cell_type": "code",
   "execution_count": 1,
   "id": "b15c8646",
   "metadata": {
    "execution": {
     "iopub.execute_input": "2022-05-11T10:10:09.376885Z",
     "iopub.status.busy": "2022-05-11T10:10:09.376308Z",
     "iopub.status.idle": "2022-05-11T10:10:09.386348Z",
     "shell.execute_reply": "2022-05-11T10:10:09.385903Z"
    },
    "papermill": {
     "duration": 0.044281,
     "end_time": "2022-05-11T10:10:09.386488",
     "exception": false,
     "start_time": "2022-05-11T10:10:09.342207",
     "status": "completed"
    },
    "tags": []
   },
   "outputs": [],
   "source": [
    "%load_ext autoreload\n",
    "%autoreload 2"
   ]
  },
  {
   "cell_type": "code",
   "execution_count": 2,
   "id": "22ef38dc",
   "metadata": {
    "execution": {
     "iopub.execute_input": "2022-05-11T10:10:09.443954Z",
     "iopub.status.busy": "2022-05-11T10:10:09.443382Z",
     "iopub.status.idle": "2022-05-11T10:10:09.961411Z",
     "shell.execute_reply": "2022-05-11T10:10:09.960883Z"
    },
    "papermill": {
     "duration": 0.550837,
     "end_time": "2022-05-11T10:10:09.961555",
     "exception": false,
     "start_time": "2022-05-11T10:10:09.410718",
     "status": "completed"
    },
    "tags": []
   },
   "outputs": [],
   "source": [
    "%matplotlib inline\n",
    "import numpy as np\n",
    "import matplotlib.pyplot as plt\n",
    "import pandas as pd"
   ]
  },
  {
   "cell_type": "markdown",
   "id": "ba036198",
   "metadata": {
    "papermill": {
     "duration": 0.024074,
     "end_time": "2022-05-11T10:10:10.009702",
     "exception": false,
     "start_time": "2022-05-11T10:10:09.985628",
     "status": "completed"
    },
    "tags": []
   },
   "source": [
    "From the command line run `pip install mnist`. This is a library that will help you bring down the mnist dataset. If you run this from a notebook, you need to put  `!pip install mnist` in a cell by itself."
   ]
  },
  {
   "cell_type": "code",
   "execution_count": 3,
   "id": "bb6ad8a1",
   "metadata": {
    "execution": {
     "iopub.execute_input": "2022-05-11T10:10:10.064572Z",
     "iopub.status.busy": "2022-05-11T10:10:10.064027Z",
     "iopub.status.idle": "2022-05-11T10:10:11.822583Z",
     "shell.execute_reply": "2022-05-11T10:10:11.823109Z"
    },
    "papermill": {
     "duration": 1.789445,
     "end_time": "2022-05-11T10:10:11.823258",
     "exception": false,
     "start_time": "2022-05-11T10:10:10.033813",
     "status": "completed"
    },
    "tags": []
   },
   "outputs": [
    {
     "name": "stdout",
     "output_type": "stream",
     "text": [
      "Collecting mnist\r\n"
     ]
    },
    {
     "name": "stdout",
     "output_type": "stream",
     "text": [
      "  Downloading mnist-0.2.2-py2.py3-none-any.whl (3.5 kB)\r\n",
      "Requirement already satisfied: numpy in /opt/hostedtoolcache/Python/3.6.15/x64/lib/python3.6/site-packages (from mnist) (1.19.5)\r\n"
     ]
    },
    {
     "name": "stdout",
     "output_type": "stream",
     "text": [
      "Installing collected packages: mnist\r\n",
      "Successfully installed mnist-0.2.2\r\n"
     ]
    }
   ],
   "source": [
    "!pip install mnist"
   ]
  },
  {
   "cell_type": "markdown",
   "id": "69df9c9a",
   "metadata": {
    "papermill": {
     "duration": 0.024857,
     "end_time": "2022-05-11T10:10:11.873264",
     "exception": false,
     "start_time": "2022-05-11T10:10:11.848407",
     "status": "completed"
    },
    "tags": []
   },
   "source": [
    "## Preparing the Data"
   ]
  },
  {
   "cell_type": "code",
   "execution_count": 4,
   "id": "7f69d806",
   "metadata": {
    "execution": {
     "iopub.execute_input": "2022-05-11T10:10:11.938275Z",
     "iopub.status.busy": "2022-05-11T10:10:11.928858Z",
     "iopub.status.idle": "2022-05-11T10:10:11.942773Z",
     "shell.execute_reply": "2022-05-11T10:10:11.943197Z"
    },
    "papermill": {
     "duration": 0.04535,
     "end_time": "2022-05-11T10:10:11.943346",
     "exception": false,
     "start_time": "2022-05-11T10:10:11.897996",
     "status": "completed"
    },
    "tags": []
   },
   "outputs": [],
   "source": [
    "import mnist"
   ]
  },
  {
   "cell_type": "code",
   "execution_count": 5,
   "id": "a411e44f",
   "metadata": {
    "execution": {
     "iopub.execute_input": "2022-05-11T10:10:11.997400Z",
     "iopub.status.busy": "2022-05-11T10:10:11.996866Z",
     "iopub.status.idle": "2022-05-11T10:10:12.511647Z",
     "shell.execute_reply": "2022-05-11T10:10:12.511117Z"
    },
    "papermill": {
     "duration": 0.543293,
     "end_time": "2022-05-11T10:10:12.511797",
     "exception": false,
     "start_time": "2022-05-11T10:10:11.968504",
     "status": "completed"
    },
    "tags": []
   },
   "outputs": [],
   "source": [
    "train_images = mnist.train_images()\n",
    "train_labels = mnist.train_labels()"
   ]
  },
  {
   "cell_type": "code",
   "execution_count": 6,
   "id": "dceab3a5",
   "metadata": {
    "execution": {
     "iopub.execute_input": "2022-05-11T10:10:12.566855Z",
     "iopub.status.busy": "2022-05-11T10:10:12.566330Z",
     "iopub.status.idle": "2022-05-11T10:10:12.579077Z",
     "shell.execute_reply": "2022-05-11T10:10:12.579569Z"
    },
    "papermill": {
     "duration": 0.042549,
     "end_time": "2022-05-11T10:10:12.579706",
     "exception": false,
     "start_time": "2022-05-11T10:10:12.537157",
     "status": "completed"
    },
    "tags": []
   },
   "outputs": [
    {
     "data": {
      "text/plain": [
       "((60000, 28, 28), (60000,))"
      ]
     },
     "execution_count": 6,
     "metadata": {},
     "output_type": "execute_result"
    }
   ],
   "source": [
    "train_images.shape, train_labels.shape"
   ]
  },
  {
   "cell_type": "code",
   "execution_count": 7,
   "id": "f50dc2bb",
   "metadata": {
    "execution": {
     "iopub.execute_input": "2022-05-11T10:10:12.637913Z",
     "iopub.status.busy": "2022-05-11T10:10:12.637376Z",
     "iopub.status.idle": "2022-05-11T10:10:12.779440Z",
     "shell.execute_reply": "2022-05-11T10:10:12.778931Z"
    },
    "papermill": {
     "duration": 0.174922,
     "end_time": "2022-05-11T10:10:12.779570",
     "exception": false,
     "start_time": "2022-05-11T10:10:12.604648",
     "status": "completed"
    },
    "tags": []
   },
   "outputs": [],
   "source": [
    "test_images = mnist.test_images()\n",
    "test_labels = mnist.test_labels()"
   ]
  },
  {
   "cell_type": "code",
   "execution_count": 8,
   "id": "fc38cf1b",
   "metadata": {
    "execution": {
     "iopub.execute_input": "2022-05-11T10:10:12.837331Z",
     "iopub.status.busy": "2022-05-11T10:10:12.836799Z",
     "iopub.status.idle": "2022-05-11T10:10:12.848825Z",
     "shell.execute_reply": "2022-05-11T10:10:12.848369Z"
    },
    "papermill": {
     "duration": 0.043916,
     "end_time": "2022-05-11T10:10:12.848949",
     "exception": false,
     "start_time": "2022-05-11T10:10:12.805033",
     "status": "completed"
    },
    "tags": []
   },
   "outputs": [
    {
     "data": {
      "text/plain": [
       "((10000, 28, 28), (10000,))"
      ]
     },
     "execution_count": 8,
     "metadata": {},
     "output_type": "execute_result"
    }
   ],
   "source": [
    "test_images.shape, test_labels.shape"
   ]
  },
  {
   "cell_type": "code",
   "execution_count": 9,
   "id": "f9ed8fe0",
   "metadata": {
    "execution": {
     "iopub.execute_input": "2022-05-11T10:10:12.903702Z",
     "iopub.status.busy": "2022-05-11T10:10:12.903174Z",
     "iopub.status.idle": "2022-05-11T10:10:13.033145Z",
     "shell.execute_reply": "2022-05-11T10:10:13.032641Z"
    },
    "papermill": {
     "duration": 0.159025,
     "end_time": "2022-05-11T10:10:13.033277",
     "exception": false,
     "start_time": "2022-05-11T10:10:12.874252",
     "status": "completed"
    },
    "tags": []
   },
   "outputs": [
    {
     "name": "stdout",
     "output_type": "stream",
     "text": [
      "2\n"
     ]
    },
    {
     "data": {
      "text/plain": [
       "<matplotlib.image.AxesImage at 0x7fb9a550a4e0>"
      ]
     },
     "execution_count": 9,
     "metadata": {},
     "output_type": "execute_result"
    },
    {
     "data": {
      "image/png": "[encoded data removed]",
      "text/plain": [
       "<Figure size 432x288 with 1 Axes>"
      ]
     },
     "metadata": {
      "needs_background": "light"
     },
     "output_type": "display_data"
    }
   ],
   "source": [
    "image_index = 7776 # You may select anything up to 60,000\n",
    "print(train_labels[image_index]) \n",
    "plt.imshow(train_images[image_index], cmap='Greys')"
   ]
  },
  {
   "cell_type": "markdown",
   "id": "a8d2388d",
   "metadata": {
    "papermill": {
     "duration": 0.026676,
     "end_time": "2022-05-11T10:10:13.086393",
     "exception": false,
     "start_time": "2022-05-11T10:10:13.059717",
     "status": "completed"
    },
    "tags": []
   },
   "source": [
    "## Filter data to get 3 and 8 out"
   ]
  },
  {
   "cell_type": "code",
   "execution_count": 10,
   "id": "776f7fc7",
   "metadata": {
    "execution": {
     "iopub.execute_input": "2022-05-11T10:10:13.150397Z",
     "iopub.status.busy": "2022-05-11T10:10:13.149819Z",
     "iopub.status.idle": "2022-05-11T10:10:13.165436Z",
     "shell.execute_reply": "2022-05-11T10:10:13.164986Z"
    },
    "papermill": {
     "duration": 0.052701,
     "end_time": "2022-05-11T10:10:13.165570",
     "exception": false,
     "start_time": "2022-05-11T10:10:13.112869",
     "status": "completed"
    },
    "tags": []
   },
   "outputs": [],
   "source": [
    "train_filter = np.where((train_labels == 3 ) | (train_labels == 8))\n",
    "test_filter = np.where((test_labels == 3) | (test_labels == 8))\n",
    "X_train, y_train = train_images[train_filter], train_labels[train_filter]\n",
    "X_test, y_test = test_images[test_filter], test_labels[test_filter]"
   ]
  },
  {
   "cell_type": "markdown",
   "id": "948f0b7e",
   "metadata": {
    "papermill": {
     "duration": 0.026307,
     "end_time": "2022-05-11T10:10:13.218463",
     "exception": false,
     "start_time": "2022-05-11T10:10:13.192156",
     "status": "completed"
    },
    "tags": []
   },
   "source": [
    "We normalize the pizel values in the 0 to 1 range"
   ]
  },
  {
   "cell_type": "code",
   "execution_count": 11,
   "id": "ee4c2166",
   "metadata": {
    "execution": {
     "iopub.execute_input": "2022-05-11T10:10:13.287260Z",
     "iopub.status.busy": "2022-05-11T10:10:13.286328Z",
     "iopub.status.idle": "2022-05-11T10:10:13.326486Z",
     "shell.execute_reply": "2022-05-11T10:10:13.325960Z"
    },
    "papermill": {
     "duration": 0.081953,
     "end_time": "2022-05-11T10:10:13.326636",
     "exception": false,
     "start_time": "2022-05-11T10:10:13.244683",
     "status": "completed"
    },
    "tags": []
   },
   "outputs": [],
   "source": [
    "X_train = X_train/255.\n",
    "X_test = X_test/255."
   ]
  },
  {
   "cell_type": "markdown",
   "id": "ddcf4fab",
   "metadata": {
    "papermill": {
     "duration": 0.026274,
     "end_time": "2022-05-11T10:10:13.379688",
     "exception": false,
     "start_time": "2022-05-11T10:10:13.353414",
     "status": "completed"
    },
    "tags": []
   },
   "source": [
    "And setup the labels as 1 (when the digit is 3) and 0 (when the digit is 8)"
   ]
  },
  {
   "cell_type": "code",
   "execution_count": 12,
   "id": "7dc908f2",
   "metadata": {
    "execution": {
     "iopub.execute_input": "2022-05-11T10:10:13.443135Z",
     "iopub.status.busy": "2022-05-11T10:10:13.442576Z",
     "iopub.status.idle": "2022-05-11T10:10:13.450811Z",
     "shell.execute_reply": "2022-05-11T10:10:13.450368Z"
    },
    "papermill": {
     "duration": 0.045009,
     "end_time": "2022-05-11T10:10:13.450941",
     "exception": false,
     "start_time": "2022-05-11T10:10:13.405932",
     "status": "completed"
    },
    "tags": []
   },
   "outputs": [],
   "source": [
    "y_train = 1*(y_train==3)\n",
    "y_test = 1*(y_test==3)"
   ]
  },
  {
   "cell_type": "code",
   "execution_count": 13,
   "id": "01e4e969",
   "metadata": {
    "execution": {
     "iopub.execute_input": "2022-05-11T10:10:13.513595Z",
     "iopub.status.busy": "2022-05-11T10:10:13.513082Z",
     "iopub.status.idle": "2022-05-11T10:10:13.525222Z",
     "shell.execute_reply": "2022-05-11T10:10:13.524823Z"
    },
    "papermill": {
     "duration": 0.047309,
     "end_time": "2022-05-11T10:10:13.525332",
     "exception": false,
     "start_time": "2022-05-11T10:10:13.478023",
     "status": "completed"
    },
    "tags": []
   },
   "outputs": [
    {
     "data": {
      "text/plain": [
       "((11982, 28, 28), (1984, 28, 28))"
      ]
     },
     "execution_count": 13,
     "metadata": {},
     "output_type": "execute_result"
    }
   ],
   "source": [
    "X_train.shape, X_test.shape"
   ]
  },
  {
   "cell_type": "markdown",
   "id": "5ccf3f85",
   "metadata": {
    "papermill": {
     "duration": 0.023681,
     "end_time": "2022-05-11T10:10:13.572627",
     "exception": false,
     "start_time": "2022-05-11T10:10:13.548946",
     "status": "completed"
    },
    "tags": []
   },
   "source": [
    "We reshape the data to flatten the image pixels into a set of features or co-variates:"
   ]
  },
  {
   "cell_type": "code",
   "execution_count": 14,
   "id": "5286a4a3",
   "metadata": {
    "execution": {
     "iopub.execute_input": "2022-05-11T10:10:13.639211Z",
     "iopub.status.busy": "2022-05-11T10:10:13.630056Z",
     "iopub.status.idle": "2022-05-11T10:10:13.643913Z",
     "shell.execute_reply": "2022-05-11T10:10:13.643539Z"
    },
    "papermill": {
     "duration": 0.047727,
     "end_time": "2022-05-11T10:10:13.644054",
     "exception": false,
     "start_time": "2022-05-11T10:10:13.596327",
     "status": "completed"
    },
    "tags": []
   },
   "outputs": [
    {
     "data": {
      "text/plain": [
       "((11982, 784), (1984, 784))"
      ]
     },
     "execution_count": 14,
     "metadata": {},
     "output_type": "execute_result"
    }
   ],
   "source": [
    "X_train = X_train.reshape(X_train.shape[0], -1)\n",
    "X_test = X_test.reshape(X_test.shape[0], -1)\n",
    "X_train.shape, X_test.shape"
   ]
  },
  {
   "cell_type": "code",
   "execution_count": 15,
   "id": "73c5f88a",
   "metadata": {
    "execution": {
     "iopub.execute_input": "2022-05-11T10:10:13.697362Z",
     "iopub.status.busy": "2022-05-11T10:10:13.696878Z",
     "iopub.status.idle": "2022-05-11T10:10:13.714834Z",
     "shell.execute_reply": "2022-05-11T10:10:13.715193Z"
    },
    "papermill": {
     "duration": 0.047439,
     "end_time": "2022-05-11T10:10:13.715337",
     "exception": false,
     "start_time": "2022-05-11T10:10:13.667898",
     "status": "completed"
    },
    "tags": []
   },
   "outputs": [],
   "source": [
    "#Impoting functions from 'Kudzu'\n",
    "from kudzu.model import Model\n",
    "from kudzu.train import Learner\n",
    "from kudzu.optim import GD\n",
    "from kudzu.data import Data, Sampler,Dataloader\n",
    "\n",
    "from kudzu.callbacks import AccCallback\n",
    "from kudzu.callbacks import ClfCallback\n",
    "\n",
    "from kudzu.loss import MSE\n",
    "\n",
    "from kudzu.layer import Sigmoid,Relu\n",
    "from kudzu.layer import Affine"
   ]
  },
  {
   "cell_type": "markdown",
   "id": "bc01172a",
   "metadata": {
    "papermill": {
     "duration": 0.023993,
     "end_time": "2022-05-11T10:10:13.763394",
     "exception": false,
     "start_time": "2022-05-11T10:10:13.739401",
     "status": "completed"
    },
    "tags": []
   },
   "source": [
    "### Let us create a `Config` class, to store important parameters. \n",
    "This class essentially plays the role of a dictionary."
   ]
  },
  {
   "cell_type": "code",
   "execution_count": 16,
   "id": "978281aa",
   "metadata": {
    "execution": {
     "iopub.execute_input": "2022-05-11T10:10:13.819784Z",
     "iopub.status.busy": "2022-05-11T10:10:13.819270Z",
     "iopub.status.idle": "2022-05-11T10:10:13.830296Z",
     "shell.execute_reply": "2022-05-11T10:10:13.830666Z"
    },
    "papermill": {
     "duration": 0.043686,
     "end_time": "2022-05-11T10:10:13.830809",
     "exception": false,
     "start_time": "2022-05-11T10:10:13.787123",
     "status": "completed"
    },
    "tags": []
   },
   "outputs": [],
   "source": [
    "class Config:\n",
    "    pass\n",
    "config = Config()\n",
    "config.lr = 0.001\n",
    "config.num_epochs = 250\n",
    "config.bs = 50"
   ]
  },
  {
   "cell_type": "markdown",
   "id": "1385fa59",
   "metadata": {
    "papermill": {
     "duration": 0.023815,
     "end_time": "2022-05-11T10:10:13.879008",
     "exception": false,
     "start_time": "2022-05-11T10:10:13.855193",
     "status": "completed"
    },
    "tags": []
   },
   "source": [
    "### Running Models with the Training data\n",
    "Details about the network layers:\n",
    "- A first affine layer has 784 inputs and does 100 affine transforms. These are followed by a Relu\n",
    "- A second affine layer has 100 inputs from the 100 activations of the past layer, and does 100 affine transforms. These are followed by a Relu\n",
    "- A third affine layer has 100 activations and does 2 affine transformations to create an embedding for visualization. There is no non-linearity here.\n",
    "- A final \"logistic regression\" which has an affine transform from 2 inputs to 1 output, which is squeezed through a sigmoid.\n"
   ]
  },
  {
   "cell_type": "code",
   "execution_count": 17,
   "id": "2b9c66db",
   "metadata": {
    "execution": {
     "iopub.execute_input": "2022-05-11T10:10:13.941520Z",
     "iopub.status.busy": "2022-05-11T10:10:13.938373Z",
     "iopub.status.idle": "2022-05-11T10:10:13.946999Z",
     "shell.execute_reply": "2022-05-11T10:10:13.946591Z"
    },
    "papermill": {
     "duration": 0.043654,
     "end_time": "2022-05-11T10:10:13.947110",
     "exception": false,
     "start_time": "2022-05-11T10:10:13.903456",
     "status": "completed"
    },
    "tags": []
   },
   "outputs": [],
   "source": [
    "data = Data(X_train, y_train.reshape(-1,1))\n",
    "sampler = Sampler(data, config.bs, shuffle=True)\n",
    "\n",
    "dl = Dataloader(data, sampler)\n",
    "\n",
    "opt = GD(config.lr)\n",
    "loss = MSE()"
   ]
  },
  {
   "cell_type": "code",
   "execution_count": 18,
   "id": "b275e4c2",
   "metadata": {
    "execution": {
     "iopub.execute_input": "2022-05-11T10:10:13.998942Z",
     "iopub.status.busy": "2022-05-11T10:10:13.998463Z",
     "iopub.status.idle": "2022-05-11T10:10:14.011542Z",
     "shell.execute_reply": "2022-05-11T10:10:14.011146Z"
    },
    "papermill": {
     "duration": 0.040553,
     "end_time": "2022-05-11T10:10:14.011658",
     "exception": false,
     "start_time": "2022-05-11T10:10:13.971105",
     "status": "completed"
    },
    "tags": []
   },
   "outputs": [],
   "source": [
    "training_data_x = X_train\n",
    "testing_data_x = X_test\n",
    "training_data_y = y_train.reshape(-1,1)\n",
    "testing_data_y = y_test.reshape(-1,1)"
   ]
  },
  {
   "cell_type": "code",
   "execution_count": 19,
   "id": "76951160",
   "metadata": {
    "execution": {
     "iopub.execute_input": "2022-05-11T10:10:14.065793Z",
     "iopub.status.busy": "2022-05-11T10:10:14.065297Z",
     "iopub.status.idle": "2022-05-11T10:10:14.080516Z",
     "shell.execute_reply": "2022-05-11T10:10:14.080012Z"
    },
    "papermill": {
     "duration": 0.045208,
     "end_time": "2022-05-11T10:10:14.080642",
     "exception": false,
     "start_time": "2022-05-11T10:10:14.035434",
     "status": "completed"
    },
    "tags": []
   },
   "outputs": [
    {
     "name": "stdout",
     "output_type": "stream",
     "text": [
      "xavier\n",
      "xavier\n",
      "xavier\n",
      "xavier\n",
      "xavier\n"
     ]
    }
   ],
   "source": [
    "layers = [Affine(\"first\", 784, 100), Relu(\"first\"), Affine(\"second\", 100, 100), Relu(\"second\"), Affine(\"third\", 100, 2), Affine(\"last\", 2, 1), Sigmoid(\"last\")]\n",
    "model_nn = Model(layers)\n",
    "model_lr = Model([Affine(\"logits\", 784, 1), Sigmoid(\"sigmoid\")])"
   ]
  },
  {
   "cell_type": "code",
   "execution_count": 20,
   "id": "6eede77a",
   "metadata": {
    "execution": {
     "iopub.execute_input": "2022-05-11T10:10:14.149006Z",
     "iopub.status.busy": "2022-05-11T10:10:14.144044Z",
     "iopub.status.idle": "2022-05-11T10:10:14.153491Z",
     "shell.execute_reply": "2022-05-11T10:10:14.153018Z"
    },
    "papermill": {
     "duration": 0.045631,
     "end_time": "2022-05-11T10:10:14.153603",
     "exception": false,
     "start_time": "2022-05-11T10:10:14.107972",
     "status": "completed"
    },
    "tags": []
   },
   "outputs": [],
   "source": [
    "nn_learner = Learner(loss, model_nn, opt, config.num_epochs)\n",
    "acc_nn = ClfCallback(nn_learner, config.bs, training_data_x , testing_data_x, training_data_y, testing_data_y)\n",
    "nn_learner.set_callbacks([acc_nn])"
   ]
  },
  {
   "cell_type": "code",
   "execution_count": 21,
   "id": "877b6cc7",
   "metadata": {
    "execution": {
     "iopub.execute_input": "2022-05-11T10:10:14.219740Z",
     "iopub.status.busy": "2022-05-11T10:10:14.216076Z",
     "iopub.status.idle": "2022-05-11T10:10:14.222068Z",
     "shell.execute_reply": "2022-05-11T10:10:14.221603Z"
    },
    "papermill": {
     "duration": 0.044471,
     "end_time": "2022-05-11T10:10:14.222184",
     "exception": false,
     "start_time": "2022-05-11T10:10:14.177713",
     "status": "completed"
    },
    "tags": []
   },
   "outputs": [],
   "source": [
    "lr_learner = Learner(loss, model_lr, opt, config.num_epochs)\n",
    "acc_lr = ClfCallback(lr_learner, config.bs, training_data_x , testing_data_x, training_data_y, testing_data_y)\n",
    "lr_learner.set_callbacks([acc_lr])"
   ]
  },
  {
   "cell_type": "code",
   "execution_count": 22,
   "id": "d9b133c3",
   "metadata": {
    "execution": {
     "iopub.execute_input": "2022-05-11T10:10:14.277197Z",
     "iopub.status.busy": "2022-05-11T10:10:14.276731Z",
     "iopub.status.idle": "2022-05-11T10:11:34.247972Z",
     "shell.execute_reply": "2022-05-11T10:11:34.248754Z"
    },
    "papermill": {
     "duration": 80.002627,
     "end_time": "2022-05-11T10:11:34.248913",
     "exception": false,
     "start_time": "2022-05-11T10:10:14.246286",
     "status": "completed"
    },
    "tags": []
   },
   "outputs": [
    {
     "name": "stdout",
     "output_type": "stream",
     "text": [
      "Epoch 0, Loss 0.2362\n",
      "Training Accuracy: 0.7420, Testing Accuracy: 0.7843\n",
      "\n"
     ]
    },
    {
     "name": "stdout",
     "output_type": "stream",
     "text": [
      "Epoch 10, Loss 0.0861\n",
      "Training Accuracy: 0.9245, Testing Accuracy: 0.9385\n",
      "\n"
     ]
    },
    {
     "name": "stdout",
     "output_type": "stream",
     "text": [
      "Epoch 20, Loss 0.0549\n",
      "Training Accuracy: 0.9434, Testing Accuracy: 0.9551\n",
      "\n"
     ]
    },
    {
     "name": "stdout",
     "output_type": "stream",
     "text": [
      "Epoch 30, Loss 0.044\n",
      "Training Accuracy: 0.9518, Testing Accuracy: 0.9612\n",
      "\n"
     ]
    },
    {
     "name": "stdout",
     "output_type": "stream",
     "text": [
      "Epoch 40, Loss 0.0384\n",
      "Training Accuracy: 0.9561, Testing Accuracy: 0.9657\n",
      "\n"
     ]
    },
    {
     "name": "stdout",
     "output_type": "stream",
     "text": [
      "Epoch 50, Loss 0.0348\n",
      "Training Accuracy: 0.9594, Testing Accuracy: 0.9672\n",
      "\n"
     ]
    },
    {
     "name": "stdout",
     "output_type": "stream",
     "text": [
      "Epoch 60, Loss 0.0323\n",
      "Training Accuracy: 0.9632, Testing Accuracy: 0.9672\n",
      "\n"
     ]
    },
    {
     "name": "stdout",
     "output_type": "stream",
     "text": [
      "Epoch 70, Loss 0.0303\n",
      "Training Accuracy: 0.9652, Testing Accuracy: 0.9682\n",
      "\n"
     ]
    },
    {
     "name": "stdout",
     "output_type": "stream",
     "text": [
      "Epoch 80, Loss 0.0288\n",
      "Training Accuracy: 0.9675, Testing Accuracy: 0.9698\n",
      "\n"
     ]
    },
    {
     "name": "stdout",
     "output_type": "stream",
     "text": [
      "Epoch 90, Loss 0.0276\n",
      "Training Accuracy: 0.9685, Testing Accuracy: 0.9708\n",
      "\n"
     ]
    },
    {
     "name": "stdout",
     "output_type": "stream",
     "text": [
      "Epoch 100, Loss 0.0266\n",
      "Training Accuracy: 0.9695, Testing Accuracy: 0.9728\n",
      "\n"
     ]
    },
    {
     "name": "stdout",
     "output_type": "stream",
     "text": [
      "Epoch 110, Loss 0.0257\n",
      "Training Accuracy: 0.9706, Testing Accuracy: 0.9733\n",
      "\n"
     ]
    },
    {
     "name": "stdout",
     "output_type": "stream",
     "text": [
      "Epoch 120, Loss 0.025\n",
      "Training Accuracy: 0.9713, Testing Accuracy: 0.9728\n",
      "\n"
     ]
    },
    {
     "name": "stdout",
     "output_type": "stream",
     "text": [
      "Epoch 130, Loss 0.0243\n",
      "Training Accuracy: 0.9720, Testing Accuracy: 0.9733\n",
      "\n"
     ]
    },
    {
     "name": "stdout",
     "output_type": "stream",
     "text": [
      "Epoch 140, Loss 0.0236\n",
      "Training Accuracy: 0.9725, Testing Accuracy: 0.9728\n",
      "\n"
     ]
    },
    {
     "name": "stdout",
     "output_type": "stream",
     "text": [
      "Epoch 150, Loss 0.0231\n",
      "Training Accuracy: 0.9731, Testing Accuracy: 0.9733\n",
      "\n"
     ]
    },
    {
     "name": "stdout",
     "output_type": "stream",
     "text": [
      "Epoch 160, Loss 0.0226\n",
      "Training Accuracy: 0.9736, Testing Accuracy: 0.9728\n",
      "\n"
     ]
    },
    {
     "name": "stdout",
     "output_type": "stream",
     "text": [
      "Epoch 170, Loss 0.0221\n",
      "Training Accuracy: 0.9744, Testing Accuracy: 0.9733\n",
      "\n"
     ]
    },
    {
     "name": "stdout",
     "output_type": "stream",
     "text": [
      "Epoch 180, Loss 0.0217\n",
      "Training Accuracy: 0.9748, Testing Accuracy: 0.9728\n",
      "\n"
     ]
    },
    {
     "name": "stdout",
     "output_type": "stream",
     "text": [
      "Epoch 190, Loss 0.0212\n",
      "Training Accuracy: 0.9753, Testing Accuracy: 0.9733\n",
      "\n"
     ]
    },
    {
     "name": "stdout",
     "output_type": "stream",
     "text": [
      "Epoch 200, Loss 0.0208\n",
      "Training Accuracy: 0.9760, Testing Accuracy: 0.9733\n",
      "\n"
     ]
    },
    {
     "name": "stdout",
     "output_type": "stream",
     "text": [
      "Epoch 210, Loss 0.0205\n",
      "Training Accuracy: 0.9765, Testing Accuracy: 0.9733\n",
      "\n"
     ]
    },
    {
     "name": "stdout",
     "output_type": "stream",
     "text": [
      "Epoch 220, Loss 0.0201\n",
      "Training Accuracy: 0.9769, Testing Accuracy: 0.9733\n",
      "\n"
     ]
    },
    {
     "name": "stdout",
     "output_type": "stream",
     "text": [
      "Epoch 230, Loss 0.0198\n",
      "Training Accuracy: 0.9771, Testing Accuracy: 0.9728\n",
      "\n"
     ]
    },
    {
     "name": "stdout",
     "output_type": "stream",
     "text": [
      "Epoch 240, Loss 0.0194\n",
      "Training Accuracy: 0.9775, Testing Accuracy: 0.9728\n",
      "\n"
     ]
    },
    {
     "data": {
      "text/plain": [
       "0.010440652741319046"
      ]
     },
     "execution_count": 22,
     "metadata": {},
     "output_type": "execute_result"
    }
   ],
   "source": [
    "nn_learner.train_loop(dl)"
   ]
  },
  {
   "cell_type": "code",
   "execution_count": 23,
   "id": "e0163366",
   "metadata": {
    "execution": {
     "iopub.execute_input": "2022-05-11T10:11:34.329421Z",
     "iopub.status.busy": "2022-05-11T10:11:34.328883Z",
     "iopub.status.idle": "2022-05-11T10:11:48.944743Z",
     "shell.execute_reply": "2022-05-11T10:11:48.945462Z"
    },
    "papermill": {
     "duration": 14.66218,
     "end_time": "2022-05-11T10:11:48.945612",
     "exception": false,
     "start_time": "2022-05-11T10:11:34.283432",
     "status": "completed"
    },
    "tags": []
   },
   "outputs": [
    {
     "name": "stdout",
     "output_type": "stream",
     "text": [
      "Epoch 0, Loss 0.2423\n",
      "Training Accuracy: 0.7068, Testing Accuracy: 0.7203\n",
      "\n"
     ]
    },
    {
     "name": "stdout",
     "output_type": "stream",
     "text": [
      "Epoch 10, Loss 0.1041\n",
      "Training Accuracy: 0.9033, Testing Accuracy: 0.9163\n",
      "\n"
     ]
    },
    {
     "name": "stdout",
     "output_type": "stream",
     "text": [
      "Epoch 20, Loss 0.0802\n",
      "Training Accuracy: 0.9240, Testing Accuracy: 0.9415\n",
      "\n"
     ]
    },
    {
     "name": "stdout",
     "output_type": "stream",
     "text": [
      "Epoch 30, Loss 0.069\n",
      "Training Accuracy: 0.9342, Testing Accuracy: 0.9471\n",
      "\n"
     ]
    },
    {
     "name": "stdout",
     "output_type": "stream",
     "text": [
      "Epoch 40, Loss 0.0622\n",
      "Training Accuracy: 0.9392, Testing Accuracy: 0.9536\n",
      "\n"
     ]
    },
    {
     "name": "stdout",
     "output_type": "stream",
     "text": [
      "Epoch 50, Loss 0.0576\n",
      "Training Accuracy: 0.9440, Testing Accuracy: 0.9551\n",
      "\n"
     ]
    },
    {
     "name": "stdout",
     "output_type": "stream",
     "text": [
      "Epoch 60, Loss 0.0541\n",
      "Training Accuracy: 0.9463, Testing Accuracy: 0.9561\n",
      "\n"
     ]
    },
    {
     "name": "stdout",
     "output_type": "stream",
     "text": [
      "Epoch 70, Loss 0.0515\n",
      "Training Accuracy: 0.9484, Testing Accuracy: 0.9587\n",
      "\n"
     ]
    },
    {
     "name": "stdout",
     "output_type": "stream",
     "text": [
      "Epoch 80, Loss 0.0494\n",
      "Training Accuracy: 0.9501, Testing Accuracy: 0.9602\n",
      "\n"
     ]
    },
    {
     "name": "stdout",
     "output_type": "stream",
     "text": [
      "Epoch 90, Loss 0.0477\n",
      "Training Accuracy: 0.9519, Testing Accuracy: 0.9617\n",
      "\n"
     ]
    },
    {
     "name": "stdout",
     "output_type": "stream",
     "text": [
      "Epoch 100, Loss 0.0462\n",
      "Training Accuracy: 0.9533, Testing Accuracy: 0.9627\n",
      "\n"
     ]
    },
    {
     "name": "stdout",
     "output_type": "stream",
     "text": [
      "Epoch 110, Loss 0.0449\n",
      "Training Accuracy: 0.9543, Testing Accuracy: 0.9637\n",
      "\n"
     ]
    },
    {
     "name": "stdout",
     "output_type": "stream",
     "text": [
      "Epoch 120, Loss 0.0439\n",
      "Training Accuracy: 0.9550, Testing Accuracy: 0.9652\n",
      "\n"
     ]
    },
    {
     "name": "stdout",
     "output_type": "stream",
     "text": [
      "Epoch 130, Loss 0.0429\n",
      "Training Accuracy: 0.9563, Testing Accuracy: 0.9652\n",
      "\n"
     ]
    },
    {
     "name": "stdout",
     "output_type": "stream",
     "text": [
      "Epoch 140, Loss 0.0421\n",
      "Training Accuracy: 0.9569, Testing Accuracy: 0.9662\n",
      "\n"
     ]
    },
    {
     "name": "stdout",
     "output_type": "stream",
     "text": [
      "Epoch 150, Loss 0.0413\n",
      "Training Accuracy: 0.9573, Testing Accuracy: 0.9667\n",
      "\n"
     ]
    },
    {
     "name": "stdout",
     "output_type": "stream",
     "text": [
      "Epoch 160, Loss 0.0406\n",
      "Training Accuracy: 0.9579, Testing Accuracy: 0.9667\n",
      "\n"
     ]
    },
    {
     "name": "stdout",
     "output_type": "stream",
     "text": [
      "Epoch 170, Loss 0.04\n",
      "Training Accuracy: 0.9580, Testing Accuracy: 0.9672\n",
      "\n"
     ]
    },
    {
     "name": "stdout",
     "output_type": "stream",
     "text": [
      "Epoch 180, Loss 0.0394\n",
      "Training Accuracy: 0.9583, Testing Accuracy: 0.9672\n",
      "\n"
     ]
    },
    {
     "name": "stdout",
     "output_type": "stream",
     "text": [
      "Epoch 190, Loss 0.0389\n",
      "Training Accuracy: 0.9588, Testing Accuracy: 0.9677\n",
      "\n"
     ]
    },
    {
     "name": "stdout",
     "output_type": "stream",
     "text": [
      "Epoch 200, Loss 0.0384\n",
      "Training Accuracy: 0.9594, Testing Accuracy: 0.9677\n",
      "\n"
     ]
    },
    {
     "name": "stdout",
     "output_type": "stream",
     "text": [
      "Epoch 210, Loss 0.038\n",
      "Training Accuracy: 0.9598, Testing Accuracy: 0.9682\n",
      "\n"
     ]
    },
    {
     "name": "stdout",
     "output_type": "stream",
     "text": [
      "Epoch 220, Loss 0.0376\n",
      "Training Accuracy: 0.9599, Testing Accuracy: 0.9682\n",
      "\n"
     ]
    },
    {
     "name": "stdout",
     "output_type": "stream",
     "text": [
      "Epoch 230, Loss 0.0372\n",
      "Training Accuracy: 0.9602, Testing Accuracy: 0.9682\n",
      "\n"
     ]
    },
    {
     "name": "stdout",
     "output_type": "stream",
     "text": [
      "Epoch 240, Loss 0.0368\n",
      "Training Accuracy: 0.9603, Testing Accuracy: 0.9682\n",
      "\n"
     ]
    },
    {
     "data": {
      "text/plain": [
       "0.013680394681346034"
      ]
     },
     "execution_count": 23,
     "metadata": {},
     "output_type": "execute_result"
    }
   ],
   "source": [
    "lr_learner.train_loop(dl)"
   ]
  },
  {
   "cell_type": "code",
   "execution_count": 24,
   "id": "ca410940",
   "metadata": {
    "execution": {
     "iopub.execute_input": "2022-05-11T10:11:49.033357Z",
     "iopub.status.busy": "2022-05-11T10:11:49.032851Z",
     "iopub.status.idle": "2022-05-11T10:11:49.234122Z",
     "shell.execute_reply": "2022-05-11T10:11:49.233621Z"
    },
    "papermill": {
     "duration": 0.252221,
     "end_time": "2022-05-11T10:11:49.234266",
     "exception": false,
     "start_time": "2022-05-11T10:11:48.982045",
     "status": "completed"
    },
    "tags": []
   },
   "outputs": [
    {
     "data": {
      "text/plain": [
       "<matplotlib.legend.Legend at 0x7fb9a50ecc88>"
      ]
     },
     "execution_count": 24,
     "metadata": {},
     "output_type": "execute_result"
    },
    {
     "data": {
      "image/png": "[encoded data removed]",
      "text/plain": [
       "<Figure size 1080x720 with 1 Axes>"
      ]
     },
     "metadata": {
      "needs_background": "light"
     },
     "output_type": "display_data"
    }
   ],
   "source": [
    "#comparing the results of NN and LR\n",
    "plt.figure(figsize=(15,10))\n",
    "\n",
    "# Neural Network plots\n",
    "plt.plot(acc_nn.accuracies, 'r-', label = \"Training Accuracies - NN\")\n",
    "plt.plot(acc_nn.test_accuracies, 'g-', label = \"Testing Accuracies - NN\")\n",
    "\n",
    "# Logistic Regression plots\n",
    "plt.plot(acc_lr.accuracies, 'k-', label = \"Training Accuracies - LR\")\n",
    "plt.plot(acc_lr.test_accuracies, 'b-', label = \"Testing Accuracies - LR\")\n",
    "plt.legend()"
   ]
  },
  {
   "cell_type": "markdown",
   "id": "80dfb35c",
   "metadata": {
    "papermill": {
     "duration": 0.042179,
     "end_time": "2022-05-11T10:11:49.319174",
     "exception": false,
     "start_time": "2022-05-11T10:11:49.276995",
     "status": "completed"
    },
    "tags": []
   },
   "source": [
    "#### Plotting the outputs of this layer of the NN.\n"
   ]
  },
  {
   "cell_type": "code",
   "execution_count": 25,
   "id": "45eb2ff5",
   "metadata": {
    "execution": {
     "iopub.execute_input": "2022-05-11T10:11:49.407381Z",
     "iopub.status.busy": "2022-05-11T10:11:49.406848Z",
     "iopub.status.idle": "2022-05-11T10:11:49.429853Z",
     "shell.execute_reply": "2022-05-11T10:11:49.429382Z"
    },
    "papermill": {
     "duration": 0.068815,
     "end_time": "2022-05-11T10:11:49.429983",
     "exception": false,
     "start_time": "2022-05-11T10:11:49.361168",
     "status": "completed"
    },
    "tags": []
   },
   "outputs": [],
   "source": [
    "new_model = Model(layers[:-2])\n",
    "testing_plot = new_model(testing_data_x)"
   ]
  },
  {
   "cell_type": "code",
   "execution_count": 26,
   "id": "4c0a5485",
   "metadata": {
    "execution": {
     "iopub.execute_input": "2022-05-11T10:11:49.519415Z",
     "iopub.status.busy": "2022-05-11T10:11:49.518898Z",
     "iopub.status.idle": "2022-05-11T10:11:49.708799Z",
     "shell.execute_reply": "2022-05-11T10:11:49.708386Z"
    },
    "papermill": {
     "duration": 0.236533,
     "end_time": "2022-05-11T10:11:49.708910",
     "exception": false,
     "start_time": "2022-05-11T10:11:49.472377",
     "status": "completed"
    },
    "tags": []
   },
   "outputs": [
    {
     "data": {
      "text/plain": [
       "Text(0.5, 1.0, 'Outputs')"
      ]
     },
     "execution_count": 26,
     "metadata": {},
     "output_type": "execute_result"
    },
    {
     "data": {
      "image/png": "[encoded data removed]",
      "text/plain": [
       "<Figure size 576x504 with 1 Axes>"
      ]
     },
     "metadata": {
      "needs_background": "light"
     },
     "output_type": "display_data"
    }
   ],
   "source": [
    "# Plotting the scatter plot of points and color coding by class\n",
    "plt.figure(figsize=(8,7))\n",
    "plt.scatter(testing_plot[:,0], testing_plot[:,1], alpha = 0.1, c = y_test.ravel());\n",
    "plt.title('Outputs')"
   ]
  },
  {
   "cell_type": "markdown",
   "id": "a74fcf8f",
   "metadata": {
    "papermill": {
     "duration": 0.039035,
     "end_time": "2022-05-11T10:11:49.787188",
     "exception": false,
     "start_time": "2022-05-11T10:11:49.748153",
     "status": "completed"
    },
    "tags": []
   },
   "source": [
    "Probability contours"
   ]
  },
  {
   "cell_type": "code",
   "execution_count": 27,
   "id": "d0afc8e3",
   "metadata": {
    "execution": {
     "iopub.execute_input": "2022-05-11T10:11:49.872024Z",
     "iopub.status.busy": "2022-05-11T10:11:49.871406Z",
     "iopub.status.idle": "2022-05-11T10:11:49.881106Z",
     "shell.execute_reply": "2022-05-11T10:11:49.880637Z"
    },
    "papermill": {
     "duration": 0.054886,
     "end_time": "2022-05-11T10:11:49.881227",
     "exception": false,
     "start_time": "2022-05-11T10:11:49.826341",
     "status": "completed"
    },
    "tags": []
   },
   "outputs": [],
   "source": [
    "model_prob = Model(layers[-2:]) "
   ]
  },
  {
   "cell_type": "code",
   "execution_count": 28,
   "id": "9b96e238",
   "metadata": {
    "execution": {
     "iopub.execute_input": "2022-05-11T10:11:49.974793Z",
     "iopub.status.busy": "2022-05-11T10:11:49.973982Z",
     "iopub.status.idle": "2022-05-11T10:11:49.988459Z",
     "shell.execute_reply": "2022-05-11T10:11:49.988870Z"
    },
    "papermill": {
     "duration": 0.063481,
     "end_time": "2022-05-11T10:11:49.989011",
     "exception": false,
     "start_time": "2022-05-11T10:11:49.925530",
     "status": "completed"
    },
    "tags": []
   },
   "outputs": [],
   "source": [
    "#creating the x and y ranges according to the above generated plot.\n",
    "x_range = np.linspace(-4, 1, 100) \n",
    "y_range = np.linspace(-6, 6, 100) \n",
    "x_grid, y_grid = np.meshgrid(x_range, y_range) # x_grid and y_grig are of size 100 X 100\n",
    "\n",
    "# converting x_grid and y_grid to continuous arrays\n",
    "x_gridflat = np.ravel(x_grid)\n",
    "y_gridflat = np.ravel(y_grid)\n",
    "\n",
    "# The last layer of the current model takes two columns as input. Hence transpose of np.vstack() is required.\n",
    "X = np.vstack((x_gridflat, y_gridflat)).T\n",
    "\n",
    "prob_contour = model_prob(X).reshape(100,100) "
   ]
  },
  {
   "cell_type": "code",
   "execution_count": 29,
   "id": "da72499a",
   "metadata": {
    "execution": {
     "iopub.execute_input": "2022-05-11T10:11:50.116797Z",
     "iopub.status.busy": "2022-05-11T10:11:50.116186Z",
     "iopub.status.idle": "2022-05-11T10:11:50.371549Z",
     "shell.execute_reply": "2022-05-11T10:11:50.371069Z"
    },
    "papermill": {
     "duration": 0.337146,
     "end_time": "2022-05-11T10:11:50.371682",
     "exception": false,
     "start_time": "2022-05-11T10:11:50.034536",
     "status": "completed"
    },
    "tags": []
   },
   "outputs": [
    {
     "data": {
      "image/png": "[encoded data removed]",
      "text/plain": [
       "<Figure size 720x648 with 1 Axes>"
      ]
     },
     "metadata": {
      "needs_background": "light"
     },
     "output_type": "display_data"
    }
   ],
   "source": [
    "plt.figure(figsize=(10,9))\n",
    "plt.scatter(testing_plot[:,0], testing_plot[:,1], alpha = 0.1, c = y_test.ravel())\n",
    "contours = plt.contour(x_grid,y_grid,prob_contour)\n",
    "plt.title('Probability Contours')\n",
    "plt.clabel(contours, inline = True );"
   ]
  },
  {
   "cell_type": "code",
   "execution_count": null,
   "id": "e81b4ac7",
   "metadata": {
    "papermill": {
     "duration": 0.046772,
     "end_time": "2022-05-11T10:11:50.466016",
     "exception": false,
     "start_time": "2022-05-11T10:11:50.419244",
     "status": "completed"
    },
    "tags": []
   },
   "outputs": [],
   "source": []
  }
 ],
 "metadata": {
  "kernelspec": {
   "display_name": "Python 3",
   "language": "python",
   "name": "python3"
  },
  "language_info": {
   "codemirror_mode": {
    "name": "ipython",
    "version": 3
   },
   "file_extension": ".py",
   "mimetype": "text/x-python",
   "name": "python",
   "nbconvert_exporter": "python",
   "pygments_lexer": "ipython3",
   "version": "3.6.15"
  },
  "papermill": {
   "default_parameters": {},
   "duration": 102.718737,
   "end_time": "2022-05-11T10:11:50.931655",
   "environment_variables": {},
   "exception": null,
   "input_path": "2020-08-11-part2.ipynb",
   "output_path": "2020-08-11-part2.ipynb",
   "parameters": {},
   "start_time": "2022-05-11T10:10:08.212918",
   "version": "2.3.3"
  }
 },
 "nbformat": 4,
 "nbformat_minor": 5
}