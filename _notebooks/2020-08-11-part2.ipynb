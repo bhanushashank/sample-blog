{
 "cells": [
  {
   "cell_type": "markdown",
   "id": "98380cd3",
   "metadata": {
    "papermill": {
     "duration": 0.03807,
     "end_time": "2022-11-04T10:13:05.156128",
     "exception": false,
     "start_time": "2022-11-04T10:13:05.118058",
     "status": "completed"
    },
    "tags": []
   },
   "source": [
    "# Distinguish Your Own Digits (DYOD)"
   ]
  },
  {
   "cell_type": "markdown",
   "id": "ef31240d",
   "metadata": {
    "papermill": {
     "duration": 0.031473,
     "end_time": "2022-11-04T10:13:05.219411",
     "exception": false,
     "start_time": "2022-11-04T10:13:05.187938",
     "status": "completed"
    },
    "tags": []
   },
   "source": [
    "You are going to write a classifier that distinguishes between the number 3 and number 8."
   ]
  },
  {
   "cell_type": "code",
   "execution_count": 1,
   "id": "b15c8646",
   "metadata": {
    "execution": {
     "iopub.execute_input": "2022-11-04T10:13:05.296509Z",
     "iopub.status.busy": "2022-11-04T10:13:05.295734Z",
     "iopub.status.idle": "2022-11-04T10:13:05.308824Z",
     "shell.execute_reply": "2022-11-04T10:13:05.308098Z"
    },
    "papermill": {
     "duration": 0.05745,
     "end_time": "2022-11-04T10:13:05.309016",
     "exception": false,
     "start_time": "2022-11-04T10:13:05.251566",
     "status": "completed"
    },
    "tags": []
   },
   "outputs": [],
   "source": [
    "%load_ext autoreload\n",
    "%autoreload 2"
   ]
  },
  {
   "cell_type": "code",
   "execution_count": 2,
   "id": "22ef38dc",
   "metadata": {
    "execution": {
     "iopub.execute_input": "2022-11-04T10:13:05.379066Z",
     "iopub.status.busy": "2022-11-04T10:13:05.378293Z",
     "iopub.status.idle": "2022-11-04T10:13:06.051994Z",
     "shell.execute_reply": "2022-11-04T10:13:06.052587Z"
    },
    "papermill": {
     "duration": 0.710331,
     "end_time": "2022-11-04T10:13:06.052767",
     "exception": false,
     "start_time": "2022-11-04T10:13:05.342436",
     "status": "completed"
    },
    "tags": []
   },
   "outputs": [],
   "source": [
    "%matplotlib inline\n",
    "import numpy as np\n",
    "import matplotlib.pyplot as plt\n",
    "import pandas as pd"
   ]
  },
  {
   "cell_type": "markdown",
   "id": "ba036198",
   "metadata": {
    "papermill": {
     "duration": 0.035029,
     "end_time": "2022-11-04T10:13:06.119344",
     "exception": false,
     "start_time": "2022-11-04T10:13:06.084315",
     "status": "completed"
    },
    "tags": []
   },
   "source": [
    "From the command line run `pip install mnist`. This is a library that will help you bring down the mnist dataset. If you run this from a notebook, you need to put  `!pip install mnist` in a cell by itself."
   ]
  },
  {
   "cell_type": "code",
   "execution_count": 3,
   "id": "bb6ad8a1",
   "metadata": {
    "execution": {
     "iopub.execute_input": "2022-11-04T10:13:06.187972Z",
     "iopub.status.busy": "2022-11-04T10:13:06.187214Z",
     "iopub.status.idle": "2022-11-04T10:13:08.247173Z",
     "shell.execute_reply": "2022-11-04T10:13:08.246506Z"
    },
    "papermill": {
     "duration": 2.097358,
     "end_time": "2022-11-04T10:13:08.247318",
     "exception": false,
     "start_time": "2022-11-04T10:13:06.149960",
     "status": "completed"
    },
    "tags": []
   },
   "outputs": [
    {
     "name": "stdout",
     "output_type": "stream",
     "text": [
      "Collecting mnist\r\n"
     ]
    },
    {
     "name": "stdout",
     "output_type": "stream",
     "text": [
      "  Downloading mnist-0.2.2-py2.py3-none-any.whl (3.5 kB)\r\n",
      "Requirement already satisfied: numpy in /opt/hostedtoolcache/Python/3.6.15/x64/lib/python3.6/site-packages (from mnist) (1.19.5)\r\n"
     ]
    },
    {
     "name": "stdout",
     "output_type": "stream",
     "text": [
      "Installing collected packages: mnist\r\n"
     ]
    },
    {
     "name": "stdout",
     "output_type": "stream",
     "text": [
      "Successfully installed mnist-0.2.2\r\n"
     ]
    }
   ],
   "source": [
    "!pip install mnist"
   ]
  },
  {
   "cell_type": "markdown",
   "id": "69df9c9a",
   "metadata": {
    "papermill": {
     "duration": 0.03359,
     "end_time": "2022-11-04T10:13:08.314519",
     "exception": false,
     "start_time": "2022-11-04T10:13:08.280929",
     "status": "completed"
    },
    "tags": []
   },
   "source": [
    "## Preparing the Data"
   ]
  },
  {
   "cell_type": "code",
   "execution_count": 4,
   "id": "7f69d806",
   "metadata": {
    "execution": {
     "iopub.execute_input": "2022-11-04T10:13:08.384502Z",
     "iopub.status.busy": "2022-11-04T10:13:08.383766Z",
     "iopub.status.idle": "2022-11-04T10:13:08.401943Z",
     "shell.execute_reply": "2022-11-04T10:13:08.401287Z"
    },
    "papermill": {
     "duration": 0.055248,
     "end_time": "2022-11-04T10:13:08.402082",
     "exception": false,
     "start_time": "2022-11-04T10:13:08.346834",
     "status": "completed"
    },
    "tags": []
   },
   "outputs": [],
   "source": [
    "import mnist"
   ]
  },
  {
   "cell_type": "code",
   "execution_count": 5,
   "id": "a411e44f",
   "metadata": {
    "execution": {
     "iopub.execute_input": "2022-11-04T10:13:08.477462Z",
     "iopub.status.busy": "2022-11-04T10:13:08.476727Z",
     "iopub.status.idle": "2022-11-04T10:13:09.315718Z",
     "shell.execute_reply": "2022-11-04T10:13:09.316376Z"
    },
    "papermill": {
     "duration": 0.880602,
     "end_time": "2022-11-04T10:13:09.316569",
     "exception": false,
     "start_time": "2022-11-04T10:13:08.435967",
     "status": "completed"
    },
    "tags": []
   },
   "outputs": [],
   "source": [
    "train_images = mnist.train_images()\n",
    "train_labels = mnist.train_labels()"
   ]
  },
  {
   "cell_type": "code",
   "execution_count": 6,
   "id": "dceab3a5",
   "metadata": {
    "execution": {
     "iopub.execute_input": "2022-11-04T10:13:09.389359Z",
     "iopub.status.busy": "2022-11-04T10:13:09.388586Z",
     "iopub.status.idle": "2022-11-04T10:13:09.410628Z",
     "shell.execute_reply": "2022-11-04T10:13:09.411393Z"
    },
    "papermill": {
     "duration": 0.06214,
     "end_time": "2022-11-04T10:13:09.412707",
     "exception": false,
     "start_time": "2022-11-04T10:13:09.350567",
     "status": "completed"
    },
    "tags": []
   },
   "outputs": [
    {
     "data": {
      "text/plain": [
       "((60000, 28, 28), (60000,))"
      ]
     },
     "execution_count": 6,
     "metadata": {},
     "output_type": "execute_result"
    }
   ],
   "source": [
    "train_images.shape, train_labels.shape"
   ]
  },
  {
   "cell_type": "code",
   "execution_count": 7,
   "id": "f50dc2bb",
   "metadata": {
    "execution": {
     "iopub.execute_input": "2022-11-04T10:13:09.486324Z",
     "iopub.status.busy": "2022-11-04T10:13:09.485517Z",
     "iopub.status.idle": "2022-11-04T10:13:09.754835Z",
     "shell.execute_reply": "2022-11-04T10:13:09.754023Z"
    },
    "papermill": {
     "duration": 0.309693,
     "end_time": "2022-11-04T10:13:09.755231",
     "exception": false,
     "start_time": "2022-11-04T10:13:09.445538",
     "status": "completed"
    },
    "tags": []
   },
   "outputs": [],
   "source": [
    "test_images = mnist.test_images()\n",
    "test_labels = mnist.test_labels()"
   ]
  },
  {
   "cell_type": "code",
   "execution_count": 8,
   "id": "fc38cf1b",
   "metadata": {
    "execution": {
     "iopub.execute_input": "2022-11-04T10:13:09.828021Z",
     "iopub.status.busy": "2022-11-04T10:13:09.827265Z",
     "iopub.status.idle": "2022-11-04T10:13:09.845132Z",
     "shell.execute_reply": "2022-11-04T10:13:09.844382Z"
    },
    "papermill": {
     "duration": 0.056949,
     "end_time": "2022-11-04T10:13:09.845284",
     "exception": false,
     "start_time": "2022-11-04T10:13:09.788335",
     "status": "completed"
    },
    "tags": []
   },
   "outputs": [
    {
     "data": {
      "text/plain": [
       "((10000, 28, 28), (10000,))"
      ]
     },
     "execution_count": 8,
     "metadata": {},
     "output_type": "execute_result"
    }
   ],
   "source": [
    "test_images.shape, test_labels.shape"
   ]
  },
  {
   "cell_type": "code",
   "execution_count": 9,
   "id": "f9ed8fe0",
   "metadata": {
    "execution": {
     "iopub.execute_input": "2022-11-04T10:13:09.919622Z",
     "iopub.status.busy": "2022-11-04T10:13:09.918845Z",
     "iopub.status.idle": "2022-11-04T10:13:10.135807Z",
     "shell.execute_reply": "2022-11-04T10:13:10.136537Z"
    },
    "papermill": {
     "duration": 0.257252,
     "end_time": "2022-11-04T10:13:10.136697",
     "exception": false,
     "start_time": "2022-11-04T10:13:09.879445",
     "status": "completed"
    },
    "tags": []
   },
   "outputs": [
    {
     "name": "stdout",
     "output_type": "stream",
     "text": [
      "2\n"
     ]
    },
    {
     "data": {
      "text/plain": [
       "<matplotlib.image.AxesImage at 0x7f9897027e48>"
      ]
     },
     "execution_count": 9,
     "metadata": {},
     "output_type": "execute_result"
    },
    {
     "data": {
      "image/png": "[encoded data removed]",
      "text/plain": [
       "<Figure size 432x288 with 1 Axes>"
      ]
     },
     "metadata": {
      "needs_background": "light"
     },
     "output_type": "display_data"
    }
   ],
   "source": [
    "image_index = 7776 # You may select anything up to 60,000\n",
    "print(train_labels[image_index]) \n",
    "plt.imshow(train_images[image_index], cmap='Greys')"
   ]
  },
  {
   "cell_type": "markdown",
   "id": "a8d2388d",
   "metadata": {
    "papermill": {
     "duration": 0.034351,
     "end_time": "2022-11-04T10:13:10.206748",
     "exception": false,
     "start_time": "2022-11-04T10:13:10.172397",
     "status": "completed"
    },
    "tags": []
   },
   "source": [
    "## Filter data to get 3 and 8 out"
   ]
  },
  {
   "cell_type": "code",
   "execution_count": 10,
   "id": "776f7fc7",
   "metadata": {
    "execution": {
     "iopub.execute_input": "2022-11-04T10:13:10.286021Z",
     "iopub.status.busy": "2022-11-04T10:13:10.285233Z",
     "iopub.status.idle": "2022-11-04T10:13:10.312102Z",
     "shell.execute_reply": "2022-11-04T10:13:10.311423Z"
    },
    "papermill": {
     "duration": 0.069094,
     "end_time": "2022-11-04T10:13:10.312263",
     "exception": false,
     "start_time": "2022-11-04T10:13:10.243169",
     "status": "completed"
    },
    "tags": []
   },
   "outputs": [],
   "source": [
    "train_filter = np.where((train_labels == 3 ) | (train_labels == 8))\n",
    "test_filter = np.where((test_labels == 3) | (test_labels == 8))\n",
    "X_train, y_train = train_images[train_filter], train_labels[train_filter]\n",
    "X_test, y_test = test_images[test_filter], test_labels[test_filter]"
   ]
  },
  {
   "cell_type": "markdown",
   "id": "948f0b7e",
   "metadata": {
    "papermill": {
     "duration": 0.043428,
     "end_time": "2022-11-04T10:13:10.390827",
     "exception": false,
     "start_time": "2022-11-04T10:13:10.347399",
     "status": "completed"
    },
    "tags": []
   },
   "source": [
    "We normalize the pizel values in the 0 to 1 range"
   ]
  },
  {
   "cell_type": "code",
   "execution_count": 11,
   "id": "ee4c2166",
   "metadata": {
    "execution": {
     "iopub.execute_input": "2022-11-04T10:13:10.470107Z",
     "iopub.status.busy": "2022-11-04T10:13:10.469249Z",
     "iopub.status.idle": "2022-11-04T10:13:10.537862Z",
     "shell.execute_reply": "2022-11-04T10:13:10.537187Z"
    },
    "papermill": {
     "duration": 0.10825,
     "end_time": "2022-11-04T10:13:10.538021",
     "exception": false,
     "start_time": "2022-11-04T10:13:10.429771",
     "status": "completed"
    },
    "tags": []
   },
   "outputs": [],
   "source": [
    "X_train = X_train/255.\n",
    "X_test = X_test/255."
   ]
  },
  {
   "cell_type": "markdown",
   "id": "ddcf4fab",
   "metadata": {
    "papermill": {
     "duration": 0.03257,
     "end_time": "2022-11-04T10:13:10.607270",
     "exception": false,
     "start_time": "2022-11-04T10:13:10.574700",
     "status": "completed"
    },
    "tags": []
   },
   "source": [
    "And setup the labels as 1 (when the digit is 3) and 0 (when the digit is 8)"
   ]
  },
  {
   "cell_type": "code",
   "execution_count": 12,
   "id": "7dc908f2",
   "metadata": {
    "execution": {
     "iopub.execute_input": "2022-11-04T10:13:10.691892Z",
     "iopub.status.busy": "2022-11-04T10:13:10.690905Z",
     "iopub.status.idle": "2022-11-04T10:13:10.701767Z",
     "shell.execute_reply": "2022-11-04T10:13:10.701137Z"
    },
    "papermill": {
     "duration": 0.059289,
     "end_time": "2022-11-04T10:13:10.701906",
     "exception": false,
     "start_time": "2022-11-04T10:13:10.642617",
     "status": "completed"
    },
    "tags": []
   },
   "outputs": [],
   "source": [
    "y_train = 1*(y_train==3)\n",
    "y_test = 1*(y_test==3)"
   ]
  },
  {
   "cell_type": "code",
   "execution_count": 13,
   "id": "01e4e969",
   "metadata": {
    "execution": {
     "iopub.execute_input": "2022-11-04T10:13:10.785367Z",
     "iopub.status.busy": "2022-11-04T10:13:10.777737Z",
     "iopub.status.idle": "2022-11-04T10:13:10.796268Z",
     "shell.execute_reply": "2022-11-04T10:13:10.796831Z"
    },
    "papermill": {
     "duration": 0.059965,
     "end_time": "2022-11-04T10:13:10.796989",
     "exception": false,
     "start_time": "2022-11-04T10:13:10.737024",
     "status": "completed"
    },
    "tags": []
   },
   "outputs": [
    {
     "data": {
      "text/plain": [
       "((11982, 28, 28), (1984, 28, 28))"
      ]
     },
     "execution_count": 13,
     "metadata": {},
     "output_type": "execute_result"
    }
   ],
   "source": [
    "X_train.shape, X_test.shape"
   ]
  },
  {
   "cell_type": "markdown",
   "id": "5ccf3f85",
   "metadata": {
    "papermill": {
     "duration": 0.035352,
     "end_time": "2022-11-04T10:13:10.874244",
     "exception": false,
     "start_time": "2022-11-04T10:13:10.838892",
     "status": "completed"
    },
    "tags": []
   },
   "source": [
    "We reshape the data to flatten the image pixels into a set of features or co-variates:"
   ]
  },
  {
   "cell_type": "code",
   "execution_count": 14,
   "id": "5286a4a3",
   "metadata": {
    "execution": {
     "iopub.execute_input": "2022-11-04T10:13:10.955579Z",
     "iopub.status.busy": "2022-11-04T10:13:10.954806Z",
     "iopub.status.idle": "2022-11-04T10:13:10.973391Z",
     "shell.execute_reply": "2022-11-04T10:13:10.974054Z"
    },
    "papermill": {
     "duration": 0.063795,
     "end_time": "2022-11-04T10:13:10.974229",
     "exception": false,
     "start_time": "2022-11-04T10:13:10.910434",
     "status": "completed"
    },
    "tags": []
   },
   "outputs": [
    {
     "data": {
      "text/plain": [
       "((11982, 784), (1984, 784))"
      ]
     },
     "execution_count": 14,
     "metadata": {},
     "output_type": "execute_result"
    }
   ],
   "source": [
    "X_train = X_train.reshape(X_train.shape[0], -1)\n",
    "X_test = X_test.reshape(X_test.shape[0], -1)\n",
    "X_train.shape, X_test.shape"
   ]
  },
  {
   "cell_type": "code",
   "execution_count": 15,
   "id": "73c5f88a",
   "metadata": {
    "execution": {
     "iopub.execute_input": "2022-11-04T10:13:11.066013Z",
     "iopub.status.busy": "2022-11-04T10:13:11.059452Z",
     "iopub.status.idle": "2022-11-04T10:13:11.081936Z",
     "shell.execute_reply": "2022-11-04T10:13:11.081302Z"
    },
    "papermill": {
     "duration": 0.070435,
     "end_time": "2022-11-04T10:13:11.082099",
     "exception": false,
     "start_time": "2022-11-04T10:13:11.011664",
     "status": "completed"
    },
    "tags": []
   },
   "outputs": [],
   "source": [
    "#Impoting functions from 'Kudzu'\n",
    "from kudzu.model import Model\n",
    "from kudzu.train import Learner\n",
    "from kudzu.optim import GD\n",
    "from kudzu.data import Data, Sampler,Dataloader\n",
    "\n",
    "from kudzu.callbacks import AccCallback\n",
    "from kudzu.callbacks import ClfCallback\n",
    "\n",
    "from kudzu.loss import MSE\n",
    "\n",
    "from kudzu.layer import Sigmoid,Relu\n",
    "from kudzu.layer import Affine"
   ]
  },
  {
   "cell_type": "markdown",
   "id": "bc01172a",
   "metadata": {
    "papermill": {
     "duration": 0.035041,
     "end_time": "2022-11-04T10:13:11.153191",
     "exception": false,
     "start_time": "2022-11-04T10:13:11.118150",
     "status": "completed"
    },
    "tags": []
   },
   "source": [
    "### Let us create a `Config` class, to store important parameters. \n",
    "This class essentially plays the role of a dictionary."
   ]
  },
  {
   "cell_type": "code",
   "execution_count": 16,
   "id": "978281aa",
   "metadata": {
    "execution": {
     "iopub.execute_input": "2022-11-04T10:13:11.232823Z",
     "iopub.status.busy": "2022-11-04T10:13:11.232084Z",
     "iopub.status.idle": "2022-11-04T10:13:11.245391Z",
     "shell.execute_reply": "2022-11-04T10:13:11.246136Z"
    },
    "papermill": {
     "duration": 0.057259,
     "end_time": "2022-11-04T10:13:11.246419",
     "exception": false,
     "start_time": "2022-11-04T10:13:11.189160",
     "status": "completed"
    },
    "tags": []
   },
   "outputs": [],
   "source": [
    "class Config:\n",
    "    pass\n",
    "config = Config()\n",
    "config.lr = 0.001\n",
    "config.num_epochs = 250\n",
    "config.bs = 50"
   ]
  },
  {
   "cell_type": "markdown",
   "id": "1385fa59",
   "metadata": {
    "papermill": {
     "duration": 0.033904,
     "end_time": "2022-11-04T10:13:11.315535",
     "exception": false,
     "start_time": "2022-11-04T10:13:11.281631",
     "status": "completed"
    },
    "tags": []
   },
   "source": [
    "### Running Models with the Training data\n",
    "Details about the network layers:\n",
    "- A first affine layer has 784 inputs and does 100 affine transforms. These are followed by a Relu\n",
    "- A second affine layer has 100 inputs from the 100 activations of the past layer, and does 100 affine transforms. These are followed by a Relu\n",
    "- A third affine layer has 100 activations and does 2 affine transformations to create an embedding for visualization. There is no non-linearity here.\n",
    "- A final \"logistic regression\" which has an affine transform from 2 inputs to 1 output, which is squeezed through a sigmoid.\n"
   ]
  },
  {
   "cell_type": "code",
   "execution_count": 17,
   "id": "2b9c66db",
   "metadata": {
    "execution": {
     "iopub.execute_input": "2022-11-04T10:13:11.391121Z",
     "iopub.status.busy": "2022-11-04T10:13:11.390347Z",
     "iopub.status.idle": "2022-11-04T10:13:11.405480Z",
     "shell.execute_reply": "2022-11-04T10:13:11.406257Z"
    },
    "papermill": {
     "duration": 0.05501,
     "end_time": "2022-11-04T10:13:11.406407",
     "exception": false,
     "start_time": "2022-11-04T10:13:11.351397",
     "status": "completed"
    },
    "tags": []
   },
   "outputs": [],
   "source": [
    "data = Data(X_train, y_train.reshape(-1,1))\n",
    "sampler = Sampler(data, config.bs, shuffle=True)\n",
    "\n",
    "dl = Dataloader(data, sampler)\n",
    "\n",
    "opt = GD(config.lr)\n",
    "loss = MSE()"
   ]
  },
  {
   "cell_type": "code",
   "execution_count": 18,
   "id": "b275e4c2",
   "metadata": {
    "execution": {
     "iopub.execute_input": "2022-11-04T10:13:11.494050Z",
     "iopub.status.busy": "2022-11-04T10:13:11.493240Z",
     "iopub.status.idle": "2022-11-04T10:13:11.506976Z",
     "shell.execute_reply": "2022-11-04T10:13:11.507603Z"
    },
    "papermill": {
     "duration": 0.056447,
     "end_time": "2022-11-04T10:13:11.507768",
     "exception": false,
     "start_time": "2022-11-04T10:13:11.451321",
     "status": "completed"
    },
    "tags": []
   },
   "outputs": [],
   "source": [
    "training_data_x = X_train\n",
    "testing_data_x = X_test\n",
    "training_data_y = y_train.reshape(-1,1)\n",
    "testing_data_y = y_test.reshape(-1,1)"
   ]
  },
  {
   "cell_type": "code",
   "execution_count": 19,
   "id": "76951160",
   "metadata": {
    "execution": {
     "iopub.execute_input": "2022-11-04T10:13:11.600476Z",
     "iopub.status.busy": "2022-11-04T10:13:11.592161Z",
     "iopub.status.idle": "2022-11-04T10:13:11.610496Z",
     "shell.execute_reply": "2022-11-04T10:13:11.611394Z"
    },
    "papermill": {
     "duration": 0.068611,
     "end_time": "2022-11-04T10:13:11.611623",
     "exception": false,
     "start_time": "2022-11-04T10:13:11.543012",
     "status": "completed"
    },
    "tags": []
   },
   "outputs": [
    {
     "name": "stdout",
     "output_type": "stream",
     "text": [
      "xavier\n",
      "xavier\n",
      "xavier\n",
      "xavier\n",
      "xavier\n"
     ]
    }
   ],
   "source": [
    "layers = [Affine(\"first\", 784, 100), Relu(\"first\"), Affine(\"second\", 100, 100), Relu(\"second\"), Affine(\"third\", 100, 2), Affine(\"last\", 2, 1), Sigmoid(\"last\")]\n",
    "model_nn = Model(layers)\n",
    "model_lr = Model([Affine(\"logits\", 784, 1), Sigmoid(\"sigmoid\")])"
   ]
  },
  {
   "cell_type": "code",
   "execution_count": 20,
   "id": "6eede77a",
   "metadata": {
    "execution": {
     "iopub.execute_input": "2022-11-04T10:13:11.703843Z",
     "iopub.status.busy": "2022-11-04T10:13:11.698008Z",
     "iopub.status.idle": "2022-11-04T10:13:11.706467Z",
     "shell.execute_reply": "2022-11-04T10:13:11.707142Z"
    },
    "papermill": {
     "duration": 0.060451,
     "end_time": "2022-11-04T10:13:11.707298",
     "exception": false,
     "start_time": "2022-11-04T10:13:11.646847",
     "status": "completed"
    },
    "tags": []
   },
   "outputs": [],
   "source": [
    "nn_learner = Learner(loss, model_nn, opt, config.num_epochs)\n",
    "acc_nn = ClfCallback(nn_learner, config.bs, training_data_x , testing_data_x, training_data_y, testing_data_y)\n",
    "nn_learner.set_callbacks([acc_nn])"
   ]
  },
  {
   "cell_type": "code",
   "execution_count": 21,
   "id": "877b6cc7",
   "metadata": {
    "execution": {
     "iopub.execute_input": "2022-11-04T10:13:11.784824Z",
     "iopub.status.busy": "2022-11-04T10:13:11.784009Z",
     "iopub.status.idle": "2022-11-04T10:13:11.798095Z",
     "shell.execute_reply": "2022-11-04T10:13:11.797449Z"
    },
    "papermill": {
     "duration": 0.056106,
     "end_time": "2022-11-04T10:13:11.798228",
     "exception": false,
     "start_time": "2022-11-04T10:13:11.742122",
     "status": "completed"
    },
    "tags": []
   },
   "outputs": [],
   "source": [
    "lr_learner = Learner(loss, model_lr, opt, config.num_epochs)\n",
    "acc_lr = ClfCallback(lr_learner, config.bs, training_data_x , testing_data_x, training_data_y, testing_data_y)\n",
    "lr_learner.set_callbacks([acc_lr])"
   ]
  },
  {
   "cell_type": "code",
   "execution_count": 22,
   "id": "d9b133c3",
   "metadata": {
    "execution": {
     "iopub.execute_input": "2022-11-04T10:13:11.878251Z",
     "iopub.status.busy": "2022-11-04T10:13:11.877460Z",
     "iopub.status.idle": "2022-11-04T10:15:26.068655Z",
     "shell.execute_reply": "2022-11-04T10:15:26.069718Z"
    },
    "papermill": {
     "duration": 134.235386,
     "end_time": "2022-11-04T10:15:26.069918",
     "exception": false,
     "start_time": "2022-11-04T10:13:11.834532",
     "status": "completed"
    },
    "tags": []
   },
   "outputs": [
    {
     "name": "stdout",
     "output_type": "stream",
     "text": [
      "Epoch 0, Loss 0.2284\n",
      "Training Accuracy: 0.7768, Testing Accuracy: 0.7702\n",
      "\n"
     ]
    },
    {
     "name": "stdout",
     "output_type": "stream",
     "text": [
      "Epoch 10, Loss 0.0632\n",
      "Training Accuracy: 0.9379, Testing Accuracy: 0.9476\n",
      "\n"
     ]
    },
    {
     "name": "stdout",
     "output_type": "stream",
     "text": [
      "Epoch 20, Loss 0.0444\n",
      "Training Accuracy: 0.9503, Testing Accuracy: 0.9622\n",
      "\n"
     ]
    },
    {
     "name": "stdout",
     "output_type": "stream",
     "text": [
      "Epoch 30, Loss 0.0373\n",
      "Training Accuracy: 0.9571, Testing Accuracy: 0.9672\n",
      "\n"
     ]
    },
    {
     "name": "stdout",
     "output_type": "stream",
     "text": [
      "Epoch 40, Loss 0.0334\n",
      "Training Accuracy: 0.9618, Testing Accuracy: 0.9682\n",
      "\n"
     ]
    },
    {
     "name": "stdout",
     "output_type": "stream",
     "text": [
      "Epoch 50, Loss 0.0307\n",
      "Training Accuracy: 0.9640, Testing Accuracy: 0.9703\n",
      "\n"
     ]
    },
    {
     "name": "stdout",
     "output_type": "stream",
     "text": [
      "Epoch 60, Loss 0.0287\n",
      "Training Accuracy: 0.9666, Testing Accuracy: 0.9718\n",
      "\n"
     ]
    },
    {
     "name": "stdout",
     "output_type": "stream",
     "text": [
      "Epoch 70, Loss 0.0272\n",
      "Training Accuracy: 0.9678, Testing Accuracy: 0.9723\n",
      "\n"
     ]
    },
    {
     "name": "stdout",
     "output_type": "stream",
     "text": [
      "Epoch 80, Loss 0.0258\n",
      "Training Accuracy: 0.9693, Testing Accuracy: 0.9728\n",
      "\n"
     ]
    },
    {
     "name": "stdout",
     "output_type": "stream",
     "text": [
      "Epoch 90, Loss 0.0247\n",
      "Training Accuracy: 0.9709, Testing Accuracy: 0.9743\n",
      "\n"
     ]
    },
    {
     "name": "stdout",
     "output_type": "stream",
     "text": [
      "Epoch 100, Loss 0.0237\n",
      "Training Accuracy: 0.9723, Testing Accuracy: 0.9748\n",
      "\n"
     ]
    },
    {
     "name": "stdout",
     "output_type": "stream",
     "text": [
      "Epoch 110, Loss 0.0228\n",
      "Training Accuracy: 0.9737, Testing Accuracy: 0.9748\n",
      "\n"
     ]
    },
    {
     "name": "stdout",
     "output_type": "stream",
     "text": [
      "Epoch 120, Loss 0.022\n",
      "Training Accuracy: 0.9746, Testing Accuracy: 0.9743\n",
      "\n"
     ]
    },
    {
     "name": "stdout",
     "output_type": "stream",
     "text": [
      "Epoch 130, Loss 0.0213\n",
      "Training Accuracy: 0.9751, Testing Accuracy: 0.9748\n",
      "\n"
     ]
    },
    {
     "name": "stdout",
     "output_type": "stream",
     "text": [
      "Epoch 140, Loss 0.0206\n",
      "Training Accuracy: 0.9761, Testing Accuracy: 0.9748\n",
      "\n"
     ]
    },
    {
     "name": "stdout",
     "output_type": "stream",
     "text": [
      "Epoch 150, Loss 0.02\n",
      "Training Accuracy: 0.9769, Testing Accuracy: 0.9748\n",
      "\n"
     ]
    },
    {
     "name": "stdout",
     "output_type": "stream",
     "text": [
      "Epoch 160, Loss 0.0194\n",
      "Training Accuracy: 0.9785, Testing Accuracy: 0.9753\n",
      "\n"
     ]
    },
    {
     "name": "stdout",
     "output_type": "stream",
     "text": [
      "Epoch 170, Loss 0.0188\n",
      "Training Accuracy: 0.9793, Testing Accuracy: 0.9758\n",
      "\n"
     ]
    },
    {
     "name": "stdout",
     "output_type": "stream",
     "text": [
      "Epoch 180, Loss 0.0182\n",
      "Training Accuracy: 0.9802, Testing Accuracy: 0.9763\n",
      "\n"
     ]
    },
    {
     "name": "stdout",
     "output_type": "stream",
     "text": [
      "Epoch 190, Loss 0.0177\n",
      "Training Accuracy: 0.9810, Testing Accuracy: 0.9773\n",
      "\n"
     ]
    },
    {
     "name": "stdout",
     "output_type": "stream",
     "text": [
      "Epoch 200, Loss 0.0172\n",
      "Training Accuracy: 0.9816, Testing Accuracy: 0.9773\n",
      "\n"
     ]
    },
    {
     "name": "stdout",
     "output_type": "stream",
     "text": [
      "Epoch 210, Loss 0.0167\n",
      "Training Accuracy: 0.9823, Testing Accuracy: 0.9778\n",
      "\n"
     ]
    },
    {
     "name": "stdout",
     "output_type": "stream",
     "text": [
      "Epoch 220, Loss 0.0162\n",
      "Training Accuracy: 0.9832, Testing Accuracy: 0.9783\n",
      "\n"
     ]
    },
    {
     "name": "stdout",
     "output_type": "stream",
     "text": [
      "Epoch 230, Loss 0.0157\n",
      "Training Accuracy: 0.9838, Testing Accuracy: 0.9783\n",
      "\n"
     ]
    },
    {
     "name": "stdout",
     "output_type": "stream",
     "text": [
      "Epoch 240, Loss 0.0153\n",
      "Training Accuracy: 0.9844, Testing Accuracy: 0.9783\n",
      "\n"
     ]
    },
    {
     "data": {
      "text/plain": [
       "0.01671262997408314"
      ]
     },
     "execution_count": 22,
     "metadata": {},
     "output_type": "execute_result"
    }
   ],
   "source": [
    "nn_learner.train_loop(dl)"
   ]
  },
  {
   "cell_type": "code",
   "execution_count": 23,
   "id": "e0163366",
   "metadata": {
    "execution": {
     "iopub.execute_input": "2022-11-04T10:15:26.219620Z",
     "iopub.status.busy": "2022-11-04T10:15:26.218850Z",
     "iopub.status.idle": "2022-11-04T10:15:45.926767Z",
     "shell.execute_reply": "2022-11-04T10:15:45.927781Z"
    },
    "papermill": {
     "duration": 19.811391,
     "end_time": "2022-11-04T10:15:45.927955",
     "exception": false,
     "start_time": "2022-11-04T10:15:26.116564",
     "status": "completed"
    },
    "tags": []
   },
   "outputs": [
    {
     "name": "stdout",
     "output_type": "stream",
     "text": [
      "Epoch 0, Loss 0.2584\n",
      "Training Accuracy: 0.6124, Testing Accuracy: 0.6552\n",
      "\n"
     ]
    },
    {
     "name": "stdout",
     "output_type": "stream",
     "text": [
      "Epoch 10, Loss 0.1027\n",
      "Training Accuracy: 0.9147, Testing Accuracy: 0.9214\n",
      "\n"
     ]
    },
    {
     "name": "stdout",
     "output_type": "stream",
     "text": [
      "Epoch 20, Loss 0.0792\n",
      "Training Accuracy: 0.9271, Testing Accuracy: 0.9375\n",
      "\n"
     ]
    },
    {
     "name": "stdout",
     "output_type": "stream",
     "text": [
      "Epoch 30, Loss 0.0684\n",
      "Training Accuracy: 0.9358, Testing Accuracy: 0.9430\n",
      "\n"
     ]
    },
    {
     "name": "stdout",
     "output_type": "stream",
     "text": [
      "Epoch 40, Loss 0.0619\n",
      "Training Accuracy: 0.9407, Testing Accuracy: 0.9506\n",
      "\n"
     ]
    },
    {
     "name": "stdout",
     "output_type": "stream",
     "text": [
      "Epoch 50, Loss 0.0575\n",
      "Training Accuracy: 0.9445, Testing Accuracy: 0.9521\n",
      "\n"
     ]
    },
    {
     "name": "stdout",
     "output_type": "stream",
     "text": [
      "Epoch 60, Loss 0.0542\n",
      "Training Accuracy: 0.9474, Testing Accuracy: 0.9546\n",
      "\n"
     ]
    },
    {
     "name": "stdout",
     "output_type": "stream",
     "text": [
      "Epoch 70, Loss 0.0516\n",
      "Training Accuracy: 0.9493, Testing Accuracy: 0.9551\n",
      "\n"
     ]
    },
    {
     "name": "stdout",
     "output_type": "stream",
     "text": [
      "Epoch 80, Loss 0.0496\n",
      "Training Accuracy: 0.9502, Testing Accuracy: 0.9567\n",
      "\n"
     ]
    },
    {
     "name": "stdout",
     "output_type": "stream",
     "text": [
      "Epoch 90, Loss 0.0479\n",
      "Training Accuracy: 0.9515, Testing Accuracy: 0.9592\n",
      "\n"
     ]
    },
    {
     "name": "stdout",
     "output_type": "stream",
     "text": [
      "Epoch 100, Loss 0.0464\n",
      "Training Accuracy: 0.9528, Testing Accuracy: 0.9607\n",
      "\n"
     ]
    },
    {
     "name": "stdout",
     "output_type": "stream",
     "text": [
      "Epoch 110, Loss 0.0452\n",
      "Training Accuracy: 0.9539, Testing Accuracy: 0.9617\n",
      "\n"
     ]
    },
    {
     "name": "stdout",
     "output_type": "stream",
     "text": [
      "Epoch 120, Loss 0.0441\n",
      "Training Accuracy: 0.9543, Testing Accuracy: 0.9637\n",
      "\n"
     ]
    },
    {
     "name": "stdout",
     "output_type": "stream",
     "text": [
      "Epoch 130, Loss 0.0432\n",
      "Training Accuracy: 0.9556, Testing Accuracy: 0.9637\n",
      "\n"
     ]
    },
    {
     "name": "stdout",
     "output_type": "stream",
     "text": [
      "Epoch 140, Loss 0.0423\n",
      "Training Accuracy: 0.9562, Testing Accuracy: 0.9642\n",
      "\n"
     ]
    },
    {
     "name": "stdout",
     "output_type": "stream",
     "text": [
      "Epoch 150, Loss 0.0416\n",
      "Training Accuracy: 0.9570, Testing Accuracy: 0.9647\n",
      "\n"
     ]
    },
    {
     "name": "stdout",
     "output_type": "stream",
     "text": [
      "Epoch 160, Loss 0.0409\n",
      "Training Accuracy: 0.9574, Testing Accuracy: 0.9647\n",
      "\n"
     ]
    },
    {
     "name": "stdout",
     "output_type": "stream",
     "text": [
      "Epoch 170, Loss 0.0403\n",
      "Training Accuracy: 0.9579, Testing Accuracy: 0.9652\n",
      "\n"
     ]
    },
    {
     "name": "stdout",
     "output_type": "stream",
     "text": [
      "Epoch 180, Loss 0.0397\n",
      "Training Accuracy: 0.9585, Testing Accuracy: 0.9662\n",
      "\n"
     ]
    },
    {
     "name": "stdout",
     "output_type": "stream",
     "text": [
      "Epoch 190, Loss 0.0392\n",
      "Training Accuracy: 0.9590, Testing Accuracy: 0.9672\n",
      "\n"
     ]
    },
    {
     "name": "stdout",
     "output_type": "stream",
     "text": [
      "Epoch 200, Loss 0.0387\n",
      "Training Accuracy: 0.9594, Testing Accuracy: 0.9677\n",
      "\n"
     ]
    },
    {
     "name": "stdout",
     "output_type": "stream",
     "text": [
      "Epoch 210, Loss 0.0382\n",
      "Training Accuracy: 0.9600, Testing Accuracy: 0.9677\n",
      "\n"
     ]
    },
    {
     "name": "stdout",
     "output_type": "stream",
     "text": [
      "Epoch 220, Loss 0.0378\n",
      "Training Accuracy: 0.9604, Testing Accuracy: 0.9688\n",
      "\n"
     ]
    },
    {
     "name": "stdout",
     "output_type": "stream",
     "text": [
      "Epoch 230, Loss 0.0374\n",
      "Training Accuracy: 0.9605, Testing Accuracy: 0.9688\n",
      "\n"
     ]
    },
    {
     "name": "stdout",
     "output_type": "stream",
     "text": [
      "Epoch 240, Loss 0.037\n",
      "Training Accuracy: 0.9605, Testing Accuracy: 0.9688\n",
      "\n"
     ]
    },
    {
     "data": {
      "text/plain": [
       "0.10583394724825511"
      ]
     },
     "execution_count": 23,
     "metadata": {},
     "output_type": "execute_result"
    }
   ],
   "source": [
    "lr_learner.train_loop(dl)"
   ]
  },
  {
   "cell_type": "code",
   "execution_count": 24,
   "id": "ca410940",
   "metadata": {
    "execution": {
     "iopub.execute_input": "2022-11-04T10:15:46.043258Z",
     "iopub.status.busy": "2022-11-04T10:15:46.042472Z",
     "iopub.status.idle": "2022-11-04T10:15:46.381278Z",
     "shell.execute_reply": "2022-11-04T10:15:46.381900Z"
    },
    "papermill": {
     "duration": 0.399614,
     "end_time": "2022-11-04T10:15:46.382079",
     "exception": false,
     "start_time": "2022-11-04T10:15:45.982465",
     "status": "completed"
    },
    "tags": []
   },
   "outputs": [
    {
     "data": {
      "text/plain": [
       "<matplotlib.legend.Legend at 0x7f9896b94588>"
      ]
     },
     "execution_count": 24,
     "metadata": {},
     "output_type": "execute_result"
    },
    {
     "data": {
      "image/png": "[encoded data removed]",
      "text/plain": [
       "<Figure size 1080x720 with 1 Axes>"
      ]
     },
     "metadata": {
      "needs_background": "light"
     },
     "output_type": "display_data"
    }
   ],
   "source": [
    "#comparing the results of NN and LR\n",
    "plt.figure(figsize=(15,10))\n",
    "\n",
    "# Neural Network plots\n",
    "plt.plot(acc_nn.accuracies, 'r-', label = \"Training Accuracies - NN\")\n",
    "plt.plot(acc_nn.test_accuracies, 'g-', label = \"Testing Accuracies - NN\")\n",
    "\n",
    "# Logistic Regression plots\n",
    "plt.plot(acc_lr.accuracies, 'k-', label = \"Training Accuracies - LR\")\n",
    "plt.plot(acc_lr.test_accuracies, 'b-', label = \"Testing Accuracies - LR\")\n",
    "plt.legend()"
   ]
  },
  {
   "cell_type": "markdown",
   "id": "80dfb35c",
   "metadata": {
    "papermill": {
     "duration": 0.05465,
     "end_time": "2022-11-04T10:15:46.491567",
     "exception": false,
     "start_time": "2022-11-04T10:15:46.436917",
     "status": "completed"
    },
    "tags": []
   },
   "source": [
    "#### Plotting the outputs of this layer of the NN.\n"
   ]
  },
  {
   "cell_type": "code",
   "execution_count": 25,
   "id": "45eb2ff5",
   "metadata": {
    "execution": {
     "iopub.execute_input": "2022-11-04T10:15:46.604068Z",
     "iopub.status.busy": "2022-11-04T10:15:46.603314Z",
     "iopub.status.idle": "2022-11-04T10:15:46.631367Z",
     "shell.execute_reply": "2022-11-04T10:15:46.632017Z"
    },
    "papermill": {
     "duration": 0.089015,
     "end_time": "2022-11-04T10:15:46.632180",
     "exception": false,
     "start_time": "2022-11-04T10:15:46.543165",
     "status": "completed"
    },
    "tags": []
   },
   "outputs": [],
   "source": [
    "new_model = Model(layers[:-2])\n",
    "testing_plot = new_model(testing_data_x)"
   ]
  },
  {
   "cell_type": "code",
   "execution_count": 26,
   "id": "4c0a5485",
   "metadata": {
    "execution": {
     "iopub.execute_input": "2022-11-04T10:15:46.763793Z",
     "iopub.status.busy": "2022-11-04T10:15:46.761153Z",
     "iopub.status.idle": "2022-11-04T10:15:47.032573Z",
     "shell.execute_reply": "2022-11-04T10:15:47.031407Z"
    },
    "papermill": {
     "duration": 0.344945,
     "end_time": "2022-11-04T10:15:47.032729",
     "exception": false,
     "start_time": "2022-11-04T10:15:46.687784",
     "status": "completed"
    },
    "tags": []
   },
   "outputs": [
    {
     "data": {
      "text/plain": [
       "Text(0.5, 1.0, 'Outputs')"
      ]
     },
     "execution_count": 26,
     "metadata": {},
     "output_type": "execute_result"
    },
    {
     "data": {
      "image/png": "[encoded data removed]",
      "text/plain": [
       "<Figure size 576x504 with 1 Axes>"
      ]
     },
     "metadata": {
      "needs_background": "light"
     },
     "output_type": "display_data"
    }
   ],
   "source": [
    "# Plotting the scatter plot of points and color coding by class\n",
    "plt.figure(figsize=(8,7))\n",
    "plt.scatter(testing_plot[:,0], testing_plot[:,1], alpha = 0.1, c = y_test.ravel());\n",
    "plt.title('Outputs')"
   ]
  },
  {
   "cell_type": "markdown",
   "id": "a74fcf8f",
   "metadata": {
    "papermill": {
     "duration": 0.085197,
     "end_time": "2022-11-04T10:15:47.180526",
     "exception": false,
     "start_time": "2022-11-04T10:15:47.095329",
     "status": "completed"
    },
    "tags": []
   },
   "source": [
    "Probability contours"
   ]
  },
  {
   "cell_type": "code",
   "execution_count": 27,
   "id": "d0afc8e3",
   "metadata": {
    "execution": {
     "iopub.execute_input": "2022-11-04T10:15:47.367829Z",
     "iopub.status.busy": "2022-11-04T10:15:47.366605Z",
     "iopub.status.idle": "2022-11-04T10:15:47.379352Z",
     "shell.execute_reply": "2022-11-04T10:15:47.378720Z"
    },
    "papermill": {
     "duration": 0.139095,
     "end_time": "2022-11-04T10:15:47.379490",
     "exception": false,
     "start_time": "2022-11-04T10:15:47.240395",
     "status": "completed"
    },
    "tags": []
   },
   "outputs": [],
   "source": [
    "model_prob = Model(layers[-2:]) "
   ]
  },
  {
   "cell_type": "code",
   "execution_count": 28,
   "id": "9b96e238",
   "metadata": {
    "execution": {
     "iopub.execute_input": "2022-11-04T10:15:47.518859Z",
     "iopub.status.busy": "2022-11-04T10:15:47.518117Z",
     "iopub.status.idle": "2022-11-04T10:15:47.529542Z",
     "shell.execute_reply": "2022-11-04T10:15:47.528986Z"
    },
    "papermill": {
     "duration": 0.08478,
     "end_time": "2022-11-04T10:15:47.529718",
     "exception": false,
     "start_time": "2022-11-04T10:15:47.444938",
     "status": "completed"
    },
    "tags": []
   },
   "outputs": [],
   "source": [
    "#creating the x and y ranges according to the above generated plot.\n",
    "x_range = np.linspace(-4, 1, 100) \n",
    "y_range = np.linspace(-6, 6, 100) \n",
    "x_grid, y_grid = np.meshgrid(x_range, y_range) # x_grid and y_grig are of size 100 X 100\n",
    "\n",
    "# converting x_grid and y_grid to continuous arrays\n",
    "x_gridflat = np.ravel(x_grid)\n",
    "y_gridflat = np.ravel(y_grid)\n",
    "\n",
    "# The last layer of the current model takes two columns as input. Hence transpose of np.vstack() is required.\n",
    "X = np.vstack((x_gridflat, y_gridflat)).T\n",
    "\n",
    "prob_contour = model_prob(X).reshape(100,100) "
   ]
  },
  {
   "cell_type": "code",
   "execution_count": 29,
   "id": "da72499a",
   "metadata": {
    "execution": {
     "iopub.execute_input": "2022-11-04T10:15:47.670747Z",
     "iopub.status.busy": "2022-11-04T10:15:47.670010Z",
     "iopub.status.idle": "2022-11-04T10:15:47.992263Z",
     "shell.execute_reply": "2022-11-04T10:15:47.991592Z"
    },
    "papermill": {
     "duration": 0.396777,
     "end_time": "2022-11-04T10:15:47.992419",
     "exception": false,
     "start_time": "2022-11-04T10:15:47.595642",
     "status": "completed"
    },
    "tags": []
   },
   "outputs": [
    {
     "data": {
      "image/png": "[encoded data removed]",
      "text/plain": [
       "<Figure size 720x648 with 1 Axes>"
      ]
     },
     "metadata": {
      "needs_background": "light"
     },
     "output_type": "display_data"
    }
   ],
   "source": [
    "plt.figure(figsize=(10,9))\n",
    "plt.scatter(testing_plot[:,0], testing_plot[:,1], alpha = 0.1, c = y_test.ravel())\n",
    "contours = plt.contour(x_grid,y_grid,prob_contour)\n",
    "plt.title('Probability Contours')\n",
    "plt.clabel(contours, inline = True );"
   ]
  },
  {
   "cell_type": "code",
   "execution_count": null,
   "id": "e81b4ac7",
   "metadata": {
    "papermill": {
     "duration": 0.064121,
     "end_time": "2022-11-04T10:15:48.121181",
     "exception": false,
     "start_time": "2022-11-04T10:15:48.057060",
     "status": "completed"
    },
    "tags": []
   },
   "outputs": [],
   "source": []
  }
 ],
 "metadata": {
  "kernelspec": {
   "display_name": "Python 3",
   "language": "python",
   "name": "python3"
  },
  "language_info": {
   "codemirror_mode": {
    "name": "ipython",
    "version": 3
   },
   "file_extension": ".py",
   "mimetype": "text/x-python",
   "name": "python",
   "nbconvert_exporter": "python",
   "pygments_lexer": "ipython3",
   "version": "3.6.15"
  },
  "papermill": {
   "default_parameters": {},
   "duration": 164.839076,
   "end_time": "2022-11-04T10:15:48.707181",
   "environment_variables": {},
   "exception": null,
   "input_path": "2020-08-11-part2.ipynb",
   "output_path": "2020-08-11-part2.ipynb",
   "parameters": {},
   "start_time": "2022-11-04T10:13:03.868105",
   "version": "2.3.3"
  }
 },
 "nbformat": 4,
 "nbformat_minor": 5
}