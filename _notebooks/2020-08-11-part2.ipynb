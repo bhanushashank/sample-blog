{
 "cells": [
  {
   "cell_type": "markdown",
   "id": "98380cd3",
   "metadata": {
    "papermill": {
     "duration": 0.02611,
     "end_time": "2022-04-02T00:31:45.021847",
     "exception": false,
     "start_time": "2022-04-02T00:31:44.995737",
     "status": "completed"
    },
    "tags": []
   },
   "source": [
    "# Distinguish Your Own Digits (DYOD)"
   ]
  },
  {
   "cell_type": "markdown",
   "id": "ef31240d",
   "metadata": {
    "papermill": {
     "duration": 0.022257,
     "end_time": "2022-04-02T00:31:45.065756",
     "exception": false,
     "start_time": "2022-04-02T00:31:45.043499",
     "status": "completed"
    },
    "tags": []
   },
   "source": [
    "You are going to write a classifier that distinguishes between the number 3 and number 8."
   ]
  },
  {
   "cell_type": "code",
   "execution_count": 1,
   "id": "b15c8646",
   "metadata": {
    "execution": {
     "iopub.execute_input": "2022-04-02T00:31:45.118301Z",
     "iopub.status.busy": "2022-04-02T00:31:45.117777Z",
     "iopub.status.idle": "2022-04-02T00:31:45.128339Z",
     "shell.execute_reply": "2022-04-02T00:31:45.127949Z"
    },
    "papermill": {
     "duration": 0.041923,
     "end_time": "2022-04-02T00:31:45.128460",
     "exception": false,
     "start_time": "2022-04-02T00:31:45.086537",
     "status": "completed"
    },
    "tags": []
   },
   "outputs": [],
   "source": [
    "%load_ext autoreload\n",
    "%autoreload 2"
   ]
  },
  {
   "cell_type": "code",
   "execution_count": 2,
   "id": "22ef38dc",
   "metadata": {
    "execution": {
     "iopub.execute_input": "2022-04-02T00:31:45.192026Z",
     "iopub.status.busy": "2022-04-02T00:31:45.180958Z",
     "iopub.status.idle": "2022-04-02T00:31:45.773446Z",
     "shell.execute_reply": "2022-04-02T00:31:45.772914Z"
    },
    "papermill": {
     "duration": 0.624084,
     "end_time": "2022-04-02T00:31:45.773584",
     "exception": false,
     "start_time": "2022-04-02T00:31:45.149500",
     "status": "completed"
    },
    "tags": []
   },
   "outputs": [],
   "source": [
    "%matplotlib inline\n",
    "import numpy as np\n",
    "import matplotlib.pyplot as plt\n",
    "import pandas as pd"
   ]
  },
  {
   "cell_type": "markdown",
   "id": "ba036198",
   "metadata": {
    "papermill": {
     "duration": 0.021154,
     "end_time": "2022-04-02T00:31:45.816877",
     "exception": false,
     "start_time": "2022-04-02T00:31:45.795723",
     "status": "completed"
    },
    "tags": []
   },
   "source": [
    "From the command line run `pip install mnist`. This is a library that will help you bring down the mnist dataset. If you run this from a notebook, you need to put  `!pip install mnist` in a cell by itself."
   ]
  },
  {
   "cell_type": "code",
   "execution_count": 3,
   "id": "bb6ad8a1",
   "metadata": {
    "execution": {
     "iopub.execute_input": "2022-04-02T00:31:45.863279Z",
     "iopub.status.busy": "2022-04-02T00:31:45.862805Z",
     "iopub.status.idle": "2022-04-02T00:31:47.598311Z",
     "shell.execute_reply": "2022-04-02T00:31:47.597850Z"
    },
    "papermill": {
     "duration": 1.760457,
     "end_time": "2022-04-02T00:31:47.598440",
     "exception": false,
     "start_time": "2022-04-02T00:31:45.837983",
     "status": "completed"
    },
    "tags": []
   },
   "outputs": [
    {
     "name": "stdout",
     "output_type": "stream",
     "text": [
      "Collecting mnist\r\n"
     ]
    },
    {
     "name": "stdout",
     "output_type": "stream",
     "text": [
      "  Downloading mnist-0.2.2-py2.py3-none-any.whl (3.5 kB)\r\n"
     ]
    },
    {
     "name": "stdout",
     "output_type": "stream",
     "text": [
      "Requirement already satisfied: numpy in /opt/hostedtoolcache/Python/3.6.15/x64/lib/python3.6/site-packages (from mnist) (1.19.5)\r\n"
     ]
    },
    {
     "name": "stdout",
     "output_type": "stream",
     "text": [
      "Installing collected packages: mnist\r\n",
      "Successfully installed mnist-0.2.2\r\n"
     ]
    }
   ],
   "source": [
    "!pip install mnist"
   ]
  },
  {
   "cell_type": "markdown",
   "id": "69df9c9a",
   "metadata": {
    "papermill": {
     "duration": 0.022433,
     "end_time": "2022-04-02T00:31:47.643215",
     "exception": false,
     "start_time": "2022-04-02T00:31:47.620782",
     "status": "completed"
    },
    "tags": []
   },
   "source": [
    "## Preparing the Data"
   ]
  },
  {
   "cell_type": "code",
   "execution_count": 4,
   "id": "7f69d806",
   "metadata": {
    "execution": {
     "iopub.execute_input": "2022-04-02T00:31:47.691127Z",
     "iopub.status.busy": "2022-04-02T00:31:47.690668Z",
     "iopub.status.idle": "2022-04-02T00:31:47.707014Z",
     "shell.execute_reply": "2022-04-02T00:31:47.706641Z"
    },
    "papermill": {
     "duration": 0.041981,
     "end_time": "2022-04-02T00:31:47.707114",
     "exception": false,
     "start_time": "2022-04-02T00:31:47.665133",
     "status": "completed"
    },
    "tags": []
   },
   "outputs": [],
   "source": [
    "import mnist"
   ]
  },
  {
   "cell_type": "code",
   "execution_count": 5,
   "id": "a411e44f",
   "metadata": {
    "execution": {
     "iopub.execute_input": "2022-04-02T00:31:47.757357Z",
     "iopub.status.busy": "2022-04-02T00:31:47.756867Z",
     "iopub.status.idle": "2022-04-02T00:31:48.396536Z",
     "shell.execute_reply": "2022-04-02T00:31:48.397021Z"
    },
    "papermill": {
     "duration": 0.667133,
     "end_time": "2022-04-02T00:31:48.397192",
     "exception": false,
     "start_time": "2022-04-02T00:31:47.730059",
     "status": "completed"
    },
    "tags": []
   },
   "outputs": [],
   "source": [
    "train_images = mnist.train_images()\n",
    "train_labels = mnist.train_labels()"
   ]
  },
  {
   "cell_type": "code",
   "execution_count": 6,
   "id": "dceab3a5",
   "metadata": {
    "execution": {
     "iopub.execute_input": "2022-04-02T00:31:48.463520Z",
     "iopub.status.busy": "2022-04-02T00:31:48.460203Z",
     "iopub.status.idle": "2022-04-02T00:31:48.468092Z",
     "shell.execute_reply": "2022-04-02T00:31:48.467722Z"
    },
    "papermill": {
     "duration": 0.047455,
     "end_time": "2022-04-02T00:31:48.468194",
     "exception": false,
     "start_time": "2022-04-02T00:31:48.420739",
     "status": "completed"
    },
    "tags": []
   },
   "outputs": [
    {
     "data": {
      "text/plain": [
       "((60000, 28, 28), (60000,))"
      ]
     },
     "execution_count": 6,
     "metadata": {},
     "output_type": "execute_result"
    }
   ],
   "source": [
    "train_images.shape, train_labels.shape"
   ]
  },
  {
   "cell_type": "code",
   "execution_count": 7,
   "id": "f50dc2bb",
   "metadata": {
    "execution": {
     "iopub.execute_input": "2022-04-02T00:31:48.516402Z",
     "iopub.status.busy": "2022-04-02T00:31:48.515953Z",
     "iopub.status.idle": "2022-04-02T00:31:48.774770Z",
     "shell.execute_reply": "2022-04-02T00:31:48.774196Z"
    },
    "papermill": {
     "duration": 0.284508,
     "end_time": "2022-04-02T00:31:48.774913",
     "exception": false,
     "start_time": "2022-04-02T00:31:48.490405",
     "status": "completed"
    },
    "tags": []
   },
   "outputs": [],
   "source": [
    "test_images = mnist.test_images()\n",
    "test_labels = mnist.test_labels()"
   ]
  },
  {
   "cell_type": "code",
   "execution_count": 8,
   "id": "fc38cf1b",
   "metadata": {
    "execution": {
     "iopub.execute_input": "2022-04-02T00:31:48.825922Z",
     "iopub.status.busy": "2022-04-02T00:31:48.825466Z",
     "iopub.status.idle": "2022-04-02T00:31:48.837563Z",
     "shell.execute_reply": "2022-04-02T00:31:48.837175Z"
    },
    "papermill": {
     "duration": 0.039262,
     "end_time": "2022-04-02T00:31:48.837661",
     "exception": false,
     "start_time": "2022-04-02T00:31:48.798399",
     "status": "completed"
    },
    "tags": []
   },
   "outputs": [
    {
     "data": {
      "text/plain": [
       "((10000, 28, 28), (10000,))"
      ]
     },
     "execution_count": 8,
     "metadata": {},
     "output_type": "execute_result"
    }
   ],
   "source": [
    "test_images.shape, test_labels.shape"
   ]
  },
  {
   "cell_type": "code",
   "execution_count": 9,
   "id": "f9ed8fe0",
   "metadata": {
    "execution": {
     "iopub.execute_input": "2022-04-02T00:31:48.886881Z",
     "iopub.status.busy": "2022-04-02T00:31:48.886410Z",
     "iopub.status.idle": "2022-04-02T00:31:49.025399Z",
     "shell.execute_reply": "2022-04-02T00:31:49.025872Z"
    },
    "papermill": {
     "duration": 0.165749,
     "end_time": "2022-04-02T00:31:49.026023",
     "exception": false,
     "start_time": "2022-04-02T00:31:48.860274",
     "status": "completed"
    },
    "tags": []
   },
   "outputs": [
    {
     "name": "stdout",
     "output_type": "stream",
     "text": [
      "2\n"
     ]
    },
    {
     "data": {
      "text/plain": [
       "<matplotlib.image.AxesImage at 0x7f4fa2ffc5c0>"
      ]
     },
     "execution_count": 9,
     "metadata": {},
     "output_type": "execute_result"
    },
    {
     "data": {
      "image/png": "[encoded data removed]",
      "text/plain": [
       "<Figure size 432x288 with 1 Axes>"
      ]
     },
     "metadata": {
      "needs_background": "light"
     },
     "output_type": "display_data"
    }
   ],
   "source": [
    "image_index = 7776 # You may select anything up to 60,000\n",
    "print(train_labels[image_index]) \n",
    "plt.imshow(train_images[image_index], cmap='Greys')"
   ]
  },
  {
   "cell_type": "markdown",
   "id": "a8d2388d",
   "metadata": {
    "papermill": {
     "duration": 0.023836,
     "end_time": "2022-04-02T00:31:49.075459",
     "exception": false,
     "start_time": "2022-04-02T00:31:49.051623",
     "status": "completed"
    },
    "tags": []
   },
   "source": [
    "## Filter data to get 3 and 8 out"
   ]
  },
  {
   "cell_type": "code",
   "execution_count": 10,
   "id": "776f7fc7",
   "metadata": {
    "execution": {
     "iopub.execute_input": "2022-04-02T00:31:49.126719Z",
     "iopub.status.busy": "2022-04-02T00:31:49.126189Z",
     "iopub.status.idle": "2022-04-02T00:31:49.144606Z",
     "shell.execute_reply": "2022-04-02T00:31:49.144973Z"
    },
    "papermill": {
     "duration": 0.046275,
     "end_time": "2022-04-02T00:31:49.145105",
     "exception": false,
     "start_time": "2022-04-02T00:31:49.098830",
     "status": "completed"
    },
    "tags": []
   },
   "outputs": [],
   "source": [
    "train_filter = np.where((train_labels == 3 ) | (train_labels == 8))\n",
    "test_filter = np.where((test_labels == 3) | (test_labels == 8))\n",
    "X_train, y_train = train_images[train_filter], train_labels[train_filter]\n",
    "X_test, y_test = test_images[test_filter], test_labels[test_filter]"
   ]
  },
  {
   "cell_type": "markdown",
   "id": "948f0b7e",
   "metadata": {
    "papermill": {
     "duration": 0.023881,
     "end_time": "2022-04-02T00:31:49.192666",
     "exception": false,
     "start_time": "2022-04-02T00:31:49.168785",
     "status": "completed"
    },
    "tags": []
   },
   "source": [
    "We normalize the pizel values in the 0 to 1 range"
   ]
  },
  {
   "cell_type": "code",
   "execution_count": 11,
   "id": "ee4c2166",
   "metadata": {
    "execution": {
     "iopub.execute_input": "2022-04-02T00:31:49.246727Z",
     "iopub.status.busy": "2022-04-02T00:31:49.246182Z",
     "iopub.status.idle": "2022-04-02T00:31:49.294006Z",
     "shell.execute_reply": "2022-04-02T00:31:49.293488Z"
    },
    "papermill": {
     "duration": 0.077632,
     "end_time": "2022-04-02T00:31:49.294143",
     "exception": false,
     "start_time": "2022-04-02T00:31:49.216511",
     "status": "completed"
    },
    "tags": []
   },
   "outputs": [],
   "source": [
    "X_train = X_train/255.\n",
    "X_test = X_test/255."
   ]
  },
  {
   "cell_type": "markdown",
   "id": "ddcf4fab",
   "metadata": {
    "papermill": {
     "duration": 0.024374,
     "end_time": "2022-04-02T00:31:49.343076",
     "exception": false,
     "start_time": "2022-04-02T00:31:49.318702",
     "status": "completed"
    },
    "tags": []
   },
   "source": [
    "And setup the labels as 1 (when the digit is 3) and 0 (when the digit is 8)"
   ]
  },
  {
   "cell_type": "code",
   "execution_count": 12,
   "id": "7dc908f2",
   "metadata": {
    "execution": {
     "iopub.execute_input": "2022-04-02T00:31:49.398869Z",
     "iopub.status.busy": "2022-04-02T00:31:49.398367Z",
     "iopub.status.idle": "2022-04-02T00:31:49.408207Z",
     "shell.execute_reply": "2022-04-02T00:31:49.407819Z"
    },
    "papermill": {
     "duration": 0.041565,
     "end_time": "2022-04-02T00:31:49.408316",
     "exception": false,
     "start_time": "2022-04-02T00:31:49.366751",
     "status": "completed"
    },
    "tags": []
   },
   "outputs": [],
   "source": [
    "y_train = 1*(y_train==3)\n",
    "y_test = 1*(y_test==3)"
   ]
  },
  {
   "cell_type": "code",
   "execution_count": 13,
   "id": "01e4e969",
   "metadata": {
    "execution": {
     "iopub.execute_input": "2022-04-02T00:31:49.460662Z",
     "iopub.status.busy": "2022-04-02T00:31:49.460206Z",
     "iopub.status.idle": "2022-04-02T00:31:49.473730Z",
     "shell.execute_reply": "2022-04-02T00:31:49.474075Z"
    },
    "papermill": {
     "duration": 0.041317,
     "end_time": "2022-04-02T00:31:49.474206",
     "exception": false,
     "start_time": "2022-04-02T00:31:49.432889",
     "status": "completed"
    },
    "tags": []
   },
   "outputs": [
    {
     "data": {
      "text/plain": [
       "((11982, 28, 28), (1984, 28, 28))"
      ]
     },
     "execution_count": 13,
     "metadata": {},
     "output_type": "execute_result"
    }
   ],
   "source": [
    "X_train.shape, X_test.shape"
   ]
  },
  {
   "cell_type": "markdown",
   "id": "5ccf3f85",
   "metadata": {
    "papermill": {
     "duration": 0.023689,
     "end_time": "2022-04-02T00:31:49.521799",
     "exception": false,
     "start_time": "2022-04-02T00:31:49.498110",
     "status": "completed"
    },
    "tags": []
   },
   "source": [
    "We reshape the data to flatten the image pixels into a set of features or co-variates:"
   ]
  },
  {
   "cell_type": "code",
   "execution_count": 14,
   "id": "5286a4a3",
   "metadata": {
    "execution": {
     "iopub.execute_input": "2022-04-02T00:31:49.574179Z",
     "iopub.status.busy": "2022-04-02T00:31:49.573718Z",
     "iopub.status.idle": "2022-04-02T00:31:49.586394Z",
     "shell.execute_reply": "2022-04-02T00:31:49.586745Z"
    },
    "papermill": {
     "duration": 0.040989,
     "end_time": "2022-04-02T00:31:49.586874",
     "exception": false,
     "start_time": "2022-04-02T00:31:49.545885",
     "status": "completed"
    },
    "tags": []
   },
   "outputs": [
    {
     "data": {
      "text/plain": [
       "((11982, 784), (1984, 784))"
      ]
     },
     "execution_count": 14,
     "metadata": {},
     "output_type": "execute_result"
    }
   ],
   "source": [
    "X_train = X_train.reshape(X_train.shape[0], -1)\n",
    "X_test = X_test.reshape(X_test.shape[0], -1)\n",
    "X_train.shape, X_test.shape"
   ]
  },
  {
   "cell_type": "code",
   "execution_count": 15,
   "id": "73c5f88a",
   "metadata": {
    "execution": {
     "iopub.execute_input": "2022-04-02T00:31:49.644455Z",
     "iopub.status.busy": "2022-04-02T00:31:49.643980Z",
     "iopub.status.idle": "2022-04-02T00:31:49.659490Z",
     "shell.execute_reply": "2022-04-02T00:31:49.659096Z"
    },
    "papermill": {
     "duration": 0.048667,
     "end_time": "2022-04-02T00:31:49.659596",
     "exception": false,
     "start_time": "2022-04-02T00:31:49.610929",
     "status": "completed"
    },
    "tags": []
   },
   "outputs": [],
   "source": [
    "#Impoting functions from 'Kudzu'\n",
    "from kudzu.model import Model\n",
    "from kudzu.train import Learner\n",
    "from kudzu.optim import GD\n",
    "from kudzu.data import Data, Sampler,Dataloader\n",
    "\n",
    "from kudzu.callbacks import AccCallback\n",
    "from kudzu.callbacks import ClfCallback\n",
    "\n",
    "from kudzu.loss import MSE\n",
    "\n",
    "from kudzu.layer import Sigmoid,Relu\n",
    "from kudzu.layer import Affine"
   ]
  },
  {
   "cell_type": "markdown",
   "id": "bc01172a",
   "metadata": {
    "papermill": {
     "duration": 0.023902,
     "end_time": "2022-04-02T00:31:49.707679",
     "exception": false,
     "start_time": "2022-04-02T00:31:49.683777",
     "status": "completed"
    },
    "tags": []
   },
   "source": [
    "### Let us create a `Config` class, to store important parameters. \n",
    "This class essentially plays the role of a dictionary."
   ]
  },
  {
   "cell_type": "code",
   "execution_count": 16,
   "id": "978281aa",
   "metadata": {
    "execution": {
     "iopub.execute_input": "2022-04-02T00:31:49.759183Z",
     "iopub.status.busy": "2022-04-02T00:31:49.758705Z",
     "iopub.status.idle": "2022-04-02T00:31:49.771662Z",
     "shell.execute_reply": "2022-04-02T00:31:49.771285Z"
    },
    "papermill": {
     "duration": 0.040272,
     "end_time": "2022-04-02T00:31:49.771767",
     "exception": false,
     "start_time": "2022-04-02T00:31:49.731495",
     "status": "completed"
    },
    "tags": []
   },
   "outputs": [],
   "source": [
    "class Config:\n",
    "    pass\n",
    "config = Config()\n",
    "config.lr = 0.001\n",
    "config.num_epochs = 250\n",
    "config.bs = 50"
   ]
  },
  {
   "cell_type": "markdown",
   "id": "1385fa59",
   "metadata": {
    "papermill": {
     "duration": 0.023926,
     "end_time": "2022-04-02T00:31:49.819752",
     "exception": false,
     "start_time": "2022-04-02T00:31:49.795826",
     "status": "completed"
    },
    "tags": []
   },
   "source": [
    "### Running Models with the Training data\n",
    "Details about the network layers:\n",
    "- A first affine layer has 784 inputs and does 100 affine transforms. These are followed by a Relu\n",
    "- A second affine layer has 100 inputs from the 100 activations of the past layer, and does 100 affine transforms. These are followed by a Relu\n",
    "- A third affine layer has 100 activations and does 2 affine transformations to create an embedding for visualization. There is no non-linearity here.\n",
    "- A final \"logistic regression\" which has an affine transform from 2 inputs to 1 output, which is squeezed through a sigmoid.\n"
   ]
  },
  {
   "cell_type": "code",
   "execution_count": 17,
   "id": "2b9c66db",
   "metadata": {
    "execution": {
     "iopub.execute_input": "2022-04-02T00:31:49.874093Z",
     "iopub.status.busy": "2022-04-02T00:31:49.873594Z",
     "iopub.status.idle": "2022-04-02T00:31:49.884901Z",
     "shell.execute_reply": "2022-04-02T00:31:49.885276Z"
    },
    "papermill": {
     "duration": 0.041512,
     "end_time": "2022-04-02T00:31:49.885410",
     "exception": false,
     "start_time": "2022-04-02T00:31:49.843898",
     "status": "completed"
    },
    "tags": []
   },
   "outputs": [],
   "source": [
    "data = Data(X_train, y_train.reshape(-1,1))\n",
    "sampler = Sampler(data, config.bs, shuffle=True)\n",
    "\n",
    "dl = Dataloader(data, sampler)\n",
    "\n",
    "opt = GD(config.lr)\n",
    "loss = MSE()"
   ]
  },
  {
   "cell_type": "code",
   "execution_count": 18,
   "id": "b275e4c2",
   "metadata": {
    "execution": {
     "iopub.execute_input": "2022-04-02T00:31:49.937652Z",
     "iopub.status.busy": "2022-04-02T00:31:49.937183Z",
     "iopub.status.idle": "2022-04-02T00:31:49.949659Z",
     "shell.execute_reply": "2022-04-02T00:31:49.949285Z"
    },
    "papermill": {
     "duration": 0.040125,
     "end_time": "2022-04-02T00:31:49.949761",
     "exception": false,
     "start_time": "2022-04-02T00:31:49.909636",
     "status": "completed"
    },
    "tags": []
   },
   "outputs": [],
   "source": [
    "training_data_x = X_train\n",
    "testing_data_x = X_test\n",
    "training_data_y = y_train.reshape(-1,1)\n",
    "testing_data_y = y_test.reshape(-1,1)"
   ]
  },
  {
   "cell_type": "code",
   "execution_count": 19,
   "id": "76951160",
   "metadata": {
    "execution": {
     "iopub.execute_input": "2022-04-02T00:31:50.002293Z",
     "iopub.status.busy": "2022-04-02T00:31:50.001805Z",
     "iopub.status.idle": "2022-04-02T00:31:50.018575Z",
     "shell.execute_reply": "2022-04-02T00:31:50.018967Z"
    },
    "papermill": {
     "duration": 0.045289,
     "end_time": "2022-04-02T00:31:50.019095",
     "exception": false,
     "start_time": "2022-04-02T00:31:49.973806",
     "status": "completed"
    },
    "tags": []
   },
   "outputs": [
    {
     "name": "stdout",
     "output_type": "stream",
     "text": [
      "xavier\n",
      "xavier\n",
      "xavier\n",
      "xavier\n",
      "xavier\n"
     ]
    }
   ],
   "source": [
    "layers = [Affine(\"first\", 784, 100), Relu(\"first\"), Affine(\"second\", 100, 100), Relu(\"second\"), Affine(\"third\", 100, 2), Affine(\"last\", 2, 1), Sigmoid(\"last\")]\n",
    "model_nn = Model(layers)\n",
    "model_lr = Model([Affine(\"logits\", 784, 1), Sigmoid(\"sigmoid\")])"
   ]
  },
  {
   "cell_type": "code",
   "execution_count": 20,
   "id": "6eede77a",
   "metadata": {
    "execution": {
     "iopub.execute_input": "2022-04-02T00:31:50.074115Z",
     "iopub.status.busy": "2022-04-02T00:31:50.073636Z",
     "iopub.status.idle": "2022-04-02T00:31:50.084497Z",
     "shell.execute_reply": "2022-04-02T00:31:50.084923Z"
    },
    "papermill": {
     "duration": 0.041787,
     "end_time": "2022-04-02T00:31:50.085047",
     "exception": false,
     "start_time": "2022-04-02T00:31:50.043260",
     "status": "completed"
    },
    "tags": []
   },
   "outputs": [],
   "source": [
    "nn_learner = Learner(loss, model_nn, opt, config.num_epochs)\n",
    "acc_nn = ClfCallback(nn_learner, config.bs, training_data_x , testing_data_x, training_data_y, testing_data_y)\n",
    "nn_learner.set_callbacks([acc_nn])"
   ]
  },
  {
   "cell_type": "code",
   "execution_count": 21,
   "id": "877b6cc7",
   "metadata": {
    "execution": {
     "iopub.execute_input": "2022-04-02T00:31:50.137708Z",
     "iopub.status.busy": "2022-04-02T00:31:50.137248Z",
     "iopub.status.idle": "2022-04-02T00:31:50.148341Z",
     "shell.execute_reply": "2022-04-02T00:31:50.148725Z"
    },
    "papermill": {
     "duration": 0.03963,
     "end_time": "2022-04-02T00:31:50.148846",
     "exception": false,
     "start_time": "2022-04-02T00:31:50.109216",
     "status": "completed"
    },
    "tags": []
   },
   "outputs": [],
   "source": [
    "lr_learner = Learner(loss, model_lr, opt, config.num_epochs)\n",
    "acc_lr = ClfCallback(lr_learner, config.bs, training_data_x , testing_data_x, training_data_y, testing_data_y)\n",
    "lr_learner.set_callbacks([acc_lr])"
   ]
  },
  {
   "cell_type": "code",
   "execution_count": 22,
   "id": "d9b133c3",
   "metadata": {
    "execution": {
     "iopub.execute_input": "2022-04-02T00:31:50.201118Z",
     "iopub.status.busy": "2022-04-02T00:31:50.200662Z",
     "iopub.status.idle": "2022-04-02T00:33:09.584615Z",
     "shell.execute_reply": "2022-04-02T00:33:09.585381Z"
    },
    "papermill": {
     "duration": 79.412527,
     "end_time": "2022-04-02T00:33:09.585529",
     "exception": false,
     "start_time": "2022-04-02T00:31:50.173002",
     "status": "completed"
    },
    "tags": []
   },
   "outputs": [
    {
     "name": "stdout",
     "output_type": "stream",
     "text": [
      "Epoch 0, Loss 0.2202\n",
      "Training Accuracy: 0.7978, Testing Accuracy: 0.7944\n",
      "\n"
     ]
    },
    {
     "name": "stdout",
     "output_type": "stream",
     "text": [
      "Epoch 10, Loss 0.0815\n",
      "Training Accuracy: 0.9298, Testing Accuracy: 0.9430\n",
      "\n"
     ]
    },
    {
     "name": "stdout",
     "output_type": "stream",
     "text": [
      "Epoch 20, Loss 0.0516\n",
      "Training Accuracy: 0.9469, Testing Accuracy: 0.9587\n",
      "\n"
     ]
    },
    {
     "name": "stdout",
     "output_type": "stream",
     "text": [
      "Epoch 30, Loss 0.0415\n",
      "Training Accuracy: 0.9556, Testing Accuracy: 0.9622\n",
      "\n"
     ]
    },
    {
     "name": "stdout",
     "output_type": "stream",
     "text": [
      "Epoch 40, Loss 0.0363\n",
      "Training Accuracy: 0.9605, Testing Accuracy: 0.9637\n",
      "\n"
     ]
    },
    {
     "name": "stdout",
     "output_type": "stream",
     "text": [
      "Epoch 50, Loss 0.0331\n",
      "Training Accuracy: 0.9635, Testing Accuracy: 0.9647\n",
      "\n"
     ]
    },
    {
     "name": "stdout",
     "output_type": "stream",
     "text": [
      "Epoch 60, Loss 0.0308\n",
      "Training Accuracy: 0.9653, Testing Accuracy: 0.9662\n",
      "\n"
     ]
    },
    {
     "name": "stdout",
     "output_type": "stream",
     "text": [
      "Epoch 70, Loss 0.0291\n",
      "Training Accuracy: 0.9667, Testing Accuracy: 0.9682\n",
      "\n"
     ]
    },
    {
     "name": "stdout",
     "output_type": "stream",
     "text": [
      "Epoch 80, Loss 0.0277\n",
      "Training Accuracy: 0.9677, Testing Accuracy: 0.9682\n",
      "\n"
     ]
    },
    {
     "name": "stdout",
     "output_type": "stream",
     "text": [
      "Epoch 90, Loss 0.0266\n",
      "Training Accuracy: 0.9689, Testing Accuracy: 0.9693\n",
      "\n"
     ]
    },
    {
     "name": "stdout",
     "output_type": "stream",
     "text": [
      "Epoch 100, Loss 0.0256\n",
      "Training Accuracy: 0.9702, Testing Accuracy: 0.9693\n",
      "\n"
     ]
    },
    {
     "name": "stdout",
     "output_type": "stream",
     "text": [
      "Epoch 110, Loss 0.0248\n",
      "Training Accuracy: 0.9715, Testing Accuracy: 0.9698\n",
      "\n"
     ]
    },
    {
     "name": "stdout",
     "output_type": "stream",
     "text": [
      "Epoch 120, Loss 0.024\n",
      "Training Accuracy: 0.9719, Testing Accuracy: 0.9703\n",
      "\n"
     ]
    },
    {
     "name": "stdout",
     "output_type": "stream",
     "text": [
      "Epoch 130, Loss 0.0234\n",
      "Training Accuracy: 0.9729, Testing Accuracy: 0.9708\n",
      "\n"
     ]
    },
    {
     "name": "stdout",
     "output_type": "stream",
     "text": [
      "Epoch 140, Loss 0.0228\n",
      "Training Accuracy: 0.9742, Testing Accuracy: 0.9718\n",
      "\n"
     ]
    },
    {
     "name": "stdout",
     "output_type": "stream",
     "text": [
      "Epoch 150, Loss 0.0222\n",
      "Training Accuracy: 0.9747, Testing Accuracy: 0.9708\n",
      "\n"
     ]
    },
    {
     "name": "stdout",
     "output_type": "stream",
     "text": [
      "Epoch 160, Loss 0.0217\n",
      "Training Accuracy: 0.9754, Testing Accuracy: 0.9728\n",
      "\n"
     ]
    },
    {
     "name": "stdout",
     "output_type": "stream",
     "text": [
      "Epoch 170, Loss 0.0212\n",
      "Training Accuracy: 0.9760, Testing Accuracy: 0.9723\n",
      "\n"
     ]
    },
    {
     "name": "stdout",
     "output_type": "stream",
     "text": [
      "Epoch 180, Loss 0.0208\n",
      "Training Accuracy: 0.9763, Testing Accuracy: 0.9728\n",
      "\n"
     ]
    },
    {
     "name": "stdout",
     "output_type": "stream",
     "text": [
      "Epoch 190, Loss 0.0204\n",
      "Training Accuracy: 0.9770, Testing Accuracy: 0.9738\n",
      "\n"
     ]
    },
    {
     "name": "stdout",
     "output_type": "stream",
     "text": [
      "Epoch 200, Loss 0.02\n",
      "Training Accuracy: 0.9775, Testing Accuracy: 0.9733\n",
      "\n"
     ]
    },
    {
     "name": "stdout",
     "output_type": "stream",
     "text": [
      "Epoch 210, Loss 0.0196\n",
      "Training Accuracy: 0.9777, Testing Accuracy: 0.9723\n",
      "\n"
     ]
    },
    {
     "name": "stdout",
     "output_type": "stream",
     "text": [
      "Epoch 220, Loss 0.0193\n",
      "Training Accuracy: 0.9784, Testing Accuracy: 0.9723\n",
      "\n"
     ]
    },
    {
     "name": "stdout",
     "output_type": "stream",
     "text": [
      "Epoch 230, Loss 0.0189\n",
      "Training Accuracy: 0.9787, Testing Accuracy: 0.9723\n",
      "\n"
     ]
    },
    {
     "name": "stdout",
     "output_type": "stream",
     "text": [
      "Epoch 240, Loss 0.0186\n",
      "Training Accuracy: 0.9792, Testing Accuracy: 0.9728\n",
      "\n"
     ]
    },
    {
     "data": {
      "text/plain": [
       "0.035003467891517426"
      ]
     },
     "execution_count": 22,
     "metadata": {},
     "output_type": "execute_result"
    }
   ],
   "source": [
    "nn_learner.train_loop(dl)"
   ]
  },
  {
   "cell_type": "code",
   "execution_count": 23,
   "id": "e0163366",
   "metadata": {
    "execution": {
     "iopub.execute_input": "2022-04-02T00:33:09.664063Z",
     "iopub.status.busy": "2022-04-02T00:33:09.663543Z",
     "iopub.status.idle": "2022-04-02T00:33:24.154389Z",
     "shell.execute_reply": "2022-04-02T00:33:24.155135Z"
    },
    "papermill": {
     "duration": 14.534481,
     "end_time": "2022-04-02T00:33:24.155286",
     "exception": false,
     "start_time": "2022-04-02T00:33:09.620805",
     "status": "completed"
    },
    "tags": []
   },
   "outputs": [
    {
     "name": "stdout",
     "output_type": "stream",
     "text": [
      "Epoch 0, Loss 0.2611\n",
      "Training Accuracy: 0.5942, Testing Accuracy: 0.5857\n",
      "\n"
     ]
    },
    {
     "name": "stdout",
     "output_type": "stream",
     "text": [
      "Epoch 10, Loss 0.1071\n",
      "Training Accuracy: 0.9044, Testing Accuracy: 0.9153\n",
      "\n"
     ]
    },
    {
     "name": "stdout",
     "output_type": "stream",
     "text": [
      "Epoch 20, Loss 0.0813\n",
      "Training Accuracy: 0.9255, Testing Accuracy: 0.9350\n",
      "\n"
     ]
    },
    {
     "name": "stdout",
     "output_type": "stream",
     "text": [
      "Epoch 30, Loss 0.0699\n",
      "Training Accuracy: 0.9347, Testing Accuracy: 0.9456\n",
      "\n"
     ]
    },
    {
     "name": "stdout",
     "output_type": "stream",
     "text": [
      "Epoch 40, Loss 0.0631\n",
      "Training Accuracy: 0.9397, Testing Accuracy: 0.9521\n",
      "\n"
     ]
    },
    {
     "name": "stdout",
     "output_type": "stream",
     "text": [
      "Epoch 50, Loss 0.0585\n",
      "Training Accuracy: 0.9420, Testing Accuracy: 0.9531\n",
      "\n"
     ]
    },
    {
     "name": "stdout",
     "output_type": "stream",
     "text": [
      "Epoch 60, Loss 0.0551\n",
      "Training Accuracy: 0.9445, Testing Accuracy: 0.9551\n",
      "\n"
     ]
    },
    {
     "name": "stdout",
     "output_type": "stream",
     "text": [
      "Epoch 70, Loss 0.0524\n",
      "Training Accuracy: 0.9461, Testing Accuracy: 0.9561\n",
      "\n"
     ]
    },
    {
     "name": "stdout",
     "output_type": "stream",
     "text": [
      "Epoch 80, Loss 0.0503\n",
      "Training Accuracy: 0.9485, Testing Accuracy: 0.9582\n",
      "\n"
     ]
    },
    {
     "name": "stdout",
     "output_type": "stream",
     "text": [
      "Epoch 90, Loss 0.0486\n",
      "Training Accuracy: 0.9498, Testing Accuracy: 0.9577\n",
      "\n"
     ]
    },
    {
     "name": "stdout",
     "output_type": "stream",
     "text": [
      "Epoch 100, Loss 0.0471\n",
      "Training Accuracy: 0.9508, Testing Accuracy: 0.9587\n",
      "\n"
     ]
    },
    {
     "name": "stdout",
     "output_type": "stream",
     "text": [
      "Epoch 110, Loss 0.0458\n",
      "Training Accuracy: 0.9519, Testing Accuracy: 0.9617\n",
      "\n"
     ]
    },
    {
     "name": "stdout",
     "output_type": "stream",
     "text": [
      "Epoch 120, Loss 0.0447\n",
      "Training Accuracy: 0.9523, Testing Accuracy: 0.9627\n",
      "\n"
     ]
    },
    {
     "name": "stdout",
     "output_type": "stream",
     "text": [
      "Epoch 130, Loss 0.0437\n",
      "Training Accuracy: 0.9529, Testing Accuracy: 0.9627\n",
      "\n"
     ]
    },
    {
     "name": "stdout",
     "output_type": "stream",
     "text": [
      "Epoch 140, Loss 0.0429\n",
      "Training Accuracy: 0.9540, Testing Accuracy: 0.9622\n",
      "\n"
     ]
    },
    {
     "name": "stdout",
     "output_type": "stream",
     "text": [
      "Epoch 150, Loss 0.0421\n",
      "Training Accuracy: 0.9553, Testing Accuracy: 0.9627\n",
      "\n"
     ]
    },
    {
     "name": "stdout",
     "output_type": "stream",
     "text": [
      "Epoch 160, Loss 0.0414\n",
      "Training Accuracy: 0.9560, Testing Accuracy: 0.9632\n",
      "\n"
     ]
    },
    {
     "name": "stdout",
     "output_type": "stream",
     "text": [
      "Epoch 170, Loss 0.0407\n",
      "Training Accuracy: 0.9568, Testing Accuracy: 0.9632\n",
      "\n"
     ]
    },
    {
     "name": "stdout",
     "output_type": "stream",
     "text": [
      "Epoch 180, Loss 0.0401\n",
      "Training Accuracy: 0.9576, Testing Accuracy: 0.9632\n",
      "\n"
     ]
    },
    {
     "name": "stdout",
     "output_type": "stream",
     "text": [
      "Epoch 190, Loss 0.0396\n",
      "Training Accuracy: 0.9582, Testing Accuracy: 0.9632\n",
      "\n"
     ]
    },
    {
     "name": "stdout",
     "output_type": "stream",
     "text": [
      "Epoch 200, Loss 0.0391\n",
      "Training Accuracy: 0.9584, Testing Accuracy: 0.9637\n",
      "\n"
     ]
    },
    {
     "name": "stdout",
     "output_type": "stream",
     "text": [
      "Epoch 210, Loss 0.0386\n",
      "Training Accuracy: 0.9589, Testing Accuracy: 0.9642\n",
      "\n"
     ]
    },
    {
     "name": "stdout",
     "output_type": "stream",
     "text": [
      "Epoch 220, Loss 0.0382\n",
      "Training Accuracy: 0.9594, Testing Accuracy: 0.9647\n",
      "\n"
     ]
    },
    {
     "name": "stdout",
     "output_type": "stream",
     "text": [
      "Epoch 230, Loss 0.0378\n",
      "Training Accuracy: 0.9594, Testing Accuracy: 0.9652\n",
      "\n"
     ]
    },
    {
     "name": "stdout",
     "output_type": "stream",
     "text": [
      "Epoch 240, Loss 0.0374\n",
      "Training Accuracy: 0.9594, Testing Accuracy: 0.9662\n",
      "\n"
     ]
    },
    {
     "data": {
      "text/plain": [
       "0.07092076697060554"
      ]
     },
     "execution_count": 23,
     "metadata": {},
     "output_type": "execute_result"
    }
   ],
   "source": [
    "lr_learner.train_loop(dl)"
   ]
  },
  {
   "cell_type": "code",
   "execution_count": 24,
   "id": "ca410940",
   "metadata": {
    "execution": {
     "iopub.execute_input": "2022-04-02T00:33:24.251730Z",
     "iopub.status.busy": "2022-04-02T00:33:24.251187Z",
     "iopub.status.idle": "2022-04-02T00:33:24.462932Z",
     "shell.execute_reply": "2022-04-02T00:33:24.462396Z"
    },
    "papermill": {
     "duration": 0.266063,
     "end_time": "2022-04-02T00:33:24.463068",
     "exception": false,
     "start_time": "2022-04-02T00:33:24.197005",
     "status": "completed"
    },
    "tags": []
   },
   "outputs": [
    {
     "data": {
      "text/plain": [
       "<matplotlib.legend.Legend at 0x7f4fa2bd9cc0>"
      ]
     },
     "execution_count": 24,
     "metadata": {},
     "output_type": "execute_result"
    },
    {
     "data": {
      "image/png": "[encoded data removed]",
      "text/plain": [
       "<Figure size 1080x720 with 1 Axes>"
      ]
     },
     "metadata": {
      "needs_background": "light"
     },
     "output_type": "display_data"
    }
   ],
   "source": [
    "#comparing the results of NN and LR\n",
    "plt.figure(figsize=(15,10))\n",
    "\n",
    "# Neural Network plots\n",
    "plt.plot(acc_nn.accuracies, 'r-', label = \"Training Accuracies - NN\")\n",
    "plt.plot(acc_nn.test_accuracies, 'g-', label = \"Testing Accuracies - NN\")\n",
    "\n",
    "# Logistic Regression plots\n",
    "plt.plot(acc_lr.accuracies, 'k-', label = \"Training Accuracies - LR\")\n",
    "plt.plot(acc_lr.test_accuracies, 'b-', label = \"Testing Accuracies - LR\")\n",
    "plt.legend()"
   ]
  },
  {
   "cell_type": "markdown",
   "id": "80dfb35c",
   "metadata": {
    "papermill": {
     "duration": 0.042576,
     "end_time": "2022-04-02T00:33:24.549670",
     "exception": false,
     "start_time": "2022-04-02T00:33:24.507094",
     "status": "completed"
    },
    "tags": []
   },
   "source": [
    "#### Plotting the outputs of this layer of the NN.\n"
   ]
  },
  {
   "cell_type": "code",
   "execution_count": 25,
   "id": "45eb2ff5",
   "metadata": {
    "execution": {
     "iopub.execute_input": "2022-04-02T00:33:24.640392Z",
     "iopub.status.busy": "2022-04-02T00:33:24.639895Z",
     "iopub.status.idle": "2022-04-02T00:33:24.658987Z",
     "shell.execute_reply": "2022-04-02T00:33:24.659385Z"
    },
    "papermill": {
     "duration": 0.067664,
     "end_time": "2022-04-02T00:33:24.659515",
     "exception": false,
     "start_time": "2022-04-02T00:33:24.591851",
     "status": "completed"
    },
    "tags": []
   },
   "outputs": [],
   "source": [
    "new_model = Model(layers[:-2])\n",
    "testing_plot = new_model(testing_data_x)"
   ]
  },
  {
   "cell_type": "code",
   "execution_count": 26,
   "id": "4c0a5485",
   "metadata": {
    "execution": {
     "iopub.execute_input": "2022-04-02T00:33:24.747340Z",
     "iopub.status.busy": "2022-04-02T00:33:24.746873Z",
     "iopub.status.idle": "2022-04-02T00:33:24.914301Z",
     "shell.execute_reply": "2022-04-02T00:33:24.914689Z"
    },
    "papermill": {
     "duration": 0.217184,
     "end_time": "2022-04-02T00:33:24.914823",
     "exception": false,
     "start_time": "2022-04-02T00:33:24.697639",
     "status": "completed"
    },
    "tags": []
   },
   "outputs": [
    {
     "data": {
      "text/plain": [
       "Text(0.5, 1.0, 'Outputs')"
      ]
     },
     "execution_count": 26,
     "metadata": {},
     "output_type": "execute_result"
    },
    {
     "data": {
      "image/png": "[encoded data removed]",
      "text/plain": [
       "<Figure size 576x504 with 1 Axes>"
      ]
     },
     "metadata": {
      "needs_background": "light"
     },
     "output_type": "display_data"
    }
   ],
   "source": [
    "# Plotting the scatter plot of points and color coding by class\n",
    "plt.figure(figsize=(8,7))\n",
    "plt.scatter(testing_plot[:,0], testing_plot[:,1], alpha = 0.1, c = y_test.ravel());\n",
    "plt.title('Outputs')"
   ]
  },
  {
   "cell_type": "markdown",
   "id": "a74fcf8f",
   "metadata": {
    "papermill": {
     "duration": 0.038833,
     "end_time": "2022-04-02T00:33:24.992824",
     "exception": false,
     "start_time": "2022-04-02T00:33:24.953991",
     "status": "completed"
    },
    "tags": []
   },
   "source": [
    "Probability contours"
   ]
  },
  {
   "cell_type": "code",
   "execution_count": 27,
   "id": "d0afc8e3",
   "metadata": {
    "execution": {
     "iopub.execute_input": "2022-04-02T00:33:25.075753Z",
     "iopub.status.busy": "2022-04-02T00:33:25.075259Z",
     "iopub.status.idle": "2022-04-02T00:33:25.086769Z",
     "shell.execute_reply": "2022-04-02T00:33:25.086373Z"
    },
    "papermill": {
     "duration": 0.054808,
     "end_time": "2022-04-02T00:33:25.086868",
     "exception": false,
     "start_time": "2022-04-02T00:33:25.032060",
     "status": "completed"
    },
    "tags": []
   },
   "outputs": [],
   "source": [
    "model_prob = Model(layers[-2:]) "
   ]
  },
  {
   "cell_type": "code",
   "execution_count": 28,
   "id": "9b96e238",
   "metadata": {
    "execution": {
     "iopub.execute_input": "2022-04-02T00:33:25.197854Z",
     "iopub.status.busy": "2022-04-02T00:33:25.196851Z",
     "iopub.status.idle": "2022-04-02T00:33:25.209867Z",
     "shell.execute_reply": "2022-04-02T00:33:25.210245Z"
    },
    "papermill": {
     "duration": 0.056615,
     "end_time": "2022-04-02T00:33:25.210371",
     "exception": false,
     "start_time": "2022-04-02T00:33:25.153756",
     "status": "completed"
    },
    "tags": []
   },
   "outputs": [],
   "source": [
    "#creating the x and y ranges according to the above generated plot.\n",
    "x_range = np.linspace(-4, 1, 100) \n",
    "y_range = np.linspace(-6, 6, 100) \n",
    "x_grid, y_grid = np.meshgrid(x_range, y_range) # x_grid and y_grig are of size 100 X 100\n",
    "\n",
    "# converting x_grid and y_grid to continuous arrays\n",
    "x_gridflat = np.ravel(x_grid)\n",
    "y_gridflat = np.ravel(y_grid)\n",
    "\n",
    "# The last layer of the current model takes two columns as input. Hence transpose of np.vstack() is required.\n",
    "X = np.vstack((x_gridflat, y_gridflat)).T\n",
    "\n",
    "prob_contour = model_prob(X).reshape(100,100) "
   ]
  },
  {
   "cell_type": "code",
   "execution_count": 29,
   "id": "da72499a",
   "metadata": {
    "execution": {
     "iopub.execute_input": "2022-04-02T00:33:25.295363Z",
     "iopub.status.busy": "2022-04-02T00:33:25.294891Z",
     "iopub.status.idle": "2022-04-02T00:33:25.515001Z",
     "shell.execute_reply": "2022-04-02T00:33:25.514579Z"
    },
    "papermill": {
     "duration": 0.2657,
     "end_time": "2022-04-02T00:33:25.515114",
     "exception": false,
     "start_time": "2022-04-02T00:33:25.249414",
     "status": "completed"
    },
    "tags": []
   },
   "outputs": [
    {
     "data": {
      "image/png": "[encoded data removed]",
      "text/plain": [
       "<Figure size 720x648 with 1 Axes>"
      ]
     },
     "metadata": {
      "needs_background": "light"
     },
     "output_type": "display_data"
    }
   ],
   "source": [
    "plt.figure(figsize=(10,9))\n",
    "plt.scatter(testing_plot[:,0], testing_plot[:,1], alpha = 0.1, c = y_test.ravel())\n",
    "contours = plt.contour(x_grid,y_grid,prob_contour)\n",
    "plt.title('Probability Contours')\n",
    "plt.clabel(contours, inline = True );"
   ]
  },
  {
   "cell_type": "code",
   "execution_count": null,
   "id": "e81b4ac7",
   "metadata": {
    "papermill": {
     "duration": 0.041639,
     "end_time": "2022-04-02T00:33:25.598672",
     "exception": false,
     "start_time": "2022-04-02T00:33:25.557033",
     "status": "completed"
    },
    "tags": []
   },
   "outputs": [],
   "source": []
  }
 ],
 "metadata": {
  "kernelspec": {
   "display_name": "Python 3",
   "language": "python",
   "name": "python3"
  },
  "language_info": {
   "codemirror_mode": {
    "name": "ipython",
    "version": 3
   },
   "file_extension": ".py",
   "mimetype": "text/x-python",
   "name": "python",
   "nbconvert_exporter": "python",
   "pygments_lexer": "ipython3",
   "version": "3.6.15"
  },
  "papermill": {
   "default_parameters": {},
   "duration": 101.972316,
   "end_time": "2022-04-02T00:33:26.059514",
   "environment_variables": {},
   "exception": null,
   "input_path": "2020-08-11-part2.ipynb",
   "output_path": "2020-08-11-part2.ipynb",
   "parameters": {},
   "start_time": "2022-04-02T00:31:44.087198",
   "version": "2.3.3"
  }
 },
 "nbformat": 4,
 "nbformat_minor": 5
}