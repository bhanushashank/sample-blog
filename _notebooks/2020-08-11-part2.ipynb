{
 "cells": [
  {
   "cell_type": "markdown",
   "id": "98380cd3",
   "metadata": {
    "papermill": {
     "duration": 0.035103,
     "end_time": "2022-01-22T10:07:05.296120",
     "exception": false,
     "start_time": "2022-01-22T10:07:05.261017",
     "status": "completed"
    },
    "tags": []
   },
   "source": [
    "# Distinguish Your Own Digits (DYOD)"
   ]
  },
  {
   "cell_type": "markdown",
   "id": "ef31240d",
   "metadata": {
    "papermill": {
     "duration": 0.02817,
     "end_time": "2022-01-22T10:07:05.353297",
     "exception": false,
     "start_time": "2022-01-22T10:07:05.325127",
     "status": "completed"
    },
    "tags": []
   },
   "source": [
    "You are going to write a classifier that distinguishes between the number 3 and number 8."
   ]
  },
  {
   "cell_type": "code",
   "execution_count": 1,
   "id": "b15c8646",
   "metadata": {
    "execution": {
     "iopub.execute_input": "2022-01-22T10:07:05.421954Z",
     "iopub.status.busy": "2022-01-22T10:07:05.421305Z",
     "iopub.status.idle": "2022-01-22T10:07:05.431723Z",
     "shell.execute_reply": "2022-01-22T10:07:05.431210Z"
    },
    "papermill": {
     "duration": 0.051723,
     "end_time": "2022-01-22T10:07:05.431880",
     "exception": false,
     "start_time": "2022-01-22T10:07:05.380157",
     "status": "completed"
    },
    "tags": []
   },
   "outputs": [],
   "source": [
    "%load_ext autoreload\n",
    "%autoreload 2"
   ]
  },
  {
   "cell_type": "code",
   "execution_count": 2,
   "id": "22ef38dc",
   "metadata": {
    "execution": {
     "iopub.execute_input": "2022-01-22T10:07:05.491747Z",
     "iopub.status.busy": "2022-01-22T10:07:05.491128Z",
     "iopub.status.idle": "2022-01-22T10:07:06.149167Z",
     "shell.execute_reply": "2022-01-22T10:07:06.148571Z"
    },
    "papermill": {
     "duration": 0.690513,
     "end_time": "2022-01-22T10:07:06.149312",
     "exception": false,
     "start_time": "2022-01-22T10:07:05.458799",
     "status": "completed"
    },
    "tags": []
   },
   "outputs": [],
   "source": [
    "%matplotlib inline\n",
    "import numpy as np\n",
    "import matplotlib.pyplot as plt\n",
    "import pandas as pd"
   ]
  },
  {
   "cell_type": "markdown",
   "id": "ba036198",
   "metadata": {
    "papermill": {
     "duration": 0.025672,
     "end_time": "2022-01-22T10:07:06.200729",
     "exception": false,
     "start_time": "2022-01-22T10:07:06.175057",
     "status": "completed"
    },
    "tags": []
   },
   "source": [
    "From the command line run `pip install mnist`. This is a library that will help you bring down the mnist dataset. If you run this from a notebook, you need to put  `!pip install mnist` in a cell by itself."
   ]
  },
  {
   "cell_type": "code",
   "execution_count": 3,
   "id": "bb6ad8a1",
   "metadata": {
    "execution": {
     "iopub.execute_input": "2022-01-22T10:07:06.260442Z",
     "iopub.status.busy": "2022-01-22T10:07:06.259478Z",
     "iopub.status.idle": "2022-01-22T10:07:08.134284Z",
     "shell.execute_reply": "2022-01-22T10:07:08.133320Z"
    },
    "papermill": {
     "duration": 1.907902,
     "end_time": "2022-01-22T10:07:08.134428",
     "exception": false,
     "start_time": "2022-01-22T10:07:06.226526",
     "status": "completed"
    },
    "tags": []
   },
   "outputs": [
    {
     "name": "stdout",
     "output_type": "stream",
     "text": [
      "Collecting mnist\r\n",
      "  Downloading mnist-0.2.2-py2.py3-none-any.whl (3.5 kB)\r\n",
      "Requirement already satisfied: numpy in /opt/hostedtoolcache/Python/3.6.15/x64/lib/python3.6/site-packages (from mnist) (1.19.5)\r\n"
     ]
    },
    {
     "name": "stdout",
     "output_type": "stream",
     "text": [
      "Installing collected packages: mnist\r\n",
      "Successfully installed mnist-0.2.2\r\n"
     ]
    }
   ],
   "source": [
    "!pip install mnist"
   ]
  },
  {
   "cell_type": "markdown",
   "id": "69df9c9a",
   "metadata": {
    "papermill": {
     "duration": 0.026753,
     "end_time": "2022-01-22T10:07:08.188347",
     "exception": false,
     "start_time": "2022-01-22T10:07:08.161594",
     "status": "completed"
    },
    "tags": []
   },
   "source": [
    "## Preparing the Data"
   ]
  },
  {
   "cell_type": "code",
   "execution_count": 4,
   "id": "7f69d806",
   "metadata": {
    "execution": {
     "iopub.execute_input": "2022-01-22T10:07:08.246418Z",
     "iopub.status.busy": "2022-01-22T10:07:08.245797Z",
     "iopub.status.idle": "2022-01-22T10:07:08.260565Z",
     "shell.execute_reply": "2022-01-22T10:07:08.260977Z"
    },
    "papermill": {
     "duration": 0.046193,
     "end_time": "2022-01-22T10:07:08.261116",
     "exception": false,
     "start_time": "2022-01-22T10:07:08.214923",
     "status": "completed"
    },
    "tags": []
   },
   "outputs": [],
   "source": [
    "import mnist"
   ]
  },
  {
   "cell_type": "code",
   "execution_count": 5,
   "id": "a411e44f",
   "metadata": {
    "execution": {
     "iopub.execute_input": "2022-01-22T10:07:08.323082Z",
     "iopub.status.busy": "2022-01-22T10:07:08.322483Z",
     "iopub.status.idle": "2022-01-22T10:07:08.881102Z",
     "shell.execute_reply": "2022-01-22T10:07:08.880538Z"
    },
    "papermill": {
     "duration": 0.592874,
     "end_time": "2022-01-22T10:07:08.881239",
     "exception": false,
     "start_time": "2022-01-22T10:07:08.288365",
     "status": "completed"
    },
    "tags": []
   },
   "outputs": [],
   "source": [
    "train_images = mnist.train_images()\n",
    "train_labels = mnist.train_labels()"
   ]
  },
  {
   "cell_type": "code",
   "execution_count": 6,
   "id": "dceab3a5",
   "metadata": {
    "execution": {
     "iopub.execute_input": "2022-01-22T10:07:08.943343Z",
     "iopub.status.busy": "2022-01-22T10:07:08.942702Z",
     "iopub.status.idle": "2022-01-22T10:07:08.957990Z",
     "shell.execute_reply": "2022-01-22T10:07:08.957414Z"
    },
    "papermill": {
     "duration": 0.049363,
     "end_time": "2022-01-22T10:07:08.958132",
     "exception": false,
     "start_time": "2022-01-22T10:07:08.908769",
     "status": "completed"
    },
    "tags": []
   },
   "outputs": [
    {
     "data": {
      "text/plain": [
       "((60000, 28, 28), (60000,))"
      ]
     },
     "execution_count": 6,
     "metadata": {},
     "output_type": "execute_result"
    }
   ],
   "source": [
    "train_images.shape, train_labels.shape"
   ]
  },
  {
   "cell_type": "code",
   "execution_count": 7,
   "id": "f50dc2bb",
   "metadata": {
    "execution": {
     "iopub.execute_input": "2022-01-22T10:07:09.019548Z",
     "iopub.status.busy": "2022-01-22T10:07:09.018409Z",
     "iopub.status.idle": "2022-01-22T10:07:09.142595Z",
     "shell.execute_reply": "2022-01-22T10:07:09.143271Z"
    },
    "papermill": {
     "duration": 0.157859,
     "end_time": "2022-01-22T10:07:09.143459",
     "exception": false,
     "start_time": "2022-01-22T10:07:08.985600",
     "status": "completed"
    },
    "tags": []
   },
   "outputs": [],
   "source": [
    "test_images = mnist.test_images()\n",
    "test_labels = mnist.test_labels()"
   ]
  },
  {
   "cell_type": "code",
   "execution_count": 8,
   "id": "fc38cf1b",
   "metadata": {
    "execution": {
     "iopub.execute_input": "2022-01-22T10:07:09.205379Z",
     "iopub.status.busy": "2022-01-22T10:07:09.204817Z",
     "iopub.status.idle": "2022-01-22T10:07:09.219493Z",
     "shell.execute_reply": "2022-01-22T10:07:09.219009Z"
    },
    "papermill": {
     "duration": 0.04703,
     "end_time": "2022-01-22T10:07:09.219626",
     "exception": false,
     "start_time": "2022-01-22T10:07:09.172596",
     "status": "completed"
    },
    "tags": []
   },
   "outputs": [
    {
     "data": {
      "text/plain": [
       "((10000, 28, 28), (10000,))"
      ]
     },
     "execution_count": 8,
     "metadata": {},
     "output_type": "execute_result"
    }
   ],
   "source": [
    "test_images.shape, test_labels.shape"
   ]
  },
  {
   "cell_type": "code",
   "execution_count": 9,
   "id": "f9ed8fe0",
   "metadata": {
    "execution": {
     "iopub.execute_input": "2022-01-22T10:07:09.281086Z",
     "iopub.status.busy": "2022-01-22T10:07:09.280491Z",
     "iopub.status.idle": "2022-01-22T10:07:09.440594Z",
     "shell.execute_reply": "2022-01-22T10:07:09.440096Z"
    },
    "papermill": {
     "duration": 0.193489,
     "end_time": "2022-01-22T10:07:09.440733",
     "exception": false,
     "start_time": "2022-01-22T10:07:09.247244",
     "status": "completed"
    },
    "tags": []
   },
   "outputs": [
    {
     "name": "stdout",
     "output_type": "stream",
     "text": [
      "2\n"
     ]
    },
    {
     "data": {
      "text/plain": [
       "<matplotlib.image.AxesImage at 0x7f341e6b3a90>"
      ]
     },
     "execution_count": 9,
     "metadata": {},
     "output_type": "execute_result"
    },
    {
     "data": {
      "image/png": "[encoded data removed]",
      "text/plain": [
       "<Figure size 432x288 with 1 Axes>"
      ]
     },
     "metadata": {
      "needs_background": "light"
     },
     "output_type": "display_data"
    }
   ],
   "source": [
    "image_index = 7776 # You may select anything up to 60,000\n",
    "print(train_labels[image_index]) \n",
    "plt.imshow(train_images[image_index], cmap='Greys')"
   ]
  },
  {
   "cell_type": "markdown",
   "id": "a8d2388d",
   "metadata": {
    "papermill": {
     "duration": 0.03075,
     "end_time": "2022-01-22T10:07:09.502386",
     "exception": false,
     "start_time": "2022-01-22T10:07:09.471636",
     "status": "completed"
    },
    "tags": []
   },
   "source": [
    "## Filter data to get 3 and 8 out"
   ]
  },
  {
   "cell_type": "code",
   "execution_count": 10,
   "id": "776f7fc7",
   "metadata": {
    "execution": {
     "iopub.execute_input": "2022-01-22T10:07:09.573165Z",
     "iopub.status.busy": "2022-01-22T10:07:09.572512Z",
     "iopub.status.idle": "2022-01-22T10:07:09.593166Z",
     "shell.execute_reply": "2022-01-22T10:07:09.592625Z"
    },
    "papermill": {
     "duration": 0.060727,
     "end_time": "2022-01-22T10:07:09.593298",
     "exception": false,
     "start_time": "2022-01-22T10:07:09.532571",
     "status": "completed"
    },
    "tags": []
   },
   "outputs": [],
   "source": [
    "train_filter = np.where((train_labels == 3 ) | (train_labels == 8))\n",
    "test_filter = np.where((test_labels == 3) | (test_labels == 8))\n",
    "X_train, y_train = train_images[train_filter], train_labels[train_filter]\n",
    "X_test, y_test = test_images[test_filter], test_labels[test_filter]"
   ]
  },
  {
   "cell_type": "markdown",
   "id": "948f0b7e",
   "metadata": {
    "papermill": {
     "duration": 0.028499,
     "end_time": "2022-01-22T10:07:09.650908",
     "exception": false,
     "start_time": "2022-01-22T10:07:09.622409",
     "status": "completed"
    },
    "tags": []
   },
   "source": [
    "We normalize the pizel values in the 0 to 1 range"
   ]
  },
  {
   "cell_type": "code",
   "execution_count": 11,
   "id": "ee4c2166",
   "metadata": {
    "execution": {
     "iopub.execute_input": "2022-01-22T10:07:09.711890Z",
     "iopub.status.busy": "2022-01-22T10:07:09.711296Z",
     "iopub.status.idle": "2022-01-22T10:07:09.770268Z",
     "shell.execute_reply": "2022-01-22T10:07:09.769542Z"
    },
    "papermill": {
     "duration": 0.091439,
     "end_time": "2022-01-22T10:07:09.770484",
     "exception": false,
     "start_time": "2022-01-22T10:07:09.679045",
     "status": "completed"
    },
    "tags": []
   },
   "outputs": [],
   "source": [
    "X_train = X_train/255.\n",
    "X_test = X_test/255."
   ]
  },
  {
   "cell_type": "markdown",
   "id": "ddcf4fab",
   "metadata": {
    "papermill": {
     "duration": 0.031764,
     "end_time": "2022-01-22T10:07:09.832482",
     "exception": false,
     "start_time": "2022-01-22T10:07:09.800718",
     "status": "completed"
    },
    "tags": []
   },
   "source": [
    "And setup the labels as 1 (when the digit is 3) and 0 (when the digit is 8)"
   ]
  },
  {
   "cell_type": "code",
   "execution_count": 12,
   "id": "7dc908f2",
   "metadata": {
    "execution": {
     "iopub.execute_input": "2022-01-22T10:07:09.902631Z",
     "iopub.status.busy": "2022-01-22T10:07:09.902024Z",
     "iopub.status.idle": "2022-01-22T10:07:09.917873Z",
     "shell.execute_reply": "2022-01-22T10:07:09.917338Z"
    },
    "papermill": {
     "duration": 0.056446,
     "end_time": "2022-01-22T10:07:09.918011",
     "exception": false,
     "start_time": "2022-01-22T10:07:09.861565",
     "status": "completed"
    },
    "tags": []
   },
   "outputs": [],
   "source": [
    "y_train = 1*(y_train==3)\n",
    "y_test = 1*(y_test==3)"
   ]
  },
  {
   "cell_type": "code",
   "execution_count": 13,
   "id": "01e4e969",
   "metadata": {
    "execution": {
     "iopub.execute_input": "2022-01-22T10:07:09.980001Z",
     "iopub.status.busy": "2022-01-22T10:07:09.979422Z",
     "iopub.status.idle": "2022-01-22T10:07:09.994212Z",
     "shell.execute_reply": "2022-01-22T10:07:09.994738Z"
    },
    "papermill": {
     "duration": 0.047961,
     "end_time": "2022-01-22T10:07:09.994879",
     "exception": false,
     "start_time": "2022-01-22T10:07:09.946918",
     "status": "completed"
    },
    "tags": []
   },
   "outputs": [
    {
     "data": {
      "text/plain": [
       "((11982, 28, 28), (1984, 28, 28))"
      ]
     },
     "execution_count": 13,
     "metadata": {},
     "output_type": "execute_result"
    }
   ],
   "source": [
    "X_train.shape, X_test.shape"
   ]
  },
  {
   "cell_type": "markdown",
   "id": "5ccf3f85",
   "metadata": {
    "papermill": {
     "duration": 0.029067,
     "end_time": "2022-01-22T10:07:10.056412",
     "exception": false,
     "start_time": "2022-01-22T10:07:10.027345",
     "status": "completed"
    },
    "tags": []
   },
   "source": [
    "We reshape the data to flatten the image pixels into a set of features or co-variates:"
   ]
  },
  {
   "cell_type": "code",
   "execution_count": 14,
   "id": "5286a4a3",
   "metadata": {
    "execution": {
     "iopub.execute_input": "2022-01-22T10:07:10.120978Z",
     "iopub.status.busy": "2022-01-22T10:07:10.120359Z",
     "iopub.status.idle": "2022-01-22T10:07:10.137044Z",
     "shell.execute_reply": "2022-01-22T10:07:10.136535Z"
    },
    "papermill": {
     "duration": 0.051351,
     "end_time": "2022-01-22T10:07:10.137173",
     "exception": false,
     "start_time": "2022-01-22T10:07:10.085822",
     "status": "completed"
    },
    "tags": []
   },
   "outputs": [
    {
     "data": {
      "text/plain": [
       "((11982, 784), (1984, 784))"
      ]
     },
     "execution_count": 14,
     "metadata": {},
     "output_type": "execute_result"
    }
   ],
   "source": [
    "X_train = X_train.reshape(X_train.shape[0], -1)\n",
    "X_test = X_test.reshape(X_test.shape[0], -1)\n",
    "X_train.shape, X_test.shape"
   ]
  },
  {
   "cell_type": "code",
   "execution_count": 15,
   "id": "73c5f88a",
   "metadata": {
    "execution": {
     "iopub.execute_input": "2022-01-22T10:07:10.201390Z",
     "iopub.status.busy": "2022-01-22T10:07:10.200762Z",
     "iopub.status.idle": "2022-01-22T10:07:10.224021Z",
     "shell.execute_reply": "2022-01-22T10:07:10.223264Z"
    },
    "papermill": {
     "duration": 0.057294,
     "end_time": "2022-01-22T10:07:10.224150",
     "exception": false,
     "start_time": "2022-01-22T10:07:10.166856",
     "status": "completed"
    },
    "tags": []
   },
   "outputs": [],
   "source": [
    "#Impoting functions from 'Kudzu'\n",
    "from kudzu.model import Model\n",
    "from kudzu.train import Learner\n",
    "from kudzu.optim import GD\n",
    "from kudzu.data import Data, Sampler,Dataloader\n",
    "\n",
    "from kudzu.callbacks import AccCallback\n",
    "from kudzu.callbacks import ClfCallback\n",
    "\n",
    "from kudzu.loss import MSE\n",
    "\n",
    "from kudzu.layer import Sigmoid,Relu\n",
    "from kudzu.layer import Affine"
   ]
  },
  {
   "cell_type": "markdown",
   "id": "bc01172a",
   "metadata": {
    "papermill": {
     "duration": 0.030547,
     "end_time": "2022-01-22T10:07:10.284867",
     "exception": false,
     "start_time": "2022-01-22T10:07:10.254320",
     "status": "completed"
    },
    "tags": []
   },
   "source": [
    "### Let us create a `Config` class, to store important parameters. \n",
    "This class essentially plays the role of a dictionary."
   ]
  },
  {
   "cell_type": "code",
   "execution_count": 16,
   "id": "978281aa",
   "metadata": {
    "execution": {
     "iopub.execute_input": "2022-01-22T10:07:10.351349Z",
     "iopub.status.busy": "2022-01-22T10:07:10.350721Z",
     "iopub.status.idle": "2022-01-22T10:07:10.364470Z",
     "shell.execute_reply": "2022-01-22T10:07:10.363963Z"
    },
    "papermill": {
     "duration": 0.047843,
     "end_time": "2022-01-22T10:07:10.364598",
     "exception": false,
     "start_time": "2022-01-22T10:07:10.316755",
     "status": "completed"
    },
    "tags": []
   },
   "outputs": [],
   "source": [
    "class Config:\n",
    "    pass\n",
    "config = Config()\n",
    "config.lr = 0.001\n",
    "config.num_epochs = 250\n",
    "config.bs = 50"
   ]
  },
  {
   "cell_type": "markdown",
   "id": "1385fa59",
   "metadata": {
    "papermill": {
     "duration": 0.030839,
     "end_time": "2022-01-22T10:07:10.425696",
     "exception": false,
     "start_time": "2022-01-22T10:07:10.394857",
     "status": "completed"
    },
    "tags": []
   },
   "source": [
    "### Running Models with the Training data\n",
    "Details about the network layers:\n",
    "- A first affine layer has 784 inputs and does 100 affine transforms. These are followed by a Relu\n",
    "- A second affine layer has 100 inputs from the 100 activations of the past layer, and does 100 affine transforms. These are followed by a Relu\n",
    "- A third affine layer has 100 activations and does 2 affine transformations to create an embedding for visualization. There is no non-linearity here.\n",
    "- A final \"logistic regression\" which has an affine transform from 2 inputs to 1 output, which is squeezed through a sigmoid.\n"
   ]
  },
  {
   "cell_type": "code",
   "execution_count": 17,
   "id": "2b9c66db",
   "metadata": {
    "execution": {
     "iopub.execute_input": "2022-01-22T10:07:10.493541Z",
     "iopub.status.busy": "2022-01-22T10:07:10.492919Z",
     "iopub.status.idle": "2022-01-22T10:07:10.506085Z",
     "shell.execute_reply": "2022-01-22T10:07:10.505570Z"
    },
    "papermill": {
     "duration": 0.048999,
     "end_time": "2022-01-22T10:07:10.506222",
     "exception": false,
     "start_time": "2022-01-22T10:07:10.457223",
     "status": "completed"
    },
    "tags": []
   },
   "outputs": [],
   "source": [
    "data = Data(X_train, y_train.reshape(-1,1))\n",
    "sampler = Sampler(data, config.bs, shuffle=True)\n",
    "\n",
    "dl = Dataloader(data, sampler)\n",
    "\n",
    "opt = GD(config.lr)\n",
    "loss = MSE()"
   ]
  },
  {
   "cell_type": "code",
   "execution_count": 18,
   "id": "b275e4c2",
   "metadata": {
    "execution": {
     "iopub.execute_input": "2022-01-22T10:07:10.574957Z",
     "iopub.status.busy": "2022-01-22T10:07:10.574282Z",
     "iopub.status.idle": "2022-01-22T10:07:10.585531Z",
     "shell.execute_reply": "2022-01-22T10:07:10.585019Z"
    },
    "papermill": {
     "duration": 0.049513,
     "end_time": "2022-01-22T10:07:10.585659",
     "exception": false,
     "start_time": "2022-01-22T10:07:10.536146",
     "status": "completed"
    },
    "tags": []
   },
   "outputs": [],
   "source": [
    "training_data_x = X_train\n",
    "testing_data_x = X_test\n",
    "training_data_y = y_train.reshape(-1,1)\n",
    "testing_data_y = y_test.reshape(-1,1)"
   ]
  },
  {
   "cell_type": "code",
   "execution_count": 19,
   "id": "76951160",
   "metadata": {
    "execution": {
     "iopub.execute_input": "2022-01-22T10:07:10.649078Z",
     "iopub.status.busy": "2022-01-22T10:07:10.648502Z",
     "iopub.status.idle": "2022-01-22T10:07:10.667001Z",
     "shell.execute_reply": "2022-01-22T10:07:10.666481Z"
    },
    "papermill": {
     "duration": 0.052409,
     "end_time": "2022-01-22T10:07:10.667147",
     "exception": false,
     "start_time": "2022-01-22T10:07:10.614738",
     "status": "completed"
    },
    "tags": []
   },
   "outputs": [
    {
     "name": "stdout",
     "output_type": "stream",
     "text": [
      "xavier\n",
      "xavier\n",
      "xavier\n",
      "xavier\n",
      "xavier\n"
     ]
    }
   ],
   "source": [
    "layers = [Affine(\"first\", 784, 100), Relu(\"first\"), Affine(\"second\", 100, 100), Relu(\"second\"), Affine(\"third\", 100, 2), Affine(\"last\", 2, 1), Sigmoid(\"last\")]\n",
    "model_nn = Model(layers)\n",
    "model_lr = Model([Affine(\"logits\", 784, 1), Sigmoid(\"sigmoid\")])"
   ]
  },
  {
   "cell_type": "code",
   "execution_count": 20,
   "id": "6eede77a",
   "metadata": {
    "execution": {
     "iopub.execute_input": "2022-01-22T10:07:10.729692Z",
     "iopub.status.busy": "2022-01-22T10:07:10.729104Z",
     "iopub.status.idle": "2022-01-22T10:07:10.742753Z",
     "shell.execute_reply": "2022-01-22T10:07:10.742214Z"
    },
    "papermill": {
     "duration": 0.046596,
     "end_time": "2022-01-22T10:07:10.742886",
     "exception": false,
     "start_time": "2022-01-22T10:07:10.696290",
     "status": "completed"
    },
    "tags": []
   },
   "outputs": [],
   "source": [
    "nn_learner = Learner(loss, model_nn, opt, config.num_epochs)\n",
    "acc_nn = ClfCallback(nn_learner, config.bs, training_data_x , testing_data_x, training_data_y, testing_data_y)\n",
    "nn_learner.set_callbacks([acc_nn])"
   ]
  },
  {
   "cell_type": "code",
   "execution_count": 21,
   "id": "877b6cc7",
   "metadata": {
    "execution": {
     "iopub.execute_input": "2022-01-22T10:07:10.806409Z",
     "iopub.status.busy": "2022-01-22T10:07:10.805804Z",
     "iopub.status.idle": "2022-01-22T10:07:10.820329Z",
     "shell.execute_reply": "2022-01-22T10:07:10.820783Z"
    },
    "papermill": {
     "duration": 0.048937,
     "end_time": "2022-01-22T10:07:10.820935",
     "exception": false,
     "start_time": "2022-01-22T10:07:10.771998",
     "status": "completed"
    },
    "tags": []
   },
   "outputs": [],
   "source": [
    "lr_learner = Learner(loss, model_lr, opt, config.num_epochs)\n",
    "acc_lr = ClfCallback(lr_learner, config.bs, training_data_x , testing_data_x, training_data_y, testing_data_y)\n",
    "lr_learner.set_callbacks([acc_lr])"
   ]
  },
  {
   "cell_type": "code",
   "execution_count": 22,
   "id": "d9b133c3",
   "metadata": {
    "execution": {
     "iopub.execute_input": "2022-01-22T10:07:10.887465Z",
     "iopub.status.busy": "2022-01-22T10:07:10.886849Z",
     "iopub.status.idle": "2022-01-22T10:08:37.962532Z",
     "shell.execute_reply": "2022-01-22T10:08:37.963399Z"
    },
    "papermill": {
     "duration": 87.112058,
     "end_time": "2022-01-22T10:08:37.963564",
     "exception": false,
     "start_time": "2022-01-22T10:07:10.851506",
     "status": "completed"
    },
    "tags": []
   },
   "outputs": [
    {
     "name": "stdout",
     "output_type": "stream",
     "text": [
      "Epoch 0, Loss 0.2271\n",
      "Training Accuracy: 0.7772, Testing Accuracy: 0.7641\n",
      "\n"
     ]
    },
    {
     "name": "stdout",
     "output_type": "stream",
     "text": [
      "Epoch 10, Loss 0.0533\n",
      "Training Accuracy: 0.9432, Testing Accuracy: 0.9526\n",
      "\n"
     ]
    },
    {
     "name": "stdout",
     "output_type": "stream",
     "text": [
      "Epoch 20, Loss 0.0393\n",
      "Training Accuracy: 0.9556, Testing Accuracy: 0.9647\n",
      "\n"
     ]
    },
    {
     "name": "stdout",
     "output_type": "stream",
     "text": [
      "Epoch 30, Loss 0.0335\n",
      "Training Accuracy: 0.9607, Testing Accuracy: 0.9693\n",
      "\n"
     ]
    },
    {
     "name": "stdout",
     "output_type": "stream",
     "text": [
      "Epoch 40, Loss 0.0301\n",
      "Training Accuracy: 0.9657, Testing Accuracy: 0.9708\n",
      "\n"
     ]
    },
    {
     "name": "stdout",
     "output_type": "stream",
     "text": [
      "Epoch 50, Loss 0.0277\n",
      "Training Accuracy: 0.9680, Testing Accuracy: 0.9708\n",
      "\n"
     ]
    },
    {
     "name": "stdout",
     "output_type": "stream",
     "text": [
      "Epoch 60, Loss 0.026\n",
      "Training Accuracy: 0.9700, Testing Accuracy: 0.9713\n",
      "\n"
     ]
    },
    {
     "name": "stdout",
     "output_type": "stream",
     "text": [
      "Epoch 70, Loss 0.0245\n",
      "Training Accuracy: 0.9718, Testing Accuracy: 0.9718\n",
      "\n"
     ]
    },
    {
     "name": "stdout",
     "output_type": "stream",
     "text": [
      "Epoch 80, Loss 0.0233\n",
      "Training Accuracy: 0.9734, Testing Accuracy: 0.9723\n",
      "\n"
     ]
    },
    {
     "name": "stdout",
     "output_type": "stream",
     "text": [
      "Epoch 90, Loss 0.0223\n",
      "Training Accuracy: 0.9747, Testing Accuracy: 0.9723\n",
      "\n"
     ]
    },
    {
     "name": "stdout",
     "output_type": "stream",
     "text": [
      "Epoch 100, Loss 0.0213\n",
      "Training Accuracy: 0.9756, Testing Accuracy: 0.9733\n",
      "\n"
     ]
    },
    {
     "name": "stdout",
     "output_type": "stream",
     "text": [
      "Epoch 110, Loss 0.0205\n",
      "Training Accuracy: 0.9762, Testing Accuracy: 0.9743\n",
      "\n"
     ]
    },
    {
     "name": "stdout",
     "output_type": "stream",
     "text": [
      "Epoch 120, Loss 0.0197\n",
      "Training Accuracy: 0.9776, Testing Accuracy: 0.9748\n",
      "\n"
     ]
    },
    {
     "name": "stdout",
     "output_type": "stream",
     "text": [
      "Epoch 130, Loss 0.0189\n",
      "Training Accuracy: 0.9791, Testing Accuracy: 0.9758\n",
      "\n"
     ]
    },
    {
     "name": "stdout",
     "output_type": "stream",
     "text": [
      "Epoch 140, Loss 0.0182\n",
      "Training Accuracy: 0.9797, Testing Accuracy: 0.9758\n",
      "\n"
     ]
    },
    {
     "name": "stdout",
     "output_type": "stream",
     "text": [
      "Epoch 150, Loss 0.0176\n",
      "Training Accuracy: 0.9806, Testing Accuracy: 0.9763\n",
      "\n"
     ]
    },
    {
     "name": "stdout",
     "output_type": "stream",
     "text": [
      "Epoch 160, Loss 0.017\n",
      "Training Accuracy: 0.9813, Testing Accuracy: 0.9773\n",
      "\n"
     ]
    },
    {
     "name": "stdout",
     "output_type": "stream",
     "text": [
      "Epoch 170, Loss 0.0164\n",
      "Training Accuracy: 0.9822, Testing Accuracy: 0.9773\n",
      "\n"
     ]
    },
    {
     "name": "stdout",
     "output_type": "stream",
     "text": [
      "Epoch 180, Loss 0.0159\n",
      "Training Accuracy: 0.9831, Testing Accuracy: 0.9778\n",
      "\n"
     ]
    },
    {
     "name": "stdout",
     "output_type": "stream",
     "text": [
      "Epoch 190, Loss 0.0154\n",
      "Training Accuracy: 0.9839, Testing Accuracy: 0.9778\n",
      "\n"
     ]
    },
    {
     "name": "stdout",
     "output_type": "stream",
     "text": [
      "Epoch 200, Loss 0.0149\n",
      "Training Accuracy: 0.9849, Testing Accuracy: 0.9788\n",
      "\n"
     ]
    },
    {
     "name": "stdout",
     "output_type": "stream",
     "text": [
      "Epoch 210, Loss 0.0145\n",
      "Training Accuracy: 0.9855, Testing Accuracy: 0.9793\n",
      "\n"
     ]
    },
    {
     "name": "stdout",
     "output_type": "stream",
     "text": [
      "Epoch 220, Loss 0.014\n",
      "Training Accuracy: 0.9860, Testing Accuracy: 0.9793\n",
      "\n"
     ]
    },
    {
     "name": "stdout",
     "output_type": "stream",
     "text": [
      "Epoch 230, Loss 0.0136\n",
      "Training Accuracy: 0.9865, Testing Accuracy: 0.9798\n",
      "\n"
     ]
    },
    {
     "name": "stdout",
     "output_type": "stream",
     "text": [
      "Epoch 240, Loss 0.0132\n",
      "Training Accuracy: 0.9868, Testing Accuracy: 0.9803\n",
      "\n"
     ]
    },
    {
     "data": {
      "text/plain": [
       "0.017094817468461983"
      ]
     },
     "execution_count": 22,
     "metadata": {},
     "output_type": "execute_result"
    }
   ],
   "source": [
    "nn_learner.train_loop(dl)"
   ]
  },
  {
   "cell_type": "code",
   "execution_count": 23,
   "id": "e0163366",
   "metadata": {
    "execution": {
     "iopub.execute_input": "2022-01-22T10:08:38.055203Z",
     "iopub.status.busy": "2022-01-22T10:08:38.054504Z",
     "iopub.status.idle": "2022-01-22T10:08:53.630878Z",
     "shell.execute_reply": "2022-01-22T10:08:53.631715Z"
    },
    "papermill": {
     "duration": 15.629678,
     "end_time": "2022-01-22T10:08:53.631877",
     "exception": false,
     "start_time": "2022-01-22T10:08:38.002199",
     "status": "completed"
    },
    "tags": []
   },
   "outputs": [
    {
     "name": "stdout",
     "output_type": "stream",
     "text": [
      "Epoch 0, Loss 0.2603\n",
      "Training Accuracy: 0.6273, Testing Accuracy: 0.6326\n",
      "\n"
     ]
    },
    {
     "name": "stdout",
     "output_type": "stream",
     "text": [
      "Epoch 10, Loss 0.1065\n",
      "Training Accuracy: 0.9017, Testing Accuracy: 0.9047\n",
      "\n"
     ]
    },
    {
     "name": "stdout",
     "output_type": "stream",
     "text": [
      "Epoch 20, Loss 0.0813\n",
      "Training Accuracy: 0.9210, Testing Accuracy: 0.9304\n",
      "\n"
     ]
    },
    {
     "name": "stdout",
     "output_type": "stream",
     "text": [
      "Epoch 30, Loss 0.0697\n",
      "Training Accuracy: 0.9331, Testing Accuracy: 0.9415\n",
      "\n"
     ]
    },
    {
     "name": "stdout",
     "output_type": "stream",
     "text": [
      "Epoch 40, Loss 0.0628\n",
      "Training Accuracy: 0.9398, Testing Accuracy: 0.9461\n",
      "\n"
     ]
    },
    {
     "name": "stdout",
     "output_type": "stream",
     "text": [
      "Epoch 50, Loss 0.058\n",
      "Training Accuracy: 0.9438, Testing Accuracy: 0.9526\n",
      "\n"
     ]
    },
    {
     "name": "stdout",
     "output_type": "stream",
     "text": [
      "Epoch 60, Loss 0.0546\n",
      "Training Accuracy: 0.9470, Testing Accuracy: 0.9546\n",
      "\n"
     ]
    },
    {
     "name": "stdout",
     "output_type": "stream",
     "text": [
      "Epoch 70, Loss 0.0519\n",
      "Training Accuracy: 0.9488, Testing Accuracy: 0.9567\n",
      "\n"
     ]
    },
    {
     "name": "stdout",
     "output_type": "stream",
     "text": [
      "Epoch 80, Loss 0.0497\n",
      "Training Accuracy: 0.9503, Testing Accuracy: 0.9597\n",
      "\n"
     ]
    },
    {
     "name": "stdout",
     "output_type": "stream",
     "text": [
      "Epoch 90, Loss 0.048\n",
      "Training Accuracy: 0.9516, Testing Accuracy: 0.9602\n",
      "\n"
     ]
    },
    {
     "name": "stdout",
     "output_type": "stream",
     "text": [
      "Epoch 100, Loss 0.0465\n",
      "Training Accuracy: 0.9531, Testing Accuracy: 0.9617\n",
      "\n"
     ]
    },
    {
     "name": "stdout",
     "output_type": "stream",
     "text": [
      "Epoch 110, Loss 0.0452\n",
      "Training Accuracy: 0.9538, Testing Accuracy: 0.9627\n",
      "\n"
     ]
    },
    {
     "name": "stdout",
     "output_type": "stream",
     "text": [
      "Epoch 120, Loss 0.0441\n",
      "Training Accuracy: 0.9544, Testing Accuracy: 0.9632\n",
      "\n"
     ]
    },
    {
     "name": "stdout",
     "output_type": "stream",
     "text": [
      "Epoch 130, Loss 0.0432\n",
      "Training Accuracy: 0.9557, Testing Accuracy: 0.9637\n",
      "\n"
     ]
    },
    {
     "name": "stdout",
     "output_type": "stream",
     "text": [
      "Epoch 140, Loss 0.0423\n",
      "Training Accuracy: 0.9564, Testing Accuracy: 0.9632\n",
      "\n"
     ]
    },
    {
     "name": "stdout",
     "output_type": "stream",
     "text": [
      "Epoch 150, Loss 0.0415\n",
      "Training Accuracy: 0.9574, Testing Accuracy: 0.9637\n",
      "\n"
     ]
    },
    {
     "name": "stdout",
     "output_type": "stream",
     "text": [
      "Epoch 160, Loss 0.0408\n",
      "Training Accuracy: 0.9584, Testing Accuracy: 0.9647\n",
      "\n"
     ]
    },
    {
     "name": "stdout",
     "output_type": "stream",
     "text": [
      "Epoch 170, Loss 0.0402\n",
      "Training Accuracy: 0.9589, Testing Accuracy: 0.9652\n",
      "\n"
     ]
    },
    {
     "name": "stdout",
     "output_type": "stream",
     "text": [
      "Epoch 180, Loss 0.0396\n",
      "Training Accuracy: 0.9594, Testing Accuracy: 0.9652\n",
      "\n"
     ]
    },
    {
     "name": "stdout",
     "output_type": "stream",
     "text": [
      "Epoch 190, Loss 0.0391\n",
      "Training Accuracy: 0.9599, Testing Accuracy: 0.9657\n",
      "\n"
     ]
    },
    {
     "name": "stdout",
     "output_type": "stream",
     "text": [
      "Epoch 200, Loss 0.0386\n",
      "Training Accuracy: 0.9602, Testing Accuracy: 0.9667\n",
      "\n"
     ]
    },
    {
     "name": "stdout",
     "output_type": "stream",
     "text": [
      "Epoch 210, Loss 0.0382\n",
      "Training Accuracy: 0.9604, Testing Accuracy: 0.9672\n",
      "\n"
     ]
    },
    {
     "name": "stdout",
     "output_type": "stream",
     "text": [
      "Epoch 220, Loss 0.0377\n",
      "Training Accuracy: 0.9608, Testing Accuracy: 0.9682\n",
      "\n"
     ]
    },
    {
     "name": "stdout",
     "output_type": "stream",
     "text": [
      "Epoch 230, Loss 0.0373\n",
      "Training Accuracy: 0.9611, Testing Accuracy: 0.9682\n",
      "\n"
     ]
    },
    {
     "name": "stdout",
     "output_type": "stream",
     "text": [
      "Epoch 240, Loss 0.037\n",
      "Training Accuracy: 0.9612, Testing Accuracy: 0.9682\n",
      "\n"
     ]
    },
    {
     "data": {
      "text/plain": [
       "0.05037037307712278"
      ]
     },
     "execution_count": 23,
     "metadata": {},
     "output_type": "execute_result"
    }
   ],
   "source": [
    "lr_learner.train_loop(dl)"
   ]
  },
  {
   "cell_type": "code",
   "execution_count": 24,
   "id": "ca410940",
   "metadata": {
    "execution": {
     "iopub.execute_input": "2022-01-22T10:08:53.740349Z",
     "iopub.status.busy": "2022-01-22T10:08:53.739714Z",
     "iopub.status.idle": "2022-01-22T10:08:54.001949Z",
     "shell.execute_reply": "2022-01-22T10:08:54.001418Z"
    },
    "papermill": {
     "duration": 0.323546,
     "end_time": "2022-01-22T10:08:54.002084",
     "exception": false,
     "start_time": "2022-01-22T10:08:53.678538",
     "status": "completed"
    },
    "tags": []
   },
   "outputs": [
    {
     "data": {
      "text/plain": [
       "<matplotlib.legend.Legend at 0x7f341e20ef60>"
      ]
     },
     "execution_count": 24,
     "metadata": {},
     "output_type": "execute_result"
    },
    {
     "data": {
      "image/png": "[encoded data removed]",
      "text/plain": [
       "<Figure size 1080x720 with 1 Axes>"
      ]
     },
     "metadata": {
      "needs_background": "light"
     },
     "output_type": "display_data"
    }
   ],
   "source": [
    "#comparing the results of NN and LR\n",
    "plt.figure(figsize=(15,10))\n",
    "\n",
    "# Neural Network plots\n",
    "plt.plot(acc_nn.accuracies, 'r-', label = \"Training Accuracies - NN\")\n",
    "plt.plot(acc_nn.test_accuracies, 'g-', label = \"Testing Accuracies - NN\")\n",
    "\n",
    "# Logistic Regression plots\n",
    "plt.plot(acc_lr.accuracies, 'k-', label = \"Training Accuracies - LR\")\n",
    "plt.plot(acc_lr.test_accuracies, 'b-', label = \"Testing Accuracies - LR\")\n",
    "plt.legend()"
   ]
  },
  {
   "cell_type": "markdown",
   "id": "80dfb35c",
   "metadata": {
    "papermill": {
     "duration": 0.051249,
     "end_time": "2022-01-22T10:08:54.104079",
     "exception": false,
     "start_time": "2022-01-22T10:08:54.052830",
     "status": "completed"
    },
    "tags": []
   },
   "source": [
    "#### Plotting the outputs of this layer of the NN.\n"
   ]
  },
  {
   "cell_type": "code",
   "execution_count": 25,
   "id": "45eb2ff5",
   "metadata": {
    "execution": {
     "iopub.execute_input": "2022-01-22T10:08:54.209905Z",
     "iopub.status.busy": "2022-01-22T10:08:54.209025Z",
     "iopub.status.idle": "2022-01-22T10:08:54.232121Z",
     "shell.execute_reply": "2022-01-22T10:08:54.232999Z"
    },
    "papermill": {
     "duration": 0.080698,
     "end_time": "2022-01-22T10:08:54.233180",
     "exception": false,
     "start_time": "2022-01-22T10:08:54.152482",
     "status": "completed"
    },
    "tags": []
   },
   "outputs": [],
   "source": [
    "new_model = Model(layers[:-2])\n",
    "testing_plot = new_model(testing_data_x)"
   ]
  },
  {
   "cell_type": "code",
   "execution_count": 26,
   "id": "4c0a5485",
   "metadata": {
    "execution": {
     "iopub.execute_input": "2022-01-22T10:08:54.346237Z",
     "iopub.status.busy": "2022-01-22T10:08:54.342313Z",
     "iopub.status.idle": "2022-01-22T10:08:54.573347Z",
     "shell.execute_reply": "2022-01-22T10:08:54.573931Z"
    },
    "papermill": {
     "duration": 0.289307,
     "end_time": "2022-01-22T10:08:54.574090",
     "exception": false,
     "start_time": "2022-01-22T10:08:54.284783",
     "status": "completed"
    },
    "tags": []
   },
   "outputs": [
    {
     "data": {
      "text/plain": [
       "Text(0.5, 1.0, 'Outputs')"
      ]
     },
     "execution_count": 26,
     "metadata": {},
     "output_type": "execute_result"
    },
    {
     "data": {
      "image/png": "[encoded data removed]",
      "text/plain": [
       "<Figure size 576x504 with 1 Axes>"
      ]
     },
     "metadata": {
      "needs_background": "light"
     },
     "output_type": "display_data"
    }
   ],
   "source": [
    "# Plotting the scatter plot of points and color coding by class\n",
    "plt.figure(figsize=(8,7))\n",
    "plt.scatter(testing_plot[:,0], testing_plot[:,1], alpha = 0.1, c = y_test.ravel());\n",
    "plt.title('Outputs')"
   ]
  },
  {
   "cell_type": "markdown",
   "id": "a74fcf8f",
   "metadata": {
    "papermill": {
     "duration": 0.052271,
     "end_time": "2022-01-22T10:08:54.677158",
     "exception": false,
     "start_time": "2022-01-22T10:08:54.624887",
     "status": "completed"
    },
    "tags": []
   },
   "source": [
    "Probability contours"
   ]
  },
  {
   "cell_type": "code",
   "execution_count": 27,
   "id": "d0afc8e3",
   "metadata": {
    "execution": {
     "iopub.execute_input": "2022-01-22T10:08:54.786193Z",
     "iopub.status.busy": "2022-01-22T10:08:54.785568Z",
     "iopub.status.idle": "2022-01-22T10:08:54.799817Z",
     "shell.execute_reply": "2022-01-22T10:08:54.800307Z"
    },
    "papermill": {
     "duration": 0.071423,
     "end_time": "2022-01-22T10:08:54.800462",
     "exception": false,
     "start_time": "2022-01-22T10:08:54.729039",
     "status": "completed"
    },
    "tags": []
   },
   "outputs": [],
   "source": [
    "model_prob = Model(layers[-2:]) "
   ]
  },
  {
   "cell_type": "code",
   "execution_count": 28,
   "id": "9b96e238",
   "metadata": {
    "execution": {
     "iopub.execute_input": "2022-01-22T10:08:54.908345Z",
     "iopub.status.busy": "2022-01-22T10:08:54.907662Z",
     "iopub.status.idle": "2022-01-22T10:08:54.921672Z",
     "shell.execute_reply": "2022-01-22T10:08:54.922141Z"
    },
    "papermill": {
     "duration": 0.070981,
     "end_time": "2022-01-22T10:08:54.922299",
     "exception": false,
     "start_time": "2022-01-22T10:08:54.851318",
     "status": "completed"
    },
    "tags": []
   },
   "outputs": [],
   "source": [
    "#creating the x and y ranges according to the above generated plot.\n",
    "x_range = np.linspace(-4, 1, 100) \n",
    "y_range = np.linspace(-6, 6, 100) \n",
    "x_grid, y_grid = np.meshgrid(x_range, y_range) # x_grid and y_grig are of size 100 X 100\n",
    "\n",
    "# converting x_grid and y_grid to continuous arrays\n",
    "x_gridflat = np.ravel(x_grid)\n",
    "y_gridflat = np.ravel(y_grid)\n",
    "\n",
    "# The last layer of the current model takes two columns as input. Hence transpose of np.vstack() is required.\n",
    "X = np.vstack((x_gridflat, y_gridflat)).T\n",
    "\n",
    "prob_contour = model_prob(X).reshape(100,100) "
   ]
  },
  {
   "cell_type": "code",
   "execution_count": 29,
   "id": "da72499a",
   "metadata": {
    "execution": {
     "iopub.execute_input": "2022-01-22T10:08:55.062092Z",
     "iopub.status.busy": "2022-01-22T10:08:55.061251Z",
     "iopub.status.idle": "2022-01-22T10:08:55.361384Z",
     "shell.execute_reply": "2022-01-22T10:08:55.360854Z"
    },
    "papermill": {
     "duration": 0.38867,
     "end_time": "2022-01-22T10:08:55.361522",
     "exception": false,
     "start_time": "2022-01-22T10:08:54.972852",
     "status": "completed"
    },
    "tags": []
   },
   "outputs": [
    {
     "data": {
      "image/png": "[encoded data removed]",
      "text/plain": [
       "<Figure size 720x648 with 1 Axes>"
      ]
     },
     "metadata": {
      "needs_background": "light"
     },
     "output_type": "display_data"
    }
   ],
   "source": [
    "plt.figure(figsize=(10,9))\n",
    "plt.scatter(testing_plot[:,0], testing_plot[:,1], alpha = 0.1, c = y_test.ravel())\n",
    "contours = plt.contour(x_grid,y_grid,prob_contour)\n",
    "plt.title('Probability Contours')\n",
    "plt.clabel(contours, inline = True );"
   ]
  },
  {
   "cell_type": "code",
   "execution_count": null,
   "id": "e81b4ac7",
   "metadata": {
    "papermill": {
     "duration": 0.052617,
     "end_time": "2022-01-22T10:08:55.467205",
     "exception": false,
     "start_time": "2022-01-22T10:08:55.414588",
     "status": "completed"
    },
    "tags": []
   },
   "outputs": [],
   "source": []
  }
 ],
 "metadata": {
  "kernelspec": {
   "display_name": "Python 3",
   "language": "python",
   "name": "python3"
  },
  "language_info": {
   "codemirror_mode": {
    "name": "ipython",
    "version": 3
   },
   "file_extension": ".py",
   "mimetype": "text/x-python",
   "name": "python",
   "nbconvert_exporter": "python",
   "pygments_lexer": "ipython3",
   "version": "3.6.15"
  },
  "papermill": {
   "default_parameters": {},
   "duration": 111.97499,
   "end_time": "2022-01-22T10:08:55.939145",
   "environment_variables": {},
   "exception": null,
   "input_path": "2020-08-11-part2.ipynb",
   "output_path": "2020-08-11-part2.ipynb",
   "parameters": {},
   "start_time": "2022-01-22T10:07:03.964155",
   "version": "2.3.3"
  }
 },
 "nbformat": 4,
 "nbformat_minor": 5
}