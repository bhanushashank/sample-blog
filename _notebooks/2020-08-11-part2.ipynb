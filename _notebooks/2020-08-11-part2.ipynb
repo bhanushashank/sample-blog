{
 "cells": [
  {
   "cell_type": "markdown",
   "id": "98380cd3",
   "metadata": {
    "papermill": {
     "duration": 0.029178,
     "end_time": "2022-11-26T20:09:26.560571",
     "exception": false,
     "start_time": "2022-11-26T20:09:26.531393",
     "status": "completed"
    },
    "tags": []
   },
   "source": [
    "# Distinguish Your Own Digits (DYOD)"
   ]
  },
  {
   "cell_type": "markdown",
   "id": "ef31240d",
   "metadata": {
    "papermill": {
     "duration": 0.024083,
     "end_time": "2022-11-26T20:09:26.609459",
     "exception": false,
     "start_time": "2022-11-26T20:09:26.585376",
     "status": "completed"
    },
    "tags": []
   },
   "source": [
    "You are going to write a classifier that distinguishes between the number 3 and number 8."
   ]
  },
  {
   "cell_type": "code",
   "execution_count": 1,
   "id": "b15c8646",
   "metadata": {
    "execution": {
     "iopub.execute_input": "2022-11-26T20:09:26.669343Z",
     "iopub.status.busy": "2022-11-26T20:09:26.667315Z",
     "iopub.status.idle": "2022-11-26T20:09:26.677736Z",
     "shell.execute_reply": "2022-11-26T20:09:26.677246Z"
    },
    "papermill": {
     "duration": 0.044313,
     "end_time": "2022-11-26T20:09:26.677852",
     "exception": false,
     "start_time": "2022-11-26T20:09:26.633539",
     "status": "completed"
    },
    "tags": []
   },
   "outputs": [],
   "source": [
    "%load_ext autoreload\n",
    "%autoreload 2"
   ]
  },
  {
   "cell_type": "code",
   "execution_count": 2,
   "id": "22ef38dc",
   "metadata": {
    "execution": {
     "iopub.execute_input": "2022-11-26T20:09:26.730243Z",
     "iopub.status.busy": "2022-11-26T20:09:26.729680Z",
     "iopub.status.idle": "2022-11-26T20:09:27.229108Z",
     "shell.execute_reply": "2022-11-26T20:09:27.228628Z"
    },
    "papermill": {
     "duration": 0.527037,
     "end_time": "2022-11-26T20:09:27.229222",
     "exception": false,
     "start_time": "2022-11-26T20:09:26.702185",
     "status": "completed"
    },
    "tags": []
   },
   "outputs": [],
   "source": [
    "%matplotlib inline\n",
    "import numpy as np\n",
    "import matplotlib.pyplot as plt\n",
    "import pandas as pd"
   ]
  },
  {
   "cell_type": "markdown",
   "id": "ba036198",
   "metadata": {
    "papermill": {
     "duration": 0.024219,
     "end_time": "2022-11-26T20:09:27.277796",
     "exception": false,
     "start_time": "2022-11-26T20:09:27.253577",
     "status": "completed"
    },
    "tags": []
   },
   "source": [
    "From the command line run `pip install mnist`. This is a library that will help you bring down the mnist dataset. If you run this from a notebook, you need to put  `!pip install mnist` in a cell by itself."
   ]
  },
  {
   "cell_type": "code",
   "execution_count": 3,
   "id": "bb6ad8a1",
   "metadata": {
    "execution": {
     "iopub.execute_input": "2022-11-26T20:09:27.330145Z",
     "iopub.status.busy": "2022-11-26T20:09:27.329563Z",
     "iopub.status.idle": "2022-11-26T20:09:29.020612Z",
     "shell.execute_reply": "2022-11-26T20:09:29.019657Z"
    },
    "papermill": {
     "duration": 1.718254,
     "end_time": "2022-11-26T20:09:29.020733",
     "exception": false,
     "start_time": "2022-11-26T20:09:27.302479",
     "status": "completed"
    },
    "tags": []
   },
   "outputs": [
    {
     "name": "stdout",
     "output_type": "stream",
     "text": [
      "Collecting mnist\r\n"
     ]
    },
    {
     "name": "stdout",
     "output_type": "stream",
     "text": [
      "  Downloading mnist-0.2.2-py2.py3-none-any.whl (3.5 kB)\r\n",
      "Requirement already satisfied: numpy in /opt/hostedtoolcache/Python/3.6.15/x64/lib/python3.6/site-packages (from mnist) (1.19.5)\r\n"
     ]
    },
    {
     "name": "stdout",
     "output_type": "stream",
     "text": [
      "Installing collected packages: mnist\r\n",
      "Successfully installed mnist-0.2.2\r\n"
     ]
    }
   ],
   "source": [
    "!pip install mnist"
   ]
  },
  {
   "cell_type": "markdown",
   "id": "69df9c9a",
   "metadata": {
    "papermill": {
     "duration": 0.025096,
     "end_time": "2022-11-26T20:09:29.071185",
     "exception": false,
     "start_time": "2022-11-26T20:09:29.046089",
     "status": "completed"
    },
    "tags": []
   },
   "source": [
    "## Preparing the Data"
   ]
  },
  {
   "cell_type": "code",
   "execution_count": 4,
   "id": "7f69d806",
   "metadata": {
    "execution": {
     "iopub.execute_input": "2022-11-26T20:09:29.125327Z",
     "iopub.status.busy": "2022-11-26T20:09:29.124764Z",
     "iopub.status.idle": "2022-11-26T20:09:29.138259Z",
     "shell.execute_reply": "2022-11-26T20:09:29.137770Z"
    },
    "papermill": {
     "duration": 0.04212,
     "end_time": "2022-11-26T20:09:29.138359",
     "exception": false,
     "start_time": "2022-11-26T20:09:29.096239",
     "status": "completed"
    },
    "tags": []
   },
   "outputs": [],
   "source": [
    "import mnist"
   ]
  },
  {
   "cell_type": "code",
   "execution_count": 5,
   "id": "a411e44f",
   "metadata": {
    "execution": {
     "iopub.execute_input": "2022-11-26T20:09:29.191604Z",
     "iopub.status.busy": "2022-11-26T20:09:29.191052Z",
     "iopub.status.idle": "2022-11-26T20:09:29.887195Z",
     "shell.execute_reply": "2022-11-26T20:09:29.886102Z"
    },
    "papermill": {
     "duration": 0.723866,
     "end_time": "2022-11-26T20:09:29.887317",
     "exception": false,
     "start_time": "2022-11-26T20:09:29.163451",
     "status": "completed"
    },
    "tags": []
   },
   "outputs": [],
   "source": [
    "train_images = mnist.train_images()\n",
    "train_labels = mnist.train_labels()"
   ]
  },
  {
   "cell_type": "code",
   "execution_count": 6,
   "id": "dceab3a5",
   "metadata": {
    "execution": {
     "iopub.execute_input": "2022-11-26T20:09:29.941225Z",
     "iopub.status.busy": "2022-11-26T20:09:29.940660Z",
     "iopub.status.idle": "2022-11-26T20:09:29.954521Z",
     "shell.execute_reply": "2022-11-26T20:09:29.953964Z"
    },
    "papermill": {
     "duration": 0.041918,
     "end_time": "2022-11-26T20:09:29.954619",
     "exception": false,
     "start_time": "2022-11-26T20:09:29.912701",
     "status": "completed"
    },
    "tags": []
   },
   "outputs": [
    {
     "data": {
      "text/plain": [
       "((60000, 28, 28), (60000,))"
      ]
     },
     "execution_count": 6,
     "metadata": {},
     "output_type": "execute_result"
    }
   ],
   "source": [
    "train_images.shape, train_labels.shape"
   ]
  },
  {
   "cell_type": "code",
   "execution_count": 7,
   "id": "f50dc2bb",
   "metadata": {
    "execution": {
     "iopub.execute_input": "2022-11-26T20:09:30.008481Z",
     "iopub.status.busy": "2022-11-26T20:09:30.007931Z",
     "iopub.status.idle": "2022-11-26T20:09:30.320613Z",
     "shell.execute_reply": "2022-11-26T20:09:30.320106Z"
    },
    "papermill": {
     "duration": 0.340764,
     "end_time": "2022-11-26T20:09:30.320725",
     "exception": false,
     "start_time": "2022-11-26T20:09:29.979961",
     "status": "completed"
    },
    "tags": []
   },
   "outputs": [],
   "source": [
    "test_images = mnist.test_images()\n",
    "test_labels = mnist.test_labels()"
   ]
  },
  {
   "cell_type": "code",
   "execution_count": 8,
   "id": "fc38cf1b",
   "metadata": {
    "execution": {
     "iopub.execute_input": "2022-11-26T20:09:30.375337Z",
     "iopub.status.busy": "2022-11-26T20:09:30.374787Z",
     "iopub.status.idle": "2022-11-26T20:09:30.387567Z",
     "shell.execute_reply": "2022-11-26T20:09:30.387035Z"
    },
    "papermill": {
     "duration": 0.041131,
     "end_time": "2022-11-26T20:09:30.387667",
     "exception": false,
     "start_time": "2022-11-26T20:09:30.346536",
     "status": "completed"
    },
    "tags": []
   },
   "outputs": [
    {
     "data": {
      "text/plain": [
       "((10000, 28, 28), (10000,))"
      ]
     },
     "execution_count": 8,
     "metadata": {},
     "output_type": "execute_result"
    }
   ],
   "source": [
    "test_images.shape, test_labels.shape"
   ]
  },
  {
   "cell_type": "code",
   "execution_count": 9,
   "id": "f9ed8fe0",
   "metadata": {
    "execution": {
     "iopub.execute_input": "2022-11-26T20:09:30.442397Z",
     "iopub.status.busy": "2022-11-26T20:09:30.441845Z",
     "iopub.status.idle": "2022-11-26T20:09:30.570431Z",
     "shell.execute_reply": "2022-11-26T20:09:30.570865Z"
    },
    "papermill": {
     "duration": 0.157706,
     "end_time": "2022-11-26T20:09:30.570985",
     "exception": false,
     "start_time": "2022-11-26T20:09:30.413279",
     "status": "completed"
    },
    "tags": []
   },
   "outputs": [
    {
     "name": "stdout",
     "output_type": "stream",
     "text": [
      "2\n"
     ]
    },
    {
     "data": {
      "text/plain": [
       "<matplotlib.image.AxesImage at 0x7f1ea074bd30>"
      ]
     },
     "execution_count": 9,
     "metadata": {},
     "output_type": "execute_result"
    },
    {
     "data": {
      "image/png": "[encoded data removed]",
      "text/plain": [
       "<Figure size 432x288 with 1 Axes>"
      ]
     },
     "metadata": {
      "needs_background": "light"
     },
     "output_type": "display_data"
    }
   ],
   "source": [
    "image_index = 7776 # You may select anything up to 60,000\n",
    "print(train_labels[image_index]) \n",
    "plt.imshow(train_images[image_index], cmap='Greys')"
   ]
  },
  {
   "cell_type": "markdown",
   "id": "a8d2388d",
   "metadata": {
    "papermill": {
     "duration": 0.026422,
     "end_time": "2022-11-26T20:09:30.624188",
     "exception": false,
     "start_time": "2022-11-26T20:09:30.597766",
     "status": "completed"
    },
    "tags": []
   },
   "source": [
    "## Filter data to get 3 and 8 out"
   ]
  },
  {
   "cell_type": "code",
   "execution_count": 10,
   "id": "776f7fc7",
   "metadata": {
    "execution": {
     "iopub.execute_input": "2022-11-26T20:09:30.680857Z",
     "iopub.status.busy": "2022-11-26T20:09:30.680283Z",
     "iopub.status.idle": "2022-11-26T20:09:30.696223Z",
     "shell.execute_reply": "2022-11-26T20:09:30.696730Z"
    },
    "papermill": {
     "duration": 0.046315,
     "end_time": "2022-11-26T20:09:30.696843",
     "exception": false,
     "start_time": "2022-11-26T20:09:30.650528",
     "status": "completed"
    },
    "tags": []
   },
   "outputs": [],
   "source": [
    "train_filter = np.where((train_labels == 3 ) | (train_labels == 8))\n",
    "test_filter = np.where((test_labels == 3) | (test_labels == 8))\n",
    "X_train, y_train = train_images[train_filter], train_labels[train_filter]\n",
    "X_test, y_test = test_images[test_filter], test_labels[test_filter]"
   ]
  },
  {
   "cell_type": "markdown",
   "id": "948f0b7e",
   "metadata": {
    "papermill": {
     "duration": 0.026564,
     "end_time": "2022-11-26T20:09:30.750093",
     "exception": false,
     "start_time": "2022-11-26T20:09:30.723529",
     "status": "completed"
    },
    "tags": []
   },
   "source": [
    "We normalize the pizel values in the 0 to 1 range"
   ]
  },
  {
   "cell_type": "code",
   "execution_count": 11,
   "id": "ee4c2166",
   "metadata": {
    "execution": {
     "iopub.execute_input": "2022-11-26T20:09:30.806745Z",
     "iopub.status.busy": "2022-11-26T20:09:30.806188Z",
     "iopub.status.idle": "2022-11-26T20:09:30.846540Z",
     "shell.execute_reply": "2022-11-26T20:09:30.846079Z"
    },
    "papermill": {
     "duration": 0.070021,
     "end_time": "2022-11-26T20:09:30.846646",
     "exception": false,
     "start_time": "2022-11-26T20:09:30.776625",
     "status": "completed"
    },
    "tags": []
   },
   "outputs": [],
   "source": [
    "X_train = X_train/255.\n",
    "X_test = X_test/255."
   ]
  },
  {
   "cell_type": "markdown",
   "id": "ddcf4fab",
   "metadata": {
    "papermill": {
     "duration": 0.026864,
     "end_time": "2022-11-26T20:09:30.900276",
     "exception": false,
     "start_time": "2022-11-26T20:09:30.873412",
     "status": "completed"
    },
    "tags": []
   },
   "source": [
    "And setup the labels as 1 (when the digit is 3) and 0 (when the digit is 8)"
   ]
  },
  {
   "cell_type": "code",
   "execution_count": 12,
   "id": "7dc908f2",
   "metadata": {
    "execution": {
     "iopub.execute_input": "2022-11-26T20:09:30.957113Z",
     "iopub.status.busy": "2022-11-26T20:09:30.956558Z",
     "iopub.status.idle": "2022-11-26T20:09:30.968325Z",
     "shell.execute_reply": "2022-11-26T20:09:30.967887Z"
    },
    "papermill": {
     "duration": 0.041566,
     "end_time": "2022-11-26T20:09:30.968422",
     "exception": false,
     "start_time": "2022-11-26T20:09:30.926856",
     "status": "completed"
    },
    "tags": []
   },
   "outputs": [],
   "source": [
    "y_train = 1*(y_train==3)\n",
    "y_test = 1*(y_test==3)"
   ]
  },
  {
   "cell_type": "code",
   "execution_count": 13,
   "id": "01e4e969",
   "metadata": {
    "execution": {
     "iopub.execute_input": "2022-11-26T20:09:31.024593Z",
     "iopub.status.busy": "2022-11-26T20:09:31.024023Z",
     "iopub.status.idle": "2022-11-26T20:09:31.036648Z",
     "shell.execute_reply": "2022-11-26T20:09:31.036202Z"
    },
    "papermill": {
     "duration": 0.041843,
     "end_time": "2022-11-26T20:09:31.036747",
     "exception": false,
     "start_time": "2022-11-26T20:09:30.994904",
     "status": "completed"
    },
    "tags": []
   },
   "outputs": [
    {
     "data": {
      "text/plain": [
       "((11982, 28, 28), (1984, 28, 28))"
      ]
     },
     "execution_count": 13,
     "metadata": {},
     "output_type": "execute_result"
    }
   ],
   "source": [
    "X_train.shape, X_test.shape"
   ]
  },
  {
   "cell_type": "markdown",
   "id": "5ccf3f85",
   "metadata": {
    "papermill": {
     "duration": 0.026838,
     "end_time": "2022-11-26T20:09:31.090362",
     "exception": false,
     "start_time": "2022-11-26T20:09:31.063524",
     "status": "completed"
    },
    "tags": []
   },
   "source": [
    "We reshape the data to flatten the image pixels into a set of features or co-variates:"
   ]
  },
  {
   "cell_type": "code",
   "execution_count": 14,
   "id": "5286a4a3",
   "metadata": {
    "execution": {
     "iopub.execute_input": "2022-11-26T20:09:31.147756Z",
     "iopub.status.busy": "2022-11-26T20:09:31.147189Z",
     "iopub.status.idle": "2022-11-26T20:09:31.159516Z",
     "shell.execute_reply": "2022-11-26T20:09:31.159954Z"
    },
    "papermill": {
     "duration": 0.042845,
     "end_time": "2022-11-26T20:09:31.160065",
     "exception": false,
     "start_time": "2022-11-26T20:09:31.117220",
     "status": "completed"
    },
    "tags": []
   },
   "outputs": [
    {
     "data": {
      "text/plain": [
       "((11982, 784), (1984, 784))"
      ]
     },
     "execution_count": 14,
     "metadata": {},
     "output_type": "execute_result"
    }
   ],
   "source": [
    "X_train = X_train.reshape(X_train.shape[0], -1)\n",
    "X_test = X_test.reshape(X_test.shape[0], -1)\n",
    "X_train.shape, X_test.shape"
   ]
  },
  {
   "cell_type": "code",
   "execution_count": 15,
   "id": "73c5f88a",
   "metadata": {
    "execution": {
     "iopub.execute_input": "2022-11-26T20:09:31.218510Z",
     "iopub.status.busy": "2022-11-26T20:09:31.217947Z",
     "iopub.status.idle": "2022-11-26T20:09:31.235488Z",
     "shell.execute_reply": "2022-11-26T20:09:31.235930Z"
    },
    "papermill": {
     "duration": 0.048882,
     "end_time": "2022-11-26T20:09:31.236047",
     "exception": false,
     "start_time": "2022-11-26T20:09:31.187165",
     "status": "completed"
    },
    "tags": []
   },
   "outputs": [],
   "source": [
    "#Impoting functions from 'Kudzu'\n",
    "from kudzu.model import Model\n",
    "from kudzu.train import Learner\n",
    "from kudzu.optim import GD\n",
    "from kudzu.data import Data, Sampler,Dataloader\n",
    "\n",
    "from kudzu.callbacks import AccCallback\n",
    "from kudzu.callbacks import ClfCallback\n",
    "\n",
    "from kudzu.loss import MSE\n",
    "\n",
    "from kudzu.layer import Sigmoid,Relu\n",
    "from kudzu.layer import Affine"
   ]
  },
  {
   "cell_type": "markdown",
   "id": "bc01172a",
   "metadata": {
    "papermill": {
     "duration": 0.026879,
     "end_time": "2022-11-26T20:09:31.290043",
     "exception": false,
     "start_time": "2022-11-26T20:09:31.263164",
     "status": "completed"
    },
    "tags": []
   },
   "source": [
    "### Let us create a `Config` class, to store important parameters. \n",
    "This class essentially plays the role of a dictionary."
   ]
  },
  {
   "cell_type": "code",
   "execution_count": 16,
   "id": "978281aa",
   "metadata": {
    "execution": {
     "iopub.execute_input": "2022-11-26T20:09:31.347450Z",
     "iopub.status.busy": "2022-11-26T20:09:31.346898Z",
     "iopub.status.idle": "2022-11-26T20:09:31.358834Z",
     "shell.execute_reply": "2022-11-26T20:09:31.358385Z"
    },
    "papermill": {
     "duration": 0.041982,
     "end_time": "2022-11-26T20:09:31.358930",
     "exception": false,
     "start_time": "2022-11-26T20:09:31.316948",
     "status": "completed"
    },
    "tags": []
   },
   "outputs": [],
   "source": [
    "class Config:\n",
    "    pass\n",
    "config = Config()\n",
    "config.lr = 0.001\n",
    "config.num_epochs = 250\n",
    "config.bs = 50"
   ]
  },
  {
   "cell_type": "markdown",
   "id": "1385fa59",
   "metadata": {
    "papermill": {
     "duration": 0.026952,
     "end_time": "2022-11-26T20:09:31.413044",
     "exception": false,
     "start_time": "2022-11-26T20:09:31.386092",
     "status": "completed"
    },
    "tags": []
   },
   "source": [
    "### Running Models with the Training data\n",
    "Details about the network layers:\n",
    "- A first affine layer has 784 inputs and does 100 affine transforms. These are followed by a Relu\n",
    "- A second affine layer has 100 inputs from the 100 activations of the past layer, and does 100 affine transforms. These are followed by a Relu\n",
    "- A third affine layer has 100 activations and does 2 affine transformations to create an embedding for visualization. There is no non-linearity here.\n",
    "- A final \"logistic regression\" which has an affine transform from 2 inputs to 1 output, which is squeezed through a sigmoid.\n"
   ]
  },
  {
   "cell_type": "code",
   "execution_count": 17,
   "id": "2b9c66db",
   "metadata": {
    "execution": {
     "iopub.execute_input": "2022-11-26T20:09:31.470571Z",
     "iopub.status.busy": "2022-11-26T20:09:31.470016Z",
     "iopub.status.idle": "2022-11-26T20:09:31.481948Z",
     "shell.execute_reply": "2022-11-26T20:09:31.481488Z"
    },
    "papermill": {
     "duration": 0.042029,
     "end_time": "2022-11-26T20:09:31.482044",
     "exception": false,
     "start_time": "2022-11-26T20:09:31.440015",
     "status": "completed"
    },
    "tags": []
   },
   "outputs": [],
   "source": [
    "data = Data(X_train, y_train.reshape(-1,1))\n",
    "sampler = Sampler(data, config.bs, shuffle=True)\n",
    "\n",
    "dl = Dataloader(data, sampler)\n",
    "\n",
    "opt = GD(config.lr)\n",
    "loss = MSE()"
   ]
  },
  {
   "cell_type": "code",
   "execution_count": 18,
   "id": "b275e4c2",
   "metadata": {
    "execution": {
     "iopub.execute_input": "2022-11-26T20:09:31.539585Z",
     "iopub.status.busy": "2022-11-26T20:09:31.539020Z",
     "iopub.status.idle": "2022-11-26T20:09:31.550453Z",
     "shell.execute_reply": "2022-11-26T20:09:31.550000Z"
    },
    "papermill": {
     "duration": 0.041504,
     "end_time": "2022-11-26T20:09:31.550550",
     "exception": false,
     "start_time": "2022-11-26T20:09:31.509046",
     "status": "completed"
    },
    "tags": []
   },
   "outputs": [],
   "source": [
    "training_data_x = X_train\n",
    "testing_data_x = X_test\n",
    "training_data_y = y_train.reshape(-1,1)\n",
    "testing_data_y = y_test.reshape(-1,1)"
   ]
  },
  {
   "cell_type": "code",
   "execution_count": 19,
   "id": "76951160",
   "metadata": {
    "execution": {
     "iopub.execute_input": "2022-11-26T20:09:31.608167Z",
     "iopub.status.busy": "2022-11-26T20:09:31.607614Z",
     "iopub.status.idle": "2022-11-26T20:09:31.623190Z",
     "shell.execute_reply": "2022-11-26T20:09:31.622654Z"
    },
    "papermill": {
     "duration": 0.045834,
     "end_time": "2022-11-26T20:09:31.623288",
     "exception": false,
     "start_time": "2022-11-26T20:09:31.577454",
     "status": "completed"
    },
    "tags": []
   },
   "outputs": [
    {
     "name": "stdout",
     "output_type": "stream",
     "text": [
      "xavier\n",
      "xavier\n",
      "xavier\n",
      "xavier\n",
      "xavier\n"
     ]
    }
   ],
   "source": [
    "layers = [Affine(\"first\", 784, 100), Relu(\"first\"), Affine(\"second\", 100, 100), Relu(\"second\"), Affine(\"third\", 100, 2), Affine(\"last\", 2, 1), Sigmoid(\"last\")]\n",
    "model_nn = Model(layers)\n",
    "model_lr = Model([Affine(\"logits\", 784, 1), Sigmoid(\"sigmoid\")])"
   ]
  },
  {
   "cell_type": "code",
   "execution_count": 20,
   "id": "6eede77a",
   "metadata": {
    "execution": {
     "iopub.execute_input": "2022-11-26T20:09:31.682039Z",
     "iopub.status.busy": "2022-11-26T20:09:31.681440Z",
     "iopub.status.idle": "2022-11-26T20:09:31.693306Z",
     "shell.execute_reply": "2022-11-26T20:09:31.692852Z"
    },
    "papermill": {
     "duration": 0.042635,
     "end_time": "2022-11-26T20:09:31.693403",
     "exception": false,
     "start_time": "2022-11-26T20:09:31.650768",
     "status": "completed"
    },
    "tags": []
   },
   "outputs": [],
   "source": [
    "nn_learner = Learner(loss, model_nn, opt, config.num_epochs)\n",
    "acc_nn = ClfCallback(nn_learner, config.bs, training_data_x , testing_data_x, training_data_y, testing_data_y)\n",
    "nn_learner.set_callbacks([acc_nn])"
   ]
  },
  {
   "cell_type": "code",
   "execution_count": 21,
   "id": "877b6cc7",
   "metadata": {
    "execution": {
     "iopub.execute_input": "2022-11-26T20:09:31.751625Z",
     "iopub.status.busy": "2022-11-26T20:09:31.751070Z",
     "iopub.status.idle": "2022-11-26T20:09:31.762651Z",
     "shell.execute_reply": "2022-11-26T20:09:31.762200Z"
    },
    "papermill": {
     "duration": 0.041863,
     "end_time": "2022-11-26T20:09:31.762747",
     "exception": false,
     "start_time": "2022-11-26T20:09:31.720884",
     "status": "completed"
    },
    "tags": []
   },
   "outputs": [],
   "source": [
    "lr_learner = Learner(loss, model_lr, opt, config.num_epochs)\n",
    "acc_lr = ClfCallback(lr_learner, config.bs, training_data_x , testing_data_x, training_data_y, testing_data_y)\n",
    "lr_learner.set_callbacks([acc_lr])"
   ]
  },
  {
   "cell_type": "code",
   "execution_count": 22,
   "id": "d9b133c3",
   "metadata": {
    "execution": {
     "iopub.execute_input": "2022-11-26T20:09:31.820601Z",
     "iopub.status.busy": "2022-11-26T20:09:31.820060Z",
     "iopub.status.idle": "2022-11-26T20:12:26.402615Z",
     "shell.execute_reply": "2022-11-26T20:12:26.403055Z"
    },
    "papermill": {
     "duration": 174.612928,
     "end_time": "2022-11-26T20:12:26.403178",
     "exception": false,
     "start_time": "2022-11-26T20:09:31.790250",
     "status": "completed"
    },
    "tags": []
   },
   "outputs": [
    {
     "name": "stdout",
     "output_type": "stream",
     "text": [
      "Epoch 0, Loss 0.2543\n",
      "Training Accuracy: 0.5378, Testing Accuracy: 0.5575\n",
      "\n"
     ]
    },
    {
     "name": "stdout",
     "output_type": "stream",
     "text": [
      "Epoch 10, Loss 0.0961\n",
      "Training Accuracy: 0.9165, Testing Accuracy: 0.9294\n",
      "\n"
     ]
    },
    {
     "name": "stdout",
     "output_type": "stream",
     "text": [
      "Epoch 20, Loss 0.0581\n",
      "Training Accuracy: 0.9392, Testing Accuracy: 0.9486\n",
      "\n"
     ]
    },
    {
     "name": "stdout",
     "output_type": "stream",
     "text": [
      "Epoch 30, Loss 0.0454\n",
      "Training Accuracy: 0.9499, Testing Accuracy: 0.9577\n",
      "\n"
     ]
    },
    {
     "name": "stdout",
     "output_type": "stream",
     "text": [
      "Epoch 40, Loss 0.0391\n",
      "Training Accuracy: 0.9568, Testing Accuracy: 0.9627\n",
      "\n"
     ]
    },
    {
     "name": "stdout",
     "output_type": "stream",
     "text": [
      "Epoch 50, Loss 0.0353\n",
      "Training Accuracy: 0.9600, Testing Accuracy: 0.9652\n",
      "\n"
     ]
    },
    {
     "name": "stdout",
     "output_type": "stream",
     "text": [
      "Epoch 60, Loss 0.0326\n",
      "Training Accuracy: 0.9630, Testing Accuracy: 0.9672\n",
      "\n"
     ]
    },
    {
     "name": "stdout",
     "output_type": "stream",
     "text": [
      "Epoch 70, Loss 0.0306\n",
      "Training Accuracy: 0.9649, Testing Accuracy: 0.9677\n",
      "\n"
     ]
    },
    {
     "name": "stdout",
     "output_type": "stream",
     "text": [
      "Epoch 80, Loss 0.029\n",
      "Training Accuracy: 0.9669, Testing Accuracy: 0.9693\n",
      "\n"
     ]
    },
    {
     "name": "stdout",
     "output_type": "stream",
     "text": [
      "Epoch 90, Loss 0.0276\n",
      "Training Accuracy: 0.9673, Testing Accuracy: 0.9708\n",
      "\n"
     ]
    },
    {
     "name": "stdout",
     "output_type": "stream",
     "text": [
      "Epoch 100, Loss 0.0265\n",
      "Training Accuracy: 0.9691, Testing Accuracy: 0.9713\n",
      "\n"
     ]
    },
    {
     "name": "stdout",
     "output_type": "stream",
     "text": [
      "Epoch 110, Loss 0.0255\n",
      "Training Accuracy: 0.9702, Testing Accuracy: 0.9723\n",
      "\n"
     ]
    },
    {
     "name": "stdout",
     "output_type": "stream",
     "text": [
      "Epoch 120, Loss 0.0247\n",
      "Training Accuracy: 0.9710, Testing Accuracy: 0.9733\n",
      "\n"
     ]
    },
    {
     "name": "stdout",
     "output_type": "stream",
     "text": [
      "Epoch 130, Loss 0.0239\n",
      "Training Accuracy: 0.9720, Testing Accuracy: 0.9733\n",
      "\n"
     ]
    },
    {
     "name": "stdout",
     "output_type": "stream",
     "text": [
      "Epoch 140, Loss 0.0232\n",
      "Training Accuracy: 0.9728, Testing Accuracy: 0.9738\n",
      "\n"
     ]
    },
    {
     "name": "stdout",
     "output_type": "stream",
     "text": [
      "Epoch 150, Loss 0.0226\n",
      "Training Accuracy: 0.9733, Testing Accuracy: 0.9733\n",
      "\n"
     ]
    },
    {
     "name": "stdout",
     "output_type": "stream",
     "text": [
      "Epoch 160, Loss 0.022\n",
      "Training Accuracy: 0.9742, Testing Accuracy: 0.9723\n",
      "\n"
     ]
    },
    {
     "name": "stdout",
     "output_type": "stream",
     "text": [
      "Epoch 170, Loss 0.0214\n",
      "Training Accuracy: 0.9754, Testing Accuracy: 0.9738\n",
      "\n"
     ]
    },
    {
     "name": "stdout",
     "output_type": "stream",
     "text": [
      "Epoch 180, Loss 0.0209\n",
      "Training Accuracy: 0.9755, Testing Accuracy: 0.9743\n",
      "\n"
     ]
    },
    {
     "name": "stdout",
     "output_type": "stream",
     "text": [
      "Epoch 190, Loss 0.0204\n",
      "Training Accuracy: 0.9764, Testing Accuracy: 0.9733\n",
      "\n"
     ]
    },
    {
     "name": "stdout",
     "output_type": "stream",
     "text": [
      "Epoch 200, Loss 0.02\n",
      "Training Accuracy: 0.9770, Testing Accuracy: 0.9733\n",
      "\n"
     ]
    },
    {
     "name": "stdout",
     "output_type": "stream",
     "text": [
      "Epoch 210, Loss 0.0196\n",
      "Training Accuracy: 0.9774, Testing Accuracy: 0.9733\n",
      "\n"
     ]
    },
    {
     "name": "stdout",
     "output_type": "stream",
     "text": [
      "Epoch 220, Loss 0.0191\n",
      "Training Accuracy: 0.9781, Testing Accuracy: 0.9733\n",
      "\n"
     ]
    },
    {
     "name": "stdout",
     "output_type": "stream",
     "text": [
      "Epoch 230, Loss 0.0188\n",
      "Training Accuracy: 0.9786, Testing Accuracy: 0.9733\n",
      "\n"
     ]
    },
    {
     "name": "stdout",
     "output_type": "stream",
     "text": [
      "Epoch 240, Loss 0.0184\n",
      "Training Accuracy: 0.9789, Testing Accuracy: 0.9738\n",
      "\n"
     ]
    },
    {
     "data": {
      "text/plain": [
       "0.015582219423955393"
      ]
     },
     "execution_count": 22,
     "metadata": {},
     "output_type": "execute_result"
    }
   ],
   "source": [
    "nn_learner.train_loop(dl)"
   ]
  },
  {
   "cell_type": "code",
   "execution_count": 23,
   "id": "e0163366",
   "metadata": {
    "execution": {
     "iopub.execute_input": "2022-11-26T20:12:26.482807Z",
     "iopub.status.busy": "2022-11-26T20:12:26.482256Z",
     "iopub.status.idle": "2022-11-26T20:12:38.508960Z",
     "shell.execute_reply": "2022-11-26T20:12:38.508507Z"
    },
    "papermill": {
     "duration": 12.069331,
     "end_time": "2022-11-26T20:12:38.509070",
     "exception": false,
     "start_time": "2022-11-26T20:12:26.439739",
     "status": "completed"
    },
    "tags": []
   },
   "outputs": [
    {
     "name": "stdout",
     "output_type": "stream",
     "text": [
      "Epoch 0, Loss 0.2279\n",
      "Training Accuracy: 0.7364, Testing Accuracy: 0.7434\n",
      "\n"
     ]
    },
    {
     "name": "stdout",
     "output_type": "stream",
     "text": [
      "Epoch 10, Loss 0.1038\n",
      "Training Accuracy: 0.9066, Testing Accuracy: 0.9163\n",
      "\n"
     ]
    },
    {
     "name": "stdout",
     "output_type": "stream",
     "text": [
      "Epoch 20, Loss 0.0803\n",
      "Training Accuracy: 0.9246, Testing Accuracy: 0.9375\n",
      "\n"
     ]
    },
    {
     "name": "stdout",
     "output_type": "stream",
     "text": [
      "Epoch 30, Loss 0.0693\n",
      "Training Accuracy: 0.9339, Testing Accuracy: 0.9481\n",
      "\n"
     ]
    },
    {
     "name": "stdout",
     "output_type": "stream",
     "text": [
      "Epoch 40, Loss 0.0627\n",
      "Training Accuracy: 0.9397, Testing Accuracy: 0.9516\n",
      "\n"
     ]
    },
    {
     "name": "stdout",
     "output_type": "stream",
     "text": [
      "Epoch 50, Loss 0.0581\n",
      "Training Accuracy: 0.9442, Testing Accuracy: 0.9551\n",
      "\n"
     ]
    },
    {
     "name": "stdout",
     "output_type": "stream",
     "text": [
      "Epoch 60, Loss 0.0547\n",
      "Training Accuracy: 0.9465, Testing Accuracy: 0.9577\n",
      "\n"
     ]
    },
    {
     "name": "stdout",
     "output_type": "stream",
     "text": [
      "Epoch 70, Loss 0.0521\n",
      "Training Accuracy: 0.9480, Testing Accuracy: 0.9587\n",
      "\n"
     ]
    },
    {
     "name": "stdout",
     "output_type": "stream",
     "text": [
      "Epoch 80, Loss 0.05\n",
      "Training Accuracy: 0.9491, Testing Accuracy: 0.9612\n",
      "\n"
     ]
    },
    {
     "name": "stdout",
     "output_type": "stream",
     "text": [
      "Epoch 90, Loss 0.0483\n",
      "Training Accuracy: 0.9512, Testing Accuracy: 0.9627\n",
      "\n"
     ]
    },
    {
     "name": "stdout",
     "output_type": "stream",
     "text": [
      "Epoch 100, Loss 0.0468\n",
      "Training Accuracy: 0.9526, Testing Accuracy: 0.9632\n",
      "\n"
     ]
    },
    {
     "name": "stdout",
     "output_type": "stream",
     "text": [
      "Epoch 110, Loss 0.0455\n",
      "Training Accuracy: 0.9540, Testing Accuracy: 0.9637\n",
      "\n"
     ]
    },
    {
     "name": "stdout",
     "output_type": "stream",
     "text": [
      "Epoch 120, Loss 0.0445\n",
      "Training Accuracy: 0.9544, Testing Accuracy: 0.9637\n",
      "\n"
     ]
    },
    {
     "name": "stdout",
     "output_type": "stream",
     "text": [
      "Epoch 130, Loss 0.0435\n",
      "Training Accuracy: 0.9555, Testing Accuracy: 0.9642\n",
      "\n"
     ]
    },
    {
     "name": "stdout",
     "output_type": "stream",
     "text": [
      "Epoch 140, Loss 0.0426\n",
      "Training Accuracy: 0.9559, Testing Accuracy: 0.9652\n",
      "\n"
     ]
    },
    {
     "name": "stdout",
     "output_type": "stream",
     "text": [
      "Epoch 150, Loss 0.0419\n",
      "Training Accuracy: 0.9564, Testing Accuracy: 0.9657\n",
      "\n"
     ]
    },
    {
     "name": "stdout",
     "output_type": "stream",
     "text": [
      "Epoch 160, Loss 0.0412\n",
      "Training Accuracy: 0.9572, Testing Accuracy: 0.9662\n",
      "\n"
     ]
    },
    {
     "name": "stdout",
     "output_type": "stream",
     "text": [
      "Epoch 170, Loss 0.0405\n",
      "Training Accuracy: 0.9576, Testing Accuracy: 0.9657\n",
      "\n"
     ]
    },
    {
     "name": "stdout",
     "output_type": "stream",
     "text": [
      "Epoch 180, Loss 0.04\n",
      "Training Accuracy: 0.9575, Testing Accuracy: 0.9662\n",
      "\n"
     ]
    },
    {
     "name": "stdout",
     "output_type": "stream",
     "text": [
      "Epoch 190, Loss 0.0394\n",
      "Training Accuracy: 0.9579, Testing Accuracy: 0.9667\n",
      "\n"
     ]
    },
    {
     "name": "stdout",
     "output_type": "stream",
     "text": [
      "Epoch 200, Loss 0.0389\n",
      "Training Accuracy: 0.9588, Testing Accuracy: 0.9667\n",
      "\n"
     ]
    },
    {
     "name": "stdout",
     "output_type": "stream",
     "text": [
      "Epoch 210, Loss 0.0385\n",
      "Training Accuracy: 0.9591, Testing Accuracy: 0.9667\n",
      "\n"
     ]
    },
    {
     "name": "stdout",
     "output_type": "stream",
     "text": [
      "Epoch 220, Loss 0.0381\n",
      "Training Accuracy: 0.9594, Testing Accuracy: 0.9667\n",
      "\n"
     ]
    },
    {
     "name": "stdout",
     "output_type": "stream",
     "text": [
      "Epoch 230, Loss 0.0377\n",
      "Training Accuracy: 0.9595, Testing Accuracy: 0.9662\n",
      "\n"
     ]
    },
    {
     "name": "stdout",
     "output_type": "stream",
     "text": [
      "Epoch 240, Loss 0.0373\n",
      "Training Accuracy: 0.9599, Testing Accuracy: 0.9662\n",
      "\n"
     ]
    },
    {
     "data": {
      "text/plain": [
       "0.018611125343680496"
      ]
     },
     "execution_count": 23,
     "metadata": {},
     "output_type": "execute_result"
    }
   ],
   "source": [
    "lr_learner.train_loop(dl)"
   ]
  },
  {
   "cell_type": "code",
   "execution_count": 24,
   "id": "ca410940",
   "metadata": {
    "execution": {
     "iopub.execute_input": "2022-11-26T20:12:38.597477Z",
     "iopub.status.busy": "2022-11-26T20:12:38.596890Z",
     "iopub.status.idle": "2022-11-26T20:12:38.819468Z",
     "shell.execute_reply": "2022-11-26T20:12:38.818967Z"
    },
    "papermill": {
     "duration": 0.268809,
     "end_time": "2022-11-26T20:12:38.819576",
     "exception": false,
     "start_time": "2022-11-26T20:12:38.550767",
     "status": "completed"
    },
    "tags": []
   },
   "outputs": [
    {
     "data": {
      "text/plain": [
       "<matplotlib.legend.Legend at 0x7f1ea031bdd8>"
      ]
     },
     "execution_count": 24,
     "metadata": {},
     "output_type": "execute_result"
    },
    {
     "data": {
      "image/png": "[encoded data removed]",
      "text/plain": [
       "<Figure size 1080x720 with 1 Axes>"
      ]
     },
     "metadata": {
      "needs_background": "light"
     },
     "output_type": "display_data"
    }
   ],
   "source": [
    "#comparing the results of NN and LR\n",
    "plt.figure(figsize=(15,10))\n",
    "\n",
    "# Neural Network plots\n",
    "plt.plot(acc_nn.accuracies, 'r-', label = \"Training Accuracies - NN\")\n",
    "plt.plot(acc_nn.test_accuracies, 'g-', label = \"Testing Accuracies - NN\")\n",
    "\n",
    "# Logistic Regression plots\n",
    "plt.plot(acc_lr.accuracies, 'k-', label = \"Training Accuracies - LR\")\n",
    "plt.plot(acc_lr.test_accuracies, 'b-', label = \"Testing Accuracies - LR\")\n",
    "plt.legend()"
   ]
  },
  {
   "cell_type": "markdown",
   "id": "80dfb35c",
   "metadata": {
    "papermill": {
     "duration": 0.042451,
     "end_time": "2022-11-26T20:12:38.904556",
     "exception": false,
     "start_time": "2022-11-26T20:12:38.862105",
     "status": "completed"
    },
    "tags": []
   },
   "source": [
    "#### Plotting the outputs of this layer of the NN.\n"
   ]
  },
  {
   "cell_type": "code",
   "execution_count": 25,
   "id": "45eb2ff5",
   "metadata": {
    "execution": {
     "iopub.execute_input": "2022-11-26T20:12:38.992893Z",
     "iopub.status.busy": "2022-11-26T20:12:38.992335Z",
     "iopub.status.idle": "2022-11-26T20:12:39.028172Z",
     "shell.execute_reply": "2022-11-26T20:12:39.027715Z"
    },
    "papermill": {
     "duration": 0.081538,
     "end_time": "2022-11-26T20:12:39.028280",
     "exception": false,
     "start_time": "2022-11-26T20:12:38.946742",
     "status": "completed"
    },
    "tags": []
   },
   "outputs": [],
   "source": [
    "new_model = Model(layers[:-2])\n",
    "testing_plot = new_model(testing_data_x)"
   ]
  },
  {
   "cell_type": "code",
   "execution_count": 26,
   "id": "4c0a5485",
   "metadata": {
    "execution": {
     "iopub.execute_input": "2022-11-26T20:12:39.122037Z",
     "iopub.status.busy": "2022-11-26T20:12:39.121463Z",
     "iopub.status.idle": "2022-11-26T20:12:39.298842Z",
     "shell.execute_reply": "2022-11-26T20:12:39.299771Z"
    },
    "papermill": {
     "duration": 0.228208,
     "end_time": "2022-11-26T20:12:39.299902",
     "exception": false,
     "start_time": "2022-11-26T20:12:39.071694",
     "status": "completed"
    },
    "tags": []
   },
   "outputs": [
    {
     "data": {
      "text/plain": [
       "Text(0.5, 1.0, 'Outputs')"
      ]
     },
     "execution_count": 26,
     "metadata": {},
     "output_type": "execute_result"
    },
    {
     "data": {
      "image/png": "[encoded data removed]",
      "text/plain": [
       "<Figure size 576x504 with 1 Axes>"
      ]
     },
     "metadata": {
      "needs_background": "light"
     },
     "output_type": "display_data"
    }
   ],
   "source": [
    "# Plotting the scatter plot of points and color coding by class\n",
    "plt.figure(figsize=(8,7))\n",
    "plt.scatter(testing_plot[:,0], testing_plot[:,1], alpha = 0.1, c = y_test.ravel());\n",
    "plt.title('Outputs')"
   ]
  },
  {
   "cell_type": "markdown",
   "id": "a74fcf8f",
   "metadata": {
    "papermill": {
     "duration": 0.044332,
     "end_time": "2022-11-26T20:12:39.388697",
     "exception": false,
     "start_time": "2022-11-26T20:12:39.344365",
     "status": "completed"
    },
    "tags": []
   },
   "source": [
    "Probability contours"
   ]
  },
  {
   "cell_type": "code",
   "execution_count": 27,
   "id": "d0afc8e3",
   "metadata": {
    "execution": {
     "iopub.execute_input": "2022-11-26T20:12:39.506800Z",
     "iopub.status.busy": "2022-11-26T20:12:39.506227Z",
     "iopub.status.idle": "2022-11-26T20:12:39.514013Z",
     "shell.execute_reply": "2022-11-26T20:12:39.513443Z"
    },
    "papermill": {
     "duration": 0.059424,
     "end_time": "2022-11-26T20:12:39.514114",
     "exception": false,
     "start_time": "2022-11-26T20:12:39.454690",
     "status": "completed"
    },
    "tags": []
   },
   "outputs": [],
   "source": [
    "model_prob = Model(layers[-2:]) "
   ]
  },
  {
   "cell_type": "code",
   "execution_count": 28,
   "id": "9b96e238",
   "metadata": {
    "execution": {
     "iopub.execute_input": "2022-11-26T20:12:39.607120Z",
     "iopub.status.busy": "2022-11-26T20:12:39.606556Z",
     "iopub.status.idle": "2022-11-26T20:12:39.620066Z",
     "shell.execute_reply": "2022-11-26T20:12:39.620462Z"
    },
    "papermill": {
     "duration": 0.062182,
     "end_time": "2022-11-26T20:12:39.620577",
     "exception": false,
     "start_time": "2022-11-26T20:12:39.558395",
     "status": "completed"
    },
    "tags": []
   },
   "outputs": [],
   "source": [
    "#creating the x and y ranges according to the above generated plot.\n",
    "x_range = np.linspace(-4, 1, 100) \n",
    "y_range = np.linspace(-6, 6, 100) \n",
    "x_grid, y_grid = np.meshgrid(x_range, y_range) # x_grid and y_grig are of size 100 X 100\n",
    "\n",
    "# converting x_grid and y_grid to continuous arrays\n",
    "x_gridflat = np.ravel(x_grid)\n",
    "y_gridflat = np.ravel(y_grid)\n",
    "\n",
    "# The last layer of the current model takes two columns as input. Hence transpose of np.vstack() is required.\n",
    "X = np.vstack((x_gridflat, y_gridflat)).T\n",
    "\n",
    "prob_contour = model_prob(X).reshape(100,100) "
   ]
  },
  {
   "cell_type": "code",
   "execution_count": 29,
   "id": "da72499a",
   "metadata": {
    "execution": {
     "iopub.execute_input": "2022-11-26T20:12:39.714181Z",
     "iopub.status.busy": "2022-11-26T20:12:39.713578Z",
     "iopub.status.idle": "2022-11-26T20:12:39.950702Z",
     "shell.execute_reply": "2022-11-26T20:12:39.951129Z"
    },
    "papermill": {
     "duration": 0.285739,
     "end_time": "2022-11-26T20:12:39.951252",
     "exception": false,
     "start_time": "2022-11-26T20:12:39.665513",
     "status": "completed"
    },
    "tags": []
   },
   "outputs": [
    {
     "data": {
      "image/png": "[encoded data removed]",
      "text/plain": [
       "<Figure size 720x648 with 1 Axes>"
      ]
     },
     "metadata": {
      "needs_background": "light"
     },
     "output_type": "display_data"
    }
   ],
   "source": [
    "plt.figure(figsize=(10,9))\n",
    "plt.scatter(testing_plot[:,0], testing_plot[:,1], alpha = 0.1, c = y_test.ravel())\n",
    "contours = plt.contour(x_grid,y_grid,prob_contour)\n",
    "plt.title('Probability Contours')\n",
    "plt.clabel(contours, inline = True );"
   ]
  },
  {
   "cell_type": "code",
   "execution_count": null,
   "id": "e81b4ac7",
   "metadata": {
    "papermill": {
     "duration": 0.046783,
     "end_time": "2022-11-26T20:12:40.046250",
     "exception": false,
     "start_time": "2022-11-26T20:12:39.999467",
     "status": "completed"
    },
    "tags": []
   },
   "outputs": [],
   "source": []
  }
 ],
 "metadata": {
  "kernelspec": {
   "display_name": "Python 3",
   "language": "python",
   "name": "python3"
  },
  "language_info": {
   "codemirror_mode": {
    "name": "ipython",
    "version": 3
   },
   "file_extension": ".py",
   "mimetype": "text/x-python",
   "name": "python",
   "nbconvert_exporter": "python",
   "pygments_lexer": "ipython3",
   "version": "3.6.15"
  },
  "papermill": {
   "default_parameters": {},
   "duration": 194.798592,
   "end_time": "2022-11-26T20:12:40.410757",
   "environment_variables": {},
   "exception": null,
   "input_path": "2020-08-11-part2.ipynb",
   "output_path": "2020-08-11-part2.ipynb",
   "parameters": {},
   "start_time": "2022-11-26T20:09:25.612165",
   "version": "2.3.3"
  }
 },
 "nbformat": 4,
 "nbformat_minor": 5
}