{
 "cells": [
  {
   "cell_type": "markdown",
   "id": "98380cd3",
   "metadata": {
    "papermill": {
     "duration": 0.029447,
     "end_time": "2022-07-13T10:12:43.495193",
     "exception": false,
     "start_time": "2022-07-13T10:12:43.465746",
     "status": "completed"
    },
    "tags": []
   },
   "source": [
    "# Distinguish Your Own Digits (DYOD)"
   ]
  },
  {
   "cell_type": "markdown",
   "id": "ef31240d",
   "metadata": {
    "papermill": {
     "duration": 0.024164,
     "end_time": "2022-07-13T10:12:43.544176",
     "exception": false,
     "start_time": "2022-07-13T10:12:43.520012",
     "status": "completed"
    },
    "tags": []
   },
   "source": [
    "You are going to write a classifier that distinguishes between the number 3 and number 8."
   ]
  },
  {
   "cell_type": "code",
   "execution_count": 1,
   "id": "b15c8646",
   "metadata": {
    "execution": {
     "iopub.execute_input": "2022-07-13T10:12:43.602009Z",
     "iopub.status.busy": "2022-07-13T10:12:43.601430Z",
     "iopub.status.idle": "2022-07-13T10:12:43.612164Z",
     "shell.execute_reply": "2022-07-13T10:12:43.612631Z"
    },
    "papermill": {
     "duration": 0.04462,
     "end_time": "2022-07-13T10:12:43.612774",
     "exception": false,
     "start_time": "2022-07-13T10:12:43.568154",
     "status": "completed"
    },
    "tags": []
   },
   "outputs": [],
   "source": [
    "%load_ext autoreload\n",
    "%autoreload 2"
   ]
  },
  {
   "cell_type": "code",
   "execution_count": 2,
   "id": "22ef38dc",
   "metadata": {
    "execution": {
     "iopub.execute_input": "2022-07-13T10:12:43.664640Z",
     "iopub.status.busy": "2022-07-13T10:12:43.664064Z",
     "iopub.status.idle": "2022-07-13T10:12:44.166900Z",
     "shell.execute_reply": "2022-07-13T10:12:44.165950Z"
    },
    "papermill": {
     "duration": 0.530115,
     "end_time": "2022-07-13T10:12:44.167023",
     "exception": false,
     "start_time": "2022-07-13T10:12:43.636908",
     "status": "completed"
    },
    "tags": []
   },
   "outputs": [],
   "source": [
    "%matplotlib inline\n",
    "import numpy as np\n",
    "import matplotlib.pyplot as plt\n",
    "import pandas as pd"
   ]
  },
  {
   "cell_type": "markdown",
   "id": "ba036198",
   "metadata": {
    "papermill": {
     "duration": 0.024202,
     "end_time": "2022-07-13T10:12:44.215423",
     "exception": false,
     "start_time": "2022-07-13T10:12:44.191221",
     "status": "completed"
    },
    "tags": []
   },
   "source": [
    "From the command line run `pip install mnist`. This is a library that will help you bring down the mnist dataset. If you run this from a notebook, you need to put  `!pip install mnist` in a cell by itself."
   ]
  },
  {
   "cell_type": "code",
   "execution_count": 3,
   "id": "bb6ad8a1",
   "metadata": {
    "execution": {
     "iopub.execute_input": "2022-07-13T10:12:44.269597Z",
     "iopub.status.busy": "2022-07-13T10:12:44.267137Z",
     "iopub.status.idle": "2022-07-13T10:12:45.978724Z",
     "shell.execute_reply": "2022-07-13T10:12:45.977438Z"
    },
    "papermill": {
     "duration": 1.739216,
     "end_time": "2022-07-13T10:12:45.978843",
     "exception": false,
     "start_time": "2022-07-13T10:12:44.239627",
     "status": "completed"
    },
    "tags": []
   },
   "outputs": [
    {
     "name": "stdout",
     "output_type": "stream",
     "text": [
      "Collecting mnist\r\n"
     ]
    },
    {
     "name": "stdout",
     "output_type": "stream",
     "text": [
      "  Downloading mnist-0.2.2-py2.py3-none-any.whl (3.5 kB)\r\n",
      "Requirement already satisfied: numpy in /opt/hostedtoolcache/Python/3.6.15/x64/lib/python3.6/site-packages (from mnist) (1.19.5)\r\n"
     ]
    },
    {
     "name": "stdout",
     "output_type": "stream",
     "text": [
      "Installing collected packages: mnist\r\n"
     ]
    },
    {
     "name": "stdout",
     "output_type": "stream",
     "text": [
      "Successfully installed mnist-0.2.2\r\n"
     ]
    }
   ],
   "source": [
    "!pip install mnist"
   ]
  },
  {
   "cell_type": "markdown",
   "id": "69df9c9a",
   "metadata": {
    "papermill": {
     "duration": 0.025316,
     "end_time": "2022-07-13T10:12:46.029504",
     "exception": false,
     "start_time": "2022-07-13T10:12:46.004188",
     "status": "completed"
    },
    "tags": []
   },
   "source": [
    "## Preparing the Data"
   ]
  },
  {
   "cell_type": "code",
   "execution_count": 4,
   "id": "7f69d806",
   "metadata": {
    "execution": {
     "iopub.execute_input": "2022-07-13T10:12:46.083827Z",
     "iopub.status.busy": "2022-07-13T10:12:46.083266Z",
     "iopub.status.idle": "2022-07-13T10:12:46.096942Z",
     "shell.execute_reply": "2022-07-13T10:12:46.096487Z"
    },
    "papermill": {
     "duration": 0.042505,
     "end_time": "2022-07-13T10:12:46.097043",
     "exception": false,
     "start_time": "2022-07-13T10:12:46.054538",
     "status": "completed"
    },
    "tags": []
   },
   "outputs": [],
   "source": [
    "import mnist"
   ]
  },
  {
   "cell_type": "code",
   "execution_count": 5,
   "id": "a411e44f",
   "metadata": {
    "execution": {
     "iopub.execute_input": "2022-07-13T10:12:46.152629Z",
     "iopub.status.busy": "2022-07-13T10:12:46.151285Z",
     "iopub.status.idle": "2022-07-13T10:12:46.769338Z",
     "shell.execute_reply": "2022-07-13T10:12:46.768836Z"
    },
    "papermill": {
     "duration": 0.64732,
     "end_time": "2022-07-13T10:12:46.769451",
     "exception": false,
     "start_time": "2022-07-13T10:12:46.122131",
     "status": "completed"
    },
    "tags": []
   },
   "outputs": [],
   "source": [
    "train_images = mnist.train_images()\n",
    "train_labels = mnist.train_labels()"
   ]
  },
  {
   "cell_type": "code",
   "execution_count": 6,
   "id": "dceab3a5",
   "metadata": {
    "execution": {
     "iopub.execute_input": "2022-07-13T10:12:46.824050Z",
     "iopub.status.busy": "2022-07-13T10:12:46.823496Z",
     "iopub.status.idle": "2022-07-13T10:12:46.836991Z",
     "shell.execute_reply": "2022-07-13T10:12:46.837448Z"
    },
    "papermill": {
     "duration": 0.042681,
     "end_time": "2022-07-13T10:12:46.837562",
     "exception": false,
     "start_time": "2022-07-13T10:12:46.794881",
     "status": "completed"
    },
    "tags": []
   },
   "outputs": [
    {
     "data": {
      "text/plain": [
       "((60000, 28, 28), (60000,))"
      ]
     },
     "execution_count": 6,
     "metadata": {},
     "output_type": "execute_result"
    }
   ],
   "source": [
    "train_images.shape, train_labels.shape"
   ]
  },
  {
   "cell_type": "code",
   "execution_count": 7,
   "id": "f50dc2bb",
   "metadata": {
    "execution": {
     "iopub.execute_input": "2022-07-13T10:12:46.891818Z",
     "iopub.status.busy": "2022-07-13T10:12:46.891266Z",
     "iopub.status.idle": "2022-07-13T10:12:47.113739Z",
     "shell.execute_reply": "2022-07-13T10:12:47.113252Z"
    },
    "papermill": {
     "duration": 0.251066,
     "end_time": "2022-07-13T10:12:47.113858",
     "exception": false,
     "start_time": "2022-07-13T10:12:46.862792",
     "status": "completed"
    },
    "tags": []
   },
   "outputs": [],
   "source": [
    "test_images = mnist.test_images()\n",
    "test_labels = mnist.test_labels()"
   ]
  },
  {
   "cell_type": "code",
   "execution_count": 8,
   "id": "fc38cf1b",
   "metadata": {
    "execution": {
     "iopub.execute_input": "2022-07-13T10:12:47.168360Z",
     "iopub.status.busy": "2022-07-13T10:12:47.167815Z",
     "iopub.status.idle": "2022-07-13T10:12:47.180795Z",
     "shell.execute_reply": "2022-07-13T10:12:47.180222Z"
    },
    "papermill": {
     "duration": 0.041457,
     "end_time": "2022-07-13T10:12:47.180898",
     "exception": false,
     "start_time": "2022-07-13T10:12:47.139441",
     "status": "completed"
    },
    "tags": []
   },
   "outputs": [
    {
     "data": {
      "text/plain": [
       "((10000, 28, 28), (10000,))"
      ]
     },
     "execution_count": 8,
     "metadata": {},
     "output_type": "execute_result"
    }
   ],
   "source": [
    "test_images.shape, test_labels.shape"
   ]
  },
  {
   "cell_type": "code",
   "execution_count": 9,
   "id": "f9ed8fe0",
   "metadata": {
    "execution": {
     "iopub.execute_input": "2022-07-13T10:12:47.235859Z",
     "iopub.status.busy": "2022-07-13T10:12:47.235297Z",
     "iopub.status.idle": "2022-07-13T10:12:47.369426Z",
     "shell.execute_reply": "2022-07-13T10:12:47.369881Z"
    },
    "papermill": {
     "duration": 0.163582,
     "end_time": "2022-07-13T10:12:47.370012",
     "exception": false,
     "start_time": "2022-07-13T10:12:47.206430",
     "status": "completed"
    },
    "tags": []
   },
   "outputs": [
    {
     "name": "stdout",
     "output_type": "stream",
     "text": [
      "2\n"
     ]
    },
    {
     "data": {
      "text/plain": [
       "<matplotlib.image.AxesImage at 0x7f52f36514e0>"
      ]
     },
     "execution_count": 9,
     "metadata": {},
     "output_type": "execute_result"
    },
    {
     "data": {
      "image/png": "[encoded data removed]",
      "text/plain": [
       "<Figure size 432x288 with 1 Axes>"
      ]
     },
     "metadata": {
      "needs_background": "light"
     },
     "output_type": "display_data"
    }
   ],
   "source": [
    "image_index = 7776 # You may select anything up to 60,000\n",
    "print(train_labels[image_index]) \n",
    "plt.imshow(train_images[image_index], cmap='Greys')"
   ]
  },
  {
   "cell_type": "markdown",
   "id": "a8d2388d",
   "metadata": {
    "papermill": {
     "duration": 0.027094,
     "end_time": "2022-07-13T10:12:47.424329",
     "exception": false,
     "start_time": "2022-07-13T10:12:47.397235",
     "status": "completed"
    },
    "tags": []
   },
   "source": [
    "## Filter data to get 3 and 8 out"
   ]
  },
  {
   "cell_type": "code",
   "execution_count": 10,
   "id": "776f7fc7",
   "metadata": {
    "execution": {
     "iopub.execute_input": "2022-07-13T10:12:47.485335Z",
     "iopub.status.busy": "2022-07-13T10:12:47.481707Z",
     "iopub.status.idle": "2022-07-13T10:12:47.498897Z",
     "shell.execute_reply": "2022-07-13T10:12:47.498440Z"
    },
    "papermill": {
     "duration": 0.047656,
     "end_time": "2022-07-13T10:12:47.498999",
     "exception": false,
     "start_time": "2022-07-13T10:12:47.451343",
     "status": "completed"
    },
    "tags": []
   },
   "outputs": [],
   "source": [
    "train_filter = np.where((train_labels == 3 ) | (train_labels == 8))\n",
    "test_filter = np.where((test_labels == 3) | (test_labels == 8))\n",
    "X_train, y_train = train_images[train_filter], train_labels[train_filter]\n",
    "X_test, y_test = test_images[test_filter], test_labels[test_filter]"
   ]
  },
  {
   "cell_type": "markdown",
   "id": "948f0b7e",
   "metadata": {
    "papermill": {
     "duration": 0.026791,
     "end_time": "2022-07-13T10:12:47.552628",
     "exception": false,
     "start_time": "2022-07-13T10:12:47.525837",
     "status": "completed"
    },
    "tags": []
   },
   "source": [
    "We normalize the pizel values in the 0 to 1 range"
   ]
  },
  {
   "cell_type": "code",
   "execution_count": 11,
   "id": "ee4c2166",
   "metadata": {
    "execution": {
     "iopub.execute_input": "2022-07-13T10:12:47.609815Z",
     "iopub.status.busy": "2022-07-13T10:12:47.609261Z",
     "iopub.status.idle": "2022-07-13T10:12:47.649236Z",
     "shell.execute_reply": "2022-07-13T10:12:47.648760Z"
    },
    "papermill": {
     "duration": 0.069883,
     "end_time": "2022-07-13T10:12:47.649344",
     "exception": false,
     "start_time": "2022-07-13T10:12:47.579461",
     "status": "completed"
    },
    "tags": []
   },
   "outputs": [],
   "source": [
    "X_train = X_train/255.\n",
    "X_test = X_test/255."
   ]
  },
  {
   "cell_type": "markdown",
   "id": "ddcf4fab",
   "metadata": {
    "papermill": {
     "duration": 0.026803,
     "end_time": "2022-07-13T10:12:47.703172",
     "exception": false,
     "start_time": "2022-07-13T10:12:47.676369",
     "status": "completed"
    },
    "tags": []
   },
   "source": [
    "And setup the labels as 1 (when the digit is 3) and 0 (when the digit is 8)"
   ]
  },
  {
   "cell_type": "code",
   "execution_count": 12,
   "id": "7dc908f2",
   "metadata": {
    "execution": {
     "iopub.execute_input": "2022-07-13T10:12:47.759943Z",
     "iopub.status.busy": "2022-07-13T10:12:47.759394Z",
     "iopub.status.idle": "2022-07-13T10:12:47.771487Z",
     "shell.execute_reply": "2022-07-13T10:12:47.771020Z"
    },
    "papermill": {
     "duration": 0.041762,
     "end_time": "2022-07-13T10:12:47.771589",
     "exception": false,
     "start_time": "2022-07-13T10:12:47.729827",
     "status": "completed"
    },
    "tags": []
   },
   "outputs": [],
   "source": [
    "y_train = 1*(y_train==3)\n",
    "y_test = 1*(y_test==3)"
   ]
  },
  {
   "cell_type": "code",
   "execution_count": 13,
   "id": "01e4e969",
   "metadata": {
    "execution": {
     "iopub.execute_input": "2022-07-13T10:12:47.828810Z",
     "iopub.status.busy": "2022-07-13T10:12:47.828242Z",
     "iopub.status.idle": "2022-07-13T10:12:47.840836Z",
     "shell.execute_reply": "2022-07-13T10:12:47.841273Z"
    },
    "papermill": {
     "duration": 0.042592,
     "end_time": "2022-07-13T10:12:47.841385",
     "exception": false,
     "start_time": "2022-07-13T10:12:47.798793",
     "status": "completed"
    },
    "tags": []
   },
   "outputs": [
    {
     "data": {
      "text/plain": [
       "((11982, 28, 28), (1984, 28, 28))"
      ]
     },
     "execution_count": 13,
     "metadata": {},
     "output_type": "execute_result"
    }
   ],
   "source": [
    "X_train.shape, X_test.shape"
   ]
  },
  {
   "cell_type": "markdown",
   "id": "5ccf3f85",
   "metadata": {
    "papermill": {
     "duration": 0.026773,
     "end_time": "2022-07-13T10:12:47.895004",
     "exception": false,
     "start_time": "2022-07-13T10:12:47.868231",
     "status": "completed"
    },
    "tags": []
   },
   "source": [
    "We reshape the data to flatten the image pixels into a set of features or co-variates:"
   ]
  },
  {
   "cell_type": "code",
   "execution_count": 14,
   "id": "5286a4a3",
   "metadata": {
    "execution": {
     "iopub.execute_input": "2022-07-13T10:12:47.952926Z",
     "iopub.status.busy": "2022-07-13T10:12:47.952347Z",
     "iopub.status.idle": "2022-07-13T10:12:47.965153Z",
     "shell.execute_reply": "2022-07-13T10:12:47.965581Z"
    },
    "papermill": {
     "duration": 0.043644,
     "end_time": "2022-07-13T10:12:47.965690",
     "exception": false,
     "start_time": "2022-07-13T10:12:47.922046",
     "status": "completed"
    },
    "tags": []
   },
   "outputs": [
    {
     "data": {
      "text/plain": [
       "((11982, 784), (1984, 784))"
      ]
     },
     "execution_count": 14,
     "metadata": {},
     "output_type": "execute_result"
    }
   ],
   "source": [
    "X_train = X_train.reshape(X_train.shape[0], -1)\n",
    "X_test = X_test.reshape(X_test.shape[0], -1)\n",
    "X_train.shape, X_test.shape"
   ]
  },
  {
   "cell_type": "code",
   "execution_count": 15,
   "id": "73c5f88a",
   "metadata": {
    "execution": {
     "iopub.execute_input": "2022-07-13T10:12:48.023851Z",
     "iopub.status.busy": "2022-07-13T10:12:48.023286Z",
     "iopub.status.idle": "2022-07-13T10:12:48.041234Z",
     "shell.execute_reply": "2022-07-13T10:12:48.040792Z"
    },
    "papermill": {
     "duration": 0.048437,
     "end_time": "2022-07-13T10:12:48.041337",
     "exception": false,
     "start_time": "2022-07-13T10:12:47.992900",
     "status": "completed"
    },
    "tags": []
   },
   "outputs": [],
   "source": [
    "#Impoting functions from 'Kudzu'\n",
    "from kudzu.model import Model\n",
    "from kudzu.train import Learner\n",
    "from kudzu.optim import GD\n",
    "from kudzu.data import Data, Sampler,Dataloader\n",
    "\n",
    "from kudzu.callbacks import AccCallback\n",
    "from kudzu.callbacks import ClfCallback\n",
    "\n",
    "from kudzu.loss import MSE\n",
    "\n",
    "from kudzu.layer import Sigmoid,Relu\n",
    "from kudzu.layer import Affine"
   ]
  },
  {
   "cell_type": "markdown",
   "id": "bc01172a",
   "metadata": {
    "papermill": {
     "duration": 0.027508,
     "end_time": "2022-07-13T10:12:48.096121",
     "exception": false,
     "start_time": "2022-07-13T10:12:48.068613",
     "status": "completed"
    },
    "tags": []
   },
   "source": [
    "### Let us create a `Config` class, to store important parameters. \n",
    "This class essentially plays the role of a dictionary."
   ]
  },
  {
   "cell_type": "code",
   "execution_count": 16,
   "id": "978281aa",
   "metadata": {
    "execution": {
     "iopub.execute_input": "2022-07-13T10:12:48.153712Z",
     "iopub.status.busy": "2022-07-13T10:12:48.153158Z",
     "iopub.status.idle": "2022-07-13T10:12:48.164779Z",
     "shell.execute_reply": "2022-07-13T10:12:48.165214Z"
    },
    "papermill": {
     "duration": 0.042225,
     "end_time": "2022-07-13T10:12:48.165327",
     "exception": false,
     "start_time": "2022-07-13T10:12:48.123102",
     "status": "completed"
    },
    "tags": []
   },
   "outputs": [],
   "source": [
    "class Config:\n",
    "    pass\n",
    "config = Config()\n",
    "config.lr = 0.001\n",
    "config.num_epochs = 250\n",
    "config.bs = 50"
   ]
  },
  {
   "cell_type": "markdown",
   "id": "1385fa59",
   "metadata": {
    "papermill": {
     "duration": 0.027369,
     "end_time": "2022-07-13T10:12:48.220060",
     "exception": false,
     "start_time": "2022-07-13T10:12:48.192691",
     "status": "completed"
    },
    "tags": []
   },
   "source": [
    "### Running Models with the Training data\n",
    "Details about the network layers:\n",
    "- A first affine layer has 784 inputs and does 100 affine transforms. These are followed by a Relu\n",
    "- A second affine layer has 100 inputs from the 100 activations of the past layer, and does 100 affine transforms. These are followed by a Relu\n",
    "- A third affine layer has 100 activations and does 2 affine transformations to create an embedding for visualization. There is no non-linearity here.\n",
    "- A final \"logistic regression\" which has an affine transform from 2 inputs to 1 output, which is squeezed through a sigmoid.\n"
   ]
  },
  {
   "cell_type": "code",
   "execution_count": 17,
   "id": "2b9c66db",
   "metadata": {
    "execution": {
     "iopub.execute_input": "2022-07-13T10:12:48.278829Z",
     "iopub.status.busy": "2022-07-13T10:12:48.278260Z",
     "iopub.status.idle": "2022-07-13T10:12:48.289804Z",
     "shell.execute_reply": "2022-07-13T10:12:48.290269Z"
    },
    "papermill": {
     "duration": 0.043087,
     "end_time": "2022-07-13T10:12:48.290382",
     "exception": false,
     "start_time": "2022-07-13T10:12:48.247295",
     "status": "completed"
    },
    "tags": []
   },
   "outputs": [],
   "source": [
    "data = Data(X_train, y_train.reshape(-1,1))\n",
    "sampler = Sampler(data, config.bs, shuffle=True)\n",
    "\n",
    "dl = Dataloader(data, sampler)\n",
    "\n",
    "opt = GD(config.lr)\n",
    "loss = MSE()"
   ]
  },
  {
   "cell_type": "code",
   "execution_count": 18,
   "id": "b275e4c2",
   "metadata": {
    "execution": {
     "iopub.execute_input": "2022-07-13T10:12:48.347991Z",
     "iopub.status.busy": "2022-07-13T10:12:48.347434Z",
     "iopub.status.idle": "2022-07-13T10:12:48.359291Z",
     "shell.execute_reply": "2022-07-13T10:12:48.358770Z"
    },
    "papermill": {
     "duration": 0.041789,
     "end_time": "2022-07-13T10:12:48.359388",
     "exception": false,
     "start_time": "2022-07-13T10:12:48.317599",
     "status": "completed"
    },
    "tags": []
   },
   "outputs": [],
   "source": [
    "training_data_x = X_train\n",
    "testing_data_x = X_test\n",
    "training_data_y = y_train.reshape(-1,1)\n",
    "testing_data_y = y_test.reshape(-1,1)"
   ]
  },
  {
   "cell_type": "code",
   "execution_count": 19,
   "id": "76951160",
   "metadata": {
    "execution": {
     "iopub.execute_input": "2022-07-13T10:12:48.417882Z",
     "iopub.status.busy": "2022-07-13T10:12:48.417309Z",
     "iopub.status.idle": "2022-07-13T10:12:48.433210Z",
     "shell.execute_reply": "2022-07-13T10:12:48.432656Z"
    },
    "papermill": {
     "duration": 0.046792,
     "end_time": "2022-07-13T10:12:48.433312",
     "exception": false,
     "start_time": "2022-07-13T10:12:48.386520",
     "status": "completed"
    },
    "tags": []
   },
   "outputs": [
    {
     "name": "stdout",
     "output_type": "stream",
     "text": [
      "xavier\n",
      "xavier\n",
      "xavier\n",
      "xavier\n",
      "xavier\n"
     ]
    }
   ],
   "source": [
    "layers = [Affine(\"first\", 784, 100), Relu(\"first\"), Affine(\"second\", 100, 100), Relu(\"second\"), Affine(\"third\", 100, 2), Affine(\"last\", 2, 1), Sigmoid(\"last\")]\n",
    "model_nn = Model(layers)\n",
    "model_lr = Model([Affine(\"logits\", 784, 1), Sigmoid(\"sigmoid\")])"
   ]
  },
  {
   "cell_type": "code",
   "execution_count": 20,
   "id": "6eede77a",
   "metadata": {
    "execution": {
     "iopub.execute_input": "2022-07-13T10:12:48.492320Z",
     "iopub.status.busy": "2022-07-13T10:12:48.491772Z",
     "iopub.status.idle": "2022-07-13T10:12:48.503936Z",
     "shell.execute_reply": "2022-07-13T10:12:48.503490Z"
    },
    "papermill": {
     "duration": 0.042932,
     "end_time": "2022-07-13T10:12:48.504034",
     "exception": false,
     "start_time": "2022-07-13T10:12:48.461102",
     "status": "completed"
    },
    "tags": []
   },
   "outputs": [],
   "source": [
    "nn_learner = Learner(loss, model_nn, opt, config.num_epochs)\n",
    "acc_nn = ClfCallback(nn_learner, config.bs, training_data_x , testing_data_x, training_data_y, testing_data_y)\n",
    "nn_learner.set_callbacks([acc_nn])"
   ]
  },
  {
   "cell_type": "code",
   "execution_count": 21,
   "id": "877b6cc7",
   "metadata": {
    "execution": {
     "iopub.execute_input": "2022-07-13T10:12:48.563204Z",
     "iopub.status.busy": "2022-07-13T10:12:48.562642Z",
     "iopub.status.idle": "2022-07-13T10:12:48.574751Z",
     "shell.execute_reply": "2022-07-13T10:12:48.574311Z"
    },
    "papermill": {
     "duration": 0.043033,
     "end_time": "2022-07-13T10:12:48.574849",
     "exception": false,
     "start_time": "2022-07-13T10:12:48.531816",
     "status": "completed"
    },
    "tags": []
   },
   "outputs": [],
   "source": [
    "lr_learner = Learner(loss, model_lr, opt, config.num_epochs)\n",
    "acc_lr = ClfCallback(lr_learner, config.bs, training_data_x , testing_data_x, training_data_y, testing_data_y)\n",
    "lr_learner.set_callbacks([acc_lr])"
   ]
  },
  {
   "cell_type": "code",
   "execution_count": 22,
   "id": "d9b133c3",
   "metadata": {
    "execution": {
     "iopub.execute_input": "2022-07-13T10:12:48.633202Z",
     "iopub.status.busy": "2022-07-13T10:12:48.632650Z",
     "iopub.status.idle": "2022-07-13T10:15:44.454544Z",
     "shell.execute_reply": "2022-07-13T10:15:44.454996Z"
    },
    "papermill": {
     "duration": 175.852621,
     "end_time": "2022-07-13T10:15:44.455124",
     "exception": false,
     "start_time": "2022-07-13T10:12:48.602503",
     "status": "completed"
    },
    "tags": []
   },
   "outputs": [
    {
     "name": "stdout",
     "output_type": "stream",
     "text": [
      "Epoch 0, Loss 0.2713\n",
      "Training Accuracy: 0.4833, Testing Accuracy: 0.4874\n",
      "\n"
     ]
    },
    {
     "name": "stdout",
     "output_type": "stream",
     "text": [
      "Epoch 10, Loss 0.1441\n",
      "Training Accuracy: 0.9043, Testing Accuracy: 0.9123\n",
      "\n"
     ]
    },
    {
     "name": "stdout",
     "output_type": "stream",
     "text": [
      "Epoch 20, Loss 0.0714\n",
      "Training Accuracy: 0.9328, Testing Accuracy: 0.9435\n",
      "\n"
     ]
    },
    {
     "name": "stdout",
     "output_type": "stream",
     "text": [
      "Epoch 30, Loss 0.0506\n",
      "Training Accuracy: 0.9468, Testing Accuracy: 0.9572\n",
      "\n"
     ]
    },
    {
     "name": "stdout",
     "output_type": "stream",
     "text": [
      "Epoch 40, Loss 0.0416\n",
      "Training Accuracy: 0.9533, Testing Accuracy: 0.9637\n",
      "\n"
     ]
    },
    {
     "name": "stdout",
     "output_type": "stream",
     "text": [
      "Epoch 50, Loss 0.0367\n",
      "Training Accuracy: 0.9573, Testing Accuracy: 0.9662\n",
      "\n"
     ]
    },
    {
     "name": "stdout",
     "output_type": "stream",
     "text": [
      "Epoch 60, Loss 0.0336\n",
      "Training Accuracy: 0.9604, Testing Accuracy: 0.9677\n",
      "\n"
     ]
    },
    {
     "name": "stdout",
     "output_type": "stream",
     "text": [
      "Epoch 70, Loss 0.0314\n",
      "Training Accuracy: 0.9624, Testing Accuracy: 0.9703\n",
      "\n"
     ]
    },
    {
     "name": "stdout",
     "output_type": "stream",
     "text": [
      "Epoch 80, Loss 0.0297\n",
      "Training Accuracy: 0.9644, Testing Accuracy: 0.9713\n",
      "\n"
     ]
    },
    {
     "name": "stdout",
     "output_type": "stream",
     "text": [
      "Epoch 90, Loss 0.0283\n",
      "Training Accuracy: 0.9663, Testing Accuracy: 0.9713\n",
      "\n"
     ]
    },
    {
     "name": "stdout",
     "output_type": "stream",
     "text": [
      "Epoch 100, Loss 0.0272\n",
      "Training Accuracy: 0.9676, Testing Accuracy: 0.9718\n",
      "\n"
     ]
    },
    {
     "name": "stdout",
     "output_type": "stream",
     "text": [
      "Epoch 110, Loss 0.0262\n",
      "Training Accuracy: 0.9692, Testing Accuracy: 0.9718\n",
      "\n"
     ]
    },
    {
     "name": "stdout",
     "output_type": "stream",
     "text": [
      "Epoch 120, Loss 0.0253\n",
      "Training Accuracy: 0.9703, Testing Accuracy: 0.9733\n",
      "\n"
     ]
    },
    {
     "name": "stdout",
     "output_type": "stream",
     "text": [
      "Epoch 130, Loss 0.0244\n",
      "Training Accuracy: 0.9710, Testing Accuracy: 0.9733\n",
      "\n"
     ]
    },
    {
     "name": "stdout",
     "output_type": "stream",
     "text": [
      "Epoch 140, Loss 0.0237\n",
      "Training Accuracy: 0.9720, Testing Accuracy: 0.9728\n",
      "\n"
     ]
    },
    {
     "name": "stdout",
     "output_type": "stream",
     "text": [
      "Epoch 150, Loss 0.023\n",
      "Training Accuracy: 0.9731, Testing Accuracy: 0.9738\n",
      "\n"
     ]
    },
    {
     "name": "stdout",
     "output_type": "stream",
     "text": [
      "Epoch 160, Loss 0.0224\n",
      "Training Accuracy: 0.9737, Testing Accuracy: 0.9743\n",
      "\n"
     ]
    },
    {
     "name": "stdout",
     "output_type": "stream",
     "text": [
      "Epoch 170, Loss 0.0219\n",
      "Training Accuracy: 0.9743, Testing Accuracy: 0.9743\n",
      "\n"
     ]
    },
    {
     "name": "stdout",
     "output_type": "stream",
     "text": [
      "Epoch 180, Loss 0.0213\n",
      "Training Accuracy: 0.9755, Testing Accuracy: 0.9753\n",
      "\n"
     ]
    },
    {
     "name": "stdout",
     "output_type": "stream",
     "text": [
      "Epoch 190, Loss 0.0209\n",
      "Training Accuracy: 0.9761, Testing Accuracy: 0.9748\n",
      "\n"
     ]
    },
    {
     "name": "stdout",
     "output_type": "stream",
     "text": [
      "Epoch 200, Loss 0.0204\n",
      "Training Accuracy: 0.9765, Testing Accuracy: 0.9758\n",
      "\n"
     ]
    },
    {
     "name": "stdout",
     "output_type": "stream",
     "text": [
      "Epoch 210, Loss 0.0199\n",
      "Training Accuracy: 0.9776, Testing Accuracy: 0.9753\n",
      "\n"
     ]
    },
    {
     "name": "stdout",
     "output_type": "stream",
     "text": [
      "Epoch 220, Loss 0.0195\n",
      "Training Accuracy: 0.9782, Testing Accuracy: 0.9753\n",
      "\n"
     ]
    },
    {
     "name": "stdout",
     "output_type": "stream",
     "text": [
      "Epoch 230, Loss 0.0191\n",
      "Training Accuracy: 0.9791, Testing Accuracy: 0.9758\n",
      "\n"
     ]
    },
    {
     "name": "stdout",
     "output_type": "stream",
     "text": [
      "Epoch 240, Loss 0.0187\n",
      "Training Accuracy: 0.9796, Testing Accuracy: 0.9753\n",
      "\n"
     ]
    },
    {
     "data": {
      "text/plain": [
       "0.0063528455462289295"
      ]
     },
     "execution_count": 22,
     "metadata": {},
     "output_type": "execute_result"
    }
   ],
   "source": [
    "nn_learner.train_loop(dl)"
   ]
  },
  {
   "cell_type": "code",
   "execution_count": 23,
   "id": "e0163366",
   "metadata": {
    "execution": {
     "iopub.execute_input": "2022-07-13T10:15:44.530110Z",
     "iopub.status.busy": "2022-07-13T10:15:44.528628Z",
     "iopub.status.idle": "2022-07-13T10:15:56.640046Z",
     "shell.execute_reply": "2022-07-13T10:15:56.640892Z"
    },
    "papermill": {
     "duration": 12.151795,
     "end_time": "2022-07-13T10:15:56.641027",
     "exception": false,
     "start_time": "2022-07-13T10:15:44.489232",
     "status": "completed"
    },
    "tags": []
   },
   "outputs": [
    {
     "name": "stdout",
     "output_type": "stream",
     "text": [
      "Epoch 0, Loss 0.2432\n",
      "Training Accuracy: 0.7073, Testing Accuracy: 0.6956\n",
      "\n"
     ]
    },
    {
     "name": "stdout",
     "output_type": "stream",
     "text": [
      "Epoch 10, Loss 0.1011\n",
      "Training Accuracy: 0.9167, Testing Accuracy: 0.9259\n",
      "\n"
     ]
    },
    {
     "name": "stdout",
     "output_type": "stream",
     "text": [
      "Epoch 20, Loss 0.0779\n",
      "Training Accuracy: 0.9310, Testing Accuracy: 0.9400\n",
      "\n"
     ]
    },
    {
     "name": "stdout",
     "output_type": "stream",
     "text": [
      "Epoch 30, Loss 0.0674\n",
      "Training Accuracy: 0.9376, Testing Accuracy: 0.9446\n",
      "\n"
     ]
    },
    {
     "name": "stdout",
     "output_type": "stream",
     "text": [
      "Epoch 40, Loss 0.061\n",
      "Training Accuracy: 0.9412, Testing Accuracy: 0.9501\n",
      "\n"
     ]
    },
    {
     "name": "stdout",
     "output_type": "stream",
     "text": [
      "Epoch 50, Loss 0.0567\n",
      "Training Accuracy: 0.9451, Testing Accuracy: 0.9526\n",
      "\n"
     ]
    },
    {
     "name": "stdout",
     "output_type": "stream",
     "text": [
      "Epoch 60, Loss 0.0534\n",
      "Training Accuracy: 0.9481, Testing Accuracy: 0.9567\n",
      "\n"
     ]
    },
    {
     "name": "stdout",
     "output_type": "stream",
     "text": [
      "Epoch 70, Loss 0.051\n",
      "Training Accuracy: 0.9503, Testing Accuracy: 0.9577\n",
      "\n"
     ]
    },
    {
     "name": "stdout",
     "output_type": "stream",
     "text": [
      "Epoch 80, Loss 0.049\n",
      "Training Accuracy: 0.9515, Testing Accuracy: 0.9602\n",
      "\n"
     ]
    },
    {
     "name": "stdout",
     "output_type": "stream",
     "text": [
      "Epoch 90, Loss 0.0473\n",
      "Training Accuracy: 0.9523, Testing Accuracy: 0.9612\n",
      "\n"
     ]
    },
    {
     "name": "stdout",
     "output_type": "stream",
     "text": [
      "Epoch 100, Loss 0.0459\n",
      "Training Accuracy: 0.9533, Testing Accuracy: 0.9617\n",
      "\n"
     ]
    },
    {
     "name": "stdout",
     "output_type": "stream",
     "text": [
      "Epoch 110, Loss 0.0447\n",
      "Training Accuracy: 0.9547, Testing Accuracy: 0.9612\n",
      "\n"
     ]
    },
    {
     "name": "stdout",
     "output_type": "stream",
     "text": [
      "Epoch 120, Loss 0.0437\n",
      "Training Accuracy: 0.9554, Testing Accuracy: 0.9607\n",
      "\n"
     ]
    },
    {
     "name": "stdout",
     "output_type": "stream",
     "text": [
      "Epoch 130, Loss 0.0427\n",
      "Training Accuracy: 0.9558, Testing Accuracy: 0.9612\n",
      "\n"
     ]
    },
    {
     "name": "stdout",
     "output_type": "stream",
     "text": [
      "Epoch 140, Loss 0.0419\n",
      "Training Accuracy: 0.9562, Testing Accuracy: 0.9612\n",
      "\n"
     ]
    },
    {
     "name": "stdout",
     "output_type": "stream",
     "text": [
      "Epoch 150, Loss 0.0412\n",
      "Training Accuracy: 0.9568, Testing Accuracy: 0.9622\n",
      "\n"
     ]
    },
    {
     "name": "stdout",
     "output_type": "stream",
     "text": [
      "Epoch 160, Loss 0.0405\n",
      "Training Accuracy: 0.9574, Testing Accuracy: 0.9632\n",
      "\n"
     ]
    },
    {
     "name": "stdout",
     "output_type": "stream",
     "text": [
      "Epoch 170, Loss 0.0399\n",
      "Training Accuracy: 0.9580, Testing Accuracy: 0.9637\n",
      "\n"
     ]
    },
    {
     "name": "stdout",
     "output_type": "stream",
     "text": [
      "Epoch 180, Loss 0.0394\n",
      "Training Accuracy: 0.9584, Testing Accuracy: 0.9642\n",
      "\n"
     ]
    },
    {
     "name": "stdout",
     "output_type": "stream",
     "text": [
      "Epoch 190, Loss 0.0389\n",
      "Training Accuracy: 0.9589, Testing Accuracy: 0.9647\n",
      "\n"
     ]
    },
    {
     "name": "stdout",
     "output_type": "stream",
     "text": [
      "Epoch 200, Loss 0.0384\n",
      "Training Accuracy: 0.9597, Testing Accuracy: 0.9647\n",
      "\n"
     ]
    },
    {
     "name": "stdout",
     "output_type": "stream",
     "text": [
      "Epoch 210, Loss 0.0379\n",
      "Training Accuracy: 0.9599, Testing Accuracy: 0.9652\n",
      "\n"
     ]
    },
    {
     "name": "stdout",
     "output_type": "stream",
     "text": [
      "Epoch 220, Loss 0.0375\n",
      "Training Accuracy: 0.9602, Testing Accuracy: 0.9652\n",
      "\n"
     ]
    },
    {
     "name": "stdout",
     "output_type": "stream",
     "text": [
      "Epoch 230, Loss 0.0371\n",
      "Training Accuracy: 0.9606, Testing Accuracy: 0.9657\n",
      "\n"
     ]
    },
    {
     "name": "stdout",
     "output_type": "stream",
     "text": [
      "Epoch 240, Loss 0.0368\n",
      "Training Accuracy: 0.9609, Testing Accuracy: 0.9652\n",
      "\n"
     ]
    },
    {
     "data": {
      "text/plain": [
       "0.015534634209656952"
      ]
     },
     "execution_count": 23,
     "metadata": {},
     "output_type": "execute_result"
    }
   ],
   "source": [
    "lr_learner.train_loop(dl)"
   ]
  },
  {
   "cell_type": "code",
   "execution_count": 24,
   "id": "ca410940",
   "metadata": {
    "execution": {
     "iopub.execute_input": "2022-07-13T10:15:56.733776Z",
     "iopub.status.busy": "2022-07-13T10:15:56.733183Z",
     "iopub.status.idle": "2022-07-13T10:15:56.957168Z",
     "shell.execute_reply": "2022-07-13T10:15:56.956706Z"
    },
    "papermill": {
     "duration": 0.270886,
     "end_time": "2022-07-13T10:15:56.957285",
     "exception": false,
     "start_time": "2022-07-13T10:15:56.686399",
     "status": "completed"
    },
    "tags": []
   },
   "outputs": [
    {
     "data": {
      "text/plain": [
       "<matplotlib.legend.Legend at 0x7f52f31afb00>"
      ]
     },
     "execution_count": 24,
     "metadata": {},
     "output_type": "execute_result"
    },
    {
     "data": {
      "image/png": "[encoded data removed]",
      "text/plain": [
       "<Figure size 1080x720 with 1 Axes>"
      ]
     },
     "metadata": {
      "needs_background": "light"
     },
     "output_type": "display_data"
    }
   ],
   "source": [
    "#comparing the results of NN and LR\n",
    "plt.figure(figsize=(15,10))\n",
    "\n",
    "# Neural Network plots\n",
    "plt.plot(acc_nn.accuracies, 'r-', label = \"Training Accuracies - NN\")\n",
    "plt.plot(acc_nn.test_accuracies, 'g-', label = \"Testing Accuracies - NN\")\n",
    "\n",
    "# Logistic Regression plots\n",
    "plt.plot(acc_lr.accuracies, 'k-', label = \"Training Accuracies - LR\")\n",
    "plt.plot(acc_lr.test_accuracies, 'b-', label = \"Testing Accuracies - LR\")\n",
    "plt.legend()"
   ]
  },
  {
   "cell_type": "markdown",
   "id": "80dfb35c",
   "metadata": {
    "papermill": {
     "duration": 0.042504,
     "end_time": "2022-07-13T10:15:57.042676",
     "exception": false,
     "start_time": "2022-07-13T10:15:57.000172",
     "status": "completed"
    },
    "tags": []
   },
   "source": [
    "#### Plotting the outputs of this layer of the NN.\n"
   ]
  },
  {
   "cell_type": "code",
   "execution_count": 25,
   "id": "45eb2ff5",
   "metadata": {
    "execution": {
     "iopub.execute_input": "2022-07-13T10:15:57.134667Z",
     "iopub.status.busy": "2022-07-13T10:15:57.133108Z",
     "iopub.status.idle": "2022-07-13T10:15:57.168791Z",
     "shell.execute_reply": "2022-07-13T10:15:57.168313Z"
    },
    "papermill": {
     "duration": 0.083647,
     "end_time": "2022-07-13T10:15:57.168902",
     "exception": false,
     "start_time": "2022-07-13T10:15:57.085255",
     "status": "completed"
    },
    "tags": []
   },
   "outputs": [],
   "source": [
    "new_model = Model(layers[:-2])\n",
    "testing_plot = new_model(testing_data_x)"
   ]
  },
  {
   "cell_type": "code",
   "execution_count": 26,
   "id": "4c0a5485",
   "metadata": {
    "execution": {
     "iopub.execute_input": "2022-07-13T10:15:57.260061Z",
     "iopub.status.busy": "2022-07-13T10:15:57.259502Z",
     "iopub.status.idle": "2022-07-13T10:15:57.450574Z",
     "shell.execute_reply": "2022-07-13T10:15:57.450052Z"
    },
    "papermill": {
     "duration": 0.238984,
     "end_time": "2022-07-13T10:15:57.450680",
     "exception": false,
     "start_time": "2022-07-13T10:15:57.211696",
     "status": "completed"
    },
    "tags": []
   },
   "outputs": [
    {
     "data": {
      "text/plain": [
       "Text(0.5, 1.0, 'Outputs')"
      ]
     },
     "execution_count": 26,
     "metadata": {},
     "output_type": "execute_result"
    },
    {
     "data": {
      "image/png": "[encoded data removed]",
      "text/plain": [
       "<Figure size 576x504 with 1 Axes>"
      ]
     },
     "metadata": {
      "needs_background": "light"
     },
     "output_type": "display_data"
    }
   ],
   "source": [
    "# Plotting the scatter plot of points and color coding by class\n",
    "plt.figure(figsize=(8,7))\n",
    "plt.scatter(testing_plot[:,0], testing_plot[:,1], alpha = 0.1, c = y_test.ravel());\n",
    "plt.title('Outputs')"
   ]
  },
  {
   "cell_type": "markdown",
   "id": "a74fcf8f",
   "metadata": {
    "papermill": {
     "duration": 0.044733,
     "end_time": "2022-07-13T10:15:57.563113",
     "exception": false,
     "start_time": "2022-07-13T10:15:57.518380",
     "status": "completed"
    },
    "tags": []
   },
   "source": [
    "Probability contours"
   ]
  },
  {
   "cell_type": "code",
   "execution_count": 27,
   "id": "d0afc8e3",
   "metadata": {
    "execution": {
     "iopub.execute_input": "2022-07-13T10:15:57.659209Z",
     "iopub.status.busy": "2022-07-13T10:15:57.657353Z",
     "iopub.status.idle": "2022-07-13T10:15:57.668572Z",
     "shell.execute_reply": "2022-07-13T10:15:57.668099Z"
    },
    "papermill": {
     "duration": 0.060811,
     "end_time": "2022-07-13T10:15:57.668677",
     "exception": false,
     "start_time": "2022-07-13T10:15:57.607866",
     "status": "completed"
    },
    "tags": []
   },
   "outputs": [],
   "source": [
    "model_prob = Model(layers[-2:]) "
   ]
  },
  {
   "cell_type": "code",
   "execution_count": 28,
   "id": "9b96e238",
   "metadata": {
    "execution": {
     "iopub.execute_input": "2022-07-13T10:15:57.766563Z",
     "iopub.status.busy": "2022-07-13T10:15:57.765968Z",
     "iopub.status.idle": "2022-07-13T10:15:57.778811Z",
     "shell.execute_reply": "2022-07-13T10:15:57.779222Z"
    },
    "papermill": {
     "duration": 0.064074,
     "end_time": "2022-07-13T10:15:57.779341",
     "exception": false,
     "start_time": "2022-07-13T10:15:57.715267",
     "status": "completed"
    },
    "tags": []
   },
   "outputs": [],
   "source": [
    "#creating the x and y ranges according to the above generated plot.\n",
    "x_range = np.linspace(-4, 1, 100) \n",
    "y_range = np.linspace(-6, 6, 100) \n",
    "x_grid, y_grid = np.meshgrid(x_range, y_range) # x_grid and y_grig are of size 100 X 100\n",
    "\n",
    "# converting x_grid and y_grid to continuous arrays\n",
    "x_gridflat = np.ravel(x_grid)\n",
    "y_gridflat = np.ravel(y_grid)\n",
    "\n",
    "# The last layer of the current model takes two columns as input. Hence transpose of np.vstack() is required.\n",
    "X = np.vstack((x_gridflat, y_gridflat)).T\n",
    "\n",
    "prob_contour = model_prob(X).reshape(100,100) "
   ]
  },
  {
   "cell_type": "code",
   "execution_count": 29,
   "id": "da72499a",
   "metadata": {
    "execution": {
     "iopub.execute_input": "2022-07-13T10:15:57.877499Z",
     "iopub.status.busy": "2022-07-13T10:15:57.875973Z",
     "iopub.status.idle": "2022-07-13T10:15:58.126177Z",
     "shell.execute_reply": "2022-07-13T10:15:58.125727Z"
    },
    "papermill": {
     "duration": 0.300667,
     "end_time": "2022-07-13T10:15:58.126288",
     "exception": false,
     "start_time": "2022-07-13T10:15:57.825621",
     "status": "completed"
    },
    "tags": []
   },
   "outputs": [
    {
     "data": {
      "image/png": "[encoded data removed]",
      "text/plain": [
       "<Figure size 720x648 with 1 Axes>"
      ]
     },
     "metadata": {
      "needs_background": "light"
     },
     "output_type": "display_data"
    }
   ],
   "source": [
    "plt.figure(figsize=(10,9))\n",
    "plt.scatter(testing_plot[:,0], testing_plot[:,1], alpha = 0.1, c = y_test.ravel())\n",
    "contours = plt.contour(x_grid,y_grid,prob_contour)\n",
    "plt.title('Probability Contours')\n",
    "plt.clabel(contours, inline = True );"
   ]
  },
  {
   "cell_type": "code",
   "execution_count": null,
   "id": "e81b4ac7",
   "metadata": {
    "papermill": {
     "duration": 0.047412,
     "end_time": "2022-07-13T10:15:58.221655",
     "exception": false,
     "start_time": "2022-07-13T10:15:58.174243",
     "status": "completed"
    },
    "tags": []
   },
   "outputs": [],
   "source": []
  }
 ],
 "metadata": {
  "kernelspec": {
   "display_name": "Python 3",
   "language": "python",
   "name": "python3"
  },
  "language_info": {
   "codemirror_mode": {
    "name": "ipython",
    "version": 3
   },
   "file_extension": ".py",
   "mimetype": "text/x-python",
   "name": "python",
   "nbconvert_exporter": "python",
   "pygments_lexer": "ipython3",
   "version": "3.6.15"
  },
  "papermill": {
   "default_parameters": {},
   "duration": 196.046712,
   "end_time": "2022-07-13T10:15:58.586298",
   "environment_variables": {},
   "exception": null,
   "input_path": "2020-08-11-part2.ipynb",
   "output_path": "2020-08-11-part2.ipynb",
   "parameters": {},
   "start_time": "2022-07-13T10:12:42.539586",
   "version": "2.3.3"
  }
 },
 "nbformat": 4,
 "nbformat_minor": 5
}