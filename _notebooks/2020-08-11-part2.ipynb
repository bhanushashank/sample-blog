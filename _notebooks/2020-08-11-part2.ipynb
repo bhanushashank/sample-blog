{
 "cells": [
  {
   "cell_type": "markdown",
   "id": "98380cd3",
   "metadata": {
    "papermill": {
     "duration": 0.029845,
     "end_time": "2022-08-03T00:46:06.313338",
     "exception": false,
     "start_time": "2022-08-03T00:46:06.283493",
     "status": "completed"
    },
    "tags": []
   },
   "source": [
    "# Distinguish Your Own Digits (DYOD)"
   ]
  },
  {
   "cell_type": "markdown",
   "id": "ef31240d",
   "metadata": {
    "papermill": {
     "duration": 0.024702,
     "end_time": "2022-08-03T00:46:06.363173",
     "exception": false,
     "start_time": "2022-08-03T00:46:06.338471",
     "status": "completed"
    },
    "tags": []
   },
   "source": [
    "You are going to write a classifier that distinguishes between the number 3 and number 8."
   ]
  },
  {
   "cell_type": "code",
   "execution_count": 1,
   "id": "b15c8646",
   "metadata": {
    "execution": {
     "iopub.execute_input": "2022-08-03T00:46:06.422466Z",
     "iopub.status.busy": "2022-08-03T00:46:06.421864Z",
     "iopub.status.idle": "2022-08-03T00:46:06.432636Z",
     "shell.execute_reply": "2022-08-03T00:46:06.432164Z"
    },
    "papermill": {
     "duration": 0.045136,
     "end_time": "2022-08-03T00:46:06.432752",
     "exception": false,
     "start_time": "2022-08-03T00:46:06.387616",
     "status": "completed"
    },
    "tags": []
   },
   "outputs": [],
   "source": [
    "%load_ext autoreload\n",
    "%autoreload 2"
   ]
  },
  {
   "cell_type": "code",
   "execution_count": 2,
   "id": "22ef38dc",
   "metadata": {
    "execution": {
     "iopub.execute_input": "2022-08-03T00:46:06.486369Z",
     "iopub.status.busy": "2022-08-03T00:46:06.485796Z",
     "iopub.status.idle": "2022-08-03T00:46:07.009314Z",
     "shell.execute_reply": "2022-08-03T00:46:07.008839Z"
    },
    "papermill": {
     "duration": 0.55201,
     "end_time": "2022-08-03T00:46:07.009428",
     "exception": false,
     "start_time": "2022-08-03T00:46:06.457418",
     "status": "completed"
    },
    "tags": []
   },
   "outputs": [],
   "source": [
    "%matplotlib inline\n",
    "import numpy as np\n",
    "import matplotlib.pyplot as plt\n",
    "import pandas as pd"
   ]
  },
  {
   "cell_type": "markdown",
   "id": "ba036198",
   "metadata": {
    "papermill": {
     "duration": 0.024468,
     "end_time": "2022-08-03T00:46:07.058397",
     "exception": false,
     "start_time": "2022-08-03T00:46:07.033929",
     "status": "completed"
    },
    "tags": []
   },
   "source": [
    "From the command line run `pip install mnist`. This is a library that will help you bring down the mnist dataset. If you run this from a notebook, you need to put  `!pip install mnist` in a cell by itself."
   ]
  },
  {
   "cell_type": "code",
   "execution_count": 3,
   "id": "bb6ad8a1",
   "metadata": {
    "execution": {
     "iopub.execute_input": "2022-08-03T00:46:07.111493Z",
     "iopub.status.busy": "2022-08-03T00:46:07.110942Z",
     "iopub.status.idle": "2022-08-03T00:46:08.699524Z",
     "shell.execute_reply": "2022-08-03T00:46:08.698653Z"
    },
    "papermill": {
     "duration": 1.616636,
     "end_time": "2022-08-03T00:46:08.699643",
     "exception": false,
     "start_time": "2022-08-03T00:46:07.083007",
     "status": "completed"
    },
    "tags": []
   },
   "outputs": [
    {
     "name": "stdout",
     "output_type": "stream",
     "text": [
      "Collecting mnist\r\n"
     ]
    },
    {
     "name": "stdout",
     "output_type": "stream",
     "text": [
      "  Downloading mnist-0.2.2-py2.py3-none-any.whl (3.5 kB)\r\n",
      "Requirement already satisfied: numpy in /opt/hostedtoolcache/Python/3.6.15/x64/lib/python3.6/site-packages (from mnist) (1.19.5)\r\n"
     ]
    },
    {
     "name": "stdout",
     "output_type": "stream",
     "text": [
      "Installing collected packages: mnist\r\n",
      "Successfully installed mnist-0.2.2\r\n"
     ]
    }
   ],
   "source": [
    "!pip install mnist"
   ]
  },
  {
   "cell_type": "markdown",
   "id": "69df9c9a",
   "metadata": {
    "papermill": {
     "duration": 0.025438,
     "end_time": "2022-08-03T00:46:08.750721",
     "exception": false,
     "start_time": "2022-08-03T00:46:08.725283",
     "status": "completed"
    },
    "tags": []
   },
   "source": [
    "## Preparing the Data"
   ]
  },
  {
   "cell_type": "code",
   "execution_count": 4,
   "id": "7f69d806",
   "metadata": {
    "execution": {
     "iopub.execute_input": "2022-08-03T00:46:08.805827Z",
     "iopub.status.busy": "2022-08-03T00:46:08.805244Z",
     "iopub.status.idle": "2022-08-03T00:46:08.819882Z",
     "shell.execute_reply": "2022-08-03T00:46:08.819412Z"
    },
    "papermill": {
     "duration": 0.043992,
     "end_time": "2022-08-03T00:46:08.819989",
     "exception": false,
     "start_time": "2022-08-03T00:46:08.775997",
     "status": "completed"
    },
    "tags": []
   },
   "outputs": [],
   "source": [
    "import mnist"
   ]
  },
  {
   "cell_type": "code",
   "execution_count": 5,
   "id": "a411e44f",
   "metadata": {
    "execution": {
     "iopub.execute_input": "2022-08-03T00:46:08.874649Z",
     "iopub.status.busy": "2022-08-03T00:46:08.874062Z",
     "iopub.status.idle": "2022-08-03T00:46:09.407749Z",
     "shell.execute_reply": "2022-08-03T00:46:09.407266Z"
    },
    "papermill": {
     "duration": 0.562239,
     "end_time": "2022-08-03T00:46:09.407896",
     "exception": false,
     "start_time": "2022-08-03T00:46:08.845657",
     "status": "completed"
    },
    "tags": []
   },
   "outputs": [],
   "source": [
    "train_images = mnist.train_images()\n",
    "train_labels = mnist.train_labels()"
   ]
  },
  {
   "cell_type": "code",
   "execution_count": 6,
   "id": "dceab3a5",
   "metadata": {
    "execution": {
     "iopub.execute_input": "2022-08-03T00:46:09.463502Z",
     "iopub.status.busy": "2022-08-03T00:46:09.462910Z",
     "iopub.status.idle": "2022-08-03T00:46:09.477757Z",
     "shell.execute_reply": "2022-08-03T00:46:09.477304Z"
    },
    "papermill": {
     "duration": 0.044505,
     "end_time": "2022-08-03T00:46:09.477864",
     "exception": false,
     "start_time": "2022-08-03T00:46:09.433359",
     "status": "completed"
    },
    "tags": []
   },
   "outputs": [
    {
     "data": {
      "text/plain": [
       "((60000, 28, 28), (60000,))"
      ]
     },
     "execution_count": 6,
     "metadata": {},
     "output_type": "execute_result"
    }
   ],
   "source": [
    "train_images.shape, train_labels.shape"
   ]
  },
  {
   "cell_type": "code",
   "execution_count": 7,
   "id": "f50dc2bb",
   "metadata": {
    "execution": {
     "iopub.execute_input": "2022-08-03T00:46:09.532969Z",
     "iopub.status.busy": "2022-08-03T00:46:09.532423Z",
     "iopub.status.idle": "2022-08-03T00:46:09.686119Z",
     "shell.execute_reply": "2022-08-03T00:46:09.685643Z"
    },
    "papermill": {
     "duration": 0.182716,
     "end_time": "2022-08-03T00:46:09.686254",
     "exception": false,
     "start_time": "2022-08-03T00:46:09.503538",
     "status": "completed"
    },
    "tags": []
   },
   "outputs": [],
   "source": [
    "test_images = mnist.test_images()\n",
    "test_labels = mnist.test_labels()"
   ]
  },
  {
   "cell_type": "code",
   "execution_count": 8,
   "id": "fc38cf1b",
   "metadata": {
    "execution": {
     "iopub.execute_input": "2022-08-03T00:46:09.741779Z",
     "iopub.status.busy": "2022-08-03T00:46:09.741226Z",
     "iopub.status.idle": "2022-08-03T00:46:09.754315Z",
     "shell.execute_reply": "2022-08-03T00:46:09.753751Z"
    },
    "papermill": {
     "duration": 0.042498,
     "end_time": "2022-08-03T00:46:09.754421",
     "exception": false,
     "start_time": "2022-08-03T00:46:09.711923",
     "status": "completed"
    },
    "tags": []
   },
   "outputs": [
    {
     "data": {
      "text/plain": [
       "((10000, 28, 28), (10000,))"
      ]
     },
     "execution_count": 8,
     "metadata": {},
     "output_type": "execute_result"
    }
   ],
   "source": [
    "test_images.shape, test_labels.shape"
   ]
  },
  {
   "cell_type": "code",
   "execution_count": 9,
   "id": "f9ed8fe0",
   "metadata": {
    "execution": {
     "iopub.execute_input": "2022-08-03T00:46:09.810033Z",
     "iopub.status.busy": "2022-08-03T00:46:09.809488Z",
     "iopub.status.idle": "2022-08-03T00:46:09.943548Z",
     "shell.execute_reply": "2022-08-03T00:46:09.943987Z"
    },
    "papermill": {
     "duration": 0.163908,
     "end_time": "2022-08-03T00:46:09.944113",
     "exception": false,
     "start_time": "2022-08-03T00:46:09.780205",
     "status": "completed"
    },
    "tags": []
   },
   "outputs": [
    {
     "name": "stdout",
     "output_type": "stream",
     "text": [
      "2\n"
     ]
    },
    {
     "data": {
      "text/plain": [
       "<matplotlib.image.AxesImage at 0x7f978d248518>"
      ]
     },
     "execution_count": 9,
     "metadata": {},
     "output_type": "execute_result"
    },
    {
     "data": {
      "image/png": "[encoded data removed]",
      "text/plain": [
       "<Figure size 432x288 with 1 Axes>"
      ]
     },
     "metadata": {
      "needs_background": "light"
     },
     "output_type": "display_data"
    }
   ],
   "source": [
    "image_index = 7776 # You may select anything up to 60,000\n",
    "print(train_labels[image_index]) \n",
    "plt.imshow(train_images[image_index], cmap='Greys')"
   ]
  },
  {
   "cell_type": "markdown",
   "id": "a8d2388d",
   "metadata": {
    "papermill": {
     "duration": 0.026992,
     "end_time": "2022-08-03T00:46:09.998408",
     "exception": false,
     "start_time": "2022-08-03T00:46:09.971416",
     "status": "completed"
    },
    "tags": []
   },
   "source": [
    "## Filter data to get 3 and 8 out"
   ]
  },
  {
   "cell_type": "code",
   "execution_count": 10,
   "id": "776f7fc7",
   "metadata": {
    "execution": {
     "iopub.execute_input": "2022-08-03T00:46:10.056711Z",
     "iopub.status.busy": "2022-08-03T00:46:10.056128Z",
     "iopub.status.idle": "2022-08-03T00:46:10.071337Z",
     "shell.execute_reply": "2022-08-03T00:46:10.070865Z"
    },
    "papermill": {
     "duration": 0.046067,
     "end_time": "2022-08-03T00:46:10.071446",
     "exception": false,
     "start_time": "2022-08-03T00:46:10.025379",
     "status": "completed"
    },
    "tags": []
   },
   "outputs": [],
   "source": [
    "train_filter = np.where((train_labels == 3 ) | (train_labels == 8))\n",
    "test_filter = np.where((test_labels == 3) | (test_labels == 8))\n",
    "X_train, y_train = train_images[train_filter], train_labels[train_filter]\n",
    "X_test, y_test = test_images[test_filter], test_labels[test_filter]"
   ]
  },
  {
   "cell_type": "markdown",
   "id": "948f0b7e",
   "metadata": {
    "papermill": {
     "duration": 0.027285,
     "end_time": "2022-08-03T00:46:10.126041",
     "exception": false,
     "start_time": "2022-08-03T00:46:10.098756",
     "status": "completed"
    },
    "tags": []
   },
   "source": [
    "We normalize the pizel values in the 0 to 1 range"
   ]
  },
  {
   "cell_type": "code",
   "execution_count": 11,
   "id": "ee4c2166",
   "metadata": {
    "execution": {
     "iopub.execute_input": "2022-08-03T00:46:10.183792Z",
     "iopub.status.busy": "2022-08-03T00:46:10.183215Z",
     "iopub.status.idle": "2022-08-03T00:46:10.222232Z",
     "shell.execute_reply": "2022-08-03T00:46:10.221739Z"
    },
    "papermill": {
     "duration": 0.069367,
     "end_time": "2022-08-03T00:46:10.222344",
     "exception": false,
     "start_time": "2022-08-03T00:46:10.152977",
     "status": "completed"
    },
    "tags": []
   },
   "outputs": [],
   "source": [
    "X_train = X_train/255.\n",
    "X_test = X_test/255."
   ]
  },
  {
   "cell_type": "markdown",
   "id": "ddcf4fab",
   "metadata": {
    "papermill": {
     "duration": 0.026939,
     "end_time": "2022-08-03T00:46:10.276437",
     "exception": false,
     "start_time": "2022-08-03T00:46:10.249498",
     "status": "completed"
    },
    "tags": []
   },
   "source": [
    "And setup the labels as 1 (when the digit is 3) and 0 (when the digit is 8)"
   ]
  },
  {
   "cell_type": "code",
   "execution_count": 12,
   "id": "7dc908f2",
   "metadata": {
    "execution": {
     "iopub.execute_input": "2022-08-03T00:46:10.334286Z",
     "iopub.status.busy": "2022-08-03T00:46:10.333691Z",
     "iopub.status.idle": "2022-08-03T00:46:10.345406Z",
     "shell.execute_reply": "2022-08-03T00:46:10.344869Z"
    },
    "papermill": {
     "duration": 0.042136,
     "end_time": "2022-08-03T00:46:10.345513",
     "exception": false,
     "start_time": "2022-08-03T00:46:10.303377",
     "status": "completed"
    },
    "tags": []
   },
   "outputs": [],
   "source": [
    "y_train = 1*(y_train==3)\n",
    "y_test = 1*(y_test==3)"
   ]
  },
  {
   "cell_type": "code",
   "execution_count": 13,
   "id": "01e4e969",
   "metadata": {
    "execution": {
     "iopub.execute_input": "2022-08-03T00:46:10.403357Z",
     "iopub.status.busy": "2022-08-03T00:46:10.402790Z",
     "iopub.status.idle": "2022-08-03T00:46:10.415848Z",
     "shell.execute_reply": "2022-08-03T00:46:10.415303Z"
    },
    "papermill": {
     "duration": 0.043355,
     "end_time": "2022-08-03T00:46:10.415953",
     "exception": false,
     "start_time": "2022-08-03T00:46:10.372598",
     "status": "completed"
    },
    "tags": []
   },
   "outputs": [
    {
     "data": {
      "text/plain": [
       "((11982, 28, 28), (1984, 28, 28))"
      ]
     },
     "execution_count": 13,
     "metadata": {},
     "output_type": "execute_result"
    }
   ],
   "source": [
    "X_train.shape, X_test.shape"
   ]
  },
  {
   "cell_type": "markdown",
   "id": "5ccf3f85",
   "metadata": {
    "papermill": {
     "duration": 0.027481,
     "end_time": "2022-08-03T00:46:10.470787",
     "exception": false,
     "start_time": "2022-08-03T00:46:10.443306",
     "status": "completed"
    },
    "tags": []
   },
   "source": [
    "We reshape the data to flatten the image pixels into a set of features or co-variates:"
   ]
  },
  {
   "cell_type": "code",
   "execution_count": 14,
   "id": "5286a4a3",
   "metadata": {
    "execution": {
     "iopub.execute_input": "2022-08-03T00:46:10.529610Z",
     "iopub.status.busy": "2022-08-03T00:46:10.529043Z",
     "iopub.status.idle": "2022-08-03T00:46:10.542510Z",
     "shell.execute_reply": "2022-08-03T00:46:10.541947Z"
    },
    "papermill": {
     "duration": 0.04456,
     "end_time": "2022-08-03T00:46:10.542614",
     "exception": false,
     "start_time": "2022-08-03T00:46:10.498054",
     "status": "completed"
    },
    "tags": []
   },
   "outputs": [
    {
     "data": {
      "text/plain": [
       "((11982, 784), (1984, 784))"
      ]
     },
     "execution_count": 14,
     "metadata": {},
     "output_type": "execute_result"
    }
   ],
   "source": [
    "X_train = X_train.reshape(X_train.shape[0], -1)\n",
    "X_test = X_test.reshape(X_test.shape[0], -1)\n",
    "X_train.shape, X_test.shape"
   ]
  },
  {
   "cell_type": "code",
   "execution_count": 15,
   "id": "73c5f88a",
   "metadata": {
    "execution": {
     "iopub.execute_input": "2022-08-03T00:46:10.601900Z",
     "iopub.status.busy": "2022-08-03T00:46:10.601311Z",
     "iopub.status.idle": "2022-08-03T00:46:10.619768Z",
     "shell.execute_reply": "2022-08-03T00:46:10.619304Z"
    },
    "papermill": {
     "duration": 0.04968,
     "end_time": "2022-08-03T00:46:10.619874",
     "exception": false,
     "start_time": "2022-08-03T00:46:10.570194",
     "status": "completed"
    },
    "tags": []
   },
   "outputs": [],
   "source": [
    "#Impoting functions from 'Kudzu'\n",
    "from kudzu.model import Model\n",
    "from kudzu.train import Learner\n",
    "from kudzu.optim import GD\n",
    "from kudzu.data import Data, Sampler,Dataloader\n",
    "\n",
    "from kudzu.callbacks import AccCallback\n",
    "from kudzu.callbacks import ClfCallback\n",
    "\n",
    "from kudzu.loss import MSE\n",
    "\n",
    "from kudzu.layer import Sigmoid,Relu\n",
    "from kudzu.layer import Affine"
   ]
  },
  {
   "cell_type": "markdown",
   "id": "bc01172a",
   "metadata": {
    "papermill": {
     "duration": 0.027733,
     "end_time": "2022-08-03T00:46:10.675625",
     "exception": false,
     "start_time": "2022-08-03T00:46:10.647892",
     "status": "completed"
    },
    "tags": []
   },
   "source": [
    "### Let us create a `Config` class, to store important parameters. \n",
    "This class essentially plays the role of a dictionary."
   ]
  },
  {
   "cell_type": "code",
   "execution_count": 16,
   "id": "978281aa",
   "metadata": {
    "execution": {
     "iopub.execute_input": "2022-08-03T00:46:10.734682Z",
     "iopub.status.busy": "2022-08-03T00:46:10.734089Z",
     "iopub.status.idle": "2022-08-03T00:46:10.746018Z",
     "shell.execute_reply": "2022-08-03T00:46:10.746475Z"
    },
    "papermill": {
     "duration": 0.043553,
     "end_time": "2022-08-03T00:46:10.746598",
     "exception": false,
     "start_time": "2022-08-03T00:46:10.703045",
     "status": "completed"
    },
    "tags": []
   },
   "outputs": [],
   "source": [
    "class Config:\n",
    "    pass\n",
    "config = Config()\n",
    "config.lr = 0.001\n",
    "config.num_epochs = 250\n",
    "config.bs = 50"
   ]
  },
  {
   "cell_type": "markdown",
   "id": "1385fa59",
   "metadata": {
    "papermill": {
     "duration": 0.027458,
     "end_time": "2022-08-03T00:46:10.801658",
     "exception": false,
     "start_time": "2022-08-03T00:46:10.774200",
     "status": "completed"
    },
    "tags": []
   },
   "source": [
    "### Running Models with the Training data\n",
    "Details about the network layers:\n",
    "- A first affine layer has 784 inputs and does 100 affine transforms. These are followed by a Relu\n",
    "- A second affine layer has 100 inputs from the 100 activations of the past layer, and does 100 affine transforms. These are followed by a Relu\n",
    "- A third affine layer has 100 activations and does 2 affine transformations to create an embedding for visualization. There is no non-linearity here.\n",
    "- A final \"logistic regression\" which has an affine transform from 2 inputs to 1 output, which is squeezed through a sigmoid.\n"
   ]
  },
  {
   "cell_type": "code",
   "execution_count": 17,
   "id": "2b9c66db",
   "metadata": {
    "execution": {
     "iopub.execute_input": "2022-08-03T00:46:10.860688Z",
     "iopub.status.busy": "2022-08-03T00:46:10.860109Z",
     "iopub.status.idle": "2022-08-03T00:46:10.872505Z",
     "shell.execute_reply": "2022-08-03T00:46:10.872035Z"
    },
    "papermill": {
     "duration": 0.043502,
     "end_time": "2022-08-03T00:46:10.872611",
     "exception": false,
     "start_time": "2022-08-03T00:46:10.829109",
     "status": "completed"
    },
    "tags": []
   },
   "outputs": [],
   "source": [
    "data = Data(X_train, y_train.reshape(-1,1))\n",
    "sampler = Sampler(data, config.bs, shuffle=True)\n",
    "\n",
    "dl = Dataloader(data, sampler)\n",
    "\n",
    "opt = GD(config.lr)\n",
    "loss = MSE()"
   ]
  },
  {
   "cell_type": "code",
   "execution_count": 18,
   "id": "b275e4c2",
   "metadata": {
    "execution": {
     "iopub.execute_input": "2022-08-03T00:46:10.932313Z",
     "iopub.status.busy": "2022-08-03T00:46:10.931729Z",
     "iopub.status.idle": "2022-08-03T00:46:10.943999Z",
     "shell.execute_reply": "2022-08-03T00:46:10.943526Z"
    },
    "papermill": {
     "duration": 0.043774,
     "end_time": "2022-08-03T00:46:10.944105",
     "exception": false,
     "start_time": "2022-08-03T00:46:10.900331",
     "status": "completed"
    },
    "tags": []
   },
   "outputs": [],
   "source": [
    "training_data_x = X_train\n",
    "testing_data_x = X_test\n",
    "training_data_y = y_train.reshape(-1,1)\n",
    "testing_data_y = y_test.reshape(-1,1)"
   ]
  },
  {
   "cell_type": "code",
   "execution_count": 19,
   "id": "76951160",
   "metadata": {
    "execution": {
     "iopub.execute_input": "2022-08-03T00:46:11.002695Z",
     "iopub.status.busy": "2022-08-03T00:46:11.002074Z",
     "iopub.status.idle": "2022-08-03T00:46:11.019488Z",
     "shell.execute_reply": "2022-08-03T00:46:11.019956Z"
    },
    "papermill": {
     "duration": 0.048302,
     "end_time": "2022-08-03T00:46:11.020084",
     "exception": false,
     "start_time": "2022-08-03T00:46:10.971782",
     "status": "completed"
    },
    "tags": []
   },
   "outputs": [
    {
     "name": "stdout",
     "output_type": "stream",
     "text": [
      "xavier\n",
      "xavier\n",
      "xavier\n",
      "xavier\n",
      "xavier\n"
     ]
    }
   ],
   "source": [
    "layers = [Affine(\"first\", 784, 100), Relu(\"first\"), Affine(\"second\", 100, 100), Relu(\"second\"), Affine(\"third\", 100, 2), Affine(\"last\", 2, 1), Sigmoid(\"last\")]\n",
    "model_nn = Model(layers)\n",
    "model_lr = Model([Affine(\"logits\", 784, 1), Sigmoid(\"sigmoid\")])"
   ]
  },
  {
   "cell_type": "code",
   "execution_count": 20,
   "id": "6eede77a",
   "metadata": {
    "execution": {
     "iopub.execute_input": "2022-08-03T00:46:11.080478Z",
     "iopub.status.busy": "2022-08-03T00:46:11.079922Z",
     "iopub.status.idle": "2022-08-03T00:46:11.091854Z",
     "shell.execute_reply": "2022-08-03T00:46:11.091398Z"
    },
    "papermill": {
     "duration": 0.043865,
     "end_time": "2022-08-03T00:46:11.091960",
     "exception": false,
     "start_time": "2022-08-03T00:46:11.048095",
     "status": "completed"
    },
    "tags": []
   },
   "outputs": [],
   "source": [
    "nn_learner = Learner(loss, model_nn, opt, config.num_epochs)\n",
    "acc_nn = ClfCallback(nn_learner, config.bs, training_data_x , testing_data_x, training_data_y, testing_data_y)\n",
    "nn_learner.set_callbacks([acc_nn])"
   ]
  },
  {
   "cell_type": "code",
   "execution_count": 21,
   "id": "877b6cc7",
   "metadata": {
    "execution": {
     "iopub.execute_input": "2022-08-03T00:46:11.152694Z",
     "iopub.status.busy": "2022-08-03T00:46:11.151579Z",
     "iopub.status.idle": "2022-08-03T00:46:11.164775Z",
     "shell.execute_reply": "2022-08-03T00:46:11.164314Z"
    },
    "papermill": {
     "duration": 0.044862,
     "end_time": "2022-08-03T00:46:11.164883",
     "exception": false,
     "start_time": "2022-08-03T00:46:11.120021",
     "status": "completed"
    },
    "tags": []
   },
   "outputs": [],
   "source": [
    "lr_learner = Learner(loss, model_lr, opt, config.num_epochs)\n",
    "acc_lr = ClfCallback(lr_learner, config.bs, training_data_x , testing_data_x, training_data_y, testing_data_y)\n",
    "lr_learner.set_callbacks([acc_lr])"
   ]
  },
  {
   "cell_type": "code",
   "execution_count": 22,
   "id": "d9b133c3",
   "metadata": {
    "execution": {
     "iopub.execute_input": "2022-08-03T00:46:11.224669Z",
     "iopub.status.busy": "2022-08-03T00:46:11.224108Z",
     "iopub.status.idle": "2022-08-03T00:49:07.841706Z",
     "shell.execute_reply": "2022-08-03T00:49:07.842202Z"
    },
    "papermill": {
     "duration": 176.649442,
     "end_time": "2022-08-03T00:49:07.842339",
     "exception": false,
     "start_time": "2022-08-03T00:46:11.192897",
     "status": "completed"
    },
    "tags": []
   },
   "outputs": [
    {
     "name": "stdout",
     "output_type": "stream",
     "text": [
      "Epoch 0, Loss 0.2619\n",
      "Training Accuracy: 0.4338, Testing Accuracy: 0.4541\n",
      "\n"
     ]
    },
    {
     "name": "stdout",
     "output_type": "stream",
     "text": [
      "Epoch 10, Loss 0.1605\n",
      "Training Accuracy: 0.8933, Testing Accuracy: 0.9073\n",
      "\n"
     ]
    },
    {
     "name": "stdout",
     "output_type": "stream",
     "text": [
      "Epoch 20, Loss 0.0773\n",
      "Training Accuracy: 0.9281, Testing Accuracy: 0.9375\n",
      "\n"
     ]
    },
    {
     "name": "stdout",
     "output_type": "stream",
     "text": [
      "Epoch 30, Loss 0.0528\n",
      "Training Accuracy: 0.9440, Testing Accuracy: 0.9567\n",
      "\n"
     ]
    },
    {
     "name": "stdout",
     "output_type": "stream",
     "text": [
      "Epoch 40, Loss 0.043\n",
      "Training Accuracy: 0.9518, Testing Accuracy: 0.9657\n",
      "\n"
     ]
    },
    {
     "name": "stdout",
     "output_type": "stream",
     "text": [
      "Epoch 50, Loss 0.0378\n",
      "Training Accuracy: 0.9565, Testing Accuracy: 0.9677\n",
      "\n"
     ]
    },
    {
     "name": "stdout",
     "output_type": "stream",
     "text": [
      "Epoch 60, Loss 0.0346\n",
      "Training Accuracy: 0.9598, Testing Accuracy: 0.9693\n",
      "\n"
     ]
    },
    {
     "name": "stdout",
     "output_type": "stream",
     "text": [
      "Epoch 70, Loss 0.0323\n",
      "Training Accuracy: 0.9624, Testing Accuracy: 0.9718\n",
      "\n"
     ]
    },
    {
     "name": "stdout",
     "output_type": "stream",
     "text": [
      "Epoch 80, Loss 0.0305\n",
      "Training Accuracy: 0.9644, Testing Accuracy: 0.9713\n",
      "\n"
     ]
    },
    {
     "name": "stdout",
     "output_type": "stream",
     "text": [
      "Epoch 90, Loss 0.0291\n",
      "Training Accuracy: 0.9654, Testing Accuracy: 0.9718\n",
      "\n"
     ]
    },
    {
     "name": "stdout",
     "output_type": "stream",
     "text": [
      "Epoch 100, Loss 0.028\n",
      "Training Accuracy: 0.9673, Testing Accuracy: 0.9728\n",
      "\n"
     ]
    },
    {
     "name": "stdout",
     "output_type": "stream",
     "text": [
      "Epoch 110, Loss 0.027\n",
      "Training Accuracy: 0.9682, Testing Accuracy: 0.9728\n",
      "\n"
     ]
    },
    {
     "name": "stdout",
     "output_type": "stream",
     "text": [
      "Epoch 120, Loss 0.0261\n",
      "Training Accuracy: 0.9689, Testing Accuracy: 0.9738\n",
      "\n"
     ]
    },
    {
     "name": "stdout",
     "output_type": "stream",
     "text": [
      "Epoch 130, Loss 0.0254\n",
      "Training Accuracy: 0.9700, Testing Accuracy: 0.9738\n",
      "\n"
     ]
    },
    {
     "name": "stdout",
     "output_type": "stream",
     "text": [
      "Epoch 140, Loss 0.0247\n",
      "Training Accuracy: 0.9714, Testing Accuracy: 0.9728\n",
      "\n"
     ]
    },
    {
     "name": "stdout",
     "output_type": "stream",
     "text": [
      "Epoch 150, Loss 0.024\n",
      "Training Accuracy: 0.9725, Testing Accuracy: 0.9733\n",
      "\n"
     ]
    },
    {
     "name": "stdout",
     "output_type": "stream",
     "text": [
      "Epoch 160, Loss 0.0234\n",
      "Training Accuracy: 0.9728, Testing Accuracy: 0.9738\n",
      "\n"
     ]
    },
    {
     "name": "stdout",
     "output_type": "stream",
     "text": [
      "Epoch 170, Loss 0.0229\n",
      "Training Accuracy: 0.9733, Testing Accuracy: 0.9743\n",
      "\n"
     ]
    },
    {
     "name": "stdout",
     "output_type": "stream",
     "text": [
      "Epoch 180, Loss 0.0224\n",
      "Training Accuracy: 0.9740, Testing Accuracy: 0.9738\n",
      "\n"
     ]
    },
    {
     "name": "stdout",
     "output_type": "stream",
     "text": [
      "Epoch 190, Loss 0.0219\n",
      "Training Accuracy: 0.9745, Testing Accuracy: 0.9733\n",
      "\n"
     ]
    },
    {
     "name": "stdout",
     "output_type": "stream",
     "text": [
      "Epoch 200, Loss 0.0215\n",
      "Training Accuracy: 0.9753, Testing Accuracy: 0.9738\n",
      "\n"
     ]
    },
    {
     "name": "stdout",
     "output_type": "stream",
     "text": [
      "Epoch 210, Loss 0.021\n",
      "Training Accuracy: 0.9758, Testing Accuracy: 0.9743\n",
      "\n"
     ]
    },
    {
     "name": "stdout",
     "output_type": "stream",
     "text": [
      "Epoch 220, Loss 0.0206\n",
      "Training Accuracy: 0.9768, Testing Accuracy: 0.9748\n",
      "\n"
     ]
    },
    {
     "name": "stdout",
     "output_type": "stream",
     "text": [
      "Epoch 230, Loss 0.0202\n",
      "Training Accuracy: 0.9775, Testing Accuracy: 0.9743\n",
      "\n"
     ]
    },
    {
     "name": "stdout",
     "output_type": "stream",
     "text": [
      "Epoch 240, Loss 0.0199\n",
      "Training Accuracy: 0.9786, Testing Accuracy: 0.9743\n",
      "\n"
     ]
    },
    {
     "data": {
      "text/plain": [
       "0.03116225089204252"
      ]
     },
     "execution_count": 22,
     "metadata": {},
     "output_type": "execute_result"
    }
   ],
   "source": [
    "nn_learner.train_loop(dl)"
   ]
  },
  {
   "cell_type": "code",
   "execution_count": 23,
   "id": "e0163366",
   "metadata": {
    "execution": {
     "iopub.execute_input": "2022-08-03T00:49:07.921157Z",
     "iopub.status.busy": "2022-08-03T00:49:07.918124Z",
     "iopub.status.idle": "2022-08-03T00:49:20.085153Z",
     "shell.execute_reply": "2022-08-03T00:49:20.085992Z"
    },
    "papermill": {
     "duration": 12.208606,
     "end_time": "2022-08-03T00:49:20.086127",
     "exception": false,
     "start_time": "2022-08-03T00:49:07.877521",
     "status": "completed"
    },
    "tags": []
   },
   "outputs": [
    {
     "name": "stdout",
     "output_type": "stream",
     "text": [
      "Epoch 0, Loss 0.2356\n",
      "Training Accuracy: 0.6854, Testing Accuracy: 0.7021\n",
      "\n"
     ]
    },
    {
     "name": "stdout",
     "output_type": "stream",
     "text": [
      "Epoch 10, Loss 0.1044\n",
      "Training Accuracy: 0.9036, Testing Accuracy: 0.9088\n",
      "\n"
     ]
    },
    {
     "name": "stdout",
     "output_type": "stream",
     "text": [
      "Epoch 20, Loss 0.0797\n",
      "Training Accuracy: 0.9261, Testing Accuracy: 0.9330\n",
      "\n"
     ]
    },
    {
     "name": "stdout",
     "output_type": "stream",
     "text": [
      "Epoch 30, Loss 0.0684\n",
      "Training Accuracy: 0.9348, Testing Accuracy: 0.9461\n",
      "\n"
     ]
    },
    {
     "name": "stdout",
     "output_type": "stream",
     "text": [
      "Epoch 40, Loss 0.0617\n",
      "Training Accuracy: 0.9407, Testing Accuracy: 0.9516\n",
      "\n"
     ]
    },
    {
     "name": "stdout",
     "output_type": "stream",
     "text": [
      "Epoch 50, Loss 0.0571\n",
      "Training Accuracy: 0.9437, Testing Accuracy: 0.9541\n",
      "\n"
     ]
    },
    {
     "name": "stdout",
     "output_type": "stream",
     "text": [
      "Epoch 60, Loss 0.0538\n",
      "Training Accuracy: 0.9468, Testing Accuracy: 0.9567\n",
      "\n"
     ]
    },
    {
     "name": "stdout",
     "output_type": "stream",
     "text": [
      "Epoch 70, Loss 0.0513\n",
      "Training Accuracy: 0.9492, Testing Accuracy: 0.9592\n",
      "\n"
     ]
    },
    {
     "name": "stdout",
     "output_type": "stream",
     "text": [
      "Epoch 80, Loss 0.0492\n",
      "Training Accuracy: 0.9507, Testing Accuracy: 0.9607\n",
      "\n"
     ]
    },
    {
     "name": "stdout",
     "output_type": "stream",
     "text": [
      "Epoch 90, Loss 0.0475\n",
      "Training Accuracy: 0.9523, Testing Accuracy: 0.9622\n",
      "\n"
     ]
    },
    {
     "name": "stdout",
     "output_type": "stream",
     "text": [
      "Epoch 100, Loss 0.0461\n",
      "Training Accuracy: 0.9536, Testing Accuracy: 0.9637\n",
      "\n"
     ]
    },
    {
     "name": "stdout",
     "output_type": "stream",
     "text": [
      "Epoch 110, Loss 0.0449\n",
      "Training Accuracy: 0.9542, Testing Accuracy: 0.9652\n",
      "\n"
     ]
    },
    {
     "name": "stdout",
     "output_type": "stream",
     "text": [
      "Epoch 120, Loss 0.0438\n",
      "Training Accuracy: 0.9550, Testing Accuracy: 0.9647\n",
      "\n"
     ]
    },
    {
     "name": "stdout",
     "output_type": "stream",
     "text": [
      "Epoch 130, Loss 0.0429\n",
      "Training Accuracy: 0.9556, Testing Accuracy: 0.9642\n",
      "\n"
     ]
    },
    {
     "name": "stdout",
     "output_type": "stream",
     "text": [
      "Epoch 140, Loss 0.0421\n",
      "Training Accuracy: 0.9564, Testing Accuracy: 0.9652\n",
      "\n"
     ]
    },
    {
     "name": "stdout",
     "output_type": "stream",
     "text": [
      "Epoch 150, Loss 0.0413\n",
      "Training Accuracy: 0.9572, Testing Accuracy: 0.9652\n",
      "\n"
     ]
    },
    {
     "name": "stdout",
     "output_type": "stream",
     "text": [
      "Epoch 160, Loss 0.0406\n",
      "Training Accuracy: 0.9582, Testing Accuracy: 0.9662\n",
      "\n"
     ]
    },
    {
     "name": "stdout",
     "output_type": "stream",
     "text": [
      "Epoch 170, Loss 0.04\n",
      "Training Accuracy: 0.9584, Testing Accuracy: 0.9667\n",
      "\n"
     ]
    },
    {
     "name": "stdout",
     "output_type": "stream",
     "text": [
      "Epoch 180, Loss 0.0395\n",
      "Training Accuracy: 0.9585, Testing Accuracy: 0.9667\n",
      "\n"
     ]
    },
    {
     "name": "stdout",
     "output_type": "stream",
     "text": [
      "Epoch 190, Loss 0.039\n",
      "Training Accuracy: 0.9589, Testing Accuracy: 0.9672\n",
      "\n"
     ]
    },
    {
     "name": "stdout",
     "output_type": "stream",
     "text": [
      "Epoch 200, Loss 0.0385\n",
      "Training Accuracy: 0.9592, Testing Accuracy: 0.9672\n",
      "\n"
     ]
    },
    {
     "name": "stdout",
     "output_type": "stream",
     "text": [
      "Epoch 210, Loss 0.038\n",
      "Training Accuracy: 0.9595, Testing Accuracy: 0.9672\n",
      "\n"
     ]
    },
    {
     "name": "stdout",
     "output_type": "stream",
     "text": [
      "Epoch 220, Loss 0.0376\n",
      "Training Accuracy: 0.9597, Testing Accuracy: 0.9672\n",
      "\n"
     ]
    },
    {
     "name": "stdout",
     "output_type": "stream",
     "text": [
      "Epoch 230, Loss 0.0372\n",
      "Training Accuracy: 0.9599, Testing Accuracy: 0.9677\n",
      "\n"
     ]
    },
    {
     "name": "stdout",
     "output_type": "stream",
     "text": [
      "Epoch 240, Loss 0.0369\n",
      "Training Accuracy: 0.9603, Testing Accuracy: 0.9677\n",
      "\n"
     ]
    },
    {
     "data": {
      "text/plain": [
       "0.022332414988962674"
      ]
     },
     "execution_count": 23,
     "metadata": {},
     "output_type": "execute_result"
    }
   ],
   "source": [
    "lr_learner.train_loop(dl)"
   ]
  },
  {
   "cell_type": "code",
   "execution_count": 24,
   "id": "ca410940",
   "metadata": {
    "execution": {
     "iopub.execute_input": "2022-08-03T00:49:20.176565Z",
     "iopub.status.busy": "2022-08-03T00:49:20.175957Z",
     "iopub.status.idle": "2022-08-03T00:49:20.401382Z",
     "shell.execute_reply": "2022-08-03T00:49:20.401818Z"
    },
    "papermill": {
     "duration": 0.273089,
     "end_time": "2022-08-03T00:49:20.401942",
     "exception": false,
     "start_time": "2022-08-03T00:49:20.128853",
     "status": "completed"
    },
    "tags": []
   },
   "outputs": [
    {
     "data": {
      "text/plain": [
       "<matplotlib.legend.Legend at 0x7f97805fbbe0>"
      ]
     },
     "execution_count": 24,
     "metadata": {},
     "output_type": "execute_result"
    },
    {
     "data": {
      "image/png": "[encoded data removed]",
      "text/plain": [
       "<Figure size 1080x720 with 1 Axes>"
      ]
     },
     "metadata": {
      "needs_background": "light"
     },
     "output_type": "display_data"
    }
   ],
   "source": [
    "#comparing the results of NN and LR\n",
    "plt.figure(figsize=(15,10))\n",
    "\n",
    "# Neural Network plots\n",
    "plt.plot(acc_nn.accuracies, 'r-', label = \"Training Accuracies - NN\")\n",
    "plt.plot(acc_nn.test_accuracies, 'g-', label = \"Testing Accuracies - NN\")\n",
    "\n",
    "# Logistic Regression plots\n",
    "plt.plot(acc_lr.accuracies, 'k-', label = \"Training Accuracies - LR\")\n",
    "plt.plot(acc_lr.test_accuracies, 'b-', label = \"Testing Accuracies - LR\")\n",
    "plt.legend()"
   ]
  },
  {
   "cell_type": "markdown",
   "id": "80dfb35c",
   "metadata": {
    "papermill": {
     "duration": 0.042961,
     "end_time": "2022-08-03T00:49:20.487959",
     "exception": false,
     "start_time": "2022-08-03T00:49:20.444998",
     "status": "completed"
    },
    "tags": []
   },
   "source": [
    "#### Plotting the outputs of this layer of the NN.\n"
   ]
  },
  {
   "cell_type": "code",
   "execution_count": 25,
   "id": "45eb2ff5",
   "metadata": {
    "execution": {
     "iopub.execute_input": "2022-08-03T00:49:20.577690Z",
     "iopub.status.busy": "2022-08-03T00:49:20.577119Z",
     "iopub.status.idle": "2022-08-03T00:49:20.613605Z",
     "shell.execute_reply": "2022-08-03T00:49:20.614033Z"
    },
    "papermill": {
     "duration": 0.083255,
     "end_time": "2022-08-03T00:49:20.614160",
     "exception": false,
     "start_time": "2022-08-03T00:49:20.530905",
     "status": "completed"
    },
    "tags": []
   },
   "outputs": [],
   "source": [
    "new_model = Model(layers[:-2])\n",
    "testing_plot = new_model(testing_data_x)"
   ]
  },
  {
   "cell_type": "code",
   "execution_count": 26,
   "id": "4c0a5485",
   "metadata": {
    "execution": {
     "iopub.execute_input": "2022-08-03T00:49:20.707334Z",
     "iopub.status.busy": "2022-08-03T00:49:20.706769Z",
     "iopub.status.idle": "2022-08-03T00:49:20.889449Z",
     "shell.execute_reply": "2022-08-03T00:49:20.888886Z"
    },
    "papermill": {
     "duration": 0.231937,
     "end_time": "2022-08-03T00:49:20.889560",
     "exception": false,
     "start_time": "2022-08-03T00:49:20.657623",
     "status": "completed"
    },
    "tags": []
   },
   "outputs": [
    {
     "data": {
      "text/plain": [
       "Text(0.5, 1.0, 'Outputs')"
      ]
     },
     "execution_count": 26,
     "metadata": {},
     "output_type": "execute_result"
    },
    {
     "data": {
      "image/png": "[encoded data removed]",
      "text/plain": [
       "<Figure size 576x504 with 1 Axes>"
      ]
     },
     "metadata": {
      "needs_background": "light"
     },
     "output_type": "display_data"
    }
   ],
   "source": [
    "# Plotting the scatter plot of points and color coding by class\n",
    "plt.figure(figsize=(8,7))\n",
    "plt.scatter(testing_plot[:,0], testing_plot[:,1], alpha = 0.1, c = y_test.ravel());\n",
    "plt.title('Outputs')"
   ]
  },
  {
   "cell_type": "markdown",
   "id": "a74fcf8f",
   "metadata": {
    "papermill": {
     "duration": 0.044812,
     "end_time": "2022-08-03T00:49:20.979334",
     "exception": false,
     "start_time": "2022-08-03T00:49:20.934522",
     "status": "completed"
    },
    "tags": []
   },
   "source": [
    "Probability contours"
   ]
  },
  {
   "cell_type": "code",
   "execution_count": 27,
   "id": "d0afc8e3",
   "metadata": {
    "execution": {
     "iopub.execute_input": "2022-08-03T00:49:21.098833Z",
     "iopub.status.busy": "2022-08-03T00:49:21.097872Z",
     "iopub.status.idle": "2022-08-03T00:49:21.108440Z",
     "shell.execute_reply": "2022-08-03T00:49:21.108855Z"
    },
    "papermill": {
     "duration": 0.084713,
     "end_time": "2022-08-03T00:49:21.108981",
     "exception": false,
     "start_time": "2022-08-03T00:49:21.024268",
     "status": "completed"
    },
    "tags": []
   },
   "outputs": [],
   "source": [
    "model_prob = Model(layers[-2:]) "
   ]
  },
  {
   "cell_type": "code",
   "execution_count": 28,
   "id": "9b96e238",
   "metadata": {
    "execution": {
     "iopub.execute_input": "2022-08-03T00:49:21.206653Z",
     "iopub.status.busy": "2022-08-03T00:49:21.204511Z",
     "iopub.status.idle": "2022-08-03T00:49:21.218573Z",
     "shell.execute_reply": "2022-08-03T00:49:21.218986Z"
    },
    "papermill": {
     "duration": 0.06537,
     "end_time": "2022-08-03T00:49:21.219113",
     "exception": false,
     "start_time": "2022-08-03T00:49:21.153743",
     "status": "completed"
    },
    "tags": []
   },
   "outputs": [],
   "source": [
    "#creating the x and y ranges according to the above generated plot.\n",
    "x_range = np.linspace(-4, 1, 100) \n",
    "y_range = np.linspace(-6, 6, 100) \n",
    "x_grid, y_grid = np.meshgrid(x_range, y_range) # x_grid and y_grig are of size 100 X 100\n",
    "\n",
    "# converting x_grid and y_grid to continuous arrays\n",
    "x_gridflat = np.ravel(x_grid)\n",
    "y_gridflat = np.ravel(y_grid)\n",
    "\n",
    "# The last layer of the current model takes two columns as input. Hence transpose of np.vstack() is required.\n",
    "X = np.vstack((x_gridflat, y_gridflat)).T\n",
    "\n",
    "prob_contour = model_prob(X).reshape(100,100) "
   ]
  },
  {
   "cell_type": "code",
   "execution_count": 29,
   "id": "da72499a",
   "metadata": {
    "execution": {
     "iopub.execute_input": "2022-08-03T00:49:21.318733Z",
     "iopub.status.busy": "2022-08-03T00:49:21.318140Z",
     "iopub.status.idle": "2022-08-03T00:49:21.555799Z",
     "shell.execute_reply": "2022-08-03T00:49:21.556232Z"
    },
    "papermill": {
     "duration": 0.287349,
     "end_time": "2022-08-03T00:49:21.556358",
     "exception": false,
     "start_time": "2022-08-03T00:49:21.269009",
     "status": "completed"
    },
    "tags": []
   },
   "outputs": [
    {
     "data": {
      "image/png": "[encoded data removed]",
      "text/plain": [
       "<Figure size 720x648 with 1 Axes>"
      ]
     },
     "metadata": {
      "needs_background": "light"
     },
     "output_type": "display_data"
    }
   ],
   "source": [
    "plt.figure(figsize=(10,9))\n",
    "plt.scatter(testing_plot[:,0], testing_plot[:,1], alpha = 0.1, c = y_test.ravel())\n",
    "contours = plt.contour(x_grid,y_grid,prob_contour)\n",
    "plt.title('Probability Contours')\n",
    "plt.clabel(contours, inline = True );"
   ]
  },
  {
   "cell_type": "code",
   "execution_count": null,
   "id": "e81b4ac7",
   "metadata": {
    "papermill": {
     "duration": 0.047254,
     "end_time": "2022-08-03T00:49:21.650975",
     "exception": false,
     "start_time": "2022-08-03T00:49:21.603721",
     "status": "completed"
    },
    "tags": []
   },
   "outputs": [],
   "source": []
  }
 ],
 "metadata": {
  "kernelspec": {
   "display_name": "Python 3",
   "language": "python",
   "name": "python3"
  },
  "language_info": {
   "codemirror_mode": {
    "name": "ipython",
    "version": 3
   },
   "file_extension": ".py",
   "mimetype": "text/x-python",
   "name": "python",
   "nbconvert_exporter": "python",
   "pygments_lexer": "ipython3",
   "version": "3.6.15"
  },
  "papermill": {
   "default_parameters": {},
   "duration": 196.766108,
   "end_time": "2022-08-03T00:49:22.117400",
   "environment_variables": {},
   "exception": null,
   "input_path": "2020-08-11-part2.ipynb",
   "output_path": "2020-08-11-part2.ipynb",
   "parameters": {},
   "start_time": "2022-08-03T00:46:05.351292",
   "version": "2.3.3"
  }
 },
 "nbformat": 4,
 "nbformat_minor": 5
}