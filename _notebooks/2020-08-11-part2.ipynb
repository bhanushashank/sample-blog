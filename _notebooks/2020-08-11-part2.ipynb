{
 "cells": [
  {
   "cell_type": "markdown",
   "id": "98380cd3",
   "metadata": {
    "papermill": {
     "duration": 0.029599,
     "end_time": "2022-09-27T10:13:56.348593",
     "exception": false,
     "start_time": "2022-09-27T10:13:56.318994",
     "status": "completed"
    },
    "tags": []
   },
   "source": [
    "# Distinguish Your Own Digits (DYOD)"
   ]
  },
  {
   "cell_type": "markdown",
   "id": "ef31240d",
   "metadata": {
    "papermill": {
     "duration": 0.02364,
     "end_time": "2022-09-27T10:13:56.396469",
     "exception": false,
     "start_time": "2022-09-27T10:13:56.372829",
     "status": "completed"
    },
    "tags": []
   },
   "source": [
    "You are going to write a classifier that distinguishes between the number 3 and number 8."
   ]
  },
  {
   "cell_type": "code",
   "execution_count": 1,
   "id": "b15c8646",
   "metadata": {
    "execution": {
     "iopub.execute_input": "2022-09-27T10:13:56.457452Z",
     "iopub.status.busy": "2022-09-27T10:13:56.453676Z",
     "iopub.status.idle": "2022-09-27T10:13:56.464625Z",
     "shell.execute_reply": "2022-09-27T10:13:56.465103Z"
    },
    "papermill": {
     "duration": 0.045359,
     "end_time": "2022-09-27T10:13:56.465256",
     "exception": false,
     "start_time": "2022-09-27T10:13:56.419897",
     "status": "completed"
    },
    "tags": []
   },
   "outputs": [],
   "source": [
    "%load_ext autoreload\n",
    "%autoreload 2"
   ]
  },
  {
   "cell_type": "code",
   "execution_count": 2,
   "id": "22ef38dc",
   "metadata": {
    "execution": {
     "iopub.execute_input": "2022-09-27T10:13:56.522551Z",
     "iopub.status.busy": "2022-09-27T10:13:56.521945Z",
     "iopub.status.idle": "2022-09-27T10:13:57.049511Z",
     "shell.execute_reply": "2022-09-27T10:13:57.050412Z"
    },
    "papermill": {
     "duration": 0.561665,
     "end_time": "2022-09-27T10:13:57.050554",
     "exception": false,
     "start_time": "2022-09-27T10:13:56.488889",
     "status": "completed"
    },
    "tags": []
   },
   "outputs": [],
   "source": [
    "%matplotlib inline\n",
    "import numpy as np\n",
    "import matplotlib.pyplot as plt\n",
    "import pandas as pd"
   ]
  },
  {
   "cell_type": "markdown",
   "id": "ba036198",
   "metadata": {
    "papermill": {
     "duration": 0.023426,
     "end_time": "2022-09-27T10:13:57.097962",
     "exception": false,
     "start_time": "2022-09-27T10:13:57.074536",
     "status": "completed"
    },
    "tags": []
   },
   "source": [
    "From the command line run `pip install mnist`. This is a library that will help you bring down the mnist dataset. If you run this from a notebook, you need to put  `!pip install mnist` in a cell by itself."
   ]
  },
  {
   "cell_type": "code",
   "execution_count": 3,
   "id": "bb6ad8a1",
   "metadata": {
    "execution": {
     "iopub.execute_input": "2022-09-27T10:13:57.154757Z",
     "iopub.status.busy": "2022-09-27T10:13:57.148660Z",
     "iopub.status.idle": "2022-09-27T10:13:58.684074Z",
     "shell.execute_reply": "2022-09-27T10:13:58.683169Z"
    },
    "papermill": {
     "duration": 1.56274,
     "end_time": "2022-09-27T10:13:58.684208",
     "exception": false,
     "start_time": "2022-09-27T10:13:57.121468",
     "status": "completed"
    },
    "tags": []
   },
   "outputs": [
    {
     "name": "stdout",
     "output_type": "stream",
     "text": [
      "Collecting mnist\r\n",
      "  Downloading mnist-0.2.2-py2.py3-none-any.whl (3.5 kB)\r\n"
     ]
    },
    {
     "name": "stdout",
     "output_type": "stream",
     "text": [
      "Requirement already satisfied: numpy in /opt/hostedtoolcache/Python/3.6.15/x64/lib/python3.6/site-packages (from mnist) (1.19.5)\r\n"
     ]
    },
    {
     "name": "stdout",
     "output_type": "stream",
     "text": [
      "Installing collected packages: mnist\r\n"
     ]
    },
    {
     "name": "stdout",
     "output_type": "stream",
     "text": [
      "Successfully installed mnist-0.2.2\r\n"
     ]
    }
   ],
   "source": [
    "!pip install mnist"
   ]
  },
  {
   "cell_type": "markdown",
   "id": "69df9c9a",
   "metadata": {
    "papermill": {
     "duration": 0.024679,
     "end_time": "2022-09-27T10:13:58.734234",
     "exception": false,
     "start_time": "2022-09-27T10:13:58.709555",
     "status": "completed"
    },
    "tags": []
   },
   "source": [
    "## Preparing the Data"
   ]
  },
  {
   "cell_type": "code",
   "execution_count": 4,
   "id": "7f69d806",
   "metadata": {
    "execution": {
     "iopub.execute_input": "2022-09-27T10:13:58.788506Z",
     "iopub.status.busy": "2022-09-27T10:13:58.787941Z",
     "iopub.status.idle": "2022-09-27T10:13:58.802940Z",
     "shell.execute_reply": "2022-09-27T10:13:58.802468Z"
    },
    "papermill": {
     "duration": 0.043105,
     "end_time": "2022-09-27T10:13:58.803047",
     "exception": false,
     "start_time": "2022-09-27T10:13:58.759942",
     "status": "completed"
    },
    "tags": []
   },
   "outputs": [],
   "source": [
    "import mnist"
   ]
  },
  {
   "cell_type": "code",
   "execution_count": 5,
   "id": "a411e44f",
   "metadata": {
    "execution": {
     "iopub.execute_input": "2022-09-27T10:13:58.874552Z",
     "iopub.status.busy": "2022-09-27T10:13:58.870607Z",
     "iopub.status.idle": "2022-09-27T10:13:59.429963Z",
     "shell.execute_reply": "2022-09-27T10:13:59.429259Z"
    },
    "papermill": {
     "duration": 0.602426,
     "end_time": "2022-09-27T10:13:59.430077",
     "exception": false,
     "start_time": "2022-09-27T10:13:58.827651",
     "status": "completed"
    },
    "tags": []
   },
   "outputs": [],
   "source": [
    "train_images = mnist.train_images()\n",
    "train_labels = mnist.train_labels()"
   ]
  },
  {
   "cell_type": "code",
   "execution_count": 6,
   "id": "dceab3a5",
   "metadata": {
    "execution": {
     "iopub.execute_input": "2022-09-27T10:13:59.483577Z",
     "iopub.status.busy": "2022-09-27T10:13:59.483012Z",
     "iopub.status.idle": "2022-09-27T10:13:59.498580Z",
     "shell.execute_reply": "2022-09-27T10:13:59.498112Z"
    },
    "papermill": {
     "duration": 0.043825,
     "end_time": "2022-09-27T10:13:59.498683",
     "exception": false,
     "start_time": "2022-09-27T10:13:59.454858",
     "status": "completed"
    },
    "tags": []
   },
   "outputs": [
    {
     "data": {
      "text/plain": [
       "((60000, 28, 28), (60000,))"
      ]
     },
     "execution_count": 6,
     "metadata": {},
     "output_type": "execute_result"
    }
   ],
   "source": [
    "train_images.shape, train_labels.shape"
   ]
  },
  {
   "cell_type": "code",
   "execution_count": 7,
   "id": "f50dc2bb",
   "metadata": {
    "execution": {
     "iopub.execute_input": "2022-09-27T10:13:59.554114Z",
     "iopub.status.busy": "2022-09-27T10:13:59.553552Z",
     "iopub.status.idle": "2022-09-27T10:13:59.706968Z",
     "shell.execute_reply": "2022-09-27T10:13:59.706427Z"
    },
    "papermill": {
     "duration": 0.183555,
     "end_time": "2022-09-27T10:13:59.707083",
     "exception": false,
     "start_time": "2022-09-27T10:13:59.523528",
     "status": "completed"
    },
    "tags": []
   },
   "outputs": [],
   "source": [
    "test_images = mnist.test_images()\n",
    "test_labels = mnist.test_labels()"
   ]
  },
  {
   "cell_type": "code",
   "execution_count": 8,
   "id": "fc38cf1b",
   "metadata": {
    "execution": {
     "iopub.execute_input": "2022-09-27T10:13:59.761322Z",
     "iopub.status.busy": "2022-09-27T10:13:59.760715Z",
     "iopub.status.idle": "2022-09-27T10:13:59.774071Z",
     "shell.execute_reply": "2022-09-27T10:13:59.774485Z"
    },
    "papermill": {
     "duration": 0.042408,
     "end_time": "2022-09-27T10:13:59.774611",
     "exception": false,
     "start_time": "2022-09-27T10:13:59.732203",
     "status": "completed"
    },
    "tags": []
   },
   "outputs": [
    {
     "data": {
      "text/plain": [
       "((10000, 28, 28), (10000,))"
      ]
     },
     "execution_count": 8,
     "metadata": {},
     "output_type": "execute_result"
    }
   ],
   "source": [
    "test_images.shape, test_labels.shape"
   ]
  },
  {
   "cell_type": "code",
   "execution_count": 9,
   "id": "f9ed8fe0",
   "metadata": {
    "execution": {
     "iopub.execute_input": "2022-09-27T10:13:59.834478Z",
     "iopub.status.busy": "2022-09-27T10:13:59.833908Z",
     "iopub.status.idle": "2022-09-27T10:13:59.969703Z",
     "shell.execute_reply": "2022-09-27T10:13:59.970295Z"
    },
    "papermill": {
     "duration": 0.17059,
     "end_time": "2022-09-27T10:13:59.970429",
     "exception": false,
     "start_time": "2022-09-27T10:13:59.799839",
     "status": "completed"
    },
    "tags": []
   },
   "outputs": [
    {
     "name": "stdout",
     "output_type": "stream",
     "text": [
      "2\n"
     ]
    },
    {
     "data": {
      "text/plain": [
       "<matplotlib.image.AxesImage at 0x7fdd72a43c88>"
      ]
     },
     "execution_count": 9,
     "metadata": {},
     "output_type": "execute_result"
    },
    {
     "data": {
      "image/png": "[encoded data removed]",
      "text/plain": [
       "<Figure size 432x288 with 1 Axes>"
      ]
     },
     "metadata": {
      "needs_background": "light"
     },
     "output_type": "display_data"
    }
   ],
   "source": [
    "image_index = 7776 # You may select anything up to 60,000\n",
    "print(train_labels[image_index]) \n",
    "plt.imshow(train_images[image_index], cmap='Greys')"
   ]
  },
  {
   "cell_type": "markdown",
   "id": "a8d2388d",
   "metadata": {
    "papermill": {
     "duration": 0.026473,
     "end_time": "2022-09-27T10:14:00.023538",
     "exception": false,
     "start_time": "2022-09-27T10:13:59.997065",
     "status": "completed"
    },
    "tags": []
   },
   "source": [
    "## Filter data to get 3 and 8 out"
   ]
  },
  {
   "cell_type": "code",
   "execution_count": 10,
   "id": "776f7fc7",
   "metadata": {
    "execution": {
     "iopub.execute_input": "2022-09-27T10:14:00.094021Z",
     "iopub.status.busy": "2022-09-27T10:14:00.089981Z",
     "iopub.status.idle": "2022-09-27T10:14:00.098102Z",
     "shell.execute_reply": "2022-09-27T10:14:00.097634Z"
    },
    "papermill": {
     "duration": 0.048469,
     "end_time": "2022-09-27T10:14:00.098206",
     "exception": false,
     "start_time": "2022-09-27T10:14:00.049737",
     "status": "completed"
    },
    "tags": []
   },
   "outputs": [],
   "source": [
    "train_filter = np.where((train_labels == 3 ) | (train_labels == 8))\n",
    "test_filter = np.where((test_labels == 3) | (test_labels == 8))\n",
    "X_train, y_train = train_images[train_filter], train_labels[train_filter]\n",
    "X_test, y_test = test_images[test_filter], test_labels[test_filter]"
   ]
  },
  {
   "cell_type": "markdown",
   "id": "948f0b7e",
   "metadata": {
    "papermill": {
     "duration": 0.025891,
     "end_time": "2022-09-27T10:14:00.150083",
     "exception": false,
     "start_time": "2022-09-27T10:14:00.124192",
     "status": "completed"
    },
    "tags": []
   },
   "source": [
    "We normalize the pizel values in the 0 to 1 range"
   ]
  },
  {
   "cell_type": "code",
   "execution_count": 11,
   "id": "ee4c2166",
   "metadata": {
    "execution": {
     "iopub.execute_input": "2022-09-27T10:14:00.205178Z",
     "iopub.status.busy": "2022-09-27T10:14:00.204573Z",
     "iopub.status.idle": "2022-09-27T10:14:00.249333Z",
     "shell.execute_reply": "2022-09-27T10:14:00.248738Z"
    },
    "papermill": {
     "duration": 0.073551,
     "end_time": "2022-09-27T10:14:00.249460",
     "exception": false,
     "start_time": "2022-09-27T10:14:00.175909",
     "status": "completed"
    },
    "tags": []
   },
   "outputs": [],
   "source": [
    "X_train = X_train/255.\n",
    "X_test = X_test/255."
   ]
  },
  {
   "cell_type": "markdown",
   "id": "ddcf4fab",
   "metadata": {
    "papermill": {
     "duration": 0.026122,
     "end_time": "2022-09-27T10:14:00.302468",
     "exception": false,
     "start_time": "2022-09-27T10:14:00.276346",
     "status": "completed"
    },
    "tags": []
   },
   "source": [
    "And setup the labels as 1 (when the digit is 3) and 0 (when the digit is 8)"
   ]
  },
  {
   "cell_type": "code",
   "execution_count": 12,
   "id": "7dc908f2",
   "metadata": {
    "execution": {
     "iopub.execute_input": "2022-09-27T10:14:00.358130Z",
     "iopub.status.busy": "2022-09-27T10:14:00.357556Z",
     "iopub.status.idle": "2022-09-27T10:14:00.370498Z",
     "shell.execute_reply": "2022-09-27T10:14:00.369940Z"
    },
    "papermill": {
     "duration": 0.042068,
     "end_time": "2022-09-27T10:14:00.370601",
     "exception": false,
     "start_time": "2022-09-27T10:14:00.328533",
     "status": "completed"
    },
    "tags": []
   },
   "outputs": [],
   "source": [
    "y_train = 1*(y_train==3)\n",
    "y_test = 1*(y_test==3)"
   ]
  },
  {
   "cell_type": "code",
   "execution_count": 13,
   "id": "01e4e969",
   "metadata": {
    "execution": {
     "iopub.execute_input": "2022-09-27T10:14:00.425992Z",
     "iopub.status.busy": "2022-09-27T10:14:00.425421Z",
     "iopub.status.idle": "2022-09-27T10:14:00.438497Z",
     "shell.execute_reply": "2022-09-27T10:14:00.438966Z"
    },
    "papermill": {
     "duration": 0.042454,
     "end_time": "2022-09-27T10:14:00.439082",
     "exception": false,
     "start_time": "2022-09-27T10:14:00.396628",
     "status": "completed"
    },
    "tags": []
   },
   "outputs": [
    {
     "data": {
      "text/plain": [
       "((11982, 28, 28), (1984, 28, 28))"
      ]
     },
     "execution_count": 13,
     "metadata": {},
     "output_type": "execute_result"
    }
   ],
   "source": [
    "X_train.shape, X_test.shape"
   ]
  },
  {
   "cell_type": "markdown",
   "id": "5ccf3f85",
   "metadata": {
    "papermill": {
     "duration": 0.026184,
     "end_time": "2022-09-27T10:14:00.491463",
     "exception": false,
     "start_time": "2022-09-27T10:14:00.465279",
     "status": "completed"
    },
    "tags": []
   },
   "source": [
    "We reshape the data to flatten the image pixels into a set of features or co-variates:"
   ]
  },
  {
   "cell_type": "code",
   "execution_count": 14,
   "id": "5286a4a3",
   "metadata": {
    "execution": {
     "iopub.execute_input": "2022-09-27T10:14:00.547908Z",
     "iopub.status.busy": "2022-09-27T10:14:00.547334Z",
     "iopub.status.idle": "2022-09-27T10:14:00.560844Z",
     "shell.execute_reply": "2022-09-27T10:14:00.561289Z"
    },
    "papermill": {
     "duration": 0.043687,
     "end_time": "2022-09-27T10:14:00.561416",
     "exception": false,
     "start_time": "2022-09-27T10:14:00.517729",
     "status": "completed"
    },
    "tags": []
   },
   "outputs": [
    {
     "data": {
      "text/plain": [
       "((11982, 784), (1984, 784))"
      ]
     },
     "execution_count": 14,
     "metadata": {},
     "output_type": "execute_result"
    }
   ],
   "source": [
    "X_train = X_train.reshape(X_train.shape[0], -1)\n",
    "X_test = X_test.reshape(X_test.shape[0], -1)\n",
    "X_train.shape, X_test.shape"
   ]
  },
  {
   "cell_type": "code",
   "execution_count": 15,
   "id": "73c5f88a",
   "metadata": {
    "execution": {
     "iopub.execute_input": "2022-09-27T10:14:00.619174Z",
     "iopub.status.busy": "2022-09-27T10:14:00.618591Z",
     "iopub.status.idle": "2022-09-27T10:14:00.637555Z",
     "shell.execute_reply": "2022-09-27T10:14:00.637991Z"
    },
    "papermill": {
     "duration": 0.050125,
     "end_time": "2022-09-27T10:14:00.638127",
     "exception": false,
     "start_time": "2022-09-27T10:14:00.588002",
     "status": "completed"
    },
    "tags": []
   },
   "outputs": [],
   "source": [
    "#Impoting functions from 'Kudzu'\n",
    "from kudzu.model import Model\n",
    "from kudzu.train import Learner\n",
    "from kudzu.optim import GD\n",
    "from kudzu.data import Data, Sampler,Dataloader\n",
    "\n",
    "from kudzu.callbacks import AccCallback\n",
    "from kudzu.callbacks import ClfCallback\n",
    "\n",
    "from kudzu.loss import MSE\n",
    "\n",
    "from kudzu.layer import Sigmoid,Relu\n",
    "from kudzu.layer import Affine"
   ]
  },
  {
   "cell_type": "markdown",
   "id": "bc01172a",
   "metadata": {
    "papermill": {
     "duration": 0.026831,
     "end_time": "2022-09-27T10:14:00.692259",
     "exception": false,
     "start_time": "2022-09-27T10:14:00.665428",
     "status": "completed"
    },
    "tags": []
   },
   "source": [
    "### Let us create a `Config` class, to store important parameters. \n",
    "This class essentially plays the role of a dictionary."
   ]
  },
  {
   "cell_type": "code",
   "execution_count": 16,
   "id": "978281aa",
   "metadata": {
    "execution": {
     "iopub.execute_input": "2022-09-27T10:14:00.749991Z",
     "iopub.status.busy": "2022-09-27T10:14:00.749392Z",
     "iopub.status.idle": "2022-09-27T10:14:00.762293Z",
     "shell.execute_reply": "2022-09-27T10:14:00.761819Z"
    },
    "papermill": {
     "duration": 0.043461,
     "end_time": "2022-09-27T10:14:00.762401",
     "exception": false,
     "start_time": "2022-09-27T10:14:00.718940",
     "status": "completed"
    },
    "tags": []
   },
   "outputs": [],
   "source": [
    "class Config:\n",
    "    pass\n",
    "config = Config()\n",
    "config.lr = 0.001\n",
    "config.num_epochs = 250\n",
    "config.bs = 50"
   ]
  },
  {
   "cell_type": "markdown",
   "id": "1385fa59",
   "metadata": {
    "papermill": {
     "duration": 0.026714,
     "end_time": "2022-09-27T10:14:00.816073",
     "exception": false,
     "start_time": "2022-09-27T10:14:00.789359",
     "status": "completed"
    },
    "tags": []
   },
   "source": [
    "### Running Models with the Training data\n",
    "Details about the network layers:\n",
    "- A first affine layer has 784 inputs and does 100 affine transforms. These are followed by a Relu\n",
    "- A second affine layer has 100 inputs from the 100 activations of the past layer, and does 100 affine transforms. These are followed by a Relu\n",
    "- A third affine layer has 100 activations and does 2 affine transformations to create an embedding for visualization. There is no non-linearity here.\n",
    "- A final \"logistic regression\" which has an affine transform from 2 inputs to 1 output, which is squeezed through a sigmoid.\n"
   ]
  },
  {
   "cell_type": "code",
   "execution_count": 17,
   "id": "2b9c66db",
   "metadata": {
    "execution": {
     "iopub.execute_input": "2022-09-27T10:14:00.876813Z",
     "iopub.status.busy": "2022-09-27T10:14:00.876203Z",
     "iopub.status.idle": "2022-09-27T10:14:00.888314Z",
     "shell.execute_reply": "2022-09-27T10:14:00.887824Z"
    },
    "papermill": {
     "duration": 0.045503,
     "end_time": "2022-09-27T10:14:00.888425",
     "exception": false,
     "start_time": "2022-09-27T10:14:00.842922",
     "status": "completed"
    },
    "tags": []
   },
   "outputs": [],
   "source": [
    "data = Data(X_train, y_train.reshape(-1,1))\n",
    "sampler = Sampler(data, config.bs, shuffle=True)\n",
    "\n",
    "dl = Dataloader(data, sampler)\n",
    "\n",
    "opt = GD(config.lr)\n",
    "loss = MSE()"
   ]
  },
  {
   "cell_type": "code",
   "execution_count": 18,
   "id": "b275e4c2",
   "metadata": {
    "execution": {
     "iopub.execute_input": "2022-09-27T10:14:00.946676Z",
     "iopub.status.busy": "2022-09-27T10:14:00.946060Z",
     "iopub.status.idle": "2022-09-27T10:14:00.958914Z",
     "shell.execute_reply": "2022-09-27T10:14:00.958449Z"
    },
    "papermill": {
     "duration": 0.043588,
     "end_time": "2022-09-27T10:14:00.959027",
     "exception": false,
     "start_time": "2022-09-27T10:14:00.915439",
     "status": "completed"
    },
    "tags": []
   },
   "outputs": [],
   "source": [
    "training_data_x = X_train\n",
    "testing_data_x = X_test\n",
    "training_data_y = y_train.reshape(-1,1)\n",
    "testing_data_y = y_test.reshape(-1,1)"
   ]
  },
  {
   "cell_type": "code",
   "execution_count": 19,
   "id": "76951160",
   "metadata": {
    "execution": {
     "iopub.execute_input": "2022-09-27T10:14:01.019134Z",
     "iopub.status.busy": "2022-09-27T10:14:01.018536Z",
     "iopub.status.idle": "2022-09-27T10:14:01.035023Z",
     "shell.execute_reply": "2022-09-27T10:14:01.034538Z"
    },
    "papermill": {
     "duration": 0.049017,
     "end_time": "2022-09-27T10:14:01.035133",
     "exception": false,
     "start_time": "2022-09-27T10:14:00.986116",
     "status": "completed"
    },
    "tags": []
   },
   "outputs": [
    {
     "name": "stdout",
     "output_type": "stream",
     "text": [
      "xavier\n",
      "xavier\n",
      "xavier\n",
      "xavier\n",
      "xavier\n"
     ]
    }
   ],
   "source": [
    "layers = [Affine(\"first\", 784, 100), Relu(\"first\"), Affine(\"second\", 100, 100), Relu(\"second\"), Affine(\"third\", 100, 2), Affine(\"last\", 2, 1), Sigmoid(\"last\")]\n",
    "model_nn = Model(layers)\n",
    "model_lr = Model([Affine(\"logits\", 784, 1), Sigmoid(\"sigmoid\")])"
   ]
  },
  {
   "cell_type": "code",
   "execution_count": 20,
   "id": "6eede77a",
   "metadata": {
    "execution": {
     "iopub.execute_input": "2022-09-27T10:14:01.094600Z",
     "iopub.status.busy": "2022-09-27T10:14:01.094019Z",
     "iopub.status.idle": "2022-09-27T10:14:01.107010Z",
     "shell.execute_reply": "2022-09-27T10:14:01.106531Z"
    },
    "papermill": {
     "duration": 0.044534,
     "end_time": "2022-09-27T10:14:01.107120",
     "exception": false,
     "start_time": "2022-09-27T10:14:01.062586",
     "status": "completed"
    },
    "tags": []
   },
   "outputs": [],
   "source": [
    "nn_learner = Learner(loss, model_nn, opt, config.num_epochs)\n",
    "acc_nn = ClfCallback(nn_learner, config.bs, training_data_x , testing_data_x, training_data_y, testing_data_y)\n",
    "nn_learner.set_callbacks([acc_nn])"
   ]
  },
  {
   "cell_type": "code",
   "execution_count": 21,
   "id": "877b6cc7",
   "metadata": {
    "execution": {
     "iopub.execute_input": "2022-09-27T10:14:01.180670Z",
     "iopub.status.busy": "2022-09-27T10:14:01.178631Z",
     "iopub.status.idle": "2022-09-27T10:14:01.183960Z",
     "shell.execute_reply": "2022-09-27T10:14:01.183487Z"
    },
    "papermill": {
     "duration": 0.049619,
     "end_time": "2022-09-27T10:14:01.184069",
     "exception": false,
     "start_time": "2022-09-27T10:14:01.134450",
     "status": "completed"
    },
    "tags": []
   },
   "outputs": [],
   "source": [
    "lr_learner = Learner(loss, model_lr, opt, config.num_epochs)\n",
    "acc_lr = ClfCallback(lr_learner, config.bs, training_data_x , testing_data_x, training_data_y, testing_data_y)\n",
    "lr_learner.set_callbacks([acc_lr])"
   ]
  },
  {
   "cell_type": "code",
   "execution_count": 22,
   "id": "d9b133c3",
   "metadata": {
    "execution": {
     "iopub.execute_input": "2022-09-27T10:14:01.243192Z",
     "iopub.status.busy": "2022-09-27T10:14:01.242252Z",
     "iopub.status.idle": "2022-09-27T10:15:15.494184Z",
     "shell.execute_reply": "2022-09-27T10:15:15.495010Z"
    },
    "papermill": {
     "duration": 74.283691,
     "end_time": "2022-09-27T10:15:15.495151",
     "exception": false,
     "start_time": "2022-09-27T10:14:01.211460",
     "status": "completed"
    },
    "tags": []
   },
   "outputs": [
    {
     "name": "stdout",
     "output_type": "stream",
     "text": [
      "Epoch 0, Loss 0.2479\n",
      "Training Accuracy: 0.5704, Testing Accuracy: 0.5872\n",
      "\n"
     ]
    },
    {
     "name": "stdout",
     "output_type": "stream",
     "text": [
      "Epoch 10, Loss 0.1384\n",
      "Training Accuracy: 0.8766, Testing Accuracy: 0.8871\n",
      "\n"
     ]
    },
    {
     "name": "stdout",
     "output_type": "stream",
     "text": [
      "Epoch 20, Loss 0.0738\n",
      "Training Accuracy: 0.9243, Testing Accuracy: 0.9315\n",
      "\n"
     ]
    },
    {
     "name": "stdout",
     "output_type": "stream",
     "text": [
      "Epoch 30, Loss 0.052\n",
      "Training Accuracy: 0.9447, Testing Accuracy: 0.9506\n",
      "\n"
     ]
    },
    {
     "name": "stdout",
     "output_type": "stream",
     "text": [
      "Epoch 40, Loss 0.0425\n",
      "Training Accuracy: 0.9523, Testing Accuracy: 0.9587\n",
      "\n"
     ]
    },
    {
     "name": "stdout",
     "output_type": "stream",
     "text": [
      "Epoch 50, Loss 0.0375\n",
      "Training Accuracy: 0.9569, Testing Accuracy: 0.9647\n",
      "\n"
     ]
    },
    {
     "name": "stdout",
     "output_type": "stream",
     "text": [
      "Epoch 60, Loss 0.0343\n",
      "Training Accuracy: 0.9604, Testing Accuracy: 0.9657\n",
      "\n"
     ]
    },
    {
     "name": "stdout",
     "output_type": "stream",
     "text": [
      "Epoch 70, Loss 0.0321\n",
      "Training Accuracy: 0.9627, Testing Accuracy: 0.9672\n",
      "\n"
     ]
    },
    {
     "name": "stdout",
     "output_type": "stream",
     "text": [
      "Epoch 80, Loss 0.0304\n",
      "Training Accuracy: 0.9647, Testing Accuracy: 0.9667\n",
      "\n"
     ]
    },
    {
     "name": "stdout",
     "output_type": "stream",
     "text": [
      "Epoch 90, Loss 0.0291\n",
      "Training Accuracy: 0.9658, Testing Accuracy: 0.9682\n",
      "\n"
     ]
    },
    {
     "name": "stdout",
     "output_type": "stream",
     "text": [
      "Epoch 100, Loss 0.028\n",
      "Training Accuracy: 0.9673, Testing Accuracy: 0.9708\n",
      "\n"
     ]
    },
    {
     "name": "stdout",
     "output_type": "stream",
     "text": [
      "Epoch 110, Loss 0.0271\n",
      "Training Accuracy: 0.9684, Testing Accuracy: 0.9703\n",
      "\n"
     ]
    },
    {
     "name": "stdout",
     "output_type": "stream",
     "text": [
      "Epoch 120, Loss 0.0262\n",
      "Training Accuracy: 0.9692, Testing Accuracy: 0.9708\n",
      "\n"
     ]
    },
    {
     "name": "stdout",
     "output_type": "stream",
     "text": [
      "Epoch 130, Loss 0.0255\n",
      "Training Accuracy: 0.9700, Testing Accuracy: 0.9703\n",
      "\n"
     ]
    },
    {
     "name": "stdout",
     "output_type": "stream",
     "text": [
      "Epoch 140, Loss 0.0248\n",
      "Training Accuracy: 0.9712, Testing Accuracy: 0.9703\n",
      "\n"
     ]
    },
    {
     "name": "stdout",
     "output_type": "stream",
     "text": [
      "Epoch 150, Loss 0.0242\n",
      "Training Accuracy: 0.9717, Testing Accuracy: 0.9713\n",
      "\n"
     ]
    },
    {
     "name": "stdout",
     "output_type": "stream",
     "text": [
      "Epoch 160, Loss 0.0236\n",
      "Training Accuracy: 0.9724, Testing Accuracy: 0.9713\n",
      "\n"
     ]
    },
    {
     "name": "stdout",
     "output_type": "stream",
     "text": [
      "Epoch 170, Loss 0.0231\n",
      "Training Accuracy: 0.9734, Testing Accuracy: 0.9713\n",
      "\n"
     ]
    },
    {
     "name": "stdout",
     "output_type": "stream",
     "text": [
      "Epoch 180, Loss 0.0226\n",
      "Training Accuracy: 0.9739, Testing Accuracy: 0.9728\n",
      "\n"
     ]
    },
    {
     "name": "stdout",
     "output_type": "stream",
     "text": [
      "Epoch 190, Loss 0.0221\n",
      "Training Accuracy: 0.9750, Testing Accuracy: 0.9728\n",
      "\n"
     ]
    },
    {
     "name": "stdout",
     "output_type": "stream",
     "text": [
      "Epoch 200, Loss 0.0217\n",
      "Training Accuracy: 0.9755, Testing Accuracy: 0.9733\n",
      "\n"
     ]
    },
    {
     "name": "stdout",
     "output_type": "stream",
     "text": [
      "Epoch 210, Loss 0.0213\n",
      "Training Accuracy: 0.9760, Testing Accuracy: 0.9733\n",
      "\n"
     ]
    },
    {
     "name": "stdout",
     "output_type": "stream",
     "text": [
      "Epoch 220, Loss 0.0209\n",
      "Training Accuracy: 0.9764, Testing Accuracy: 0.9738\n",
      "\n"
     ]
    },
    {
     "name": "stdout",
     "output_type": "stream",
     "text": [
      "Epoch 230, Loss 0.0205\n",
      "Training Accuracy: 0.9766, Testing Accuracy: 0.9738\n",
      "\n"
     ]
    },
    {
     "name": "stdout",
     "output_type": "stream",
     "text": [
      "Epoch 240, Loss 0.0201\n",
      "Training Accuracy: 0.9768, Testing Accuracy: 0.9743\n",
      "\n"
     ]
    },
    {
     "data": {
      "text/plain": [
       "0.03085680496516917"
      ]
     },
     "execution_count": 22,
     "metadata": {},
     "output_type": "execute_result"
    }
   ],
   "source": [
    "nn_learner.train_loop(dl)"
   ]
  },
  {
   "cell_type": "code",
   "execution_count": 23,
   "id": "e0163366",
   "metadata": {
    "execution": {
     "iopub.execute_input": "2022-09-27T10:15:15.579054Z",
     "iopub.status.busy": "2022-09-27T10:15:15.578474Z",
     "iopub.status.idle": "2022-09-27T10:15:28.736426Z",
     "shell.execute_reply": "2022-09-27T10:15:28.737276Z"
    },
    "papermill": {
     "duration": 13.204733,
     "end_time": "2022-09-27T10:15:28.737419",
     "exception": false,
     "start_time": "2022-09-27T10:15:15.532686",
     "status": "completed"
    },
    "tags": []
   },
   "outputs": [
    {
     "name": "stdout",
     "output_type": "stream",
     "text": [
      "Epoch 0, Loss 0.2057\n",
      "Training Accuracy: 0.8168, Testing Accuracy: 0.8327\n",
      "\n"
     ]
    },
    {
     "name": "stdout",
     "output_type": "stream",
     "text": [
      "Epoch 10, Loss 0.0972\n",
      "Training Accuracy: 0.9198, Testing Accuracy: 0.9274\n",
      "\n"
     ]
    },
    {
     "name": "stdout",
     "output_type": "stream",
     "text": [
      "Epoch 20, Loss 0.0761\n",
      "Training Accuracy: 0.9331, Testing Accuracy: 0.9390\n",
      "\n"
     ]
    },
    {
     "name": "stdout",
     "output_type": "stream",
     "text": [
      "Epoch 30, Loss 0.0662\n",
      "Training Accuracy: 0.9402, Testing Accuracy: 0.9491\n",
      "\n"
     ]
    },
    {
     "name": "stdout",
     "output_type": "stream",
     "text": [
      "Epoch 40, Loss 0.0601\n",
      "Training Accuracy: 0.9438, Testing Accuracy: 0.9511\n",
      "\n"
     ]
    },
    {
     "name": "stdout",
     "output_type": "stream",
     "text": [
      "Epoch 50, Loss 0.0559\n",
      "Training Accuracy: 0.9457, Testing Accuracy: 0.9546\n",
      "\n"
     ]
    },
    {
     "name": "stdout",
     "output_type": "stream",
     "text": [
      "Epoch 60, Loss 0.0528\n",
      "Training Accuracy: 0.9483, Testing Accuracy: 0.9582\n",
      "\n"
     ]
    },
    {
     "name": "stdout",
     "output_type": "stream",
     "text": [
      "Epoch 70, Loss 0.0504\n",
      "Training Accuracy: 0.9502, Testing Accuracy: 0.9597\n",
      "\n"
     ]
    },
    {
     "name": "stdout",
     "output_type": "stream",
     "text": [
      "Epoch 80, Loss 0.0485\n",
      "Training Accuracy: 0.9508, Testing Accuracy: 0.9602\n",
      "\n"
     ]
    },
    {
     "name": "stdout",
     "output_type": "stream",
     "text": [
      "Epoch 90, Loss 0.0469\n",
      "Training Accuracy: 0.9521, Testing Accuracy: 0.9607\n",
      "\n"
     ]
    },
    {
     "name": "stdout",
     "output_type": "stream",
     "text": [
      "Epoch 100, Loss 0.0455\n",
      "Training Accuracy: 0.9532, Testing Accuracy: 0.9622\n",
      "\n"
     ]
    },
    {
     "name": "stdout",
     "output_type": "stream",
     "text": [
      "Epoch 110, Loss 0.0444\n",
      "Training Accuracy: 0.9542, Testing Accuracy: 0.9627\n",
      "\n"
     ]
    },
    {
     "name": "stdout",
     "output_type": "stream",
     "text": [
      "Epoch 120, Loss 0.0434\n",
      "Training Accuracy: 0.9549, Testing Accuracy: 0.9632\n",
      "\n"
     ]
    },
    {
     "name": "stdout",
     "output_type": "stream",
     "text": [
      "Epoch 130, Loss 0.0425\n",
      "Training Accuracy: 0.9558, Testing Accuracy: 0.9642\n",
      "\n"
     ]
    },
    {
     "name": "stdout",
     "output_type": "stream",
     "text": [
      "Epoch 140, Loss 0.0417\n",
      "Training Accuracy: 0.9564, Testing Accuracy: 0.9647\n",
      "\n"
     ]
    },
    {
     "name": "stdout",
     "output_type": "stream",
     "text": [
      "Epoch 150, Loss 0.041\n",
      "Training Accuracy: 0.9570, Testing Accuracy: 0.9657\n",
      "\n"
     ]
    },
    {
     "name": "stdout",
     "output_type": "stream",
     "text": [
      "Epoch 160, Loss 0.0403\n",
      "Training Accuracy: 0.9578, Testing Accuracy: 0.9657\n",
      "\n"
     ]
    },
    {
     "name": "stdout",
     "output_type": "stream",
     "text": [
      "Epoch 170, Loss 0.0397\n",
      "Training Accuracy: 0.9583, Testing Accuracy: 0.9662\n",
      "\n"
     ]
    },
    {
     "name": "stdout",
     "output_type": "stream",
     "text": [
      "Epoch 180, Loss 0.0392\n",
      "Training Accuracy: 0.9592, Testing Accuracy: 0.9662\n",
      "\n"
     ]
    },
    {
     "name": "stdout",
     "output_type": "stream",
     "text": [
      "Epoch 190, Loss 0.0387\n",
      "Training Accuracy: 0.9596, Testing Accuracy: 0.9662\n",
      "\n"
     ]
    },
    {
     "name": "stdout",
     "output_type": "stream",
     "text": [
      "Epoch 200, Loss 0.0382\n",
      "Training Accuracy: 0.9599, Testing Accuracy: 0.9662\n",
      "\n"
     ]
    },
    {
     "name": "stdout",
     "output_type": "stream",
     "text": [
      "Epoch 210, Loss 0.0378\n",
      "Training Accuracy: 0.9604, Testing Accuracy: 0.9672\n",
      "\n"
     ]
    },
    {
     "name": "stdout",
     "output_type": "stream",
     "text": [
      "Epoch 220, Loss 0.0374\n",
      "Training Accuracy: 0.9609, Testing Accuracy: 0.9677\n",
      "\n"
     ]
    },
    {
     "name": "stdout",
     "output_type": "stream",
     "text": [
      "Epoch 230, Loss 0.037\n",
      "Training Accuracy: 0.9610, Testing Accuracy: 0.9682\n",
      "\n"
     ]
    },
    {
     "name": "stdout",
     "output_type": "stream",
     "text": [
      "Epoch 240, Loss 0.0367\n",
      "Training Accuracy: 0.9613, Testing Accuracy: 0.9677\n",
      "\n"
     ]
    },
    {
     "data": {
      "text/plain": [
       "0.02944841192821518"
      ]
     },
     "execution_count": 23,
     "metadata": {},
     "output_type": "execute_result"
    }
   ],
   "source": [
    "lr_learner.train_loop(dl)"
   ]
  },
  {
   "cell_type": "code",
   "execution_count": 24,
   "id": "ca410940",
   "metadata": {
    "execution": {
     "iopub.execute_input": "2022-09-27T10:15:28.834433Z",
     "iopub.status.busy": "2022-09-27T10:15:28.833828Z",
     "iopub.status.idle": "2022-09-27T10:15:29.063753Z",
     "shell.execute_reply": "2022-09-27T10:15:29.064545Z"
    },
    "papermill": {
     "duration": 0.286444,
     "end_time": "2022-09-27T10:15:29.064694",
     "exception": false,
     "start_time": "2022-09-27T10:15:28.778250",
     "status": "completed"
    },
    "tags": []
   },
   "outputs": [
    {
     "data": {
      "text/plain": [
       "<matplotlib.legend.Legend at 0x7fdd65e05358>"
      ]
     },
     "execution_count": 24,
     "metadata": {},
     "output_type": "execute_result"
    },
    {
     "data": {
      "image/png": "[encoded data removed]",
      "text/plain": [
       "<Figure size 1080x720 with 1 Axes>"
      ]
     },
     "metadata": {
      "needs_background": "light"
     },
     "output_type": "display_data"
    }
   ],
   "source": [
    "#comparing the results of NN and LR\n",
    "plt.figure(figsize=(15,10))\n",
    "\n",
    "# Neural Network plots\n",
    "plt.plot(acc_nn.accuracies, 'r-', label = \"Training Accuracies - NN\")\n",
    "plt.plot(acc_nn.test_accuracies, 'g-', label = \"Testing Accuracies - NN\")\n",
    "\n",
    "# Logistic Regression plots\n",
    "plt.plot(acc_lr.accuracies, 'k-', label = \"Training Accuracies - LR\")\n",
    "plt.plot(acc_lr.test_accuracies, 'b-', label = \"Testing Accuracies - LR\")\n",
    "plt.legend()"
   ]
  },
  {
   "cell_type": "markdown",
   "id": "80dfb35c",
   "metadata": {
    "papermill": {
     "duration": 0.042487,
     "end_time": "2022-09-27T10:15:29.149172",
     "exception": false,
     "start_time": "2022-09-27T10:15:29.106685",
     "status": "completed"
    },
    "tags": []
   },
   "source": [
    "#### Plotting the outputs of this layer of the NN.\n"
   ]
  },
  {
   "cell_type": "code",
   "execution_count": 25,
   "id": "45eb2ff5",
   "metadata": {
    "execution": {
     "iopub.execute_input": "2022-09-27T10:15:29.244729Z",
     "iopub.status.busy": "2022-09-27T10:15:29.243780Z",
     "iopub.status.idle": "2022-09-27T10:15:29.261019Z",
     "shell.execute_reply": "2022-09-27T10:15:29.260217Z"
    },
    "papermill": {
     "duration": 0.070484,
     "end_time": "2022-09-27T10:15:29.261159",
     "exception": false,
     "start_time": "2022-09-27T10:15:29.190675",
     "status": "completed"
    },
    "tags": []
   },
   "outputs": [],
   "source": [
    "new_model = Model(layers[:-2])\n",
    "testing_plot = new_model(testing_data_x)"
   ]
  },
  {
   "cell_type": "code",
   "execution_count": 26,
   "id": "4c0a5485",
   "metadata": {
    "execution": {
     "iopub.execute_input": "2022-09-27T10:15:29.362129Z",
     "iopub.status.busy": "2022-09-27T10:15:29.359139Z",
     "iopub.status.idle": "2022-09-27T10:15:29.543412Z",
     "shell.execute_reply": "2022-09-27T10:15:29.542307Z"
    },
    "papermill": {
     "duration": 0.240187,
     "end_time": "2022-09-27T10:15:29.543527",
     "exception": false,
     "start_time": "2022-09-27T10:15:29.303340",
     "status": "completed"
    },
    "tags": []
   },
   "outputs": [
    {
     "data": {
      "text/plain": [
       "Text(0.5, 1.0, 'Outputs')"
      ]
     },
     "execution_count": 26,
     "metadata": {},
     "output_type": "execute_result"
    },
    {
     "data": {
      "image/png": "[encoded data removed]",
      "text/plain": [
       "<Figure size 576x504 with 1 Axes>"
      ]
     },
     "metadata": {
      "needs_background": "light"
     },
     "output_type": "display_data"
    }
   ],
   "source": [
    "# Plotting the scatter plot of points and color coding by class\n",
    "plt.figure(figsize=(8,7))\n",
    "plt.scatter(testing_plot[:,0], testing_plot[:,1], alpha = 0.1, c = y_test.ravel());\n",
    "plt.title('Outputs')"
   ]
  },
  {
   "cell_type": "markdown",
   "id": "a74fcf8f",
   "metadata": {
    "papermill": {
     "duration": 0.043621,
     "end_time": "2022-09-27T10:15:29.630947",
     "exception": false,
     "start_time": "2022-09-27T10:15:29.587326",
     "status": "completed"
    },
    "tags": []
   },
   "source": [
    "Probability contours"
   ]
  },
  {
   "cell_type": "code",
   "execution_count": 27,
   "id": "d0afc8e3",
   "metadata": {
    "execution": {
     "iopub.execute_input": "2022-09-27T10:15:29.751894Z",
     "iopub.status.busy": "2022-09-27T10:15:29.751280Z",
     "iopub.status.idle": "2022-09-27T10:15:29.762085Z",
     "shell.execute_reply": "2022-09-27T10:15:29.762536Z"
    },
    "papermill": {
     "duration": 0.088065,
     "end_time": "2022-09-27T10:15:29.762660",
     "exception": false,
     "start_time": "2022-09-27T10:15:29.674595",
     "status": "completed"
    },
    "tags": []
   },
   "outputs": [],
   "source": [
    "model_prob = Model(layers[-2:]) "
   ]
  },
  {
   "cell_type": "code",
   "execution_count": 28,
   "id": "9b96e238",
   "metadata": {
    "execution": {
     "iopub.execute_input": "2022-09-27T10:15:29.855623Z",
     "iopub.status.busy": "2022-09-27T10:15:29.855031Z",
     "iopub.status.idle": "2022-09-27T10:15:29.869048Z",
     "shell.execute_reply": "2022-09-27T10:15:29.869906Z"
    },
    "papermill": {
     "duration": 0.063534,
     "end_time": "2022-09-27T10:15:29.870041",
     "exception": false,
     "start_time": "2022-09-27T10:15:29.806507",
     "status": "completed"
    },
    "tags": []
   },
   "outputs": [],
   "source": [
    "#creating the x and y ranges according to the above generated plot.\n",
    "x_range = np.linspace(-4, 1, 100) \n",
    "y_range = np.linspace(-6, 6, 100) \n",
    "x_grid, y_grid = np.meshgrid(x_range, y_range) # x_grid and y_grig are of size 100 X 100\n",
    "\n",
    "# converting x_grid and y_grid to continuous arrays\n",
    "x_gridflat = np.ravel(x_grid)\n",
    "y_gridflat = np.ravel(y_grid)\n",
    "\n",
    "# The last layer of the current model takes two columns as input. Hence transpose of np.vstack() is required.\n",
    "X = np.vstack((x_gridflat, y_gridflat)).T\n",
    "\n",
    "prob_contour = model_prob(X).reshape(100,100) "
   ]
  },
  {
   "cell_type": "code",
   "execution_count": 29,
   "id": "da72499a",
   "metadata": {
    "execution": {
     "iopub.execute_input": "2022-09-27T10:15:29.970526Z",
     "iopub.status.busy": "2022-09-27T10:15:29.969934Z",
     "iopub.status.idle": "2022-09-27T10:15:30.200470Z",
     "shell.execute_reply": "2022-09-27T10:15:30.200923Z"
    },
    "papermill": {
     "duration": 0.286162,
     "end_time": "2022-09-27T10:15:30.201058",
     "exception": false,
     "start_time": "2022-09-27T10:15:29.914896",
     "status": "completed"
    },
    "tags": []
   },
   "outputs": [
    {
     "data": {
      "image/png": "[encoded data removed]",
      "text/plain": [
       "<Figure size 720x648 with 1 Axes>"
      ]
     },
     "metadata": {
      "needs_background": "light"
     },
     "output_type": "display_data"
    }
   ],
   "source": [
    "plt.figure(figsize=(10,9))\n",
    "plt.scatter(testing_plot[:,0], testing_plot[:,1], alpha = 0.1, c = y_test.ravel())\n",
    "contours = plt.contour(x_grid,y_grid,prob_contour)\n",
    "plt.title('Probability Contours')\n",
    "plt.clabel(contours, inline = True );"
   ]
  },
  {
   "cell_type": "code",
   "execution_count": null,
   "id": "e81b4ac7",
   "metadata": {
    "papermill": {
     "duration": 0.046358,
     "end_time": "2022-09-27T10:15:30.294117",
     "exception": false,
     "start_time": "2022-09-27T10:15:30.247759",
     "status": "completed"
    },
    "tags": []
   },
   "outputs": [],
   "source": []
  }
 ],
 "metadata": {
  "kernelspec": {
   "display_name": "Python 3",
   "language": "python",
   "name": "python3"
  },
  "language_info": {
   "codemirror_mode": {
    "name": "ipython",
    "version": 3
   },
   "file_extension": ".py",
   "mimetype": "text/x-python",
   "name": "python",
   "nbconvert_exporter": "python",
   "pygments_lexer": "ipython3",
   "version": "3.6.15"
  },
  "papermill": {
   "default_parameters": {},
   "duration": 95.374568,
   "end_time": "2022-09-27T10:15:30.758586",
   "environment_variables": {},
   "exception": null,
   "input_path": "2020-08-11-part2.ipynb",
   "output_path": "2020-08-11-part2.ipynb",
   "parameters": {},
   "start_time": "2022-09-27T10:13:55.384018",
   "version": "2.3.3"
  }
 },
 "nbformat": 4,
 "nbformat_minor": 5
}