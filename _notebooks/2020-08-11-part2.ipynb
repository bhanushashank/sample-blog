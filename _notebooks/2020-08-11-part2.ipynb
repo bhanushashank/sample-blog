{
 "cells": [
  {
   "cell_type": "markdown",
   "id": "98380cd3",
   "metadata": {
    "papermill": {
     "duration": 0.023501,
     "end_time": "2022-10-28T10:10:27.846796",
     "exception": false,
     "start_time": "2022-10-28T10:10:27.823295",
     "status": "completed"
    },
    "tags": []
   },
   "source": [
    "# Distinguish Your Own Digits (DYOD)"
   ]
  },
  {
   "cell_type": "markdown",
   "id": "ef31240d",
   "metadata": {
    "papermill": {
     "duration": 0.020166,
     "end_time": "2022-10-28T10:10:27.887555",
     "exception": false,
     "start_time": "2022-10-28T10:10:27.867389",
     "status": "completed"
    },
    "tags": []
   },
   "source": [
    "You are going to write a classifier that distinguishes between the number 3 and number 8."
   ]
  },
  {
   "cell_type": "code",
   "execution_count": 1,
   "id": "b15c8646",
   "metadata": {
    "execution": {
     "iopub.execute_input": "2022-10-28T10:10:27.935751Z",
     "iopub.status.busy": "2022-10-28T10:10:27.935270Z",
     "iopub.status.idle": "2022-10-28T10:10:27.943276Z",
     "shell.execute_reply": "2022-10-28T10:10:27.942865Z"
    },
    "papermill": {
     "duration": 0.035762,
     "end_time": "2022-10-28T10:10:27.943374",
     "exception": false,
     "start_time": "2022-10-28T10:10:27.907612",
     "status": "completed"
    },
    "tags": []
   },
   "outputs": [],
   "source": [
    "%load_ext autoreload\n",
    "%autoreload 2"
   ]
  },
  {
   "cell_type": "code",
   "execution_count": 2,
   "id": "22ef38dc",
   "metadata": {
    "execution": {
     "iopub.execute_input": "2022-10-28T10:10:27.993019Z",
     "iopub.status.busy": "2022-10-28T10:10:27.992552Z",
     "iopub.status.idle": "2022-10-28T10:10:28.402796Z",
     "shell.execute_reply": "2022-10-28T10:10:28.402393Z"
    },
    "papermill": {
     "duration": 0.439126,
     "end_time": "2022-10-28T10:10:28.402896",
     "exception": false,
     "start_time": "2022-10-28T10:10:27.963770",
     "status": "completed"
    },
    "tags": []
   },
   "outputs": [],
   "source": [
    "%matplotlib inline\n",
    "import numpy as np\n",
    "import matplotlib.pyplot as plt\n",
    "import pandas as pd"
   ]
  },
  {
   "cell_type": "markdown",
   "id": "ba036198",
   "metadata": {
    "papermill": {
     "duration": 0.020279,
     "end_time": "2022-10-28T10:10:28.445949",
     "exception": false,
     "start_time": "2022-10-28T10:10:28.425670",
     "status": "completed"
    },
    "tags": []
   },
   "source": [
    "From the command line run `pip install mnist`. This is a library that will help you bring down the mnist dataset. If you run this from a notebook, you need to put  `!pip install mnist` in a cell by itself."
   ]
  },
  {
   "cell_type": "code",
   "execution_count": 3,
   "id": "bb6ad8a1",
   "metadata": {
    "execution": {
     "iopub.execute_input": "2022-10-28T10:10:28.500902Z",
     "iopub.status.busy": "2022-10-28T10:10:28.495702Z",
     "iopub.status.idle": "2022-10-28T10:10:29.834554Z",
     "shell.execute_reply": "2022-10-28T10:10:29.833851Z"
    },
    "papermill": {
     "duration": 1.368575,
     "end_time": "2022-10-28T10:10:29.834661",
     "exception": false,
     "start_time": "2022-10-28T10:10:28.466086",
     "status": "completed"
    },
    "tags": []
   },
   "outputs": [
    {
     "name": "stdout",
     "output_type": "stream",
     "text": [
      "Collecting mnist\r\n"
     ]
    },
    {
     "name": "stdout",
     "output_type": "stream",
     "text": [
      "  Downloading mnist-0.2.2-py2.py3-none-any.whl (3.5 kB)\r\n",
      "Requirement already satisfied: numpy in /opt/hostedtoolcache/Python/3.6.15/x64/lib/python3.6/site-packages (from mnist) (1.19.5)\r\n"
     ]
    },
    {
     "name": "stdout",
     "output_type": "stream",
     "text": [
      "Installing collected packages: mnist\r\n"
     ]
    },
    {
     "name": "stdout",
     "output_type": "stream",
     "text": [
      "Successfully installed mnist-0.2.2\r\n"
     ]
    }
   ],
   "source": [
    "!pip install mnist"
   ]
  },
  {
   "cell_type": "markdown",
   "id": "69df9c9a",
   "metadata": {
    "papermill": {
     "duration": 0.032774,
     "end_time": "2022-10-28T10:10:29.892647",
     "exception": false,
     "start_time": "2022-10-28T10:10:29.859873",
     "status": "completed"
    },
    "tags": []
   },
   "source": [
    "## Preparing the Data"
   ]
  },
  {
   "cell_type": "code",
   "execution_count": 4,
   "id": "7f69d806",
   "metadata": {
    "execution": {
     "iopub.execute_input": "2022-10-28T10:10:29.951175Z",
     "iopub.status.busy": "2022-10-28T10:10:29.943618Z",
     "iopub.status.idle": "2022-10-28T10:10:29.953848Z",
     "shell.execute_reply": "2022-10-28T10:10:29.954224Z"
    },
    "papermill": {
     "duration": 0.037452,
     "end_time": "2022-10-28T10:10:29.954326",
     "exception": false,
     "start_time": "2022-10-28T10:10:29.916874",
     "status": "completed"
    },
    "tags": []
   },
   "outputs": [],
   "source": [
    "import mnist"
   ]
  },
  {
   "cell_type": "code",
   "execution_count": 5,
   "id": "a411e44f",
   "metadata": {
    "execution": {
     "iopub.execute_input": "2022-10-28T10:10:30.001497Z",
     "iopub.status.busy": "2022-10-28T10:10:30.000551Z",
     "iopub.status.idle": "2022-10-28T10:10:30.532078Z",
     "shell.execute_reply": "2022-10-28T10:10:30.531622Z"
    },
    "papermill": {
     "duration": 0.555546,
     "end_time": "2022-10-28T10:10:30.532191",
     "exception": false,
     "start_time": "2022-10-28T10:10:29.976645",
     "status": "completed"
    },
    "tags": []
   },
   "outputs": [],
   "source": [
    "train_images = mnist.train_images()\n",
    "train_labels = mnist.train_labels()"
   ]
  },
  {
   "cell_type": "code",
   "execution_count": 6,
   "id": "dceab3a5",
   "metadata": {
    "execution": {
     "iopub.execute_input": "2022-10-28T10:10:30.580105Z",
     "iopub.status.busy": "2022-10-28T10:10:30.579633Z",
     "iopub.status.idle": "2022-10-28T10:10:30.590259Z",
     "shell.execute_reply": "2022-10-28T10:10:30.590638Z"
    },
    "papermill": {
     "duration": 0.035776,
     "end_time": "2022-10-28T10:10:30.590739",
     "exception": false,
     "start_time": "2022-10-28T10:10:30.554963",
     "status": "completed"
    },
    "tags": []
   },
   "outputs": [
    {
     "data": {
      "text/plain": [
       "((60000, 28, 28), (60000,))"
      ]
     },
     "execution_count": 6,
     "metadata": {},
     "output_type": "execute_result"
    }
   ],
   "source": [
    "train_images.shape, train_labels.shape"
   ]
  },
  {
   "cell_type": "code",
   "execution_count": 7,
   "id": "f50dc2bb",
   "metadata": {
    "execution": {
     "iopub.execute_input": "2022-10-28T10:10:30.640129Z",
     "iopub.status.busy": "2022-10-28T10:10:30.639661Z",
     "iopub.status.idle": "2022-10-28T10:10:30.848898Z",
     "shell.execute_reply": "2022-10-28T10:10:30.848456Z"
    },
    "papermill": {
     "duration": 0.23592,
     "end_time": "2022-10-28T10:10:30.849001",
     "exception": false,
     "start_time": "2022-10-28T10:10:30.613081",
     "status": "completed"
    },
    "tags": []
   },
   "outputs": [],
   "source": [
    "test_images = mnist.test_images()\n",
    "test_labels = mnist.test_labels()"
   ]
  },
  {
   "cell_type": "code",
   "execution_count": 8,
   "id": "fc38cf1b",
   "metadata": {
    "execution": {
     "iopub.execute_input": "2022-10-28T10:10:30.907295Z",
     "iopub.status.busy": "2022-10-28T10:10:30.906406Z",
     "iopub.status.idle": "2022-10-28T10:10:30.911452Z",
     "shell.execute_reply": "2022-10-28T10:10:30.910849Z"
    },
    "papermill": {
     "duration": 0.039518,
     "end_time": "2022-10-28T10:10:30.911539",
     "exception": false,
     "start_time": "2022-10-28T10:10:30.872021",
     "status": "completed"
    },
    "tags": []
   },
   "outputs": [
    {
     "data": {
      "text/plain": [
       "((10000, 28, 28), (10000,))"
      ]
     },
     "execution_count": 8,
     "metadata": {},
     "output_type": "execute_result"
    }
   ],
   "source": [
    "test_images.shape, test_labels.shape"
   ]
  },
  {
   "cell_type": "code",
   "execution_count": 9,
   "id": "f9ed8fe0",
   "metadata": {
    "execution": {
     "iopub.execute_input": "2022-10-28T10:10:30.969728Z",
     "iopub.status.busy": "2022-10-28T10:10:30.969241Z",
     "iopub.status.idle": "2022-10-28T10:10:31.069417Z",
     "shell.execute_reply": "2022-10-28T10:10:31.068985Z"
    },
    "papermill": {
     "duration": 0.135417,
     "end_time": "2022-10-28T10:10:31.069511",
     "exception": false,
     "start_time": "2022-10-28T10:10:30.934094",
     "status": "completed"
    },
    "tags": []
   },
   "outputs": [
    {
     "name": "stdout",
     "output_type": "stream",
     "text": [
      "2\n"
     ]
    },
    {
     "data": {
      "text/plain": [
       "<matplotlib.image.AxesImage at 0x7efff7a013c8>"
      ]
     },
     "execution_count": 9,
     "metadata": {},
     "output_type": "execute_result"
    },
    {
     "data": {
      "image/png": "[encoded data removed]",
      "text/plain": [
       "<Figure size 432x288 with 1 Axes>"
      ]
     },
     "metadata": {
      "needs_background": "light"
     },
     "output_type": "display_data"
    }
   ],
   "source": [
    "image_index = 7776 # You may select anything up to 60,000\n",
    "print(train_labels[image_index]) \n",
    "plt.imshow(train_images[image_index], cmap='Greys')"
   ]
  },
  {
   "cell_type": "markdown",
   "id": "a8d2388d",
   "metadata": {
    "papermill": {
     "duration": 0.023187,
     "end_time": "2022-10-28T10:10:31.116686",
     "exception": false,
     "start_time": "2022-10-28T10:10:31.093499",
     "status": "completed"
    },
    "tags": []
   },
   "source": [
    "## Filter data to get 3 and 8 out"
   ]
  },
  {
   "cell_type": "code",
   "execution_count": 10,
   "id": "776f7fc7",
   "metadata": {
    "execution": {
     "iopub.execute_input": "2022-10-28T10:10:31.174880Z",
     "iopub.status.busy": "2022-10-28T10:10:31.165942Z",
     "iopub.status.idle": "2022-10-28T10:10:31.182137Z",
     "shell.execute_reply": "2022-10-28T10:10:31.181726Z"
    },
    "papermill": {
     "duration": 0.042313,
     "end_time": "2022-10-28T10:10:31.182233",
     "exception": false,
     "start_time": "2022-10-28T10:10:31.139920",
     "status": "completed"
    },
    "tags": []
   },
   "outputs": [],
   "source": [
    "train_filter = np.where((train_labels == 3 ) | (train_labels == 8))\n",
    "test_filter = np.where((test_labels == 3) | (test_labels == 8))\n",
    "X_train, y_train = train_images[train_filter], train_labels[train_filter]\n",
    "X_test, y_test = test_images[test_filter], test_labels[test_filter]"
   ]
  },
  {
   "cell_type": "markdown",
   "id": "948f0b7e",
   "metadata": {
    "papermill": {
     "duration": 0.023008,
     "end_time": "2022-10-28T10:10:31.229249",
     "exception": false,
     "start_time": "2022-10-28T10:10:31.206241",
     "status": "completed"
    },
    "tags": []
   },
   "source": [
    "We normalize the pizel values in the 0 to 1 range"
   ]
  },
  {
   "cell_type": "code",
   "execution_count": 11,
   "id": "ee4c2166",
   "metadata": {
    "execution": {
     "iopub.execute_input": "2022-10-28T10:10:31.287897Z",
     "iopub.status.busy": "2022-10-28T10:10:31.280352Z",
     "iopub.status.idle": "2022-10-28T10:10:31.307175Z",
     "shell.execute_reply": "2022-10-28T10:10:31.306748Z"
    },
    "papermill": {
     "duration": 0.054877,
     "end_time": "2022-10-28T10:10:31.307277",
     "exception": false,
     "start_time": "2022-10-28T10:10:31.252400",
     "status": "completed"
    },
    "tags": []
   },
   "outputs": [],
   "source": [
    "X_train = X_train/255.\n",
    "X_test = X_test/255."
   ]
  },
  {
   "cell_type": "markdown",
   "id": "ddcf4fab",
   "metadata": {
    "papermill": {
     "duration": 0.023112,
     "end_time": "2022-10-28T10:10:31.354147",
     "exception": false,
     "start_time": "2022-10-28T10:10:31.331035",
     "status": "completed"
    },
    "tags": []
   },
   "source": [
    "And setup the labels as 1 (when the digit is 3) and 0 (when the digit is 8)"
   ]
  },
  {
   "cell_type": "code",
   "execution_count": 12,
   "id": "7dc908f2",
   "metadata": {
    "execution": {
     "iopub.execute_input": "2022-10-28T10:10:31.404420Z",
     "iopub.status.busy": "2022-10-28T10:10:31.403498Z",
     "iopub.status.idle": "2022-10-28T10:10:31.412235Z",
     "shell.execute_reply": "2022-10-28T10:10:31.412609Z"
    },
    "papermill": {
     "duration": 0.035311,
     "end_time": "2022-10-28T10:10:31.412708",
     "exception": false,
     "start_time": "2022-10-28T10:10:31.377397",
     "status": "completed"
    },
    "tags": []
   },
   "outputs": [],
   "source": [
    "y_train = 1*(y_train==3)\n",
    "y_test = 1*(y_test==3)"
   ]
  },
  {
   "cell_type": "code",
   "execution_count": 13,
   "id": "01e4e969",
   "metadata": {
    "execution": {
     "iopub.execute_input": "2022-10-28T10:10:31.470814Z",
     "iopub.status.busy": "2022-10-28T10:10:31.461625Z",
     "iopub.status.idle": "2022-10-28T10:10:31.474812Z",
     "shell.execute_reply": "2022-10-28T10:10:31.475183Z"
    },
    "papermill": {
     "duration": 0.039259,
     "end_time": "2022-10-28T10:10:31.475278",
     "exception": false,
     "start_time": "2022-10-28T10:10:31.436019",
     "status": "completed"
    },
    "tags": []
   },
   "outputs": [
    {
     "data": {
      "text/plain": [
       "((11982, 28, 28), (1984, 28, 28))"
      ]
     },
     "execution_count": 13,
     "metadata": {},
     "output_type": "execute_result"
    }
   ],
   "source": [
    "X_train.shape, X_test.shape"
   ]
  },
  {
   "cell_type": "markdown",
   "id": "5ccf3f85",
   "metadata": {
    "papermill": {
     "duration": 0.022936,
     "end_time": "2022-10-28T10:10:31.521496",
     "exception": false,
     "start_time": "2022-10-28T10:10:31.498560",
     "status": "completed"
    },
    "tags": []
   },
   "source": [
    "We reshape the data to flatten the image pixels into a set of features or co-variates:"
   ]
  },
  {
   "cell_type": "code",
   "execution_count": 14,
   "id": "5286a4a3",
   "metadata": {
    "execution": {
     "iopub.execute_input": "2022-10-28T10:10:31.578696Z",
     "iopub.status.busy": "2022-10-28T10:10:31.570905Z",
     "iopub.status.idle": "2022-10-28T10:10:31.584046Z",
     "shell.execute_reply": "2022-10-28T10:10:31.583467Z"
    },
    "papermill": {
     "duration": 0.039293,
     "end_time": "2022-10-28T10:10:31.584129",
     "exception": false,
     "start_time": "2022-10-28T10:10:31.544836",
     "status": "completed"
    },
    "tags": []
   },
   "outputs": [
    {
     "data": {
      "text/plain": [
       "((11982, 784), (1984, 784))"
      ]
     },
     "execution_count": 14,
     "metadata": {},
     "output_type": "execute_result"
    }
   ],
   "source": [
    "X_train = X_train.reshape(X_train.shape[0], -1)\n",
    "X_test = X_test.reshape(X_test.shape[0], -1)\n",
    "X_train.shape, X_test.shape"
   ]
  },
  {
   "cell_type": "code",
   "execution_count": 15,
   "id": "73c5f88a",
   "metadata": {
    "execution": {
     "iopub.execute_input": "2022-10-28T10:10:31.636053Z",
     "iopub.status.busy": "2022-10-28T10:10:31.634461Z",
     "iopub.status.idle": "2022-10-28T10:10:31.648258Z",
     "shell.execute_reply": "2022-10-28T10:10:31.647795Z"
    },
    "papermill": {
     "duration": 0.04044,
     "end_time": "2022-10-28T10:10:31.648342",
     "exception": false,
     "start_time": "2022-10-28T10:10:31.607902",
     "status": "completed"
    },
    "tags": []
   },
   "outputs": [],
   "source": [
    "#Impoting functions from 'Kudzu'\n",
    "from kudzu.model import Model\n",
    "from kudzu.train import Learner\n",
    "from kudzu.optim import GD\n",
    "from kudzu.data import Data, Sampler,Dataloader\n",
    "\n",
    "from kudzu.callbacks import AccCallback\n",
    "from kudzu.callbacks import ClfCallback\n",
    "\n",
    "from kudzu.loss import MSE\n",
    "\n",
    "from kudzu.layer import Sigmoid,Relu\n",
    "from kudzu.layer import Affine"
   ]
  },
  {
   "cell_type": "markdown",
   "id": "bc01172a",
   "metadata": {
    "papermill": {
     "duration": 0.023275,
     "end_time": "2022-10-28T10:10:31.695346",
     "exception": false,
     "start_time": "2022-10-28T10:10:31.672071",
     "status": "completed"
    },
    "tags": []
   },
   "source": [
    "### Let us create a `Config` class, to store important parameters. \n",
    "This class essentially plays the role of a dictionary."
   ]
  },
  {
   "cell_type": "code",
   "execution_count": 16,
   "id": "978281aa",
   "metadata": {
    "execution": {
     "iopub.execute_input": "2022-10-28T10:10:31.748579Z",
     "iopub.status.busy": "2022-10-28T10:10:31.746879Z",
     "iopub.status.idle": "2022-10-28T10:10:31.753943Z",
     "shell.execute_reply": "2022-10-28T10:10:31.754315Z"
    },
    "papermill": {
     "duration": 0.035652,
     "end_time": "2022-10-28T10:10:31.754404",
     "exception": false,
     "start_time": "2022-10-28T10:10:31.718752",
     "status": "completed"
    },
    "tags": []
   },
   "outputs": [],
   "source": [
    "class Config:\n",
    "    pass\n",
    "config = Config()\n",
    "config.lr = 0.001\n",
    "config.num_epochs = 250\n",
    "config.bs = 50"
   ]
  },
  {
   "cell_type": "markdown",
   "id": "1385fa59",
   "metadata": {
    "papermill": {
     "duration": 0.023318,
     "end_time": "2022-10-28T10:10:31.801474",
     "exception": false,
     "start_time": "2022-10-28T10:10:31.778156",
     "status": "completed"
    },
    "tags": []
   },
   "source": [
    "### Running Models with the Training data\n",
    "Details about the network layers:\n",
    "- A first affine layer has 784 inputs and does 100 affine transforms. These are followed by a Relu\n",
    "- A second affine layer has 100 inputs from the 100 activations of the past layer, and does 100 affine transforms. These are followed by a Relu\n",
    "- A third affine layer has 100 activations and does 2 affine transformations to create an embedding for visualization. There is no non-linearity here.\n",
    "- A final \"logistic regression\" which has an affine transform from 2 inputs to 1 output, which is squeezed through a sigmoid.\n"
   ]
  },
  {
   "cell_type": "code",
   "execution_count": 17,
   "id": "2b9c66db",
   "metadata": {
    "execution": {
     "iopub.execute_input": "2022-10-28T10:10:31.852098Z",
     "iopub.status.busy": "2022-10-28T10:10:31.851621Z",
     "iopub.status.idle": "2022-10-28T10:10:31.859698Z",
     "shell.execute_reply": "2022-10-28T10:10:31.860065Z"
    },
    "papermill": {
     "duration": 0.035048,
     "end_time": "2022-10-28T10:10:31.860163",
     "exception": false,
     "start_time": "2022-10-28T10:10:31.825115",
     "status": "completed"
    },
    "tags": []
   },
   "outputs": [],
   "source": [
    "data = Data(X_train, y_train.reshape(-1,1))\n",
    "sampler = Sampler(data, config.bs, shuffle=True)\n",
    "\n",
    "dl = Dataloader(data, sampler)\n",
    "\n",
    "opt = GD(config.lr)\n",
    "loss = MSE()"
   ]
  },
  {
   "cell_type": "code",
   "execution_count": 18,
   "id": "b275e4c2",
   "metadata": {
    "execution": {
     "iopub.execute_input": "2022-10-28T10:10:31.911388Z",
     "iopub.status.busy": "2022-10-28T10:10:31.910039Z",
     "iopub.status.idle": "2022-10-28T10:10:31.918447Z",
     "shell.execute_reply": "2022-10-28T10:10:31.917981Z"
    },
    "papermill": {
     "duration": 0.03457,
     "end_time": "2022-10-28T10:10:31.918526",
     "exception": false,
     "start_time": "2022-10-28T10:10:31.883956",
     "status": "completed"
    },
    "tags": []
   },
   "outputs": [],
   "source": [
    "training_data_x = X_train\n",
    "testing_data_x = X_test\n",
    "training_data_y = y_train.reshape(-1,1)\n",
    "testing_data_y = y_test.reshape(-1,1)"
   ]
  },
  {
   "cell_type": "code",
   "execution_count": 19,
   "id": "76951160",
   "metadata": {
    "execution": {
     "iopub.execute_input": "2022-10-28T10:10:31.970169Z",
     "iopub.status.busy": "2022-10-28T10:10:31.969069Z",
     "iopub.status.idle": "2022-10-28T10:10:31.980859Z",
     "shell.execute_reply": "2022-10-28T10:10:31.980468Z"
    },
    "papermill": {
     "duration": 0.038758,
     "end_time": "2022-10-28T10:10:31.980942",
     "exception": false,
     "start_time": "2022-10-28T10:10:31.942184",
     "status": "completed"
    },
    "tags": []
   },
   "outputs": [
    {
     "name": "stdout",
     "output_type": "stream",
     "text": [
      "xavier\n",
      "xavier\n",
      "xavier\n",
      "xavier\n",
      "xavier\n"
     ]
    }
   ],
   "source": [
    "layers = [Affine(\"first\", 784, 100), Relu(\"first\"), Affine(\"second\", 100, 100), Relu(\"second\"), Affine(\"third\", 100, 2), Affine(\"last\", 2, 1), Sigmoid(\"last\")]\n",
    "model_nn = Model(layers)\n",
    "model_lr = Model([Affine(\"logits\", 784, 1), Sigmoid(\"sigmoid\")])"
   ]
  },
  {
   "cell_type": "code",
   "execution_count": 20,
   "id": "6eede77a",
   "metadata": {
    "execution": {
     "iopub.execute_input": "2022-10-28T10:10:32.038046Z",
     "iopub.status.busy": "2022-10-28T10:10:32.032106Z",
     "iopub.status.idle": "2022-10-28T10:10:32.042385Z",
     "shell.execute_reply": "2022-10-28T10:10:32.042780Z"
    },
    "papermill": {
     "duration": 0.037687,
     "end_time": "2022-10-28T10:10:32.042879",
     "exception": false,
     "start_time": "2022-10-28T10:10:32.005192",
     "status": "completed"
    },
    "tags": []
   },
   "outputs": [],
   "source": [
    "nn_learner = Learner(loss, model_nn, opt, config.num_epochs)\n",
    "acc_nn = ClfCallback(nn_learner, config.bs, training_data_x , testing_data_x, training_data_y, testing_data_y)\n",
    "nn_learner.set_callbacks([acc_nn])"
   ]
  },
  {
   "cell_type": "code",
   "execution_count": 21,
   "id": "877b6cc7",
   "metadata": {
    "execution": {
     "iopub.execute_input": "2022-10-28T10:10:32.096719Z",
     "iopub.status.busy": "2022-10-28T10:10:32.093295Z",
     "iopub.status.idle": "2022-10-28T10:10:32.102042Z",
     "shell.execute_reply": "2022-10-28T10:10:32.102432Z"
    },
    "papermill": {
     "duration": 0.035432,
     "end_time": "2022-10-28T10:10:32.102525",
     "exception": false,
     "start_time": "2022-10-28T10:10:32.067093",
     "status": "completed"
    },
    "tags": []
   },
   "outputs": [],
   "source": [
    "lr_learner = Learner(loss, model_lr, opt, config.num_epochs)\n",
    "acc_lr = ClfCallback(lr_learner, config.bs, training_data_x , testing_data_x, training_data_y, testing_data_y)\n",
    "lr_learner.set_callbacks([acc_lr])"
   ]
  },
  {
   "cell_type": "code",
   "execution_count": 22,
   "id": "d9b133c3",
   "metadata": {
    "execution": {
     "iopub.execute_input": "2022-10-28T10:10:32.161207Z",
     "iopub.status.busy": "2022-10-28T10:10:32.159562Z",
     "iopub.status.idle": "2022-10-28T10:11:44.844896Z",
     "shell.execute_reply": "2022-10-28T10:11:44.845560Z"
    },
    "papermill": {
     "duration": 72.718927,
     "end_time": "2022-10-28T10:11:44.845679",
     "exception": false,
     "start_time": "2022-10-28T10:10:32.126752",
     "status": "completed"
    },
    "tags": []
   },
   "outputs": [
    {
     "name": "stdout",
     "output_type": "stream",
     "text": [
      "Epoch 0, Loss 0.2516\n",
      "Training Accuracy: 0.5373, Testing Accuracy: 0.5388\n",
      "\n"
     ]
    },
    {
     "name": "stdout",
     "output_type": "stream",
     "text": [
      "Epoch 10, Loss 0.1549\n",
      "Training Accuracy: 0.8888, Testing Accuracy: 0.9047\n",
      "\n"
     ]
    },
    {
     "name": "stdout",
     "output_type": "stream",
     "text": [
      "Epoch 20, Loss 0.0771\n",
      "Training Accuracy: 0.9272, Testing Accuracy: 0.9420\n",
      "\n"
     ]
    },
    {
     "name": "stdout",
     "output_type": "stream",
     "text": [
      "Epoch 30, Loss 0.0528\n",
      "Training Accuracy: 0.9452, Testing Accuracy: 0.9602\n",
      "\n"
     ]
    },
    {
     "name": "stdout",
     "output_type": "stream",
     "text": [
      "Epoch 40, Loss 0.0426\n",
      "Training Accuracy: 0.9535, Testing Accuracy: 0.9642\n",
      "\n"
     ]
    },
    {
     "name": "stdout",
     "output_type": "stream",
     "text": [
      "Epoch 50, Loss 0.0371\n",
      "Training Accuracy: 0.9587, Testing Accuracy: 0.9657\n",
      "\n"
     ]
    },
    {
     "name": "stdout",
     "output_type": "stream",
     "text": [
      "Epoch 60, Loss 0.0337\n",
      "Training Accuracy: 0.9614, Testing Accuracy: 0.9688\n",
      "\n"
     ]
    },
    {
     "name": "stdout",
     "output_type": "stream",
     "text": [
      "Epoch 70, Loss 0.0312\n",
      "Training Accuracy: 0.9637, Testing Accuracy: 0.9693\n",
      "\n"
     ]
    },
    {
     "name": "stdout",
     "output_type": "stream",
     "text": [
      "Epoch 80, Loss 0.0294\n",
      "Training Accuracy: 0.9655, Testing Accuracy: 0.9688\n",
      "\n"
     ]
    },
    {
     "name": "stdout",
     "output_type": "stream",
     "text": [
      "Epoch 90, Loss 0.0279\n",
      "Training Accuracy: 0.9672, Testing Accuracy: 0.9693\n",
      "\n"
     ]
    },
    {
     "name": "stdout",
     "output_type": "stream",
     "text": [
      "Epoch 100, Loss 0.0268\n",
      "Training Accuracy: 0.9685, Testing Accuracy: 0.9703\n",
      "\n"
     ]
    },
    {
     "name": "stdout",
     "output_type": "stream",
     "text": [
      "Epoch 110, Loss 0.0257\n",
      "Training Accuracy: 0.9692, Testing Accuracy: 0.9708\n",
      "\n"
     ]
    },
    {
     "name": "stdout",
     "output_type": "stream",
     "text": [
      "Epoch 120, Loss 0.0248\n",
      "Training Accuracy: 0.9701, Testing Accuracy: 0.9703\n",
      "\n"
     ]
    },
    {
     "name": "stdout",
     "output_type": "stream",
     "text": [
      "Epoch 130, Loss 0.024\n",
      "Training Accuracy: 0.9716, Testing Accuracy: 0.9693\n",
      "\n"
     ]
    },
    {
     "name": "stdout",
     "output_type": "stream",
     "text": [
      "Epoch 140, Loss 0.0233\n",
      "Training Accuracy: 0.9727, Testing Accuracy: 0.9698\n",
      "\n"
     ]
    },
    {
     "name": "stdout",
     "output_type": "stream",
     "text": [
      "Epoch 150, Loss 0.0226\n",
      "Training Accuracy: 0.9740, Testing Accuracy: 0.9708\n",
      "\n"
     ]
    },
    {
     "name": "stdout",
     "output_type": "stream",
     "text": [
      "Epoch 160, Loss 0.022\n",
      "Training Accuracy: 0.9753, Testing Accuracy: 0.9718\n",
      "\n"
     ]
    },
    {
     "name": "stdout",
     "output_type": "stream",
     "text": [
      "Epoch 170, Loss 0.0214\n",
      "Training Accuracy: 0.9760, Testing Accuracy: 0.9728\n",
      "\n"
     ]
    },
    {
     "name": "stdout",
     "output_type": "stream",
     "text": [
      "Epoch 180, Loss 0.0209\n",
      "Training Accuracy: 0.9770, Testing Accuracy: 0.9738\n",
      "\n"
     ]
    },
    {
     "name": "stdout",
     "output_type": "stream",
     "text": [
      "Epoch 190, Loss 0.0204\n",
      "Training Accuracy: 0.9771, Testing Accuracy: 0.9733\n",
      "\n"
     ]
    },
    {
     "name": "stdout",
     "output_type": "stream",
     "text": [
      "Epoch 200, Loss 0.0199\n",
      "Training Accuracy: 0.9775, Testing Accuracy: 0.9738\n",
      "\n"
     ]
    },
    {
     "name": "stdout",
     "output_type": "stream",
     "text": [
      "Epoch 210, Loss 0.0194\n",
      "Training Accuracy: 0.9785, Testing Accuracy: 0.9743\n",
      "\n"
     ]
    },
    {
     "name": "stdout",
     "output_type": "stream",
     "text": [
      "Epoch 220, Loss 0.019\n",
      "Training Accuracy: 0.9790, Testing Accuracy: 0.9743\n",
      "\n"
     ]
    },
    {
     "name": "stdout",
     "output_type": "stream",
     "text": [
      "Epoch 230, Loss 0.0186\n",
      "Training Accuracy: 0.9795, Testing Accuracy: 0.9743\n",
      "\n"
     ]
    },
    {
     "name": "stdout",
     "output_type": "stream",
     "text": [
      "Epoch 240, Loss 0.0182\n",
      "Training Accuracy: 0.9798, Testing Accuracy: 0.9743\n",
      "\n"
     ]
    },
    {
     "data": {
      "text/plain": [
       "0.00812014142448652"
      ]
     },
     "execution_count": 22,
     "metadata": {},
     "output_type": "execute_result"
    }
   ],
   "source": [
    "nn_learner.train_loop(dl)"
   ]
  },
  {
   "cell_type": "code",
   "execution_count": 23,
   "id": "e0163366",
   "metadata": {
    "execution": {
     "iopub.execute_input": "2022-10-28T10:11:44.915593Z",
     "iopub.status.busy": "2022-10-28T10:11:44.915108Z",
     "iopub.status.idle": "2022-10-28T10:11:54.225198Z",
     "shell.execute_reply": "2022-10-28T10:11:54.225928Z"
    },
    "papermill": {
     "duration": 9.349305,
     "end_time": "2022-10-28T10:11:54.226048",
     "exception": false,
     "start_time": "2022-10-28T10:11:44.876743",
     "status": "completed"
    },
    "tags": []
   },
   "outputs": [
    {
     "name": "stdout",
     "output_type": "stream",
     "text": [
      "Epoch 0, Loss 0.2434\n",
      "Training Accuracy: 0.6693, Testing Accuracy: 0.6920\n",
      "\n"
     ]
    },
    {
     "name": "stdout",
     "output_type": "stream",
     "text": [
      "Epoch 10, Loss 0.1018\n",
      "Training Accuracy: 0.9110, Testing Accuracy: 0.9128\n",
      "\n"
     ]
    },
    {
     "name": "stdout",
     "output_type": "stream",
     "text": [
      "Epoch 20, Loss 0.0781\n",
      "Training Accuracy: 0.9282, Testing Accuracy: 0.9360\n",
      "\n"
     ]
    },
    {
     "name": "stdout",
     "output_type": "stream",
     "text": [
      "Epoch 30, Loss 0.0673\n",
      "Training Accuracy: 0.9350, Testing Accuracy: 0.9456\n",
      "\n"
     ]
    },
    {
     "name": "stdout",
     "output_type": "stream",
     "text": [
      "Epoch 40, Loss 0.0608\n",
      "Training Accuracy: 0.9406, Testing Accuracy: 0.9516\n",
      "\n"
     ]
    },
    {
     "name": "stdout",
     "output_type": "stream",
     "text": [
      "Epoch 50, Loss 0.0564\n",
      "Training Accuracy: 0.9442, Testing Accuracy: 0.9551\n",
      "\n"
     ]
    },
    {
     "name": "stdout",
     "output_type": "stream",
     "text": [
      "Epoch 60, Loss 0.0532\n",
      "Training Accuracy: 0.9469, Testing Accuracy: 0.9567\n",
      "\n"
     ]
    },
    {
     "name": "stdout",
     "output_type": "stream",
     "text": [
      "Epoch 70, Loss 0.0507\n",
      "Training Accuracy: 0.9489, Testing Accuracy: 0.9587\n",
      "\n"
     ]
    },
    {
     "name": "stdout",
     "output_type": "stream",
     "text": [
      "Epoch 80, Loss 0.0487\n",
      "Training Accuracy: 0.9504, Testing Accuracy: 0.9597\n",
      "\n"
     ]
    },
    {
     "name": "stdout",
     "output_type": "stream",
     "text": [
      "Epoch 90, Loss 0.0471\n",
      "Training Accuracy: 0.9516, Testing Accuracy: 0.9617\n",
      "\n"
     ]
    },
    {
     "name": "stdout",
     "output_type": "stream",
     "text": [
      "Epoch 100, Loss 0.0457\n",
      "Training Accuracy: 0.9525, Testing Accuracy: 0.9622\n",
      "\n"
     ]
    },
    {
     "name": "stdout",
     "output_type": "stream",
     "text": [
      "Epoch 110, Loss 0.0445\n",
      "Training Accuracy: 0.9535, Testing Accuracy: 0.9612\n",
      "\n"
     ]
    },
    {
     "name": "stdout",
     "output_type": "stream",
     "text": [
      "Epoch 120, Loss 0.0435\n",
      "Training Accuracy: 0.9547, Testing Accuracy: 0.9622\n",
      "\n"
     ]
    },
    {
     "name": "stdout",
     "output_type": "stream",
     "text": [
      "Epoch 130, Loss 0.0426\n",
      "Training Accuracy: 0.9555, Testing Accuracy: 0.9632\n",
      "\n"
     ]
    },
    {
     "name": "stdout",
     "output_type": "stream",
     "text": [
      "Epoch 140, Loss 0.0418\n",
      "Training Accuracy: 0.9562, Testing Accuracy: 0.9647\n",
      "\n"
     ]
    },
    {
     "name": "stdout",
     "output_type": "stream",
     "text": [
      "Epoch 150, Loss 0.041\n",
      "Training Accuracy: 0.9567, Testing Accuracy: 0.9637\n",
      "\n"
     ]
    },
    {
     "name": "stdout",
     "output_type": "stream",
     "text": [
      "Epoch 160, Loss 0.0404\n",
      "Training Accuracy: 0.9574, Testing Accuracy: 0.9642\n",
      "\n"
     ]
    },
    {
     "name": "stdout",
     "output_type": "stream",
     "text": [
      "Epoch 170, Loss 0.0398\n",
      "Training Accuracy: 0.9578, Testing Accuracy: 0.9647\n",
      "\n"
     ]
    },
    {
     "name": "stdout",
     "output_type": "stream",
     "text": [
      "Epoch 180, Loss 0.0392\n",
      "Training Accuracy: 0.9581, Testing Accuracy: 0.9652\n",
      "\n"
     ]
    },
    {
     "name": "stdout",
     "output_type": "stream",
     "text": [
      "Epoch 190, Loss 0.0387\n",
      "Training Accuracy: 0.9587, Testing Accuracy: 0.9657\n",
      "\n"
     ]
    },
    {
     "name": "stdout",
     "output_type": "stream",
     "text": [
      "Epoch 200, Loss 0.0383\n",
      "Training Accuracy: 0.9587, Testing Accuracy: 0.9657\n",
      "\n"
     ]
    },
    {
     "name": "stdout",
     "output_type": "stream",
     "text": [
      "Epoch 210, Loss 0.0378\n",
      "Training Accuracy: 0.9592, Testing Accuracy: 0.9657\n",
      "\n"
     ]
    },
    {
     "name": "stdout",
     "output_type": "stream",
     "text": [
      "Epoch 220, Loss 0.0374\n",
      "Training Accuracy: 0.9592, Testing Accuracy: 0.9657\n",
      "\n"
     ]
    },
    {
     "name": "stdout",
     "output_type": "stream",
     "text": [
      "Epoch 230, Loss 0.037\n",
      "Training Accuracy: 0.9596, Testing Accuracy: 0.9657\n",
      "\n"
     ]
    },
    {
     "name": "stdout",
     "output_type": "stream",
     "text": [
      "Epoch 240, Loss 0.0367\n",
      "Training Accuracy: 0.9599, Testing Accuracy: 0.9662\n",
      "\n"
     ]
    },
    {
     "data": {
      "text/plain": [
       "0.05564342621590623"
      ]
     },
     "execution_count": 23,
     "metadata": {},
     "output_type": "execute_result"
    }
   ],
   "source": [
    "lr_learner.train_loop(dl)"
   ]
  },
  {
   "cell_type": "code",
   "execution_count": 24,
   "id": "ca410940",
   "metadata": {
    "execution": {
     "iopub.execute_input": "2022-10-28T10:11:54.308134Z",
     "iopub.status.busy": "2022-10-28T10:11:54.307655Z",
     "iopub.status.idle": "2022-10-28T10:11:54.473923Z",
     "shell.execute_reply": "2022-10-28T10:11:54.473246Z"
    },
    "papermill": {
     "duration": 0.211188,
     "end_time": "2022-10-28T10:11:54.474023",
     "exception": false,
     "start_time": "2022-10-28T10:11:54.262835",
     "status": "completed"
    },
    "tags": []
   },
   "outputs": [
    {
     "data": {
      "text/plain": [
       "<matplotlib.legend.Legend at 0x7efff7572470>"
      ]
     },
     "execution_count": 24,
     "metadata": {},
     "output_type": "execute_result"
    },
    {
     "data": {
      "image/png": "[encoded data removed]",
      "text/plain": [
       "<Figure size 1080x720 with 1 Axes>"
      ]
     },
     "metadata": {
      "needs_background": "light"
     },
     "output_type": "display_data"
    }
   ],
   "source": [
    "#comparing the results of NN and LR\n",
    "plt.figure(figsize=(15,10))\n",
    "\n",
    "# Neural Network plots\n",
    "plt.plot(acc_nn.accuracies, 'r-', label = \"Training Accuracies - NN\")\n",
    "plt.plot(acc_nn.test_accuracies, 'g-', label = \"Testing Accuracies - NN\")\n",
    "\n",
    "# Logistic Regression plots\n",
    "plt.plot(acc_lr.accuracies, 'k-', label = \"Training Accuracies - LR\")\n",
    "plt.plot(acc_lr.test_accuracies, 'b-', label = \"Testing Accuracies - LR\")\n",
    "plt.legend()"
   ]
  },
  {
   "cell_type": "markdown",
   "id": "80dfb35c",
   "metadata": {
    "papermill": {
     "duration": 0.036263,
     "end_time": "2022-10-28T10:11:54.547211",
     "exception": false,
     "start_time": "2022-10-28T10:11:54.510948",
     "status": "completed"
    },
    "tags": []
   },
   "source": [
    "#### Plotting the outputs of this layer of the NN.\n"
   ]
  },
  {
   "cell_type": "code",
   "execution_count": 25,
   "id": "45eb2ff5",
   "metadata": {
    "execution": {
     "iopub.execute_input": "2022-10-28T10:11:54.624301Z",
     "iopub.status.busy": "2022-10-28T10:11:54.623817Z",
     "iopub.status.idle": "2022-10-28T10:11:54.640794Z",
     "shell.execute_reply": "2022-10-28T10:11:54.641164Z"
    },
    "papermill": {
     "duration": 0.05722,
     "end_time": "2022-10-28T10:11:54.641280",
     "exception": false,
     "start_time": "2022-10-28T10:11:54.584060",
     "status": "completed"
    },
    "tags": []
   },
   "outputs": [],
   "source": [
    "new_model = Model(layers[:-2])\n",
    "testing_plot = new_model(testing_data_x)"
   ]
  },
  {
   "cell_type": "code",
   "execution_count": 26,
   "id": "4c0a5485",
   "metadata": {
    "execution": {
     "iopub.execute_input": "2022-10-28T10:11:54.718748Z",
     "iopub.status.busy": "2022-10-28T10:11:54.717529Z",
     "iopub.status.idle": "2022-10-28T10:11:54.880716Z",
     "shell.execute_reply": "2022-10-28T10:11:54.881100Z"
    },
    "papermill": {
     "duration": 0.202883,
     "end_time": "2022-10-28T10:11:54.881215",
     "exception": false,
     "start_time": "2022-10-28T10:11:54.678332",
     "status": "completed"
    },
    "tags": []
   },
   "outputs": [
    {
     "data": {
      "text/plain": [
       "Text(0.5, 1.0, 'Outputs')"
      ]
     },
     "execution_count": 26,
     "metadata": {},
     "output_type": "execute_result"
    },
    {
     "data": {
      "image/png": "[encoded data removed]",
      "text/plain": [
       "<Figure size 576x504 with 1 Axes>"
      ]
     },
     "metadata": {
      "needs_background": "light"
     },
     "output_type": "display_data"
    }
   ],
   "source": [
    "# Plotting the scatter plot of points and color coding by class\n",
    "plt.figure(figsize=(8,7))\n",
    "plt.scatter(testing_plot[:,0], testing_plot[:,1], alpha = 0.1, c = y_test.ravel());\n",
    "plt.title('Outputs')"
   ]
  },
  {
   "cell_type": "markdown",
   "id": "a74fcf8f",
   "metadata": {
    "papermill": {
     "duration": 0.038199,
     "end_time": "2022-10-28T10:11:54.958748",
     "exception": false,
     "start_time": "2022-10-28T10:11:54.920549",
     "status": "completed"
    },
    "tags": []
   },
   "source": [
    "Probability contours"
   ]
  },
  {
   "cell_type": "code",
   "execution_count": 27,
   "id": "d0afc8e3",
   "metadata": {
    "execution": {
     "iopub.execute_input": "2022-10-28T10:11:55.060313Z",
     "iopub.status.busy": "2022-10-28T10:11:55.059828Z",
     "iopub.status.idle": "2022-10-28T10:11:55.066561Z",
     "shell.execute_reply": "2022-10-28T10:11:55.066170Z"
    },
    "papermill": {
     "duration": 0.069406,
     "end_time": "2022-10-28T10:11:55.066650",
     "exception": false,
     "start_time": "2022-10-28T10:11:54.997244",
     "status": "completed"
    },
    "tags": []
   },
   "outputs": [],
   "source": [
    "model_prob = Model(layers[-2:]) "
   ]
  },
  {
   "cell_type": "code",
   "execution_count": 28,
   "id": "9b96e238",
   "metadata": {
    "execution": {
     "iopub.execute_input": "2022-10-28T10:11:55.147904Z",
     "iopub.status.busy": "2022-10-28T10:11:55.147433Z",
     "iopub.status.idle": "2022-10-28T10:11:55.158805Z",
     "shell.execute_reply": "2022-10-28T10:11:55.159177Z"
    },
    "papermill": {
     "duration": 0.0534,
     "end_time": "2022-10-28T10:11:55.159275",
     "exception": false,
     "start_time": "2022-10-28T10:11:55.105875",
     "status": "completed"
    },
    "tags": []
   },
   "outputs": [],
   "source": [
    "#creating the x and y ranges according to the above generated plot.\n",
    "x_range = np.linspace(-4, 1, 100) \n",
    "y_range = np.linspace(-6, 6, 100) \n",
    "x_grid, y_grid = np.meshgrid(x_range, y_range) # x_grid and y_grig are of size 100 X 100\n",
    "\n",
    "# converting x_grid and y_grid to continuous arrays\n",
    "x_gridflat = np.ravel(x_grid)\n",
    "y_gridflat = np.ravel(y_grid)\n",
    "\n",
    "# The last layer of the current model takes two columns as input. Hence transpose of np.vstack() is required.\n",
    "X = np.vstack((x_gridflat, y_gridflat)).T\n",
    "\n",
    "prob_contour = model_prob(X).reshape(100,100) "
   ]
  },
  {
   "cell_type": "code",
   "execution_count": 29,
   "id": "da72499a",
   "metadata": {
    "execution": {
     "iopub.execute_input": "2022-10-28T10:11:55.248374Z",
     "iopub.status.busy": "2022-10-28T10:11:55.247907Z",
     "iopub.status.idle": "2022-10-28T10:11:55.431464Z",
     "shell.execute_reply": "2022-10-28T10:11:55.430843Z"
    },
    "papermill": {
     "duration": 0.23335,
     "end_time": "2022-10-28T10:11:55.431560",
     "exception": false,
     "start_time": "2022-10-28T10:11:55.198210",
     "status": "completed"
    },
    "tags": []
   },
   "outputs": [
    {
     "data": {
      "image/png": "[encoded data removed]",
      "text/plain": [
       "<Figure size 720x648 with 1 Axes>"
      ]
     },
     "metadata": {
      "needs_background": "light"
     },
     "output_type": "display_data"
    }
   ],
   "source": [
    "plt.figure(figsize=(10,9))\n",
    "plt.scatter(testing_plot[:,0], testing_plot[:,1], alpha = 0.1, c = y_test.ravel())\n",
    "contours = plt.contour(x_grid,y_grid,prob_contour)\n",
    "plt.title('Probability Contours')\n",
    "plt.clabel(contours, inline = True );"
   ]
  },
  {
   "cell_type": "code",
   "execution_count": null,
   "id": "e81b4ac7",
   "metadata": {
    "papermill": {
     "duration": 0.040139,
     "end_time": "2022-10-28T10:11:55.512582",
     "exception": false,
     "start_time": "2022-10-28T10:11:55.472443",
     "status": "completed"
    },
    "tags": []
   },
   "outputs": [],
   "source": []
  }
 ],
 "metadata": {
  "kernelspec": {
   "display_name": "Python 3",
   "language": "python",
   "name": "python3"
  },
  "language_info": {
   "codemirror_mode": {
    "name": "ipython",
    "version": 3
   },
   "file_extension": ".py",
   "mimetype": "text/x-python",
   "name": "python",
   "nbconvert_exporter": "python",
   "pygments_lexer": "ipython3",
   "version": "3.6.15"
  },
  "papermill": {
   "default_parameters": {},
   "duration": 88.88974,
   "end_time": "2022-10-28T10:11:55.868229",
   "environment_variables": {},
   "exception": null,
   "input_path": "2020-08-11-part2.ipynb",
   "output_path": "2020-08-11-part2.ipynb",
   "parameters": {},
   "start_time": "2022-10-28T10:10:26.978489",
   "version": "2.3.3"
  }
 },
 "nbformat": 4,
 "nbformat_minor": 5
}