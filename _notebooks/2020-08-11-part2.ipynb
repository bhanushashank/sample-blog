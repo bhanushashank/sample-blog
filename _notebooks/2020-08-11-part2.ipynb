{
 "cells": [
  {
   "cell_type": "markdown",
   "id": "98380cd3",
   "metadata": {
    "papermill": {
     "duration": 0.02657,
     "end_time": "2022-07-10T20:10:08.871492",
     "exception": false,
     "start_time": "2022-07-10T20:10:08.844922",
     "status": "completed"
    },
    "tags": []
   },
   "source": [
    "# Distinguish Your Own Digits (DYOD)"
   ]
  },
  {
   "cell_type": "markdown",
   "id": "ef31240d",
   "metadata": {
    "papermill": {
     "duration": 0.021183,
     "end_time": "2022-07-10T20:10:08.914322",
     "exception": false,
     "start_time": "2022-07-10T20:10:08.893139",
     "status": "completed"
    },
    "tags": []
   },
   "source": [
    "You are going to write a classifier that distinguishes between the number 3 and number 8."
   ]
  },
  {
   "cell_type": "code",
   "execution_count": 1,
   "id": "b15c8646",
   "metadata": {
    "execution": {
     "iopub.execute_input": "2022-07-10T20:10:08.966343Z",
     "iopub.status.busy": "2022-07-10T20:10:08.965741Z",
     "iopub.status.idle": "2022-07-10T20:10:08.975794Z",
     "shell.execute_reply": "2022-07-10T20:10:08.975339Z"
    },
    "papermill": {
     "duration": 0.040634,
     "end_time": "2022-07-10T20:10:08.975915",
     "exception": false,
     "start_time": "2022-07-10T20:10:08.935281",
     "status": "completed"
    },
    "tags": []
   },
   "outputs": [],
   "source": [
    "%load_ext autoreload\n",
    "%autoreload 2"
   ]
  },
  {
   "cell_type": "code",
   "execution_count": 2,
   "id": "22ef38dc",
   "metadata": {
    "execution": {
     "iopub.execute_input": "2022-07-10T20:10:09.033594Z",
     "iopub.status.busy": "2022-07-10T20:10:09.032910Z",
     "iopub.status.idle": "2022-07-10T20:10:09.524626Z",
     "shell.execute_reply": "2022-07-10T20:10:09.524030Z"
    },
    "papermill": {
     "duration": 0.527669,
     "end_time": "2022-07-10T20:10:09.524763",
     "exception": false,
     "start_time": "2022-07-10T20:10:08.997094",
     "status": "completed"
    },
    "tags": []
   },
   "outputs": [],
   "source": [
    "%matplotlib inline\n",
    "import numpy as np\n",
    "import matplotlib.pyplot as plt\n",
    "import pandas as pd"
   ]
  },
  {
   "cell_type": "markdown",
   "id": "ba036198",
   "metadata": {
    "papermill": {
     "duration": 0.023785,
     "end_time": "2022-07-10T20:10:09.572844",
     "exception": false,
     "start_time": "2022-07-10T20:10:09.549059",
     "status": "completed"
    },
    "tags": []
   },
   "source": [
    "From the command line run `pip install mnist`. This is a library that will help you bring down the mnist dataset. If you run this from a notebook, you need to put  `!pip install mnist` in a cell by itself."
   ]
  },
  {
   "cell_type": "code",
   "execution_count": 3,
   "id": "bb6ad8a1",
   "metadata": {
    "execution": {
     "iopub.execute_input": "2022-07-10T20:10:09.624754Z",
     "iopub.status.busy": "2022-07-10T20:10:09.624153Z",
     "iopub.status.idle": "2022-07-10T20:10:12.014789Z",
     "shell.execute_reply": "2022-07-10T20:10:12.013259Z"
    },
    "papermill": {
     "duration": 2.418191,
     "end_time": "2022-07-10T20:10:12.014941",
     "exception": false,
     "start_time": "2022-07-10T20:10:09.596750",
     "status": "completed"
    },
    "tags": []
   },
   "outputs": [
    {
     "name": "stdout",
     "output_type": "stream",
     "text": [
      "Collecting mnist\r\n"
     ]
    },
    {
     "name": "stdout",
     "output_type": "stream",
     "text": [
      "  Downloading mnist-0.2.2-py2.py3-none-any.whl (3.5 kB)\r\n",
      "Requirement already satisfied: numpy in /opt/hostedtoolcache/Python/3.6.15/x64/lib/python3.6/site-packages (from mnist) (1.19.5)\r\n"
     ]
    },
    {
     "name": "stdout",
     "output_type": "stream",
     "text": [
      "Installing collected packages: mnist\r\n"
     ]
    },
    {
     "name": "stdout",
     "output_type": "stream",
     "text": [
      "Successfully installed mnist-0.2.2\r\n"
     ]
    }
   ],
   "source": [
    "!pip install mnist"
   ]
  },
  {
   "cell_type": "markdown",
   "id": "69df9c9a",
   "metadata": {
    "papermill": {
     "duration": 0.021973,
     "end_time": "2022-07-10T20:10:12.061156",
     "exception": false,
     "start_time": "2022-07-10T20:10:12.039183",
     "status": "completed"
    },
    "tags": []
   },
   "source": [
    "## Preparing the Data"
   ]
  },
  {
   "cell_type": "code",
   "execution_count": 4,
   "id": "7f69d806",
   "metadata": {
    "execution": {
     "iopub.execute_input": "2022-07-10T20:10:12.121038Z",
     "iopub.status.busy": "2022-07-10T20:10:12.112141Z",
     "iopub.status.idle": "2022-07-10T20:10:12.124425Z",
     "shell.execute_reply": "2022-07-10T20:10:12.123994Z"
    },
    "papermill": {
     "duration": 0.04144,
     "end_time": "2022-07-10T20:10:12.124532",
     "exception": false,
     "start_time": "2022-07-10T20:10:12.083092",
     "status": "completed"
    },
    "tags": []
   },
   "outputs": [],
   "source": [
    "import mnist"
   ]
  },
  {
   "cell_type": "code",
   "execution_count": 5,
   "id": "a411e44f",
   "metadata": {
    "execution": {
     "iopub.execute_input": "2022-07-10T20:10:12.187659Z",
     "iopub.status.busy": "2022-07-10T20:10:12.177615Z",
     "iopub.status.idle": "2022-07-10T20:10:12.675836Z",
     "shell.execute_reply": "2022-07-10T20:10:12.675220Z"
    },
    "papermill": {
     "duration": 0.529546,
     "end_time": "2022-07-10T20:10:12.675974",
     "exception": false,
     "start_time": "2022-07-10T20:10:12.146428",
     "status": "completed"
    },
    "tags": []
   },
   "outputs": [],
   "source": [
    "train_images = mnist.train_images()\n",
    "train_labels = mnist.train_labels()"
   ]
  },
  {
   "cell_type": "code",
   "execution_count": 6,
   "id": "dceab3a5",
   "metadata": {
    "execution": {
     "iopub.execute_input": "2022-07-10T20:10:12.728373Z",
     "iopub.status.busy": "2022-07-10T20:10:12.727844Z",
     "iopub.status.idle": "2022-07-10T20:10:12.743386Z",
     "shell.execute_reply": "2022-07-10T20:10:12.742954Z"
    },
    "papermill": {
     "duration": 0.043909,
     "end_time": "2022-07-10T20:10:12.743498",
     "exception": false,
     "start_time": "2022-07-10T20:10:12.699589",
     "status": "completed"
    },
    "tags": []
   },
   "outputs": [
    {
     "data": {
      "text/plain": [
       "((60000, 28, 28), (60000,))"
      ]
     },
     "execution_count": 6,
     "metadata": {},
     "output_type": "execute_result"
    }
   ],
   "source": [
    "train_images.shape, train_labels.shape"
   ]
  },
  {
   "cell_type": "code",
   "execution_count": 7,
   "id": "f50dc2bb",
   "metadata": {
    "execution": {
     "iopub.execute_input": "2022-07-10T20:10:12.791756Z",
     "iopub.status.busy": "2022-07-10T20:10:12.791237Z",
     "iopub.status.idle": "2022-07-10T20:10:12.947528Z",
     "shell.execute_reply": "2022-07-10T20:10:12.947957Z"
    },
    "papermill": {
     "duration": 0.182464,
     "end_time": "2022-07-10T20:10:12.948143",
     "exception": false,
     "start_time": "2022-07-10T20:10:12.765679",
     "status": "completed"
    },
    "tags": []
   },
   "outputs": [],
   "source": [
    "test_images = mnist.test_images()\n",
    "test_labels = mnist.test_labels()"
   ]
  },
  {
   "cell_type": "code",
   "execution_count": 8,
   "id": "fc38cf1b",
   "metadata": {
    "execution": {
     "iopub.execute_input": "2022-07-10T20:10:12.996856Z",
     "iopub.status.busy": "2022-07-10T20:10:12.996324Z",
     "iopub.status.idle": "2022-07-10T20:10:13.008887Z",
     "shell.execute_reply": "2022-07-10T20:10:13.009316Z"
    },
    "papermill": {
     "duration": 0.03883,
     "end_time": "2022-07-10T20:10:13.009445",
     "exception": false,
     "start_time": "2022-07-10T20:10:12.970615",
     "status": "completed"
    },
    "tags": []
   },
   "outputs": [
    {
     "data": {
      "text/plain": [
       "((10000, 28, 28), (10000,))"
      ]
     },
     "execution_count": 8,
     "metadata": {},
     "output_type": "execute_result"
    }
   ],
   "source": [
    "test_images.shape, test_labels.shape"
   ]
  },
  {
   "cell_type": "code",
   "execution_count": 9,
   "id": "f9ed8fe0",
   "metadata": {
    "execution": {
     "iopub.execute_input": "2022-07-10T20:10:13.059822Z",
     "iopub.status.busy": "2022-07-10T20:10:13.059237Z",
     "iopub.status.idle": "2022-07-10T20:10:13.186622Z",
     "shell.execute_reply": "2022-07-10T20:10:13.186140Z"
    },
    "papermill": {
     "duration": 0.155012,
     "end_time": "2022-07-10T20:10:13.186735",
     "exception": false,
     "start_time": "2022-07-10T20:10:13.031723",
     "status": "completed"
    },
    "tags": []
   },
   "outputs": [
    {
     "name": "stdout",
     "output_type": "stream",
     "text": [
      "2\n"
     ]
    },
    {
     "data": {
      "text/plain": [
       "<matplotlib.image.AxesImage at 0x7fc189e454a8>"
      ]
     },
     "execution_count": 9,
     "metadata": {},
     "output_type": "execute_result"
    },
    {
     "data": {
      "image/png": "[encoded data removed]",
      "text/plain": [
       "<Figure size 432x288 with 1 Axes>"
      ]
     },
     "metadata": {
      "needs_background": "light"
     },
     "output_type": "display_data"
    }
   ],
   "source": [
    "image_index = 7776 # You may select anything up to 60,000\n",
    "print(train_labels[image_index]) \n",
    "plt.imshow(train_images[image_index], cmap='Greys')"
   ]
  },
  {
   "cell_type": "markdown",
   "id": "a8d2388d",
   "metadata": {
    "papermill": {
     "duration": 0.023741,
     "end_time": "2022-07-10T20:10:13.234023",
     "exception": false,
     "start_time": "2022-07-10T20:10:13.210282",
     "status": "completed"
    },
    "tags": []
   },
   "source": [
    "## Filter data to get 3 and 8 out"
   ]
  },
  {
   "cell_type": "code",
   "execution_count": 10,
   "id": "776f7fc7",
   "metadata": {
    "execution": {
     "iopub.execute_input": "2022-07-10T20:10:13.284869Z",
     "iopub.status.busy": "2022-07-10T20:10:13.283551Z",
     "iopub.status.idle": "2022-07-10T20:10:13.304550Z",
     "shell.execute_reply": "2022-07-10T20:10:13.304085Z"
    },
    "papermill": {
     "duration": 0.047196,
     "end_time": "2022-07-10T20:10:13.304663",
     "exception": false,
     "start_time": "2022-07-10T20:10:13.257467",
     "status": "completed"
    },
    "tags": []
   },
   "outputs": [],
   "source": [
    "train_filter = np.where((train_labels == 3 ) | (train_labels == 8))\n",
    "test_filter = np.where((test_labels == 3) | (test_labels == 8))\n",
    "X_train, y_train = train_images[train_filter], train_labels[train_filter]\n",
    "X_test, y_test = test_images[test_filter], test_labels[test_filter]"
   ]
  },
  {
   "cell_type": "markdown",
   "id": "948f0b7e",
   "metadata": {
    "papermill": {
     "duration": 0.023339,
     "end_time": "2022-07-10T20:10:13.351552",
     "exception": false,
     "start_time": "2022-07-10T20:10:13.328213",
     "status": "completed"
    },
    "tags": []
   },
   "source": [
    "We normalize the pizel values in the 0 to 1 range"
   ]
  },
  {
   "cell_type": "code",
   "execution_count": 11,
   "id": "ee4c2166",
   "metadata": {
    "execution": {
     "iopub.execute_input": "2022-07-10T20:10:13.406776Z",
     "iopub.status.busy": "2022-07-10T20:10:13.406126Z",
     "iopub.status.idle": "2022-07-10T20:10:13.451453Z",
     "shell.execute_reply": "2022-07-10T20:10:13.450737Z"
    },
    "papermill": {
     "duration": 0.076726,
     "end_time": "2022-07-10T20:10:13.451599",
     "exception": false,
     "start_time": "2022-07-10T20:10:13.374873",
     "status": "completed"
    },
    "tags": []
   },
   "outputs": [],
   "source": [
    "X_train = X_train/255.\n",
    "X_test = X_test/255."
   ]
  },
  {
   "cell_type": "markdown",
   "id": "ddcf4fab",
   "metadata": {
    "papermill": {
     "duration": 0.023237,
     "end_time": "2022-07-10T20:10:13.499557",
     "exception": false,
     "start_time": "2022-07-10T20:10:13.476320",
     "status": "completed"
    },
    "tags": []
   },
   "source": [
    "And setup the labels as 1 (when the digit is 3) and 0 (when the digit is 8)"
   ]
  },
  {
   "cell_type": "code",
   "execution_count": 12,
   "id": "7dc908f2",
   "metadata": {
    "execution": {
     "iopub.execute_input": "2022-07-10T20:10:13.554306Z",
     "iopub.status.busy": "2022-07-10T20:10:13.553742Z",
     "iopub.status.idle": "2022-07-10T20:10:13.563840Z",
     "shell.execute_reply": "2022-07-10T20:10:13.564241Z"
    },
    "papermill": {
     "duration": 0.041531,
     "end_time": "2022-07-10T20:10:13.564375",
     "exception": false,
     "start_time": "2022-07-10T20:10:13.522844",
     "status": "completed"
    },
    "tags": []
   },
   "outputs": [],
   "source": [
    "y_train = 1*(y_train==3)\n",
    "y_test = 1*(y_test==3)"
   ]
  },
  {
   "cell_type": "code",
   "execution_count": 13,
   "id": "01e4e969",
   "metadata": {
    "execution": {
     "iopub.execute_input": "2022-07-10T20:10:13.615873Z",
     "iopub.status.busy": "2022-07-10T20:10:13.615314Z",
     "iopub.status.idle": "2022-07-10T20:10:13.627980Z",
     "shell.execute_reply": "2022-07-10T20:10:13.627552Z"
    },
    "papermill": {
     "duration": 0.040008,
     "end_time": "2022-07-10T20:10:13.628087",
     "exception": false,
     "start_time": "2022-07-10T20:10:13.588079",
     "status": "completed"
    },
    "tags": []
   },
   "outputs": [
    {
     "data": {
      "text/plain": [
       "((11982, 28, 28), (1984, 28, 28))"
      ]
     },
     "execution_count": 13,
     "metadata": {},
     "output_type": "execute_result"
    }
   ],
   "source": [
    "X_train.shape, X_test.shape"
   ]
  },
  {
   "cell_type": "markdown",
   "id": "5ccf3f85",
   "metadata": {
    "papermill": {
     "duration": 0.023462,
     "end_time": "2022-07-10T20:10:13.675052",
     "exception": false,
     "start_time": "2022-07-10T20:10:13.651590",
     "status": "completed"
    },
    "tags": []
   },
   "source": [
    "We reshape the data to flatten the image pixels into a set of features or co-variates:"
   ]
  },
  {
   "cell_type": "code",
   "execution_count": 14,
   "id": "5286a4a3",
   "metadata": {
    "execution": {
     "iopub.execute_input": "2022-07-10T20:10:13.726533Z",
     "iopub.status.busy": "2022-07-10T20:10:13.725975Z",
     "iopub.status.idle": "2022-07-10T20:10:13.739607Z",
     "shell.execute_reply": "2022-07-10T20:10:13.739170Z"
    },
    "papermill": {
     "duration": 0.040981,
     "end_time": "2022-07-10T20:10:13.739714",
     "exception": false,
     "start_time": "2022-07-10T20:10:13.698733",
     "status": "completed"
    },
    "tags": []
   },
   "outputs": [
    {
     "data": {
      "text/plain": [
       "((11982, 784), (1984, 784))"
      ]
     },
     "execution_count": 14,
     "metadata": {},
     "output_type": "execute_result"
    }
   ],
   "source": [
    "X_train = X_train.reshape(X_train.shape[0], -1)\n",
    "X_test = X_test.reshape(X_test.shape[0], -1)\n",
    "X_train.shape, X_test.shape"
   ]
  },
  {
   "cell_type": "code",
   "execution_count": 15,
   "id": "73c5f88a",
   "metadata": {
    "execution": {
     "iopub.execute_input": "2022-07-10T20:10:13.796304Z",
     "iopub.status.busy": "2022-07-10T20:10:13.795762Z",
     "iopub.status.idle": "2022-07-10T20:10:13.811222Z",
     "shell.execute_reply": "2022-07-10T20:10:13.811623Z"
    },
    "papermill": {
     "duration": 0.047938,
     "end_time": "2022-07-10T20:10:13.811760",
     "exception": false,
     "start_time": "2022-07-10T20:10:13.763822",
     "status": "completed"
    },
    "tags": []
   },
   "outputs": [],
   "source": [
    "#Impoting functions from 'Kudzu'\n",
    "from kudzu.model import Model\n",
    "from kudzu.train import Learner\n",
    "from kudzu.optim import GD\n",
    "from kudzu.data import Data, Sampler,Dataloader\n",
    "\n",
    "from kudzu.callbacks import AccCallback\n",
    "from kudzu.callbacks import ClfCallback\n",
    "\n",
    "from kudzu.loss import MSE\n",
    "\n",
    "from kudzu.layer import Sigmoid,Relu\n",
    "from kudzu.layer import Affine"
   ]
  },
  {
   "cell_type": "markdown",
   "id": "bc01172a",
   "metadata": {
    "papermill": {
     "duration": 0.024244,
     "end_time": "2022-07-10T20:10:13.860228",
     "exception": false,
     "start_time": "2022-07-10T20:10:13.835984",
     "status": "completed"
    },
    "tags": []
   },
   "source": [
    "### Let us create a `Config` class, to store important parameters. \n",
    "This class essentially plays the role of a dictionary."
   ]
  },
  {
   "cell_type": "code",
   "execution_count": 16,
   "id": "978281aa",
   "metadata": {
    "execution": {
     "iopub.execute_input": "2022-07-10T20:10:13.915848Z",
     "iopub.status.busy": "2022-07-10T20:10:13.914726Z",
     "iopub.status.idle": "2022-07-10T20:10:13.925937Z",
     "shell.execute_reply": "2022-07-10T20:10:13.926349Z"
    },
    "papermill": {
     "duration": 0.04217,
     "end_time": "2022-07-10T20:10:13.926491",
     "exception": false,
     "start_time": "2022-07-10T20:10:13.884321",
     "status": "completed"
    },
    "tags": []
   },
   "outputs": [],
   "source": [
    "class Config:\n",
    "    pass\n",
    "config = Config()\n",
    "config.lr = 0.001\n",
    "config.num_epochs = 250\n",
    "config.bs = 50"
   ]
  },
  {
   "cell_type": "markdown",
   "id": "1385fa59",
   "metadata": {
    "papermill": {
     "duration": 0.024204,
     "end_time": "2022-07-10T20:10:13.975295",
     "exception": false,
     "start_time": "2022-07-10T20:10:13.951091",
     "status": "completed"
    },
    "tags": []
   },
   "source": [
    "### Running Models with the Training data\n",
    "Details about the network layers:\n",
    "- A first affine layer has 784 inputs and does 100 affine transforms. These are followed by a Relu\n",
    "- A second affine layer has 100 inputs from the 100 activations of the past layer, and does 100 affine transforms. These are followed by a Relu\n",
    "- A third affine layer has 100 activations and does 2 affine transformations to create an embedding for visualization. There is no non-linearity here.\n",
    "- A final \"logistic regression\" which has an affine transform from 2 inputs to 1 output, which is squeezed through a sigmoid.\n"
   ]
  },
  {
   "cell_type": "code",
   "execution_count": 17,
   "id": "2b9c66db",
   "metadata": {
    "execution": {
     "iopub.execute_input": "2022-07-10T20:10:14.027418Z",
     "iopub.status.busy": "2022-07-10T20:10:14.026751Z",
     "iopub.status.idle": "2022-07-10T20:10:14.039994Z",
     "shell.execute_reply": "2022-07-10T20:10:14.039565Z"
    },
    "papermill": {
     "duration": 0.041038,
     "end_time": "2022-07-10T20:10:14.040099",
     "exception": false,
     "start_time": "2022-07-10T20:10:13.999061",
     "status": "completed"
    },
    "tags": []
   },
   "outputs": [],
   "source": [
    "data = Data(X_train, y_train.reshape(-1,1))\n",
    "sampler = Sampler(data, config.bs, shuffle=True)\n",
    "\n",
    "dl = Dataloader(data, sampler)\n",
    "\n",
    "opt = GD(config.lr)\n",
    "loss = MSE()"
   ]
  },
  {
   "cell_type": "code",
   "execution_count": 18,
   "id": "b275e4c2",
   "metadata": {
    "execution": {
     "iopub.execute_input": "2022-07-10T20:10:14.094560Z",
     "iopub.status.busy": "2022-07-10T20:10:14.093961Z",
     "iopub.status.idle": "2022-07-10T20:10:14.110168Z",
     "shell.execute_reply": "2022-07-10T20:10:14.109724Z"
    },
    "papermill": {
     "duration": 0.045405,
     "end_time": "2022-07-10T20:10:14.110295",
     "exception": false,
     "start_time": "2022-07-10T20:10:14.064890",
     "status": "completed"
    },
    "tags": []
   },
   "outputs": [],
   "source": [
    "training_data_x = X_train\n",
    "testing_data_x = X_test\n",
    "training_data_y = y_train.reshape(-1,1)\n",
    "testing_data_y = y_test.reshape(-1,1)"
   ]
  },
  {
   "cell_type": "code",
   "execution_count": 19,
   "id": "76951160",
   "metadata": {
    "execution": {
     "iopub.execute_input": "2022-07-10T20:10:14.163811Z",
     "iopub.status.busy": "2022-07-10T20:10:14.163245Z",
     "iopub.status.idle": "2022-07-10T20:10:14.178608Z",
     "shell.execute_reply": "2022-07-10T20:10:14.179104Z"
    },
    "papermill": {
     "duration": 0.044625,
     "end_time": "2022-07-10T20:10:14.179242",
     "exception": false,
     "start_time": "2022-07-10T20:10:14.134617",
     "status": "completed"
    },
    "tags": []
   },
   "outputs": [
    {
     "name": "stdout",
     "output_type": "stream",
     "text": [
      "xavier\n",
      "xavier\n",
      "xavier\n",
      "xavier\n",
      "xavier\n"
     ]
    }
   ],
   "source": [
    "layers = [Affine(\"first\", 784, 100), Relu(\"first\"), Affine(\"second\", 100, 100), Relu(\"second\"), Affine(\"third\", 100, 2), Affine(\"last\", 2, 1), Sigmoid(\"last\")]\n",
    "model_nn = Model(layers)\n",
    "model_lr = Model([Affine(\"logits\", 784, 1), Sigmoid(\"sigmoid\")])"
   ]
  },
  {
   "cell_type": "code",
   "execution_count": 20,
   "id": "6eede77a",
   "metadata": {
    "execution": {
     "iopub.execute_input": "2022-07-10T20:10:14.235706Z",
     "iopub.status.busy": "2022-07-10T20:10:14.235127Z",
     "iopub.status.idle": "2022-07-10T20:10:14.246621Z",
     "shell.execute_reply": "2022-07-10T20:10:14.246149Z"
    },
    "papermill": {
     "duration": 0.04266,
     "end_time": "2022-07-10T20:10:14.246731",
     "exception": false,
     "start_time": "2022-07-10T20:10:14.204071",
     "status": "completed"
    },
    "tags": []
   },
   "outputs": [],
   "source": [
    "nn_learner = Learner(loss, model_nn, opt, config.num_epochs)\n",
    "acc_nn = ClfCallback(nn_learner, config.bs, training_data_x , testing_data_x, training_data_y, testing_data_y)\n",
    "nn_learner.set_callbacks([acc_nn])"
   ]
  },
  {
   "cell_type": "code",
   "execution_count": 21,
   "id": "877b6cc7",
   "metadata": {
    "execution": {
     "iopub.execute_input": "2022-07-10T20:10:14.300005Z",
     "iopub.status.busy": "2022-07-10T20:10:14.299470Z",
     "iopub.status.idle": "2022-07-10T20:10:14.310497Z",
     "shell.execute_reply": "2022-07-10T20:10:14.311064Z"
    },
    "papermill": {
     "duration": 0.0401,
     "end_time": "2022-07-10T20:10:14.311200",
     "exception": false,
     "start_time": "2022-07-10T20:10:14.271100",
     "status": "completed"
    },
    "tags": []
   },
   "outputs": [],
   "source": [
    "lr_learner = Learner(loss, model_lr, opt, config.num_epochs)\n",
    "acc_lr = ClfCallback(lr_learner, config.bs, training_data_x , testing_data_x, training_data_y, testing_data_y)\n",
    "lr_learner.set_callbacks([acc_lr])"
   ]
  },
  {
   "cell_type": "code",
   "execution_count": 22,
   "id": "d9b133c3",
   "metadata": {
    "execution": {
     "iopub.execute_input": "2022-07-10T20:10:14.367607Z",
     "iopub.status.busy": "2022-07-10T20:10:14.367058Z",
     "iopub.status.idle": "2022-07-10T20:11:28.487372Z",
     "shell.execute_reply": "2022-07-10T20:11:28.488134Z"
    },
    "papermill": {
     "duration": 74.152597,
     "end_time": "2022-07-10T20:11:28.488275",
     "exception": false,
     "start_time": "2022-07-10T20:10:14.335678",
     "status": "completed"
    },
    "tags": []
   },
   "outputs": [
    {
     "name": "stdout",
     "output_type": "stream",
     "text": [
      "Epoch 0, Loss 0.218\n",
      "Training Accuracy: 0.8097, Testing Accuracy: 0.8332\n",
      "\n"
     ]
    },
    {
     "name": "stdout",
     "output_type": "stream",
     "text": [
      "Epoch 10, Loss 0.0767\n",
      "Training Accuracy: 0.9254, Testing Accuracy: 0.9385\n",
      "\n"
     ]
    },
    {
     "name": "stdout",
     "output_type": "stream",
     "text": [
      "Epoch 20, Loss 0.0514\n",
      "Training Accuracy: 0.9451, Testing Accuracy: 0.9551\n",
      "\n"
     ]
    },
    {
     "name": "stdout",
     "output_type": "stream",
     "text": [
      "Epoch 30, Loss 0.0414\n",
      "Training Accuracy: 0.9553, Testing Accuracy: 0.9617\n",
      "\n"
     ]
    },
    {
     "name": "stdout",
     "output_type": "stream",
     "text": [
      "Epoch 40, Loss 0.0362\n",
      "Training Accuracy: 0.9596, Testing Accuracy: 0.9688\n",
      "\n"
     ]
    },
    {
     "name": "stdout",
     "output_type": "stream",
     "text": [
      "Epoch 50, Loss 0.0329\n",
      "Training Accuracy: 0.9629, Testing Accuracy: 0.9693\n",
      "\n"
     ]
    },
    {
     "name": "stdout",
     "output_type": "stream",
     "text": [
      "Epoch 60, Loss 0.0305\n",
      "Training Accuracy: 0.9654, Testing Accuracy: 0.9703\n",
      "\n"
     ]
    },
    {
     "name": "stdout",
     "output_type": "stream",
     "text": [
      "Epoch 70, Loss 0.0287\n",
      "Training Accuracy: 0.9670, Testing Accuracy: 0.9713\n",
      "\n"
     ]
    },
    {
     "name": "stdout",
     "output_type": "stream",
     "text": [
      "Epoch 80, Loss 0.0273\n",
      "Training Accuracy: 0.9684, Testing Accuracy: 0.9723\n",
      "\n"
     ]
    },
    {
     "name": "stdout",
     "output_type": "stream",
     "text": [
      "Epoch 90, Loss 0.026\n",
      "Training Accuracy: 0.9697, Testing Accuracy: 0.9723\n",
      "\n"
     ]
    },
    {
     "name": "stdout",
     "output_type": "stream",
     "text": [
      "Epoch 100, Loss 0.025\n",
      "Training Accuracy: 0.9707, Testing Accuracy: 0.9748\n",
      "\n"
     ]
    },
    {
     "name": "stdout",
     "output_type": "stream",
     "text": [
      "Epoch 110, Loss 0.0241\n",
      "Training Accuracy: 0.9714, Testing Accuracy: 0.9748\n",
      "\n"
     ]
    },
    {
     "name": "stdout",
     "output_type": "stream",
     "text": [
      "Epoch 120, Loss 0.0233\n",
      "Training Accuracy: 0.9733, Testing Accuracy: 0.9743\n",
      "\n"
     ]
    },
    {
     "name": "stdout",
     "output_type": "stream",
     "text": [
      "Epoch 130, Loss 0.0225\n",
      "Training Accuracy: 0.9747, Testing Accuracy: 0.9743\n",
      "\n"
     ]
    },
    {
     "name": "stdout",
     "output_type": "stream",
     "text": [
      "Epoch 140, Loss 0.0219\n",
      "Training Accuracy: 0.9757, Testing Accuracy: 0.9748\n",
      "\n"
     ]
    },
    {
     "name": "stdout",
     "output_type": "stream",
     "text": [
      "Epoch 150, Loss 0.0213\n",
      "Training Accuracy: 0.9760, Testing Accuracy: 0.9758\n",
      "\n"
     ]
    },
    {
     "name": "stdout",
     "output_type": "stream",
     "text": [
      "Epoch 160, Loss 0.0207\n",
      "Training Accuracy: 0.9767, Testing Accuracy: 0.9758\n",
      "\n"
     ]
    },
    {
     "name": "stdout",
     "output_type": "stream",
     "text": [
      "Epoch 170, Loss 0.0202\n",
      "Training Accuracy: 0.9773, Testing Accuracy: 0.9758\n",
      "\n"
     ]
    },
    {
     "name": "stdout",
     "output_type": "stream",
     "text": [
      "Epoch 180, Loss 0.0197\n",
      "Training Accuracy: 0.9781, Testing Accuracy: 0.9758\n",
      "\n"
     ]
    },
    {
     "name": "stdout",
     "output_type": "stream",
     "text": [
      "Epoch 190, Loss 0.0192\n",
      "Training Accuracy: 0.9786, Testing Accuracy: 0.9758\n",
      "\n"
     ]
    },
    {
     "name": "stdout",
     "output_type": "stream",
     "text": [
      "Epoch 200, Loss 0.0188\n",
      "Training Accuracy: 0.9790, Testing Accuracy: 0.9758\n",
      "\n"
     ]
    },
    {
     "name": "stdout",
     "output_type": "stream",
     "text": [
      "Epoch 210, Loss 0.0184\n",
      "Training Accuracy: 0.9796, Testing Accuracy: 0.9758\n",
      "\n"
     ]
    },
    {
     "name": "stdout",
     "output_type": "stream",
     "text": [
      "Epoch 220, Loss 0.018\n",
      "Training Accuracy: 0.9800, Testing Accuracy: 0.9758\n",
      "\n"
     ]
    },
    {
     "name": "stdout",
     "output_type": "stream",
     "text": [
      "Epoch 230, Loss 0.0176\n",
      "Training Accuracy: 0.9810, Testing Accuracy: 0.9763\n",
      "\n"
     ]
    },
    {
     "name": "stdout",
     "output_type": "stream",
     "text": [
      "Epoch 240, Loss 0.0172\n",
      "Training Accuracy: 0.9814, Testing Accuracy: 0.9763\n",
      "\n"
     ]
    },
    {
     "data": {
      "text/plain": [
       "0.06708713013897125"
      ]
     },
     "execution_count": 22,
     "metadata": {},
     "output_type": "execute_result"
    }
   ],
   "source": [
    "nn_learner.train_loop(dl)"
   ]
  },
  {
   "cell_type": "code",
   "execution_count": 23,
   "id": "e0163366",
   "metadata": {
    "execution": {
     "iopub.execute_input": "2022-07-10T20:11:28.560907Z",
     "iopub.status.busy": "2022-07-10T20:11:28.560372Z",
     "iopub.status.idle": "2022-07-10T20:11:41.849101Z",
     "shell.execute_reply": "2022-07-10T20:11:41.849876Z"
    },
    "papermill": {
     "duration": 13.331057,
     "end_time": "2022-07-10T20:11:41.850017",
     "exception": false,
     "start_time": "2022-07-10T20:11:28.518960",
     "status": "completed"
    },
    "tags": []
   },
   "outputs": [
    {
     "name": "stdout",
     "output_type": "stream",
     "text": [
      "Epoch 0, Loss 0.2512\n",
      "Training Accuracy: 0.6493, Testing Accuracy: 0.6356\n",
      "\n"
     ]
    },
    {
     "name": "stdout",
     "output_type": "stream",
     "text": [
      "Epoch 10, Loss 0.1057\n",
      "Training Accuracy: 0.9037, Testing Accuracy: 0.9088\n",
      "\n"
     ]
    },
    {
     "name": "stdout",
     "output_type": "stream",
     "text": [
      "Epoch 20, Loss 0.0802\n",
      "Training Accuracy: 0.9270, Testing Accuracy: 0.9385\n",
      "\n"
     ]
    },
    {
     "name": "stdout",
     "output_type": "stream",
     "text": [
      "Epoch 30, Loss 0.0685\n",
      "Training Accuracy: 0.9377, Testing Accuracy: 0.9456\n",
      "\n"
     ]
    },
    {
     "name": "stdout",
     "output_type": "stream",
     "text": [
      "Epoch 40, Loss 0.0616\n",
      "Training Accuracy: 0.9433, Testing Accuracy: 0.9491\n",
      "\n"
     ]
    },
    {
     "name": "stdout",
     "output_type": "stream",
     "text": [
      "Epoch 50, Loss 0.057\n",
      "Training Accuracy: 0.9465, Testing Accuracy: 0.9511\n",
      "\n"
     ]
    },
    {
     "name": "stdout",
     "output_type": "stream",
     "text": [
      "Epoch 60, Loss 0.0536\n",
      "Training Accuracy: 0.9493, Testing Accuracy: 0.9556\n",
      "\n"
     ]
    },
    {
     "name": "stdout",
     "output_type": "stream",
     "text": [
      "Epoch 70, Loss 0.051\n",
      "Training Accuracy: 0.9503, Testing Accuracy: 0.9587\n",
      "\n"
     ]
    },
    {
     "name": "stdout",
     "output_type": "stream",
     "text": [
      "Epoch 80, Loss 0.049\n",
      "Training Accuracy: 0.9516, Testing Accuracy: 0.9612\n",
      "\n"
     ]
    },
    {
     "name": "stdout",
     "output_type": "stream",
     "text": [
      "Epoch 90, Loss 0.0473\n",
      "Training Accuracy: 0.9531, Testing Accuracy: 0.9617\n",
      "\n"
     ]
    },
    {
     "name": "stdout",
     "output_type": "stream",
     "text": [
      "Epoch 100, Loss 0.0459\n",
      "Training Accuracy: 0.9539, Testing Accuracy: 0.9627\n",
      "\n"
     ]
    },
    {
     "name": "stdout",
     "output_type": "stream",
     "text": [
      "Epoch 110, Loss 0.0447\n",
      "Training Accuracy: 0.9546, Testing Accuracy: 0.9632\n",
      "\n"
     ]
    },
    {
     "name": "stdout",
     "output_type": "stream",
     "text": [
      "Epoch 120, Loss 0.0436\n",
      "Training Accuracy: 0.9550, Testing Accuracy: 0.9642\n",
      "\n"
     ]
    },
    {
     "name": "stdout",
     "output_type": "stream",
     "text": [
      "Epoch 130, Loss 0.0427\n",
      "Training Accuracy: 0.9555, Testing Accuracy: 0.9652\n",
      "\n"
     ]
    },
    {
     "name": "stdout",
     "output_type": "stream",
     "text": [
      "Epoch 140, Loss 0.0419\n",
      "Training Accuracy: 0.9563, Testing Accuracy: 0.9652\n",
      "\n"
     ]
    },
    {
     "name": "stdout",
     "output_type": "stream",
     "text": [
      "Epoch 150, Loss 0.0411\n",
      "Training Accuracy: 0.9569, Testing Accuracy: 0.9652\n",
      "\n"
     ]
    },
    {
     "name": "stdout",
     "output_type": "stream",
     "text": [
      "Epoch 160, Loss 0.0405\n",
      "Training Accuracy: 0.9577, Testing Accuracy: 0.9652\n",
      "\n"
     ]
    },
    {
     "name": "stdout",
     "output_type": "stream",
     "text": [
      "Epoch 170, Loss 0.0399\n",
      "Training Accuracy: 0.9584, Testing Accuracy: 0.9662\n",
      "\n"
     ]
    },
    {
     "name": "stdout",
     "output_type": "stream",
     "text": [
      "Epoch 180, Loss 0.0393\n",
      "Training Accuracy: 0.9586, Testing Accuracy: 0.9662\n",
      "\n"
     ]
    },
    {
     "name": "stdout",
     "output_type": "stream",
     "text": [
      "Epoch 190, Loss 0.0388\n",
      "Training Accuracy: 0.9595, Testing Accuracy: 0.9667\n",
      "\n"
     ]
    },
    {
     "name": "stdout",
     "output_type": "stream",
     "text": [
      "Epoch 200, Loss 0.0383\n",
      "Training Accuracy: 0.9599, Testing Accuracy: 0.9672\n",
      "\n"
     ]
    },
    {
     "name": "stdout",
     "output_type": "stream",
     "text": [
      "Epoch 210, Loss 0.0379\n",
      "Training Accuracy: 0.9608, Testing Accuracy: 0.9682\n",
      "\n"
     ]
    },
    {
     "name": "stdout",
     "output_type": "stream",
     "text": [
      "Epoch 220, Loss 0.0375\n",
      "Training Accuracy: 0.9609, Testing Accuracy: 0.9682\n",
      "\n"
     ]
    },
    {
     "name": "stdout",
     "output_type": "stream",
     "text": [
      "Epoch 230, Loss 0.0371\n",
      "Training Accuracy: 0.9615, Testing Accuracy: 0.9688\n",
      "\n"
     ]
    },
    {
     "name": "stdout",
     "output_type": "stream",
     "text": [
      "Epoch 240, Loss 0.0368\n",
      "Training Accuracy: 0.9616, Testing Accuracy: 0.9688\n",
      "\n"
     ]
    },
    {
     "data": {
      "text/plain": [
       "0.04436021717215674"
      ]
     },
     "execution_count": 23,
     "metadata": {},
     "output_type": "execute_result"
    }
   ],
   "source": [
    "lr_learner.train_loop(dl)"
   ]
  },
  {
   "cell_type": "code",
   "execution_count": 24,
   "id": "ca410940",
   "metadata": {
    "execution": {
     "iopub.execute_input": "2022-07-10T20:11:41.930900Z",
     "iopub.status.busy": "2022-07-10T20:11:41.930227Z",
     "iopub.status.idle": "2022-07-10T20:11:42.140727Z",
     "shell.execute_reply": "2022-07-10T20:11:42.141430Z"
    },
    "papermill": {
     "duration": 0.255483,
     "end_time": "2022-07-10T20:11:42.141570",
     "exception": false,
     "start_time": "2022-07-10T20:11:41.886087",
     "status": "completed"
    },
    "tags": []
   },
   "outputs": [
    {
     "data": {
      "text/plain": [
       "<matplotlib.legend.Legend at 0x7fc1899a9b38>"
      ]
     },
     "execution_count": 24,
     "metadata": {},
     "output_type": "execute_result"
    },
    {
     "data": {
      "image/png": "[encoded data removed]",
      "text/plain": [
       "<Figure size 1080x720 with 1 Axes>"
      ]
     },
     "metadata": {
      "needs_background": "light"
     },
     "output_type": "display_data"
    }
   ],
   "source": [
    "#comparing the results of NN and LR\n",
    "plt.figure(figsize=(15,10))\n",
    "\n",
    "# Neural Network plots\n",
    "plt.plot(acc_nn.accuracies, 'r-', label = \"Training Accuracies - NN\")\n",
    "plt.plot(acc_nn.test_accuracies, 'g-', label = \"Testing Accuracies - NN\")\n",
    "\n",
    "# Logistic Regression plots\n",
    "plt.plot(acc_lr.accuracies, 'k-', label = \"Training Accuracies - LR\")\n",
    "plt.plot(acc_lr.test_accuracies, 'b-', label = \"Testing Accuracies - LR\")\n",
    "plt.legend()"
   ]
  },
  {
   "cell_type": "markdown",
   "id": "80dfb35c",
   "metadata": {
    "papermill": {
     "duration": 0.036791,
     "end_time": "2022-07-10T20:11:42.215382",
     "exception": false,
     "start_time": "2022-07-10T20:11:42.178591",
     "status": "completed"
    },
    "tags": []
   },
   "source": [
    "#### Plotting the outputs of this layer of the NN.\n"
   ]
  },
  {
   "cell_type": "code",
   "execution_count": 25,
   "id": "45eb2ff5",
   "metadata": {
    "execution": {
     "iopub.execute_input": "2022-07-10T20:11:42.310756Z",
     "iopub.status.busy": "2022-07-10T20:11:42.310160Z",
     "iopub.status.idle": "2022-07-10T20:11:42.315844Z",
     "shell.execute_reply": "2022-07-10T20:11:42.316474Z"
    },
    "papermill": {
     "duration": 0.064402,
     "end_time": "2022-07-10T20:11:42.316603",
     "exception": false,
     "start_time": "2022-07-10T20:11:42.252201",
     "status": "completed"
    },
    "tags": []
   },
   "outputs": [],
   "source": [
    "new_model = Model(layers[:-2])\n",
    "testing_plot = new_model(testing_data_x)"
   ]
  },
  {
   "cell_type": "code",
   "execution_count": 26,
   "id": "4c0a5485",
   "metadata": {
    "execution": {
     "iopub.execute_input": "2022-07-10T20:11:42.397766Z",
     "iopub.status.busy": "2022-07-10T20:11:42.397211Z",
     "iopub.status.idle": "2022-07-10T20:11:42.560735Z",
     "shell.execute_reply": "2022-07-10T20:11:42.561456Z"
    },
    "papermill": {
     "duration": 0.207625,
     "end_time": "2022-07-10T20:11:42.561597",
     "exception": false,
     "start_time": "2022-07-10T20:11:42.353972",
     "status": "completed"
    },
    "tags": []
   },
   "outputs": [
    {
     "data": {
      "text/plain": [
       "Text(0.5, 1.0, 'Outputs')"
      ]
     },
     "execution_count": 26,
     "metadata": {},
     "output_type": "execute_result"
    },
    {
     "data": {
      "image/png": "[encoded data removed]",
      "text/plain": [
       "<Figure size 576x504 with 1 Axes>"
      ]
     },
     "metadata": {
      "needs_background": "light"
     },
     "output_type": "display_data"
    }
   ],
   "source": [
    "# Plotting the scatter plot of points and color coding by class\n",
    "plt.figure(figsize=(8,7))\n",
    "plt.scatter(testing_plot[:,0], testing_plot[:,1], alpha = 0.1, c = y_test.ravel());\n",
    "plt.title('Outputs')"
   ]
  },
  {
   "cell_type": "markdown",
   "id": "a74fcf8f",
   "metadata": {
    "papermill": {
     "duration": 0.038715,
     "end_time": "2022-07-10T20:11:42.639206",
     "exception": false,
     "start_time": "2022-07-10T20:11:42.600491",
     "status": "completed"
    },
    "tags": []
   },
   "source": [
    "Probability contours"
   ]
  },
  {
   "cell_type": "code",
   "execution_count": 27,
   "id": "d0afc8e3",
   "metadata": {
    "execution": {
     "iopub.execute_input": "2022-07-10T20:11:42.757958Z",
     "iopub.status.busy": "2022-07-10T20:11:42.757417Z",
     "iopub.status.idle": "2022-07-10T20:11:42.765152Z",
     "shell.execute_reply": "2022-07-10T20:11:42.765529Z"
    },
    "papermill": {
     "duration": 0.087637,
     "end_time": "2022-07-10T20:11:42.765656",
     "exception": false,
     "start_time": "2022-07-10T20:11:42.678019",
     "status": "completed"
    },
    "tags": []
   },
   "outputs": [],
   "source": [
    "model_prob = Model(layers[-2:]) "
   ]
  },
  {
   "cell_type": "code",
   "execution_count": 28,
   "id": "9b96e238",
   "metadata": {
    "execution": {
     "iopub.execute_input": "2022-07-10T20:11:42.848297Z",
     "iopub.status.busy": "2022-07-10T20:11:42.847739Z",
     "iopub.status.idle": "2022-07-10T20:11:42.862191Z",
     "shell.execute_reply": "2022-07-10T20:11:42.861762Z"
    },
    "papermill": {
     "duration": 0.058214,
     "end_time": "2022-07-10T20:11:42.862339",
     "exception": false,
     "start_time": "2022-07-10T20:11:42.804125",
     "status": "completed"
    },
    "tags": []
   },
   "outputs": [],
   "source": [
    "#creating the x and y ranges according to the above generated plot.\n",
    "x_range = np.linspace(-4, 1, 100) \n",
    "y_range = np.linspace(-6, 6, 100) \n",
    "x_grid, y_grid = np.meshgrid(x_range, y_range) # x_grid and y_grig are of size 100 X 100\n",
    "\n",
    "# converting x_grid and y_grid to continuous arrays\n",
    "x_gridflat = np.ravel(x_grid)\n",
    "y_gridflat = np.ravel(y_grid)\n",
    "\n",
    "# The last layer of the current model takes two columns as input. Hence transpose of np.vstack() is required.\n",
    "X = np.vstack((x_gridflat, y_gridflat)).T\n",
    "\n",
    "prob_contour = model_prob(X).reshape(100,100) "
   ]
  },
  {
   "cell_type": "code",
   "execution_count": 29,
   "id": "da72499a",
   "metadata": {
    "execution": {
     "iopub.execute_input": "2022-07-10T20:11:42.955566Z",
     "iopub.status.busy": "2022-07-10T20:11:42.955032Z",
     "iopub.status.idle": "2022-07-10T20:11:43.169446Z",
     "shell.execute_reply": "2022-07-10T20:11:43.169018Z"
    },
    "papermill": {
     "duration": 0.263184,
     "end_time": "2022-07-10T20:11:43.169562",
     "exception": false,
     "start_time": "2022-07-10T20:11:42.906378",
     "status": "completed"
    },
    "tags": []
   },
   "outputs": [
    {
     "data": {
      "image/png": "[encoded data removed]",
      "text/plain": [
       "<Figure size 720x648 with 1 Axes>"
      ]
     },
     "metadata": {
      "needs_background": "light"
     },
     "output_type": "display_data"
    }
   ],
   "source": [
    "plt.figure(figsize=(10,9))\n",
    "plt.scatter(testing_plot[:,0], testing_plot[:,1], alpha = 0.1, c = y_test.ravel())\n",
    "contours = plt.contour(x_grid,y_grid,prob_contour)\n",
    "plt.title('Probability Contours')\n",
    "plt.clabel(contours, inline = True );"
   ]
  },
  {
   "cell_type": "code",
   "execution_count": null,
   "id": "e81b4ac7",
   "metadata": {
    "papermill": {
     "duration": 0.041108,
     "end_time": "2022-07-10T20:11:43.252346",
     "exception": false,
     "start_time": "2022-07-10T20:11:43.211238",
     "status": "completed"
    },
    "tags": []
   },
   "outputs": [],
   "source": []
  }
 ],
 "metadata": {
  "kernelspec": {
   "display_name": "Python 3",
   "language": "python",
   "name": "python3"
  },
  "language_info": {
   "codemirror_mode": {
    "name": "ipython",
    "version": 3
   },
   "file_extension": ".py",
   "mimetype": "text/x-python",
   "name": "python",
   "nbconvert_exporter": "python",
   "pygments_lexer": "ipython3",
   "version": "3.6.15"
  },
  "papermill": {
   "default_parameters": {},
   "duration": 95.96015,
   "end_time": "2022-07-10T20:11:43.711940",
   "environment_variables": {},
   "exception": null,
   "input_path": "2020-08-11-part2.ipynb",
   "output_path": "2020-08-11-part2.ipynb",
   "parameters": {},
   "start_time": "2022-07-10T20:10:07.751790",
   "version": "2.3.3"
  }
 },
 "nbformat": 4,
 "nbformat_minor": 5
}