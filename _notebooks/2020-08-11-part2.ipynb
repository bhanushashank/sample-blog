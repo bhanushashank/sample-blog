{
 "cells": [
  {
   "cell_type": "markdown",
   "id": "98380cd3",
   "metadata": {
    "papermill": {
     "duration": 0.030394,
     "end_time": "2022-04-14T00:40:32.861286",
     "exception": false,
     "start_time": "2022-04-14T00:40:32.830892",
     "status": "completed"
    },
    "tags": []
   },
   "source": [
    "# Distinguish Your Own Digits (DYOD)"
   ]
  },
  {
   "cell_type": "markdown",
   "id": "ef31240d",
   "metadata": {
    "papermill": {
     "duration": 0.027776,
     "end_time": "2022-04-14T00:40:32.914370",
     "exception": false,
     "start_time": "2022-04-14T00:40:32.886594",
     "status": "completed"
    },
    "tags": []
   },
   "source": [
    "You are going to write a classifier that distinguishes between the number 3 and number 8."
   ]
  },
  {
   "cell_type": "code",
   "execution_count": 1,
   "id": "b15c8646",
   "metadata": {
    "execution": {
     "iopub.execute_input": "2022-04-14T00:40:32.975909Z",
     "iopub.status.busy": "2022-04-14T00:40:32.975340Z",
     "iopub.status.idle": "2022-04-14T00:40:32.987263Z",
     "shell.execute_reply": "2022-04-14T00:40:32.986787Z"
    },
    "papermill": {
     "duration": 0.04779,
     "end_time": "2022-04-14T00:40:32.987409",
     "exception": false,
     "start_time": "2022-04-14T00:40:32.939619",
     "status": "completed"
    },
    "tags": []
   },
   "outputs": [],
   "source": [
    "%load_ext autoreload\n",
    "%autoreload 2"
   ]
  },
  {
   "cell_type": "code",
   "execution_count": 2,
   "id": "22ef38dc",
   "metadata": {
    "execution": {
     "iopub.execute_input": "2022-04-14T00:40:33.046508Z",
     "iopub.status.busy": "2022-04-14T00:40:33.045932Z",
     "iopub.status.idle": "2022-04-14T00:40:33.618347Z",
     "shell.execute_reply": "2022-04-14T00:40:33.618883Z"
    },
    "papermill": {
     "duration": 0.606768,
     "end_time": "2022-04-14T00:40:33.619079",
     "exception": false,
     "start_time": "2022-04-14T00:40:33.012311",
     "status": "completed"
    },
    "tags": []
   },
   "outputs": [],
   "source": [
    "%matplotlib inline\n",
    "import numpy as np\n",
    "import matplotlib.pyplot as plt\n",
    "import pandas as pd"
   ]
  },
  {
   "cell_type": "markdown",
   "id": "ba036198",
   "metadata": {
    "papermill": {
     "duration": 0.024876,
     "end_time": "2022-04-14T00:40:33.669295",
     "exception": false,
     "start_time": "2022-04-14T00:40:33.644419",
     "status": "completed"
    },
    "tags": []
   },
   "source": [
    "From the command line run `pip install mnist`. This is a library that will help you bring down the mnist dataset. If you run this from a notebook, you need to put  `!pip install mnist` in a cell by itself."
   ]
  },
  {
   "cell_type": "code",
   "execution_count": 3,
   "id": "bb6ad8a1",
   "metadata": {
    "execution": {
     "iopub.execute_input": "2022-04-14T00:40:33.727156Z",
     "iopub.status.busy": "2022-04-14T00:40:33.726538Z",
     "iopub.status.idle": "2022-04-14T00:40:35.492914Z",
     "shell.execute_reply": "2022-04-14T00:40:35.491827Z"
    },
    "papermill": {
     "duration": 1.799461,
     "end_time": "2022-04-14T00:40:35.493106",
     "exception": false,
     "start_time": "2022-04-14T00:40:33.693645",
     "status": "completed"
    },
    "tags": []
   },
   "outputs": [
    {
     "name": "stdout",
     "output_type": "stream",
     "text": [
      "Collecting mnist\r\n"
     ]
    },
    {
     "name": "stdout",
     "output_type": "stream",
     "text": [
      "  Downloading mnist-0.2.2-py2.py3-none-any.whl (3.5 kB)\r\n",
      "Requirement already satisfied: numpy in /opt/hostedtoolcache/Python/3.6.15/x64/lib/python3.6/site-packages (from mnist) (1.19.5)\r\n"
     ]
    },
    {
     "name": "stdout",
     "output_type": "stream",
     "text": [
      "Installing collected packages: mnist\r\n",
      "Successfully installed mnist-0.2.2\r\n"
     ]
    }
   ],
   "source": [
    "!pip install mnist"
   ]
  },
  {
   "cell_type": "markdown",
   "id": "69df9c9a",
   "metadata": {
    "papermill": {
     "duration": 0.025922,
     "end_time": "2022-04-14T00:40:35.545106",
     "exception": false,
     "start_time": "2022-04-14T00:40:35.519184",
     "status": "completed"
    },
    "tags": []
   },
   "source": [
    "## Preparing the Data"
   ]
  },
  {
   "cell_type": "code",
   "execution_count": 4,
   "id": "7f69d806",
   "metadata": {
    "execution": {
     "iopub.execute_input": "2022-04-14T00:40:35.617710Z",
     "iopub.status.busy": "2022-04-14T00:40:35.604838Z",
     "iopub.status.idle": "2022-04-14T00:40:35.621446Z",
     "shell.execute_reply": "2022-04-14T00:40:35.620991Z"
    },
    "papermill": {
     "duration": 0.05057,
     "end_time": "2022-04-14T00:40:35.621567",
     "exception": false,
     "start_time": "2022-04-14T00:40:35.570997",
     "status": "completed"
    },
    "tags": []
   },
   "outputs": [],
   "source": [
    "import mnist"
   ]
  },
  {
   "cell_type": "code",
   "execution_count": 5,
   "id": "a411e44f",
   "metadata": {
    "execution": {
     "iopub.execute_input": "2022-04-14T00:40:35.684987Z",
     "iopub.status.busy": "2022-04-14T00:40:35.684364Z",
     "iopub.status.idle": "2022-04-14T00:40:36.212591Z",
     "shell.execute_reply": "2022-04-14T00:40:36.213086Z"
    },
    "papermill": {
     "duration": 0.565694,
     "end_time": "2022-04-14T00:40:36.213272",
     "exception": false,
     "start_time": "2022-04-14T00:40:35.647578",
     "status": "completed"
    },
    "tags": []
   },
   "outputs": [],
   "source": [
    "train_images = mnist.train_images()\n",
    "train_labels = mnist.train_labels()"
   ]
  },
  {
   "cell_type": "code",
   "execution_count": 6,
   "id": "dceab3a5",
   "metadata": {
    "execution": {
     "iopub.execute_input": "2022-04-14T00:40:36.271687Z",
     "iopub.status.busy": "2022-04-14T00:40:36.271099Z",
     "iopub.status.idle": "2022-04-14T00:40:36.286516Z",
     "shell.execute_reply": "2022-04-14T00:40:36.286977Z"
    },
    "papermill": {
     "duration": 0.046339,
     "end_time": "2022-04-14T00:40:36.287134",
     "exception": false,
     "start_time": "2022-04-14T00:40:36.240795",
     "status": "completed"
    },
    "tags": []
   },
   "outputs": [
    {
     "data": {
      "text/plain": [
       "((60000, 28, 28), (60000,))"
      ]
     },
     "execution_count": 6,
     "metadata": {},
     "output_type": "execute_result"
    }
   ],
   "source": [
    "train_images.shape, train_labels.shape"
   ]
  },
  {
   "cell_type": "code",
   "execution_count": 7,
   "id": "f50dc2bb",
   "metadata": {
    "execution": {
     "iopub.execute_input": "2022-04-14T00:40:36.348295Z",
     "iopub.status.busy": "2022-04-14T00:40:36.347736Z",
     "iopub.status.idle": "2022-04-14T00:40:36.595414Z",
     "shell.execute_reply": "2022-04-14T00:40:36.594852Z"
    },
    "papermill": {
     "duration": 0.282467,
     "end_time": "2022-04-14T00:40:36.595571",
     "exception": false,
     "start_time": "2022-04-14T00:40:36.313104",
     "status": "completed"
    },
    "tags": []
   },
   "outputs": [],
   "source": [
    "test_images = mnist.test_images()\n",
    "test_labels = mnist.test_labels()"
   ]
  },
  {
   "cell_type": "code",
   "execution_count": 8,
   "id": "fc38cf1b",
   "metadata": {
    "execution": {
     "iopub.execute_input": "2022-04-14T00:40:36.654392Z",
     "iopub.status.busy": "2022-04-14T00:40:36.653847Z",
     "iopub.status.idle": "2022-04-14T00:40:36.666216Z",
     "shell.execute_reply": "2022-04-14T00:40:36.665780Z"
    },
    "papermill": {
     "duration": 0.044036,
     "end_time": "2022-04-14T00:40:36.666344",
     "exception": false,
     "start_time": "2022-04-14T00:40:36.622308",
     "status": "completed"
    },
    "tags": []
   },
   "outputs": [
    {
     "data": {
      "text/plain": [
       "((10000, 28, 28), (10000,))"
      ]
     },
     "execution_count": 8,
     "metadata": {},
     "output_type": "execute_result"
    }
   ],
   "source": [
    "test_images.shape, test_labels.shape"
   ]
  },
  {
   "cell_type": "code",
   "execution_count": 9,
   "id": "f9ed8fe0",
   "metadata": {
    "execution": {
     "iopub.execute_input": "2022-04-14T00:40:36.724819Z",
     "iopub.status.busy": "2022-04-14T00:40:36.724255Z",
     "iopub.status.idle": "2022-04-14T00:40:36.873429Z",
     "shell.execute_reply": "2022-04-14T00:40:36.872929Z"
    },
    "papermill": {
     "duration": 0.181257,
     "end_time": "2022-04-14T00:40:36.873557",
     "exception": false,
     "start_time": "2022-04-14T00:40:36.692300",
     "status": "completed"
    },
    "tags": []
   },
   "outputs": [
    {
     "name": "stdout",
     "output_type": "stream",
     "text": [
      "2\n"
     ]
    },
    {
     "data": {
      "text/plain": [
       "<matplotlib.image.AxesImage at 0x7fb661ce5358>"
      ]
     },
     "execution_count": 9,
     "metadata": {},
     "output_type": "execute_result"
    },
    {
     "data": {
      "image/png": "[encoded data removed]",
      "text/plain": [
       "<Figure size 432x288 with 1 Axes>"
      ]
     },
     "metadata": {
      "needs_background": "light"
     },
     "output_type": "display_data"
    }
   ],
   "source": [
    "image_index = 7776 # You may select anything up to 60,000\n",
    "print(train_labels[image_index]) \n",
    "plt.imshow(train_images[image_index], cmap='Greys')"
   ]
  },
  {
   "cell_type": "markdown",
   "id": "a8d2388d",
   "metadata": {
    "papermill": {
     "duration": 0.02834,
     "end_time": "2022-04-14T00:40:36.929987",
     "exception": false,
     "start_time": "2022-04-14T00:40:36.901647",
     "status": "completed"
    },
    "tags": []
   },
   "source": [
    "## Filter data to get 3 and 8 out"
   ]
  },
  {
   "cell_type": "code",
   "execution_count": 10,
   "id": "776f7fc7",
   "metadata": {
    "execution": {
     "iopub.execute_input": "2022-04-14T00:40:36.995530Z",
     "iopub.status.busy": "2022-04-14T00:40:36.993439Z",
     "iopub.status.idle": "2022-04-14T00:40:37.010924Z",
     "shell.execute_reply": "2022-04-14T00:40:37.010400Z"
    },
    "papermill": {
     "duration": 0.053126,
     "end_time": "2022-04-14T00:40:37.011395",
     "exception": false,
     "start_time": "2022-04-14T00:40:36.958269",
     "status": "completed"
    },
    "tags": []
   },
   "outputs": [],
   "source": [
    "train_filter = np.where((train_labels == 3 ) | (train_labels == 8))\n",
    "test_filter = np.where((test_labels == 3) | (test_labels == 8))\n",
    "X_train, y_train = train_images[train_filter], train_labels[train_filter]\n",
    "X_test, y_test = test_images[test_filter], test_labels[test_filter]"
   ]
  },
  {
   "cell_type": "markdown",
   "id": "948f0b7e",
   "metadata": {
    "papermill": {
     "duration": 0.031474,
     "end_time": "2022-04-14T00:40:37.071008",
     "exception": false,
     "start_time": "2022-04-14T00:40:37.039534",
     "status": "completed"
    },
    "tags": []
   },
   "source": [
    "We normalize the pizel values in the 0 to 1 range"
   ]
  },
  {
   "cell_type": "code",
   "execution_count": 11,
   "id": "ee4c2166",
   "metadata": {
    "execution": {
     "iopub.execute_input": "2022-04-14T00:40:37.137943Z",
     "iopub.status.busy": "2022-04-14T00:40:37.137358Z",
     "iopub.status.idle": "2022-04-14T00:40:37.192255Z",
     "shell.execute_reply": "2022-04-14T00:40:37.192692Z"
    },
    "papermill": {
     "duration": 0.089737,
     "end_time": "2022-04-14T00:40:37.192850",
     "exception": false,
     "start_time": "2022-04-14T00:40:37.103113",
     "status": "completed"
    },
    "tags": []
   },
   "outputs": [],
   "source": [
    "X_train = X_train/255.\n",
    "X_test = X_test/255."
   ]
  },
  {
   "cell_type": "markdown",
   "id": "ddcf4fab",
   "metadata": {
    "papermill": {
     "duration": 0.027598,
     "end_time": "2022-04-14T00:40:37.248354",
     "exception": false,
     "start_time": "2022-04-14T00:40:37.220756",
     "status": "completed"
    },
    "tags": []
   },
   "source": [
    "And setup the labels as 1 (when the digit is 3) and 0 (when the digit is 8)"
   ]
  },
  {
   "cell_type": "code",
   "execution_count": 12,
   "id": "7dc908f2",
   "metadata": {
    "execution": {
     "iopub.execute_input": "2022-04-14T00:40:37.309161Z",
     "iopub.status.busy": "2022-04-14T00:40:37.308503Z",
     "iopub.status.idle": "2022-04-14T00:40:37.322287Z",
     "shell.execute_reply": "2022-04-14T00:40:37.321765Z"
    },
    "papermill": {
     "duration": 0.046256,
     "end_time": "2022-04-14T00:40:37.322451",
     "exception": false,
     "start_time": "2022-04-14T00:40:37.276195",
     "status": "completed"
    },
    "tags": []
   },
   "outputs": [],
   "source": [
    "y_train = 1*(y_train==3)\n",
    "y_test = 1*(y_test==3)"
   ]
  },
  {
   "cell_type": "code",
   "execution_count": 13,
   "id": "01e4e969",
   "metadata": {
    "execution": {
     "iopub.execute_input": "2022-04-14T00:40:37.394442Z",
     "iopub.status.busy": "2022-04-14T00:40:37.391693Z",
     "iopub.status.idle": "2022-04-14T00:40:37.397120Z",
     "shell.execute_reply": "2022-04-14T00:40:37.397510Z"
    },
    "papermill": {
     "duration": 0.048081,
     "end_time": "2022-04-14T00:40:37.397660",
     "exception": false,
     "start_time": "2022-04-14T00:40:37.349579",
     "status": "completed"
    },
    "tags": []
   },
   "outputs": [
    {
     "data": {
      "text/plain": [
       "((11982, 28, 28), (1984, 28, 28))"
      ]
     },
     "execution_count": 13,
     "metadata": {},
     "output_type": "execute_result"
    }
   ],
   "source": [
    "X_train.shape, X_test.shape"
   ]
  },
  {
   "cell_type": "markdown",
   "id": "5ccf3f85",
   "metadata": {
    "papermill": {
     "duration": 0.027127,
     "end_time": "2022-04-14T00:40:37.451946",
     "exception": false,
     "start_time": "2022-04-14T00:40:37.424819",
     "status": "completed"
    },
    "tags": []
   },
   "source": [
    "We reshape the data to flatten the image pixels into a set of features or co-variates:"
   ]
  },
  {
   "cell_type": "code",
   "execution_count": 14,
   "id": "5286a4a3",
   "metadata": {
    "execution": {
     "iopub.execute_input": "2022-04-14T00:40:37.511245Z",
     "iopub.status.busy": "2022-04-14T00:40:37.510633Z",
     "iopub.status.idle": "2022-04-14T00:40:37.525679Z",
     "shell.execute_reply": "2022-04-14T00:40:37.525254Z"
    },
    "papermill": {
     "duration": 0.046585,
     "end_time": "2022-04-14T00:40:37.525808",
     "exception": false,
     "start_time": "2022-04-14T00:40:37.479223",
     "status": "completed"
    },
    "tags": []
   },
   "outputs": [
    {
     "data": {
      "text/plain": [
       "((11982, 784), (1984, 784))"
      ]
     },
     "execution_count": 14,
     "metadata": {},
     "output_type": "execute_result"
    }
   ],
   "source": [
    "X_train = X_train.reshape(X_train.shape[0], -1)\n",
    "X_test = X_test.reshape(X_test.shape[0], -1)\n",
    "X_train.shape, X_test.shape"
   ]
  },
  {
   "cell_type": "code",
   "execution_count": 15,
   "id": "73c5f88a",
   "metadata": {
    "execution": {
     "iopub.execute_input": "2022-04-14T00:40:37.598971Z",
     "iopub.status.busy": "2022-04-14T00:40:37.591805Z",
     "iopub.status.idle": "2022-04-14T00:40:37.608556Z",
     "shell.execute_reply": "2022-04-14T00:40:37.608102Z"
    },
    "papermill": {
     "duration": 0.055268,
     "end_time": "2022-04-14T00:40:37.608691",
     "exception": false,
     "start_time": "2022-04-14T00:40:37.553423",
     "status": "completed"
    },
    "tags": []
   },
   "outputs": [],
   "source": [
    "#Impoting functions from 'Kudzu'\n",
    "from kudzu.model import Model\n",
    "from kudzu.train import Learner\n",
    "from kudzu.optim import GD\n",
    "from kudzu.data import Data, Sampler,Dataloader\n",
    "\n",
    "from kudzu.callbacks import AccCallback\n",
    "from kudzu.callbacks import ClfCallback\n",
    "\n",
    "from kudzu.loss import MSE\n",
    "\n",
    "from kudzu.layer import Sigmoid,Relu\n",
    "from kudzu.layer import Affine"
   ]
  },
  {
   "cell_type": "markdown",
   "id": "bc01172a",
   "metadata": {
    "papermill": {
     "duration": 0.027431,
     "end_time": "2022-04-14T00:40:37.663886",
     "exception": false,
     "start_time": "2022-04-14T00:40:37.636455",
     "status": "completed"
    },
    "tags": []
   },
   "source": [
    "### Let us create a `Config` class, to store important parameters. \n",
    "This class essentially plays the role of a dictionary."
   ]
  },
  {
   "cell_type": "code",
   "execution_count": 16,
   "id": "978281aa",
   "metadata": {
    "execution": {
     "iopub.execute_input": "2022-04-14T00:40:37.724183Z",
     "iopub.status.busy": "2022-04-14T00:40:37.723623Z",
     "iopub.status.idle": "2022-04-14T00:40:37.735787Z",
     "shell.execute_reply": "2022-04-14T00:40:37.735320Z"
    },
    "papermill": {
     "duration": 0.04462,
     "end_time": "2022-04-14T00:40:37.735910",
     "exception": false,
     "start_time": "2022-04-14T00:40:37.691290",
     "status": "completed"
    },
    "tags": []
   },
   "outputs": [],
   "source": [
    "class Config:\n",
    "    pass\n",
    "config = Config()\n",
    "config.lr = 0.001\n",
    "config.num_epochs = 250\n",
    "config.bs = 50"
   ]
  },
  {
   "cell_type": "markdown",
   "id": "1385fa59",
   "metadata": {
    "papermill": {
     "duration": 0.027436,
     "end_time": "2022-04-14T00:40:37.790956",
     "exception": false,
     "start_time": "2022-04-14T00:40:37.763520",
     "status": "completed"
    },
    "tags": []
   },
   "source": [
    "### Running Models with the Training data\n",
    "Details about the network layers:\n",
    "- A first affine layer has 784 inputs and does 100 affine transforms. These are followed by a Relu\n",
    "- A second affine layer has 100 inputs from the 100 activations of the past layer, and does 100 affine transforms. These are followed by a Relu\n",
    "- A third affine layer has 100 activations and does 2 affine transformations to create an embedding for visualization. There is no non-linearity here.\n",
    "- A final \"logistic regression\" which has an affine transform from 2 inputs to 1 output, which is squeezed through a sigmoid.\n"
   ]
  },
  {
   "cell_type": "code",
   "execution_count": 17,
   "id": "2b9c66db",
   "metadata": {
    "execution": {
     "iopub.execute_input": "2022-04-14T00:40:37.850755Z",
     "iopub.status.busy": "2022-04-14T00:40:37.850184Z",
     "iopub.status.idle": "2022-04-14T00:40:37.864196Z",
     "shell.execute_reply": "2022-04-14T00:40:37.863733Z"
    },
    "papermill": {
     "duration": 0.045948,
     "end_time": "2022-04-14T00:40:37.864315",
     "exception": false,
     "start_time": "2022-04-14T00:40:37.818367",
     "status": "completed"
    },
    "tags": []
   },
   "outputs": [],
   "source": [
    "data = Data(X_train, y_train.reshape(-1,1))\n",
    "sampler = Sampler(data, config.bs, shuffle=True)\n",
    "\n",
    "dl = Dataloader(data, sampler)\n",
    "\n",
    "opt = GD(config.lr)\n",
    "loss = MSE()"
   ]
  },
  {
   "cell_type": "code",
   "execution_count": 18,
   "id": "b275e4c2",
   "metadata": {
    "execution": {
     "iopub.execute_input": "2022-04-14T00:40:37.927125Z",
     "iopub.status.busy": "2022-04-14T00:40:37.926530Z",
     "iopub.status.idle": "2022-04-14T00:40:37.938525Z",
     "shell.execute_reply": "2022-04-14T00:40:37.938082Z"
    },
    "papermill": {
     "duration": 0.046648,
     "end_time": "2022-04-14T00:40:37.938656",
     "exception": false,
     "start_time": "2022-04-14T00:40:37.892008",
     "status": "completed"
    },
    "tags": []
   },
   "outputs": [],
   "source": [
    "training_data_x = X_train\n",
    "testing_data_x = X_test\n",
    "training_data_y = y_train.reshape(-1,1)\n",
    "testing_data_y = y_test.reshape(-1,1)"
   ]
  },
  {
   "cell_type": "code",
   "execution_count": 19,
   "id": "76951160",
   "metadata": {
    "execution": {
     "iopub.execute_input": "2022-04-14T00:40:38.012347Z",
     "iopub.status.busy": "2022-04-14T00:40:38.007118Z",
     "iopub.status.idle": "2022-04-14T00:40:38.018467Z",
     "shell.execute_reply": "2022-04-14T00:40:38.018899Z"
    },
    "papermill": {
     "duration": 0.05301,
     "end_time": "2022-04-14T00:40:38.019062",
     "exception": false,
     "start_time": "2022-04-14T00:40:37.966052",
     "status": "completed"
    },
    "tags": []
   },
   "outputs": [
    {
     "name": "stdout",
     "output_type": "stream",
     "text": [
      "xavier\n",
      "xavier\n",
      "xavier\n",
      "xavier\n",
      "xavier\n"
     ]
    }
   ],
   "source": [
    "layers = [Affine(\"first\", 784, 100), Relu(\"first\"), Affine(\"second\", 100, 100), Relu(\"second\"), Affine(\"third\", 100, 2), Affine(\"last\", 2, 1), Sigmoid(\"last\")]\n",
    "model_nn = Model(layers)\n",
    "model_lr = Model([Affine(\"logits\", 784, 1), Sigmoid(\"sigmoid\")])"
   ]
  },
  {
   "cell_type": "code",
   "execution_count": 20,
   "id": "6eede77a",
   "metadata": {
    "execution": {
     "iopub.execute_input": "2022-04-14T00:40:38.087649Z",
     "iopub.status.busy": "2022-04-14T00:40:38.084920Z",
     "iopub.status.idle": "2022-04-14T00:40:38.097819Z",
     "shell.execute_reply": "2022-04-14T00:40:38.097331Z"
    },
    "papermill": {
     "duration": 0.049636,
     "end_time": "2022-04-14T00:40:38.097950",
     "exception": false,
     "start_time": "2022-04-14T00:40:38.048314",
     "status": "completed"
    },
    "tags": []
   },
   "outputs": [],
   "source": [
    "nn_learner = Learner(loss, model_nn, opt, config.num_epochs)\n",
    "acc_nn = ClfCallback(nn_learner, config.bs, training_data_x , testing_data_x, training_data_y, testing_data_y)\n",
    "nn_learner.set_callbacks([acc_nn])"
   ]
  },
  {
   "cell_type": "code",
   "execution_count": 21,
   "id": "877b6cc7",
   "metadata": {
    "execution": {
     "iopub.execute_input": "2022-04-14T00:40:38.159509Z",
     "iopub.status.busy": "2022-04-14T00:40:38.158937Z",
     "iopub.status.idle": "2022-04-14T00:40:38.172088Z",
     "shell.execute_reply": "2022-04-14T00:40:38.171648Z"
    },
    "papermill": {
     "duration": 0.045997,
     "end_time": "2022-04-14T00:40:38.172218",
     "exception": false,
     "start_time": "2022-04-14T00:40:38.126221",
     "status": "completed"
    },
    "tags": []
   },
   "outputs": [],
   "source": [
    "lr_learner = Learner(loss, model_lr, opt, config.num_epochs)\n",
    "acc_lr = ClfCallback(lr_learner, config.bs, training_data_x , testing_data_x, training_data_y, testing_data_y)\n",
    "lr_learner.set_callbacks([acc_lr])"
   ]
  },
  {
   "cell_type": "code",
   "execution_count": 22,
   "id": "d9b133c3",
   "metadata": {
    "execution": {
     "iopub.execute_input": "2022-04-14T00:40:38.246114Z",
     "iopub.status.busy": "2022-04-14T00:40:38.244230Z",
     "iopub.status.idle": "2022-04-14T00:41:57.589175Z",
     "shell.execute_reply": "2022-04-14T00:41:57.589971Z"
    },
    "papermill": {
     "duration": 79.389296,
     "end_time": "2022-04-14T00:41:57.590130",
     "exception": false,
     "start_time": "2022-04-14T00:40:38.200834",
     "status": "completed"
    },
    "tags": []
   },
   "outputs": [
    {
     "name": "stdout",
     "output_type": "stream",
     "text": [
      "Epoch 0, Loss 0.2464\n",
      "Training Accuracy: 0.6012, Testing Accuracy: 0.6013\n",
      "\n"
     ]
    },
    {
     "name": "stdout",
     "output_type": "stream",
     "text": [
      "Epoch 10, Loss 0.0894\n",
      "Training Accuracy: 0.9140, Testing Accuracy: 0.9209\n",
      "\n"
     ]
    },
    {
     "name": "stdout",
     "output_type": "stream",
     "text": [
      "Epoch 20, Loss 0.0583\n",
      "Training Accuracy: 0.9360, Testing Accuracy: 0.9481\n",
      "\n"
     ]
    },
    {
     "name": "stdout",
     "output_type": "stream",
     "text": [
      "Epoch 30, Loss 0.0467\n",
      "Training Accuracy: 0.9464, Testing Accuracy: 0.9577\n",
      "\n"
     ]
    },
    {
     "name": "stdout",
     "output_type": "stream",
     "text": [
      "Epoch 40, Loss 0.0407\n",
      "Training Accuracy: 0.9523, Testing Accuracy: 0.9612\n",
      "\n"
     ]
    },
    {
     "name": "stdout",
     "output_type": "stream",
     "text": [
      "Epoch 50, Loss 0.0369\n",
      "Training Accuracy: 0.9564, Testing Accuracy: 0.9622\n",
      "\n"
     ]
    },
    {
     "name": "stdout",
     "output_type": "stream",
     "text": [
      "Epoch 60, Loss 0.0343\n",
      "Training Accuracy: 0.9596, Testing Accuracy: 0.9627\n",
      "\n"
     ]
    },
    {
     "name": "stdout",
     "output_type": "stream",
     "text": [
      "Epoch 70, Loss 0.0322\n",
      "Training Accuracy: 0.9619, Testing Accuracy: 0.9642\n",
      "\n"
     ]
    },
    {
     "name": "stdout",
     "output_type": "stream",
     "text": [
      "Epoch 80, Loss 0.0306\n",
      "Training Accuracy: 0.9631, Testing Accuracy: 0.9647\n",
      "\n"
     ]
    },
    {
     "name": "stdout",
     "output_type": "stream",
     "text": [
      "Epoch 90, Loss 0.0293\n",
      "Training Accuracy: 0.9649, Testing Accuracy: 0.9682\n",
      "\n"
     ]
    },
    {
     "name": "stdout",
     "output_type": "stream",
     "text": [
      "Epoch 100, Loss 0.0282\n",
      "Training Accuracy: 0.9665, Testing Accuracy: 0.9682\n",
      "\n"
     ]
    },
    {
     "name": "stdout",
     "output_type": "stream",
     "text": [
      "Epoch 110, Loss 0.0272\n",
      "Training Accuracy: 0.9676, Testing Accuracy: 0.9677\n",
      "\n"
     ]
    },
    {
     "name": "stdout",
     "output_type": "stream",
     "text": [
      "Epoch 120, Loss 0.0263\n",
      "Training Accuracy: 0.9681, Testing Accuracy: 0.9693\n",
      "\n"
     ]
    },
    {
     "name": "stdout",
     "output_type": "stream",
     "text": [
      "Epoch 130, Loss 0.0256\n",
      "Training Accuracy: 0.9693, Testing Accuracy: 0.9698\n",
      "\n"
     ]
    },
    {
     "name": "stdout",
     "output_type": "stream",
     "text": [
      "Epoch 140, Loss 0.0248\n",
      "Training Accuracy: 0.9704, Testing Accuracy: 0.9703\n",
      "\n"
     ]
    },
    {
     "name": "stdout",
     "output_type": "stream",
     "text": [
      "Epoch 150, Loss 0.0242\n",
      "Training Accuracy: 0.9713, Testing Accuracy: 0.9698\n",
      "\n"
     ]
    },
    {
     "name": "stdout",
     "output_type": "stream",
     "text": [
      "Epoch 160, Loss 0.0236\n",
      "Training Accuracy: 0.9728, Testing Accuracy: 0.9698\n",
      "\n"
     ]
    },
    {
     "name": "stdout",
     "output_type": "stream",
     "text": [
      "Epoch 170, Loss 0.0231\n",
      "Training Accuracy: 0.9732, Testing Accuracy: 0.9708\n",
      "\n"
     ]
    },
    {
     "name": "stdout",
     "output_type": "stream",
     "text": [
      "Epoch 180, Loss 0.0226\n",
      "Training Accuracy: 0.9741, Testing Accuracy: 0.9713\n",
      "\n"
     ]
    },
    {
     "name": "stdout",
     "output_type": "stream",
     "text": [
      "Epoch 190, Loss 0.0221\n",
      "Training Accuracy: 0.9749, Testing Accuracy: 0.9713\n",
      "\n"
     ]
    },
    {
     "name": "stdout",
     "output_type": "stream",
     "text": [
      "Epoch 200, Loss 0.0216\n",
      "Training Accuracy: 0.9755, Testing Accuracy: 0.9718\n",
      "\n"
     ]
    },
    {
     "name": "stdout",
     "output_type": "stream",
     "text": [
      "Epoch 210, Loss 0.0212\n",
      "Training Accuracy: 0.9761, Testing Accuracy: 0.9723\n",
      "\n"
     ]
    },
    {
     "name": "stdout",
     "output_type": "stream",
     "text": [
      "Epoch 220, Loss 0.0208\n",
      "Training Accuracy: 0.9767, Testing Accuracy: 0.9723\n",
      "\n"
     ]
    },
    {
     "name": "stdout",
     "output_type": "stream",
     "text": [
      "Epoch 230, Loss 0.0204\n",
      "Training Accuracy: 0.9771, Testing Accuracy: 0.9733\n",
      "\n"
     ]
    },
    {
     "name": "stdout",
     "output_type": "stream",
     "text": [
      "Epoch 240, Loss 0.02\n",
      "Training Accuracy: 0.9778, Testing Accuracy: 0.9733\n",
      "\n"
     ]
    },
    {
     "data": {
      "text/plain": [
       "0.021609342607129135"
      ]
     },
     "execution_count": 22,
     "metadata": {},
     "output_type": "execute_result"
    }
   ],
   "source": [
    "nn_learner.train_loop(dl)"
   ]
  },
  {
   "cell_type": "code",
   "execution_count": 23,
   "id": "e0163366",
   "metadata": {
    "execution": {
     "iopub.execute_input": "2022-04-14T00:41:57.668826Z",
     "iopub.status.busy": "2022-04-14T00:41:57.668262Z",
     "iopub.status.idle": "2022-04-14T00:42:11.810609Z",
     "shell.execute_reply": "2022-04-14T00:42:11.811456Z"
    },
    "papermill": {
     "duration": 14.186071,
     "end_time": "2022-04-14T00:42:11.811619",
     "exception": false,
     "start_time": "2022-04-14T00:41:57.625548",
     "status": "completed"
    },
    "tags": []
   },
   "outputs": [
    {
     "name": "stdout",
     "output_type": "stream",
     "text": [
      "Epoch 0, Loss 0.2293\n",
      "Training Accuracy: 0.7086, Testing Accuracy: 0.7001\n",
      "\n"
     ]
    },
    {
     "name": "stdout",
     "output_type": "stream",
     "text": [
      "Epoch 10, Loss 0.1029\n",
      "Training Accuracy: 0.9098, Testing Accuracy: 0.9148\n",
      "\n"
     ]
    },
    {
     "name": "stdout",
     "output_type": "stream",
     "text": [
      "Epoch 20, Loss 0.079\n",
      "Training Accuracy: 0.9310, Testing Accuracy: 0.9340\n",
      "\n"
     ]
    },
    {
     "name": "stdout",
     "output_type": "stream",
     "text": [
      "Epoch 30, Loss 0.0679\n",
      "Training Accuracy: 0.9382, Testing Accuracy: 0.9476\n",
      "\n"
     ]
    },
    {
     "name": "stdout",
     "output_type": "stream",
     "text": [
      "Epoch 40, Loss 0.0612\n",
      "Training Accuracy: 0.9420, Testing Accuracy: 0.9521\n",
      "\n"
     ]
    },
    {
     "name": "stdout",
     "output_type": "stream",
     "text": [
      "Epoch 50, Loss 0.0567\n",
      "Training Accuracy: 0.9459, Testing Accuracy: 0.9526\n",
      "\n"
     ]
    },
    {
     "name": "stdout",
     "output_type": "stream",
     "text": [
      "Epoch 60, Loss 0.0534\n",
      "Training Accuracy: 0.9488, Testing Accuracy: 0.9551\n",
      "\n"
     ]
    },
    {
     "name": "stdout",
     "output_type": "stream",
     "text": [
      "Epoch 70, Loss 0.0509\n",
      "Training Accuracy: 0.9503, Testing Accuracy: 0.9582\n",
      "\n"
     ]
    },
    {
     "name": "stdout",
     "output_type": "stream",
     "text": [
      "Epoch 80, Loss 0.0488\n",
      "Training Accuracy: 0.9516, Testing Accuracy: 0.9607\n",
      "\n"
     ]
    },
    {
     "name": "stdout",
     "output_type": "stream",
     "text": [
      "Epoch 90, Loss 0.0472\n",
      "Training Accuracy: 0.9528, Testing Accuracy: 0.9622\n",
      "\n"
     ]
    },
    {
     "name": "stdout",
     "output_type": "stream",
     "text": [
      "Epoch 100, Loss 0.0458\n",
      "Training Accuracy: 0.9542, Testing Accuracy: 0.9622\n",
      "\n"
     ]
    },
    {
     "name": "stdout",
     "output_type": "stream",
     "text": [
      "Epoch 110, Loss 0.0446\n",
      "Training Accuracy: 0.9549, Testing Accuracy: 0.9637\n",
      "\n"
     ]
    },
    {
     "name": "stdout",
     "output_type": "stream",
     "text": [
      "Epoch 120, Loss 0.0435\n",
      "Training Accuracy: 0.9564, Testing Accuracy: 0.9652\n",
      "\n"
     ]
    },
    {
     "name": "stdout",
     "output_type": "stream",
     "text": [
      "Epoch 130, Loss 0.0426\n",
      "Training Accuracy: 0.9564, Testing Accuracy: 0.9652\n",
      "\n"
     ]
    },
    {
     "name": "stdout",
     "output_type": "stream",
     "text": [
      "Epoch 140, Loss 0.0418\n",
      "Training Accuracy: 0.9576, Testing Accuracy: 0.9652\n",
      "\n"
     ]
    },
    {
     "name": "stdout",
     "output_type": "stream",
     "text": [
      "Epoch 150, Loss 0.0411\n",
      "Training Accuracy: 0.9579, Testing Accuracy: 0.9657\n",
      "\n"
     ]
    },
    {
     "name": "stdout",
     "output_type": "stream",
     "text": [
      "Epoch 160, Loss 0.0404\n",
      "Training Accuracy: 0.9581, Testing Accuracy: 0.9667\n",
      "\n"
     ]
    },
    {
     "name": "stdout",
     "output_type": "stream",
     "text": [
      "Epoch 170, Loss 0.0398\n",
      "Training Accuracy: 0.9584, Testing Accuracy: 0.9667\n",
      "\n"
     ]
    },
    {
     "name": "stdout",
     "output_type": "stream",
     "text": [
      "Epoch 180, Loss 0.0393\n",
      "Training Accuracy: 0.9589, Testing Accuracy: 0.9667\n",
      "\n"
     ]
    },
    {
     "name": "stdout",
     "output_type": "stream",
     "text": [
      "Epoch 190, Loss 0.0388\n",
      "Training Accuracy: 0.9595, Testing Accuracy: 0.9672\n",
      "\n"
     ]
    },
    {
     "name": "stdout",
     "output_type": "stream",
     "text": [
      "Epoch 200, Loss 0.0383\n",
      "Training Accuracy: 0.9597, Testing Accuracy: 0.9672\n",
      "\n"
     ]
    },
    {
     "name": "stdout",
     "output_type": "stream",
     "text": [
      "Epoch 210, Loss 0.0379\n",
      "Training Accuracy: 0.9599, Testing Accuracy: 0.9672\n",
      "\n"
     ]
    },
    {
     "name": "stdout",
     "output_type": "stream",
     "text": [
      "Epoch 220, Loss 0.0375\n",
      "Training Accuracy: 0.9603, Testing Accuracy: 0.9677\n",
      "\n"
     ]
    },
    {
     "name": "stdout",
     "output_type": "stream",
     "text": [
      "Epoch 230, Loss 0.0371\n",
      "Training Accuracy: 0.9604, Testing Accuracy: 0.9677\n",
      "\n"
     ]
    },
    {
     "name": "stdout",
     "output_type": "stream",
     "text": [
      "Epoch 240, Loss 0.0368\n",
      "Training Accuracy: 0.9610, Testing Accuracy: 0.9672\n",
      "\n"
     ]
    },
    {
     "data": {
      "text/plain": [
       "0.06446025370243666"
      ]
     },
     "execution_count": 23,
     "metadata": {},
     "output_type": "execute_result"
    }
   ],
   "source": [
    "lr_learner.train_loop(dl)"
   ]
  },
  {
   "cell_type": "code",
   "execution_count": 24,
   "id": "ca410940",
   "metadata": {
    "execution": {
     "iopub.execute_input": "2022-04-14T00:42:11.905046Z",
     "iopub.status.busy": "2022-04-14T00:42:11.904471Z",
     "iopub.status.idle": "2022-04-14T00:42:12.147094Z",
     "shell.execute_reply": "2022-04-14T00:42:12.146596Z"
    },
    "papermill": {
     "duration": 0.293233,
     "end_time": "2022-04-14T00:42:12.147228",
     "exception": false,
     "start_time": "2022-04-14T00:42:11.853995",
     "status": "completed"
    },
    "tags": []
   },
   "outputs": [
    {
     "data": {
      "text/plain": [
       "<matplotlib.legend.Legend at 0x7fb6618c4ac8>"
      ]
     },
     "execution_count": 24,
     "metadata": {},
     "output_type": "execute_result"
    },
    {
     "data": {
      "image/png": "[encoded data removed]",
      "text/plain": [
       "<Figure size 1080x720 with 1 Axes>"
      ]
     },
     "metadata": {
      "needs_background": "light"
     },
     "output_type": "display_data"
    }
   ],
   "source": [
    "#comparing the results of NN and LR\n",
    "plt.figure(figsize=(15,10))\n",
    "\n",
    "# Neural Network plots\n",
    "plt.plot(acc_nn.accuracies, 'r-', label = \"Training Accuracies - NN\")\n",
    "plt.plot(acc_nn.test_accuracies, 'g-', label = \"Testing Accuracies - NN\")\n",
    "\n",
    "# Logistic Regression plots\n",
    "plt.plot(acc_lr.accuracies, 'k-', label = \"Training Accuracies - LR\")\n",
    "plt.plot(acc_lr.test_accuracies, 'b-', label = \"Testing Accuracies - LR\")\n",
    "plt.legend()"
   ]
  },
  {
   "cell_type": "markdown",
   "id": "80dfb35c",
   "metadata": {
    "papermill": {
     "duration": 0.042722,
     "end_time": "2022-04-14T00:42:12.232920",
     "exception": false,
     "start_time": "2022-04-14T00:42:12.190198",
     "status": "completed"
    },
    "tags": []
   },
   "source": [
    "#### Plotting the outputs of this layer of the NN.\n"
   ]
  },
  {
   "cell_type": "code",
   "execution_count": 25,
   "id": "45eb2ff5",
   "metadata": {
    "execution": {
     "iopub.execute_input": "2022-04-14T00:42:12.333791Z",
     "iopub.status.busy": "2022-04-14T00:42:12.332744Z",
     "iopub.status.idle": "2022-04-14T00:42:12.350559Z",
     "shell.execute_reply": "2022-04-14T00:42:12.351052Z"
    },
    "papermill": {
     "duration": 0.075506,
     "end_time": "2022-04-14T00:42:12.351214",
     "exception": false,
     "start_time": "2022-04-14T00:42:12.275708",
     "status": "completed"
    },
    "tags": []
   },
   "outputs": [],
   "source": [
    "new_model = Model(layers[:-2])\n",
    "testing_plot = new_model(testing_data_x)"
   ]
  },
  {
   "cell_type": "code",
   "execution_count": 26,
   "id": "4c0a5485",
   "metadata": {
    "execution": {
     "iopub.execute_input": "2022-04-14T00:42:12.448378Z",
     "iopub.status.busy": "2022-04-14T00:42:12.447820Z",
     "iopub.status.idle": "2022-04-14T00:42:12.644986Z",
     "shell.execute_reply": "2022-04-14T00:42:12.644513Z"
    },
    "papermill": {
     "duration": 0.250699,
     "end_time": "2022-04-14T00:42:12.645111",
     "exception": false,
     "start_time": "2022-04-14T00:42:12.394412",
     "status": "completed"
    },
    "tags": []
   },
   "outputs": [
    {
     "data": {
      "text/plain": [
       "Text(0.5, 1.0, 'Outputs')"
      ]
     },
     "execution_count": 26,
     "metadata": {},
     "output_type": "execute_result"
    },
    {
     "data": {
      "image/png": "[encoded data removed]",
      "text/plain": [
       "<Figure size 576x504 with 1 Axes>"
      ]
     },
     "metadata": {
      "needs_background": "light"
     },
     "output_type": "display_data"
    }
   ],
   "source": [
    "# Plotting the scatter plot of points and color coding by class\n",
    "plt.figure(figsize=(8,7))\n",
    "plt.scatter(testing_plot[:,0], testing_plot[:,1], alpha = 0.1, c = y_test.ravel());\n",
    "plt.title('Outputs')"
   ]
  },
  {
   "cell_type": "markdown",
   "id": "a74fcf8f",
   "metadata": {
    "papermill": {
     "duration": 0.044718,
     "end_time": "2022-04-14T00:42:12.734709",
     "exception": false,
     "start_time": "2022-04-14T00:42:12.689991",
     "status": "completed"
    },
    "tags": []
   },
   "source": [
    "Probability contours"
   ]
  },
  {
   "cell_type": "code",
   "execution_count": 27,
   "id": "d0afc8e3",
   "metadata": {
    "execution": {
     "iopub.execute_input": "2022-04-14T00:42:12.828939Z",
     "iopub.status.busy": "2022-04-14T00:42:12.827892Z",
     "iopub.status.idle": "2022-04-14T00:42:12.842705Z",
     "shell.execute_reply": "2022-04-14T00:42:12.841676Z"
    },
    "papermill": {
     "duration": 0.06332,
     "end_time": "2022-04-14T00:42:12.842866",
     "exception": false,
     "start_time": "2022-04-14T00:42:12.779546",
     "status": "completed"
    },
    "tags": []
   },
   "outputs": [],
   "source": [
    "model_prob = Model(layers[-2:]) "
   ]
  },
  {
   "cell_type": "code",
   "execution_count": 28,
   "id": "9b96e238",
   "metadata": {
    "execution": {
     "iopub.execute_input": "2022-04-14T00:42:12.939754Z",
     "iopub.status.busy": "2022-04-14T00:42:12.939094Z",
     "iopub.status.idle": "2022-04-14T00:42:12.953790Z",
     "shell.execute_reply": "2022-04-14T00:42:12.954274Z"
    },
    "papermill": {
     "duration": 0.066741,
     "end_time": "2022-04-14T00:42:12.954451",
     "exception": false,
     "start_time": "2022-04-14T00:42:12.887710",
     "status": "completed"
    },
    "tags": []
   },
   "outputs": [],
   "source": [
    "#creating the x and y ranges according to the above generated plot.\n",
    "x_range = np.linspace(-4, 1, 100) \n",
    "y_range = np.linspace(-6, 6, 100) \n",
    "x_grid, y_grid = np.meshgrid(x_range, y_range) # x_grid and y_grig are of size 100 X 100\n",
    "\n",
    "# converting x_grid and y_grid to continuous arrays\n",
    "x_gridflat = np.ravel(x_grid)\n",
    "y_gridflat = np.ravel(y_grid)\n",
    "\n",
    "# The last layer of the current model takes two columns as input. Hence transpose of np.vstack() is required.\n",
    "X = np.vstack((x_gridflat, y_gridflat)).T\n",
    "\n",
    "prob_contour = model_prob(X).reshape(100,100) "
   ]
  },
  {
   "cell_type": "code",
   "execution_count": 29,
   "id": "da72499a",
   "metadata": {
    "execution": {
     "iopub.execute_input": "2022-04-14T00:42:13.096725Z",
     "iopub.status.busy": "2022-04-14T00:42:13.096196Z",
     "iopub.status.idle": "2022-04-14T00:42:13.347036Z",
     "shell.execute_reply": "2022-04-14T00:42:13.347472Z"
    },
    "papermill": {
     "duration": 0.342548,
     "end_time": "2022-04-14T00:42:13.347621",
     "exception": false,
     "start_time": "2022-04-14T00:42:13.005073",
     "status": "completed"
    },
    "tags": []
   },
   "outputs": [
    {
     "data": {
      "image/png": "[encoded data removed]",
      "text/plain": [
       "<Figure size 720x648 with 1 Axes>"
      ]
     },
     "metadata": {
      "needs_background": "light"
     },
     "output_type": "display_data"
    }
   ],
   "source": [
    "plt.figure(figsize=(10,9))\n",
    "plt.scatter(testing_plot[:,0], testing_plot[:,1], alpha = 0.1, c = y_test.ravel())\n",
    "contours = plt.contour(x_grid,y_grid,prob_contour)\n",
    "plt.title('Probability Contours')\n",
    "plt.clabel(contours, inline = True );"
   ]
  },
  {
   "cell_type": "code",
   "execution_count": null,
   "id": "e81b4ac7",
   "metadata": {
    "papermill": {
     "duration": 0.049175,
     "end_time": "2022-04-14T00:42:13.446910",
     "exception": false,
     "start_time": "2022-04-14T00:42:13.397735",
     "status": "completed"
    },
    "tags": []
   },
   "outputs": [],
   "source": []
  }
 ],
 "metadata": {
  "kernelspec": {
   "display_name": "Python 3",
   "language": "python",
   "name": "python3"
  },
  "language_info": {
   "codemirror_mode": {
    "name": "ipython",
    "version": 3
   },
   "file_extension": ".py",
   "mimetype": "text/x-python",
   "name": "python",
   "nbconvert_exporter": "python",
   "pygments_lexer": "ipython3",
   "version": "3.6.15"
  },
  "papermill": {
   "default_parameters": {},
   "duration": 102.240153,
   "end_time": "2022-04-14T00:42:14.016556",
   "environment_variables": {},
   "exception": null,
   "input_path": "2020-08-11-part2.ipynb",
   "output_path": "2020-08-11-part2.ipynb",
   "parameters": {},
   "start_time": "2022-04-14T00:40:31.776403",
   "version": "2.3.3"
  }
 },
 "nbformat": 4,
 "nbformat_minor": 5
}