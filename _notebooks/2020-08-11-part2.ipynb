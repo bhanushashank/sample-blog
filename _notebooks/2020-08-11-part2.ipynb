{
 "cells": [
  {
   "cell_type": "markdown",
   "id": "98380cd3",
   "metadata": {
    "papermill": {
     "duration": 0.036208,
     "end_time": "2022-10-29T10:11:42.679222",
     "exception": false,
     "start_time": "2022-10-29T10:11:42.643014",
     "status": "completed"
    },
    "tags": []
   },
   "source": [
    "# Distinguish Your Own Digits (DYOD)"
   ]
  },
  {
   "cell_type": "markdown",
   "id": "ef31240d",
   "metadata": {
    "papermill": {
     "duration": 0.031617,
     "end_time": "2022-10-29T10:11:42.744272",
     "exception": false,
     "start_time": "2022-10-29T10:11:42.712655",
     "status": "completed"
    },
    "tags": []
   },
   "source": [
    "You are going to write a classifier that distinguishes between the number 3 and number 8."
   ]
  },
  {
   "cell_type": "code",
   "execution_count": 1,
   "id": "b15c8646",
   "metadata": {
    "execution": {
     "iopub.execute_input": "2022-10-29T10:11:42.822498Z",
     "iopub.status.busy": "2022-10-29T10:11:42.817603Z",
     "iopub.status.idle": "2022-10-29T10:11:42.835962Z",
     "shell.execute_reply": "2022-10-29T10:11:42.836632Z"
    },
    "papermill": {
     "duration": 0.059622,
     "end_time": "2022-10-29T10:11:42.836821",
     "exception": false,
     "start_time": "2022-10-29T10:11:42.777199",
     "status": "completed"
    },
    "tags": []
   },
   "outputs": [],
   "source": [
    "%load_ext autoreload\n",
    "%autoreload 2"
   ]
  },
  {
   "cell_type": "code",
   "execution_count": 2,
   "id": "22ef38dc",
   "metadata": {
    "execution": {
     "iopub.execute_input": "2022-10-29T10:11:42.916585Z",
     "iopub.status.busy": "2022-10-29T10:11:42.909873Z",
     "iopub.status.idle": "2022-10-29T10:11:43.604725Z",
     "shell.execute_reply": "2022-10-29T10:11:43.604069Z"
    },
    "papermill": {
     "duration": 0.736035,
     "end_time": "2022-10-29T10:11:43.604886",
     "exception": false,
     "start_time": "2022-10-29T10:11:42.868851",
     "status": "completed"
    },
    "tags": []
   },
   "outputs": [],
   "source": [
    "%matplotlib inline\n",
    "import numpy as np\n",
    "import matplotlib.pyplot as plt\n",
    "import pandas as pd"
   ]
  },
  {
   "cell_type": "markdown",
   "id": "ba036198",
   "metadata": {
    "papermill": {
     "duration": 0.02992,
     "end_time": "2022-10-29T10:11:43.665815",
     "exception": false,
     "start_time": "2022-10-29T10:11:43.635895",
     "status": "completed"
    },
    "tags": []
   },
   "source": [
    "From the command line run `pip install mnist`. This is a library that will help you bring down the mnist dataset. If you run this from a notebook, you need to put  `!pip install mnist` in a cell by itself."
   ]
  },
  {
   "cell_type": "code",
   "execution_count": 3,
   "id": "bb6ad8a1",
   "metadata": {
    "execution": {
     "iopub.execute_input": "2022-10-29T10:11:43.737269Z",
     "iopub.status.busy": "2022-10-29T10:11:43.736503Z",
     "iopub.status.idle": "2022-10-29T10:11:45.832925Z",
     "shell.execute_reply": "2022-10-29T10:11:45.832282Z"
    },
    "papermill": {
     "duration": 2.137059,
     "end_time": "2022-10-29T10:11:45.833082",
     "exception": false,
     "start_time": "2022-10-29T10:11:43.696023",
     "status": "completed"
    },
    "tags": []
   },
   "outputs": [
    {
     "name": "stdout",
     "output_type": "stream",
     "text": [
      "Collecting mnist\r\n",
      "  Downloading mnist-0.2.2-py2.py3-none-any.whl (3.5 kB)\r\n",
      "Requirement already satisfied: numpy in /opt/hostedtoolcache/Python/3.6.15/x64/lib/python3.6/site-packages (from mnist) (1.19.5)\r\n"
     ]
    },
    {
     "name": "stdout",
     "output_type": "stream",
     "text": [
      "Installing collected packages: mnist\r\n"
     ]
    },
    {
     "name": "stdout",
     "output_type": "stream",
     "text": [
      "Successfully installed mnist-0.2.2\r\n"
     ]
    }
   ],
   "source": [
    "!pip install mnist"
   ]
  },
  {
   "cell_type": "markdown",
   "id": "69df9c9a",
   "metadata": {
    "papermill": {
     "duration": 0.032526,
     "end_time": "2022-10-29T10:11:45.898080",
     "exception": false,
     "start_time": "2022-10-29T10:11:45.865554",
     "status": "completed"
    },
    "tags": []
   },
   "source": [
    "## Preparing the Data"
   ]
  },
  {
   "cell_type": "code",
   "execution_count": 4,
   "id": "7f69d806",
   "metadata": {
    "execution": {
     "iopub.execute_input": "2022-10-29T10:11:45.966687Z",
     "iopub.status.busy": "2022-10-29T10:11:45.965933Z",
     "iopub.status.idle": "2022-10-29T10:11:45.984132Z",
     "shell.execute_reply": "2022-10-29T10:11:45.984757Z"
    },
    "papermill": {
     "duration": 0.054097,
     "end_time": "2022-10-29T10:11:45.984912",
     "exception": false,
     "start_time": "2022-10-29T10:11:45.930815",
     "status": "completed"
    },
    "tags": []
   },
   "outputs": [],
   "source": [
    "import mnist"
   ]
  },
  {
   "cell_type": "code",
   "execution_count": 5,
   "id": "a411e44f",
   "metadata": {
    "execution": {
     "iopub.execute_input": "2022-10-29T10:11:46.056752Z",
     "iopub.status.busy": "2022-10-29T10:11:46.055932Z",
     "iopub.status.idle": "2022-10-29T10:11:46.618153Z",
     "shell.execute_reply": "2022-10-29T10:11:46.617442Z"
    },
    "papermill": {
     "duration": 0.601468,
     "end_time": "2022-10-29T10:11:46.618376",
     "exception": false,
     "start_time": "2022-10-29T10:11:46.016908",
     "status": "completed"
    },
    "tags": []
   },
   "outputs": [],
   "source": [
    "train_images = mnist.train_images()\n",
    "train_labels = mnist.train_labels()"
   ]
  },
  {
   "cell_type": "code",
   "execution_count": 6,
   "id": "dceab3a5",
   "metadata": {
    "execution": {
     "iopub.execute_input": "2022-10-29T10:11:46.693875Z",
     "iopub.status.busy": "2022-10-29T10:11:46.693082Z",
     "iopub.status.idle": "2022-10-29T10:11:46.715244Z",
     "shell.execute_reply": "2022-10-29T10:11:46.716061Z"
    },
    "papermill": {
     "duration": 0.062571,
     "end_time": "2022-10-29T10:11:46.716423",
     "exception": false,
     "start_time": "2022-10-29T10:11:46.653852",
     "status": "completed"
    },
    "tags": []
   },
   "outputs": [
    {
     "data": {
      "text/plain": [
       "((60000, 28, 28), (60000,))"
      ]
     },
     "execution_count": 6,
     "metadata": {},
     "output_type": "execute_result"
    }
   ],
   "source": [
    "train_images.shape, train_labels.shape"
   ]
  },
  {
   "cell_type": "code",
   "execution_count": 7,
   "id": "f50dc2bb",
   "metadata": {
    "execution": {
     "iopub.execute_input": "2022-10-29T10:11:46.792950Z",
     "iopub.status.busy": "2022-10-29T10:11:46.792038Z",
     "iopub.status.idle": "2022-10-29T10:11:46.910634Z",
     "shell.execute_reply": "2022-10-29T10:11:46.909732Z"
    },
    "papermill": {
     "duration": 0.156774,
     "end_time": "2022-10-29T10:11:46.910830",
     "exception": false,
     "start_time": "2022-10-29T10:11:46.754056",
     "status": "completed"
    },
    "tags": []
   },
   "outputs": [],
   "source": [
    "test_images = mnist.test_images()\n",
    "test_labels = mnist.test_labels()"
   ]
  },
  {
   "cell_type": "code",
   "execution_count": 8,
   "id": "fc38cf1b",
   "metadata": {
    "execution": {
     "iopub.execute_input": "2022-10-29T10:11:46.988573Z",
     "iopub.status.busy": "2022-10-29T10:11:46.987777Z",
     "iopub.status.idle": "2022-10-29T10:11:47.004345Z",
     "shell.execute_reply": "2022-10-29T10:11:47.003445Z"
    },
    "papermill": {
     "duration": 0.057838,
     "end_time": "2022-10-29T10:11:47.004487",
     "exception": false,
     "start_time": "2022-10-29T10:11:46.946649",
     "status": "completed"
    },
    "tags": []
   },
   "outputs": [
    {
     "data": {
      "text/plain": [
       "((10000, 28, 28), (10000,))"
      ]
     },
     "execution_count": 8,
     "metadata": {},
     "output_type": "execute_result"
    }
   ],
   "source": [
    "test_images.shape, test_labels.shape"
   ]
  },
  {
   "cell_type": "code",
   "execution_count": 9,
   "id": "f9ed8fe0",
   "metadata": {
    "execution": {
     "iopub.execute_input": "2022-10-29T10:11:47.083684Z",
     "iopub.status.busy": "2022-10-29T10:11:47.082870Z",
     "iopub.status.idle": "2022-10-29T10:11:47.282786Z",
     "shell.execute_reply": "2022-10-29T10:11:47.282159Z"
    },
    "papermill": {
     "duration": 0.242194,
     "end_time": "2022-10-29T10:11:47.282933",
     "exception": false,
     "start_time": "2022-10-29T10:11:47.040739",
     "status": "completed"
    },
    "tags": []
   },
   "outputs": [
    {
     "name": "stdout",
     "output_type": "stream",
     "text": [
      "2\n"
     ]
    },
    {
     "data": {
      "text/plain": [
       "<matplotlib.image.AxesImage at 0x7feff3fcd278>"
      ]
     },
     "execution_count": 9,
     "metadata": {},
     "output_type": "execute_result"
    },
    {
     "data": {
      "image/png": "[encoded data removed]",
      "text/plain": [
       "<Figure size 432x288 with 1 Axes>"
      ]
     },
     "metadata": {
      "needs_background": "light"
     },
     "output_type": "display_data"
    }
   ],
   "source": [
    "image_index = 7776 # You may select anything up to 60,000\n",
    "print(train_labels[image_index]) \n",
    "plt.imshow(train_images[image_index], cmap='Greys')"
   ]
  },
  {
   "cell_type": "markdown",
   "id": "a8d2388d",
   "metadata": {
    "papermill": {
     "duration": 0.035969,
     "end_time": "2022-10-29T10:11:47.354680",
     "exception": false,
     "start_time": "2022-10-29T10:11:47.318711",
     "status": "completed"
    },
    "tags": []
   },
   "source": [
    "## Filter data to get 3 and 8 out"
   ]
  },
  {
   "cell_type": "code",
   "execution_count": 10,
   "id": "776f7fc7",
   "metadata": {
    "execution": {
     "iopub.execute_input": "2022-10-29T10:11:47.431150Z",
     "iopub.status.busy": "2022-10-29T10:11:47.429592Z",
     "iopub.status.idle": "2022-10-29T10:11:47.452832Z",
     "shell.execute_reply": "2022-10-29T10:11:47.451999Z"
    },
    "papermill": {
     "duration": 0.062599,
     "end_time": "2022-10-29T10:11:47.452990",
     "exception": false,
     "start_time": "2022-10-29T10:11:47.390391",
     "status": "completed"
    },
    "tags": []
   },
   "outputs": [],
   "source": [
    "train_filter = np.where((train_labels == 3 ) | (train_labels == 8))\n",
    "test_filter = np.where((test_labels == 3) | (test_labels == 8))\n",
    "X_train, y_train = train_images[train_filter], train_labels[train_filter]\n",
    "X_test, y_test = test_images[test_filter], test_labels[test_filter]"
   ]
  },
  {
   "cell_type": "markdown",
   "id": "948f0b7e",
   "metadata": {
    "papermill": {
     "duration": 0.038214,
     "end_time": "2022-10-29T10:11:47.533799",
     "exception": false,
     "start_time": "2022-10-29T10:11:47.495585",
     "status": "completed"
    },
    "tags": []
   },
   "source": [
    "We normalize the pizel values in the 0 to 1 range"
   ]
  },
  {
   "cell_type": "code",
   "execution_count": 11,
   "id": "ee4c2166",
   "metadata": {
    "execution": {
     "iopub.execute_input": "2022-10-29T10:11:47.609513Z",
     "iopub.status.busy": "2022-10-29T10:11:47.608774Z",
     "iopub.status.idle": "2022-10-29T10:11:47.681753Z",
     "shell.execute_reply": "2022-10-29T10:11:47.680382Z"
    },
    "papermill": {
     "duration": 0.112782,
     "end_time": "2022-10-29T10:11:47.681907",
     "exception": false,
     "start_time": "2022-10-29T10:11:47.569125",
     "status": "completed"
    },
    "tags": []
   },
   "outputs": [],
   "source": [
    "X_train = X_train/255.\n",
    "X_test = X_test/255."
   ]
  },
  {
   "cell_type": "markdown",
   "id": "ddcf4fab",
   "metadata": {
    "papermill": {
     "duration": 0.036072,
     "end_time": "2022-10-29T10:11:47.754607",
     "exception": false,
     "start_time": "2022-10-29T10:11:47.718535",
     "status": "completed"
    },
    "tags": []
   },
   "source": [
    "And setup the labels as 1 (when the digit is 3) and 0 (when the digit is 8)"
   ]
  },
  {
   "cell_type": "code",
   "execution_count": 12,
   "id": "7dc908f2",
   "metadata": {
    "execution": {
     "iopub.execute_input": "2022-10-29T10:11:47.837693Z",
     "iopub.status.busy": "2022-10-29T10:11:47.836934Z",
     "iopub.status.idle": "2022-10-29T10:11:47.852220Z",
     "shell.execute_reply": "2022-10-29T10:11:47.852945Z"
    },
    "papermill": {
     "duration": 0.060247,
     "end_time": "2022-10-29T10:11:47.853100",
     "exception": false,
     "start_time": "2022-10-29T10:11:47.792853",
     "status": "completed"
    },
    "tags": []
   },
   "outputs": [],
   "source": [
    "y_train = 1*(y_train==3)\n",
    "y_test = 1*(y_test==3)"
   ]
  },
  {
   "cell_type": "code",
   "execution_count": 13,
   "id": "01e4e969",
   "metadata": {
    "execution": {
     "iopub.execute_input": "2022-10-29T10:11:47.929334Z",
     "iopub.status.busy": "2022-10-29T10:11:47.928411Z",
     "iopub.status.idle": "2022-10-29T10:11:47.946349Z",
     "shell.execute_reply": "2022-10-29T10:11:47.947035Z"
    },
    "papermill": {
     "duration": 0.059468,
     "end_time": "2022-10-29T10:11:47.947194",
     "exception": false,
     "start_time": "2022-10-29T10:11:47.887726",
     "status": "completed"
    },
    "tags": []
   },
   "outputs": [
    {
     "data": {
      "text/plain": [
       "((11982, 28, 28), (1984, 28, 28))"
      ]
     },
     "execution_count": 13,
     "metadata": {},
     "output_type": "execute_result"
    }
   ],
   "source": [
    "X_train.shape, X_test.shape"
   ]
  },
  {
   "cell_type": "markdown",
   "id": "5ccf3f85",
   "metadata": {
    "papermill": {
     "duration": 0.035479,
     "end_time": "2022-10-29T10:11:48.019113",
     "exception": false,
     "start_time": "2022-10-29T10:11:47.983634",
     "status": "completed"
    },
    "tags": []
   },
   "source": [
    "We reshape the data to flatten the image pixels into a set of features or co-variates:"
   ]
  },
  {
   "cell_type": "code",
   "execution_count": 14,
   "id": "5286a4a3",
   "metadata": {
    "execution": {
     "iopub.execute_input": "2022-10-29T10:11:48.093551Z",
     "iopub.status.busy": "2022-10-29T10:11:48.092828Z",
     "iopub.status.idle": "2022-10-29T10:11:48.112549Z",
     "shell.execute_reply": "2022-10-29T10:11:48.113258Z"
    },
    "papermill": {
     "duration": 0.059466,
     "end_time": "2022-10-29T10:11:48.113410",
     "exception": false,
     "start_time": "2022-10-29T10:11:48.053944",
     "status": "completed"
    },
    "tags": []
   },
   "outputs": [
    {
     "data": {
      "text/plain": [
       "((11982, 784), (1984, 784))"
      ]
     },
     "execution_count": 14,
     "metadata": {},
     "output_type": "execute_result"
    }
   ],
   "source": [
    "X_train = X_train.reshape(X_train.shape[0], -1)\n",
    "X_test = X_test.reshape(X_test.shape[0], -1)\n",
    "X_train.shape, X_test.shape"
   ]
  },
  {
   "cell_type": "code",
   "execution_count": 15,
   "id": "73c5f88a",
   "metadata": {
    "execution": {
     "iopub.execute_input": "2022-10-29T10:11:48.193274Z",
     "iopub.status.busy": "2022-10-29T10:11:48.192362Z",
     "iopub.status.idle": "2022-10-29T10:11:48.216290Z",
     "shell.execute_reply": "2022-10-29T10:11:48.217109Z"
    },
    "papermill": {
     "duration": 0.06749,
     "end_time": "2022-10-29T10:11:48.217373",
     "exception": false,
     "start_time": "2022-10-29T10:11:48.149883",
     "status": "completed"
    },
    "tags": []
   },
   "outputs": [],
   "source": [
    "#Impoting functions from 'Kudzu'\n",
    "from kudzu.model import Model\n",
    "from kudzu.train import Learner\n",
    "from kudzu.optim import GD\n",
    "from kudzu.data import Data, Sampler,Dataloader\n",
    "\n",
    "from kudzu.callbacks import AccCallback\n",
    "from kudzu.callbacks import ClfCallback\n",
    "\n",
    "from kudzu.loss import MSE\n",
    "\n",
    "from kudzu.layer import Sigmoid,Relu\n",
    "from kudzu.layer import Affine"
   ]
  },
  {
   "cell_type": "markdown",
   "id": "bc01172a",
   "metadata": {
    "papermill": {
     "duration": 0.035218,
     "end_time": "2022-10-29T10:11:48.288046",
     "exception": false,
     "start_time": "2022-10-29T10:11:48.252828",
     "status": "completed"
    },
    "tags": []
   },
   "source": [
    "### Let us create a `Config` class, to store important parameters. \n",
    "This class essentially plays the role of a dictionary."
   ]
  },
  {
   "cell_type": "code",
   "execution_count": 16,
   "id": "978281aa",
   "metadata": {
    "execution": {
     "iopub.execute_input": "2022-10-29T10:11:48.363696Z",
     "iopub.status.busy": "2022-10-29T10:11:48.362831Z",
     "iopub.status.idle": "2022-10-29T10:11:48.377273Z",
     "shell.execute_reply": "2022-10-29T10:11:48.376140Z"
    },
    "papermill": {
     "duration": 0.055761,
     "end_time": "2022-10-29T10:11:48.377493",
     "exception": false,
     "start_time": "2022-10-29T10:11:48.321732",
     "status": "completed"
    },
    "tags": []
   },
   "outputs": [],
   "source": [
    "class Config:\n",
    "    pass\n",
    "config = Config()\n",
    "config.lr = 0.001\n",
    "config.num_epochs = 250\n",
    "config.bs = 50"
   ]
  },
  {
   "cell_type": "markdown",
   "id": "1385fa59",
   "metadata": {
    "papermill": {
     "duration": 0.039212,
     "end_time": "2022-10-29T10:11:48.454650",
     "exception": false,
     "start_time": "2022-10-29T10:11:48.415438",
     "status": "completed"
    },
    "tags": []
   },
   "source": [
    "### Running Models with the Training data\n",
    "Details about the network layers:\n",
    "- A first affine layer has 784 inputs and does 100 affine transforms. These are followed by a Relu\n",
    "- A second affine layer has 100 inputs from the 100 activations of the past layer, and does 100 affine transforms. These are followed by a Relu\n",
    "- A third affine layer has 100 activations and does 2 affine transformations to create an embedding for visualization. There is no non-linearity here.\n",
    "- A final \"logistic regression\" which has an affine transform from 2 inputs to 1 output, which is squeezed through a sigmoid.\n"
   ]
  },
  {
   "cell_type": "code",
   "execution_count": 17,
   "id": "2b9c66db",
   "metadata": {
    "execution": {
     "iopub.execute_input": "2022-10-29T10:11:48.535801Z",
     "iopub.status.busy": "2022-10-29T10:11:48.534812Z",
     "iopub.status.idle": "2022-10-29T10:11:48.552544Z",
     "shell.execute_reply": "2022-10-29T10:11:48.551776Z"
    },
    "papermill": {
     "duration": 0.060668,
     "end_time": "2022-10-29T10:11:48.552694",
     "exception": false,
     "start_time": "2022-10-29T10:11:48.492026",
     "status": "completed"
    },
    "tags": []
   },
   "outputs": [],
   "source": [
    "data = Data(X_train, y_train.reshape(-1,1))\n",
    "sampler = Sampler(data, config.bs, shuffle=True)\n",
    "\n",
    "dl = Dataloader(data, sampler)\n",
    "\n",
    "opt = GD(config.lr)\n",
    "loss = MSE()"
   ]
  },
  {
   "cell_type": "code",
   "execution_count": 18,
   "id": "b275e4c2",
   "metadata": {
    "execution": {
     "iopub.execute_input": "2022-10-29T10:11:48.639812Z",
     "iopub.status.busy": "2022-10-29T10:11:48.638695Z",
     "iopub.status.idle": "2022-10-29T10:11:48.654844Z",
     "shell.execute_reply": "2022-10-29T10:11:48.655473Z"
    },
    "papermill": {
     "duration": 0.061942,
     "end_time": "2022-10-29T10:11:48.655637",
     "exception": false,
     "start_time": "2022-10-29T10:11:48.593695",
     "status": "completed"
    },
    "tags": []
   },
   "outputs": [],
   "source": [
    "training_data_x = X_train\n",
    "testing_data_x = X_test\n",
    "training_data_y = y_train.reshape(-1,1)\n",
    "testing_data_y = y_test.reshape(-1,1)"
   ]
  },
  {
   "cell_type": "code",
   "execution_count": 19,
   "id": "76951160",
   "metadata": {
    "execution": {
     "iopub.execute_input": "2022-10-29T10:11:48.740701Z",
     "iopub.status.busy": "2022-10-29T10:11:48.739770Z",
     "iopub.status.idle": "2022-10-29T10:11:48.757843Z",
     "shell.execute_reply": "2022-10-29T10:11:48.758561Z"
    },
    "papermill": {
     "duration": 0.064409,
     "end_time": "2022-10-29T10:11:48.758715",
     "exception": false,
     "start_time": "2022-10-29T10:11:48.694306",
     "status": "completed"
    },
    "tags": []
   },
   "outputs": [
    {
     "name": "stdout",
     "output_type": "stream",
     "text": [
      "xavier\n",
      "xavier\n",
      "xavier\n",
      "xavier\n",
      "xavier\n"
     ]
    }
   ],
   "source": [
    "layers = [Affine(\"first\", 784, 100), Relu(\"first\"), Affine(\"second\", 100, 100), Relu(\"second\"), Affine(\"third\", 100, 2), Affine(\"last\", 2, 1), Sigmoid(\"last\")]\n",
    "model_nn = Model(layers)\n",
    "model_lr = Model([Affine(\"logits\", 784, 1), Sigmoid(\"sigmoid\")])"
   ]
  },
  {
   "cell_type": "code",
   "execution_count": 20,
   "id": "6eede77a",
   "metadata": {
    "execution": {
     "iopub.execute_input": "2022-10-29T10:11:48.844677Z",
     "iopub.status.busy": "2022-10-29T10:11:48.843854Z",
     "iopub.status.idle": "2022-10-29T10:11:48.861260Z",
     "shell.execute_reply": "2022-10-29T10:11:48.860525Z"
    },
    "papermill": {
     "duration": 0.0636,
     "end_time": "2022-10-29T10:11:48.861438",
     "exception": false,
     "start_time": "2022-10-29T10:11:48.797838",
     "status": "completed"
    },
    "tags": []
   },
   "outputs": [],
   "source": [
    "nn_learner = Learner(loss, model_nn, opt, config.num_epochs)\n",
    "acc_nn = ClfCallback(nn_learner, config.bs, training_data_x , testing_data_x, training_data_y, testing_data_y)\n",
    "nn_learner.set_callbacks([acc_nn])"
   ]
  },
  {
   "cell_type": "code",
   "execution_count": 21,
   "id": "877b6cc7",
   "metadata": {
    "execution": {
     "iopub.execute_input": "2022-10-29T10:11:48.940853Z",
     "iopub.status.busy": "2022-10-29T10:11:48.939990Z",
     "iopub.status.idle": "2022-10-29T10:11:48.956277Z",
     "shell.execute_reply": "2022-10-29T10:11:48.956904Z"
    },
    "papermill": {
     "duration": 0.057899,
     "end_time": "2022-10-29T10:11:48.957076",
     "exception": false,
     "start_time": "2022-10-29T10:11:48.899177",
     "status": "completed"
    },
    "tags": []
   },
   "outputs": [],
   "source": [
    "lr_learner = Learner(loss, model_lr, opt, config.num_epochs)\n",
    "acc_lr = ClfCallback(lr_learner, config.bs, training_data_x , testing_data_x, training_data_y, testing_data_y)\n",
    "lr_learner.set_callbacks([acc_lr])"
   ]
  },
  {
   "cell_type": "code",
   "execution_count": 22,
   "id": "d9b133c3",
   "metadata": {
    "execution": {
     "iopub.execute_input": "2022-10-29T10:11:49.033379Z",
     "iopub.status.busy": "2022-10-29T10:11:49.032609Z",
     "iopub.status.idle": "2022-10-29T10:14:06.237876Z",
     "shell.execute_reply": "2022-10-29T10:14:06.239073Z"
    },
    "papermill": {
     "duration": 137.245845,
     "end_time": "2022-10-29T10:14:06.239242",
     "exception": false,
     "start_time": "2022-10-29T10:11:48.993397",
     "status": "completed"
    },
    "tags": []
   },
   "outputs": [
    {
     "name": "stdout",
     "output_type": "stream",
     "text": [
      "Epoch 0, Loss 0.2403\n",
      "Training Accuracy: 0.7376, Testing Accuracy: 0.7359\n",
      "\n"
     ]
    },
    {
     "name": "stdout",
     "output_type": "stream",
     "text": [
      "Epoch 10, Loss 0.0684\n",
      "Training Accuracy: 0.9355, Testing Accuracy: 0.9461\n",
      "\n"
     ]
    },
    {
     "name": "stdout",
     "output_type": "stream",
     "text": [
      "Epoch 20, Loss 0.0466\n",
      "Training Accuracy: 0.9500, Testing Accuracy: 0.9642\n",
      "\n"
     ]
    },
    {
     "name": "stdout",
     "output_type": "stream",
     "text": [
      "Epoch 30, Loss 0.0387\n",
      "Training Accuracy: 0.9568, Testing Accuracy: 0.9677\n",
      "\n"
     ]
    },
    {
     "name": "stdout",
     "output_type": "stream",
     "text": [
      "Epoch 40, Loss 0.0346\n",
      "Training Accuracy: 0.9612, Testing Accuracy: 0.9718\n",
      "\n"
     ]
    },
    {
     "name": "stdout",
     "output_type": "stream",
     "text": [
      "Epoch 50, Loss 0.0319\n",
      "Training Accuracy: 0.9634, Testing Accuracy: 0.9728\n",
      "\n"
     ]
    },
    {
     "name": "stdout",
     "output_type": "stream",
     "text": [
      "Epoch 60, Loss 0.0299\n",
      "Training Accuracy: 0.9656, Testing Accuracy: 0.9733\n",
      "\n"
     ]
    },
    {
     "name": "stdout",
     "output_type": "stream",
     "text": [
      "Epoch 70, Loss 0.0284\n",
      "Training Accuracy: 0.9666, Testing Accuracy: 0.9733\n",
      "\n"
     ]
    },
    {
     "name": "stdout",
     "output_type": "stream",
     "text": [
      "Epoch 80, Loss 0.0271\n",
      "Training Accuracy: 0.9679, Testing Accuracy: 0.9713\n",
      "\n"
     ]
    },
    {
     "name": "stdout",
     "output_type": "stream",
     "text": [
      "Epoch 90, Loss 0.0261\n",
      "Training Accuracy: 0.9691, Testing Accuracy: 0.9718\n",
      "\n"
     ]
    },
    {
     "name": "stdout",
     "output_type": "stream",
     "text": [
      "Epoch 100, Loss 0.0252\n",
      "Training Accuracy: 0.9703, Testing Accuracy: 0.9718\n",
      "\n"
     ]
    },
    {
     "name": "stdout",
     "output_type": "stream",
     "text": [
      "Epoch 110, Loss 0.0243\n",
      "Training Accuracy: 0.9714, Testing Accuracy: 0.9718\n",
      "\n"
     ]
    },
    {
     "name": "stdout",
     "output_type": "stream",
     "text": [
      "Epoch 120, Loss 0.0236\n",
      "Training Accuracy: 0.9722, Testing Accuracy: 0.9713\n",
      "\n"
     ]
    },
    {
     "name": "stdout",
     "output_type": "stream",
     "text": [
      "Epoch 130, Loss 0.0229\n",
      "Training Accuracy: 0.9730, Testing Accuracy: 0.9723\n",
      "\n"
     ]
    },
    {
     "name": "stdout",
     "output_type": "stream",
     "text": [
      "Epoch 140, Loss 0.0223\n",
      "Training Accuracy: 0.9736, Testing Accuracy: 0.9733\n",
      "\n"
     ]
    },
    {
     "name": "stdout",
     "output_type": "stream",
     "text": [
      "Epoch 150, Loss 0.0217\n",
      "Training Accuracy: 0.9745, Testing Accuracy: 0.9738\n",
      "\n"
     ]
    },
    {
     "name": "stdout",
     "output_type": "stream",
     "text": [
      "Epoch 160, Loss 0.0212\n",
      "Training Accuracy: 0.9752, Testing Accuracy: 0.9743\n",
      "\n"
     ]
    },
    {
     "name": "stdout",
     "output_type": "stream",
     "text": [
      "Epoch 170, Loss 0.0207\n",
      "Training Accuracy: 0.9758, Testing Accuracy: 0.9743\n",
      "\n"
     ]
    },
    {
     "name": "stdout",
     "output_type": "stream",
     "text": [
      "Epoch 180, Loss 0.0202\n",
      "Training Accuracy: 0.9766, Testing Accuracy: 0.9743\n",
      "\n"
     ]
    },
    {
     "name": "stdout",
     "output_type": "stream",
     "text": [
      "Epoch 190, Loss 0.0197\n",
      "Training Accuracy: 0.9773, Testing Accuracy: 0.9753\n",
      "\n"
     ]
    },
    {
     "name": "stdout",
     "output_type": "stream",
     "text": [
      "Epoch 200, Loss 0.0192\n",
      "Training Accuracy: 0.9783, Testing Accuracy: 0.9753\n",
      "\n"
     ]
    },
    {
     "name": "stdout",
     "output_type": "stream",
     "text": [
      "Epoch 210, Loss 0.0187\n",
      "Training Accuracy: 0.9791, Testing Accuracy: 0.9763\n",
      "\n"
     ]
    },
    {
     "name": "stdout",
     "output_type": "stream",
     "text": [
      "Epoch 220, Loss 0.0183\n",
      "Training Accuracy: 0.9795, Testing Accuracy: 0.9768\n",
      "\n"
     ]
    },
    {
     "name": "stdout",
     "output_type": "stream",
     "text": [
      "Epoch 230, Loss 0.0178\n",
      "Training Accuracy: 0.9798, Testing Accuracy: 0.9763\n",
      "\n"
     ]
    },
    {
     "name": "stdout",
     "output_type": "stream",
     "text": [
      "Epoch 240, Loss 0.0174\n",
      "Training Accuracy: 0.9806, Testing Accuracy: 0.9758\n",
      "\n"
     ]
    },
    {
     "data": {
      "text/plain": [
       "0.005453831083677369"
      ]
     },
     "execution_count": 22,
     "metadata": {},
     "output_type": "execute_result"
    }
   ],
   "source": [
    "nn_learner.train_loop(dl)"
   ]
  },
  {
   "cell_type": "code",
   "execution_count": 23,
   "id": "e0163366",
   "metadata": {
    "execution": {
     "iopub.execute_input": "2022-10-29T10:14:06.356666Z",
     "iopub.status.busy": "2022-10-29T10:14:06.355724Z",
     "iopub.status.idle": "2022-10-29T10:14:26.223288Z",
     "shell.execute_reply": "2022-10-29T10:14:26.224304Z"
    },
    "papermill": {
     "duration": 19.941646,
     "end_time": "2022-10-29T10:14:26.224473",
     "exception": false,
     "start_time": "2022-10-29T10:14:06.282827",
     "status": "completed"
    },
    "tags": []
   },
   "outputs": [
    {
     "name": "stdout",
     "output_type": "stream",
     "text": [
      "Epoch 0, Loss 0.2281\n",
      "Training Accuracy: 0.7313, Testing Accuracy: 0.7394\n",
      "\n"
     ]
    },
    {
     "name": "stdout",
     "output_type": "stream",
     "text": [
      "Epoch 10, Loss 0.1011\n",
      "Training Accuracy: 0.9125, Testing Accuracy: 0.9224\n",
      "\n"
     ]
    },
    {
     "name": "stdout",
     "output_type": "stream",
     "text": [
      "Epoch 20, Loss 0.0783\n",
      "Training Accuracy: 0.9278, Testing Accuracy: 0.9415\n",
      "\n"
     ]
    },
    {
     "name": "stdout",
     "output_type": "stream",
     "text": [
      "Epoch 30, Loss 0.0676\n",
      "Training Accuracy: 0.9357, Testing Accuracy: 0.9481\n",
      "\n"
     ]
    },
    {
     "name": "stdout",
     "output_type": "stream",
     "text": [
      "Epoch 40, Loss 0.0611\n",
      "Training Accuracy: 0.9419, Testing Accuracy: 0.9531\n",
      "\n"
     ]
    },
    {
     "name": "stdout",
     "output_type": "stream",
     "text": [
      "Epoch 50, Loss 0.0567\n",
      "Training Accuracy: 0.9447, Testing Accuracy: 0.9546\n",
      "\n"
     ]
    },
    {
     "name": "stdout",
     "output_type": "stream",
     "text": [
      "Epoch 60, Loss 0.0534\n",
      "Training Accuracy: 0.9478, Testing Accuracy: 0.9572\n",
      "\n"
     ]
    },
    {
     "name": "stdout",
     "output_type": "stream",
     "text": [
      "Epoch 70, Loss 0.0509\n",
      "Training Accuracy: 0.9496, Testing Accuracy: 0.9602\n",
      "\n"
     ]
    },
    {
     "name": "stdout",
     "output_type": "stream",
     "text": [
      "Epoch 80, Loss 0.0489\n",
      "Training Accuracy: 0.9513, Testing Accuracy: 0.9612\n",
      "\n"
     ]
    },
    {
     "name": "stdout",
     "output_type": "stream",
     "text": [
      "Epoch 90, Loss 0.0473\n",
      "Training Accuracy: 0.9524, Testing Accuracy: 0.9617\n",
      "\n"
     ]
    },
    {
     "name": "stdout",
     "output_type": "stream",
     "text": [
      "Epoch 100, Loss 0.0459\n",
      "Training Accuracy: 0.9535, Testing Accuracy: 0.9632\n",
      "\n"
     ]
    },
    {
     "name": "stdout",
     "output_type": "stream",
     "text": [
      "Epoch 110, Loss 0.0447\n",
      "Training Accuracy: 0.9547, Testing Accuracy: 0.9632\n",
      "\n"
     ]
    },
    {
     "name": "stdout",
     "output_type": "stream",
     "text": [
      "Epoch 120, Loss 0.0436\n",
      "Training Accuracy: 0.9553, Testing Accuracy: 0.9632\n",
      "\n"
     ]
    },
    {
     "name": "stdout",
     "output_type": "stream",
     "text": [
      "Epoch 130, Loss 0.0427\n",
      "Training Accuracy: 0.9564, Testing Accuracy: 0.9637\n",
      "\n"
     ]
    },
    {
     "name": "stdout",
     "output_type": "stream",
     "text": [
      "Epoch 140, Loss 0.0419\n",
      "Training Accuracy: 0.9566, Testing Accuracy: 0.9637\n",
      "\n"
     ]
    },
    {
     "name": "stdout",
     "output_type": "stream",
     "text": [
      "Epoch 150, Loss 0.0411\n",
      "Training Accuracy: 0.9570, Testing Accuracy: 0.9637\n",
      "\n"
     ]
    },
    {
     "name": "stdout",
     "output_type": "stream",
     "text": [
      "Epoch 160, Loss 0.0405\n",
      "Training Accuracy: 0.9575, Testing Accuracy: 0.9637\n",
      "\n"
     ]
    },
    {
     "name": "stdout",
     "output_type": "stream",
     "text": [
      "Epoch 170, Loss 0.0399\n",
      "Training Accuracy: 0.9584, Testing Accuracy: 0.9637\n",
      "\n"
     ]
    },
    {
     "name": "stdout",
     "output_type": "stream",
     "text": [
      "Epoch 180, Loss 0.0393\n",
      "Training Accuracy: 0.9589, Testing Accuracy: 0.9642\n",
      "\n"
     ]
    },
    {
     "name": "stdout",
     "output_type": "stream",
     "text": [
      "Epoch 190, Loss 0.0388\n",
      "Training Accuracy: 0.9594, Testing Accuracy: 0.9647\n",
      "\n"
     ]
    },
    {
     "name": "stdout",
     "output_type": "stream",
     "text": [
      "Epoch 200, Loss 0.0383\n",
      "Training Accuracy: 0.9595, Testing Accuracy: 0.9657\n",
      "\n"
     ]
    },
    {
     "name": "stdout",
     "output_type": "stream",
     "text": [
      "Epoch 210, Loss 0.0379\n",
      "Training Accuracy: 0.9599, Testing Accuracy: 0.9672\n",
      "\n"
     ]
    },
    {
     "name": "stdout",
     "output_type": "stream",
     "text": [
      "Epoch 220, Loss 0.0375\n",
      "Training Accuracy: 0.9600, Testing Accuracy: 0.9672\n",
      "\n"
     ]
    },
    {
     "name": "stdout",
     "output_type": "stream",
     "text": [
      "Epoch 230, Loss 0.0371\n",
      "Training Accuracy: 0.9603, Testing Accuracy: 0.9672\n",
      "\n"
     ]
    },
    {
     "name": "stdout",
     "output_type": "stream",
     "text": [
      "Epoch 240, Loss 0.0367\n",
      "Training Accuracy: 0.9604, Testing Accuracy: 0.9672\n",
      "\n"
     ]
    },
    {
     "data": {
      "text/plain": [
       "0.05409991943321439"
      ]
     },
     "execution_count": 23,
     "metadata": {},
     "output_type": "execute_result"
    }
   ],
   "source": [
    "lr_learner.train_loop(dl)"
   ]
  },
  {
   "cell_type": "code",
   "execution_count": 24,
   "id": "ca410940",
   "metadata": {
    "execution": {
     "iopub.execute_input": "2022-10-29T10:14:26.339956Z",
     "iopub.status.busy": "2022-10-29T10:14:26.339039Z",
     "iopub.status.idle": "2022-10-29T10:14:26.644398Z",
     "shell.execute_reply": "2022-10-29T10:14:26.643830Z"
    },
    "papermill": {
     "duration": 0.363832,
     "end_time": "2022-10-29T10:14:26.644552",
     "exception": false,
     "start_time": "2022-10-29T10:14:26.280720",
     "status": "completed"
    },
    "tags": []
   },
   "outputs": [
    {
     "data": {
      "text/plain": [
       "<matplotlib.legend.Legend at 0x7feff3b3a3c8>"
      ]
     },
     "execution_count": 24,
     "metadata": {},
     "output_type": "execute_result"
    },
    {
     "data": {
      "image/png": "[encoded data removed]",
      "text/plain": [
       "<Figure size 1080x720 with 1 Axes>"
      ]
     },
     "metadata": {
      "needs_background": "light"
     },
     "output_type": "display_data"
    }
   ],
   "source": [
    "#comparing the results of NN and LR\n",
    "plt.figure(figsize=(15,10))\n",
    "\n",
    "# Neural Network plots\n",
    "plt.plot(acc_nn.accuracies, 'r-', label = \"Training Accuracies - NN\")\n",
    "plt.plot(acc_nn.test_accuracies, 'g-', label = \"Testing Accuracies - NN\")\n",
    "\n",
    "# Logistic Regression plots\n",
    "plt.plot(acc_lr.accuracies, 'k-', label = \"Training Accuracies - LR\")\n",
    "plt.plot(acc_lr.test_accuracies, 'b-', label = \"Testing Accuracies - LR\")\n",
    "plt.legend()"
   ]
  },
  {
   "cell_type": "markdown",
   "id": "80dfb35c",
   "metadata": {
    "papermill": {
     "duration": 0.056118,
     "end_time": "2022-10-29T10:14:26.757085",
     "exception": false,
     "start_time": "2022-10-29T10:14:26.700967",
     "status": "completed"
    },
    "tags": []
   },
   "source": [
    "#### Plotting the outputs of this layer of the NN.\n"
   ]
  },
  {
   "cell_type": "code",
   "execution_count": 25,
   "id": "45eb2ff5",
   "metadata": {
    "execution": {
     "iopub.execute_input": "2022-10-29T10:14:26.884771Z",
     "iopub.status.busy": "2022-10-29T10:14:26.883974Z",
     "iopub.status.idle": "2022-10-29T10:14:26.911099Z",
     "shell.execute_reply": "2022-10-29T10:14:26.910438Z"
    },
    "papermill": {
     "duration": 0.096655,
     "end_time": "2022-10-29T10:14:26.911248",
     "exception": false,
     "start_time": "2022-10-29T10:14:26.814593",
     "status": "completed"
    },
    "tags": []
   },
   "outputs": [],
   "source": [
    "new_model = Model(layers[:-2])\n",
    "testing_plot = new_model(testing_data_x)"
   ]
  },
  {
   "cell_type": "code",
   "execution_count": 26,
   "id": "4c0a5485",
   "metadata": {
    "execution": {
     "iopub.execute_input": "2022-10-29T10:14:27.023955Z",
     "iopub.status.busy": "2022-10-29T10:14:27.023160Z",
     "iopub.status.idle": "2022-10-29T10:14:27.306105Z",
     "shell.execute_reply": "2022-10-29T10:14:27.305362Z"
    },
    "papermill": {
     "duration": 0.340702,
     "end_time": "2022-10-29T10:14:27.306258",
     "exception": false,
     "start_time": "2022-10-29T10:14:26.965556",
     "status": "completed"
    },
    "tags": []
   },
   "outputs": [
    {
     "data": {
      "text/plain": [
       "Text(0.5, 1.0, 'Outputs')"
      ]
     },
     "execution_count": 26,
     "metadata": {},
     "output_type": "execute_result"
    },
    {
     "data": {
      "image/png": "[encoded data removed]",
      "text/plain": [
       "<Figure size 576x504 with 1 Axes>"
      ]
     },
     "metadata": {
      "needs_background": "light"
     },
     "output_type": "display_data"
    }
   ],
   "source": [
    "# Plotting the scatter plot of points and color coding by class\n",
    "plt.figure(figsize=(8,7))\n",
    "plt.scatter(testing_plot[:,0], testing_plot[:,1], alpha = 0.1, c = y_test.ravel());\n",
    "plt.title('Outputs')"
   ]
  },
  {
   "cell_type": "markdown",
   "id": "a74fcf8f",
   "metadata": {
    "papermill": {
     "duration": 0.057286,
     "end_time": "2022-10-29T10:14:27.418639",
     "exception": false,
     "start_time": "2022-10-29T10:14:27.361353",
     "status": "completed"
    },
    "tags": []
   },
   "source": [
    "Probability contours"
   ]
  },
  {
   "cell_type": "code",
   "execution_count": 27,
   "id": "d0afc8e3",
   "metadata": {
    "execution": {
     "iopub.execute_input": "2022-10-29T10:14:27.533671Z",
     "iopub.status.busy": "2022-10-29T10:14:27.532969Z",
     "iopub.status.idle": "2022-10-29T10:14:27.547913Z",
     "shell.execute_reply": "2022-10-29T10:14:27.548609Z"
    },
    "papermill": {
     "duration": 0.074643,
     "end_time": "2022-10-29T10:14:27.548770",
     "exception": false,
     "start_time": "2022-10-29T10:14:27.474127",
     "status": "completed"
    },
    "tags": []
   },
   "outputs": [],
   "source": [
    "model_prob = Model(layers[-2:]) "
   ]
  },
  {
   "cell_type": "code",
   "execution_count": 28,
   "id": "9b96e238",
   "metadata": {
    "execution": {
     "iopub.execute_input": "2022-10-29T10:14:27.713015Z",
     "iopub.status.busy": "2022-10-29T10:14:27.712259Z",
     "iopub.status.idle": "2022-10-29T10:14:27.731392Z",
     "shell.execute_reply": "2022-10-29T10:14:27.732271Z"
    },
    "papermill": {
     "duration": 0.085429,
     "end_time": "2022-10-29T10:14:27.732555",
     "exception": false,
     "start_time": "2022-10-29T10:14:27.647126",
     "status": "completed"
    },
    "tags": []
   },
   "outputs": [],
   "source": [
    "#creating the x and y ranges according to the above generated plot.\n",
    "x_range = np.linspace(-4, 1, 100) \n",
    "y_range = np.linspace(-6, 6, 100) \n",
    "x_grid, y_grid = np.meshgrid(x_range, y_range) # x_grid and y_grig are of size 100 X 100\n",
    "\n",
    "# converting x_grid and y_grid to continuous arrays\n",
    "x_gridflat = np.ravel(x_grid)\n",
    "y_gridflat = np.ravel(y_grid)\n",
    "\n",
    "# The last layer of the current model takes two columns as input. Hence transpose of np.vstack() is required.\n",
    "X = np.vstack((x_gridflat, y_gridflat)).T\n",
    "\n",
    "prob_contour = model_prob(X).reshape(100,100) "
   ]
  },
  {
   "cell_type": "code",
   "execution_count": 29,
   "id": "da72499a",
   "metadata": {
    "execution": {
     "iopub.execute_input": "2022-10-29T10:14:27.870315Z",
     "iopub.status.busy": "2022-10-29T10:14:27.869477Z",
     "iopub.status.idle": "2022-10-29T10:14:28.196104Z",
     "shell.execute_reply": "2022-10-29T10:14:28.195470Z"
    },
    "papermill": {
     "duration": 0.394293,
     "end_time": "2022-10-29T10:14:28.196239",
     "exception": false,
     "start_time": "2022-10-29T10:14:27.801946",
     "status": "completed"
    },
    "tags": []
   },
   "outputs": [
    {
     "data": {
      "image/png": "[encoded data removed]",
      "text/plain": [
       "<Figure size 720x648 with 1 Axes>"
      ]
     },
     "metadata": {
      "needs_background": "light"
     },
     "output_type": "display_data"
    }
   ],
   "source": [
    "plt.figure(figsize=(10,9))\n",
    "plt.scatter(testing_plot[:,0], testing_plot[:,1], alpha = 0.1, c = y_test.ravel())\n",
    "contours = plt.contour(x_grid,y_grid,prob_contour)\n",
    "plt.title('Probability Contours')\n",
    "plt.clabel(contours, inline = True );"
   ]
  },
  {
   "cell_type": "code",
   "execution_count": null,
   "id": "e81b4ac7",
   "metadata": {
    "papermill": {
     "duration": 0.060788,
     "end_time": "2022-10-29T10:14:28.320344",
     "exception": false,
     "start_time": "2022-10-29T10:14:28.259556",
     "status": "completed"
    },
    "tags": []
   },
   "outputs": [],
   "source": []
  }
 ],
 "metadata": {
  "kernelspec": {
   "display_name": "Python 3",
   "language": "python",
   "name": "python3"
  },
  "language_info": {
   "codemirror_mode": {
    "name": "ipython",
    "version": 3
   },
   "file_extension": ".py",
   "mimetype": "text/x-python",
   "name": "python",
   "nbconvert_exporter": "python",
   "pygments_lexer": "ipython3",
   "version": "3.6.15"
  },
  "papermill": {
   "default_parameters": {},
   "duration": 167.399627,
   "end_time": "2022-10-29T10:14:28.801738",
   "environment_variables": {},
   "exception": null,
   "input_path": "2020-08-11-part2.ipynb",
   "output_path": "2020-08-11-part2.ipynb",
   "parameters": {},
   "start_time": "2022-10-29T10:11:41.402111",
   "version": "2.3.3"
  }
 },
 "nbformat": 4,
 "nbformat_minor": 5
}