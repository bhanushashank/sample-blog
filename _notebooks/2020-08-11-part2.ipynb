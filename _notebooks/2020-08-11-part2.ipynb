{
 "cells": [
  {
   "cell_type": "markdown",
   "id": "98380cd3",
   "metadata": {
    "papermill": {
     "duration": 0.033894,
     "end_time": "2022-11-14T20:11:47.318330",
     "exception": false,
     "start_time": "2022-11-14T20:11:47.284436",
     "status": "completed"
    },
    "tags": []
   },
   "source": [
    "# Distinguish Your Own Digits (DYOD)"
   ]
  },
  {
   "cell_type": "markdown",
   "id": "ef31240d",
   "metadata": {
    "papermill": {
     "duration": 0.02685,
     "end_time": "2022-11-14T20:11:47.372695",
     "exception": false,
     "start_time": "2022-11-14T20:11:47.345845",
     "status": "completed"
    },
    "tags": []
   },
   "source": [
    "You are going to write a classifier that distinguishes between the number 3 and number 8."
   ]
  },
  {
   "cell_type": "code",
   "execution_count": 1,
   "id": "b15c8646",
   "metadata": {
    "execution": {
     "iopub.execute_input": "2022-11-14T20:11:47.437606Z",
     "iopub.status.busy": "2022-11-14T20:11:47.436798Z",
     "iopub.status.idle": "2022-11-14T20:11:47.448656Z",
     "shell.execute_reply": "2022-11-14T20:11:47.449163Z"
    },
    "papermill": {
     "duration": 0.050163,
     "end_time": "2022-11-14T20:11:47.449323",
     "exception": false,
     "start_time": "2022-11-14T20:11:47.399160",
     "status": "completed"
    },
    "tags": []
   },
   "outputs": [],
   "source": [
    "%load_ext autoreload\n",
    "%autoreload 2"
   ]
  },
  {
   "cell_type": "code",
   "execution_count": 2,
   "id": "22ef38dc",
   "metadata": {
    "execution": {
     "iopub.execute_input": "2022-11-14T20:11:47.510750Z",
     "iopub.status.busy": "2022-11-14T20:11:47.510046Z",
     "iopub.status.idle": "2022-11-14T20:11:48.091980Z",
     "shell.execute_reply": "2022-11-14T20:11:48.091365Z"
    },
    "papermill": {
     "duration": 0.615757,
     "end_time": "2022-11-14T20:11:48.092115",
     "exception": false,
     "start_time": "2022-11-14T20:11:47.476358",
     "status": "completed"
    },
    "tags": []
   },
   "outputs": [],
   "source": [
    "%matplotlib inline\n",
    "import numpy as np\n",
    "import matplotlib.pyplot as plt\n",
    "import pandas as pd"
   ]
  },
  {
   "cell_type": "markdown",
   "id": "ba036198",
   "metadata": {
    "papermill": {
     "duration": 0.026196,
     "end_time": "2022-11-14T20:11:48.145982",
     "exception": false,
     "start_time": "2022-11-14T20:11:48.119786",
     "status": "completed"
    },
    "tags": []
   },
   "source": [
    "From the command line run `pip install mnist`. This is a library that will help you bring down the mnist dataset. If you run this from a notebook, you need to put  `!pip install mnist` in a cell by itself."
   ]
  },
  {
   "cell_type": "code",
   "execution_count": 3,
   "id": "bb6ad8a1",
   "metadata": {
    "execution": {
     "iopub.execute_input": "2022-11-14T20:11:48.203401Z",
     "iopub.status.busy": "2022-11-14T20:11:48.202716Z",
     "iopub.status.idle": "2022-11-14T20:11:49.984604Z",
     "shell.execute_reply": "2022-11-14T20:11:49.983668Z"
    },
    "papermill": {
     "duration": 1.812165,
     "end_time": "2022-11-14T20:11:49.984746",
     "exception": false,
     "start_time": "2022-11-14T20:11:48.172581",
     "status": "completed"
    },
    "tags": []
   },
   "outputs": [
    {
     "name": "stdout",
     "output_type": "stream",
     "text": [
      "Collecting mnist\r\n"
     ]
    },
    {
     "name": "stdout",
     "output_type": "stream",
     "text": [
      "  Downloading mnist-0.2.2-py2.py3-none-any.whl (3.5 kB)\r\n"
     ]
    },
    {
     "name": "stdout",
     "output_type": "stream",
     "text": [
      "Requirement already satisfied: numpy in /opt/hostedtoolcache/Python/3.6.15/x64/lib/python3.6/site-packages (from mnist) (1.19.5)\r\n"
     ]
    },
    {
     "name": "stdout",
     "output_type": "stream",
     "text": [
      "Installing collected packages: mnist\r\n"
     ]
    },
    {
     "name": "stdout",
     "output_type": "stream",
     "text": [
      "Successfully installed mnist-0.2.2\r\n"
     ]
    }
   ],
   "source": [
    "!pip install mnist"
   ]
  },
  {
   "cell_type": "markdown",
   "id": "69df9c9a",
   "metadata": {
    "papermill": {
     "duration": 0.028328,
     "end_time": "2022-11-14T20:11:50.041914",
     "exception": false,
     "start_time": "2022-11-14T20:11:50.013586",
     "status": "completed"
    },
    "tags": []
   },
   "source": [
    "## Preparing the Data"
   ]
  },
  {
   "cell_type": "code",
   "execution_count": 4,
   "id": "7f69d806",
   "metadata": {
    "execution": {
     "iopub.execute_input": "2022-11-14T20:11:50.115209Z",
     "iopub.status.busy": "2022-11-14T20:11:50.107224Z",
     "iopub.status.idle": "2022-11-14T20:11:50.121531Z",
     "shell.execute_reply": "2022-11-14T20:11:50.120988Z"
    },
    "papermill": {
     "duration": 0.050032,
     "end_time": "2022-11-14T20:11:50.121651",
     "exception": false,
     "start_time": "2022-11-14T20:11:50.071619",
     "status": "completed"
    },
    "tags": []
   },
   "outputs": [],
   "source": [
    "import mnist"
   ]
  },
  {
   "cell_type": "code",
   "execution_count": 5,
   "id": "a411e44f",
   "metadata": {
    "execution": {
     "iopub.execute_input": "2022-11-14T20:11:50.187018Z",
     "iopub.status.busy": "2022-11-14T20:11:50.186364Z",
     "iopub.status.idle": "2022-11-14T20:11:50.742319Z",
     "shell.execute_reply": "2022-11-14T20:11:50.742840Z"
    },
    "papermill": {
     "duration": 0.592624,
     "end_time": "2022-11-14T20:11:50.743003",
     "exception": false,
     "start_time": "2022-11-14T20:11:50.150379",
     "status": "completed"
    },
    "tags": []
   },
   "outputs": [],
   "source": [
    "train_images = mnist.train_images()\n",
    "train_labels = mnist.train_labels()"
   ]
  },
  {
   "cell_type": "code",
   "execution_count": 6,
   "id": "dceab3a5",
   "metadata": {
    "execution": {
     "iopub.execute_input": "2022-11-14T20:11:50.804734Z",
     "iopub.status.busy": "2022-11-14T20:11:50.803978Z",
     "iopub.status.idle": "2022-11-14T20:11:50.820367Z",
     "shell.execute_reply": "2022-11-14T20:11:50.820999Z"
    },
    "papermill": {
     "duration": 0.049431,
     "end_time": "2022-11-14T20:11:50.821133",
     "exception": false,
     "start_time": "2022-11-14T20:11:50.771702",
     "status": "completed"
    },
    "tags": []
   },
   "outputs": [
    {
     "data": {
      "text/plain": [
       "((60000, 28, 28), (60000,))"
      ]
     },
     "execution_count": 6,
     "metadata": {},
     "output_type": "execute_result"
    }
   ],
   "source": [
    "train_images.shape, train_labels.shape"
   ]
  },
  {
   "cell_type": "code",
   "execution_count": 7,
   "id": "f50dc2bb",
   "metadata": {
    "execution": {
     "iopub.execute_input": "2022-11-14T20:11:50.882041Z",
     "iopub.status.busy": "2022-11-14T20:11:50.881382Z",
     "iopub.status.idle": "2022-11-14T20:11:51.021823Z",
     "shell.execute_reply": "2022-11-14T20:11:51.022392Z"
    },
    "papermill": {
     "duration": 0.173235,
     "end_time": "2022-11-14T20:11:51.022569",
     "exception": false,
     "start_time": "2022-11-14T20:11:50.849334",
     "status": "completed"
    },
    "tags": []
   },
   "outputs": [],
   "source": [
    "test_images = mnist.test_images()\n",
    "test_labels = mnist.test_labels()"
   ]
  },
  {
   "cell_type": "code",
   "execution_count": 8,
   "id": "fc38cf1b",
   "metadata": {
    "execution": {
     "iopub.execute_input": "2022-11-14T20:11:51.085711Z",
     "iopub.status.busy": "2022-11-14T20:11:51.085010Z",
     "iopub.status.idle": "2022-11-14T20:11:51.099973Z",
     "shell.execute_reply": "2022-11-14T20:11:51.099315Z"
    },
    "papermill": {
     "duration": 0.048728,
     "end_time": "2022-11-14T20:11:51.100091",
     "exception": false,
     "start_time": "2022-11-14T20:11:51.051363",
     "status": "completed"
    },
    "tags": []
   },
   "outputs": [
    {
     "data": {
      "text/plain": [
       "((10000, 28, 28), (10000,))"
      ]
     },
     "execution_count": 8,
     "metadata": {},
     "output_type": "execute_result"
    }
   ],
   "source": [
    "test_images.shape, test_labels.shape"
   ]
  },
  {
   "cell_type": "code",
   "execution_count": 9,
   "id": "f9ed8fe0",
   "metadata": {
    "execution": {
     "iopub.execute_input": "2022-11-14T20:11:51.164743Z",
     "iopub.status.busy": "2022-11-14T20:11:51.164073Z",
     "iopub.status.idle": "2022-11-14T20:11:51.344698Z",
     "shell.execute_reply": "2022-11-14T20:11:51.344122Z"
    },
    "papermill": {
     "duration": 0.214495,
     "end_time": "2022-11-14T20:11:51.344850",
     "exception": false,
     "start_time": "2022-11-14T20:11:51.130355",
     "status": "completed"
    },
    "tags": []
   },
   "outputs": [
    {
     "name": "stdout",
     "output_type": "stream",
     "text": [
      "2\n"
     ]
    },
    {
     "data": {
      "text/plain": [
       "<matplotlib.image.AxesImage at 0x7f0a44f28e10>"
      ]
     },
     "execution_count": 9,
     "metadata": {},
     "output_type": "execute_result"
    },
    {
     "data": {
      "image/png": "[encoded data removed]",
      "text/plain": [
       "<Figure size 432x288 with 1 Axes>"
      ]
     },
     "metadata": {
      "needs_background": "light"
     },
     "output_type": "display_data"
    }
   ],
   "source": [
    "image_index = 7776 # You may select anything up to 60,000\n",
    "print(train_labels[image_index]) \n",
    "plt.imshow(train_images[image_index], cmap='Greys')"
   ]
  },
  {
   "cell_type": "markdown",
   "id": "a8d2388d",
   "metadata": {
    "papermill": {
     "duration": 0.032359,
     "end_time": "2022-11-14T20:11:51.408660",
     "exception": false,
     "start_time": "2022-11-14T20:11:51.376301",
     "status": "completed"
    },
    "tags": []
   },
   "source": [
    "## Filter data to get 3 and 8 out"
   ]
  },
  {
   "cell_type": "code",
   "execution_count": 10,
   "id": "776f7fc7",
   "metadata": {
    "execution": {
     "iopub.execute_input": "2022-11-14T20:11:51.475909Z",
     "iopub.status.busy": "2022-11-14T20:11:51.475198Z",
     "iopub.status.idle": "2022-11-14T20:11:51.493482Z",
     "shell.execute_reply": "2022-11-14T20:11:51.494260Z"
    },
    "papermill": {
     "duration": 0.054981,
     "end_time": "2022-11-14T20:11:51.494418",
     "exception": false,
     "start_time": "2022-11-14T20:11:51.439437",
     "status": "completed"
    },
    "tags": []
   },
   "outputs": [],
   "source": [
    "train_filter = np.where((train_labels == 3 ) | (train_labels == 8))\n",
    "test_filter = np.where((test_labels == 3) | (test_labels == 8))\n",
    "X_train, y_train = train_images[train_filter], train_labels[train_filter]\n",
    "X_test, y_test = test_images[test_filter], test_labels[test_filter]"
   ]
  },
  {
   "cell_type": "markdown",
   "id": "948f0b7e",
   "metadata": {
    "papermill": {
     "duration": 0.029744,
     "end_time": "2022-11-14T20:11:51.554638",
     "exception": false,
     "start_time": "2022-11-14T20:11:51.524894",
     "status": "completed"
    },
    "tags": []
   },
   "source": [
    "We normalize the pizel values in the 0 to 1 range"
   ]
  },
  {
   "cell_type": "code",
   "execution_count": 11,
   "id": "ee4c2166",
   "metadata": {
    "execution": {
     "iopub.execute_input": "2022-11-14T20:11:51.619324Z",
     "iopub.status.busy": "2022-11-14T20:11:51.618640Z",
     "iopub.status.idle": "2022-11-14T20:11:51.676286Z",
     "shell.execute_reply": "2022-11-14T20:11:51.675653Z"
    },
    "papermill": {
     "duration": 0.092207,
     "end_time": "2022-11-14T20:11:51.676424",
     "exception": false,
     "start_time": "2022-11-14T20:11:51.584217",
     "status": "completed"
    },
    "tags": []
   },
   "outputs": [],
   "source": [
    "X_train = X_train/255.\n",
    "X_test = X_test/255."
   ]
  },
  {
   "cell_type": "markdown",
   "id": "ddcf4fab",
   "metadata": {
    "papermill": {
     "duration": 0.03122,
     "end_time": "2022-11-14T20:11:51.738930",
     "exception": false,
     "start_time": "2022-11-14T20:11:51.707710",
     "status": "completed"
    },
    "tags": []
   },
   "source": [
    "And setup the labels as 1 (when the digit is 3) and 0 (when the digit is 8)"
   ]
  },
  {
   "cell_type": "code",
   "execution_count": 12,
   "id": "7dc908f2",
   "metadata": {
    "execution": {
     "iopub.execute_input": "2022-11-14T20:11:51.808190Z",
     "iopub.status.busy": "2022-11-14T20:11:51.807535Z",
     "iopub.status.idle": "2022-11-14T20:11:51.818996Z",
     "shell.execute_reply": "2022-11-14T20:11:51.819637Z"
    },
    "papermill": {
     "duration": 0.048855,
     "end_time": "2022-11-14T20:11:51.819810",
     "exception": false,
     "start_time": "2022-11-14T20:11:51.770955",
     "status": "completed"
    },
    "tags": []
   },
   "outputs": [],
   "source": [
    "y_train = 1*(y_train==3)\n",
    "y_test = 1*(y_test==3)"
   ]
  },
  {
   "cell_type": "code",
   "execution_count": 13,
   "id": "01e4e969",
   "metadata": {
    "execution": {
     "iopub.execute_input": "2022-11-14T20:11:51.898215Z",
     "iopub.status.busy": "2022-11-14T20:11:51.893201Z",
     "iopub.status.idle": "2022-11-14T20:11:51.902070Z",
     "shell.execute_reply": "2022-11-14T20:11:51.902586Z"
    },
    "papermill": {
     "duration": 0.053071,
     "end_time": "2022-11-14T20:11:51.902720",
     "exception": false,
     "start_time": "2022-11-14T20:11:51.849649",
     "status": "completed"
    },
    "tags": []
   },
   "outputs": [
    {
     "data": {
      "text/plain": [
       "((11982, 28, 28), (1984, 28, 28))"
      ]
     },
     "execution_count": 13,
     "metadata": {},
     "output_type": "execute_result"
    }
   ],
   "source": [
    "X_train.shape, X_test.shape"
   ]
  },
  {
   "cell_type": "markdown",
   "id": "5ccf3f85",
   "metadata": {
    "papermill": {
     "duration": 0.031683,
     "end_time": "2022-11-14T20:11:51.965303",
     "exception": false,
     "start_time": "2022-11-14T20:11:51.933620",
     "status": "completed"
    },
    "tags": []
   },
   "source": [
    "We reshape the data to flatten the image pixels into a set of features or co-variates:"
   ]
  },
  {
   "cell_type": "code",
   "execution_count": 14,
   "id": "5286a4a3",
   "metadata": {
    "execution": {
     "iopub.execute_input": "2022-11-14T20:11:52.047537Z",
     "iopub.status.busy": "2022-11-14T20:11:52.043204Z",
     "iopub.status.idle": "2022-11-14T20:11:52.053447Z",
     "shell.execute_reply": "2022-11-14T20:11:52.054004Z"
    },
    "papermill": {
     "duration": 0.055364,
     "end_time": "2022-11-14T20:11:52.054154",
     "exception": false,
     "start_time": "2022-11-14T20:11:51.998790",
     "status": "completed"
    },
    "tags": []
   },
   "outputs": [
    {
     "data": {
      "text/plain": [
       "((11982, 784), (1984, 784))"
      ]
     },
     "execution_count": 14,
     "metadata": {},
     "output_type": "execute_result"
    }
   ],
   "source": [
    "X_train = X_train.reshape(X_train.shape[0], -1)\n",
    "X_test = X_test.reshape(X_test.shape[0], -1)\n",
    "X_train.shape, X_test.shape"
   ]
  },
  {
   "cell_type": "code",
   "execution_count": 15,
   "id": "73c5f88a",
   "metadata": {
    "execution": {
     "iopub.execute_input": "2022-11-14T20:11:52.131004Z",
     "iopub.status.busy": "2022-11-14T20:11:52.125006Z",
     "iopub.status.idle": "2022-11-14T20:11:52.146270Z",
     "shell.execute_reply": "2022-11-14T20:11:52.146793Z"
    },
    "papermill": {
     "duration": 0.058449,
     "end_time": "2022-11-14T20:11:52.146927",
     "exception": false,
     "start_time": "2022-11-14T20:11:52.088478",
     "status": "completed"
    },
    "tags": []
   },
   "outputs": [],
   "source": [
    "#Impoting functions from 'Kudzu'\n",
    "from kudzu.model import Model\n",
    "from kudzu.train import Learner\n",
    "from kudzu.optim import GD\n",
    "from kudzu.data import Data, Sampler,Dataloader\n",
    "\n",
    "from kudzu.callbacks import AccCallback\n",
    "from kudzu.callbacks import ClfCallback\n",
    "\n",
    "from kudzu.loss import MSE\n",
    "\n",
    "from kudzu.layer import Sigmoid,Relu\n",
    "from kudzu.layer import Affine"
   ]
  },
  {
   "cell_type": "markdown",
   "id": "bc01172a",
   "metadata": {
    "papermill": {
     "duration": 0.03,
     "end_time": "2022-11-14T20:11:52.209047",
     "exception": false,
     "start_time": "2022-11-14T20:11:52.179047",
     "status": "completed"
    },
    "tags": []
   },
   "source": [
    "### Let us create a `Config` class, to store important parameters. \n",
    "This class essentially plays the role of a dictionary."
   ]
  },
  {
   "cell_type": "code",
   "execution_count": 16,
   "id": "978281aa",
   "metadata": {
    "execution": {
     "iopub.execute_input": "2022-11-14T20:11:52.287186Z",
     "iopub.status.busy": "2022-11-14T20:11:52.282760Z",
     "iopub.status.idle": "2022-11-14T20:11:52.294427Z",
     "shell.execute_reply": "2022-11-14T20:11:52.293854Z"
    },
    "papermill": {
     "duration": 0.055188,
     "end_time": "2022-11-14T20:11:52.294546",
     "exception": false,
     "start_time": "2022-11-14T20:11:52.239358",
     "status": "completed"
    },
    "tags": []
   },
   "outputs": [],
   "source": [
    "class Config:\n",
    "    pass\n",
    "config = Config()\n",
    "config.lr = 0.001\n",
    "config.num_epochs = 250\n",
    "config.bs = 50"
   ]
  },
  {
   "cell_type": "markdown",
   "id": "1385fa59",
   "metadata": {
    "papermill": {
     "duration": 0.030662,
     "end_time": "2022-11-14T20:11:52.355543",
     "exception": false,
     "start_time": "2022-11-14T20:11:52.324881",
     "status": "completed"
    },
    "tags": []
   },
   "source": [
    "### Running Models with the Training data\n",
    "Details about the network layers:\n",
    "- A first affine layer has 784 inputs and does 100 affine transforms. These are followed by a Relu\n",
    "- A second affine layer has 100 inputs from the 100 activations of the past layer, and does 100 affine transforms. These are followed by a Relu\n",
    "- A third affine layer has 100 activations and does 2 affine transformations to create an embedding for visualization. There is no non-linearity here.\n",
    "- A final \"logistic regression\" which has an affine transform from 2 inputs to 1 output, which is squeezed through a sigmoid.\n"
   ]
  },
  {
   "cell_type": "code",
   "execution_count": 17,
   "id": "2b9c66db",
   "metadata": {
    "execution": {
     "iopub.execute_input": "2022-11-14T20:11:52.426535Z",
     "iopub.status.busy": "2022-11-14T20:11:52.425838Z",
     "iopub.status.idle": "2022-11-14T20:11:52.437148Z",
     "shell.execute_reply": "2022-11-14T20:11:52.436614Z"
    },
    "papermill": {
     "duration": 0.050386,
     "end_time": "2022-11-14T20:11:52.437266",
     "exception": false,
     "start_time": "2022-11-14T20:11:52.386880",
     "status": "completed"
    },
    "tags": []
   },
   "outputs": [],
   "source": [
    "data = Data(X_train, y_train.reshape(-1,1))\n",
    "sampler = Sampler(data, config.bs, shuffle=True)\n",
    "\n",
    "dl = Dataloader(data, sampler)\n",
    "\n",
    "opt = GD(config.lr)\n",
    "loss = MSE()"
   ]
  },
  {
   "cell_type": "code",
   "execution_count": 18,
   "id": "b275e4c2",
   "metadata": {
    "execution": {
     "iopub.execute_input": "2022-11-14T20:11:52.504046Z",
     "iopub.status.busy": "2022-11-14T20:11:52.503269Z",
     "iopub.status.idle": "2022-11-14T20:11:52.516160Z",
     "shell.execute_reply": "2022-11-14T20:11:52.516791Z"
    },
    "papermill": {
     "duration": 0.048867,
     "end_time": "2022-11-14T20:11:52.516923",
     "exception": false,
     "start_time": "2022-11-14T20:11:52.468056",
     "status": "completed"
    },
    "tags": []
   },
   "outputs": [],
   "source": [
    "training_data_x = X_train\n",
    "testing_data_x = X_test\n",
    "training_data_y = y_train.reshape(-1,1)\n",
    "testing_data_y = y_test.reshape(-1,1)"
   ]
  },
  {
   "cell_type": "code",
   "execution_count": 19,
   "id": "76951160",
   "metadata": {
    "execution": {
     "iopub.execute_input": "2022-11-14T20:11:52.581137Z",
     "iopub.status.busy": "2022-11-14T20:11:52.580482Z",
     "iopub.status.idle": "2022-11-14T20:11:52.596946Z",
     "shell.execute_reply": "2022-11-14T20:11:52.597564Z"
    },
    "papermill": {
     "duration": 0.050802,
     "end_time": "2022-11-14T20:11:52.597694",
     "exception": false,
     "start_time": "2022-11-14T20:11:52.546892",
     "status": "completed"
    },
    "tags": []
   },
   "outputs": [
    {
     "name": "stdout",
     "output_type": "stream",
     "text": [
      "xavier\n",
      "xavier\n",
      "xavier\n",
      "xavier\n",
      "xavier\n"
     ]
    }
   ],
   "source": [
    "layers = [Affine(\"first\", 784, 100), Relu(\"first\"), Affine(\"second\", 100, 100), Relu(\"second\"), Affine(\"third\", 100, 2), Affine(\"last\", 2, 1), Sigmoid(\"last\")]\n",
    "model_nn = Model(layers)\n",
    "model_lr = Model([Affine(\"logits\", 784, 1), Sigmoid(\"sigmoid\")])"
   ]
  },
  {
   "cell_type": "code",
   "execution_count": 20,
   "id": "6eede77a",
   "metadata": {
    "execution": {
     "iopub.execute_input": "2022-11-14T20:11:52.663759Z",
     "iopub.status.busy": "2022-11-14T20:11:52.663015Z",
     "iopub.status.idle": "2022-11-14T20:11:52.676245Z",
     "shell.execute_reply": "2022-11-14T20:11:52.675413Z"
    },
    "papermill": {
     "duration": 0.047398,
     "end_time": "2022-11-14T20:11:52.676364",
     "exception": false,
     "start_time": "2022-11-14T20:11:52.628966",
     "status": "completed"
    },
    "tags": []
   },
   "outputs": [],
   "source": [
    "nn_learner = Learner(loss, model_nn, opt, config.num_epochs)\n",
    "acc_nn = ClfCallback(nn_learner, config.bs, training_data_x , testing_data_x, training_data_y, testing_data_y)\n",
    "nn_learner.set_callbacks([acc_nn])"
   ]
  },
  {
   "cell_type": "code",
   "execution_count": 21,
   "id": "877b6cc7",
   "metadata": {
    "execution": {
     "iopub.execute_input": "2022-11-14T20:11:52.749260Z",
     "iopub.status.busy": "2022-11-14T20:11:52.748532Z",
     "iopub.status.idle": "2022-11-14T20:11:52.762357Z",
     "shell.execute_reply": "2022-11-14T20:11:52.761761Z"
    },
    "papermill": {
     "duration": 0.052351,
     "end_time": "2022-11-14T20:11:52.762500",
     "exception": false,
     "start_time": "2022-11-14T20:11:52.710149",
     "status": "completed"
    },
    "tags": []
   },
   "outputs": [],
   "source": [
    "lr_learner = Learner(loss, model_lr, opt, config.num_epochs)\n",
    "acc_lr = ClfCallback(lr_learner, config.bs, training_data_x , testing_data_x, training_data_y, testing_data_y)\n",
    "lr_learner.set_callbacks([acc_lr])"
   ]
  },
  {
   "cell_type": "code",
   "execution_count": 22,
   "id": "d9b133c3",
   "metadata": {
    "execution": {
     "iopub.execute_input": "2022-11-14T20:11:52.835088Z",
     "iopub.status.busy": "2022-11-14T20:11:52.834356Z",
     "iopub.status.idle": "2022-11-14T20:13:56.426505Z",
     "shell.execute_reply": "2022-11-14T20:13:56.427503Z"
    },
    "papermill": {
     "duration": 123.63236,
     "end_time": "2022-11-14T20:13:56.427673",
     "exception": false,
     "start_time": "2022-11-14T20:11:52.795313",
     "status": "completed"
    },
    "tags": []
   },
   "outputs": [
    {
     "name": "stdout",
     "output_type": "stream",
     "text": [
      "Epoch 0, Loss 0.2586\n",
      "Training Accuracy: 0.4882, Testing Accuracy: 0.4909\n",
      "\n"
     ]
    },
    {
     "name": "stdout",
     "output_type": "stream",
     "text": [
      "Epoch 10, Loss 0.2112\n",
      "Training Accuracy: 0.8348, Testing Accuracy: 0.8624\n",
      "\n"
     ]
    },
    {
     "name": "stdout",
     "output_type": "stream",
     "text": [
      "Epoch 20, Loss 0.1205\n",
      "Training Accuracy: 0.8931, Testing Accuracy: 0.9007\n",
      "\n"
     ]
    },
    {
     "name": "stdout",
     "output_type": "stream",
     "text": [
      "Epoch 30, Loss 0.0713\n",
      "Training Accuracy: 0.9232, Testing Accuracy: 0.9335\n",
      "\n"
     ]
    },
    {
     "name": "stdout",
     "output_type": "stream",
     "text": [
      "Epoch 40, Loss 0.0534\n",
      "Training Accuracy: 0.9393, Testing Accuracy: 0.9481\n",
      "\n"
     ]
    },
    {
     "name": "stdout",
     "output_type": "stream",
     "text": [
      "Epoch 50, Loss 0.0447\n",
      "Training Accuracy: 0.9478, Testing Accuracy: 0.9622\n",
      "\n"
     ]
    },
    {
     "name": "stdout",
     "output_type": "stream",
     "text": [
      "Epoch 60, Loss 0.0397\n",
      "Training Accuracy: 0.9531, Testing Accuracy: 0.9632\n",
      "\n"
     ]
    },
    {
     "name": "stdout",
     "output_type": "stream",
     "text": [
      "Epoch 70, Loss 0.0363\n",
      "Training Accuracy: 0.9573, Testing Accuracy: 0.9652\n",
      "\n"
     ]
    },
    {
     "name": "stdout",
     "output_type": "stream",
     "text": [
      "Epoch 80, Loss 0.0339\n",
      "Training Accuracy: 0.9592, Testing Accuracy: 0.9667\n",
      "\n"
     ]
    },
    {
     "name": "stdout",
     "output_type": "stream",
     "text": [
      "Epoch 90, Loss 0.0321\n",
      "Training Accuracy: 0.9617, Testing Accuracy: 0.9682\n",
      "\n"
     ]
    },
    {
     "name": "stdout",
     "output_type": "stream",
     "text": [
      "Epoch 100, Loss 0.0306\n",
      "Training Accuracy: 0.9634, Testing Accuracy: 0.9688\n",
      "\n"
     ]
    },
    {
     "name": "stdout",
     "output_type": "stream",
     "text": [
      "Epoch 110, Loss 0.0294\n",
      "Training Accuracy: 0.9648, Testing Accuracy: 0.9688\n",
      "\n"
     ]
    },
    {
     "name": "stdout",
     "output_type": "stream",
     "text": [
      "Epoch 120, Loss 0.0284\n",
      "Training Accuracy: 0.9660, Testing Accuracy: 0.9682\n",
      "\n"
     ]
    },
    {
     "name": "stdout",
     "output_type": "stream",
     "text": [
      "Epoch 130, Loss 0.0275\n",
      "Training Accuracy: 0.9674, Testing Accuracy: 0.9698\n",
      "\n"
     ]
    },
    {
     "name": "stdout",
     "output_type": "stream",
     "text": [
      "Epoch 140, Loss 0.0267\n",
      "Training Accuracy: 0.9681, Testing Accuracy: 0.9698\n",
      "\n"
     ]
    },
    {
     "name": "stdout",
     "output_type": "stream",
     "text": [
      "Epoch 150, Loss 0.026\n",
      "Training Accuracy: 0.9695, Testing Accuracy: 0.9703\n",
      "\n"
     ]
    },
    {
     "name": "stdout",
     "output_type": "stream",
     "text": [
      "Epoch 160, Loss 0.0253\n",
      "Training Accuracy: 0.9709, Testing Accuracy: 0.9713\n",
      "\n"
     ]
    },
    {
     "name": "stdout",
     "output_type": "stream",
     "text": [
      "Epoch 170, Loss 0.0248\n",
      "Training Accuracy: 0.9716, Testing Accuracy: 0.9708\n",
      "\n"
     ]
    },
    {
     "name": "stdout",
     "output_type": "stream",
     "text": [
      "Epoch 180, Loss 0.0242\n",
      "Training Accuracy: 0.9720, Testing Accuracy: 0.9698\n",
      "\n"
     ]
    },
    {
     "name": "stdout",
     "output_type": "stream",
     "text": [
      "Epoch 190, Loss 0.0237\n",
      "Training Accuracy: 0.9728, Testing Accuracy: 0.9713\n",
      "\n"
     ]
    },
    {
     "name": "stdout",
     "output_type": "stream",
     "text": [
      "Epoch 200, Loss 0.0233\n",
      "Training Accuracy: 0.9733, Testing Accuracy: 0.9703\n",
      "\n"
     ]
    },
    {
     "name": "stdout",
     "output_type": "stream",
     "text": [
      "Epoch 210, Loss 0.0228\n",
      "Training Accuracy: 0.9735, Testing Accuracy: 0.9713\n",
      "\n"
     ]
    },
    {
     "name": "stdout",
     "output_type": "stream",
     "text": [
      "Epoch 220, Loss 0.0224\n",
      "Training Accuracy: 0.9738, Testing Accuracy: 0.9713\n",
      "\n"
     ]
    },
    {
     "name": "stdout",
     "output_type": "stream",
     "text": [
      "Epoch 230, Loss 0.022\n",
      "Training Accuracy: 0.9743, Testing Accuracy: 0.9713\n",
      "\n"
     ]
    },
    {
     "name": "stdout",
     "output_type": "stream",
     "text": [
      "Epoch 240, Loss 0.0216\n",
      "Training Accuracy: 0.9749, Testing Accuracy: 0.9718\n",
      "\n"
     ]
    },
    {
     "data": {
      "text/plain": [
       "0.006786021227750972"
      ]
     },
     "execution_count": 22,
     "metadata": {},
     "output_type": "execute_result"
    }
   ],
   "source": [
    "nn_learner.train_loop(dl)"
   ]
  },
  {
   "cell_type": "code",
   "execution_count": 23,
   "id": "e0163366",
   "metadata": {
    "execution": {
     "iopub.execute_input": "2022-11-14T20:13:56.527238Z",
     "iopub.status.busy": "2022-11-14T20:13:56.526512Z",
     "iopub.status.idle": "2022-11-14T20:14:15.007536Z",
     "shell.execute_reply": "2022-11-14T20:14:15.008541Z"
    },
    "papermill": {
     "duration": 18.537753,
     "end_time": "2022-11-14T20:14:15.008719",
     "exception": false,
     "start_time": "2022-11-14T20:13:56.470966",
     "status": "completed"
    },
    "tags": []
   },
   "outputs": [
    {
     "name": "stdout",
     "output_type": "stream",
     "text": [
      "Epoch 0, Loss 0.2408\n",
      "Training Accuracy: 0.7045, Testing Accuracy: 0.7344\n",
      "\n"
     ]
    },
    {
     "name": "stdout",
     "output_type": "stream",
     "text": [
      "Epoch 10, Loss 0.1006\n",
      "Training Accuracy: 0.9110, Testing Accuracy: 0.9229\n",
      "\n"
     ]
    },
    {
     "name": "stdout",
     "output_type": "stream",
     "text": [
      "Epoch 20, Loss 0.0778\n",
      "Training Accuracy: 0.9268, Testing Accuracy: 0.9410\n",
      "\n"
     ]
    },
    {
     "name": "stdout",
     "output_type": "stream",
     "text": [
      "Epoch 30, Loss 0.0672\n",
      "Training Accuracy: 0.9347, Testing Accuracy: 0.9496\n",
      "\n"
     ]
    },
    {
     "name": "stdout",
     "output_type": "stream",
     "text": [
      "Epoch 40, Loss 0.0608\n",
      "Training Accuracy: 0.9404, Testing Accuracy: 0.9521\n",
      "\n"
     ]
    },
    {
     "name": "stdout",
     "output_type": "stream",
     "text": [
      "Epoch 50, Loss 0.0565\n",
      "Training Accuracy: 0.9441, Testing Accuracy: 0.9567\n",
      "\n"
     ]
    },
    {
     "name": "stdout",
     "output_type": "stream",
     "text": [
      "Epoch 60, Loss 0.0532\n",
      "Training Accuracy: 0.9472, Testing Accuracy: 0.9587\n",
      "\n"
     ]
    },
    {
     "name": "stdout",
     "output_type": "stream",
     "text": [
      "Epoch 70, Loss 0.0507\n",
      "Training Accuracy: 0.9490, Testing Accuracy: 0.9602\n",
      "\n"
     ]
    },
    {
     "name": "stdout",
     "output_type": "stream",
     "text": [
      "Epoch 80, Loss 0.0487\n",
      "Training Accuracy: 0.9508, Testing Accuracy: 0.9617\n",
      "\n"
     ]
    },
    {
     "name": "stdout",
     "output_type": "stream",
     "text": [
      "Epoch 90, Loss 0.0471\n",
      "Training Accuracy: 0.9526, Testing Accuracy: 0.9632\n",
      "\n"
     ]
    },
    {
     "name": "stdout",
     "output_type": "stream",
     "text": [
      "Epoch 100, Loss 0.0457\n",
      "Training Accuracy: 0.9541, Testing Accuracy: 0.9642\n",
      "\n"
     ]
    },
    {
     "name": "stdout",
     "output_type": "stream",
     "text": [
      "Epoch 110, Loss 0.0445\n",
      "Training Accuracy: 0.9549, Testing Accuracy: 0.9642\n",
      "\n"
     ]
    },
    {
     "name": "stdout",
     "output_type": "stream",
     "text": [
      "Epoch 120, Loss 0.0435\n",
      "Training Accuracy: 0.9558, Testing Accuracy: 0.9652\n",
      "\n"
     ]
    },
    {
     "name": "stdout",
     "output_type": "stream",
     "text": [
      "Epoch 130, Loss 0.0426\n",
      "Training Accuracy: 0.9563, Testing Accuracy: 0.9652\n",
      "\n"
     ]
    },
    {
     "name": "stdout",
     "output_type": "stream",
     "text": [
      "Epoch 140, Loss 0.0418\n",
      "Training Accuracy: 0.9571, Testing Accuracy: 0.9652\n",
      "\n"
     ]
    },
    {
     "name": "stdout",
     "output_type": "stream",
     "text": [
      "Epoch 150, Loss 0.0411\n",
      "Training Accuracy: 0.9572, Testing Accuracy: 0.9662\n",
      "\n"
     ]
    },
    {
     "name": "stdout",
     "output_type": "stream",
     "text": [
      "Epoch 160, Loss 0.0404\n",
      "Training Accuracy: 0.9575, Testing Accuracy: 0.9667\n",
      "\n"
     ]
    },
    {
     "name": "stdout",
     "output_type": "stream",
     "text": [
      "Epoch 170, Loss 0.0398\n",
      "Training Accuracy: 0.9577, Testing Accuracy: 0.9667\n",
      "\n"
     ]
    },
    {
     "name": "stdout",
     "output_type": "stream",
     "text": [
      "Epoch 180, Loss 0.0393\n",
      "Training Accuracy: 0.9585, Testing Accuracy: 0.9667\n",
      "\n"
     ]
    },
    {
     "name": "stdout",
     "output_type": "stream",
     "text": [
      "Epoch 190, Loss 0.0388\n",
      "Training Accuracy: 0.9589, Testing Accuracy: 0.9667\n",
      "\n"
     ]
    },
    {
     "name": "stdout",
     "output_type": "stream",
     "text": [
      "Epoch 200, Loss 0.0383\n",
      "Training Accuracy: 0.9592, Testing Accuracy: 0.9667\n",
      "\n"
     ]
    },
    {
     "name": "stdout",
     "output_type": "stream",
     "text": [
      "Epoch 210, Loss 0.0379\n",
      "Training Accuracy: 0.9597, Testing Accuracy: 0.9667\n",
      "\n"
     ]
    },
    {
     "name": "stdout",
     "output_type": "stream",
     "text": [
      "Epoch 220, Loss 0.0375\n",
      "Training Accuracy: 0.9600, Testing Accuracy: 0.9672\n",
      "\n"
     ]
    },
    {
     "name": "stdout",
     "output_type": "stream",
     "text": [
      "Epoch 230, Loss 0.0371\n",
      "Training Accuracy: 0.9604, Testing Accuracy: 0.9672\n",
      "\n"
     ]
    },
    {
     "name": "stdout",
     "output_type": "stream",
     "text": [
      "Epoch 240, Loss 0.0367\n",
      "Training Accuracy: 0.9608, Testing Accuracy: 0.9677\n",
      "\n"
     ]
    },
    {
     "data": {
      "text/plain": [
       "0.02877889502979043"
      ]
     },
     "execution_count": 23,
     "metadata": {},
     "output_type": "execute_result"
    }
   ],
   "source": [
    "lr_learner.train_loop(dl)"
   ]
  },
  {
   "cell_type": "code",
   "execution_count": 24,
   "id": "ca410940",
   "metadata": {
    "execution": {
     "iopub.execute_input": "2022-11-14T20:14:15.119161Z",
     "iopub.status.busy": "2022-11-14T20:14:15.118280Z",
     "iopub.status.idle": "2022-11-14T20:14:15.389673Z",
     "shell.execute_reply": "2022-11-14T20:14:15.390245Z"
    },
    "papermill": {
     "duration": 0.329676,
     "end_time": "2022-11-14T20:14:15.390398",
     "exception": false,
     "start_time": "2022-11-14T20:14:15.060722",
     "status": "completed"
    },
    "tags": []
   },
   "outputs": [
    {
     "data": {
      "text/plain": [
       "<matplotlib.legend.Legend at 0x7f0a44a96588>"
      ]
     },
     "execution_count": 24,
     "metadata": {},
     "output_type": "execute_result"
    },
    {
     "data": {
      "image/png": "[encoded data removed]",
      "text/plain": [
       "<Figure size 1080x720 with 1 Axes>"
      ]
     },
     "metadata": {
      "needs_background": "light"
     },
     "output_type": "display_data"
    }
   ],
   "source": [
    "#comparing the results of NN and LR\n",
    "plt.figure(figsize=(15,10))\n",
    "\n",
    "# Neural Network plots\n",
    "plt.plot(acc_nn.accuracies, 'r-', label = \"Training Accuracies - NN\")\n",
    "plt.plot(acc_nn.test_accuracies, 'g-', label = \"Testing Accuracies - NN\")\n",
    "\n",
    "# Logistic Regression plots\n",
    "plt.plot(acc_lr.accuracies, 'k-', label = \"Training Accuracies - LR\")\n",
    "plt.plot(acc_lr.test_accuracies, 'b-', label = \"Testing Accuracies - LR\")\n",
    "plt.legend()"
   ]
  },
  {
   "cell_type": "markdown",
   "id": "80dfb35c",
   "metadata": {
    "papermill": {
     "duration": 0.048263,
     "end_time": "2022-11-14T20:14:15.489868",
     "exception": false,
     "start_time": "2022-11-14T20:14:15.441605",
     "status": "completed"
    },
    "tags": []
   },
   "source": [
    "#### Plotting the outputs of this layer of the NN.\n"
   ]
  },
  {
   "cell_type": "code",
   "execution_count": 25,
   "id": "45eb2ff5",
   "metadata": {
    "execution": {
     "iopub.execute_input": "2022-11-14T20:14:15.595657Z",
     "iopub.status.busy": "2022-11-14T20:14:15.594716Z",
     "iopub.status.idle": "2022-11-14T20:14:15.619405Z",
     "shell.execute_reply": "2022-11-14T20:14:15.619970Z"
    },
    "papermill": {
     "duration": 0.081002,
     "end_time": "2022-11-14T20:14:15.620132",
     "exception": false,
     "start_time": "2022-11-14T20:14:15.539130",
     "status": "completed"
    },
    "tags": []
   },
   "outputs": [],
   "source": [
    "new_model = Model(layers[:-2])\n",
    "testing_plot = new_model(testing_data_x)"
   ]
  },
  {
   "cell_type": "code",
   "execution_count": 26,
   "id": "4c0a5485",
   "metadata": {
    "execution": {
     "iopub.execute_input": "2022-11-14T20:14:15.736258Z",
     "iopub.status.busy": "2022-11-14T20:14:15.735513Z",
     "iopub.status.idle": "2022-11-14T20:14:15.988692Z",
     "shell.execute_reply": "2022-11-14T20:14:15.988094Z"
    },
    "papermill": {
     "duration": 0.3168,
     "end_time": "2022-11-14T20:14:15.988831",
     "exception": false,
     "start_time": "2022-11-14T20:14:15.672031",
     "status": "completed"
    },
    "tags": []
   },
   "outputs": [
    {
     "data": {
      "text/plain": [
       "Text(0.5, 1.0, 'Outputs')"
      ]
     },
     "execution_count": 26,
     "metadata": {},
     "output_type": "execute_result"
    },
    {
     "data": {
      "image/png": "[encoded data removed]",
      "text/plain": [
       "<Figure size 576x504 with 1 Axes>"
      ]
     },
     "metadata": {
      "needs_background": "light"
     },
     "output_type": "display_data"
    }
   ],
   "source": [
    "# Plotting the scatter plot of points and color coding by class\n",
    "plt.figure(figsize=(8,7))\n",
    "plt.scatter(testing_plot[:,0], testing_plot[:,1], alpha = 0.1, c = y_test.ravel());\n",
    "plt.title('Outputs')"
   ]
  },
  {
   "cell_type": "markdown",
   "id": "a74fcf8f",
   "metadata": {
    "papermill": {
     "duration": 0.076145,
     "end_time": "2022-11-14T20:14:16.118785",
     "exception": false,
     "start_time": "2022-11-14T20:14:16.042640",
     "status": "completed"
    },
    "tags": []
   },
   "source": [
    "Probability contours"
   ]
  },
  {
   "cell_type": "code",
   "execution_count": 27,
   "id": "d0afc8e3",
   "metadata": {
    "execution": {
     "iopub.execute_input": "2022-11-14T20:14:16.225690Z",
     "iopub.status.busy": "2022-11-14T20:14:16.224994Z",
     "iopub.status.idle": "2022-11-14T20:14:16.237575Z",
     "shell.execute_reply": "2022-11-14T20:14:16.238261Z"
    },
    "papermill": {
     "duration": 0.068895,
     "end_time": "2022-11-14T20:14:16.238397",
     "exception": false,
     "start_time": "2022-11-14T20:14:16.169502",
     "status": "completed"
    },
    "tags": []
   },
   "outputs": [],
   "source": [
    "model_prob = Model(layers[-2:]) "
   ]
  },
  {
   "cell_type": "code",
   "execution_count": 28,
   "id": "9b96e238",
   "metadata": {
    "execution": {
     "iopub.execute_input": "2022-11-14T20:14:16.346254Z",
     "iopub.status.busy": "2022-11-14T20:14:16.345463Z",
     "iopub.status.idle": "2022-11-14T20:14:16.359878Z",
     "shell.execute_reply": "2022-11-14T20:14:16.360415Z"
    },
    "papermill": {
     "duration": 0.07305,
     "end_time": "2022-11-14T20:14:16.360656",
     "exception": false,
     "start_time": "2022-11-14T20:14:16.287606",
     "status": "completed"
    },
    "tags": []
   },
   "outputs": [],
   "source": [
    "#creating the x and y ranges according to the above generated plot.\n",
    "x_range = np.linspace(-4, 1, 100) \n",
    "y_range = np.linspace(-6, 6, 100) \n",
    "x_grid, y_grid = np.meshgrid(x_range, y_range) # x_grid and y_grig are of size 100 X 100\n",
    "\n",
    "# converting x_grid and y_grid to continuous arrays\n",
    "x_gridflat = np.ravel(x_grid)\n",
    "y_gridflat = np.ravel(y_grid)\n",
    "\n",
    "# The last layer of the current model takes two columns as input. Hence transpose of np.vstack() is required.\n",
    "X = np.vstack((x_gridflat, y_gridflat)).T\n",
    "\n",
    "prob_contour = model_prob(X).reshape(100,100) "
   ]
  },
  {
   "cell_type": "code",
   "execution_count": 29,
   "id": "da72499a",
   "metadata": {
    "execution": {
     "iopub.execute_input": "2022-11-14T20:14:16.489761Z",
     "iopub.status.busy": "2022-11-14T20:14:16.488854Z",
     "iopub.status.idle": "2022-11-14T20:14:16.813879Z",
     "shell.execute_reply": "2022-11-14T20:14:16.813295Z"
    },
    "papermill": {
     "duration": 0.399082,
     "end_time": "2022-11-14T20:14:16.814015",
     "exception": false,
     "start_time": "2022-11-14T20:14:16.414933",
     "status": "completed"
    },
    "tags": []
   },
   "outputs": [
    {
     "data": {
      "image/png": "[encoded data removed]",
      "text/plain": [
       "<Figure size 720x648 with 1 Axes>"
      ]
     },
     "metadata": {
      "needs_background": "light"
     },
     "output_type": "display_data"
    }
   ],
   "source": [
    "plt.figure(figsize=(10,9))\n",
    "plt.scatter(testing_plot[:,0], testing_plot[:,1], alpha = 0.1, c = y_test.ravel())\n",
    "contours = plt.contour(x_grid,y_grid,prob_contour)\n",
    "plt.title('Probability Contours')\n",
    "plt.clabel(contours, inline = True );"
   ]
  },
  {
   "cell_type": "code",
   "execution_count": null,
   "id": "e81b4ac7",
   "metadata": {
    "papermill": {
     "duration": 0.05403,
     "end_time": "2022-11-14T20:14:16.925275",
     "exception": false,
     "start_time": "2022-11-14T20:14:16.871245",
     "status": "completed"
    },
    "tags": []
   },
   "outputs": [],
   "source": []
  }
 ],
 "metadata": {
  "kernelspec": {
   "display_name": "Python 3",
   "language": "python",
   "name": "python3"
  },
  "language_info": {
   "codemirror_mode": {
    "name": "ipython",
    "version": 3
   },
   "file_extension": ".py",
   "mimetype": "text/x-python",
   "name": "python",
   "nbconvert_exporter": "python",
   "pygments_lexer": "ipython3",
   "version": "3.6.15"
  },
  "papermill": {
   "default_parameters": {},
   "duration": 151.402522,
   "end_time": "2022-11-14T20:14:17.399912",
   "environment_variables": {},
   "exception": null,
   "input_path": "2020-08-11-part2.ipynb",
   "output_path": "2020-08-11-part2.ipynb",
   "parameters": {},
   "start_time": "2022-11-14T20:11:45.997390",
   "version": "2.3.3"
  }
 },
 "nbformat": 4,
 "nbformat_minor": 5
}