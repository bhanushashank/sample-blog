{
 "cells": [
  {
   "cell_type": "markdown",
   "id": "98380cd3",
   "metadata": {
    "papermill": {
     "duration": 0.037235,
     "end_time": "2022-05-17T20:10:51.165269",
     "exception": false,
     "start_time": "2022-05-17T20:10:51.128034",
     "status": "completed"
    },
    "tags": []
   },
   "source": [
    "# Distinguish Your Own Digits (DYOD)"
   ]
  },
  {
   "cell_type": "markdown",
   "id": "ef31240d",
   "metadata": {
    "papermill": {
     "duration": 0.033697,
     "end_time": "2022-05-17T20:10:51.232286",
     "exception": false,
     "start_time": "2022-05-17T20:10:51.198589",
     "status": "completed"
    },
    "tags": []
   },
   "source": [
    "You are going to write a classifier that distinguishes between the number 3 and number 8."
   ]
  },
  {
   "cell_type": "code",
   "execution_count": 1,
   "id": "b15c8646",
   "metadata": {
    "execution": {
     "iopub.execute_input": "2022-05-17T20:10:51.320451Z",
     "iopub.status.busy": "2022-05-17T20:10:51.319756Z",
     "iopub.status.idle": "2022-05-17T20:10:51.333260Z",
     "shell.execute_reply": "2022-05-17T20:10:51.332642Z"
    },
    "papermill": {
     "duration": 0.069837,
     "end_time": "2022-05-17T20:10:51.333442",
     "exception": false,
     "start_time": "2022-05-17T20:10:51.263605",
     "status": "completed"
    },
    "tags": []
   },
   "outputs": [],
   "source": [
    "%load_ext autoreload\n",
    "%autoreload 2"
   ]
  },
  {
   "cell_type": "code",
   "execution_count": 2,
   "id": "22ef38dc",
   "metadata": {
    "execution": {
     "iopub.execute_input": "2022-05-17T20:10:51.404229Z",
     "iopub.status.busy": "2022-05-17T20:10:51.403491Z",
     "iopub.status.idle": "2022-05-17T20:10:52.118406Z",
     "shell.execute_reply": "2022-05-17T20:10:52.118978Z"
    },
    "papermill": {
     "duration": 0.753815,
     "end_time": "2022-05-17T20:10:52.119164",
     "exception": false,
     "start_time": "2022-05-17T20:10:51.365349",
     "status": "completed"
    },
    "tags": []
   },
   "outputs": [],
   "source": [
    "%matplotlib inline\n",
    "import numpy as np\n",
    "import matplotlib.pyplot as plt\n",
    "import pandas as pd"
   ]
  },
  {
   "cell_type": "markdown",
   "id": "ba036198",
   "metadata": {
    "papermill": {
     "duration": 0.032518,
     "end_time": "2022-05-17T20:10:52.185177",
     "exception": false,
     "start_time": "2022-05-17T20:10:52.152659",
     "status": "completed"
    },
    "tags": []
   },
   "source": [
    "From the command line run `pip install mnist`. This is a library that will help you bring down the mnist dataset. If you run this from a notebook, you need to put  `!pip install mnist` in a cell by itself."
   ]
  },
  {
   "cell_type": "code",
   "execution_count": 3,
   "id": "bb6ad8a1",
   "metadata": {
    "execution": {
     "iopub.execute_input": "2022-05-17T20:10:52.263005Z",
     "iopub.status.busy": "2022-05-17T20:10:52.262282Z",
     "iopub.status.idle": "2022-05-17T20:10:55.160956Z",
     "shell.execute_reply": "2022-05-17T20:10:55.160298Z"
    },
    "papermill": {
     "duration": 2.944454,
     "end_time": "2022-05-17T20:10:55.161098",
     "exception": false,
     "start_time": "2022-05-17T20:10:52.216644",
     "status": "completed"
    },
    "tags": []
   },
   "outputs": [
    {
     "name": "stdout",
     "output_type": "stream",
     "text": [
      "Collecting mnist\r\n"
     ]
    },
    {
     "name": "stdout",
     "output_type": "stream",
     "text": [
      "  Downloading mnist-0.2.2-py2.py3-none-any.whl (3.5 kB)\r\n",
      "Requirement already satisfied: numpy in /opt/hostedtoolcache/Python/3.6.15/x64/lib/python3.6/site-packages (from mnist) (1.19.5)\r\n"
     ]
    },
    {
     "name": "stdout",
     "output_type": "stream",
     "text": [
      "Installing collected packages: mnist\r\n"
     ]
    },
    {
     "name": "stdout",
     "output_type": "stream",
     "text": [
      "Successfully installed mnist-0.2.2\r\n"
     ]
    }
   ],
   "source": [
    "!pip install mnist"
   ]
  },
  {
   "cell_type": "markdown",
   "id": "69df9c9a",
   "metadata": {
    "papermill": {
     "duration": 0.03316,
     "end_time": "2022-05-17T20:10:55.228436",
     "exception": false,
     "start_time": "2022-05-17T20:10:55.195276",
     "status": "completed"
    },
    "tags": []
   },
   "source": [
    "## Preparing the Data"
   ]
  },
  {
   "cell_type": "code",
   "execution_count": 4,
   "id": "7f69d806",
   "metadata": {
    "execution": {
     "iopub.execute_input": "2022-05-17T20:10:55.318754Z",
     "iopub.status.busy": "2022-05-17T20:10:55.305617Z",
     "iopub.status.idle": "2022-05-17T20:10:55.323258Z",
     "shell.execute_reply": "2022-05-17T20:10:55.323902Z"
    },
    "papermill": {
     "duration": 0.062049,
     "end_time": "2022-05-17T20:10:55.324050",
     "exception": false,
     "start_time": "2022-05-17T20:10:55.262001",
     "status": "completed"
    },
    "tags": []
   },
   "outputs": [],
   "source": [
    "import mnist"
   ]
  },
  {
   "cell_type": "code",
   "execution_count": 5,
   "id": "a411e44f",
   "metadata": {
    "execution": {
     "iopub.execute_input": "2022-05-17T20:10:55.399146Z",
     "iopub.status.busy": "2022-05-17T20:10:55.398454Z",
     "iopub.status.idle": "2022-05-17T20:10:56.050889Z",
     "shell.execute_reply": "2022-05-17T20:10:56.050163Z"
    },
    "papermill": {
     "duration": 0.69211,
     "end_time": "2022-05-17T20:10:56.051105",
     "exception": false,
     "start_time": "2022-05-17T20:10:55.358995",
     "status": "completed"
    },
    "tags": []
   },
   "outputs": [],
   "source": [
    "train_images = mnist.train_images()\n",
    "train_labels = mnist.train_labels()"
   ]
  },
  {
   "cell_type": "code",
   "execution_count": 6,
   "id": "dceab3a5",
   "metadata": {
    "execution": {
     "iopub.execute_input": "2022-05-17T20:10:56.126962Z",
     "iopub.status.busy": "2022-05-17T20:10:56.126272Z",
     "iopub.status.idle": "2022-05-17T20:10:56.142812Z",
     "shell.execute_reply": "2022-05-17T20:10:56.143525Z"
    },
    "papermill": {
     "duration": 0.05646,
     "end_time": "2022-05-17T20:10:56.143784",
     "exception": false,
     "start_time": "2022-05-17T20:10:56.087324",
     "status": "completed"
    },
    "tags": []
   },
   "outputs": [
    {
     "data": {
      "text/plain": [
       "((60000, 28, 28), (60000,))"
      ]
     },
     "execution_count": 6,
     "metadata": {},
     "output_type": "execute_result"
    }
   ],
   "source": [
    "train_images.shape, train_labels.shape"
   ]
  },
  {
   "cell_type": "code",
   "execution_count": 7,
   "id": "f50dc2bb",
   "metadata": {
    "execution": {
     "iopub.execute_input": "2022-05-17T20:10:56.216119Z",
     "iopub.status.busy": "2022-05-17T20:10:56.215419Z",
     "iopub.status.idle": "2022-05-17T20:10:56.392811Z",
     "shell.execute_reply": "2022-05-17T20:10:56.393393Z"
    },
    "papermill": {
     "duration": 0.216156,
     "end_time": "2022-05-17T20:10:56.393588",
     "exception": false,
     "start_time": "2022-05-17T20:10:56.177432",
     "status": "completed"
    },
    "tags": []
   },
   "outputs": [],
   "source": [
    "test_images = mnist.test_images()\n",
    "test_labels = mnist.test_labels()"
   ]
  },
  {
   "cell_type": "code",
   "execution_count": 8,
   "id": "fc38cf1b",
   "metadata": {
    "execution": {
     "iopub.execute_input": "2022-05-17T20:10:56.465757Z",
     "iopub.status.busy": "2022-05-17T20:10:56.465043Z",
     "iopub.status.idle": "2022-05-17T20:10:56.482429Z",
     "shell.execute_reply": "2022-05-17T20:10:56.481835Z"
    },
    "papermill": {
     "duration": 0.054738,
     "end_time": "2022-05-17T20:10:56.482568",
     "exception": false,
     "start_time": "2022-05-17T20:10:56.427830",
     "status": "completed"
    },
    "tags": []
   },
   "outputs": [
    {
     "data": {
      "text/plain": [
       "((10000, 28, 28), (10000,))"
      ]
     },
     "execution_count": 8,
     "metadata": {},
     "output_type": "execute_result"
    }
   ],
   "source": [
    "test_images.shape, test_labels.shape"
   ]
  },
  {
   "cell_type": "code",
   "execution_count": 9,
   "id": "f9ed8fe0",
   "metadata": {
    "execution": {
     "iopub.execute_input": "2022-05-17T20:10:56.555635Z",
     "iopub.status.busy": "2022-05-17T20:10:56.554911Z",
     "iopub.status.idle": "2022-05-17T20:10:56.757922Z",
     "shell.execute_reply": "2022-05-17T20:10:56.757289Z"
    },
    "papermill": {
     "duration": 0.242116,
     "end_time": "2022-05-17T20:10:56.758068",
     "exception": false,
     "start_time": "2022-05-17T20:10:56.515952",
     "status": "completed"
    },
    "tags": []
   },
   "outputs": [
    {
     "name": "stdout",
     "output_type": "stream",
     "text": [
      "2\n"
     ]
    },
    {
     "data": {
      "text/plain": [
       "<matplotlib.image.AxesImage at 0x7f5adf1d17f0>"
      ]
     },
     "execution_count": 9,
     "metadata": {},
     "output_type": "execute_result"
    },
    {
     "data": {
      "image/png": "[encoded data removed]",
      "text/plain": [
       "<Figure size 432x288 with 1 Axes>"
      ]
     },
     "metadata": {
      "needs_background": "light"
     },
     "output_type": "display_data"
    }
   ],
   "source": [
    "image_index = 7776 # You may select anything up to 60,000\n",
    "print(train_labels[image_index]) \n",
    "plt.imshow(train_images[image_index], cmap='Greys')"
   ]
  },
  {
   "cell_type": "markdown",
   "id": "a8d2388d",
   "metadata": {
    "papermill": {
     "duration": 0.034252,
     "end_time": "2022-05-17T20:10:56.827754",
     "exception": false,
     "start_time": "2022-05-17T20:10:56.793502",
     "status": "completed"
    },
    "tags": []
   },
   "source": [
    "## Filter data to get 3 and 8 out"
   ]
  },
  {
   "cell_type": "code",
   "execution_count": 10,
   "id": "776f7fc7",
   "metadata": {
    "execution": {
     "iopub.execute_input": "2022-05-17T20:10:56.910418Z",
     "iopub.status.busy": "2022-05-17T20:10:56.909582Z",
     "iopub.status.idle": "2022-05-17T20:10:56.930616Z",
     "shell.execute_reply": "2022-05-17T20:10:56.931257Z"
    },
    "papermill": {
     "duration": 0.066827,
     "end_time": "2022-05-17T20:10:56.931461",
     "exception": false,
     "start_time": "2022-05-17T20:10:56.864634",
     "status": "completed"
    },
    "tags": []
   },
   "outputs": [],
   "source": [
    "train_filter = np.where((train_labels == 3 ) | (train_labels == 8))\n",
    "test_filter = np.where((test_labels == 3) | (test_labels == 8))\n",
    "X_train, y_train = train_images[train_filter], train_labels[train_filter]\n",
    "X_test, y_test = test_images[test_filter], test_labels[test_filter]"
   ]
  },
  {
   "cell_type": "markdown",
   "id": "948f0b7e",
   "metadata": {
    "papermill": {
     "duration": 0.035934,
     "end_time": "2022-05-17T20:10:57.003034",
     "exception": false,
     "start_time": "2022-05-17T20:10:56.967100",
     "status": "completed"
    },
    "tags": []
   },
   "source": [
    "We normalize the pizel values in the 0 to 1 range"
   ]
  },
  {
   "cell_type": "code",
   "execution_count": 11,
   "id": "ee4c2166",
   "metadata": {
    "execution": {
     "iopub.execute_input": "2022-05-17T20:10:57.083635Z",
     "iopub.status.busy": "2022-05-17T20:10:57.082910Z",
     "iopub.status.idle": "2022-05-17T20:10:57.148590Z",
     "shell.execute_reply": "2022-05-17T20:10:57.149133Z"
    },
    "papermill": {
     "duration": 0.110963,
     "end_time": "2022-05-17T20:10:57.149315",
     "exception": false,
     "start_time": "2022-05-17T20:10:57.038352",
     "status": "completed"
    },
    "tags": []
   },
   "outputs": [],
   "source": [
    "X_train = X_train/255.\n",
    "X_test = X_test/255."
   ]
  },
  {
   "cell_type": "markdown",
   "id": "ddcf4fab",
   "metadata": {
    "papermill": {
     "duration": 0.035453,
     "end_time": "2022-05-17T20:10:57.221378",
     "exception": false,
     "start_time": "2022-05-17T20:10:57.185925",
     "status": "completed"
    },
    "tags": []
   },
   "source": [
    "And setup the labels as 1 (when the digit is 3) and 0 (when the digit is 8)"
   ]
  },
  {
   "cell_type": "code",
   "execution_count": 12,
   "id": "7dc908f2",
   "metadata": {
    "execution": {
     "iopub.execute_input": "2022-05-17T20:10:57.300119Z",
     "iopub.status.busy": "2022-05-17T20:10:57.299436Z",
     "iopub.status.idle": "2022-05-17T20:10:57.311679Z",
     "shell.execute_reply": "2022-05-17T20:10:57.312243Z"
    },
    "papermill": {
     "duration": 0.055403,
     "end_time": "2022-05-17T20:10:57.312416",
     "exception": false,
     "start_time": "2022-05-17T20:10:57.257013",
     "status": "completed"
    },
    "tags": []
   },
   "outputs": [],
   "source": [
    "y_train = 1*(y_train==3)\n",
    "y_test = 1*(y_test==3)"
   ]
  },
  {
   "cell_type": "code",
   "execution_count": 13,
   "id": "01e4e969",
   "metadata": {
    "execution": {
     "iopub.execute_input": "2022-05-17T20:10:57.400152Z",
     "iopub.status.busy": "2022-05-17T20:10:57.393238Z",
     "iopub.status.idle": "2022-05-17T20:10:57.406528Z",
     "shell.execute_reply": "2022-05-17T20:10:57.405922Z"
    },
    "papermill": {
     "duration": 0.059014,
     "end_time": "2022-05-17T20:10:57.406691",
     "exception": false,
     "start_time": "2022-05-17T20:10:57.347677",
     "status": "completed"
    },
    "tags": []
   },
   "outputs": [
    {
     "data": {
      "text/plain": [
       "((11982, 28, 28), (1984, 28, 28))"
      ]
     },
     "execution_count": 13,
     "metadata": {},
     "output_type": "execute_result"
    }
   ],
   "source": [
    "X_train.shape, X_test.shape"
   ]
  },
  {
   "cell_type": "markdown",
   "id": "5ccf3f85",
   "metadata": {
    "papermill": {
     "duration": 0.03563,
     "end_time": "2022-05-17T20:10:57.477710",
     "exception": false,
     "start_time": "2022-05-17T20:10:57.442080",
     "status": "completed"
    },
    "tags": []
   },
   "source": [
    "We reshape the data to flatten the image pixels into a set of features or co-variates:"
   ]
  },
  {
   "cell_type": "code",
   "execution_count": 14,
   "id": "5286a4a3",
   "metadata": {
    "execution": {
     "iopub.execute_input": "2022-05-17T20:10:57.557560Z",
     "iopub.status.busy": "2022-05-17T20:10:57.556854Z",
     "iopub.status.idle": "2022-05-17T20:10:57.570765Z",
     "shell.execute_reply": "2022-05-17T20:10:57.571299Z"
    },
    "papermill": {
     "duration": 0.057963,
     "end_time": "2022-05-17T20:10:57.571476",
     "exception": false,
     "start_time": "2022-05-17T20:10:57.513513",
     "status": "completed"
    },
    "tags": []
   },
   "outputs": [
    {
     "data": {
      "text/plain": [
       "((11982, 784), (1984, 784))"
      ]
     },
     "execution_count": 14,
     "metadata": {},
     "output_type": "execute_result"
    }
   ],
   "source": [
    "X_train = X_train.reshape(X_train.shape[0], -1)\n",
    "X_test = X_test.reshape(X_test.shape[0], -1)\n",
    "X_train.shape, X_test.shape"
   ]
  },
  {
   "cell_type": "code",
   "execution_count": 15,
   "id": "73c5f88a",
   "metadata": {
    "execution": {
     "iopub.execute_input": "2022-05-17T20:10:57.651042Z",
     "iopub.status.busy": "2022-05-17T20:10:57.650263Z",
     "iopub.status.idle": "2022-05-17T20:10:57.673689Z",
     "shell.execute_reply": "2022-05-17T20:10:57.674281Z"
    },
    "papermill": {
     "duration": 0.066941,
     "end_time": "2022-05-17T20:10:57.674511",
     "exception": false,
     "start_time": "2022-05-17T20:10:57.607570",
     "status": "completed"
    },
    "tags": []
   },
   "outputs": [],
   "source": [
    "#Impoting functions from 'Kudzu'\n",
    "from kudzu.model import Model\n",
    "from kudzu.train import Learner\n",
    "from kudzu.optim import GD\n",
    "from kudzu.data import Data, Sampler,Dataloader\n",
    "\n",
    "from kudzu.callbacks import AccCallback\n",
    "from kudzu.callbacks import ClfCallback\n",
    "\n",
    "from kudzu.loss import MSE\n",
    "\n",
    "from kudzu.layer import Sigmoid,Relu\n",
    "from kudzu.layer import Affine"
   ]
  },
  {
   "cell_type": "markdown",
   "id": "bc01172a",
   "metadata": {
    "papermill": {
     "duration": 0.037232,
     "end_time": "2022-05-17T20:10:57.749156",
     "exception": false,
     "start_time": "2022-05-17T20:10:57.711924",
     "status": "completed"
    },
    "tags": []
   },
   "source": [
    "### Let us create a `Config` class, to store important parameters. \n",
    "This class essentially plays the role of a dictionary."
   ]
  },
  {
   "cell_type": "code",
   "execution_count": 16,
   "id": "978281aa",
   "metadata": {
    "execution": {
     "iopub.execute_input": "2022-05-17T20:10:57.827185Z",
     "iopub.status.busy": "2022-05-17T20:10:57.826510Z",
     "iopub.status.idle": "2022-05-17T20:10:57.841875Z",
     "shell.execute_reply": "2022-05-17T20:10:57.841254Z"
    },
    "papermill": {
     "duration": 0.056331,
     "end_time": "2022-05-17T20:10:57.842006",
     "exception": false,
     "start_time": "2022-05-17T20:10:57.785675",
     "status": "completed"
    },
    "tags": []
   },
   "outputs": [],
   "source": [
    "class Config:\n",
    "    pass\n",
    "config = Config()\n",
    "config.lr = 0.001\n",
    "config.num_epochs = 250\n",
    "config.bs = 50"
   ]
  },
  {
   "cell_type": "markdown",
   "id": "1385fa59",
   "metadata": {
    "papermill": {
     "duration": 0.036362,
     "end_time": "2022-05-17T20:10:57.915619",
     "exception": false,
     "start_time": "2022-05-17T20:10:57.879257",
     "status": "completed"
    },
    "tags": []
   },
   "source": [
    "### Running Models with the Training data\n",
    "Details about the network layers:\n",
    "- A first affine layer has 784 inputs and does 100 affine transforms. These are followed by a Relu\n",
    "- A second affine layer has 100 inputs from the 100 activations of the past layer, and does 100 affine transforms. These are followed by a Relu\n",
    "- A third affine layer has 100 activations and does 2 affine transformations to create an embedding for visualization. There is no non-linearity here.\n",
    "- A final \"logistic regression\" which has an affine transform from 2 inputs to 1 output, which is squeezed through a sigmoid.\n"
   ]
  },
  {
   "cell_type": "code",
   "execution_count": 17,
   "id": "2b9c66db",
   "metadata": {
    "execution": {
     "iopub.execute_input": "2022-05-17T20:10:57.993255Z",
     "iopub.status.busy": "2022-05-17T20:10:57.992513Z",
     "iopub.status.idle": "2022-05-17T20:10:58.009596Z",
     "shell.execute_reply": "2022-05-17T20:10:58.008983Z"
    },
    "papermill": {
     "duration": 0.058637,
     "end_time": "2022-05-17T20:10:58.009779",
     "exception": false,
     "start_time": "2022-05-17T20:10:57.951142",
     "status": "completed"
    },
    "tags": []
   },
   "outputs": [],
   "source": [
    "data = Data(X_train, y_train.reshape(-1,1))\n",
    "sampler = Sampler(data, config.bs, shuffle=True)\n",
    "\n",
    "dl = Dataloader(data, sampler)\n",
    "\n",
    "opt = GD(config.lr)\n",
    "loss = MSE()"
   ]
  },
  {
   "cell_type": "code",
   "execution_count": 18,
   "id": "b275e4c2",
   "metadata": {
    "execution": {
     "iopub.execute_input": "2022-05-17T20:10:58.089285Z",
     "iopub.status.busy": "2022-05-17T20:10:58.088616Z",
     "iopub.status.idle": "2022-05-17T20:10:58.104554Z",
     "shell.execute_reply": "2022-05-17T20:10:58.103849Z"
    },
    "papermill": {
     "duration": 0.058838,
     "end_time": "2022-05-17T20:10:58.104724",
     "exception": false,
     "start_time": "2022-05-17T20:10:58.045886",
     "status": "completed"
    },
    "tags": []
   },
   "outputs": [],
   "source": [
    "training_data_x = X_train\n",
    "testing_data_x = X_test\n",
    "training_data_y = y_train.reshape(-1,1)\n",
    "testing_data_y = y_test.reshape(-1,1)"
   ]
  },
  {
   "cell_type": "code",
   "execution_count": 19,
   "id": "76951160",
   "metadata": {
    "execution": {
     "iopub.execute_input": "2022-05-17T20:10:58.185187Z",
     "iopub.status.busy": "2022-05-17T20:10:58.184510Z",
     "iopub.status.idle": "2022-05-17T20:10:58.205904Z",
     "shell.execute_reply": "2022-05-17T20:10:58.205326Z"
    },
    "papermill": {
     "duration": 0.061891,
     "end_time": "2022-05-17T20:10:58.206043",
     "exception": false,
     "start_time": "2022-05-17T20:10:58.144152",
     "status": "completed"
    },
    "tags": []
   },
   "outputs": [
    {
     "name": "stdout",
     "output_type": "stream",
     "text": [
      "xavier\n",
      "xavier\n",
      "xavier\n",
      "xavier\n",
      "xavier\n"
     ]
    }
   ],
   "source": [
    "layers = [Affine(\"first\", 784, 100), Relu(\"first\"), Affine(\"second\", 100, 100), Relu(\"second\"), Affine(\"third\", 100, 2), Affine(\"last\", 2, 1), Sigmoid(\"last\")]\n",
    "model_nn = Model(layers)\n",
    "model_lr = Model([Affine(\"logits\", 784, 1), Sigmoid(\"sigmoid\")])"
   ]
  },
  {
   "cell_type": "code",
   "execution_count": 20,
   "id": "6eede77a",
   "metadata": {
    "execution": {
     "iopub.execute_input": "2022-05-17T20:10:58.284646Z",
     "iopub.status.busy": "2022-05-17T20:10:58.283964Z",
     "iopub.status.idle": "2022-05-17T20:10:58.297815Z",
     "shell.execute_reply": "2022-05-17T20:10:58.298550Z"
    },
    "papermill": {
     "duration": 0.057031,
     "end_time": "2022-05-17T20:10:58.298725",
     "exception": false,
     "start_time": "2022-05-17T20:10:58.241694",
     "status": "completed"
    },
    "tags": []
   },
   "outputs": [],
   "source": [
    "nn_learner = Learner(loss, model_nn, opt, config.num_epochs)\n",
    "acc_nn = ClfCallback(nn_learner, config.bs, training_data_x , testing_data_x, training_data_y, testing_data_y)\n",
    "nn_learner.set_callbacks([acc_nn])"
   ]
  },
  {
   "cell_type": "code",
   "execution_count": 21,
   "id": "877b6cc7",
   "metadata": {
    "execution": {
     "iopub.execute_input": "2022-05-17T20:10:58.379965Z",
     "iopub.status.busy": "2022-05-17T20:10:58.379269Z",
     "iopub.status.idle": "2022-05-17T20:10:58.394594Z",
     "shell.execute_reply": "2022-05-17T20:10:58.393804Z"
    },
    "papermill": {
     "duration": 0.058537,
     "end_time": "2022-05-17T20:10:58.394969",
     "exception": false,
     "start_time": "2022-05-17T20:10:58.336432",
     "status": "completed"
    },
    "tags": []
   },
   "outputs": [],
   "source": [
    "lr_learner = Learner(loss, model_lr, opt, config.num_epochs)\n",
    "acc_lr = ClfCallback(lr_learner, config.bs, training_data_x , testing_data_x, training_data_y, testing_data_y)\n",
    "lr_learner.set_callbacks([acc_lr])"
   ]
  },
  {
   "cell_type": "code",
   "execution_count": 22,
   "id": "d9b133c3",
   "metadata": {
    "execution": {
     "iopub.execute_input": "2022-05-17T20:10:58.475098Z",
     "iopub.status.busy": "2022-05-17T20:10:58.474317Z",
     "iopub.status.idle": "2022-05-17T20:13:26.396912Z",
     "shell.execute_reply": "2022-05-17T20:13:26.398252Z"
    },
    "papermill": {
     "duration": 147.967053,
     "end_time": "2022-05-17T20:13:26.398463",
     "exception": false,
     "start_time": "2022-05-17T20:10:58.431410",
     "status": "completed"
    },
    "tags": []
   },
   "outputs": [
    {
     "name": "stdout",
     "output_type": "stream",
     "text": [
      "Epoch 0, Loss 0.2686\n",
      "Training Accuracy: 0.5932, Testing Accuracy: 0.5993\n",
      "\n"
     ]
    },
    {
     "name": "stdout",
     "output_type": "stream",
     "text": [
      "Epoch 10, Loss 0.0766\n",
      "Training Accuracy: 0.9271, Testing Accuracy: 0.9425\n",
      "\n"
     ]
    },
    {
     "name": "stdout",
     "output_type": "stream",
     "text": [
      "Epoch 20, Loss 0.0503\n",
      "Training Accuracy: 0.9458, Testing Accuracy: 0.9561\n",
      "\n"
     ]
    },
    {
     "name": "stdout",
     "output_type": "stream",
     "text": [
      "Epoch 30, Loss 0.0412\n",
      "Training Accuracy: 0.9528, Testing Accuracy: 0.9647\n",
      "\n"
     ]
    },
    {
     "name": "stdout",
     "output_type": "stream",
     "text": [
      "Epoch 40, Loss 0.0364\n",
      "Training Accuracy: 0.9583, Testing Accuracy: 0.9682\n",
      "\n"
     ]
    },
    {
     "name": "stdout",
     "output_type": "stream",
     "text": [
      "Epoch 50, Loss 0.0334\n",
      "Training Accuracy: 0.9609, Testing Accuracy: 0.9677\n",
      "\n"
     ]
    },
    {
     "name": "stdout",
     "output_type": "stream",
     "text": [
      "Epoch 60, Loss 0.0313\n",
      "Training Accuracy: 0.9635, Testing Accuracy: 0.9682\n",
      "\n"
     ]
    },
    {
     "name": "stdout",
     "output_type": "stream",
     "text": [
      "Epoch 70, Loss 0.0297\n",
      "Training Accuracy: 0.9664, Testing Accuracy: 0.9693\n",
      "\n"
     ]
    },
    {
     "name": "stdout",
     "output_type": "stream",
     "text": [
      "Epoch 80, Loss 0.0284\n",
      "Training Accuracy: 0.9677, Testing Accuracy: 0.9703\n",
      "\n"
     ]
    },
    {
     "name": "stdout",
     "output_type": "stream",
     "text": [
      "Epoch 90, Loss 0.0273\n",
      "Training Accuracy: 0.9687, Testing Accuracy: 0.9698\n",
      "\n"
     ]
    },
    {
     "name": "stdout",
     "output_type": "stream",
     "text": [
      "Epoch 100, Loss 0.0264\n",
      "Training Accuracy: 0.9697, Testing Accuracy: 0.9703\n",
      "\n"
     ]
    },
    {
     "name": "stdout",
     "output_type": "stream",
     "text": [
      "Epoch 110, Loss 0.0256\n",
      "Training Accuracy: 0.9708, Testing Accuracy: 0.9708\n",
      "\n"
     ]
    },
    {
     "name": "stdout",
     "output_type": "stream",
     "text": [
      "Epoch 120, Loss 0.0249\n",
      "Training Accuracy: 0.9718, Testing Accuracy: 0.9703\n",
      "\n"
     ]
    },
    {
     "name": "stdout",
     "output_type": "stream",
     "text": [
      "Epoch 130, Loss 0.0242\n",
      "Training Accuracy: 0.9728, Testing Accuracy: 0.9708\n",
      "\n"
     ]
    },
    {
     "name": "stdout",
     "output_type": "stream",
     "text": [
      "Epoch 140, Loss 0.0236\n",
      "Training Accuracy: 0.9729, Testing Accuracy: 0.9718\n",
      "\n"
     ]
    },
    {
     "name": "stdout",
     "output_type": "stream",
     "text": [
      "Epoch 150, Loss 0.023\n",
      "Training Accuracy: 0.9736, Testing Accuracy: 0.9723\n",
      "\n"
     ]
    },
    {
     "name": "stdout",
     "output_type": "stream",
     "text": [
      "Epoch 160, Loss 0.0225\n",
      "Training Accuracy: 0.9745, Testing Accuracy: 0.9723\n",
      "\n"
     ]
    },
    {
     "name": "stdout",
     "output_type": "stream",
     "text": [
      "Epoch 170, Loss 0.0221\n",
      "Training Accuracy: 0.9749, Testing Accuracy: 0.9723\n",
      "\n"
     ]
    },
    {
     "name": "stdout",
     "output_type": "stream",
     "text": [
      "Epoch 180, Loss 0.0216\n",
      "Training Accuracy: 0.9754, Testing Accuracy: 0.9723\n",
      "\n"
     ]
    },
    {
     "name": "stdout",
     "output_type": "stream",
     "text": [
      "Epoch 190, Loss 0.0212\n",
      "Training Accuracy: 0.9756, Testing Accuracy: 0.9713\n",
      "\n"
     ]
    },
    {
     "name": "stdout",
     "output_type": "stream",
     "text": [
      "Epoch 200, Loss 0.0207\n",
      "Training Accuracy: 0.9759, Testing Accuracy: 0.9723\n",
      "\n"
     ]
    },
    {
     "name": "stdout",
     "output_type": "stream",
     "text": [
      "Epoch 210, Loss 0.0203\n",
      "Training Accuracy: 0.9768, Testing Accuracy: 0.9728\n",
      "\n"
     ]
    },
    {
     "name": "stdout",
     "output_type": "stream",
     "text": [
      "Epoch 220, Loss 0.02\n",
      "Training Accuracy: 0.9774, Testing Accuracy: 0.9728\n",
      "\n"
     ]
    },
    {
     "name": "stdout",
     "output_type": "stream",
     "text": [
      "Epoch 230, Loss 0.0196\n",
      "Training Accuracy: 0.9776, Testing Accuracy: 0.9728\n",
      "\n"
     ]
    },
    {
     "name": "stdout",
     "output_type": "stream",
     "text": [
      "Epoch 240, Loss 0.0192\n",
      "Training Accuracy: 0.9780, Testing Accuracy: 0.9733\n",
      "\n"
     ]
    },
    {
     "data": {
      "text/plain": [
       "0.0016322300822116773"
      ]
     },
     "execution_count": 22,
     "metadata": {},
     "output_type": "execute_result"
    }
   ],
   "source": [
    "nn_learner.train_loop(dl)"
   ]
  },
  {
   "cell_type": "code",
   "execution_count": 23,
   "id": "e0163366",
   "metadata": {
    "execution": {
     "iopub.execute_input": "2022-05-17T20:13:26.504289Z",
     "iopub.status.busy": "2022-05-17T20:13:26.503485Z",
     "iopub.status.idle": "2022-05-17T20:13:48.165681Z",
     "shell.execute_reply": "2022-05-17T20:13:48.166654Z"
    },
    "papermill": {
     "duration": 21.719102,
     "end_time": "2022-05-17T20:13:48.166866",
     "exception": false,
     "start_time": "2022-05-17T20:13:26.447764",
     "status": "completed"
    },
    "tags": []
   },
   "outputs": [
    {
     "name": "stdout",
     "output_type": "stream",
     "text": [
      "Epoch 0, Loss 0.2338\n",
      "Training Accuracy: 0.6936, Testing Accuracy: 0.7011\n",
      "\n"
     ]
    },
    {
     "name": "stdout",
     "output_type": "stream",
     "text": [
      "Epoch 10, Loss 0.1046\n",
      "Training Accuracy: 0.8972, Testing Accuracy: 0.9108\n",
      "\n"
     ]
    },
    {
     "name": "stdout",
     "output_type": "stream",
     "text": [
      "Epoch 20, Loss 0.0807\n",
      "Training Accuracy: 0.9204, Testing Accuracy: 0.9274\n",
      "\n"
     ]
    },
    {
     "name": "stdout",
     "output_type": "stream",
     "text": [
      "Epoch 30, Loss 0.0695\n",
      "Training Accuracy: 0.9317, Testing Accuracy: 0.9390\n",
      "\n"
     ]
    },
    {
     "name": "stdout",
     "output_type": "stream",
     "text": [
      "Epoch 40, Loss 0.0627\n",
      "Training Accuracy: 0.9377, Testing Accuracy: 0.9466\n",
      "\n"
     ]
    },
    {
     "name": "stdout",
     "output_type": "stream",
     "text": [
      "Epoch 50, Loss 0.0581\n",
      "Training Accuracy: 0.9417, Testing Accuracy: 0.9516\n",
      "\n"
     ]
    },
    {
     "name": "stdout",
     "output_type": "stream",
     "text": [
      "Epoch 60, Loss 0.0547\n",
      "Training Accuracy: 0.9454, Testing Accuracy: 0.9531\n",
      "\n"
     ]
    },
    {
     "name": "stdout",
     "output_type": "stream",
     "text": [
      "Epoch 70, Loss 0.052\n",
      "Training Accuracy: 0.9473, Testing Accuracy: 0.9572\n",
      "\n"
     ]
    },
    {
     "name": "stdout",
     "output_type": "stream",
     "text": [
      "Epoch 80, Loss 0.0499\n",
      "Training Accuracy: 0.9496, Testing Accuracy: 0.9577\n",
      "\n"
     ]
    },
    {
     "name": "stdout",
     "output_type": "stream",
     "text": [
      "Epoch 90, Loss 0.0482\n",
      "Training Accuracy: 0.9512, Testing Accuracy: 0.9602\n",
      "\n"
     ]
    },
    {
     "name": "stdout",
     "output_type": "stream",
     "text": [
      "Epoch 100, Loss 0.0467\n",
      "Training Accuracy: 0.9525, Testing Accuracy: 0.9607\n",
      "\n"
     ]
    },
    {
     "name": "stdout",
     "output_type": "stream",
     "text": [
      "Epoch 110, Loss 0.0455\n",
      "Training Accuracy: 0.9539, Testing Accuracy: 0.9612\n",
      "\n"
     ]
    },
    {
     "name": "stdout",
     "output_type": "stream",
     "text": [
      "Epoch 120, Loss 0.0444\n",
      "Training Accuracy: 0.9542, Testing Accuracy: 0.9622\n",
      "\n"
     ]
    },
    {
     "name": "stdout",
     "output_type": "stream",
     "text": [
      "Epoch 130, Loss 0.0434\n",
      "Training Accuracy: 0.9557, Testing Accuracy: 0.9622\n",
      "\n"
     ]
    },
    {
     "name": "stdout",
     "output_type": "stream",
     "text": [
      "Epoch 140, Loss 0.0425\n",
      "Training Accuracy: 0.9561, Testing Accuracy: 0.9627\n",
      "\n"
     ]
    },
    {
     "name": "stdout",
     "output_type": "stream",
     "text": [
      "Epoch 150, Loss 0.0418\n",
      "Training Accuracy: 0.9562, Testing Accuracy: 0.9637\n",
      "\n"
     ]
    },
    {
     "name": "stdout",
     "output_type": "stream",
     "text": [
      "Epoch 160, Loss 0.0411\n",
      "Training Accuracy: 0.9570, Testing Accuracy: 0.9637\n",
      "\n"
     ]
    },
    {
     "name": "stdout",
     "output_type": "stream",
     "text": [
      "Epoch 170, Loss 0.0405\n",
      "Training Accuracy: 0.9578, Testing Accuracy: 0.9647\n",
      "\n"
     ]
    },
    {
     "name": "stdout",
     "output_type": "stream",
     "text": [
      "Epoch 180, Loss 0.0399\n",
      "Training Accuracy: 0.9578, Testing Accuracy: 0.9657\n",
      "\n"
     ]
    },
    {
     "name": "stdout",
     "output_type": "stream",
     "text": [
      "Epoch 190, Loss 0.0394\n",
      "Training Accuracy: 0.9584, Testing Accuracy: 0.9662\n",
      "\n"
     ]
    },
    {
     "name": "stdout",
     "output_type": "stream",
     "text": [
      "Epoch 200, Loss 0.0389\n",
      "Training Accuracy: 0.9589, Testing Accuracy: 0.9667\n",
      "\n"
     ]
    },
    {
     "name": "stdout",
     "output_type": "stream",
     "text": [
      "Epoch 210, Loss 0.0384\n",
      "Training Accuracy: 0.9590, Testing Accuracy: 0.9667\n",
      "\n"
     ]
    },
    {
     "name": "stdout",
     "output_type": "stream",
     "text": [
      "Epoch 220, Loss 0.038\n",
      "Training Accuracy: 0.9593, Testing Accuracy: 0.9677\n",
      "\n"
     ]
    },
    {
     "name": "stdout",
     "output_type": "stream",
     "text": [
      "Epoch 230, Loss 0.0376\n",
      "Training Accuracy: 0.9598, Testing Accuracy: 0.9677\n",
      "\n"
     ]
    },
    {
     "name": "stdout",
     "output_type": "stream",
     "text": [
      "Epoch 240, Loss 0.0372\n",
      "Training Accuracy: 0.9597, Testing Accuracy: 0.9677\n",
      "\n"
     ]
    },
    {
     "data": {
      "text/plain": [
       "0.06423623686004512"
      ]
     },
     "execution_count": 23,
     "metadata": {},
     "output_type": "execute_result"
    }
   ],
   "source": [
    "lr_learner.train_loop(dl)"
   ]
  },
  {
   "cell_type": "code",
   "execution_count": 24,
   "id": "ca410940",
   "metadata": {
    "execution": {
     "iopub.execute_input": "2022-05-17T20:13:48.282351Z",
     "iopub.status.busy": "2022-05-17T20:13:48.281557Z",
     "iopub.status.idle": "2022-05-17T20:13:48.613351Z",
     "shell.execute_reply": "2022-05-17T20:13:48.613856Z"
    },
    "papermill": {
     "duration": 0.392027,
     "end_time": "2022-05-17T20:13:48.614030",
     "exception": false,
     "start_time": "2022-05-17T20:13:48.222003",
     "status": "completed"
    },
    "tags": []
   },
   "outputs": [
    {
     "data": {
      "text/plain": [
       "<matplotlib.legend.Legend at 0x7f5aded5dbe0>"
      ]
     },
     "execution_count": 24,
     "metadata": {},
     "output_type": "execute_result"
    },
    {
     "data": {
      "image/png": "[encoded data removed]",
      "text/plain": [
       "<Figure size 1080x720 with 1 Axes>"
      ]
     },
     "metadata": {
      "needs_background": "light"
     },
     "output_type": "display_data"
    }
   ],
   "source": [
    "#comparing the results of NN and LR\n",
    "plt.figure(figsize=(15,10))\n",
    "\n",
    "# Neural Network plots\n",
    "plt.plot(acc_nn.accuracies, 'r-', label = \"Training Accuracies - NN\")\n",
    "plt.plot(acc_nn.test_accuracies, 'g-', label = \"Testing Accuracies - NN\")\n",
    "\n",
    "# Logistic Regression plots\n",
    "plt.plot(acc_lr.accuracies, 'k-', label = \"Training Accuracies - LR\")\n",
    "plt.plot(acc_lr.test_accuracies, 'b-', label = \"Testing Accuracies - LR\")\n",
    "plt.legend()"
   ]
  },
  {
   "cell_type": "markdown",
   "id": "80dfb35c",
   "metadata": {
    "papermill": {
     "duration": 0.05714,
     "end_time": "2022-05-17T20:13:48.726659",
     "exception": false,
     "start_time": "2022-05-17T20:13:48.669519",
     "status": "completed"
    },
    "tags": []
   },
   "source": [
    "#### Plotting the outputs of this layer of the NN.\n"
   ]
  },
  {
   "cell_type": "code",
   "execution_count": 25,
   "id": "45eb2ff5",
   "metadata": {
    "execution": {
     "iopub.execute_input": "2022-05-17T20:13:48.847571Z",
     "iopub.status.busy": "2022-05-17T20:13:48.846831Z",
     "iopub.status.idle": "2022-05-17T20:13:48.875512Z",
     "shell.execute_reply": "2022-05-17T20:13:48.876120Z"
    },
    "papermill": {
     "duration": 0.093295,
     "end_time": "2022-05-17T20:13:48.876305",
     "exception": false,
     "start_time": "2022-05-17T20:13:48.783010",
     "status": "completed"
    },
    "tags": []
   },
   "outputs": [],
   "source": [
    "new_model = Model(layers[:-2])\n",
    "testing_plot = new_model(testing_data_x)"
   ]
  },
  {
   "cell_type": "code",
   "execution_count": 26,
   "id": "4c0a5485",
   "metadata": {
    "execution": {
     "iopub.execute_input": "2022-05-17T20:13:49.007684Z",
     "iopub.status.busy": "2022-05-17T20:13:49.006949Z",
     "iopub.status.idle": "2022-05-17T20:13:49.261349Z",
     "shell.execute_reply": "2022-05-17T20:13:49.261892Z"
    },
    "papermill": {
     "duration": 0.319922,
     "end_time": "2022-05-17T20:13:49.262075",
     "exception": false,
     "start_time": "2022-05-17T20:13:48.942153",
     "status": "completed"
    },
    "tags": []
   },
   "outputs": [
    {
     "data": {
      "text/plain": [
       "Text(0.5, 1.0, 'Outputs')"
      ]
     },
     "execution_count": 26,
     "metadata": {},
     "output_type": "execute_result"
    },
    {
     "data": {
      "image/png": "[encoded data removed]",
      "text/plain": [
       "<Figure size 576x504 with 1 Axes>"
      ]
     },
     "metadata": {
      "needs_background": "light"
     },
     "output_type": "display_data"
    }
   ],
   "source": [
    "# Plotting the scatter plot of points and color coding by class\n",
    "plt.figure(figsize=(8,7))\n",
    "plt.scatter(testing_plot[:,0], testing_plot[:,1], alpha = 0.1, c = y_test.ravel());\n",
    "plt.title('Outputs')"
   ]
  },
  {
   "cell_type": "markdown",
   "id": "a74fcf8f",
   "metadata": {
    "papermill": {
     "duration": 0.057647,
     "end_time": "2022-05-17T20:13:49.379863",
     "exception": false,
     "start_time": "2022-05-17T20:13:49.322216",
     "status": "completed"
    },
    "tags": []
   },
   "source": [
    "Probability contours"
   ]
  },
  {
   "cell_type": "code",
   "execution_count": 27,
   "id": "d0afc8e3",
   "metadata": {
    "execution": {
     "iopub.execute_input": "2022-05-17T20:13:49.526700Z",
     "iopub.status.busy": "2022-05-17T20:13:49.525855Z",
     "iopub.status.idle": "2022-05-17T20:13:49.540588Z",
     "shell.execute_reply": "2022-05-17T20:13:49.539911Z"
    },
    "papermill": {
     "duration": 0.07855,
     "end_time": "2022-05-17T20:13:49.540719",
     "exception": false,
     "start_time": "2022-05-17T20:13:49.462169",
     "status": "completed"
    },
    "tags": []
   },
   "outputs": [],
   "source": [
    "model_prob = Model(layers[-2:]) "
   ]
  },
  {
   "cell_type": "code",
   "execution_count": 28,
   "id": "9b96e238",
   "metadata": {
    "execution": {
     "iopub.execute_input": "2022-05-17T20:13:49.660609Z",
     "iopub.status.busy": "2022-05-17T20:13:49.659943Z",
     "iopub.status.idle": "2022-05-17T20:13:49.676879Z",
     "shell.execute_reply": "2022-05-17T20:13:49.677393Z"
    },
    "papermill": {
     "duration": 0.079042,
     "end_time": "2022-05-17T20:13:49.677682",
     "exception": false,
     "start_time": "2022-05-17T20:13:49.598640",
     "status": "completed"
    },
    "tags": []
   },
   "outputs": [],
   "source": [
    "#creating the x and y ranges according to the above generated plot.\n",
    "x_range = np.linspace(-4, 1, 100) \n",
    "y_range = np.linspace(-6, 6, 100) \n",
    "x_grid, y_grid = np.meshgrid(x_range, y_range) # x_grid and y_grig are of size 100 X 100\n",
    "\n",
    "# converting x_grid and y_grid to continuous arrays\n",
    "x_gridflat = np.ravel(x_grid)\n",
    "y_gridflat = np.ravel(y_grid)\n",
    "\n",
    "# The last layer of the current model takes two columns as input. Hence transpose of np.vstack() is required.\n",
    "X = np.vstack((x_gridflat, y_gridflat)).T\n",
    "\n",
    "prob_contour = model_prob(X).reshape(100,100) "
   ]
  },
  {
   "cell_type": "code",
   "execution_count": 29,
   "id": "da72499a",
   "metadata": {
    "execution": {
     "iopub.execute_input": "2022-05-17T20:13:49.799893Z",
     "iopub.status.busy": "2022-05-17T20:13:49.799100Z",
     "iopub.status.idle": "2022-05-17T20:13:50.126415Z",
     "shell.execute_reply": "2022-05-17T20:13:50.126991Z"
    },
    "papermill": {
     "duration": 0.392473,
     "end_time": "2022-05-17T20:13:50.127218",
     "exception": false,
     "start_time": "2022-05-17T20:13:49.734745",
     "status": "completed"
    },
    "tags": []
   },
   "outputs": [
    {
     "data": {
      "image/png": "[encoded data removed]",
      "text/plain": [
       "<Figure size 720x648 with 1 Axes>"
      ]
     },
     "metadata": {
      "needs_background": "light"
     },
     "output_type": "display_data"
    }
   ],
   "source": [
    "plt.figure(figsize=(10,9))\n",
    "plt.scatter(testing_plot[:,0], testing_plot[:,1], alpha = 0.1, c = y_test.ravel())\n",
    "contours = plt.contour(x_grid,y_grid,prob_contour)\n",
    "plt.title('Probability Contours')\n",
    "plt.clabel(contours, inline = True );"
   ]
  },
  {
   "cell_type": "code",
   "execution_count": null,
   "id": "e81b4ac7",
   "metadata": {
    "papermill": {
     "duration": 0.060143,
     "end_time": "2022-05-17T20:13:50.249789",
     "exception": false,
     "start_time": "2022-05-17T20:13:50.189646",
     "status": "completed"
    },
    "tags": []
   },
   "outputs": [],
   "source": []
  }
 ],
 "metadata": {
  "kernelspec": {
   "display_name": "Python 3",
   "language": "python",
   "name": "python3"
  },
  "language_info": {
   "codemirror_mode": {
    "name": "ipython",
    "version": 3
   },
   "file_extension": ".py",
   "mimetype": "text/x-python",
   "name": "python",
   "nbconvert_exporter": "python",
   "pygments_lexer": "ipython3",
   "version": "3.6.15"
  },
  "papermill": {
   "default_parameters": {},
   "duration": 180.983424,
   "end_time": "2022-05-17T20:13:50.731367",
   "environment_variables": {},
   "exception": null,
   "input_path": "2020-08-11-part2.ipynb",
   "output_path": "2020-08-11-part2.ipynb",
   "parameters": {},
   "start_time": "2022-05-17T20:10:49.747943",
   "version": "2.3.3"
  }
 },
 "nbformat": 4,
 "nbformat_minor": 5
}