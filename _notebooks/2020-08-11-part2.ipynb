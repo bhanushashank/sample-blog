{
 "cells": [
  {
   "cell_type": "markdown",
   "id": "98380cd3",
   "metadata": {
    "papermill": {
     "duration": 0.032197,
     "end_time": "2022-02-25T10:09:43.688890",
     "exception": false,
     "start_time": "2022-02-25T10:09:43.656693",
     "status": "completed"
    },
    "tags": []
   },
   "source": [
    "# Distinguish Your Own Digits (DYOD)"
   ]
  },
  {
   "cell_type": "markdown",
   "id": "ef31240d",
   "metadata": {
    "papermill": {
     "duration": 0.02868,
     "end_time": "2022-02-25T10:09:43.745742",
     "exception": false,
     "start_time": "2022-02-25T10:09:43.717062",
     "status": "completed"
    },
    "tags": []
   },
   "source": [
    "You are going to write a classifier that distinguishes between the number 3 and number 8."
   ]
  },
  {
   "cell_type": "code",
   "execution_count": 1,
   "id": "b15c8646",
   "metadata": {
    "execution": {
     "iopub.execute_input": "2022-02-25T10:09:43.810450Z",
     "iopub.status.busy": "2022-02-25T10:09:43.809785Z",
     "iopub.status.idle": "2022-02-25T10:09:43.821564Z",
     "shell.execute_reply": "2022-02-25T10:09:43.821076Z"
    },
    "papermill": {
     "duration": 0.049243,
     "end_time": "2022-02-25T10:09:43.821710",
     "exception": false,
     "start_time": "2022-02-25T10:09:43.772467",
     "status": "completed"
    },
    "tags": []
   },
   "outputs": [],
   "source": [
    "%load_ext autoreload\n",
    "%autoreload 2"
   ]
  },
  {
   "cell_type": "code",
   "execution_count": 2,
   "id": "22ef38dc",
   "metadata": {
    "execution": {
     "iopub.execute_input": "2022-02-25T10:09:43.879675Z",
     "iopub.status.busy": "2022-02-25T10:09:43.879074Z",
     "iopub.status.idle": "2022-02-25T10:09:44.558853Z",
     "shell.execute_reply": "2022-02-25T10:09:44.558280Z"
    },
    "papermill": {
     "duration": 0.710537,
     "end_time": "2022-02-25T10:09:44.558988",
     "exception": false,
     "start_time": "2022-02-25T10:09:43.848451",
     "status": "completed"
    },
    "tags": []
   },
   "outputs": [],
   "source": [
    "%matplotlib inline\n",
    "import numpy as np\n",
    "import matplotlib.pyplot as plt\n",
    "import pandas as pd"
   ]
  },
  {
   "cell_type": "markdown",
   "id": "ba036198",
   "metadata": {
    "papermill": {
     "duration": 0.031758,
     "end_time": "2022-02-25T10:09:44.621296",
     "exception": false,
     "start_time": "2022-02-25T10:09:44.589538",
     "status": "completed"
    },
    "tags": []
   },
   "source": [
    "From the command line run `pip install mnist`. This is a library that will help you bring down the mnist dataset. If you run this from a notebook, you need to put  `!pip install mnist` in a cell by itself."
   ]
  },
  {
   "cell_type": "code",
   "execution_count": 3,
   "id": "bb6ad8a1",
   "metadata": {
    "execution": {
     "iopub.execute_input": "2022-02-25T10:09:44.684619Z",
     "iopub.status.busy": "2022-02-25T10:09:44.683308Z",
     "iopub.status.idle": "2022-02-25T10:09:46.616898Z",
     "shell.execute_reply": "2022-02-25T10:09:46.616334Z"
    },
    "papermill": {
     "duration": 1.966496,
     "end_time": "2022-02-25T10:09:46.617037",
     "exception": false,
     "start_time": "2022-02-25T10:09:44.650541",
     "status": "completed"
    },
    "tags": []
   },
   "outputs": [
    {
     "name": "stdout",
     "output_type": "stream",
     "text": [
      "Collecting mnist\r\n"
     ]
    },
    {
     "name": "stdout",
     "output_type": "stream",
     "text": [
      "  Downloading mnist-0.2.2-py2.py3-none-any.whl (3.5 kB)\r\n",
      "Requirement already satisfied: numpy in /opt/hostedtoolcache/Python/3.6.15/x64/lib/python3.6/site-packages (from mnist) (1.19.5)\r\n"
     ]
    },
    {
     "name": "stdout",
     "output_type": "stream",
     "text": [
      "Installing collected packages: mnist\r\n",
      "Successfully installed mnist-0.2.2\r\n"
     ]
    }
   ],
   "source": [
    "!pip install mnist"
   ]
  },
  {
   "cell_type": "markdown",
   "id": "69df9c9a",
   "metadata": {
    "papermill": {
     "duration": 0.028152,
     "end_time": "2022-02-25T10:09:46.673525",
     "exception": false,
     "start_time": "2022-02-25T10:09:46.645373",
     "status": "completed"
    },
    "tags": []
   },
   "source": [
    "## Preparing the Data"
   ]
  },
  {
   "cell_type": "code",
   "execution_count": 4,
   "id": "7f69d806",
   "metadata": {
    "execution": {
     "iopub.execute_input": "2022-02-25T10:09:46.735170Z",
     "iopub.status.busy": "2022-02-25T10:09:46.734544Z",
     "iopub.status.idle": "2022-02-25T10:09:46.750422Z",
     "shell.execute_reply": "2022-02-25T10:09:46.749889Z"
    },
    "papermill": {
     "duration": 0.04879,
     "end_time": "2022-02-25T10:09:46.750555",
     "exception": false,
     "start_time": "2022-02-25T10:09:46.701765",
     "status": "completed"
    },
    "tags": []
   },
   "outputs": [],
   "source": [
    "import mnist"
   ]
  },
  {
   "cell_type": "code",
   "execution_count": 5,
   "id": "a411e44f",
   "metadata": {
    "execution": {
     "iopub.execute_input": "2022-02-25T10:09:46.814207Z",
     "iopub.status.busy": "2022-02-25T10:09:46.813503Z",
     "iopub.status.idle": "2022-02-25T10:09:47.351844Z",
     "shell.execute_reply": "2022-02-25T10:09:47.351072Z"
    },
    "papermill": {
     "duration": 0.572396,
     "end_time": "2022-02-25T10:09:47.352008",
     "exception": false,
     "start_time": "2022-02-25T10:09:46.779612",
     "status": "completed"
    },
    "tags": []
   },
   "outputs": [],
   "source": [
    "train_images = mnist.train_images()\n",
    "train_labels = mnist.train_labels()"
   ]
  },
  {
   "cell_type": "code",
   "execution_count": 6,
   "id": "dceab3a5",
   "metadata": {
    "execution": {
     "iopub.execute_input": "2022-02-25T10:09:47.417720Z",
     "iopub.status.busy": "2022-02-25T10:09:47.417094Z",
     "iopub.status.idle": "2022-02-25T10:09:47.433024Z",
     "shell.execute_reply": "2022-02-25T10:09:47.432508Z"
    },
    "papermill": {
     "duration": 0.051451,
     "end_time": "2022-02-25T10:09:47.433153",
     "exception": false,
     "start_time": "2022-02-25T10:09:47.381702",
     "status": "completed"
    },
    "tags": []
   },
   "outputs": [
    {
     "data": {
      "text/plain": [
       "((60000, 28, 28), (60000,))"
      ]
     },
     "execution_count": 6,
     "metadata": {},
     "output_type": "execute_result"
    }
   ],
   "source": [
    "train_images.shape, train_labels.shape"
   ]
  },
  {
   "cell_type": "code",
   "execution_count": 7,
   "id": "f50dc2bb",
   "metadata": {
    "execution": {
     "iopub.execute_input": "2022-02-25T10:09:47.494739Z",
     "iopub.status.busy": "2022-02-25T10:09:47.494097Z",
     "iopub.status.idle": "2022-02-25T10:09:47.615198Z",
     "shell.execute_reply": "2022-02-25T10:09:47.614663Z"
    },
    "papermill": {
     "duration": 0.153824,
     "end_time": "2022-02-25T10:09:47.615339",
     "exception": false,
     "start_time": "2022-02-25T10:09:47.461515",
     "status": "completed"
    },
    "tags": []
   },
   "outputs": [],
   "source": [
    "test_images = mnist.test_images()\n",
    "test_labels = mnist.test_labels()"
   ]
  },
  {
   "cell_type": "code",
   "execution_count": 8,
   "id": "fc38cf1b",
   "metadata": {
    "execution": {
     "iopub.execute_input": "2022-02-25T10:09:47.677040Z",
     "iopub.status.busy": "2022-02-25T10:09:47.676431Z",
     "iopub.status.idle": "2022-02-25T10:09:47.691031Z",
     "shell.execute_reply": "2022-02-25T10:09:47.690427Z"
    },
    "papermill": {
     "duration": 0.046682,
     "end_time": "2022-02-25T10:09:47.691160",
     "exception": false,
     "start_time": "2022-02-25T10:09:47.644478",
     "status": "completed"
    },
    "tags": []
   },
   "outputs": [
    {
     "data": {
      "text/plain": [
       "((10000, 28, 28), (10000,))"
      ]
     },
     "execution_count": 8,
     "metadata": {},
     "output_type": "execute_result"
    }
   ],
   "source": [
    "test_images.shape, test_labels.shape"
   ]
  },
  {
   "cell_type": "code",
   "execution_count": 9,
   "id": "f9ed8fe0",
   "metadata": {
    "execution": {
     "iopub.execute_input": "2022-02-25T10:09:47.761150Z",
     "iopub.status.busy": "2022-02-25T10:09:47.760544Z",
     "iopub.status.idle": "2022-02-25T10:09:47.929136Z",
     "shell.execute_reply": "2022-02-25T10:09:47.928634Z"
    },
    "papermill": {
     "duration": 0.203874,
     "end_time": "2022-02-25T10:09:47.929273",
     "exception": false,
     "start_time": "2022-02-25T10:09:47.725399",
     "status": "completed"
    },
    "tags": []
   },
   "outputs": [
    {
     "name": "stdout",
     "output_type": "stream",
     "text": [
      "2\n"
     ]
    },
    {
     "data": {
      "text/plain": [
       "<matplotlib.image.AxesImage at 0x7f14e74f55c0>"
      ]
     },
     "execution_count": 9,
     "metadata": {},
     "output_type": "execute_result"
    },
    {
     "data": {
      "image/png": "[encoded data removed]",
      "text/plain": [
       "<Figure size 432x288 with 1 Axes>"
      ]
     },
     "metadata": {
      "needs_background": "light"
     },
     "output_type": "display_data"
    }
   ],
   "source": [
    "image_index = 7776 # You may select anything up to 60,000\n",
    "print(train_labels[image_index]) \n",
    "plt.imshow(train_images[image_index], cmap='Greys')"
   ]
  },
  {
   "cell_type": "markdown",
   "id": "a8d2388d",
   "metadata": {
    "papermill": {
     "duration": 0.031514,
     "end_time": "2022-02-25T10:09:47.992104",
     "exception": false,
     "start_time": "2022-02-25T10:09:47.960590",
     "status": "completed"
    },
    "tags": []
   },
   "source": [
    "## Filter data to get 3 and 8 out"
   ]
  },
  {
   "cell_type": "code",
   "execution_count": 10,
   "id": "776f7fc7",
   "metadata": {
    "execution": {
     "iopub.execute_input": "2022-02-25T10:09:48.066787Z",
     "iopub.status.busy": "2022-02-25T10:09:48.062044Z",
     "iopub.status.idle": "2022-02-25T10:09:48.082993Z",
     "shell.execute_reply": "2022-02-25T10:09:48.082485Z"
    },
    "papermill": {
     "duration": 0.055295,
     "end_time": "2022-02-25T10:09:48.083130",
     "exception": false,
     "start_time": "2022-02-25T10:09:48.027835",
     "status": "completed"
    },
    "tags": []
   },
   "outputs": [],
   "source": [
    "train_filter = np.where((train_labels == 3 ) | (train_labels == 8))\n",
    "test_filter = np.where((test_labels == 3) | (test_labels == 8))\n",
    "X_train, y_train = train_images[train_filter], train_labels[train_filter]\n",
    "X_test, y_test = test_images[test_filter], test_labels[test_filter]"
   ]
  },
  {
   "cell_type": "markdown",
   "id": "948f0b7e",
   "metadata": {
    "papermill": {
     "duration": 0.029949,
     "end_time": "2022-02-25T10:09:48.143469",
     "exception": false,
     "start_time": "2022-02-25T10:09:48.113520",
     "status": "completed"
    },
    "tags": []
   },
   "source": [
    "We normalize the pizel values in the 0 to 1 range"
   ]
  },
  {
   "cell_type": "code",
   "execution_count": 11,
   "id": "ee4c2166",
   "metadata": {
    "execution": {
     "iopub.execute_input": "2022-02-25T10:09:48.207487Z",
     "iopub.status.busy": "2022-02-25T10:09:48.206888Z",
     "iopub.status.idle": "2022-02-25T10:09:48.264169Z",
     "shell.execute_reply": "2022-02-25T10:09:48.263422Z"
    },
    "papermill": {
     "duration": 0.090856,
     "end_time": "2022-02-25T10:09:48.264357",
     "exception": false,
     "start_time": "2022-02-25T10:09:48.173501",
     "status": "completed"
    },
    "tags": []
   },
   "outputs": [],
   "source": [
    "X_train = X_train/255.\n",
    "X_test = X_test/255."
   ]
  },
  {
   "cell_type": "markdown",
   "id": "ddcf4fab",
   "metadata": {
    "papermill": {
     "duration": 0.030017,
     "end_time": "2022-02-25T10:09:48.326454",
     "exception": false,
     "start_time": "2022-02-25T10:09:48.296437",
     "status": "completed"
    },
    "tags": []
   },
   "source": [
    "And setup the labels as 1 (when the digit is 3) and 0 (when the digit is 8)"
   ]
  },
  {
   "cell_type": "code",
   "execution_count": 12,
   "id": "7dc908f2",
   "metadata": {
    "execution": {
     "iopub.execute_input": "2022-02-25T10:09:48.391045Z",
     "iopub.status.busy": "2022-02-25T10:09:48.390365Z",
     "iopub.status.idle": "2022-02-25T10:09:48.404482Z",
     "shell.execute_reply": "2022-02-25T10:09:48.403908Z"
    },
    "papermill": {
     "duration": 0.048042,
     "end_time": "2022-02-25T10:09:48.404613",
     "exception": false,
     "start_time": "2022-02-25T10:09:48.356571",
     "status": "completed"
    },
    "tags": []
   },
   "outputs": [],
   "source": [
    "y_train = 1*(y_train==3)\n",
    "y_test = 1*(y_test==3)"
   ]
  },
  {
   "cell_type": "code",
   "execution_count": 13,
   "id": "01e4e969",
   "metadata": {
    "execution": {
     "iopub.execute_input": "2022-02-25T10:09:48.475629Z",
     "iopub.status.busy": "2022-02-25T10:09:48.475023Z",
     "iopub.status.idle": "2022-02-25T10:09:48.490981Z",
     "shell.execute_reply": "2022-02-25T10:09:48.490463Z"
    },
    "papermill": {
     "duration": 0.052117,
     "end_time": "2022-02-25T10:09:48.491114",
     "exception": false,
     "start_time": "2022-02-25T10:09:48.438997",
     "status": "completed"
    },
    "tags": []
   },
   "outputs": [
    {
     "data": {
      "text/plain": [
       "((11982, 28, 28), (1984, 28, 28))"
      ]
     },
     "execution_count": 13,
     "metadata": {},
     "output_type": "execute_result"
    }
   ],
   "source": [
    "X_train.shape, X_test.shape"
   ]
  },
  {
   "cell_type": "markdown",
   "id": "5ccf3f85",
   "metadata": {
    "papermill": {
     "duration": 0.030244,
     "end_time": "2022-02-25T10:09:48.551806",
     "exception": false,
     "start_time": "2022-02-25T10:09:48.521562",
     "status": "completed"
    },
    "tags": []
   },
   "source": [
    "We reshape the data to flatten the image pixels into a set of features or co-variates:"
   ]
  },
  {
   "cell_type": "code",
   "execution_count": 14,
   "id": "5286a4a3",
   "metadata": {
    "execution": {
     "iopub.execute_input": "2022-02-25T10:09:48.620759Z",
     "iopub.status.busy": "2022-02-25T10:09:48.620086Z",
     "iopub.status.idle": "2022-02-25T10:09:48.636141Z",
     "shell.execute_reply": "2022-02-25T10:09:48.636618Z"
    },
    "papermill": {
     "duration": 0.054505,
     "end_time": "2022-02-25T10:09:48.636776",
     "exception": false,
     "start_time": "2022-02-25T10:09:48.582271",
     "status": "completed"
    },
    "tags": []
   },
   "outputs": [
    {
     "data": {
      "text/plain": [
       "((11982, 784), (1984, 784))"
      ]
     },
     "execution_count": 14,
     "metadata": {},
     "output_type": "execute_result"
    }
   ],
   "source": [
    "X_train = X_train.reshape(X_train.shape[0], -1)\n",
    "X_test = X_test.reshape(X_test.shape[0], -1)\n",
    "X_train.shape, X_test.shape"
   ]
  },
  {
   "cell_type": "code",
   "execution_count": 15,
   "id": "73c5f88a",
   "metadata": {
    "execution": {
     "iopub.execute_input": "2022-02-25T10:09:48.718808Z",
     "iopub.status.busy": "2022-02-25T10:09:48.716142Z",
     "iopub.status.idle": "2022-02-25T10:09:48.739672Z",
     "shell.execute_reply": "2022-02-25T10:09:48.739120Z"
    },
    "papermill": {
     "duration": 0.068173,
     "end_time": "2022-02-25T10:09:48.739814",
     "exception": false,
     "start_time": "2022-02-25T10:09:48.671641",
     "status": "completed"
    },
    "tags": []
   },
   "outputs": [],
   "source": [
    "#Impoting functions from 'Kudzu'\n",
    "from kudzu.model import Model\n",
    "from kudzu.train import Learner\n",
    "from kudzu.optim import GD\n",
    "from kudzu.data import Data, Sampler,Dataloader\n",
    "\n",
    "from kudzu.callbacks import AccCallback\n",
    "from kudzu.callbacks import ClfCallback\n",
    "\n",
    "from kudzu.loss import MSE\n",
    "\n",
    "from kudzu.layer import Sigmoid,Relu\n",
    "from kudzu.layer import Affine"
   ]
  },
  {
   "cell_type": "markdown",
   "id": "bc01172a",
   "metadata": {
    "papermill": {
     "duration": 0.030618,
     "end_time": "2022-02-25T10:09:48.801186",
     "exception": false,
     "start_time": "2022-02-25T10:09:48.770568",
     "status": "completed"
    },
    "tags": []
   },
   "source": [
    "### Let us create a `Config` class, to store important parameters. \n",
    "This class essentially plays the role of a dictionary."
   ]
  },
  {
   "cell_type": "code",
   "execution_count": 16,
   "id": "978281aa",
   "metadata": {
    "execution": {
     "iopub.execute_input": "2022-02-25T10:09:48.867312Z",
     "iopub.status.busy": "2022-02-25T10:09:48.866692Z",
     "iopub.status.idle": "2022-02-25T10:09:48.885639Z",
     "shell.execute_reply": "2022-02-25T10:09:48.885000Z"
    },
    "papermill": {
     "duration": 0.05403,
     "end_time": "2022-02-25T10:09:48.885792",
     "exception": false,
     "start_time": "2022-02-25T10:09:48.831762",
     "status": "completed"
    },
    "tags": []
   },
   "outputs": [],
   "source": [
    "class Config:\n",
    "    pass\n",
    "config = Config()\n",
    "config.lr = 0.001\n",
    "config.num_epochs = 250\n",
    "config.bs = 50"
   ]
  },
  {
   "cell_type": "markdown",
   "id": "1385fa59",
   "metadata": {
    "papermill": {
     "duration": 0.032228,
     "end_time": "2022-02-25T10:09:48.950784",
     "exception": false,
     "start_time": "2022-02-25T10:09:48.918556",
     "status": "completed"
    },
    "tags": []
   },
   "source": [
    "### Running Models with the Training data\n",
    "Details about the network layers:\n",
    "- A first affine layer has 784 inputs and does 100 affine transforms. These are followed by a Relu\n",
    "- A second affine layer has 100 inputs from the 100 activations of the past layer, and does 100 affine transforms. These are followed by a Relu\n",
    "- A third affine layer has 100 activations and does 2 affine transformations to create an embedding for visualization. There is no non-linearity here.\n",
    "- A final \"logistic regression\" which has an affine transform from 2 inputs to 1 output, which is squeezed through a sigmoid.\n"
   ]
  },
  {
   "cell_type": "code",
   "execution_count": 17,
   "id": "2b9c66db",
   "metadata": {
    "execution": {
     "iopub.execute_input": "2022-02-25T10:09:49.022444Z",
     "iopub.status.busy": "2022-02-25T10:09:49.021779Z",
     "iopub.status.idle": "2022-02-25T10:09:49.037324Z",
     "shell.execute_reply": "2022-02-25T10:09:49.037797Z"
    },
    "papermill": {
     "duration": 0.055036,
     "end_time": "2022-02-25T10:09:49.037984",
     "exception": false,
     "start_time": "2022-02-25T10:09:48.982948",
     "status": "completed"
    },
    "tags": []
   },
   "outputs": [],
   "source": [
    "data = Data(X_train, y_train.reshape(-1,1))\n",
    "sampler = Sampler(data, config.bs, shuffle=True)\n",
    "\n",
    "dl = Dataloader(data, sampler)\n",
    "\n",
    "opt = GD(config.lr)\n",
    "loss = MSE()"
   ]
  },
  {
   "cell_type": "code",
   "execution_count": 18,
   "id": "b275e4c2",
   "metadata": {
    "execution": {
     "iopub.execute_input": "2022-02-25T10:09:49.104038Z",
     "iopub.status.busy": "2022-02-25T10:09:49.103423Z",
     "iopub.status.idle": "2022-02-25T10:09:49.123800Z",
     "shell.execute_reply": "2022-02-25T10:09:49.124628Z"
    },
    "papermill": {
     "duration": 0.056219,
     "end_time": "2022-02-25T10:09:49.124884",
     "exception": false,
     "start_time": "2022-02-25T10:09:49.068665",
     "status": "completed"
    },
    "tags": []
   },
   "outputs": [],
   "source": [
    "training_data_x = X_train\n",
    "testing_data_x = X_test\n",
    "training_data_y = y_train.reshape(-1,1)\n",
    "testing_data_y = y_test.reshape(-1,1)"
   ]
  },
  {
   "cell_type": "code",
   "execution_count": 19,
   "id": "76951160",
   "metadata": {
    "execution": {
     "iopub.execute_input": "2022-02-25T10:09:49.191676Z",
     "iopub.status.busy": "2022-02-25T10:09:49.191040Z",
     "iopub.status.idle": "2022-02-25T10:09:49.213116Z",
     "shell.execute_reply": "2022-02-25T10:09:49.212600Z"
    },
    "papermill": {
     "duration": 0.057416,
     "end_time": "2022-02-25T10:09:49.213245",
     "exception": false,
     "start_time": "2022-02-25T10:09:49.155829",
     "status": "completed"
    },
    "tags": []
   },
   "outputs": [
    {
     "name": "stdout",
     "output_type": "stream",
     "text": [
      "xavier\n",
      "xavier\n",
      "xavier\n",
      "xavier\n",
      "xavier\n"
     ]
    }
   ],
   "source": [
    "layers = [Affine(\"first\", 784, 100), Relu(\"first\"), Affine(\"second\", 100, 100), Relu(\"second\"), Affine(\"third\", 100, 2), Affine(\"last\", 2, 1), Sigmoid(\"last\")]\n",
    "model_nn = Model(layers)\n",
    "model_lr = Model([Affine(\"logits\", 784, 1), Sigmoid(\"sigmoid\")])"
   ]
  },
  {
   "cell_type": "code",
   "execution_count": 20,
   "id": "6eede77a",
   "metadata": {
    "execution": {
     "iopub.execute_input": "2022-02-25T10:09:49.285557Z",
     "iopub.status.busy": "2022-02-25T10:09:49.284946Z",
     "iopub.status.idle": "2022-02-25T10:09:49.301957Z",
     "shell.execute_reply": "2022-02-25T10:09:49.301242Z"
    },
    "papermill": {
     "duration": 0.055582,
     "end_time": "2022-02-25T10:09:49.302103",
     "exception": false,
     "start_time": "2022-02-25T10:09:49.246521",
     "status": "completed"
    },
    "tags": []
   },
   "outputs": [],
   "source": [
    "nn_learner = Learner(loss, model_nn, opt, config.num_epochs)\n",
    "acc_nn = ClfCallback(nn_learner, config.bs, training_data_x , testing_data_x, training_data_y, testing_data_y)\n",
    "nn_learner.set_callbacks([acc_nn])"
   ]
  },
  {
   "cell_type": "code",
   "execution_count": 21,
   "id": "877b6cc7",
   "metadata": {
    "execution": {
     "iopub.execute_input": "2022-02-25T10:09:49.376826Z",
     "iopub.status.busy": "2022-02-25T10:09:49.376205Z",
     "iopub.status.idle": "2022-02-25T10:09:49.390930Z",
     "shell.execute_reply": "2022-02-25T10:09:49.391397Z"
    },
    "papermill": {
     "duration": 0.051774,
     "end_time": "2022-02-25T10:09:49.391642",
     "exception": false,
     "start_time": "2022-02-25T10:09:49.339868",
     "status": "completed"
    },
    "tags": []
   },
   "outputs": [],
   "source": [
    "lr_learner = Learner(loss, model_lr, opt, config.num_epochs)\n",
    "acc_lr = ClfCallback(lr_learner, config.bs, training_data_x , testing_data_x, training_data_y, testing_data_y)\n",
    "lr_learner.set_callbacks([acc_lr])"
   ]
  },
  {
   "cell_type": "code",
   "execution_count": 22,
   "id": "d9b133c3",
   "metadata": {
    "execution": {
     "iopub.execute_input": "2022-02-25T10:09:49.462252Z",
     "iopub.status.busy": "2022-02-25T10:09:49.461575Z",
     "iopub.status.idle": "2022-02-25T10:11:25.903105Z",
     "shell.execute_reply": "2022-02-25T10:11:25.904020Z"
    },
    "papermill": {
     "duration": 96.479039,
     "end_time": "2022-02-25T10:11:25.904187",
     "exception": false,
     "start_time": "2022-02-25T10:09:49.425148",
     "status": "completed"
    },
    "tags": []
   },
   "outputs": [
    {
     "name": "stdout",
     "output_type": "stream",
     "text": [
      "Epoch 0, Loss 0.244\n",
      "Training Accuracy: 0.6321, Testing Accuracy: 0.6310\n",
      "\n"
     ]
    },
    {
     "name": "stdout",
     "output_type": "stream",
     "text": [
      "Epoch 10, Loss 0.1668\n",
      "Training Accuracy: 0.8774, Testing Accuracy: 0.8906\n",
      "\n"
     ]
    },
    {
     "name": "stdout",
     "output_type": "stream",
     "text": [
      "Epoch 20, Loss 0.0832\n",
      "Training Accuracy: 0.9244, Testing Accuracy: 0.9309\n",
      "\n"
     ]
    },
    {
     "name": "stdout",
     "output_type": "stream",
     "text": [
      "Epoch 30, Loss 0.0556\n",
      "Training Accuracy: 0.9438, Testing Accuracy: 0.9531\n",
      "\n"
     ]
    },
    {
     "name": "stdout",
     "output_type": "stream",
     "text": [
      "Epoch 40, Loss 0.0446\n",
      "Training Accuracy: 0.9522, Testing Accuracy: 0.9561\n",
      "\n"
     ]
    },
    {
     "name": "stdout",
     "output_type": "stream",
     "text": [
      "Epoch 50, Loss 0.0388\n",
      "Training Accuracy: 0.9564, Testing Accuracy: 0.9612\n",
      "\n"
     ]
    },
    {
     "name": "stdout",
     "output_type": "stream",
     "text": [
      "Epoch 60, Loss 0.0353\n",
      "Training Accuracy: 0.9589, Testing Accuracy: 0.9612\n",
      "\n"
     ]
    },
    {
     "name": "stdout",
     "output_type": "stream",
     "text": [
      "Epoch 70, Loss 0.0328\n",
      "Training Accuracy: 0.9619, Testing Accuracy: 0.9642\n",
      "\n"
     ]
    },
    {
     "name": "stdout",
     "output_type": "stream",
     "text": [
      "Epoch 80, Loss 0.031\n",
      "Training Accuracy: 0.9638, Testing Accuracy: 0.9642\n",
      "\n"
     ]
    },
    {
     "name": "stdout",
     "output_type": "stream",
     "text": [
      "Epoch 90, Loss 0.0295\n",
      "Training Accuracy: 0.9652, Testing Accuracy: 0.9672\n",
      "\n"
     ]
    },
    {
     "name": "stdout",
     "output_type": "stream",
     "text": [
      "Epoch 100, Loss 0.0283\n",
      "Training Accuracy: 0.9664, Testing Accuracy: 0.9682\n",
      "\n"
     ]
    },
    {
     "name": "stdout",
     "output_type": "stream",
     "text": [
      "Epoch 110, Loss 0.0273\n",
      "Training Accuracy: 0.9681, Testing Accuracy: 0.9693\n",
      "\n"
     ]
    },
    {
     "name": "stdout",
     "output_type": "stream",
     "text": [
      "Epoch 120, Loss 0.0265\n",
      "Training Accuracy: 0.9688, Testing Accuracy: 0.9693\n",
      "\n"
     ]
    },
    {
     "name": "stdout",
     "output_type": "stream",
     "text": [
      "Epoch 130, Loss 0.0257\n",
      "Training Accuracy: 0.9700, Testing Accuracy: 0.9688\n",
      "\n"
     ]
    },
    {
     "name": "stdout",
     "output_type": "stream",
     "text": [
      "Epoch 140, Loss 0.025\n",
      "Training Accuracy: 0.9710, Testing Accuracy: 0.9682\n",
      "\n"
     ]
    },
    {
     "name": "stdout",
     "output_type": "stream",
     "text": [
      "Epoch 150, Loss 0.0244\n",
      "Training Accuracy: 0.9718, Testing Accuracy: 0.9693\n",
      "\n"
     ]
    },
    {
     "name": "stdout",
     "output_type": "stream",
     "text": [
      "Epoch 160, Loss 0.0238\n",
      "Training Accuracy: 0.9727, Testing Accuracy: 0.9698\n",
      "\n"
     ]
    },
    {
     "name": "stdout",
     "output_type": "stream",
     "text": [
      "Epoch 170, Loss 0.0232\n",
      "Training Accuracy: 0.9741, Testing Accuracy: 0.9698\n",
      "\n"
     ]
    },
    {
     "name": "stdout",
     "output_type": "stream",
     "text": [
      "Epoch 180, Loss 0.0227\n",
      "Training Accuracy: 0.9750, Testing Accuracy: 0.9698\n",
      "\n"
     ]
    },
    {
     "name": "stdout",
     "output_type": "stream",
     "text": [
      "Epoch 190, Loss 0.0223\n",
      "Training Accuracy: 0.9754, Testing Accuracy: 0.9703\n",
      "\n"
     ]
    },
    {
     "name": "stdout",
     "output_type": "stream",
     "text": [
      "Epoch 200, Loss 0.0218\n",
      "Training Accuracy: 0.9758, Testing Accuracy: 0.9708\n",
      "\n"
     ]
    },
    {
     "name": "stdout",
     "output_type": "stream",
     "text": [
      "Epoch 210, Loss 0.0214\n",
      "Training Accuracy: 0.9763, Testing Accuracy: 0.9708\n",
      "\n"
     ]
    },
    {
     "name": "stdout",
     "output_type": "stream",
     "text": [
      "Epoch 220, Loss 0.021\n",
      "Training Accuracy: 0.9766, Testing Accuracy: 0.9713\n",
      "\n"
     ]
    },
    {
     "name": "stdout",
     "output_type": "stream",
     "text": [
      "Epoch 230, Loss 0.0206\n",
      "Training Accuracy: 0.9774, Testing Accuracy: 0.9713\n",
      "\n"
     ]
    },
    {
     "name": "stdout",
     "output_type": "stream",
     "text": [
      "Epoch 240, Loss 0.0202\n",
      "Training Accuracy: 0.9779, Testing Accuracy: 0.9713\n",
      "\n"
     ]
    },
    {
     "data": {
      "text/plain": [
       "0.02785749537213079"
      ]
     },
     "execution_count": 22,
     "metadata": {},
     "output_type": "execute_result"
    }
   ],
   "source": [
    "nn_learner.train_loop(dl)"
   ]
  },
  {
   "cell_type": "code",
   "execution_count": 23,
   "id": "e0163366",
   "metadata": {
    "execution": {
     "iopub.execute_input": "2022-02-25T10:11:25.992012Z",
     "iopub.status.busy": "2022-02-25T10:11:25.991395Z",
     "iopub.status.idle": "2022-02-25T10:11:42.983473Z",
     "shell.execute_reply": "2022-02-25T10:11:42.984320Z"
    },
    "papermill": {
     "duration": 17.041422,
     "end_time": "2022-02-25T10:11:42.984487",
     "exception": false,
     "start_time": "2022-02-25T10:11:25.943065",
     "status": "completed"
    },
    "tags": []
   },
   "outputs": [
    {
     "name": "stdout",
     "output_type": "stream",
     "text": [
      "Epoch 0, Loss 0.2603\n",
      "Training Accuracy: 0.5948, Testing Accuracy: 0.5912\n",
      "\n"
     ]
    },
    {
     "name": "stdout",
     "output_type": "stream",
     "text": [
      "Epoch 10, Loss 0.1054\n",
      "Training Accuracy: 0.9104, Testing Accuracy: 0.9224\n",
      "\n"
     ]
    },
    {
     "name": "stdout",
     "output_type": "stream",
     "text": [
      "Epoch 20, Loss 0.08\n",
      "Training Accuracy: 0.9286, Testing Accuracy: 0.9390\n",
      "\n"
     ]
    },
    {
     "name": "stdout",
     "output_type": "stream",
     "text": [
      "Epoch 30, Loss 0.0687\n",
      "Training Accuracy: 0.9358, Testing Accuracy: 0.9466\n",
      "\n"
     ]
    },
    {
     "name": "stdout",
     "output_type": "stream",
     "text": [
      "Epoch 40, Loss 0.062\n",
      "Training Accuracy: 0.9400, Testing Accuracy: 0.9521\n",
      "\n"
     ]
    },
    {
     "name": "stdout",
     "output_type": "stream",
     "text": [
      "Epoch 50, Loss 0.0575\n",
      "Training Accuracy: 0.9437, Testing Accuracy: 0.9551\n",
      "\n"
     ]
    },
    {
     "name": "stdout",
     "output_type": "stream",
     "text": [
      "Epoch 60, Loss 0.0542\n",
      "Training Accuracy: 0.9464, Testing Accuracy: 0.9572\n",
      "\n"
     ]
    },
    {
     "name": "stdout",
     "output_type": "stream",
     "text": [
      "Epoch 70, Loss 0.0516\n",
      "Training Accuracy: 0.9485, Testing Accuracy: 0.9572\n",
      "\n"
     ]
    },
    {
     "name": "stdout",
     "output_type": "stream",
     "text": [
      "Epoch 80, Loss 0.0495\n",
      "Training Accuracy: 0.9498, Testing Accuracy: 0.9592\n",
      "\n"
     ]
    },
    {
     "name": "stdout",
     "output_type": "stream",
     "text": [
      "Epoch 90, Loss 0.0479\n",
      "Training Accuracy: 0.9516, Testing Accuracy: 0.9602\n",
      "\n"
     ]
    },
    {
     "name": "stdout",
     "output_type": "stream",
     "text": [
      "Epoch 100, Loss 0.0464\n",
      "Training Accuracy: 0.9528, Testing Accuracy: 0.9612\n",
      "\n"
     ]
    },
    {
     "name": "stdout",
     "output_type": "stream",
     "text": [
      "Epoch 110, Loss 0.0452\n",
      "Training Accuracy: 0.9537, Testing Accuracy: 0.9617\n",
      "\n"
     ]
    },
    {
     "name": "stdout",
     "output_type": "stream",
     "text": [
      "Epoch 120, Loss 0.0441\n",
      "Training Accuracy: 0.9543, Testing Accuracy: 0.9632\n",
      "\n"
     ]
    },
    {
     "name": "stdout",
     "output_type": "stream",
     "text": [
      "Epoch 130, Loss 0.0432\n",
      "Training Accuracy: 0.9547, Testing Accuracy: 0.9632\n",
      "\n"
     ]
    },
    {
     "name": "stdout",
     "output_type": "stream",
     "text": [
      "Epoch 140, Loss 0.0423\n",
      "Training Accuracy: 0.9552, Testing Accuracy: 0.9642\n",
      "\n"
     ]
    },
    {
     "name": "stdout",
     "output_type": "stream",
     "text": [
      "Epoch 150, Loss 0.0416\n",
      "Training Accuracy: 0.9563, Testing Accuracy: 0.9647\n",
      "\n"
     ]
    },
    {
     "name": "stdout",
     "output_type": "stream",
     "text": [
      "Epoch 160, Loss 0.0409\n",
      "Training Accuracy: 0.9569, Testing Accuracy: 0.9647\n",
      "\n"
     ]
    },
    {
     "name": "stdout",
     "output_type": "stream",
     "text": [
      "Epoch 170, Loss 0.0403\n",
      "Training Accuracy: 0.9574, Testing Accuracy: 0.9632\n",
      "\n"
     ]
    },
    {
     "name": "stdout",
     "output_type": "stream",
     "text": [
      "Epoch 180, Loss 0.0397\n",
      "Training Accuracy: 0.9575, Testing Accuracy: 0.9642\n",
      "\n"
     ]
    },
    {
     "name": "stdout",
     "output_type": "stream",
     "text": [
      "Epoch 190, Loss 0.0392\n",
      "Training Accuracy: 0.9579, Testing Accuracy: 0.9642\n",
      "\n"
     ]
    },
    {
     "name": "stdout",
     "output_type": "stream",
     "text": [
      "Epoch 200, Loss 0.0387\n",
      "Training Accuracy: 0.9585, Testing Accuracy: 0.9647\n",
      "\n"
     ]
    },
    {
     "name": "stdout",
     "output_type": "stream",
     "text": [
      "Epoch 210, Loss 0.0383\n",
      "Training Accuracy: 0.9592, Testing Accuracy: 0.9647\n",
      "\n"
     ]
    },
    {
     "name": "stdout",
     "output_type": "stream",
     "text": [
      "Epoch 220, Loss 0.0378\n",
      "Training Accuracy: 0.9595, Testing Accuracy: 0.9647\n",
      "\n"
     ]
    },
    {
     "name": "stdout",
     "output_type": "stream",
     "text": [
      "Epoch 230, Loss 0.0375\n",
      "Training Accuracy: 0.9599, Testing Accuracy: 0.9647\n",
      "\n"
     ]
    },
    {
     "name": "stdout",
     "output_type": "stream",
     "text": [
      "Epoch 240, Loss 0.0371\n",
      "Training Accuracy: 0.9602, Testing Accuracy: 0.9647\n",
      "\n"
     ]
    },
    {
     "data": {
      "text/plain": [
       "0.03213785489828887"
      ]
     },
     "execution_count": 23,
     "metadata": {},
     "output_type": "execute_result"
    }
   ],
   "source": [
    "lr_learner.train_loop(dl)"
   ]
  },
  {
   "cell_type": "code",
   "execution_count": 24,
   "id": "ca410940",
   "metadata": {
    "execution": {
     "iopub.execute_input": "2022-02-25T10:11:43.087415Z",
     "iopub.status.busy": "2022-02-25T10:11:43.086784Z",
     "iopub.status.idle": "2022-02-25T10:11:43.373653Z",
     "shell.execute_reply": "2022-02-25T10:11:43.372929Z"
    },
    "papermill": {
     "duration": 0.342896,
     "end_time": "2022-02-25T10:11:43.373869",
     "exception": false,
     "start_time": "2022-02-25T10:11:43.030973",
     "status": "completed"
    },
    "tags": []
   },
   "outputs": [
    {
     "data": {
      "text/plain": [
       "<matplotlib.legend.Legend at 0x7f14e70d0cc0>"
      ]
     },
     "execution_count": 24,
     "metadata": {},
     "output_type": "execute_result"
    },
    {
     "data": {
      "image/png": "[encoded data removed]",
      "text/plain": [
       "<Figure size 1080x720 with 1 Axes>"
      ]
     },
     "metadata": {
      "needs_background": "light"
     },
     "output_type": "display_data"
    }
   ],
   "source": [
    "#comparing the results of NN and LR\n",
    "plt.figure(figsize=(15,10))\n",
    "\n",
    "# Neural Network plots\n",
    "plt.plot(acc_nn.accuracies, 'r-', label = \"Training Accuracies - NN\")\n",
    "plt.plot(acc_nn.test_accuracies, 'g-', label = \"Testing Accuracies - NN\")\n",
    "\n",
    "# Logistic Regression plots\n",
    "plt.plot(acc_lr.accuracies, 'k-', label = \"Training Accuracies - LR\")\n",
    "plt.plot(acc_lr.test_accuracies, 'b-', label = \"Testing Accuracies - LR\")\n",
    "plt.legend()"
   ]
  },
  {
   "cell_type": "markdown",
   "id": "80dfb35c",
   "metadata": {
    "papermill": {
     "duration": 0.047975,
     "end_time": "2022-02-25T10:11:43.470435",
     "exception": false,
     "start_time": "2022-02-25T10:11:43.422460",
     "status": "completed"
    },
    "tags": []
   },
   "source": [
    "#### Plotting the outputs of this layer of the NN.\n"
   ]
  },
  {
   "cell_type": "code",
   "execution_count": 25,
   "id": "45eb2ff5",
   "metadata": {
    "execution": {
     "iopub.execute_input": "2022-02-25T10:11:43.570407Z",
     "iopub.status.busy": "2022-02-25T10:11:43.569760Z",
     "iopub.status.idle": "2022-02-25T10:11:43.595032Z",
     "shell.execute_reply": "2022-02-25T10:11:43.595974Z"
    },
    "papermill": {
     "duration": 0.077825,
     "end_time": "2022-02-25T10:11:43.596153",
     "exception": false,
     "start_time": "2022-02-25T10:11:43.518328",
     "status": "completed"
    },
    "tags": []
   },
   "outputs": [],
   "source": [
    "new_model = Model(layers[:-2])\n",
    "testing_plot = new_model(testing_data_x)"
   ]
  },
  {
   "cell_type": "code",
   "execution_count": 26,
   "id": "4c0a5485",
   "metadata": {
    "execution": {
     "iopub.execute_input": "2022-02-25T10:11:43.699400Z",
     "iopub.status.busy": "2022-02-25T10:11:43.698790Z",
     "iopub.status.idle": "2022-02-25T10:11:43.920991Z",
     "shell.execute_reply": "2022-02-25T10:11:43.920469Z"
    },
    "papermill": {
     "duration": 0.276368,
     "end_time": "2022-02-25T10:11:43.921123",
     "exception": false,
     "start_time": "2022-02-25T10:11:43.644755",
     "status": "completed"
    },
    "tags": []
   },
   "outputs": [
    {
     "data": {
      "text/plain": [
       "Text(0.5, 1.0, 'Outputs')"
      ]
     },
     "execution_count": 26,
     "metadata": {},
     "output_type": "execute_result"
    },
    {
     "data": {
      "image/png": "[encoded data removed]",
      "text/plain": [
       "<Figure size 576x504 with 1 Axes>"
      ]
     },
     "metadata": {
      "needs_background": "light"
     },
     "output_type": "display_data"
    }
   ],
   "source": [
    "# Plotting the scatter plot of points and color coding by class\n",
    "plt.figure(figsize=(8,7))\n",
    "plt.scatter(testing_plot[:,0], testing_plot[:,1], alpha = 0.1, c = y_test.ravel());\n",
    "plt.title('Outputs')"
   ]
  },
  {
   "cell_type": "markdown",
   "id": "a74fcf8f",
   "metadata": {
    "papermill": {
     "duration": 0.049824,
     "end_time": "2022-02-25T10:11:44.021064",
     "exception": false,
     "start_time": "2022-02-25T10:11:43.971240",
     "status": "completed"
    },
    "tags": []
   },
   "source": [
    "Probability contours"
   ]
  },
  {
   "cell_type": "code",
   "execution_count": 27,
   "id": "d0afc8e3",
   "metadata": {
    "execution": {
     "iopub.execute_input": "2022-02-25T10:11:44.126138Z",
     "iopub.status.busy": "2022-02-25T10:11:44.125484Z",
     "iopub.status.idle": "2022-02-25T10:11:44.141071Z",
     "shell.execute_reply": "2022-02-25T10:11:44.140458Z"
    },
    "papermill": {
     "duration": 0.069539,
     "end_time": "2022-02-25T10:11:44.141211",
     "exception": false,
     "start_time": "2022-02-25T10:11:44.071672",
     "status": "completed"
    },
    "tags": []
   },
   "outputs": [],
   "source": [
    "model_prob = Model(layers[-2:]) "
   ]
  },
  {
   "cell_type": "code",
   "execution_count": 28,
   "id": "9b96e238",
   "metadata": {
    "execution": {
     "iopub.execute_input": "2022-02-25T10:11:44.247780Z",
     "iopub.status.busy": "2022-02-25T10:11:44.247167Z",
     "iopub.status.idle": "2022-02-25T10:11:44.262635Z",
     "shell.execute_reply": "2022-02-25T10:11:44.263096Z"
    },
    "papermill": {
     "duration": 0.071705,
     "end_time": "2022-02-25T10:11:44.263253",
     "exception": false,
     "start_time": "2022-02-25T10:11:44.191548",
     "status": "completed"
    },
    "tags": []
   },
   "outputs": [],
   "source": [
    "#creating the x and y ranges according to the above generated plot.\n",
    "x_range = np.linspace(-4, 1, 100) \n",
    "y_range = np.linspace(-6, 6, 100) \n",
    "x_grid, y_grid = np.meshgrid(x_range, y_range) # x_grid and y_grig are of size 100 X 100\n",
    "\n",
    "# converting x_grid and y_grid to continuous arrays\n",
    "x_gridflat = np.ravel(x_grid)\n",
    "y_gridflat = np.ravel(y_grid)\n",
    "\n",
    "# The last layer of the current model takes two columns as input. Hence transpose of np.vstack() is required.\n",
    "X = np.vstack((x_gridflat, y_gridflat)).T\n",
    "\n",
    "prob_contour = model_prob(X).reshape(100,100) "
   ]
  },
  {
   "cell_type": "code",
   "execution_count": 29,
   "id": "da72499a",
   "metadata": {
    "execution": {
     "iopub.execute_input": "2022-02-25T10:11:44.403348Z",
     "iopub.status.busy": "2022-02-25T10:11:44.402740Z",
     "iopub.status.idle": "2022-02-25T10:11:44.682476Z",
     "shell.execute_reply": "2022-02-25T10:11:44.681935Z"
    },
    "papermill": {
     "duration": 0.336592,
     "end_time": "2022-02-25T10:11:44.682610",
     "exception": false,
     "start_time": "2022-02-25T10:11:44.346018",
     "status": "completed"
    },
    "tags": []
   },
   "outputs": [
    {
     "data": {
      "image/png": "[encoded data removed]",
      "text/plain": [
       "<Figure size 720x648 with 1 Axes>"
      ]
     },
     "metadata": {
      "needs_background": "light"
     },
     "output_type": "display_data"
    }
   ],
   "source": [
    "plt.figure(figsize=(10,9))\n",
    "plt.scatter(testing_plot[:,0], testing_plot[:,1], alpha = 0.1, c = y_test.ravel())\n",
    "contours = plt.contour(x_grid,y_grid,prob_contour)\n",
    "plt.title('Probability Contours')\n",
    "plt.clabel(contours, inline = True );"
   ]
  },
  {
   "cell_type": "code",
   "execution_count": null,
   "id": "e81b4ac7",
   "metadata": {
    "papermill": {
     "duration": 0.062203,
     "end_time": "2022-02-25T10:11:44.801215",
     "exception": false,
     "start_time": "2022-02-25T10:11:44.739012",
     "status": "completed"
    },
    "tags": []
   },
   "outputs": [],
   "source": []
  }
 ],
 "metadata": {
  "kernelspec": {
   "display_name": "Python 3",
   "language": "python",
   "name": "python3"
  },
  "language_info": {
   "codemirror_mode": {
    "name": "ipython",
    "version": 3
   },
   "file_extension": ".py",
   "mimetype": "text/x-python",
   "name": "python",
   "nbconvert_exporter": "python",
   "pygments_lexer": "ipython3",
   "version": "3.6.15"
  },
  "papermill": {
   "default_parameters": {},
   "duration": 122.918405,
   "end_time": "2022-02-25T10:11:45.276844",
   "environment_variables": {},
   "exception": null,
   "input_path": "2020-08-11-part2.ipynb",
   "output_path": "2020-08-11-part2.ipynb",
   "parameters": {},
   "start_time": "2022-02-25T10:09:42.358439",
   "version": "2.3.3"
  }
 },
 "nbformat": 4,
 "nbformat_minor": 5
}