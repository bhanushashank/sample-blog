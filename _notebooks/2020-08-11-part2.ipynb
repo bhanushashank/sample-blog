{
 "cells": [
  {
   "cell_type": "markdown",
   "id": "98380cd3",
   "metadata": {
    "papermill": {
     "duration": 0.028771,
     "end_time": "2022-04-23T10:09:53.591657",
     "exception": false,
     "start_time": "2022-04-23T10:09:53.562886",
     "status": "completed"
    },
    "tags": []
   },
   "source": [
    "# Distinguish Your Own Digits (DYOD)"
   ]
  },
  {
   "cell_type": "markdown",
   "id": "ef31240d",
   "metadata": {
    "papermill": {
     "duration": 0.025479,
     "end_time": "2022-04-23T10:09:53.641706",
     "exception": false,
     "start_time": "2022-04-23T10:09:53.616227",
     "status": "completed"
    },
    "tags": []
   },
   "source": [
    "You are going to write a classifier that distinguishes between the number 3 and number 8."
   ]
  },
  {
   "cell_type": "code",
   "execution_count": 1,
   "id": "b15c8646",
   "metadata": {
    "execution": {
     "iopub.execute_input": "2022-04-23T10:09:53.699463Z",
     "iopub.status.busy": "2022-04-23T10:09:53.698930Z",
     "iopub.status.idle": "2022-04-23T10:09:53.709267Z",
     "shell.execute_reply": "2022-04-23T10:09:53.708838Z"
    },
    "papermill": {
     "duration": 0.043821,
     "end_time": "2022-04-23T10:09:53.709391",
     "exception": false,
     "start_time": "2022-04-23T10:09:53.665570",
     "status": "completed"
    },
    "tags": []
   },
   "outputs": [],
   "source": [
    "%load_ext autoreload\n",
    "%autoreload 2"
   ]
  },
  {
   "cell_type": "code",
   "execution_count": 2,
   "id": "22ef38dc",
   "metadata": {
    "execution": {
     "iopub.execute_input": "2022-04-23T10:09:53.764231Z",
     "iopub.status.busy": "2022-04-23T10:09:53.763680Z",
     "iopub.status.idle": "2022-04-23T10:09:54.279971Z",
     "shell.execute_reply": "2022-04-23T10:09:54.279033Z"
    },
    "papermill": {
     "duration": 0.546736,
     "end_time": "2022-04-23T10:09:54.280113",
     "exception": false,
     "start_time": "2022-04-23T10:09:53.733377",
     "status": "completed"
    },
    "tags": []
   },
   "outputs": [],
   "source": [
    "%matplotlib inline\n",
    "import numpy as np\n",
    "import matplotlib.pyplot as plt\n",
    "import pandas as pd"
   ]
  },
  {
   "cell_type": "markdown",
   "id": "ba036198",
   "metadata": {
    "papermill": {
     "duration": 0.024424,
     "end_time": "2022-04-23T10:09:54.330616",
     "exception": false,
     "start_time": "2022-04-23T10:09:54.306192",
     "status": "completed"
    },
    "tags": []
   },
   "source": [
    "From the command line run `pip install mnist`. This is a library that will help you bring down the mnist dataset. If you run this from a notebook, you need to put  `!pip install mnist` in a cell by itself."
   ]
  },
  {
   "cell_type": "code",
   "execution_count": 3,
   "id": "bb6ad8a1",
   "metadata": {
    "execution": {
     "iopub.execute_input": "2022-04-23T10:09:54.388538Z",
     "iopub.status.busy": "2022-04-23T10:09:54.382597Z",
     "iopub.status.idle": "2022-04-23T10:09:56.126598Z",
     "shell.execute_reply": "2022-04-23T10:09:56.125718Z"
    },
    "papermill": {
     "duration": 1.772012,
     "end_time": "2022-04-23T10:09:56.126738",
     "exception": false,
     "start_time": "2022-04-23T10:09:54.354726",
     "status": "completed"
    },
    "tags": []
   },
   "outputs": [
    {
     "name": "stdout",
     "output_type": "stream",
     "text": [
      "Collecting mnist\r\n"
     ]
    },
    {
     "name": "stdout",
     "output_type": "stream",
     "text": [
      "  Downloading mnist-0.2.2-py2.py3-none-any.whl (3.5 kB)\r\n",
      "Requirement already satisfied: numpy in /opt/hostedtoolcache/Python/3.6.15/x64/lib/python3.6/site-packages (from mnist) (1.19.5)\r\n"
     ]
    },
    {
     "name": "stdout",
     "output_type": "stream",
     "text": [
      "Installing collected packages: mnist\r\n"
     ]
    },
    {
     "name": "stdout",
     "output_type": "stream",
     "text": [
      "Successfully installed mnist-0.2.2\r\n"
     ]
    }
   ],
   "source": [
    "!pip install mnist"
   ]
  },
  {
   "cell_type": "markdown",
   "id": "69df9c9a",
   "metadata": {
    "papermill": {
     "duration": 0.025156,
     "end_time": "2022-04-23T10:09:56.177594",
     "exception": false,
     "start_time": "2022-04-23T10:09:56.152438",
     "status": "completed"
    },
    "tags": []
   },
   "source": [
    "## Preparing the Data"
   ]
  },
  {
   "cell_type": "code",
   "execution_count": 4,
   "id": "7f69d806",
   "metadata": {
    "execution": {
     "iopub.execute_input": "2022-04-23T10:09:56.231457Z",
     "iopub.status.busy": "2022-04-23T10:09:56.230956Z",
     "iopub.status.idle": "2022-04-23T10:09:56.258280Z",
     "shell.execute_reply": "2022-04-23T10:09:56.257813Z"
    },
    "papermill": {
     "duration": 0.055826,
     "end_time": "2022-04-23T10:09:56.258401",
     "exception": false,
     "start_time": "2022-04-23T10:09:56.202575",
     "status": "completed"
    },
    "tags": []
   },
   "outputs": [],
   "source": [
    "import mnist"
   ]
  },
  {
   "cell_type": "code",
   "execution_count": 5,
   "id": "a411e44f",
   "metadata": {
    "execution": {
     "iopub.execute_input": "2022-04-23T10:09:56.317014Z",
     "iopub.status.busy": "2022-04-23T10:09:56.316510Z",
     "iopub.status.idle": "2022-04-23T10:09:56.954441Z",
     "shell.execute_reply": "2022-04-23T10:09:56.953921Z"
    },
    "papermill": {
     "duration": 0.670856,
     "end_time": "2022-04-23T10:09:56.954581",
     "exception": false,
     "start_time": "2022-04-23T10:09:56.283725",
     "status": "completed"
    },
    "tags": []
   },
   "outputs": [],
   "source": [
    "train_images = mnist.train_images()\n",
    "train_labels = mnist.train_labels()"
   ]
  },
  {
   "cell_type": "code",
   "execution_count": 6,
   "id": "dceab3a5",
   "metadata": {
    "execution": {
     "iopub.execute_input": "2022-04-23T10:09:57.026853Z",
     "iopub.status.busy": "2022-04-23T10:09:57.026049Z",
     "iopub.status.idle": "2022-04-23T10:09:57.031532Z",
     "shell.execute_reply": "2022-04-23T10:09:57.031100Z"
    },
    "papermill": {
     "duration": 0.050696,
     "end_time": "2022-04-23T10:09:57.031642",
     "exception": false,
     "start_time": "2022-04-23T10:09:56.980946",
     "status": "completed"
    },
    "tags": []
   },
   "outputs": [
    {
     "data": {
      "text/plain": [
       "((60000, 28, 28), (60000,))"
      ]
     },
     "execution_count": 6,
     "metadata": {},
     "output_type": "execute_result"
    }
   ],
   "source": [
    "train_images.shape, train_labels.shape"
   ]
  },
  {
   "cell_type": "code",
   "execution_count": 7,
   "id": "f50dc2bb",
   "metadata": {
    "execution": {
     "iopub.execute_input": "2022-04-23T10:09:57.099478Z",
     "iopub.status.busy": "2022-04-23T10:09:57.096524Z",
     "iopub.status.idle": "2022-04-23T10:09:57.315112Z",
     "shell.execute_reply": "2022-04-23T10:09:57.315620Z"
    },
    "papermill": {
     "duration": 0.258819,
     "end_time": "2022-04-23T10:09:57.315779",
     "exception": false,
     "start_time": "2022-04-23T10:09:57.056960",
     "status": "completed"
    },
    "tags": []
   },
   "outputs": [],
   "source": [
    "test_images = mnist.test_images()\n",
    "test_labels = mnist.test_labels()"
   ]
  },
  {
   "cell_type": "code",
   "execution_count": 8,
   "id": "fc38cf1b",
   "metadata": {
    "execution": {
     "iopub.execute_input": "2022-04-23T10:09:57.373088Z",
     "iopub.status.busy": "2022-04-23T10:09:57.372582Z",
     "iopub.status.idle": "2022-04-23T10:09:57.384054Z",
     "shell.execute_reply": "2022-04-23T10:09:57.384551Z"
    },
    "papermill": {
     "duration": 0.04323,
     "end_time": "2022-04-23T10:09:57.384682",
     "exception": false,
     "start_time": "2022-04-23T10:09:57.341452",
     "status": "completed"
    },
    "tags": []
   },
   "outputs": [
    {
     "data": {
      "text/plain": [
       "((10000, 28, 28), (10000,))"
      ]
     },
     "execution_count": 8,
     "metadata": {},
     "output_type": "execute_result"
    }
   ],
   "source": [
    "test_images.shape, test_labels.shape"
   ]
  },
  {
   "cell_type": "code",
   "execution_count": 9,
   "id": "f9ed8fe0",
   "metadata": {
    "execution": {
     "iopub.execute_input": "2022-04-23T10:09:57.439447Z",
     "iopub.status.busy": "2022-04-23T10:09:57.438846Z",
     "iopub.status.idle": "2022-04-23T10:09:57.574475Z",
     "shell.execute_reply": "2022-04-23T10:09:57.574871Z"
    },
    "papermill": {
     "duration": 0.164782,
     "end_time": "2022-04-23T10:09:57.575015",
     "exception": false,
     "start_time": "2022-04-23T10:09:57.410233",
     "status": "completed"
    },
    "tags": []
   },
   "outputs": [
    {
     "name": "stdout",
     "output_type": "stream",
     "text": [
      "2\n"
     ]
    },
    {
     "data": {
      "text/plain": [
       "<matplotlib.image.AxesImage at 0x7f48b2ca53c8>"
      ]
     },
     "execution_count": 9,
     "metadata": {},
     "output_type": "execute_result"
    },
    {
     "data": {
      "image/png": "[encoded data removed]",
      "text/plain": [
       "<Figure size 432x288 with 1 Axes>"
      ]
     },
     "metadata": {
      "needs_background": "light"
     },
     "output_type": "display_data"
    }
   ],
   "source": [
    "image_index = 7776 # You may select anything up to 60,000\n",
    "print(train_labels[image_index]) \n",
    "plt.imshow(train_images[image_index], cmap='Greys')"
   ]
  },
  {
   "cell_type": "markdown",
   "id": "a8d2388d",
   "metadata": {
    "papermill": {
     "duration": 0.026571,
     "end_time": "2022-04-23T10:09:57.628382",
     "exception": false,
     "start_time": "2022-04-23T10:09:57.601811",
     "status": "completed"
    },
    "tags": []
   },
   "source": [
    "## Filter data to get 3 and 8 out"
   ]
  },
  {
   "cell_type": "code",
   "execution_count": 10,
   "id": "776f7fc7",
   "metadata": {
    "execution": {
     "iopub.execute_input": "2022-04-23T10:09:57.686349Z",
     "iopub.status.busy": "2022-04-23T10:09:57.685436Z",
     "iopub.status.idle": "2022-04-23T10:09:57.705273Z",
     "shell.execute_reply": "2022-04-23T10:09:57.704334Z"
    },
    "papermill": {
     "duration": 0.050324,
     "end_time": "2022-04-23T10:09:57.705398",
     "exception": false,
     "start_time": "2022-04-23T10:09:57.655074",
     "status": "completed"
    },
    "tags": []
   },
   "outputs": [],
   "source": [
    "train_filter = np.where((train_labels == 3 ) | (train_labels == 8))\n",
    "test_filter = np.where((test_labels == 3) | (test_labels == 8))\n",
    "X_train, y_train = train_images[train_filter], train_labels[train_filter]\n",
    "X_test, y_test = test_images[test_filter], test_labels[test_filter]"
   ]
  },
  {
   "cell_type": "markdown",
   "id": "948f0b7e",
   "metadata": {
    "papermill": {
     "duration": 0.026609,
     "end_time": "2022-04-23T10:09:57.758791",
     "exception": false,
     "start_time": "2022-04-23T10:09:57.732182",
     "status": "completed"
    },
    "tags": []
   },
   "source": [
    "We normalize the pizel values in the 0 to 1 range"
   ]
  },
  {
   "cell_type": "code",
   "execution_count": 11,
   "id": "ee4c2166",
   "metadata": {
    "execution": {
     "iopub.execute_input": "2022-04-23T10:09:57.816807Z",
     "iopub.status.busy": "2022-04-23T10:09:57.815051Z",
     "iopub.status.idle": "2022-04-23T10:09:57.861718Z",
     "shell.execute_reply": "2022-04-23T10:09:57.861229Z"
    },
    "papermill": {
     "duration": 0.076497,
     "end_time": "2022-04-23T10:09:57.861853",
     "exception": false,
     "start_time": "2022-04-23T10:09:57.785356",
     "status": "completed"
    },
    "tags": []
   },
   "outputs": [],
   "source": [
    "X_train = X_train/255.\n",
    "X_test = X_test/255."
   ]
  },
  {
   "cell_type": "markdown",
   "id": "ddcf4fab",
   "metadata": {
    "papermill": {
     "duration": 0.026717,
     "end_time": "2022-04-23T10:09:57.915752",
     "exception": false,
     "start_time": "2022-04-23T10:09:57.889035",
     "status": "completed"
    },
    "tags": []
   },
   "source": [
    "And setup the labels as 1 (when the digit is 3) and 0 (when the digit is 8)"
   ]
  },
  {
   "cell_type": "code",
   "execution_count": 12,
   "id": "7dc908f2",
   "metadata": {
    "execution": {
     "iopub.execute_input": "2022-04-23T10:09:57.972968Z",
     "iopub.status.busy": "2022-04-23T10:09:57.972449Z",
     "iopub.status.idle": "2022-04-23T10:09:57.984675Z",
     "shell.execute_reply": "2022-04-23T10:09:57.984240Z"
    },
    "papermill": {
     "duration": 0.04179,
     "end_time": "2022-04-23T10:09:57.984780",
     "exception": false,
     "start_time": "2022-04-23T10:09:57.942990",
     "status": "completed"
    },
    "tags": []
   },
   "outputs": [],
   "source": [
    "y_train = 1*(y_train==3)\n",
    "y_test = 1*(y_test==3)"
   ]
  },
  {
   "cell_type": "code",
   "execution_count": 13,
   "id": "01e4e969",
   "metadata": {
    "execution": {
     "iopub.execute_input": "2022-04-23T10:09:58.044392Z",
     "iopub.status.busy": "2022-04-23T10:09:58.043876Z",
     "iopub.status.idle": "2022-04-23T10:09:58.055267Z",
     "shell.execute_reply": "2022-04-23T10:09:58.055732Z"
    },
    "papermill": {
     "duration": 0.044476,
     "end_time": "2022-04-23T10:09:58.055876",
     "exception": false,
     "start_time": "2022-04-23T10:09:58.011400",
     "status": "completed"
    },
    "tags": []
   },
   "outputs": [
    {
     "data": {
      "text/plain": [
       "((11982, 28, 28), (1984, 28, 28))"
      ]
     },
     "execution_count": 13,
     "metadata": {},
     "output_type": "execute_result"
    }
   ],
   "source": [
    "X_train.shape, X_test.shape"
   ]
  },
  {
   "cell_type": "markdown",
   "id": "5ccf3f85",
   "metadata": {
    "papermill": {
     "duration": 0.027049,
     "end_time": "2022-04-23T10:09:58.109606",
     "exception": false,
     "start_time": "2022-04-23T10:09:58.082557",
     "status": "completed"
    },
    "tags": []
   },
   "source": [
    "We reshape the data to flatten the image pixels into a set of features or co-variates:"
   ]
  },
  {
   "cell_type": "code",
   "execution_count": 14,
   "id": "5286a4a3",
   "metadata": {
    "execution": {
     "iopub.execute_input": "2022-04-23T10:09:58.167068Z",
     "iopub.status.busy": "2022-04-23T10:09:58.166560Z",
     "iopub.status.idle": "2022-04-23T10:09:58.180304Z",
     "shell.execute_reply": "2022-04-23T10:09:58.179880Z"
    },
    "papermill": {
     "duration": 0.043914,
     "end_time": "2022-04-23T10:09:58.180416",
     "exception": false,
     "start_time": "2022-04-23T10:09:58.136502",
     "status": "completed"
    },
    "tags": []
   },
   "outputs": [
    {
     "data": {
      "text/plain": [
       "((11982, 784), (1984, 784))"
      ]
     },
     "execution_count": 14,
     "metadata": {},
     "output_type": "execute_result"
    }
   ],
   "source": [
    "X_train = X_train.reshape(X_train.shape[0], -1)\n",
    "X_test = X_test.reshape(X_test.shape[0], -1)\n",
    "X_train.shape, X_test.shape"
   ]
  },
  {
   "cell_type": "code",
   "execution_count": 15,
   "id": "73c5f88a",
   "metadata": {
    "execution": {
     "iopub.execute_input": "2022-04-23T10:09:58.239003Z",
     "iopub.status.busy": "2022-04-23T10:09:58.238494Z",
     "iopub.status.idle": "2022-04-23T10:09:58.256887Z",
     "shell.execute_reply": "2022-04-23T10:09:58.256476Z"
    },
    "papermill": {
     "duration": 0.049364,
     "end_time": "2022-04-23T10:09:58.257000",
     "exception": false,
     "start_time": "2022-04-23T10:09:58.207636",
     "status": "completed"
    },
    "tags": []
   },
   "outputs": [],
   "source": [
    "#Impoting functions from 'Kudzu'\n",
    "from kudzu.model import Model\n",
    "from kudzu.train import Learner\n",
    "from kudzu.optim import GD\n",
    "from kudzu.data import Data, Sampler,Dataloader\n",
    "\n",
    "from kudzu.callbacks import AccCallback\n",
    "from kudzu.callbacks import ClfCallback\n",
    "\n",
    "from kudzu.loss import MSE\n",
    "\n",
    "from kudzu.layer import Sigmoid,Relu\n",
    "from kudzu.layer import Affine"
   ]
  },
  {
   "cell_type": "markdown",
   "id": "bc01172a",
   "metadata": {
    "papermill": {
     "duration": 0.027034,
     "end_time": "2022-04-23T10:09:58.311299",
     "exception": false,
     "start_time": "2022-04-23T10:09:58.284265",
     "status": "completed"
    },
    "tags": []
   },
   "source": [
    "### Let us create a `Config` class, to store important parameters. \n",
    "This class essentially plays the role of a dictionary."
   ]
  },
  {
   "cell_type": "code",
   "execution_count": 16,
   "id": "978281aa",
   "metadata": {
    "execution": {
     "iopub.execute_input": "2022-04-23T10:09:58.384654Z",
     "iopub.status.busy": "2022-04-23T10:09:58.384122Z",
     "iopub.status.idle": "2022-04-23T10:09:58.386398Z",
     "shell.execute_reply": "2022-04-23T10:09:58.385968Z"
    },
    "papermill": {
     "duration": 0.048131,
     "end_time": "2022-04-23T10:09:58.386505",
     "exception": false,
     "start_time": "2022-04-23T10:09:58.338374",
     "status": "completed"
    },
    "tags": []
   },
   "outputs": [],
   "source": [
    "class Config:\n",
    "    pass\n",
    "config = Config()\n",
    "config.lr = 0.001\n",
    "config.num_epochs = 250\n",
    "config.bs = 50"
   ]
  },
  {
   "cell_type": "markdown",
   "id": "1385fa59",
   "metadata": {
    "papermill": {
     "duration": 0.027069,
     "end_time": "2022-04-23T10:09:58.440640",
     "exception": false,
     "start_time": "2022-04-23T10:09:58.413571",
     "status": "completed"
    },
    "tags": []
   },
   "source": [
    "### Running Models with the Training data\n",
    "Details about the network layers:\n",
    "- A first affine layer has 784 inputs and does 100 affine transforms. These are followed by a Relu\n",
    "- A second affine layer has 100 inputs from the 100 activations of the past layer, and does 100 affine transforms. These are followed by a Relu\n",
    "- A third affine layer has 100 activations and does 2 affine transformations to create an embedding for visualization. There is no non-linearity here.\n",
    "- A final \"logistic regression\" which has an affine transform from 2 inputs to 1 output, which is squeezed through a sigmoid.\n"
   ]
  },
  {
   "cell_type": "code",
   "execution_count": 17,
   "id": "2b9c66db",
   "metadata": {
    "execution": {
     "iopub.execute_input": "2022-04-23T10:09:58.504509Z",
     "iopub.status.busy": "2022-04-23T10:09:58.498360Z",
     "iopub.status.idle": "2022-04-23T10:09:58.513293Z",
     "shell.execute_reply": "2022-04-23T10:09:58.512877Z"
    },
    "papermill": {
     "duration": 0.045624,
     "end_time": "2022-04-23T10:09:58.513407",
     "exception": false,
     "start_time": "2022-04-23T10:09:58.467783",
     "status": "completed"
    },
    "tags": []
   },
   "outputs": [],
   "source": [
    "data = Data(X_train, y_train.reshape(-1,1))\n",
    "sampler = Sampler(data, config.bs, shuffle=True)\n",
    "\n",
    "dl = Dataloader(data, sampler)\n",
    "\n",
    "opt = GD(config.lr)\n",
    "loss = MSE()"
   ]
  },
  {
   "cell_type": "code",
   "execution_count": 18,
   "id": "b275e4c2",
   "metadata": {
    "execution": {
     "iopub.execute_input": "2022-04-23T10:09:58.571627Z",
     "iopub.status.busy": "2022-04-23T10:09:58.571118Z",
     "iopub.status.idle": "2022-04-23T10:09:58.583469Z",
     "shell.execute_reply": "2022-04-23T10:09:58.583060Z"
    },
    "papermill": {
     "duration": 0.042833,
     "end_time": "2022-04-23T10:09:58.583582",
     "exception": false,
     "start_time": "2022-04-23T10:09:58.540749",
     "status": "completed"
    },
    "tags": []
   },
   "outputs": [],
   "source": [
    "training_data_x = X_train\n",
    "testing_data_x = X_test\n",
    "training_data_y = y_train.reshape(-1,1)\n",
    "testing_data_y = y_test.reshape(-1,1)"
   ]
  },
  {
   "cell_type": "code",
   "execution_count": 19,
   "id": "76951160",
   "metadata": {
    "execution": {
     "iopub.execute_input": "2022-04-23T10:09:58.649156Z",
     "iopub.status.busy": "2022-04-23T10:09:58.648616Z",
     "iopub.status.idle": "2022-04-23T10:09:58.660309Z",
     "shell.execute_reply": "2022-04-23T10:09:58.659889Z"
    },
    "papermill": {
     "duration": 0.049815,
     "end_time": "2022-04-23T10:09:58.660424",
     "exception": false,
     "start_time": "2022-04-23T10:09:58.610609",
     "status": "completed"
    },
    "tags": []
   },
   "outputs": [
    {
     "name": "stdout",
     "output_type": "stream",
     "text": [
      "xavier\n",
      "xavier\n",
      "xavier\n",
      "xavier\n",
      "xavier\n"
     ]
    }
   ],
   "source": [
    "layers = [Affine(\"first\", 784, 100), Relu(\"first\"), Affine(\"second\", 100, 100), Relu(\"second\"), Affine(\"third\", 100, 2), Affine(\"last\", 2, 1), Sigmoid(\"last\")]\n",
    "model_nn = Model(layers)\n",
    "model_lr = Model([Affine(\"logits\", 784, 1), Sigmoid(\"sigmoid\")])"
   ]
  },
  {
   "cell_type": "code",
   "execution_count": 20,
   "id": "6eede77a",
   "metadata": {
    "execution": {
     "iopub.execute_input": "2022-04-23T10:09:58.718836Z",
     "iopub.status.busy": "2022-04-23T10:09:58.718332Z",
     "iopub.status.idle": "2022-04-23T10:09:58.731073Z",
     "shell.execute_reply": "2022-04-23T10:09:58.730645Z"
    },
    "papermill": {
     "duration": 0.043288,
     "end_time": "2022-04-23T10:09:58.731181",
     "exception": false,
     "start_time": "2022-04-23T10:09:58.687893",
     "status": "completed"
    },
    "tags": []
   },
   "outputs": [],
   "source": [
    "nn_learner = Learner(loss, model_nn, opt, config.num_epochs)\n",
    "acc_nn = ClfCallback(nn_learner, config.bs, training_data_x , testing_data_x, training_data_y, testing_data_y)\n",
    "nn_learner.set_callbacks([acc_nn])"
   ]
  },
  {
   "cell_type": "code",
   "execution_count": 21,
   "id": "877b6cc7",
   "metadata": {
    "execution": {
     "iopub.execute_input": "2022-04-23T10:09:58.793068Z",
     "iopub.status.busy": "2022-04-23T10:09:58.792560Z",
     "iopub.status.idle": "2022-04-23T10:09:58.802673Z",
     "shell.execute_reply": "2022-04-23T10:09:58.802263Z"
    },
    "papermill": {
     "duration": 0.044187,
     "end_time": "2022-04-23T10:09:58.802784",
     "exception": false,
     "start_time": "2022-04-23T10:09:58.758597",
     "status": "completed"
    },
    "tags": []
   },
   "outputs": [],
   "source": [
    "lr_learner = Learner(loss, model_lr, opt, config.num_epochs)\n",
    "acc_lr = ClfCallback(lr_learner, config.bs, training_data_x , testing_data_x, training_data_y, testing_data_y)\n",
    "lr_learner.set_callbacks([acc_lr])"
   ]
  },
  {
   "cell_type": "code",
   "execution_count": 22,
   "id": "d9b133c3",
   "metadata": {
    "execution": {
     "iopub.execute_input": "2022-04-23T10:09:58.864981Z",
     "iopub.status.busy": "2022-04-23T10:09:58.864475Z",
     "iopub.status.idle": "2022-04-23T10:11:12.787178Z",
     "shell.execute_reply": "2022-04-23T10:11:12.787950Z"
    },
    "papermill": {
     "duration": 73.957863,
     "end_time": "2022-04-23T10:11:12.788101",
     "exception": false,
     "start_time": "2022-04-23T10:09:58.830238",
     "status": "completed"
    },
    "tags": []
   },
   "outputs": [
    {
     "name": "stdout",
     "output_type": "stream",
     "text": [
      "Epoch 0, Loss 0.2358\n",
      "Training Accuracy: 0.6935, Testing Accuracy: 0.7152\n",
      "\n"
     ]
    },
    {
     "name": "stdout",
     "output_type": "stream",
     "text": [
      "Epoch 10, Loss 0.0819\n",
      "Training Accuracy: 0.9210, Testing Accuracy: 0.9335\n",
      "\n"
     ]
    },
    {
     "name": "stdout",
     "output_type": "stream",
     "text": [
      "Epoch 20, Loss 0.0536\n",
      "Training Accuracy: 0.9412, Testing Accuracy: 0.9491\n",
      "\n"
     ]
    },
    {
     "name": "stdout",
     "output_type": "stream",
     "text": [
      "Epoch 30, Loss 0.0437\n",
      "Training Accuracy: 0.9508, Testing Accuracy: 0.9561\n",
      "\n"
     ]
    },
    {
     "name": "stdout",
     "output_type": "stream",
     "text": [
      "Epoch 40, Loss 0.0384\n",
      "Training Accuracy: 0.9550, Testing Accuracy: 0.9612\n",
      "\n"
     ]
    },
    {
     "name": "stdout",
     "output_type": "stream",
     "text": [
      "Epoch 50, Loss 0.0351\n",
      "Training Accuracy: 0.9579, Testing Accuracy: 0.9637\n",
      "\n"
     ]
    },
    {
     "name": "stdout",
     "output_type": "stream",
     "text": [
      "Epoch 60, Loss 0.0328\n",
      "Training Accuracy: 0.9609, Testing Accuracy: 0.9672\n",
      "\n"
     ]
    },
    {
     "name": "stdout",
     "output_type": "stream",
     "text": [
      "Epoch 70, Loss 0.0309\n",
      "Training Accuracy: 0.9629, Testing Accuracy: 0.9677\n",
      "\n"
     ]
    },
    {
     "name": "stdout",
     "output_type": "stream",
     "text": [
      "Epoch 80, Loss 0.0295\n",
      "Training Accuracy: 0.9647, Testing Accuracy: 0.9677\n",
      "\n"
     ]
    },
    {
     "name": "stdout",
     "output_type": "stream",
     "text": [
      "Epoch 90, Loss 0.0283\n",
      "Training Accuracy: 0.9664, Testing Accuracy: 0.9672\n",
      "\n"
     ]
    },
    {
     "name": "stdout",
     "output_type": "stream",
     "text": [
      "Epoch 100, Loss 0.0273\n",
      "Training Accuracy: 0.9673, Testing Accuracy: 0.9672\n",
      "\n"
     ]
    },
    {
     "name": "stdout",
     "output_type": "stream",
     "text": [
      "Epoch 110, Loss 0.0265\n",
      "Training Accuracy: 0.9680, Testing Accuracy: 0.9688\n",
      "\n"
     ]
    },
    {
     "name": "stdout",
     "output_type": "stream",
     "text": [
      "Epoch 120, Loss 0.0257\n",
      "Training Accuracy: 0.9694, Testing Accuracy: 0.9682\n",
      "\n"
     ]
    },
    {
     "name": "stdout",
     "output_type": "stream",
     "text": [
      "Epoch 130, Loss 0.025\n",
      "Training Accuracy: 0.9702, Testing Accuracy: 0.9693\n",
      "\n"
     ]
    },
    {
     "name": "stdout",
     "output_type": "stream",
     "text": [
      "Epoch 140, Loss 0.0244\n",
      "Training Accuracy: 0.9709, Testing Accuracy: 0.9698\n",
      "\n"
     ]
    },
    {
     "name": "stdout",
     "output_type": "stream",
     "text": [
      "Epoch 150, Loss 0.0239\n",
      "Training Accuracy: 0.9719, Testing Accuracy: 0.9713\n",
      "\n"
     ]
    },
    {
     "name": "stdout",
     "output_type": "stream",
     "text": [
      "Epoch 160, Loss 0.0234\n",
      "Training Accuracy: 0.9729, Testing Accuracy: 0.9708\n",
      "\n"
     ]
    },
    {
     "name": "stdout",
     "output_type": "stream",
     "text": [
      "Epoch 170, Loss 0.0229\n",
      "Training Accuracy: 0.9738, Testing Accuracy: 0.9708\n",
      "\n"
     ]
    },
    {
     "name": "stdout",
     "output_type": "stream",
     "text": [
      "Epoch 180, Loss 0.0224\n",
      "Training Accuracy: 0.9739, Testing Accuracy: 0.9708\n",
      "\n"
     ]
    },
    {
     "name": "stdout",
     "output_type": "stream",
     "text": [
      "Epoch 190, Loss 0.022\n",
      "Training Accuracy: 0.9744, Testing Accuracy: 0.9718\n",
      "\n"
     ]
    },
    {
     "name": "stdout",
     "output_type": "stream",
     "text": [
      "Epoch 200, Loss 0.0216\n",
      "Training Accuracy: 0.9749, Testing Accuracy: 0.9718\n",
      "\n"
     ]
    },
    {
     "name": "stdout",
     "output_type": "stream",
     "text": [
      "Epoch 210, Loss 0.0212\n",
      "Training Accuracy: 0.9755, Testing Accuracy: 0.9718\n",
      "\n"
     ]
    },
    {
     "name": "stdout",
     "output_type": "stream",
     "text": [
      "Epoch 220, Loss 0.0209\n",
      "Training Accuracy: 0.9760, Testing Accuracy: 0.9728\n",
      "\n"
     ]
    },
    {
     "name": "stdout",
     "output_type": "stream",
     "text": [
      "Epoch 230, Loss 0.0205\n",
      "Training Accuracy: 0.9765, Testing Accuracy: 0.9723\n",
      "\n"
     ]
    },
    {
     "name": "stdout",
     "output_type": "stream",
     "text": [
      "Epoch 240, Loss 0.0202\n",
      "Training Accuracy: 0.9775, Testing Accuracy: 0.9723\n",
      "\n"
     ]
    },
    {
     "data": {
      "text/plain": [
       "0.013792424927292234"
      ]
     },
     "execution_count": 22,
     "metadata": {},
     "output_type": "execute_result"
    }
   ],
   "source": [
    "nn_learner.train_loop(dl)"
   ]
  },
  {
   "cell_type": "code",
   "execution_count": 23,
   "id": "e0163366",
   "metadata": {
    "execution": {
     "iopub.execute_input": "2022-04-23T10:11:12.865561Z",
     "iopub.status.busy": "2022-04-23T10:11:12.865044Z",
     "iopub.status.idle": "2022-04-23T10:11:26.478260Z",
     "shell.execute_reply": "2022-04-23T10:11:26.479046Z"
    },
    "papermill": {
     "duration": 13.656318,
     "end_time": "2022-04-23T10:11:26.479191",
     "exception": false,
     "start_time": "2022-04-23T10:11:12.822873",
     "status": "completed"
    },
    "tags": []
   },
   "outputs": [
    {
     "name": "stdout",
     "output_type": "stream",
     "text": [
      "Epoch 0, Loss 0.2374\n",
      "Training Accuracy: 0.6950, Testing Accuracy: 0.7092\n",
      "\n"
     ]
    },
    {
     "name": "stdout",
     "output_type": "stream",
     "text": [
      "Epoch 10, Loss 0.1013\n",
      "Training Accuracy: 0.9140, Testing Accuracy: 0.9249\n",
      "\n"
     ]
    },
    {
     "name": "stdout",
     "output_type": "stream",
     "text": [
      "Epoch 20, Loss 0.0782\n",
      "Training Accuracy: 0.9300, Testing Accuracy: 0.9415\n",
      "\n"
     ]
    },
    {
     "name": "stdout",
     "output_type": "stream",
     "text": [
      "Epoch 30, Loss 0.0676\n",
      "Training Accuracy: 0.9372, Testing Accuracy: 0.9496\n",
      "\n"
     ]
    },
    {
     "name": "stdout",
     "output_type": "stream",
     "text": [
      "Epoch 40, Loss 0.0612\n",
      "Training Accuracy: 0.9427, Testing Accuracy: 0.9526\n",
      "\n"
     ]
    },
    {
     "name": "stdout",
     "output_type": "stream",
     "text": [
      "Epoch 50, Loss 0.0568\n",
      "Training Accuracy: 0.9456, Testing Accuracy: 0.9556\n",
      "\n"
     ]
    },
    {
     "name": "stdout",
     "output_type": "stream",
     "text": [
      "Epoch 60, Loss 0.0535\n",
      "Training Accuracy: 0.9478, Testing Accuracy: 0.9567\n",
      "\n"
     ]
    },
    {
     "name": "stdout",
     "output_type": "stream",
     "text": [
      "Epoch 70, Loss 0.0511\n",
      "Training Accuracy: 0.9502, Testing Accuracy: 0.9582\n",
      "\n"
     ]
    },
    {
     "name": "stdout",
     "output_type": "stream",
     "text": [
      "Epoch 80, Loss 0.049\n",
      "Training Accuracy: 0.9518, Testing Accuracy: 0.9587\n",
      "\n"
     ]
    },
    {
     "name": "stdout",
     "output_type": "stream",
     "text": [
      "Epoch 90, Loss 0.0474\n",
      "Training Accuracy: 0.9525, Testing Accuracy: 0.9587\n",
      "\n"
     ]
    },
    {
     "name": "stdout",
     "output_type": "stream",
     "text": [
      "Epoch 100, Loss 0.046\n",
      "Training Accuracy: 0.9536, Testing Accuracy: 0.9602\n",
      "\n"
     ]
    },
    {
     "name": "stdout",
     "output_type": "stream",
     "text": [
      "Epoch 110, Loss 0.0448\n",
      "Training Accuracy: 0.9548, Testing Accuracy: 0.9602\n",
      "\n"
     ]
    },
    {
     "name": "stdout",
     "output_type": "stream",
     "text": [
      "Epoch 120, Loss 0.0438\n",
      "Training Accuracy: 0.9554, Testing Accuracy: 0.9617\n",
      "\n"
     ]
    },
    {
     "name": "stdout",
     "output_type": "stream",
     "text": [
      "Epoch 130, Loss 0.0428\n",
      "Training Accuracy: 0.9560, Testing Accuracy: 0.9632\n",
      "\n"
     ]
    },
    {
     "name": "stdout",
     "output_type": "stream",
     "text": [
      "Epoch 140, Loss 0.042\n",
      "Training Accuracy: 0.9566, Testing Accuracy: 0.9632\n",
      "\n"
     ]
    },
    {
     "name": "stdout",
     "output_type": "stream",
     "text": [
      "Epoch 150, Loss 0.0413\n",
      "Training Accuracy: 0.9576, Testing Accuracy: 0.9632\n",
      "\n"
     ]
    },
    {
     "name": "stdout",
     "output_type": "stream",
     "text": [
      "Epoch 160, Loss 0.0406\n",
      "Training Accuracy: 0.9579, Testing Accuracy: 0.9647\n",
      "\n"
     ]
    },
    {
     "name": "stdout",
     "output_type": "stream",
     "text": [
      "Epoch 170, Loss 0.04\n",
      "Training Accuracy: 0.9587, Testing Accuracy: 0.9652\n",
      "\n"
     ]
    },
    {
     "name": "stdout",
     "output_type": "stream",
     "text": [
      "Epoch 180, Loss 0.0394\n",
      "Training Accuracy: 0.9591, Testing Accuracy: 0.9647\n",
      "\n"
     ]
    },
    {
     "name": "stdout",
     "output_type": "stream",
     "text": [
      "Epoch 190, Loss 0.0389\n",
      "Training Accuracy: 0.9593, Testing Accuracy: 0.9657\n",
      "\n"
     ]
    },
    {
     "name": "stdout",
     "output_type": "stream",
     "text": [
      "Epoch 200, Loss 0.0385\n",
      "Training Accuracy: 0.9597, Testing Accuracy: 0.9667\n",
      "\n"
     ]
    },
    {
     "name": "stdout",
     "output_type": "stream",
     "text": [
      "Epoch 210, Loss 0.038\n",
      "Training Accuracy: 0.9600, Testing Accuracy: 0.9662\n",
      "\n"
     ]
    },
    {
     "name": "stdout",
     "output_type": "stream",
     "text": [
      "Epoch 220, Loss 0.0376\n",
      "Training Accuracy: 0.9602, Testing Accuracy: 0.9667\n",
      "\n"
     ]
    },
    {
     "name": "stdout",
     "output_type": "stream",
     "text": [
      "Epoch 230, Loss 0.0372\n",
      "Training Accuracy: 0.9605, Testing Accuracy: 0.9662\n",
      "\n"
     ]
    },
    {
     "name": "stdout",
     "output_type": "stream",
     "text": [
      "Epoch 240, Loss 0.0369\n",
      "Training Accuracy: 0.9609, Testing Accuracy: 0.9662\n",
      "\n"
     ]
    },
    {
     "data": {
      "text/plain": [
       "0.06195623092438433"
      ]
     },
     "execution_count": 23,
     "metadata": {},
     "output_type": "execute_result"
    }
   ],
   "source": [
    "lr_learner.train_loop(dl)"
   ]
  },
  {
   "cell_type": "code",
   "execution_count": 24,
   "id": "ca410940",
   "metadata": {
    "execution": {
     "iopub.execute_input": "2022-04-23T10:11:26.577196Z",
     "iopub.status.busy": "2022-04-23T10:11:26.576676Z",
     "iopub.status.idle": "2022-04-23T10:11:26.794078Z",
     "shell.execute_reply": "2022-04-23T10:11:26.793564Z"
    },
    "papermill": {
     "duration": 0.272866,
     "end_time": "2022-04-23T10:11:26.794207",
     "exception": false,
     "start_time": "2022-04-23T10:11:26.521341",
     "status": "completed"
    },
    "tags": []
   },
   "outputs": [
    {
     "data": {
      "text/plain": [
       "<matplotlib.legend.Legend at 0x7f48b2883ac8>"
      ]
     },
     "execution_count": 24,
     "metadata": {},
     "output_type": "execute_result"
    },
    {
     "data": {
      "image/png": "[encoded data removed]",
      "text/plain": [
       "<Figure size 1080x720 with 1 Axes>"
      ]
     },
     "metadata": {
      "needs_background": "light"
     },
     "output_type": "display_data"
    }
   ],
   "source": [
    "#comparing the results of NN and LR\n",
    "plt.figure(figsize=(15,10))\n",
    "\n",
    "# Neural Network plots\n",
    "plt.plot(acc_nn.accuracies, 'r-', label = \"Training Accuracies - NN\")\n",
    "plt.plot(acc_nn.test_accuracies, 'g-', label = \"Testing Accuracies - NN\")\n",
    "\n",
    "# Logistic Regression plots\n",
    "plt.plot(acc_lr.accuracies, 'k-', label = \"Training Accuracies - LR\")\n",
    "plt.plot(acc_lr.test_accuracies, 'b-', label = \"Testing Accuracies - LR\")\n",
    "plt.legend()"
   ]
  },
  {
   "cell_type": "markdown",
   "id": "80dfb35c",
   "metadata": {
    "papermill": {
     "duration": 0.04287,
     "end_time": "2022-04-23T10:11:26.880440",
     "exception": false,
     "start_time": "2022-04-23T10:11:26.837570",
     "status": "completed"
    },
    "tags": []
   },
   "source": [
    "#### Plotting the outputs of this layer of the NN.\n"
   ]
  },
  {
   "cell_type": "code",
   "execution_count": 25,
   "id": "45eb2ff5",
   "metadata": {
    "execution": {
     "iopub.execute_input": "2022-04-23T10:11:26.969080Z",
     "iopub.status.busy": "2022-04-23T10:11:26.968540Z",
     "iopub.status.idle": "2022-04-23T10:11:26.987215Z",
     "shell.execute_reply": "2022-04-23T10:11:26.987632Z"
    },
    "papermill": {
     "duration": 0.065165,
     "end_time": "2022-04-23T10:11:26.987766",
     "exception": false,
     "start_time": "2022-04-23T10:11:26.922601",
     "status": "completed"
    },
    "tags": []
   },
   "outputs": [],
   "source": [
    "new_model = Model(layers[:-2])\n",
    "testing_plot = new_model(testing_data_x)"
   ]
  },
  {
   "cell_type": "code",
   "execution_count": 26,
   "id": "4c0a5485",
   "metadata": {
    "execution": {
     "iopub.execute_input": "2022-04-23T10:11:27.080368Z",
     "iopub.status.busy": "2022-04-23T10:11:27.078952Z",
     "iopub.status.idle": "2022-04-23T10:11:27.285557Z",
     "shell.execute_reply": "2022-04-23T10:11:27.285973Z"
    },
    "papermill": {
     "duration": 0.255019,
     "end_time": "2022-04-23T10:11:27.286115",
     "exception": false,
     "start_time": "2022-04-23T10:11:27.031096",
     "status": "completed"
    },
    "tags": []
   },
   "outputs": [
    {
     "data": {
      "text/plain": [
       "Text(0.5, 1.0, 'Outputs')"
      ]
     },
     "execution_count": 26,
     "metadata": {},
     "output_type": "execute_result"
    },
    {
     "data": {
      "image/png": "[encoded data removed]",
      "text/plain": [
       "<Figure size 576x504 with 1 Axes>"
      ]
     },
     "metadata": {
      "needs_background": "light"
     },
     "output_type": "display_data"
    }
   ],
   "source": [
    "# Plotting the scatter plot of points and color coding by class\n",
    "plt.figure(figsize=(8,7))\n",
    "plt.scatter(testing_plot[:,0], testing_plot[:,1], alpha = 0.1, c = y_test.ravel());\n",
    "plt.title('Outputs')"
   ]
  },
  {
   "cell_type": "markdown",
   "id": "a74fcf8f",
   "metadata": {
    "papermill": {
     "duration": 0.044431,
     "end_time": "2022-04-23T10:11:27.375066",
     "exception": false,
     "start_time": "2022-04-23T10:11:27.330635",
     "status": "completed"
    },
    "tags": []
   },
   "source": [
    "Probability contours"
   ]
  },
  {
   "cell_type": "code",
   "execution_count": 27,
   "id": "d0afc8e3",
   "metadata": {
    "execution": {
     "iopub.execute_input": "2022-04-23T10:11:27.470063Z",
     "iopub.status.busy": "2022-04-23T10:11:27.467224Z",
     "iopub.status.idle": "2022-04-23T10:11:27.479377Z",
     "shell.execute_reply": "2022-04-23T10:11:27.478874Z"
    },
    "papermill": {
     "duration": 0.059968,
     "end_time": "2022-04-23T10:11:27.479489",
     "exception": false,
     "start_time": "2022-04-23T10:11:27.419521",
     "status": "completed"
    },
    "tags": []
   },
   "outputs": [],
   "source": [
    "model_prob = Model(layers[-2:]) "
   ]
  },
  {
   "cell_type": "code",
   "execution_count": 28,
   "id": "9b96e238",
   "metadata": {
    "execution": {
     "iopub.execute_input": "2022-04-23T10:11:27.601114Z",
     "iopub.status.busy": "2022-04-23T10:11:27.600600Z",
     "iopub.status.idle": "2022-04-23T10:11:27.612995Z",
     "shell.execute_reply": "2022-04-23T10:11:27.613384Z"
    },
    "papermill": {
     "duration": 0.062756,
     "end_time": "2022-04-23T10:11:27.613519",
     "exception": false,
     "start_time": "2022-04-23T10:11:27.550763",
     "status": "completed"
    },
    "tags": []
   },
   "outputs": [],
   "source": [
    "#creating the x and y ranges according to the above generated plot.\n",
    "x_range = np.linspace(-4, 1, 100) \n",
    "y_range = np.linspace(-6, 6, 100) \n",
    "x_grid, y_grid = np.meshgrid(x_range, y_range) # x_grid and y_grig are of size 100 X 100\n",
    "\n",
    "# converting x_grid and y_grid to continuous arrays\n",
    "x_gridflat = np.ravel(x_grid)\n",
    "y_gridflat = np.ravel(y_grid)\n",
    "\n",
    "# The last layer of the current model takes two columns as input. Hence transpose of np.vstack() is required.\n",
    "X = np.vstack((x_gridflat, y_gridflat)).T\n",
    "\n",
    "prob_contour = model_prob(X).reshape(100,100) "
   ]
  },
  {
   "cell_type": "code",
   "execution_count": 29,
   "id": "da72499a",
   "metadata": {
    "execution": {
     "iopub.execute_input": "2022-04-23T10:11:27.714872Z",
     "iopub.status.busy": "2022-04-23T10:11:27.714354Z",
     "iopub.status.idle": "2022-04-23T10:11:27.962725Z",
     "shell.execute_reply": "2022-04-23T10:11:27.962295Z"
    },
    "papermill": {
     "duration": 0.304196,
     "end_time": "2022-04-23T10:11:27.962848",
     "exception": false,
     "start_time": "2022-04-23T10:11:27.658652",
     "status": "completed"
    },
    "tags": []
   },
   "outputs": [
    {
     "data": {
      "image/png": "[encoded data removed]",
      "text/plain": [
       "<Figure size 720x648 with 1 Axes>"
      ]
     },
     "metadata": {
      "needs_background": "light"
     },
     "output_type": "display_data"
    }
   ],
   "source": [
    "plt.figure(figsize=(10,9))\n",
    "plt.scatter(testing_plot[:,0], testing_plot[:,1], alpha = 0.1, c = y_test.ravel())\n",
    "contours = plt.contour(x_grid,y_grid,prob_contour)\n",
    "plt.title('Probability Contours')\n",
    "plt.clabel(contours, inline = True );"
   ]
  },
  {
   "cell_type": "code",
   "execution_count": null,
   "id": "e81b4ac7",
   "metadata": {
    "papermill": {
     "duration": 0.047428,
     "end_time": "2022-04-23T10:11:28.058682",
     "exception": false,
     "start_time": "2022-04-23T10:11:28.011254",
     "status": "completed"
    },
    "tags": []
   },
   "outputs": [],
   "source": []
  }
 ],
 "metadata": {
  "kernelspec": {
   "display_name": "Python 3",
   "language": "python",
   "name": "python3"
  },
  "language_info": {
   "codemirror_mode": {
    "name": "ipython",
    "version": 3
   },
   "file_extension": ".py",
   "mimetype": "text/x-python",
   "name": "python",
   "nbconvert_exporter": "python",
   "pygments_lexer": "ipython3",
   "version": "3.6.15"
  },
  "papermill": {
   "default_parameters": {},
   "duration": 95.87663,
   "end_time": "2022-04-23T10:11:28.524415",
   "environment_variables": {},
   "exception": null,
   "input_path": "2020-08-11-part2.ipynb",
   "output_path": "2020-08-11-part2.ipynb",
   "parameters": {},
   "start_time": "2022-04-23T10:09:52.647785",
   "version": "2.3.3"
  }
 },
 "nbformat": 4,
 "nbformat_minor": 5
}