{
 "cells": [
  {
   "cell_type": "markdown",
   "id": "98380cd3",
   "metadata": {
    "papermill": {
     "duration": 0.028857,
     "end_time": "2021-10-13T20:07:47.853626",
     "exception": false,
     "start_time": "2021-10-13T20:07:47.824769",
     "status": "completed"
    },
    "tags": []
   },
   "source": [
    "# Distinguish Your Own Digits (DYOD)"
   ]
  },
  {
   "cell_type": "markdown",
   "id": "ef31240d",
   "metadata": {
    "papermill": {
     "duration": 0.023824,
     "end_time": "2021-10-13T20:07:47.901947",
     "exception": false,
     "start_time": "2021-10-13T20:07:47.878123",
     "status": "completed"
    },
    "tags": []
   },
   "source": [
    "You are going to write a classifier that distinguishes between the number 3 and number 8."
   ]
  },
  {
   "cell_type": "code",
   "execution_count": 1,
   "id": "b15c8646",
   "metadata": {
    "execution": {
     "iopub.execute_input": "2021-10-13T20:07:47.961145Z",
     "iopub.status.busy": "2021-10-13T20:07:47.960570Z",
     "iopub.status.idle": "2021-10-13T20:07:47.971973Z",
     "shell.execute_reply": "2021-10-13T20:07:47.971527Z"
    },
    "papermill": {
     "duration": 0.046392,
     "end_time": "2021-10-13T20:07:47.972103",
     "exception": false,
     "start_time": "2021-10-13T20:07:47.925711",
     "status": "completed"
    },
    "tags": []
   },
   "outputs": [],
   "source": [
    "%load_ext autoreload\n",
    "%autoreload 2"
   ]
  },
  {
   "cell_type": "code",
   "execution_count": 2,
   "id": "22ef38dc",
   "metadata": {
    "execution": {
     "iopub.execute_input": "2021-10-13T20:07:48.027815Z",
     "iopub.status.busy": "2021-10-13T20:07:48.027292Z",
     "iopub.status.idle": "2021-10-13T20:07:48.546191Z",
     "shell.execute_reply": "2021-10-13T20:07:48.545661Z"
    },
    "papermill": {
     "duration": 0.550027,
     "end_time": "2021-10-13T20:07:48.546339",
     "exception": false,
     "start_time": "2021-10-13T20:07:47.996312",
     "status": "completed"
    },
    "tags": []
   },
   "outputs": [],
   "source": [
    "%matplotlib inline\n",
    "import numpy as np\n",
    "import matplotlib.pyplot as plt\n",
    "import pandas as pd"
   ]
  },
  {
   "cell_type": "markdown",
   "id": "ba036198",
   "metadata": {
    "papermill": {
     "duration": 0.023911,
     "end_time": "2021-10-13T20:07:48.596110",
     "exception": false,
     "start_time": "2021-10-13T20:07:48.572199",
     "status": "completed"
    },
    "tags": []
   },
   "source": [
    "From the command line run `pip install mnist`. This is a library that will help you bring down the mnist dataset. If you run this from a notebook, you need to put  `!pip install mnist` in a cell by itself."
   ]
  },
  {
   "cell_type": "code",
   "execution_count": 3,
   "id": "bb6ad8a1",
   "metadata": {
    "execution": {
     "iopub.execute_input": "2021-10-13T20:07:48.648088Z",
     "iopub.status.busy": "2021-10-13T20:07:48.647567Z",
     "iopub.status.idle": "2021-10-13T20:07:50.352468Z",
     "shell.execute_reply": "2021-10-13T20:07:50.351878Z"
    },
    "papermill": {
     "duration": 1.732555,
     "end_time": "2021-10-13T20:07:50.352631",
     "exception": false,
     "start_time": "2021-10-13T20:07:48.620076",
     "status": "completed"
    },
    "tags": []
   },
   "outputs": [
    {
     "name": "stdout",
     "output_type": "stream",
     "text": [
      "Collecting mnist\r\n"
     ]
    },
    {
     "name": "stdout",
     "output_type": "stream",
     "text": [
      "  Downloading mnist-0.2.2-py2.py3-none-any.whl (3.5 kB)\r\n",
      "Requirement already satisfied: numpy in /opt/hostedtoolcache/Python/3.6.15/x64/lib/python3.6/site-packages (from mnist) (1.19.5)\r\n"
     ]
    },
    {
     "name": "stdout",
     "output_type": "stream",
     "text": [
      "Installing collected packages: mnist\r\n"
     ]
    },
    {
     "name": "stdout",
     "output_type": "stream",
     "text": [
      "Successfully installed mnist-0.2.2\r\n"
     ]
    },
    {
     "name": "stdout",
     "output_type": "stream",
     "text": [
      "\u001b[33mWARNING: You are using pip version 21.2.4; however, version 21.3 is available.\r\n",
      "You should consider upgrading via the '/opt/hostedtoolcache/Python/3.6.15/x64/bin/python -m pip install --upgrade pip' command.\u001b[0m\r\n"
     ]
    }
   ],
   "source": [
    "!pip install mnist"
   ]
  },
  {
   "cell_type": "markdown",
   "id": "69df9c9a",
   "metadata": {
    "papermill": {
     "duration": 0.025363,
     "end_time": "2021-10-13T20:07:50.403773",
     "exception": false,
     "start_time": "2021-10-13T20:07:50.378410",
     "status": "completed"
    },
    "tags": []
   },
   "source": [
    "## Preparing the Data"
   ]
  },
  {
   "cell_type": "code",
   "execution_count": 4,
   "id": "7f69d806",
   "metadata": {
    "execution": {
     "iopub.execute_input": "2021-10-13T20:07:50.459249Z",
     "iopub.status.busy": "2021-10-13T20:07:50.458734Z",
     "iopub.status.idle": "2021-10-13T20:07:50.472315Z",
     "shell.execute_reply": "2021-10-13T20:07:50.472708Z"
    },
    "papermill": {
     "duration": 0.043739,
     "end_time": "2021-10-13T20:07:50.472843",
     "exception": false,
     "start_time": "2021-10-13T20:07:50.429104",
     "status": "completed"
    },
    "tags": []
   },
   "outputs": [],
   "source": [
    "import mnist"
   ]
  },
  {
   "cell_type": "code",
   "execution_count": 5,
   "id": "a411e44f",
   "metadata": {
    "execution": {
     "iopub.execute_input": "2021-10-13T20:07:50.527736Z",
     "iopub.status.busy": "2021-10-13T20:07:50.526746Z",
     "iopub.status.idle": "2021-10-13T20:07:51.100444Z",
     "shell.execute_reply": "2021-10-13T20:07:51.099857Z"
    },
    "papermill": {
     "duration": 0.602399,
     "end_time": "2021-10-13T20:07:51.100605",
     "exception": false,
     "start_time": "2021-10-13T20:07:50.498206",
     "status": "completed"
    },
    "tags": []
   },
   "outputs": [],
   "source": [
    "train_images = mnist.train_images()\n",
    "train_labels = mnist.train_labels()"
   ]
  },
  {
   "cell_type": "code",
   "execution_count": 6,
   "id": "dceab3a5",
   "metadata": {
    "execution": {
     "iopub.execute_input": "2021-10-13T20:07:51.155919Z",
     "iopub.status.busy": "2021-10-13T20:07:51.155392Z",
     "iopub.status.idle": "2021-10-13T20:07:51.169851Z",
     "shell.execute_reply": "2021-10-13T20:07:51.169430Z"
    },
    "papermill": {
     "duration": 0.043448,
     "end_time": "2021-10-13T20:07:51.169975",
     "exception": false,
     "start_time": "2021-10-13T20:07:51.126527",
     "status": "completed"
    },
    "tags": []
   },
   "outputs": [
    {
     "data": {
      "text/plain": [
       "((60000, 28, 28), (60000,))"
      ]
     },
     "execution_count": 6,
     "metadata": {},
     "output_type": "execute_result"
    }
   ],
   "source": [
    "train_images.shape, train_labels.shape"
   ]
  },
  {
   "cell_type": "code",
   "execution_count": 7,
   "id": "f50dc2bb",
   "metadata": {
    "execution": {
     "iopub.execute_input": "2021-10-13T20:07:51.224946Z",
     "iopub.status.busy": "2021-10-13T20:07:51.224414Z",
     "iopub.status.idle": "2021-10-13T20:07:51.473684Z",
     "shell.execute_reply": "2021-10-13T20:07:51.474183Z"
    },
    "papermill": {
     "duration": 0.278646,
     "end_time": "2021-10-13T20:07:51.474361",
     "exception": false,
     "start_time": "2021-10-13T20:07:51.195715",
     "status": "completed"
    },
    "tags": []
   },
   "outputs": [],
   "source": [
    "test_images = mnist.test_images()\n",
    "test_labels = mnist.test_labels()"
   ]
  },
  {
   "cell_type": "code",
   "execution_count": 8,
   "id": "fc38cf1b",
   "metadata": {
    "execution": {
     "iopub.execute_input": "2021-10-13T20:07:51.532781Z",
     "iopub.status.busy": "2021-10-13T20:07:51.532247Z",
     "iopub.status.idle": "2021-10-13T20:07:51.543501Z",
     "shell.execute_reply": "2021-10-13T20:07:51.543079Z"
    },
    "papermill": {
     "duration": 0.042668,
     "end_time": "2021-10-13T20:07:51.543621",
     "exception": false,
     "start_time": "2021-10-13T20:07:51.500953",
     "status": "completed"
    },
    "tags": []
   },
   "outputs": [
    {
     "data": {
      "text/plain": [
       "((10000, 28, 28), (10000,))"
      ]
     },
     "execution_count": 8,
     "metadata": {},
     "output_type": "execute_result"
    }
   ],
   "source": [
    "test_images.shape, test_labels.shape"
   ]
  },
  {
   "cell_type": "code",
   "execution_count": 9,
   "id": "f9ed8fe0",
   "metadata": {
    "execution": {
     "iopub.execute_input": "2021-10-13T20:07:51.599077Z",
     "iopub.status.busy": "2021-10-13T20:07:51.598561Z",
     "iopub.status.idle": "2021-10-13T20:07:51.734892Z",
     "shell.execute_reply": "2021-10-13T20:07:51.735313Z"
    },
    "papermill": {
     "duration": 0.165949,
     "end_time": "2021-10-13T20:07:51.735460",
     "exception": false,
     "start_time": "2021-10-13T20:07:51.569511",
     "status": "completed"
    },
    "tags": []
   },
   "outputs": [
    {
     "name": "stdout",
     "output_type": "stream",
     "text": [
      "2\n"
     ]
    },
    {
     "data": {
      "text/plain": [
       "<matplotlib.image.AxesImage at 0x7f4a359aa8d0>"
      ]
     },
     "execution_count": 9,
     "metadata": {},
     "output_type": "execute_result"
    },
    {
     "data": {
      "image/png": "[encoded data removed]",
      "text/plain": [
       "<Figure size 432x288 with 1 Axes>"
      ]
     },
     "metadata": {
      "needs_background": "light"
     },
     "output_type": "display_data"
    }
   ],
   "source": [
    "image_index = 7776 # You may select anything up to 60,000\n",
    "print(train_labels[image_index]) \n",
    "plt.imshow(train_images[image_index], cmap='Greys')"
   ]
  },
  {
   "cell_type": "markdown",
   "id": "a8d2388d",
   "metadata": {
    "papermill": {
     "duration": 0.026864,
     "end_time": "2021-10-13T20:07:51.789631",
     "exception": false,
     "start_time": "2021-10-13T20:07:51.762767",
     "status": "completed"
    },
    "tags": []
   },
   "source": [
    "## Filter data to get 3 and 8 out"
   ]
  },
  {
   "cell_type": "code",
   "execution_count": 10,
   "id": "776f7fc7",
   "metadata": {
    "execution": {
     "iopub.execute_input": "2021-10-13T20:07:51.848808Z",
     "iopub.status.busy": "2021-10-13T20:07:51.848247Z",
     "iopub.status.idle": "2021-10-13T20:07:51.867205Z",
     "shell.execute_reply": "2021-10-13T20:07:51.866761Z"
    },
    "papermill": {
     "duration": 0.050667,
     "end_time": "2021-10-13T20:07:51.867336",
     "exception": false,
     "start_time": "2021-10-13T20:07:51.816669",
     "status": "completed"
    },
    "tags": []
   },
   "outputs": [],
   "source": [
    "train_filter = np.where((train_labels == 3 ) | (train_labels == 8))\n",
    "test_filter = np.where((test_labels == 3) | (test_labels == 8))\n",
    "X_train, y_train = train_images[train_filter], train_labels[train_filter]\n",
    "X_test, y_test = test_images[test_filter], test_labels[test_filter]"
   ]
  },
  {
   "cell_type": "markdown",
   "id": "948f0b7e",
   "metadata": {
    "papermill": {
     "duration": 0.026939,
     "end_time": "2021-10-13T20:07:51.921446",
     "exception": false,
     "start_time": "2021-10-13T20:07:51.894507",
     "status": "completed"
    },
    "tags": []
   },
   "source": [
    "We normalize the pizel values in the 0 to 1 range"
   ]
  },
  {
   "cell_type": "code",
   "execution_count": 11,
   "id": "ee4c2166",
   "metadata": {
    "execution": {
     "iopub.execute_input": "2021-10-13T20:07:51.982362Z",
     "iopub.status.busy": "2021-10-13T20:07:51.981840Z",
     "iopub.status.idle": "2021-10-13T20:07:52.027508Z",
     "shell.execute_reply": "2021-10-13T20:07:52.026996Z"
    },
    "papermill": {
     "duration": 0.079438,
     "end_time": "2021-10-13T20:07:52.027654",
     "exception": false,
     "start_time": "2021-10-13T20:07:51.948216",
     "status": "completed"
    },
    "tags": []
   },
   "outputs": [],
   "source": [
    "X_train = X_train/255.\n",
    "X_test = X_test/255."
   ]
  },
  {
   "cell_type": "markdown",
   "id": "ddcf4fab",
   "metadata": {
    "papermill": {
     "duration": 0.027779,
     "end_time": "2021-10-13T20:07:52.082642",
     "exception": false,
     "start_time": "2021-10-13T20:07:52.054863",
     "status": "completed"
    },
    "tags": []
   },
   "source": [
    "And setup the labels as 1 (when the digit is 3) and 0 (when the digit is 8)"
   ]
  },
  {
   "cell_type": "code",
   "execution_count": 12,
   "id": "7dc908f2",
   "metadata": {
    "execution": {
     "iopub.execute_input": "2021-10-13T20:07:52.140582Z",
     "iopub.status.busy": "2021-10-13T20:07:52.140021Z",
     "iopub.status.idle": "2021-10-13T20:07:52.151560Z",
     "shell.execute_reply": "2021-10-13T20:07:52.151120Z"
    },
    "papermill": {
     "duration": 0.042025,
     "end_time": "2021-10-13T20:07:52.151674",
     "exception": false,
     "start_time": "2021-10-13T20:07:52.109649",
     "status": "completed"
    },
    "tags": []
   },
   "outputs": [],
   "source": [
    "y_train = 1*(y_train==3)\n",
    "y_test = 1*(y_test==3)"
   ]
  },
  {
   "cell_type": "code",
   "execution_count": 13,
   "id": "01e4e969",
   "metadata": {
    "execution": {
     "iopub.execute_input": "2021-10-13T20:07:52.209393Z",
     "iopub.status.busy": "2021-10-13T20:07:52.208882Z",
     "iopub.status.idle": "2021-10-13T20:07:52.221209Z",
     "shell.execute_reply": "2021-10-13T20:07:52.221595Z"
    },
    "papermill": {
     "duration": 0.043112,
     "end_time": "2021-10-13T20:07:52.221726",
     "exception": false,
     "start_time": "2021-10-13T20:07:52.178614",
     "status": "completed"
    },
    "tags": []
   },
   "outputs": [
    {
     "data": {
      "text/plain": [
       "((11982, 28, 28), (1984, 28, 28))"
      ]
     },
     "execution_count": 13,
     "metadata": {},
     "output_type": "execute_result"
    }
   ],
   "source": [
    "X_train.shape, X_test.shape"
   ]
  },
  {
   "cell_type": "markdown",
   "id": "5ccf3f85",
   "metadata": {
    "papermill": {
     "duration": 0.026825,
     "end_time": "2021-10-13T20:07:52.275475",
     "exception": false,
     "start_time": "2021-10-13T20:07:52.248650",
     "status": "completed"
    },
    "tags": []
   },
   "source": [
    "We reshape the data to flatten the image pixels into a set of features or co-variates:"
   ]
  },
  {
   "cell_type": "code",
   "execution_count": 14,
   "id": "5286a4a3",
   "metadata": {
    "execution": {
     "iopub.execute_input": "2021-10-13T20:07:52.333455Z",
     "iopub.status.busy": "2021-10-13T20:07:52.332935Z",
     "iopub.status.idle": "2021-10-13T20:07:52.346861Z",
     "shell.execute_reply": "2021-10-13T20:07:52.346437Z"
    },
    "papermill": {
     "duration": 0.044396,
     "end_time": "2021-10-13T20:07:52.346985",
     "exception": false,
     "start_time": "2021-10-13T20:07:52.302589",
     "status": "completed"
    },
    "tags": []
   },
   "outputs": [
    {
     "data": {
      "text/plain": [
       "((11982, 784), (1984, 784))"
      ]
     },
     "execution_count": 14,
     "metadata": {},
     "output_type": "execute_result"
    }
   ],
   "source": [
    "X_train = X_train.reshape(X_train.shape[0], -1)\n",
    "X_test = X_test.reshape(X_test.shape[0], -1)\n",
    "X_train.shape, X_test.shape"
   ]
  },
  {
   "cell_type": "code",
   "execution_count": 15,
   "id": "73c5f88a",
   "metadata": {
    "execution": {
     "iopub.execute_input": "2021-10-13T20:07:52.406308Z",
     "iopub.status.busy": "2021-10-13T20:07:52.405787Z",
     "iopub.status.idle": "2021-10-13T20:07:52.425370Z",
     "shell.execute_reply": "2021-10-13T20:07:52.424877Z"
    },
    "papermill": {
     "duration": 0.050944,
     "end_time": "2021-10-13T20:07:52.425496",
     "exception": false,
     "start_time": "2021-10-13T20:07:52.374552",
     "status": "completed"
    },
    "tags": []
   },
   "outputs": [],
   "source": [
    "#Impoting functions from 'Kudzu'\n",
    "from kudzu.model import Model\n",
    "from kudzu.train import Learner\n",
    "from kudzu.optim import GD\n",
    "from kudzu.data import Data, Sampler,Dataloader\n",
    "\n",
    "from kudzu.callbacks import AccCallback\n",
    "from kudzu.callbacks import ClfCallback\n",
    "\n",
    "from kudzu.loss import MSE\n",
    "\n",
    "from kudzu.layer import Sigmoid,Relu\n",
    "from kudzu.layer import Affine"
   ]
  },
  {
   "cell_type": "markdown",
   "id": "bc01172a",
   "metadata": {
    "papermill": {
     "duration": 0.027413,
     "end_time": "2021-10-13T20:07:52.481445",
     "exception": false,
     "start_time": "2021-10-13T20:07:52.454032",
     "status": "completed"
    },
    "tags": []
   },
   "source": [
    "### Let us create a `Config` class, to store important parameters. \n",
    "This class essentially plays the role of a dictionary."
   ]
  },
  {
   "cell_type": "code",
   "execution_count": 16,
   "id": "978281aa",
   "metadata": {
    "execution": {
     "iopub.execute_input": "2021-10-13T20:07:52.543154Z",
     "iopub.status.busy": "2021-10-13T20:07:52.542584Z",
     "iopub.status.idle": "2021-10-13T20:07:52.554042Z",
     "shell.execute_reply": "2021-10-13T20:07:52.553619Z"
    },
    "papermill": {
     "duration": 0.045286,
     "end_time": "2021-10-13T20:07:52.554168",
     "exception": false,
     "start_time": "2021-10-13T20:07:52.508882",
     "status": "completed"
    },
    "tags": []
   },
   "outputs": [],
   "source": [
    "class Config:\n",
    "    pass\n",
    "config = Config()\n",
    "config.lr = 0.001\n",
    "config.num_epochs = 250\n",
    "config.bs = 50"
   ]
  },
  {
   "cell_type": "markdown",
   "id": "1385fa59",
   "metadata": {
    "papermill": {
     "duration": 0.027456,
     "end_time": "2021-10-13T20:07:52.609368",
     "exception": false,
     "start_time": "2021-10-13T20:07:52.581912",
     "status": "completed"
    },
    "tags": []
   },
   "source": [
    "### Running Models with the Training data\n",
    "Details about the network layers:\n",
    "- A first affine layer has 784 inputs and does 100 affine transforms. These are followed by a Relu\n",
    "- A second affine layer has 100 inputs from the 100 activations of the past layer, and does 100 affine transforms. These are followed by a Relu\n",
    "- A third affine layer has 100 activations and does 2 affine transformations to create an embedding for visualization. There is no non-linearity here.\n",
    "- A final \"logistic regression\" which has an affine transform from 2 inputs to 1 output, which is squeezed through a sigmoid.\n"
   ]
  },
  {
   "cell_type": "code",
   "execution_count": 17,
   "id": "2b9c66db",
   "metadata": {
    "execution": {
     "iopub.execute_input": "2021-10-13T20:07:52.670056Z",
     "iopub.status.busy": "2021-10-13T20:07:52.669531Z",
     "iopub.status.idle": "2021-10-13T20:07:52.680667Z",
     "shell.execute_reply": "2021-10-13T20:07:52.680237Z"
    },
    "papermill": {
     "duration": 0.04408,
     "end_time": "2021-10-13T20:07:52.680789",
     "exception": false,
     "start_time": "2021-10-13T20:07:52.636709",
     "status": "completed"
    },
    "tags": []
   },
   "outputs": [],
   "source": [
    "data = Data(X_train, y_train.reshape(-1,1))\n",
    "sampler = Sampler(data, config.bs, shuffle=True)\n",
    "\n",
    "dl = Dataloader(data, sampler)\n",
    "\n",
    "opt = GD(config.lr)\n",
    "loss = MSE()"
   ]
  },
  {
   "cell_type": "code",
   "execution_count": 18,
   "id": "b275e4c2",
   "metadata": {
    "execution": {
     "iopub.execute_input": "2021-10-13T20:07:52.742992Z",
     "iopub.status.busy": "2021-10-13T20:07:52.742458Z",
     "iopub.status.idle": "2021-10-13T20:07:52.751580Z",
     "shell.execute_reply": "2021-10-13T20:07:52.752016Z"
    },
    "papermill": {
     "duration": 0.043996,
     "end_time": "2021-10-13T20:07:52.752146",
     "exception": false,
     "start_time": "2021-10-13T20:07:52.708150",
     "status": "completed"
    },
    "tags": []
   },
   "outputs": [],
   "source": [
    "training_data_x = X_train\n",
    "testing_data_x = X_test\n",
    "training_data_y = y_train.reshape(-1,1)\n",
    "testing_data_y = y_test.reshape(-1,1)"
   ]
  },
  {
   "cell_type": "code",
   "execution_count": 19,
   "id": "76951160",
   "metadata": {
    "execution": {
     "iopub.execute_input": "2021-10-13T20:07:52.811357Z",
     "iopub.status.busy": "2021-10-13T20:07:52.810822Z",
     "iopub.status.idle": "2021-10-13T20:07:52.825915Z",
     "shell.execute_reply": "2021-10-13T20:07:52.826355Z"
    },
    "papermill": {
     "duration": 0.047095,
     "end_time": "2021-10-13T20:07:52.826487",
     "exception": false,
     "start_time": "2021-10-13T20:07:52.779392",
     "status": "completed"
    },
    "tags": []
   },
   "outputs": [
    {
     "name": "stdout",
     "output_type": "stream",
     "text": [
      "xavier\n",
      "xavier\n",
      "xavier\n",
      "xavier\n",
      "xavier\n"
     ]
    }
   ],
   "source": [
    "layers = [Affine(\"first\", 784, 100), Relu(\"first\"), Affine(\"second\", 100, 100), Relu(\"second\"), Affine(\"third\", 100, 2), Affine(\"last\", 2, 1), Sigmoid(\"last\")]\n",
    "model_nn = Model(layers)\n",
    "model_lr = Model([Affine(\"logits\", 784, 1), Sigmoid(\"sigmoid\")])"
   ]
  },
  {
   "cell_type": "code",
   "execution_count": 20,
   "id": "6eede77a",
   "metadata": {
    "execution": {
     "iopub.execute_input": "2021-10-13T20:07:52.887997Z",
     "iopub.status.busy": "2021-10-13T20:07:52.887475Z",
     "iopub.status.idle": "2021-10-13T20:07:52.898750Z",
     "shell.execute_reply": "2021-10-13T20:07:52.899158Z"
    },
    "papermill": {
     "duration": 0.044952,
     "end_time": "2021-10-13T20:07:52.899293",
     "exception": false,
     "start_time": "2021-10-13T20:07:52.854341",
     "status": "completed"
    },
    "tags": []
   },
   "outputs": [],
   "source": [
    "nn_learner = Learner(loss, model_nn, opt, config.num_epochs)\n",
    "acc_nn = ClfCallback(nn_learner, config.bs, training_data_x , testing_data_x, training_data_y, testing_data_y)\n",
    "nn_learner.set_callbacks([acc_nn])"
   ]
  },
  {
   "cell_type": "code",
   "execution_count": 21,
   "id": "877b6cc7",
   "metadata": {
    "execution": {
     "iopub.execute_input": "2021-10-13T20:07:52.958545Z",
     "iopub.status.busy": "2021-10-13T20:07:52.958029Z",
     "iopub.status.idle": "2021-10-13T20:07:52.970638Z",
     "shell.execute_reply": "2021-10-13T20:07:52.970222Z"
    },
    "papermill": {
     "duration": 0.043987,
     "end_time": "2021-10-13T20:07:52.970763",
     "exception": false,
     "start_time": "2021-10-13T20:07:52.926776",
     "status": "completed"
    },
    "tags": []
   },
   "outputs": [],
   "source": [
    "lr_learner = Learner(loss, model_lr, opt, config.num_epochs)\n",
    "acc_lr = ClfCallback(lr_learner, config.bs, training_data_x , testing_data_x, training_data_y, testing_data_y)\n",
    "lr_learner.set_callbacks([acc_lr])"
   ]
  },
  {
   "cell_type": "code",
   "execution_count": 22,
   "id": "d9b133c3",
   "metadata": {
    "execution": {
     "iopub.execute_input": "2021-10-13T20:07:53.040902Z",
     "iopub.status.busy": "2021-10-13T20:07:53.037972Z",
     "iopub.status.idle": "2021-10-13T20:09:09.229029Z",
     "shell.execute_reply": "2021-10-13T20:09:09.229811Z"
    },
    "papermill": {
     "duration": 76.231355,
     "end_time": "2021-10-13T20:09:09.229973",
     "exception": false,
     "start_time": "2021-10-13T20:07:52.998618",
     "status": "completed"
    },
    "tags": []
   },
   "outputs": [
    {
     "name": "stdout",
     "output_type": "stream",
     "text": [
      "Epoch 0, Loss 0.246\n",
      "Training Accuracy: 0.6176, Testing Accuracy: 0.6391\n",
      "\n"
     ]
    },
    {
     "name": "stdout",
     "output_type": "stream",
     "text": [
      "Epoch 10, Loss 0.1547\n",
      "Training Accuracy: 0.8963, Testing Accuracy: 0.9098\n",
      "\n"
     ]
    },
    {
     "name": "stdout",
     "output_type": "stream",
     "text": [
      "Epoch 20, Loss 0.0791\n",
      "Training Accuracy: 0.9230, Testing Accuracy: 0.9370\n",
      "\n"
     ]
    },
    {
     "name": "stdout",
     "output_type": "stream",
     "text": [
      "Epoch 30, Loss 0.0553\n",
      "Training Accuracy: 0.9423, Testing Accuracy: 0.9511\n",
      "\n"
     ]
    },
    {
     "name": "stdout",
     "output_type": "stream",
     "text": [
      "Epoch 40, Loss 0.0449\n",
      "Training Accuracy: 0.9517, Testing Accuracy: 0.9602\n",
      "\n"
     ]
    },
    {
     "name": "stdout",
     "output_type": "stream",
     "text": [
      "Epoch 50, Loss 0.0392\n",
      "Training Accuracy: 0.9559, Testing Accuracy: 0.9647\n",
      "\n"
     ]
    },
    {
     "name": "stdout",
     "output_type": "stream",
     "text": [
      "Epoch 60, Loss 0.0356\n",
      "Training Accuracy: 0.9596, Testing Accuracy: 0.9657\n",
      "\n"
     ]
    },
    {
     "name": "stdout",
     "output_type": "stream",
     "text": [
      "Epoch 70, Loss 0.033\n",
      "Training Accuracy: 0.9625, Testing Accuracy: 0.9677\n",
      "\n"
     ]
    },
    {
     "name": "stdout",
     "output_type": "stream",
     "text": [
      "Epoch 80, Loss 0.0311\n",
      "Training Accuracy: 0.9640, Testing Accuracy: 0.9688\n",
      "\n"
     ]
    },
    {
     "name": "stdout",
     "output_type": "stream",
     "text": [
      "Epoch 90, Loss 0.0295\n",
      "Training Accuracy: 0.9659, Testing Accuracy: 0.9698\n",
      "\n"
     ]
    },
    {
     "name": "stdout",
     "output_type": "stream",
     "text": [
      "Epoch 100, Loss 0.0283\n",
      "Training Accuracy: 0.9670, Testing Accuracy: 0.9718\n",
      "\n"
     ]
    },
    {
     "name": "stdout",
     "output_type": "stream",
     "text": [
      "Epoch 110, Loss 0.0272\n",
      "Training Accuracy: 0.9684, Testing Accuracy: 0.9718\n",
      "\n"
     ]
    },
    {
     "name": "stdout",
     "output_type": "stream",
     "text": [
      "Epoch 120, Loss 0.0263\n",
      "Training Accuracy: 0.9693, Testing Accuracy: 0.9718\n",
      "\n"
     ]
    },
    {
     "name": "stdout",
     "output_type": "stream",
     "text": [
      "Epoch 130, Loss 0.0254\n",
      "Training Accuracy: 0.9701, Testing Accuracy: 0.9718\n",
      "\n"
     ]
    },
    {
     "name": "stdout",
     "output_type": "stream",
     "text": [
      "Epoch 140, Loss 0.0247\n",
      "Training Accuracy: 0.9710, Testing Accuracy: 0.9728\n",
      "\n"
     ]
    },
    {
     "name": "stdout",
     "output_type": "stream",
     "text": [
      "Epoch 150, Loss 0.024\n",
      "Training Accuracy: 0.9720, Testing Accuracy: 0.9723\n",
      "\n"
     ]
    },
    {
     "name": "stdout",
     "output_type": "stream",
     "text": [
      "Epoch 160, Loss 0.0234\n",
      "Training Accuracy: 0.9730, Testing Accuracy: 0.9723\n",
      "\n"
     ]
    },
    {
     "name": "stdout",
     "output_type": "stream",
     "text": [
      "Epoch 170, Loss 0.0229\n",
      "Training Accuracy: 0.9733, Testing Accuracy: 0.9728\n",
      "\n"
     ]
    },
    {
     "name": "stdout",
     "output_type": "stream",
     "text": [
      "Epoch 180, Loss 0.0224\n",
      "Training Accuracy: 0.9743, Testing Accuracy: 0.9728\n",
      "\n"
     ]
    },
    {
     "name": "stdout",
     "output_type": "stream",
     "text": [
      "Epoch 190, Loss 0.0219\n",
      "Training Accuracy: 0.9746, Testing Accuracy: 0.9723\n",
      "\n"
     ]
    },
    {
     "name": "stdout",
     "output_type": "stream",
     "text": [
      "Epoch 200, Loss 0.0214\n",
      "Training Accuracy: 0.9751, Testing Accuracy: 0.9733\n",
      "\n"
     ]
    },
    {
     "name": "stdout",
     "output_type": "stream",
     "text": [
      "Epoch 210, Loss 0.0209\n",
      "Training Accuracy: 0.9755, Testing Accuracy: 0.9738\n",
      "\n"
     ]
    },
    {
     "name": "stdout",
     "output_type": "stream",
     "text": [
      "Epoch 220, Loss 0.0206\n",
      "Training Accuracy: 0.9767, Testing Accuracy: 0.9738\n",
      "\n"
     ]
    },
    {
     "name": "stdout",
     "output_type": "stream",
     "text": [
      "Epoch 230, Loss 0.0202\n",
      "Training Accuracy: 0.9770, Testing Accuracy: 0.9738\n",
      "\n"
     ]
    },
    {
     "name": "stdout",
     "output_type": "stream",
     "text": [
      "Epoch 240, Loss 0.0198\n",
      "Training Accuracy: 0.9776, Testing Accuracy: 0.9738\n",
      "\n"
     ]
    },
    {
     "data": {
      "text/plain": [
       "0.007609297710734619"
      ]
     },
     "execution_count": 22,
     "metadata": {},
     "output_type": "execute_result"
    }
   ],
   "source": [
    "nn_learner.train_loop(dl)"
   ]
  },
  {
   "cell_type": "code",
   "execution_count": 23,
   "id": "e0163366",
   "metadata": {
    "execution": {
     "iopub.execute_input": "2021-10-13T20:09:09.319052Z",
     "iopub.status.busy": "2021-10-13T20:09:09.318518Z",
     "iopub.status.idle": "2021-10-13T20:09:23.192877Z",
     "shell.execute_reply": "2021-10-13T20:09:23.193615Z"
    },
    "papermill": {
     "duration": 13.926542,
     "end_time": "2021-10-13T20:09:23.193770",
     "exception": false,
     "start_time": "2021-10-13T20:09:09.267228",
     "status": "completed"
    },
    "tags": []
   },
   "outputs": [
    {
     "name": "stdout",
     "output_type": "stream",
     "text": [
      "Epoch 0, Loss 0.189\n",
      "Training Accuracy: 0.8493, Testing Accuracy: 0.8513\n",
      "\n"
     ]
    },
    {
     "name": "stdout",
     "output_type": "stream",
     "text": [
      "Epoch 10, Loss 0.0948\n",
      "Training Accuracy: 0.9243, Testing Accuracy: 0.9360\n",
      "\n"
     ]
    },
    {
     "name": "stdout",
     "output_type": "stream",
     "text": [
      "Epoch 20, Loss 0.0751\n",
      "Training Accuracy: 0.9347, Testing Accuracy: 0.9481\n",
      "\n"
     ]
    },
    {
     "name": "stdout",
     "output_type": "stream",
     "text": [
      "Epoch 30, Loss 0.0655\n",
      "Training Accuracy: 0.9402, Testing Accuracy: 0.9521\n",
      "\n"
     ]
    },
    {
     "name": "stdout",
     "output_type": "stream",
     "text": [
      "Epoch 40, Loss 0.0596\n",
      "Training Accuracy: 0.9444, Testing Accuracy: 0.9561\n",
      "\n"
     ]
    },
    {
     "name": "stdout",
     "output_type": "stream",
     "text": [
      "Epoch 50, Loss 0.0555\n",
      "Training Accuracy: 0.9482, Testing Accuracy: 0.9577\n",
      "\n"
     ]
    },
    {
     "name": "stdout",
     "output_type": "stream",
     "text": [
      "Epoch 60, Loss 0.0525\n",
      "Training Accuracy: 0.9507, Testing Accuracy: 0.9587\n",
      "\n"
     ]
    },
    {
     "name": "stdout",
     "output_type": "stream",
     "text": [
      "Epoch 70, Loss 0.0501\n",
      "Training Accuracy: 0.9519, Testing Accuracy: 0.9607\n",
      "\n"
     ]
    },
    {
     "name": "stdout",
     "output_type": "stream",
     "text": [
      "Epoch 80, Loss 0.0482\n",
      "Training Accuracy: 0.9523, Testing Accuracy: 0.9607\n",
      "\n"
     ]
    },
    {
     "name": "stdout",
     "output_type": "stream",
     "text": [
      "Epoch 90, Loss 0.0466\n",
      "Training Accuracy: 0.9530, Testing Accuracy: 0.9632\n",
      "\n"
     ]
    },
    {
     "name": "stdout",
     "output_type": "stream",
     "text": [
      "Epoch 100, Loss 0.0453\n",
      "Training Accuracy: 0.9542, Testing Accuracy: 0.9647\n",
      "\n"
     ]
    },
    {
     "name": "stdout",
     "output_type": "stream",
     "text": [
      "Epoch 110, Loss 0.0441\n",
      "Training Accuracy: 0.9551, Testing Accuracy: 0.9657\n",
      "\n"
     ]
    },
    {
     "name": "stdout",
     "output_type": "stream",
     "text": [
      "Epoch 120, Loss 0.0431\n",
      "Training Accuracy: 0.9555, Testing Accuracy: 0.9657\n",
      "\n"
     ]
    },
    {
     "name": "stdout",
     "output_type": "stream",
     "text": [
      "Epoch 130, Loss 0.0423\n",
      "Training Accuracy: 0.9560, Testing Accuracy: 0.9657\n",
      "\n"
     ]
    },
    {
     "name": "stdout",
     "output_type": "stream",
     "text": [
      "Epoch 140, Loss 0.0415\n",
      "Training Accuracy: 0.9568, Testing Accuracy: 0.9667\n",
      "\n"
     ]
    },
    {
     "name": "stdout",
     "output_type": "stream",
     "text": [
      "Epoch 150, Loss 0.0408\n",
      "Training Accuracy: 0.9573, Testing Accuracy: 0.9667\n",
      "\n"
     ]
    },
    {
     "name": "stdout",
     "output_type": "stream",
     "text": [
      "Epoch 160, Loss 0.0401\n",
      "Training Accuracy: 0.9577, Testing Accuracy: 0.9672\n",
      "\n"
     ]
    },
    {
     "name": "stdout",
     "output_type": "stream",
     "text": [
      "Epoch 170, Loss 0.0395\n",
      "Training Accuracy: 0.9586, Testing Accuracy: 0.9677\n",
      "\n"
     ]
    },
    {
     "name": "stdout",
     "output_type": "stream",
     "text": [
      "Epoch 180, Loss 0.039\n",
      "Training Accuracy: 0.9590, Testing Accuracy: 0.9682\n",
      "\n"
     ]
    },
    {
     "name": "stdout",
     "output_type": "stream",
     "text": [
      "Epoch 190, Loss 0.0385\n",
      "Training Accuracy: 0.9594, Testing Accuracy: 0.9688\n",
      "\n"
     ]
    },
    {
     "name": "stdout",
     "output_type": "stream",
     "text": [
      "Epoch 200, Loss 0.0381\n",
      "Training Accuracy: 0.9598, Testing Accuracy: 0.9693\n",
      "\n"
     ]
    },
    {
     "name": "stdout",
     "output_type": "stream",
     "text": [
      "Epoch 210, Loss 0.0376\n",
      "Training Accuracy: 0.9603, Testing Accuracy: 0.9693\n",
      "\n"
     ]
    },
    {
     "name": "stdout",
     "output_type": "stream",
     "text": [
      "Epoch 220, Loss 0.0372\n",
      "Training Accuracy: 0.9607, Testing Accuracy: 0.9693\n",
      "\n"
     ]
    },
    {
     "name": "stdout",
     "output_type": "stream",
     "text": [
      "Epoch 230, Loss 0.0369\n",
      "Training Accuracy: 0.9611, Testing Accuracy: 0.9693\n",
      "\n"
     ]
    },
    {
     "name": "stdout",
     "output_type": "stream",
     "text": [
      "Epoch 240, Loss 0.0365\n",
      "Training Accuracy: 0.9617, Testing Accuracy: 0.9698\n",
      "\n"
     ]
    },
    {
     "data": {
      "text/plain": [
       "0.03569236384301604"
      ]
     },
     "execution_count": 23,
     "metadata": {},
     "output_type": "execute_result"
    }
   ],
   "source": [
    "lr_learner.train_loop(dl)"
   ]
  },
  {
   "cell_type": "code",
   "execution_count": 24,
   "id": "ca410940",
   "metadata": {
    "execution": {
     "iopub.execute_input": "2021-10-13T20:09:23.286151Z",
     "iopub.status.busy": "2021-10-13T20:09:23.285600Z",
     "iopub.status.idle": "2021-10-13T20:09:23.520945Z",
     "shell.execute_reply": "2021-10-13T20:09:23.521351Z"
    },
    "papermill": {
     "duration": 0.285801,
     "end_time": "2021-10-13T20:09:23.521503",
     "exception": false,
     "start_time": "2021-10-13T20:09:23.235702",
     "status": "completed"
    },
    "tags": []
   },
   "outputs": [
    {
     "data": {
      "text/plain": [
       "<matplotlib.legend.Legend at 0x7f4a3550d908>"
      ]
     },
     "execution_count": 24,
     "metadata": {},
     "output_type": "execute_result"
    },
    {
     "data": {
      "image/png": "[encoded data removed]",
      "text/plain": [
       "<Figure size 1080x720 with 1 Axes>"
      ]
     },
     "metadata": {
      "needs_background": "light"
     },
     "output_type": "display_data"
    }
   ],
   "source": [
    "#comparing the results of NN and LR\n",
    "plt.figure(figsize=(15,10))\n",
    "\n",
    "# Neural Network plots\n",
    "plt.plot(acc_nn.accuracies, 'r-', label = \"Training Accuracies - NN\")\n",
    "plt.plot(acc_nn.test_accuracies, 'g-', label = \"Testing Accuracies - NN\")\n",
    "\n",
    "# Logistic Regression plots\n",
    "plt.plot(acc_lr.accuracies, 'k-', label = \"Training Accuracies - LR\")\n",
    "plt.plot(acc_lr.test_accuracies, 'b-', label = \"Testing Accuracies - LR\")\n",
    "plt.legend()"
   ]
  },
  {
   "cell_type": "markdown",
   "id": "80dfb35c",
   "metadata": {
    "papermill": {
     "duration": 0.042691,
     "end_time": "2021-10-13T20:09:23.607104",
     "exception": false,
     "start_time": "2021-10-13T20:09:23.564413",
     "status": "completed"
    },
    "tags": []
   },
   "source": [
    "#### Plotting the outputs of this layer of the NN.\n"
   ]
  },
  {
   "cell_type": "code",
   "execution_count": 25,
   "id": "45eb2ff5",
   "metadata": {
    "execution": {
     "iopub.execute_input": "2021-10-13T20:09:23.699232Z",
     "iopub.status.busy": "2021-10-13T20:09:23.695896Z",
     "iopub.status.idle": "2021-10-13T20:09:23.717239Z",
     "shell.execute_reply": "2021-10-13T20:09:23.717660Z"
    },
    "papermill": {
     "duration": 0.067936,
     "end_time": "2021-10-13T20:09:23.717799",
     "exception": false,
     "start_time": "2021-10-13T20:09:23.649863",
     "status": "completed"
    },
    "tags": []
   },
   "outputs": [],
   "source": [
    "new_model = Model(layers[:-2])\n",
    "testing_plot = new_model(testing_data_x)"
   ]
  },
  {
   "cell_type": "code",
   "execution_count": 26,
   "id": "4c0a5485",
   "metadata": {
    "execution": {
     "iopub.execute_input": "2021-10-13T20:09:23.818752Z",
     "iopub.status.busy": "2021-10-13T20:09:23.818230Z",
     "iopub.status.idle": "2021-10-13T20:09:24.029953Z",
     "shell.execute_reply": "2021-10-13T20:09:24.029483Z"
    },
    "papermill": {
     "duration": 0.260948,
     "end_time": "2021-10-13T20:09:24.030076",
     "exception": false,
     "start_time": "2021-10-13T20:09:23.769128",
     "status": "completed"
    },
    "tags": []
   },
   "outputs": [
    {
     "data": {
      "text/plain": [
       "Text(0.5, 1.0, 'Outputs')"
      ]
     },
     "execution_count": 26,
     "metadata": {},
     "output_type": "execute_result"
    },
    {
     "data": {
      "image/png": "[encoded data removed]",
      "text/plain": [
       "<Figure size 576x504 with 1 Axes>"
      ]
     },
     "metadata": {
      "needs_background": "light"
     },
     "output_type": "display_data"
    }
   ],
   "source": [
    "# Plotting the scatter plot of points and color coding by class\n",
    "plt.figure(figsize=(8,7))\n",
    "plt.scatter(testing_plot[:,0], testing_plot[:,1], alpha = 0.1, c = y_test.ravel());\n",
    "plt.title('Outputs')"
   ]
  },
  {
   "cell_type": "markdown",
   "id": "a74fcf8f",
   "metadata": {
    "papermill": {
     "duration": 0.045165,
     "end_time": "2021-10-13T20:09:24.119973",
     "exception": false,
     "start_time": "2021-10-13T20:09:24.074808",
     "status": "completed"
    },
    "tags": []
   },
   "source": [
    "Probability contours"
   ]
  },
  {
   "cell_type": "code",
   "execution_count": 27,
   "id": "d0afc8e3",
   "metadata": {
    "execution": {
     "iopub.execute_input": "2021-10-13T20:09:24.217545Z",
     "iopub.status.busy": "2021-10-13T20:09:24.216950Z",
     "iopub.status.idle": "2021-10-13T20:09:24.224524Z",
     "shell.execute_reply": "2021-10-13T20:09:24.224070Z"
    },
    "papermill": {
     "duration": 0.059775,
     "end_time": "2021-10-13T20:09:24.224647",
     "exception": false,
     "start_time": "2021-10-13T20:09:24.164872",
     "status": "completed"
    },
    "tags": []
   },
   "outputs": [],
   "source": [
    "model_prob = Model(layers[-2:]) "
   ]
  },
  {
   "cell_type": "code",
   "execution_count": 28,
   "id": "9b96e238",
   "metadata": {
    "execution": {
     "iopub.execute_input": "2021-10-13T20:09:24.352953Z",
     "iopub.status.busy": "2021-10-13T20:09:24.352416Z",
     "iopub.status.idle": "2021-10-13T20:09:24.364646Z",
     "shell.execute_reply": "2021-10-13T20:09:24.365065Z"
    },
    "papermill": {
     "duration": 0.095911,
     "end_time": "2021-10-13T20:09:24.365193",
     "exception": false,
     "start_time": "2021-10-13T20:09:24.269282",
     "status": "completed"
    },
    "tags": []
   },
   "outputs": [],
   "source": [
    "#creating the x and y ranges according to the above generated plot.\n",
    "x_range = np.linspace(-4, 1, 100) \n",
    "y_range = np.linspace(-6, 6, 100) \n",
    "x_grid, y_grid = np.meshgrid(x_range, y_range) # x_grid and y_grig are of size 100 X 100\n",
    "\n",
    "# converting x_grid and y_grid to continuous arrays\n",
    "x_gridflat = np.ravel(x_grid)\n",
    "y_gridflat = np.ravel(y_grid)\n",
    "\n",
    "# The last layer of the current model takes two columns as input. Hence transpose of np.vstack() is required.\n",
    "X = np.vstack((x_gridflat, y_gridflat)).T\n",
    "\n",
    "prob_contour = model_prob(X).reshape(100,100) "
   ]
  },
  {
   "cell_type": "code",
   "execution_count": 29,
   "id": "da72499a",
   "metadata": {
    "execution": {
     "iopub.execute_input": "2021-10-13T20:09:24.473406Z",
     "iopub.status.busy": "2021-10-13T20:09:24.472893Z",
     "iopub.status.idle": "2021-10-13T20:09:24.707342Z",
     "shell.execute_reply": "2021-10-13T20:09:24.707746Z"
    },
    "papermill": {
     "duration": 0.293419,
     "end_time": "2021-10-13T20:09:24.707897",
     "exception": false,
     "start_time": "2021-10-13T20:09:24.414478",
     "status": "completed"
    },
    "tags": []
   },
   "outputs": [
    {
     "data": {
      "image/png": "[encoded data removed]",
      "text/plain": [
       "<Figure size 720x648 with 1 Axes>"
      ]
     },
     "metadata": {
      "needs_background": "light"
     },
     "output_type": "display_data"
    }
   ],
   "source": [
    "plt.figure(figsize=(10,9))\n",
    "plt.scatter(testing_plot[:,0], testing_plot[:,1], alpha = 0.1, c = y_test.ravel())\n",
    "contours = plt.contour(x_grid,y_grid,prob_contour)\n",
    "plt.title('Probability Contours')\n",
    "plt.clabel(contours, inline = True );"
   ]
  },
  {
   "cell_type": "code",
   "execution_count": null,
   "id": "e81b4ac7",
   "metadata": {
    "papermill": {
     "duration": 0.047379,
     "end_time": "2021-10-13T20:09:24.803258",
     "exception": false,
     "start_time": "2021-10-13T20:09:24.755879",
     "status": "completed"
    },
    "tags": []
   },
   "outputs": [],
   "source": []
  }
 ],
 "metadata": {
  "kernelspec": {
   "display_name": "Python 3",
   "language": "python",
   "name": "python3"
  },
  "language_info": {
   "codemirror_mode": {
    "name": "ipython",
    "version": 3
   },
   "file_extension": ".py",
   "mimetype": "text/x-python",
   "name": "python",
   "nbconvert_exporter": "python",
   "pygments_lexer": "ipython3",
   "version": "3.6.15"
  },
  "papermill": {
   "default_parameters": {},
   "duration": 98.469476,
   "end_time": "2021-10-13T20:09:25.258109",
   "environment_variables": {},
   "exception": null,
   "input_path": "2020-08-11-part2.ipynb",
   "output_path": "2020-08-11-part2.ipynb",
   "parameters": {},
   "start_time": "2021-10-13T20:07:46.788633",
   "version": "2.3.3"
  }
 },
 "nbformat": 4,
 "nbformat_minor": 5
}