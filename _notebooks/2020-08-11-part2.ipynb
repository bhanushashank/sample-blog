{
 "cells": [
  {
   "cell_type": "markdown",
   "id": "98380cd3",
   "metadata": {
    "papermill": {
     "duration": 0.033134,
     "end_time": "2021-12-16T10:07:41.750281",
     "exception": false,
     "start_time": "2021-12-16T10:07:41.717147",
     "status": "completed"
    },
    "tags": []
   },
   "source": [
    "# Distinguish Your Own Digits (DYOD)"
   ]
  },
  {
   "cell_type": "markdown",
   "id": "ef31240d",
   "metadata": {
    "papermill": {
     "duration": 0.024441,
     "end_time": "2021-12-16T10:07:41.801481",
     "exception": false,
     "start_time": "2021-12-16T10:07:41.777040",
     "status": "completed"
    },
    "tags": []
   },
   "source": [
    "You are going to write a classifier that distinguishes between the number 3 and number 8."
   ]
  },
  {
   "cell_type": "code",
   "execution_count": 1,
   "id": "b15c8646",
   "metadata": {
    "execution": {
     "iopub.execute_input": "2021-12-16T10:07:41.864191Z",
     "iopub.status.busy": "2021-12-16T10:07:41.863585Z",
     "iopub.status.idle": "2021-12-16T10:07:41.876364Z",
     "shell.execute_reply": "2021-12-16T10:07:41.875762Z"
    },
    "papermill": {
     "duration": 0.050223,
     "end_time": "2021-12-16T10:07:41.876527",
     "exception": false,
     "start_time": "2021-12-16T10:07:41.826304",
     "status": "completed"
    },
    "tags": []
   },
   "outputs": [],
   "source": [
    "%load_ext autoreload\n",
    "%autoreload 2"
   ]
  },
  {
   "cell_type": "code",
   "execution_count": 2,
   "id": "22ef38dc",
   "metadata": {
    "execution": {
     "iopub.execute_input": "2021-12-16T10:07:41.935740Z",
     "iopub.status.busy": "2021-12-16T10:07:41.935178Z",
     "iopub.status.idle": "2021-12-16T10:07:42.557124Z",
     "shell.execute_reply": "2021-12-16T10:07:42.557876Z"
    },
    "papermill": {
     "duration": 0.655159,
     "end_time": "2021-12-16T10:07:42.558103",
     "exception": false,
     "start_time": "2021-12-16T10:07:41.902944",
     "status": "completed"
    },
    "tags": []
   },
   "outputs": [],
   "source": [
    "%matplotlib inline\n",
    "import numpy as np\n",
    "import matplotlib.pyplot as plt\n",
    "import pandas as pd"
   ]
  },
  {
   "cell_type": "markdown",
   "id": "ba036198",
   "metadata": {
    "papermill": {
     "duration": 0.027572,
     "end_time": "2021-12-16T10:07:42.616067",
     "exception": false,
     "start_time": "2021-12-16T10:07:42.588495",
     "status": "completed"
    },
    "tags": []
   },
   "source": [
    "From the command line run `pip install mnist`. This is a library that will help you bring down the mnist dataset. If you run this from a notebook, you need to put  `!pip install mnist` in a cell by itself."
   ]
  },
  {
   "cell_type": "code",
   "execution_count": 3,
   "id": "bb6ad8a1",
   "metadata": {
    "execution": {
     "iopub.execute_input": "2021-12-16T10:07:42.676367Z",
     "iopub.status.busy": "2021-12-16T10:07:42.675761Z",
     "iopub.status.idle": "2021-12-16T10:07:45.339435Z",
     "shell.execute_reply": "2021-12-16T10:07:45.338302Z"
    },
    "papermill": {
     "duration": 2.697688,
     "end_time": "2021-12-16T10:07:45.339660",
     "exception": false,
     "start_time": "2021-12-16T10:07:42.641972",
     "status": "completed"
    },
    "tags": []
   },
   "outputs": [
    {
     "name": "stdout",
     "output_type": "stream",
     "text": [
      "Collecting mnist\r\n"
     ]
    },
    {
     "name": "stdout",
     "output_type": "stream",
     "text": [
      "  Downloading mnist-0.2.2-py2.py3-none-any.whl (3.5 kB)\r\n",
      "Requirement already satisfied: numpy in /opt/hostedtoolcache/Python/3.6.15/x64/lib/python3.6/site-packages (from mnist) (1.19.5)\r\n"
     ]
    },
    {
     "name": "stdout",
     "output_type": "stream",
     "text": [
      "Installing collected packages: mnist\r\n"
     ]
    },
    {
     "name": "stdout",
     "output_type": "stream",
     "text": [
      "Successfully installed mnist-0.2.2\r\n"
     ]
    }
   ],
   "source": [
    "!pip install mnist"
   ]
  },
  {
   "cell_type": "markdown",
   "id": "69df9c9a",
   "metadata": {
    "papermill": {
     "duration": 0.027329,
     "end_time": "2021-12-16T10:07:45.394971",
     "exception": false,
     "start_time": "2021-12-16T10:07:45.367642",
     "status": "completed"
    },
    "tags": []
   },
   "source": [
    "## Preparing the Data"
   ]
  },
  {
   "cell_type": "code",
   "execution_count": 4,
   "id": "7f69d806",
   "metadata": {
    "execution": {
     "iopub.execute_input": "2021-12-16T10:07:45.469022Z",
     "iopub.status.busy": "2021-12-16T10:07:45.461727Z",
     "iopub.status.idle": "2021-12-16T10:07:45.477012Z",
     "shell.execute_reply": "2021-12-16T10:07:45.477469Z"
    },
    "papermill": {
     "duration": 0.053614,
     "end_time": "2021-12-16T10:07:45.477614",
     "exception": false,
     "start_time": "2021-12-16T10:07:45.424000",
     "status": "completed"
    },
    "tags": []
   },
   "outputs": [],
   "source": [
    "import mnist"
   ]
  },
  {
   "cell_type": "code",
   "execution_count": 5,
   "id": "a411e44f",
   "metadata": {
    "execution": {
     "iopub.execute_input": "2021-12-16T10:07:45.539706Z",
     "iopub.status.busy": "2021-12-16T10:07:45.539118Z",
     "iopub.status.idle": "2021-12-16T10:07:46.088579Z",
     "shell.execute_reply": "2021-12-16T10:07:46.087977Z"
    },
    "papermill": {
     "duration": 0.582899,
     "end_time": "2021-12-16T10:07:46.088733",
     "exception": false,
     "start_time": "2021-12-16T10:07:45.505834",
     "status": "completed"
    },
    "tags": []
   },
   "outputs": [],
   "source": [
    "train_images = mnist.train_images()\n",
    "train_labels = mnist.train_labels()"
   ]
  },
  {
   "cell_type": "code",
   "execution_count": 6,
   "id": "dceab3a5",
   "metadata": {
    "execution": {
     "iopub.execute_input": "2021-12-16T10:07:46.151708Z",
     "iopub.status.busy": "2021-12-16T10:07:46.151078Z",
     "iopub.status.idle": "2021-12-16T10:07:46.167372Z",
     "shell.execute_reply": "2021-12-16T10:07:46.166871Z"
    },
    "papermill": {
     "duration": 0.049291,
     "end_time": "2021-12-16T10:07:46.167502",
     "exception": false,
     "start_time": "2021-12-16T10:07:46.118211",
     "status": "completed"
    },
    "tags": []
   },
   "outputs": [
    {
     "data": {
      "text/plain": [
       "((60000, 28, 28), (60000,))"
      ]
     },
     "execution_count": 6,
     "metadata": {},
     "output_type": "execute_result"
    }
   ],
   "source": [
    "train_images.shape, train_labels.shape"
   ]
  },
  {
   "cell_type": "code",
   "execution_count": 7,
   "id": "f50dc2bb",
   "metadata": {
    "execution": {
     "iopub.execute_input": "2021-12-16T10:07:46.246151Z",
     "iopub.status.busy": "2021-12-16T10:07:46.245561Z",
     "iopub.status.idle": "2021-12-16T10:07:46.380383Z",
     "shell.execute_reply": "2021-12-16T10:07:46.380967Z"
    },
    "papermill": {
     "duration": 0.170363,
     "end_time": "2021-12-16T10:07:46.381137",
     "exception": false,
     "start_time": "2021-12-16T10:07:46.210774",
     "status": "completed"
    },
    "tags": []
   },
   "outputs": [],
   "source": [
    "test_images = mnist.test_images()\n",
    "test_labels = mnist.test_labels()"
   ]
  },
  {
   "cell_type": "code",
   "execution_count": 8,
   "id": "fc38cf1b",
   "metadata": {
    "execution": {
     "iopub.execute_input": "2021-12-16T10:07:46.442596Z",
     "iopub.status.busy": "2021-12-16T10:07:46.441889Z",
     "iopub.status.idle": "2021-12-16T10:07:46.458495Z",
     "shell.execute_reply": "2021-12-16T10:07:46.458019Z"
    },
    "papermill": {
     "duration": 0.048856,
     "end_time": "2021-12-16T10:07:46.458617",
     "exception": false,
     "start_time": "2021-12-16T10:07:46.409761",
     "status": "completed"
    },
    "tags": []
   },
   "outputs": [
    {
     "data": {
      "text/plain": [
       "((10000, 28, 28), (10000,))"
      ]
     },
     "execution_count": 8,
     "metadata": {},
     "output_type": "execute_result"
    }
   ],
   "source": [
    "test_images.shape, test_labels.shape"
   ]
  },
  {
   "cell_type": "code",
   "execution_count": 9,
   "id": "f9ed8fe0",
   "metadata": {
    "execution": {
     "iopub.execute_input": "2021-12-16T10:07:46.519800Z",
     "iopub.status.busy": "2021-12-16T10:07:46.519254Z",
     "iopub.status.idle": "2021-12-16T10:07:46.674436Z",
     "shell.execute_reply": "2021-12-16T10:07:46.673977Z"
    },
    "papermill": {
     "duration": 0.188772,
     "end_time": "2021-12-16T10:07:46.674562",
     "exception": false,
     "start_time": "2021-12-16T10:07:46.485790",
     "status": "completed"
    },
    "tags": []
   },
   "outputs": [
    {
     "name": "stdout",
     "output_type": "stream",
     "text": [
      "2\n"
     ]
    },
    {
     "data": {
      "text/plain": [
       "<matplotlib.image.AxesImage at 0x7f0a1f6ed518>"
      ]
     },
     "execution_count": 9,
     "metadata": {},
     "output_type": "execute_result"
    },
    {
     "data": {
      "image/png": "[encoded data removed]",
      "text/plain": [
       "<Figure size 432x288 with 1 Axes>"
      ]
     },
     "metadata": {
      "needs_background": "light"
     },
     "output_type": "display_data"
    }
   ],
   "source": [
    "image_index = 7776 # You may select anything up to 60,000\n",
    "print(train_labels[image_index]) \n",
    "plt.imshow(train_images[image_index], cmap='Greys')"
   ]
  },
  {
   "cell_type": "markdown",
   "id": "a8d2388d",
   "metadata": {
    "papermill": {
     "duration": 0.029176,
     "end_time": "2021-12-16T10:07:46.732660",
     "exception": false,
     "start_time": "2021-12-16T10:07:46.703484",
     "status": "completed"
    },
    "tags": []
   },
   "source": [
    "## Filter data to get 3 and 8 out"
   ]
  },
  {
   "cell_type": "code",
   "execution_count": 10,
   "id": "776f7fc7",
   "metadata": {
    "execution": {
     "iopub.execute_input": "2021-12-16T10:07:46.804342Z",
     "iopub.status.busy": "2021-12-16T10:07:46.803692Z",
     "iopub.status.idle": "2021-12-16T10:07:46.820040Z",
     "shell.execute_reply": "2021-12-16T10:07:46.820566Z"
    },
    "papermill": {
     "duration": 0.059288,
     "end_time": "2021-12-16T10:07:46.820722",
     "exception": false,
     "start_time": "2021-12-16T10:07:46.761434",
     "status": "completed"
    },
    "tags": []
   },
   "outputs": [],
   "source": [
    "train_filter = np.where((train_labels == 3 ) | (train_labels == 8))\n",
    "test_filter = np.where((test_labels == 3) | (test_labels == 8))\n",
    "X_train, y_train = train_images[train_filter], train_labels[train_filter]\n",
    "X_test, y_test = test_images[test_filter], test_labels[test_filter]"
   ]
  },
  {
   "cell_type": "markdown",
   "id": "948f0b7e",
   "metadata": {
    "papermill": {
     "duration": 0.029039,
     "end_time": "2021-12-16T10:07:46.879719",
     "exception": false,
     "start_time": "2021-12-16T10:07:46.850680",
     "status": "completed"
    },
    "tags": []
   },
   "source": [
    "We normalize the pizel values in the 0 to 1 range"
   ]
  },
  {
   "cell_type": "code",
   "execution_count": 11,
   "id": "ee4c2166",
   "metadata": {
    "execution": {
     "iopub.execute_input": "2021-12-16T10:07:46.945673Z",
     "iopub.status.busy": "2021-12-16T10:07:46.941734Z",
     "iopub.status.idle": "2021-12-16T10:07:46.996205Z",
     "shell.execute_reply": "2021-12-16T10:07:46.995430Z"
    },
    "papermill": {
     "duration": 0.088079,
     "end_time": "2021-12-16T10:07:46.996407",
     "exception": false,
     "start_time": "2021-12-16T10:07:46.908328",
     "status": "completed"
    },
    "tags": []
   },
   "outputs": [],
   "source": [
    "X_train = X_train/255.\n",
    "X_test = X_test/255."
   ]
  },
  {
   "cell_type": "markdown",
   "id": "ddcf4fab",
   "metadata": {
    "papermill": {
     "duration": 0.028801,
     "end_time": "2021-12-16T10:07:47.055196",
     "exception": false,
     "start_time": "2021-12-16T10:07:47.026395",
     "status": "completed"
    },
    "tags": []
   },
   "source": [
    "And setup the labels as 1 (when the digit is 3) and 0 (when the digit is 8)"
   ]
  },
  {
   "cell_type": "code",
   "execution_count": 12,
   "id": "7dc908f2",
   "metadata": {
    "execution": {
     "iopub.execute_input": "2021-12-16T10:07:47.117356Z",
     "iopub.status.busy": "2021-12-16T10:07:47.116787Z",
     "iopub.status.idle": "2021-12-16T10:07:47.129666Z",
     "shell.execute_reply": "2021-12-16T10:07:47.129218Z"
    },
    "papermill": {
     "duration": 0.047801,
     "end_time": "2021-12-16T10:07:47.129783",
     "exception": false,
     "start_time": "2021-12-16T10:07:47.081982",
     "status": "completed"
    },
    "tags": []
   },
   "outputs": [],
   "source": [
    "y_train = 1*(y_train==3)\n",
    "y_test = 1*(y_test==3)"
   ]
  },
  {
   "cell_type": "code",
   "execution_count": 13,
   "id": "01e4e969",
   "metadata": {
    "execution": {
     "iopub.execute_input": "2021-12-16T10:07:47.189506Z",
     "iopub.status.busy": "2021-12-16T10:07:47.188962Z",
     "iopub.status.idle": "2021-12-16T10:07:47.202603Z",
     "shell.execute_reply": "2021-12-16T10:07:47.202133Z"
    },
    "papermill": {
     "duration": 0.04537,
     "end_time": "2021-12-16T10:07:47.202715",
     "exception": false,
     "start_time": "2021-12-16T10:07:47.157345",
     "status": "completed"
    },
    "tags": []
   },
   "outputs": [
    {
     "data": {
      "text/plain": [
       "((11982, 28, 28), (1984, 28, 28))"
      ]
     },
     "execution_count": 13,
     "metadata": {},
     "output_type": "execute_result"
    }
   ],
   "source": [
    "X_train.shape, X_test.shape"
   ]
  },
  {
   "cell_type": "markdown",
   "id": "5ccf3f85",
   "metadata": {
    "papermill": {
     "duration": 0.030084,
     "end_time": "2021-12-16T10:07:47.273594",
     "exception": false,
     "start_time": "2021-12-16T10:07:47.243510",
     "status": "completed"
    },
    "tags": []
   },
   "source": [
    "We reshape the data to flatten the image pixels into a set of features or co-variates:"
   ]
  },
  {
   "cell_type": "code",
   "execution_count": 14,
   "id": "5286a4a3",
   "metadata": {
    "execution": {
     "iopub.execute_input": "2021-12-16T10:07:47.333008Z",
     "iopub.status.busy": "2021-12-16T10:07:47.332442Z",
     "iopub.status.idle": "2021-12-16T10:07:47.346942Z",
     "shell.execute_reply": "2021-12-16T10:07:47.348092Z"
    },
    "papermill": {
     "duration": 0.047864,
     "end_time": "2021-12-16T10:07:47.348272",
     "exception": false,
     "start_time": "2021-12-16T10:07:47.300408",
     "status": "completed"
    },
    "tags": []
   },
   "outputs": [
    {
     "data": {
      "text/plain": [
       "((11982, 784), (1984, 784))"
      ]
     },
     "execution_count": 14,
     "metadata": {},
     "output_type": "execute_result"
    }
   ],
   "source": [
    "X_train = X_train.reshape(X_train.shape[0], -1)\n",
    "X_test = X_test.reshape(X_test.shape[0], -1)\n",
    "X_train.shape, X_test.shape"
   ]
  },
  {
   "cell_type": "code",
   "execution_count": 15,
   "id": "73c5f88a",
   "metadata": {
    "execution": {
     "iopub.execute_input": "2021-12-16T10:07:47.411179Z",
     "iopub.status.busy": "2021-12-16T10:07:47.410622Z",
     "iopub.status.idle": "2021-12-16T10:07:47.430868Z",
     "shell.execute_reply": "2021-12-16T10:07:47.430427Z"
    },
    "papermill": {
     "duration": 0.05465,
     "end_time": "2021-12-16T10:07:47.430982",
     "exception": false,
     "start_time": "2021-12-16T10:07:47.376332",
     "status": "completed"
    },
    "tags": []
   },
   "outputs": [],
   "source": [
    "#Impoting functions from 'Kudzu'\n",
    "from kudzu.model import Model\n",
    "from kudzu.train import Learner\n",
    "from kudzu.optim import GD\n",
    "from kudzu.data import Data, Sampler,Dataloader\n",
    "\n",
    "from kudzu.callbacks import AccCallback\n",
    "from kudzu.callbacks import ClfCallback\n",
    "\n",
    "from kudzu.loss import MSE\n",
    "\n",
    "from kudzu.layer import Sigmoid,Relu\n",
    "from kudzu.layer import Affine"
   ]
  },
  {
   "cell_type": "markdown",
   "id": "bc01172a",
   "metadata": {
    "papermill": {
     "duration": 0.029334,
     "end_time": "2021-12-16T10:07:47.489449",
     "exception": false,
     "start_time": "2021-12-16T10:07:47.460115",
     "status": "completed"
    },
    "tags": []
   },
   "source": [
    "### Let us create a `Config` class, to store important parameters. \n",
    "This class essentially plays the role of a dictionary."
   ]
  },
  {
   "cell_type": "code",
   "execution_count": 16,
   "id": "978281aa",
   "metadata": {
    "execution": {
     "iopub.execute_input": "2021-12-16T10:07:47.552473Z",
     "iopub.status.busy": "2021-12-16T10:07:47.551825Z",
     "iopub.status.idle": "2021-12-16T10:07:47.564643Z",
     "shell.execute_reply": "2021-12-16T10:07:47.564189Z"
    },
    "papermill": {
     "duration": 0.046783,
     "end_time": "2021-12-16T10:07:47.564757",
     "exception": false,
     "start_time": "2021-12-16T10:07:47.517974",
     "status": "completed"
    },
    "tags": []
   },
   "outputs": [],
   "source": [
    "class Config:\n",
    "    pass\n",
    "config = Config()\n",
    "config.lr = 0.001\n",
    "config.num_epochs = 250\n",
    "config.bs = 50"
   ]
  },
  {
   "cell_type": "markdown",
   "id": "1385fa59",
   "metadata": {
    "papermill": {
     "duration": 0.028336,
     "end_time": "2021-12-16T10:07:47.620142",
     "exception": false,
     "start_time": "2021-12-16T10:07:47.591806",
     "status": "completed"
    },
    "tags": []
   },
   "source": [
    "### Running Models with the Training data\n",
    "Details about the network layers:\n",
    "- A first affine layer has 784 inputs and does 100 affine transforms. These are followed by a Relu\n",
    "- A second affine layer has 100 inputs from the 100 activations of the past layer, and does 100 affine transforms. These are followed by a Relu\n",
    "- A third affine layer has 100 activations and does 2 affine transformations to create an embedding for visualization. There is no non-linearity here.\n",
    "- A final \"logistic regression\" which has an affine transform from 2 inputs to 1 output, which is squeezed through a sigmoid.\n"
   ]
  },
  {
   "cell_type": "code",
   "execution_count": 17,
   "id": "2b9c66db",
   "metadata": {
    "execution": {
     "iopub.execute_input": "2021-12-16T10:07:47.685525Z",
     "iopub.status.busy": "2021-12-16T10:07:47.684973Z",
     "iopub.status.idle": "2021-12-16T10:07:47.698253Z",
     "shell.execute_reply": "2021-12-16T10:07:47.697789Z"
    },
    "papermill": {
     "duration": 0.048999,
     "end_time": "2021-12-16T10:07:47.698364",
     "exception": false,
     "start_time": "2021-12-16T10:07:47.649365",
     "status": "completed"
    },
    "tags": []
   },
   "outputs": [],
   "source": [
    "data = Data(X_train, y_train.reshape(-1,1))\n",
    "sampler = Sampler(data, config.bs, shuffle=True)\n",
    "\n",
    "dl = Dataloader(data, sampler)\n",
    "\n",
    "opt = GD(config.lr)\n",
    "loss = MSE()"
   ]
  },
  {
   "cell_type": "code",
   "execution_count": 18,
   "id": "b275e4c2",
   "metadata": {
    "execution": {
     "iopub.execute_input": "2021-12-16T10:07:47.764398Z",
     "iopub.status.busy": "2021-12-16T10:07:47.763680Z",
     "iopub.status.idle": "2021-12-16T10:07:47.776656Z",
     "shell.execute_reply": "2021-12-16T10:07:47.776202Z"
    },
    "papermill": {
     "duration": 0.049818,
     "end_time": "2021-12-16T10:07:47.776770",
     "exception": false,
     "start_time": "2021-12-16T10:07:47.726952",
     "status": "completed"
    },
    "tags": []
   },
   "outputs": [],
   "source": [
    "training_data_x = X_train\n",
    "testing_data_x = X_test\n",
    "training_data_y = y_train.reshape(-1,1)\n",
    "testing_data_y = y_test.reshape(-1,1)"
   ]
  },
  {
   "cell_type": "code",
   "execution_count": 19,
   "id": "76951160",
   "metadata": {
    "execution": {
     "iopub.execute_input": "2021-12-16T10:07:47.849900Z",
     "iopub.status.busy": "2021-12-16T10:07:47.849284Z",
     "iopub.status.idle": "2021-12-16T10:07:47.867315Z",
     "shell.execute_reply": "2021-12-16T10:07:47.866812Z"
    },
    "papermill": {
     "duration": 0.060811,
     "end_time": "2021-12-16T10:07:47.867439",
     "exception": false,
     "start_time": "2021-12-16T10:07:47.806628",
     "status": "completed"
    },
    "tags": []
   },
   "outputs": [
    {
     "name": "stdout",
     "output_type": "stream",
     "text": [
      "xavier\n",
      "xavier\n",
      "xavier\n",
      "xavier\n",
      "xavier\n"
     ]
    }
   ],
   "source": [
    "layers = [Affine(\"first\", 784, 100), Relu(\"first\"), Affine(\"second\", 100, 100), Relu(\"second\"), Affine(\"third\", 100, 2), Affine(\"last\", 2, 1), Sigmoid(\"last\")]\n",
    "model_nn = Model(layers)\n",
    "model_lr = Model([Affine(\"logits\", 784, 1), Sigmoid(\"sigmoid\")])"
   ]
  },
  {
   "cell_type": "code",
   "execution_count": 20,
   "id": "6eede77a",
   "metadata": {
    "execution": {
     "iopub.execute_input": "2021-12-16T10:07:47.932034Z",
     "iopub.status.busy": "2021-12-16T10:07:47.931470Z",
     "iopub.status.idle": "2021-12-16T10:07:47.946775Z",
     "shell.execute_reply": "2021-12-16T10:07:47.945574Z"
    },
    "papermill": {
     "duration": 0.049778,
     "end_time": "2021-12-16T10:07:47.946906",
     "exception": false,
     "start_time": "2021-12-16T10:07:47.897128",
     "status": "completed"
    },
    "tags": []
   },
   "outputs": [],
   "source": [
    "nn_learner = Learner(loss, model_nn, opt, config.num_epochs)\n",
    "acc_nn = ClfCallback(nn_learner, config.bs, training_data_x , testing_data_x, training_data_y, testing_data_y)\n",
    "nn_learner.set_callbacks([acc_nn])"
   ]
  },
  {
   "cell_type": "code",
   "execution_count": 21,
   "id": "877b6cc7",
   "metadata": {
    "execution": {
     "iopub.execute_input": "2021-12-16T10:07:48.011709Z",
     "iopub.status.busy": "2021-12-16T10:07:48.011159Z",
     "iopub.status.idle": "2021-12-16T10:07:48.023891Z",
     "shell.execute_reply": "2021-12-16T10:07:48.023411Z"
    },
    "papermill": {
     "duration": 0.047412,
     "end_time": "2021-12-16T10:07:48.024003",
     "exception": false,
     "start_time": "2021-12-16T10:07:47.976591",
     "status": "completed"
    },
    "tags": []
   },
   "outputs": [],
   "source": [
    "lr_learner = Learner(loss, model_lr, opt, config.num_epochs)\n",
    "acc_lr = ClfCallback(lr_learner, config.bs, training_data_x , testing_data_x, training_data_y, testing_data_y)\n",
    "lr_learner.set_callbacks([acc_lr])"
   ]
  },
  {
   "cell_type": "code",
   "execution_count": 22,
   "id": "d9b133c3",
   "metadata": {
    "execution": {
     "iopub.execute_input": "2021-12-16T10:07:48.086645Z",
     "iopub.status.busy": "2021-12-16T10:07:48.086100Z",
     "iopub.status.idle": "2021-12-16T10:09:14.680471Z",
     "shell.execute_reply": "2021-12-16T10:09:14.681319Z"
    },
    "papermill": {
     "duration": 86.628253,
     "end_time": "2021-12-16T10:09:14.681494",
     "exception": false,
     "start_time": "2021-12-16T10:07:48.053241",
     "status": "completed"
    },
    "tags": []
   },
   "outputs": [
    {
     "name": "stdout",
     "output_type": "stream",
     "text": [
      "Epoch 0, Loss 0.2361\n",
      "Training Accuracy: 0.7377, Testing Accuracy: 0.7455\n",
      "\n"
     ]
    },
    {
     "name": "stdout",
     "output_type": "stream",
     "text": [
      "Epoch 10, Loss 0.08\n",
      "Training Accuracy: 0.9281, Testing Accuracy: 0.9380\n",
      "\n"
     ]
    },
    {
     "name": "stdout",
     "output_type": "stream",
     "text": [
      "Epoch 20, Loss 0.051\n",
      "Training Accuracy: 0.9478, Testing Accuracy: 0.9577\n",
      "\n"
     ]
    },
    {
     "name": "stdout",
     "output_type": "stream",
     "text": [
      "Epoch 30, Loss 0.0404\n",
      "Training Accuracy: 0.9576, Testing Accuracy: 0.9647\n",
      "\n"
     ]
    },
    {
     "name": "stdout",
     "output_type": "stream",
     "text": [
      "Epoch 40, Loss 0.0351\n",
      "Training Accuracy: 0.9621, Testing Accuracy: 0.9693\n",
      "\n"
     ]
    },
    {
     "name": "stdout",
     "output_type": "stream",
     "text": [
      "Epoch 50, Loss 0.0318\n",
      "Training Accuracy: 0.9650, Testing Accuracy: 0.9698\n",
      "\n"
     ]
    },
    {
     "name": "stdout",
     "output_type": "stream",
     "text": [
      "Epoch 60, Loss 0.0296\n",
      "Training Accuracy: 0.9678, Testing Accuracy: 0.9708\n",
      "\n"
     ]
    },
    {
     "name": "stdout",
     "output_type": "stream",
     "text": [
      "Epoch 70, Loss 0.0278\n",
      "Training Accuracy: 0.9692, Testing Accuracy: 0.9718\n",
      "\n"
     ]
    },
    {
     "name": "stdout",
     "output_type": "stream",
     "text": [
      "Epoch 80, Loss 0.0265\n",
      "Training Accuracy: 0.9700, Testing Accuracy: 0.9733\n",
      "\n"
     ]
    },
    {
     "name": "stdout",
     "output_type": "stream",
     "text": [
      "Epoch 90, Loss 0.0254\n",
      "Training Accuracy: 0.9712, Testing Accuracy: 0.9738\n",
      "\n"
     ]
    },
    {
     "name": "stdout",
     "output_type": "stream",
     "text": [
      "Epoch 100, Loss 0.0244\n",
      "Training Accuracy: 0.9722, Testing Accuracy: 0.9743\n",
      "\n"
     ]
    },
    {
     "name": "stdout",
     "output_type": "stream",
     "text": [
      "Epoch 110, Loss 0.0235\n",
      "Training Accuracy: 0.9733, Testing Accuracy: 0.9738\n",
      "\n"
     ]
    },
    {
     "name": "stdout",
     "output_type": "stream",
     "text": [
      "Epoch 120, Loss 0.0227\n",
      "Training Accuracy: 0.9745, Testing Accuracy: 0.9738\n",
      "\n"
     ]
    },
    {
     "name": "stdout",
     "output_type": "stream",
     "text": [
      "Epoch 130, Loss 0.022\n",
      "Training Accuracy: 0.9754, Testing Accuracy: 0.9748\n",
      "\n"
     ]
    },
    {
     "name": "stdout",
     "output_type": "stream",
     "text": [
      "Epoch 140, Loss 0.0213\n",
      "Training Accuracy: 0.9760, Testing Accuracy: 0.9748\n",
      "\n"
     ]
    },
    {
     "name": "stdout",
     "output_type": "stream",
     "text": [
      "Epoch 150, Loss 0.0207\n",
      "Training Accuracy: 0.9765, Testing Accuracy: 0.9753\n",
      "\n"
     ]
    },
    {
     "name": "stdout",
     "output_type": "stream",
     "text": [
      "Epoch 160, Loss 0.0201\n",
      "Training Accuracy: 0.9771, Testing Accuracy: 0.9763\n",
      "\n"
     ]
    },
    {
     "name": "stdout",
     "output_type": "stream",
     "text": [
      "Epoch 170, Loss 0.0196\n",
      "Training Accuracy: 0.9781, Testing Accuracy: 0.9768\n",
      "\n"
     ]
    },
    {
     "name": "stdout",
     "output_type": "stream",
     "text": [
      "Epoch 180, Loss 0.0191\n",
      "Training Accuracy: 0.9793, Testing Accuracy: 0.9768\n",
      "\n"
     ]
    },
    {
     "name": "stdout",
     "output_type": "stream",
     "text": [
      "Epoch 190, Loss 0.0186\n",
      "Training Accuracy: 0.9795, Testing Accuracy: 0.9773\n",
      "\n"
     ]
    },
    {
     "name": "stdout",
     "output_type": "stream",
     "text": [
      "Epoch 200, Loss 0.0181\n",
      "Training Accuracy: 0.9800, Testing Accuracy: 0.9783\n",
      "\n"
     ]
    },
    {
     "name": "stdout",
     "output_type": "stream",
     "text": [
      "Epoch 210, Loss 0.0177\n",
      "Training Accuracy: 0.9806, Testing Accuracy: 0.9783\n",
      "\n"
     ]
    },
    {
     "name": "stdout",
     "output_type": "stream",
     "text": [
      "Epoch 220, Loss 0.0172\n",
      "Training Accuracy: 0.9811, Testing Accuracy: 0.9773\n",
      "\n"
     ]
    },
    {
     "name": "stdout",
     "output_type": "stream",
     "text": [
      "Epoch 230, Loss 0.0168\n",
      "Training Accuracy: 0.9818, Testing Accuracy: 0.9773\n",
      "\n"
     ]
    },
    {
     "name": "stdout",
     "output_type": "stream",
     "text": [
      "Epoch 240, Loss 0.0164\n",
      "Training Accuracy: 0.9825, Testing Accuracy: 0.9773\n",
      "\n"
     ]
    },
    {
     "data": {
      "text/plain": [
       "0.0012275291767555783"
      ]
     },
     "execution_count": 22,
     "metadata": {},
     "output_type": "execute_result"
    }
   ],
   "source": [
    "nn_learner.train_loop(dl)"
   ]
  },
  {
   "cell_type": "code",
   "execution_count": 23,
   "id": "e0163366",
   "metadata": {
    "execution": {
     "iopub.execute_input": "2021-12-16T10:09:14.780041Z",
     "iopub.status.busy": "2021-12-16T10:09:14.779428Z",
     "iopub.status.idle": "2021-12-16T10:09:30.002584Z",
     "shell.execute_reply": "2021-12-16T10:09:30.003430Z"
    },
    "papermill": {
     "duration": 15.280906,
     "end_time": "2021-12-16T10:09:30.003588",
     "exception": false,
     "start_time": "2021-12-16T10:09:14.722682",
     "status": "completed"
    },
    "tags": []
   },
   "outputs": [
    {
     "name": "stdout",
     "output_type": "stream",
     "text": [
      "Epoch 0, Loss 0.2485\n",
      "Training Accuracy: 0.6682, Testing Accuracy: 0.6986\n",
      "\n"
     ]
    },
    {
     "name": "stdout",
     "output_type": "stream",
     "text": [
      "Epoch 10, Loss 0.1048\n",
      "Training Accuracy: 0.9093, Testing Accuracy: 0.9219\n",
      "\n"
     ]
    },
    {
     "name": "stdout",
     "output_type": "stream",
     "text": [
      "Epoch 20, Loss 0.0802\n",
      "Training Accuracy: 0.9260, Testing Accuracy: 0.9430\n",
      "\n"
     ]
    },
    {
     "name": "stdout",
     "output_type": "stream",
     "text": [
      "Epoch 30, Loss 0.069\n",
      "Training Accuracy: 0.9357, Testing Accuracy: 0.9496\n",
      "\n"
     ]
    },
    {
     "name": "stdout",
     "output_type": "stream",
     "text": [
      "Epoch 40, Loss 0.0622\n",
      "Training Accuracy: 0.9401, Testing Accuracy: 0.9521\n",
      "\n"
     ]
    },
    {
     "name": "stdout",
     "output_type": "stream",
     "text": [
      "Epoch 50, Loss 0.0576\n",
      "Training Accuracy: 0.9435, Testing Accuracy: 0.9536\n",
      "\n"
     ]
    },
    {
     "name": "stdout",
     "output_type": "stream",
     "text": [
      "Epoch 60, Loss 0.0542\n",
      "Training Accuracy: 0.9463, Testing Accuracy: 0.9556\n",
      "\n"
     ]
    },
    {
     "name": "stdout",
     "output_type": "stream",
     "text": [
      "Epoch 70, Loss 0.0516\n",
      "Training Accuracy: 0.9482, Testing Accuracy: 0.9572\n",
      "\n"
     ]
    },
    {
     "name": "stdout",
     "output_type": "stream",
     "text": [
      "Epoch 80, Loss 0.0496\n",
      "Training Accuracy: 0.9492, Testing Accuracy: 0.9592\n",
      "\n"
     ]
    },
    {
     "name": "stdout",
     "output_type": "stream",
     "text": [
      "Epoch 90, Loss 0.0478\n",
      "Training Accuracy: 0.9508, Testing Accuracy: 0.9612\n",
      "\n"
     ]
    },
    {
     "name": "stdout",
     "output_type": "stream",
     "text": [
      "Epoch 100, Loss 0.0464\n",
      "Training Accuracy: 0.9520, Testing Accuracy: 0.9627\n",
      "\n"
     ]
    },
    {
     "name": "stdout",
     "output_type": "stream",
     "text": [
      "Epoch 110, Loss 0.0452\n",
      "Training Accuracy: 0.9531, Testing Accuracy: 0.9627\n",
      "\n"
     ]
    },
    {
     "name": "stdout",
     "output_type": "stream",
     "text": [
      "Epoch 120, Loss 0.0441\n",
      "Training Accuracy: 0.9550, Testing Accuracy: 0.9632\n",
      "\n"
     ]
    },
    {
     "name": "stdout",
     "output_type": "stream",
     "text": [
      "Epoch 130, Loss 0.0432\n",
      "Training Accuracy: 0.9559, Testing Accuracy: 0.9642\n",
      "\n"
     ]
    },
    {
     "name": "stdout",
     "output_type": "stream",
     "text": [
      "Epoch 140, Loss 0.0423\n",
      "Training Accuracy: 0.9564, Testing Accuracy: 0.9647\n",
      "\n"
     ]
    },
    {
     "name": "stdout",
     "output_type": "stream",
     "text": [
      "Epoch 150, Loss 0.0416\n",
      "Training Accuracy: 0.9567, Testing Accuracy: 0.9647\n",
      "\n"
     ]
    },
    {
     "name": "stdout",
     "output_type": "stream",
     "text": [
      "Epoch 160, Loss 0.0409\n",
      "Training Accuracy: 0.9570, Testing Accuracy: 0.9657\n",
      "\n"
     ]
    },
    {
     "name": "stdout",
     "output_type": "stream",
     "text": [
      "Epoch 170, Loss 0.0403\n",
      "Training Accuracy: 0.9573, Testing Accuracy: 0.9652\n",
      "\n"
     ]
    },
    {
     "name": "stdout",
     "output_type": "stream",
     "text": [
      "Epoch 180, Loss 0.0397\n",
      "Training Accuracy: 0.9577, Testing Accuracy: 0.9652\n",
      "\n"
     ]
    },
    {
     "name": "stdout",
     "output_type": "stream",
     "text": [
      "Epoch 190, Loss 0.0392\n",
      "Training Accuracy: 0.9581, Testing Accuracy: 0.9662\n",
      "\n"
     ]
    },
    {
     "name": "stdout",
     "output_type": "stream",
     "text": [
      "Epoch 200, Loss 0.0387\n",
      "Training Accuracy: 0.9585, Testing Accuracy: 0.9662\n",
      "\n"
     ]
    },
    {
     "name": "stdout",
     "output_type": "stream",
     "text": [
      "Epoch 210, Loss 0.0382\n",
      "Training Accuracy: 0.9589, Testing Accuracy: 0.9667\n",
      "\n"
     ]
    },
    {
     "name": "stdout",
     "output_type": "stream",
     "text": [
      "Epoch 220, Loss 0.0378\n",
      "Training Accuracy: 0.9590, Testing Accuracy: 0.9667\n",
      "\n"
     ]
    },
    {
     "name": "stdout",
     "output_type": "stream",
     "text": [
      "Epoch 230, Loss 0.0374\n",
      "Training Accuracy: 0.9591, Testing Accuracy: 0.9667\n",
      "\n"
     ]
    },
    {
     "name": "stdout",
     "output_type": "stream",
     "text": [
      "Epoch 240, Loss 0.0371\n",
      "Training Accuracy: 0.9594, Testing Accuracy: 0.9667\n",
      "\n"
     ]
    },
    {
     "data": {
      "text/plain": [
       "0.008554293140782975"
      ]
     },
     "execution_count": 23,
     "metadata": {},
     "output_type": "execute_result"
    }
   ],
   "source": [
    "lr_learner.train_loop(dl)"
   ]
  },
  {
   "cell_type": "code",
   "execution_count": 24,
   "id": "ca410940",
   "metadata": {
    "execution": {
     "iopub.execute_input": "2021-12-16T10:09:30.109603Z",
     "iopub.status.busy": "2021-12-16T10:09:30.109022Z",
     "iopub.status.idle": "2021-12-16T10:09:30.351999Z",
     "shell.execute_reply": "2021-12-16T10:09:30.351171Z"
    },
    "papermill": {
     "duration": 0.303346,
     "end_time": "2021-12-16T10:09:30.352169",
     "exception": false,
     "start_time": "2021-12-16T10:09:30.048823",
     "status": "completed"
    },
    "tags": []
   },
   "outputs": [
    {
     "data": {
      "text/plain": [
       "<matplotlib.legend.Legend at 0x7f0a1f2c7be0>"
      ]
     },
     "execution_count": 24,
     "metadata": {},
     "output_type": "execute_result"
    },
    {
     "data": {
      "image/png": "[encoded data removed]",
      "text/plain": [
       "<Figure size 1080x720 with 1 Axes>"
      ]
     },
     "metadata": {
      "needs_background": "light"
     },
     "output_type": "display_data"
    }
   ],
   "source": [
    "#comparing the results of NN and LR\n",
    "plt.figure(figsize=(15,10))\n",
    "\n",
    "# Neural Network plots\n",
    "plt.plot(acc_nn.accuracies, 'r-', label = \"Training Accuracies - NN\")\n",
    "plt.plot(acc_nn.test_accuracies, 'g-', label = \"Testing Accuracies - NN\")\n",
    "\n",
    "# Logistic Regression plots\n",
    "plt.plot(acc_lr.accuracies, 'k-', label = \"Training Accuracies - LR\")\n",
    "plt.plot(acc_lr.test_accuracies, 'b-', label = \"Testing Accuracies - LR\")\n",
    "plt.legend()"
   ]
  },
  {
   "cell_type": "markdown",
   "id": "80dfb35c",
   "metadata": {
    "papermill": {
     "duration": 0.046222,
     "end_time": "2021-12-16T10:09:30.443992",
     "exception": false,
     "start_time": "2021-12-16T10:09:30.397770",
     "status": "completed"
    },
    "tags": []
   },
   "source": [
    "#### Plotting the outputs of this layer of the NN.\n"
   ]
  },
  {
   "cell_type": "code",
   "execution_count": 25,
   "id": "45eb2ff5",
   "metadata": {
    "execution": {
     "iopub.execute_input": "2021-12-16T10:09:30.541962Z",
     "iopub.status.busy": "2021-12-16T10:09:30.540796Z",
     "iopub.status.idle": "2021-12-16T10:09:30.563524Z",
     "shell.execute_reply": "2021-12-16T10:09:30.564014Z"
    },
    "papermill": {
     "duration": 0.074171,
     "end_time": "2021-12-16T10:09:30.564194",
     "exception": false,
     "start_time": "2021-12-16T10:09:30.490023",
     "status": "completed"
    },
    "tags": []
   },
   "outputs": [],
   "source": [
    "new_model = Model(layers[:-2])\n",
    "testing_plot = new_model(testing_data_x)"
   ]
  },
  {
   "cell_type": "code",
   "execution_count": 26,
   "id": "4c0a5485",
   "metadata": {
    "execution": {
     "iopub.execute_input": "2021-12-16T10:09:30.664352Z",
     "iopub.status.busy": "2021-12-16T10:09:30.662202Z",
     "iopub.status.idle": "2021-12-16T10:09:30.901857Z",
     "shell.execute_reply": "2021-12-16T10:09:30.902324Z"
    },
    "papermill": {
     "duration": 0.291571,
     "end_time": "2021-12-16T10:09:30.902473",
     "exception": false,
     "start_time": "2021-12-16T10:09:30.610902",
     "status": "completed"
    },
    "tags": []
   },
   "outputs": [
    {
     "data": {
      "text/plain": [
       "Text(0.5, 1.0, 'Outputs')"
      ]
     },
     "execution_count": 26,
     "metadata": {},
     "output_type": "execute_result"
    },
    {
     "data": {
      "image/png": "[encoded data removed]",
      "text/plain": [
       "<Figure size 576x504 with 1 Axes>"
      ]
     },
     "metadata": {
      "needs_background": "light"
     },
     "output_type": "display_data"
    }
   ],
   "source": [
    "# Plotting the scatter plot of points and color coding by class\n",
    "plt.figure(figsize=(8,7))\n",
    "plt.scatter(testing_plot[:,0], testing_plot[:,1], alpha = 0.1, c = y_test.ravel());\n",
    "plt.title('Outputs')"
   ]
  },
  {
   "cell_type": "markdown",
   "id": "a74fcf8f",
   "metadata": {
    "papermill": {
     "duration": 0.051248,
     "end_time": "2021-12-16T10:09:31.004239",
     "exception": false,
     "start_time": "2021-12-16T10:09:30.952991",
     "status": "completed"
    },
    "tags": []
   },
   "source": [
    "Probability contours"
   ]
  },
  {
   "cell_type": "code",
   "execution_count": 27,
   "id": "d0afc8e3",
   "metadata": {
    "execution": {
     "iopub.execute_input": "2021-12-16T10:09:31.111751Z",
     "iopub.status.busy": "2021-12-16T10:09:31.110757Z",
     "iopub.status.idle": "2021-12-16T10:09:31.123306Z",
     "shell.execute_reply": "2021-12-16T10:09:31.123756Z"
    },
    "papermill": {
     "duration": 0.067664,
     "end_time": "2021-12-16T10:09:31.123897",
     "exception": false,
     "start_time": "2021-12-16T10:09:31.056233",
     "status": "completed"
    },
    "tags": []
   },
   "outputs": [],
   "source": [
    "model_prob = Model(layers[-2:]) "
   ]
  },
  {
   "cell_type": "code",
   "execution_count": 28,
   "id": "9b96e238",
   "metadata": {
    "execution": {
     "iopub.execute_input": "2021-12-16T10:09:31.255925Z",
     "iopub.status.busy": "2021-12-16T10:09:31.254684Z",
     "iopub.status.idle": "2021-12-16T10:09:31.272871Z",
     "shell.execute_reply": "2021-12-16T10:09:31.273289Z"
    },
    "papermill": {
     "duration": 0.073246,
     "end_time": "2021-12-16T10:09:31.273426",
     "exception": false,
     "start_time": "2021-12-16T10:09:31.200180",
     "status": "completed"
    },
    "tags": []
   },
   "outputs": [],
   "source": [
    "#creating the x and y ranges according to the above generated plot.\n",
    "x_range = np.linspace(-4, 1, 100) \n",
    "y_range = np.linspace(-6, 6, 100) \n",
    "x_grid, y_grid = np.meshgrid(x_range, y_range) # x_grid and y_grig are of size 100 X 100\n",
    "\n",
    "# converting x_grid and y_grid to continuous arrays\n",
    "x_gridflat = np.ravel(x_grid)\n",
    "y_gridflat = np.ravel(y_grid)\n",
    "\n",
    "# The last layer of the current model takes two columns as input. Hence transpose of np.vstack() is required.\n",
    "X = np.vstack((x_gridflat, y_gridflat)).T\n",
    "\n",
    "prob_contour = model_prob(X).reshape(100,100) "
   ]
  },
  {
   "cell_type": "code",
   "execution_count": 29,
   "id": "da72499a",
   "metadata": {
    "execution": {
     "iopub.execute_input": "2021-12-16T10:09:31.381814Z",
     "iopub.status.busy": "2021-12-16T10:09:31.381232Z",
     "iopub.status.idle": "2021-12-16T10:09:31.678799Z",
     "shell.execute_reply": "2021-12-16T10:09:31.678301Z"
    },
    "papermill": {
     "duration": 0.356762,
     "end_time": "2021-12-16T10:09:31.678926",
     "exception": false,
     "start_time": "2021-12-16T10:09:31.322164",
     "status": "completed"
    },
    "tags": []
   },
   "outputs": [
    {
     "data": {
      "image/png": "[encoded data removed]",
      "text/plain": [
       "<Figure size 720x648 with 1 Axes>"
      ]
     },
     "metadata": {
      "needs_background": "light"
     },
     "output_type": "display_data"
    }
   ],
   "source": [
    "plt.figure(figsize=(10,9))\n",
    "plt.scatter(testing_plot[:,0], testing_plot[:,1], alpha = 0.1, c = y_test.ravel())\n",
    "contours = plt.contour(x_grid,y_grid,prob_contour)\n",
    "plt.title('Probability Contours')\n",
    "plt.clabel(contours, inline = True );"
   ]
  },
  {
   "cell_type": "code",
   "execution_count": null,
   "id": "e81b4ac7",
   "metadata": {
    "papermill": {
     "duration": 0.051623,
     "end_time": "2021-12-16T10:09:31.782870",
     "exception": false,
     "start_time": "2021-12-16T10:09:31.731247",
     "status": "completed"
    },
    "tags": []
   },
   "outputs": [],
   "source": []
  }
 ],
 "metadata": {
  "kernelspec": {
   "display_name": "Python 3",
   "language": "python",
   "name": "python3"
  },
  "language_info": {
   "codemirror_mode": {
    "name": "ipython",
    "version": 3
   },
   "file_extension": ".py",
   "mimetype": "text/x-python",
   "name": "python",
   "nbconvert_exporter": "python",
   "pygments_lexer": "ipython3",
   "version": "3.6.15"
  },
  "papermill": {
   "default_parameters": {},
   "duration": 111.80782,
   "end_time": "2021-12-16T10:09:32.244835",
   "environment_variables": {},
   "exception": null,
   "input_path": "2020-08-11-part2.ipynb",
   "output_path": "2020-08-11-part2.ipynb",
   "parameters": {},
   "start_time": "2021-12-16T10:07:40.437015",
   "version": "2.3.3"
  }
 },
 "nbformat": 4,
 "nbformat_minor": 5
}