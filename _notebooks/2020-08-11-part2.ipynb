{
 "cells": [
  {
   "cell_type": "markdown",
   "id": "98380cd3",
   "metadata": {
    "papermill": {
     "duration": 0.035863,
     "end_time": "2022-03-23T10:10:03.806051",
     "exception": false,
     "start_time": "2022-03-23T10:10:03.770188",
     "status": "completed"
    },
    "tags": []
   },
   "source": [
    "# Distinguish Your Own Digits (DYOD)"
   ]
  },
  {
   "cell_type": "markdown",
   "id": "ef31240d",
   "metadata": {
    "papermill": {
     "duration": 0.02842,
     "end_time": "2022-03-23T10:10:03.862090",
     "exception": false,
     "start_time": "2022-03-23T10:10:03.833670",
     "status": "completed"
    },
    "tags": []
   },
   "source": [
    "You are going to write a classifier that distinguishes between the number 3 and number 8."
   ]
  },
  {
   "cell_type": "code",
   "execution_count": 1,
   "id": "b15c8646",
   "metadata": {
    "execution": {
     "iopub.execute_input": "2022-03-23T10:10:03.929412Z",
     "iopub.status.busy": "2022-03-23T10:10:03.928764Z",
     "iopub.status.idle": "2022-03-23T10:10:03.940217Z",
     "shell.execute_reply": "2022-03-23T10:10:03.939691Z"
    },
    "papermill": {
     "duration": 0.051549,
     "end_time": "2022-03-23T10:10:03.940365",
     "exception": false,
     "start_time": "2022-03-23T10:10:03.888816",
     "status": "completed"
    },
    "tags": []
   },
   "outputs": [],
   "source": [
    "%load_ext autoreload\n",
    "%autoreload 2"
   ]
  },
  {
   "cell_type": "code",
   "execution_count": 2,
   "id": "22ef38dc",
   "metadata": {
    "execution": {
     "iopub.execute_input": "2022-03-23T10:10:03.999727Z",
     "iopub.status.busy": "2022-03-23T10:10:03.999104Z",
     "iopub.status.idle": "2022-03-23T10:10:04.681461Z",
     "shell.execute_reply": "2022-03-23T10:10:04.681980Z"
    },
    "papermill": {
     "duration": 0.714639,
     "end_time": "2022-03-23T10:10:04.682142",
     "exception": false,
     "start_time": "2022-03-23T10:10:03.967503",
     "status": "completed"
    },
    "tags": []
   },
   "outputs": [],
   "source": [
    "%matplotlib inline\n",
    "import numpy as np\n",
    "import matplotlib.pyplot as plt\n",
    "import pandas as pd"
   ]
  },
  {
   "cell_type": "markdown",
   "id": "ba036198",
   "metadata": {
    "papermill": {
     "duration": 0.026972,
     "end_time": "2022-03-23T10:10:04.736164",
     "exception": false,
     "start_time": "2022-03-23T10:10:04.709192",
     "status": "completed"
    },
    "tags": []
   },
   "source": [
    "From the command line run `pip install mnist`. This is a library that will help you bring down the mnist dataset. If you run this from a notebook, you need to put  `!pip install mnist` in a cell by itself."
   ]
  },
  {
   "cell_type": "code",
   "execution_count": 3,
   "id": "bb6ad8a1",
   "metadata": {
    "execution": {
     "iopub.execute_input": "2022-03-23T10:10:04.794679Z",
     "iopub.status.busy": "2022-03-23T10:10:04.794068Z",
     "iopub.status.idle": "2022-03-23T10:10:06.726701Z",
     "shell.execute_reply": "2022-03-23T10:10:06.725799Z"
    },
    "papermill": {
     "duration": 1.963929,
     "end_time": "2022-03-23T10:10:06.726850",
     "exception": false,
     "start_time": "2022-03-23T10:10:04.762921",
     "status": "completed"
    },
    "tags": []
   },
   "outputs": [
    {
     "name": "stdout",
     "output_type": "stream",
     "text": [
      "Collecting mnist\r\n",
      "  Downloading mnist-0.2.2-py2.py3-none-any.whl (3.5 kB)\r\n"
     ]
    },
    {
     "name": "stdout",
     "output_type": "stream",
     "text": [
      "Requirement already satisfied: numpy in /opt/hostedtoolcache/Python/3.6.15/x64/lib/python3.6/site-packages (from mnist) (1.19.5)\r\n"
     ]
    },
    {
     "name": "stdout",
     "output_type": "stream",
     "text": [
      "Installing collected packages: mnist\r\n",
      "Successfully installed mnist-0.2.2\r\n"
     ]
    }
   ],
   "source": [
    "!pip install mnist"
   ]
  },
  {
   "cell_type": "markdown",
   "id": "69df9c9a",
   "metadata": {
    "papermill": {
     "duration": 0.02694,
     "end_time": "2022-03-23T10:10:06.781309",
     "exception": false,
     "start_time": "2022-03-23T10:10:06.754369",
     "status": "completed"
    },
    "tags": []
   },
   "source": [
    "## Preparing the Data"
   ]
  },
  {
   "cell_type": "code",
   "execution_count": 4,
   "id": "7f69d806",
   "metadata": {
    "execution": {
     "iopub.execute_input": "2022-03-23T10:10:06.841387Z",
     "iopub.status.busy": "2022-03-23T10:10:06.840811Z",
     "iopub.status.idle": "2022-03-23T10:10:06.855850Z",
     "shell.execute_reply": "2022-03-23T10:10:06.855367Z"
    },
    "papermill": {
     "duration": 0.047466,
     "end_time": "2022-03-23T10:10:06.855990",
     "exception": false,
     "start_time": "2022-03-23T10:10:06.808524",
     "status": "completed"
    },
    "tags": []
   },
   "outputs": [],
   "source": [
    "import mnist"
   ]
  },
  {
   "cell_type": "code",
   "execution_count": 5,
   "id": "a411e44f",
   "metadata": {
    "execution": {
     "iopub.execute_input": "2022-03-23T10:10:06.915453Z",
     "iopub.status.busy": "2022-03-23T10:10:06.914892Z",
     "iopub.status.idle": "2022-03-23T10:10:07.444433Z",
     "shell.execute_reply": "2022-03-23T10:10:07.443280Z"
    },
    "papermill": {
     "duration": 0.56115,
     "end_time": "2022-03-23T10:10:07.444605",
     "exception": false,
     "start_time": "2022-03-23T10:10:06.883455",
     "status": "completed"
    },
    "tags": []
   },
   "outputs": [],
   "source": [
    "train_images = mnist.train_images()\n",
    "train_labels = mnist.train_labels()"
   ]
  },
  {
   "cell_type": "code",
   "execution_count": 6,
   "id": "dceab3a5",
   "metadata": {
    "execution": {
     "iopub.execute_input": "2022-03-23T10:10:07.505534Z",
     "iopub.status.busy": "2022-03-23T10:10:07.503916Z",
     "iopub.status.idle": "2022-03-23T10:10:07.518936Z",
     "shell.execute_reply": "2022-03-23T10:10:07.518466Z"
    },
    "papermill": {
     "duration": 0.046756,
     "end_time": "2022-03-23T10:10:07.519052",
     "exception": false,
     "start_time": "2022-03-23T10:10:07.472296",
     "status": "completed"
    },
    "tags": []
   },
   "outputs": [
    {
     "data": {
      "text/plain": [
       "((60000, 28, 28), (60000,))"
      ]
     },
     "execution_count": 6,
     "metadata": {},
     "output_type": "execute_result"
    }
   ],
   "source": [
    "train_images.shape, train_labels.shape"
   ]
  },
  {
   "cell_type": "code",
   "execution_count": 7,
   "id": "f50dc2bb",
   "metadata": {
    "execution": {
     "iopub.execute_input": "2022-03-23T10:10:07.578241Z",
     "iopub.status.busy": "2022-03-23T10:10:07.577645Z",
     "iopub.status.idle": "2022-03-23T10:10:07.719896Z",
     "shell.execute_reply": "2022-03-23T10:10:07.719118Z"
    },
    "papermill": {
     "duration": 0.1737,
     "end_time": "2022-03-23T10:10:07.720094",
     "exception": false,
     "start_time": "2022-03-23T10:10:07.546394",
     "status": "completed"
    },
    "tags": []
   },
   "outputs": [],
   "source": [
    "test_images = mnist.test_images()\n",
    "test_labels = mnist.test_labels()"
   ]
  },
  {
   "cell_type": "code",
   "execution_count": 8,
   "id": "fc38cf1b",
   "metadata": {
    "execution": {
     "iopub.execute_input": "2022-03-23T10:10:07.783710Z",
     "iopub.status.busy": "2022-03-23T10:10:07.783099Z",
     "iopub.status.idle": "2022-03-23T10:10:07.794725Z",
     "shell.execute_reply": "2022-03-23T10:10:07.794274Z"
    },
    "papermill": {
     "duration": 0.04738,
     "end_time": "2022-03-23T10:10:07.794847",
     "exception": false,
     "start_time": "2022-03-23T10:10:07.747467",
     "status": "completed"
    },
    "tags": []
   },
   "outputs": [
    {
     "data": {
      "text/plain": [
       "((10000, 28, 28), (10000,))"
      ]
     },
     "execution_count": 8,
     "metadata": {},
     "output_type": "execute_result"
    }
   ],
   "source": [
    "test_images.shape, test_labels.shape"
   ]
  },
  {
   "cell_type": "code",
   "execution_count": 9,
   "id": "f9ed8fe0",
   "metadata": {
    "execution": {
     "iopub.execute_input": "2022-03-23T10:10:07.854602Z",
     "iopub.status.busy": "2022-03-23T10:10:07.854051Z",
     "iopub.status.idle": "2022-03-23T10:10:08.006061Z",
     "shell.execute_reply": "2022-03-23T10:10:08.006510Z"
    },
    "papermill": {
     "duration": 0.183973,
     "end_time": "2022-03-23T10:10:08.006659",
     "exception": false,
     "start_time": "2022-03-23T10:10:07.822686",
     "status": "completed"
    },
    "tags": []
   },
   "outputs": [
    {
     "name": "stdout",
     "output_type": "stream",
     "text": [
      "2\n"
     ]
    },
    {
     "data": {
      "text/plain": [
       "<matplotlib.image.AxesImage at 0x7fc77e6365f8>"
      ]
     },
     "execution_count": 9,
     "metadata": {},
     "output_type": "execute_result"
    },
    {
     "data": {
      "image/png": "[encoded data removed]",
      "text/plain": [
       "<Figure size 432x288 with 1 Axes>"
      ]
     },
     "metadata": {
      "needs_background": "light"
     },
     "output_type": "display_data"
    }
   ],
   "source": [
    "image_index = 7776 # You may select anything up to 60,000\n",
    "print(train_labels[image_index]) \n",
    "plt.imshow(train_images[image_index], cmap='Greys')"
   ]
  },
  {
   "cell_type": "markdown",
   "id": "a8d2388d",
   "metadata": {
    "papermill": {
     "duration": 0.028428,
     "end_time": "2022-03-23T10:10:08.063504",
     "exception": false,
     "start_time": "2022-03-23T10:10:08.035076",
     "status": "completed"
    },
    "tags": []
   },
   "source": [
    "## Filter data to get 3 and 8 out"
   ]
  },
  {
   "cell_type": "code",
   "execution_count": 10,
   "id": "776f7fc7",
   "metadata": {
    "execution": {
     "iopub.execute_input": "2022-03-23T10:10:08.128372Z",
     "iopub.status.busy": "2022-03-23T10:10:08.127784Z",
     "iopub.status.idle": "2022-03-23T10:10:08.146915Z",
     "shell.execute_reply": "2022-03-23T10:10:08.146461Z"
    },
    "papermill": {
     "duration": 0.055256,
     "end_time": "2022-03-23T10:10:08.147035",
     "exception": false,
     "start_time": "2022-03-23T10:10:08.091779",
     "status": "completed"
    },
    "tags": []
   },
   "outputs": [],
   "source": [
    "train_filter = np.where((train_labels == 3 ) | (train_labels == 8))\n",
    "test_filter = np.where((test_labels == 3) | (test_labels == 8))\n",
    "X_train, y_train = train_images[train_filter], train_labels[train_filter]\n",
    "X_test, y_test = test_images[test_filter], test_labels[test_filter]"
   ]
  },
  {
   "cell_type": "markdown",
   "id": "948f0b7e",
   "metadata": {
    "papermill": {
     "duration": 0.028087,
     "end_time": "2022-03-23T10:10:08.203099",
     "exception": false,
     "start_time": "2022-03-23T10:10:08.175012",
     "status": "completed"
    },
    "tags": []
   },
   "source": [
    "We normalize the pizel values in the 0 to 1 range"
   ]
  },
  {
   "cell_type": "code",
   "execution_count": 11,
   "id": "ee4c2166",
   "metadata": {
    "execution": {
     "iopub.execute_input": "2022-03-23T10:10:08.264155Z",
     "iopub.status.busy": "2022-03-23T10:10:08.263603Z",
     "iopub.status.idle": "2022-03-23T10:10:08.316992Z",
     "shell.execute_reply": "2022-03-23T10:10:08.317805Z"
    },
    "papermill": {
     "duration": 0.087196,
     "end_time": "2022-03-23T10:10:08.318059",
     "exception": false,
     "start_time": "2022-03-23T10:10:08.230863",
     "status": "completed"
    },
    "tags": []
   },
   "outputs": [],
   "source": [
    "X_train = X_train/255.\n",
    "X_test = X_test/255."
   ]
  },
  {
   "cell_type": "markdown",
   "id": "ddcf4fab",
   "metadata": {
    "papermill": {
     "duration": 0.028514,
     "end_time": "2022-03-23T10:10:08.375728",
     "exception": false,
     "start_time": "2022-03-23T10:10:08.347214",
     "status": "completed"
    },
    "tags": []
   },
   "source": [
    "And setup the labels as 1 (when the digit is 3) and 0 (when the digit is 8)"
   ]
  },
  {
   "cell_type": "code",
   "execution_count": 12,
   "id": "7dc908f2",
   "metadata": {
    "execution": {
     "iopub.execute_input": "2022-03-23T10:10:08.436945Z",
     "iopub.status.busy": "2022-03-23T10:10:08.436354Z",
     "iopub.status.idle": "2022-03-23T10:10:08.450731Z",
     "shell.execute_reply": "2022-03-23T10:10:08.450258Z"
    },
    "papermill": {
     "duration": 0.046923,
     "end_time": "2022-03-23T10:10:08.450842",
     "exception": false,
     "start_time": "2022-03-23T10:10:08.403919",
     "status": "completed"
    },
    "tags": []
   },
   "outputs": [],
   "source": [
    "y_train = 1*(y_train==3)\n",
    "y_test = 1*(y_test==3)"
   ]
  },
  {
   "cell_type": "code",
   "execution_count": 13,
   "id": "01e4e969",
   "metadata": {
    "execution": {
     "iopub.execute_input": "2022-03-23T10:10:08.511899Z",
     "iopub.status.busy": "2022-03-23T10:10:08.510808Z",
     "iopub.status.idle": "2022-03-23T10:10:08.527127Z",
     "shell.execute_reply": "2022-03-23T10:10:08.526676Z"
    },
    "papermill": {
     "duration": 0.048294,
     "end_time": "2022-03-23T10:10:08.527246",
     "exception": false,
     "start_time": "2022-03-23T10:10:08.478952",
     "status": "completed"
    },
    "tags": []
   },
   "outputs": [
    {
     "data": {
      "text/plain": [
       "((11982, 28, 28), (1984, 28, 28))"
      ]
     },
     "execution_count": 13,
     "metadata": {},
     "output_type": "execute_result"
    }
   ],
   "source": [
    "X_train.shape, X_test.shape"
   ]
  },
  {
   "cell_type": "markdown",
   "id": "5ccf3f85",
   "metadata": {
    "papermill": {
     "duration": 0.028379,
     "end_time": "2022-03-23T10:10:08.583961",
     "exception": false,
     "start_time": "2022-03-23T10:10:08.555582",
     "status": "completed"
    },
    "tags": []
   },
   "source": [
    "We reshape the data to flatten the image pixels into a set of features or co-variates:"
   ]
  },
  {
   "cell_type": "code",
   "execution_count": 14,
   "id": "5286a4a3",
   "metadata": {
    "execution": {
     "iopub.execute_input": "2022-03-23T10:10:08.648433Z",
     "iopub.status.busy": "2022-03-23T10:10:08.647828Z",
     "iopub.status.idle": "2022-03-23T10:10:08.664359Z",
     "shell.execute_reply": "2022-03-23T10:10:08.664799Z"
    },
    "papermill": {
     "duration": 0.051353,
     "end_time": "2022-03-23T10:10:08.664938",
     "exception": false,
     "start_time": "2022-03-23T10:10:08.613585",
     "status": "completed"
    },
    "tags": []
   },
   "outputs": [
    {
     "data": {
      "text/plain": [
       "((11982, 784), (1984, 784))"
      ]
     },
     "execution_count": 14,
     "metadata": {},
     "output_type": "execute_result"
    }
   ],
   "source": [
    "X_train = X_train.reshape(X_train.shape[0], -1)\n",
    "X_test = X_test.reshape(X_test.shape[0], -1)\n",
    "X_train.shape, X_test.shape"
   ]
  },
  {
   "cell_type": "code",
   "execution_count": 15,
   "id": "73c5f88a",
   "metadata": {
    "execution": {
     "iopub.execute_input": "2022-03-23T10:10:08.737259Z",
     "iopub.status.busy": "2022-03-23T10:10:08.733025Z",
     "iopub.status.idle": "2022-03-23T10:10:08.750221Z",
     "shell.execute_reply": "2022-03-23T10:10:08.749776Z"
    },
    "papermill": {
     "duration": 0.056591,
     "end_time": "2022-03-23T10:10:08.750338",
     "exception": false,
     "start_time": "2022-03-23T10:10:08.693747",
     "status": "completed"
    },
    "tags": []
   },
   "outputs": [],
   "source": [
    "#Impoting functions from 'Kudzu'\n",
    "from kudzu.model import Model\n",
    "from kudzu.train import Learner\n",
    "from kudzu.optim import GD\n",
    "from kudzu.data import Data, Sampler,Dataloader\n",
    "\n",
    "from kudzu.callbacks import AccCallback\n",
    "from kudzu.callbacks import ClfCallback\n",
    "\n",
    "from kudzu.loss import MSE\n",
    "\n",
    "from kudzu.layer import Sigmoid,Relu\n",
    "from kudzu.layer import Affine"
   ]
  },
  {
   "cell_type": "markdown",
   "id": "bc01172a",
   "metadata": {
    "papermill": {
     "duration": 0.028599,
     "end_time": "2022-03-23T10:10:08.807456",
     "exception": false,
     "start_time": "2022-03-23T10:10:08.778857",
     "status": "completed"
    },
    "tags": []
   },
   "source": [
    "### Let us create a `Config` class, to store important parameters. \n",
    "This class essentially plays the role of a dictionary."
   ]
  },
  {
   "cell_type": "code",
   "execution_count": 16,
   "id": "978281aa",
   "metadata": {
    "execution": {
     "iopub.execute_input": "2022-03-23T10:10:08.877374Z",
     "iopub.status.busy": "2022-03-23T10:10:08.876758Z",
     "iopub.status.idle": "2022-03-23T10:10:08.887700Z",
     "shell.execute_reply": "2022-03-23T10:10:08.888207Z"
    },
    "papermill": {
     "duration": 0.051085,
     "end_time": "2022-03-23T10:10:08.888349",
     "exception": false,
     "start_time": "2022-03-23T10:10:08.837264",
     "status": "completed"
    },
    "tags": []
   },
   "outputs": [],
   "source": [
    "class Config:\n",
    "    pass\n",
    "config = Config()\n",
    "config.lr = 0.001\n",
    "config.num_epochs = 250\n",
    "config.bs = 50"
   ]
  },
  {
   "cell_type": "markdown",
   "id": "1385fa59",
   "metadata": {
    "papermill": {
     "duration": 0.028479,
     "end_time": "2022-03-23T10:10:08.946334",
     "exception": false,
     "start_time": "2022-03-23T10:10:08.917855",
     "status": "completed"
    },
    "tags": []
   },
   "source": [
    "### Running Models with the Training data\n",
    "Details about the network layers:\n",
    "- A first affine layer has 784 inputs and does 100 affine transforms. These are followed by a Relu\n",
    "- A second affine layer has 100 inputs from the 100 activations of the past layer, and does 100 affine transforms. These are followed by a Relu\n",
    "- A third affine layer has 100 activations and does 2 affine transformations to create an embedding for visualization. There is no non-linearity here.\n",
    "- A final \"logistic regression\" which has an affine transform from 2 inputs to 1 output, which is squeezed through a sigmoid.\n"
   ]
  },
  {
   "cell_type": "code",
   "execution_count": 17,
   "id": "2b9c66db",
   "metadata": {
    "execution": {
     "iopub.execute_input": "2022-03-23T10:10:09.009593Z",
     "iopub.status.busy": "2022-03-23T10:10:09.009037Z",
     "iopub.status.idle": "2022-03-23T10:10:09.022115Z",
     "shell.execute_reply": "2022-03-23T10:10:09.021642Z"
    },
    "papermill": {
     "duration": 0.047036,
     "end_time": "2022-03-23T10:10:09.022228",
     "exception": false,
     "start_time": "2022-03-23T10:10:08.975192",
     "status": "completed"
    },
    "tags": []
   },
   "outputs": [],
   "source": [
    "data = Data(X_train, y_train.reshape(-1,1))\n",
    "sampler = Sampler(data, config.bs, shuffle=True)\n",
    "\n",
    "dl = Dataloader(data, sampler)\n",
    "\n",
    "opt = GD(config.lr)\n",
    "loss = MSE()"
   ]
  },
  {
   "cell_type": "code",
   "execution_count": 18,
   "id": "b275e4c2",
   "metadata": {
    "execution": {
     "iopub.execute_input": "2022-03-23T10:10:09.085985Z",
     "iopub.status.busy": "2022-03-23T10:10:09.085401Z",
     "iopub.status.idle": "2022-03-23T10:10:09.100100Z",
     "shell.execute_reply": "2022-03-23T10:10:09.099629Z"
    },
    "papermill": {
     "duration": 0.049438,
     "end_time": "2022-03-23T10:10:09.100212",
     "exception": false,
     "start_time": "2022-03-23T10:10:09.050774",
     "status": "completed"
    },
    "tags": []
   },
   "outputs": [],
   "source": [
    "training_data_x = X_train\n",
    "testing_data_x = X_test\n",
    "training_data_y = y_train.reshape(-1,1)\n",
    "testing_data_y = y_test.reshape(-1,1)"
   ]
  },
  {
   "cell_type": "code",
   "execution_count": 19,
   "id": "76951160",
   "metadata": {
    "execution": {
     "iopub.execute_input": "2022-03-23T10:10:09.162735Z",
     "iopub.status.busy": "2022-03-23T10:10:09.162139Z",
     "iopub.status.idle": "2022-03-23T10:10:09.179716Z",
     "shell.execute_reply": "2022-03-23T10:10:09.179247Z"
    },
    "papermill": {
     "duration": 0.050718,
     "end_time": "2022-03-23T10:10:09.179832",
     "exception": false,
     "start_time": "2022-03-23T10:10:09.129114",
     "status": "completed"
    },
    "tags": []
   },
   "outputs": [
    {
     "name": "stdout",
     "output_type": "stream",
     "text": [
      "xavier\n",
      "xavier\n",
      "xavier\n",
      "xavier\n",
      "xavier\n"
     ]
    }
   ],
   "source": [
    "layers = [Affine(\"first\", 784, 100), Relu(\"first\"), Affine(\"second\", 100, 100), Relu(\"second\"), Affine(\"third\", 100, 2), Affine(\"last\", 2, 1), Sigmoid(\"last\")]\n",
    "model_nn = Model(layers)\n",
    "model_lr = Model([Affine(\"logits\", 784, 1), Sigmoid(\"sigmoid\")])"
   ]
  },
  {
   "cell_type": "code",
   "execution_count": 20,
   "id": "6eede77a",
   "metadata": {
    "execution": {
     "iopub.execute_input": "2022-03-23T10:10:09.242753Z",
     "iopub.status.busy": "2022-03-23T10:10:09.242196Z",
     "iopub.status.idle": "2022-03-23T10:10:09.255079Z",
     "shell.execute_reply": "2022-03-23T10:10:09.254614Z"
    },
    "papermill": {
     "duration": 0.046279,
     "end_time": "2022-03-23T10:10:09.255188",
     "exception": false,
     "start_time": "2022-03-23T10:10:09.208909",
     "status": "completed"
    },
    "tags": []
   },
   "outputs": [],
   "source": [
    "nn_learner = Learner(loss, model_nn, opt, config.num_epochs)\n",
    "acc_nn = ClfCallback(nn_learner, config.bs, training_data_x , testing_data_x, training_data_y, testing_data_y)\n",
    "nn_learner.set_callbacks([acc_nn])"
   ]
  },
  {
   "cell_type": "code",
   "execution_count": 21,
   "id": "877b6cc7",
   "metadata": {
    "execution": {
     "iopub.execute_input": "2022-03-23T10:10:09.319854Z",
     "iopub.status.busy": "2022-03-23T10:10:09.319301Z",
     "iopub.status.idle": "2022-03-23T10:10:09.333694Z",
     "shell.execute_reply": "2022-03-23T10:10:09.333254Z"
    },
    "papermill": {
     "duration": 0.049008,
     "end_time": "2022-03-23T10:10:09.333808",
     "exception": false,
     "start_time": "2022-03-23T10:10:09.284800",
     "status": "completed"
    },
    "tags": []
   },
   "outputs": [],
   "source": [
    "lr_learner = Learner(loss, model_lr, opt, config.num_epochs)\n",
    "acc_lr = ClfCallback(lr_learner, config.bs, training_data_x , testing_data_x, training_data_y, testing_data_y)\n",
    "lr_learner.set_callbacks([acc_lr])"
   ]
  },
  {
   "cell_type": "code",
   "execution_count": 22,
   "id": "d9b133c3",
   "metadata": {
    "execution": {
     "iopub.execute_input": "2022-03-23T10:10:09.397496Z",
     "iopub.status.busy": "2022-03-23T10:10:09.396896Z",
     "iopub.status.idle": "2022-03-23T10:11:35.985130Z",
     "shell.execute_reply": "2022-03-23T10:11:35.985967Z"
    },
    "papermill": {
     "duration": 86.622765,
     "end_time": "2022-03-23T10:11:35.986120",
     "exception": false,
     "start_time": "2022-03-23T10:10:09.363355",
     "status": "completed"
    },
    "tags": []
   },
   "outputs": [
    {
     "name": "stdout",
     "output_type": "stream",
     "text": [
      "Epoch 0, Loss 0.252\n",
      "Training Accuracy: 0.5361, Testing Accuracy: 0.5161\n",
      "\n"
     ]
    },
    {
     "name": "stdout",
     "output_type": "stream",
     "text": [
      "Epoch 10, Loss 0.1519\n",
      "Training Accuracy: 0.8878, Testing Accuracy: 0.9007\n",
      "\n"
     ]
    },
    {
     "name": "stdout",
     "output_type": "stream",
     "text": [
      "Epoch 20, Loss 0.0751\n",
      "Training Accuracy: 0.9291, Testing Accuracy: 0.9370\n",
      "\n"
     ]
    },
    {
     "name": "stdout",
     "output_type": "stream",
     "text": [
      "Epoch 30, Loss 0.0524\n",
      "Training Accuracy: 0.9435, Testing Accuracy: 0.9531\n",
      "\n"
     ]
    },
    {
     "name": "stdout",
     "output_type": "stream",
     "text": [
      "Epoch 40, Loss 0.0428\n",
      "Training Accuracy: 0.9513, Testing Accuracy: 0.9617\n",
      "\n"
     ]
    },
    {
     "name": "stdout",
     "output_type": "stream",
     "text": [
      "Epoch 50, Loss 0.0378\n",
      "Training Accuracy: 0.9553, Testing Accuracy: 0.9627\n",
      "\n"
     ]
    },
    {
     "name": "stdout",
     "output_type": "stream",
     "text": [
      "Epoch 60, Loss 0.0347\n",
      "Training Accuracy: 0.9584, Testing Accuracy: 0.9647\n",
      "\n"
     ]
    },
    {
     "name": "stdout",
     "output_type": "stream",
     "text": [
      "Epoch 70, Loss 0.0325\n",
      "Training Accuracy: 0.9609, Testing Accuracy: 0.9662\n",
      "\n"
     ]
    },
    {
     "name": "stdout",
     "output_type": "stream",
     "text": [
      "Epoch 80, Loss 0.0309\n",
      "Training Accuracy: 0.9641, Testing Accuracy: 0.9688\n",
      "\n"
     ]
    },
    {
     "name": "stdout",
     "output_type": "stream",
     "text": [
      "Epoch 90, Loss 0.0295\n",
      "Training Accuracy: 0.9653, Testing Accuracy: 0.9688\n",
      "\n"
     ]
    },
    {
     "name": "stdout",
     "output_type": "stream",
     "text": [
      "Epoch 100, Loss 0.0284\n",
      "Training Accuracy: 0.9664, Testing Accuracy: 0.9708\n",
      "\n"
     ]
    },
    {
     "name": "stdout",
     "output_type": "stream",
     "text": [
      "Epoch 110, Loss 0.0275\n",
      "Training Accuracy: 0.9680, Testing Accuracy: 0.9698\n",
      "\n"
     ]
    },
    {
     "name": "stdout",
     "output_type": "stream",
     "text": [
      "Epoch 120, Loss 0.0267\n",
      "Training Accuracy: 0.9690, Testing Accuracy: 0.9698\n",
      "\n"
     ]
    },
    {
     "name": "stdout",
     "output_type": "stream",
     "text": [
      "Epoch 130, Loss 0.0259\n",
      "Training Accuracy: 0.9697, Testing Accuracy: 0.9698\n",
      "\n"
     ]
    },
    {
     "name": "stdout",
     "output_type": "stream",
     "text": [
      "Epoch 140, Loss 0.0253\n",
      "Training Accuracy: 0.9709, Testing Accuracy: 0.9698\n",
      "\n"
     ]
    },
    {
     "name": "stdout",
     "output_type": "stream",
     "text": [
      "Epoch 150, Loss 0.0247\n",
      "Training Accuracy: 0.9719, Testing Accuracy: 0.9703\n",
      "\n"
     ]
    },
    {
     "name": "stdout",
     "output_type": "stream",
     "text": [
      "Epoch 160, Loss 0.0241\n",
      "Training Accuracy: 0.9726, Testing Accuracy: 0.9703\n",
      "\n"
     ]
    },
    {
     "name": "stdout",
     "output_type": "stream",
     "text": [
      "Epoch 170, Loss 0.0236\n",
      "Training Accuracy: 0.9730, Testing Accuracy: 0.9693\n",
      "\n"
     ]
    },
    {
     "name": "stdout",
     "output_type": "stream",
     "text": [
      "Epoch 180, Loss 0.0231\n",
      "Training Accuracy: 0.9735, Testing Accuracy: 0.9693\n",
      "\n"
     ]
    },
    {
     "name": "stdout",
     "output_type": "stream",
     "text": [
      "Epoch 190, Loss 0.0227\n",
      "Training Accuracy: 0.9740, Testing Accuracy: 0.9693\n",
      "\n"
     ]
    },
    {
     "name": "stdout",
     "output_type": "stream",
     "text": [
      "Epoch 200, Loss 0.0223\n",
      "Training Accuracy: 0.9742, Testing Accuracy: 0.9698\n",
      "\n"
     ]
    },
    {
     "name": "stdout",
     "output_type": "stream",
     "text": [
      "Epoch 210, Loss 0.0219\n",
      "Training Accuracy: 0.9747, Testing Accuracy: 0.9693\n",
      "\n"
     ]
    },
    {
     "name": "stdout",
     "output_type": "stream",
     "text": [
      "Epoch 220, Loss 0.0215\n",
      "Training Accuracy: 0.9757, Testing Accuracy: 0.9688\n",
      "\n"
     ]
    },
    {
     "name": "stdout",
     "output_type": "stream",
     "text": [
      "Epoch 230, Loss 0.0211\n",
      "Training Accuracy: 0.9759, Testing Accuracy: 0.9693\n",
      "\n"
     ]
    },
    {
     "name": "stdout",
     "output_type": "stream",
     "text": [
      "Epoch 240, Loss 0.0208\n",
      "Training Accuracy: 0.9765, Testing Accuracy: 0.9698\n",
      "\n"
     ]
    },
    {
     "data": {
      "text/plain": [
       "0.011174147569805906"
      ]
     },
     "execution_count": 22,
     "metadata": {},
     "output_type": "execute_result"
    }
   ],
   "source": [
    "nn_learner.train_loop(dl)"
   ]
  },
  {
   "cell_type": "code",
   "execution_count": 23,
   "id": "e0163366",
   "metadata": {
    "execution": {
     "iopub.execute_input": "2022-03-23T10:11:36.070443Z",
     "iopub.status.busy": "2022-03-23T10:11:36.069833Z",
     "iopub.status.idle": "2022-03-23T10:11:51.142739Z",
     "shell.execute_reply": "2022-03-23T10:11:51.143520Z"
    },
    "papermill": {
     "duration": 15.118735,
     "end_time": "2022-03-23T10:11:51.143671",
     "exception": false,
     "start_time": "2022-03-23T10:11:36.024936",
     "status": "completed"
    },
    "tags": []
   },
   "outputs": [
    {
     "name": "stdout",
     "output_type": "stream",
     "text": [
      "Epoch 0, Loss 0.2544\n",
      "Training Accuracy: 0.6546, Testing Accuracy: 0.6764\n",
      "\n"
     ]
    },
    {
     "name": "stdout",
     "output_type": "stream",
     "text": [
      "Epoch 10, Loss 0.1022\n",
      "Training Accuracy: 0.9127, Testing Accuracy: 0.9234\n",
      "\n"
     ]
    },
    {
     "name": "stdout",
     "output_type": "stream",
     "text": [
      "Epoch 20, Loss 0.0787\n",
      "Training Accuracy: 0.9265, Testing Accuracy: 0.9375\n",
      "\n"
     ]
    },
    {
     "name": "stdout",
     "output_type": "stream",
     "text": [
      "Epoch 30, Loss 0.068\n",
      "Training Accuracy: 0.9353, Testing Accuracy: 0.9471\n",
      "\n"
     ]
    },
    {
     "name": "stdout",
     "output_type": "stream",
     "text": [
      "Epoch 40, Loss 0.0615\n",
      "Training Accuracy: 0.9405, Testing Accuracy: 0.9516\n",
      "\n"
     ]
    },
    {
     "name": "stdout",
     "output_type": "stream",
     "text": [
      "Epoch 50, Loss 0.0571\n",
      "Training Accuracy: 0.9437, Testing Accuracy: 0.9556\n",
      "\n"
     ]
    },
    {
     "name": "stdout",
     "output_type": "stream",
     "text": [
      "Epoch 60, Loss 0.0539\n",
      "Training Accuracy: 0.9461, Testing Accuracy: 0.9561\n",
      "\n"
     ]
    },
    {
     "name": "stdout",
     "output_type": "stream",
     "text": [
      "Epoch 70, Loss 0.0513\n",
      "Training Accuracy: 0.9474, Testing Accuracy: 0.9592\n",
      "\n"
     ]
    },
    {
     "name": "stdout",
     "output_type": "stream",
     "text": [
      "Epoch 80, Loss 0.0493\n",
      "Training Accuracy: 0.9501, Testing Accuracy: 0.9607\n",
      "\n"
     ]
    },
    {
     "name": "stdout",
     "output_type": "stream",
     "text": [
      "Epoch 90, Loss 0.0476\n",
      "Training Accuracy: 0.9514, Testing Accuracy: 0.9632\n",
      "\n"
     ]
    },
    {
     "name": "stdout",
     "output_type": "stream",
     "text": [
      "Epoch 100, Loss 0.0462\n",
      "Training Accuracy: 0.9528, Testing Accuracy: 0.9637\n",
      "\n"
     ]
    },
    {
     "name": "stdout",
     "output_type": "stream",
     "text": [
      "Epoch 110, Loss 0.045\n",
      "Training Accuracy: 0.9541, Testing Accuracy: 0.9642\n",
      "\n"
     ]
    },
    {
     "name": "stdout",
     "output_type": "stream",
     "text": [
      "Epoch 120, Loss 0.0439\n",
      "Training Accuracy: 0.9548, Testing Accuracy: 0.9642\n",
      "\n"
     ]
    },
    {
     "name": "stdout",
     "output_type": "stream",
     "text": [
      "Epoch 130, Loss 0.043\n",
      "Training Accuracy: 0.9559, Testing Accuracy: 0.9642\n",
      "\n"
     ]
    },
    {
     "name": "stdout",
     "output_type": "stream",
     "text": [
      "Epoch 140, Loss 0.0422\n",
      "Training Accuracy: 0.9565, Testing Accuracy: 0.9647\n",
      "\n"
     ]
    },
    {
     "name": "stdout",
     "output_type": "stream",
     "text": [
      "Epoch 150, Loss 0.0414\n",
      "Training Accuracy: 0.9571, Testing Accuracy: 0.9652\n",
      "\n"
     ]
    },
    {
     "name": "stdout",
     "output_type": "stream",
     "text": [
      "Epoch 160, Loss 0.0407\n",
      "Training Accuracy: 0.9575, Testing Accuracy: 0.9647\n",
      "\n"
     ]
    },
    {
     "name": "stdout",
     "output_type": "stream",
     "text": [
      "Epoch 170, Loss 0.0401\n",
      "Training Accuracy: 0.9581, Testing Accuracy: 0.9647\n",
      "\n"
     ]
    },
    {
     "name": "stdout",
     "output_type": "stream",
     "text": [
      "Epoch 180, Loss 0.0396\n",
      "Training Accuracy: 0.9583, Testing Accuracy: 0.9647\n",
      "\n"
     ]
    },
    {
     "name": "stdout",
     "output_type": "stream",
     "text": [
      "Epoch 190, Loss 0.0391\n",
      "Training Accuracy: 0.9586, Testing Accuracy: 0.9652\n",
      "\n"
     ]
    },
    {
     "name": "stdout",
     "output_type": "stream",
     "text": [
      "Epoch 200, Loss 0.0386\n",
      "Training Accuracy: 0.9593, Testing Accuracy: 0.9662\n",
      "\n"
     ]
    },
    {
     "name": "stdout",
     "output_type": "stream",
     "text": [
      "Epoch 210, Loss 0.0381\n",
      "Training Accuracy: 0.9598, Testing Accuracy: 0.9657\n",
      "\n"
     ]
    },
    {
     "name": "stdout",
     "output_type": "stream",
     "text": [
      "Epoch 220, Loss 0.0377\n",
      "Training Accuracy: 0.9603, Testing Accuracy: 0.9657\n",
      "\n"
     ]
    },
    {
     "name": "stdout",
     "output_type": "stream",
     "text": [
      "Epoch 230, Loss 0.0373\n",
      "Training Accuracy: 0.9605, Testing Accuracy: 0.9662\n",
      "\n"
     ]
    },
    {
     "name": "stdout",
     "output_type": "stream",
     "text": [
      "Epoch 240, Loss 0.037\n",
      "Training Accuracy: 0.9607, Testing Accuracy: 0.9662\n",
      "\n"
     ]
    },
    {
     "data": {
      "text/plain": [
       "0.02738868754262013"
      ]
     },
     "execution_count": 23,
     "metadata": {},
     "output_type": "execute_result"
    }
   ],
   "source": [
    "lr_learner.train_loop(dl)"
   ]
  },
  {
   "cell_type": "code",
   "execution_count": 24,
   "id": "ca410940",
   "metadata": {
    "execution": {
     "iopub.execute_input": "2022-03-23T10:11:51.245951Z",
     "iopub.status.busy": "2022-03-23T10:11:51.245349Z",
     "iopub.status.idle": "2022-03-23T10:11:51.491719Z",
     "shell.execute_reply": "2022-03-23T10:11:51.491221Z"
    },
    "papermill": {
     "duration": 0.304166,
     "end_time": "2022-03-23T10:11:51.491846",
     "exception": false,
     "start_time": "2022-03-23T10:11:51.187680",
     "status": "completed"
    },
    "tags": []
   },
   "outputs": [
    {
     "data": {
      "text/plain": [
       "<matplotlib.legend.Legend at 0x7fc77e214d30>"
      ]
     },
     "execution_count": 24,
     "metadata": {},
     "output_type": "execute_result"
    },
    {
     "data": {
      "image/png": "[encoded data removed]",
      "text/plain": [
       "<Figure size 1080x720 with 1 Axes>"
      ]
     },
     "metadata": {
      "needs_background": "light"
     },
     "output_type": "display_data"
    }
   ],
   "source": [
    "#comparing the results of NN and LR\n",
    "plt.figure(figsize=(15,10))\n",
    "\n",
    "# Neural Network plots\n",
    "plt.plot(acc_nn.accuracies, 'r-', label = \"Training Accuracies - NN\")\n",
    "plt.plot(acc_nn.test_accuracies, 'g-', label = \"Testing Accuracies - NN\")\n",
    "\n",
    "# Logistic Regression plots\n",
    "plt.plot(acc_lr.accuracies, 'k-', label = \"Training Accuracies - LR\")\n",
    "plt.plot(acc_lr.test_accuracies, 'b-', label = \"Testing Accuracies - LR\")\n",
    "plt.legend()"
   ]
  },
  {
   "cell_type": "markdown",
   "id": "80dfb35c",
   "metadata": {
    "papermill": {
     "duration": 0.045111,
     "end_time": "2022-03-23T10:11:51.582325",
     "exception": false,
     "start_time": "2022-03-23T10:11:51.537214",
     "status": "completed"
    },
    "tags": []
   },
   "source": [
    "#### Plotting the outputs of this layer of the NN.\n"
   ]
  },
  {
   "cell_type": "code",
   "execution_count": 25,
   "id": "45eb2ff5",
   "metadata": {
    "execution": {
     "iopub.execute_input": "2022-03-23T10:11:51.680026Z",
     "iopub.status.busy": "2022-03-23T10:11:51.678488Z",
     "iopub.status.idle": "2022-03-23T10:11:51.699480Z",
     "shell.execute_reply": "2022-03-23T10:11:51.699948Z"
    },
    "papermill": {
     "duration": 0.072177,
     "end_time": "2022-03-23T10:11:51.700104",
     "exception": false,
     "start_time": "2022-03-23T10:11:51.627927",
     "status": "completed"
    },
    "tags": []
   },
   "outputs": [],
   "source": [
    "new_model = Model(layers[:-2])\n",
    "testing_plot = new_model(testing_data_x)"
   ]
  },
  {
   "cell_type": "code",
   "execution_count": 26,
   "id": "4c0a5485",
   "metadata": {
    "execution": {
     "iopub.execute_input": "2022-03-23T10:11:51.810860Z",
     "iopub.status.busy": "2022-03-23T10:11:51.799566Z",
     "iopub.status.idle": "2022-03-23T10:11:52.027001Z",
     "shell.execute_reply": "2022-03-23T10:11:52.026474Z"
    },
    "papermill": {
     "duration": 0.280546,
     "end_time": "2022-03-23T10:11:52.027131",
     "exception": false,
     "start_time": "2022-03-23T10:11:51.746585",
     "status": "completed"
    },
    "tags": []
   },
   "outputs": [
    {
     "data": {
      "text/plain": [
       "Text(0.5, 1.0, 'Outputs')"
      ]
     },
     "execution_count": 26,
     "metadata": {},
     "output_type": "execute_result"
    },
    {
     "data": {
      "image/png": "[encoded data removed]",
      "text/plain": [
       "<Figure size 576x504 with 1 Axes>"
      ]
     },
     "metadata": {
      "needs_background": "light"
     },
     "output_type": "display_data"
    }
   ],
   "source": [
    "# Plotting the scatter plot of points and color coding by class\n",
    "plt.figure(figsize=(8,7))\n",
    "plt.scatter(testing_plot[:,0], testing_plot[:,1], alpha = 0.1, c = y_test.ravel());\n",
    "plt.title('Outputs')"
   ]
  },
  {
   "cell_type": "markdown",
   "id": "a74fcf8f",
   "metadata": {
    "papermill": {
     "duration": 0.047424,
     "end_time": "2022-03-23T10:11:52.122678",
     "exception": false,
     "start_time": "2022-03-23T10:11:52.075254",
     "status": "completed"
    },
    "tags": []
   },
   "source": [
    "Probability contours"
   ]
  },
  {
   "cell_type": "code",
   "execution_count": 27,
   "id": "d0afc8e3",
   "metadata": {
    "execution": {
     "iopub.execute_input": "2022-03-23T10:11:52.226666Z",
     "iopub.status.busy": "2022-03-23T10:11:52.225585Z",
     "iopub.status.idle": "2022-03-23T10:11:52.235416Z",
     "shell.execute_reply": "2022-03-23T10:11:52.235888Z"
    },
    "papermill": {
     "duration": 0.065972,
     "end_time": "2022-03-23T10:11:52.236045",
     "exception": false,
     "start_time": "2022-03-23T10:11:52.170073",
     "status": "completed"
    },
    "tags": []
   },
   "outputs": [],
   "source": [
    "model_prob = Model(layers[-2:]) "
   ]
  },
  {
   "cell_type": "code",
   "execution_count": 28,
   "id": "9b96e238",
   "metadata": {
    "execution": {
     "iopub.execute_input": "2022-03-23T10:11:52.338464Z",
     "iopub.status.busy": "2022-03-23T10:11:52.337857Z",
     "iopub.status.idle": "2022-03-23T10:11:52.352906Z",
     "shell.execute_reply": "2022-03-23T10:11:52.353352Z"
    },
    "papermill": {
     "duration": 0.069287,
     "end_time": "2022-03-23T10:11:52.353490",
     "exception": false,
     "start_time": "2022-03-23T10:11:52.284203",
     "status": "completed"
    },
    "tags": []
   },
   "outputs": [],
   "source": [
    "#creating the x and y ranges according to the above generated plot.\n",
    "x_range = np.linspace(-4, 1, 100) \n",
    "y_range = np.linspace(-6, 6, 100) \n",
    "x_grid, y_grid = np.meshgrid(x_range, y_range) # x_grid and y_grig are of size 100 X 100\n",
    "\n",
    "# converting x_grid and y_grid to continuous arrays\n",
    "x_gridflat = np.ravel(x_grid)\n",
    "y_gridflat = np.ravel(y_grid)\n",
    "\n",
    "# The last layer of the current model takes two columns as input. Hence transpose of np.vstack() is required.\n",
    "X = np.vstack((x_gridflat, y_gridflat)).T\n",
    "\n",
    "prob_contour = model_prob(X).reshape(100,100) "
   ]
  },
  {
   "cell_type": "code",
   "execution_count": 29,
   "id": "da72499a",
   "metadata": {
    "execution": {
     "iopub.execute_input": "2022-03-23T10:11:52.480977Z",
     "iopub.status.busy": "2022-03-23T10:11:52.480351Z",
     "iopub.status.idle": "2022-03-23T10:11:52.759822Z",
     "shell.execute_reply": "2022-03-23T10:11:52.758936Z"
    },
    "papermill": {
     "duration": 0.330997,
     "end_time": "2022-03-23T10:11:52.759959",
     "exception": false,
     "start_time": "2022-03-23T10:11:52.428962",
     "status": "completed"
    },
    "tags": []
   },
   "outputs": [
    {
     "data": {
      "image/png": "[encoded data removed]",
      "text/plain": [
       "<Figure size 720x648 with 1 Axes>"
      ]
     },
     "metadata": {
      "needs_background": "light"
     },
     "output_type": "display_data"
    }
   ],
   "source": [
    "plt.figure(figsize=(10,9))\n",
    "plt.scatter(testing_plot[:,0], testing_plot[:,1], alpha = 0.1, c = y_test.ravel())\n",
    "contours = plt.contour(x_grid,y_grid,prob_contour)\n",
    "plt.title('Probability Contours')\n",
    "plt.clabel(contours, inline = True );"
   ]
  },
  {
   "cell_type": "code",
   "execution_count": null,
   "id": "e81b4ac7",
   "metadata": {
    "papermill": {
     "duration": 0.050686,
     "end_time": "2022-03-23T10:11:52.862738",
     "exception": false,
     "start_time": "2022-03-23T10:11:52.812052",
     "status": "completed"
    },
    "tags": []
   },
   "outputs": [],
   "source": []
  }
 ],
 "metadata": {
  "kernelspec": {
   "display_name": "Python 3",
   "language": "python",
   "name": "python3"
  },
  "language_info": {
   "codemirror_mode": {
    "name": "ipython",
    "version": 3
   },
   "file_extension": ".py",
   "mimetype": "text/x-python",
   "name": "python",
   "nbconvert_exporter": "python",
   "pygments_lexer": "ipython3",
   "version": "3.6.15"
  },
  "papermill": {
   "default_parameters": {},
   "duration": 110.867025,
   "end_time": "2022-03-23T10:11:53.337322",
   "environment_variables": {},
   "exception": null,
   "input_path": "2020-08-11-part2.ipynb",
   "output_path": "2020-08-11-part2.ipynb",
   "parameters": {},
   "start_time": "2022-03-23T10:10:02.470297",
   "version": "2.3.3"
  }
 },
 "nbformat": 4,
 "nbformat_minor": 5
}