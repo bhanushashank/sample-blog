{
 "cells": [
  {
   "cell_type": "markdown",
   "id": "98380cd3",
   "metadata": {
    "papermill": {
     "duration": 0.031344,
     "end_time": "2021-10-23T10:06:57.034569",
     "exception": false,
     "start_time": "2021-10-23T10:06:57.003225",
     "status": "completed"
    },
    "tags": []
   },
   "source": [
    "# Distinguish Your Own Digits (DYOD)"
   ]
  },
  {
   "cell_type": "markdown",
   "id": "ef31240d",
   "metadata": {
    "papermill": {
     "duration": 0.025187,
     "end_time": "2021-10-23T10:06:57.086152",
     "exception": false,
     "start_time": "2021-10-23T10:06:57.060965",
     "status": "completed"
    },
    "tags": []
   },
   "source": [
    "You are going to write a classifier that distinguishes between the number 3 and number 8."
   ]
  },
  {
   "cell_type": "code",
   "execution_count": 1,
   "id": "b15c8646",
   "metadata": {
    "execution": {
     "iopub.execute_input": "2021-10-23T10:06:57.153103Z",
     "iopub.status.busy": "2021-10-23T10:06:57.152493Z",
     "iopub.status.idle": "2021-10-23T10:06:57.163894Z",
     "shell.execute_reply": "2021-10-23T10:06:57.164320Z"
    },
    "papermill": {
     "duration": 0.051079,
     "end_time": "2021-10-23T10:06:57.164577",
     "exception": false,
     "start_time": "2021-10-23T10:06:57.113498",
     "status": "completed"
    },
    "tags": []
   },
   "outputs": [],
   "source": [
    "%load_ext autoreload\n",
    "%autoreload 2"
   ]
  },
  {
   "cell_type": "code",
   "execution_count": 2,
   "id": "22ef38dc",
   "metadata": {
    "execution": {
     "iopub.execute_input": "2021-10-23T10:06:57.220315Z",
     "iopub.status.busy": "2021-10-23T10:06:57.219713Z",
     "iopub.status.idle": "2021-10-23T10:06:57.744584Z",
     "shell.execute_reply": "2021-10-23T10:06:57.743653Z"
    },
    "papermill": {
     "duration": 0.555827,
     "end_time": "2021-10-23T10:06:57.744810",
     "exception": false,
     "start_time": "2021-10-23T10:06:57.188983",
     "status": "completed"
    },
    "tags": []
   },
   "outputs": [],
   "source": [
    "%matplotlib inline\n",
    "import numpy as np\n",
    "import matplotlib.pyplot as plt\n",
    "import pandas as pd"
   ]
  },
  {
   "cell_type": "markdown",
   "id": "ba036198",
   "metadata": {
    "papermill": {
     "duration": 0.025049,
     "end_time": "2021-10-23T10:06:57.797931",
     "exception": false,
     "start_time": "2021-10-23T10:06:57.772882",
     "status": "completed"
    },
    "tags": []
   },
   "source": [
    "From the command line run `pip install mnist`. This is a library that will help you bring down the mnist dataset. If you run this from a notebook, you need to put  `!pip install mnist` in a cell by itself."
   ]
  },
  {
   "cell_type": "code",
   "execution_count": 3,
   "id": "bb6ad8a1",
   "metadata": {
    "execution": {
     "iopub.execute_input": "2021-10-23T10:06:57.852385Z",
     "iopub.status.busy": "2021-10-23T10:06:57.851887Z",
     "iopub.status.idle": "2021-10-23T10:06:59.537715Z",
     "shell.execute_reply": "2021-10-23T10:06:59.538553Z"
    },
    "papermill": {
     "duration": 1.717144,
     "end_time": "2021-10-23T10:06:59.538812",
     "exception": false,
     "start_time": "2021-10-23T10:06:57.821668",
     "status": "completed"
    },
    "tags": []
   },
   "outputs": [
    {
     "name": "stdout",
     "output_type": "stream",
     "text": [
      "Collecting mnist\r\n"
     ]
    },
    {
     "name": "stdout",
     "output_type": "stream",
     "text": [
      "  Downloading mnist-0.2.2-py2.py3-none-any.whl (3.5 kB)\r\n",
      "Requirement already satisfied: numpy in /opt/hostedtoolcache/Python/3.6.15/x64/lib/python3.6/site-packages (from mnist) (1.19.5)\r\n"
     ]
    },
    {
     "name": "stdout",
     "output_type": "stream",
     "text": [
      "Installing collected packages: mnist\r\n"
     ]
    },
    {
     "name": "stdout",
     "output_type": "stream",
     "text": [
      "Successfully installed mnist-0.2.2\r\n"
     ]
    },
    {
     "name": "stdout",
     "output_type": "stream",
     "text": [
      "\u001b[33mWARNING: You are using pip version 21.3; however, version 21.3.1 is available.\r\n",
      "You should consider upgrading via the '/opt/hostedtoolcache/Python/3.6.15/x64/bin/python -m pip install --upgrade pip' command.\u001b[0m\r\n"
     ]
    }
   ],
   "source": [
    "!pip install mnist"
   ]
  },
  {
   "cell_type": "markdown",
   "id": "69df9c9a",
   "metadata": {
    "papermill": {
     "duration": 0.024934,
     "end_time": "2021-10-23T10:06:59.587594",
     "exception": false,
     "start_time": "2021-10-23T10:06:59.562660",
     "status": "completed"
    },
    "tags": []
   },
   "source": [
    "## Preparing the Data"
   ]
  },
  {
   "cell_type": "code",
   "execution_count": 4,
   "id": "7f69d806",
   "metadata": {
    "execution": {
     "iopub.execute_input": "2021-10-23T10:06:59.643506Z",
     "iopub.status.busy": "2021-10-23T10:06:59.642962Z",
     "iopub.status.idle": "2021-10-23T10:06:59.658640Z",
     "shell.execute_reply": "2021-10-23T10:06:59.658219Z"
    },
    "papermill": {
     "duration": 0.046103,
     "end_time": "2021-10-23T10:06:59.658744",
     "exception": false,
     "start_time": "2021-10-23T10:06:59.612641",
     "status": "completed"
    },
    "tags": []
   },
   "outputs": [],
   "source": [
    "import mnist"
   ]
  },
  {
   "cell_type": "code",
   "execution_count": 5,
   "id": "a411e44f",
   "metadata": {
    "execution": {
     "iopub.execute_input": "2021-10-23T10:06:59.713472Z",
     "iopub.status.busy": "2021-10-23T10:06:59.712845Z",
     "iopub.status.idle": "2021-10-23T10:07:00.242569Z",
     "shell.execute_reply": "2021-10-23T10:07:00.241852Z"
    },
    "papermill": {
     "duration": 0.559163,
     "end_time": "2021-10-23T10:07:00.242753",
     "exception": false,
     "start_time": "2021-10-23T10:06:59.683590",
     "status": "completed"
    },
    "tags": []
   },
   "outputs": [],
   "source": [
    "train_images = mnist.train_images()\n",
    "train_labels = mnist.train_labels()"
   ]
  },
  {
   "cell_type": "code",
   "execution_count": 6,
   "id": "dceab3a5",
   "metadata": {
    "execution": {
     "iopub.execute_input": "2021-10-23T10:07:00.303908Z",
     "iopub.status.busy": "2021-10-23T10:07:00.303204Z",
     "iopub.status.idle": "2021-10-23T10:07:00.320688Z",
     "shell.execute_reply": "2021-10-23T10:07:00.321226Z"
    },
    "papermill": {
     "duration": 0.048696,
     "end_time": "2021-10-23T10:07:00.321377",
     "exception": false,
     "start_time": "2021-10-23T10:07:00.272681",
     "status": "completed"
    },
    "tags": []
   },
   "outputs": [
    {
     "data": {
      "text/plain": [
       "((60000, 28, 28), (60000,))"
      ]
     },
     "execution_count": 6,
     "metadata": {},
     "output_type": "execute_result"
    }
   ],
   "source": [
    "train_images.shape, train_labels.shape"
   ]
  },
  {
   "cell_type": "code",
   "execution_count": 7,
   "id": "f50dc2bb",
   "metadata": {
    "execution": {
     "iopub.execute_input": "2021-10-23T10:07:00.384035Z",
     "iopub.status.busy": "2021-10-23T10:07:00.382995Z",
     "iopub.status.idle": "2021-10-23T10:07:00.491253Z",
     "shell.execute_reply": "2021-10-23T10:07:00.490726Z"
    },
    "papermill": {
     "duration": 0.138908,
     "end_time": "2021-10-23T10:07:00.491386",
     "exception": false,
     "start_time": "2021-10-23T10:07:00.352478",
     "status": "completed"
    },
    "tags": []
   },
   "outputs": [],
   "source": [
    "test_images = mnist.test_images()\n",
    "test_labels = mnist.test_labels()"
   ]
  },
  {
   "cell_type": "code",
   "execution_count": 8,
   "id": "fc38cf1b",
   "metadata": {
    "execution": {
     "iopub.execute_input": "2021-10-23T10:07:00.553318Z",
     "iopub.status.busy": "2021-10-23T10:07:00.552742Z",
     "iopub.status.idle": "2021-10-23T10:07:00.566162Z",
     "shell.execute_reply": "2021-10-23T10:07:00.565695Z"
    },
    "papermill": {
     "duration": 0.04563,
     "end_time": "2021-10-23T10:07:00.566275",
     "exception": false,
     "start_time": "2021-10-23T10:07:00.520645",
     "status": "completed"
    },
    "tags": []
   },
   "outputs": [
    {
     "data": {
      "text/plain": [
       "((10000, 28, 28), (10000,))"
      ]
     },
     "execution_count": 8,
     "metadata": {},
     "output_type": "execute_result"
    }
   ],
   "source": [
    "test_images.shape, test_labels.shape"
   ]
  },
  {
   "cell_type": "code",
   "execution_count": 9,
   "id": "f9ed8fe0",
   "metadata": {
    "execution": {
     "iopub.execute_input": "2021-10-23T10:07:00.630876Z",
     "iopub.status.busy": "2021-10-23T10:07:00.630272Z",
     "iopub.status.idle": "2021-10-23T10:07:00.792047Z",
     "shell.execute_reply": "2021-10-23T10:07:00.792516Z"
    },
    "papermill": {
     "duration": 0.197986,
     "end_time": "2021-10-23T10:07:00.792681",
     "exception": false,
     "start_time": "2021-10-23T10:07:00.594695",
     "status": "completed"
    },
    "tags": []
   },
   "outputs": [
    {
     "name": "stdout",
     "output_type": "stream",
     "text": [
      "2\n"
     ]
    },
    {
     "data": {
      "text/plain": [
       "<matplotlib.image.AxesImage at 0x7f09969e2080>"
      ]
     },
     "execution_count": 9,
     "metadata": {},
     "output_type": "execute_result"
    },
    {
     "data": {
      "image/png": "[encoded data removed]",
      "text/plain": [
       "<Figure size 432x288 with 1 Axes>"
      ]
     },
     "metadata": {
      "needs_background": "light"
     },
     "output_type": "display_data"
    }
   ],
   "source": [
    "image_index = 7776 # You may select anything up to 60,000\n",
    "print(train_labels[image_index]) \n",
    "plt.imshow(train_images[image_index], cmap='Greys')"
   ]
  },
  {
   "cell_type": "markdown",
   "id": "a8d2388d",
   "metadata": {
    "papermill": {
     "duration": 0.028327,
     "end_time": "2021-10-23T10:07:00.848433",
     "exception": false,
     "start_time": "2021-10-23T10:07:00.820106",
     "status": "completed"
    },
    "tags": []
   },
   "source": [
    "## Filter data to get 3 and 8 out"
   ]
  },
  {
   "cell_type": "code",
   "execution_count": 10,
   "id": "776f7fc7",
   "metadata": {
    "execution": {
     "iopub.execute_input": "2021-10-23T10:07:00.914067Z",
     "iopub.status.busy": "2021-10-23T10:07:00.911573Z",
     "iopub.status.idle": "2021-10-23T10:07:00.931257Z",
     "shell.execute_reply": "2021-10-23T10:07:00.930368Z"
    },
    "papermill": {
     "duration": 0.0545,
     "end_time": "2021-10-23T10:07:00.931459",
     "exception": false,
     "start_time": "2021-10-23T10:07:00.876959",
     "status": "completed"
    },
    "tags": []
   },
   "outputs": [],
   "source": [
    "train_filter = np.where((train_labels == 3 ) | (train_labels == 8))\n",
    "test_filter = np.where((test_labels == 3) | (test_labels == 8))\n",
    "X_train, y_train = train_images[train_filter], train_labels[train_filter]\n",
    "X_test, y_test = test_images[test_filter], test_labels[test_filter]"
   ]
  },
  {
   "cell_type": "markdown",
   "id": "948f0b7e",
   "metadata": {
    "papermill": {
     "duration": 0.028315,
     "end_time": "2021-10-23T10:07:00.992234",
     "exception": false,
     "start_time": "2021-10-23T10:07:00.963919",
     "status": "completed"
    },
    "tags": []
   },
   "source": [
    "We normalize the pizel values in the 0 to 1 range"
   ]
  },
  {
   "cell_type": "code",
   "execution_count": 11,
   "id": "ee4c2166",
   "metadata": {
    "execution": {
     "iopub.execute_input": "2021-10-23T10:07:01.055489Z",
     "iopub.status.busy": "2021-10-23T10:07:01.054965Z",
     "iopub.status.idle": "2021-10-23T10:07:01.106996Z",
     "shell.execute_reply": "2021-10-23T10:07:01.105883Z"
    },
    "papermill": {
     "duration": 0.085285,
     "end_time": "2021-10-23T10:07:01.107158",
     "exception": false,
     "start_time": "2021-10-23T10:07:01.021873",
     "status": "completed"
    },
    "tags": []
   },
   "outputs": [],
   "source": [
    "X_train = X_train/255.\n",
    "X_test = X_test/255."
   ]
  },
  {
   "cell_type": "markdown",
   "id": "ddcf4fab",
   "metadata": {
    "papermill": {
     "duration": 0.026294,
     "end_time": "2021-10-23T10:07:01.162682",
     "exception": false,
     "start_time": "2021-10-23T10:07:01.136388",
     "status": "completed"
    },
    "tags": []
   },
   "source": [
    "And setup the labels as 1 (when the digit is 3) and 0 (when the digit is 8)"
   ]
  },
  {
   "cell_type": "code",
   "execution_count": 12,
   "id": "7dc908f2",
   "metadata": {
    "execution": {
     "iopub.execute_input": "2021-10-23T10:07:01.233929Z",
     "iopub.status.busy": "2021-10-23T10:07:01.230162Z",
     "iopub.status.idle": "2021-10-23T10:07:01.243532Z",
     "shell.execute_reply": "2021-10-23T10:07:01.243029Z"
    },
    "papermill": {
     "duration": 0.054657,
     "end_time": "2021-10-23T10:07:01.243664",
     "exception": false,
     "start_time": "2021-10-23T10:07:01.189007",
     "status": "completed"
    },
    "tags": []
   },
   "outputs": [],
   "source": [
    "y_train = 1*(y_train==3)\n",
    "y_test = 1*(y_test==3)"
   ]
  },
  {
   "cell_type": "code",
   "execution_count": 13,
   "id": "01e4e969",
   "metadata": {
    "execution": {
     "iopub.execute_input": "2021-10-23T10:07:01.305288Z",
     "iopub.status.busy": "2021-10-23T10:07:01.304623Z",
     "iopub.status.idle": "2021-10-23T10:07:01.319233Z",
     "shell.execute_reply": "2021-10-23T10:07:01.319687Z"
    },
    "papermill": {
     "duration": 0.046367,
     "end_time": "2021-10-23T10:07:01.319818",
     "exception": false,
     "start_time": "2021-10-23T10:07:01.273451",
     "status": "completed"
    },
    "tags": []
   },
   "outputs": [
    {
     "data": {
      "text/plain": [
       "((11982, 28, 28), (1984, 28, 28))"
      ]
     },
     "execution_count": 13,
     "metadata": {},
     "output_type": "execute_result"
    }
   ],
   "source": [
    "X_train.shape, X_test.shape"
   ]
  },
  {
   "cell_type": "markdown",
   "id": "5ccf3f85",
   "metadata": {
    "papermill": {
     "duration": 0.027769,
     "end_time": "2021-10-23T10:07:01.375568",
     "exception": false,
     "start_time": "2021-10-23T10:07:01.347799",
     "status": "completed"
    },
    "tags": []
   },
   "source": [
    "We reshape the data to flatten the image pixels into a set of features or co-variates:"
   ]
  },
  {
   "cell_type": "code",
   "execution_count": 14,
   "id": "5286a4a3",
   "metadata": {
    "execution": {
     "iopub.execute_input": "2021-10-23T10:07:01.434912Z",
     "iopub.status.busy": "2021-10-23T10:07:01.434321Z",
     "iopub.status.idle": "2021-10-23T10:07:01.449326Z",
     "shell.execute_reply": "2021-10-23T10:07:01.448825Z"
    },
    "papermill": {
     "duration": 0.046494,
     "end_time": "2021-10-23T10:07:01.449468",
     "exception": false,
     "start_time": "2021-10-23T10:07:01.402974",
     "status": "completed"
    },
    "tags": []
   },
   "outputs": [
    {
     "data": {
      "text/plain": [
       "((11982, 784), (1984, 784))"
      ]
     },
     "execution_count": 14,
     "metadata": {},
     "output_type": "execute_result"
    }
   ],
   "source": [
    "X_train = X_train.reshape(X_train.shape[0], -1)\n",
    "X_test = X_test.reshape(X_test.shape[0], -1)\n",
    "X_train.shape, X_test.shape"
   ]
  },
  {
   "cell_type": "code",
   "execution_count": 15,
   "id": "73c5f88a",
   "metadata": {
    "execution": {
     "iopub.execute_input": "2021-10-23T10:07:01.513607Z",
     "iopub.status.busy": "2021-10-23T10:07:01.513007Z",
     "iopub.status.idle": "2021-10-23T10:07:01.534063Z",
     "shell.execute_reply": "2021-10-23T10:07:01.534509Z"
    },
    "papermill": {
     "duration": 0.055413,
     "end_time": "2021-10-23T10:07:01.534640",
     "exception": false,
     "start_time": "2021-10-23T10:07:01.479227",
     "status": "completed"
    },
    "tags": []
   },
   "outputs": [],
   "source": [
    "#Impoting functions from 'Kudzu'\n",
    "from kudzu.model import Model\n",
    "from kudzu.train import Learner\n",
    "from kudzu.optim import GD\n",
    "from kudzu.data import Data, Sampler,Dataloader\n",
    "\n",
    "from kudzu.callbacks import AccCallback\n",
    "from kudzu.callbacks import ClfCallback\n",
    "\n",
    "from kudzu.loss import MSE\n",
    "\n",
    "from kudzu.layer import Sigmoid,Relu\n",
    "from kudzu.layer import Affine"
   ]
  },
  {
   "cell_type": "markdown",
   "id": "bc01172a",
   "metadata": {
    "papermill": {
     "duration": 0.029279,
     "end_time": "2021-10-23T10:07:01.593216",
     "exception": false,
     "start_time": "2021-10-23T10:07:01.563937",
     "status": "completed"
    },
    "tags": []
   },
   "source": [
    "### Let us create a `Config` class, to store important parameters. \n",
    "This class essentially plays the role of a dictionary."
   ]
  },
  {
   "cell_type": "code",
   "execution_count": 16,
   "id": "978281aa",
   "metadata": {
    "execution": {
     "iopub.execute_input": "2021-10-23T10:07:01.653901Z",
     "iopub.status.busy": "2021-10-23T10:07:01.653310Z",
     "iopub.status.idle": "2021-10-23T10:07:01.667295Z",
     "shell.execute_reply": "2021-10-23T10:07:01.666857Z"
    },
    "papermill": {
     "duration": 0.046437,
     "end_time": "2021-10-23T10:07:01.667409",
     "exception": false,
     "start_time": "2021-10-23T10:07:01.620972",
     "status": "completed"
    },
    "tags": []
   },
   "outputs": [],
   "source": [
    "class Config:\n",
    "    pass\n",
    "config = Config()\n",
    "config.lr = 0.001\n",
    "config.num_epochs = 250\n",
    "config.bs = 50"
   ]
  },
  {
   "cell_type": "markdown",
   "id": "1385fa59",
   "metadata": {
    "papermill": {
     "duration": 0.028216,
     "end_time": "2021-10-23T10:07:01.724273",
     "exception": false,
     "start_time": "2021-10-23T10:07:01.696057",
     "status": "completed"
    },
    "tags": []
   },
   "source": [
    "### Running Models with the Training data\n",
    "Details about the network layers:\n",
    "- A first affine layer has 784 inputs and does 100 affine transforms. These are followed by a Relu\n",
    "- A second affine layer has 100 inputs from the 100 activations of the past layer, and does 100 affine transforms. These are followed by a Relu\n",
    "- A third affine layer has 100 activations and does 2 affine transformations to create an embedding for visualization. There is no non-linearity here.\n",
    "- A final \"logistic regression\" which has an affine transform from 2 inputs to 1 output, which is squeezed through a sigmoid.\n"
   ]
  },
  {
   "cell_type": "code",
   "execution_count": 17,
   "id": "2b9c66db",
   "metadata": {
    "execution": {
     "iopub.execute_input": "2021-10-23T10:07:01.789604Z",
     "iopub.status.busy": "2021-10-23T10:07:01.789024Z",
     "iopub.status.idle": "2021-10-23T10:07:01.803927Z",
     "shell.execute_reply": "2021-10-23T10:07:01.803458Z"
    },
    "papermill": {
     "duration": 0.050594,
     "end_time": "2021-10-23T10:07:01.804039",
     "exception": false,
     "start_time": "2021-10-23T10:07:01.753445",
     "status": "completed"
    },
    "tags": []
   },
   "outputs": [],
   "source": [
    "data = Data(X_train, y_train.reshape(-1,1))\n",
    "sampler = Sampler(data, config.bs, shuffle=True)\n",
    "\n",
    "dl = Dataloader(data, sampler)\n",
    "\n",
    "opt = GD(config.lr)\n",
    "loss = MSE()"
   ]
  },
  {
   "cell_type": "code",
   "execution_count": 18,
   "id": "b275e4c2",
   "metadata": {
    "execution": {
     "iopub.execute_input": "2021-10-23T10:07:01.868519Z",
     "iopub.status.busy": "2021-10-23T10:07:01.867108Z",
     "iopub.status.idle": "2021-10-23T10:07:01.882399Z",
     "shell.execute_reply": "2021-10-23T10:07:01.881459Z"
    },
    "papermill": {
     "duration": 0.051894,
     "end_time": "2021-10-23T10:07:01.882602",
     "exception": false,
     "start_time": "2021-10-23T10:07:01.830708",
     "status": "completed"
    },
    "tags": []
   },
   "outputs": [],
   "source": [
    "training_data_x = X_train\n",
    "testing_data_x = X_test\n",
    "training_data_y = y_train.reshape(-1,1)\n",
    "testing_data_y = y_test.reshape(-1,1)"
   ]
  },
  {
   "cell_type": "code",
   "execution_count": 19,
   "id": "76951160",
   "metadata": {
    "execution": {
     "iopub.execute_input": "2021-10-23T10:07:01.948059Z",
     "iopub.status.busy": "2021-10-23T10:07:01.947420Z",
     "iopub.status.idle": "2021-10-23T10:07:01.965177Z",
     "shell.execute_reply": "2021-10-23T10:07:01.964691Z"
    },
    "papermill": {
     "duration": 0.051152,
     "end_time": "2021-10-23T10:07:01.965291",
     "exception": false,
     "start_time": "2021-10-23T10:07:01.914139",
     "status": "completed"
    },
    "tags": []
   },
   "outputs": [
    {
     "name": "stdout",
     "output_type": "stream",
     "text": [
      "xavier\n",
      "xavier\n",
      "xavier\n",
      "xavier\n",
      "xavier\n"
     ]
    }
   ],
   "source": [
    "layers = [Affine(\"first\", 784, 100), Relu(\"first\"), Affine(\"second\", 100, 100), Relu(\"second\"), Affine(\"third\", 100, 2), Affine(\"last\", 2, 1), Sigmoid(\"last\")]\n",
    "model_nn = Model(layers)\n",
    "model_lr = Model([Affine(\"logits\", 784, 1), Sigmoid(\"sigmoid\")])"
   ]
  },
  {
   "cell_type": "code",
   "execution_count": 20,
   "id": "6eede77a",
   "metadata": {
    "execution": {
     "iopub.execute_input": "2021-10-23T10:07:02.030349Z",
     "iopub.status.busy": "2021-10-23T10:07:02.029755Z",
     "iopub.status.idle": "2021-10-23T10:07:02.043502Z",
     "shell.execute_reply": "2021-10-23T10:07:02.043059Z"
    },
    "papermill": {
     "duration": 0.049536,
     "end_time": "2021-10-23T10:07:02.043617",
     "exception": false,
     "start_time": "2021-10-23T10:07:01.994081",
     "status": "completed"
    },
    "tags": []
   },
   "outputs": [],
   "source": [
    "nn_learner = Learner(loss, model_nn, opt, config.num_epochs)\n",
    "acc_nn = ClfCallback(nn_learner, config.bs, training_data_x , testing_data_x, training_data_y, testing_data_y)\n",
    "nn_learner.set_callbacks([acc_nn])"
   ]
  },
  {
   "cell_type": "code",
   "execution_count": 21,
   "id": "877b6cc7",
   "metadata": {
    "execution": {
     "iopub.execute_input": "2021-10-23T10:07:02.107768Z",
     "iopub.status.busy": "2021-10-23T10:07:02.107201Z",
     "iopub.status.idle": "2021-10-23T10:07:02.122831Z",
     "shell.execute_reply": "2021-10-23T10:07:02.122337Z"
    },
    "papermill": {
     "duration": 0.049664,
     "end_time": "2021-10-23T10:07:02.122978",
     "exception": false,
     "start_time": "2021-10-23T10:07:02.073314",
     "status": "completed"
    },
    "tags": []
   },
   "outputs": [],
   "source": [
    "lr_learner = Learner(loss, model_lr, opt, config.num_epochs)\n",
    "acc_lr = ClfCallback(lr_learner, config.bs, training_data_x , testing_data_x, training_data_y, testing_data_y)\n",
    "lr_learner.set_callbacks([acc_lr])"
   ]
  },
  {
   "cell_type": "code",
   "execution_count": 22,
   "id": "d9b133c3",
   "metadata": {
    "execution": {
     "iopub.execute_input": "2021-10-23T10:07:02.188296Z",
     "iopub.status.busy": "2021-10-23T10:07:02.187706Z",
     "iopub.status.idle": "2021-10-23T10:08:23.129242Z",
     "shell.execute_reply": "2021-10-23T10:08:23.130039Z"
    },
    "papermill": {
     "duration": 80.977568,
     "end_time": "2021-10-23T10:08:23.130194",
     "exception": false,
     "start_time": "2021-10-23T10:07:02.152626",
     "status": "completed"
    },
    "tags": []
   },
   "outputs": [
    {
     "name": "stdout",
     "output_type": "stream",
     "text": [
      "Epoch 0, Loss 0.2226\n",
      "Training Accuracy: 0.7702, Testing Accuracy: 0.7712\n",
      "\n"
     ]
    },
    {
     "name": "stdout",
     "output_type": "stream",
     "text": [
      "Epoch 10, Loss 0.0714\n",
      "Training Accuracy: 0.9279, Testing Accuracy: 0.9355\n",
      "\n"
     ]
    },
    {
     "name": "stdout",
     "output_type": "stream",
     "text": [
      "Epoch 20, Loss 0.0484\n",
      "Training Accuracy: 0.9487, Testing Accuracy: 0.9536\n",
      "\n"
     ]
    },
    {
     "name": "stdout",
     "output_type": "stream",
     "text": [
      "Epoch 30, Loss 0.0396\n",
      "Training Accuracy: 0.9579, Testing Accuracy: 0.9592\n",
      "\n"
     ]
    },
    {
     "name": "stdout",
     "output_type": "stream",
     "text": [
      "Epoch 40, Loss 0.0349\n",
      "Training Accuracy: 0.9621, Testing Accuracy: 0.9642\n",
      "\n"
     ]
    },
    {
     "name": "stdout",
     "output_type": "stream",
     "text": [
      "Epoch 50, Loss 0.0319\n",
      "Training Accuracy: 0.9650, Testing Accuracy: 0.9688\n",
      "\n"
     ]
    },
    {
     "name": "stdout",
     "output_type": "stream",
     "text": [
      "Epoch 60, Loss 0.0298\n",
      "Training Accuracy: 0.9669, Testing Accuracy: 0.9693\n",
      "\n"
     ]
    },
    {
     "name": "stdout",
     "output_type": "stream",
     "text": [
      "Epoch 70, Loss 0.0282\n",
      "Training Accuracy: 0.9686, Testing Accuracy: 0.9713\n",
      "\n"
     ]
    },
    {
     "name": "stdout",
     "output_type": "stream",
     "text": [
      "Epoch 80, Loss 0.0269\n",
      "Training Accuracy: 0.9703, Testing Accuracy: 0.9713\n",
      "\n"
     ]
    },
    {
     "name": "stdout",
     "output_type": "stream",
     "text": [
      "Epoch 90, Loss 0.0258\n",
      "Training Accuracy: 0.9716, Testing Accuracy: 0.9713\n",
      "\n"
     ]
    },
    {
     "name": "stdout",
     "output_type": "stream",
     "text": [
      "Epoch 100, Loss 0.0249\n",
      "Training Accuracy: 0.9723, Testing Accuracy: 0.9698\n",
      "\n"
     ]
    },
    {
     "name": "stdout",
     "output_type": "stream",
     "text": [
      "Epoch 110, Loss 0.0241\n",
      "Training Accuracy: 0.9736, Testing Accuracy: 0.9698\n",
      "\n"
     ]
    },
    {
     "name": "stdout",
     "output_type": "stream",
     "text": [
      "Epoch 120, Loss 0.0234\n",
      "Training Accuracy: 0.9741, Testing Accuracy: 0.9698\n",
      "\n"
     ]
    },
    {
     "name": "stdout",
     "output_type": "stream",
     "text": [
      "Epoch 130, Loss 0.0228\n",
      "Training Accuracy: 0.9746, Testing Accuracy: 0.9703\n",
      "\n"
     ]
    },
    {
     "name": "stdout",
     "output_type": "stream",
     "text": [
      "Epoch 140, Loss 0.0222\n",
      "Training Accuracy: 0.9748, Testing Accuracy: 0.9713\n",
      "\n"
     ]
    },
    {
     "name": "stdout",
     "output_type": "stream",
     "text": [
      "Epoch 150, Loss 0.0216\n",
      "Training Accuracy: 0.9754, Testing Accuracy: 0.9723\n",
      "\n"
     ]
    },
    {
     "name": "stdout",
     "output_type": "stream",
     "text": [
      "Epoch 160, Loss 0.0211\n",
      "Training Accuracy: 0.9767, Testing Accuracy: 0.9718\n",
      "\n"
     ]
    },
    {
     "name": "stdout",
     "output_type": "stream",
     "text": [
      "Epoch 170, Loss 0.0206\n",
      "Training Accuracy: 0.9770, Testing Accuracy: 0.9733\n",
      "\n"
     ]
    },
    {
     "name": "stdout",
     "output_type": "stream",
     "text": [
      "Epoch 180, Loss 0.0202\n",
      "Training Accuracy: 0.9775, Testing Accuracy: 0.9738\n",
      "\n"
     ]
    },
    {
     "name": "stdout",
     "output_type": "stream",
     "text": [
      "Epoch 190, Loss 0.0198\n",
      "Training Accuracy: 0.9781, Testing Accuracy: 0.9738\n",
      "\n"
     ]
    },
    {
     "name": "stdout",
     "output_type": "stream",
     "text": [
      "Epoch 200, Loss 0.0193\n",
      "Training Accuracy: 0.9782, Testing Accuracy: 0.9748\n",
      "\n"
     ]
    },
    {
     "name": "stdout",
     "output_type": "stream",
     "text": [
      "Epoch 210, Loss 0.0189\n",
      "Training Accuracy: 0.9790, Testing Accuracy: 0.9748\n",
      "\n"
     ]
    },
    {
     "name": "stdout",
     "output_type": "stream",
     "text": [
      "Epoch 220, Loss 0.0185\n",
      "Training Accuracy: 0.9791, Testing Accuracy: 0.9748\n",
      "\n"
     ]
    },
    {
     "name": "stdout",
     "output_type": "stream",
     "text": [
      "Epoch 230, Loss 0.0182\n",
      "Training Accuracy: 0.9800, Testing Accuracy: 0.9748\n",
      "\n"
     ]
    },
    {
     "name": "stdout",
     "output_type": "stream",
     "text": [
      "Epoch 240, Loss 0.0178\n",
      "Training Accuracy: 0.9803, Testing Accuracy: 0.9753\n",
      "\n"
     ]
    },
    {
     "data": {
      "text/plain": [
       "0.004584182547739884"
      ]
     },
     "execution_count": 22,
     "metadata": {},
     "output_type": "execute_result"
    }
   ],
   "source": [
    "nn_learner.train_loop(dl)"
   ]
  },
  {
   "cell_type": "code",
   "execution_count": 23,
   "id": "e0163366",
   "metadata": {
    "execution": {
     "iopub.execute_input": "2021-10-23T10:08:23.214400Z",
     "iopub.status.busy": "2021-10-23T10:08:23.213833Z",
     "iopub.status.idle": "2021-10-23T10:08:37.165511Z",
     "shell.execute_reply": "2021-10-23T10:08:37.166305Z"
    },
    "papermill": {
     "duration": 13.99899,
     "end_time": "2021-10-23T10:08:37.166497",
     "exception": false,
     "start_time": "2021-10-23T10:08:23.167507",
     "status": "completed"
    },
    "tags": []
   },
   "outputs": [
    {
     "name": "stdout",
     "output_type": "stream",
     "text": [
      "Epoch 0, Loss 0.2236\n",
      "Training Accuracy: 0.7297, Testing Accuracy: 0.7455\n",
      "\n"
     ]
    },
    {
     "name": "stdout",
     "output_type": "stream",
     "text": [
      "Epoch 10, Loss 0.105\n",
      "Training Accuracy: 0.9011, Testing Accuracy: 0.9123\n",
      "\n"
     ]
    },
    {
     "name": "stdout",
     "output_type": "stream",
     "text": [
      "Epoch 20, Loss 0.0806\n",
      "Training Accuracy: 0.9259, Testing Accuracy: 0.9360\n",
      "\n"
     ]
    },
    {
     "name": "stdout",
     "output_type": "stream",
     "text": [
      "Epoch 30, Loss 0.0692\n",
      "Training Accuracy: 0.9349, Testing Accuracy: 0.9461\n",
      "\n"
     ]
    },
    {
     "name": "stdout",
     "output_type": "stream",
     "text": [
      "Epoch 40, Loss 0.0624\n",
      "Training Accuracy: 0.9394, Testing Accuracy: 0.9506\n",
      "\n"
     ]
    },
    {
     "name": "stdout",
     "output_type": "stream",
     "text": [
      "Epoch 50, Loss 0.0577\n",
      "Training Accuracy: 0.9430, Testing Accuracy: 0.9531\n",
      "\n"
     ]
    },
    {
     "name": "stdout",
     "output_type": "stream",
     "text": [
      "Epoch 60, Loss 0.0544\n",
      "Training Accuracy: 0.9455, Testing Accuracy: 0.9567\n",
      "\n"
     ]
    },
    {
     "name": "stdout",
     "output_type": "stream",
     "text": [
      "Epoch 70, Loss 0.0517\n",
      "Training Accuracy: 0.9477, Testing Accuracy: 0.9582\n",
      "\n"
     ]
    },
    {
     "name": "stdout",
     "output_type": "stream",
     "text": [
      "Epoch 80, Loss 0.0496\n",
      "Training Accuracy: 0.9490, Testing Accuracy: 0.9592\n",
      "\n"
     ]
    },
    {
     "name": "stdout",
     "output_type": "stream",
     "text": [
      "Epoch 90, Loss 0.0479\n",
      "Training Accuracy: 0.9510, Testing Accuracy: 0.9602\n",
      "\n"
     ]
    },
    {
     "name": "stdout",
     "output_type": "stream",
     "text": [
      "Epoch 100, Loss 0.0465\n",
      "Training Accuracy: 0.9518, Testing Accuracy: 0.9617\n",
      "\n"
     ]
    },
    {
     "name": "stdout",
     "output_type": "stream",
     "text": [
      "Epoch 110, Loss 0.0452\n",
      "Training Accuracy: 0.9534, Testing Accuracy: 0.9627\n",
      "\n"
     ]
    },
    {
     "name": "stdout",
     "output_type": "stream",
     "text": [
      "Epoch 120, Loss 0.0442\n",
      "Training Accuracy: 0.9553, Testing Accuracy: 0.9627\n",
      "\n"
     ]
    },
    {
     "name": "stdout",
     "output_type": "stream",
     "text": [
      "Epoch 130, Loss 0.0432\n",
      "Training Accuracy: 0.9555, Testing Accuracy: 0.9637\n",
      "\n"
     ]
    },
    {
     "name": "stdout",
     "output_type": "stream",
     "text": [
      "Epoch 140, Loss 0.0424\n",
      "Training Accuracy: 0.9563, Testing Accuracy: 0.9637\n",
      "\n"
     ]
    },
    {
     "name": "stdout",
     "output_type": "stream",
     "text": [
      "Epoch 150, Loss 0.0416\n",
      "Training Accuracy: 0.9571, Testing Accuracy: 0.9637\n",
      "\n"
     ]
    },
    {
     "name": "stdout",
     "output_type": "stream",
     "text": [
      "Epoch 160, Loss 0.0409\n",
      "Training Accuracy: 0.9582, Testing Accuracy: 0.9657\n",
      "\n"
     ]
    },
    {
     "name": "stdout",
     "output_type": "stream",
     "text": [
      "Epoch 170, Loss 0.0403\n",
      "Training Accuracy: 0.9588, Testing Accuracy: 0.9657\n",
      "\n"
     ]
    },
    {
     "name": "stdout",
     "output_type": "stream",
     "text": [
      "Epoch 180, Loss 0.0397\n",
      "Training Accuracy: 0.9589, Testing Accuracy: 0.9657\n",
      "\n"
     ]
    },
    {
     "name": "stdout",
     "output_type": "stream",
     "text": [
      "Epoch 190, Loss 0.0392\n",
      "Training Accuracy: 0.9592, Testing Accuracy: 0.9657\n",
      "\n"
     ]
    },
    {
     "name": "stdout",
     "output_type": "stream",
     "text": [
      "Epoch 200, Loss 0.0387\n",
      "Training Accuracy: 0.9595, Testing Accuracy: 0.9652\n",
      "\n"
     ]
    },
    {
     "name": "stdout",
     "output_type": "stream",
     "text": [
      "Epoch 210, Loss 0.0383\n",
      "Training Accuracy: 0.9600, Testing Accuracy: 0.9657\n",
      "\n"
     ]
    },
    {
     "name": "stdout",
     "output_type": "stream",
     "text": [
      "Epoch 220, Loss 0.0379\n",
      "Training Accuracy: 0.9602, Testing Accuracy: 0.9662\n",
      "\n"
     ]
    },
    {
     "name": "stdout",
     "output_type": "stream",
     "text": [
      "Epoch 230, Loss 0.0375\n",
      "Training Accuracy: 0.9605, Testing Accuracy: 0.9662\n",
      "\n"
     ]
    },
    {
     "name": "stdout",
     "output_type": "stream",
     "text": [
      "Epoch 240, Loss 0.0371\n",
      "Training Accuracy: 0.9608, Testing Accuracy: 0.9662\n",
      "\n"
     ]
    },
    {
     "data": {
      "text/plain": [
       "0.061646384512246875"
      ]
     },
     "execution_count": 23,
     "metadata": {},
     "output_type": "execute_result"
    }
   ],
   "source": [
    "lr_learner.train_loop(dl)"
   ]
  },
  {
   "cell_type": "code",
   "execution_count": 24,
   "id": "ca410940",
   "metadata": {
    "execution": {
     "iopub.execute_input": "2021-10-23T10:08:37.262370Z",
     "iopub.status.busy": "2021-10-23T10:08:37.261801Z",
     "iopub.status.idle": "2021-10-23T10:08:37.485860Z",
     "shell.execute_reply": "2021-10-23T10:08:37.485346Z"
    },
    "papermill": {
     "duration": 0.278854,
     "end_time": "2021-10-23T10:08:37.486000",
     "exception": false,
     "start_time": "2021-10-23T10:08:37.207146",
     "status": "completed"
    },
    "tags": []
   },
   "outputs": [
    {
     "data": {
      "text/plain": [
       "<matplotlib.legend.Legend at 0x7f09891bc7f0>"
      ]
     },
     "execution_count": 24,
     "metadata": {},
     "output_type": "execute_result"
    },
    {
     "data": {
      "image/png": "[encoded data removed]",
      "text/plain": [
       "<Figure size 1080x720 with 1 Axes>"
      ]
     },
     "metadata": {
      "needs_background": "light"
     },
     "output_type": "display_data"
    }
   ],
   "source": [
    "#comparing the results of NN and LR\n",
    "plt.figure(figsize=(15,10))\n",
    "\n",
    "# Neural Network plots\n",
    "plt.plot(acc_nn.accuracies, 'r-', label = \"Training Accuracies - NN\")\n",
    "plt.plot(acc_nn.test_accuracies, 'g-', label = \"Testing Accuracies - NN\")\n",
    "\n",
    "# Logistic Regression plots\n",
    "plt.plot(acc_lr.accuracies, 'k-', label = \"Training Accuracies - LR\")\n",
    "plt.plot(acc_lr.test_accuracies, 'b-', label = \"Testing Accuracies - LR\")\n",
    "plt.legend()"
   ]
  },
  {
   "cell_type": "markdown",
   "id": "80dfb35c",
   "metadata": {
    "papermill": {
     "duration": 0.04039,
     "end_time": "2021-10-23T10:08:37.569619",
     "exception": false,
     "start_time": "2021-10-23T10:08:37.529229",
     "status": "completed"
    },
    "tags": []
   },
   "source": [
    "#### Plotting the outputs of this layer of the NN.\n"
   ]
  },
  {
   "cell_type": "code",
   "execution_count": 25,
   "id": "45eb2ff5",
   "metadata": {
    "execution": {
     "iopub.execute_input": "2021-10-23T10:08:37.657774Z",
     "iopub.status.busy": "2021-10-23T10:08:37.657115Z",
     "iopub.status.idle": "2021-10-23T10:08:37.678793Z",
     "shell.execute_reply": "2021-10-23T10:08:37.679273Z"
    },
    "papermill": {
     "duration": 0.070109,
     "end_time": "2021-10-23T10:08:37.679424",
     "exception": false,
     "start_time": "2021-10-23T10:08:37.609315",
     "status": "completed"
    },
    "tags": []
   },
   "outputs": [],
   "source": [
    "new_model = Model(layers[:-2])\n",
    "testing_plot = new_model(testing_data_x)"
   ]
  },
  {
   "cell_type": "code",
   "execution_count": 26,
   "id": "4c0a5485",
   "metadata": {
    "execution": {
     "iopub.execute_input": "2021-10-23T10:08:37.779300Z",
     "iopub.status.busy": "2021-10-23T10:08:37.778686Z",
     "iopub.status.idle": "2021-10-23T10:08:38.002596Z",
     "shell.execute_reply": "2021-10-23T10:08:38.002102Z"
    },
    "papermill": {
     "duration": 0.271914,
     "end_time": "2021-10-23T10:08:38.002720",
     "exception": false,
     "start_time": "2021-10-23T10:08:37.730806",
     "status": "completed"
    },
    "tags": []
   },
   "outputs": [
    {
     "data": {
      "text/plain": [
       "Text(0.5, 1.0, 'Outputs')"
      ]
     },
     "execution_count": 26,
     "metadata": {},
     "output_type": "execute_result"
    },
    {
     "data": {
      "image/png": "[encoded data removed]",
      "text/plain": [
       "<Figure size 576x504 with 1 Axes>"
      ]
     },
     "metadata": {
      "needs_background": "light"
     },
     "output_type": "display_data"
    }
   ],
   "source": [
    "# Plotting the scatter plot of points and color coding by class\n",
    "plt.figure(figsize=(8,7))\n",
    "plt.scatter(testing_plot[:,0], testing_plot[:,1], alpha = 0.1, c = y_test.ravel());\n",
    "plt.title('Outputs')"
   ]
  },
  {
   "cell_type": "markdown",
   "id": "a74fcf8f",
   "metadata": {
    "papermill": {
     "duration": 0.043758,
     "end_time": "2021-10-23T10:08:38.089294",
     "exception": false,
     "start_time": "2021-10-23T10:08:38.045536",
     "status": "completed"
    },
    "tags": []
   },
   "source": [
    "Probability contours"
   ]
  },
  {
   "cell_type": "code",
   "execution_count": 27,
   "id": "d0afc8e3",
   "metadata": {
    "execution": {
     "iopub.execute_input": "2021-10-23T10:08:38.188241Z",
     "iopub.status.busy": "2021-10-23T10:08:38.187657Z",
     "iopub.status.idle": "2021-10-23T10:08:38.201669Z",
     "shell.execute_reply": "2021-10-23T10:08:38.201154Z"
    },
    "papermill": {
     "duration": 0.065665,
     "end_time": "2021-10-23T10:08:38.201805",
     "exception": false,
     "start_time": "2021-10-23T10:08:38.136140",
     "status": "completed"
    },
    "tags": []
   },
   "outputs": [],
   "source": [
    "model_prob = Model(layers[-2:]) "
   ]
  },
  {
   "cell_type": "code",
   "execution_count": 28,
   "id": "9b96e238",
   "metadata": {
    "execution": {
     "iopub.execute_input": "2021-10-23T10:08:38.331600Z",
     "iopub.status.busy": "2021-10-23T10:08:38.331023Z",
     "iopub.status.idle": "2021-10-23T10:08:38.345834Z",
     "shell.execute_reply": "2021-10-23T10:08:38.346254Z"
    },
    "papermill": {
     "duration": 0.067692,
     "end_time": "2021-10-23T10:08:38.346402",
     "exception": false,
     "start_time": "2021-10-23T10:08:38.278710",
     "status": "completed"
    },
    "tags": []
   },
   "outputs": [],
   "source": [
    "#creating the x and y ranges according to the above generated plot.\n",
    "x_range = np.linspace(-4, 1, 100) \n",
    "y_range = np.linspace(-6, 6, 100) \n",
    "x_grid, y_grid = np.meshgrid(x_range, y_range) # x_grid and y_grig are of size 100 X 100\n",
    "\n",
    "# converting x_grid and y_grid to continuous arrays\n",
    "x_gridflat = np.ravel(x_grid)\n",
    "y_gridflat = np.ravel(y_grid)\n",
    "\n",
    "# The last layer of the current model takes two columns as input. Hence transpose of np.vstack() is required.\n",
    "X = np.vstack((x_gridflat, y_gridflat)).T\n",
    "\n",
    "prob_contour = model_prob(X).reshape(100,100) "
   ]
  },
  {
   "cell_type": "code",
   "execution_count": 29,
   "id": "da72499a",
   "metadata": {
    "execution": {
     "iopub.execute_input": "2021-10-23T10:08:38.445757Z",
     "iopub.status.busy": "2021-10-23T10:08:38.444710Z",
     "iopub.status.idle": "2021-10-23T10:08:38.698162Z",
     "shell.execute_reply": "2021-10-23T10:08:38.697169Z"
    },
    "papermill": {
     "duration": 0.301125,
     "end_time": "2021-10-23T10:08:38.698281",
     "exception": false,
     "start_time": "2021-10-23T10:08:38.397156",
     "status": "completed"
    },
    "tags": []
   },
   "outputs": [
    {
     "data": {
      "image/png": "[encoded data removed]",
      "text/plain": [
       "<Figure size 720x648 with 1 Axes>"
      ]
     },
     "metadata": {
      "needs_background": "light"
     },
     "output_type": "display_data"
    }
   ],
   "source": [
    "plt.figure(figsize=(10,9))\n",
    "plt.scatter(testing_plot[:,0], testing_plot[:,1], alpha = 0.1, c = y_test.ravel())\n",
    "contours = plt.contour(x_grid,y_grid,prob_contour)\n",
    "plt.title('Probability Contours')\n",
    "plt.clabel(contours, inline = True );"
   ]
  },
  {
   "cell_type": "code",
   "execution_count": null,
   "id": "e81b4ac7",
   "metadata": {
    "papermill": {
     "duration": 0.047079,
     "end_time": "2021-10-23T10:08:38.792636",
     "exception": false,
     "start_time": "2021-10-23T10:08:38.745557",
     "status": "completed"
    },
    "tags": []
   },
   "outputs": [],
   "source": []
  }
 ],
 "metadata": {
  "kernelspec": {
   "display_name": "Python 3",
   "language": "python",
   "name": "python3"
  },
  "language_info": {
   "codemirror_mode": {
    "name": "ipython",
    "version": 3
   },
   "file_extension": ".py",
   "mimetype": "text/x-python",
   "name": "python",
   "nbconvert_exporter": "python",
   "pygments_lexer": "ipython3",
   "version": "3.6.15"
  },
  "papermill": {
   "default_parameters": {},
   "duration": 103.243874,
   "end_time": "2021-10-23T10:08:39.249585",
   "environment_variables": {},
   "exception": null,
   "input_path": "2020-08-11-part2.ipynb",
   "output_path": "2020-08-11-part2.ipynb",
   "parameters": {},
   "start_time": "2021-10-23T10:06:56.005711",
   "version": "2.3.3"
  }
 },
 "nbformat": 4,
 "nbformat_minor": 5
}