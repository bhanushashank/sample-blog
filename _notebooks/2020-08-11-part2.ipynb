{
 "cells": [
  {
   "cell_type": "markdown",
   "id": "98380cd3",
   "metadata": {
    "papermill": {
     "duration": 0.025126,
     "end_time": "2022-04-23T20:09:28.725847",
     "exception": false,
     "start_time": "2022-04-23T20:09:28.700721",
     "status": "completed"
    },
    "tags": []
   },
   "source": [
    "# Distinguish Your Own Digits (DYOD)"
   ]
  },
  {
   "cell_type": "markdown",
   "id": "ef31240d",
   "metadata": {
    "papermill": {
     "duration": 0.022257,
     "end_time": "2022-04-23T20:09:28.769567",
     "exception": false,
     "start_time": "2022-04-23T20:09:28.747310",
     "status": "completed"
    },
    "tags": []
   },
   "source": [
    "You are going to write a classifier that distinguishes between the number 3 and number 8."
   ]
  },
  {
   "cell_type": "code",
   "execution_count": 1,
   "id": "b15c8646",
   "metadata": {
    "execution": {
     "iopub.execute_input": "2022-04-23T20:09:28.820555Z",
     "iopub.status.busy": "2022-04-23T20:09:28.819943Z",
     "iopub.status.idle": "2022-04-23T20:09:28.830330Z",
     "shell.execute_reply": "2022-04-23T20:09:28.829903Z"
    },
    "papermill": {
     "duration": 0.039973,
     "end_time": "2022-04-23T20:09:28.830455",
     "exception": false,
     "start_time": "2022-04-23T20:09:28.790482",
     "status": "completed"
    },
    "tags": []
   },
   "outputs": [],
   "source": [
    "%load_ext autoreload\n",
    "%autoreload 2"
   ]
  },
  {
   "cell_type": "code",
   "execution_count": 2,
   "id": "22ef38dc",
   "metadata": {
    "execution": {
     "iopub.execute_input": "2022-04-23T20:09:28.886597Z",
     "iopub.status.busy": "2022-04-23T20:09:28.886081Z",
     "iopub.status.idle": "2022-04-23T20:09:29.365079Z",
     "shell.execute_reply": "2022-04-23T20:09:29.365491Z"
    },
    "papermill": {
     "duration": 0.511295,
     "end_time": "2022-04-23T20:09:29.365641",
     "exception": false,
     "start_time": "2022-04-23T20:09:28.854346",
     "status": "completed"
    },
    "tags": []
   },
   "outputs": [],
   "source": [
    "%matplotlib inline\n",
    "import numpy as np\n",
    "import matplotlib.pyplot as plt\n",
    "import pandas as pd"
   ]
  },
  {
   "cell_type": "markdown",
   "id": "ba036198",
   "metadata": {
    "papermill": {
     "duration": 0.021043,
     "end_time": "2022-04-23T20:09:29.407775",
     "exception": false,
     "start_time": "2022-04-23T20:09:29.386732",
     "status": "completed"
    },
    "tags": []
   },
   "source": [
    "From the command line run `pip install mnist`. This is a library that will help you bring down the mnist dataset. If you run this from a notebook, you need to put  `!pip install mnist` in a cell by itself."
   ]
  },
  {
   "cell_type": "code",
   "execution_count": 3,
   "id": "bb6ad8a1",
   "metadata": {
    "execution": {
     "iopub.execute_input": "2022-04-23T20:09:29.454198Z",
     "iopub.status.busy": "2022-04-23T20:09:29.453749Z",
     "iopub.status.idle": "2022-04-23T20:09:31.019670Z",
     "shell.execute_reply": "2022-04-23T20:09:31.020115Z"
    },
    "papermill": {
     "duration": 1.591362,
     "end_time": "2022-04-23T20:09:31.020258",
     "exception": false,
     "start_time": "2022-04-23T20:09:29.428896",
     "status": "completed"
    },
    "tags": []
   },
   "outputs": [
    {
     "name": "stdout",
     "output_type": "stream",
     "text": [
      "Collecting mnist\r\n"
     ]
    },
    {
     "name": "stdout",
     "output_type": "stream",
     "text": [
      "  Downloading mnist-0.2.2-py2.py3-none-any.whl (3.5 kB)\r\n",
      "Requirement already satisfied: numpy in /opt/hostedtoolcache/Python/3.6.15/x64/lib/python3.6/site-packages (from mnist) (1.19.5)\r\n"
     ]
    },
    {
     "name": "stdout",
     "output_type": "stream",
     "text": [
      "Installing collected packages: mnist\r\n",
      "Successfully installed mnist-0.2.2\r\n"
     ]
    }
   ],
   "source": [
    "!pip install mnist"
   ]
  },
  {
   "cell_type": "markdown",
   "id": "69df9c9a",
   "metadata": {
    "papermill": {
     "duration": 0.024786,
     "end_time": "2022-04-23T20:09:31.069998",
     "exception": false,
     "start_time": "2022-04-23T20:09:31.045212",
     "status": "completed"
    },
    "tags": []
   },
   "source": [
    "## Preparing the Data"
   ]
  },
  {
   "cell_type": "code",
   "execution_count": 4,
   "id": "7f69d806",
   "metadata": {
    "execution": {
     "iopub.execute_input": "2022-04-23T20:09:31.134665Z",
     "iopub.status.busy": "2022-04-23T20:09:31.129551Z",
     "iopub.status.idle": "2022-04-23T20:09:31.137593Z",
     "shell.execute_reply": "2022-04-23T20:09:31.138000Z"
    },
    "papermill": {
     "duration": 0.043564,
     "end_time": "2022-04-23T20:09:31.138132",
     "exception": false,
     "start_time": "2022-04-23T20:09:31.094568",
     "status": "completed"
    },
    "tags": []
   },
   "outputs": [],
   "source": [
    "import mnist"
   ]
  },
  {
   "cell_type": "code",
   "execution_count": 5,
   "id": "a411e44f",
   "metadata": {
    "execution": {
     "iopub.execute_input": "2022-04-23T20:09:31.193203Z",
     "iopub.status.busy": "2022-04-23T20:09:31.192745Z",
     "iopub.status.idle": "2022-04-23T20:09:31.819915Z",
     "shell.execute_reply": "2022-04-23T20:09:31.819396Z"
    },
    "papermill": {
     "duration": 0.657225,
     "end_time": "2022-04-23T20:09:31.820053",
     "exception": false,
     "start_time": "2022-04-23T20:09:31.162828",
     "status": "completed"
    },
    "tags": []
   },
   "outputs": [],
   "source": [
    "train_images = mnist.train_images()\n",
    "train_labels = mnist.train_labels()"
   ]
  },
  {
   "cell_type": "code",
   "execution_count": 6,
   "id": "dceab3a5",
   "metadata": {
    "execution": {
     "iopub.execute_input": "2022-04-23T20:09:31.868047Z",
     "iopub.status.busy": "2022-04-23T20:09:31.867516Z",
     "iopub.status.idle": "2022-04-23T20:09:31.882357Z",
     "shell.execute_reply": "2022-04-23T20:09:31.881968Z"
    },
    "papermill": {
     "duration": 0.039823,
     "end_time": "2022-04-23T20:09:31.882452",
     "exception": false,
     "start_time": "2022-04-23T20:09:31.842629",
     "status": "completed"
    },
    "tags": []
   },
   "outputs": [
    {
     "data": {
      "text/plain": [
       "((60000, 28, 28), (60000,))"
      ]
     },
     "execution_count": 6,
     "metadata": {},
     "output_type": "execute_result"
    }
   ],
   "source": [
    "train_images.shape, train_labels.shape"
   ]
  },
  {
   "cell_type": "code",
   "execution_count": 7,
   "id": "f50dc2bb",
   "metadata": {
    "execution": {
     "iopub.execute_input": "2022-04-23T20:09:31.941062Z",
     "iopub.status.busy": "2022-04-23T20:09:31.940535Z",
     "iopub.status.idle": "2022-04-23T20:09:32.219338Z",
     "shell.execute_reply": "2022-04-23T20:09:32.219742Z"
    },
    "papermill": {
     "duration": 0.315624,
     "end_time": "2022-04-23T20:09:32.219891",
     "exception": false,
     "start_time": "2022-04-23T20:09:31.904267",
     "status": "completed"
    },
    "tags": []
   },
   "outputs": [],
   "source": [
    "test_images = mnist.test_images()\n",
    "test_labels = mnist.test_labels()"
   ]
  },
  {
   "cell_type": "code",
   "execution_count": 8,
   "id": "fc38cf1b",
   "metadata": {
    "execution": {
     "iopub.execute_input": "2022-04-23T20:09:32.281919Z",
     "iopub.status.busy": "2022-04-23T20:09:32.278057Z",
     "iopub.status.idle": "2022-04-23T20:09:32.284864Z",
     "shell.execute_reply": "2022-04-23T20:09:32.284480Z"
    },
    "papermill": {
     "duration": 0.042084,
     "end_time": "2022-04-23T20:09:32.284962",
     "exception": false,
     "start_time": "2022-04-23T20:09:32.242878",
     "status": "completed"
    },
    "tags": []
   },
   "outputs": [
    {
     "data": {
      "text/plain": [
       "((10000, 28, 28), (10000,))"
      ]
     },
     "execution_count": 8,
     "metadata": {},
     "output_type": "execute_result"
    }
   ],
   "source": [
    "test_images.shape, test_labels.shape"
   ]
  },
  {
   "cell_type": "code",
   "execution_count": 9,
   "id": "f9ed8fe0",
   "metadata": {
    "execution": {
     "iopub.execute_input": "2022-04-23T20:09:32.360321Z",
     "iopub.status.busy": "2022-04-23T20:09:32.344027Z",
     "iopub.status.idle": "2022-04-23T20:09:32.474525Z",
     "shell.execute_reply": "2022-04-23T20:09:32.474144Z"
    },
    "papermill": {
     "duration": 0.167427,
     "end_time": "2022-04-23T20:09:32.474632",
     "exception": false,
     "start_time": "2022-04-23T20:09:32.307205",
     "status": "completed"
    },
    "tags": []
   },
   "outputs": [
    {
     "name": "stdout",
     "output_type": "stream",
     "text": [
      "2\n"
     ]
    },
    {
     "data": {
      "text/plain": [
       "<matplotlib.image.AxesImage at 0x7f8690800438>"
      ]
     },
     "execution_count": 9,
     "metadata": {},
     "output_type": "execute_result"
    },
    {
     "data": {
      "image/png": "[encoded data removed]",
      "text/plain": [
       "<Figure size 432x288 with 1 Axes>"
      ]
     },
     "metadata": {
      "needs_background": "light"
     },
     "output_type": "display_data"
    }
   ],
   "source": [
    "image_index = 7776 # You may select anything up to 60,000\n",
    "print(train_labels[image_index]) \n",
    "plt.imshow(train_images[image_index], cmap='Greys')"
   ]
  },
  {
   "cell_type": "markdown",
   "id": "a8d2388d",
   "metadata": {
    "papermill": {
     "duration": 0.023358,
     "end_time": "2022-04-23T20:09:32.521353",
     "exception": false,
     "start_time": "2022-04-23T20:09:32.497995",
     "status": "completed"
    },
    "tags": []
   },
   "source": [
    "## Filter data to get 3 and 8 out"
   ]
  },
  {
   "cell_type": "code",
   "execution_count": 10,
   "id": "776f7fc7",
   "metadata": {
    "execution": {
     "iopub.execute_input": "2022-04-23T20:09:32.585954Z",
     "iopub.status.busy": "2022-04-23T20:09:32.581935Z",
     "iopub.status.idle": "2022-04-23T20:09:32.592660Z",
     "shell.execute_reply": "2022-04-23T20:09:32.593017Z"
    },
    "papermill": {
     "duration": 0.048728,
     "end_time": "2022-04-23T20:09:32.593133",
     "exception": false,
     "start_time": "2022-04-23T20:09:32.544405",
     "status": "completed"
    },
    "tags": []
   },
   "outputs": [],
   "source": [
    "train_filter = np.where((train_labels == 3 ) | (train_labels == 8))\n",
    "test_filter = np.where((test_labels == 3) | (test_labels == 8))\n",
    "X_train, y_train = train_images[train_filter], train_labels[train_filter]\n",
    "X_test, y_test = test_images[test_filter], test_labels[test_filter]"
   ]
  },
  {
   "cell_type": "markdown",
   "id": "948f0b7e",
   "metadata": {
    "papermill": {
     "duration": 0.023118,
     "end_time": "2022-04-23T20:09:32.639667",
     "exception": false,
     "start_time": "2022-04-23T20:09:32.616549",
     "status": "completed"
    },
    "tags": []
   },
   "source": [
    "We normalize the pizel values in the 0 to 1 range"
   ]
  },
  {
   "cell_type": "code",
   "execution_count": 11,
   "id": "ee4c2166",
   "metadata": {
    "execution": {
     "iopub.execute_input": "2022-04-23T20:09:32.702869Z",
     "iopub.status.busy": "2022-04-23T20:09:32.702406Z",
     "iopub.status.idle": "2022-04-23T20:09:32.743252Z",
     "shell.execute_reply": "2022-04-23T20:09:32.742748Z"
    },
    "papermill": {
     "duration": 0.080576,
     "end_time": "2022-04-23T20:09:32.743386",
     "exception": false,
     "start_time": "2022-04-23T20:09:32.662810",
     "status": "completed"
    },
    "tags": []
   },
   "outputs": [],
   "source": [
    "X_train = X_train/255.\n",
    "X_test = X_test/255."
   ]
  },
  {
   "cell_type": "markdown",
   "id": "ddcf4fab",
   "metadata": {
    "papermill": {
     "duration": 0.023223,
     "end_time": "2022-04-23T20:09:32.790587",
     "exception": false,
     "start_time": "2022-04-23T20:09:32.767364",
     "status": "completed"
    },
    "tags": []
   },
   "source": [
    "And setup the labels as 1 (when the digit is 3) and 0 (when the digit is 8)"
   ]
  },
  {
   "cell_type": "code",
   "execution_count": 12,
   "id": "7dc908f2",
   "metadata": {
    "execution": {
     "iopub.execute_input": "2022-04-23T20:09:32.840317Z",
     "iopub.status.busy": "2022-04-23T20:09:32.839859Z",
     "iopub.status.idle": "2022-04-23T20:09:32.852582Z",
     "shell.execute_reply": "2022-04-23T20:09:32.852198Z"
    },
    "papermill": {
     "duration": 0.038879,
     "end_time": "2022-04-23T20:09:32.852678",
     "exception": false,
     "start_time": "2022-04-23T20:09:32.813799",
     "status": "completed"
    },
    "tags": []
   },
   "outputs": [],
   "source": [
    "y_train = 1*(y_train==3)\n",
    "y_test = 1*(y_test==3)"
   ]
  },
  {
   "cell_type": "code",
   "execution_count": 13,
   "id": "01e4e969",
   "metadata": {
    "execution": {
     "iopub.execute_input": "2022-04-23T20:09:32.914876Z",
     "iopub.status.busy": "2022-04-23T20:09:32.914164Z",
     "iopub.status.idle": "2022-04-23T20:09:32.921125Z",
     "shell.execute_reply": "2022-04-23T20:09:32.920765Z"
    },
    "papermill": {
     "duration": 0.045357,
     "end_time": "2022-04-23T20:09:32.921223",
     "exception": false,
     "start_time": "2022-04-23T20:09:32.875866",
     "status": "completed"
    },
    "tags": []
   },
   "outputs": [
    {
     "data": {
      "text/plain": [
       "((11982, 28, 28), (1984, 28, 28))"
      ]
     },
     "execution_count": 13,
     "metadata": {},
     "output_type": "execute_result"
    }
   ],
   "source": [
    "X_train.shape, X_test.shape"
   ]
  },
  {
   "cell_type": "markdown",
   "id": "5ccf3f85",
   "metadata": {
    "papermill": {
     "duration": 0.02348,
     "end_time": "2022-04-23T20:09:32.967917",
     "exception": false,
     "start_time": "2022-04-23T20:09:32.944437",
     "status": "completed"
    },
    "tags": []
   },
   "source": [
    "We reshape the data to flatten the image pixels into a set of features or co-variates:"
   ]
  },
  {
   "cell_type": "code",
   "execution_count": 14,
   "id": "5286a4a3",
   "metadata": {
    "execution": {
     "iopub.execute_input": "2022-04-23T20:09:33.032664Z",
     "iopub.status.busy": "2022-04-23T20:09:33.029938Z",
     "iopub.status.idle": "2022-04-23T20:09:33.035563Z",
     "shell.execute_reply": "2022-04-23T20:09:33.035178Z"
    },
    "papermill": {
     "duration": 0.044424,
     "end_time": "2022-04-23T20:09:33.035656",
     "exception": false,
     "start_time": "2022-04-23T20:09:32.991232",
     "status": "completed"
    },
    "tags": []
   },
   "outputs": [
    {
     "data": {
      "text/plain": [
       "((11982, 784), (1984, 784))"
      ]
     },
     "execution_count": 14,
     "metadata": {},
     "output_type": "execute_result"
    }
   ],
   "source": [
    "X_train = X_train.reshape(X_train.shape[0], -1)\n",
    "X_test = X_test.reshape(X_test.shape[0], -1)\n",
    "X_train.shape, X_test.shape"
   ]
  },
  {
   "cell_type": "code",
   "execution_count": 15,
   "id": "73c5f88a",
   "metadata": {
    "execution": {
     "iopub.execute_input": "2022-04-23T20:09:33.086899Z",
     "iopub.status.busy": "2022-04-23T20:09:33.086444Z",
     "iopub.status.idle": "2022-04-23T20:09:33.105254Z",
     "shell.execute_reply": "2022-04-23T20:09:33.104805Z"
    },
    "papermill": {
     "duration": 0.046177,
     "end_time": "2022-04-23T20:09:33.105403",
     "exception": false,
     "start_time": "2022-04-23T20:09:33.059226",
     "status": "completed"
    },
    "tags": []
   },
   "outputs": [],
   "source": [
    "#Impoting functions from 'Kudzu'\n",
    "from kudzu.model import Model\n",
    "from kudzu.train import Learner\n",
    "from kudzu.optim import GD\n",
    "from kudzu.data import Data, Sampler,Dataloader\n",
    "\n",
    "from kudzu.callbacks import AccCallback\n",
    "from kudzu.callbacks import ClfCallback\n",
    "\n",
    "from kudzu.loss import MSE\n",
    "\n",
    "from kudzu.layer import Sigmoid,Relu\n",
    "from kudzu.layer import Affine"
   ]
  },
  {
   "cell_type": "markdown",
   "id": "bc01172a",
   "metadata": {
    "papermill": {
     "duration": 0.02342,
     "end_time": "2022-04-23T20:09:33.153588",
     "exception": false,
     "start_time": "2022-04-23T20:09:33.130168",
     "status": "completed"
    },
    "tags": []
   },
   "source": [
    "### Let us create a `Config` class, to store important parameters. \n",
    "This class essentially plays the role of a dictionary."
   ]
  },
  {
   "cell_type": "code",
   "execution_count": 16,
   "id": "978281aa",
   "metadata": {
    "execution": {
     "iopub.execute_input": "2022-04-23T20:09:33.204117Z",
     "iopub.status.busy": "2022-04-23T20:09:33.203658Z",
     "iopub.status.idle": "2022-04-23T20:09:33.216222Z",
     "shell.execute_reply": "2022-04-23T20:09:33.216605Z"
    },
    "papermill": {
     "duration": 0.039688,
     "end_time": "2022-04-23T20:09:33.216717",
     "exception": false,
     "start_time": "2022-04-23T20:09:33.177029",
     "status": "completed"
    },
    "tags": []
   },
   "outputs": [],
   "source": [
    "class Config:\n",
    "    pass\n",
    "config = Config()\n",
    "config.lr = 0.001\n",
    "config.num_epochs = 250\n",
    "config.bs = 50"
   ]
  },
  {
   "cell_type": "markdown",
   "id": "1385fa59",
   "metadata": {
    "papermill": {
     "duration": 0.023516,
     "end_time": "2022-04-23T20:09:33.263850",
     "exception": false,
     "start_time": "2022-04-23T20:09:33.240334",
     "status": "completed"
    },
    "tags": []
   },
   "source": [
    "### Running Models with the Training data\n",
    "Details about the network layers:\n",
    "- A first affine layer has 784 inputs and does 100 affine transforms. These are followed by a Relu\n",
    "- A second affine layer has 100 inputs from the 100 activations of the past layer, and does 100 affine transforms. These are followed by a Relu\n",
    "- A third affine layer has 100 activations and does 2 affine transformations to create an embedding for visualization. There is no non-linearity here.\n",
    "- A final \"logistic regression\" which has an affine transform from 2 inputs to 1 output, which is squeezed through a sigmoid.\n"
   ]
  },
  {
   "cell_type": "code",
   "execution_count": 17,
   "id": "2b9c66db",
   "metadata": {
    "execution": {
     "iopub.execute_input": "2022-04-23T20:09:33.314815Z",
     "iopub.status.busy": "2022-04-23T20:09:33.314361Z",
     "iopub.status.idle": "2022-04-23T20:09:33.326645Z",
     "shell.execute_reply": "2022-04-23T20:09:33.326264Z"
    },
    "papermill": {
     "duration": 0.039301,
     "end_time": "2022-04-23T20:09:33.326746",
     "exception": false,
     "start_time": "2022-04-23T20:09:33.287445",
     "status": "completed"
    },
    "tags": []
   },
   "outputs": [],
   "source": [
    "data = Data(X_train, y_train.reshape(-1,1))\n",
    "sampler = Sampler(data, config.bs, shuffle=True)\n",
    "\n",
    "dl = Dataloader(data, sampler)\n",
    "\n",
    "opt = GD(config.lr)\n",
    "loss = MSE()"
   ]
  },
  {
   "cell_type": "code",
   "execution_count": 18,
   "id": "b275e4c2",
   "metadata": {
    "execution": {
     "iopub.execute_input": "2022-04-23T20:09:33.378381Z",
     "iopub.status.busy": "2022-04-23T20:09:33.377931Z",
     "iopub.status.idle": "2022-04-23T20:09:33.389861Z",
     "shell.execute_reply": "2022-04-23T20:09:33.390243Z"
    },
    "papermill": {
     "duration": 0.039898,
     "end_time": "2022-04-23T20:09:33.390356",
     "exception": false,
     "start_time": "2022-04-23T20:09:33.350458",
     "status": "completed"
    },
    "tags": []
   },
   "outputs": [],
   "source": [
    "training_data_x = X_train\n",
    "testing_data_x = X_test\n",
    "training_data_y = y_train.reshape(-1,1)\n",
    "testing_data_y = y_test.reshape(-1,1)"
   ]
  },
  {
   "cell_type": "code",
   "execution_count": 19,
   "id": "76951160",
   "metadata": {
    "execution": {
     "iopub.execute_input": "2022-04-23T20:09:33.447643Z",
     "iopub.status.busy": "2022-04-23T20:09:33.447178Z",
     "iopub.status.idle": "2022-04-23T20:09:33.459343Z",
     "shell.execute_reply": "2022-04-23T20:09:33.458961Z"
    },
    "papermill": {
     "duration": 0.04571,
     "end_time": "2022-04-23T20:09:33.459438",
     "exception": false,
     "start_time": "2022-04-23T20:09:33.413728",
     "status": "completed"
    },
    "tags": []
   },
   "outputs": [
    {
     "name": "stdout",
     "output_type": "stream",
     "text": [
      "xavier\n",
      "xavier\n",
      "xavier\n",
      "xavier\n",
      "xavier\n"
     ]
    }
   ],
   "source": [
    "layers = [Affine(\"first\", 784, 100), Relu(\"first\"), Affine(\"second\", 100, 100), Relu(\"second\"), Affine(\"third\", 100, 2), Affine(\"last\", 2, 1), Sigmoid(\"last\")]\n",
    "model_nn = Model(layers)\n",
    "model_lr = Model([Affine(\"logits\", 784, 1), Sigmoid(\"sigmoid\")])"
   ]
  },
  {
   "cell_type": "code",
   "execution_count": 20,
   "id": "6eede77a",
   "metadata": {
    "execution": {
     "iopub.execute_input": "2022-04-23T20:09:33.524316Z",
     "iopub.status.busy": "2022-04-23T20:09:33.522965Z",
     "iopub.status.idle": "2022-04-23T20:09:33.526465Z",
     "shell.execute_reply": "2022-04-23T20:09:33.526086Z"
    },
    "papermill": {
     "duration": 0.043234,
     "end_time": "2022-04-23T20:09:33.526559",
     "exception": false,
     "start_time": "2022-04-23T20:09:33.483325",
     "status": "completed"
    },
    "tags": []
   },
   "outputs": [],
   "source": [
    "nn_learner = Learner(loss, model_nn, opt, config.num_epochs)\n",
    "acc_nn = ClfCallback(nn_learner, config.bs, training_data_x , testing_data_x, training_data_y, testing_data_y)\n",
    "nn_learner.set_callbacks([acc_nn])"
   ]
  },
  {
   "cell_type": "code",
   "execution_count": 21,
   "id": "877b6cc7",
   "metadata": {
    "execution": {
     "iopub.execute_input": "2022-04-23T20:09:33.577423Z",
     "iopub.status.busy": "2022-04-23T20:09:33.576952Z",
     "iopub.status.idle": "2022-04-23T20:09:33.589252Z",
     "shell.execute_reply": "2022-04-23T20:09:33.588896Z"
    },
    "papermill": {
     "duration": 0.039008,
     "end_time": "2022-04-23T20:09:33.589378",
     "exception": false,
     "start_time": "2022-04-23T20:09:33.550370",
     "status": "completed"
    },
    "tags": []
   },
   "outputs": [],
   "source": [
    "lr_learner = Learner(loss, model_lr, opt, config.num_epochs)\n",
    "acc_lr = ClfCallback(lr_learner, config.bs, training_data_x , testing_data_x, training_data_y, testing_data_y)\n",
    "lr_learner.set_callbacks([acc_lr])"
   ]
  },
  {
   "cell_type": "code",
   "execution_count": 22,
   "id": "d9b133c3",
   "metadata": {
    "execution": {
     "iopub.execute_input": "2022-04-23T20:09:33.642578Z",
     "iopub.status.busy": "2022-04-23T20:09:33.642066Z",
     "iopub.status.idle": "2022-04-23T20:10:46.370030Z",
     "shell.execute_reply": "2022-04-23T20:10:46.370504Z"
    },
    "papermill": {
     "duration": 72.757387,
     "end_time": "2022-04-23T20:10:46.370646",
     "exception": false,
     "start_time": "2022-04-23T20:09:33.613259",
     "status": "completed"
    },
    "tags": []
   },
   "outputs": [
    {
     "name": "stdout",
     "output_type": "stream",
     "text": [
      "Epoch 0, Loss 0.2605\n",
      "Training Accuracy: 0.3971, Testing Accuracy: 0.3911\n",
      "\n"
     ]
    },
    {
     "name": "stdout",
     "output_type": "stream",
     "text": [
      "Epoch 10, Loss 0.2013\n",
      "Training Accuracy: 0.8625, Testing Accuracy: 0.8765\n",
      "\n"
     ]
    },
    {
     "name": "stdout",
     "output_type": "stream",
     "text": [
      "Epoch 20, Loss 0.1046\n",
      "Training Accuracy: 0.9080, Testing Accuracy: 0.9173\n",
      "\n"
     ]
    },
    {
     "name": "stdout",
     "output_type": "stream",
     "text": [
      "Epoch 30, Loss 0.0642\n",
      "Training Accuracy: 0.9328, Testing Accuracy: 0.9441\n",
      "\n"
     ]
    },
    {
     "name": "stdout",
     "output_type": "stream",
     "text": [
      "Epoch 40, Loss 0.0494\n",
      "Training Accuracy: 0.9463, Testing Accuracy: 0.9541\n",
      "\n"
     ]
    },
    {
     "name": "stdout",
     "output_type": "stream",
     "text": [
      "Epoch 50, Loss 0.0421\n",
      "Training Accuracy: 0.9524, Testing Accuracy: 0.9617\n",
      "\n"
     ]
    },
    {
     "name": "stdout",
     "output_type": "stream",
     "text": [
      "Epoch 60, Loss 0.0377\n",
      "Training Accuracy: 0.9558, Testing Accuracy: 0.9647\n",
      "\n"
     ]
    },
    {
     "name": "stdout",
     "output_type": "stream",
     "text": [
      "Epoch 70, Loss 0.0348\n",
      "Training Accuracy: 0.9591, Testing Accuracy: 0.9672\n",
      "\n"
     ]
    },
    {
     "name": "stdout",
     "output_type": "stream",
     "text": [
      "Epoch 80, Loss 0.0327\n",
      "Training Accuracy: 0.9614, Testing Accuracy: 0.9682\n",
      "\n"
     ]
    },
    {
     "name": "stdout",
     "output_type": "stream",
     "text": [
      "Epoch 90, Loss 0.031\n",
      "Training Accuracy: 0.9634, Testing Accuracy: 0.9688\n",
      "\n"
     ]
    },
    {
     "name": "stdout",
     "output_type": "stream",
     "text": [
      "Epoch 100, Loss 0.0297\n",
      "Training Accuracy: 0.9657, Testing Accuracy: 0.9698\n",
      "\n"
     ]
    },
    {
     "name": "stdout",
     "output_type": "stream",
     "text": [
      "Epoch 110, Loss 0.0286\n",
      "Training Accuracy: 0.9667, Testing Accuracy: 0.9703\n",
      "\n"
     ]
    },
    {
     "name": "stdout",
     "output_type": "stream",
     "text": [
      "Epoch 120, Loss 0.0276\n",
      "Training Accuracy: 0.9676, Testing Accuracy: 0.9703\n",
      "\n"
     ]
    },
    {
     "name": "stdout",
     "output_type": "stream",
     "text": [
      "Epoch 130, Loss 0.0268\n",
      "Training Accuracy: 0.9687, Testing Accuracy: 0.9698\n",
      "\n"
     ]
    },
    {
     "name": "stdout",
     "output_type": "stream",
     "text": [
      "Epoch 140, Loss 0.0261\n",
      "Training Accuracy: 0.9696, Testing Accuracy: 0.9703\n",
      "\n"
     ]
    },
    {
     "name": "stdout",
     "output_type": "stream",
     "text": [
      "Epoch 150, Loss 0.0255\n",
      "Training Accuracy: 0.9702, Testing Accuracy: 0.9708\n",
      "\n"
     ]
    },
    {
     "name": "stdout",
     "output_type": "stream",
     "text": [
      "Epoch 160, Loss 0.0249\n",
      "Training Accuracy: 0.9706, Testing Accuracy: 0.9713\n",
      "\n"
     ]
    },
    {
     "name": "stdout",
     "output_type": "stream",
     "text": [
      "Epoch 170, Loss 0.0243\n",
      "Training Accuracy: 0.9716, Testing Accuracy: 0.9723\n",
      "\n"
     ]
    },
    {
     "name": "stdout",
     "output_type": "stream",
     "text": [
      "Epoch 180, Loss 0.0239\n",
      "Training Accuracy: 0.9725, Testing Accuracy: 0.9723\n",
      "\n"
     ]
    },
    {
     "name": "stdout",
     "output_type": "stream",
     "text": [
      "Epoch 190, Loss 0.0234\n",
      "Training Accuracy: 0.9731, Testing Accuracy: 0.9718\n",
      "\n"
     ]
    },
    {
     "name": "stdout",
     "output_type": "stream",
     "text": [
      "Epoch 200, Loss 0.023\n",
      "Training Accuracy: 0.9736, Testing Accuracy: 0.9718\n",
      "\n"
     ]
    },
    {
     "name": "stdout",
     "output_type": "stream",
     "text": [
      "Epoch 210, Loss 0.0226\n",
      "Training Accuracy: 0.9740, Testing Accuracy: 0.9718\n",
      "\n"
     ]
    },
    {
     "name": "stdout",
     "output_type": "stream",
     "text": [
      "Epoch 220, Loss 0.0222\n",
      "Training Accuracy: 0.9750, Testing Accuracy: 0.9718\n",
      "\n"
     ]
    },
    {
     "name": "stdout",
     "output_type": "stream",
     "text": [
      "Epoch 230, Loss 0.0218\n",
      "Training Accuracy: 0.9755, Testing Accuracy: 0.9718\n",
      "\n"
     ]
    },
    {
     "name": "stdout",
     "output_type": "stream",
     "text": [
      "Epoch 240, Loss 0.0215\n",
      "Training Accuracy: 0.9759, Testing Accuracy: 0.9713\n",
      "\n"
     ]
    },
    {
     "data": {
      "text/plain": [
       "0.03312774003798165"
      ]
     },
     "execution_count": 22,
     "metadata": {},
     "output_type": "execute_result"
    }
   ],
   "source": [
    "nn_learner.train_loop(dl)"
   ]
  },
  {
   "cell_type": "code",
   "execution_count": 23,
   "id": "e0163366",
   "metadata": {
    "execution": {
     "iopub.execute_input": "2022-04-23T20:10:46.450479Z",
     "iopub.status.busy": "2022-04-23T20:10:46.449968Z",
     "iopub.status.idle": "2022-04-23T20:10:59.107456Z",
     "shell.execute_reply": "2022-04-23T20:10:59.108212Z"
    },
    "papermill": {
     "duration": 12.70341,
     "end_time": "2022-04-23T20:10:59.108361",
     "exception": false,
     "start_time": "2022-04-23T20:10:46.404951",
     "status": "completed"
    },
    "tags": []
   },
   "outputs": [
    {
     "name": "stdout",
     "output_type": "stream",
     "text": [
      "Epoch 0, Loss 0.2794\n",
      "Training Accuracy: 0.4987, Testing Accuracy: 0.4909\n",
      "\n"
     ]
    },
    {
     "name": "stdout",
     "output_type": "stream",
     "text": [
      "Epoch 10, Loss 0.1097\n",
      "Training Accuracy: 0.8991, Testing Accuracy: 0.9022\n",
      "\n"
     ]
    },
    {
     "name": "stdout",
     "output_type": "stream",
     "text": [
      "Epoch 20, Loss 0.0827\n",
      "Training Accuracy: 0.9221, Testing Accuracy: 0.9294\n",
      "\n"
     ]
    },
    {
     "name": "stdout",
     "output_type": "stream",
     "text": [
      "Epoch 30, Loss 0.0706\n",
      "Training Accuracy: 0.9334, Testing Accuracy: 0.9425\n",
      "\n"
     ]
    },
    {
     "name": "stdout",
     "output_type": "stream",
     "text": [
      "Epoch 40, Loss 0.0635\n",
      "Training Accuracy: 0.9378, Testing Accuracy: 0.9506\n",
      "\n"
     ]
    },
    {
     "name": "stdout",
     "output_type": "stream",
     "text": [
      "Epoch 50, Loss 0.0587\n",
      "Training Accuracy: 0.9417, Testing Accuracy: 0.9536\n",
      "\n"
     ]
    },
    {
     "name": "stdout",
     "output_type": "stream",
     "text": [
      "Epoch 60, Loss 0.0552\n",
      "Training Accuracy: 0.9441, Testing Accuracy: 0.9551\n",
      "\n"
     ]
    },
    {
     "name": "stdout",
     "output_type": "stream",
     "text": [
      "Epoch 70, Loss 0.0525\n",
      "Training Accuracy: 0.9463, Testing Accuracy: 0.9582\n",
      "\n"
     ]
    },
    {
     "name": "stdout",
     "output_type": "stream",
     "text": [
      "Epoch 80, Loss 0.0503\n",
      "Training Accuracy: 0.9475, Testing Accuracy: 0.9602\n",
      "\n"
     ]
    },
    {
     "name": "stdout",
     "output_type": "stream",
     "text": [
      "Epoch 90, Loss 0.0486\n",
      "Training Accuracy: 0.9488, Testing Accuracy: 0.9612\n",
      "\n"
     ]
    },
    {
     "name": "stdout",
     "output_type": "stream",
     "text": [
      "Epoch 100, Loss 0.0471\n",
      "Training Accuracy: 0.9505, Testing Accuracy: 0.9612\n",
      "\n"
     ]
    },
    {
     "name": "stdout",
     "output_type": "stream",
     "text": [
      "Epoch 110, Loss 0.0458\n",
      "Training Accuracy: 0.9515, Testing Accuracy: 0.9627\n",
      "\n"
     ]
    },
    {
     "name": "stdout",
     "output_type": "stream",
     "text": [
      "Epoch 120, Loss 0.0447\n",
      "Training Accuracy: 0.9519, Testing Accuracy: 0.9632\n",
      "\n"
     ]
    },
    {
     "name": "stdout",
     "output_type": "stream",
     "text": [
      "Epoch 130, Loss 0.0438\n",
      "Training Accuracy: 0.9531, Testing Accuracy: 0.9632\n",
      "\n"
     ]
    },
    {
     "name": "stdout",
     "output_type": "stream",
     "text": [
      "Epoch 140, Loss 0.0429\n",
      "Training Accuracy: 0.9537, Testing Accuracy: 0.9632\n",
      "\n"
     ]
    },
    {
     "name": "stdout",
     "output_type": "stream",
     "text": [
      "Epoch 150, Loss 0.0421\n",
      "Training Accuracy: 0.9541, Testing Accuracy: 0.9632\n",
      "\n"
     ]
    },
    {
     "name": "stdout",
     "output_type": "stream",
     "text": [
      "Epoch 160, Loss 0.0414\n",
      "Training Accuracy: 0.9549, Testing Accuracy: 0.9632\n",
      "\n"
     ]
    },
    {
     "name": "stdout",
     "output_type": "stream",
     "text": [
      "Epoch 170, Loss 0.0408\n",
      "Training Accuracy: 0.9552, Testing Accuracy: 0.9642\n",
      "\n"
     ]
    },
    {
     "name": "stdout",
     "output_type": "stream",
     "text": [
      "Epoch 180, Loss 0.0402\n",
      "Training Accuracy: 0.9558, Testing Accuracy: 0.9642\n",
      "\n"
     ]
    },
    {
     "name": "stdout",
     "output_type": "stream",
     "text": [
      "Epoch 190, Loss 0.0397\n",
      "Training Accuracy: 0.9563, Testing Accuracy: 0.9647\n",
      "\n"
     ]
    },
    {
     "name": "stdout",
     "output_type": "stream",
     "text": [
      "Epoch 200, Loss 0.0392\n",
      "Training Accuracy: 0.9572, Testing Accuracy: 0.9647\n",
      "\n"
     ]
    },
    {
     "name": "stdout",
     "output_type": "stream",
     "text": [
      "Epoch 210, Loss 0.0387\n",
      "Training Accuracy: 0.9575, Testing Accuracy: 0.9647\n",
      "\n"
     ]
    },
    {
     "name": "stdout",
     "output_type": "stream",
     "text": [
      "Epoch 220, Loss 0.0383\n",
      "Training Accuracy: 0.9578, Testing Accuracy: 0.9647\n",
      "\n"
     ]
    },
    {
     "name": "stdout",
     "output_type": "stream",
     "text": [
      "Epoch 230, Loss 0.0379\n",
      "Training Accuracy: 0.9579, Testing Accuracy: 0.9647\n",
      "\n"
     ]
    },
    {
     "name": "stdout",
     "output_type": "stream",
     "text": [
      "Epoch 240, Loss 0.0375\n",
      "Training Accuracy: 0.9584, Testing Accuracy: 0.9647\n",
      "\n"
     ]
    },
    {
     "data": {
      "text/plain": [
       "0.026828617200958603"
      ]
     },
     "execution_count": 23,
     "metadata": {},
     "output_type": "execute_result"
    }
   ],
   "source": [
    "lr_learner.train_loop(dl)"
   ]
  },
  {
   "cell_type": "code",
   "execution_count": 24,
   "id": "ca410940",
   "metadata": {
    "execution": {
     "iopub.execute_input": "2022-04-23T20:10:59.199029Z",
     "iopub.status.busy": "2022-04-23T20:10:59.198510Z",
     "iopub.status.idle": "2022-04-23T20:10:59.407551Z",
     "shell.execute_reply": "2022-04-23T20:10:59.407996Z"
    },
    "papermill": {
     "duration": 0.258688,
     "end_time": "2022-04-23T20:10:59.408154",
     "exception": false,
     "start_time": "2022-04-23T20:10:59.149466",
     "status": "completed"
    },
    "tags": []
   },
   "outputs": [
    {
     "data": {
      "text/plain": [
       "<matplotlib.legend.Legend at 0x7f86903e1a90>"
      ]
     },
     "execution_count": 24,
     "metadata": {},
     "output_type": "execute_result"
    },
    {
     "data": {
      "image/png": "[encoded data removed]",
      "text/plain": [
       "<Figure size 1080x720 with 1 Axes>"
      ]
     },
     "metadata": {
      "needs_background": "light"
     },
     "output_type": "display_data"
    }
   ],
   "source": [
    "#comparing the results of NN and LR\n",
    "plt.figure(figsize=(15,10))\n",
    "\n",
    "# Neural Network plots\n",
    "plt.plot(acc_nn.accuracies, 'r-', label = \"Training Accuracies - NN\")\n",
    "plt.plot(acc_nn.test_accuracies, 'g-', label = \"Testing Accuracies - NN\")\n",
    "\n",
    "# Logistic Regression plots\n",
    "plt.plot(acc_lr.accuracies, 'k-', label = \"Training Accuracies - LR\")\n",
    "plt.plot(acc_lr.test_accuracies, 'b-', label = \"Testing Accuracies - LR\")\n",
    "plt.legend()"
   ]
  },
  {
   "cell_type": "markdown",
   "id": "80dfb35c",
   "metadata": {
    "papermill": {
     "duration": 0.041786,
     "end_time": "2022-04-23T20:10:59.492618",
     "exception": false,
     "start_time": "2022-04-23T20:10:59.450832",
     "status": "completed"
    },
    "tags": []
   },
   "source": [
    "#### Plotting the outputs of this layer of the NN.\n"
   ]
  },
  {
   "cell_type": "code",
   "execution_count": 25,
   "id": "45eb2ff5",
   "metadata": {
    "execution": {
     "iopub.execute_input": "2022-04-23T20:10:59.587553Z",
     "iopub.status.busy": "2022-04-23T20:10:59.586697Z",
     "iopub.status.idle": "2022-04-23T20:10:59.601468Z",
     "shell.execute_reply": "2022-04-23T20:10:59.601870Z"
    },
    "papermill": {
     "duration": 0.067652,
     "end_time": "2022-04-23T20:10:59.602015",
     "exception": false,
     "start_time": "2022-04-23T20:10:59.534363",
     "status": "completed"
    },
    "tags": []
   },
   "outputs": [],
   "source": [
    "new_model = Model(layers[:-2])\n",
    "testing_plot = new_model(testing_data_x)"
   ]
  },
  {
   "cell_type": "code",
   "execution_count": 26,
   "id": "4c0a5485",
   "metadata": {
    "execution": {
     "iopub.execute_input": "2022-04-23T20:10:59.689660Z",
     "iopub.status.busy": "2022-04-23T20:10:59.689103Z",
     "iopub.status.idle": "2022-04-23T20:10:59.880196Z",
     "shell.execute_reply": "2022-04-23T20:10:59.879810Z"
    },
    "papermill": {
     "duration": 0.236257,
     "end_time": "2022-04-23T20:10:59.880305",
     "exception": false,
     "start_time": "2022-04-23T20:10:59.644048",
     "status": "completed"
    },
    "tags": []
   },
   "outputs": [
    {
     "data": {
      "text/plain": [
       "Text(0.5, 1.0, 'Outputs')"
      ]
     },
     "execution_count": 26,
     "metadata": {},
     "output_type": "execute_result"
    },
    {
     "data": {
      "image/png": "[encoded data removed]",
      "text/plain": [
       "<Figure size 576x504 with 1 Axes>"
      ]
     },
     "metadata": {
      "needs_background": "light"
     },
     "output_type": "display_data"
    }
   ],
   "source": [
    "# Plotting the scatter plot of points and color coding by class\n",
    "plt.figure(figsize=(8,7))\n",
    "plt.scatter(testing_plot[:,0], testing_plot[:,1], alpha = 0.1, c = y_test.ravel());\n",
    "plt.title('Outputs')"
   ]
  },
  {
   "cell_type": "markdown",
   "id": "a74fcf8f",
   "metadata": {
    "papermill": {
     "duration": 0.039334,
     "end_time": "2022-04-23T20:10:59.958895",
     "exception": false,
     "start_time": "2022-04-23T20:10:59.919561",
     "status": "completed"
    },
    "tags": []
   },
   "source": [
    "Probability contours"
   ]
  },
  {
   "cell_type": "code",
   "execution_count": 27,
   "id": "d0afc8e3",
   "metadata": {
    "execution": {
     "iopub.execute_input": "2022-04-23T20:11:00.042294Z",
     "iopub.status.busy": "2022-04-23T20:11:00.040148Z",
     "iopub.status.idle": "2022-04-23T20:11:00.050961Z",
     "shell.execute_reply": "2022-04-23T20:11:00.050529Z"
    },
    "papermill": {
     "duration": 0.053057,
     "end_time": "2022-04-23T20:11:00.051076",
     "exception": false,
     "start_time": "2022-04-23T20:10:59.998019",
     "status": "completed"
    },
    "tags": []
   },
   "outputs": [],
   "source": [
    "model_prob = Model(layers[-2:]) "
   ]
  },
  {
   "cell_type": "code",
   "execution_count": 28,
   "id": "9b96e238",
   "metadata": {
    "execution": {
     "iopub.execute_input": "2022-04-23T20:11:00.144204Z",
     "iopub.status.busy": "2022-04-23T20:11:00.143689Z",
     "iopub.status.idle": "2022-04-23T20:11:00.155777Z",
     "shell.execute_reply": "2022-04-23T20:11:00.156128Z"
    },
    "papermill": {
     "duration": 0.061271,
     "end_time": "2022-04-23T20:11:00.156254",
     "exception": false,
     "start_time": "2022-04-23T20:11:00.094983",
     "status": "completed"
    },
    "tags": []
   },
   "outputs": [],
   "source": [
    "#creating the x and y ranges according to the above generated plot.\n",
    "x_range = np.linspace(-4, 1, 100) \n",
    "y_range = np.linspace(-6, 6, 100) \n",
    "x_grid, y_grid = np.meshgrid(x_range, y_range) # x_grid and y_grig are of size 100 X 100\n",
    "\n",
    "# converting x_grid and y_grid to continuous arrays\n",
    "x_gridflat = np.ravel(x_grid)\n",
    "y_gridflat = np.ravel(y_grid)\n",
    "\n",
    "# The last layer of the current model takes two columns as input. Hence transpose of np.vstack() is required.\n",
    "X = np.vstack((x_gridflat, y_gridflat)).T\n",
    "\n",
    "prob_contour = model_prob(X).reshape(100,100) "
   ]
  },
  {
   "cell_type": "code",
   "execution_count": 29,
   "id": "da72499a",
   "metadata": {
    "execution": {
     "iopub.execute_input": "2022-04-23T20:11:00.265995Z",
     "iopub.status.busy": "2022-04-23T20:11:00.265455Z",
     "iopub.status.idle": "2022-04-23T20:11:00.496419Z",
     "shell.execute_reply": "2022-04-23T20:11:00.495655Z"
    },
    "papermill": {
     "duration": 0.300995,
     "end_time": "2022-04-23T20:11:00.496565",
     "exception": false,
     "start_time": "2022-04-23T20:11:00.195570",
     "status": "completed"
    },
    "tags": []
   },
   "outputs": [
    {
     "data": {
      "image/png": "[encoded data removed]",
      "text/plain": [
       "<Figure size 720x648 with 1 Axes>"
      ]
     },
     "metadata": {
      "needs_background": "light"
     },
     "output_type": "display_data"
    }
   ],
   "source": [
    "plt.figure(figsize=(10,9))\n",
    "plt.scatter(testing_plot[:,0], testing_plot[:,1], alpha = 0.1, c = y_test.ravel())\n",
    "contours = plt.contour(x_grid,y_grid,prob_contour)\n",
    "plt.title('Probability Contours')\n",
    "plt.clabel(contours, inline = True );"
   ]
  },
  {
   "cell_type": "code",
   "execution_count": null,
   "id": "e81b4ac7",
   "metadata": {
    "papermill": {
     "duration": 0.040995,
     "end_time": "2022-04-23T20:11:00.579411",
     "exception": false,
     "start_time": "2022-04-23T20:11:00.538416",
     "status": "completed"
    },
    "tags": []
   },
   "outputs": [],
   "source": []
  }
 ],
 "metadata": {
  "kernelspec": {
   "display_name": "Python 3",
   "language": "python",
   "name": "python3"
  },
  "language_info": {
   "codemirror_mode": {
    "name": "ipython",
    "version": 3
   },
   "file_extension": ".py",
   "mimetype": "text/x-python",
   "name": "python",
   "nbconvert_exporter": "python",
   "pygments_lexer": "ipython3",
   "version": "3.6.15"
  },
  "papermill": {
   "default_parameters": {},
   "duration": 93.450841,
   "end_time": "2022-04-23T20:11:01.038793",
   "environment_variables": {},
   "exception": null,
   "input_path": "2020-08-11-part2.ipynb",
   "output_path": "2020-08-11-part2.ipynb",
   "parameters": {},
   "start_time": "2022-04-23T20:09:27.587952",
   "version": "2.3.3"
  }
 },
 "nbformat": 4,
 "nbformat_minor": 5
}