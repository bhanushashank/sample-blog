{
 "cells": [
  {
   "cell_type": "markdown",
   "id": "98380cd3",
   "metadata": {
    "papermill": {
     "duration": 0.025561,
     "end_time": "2022-04-04T20:09:54.097237",
     "exception": false,
     "start_time": "2022-04-04T20:09:54.071676",
     "status": "completed"
    },
    "tags": []
   },
   "source": [
    "# Distinguish Your Own Digits (DYOD)"
   ]
  },
  {
   "cell_type": "markdown",
   "id": "ef31240d",
   "metadata": {
    "papermill": {
     "duration": 0.022693,
     "end_time": "2022-04-04T20:09:54.141716",
     "exception": false,
     "start_time": "2022-04-04T20:09:54.119023",
     "status": "completed"
    },
    "tags": []
   },
   "source": [
    "You are going to write a classifier that distinguishes between the number 3 and number 8."
   ]
  },
  {
   "cell_type": "code",
   "execution_count": 1,
   "id": "b15c8646",
   "metadata": {
    "execution": {
     "iopub.execute_input": "2022-04-04T20:09:54.193405Z",
     "iopub.status.busy": "2022-04-04T20:09:54.191317Z",
     "iopub.status.idle": "2022-04-04T20:09:54.203441Z",
     "shell.execute_reply": "2022-04-04T20:09:54.203049Z"
    },
    "papermill": {
     "duration": 0.040819,
     "end_time": "2022-04-04T20:09:54.203563",
     "exception": false,
     "start_time": "2022-04-04T20:09:54.162744",
     "status": "completed"
    },
    "tags": []
   },
   "outputs": [],
   "source": [
    "%load_ext autoreload\n",
    "%autoreload 2"
   ]
  },
  {
   "cell_type": "code",
   "execution_count": 2,
   "id": "22ef38dc",
   "metadata": {
    "execution": {
     "iopub.execute_input": "2022-04-04T20:09:54.249464Z",
     "iopub.status.busy": "2022-04-04T20:09:54.249003Z",
     "iopub.status.idle": "2022-04-04T20:09:54.832785Z",
     "shell.execute_reply": "2022-04-04T20:09:54.832242Z"
    },
    "papermill": {
     "duration": 0.608234,
     "end_time": "2022-04-04T20:09:54.832925",
     "exception": false,
     "start_time": "2022-04-04T20:09:54.224691",
     "status": "completed"
    },
    "tags": []
   },
   "outputs": [],
   "source": [
    "%matplotlib inline\n",
    "import numpy as np\n",
    "import matplotlib.pyplot as plt\n",
    "import pandas as pd"
   ]
  },
  {
   "cell_type": "markdown",
   "id": "ba036198",
   "metadata": {
    "papermill": {
     "duration": 0.021011,
     "end_time": "2022-04-04T20:09:54.876097",
     "exception": false,
     "start_time": "2022-04-04T20:09:54.855086",
     "status": "completed"
    },
    "tags": []
   },
   "source": [
    "From the command line run `pip install mnist`. This is a library that will help you bring down the mnist dataset. If you run this from a notebook, you need to put  `!pip install mnist` in a cell by itself."
   ]
  },
  {
   "cell_type": "code",
   "execution_count": 3,
   "id": "bb6ad8a1",
   "metadata": {
    "execution": {
     "iopub.execute_input": "2022-04-04T20:09:54.922316Z",
     "iopub.status.busy": "2022-04-04T20:09:54.921871Z",
     "iopub.status.idle": "2022-04-04T20:09:56.522110Z",
     "shell.execute_reply": "2022-04-04T20:09:56.521545Z"
    },
    "papermill": {
     "duration": 1.624955,
     "end_time": "2022-04-04T20:09:56.522247",
     "exception": false,
     "start_time": "2022-04-04T20:09:54.897292",
     "status": "completed"
    },
    "tags": []
   },
   "outputs": [
    {
     "name": "stdout",
     "output_type": "stream",
     "text": [
      "Collecting mnist\r\n"
     ]
    },
    {
     "name": "stdout",
     "output_type": "stream",
     "text": [
      "  Downloading mnist-0.2.2-py2.py3-none-any.whl (3.5 kB)\r\n",
      "Requirement already satisfied: numpy in /opt/hostedtoolcache/Python/3.6.15/x64/lib/python3.6/site-packages (from mnist) (1.19.5)\r\n"
     ]
    },
    {
     "name": "stdout",
     "output_type": "stream",
     "text": [
      "Installing collected packages: mnist\r\n"
     ]
    },
    {
     "name": "stdout",
     "output_type": "stream",
     "text": [
      "Successfully installed mnist-0.2.2\r\n"
     ]
    }
   ],
   "source": [
    "!pip install mnist"
   ]
  },
  {
   "cell_type": "markdown",
   "id": "69df9c9a",
   "metadata": {
    "papermill": {
     "duration": 0.025403,
     "end_time": "2022-04-04T20:09:56.573279",
     "exception": false,
     "start_time": "2022-04-04T20:09:56.547876",
     "status": "completed"
    },
    "tags": []
   },
   "source": [
    "## Preparing the Data"
   ]
  },
  {
   "cell_type": "code",
   "execution_count": 4,
   "id": "7f69d806",
   "metadata": {
    "execution": {
     "iopub.execute_input": "2022-04-04T20:09:56.628880Z",
     "iopub.status.busy": "2022-04-04T20:09:56.628367Z",
     "iopub.status.idle": "2022-04-04T20:09:56.641036Z",
     "shell.execute_reply": "2022-04-04T20:09:56.640600Z"
    },
    "papermill": {
     "duration": 0.043082,
     "end_time": "2022-04-04T20:09:56.641141",
     "exception": false,
     "start_time": "2022-04-04T20:09:56.598059",
     "status": "completed"
    },
    "tags": []
   },
   "outputs": [],
   "source": [
    "import mnist"
   ]
  },
  {
   "cell_type": "code",
   "execution_count": 5,
   "id": "a411e44f",
   "metadata": {
    "execution": {
     "iopub.execute_input": "2022-04-04T20:09:56.698366Z",
     "iopub.status.busy": "2022-04-04T20:09:56.697862Z",
     "iopub.status.idle": "2022-04-04T20:09:57.175364Z",
     "shell.execute_reply": "2022-04-04T20:09:57.174844Z"
    },
    "papermill": {
     "duration": 0.509449,
     "end_time": "2022-04-04T20:09:57.175496",
     "exception": false,
     "start_time": "2022-04-04T20:09:56.666047",
     "status": "completed"
    },
    "tags": []
   },
   "outputs": [],
   "source": [
    "train_images = mnist.train_images()\n",
    "train_labels = mnist.train_labels()"
   ]
  },
  {
   "cell_type": "code",
   "execution_count": 6,
   "id": "dceab3a5",
   "metadata": {
    "execution": {
     "iopub.execute_input": "2022-04-04T20:09:57.230450Z",
     "iopub.status.busy": "2022-04-04T20:09:57.229932Z",
     "iopub.status.idle": "2022-04-04T20:09:57.244080Z",
     "shell.execute_reply": "2022-04-04T20:09:57.244491Z"
    },
    "papermill": {
     "duration": 0.043472,
     "end_time": "2022-04-04T20:09:57.244625",
     "exception": false,
     "start_time": "2022-04-04T20:09:57.201153",
     "status": "completed"
    },
    "tags": []
   },
   "outputs": [
    {
     "data": {
      "text/plain": [
       "((60000, 28, 28), (60000,))"
      ]
     },
     "execution_count": 6,
     "metadata": {},
     "output_type": "execute_result"
    }
   ],
   "source": [
    "train_images.shape, train_labels.shape"
   ]
  },
  {
   "cell_type": "code",
   "execution_count": 7,
   "id": "f50dc2bb",
   "metadata": {
    "execution": {
     "iopub.execute_input": "2022-04-04T20:09:57.310957Z",
     "iopub.status.busy": "2022-04-04T20:09:57.307212Z",
     "iopub.status.idle": "2022-04-04T20:09:57.467754Z",
     "shell.execute_reply": "2022-04-04T20:09:57.467205Z"
    },
    "papermill": {
     "duration": 0.198029,
     "end_time": "2022-04-04T20:09:57.467895",
     "exception": false,
     "start_time": "2022-04-04T20:09:57.269866",
     "status": "completed"
    },
    "tags": []
   },
   "outputs": [],
   "source": [
    "test_images = mnist.test_images()\n",
    "test_labels = mnist.test_labels()"
   ]
  },
  {
   "cell_type": "code",
   "execution_count": 8,
   "id": "fc38cf1b",
   "metadata": {
    "execution": {
     "iopub.execute_input": "2022-04-04T20:09:57.515887Z",
     "iopub.status.busy": "2022-04-04T20:09:57.515440Z",
     "iopub.status.idle": "2022-04-04T20:09:57.528752Z",
     "shell.execute_reply": "2022-04-04T20:09:57.528385Z"
    },
    "papermill": {
     "duration": 0.038512,
     "end_time": "2022-04-04T20:09:57.528850",
     "exception": false,
     "start_time": "2022-04-04T20:09:57.490338",
     "status": "completed"
    },
    "tags": []
   },
   "outputs": [
    {
     "data": {
      "text/plain": [
       "((10000, 28, 28), (10000,))"
      ]
     },
     "execution_count": 8,
     "metadata": {},
     "output_type": "execute_result"
    }
   ],
   "source": [
    "test_images.shape, test_labels.shape"
   ]
  },
  {
   "cell_type": "code",
   "execution_count": 9,
   "id": "f9ed8fe0",
   "metadata": {
    "execution": {
     "iopub.execute_input": "2022-04-04T20:09:57.577825Z",
     "iopub.status.busy": "2022-04-04T20:09:57.577386Z",
     "iopub.status.idle": "2022-04-04T20:09:57.713212Z",
     "shell.execute_reply": "2022-04-04T20:09:57.713565Z"
    },
    "papermill": {
     "duration": 0.162919,
     "end_time": "2022-04-04T20:09:57.713698",
     "exception": false,
     "start_time": "2022-04-04T20:09:57.550779",
     "status": "completed"
    },
    "tags": []
   },
   "outputs": [
    {
     "name": "stdout",
     "output_type": "stream",
     "text": [
      "2\n"
     ]
    },
    {
     "data": {
      "text/plain": [
       "<matplotlib.image.AxesImage at 0x7f05b6800470>"
      ]
     },
     "execution_count": 9,
     "metadata": {},
     "output_type": "execute_result"
    },
    {
     "data": {
      "image/png": "[encoded data removed]",
      "text/plain": [
       "<Figure size 432x288 with 1 Axes>"
      ]
     },
     "metadata": {
      "needs_background": "light"
     },
     "output_type": "display_data"
    }
   ],
   "source": [
    "image_index = 7776 # You may select anything up to 60,000\n",
    "print(train_labels[image_index]) \n",
    "plt.imshow(train_images[image_index], cmap='Greys')"
   ]
  },
  {
   "cell_type": "markdown",
   "id": "a8d2388d",
   "metadata": {
    "papermill": {
     "duration": 0.023409,
     "end_time": "2022-04-04T20:09:57.760650",
     "exception": false,
     "start_time": "2022-04-04T20:09:57.737241",
     "status": "completed"
    },
    "tags": []
   },
   "source": [
    "## Filter data to get 3 and 8 out"
   ]
  },
  {
   "cell_type": "code",
   "execution_count": 10,
   "id": "776f7fc7",
   "metadata": {
    "execution": {
     "iopub.execute_input": "2022-04-04T20:09:57.811315Z",
     "iopub.status.busy": "2022-04-04T20:09:57.810777Z",
     "iopub.status.idle": "2022-04-04T20:09:57.829007Z",
     "shell.execute_reply": "2022-04-04T20:09:57.829450Z"
    },
    "papermill": {
     "duration": 0.045586,
     "end_time": "2022-04-04T20:09:57.829567",
     "exception": false,
     "start_time": "2022-04-04T20:09:57.783981",
     "status": "completed"
    },
    "tags": []
   },
   "outputs": [],
   "source": [
    "train_filter = np.where((train_labels == 3 ) | (train_labels == 8))\n",
    "test_filter = np.where((test_labels == 3) | (test_labels == 8))\n",
    "X_train, y_train = train_images[train_filter], train_labels[train_filter]\n",
    "X_test, y_test = test_images[test_filter], test_labels[test_filter]"
   ]
  },
  {
   "cell_type": "markdown",
   "id": "948f0b7e",
   "metadata": {
    "papermill": {
     "duration": 0.023036,
     "end_time": "2022-04-04T20:09:57.875817",
     "exception": false,
     "start_time": "2022-04-04T20:09:57.852781",
     "status": "completed"
    },
    "tags": []
   },
   "source": [
    "We normalize the pizel values in the 0 to 1 range"
   ]
  },
  {
   "cell_type": "code",
   "execution_count": 11,
   "id": "ee4c2166",
   "metadata": {
    "execution": {
     "iopub.execute_input": "2022-04-04T20:09:57.926233Z",
     "iopub.status.busy": "2022-04-04T20:09:57.925772Z",
     "iopub.status.idle": "2022-04-04T20:09:57.973499Z",
     "shell.execute_reply": "2022-04-04T20:09:57.973995Z"
    },
    "papermill": {
     "duration": 0.075258,
     "end_time": "2022-04-04T20:09:57.974171",
     "exception": false,
     "start_time": "2022-04-04T20:09:57.898913",
     "status": "completed"
    },
    "tags": []
   },
   "outputs": [],
   "source": [
    "X_train = X_train/255.\n",
    "X_test = X_test/255."
   ]
  },
  {
   "cell_type": "markdown",
   "id": "ddcf4fab",
   "metadata": {
    "papermill": {
     "duration": 0.023429,
     "end_time": "2022-04-04T20:09:58.021969",
     "exception": false,
     "start_time": "2022-04-04T20:09:57.998540",
     "status": "completed"
    },
    "tags": []
   },
   "source": [
    "And setup the labels as 1 (when the digit is 3) and 0 (when the digit is 8)"
   ]
  },
  {
   "cell_type": "code",
   "execution_count": 12,
   "id": "7dc908f2",
   "metadata": {
    "execution": {
     "iopub.execute_input": "2022-04-04T20:09:58.087358Z",
     "iopub.status.busy": "2022-04-04T20:09:58.086844Z",
     "iopub.status.idle": "2022-04-04T20:09:58.089552Z",
     "shell.execute_reply": "2022-04-04T20:09:58.089163Z"
    },
    "papermill": {
     "duration": 0.04423,
     "end_time": "2022-04-04T20:09:58.089663",
     "exception": false,
     "start_time": "2022-04-04T20:09:58.045433",
     "status": "completed"
    },
    "tags": []
   },
   "outputs": [],
   "source": [
    "y_train = 1*(y_train==3)\n",
    "y_test = 1*(y_test==3)"
   ]
  },
  {
   "cell_type": "code",
   "execution_count": 13,
   "id": "01e4e969",
   "metadata": {
    "execution": {
     "iopub.execute_input": "2022-04-04T20:09:58.141324Z",
     "iopub.status.busy": "2022-04-04T20:09:58.140888Z",
     "iopub.status.idle": "2022-04-04T20:09:58.151470Z",
     "shell.execute_reply": "2022-04-04T20:09:58.151834Z"
    },
    "papermill": {
     "duration": 0.038978,
     "end_time": "2022-04-04T20:09:58.151945",
     "exception": false,
     "start_time": "2022-04-04T20:09:58.112967",
     "status": "completed"
    },
    "tags": []
   },
   "outputs": [
    {
     "data": {
      "text/plain": [
       "((11982, 28, 28), (1984, 28, 28))"
      ]
     },
     "execution_count": 13,
     "metadata": {},
     "output_type": "execute_result"
    }
   ],
   "source": [
    "X_train.shape, X_test.shape"
   ]
  },
  {
   "cell_type": "markdown",
   "id": "5ccf3f85",
   "metadata": {
    "papermill": {
     "duration": 0.023704,
     "end_time": "2022-04-04T20:09:58.199171",
     "exception": false,
     "start_time": "2022-04-04T20:09:58.175467",
     "status": "completed"
    },
    "tags": []
   },
   "source": [
    "We reshape the data to flatten the image pixels into a set of features or co-variates:"
   ]
  },
  {
   "cell_type": "code",
   "execution_count": 14,
   "id": "5286a4a3",
   "metadata": {
    "execution": {
     "iopub.execute_input": "2022-04-04T20:09:58.250021Z",
     "iopub.status.busy": "2022-04-04T20:09:58.249567Z",
     "iopub.status.idle": "2022-04-04T20:09:58.263063Z",
     "shell.execute_reply": "2022-04-04T20:09:58.262671Z"
    },
    "papermill": {
     "duration": 0.040682,
     "end_time": "2022-04-04T20:09:58.263166",
     "exception": false,
     "start_time": "2022-04-04T20:09:58.222484",
     "status": "completed"
    },
    "tags": []
   },
   "outputs": [
    {
     "data": {
      "text/plain": [
       "((11982, 784), (1984, 784))"
      ]
     },
     "execution_count": 14,
     "metadata": {},
     "output_type": "execute_result"
    }
   ],
   "source": [
    "X_train = X_train.reshape(X_train.shape[0], -1)\n",
    "X_test = X_test.reshape(X_test.shape[0], -1)\n",
    "X_train.shape, X_test.shape"
   ]
  },
  {
   "cell_type": "code",
   "execution_count": 15,
   "id": "73c5f88a",
   "metadata": {
    "execution": {
     "iopub.execute_input": "2022-04-04T20:09:58.313968Z",
     "iopub.status.busy": "2022-04-04T20:09:58.313512Z",
     "iopub.status.idle": "2022-04-04T20:09:58.332144Z",
     "shell.execute_reply": "2022-04-04T20:09:58.332568Z"
    },
    "papermill": {
     "duration": 0.046162,
     "end_time": "2022-04-04T20:09:58.332695",
     "exception": false,
     "start_time": "2022-04-04T20:09:58.286533",
     "status": "completed"
    },
    "tags": []
   },
   "outputs": [],
   "source": [
    "#Impoting functions from 'Kudzu'\n",
    "from kudzu.model import Model\n",
    "from kudzu.train import Learner\n",
    "from kudzu.optim import GD\n",
    "from kudzu.data import Data, Sampler,Dataloader\n",
    "\n",
    "from kudzu.callbacks import AccCallback\n",
    "from kudzu.callbacks import ClfCallback\n",
    "\n",
    "from kudzu.loss import MSE\n",
    "\n",
    "from kudzu.layer import Sigmoid,Relu\n",
    "from kudzu.layer import Affine"
   ]
  },
  {
   "cell_type": "markdown",
   "id": "bc01172a",
   "metadata": {
    "papermill": {
     "duration": 0.024075,
     "end_time": "2022-04-04T20:09:58.381854",
     "exception": false,
     "start_time": "2022-04-04T20:09:58.357779",
     "status": "completed"
    },
    "tags": []
   },
   "source": [
    "### Let us create a `Config` class, to store important parameters. \n",
    "This class essentially plays the role of a dictionary."
   ]
  },
  {
   "cell_type": "code",
   "execution_count": 16,
   "id": "978281aa",
   "metadata": {
    "execution": {
     "iopub.execute_input": "2022-04-04T20:09:58.434536Z",
     "iopub.status.busy": "2022-04-04T20:09:58.434070Z",
     "iopub.status.idle": "2022-04-04T20:09:58.445446Z",
     "shell.execute_reply": "2022-04-04T20:09:58.445792Z"
    },
    "papermill": {
     "duration": 0.040302,
     "end_time": "2022-04-04T20:09:58.445913",
     "exception": false,
     "start_time": "2022-04-04T20:09:58.405611",
     "status": "completed"
    },
    "tags": []
   },
   "outputs": [],
   "source": [
    "class Config:\n",
    "    pass\n",
    "config = Config()\n",
    "config.lr = 0.001\n",
    "config.num_epochs = 250\n",
    "config.bs = 50"
   ]
  },
  {
   "cell_type": "markdown",
   "id": "1385fa59",
   "metadata": {
    "papermill": {
     "duration": 0.02435,
     "end_time": "2022-04-04T20:09:58.494142",
     "exception": false,
     "start_time": "2022-04-04T20:09:58.469792",
     "status": "completed"
    },
    "tags": []
   },
   "source": [
    "### Running Models with the Training data\n",
    "Details about the network layers:\n",
    "- A first affine layer has 784 inputs and does 100 affine transforms. These are followed by a Relu\n",
    "- A second affine layer has 100 inputs from the 100 activations of the past layer, and does 100 affine transforms. These are followed by a Relu\n",
    "- A third affine layer has 100 activations and does 2 affine transformations to create an embedding for visualization. There is no non-linearity here.\n",
    "- A final \"logistic regression\" which has an affine transform from 2 inputs to 1 output, which is squeezed through a sigmoid.\n"
   ]
  },
  {
   "cell_type": "code",
   "execution_count": 17,
   "id": "2b9c66db",
   "metadata": {
    "execution": {
     "iopub.execute_input": "2022-04-04T20:09:58.546675Z",
     "iopub.status.busy": "2022-04-04T20:09:58.545785Z",
     "iopub.status.idle": "2022-04-04T20:09:58.559723Z",
     "shell.execute_reply": "2022-04-04T20:09:58.559318Z"
    },
    "papermill": {
     "duration": 0.041723,
     "end_time": "2022-04-04T20:09:58.559827",
     "exception": false,
     "start_time": "2022-04-04T20:09:58.518104",
     "status": "completed"
    },
    "tags": []
   },
   "outputs": [],
   "source": [
    "data = Data(X_train, y_train.reshape(-1,1))\n",
    "sampler = Sampler(data, config.bs, shuffle=True)\n",
    "\n",
    "dl = Dataloader(data, sampler)\n",
    "\n",
    "opt = GD(config.lr)\n",
    "loss = MSE()"
   ]
  },
  {
   "cell_type": "code",
   "execution_count": 18,
   "id": "b275e4c2",
   "metadata": {
    "execution": {
     "iopub.execute_input": "2022-04-04T20:09:58.617320Z",
     "iopub.status.busy": "2022-04-04T20:09:58.616797Z",
     "iopub.status.idle": "2022-04-04T20:09:58.626471Z",
     "shell.execute_reply": "2022-04-04T20:09:58.626026Z"
    },
    "papermill": {
     "duration": 0.042706,
     "end_time": "2022-04-04T20:09:58.626579",
     "exception": false,
     "start_time": "2022-04-04T20:09:58.583873",
     "status": "completed"
    },
    "tags": []
   },
   "outputs": [],
   "source": [
    "training_data_x = X_train\n",
    "testing_data_x = X_test\n",
    "training_data_y = y_train.reshape(-1,1)\n",
    "testing_data_y = y_test.reshape(-1,1)"
   ]
  },
  {
   "cell_type": "code",
   "execution_count": 19,
   "id": "76951160",
   "metadata": {
    "execution": {
     "iopub.execute_input": "2022-04-04T20:09:58.695947Z",
     "iopub.status.busy": "2022-04-04T20:09:58.687031Z",
     "iopub.status.idle": "2022-04-04T20:09:58.700618Z",
     "shell.execute_reply": "2022-04-04T20:09:58.700195Z"
    },
    "papermill": {
     "duration": 0.047137,
     "end_time": "2022-04-04T20:09:58.700733",
     "exception": false,
     "start_time": "2022-04-04T20:09:58.653596",
     "status": "completed"
    },
    "tags": []
   },
   "outputs": [
    {
     "name": "stdout",
     "output_type": "stream",
     "text": [
      "xavier\n",
      "xavier\n",
      "xavier\n",
      "xavier\n",
      "xavier\n"
     ]
    }
   ],
   "source": [
    "layers = [Affine(\"first\", 784, 100), Relu(\"first\"), Affine(\"second\", 100, 100), Relu(\"second\"), Affine(\"third\", 100, 2), Affine(\"last\", 2, 1), Sigmoid(\"last\")]\n",
    "model_nn = Model(layers)\n",
    "model_lr = Model([Affine(\"logits\", 784, 1), Sigmoid(\"sigmoid\")])"
   ]
  },
  {
   "cell_type": "code",
   "execution_count": 20,
   "id": "6eede77a",
   "metadata": {
    "execution": {
     "iopub.execute_input": "2022-04-04T20:09:58.759874Z",
     "iopub.status.busy": "2022-04-04T20:09:58.759351Z",
     "iopub.status.idle": "2022-04-04T20:09:58.770878Z",
     "shell.execute_reply": "2022-04-04T20:09:58.770450Z"
    },
    "papermill": {
     "duration": 0.042905,
     "end_time": "2022-04-04T20:09:58.771022",
     "exception": false,
     "start_time": "2022-04-04T20:09:58.728117",
     "status": "completed"
    },
    "tags": []
   },
   "outputs": [],
   "source": [
    "nn_learner = Learner(loss, model_nn, opt, config.num_epochs)\n",
    "acc_nn = ClfCallback(nn_learner, config.bs, training_data_x , testing_data_x, training_data_y, testing_data_y)\n",
    "nn_learner.set_callbacks([acc_nn])"
   ]
  },
  {
   "cell_type": "code",
   "execution_count": 21,
   "id": "877b6cc7",
   "metadata": {
    "execution": {
     "iopub.execute_input": "2022-04-04T20:09:58.829850Z",
     "iopub.status.busy": "2022-04-04T20:09:58.829334Z",
     "iopub.status.idle": "2022-04-04T20:09:58.840661Z",
     "shell.execute_reply": "2022-04-04T20:09:58.840238Z"
    },
    "papermill": {
     "duration": 0.042382,
     "end_time": "2022-04-04T20:09:58.840775",
     "exception": false,
     "start_time": "2022-04-04T20:09:58.798393",
     "status": "completed"
    },
    "tags": []
   },
   "outputs": [],
   "source": [
    "lr_learner = Learner(loss, model_lr, opt, config.num_epochs)\n",
    "acc_lr = ClfCallback(lr_learner, config.bs, training_data_x , testing_data_x, training_data_y, testing_data_y)\n",
    "lr_learner.set_callbacks([acc_lr])"
   ]
  },
  {
   "cell_type": "code",
   "execution_count": 22,
   "id": "d9b133c3",
   "metadata": {
    "execution": {
     "iopub.execute_input": "2022-04-04T20:09:58.899708Z",
     "iopub.status.busy": "2022-04-04T20:09:58.899181Z",
     "iopub.status.idle": "2022-04-04T20:11:12.213469Z",
     "shell.execute_reply": "2022-04-04T20:11:12.214162Z"
    },
    "papermill": {
     "duration": 73.346037,
     "end_time": "2022-04-04T20:11:12.214302",
     "exception": false,
     "start_time": "2022-04-04T20:09:58.868265",
     "status": "completed"
    },
    "tags": []
   },
   "outputs": [
    {
     "name": "stdout",
     "output_type": "stream",
     "text": [
      "Epoch 0, Loss 0.2281\n",
      "Training Accuracy: 0.7930, Testing Accuracy: 0.7752\n",
      "\n"
     ]
    },
    {
     "name": "stdout",
     "output_type": "stream",
     "text": [
      "Epoch 10, Loss 0.0554\n",
      "Training Accuracy: 0.9432, Testing Accuracy: 0.9461\n",
      "\n"
     ]
    },
    {
     "name": "stdout",
     "output_type": "stream",
     "text": [
      "Epoch 20, Loss 0.0408\n",
      "Training Accuracy: 0.9557, Testing Accuracy: 0.9582\n",
      "\n"
     ]
    },
    {
     "name": "stdout",
     "output_type": "stream",
     "text": [
      "Epoch 30, Loss 0.0351\n",
      "Training Accuracy: 0.9603, Testing Accuracy: 0.9642\n",
      "\n"
     ]
    },
    {
     "name": "stdout",
     "output_type": "stream",
     "text": [
      "Epoch 40, Loss 0.0319\n",
      "Training Accuracy: 0.9645, Testing Accuracy: 0.9688\n",
      "\n"
     ]
    },
    {
     "name": "stdout",
     "output_type": "stream",
     "text": [
      "Epoch 50, Loss 0.0297\n",
      "Training Accuracy: 0.9669, Testing Accuracy: 0.9703\n",
      "\n"
     ]
    },
    {
     "name": "stdout",
     "output_type": "stream",
     "text": [
      "Epoch 60, Loss 0.028\n",
      "Training Accuracy: 0.9680, Testing Accuracy: 0.9698\n",
      "\n"
     ]
    },
    {
     "name": "stdout",
     "output_type": "stream",
     "text": [
      "Epoch 70, Loss 0.0267\n",
      "Training Accuracy: 0.9696, Testing Accuracy: 0.9713\n",
      "\n"
     ]
    },
    {
     "name": "stdout",
     "output_type": "stream",
     "text": [
      "Epoch 80, Loss 0.0256\n",
      "Training Accuracy: 0.9704, Testing Accuracy: 0.9713\n",
      "\n"
     ]
    },
    {
     "name": "stdout",
     "output_type": "stream",
     "text": [
      "Epoch 90, Loss 0.0247\n",
      "Training Accuracy: 0.9715, Testing Accuracy: 0.9713\n",
      "\n"
     ]
    },
    {
     "name": "stdout",
     "output_type": "stream",
     "text": [
      "Epoch 100, Loss 0.0238\n",
      "Training Accuracy: 0.9728, Testing Accuracy: 0.9723\n",
      "\n"
     ]
    },
    {
     "name": "stdout",
     "output_type": "stream",
     "text": [
      "Epoch 110, Loss 0.0231\n",
      "Training Accuracy: 0.9740, Testing Accuracy: 0.9718\n",
      "\n"
     ]
    },
    {
     "name": "stdout",
     "output_type": "stream",
     "text": [
      "Epoch 120, Loss 0.0224\n",
      "Training Accuracy: 0.9746, Testing Accuracy: 0.9723\n",
      "\n"
     ]
    },
    {
     "name": "stdout",
     "output_type": "stream",
     "text": [
      "Epoch 130, Loss 0.0217\n",
      "Training Accuracy: 0.9752, Testing Accuracy: 0.9733\n",
      "\n"
     ]
    },
    {
     "name": "stdout",
     "output_type": "stream",
     "text": [
      "Epoch 140, Loss 0.0212\n",
      "Training Accuracy: 0.9763, Testing Accuracy: 0.9738\n",
      "\n"
     ]
    },
    {
     "name": "stdout",
     "output_type": "stream",
     "text": [
      "Epoch 150, Loss 0.0206\n",
      "Training Accuracy: 0.9770, Testing Accuracy: 0.9743\n",
      "\n"
     ]
    },
    {
     "name": "stdout",
     "output_type": "stream",
     "text": [
      "Epoch 160, Loss 0.0201\n",
      "Training Accuracy: 0.9774, Testing Accuracy: 0.9748\n",
      "\n"
     ]
    },
    {
     "name": "stdout",
     "output_type": "stream",
     "text": [
      "Epoch 170, Loss 0.0196\n",
      "Training Accuracy: 0.9781, Testing Accuracy: 0.9753\n",
      "\n"
     ]
    },
    {
     "name": "stdout",
     "output_type": "stream",
     "text": [
      "Epoch 180, Loss 0.0191\n",
      "Training Accuracy: 0.9789, Testing Accuracy: 0.9753\n",
      "\n"
     ]
    },
    {
     "name": "stdout",
     "output_type": "stream",
     "text": [
      "Epoch 190, Loss 0.0187\n",
      "Training Accuracy: 0.9794, Testing Accuracy: 0.9748\n",
      "\n"
     ]
    },
    {
     "name": "stdout",
     "output_type": "stream",
     "text": [
      "Epoch 200, Loss 0.0183\n",
      "Training Accuracy: 0.9799, Testing Accuracy: 0.9753\n",
      "\n"
     ]
    },
    {
     "name": "stdout",
     "output_type": "stream",
     "text": [
      "Epoch 210, Loss 0.0178\n",
      "Training Accuracy: 0.9810, Testing Accuracy: 0.9758\n",
      "\n"
     ]
    },
    {
     "name": "stdout",
     "output_type": "stream",
     "text": [
      "Epoch 220, Loss 0.0174\n",
      "Training Accuracy: 0.9816, Testing Accuracy: 0.9763\n",
      "\n"
     ]
    },
    {
     "name": "stdout",
     "output_type": "stream",
     "text": [
      "Epoch 230, Loss 0.017\n",
      "Training Accuracy: 0.9819, Testing Accuracy: 0.9768\n",
      "\n"
     ]
    },
    {
     "name": "stdout",
     "output_type": "stream",
     "text": [
      "Epoch 240, Loss 0.0167\n",
      "Training Accuracy: 0.9822, Testing Accuracy: 0.9773\n",
      "\n"
     ]
    },
    {
     "data": {
      "text/plain": [
       "0.0030973898992316677"
      ]
     },
     "execution_count": 22,
     "metadata": {},
     "output_type": "execute_result"
    }
   ],
   "source": [
    "nn_learner.train_loop(dl)"
   ]
  },
  {
   "cell_type": "code",
   "execution_count": 23,
   "id": "e0163366",
   "metadata": {
    "execution": {
     "iopub.execute_input": "2022-04-04T20:11:12.284604Z",
     "iopub.status.busy": "2022-04-04T20:11:12.284134Z",
     "iopub.status.idle": "2022-04-04T20:11:25.425034Z",
     "shell.execute_reply": "2022-04-04T20:11:25.425698Z"
    },
    "papermill": {
     "duration": 13.180903,
     "end_time": "2022-04-04T20:11:25.425844",
     "exception": false,
     "start_time": "2022-04-04T20:11:12.244941",
     "status": "completed"
    },
    "tags": []
   },
   "outputs": [
    {
     "name": "stdout",
     "output_type": "stream",
     "text": [
      "Epoch 0, Loss 0.244\n",
      "Training Accuracy: 0.6826, Testing Accuracy: 0.6845\n",
      "\n"
     ]
    },
    {
     "name": "stdout",
     "output_type": "stream",
     "text": [
      "Epoch 10, Loss 0.105\n",
      "Training Accuracy: 0.9089, Testing Accuracy: 0.9133\n",
      "\n"
     ]
    },
    {
     "name": "stdout",
     "output_type": "stream",
     "text": [
      "Epoch 20, Loss 0.0803\n",
      "Training Accuracy: 0.9283, Testing Accuracy: 0.9340\n",
      "\n"
     ]
    },
    {
     "name": "stdout",
     "output_type": "stream",
     "text": [
      "Epoch 30, Loss 0.069\n",
      "Training Accuracy: 0.9357, Testing Accuracy: 0.9461\n",
      "\n"
     ]
    },
    {
     "name": "stdout",
     "output_type": "stream",
     "text": [
      "Epoch 40, Loss 0.0622\n",
      "Training Accuracy: 0.9410, Testing Accuracy: 0.9521\n",
      "\n"
     ]
    },
    {
     "name": "stdout",
     "output_type": "stream",
     "text": [
      "Epoch 50, Loss 0.0576\n",
      "Training Accuracy: 0.9444, Testing Accuracy: 0.9551\n",
      "\n"
     ]
    },
    {
     "name": "stdout",
     "output_type": "stream",
     "text": [
      "Epoch 60, Loss 0.0542\n",
      "Training Accuracy: 0.9465, Testing Accuracy: 0.9592\n",
      "\n"
     ]
    },
    {
     "name": "stdout",
     "output_type": "stream",
     "text": [
      "Epoch 70, Loss 0.0516\n",
      "Training Accuracy: 0.9485, Testing Accuracy: 0.9617\n",
      "\n"
     ]
    },
    {
     "name": "stdout",
     "output_type": "stream",
     "text": [
      "Epoch 80, Loss 0.0496\n",
      "Training Accuracy: 0.9504, Testing Accuracy: 0.9627\n",
      "\n"
     ]
    },
    {
     "name": "stdout",
     "output_type": "stream",
     "text": [
      "Epoch 90, Loss 0.0478\n",
      "Training Accuracy: 0.9514, Testing Accuracy: 0.9632\n",
      "\n"
     ]
    },
    {
     "name": "stdout",
     "output_type": "stream",
     "text": [
      "Epoch 100, Loss 0.0464\n",
      "Training Accuracy: 0.9525, Testing Accuracy: 0.9637\n",
      "\n"
     ]
    },
    {
     "name": "stdout",
     "output_type": "stream",
     "text": [
      "Epoch 110, Loss 0.0452\n",
      "Training Accuracy: 0.9533, Testing Accuracy: 0.9637\n",
      "\n"
     ]
    },
    {
     "name": "stdout",
     "output_type": "stream",
     "text": [
      "Epoch 120, Loss 0.0441\n",
      "Training Accuracy: 0.9538, Testing Accuracy: 0.9642\n",
      "\n"
     ]
    },
    {
     "name": "stdout",
     "output_type": "stream",
     "text": [
      "Epoch 130, Loss 0.0431\n",
      "Training Accuracy: 0.9546, Testing Accuracy: 0.9647\n",
      "\n"
     ]
    },
    {
     "name": "stdout",
     "output_type": "stream",
     "text": [
      "Epoch 140, Loss 0.0423\n",
      "Training Accuracy: 0.9557, Testing Accuracy: 0.9662\n",
      "\n"
     ]
    },
    {
     "name": "stdout",
     "output_type": "stream",
     "text": [
      "Epoch 150, Loss 0.0415\n",
      "Training Accuracy: 0.9560, Testing Accuracy: 0.9662\n",
      "\n"
     ]
    },
    {
     "name": "stdout",
     "output_type": "stream",
     "text": [
      "Epoch 160, Loss 0.0408\n",
      "Training Accuracy: 0.9571, Testing Accuracy: 0.9667\n",
      "\n"
     ]
    },
    {
     "name": "stdout",
     "output_type": "stream",
     "text": [
      "Epoch 170, Loss 0.0402\n",
      "Training Accuracy: 0.9574, Testing Accuracy: 0.9667\n",
      "\n"
     ]
    },
    {
     "name": "stdout",
     "output_type": "stream",
     "text": [
      "Epoch 180, Loss 0.0396\n",
      "Training Accuracy: 0.9581, Testing Accuracy: 0.9667\n",
      "\n"
     ]
    },
    {
     "name": "stdout",
     "output_type": "stream",
     "text": [
      "Epoch 190, Loss 0.0391\n",
      "Training Accuracy: 0.9585, Testing Accuracy: 0.9672\n",
      "\n"
     ]
    },
    {
     "name": "stdout",
     "output_type": "stream",
     "text": [
      "Epoch 200, Loss 0.0386\n",
      "Training Accuracy: 0.9592, Testing Accuracy: 0.9672\n",
      "\n"
     ]
    },
    {
     "name": "stdout",
     "output_type": "stream",
     "text": [
      "Epoch 210, Loss 0.0382\n",
      "Training Accuracy: 0.9599, Testing Accuracy: 0.9682\n",
      "\n"
     ]
    },
    {
     "name": "stdout",
     "output_type": "stream",
     "text": [
      "Epoch 220, Loss 0.0378\n",
      "Training Accuracy: 0.9605, Testing Accuracy: 0.9682\n",
      "\n"
     ]
    },
    {
     "name": "stdout",
     "output_type": "stream",
     "text": [
      "Epoch 230, Loss 0.0374\n",
      "Training Accuracy: 0.9607, Testing Accuracy: 0.9682\n",
      "\n"
     ]
    },
    {
     "name": "stdout",
     "output_type": "stream",
     "text": [
      "Epoch 240, Loss 0.037\n",
      "Training Accuracy: 0.9609, Testing Accuracy: 0.9682\n",
      "\n"
     ]
    },
    {
     "data": {
      "text/plain": [
       "0.040558223476986725"
      ]
     },
     "execution_count": 23,
     "metadata": {},
     "output_type": "execute_result"
    }
   ],
   "source": [
    "lr_learner.train_loop(dl)"
   ]
  },
  {
   "cell_type": "code",
   "execution_count": 24,
   "id": "ca410940",
   "metadata": {
    "execution": {
     "iopub.execute_input": "2022-04-04T20:11:25.512062Z",
     "iopub.status.busy": "2022-04-04T20:11:25.511609Z",
     "iopub.status.idle": "2022-04-04T20:11:25.707800Z",
     "shell.execute_reply": "2022-04-04T20:11:25.707386Z"
    },
    "papermill": {
     "duration": 0.245119,
     "end_time": "2022-04-04T20:11:25.707911",
     "exception": false,
     "start_time": "2022-04-04T20:11:25.462792",
     "status": "completed"
    },
    "tags": []
   },
   "outputs": [
    {
     "data": {
      "text/plain": [
       "<matplotlib.legend.Legend at 0x7f05b63ddb00>"
      ]
     },
     "execution_count": 24,
     "metadata": {},
     "output_type": "execute_result"
    },
    {
     "data": {
      "image/png": "[encoded data removed]",
      "text/plain": [
       "<Figure size 1080x720 with 1 Axes>"
      ]
     },
     "metadata": {
      "needs_background": "light"
     },
     "output_type": "display_data"
    }
   ],
   "source": [
    "#comparing the results of NN and LR\n",
    "plt.figure(figsize=(15,10))\n",
    "\n",
    "# Neural Network plots\n",
    "plt.plot(acc_nn.accuracies, 'r-', label = \"Training Accuracies - NN\")\n",
    "plt.plot(acc_nn.test_accuracies, 'g-', label = \"Testing Accuracies - NN\")\n",
    "\n",
    "# Logistic Regression plots\n",
    "plt.plot(acc_lr.accuracies, 'k-', label = \"Training Accuracies - LR\")\n",
    "plt.plot(acc_lr.test_accuracies, 'b-', label = \"Testing Accuracies - LR\")\n",
    "plt.legend()"
   ]
  },
  {
   "cell_type": "markdown",
   "id": "80dfb35c",
   "metadata": {
    "papermill": {
     "duration": 0.037155,
     "end_time": "2022-04-04T20:11:25.782797",
     "exception": false,
     "start_time": "2022-04-04T20:11:25.745642",
     "status": "completed"
    },
    "tags": []
   },
   "source": [
    "#### Plotting the outputs of this layer of the NN.\n"
   ]
  },
  {
   "cell_type": "code",
   "execution_count": 25,
   "id": "45eb2ff5",
   "metadata": {
    "execution": {
     "iopub.execute_input": "2022-04-04T20:11:25.868214Z",
     "iopub.status.busy": "2022-04-04T20:11:25.867725Z",
     "iopub.status.idle": "2022-04-04T20:11:25.883241Z",
     "shell.execute_reply": "2022-04-04T20:11:25.883628Z"
    },
    "papermill": {
     "duration": 0.064021,
     "end_time": "2022-04-04T20:11:25.883757",
     "exception": false,
     "start_time": "2022-04-04T20:11:25.819736",
     "status": "completed"
    },
    "tags": []
   },
   "outputs": [],
   "source": [
    "new_model = Model(layers[:-2])\n",
    "testing_plot = new_model(testing_data_x)"
   ]
  },
  {
   "cell_type": "code",
   "execution_count": 26,
   "id": "4c0a5485",
   "metadata": {
    "execution": {
     "iopub.execute_input": "2022-04-04T20:11:25.969017Z",
     "iopub.status.busy": "2022-04-04T20:11:25.968538Z",
     "iopub.status.idle": "2022-04-04T20:11:26.143208Z",
     "shell.execute_reply": "2022-04-04T20:11:26.143604Z"
    },
    "papermill": {
     "duration": 0.222163,
     "end_time": "2022-04-04T20:11:26.143756",
     "exception": false,
     "start_time": "2022-04-04T20:11:25.921593",
     "status": "completed"
    },
    "tags": []
   },
   "outputs": [
    {
     "data": {
      "text/plain": [
       "Text(0.5, 1.0, 'Outputs')"
      ]
     },
     "execution_count": 26,
     "metadata": {},
     "output_type": "execute_result"
    },
    {
     "data": {
      "image/png": "[encoded data removed]",
      "text/plain": [
       "<Figure size 576x504 with 1 Axes>"
      ]
     },
     "metadata": {
      "needs_background": "light"
     },
     "output_type": "display_data"
    }
   ],
   "source": [
    "# Plotting the scatter plot of points and color coding by class\n",
    "plt.figure(figsize=(8,7))\n",
    "plt.scatter(testing_plot[:,0], testing_plot[:,1], alpha = 0.1, c = y_test.ravel());\n",
    "plt.title('Outputs')"
   ]
  },
  {
   "cell_type": "markdown",
   "id": "a74fcf8f",
   "metadata": {
    "papermill": {
     "duration": 0.038426,
     "end_time": "2022-04-04T20:11:26.221384",
     "exception": false,
     "start_time": "2022-04-04T20:11:26.182958",
     "status": "completed"
    },
    "tags": []
   },
   "source": [
    "Probability contours"
   ]
  },
  {
   "cell_type": "code",
   "execution_count": 27,
   "id": "d0afc8e3",
   "metadata": {
    "execution": {
     "iopub.execute_input": "2022-04-04T20:11:26.301304Z",
     "iopub.status.busy": "2022-04-04T20:11:26.300824Z",
     "iopub.status.idle": "2022-04-04T20:11:26.313041Z",
     "shell.execute_reply": "2022-04-04T20:11:26.312679Z"
    },
    "papermill": {
     "duration": 0.053225,
     "end_time": "2022-04-04T20:11:26.313140",
     "exception": false,
     "start_time": "2022-04-04T20:11:26.259915",
     "status": "completed"
    },
    "tags": []
   },
   "outputs": [],
   "source": [
    "model_prob = Model(layers[-2:]) "
   ]
  },
  {
   "cell_type": "code",
   "execution_count": 28,
   "id": "9b96e238",
   "metadata": {
    "execution": {
     "iopub.execute_input": "2022-04-04T20:11:26.420000Z",
     "iopub.status.busy": "2022-04-04T20:11:26.419523Z",
     "iopub.status.idle": "2022-04-04T20:11:26.435214Z",
     "shell.execute_reply": "2022-04-04T20:11:26.434824Z"
    },
    "papermill": {
     "duration": 0.058163,
     "end_time": "2022-04-04T20:11:26.435311",
     "exception": false,
     "start_time": "2022-04-04T20:11:26.377148",
     "status": "completed"
    },
    "tags": []
   },
   "outputs": [],
   "source": [
    "#creating the x and y ranges according to the above generated plot.\n",
    "x_range = np.linspace(-4, 1, 100) \n",
    "y_range = np.linspace(-6, 6, 100) \n",
    "x_grid, y_grid = np.meshgrid(x_range, y_range) # x_grid and y_grig are of size 100 X 100\n",
    "\n",
    "# converting x_grid and y_grid to continuous arrays\n",
    "x_gridflat = np.ravel(x_grid)\n",
    "y_gridflat = np.ravel(y_grid)\n",
    "\n",
    "# The last layer of the current model takes two columns as input. Hence transpose of np.vstack() is required.\n",
    "X = np.vstack((x_gridflat, y_gridflat)).T\n",
    "\n",
    "prob_contour = model_prob(X).reshape(100,100) "
   ]
  },
  {
   "cell_type": "code",
   "execution_count": 29,
   "id": "da72499a",
   "metadata": {
    "execution": {
     "iopub.execute_input": "2022-04-04T20:11:26.520067Z",
     "iopub.status.busy": "2022-04-04T20:11:26.519627Z",
     "iopub.status.idle": "2022-04-04T20:11:26.752573Z",
     "shell.execute_reply": "2022-04-04T20:11:26.752122Z"
    },
    "papermill": {
     "duration": 0.278818,
     "end_time": "2022-04-04T20:11:26.752692",
     "exception": false,
     "start_time": "2022-04-04T20:11:26.473874",
     "status": "completed"
    },
    "tags": []
   },
   "outputs": [
    {
     "data": {
      "image/png": "[encoded data removed]",
      "text/plain": [
       "<Figure size 720x648 with 1 Axes>"
      ]
     },
     "metadata": {
      "needs_background": "light"
     },
     "output_type": "display_data"
    }
   ],
   "source": [
    "plt.figure(figsize=(10,9))\n",
    "plt.scatter(testing_plot[:,0], testing_plot[:,1], alpha = 0.1, c = y_test.ravel())\n",
    "contours = plt.contour(x_grid,y_grid,prob_contour)\n",
    "plt.title('Probability Contours')\n",
    "plt.clabel(contours, inline = True );"
   ]
  },
  {
   "cell_type": "code",
   "execution_count": null,
   "id": "e81b4ac7",
   "metadata": {
    "papermill": {
     "duration": 0.047231,
     "end_time": "2022-04-04T20:11:26.847681",
     "exception": false,
     "start_time": "2022-04-04T20:11:26.800450",
     "status": "completed"
    },
    "tags": []
   },
   "outputs": [],
   "source": []
  }
 ],
 "metadata": {
  "kernelspec": {
   "display_name": "Python 3",
   "language": "python",
   "name": "python3"
  },
  "language_info": {
   "codemirror_mode": {
    "name": "ipython",
    "version": 3
   },
   "file_extension": ".py",
   "mimetype": "text/x-python",
   "name": "python",
   "nbconvert_exporter": "python",
   "pygments_lexer": "ipython3",
   "version": "3.6.15"
  },
  "papermill": {
   "default_parameters": {},
   "duration": 94.140688,
   "end_time": "2022-04-04T20:11:27.313347",
   "environment_variables": {},
   "exception": null,
   "input_path": "2020-08-11-part2.ipynb",
   "output_path": "2020-08-11-part2.ipynb",
   "parameters": {},
   "start_time": "2022-04-04T20:09:53.172659",
   "version": "2.3.3"
  }
 },
 "nbformat": 4,
 "nbformat_minor": 5
}