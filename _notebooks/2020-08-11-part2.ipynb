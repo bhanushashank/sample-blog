{
 "cells": [
  {
   "cell_type": "markdown",
   "id": "98380cd3",
   "metadata": {
    "papermill": {
     "duration": 0.04088,
     "end_time": "2022-08-10T20:11:11.126385",
     "exception": false,
     "start_time": "2022-08-10T20:11:11.085505",
     "status": "completed"
    },
    "tags": []
   },
   "source": [
    "# Distinguish Your Own Digits (DYOD)"
   ]
  },
  {
   "cell_type": "markdown",
   "id": "ef31240d",
   "metadata": {
    "papermill": {
     "duration": 0.029996,
     "end_time": "2022-08-10T20:11:11.187680",
     "exception": false,
     "start_time": "2022-08-10T20:11:11.157684",
     "status": "completed"
    },
    "tags": []
   },
   "source": [
    "You are going to write a classifier that distinguishes between the number 3 and number 8."
   ]
  },
  {
   "cell_type": "code",
   "execution_count": 1,
   "id": "b15c8646",
   "metadata": {
    "execution": {
     "iopub.execute_input": "2022-08-10T20:11:11.261990Z",
     "iopub.status.busy": "2022-08-10T20:11:11.261222Z",
     "iopub.status.idle": "2022-08-10T20:11:11.273056Z",
     "shell.execute_reply": "2022-08-10T20:11:11.273770Z"
    },
    "papermill": {
     "duration": 0.055941,
     "end_time": "2022-08-10T20:11:11.273957",
     "exception": false,
     "start_time": "2022-08-10T20:11:11.218016",
     "status": "completed"
    },
    "tags": []
   },
   "outputs": [],
   "source": [
    "%load_ext autoreload\n",
    "%autoreload 2"
   ]
  },
  {
   "cell_type": "code",
   "execution_count": 2,
   "id": "22ef38dc",
   "metadata": {
    "execution": {
     "iopub.execute_input": "2022-08-10T20:11:11.343612Z",
     "iopub.status.busy": "2022-08-10T20:11:11.342891Z",
     "iopub.status.idle": "2022-08-10T20:11:12.009760Z",
     "shell.execute_reply": "2022-08-10T20:11:12.010382Z"
    },
    "papermill": {
     "duration": 0.705616,
     "end_time": "2022-08-10T20:11:12.010656",
     "exception": false,
     "start_time": "2022-08-10T20:11:11.305040",
     "status": "completed"
    },
    "tags": []
   },
   "outputs": [],
   "source": [
    "%matplotlib inline\n",
    "import numpy as np\n",
    "import matplotlib.pyplot as plt\n",
    "import pandas as pd"
   ]
  },
  {
   "cell_type": "markdown",
   "id": "ba036198",
   "metadata": {
    "papermill": {
     "duration": 0.029123,
     "end_time": "2022-08-10T20:11:12.070725",
     "exception": false,
     "start_time": "2022-08-10T20:11:12.041602",
     "status": "completed"
    },
    "tags": []
   },
   "source": [
    "From the command line run `pip install mnist`. This is a library that will help you bring down the mnist dataset. If you run this from a notebook, you need to put  `!pip install mnist` in a cell by itself."
   ]
  },
  {
   "cell_type": "code",
   "execution_count": 3,
   "id": "bb6ad8a1",
   "metadata": {
    "execution": {
     "iopub.execute_input": "2022-08-10T20:11:12.132492Z",
     "iopub.status.busy": "2022-08-10T20:11:12.131743Z",
     "iopub.status.idle": "2022-08-10T20:11:14.121237Z",
     "shell.execute_reply": "2022-08-10T20:11:14.121873Z"
    },
    "papermill": {
     "duration": 2.023054,
     "end_time": "2022-08-10T20:11:14.122087",
     "exception": false,
     "start_time": "2022-08-10T20:11:12.099033",
     "status": "completed"
    },
    "tags": []
   },
   "outputs": [
    {
     "name": "stdout",
     "output_type": "stream",
     "text": [
      "Collecting mnist\r\n"
     ]
    },
    {
     "name": "stdout",
     "output_type": "stream",
     "text": [
      "  Downloading mnist-0.2.2-py2.py3-none-any.whl (3.5 kB)\r\n",
      "Requirement already satisfied: numpy in /opt/hostedtoolcache/Python/3.6.15/x64/lib/python3.6/site-packages (from mnist) (1.19.5)\r\n"
     ]
    },
    {
     "name": "stdout",
     "output_type": "stream",
     "text": [
      "Installing collected packages: mnist\r\n"
     ]
    },
    {
     "name": "stdout",
     "output_type": "stream",
     "text": [
      "Successfully installed mnist-0.2.2\r\n"
     ]
    }
   ],
   "source": [
    "!pip install mnist"
   ]
  },
  {
   "cell_type": "markdown",
   "id": "69df9c9a",
   "metadata": {
    "papermill": {
     "duration": 0.029081,
     "end_time": "2022-08-10T20:11:14.181940",
     "exception": false,
     "start_time": "2022-08-10T20:11:14.152859",
     "status": "completed"
    },
    "tags": []
   },
   "source": [
    "## Preparing the Data"
   ]
  },
  {
   "cell_type": "code",
   "execution_count": 4,
   "id": "7f69d806",
   "metadata": {
    "execution": {
     "iopub.execute_input": "2022-08-10T20:11:14.255914Z",
     "iopub.status.busy": "2022-08-10T20:11:14.251736Z",
     "iopub.status.idle": "2022-08-10T20:11:14.270888Z",
     "shell.execute_reply": "2022-08-10T20:11:14.270283Z"
    },
    "papermill": {
     "duration": 0.060186,
     "end_time": "2022-08-10T20:11:14.271052",
     "exception": false,
     "start_time": "2022-08-10T20:11:14.210866",
     "status": "completed"
    },
    "tags": []
   },
   "outputs": [],
   "source": [
    "import mnist"
   ]
  },
  {
   "cell_type": "code",
   "execution_count": 5,
   "id": "a411e44f",
   "metadata": {
    "execution": {
     "iopub.execute_input": "2022-08-10T20:11:14.343824Z",
     "iopub.status.busy": "2022-08-10T20:11:14.340505Z",
     "iopub.status.idle": "2022-08-10T20:11:14.898343Z",
     "shell.execute_reply": "2022-08-10T20:11:14.896954Z"
    },
    "papermill": {
     "duration": 0.594201,
     "end_time": "2022-08-10T20:11:14.898497",
     "exception": false,
     "start_time": "2022-08-10T20:11:14.304296",
     "status": "completed"
    },
    "tags": []
   },
   "outputs": [],
   "source": [
    "train_images = mnist.train_images()\n",
    "train_labels = mnist.train_labels()"
   ]
  },
  {
   "cell_type": "code",
   "execution_count": 6,
   "id": "dceab3a5",
   "metadata": {
    "execution": {
     "iopub.execute_input": "2022-08-10T20:11:14.967037Z",
     "iopub.status.busy": "2022-08-10T20:11:14.964367Z",
     "iopub.status.idle": "2022-08-10T20:11:14.980492Z",
     "shell.execute_reply": "2022-08-10T20:11:14.979761Z"
    },
    "papermill": {
     "duration": 0.051526,
     "end_time": "2022-08-10T20:11:14.980658",
     "exception": false,
     "start_time": "2022-08-10T20:11:14.929132",
     "status": "completed"
    },
    "tags": []
   },
   "outputs": [
    {
     "data": {
      "text/plain": [
       "((60000, 28, 28), (60000,))"
      ]
     },
     "execution_count": 6,
     "metadata": {},
     "output_type": "execute_result"
    }
   ],
   "source": [
    "train_images.shape, train_labels.shape"
   ]
  },
  {
   "cell_type": "code",
   "execution_count": 7,
   "id": "f50dc2bb",
   "metadata": {
    "execution": {
     "iopub.execute_input": "2022-08-10T20:11:15.047362Z",
     "iopub.status.busy": "2022-08-10T20:11:15.046577Z",
     "iopub.status.idle": "2022-08-10T20:11:15.288836Z",
     "shell.execute_reply": "2022-08-10T20:11:15.289492Z"
    },
    "papermill": {
     "duration": 0.276866,
     "end_time": "2022-08-10T20:11:15.289673",
     "exception": false,
     "start_time": "2022-08-10T20:11:15.012807",
     "status": "completed"
    },
    "tags": []
   },
   "outputs": [],
   "source": [
    "test_images = mnist.test_images()\n",
    "test_labels = mnist.test_labels()"
   ]
  },
  {
   "cell_type": "code",
   "execution_count": 8,
   "id": "fc38cf1b",
   "metadata": {
    "execution": {
     "iopub.execute_input": "2022-08-10T20:11:15.360196Z",
     "iopub.status.busy": "2022-08-10T20:11:15.359381Z",
     "iopub.status.idle": "2022-08-10T20:11:15.374745Z",
     "shell.execute_reply": "2022-08-10T20:11:15.375678Z"
    },
    "papermill": {
     "duration": 0.053161,
     "end_time": "2022-08-10T20:11:15.375832",
     "exception": false,
     "start_time": "2022-08-10T20:11:15.322671",
     "status": "completed"
    },
    "tags": []
   },
   "outputs": [
    {
     "data": {
      "text/plain": [
       "((10000, 28, 28), (10000,))"
      ]
     },
     "execution_count": 8,
     "metadata": {},
     "output_type": "execute_result"
    }
   ],
   "source": [
    "test_images.shape, test_labels.shape"
   ]
  },
  {
   "cell_type": "code",
   "execution_count": 9,
   "id": "f9ed8fe0",
   "metadata": {
    "execution": {
     "iopub.execute_input": "2022-08-10T20:11:15.449882Z",
     "iopub.status.busy": "2022-08-10T20:11:15.449130Z",
     "iopub.status.idle": "2022-08-10T20:11:15.629545Z",
     "shell.execute_reply": "2022-08-10T20:11:15.630130Z"
    },
    "papermill": {
     "duration": 0.222096,
     "end_time": "2022-08-10T20:11:15.630321",
     "exception": false,
     "start_time": "2022-08-10T20:11:15.408225",
     "status": "completed"
    },
    "tags": []
   },
   "outputs": [
    {
     "name": "stdout",
     "output_type": "stream",
     "text": [
      "2\n"
     ]
    },
    {
     "data": {
      "text/plain": [
       "<matplotlib.image.AxesImage at 0x7fd8185ba550>"
      ]
     },
     "execution_count": 9,
     "metadata": {},
     "output_type": "execute_result"
    },
    {
     "data": {
      "image/png": "[encoded data removed]",
      "text/plain": [
       "<Figure size 432x288 with 1 Axes>"
      ]
     },
     "metadata": {
      "needs_background": "light"
     },
     "output_type": "display_data"
    }
   ],
   "source": [
    "image_index = 7776 # You may select anything up to 60,000\n",
    "print(train_labels[image_index]) \n",
    "plt.imshow(train_images[image_index], cmap='Greys')"
   ]
  },
  {
   "cell_type": "markdown",
   "id": "a8d2388d",
   "metadata": {
    "papermill": {
     "duration": 0.036891,
     "end_time": "2022-08-10T20:11:15.701199",
     "exception": false,
     "start_time": "2022-08-10T20:11:15.664308",
     "status": "completed"
    },
    "tags": []
   },
   "source": [
    "## Filter data to get 3 and 8 out"
   ]
  },
  {
   "cell_type": "code",
   "execution_count": 10,
   "id": "776f7fc7",
   "metadata": {
    "execution": {
     "iopub.execute_input": "2022-08-10T20:11:15.776506Z",
     "iopub.status.busy": "2022-08-10T20:11:15.775677Z",
     "iopub.status.idle": "2022-08-10T20:11:15.797225Z",
     "shell.execute_reply": "2022-08-10T20:11:15.796613Z"
    },
    "papermill": {
     "duration": 0.060734,
     "end_time": "2022-08-10T20:11:15.797381",
     "exception": false,
     "start_time": "2022-08-10T20:11:15.736647",
     "status": "completed"
    },
    "tags": []
   },
   "outputs": [],
   "source": [
    "train_filter = np.where((train_labels == 3 ) | (train_labels == 8))\n",
    "test_filter = np.where((test_labels == 3) | (test_labels == 8))\n",
    "X_train, y_train = train_images[train_filter], train_labels[train_filter]\n",
    "X_test, y_test = test_images[test_filter], test_labels[test_filter]"
   ]
  },
  {
   "cell_type": "markdown",
   "id": "948f0b7e",
   "metadata": {
    "papermill": {
     "duration": 0.033339,
     "end_time": "2022-08-10T20:11:15.865475",
     "exception": false,
     "start_time": "2022-08-10T20:11:15.832136",
     "status": "completed"
    },
    "tags": []
   },
   "source": [
    "We normalize the pizel values in the 0 to 1 range"
   ]
  },
  {
   "cell_type": "code",
   "execution_count": 11,
   "id": "ee4c2166",
   "metadata": {
    "execution": {
     "iopub.execute_input": "2022-08-10T20:11:15.942721Z",
     "iopub.status.busy": "2022-08-10T20:11:15.941958Z",
     "iopub.status.idle": "2022-08-10T20:11:16.000838Z",
     "shell.execute_reply": "2022-08-10T20:11:16.000139Z"
    },
    "papermill": {
     "duration": 0.100057,
     "end_time": "2022-08-10T20:11:16.000989",
     "exception": false,
     "start_time": "2022-08-10T20:11:15.900932",
     "status": "completed"
    },
    "tags": []
   },
   "outputs": [],
   "source": [
    "X_train = X_train/255.\n",
    "X_test = X_test/255."
   ]
  },
  {
   "cell_type": "markdown",
   "id": "ddcf4fab",
   "metadata": {
    "papermill": {
     "duration": 0.034185,
     "end_time": "2022-08-10T20:11:16.069352",
     "exception": false,
     "start_time": "2022-08-10T20:11:16.035167",
     "status": "completed"
    },
    "tags": []
   },
   "source": [
    "And setup the labels as 1 (when the digit is 3) and 0 (when the digit is 8)"
   ]
  },
  {
   "cell_type": "code",
   "execution_count": 12,
   "id": "7dc908f2",
   "metadata": {
    "execution": {
     "iopub.execute_input": "2022-08-10T20:11:16.140100Z",
     "iopub.status.busy": "2022-08-10T20:11:16.139376Z",
     "iopub.status.idle": "2022-08-10T20:11:16.153511Z",
     "shell.execute_reply": "2022-08-10T20:11:16.154147Z"
    },
    "papermill": {
     "duration": 0.05208,
     "end_time": "2022-08-10T20:11:16.154319",
     "exception": false,
     "start_time": "2022-08-10T20:11:16.102239",
     "status": "completed"
    },
    "tags": []
   },
   "outputs": [],
   "source": [
    "y_train = 1*(y_train==3)\n",
    "y_test = 1*(y_test==3)"
   ]
  },
  {
   "cell_type": "code",
   "execution_count": 13,
   "id": "01e4e969",
   "metadata": {
    "execution": {
     "iopub.execute_input": "2022-08-10T20:11:16.224942Z",
     "iopub.status.busy": "2022-08-10T20:11:16.224196Z",
     "iopub.status.idle": "2022-08-10T20:11:16.238118Z",
     "shell.execute_reply": "2022-08-10T20:11:16.238820Z"
    },
    "papermill": {
     "duration": 0.05064,
     "end_time": "2022-08-10T20:11:16.238970",
     "exception": false,
     "start_time": "2022-08-10T20:11:16.188330",
     "status": "completed"
    },
    "tags": []
   },
   "outputs": [
    {
     "data": {
      "text/plain": [
       "((11982, 28, 28), (1984, 28, 28))"
      ]
     },
     "execution_count": 13,
     "metadata": {},
     "output_type": "execute_result"
    }
   ],
   "source": [
    "X_train.shape, X_test.shape"
   ]
  },
  {
   "cell_type": "markdown",
   "id": "5ccf3f85",
   "metadata": {
    "papermill": {
     "duration": 0.034211,
     "end_time": "2022-08-10T20:11:16.305845",
     "exception": false,
     "start_time": "2022-08-10T20:11:16.271634",
     "status": "completed"
    },
    "tags": []
   },
   "source": [
    "We reshape the data to flatten the image pixels into a set of features or co-variates:"
   ]
  },
  {
   "cell_type": "code",
   "execution_count": 14,
   "id": "5286a4a3",
   "metadata": {
    "execution": {
     "iopub.execute_input": "2022-08-10T20:11:16.379790Z",
     "iopub.status.busy": "2022-08-10T20:11:16.379032Z",
     "iopub.status.idle": "2022-08-10T20:11:16.395087Z",
     "shell.execute_reply": "2022-08-10T20:11:16.395718Z"
    },
    "papermill": {
     "duration": 0.05592,
     "end_time": "2022-08-10T20:11:16.395850",
     "exception": false,
     "start_time": "2022-08-10T20:11:16.339930",
     "status": "completed"
    },
    "tags": []
   },
   "outputs": [
    {
     "data": {
      "text/plain": [
       "((11982, 784), (1984, 784))"
      ]
     },
     "execution_count": 14,
     "metadata": {},
     "output_type": "execute_result"
    }
   ],
   "source": [
    "X_train = X_train.reshape(X_train.shape[0], -1)\n",
    "X_test = X_test.reshape(X_test.shape[0], -1)\n",
    "X_train.shape, X_test.shape"
   ]
  },
  {
   "cell_type": "code",
   "execution_count": 15,
   "id": "73c5f88a",
   "metadata": {
    "execution": {
     "iopub.execute_input": "2022-08-10T20:11:16.469472Z",
     "iopub.status.busy": "2022-08-10T20:11:16.468738Z",
     "iopub.status.idle": "2022-08-10T20:11:16.491117Z",
     "shell.execute_reply": "2022-08-10T20:11:16.491743Z"
    },
    "papermill": {
     "duration": 0.062232,
     "end_time": "2022-08-10T20:11:16.491895",
     "exception": false,
     "start_time": "2022-08-10T20:11:16.429663",
     "status": "completed"
    },
    "tags": []
   },
   "outputs": [],
   "source": [
    "#Impoting functions from 'Kudzu'\n",
    "from kudzu.model import Model\n",
    "from kudzu.train import Learner\n",
    "from kudzu.optim import GD\n",
    "from kudzu.data import Data, Sampler,Dataloader\n",
    "\n",
    "from kudzu.callbacks import AccCallback\n",
    "from kudzu.callbacks import ClfCallback\n",
    "\n",
    "from kudzu.loss import MSE\n",
    "\n",
    "from kudzu.layer import Sigmoid,Relu\n",
    "from kudzu.layer import Affine"
   ]
  },
  {
   "cell_type": "markdown",
   "id": "bc01172a",
   "metadata": {
    "papermill": {
     "duration": 0.035332,
     "end_time": "2022-08-10T20:11:16.563333",
     "exception": false,
     "start_time": "2022-08-10T20:11:16.528001",
     "status": "completed"
    },
    "tags": []
   },
   "source": [
    "### Let us create a `Config` class, to store important parameters. \n",
    "This class essentially plays the role of a dictionary."
   ]
  },
  {
   "cell_type": "code",
   "execution_count": 16,
   "id": "978281aa",
   "metadata": {
    "execution": {
     "iopub.execute_input": "2022-08-10T20:11:16.639101Z",
     "iopub.status.busy": "2022-08-10T20:11:16.638348Z",
     "iopub.status.idle": "2022-08-10T20:11:16.654366Z",
     "shell.execute_reply": "2022-08-10T20:11:16.653695Z"
    },
    "papermill": {
     "duration": 0.055992,
     "end_time": "2022-08-10T20:11:16.654506",
     "exception": false,
     "start_time": "2022-08-10T20:11:16.598514",
     "status": "completed"
    },
    "tags": []
   },
   "outputs": [],
   "source": [
    "class Config:\n",
    "    pass\n",
    "config = Config()\n",
    "config.lr = 0.001\n",
    "config.num_epochs = 250\n",
    "config.bs = 50"
   ]
  },
  {
   "cell_type": "markdown",
   "id": "1385fa59",
   "metadata": {
    "papermill": {
     "duration": 0.034808,
     "end_time": "2022-08-10T20:11:16.725014",
     "exception": false,
     "start_time": "2022-08-10T20:11:16.690206",
     "status": "completed"
    },
    "tags": []
   },
   "source": [
    "### Running Models with the Training data\n",
    "Details about the network layers:\n",
    "- A first affine layer has 784 inputs and does 100 affine transforms. These are followed by a Relu\n",
    "- A second affine layer has 100 inputs from the 100 activations of the past layer, and does 100 affine transforms. These are followed by a Relu\n",
    "- A third affine layer has 100 activations and does 2 affine transformations to create an embedding for visualization. There is no non-linearity here.\n",
    "- A final \"logistic regression\" which has an affine transform from 2 inputs to 1 output, which is squeezed through a sigmoid.\n"
   ]
  },
  {
   "cell_type": "code",
   "execution_count": 17,
   "id": "2b9c66db",
   "metadata": {
    "execution": {
     "iopub.execute_input": "2022-08-10T20:11:16.805602Z",
     "iopub.status.busy": "2022-08-10T20:11:16.804812Z",
     "iopub.status.idle": "2022-08-10T20:11:16.818743Z",
     "shell.execute_reply": "2022-08-10T20:11:16.817966Z"
    },
    "papermill": {
     "duration": 0.057948,
     "end_time": "2022-08-10T20:11:16.818907",
     "exception": false,
     "start_time": "2022-08-10T20:11:16.760959",
     "status": "completed"
    },
    "tags": []
   },
   "outputs": [],
   "source": [
    "data = Data(X_train, y_train.reshape(-1,1))\n",
    "sampler = Sampler(data, config.bs, shuffle=True)\n",
    "\n",
    "dl = Dataloader(data, sampler)\n",
    "\n",
    "opt = GD(config.lr)\n",
    "loss = MSE()"
   ]
  },
  {
   "cell_type": "code",
   "execution_count": 18,
   "id": "b275e4c2",
   "metadata": {
    "execution": {
     "iopub.execute_input": "2022-08-10T20:11:16.895905Z",
     "iopub.status.busy": "2022-08-10T20:11:16.895137Z",
     "iopub.status.idle": "2022-08-10T20:11:16.909055Z",
     "shell.execute_reply": "2022-08-10T20:11:16.909630Z"
    },
    "papermill": {
     "duration": 0.054466,
     "end_time": "2022-08-10T20:11:16.909790",
     "exception": false,
     "start_time": "2022-08-10T20:11:16.855324",
     "status": "completed"
    },
    "tags": []
   },
   "outputs": [],
   "source": [
    "training_data_x = X_train\n",
    "testing_data_x = X_test\n",
    "training_data_y = y_train.reshape(-1,1)\n",
    "testing_data_y = y_test.reshape(-1,1)"
   ]
  },
  {
   "cell_type": "code",
   "execution_count": 19,
   "id": "76951160",
   "metadata": {
    "execution": {
     "iopub.execute_input": "2022-08-10T20:11:16.986234Z",
     "iopub.status.busy": "2022-08-10T20:11:16.985443Z",
     "iopub.status.idle": "2022-08-10T20:11:17.007186Z",
     "shell.execute_reply": "2022-08-10T20:11:17.006573Z"
    },
    "papermill": {
     "duration": 0.062061,
     "end_time": "2022-08-10T20:11:17.007327",
     "exception": false,
     "start_time": "2022-08-10T20:11:16.945266",
     "status": "completed"
    },
    "tags": []
   },
   "outputs": [
    {
     "name": "stdout",
     "output_type": "stream",
     "text": [
      "xavier\n",
      "xavier\n",
      "xavier\n",
      "xavier\n",
      "xavier\n"
     ]
    }
   ],
   "source": [
    "layers = [Affine(\"first\", 784, 100), Relu(\"first\"), Affine(\"second\", 100, 100), Relu(\"second\"), Affine(\"third\", 100, 2), Affine(\"last\", 2, 1), Sigmoid(\"last\")]\n",
    "model_nn = Model(layers)\n",
    "model_lr = Model([Affine(\"logits\", 784, 1), Sigmoid(\"sigmoid\")])"
   ]
  },
  {
   "cell_type": "code",
   "execution_count": 20,
   "id": "6eede77a",
   "metadata": {
    "execution": {
     "iopub.execute_input": "2022-08-10T20:11:17.086472Z",
     "iopub.status.busy": "2022-08-10T20:11:17.085434Z",
     "iopub.status.idle": "2022-08-10T20:11:17.101802Z",
     "shell.execute_reply": "2022-08-10T20:11:17.101111Z"
    },
    "papermill": {
     "duration": 0.058994,
     "end_time": "2022-08-10T20:11:17.101945",
     "exception": false,
     "start_time": "2022-08-10T20:11:17.042951",
     "status": "completed"
    },
    "tags": []
   },
   "outputs": [],
   "source": [
    "nn_learner = Learner(loss, model_nn, opt, config.num_epochs)\n",
    "acc_nn = ClfCallback(nn_learner, config.bs, training_data_x , testing_data_x, training_data_y, testing_data_y)\n",
    "nn_learner.set_callbacks([acc_nn])"
   ]
  },
  {
   "cell_type": "code",
   "execution_count": 21,
   "id": "877b6cc7",
   "metadata": {
    "execution": {
     "iopub.execute_input": "2022-08-10T20:11:17.178987Z",
     "iopub.status.busy": "2022-08-10T20:11:17.178244Z",
     "iopub.status.idle": "2022-08-10T20:11:17.194763Z",
     "shell.execute_reply": "2022-08-10T20:11:17.194117Z"
    },
    "papermill": {
     "duration": 0.057747,
     "end_time": "2022-08-10T20:11:17.194902",
     "exception": false,
     "start_time": "2022-08-10T20:11:17.137155",
     "status": "completed"
    },
    "tags": []
   },
   "outputs": [],
   "source": [
    "lr_learner = Learner(loss, model_lr, opt, config.num_epochs)\n",
    "acc_lr = ClfCallback(lr_learner, config.bs, training_data_x , testing_data_x, training_data_y, testing_data_y)\n",
    "lr_learner.set_callbacks([acc_lr])"
   ]
  },
  {
   "cell_type": "code",
   "execution_count": 22,
   "id": "d9b133c3",
   "metadata": {
    "execution": {
     "iopub.execute_input": "2022-08-10T20:11:17.272140Z",
     "iopub.status.busy": "2022-08-10T20:11:17.271408Z",
     "iopub.status.idle": "2022-08-10T20:13:22.424597Z",
     "shell.execute_reply": "2022-08-10T20:13:22.425181Z"
    },
    "papermill": {
     "duration": 125.194112,
     "end_time": "2022-08-10T20:13:22.425336",
     "exception": false,
     "start_time": "2022-08-10T20:11:17.231224",
     "status": "completed"
    },
    "tags": []
   },
   "outputs": [
    {
     "name": "stdout",
     "output_type": "stream",
     "text": [
      "Epoch 0, Loss 0.2362\n",
      "Training Accuracy: 0.6958, Testing Accuracy: 0.6850\n",
      "\n"
     ]
    },
    {
     "name": "stdout",
     "output_type": "stream",
     "text": [
      "Epoch 10, Loss 0.0781\n",
      "Training Accuracy: 0.9279, Testing Accuracy: 0.9390\n",
      "\n"
     ]
    },
    {
     "name": "stdout",
     "output_type": "stream",
     "text": [
      "Epoch 20, Loss 0.0503\n",
      "Training Accuracy: 0.9479, Testing Accuracy: 0.9592\n",
      "\n"
     ]
    },
    {
     "name": "stdout",
     "output_type": "stream",
     "text": [
      "Epoch 30, Loss 0.0407\n",
      "Training Accuracy: 0.9550, Testing Accuracy: 0.9688\n",
      "\n"
     ]
    },
    {
     "name": "stdout",
     "output_type": "stream",
     "text": [
      "Epoch 40, Loss 0.0358\n",
      "Training Accuracy: 0.9602, Testing Accuracy: 0.9672\n",
      "\n"
     ]
    },
    {
     "name": "stdout",
     "output_type": "stream",
     "text": [
      "Epoch 50, Loss 0.0327\n",
      "Training Accuracy: 0.9626, Testing Accuracy: 0.9682\n",
      "\n"
     ]
    },
    {
     "name": "stdout",
     "output_type": "stream",
     "text": [
      "Epoch 60, Loss 0.0305\n",
      "Training Accuracy: 0.9643, Testing Accuracy: 0.9688\n",
      "\n"
     ]
    },
    {
     "name": "stdout",
     "output_type": "stream",
     "text": [
      "Epoch 70, Loss 0.0288\n",
      "Training Accuracy: 0.9666, Testing Accuracy: 0.9688\n",
      "\n"
     ]
    },
    {
     "name": "stdout",
     "output_type": "stream",
     "text": [
      "Epoch 80, Loss 0.0274\n",
      "Training Accuracy: 0.9690, Testing Accuracy: 0.9713\n",
      "\n"
     ]
    },
    {
     "name": "stdout",
     "output_type": "stream",
     "text": [
      "Epoch 90, Loss 0.0263\n",
      "Training Accuracy: 0.9694, Testing Accuracy: 0.9718\n",
      "\n"
     ]
    },
    {
     "name": "stdout",
     "output_type": "stream",
     "text": [
      "Epoch 100, Loss 0.0253\n",
      "Training Accuracy: 0.9714, Testing Accuracy: 0.9723\n",
      "\n"
     ]
    },
    {
     "name": "stdout",
     "output_type": "stream",
     "text": [
      "Epoch 110, Loss 0.0245\n",
      "Training Accuracy: 0.9722, Testing Accuracy: 0.9713\n",
      "\n"
     ]
    },
    {
     "name": "stdout",
     "output_type": "stream",
     "text": [
      "Epoch 120, Loss 0.0237\n",
      "Training Accuracy: 0.9732, Testing Accuracy: 0.9713\n",
      "\n"
     ]
    },
    {
     "name": "stdout",
     "output_type": "stream",
     "text": [
      "Epoch 130, Loss 0.023\n",
      "Training Accuracy: 0.9740, Testing Accuracy: 0.9718\n",
      "\n"
     ]
    },
    {
     "name": "stdout",
     "output_type": "stream",
     "text": [
      "Epoch 140, Loss 0.0223\n",
      "Training Accuracy: 0.9748, Testing Accuracy: 0.9718\n",
      "\n"
     ]
    },
    {
     "name": "stdout",
     "output_type": "stream",
     "text": [
      "Epoch 150, Loss 0.0217\n",
      "Training Accuracy: 0.9757, Testing Accuracy: 0.9713\n",
      "\n"
     ]
    },
    {
     "name": "stdout",
     "output_type": "stream",
     "text": [
      "Epoch 160, Loss 0.0211\n",
      "Training Accuracy: 0.9758, Testing Accuracy: 0.9723\n",
      "\n"
     ]
    },
    {
     "name": "stdout",
     "output_type": "stream",
     "text": [
      "Epoch 170, Loss 0.0205\n",
      "Training Accuracy: 0.9764, Testing Accuracy: 0.9723\n",
      "\n"
     ]
    },
    {
     "name": "stdout",
     "output_type": "stream",
     "text": [
      "Epoch 180, Loss 0.02\n",
      "Training Accuracy: 0.9766, Testing Accuracy: 0.9728\n",
      "\n"
     ]
    },
    {
     "name": "stdout",
     "output_type": "stream",
     "text": [
      "Epoch 190, Loss 0.0195\n",
      "Training Accuracy: 0.9773, Testing Accuracy: 0.9728\n",
      "\n"
     ]
    },
    {
     "name": "stdout",
     "output_type": "stream",
     "text": [
      "Epoch 200, Loss 0.019\n",
      "Training Accuracy: 0.9781, Testing Accuracy: 0.9728\n",
      "\n"
     ]
    },
    {
     "name": "stdout",
     "output_type": "stream",
     "text": [
      "Epoch 210, Loss 0.0185\n",
      "Training Accuracy: 0.9789, Testing Accuracy: 0.9733\n",
      "\n"
     ]
    },
    {
     "name": "stdout",
     "output_type": "stream",
     "text": [
      "Epoch 220, Loss 0.0181\n",
      "Training Accuracy: 0.9796, Testing Accuracy: 0.9743\n",
      "\n"
     ]
    },
    {
     "name": "stdout",
     "output_type": "stream",
     "text": [
      "Epoch 230, Loss 0.0177\n",
      "Training Accuracy: 0.9806, Testing Accuracy: 0.9743\n",
      "\n"
     ]
    },
    {
     "name": "stdout",
     "output_type": "stream",
     "text": [
      "Epoch 240, Loss 0.0172\n",
      "Training Accuracy: 0.9811, Testing Accuracy: 0.9743\n",
      "\n"
     ]
    },
    {
     "data": {
      "text/plain": [
       "0.011869145231591997"
      ]
     },
     "execution_count": 22,
     "metadata": {},
     "output_type": "execute_result"
    }
   ],
   "source": [
    "nn_learner.train_loop(dl)"
   ]
  },
  {
   "cell_type": "code",
   "execution_count": 23,
   "id": "e0163366",
   "metadata": {
    "execution": {
     "iopub.execute_input": "2022-08-10T20:13:22.523777Z",
     "iopub.status.busy": "2022-08-10T20:13:22.521332Z",
     "iopub.status.idle": "2022-08-10T20:13:40.866538Z",
     "shell.execute_reply": "2022-08-10T20:13:40.867548Z"
    },
    "papermill": {
     "duration": 18.397958,
     "end_time": "2022-08-10T20:13:40.867717",
     "exception": false,
     "start_time": "2022-08-10T20:13:22.469759",
     "status": "completed"
    },
    "tags": []
   },
   "outputs": [
    {
     "name": "stdout",
     "output_type": "stream",
     "text": [
      "Epoch 0, Loss 0.2612\n",
      "Training Accuracy: 0.5905, Testing Accuracy: 0.6139\n",
      "\n"
     ]
    },
    {
     "name": "stdout",
     "output_type": "stream",
     "text": [
      "Epoch 10, Loss 0.1046\n",
      "Training Accuracy: 0.9071, Testing Accuracy: 0.9173\n",
      "\n"
     ]
    },
    {
     "name": "stdout",
     "output_type": "stream",
     "text": [
      "Epoch 20, Loss 0.0798\n",
      "Training Accuracy: 0.9265, Testing Accuracy: 0.9365\n",
      "\n"
     ]
    },
    {
     "name": "stdout",
     "output_type": "stream",
     "text": [
      "Epoch 30, Loss 0.0686\n",
      "Training Accuracy: 0.9351, Testing Accuracy: 0.9456\n",
      "\n"
     ]
    },
    {
     "name": "stdout",
     "output_type": "stream",
     "text": [
      "Epoch 40, Loss 0.0619\n",
      "Training Accuracy: 0.9405, Testing Accuracy: 0.9511\n",
      "\n"
     ]
    },
    {
     "name": "stdout",
     "output_type": "stream",
     "text": [
      "Epoch 50, Loss 0.0573\n",
      "Training Accuracy: 0.9450, Testing Accuracy: 0.9526\n",
      "\n"
     ]
    },
    {
     "name": "stdout",
     "output_type": "stream",
     "text": [
      "Epoch 60, Loss 0.054\n",
      "Training Accuracy: 0.9474, Testing Accuracy: 0.9541\n",
      "\n"
     ]
    },
    {
     "name": "stdout",
     "output_type": "stream",
     "text": [
      "Epoch 70, Loss 0.0514\n",
      "Training Accuracy: 0.9493, Testing Accuracy: 0.9572\n",
      "\n"
     ]
    },
    {
     "name": "stdout",
     "output_type": "stream",
     "text": [
      "Epoch 80, Loss 0.0493\n",
      "Training Accuracy: 0.9512, Testing Accuracy: 0.9582\n",
      "\n"
     ]
    },
    {
     "name": "stdout",
     "output_type": "stream",
     "text": [
      "Epoch 90, Loss 0.0476\n",
      "Training Accuracy: 0.9524, Testing Accuracy: 0.9597\n",
      "\n"
     ]
    },
    {
     "name": "stdout",
     "output_type": "stream",
     "text": [
      "Epoch 100, Loss 0.0462\n",
      "Training Accuracy: 0.9535, Testing Accuracy: 0.9607\n",
      "\n"
     ]
    },
    {
     "name": "stdout",
     "output_type": "stream",
     "text": [
      "Epoch 110, Loss 0.045\n",
      "Training Accuracy: 0.9542, Testing Accuracy: 0.9612\n",
      "\n"
     ]
    },
    {
     "name": "stdout",
     "output_type": "stream",
     "text": [
      "Epoch 120, Loss 0.0439\n",
      "Training Accuracy: 0.9549, Testing Accuracy: 0.9617\n",
      "\n"
     ]
    },
    {
     "name": "stdout",
     "output_type": "stream",
     "text": [
      "Epoch 130, Loss 0.043\n",
      "Training Accuracy: 0.9553, Testing Accuracy: 0.9622\n",
      "\n"
     ]
    },
    {
     "name": "stdout",
     "output_type": "stream",
     "text": [
      "Epoch 140, Loss 0.0421\n",
      "Training Accuracy: 0.9559, Testing Accuracy: 0.9627\n",
      "\n"
     ]
    },
    {
     "name": "stdout",
     "output_type": "stream",
     "text": [
      "Epoch 150, Loss 0.0414\n",
      "Training Accuracy: 0.9562, Testing Accuracy: 0.9637\n",
      "\n"
     ]
    },
    {
     "name": "stdout",
     "output_type": "stream",
     "text": [
      "Epoch 160, Loss 0.0407\n",
      "Training Accuracy: 0.9570, Testing Accuracy: 0.9637\n",
      "\n"
     ]
    },
    {
     "name": "stdout",
     "output_type": "stream",
     "text": [
      "Epoch 170, Loss 0.0401\n",
      "Training Accuracy: 0.9576, Testing Accuracy: 0.9647\n",
      "\n"
     ]
    },
    {
     "name": "stdout",
     "output_type": "stream",
     "text": [
      "Epoch 180, Loss 0.0395\n",
      "Training Accuracy: 0.9579, Testing Accuracy: 0.9647\n",
      "\n"
     ]
    },
    {
     "name": "stdout",
     "output_type": "stream",
     "text": [
      "Epoch 190, Loss 0.039\n",
      "Training Accuracy: 0.9587, Testing Accuracy: 0.9652\n",
      "\n"
     ]
    },
    {
     "name": "stdout",
     "output_type": "stream",
     "text": [
      "Epoch 200, Loss 0.0385\n",
      "Training Accuracy: 0.9589, Testing Accuracy: 0.9652\n",
      "\n"
     ]
    },
    {
     "name": "stdout",
     "output_type": "stream",
     "text": [
      "Epoch 210, Loss 0.0381\n",
      "Training Accuracy: 0.9592, Testing Accuracy: 0.9652\n",
      "\n"
     ]
    },
    {
     "name": "stdout",
     "output_type": "stream",
     "text": [
      "Epoch 220, Loss 0.0377\n",
      "Training Accuracy: 0.9597, Testing Accuracy: 0.9652\n",
      "\n"
     ]
    },
    {
     "name": "stdout",
     "output_type": "stream",
     "text": [
      "Epoch 230, Loss 0.0373\n",
      "Training Accuracy: 0.9600, Testing Accuracy: 0.9647\n",
      "\n"
     ]
    },
    {
     "name": "stdout",
     "output_type": "stream",
     "text": [
      "Epoch 240, Loss 0.0369\n",
      "Training Accuracy: 0.9608, Testing Accuracy: 0.9642\n",
      "\n"
     ]
    },
    {
     "data": {
      "text/plain": [
       "0.024944186465487565"
      ]
     },
     "execution_count": 23,
     "metadata": {},
     "output_type": "execute_result"
    }
   ],
   "source": [
    "lr_learner.train_loop(dl)"
   ]
  },
  {
   "cell_type": "code",
   "execution_count": 24,
   "id": "ca410940",
   "metadata": {
    "execution": {
     "iopub.execute_input": "2022-08-10T20:13:40.983019Z",
     "iopub.status.busy": "2022-08-10T20:13:40.982075Z",
     "iopub.status.idle": "2022-08-10T20:13:41.308487Z",
     "shell.execute_reply": "2022-08-10T20:13:41.309125Z"
    },
    "papermill": {
     "duration": 0.386983,
     "end_time": "2022-08-10T20:13:41.309294",
     "exception": false,
     "start_time": "2022-08-10T20:13:40.922311",
     "status": "completed"
    },
    "tags": []
   },
   "outputs": [
    {
     "data": {
      "text/plain": [
       "<matplotlib.legend.Legend at 0x7fd81811cb38>"
      ]
     },
     "execution_count": 24,
     "metadata": {},
     "output_type": "execute_result"
    },
    {
     "data": {
      "image/png": "[encoded data removed]",
      "text/plain": [
       "<Figure size 1080x720 with 1 Axes>"
      ]
     },
     "metadata": {
      "needs_background": "light"
     },
     "output_type": "display_data"
    }
   ],
   "source": [
    "#comparing the results of NN and LR\n",
    "plt.figure(figsize=(15,10))\n",
    "\n",
    "# Neural Network plots\n",
    "plt.plot(acc_nn.accuracies, 'r-', label = \"Training Accuracies - NN\")\n",
    "plt.plot(acc_nn.test_accuracies, 'g-', label = \"Testing Accuracies - NN\")\n",
    "\n",
    "# Logistic Regression plots\n",
    "plt.plot(acc_lr.accuracies, 'k-', label = \"Training Accuracies - LR\")\n",
    "plt.plot(acc_lr.test_accuracies, 'b-', label = \"Testing Accuracies - LR\")\n",
    "plt.legend()"
   ]
  },
  {
   "cell_type": "markdown",
   "id": "80dfb35c",
   "metadata": {
    "papermill": {
     "duration": 0.05479,
     "end_time": "2022-08-10T20:13:41.420303",
     "exception": false,
     "start_time": "2022-08-10T20:13:41.365513",
     "status": "completed"
    },
    "tags": []
   },
   "source": [
    "#### Plotting the outputs of this layer of the NN.\n"
   ]
  },
  {
   "cell_type": "code",
   "execution_count": 25,
   "id": "45eb2ff5",
   "metadata": {
    "execution": {
     "iopub.execute_input": "2022-08-10T20:13:41.534259Z",
     "iopub.status.busy": "2022-08-10T20:13:41.533461Z",
     "iopub.status.idle": "2022-08-10T20:13:41.560441Z",
     "shell.execute_reply": "2022-08-10T20:13:41.561171Z"
    },
    "papermill": {
     "duration": 0.086948,
     "end_time": "2022-08-10T20:13:41.561334",
     "exception": false,
     "start_time": "2022-08-10T20:13:41.474386",
     "status": "completed"
    },
    "tags": []
   },
   "outputs": [],
   "source": [
    "new_model = Model(layers[:-2])\n",
    "testing_plot = new_model(testing_data_x)"
   ]
  },
  {
   "cell_type": "code",
   "execution_count": 26,
   "id": "4c0a5485",
   "metadata": {
    "execution": {
     "iopub.execute_input": "2022-08-10T20:13:41.675589Z",
     "iopub.status.busy": "2022-08-10T20:13:41.674743Z",
     "iopub.status.idle": "2022-08-10T20:13:41.913542Z",
     "shell.execute_reply": "2022-08-10T20:13:41.914156Z"
    },
    "papermill": {
     "duration": 0.299036,
     "end_time": "2022-08-10T20:13:41.914327",
     "exception": false,
     "start_time": "2022-08-10T20:13:41.615291",
     "status": "completed"
    },
    "tags": []
   },
   "outputs": [
    {
     "data": {
      "text/plain": [
       "Text(0.5, 1.0, 'Outputs')"
      ]
     },
     "execution_count": 26,
     "metadata": {},
     "output_type": "execute_result"
    },
    {
     "data": {
      "image/png": "[encoded data removed]",
      "text/plain": [
       "<Figure size 576x504 with 1 Axes>"
      ]
     },
     "metadata": {
      "needs_background": "light"
     },
     "output_type": "display_data"
    }
   ],
   "source": [
    "# Plotting the scatter plot of points and color coding by class\n",
    "plt.figure(figsize=(8,7))\n",
    "plt.scatter(testing_plot[:,0], testing_plot[:,1], alpha = 0.1, c = y_test.ravel());\n",
    "plt.title('Outputs')"
   ]
  },
  {
   "cell_type": "markdown",
   "id": "a74fcf8f",
   "metadata": {
    "papermill": {
     "duration": 0.084981,
     "end_time": "2022-08-10T20:13:42.055708",
     "exception": false,
     "start_time": "2022-08-10T20:13:41.970727",
     "status": "completed"
    },
    "tags": []
   },
   "source": [
    "Probability contours"
   ]
  },
  {
   "cell_type": "code",
   "execution_count": 27,
   "id": "d0afc8e3",
   "metadata": {
    "execution": {
     "iopub.execute_input": "2022-08-10T20:13:42.176101Z",
     "iopub.status.busy": "2022-08-10T20:13:42.175342Z",
     "iopub.status.idle": "2022-08-10T20:13:42.191672Z",
     "shell.execute_reply": "2022-08-10T20:13:42.191033Z"
    },
    "papermill": {
     "duration": 0.078768,
     "end_time": "2022-08-10T20:13:42.191820",
     "exception": false,
     "start_time": "2022-08-10T20:13:42.113052",
     "status": "completed"
    },
    "tags": []
   },
   "outputs": [],
   "source": [
    "model_prob = Model(layers[-2:]) "
   ]
  },
  {
   "cell_type": "code",
   "execution_count": 28,
   "id": "9b96e238",
   "metadata": {
    "execution": {
     "iopub.execute_input": "2022-08-10T20:13:42.329130Z",
     "iopub.status.busy": "2022-08-10T20:13:42.324745Z",
     "iopub.status.idle": "2022-08-10T20:13:42.335282Z",
     "shell.execute_reply": "2022-08-10T20:13:42.334517Z"
    },
    "papermill": {
     "duration": 0.084348,
     "end_time": "2022-08-10T20:13:42.335509",
     "exception": false,
     "start_time": "2022-08-10T20:13:42.251161",
     "status": "completed"
    },
    "tags": []
   },
   "outputs": [],
   "source": [
    "#creating the x and y ranges according to the above generated plot.\n",
    "x_range = np.linspace(-4, 1, 100) \n",
    "y_range = np.linspace(-6, 6, 100) \n",
    "x_grid, y_grid = np.meshgrid(x_range, y_range) # x_grid and y_grig are of size 100 X 100\n",
    "\n",
    "# converting x_grid and y_grid to continuous arrays\n",
    "x_gridflat = np.ravel(x_grid)\n",
    "y_gridflat = np.ravel(y_grid)\n",
    "\n",
    "# The last layer of the current model takes two columns as input. Hence transpose of np.vstack() is required.\n",
    "X = np.vstack((x_gridflat, y_gridflat)).T\n",
    "\n",
    "prob_contour = model_prob(X).reshape(100,100) "
   ]
  },
  {
   "cell_type": "code",
   "execution_count": 29,
   "id": "da72499a",
   "metadata": {
    "execution": {
     "iopub.execute_input": "2022-08-10T20:13:42.484080Z",
     "iopub.status.busy": "2022-08-10T20:13:42.483235Z",
     "iopub.status.idle": "2022-08-10T20:13:42.791700Z",
     "shell.execute_reply": "2022-08-10T20:13:42.790953Z"
    },
    "papermill": {
     "duration": 0.38744,
     "end_time": "2022-08-10T20:13:42.791843",
     "exception": false,
     "start_time": "2022-08-10T20:13:42.404403",
     "status": "completed"
    },
    "tags": []
   },
   "outputs": [
    {
     "data": {
      "image/png": "[encoded data removed]",
      "text/plain": [
       "<Figure size 720x648 with 1 Axes>"
      ]
     },
     "metadata": {
      "needs_background": "light"
     },
     "output_type": "display_data"
    }
   ],
   "source": [
    "plt.figure(figsize=(10,9))\n",
    "plt.scatter(testing_plot[:,0], testing_plot[:,1], alpha = 0.1, c = y_test.ravel())\n",
    "contours = plt.contour(x_grid,y_grid,prob_contour)\n",
    "plt.title('Probability Contours')\n",
    "plt.clabel(contours, inline = True );"
   ]
  },
  {
   "cell_type": "code",
   "execution_count": null,
   "id": "e81b4ac7",
   "metadata": {
    "papermill": {
     "duration": 0.06303,
     "end_time": "2022-08-10T20:13:42.914279",
     "exception": false,
     "start_time": "2022-08-10T20:13:42.851249",
     "status": "completed"
    },
    "tags": []
   },
   "outputs": [],
   "source": []
  }
 ],
 "metadata": {
  "kernelspec": {
   "display_name": "Python 3",
   "language": "python",
   "name": "python3"
  },
  "language_info": {
   "codemirror_mode": {
    "name": "ipython",
    "version": 3
   },
   "file_extension": ".py",
   "mimetype": "text/x-python",
   "name": "python",
   "nbconvert_exporter": "python",
   "pygments_lexer": "ipython3",
   "version": "3.6.15"
  },
  "papermill": {
   "default_parameters": {},
   "duration": 153.617112,
   "end_time": "2022-08-10T20:13:43.401302",
   "environment_variables": {},
   "exception": null,
   "input_path": "2020-08-11-part2.ipynb",
   "output_path": "2020-08-11-part2.ipynb",
   "parameters": {},
   "start_time": "2022-08-10T20:11:09.784190",
   "version": "2.3.3"
  }
 },
 "nbformat": 4,
 "nbformat_minor": 5
}