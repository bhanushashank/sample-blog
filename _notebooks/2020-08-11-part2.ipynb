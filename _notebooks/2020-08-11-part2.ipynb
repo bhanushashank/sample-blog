{
 "cells": [
  {
   "cell_type": "markdown",
   "id": "98380cd3",
   "metadata": {
    "papermill": {
     "duration": 0.030279,
     "end_time": "2021-10-13T00:21:00.881394",
     "exception": false,
     "start_time": "2021-10-13T00:21:00.851115",
     "status": "completed"
    },
    "tags": []
   },
   "source": [
    "# Distinguish Your Own Digits (DYOD)"
   ]
  },
  {
   "cell_type": "markdown",
   "id": "ef31240d",
   "metadata": {
    "papermill": {
     "duration": 0.025262,
     "end_time": "2021-10-13T00:21:00.932020",
     "exception": false,
     "start_time": "2021-10-13T00:21:00.906758",
     "status": "completed"
    },
    "tags": []
   },
   "source": [
    "You are going to write a classifier that distinguishes between the number 3 and number 8."
   ]
  },
  {
   "cell_type": "code",
   "execution_count": 1,
   "id": "b15c8646",
   "metadata": {
    "execution": {
     "iopub.execute_input": "2021-10-13T00:21:00.998276Z",
     "iopub.status.busy": "2021-10-13T00:21:00.997455Z",
     "iopub.status.idle": "2021-10-13T00:21:01.009319Z",
     "shell.execute_reply": "2021-10-13T00:21:01.008744Z"
    },
    "papermill": {
     "duration": 0.051099,
     "end_time": "2021-10-13T00:21:01.009457",
     "exception": false,
     "start_time": "2021-10-13T00:21:00.958358",
     "status": "completed"
    },
    "tags": []
   },
   "outputs": [],
   "source": [
    "%load_ext autoreload\n",
    "%autoreload 2"
   ]
  },
  {
   "cell_type": "code",
   "execution_count": 2,
   "id": "22ef38dc",
   "metadata": {
    "execution": {
     "iopub.execute_input": "2021-10-13T00:21:01.079014Z",
     "iopub.status.busy": "2021-10-13T00:21:01.078211Z",
     "iopub.status.idle": "2021-10-13T00:21:01.611612Z",
     "shell.execute_reply": "2021-10-13T00:21:01.611052Z"
    },
    "papermill": {
     "duration": 0.570936,
     "end_time": "2021-10-13T00:21:01.611785",
     "exception": false,
     "start_time": "2021-10-13T00:21:01.040849",
     "status": "completed"
    },
    "tags": []
   },
   "outputs": [],
   "source": [
    "%matplotlib inline\n",
    "import numpy as np\n",
    "import matplotlib.pyplot as plt\n",
    "import pandas as pd"
   ]
  },
  {
   "cell_type": "markdown",
   "id": "ba036198",
   "metadata": {
    "papermill": {
     "duration": 0.024521,
     "end_time": "2021-10-13T00:21:01.660899",
     "exception": false,
     "start_time": "2021-10-13T00:21:01.636378",
     "status": "completed"
    },
    "tags": []
   },
   "source": [
    "From the command line run `pip install mnist`. This is a library that will help you bring down the mnist dataset. If you run this from a notebook, you need to put  `!pip install mnist` in a cell by itself."
   ]
  },
  {
   "cell_type": "code",
   "execution_count": 3,
   "id": "bb6ad8a1",
   "metadata": {
    "execution": {
     "iopub.execute_input": "2021-10-13T00:21:01.717243Z",
     "iopub.status.busy": "2021-10-13T00:21:01.716718Z",
     "iopub.status.idle": "2021-10-13T00:21:03.486505Z",
     "shell.execute_reply": "2021-10-13T00:21:03.485947Z"
    },
    "papermill": {
     "duration": 1.800962,
     "end_time": "2021-10-13T00:21:03.486660",
     "exception": false,
     "start_time": "2021-10-13T00:21:01.685698",
     "status": "completed"
    },
    "tags": []
   },
   "outputs": [
    {
     "name": "stdout",
     "output_type": "stream",
     "text": [
      "Collecting mnist\r\n"
     ]
    },
    {
     "name": "stdout",
     "output_type": "stream",
     "text": [
      "  Downloading mnist-0.2.2-py2.py3-none-any.whl (3.5 kB)\r\n",
      "Requirement already satisfied: numpy in /opt/hostedtoolcache/Python/3.6.15/x64/lib/python3.6/site-packages (from mnist) (1.19.5)\r\n"
     ]
    },
    {
     "name": "stdout",
     "output_type": "stream",
     "text": [
      "Installing collected packages: mnist\r\n"
     ]
    },
    {
     "name": "stdout",
     "output_type": "stream",
     "text": [
      "Successfully installed mnist-0.2.2\r\n"
     ]
    },
    {
     "name": "stdout",
     "output_type": "stream",
     "text": [
      "\u001b[33mWARNING: You are using pip version 21.2.4; however, version 21.3 is available.\r\n",
      "You should consider upgrading via the '/opt/hostedtoolcache/Python/3.6.15/x64/bin/python -m pip install --upgrade pip' command.\u001b[0m\r\n"
     ]
    }
   ],
   "source": [
    "!pip install mnist"
   ]
  },
  {
   "cell_type": "markdown",
   "id": "69df9c9a",
   "metadata": {
    "papermill": {
     "duration": 0.030193,
     "end_time": "2021-10-13T00:21:03.547718",
     "exception": false,
     "start_time": "2021-10-13T00:21:03.517525",
     "status": "completed"
    },
    "tags": []
   },
   "source": [
    "## Preparing the Data"
   ]
  },
  {
   "cell_type": "code",
   "execution_count": 4,
   "id": "7f69d806",
   "metadata": {
    "execution": {
     "iopub.execute_input": "2021-10-13T00:21:03.624106Z",
     "iopub.status.busy": "2021-10-13T00:21:03.618464Z",
     "iopub.status.idle": "2021-10-13T00:21:03.627879Z",
     "shell.execute_reply": "2021-10-13T00:21:03.627144Z"
    },
    "papermill": {
     "duration": 0.052432,
     "end_time": "2021-10-13T00:21:03.627989",
     "exception": false,
     "start_time": "2021-10-13T00:21:03.575557",
     "status": "completed"
    },
    "tags": []
   },
   "outputs": [],
   "source": [
    "import mnist"
   ]
  },
  {
   "cell_type": "code",
   "execution_count": 5,
   "id": "a411e44f",
   "metadata": {
    "execution": {
     "iopub.execute_input": "2021-10-13T00:21:03.686056Z",
     "iopub.status.busy": "2021-10-13T00:21:03.685494Z",
     "iopub.status.idle": "2021-10-13T00:21:04.563076Z",
     "shell.execute_reply": "2021-10-13T00:21:04.562598Z"
    },
    "papermill": {
     "duration": 0.908216,
     "end_time": "2021-10-13T00:21:04.563240",
     "exception": false,
     "start_time": "2021-10-13T00:21:03.655024",
     "status": "completed"
    },
    "tags": []
   },
   "outputs": [],
   "source": [
    "train_images = mnist.train_images()\n",
    "train_labels = mnist.train_labels()"
   ]
  },
  {
   "cell_type": "code",
   "execution_count": 6,
   "id": "dceab3a5",
   "metadata": {
    "execution": {
     "iopub.execute_input": "2021-10-13T00:21:04.621376Z",
     "iopub.status.busy": "2021-10-13T00:21:04.620845Z",
     "iopub.status.idle": "2021-10-13T00:21:04.634683Z",
     "shell.execute_reply": "2021-10-13T00:21:04.634230Z"
    },
    "papermill": {
     "duration": 0.043748,
     "end_time": "2021-10-13T00:21:04.634785",
     "exception": false,
     "start_time": "2021-10-13T00:21:04.591037",
     "status": "completed"
    },
    "tags": []
   },
   "outputs": [
    {
     "data": {
      "text/plain": [
       "((60000, 28, 28), (60000,))"
      ]
     },
     "execution_count": 6,
     "metadata": {},
     "output_type": "execute_result"
    }
   ],
   "source": [
    "train_images.shape, train_labels.shape"
   ]
  },
  {
   "cell_type": "code",
   "execution_count": 7,
   "id": "f50dc2bb",
   "metadata": {
    "execution": {
     "iopub.execute_input": "2021-10-13T00:21:04.692654Z",
     "iopub.status.busy": "2021-10-13T00:21:04.692126Z",
     "iopub.status.idle": "2021-10-13T00:21:04.912612Z",
     "shell.execute_reply": "2021-10-13T00:21:04.912130Z"
    },
    "papermill": {
     "duration": 0.25048,
     "end_time": "2021-10-13T00:21:04.912748",
     "exception": false,
     "start_time": "2021-10-13T00:21:04.662268",
     "status": "completed"
    },
    "tags": []
   },
   "outputs": [],
   "source": [
    "test_images = mnist.test_images()\n",
    "test_labels = mnist.test_labels()"
   ]
  },
  {
   "cell_type": "code",
   "execution_count": 8,
   "id": "fc38cf1b",
   "metadata": {
    "execution": {
     "iopub.execute_input": "2021-10-13T00:21:04.971518Z",
     "iopub.status.busy": "2021-10-13T00:21:04.970733Z",
     "iopub.status.idle": "2021-10-13T00:21:04.983388Z",
     "shell.execute_reply": "2021-10-13T00:21:04.983911Z"
    },
    "papermill": {
     "duration": 0.0447,
     "end_time": "2021-10-13T00:21:04.984030",
     "exception": false,
     "start_time": "2021-10-13T00:21:04.939330",
     "status": "completed"
    },
    "tags": []
   },
   "outputs": [
    {
     "data": {
      "text/plain": [
       "((10000, 28, 28), (10000,))"
      ]
     },
     "execution_count": 8,
     "metadata": {},
     "output_type": "execute_result"
    }
   ],
   "source": [
    "test_images.shape, test_labels.shape"
   ]
  },
  {
   "cell_type": "code",
   "execution_count": 9,
   "id": "f9ed8fe0",
   "metadata": {
    "execution": {
     "iopub.execute_input": "2021-10-13T00:21:05.041863Z",
     "iopub.status.busy": "2021-10-13T00:21:05.041299Z",
     "iopub.status.idle": "2021-10-13T00:21:05.217914Z",
     "shell.execute_reply": "2021-10-13T00:21:05.218379Z"
    },
    "papermill": {
     "duration": 0.207438,
     "end_time": "2021-10-13T00:21:05.218542",
     "exception": false,
     "start_time": "2021-10-13T00:21:05.011104",
     "status": "completed"
    },
    "tags": []
   },
   "outputs": [
    {
     "name": "stdout",
     "output_type": "stream",
     "text": [
      "2\n"
     ]
    },
    {
     "data": {
      "text/plain": [
       "<matplotlib.image.AxesImage at 0x7fc378da97b8>"
      ]
     },
     "execution_count": 9,
     "metadata": {},
     "output_type": "execute_result"
    },
    {
     "data": {
      "image/png": "[encoded data removed]",
      "text/plain": [
       "<Figure size 432x288 with 1 Axes>"
      ]
     },
     "metadata": {
      "needs_background": "light"
     },
     "output_type": "display_data"
    }
   ],
   "source": [
    "image_index = 7776 # You may select anything up to 60,000\n",
    "print(train_labels[image_index]) \n",
    "plt.imshow(train_images[image_index], cmap='Greys')"
   ]
  },
  {
   "cell_type": "markdown",
   "id": "a8d2388d",
   "metadata": {
    "papermill": {
     "duration": 0.032663,
     "end_time": "2021-10-13T00:21:05.280547",
     "exception": false,
     "start_time": "2021-10-13T00:21:05.247884",
     "status": "completed"
    },
    "tags": []
   },
   "source": [
    "## Filter data to get 3 and 8 out"
   ]
  },
  {
   "cell_type": "code",
   "execution_count": 10,
   "id": "776f7fc7",
   "metadata": {
    "execution": {
     "iopub.execute_input": "2021-10-13T00:21:05.349111Z",
     "iopub.status.busy": "2021-10-13T00:21:05.348531Z",
     "iopub.status.idle": "2021-10-13T00:21:05.366837Z",
     "shell.execute_reply": "2021-10-13T00:21:05.366370Z"
    },
    "papermill": {
     "duration": 0.056324,
     "end_time": "2021-10-13T00:21:05.366968",
     "exception": false,
     "start_time": "2021-10-13T00:21:05.310644",
     "status": "completed"
    },
    "tags": []
   },
   "outputs": [],
   "source": [
    "train_filter = np.where((train_labels == 3 ) | (train_labels == 8))\n",
    "test_filter = np.where((test_labels == 3) | (test_labels == 8))\n",
    "X_train, y_train = train_images[train_filter], train_labels[train_filter]\n",
    "X_test, y_test = test_images[test_filter], test_labels[test_filter]"
   ]
  },
  {
   "cell_type": "markdown",
   "id": "948f0b7e",
   "metadata": {
    "papermill": {
     "duration": 0.028812,
     "end_time": "2021-10-13T00:21:05.426098",
     "exception": false,
     "start_time": "2021-10-13T00:21:05.397286",
     "status": "completed"
    },
    "tags": []
   },
   "source": [
    "We normalize the pizel values in the 0 to 1 range"
   ]
  },
  {
   "cell_type": "code",
   "execution_count": 11,
   "id": "ee4c2166",
   "metadata": {
    "execution": {
     "iopub.execute_input": "2021-10-13T00:21:05.500367Z",
     "iopub.status.busy": "2021-10-13T00:21:05.494012Z",
     "iopub.status.idle": "2021-10-13T00:21:05.550650Z",
     "shell.execute_reply": "2021-10-13T00:21:05.550113Z"
    },
    "papermill": {
     "duration": 0.095033,
     "end_time": "2021-10-13T00:21:05.550795",
     "exception": false,
     "start_time": "2021-10-13T00:21:05.455762",
     "status": "completed"
    },
    "tags": []
   },
   "outputs": [],
   "source": [
    "X_train = X_train/255.\n",
    "X_test = X_test/255."
   ]
  },
  {
   "cell_type": "markdown",
   "id": "ddcf4fab",
   "metadata": {
    "papermill": {
     "duration": 0.02854,
     "end_time": "2021-10-13T00:21:05.608974",
     "exception": false,
     "start_time": "2021-10-13T00:21:05.580434",
     "status": "completed"
    },
    "tags": []
   },
   "source": [
    "And setup the labels as 1 (when the digit is 3) and 0 (when the digit is 8)"
   ]
  },
  {
   "cell_type": "code",
   "execution_count": 12,
   "id": "7dc908f2",
   "metadata": {
    "execution": {
     "iopub.execute_input": "2021-10-13T00:21:05.670076Z",
     "iopub.status.busy": "2021-10-13T00:21:05.669505Z",
     "iopub.status.idle": "2021-10-13T00:21:05.681256Z",
     "shell.execute_reply": "2021-10-13T00:21:05.681808Z"
    },
    "papermill": {
     "duration": 0.044388,
     "end_time": "2021-10-13T00:21:05.681937",
     "exception": false,
     "start_time": "2021-10-13T00:21:05.637549",
     "status": "completed"
    },
    "tags": []
   },
   "outputs": [],
   "source": [
    "y_train = 1*(y_train==3)\n",
    "y_test = 1*(y_test==3)"
   ]
  },
  {
   "cell_type": "code",
   "execution_count": 13,
   "id": "01e4e969",
   "metadata": {
    "execution": {
     "iopub.execute_input": "2021-10-13T00:21:05.742903Z",
     "iopub.status.busy": "2021-10-13T00:21:05.742348Z",
     "iopub.status.idle": "2021-10-13T00:21:05.754902Z",
     "shell.execute_reply": "2021-10-13T00:21:05.755372Z"
    },
    "papermill": {
     "duration": 0.044701,
     "end_time": "2021-10-13T00:21:05.755508",
     "exception": false,
     "start_time": "2021-10-13T00:21:05.710807",
     "status": "completed"
    },
    "tags": []
   },
   "outputs": [
    {
     "data": {
      "text/plain": [
       "((11982, 28, 28), (1984, 28, 28))"
      ]
     },
     "execution_count": 13,
     "metadata": {},
     "output_type": "execute_result"
    }
   ],
   "source": [
    "X_train.shape, X_test.shape"
   ]
  },
  {
   "cell_type": "markdown",
   "id": "5ccf3f85",
   "metadata": {
    "papermill": {
     "duration": 0.02949,
     "end_time": "2021-10-13T00:21:05.813903",
     "exception": false,
     "start_time": "2021-10-13T00:21:05.784413",
     "status": "completed"
    },
    "tags": []
   },
   "source": [
    "We reshape the data to flatten the image pixels into a set of features or co-variates:"
   ]
  },
  {
   "cell_type": "code",
   "execution_count": 14,
   "id": "5286a4a3",
   "metadata": {
    "execution": {
     "iopub.execute_input": "2021-10-13T00:21:05.880682Z",
     "iopub.status.busy": "2021-10-13T00:21:05.879998Z",
     "iopub.status.idle": "2021-10-13T00:21:05.896217Z",
     "shell.execute_reply": "2021-10-13T00:21:05.895735Z"
    },
    "papermill": {
     "duration": 0.052389,
     "end_time": "2021-10-13T00:21:05.896335",
     "exception": false,
     "start_time": "2021-10-13T00:21:05.843946",
     "status": "completed"
    },
    "tags": []
   },
   "outputs": [
    {
     "data": {
      "text/plain": [
       "((11982, 784), (1984, 784))"
      ]
     },
     "execution_count": 14,
     "metadata": {},
     "output_type": "execute_result"
    }
   ],
   "source": [
    "X_train = X_train.reshape(X_train.shape[0], -1)\n",
    "X_test = X_test.reshape(X_test.shape[0], -1)\n",
    "X_train.shape, X_test.shape"
   ]
  },
  {
   "cell_type": "code",
   "execution_count": 15,
   "id": "73c5f88a",
   "metadata": {
    "execution": {
     "iopub.execute_input": "2021-10-13T00:21:05.966841Z",
     "iopub.status.busy": "2021-10-13T00:21:05.966269Z",
     "iopub.status.idle": "2021-10-13T00:21:05.982076Z",
     "shell.execute_reply": "2021-10-13T00:21:05.982564Z"
    },
    "papermill": {
     "duration": 0.055441,
     "end_time": "2021-10-13T00:21:05.982694",
     "exception": false,
     "start_time": "2021-10-13T00:21:05.927253",
     "status": "completed"
    },
    "tags": []
   },
   "outputs": [],
   "source": [
    "#Impoting functions from 'Kudzu'\n",
    "from kudzu.model import Model\n",
    "from kudzu.train import Learner\n",
    "from kudzu.optim import GD\n",
    "from kudzu.data import Data, Sampler,Dataloader\n",
    "\n",
    "from kudzu.callbacks import AccCallback\n",
    "from kudzu.callbacks import ClfCallback\n",
    "\n",
    "from kudzu.loss import MSE\n",
    "\n",
    "from kudzu.layer import Sigmoid,Relu\n",
    "from kudzu.layer import Affine"
   ]
  },
  {
   "cell_type": "markdown",
   "id": "bc01172a",
   "metadata": {
    "papermill": {
     "duration": 0.029253,
     "end_time": "2021-10-13T00:21:06.042429",
     "exception": false,
     "start_time": "2021-10-13T00:21:06.013176",
     "status": "completed"
    },
    "tags": []
   },
   "source": [
    "### Let us create a `Config` class, to store important parameters. \n",
    "This class essentially plays the role of a dictionary."
   ]
  },
  {
   "cell_type": "code",
   "execution_count": 16,
   "id": "978281aa",
   "metadata": {
    "execution": {
     "iopub.execute_input": "2021-10-13T00:21:06.119093Z",
     "iopub.status.busy": "2021-10-13T00:21:06.118490Z",
     "iopub.status.idle": "2021-10-13T00:21:06.121200Z",
     "shell.execute_reply": "2021-10-13T00:21:06.120705Z"
    },
    "papermill": {
     "duration": 0.046976,
     "end_time": "2021-10-13T00:21:06.121458",
     "exception": false,
     "start_time": "2021-10-13T00:21:06.074482",
     "status": "completed"
    },
    "tags": []
   },
   "outputs": [],
   "source": [
    "class Config:\n",
    "    pass\n",
    "config = Config()\n",
    "config.lr = 0.001\n",
    "config.num_epochs = 250\n",
    "config.bs = 50"
   ]
  },
  {
   "cell_type": "markdown",
   "id": "1385fa59",
   "metadata": {
    "papermill": {
     "duration": 0.028801,
     "end_time": "2021-10-13T00:21:06.178524",
     "exception": false,
     "start_time": "2021-10-13T00:21:06.149723",
     "status": "completed"
    },
    "tags": []
   },
   "source": [
    "### Running Models with the Training data\n",
    "Details about the network layers:\n",
    "- A first affine layer has 784 inputs and does 100 affine transforms. These are followed by a Relu\n",
    "- A second affine layer has 100 inputs from the 100 activations of the past layer, and does 100 affine transforms. These are followed by a Relu\n",
    "- A third affine layer has 100 activations and does 2 affine transformations to create an embedding for visualization. There is no non-linearity here.\n",
    "- A final \"logistic regression\" which has an affine transform from 2 inputs to 1 output, which is squeezed through a sigmoid.\n"
   ]
  },
  {
   "cell_type": "code",
   "execution_count": 17,
   "id": "2b9c66db",
   "metadata": {
    "execution": {
     "iopub.execute_input": "2021-10-13T00:21:06.237942Z",
     "iopub.status.busy": "2021-10-13T00:21:06.237266Z",
     "iopub.status.idle": "2021-10-13T00:21:06.249064Z",
     "shell.execute_reply": "2021-10-13T00:21:06.249521Z"
    },
    "papermill": {
     "duration": 0.043111,
     "end_time": "2021-10-13T00:21:06.249641",
     "exception": false,
     "start_time": "2021-10-13T00:21:06.206530",
     "status": "completed"
    },
    "tags": []
   },
   "outputs": [],
   "source": [
    "data = Data(X_train, y_train.reshape(-1,1))\n",
    "sampler = Sampler(data, config.bs, shuffle=True)\n",
    "\n",
    "dl = Dataloader(data, sampler)\n",
    "\n",
    "opt = GD(config.lr)\n",
    "loss = MSE()"
   ]
  },
  {
   "cell_type": "code",
   "execution_count": 18,
   "id": "b275e4c2",
   "metadata": {
    "execution": {
     "iopub.execute_input": "2021-10-13T00:21:06.311750Z",
     "iopub.status.busy": "2021-10-13T00:21:06.311036Z",
     "iopub.status.idle": "2021-10-13T00:21:06.321786Z",
     "shell.execute_reply": "2021-10-13T00:21:06.322291Z"
    },
    "papermill": {
     "duration": 0.043288,
     "end_time": "2021-10-13T00:21:06.322409",
     "exception": false,
     "start_time": "2021-10-13T00:21:06.279121",
     "status": "completed"
    },
    "tags": []
   },
   "outputs": [],
   "source": [
    "training_data_x = X_train\n",
    "testing_data_x = X_test\n",
    "training_data_y = y_train.reshape(-1,1)\n",
    "testing_data_y = y_test.reshape(-1,1)"
   ]
  },
  {
   "cell_type": "code",
   "execution_count": 19,
   "id": "76951160",
   "metadata": {
    "execution": {
     "iopub.execute_input": "2021-10-13T00:21:06.385552Z",
     "iopub.status.busy": "2021-10-13T00:21:06.384966Z",
     "iopub.status.idle": "2021-10-13T00:21:06.401463Z",
     "shell.execute_reply": "2021-10-13T00:21:06.401015Z"
    },
    "papermill": {
     "duration": 0.051148,
     "end_time": "2021-10-13T00:21:06.401566",
     "exception": false,
     "start_time": "2021-10-13T00:21:06.350418",
     "status": "completed"
    },
    "tags": []
   },
   "outputs": [
    {
     "name": "stdout",
     "output_type": "stream",
     "text": [
      "xavier\n",
      "xavier\n",
      "xavier\n",
      "xavier\n",
      "xavier\n"
     ]
    }
   ],
   "source": [
    "layers = [Affine(\"first\", 784, 100), Relu(\"first\"), Affine(\"second\", 100, 100), Relu(\"second\"), Affine(\"third\", 100, 2), Affine(\"last\", 2, 1), Sigmoid(\"last\")]\n",
    "model_nn = Model(layers)\n",
    "model_lr = Model([Affine(\"logits\", 784, 1), Sigmoid(\"sigmoid\")])"
   ]
  },
  {
   "cell_type": "code",
   "execution_count": 20,
   "id": "6eede77a",
   "metadata": {
    "execution": {
     "iopub.execute_input": "2021-10-13T00:21:06.466319Z",
     "iopub.status.busy": "2021-10-13T00:21:06.465714Z",
     "iopub.status.idle": "2021-10-13T00:21:06.476608Z",
     "shell.execute_reply": "2021-10-13T00:21:06.477103Z"
    },
    "papermill": {
     "duration": 0.045398,
     "end_time": "2021-10-13T00:21:06.477221",
     "exception": false,
     "start_time": "2021-10-13T00:21:06.431823",
     "status": "completed"
    },
    "tags": []
   },
   "outputs": [],
   "source": [
    "nn_learner = Learner(loss, model_nn, opt, config.num_epochs)\n",
    "acc_nn = ClfCallback(nn_learner, config.bs, training_data_x , testing_data_x, training_data_y, testing_data_y)\n",
    "nn_learner.set_callbacks([acc_nn])"
   ]
  },
  {
   "cell_type": "code",
   "execution_count": 21,
   "id": "877b6cc7",
   "metadata": {
    "execution": {
     "iopub.execute_input": "2021-10-13T00:21:06.540822Z",
     "iopub.status.busy": "2021-10-13T00:21:06.540266Z",
     "iopub.status.idle": "2021-10-13T00:21:06.551600Z",
     "shell.execute_reply": "2021-10-13T00:21:06.552243Z"
    },
    "papermill": {
     "duration": 0.045745,
     "end_time": "2021-10-13T00:21:06.552367",
     "exception": false,
     "start_time": "2021-10-13T00:21:06.506622",
     "status": "completed"
    },
    "tags": []
   },
   "outputs": [],
   "source": [
    "lr_learner = Learner(loss, model_lr, opt, config.num_epochs)\n",
    "acc_lr = ClfCallback(lr_learner, config.bs, training_data_x , testing_data_x, training_data_y, testing_data_y)\n",
    "lr_learner.set_callbacks([acc_lr])"
   ]
  },
  {
   "cell_type": "code",
   "execution_count": 22,
   "id": "d9b133c3",
   "metadata": {
    "execution": {
     "iopub.execute_input": "2021-10-13T00:21:06.613808Z",
     "iopub.status.busy": "2021-10-13T00:21:06.613244Z",
     "iopub.status.idle": "2021-10-13T00:23:25.075521Z",
     "shell.execute_reply": "2021-10-13T00:23:25.076445Z"
    },
    "papermill": {
     "duration": 138.494575,
     "end_time": "2021-10-13T00:23:25.076611",
     "exception": false,
     "start_time": "2021-10-13T00:21:06.582036",
     "status": "completed"
    },
    "tags": []
   },
   "outputs": [
    {
     "name": "stdout",
     "output_type": "stream",
     "text": [
      "Epoch 0, Loss 0.1841\n",
      "Training Accuracy: 0.8585, Testing Accuracy: 0.8634\n",
      "\n"
     ]
    },
    {
     "name": "stdout",
     "output_type": "stream",
     "text": [
      "Epoch 10, Loss 0.0533\n",
      "Training Accuracy: 0.9458, Testing Accuracy: 0.9521\n",
      "\n"
     ]
    },
    {
     "name": "stdout",
     "output_type": "stream",
     "text": [
      "Epoch 20, Loss 0.0389\n",
      "Training Accuracy: 0.9591, Testing Accuracy: 0.9622\n",
      "\n"
     ]
    },
    {
     "name": "stdout",
     "output_type": "stream",
     "text": [
      "Epoch 30, Loss 0.0331\n",
      "Training Accuracy: 0.9647, Testing Accuracy: 0.9662\n",
      "\n"
     ]
    },
    {
     "name": "stdout",
     "output_type": "stream",
     "text": [
      "Epoch 40, Loss 0.0298\n",
      "Training Accuracy: 0.9679, Testing Accuracy: 0.9688\n",
      "\n"
     ]
    },
    {
     "name": "stdout",
     "output_type": "stream",
     "text": [
      "Epoch 50, Loss 0.0275\n",
      "Training Accuracy: 0.9699, Testing Accuracy: 0.9693\n",
      "\n"
     ]
    },
    {
     "name": "stdout",
     "output_type": "stream",
     "text": [
      "Epoch 60, Loss 0.0257\n",
      "Training Accuracy: 0.9719, Testing Accuracy: 0.9718\n",
      "\n"
     ]
    },
    {
     "name": "stdout",
     "output_type": "stream",
     "text": [
      "Epoch 70, Loss 0.0244\n",
      "Training Accuracy: 0.9740, Testing Accuracy: 0.9718\n",
      "\n"
     ]
    },
    {
     "name": "stdout",
     "output_type": "stream",
     "text": [
      "Epoch 80, Loss 0.0232\n",
      "Training Accuracy: 0.9751, Testing Accuracy: 0.9718\n",
      "\n"
     ]
    },
    {
     "name": "stdout",
     "output_type": "stream",
     "text": [
      "Epoch 90, Loss 0.0222\n",
      "Training Accuracy: 0.9762, Testing Accuracy: 0.9728\n",
      "\n"
     ]
    },
    {
     "name": "stdout",
     "output_type": "stream",
     "text": [
      "Epoch 100, Loss 0.0214\n",
      "Training Accuracy: 0.9777, Testing Accuracy: 0.9738\n",
      "\n"
     ]
    },
    {
     "name": "stdout",
     "output_type": "stream",
     "text": [
      "Epoch 110, Loss 0.0206\n",
      "Training Accuracy: 0.9785, Testing Accuracy: 0.9753\n",
      "\n"
     ]
    },
    {
     "name": "stdout",
     "output_type": "stream",
     "text": [
      "Epoch 120, Loss 0.0199\n",
      "Training Accuracy: 0.9789, Testing Accuracy: 0.9743\n",
      "\n"
     ]
    },
    {
     "name": "stdout",
     "output_type": "stream",
     "text": [
      "Epoch 130, Loss 0.0193\n",
      "Training Accuracy: 0.9799, Testing Accuracy: 0.9753\n",
      "\n"
     ]
    },
    {
     "name": "stdout",
     "output_type": "stream",
     "text": [
      "Epoch 140, Loss 0.0187\n",
      "Training Accuracy: 0.9806, Testing Accuracy: 0.9753\n",
      "\n"
     ]
    },
    {
     "name": "stdout",
     "output_type": "stream",
     "text": [
      "Epoch 150, Loss 0.0182\n",
      "Training Accuracy: 0.9813, Testing Accuracy: 0.9753\n",
      "\n"
     ]
    },
    {
     "name": "stdout",
     "output_type": "stream",
     "text": [
      "Epoch 160, Loss 0.0177\n",
      "Training Accuracy: 0.9820, Testing Accuracy: 0.9768\n",
      "\n"
     ]
    },
    {
     "name": "stdout",
     "output_type": "stream",
     "text": [
      "Epoch 170, Loss 0.0172\n",
      "Training Accuracy: 0.9829, Testing Accuracy: 0.9768\n",
      "\n"
     ]
    },
    {
     "name": "stdout",
     "output_type": "stream",
     "text": [
      "Epoch 180, Loss 0.0168\n",
      "Training Accuracy: 0.9832, Testing Accuracy: 0.9768\n",
      "\n"
     ]
    },
    {
     "name": "stdout",
     "output_type": "stream",
     "text": [
      "Epoch 190, Loss 0.0163\n",
      "Training Accuracy: 0.9836, Testing Accuracy: 0.9773\n",
      "\n"
     ]
    },
    {
     "name": "stdout",
     "output_type": "stream",
     "text": [
      "Epoch 200, Loss 0.0159\n",
      "Training Accuracy: 0.9841, Testing Accuracy: 0.9773\n",
      "\n"
     ]
    },
    {
     "name": "stdout",
     "output_type": "stream",
     "text": [
      "Epoch 210, Loss 0.0156\n",
      "Training Accuracy: 0.9843, Testing Accuracy: 0.9783\n",
      "\n"
     ]
    },
    {
     "name": "stdout",
     "output_type": "stream",
     "text": [
      "Epoch 220, Loss 0.0152\n",
      "Training Accuracy: 0.9846, Testing Accuracy: 0.9788\n",
      "\n"
     ]
    },
    {
     "name": "stdout",
     "output_type": "stream",
     "text": [
      "Epoch 230, Loss 0.0148\n",
      "Training Accuracy: 0.9847, Testing Accuracy: 0.9788\n",
      "\n"
     ]
    },
    {
     "name": "stdout",
     "output_type": "stream",
     "text": [
      "Epoch 240, Loss 0.0145\n",
      "Training Accuracy: 0.9850, Testing Accuracy: 0.9793\n",
      "\n"
     ]
    },
    {
     "data": {
      "text/plain": [
       "0.0016198303564037581"
      ]
     },
     "execution_count": 22,
     "metadata": {},
     "output_type": "execute_result"
    }
   ],
   "source": [
    "nn_learner.train_loop(dl)"
   ]
  },
  {
   "cell_type": "code",
   "execution_count": 23,
   "id": "e0163366",
   "metadata": {
    "execution": {
     "iopub.execute_input": "2021-10-13T00:23:25.170907Z",
     "iopub.status.busy": "2021-10-13T00:23:25.170271Z",
     "iopub.status.idle": "2021-10-13T00:23:45.145049Z",
     "shell.execute_reply": "2021-10-13T00:23:45.145816Z"
    },
    "papermill": {
     "duration": 20.028079,
     "end_time": "2021-10-13T00:23:45.145974",
     "exception": false,
     "start_time": "2021-10-13T00:23:25.117895",
     "status": "completed"
    },
    "tags": []
   },
   "outputs": [
    {
     "name": "stdout",
     "output_type": "stream",
     "text": [
      "Epoch 0, Loss 0.2517\n",
      "Training Accuracy: 0.6269, Testing Accuracy: 0.6210\n",
      "\n"
     ]
    },
    {
     "name": "stdout",
     "output_type": "stream",
     "text": [
      "Epoch 10, Loss 0.1028\n",
      "Training Accuracy: 0.9132, Testing Accuracy: 0.9254\n",
      "\n"
     ]
    },
    {
     "name": "stdout",
     "output_type": "stream",
     "text": [
      "Epoch 20, Loss 0.0783\n",
      "Training Accuracy: 0.9314, Testing Accuracy: 0.9435\n",
      "\n"
     ]
    },
    {
     "name": "stdout",
     "output_type": "stream",
     "text": [
      "Epoch 30, Loss 0.0673\n",
      "Training Accuracy: 0.9408, Testing Accuracy: 0.9511\n",
      "\n"
     ]
    },
    {
     "name": "stdout",
     "output_type": "stream",
     "text": [
      "Epoch 40, Loss 0.0608\n",
      "Training Accuracy: 0.9454, Testing Accuracy: 0.9536\n",
      "\n"
     ]
    },
    {
     "name": "stdout",
     "output_type": "stream",
     "text": [
      "Epoch 50, Loss 0.0564\n",
      "Training Accuracy: 0.9489, Testing Accuracy: 0.9546\n",
      "\n"
     ]
    },
    {
     "name": "stdout",
     "output_type": "stream",
     "text": [
      "Epoch 60, Loss 0.0531\n",
      "Training Accuracy: 0.9507, Testing Accuracy: 0.9582\n",
      "\n"
     ]
    },
    {
     "name": "stdout",
     "output_type": "stream",
     "text": [
      "Epoch 70, Loss 0.0507\n",
      "Training Accuracy: 0.9519, Testing Accuracy: 0.9597\n",
      "\n"
     ]
    },
    {
     "name": "stdout",
     "output_type": "stream",
     "text": [
      "Epoch 80, Loss 0.0487\n",
      "Training Accuracy: 0.9537, Testing Accuracy: 0.9592\n",
      "\n"
     ]
    },
    {
     "name": "stdout",
     "output_type": "stream",
     "text": [
      "Epoch 90, Loss 0.047\n",
      "Training Accuracy: 0.9541, Testing Accuracy: 0.9612\n",
      "\n"
     ]
    },
    {
     "name": "stdout",
     "output_type": "stream",
     "text": [
      "Epoch 100, Loss 0.0456\n",
      "Training Accuracy: 0.9549, Testing Accuracy: 0.9622\n",
      "\n"
     ]
    },
    {
     "name": "stdout",
     "output_type": "stream",
     "text": [
      "Epoch 110, Loss 0.0445\n",
      "Training Accuracy: 0.9561, Testing Accuracy: 0.9632\n",
      "\n"
     ]
    },
    {
     "name": "stdout",
     "output_type": "stream",
     "text": [
      "Epoch 120, Loss 0.0434\n",
      "Training Accuracy: 0.9567, Testing Accuracy: 0.9637\n",
      "\n"
     ]
    },
    {
     "name": "stdout",
     "output_type": "stream",
     "text": [
      "Epoch 130, Loss 0.0425\n",
      "Training Accuracy: 0.9575, Testing Accuracy: 0.9647\n",
      "\n"
     ]
    },
    {
     "name": "stdout",
     "output_type": "stream",
     "text": [
      "Epoch 140, Loss 0.0417\n",
      "Training Accuracy: 0.9579, Testing Accuracy: 0.9652\n",
      "\n"
     ]
    },
    {
     "name": "stdout",
     "output_type": "stream",
     "text": [
      "Epoch 150, Loss 0.041\n",
      "Training Accuracy: 0.9582, Testing Accuracy: 0.9652\n",
      "\n"
     ]
    },
    {
     "name": "stdout",
     "output_type": "stream",
     "text": [
      "Epoch 160, Loss 0.0404\n",
      "Training Accuracy: 0.9588, Testing Accuracy: 0.9652\n",
      "\n"
     ]
    },
    {
     "name": "stdout",
     "output_type": "stream",
     "text": [
      "Epoch 170, Loss 0.0398\n",
      "Training Accuracy: 0.9588, Testing Accuracy: 0.9662\n",
      "\n"
     ]
    },
    {
     "name": "stdout",
     "output_type": "stream",
     "text": [
      "Epoch 180, Loss 0.0392\n",
      "Training Accuracy: 0.9592, Testing Accuracy: 0.9667\n",
      "\n"
     ]
    },
    {
     "name": "stdout",
     "output_type": "stream",
     "text": [
      "Epoch 190, Loss 0.0387\n",
      "Training Accuracy: 0.9596, Testing Accuracy: 0.9667\n",
      "\n"
     ]
    },
    {
     "name": "stdout",
     "output_type": "stream",
     "text": [
      "Epoch 200, Loss 0.0383\n",
      "Training Accuracy: 0.9599, Testing Accuracy: 0.9667\n",
      "\n"
     ]
    },
    {
     "name": "stdout",
     "output_type": "stream",
     "text": [
      "Epoch 210, Loss 0.0378\n",
      "Training Accuracy: 0.9603, Testing Accuracy: 0.9677\n",
      "\n"
     ]
    },
    {
     "name": "stdout",
     "output_type": "stream",
     "text": [
      "Epoch 220, Loss 0.0374\n",
      "Training Accuracy: 0.9607, Testing Accuracy: 0.9682\n",
      "\n"
     ]
    },
    {
     "name": "stdout",
     "output_type": "stream",
     "text": [
      "Epoch 230, Loss 0.0371\n",
      "Training Accuracy: 0.9609, Testing Accuracy: 0.9688\n",
      "\n"
     ]
    },
    {
     "name": "stdout",
     "output_type": "stream",
     "text": [
      "Epoch 240, Loss 0.0367\n",
      "Training Accuracy: 0.9609, Testing Accuracy: 0.9688\n",
      "\n"
     ]
    },
    {
     "data": {
      "text/plain": [
       "0.0474795743817991"
      ]
     },
     "execution_count": 23,
     "metadata": {},
     "output_type": "execute_result"
    }
   ],
   "source": [
    "lr_learner.train_loop(dl)"
   ]
  },
  {
   "cell_type": "code",
   "execution_count": 24,
   "id": "ca410940",
   "metadata": {
    "execution": {
     "iopub.execute_input": "2021-10-13T00:23:45.248893Z",
     "iopub.status.busy": "2021-10-13T00:23:45.248305Z",
     "iopub.status.idle": "2021-10-13T00:23:45.535053Z",
     "shell.execute_reply": "2021-10-13T00:23:45.535619Z"
    },
    "papermill": {
     "duration": 0.34203,
     "end_time": "2021-10-13T00:23:45.535775",
     "exception": false,
     "start_time": "2021-10-13T00:23:45.193745",
     "status": "completed"
    },
    "tags": []
   },
   "outputs": [
    {
     "data": {
      "text/plain": [
       "<matplotlib.legend.Legend at 0x7fc37890f860>"
      ]
     },
     "execution_count": 24,
     "metadata": {},
     "output_type": "execute_result"
    },
    {
     "data": {
      "image/png": "[encoded data removed]",
      "text/plain": [
       "<Figure size 1080x720 with 1 Axes>"
      ]
     },
     "metadata": {
      "needs_background": "light"
     },
     "output_type": "display_data"
    }
   ],
   "source": [
    "#comparing the results of NN and LR\n",
    "plt.figure(figsize=(15,10))\n",
    "\n",
    "# Neural Network plots\n",
    "plt.plot(acc_nn.accuracies, 'r-', label = \"Training Accuracies - NN\")\n",
    "plt.plot(acc_nn.test_accuracies, 'g-', label = \"Testing Accuracies - NN\")\n",
    "\n",
    "# Logistic Regression plots\n",
    "plt.plot(acc_lr.accuracies, 'k-', label = \"Training Accuracies - LR\")\n",
    "plt.plot(acc_lr.test_accuracies, 'b-', label = \"Testing Accuracies - LR\")\n",
    "plt.legend()"
   ]
  },
  {
   "cell_type": "markdown",
   "id": "80dfb35c",
   "metadata": {
    "papermill": {
     "duration": 0.048069,
     "end_time": "2021-10-13T00:23:45.629853",
     "exception": false,
     "start_time": "2021-10-13T00:23:45.581784",
     "status": "completed"
    },
    "tags": []
   },
   "source": [
    "#### Plotting the outputs of this layer of the NN.\n"
   ]
  },
  {
   "cell_type": "code",
   "execution_count": 25,
   "id": "45eb2ff5",
   "metadata": {
    "execution": {
     "iopub.execute_input": "2021-10-13T00:23:45.728881Z",
     "iopub.status.busy": "2021-10-13T00:23:45.727921Z",
     "iopub.status.idle": "2021-10-13T00:23:45.751037Z",
     "shell.execute_reply": "2021-10-13T00:23:45.751566Z"
    },
    "papermill": {
     "duration": 0.07726,
     "end_time": "2021-10-13T00:23:45.751750",
     "exception": false,
     "start_time": "2021-10-13T00:23:45.674490",
     "status": "completed"
    },
    "tags": []
   },
   "outputs": [],
   "source": [
    "new_model = Model(layers[:-2])\n",
    "testing_plot = new_model(testing_data_x)"
   ]
  },
  {
   "cell_type": "code",
   "execution_count": 26,
   "id": "4c0a5485",
   "metadata": {
    "execution": {
     "iopub.execute_input": "2021-10-13T00:23:45.859695Z",
     "iopub.status.busy": "2021-10-13T00:23:45.859127Z",
     "iopub.status.idle": "2021-10-13T00:23:46.098097Z",
     "shell.execute_reply": "2021-10-13T00:23:46.098529Z"
    },
    "papermill": {
     "duration": 0.292589,
     "end_time": "2021-10-13T00:23:46.098687",
     "exception": false,
     "start_time": "2021-10-13T00:23:45.806098",
     "status": "completed"
    },
    "tags": []
   },
   "outputs": [
    {
     "data": {
      "text/plain": [
       "Text(0.5, 1.0, 'Outputs')"
      ]
     },
     "execution_count": 26,
     "metadata": {},
     "output_type": "execute_result"
    },
    {
     "data": {
      "image/png": "[encoded data removed]",
      "text/plain": [
       "<Figure size 576x504 with 1 Axes>"
      ]
     },
     "metadata": {
      "needs_background": "light"
     },
     "output_type": "display_data"
    }
   ],
   "source": [
    "# Plotting the scatter plot of points and color coding by class\n",
    "plt.figure(figsize=(8,7))\n",
    "plt.scatter(testing_plot[:,0], testing_plot[:,1], alpha = 0.1, c = y_test.ravel());\n",
    "plt.title('Outputs')"
   ]
  },
  {
   "cell_type": "markdown",
   "id": "a74fcf8f",
   "metadata": {
    "papermill": {
     "duration": 0.047547,
     "end_time": "2021-10-13T00:23:46.193487",
     "exception": false,
     "start_time": "2021-10-13T00:23:46.145940",
     "status": "completed"
    },
    "tags": []
   },
   "source": [
    "Probability contours"
   ]
  },
  {
   "cell_type": "code",
   "execution_count": 27,
   "id": "d0afc8e3",
   "metadata": {
    "execution": {
     "iopub.execute_input": "2021-10-13T00:23:46.318748Z",
     "iopub.status.busy": "2021-10-13T00:23:46.318178Z",
     "iopub.status.idle": "2021-10-13T00:23:46.328650Z",
     "shell.execute_reply": "2021-10-13T00:23:46.328165Z"
    },
    "papermill": {
     "duration": 0.087827,
     "end_time": "2021-10-13T00:23:46.328776",
     "exception": false,
     "start_time": "2021-10-13T00:23:46.240949",
     "status": "completed"
    },
    "tags": []
   },
   "outputs": [],
   "source": [
    "model_prob = Model(layers[-2:]) "
   ]
  },
  {
   "cell_type": "code",
   "execution_count": 28,
   "id": "9b96e238",
   "metadata": {
    "execution": {
     "iopub.execute_input": "2021-10-13T00:23:46.433592Z",
     "iopub.status.busy": "2021-10-13T00:23:46.431760Z",
     "iopub.status.idle": "2021-10-13T00:23:46.446488Z",
     "shell.execute_reply": "2021-10-13T00:23:46.446911Z"
    },
    "papermill": {
     "duration": 0.069329,
     "end_time": "2021-10-13T00:23:46.447043",
     "exception": false,
     "start_time": "2021-10-13T00:23:46.377714",
     "status": "completed"
    },
    "tags": []
   },
   "outputs": [],
   "source": [
    "#creating the x and y ranges according to the above generated plot.\n",
    "x_range = np.linspace(-4, 1, 100) \n",
    "y_range = np.linspace(-6, 6, 100) \n",
    "x_grid, y_grid = np.meshgrid(x_range, y_range) # x_grid and y_grig are of size 100 X 100\n",
    "\n",
    "# converting x_grid and y_grid to continuous arrays\n",
    "x_gridflat = np.ravel(x_grid)\n",
    "y_gridflat = np.ravel(y_grid)\n",
    "\n",
    "# The last layer of the current model takes two columns as input. Hence transpose of np.vstack() is required.\n",
    "X = np.vstack((x_gridflat, y_gridflat)).T\n",
    "\n",
    "prob_contour = model_prob(X).reshape(100,100) "
   ]
  },
  {
   "cell_type": "code",
   "execution_count": 29,
   "id": "da72499a",
   "metadata": {
    "execution": {
     "iopub.execute_input": "2021-10-13T00:23:46.562037Z",
     "iopub.status.busy": "2021-10-13T00:23:46.557885Z",
     "iopub.status.idle": "2021-10-13T00:23:46.857144Z",
     "shell.execute_reply": "2021-10-13T00:23:46.856582Z"
    },
    "papermill": {
     "duration": 0.355017,
     "end_time": "2021-10-13T00:23:46.857269",
     "exception": false,
     "start_time": "2021-10-13T00:23:46.502252",
     "status": "completed"
    },
    "tags": []
   },
   "outputs": [
    {
     "data": {
      "image/png": "[encoded data removed]",
      "text/plain": [
       "<Figure size 720x648 with 1 Axes>"
      ]
     },
     "metadata": {
      "needs_background": "light"
     },
     "output_type": "display_data"
    }
   ],
   "source": [
    "plt.figure(figsize=(10,9))\n",
    "plt.scatter(testing_plot[:,0], testing_plot[:,1], alpha = 0.1, c = y_test.ravel())\n",
    "contours = plt.contour(x_grid,y_grid,prob_contour)\n",
    "plt.title('Probability Contours')\n",
    "plt.clabel(contours, inline = True );"
   ]
  },
  {
   "cell_type": "code",
   "execution_count": null,
   "id": "e81b4ac7",
   "metadata": {
    "papermill": {
     "duration": 0.048384,
     "end_time": "2021-10-13T00:23:46.955471",
     "exception": false,
     "start_time": "2021-10-13T00:23:46.907087",
     "status": "completed"
    },
    "tags": []
   },
   "outputs": [],
   "source": []
  }
 ],
 "metadata": {
  "kernelspec": {
   "display_name": "Python 3",
   "language": "python",
   "name": "python3"
  },
  "language_info": {
   "codemirror_mode": {
    "name": "ipython",
    "version": 3
   },
   "file_extension": ".py",
   "mimetype": "text/x-python",
   "name": "python",
   "nbconvert_exporter": "python",
   "pygments_lexer": "ipython3",
   "version": "3.6.15"
  },
  "papermill": {
   "default_parameters": {},
   "duration": 167.507334,
   "end_time": "2021-10-13T00:23:47.314555",
   "environment_variables": {},
   "exception": null,
   "input_path": "2020-08-11-part2.ipynb",
   "output_path": "2020-08-11-part2.ipynb",
   "parameters": {},
   "start_time": "2021-10-13T00:20:59.807221",
   "version": "2.3.3"
  }
 },
 "nbformat": 4,
 "nbformat_minor": 5
}