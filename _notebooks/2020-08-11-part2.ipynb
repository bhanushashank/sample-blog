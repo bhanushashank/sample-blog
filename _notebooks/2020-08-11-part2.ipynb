{
 "cells": [
  {
   "cell_type": "markdown",
   "id": "98380cd3",
   "metadata": {
    "papermill": {
     "duration": 0.02135,
     "end_time": "2022-07-02T20:10:44.888396",
     "exception": false,
     "start_time": "2022-07-02T20:10:44.867046",
     "status": "completed"
    },
    "tags": []
   },
   "source": [
    "# Distinguish Your Own Digits (DYOD)"
   ]
  },
  {
   "cell_type": "markdown",
   "id": "ef31240d",
   "metadata": {
    "papermill": {
     "duration": 0.017427,
     "end_time": "2022-07-02T20:10:44.923752",
     "exception": false,
     "start_time": "2022-07-02T20:10:44.906325",
     "status": "completed"
    },
    "tags": []
   },
   "source": [
    "You are going to write a classifier that distinguishes between the number 3 and number 8."
   ]
  },
  {
   "cell_type": "code",
   "execution_count": 1,
   "id": "b15c8646",
   "metadata": {
    "execution": {
     "iopub.execute_input": "2022-07-02T20:10:44.966935Z",
     "iopub.status.busy": "2022-07-02T20:10:44.966220Z",
     "iopub.status.idle": "2022-07-02T20:10:44.974180Z",
     "shell.execute_reply": "2022-07-02T20:10:44.973820Z"
    },
    "papermill": {
     "duration": 0.033105,
     "end_time": "2022-07-02T20:10:44.974269",
     "exception": false,
     "start_time": "2022-07-02T20:10:44.941164",
     "status": "completed"
    },
    "tags": []
   },
   "outputs": [],
   "source": [
    "%load_ext autoreload\n",
    "%autoreload 2"
   ]
  },
  {
   "cell_type": "code",
   "execution_count": 2,
   "id": "22ef38dc",
   "metadata": {
    "execution": {
     "iopub.execute_input": "2022-07-02T20:10:45.012015Z",
     "iopub.status.busy": "2022-07-02T20:10:45.011267Z",
     "iopub.status.idle": "2022-07-02T20:10:45.422302Z",
     "shell.execute_reply": "2022-07-02T20:10:45.421939Z"
    },
    "papermill": {
     "duration": 0.430829,
     "end_time": "2022-07-02T20:10:45.422394",
     "exception": false,
     "start_time": "2022-07-02T20:10:44.991565",
     "status": "completed"
    },
    "tags": []
   },
   "outputs": [],
   "source": [
    "%matplotlib inline\n",
    "import numpy as np\n",
    "import matplotlib.pyplot as plt\n",
    "import pandas as pd"
   ]
  },
  {
   "cell_type": "markdown",
   "id": "ba036198",
   "metadata": {
    "papermill": {
     "duration": 0.017469,
     "end_time": "2022-07-02T20:10:45.457445",
     "exception": false,
     "start_time": "2022-07-02T20:10:45.439976",
     "status": "completed"
    },
    "tags": []
   },
   "source": [
    "From the command line run `pip install mnist`. This is a library that will help you bring down the mnist dataset. If you run this from a notebook, you need to put  `!pip install mnist` in a cell by itself."
   ]
  },
  {
   "cell_type": "code",
   "execution_count": 3,
   "id": "bb6ad8a1",
   "metadata": {
    "execution": {
     "iopub.execute_input": "2022-07-02T20:10:45.496203Z",
     "iopub.status.busy": "2022-07-02T20:10:45.495492Z",
     "iopub.status.idle": "2022-07-02T20:10:48.029901Z",
     "shell.execute_reply": "2022-07-02T20:10:48.029529Z"
    },
    "papermill": {
     "duration": 2.5552,
     "end_time": "2022-07-02T20:10:48.029988",
     "exception": false,
     "start_time": "2022-07-02T20:10:45.474788",
     "status": "completed"
    },
    "tags": []
   },
   "outputs": [
    {
     "name": "stdout",
     "output_type": "stream",
     "text": [
      "Collecting mnist\r\n"
     ]
    },
    {
     "name": "stdout",
     "output_type": "stream",
     "text": [
      "  Downloading mnist-0.2.2-py2.py3-none-any.whl (3.5 kB)\r\n",
      "Requirement already satisfied: numpy in /opt/hostedtoolcache/Python/3.6.15/x64/lib/python3.6/site-packages (from mnist) (1.19.5)\r\n"
     ]
    },
    {
     "name": "stdout",
     "output_type": "stream",
     "text": [
      "Installing collected packages: mnist\r\n"
     ]
    },
    {
     "name": "stdout",
     "output_type": "stream",
     "text": [
      "Successfully installed mnist-0.2.2\r\n"
     ]
    }
   ],
   "source": [
    "!pip install mnist"
   ]
  },
  {
   "cell_type": "markdown",
   "id": "69df9c9a",
   "metadata": {
    "papermill": {
     "duration": 0.01828,
     "end_time": "2022-07-02T20:10:48.066749",
     "exception": false,
     "start_time": "2022-07-02T20:10:48.048469",
     "status": "completed"
    },
    "tags": []
   },
   "source": [
    "## Preparing the Data"
   ]
  },
  {
   "cell_type": "code",
   "execution_count": 4,
   "id": "7f69d806",
   "metadata": {
    "execution": {
     "iopub.execute_input": "2022-07-02T20:10:48.106498Z",
     "iopub.status.busy": "2022-07-02T20:10:48.105824Z",
     "iopub.status.idle": "2022-07-02T20:10:48.116598Z",
     "shell.execute_reply": "2022-07-02T20:10:48.116169Z"
    },
    "papermill": {
     "duration": 0.031868,
     "end_time": "2022-07-02T20:10:48.116677",
     "exception": false,
     "start_time": "2022-07-02T20:10:48.084809",
     "status": "completed"
    },
    "tags": []
   },
   "outputs": [],
   "source": [
    "import mnist"
   ]
  },
  {
   "cell_type": "code",
   "execution_count": 5,
   "id": "a411e44f",
   "metadata": {
    "execution": {
     "iopub.execute_input": "2022-07-02T20:10:48.156777Z",
     "iopub.status.busy": "2022-07-02T20:10:48.156105Z",
     "iopub.status.idle": "2022-07-02T20:10:48.726896Z",
     "shell.execute_reply": "2022-07-02T20:10:48.727237Z"
    },
    "papermill": {
     "duration": 0.592648,
     "end_time": "2022-07-02T20:10:48.727340",
     "exception": false,
     "start_time": "2022-07-02T20:10:48.134692",
     "status": "completed"
    },
    "tags": []
   },
   "outputs": [],
   "source": [
    "train_images = mnist.train_images()\n",
    "train_labels = mnist.train_labels()"
   ]
  },
  {
   "cell_type": "code",
   "execution_count": 6,
   "id": "dceab3a5",
   "metadata": {
    "execution": {
     "iopub.execute_input": "2022-07-02T20:10:48.767588Z",
     "iopub.status.busy": "2022-07-02T20:10:48.766910Z",
     "iopub.status.idle": "2022-07-02T20:10:48.778304Z",
     "shell.execute_reply": "2022-07-02T20:10:48.777886Z"
    },
    "papermill": {
     "duration": 0.032623,
     "end_time": "2022-07-02T20:10:48.778386",
     "exception": false,
     "start_time": "2022-07-02T20:10:48.745763",
     "status": "completed"
    },
    "tags": []
   },
   "outputs": [
    {
     "data": {
      "text/plain": [
       "((60000, 28, 28), (60000,))"
      ]
     },
     "execution_count": 6,
     "metadata": {},
     "output_type": "execute_result"
    }
   ],
   "source": [
    "train_images.shape, train_labels.shape"
   ]
  },
  {
   "cell_type": "code",
   "execution_count": 7,
   "id": "f50dc2bb",
   "metadata": {
    "execution": {
     "iopub.execute_input": "2022-07-02T20:10:48.828694Z",
     "iopub.status.busy": "2022-07-02T20:10:48.824680Z",
     "iopub.status.idle": "2022-07-02T20:10:49.069417Z",
     "shell.execute_reply": "2022-07-02T20:10:49.068525Z"
    },
    "papermill": {
     "duration": 0.272821,
     "end_time": "2022-07-02T20:10:49.069512",
     "exception": false,
     "start_time": "2022-07-02T20:10:48.796691",
     "status": "completed"
    },
    "tags": []
   },
   "outputs": [],
   "source": [
    "test_images = mnist.test_images()\n",
    "test_labels = mnist.test_labels()"
   ]
  },
  {
   "cell_type": "code",
   "execution_count": 8,
   "id": "fc38cf1b",
   "metadata": {
    "execution": {
     "iopub.execute_input": "2022-07-02T20:10:49.109950Z",
     "iopub.status.busy": "2022-07-02T20:10:49.109283Z",
     "iopub.status.idle": "2022-07-02T20:10:49.119172Z",
     "shell.execute_reply": "2022-07-02T20:10:49.119476Z"
    },
    "papermill": {
     "duration": 0.031583,
     "end_time": "2022-07-02T20:10:49.119569",
     "exception": false,
     "start_time": "2022-07-02T20:10:49.087986",
     "status": "completed"
    },
    "tags": []
   },
   "outputs": [
    {
     "data": {
      "text/plain": [
       "((10000, 28, 28), (10000,))"
      ]
     },
     "execution_count": 8,
     "metadata": {},
     "output_type": "execute_result"
    }
   ],
   "source": [
    "test_images.shape, test_labels.shape"
   ]
  },
  {
   "cell_type": "code",
   "execution_count": 9,
   "id": "f9ed8fe0",
   "metadata": {
    "execution": {
     "iopub.execute_input": "2022-07-02T20:10:49.165573Z",
     "iopub.status.busy": "2022-07-02T20:10:49.164909Z",
     "iopub.status.idle": "2022-07-02T20:10:49.261472Z",
     "shell.execute_reply": "2022-07-02T20:10:49.261136Z"
    },
    "papermill": {
     "duration": 0.12363,
     "end_time": "2022-07-02T20:10:49.261559",
     "exception": false,
     "start_time": "2022-07-02T20:10:49.137929",
     "status": "completed"
    },
    "tags": []
   },
   "outputs": [
    {
     "name": "stdout",
     "output_type": "stream",
     "text": [
      "2\n"
     ]
    },
    {
     "data": {
      "text/plain": [
       "<matplotlib.image.AxesImage at 0x7f20d79f0048>"
      ]
     },
     "execution_count": 9,
     "metadata": {},
     "output_type": "execute_result"
    },
    {
     "data": {
      "image/png": "[encoded data removed]",
      "text/plain": [
       "<Figure size 432x288 with 1 Axes>"
      ]
     },
     "metadata": {
      "needs_background": "light"
     },
     "output_type": "display_data"
    }
   ],
   "source": [
    "image_index = 7776 # You may select anything up to 60,000\n",
    "print(train_labels[image_index]) \n",
    "plt.imshow(train_images[image_index], cmap='Greys')"
   ]
  },
  {
   "cell_type": "markdown",
   "id": "a8d2388d",
   "metadata": {
    "papermill": {
     "duration": 0.019507,
     "end_time": "2022-07-02T20:10:49.300474",
     "exception": false,
     "start_time": "2022-07-02T20:10:49.280967",
     "status": "completed"
    },
    "tags": []
   },
   "source": [
    "## Filter data to get 3 and 8 out"
   ]
  },
  {
   "cell_type": "code",
   "execution_count": 10,
   "id": "776f7fc7",
   "metadata": {
    "execution": {
     "iopub.execute_input": "2022-07-02T20:10:49.343125Z",
     "iopub.status.busy": "2022-07-02T20:10:49.342439Z",
     "iopub.status.idle": "2022-07-02T20:10:49.356149Z",
     "shell.execute_reply": "2022-07-02T20:10:49.355602Z"
    },
    "papermill": {
     "duration": 0.036506,
     "end_time": "2022-07-02T20:10:49.356235",
     "exception": false,
     "start_time": "2022-07-02T20:10:49.319729",
     "status": "completed"
    },
    "tags": []
   },
   "outputs": [],
   "source": [
    "train_filter = np.where((train_labels == 3 ) | (train_labels == 8))\n",
    "test_filter = np.where((test_labels == 3) | (test_labels == 8))\n",
    "X_train, y_train = train_images[train_filter], train_labels[train_filter]\n",
    "X_test, y_test = test_images[test_filter], test_labels[test_filter]"
   ]
  },
  {
   "cell_type": "markdown",
   "id": "948f0b7e",
   "metadata": {
    "papermill": {
     "duration": 0.019294,
     "end_time": "2022-07-02T20:10:49.395052",
     "exception": false,
     "start_time": "2022-07-02T20:10:49.375758",
     "status": "completed"
    },
    "tags": []
   },
   "source": [
    "We normalize the pizel values in the 0 to 1 range"
   ]
  },
  {
   "cell_type": "code",
   "execution_count": 11,
   "id": "ee4c2166",
   "metadata": {
    "execution": {
     "iopub.execute_input": "2022-07-02T20:10:49.440667Z",
     "iopub.status.busy": "2022-07-02T20:10:49.437076Z",
     "iopub.status.idle": "2022-07-02T20:10:49.470700Z",
     "shell.execute_reply": "2022-07-02T20:10:49.470327Z"
    },
    "papermill": {
     "duration": 0.056162,
     "end_time": "2022-07-02T20:10:49.470790",
     "exception": false,
     "start_time": "2022-07-02T20:10:49.414628",
     "status": "completed"
    },
    "tags": []
   },
   "outputs": [],
   "source": [
    "X_train = X_train/255.\n",
    "X_test = X_test/255."
   ]
  },
  {
   "cell_type": "markdown",
   "id": "ddcf4fab",
   "metadata": {
    "papermill": {
     "duration": 0.019415,
     "end_time": "2022-07-02T20:10:49.509595",
     "exception": false,
     "start_time": "2022-07-02T20:10:49.490180",
     "status": "completed"
    },
    "tags": []
   },
   "source": [
    "And setup the labels as 1 (when the digit is 3) and 0 (when the digit is 8)"
   ]
  },
  {
   "cell_type": "code",
   "execution_count": 12,
   "id": "7dc908f2",
   "metadata": {
    "execution": {
     "iopub.execute_input": "2022-07-02T20:10:49.552161Z",
     "iopub.status.busy": "2022-07-02T20:10:49.551445Z",
     "iopub.status.idle": "2022-07-02T20:10:49.560781Z",
     "shell.execute_reply": "2022-07-02T20:10:49.560365Z"
    },
    "papermill": {
     "duration": 0.031628,
     "end_time": "2022-07-02T20:10:49.560859",
     "exception": false,
     "start_time": "2022-07-02T20:10:49.529231",
     "status": "completed"
    },
    "tags": []
   },
   "outputs": [],
   "source": [
    "y_train = 1*(y_train==3)\n",
    "y_test = 1*(y_test==3)"
   ]
  },
  {
   "cell_type": "code",
   "execution_count": 13,
   "id": "01e4e969",
   "metadata": {
    "execution": {
     "iopub.execute_input": "2022-07-02T20:10:49.602392Z",
     "iopub.status.busy": "2022-07-02T20:10:49.601709Z",
     "iopub.status.idle": "2022-07-02T20:10:49.612128Z",
     "shell.execute_reply": "2022-07-02T20:10:49.611765Z"
    },
    "papermill": {
     "duration": 0.032141,
     "end_time": "2022-07-02T20:10:49.612206",
     "exception": false,
     "start_time": "2022-07-02T20:10:49.580065",
     "status": "completed"
    },
    "tags": []
   },
   "outputs": [
    {
     "data": {
      "text/plain": [
       "((11982, 28, 28), (1984, 28, 28))"
      ]
     },
     "execution_count": 13,
     "metadata": {},
     "output_type": "execute_result"
    }
   ],
   "source": [
    "X_train.shape, X_test.shape"
   ]
  },
  {
   "cell_type": "markdown",
   "id": "5ccf3f85",
   "metadata": {
    "papermill": {
     "duration": 0.019455,
     "end_time": "2022-07-02T20:10:49.651056",
     "exception": false,
     "start_time": "2022-07-02T20:10:49.631601",
     "status": "completed"
    },
    "tags": []
   },
   "source": [
    "We reshape the data to flatten the image pixels into a set of features or co-variates:"
   ]
  },
  {
   "cell_type": "code",
   "execution_count": 14,
   "id": "5286a4a3",
   "metadata": {
    "execution": {
     "iopub.execute_input": "2022-07-02T20:10:49.693366Z",
     "iopub.status.busy": "2022-07-02T20:10:49.692690Z",
     "iopub.status.idle": "2022-07-02T20:10:49.703427Z",
     "shell.execute_reply": "2022-07-02T20:10:49.703005Z"
    },
    "papermill": {
     "duration": 0.033097,
     "end_time": "2022-07-02T20:10:49.703505",
     "exception": false,
     "start_time": "2022-07-02T20:10:49.670408",
     "status": "completed"
    },
    "tags": []
   },
   "outputs": [
    {
     "data": {
      "text/plain": [
       "((11982, 784), (1984, 784))"
      ]
     },
     "execution_count": 14,
     "metadata": {},
     "output_type": "execute_result"
    }
   ],
   "source": [
    "X_train = X_train.reshape(X_train.shape[0], -1)\n",
    "X_test = X_test.reshape(X_test.shape[0], -1)\n",
    "X_train.shape, X_test.shape"
   ]
  },
  {
   "cell_type": "code",
   "execution_count": 15,
   "id": "73c5f88a",
   "metadata": {
    "execution": {
     "iopub.execute_input": "2022-07-02T20:10:49.760960Z",
     "iopub.status.busy": "2022-07-02T20:10:49.758854Z",
     "iopub.status.idle": "2022-07-02T20:10:49.766117Z",
     "shell.execute_reply": "2022-07-02T20:10:49.766434Z"
    },
    "papermill": {
     "duration": 0.043477,
     "end_time": "2022-07-02T20:10:49.766529",
     "exception": false,
     "start_time": "2022-07-02T20:10:49.723052",
     "status": "completed"
    },
    "tags": []
   },
   "outputs": [],
   "source": [
    "#Impoting functions from 'Kudzu'\n",
    "from kudzu.model import Model\n",
    "from kudzu.train import Learner\n",
    "from kudzu.optim import GD\n",
    "from kudzu.data import Data, Sampler,Dataloader\n",
    "\n",
    "from kudzu.callbacks import AccCallback\n",
    "from kudzu.callbacks import ClfCallback\n",
    "\n",
    "from kudzu.loss import MSE\n",
    "\n",
    "from kudzu.layer import Sigmoid,Relu\n",
    "from kudzu.layer import Affine"
   ]
  },
  {
   "cell_type": "markdown",
   "id": "bc01172a",
   "metadata": {
    "papermill": {
     "duration": 0.0198,
     "end_time": "2022-07-02T20:10:49.806223",
     "exception": false,
     "start_time": "2022-07-02T20:10:49.786423",
     "status": "completed"
    },
    "tags": []
   },
   "source": [
    "### Let us create a `Config` class, to store important parameters. \n",
    "This class essentially plays the role of a dictionary."
   ]
  },
  {
   "cell_type": "code",
   "execution_count": 16,
   "id": "978281aa",
   "metadata": {
    "execution": {
     "iopub.execute_input": "2022-07-02T20:10:49.853366Z",
     "iopub.status.busy": "2022-07-02T20:10:49.852680Z",
     "iopub.status.idle": "2022-07-02T20:10:49.860432Z",
     "shell.execute_reply": "2022-07-02T20:10:49.860072Z"
    },
    "papermill": {
     "duration": 0.034779,
     "end_time": "2022-07-02T20:10:49.860513",
     "exception": false,
     "start_time": "2022-07-02T20:10:49.825734",
     "status": "completed"
    },
    "tags": []
   },
   "outputs": [],
   "source": [
    "class Config:\n",
    "    pass\n",
    "config = Config()\n",
    "config.lr = 0.001\n",
    "config.num_epochs = 250\n",
    "config.bs = 50"
   ]
  },
  {
   "cell_type": "markdown",
   "id": "1385fa59",
   "metadata": {
    "papermill": {
     "duration": 0.019605,
     "end_time": "2022-07-02T20:10:49.899717",
     "exception": false,
     "start_time": "2022-07-02T20:10:49.880112",
     "status": "completed"
    },
    "tags": []
   },
   "source": [
    "### Running Models with the Training data\n",
    "Details about the network layers:\n",
    "- A first affine layer has 784 inputs and does 100 affine transforms. These are followed by a Relu\n",
    "- A second affine layer has 100 inputs from the 100 activations of the past layer, and does 100 affine transforms. These are followed by a Relu\n",
    "- A third affine layer has 100 activations and does 2 affine transformations to create an embedding for visualization. There is no non-linearity here.\n",
    "- A final \"logistic regression\" which has an affine transform from 2 inputs to 1 output, which is squeezed through a sigmoid.\n"
   ]
  },
  {
   "cell_type": "code",
   "execution_count": 17,
   "id": "2b9c66db",
   "metadata": {
    "execution": {
     "iopub.execute_input": "2022-07-02T20:10:49.955770Z",
     "iopub.status.busy": "2022-07-02T20:10:49.955191Z",
     "iopub.status.idle": "2022-07-02T20:10:49.957672Z",
     "shell.execute_reply": "2022-07-02T20:10:49.957999Z"
    },
    "papermill": {
     "duration": 0.038731,
     "end_time": "2022-07-02T20:10:49.958090",
     "exception": false,
     "start_time": "2022-07-02T20:10:49.919359",
     "status": "completed"
    },
    "tags": []
   },
   "outputs": [],
   "source": [
    "data = Data(X_train, y_train.reshape(-1,1))\n",
    "sampler = Sampler(data, config.bs, shuffle=True)\n",
    "\n",
    "dl = Dataloader(data, sampler)\n",
    "\n",
    "opt = GD(config.lr)\n",
    "loss = MSE()"
   ]
  },
  {
   "cell_type": "code",
   "execution_count": 18,
   "id": "b275e4c2",
   "metadata": {
    "execution": {
     "iopub.execute_input": "2022-07-02T20:10:50.000648Z",
     "iopub.status.busy": "2022-07-02T20:10:49.999954Z",
     "iopub.status.idle": "2022-07-02T20:10:50.009374Z",
     "shell.execute_reply": "2022-07-02T20:10:50.008959Z"
    },
    "papermill": {
     "duration": 0.031773,
     "end_time": "2022-07-02T20:10:50.009453",
     "exception": false,
     "start_time": "2022-07-02T20:10:49.977680",
     "status": "completed"
    },
    "tags": []
   },
   "outputs": [],
   "source": [
    "training_data_x = X_train\n",
    "testing_data_x = X_test\n",
    "training_data_y = y_train.reshape(-1,1)\n",
    "testing_data_y = y_test.reshape(-1,1)"
   ]
  },
  {
   "cell_type": "code",
   "execution_count": 19,
   "id": "76951160",
   "metadata": {
    "execution": {
     "iopub.execute_input": "2022-07-02T20:10:50.052747Z",
     "iopub.status.busy": "2022-07-02T20:10:50.052061Z",
     "iopub.status.idle": "2022-07-02T20:10:50.065190Z",
     "shell.execute_reply": "2022-07-02T20:10:50.064835Z"
    },
    "papermill": {
     "duration": 0.035945,
     "end_time": "2022-07-02T20:10:50.065269",
     "exception": false,
     "start_time": "2022-07-02T20:10:50.029324",
     "status": "completed"
    },
    "tags": []
   },
   "outputs": [
    {
     "name": "stdout",
     "output_type": "stream",
     "text": [
      "xavier\n",
      "xavier\n",
      "xavier\n",
      "xavier\n",
      "xavier\n"
     ]
    }
   ],
   "source": [
    "layers = [Affine(\"first\", 784, 100), Relu(\"first\"), Affine(\"second\", 100, 100), Relu(\"second\"), Affine(\"third\", 100, 2), Affine(\"last\", 2, 1), Sigmoid(\"last\")]\n",
    "model_nn = Model(layers)\n",
    "model_lr = Model([Affine(\"logits\", 784, 1), Sigmoid(\"sigmoid\")])"
   ]
  },
  {
   "cell_type": "code",
   "execution_count": 20,
   "id": "6eede77a",
   "metadata": {
    "execution": {
     "iopub.execute_input": "2022-07-02T20:10:50.108189Z",
     "iopub.status.busy": "2022-07-02T20:10:50.107489Z",
     "iopub.status.idle": "2022-07-02T20:10:50.116946Z",
     "shell.execute_reply": "2022-07-02T20:10:50.116599Z"
    },
    "papermill": {
     "duration": 0.03198,
     "end_time": "2022-07-02T20:10:50.117025",
     "exception": false,
     "start_time": "2022-07-02T20:10:50.085045",
     "status": "completed"
    },
    "tags": []
   },
   "outputs": [],
   "source": [
    "nn_learner = Learner(loss, model_nn, opt, config.num_epochs)\n",
    "acc_nn = ClfCallback(nn_learner, config.bs, training_data_x , testing_data_x, training_data_y, testing_data_y)\n",
    "nn_learner.set_callbacks([acc_nn])"
   ]
  },
  {
   "cell_type": "code",
   "execution_count": 21,
   "id": "877b6cc7",
   "metadata": {
    "execution": {
     "iopub.execute_input": "2022-07-02T20:10:50.173210Z",
     "iopub.status.busy": "2022-07-02T20:10:50.172738Z",
     "iopub.status.idle": "2022-07-02T20:10:50.174836Z",
     "shell.execute_reply": "2022-07-02T20:10:50.175163Z"
    },
    "papermill": {
     "duration": 0.038353,
     "end_time": "2022-07-02T20:10:50.175255",
     "exception": false,
     "start_time": "2022-07-02T20:10:50.136902",
     "status": "completed"
    },
    "tags": []
   },
   "outputs": [],
   "source": [
    "lr_learner = Learner(loss, model_lr, opt, config.num_epochs)\n",
    "acc_lr = ClfCallback(lr_learner, config.bs, training_data_x , testing_data_x, training_data_y, testing_data_y)\n",
    "lr_learner.set_callbacks([acc_lr])"
   ]
  },
  {
   "cell_type": "code",
   "execution_count": 22,
   "id": "d9b133c3",
   "metadata": {
    "execution": {
     "iopub.execute_input": "2022-07-02T20:10:50.230575Z",
     "iopub.status.busy": "2022-07-02T20:10:50.229148Z",
     "iopub.status.idle": "2022-07-02T20:14:45.697260Z",
     "shell.execute_reply": "2022-07-02T20:14:45.698058Z"
    },
    "papermill": {
     "duration": 235.503216,
     "end_time": "2022-07-02T20:14:45.698201",
     "exception": false,
     "start_time": "2022-07-02T20:10:50.194985",
     "status": "completed"
    },
    "tags": []
   },
   "outputs": [
    {
     "name": "stdout",
     "output_type": "stream",
     "text": [
      "Epoch 0, Loss 0.2515\n",
      "Training Accuracy: 0.5260, Testing Accuracy: 0.5197\n",
      "\n"
     ]
    },
    {
     "name": "stdout",
     "output_type": "stream",
     "text": [
      "Epoch 10, Loss 0.1355\n",
      "Training Accuracy: 0.8868, Testing Accuracy: 0.8926\n",
      "\n"
     ]
    },
    {
     "name": "stdout",
     "output_type": "stream",
     "text": [
      "Epoch 20, Loss 0.0728\n",
      "Training Accuracy: 0.9233, Testing Accuracy: 0.9370\n",
      "\n"
     ]
    },
    {
     "name": "stdout",
     "output_type": "stream",
     "text": [
      "Epoch 30, Loss 0.0521\n",
      "Training Accuracy: 0.9429, Testing Accuracy: 0.9561\n",
      "\n"
     ]
    },
    {
     "name": "stdout",
     "output_type": "stream",
     "text": [
      "Epoch 40, Loss 0.0424\n",
      "Training Accuracy: 0.9536, Testing Accuracy: 0.9617\n",
      "\n"
     ]
    },
    {
     "name": "stdout",
     "output_type": "stream",
     "text": [
      "Epoch 50, Loss 0.037\n",
      "Training Accuracy: 0.9590, Testing Accuracy: 0.9652\n",
      "\n"
     ]
    },
    {
     "name": "stdout",
     "output_type": "stream",
     "text": [
      "Epoch 60, Loss 0.0335\n",
      "Training Accuracy: 0.9624, Testing Accuracy: 0.9677\n",
      "\n"
     ]
    },
    {
     "name": "stdout",
     "output_type": "stream",
     "text": [
      "Epoch 70, Loss 0.031\n",
      "Training Accuracy: 0.9642, Testing Accuracy: 0.9693\n",
      "\n"
     ]
    },
    {
     "name": "stdout",
     "output_type": "stream",
     "text": [
      "Epoch 80, Loss 0.0292\n",
      "Training Accuracy: 0.9661, Testing Accuracy: 0.9718\n",
      "\n"
     ]
    },
    {
     "name": "stdout",
     "output_type": "stream",
     "text": [
      "Epoch 90, Loss 0.0277\n",
      "Training Accuracy: 0.9678, Testing Accuracy: 0.9713\n",
      "\n"
     ]
    },
    {
     "name": "stdout",
     "output_type": "stream",
     "text": [
      "Epoch 100, Loss 0.0265\n",
      "Training Accuracy: 0.9691, Testing Accuracy: 0.9713\n",
      "\n"
     ]
    },
    {
     "name": "stdout",
     "output_type": "stream",
     "text": [
      "Epoch 110, Loss 0.0254\n",
      "Training Accuracy: 0.9705, Testing Accuracy: 0.9723\n",
      "\n"
     ]
    },
    {
     "name": "stdout",
     "output_type": "stream",
     "text": [
      "Epoch 120, Loss 0.0245\n",
      "Training Accuracy: 0.9716, Testing Accuracy: 0.9728\n",
      "\n"
     ]
    },
    {
     "name": "stdout",
     "output_type": "stream",
     "text": [
      "Epoch 130, Loss 0.0237\n",
      "Training Accuracy: 0.9724, Testing Accuracy: 0.9728\n",
      "\n"
     ]
    },
    {
     "name": "stdout",
     "output_type": "stream",
     "text": [
      "Epoch 140, Loss 0.023\n",
      "Training Accuracy: 0.9731, Testing Accuracy: 0.9728\n",
      "\n"
     ]
    },
    {
     "name": "stdout",
     "output_type": "stream",
     "text": [
      "Epoch 150, Loss 0.0223\n",
      "Training Accuracy: 0.9739, Testing Accuracy: 0.9728\n",
      "\n"
     ]
    },
    {
     "name": "stdout",
     "output_type": "stream",
     "text": [
      "Epoch 160, Loss 0.0217\n",
      "Training Accuracy: 0.9744, Testing Accuracy: 0.9728\n",
      "\n"
     ]
    },
    {
     "name": "stdout",
     "output_type": "stream",
     "text": [
      "Epoch 170, Loss 0.0211\n",
      "Training Accuracy: 0.9753, Testing Accuracy: 0.9733\n",
      "\n"
     ]
    },
    {
     "name": "stdout",
     "output_type": "stream",
     "text": [
      "Epoch 180, Loss 0.0206\n",
      "Training Accuracy: 0.9763, Testing Accuracy: 0.9738\n",
      "\n"
     ]
    },
    {
     "name": "stdout",
     "output_type": "stream",
     "text": [
      "Epoch 190, Loss 0.0201\n",
      "Training Accuracy: 0.9770, Testing Accuracy: 0.9743\n",
      "\n"
     ]
    },
    {
     "name": "stdout",
     "output_type": "stream",
     "text": [
      "Epoch 200, Loss 0.0196\n",
      "Training Accuracy: 0.9774, Testing Accuracy: 0.9748\n",
      "\n"
     ]
    },
    {
     "name": "stdout",
     "output_type": "stream",
     "text": [
      "Epoch 210, Loss 0.0192\n",
      "Training Accuracy: 0.9780, Testing Accuracy: 0.9748\n",
      "\n"
     ]
    },
    {
     "name": "stdout",
     "output_type": "stream",
     "text": [
      "Epoch 220, Loss 0.0187\n",
      "Training Accuracy: 0.9783, Testing Accuracy: 0.9763\n",
      "\n"
     ]
    },
    {
     "name": "stdout",
     "output_type": "stream",
     "text": [
      "Epoch 230, Loss 0.0183\n",
      "Training Accuracy: 0.9790, Testing Accuracy: 0.9768\n",
      "\n"
     ]
    },
    {
     "name": "stdout",
     "output_type": "stream",
     "text": [
      "Epoch 240, Loss 0.0179\n",
      "Training Accuracy: 0.9792, Testing Accuracy: 0.9763\n",
      "\n"
     ]
    },
    {
     "data": {
      "text/plain": [
       "0.014613487692597842"
      ]
     },
     "execution_count": 22,
     "metadata": {},
     "output_type": "execute_result"
    }
   ],
   "source": [
    "nn_learner.train_loop(dl)"
   ]
  },
  {
   "cell_type": "code",
   "execution_count": 23,
   "id": "e0163366",
   "metadata": {
    "execution": {
     "iopub.execute_input": "2022-07-02T20:14:45.793681Z",
     "iopub.status.busy": "2022-07-02T20:14:45.793007Z",
     "iopub.status.idle": "2022-07-02T20:15:02.095710Z",
     "shell.execute_reply": "2022-07-02T20:15:02.096568Z"
    },
    "papermill": {
     "duration": 16.355051,
     "end_time": "2022-07-02T20:15:02.096707",
     "exception": false,
     "start_time": "2022-07-02T20:14:45.741656",
     "status": "completed"
    },
    "tags": []
   },
   "outputs": [
    {
     "name": "stdout",
     "output_type": "stream",
     "text": [
      "Epoch 0, Loss 0.2266\n",
      "Training Accuracy: 0.7199, Testing Accuracy: 0.7429\n",
      "\n"
     ]
    },
    {
     "name": "stdout",
     "output_type": "stream",
     "text": [
      "Epoch 10, Loss 0.1038\n",
      "Training Accuracy: 0.8992, Testing Accuracy: 0.9168\n",
      "\n"
     ]
    },
    {
     "name": "stdout",
     "output_type": "stream",
     "text": [
      "Epoch 20, Loss 0.0808\n",
      "Training Accuracy: 0.9218, Testing Accuracy: 0.9360\n",
      "\n"
     ]
    },
    {
     "name": "stdout",
     "output_type": "stream",
     "text": [
      "Epoch 30, Loss 0.07\n",
      "Training Accuracy: 0.9321, Testing Accuracy: 0.9451\n",
      "\n"
     ]
    },
    {
     "name": "stdout",
     "output_type": "stream",
     "text": [
      "Epoch 40, Loss 0.0633\n",
      "Training Accuracy: 0.9375, Testing Accuracy: 0.9481\n",
      "\n"
     ]
    },
    {
     "name": "stdout",
     "output_type": "stream",
     "text": [
      "Epoch 50, Loss 0.0587\n",
      "Training Accuracy: 0.9411, Testing Accuracy: 0.9506\n",
      "\n"
     ]
    },
    {
     "name": "stdout",
     "output_type": "stream",
     "text": [
      "Epoch 60, Loss 0.0554\n",
      "Training Accuracy: 0.9432, Testing Accuracy: 0.9531\n",
      "\n"
     ]
    },
    {
     "name": "stdout",
     "output_type": "stream",
     "text": [
      "Epoch 70, Loss 0.0527\n",
      "Training Accuracy: 0.9455, Testing Accuracy: 0.9541\n",
      "\n"
     ]
    },
    {
     "name": "stdout",
     "output_type": "stream",
     "text": [
      "Epoch 80, Loss 0.0506\n",
      "Training Accuracy: 0.9475, Testing Accuracy: 0.9551\n",
      "\n"
     ]
    },
    {
     "name": "stdout",
     "output_type": "stream",
     "text": [
      "Epoch 90, Loss 0.0488\n",
      "Training Accuracy: 0.9497, Testing Accuracy: 0.9572\n",
      "\n"
     ]
    },
    {
     "name": "stdout",
     "output_type": "stream",
     "text": [
      "Epoch 100, Loss 0.0473\n",
      "Training Accuracy: 0.9507, Testing Accuracy: 0.9577\n",
      "\n"
     ]
    },
    {
     "name": "stdout",
     "output_type": "stream",
     "text": [
      "Epoch 110, Loss 0.046\n",
      "Training Accuracy: 0.9519, Testing Accuracy: 0.9582\n",
      "\n"
     ]
    },
    {
     "name": "stdout",
     "output_type": "stream",
     "text": [
      "Epoch 120, Loss 0.0449\n",
      "Training Accuracy: 0.9528, Testing Accuracy: 0.9597\n",
      "\n"
     ]
    },
    {
     "name": "stdout",
     "output_type": "stream",
     "text": [
      "Epoch 130, Loss 0.0439\n",
      "Training Accuracy: 0.9538, Testing Accuracy: 0.9612\n",
      "\n"
     ]
    },
    {
     "name": "stdout",
     "output_type": "stream",
     "text": [
      "Epoch 140, Loss 0.0431\n",
      "Training Accuracy: 0.9549, Testing Accuracy: 0.9612\n",
      "\n"
     ]
    },
    {
     "name": "stdout",
     "output_type": "stream",
     "text": [
      "Epoch 150, Loss 0.0423\n",
      "Training Accuracy: 0.9555, Testing Accuracy: 0.9622\n",
      "\n"
     ]
    },
    {
     "name": "stdout",
     "output_type": "stream",
     "text": [
      "Epoch 160, Loss 0.0416\n",
      "Training Accuracy: 0.9561, Testing Accuracy: 0.9627\n",
      "\n"
     ]
    },
    {
     "name": "stdout",
     "output_type": "stream",
     "text": [
      "Epoch 170, Loss 0.0409\n",
      "Training Accuracy: 0.9567, Testing Accuracy: 0.9637\n",
      "\n"
     ]
    },
    {
     "name": "stdout",
     "output_type": "stream",
     "text": [
      "Epoch 180, Loss 0.0403\n",
      "Training Accuracy: 0.9574, Testing Accuracy: 0.9642\n",
      "\n"
     ]
    },
    {
     "name": "stdout",
     "output_type": "stream",
     "text": [
      "Epoch 190, Loss 0.0398\n",
      "Training Accuracy: 0.9576, Testing Accuracy: 0.9647\n",
      "\n"
     ]
    },
    {
     "name": "stdout",
     "output_type": "stream",
     "text": [
      "Epoch 200, Loss 0.0393\n",
      "Training Accuracy: 0.9579, Testing Accuracy: 0.9662\n",
      "\n"
     ]
    },
    {
     "name": "stdout",
     "output_type": "stream",
     "text": [
      "Epoch 210, Loss 0.0388\n",
      "Training Accuracy: 0.9584, Testing Accuracy: 0.9662\n",
      "\n"
     ]
    },
    {
     "name": "stdout",
     "output_type": "stream",
     "text": [
      "Epoch 220, Loss 0.0384\n",
      "Training Accuracy: 0.9588, Testing Accuracy: 0.9667\n",
      "\n"
     ]
    },
    {
     "name": "stdout",
     "output_type": "stream",
     "text": [
      "Epoch 230, Loss 0.038\n",
      "Training Accuracy: 0.9589, Testing Accuracy: 0.9672\n",
      "\n"
     ]
    },
    {
     "name": "stdout",
     "output_type": "stream",
     "text": [
      "Epoch 240, Loss 0.0376\n",
      "Training Accuracy: 0.9595, Testing Accuracy: 0.9672\n",
      "\n"
     ]
    },
    {
     "data": {
      "text/plain": [
       "0.0170702371513096"
      ]
     },
     "execution_count": 23,
     "metadata": {},
     "output_type": "execute_result"
    }
   ],
   "source": [
    "lr_learner.train_loop(dl)"
   ]
  },
  {
   "cell_type": "code",
   "execution_count": 24,
   "id": "ca410940",
   "metadata": {
    "execution": {
     "iopub.execute_input": "2022-07-02T20:15:02.197994Z",
     "iopub.status.busy": "2022-07-02T20:15:02.197208Z",
     "iopub.status.idle": "2022-07-02T20:15:02.363906Z",
     "shell.execute_reply": "2022-07-02T20:15:02.364242Z"
    },
    "papermill": {
     "duration": 0.215676,
     "end_time": "2022-07-02T20:15:02.364344",
     "exception": false,
     "start_time": "2022-07-02T20:15:02.148668",
     "status": "completed"
    },
    "tags": []
   },
   "outputs": [
    {
     "data": {
      "text/plain": [
       "<matplotlib.legend.Legend at 0x7f20d7571ac8>"
      ]
     },
     "execution_count": 24,
     "metadata": {},
     "output_type": "execute_result"
    },
    {
     "data": {
      "image/png": "[encoded data removed]",
      "text/plain": [
       "<Figure size 1080x720 with 1 Axes>"
      ]
     },
     "metadata": {
      "needs_background": "light"
     },
     "output_type": "display_data"
    }
   ],
   "source": [
    "#comparing the results of NN and LR\n",
    "plt.figure(figsize=(15,10))\n",
    "\n",
    "# Neural Network plots\n",
    "plt.plot(acc_nn.accuracies, 'r-', label = \"Training Accuracies - NN\")\n",
    "plt.plot(acc_nn.test_accuracies, 'g-', label = \"Testing Accuracies - NN\")\n",
    "\n",
    "# Logistic Regression plots\n",
    "plt.plot(acc_lr.accuracies, 'k-', label = \"Training Accuracies - LR\")\n",
    "plt.plot(acc_lr.test_accuracies, 'b-', label = \"Testing Accuracies - LR\")\n",
    "plt.legend()"
   ]
  },
  {
   "cell_type": "markdown",
   "id": "80dfb35c",
   "metadata": {
    "papermill": {
     "duration": 0.030516,
     "end_time": "2022-07-02T20:15:02.425476",
     "exception": false,
     "start_time": "2022-07-02T20:15:02.394960",
     "status": "completed"
    },
    "tags": []
   },
   "source": [
    "#### Plotting the outputs of this layer of the NN.\n"
   ]
  },
  {
   "cell_type": "code",
   "execution_count": 25,
   "id": "45eb2ff5",
   "metadata": {
    "execution": {
     "iopub.execute_input": "2022-07-02T20:15:02.490866Z",
     "iopub.status.busy": "2022-07-02T20:15:02.490189Z",
     "iopub.status.idle": "2022-07-02T20:15:02.533172Z",
     "shell.execute_reply": "2022-07-02T20:15:02.532805Z"
    },
    "papermill": {
     "duration": 0.076972,
     "end_time": "2022-07-02T20:15:02.533257",
     "exception": false,
     "start_time": "2022-07-02T20:15:02.456285",
     "status": "completed"
    },
    "tags": []
   },
   "outputs": [],
   "source": [
    "new_model = Model(layers[:-2])\n",
    "testing_plot = new_model(testing_data_x)"
   ]
  },
  {
   "cell_type": "code",
   "execution_count": 26,
   "id": "4c0a5485",
   "metadata": {
    "execution": {
     "iopub.execute_input": "2022-07-02T20:15:02.653014Z",
     "iopub.status.busy": "2022-07-02T20:15:02.652342Z",
     "iopub.status.idle": "2022-07-02T20:15:02.798213Z",
     "shell.execute_reply": "2022-07-02T20:15:02.797799Z"
    },
    "papermill": {
     "duration": 0.212686,
     "end_time": "2022-07-02T20:15:02.798296",
     "exception": false,
     "start_time": "2022-07-02T20:15:02.585610",
     "status": "completed"
    },
    "tags": []
   },
   "outputs": [
    {
     "data": {
      "text/plain": [
       "Text(0.5, 1.0, 'Outputs')"
      ]
     },
     "execution_count": 26,
     "metadata": {},
     "output_type": "execute_result"
    },
    {
     "data": {
      "image/png": "[encoded data removed]",
      "text/plain": [
       "<Figure size 576x504 with 1 Axes>"
      ]
     },
     "metadata": {
      "needs_background": "light"
     },
     "output_type": "display_data"
    }
   ],
   "source": [
    "# Plotting the scatter plot of points and color coding by class\n",
    "plt.figure(figsize=(8,7))\n",
    "plt.scatter(testing_plot[:,0], testing_plot[:,1], alpha = 0.1, c = y_test.ravel());\n",
    "plt.title('Outputs')"
   ]
  },
  {
   "cell_type": "markdown",
   "id": "a74fcf8f",
   "metadata": {
    "papermill": {
     "duration": 0.03197,
     "end_time": "2022-07-02T20:15:02.862392",
     "exception": false,
     "start_time": "2022-07-02T20:15:02.830422",
     "status": "completed"
    },
    "tags": []
   },
   "source": [
    "Probability contours"
   ]
  },
  {
   "cell_type": "code",
   "execution_count": 27,
   "id": "d0afc8e3",
   "metadata": {
    "execution": {
     "iopub.execute_input": "2022-07-02T20:15:02.940372Z",
     "iopub.status.busy": "2022-07-02T20:15:02.937185Z",
     "iopub.status.idle": "2022-07-02T20:15:02.942328Z",
     "shell.execute_reply": "2022-07-02T20:15:02.942627Z"
    },
    "papermill": {
     "duration": 0.048271,
     "end_time": "2022-07-02T20:15:02.942716",
     "exception": false,
     "start_time": "2022-07-02T20:15:02.894445",
     "status": "completed"
    },
    "tags": []
   },
   "outputs": [],
   "source": [
    "model_prob = Model(layers[-2:]) "
   ]
  },
  {
   "cell_type": "code",
   "execution_count": 28,
   "id": "9b96e238",
   "metadata": {
    "execution": {
     "iopub.execute_input": "2022-07-02T20:15:03.022994Z",
     "iopub.status.busy": "2022-07-02T20:15:03.020413Z",
     "iopub.status.idle": "2022-07-02T20:15:03.030193Z",
     "shell.execute_reply": "2022-07-02T20:15:03.029828Z"
    },
    "papermill": {
     "duration": 0.055815,
     "end_time": "2022-07-02T20:15:03.030268",
     "exception": false,
     "start_time": "2022-07-02T20:15:02.974453",
     "status": "completed"
    },
    "tags": []
   },
   "outputs": [],
   "source": [
    "#creating the x and y ranges according to the above generated plot.\n",
    "x_range = np.linspace(-4, 1, 100) \n",
    "y_range = np.linspace(-6, 6, 100) \n",
    "x_grid, y_grid = np.meshgrid(x_range, y_range) # x_grid and y_grig are of size 100 X 100\n",
    "\n",
    "# converting x_grid and y_grid to continuous arrays\n",
    "x_gridflat = np.ravel(x_grid)\n",
    "y_gridflat = np.ravel(y_grid)\n",
    "\n",
    "# The last layer of the current model takes two columns as input. Hence transpose of np.vstack() is required.\n",
    "X = np.vstack((x_gridflat, y_gridflat)).T\n",
    "\n",
    "prob_contour = model_prob(X).reshape(100,100) "
   ]
  },
  {
   "cell_type": "code",
   "execution_count": 29,
   "id": "da72499a",
   "metadata": {
    "execution": {
     "iopub.execute_input": "2022-07-02T20:15:03.145626Z",
     "iopub.status.busy": "2022-07-02T20:15:03.144901Z",
     "iopub.status.idle": "2022-07-02T20:15:03.350768Z",
     "shell.execute_reply": "2022-07-02T20:15:03.351098Z"
    },
    "papermill": {
     "duration": 0.267377,
     "end_time": "2022-07-02T20:15:03.351201",
     "exception": false,
     "start_time": "2022-07-02T20:15:03.083824",
     "status": "completed"
    },
    "tags": []
   },
   "outputs": [
    {
     "data": {
      "image/png": "[encoded data removed]",
      "text/plain": [
       "<Figure size 720x648 with 1 Axes>"
      ]
     },
     "metadata": {
      "needs_background": "light"
     },
     "output_type": "display_data"
    }
   ],
   "source": [
    "plt.figure(figsize=(10,9))\n",
    "plt.scatter(testing_plot[:,0], testing_plot[:,1], alpha = 0.1, c = y_test.ravel())\n",
    "contours = plt.contour(x_grid,y_grid,prob_contour)\n",
    "plt.title('Probability Contours')\n",
    "plt.clabel(contours, inline = True );"
   ]
  },
  {
   "cell_type": "code",
   "execution_count": null,
   "id": "e81b4ac7",
   "metadata": {
    "papermill": {
     "duration": 0.034106,
     "end_time": "2022-07-02T20:15:03.419217",
     "exception": false,
     "start_time": "2022-07-02T20:15:03.385111",
     "status": "completed"
    },
    "tags": []
   },
   "outputs": [],
   "source": []
  }
 ],
 "metadata": {
  "kernelspec": {
   "display_name": "Python 3",
   "language": "python",
   "name": "python3"
  },
  "language_info": {
   "codemirror_mode": {
    "name": "ipython",
    "version": 3
   },
   "file_extension": ".py",
   "mimetype": "text/x-python",
   "name": "python",
   "nbconvert_exporter": "python",
   "pygments_lexer": "ipython3",
   "version": "3.6.15"
  },
  "papermill": {
   "default_parameters": {},
   "duration": 259.624176,
   "end_time": "2022-07-02T20:15:03.770258",
   "environment_variables": {},
   "exception": null,
   "input_path": "2020-08-11-part2.ipynb",
   "output_path": "2020-08-11-part2.ipynb",
   "parameters": {},
   "start_time": "2022-07-02T20:10:44.146082",
   "version": "2.3.3"
  }
 },
 "nbformat": 4,
 "nbformat_minor": 5
}