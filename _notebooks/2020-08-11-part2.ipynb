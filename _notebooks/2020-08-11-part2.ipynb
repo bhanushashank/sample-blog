{
 "cells": [
  {
   "cell_type": "markdown",
   "id": "98380cd3",
   "metadata": {
    "papermill": {
     "duration": 0.040108,
     "end_time": "2022-06-16T10:10:23.438257",
     "exception": false,
     "start_time": "2022-06-16T10:10:23.398149",
     "status": "completed"
    },
    "tags": []
   },
   "source": [
    "# Distinguish Your Own Digits (DYOD)"
   ]
  },
  {
   "cell_type": "markdown",
   "id": "ef31240d",
   "metadata": {
    "papermill": {
     "duration": 0.032724,
     "end_time": "2022-06-16T10:10:23.503223",
     "exception": false,
     "start_time": "2022-06-16T10:10:23.470499",
     "status": "completed"
    },
    "tags": []
   },
   "source": [
    "You are going to write a classifier that distinguishes between the number 3 and number 8."
   ]
  },
  {
   "cell_type": "code",
   "execution_count": 1,
   "id": "b15c8646",
   "metadata": {
    "execution": {
     "iopub.execute_input": "2022-06-16T10:10:23.579665Z",
     "iopub.status.busy": "2022-06-16T10:10:23.578829Z",
     "iopub.status.idle": "2022-06-16T10:10:23.592375Z",
     "shell.execute_reply": "2022-06-16T10:10:23.591546Z"
    },
    "papermill": {
     "duration": 0.05798,
     "end_time": "2022-06-16T10:10:23.592555",
     "exception": false,
     "start_time": "2022-06-16T10:10:23.534575",
     "status": "completed"
    },
    "tags": []
   },
   "outputs": [],
   "source": [
    "%load_ext autoreload\n",
    "%autoreload 2"
   ]
  },
  {
   "cell_type": "code",
   "execution_count": 2,
   "id": "22ef38dc",
   "metadata": {
    "execution": {
     "iopub.execute_input": "2022-06-16T10:10:23.662702Z",
     "iopub.status.busy": "2022-06-16T10:10:23.661895Z",
     "iopub.status.idle": "2022-06-16T10:10:24.343896Z",
     "shell.execute_reply": "2022-06-16T10:10:24.343265Z"
    },
    "papermill": {
     "duration": 0.719678,
     "end_time": "2022-06-16T10:10:24.344087",
     "exception": false,
     "start_time": "2022-06-16T10:10:23.624409",
     "status": "completed"
    },
    "tags": []
   },
   "outputs": [],
   "source": [
    "%matplotlib inline\n",
    "import numpy as np\n",
    "import matplotlib.pyplot as plt\n",
    "import pandas as pd"
   ]
  },
  {
   "cell_type": "markdown",
   "id": "ba036198",
   "metadata": {
    "papermill": {
     "duration": 0.031352,
     "end_time": "2022-06-16T10:10:24.406687",
     "exception": false,
     "start_time": "2022-06-16T10:10:24.375335",
     "status": "completed"
    },
    "tags": []
   },
   "source": [
    "From the command line run `pip install mnist`. This is a library that will help you bring down the mnist dataset. If you run this from a notebook, you need to put  `!pip install mnist` in a cell by itself."
   ]
  },
  {
   "cell_type": "code",
   "execution_count": 3,
   "id": "bb6ad8a1",
   "metadata": {
    "execution": {
     "iopub.execute_input": "2022-06-16T10:10:24.474226Z",
     "iopub.status.busy": "2022-06-16T10:10:24.473311Z",
     "iopub.status.idle": "2022-06-16T10:10:27.525032Z",
     "shell.execute_reply": "2022-06-16T10:10:27.524336Z"
    },
    "papermill": {
     "duration": 3.08697,
     "end_time": "2022-06-16T10:10:27.525186",
     "exception": false,
     "start_time": "2022-06-16T10:10:24.438216",
     "status": "completed"
    },
    "tags": []
   },
   "outputs": [
    {
     "name": "stdout",
     "output_type": "stream",
     "text": [
      "Collecting mnist\r\n"
     ]
    },
    {
     "name": "stdout",
     "output_type": "stream",
     "text": [
      "  Downloading mnist-0.2.2-py2.py3-none-any.whl (3.5 kB)\r\n",
      "Requirement already satisfied: numpy in /opt/hostedtoolcache/Python/3.6.15/x64/lib/python3.6/site-packages (from mnist) (1.19.5)\r\n"
     ]
    },
    {
     "name": "stdout",
     "output_type": "stream",
     "text": [
      "Installing collected packages: mnist\r\n"
     ]
    },
    {
     "name": "stdout",
     "output_type": "stream",
     "text": [
      "Successfully installed mnist-0.2.2\r\n"
     ]
    }
   ],
   "source": [
    "!pip install mnist"
   ]
  },
  {
   "cell_type": "markdown",
   "id": "69df9c9a",
   "metadata": {
    "papermill": {
     "duration": 0.0324,
     "end_time": "2022-06-16T10:10:27.591004",
     "exception": false,
     "start_time": "2022-06-16T10:10:27.558604",
     "status": "completed"
    },
    "tags": []
   },
   "source": [
    "## Preparing the Data"
   ]
  },
  {
   "cell_type": "code",
   "execution_count": 4,
   "id": "7f69d806",
   "metadata": {
    "execution": {
     "iopub.execute_input": "2022-06-16T10:10:27.659795Z",
     "iopub.status.busy": "2022-06-16T10:10:27.657067Z",
     "iopub.status.idle": "2022-06-16T10:10:27.675145Z",
     "shell.execute_reply": "2022-06-16T10:10:27.674474Z"
    },
    "papermill": {
     "duration": 0.057353,
     "end_time": "2022-06-16T10:10:27.675294",
     "exception": false,
     "start_time": "2022-06-16T10:10:27.617941",
     "status": "completed"
    },
    "tags": []
   },
   "outputs": [],
   "source": [
    "import mnist"
   ]
  },
  {
   "cell_type": "code",
   "execution_count": 5,
   "id": "a411e44f",
   "metadata": {
    "execution": {
     "iopub.execute_input": "2022-06-16T10:10:27.750373Z",
     "iopub.status.busy": "2022-06-16T10:10:27.749500Z",
     "iopub.status.idle": "2022-06-16T10:10:28.396371Z",
     "shell.execute_reply": "2022-06-16T10:10:28.396886Z"
    },
    "papermill": {
     "duration": 0.687598,
     "end_time": "2022-06-16T10:10:28.397056",
     "exception": false,
     "start_time": "2022-06-16T10:10:27.709458",
     "status": "completed"
    },
    "tags": []
   },
   "outputs": [],
   "source": [
    "train_images = mnist.train_images()\n",
    "train_labels = mnist.train_labels()"
   ]
  },
  {
   "cell_type": "code",
   "execution_count": 6,
   "id": "dceab3a5",
   "metadata": {
    "execution": {
     "iopub.execute_input": "2022-06-16T10:10:28.468278Z",
     "iopub.status.busy": "2022-06-16T10:10:28.467257Z",
     "iopub.status.idle": "2022-06-16T10:10:28.485443Z",
     "shell.execute_reply": "2022-06-16T10:10:28.484648Z"
    },
    "papermill": {
     "duration": 0.057019,
     "end_time": "2022-06-16T10:10:28.485599",
     "exception": false,
     "start_time": "2022-06-16T10:10:28.428580",
     "status": "completed"
    },
    "tags": []
   },
   "outputs": [
    {
     "data": {
      "text/plain": [
       "((60000, 28, 28), (60000,))"
      ]
     },
     "execution_count": 6,
     "metadata": {},
     "output_type": "execute_result"
    }
   ],
   "source": [
    "train_images.shape, train_labels.shape"
   ]
  },
  {
   "cell_type": "code",
   "execution_count": 7,
   "id": "f50dc2bb",
   "metadata": {
    "execution": {
     "iopub.execute_input": "2022-06-16T10:10:28.562520Z",
     "iopub.status.busy": "2022-06-16T10:10:28.561591Z",
     "iopub.status.idle": "2022-06-16T10:10:28.749130Z",
     "shell.execute_reply": "2022-06-16T10:10:28.748461Z"
    },
    "papermill": {
     "duration": 0.230624,
     "end_time": "2022-06-16T10:10:28.749286",
     "exception": false,
     "start_time": "2022-06-16T10:10:28.518662",
     "status": "completed"
    },
    "tags": []
   },
   "outputs": [],
   "source": [
    "test_images = mnist.test_images()\n",
    "test_labels = mnist.test_labels()"
   ]
  },
  {
   "cell_type": "code",
   "execution_count": 8,
   "id": "fc38cf1b",
   "metadata": {
    "execution": {
     "iopub.execute_input": "2022-06-16T10:10:28.817082Z",
     "iopub.status.busy": "2022-06-16T10:10:28.816420Z",
     "iopub.status.idle": "2022-06-16T10:10:28.832127Z",
     "shell.execute_reply": "2022-06-16T10:10:28.832744Z"
    },
    "papermill": {
     "duration": 0.05217,
     "end_time": "2022-06-16T10:10:28.832878",
     "exception": false,
     "start_time": "2022-06-16T10:10:28.780708",
     "status": "completed"
    },
    "tags": []
   },
   "outputs": [
    {
     "data": {
      "text/plain": [
       "((10000, 28, 28), (10000,))"
      ]
     },
     "execution_count": 8,
     "metadata": {},
     "output_type": "execute_result"
    }
   ],
   "source": [
    "test_images.shape, test_labels.shape"
   ]
  },
  {
   "cell_type": "code",
   "execution_count": 9,
   "id": "f9ed8fe0",
   "metadata": {
    "execution": {
     "iopub.execute_input": "2022-06-16T10:10:28.901817Z",
     "iopub.status.busy": "2022-06-16T10:10:28.901072Z",
     "iopub.status.idle": "2022-06-16T10:10:29.121468Z",
     "shell.execute_reply": "2022-06-16T10:10:29.122198Z"
    },
    "papermill": {
     "duration": 0.2587,
     "end_time": "2022-06-16T10:10:29.122384",
     "exception": false,
     "start_time": "2022-06-16T10:10:28.863684",
     "status": "completed"
    },
    "tags": []
   },
   "outputs": [
    {
     "name": "stdout",
     "output_type": "stream",
     "text": [
      "2\n"
     ]
    },
    {
     "data": {
      "text/plain": [
       "<matplotlib.image.AxesImage at 0x7fd51305f358>"
      ]
     },
     "execution_count": 9,
     "metadata": {},
     "output_type": "execute_result"
    },
    {
     "data": {
      "image/png": "[encoded data removed]",
      "text/plain": [
       "<Figure size 432x288 with 1 Axes>"
      ]
     },
     "metadata": {
      "needs_background": "light"
     },
     "output_type": "display_data"
    }
   ],
   "source": [
    "image_index = 7776 # You may select anything up to 60,000\n",
    "print(train_labels[image_index]) \n",
    "plt.imshow(train_images[image_index], cmap='Greys')"
   ]
  },
  {
   "cell_type": "markdown",
   "id": "a8d2388d",
   "metadata": {
    "papermill": {
     "duration": 0.035472,
     "end_time": "2022-06-16T10:10:29.192912",
     "exception": false,
     "start_time": "2022-06-16T10:10:29.157440",
     "status": "completed"
    },
    "tags": []
   },
   "source": [
    "## Filter data to get 3 and 8 out"
   ]
  },
  {
   "cell_type": "code",
   "execution_count": 10,
   "id": "776f7fc7",
   "metadata": {
    "execution": {
     "iopub.execute_input": "2022-06-16T10:10:29.271869Z",
     "iopub.status.busy": "2022-06-16T10:10:29.271149Z",
     "iopub.status.idle": "2022-06-16T10:10:29.291743Z",
     "shell.execute_reply": "2022-06-16T10:10:29.292297Z"
    },
    "papermill": {
     "duration": 0.064698,
     "end_time": "2022-06-16T10:10:29.292482",
     "exception": false,
     "start_time": "2022-06-16T10:10:29.227784",
     "status": "completed"
    },
    "tags": []
   },
   "outputs": [],
   "source": [
    "train_filter = np.where((train_labels == 3 ) | (train_labels == 8))\n",
    "test_filter = np.where((test_labels == 3) | (test_labels == 8))\n",
    "X_train, y_train = train_images[train_filter], train_labels[train_filter]\n",
    "X_test, y_test = test_images[test_filter], test_labels[test_filter]"
   ]
  },
  {
   "cell_type": "markdown",
   "id": "948f0b7e",
   "metadata": {
    "papermill": {
     "duration": 0.033686,
     "end_time": "2022-06-16T10:10:29.361315",
     "exception": false,
     "start_time": "2022-06-16T10:10:29.327629",
     "status": "completed"
    },
    "tags": []
   },
   "source": [
    "We normalize the pizel values in the 0 to 1 range"
   ]
  },
  {
   "cell_type": "code",
   "execution_count": 11,
   "id": "ee4c2166",
   "metadata": {
    "execution": {
     "iopub.execute_input": "2022-06-16T10:10:29.436550Z",
     "iopub.status.busy": "2022-06-16T10:10:29.435742Z",
     "iopub.status.idle": "2022-06-16T10:10:29.503691Z",
     "shell.execute_reply": "2022-06-16T10:10:29.502980Z"
    },
    "papermill": {
     "duration": 0.10667,
     "end_time": "2022-06-16T10:10:29.503854",
     "exception": false,
     "start_time": "2022-06-16T10:10:29.397184",
     "status": "completed"
    },
    "tags": []
   },
   "outputs": [],
   "source": [
    "X_train = X_train/255.\n",
    "X_test = X_test/255."
   ]
  },
  {
   "cell_type": "markdown",
   "id": "ddcf4fab",
   "metadata": {
    "papermill": {
     "duration": 0.035407,
     "end_time": "2022-06-16T10:10:29.574272",
     "exception": false,
     "start_time": "2022-06-16T10:10:29.538865",
     "status": "completed"
    },
    "tags": []
   },
   "source": [
    "And setup the labels as 1 (when the digit is 3) and 0 (when the digit is 8)"
   ]
  },
  {
   "cell_type": "code",
   "execution_count": 12,
   "id": "7dc908f2",
   "metadata": {
    "execution": {
     "iopub.execute_input": "2022-06-16T10:10:29.651352Z",
     "iopub.status.busy": "2022-06-16T10:10:29.650567Z",
     "iopub.status.idle": "2022-06-16T10:10:29.666468Z",
     "shell.execute_reply": "2022-06-16T10:10:29.666989Z"
    },
    "papermill": {
     "duration": 0.057822,
     "end_time": "2022-06-16T10:10:29.667158",
     "exception": false,
     "start_time": "2022-06-16T10:10:29.609336",
     "status": "completed"
    },
    "tags": []
   },
   "outputs": [],
   "source": [
    "y_train = 1*(y_train==3)\n",
    "y_test = 1*(y_test==3)"
   ]
  },
  {
   "cell_type": "code",
   "execution_count": 13,
   "id": "01e4e969",
   "metadata": {
    "execution": {
     "iopub.execute_input": "2022-06-16T10:10:29.744072Z",
     "iopub.status.busy": "2022-06-16T10:10:29.743207Z",
     "iopub.status.idle": "2022-06-16T10:10:29.760033Z",
     "shell.execute_reply": "2022-06-16T10:10:29.759333Z"
    },
    "papermill": {
     "duration": 0.057232,
     "end_time": "2022-06-16T10:10:29.760184",
     "exception": false,
     "start_time": "2022-06-16T10:10:29.702952",
     "status": "completed"
    },
    "tags": []
   },
   "outputs": [
    {
     "data": {
      "text/plain": [
       "((11982, 28, 28), (1984, 28, 28))"
      ]
     },
     "execution_count": 13,
     "metadata": {},
     "output_type": "execute_result"
    }
   ],
   "source": [
    "X_train.shape, X_test.shape"
   ]
  },
  {
   "cell_type": "markdown",
   "id": "5ccf3f85",
   "metadata": {
    "papermill": {
     "duration": 0.037894,
     "end_time": "2022-06-16T10:10:29.833819",
     "exception": false,
     "start_time": "2022-06-16T10:10:29.795925",
     "status": "completed"
    },
    "tags": []
   },
   "source": [
    "We reshape the data to flatten the image pixels into a set of features or co-variates:"
   ]
  },
  {
   "cell_type": "code",
   "execution_count": 14,
   "id": "5286a4a3",
   "metadata": {
    "execution": {
     "iopub.execute_input": "2022-06-16T10:10:29.911227Z",
     "iopub.status.busy": "2022-06-16T10:10:29.910393Z",
     "iopub.status.idle": "2022-06-16T10:10:29.928089Z",
     "shell.execute_reply": "2022-06-16T10:10:29.927259Z"
    },
    "papermill": {
     "duration": 0.059145,
     "end_time": "2022-06-16T10:10:29.928237",
     "exception": false,
     "start_time": "2022-06-16T10:10:29.869092",
     "status": "completed"
    },
    "tags": []
   },
   "outputs": [
    {
     "data": {
      "text/plain": [
       "((11982, 784), (1984, 784))"
      ]
     },
     "execution_count": 14,
     "metadata": {},
     "output_type": "execute_result"
    }
   ],
   "source": [
    "X_train = X_train.reshape(X_train.shape[0], -1)\n",
    "X_test = X_test.reshape(X_test.shape[0], -1)\n",
    "X_train.shape, X_test.shape"
   ]
  },
  {
   "cell_type": "code",
   "execution_count": 15,
   "id": "73c5f88a",
   "metadata": {
    "execution": {
     "iopub.execute_input": "2022-06-16T10:10:30.005235Z",
     "iopub.status.busy": "2022-06-16T10:10:30.004303Z",
     "iopub.status.idle": "2022-06-16T10:10:30.028914Z",
     "shell.execute_reply": "2022-06-16T10:10:30.028222Z"
    },
    "papermill": {
     "duration": 0.065185,
     "end_time": "2022-06-16T10:10:30.029069",
     "exception": false,
     "start_time": "2022-06-16T10:10:29.963884",
     "status": "completed"
    },
    "tags": []
   },
   "outputs": [],
   "source": [
    "#Impoting functions from 'Kudzu'\n",
    "from kudzu.model import Model\n",
    "from kudzu.train import Learner\n",
    "from kudzu.optim import GD\n",
    "from kudzu.data import Data, Sampler,Dataloader\n",
    "\n",
    "from kudzu.callbacks import AccCallback\n",
    "from kudzu.callbacks import ClfCallback\n",
    "\n",
    "from kudzu.loss import MSE\n",
    "\n",
    "from kudzu.layer import Sigmoid,Relu\n",
    "from kudzu.layer import Affine"
   ]
  },
  {
   "cell_type": "markdown",
   "id": "bc01172a",
   "metadata": {
    "papermill": {
     "duration": 0.03557,
     "end_time": "2022-06-16T10:10:30.103128",
     "exception": false,
     "start_time": "2022-06-16T10:10:30.067558",
     "status": "completed"
    },
    "tags": []
   },
   "source": [
    "### Let us create a `Config` class, to store important parameters. \n",
    "This class essentially plays the role of a dictionary."
   ]
  },
  {
   "cell_type": "code",
   "execution_count": 16,
   "id": "978281aa",
   "metadata": {
    "execution": {
     "iopub.execute_input": "2022-06-16T10:10:30.202653Z",
     "iopub.status.busy": "2022-06-16T10:10:30.200810Z",
     "iopub.status.idle": "2022-06-16T10:10:30.203565Z",
     "shell.execute_reply": "2022-06-16T10:10:30.204186Z"
    },
    "papermill": {
     "duration": 0.065199,
     "end_time": "2022-06-16T10:10:30.204363",
     "exception": false,
     "start_time": "2022-06-16T10:10:30.139164",
     "status": "completed"
    },
    "tags": []
   },
   "outputs": [],
   "source": [
    "class Config:\n",
    "    pass\n",
    "config = Config()\n",
    "config.lr = 0.001\n",
    "config.num_epochs = 250\n",
    "config.bs = 50"
   ]
  },
  {
   "cell_type": "markdown",
   "id": "1385fa59",
   "metadata": {
    "papermill": {
     "duration": 0.037847,
     "end_time": "2022-06-16T10:10:30.279698",
     "exception": false,
     "start_time": "2022-06-16T10:10:30.241851",
     "status": "completed"
    },
    "tags": []
   },
   "source": [
    "### Running Models with the Training data\n",
    "Details about the network layers:\n",
    "- A first affine layer has 784 inputs and does 100 affine transforms. These are followed by a Relu\n",
    "- A second affine layer has 100 inputs from the 100 activations of the past layer, and does 100 affine transforms. These are followed by a Relu\n",
    "- A third affine layer has 100 activations and does 2 affine transformations to create an embedding for visualization. There is no non-linearity here.\n",
    "- A final \"logistic regression\" which has an affine transform from 2 inputs to 1 output, which is squeezed through a sigmoid.\n"
   ]
  },
  {
   "cell_type": "code",
   "execution_count": 17,
   "id": "2b9c66db",
   "metadata": {
    "execution": {
     "iopub.execute_input": "2022-06-16T10:10:30.356690Z",
     "iopub.status.busy": "2022-06-16T10:10:30.355839Z",
     "iopub.status.idle": "2022-06-16T10:10:30.371270Z",
     "shell.execute_reply": "2022-06-16T10:10:30.371953Z"
    },
    "papermill": {
     "duration": 0.056733,
     "end_time": "2022-06-16T10:10:30.372153",
     "exception": false,
     "start_time": "2022-06-16T10:10:30.315420",
     "status": "completed"
    },
    "tags": []
   },
   "outputs": [],
   "source": [
    "data = Data(X_train, y_train.reshape(-1,1))\n",
    "sampler = Sampler(data, config.bs, shuffle=True)\n",
    "\n",
    "dl = Dataloader(data, sampler)\n",
    "\n",
    "opt = GD(config.lr)\n",
    "loss = MSE()"
   ]
  },
  {
   "cell_type": "code",
   "execution_count": 18,
   "id": "b275e4c2",
   "metadata": {
    "execution": {
     "iopub.execute_input": "2022-06-16T10:10:30.455387Z",
     "iopub.status.busy": "2022-06-16T10:10:30.450955Z",
     "iopub.status.idle": "2022-06-16T10:10:30.465283Z",
     "shell.execute_reply": "2022-06-16T10:10:30.466145Z"
    },
    "papermill": {
     "duration": 0.056387,
     "end_time": "2022-06-16T10:10:30.466335",
     "exception": false,
     "start_time": "2022-06-16T10:10:30.409948",
     "status": "completed"
    },
    "tags": []
   },
   "outputs": [],
   "source": [
    "training_data_x = X_train\n",
    "testing_data_x = X_test\n",
    "training_data_y = y_train.reshape(-1,1)\n",
    "testing_data_y = y_test.reshape(-1,1)"
   ]
  },
  {
   "cell_type": "code",
   "execution_count": 19,
   "id": "76951160",
   "metadata": {
    "execution": {
     "iopub.execute_input": "2022-06-16T10:10:30.550710Z",
     "iopub.status.busy": "2022-06-16T10:10:30.542031Z",
     "iopub.status.idle": "2022-06-16T10:10:30.561499Z",
     "shell.execute_reply": "2022-06-16T10:10:30.560348Z"
    },
    "papermill": {
     "duration": 0.060314,
     "end_time": "2022-06-16T10:10:30.561674",
     "exception": false,
     "start_time": "2022-06-16T10:10:30.501360",
     "status": "completed"
    },
    "tags": []
   },
   "outputs": [
    {
     "name": "stdout",
     "output_type": "stream",
     "text": [
      "xavier\n",
      "xavier\n",
      "xavier\n",
      "xavier\n",
      "xavier\n"
     ]
    }
   ],
   "source": [
    "layers = [Affine(\"first\", 784, 100), Relu(\"first\"), Affine(\"second\", 100, 100), Relu(\"second\"), Affine(\"third\", 100, 2), Affine(\"last\", 2, 1), Sigmoid(\"last\")]\n",
    "model_nn = Model(layers)\n",
    "model_lr = Model([Affine(\"logits\", 784, 1), Sigmoid(\"sigmoid\")])"
   ]
  },
  {
   "cell_type": "code",
   "execution_count": 20,
   "id": "6eede77a",
   "metadata": {
    "execution": {
     "iopub.execute_input": "2022-06-16T10:10:30.642438Z",
     "iopub.status.busy": "2022-06-16T10:10:30.641629Z",
     "iopub.status.idle": "2022-06-16T10:10:30.654479Z",
     "shell.execute_reply": "2022-06-16T10:10:30.655184Z"
    },
    "papermill": {
     "duration": 0.057971,
     "end_time": "2022-06-16T10:10:30.655375",
     "exception": false,
     "start_time": "2022-06-16T10:10:30.597404",
     "status": "completed"
    },
    "tags": []
   },
   "outputs": [],
   "source": [
    "nn_learner = Learner(loss, model_nn, opt, config.num_epochs)\n",
    "acc_nn = ClfCallback(nn_learner, config.bs, training_data_x , testing_data_x, training_data_y, testing_data_y)\n",
    "nn_learner.set_callbacks([acc_nn])"
   ]
  },
  {
   "cell_type": "code",
   "execution_count": 21,
   "id": "877b6cc7",
   "metadata": {
    "execution": {
     "iopub.execute_input": "2022-06-16T10:10:30.735076Z",
     "iopub.status.busy": "2022-06-16T10:10:30.734263Z",
     "iopub.status.idle": "2022-06-16T10:10:30.747785Z",
     "shell.execute_reply": "2022-06-16T10:10:30.747189Z"
    },
    "papermill": {
     "duration": 0.057408,
     "end_time": "2022-06-16T10:10:30.747922",
     "exception": false,
     "start_time": "2022-06-16T10:10:30.690514",
     "status": "completed"
    },
    "tags": []
   },
   "outputs": [],
   "source": [
    "lr_learner = Learner(loss, model_lr, opt, config.num_epochs)\n",
    "acc_lr = ClfCallback(lr_learner, config.bs, training_data_x , testing_data_x, training_data_y, testing_data_y)\n",
    "lr_learner.set_callbacks([acc_lr])"
   ]
  },
  {
   "cell_type": "code",
   "execution_count": 22,
   "id": "d9b133c3",
   "metadata": {
    "execution": {
     "iopub.execute_input": "2022-06-16T10:10:30.828834Z",
     "iopub.status.busy": "2022-06-16T10:10:30.828166Z",
     "iopub.status.idle": "2022-06-16T10:12:51.743424Z",
     "shell.execute_reply": "2022-06-16T10:12:51.744211Z"
    },
    "papermill": {
     "duration": 140.960801,
     "end_time": "2022-06-16T10:12:51.744436",
     "exception": false,
     "start_time": "2022-06-16T10:10:30.783635",
     "status": "completed"
    },
    "tags": []
   },
   "outputs": [
    {
     "name": "stdout",
     "output_type": "stream",
     "text": [
      "Epoch 0, Loss 0.2526\n",
      "Training Accuracy: 0.5101, Testing Accuracy: 0.5338\n",
      "\n"
     ]
    },
    {
     "name": "stdout",
     "output_type": "stream",
     "text": [
      "Epoch 10, Loss 0.1591\n",
      "Training Accuracy: 0.8881, Testing Accuracy: 0.8942\n",
      "\n"
     ]
    },
    {
     "name": "stdout",
     "output_type": "stream",
     "text": [
      "Epoch 20, Loss 0.0795\n",
      "Training Accuracy: 0.9219, Testing Accuracy: 0.9345\n",
      "\n"
     ]
    },
    {
     "name": "stdout",
     "output_type": "stream",
     "text": [
      "Epoch 30, Loss 0.0547\n",
      "Training Accuracy: 0.9416, Testing Accuracy: 0.9506\n",
      "\n"
     ]
    },
    {
     "name": "stdout",
     "output_type": "stream",
     "text": [
      "Epoch 40, Loss 0.0444\n",
      "Training Accuracy: 0.9508, Testing Accuracy: 0.9582\n",
      "\n"
     ]
    },
    {
     "name": "stdout",
     "output_type": "stream",
     "text": [
      "Epoch 50, Loss 0.0391\n",
      "Training Accuracy: 0.9562, Testing Accuracy: 0.9607\n",
      "\n"
     ]
    },
    {
     "name": "stdout",
     "output_type": "stream",
     "text": [
      "Epoch 60, Loss 0.0357\n",
      "Training Accuracy: 0.9589, Testing Accuracy: 0.9647\n",
      "\n"
     ]
    },
    {
     "name": "stdout",
     "output_type": "stream",
     "text": [
      "Epoch 70, Loss 0.0334\n",
      "Training Accuracy: 0.9616, Testing Accuracy: 0.9677\n",
      "\n"
     ]
    },
    {
     "name": "stdout",
     "output_type": "stream",
     "text": [
      "Epoch 80, Loss 0.0316\n",
      "Training Accuracy: 0.9629, Testing Accuracy: 0.9688\n",
      "\n"
     ]
    },
    {
     "name": "stdout",
     "output_type": "stream",
     "text": [
      "Epoch 90, Loss 0.0302\n",
      "Training Accuracy: 0.9645, Testing Accuracy: 0.9703\n",
      "\n"
     ]
    },
    {
     "name": "stdout",
     "output_type": "stream",
     "text": [
      "Epoch 100, Loss 0.029\n",
      "Training Accuracy: 0.9664, Testing Accuracy: 0.9698\n",
      "\n"
     ]
    },
    {
     "name": "stdout",
     "output_type": "stream",
     "text": [
      "Epoch 110, Loss 0.028\n",
      "Training Accuracy: 0.9675, Testing Accuracy: 0.9698\n",
      "\n"
     ]
    },
    {
     "name": "stdout",
     "output_type": "stream",
     "text": [
      "Epoch 120, Loss 0.0271\n",
      "Training Accuracy: 0.9684, Testing Accuracy: 0.9698\n",
      "\n"
     ]
    },
    {
     "name": "stdout",
     "output_type": "stream",
     "text": [
      "Epoch 130, Loss 0.0263\n",
      "Training Accuracy: 0.9691, Testing Accuracy: 0.9688\n",
      "\n"
     ]
    },
    {
     "name": "stdout",
     "output_type": "stream",
     "text": [
      "Epoch 140, Loss 0.0256\n",
      "Training Accuracy: 0.9702, Testing Accuracy: 0.9698\n",
      "\n"
     ]
    },
    {
     "name": "stdout",
     "output_type": "stream",
     "text": [
      "Epoch 150, Loss 0.0249\n",
      "Training Accuracy: 0.9712, Testing Accuracy: 0.9698\n",
      "\n"
     ]
    },
    {
     "name": "stdout",
     "output_type": "stream",
     "text": [
      "Epoch 160, Loss 0.0244\n",
      "Training Accuracy: 0.9719, Testing Accuracy: 0.9708\n",
      "\n"
     ]
    },
    {
     "name": "stdout",
     "output_type": "stream",
     "text": [
      "Epoch 170, Loss 0.0238\n",
      "Training Accuracy: 0.9730, Testing Accuracy: 0.9708\n",
      "\n"
     ]
    },
    {
     "name": "stdout",
     "output_type": "stream",
     "text": [
      "Epoch 180, Loss 0.0233\n",
      "Training Accuracy: 0.9735, Testing Accuracy: 0.9708\n",
      "\n"
     ]
    },
    {
     "name": "stdout",
     "output_type": "stream",
     "text": [
      "Epoch 190, Loss 0.0228\n",
      "Training Accuracy: 0.9738, Testing Accuracy: 0.9693\n",
      "\n"
     ]
    },
    {
     "name": "stdout",
     "output_type": "stream",
     "text": [
      "Epoch 200, Loss 0.0223\n",
      "Training Accuracy: 0.9737, Testing Accuracy: 0.9693\n",
      "\n"
     ]
    },
    {
     "name": "stdout",
     "output_type": "stream",
     "text": [
      "Epoch 210, Loss 0.0219\n",
      "Training Accuracy: 0.9746, Testing Accuracy: 0.9693\n",
      "\n"
     ]
    },
    {
     "name": "stdout",
     "output_type": "stream",
     "text": [
      "Epoch 220, Loss 0.0214\n",
      "Training Accuracy: 0.9753, Testing Accuracy: 0.9693\n",
      "\n"
     ]
    },
    {
     "name": "stdout",
     "output_type": "stream",
     "text": [
      "Epoch 230, Loss 0.021\n",
      "Training Accuracy: 0.9760, Testing Accuracy: 0.9703\n",
      "\n"
     ]
    },
    {
     "name": "stdout",
     "output_type": "stream",
     "text": [
      "Epoch 240, Loss 0.0207\n",
      "Training Accuracy: 0.9764, Testing Accuracy: 0.9708\n",
      "\n"
     ]
    },
    {
     "data": {
      "text/plain": [
       "0.00579635007141784"
      ]
     },
     "execution_count": 22,
     "metadata": {},
     "output_type": "execute_result"
    }
   ],
   "source": [
    "nn_learner.train_loop(dl)"
   ]
  },
  {
   "cell_type": "code",
   "execution_count": 23,
   "id": "e0163366",
   "metadata": {
    "execution": {
     "iopub.execute_input": "2022-06-16T10:12:51.844145Z",
     "iopub.status.busy": "2022-06-16T10:12:51.843361Z",
     "iopub.status.idle": "2022-06-16T10:13:12.865209Z",
     "shell.execute_reply": "2022-06-16T10:13:12.866281Z"
    },
    "papermill": {
     "duration": 21.07601,
     "end_time": "2022-06-16T10:13:12.866469",
     "exception": false,
     "start_time": "2022-06-16T10:12:51.790459",
     "status": "completed"
    },
    "tags": []
   },
   "outputs": [
    {
     "name": "stdout",
     "output_type": "stream",
     "text": [
      "Epoch 0, Loss 0.2325\n",
      "Training Accuracy: 0.7176, Testing Accuracy: 0.7283\n",
      "\n"
     ]
    },
    {
     "name": "stdout",
     "output_type": "stream",
     "text": [
      "Epoch 10, Loss 0.1027\n",
      "Training Accuracy: 0.9126, Testing Accuracy: 0.9178\n",
      "\n"
     ]
    },
    {
     "name": "stdout",
     "output_type": "stream",
     "text": [
      "Epoch 20, Loss 0.0786\n",
      "Training Accuracy: 0.9292, Testing Accuracy: 0.9365\n",
      "\n"
     ]
    },
    {
     "name": "stdout",
     "output_type": "stream",
     "text": [
      "Epoch 30, Loss 0.0675\n",
      "Training Accuracy: 0.9383, Testing Accuracy: 0.9456\n",
      "\n"
     ]
    },
    {
     "name": "stdout",
     "output_type": "stream",
     "text": [
      "Epoch 40, Loss 0.0609\n",
      "Training Accuracy: 0.9432, Testing Accuracy: 0.9511\n",
      "\n"
     ]
    },
    {
     "name": "stdout",
     "output_type": "stream",
     "text": [
      "Epoch 50, Loss 0.0564\n",
      "Training Accuracy: 0.9476, Testing Accuracy: 0.9561\n",
      "\n"
     ]
    },
    {
     "name": "stdout",
     "output_type": "stream",
     "text": [
      "Epoch 60, Loss 0.0531\n",
      "Training Accuracy: 0.9500, Testing Accuracy: 0.9587\n",
      "\n"
     ]
    },
    {
     "name": "stdout",
     "output_type": "stream",
     "text": [
      "Epoch 70, Loss 0.0506\n",
      "Training Accuracy: 0.9522, Testing Accuracy: 0.9612\n",
      "\n"
     ]
    },
    {
     "name": "stdout",
     "output_type": "stream",
     "text": [
      "Epoch 80, Loss 0.0486\n",
      "Training Accuracy: 0.9533, Testing Accuracy: 0.9627\n",
      "\n"
     ]
    },
    {
     "name": "stdout",
     "output_type": "stream",
     "text": [
      "Epoch 90, Loss 0.0469\n",
      "Training Accuracy: 0.9541, Testing Accuracy: 0.9632\n",
      "\n"
     ]
    },
    {
     "name": "stdout",
     "output_type": "stream",
     "text": [
      "Epoch 100, Loss 0.0456\n",
      "Training Accuracy: 0.9545, Testing Accuracy: 0.9627\n",
      "\n"
     ]
    },
    {
     "name": "stdout",
     "output_type": "stream",
     "text": [
      "Epoch 110, Loss 0.0444\n",
      "Training Accuracy: 0.9556, Testing Accuracy: 0.9637\n",
      "\n"
     ]
    },
    {
     "name": "stdout",
     "output_type": "stream",
     "text": [
      "Epoch 120, Loss 0.0433\n",
      "Training Accuracy: 0.9564, Testing Accuracy: 0.9642\n",
      "\n"
     ]
    },
    {
     "name": "stdout",
     "output_type": "stream",
     "text": [
      "Epoch 130, Loss 0.0424\n",
      "Training Accuracy: 0.9568, Testing Accuracy: 0.9647\n",
      "\n"
     ]
    },
    {
     "name": "stdout",
     "output_type": "stream",
     "text": [
      "Epoch 140, Loss 0.0416\n",
      "Training Accuracy: 0.9575, Testing Accuracy: 0.9662\n",
      "\n"
     ]
    },
    {
     "name": "stdout",
     "output_type": "stream",
     "text": [
      "Epoch 150, Loss 0.0409\n",
      "Training Accuracy: 0.9579, Testing Accuracy: 0.9667\n",
      "\n"
     ]
    },
    {
     "name": "stdout",
     "output_type": "stream",
     "text": [
      "Epoch 160, Loss 0.0402\n",
      "Training Accuracy: 0.9584, Testing Accuracy: 0.9672\n",
      "\n"
     ]
    },
    {
     "name": "stdout",
     "output_type": "stream",
     "text": [
      "Epoch 170, Loss 0.0396\n",
      "Training Accuracy: 0.9585, Testing Accuracy: 0.9672\n",
      "\n"
     ]
    },
    {
     "name": "stdout",
     "output_type": "stream",
     "text": [
      "Epoch 180, Loss 0.0391\n",
      "Training Accuracy: 0.9589, Testing Accuracy: 0.9672\n",
      "\n"
     ]
    },
    {
     "name": "stdout",
     "output_type": "stream",
     "text": [
      "Epoch 190, Loss 0.0386\n",
      "Training Accuracy: 0.9589, Testing Accuracy: 0.9667\n",
      "\n"
     ]
    },
    {
     "name": "stdout",
     "output_type": "stream",
     "text": [
      "Epoch 200, Loss 0.0381\n",
      "Training Accuracy: 0.9595, Testing Accuracy: 0.9672\n",
      "\n"
     ]
    },
    {
     "name": "stdout",
     "output_type": "stream",
     "text": [
      "Epoch 210, Loss 0.0377\n",
      "Training Accuracy: 0.9601, Testing Accuracy: 0.9667\n",
      "\n"
     ]
    },
    {
     "name": "stdout",
     "output_type": "stream",
     "text": [
      "Epoch 220, Loss 0.0373\n",
      "Training Accuracy: 0.9603, Testing Accuracy: 0.9667\n",
      "\n"
     ]
    },
    {
     "name": "stdout",
     "output_type": "stream",
     "text": [
      "Epoch 230, Loss 0.0369\n",
      "Training Accuracy: 0.9609, Testing Accuracy: 0.9672\n",
      "\n"
     ]
    },
    {
     "name": "stdout",
     "output_type": "stream",
     "text": [
      "Epoch 240, Loss 0.0366\n",
      "Training Accuracy: 0.9613, Testing Accuracy: 0.9672\n",
      "\n"
     ]
    },
    {
     "data": {
      "text/plain": [
       "0.01850631684882485"
      ]
     },
     "execution_count": 23,
     "metadata": {},
     "output_type": "execute_result"
    }
   ],
   "source": [
    "lr_learner.train_loop(dl)"
   ]
  },
  {
   "cell_type": "code",
   "execution_count": 24,
   "id": "ca410940",
   "metadata": {
    "execution": {
     "iopub.execute_input": "2022-06-16T10:13:12.984436Z",
     "iopub.status.busy": "2022-06-16T10:13:12.983540Z",
     "iopub.status.idle": "2022-06-16T10:13:13.297146Z",
     "shell.execute_reply": "2022-06-16T10:13:13.297720Z"
    },
    "papermill": {
     "duration": 0.377197,
     "end_time": "2022-06-16T10:13:13.298030",
     "exception": false,
     "start_time": "2022-06-16T10:13:12.920833",
     "status": "completed"
    },
    "tags": []
   },
   "outputs": [
    {
     "data": {
      "text/plain": [
       "<matplotlib.legend.Legend at 0x7fd512bbdb38>"
      ]
     },
     "execution_count": 24,
     "metadata": {},
     "output_type": "execute_result"
    },
    {
     "data": {
      "image/png": "[encoded data removed]",
      "text/plain": [
       "<Figure size 1080x720 with 1 Axes>"
      ]
     },
     "metadata": {
      "needs_background": "light"
     },
     "output_type": "display_data"
    }
   ],
   "source": [
    "#comparing the results of NN and LR\n",
    "plt.figure(figsize=(15,10))\n",
    "\n",
    "# Neural Network plots\n",
    "plt.plot(acc_nn.accuracies, 'r-', label = \"Training Accuracies - NN\")\n",
    "plt.plot(acc_nn.test_accuracies, 'g-', label = \"Testing Accuracies - NN\")\n",
    "\n",
    "# Logistic Regression plots\n",
    "plt.plot(acc_lr.accuracies, 'k-', label = \"Training Accuracies - LR\")\n",
    "plt.plot(acc_lr.test_accuracies, 'b-', label = \"Testing Accuracies - LR\")\n",
    "plt.legend()"
   ]
  },
  {
   "cell_type": "markdown",
   "id": "80dfb35c",
   "metadata": {
    "papermill": {
     "duration": 0.0545,
     "end_time": "2022-06-16T10:13:13.406705",
     "exception": false,
     "start_time": "2022-06-16T10:13:13.352205",
     "status": "completed"
    },
    "tags": []
   },
   "source": [
    "#### Plotting the outputs of this layer of the NN.\n"
   ]
  },
  {
   "cell_type": "code",
   "execution_count": 25,
   "id": "45eb2ff5",
   "metadata": {
    "execution": {
     "iopub.execute_input": "2022-06-16T10:13:13.530930Z",
     "iopub.status.busy": "2022-06-16T10:13:13.527763Z",
     "iopub.status.idle": "2022-06-16T10:13:13.552940Z",
     "shell.execute_reply": "2022-06-16T10:13:13.553661Z"
    },
    "papermill": {
     "duration": 0.092249,
     "end_time": "2022-06-16T10:13:13.553880",
     "exception": false,
     "start_time": "2022-06-16T10:13:13.461631",
     "status": "completed"
    },
    "tags": []
   },
   "outputs": [],
   "source": [
    "new_model = Model(layers[:-2])\n",
    "testing_plot = new_model(testing_data_x)"
   ]
  },
  {
   "cell_type": "code",
   "execution_count": 26,
   "id": "4c0a5485",
   "metadata": {
    "execution": {
     "iopub.execute_input": "2022-06-16T10:13:13.679850Z",
     "iopub.status.busy": "2022-06-16T10:13:13.679033Z",
     "iopub.status.idle": "2022-06-16T10:13:13.952467Z",
     "shell.execute_reply": "2022-06-16T10:13:13.953684Z"
    },
    "papermill": {
     "duration": 0.343365,
     "end_time": "2022-06-16T10:13:13.953880",
     "exception": false,
     "start_time": "2022-06-16T10:13:13.610515",
     "status": "completed"
    },
    "tags": []
   },
   "outputs": [
    {
     "data": {
      "text/plain": [
       "Text(0.5, 1.0, 'Outputs')"
      ]
     },
     "execution_count": 26,
     "metadata": {},
     "output_type": "execute_result"
    },
    {
     "data": {
      "image/png": "[encoded data removed]",
      "text/plain": [
       "<Figure size 576x504 with 1 Axes>"
      ]
     },
     "metadata": {
      "needs_background": "light"
     },
     "output_type": "display_data"
    }
   ],
   "source": [
    "# Plotting the scatter plot of points and color coding by class\n",
    "plt.figure(figsize=(8,7))\n",
    "plt.scatter(testing_plot[:,0], testing_plot[:,1], alpha = 0.1, c = y_test.ravel());\n",
    "plt.title('Outputs')"
   ]
  },
  {
   "cell_type": "markdown",
   "id": "a74fcf8f",
   "metadata": {
    "papermill": {
     "duration": 0.085142,
     "end_time": "2022-06-16T10:13:14.096378",
     "exception": false,
     "start_time": "2022-06-16T10:13:14.011236",
     "status": "completed"
    },
    "tags": []
   },
   "source": [
    "Probability contours"
   ]
  },
  {
   "cell_type": "code",
   "execution_count": 27,
   "id": "d0afc8e3",
   "metadata": {
    "execution": {
     "iopub.execute_input": "2022-06-16T10:13:14.215447Z",
     "iopub.status.busy": "2022-06-16T10:13:14.213720Z",
     "iopub.status.idle": "2022-06-16T10:13:14.230078Z",
     "shell.execute_reply": "2022-06-16T10:13:14.230630Z"
    },
    "papermill": {
     "duration": 0.074675,
     "end_time": "2022-06-16T10:13:14.230783",
     "exception": false,
     "start_time": "2022-06-16T10:13:14.156108",
     "status": "completed"
    },
    "tags": []
   },
   "outputs": [],
   "source": [
    "model_prob = Model(layers[-2:]) "
   ]
  },
  {
   "cell_type": "code",
   "execution_count": 28,
   "id": "9b96e238",
   "metadata": {
    "execution": {
     "iopub.execute_input": "2022-06-16T10:13:14.368273Z",
     "iopub.status.busy": "2022-06-16T10:13:14.354621Z",
     "iopub.status.idle": "2022-06-16T10:13:14.374374Z",
     "shell.execute_reply": "2022-06-16T10:13:14.374912Z"
    },
    "papermill": {
     "duration": 0.084369,
     "end_time": "2022-06-16T10:13:14.375081",
     "exception": false,
     "start_time": "2022-06-16T10:13:14.290712",
     "status": "completed"
    },
    "tags": []
   },
   "outputs": [],
   "source": [
    "#creating the x and y ranges according to the above generated plot.\n",
    "x_range = np.linspace(-4, 1, 100) \n",
    "y_range = np.linspace(-6, 6, 100) \n",
    "x_grid, y_grid = np.meshgrid(x_range, y_range) # x_grid and y_grig are of size 100 X 100\n",
    "\n",
    "# converting x_grid and y_grid to continuous arrays\n",
    "x_gridflat = np.ravel(x_grid)\n",
    "y_gridflat = np.ravel(y_grid)\n",
    "\n",
    "# The last layer of the current model takes two columns as input. Hence transpose of np.vstack() is required.\n",
    "X = np.vstack((x_gridflat, y_gridflat)).T\n",
    "\n",
    "prob_contour = model_prob(X).reshape(100,100) "
   ]
  },
  {
   "cell_type": "code",
   "execution_count": 29,
   "id": "da72499a",
   "metadata": {
    "execution": {
     "iopub.execute_input": "2022-06-16T10:13:14.493994Z",
     "iopub.status.busy": "2022-06-16T10:13:14.493214Z",
     "iopub.status.idle": "2022-06-16T10:13:14.838151Z",
     "shell.execute_reply": "2022-06-16T10:13:14.837554Z"
    },
    "papermill": {
     "duration": 0.404724,
     "end_time": "2022-06-16T10:13:14.838287",
     "exception": false,
     "start_time": "2022-06-16T10:13:14.433563",
     "status": "completed"
    },
    "tags": []
   },
   "outputs": [
    {
     "data": {
      "image/png": "[encoded data removed]",
      "text/plain": [
       "<Figure size 720x648 with 1 Axes>"
      ]
     },
     "metadata": {
      "needs_background": "light"
     },
     "output_type": "display_data"
    }
   ],
   "source": [
    "plt.figure(figsize=(10,9))\n",
    "plt.scatter(testing_plot[:,0], testing_plot[:,1], alpha = 0.1, c = y_test.ravel())\n",
    "contours = plt.contour(x_grid,y_grid,prob_contour)\n",
    "plt.title('Probability Contours')\n",
    "plt.clabel(contours, inline = True );"
   ]
  },
  {
   "cell_type": "code",
   "execution_count": null,
   "id": "e81b4ac7",
   "metadata": {
    "papermill": {
     "duration": 0.055279,
     "end_time": "2022-06-16T10:13:14.954260",
     "exception": false,
     "start_time": "2022-06-16T10:13:14.898981",
     "status": "completed"
    },
    "tags": []
   },
   "outputs": [],
   "source": []
  }
 ],
 "metadata": {
  "kernelspec": {
   "display_name": "Python 3",
   "language": "python",
   "name": "python3"
  },
  "language_info": {
   "codemirror_mode": {
    "name": "ipython",
    "version": 3
   },
   "file_extension": ".py",
   "mimetype": "text/x-python",
   "name": "python",
   "nbconvert_exporter": "python",
   "pygments_lexer": "ipython3",
   "version": "3.6.15"
  },
  "papermill": {
   "default_parameters": {},
   "duration": 173.404903,
   "end_time": "2022-06-16T10:13:15.435118",
   "environment_variables": {},
   "exception": null,
   "input_path": "2020-08-11-part2.ipynb",
   "output_path": "2020-08-11-part2.ipynb",
   "parameters": {},
   "start_time": "2022-06-16T10:10:22.030215",
   "version": "2.3.3"
  }
 },
 "nbformat": 4,
 "nbformat_minor": 5
}