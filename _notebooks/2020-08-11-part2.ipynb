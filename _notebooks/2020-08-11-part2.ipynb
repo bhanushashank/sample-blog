{
 "cells": [
  {
   "cell_type": "markdown",
   "id": "98380cd3",
   "metadata": {
    "papermill": {
     "duration": 0.036618,
     "end_time": "2022-04-13T10:10:39.377530",
     "exception": false,
     "start_time": "2022-04-13T10:10:39.340912",
     "status": "completed"
    },
    "tags": []
   },
   "source": [
    "# Distinguish Your Own Digits (DYOD)"
   ]
  },
  {
   "cell_type": "markdown",
   "id": "ef31240d",
   "metadata": {
    "papermill": {
     "duration": 0.031827,
     "end_time": "2022-04-13T10:10:39.440492",
     "exception": false,
     "start_time": "2022-04-13T10:10:39.408665",
     "status": "completed"
    },
    "tags": []
   },
   "source": [
    "You are going to write a classifier that distinguishes between the number 3 and number 8."
   ]
  },
  {
   "cell_type": "code",
   "execution_count": 1,
   "id": "b15c8646",
   "metadata": {
    "execution": {
     "iopub.execute_input": "2022-04-13T10:10:39.520390Z",
     "iopub.status.busy": "2022-04-13T10:10:39.519656Z",
     "iopub.status.idle": "2022-04-13T10:10:39.533662Z",
     "shell.execute_reply": "2022-04-13T10:10:39.533073Z"
    },
    "papermill": {
     "duration": 0.062942,
     "end_time": "2022-04-13T10:10:39.533819",
     "exception": false,
     "start_time": "2022-04-13T10:10:39.470877",
     "status": "completed"
    },
    "tags": []
   },
   "outputs": [],
   "source": [
    "%load_ext autoreload\n",
    "%autoreload 2"
   ]
  },
  {
   "cell_type": "code",
   "execution_count": 2,
   "id": "22ef38dc",
   "metadata": {
    "execution": {
     "iopub.execute_input": "2022-04-13T10:10:39.602434Z",
     "iopub.status.busy": "2022-04-13T10:10:39.601804Z",
     "iopub.status.idle": "2022-04-13T10:10:40.289164Z",
     "shell.execute_reply": "2022-04-13T10:10:40.289818Z"
    },
    "papermill": {
     "duration": 0.723481,
     "end_time": "2022-04-13T10:10:40.290016",
     "exception": false,
     "start_time": "2022-04-13T10:10:39.566535",
     "status": "completed"
    },
    "tags": []
   },
   "outputs": [],
   "source": [
    "%matplotlib inline\n",
    "import numpy as np\n",
    "import matplotlib.pyplot as plt\n",
    "import pandas as pd"
   ]
  },
  {
   "cell_type": "markdown",
   "id": "ba036198",
   "metadata": {
    "papermill": {
     "duration": 0.033797,
     "end_time": "2022-04-13T10:10:40.356793",
     "exception": false,
     "start_time": "2022-04-13T10:10:40.322996",
     "status": "completed"
    },
    "tags": []
   },
   "source": [
    "From the command line run `pip install mnist`. This is a library that will help you bring down the mnist dataset. If you run this from a notebook, you need to put  `!pip install mnist` in a cell by itself."
   ]
  },
  {
   "cell_type": "code",
   "execution_count": 3,
   "id": "bb6ad8a1",
   "metadata": {
    "execution": {
     "iopub.execute_input": "2022-04-13T10:10:40.424120Z",
     "iopub.status.busy": "2022-04-13T10:10:40.423490Z",
     "iopub.status.idle": "2022-04-13T10:10:42.770353Z",
     "shell.execute_reply": "2022-04-13T10:10:42.769798Z"
    },
    "papermill": {
     "duration": 2.381974,
     "end_time": "2022-04-13T10:10:42.770536",
     "exception": false,
     "start_time": "2022-04-13T10:10:40.388562",
     "status": "completed"
    },
    "tags": []
   },
   "outputs": [
    {
     "name": "stdout",
     "output_type": "stream",
     "text": [
      "Collecting mnist\r\n"
     ]
    },
    {
     "name": "stdout",
     "output_type": "stream",
     "text": [
      "  Downloading mnist-0.2.2-py2.py3-none-any.whl (3.5 kB)\r\n",
      "Requirement already satisfied: numpy in /opt/hostedtoolcache/Python/3.6.15/x64/lib/python3.6/site-packages (from mnist) (1.19.5)\r\n"
     ]
    },
    {
     "name": "stdout",
     "output_type": "stream",
     "text": [
      "Installing collected packages: mnist\r\n",
      "Successfully installed mnist-0.2.2\r\n"
     ]
    }
   ],
   "source": [
    "!pip install mnist"
   ]
  },
  {
   "cell_type": "markdown",
   "id": "69df9c9a",
   "metadata": {
    "papermill": {
     "duration": 0.034836,
     "end_time": "2022-04-13T10:10:42.842940",
     "exception": false,
     "start_time": "2022-04-13T10:10:42.808104",
     "status": "completed"
    },
    "tags": []
   },
   "source": [
    "## Preparing the Data"
   ]
  },
  {
   "cell_type": "code",
   "execution_count": 4,
   "id": "7f69d806",
   "metadata": {
    "execution": {
     "iopub.execute_input": "2022-04-13T10:10:42.932865Z",
     "iopub.status.busy": "2022-04-13T10:10:42.931942Z",
     "iopub.status.idle": "2022-04-13T10:10:42.956226Z",
     "shell.execute_reply": "2022-04-13T10:10:42.956716Z"
    },
    "papermill": {
     "duration": 0.07994,
     "end_time": "2022-04-13T10:10:42.956874",
     "exception": false,
     "start_time": "2022-04-13T10:10:42.876934",
     "status": "completed"
    },
    "tags": []
   },
   "outputs": [],
   "source": [
    "import mnist"
   ]
  },
  {
   "cell_type": "code",
   "execution_count": 5,
   "id": "a411e44f",
   "metadata": {
    "execution": {
     "iopub.execute_input": "2022-04-13T10:10:43.032082Z",
     "iopub.status.busy": "2022-04-13T10:10:43.031408Z",
     "iopub.status.idle": "2022-04-13T10:10:43.627142Z",
     "shell.execute_reply": "2022-04-13T10:10:43.626532Z"
    },
    "papermill": {
     "duration": 0.635214,
     "end_time": "2022-04-13T10:10:43.627294",
     "exception": false,
     "start_time": "2022-04-13T10:10:42.992080",
     "status": "completed"
    },
    "tags": []
   },
   "outputs": [],
   "source": [
    "train_images = mnist.train_images()\n",
    "train_labels = mnist.train_labels()"
   ]
  },
  {
   "cell_type": "code",
   "execution_count": 6,
   "id": "dceab3a5",
   "metadata": {
    "execution": {
     "iopub.execute_input": "2022-04-13T10:10:43.697195Z",
     "iopub.status.busy": "2022-04-13T10:10:43.696300Z",
     "iopub.status.idle": "2022-04-13T10:10:43.715547Z",
     "shell.execute_reply": "2022-04-13T10:10:43.716099Z"
    },
    "papermill": {
     "duration": 0.054791,
     "end_time": "2022-04-13T10:10:43.716254",
     "exception": false,
     "start_time": "2022-04-13T10:10:43.661463",
     "status": "completed"
    },
    "tags": []
   },
   "outputs": [
    {
     "data": {
      "text/plain": [
       "((60000, 28, 28), (60000,))"
      ]
     },
     "execution_count": 6,
     "metadata": {},
     "output_type": "execute_result"
    }
   ],
   "source": [
    "train_images.shape, train_labels.shape"
   ]
  },
  {
   "cell_type": "code",
   "execution_count": 7,
   "id": "f50dc2bb",
   "metadata": {
    "execution": {
     "iopub.execute_input": "2022-04-13T10:10:43.790095Z",
     "iopub.status.busy": "2022-04-13T10:10:43.789422Z",
     "iopub.status.idle": "2022-04-13T10:10:43.910007Z",
     "shell.execute_reply": "2022-04-13T10:10:43.909369Z"
    },
    "papermill": {
     "duration": 0.162301,
     "end_time": "2022-04-13T10:10:43.910161",
     "exception": false,
     "start_time": "2022-04-13T10:10:43.747860",
     "status": "completed"
    },
    "tags": []
   },
   "outputs": [],
   "source": [
    "test_images = mnist.test_images()\n",
    "test_labels = mnist.test_labels()"
   ]
  },
  {
   "cell_type": "code",
   "execution_count": 8,
   "id": "fc38cf1b",
   "metadata": {
    "execution": {
     "iopub.execute_input": "2022-04-13T10:10:43.987995Z",
     "iopub.status.busy": "2022-04-13T10:10:43.987128Z",
     "iopub.status.idle": "2022-04-13T10:10:44.002514Z",
     "shell.execute_reply": "2022-04-13T10:10:44.001797Z"
    },
    "papermill": {
     "duration": 0.055624,
     "end_time": "2022-04-13T10:10:44.002680",
     "exception": false,
     "start_time": "2022-04-13T10:10:43.947056",
     "status": "completed"
    },
    "tags": []
   },
   "outputs": [
    {
     "data": {
      "text/plain": [
       "((10000, 28, 28), (10000,))"
      ]
     },
     "execution_count": 8,
     "metadata": {},
     "output_type": "execute_result"
    }
   ],
   "source": [
    "test_images.shape, test_labels.shape"
   ]
  },
  {
   "cell_type": "code",
   "execution_count": 9,
   "id": "f9ed8fe0",
   "metadata": {
    "execution": {
     "iopub.execute_input": "2022-04-13T10:10:44.076646Z",
     "iopub.status.busy": "2022-04-13T10:10:44.075977Z",
     "iopub.status.idle": "2022-04-13T10:10:44.281966Z",
     "shell.execute_reply": "2022-04-13T10:10:44.281169Z"
    },
    "papermill": {
     "duration": 0.245392,
     "end_time": "2022-04-13T10:10:44.282148",
     "exception": false,
     "start_time": "2022-04-13T10:10:44.036756",
     "status": "completed"
    },
    "tags": []
   },
   "outputs": [
    {
     "name": "stdout",
     "output_type": "stream",
     "text": [
      "2\n"
     ]
    },
    {
     "data": {
      "text/plain": [
       "<matplotlib.image.AxesImage at 0x7f3070a7c358>"
      ]
     },
     "execution_count": 9,
     "metadata": {},
     "output_type": "execute_result"
    },
    {
     "data": {
      "image/png": "[encoded data removed]",
      "text/plain": [
       "<Figure size 432x288 with 1 Axes>"
      ]
     },
     "metadata": {
      "needs_background": "light"
     },
     "output_type": "display_data"
    }
   ],
   "source": [
    "image_index = 7776 # You may select anything up to 60,000\n",
    "print(train_labels[image_index]) \n",
    "plt.imshow(train_images[image_index], cmap='Greys')"
   ]
  },
  {
   "cell_type": "markdown",
   "id": "a8d2388d",
   "metadata": {
    "papermill": {
     "duration": 0.039765,
     "end_time": "2022-04-13T10:10:44.360428",
     "exception": false,
     "start_time": "2022-04-13T10:10:44.320663",
     "status": "completed"
    },
    "tags": []
   },
   "source": [
    "## Filter data to get 3 and 8 out"
   ]
  },
  {
   "cell_type": "code",
   "execution_count": 10,
   "id": "776f7fc7",
   "metadata": {
    "execution": {
     "iopub.execute_input": "2022-04-13T10:10:44.439019Z",
     "iopub.status.busy": "2022-04-13T10:10:44.438281Z",
     "iopub.status.idle": "2022-04-13T10:10:44.459074Z",
     "shell.execute_reply": "2022-04-13T10:10:44.459603Z"
    },
    "papermill": {
     "duration": 0.061464,
     "end_time": "2022-04-13T10:10:44.459772",
     "exception": false,
     "start_time": "2022-04-13T10:10:44.398308",
     "status": "completed"
    },
    "tags": []
   },
   "outputs": [],
   "source": [
    "train_filter = np.where((train_labels == 3 ) | (train_labels == 8))\n",
    "test_filter = np.where((test_labels == 3) | (test_labels == 8))\n",
    "X_train, y_train = train_images[train_filter], train_labels[train_filter]\n",
    "X_test, y_test = test_images[test_filter], test_labels[test_filter]"
   ]
  },
  {
   "cell_type": "markdown",
   "id": "948f0b7e",
   "metadata": {
    "papermill": {
     "duration": 0.034392,
     "end_time": "2022-04-13T10:10:44.528373",
     "exception": false,
     "start_time": "2022-04-13T10:10:44.493981",
     "status": "completed"
    },
    "tags": []
   },
   "source": [
    "We normalize the pizel values in the 0 to 1 range"
   ]
  },
  {
   "cell_type": "code",
   "execution_count": 11,
   "id": "ee4c2166",
   "metadata": {
    "execution": {
     "iopub.execute_input": "2022-04-13T10:10:44.609289Z",
     "iopub.status.busy": "2022-04-13T10:10:44.608621Z",
     "iopub.status.idle": "2022-04-13T10:10:44.672604Z",
     "shell.execute_reply": "2022-04-13T10:10:44.673093Z"
    },
    "papermill": {
     "duration": 0.103844,
     "end_time": "2022-04-13T10:10:44.673275",
     "exception": false,
     "start_time": "2022-04-13T10:10:44.569431",
     "status": "completed"
    },
    "tags": []
   },
   "outputs": [],
   "source": [
    "X_train = X_train/255.\n",
    "X_test = X_test/255."
   ]
  },
  {
   "cell_type": "markdown",
   "id": "ddcf4fab",
   "metadata": {
    "papermill": {
     "duration": 0.038065,
     "end_time": "2022-04-13T10:10:44.751715",
     "exception": false,
     "start_time": "2022-04-13T10:10:44.713650",
     "status": "completed"
    },
    "tags": []
   },
   "source": [
    "And setup the labels as 1 (when the digit is 3) and 0 (when the digit is 8)"
   ]
  },
  {
   "cell_type": "code",
   "execution_count": 12,
   "id": "7dc908f2",
   "metadata": {
    "execution": {
     "iopub.execute_input": "2022-04-13T10:10:44.832962Z",
     "iopub.status.busy": "2022-04-13T10:10:44.829395Z",
     "iopub.status.idle": "2022-04-13T10:10:44.843935Z",
     "shell.execute_reply": "2022-04-13T10:10:44.843440Z"
    },
    "papermill": {
     "duration": 0.05286,
     "end_time": "2022-04-13T10:10:44.844058",
     "exception": false,
     "start_time": "2022-04-13T10:10:44.791198",
     "status": "completed"
    },
    "tags": []
   },
   "outputs": [],
   "source": [
    "y_train = 1*(y_train==3)\n",
    "y_test = 1*(y_test==3)"
   ]
  },
  {
   "cell_type": "code",
   "execution_count": 13,
   "id": "01e4e969",
   "metadata": {
    "execution": {
     "iopub.execute_input": "2022-04-13T10:10:44.914710Z",
     "iopub.status.busy": "2022-04-13T10:10:44.914133Z",
     "iopub.status.idle": "2022-04-13T10:10:44.929338Z",
     "shell.execute_reply": "2022-04-13T10:10:44.930088Z"
    },
    "papermill": {
     "duration": 0.053556,
     "end_time": "2022-04-13T10:10:44.930229",
     "exception": false,
     "start_time": "2022-04-13T10:10:44.876673",
     "status": "completed"
    },
    "tags": []
   },
   "outputs": [
    {
     "data": {
      "text/plain": [
       "((11982, 28, 28), (1984, 28, 28))"
      ]
     },
     "execution_count": 13,
     "metadata": {},
     "output_type": "execute_result"
    }
   ],
   "source": [
    "X_train.shape, X_test.shape"
   ]
  },
  {
   "cell_type": "markdown",
   "id": "5ccf3f85",
   "metadata": {
    "papermill": {
     "duration": 0.035373,
     "end_time": "2022-04-13T10:10:44.999046",
     "exception": false,
     "start_time": "2022-04-13T10:10:44.963673",
     "status": "completed"
    },
    "tags": []
   },
   "source": [
    "We reshape the data to flatten the image pixels into a set of features or co-variates:"
   ]
  },
  {
   "cell_type": "code",
   "execution_count": 14,
   "id": "5286a4a3",
   "metadata": {
    "execution": {
     "iopub.execute_input": "2022-04-13T10:10:45.078513Z",
     "iopub.status.busy": "2022-04-13T10:10:45.077798Z",
     "iopub.status.idle": "2022-04-13T10:10:45.093900Z",
     "shell.execute_reply": "2022-04-13T10:10:45.094371Z"
    },
    "papermill": {
     "duration": 0.0599,
     "end_time": "2022-04-13T10:10:45.094539",
     "exception": false,
     "start_time": "2022-04-13T10:10:45.034639",
     "status": "completed"
    },
    "tags": []
   },
   "outputs": [
    {
     "data": {
      "text/plain": [
       "((11982, 784), (1984, 784))"
      ]
     },
     "execution_count": 14,
     "metadata": {},
     "output_type": "execute_result"
    }
   ],
   "source": [
    "X_train = X_train.reshape(X_train.shape[0], -1)\n",
    "X_test = X_test.reshape(X_test.shape[0], -1)\n",
    "X_train.shape, X_test.shape"
   ]
  },
  {
   "cell_type": "code",
   "execution_count": 15,
   "id": "73c5f88a",
   "metadata": {
    "execution": {
     "iopub.execute_input": "2022-04-13T10:10:45.168212Z",
     "iopub.status.busy": "2022-04-13T10:10:45.167435Z",
     "iopub.status.idle": "2022-04-13T10:10:45.188936Z",
     "shell.execute_reply": "2022-04-13T10:10:45.188058Z"
    },
    "papermill": {
     "duration": 0.060646,
     "end_time": "2022-04-13T10:10:45.189070",
     "exception": false,
     "start_time": "2022-04-13T10:10:45.128424",
     "status": "completed"
    },
    "tags": []
   },
   "outputs": [],
   "source": [
    "#Impoting functions from 'Kudzu'\n",
    "from kudzu.model import Model\n",
    "from kudzu.train import Learner\n",
    "from kudzu.optim import GD\n",
    "from kudzu.data import Data, Sampler,Dataloader\n",
    "\n",
    "from kudzu.callbacks import AccCallback\n",
    "from kudzu.callbacks import ClfCallback\n",
    "\n",
    "from kudzu.loss import MSE\n",
    "\n",
    "from kudzu.layer import Sigmoid,Relu\n",
    "from kudzu.layer import Affine"
   ]
  },
  {
   "cell_type": "markdown",
   "id": "bc01172a",
   "metadata": {
    "papermill": {
     "duration": 0.036672,
     "end_time": "2022-04-13T10:10:45.259835",
     "exception": false,
     "start_time": "2022-04-13T10:10:45.223163",
     "status": "completed"
    },
    "tags": []
   },
   "source": [
    "### Let us create a `Config` class, to store important parameters. \n",
    "This class essentially plays the role of a dictionary."
   ]
  },
  {
   "cell_type": "code",
   "execution_count": 16,
   "id": "978281aa",
   "metadata": {
    "execution": {
     "iopub.execute_input": "2022-04-13T10:10:45.333786Z",
     "iopub.status.busy": "2022-04-13T10:10:45.333018Z",
     "iopub.status.idle": "2022-04-13T10:10:45.346890Z",
     "shell.execute_reply": "2022-04-13T10:10:45.346268Z"
    },
    "papermill": {
     "duration": 0.05221,
     "end_time": "2022-04-13T10:10:45.347046",
     "exception": false,
     "start_time": "2022-04-13T10:10:45.294836",
     "status": "completed"
    },
    "tags": []
   },
   "outputs": [],
   "source": [
    "class Config:\n",
    "    pass\n",
    "config = Config()\n",
    "config.lr = 0.001\n",
    "config.num_epochs = 250\n",
    "config.bs = 50"
   ]
  },
  {
   "cell_type": "markdown",
   "id": "1385fa59",
   "metadata": {
    "papermill": {
     "duration": 0.037276,
     "end_time": "2022-04-13T10:10:45.421212",
     "exception": false,
     "start_time": "2022-04-13T10:10:45.383936",
     "status": "completed"
    },
    "tags": []
   },
   "source": [
    "### Running Models with the Training data\n",
    "Details about the network layers:\n",
    "- A first affine layer has 784 inputs and does 100 affine transforms. These are followed by a Relu\n",
    "- A second affine layer has 100 inputs from the 100 activations of the past layer, and does 100 affine transforms. These are followed by a Relu\n",
    "- A third affine layer has 100 activations and does 2 affine transformations to create an embedding for visualization. There is no non-linearity here.\n",
    "- A final \"logistic regression\" which has an affine transform from 2 inputs to 1 output, which is squeezed through a sigmoid.\n"
   ]
  },
  {
   "cell_type": "code",
   "execution_count": 17,
   "id": "2b9c66db",
   "metadata": {
    "execution": {
     "iopub.execute_input": "2022-04-13T10:10:45.497066Z",
     "iopub.status.busy": "2022-04-13T10:10:45.496326Z",
     "iopub.status.idle": "2022-04-13T10:10:45.510533Z",
     "shell.execute_reply": "2022-04-13T10:10:45.511206Z"
    },
    "papermill": {
     "duration": 0.054282,
     "end_time": "2022-04-13T10:10:45.511379",
     "exception": false,
     "start_time": "2022-04-13T10:10:45.457097",
     "status": "completed"
    },
    "tags": []
   },
   "outputs": [],
   "source": [
    "data = Data(X_train, y_train.reshape(-1,1))\n",
    "sampler = Sampler(data, config.bs, shuffle=True)\n",
    "\n",
    "dl = Dataloader(data, sampler)\n",
    "\n",
    "opt = GD(config.lr)\n",
    "loss = MSE()"
   ]
  },
  {
   "cell_type": "code",
   "execution_count": 18,
   "id": "b275e4c2",
   "metadata": {
    "execution": {
     "iopub.execute_input": "2022-04-13T10:10:45.590208Z",
     "iopub.status.busy": "2022-04-13T10:10:45.589407Z",
     "iopub.status.idle": "2022-04-13T10:10:45.604675Z",
     "shell.execute_reply": "2022-04-13T10:10:45.604106Z"
    },
    "papermill": {
     "duration": 0.05657,
     "end_time": "2022-04-13T10:10:45.604813",
     "exception": false,
     "start_time": "2022-04-13T10:10:45.548243",
     "status": "completed"
    },
    "tags": []
   },
   "outputs": [],
   "source": [
    "training_data_x = X_train\n",
    "testing_data_x = X_test\n",
    "training_data_y = y_train.reshape(-1,1)\n",
    "testing_data_y = y_test.reshape(-1,1)"
   ]
  },
  {
   "cell_type": "code",
   "execution_count": 19,
   "id": "76951160",
   "metadata": {
    "execution": {
     "iopub.execute_input": "2022-04-13T10:10:45.681975Z",
     "iopub.status.busy": "2022-04-13T10:10:45.681304Z",
     "iopub.status.idle": "2022-04-13T10:10:45.701694Z",
     "shell.execute_reply": "2022-04-13T10:10:45.701167Z"
    },
    "papermill": {
     "duration": 0.060497,
     "end_time": "2022-04-13T10:10:45.701823",
     "exception": false,
     "start_time": "2022-04-13T10:10:45.641326",
     "status": "completed"
    },
    "tags": []
   },
   "outputs": [
    {
     "name": "stdout",
     "output_type": "stream",
     "text": [
      "xavier\n",
      "xavier\n",
      "xavier\n",
      "xavier\n",
      "xavier\n"
     ]
    }
   ],
   "source": [
    "layers = [Affine(\"first\", 784, 100), Relu(\"first\"), Affine(\"second\", 100, 100), Relu(\"second\"), Affine(\"third\", 100, 2), Affine(\"last\", 2, 1), Sigmoid(\"last\")]\n",
    "model_nn = Model(layers)\n",
    "model_lr = Model([Affine(\"logits\", 784, 1), Sigmoid(\"sigmoid\")])"
   ]
  },
  {
   "cell_type": "code",
   "execution_count": 20,
   "id": "6eede77a",
   "metadata": {
    "execution": {
     "iopub.execute_input": "2022-04-13T10:10:45.781048Z",
     "iopub.status.busy": "2022-04-13T10:10:45.780365Z",
     "iopub.status.idle": "2022-04-13T10:10:45.795606Z",
     "shell.execute_reply": "2022-04-13T10:10:45.794684Z"
    },
    "papermill": {
     "duration": 0.057387,
     "end_time": "2022-04-13T10:10:45.795747",
     "exception": false,
     "start_time": "2022-04-13T10:10:45.738360",
     "status": "completed"
    },
    "tags": []
   },
   "outputs": [],
   "source": [
    "nn_learner = Learner(loss, model_nn, opt, config.num_epochs)\n",
    "acc_nn = ClfCallback(nn_learner, config.bs, training_data_x , testing_data_x, training_data_y, testing_data_y)\n",
    "nn_learner.set_callbacks([acc_nn])"
   ]
  },
  {
   "cell_type": "code",
   "execution_count": 21,
   "id": "877b6cc7",
   "metadata": {
    "execution": {
     "iopub.execute_input": "2022-04-13T10:10:45.879279Z",
     "iopub.status.busy": "2022-04-13T10:10:45.878502Z",
     "iopub.status.idle": "2022-04-13T10:10:45.893606Z",
     "shell.execute_reply": "2022-04-13T10:10:45.893028Z"
    },
    "papermill": {
     "duration": 0.055552,
     "end_time": "2022-04-13T10:10:45.893735",
     "exception": false,
     "start_time": "2022-04-13T10:10:45.838183",
     "status": "completed"
    },
    "tags": []
   },
   "outputs": [],
   "source": [
    "lr_learner = Learner(loss, model_lr, opt, config.num_epochs)\n",
    "acc_lr = ClfCallback(lr_learner, config.bs, training_data_x , testing_data_x, training_data_y, testing_data_y)\n",
    "lr_learner.set_callbacks([acc_lr])"
   ]
  },
  {
   "cell_type": "code",
   "execution_count": 22,
   "id": "d9b133c3",
   "metadata": {
    "execution": {
     "iopub.execute_input": "2022-04-13T10:10:45.971287Z",
     "iopub.status.busy": "2022-04-13T10:10:45.970551Z",
     "iopub.status.idle": "2022-04-13T10:13:14.446921Z",
     "shell.execute_reply": "2022-04-13T10:13:14.448059Z"
    },
    "papermill": {
     "duration": 148.517556,
     "end_time": "2022-04-13T10:13:14.448233",
     "exception": false,
     "start_time": "2022-04-13T10:10:45.930677",
     "status": "completed"
    },
    "tags": []
   },
   "outputs": [
    {
     "name": "stdout",
     "output_type": "stream",
     "text": [
      "Epoch 0, Loss 0.2407\n",
      "Training Accuracy: 0.7101, Testing Accuracy: 0.7021\n",
      "\n"
     ]
    },
    {
     "name": "stdout",
     "output_type": "stream",
     "text": [
      "Epoch 10, Loss 0.0716\n",
      "Training Accuracy: 0.9369, Testing Accuracy: 0.9395\n",
      "\n"
     ]
    },
    {
     "name": "stdout",
     "output_type": "stream",
     "text": [
      "Epoch 20, Loss 0.0468\n",
      "Training Accuracy: 0.9525, Testing Accuracy: 0.9577\n",
      "\n"
     ]
    },
    {
     "name": "stdout",
     "output_type": "stream",
     "text": [
      "Epoch 30, Loss 0.0384\n",
      "Training Accuracy: 0.9576, Testing Accuracy: 0.9617\n",
      "\n"
     ]
    },
    {
     "name": "stdout",
     "output_type": "stream",
     "text": [
      "Epoch 40, Loss 0.0342\n",
      "Training Accuracy: 0.9616, Testing Accuracy: 0.9637\n",
      "\n"
     ]
    },
    {
     "name": "stdout",
     "output_type": "stream",
     "text": [
      "Epoch 50, Loss 0.0315\n",
      "Training Accuracy: 0.9639, Testing Accuracy: 0.9652\n",
      "\n"
     ]
    },
    {
     "name": "stdout",
     "output_type": "stream",
     "text": [
      "Epoch 60, Loss 0.0295\n",
      "Training Accuracy: 0.9658, Testing Accuracy: 0.9652\n",
      "\n"
     ]
    },
    {
     "name": "stdout",
     "output_type": "stream",
     "text": [
      "Epoch 70, Loss 0.028\n",
      "Training Accuracy: 0.9676, Testing Accuracy: 0.9637\n",
      "\n"
     ]
    },
    {
     "name": "stdout",
     "output_type": "stream",
     "text": [
      "Epoch 80, Loss 0.0268\n",
      "Training Accuracy: 0.9692, Testing Accuracy: 0.9637\n",
      "\n"
     ]
    },
    {
     "name": "stdout",
     "output_type": "stream",
     "text": [
      "Epoch 90, Loss 0.0258\n",
      "Training Accuracy: 0.9708, Testing Accuracy: 0.9647\n",
      "\n"
     ]
    },
    {
     "name": "stdout",
     "output_type": "stream",
     "text": [
      "Epoch 100, Loss 0.0249\n",
      "Training Accuracy: 0.9713, Testing Accuracy: 0.9667\n",
      "\n"
     ]
    },
    {
     "name": "stdout",
     "output_type": "stream",
     "text": [
      "Epoch 110, Loss 0.0241\n",
      "Training Accuracy: 0.9730, Testing Accuracy: 0.9677\n",
      "\n"
     ]
    },
    {
     "name": "stdout",
     "output_type": "stream",
     "text": [
      "Epoch 120, Loss 0.0234\n",
      "Training Accuracy: 0.9738, Testing Accuracy: 0.9677\n",
      "\n"
     ]
    },
    {
     "name": "stdout",
     "output_type": "stream",
     "text": [
      "Epoch 130, Loss 0.0227\n",
      "Training Accuracy: 0.9743, Testing Accuracy: 0.9688\n",
      "\n"
     ]
    },
    {
     "name": "stdout",
     "output_type": "stream",
     "text": [
      "Epoch 140, Loss 0.0221\n",
      "Training Accuracy: 0.9755, Testing Accuracy: 0.9698\n",
      "\n"
     ]
    },
    {
     "name": "stdout",
     "output_type": "stream",
     "text": [
      "Epoch 150, Loss 0.0216\n",
      "Training Accuracy: 0.9760, Testing Accuracy: 0.9703\n",
      "\n"
     ]
    },
    {
     "name": "stdout",
     "output_type": "stream",
     "text": [
      "Epoch 160, Loss 0.0211\n",
      "Training Accuracy: 0.9769, Testing Accuracy: 0.9703\n",
      "\n"
     ]
    },
    {
     "name": "stdout",
     "output_type": "stream",
     "text": [
      "Epoch 170, Loss 0.0206\n",
      "Training Accuracy: 0.9774, Testing Accuracy: 0.9708\n",
      "\n"
     ]
    },
    {
     "name": "stdout",
     "output_type": "stream",
     "text": [
      "Epoch 180, Loss 0.0201\n",
      "Training Accuracy: 0.9779, Testing Accuracy: 0.9718\n",
      "\n"
     ]
    },
    {
     "name": "stdout",
     "output_type": "stream",
     "text": [
      "Epoch 190, Loss 0.0196\n",
      "Training Accuracy: 0.9786, Testing Accuracy: 0.9728\n",
      "\n"
     ]
    },
    {
     "name": "stdout",
     "output_type": "stream",
     "text": [
      "Epoch 200, Loss 0.0192\n",
      "Training Accuracy: 0.9791, Testing Accuracy: 0.9738\n",
      "\n"
     ]
    },
    {
     "name": "stdout",
     "output_type": "stream",
     "text": [
      "Epoch 210, Loss 0.0188\n",
      "Training Accuracy: 0.9797, Testing Accuracy: 0.9738\n",
      "\n"
     ]
    },
    {
     "name": "stdout",
     "output_type": "stream",
     "text": [
      "Epoch 220, Loss 0.0184\n",
      "Training Accuracy: 0.9803, Testing Accuracy: 0.9728\n",
      "\n"
     ]
    },
    {
     "name": "stdout",
     "output_type": "stream",
     "text": [
      "Epoch 230, Loss 0.018\n",
      "Training Accuracy: 0.9804, Testing Accuracy: 0.9728\n",
      "\n"
     ]
    },
    {
     "name": "stdout",
     "output_type": "stream",
     "text": [
      "Epoch 240, Loss 0.0177\n",
      "Training Accuracy: 0.9809, Testing Accuracy: 0.9743\n",
      "\n"
     ]
    },
    {
     "data": {
      "text/plain": [
       "0.02390403477432905"
      ]
     },
     "execution_count": 22,
     "metadata": {},
     "output_type": "execute_result"
    }
   ],
   "source": [
    "nn_learner.train_loop(dl)"
   ]
  },
  {
   "cell_type": "code",
   "execution_count": 23,
   "id": "e0163366",
   "metadata": {
    "execution": {
     "iopub.execute_input": "2022-04-13T10:13:14.556993Z",
     "iopub.status.busy": "2022-04-13T10:13:14.555820Z",
     "iopub.status.idle": "2022-04-13T10:13:35.689909Z",
     "shell.execute_reply": "2022-04-13T10:13:35.690972Z"
    },
    "papermill": {
     "duration": 21.196856,
     "end_time": "2022-04-13T10:13:35.691150",
     "exception": false,
     "start_time": "2022-04-13T10:13:14.494294",
     "status": "completed"
    },
    "tags": []
   },
   "outputs": [
    {
     "name": "stdout",
     "output_type": "stream",
     "text": [
      "Epoch 0, Loss 0.2374\n",
      "Training Accuracy: 0.6789, Testing Accuracy: 0.7122\n",
      "\n"
     ]
    },
    {
     "name": "stdout",
     "output_type": "stream",
     "text": [
      "Epoch 10, Loss 0.1075\n",
      "Training Accuracy: 0.8949, Testing Accuracy: 0.9027\n",
      "\n"
     ]
    },
    {
     "name": "stdout",
     "output_type": "stream",
     "text": [
      "Epoch 20, Loss 0.0827\n",
      "Training Accuracy: 0.9195, Testing Accuracy: 0.9289\n",
      "\n"
     ]
    },
    {
     "name": "stdout",
     "output_type": "stream",
     "text": [
      "Epoch 30, Loss 0.0709\n",
      "Training Accuracy: 0.9302, Testing Accuracy: 0.9390\n",
      "\n"
     ]
    },
    {
     "name": "stdout",
     "output_type": "stream",
     "text": [
      "Epoch 40, Loss 0.0637\n",
      "Training Accuracy: 0.9378, Testing Accuracy: 0.9476\n",
      "\n"
     ]
    },
    {
     "name": "stdout",
     "output_type": "stream",
     "text": [
      "Epoch 50, Loss 0.0588\n",
      "Training Accuracy: 0.9413, Testing Accuracy: 0.9531\n",
      "\n"
     ]
    },
    {
     "name": "stdout",
     "output_type": "stream",
     "text": [
      "Epoch 60, Loss 0.0552\n",
      "Training Accuracy: 0.9437, Testing Accuracy: 0.9567\n",
      "\n"
     ]
    },
    {
     "name": "stdout",
     "output_type": "stream",
     "text": [
      "Epoch 70, Loss 0.0524\n",
      "Training Accuracy: 0.9468, Testing Accuracy: 0.9587\n",
      "\n"
     ]
    },
    {
     "name": "stdout",
     "output_type": "stream",
     "text": [
      "Epoch 80, Loss 0.0502\n",
      "Training Accuracy: 0.9474, Testing Accuracy: 0.9612\n",
      "\n"
     ]
    },
    {
     "name": "stdout",
     "output_type": "stream",
     "text": [
      "Epoch 90, Loss 0.0484\n",
      "Training Accuracy: 0.9496, Testing Accuracy: 0.9612\n",
      "\n"
     ]
    },
    {
     "name": "stdout",
     "output_type": "stream",
     "text": [
      "Epoch 100, Loss 0.0469\n",
      "Training Accuracy: 0.9513, Testing Accuracy: 0.9622\n",
      "\n"
     ]
    },
    {
     "name": "stdout",
     "output_type": "stream",
     "text": [
      "Epoch 110, Loss 0.0456\n",
      "Training Accuracy: 0.9527, Testing Accuracy: 0.9627\n",
      "\n"
     ]
    },
    {
     "name": "stdout",
     "output_type": "stream",
     "text": [
      "Epoch 120, Loss 0.0445\n",
      "Training Accuracy: 0.9538, Testing Accuracy: 0.9637\n",
      "\n"
     ]
    },
    {
     "name": "stdout",
     "output_type": "stream",
     "text": [
      "Epoch 130, Loss 0.0435\n",
      "Training Accuracy: 0.9547, Testing Accuracy: 0.9647\n",
      "\n"
     ]
    },
    {
     "name": "stdout",
     "output_type": "stream",
     "text": [
      "Epoch 140, Loss 0.0426\n",
      "Training Accuracy: 0.9558, Testing Accuracy: 0.9657\n",
      "\n"
     ]
    },
    {
     "name": "stdout",
     "output_type": "stream",
     "text": [
      "Epoch 150, Loss 0.0418\n",
      "Training Accuracy: 0.9569, Testing Accuracy: 0.9662\n",
      "\n"
     ]
    },
    {
     "name": "stdout",
     "output_type": "stream",
     "text": [
      "Epoch 160, Loss 0.0411\n",
      "Training Accuracy: 0.9573, Testing Accuracy: 0.9667\n",
      "\n"
     ]
    },
    {
     "name": "stdout",
     "output_type": "stream",
     "text": [
      "Epoch 170, Loss 0.0405\n",
      "Training Accuracy: 0.9574, Testing Accuracy: 0.9672\n",
      "\n"
     ]
    },
    {
     "name": "stdout",
     "output_type": "stream",
     "text": [
      "Epoch 180, Loss 0.0399\n",
      "Training Accuracy: 0.9578, Testing Accuracy: 0.9672\n",
      "\n"
     ]
    },
    {
     "name": "stdout",
     "output_type": "stream",
     "text": [
      "Epoch 190, Loss 0.0393\n",
      "Training Accuracy: 0.9585, Testing Accuracy: 0.9677\n",
      "\n"
     ]
    },
    {
     "name": "stdout",
     "output_type": "stream",
     "text": [
      "Epoch 200, Loss 0.0388\n",
      "Training Accuracy: 0.9594, Testing Accuracy: 0.9672\n",
      "\n"
     ]
    },
    {
     "name": "stdout",
     "output_type": "stream",
     "text": [
      "Epoch 210, Loss 0.0384\n",
      "Training Accuracy: 0.9599, Testing Accuracy: 0.9672\n",
      "\n"
     ]
    },
    {
     "name": "stdout",
     "output_type": "stream",
     "text": [
      "Epoch 220, Loss 0.0379\n",
      "Training Accuracy: 0.9602, Testing Accuracy: 0.9677\n",
      "\n"
     ]
    },
    {
     "name": "stdout",
     "output_type": "stream",
     "text": [
      "Epoch 230, Loss 0.0375\n",
      "Training Accuracy: 0.9605, Testing Accuracy: 0.9682\n",
      "\n"
     ]
    },
    {
     "name": "stdout",
     "output_type": "stream",
     "text": [
      "Epoch 240, Loss 0.0372\n",
      "Training Accuracy: 0.9608, Testing Accuracy: 0.9682\n",
      "\n"
     ]
    },
    {
     "data": {
      "text/plain": [
       "0.030990350550830083"
      ]
     },
     "execution_count": 23,
     "metadata": {},
     "output_type": "execute_result"
    }
   ],
   "source": [
    "lr_learner.train_loop(dl)"
   ]
  },
  {
   "cell_type": "code",
   "execution_count": 24,
   "id": "ca410940",
   "metadata": {
    "execution": {
     "iopub.execute_input": "2022-04-13T10:13:35.820000Z",
     "iopub.status.busy": "2022-04-13T10:13:35.819258Z",
     "iopub.status.idle": "2022-04-13T10:13:36.149927Z",
     "shell.execute_reply": "2022-04-13T10:13:36.150478Z"
    },
    "papermill": {
     "duration": 0.40064,
     "end_time": "2022-04-13T10:13:36.150648",
     "exception": false,
     "start_time": "2022-04-13T10:13:35.750008",
     "status": "completed"
    },
    "tags": []
   },
   "outputs": [
    {
     "data": {
      "text/plain": [
       "<matplotlib.legend.Legend at 0x7f307065cac8>"
      ]
     },
     "execution_count": 24,
     "metadata": {},
     "output_type": "execute_result"
    },
    {
     "data": {
      "image/png": "[encoded data removed]",
      "text/plain": [
       "<Figure size 1080x720 with 1 Axes>"
      ]
     },
     "metadata": {
      "needs_background": "light"
     },
     "output_type": "display_data"
    }
   ],
   "source": [
    "#comparing the results of NN and LR\n",
    "plt.figure(figsize=(15,10))\n",
    "\n",
    "# Neural Network plots\n",
    "plt.plot(acc_nn.accuracies, 'r-', label = \"Training Accuracies - NN\")\n",
    "plt.plot(acc_nn.test_accuracies, 'g-', label = \"Testing Accuracies - NN\")\n",
    "\n",
    "# Logistic Regression plots\n",
    "plt.plot(acc_lr.accuracies, 'k-', label = \"Training Accuracies - LR\")\n",
    "plt.plot(acc_lr.test_accuracies, 'b-', label = \"Testing Accuracies - LR\")\n",
    "plt.legend()"
   ]
  },
  {
   "cell_type": "markdown",
   "id": "80dfb35c",
   "metadata": {
    "papermill": {
     "duration": 0.058265,
     "end_time": "2022-04-13T10:13:36.266555",
     "exception": false,
     "start_time": "2022-04-13T10:13:36.208290",
     "status": "completed"
    },
    "tags": []
   },
   "source": [
    "#### Plotting the outputs of this layer of the NN.\n"
   ]
  },
  {
   "cell_type": "code",
   "execution_count": 25,
   "id": "45eb2ff5",
   "metadata": {
    "execution": {
     "iopub.execute_input": "2022-04-13T10:13:36.385203Z",
     "iopub.status.busy": "2022-04-13T10:13:36.384580Z",
     "iopub.status.idle": "2022-04-13T10:13:36.414677Z",
     "shell.execute_reply": "2022-04-13T10:13:36.415355Z"
    },
    "papermill": {
     "duration": 0.091758,
     "end_time": "2022-04-13T10:13:36.415538",
     "exception": false,
     "start_time": "2022-04-13T10:13:36.323780",
     "status": "completed"
    },
    "tags": []
   },
   "outputs": [],
   "source": [
    "new_model = Model(layers[:-2])\n",
    "testing_plot = new_model(testing_data_x)"
   ]
  },
  {
   "cell_type": "code",
   "execution_count": 26,
   "id": "4c0a5485",
   "metadata": {
    "execution": {
     "iopub.execute_input": "2022-04-13T10:13:36.535411Z",
     "iopub.status.busy": "2022-04-13T10:13:36.534663Z",
     "iopub.status.idle": "2022-04-13T10:13:36.784341Z",
     "shell.execute_reply": "2022-04-13T10:13:36.784885Z"
    },
    "papermill": {
     "duration": 0.31288,
     "end_time": "2022-04-13T10:13:36.785059",
     "exception": false,
     "start_time": "2022-04-13T10:13:36.472179",
     "status": "completed"
    },
    "tags": []
   },
   "outputs": [
    {
     "data": {
      "text/plain": [
       "Text(0.5, 1.0, 'Outputs')"
      ]
     },
     "execution_count": 26,
     "metadata": {},
     "output_type": "execute_result"
    },
    {
     "data": {
      "image/png": "[encoded data removed]",
      "text/plain": [
       "<Figure size 576x504 with 1 Axes>"
      ]
     },
     "metadata": {
      "needs_background": "light"
     },
     "output_type": "display_data"
    }
   ],
   "source": [
    "# Plotting the scatter plot of points and color coding by class\n",
    "plt.figure(figsize=(8,7))\n",
    "plt.scatter(testing_plot[:,0], testing_plot[:,1], alpha = 0.1, c = y_test.ravel());\n",
    "plt.title('Outputs')"
   ]
  },
  {
   "cell_type": "markdown",
   "id": "a74fcf8f",
   "metadata": {
    "papermill": {
     "duration": 0.060553,
     "end_time": "2022-04-13T10:13:36.910702",
     "exception": false,
     "start_time": "2022-04-13T10:13:36.850149",
     "status": "completed"
    },
    "tags": []
   },
   "source": [
    "Probability contours"
   ]
  },
  {
   "cell_type": "code",
   "execution_count": 27,
   "id": "d0afc8e3",
   "metadata": {
    "execution": {
     "iopub.execute_input": "2022-04-13T10:13:37.034040Z",
     "iopub.status.busy": "2022-04-13T10:13:37.033360Z",
     "iopub.status.idle": "2022-04-13T10:13:37.049339Z",
     "shell.execute_reply": "2022-04-13T10:13:37.048662Z"
    },
    "papermill": {
     "duration": 0.079542,
     "end_time": "2022-04-13T10:13:37.049542",
     "exception": false,
     "start_time": "2022-04-13T10:13:36.970000",
     "status": "completed"
    },
    "tags": []
   },
   "outputs": [],
   "source": [
    "model_prob = Model(layers[-2:]) "
   ]
  },
  {
   "cell_type": "code",
   "execution_count": 28,
   "id": "9b96e238",
   "metadata": {
    "execution": {
     "iopub.execute_input": "2022-04-13T10:13:37.205030Z",
     "iopub.status.busy": "2022-04-13T10:13:37.204306Z",
     "iopub.status.idle": "2022-04-13T10:13:37.219749Z",
     "shell.execute_reply": "2022-04-13T10:13:37.220307Z"
    },
    "papermill": {
     "duration": 0.11002,
     "end_time": "2022-04-13T10:13:37.220464",
     "exception": false,
     "start_time": "2022-04-13T10:13:37.110444",
     "status": "completed"
    },
    "tags": []
   },
   "outputs": [],
   "source": [
    "#creating the x and y ranges according to the above generated plot.\n",
    "x_range = np.linspace(-4, 1, 100) \n",
    "y_range = np.linspace(-6, 6, 100) \n",
    "x_grid, y_grid = np.meshgrid(x_range, y_range) # x_grid and y_grig are of size 100 X 100\n",
    "\n",
    "# converting x_grid and y_grid to continuous arrays\n",
    "x_gridflat = np.ravel(x_grid)\n",
    "y_gridflat = np.ravel(y_grid)\n",
    "\n",
    "# The last layer of the current model takes two columns as input. Hence transpose of np.vstack() is required.\n",
    "X = np.vstack((x_gridflat, y_gridflat)).T\n",
    "\n",
    "prob_contour = model_prob(X).reshape(100,100) "
   ]
  },
  {
   "cell_type": "code",
   "execution_count": 29,
   "id": "da72499a",
   "metadata": {
    "execution": {
     "iopub.execute_input": "2022-04-13T10:13:37.350324Z",
     "iopub.status.busy": "2022-04-13T10:13:37.349569Z",
     "iopub.status.idle": "2022-04-13T10:13:37.683984Z",
     "shell.execute_reply": "2022-04-13T10:13:37.684519Z"
    },
    "papermill": {
     "duration": 0.399822,
     "end_time": "2022-04-13T10:13:37.684687",
     "exception": false,
     "start_time": "2022-04-13T10:13:37.284865",
     "status": "completed"
    },
    "tags": []
   },
   "outputs": [
    {
     "data": {
      "image/png": "[encoded data removed]",
      "text/plain": [
       "<Figure size 720x648 with 1 Axes>"
      ]
     },
     "metadata": {
      "needs_background": "light"
     },
     "output_type": "display_data"
    }
   ],
   "source": [
    "plt.figure(figsize=(10,9))\n",
    "plt.scatter(testing_plot[:,0], testing_plot[:,1], alpha = 0.1, c = y_test.ravel())\n",
    "contours = plt.contour(x_grid,y_grid,prob_contour)\n",
    "plt.title('Probability Contours')\n",
    "plt.clabel(contours, inline = True );"
   ]
  },
  {
   "cell_type": "code",
   "execution_count": null,
   "id": "e81b4ac7",
   "metadata": {
    "papermill": {
     "duration": 0.059185,
     "end_time": "2022-04-13T10:13:37.804663",
     "exception": false,
     "start_time": "2022-04-13T10:13:37.745478",
     "status": "completed"
    },
    "tags": []
   },
   "outputs": [],
   "source": []
  }
 ],
 "metadata": {
  "kernelspec": {
   "display_name": "Python 3",
   "language": "python",
   "name": "python3"
  },
  "language_info": {
   "codemirror_mode": {
    "name": "ipython",
    "version": 3
   },
   "file_extension": ".py",
   "mimetype": "text/x-python",
   "name": "python",
   "nbconvert_exporter": "python",
   "pygments_lexer": "ipython3",
   "version": "3.6.15"
  },
  "papermill": {
   "default_parameters": {},
   "duration": 180.328851,
   "end_time": "2022-04-13T10:13:38.287554",
   "environment_variables": {},
   "exception": null,
   "input_path": "2020-08-11-part2.ipynb",
   "output_path": "2020-08-11-part2.ipynb",
   "parameters": {},
   "start_time": "2022-04-13T10:10:37.958703",
   "version": "2.3.3"
  }
 },
 "nbformat": 4,
 "nbformat_minor": 5
}