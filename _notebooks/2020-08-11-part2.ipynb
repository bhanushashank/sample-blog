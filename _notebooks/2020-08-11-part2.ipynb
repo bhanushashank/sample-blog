{
 "cells": [
  {
   "cell_type": "markdown",
   "id": "98380cd3",
   "metadata": {
    "papermill": {
     "duration": 0.029374,
     "end_time": "2021-11-06T10:07:16.119651",
     "exception": false,
     "start_time": "2021-11-06T10:07:16.090277",
     "status": "completed"
    },
    "tags": []
   },
   "source": [
    "# Distinguish Your Own Digits (DYOD)"
   ]
  },
  {
   "cell_type": "markdown",
   "id": "ef31240d",
   "metadata": {
    "papermill": {
     "duration": 0.027493,
     "end_time": "2021-11-06T10:07:16.174057",
     "exception": false,
     "start_time": "2021-11-06T10:07:16.146564",
     "status": "completed"
    },
    "tags": []
   },
   "source": [
    "You are going to write a classifier that distinguishes between the number 3 and number 8."
   ]
  },
  {
   "cell_type": "code",
   "execution_count": 1,
   "id": "b15c8646",
   "metadata": {
    "execution": {
     "iopub.execute_input": "2021-11-06T10:07:16.239644Z",
     "iopub.status.busy": "2021-11-06T10:07:16.239094Z",
     "iopub.status.idle": "2021-11-06T10:07:16.250970Z",
     "shell.execute_reply": "2021-11-06T10:07:16.251484Z"
    },
    "papermill": {
     "duration": 0.047662,
     "end_time": "2021-11-06T10:07:16.251665",
     "exception": false,
     "start_time": "2021-11-06T10:07:16.204003",
     "status": "completed"
    },
    "tags": []
   },
   "outputs": [],
   "source": [
    "%load_ext autoreload\n",
    "%autoreload 2"
   ]
  },
  {
   "cell_type": "code",
   "execution_count": 2,
   "id": "22ef38dc",
   "metadata": {
    "execution": {
     "iopub.execute_input": "2021-11-06T10:07:16.311338Z",
     "iopub.status.busy": "2021-11-06T10:07:16.310780Z",
     "iopub.status.idle": "2021-11-06T10:07:16.832841Z",
     "shell.execute_reply": "2021-11-06T10:07:16.832366Z"
    },
    "papermill": {
     "duration": 0.556193,
     "end_time": "2021-11-06T10:07:16.832972",
     "exception": false,
     "start_time": "2021-11-06T10:07:16.276779",
     "status": "completed"
    },
    "tags": []
   },
   "outputs": [],
   "source": [
    "%matplotlib inline\n",
    "import numpy as np\n",
    "import matplotlib.pyplot as plt\n",
    "import pandas as pd"
   ]
  },
  {
   "cell_type": "markdown",
   "id": "ba036198",
   "metadata": {
    "papermill": {
     "duration": 0.026297,
     "end_time": "2021-11-06T10:07:16.886607",
     "exception": false,
     "start_time": "2021-11-06T10:07:16.860310",
     "status": "completed"
    },
    "tags": []
   },
   "source": [
    "From the command line run `pip install mnist`. This is a library that will help you bring down the mnist dataset. If you run this from a notebook, you need to put  `!pip install mnist` in a cell by itself."
   ]
  },
  {
   "cell_type": "code",
   "execution_count": 3,
   "id": "bb6ad8a1",
   "metadata": {
    "execution": {
     "iopub.execute_input": "2021-11-06T10:07:16.941281Z",
     "iopub.status.busy": "2021-11-06T10:07:16.940691Z",
     "iopub.status.idle": "2021-11-06T10:07:18.691177Z",
     "shell.execute_reply": "2021-11-06T10:07:18.690703Z"
    },
    "papermill": {
     "duration": 1.778838,
     "end_time": "2021-11-06T10:07:18.691401",
     "exception": false,
     "start_time": "2021-11-06T10:07:16.912563",
     "status": "completed"
    },
    "tags": []
   },
   "outputs": [
    {
     "name": "stdout",
     "output_type": "stream",
     "text": [
      "Collecting mnist\r\n"
     ]
    },
    {
     "name": "stdout",
     "output_type": "stream",
     "text": [
      "  Downloading mnist-0.2.2-py2.py3-none-any.whl (3.5 kB)\r\n",
      "Requirement already satisfied: numpy in /opt/hostedtoolcache/Python/3.6.15/x64/lib/python3.6/site-packages (from mnist) (1.19.5)\r\n"
     ]
    },
    {
     "name": "stdout",
     "output_type": "stream",
     "text": [
      "Installing collected packages: mnist\r\n"
     ]
    },
    {
     "name": "stdout",
     "output_type": "stream",
     "text": [
      "Successfully installed mnist-0.2.2\r\n"
     ]
    }
   ],
   "source": [
    "!pip install mnist"
   ]
  },
  {
   "cell_type": "markdown",
   "id": "69df9c9a",
   "metadata": {
    "papermill": {
     "duration": 0.025614,
     "end_time": "2021-11-06T10:07:18.742797",
     "exception": false,
     "start_time": "2021-11-06T10:07:18.717183",
     "status": "completed"
    },
    "tags": []
   },
   "source": [
    "## Preparing the Data"
   ]
  },
  {
   "cell_type": "code",
   "execution_count": 4,
   "id": "7f69d806",
   "metadata": {
    "execution": {
     "iopub.execute_input": "2021-11-06T10:07:18.803057Z",
     "iopub.status.busy": "2021-11-06T10:07:18.802468Z",
     "iopub.status.idle": "2021-11-06T10:07:18.815632Z",
     "shell.execute_reply": "2021-11-06T10:07:18.816126Z"
    },
    "papermill": {
     "duration": 0.046282,
     "end_time": "2021-11-06T10:07:18.816237",
     "exception": false,
     "start_time": "2021-11-06T10:07:18.769955",
     "status": "completed"
    },
    "tags": []
   },
   "outputs": [],
   "source": [
    "import mnist"
   ]
  },
  {
   "cell_type": "code",
   "execution_count": 5,
   "id": "a411e44f",
   "metadata": {
    "execution": {
     "iopub.execute_input": "2021-11-06T10:07:18.874931Z",
     "iopub.status.busy": "2021-11-06T10:07:18.874327Z",
     "iopub.status.idle": "2021-11-06T10:07:19.409010Z",
     "shell.execute_reply": "2021-11-06T10:07:19.408479Z"
    },
    "papermill": {
     "duration": 0.568237,
     "end_time": "2021-11-06T10:07:19.409222",
     "exception": false,
     "start_time": "2021-11-06T10:07:18.840985",
     "status": "completed"
    },
    "tags": []
   },
   "outputs": [],
   "source": [
    "train_images = mnist.train_images()\n",
    "train_labels = mnist.train_labels()"
   ]
  },
  {
   "cell_type": "code",
   "execution_count": 6,
   "id": "dceab3a5",
   "metadata": {
    "execution": {
     "iopub.execute_input": "2021-11-06T10:07:19.466784Z",
     "iopub.status.busy": "2021-11-06T10:07:19.466266Z",
     "iopub.status.idle": "2021-11-06T10:07:19.481901Z",
     "shell.execute_reply": "2021-11-06T10:07:19.481162Z"
    },
    "papermill": {
     "duration": 0.046151,
     "end_time": "2021-11-06T10:07:19.482031",
     "exception": false,
     "start_time": "2021-11-06T10:07:19.435880",
     "status": "completed"
    },
    "tags": []
   },
   "outputs": [
    {
     "data": {
      "text/plain": [
       "((60000, 28, 28), (60000,))"
      ]
     },
     "execution_count": 6,
     "metadata": {},
     "output_type": "execute_result"
    }
   ],
   "source": [
    "train_images.shape, train_labels.shape"
   ]
  },
  {
   "cell_type": "code",
   "execution_count": 7,
   "id": "f50dc2bb",
   "metadata": {
    "execution": {
     "iopub.execute_input": "2021-11-06T10:07:19.541813Z",
     "iopub.status.busy": "2021-11-06T10:07:19.541094Z",
     "iopub.status.idle": "2021-11-06T10:07:19.684186Z",
     "shell.execute_reply": "2021-11-06T10:07:19.683724Z"
    },
    "papermill": {
     "duration": 0.174309,
     "end_time": "2021-11-06T10:07:19.684300",
     "exception": false,
     "start_time": "2021-11-06T10:07:19.509991",
     "status": "completed"
    },
    "tags": []
   },
   "outputs": [],
   "source": [
    "test_images = mnist.test_images()\n",
    "test_labels = mnist.test_labels()"
   ]
  },
  {
   "cell_type": "code",
   "execution_count": 8,
   "id": "fc38cf1b",
   "metadata": {
    "execution": {
     "iopub.execute_input": "2021-11-06T10:07:19.739595Z",
     "iopub.status.busy": "2021-11-06T10:07:19.738976Z",
     "iopub.status.idle": "2021-11-06T10:07:19.754458Z",
     "shell.execute_reply": "2021-11-06T10:07:19.753484Z"
    },
    "papermill": {
     "duration": 0.044612,
     "end_time": "2021-11-06T10:07:19.754680",
     "exception": false,
     "start_time": "2021-11-06T10:07:19.710068",
     "status": "completed"
    },
    "tags": []
   },
   "outputs": [
    {
     "data": {
      "text/plain": [
       "((10000, 28, 28), (10000,))"
      ]
     },
     "execution_count": 8,
     "metadata": {},
     "output_type": "execute_result"
    }
   ],
   "source": [
    "test_images.shape, test_labels.shape"
   ]
  },
  {
   "cell_type": "code",
   "execution_count": 9,
   "id": "f9ed8fe0",
   "metadata": {
    "execution": {
     "iopub.execute_input": "2021-11-06T10:07:19.812025Z",
     "iopub.status.busy": "2021-11-06T10:07:19.811512Z",
     "iopub.status.idle": "2021-11-06T10:07:19.986968Z",
     "shell.execute_reply": "2021-11-06T10:07:19.986448Z"
    },
    "papermill": {
     "duration": 0.204593,
     "end_time": "2021-11-06T10:07:19.987073",
     "exception": false,
     "start_time": "2021-11-06T10:07:19.782480",
     "status": "completed"
    },
    "tags": []
   },
   "outputs": [
    {
     "name": "stdout",
     "output_type": "stream",
     "text": [
      "2\n"
     ]
    },
    {
     "data": {
      "text/plain": [
       "<matplotlib.image.AxesImage at 0x7ff33df73080>"
      ]
     },
     "execution_count": 9,
     "metadata": {},
     "output_type": "execute_result"
    },
    {
     "data": {
      "image/png": "[encoded data removed]",
      "text/plain": [
       "<Figure size 432x288 with 1 Axes>"
      ]
     },
     "metadata": {
      "needs_background": "light"
     },
     "output_type": "display_data"
    }
   ],
   "source": [
    "image_index = 7776 # You may select anything up to 60,000\n",
    "print(train_labels[image_index]) \n",
    "plt.imshow(train_images[image_index], cmap='Greys')"
   ]
  },
  {
   "cell_type": "markdown",
   "id": "a8d2388d",
   "metadata": {
    "papermill": {
     "duration": 0.026446,
     "end_time": "2021-11-06T10:07:20.040551",
     "exception": false,
     "start_time": "2021-11-06T10:07:20.014105",
     "status": "completed"
    },
    "tags": []
   },
   "source": [
    "## Filter data to get 3 and 8 out"
   ]
  },
  {
   "cell_type": "code",
   "execution_count": 10,
   "id": "776f7fc7",
   "metadata": {
    "execution": {
     "iopub.execute_input": "2021-11-06T10:07:20.109991Z",
     "iopub.status.busy": "2021-11-06T10:07:20.105041Z",
     "iopub.status.idle": "2021-11-06T10:07:20.121218Z",
     "shell.execute_reply": "2021-11-06T10:07:20.121787Z"
    },
    "papermill": {
     "duration": 0.05246,
     "end_time": "2021-11-06T10:07:20.121977",
     "exception": false,
     "start_time": "2021-11-06T10:07:20.069517",
     "status": "completed"
    },
    "tags": []
   },
   "outputs": [],
   "source": [
    "train_filter = np.where((train_labels == 3 ) | (train_labels == 8))\n",
    "test_filter = np.where((test_labels == 3) | (test_labels == 8))\n",
    "X_train, y_train = train_images[train_filter], train_labels[train_filter]\n",
    "X_test, y_test = test_images[test_filter], test_labels[test_filter]"
   ]
  },
  {
   "cell_type": "markdown",
   "id": "948f0b7e",
   "metadata": {
    "papermill": {
     "duration": 0.028513,
     "end_time": "2021-11-06T10:07:20.177716",
     "exception": false,
     "start_time": "2021-11-06T10:07:20.149203",
     "status": "completed"
    },
    "tags": []
   },
   "source": [
    "We normalize the pizel values in the 0 to 1 range"
   ]
  },
  {
   "cell_type": "code",
   "execution_count": 11,
   "id": "ee4c2166",
   "metadata": {
    "execution": {
     "iopub.execute_input": "2021-11-06T10:07:20.238924Z",
     "iopub.status.busy": "2021-11-06T10:07:20.235338Z",
     "iopub.status.idle": "2021-11-06T10:07:20.298441Z",
     "shell.execute_reply": "2021-11-06T10:07:20.297781Z"
    },
    "papermill": {
     "duration": 0.093593,
     "end_time": "2021-11-06T10:07:20.298575",
     "exception": false,
     "start_time": "2021-11-06T10:07:20.204982",
     "status": "completed"
    },
    "tags": []
   },
   "outputs": [],
   "source": [
    "X_train = X_train/255.\n",
    "X_test = X_test/255."
   ]
  },
  {
   "cell_type": "markdown",
   "id": "ddcf4fab",
   "metadata": {
    "papermill": {
     "duration": 0.029036,
     "end_time": "2021-11-06T10:07:20.357151",
     "exception": false,
     "start_time": "2021-11-06T10:07:20.328115",
     "status": "completed"
    },
    "tags": []
   },
   "source": [
    "And setup the labels as 1 (when the digit is 3) and 0 (when the digit is 8)"
   ]
  },
  {
   "cell_type": "code",
   "execution_count": 12,
   "id": "7dc908f2",
   "metadata": {
    "execution": {
     "iopub.execute_input": "2021-11-06T10:07:20.417258Z",
     "iopub.status.busy": "2021-11-06T10:07:20.416742Z",
     "iopub.status.idle": "2021-11-06T10:07:20.428825Z",
     "shell.execute_reply": "2021-11-06T10:07:20.428341Z"
    },
    "papermill": {
     "duration": 0.041223,
     "end_time": "2021-11-06T10:07:20.428935",
     "exception": false,
     "start_time": "2021-11-06T10:07:20.387712",
     "status": "completed"
    },
    "tags": []
   },
   "outputs": [],
   "source": [
    "y_train = 1*(y_train==3)\n",
    "y_test = 1*(y_test==3)"
   ]
  },
  {
   "cell_type": "code",
   "execution_count": 13,
   "id": "01e4e969",
   "metadata": {
    "execution": {
     "iopub.execute_input": "2021-11-06T10:07:20.491737Z",
     "iopub.status.busy": "2021-11-06T10:07:20.491193Z",
     "iopub.status.idle": "2021-11-06T10:07:20.502580Z",
     "shell.execute_reply": "2021-11-06T10:07:20.502994Z"
    },
    "papermill": {
     "duration": 0.044831,
     "end_time": "2021-11-06T10:07:20.503110",
     "exception": false,
     "start_time": "2021-11-06T10:07:20.458279",
     "status": "completed"
    },
    "tags": []
   },
   "outputs": [
    {
     "data": {
      "text/plain": [
       "((11982, 28, 28), (1984, 28, 28))"
      ]
     },
     "execution_count": 13,
     "metadata": {},
     "output_type": "execute_result"
    }
   ],
   "source": [
    "X_train.shape, X_test.shape"
   ]
  },
  {
   "cell_type": "markdown",
   "id": "5ccf3f85",
   "metadata": {
    "papermill": {
     "duration": 0.029379,
     "end_time": "2021-11-06T10:07:20.562421",
     "exception": false,
     "start_time": "2021-11-06T10:07:20.533042",
     "status": "completed"
    },
    "tags": []
   },
   "source": [
    "We reshape the data to flatten the image pixels into a set of features or co-variates:"
   ]
  },
  {
   "cell_type": "code",
   "execution_count": 14,
   "id": "5286a4a3",
   "metadata": {
    "execution": {
     "iopub.execute_input": "2021-11-06T10:07:20.626215Z",
     "iopub.status.busy": "2021-11-06T10:07:20.625565Z",
     "iopub.status.idle": "2021-11-06T10:07:20.639554Z",
     "shell.execute_reply": "2021-11-06T10:07:20.639008Z"
    },
    "papermill": {
     "duration": 0.046831,
     "end_time": "2021-11-06T10:07:20.639664",
     "exception": false,
     "start_time": "2021-11-06T10:07:20.592833",
     "status": "completed"
    },
    "tags": []
   },
   "outputs": [
    {
     "data": {
      "text/plain": [
       "((11982, 784), (1984, 784))"
      ]
     },
     "execution_count": 14,
     "metadata": {},
     "output_type": "execute_result"
    }
   ],
   "source": [
    "X_train = X_train.reshape(X_train.shape[0], -1)\n",
    "X_test = X_test.reshape(X_test.shape[0], -1)\n",
    "X_train.shape, X_test.shape"
   ]
  },
  {
   "cell_type": "code",
   "execution_count": 15,
   "id": "73c5f88a",
   "metadata": {
    "execution": {
     "iopub.execute_input": "2021-11-06T10:07:20.701794Z",
     "iopub.status.busy": "2021-11-06T10:07:20.701219Z",
     "iopub.status.idle": "2021-11-06T10:07:20.719756Z",
     "shell.execute_reply": "2021-11-06T10:07:20.719205Z"
    },
    "papermill": {
     "duration": 0.052052,
     "end_time": "2021-11-06T10:07:20.719863",
     "exception": false,
     "start_time": "2021-11-06T10:07:20.667811",
     "status": "completed"
    },
    "tags": []
   },
   "outputs": [],
   "source": [
    "#Impoting functions from 'Kudzu'\n",
    "from kudzu.model import Model\n",
    "from kudzu.train import Learner\n",
    "from kudzu.optim import GD\n",
    "from kudzu.data import Data, Sampler,Dataloader\n",
    "\n",
    "from kudzu.callbacks import AccCallback\n",
    "from kudzu.callbacks import ClfCallback\n",
    "\n",
    "from kudzu.loss import MSE\n",
    "\n",
    "from kudzu.layer import Sigmoid,Relu\n",
    "from kudzu.layer import Affine"
   ]
  },
  {
   "cell_type": "markdown",
   "id": "bc01172a",
   "metadata": {
    "papermill": {
     "duration": 0.033759,
     "end_time": "2021-11-06T10:07:20.786717",
     "exception": false,
     "start_time": "2021-11-06T10:07:20.752958",
     "status": "completed"
    },
    "tags": []
   },
   "source": [
    "### Let us create a `Config` class, to store important parameters. \n",
    "This class essentially plays the role of a dictionary."
   ]
  },
  {
   "cell_type": "code",
   "execution_count": 16,
   "id": "978281aa",
   "metadata": {
    "execution": {
     "iopub.execute_input": "2021-11-06T10:07:20.858029Z",
     "iopub.status.busy": "2021-11-06T10:07:20.857377Z",
     "iopub.status.idle": "2021-11-06T10:07:20.870439Z",
     "shell.execute_reply": "2021-11-06T10:07:20.871123Z"
    },
    "papermill": {
     "duration": 0.053049,
     "end_time": "2021-11-06T10:07:20.871255",
     "exception": false,
     "start_time": "2021-11-06T10:07:20.818206",
     "status": "completed"
    },
    "tags": []
   },
   "outputs": [],
   "source": [
    "class Config:\n",
    "    pass\n",
    "config = Config()\n",
    "config.lr = 0.001\n",
    "config.num_epochs = 250\n",
    "config.bs = 50"
   ]
  },
  {
   "cell_type": "markdown",
   "id": "1385fa59",
   "metadata": {
    "papermill": {
     "duration": 0.033535,
     "end_time": "2021-11-06T10:07:20.937230",
     "exception": false,
     "start_time": "2021-11-06T10:07:20.903695",
     "status": "completed"
    },
    "tags": []
   },
   "source": [
    "### Running Models with the Training data\n",
    "Details about the network layers:\n",
    "- A first affine layer has 784 inputs and does 100 affine transforms. These are followed by a Relu\n",
    "- A second affine layer has 100 inputs from the 100 activations of the past layer, and does 100 affine transforms. These are followed by a Relu\n",
    "- A third affine layer has 100 activations and does 2 affine transformations to create an embedding for visualization. There is no non-linearity here.\n",
    "- A final \"logistic regression\" which has an affine transform from 2 inputs to 1 output, which is squeezed through a sigmoid.\n"
   ]
  },
  {
   "cell_type": "code",
   "execution_count": 17,
   "id": "2b9c66db",
   "metadata": {
    "execution": {
     "iopub.execute_input": "2021-11-06T10:07:21.007624Z",
     "iopub.status.busy": "2021-11-06T10:07:21.006990Z",
     "iopub.status.idle": "2021-11-06T10:07:21.018724Z",
     "shell.execute_reply": "2021-11-06T10:07:21.019273Z"
    },
    "papermill": {
     "duration": 0.049444,
     "end_time": "2021-11-06T10:07:21.019390",
     "exception": false,
     "start_time": "2021-11-06T10:07:20.969946",
     "status": "completed"
    },
    "tags": []
   },
   "outputs": [],
   "source": [
    "data = Data(X_train, y_train.reshape(-1,1))\n",
    "sampler = Sampler(data, config.bs, shuffle=True)\n",
    "\n",
    "dl = Dataloader(data, sampler)\n",
    "\n",
    "opt = GD(config.lr)\n",
    "loss = MSE()"
   ]
  },
  {
   "cell_type": "code",
   "execution_count": 18,
   "id": "b275e4c2",
   "metadata": {
    "execution": {
     "iopub.execute_input": "2021-11-06T10:07:21.082037Z",
     "iopub.status.busy": "2021-11-06T10:07:21.081482Z",
     "iopub.status.idle": "2021-11-06T10:07:21.093359Z",
     "shell.execute_reply": "2021-11-06T10:07:21.094011Z"
    },
    "papermill": {
     "duration": 0.045357,
     "end_time": "2021-11-06T10:07:21.094139",
     "exception": false,
     "start_time": "2021-11-06T10:07:21.048782",
     "status": "completed"
    },
    "tags": []
   },
   "outputs": [],
   "source": [
    "training_data_x = X_train\n",
    "testing_data_x = X_test\n",
    "training_data_y = y_train.reshape(-1,1)\n",
    "testing_data_y = y_test.reshape(-1,1)"
   ]
  },
  {
   "cell_type": "code",
   "execution_count": 19,
   "id": "76951160",
   "metadata": {
    "execution": {
     "iopub.execute_input": "2021-11-06T10:07:21.157022Z",
     "iopub.status.busy": "2021-11-06T10:07:21.156486Z",
     "iopub.status.idle": "2021-11-06T10:07:21.171474Z",
     "shell.execute_reply": "2021-11-06T10:07:21.170956Z"
    },
    "papermill": {
     "duration": 0.049591,
     "end_time": "2021-11-06T10:07:21.171624",
     "exception": false,
     "start_time": "2021-11-06T10:07:21.122033",
     "status": "completed"
    },
    "tags": []
   },
   "outputs": [
    {
     "name": "stdout",
     "output_type": "stream",
     "text": [
      "xavier\n",
      "xavier\n",
      "xavier\n",
      "xavier\n",
      "xavier\n"
     ]
    }
   ],
   "source": [
    "layers = [Affine(\"first\", 784, 100), Relu(\"first\"), Affine(\"second\", 100, 100), Relu(\"second\"), Affine(\"third\", 100, 2), Affine(\"last\", 2, 1), Sigmoid(\"last\")]\n",
    "model_nn = Model(layers)\n",
    "model_lr = Model([Affine(\"logits\", 784, 1), Sigmoid(\"sigmoid\")])"
   ]
  },
  {
   "cell_type": "code",
   "execution_count": 20,
   "id": "6eede77a",
   "metadata": {
    "execution": {
     "iopub.execute_input": "2021-11-06T10:07:21.235506Z",
     "iopub.status.busy": "2021-11-06T10:07:21.234864Z",
     "iopub.status.idle": "2021-11-06T10:07:21.245962Z",
     "shell.execute_reply": "2021-11-06T10:07:21.246447Z"
    },
    "papermill": {
     "duration": 0.043155,
     "end_time": "2021-11-06T10:07:21.246558",
     "exception": false,
     "start_time": "2021-11-06T10:07:21.203403",
     "status": "completed"
    },
    "tags": []
   },
   "outputs": [],
   "source": [
    "nn_learner = Learner(loss, model_nn, opt, config.num_epochs)\n",
    "acc_nn = ClfCallback(nn_learner, config.bs, training_data_x , testing_data_x, training_data_y, testing_data_y)\n",
    "nn_learner.set_callbacks([acc_nn])"
   ]
  },
  {
   "cell_type": "code",
   "execution_count": 21,
   "id": "877b6cc7",
   "metadata": {
    "execution": {
     "iopub.execute_input": "2021-11-06T10:07:21.311752Z",
     "iopub.status.busy": "2021-11-06T10:07:21.311131Z",
     "iopub.status.idle": "2021-11-06T10:07:21.322493Z",
     "shell.execute_reply": "2021-11-06T10:07:21.322958Z"
    },
    "papermill": {
     "duration": 0.046403,
     "end_time": "2021-11-06T10:07:21.323119",
     "exception": false,
     "start_time": "2021-11-06T10:07:21.276716",
     "status": "completed"
    },
    "tags": []
   },
   "outputs": [],
   "source": [
    "lr_learner = Learner(loss, model_lr, opt, config.num_epochs)\n",
    "acc_lr = ClfCallback(lr_learner, config.bs, training_data_x , testing_data_x, training_data_y, testing_data_y)\n",
    "lr_learner.set_callbacks([acc_lr])"
   ]
  },
  {
   "cell_type": "code",
   "execution_count": 22,
   "id": "d9b133c3",
   "metadata": {
    "execution": {
     "iopub.execute_input": "2021-11-06T10:07:21.388000Z",
     "iopub.status.busy": "2021-11-06T10:07:21.387443Z",
     "iopub.status.idle": "2021-11-06T10:09:36.906955Z",
     "shell.execute_reply": "2021-11-06T10:09:36.907708Z"
    },
    "papermill": {
     "duration": 135.555099,
     "end_time": "2021-11-06T10:09:36.907852",
     "exception": false,
     "start_time": "2021-11-06T10:07:21.352753",
     "status": "completed"
    },
    "tags": []
   },
   "outputs": [
    {
     "name": "stdout",
     "output_type": "stream",
     "text": [
      "Epoch 0, Loss 0.2448\n",
      "Training Accuracy: 0.6338, Testing Accuracy: 0.6527\n",
      "\n"
     ]
    },
    {
     "name": "stdout",
     "output_type": "stream",
     "text": [
      "Epoch 10, Loss 0.1857\n",
      "Training Accuracy: 0.8700, Testing Accuracy: 0.8871\n",
      "\n"
     ]
    },
    {
     "name": "stdout",
     "output_type": "stream",
     "text": [
      "Epoch 20, Loss 0.0947\n",
      "Training Accuracy: 0.9126, Testing Accuracy: 0.9249\n",
      "\n"
     ]
    },
    {
     "name": "stdout",
     "output_type": "stream",
     "text": [
      "Epoch 30, Loss 0.0607\n",
      "Training Accuracy: 0.9377, Testing Accuracy: 0.9471\n",
      "\n"
     ]
    },
    {
     "name": "stdout",
     "output_type": "stream",
     "text": [
      "Epoch 40, Loss 0.0473\n",
      "Training Accuracy: 0.9495, Testing Accuracy: 0.9582\n",
      "\n"
     ]
    },
    {
     "name": "stdout",
     "output_type": "stream",
     "text": [
      "Epoch 50, Loss 0.0406\n",
      "Training Accuracy: 0.9550, Testing Accuracy: 0.9602\n",
      "\n"
     ]
    },
    {
     "name": "stdout",
     "output_type": "stream",
     "text": [
      "Epoch 60, Loss 0.0365\n",
      "Training Accuracy: 0.9594, Testing Accuracy: 0.9642\n",
      "\n"
     ]
    },
    {
     "name": "stdout",
     "output_type": "stream",
     "text": [
      "Epoch 70, Loss 0.0339\n",
      "Training Accuracy: 0.9620, Testing Accuracy: 0.9647\n",
      "\n"
     ]
    },
    {
     "name": "stdout",
     "output_type": "stream",
     "text": [
      "Epoch 80, Loss 0.0319\n",
      "Training Accuracy: 0.9639, Testing Accuracy: 0.9672\n",
      "\n"
     ]
    },
    {
     "name": "stdout",
     "output_type": "stream",
     "text": [
      "Epoch 90, Loss 0.0304\n",
      "Training Accuracy: 0.9657, Testing Accuracy: 0.9672\n",
      "\n"
     ]
    },
    {
     "name": "stdout",
     "output_type": "stream",
     "text": [
      "Epoch 100, Loss 0.0292\n",
      "Training Accuracy: 0.9669, Testing Accuracy: 0.9662\n",
      "\n"
     ]
    },
    {
     "name": "stdout",
     "output_type": "stream",
     "text": [
      "Epoch 110, Loss 0.0282\n",
      "Training Accuracy: 0.9677, Testing Accuracy: 0.9667\n",
      "\n"
     ]
    },
    {
     "name": "stdout",
     "output_type": "stream",
     "text": [
      "Epoch 120, Loss 0.0273\n",
      "Training Accuracy: 0.9686, Testing Accuracy: 0.9667\n",
      "\n"
     ]
    },
    {
     "name": "stdout",
     "output_type": "stream",
     "text": [
      "Epoch 130, Loss 0.0266\n",
      "Training Accuracy: 0.9695, Testing Accuracy: 0.9667\n",
      "\n"
     ]
    },
    {
     "name": "stdout",
     "output_type": "stream",
     "text": [
      "Epoch 140, Loss 0.0259\n",
      "Training Accuracy: 0.9704, Testing Accuracy: 0.9667\n",
      "\n"
     ]
    },
    {
     "name": "stdout",
     "output_type": "stream",
     "text": [
      "Epoch 150, Loss 0.0253\n",
      "Training Accuracy: 0.9711, Testing Accuracy: 0.9677\n",
      "\n"
     ]
    },
    {
     "name": "stdout",
     "output_type": "stream",
     "text": [
      "Epoch 160, Loss 0.0247\n",
      "Training Accuracy: 0.9717, Testing Accuracy: 0.9672\n",
      "\n"
     ]
    },
    {
     "name": "stdout",
     "output_type": "stream",
     "text": [
      "Epoch 170, Loss 0.0242\n",
      "Training Accuracy: 0.9720, Testing Accuracy: 0.9688\n",
      "\n"
     ]
    },
    {
     "name": "stdout",
     "output_type": "stream",
     "text": [
      "Epoch 180, Loss 0.0237\n",
      "Training Accuracy: 0.9725, Testing Accuracy: 0.9688\n",
      "\n"
     ]
    },
    {
     "name": "stdout",
     "output_type": "stream",
     "text": [
      "Epoch 190, Loss 0.0233\n",
      "Training Accuracy: 0.9729, Testing Accuracy: 0.9693\n",
      "\n"
     ]
    },
    {
     "name": "stdout",
     "output_type": "stream",
     "text": [
      "Epoch 200, Loss 0.0229\n",
      "Training Accuracy: 0.9731, Testing Accuracy: 0.9693\n",
      "\n"
     ]
    },
    {
     "name": "stdout",
     "output_type": "stream",
     "text": [
      "Epoch 210, Loss 0.0225\n",
      "Training Accuracy: 0.9738, Testing Accuracy: 0.9693\n",
      "\n"
     ]
    },
    {
     "name": "stdout",
     "output_type": "stream",
     "text": [
      "Epoch 220, Loss 0.0221\n",
      "Training Accuracy: 0.9743, Testing Accuracy: 0.9693\n",
      "\n"
     ]
    },
    {
     "name": "stdout",
     "output_type": "stream",
     "text": [
      "Epoch 230, Loss 0.0218\n",
      "Training Accuracy: 0.9748, Testing Accuracy: 0.9693\n",
      "\n"
     ]
    },
    {
     "name": "stdout",
     "output_type": "stream",
     "text": [
      "Epoch 240, Loss 0.0214\n",
      "Training Accuracy: 0.9750, Testing Accuracy: 0.9693\n",
      "\n"
     ]
    },
    {
     "data": {
      "text/plain": [
       "0.010837947872729854"
      ]
     },
     "execution_count": 22,
     "metadata": {},
     "output_type": "execute_result"
    }
   ],
   "source": [
    "nn_learner.train_loop(dl)"
   ]
  },
  {
   "cell_type": "code",
   "execution_count": 23,
   "id": "e0163366",
   "metadata": {
    "execution": {
     "iopub.execute_input": "2021-11-06T10:09:36.992430Z",
     "iopub.status.busy": "2021-11-06T10:09:36.991768Z",
     "iopub.status.idle": "2021-11-06T10:09:56.413731Z",
     "shell.execute_reply": "2021-11-06T10:09:56.414624Z"
    },
    "papermill": {
     "duration": 19.469611,
     "end_time": "2021-11-06T10:09:56.414779",
     "exception": false,
     "start_time": "2021-11-06T10:09:36.945168",
     "status": "completed"
    },
    "tags": []
   },
   "outputs": [
    {
     "name": "stdout",
     "output_type": "stream",
     "text": [
      "Epoch 0, Loss 0.2271\n",
      "Training Accuracy: 0.7260, Testing Accuracy: 0.7560\n",
      "\n"
     ]
    },
    {
     "name": "stdout",
     "output_type": "stream",
     "text": [
      "Epoch 10, Loss 0.103\n",
      "Training Accuracy: 0.9079, Testing Accuracy: 0.9199\n",
      "\n"
     ]
    },
    {
     "name": "stdout",
     "output_type": "stream",
     "text": [
      "Epoch 20, Loss 0.0795\n",
      "Training Accuracy: 0.9260, Testing Accuracy: 0.9375\n",
      "\n"
     ]
    },
    {
     "name": "stdout",
     "output_type": "stream",
     "text": [
      "Epoch 30, Loss 0.0686\n",
      "Training Accuracy: 0.9347, Testing Accuracy: 0.9451\n",
      "\n"
     ]
    },
    {
     "name": "stdout",
     "output_type": "stream",
     "text": [
      "Epoch 40, Loss 0.062\n",
      "Training Accuracy: 0.9406, Testing Accuracy: 0.9531\n",
      "\n"
     ]
    },
    {
     "name": "stdout",
     "output_type": "stream",
     "text": [
      "Epoch 50, Loss 0.0575\n",
      "Training Accuracy: 0.9427, Testing Accuracy: 0.9556\n",
      "\n"
     ]
    },
    {
     "name": "stdout",
     "output_type": "stream",
     "text": [
      "Epoch 60, Loss 0.0542\n",
      "Training Accuracy: 0.9456, Testing Accuracy: 0.9572\n",
      "\n"
     ]
    },
    {
     "name": "stdout",
     "output_type": "stream",
     "text": [
      "Epoch 70, Loss 0.0516\n",
      "Training Accuracy: 0.9470, Testing Accuracy: 0.9587\n",
      "\n"
     ]
    },
    {
     "name": "stdout",
     "output_type": "stream",
     "text": [
      "Epoch 80, Loss 0.0495\n",
      "Training Accuracy: 0.9489, Testing Accuracy: 0.9582\n",
      "\n"
     ]
    },
    {
     "name": "stdout",
     "output_type": "stream",
     "text": [
      "Epoch 90, Loss 0.0478\n",
      "Training Accuracy: 0.9497, Testing Accuracy: 0.9602\n",
      "\n"
     ]
    },
    {
     "name": "stdout",
     "output_type": "stream",
     "text": [
      "Epoch 100, Loss 0.0464\n",
      "Training Accuracy: 0.9508, Testing Accuracy: 0.9627\n",
      "\n"
     ]
    },
    {
     "name": "stdout",
     "output_type": "stream",
     "text": [
      "Epoch 110, Loss 0.0452\n",
      "Training Accuracy: 0.9519, Testing Accuracy: 0.9627\n",
      "\n"
     ]
    },
    {
     "name": "stdout",
     "output_type": "stream",
     "text": [
      "Epoch 120, Loss 0.0441\n",
      "Training Accuracy: 0.9529, Testing Accuracy: 0.9627\n",
      "\n"
     ]
    },
    {
     "name": "stdout",
     "output_type": "stream",
     "text": [
      "Epoch 130, Loss 0.0432\n",
      "Training Accuracy: 0.9538, Testing Accuracy: 0.9632\n",
      "\n"
     ]
    },
    {
     "name": "stdout",
     "output_type": "stream",
     "text": [
      "Epoch 140, Loss 0.0423\n",
      "Training Accuracy: 0.9545, Testing Accuracy: 0.9632\n",
      "\n"
     ]
    },
    {
     "name": "stdout",
     "output_type": "stream",
     "text": [
      "Epoch 150, Loss 0.0416\n",
      "Training Accuracy: 0.9551, Testing Accuracy: 0.9647\n",
      "\n"
     ]
    },
    {
     "name": "stdout",
     "output_type": "stream",
     "text": [
      "Epoch 160, Loss 0.0409\n",
      "Training Accuracy: 0.9559, Testing Accuracy: 0.9642\n",
      "\n"
     ]
    },
    {
     "name": "stdout",
     "output_type": "stream",
     "text": [
      "Epoch 170, Loss 0.0403\n",
      "Training Accuracy: 0.9568, Testing Accuracy: 0.9642\n",
      "\n"
     ]
    },
    {
     "name": "stdout",
     "output_type": "stream",
     "text": [
      "Epoch 180, Loss 0.0397\n",
      "Training Accuracy: 0.9575, Testing Accuracy: 0.9647\n",
      "\n"
     ]
    },
    {
     "name": "stdout",
     "output_type": "stream",
     "text": [
      "Epoch 190, Loss 0.0392\n",
      "Training Accuracy: 0.9579, Testing Accuracy: 0.9647\n",
      "\n"
     ]
    },
    {
     "name": "stdout",
     "output_type": "stream",
     "text": [
      "Epoch 200, Loss 0.0387\n",
      "Training Accuracy: 0.9584, Testing Accuracy: 0.9647\n",
      "\n"
     ]
    },
    {
     "name": "stdout",
     "output_type": "stream",
     "text": [
      "Epoch 210, Loss 0.0383\n",
      "Training Accuracy: 0.9594, Testing Accuracy: 0.9652\n",
      "\n"
     ]
    },
    {
     "name": "stdout",
     "output_type": "stream",
     "text": [
      "Epoch 220, Loss 0.0378\n",
      "Training Accuracy: 0.9595, Testing Accuracy: 0.9657\n",
      "\n"
     ]
    },
    {
     "name": "stdout",
     "output_type": "stream",
     "text": [
      "Epoch 230, Loss 0.0374\n",
      "Training Accuracy: 0.9598, Testing Accuracy: 0.9662\n",
      "\n"
     ]
    },
    {
     "name": "stdout",
     "output_type": "stream",
     "text": [
      "Epoch 240, Loss 0.0371\n",
      "Training Accuracy: 0.9600, Testing Accuracy: 0.9667\n",
      "\n"
     ]
    },
    {
     "data": {
      "text/plain": [
       "0.029743058397757746"
      ]
     },
     "execution_count": 23,
     "metadata": {},
     "output_type": "execute_result"
    }
   ],
   "source": [
    "lr_learner.train_loop(dl)"
   ]
  },
  {
   "cell_type": "code",
   "execution_count": 24,
   "id": "ca410940",
   "metadata": {
    "execution": {
     "iopub.execute_input": "2021-11-06T10:09:56.525392Z",
     "iopub.status.busy": "2021-11-06T10:09:56.524744Z",
     "iopub.status.idle": "2021-11-06T10:09:56.812874Z",
     "shell.execute_reply": "2021-11-06T10:09:56.812194Z"
    },
    "papermill": {
     "duration": 0.340032,
     "end_time": "2021-11-06T10:09:56.812999",
     "exception": false,
     "start_time": "2021-11-06T10:09:56.472967",
     "status": "completed"
    },
    "tags": []
   },
   "outputs": [
    {
     "data": {
      "text/plain": [
       "<matplotlib.legend.Legend at 0x7ff330747710>"
      ]
     },
     "execution_count": 24,
     "metadata": {},
     "output_type": "execute_result"
    },
    {
     "data": {
      "image/png": "[encoded data removed]",
      "text/plain": [
       "<Figure size 1080x720 with 1 Axes>"
      ]
     },
     "metadata": {
      "needs_background": "light"
     },
     "output_type": "display_data"
    }
   ],
   "source": [
    "#comparing the results of NN and LR\n",
    "plt.figure(figsize=(15,10))\n",
    "\n",
    "# Neural Network plots\n",
    "plt.plot(acc_nn.accuracies, 'r-', label = \"Training Accuracies - NN\")\n",
    "plt.plot(acc_nn.test_accuracies, 'g-', label = \"Testing Accuracies - NN\")\n",
    "\n",
    "# Logistic Regression plots\n",
    "plt.plot(acc_lr.accuracies, 'k-', label = \"Training Accuracies - LR\")\n",
    "plt.plot(acc_lr.test_accuracies, 'b-', label = \"Testing Accuracies - LR\")\n",
    "plt.legend()"
   ]
  },
  {
   "cell_type": "markdown",
   "id": "80dfb35c",
   "metadata": {
    "papermill": {
     "duration": 0.047492,
     "end_time": "2021-11-06T10:09:56.908369",
     "exception": false,
     "start_time": "2021-11-06T10:09:56.860877",
     "status": "completed"
    },
    "tags": []
   },
   "source": [
    "#### Plotting the outputs of this layer of the NN.\n"
   ]
  },
  {
   "cell_type": "code",
   "execution_count": 25,
   "id": "45eb2ff5",
   "metadata": {
    "execution": {
     "iopub.execute_input": "2021-11-06T10:09:57.016323Z",
     "iopub.status.busy": "2021-11-06T10:09:57.015622Z",
     "iopub.status.idle": "2021-11-06T10:09:57.039079Z",
     "shell.execute_reply": "2021-11-06T10:09:57.039848Z"
    },
    "papermill": {
     "duration": 0.08157,
     "end_time": "2021-11-06T10:09:57.039978",
     "exception": false,
     "start_time": "2021-11-06T10:09:56.958408",
     "status": "completed"
    },
    "tags": []
   },
   "outputs": [],
   "source": [
    "new_model = Model(layers[:-2])\n",
    "testing_plot = new_model(testing_data_x)"
   ]
  },
  {
   "cell_type": "code",
   "execution_count": 26,
   "id": "4c0a5485",
   "metadata": {
    "execution": {
     "iopub.execute_input": "2021-11-06T10:09:57.148308Z",
     "iopub.status.busy": "2021-11-06T10:09:57.147270Z",
     "iopub.status.idle": "2021-11-06T10:09:57.396067Z",
     "shell.execute_reply": "2021-11-06T10:09:57.395505Z"
    },
    "papermill": {
     "duration": 0.304091,
     "end_time": "2021-11-06T10:09:57.396187",
     "exception": false,
     "start_time": "2021-11-06T10:09:57.092096",
     "status": "completed"
    },
    "tags": []
   },
   "outputs": [
    {
     "data": {
      "text/plain": [
       "Text(0.5, 1.0, 'Outputs')"
      ]
     },
     "execution_count": 26,
     "metadata": {},
     "output_type": "execute_result"
    },
    {
     "data": {
      "image/png": "[encoded data removed]",
      "text/plain": [
       "<Figure size 576x504 with 1 Axes>"
      ]
     },
     "metadata": {
      "needs_background": "light"
     },
     "output_type": "display_data"
    }
   ],
   "source": [
    "# Plotting the scatter plot of points and color coding by class\n",
    "plt.figure(figsize=(8,7))\n",
    "plt.scatter(testing_plot[:,0], testing_plot[:,1], alpha = 0.1, c = y_test.ravel());\n",
    "plt.title('Outputs')"
   ]
  },
  {
   "cell_type": "markdown",
   "id": "a74fcf8f",
   "metadata": {
    "papermill": {
     "duration": 0.051228,
     "end_time": "2021-11-06T10:09:57.497490",
     "exception": false,
     "start_time": "2021-11-06T10:09:57.446262",
     "status": "completed"
    },
    "tags": []
   },
   "source": [
    "Probability contours"
   ]
  },
  {
   "cell_type": "code",
   "execution_count": 27,
   "id": "d0afc8e3",
   "metadata": {
    "execution": {
     "iopub.execute_input": "2021-11-06T10:09:57.601477Z",
     "iopub.status.busy": "2021-11-06T10:09:57.599779Z",
     "iopub.status.idle": "2021-11-06T10:09:57.610978Z",
     "shell.execute_reply": "2021-11-06T10:09:57.611416Z"
    },
    "papermill": {
     "duration": 0.067757,
     "end_time": "2021-11-06T10:09:57.611594",
     "exception": false,
     "start_time": "2021-11-06T10:09:57.543837",
     "status": "completed"
    },
    "tags": []
   },
   "outputs": [],
   "source": [
    "model_prob = Model(layers[-2:]) "
   ]
  },
  {
   "cell_type": "code",
   "execution_count": 28,
   "id": "9b96e238",
   "metadata": {
    "execution": {
     "iopub.execute_input": "2021-11-06T10:09:57.736475Z",
     "iopub.status.busy": "2021-11-06T10:09:57.735520Z",
     "iopub.status.idle": "2021-11-06T10:09:57.749153Z",
     "shell.execute_reply": "2021-11-06T10:09:57.749558Z"
    },
    "papermill": {
     "duration": 0.086153,
     "end_time": "2021-11-06T10:09:57.749701",
     "exception": false,
     "start_time": "2021-11-06T10:09:57.663548",
     "status": "completed"
    },
    "tags": []
   },
   "outputs": [],
   "source": [
    "#creating the x and y ranges according to the above generated plot.\n",
    "x_range = np.linspace(-4, 1, 100) \n",
    "y_range = np.linspace(-6, 6, 100) \n",
    "x_grid, y_grid = np.meshgrid(x_range, y_range) # x_grid and y_grig are of size 100 X 100\n",
    "\n",
    "# converting x_grid and y_grid to continuous arrays\n",
    "x_gridflat = np.ravel(x_grid)\n",
    "y_gridflat = np.ravel(y_grid)\n",
    "\n",
    "# The last layer of the current model takes two columns as input. Hence transpose of np.vstack() is required.\n",
    "X = np.vstack((x_gridflat, y_gridflat)).T\n",
    "\n",
    "prob_contour = model_prob(X).reshape(100,100) "
   ]
  },
  {
   "cell_type": "code",
   "execution_count": 29,
   "id": "da72499a",
   "metadata": {
    "execution": {
     "iopub.execute_input": "2021-11-06T10:09:57.859426Z",
     "iopub.status.busy": "2021-11-06T10:09:57.858875Z",
     "iopub.status.idle": "2021-11-06T10:09:58.172103Z",
     "shell.execute_reply": "2021-11-06T10:09:58.171362Z"
    },
    "papermill": {
     "duration": 0.373975,
     "end_time": "2021-11-06T10:09:58.172331",
     "exception": false,
     "start_time": "2021-11-06T10:09:57.798356",
     "status": "completed"
    },
    "tags": []
   },
   "outputs": [
    {
     "data": {
      "image/png": "[encoded data removed]",
      "text/plain": [
       "<Figure size 720x648 with 1 Axes>"
      ]
     },
     "metadata": {
      "needs_background": "light"
     },
     "output_type": "display_data"
    }
   ],
   "source": [
    "plt.figure(figsize=(10,9))\n",
    "plt.scatter(testing_plot[:,0], testing_plot[:,1], alpha = 0.1, c = y_test.ravel())\n",
    "contours = plt.contour(x_grid,y_grid,prob_contour)\n",
    "plt.title('Probability Contours')\n",
    "plt.clabel(contours, inline = True );"
   ]
  },
  {
   "cell_type": "code",
   "execution_count": null,
   "id": "e81b4ac7",
   "metadata": {
    "papermill": {
     "duration": 0.053841,
     "end_time": "2021-11-06T10:09:58.278373",
     "exception": false,
     "start_time": "2021-11-06T10:09:58.224532",
     "status": "completed"
    },
    "tags": []
   },
   "outputs": [],
   "source": []
  }
 ],
 "metadata": {
  "kernelspec": {
   "display_name": "Python 3",
   "language": "python",
   "name": "python3"
  },
  "language_info": {
   "codemirror_mode": {
    "name": "ipython",
    "version": 3
   },
   "file_extension": ".py",
   "mimetype": "text/x-python",
   "name": "python",
   "nbconvert_exporter": "python",
   "pygments_lexer": "ipython3",
   "version": "3.6.15"
  },
  "papermill": {
   "default_parameters": {},
   "duration": 163.620524,
   "end_time": "2021-11-06T10:09:58.636602",
   "environment_variables": {},
   "exception": null,
   "input_path": "2020-08-11-part2.ipynb",
   "output_path": "2020-08-11-part2.ipynb",
   "parameters": {},
   "start_time": "2021-11-06T10:07:15.016078",
   "version": "2.3.3"
  }
 },
 "nbformat": 4,
 "nbformat_minor": 5
}