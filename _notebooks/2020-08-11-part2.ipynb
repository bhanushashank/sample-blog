{
 "cells": [
  {
   "cell_type": "markdown",
   "id": "98380cd3",
   "metadata": {
    "papermill": {
     "duration": 0.028408,
     "end_time": "2022-02-13T20:07:58.268562",
     "exception": false,
     "start_time": "2022-02-13T20:07:58.240154",
     "status": "completed"
    },
    "tags": []
   },
   "source": [
    "# Distinguish Your Own Digits (DYOD)"
   ]
  },
  {
   "cell_type": "markdown",
   "id": "ef31240d",
   "metadata": {
    "papermill": {
     "duration": 0.025103,
     "end_time": "2022-02-13T20:07:58.318072",
     "exception": false,
     "start_time": "2022-02-13T20:07:58.292969",
     "status": "completed"
    },
    "tags": []
   },
   "source": [
    "You are going to write a classifier that distinguishes between the number 3 and number 8."
   ]
  },
  {
   "cell_type": "code",
   "execution_count": 1,
   "id": "b15c8646",
   "metadata": {
    "execution": {
     "iopub.execute_input": "2022-02-13T20:07:58.376643Z",
     "iopub.status.busy": "2022-02-13T20:07:58.376117Z",
     "iopub.status.idle": "2022-02-13T20:07:58.387771Z",
     "shell.execute_reply": "2022-02-13T20:07:58.387318Z"
    },
    "papermill": {
     "duration": 0.046119,
     "end_time": "2022-02-13T20:07:58.387897",
     "exception": false,
     "start_time": "2022-02-13T20:07:58.341778",
     "status": "completed"
    },
    "tags": []
   },
   "outputs": [],
   "source": [
    "%load_ext autoreload\n",
    "%autoreload 2"
   ]
  },
  {
   "cell_type": "code",
   "execution_count": 2,
   "id": "22ef38dc",
   "metadata": {
    "execution": {
     "iopub.execute_input": "2022-02-13T20:07:58.440022Z",
     "iopub.status.busy": "2022-02-13T20:07:58.439520Z",
     "iopub.status.idle": "2022-02-13T20:07:59.015902Z",
     "shell.execute_reply": "2022-02-13T20:07:59.015373Z"
    },
    "papermill": {
     "duration": 0.604218,
     "end_time": "2022-02-13T20:07:59.016045",
     "exception": false,
     "start_time": "2022-02-13T20:07:58.411827",
     "status": "completed"
    },
    "tags": []
   },
   "outputs": [],
   "source": [
    "%matplotlib inline\n",
    "import numpy as np\n",
    "import matplotlib.pyplot as plt\n",
    "import pandas as pd"
   ]
  },
  {
   "cell_type": "markdown",
   "id": "ba036198",
   "metadata": {
    "papermill": {
     "duration": 0.024091,
     "end_time": "2022-02-13T20:07:59.064248",
     "exception": false,
     "start_time": "2022-02-13T20:07:59.040157",
     "status": "completed"
    },
    "tags": []
   },
   "source": [
    "From the command line run `pip install mnist`. This is a library that will help you bring down the mnist dataset. If you run this from a notebook, you need to put  `!pip install mnist` in a cell by itself."
   ]
  },
  {
   "cell_type": "code",
   "execution_count": 3,
   "id": "bb6ad8a1",
   "metadata": {
    "execution": {
     "iopub.execute_input": "2022-02-13T20:07:59.119357Z",
     "iopub.status.busy": "2022-02-13T20:07:59.118839Z",
     "iopub.status.idle": "2022-02-13T20:08:00.820870Z",
     "shell.execute_reply": "2022-02-13T20:08:00.820315Z"
    },
    "papermill": {
     "duration": 1.732654,
     "end_time": "2022-02-13T20:08:00.821008",
     "exception": false,
     "start_time": "2022-02-13T20:07:59.088354",
     "status": "completed"
    },
    "tags": []
   },
   "outputs": [
    {
     "name": "stdout",
     "output_type": "stream",
     "text": [
      "Collecting mnist\r\n"
     ]
    },
    {
     "name": "stdout",
     "output_type": "stream",
     "text": [
      "  Downloading mnist-0.2.2-py2.py3-none-any.whl (3.5 kB)\r\n"
     ]
    },
    {
     "name": "stdout",
     "output_type": "stream",
     "text": [
      "Requirement already satisfied: numpy in /opt/hostedtoolcache/Python/3.6.15/x64/lib/python3.6/site-packages (from mnist) (1.19.5)\r\n"
     ]
    },
    {
     "name": "stdout",
     "output_type": "stream",
     "text": [
      "Installing collected packages: mnist\r\n"
     ]
    },
    {
     "name": "stdout",
     "output_type": "stream",
     "text": [
      "Successfully installed mnist-0.2.2\r\n"
     ]
    }
   ],
   "source": [
    "!pip install mnist"
   ]
  },
  {
   "cell_type": "markdown",
   "id": "69df9c9a",
   "metadata": {
    "papermill": {
     "duration": 0.025695,
     "end_time": "2022-02-13T20:08:00.872583",
     "exception": false,
     "start_time": "2022-02-13T20:08:00.846888",
     "status": "completed"
    },
    "tags": []
   },
   "source": [
    "## Preparing the Data"
   ]
  },
  {
   "cell_type": "code",
   "execution_count": 4,
   "id": "7f69d806",
   "metadata": {
    "execution": {
     "iopub.execute_input": "2022-02-13T20:08:00.938528Z",
     "iopub.status.busy": "2022-02-13T20:08:00.929985Z",
     "iopub.status.idle": "2022-02-13T20:08:00.942255Z",
     "shell.execute_reply": "2022-02-13T20:08:00.941842Z"
    },
    "papermill": {
     "duration": 0.044566,
     "end_time": "2022-02-13T20:08:00.942367",
     "exception": false,
     "start_time": "2022-02-13T20:08:00.897801",
     "status": "completed"
    },
    "tags": []
   },
   "outputs": [],
   "source": [
    "import mnist"
   ]
  },
  {
   "cell_type": "code",
   "execution_count": 5,
   "id": "a411e44f",
   "metadata": {
    "execution": {
     "iopub.execute_input": "2022-02-13T20:08:00.997340Z",
     "iopub.status.busy": "2022-02-13T20:08:00.996809Z",
     "iopub.status.idle": "2022-02-13T20:08:01.786108Z",
     "shell.execute_reply": "2022-02-13T20:08:01.785499Z"
    },
    "papermill": {
     "duration": 0.818582,
     "end_time": "2022-02-13T20:08:01.786244",
     "exception": false,
     "start_time": "2022-02-13T20:08:00.967662",
     "status": "completed"
    },
    "tags": []
   },
   "outputs": [],
   "source": [
    "train_images = mnist.train_images()\n",
    "train_labels = mnist.train_labels()"
   ]
  },
  {
   "cell_type": "code",
   "execution_count": 6,
   "id": "dceab3a5",
   "metadata": {
    "execution": {
     "iopub.execute_input": "2022-02-13T20:08:01.841018Z",
     "iopub.status.busy": "2022-02-13T20:08:01.840511Z",
     "iopub.status.idle": "2022-02-13T20:08:01.855013Z",
     "shell.execute_reply": "2022-02-13T20:08:01.854586Z"
    },
    "papermill": {
     "duration": 0.04271,
     "end_time": "2022-02-13T20:08:01.855122",
     "exception": false,
     "start_time": "2022-02-13T20:08:01.812412",
     "status": "completed"
    },
    "tags": []
   },
   "outputs": [
    {
     "data": {
      "text/plain": [
       "((60000, 28, 28), (60000,))"
      ]
     },
     "execution_count": 6,
     "metadata": {},
     "output_type": "execute_result"
    }
   ],
   "source": [
    "train_images.shape, train_labels.shape"
   ]
  },
  {
   "cell_type": "code",
   "execution_count": 7,
   "id": "f50dc2bb",
   "metadata": {
    "execution": {
     "iopub.execute_input": "2022-02-13T20:08:01.909252Z",
     "iopub.status.busy": "2022-02-13T20:08:01.908721Z",
     "iopub.status.idle": "2022-02-13T20:08:02.270017Z",
     "shell.execute_reply": "2022-02-13T20:08:02.269427Z"
    },
    "papermill": {
     "duration": 0.389652,
     "end_time": "2022-02-13T20:08:02.270147",
     "exception": false,
     "start_time": "2022-02-13T20:08:01.880495",
     "status": "completed"
    },
    "tags": []
   },
   "outputs": [],
   "source": [
    "test_images = mnist.test_images()\n",
    "test_labels = mnist.test_labels()"
   ]
  },
  {
   "cell_type": "code",
   "execution_count": 8,
   "id": "fc38cf1b",
   "metadata": {
    "execution": {
     "iopub.execute_input": "2022-02-13T20:08:02.327111Z",
     "iopub.status.busy": "2022-02-13T20:08:02.326444Z",
     "iopub.status.idle": "2022-02-13T20:08:02.339038Z",
     "shell.execute_reply": "2022-02-13T20:08:02.338620Z"
    },
    "papermill": {
     "duration": 0.042067,
     "end_time": "2022-02-13T20:08:02.339149",
     "exception": false,
     "start_time": "2022-02-13T20:08:02.297082",
     "status": "completed"
    },
    "tags": []
   },
   "outputs": [
    {
     "data": {
      "text/plain": [
       "((10000, 28, 28), (10000,))"
      ]
     },
     "execution_count": 8,
     "metadata": {},
     "output_type": "execute_result"
    }
   ],
   "source": [
    "test_images.shape, test_labels.shape"
   ]
  },
  {
   "cell_type": "code",
   "execution_count": 9,
   "id": "f9ed8fe0",
   "metadata": {
    "execution": {
     "iopub.execute_input": "2022-02-13T20:08:02.394509Z",
     "iopub.status.busy": "2022-02-13T20:08:02.394000Z",
     "iopub.status.idle": "2022-02-13T20:08:02.528063Z",
     "shell.execute_reply": "2022-02-13T20:08:02.528530Z"
    },
    "papermill": {
     "duration": 0.163773,
     "end_time": "2022-02-13T20:08:02.528687",
     "exception": false,
     "start_time": "2022-02-13T20:08:02.364914",
     "status": "completed"
    },
    "tags": []
   },
   "outputs": [
    {
     "name": "stdout",
     "output_type": "stream",
     "text": [
      "2\n"
     ]
    },
    {
     "data": {
      "text/plain": [
       "<matplotlib.image.AxesImage at 0x7f20279b84e0>"
      ]
     },
     "execution_count": 9,
     "metadata": {},
     "output_type": "execute_result"
    },
    {
     "data": {
      "image/png": "[encoded data removed]",
      "text/plain": [
       "<Figure size 432x288 with 1 Axes>"
      ]
     },
     "metadata": {
      "needs_background": "light"
     },
     "output_type": "display_data"
    }
   ],
   "source": [
    "image_index = 7776 # You may select anything up to 60,000\n",
    "print(train_labels[image_index]) \n",
    "plt.imshow(train_images[image_index], cmap='Greys')"
   ]
  },
  {
   "cell_type": "markdown",
   "id": "a8d2388d",
   "metadata": {
    "papermill": {
     "duration": 0.027605,
     "end_time": "2022-02-13T20:08:02.584555",
     "exception": false,
     "start_time": "2022-02-13T20:08:02.556950",
     "status": "completed"
    },
    "tags": []
   },
   "source": [
    "## Filter data to get 3 and 8 out"
   ]
  },
  {
   "cell_type": "code",
   "execution_count": 10,
   "id": "776f7fc7",
   "metadata": {
    "execution": {
     "iopub.execute_input": "2022-02-13T20:08:02.658343Z",
     "iopub.status.busy": "2022-02-13T20:08:02.654099Z",
     "iopub.status.idle": "2022-02-13T20:08:02.665419Z",
     "shell.execute_reply": "2022-02-13T20:08:02.664981Z"
    },
    "papermill": {
     "duration": 0.05367,
     "end_time": "2022-02-13T20:08:02.665534",
     "exception": false,
     "start_time": "2022-02-13T20:08:02.611864",
     "status": "completed"
    },
    "tags": []
   },
   "outputs": [],
   "source": [
    "train_filter = np.where((train_labels == 3 ) | (train_labels == 8))\n",
    "test_filter = np.where((test_labels == 3) | (test_labels == 8))\n",
    "X_train, y_train = train_images[train_filter], train_labels[train_filter]\n",
    "X_test, y_test = test_images[test_filter], test_labels[test_filter]"
   ]
  },
  {
   "cell_type": "markdown",
   "id": "948f0b7e",
   "metadata": {
    "papermill": {
     "duration": 0.027188,
     "end_time": "2022-02-13T20:08:02.719674",
     "exception": false,
     "start_time": "2022-02-13T20:08:02.692486",
     "status": "completed"
    },
    "tags": []
   },
   "source": [
    "We normalize the pizel values in the 0 to 1 range"
   ]
  },
  {
   "cell_type": "code",
   "execution_count": 11,
   "id": "ee4c2166",
   "metadata": {
    "execution": {
     "iopub.execute_input": "2022-02-13T20:08:02.776453Z",
     "iopub.status.busy": "2022-02-13T20:08:02.775950Z",
     "iopub.status.idle": "2022-02-13T20:08:02.825117Z",
     "shell.execute_reply": "2022-02-13T20:08:02.824621Z"
    },
    "papermill": {
     "duration": 0.078896,
     "end_time": "2022-02-13T20:08:02.825260",
     "exception": false,
     "start_time": "2022-02-13T20:08:02.746364",
     "status": "completed"
    },
    "tags": []
   },
   "outputs": [],
   "source": [
    "X_train = X_train/255.\n",
    "X_test = X_test/255."
   ]
  },
  {
   "cell_type": "markdown",
   "id": "ddcf4fab",
   "metadata": {
    "papermill": {
     "duration": 0.026859,
     "end_time": "2022-02-13T20:08:02.879460",
     "exception": false,
     "start_time": "2022-02-13T20:08:02.852601",
     "status": "completed"
    },
    "tags": []
   },
   "source": [
    "And setup the labels as 1 (when the digit is 3) and 0 (when the digit is 8)"
   ]
  },
  {
   "cell_type": "code",
   "execution_count": 12,
   "id": "7dc908f2",
   "metadata": {
    "execution": {
     "iopub.execute_input": "2022-02-13T20:08:02.949267Z",
     "iopub.status.busy": "2022-02-13T20:08:02.948726Z",
     "iopub.status.idle": "2022-02-13T20:08:02.954466Z",
     "shell.execute_reply": "2022-02-13T20:08:02.954868Z"
    },
    "papermill": {
     "duration": 0.048595,
     "end_time": "2022-02-13T20:08:02.954995",
     "exception": false,
     "start_time": "2022-02-13T20:08:02.906400",
     "status": "completed"
    },
    "tags": []
   },
   "outputs": [],
   "source": [
    "y_train = 1*(y_train==3)\n",
    "y_test = 1*(y_test==3)"
   ]
  },
  {
   "cell_type": "code",
   "execution_count": 13,
   "id": "01e4e969",
   "metadata": {
    "execution": {
     "iopub.execute_input": "2022-02-13T20:08:03.014804Z",
     "iopub.status.busy": "2022-02-13T20:08:03.011536Z",
     "iopub.status.idle": "2022-02-13T20:08:03.025067Z",
     "shell.execute_reply": "2022-02-13T20:08:03.025496Z"
    },
    "papermill": {
     "duration": 0.043805,
     "end_time": "2022-02-13T20:08:03.025628",
     "exception": false,
     "start_time": "2022-02-13T20:08:02.981823",
     "status": "completed"
    },
    "tags": []
   },
   "outputs": [
    {
     "data": {
      "text/plain": [
       "((11982, 28, 28), (1984, 28, 28))"
      ]
     },
     "execution_count": 13,
     "metadata": {},
     "output_type": "execute_result"
    }
   ],
   "source": [
    "X_train.shape, X_test.shape"
   ]
  },
  {
   "cell_type": "markdown",
   "id": "5ccf3f85",
   "metadata": {
    "papermill": {
     "duration": 0.026986,
     "end_time": "2022-02-13T20:08:03.079580",
     "exception": false,
     "start_time": "2022-02-13T20:08:03.052594",
     "status": "completed"
    },
    "tags": []
   },
   "source": [
    "We reshape the data to flatten the image pixels into a set of features or co-variates:"
   ]
  },
  {
   "cell_type": "code",
   "execution_count": 14,
   "id": "5286a4a3",
   "metadata": {
    "execution": {
     "iopub.execute_input": "2022-02-13T20:08:03.141965Z",
     "iopub.status.busy": "2022-02-13T20:08:03.140488Z",
     "iopub.status.idle": "2022-02-13T20:08:03.152171Z",
     "shell.execute_reply": "2022-02-13T20:08:03.151739Z"
    },
    "papermill": {
     "duration": 0.045568,
     "end_time": "2022-02-13T20:08:03.152282",
     "exception": false,
     "start_time": "2022-02-13T20:08:03.106714",
     "status": "completed"
    },
    "tags": []
   },
   "outputs": [
    {
     "data": {
      "text/plain": [
       "((11982, 784), (1984, 784))"
      ]
     },
     "execution_count": 14,
     "metadata": {},
     "output_type": "execute_result"
    }
   ],
   "source": [
    "X_train = X_train.reshape(X_train.shape[0], -1)\n",
    "X_test = X_test.reshape(X_test.shape[0], -1)\n",
    "X_train.shape, X_test.shape"
   ]
  },
  {
   "cell_type": "code",
   "execution_count": 15,
   "id": "73c5f88a",
   "metadata": {
    "execution": {
     "iopub.execute_input": "2022-02-13T20:08:03.226683Z",
     "iopub.status.busy": "2022-02-13T20:08:03.226166Z",
     "iopub.status.idle": "2022-02-13T20:08:03.234426Z",
     "shell.execute_reply": "2022-02-13T20:08:03.234807Z"
    },
    "papermill": {
     "duration": 0.05538,
     "end_time": "2022-02-13T20:08:03.234934",
     "exception": false,
     "start_time": "2022-02-13T20:08:03.179554",
     "status": "completed"
    },
    "tags": []
   },
   "outputs": [],
   "source": [
    "#Impoting functions from 'Kudzu'\n",
    "from kudzu.model import Model\n",
    "from kudzu.train import Learner\n",
    "from kudzu.optim import GD\n",
    "from kudzu.data import Data, Sampler,Dataloader\n",
    "\n",
    "from kudzu.callbacks import AccCallback\n",
    "from kudzu.callbacks import ClfCallback\n",
    "\n",
    "from kudzu.loss import MSE\n",
    "\n",
    "from kudzu.layer import Sigmoid,Relu\n",
    "from kudzu.layer import Affine"
   ]
  },
  {
   "cell_type": "markdown",
   "id": "bc01172a",
   "metadata": {
    "papermill": {
     "duration": 0.027512,
     "end_time": "2022-02-13T20:08:03.289940",
     "exception": false,
     "start_time": "2022-02-13T20:08:03.262428",
     "status": "completed"
    },
    "tags": []
   },
   "source": [
    "### Let us create a `Config` class, to store important parameters. \n",
    "This class essentially plays the role of a dictionary."
   ]
  },
  {
   "cell_type": "code",
   "execution_count": 16,
   "id": "978281aa",
   "metadata": {
    "execution": {
     "iopub.execute_input": "2022-02-13T20:08:03.358252Z",
     "iopub.status.busy": "2022-02-13T20:08:03.351665Z",
     "iopub.status.idle": "2022-02-13T20:08:03.361915Z",
     "shell.execute_reply": "2022-02-13T20:08:03.362327Z"
    },
    "papermill": {
     "duration": 0.045113,
     "end_time": "2022-02-13T20:08:03.362466",
     "exception": false,
     "start_time": "2022-02-13T20:08:03.317353",
     "status": "completed"
    },
    "tags": []
   },
   "outputs": [],
   "source": [
    "class Config:\n",
    "    pass\n",
    "config = Config()\n",
    "config.lr = 0.001\n",
    "config.num_epochs = 250\n",
    "config.bs = 50"
   ]
  },
  {
   "cell_type": "markdown",
   "id": "1385fa59",
   "metadata": {
    "papermill": {
     "duration": 0.027381,
     "end_time": "2022-02-13T20:08:03.417505",
     "exception": false,
     "start_time": "2022-02-13T20:08:03.390124",
     "status": "completed"
    },
    "tags": []
   },
   "source": [
    "### Running Models with the Training data\n",
    "Details about the network layers:\n",
    "- A first affine layer has 784 inputs and does 100 affine transforms. These are followed by a Relu\n",
    "- A second affine layer has 100 inputs from the 100 activations of the past layer, and does 100 affine transforms. These are followed by a Relu\n",
    "- A third affine layer has 100 activations and does 2 affine transformations to create an embedding for visualization. There is no non-linearity here.\n",
    "- A final \"logistic regression\" which has an affine transform from 2 inputs to 1 output, which is squeezed through a sigmoid.\n"
   ]
  },
  {
   "cell_type": "code",
   "execution_count": 17,
   "id": "2b9c66db",
   "metadata": {
    "execution": {
     "iopub.execute_input": "2022-02-13T20:08:03.478821Z",
     "iopub.status.busy": "2022-02-13T20:08:03.478307Z",
     "iopub.status.idle": "2022-02-13T20:08:03.488965Z",
     "shell.execute_reply": "2022-02-13T20:08:03.488532Z"
    },
    "papermill": {
     "duration": 0.044172,
     "end_time": "2022-02-13T20:08:03.489072",
     "exception": false,
     "start_time": "2022-02-13T20:08:03.444900",
     "status": "completed"
    },
    "tags": []
   },
   "outputs": [],
   "source": [
    "data = Data(X_train, y_train.reshape(-1,1))\n",
    "sampler = Sampler(data, config.bs, shuffle=True)\n",
    "\n",
    "dl = Dataloader(data, sampler)\n",
    "\n",
    "opt = GD(config.lr)\n",
    "loss = MSE()"
   ]
  },
  {
   "cell_type": "code",
   "execution_count": 18,
   "id": "b275e4c2",
   "metadata": {
    "execution": {
     "iopub.execute_input": "2022-02-13T20:08:03.546999Z",
     "iopub.status.busy": "2022-02-13T20:08:03.546493Z",
     "iopub.status.idle": "2022-02-13T20:08:03.558085Z",
     "shell.execute_reply": "2022-02-13T20:08:03.558513Z"
    },
    "papermill": {
     "duration": 0.042243,
     "end_time": "2022-02-13T20:08:03.558635",
     "exception": false,
     "start_time": "2022-02-13T20:08:03.516392",
     "status": "completed"
    },
    "tags": []
   },
   "outputs": [],
   "source": [
    "training_data_x = X_train\n",
    "testing_data_x = X_test\n",
    "training_data_y = y_train.reshape(-1,1)\n",
    "testing_data_y = y_test.reshape(-1,1)"
   ]
  },
  {
   "cell_type": "code",
   "execution_count": 19,
   "id": "76951160",
   "metadata": {
    "execution": {
     "iopub.execute_input": "2022-02-13T20:08:03.616871Z",
     "iopub.status.busy": "2022-02-13T20:08:03.616369Z",
     "iopub.status.idle": "2022-02-13T20:08:03.632169Z",
     "shell.execute_reply": "2022-02-13T20:08:03.631763Z"
    },
    "papermill": {
     "duration": 0.046564,
     "end_time": "2022-02-13T20:08:03.632279",
     "exception": false,
     "start_time": "2022-02-13T20:08:03.585715",
     "status": "completed"
    },
    "tags": []
   },
   "outputs": [
    {
     "name": "stdout",
     "output_type": "stream",
     "text": [
      "xavier\n",
      "xavier\n",
      "xavier\n",
      "xavier\n",
      "xavier\n"
     ]
    }
   ],
   "source": [
    "layers = [Affine(\"first\", 784, 100), Relu(\"first\"), Affine(\"second\", 100, 100), Relu(\"second\"), Affine(\"third\", 100, 2), Affine(\"last\", 2, 1), Sigmoid(\"last\")]\n",
    "model_nn = Model(layers)\n",
    "model_lr = Model([Affine(\"logits\", 784, 1), Sigmoid(\"sigmoid\")])"
   ]
  },
  {
   "cell_type": "code",
   "execution_count": 20,
   "id": "6eede77a",
   "metadata": {
    "execution": {
     "iopub.execute_input": "2022-02-13T20:08:03.707169Z",
     "iopub.status.busy": "2022-02-13T20:08:03.706359Z",
     "iopub.status.idle": "2022-02-13T20:08:03.710133Z",
     "shell.execute_reply": "2022-02-13T20:08:03.709702Z"
    },
    "papermill": {
     "duration": 0.050401,
     "end_time": "2022-02-13T20:08:03.710238",
     "exception": false,
     "start_time": "2022-02-13T20:08:03.659837",
     "status": "completed"
    },
    "tags": []
   },
   "outputs": [],
   "source": [
    "nn_learner = Learner(loss, model_nn, opt, config.num_epochs)\n",
    "acc_nn = ClfCallback(nn_learner, config.bs, training_data_x , testing_data_x, training_data_y, testing_data_y)\n",
    "nn_learner.set_callbacks([acc_nn])"
   ]
  },
  {
   "cell_type": "code",
   "execution_count": 21,
   "id": "877b6cc7",
   "metadata": {
    "execution": {
     "iopub.execute_input": "2022-02-13T20:08:03.773544Z",
     "iopub.status.busy": "2022-02-13T20:08:03.767920Z",
     "iopub.status.idle": "2022-02-13T20:08:03.782549Z",
     "shell.execute_reply": "2022-02-13T20:08:03.782128Z"
    },
    "papermill": {
     "duration": 0.044928,
     "end_time": "2022-02-13T20:08:03.782651",
     "exception": false,
     "start_time": "2022-02-13T20:08:03.737723",
     "status": "completed"
    },
    "tags": []
   },
   "outputs": [],
   "source": [
    "lr_learner = Learner(loss, model_lr, opt, config.num_epochs)\n",
    "acc_lr = ClfCallback(lr_learner, config.bs, training_data_x , testing_data_x, training_data_y, testing_data_y)\n",
    "lr_learner.set_callbacks([acc_lr])"
   ]
  },
  {
   "cell_type": "code",
   "execution_count": 22,
   "id": "d9b133c3",
   "metadata": {
    "execution": {
     "iopub.execute_input": "2022-02-13T20:08:03.845895Z",
     "iopub.status.busy": "2022-02-13T20:08:03.840015Z",
     "iopub.status.idle": "2022-02-13T20:09:17.977341Z",
     "shell.execute_reply": "2022-02-13T20:09:17.978098Z"
    },
    "papermill": {
     "duration": 74.168169,
     "end_time": "2022-02-13T20:09:17.978253",
     "exception": false,
     "start_time": "2022-02-13T20:08:03.810084",
     "status": "completed"
    },
    "tags": []
   },
   "outputs": [
    {
     "name": "stdout",
     "output_type": "stream",
     "text": [
      "Epoch 0, Loss 0.2106\n",
      "Training Accuracy: 0.7833, Testing Accuracy: 0.8049\n",
      "\n"
     ]
    },
    {
     "name": "stdout",
     "output_type": "stream",
     "text": [
      "Epoch 10, Loss 0.058\n",
      "Training Accuracy: 0.9401, Testing Accuracy: 0.9491\n",
      "\n"
     ]
    },
    {
     "name": "stdout",
     "output_type": "stream",
     "text": [
      "Epoch 20, Loss 0.0408\n",
      "Training Accuracy: 0.9564, Testing Accuracy: 0.9662\n",
      "\n"
     ]
    },
    {
     "name": "stdout",
     "output_type": "stream",
     "text": [
      "Epoch 30, Loss 0.0344\n",
      "Training Accuracy: 0.9611, Testing Accuracy: 0.9688\n",
      "\n"
     ]
    },
    {
     "name": "stdout",
     "output_type": "stream",
     "text": [
      "Epoch 40, Loss 0.0308\n",
      "Training Accuracy: 0.9647, Testing Accuracy: 0.9708\n",
      "\n"
     ]
    },
    {
     "name": "stdout",
     "output_type": "stream",
     "text": [
      "Epoch 50, Loss 0.0284\n",
      "Training Accuracy: 0.9684, Testing Accuracy: 0.9718\n",
      "\n"
     ]
    },
    {
     "name": "stdout",
     "output_type": "stream",
     "text": [
      "Epoch 60, Loss 0.0266\n",
      "Training Accuracy: 0.9710, Testing Accuracy: 0.9723\n",
      "\n"
     ]
    },
    {
     "name": "stdout",
     "output_type": "stream",
     "text": [
      "Epoch 70, Loss 0.0251\n",
      "Training Accuracy: 0.9720, Testing Accuracy: 0.9728\n",
      "\n"
     ]
    },
    {
     "name": "stdout",
     "output_type": "stream",
     "text": [
      "Epoch 80, Loss 0.0239\n",
      "Training Accuracy: 0.9734, Testing Accuracy: 0.9738\n",
      "\n"
     ]
    },
    {
     "name": "stdout",
     "output_type": "stream",
     "text": [
      "Epoch 90, Loss 0.0228\n",
      "Training Accuracy: 0.9749, Testing Accuracy: 0.9743\n",
      "\n"
     ]
    },
    {
     "name": "stdout",
     "output_type": "stream",
     "text": [
      "Epoch 100, Loss 0.0218\n",
      "Training Accuracy: 0.9755, Testing Accuracy: 0.9748\n",
      "\n"
     ]
    },
    {
     "name": "stdout",
     "output_type": "stream",
     "text": [
      "Epoch 110, Loss 0.021\n",
      "Training Accuracy: 0.9759, Testing Accuracy: 0.9758\n",
      "\n"
     ]
    },
    {
     "name": "stdout",
     "output_type": "stream",
     "text": [
      "Epoch 120, Loss 0.0202\n",
      "Training Accuracy: 0.9765, Testing Accuracy: 0.9778\n",
      "\n"
     ]
    },
    {
     "name": "stdout",
     "output_type": "stream",
     "text": [
      "Epoch 130, Loss 0.0194\n",
      "Training Accuracy: 0.9780, Testing Accuracy: 0.9778\n",
      "\n"
     ]
    },
    {
     "name": "stdout",
     "output_type": "stream",
     "text": [
      "Epoch 140, Loss 0.0188\n",
      "Training Accuracy: 0.9788, Testing Accuracy: 0.9783\n",
      "\n"
     ]
    },
    {
     "name": "stdout",
     "output_type": "stream",
     "text": [
      "Epoch 150, Loss 0.0181\n",
      "Training Accuracy: 0.9796, Testing Accuracy: 0.9798\n",
      "\n"
     ]
    },
    {
     "name": "stdout",
     "output_type": "stream",
     "text": [
      "Epoch 160, Loss 0.0175\n",
      "Training Accuracy: 0.9806, Testing Accuracy: 0.9798\n",
      "\n"
     ]
    },
    {
     "name": "stdout",
     "output_type": "stream",
     "text": [
      "Epoch 170, Loss 0.017\n",
      "Training Accuracy: 0.9814, Testing Accuracy: 0.9798\n",
      "\n"
     ]
    },
    {
     "name": "stdout",
     "output_type": "stream",
     "text": [
      "Epoch 180, Loss 0.0164\n",
      "Training Accuracy: 0.9819, Testing Accuracy: 0.9798\n",
      "\n"
     ]
    },
    {
     "name": "stdout",
     "output_type": "stream",
     "text": [
      "Epoch 190, Loss 0.0159\n",
      "Training Accuracy: 0.9823, Testing Accuracy: 0.9798\n",
      "\n"
     ]
    },
    {
     "name": "stdout",
     "output_type": "stream",
     "text": [
      "Epoch 200, Loss 0.0154\n",
      "Training Accuracy: 0.9830, Testing Accuracy: 0.9808\n",
      "\n"
     ]
    },
    {
     "name": "stdout",
     "output_type": "stream",
     "text": [
      "Epoch 210, Loss 0.015\n",
      "Training Accuracy: 0.9834, Testing Accuracy: 0.9814\n",
      "\n"
     ]
    },
    {
     "name": "stdout",
     "output_type": "stream",
     "text": [
      "Epoch 220, Loss 0.0145\n",
      "Training Accuracy: 0.9846, Testing Accuracy: 0.9814\n",
      "\n"
     ]
    },
    {
     "name": "stdout",
     "output_type": "stream",
     "text": [
      "Epoch 230, Loss 0.0141\n",
      "Training Accuracy: 0.9850, Testing Accuracy: 0.9819\n",
      "\n"
     ]
    },
    {
     "name": "stdout",
     "output_type": "stream",
     "text": [
      "Epoch 240, Loss 0.0137\n",
      "Training Accuracy: 0.9857, Testing Accuracy: 0.9834\n",
      "\n"
     ]
    },
    {
     "data": {
      "text/plain": [
       "0.00814577996889362"
      ]
     },
     "execution_count": 22,
     "metadata": {},
     "output_type": "execute_result"
    }
   ],
   "source": [
    "nn_learner.train_loop(dl)"
   ]
  },
  {
   "cell_type": "code",
   "execution_count": 23,
   "id": "e0163366",
   "metadata": {
    "execution": {
     "iopub.execute_input": "2022-02-13T20:09:18.058541Z",
     "iopub.status.busy": "2022-02-13T20:09:18.058032Z",
     "iopub.status.idle": "2022-02-13T20:09:31.372120Z",
     "shell.execute_reply": "2022-02-13T20:09:31.372856Z"
    },
    "papermill": {
     "duration": 13.358931,
     "end_time": "2022-02-13T20:09:31.373010",
     "exception": false,
     "start_time": "2022-02-13T20:09:18.014079",
     "status": "completed"
    },
    "tags": []
   },
   "outputs": [
    {
     "name": "stdout",
     "output_type": "stream",
     "text": [
      "Epoch 0, Loss 0.2435\n",
      "Training Accuracy: 0.6908, Testing Accuracy: 0.6638\n",
      "\n"
     ]
    },
    {
     "name": "stdout",
     "output_type": "stream",
     "text": [
      "Epoch 10, Loss 0.1056\n",
      "Training Accuracy: 0.9005, Testing Accuracy: 0.9133\n",
      "\n"
     ]
    },
    {
     "name": "stdout",
     "output_type": "stream",
     "text": [
      "Epoch 20, Loss 0.0809\n",
      "Training Accuracy: 0.9231, Testing Accuracy: 0.9370\n",
      "\n"
     ]
    },
    {
     "name": "stdout",
     "output_type": "stream",
     "text": [
      "Epoch 30, Loss 0.0694\n",
      "Training Accuracy: 0.9326, Testing Accuracy: 0.9461\n",
      "\n"
     ]
    },
    {
     "name": "stdout",
     "output_type": "stream",
     "text": [
      "Epoch 40, Loss 0.0624\n",
      "Training Accuracy: 0.9386, Testing Accuracy: 0.9531\n",
      "\n"
     ]
    },
    {
     "name": "stdout",
     "output_type": "stream",
     "text": [
      "Epoch 50, Loss 0.0577\n",
      "Training Accuracy: 0.9433, Testing Accuracy: 0.9587\n",
      "\n"
     ]
    },
    {
     "name": "stdout",
     "output_type": "stream",
     "text": [
      "Epoch 60, Loss 0.0543\n",
      "Training Accuracy: 0.9455, Testing Accuracy: 0.9587\n",
      "\n"
     ]
    },
    {
     "name": "stdout",
     "output_type": "stream",
     "text": [
      "Epoch 70, Loss 0.0516\n",
      "Training Accuracy: 0.9484, Testing Accuracy: 0.9622\n",
      "\n"
     ]
    },
    {
     "name": "stdout",
     "output_type": "stream",
     "text": [
      "Epoch 80, Loss 0.0495\n",
      "Training Accuracy: 0.9508, Testing Accuracy: 0.9632\n",
      "\n"
     ]
    },
    {
     "name": "stdout",
     "output_type": "stream",
     "text": [
      "Epoch 90, Loss 0.0478\n",
      "Training Accuracy: 0.9518, Testing Accuracy: 0.9632\n",
      "\n"
     ]
    },
    {
     "name": "stdout",
     "output_type": "stream",
     "text": [
      "Epoch 100, Loss 0.0463\n",
      "Training Accuracy: 0.9531, Testing Accuracy: 0.9637\n",
      "\n"
     ]
    },
    {
     "name": "stdout",
     "output_type": "stream",
     "text": [
      "Epoch 110, Loss 0.045\n",
      "Training Accuracy: 0.9539, Testing Accuracy: 0.9642\n",
      "\n"
     ]
    },
    {
     "name": "stdout",
     "output_type": "stream",
     "text": [
      "Epoch 120, Loss 0.044\n",
      "Training Accuracy: 0.9553, Testing Accuracy: 0.9647\n",
      "\n"
     ]
    },
    {
     "name": "stdout",
     "output_type": "stream",
     "text": [
      "Epoch 130, Loss 0.043\n",
      "Training Accuracy: 0.9559, Testing Accuracy: 0.9652\n",
      "\n"
     ]
    },
    {
     "name": "stdout",
     "output_type": "stream",
     "text": [
      "Epoch 140, Loss 0.0422\n",
      "Training Accuracy: 0.9562, Testing Accuracy: 0.9657\n",
      "\n"
     ]
    },
    {
     "name": "stdout",
     "output_type": "stream",
     "text": [
      "Epoch 150, Loss 0.0414\n",
      "Training Accuracy: 0.9569, Testing Accuracy: 0.9667\n",
      "\n"
     ]
    },
    {
     "name": "stdout",
     "output_type": "stream",
     "text": [
      "Epoch 160, Loss 0.0407\n",
      "Training Accuracy: 0.9571, Testing Accuracy: 0.9667\n",
      "\n"
     ]
    },
    {
     "name": "stdout",
     "output_type": "stream",
     "text": [
      "Epoch 170, Loss 0.0401\n",
      "Training Accuracy: 0.9578, Testing Accuracy: 0.9667\n",
      "\n"
     ]
    },
    {
     "name": "stdout",
     "output_type": "stream",
     "text": [
      "Epoch 180, Loss 0.0395\n",
      "Training Accuracy: 0.9581, Testing Accuracy: 0.9667\n",
      "\n"
     ]
    },
    {
     "name": "stdout",
     "output_type": "stream",
     "text": [
      "Epoch 190, Loss 0.039\n",
      "Training Accuracy: 0.9584, Testing Accuracy: 0.9667\n",
      "\n"
     ]
    },
    {
     "name": "stdout",
     "output_type": "stream",
     "text": [
      "Epoch 200, Loss 0.0385\n",
      "Training Accuracy: 0.9587, Testing Accuracy: 0.9672\n",
      "\n"
     ]
    },
    {
     "name": "stdout",
     "output_type": "stream",
     "text": [
      "Epoch 210, Loss 0.0381\n",
      "Training Accuracy: 0.9594, Testing Accuracy: 0.9672\n",
      "\n"
     ]
    },
    {
     "name": "stdout",
     "output_type": "stream",
     "text": [
      "Epoch 220, Loss 0.0377\n",
      "Training Accuracy: 0.9599, Testing Accuracy: 0.9672\n",
      "\n"
     ]
    },
    {
     "name": "stdout",
     "output_type": "stream",
     "text": [
      "Epoch 230, Loss 0.0373\n",
      "Training Accuracy: 0.9604, Testing Accuracy: 0.9672\n",
      "\n"
     ]
    },
    {
     "name": "stdout",
     "output_type": "stream",
     "text": [
      "Epoch 240, Loss 0.0369\n",
      "Training Accuracy: 0.9605, Testing Accuracy: 0.9677\n",
      "\n"
     ]
    },
    {
     "data": {
      "text/plain": [
       "0.008565846262550521"
      ]
     },
     "execution_count": 23,
     "metadata": {},
     "output_type": "execute_result"
    }
   ],
   "source": [
    "lr_learner.train_loop(dl)"
   ]
  },
  {
   "cell_type": "code",
   "execution_count": 24,
   "id": "ca410940",
   "metadata": {
    "execution": {
     "iopub.execute_input": "2022-02-13T20:09:31.466649Z",
     "iopub.status.busy": "2022-02-13T20:09:31.466101Z",
     "iopub.status.idle": "2022-02-13T20:09:31.695773Z",
     "shell.execute_reply": "2022-02-13T20:09:31.696186Z"
    },
    "papermill": {
     "duration": 0.281694,
     "end_time": "2022-02-13T20:09:31.696329",
     "exception": false,
     "start_time": "2022-02-13T20:09:31.414635",
     "status": "completed"
    },
    "tags": []
   },
   "outputs": [
    {
     "data": {
      "text/plain": [
       "<matplotlib.legend.Legend at 0x7f2027594cc0>"
      ]
     },
     "execution_count": 24,
     "metadata": {},
     "output_type": "execute_result"
    },
    {
     "data": {
      "image/png": "[encoded data removed]",
      "text/plain": [
       "<Figure size 1080x720 with 1 Axes>"
      ]
     },
     "metadata": {
      "needs_background": "light"
     },
     "output_type": "display_data"
    }
   ],
   "source": [
    "#comparing the results of NN and LR\n",
    "plt.figure(figsize=(15,10))\n",
    "\n",
    "# Neural Network plots\n",
    "plt.plot(acc_nn.accuracies, 'r-', label = \"Training Accuracies - NN\")\n",
    "plt.plot(acc_nn.test_accuracies, 'g-', label = \"Testing Accuracies - NN\")\n",
    "\n",
    "# Logistic Regression plots\n",
    "plt.plot(acc_lr.accuracies, 'k-', label = \"Training Accuracies - LR\")\n",
    "plt.plot(acc_lr.test_accuracies, 'b-', label = \"Testing Accuracies - LR\")\n",
    "plt.legend()"
   ]
  },
  {
   "cell_type": "markdown",
   "id": "80dfb35c",
   "metadata": {
    "papermill": {
     "duration": 0.042415,
     "end_time": "2022-02-13T20:09:31.781675",
     "exception": false,
     "start_time": "2022-02-13T20:09:31.739260",
     "status": "completed"
    },
    "tags": []
   },
   "source": [
    "#### Plotting the outputs of this layer of the NN.\n"
   ]
  },
  {
   "cell_type": "code",
   "execution_count": 25,
   "id": "45eb2ff5",
   "metadata": {
    "execution": {
     "iopub.execute_input": "2022-02-13T20:09:31.878175Z",
     "iopub.status.busy": "2022-02-13T20:09:31.877658Z",
     "iopub.status.idle": "2022-02-13T20:09:31.893386Z",
     "shell.execute_reply": "2022-02-13T20:09:31.893801Z"
    },
    "papermill": {
     "duration": 0.070123,
     "end_time": "2022-02-13T20:09:31.893937",
     "exception": false,
     "start_time": "2022-02-13T20:09:31.823814",
     "status": "completed"
    },
    "tags": []
   },
   "outputs": [],
   "source": [
    "new_model = Model(layers[:-2])\n",
    "testing_plot = new_model(testing_data_x)"
   ]
  },
  {
   "cell_type": "code",
   "execution_count": 26,
   "id": "4c0a5485",
   "metadata": {
    "execution": {
     "iopub.execute_input": "2022-02-13T20:09:31.983696Z",
     "iopub.status.busy": "2022-02-13T20:09:31.983176Z",
     "iopub.status.idle": "2022-02-13T20:09:32.176392Z",
     "shell.execute_reply": "2022-02-13T20:09:32.175955Z"
    },
    "papermill": {
     "duration": 0.239598,
     "end_time": "2022-02-13T20:09:32.176513",
     "exception": false,
     "start_time": "2022-02-13T20:09:31.936915",
     "status": "completed"
    },
    "tags": []
   },
   "outputs": [
    {
     "data": {
      "text/plain": [
       "Text(0.5, 1.0, 'Outputs')"
      ]
     },
     "execution_count": 26,
     "metadata": {},
     "output_type": "execute_result"
    },
    {
     "data": {
      "image/png": "[encoded data removed]",
      "text/plain": [
       "<Figure size 576x504 with 1 Axes>"
      ]
     },
     "metadata": {
      "needs_background": "light"
     },
     "output_type": "display_data"
    }
   ],
   "source": [
    "# Plotting the scatter plot of points and color coding by class\n",
    "plt.figure(figsize=(8,7))\n",
    "plt.scatter(testing_plot[:,0], testing_plot[:,1], alpha = 0.1, c = y_test.ravel());\n",
    "plt.title('Outputs')"
   ]
  },
  {
   "cell_type": "markdown",
   "id": "a74fcf8f",
   "metadata": {
    "papermill": {
     "duration": 0.044694,
     "end_time": "2022-02-13T20:09:32.266213",
     "exception": false,
     "start_time": "2022-02-13T20:09:32.221519",
     "status": "completed"
    },
    "tags": []
   },
   "source": [
    "Probability contours"
   ]
  },
  {
   "cell_type": "code",
   "execution_count": 27,
   "id": "d0afc8e3",
   "metadata": {
    "execution": {
     "iopub.execute_input": "2022-02-13T20:09:32.365762Z",
     "iopub.status.busy": "2022-02-13T20:09:32.364897Z",
     "iopub.status.idle": "2022-02-13T20:09:32.372835Z",
     "shell.execute_reply": "2022-02-13T20:09:32.373233Z"
    },
    "papermill": {
     "duration": 0.062572,
     "end_time": "2022-02-13T20:09:32.373371",
     "exception": false,
     "start_time": "2022-02-13T20:09:32.310799",
     "status": "completed"
    },
    "tags": []
   },
   "outputs": [],
   "source": [
    "model_prob = Model(layers[-2:]) "
   ]
  },
  {
   "cell_type": "code",
   "execution_count": 28,
   "id": "9b96e238",
   "metadata": {
    "execution": {
     "iopub.execute_input": "2022-02-13T20:09:32.509861Z",
     "iopub.status.busy": "2022-02-13T20:09:32.502213Z",
     "iopub.status.idle": "2022-02-13T20:09:32.513509Z",
     "shell.execute_reply": "2022-02-13T20:09:32.512983Z"
    },
    "papermill": {
     "duration": 0.066456,
     "end_time": "2022-02-13T20:09:32.513622",
     "exception": false,
     "start_time": "2022-02-13T20:09:32.447166",
     "status": "completed"
    },
    "tags": []
   },
   "outputs": [],
   "source": [
    "#creating the x and y ranges according to the above generated plot.\n",
    "x_range = np.linspace(-4, 1, 100) \n",
    "y_range = np.linspace(-6, 6, 100) \n",
    "x_grid, y_grid = np.meshgrid(x_range, y_range) # x_grid and y_grig are of size 100 X 100\n",
    "\n",
    "# converting x_grid and y_grid to continuous arrays\n",
    "x_gridflat = np.ravel(x_grid)\n",
    "y_gridflat = np.ravel(y_grid)\n",
    "\n",
    "# The last layer of the current model takes two columns as input. Hence transpose of np.vstack() is required.\n",
    "X = np.vstack((x_gridflat, y_gridflat)).T\n",
    "\n",
    "prob_contour = model_prob(X).reshape(100,100) "
   ]
  },
  {
   "cell_type": "code",
   "execution_count": 29,
   "id": "da72499a",
   "metadata": {
    "execution": {
     "iopub.execute_input": "2022-02-13T20:09:32.607517Z",
     "iopub.status.busy": "2022-02-13T20:09:32.607004Z",
     "iopub.status.idle": "2022-02-13T20:09:32.855761Z",
     "shell.execute_reply": "2022-02-13T20:09:32.856154Z"
    },
    "papermill": {
     "duration": 0.297648,
     "end_time": "2022-02-13T20:09:32.856305",
     "exception": false,
     "start_time": "2022-02-13T20:09:32.558657",
     "status": "completed"
    },
    "tags": []
   },
   "outputs": [
    {
     "data": {
      "image/png": "[encoded data removed]",
      "text/plain": [
       "<Figure size 720x648 with 1 Axes>"
      ]
     },
     "metadata": {
      "needs_background": "light"
     },
     "output_type": "display_data"
    }
   ],
   "source": [
    "plt.figure(figsize=(10,9))\n",
    "plt.scatter(testing_plot[:,0], testing_plot[:,1], alpha = 0.1, c = y_test.ravel())\n",
    "contours = plt.contour(x_grid,y_grid,prob_contour)\n",
    "plt.title('Probability Contours')\n",
    "plt.clabel(contours, inline = True );"
   ]
  },
  {
   "cell_type": "code",
   "execution_count": null,
   "id": "e81b4ac7",
   "metadata": {
    "papermill": {
     "duration": 0.049099,
     "end_time": "2022-02-13T20:09:32.953657",
     "exception": false,
     "start_time": "2022-02-13T20:09:32.904558",
     "status": "completed"
    },
    "tags": []
   },
   "outputs": [],
   "source": []
  }
 ],
 "metadata": {
  "kernelspec": {
   "display_name": "Python 3",
   "language": "python",
   "name": "python3"
  },
  "language_info": {
   "codemirror_mode": {
    "name": "ipython",
    "version": 3
   },
   "file_extension": ".py",
   "mimetype": "text/x-python",
   "name": "python",
   "nbconvert_exporter": "python",
   "pygments_lexer": "ipython3",
   "version": "3.6.15"
  },
  "papermill": {
   "default_parameters": {},
   "duration": 96.103017,
   "end_time": "2022-02-13T20:09:33.419868",
   "environment_variables": {},
   "exception": null,
   "input_path": "2020-08-11-part2.ipynb",
   "output_path": "2020-08-11-part2.ipynb",
   "parameters": {},
   "start_time": "2022-02-13T20:07:57.316851",
   "version": "2.3.3"
  }
 },
 "nbformat": 4,
 "nbformat_minor": 5
}