{
 "cells": [
  {
   "cell_type": "markdown",
   "id": "98380cd3",
   "metadata": {
    "papermill": {
     "duration": 0.0289,
     "end_time": "2022-04-23T00:33:55.159423",
     "exception": false,
     "start_time": "2022-04-23T00:33:55.130523",
     "status": "completed"
    },
    "tags": []
   },
   "source": [
    "# Distinguish Your Own Digits (DYOD)"
   ]
  },
  {
   "cell_type": "markdown",
   "id": "ef31240d",
   "metadata": {
    "papermill": {
     "duration": 0.025521,
     "end_time": "2022-04-23T00:33:55.211947",
     "exception": false,
     "start_time": "2022-04-23T00:33:55.186426",
     "status": "completed"
    },
    "tags": []
   },
   "source": [
    "You are going to write a classifier that distinguishes between the number 3 and number 8."
   ]
  },
  {
   "cell_type": "code",
   "execution_count": 1,
   "id": "b15c8646",
   "metadata": {
    "execution": {
     "iopub.execute_input": "2022-04-23T00:33:55.270317Z",
     "iopub.status.busy": "2022-04-23T00:33:55.269819Z",
     "iopub.status.idle": "2022-04-23T00:33:55.279303Z",
     "shell.execute_reply": "2022-04-23T00:33:55.279732Z"
    },
    "papermill": {
     "duration": 0.04377,
     "end_time": "2022-04-23T00:33:55.279866",
     "exception": false,
     "start_time": "2022-04-23T00:33:55.236096",
     "status": "completed"
    },
    "tags": []
   },
   "outputs": [],
   "source": [
    "%load_ext autoreload\n",
    "%autoreload 2"
   ]
  },
  {
   "cell_type": "code",
   "execution_count": 2,
   "id": "22ef38dc",
   "metadata": {
    "execution": {
     "iopub.execute_input": "2022-04-23T00:33:55.332412Z",
     "iopub.status.busy": "2022-04-23T00:33:55.331927Z",
     "iopub.status.idle": "2022-04-23T00:33:55.842044Z",
     "shell.execute_reply": "2022-04-23T00:33:55.841587Z"
    },
    "papermill": {
     "duration": 0.53777,
     "end_time": "2022-04-23T00:33:55.842160",
     "exception": false,
     "start_time": "2022-04-23T00:33:55.304390",
     "status": "completed"
    },
    "tags": []
   },
   "outputs": [],
   "source": [
    "%matplotlib inline\n",
    "import numpy as np\n",
    "import matplotlib.pyplot as plt\n",
    "import pandas as pd"
   ]
  },
  {
   "cell_type": "markdown",
   "id": "ba036198",
   "metadata": {
    "papermill": {
     "duration": 0.024508,
     "end_time": "2022-04-23T00:33:55.891285",
     "exception": false,
     "start_time": "2022-04-23T00:33:55.866777",
     "status": "completed"
    },
    "tags": []
   },
   "source": [
    "From the command line run `pip install mnist`. This is a library that will help you bring down the mnist dataset. If you run this from a notebook, you need to put  `!pip install mnist` in a cell by itself."
   ]
  },
  {
   "cell_type": "code",
   "execution_count": 3,
   "id": "bb6ad8a1",
   "metadata": {
    "execution": {
     "iopub.execute_input": "2022-04-23T00:33:55.944310Z",
     "iopub.status.busy": "2022-04-23T00:33:55.943809Z",
     "iopub.status.idle": "2022-04-23T00:33:57.567095Z",
     "shell.execute_reply": "2022-04-23T00:33:57.566616Z"
    },
    "papermill": {
     "duration": 1.651272,
     "end_time": "2022-04-23T00:33:57.567209",
     "exception": false,
     "start_time": "2022-04-23T00:33:55.915937",
     "status": "completed"
    },
    "tags": []
   },
   "outputs": [
    {
     "name": "stdout",
     "output_type": "stream",
     "text": [
      "Collecting mnist\r\n"
     ]
    },
    {
     "name": "stdout",
     "output_type": "stream",
     "text": [
      "  Downloading mnist-0.2.2-py2.py3-none-any.whl (3.5 kB)\r\n",
      "Requirement already satisfied: numpy in /opt/hostedtoolcache/Python/3.6.15/x64/lib/python3.6/site-packages (from mnist) (1.19.5)\r\n"
     ]
    },
    {
     "name": "stdout",
     "output_type": "stream",
     "text": [
      "Installing collected packages: mnist\r\n"
     ]
    },
    {
     "name": "stdout",
     "output_type": "stream",
     "text": [
      "Successfully installed mnist-0.2.2\r\n"
     ]
    }
   ],
   "source": [
    "!pip install mnist"
   ]
  },
  {
   "cell_type": "markdown",
   "id": "69df9c9a",
   "metadata": {
    "papermill": {
     "duration": 0.026085,
     "end_time": "2022-04-23T00:33:57.619226",
     "exception": false,
     "start_time": "2022-04-23T00:33:57.593141",
     "status": "completed"
    },
    "tags": []
   },
   "source": [
    "## Preparing the Data"
   ]
  },
  {
   "cell_type": "code",
   "execution_count": 4,
   "id": "7f69d806",
   "metadata": {
    "execution": {
     "iopub.execute_input": "2022-04-23T00:33:57.674540Z",
     "iopub.status.busy": "2022-04-23T00:33:57.674030Z",
     "iopub.status.idle": "2022-04-23T00:33:57.688316Z",
     "shell.execute_reply": "2022-04-23T00:33:57.688744Z"
    },
    "papermill": {
     "duration": 0.043988,
     "end_time": "2022-04-23T00:33:57.688872",
     "exception": false,
     "start_time": "2022-04-23T00:33:57.644884",
     "status": "completed"
    },
    "tags": []
   },
   "outputs": [],
   "source": [
    "import mnist"
   ]
  },
  {
   "cell_type": "code",
   "execution_count": 5,
   "id": "a411e44f",
   "metadata": {
    "execution": {
     "iopub.execute_input": "2022-04-23T00:33:57.744435Z",
     "iopub.status.busy": "2022-04-23T00:33:57.743951Z",
     "iopub.status.idle": "2022-04-23T00:33:58.224671Z",
     "shell.execute_reply": "2022-04-23T00:33:58.224230Z"
    },
    "papermill": {
     "duration": 0.509949,
     "end_time": "2022-04-23T00:33:58.224787",
     "exception": false,
     "start_time": "2022-04-23T00:33:57.714838",
     "status": "completed"
    },
    "tags": []
   },
   "outputs": [],
   "source": [
    "train_images = mnist.train_images()\n",
    "train_labels = mnist.train_labels()"
   ]
  },
  {
   "cell_type": "code",
   "execution_count": 6,
   "id": "dceab3a5",
   "metadata": {
    "execution": {
     "iopub.execute_input": "2022-04-23T00:33:58.280355Z",
     "iopub.status.busy": "2022-04-23T00:33:58.279855Z",
     "iopub.status.idle": "2022-04-23T00:33:58.293830Z",
     "shell.execute_reply": "2022-04-23T00:33:58.293396Z"
    },
    "papermill": {
     "duration": 0.043178,
     "end_time": "2022-04-23T00:33:58.293936",
     "exception": false,
     "start_time": "2022-04-23T00:33:58.250758",
     "status": "completed"
    },
    "tags": []
   },
   "outputs": [
    {
     "data": {
      "text/plain": [
       "((60000, 28, 28), (60000,))"
      ]
     },
     "execution_count": 6,
     "metadata": {},
     "output_type": "execute_result"
    }
   ],
   "source": [
    "train_images.shape, train_labels.shape"
   ]
  },
  {
   "cell_type": "code",
   "execution_count": 7,
   "id": "f50dc2bb",
   "metadata": {
    "execution": {
     "iopub.execute_input": "2022-04-23T00:33:58.352754Z",
     "iopub.status.busy": "2022-04-23T00:33:58.352246Z",
     "iopub.status.idle": "2022-04-23T00:33:58.472711Z",
     "shell.execute_reply": "2022-04-23T00:33:58.472241Z"
    },
    "papermill": {
     "duration": 0.14984,
     "end_time": "2022-04-23T00:33:58.472827",
     "exception": false,
     "start_time": "2022-04-23T00:33:58.322987",
     "status": "completed"
    },
    "tags": []
   },
   "outputs": [],
   "source": [
    "test_images = mnist.test_images()\n",
    "test_labels = mnist.test_labels()"
   ]
  },
  {
   "cell_type": "code",
   "execution_count": 8,
   "id": "fc38cf1b",
   "metadata": {
    "execution": {
     "iopub.execute_input": "2022-04-23T00:33:58.532588Z",
     "iopub.status.busy": "2022-04-23T00:33:58.532084Z",
     "iopub.status.idle": "2022-04-23T00:33:58.540546Z",
     "shell.execute_reply": "2022-04-23T00:33:58.540145Z"
    },
    "papermill": {
     "duration": 0.041318,
     "end_time": "2022-04-23T00:33:58.540667",
     "exception": false,
     "start_time": "2022-04-23T00:33:58.499349",
     "status": "completed"
    },
    "tags": []
   },
   "outputs": [
    {
     "data": {
      "text/plain": [
       "((10000, 28, 28), (10000,))"
      ]
     },
     "execution_count": 8,
     "metadata": {},
     "output_type": "execute_result"
    }
   ],
   "source": [
    "test_images.shape, test_labels.shape"
   ]
  },
  {
   "cell_type": "code",
   "execution_count": 9,
   "id": "f9ed8fe0",
   "metadata": {
    "execution": {
     "iopub.execute_input": "2022-04-23T00:33:58.596491Z",
     "iopub.status.busy": "2022-04-23T00:33:58.595993Z",
     "iopub.status.idle": "2022-04-23T00:33:58.728091Z",
     "shell.execute_reply": "2022-04-23T00:33:58.728500Z"
    },
    "papermill": {
     "duration": 0.161705,
     "end_time": "2022-04-23T00:33:58.728622",
     "exception": false,
     "start_time": "2022-04-23T00:33:58.566917",
     "status": "completed"
    },
    "tags": []
   },
   "outputs": [
    {
     "name": "stdout",
     "output_type": "stream",
     "text": [
      "2\n"
     ]
    },
    {
     "data": {
      "text/plain": [
       "<matplotlib.image.AxesImage at 0x7fd242524358>"
      ]
     },
     "execution_count": 9,
     "metadata": {},
     "output_type": "execute_result"
    },
    {
     "data": {
      "image/png": "[encoded data removed]",
      "text/plain": [
       "<Figure size 432x288 with 1 Axes>"
      ]
     },
     "metadata": {
      "needs_background": "light"
     },
     "output_type": "display_data"
    }
   ],
   "source": [
    "image_index = 7776 # You may select anything up to 60,000\n",
    "print(train_labels[image_index]) \n",
    "plt.imshow(train_images[image_index], cmap='Greys')"
   ]
  },
  {
   "cell_type": "markdown",
   "id": "a8d2388d",
   "metadata": {
    "papermill": {
     "duration": 0.027471,
     "end_time": "2022-04-23T00:33:58.783509",
     "exception": false,
     "start_time": "2022-04-23T00:33:58.756038",
     "status": "completed"
    },
    "tags": []
   },
   "source": [
    "## Filter data to get 3 and 8 out"
   ]
  },
  {
   "cell_type": "code",
   "execution_count": 10,
   "id": "776f7fc7",
   "metadata": {
    "execution": {
     "iopub.execute_input": "2022-04-23T00:33:58.842605Z",
     "iopub.status.busy": "2022-04-23T00:33:58.842075Z",
     "iopub.status.idle": "2022-04-23T00:33:58.857282Z",
     "shell.execute_reply": "2022-04-23T00:33:58.857660Z"
    },
    "papermill": {
     "duration": 0.046867,
     "end_time": "2022-04-23T00:33:58.857786",
     "exception": false,
     "start_time": "2022-04-23T00:33:58.810919",
     "status": "completed"
    },
    "tags": []
   },
   "outputs": [],
   "source": [
    "train_filter = np.where((train_labels == 3 ) | (train_labels == 8))\n",
    "test_filter = np.where((test_labels == 3) | (test_labels == 8))\n",
    "X_train, y_train = train_images[train_filter], train_labels[train_filter]\n",
    "X_test, y_test = test_images[test_filter], test_labels[test_filter]"
   ]
  },
  {
   "cell_type": "markdown",
   "id": "948f0b7e",
   "metadata": {
    "papermill": {
     "duration": 0.027146,
     "end_time": "2022-04-23T00:33:58.912425",
     "exception": false,
     "start_time": "2022-04-23T00:33:58.885279",
     "status": "completed"
    },
    "tags": []
   },
   "source": [
    "We normalize the pizel values in the 0 to 1 range"
   ]
  },
  {
   "cell_type": "code",
   "execution_count": 11,
   "id": "ee4c2166",
   "metadata": {
    "execution": {
     "iopub.execute_input": "2022-04-23T00:33:58.970178Z",
     "iopub.status.busy": "2022-04-23T00:33:58.969676Z",
     "iopub.status.idle": "2022-04-23T00:33:59.008975Z",
     "shell.execute_reply": "2022-04-23T00:33:59.009364Z"
    },
    "papermill": {
     "duration": 0.069899,
     "end_time": "2022-04-23T00:33:59.009501",
     "exception": false,
     "start_time": "2022-04-23T00:33:58.939602",
     "status": "completed"
    },
    "tags": []
   },
   "outputs": [],
   "source": [
    "X_train = X_train/255.\n",
    "X_test = X_test/255."
   ]
  },
  {
   "cell_type": "markdown",
   "id": "ddcf4fab",
   "metadata": {
    "papermill": {
     "duration": 0.027201,
     "end_time": "2022-04-23T00:33:59.064286",
     "exception": false,
     "start_time": "2022-04-23T00:33:59.037085",
     "status": "completed"
    },
    "tags": []
   },
   "source": [
    "And setup the labels as 1 (when the digit is 3) and 0 (when the digit is 8)"
   ]
  },
  {
   "cell_type": "code",
   "execution_count": 12,
   "id": "7dc908f2",
   "metadata": {
    "execution": {
     "iopub.execute_input": "2022-04-23T00:33:59.122206Z",
     "iopub.status.busy": "2022-04-23T00:33:59.121719Z",
     "iopub.status.idle": "2022-04-23T00:33:59.133125Z",
     "shell.execute_reply": "2022-04-23T00:33:59.132723Z"
    },
    "papermill": {
     "duration": 0.041581,
     "end_time": "2022-04-23T00:33:59.133229",
     "exception": false,
     "start_time": "2022-04-23T00:33:59.091648",
     "status": "completed"
    },
    "tags": []
   },
   "outputs": [],
   "source": [
    "y_train = 1*(y_train==3)\n",
    "y_test = 1*(y_test==3)"
   ]
  },
  {
   "cell_type": "code",
   "execution_count": 13,
   "id": "01e4e969",
   "metadata": {
    "execution": {
     "iopub.execute_input": "2022-04-23T00:33:59.190883Z",
     "iopub.status.busy": "2022-04-23T00:33:59.190388Z",
     "iopub.status.idle": "2022-04-23T00:33:59.203155Z",
     "shell.execute_reply": "2022-04-23T00:33:59.202754Z"
    },
    "papermill": {
     "duration": 0.042633,
     "end_time": "2022-04-23T00:33:59.203259",
     "exception": false,
     "start_time": "2022-04-23T00:33:59.160626",
     "status": "completed"
    },
    "tags": []
   },
   "outputs": [
    {
     "data": {
      "text/plain": [
       "((11982, 28, 28), (1984, 28, 28))"
      ]
     },
     "execution_count": 13,
     "metadata": {},
     "output_type": "execute_result"
    }
   ],
   "source": [
    "X_train.shape, X_test.shape"
   ]
  },
  {
   "cell_type": "markdown",
   "id": "5ccf3f85",
   "metadata": {
    "papermill": {
     "duration": 0.027416,
     "end_time": "2022-04-23T00:33:59.258070",
     "exception": false,
     "start_time": "2022-04-23T00:33:59.230654",
     "status": "completed"
    },
    "tags": []
   },
   "source": [
    "We reshape the data to flatten the image pixels into a set of features or co-variates:"
   ]
  },
  {
   "cell_type": "code",
   "execution_count": 14,
   "id": "5286a4a3",
   "metadata": {
    "execution": {
     "iopub.execute_input": "2022-04-23T00:33:59.317385Z",
     "iopub.status.busy": "2022-04-23T00:33:59.316527Z",
     "iopub.status.idle": "2022-04-23T00:33:59.329823Z",
     "shell.execute_reply": "2022-04-23T00:33:59.330235Z"
    },
    "papermill": {
     "duration": 0.044573,
     "end_time": "2022-04-23T00:33:59.330354",
     "exception": false,
     "start_time": "2022-04-23T00:33:59.285781",
     "status": "completed"
    },
    "tags": []
   },
   "outputs": [
    {
     "data": {
      "text/plain": [
       "((11982, 784), (1984, 784))"
      ]
     },
     "execution_count": 14,
     "metadata": {},
     "output_type": "execute_result"
    }
   ],
   "source": [
    "X_train = X_train.reshape(X_train.shape[0], -1)\n",
    "X_test = X_test.reshape(X_test.shape[0], -1)\n",
    "X_train.shape, X_test.shape"
   ]
  },
  {
   "cell_type": "code",
   "execution_count": 15,
   "id": "73c5f88a",
   "metadata": {
    "execution": {
     "iopub.execute_input": "2022-04-23T00:33:59.389879Z",
     "iopub.status.busy": "2022-04-23T00:33:59.389378Z",
     "iopub.status.idle": "2022-04-23T00:33:59.407160Z",
     "shell.execute_reply": "2022-04-23T00:33:59.406755Z"
    },
    "papermill": {
     "duration": 0.048989,
     "end_time": "2022-04-23T00:33:59.407266",
     "exception": false,
     "start_time": "2022-04-23T00:33:59.358277",
     "status": "completed"
    },
    "tags": []
   },
   "outputs": [],
   "source": [
    "#Impoting functions from 'Kudzu'\n",
    "from kudzu.model import Model\n",
    "from kudzu.train import Learner\n",
    "from kudzu.optim import GD\n",
    "from kudzu.data import Data, Sampler,Dataloader\n",
    "\n",
    "from kudzu.callbacks import AccCallback\n",
    "from kudzu.callbacks import ClfCallback\n",
    "\n",
    "from kudzu.loss import MSE\n",
    "\n",
    "from kudzu.layer import Sigmoid,Relu\n",
    "from kudzu.layer import Affine"
   ]
  },
  {
   "cell_type": "markdown",
   "id": "bc01172a",
   "metadata": {
    "papermill": {
     "duration": 0.027837,
     "end_time": "2022-04-23T00:33:59.463022",
     "exception": false,
     "start_time": "2022-04-23T00:33:59.435185",
     "status": "completed"
    },
    "tags": []
   },
   "source": [
    "### Let us create a `Config` class, to store important parameters. \n",
    "This class essentially plays the role of a dictionary."
   ]
  },
  {
   "cell_type": "code",
   "execution_count": 16,
   "id": "978281aa",
   "metadata": {
    "execution": {
     "iopub.execute_input": "2022-04-23T00:33:59.522543Z",
     "iopub.status.busy": "2022-04-23T00:33:59.522031Z",
     "iopub.status.idle": "2022-04-23T00:33:59.533211Z",
     "shell.execute_reply": "2022-04-23T00:33:59.532821Z"
    },
    "papermill": {
     "duration": 0.042577,
     "end_time": "2022-04-23T00:33:59.533315",
     "exception": false,
     "start_time": "2022-04-23T00:33:59.490738",
     "status": "completed"
    },
    "tags": []
   },
   "outputs": [],
   "source": [
    "class Config:\n",
    "    pass\n",
    "config = Config()\n",
    "config.lr = 0.001\n",
    "config.num_epochs = 250\n",
    "config.bs = 50"
   ]
  },
  {
   "cell_type": "markdown",
   "id": "1385fa59",
   "metadata": {
    "papermill": {
     "duration": 0.027846,
     "end_time": "2022-04-23T00:33:59.588977",
     "exception": false,
     "start_time": "2022-04-23T00:33:59.561131",
     "status": "completed"
    },
    "tags": []
   },
   "source": [
    "### Running Models with the Training data\n",
    "Details about the network layers:\n",
    "- A first affine layer has 784 inputs and does 100 affine transforms. These are followed by a Relu\n",
    "- A second affine layer has 100 inputs from the 100 activations of the past layer, and does 100 affine transforms. These are followed by a Relu\n",
    "- A third affine layer has 100 activations and does 2 affine transformations to create an embedding for visualization. There is no non-linearity here.\n",
    "- A final \"logistic regression\" which has an affine transform from 2 inputs to 1 output, which is squeezed through a sigmoid.\n"
   ]
  },
  {
   "cell_type": "code",
   "execution_count": 17,
   "id": "2b9c66db",
   "metadata": {
    "execution": {
     "iopub.execute_input": "2022-04-23T00:33:59.648654Z",
     "iopub.status.busy": "2022-04-23T00:33:59.648149Z",
     "iopub.status.idle": "2022-04-23T00:33:59.659770Z",
     "shell.execute_reply": "2022-04-23T00:33:59.659351Z"
    },
    "papermill": {
     "duration": 0.043077,
     "end_time": "2022-04-23T00:33:59.659875",
     "exception": false,
     "start_time": "2022-04-23T00:33:59.616798",
     "status": "completed"
    },
    "tags": []
   },
   "outputs": [],
   "source": [
    "data = Data(X_train, y_train.reshape(-1,1))\n",
    "sampler = Sampler(data, config.bs, shuffle=True)\n",
    "\n",
    "dl = Dataloader(data, sampler)\n",
    "\n",
    "opt = GD(config.lr)\n",
    "loss = MSE()"
   ]
  },
  {
   "cell_type": "code",
   "execution_count": 18,
   "id": "b275e4c2",
   "metadata": {
    "execution": {
     "iopub.execute_input": "2022-04-23T00:33:59.719409Z",
     "iopub.status.busy": "2022-04-23T00:33:59.718853Z",
     "iopub.status.idle": "2022-04-23T00:33:59.730474Z",
     "shell.execute_reply": "2022-04-23T00:33:59.730074Z"
    },
    "papermill": {
     "duration": 0.042837,
     "end_time": "2022-04-23T00:33:59.730582",
     "exception": false,
     "start_time": "2022-04-23T00:33:59.687745",
     "status": "completed"
    },
    "tags": []
   },
   "outputs": [],
   "source": [
    "training_data_x = X_train\n",
    "testing_data_x = X_test\n",
    "training_data_y = y_train.reshape(-1,1)\n",
    "testing_data_y = y_test.reshape(-1,1)"
   ]
  },
  {
   "cell_type": "code",
   "execution_count": 19,
   "id": "76951160",
   "metadata": {
    "execution": {
     "iopub.execute_input": "2022-04-23T00:33:59.790599Z",
     "iopub.status.busy": "2022-04-23T00:33:59.790091Z",
     "iopub.status.idle": "2022-04-23T00:33:59.806900Z",
     "shell.execute_reply": "2022-04-23T00:33:59.806273Z"
    },
    "papermill": {
     "duration": 0.048548,
     "end_time": "2022-04-23T00:33:59.807013",
     "exception": false,
     "start_time": "2022-04-23T00:33:59.758465",
     "status": "completed"
    },
    "tags": []
   },
   "outputs": [
    {
     "name": "stdout",
     "output_type": "stream",
     "text": [
      "xavier\n",
      "xavier\n",
      "xavier\n",
      "xavier\n",
      "xavier\n"
     ]
    }
   ],
   "source": [
    "layers = [Affine(\"first\", 784, 100), Relu(\"first\"), Affine(\"second\", 100, 100), Relu(\"second\"), Affine(\"third\", 100, 2), Affine(\"last\", 2, 1), Sigmoid(\"last\")]\n",
    "model_nn = Model(layers)\n",
    "model_lr = Model([Affine(\"logits\", 784, 1), Sigmoid(\"sigmoid\")])"
   ]
  },
  {
   "cell_type": "code",
   "execution_count": 20,
   "id": "6eede77a",
   "metadata": {
    "execution": {
     "iopub.execute_input": "2022-04-23T00:33:59.867349Z",
     "iopub.status.busy": "2022-04-23T00:33:59.866845Z",
     "iopub.status.idle": "2022-04-23T00:33:59.878050Z",
     "shell.execute_reply": "2022-04-23T00:33:59.878463Z"
    },
    "papermill": {
     "duration": 0.043304,
     "end_time": "2022-04-23T00:33:59.878584",
     "exception": false,
     "start_time": "2022-04-23T00:33:59.835280",
     "status": "completed"
    },
    "tags": []
   },
   "outputs": [],
   "source": [
    "nn_learner = Learner(loss, model_nn, opt, config.num_epochs)\n",
    "acc_nn = ClfCallback(nn_learner, config.bs, training_data_x , testing_data_x, training_data_y, testing_data_y)\n",
    "nn_learner.set_callbacks([acc_nn])"
   ]
  },
  {
   "cell_type": "code",
   "execution_count": 21,
   "id": "877b6cc7",
   "metadata": {
    "execution": {
     "iopub.execute_input": "2022-04-23T00:33:59.938159Z",
     "iopub.status.busy": "2022-04-23T00:33:59.937674Z",
     "iopub.status.idle": "2022-04-23T00:33:59.948999Z",
     "shell.execute_reply": "2022-04-23T00:33:59.949380Z"
    },
    "papermill": {
     "duration": 0.042735,
     "end_time": "2022-04-23T00:33:59.949501",
     "exception": false,
     "start_time": "2022-04-23T00:33:59.906766",
     "status": "completed"
    },
    "tags": []
   },
   "outputs": [],
   "source": [
    "lr_learner = Learner(loss, model_lr, opt, config.num_epochs)\n",
    "acc_lr = ClfCallback(lr_learner, config.bs, training_data_x , testing_data_x, training_data_y, testing_data_y)\n",
    "lr_learner.set_callbacks([acc_lr])"
   ]
  },
  {
   "cell_type": "code",
   "execution_count": 22,
   "id": "d9b133c3",
   "metadata": {
    "execution": {
     "iopub.execute_input": "2022-04-23T00:34:00.008945Z",
     "iopub.status.busy": "2022-04-23T00:34:00.008462Z",
     "iopub.status.idle": "2022-04-23T00:36:56.614660Z",
     "shell.execute_reply": "2022-04-23T00:36:56.615086Z"
    },
    "papermill": {
     "duration": 176.637528,
     "end_time": "2022-04-23T00:36:56.615215",
     "exception": false,
     "start_time": "2022-04-23T00:33:59.977687",
     "status": "completed"
    },
    "tags": []
   },
   "outputs": [
    {
     "name": "stdout",
     "output_type": "stream",
     "text": [
      "Epoch 0, Loss 0.235\n",
      "Training Accuracy: 0.7744, Testing Accuracy: 0.8054\n",
      "\n"
     ]
    },
    {
     "name": "stdout",
     "output_type": "stream",
     "text": [
      "Epoch 10, Loss 0.0658\n",
      "Training Accuracy: 0.9351, Testing Accuracy: 0.9461\n",
      "\n"
     ]
    },
    {
     "name": "stdout",
     "output_type": "stream",
     "text": [
      "Epoch 20, Loss 0.046\n",
      "Training Accuracy: 0.9521, Testing Accuracy: 0.9577\n",
      "\n"
     ]
    },
    {
     "name": "stdout",
     "output_type": "stream",
     "text": [
      "Epoch 30, Loss 0.0383\n",
      "Training Accuracy: 0.9584, Testing Accuracy: 0.9637\n",
      "\n"
     ]
    },
    {
     "name": "stdout",
     "output_type": "stream",
     "text": [
      "Epoch 40, Loss 0.034\n",
      "Training Accuracy: 0.9625, Testing Accuracy: 0.9688\n",
      "\n"
     ]
    },
    {
     "name": "stdout",
     "output_type": "stream",
     "text": [
      "Epoch 50, Loss 0.0311\n",
      "Training Accuracy: 0.9649, Testing Accuracy: 0.9703\n",
      "\n"
     ]
    },
    {
     "name": "stdout",
     "output_type": "stream",
     "text": [
      "Epoch 60, Loss 0.029\n",
      "Training Accuracy: 0.9672, Testing Accuracy: 0.9718\n",
      "\n"
     ]
    },
    {
     "name": "stdout",
     "output_type": "stream",
     "text": [
      "Epoch 70, Loss 0.0274\n",
      "Training Accuracy: 0.9688, Testing Accuracy: 0.9718\n",
      "\n"
     ]
    },
    {
     "name": "stdout",
     "output_type": "stream",
     "text": [
      "Epoch 80, Loss 0.026\n",
      "Training Accuracy: 0.9705, Testing Accuracy: 0.9733\n",
      "\n"
     ]
    },
    {
     "name": "stdout",
     "output_type": "stream",
     "text": [
      "Epoch 90, Loss 0.0249\n",
      "Training Accuracy: 0.9718, Testing Accuracy: 0.9743\n",
      "\n"
     ]
    },
    {
     "name": "stdout",
     "output_type": "stream",
     "text": [
      "Epoch 100, Loss 0.0239\n",
      "Training Accuracy: 0.9730, Testing Accuracy: 0.9743\n",
      "\n"
     ]
    },
    {
     "name": "stdout",
     "output_type": "stream",
     "text": [
      "Epoch 110, Loss 0.023\n",
      "Training Accuracy: 0.9740, Testing Accuracy: 0.9748\n",
      "\n"
     ]
    },
    {
     "name": "stdout",
     "output_type": "stream",
     "text": [
      "Epoch 120, Loss 0.0222\n",
      "Training Accuracy: 0.9755, Testing Accuracy: 0.9753\n",
      "\n"
     ]
    },
    {
     "name": "stdout",
     "output_type": "stream",
     "text": [
      "Epoch 130, Loss 0.0215\n",
      "Training Accuracy: 0.9766, Testing Accuracy: 0.9763\n",
      "\n"
     ]
    },
    {
     "name": "stdout",
     "output_type": "stream",
     "text": [
      "Epoch 140, Loss 0.0208\n",
      "Training Accuracy: 0.9771, Testing Accuracy: 0.9763\n",
      "\n"
     ]
    },
    {
     "name": "stdout",
     "output_type": "stream",
     "text": [
      "Epoch 150, Loss 0.0202\n",
      "Training Accuracy: 0.9777, Testing Accuracy: 0.9768\n",
      "\n"
     ]
    },
    {
     "name": "stdout",
     "output_type": "stream",
     "text": [
      "Epoch 160, Loss 0.0196\n",
      "Training Accuracy: 0.9788, Testing Accuracy: 0.9768\n",
      "\n"
     ]
    },
    {
     "name": "stdout",
     "output_type": "stream",
     "text": [
      "Epoch 170, Loss 0.0191\n",
      "Training Accuracy: 0.9793, Testing Accuracy: 0.9763\n",
      "\n"
     ]
    },
    {
     "name": "stdout",
     "output_type": "stream",
     "text": [
      "Epoch 180, Loss 0.0186\n",
      "Training Accuracy: 0.9799, Testing Accuracy: 0.9763\n",
      "\n"
     ]
    },
    {
     "name": "stdout",
     "output_type": "stream",
     "text": [
      "Epoch 190, Loss 0.0182\n",
      "Training Accuracy: 0.9806, Testing Accuracy: 0.9763\n",
      "\n"
     ]
    },
    {
     "name": "stdout",
     "output_type": "stream",
     "text": [
      "Epoch 200, Loss 0.0177\n",
      "Training Accuracy: 0.9812, Testing Accuracy: 0.9773\n",
      "\n"
     ]
    },
    {
     "name": "stdout",
     "output_type": "stream",
     "text": [
      "Epoch 210, Loss 0.0173\n",
      "Training Accuracy: 0.9817, Testing Accuracy: 0.9773\n",
      "\n"
     ]
    },
    {
     "name": "stdout",
     "output_type": "stream",
     "text": [
      "Epoch 220, Loss 0.0169\n",
      "Training Accuracy: 0.9821, Testing Accuracy: 0.9773\n",
      "\n"
     ]
    },
    {
     "name": "stdout",
     "output_type": "stream",
     "text": [
      "Epoch 230, Loss 0.0165\n",
      "Training Accuracy: 0.9824, Testing Accuracy: 0.9773\n",
      "\n"
     ]
    },
    {
     "name": "stdout",
     "output_type": "stream",
     "text": [
      "Epoch 240, Loss 0.0161\n",
      "Training Accuracy: 0.9826, Testing Accuracy: 0.9778\n",
      "\n"
     ]
    },
    {
     "data": {
      "text/plain": [
       "0.0030897350245062865"
      ]
     },
     "execution_count": 22,
     "metadata": {},
     "output_type": "execute_result"
    }
   ],
   "source": [
    "nn_learner.train_loop(dl)"
   ]
  },
  {
   "cell_type": "code",
   "execution_count": 23,
   "id": "e0163366",
   "metadata": {
    "execution": {
     "iopub.execute_input": "2022-04-23T00:36:56.690808Z",
     "iopub.status.busy": "2022-04-23T00:36:56.689634Z",
     "iopub.status.idle": "2022-04-23T00:37:09.016096Z",
     "shell.execute_reply": "2022-04-23T00:37:09.016502Z"
    },
    "papermill": {
     "duration": 12.366288,
     "end_time": "2022-04-23T00:37:09.016630",
     "exception": false,
     "start_time": "2022-04-23T00:36:56.650342",
     "status": "completed"
    },
    "tags": []
   },
   "outputs": [
    {
     "name": "stdout",
     "output_type": "stream",
     "text": [
      "Epoch 0, Loss 0.2569\n",
      "Training Accuracy: 0.6098, Testing Accuracy: 0.6310\n",
      "\n"
     ]
    },
    {
     "name": "stdout",
     "output_type": "stream",
     "text": [
      "Epoch 10, Loss 0.1081\n",
      "Training Accuracy: 0.8983, Testing Accuracy: 0.9052\n",
      "\n"
     ]
    },
    {
     "name": "stdout",
     "output_type": "stream",
     "text": [
      "Epoch 20, Loss 0.0817\n",
      "Training Accuracy: 0.9222, Testing Accuracy: 0.9355\n",
      "\n"
     ]
    },
    {
     "name": "stdout",
     "output_type": "stream",
     "text": [
      "Epoch 30, Loss 0.0698\n",
      "Training Accuracy: 0.9339, Testing Accuracy: 0.9491\n",
      "\n"
     ]
    },
    {
     "name": "stdout",
     "output_type": "stream",
     "text": [
      "Epoch 40, Loss 0.0627\n",
      "Training Accuracy: 0.9405, Testing Accuracy: 0.9536\n",
      "\n"
     ]
    },
    {
     "name": "stdout",
     "output_type": "stream",
     "text": [
      "Epoch 50, Loss 0.058\n",
      "Training Accuracy: 0.9444, Testing Accuracy: 0.9577\n",
      "\n"
     ]
    },
    {
     "name": "stdout",
     "output_type": "stream",
     "text": [
      "Epoch 60, Loss 0.0545\n",
      "Training Accuracy: 0.9465, Testing Accuracy: 0.9602\n",
      "\n"
     ]
    },
    {
     "name": "stdout",
     "output_type": "stream",
     "text": [
      "Epoch 70, Loss 0.0519\n",
      "Training Accuracy: 0.9489, Testing Accuracy: 0.9617\n",
      "\n"
     ]
    },
    {
     "name": "stdout",
     "output_type": "stream",
     "text": [
      "Epoch 80, Loss 0.0498\n",
      "Training Accuracy: 0.9511, Testing Accuracy: 0.9622\n",
      "\n"
     ]
    },
    {
     "name": "stdout",
     "output_type": "stream",
     "text": [
      "Epoch 90, Loss 0.048\n",
      "Training Accuracy: 0.9525, Testing Accuracy: 0.9632\n",
      "\n"
     ]
    },
    {
     "name": "stdout",
     "output_type": "stream",
     "text": [
      "Epoch 100, Loss 0.0466\n",
      "Training Accuracy: 0.9536, Testing Accuracy: 0.9647\n",
      "\n"
     ]
    },
    {
     "name": "stdout",
     "output_type": "stream",
     "text": [
      "Epoch 110, Loss 0.0453\n",
      "Training Accuracy: 0.9547, Testing Accuracy: 0.9642\n",
      "\n"
     ]
    },
    {
     "name": "stdout",
     "output_type": "stream",
     "text": [
      "Epoch 120, Loss 0.0442\n",
      "Training Accuracy: 0.9555, Testing Accuracy: 0.9652\n",
      "\n"
     ]
    },
    {
     "name": "stdout",
     "output_type": "stream",
     "text": [
      "Epoch 130, Loss 0.0433\n",
      "Training Accuracy: 0.9560, Testing Accuracy: 0.9667\n",
      "\n"
     ]
    },
    {
     "name": "stdout",
     "output_type": "stream",
     "text": [
      "Epoch 140, Loss 0.0424\n",
      "Training Accuracy: 0.9564, Testing Accuracy: 0.9667\n",
      "\n"
     ]
    },
    {
     "name": "stdout",
     "output_type": "stream",
     "text": [
      "Epoch 150, Loss 0.0416\n",
      "Training Accuracy: 0.9569, Testing Accuracy: 0.9667\n",
      "\n"
     ]
    },
    {
     "name": "stdout",
     "output_type": "stream",
     "text": [
      "Epoch 160, Loss 0.041\n",
      "Training Accuracy: 0.9575, Testing Accuracy: 0.9667\n",
      "\n"
     ]
    },
    {
     "name": "stdout",
     "output_type": "stream",
     "text": [
      "Epoch 170, Loss 0.0403\n",
      "Training Accuracy: 0.9580, Testing Accuracy: 0.9667\n",
      "\n"
     ]
    },
    {
     "name": "stdout",
     "output_type": "stream",
     "text": [
      "Epoch 180, Loss 0.0398\n",
      "Training Accuracy: 0.9584, Testing Accuracy: 0.9672\n",
      "\n"
     ]
    },
    {
     "name": "stdout",
     "output_type": "stream",
     "text": [
      "Epoch 190, Loss 0.0392\n",
      "Training Accuracy: 0.9582, Testing Accuracy: 0.9672\n",
      "\n"
     ]
    },
    {
     "name": "stdout",
     "output_type": "stream",
     "text": [
      "Epoch 200, Loss 0.0387\n",
      "Training Accuracy: 0.9589, Testing Accuracy: 0.9672\n",
      "\n"
     ]
    },
    {
     "name": "stdout",
     "output_type": "stream",
     "text": [
      "Epoch 210, Loss 0.0383\n",
      "Training Accuracy: 0.9591, Testing Accuracy: 0.9667\n",
      "\n"
     ]
    },
    {
     "name": "stdout",
     "output_type": "stream",
     "text": [
      "Epoch 220, Loss 0.0379\n",
      "Training Accuracy: 0.9595, Testing Accuracy: 0.9667\n",
      "\n"
     ]
    },
    {
     "name": "stdout",
     "output_type": "stream",
     "text": [
      "Epoch 230, Loss 0.0375\n",
      "Training Accuracy: 0.9599, Testing Accuracy: 0.9667\n",
      "\n"
     ]
    },
    {
     "name": "stdout",
     "output_type": "stream",
     "text": [
      "Epoch 240, Loss 0.0371\n",
      "Training Accuracy: 0.9600, Testing Accuracy: 0.9667\n",
      "\n"
     ]
    },
    {
     "data": {
      "text/plain": [
       "0.03793772620192653"
      ]
     },
     "execution_count": 23,
     "metadata": {},
     "output_type": "execute_result"
    }
   ],
   "source": [
    "lr_learner.train_loop(dl)"
   ]
  },
  {
   "cell_type": "code",
   "execution_count": 24,
   "id": "ca410940",
   "metadata": {
    "execution": {
     "iopub.execute_input": "2022-04-23T00:37:09.109834Z",
     "iopub.status.busy": "2022-04-23T00:37:09.108362Z",
     "iopub.status.idle": "2022-04-23T00:37:09.349603Z",
     "shell.execute_reply": "2022-04-23T00:37:09.349177Z"
    },
    "papermill": {
     "duration": 0.290479,
     "end_time": "2022-04-23T00:37:09.349717",
     "exception": false,
     "start_time": "2022-04-23T00:37:09.059238",
     "status": "completed"
    },
    "tags": []
   },
   "outputs": [
    {
     "data": {
      "text/plain": [
       "<matplotlib.legend.Legend at 0x7fd242103b38>"
      ]
     },
     "execution_count": 24,
     "metadata": {},
     "output_type": "execute_result"
    },
    {
     "data": {
      "image/png": "[encoded data removed]",
      "text/plain": [
       "<Figure size 1080x720 with 1 Axes>"
      ]
     },
     "metadata": {
      "needs_background": "light"
     },
     "output_type": "display_data"
    }
   ],
   "source": [
    "#comparing the results of NN and LR\n",
    "plt.figure(figsize=(15,10))\n",
    "\n",
    "# Neural Network plots\n",
    "plt.plot(acc_nn.accuracies, 'r-', label = \"Training Accuracies - NN\")\n",
    "plt.plot(acc_nn.test_accuracies, 'g-', label = \"Testing Accuracies - NN\")\n",
    "\n",
    "# Logistic Regression plots\n",
    "plt.plot(acc_lr.accuracies, 'k-', label = \"Training Accuracies - LR\")\n",
    "plt.plot(acc_lr.test_accuracies, 'b-', label = \"Testing Accuracies - LR\")\n",
    "plt.legend()"
   ]
  },
  {
   "cell_type": "markdown",
   "id": "80dfb35c",
   "metadata": {
    "papermill": {
     "duration": 0.04607,
     "end_time": "2022-04-23T00:37:09.439592",
     "exception": false,
     "start_time": "2022-04-23T00:37:09.393522",
     "status": "completed"
    },
    "tags": []
   },
   "source": [
    "#### Plotting the outputs of this layer of the NN.\n"
   ]
  },
  {
   "cell_type": "code",
   "execution_count": 25,
   "id": "45eb2ff5",
   "metadata": {
    "execution": {
     "iopub.execute_input": "2022-04-23T00:37:09.532519Z",
     "iopub.status.busy": "2022-04-23T00:37:09.531995Z",
     "iopub.status.idle": "2022-04-23T00:37:09.568093Z",
     "shell.execute_reply": "2022-04-23T00:37:09.568507Z"
    },
    "papermill": {
     "duration": 0.083759,
     "end_time": "2022-04-23T00:37:09.568642",
     "exception": false,
     "start_time": "2022-04-23T00:37:09.484883",
     "status": "completed"
    },
    "tags": []
   },
   "outputs": [],
   "source": [
    "new_model = Model(layers[:-2])\n",
    "testing_plot = new_model(testing_data_x)"
   ]
  },
  {
   "cell_type": "code",
   "execution_count": 26,
   "id": "4c0a5485",
   "metadata": {
    "execution": {
     "iopub.execute_input": "2022-04-23T00:37:09.662388Z",
     "iopub.status.busy": "2022-04-23T00:37:09.661884Z",
     "iopub.status.idle": "2022-04-23T00:37:09.857201Z",
     "shell.execute_reply": "2022-04-23T00:37:09.856784Z"
    },
    "papermill": {
     "duration": 0.244055,
     "end_time": "2022-04-23T00:37:09.857313",
     "exception": false,
     "start_time": "2022-04-23T00:37:09.613258",
     "status": "completed"
    },
    "tags": []
   },
   "outputs": [
    {
     "data": {
      "text/plain": [
       "Text(0.5, 1.0, 'Outputs')"
      ]
     },
     "execution_count": 26,
     "metadata": {},
     "output_type": "execute_result"
    },
    {
     "data": {
      "image/png": "[encoded data removed]",
      "text/plain": [
       "<Figure size 576x504 with 1 Axes>"
      ]
     },
     "metadata": {
      "needs_background": "light"
     },
     "output_type": "display_data"
    }
   ],
   "source": [
    "# Plotting the scatter plot of points and color coding by class\n",
    "plt.figure(figsize=(8,7))\n",
    "plt.scatter(testing_plot[:,0], testing_plot[:,1], alpha = 0.1, c = y_test.ravel());\n",
    "plt.title('Outputs')"
   ]
  },
  {
   "cell_type": "markdown",
   "id": "a74fcf8f",
   "metadata": {
    "papermill": {
     "duration": 0.066798,
     "end_time": "2022-04-23T00:37:09.970061",
     "exception": false,
     "start_time": "2022-04-23T00:37:09.903263",
     "status": "completed"
    },
    "tags": []
   },
   "source": [
    "Probability contours"
   ]
  },
  {
   "cell_type": "code",
   "execution_count": 27,
   "id": "d0afc8e3",
   "metadata": {
    "execution": {
     "iopub.execute_input": "2022-04-23T00:37:10.066279Z",
     "iopub.status.busy": "2022-04-23T00:37:10.065347Z",
     "iopub.status.idle": "2022-04-23T00:37:10.076320Z",
     "shell.execute_reply": "2022-04-23T00:37:10.075807Z"
    },
    "papermill": {
     "duration": 0.06062,
     "end_time": "2022-04-23T00:37:10.076427",
     "exception": false,
     "start_time": "2022-04-23T00:37:10.015807",
     "status": "completed"
    },
    "tags": []
   },
   "outputs": [],
   "source": [
    "model_prob = Model(layers[-2:]) "
   ]
  },
  {
   "cell_type": "code",
   "execution_count": 28,
   "id": "9b96e238",
   "metadata": {
    "execution": {
     "iopub.execute_input": "2022-04-23T00:37:10.172205Z",
     "iopub.status.busy": "2022-04-23T00:37:10.171697Z",
     "iopub.status.idle": "2022-04-23T00:37:10.184057Z",
     "shell.execute_reply": "2022-04-23T00:37:10.184452Z"
    },
    "papermill": {
     "duration": 0.062535,
     "end_time": "2022-04-23T00:37:10.184584",
     "exception": false,
     "start_time": "2022-04-23T00:37:10.122049",
     "status": "completed"
    },
    "tags": []
   },
   "outputs": [],
   "source": [
    "#creating the x and y ranges according to the above generated plot.\n",
    "x_range = np.linspace(-4, 1, 100) \n",
    "y_range = np.linspace(-6, 6, 100) \n",
    "x_grid, y_grid = np.meshgrid(x_range, y_range) # x_grid and y_grig are of size 100 X 100\n",
    "\n",
    "# converting x_grid and y_grid to continuous arrays\n",
    "x_gridflat = np.ravel(x_grid)\n",
    "y_gridflat = np.ravel(y_grid)\n",
    "\n",
    "# The last layer of the current model takes two columns as input. Hence transpose of np.vstack() is required.\n",
    "X = np.vstack((x_gridflat, y_gridflat)).T\n",
    "\n",
    "prob_contour = model_prob(X).reshape(100,100) "
   ]
  },
  {
   "cell_type": "code",
   "execution_count": 29,
   "id": "da72499a",
   "metadata": {
    "execution": {
     "iopub.execute_input": "2022-04-23T00:37:10.280922Z",
     "iopub.status.busy": "2022-04-23T00:37:10.280431Z",
     "iopub.status.idle": "2022-04-23T00:37:10.533848Z",
     "shell.execute_reply": "2022-04-23T00:37:10.534254Z"
    },
    "papermill": {
     "duration": 0.303868,
     "end_time": "2022-04-23T00:37:10.534380",
     "exception": false,
     "start_time": "2022-04-23T00:37:10.230512",
     "status": "completed"
    },
    "tags": []
   },
   "outputs": [
    {
     "data": {
      "image/png": "[encoded data removed]",
      "text/plain": [
       "<Figure size 720x648 with 1 Axes>"
      ]
     },
     "metadata": {
      "needs_background": "light"
     },
     "output_type": "display_data"
    }
   ],
   "source": [
    "plt.figure(figsize=(10,9))\n",
    "plt.scatter(testing_plot[:,0], testing_plot[:,1], alpha = 0.1, c = y_test.ravel())\n",
    "contours = plt.contour(x_grid,y_grid,prob_contour)\n",
    "plt.title('Probability Contours')\n",
    "plt.clabel(contours, inline = True );"
   ]
  },
  {
   "cell_type": "code",
   "execution_count": null,
   "id": "e81b4ac7",
   "metadata": {
    "papermill": {
     "duration": 0.048006,
     "end_time": "2022-04-23T00:37:10.630754",
     "exception": false,
     "start_time": "2022-04-23T00:37:10.582748",
     "status": "completed"
    },
    "tags": []
   },
   "outputs": [],
   "source": []
  }
 ],
 "metadata": {
  "kernelspec": {
   "display_name": "Python 3",
   "language": "python",
   "name": "python3"
  },
  "language_info": {
   "codemirror_mode": {
    "name": "ipython",
    "version": 3
   },
   "file_extension": ".py",
   "mimetype": "text/x-python",
   "name": "python",
   "nbconvert_exporter": "python",
   "pygments_lexer": "ipython3",
   "version": "3.6.15"
  },
  "papermill": {
   "default_parameters": {},
   "duration": 196.775582,
   "end_time": "2022-04-23T00:37:10.995997",
   "environment_variables": {},
   "exception": null,
   "input_path": "2020-08-11-part2.ipynb",
   "output_path": "2020-08-11-part2.ipynb",
   "parameters": {},
   "start_time": "2022-04-23T00:33:54.220415",
   "version": "2.3.3"
  }
 },
 "nbformat": 4,
 "nbformat_minor": 5
}