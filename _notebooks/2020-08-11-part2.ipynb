{
 "cells": [
  {
   "cell_type": "markdown",
   "id": "98380cd3",
   "metadata": {
    "papermill": {
     "duration": 0.035572,
     "end_time": "2022-11-30T00:39:39.685809",
     "exception": false,
     "start_time": "2022-11-30T00:39:39.650237",
     "status": "completed"
    },
    "tags": []
   },
   "source": [
    "# Distinguish Your Own Digits (DYOD)"
   ]
  },
  {
   "cell_type": "markdown",
   "id": "ef31240d",
   "metadata": {
    "papermill": {
     "duration": 0.028528,
     "end_time": "2022-11-30T00:39:39.743853",
     "exception": false,
     "start_time": "2022-11-30T00:39:39.715325",
     "status": "completed"
    },
    "tags": []
   },
   "source": [
    "You are going to write a classifier that distinguishes between the number 3 and number 8."
   ]
  },
  {
   "cell_type": "code",
   "execution_count": 1,
   "id": "b15c8646",
   "metadata": {
    "execution": {
     "iopub.execute_input": "2022-11-30T00:39:39.813571Z",
     "iopub.status.busy": "2022-11-30T00:39:39.812793Z",
     "iopub.status.idle": "2022-11-30T00:39:39.825324Z",
     "shell.execute_reply": "2022-11-30T00:39:39.824755Z"
    },
    "papermill": {
     "duration": 0.053764,
     "end_time": "2022-11-30T00:39:39.825481",
     "exception": false,
     "start_time": "2022-11-30T00:39:39.771717",
     "status": "completed"
    },
    "tags": []
   },
   "outputs": [],
   "source": [
    "%load_ext autoreload\n",
    "%autoreload 2"
   ]
  },
  {
   "cell_type": "code",
   "execution_count": 2,
   "id": "22ef38dc",
   "metadata": {
    "execution": {
     "iopub.execute_input": "2022-11-30T00:39:39.892682Z",
     "iopub.status.busy": "2022-11-30T00:39:39.891749Z",
     "iopub.status.idle": "2022-11-30T00:39:40.557716Z",
     "shell.execute_reply": "2022-11-30T00:39:40.557089Z"
    },
    "papermill": {
     "duration": 0.699687,
     "end_time": "2022-11-30T00:39:40.557855",
     "exception": false,
     "start_time": "2022-11-30T00:39:39.858168",
     "status": "completed"
    },
    "tags": []
   },
   "outputs": [],
   "source": [
    "%matplotlib inline\n",
    "import numpy as np\n",
    "import matplotlib.pyplot as plt\n",
    "import pandas as pd"
   ]
  },
  {
   "cell_type": "markdown",
   "id": "ba036198",
   "metadata": {
    "papermill": {
     "duration": 0.027871,
     "end_time": "2022-11-30T00:39:40.613441",
     "exception": false,
     "start_time": "2022-11-30T00:39:40.585570",
     "status": "completed"
    },
    "tags": []
   },
   "source": [
    "From the command line run `pip install mnist`. This is a library that will help you bring down the mnist dataset. If you run this from a notebook, you need to put  `!pip install mnist` in a cell by itself."
   ]
  },
  {
   "cell_type": "code",
   "execution_count": 3,
   "id": "bb6ad8a1",
   "metadata": {
    "execution": {
     "iopub.execute_input": "2022-11-30T00:39:40.674142Z",
     "iopub.status.busy": "2022-11-30T00:39:40.672852Z",
     "iopub.status.idle": "2022-11-30T00:39:42.651447Z",
     "shell.execute_reply": "2022-11-30T00:39:42.650428Z"
    },
    "papermill": {
     "duration": 2.010672,
     "end_time": "2022-11-30T00:39:42.651680",
     "exception": false,
     "start_time": "2022-11-30T00:39:40.641008",
     "status": "completed"
    },
    "tags": []
   },
   "outputs": [
    {
     "name": "stdout",
     "output_type": "stream",
     "text": [
      "Collecting mnist\r\n"
     ]
    },
    {
     "name": "stdout",
     "output_type": "stream",
     "text": [
      "  Downloading mnist-0.2.2-py2.py3-none-any.whl (3.5 kB)\r\n"
     ]
    },
    {
     "name": "stdout",
     "output_type": "stream",
     "text": [
      "Requirement already satisfied: numpy in /opt/hostedtoolcache/Python/3.6.15/x64/lib/python3.6/site-packages (from mnist) (1.19.5)\r\n"
     ]
    },
    {
     "name": "stdout",
     "output_type": "stream",
     "text": [
      "Installing collected packages: mnist\r\n"
     ]
    },
    {
     "name": "stdout",
     "output_type": "stream",
     "text": [
      "Successfully installed mnist-0.2.2\r\n"
     ]
    }
   ],
   "source": [
    "!pip install mnist"
   ]
  },
  {
   "cell_type": "markdown",
   "id": "69df9c9a",
   "metadata": {
    "papermill": {
     "duration": 0.029941,
     "end_time": "2022-11-30T00:39:42.711580",
     "exception": false,
     "start_time": "2022-11-30T00:39:42.681639",
     "status": "completed"
    },
    "tags": []
   },
   "source": [
    "## Preparing the Data"
   ]
  },
  {
   "cell_type": "code",
   "execution_count": 4,
   "id": "7f69d806",
   "metadata": {
    "execution": {
     "iopub.execute_input": "2022-11-30T00:39:42.781606Z",
     "iopub.status.busy": "2022-11-30T00:39:42.780909Z",
     "iopub.status.idle": "2022-11-30T00:39:42.800679Z",
     "shell.execute_reply": "2022-11-30T00:39:42.799896Z"
    },
    "papermill": {
     "duration": 0.056388,
     "end_time": "2022-11-30T00:39:42.800850",
     "exception": false,
     "start_time": "2022-11-30T00:39:42.744462",
     "status": "completed"
    },
    "tags": []
   },
   "outputs": [],
   "source": [
    "import mnist"
   ]
  },
  {
   "cell_type": "code",
   "execution_count": 5,
   "id": "a411e44f",
   "metadata": {
    "execution": {
     "iopub.execute_input": "2022-11-30T00:39:42.867999Z",
     "iopub.status.busy": "2022-11-30T00:39:42.867297Z",
     "iopub.status.idle": "2022-11-30T00:39:43.926700Z",
     "shell.execute_reply": "2022-11-30T00:39:43.926086Z"
    },
    "papermill": {
     "duration": 1.094438,
     "end_time": "2022-11-30T00:39:43.926839",
     "exception": false,
     "start_time": "2022-11-30T00:39:42.832401",
     "status": "completed"
    },
    "tags": []
   },
   "outputs": [],
   "source": [
    "train_images = mnist.train_images()\n",
    "train_labels = mnist.train_labels()"
   ]
  },
  {
   "cell_type": "code",
   "execution_count": 6,
   "id": "dceab3a5",
   "metadata": {
    "execution": {
     "iopub.execute_input": "2022-11-30T00:39:43.990688Z",
     "iopub.status.busy": "2022-11-30T00:39:43.989712Z",
     "iopub.status.idle": "2022-11-30T00:39:44.006628Z",
     "shell.execute_reply": "2022-11-30T00:39:44.006067Z"
    },
    "papermill": {
     "duration": 0.051091,
     "end_time": "2022-11-30T00:39:44.006763",
     "exception": false,
     "start_time": "2022-11-30T00:39:43.955672",
     "status": "completed"
    },
    "tags": []
   },
   "outputs": [
    {
     "data": {
      "text/plain": [
       "((60000, 28, 28), (60000,))"
      ]
     },
     "execution_count": 6,
     "metadata": {},
     "output_type": "execute_result"
    }
   ],
   "source": [
    "train_images.shape, train_labels.shape"
   ]
  },
  {
   "cell_type": "code",
   "execution_count": 7,
   "id": "f50dc2bb",
   "metadata": {
    "execution": {
     "iopub.execute_input": "2022-11-30T00:39:44.070434Z",
     "iopub.status.busy": "2022-11-30T00:39:44.069750Z",
     "iopub.status.idle": "2022-11-30T00:39:44.562211Z",
     "shell.execute_reply": "2022-11-30T00:39:44.561114Z"
    },
    "papermill": {
     "duration": 0.525329,
     "end_time": "2022-11-30T00:39:44.562449",
     "exception": false,
     "start_time": "2022-11-30T00:39:44.037120",
     "status": "completed"
    },
    "tags": []
   },
   "outputs": [],
   "source": [
    "test_images = mnist.test_images()\n",
    "test_labels = mnist.test_labels()"
   ]
  },
  {
   "cell_type": "code",
   "execution_count": 8,
   "id": "fc38cf1b",
   "metadata": {
    "execution": {
     "iopub.execute_input": "2022-11-30T00:39:44.634738Z",
     "iopub.status.busy": "2022-11-30T00:39:44.634048Z",
     "iopub.status.idle": "2022-11-30T00:39:44.650549Z",
     "shell.execute_reply": "2022-11-30T00:39:44.651721Z"
    },
    "papermill": {
     "duration": 0.053498,
     "end_time": "2022-11-30T00:39:44.651964",
     "exception": false,
     "start_time": "2022-11-30T00:39:44.598466",
     "status": "completed"
    },
    "tags": []
   },
   "outputs": [
    {
     "data": {
      "text/plain": [
       "((10000, 28, 28), (10000,))"
      ]
     },
     "execution_count": 8,
     "metadata": {},
     "output_type": "execute_result"
    }
   ],
   "source": [
    "test_images.shape, test_labels.shape"
   ]
  },
  {
   "cell_type": "code",
   "execution_count": 9,
   "id": "f9ed8fe0",
   "metadata": {
    "execution": {
     "iopub.execute_input": "2022-11-30T00:39:44.719293Z",
     "iopub.status.busy": "2022-11-30T00:39:44.718584Z",
     "iopub.status.idle": "2022-11-30T00:39:44.898810Z",
     "shell.execute_reply": "2022-11-30T00:39:44.899485Z"
    },
    "papermill": {
     "duration": 0.215988,
     "end_time": "2022-11-30T00:39:44.899661",
     "exception": false,
     "start_time": "2022-11-30T00:39:44.683673",
     "status": "completed"
    },
    "tags": []
   },
   "outputs": [
    {
     "name": "stdout",
     "output_type": "stream",
     "text": [
      "2\n"
     ]
    },
    {
     "data": {
      "text/plain": [
       "<matplotlib.image.AxesImage at 0x7f32dddadda0>"
      ]
     },
     "execution_count": 9,
     "metadata": {},
     "output_type": "execute_result"
    },
    {
     "data": {
      "image/png": "[encoded data removed]",
      "text/plain": [
       "<Figure size 432x288 with 1 Axes>"
      ]
     },
     "metadata": {
      "needs_background": "light"
     },
     "output_type": "display_data"
    }
   ],
   "source": [
    "image_index = 7776 # You may select anything up to 60,000\n",
    "print(train_labels[image_index]) \n",
    "plt.imshow(train_images[image_index], cmap='Greys')"
   ]
  },
  {
   "cell_type": "markdown",
   "id": "a8d2388d",
   "metadata": {
    "papermill": {
     "duration": 0.036376,
     "end_time": "2022-11-30T00:39:44.967779",
     "exception": false,
     "start_time": "2022-11-30T00:39:44.931403",
     "status": "completed"
    },
    "tags": []
   },
   "source": [
    "## Filter data to get 3 and 8 out"
   ]
  },
  {
   "cell_type": "code",
   "execution_count": 10,
   "id": "776f7fc7",
   "metadata": {
    "execution": {
     "iopub.execute_input": "2022-11-30T00:39:45.034548Z",
     "iopub.status.busy": "2022-11-30T00:39:45.033827Z",
     "iopub.status.idle": "2022-11-30T00:39:45.057470Z",
     "shell.execute_reply": "2022-11-30T00:39:45.056105Z"
    },
    "papermill": {
     "duration": 0.059137,
     "end_time": "2022-11-30T00:39:45.057620",
     "exception": false,
     "start_time": "2022-11-30T00:39:44.998483",
     "status": "completed"
    },
    "tags": []
   },
   "outputs": [],
   "source": [
    "train_filter = np.where((train_labels == 3 ) | (train_labels == 8))\n",
    "test_filter = np.where((test_labels == 3) | (test_labels == 8))\n",
    "X_train, y_train = train_images[train_filter], train_labels[train_filter]\n",
    "X_test, y_test = test_images[test_filter], test_labels[test_filter]"
   ]
  },
  {
   "cell_type": "markdown",
   "id": "948f0b7e",
   "metadata": {
    "papermill": {
     "duration": 0.029667,
     "end_time": "2022-11-30T00:39:45.117477",
     "exception": false,
     "start_time": "2022-11-30T00:39:45.087810",
     "status": "completed"
    },
    "tags": []
   },
   "source": [
    "We normalize the pizel values in the 0 to 1 range"
   ]
  },
  {
   "cell_type": "code",
   "execution_count": 11,
   "id": "ee4c2166",
   "metadata": {
    "execution": {
     "iopub.execute_input": "2022-11-30T00:39:45.184651Z",
     "iopub.status.busy": "2022-11-30T00:39:45.182252Z",
     "iopub.status.idle": "2022-11-30T00:39:45.236869Z",
     "shell.execute_reply": "2022-11-30T00:39:45.236265Z"
    },
    "papermill": {
     "duration": 0.089373,
     "end_time": "2022-11-30T00:39:45.237014",
     "exception": false,
     "start_time": "2022-11-30T00:39:45.147641",
     "status": "completed"
    },
    "tags": []
   },
   "outputs": [],
   "source": [
    "X_train = X_train/255.\n",
    "X_test = X_test/255."
   ]
  },
  {
   "cell_type": "markdown",
   "id": "ddcf4fab",
   "metadata": {
    "papermill": {
     "duration": 0.03256,
     "end_time": "2022-11-30T00:39:45.301192",
     "exception": false,
     "start_time": "2022-11-30T00:39:45.268632",
     "status": "completed"
    },
    "tags": []
   },
   "source": [
    "And setup the labels as 1 (when the digit is 3) and 0 (when the digit is 8)"
   ]
  },
  {
   "cell_type": "code",
   "execution_count": 12,
   "id": "7dc908f2",
   "metadata": {
    "execution": {
     "iopub.execute_input": "2022-11-30T00:39:45.372171Z",
     "iopub.status.busy": "2022-11-30T00:39:45.367998Z",
     "iopub.status.idle": "2022-11-30T00:39:45.381896Z",
     "shell.execute_reply": "2022-11-30T00:39:45.381348Z"
    },
    "papermill": {
     "duration": 0.049224,
     "end_time": "2022-11-30T00:39:45.382023",
     "exception": false,
     "start_time": "2022-11-30T00:39:45.332799",
     "status": "completed"
    },
    "tags": []
   },
   "outputs": [],
   "source": [
    "y_train = 1*(y_train==3)\n",
    "y_test = 1*(y_test==3)"
   ]
  },
  {
   "cell_type": "code",
   "execution_count": 13,
   "id": "01e4e969",
   "metadata": {
    "execution": {
     "iopub.execute_input": "2022-11-30T00:39:45.448198Z",
     "iopub.status.busy": "2022-11-30T00:39:45.447506Z",
     "iopub.status.idle": "2022-11-30T00:39:45.464727Z",
     "shell.execute_reply": "2022-11-30T00:39:45.464055Z"
    },
    "papermill": {
     "duration": 0.051191,
     "end_time": "2022-11-30T00:39:45.464857",
     "exception": false,
     "start_time": "2022-11-30T00:39:45.413666",
     "status": "completed"
    },
    "tags": []
   },
   "outputs": [
    {
     "data": {
      "text/plain": [
       "((11982, 28, 28), (1984, 28, 28))"
      ]
     },
     "execution_count": 13,
     "metadata": {},
     "output_type": "execute_result"
    }
   ],
   "source": [
    "X_train.shape, X_test.shape"
   ]
  },
  {
   "cell_type": "markdown",
   "id": "5ccf3f85",
   "metadata": {
    "papermill": {
     "duration": 0.031379,
     "end_time": "2022-11-30T00:39:45.527299",
     "exception": false,
     "start_time": "2022-11-30T00:39:45.495920",
     "status": "completed"
    },
    "tags": []
   },
   "source": [
    "We reshape the data to flatten the image pixels into a set of features or co-variates:"
   ]
  },
  {
   "cell_type": "code",
   "execution_count": 14,
   "id": "5286a4a3",
   "metadata": {
    "execution": {
     "iopub.execute_input": "2022-11-30T00:39:45.592715Z",
     "iopub.status.busy": "2022-11-30T00:39:45.592038Z",
     "iopub.status.idle": "2022-11-30T00:39:45.608368Z",
     "shell.execute_reply": "2022-11-30T00:39:45.607620Z"
    },
    "papermill": {
     "duration": 0.050537,
     "end_time": "2022-11-30T00:39:45.608506",
     "exception": false,
     "start_time": "2022-11-30T00:39:45.557969",
     "status": "completed"
    },
    "tags": []
   },
   "outputs": [
    {
     "data": {
      "text/plain": [
       "((11982, 784), (1984, 784))"
      ]
     },
     "execution_count": 14,
     "metadata": {},
     "output_type": "execute_result"
    }
   ],
   "source": [
    "X_train = X_train.reshape(X_train.shape[0], -1)\n",
    "X_test = X_test.reshape(X_test.shape[0], -1)\n",
    "X_train.shape, X_test.shape"
   ]
  },
  {
   "cell_type": "code",
   "execution_count": 15,
   "id": "73c5f88a",
   "metadata": {
    "execution": {
     "iopub.execute_input": "2022-11-30T00:39:45.674294Z",
     "iopub.status.busy": "2022-11-30T00:39:45.673600Z",
     "iopub.status.idle": "2022-11-30T00:39:45.700117Z",
     "shell.execute_reply": "2022-11-30T00:39:45.699334Z"
    },
    "papermill": {
     "duration": 0.061759,
     "end_time": "2022-11-30T00:39:45.701050",
     "exception": false,
     "start_time": "2022-11-30T00:39:45.639291",
     "status": "completed"
    },
    "tags": []
   },
   "outputs": [],
   "source": [
    "#Impoting functions from 'Kudzu'\n",
    "from kudzu.model import Model\n",
    "from kudzu.train import Learner\n",
    "from kudzu.optim import GD\n",
    "from kudzu.data import Data, Sampler,Dataloader\n",
    "\n",
    "from kudzu.callbacks import AccCallback\n",
    "from kudzu.callbacks import ClfCallback\n",
    "\n",
    "from kudzu.loss import MSE\n",
    "\n",
    "from kudzu.layer import Sigmoid,Relu\n",
    "from kudzu.layer import Affine"
   ]
  },
  {
   "cell_type": "markdown",
   "id": "bc01172a",
   "metadata": {
    "papermill": {
     "duration": 0.038005,
     "end_time": "2022-11-30T00:39:45.770487",
     "exception": false,
     "start_time": "2022-11-30T00:39:45.732482",
     "status": "completed"
    },
    "tags": []
   },
   "source": [
    "### Let us create a `Config` class, to store important parameters. \n",
    "This class essentially plays the role of a dictionary."
   ]
  },
  {
   "cell_type": "code",
   "execution_count": 16,
   "id": "978281aa",
   "metadata": {
    "execution": {
     "iopub.execute_input": "2022-11-30T00:39:45.843161Z",
     "iopub.status.busy": "2022-11-30T00:39:45.842434Z",
     "iopub.status.idle": "2022-11-30T00:39:45.858039Z",
     "shell.execute_reply": "2022-11-30T00:39:45.857353Z"
    },
    "papermill": {
     "duration": 0.057135,
     "end_time": "2022-11-30T00:39:45.858171",
     "exception": false,
     "start_time": "2022-11-30T00:39:45.801036",
     "status": "completed"
    },
    "tags": []
   },
   "outputs": [],
   "source": [
    "class Config:\n",
    "    pass\n",
    "config = Config()\n",
    "config.lr = 0.001\n",
    "config.num_epochs = 250\n",
    "config.bs = 50"
   ]
  },
  {
   "cell_type": "markdown",
   "id": "1385fa59",
   "metadata": {
    "papermill": {
     "duration": 0.041235,
     "end_time": "2022-11-30T00:39:45.930453",
     "exception": false,
     "start_time": "2022-11-30T00:39:45.889218",
     "status": "completed"
    },
    "tags": []
   },
   "source": [
    "### Running Models with the Training data\n",
    "Details about the network layers:\n",
    "- A first affine layer has 784 inputs and does 100 affine transforms. These are followed by a Relu\n",
    "- A second affine layer has 100 inputs from the 100 activations of the past layer, and does 100 affine transforms. These are followed by a Relu\n",
    "- A third affine layer has 100 activations and does 2 affine transformations to create an embedding for visualization. There is no non-linearity here.\n",
    "- A final \"logistic regression\" which has an affine transform from 2 inputs to 1 output, which is squeezed through a sigmoid.\n"
   ]
  },
  {
   "cell_type": "code",
   "execution_count": 17,
   "id": "2b9c66db",
   "metadata": {
    "execution": {
     "iopub.execute_input": "2022-11-30T00:39:45.997651Z",
     "iopub.status.busy": "2022-11-30T00:39:45.996945Z",
     "iopub.status.idle": "2022-11-30T00:39:46.013511Z",
     "shell.execute_reply": "2022-11-30T00:39:46.014056Z"
    },
    "papermill": {
     "duration": 0.052157,
     "end_time": "2022-11-30T00:39:46.014200",
     "exception": false,
     "start_time": "2022-11-30T00:39:45.962043",
     "status": "completed"
    },
    "tags": []
   },
   "outputs": [],
   "source": [
    "data = Data(X_train, y_train.reshape(-1,1))\n",
    "sampler = Sampler(data, config.bs, shuffle=True)\n",
    "\n",
    "dl = Dataloader(data, sampler)\n",
    "\n",
    "opt = GD(config.lr)\n",
    "loss = MSE()"
   ]
  },
  {
   "cell_type": "code",
   "execution_count": 18,
   "id": "b275e4c2",
   "metadata": {
    "execution": {
     "iopub.execute_input": "2022-11-30T00:39:46.086003Z",
     "iopub.status.busy": "2022-11-30T00:39:46.085231Z",
     "iopub.status.idle": "2022-11-30T00:39:46.105277Z",
     "shell.execute_reply": "2022-11-30T00:39:46.104552Z"
    },
    "papermill": {
     "duration": 0.059608,
     "end_time": "2022-11-30T00:39:46.105407",
     "exception": false,
     "start_time": "2022-11-30T00:39:46.045799",
     "status": "completed"
    },
    "tags": []
   },
   "outputs": [],
   "source": [
    "training_data_x = X_train\n",
    "testing_data_x = X_test\n",
    "training_data_y = y_train.reshape(-1,1)\n",
    "testing_data_y = y_test.reshape(-1,1)"
   ]
  },
  {
   "cell_type": "code",
   "execution_count": 19,
   "id": "76951160",
   "metadata": {
    "execution": {
     "iopub.execute_input": "2022-11-30T00:39:46.173819Z",
     "iopub.status.busy": "2022-11-30T00:39:46.173099Z",
     "iopub.status.idle": "2022-11-30T00:39:46.190960Z",
     "shell.execute_reply": "2022-11-30T00:39:46.191507Z"
    },
    "papermill": {
     "duration": 0.054991,
     "end_time": "2022-11-30T00:39:46.191669",
     "exception": false,
     "start_time": "2022-11-30T00:39:46.136678",
     "status": "completed"
    },
    "tags": []
   },
   "outputs": [
    {
     "name": "stdout",
     "output_type": "stream",
     "text": [
      "xavier\n",
      "xavier\n",
      "xavier\n",
      "xavier\n",
      "xavier\n"
     ]
    }
   ],
   "source": [
    "layers = [Affine(\"first\", 784, 100), Relu(\"first\"), Affine(\"second\", 100, 100), Relu(\"second\"), Affine(\"third\", 100, 2), Affine(\"last\", 2, 1), Sigmoid(\"last\")]\n",
    "model_nn = Model(layers)\n",
    "model_lr = Model([Affine(\"logits\", 784, 1), Sigmoid(\"sigmoid\")])"
   ]
  },
  {
   "cell_type": "code",
   "execution_count": 20,
   "id": "6eede77a",
   "metadata": {
    "execution": {
     "iopub.execute_input": "2022-11-30T00:39:46.257985Z",
     "iopub.status.busy": "2022-11-30T00:39:46.257282Z",
     "iopub.status.idle": "2022-11-30T00:39:46.275215Z",
     "shell.execute_reply": "2022-11-30T00:39:46.274639Z"
    },
    "papermill": {
     "duration": 0.052394,
     "end_time": "2022-11-30T00:39:46.275354",
     "exception": false,
     "start_time": "2022-11-30T00:39:46.222960",
     "status": "completed"
    },
    "tags": []
   },
   "outputs": [],
   "source": [
    "nn_learner = Learner(loss, model_nn, opt, config.num_epochs)\n",
    "acc_nn = ClfCallback(nn_learner, config.bs, training_data_x , testing_data_x, training_data_y, testing_data_y)\n",
    "nn_learner.set_callbacks([acc_nn])"
   ]
  },
  {
   "cell_type": "code",
   "execution_count": 21,
   "id": "877b6cc7",
   "metadata": {
    "execution": {
     "iopub.execute_input": "2022-11-30T00:39:46.342082Z",
     "iopub.status.busy": "2022-11-30T00:39:46.341376Z",
     "iopub.status.idle": "2022-11-30T00:39:46.355835Z",
     "shell.execute_reply": "2022-11-30T00:39:46.355256Z"
    },
    "papermill": {
     "duration": 0.049556,
     "end_time": "2022-11-30T00:39:46.355967",
     "exception": false,
     "start_time": "2022-11-30T00:39:46.306411",
     "status": "completed"
    },
    "tags": []
   },
   "outputs": [],
   "source": [
    "lr_learner = Learner(loss, model_lr, opt, config.num_epochs)\n",
    "acc_lr = ClfCallback(lr_learner, config.bs, training_data_x , testing_data_x, training_data_y, testing_data_y)\n",
    "lr_learner.set_callbacks([acc_lr])"
   ]
  },
  {
   "cell_type": "code",
   "execution_count": 22,
   "id": "d9b133c3",
   "metadata": {
    "execution": {
     "iopub.execute_input": "2022-11-30T00:39:46.424209Z",
     "iopub.status.busy": "2022-11-30T00:39:46.423511Z",
     "iopub.status.idle": "2022-11-30T00:41:13.741916Z",
     "shell.execute_reply": "2022-11-30T00:41:13.742635Z"
    },
    "papermill": {
     "duration": 87.355461,
     "end_time": "2022-11-30T00:41:13.742803",
     "exception": false,
     "start_time": "2022-11-30T00:39:46.387342",
     "status": "completed"
    },
    "tags": []
   },
   "outputs": [
    {
     "name": "stdout",
     "output_type": "stream",
     "text": [
      "Epoch 0, Loss 0.2403\n",
      "Training Accuracy: 0.6567, Testing Accuracy: 0.6724\n",
      "\n"
     ]
    },
    {
     "name": "stdout",
     "output_type": "stream",
     "text": [
      "Epoch 10, Loss 0.0883\n",
      "Training Accuracy: 0.9150, Testing Accuracy: 0.9289\n",
      "\n"
     ]
    },
    {
     "name": "stdout",
     "output_type": "stream",
     "text": [
      "Epoch 20, Loss 0.0552\n",
      "Training Accuracy: 0.9427, Testing Accuracy: 0.9567\n",
      "\n"
     ]
    },
    {
     "name": "stdout",
     "output_type": "stream",
     "text": [
      "Epoch 30, Loss 0.0437\n",
      "Training Accuracy: 0.9519, Testing Accuracy: 0.9622\n",
      "\n"
     ]
    },
    {
     "name": "stdout",
     "output_type": "stream",
     "text": [
      "Epoch 40, Loss 0.038\n",
      "Training Accuracy: 0.9578, Testing Accuracy: 0.9657\n",
      "\n"
     ]
    },
    {
     "name": "stdout",
     "output_type": "stream",
     "text": [
      "Epoch 50, Loss 0.0344\n",
      "Training Accuracy: 0.9614, Testing Accuracy: 0.9682\n",
      "\n"
     ]
    },
    {
     "name": "stdout",
     "output_type": "stream",
     "text": [
      "Epoch 60, Loss 0.0318\n",
      "Training Accuracy: 0.9641, Testing Accuracy: 0.9677\n",
      "\n"
     ]
    },
    {
     "name": "stdout",
     "output_type": "stream",
     "text": [
      "Epoch 70, Loss 0.0299\n",
      "Training Accuracy: 0.9664, Testing Accuracy: 0.9682\n",
      "\n"
     ]
    },
    {
     "name": "stdout",
     "output_type": "stream",
     "text": [
      "Epoch 80, Loss 0.0284\n",
      "Training Accuracy: 0.9680, Testing Accuracy: 0.9693\n",
      "\n"
     ]
    },
    {
     "name": "stdout",
     "output_type": "stream",
     "text": [
      "Epoch 90, Loss 0.0271\n",
      "Training Accuracy: 0.9693, Testing Accuracy: 0.9693\n",
      "\n"
     ]
    },
    {
     "name": "stdout",
     "output_type": "stream",
     "text": [
      "Epoch 100, Loss 0.0261\n",
      "Training Accuracy: 0.9710, Testing Accuracy: 0.9703\n",
      "\n"
     ]
    },
    {
     "name": "stdout",
     "output_type": "stream",
     "text": [
      "Epoch 110, Loss 0.0251\n",
      "Training Accuracy: 0.9721, Testing Accuracy: 0.9723\n",
      "\n"
     ]
    },
    {
     "name": "stdout",
     "output_type": "stream",
     "text": [
      "Epoch 120, Loss 0.0243\n",
      "Training Accuracy: 0.9729, Testing Accuracy: 0.9723\n",
      "\n"
     ]
    },
    {
     "name": "stdout",
     "output_type": "stream",
     "text": [
      "Epoch 130, Loss 0.0235\n",
      "Training Accuracy: 0.9732, Testing Accuracy: 0.9723\n",
      "\n"
     ]
    },
    {
     "name": "stdout",
     "output_type": "stream",
     "text": [
      "Epoch 140, Loss 0.0229\n",
      "Training Accuracy: 0.9739, Testing Accuracy: 0.9723\n",
      "\n"
     ]
    },
    {
     "name": "stdout",
     "output_type": "stream",
     "text": [
      "Epoch 150, Loss 0.0223\n",
      "Training Accuracy: 0.9745, Testing Accuracy: 0.9718\n",
      "\n"
     ]
    },
    {
     "name": "stdout",
     "output_type": "stream",
     "text": [
      "Epoch 160, Loss 0.0217\n",
      "Training Accuracy: 0.9751, Testing Accuracy: 0.9718\n",
      "\n"
     ]
    },
    {
     "name": "stdout",
     "output_type": "stream",
     "text": [
      "Epoch 170, Loss 0.0212\n",
      "Training Accuracy: 0.9754, Testing Accuracy: 0.9718\n",
      "\n"
     ]
    },
    {
     "name": "stdout",
     "output_type": "stream",
     "text": [
      "Epoch 180, Loss 0.0207\n",
      "Training Accuracy: 0.9757, Testing Accuracy: 0.9723\n",
      "\n"
     ]
    },
    {
     "name": "stdout",
     "output_type": "stream",
     "text": [
      "Epoch 190, Loss 0.0202\n",
      "Training Accuracy: 0.9765, Testing Accuracy: 0.9723\n",
      "\n"
     ]
    },
    {
     "name": "stdout",
     "output_type": "stream",
     "text": [
      "Epoch 200, Loss 0.0198\n",
      "Training Accuracy: 0.9773, Testing Accuracy: 0.9743\n",
      "\n"
     ]
    },
    {
     "name": "stdout",
     "output_type": "stream",
     "text": [
      "Epoch 210, Loss 0.0193\n",
      "Training Accuracy: 0.9776, Testing Accuracy: 0.9743\n",
      "\n"
     ]
    },
    {
     "name": "stdout",
     "output_type": "stream",
     "text": [
      "Epoch 220, Loss 0.0189\n",
      "Training Accuracy: 0.9781, Testing Accuracy: 0.9758\n",
      "\n"
     ]
    },
    {
     "name": "stdout",
     "output_type": "stream",
     "text": [
      "Epoch 230, Loss 0.0185\n",
      "Training Accuracy: 0.9786, Testing Accuracy: 0.9773\n",
      "\n"
     ]
    },
    {
     "name": "stdout",
     "output_type": "stream",
     "text": [
      "Epoch 240, Loss 0.0181\n",
      "Training Accuracy: 0.9792, Testing Accuracy: 0.9773\n",
      "\n"
     ]
    },
    {
     "data": {
      "text/plain": [
       "0.047566305107892205"
      ]
     },
     "execution_count": 22,
     "metadata": {},
     "output_type": "execute_result"
    }
   ],
   "source": [
    "nn_learner.train_loop(dl)"
   ]
  },
  {
   "cell_type": "code",
   "execution_count": 23,
   "id": "e0163366",
   "metadata": {
    "execution": {
     "iopub.execute_input": "2022-11-30T00:41:13.829048Z",
     "iopub.status.busy": "2022-11-30T00:41:13.828361Z",
     "iopub.status.idle": "2022-11-30T00:41:29.528958Z",
     "shell.execute_reply": "2022-11-30T00:41:29.529944Z"
    },
    "papermill": {
     "duration": 15.747989,
     "end_time": "2022-11-30T00:41:29.530112",
     "exception": false,
     "start_time": "2022-11-30T00:41:13.782123",
     "status": "completed"
    },
    "tags": []
   },
   "outputs": [
    {
     "name": "stdout",
     "output_type": "stream",
     "text": [
      "Epoch 0, Loss 0.2453\n",
      "Training Accuracy: 0.6862, Testing Accuracy: 0.6719\n",
      "\n"
     ]
    },
    {
     "name": "stdout",
     "output_type": "stream",
     "text": [
      "Epoch 10, Loss 0.1065\n",
      "Training Accuracy: 0.9047, Testing Accuracy: 0.9098\n",
      "\n"
     ]
    },
    {
     "name": "stdout",
     "output_type": "stream",
     "text": [
      "Epoch 20, Loss 0.0816\n",
      "Training Accuracy: 0.9241, Testing Accuracy: 0.9299\n",
      "\n"
     ]
    },
    {
     "name": "stdout",
     "output_type": "stream",
     "text": [
      "Epoch 30, Loss 0.07\n",
      "Training Accuracy: 0.9330, Testing Accuracy: 0.9435\n",
      "\n"
     ]
    },
    {
     "name": "stdout",
     "output_type": "stream",
     "text": [
      "Epoch 40, Loss 0.063\n",
      "Training Accuracy: 0.9387, Testing Accuracy: 0.9516\n",
      "\n"
     ]
    },
    {
     "name": "stdout",
     "output_type": "stream",
     "text": [
      "Epoch 50, Loss 0.0582\n",
      "Training Accuracy: 0.9432, Testing Accuracy: 0.9551\n",
      "\n"
     ]
    },
    {
     "name": "stdout",
     "output_type": "stream",
     "text": [
      "Epoch 60, Loss 0.0547\n",
      "Training Accuracy: 0.9461, Testing Accuracy: 0.9587\n",
      "\n"
     ]
    },
    {
     "name": "stdout",
     "output_type": "stream",
     "text": [
      "Epoch 70, Loss 0.052\n",
      "Training Accuracy: 0.9485, Testing Accuracy: 0.9597\n",
      "\n"
     ]
    },
    {
     "name": "stdout",
     "output_type": "stream",
     "text": [
      "Epoch 80, Loss 0.0499\n",
      "Training Accuracy: 0.9502, Testing Accuracy: 0.9602\n",
      "\n"
     ]
    },
    {
     "name": "stdout",
     "output_type": "stream",
     "text": [
      "Epoch 90, Loss 0.0481\n",
      "Training Accuracy: 0.9519, Testing Accuracy: 0.9602\n",
      "\n"
     ]
    },
    {
     "name": "stdout",
     "output_type": "stream",
     "text": [
      "Epoch 100, Loss 0.0466\n",
      "Training Accuracy: 0.9527, Testing Accuracy: 0.9602\n",
      "\n"
     ]
    },
    {
     "name": "stdout",
     "output_type": "stream",
     "text": [
      "Epoch 110, Loss 0.0453\n",
      "Training Accuracy: 0.9533, Testing Accuracy: 0.9612\n",
      "\n"
     ]
    },
    {
     "name": "stdout",
     "output_type": "stream",
     "text": [
      "Epoch 120, Loss 0.0442\n",
      "Training Accuracy: 0.9541, Testing Accuracy: 0.9627\n",
      "\n"
     ]
    },
    {
     "name": "stdout",
     "output_type": "stream",
     "text": [
      "Epoch 130, Loss 0.0433\n",
      "Training Accuracy: 0.9553, Testing Accuracy: 0.9632\n",
      "\n"
     ]
    },
    {
     "name": "stdout",
     "output_type": "stream",
     "text": [
      "Epoch 140, Loss 0.0424\n",
      "Training Accuracy: 0.9561, Testing Accuracy: 0.9642\n",
      "\n"
     ]
    },
    {
     "name": "stdout",
     "output_type": "stream",
     "text": [
      "Epoch 150, Loss 0.0416\n",
      "Training Accuracy: 0.9564, Testing Accuracy: 0.9652\n",
      "\n"
     ]
    },
    {
     "name": "stdout",
     "output_type": "stream",
     "text": [
      "Epoch 160, Loss 0.0409\n",
      "Training Accuracy: 0.9571, Testing Accuracy: 0.9657\n",
      "\n"
     ]
    },
    {
     "name": "stdout",
     "output_type": "stream",
     "text": [
      "Epoch 170, Loss 0.0403\n",
      "Training Accuracy: 0.9578, Testing Accuracy: 0.9657\n",
      "\n"
     ]
    },
    {
     "name": "stdout",
     "output_type": "stream",
     "text": [
      "Epoch 180, Loss 0.0397\n",
      "Training Accuracy: 0.9580, Testing Accuracy: 0.9657\n",
      "\n"
     ]
    },
    {
     "name": "stdout",
     "output_type": "stream",
     "text": [
      "Epoch 190, Loss 0.0392\n",
      "Training Accuracy: 0.9586, Testing Accuracy: 0.9662\n",
      "\n"
     ]
    },
    {
     "name": "stdout",
     "output_type": "stream",
     "text": [
      "Epoch 200, Loss 0.0387\n",
      "Training Accuracy: 0.9589, Testing Accuracy: 0.9667\n",
      "\n"
     ]
    },
    {
     "name": "stdout",
     "output_type": "stream",
     "text": [
      "Epoch 210, Loss 0.0382\n",
      "Training Accuracy: 0.9594, Testing Accuracy: 0.9672\n",
      "\n"
     ]
    },
    {
     "name": "stdout",
     "output_type": "stream",
     "text": [
      "Epoch 220, Loss 0.0378\n",
      "Training Accuracy: 0.9599, Testing Accuracy: 0.9672\n",
      "\n"
     ]
    },
    {
     "name": "stdout",
     "output_type": "stream",
     "text": [
      "Epoch 230, Loss 0.0374\n",
      "Training Accuracy: 0.9601, Testing Accuracy: 0.9672\n",
      "\n"
     ]
    },
    {
     "name": "stdout",
     "output_type": "stream",
     "text": [
      "Epoch 240, Loss 0.037\n",
      "Training Accuracy: 0.9604, Testing Accuracy: 0.9667\n",
      "\n"
     ]
    },
    {
     "data": {
      "text/plain": [
       "0.02614345446963053"
      ]
     },
     "execution_count": 23,
     "metadata": {},
     "output_type": "execute_result"
    }
   ],
   "source": [
    "lr_learner.train_loop(dl)"
   ]
  },
  {
   "cell_type": "code",
   "execution_count": 24,
   "id": "ca410940",
   "metadata": {
    "execution": {
     "iopub.execute_input": "2022-11-30T00:41:29.636108Z",
     "iopub.status.busy": "2022-11-30T00:41:29.635373Z",
     "iopub.status.idle": "2022-11-30T00:41:29.899955Z",
     "shell.execute_reply": "2022-11-30T00:41:29.900802Z"
    },
    "papermill": {
     "duration": 0.323208,
     "end_time": "2022-11-30T00:41:29.900976",
     "exception": false,
     "start_time": "2022-11-30T00:41:29.577768",
     "status": "completed"
    },
    "tags": []
   },
   "outputs": [
    {
     "data": {
      "text/plain": [
       "<matplotlib.legend.Legend at 0x7f32dd91c3c8>"
      ]
     },
     "execution_count": 24,
     "metadata": {},
     "output_type": "execute_result"
    },
    {
     "data": {
      "image/png": "[encoded data removed]",
      "text/plain": [
       "<Figure size 1080x720 with 1 Axes>"
      ]
     },
     "metadata": {
      "needs_background": "light"
     },
     "output_type": "display_data"
    }
   ],
   "source": [
    "#comparing the results of NN and LR\n",
    "plt.figure(figsize=(15,10))\n",
    "\n",
    "# Neural Network plots\n",
    "plt.plot(acc_nn.accuracies, 'r-', label = \"Training Accuracies - NN\")\n",
    "plt.plot(acc_nn.test_accuracies, 'g-', label = \"Testing Accuracies - NN\")\n",
    "\n",
    "# Logistic Regression plots\n",
    "plt.plot(acc_lr.accuracies, 'k-', label = \"Training Accuracies - LR\")\n",
    "plt.plot(acc_lr.test_accuracies, 'b-', label = \"Testing Accuracies - LR\")\n",
    "plt.legend()"
   ]
  },
  {
   "cell_type": "markdown",
   "id": "80dfb35c",
   "metadata": {
    "papermill": {
     "duration": 0.046703,
     "end_time": "2022-11-30T00:41:29.994974",
     "exception": false,
     "start_time": "2022-11-30T00:41:29.948271",
     "status": "completed"
    },
    "tags": []
   },
   "source": [
    "#### Plotting the outputs of this layer of the NN.\n"
   ]
  },
  {
   "cell_type": "code",
   "execution_count": 25,
   "id": "45eb2ff5",
   "metadata": {
    "execution": {
     "iopub.execute_input": "2022-11-30T00:41:30.094775Z",
     "iopub.status.busy": "2022-11-30T00:41:30.094074Z",
     "iopub.status.idle": "2022-11-30T00:41:30.119581Z",
     "shell.execute_reply": "2022-11-30T00:41:30.118911Z"
    },
    "papermill": {
     "duration": 0.077968,
     "end_time": "2022-11-30T00:41:30.119726",
     "exception": false,
     "start_time": "2022-11-30T00:41:30.041758",
     "status": "completed"
    },
    "tags": []
   },
   "outputs": [],
   "source": [
    "new_model = Model(layers[:-2])\n",
    "testing_plot = new_model(testing_data_x)"
   ]
  },
  {
   "cell_type": "code",
   "execution_count": 26,
   "id": "4c0a5485",
   "metadata": {
    "execution": {
     "iopub.execute_input": "2022-11-30T00:41:30.225357Z",
     "iopub.status.busy": "2022-11-30T00:41:30.224674Z",
     "iopub.status.idle": "2022-11-30T00:41:30.457673Z",
     "shell.execute_reply": "2022-11-30T00:41:30.457084Z"
    },
    "papermill": {
     "duration": 0.285947,
     "end_time": "2022-11-30T00:41:30.457807",
     "exception": false,
     "start_time": "2022-11-30T00:41:30.171860",
     "status": "completed"
    },
    "tags": []
   },
   "outputs": [
    {
     "data": {
      "text/plain": [
       "Text(0.5, 1.0, 'Outputs')"
      ]
     },
     "execution_count": 26,
     "metadata": {},
     "output_type": "execute_result"
    },
    {
     "data": {
      "image/png": "[encoded data removed]",
      "text/plain": [
       "<Figure size 576x504 with 1 Axes>"
      ]
     },
     "metadata": {
      "needs_background": "light"
     },
     "output_type": "display_data"
    }
   ],
   "source": [
    "# Plotting the scatter plot of points and color coding by class\n",
    "plt.figure(figsize=(8,7))\n",
    "plt.scatter(testing_plot[:,0], testing_plot[:,1], alpha = 0.1, c = y_test.ravel());\n",
    "plt.title('Outputs')"
   ]
  },
  {
   "cell_type": "markdown",
   "id": "a74fcf8f",
   "metadata": {
    "papermill": {
     "duration": 0.049552,
     "end_time": "2022-11-30T00:41:30.556838",
     "exception": false,
     "start_time": "2022-11-30T00:41:30.507286",
     "status": "completed"
    },
    "tags": []
   },
   "source": [
    "Probability contours"
   ]
  },
  {
   "cell_type": "code",
   "execution_count": 27,
   "id": "d0afc8e3",
   "metadata": {
    "execution": {
     "iopub.execute_input": "2022-11-30T00:41:30.693921Z",
     "iopub.status.busy": "2022-11-30T00:41:30.693227Z",
     "iopub.status.idle": "2022-11-30T00:41:30.707415Z",
     "shell.execute_reply": "2022-11-30T00:41:30.706829Z"
    },
    "papermill": {
     "duration": 0.069254,
     "end_time": "2022-11-30T00:41:30.707550",
     "exception": false,
     "start_time": "2022-11-30T00:41:30.638296",
     "status": "completed"
    },
    "tags": []
   },
   "outputs": [],
   "source": [
    "model_prob = Model(layers[-2:]) "
   ]
  },
  {
   "cell_type": "code",
   "execution_count": 28,
   "id": "9b96e238",
   "metadata": {
    "execution": {
     "iopub.execute_input": "2022-11-30T00:41:30.816221Z",
     "iopub.status.busy": "2022-11-30T00:41:30.815503Z",
     "iopub.status.idle": "2022-11-30T00:41:30.829751Z",
     "shell.execute_reply": "2022-11-30T00:41:30.830254Z"
    },
    "papermill": {
     "duration": 0.072979,
     "end_time": "2022-11-30T00:41:30.830410",
     "exception": false,
     "start_time": "2022-11-30T00:41:30.757431",
     "status": "completed"
    },
    "tags": []
   },
   "outputs": [],
   "source": [
    "#creating the x and y ranges according to the above generated plot.\n",
    "x_range = np.linspace(-4, 1, 100) \n",
    "y_range = np.linspace(-6, 6, 100) \n",
    "x_grid, y_grid = np.meshgrid(x_range, y_range) # x_grid and y_grig are of size 100 X 100\n",
    "\n",
    "# converting x_grid and y_grid to continuous arrays\n",
    "x_gridflat = np.ravel(x_grid)\n",
    "y_gridflat = np.ravel(y_grid)\n",
    "\n",
    "# The last layer of the current model takes two columns as input. Hence transpose of np.vstack() is required.\n",
    "X = np.vstack((x_gridflat, y_gridflat)).T\n",
    "\n",
    "prob_contour = model_prob(X).reshape(100,100) "
   ]
  },
  {
   "cell_type": "code",
   "execution_count": 29,
   "id": "da72499a",
   "metadata": {
    "execution": {
     "iopub.execute_input": "2022-11-30T00:41:30.941458Z",
     "iopub.status.busy": "2022-11-30T00:41:30.940760Z",
     "iopub.status.idle": "2022-11-30T00:41:31.230813Z",
     "shell.execute_reply": "2022-11-30T00:41:31.230242Z"
    },
    "papermill": {
     "duration": 0.349229,
     "end_time": "2022-11-30T00:41:31.231020",
     "exception": false,
     "start_time": "2022-11-30T00:41:30.881791",
     "status": "completed"
    },
    "tags": []
   },
   "outputs": [
    {
     "data": {
      "image/png": "[encoded data removed]",
      "text/plain": [
       "<Figure size 720x648 with 1 Axes>"
      ]
     },
     "metadata": {
      "needs_background": "light"
     },
     "output_type": "display_data"
    }
   ],
   "source": [
    "plt.figure(figsize=(10,9))\n",
    "plt.scatter(testing_plot[:,0], testing_plot[:,1], alpha = 0.1, c = y_test.ravel())\n",
    "contours = plt.contour(x_grid,y_grid,prob_contour)\n",
    "plt.title('Probability Contours')\n",
    "plt.clabel(contours, inline = True );"
   ]
  },
  {
   "cell_type": "code",
   "execution_count": null,
   "id": "e81b4ac7",
   "metadata": {
    "papermill": {
     "duration": 0.053441,
     "end_time": "2022-11-30T00:41:31.339667",
     "exception": false,
     "start_time": "2022-11-30T00:41:31.286226",
     "status": "completed"
    },
    "tags": []
   },
   "outputs": [],
   "source": []
  }
 ],
 "metadata": {
  "kernelspec": {
   "display_name": "Python 3",
   "language": "python",
   "name": "python3"
  },
  "language_info": {
   "codemirror_mode": {
    "name": "ipython",
    "version": 3
   },
   "file_extension": ".py",
   "mimetype": "text/x-python",
   "name": "python",
   "nbconvert_exporter": "python",
   "pygments_lexer": "ipython3",
   "version": "3.6.15"
  },
  "papermill": {
   "default_parameters": {},
   "duration": 113.456664,
   "end_time": "2022-11-30T00:41:31.816007",
   "environment_variables": {},
   "exception": null,
   "input_path": "2020-08-11-part2.ipynb",
   "output_path": "2020-08-11-part2.ipynb",
   "parameters": {},
   "start_time": "2022-11-30T00:39:38.359343",
   "version": "2.3.3"
  }
 },
 "nbformat": 4,
 "nbformat_minor": 5
}