{
 "cells": [
  {
   "cell_type": "markdown",
   "id": "98380cd3",
   "metadata": {
    "papermill": {
     "duration": 0.028404,
     "end_time": "2022-01-31T20:08:09.052920",
     "exception": false,
     "start_time": "2022-01-31T20:08:09.024516",
     "status": "completed"
    },
    "tags": []
   },
   "source": [
    "# Distinguish Your Own Digits (DYOD)"
   ]
  },
  {
   "cell_type": "markdown",
   "id": "ef31240d",
   "metadata": {
    "papermill": {
     "duration": 0.026424,
     "end_time": "2022-01-31T20:08:09.104880",
     "exception": false,
     "start_time": "2022-01-31T20:08:09.078456",
     "status": "completed"
    },
    "tags": []
   },
   "source": [
    "You are going to write a classifier that distinguishes between the number 3 and number 8."
   ]
  },
  {
   "cell_type": "code",
   "execution_count": 1,
   "id": "b15c8646",
   "metadata": {
    "execution": {
     "iopub.execute_input": "2022-01-31T20:08:09.165402Z",
     "iopub.status.busy": "2022-01-31T20:08:09.164889Z",
     "iopub.status.idle": "2022-01-31T20:08:09.175325Z",
     "shell.execute_reply": "2022-01-31T20:08:09.175745Z"
    },
    "papermill": {
     "duration": 0.04621,
     "end_time": "2022-01-31T20:08:09.175881",
     "exception": false,
     "start_time": "2022-01-31T20:08:09.129671",
     "status": "completed"
    },
    "tags": []
   },
   "outputs": [],
   "source": [
    "%load_ext autoreload\n",
    "%autoreload 2"
   ]
  },
  {
   "cell_type": "code",
   "execution_count": 2,
   "id": "22ef38dc",
   "metadata": {
    "execution": {
     "iopub.execute_input": "2022-01-31T20:08:09.230523Z",
     "iopub.status.busy": "2022-01-31T20:08:09.230022Z",
     "iopub.status.idle": "2022-01-31T20:08:09.781191Z",
     "shell.execute_reply": "2022-01-31T20:08:09.781604Z"
    },
    "papermill": {
     "duration": 0.578423,
     "end_time": "2022-01-31T20:08:09.781743",
     "exception": false,
     "start_time": "2022-01-31T20:08:09.203320",
     "status": "completed"
    },
    "tags": []
   },
   "outputs": [],
   "source": [
    "%matplotlib inline\n",
    "import numpy as np\n",
    "import matplotlib.pyplot as plt\n",
    "import pandas as pd"
   ]
  },
  {
   "cell_type": "markdown",
   "id": "ba036198",
   "metadata": {
    "papermill": {
     "duration": 0.025322,
     "end_time": "2022-01-31T20:08:09.832228",
     "exception": false,
     "start_time": "2022-01-31T20:08:09.806906",
     "status": "completed"
    },
    "tags": []
   },
   "source": [
    "From the command line run `pip install mnist`. This is a library that will help you bring down the mnist dataset. If you run this from a notebook, you need to put  `!pip install mnist` in a cell by itself."
   ]
  },
  {
   "cell_type": "code",
   "execution_count": 3,
   "id": "bb6ad8a1",
   "metadata": {
    "execution": {
     "iopub.execute_input": "2022-01-31T20:08:09.885262Z",
     "iopub.status.busy": "2022-01-31T20:08:09.884760Z",
     "iopub.status.idle": "2022-01-31T20:08:11.528299Z",
     "shell.execute_reply": "2022-01-31T20:08:11.527857Z"
    },
    "papermill": {
     "duration": 1.671511,
     "end_time": "2022-01-31T20:08:11.528414",
     "exception": false,
     "start_time": "2022-01-31T20:08:09.856903",
     "status": "completed"
    },
    "tags": []
   },
   "outputs": [
    {
     "name": "stdout",
     "output_type": "stream",
     "text": [
      "Collecting mnist\r\n"
     ]
    },
    {
     "name": "stdout",
     "output_type": "stream",
     "text": [
      "  Downloading mnist-0.2.2-py2.py3-none-any.whl (3.5 kB)\r\n",
      "Requirement already satisfied: numpy in /opt/hostedtoolcache/Python/3.6.15/x64/lib/python3.6/site-packages (from mnist) (1.19.5)\r\n"
     ]
    },
    {
     "name": "stdout",
     "output_type": "stream",
     "text": [
      "Installing collected packages: mnist\r\n",
      "Successfully installed mnist-0.2.2\r\n"
     ]
    }
   ],
   "source": [
    "!pip install mnist"
   ]
  },
  {
   "cell_type": "markdown",
   "id": "69df9c9a",
   "metadata": {
    "papermill": {
     "duration": 0.025977,
     "end_time": "2022-01-31T20:08:11.580304",
     "exception": false,
     "start_time": "2022-01-31T20:08:11.554327",
     "status": "completed"
    },
    "tags": []
   },
   "source": [
    "## Preparing the Data"
   ]
  },
  {
   "cell_type": "code",
   "execution_count": 4,
   "id": "7f69d806",
   "metadata": {
    "execution": {
     "iopub.execute_input": "2022-01-31T20:08:11.635034Z",
     "iopub.status.busy": "2022-01-31T20:08:11.634536Z",
     "iopub.status.idle": "2022-01-31T20:08:11.646948Z",
     "shell.execute_reply": "2022-01-31T20:08:11.647416Z"
    },
    "papermill": {
     "duration": 0.041655,
     "end_time": "2022-01-31T20:08:11.647532",
     "exception": false,
     "start_time": "2022-01-31T20:08:11.605877",
     "status": "completed"
    },
    "tags": []
   },
   "outputs": [],
   "source": [
    "import mnist"
   ]
  },
  {
   "cell_type": "code",
   "execution_count": 5,
   "id": "a411e44f",
   "metadata": {
    "execution": {
     "iopub.execute_input": "2022-01-31T20:08:11.702582Z",
     "iopub.status.busy": "2022-01-31T20:08:11.702084Z",
     "iopub.status.idle": "2022-01-31T20:08:12.338818Z",
     "shell.execute_reply": "2022-01-31T20:08:12.338377Z"
    },
    "papermill": {
     "duration": 0.665671,
     "end_time": "2022-01-31T20:08:12.338932",
     "exception": false,
     "start_time": "2022-01-31T20:08:11.673261",
     "status": "completed"
    },
    "tags": []
   },
   "outputs": [],
   "source": [
    "train_images = mnist.train_images()\n",
    "train_labels = mnist.train_labels()"
   ]
  },
  {
   "cell_type": "code",
   "execution_count": 6,
   "id": "dceab3a5",
   "metadata": {
    "execution": {
     "iopub.execute_input": "2022-01-31T20:08:12.394207Z",
     "iopub.status.busy": "2022-01-31T20:08:12.393717Z",
     "iopub.status.idle": "2022-01-31T20:08:12.406896Z",
     "shell.execute_reply": "2022-01-31T20:08:12.406496Z"
    },
    "papermill": {
     "duration": 0.042206,
     "end_time": "2022-01-31T20:08:12.406998",
     "exception": false,
     "start_time": "2022-01-31T20:08:12.364792",
     "status": "completed"
    },
    "tags": []
   },
   "outputs": [
    {
     "data": {
      "text/plain": [
       "((60000, 28, 28), (60000,))"
      ]
     },
     "execution_count": 6,
     "metadata": {},
     "output_type": "execute_result"
    }
   ],
   "source": [
    "train_images.shape, train_labels.shape"
   ]
  },
  {
   "cell_type": "code",
   "execution_count": 7,
   "id": "f50dc2bb",
   "metadata": {
    "execution": {
     "iopub.execute_input": "2022-01-31T20:08:12.461637Z",
     "iopub.status.busy": "2022-01-31T20:08:12.461153Z",
     "iopub.status.idle": "2022-01-31T20:08:12.728617Z",
     "shell.execute_reply": "2022-01-31T20:08:12.729028Z"
    },
    "papermill": {
     "duration": 0.296313,
     "end_time": "2022-01-31T20:08:12.729168",
     "exception": false,
     "start_time": "2022-01-31T20:08:12.432855",
     "status": "completed"
    },
    "tags": []
   },
   "outputs": [],
   "source": [
    "test_images = mnist.test_images()\n",
    "test_labels = mnist.test_labels()"
   ]
  },
  {
   "cell_type": "code",
   "execution_count": 8,
   "id": "fc38cf1b",
   "metadata": {
    "execution": {
     "iopub.execute_input": "2022-01-31T20:08:12.785232Z",
     "iopub.status.busy": "2022-01-31T20:08:12.784725Z",
     "iopub.status.idle": "2022-01-31T20:08:12.796538Z",
     "shell.execute_reply": "2022-01-31T20:08:12.796114Z"
    },
    "papermill": {
     "duration": 0.04122,
     "end_time": "2022-01-31T20:08:12.796635",
     "exception": false,
     "start_time": "2022-01-31T20:08:12.755415",
     "status": "completed"
    },
    "tags": []
   },
   "outputs": [
    {
     "data": {
      "text/plain": [
       "((10000, 28, 28), (10000,))"
      ]
     },
     "execution_count": 8,
     "metadata": {},
     "output_type": "execute_result"
    }
   ],
   "source": [
    "test_images.shape, test_labels.shape"
   ]
  },
  {
   "cell_type": "code",
   "execution_count": 9,
   "id": "f9ed8fe0",
   "metadata": {
    "execution": {
     "iopub.execute_input": "2022-01-31T20:08:12.852240Z",
     "iopub.status.busy": "2022-01-31T20:08:12.851748Z",
     "iopub.status.idle": "2022-01-31T20:08:12.981007Z",
     "shell.execute_reply": "2022-01-31T20:08:12.981412Z"
    },
    "papermill": {
     "duration": 0.158714,
     "end_time": "2022-01-31T20:08:12.981538",
     "exception": false,
     "start_time": "2022-01-31T20:08:12.822824",
     "status": "completed"
    },
    "tags": []
   },
   "outputs": [
    {
     "name": "stdout",
     "output_type": "stream",
     "text": [
      "2\n"
     ]
    },
    {
     "data": {
      "text/plain": [
       "<matplotlib.image.AxesImage at 0x7fe41df4ac18>"
      ]
     },
     "execution_count": 9,
     "metadata": {},
     "output_type": "execute_result"
    },
    {
     "data": {
      "image/png": "[encoded data removed]",
      "text/plain": [
       "<Figure size 432x288 with 1 Axes>"
      ]
     },
     "metadata": {
      "needs_background": "light"
     },
     "output_type": "display_data"
    }
   ],
   "source": [
    "image_index = 7776 # You may select anything up to 60,000\n",
    "print(train_labels[image_index]) \n",
    "plt.imshow(train_images[image_index], cmap='Greys')"
   ]
  },
  {
   "cell_type": "markdown",
   "id": "a8d2388d",
   "metadata": {
    "papermill": {
     "duration": 0.027561,
     "end_time": "2022-01-31T20:08:13.036625",
     "exception": false,
     "start_time": "2022-01-31T20:08:13.009064",
     "status": "completed"
    },
    "tags": []
   },
   "source": [
    "## Filter data to get 3 and 8 out"
   ]
  },
  {
   "cell_type": "code",
   "execution_count": 10,
   "id": "776f7fc7",
   "metadata": {
    "execution": {
     "iopub.execute_input": "2022-01-31T20:08:13.095114Z",
     "iopub.status.busy": "2022-01-31T20:08:13.094613Z",
     "iopub.status.idle": "2022-01-31T20:08:13.109943Z",
     "shell.execute_reply": "2022-01-31T20:08:13.110365Z"
    },
    "papermill": {
     "duration": 0.046511,
     "end_time": "2022-01-31T20:08:13.110487",
     "exception": false,
     "start_time": "2022-01-31T20:08:13.063976",
     "status": "completed"
    },
    "tags": []
   },
   "outputs": [],
   "source": [
    "train_filter = np.where((train_labels == 3 ) | (train_labels == 8))\n",
    "test_filter = np.where((test_labels == 3) | (test_labels == 8))\n",
    "X_train, y_train = train_images[train_filter], train_labels[train_filter]\n",
    "X_test, y_test = test_images[test_filter], test_labels[test_filter]"
   ]
  },
  {
   "cell_type": "markdown",
   "id": "948f0b7e",
   "metadata": {
    "papermill": {
     "duration": 0.027438,
     "end_time": "2022-01-31T20:08:13.165334",
     "exception": false,
     "start_time": "2022-01-31T20:08:13.137896",
     "status": "completed"
    },
    "tags": []
   },
   "source": [
    "We normalize the pizel values in the 0 to 1 range"
   ]
  },
  {
   "cell_type": "code",
   "execution_count": 11,
   "id": "ee4c2166",
   "metadata": {
    "execution": {
     "iopub.execute_input": "2022-01-31T20:08:13.222928Z",
     "iopub.status.busy": "2022-01-31T20:08:13.222410Z",
     "iopub.status.idle": "2022-01-31T20:08:13.262478Z",
     "shell.execute_reply": "2022-01-31T20:08:13.262889Z"
    },
    "papermill": {
     "duration": 0.070468,
     "end_time": "2022-01-31T20:08:13.263025",
     "exception": false,
     "start_time": "2022-01-31T20:08:13.192557",
     "status": "completed"
    },
    "tags": []
   },
   "outputs": [],
   "source": [
    "X_train = X_train/255.\n",
    "X_test = X_test/255."
   ]
  },
  {
   "cell_type": "markdown",
   "id": "ddcf4fab",
   "metadata": {
    "papermill": {
     "duration": 0.027416,
     "end_time": "2022-01-31T20:08:13.317923",
     "exception": false,
     "start_time": "2022-01-31T20:08:13.290507",
     "status": "completed"
    },
    "tags": []
   },
   "source": [
    "And setup the labels as 1 (when the digit is 3) and 0 (when the digit is 8)"
   ]
  },
  {
   "cell_type": "code",
   "execution_count": 12,
   "id": "7dc908f2",
   "metadata": {
    "execution": {
     "iopub.execute_input": "2022-01-31T20:08:13.375539Z",
     "iopub.status.busy": "2022-01-31T20:08:13.375013Z",
     "iopub.status.idle": "2022-01-31T20:08:13.385878Z",
     "shell.execute_reply": "2022-01-31T20:08:13.385488Z"
    },
    "papermill": {
     "duration": 0.040834,
     "end_time": "2022-01-31T20:08:13.385975",
     "exception": false,
     "start_time": "2022-01-31T20:08:13.345141",
     "status": "completed"
    },
    "tags": []
   },
   "outputs": [],
   "source": [
    "y_train = 1*(y_train==3)\n",
    "y_test = 1*(y_test==3)"
   ]
  },
  {
   "cell_type": "code",
   "execution_count": 13,
   "id": "01e4e969",
   "metadata": {
    "execution": {
     "iopub.execute_input": "2022-01-31T20:08:13.443506Z",
     "iopub.status.busy": "2022-01-31T20:08:13.442984Z",
     "iopub.status.idle": "2022-01-31T20:08:13.454337Z",
     "shell.execute_reply": "2022-01-31T20:08:13.454750Z"
    },
    "papermill": {
     "duration": 0.041375,
     "end_time": "2022-01-31T20:08:13.454859",
     "exception": false,
     "start_time": "2022-01-31T20:08:13.413484",
     "status": "completed"
    },
    "tags": []
   },
   "outputs": [
    {
     "data": {
      "text/plain": [
       "((11982, 28, 28), (1984, 28, 28))"
      ]
     },
     "execution_count": 13,
     "metadata": {},
     "output_type": "execute_result"
    }
   ],
   "source": [
    "X_train.shape, X_test.shape"
   ]
  },
  {
   "cell_type": "markdown",
   "id": "5ccf3f85",
   "metadata": {
    "papermill": {
     "duration": 0.027567,
     "end_time": "2022-01-31T20:08:13.509892",
     "exception": false,
     "start_time": "2022-01-31T20:08:13.482325",
     "status": "completed"
    },
    "tags": []
   },
   "source": [
    "We reshape the data to flatten the image pixels into a set of features or co-variates:"
   ]
  },
  {
   "cell_type": "code",
   "execution_count": 14,
   "id": "5286a4a3",
   "metadata": {
    "execution": {
     "iopub.execute_input": "2022-01-31T20:08:13.568791Z",
     "iopub.status.busy": "2022-01-31T20:08:13.568280Z",
     "iopub.status.idle": "2022-01-31T20:08:13.580645Z",
     "shell.execute_reply": "2022-01-31T20:08:13.580230Z"
    },
    "papermill": {
     "duration": 0.043166,
     "end_time": "2022-01-31T20:08:13.580744",
     "exception": false,
     "start_time": "2022-01-31T20:08:13.537578",
     "status": "completed"
    },
    "tags": []
   },
   "outputs": [
    {
     "data": {
      "text/plain": [
       "((11982, 784), (1984, 784))"
      ]
     },
     "execution_count": 14,
     "metadata": {},
     "output_type": "execute_result"
    }
   ],
   "source": [
    "X_train = X_train.reshape(X_train.shape[0], -1)\n",
    "X_test = X_test.reshape(X_test.shape[0], -1)\n",
    "X_train.shape, X_test.shape"
   ]
  },
  {
   "cell_type": "code",
   "execution_count": 15,
   "id": "73c5f88a",
   "metadata": {
    "execution": {
     "iopub.execute_input": "2022-01-31T20:08:13.640167Z",
     "iopub.status.busy": "2022-01-31T20:08:13.639665Z",
     "iopub.status.idle": "2022-01-31T20:08:13.656717Z",
     "shell.execute_reply": "2022-01-31T20:08:13.657081Z"
    },
    "papermill": {
     "duration": 0.048505,
     "end_time": "2022-01-31T20:08:13.657196",
     "exception": false,
     "start_time": "2022-01-31T20:08:13.608691",
     "status": "completed"
    },
    "tags": []
   },
   "outputs": [],
   "source": [
    "#Impoting functions from 'Kudzu'\n",
    "from kudzu.model import Model\n",
    "from kudzu.train import Learner\n",
    "from kudzu.optim import GD\n",
    "from kudzu.data import Data, Sampler,Dataloader\n",
    "\n",
    "from kudzu.callbacks import AccCallback\n",
    "from kudzu.callbacks import ClfCallback\n",
    "\n",
    "from kudzu.loss import MSE\n",
    "\n",
    "from kudzu.layer import Sigmoid,Relu\n",
    "from kudzu.layer import Affine"
   ]
  },
  {
   "cell_type": "markdown",
   "id": "bc01172a",
   "metadata": {
    "papermill": {
     "duration": 0.027703,
     "end_time": "2022-01-31T20:08:13.712824",
     "exception": false,
     "start_time": "2022-01-31T20:08:13.685121",
     "status": "completed"
    },
    "tags": []
   },
   "source": [
    "### Let us create a `Config` class, to store important parameters. \n",
    "This class essentially plays the role of a dictionary."
   ]
  },
  {
   "cell_type": "code",
   "execution_count": 16,
   "id": "978281aa",
   "metadata": {
    "execution": {
     "iopub.execute_input": "2022-01-31T20:08:13.772079Z",
     "iopub.status.busy": "2022-01-31T20:08:13.771570Z",
     "iopub.status.idle": "2022-01-31T20:08:13.782510Z",
     "shell.execute_reply": "2022-01-31T20:08:13.782080Z"
    },
    "papermill": {
     "duration": 0.042053,
     "end_time": "2022-01-31T20:08:13.782609",
     "exception": false,
     "start_time": "2022-01-31T20:08:13.740556",
     "status": "completed"
    },
    "tags": []
   },
   "outputs": [],
   "source": [
    "class Config:\n",
    "    pass\n",
    "config = Config()\n",
    "config.lr = 0.001\n",
    "config.num_epochs = 250\n",
    "config.bs = 50"
   ]
  },
  {
   "cell_type": "markdown",
   "id": "1385fa59",
   "metadata": {
    "papermill": {
     "duration": 0.027878,
     "end_time": "2022-01-31T20:08:13.838457",
     "exception": false,
     "start_time": "2022-01-31T20:08:13.810579",
     "status": "completed"
    },
    "tags": []
   },
   "source": [
    "### Running Models with the Training data\n",
    "Details about the network layers:\n",
    "- A first affine layer has 784 inputs and does 100 affine transforms. These are followed by a Relu\n",
    "- A second affine layer has 100 inputs from the 100 activations of the past layer, and does 100 affine transforms. These are followed by a Relu\n",
    "- A third affine layer has 100 activations and does 2 affine transformations to create an embedding for visualization. There is no non-linearity here.\n",
    "- A final \"logistic regression\" which has an affine transform from 2 inputs to 1 output, which is squeezed through a sigmoid.\n"
   ]
  },
  {
   "cell_type": "code",
   "execution_count": 17,
   "id": "2b9c66db",
   "metadata": {
    "execution": {
     "iopub.execute_input": "2022-01-31T20:08:13.898581Z",
     "iopub.status.busy": "2022-01-31T20:08:13.898076Z",
     "iopub.status.idle": "2022-01-31T20:08:13.909160Z",
     "shell.execute_reply": "2022-01-31T20:08:13.908769Z"
    },
    "papermill": {
     "duration": 0.04268,
     "end_time": "2022-01-31T20:08:13.909262",
     "exception": false,
     "start_time": "2022-01-31T20:08:13.866582",
     "status": "completed"
    },
    "tags": []
   },
   "outputs": [],
   "source": [
    "data = Data(X_train, y_train.reshape(-1,1))\n",
    "sampler = Sampler(data, config.bs, shuffle=True)\n",
    "\n",
    "dl = Dataloader(data, sampler)\n",
    "\n",
    "opt = GD(config.lr)\n",
    "loss = MSE()"
   ]
  },
  {
   "cell_type": "code",
   "execution_count": 18,
   "id": "b275e4c2",
   "metadata": {
    "execution": {
     "iopub.execute_input": "2022-01-31T20:08:13.968330Z",
     "iopub.status.busy": "2022-01-31T20:08:13.967846Z",
     "iopub.status.idle": "2022-01-31T20:08:13.978998Z",
     "shell.execute_reply": "2022-01-31T20:08:13.978592Z"
    },
    "papermill": {
     "duration": 0.041844,
     "end_time": "2022-01-31T20:08:13.979100",
     "exception": false,
     "start_time": "2022-01-31T20:08:13.937256",
     "status": "completed"
    },
    "tags": []
   },
   "outputs": [],
   "source": [
    "training_data_x = X_train\n",
    "testing_data_x = X_test\n",
    "training_data_y = y_train.reshape(-1,1)\n",
    "testing_data_y = y_test.reshape(-1,1)"
   ]
  },
  {
   "cell_type": "code",
   "execution_count": 19,
   "id": "76951160",
   "metadata": {
    "execution": {
     "iopub.execute_input": "2022-01-31T20:08:14.038793Z",
     "iopub.status.busy": "2022-01-31T20:08:14.038289Z",
     "iopub.status.idle": "2022-01-31T20:08:14.053918Z",
     "shell.execute_reply": "2022-01-31T20:08:14.053502Z"
    },
    "papermill": {
     "duration": 0.046955,
     "end_time": "2022-01-31T20:08:14.054018",
     "exception": false,
     "start_time": "2022-01-31T20:08:14.007063",
     "status": "completed"
    },
    "tags": []
   },
   "outputs": [
    {
     "name": "stdout",
     "output_type": "stream",
     "text": [
      "xavier\n",
      "xavier\n",
      "xavier\n",
      "xavier\n",
      "xavier\n"
     ]
    }
   ],
   "source": [
    "layers = [Affine(\"first\", 784, 100), Relu(\"first\"), Affine(\"second\", 100, 100), Relu(\"second\"), Affine(\"third\", 100, 2), Affine(\"last\", 2, 1), Sigmoid(\"last\")]\n",
    "model_nn = Model(layers)\n",
    "model_lr = Model([Affine(\"logits\", 784, 1), Sigmoid(\"sigmoid\")])"
   ]
  },
  {
   "cell_type": "code",
   "execution_count": 20,
   "id": "6eede77a",
   "metadata": {
    "execution": {
     "iopub.execute_input": "2022-01-31T20:08:14.121596Z",
     "iopub.status.busy": "2022-01-31T20:08:14.121062Z",
     "iopub.status.idle": "2022-01-31T20:08:14.126436Z",
     "shell.execute_reply": "2022-01-31T20:08:14.126025Z"
    },
    "papermill": {
     "duration": 0.044208,
     "end_time": "2022-01-31T20:08:14.126544",
     "exception": false,
     "start_time": "2022-01-31T20:08:14.082336",
     "status": "completed"
    },
    "tags": []
   },
   "outputs": [],
   "source": [
    "nn_learner = Learner(loss, model_nn, opt, config.num_epochs)\n",
    "acc_nn = ClfCallback(nn_learner, config.bs, training_data_x , testing_data_x, training_data_y, testing_data_y)\n",
    "nn_learner.set_callbacks([acc_nn])"
   ]
  },
  {
   "cell_type": "code",
   "execution_count": 21,
   "id": "877b6cc7",
   "metadata": {
    "execution": {
     "iopub.execute_input": "2022-01-31T20:08:14.186724Z",
     "iopub.status.busy": "2022-01-31T20:08:14.186219Z",
     "iopub.status.idle": "2022-01-31T20:08:14.197048Z",
     "shell.execute_reply": "2022-01-31T20:08:14.197428Z"
    },
    "papermill": {
     "duration": 0.042685,
     "end_time": "2022-01-31T20:08:14.197547",
     "exception": false,
     "start_time": "2022-01-31T20:08:14.154862",
     "status": "completed"
    },
    "tags": []
   },
   "outputs": [],
   "source": [
    "lr_learner = Learner(loss, model_lr, opt, config.num_epochs)\n",
    "acc_lr = ClfCallback(lr_learner, config.bs, training_data_x , testing_data_x, training_data_y, testing_data_y)\n",
    "lr_learner.set_callbacks([acc_lr])"
   ]
  },
  {
   "cell_type": "code",
   "execution_count": 22,
   "id": "d9b133c3",
   "metadata": {
    "execution": {
     "iopub.execute_input": "2022-01-31T20:08:14.257402Z",
     "iopub.status.busy": "2022-01-31T20:08:14.256905Z",
     "iopub.status.idle": "2022-01-31T20:11:10.066844Z",
     "shell.execute_reply": "2022-01-31T20:11:10.067289Z"
    },
    "papermill": {
     "duration": 175.841689,
     "end_time": "2022-01-31T20:11:10.067420",
     "exception": false,
     "start_time": "2022-01-31T20:08:14.225731",
     "status": "completed"
    },
    "tags": []
   },
   "outputs": [
    {
     "name": "stdout",
     "output_type": "stream",
     "text": [
      "Epoch 0, Loss 0.2505\n",
      "Training Accuracy: 0.5056, Testing Accuracy: 0.5121\n",
      "\n"
     ]
    },
    {
     "name": "stdout",
     "output_type": "stream",
     "text": [
      "Epoch 10, Loss 0.1543\n",
      "Training Accuracy: 0.9031, Testing Accuracy: 0.9148\n",
      "\n"
     ]
    },
    {
     "name": "stdout",
     "output_type": "stream",
     "text": [
      "Epoch 20, Loss 0.0761\n",
      "Training Accuracy: 0.9298, Testing Accuracy: 0.9390\n",
      "\n"
     ]
    },
    {
     "name": "stdout",
     "output_type": "stream",
     "text": [
      "Epoch 30, Loss 0.0527\n",
      "Training Accuracy: 0.9459, Testing Accuracy: 0.9516\n",
      "\n"
     ]
    },
    {
     "name": "stdout",
     "output_type": "stream",
     "text": [
      "Epoch 40, Loss 0.0429\n",
      "Training Accuracy: 0.9546, Testing Accuracy: 0.9561\n",
      "\n"
     ]
    },
    {
     "name": "stdout",
     "output_type": "stream",
     "text": [
      "Epoch 50, Loss 0.0377\n",
      "Training Accuracy: 0.9582, Testing Accuracy: 0.9622\n",
      "\n"
     ]
    },
    {
     "name": "stdout",
     "output_type": "stream",
     "text": [
      "Epoch 60, Loss 0.0344\n",
      "Training Accuracy: 0.9615, Testing Accuracy: 0.9652\n",
      "\n"
     ]
    },
    {
     "name": "stdout",
     "output_type": "stream",
     "text": [
      "Epoch 70, Loss 0.0321\n",
      "Training Accuracy: 0.9639, Testing Accuracy: 0.9682\n",
      "\n"
     ]
    },
    {
     "name": "stdout",
     "output_type": "stream",
     "text": [
      "Epoch 80, Loss 0.0303\n",
      "Training Accuracy: 0.9661, Testing Accuracy: 0.9708\n",
      "\n"
     ]
    },
    {
     "name": "stdout",
     "output_type": "stream",
     "text": [
      "Epoch 90, Loss 0.0289\n",
      "Training Accuracy: 0.9669, Testing Accuracy: 0.9703\n",
      "\n"
     ]
    },
    {
     "name": "stdout",
     "output_type": "stream",
     "text": [
      "Epoch 100, Loss 0.0278\n",
      "Training Accuracy: 0.9678, Testing Accuracy: 0.9698\n",
      "\n"
     ]
    },
    {
     "name": "stdout",
     "output_type": "stream",
     "text": [
      "Epoch 110, Loss 0.0269\n",
      "Training Accuracy: 0.9690, Testing Accuracy: 0.9693\n",
      "\n"
     ]
    },
    {
     "name": "stdout",
     "output_type": "stream",
     "text": [
      "Epoch 120, Loss 0.0261\n",
      "Training Accuracy: 0.9703, Testing Accuracy: 0.9682\n",
      "\n"
     ]
    },
    {
     "name": "stdout",
     "output_type": "stream",
     "text": [
      "Epoch 130, Loss 0.0253\n",
      "Training Accuracy: 0.9712, Testing Accuracy: 0.9698\n",
      "\n"
     ]
    },
    {
     "name": "stdout",
     "output_type": "stream",
     "text": [
      "Epoch 140, Loss 0.0247\n",
      "Training Accuracy: 0.9721, Testing Accuracy: 0.9693\n",
      "\n"
     ]
    },
    {
     "name": "stdout",
     "output_type": "stream",
     "text": [
      "Epoch 150, Loss 0.0241\n",
      "Training Accuracy: 0.9726, Testing Accuracy: 0.9708\n",
      "\n"
     ]
    },
    {
     "name": "stdout",
     "output_type": "stream",
     "text": [
      "Epoch 160, Loss 0.0236\n",
      "Training Accuracy: 0.9730, Testing Accuracy: 0.9713\n",
      "\n"
     ]
    },
    {
     "name": "stdout",
     "output_type": "stream",
     "text": [
      "Epoch 170, Loss 0.0231\n",
      "Training Accuracy: 0.9740, Testing Accuracy: 0.9713\n",
      "\n"
     ]
    },
    {
     "name": "stdout",
     "output_type": "stream",
     "text": [
      "Epoch 180, Loss 0.0226\n",
      "Training Accuracy: 0.9743, Testing Accuracy: 0.9713\n",
      "\n"
     ]
    },
    {
     "name": "stdout",
     "output_type": "stream",
     "text": [
      "Epoch 190, Loss 0.0221\n",
      "Training Accuracy: 0.9747, Testing Accuracy: 0.9713\n",
      "\n"
     ]
    },
    {
     "name": "stdout",
     "output_type": "stream",
     "text": [
      "Epoch 200, Loss 0.0217\n",
      "Training Accuracy: 0.9749, Testing Accuracy: 0.9728\n",
      "\n"
     ]
    },
    {
     "name": "stdout",
     "output_type": "stream",
     "text": [
      "Epoch 210, Loss 0.0213\n",
      "Training Accuracy: 0.9755, Testing Accuracy: 0.9733\n",
      "\n"
     ]
    },
    {
     "name": "stdout",
     "output_type": "stream",
     "text": [
      "Epoch 220, Loss 0.0209\n",
      "Training Accuracy: 0.9760, Testing Accuracy: 0.9733\n",
      "\n"
     ]
    },
    {
     "name": "stdout",
     "output_type": "stream",
     "text": [
      "Epoch 230, Loss 0.0206\n",
      "Training Accuracy: 0.9765, Testing Accuracy: 0.9733\n",
      "\n"
     ]
    },
    {
     "name": "stdout",
     "output_type": "stream",
     "text": [
      "Epoch 240, Loss 0.0202\n",
      "Training Accuracy: 0.9769, Testing Accuracy: 0.9733\n",
      "\n"
     ]
    },
    {
     "data": {
      "text/plain": [
       "0.09219615799944207"
      ]
     },
     "execution_count": 22,
     "metadata": {},
     "output_type": "execute_result"
    }
   ],
   "source": [
    "nn_learner.train_loop(dl)"
   ]
  },
  {
   "cell_type": "code",
   "execution_count": 23,
   "id": "e0163366",
   "metadata": {
    "execution": {
     "iopub.execute_input": "2022-01-31T20:11:10.142954Z",
     "iopub.status.busy": "2022-01-31T20:11:10.142432Z",
     "iopub.status.idle": "2022-01-31T20:11:22.281372Z",
     "shell.execute_reply": "2022-01-31T20:11:22.281784Z"
    },
    "papermill": {
     "duration": 12.179236,
     "end_time": "2022-01-31T20:11:22.281919",
     "exception": false,
     "start_time": "2022-01-31T20:11:10.102683",
     "status": "completed"
    },
    "tags": []
   },
   "outputs": [
    {
     "name": "stdout",
     "output_type": "stream",
     "text": [
      "Epoch 0, Loss 0.2468\n",
      "Training Accuracy: 0.6536, Testing Accuracy: 0.6406\n",
      "\n"
     ]
    },
    {
     "name": "stdout",
     "output_type": "stream",
     "text": [
      "Epoch 10, Loss 0.1047\n",
      "Training Accuracy: 0.9059, Testing Accuracy: 0.9143\n",
      "\n"
     ]
    },
    {
     "name": "stdout",
     "output_type": "stream",
     "text": [
      "Epoch 20, Loss 0.0799\n",
      "Training Accuracy: 0.9276, Testing Accuracy: 0.9390\n",
      "\n"
     ]
    },
    {
     "name": "stdout",
     "output_type": "stream",
     "text": [
      "Epoch 30, Loss 0.0686\n",
      "Training Accuracy: 0.9372, Testing Accuracy: 0.9456\n",
      "\n"
     ]
    },
    {
     "name": "stdout",
     "output_type": "stream",
     "text": [
      "Epoch 40, Loss 0.0618\n",
      "Training Accuracy: 0.9413, Testing Accuracy: 0.9511\n",
      "\n"
     ]
    },
    {
     "name": "stdout",
     "output_type": "stream",
     "text": [
      "Epoch 50, Loss 0.0572\n",
      "Training Accuracy: 0.9451, Testing Accuracy: 0.9511\n",
      "\n"
     ]
    },
    {
     "name": "stdout",
     "output_type": "stream",
     "text": [
      "Epoch 60, Loss 0.0539\n",
      "Training Accuracy: 0.9480, Testing Accuracy: 0.9541\n",
      "\n"
     ]
    },
    {
     "name": "stdout",
     "output_type": "stream",
     "text": [
      "Epoch 70, Loss 0.0512\n",
      "Training Accuracy: 0.9498, Testing Accuracy: 0.9582\n",
      "\n"
     ]
    },
    {
     "name": "stdout",
     "output_type": "stream",
     "text": [
      "Epoch 80, Loss 0.0492\n",
      "Training Accuracy: 0.9514, Testing Accuracy: 0.9577\n",
      "\n"
     ]
    },
    {
     "name": "stdout",
     "output_type": "stream",
     "text": [
      "Epoch 90, Loss 0.0474\n",
      "Training Accuracy: 0.9523, Testing Accuracy: 0.9587\n",
      "\n"
     ]
    },
    {
     "name": "stdout",
     "output_type": "stream",
     "text": [
      "Epoch 100, Loss 0.046\n",
      "Training Accuracy: 0.9533, Testing Accuracy: 0.9592\n",
      "\n"
     ]
    },
    {
     "name": "stdout",
     "output_type": "stream",
     "text": [
      "Epoch 110, Loss 0.0447\n",
      "Training Accuracy: 0.9541, Testing Accuracy: 0.9597\n",
      "\n"
     ]
    },
    {
     "name": "stdout",
     "output_type": "stream",
     "text": [
      "Epoch 120, Loss 0.0437\n",
      "Training Accuracy: 0.9555, Testing Accuracy: 0.9622\n",
      "\n"
     ]
    },
    {
     "name": "stdout",
     "output_type": "stream",
     "text": [
      "Epoch 130, Loss 0.0427\n",
      "Training Accuracy: 0.9563, Testing Accuracy: 0.9632\n",
      "\n"
     ]
    },
    {
     "name": "stdout",
     "output_type": "stream",
     "text": [
      "Epoch 140, Loss 0.0419\n",
      "Training Accuracy: 0.9570, Testing Accuracy: 0.9642\n",
      "\n"
     ]
    },
    {
     "name": "stdout",
     "output_type": "stream",
     "text": [
      "Epoch 150, Loss 0.0411\n",
      "Training Accuracy: 0.9575, Testing Accuracy: 0.9652\n",
      "\n"
     ]
    },
    {
     "name": "stdout",
     "output_type": "stream",
     "text": [
      "Epoch 160, Loss 0.0404\n",
      "Training Accuracy: 0.9579, Testing Accuracy: 0.9657\n",
      "\n"
     ]
    },
    {
     "name": "stdout",
     "output_type": "stream",
     "text": [
      "Epoch 170, Loss 0.0398\n",
      "Training Accuracy: 0.9584, Testing Accuracy: 0.9657\n",
      "\n"
     ]
    },
    {
     "name": "stdout",
     "output_type": "stream",
     "text": [
      "Epoch 180, Loss 0.0393\n",
      "Training Accuracy: 0.9589, Testing Accuracy: 0.9667\n",
      "\n"
     ]
    },
    {
     "name": "stdout",
     "output_type": "stream",
     "text": [
      "Epoch 190, Loss 0.0387\n",
      "Training Accuracy: 0.9594, Testing Accuracy: 0.9667\n",
      "\n"
     ]
    },
    {
     "name": "stdout",
     "output_type": "stream",
     "text": [
      "Epoch 200, Loss 0.0383\n",
      "Training Accuracy: 0.9597, Testing Accuracy: 0.9672\n",
      "\n"
     ]
    },
    {
     "name": "stdout",
     "output_type": "stream",
     "text": [
      "Epoch 210, Loss 0.0378\n",
      "Training Accuracy: 0.9601, Testing Accuracy: 0.9677\n",
      "\n"
     ]
    },
    {
     "name": "stdout",
     "output_type": "stream",
     "text": [
      "Epoch 220, Loss 0.0374\n",
      "Training Accuracy: 0.9606, Testing Accuracy: 0.9677\n",
      "\n"
     ]
    },
    {
     "name": "stdout",
     "output_type": "stream",
     "text": [
      "Epoch 230, Loss 0.037\n",
      "Training Accuracy: 0.9611, Testing Accuracy: 0.9677\n",
      "\n"
     ]
    },
    {
     "name": "stdout",
     "output_type": "stream",
     "text": [
      "Epoch 240, Loss 0.0367\n",
      "Training Accuracy: 0.9614, Testing Accuracy: 0.9682\n",
      "\n"
     ]
    },
    {
     "data": {
      "text/plain": [
       "0.04416524066951804"
      ]
     },
     "execution_count": 23,
     "metadata": {},
     "output_type": "execute_result"
    }
   ],
   "source": [
    "lr_learner.train_loop(dl)"
   ]
  },
  {
   "cell_type": "code",
   "execution_count": 24,
   "id": "ca410940",
   "metadata": {
    "execution": {
     "iopub.execute_input": "2022-01-31T20:11:22.374325Z",
     "iopub.status.busy": "2022-01-31T20:11:22.373821Z",
     "iopub.status.idle": "2022-01-31T20:11:22.599898Z",
     "shell.execute_reply": "2022-01-31T20:11:22.599465Z"
    },
    "papermill": {
     "duration": 0.27516,
     "end_time": "2022-01-31T20:11:22.600010",
     "exception": false,
     "start_time": "2022-01-31T20:11:22.324850",
     "status": "completed"
    },
    "tags": []
   },
   "outputs": [
    {
     "data": {
      "text/plain": [
       "<matplotlib.legend.Legend at 0x7fe41dab83c8>"
      ]
     },
     "execution_count": 24,
     "metadata": {},
     "output_type": "execute_result"
    },
    {
     "data": {
      "image/png": "[encoded data removed]",
      "text/plain": [
       "<Figure size 1080x720 with 1 Axes>"
      ]
     },
     "metadata": {
      "needs_background": "light"
     },
     "output_type": "display_data"
    }
   ],
   "source": [
    "#comparing the results of NN and LR\n",
    "plt.figure(figsize=(15,10))\n",
    "\n",
    "# Neural Network plots\n",
    "plt.plot(acc_nn.accuracies, 'r-', label = \"Training Accuracies - NN\")\n",
    "plt.plot(acc_nn.test_accuracies, 'g-', label = \"Testing Accuracies - NN\")\n",
    "\n",
    "# Logistic Regression plots\n",
    "plt.plot(acc_lr.accuracies, 'k-', label = \"Training Accuracies - LR\")\n",
    "plt.plot(acc_lr.test_accuracies, 'b-', label = \"Testing Accuracies - LR\")\n",
    "plt.legend()"
   ]
  },
  {
   "cell_type": "markdown",
   "id": "80dfb35c",
   "metadata": {
    "papermill": {
     "duration": 0.045604,
     "end_time": "2022-01-31T20:11:22.689604",
     "exception": false,
     "start_time": "2022-01-31T20:11:22.644000",
     "status": "completed"
    },
    "tags": []
   },
   "source": [
    "#### Plotting the outputs of this layer of the NN.\n"
   ]
  },
  {
   "cell_type": "code",
   "execution_count": 25,
   "id": "45eb2ff5",
   "metadata": {
    "execution": {
     "iopub.execute_input": "2022-01-31T20:11:22.780982Z",
     "iopub.status.busy": "2022-01-31T20:11:22.780476Z",
     "iopub.status.idle": "2022-01-31T20:11:22.816393Z",
     "shell.execute_reply": "2022-01-31T20:11:22.816812Z"
    },
    "papermill": {
     "duration": 0.083129,
     "end_time": "2022-01-31T20:11:22.816933",
     "exception": false,
     "start_time": "2022-01-31T20:11:22.733804",
     "status": "completed"
    },
    "tags": []
   },
   "outputs": [],
   "source": [
    "new_model = Model(layers[:-2])\n",
    "testing_plot = new_model(testing_data_x)"
   ]
  },
  {
   "cell_type": "code",
   "execution_count": 26,
   "id": "4c0a5485",
   "metadata": {
    "execution": {
     "iopub.execute_input": "2022-01-31T20:11:22.912396Z",
     "iopub.status.busy": "2022-01-31T20:11:22.911888Z",
     "iopub.status.idle": "2022-01-31T20:11:23.108956Z",
     "shell.execute_reply": "2022-01-31T20:11:23.108495Z"
    },
    "papermill": {
     "duration": 0.247716,
     "end_time": "2022-01-31T20:11:23.109066",
     "exception": false,
     "start_time": "2022-01-31T20:11:22.861350",
     "status": "completed"
    },
    "tags": []
   },
   "outputs": [
    {
     "data": {
      "text/plain": [
       "Text(0.5, 1.0, 'Outputs')"
      ]
     },
     "execution_count": 26,
     "metadata": {},
     "output_type": "execute_result"
    },
    {
     "data": {
      "image/png": "[encoded data removed]",
      "text/plain": [
       "<Figure size 576x504 with 1 Axes>"
      ]
     },
     "metadata": {
      "needs_background": "light"
     },
     "output_type": "display_data"
    }
   ],
   "source": [
    "# Plotting the scatter plot of points and color coding by class\n",
    "plt.figure(figsize=(8,7))\n",
    "plt.scatter(testing_plot[:,0], testing_plot[:,1], alpha = 0.1, c = y_test.ravel());\n",
    "plt.title('Outputs')"
   ]
  },
  {
   "cell_type": "markdown",
   "id": "a74fcf8f",
   "metadata": {
    "papermill": {
     "duration": 0.045951,
     "end_time": "2022-01-31T20:11:23.201121",
     "exception": false,
     "start_time": "2022-01-31T20:11:23.155170",
     "status": "completed"
    },
    "tags": []
   },
   "source": [
    "Probability contours"
   ]
  },
  {
   "cell_type": "code",
   "execution_count": 27,
   "id": "d0afc8e3",
   "metadata": {
    "execution": {
     "iopub.execute_input": "2022-01-31T20:11:23.299559Z",
     "iopub.status.busy": "2022-01-31T20:11:23.297399Z",
     "iopub.status.idle": "2022-01-31T20:11:23.308224Z",
     "shell.execute_reply": "2022-01-31T20:11:23.307794Z"
    },
    "papermill": {
     "duration": 0.061076,
     "end_time": "2022-01-31T20:11:23.308321",
     "exception": false,
     "start_time": "2022-01-31T20:11:23.247245",
     "status": "completed"
    },
    "tags": []
   },
   "outputs": [],
   "source": [
    "model_prob = Model(layers[-2:]) "
   ]
  },
  {
   "cell_type": "code",
   "execution_count": 28,
   "id": "9b96e238",
   "metadata": {
    "execution": {
     "iopub.execute_input": "2022-01-31T20:11:23.424957Z",
     "iopub.status.busy": "2022-01-31T20:11:23.424453Z",
     "iopub.status.idle": "2022-01-31T20:11:23.437322Z",
     "shell.execute_reply": "2022-01-31T20:11:23.438034Z"
    },
    "papermill": {
     "duration": 0.083751,
     "end_time": "2022-01-31T20:11:23.438154",
     "exception": false,
     "start_time": "2022-01-31T20:11:23.354403",
     "status": "completed"
    },
    "tags": []
   },
   "outputs": [],
   "source": [
    "#creating the x and y ranges according to the above generated plot.\n",
    "x_range = np.linspace(-4, 1, 100) \n",
    "y_range = np.linspace(-6, 6, 100) \n",
    "x_grid, y_grid = np.meshgrid(x_range, y_range) # x_grid and y_grig are of size 100 X 100\n",
    "\n",
    "# converting x_grid and y_grid to continuous arrays\n",
    "x_gridflat = np.ravel(x_grid)\n",
    "y_gridflat = np.ravel(y_grid)\n",
    "\n",
    "# The last layer of the current model takes two columns as input. Hence transpose of np.vstack() is required.\n",
    "X = np.vstack((x_gridflat, y_gridflat)).T\n",
    "\n",
    "prob_contour = model_prob(X).reshape(100,100) "
   ]
  },
  {
   "cell_type": "code",
   "execution_count": 29,
   "id": "da72499a",
   "metadata": {
    "execution": {
     "iopub.execute_input": "2022-01-31T20:11:23.537351Z",
     "iopub.status.busy": "2022-01-31T20:11:23.536249Z",
     "iopub.status.idle": "2022-01-31T20:11:23.769043Z",
     "shell.execute_reply": "2022-01-31T20:11:23.768603Z"
    },
    "papermill": {
     "duration": 0.283422,
     "end_time": "2022-01-31T20:11:23.769152",
     "exception": false,
     "start_time": "2022-01-31T20:11:23.485730",
     "status": "completed"
    },
    "tags": []
   },
   "outputs": [
    {
     "data": {
      "image/png": "[encoded data removed]",
      "text/plain": [
       "<Figure size 720x648 with 1 Axes>"
      ]
     },
     "metadata": {
      "needs_background": "light"
     },
     "output_type": "display_data"
    }
   ],
   "source": [
    "plt.figure(figsize=(10,9))\n",
    "plt.scatter(testing_plot[:,0], testing_plot[:,1], alpha = 0.1, c = y_test.ravel())\n",
    "contours = plt.contour(x_grid,y_grid,prob_contour)\n",
    "plt.title('Probability Contours')\n",
    "plt.clabel(contours, inline = True );"
   ]
  },
  {
   "cell_type": "code",
   "execution_count": null,
   "id": "e81b4ac7",
   "metadata": {
    "papermill": {
     "duration": 0.048016,
     "end_time": "2022-01-31T20:11:23.865395",
     "exception": false,
     "start_time": "2022-01-31T20:11:23.817379",
     "status": "completed"
    },
    "tags": []
   },
   "outputs": [],
   "source": []
  }
 ],
 "metadata": {
  "kernelspec": {
   "display_name": "Python 3",
   "language": "python",
   "name": "python3"
  },
  "language_info": {
   "codemirror_mode": {
    "name": "ipython",
    "version": 3
   },
   "file_extension": ".py",
   "mimetype": "text/x-python",
   "name": "python",
   "nbconvert_exporter": "python",
   "pygments_lexer": "ipython3",
   "version": "3.6.15"
  },
  "papermill": {
   "default_parameters": {},
   "duration": 196.108737,
   "end_time": "2022-01-31T20:11:24.230966",
   "environment_variables": {},
   "exception": null,
   "input_path": "2020-08-11-part2.ipynb",
   "output_path": "2020-08-11-part2.ipynb",
   "parameters": {},
   "start_time": "2022-01-31T20:08:08.122229",
   "version": "2.3.3"
  }
 },
 "nbformat": 4,
 "nbformat_minor": 5
}