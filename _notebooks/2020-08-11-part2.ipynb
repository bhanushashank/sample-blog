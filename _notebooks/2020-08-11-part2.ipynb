{
 "cells": [
  {
   "cell_type": "markdown",
   "id": "98380cd3",
   "metadata": {
    "papermill": {
     "duration": 0.038978,
     "end_time": "2022-07-04T10:10:51.111986",
     "exception": false,
     "start_time": "2022-07-04T10:10:51.073008",
     "status": "completed"
    },
    "tags": []
   },
   "source": [
    "# Distinguish Your Own Digits (DYOD)"
   ]
  },
  {
   "cell_type": "markdown",
   "id": "ef31240d",
   "metadata": {
    "papermill": {
     "duration": 0.030585,
     "end_time": "2022-07-04T10:10:51.172753",
     "exception": false,
     "start_time": "2022-07-04T10:10:51.142168",
     "status": "completed"
    },
    "tags": []
   },
   "source": [
    "You are going to write a classifier that distinguishes between the number 3 and number 8."
   ]
  },
  {
   "cell_type": "code",
   "execution_count": 1,
   "id": "b15c8646",
   "metadata": {
    "execution": {
     "iopub.execute_input": "2022-07-04T10:10:51.239649Z",
     "iopub.status.busy": "2022-07-04T10:10:51.238946Z",
     "iopub.status.idle": "2022-07-04T10:10:51.249989Z",
     "shell.execute_reply": "2022-07-04T10:10:51.250650Z"
    },
    "papermill": {
     "duration": 0.050535,
     "end_time": "2022-07-04T10:10:51.250806",
     "exception": false,
     "start_time": "2022-07-04T10:10:51.200271",
     "status": "completed"
    },
    "tags": []
   },
   "outputs": [],
   "source": [
    "%load_ext autoreload\n",
    "%autoreload 2"
   ]
  },
  {
   "cell_type": "code",
   "execution_count": 2,
   "id": "22ef38dc",
   "metadata": {
    "execution": {
     "iopub.execute_input": "2022-07-04T10:10:51.310491Z",
     "iopub.status.busy": "2022-07-04T10:10:51.309815Z",
     "iopub.status.idle": "2022-07-04T10:10:51.878375Z",
     "shell.execute_reply": "2022-07-04T10:10:51.878960Z"
    },
    "papermill": {
     "duration": 0.600937,
     "end_time": "2022-07-04T10:10:51.879126",
     "exception": false,
     "start_time": "2022-07-04T10:10:51.278189",
     "status": "completed"
    },
    "tags": []
   },
   "outputs": [],
   "source": [
    "%matplotlib inline\n",
    "import numpy as np\n",
    "import matplotlib.pyplot as plt\n",
    "import pandas as pd"
   ]
  },
  {
   "cell_type": "markdown",
   "id": "ba036198",
   "metadata": {
    "papermill": {
     "duration": 0.027267,
     "end_time": "2022-07-04T10:10:51.934207",
     "exception": false,
     "start_time": "2022-07-04T10:10:51.906940",
     "status": "completed"
    },
    "tags": []
   },
   "source": [
    "From the command line run `pip install mnist`. This is a library that will help you bring down the mnist dataset. If you run this from a notebook, you need to put  `!pip install mnist` in a cell by itself."
   ]
  },
  {
   "cell_type": "code",
   "execution_count": 3,
   "id": "bb6ad8a1",
   "metadata": {
    "execution": {
     "iopub.execute_input": "2022-07-04T10:10:51.994607Z",
     "iopub.status.busy": "2022-07-04T10:10:51.993955Z",
     "iopub.status.idle": "2022-07-04T10:10:54.714064Z",
     "shell.execute_reply": "2022-07-04T10:10:54.713400Z"
    },
    "papermill": {
     "duration": 2.752342,
     "end_time": "2022-07-04T10:10:54.714213",
     "exception": false,
     "start_time": "2022-07-04T10:10:51.961871",
     "status": "completed"
    },
    "tags": []
   },
   "outputs": [
    {
     "name": "stdout",
     "output_type": "stream",
     "text": [
      "Collecting mnist\r\n"
     ]
    },
    {
     "name": "stdout",
     "output_type": "stream",
     "text": [
      "  Downloading mnist-0.2.2-py2.py3-none-any.whl (3.5 kB)\r\n",
      "Requirement already satisfied: numpy in /opt/hostedtoolcache/Python/3.6.15/x64/lib/python3.6/site-packages (from mnist) (1.19.5)\r\n"
     ]
    },
    {
     "name": "stdout",
     "output_type": "stream",
     "text": [
      "Installing collected packages: mnist\r\n",
      "Successfully installed mnist-0.2.2\r\n"
     ]
    }
   ],
   "source": [
    "!pip install mnist"
   ]
  },
  {
   "cell_type": "markdown",
   "id": "69df9c9a",
   "metadata": {
    "papermill": {
     "duration": 0.029853,
     "end_time": "2022-07-04T10:10:54.772863",
     "exception": false,
     "start_time": "2022-07-04T10:10:54.743010",
     "status": "completed"
    },
    "tags": []
   },
   "source": [
    "## Preparing the Data"
   ]
  },
  {
   "cell_type": "code",
   "execution_count": 4,
   "id": "7f69d806",
   "metadata": {
    "execution": {
     "iopub.execute_input": "2022-07-04T10:10:54.846179Z",
     "iopub.status.busy": "2022-07-04T10:10:54.837955Z",
     "iopub.status.idle": "2022-07-04T10:10:54.851105Z",
     "shell.execute_reply": "2022-07-04T10:10:54.850272Z"
    },
    "papermill": {
     "duration": 0.049435,
     "end_time": "2022-07-04T10:10:54.851220",
     "exception": false,
     "start_time": "2022-07-04T10:10:54.801785",
     "status": "completed"
    },
    "tags": []
   },
   "outputs": [],
   "source": [
    "import mnist"
   ]
  },
  {
   "cell_type": "code",
   "execution_count": 5,
   "id": "a411e44f",
   "metadata": {
    "execution": {
     "iopub.execute_input": "2022-07-04T10:10:54.924110Z",
     "iopub.status.busy": "2022-07-04T10:10:54.910857Z",
     "iopub.status.idle": "2022-07-04T10:10:55.506852Z",
     "shell.execute_reply": "2022-07-04T10:10:55.506250Z"
    },
    "papermill": {
     "duration": 0.627723,
     "end_time": "2022-07-04T10:10:55.507064",
     "exception": false,
     "start_time": "2022-07-04T10:10:54.879341",
     "status": "completed"
    },
    "tags": []
   },
   "outputs": [],
   "source": [
    "train_images = mnist.train_images()\n",
    "train_labels = mnist.train_labels()"
   ]
  },
  {
   "cell_type": "code",
   "execution_count": 6,
   "id": "dceab3a5",
   "metadata": {
    "execution": {
     "iopub.execute_input": "2022-07-04T10:10:55.584191Z",
     "iopub.status.busy": "2022-07-04T10:10:55.578799Z",
     "iopub.status.idle": "2022-07-04T10:10:55.590655Z",
     "shell.execute_reply": "2022-07-04T10:10:55.590116Z"
    },
    "papermill": {
     "duration": 0.055166,
     "end_time": "2022-07-04T10:10:55.590770",
     "exception": false,
     "start_time": "2022-07-04T10:10:55.535604",
     "status": "completed"
    },
    "tags": []
   },
   "outputs": [
    {
     "data": {
      "text/plain": [
       "((60000, 28, 28), (60000,))"
      ]
     },
     "execution_count": 6,
     "metadata": {},
     "output_type": "execute_result"
    }
   ],
   "source": [
    "train_images.shape, train_labels.shape"
   ]
  },
  {
   "cell_type": "code",
   "execution_count": 7,
   "id": "f50dc2bb",
   "metadata": {
    "execution": {
     "iopub.execute_input": "2022-07-04T10:10:55.651113Z",
     "iopub.status.busy": "2022-07-04T10:10:55.649931Z",
     "iopub.status.idle": "2022-07-04T10:10:55.772068Z",
     "shell.execute_reply": "2022-07-04T10:10:55.771477Z"
    },
    "papermill": {
     "duration": 0.153503,
     "end_time": "2022-07-04T10:10:55.772206",
     "exception": false,
     "start_time": "2022-07-04T10:10:55.618703",
     "status": "completed"
    },
    "tags": []
   },
   "outputs": [],
   "source": [
    "test_images = mnist.test_images()\n",
    "test_labels = mnist.test_labels()"
   ]
  },
  {
   "cell_type": "code",
   "execution_count": 8,
   "id": "fc38cf1b",
   "metadata": {
    "execution": {
     "iopub.execute_input": "2022-07-04T10:10:55.835099Z",
     "iopub.status.busy": "2022-07-04T10:10:55.834380Z",
     "iopub.status.idle": "2022-07-04T10:10:55.848147Z",
     "shell.execute_reply": "2022-07-04T10:10:55.847611Z"
    },
    "papermill": {
     "duration": 0.046389,
     "end_time": "2022-07-04T10:10:55.848258",
     "exception": false,
     "start_time": "2022-07-04T10:10:55.801869",
     "status": "completed"
    },
    "tags": []
   },
   "outputs": [
    {
     "data": {
      "text/plain": [
       "((10000, 28, 28), (10000,))"
      ]
     },
     "execution_count": 8,
     "metadata": {},
     "output_type": "execute_result"
    }
   ],
   "source": [
    "test_images.shape, test_labels.shape"
   ]
  },
  {
   "cell_type": "code",
   "execution_count": 9,
   "id": "f9ed8fe0",
   "metadata": {
    "execution": {
     "iopub.execute_input": "2022-07-04T10:10:55.931828Z",
     "iopub.status.busy": "2022-07-04T10:10:55.915563Z",
     "iopub.status.idle": "2022-07-04T10:10:56.081085Z",
     "shell.execute_reply": "2022-07-04T10:10:56.080501Z"
    },
    "papermill": {
     "duration": 0.203335,
     "end_time": "2022-07-04T10:10:56.081257",
     "exception": false,
     "start_time": "2022-07-04T10:10:55.877922",
     "status": "completed"
    },
    "tags": []
   },
   "outputs": [
    {
     "name": "stdout",
     "output_type": "stream",
     "text": [
      "2\n"
     ]
    },
    {
     "data": {
      "text/plain": [
       "<matplotlib.image.AxesImage at 0x7f7d3e752550>"
      ]
     },
     "execution_count": 9,
     "metadata": {},
     "output_type": "execute_result"
    },
    {
     "data": {
      "image/png": "[encoded data removed]",
      "text/plain": [
       "<Figure size 432x288 with 1 Axes>"
      ]
     },
     "metadata": {
      "needs_background": "light"
     },
     "output_type": "display_data"
    }
   ],
   "source": [
    "image_index = 7776 # You may select anything up to 60,000\n",
    "print(train_labels[image_index]) \n",
    "plt.imshow(train_images[image_index], cmap='Greys')"
   ]
  },
  {
   "cell_type": "markdown",
   "id": "a8d2388d",
   "metadata": {
    "papermill": {
     "duration": 0.029917,
     "end_time": "2022-07-04T10:10:56.142427",
     "exception": false,
     "start_time": "2022-07-04T10:10:56.112510",
     "status": "completed"
    },
    "tags": []
   },
   "source": [
    "## Filter data to get 3 and 8 out"
   ]
  },
  {
   "cell_type": "code",
   "execution_count": 10,
   "id": "776f7fc7",
   "metadata": {
    "execution": {
     "iopub.execute_input": "2022-07-04T10:10:56.223028Z",
     "iopub.status.busy": "2022-07-04T10:10:56.218106Z",
     "iopub.status.idle": "2022-07-04T10:10:56.231777Z",
     "shell.execute_reply": "2022-07-04T10:10:56.231182Z"
    },
    "papermill": {
     "duration": 0.058223,
     "end_time": "2022-07-04T10:10:56.231913",
     "exception": false,
     "start_time": "2022-07-04T10:10:56.173690",
     "status": "completed"
    },
    "tags": []
   },
   "outputs": [],
   "source": [
    "train_filter = np.where((train_labels == 3 ) | (train_labels == 8))\n",
    "test_filter = np.where((test_labels == 3) | (test_labels == 8))\n",
    "X_train, y_train = train_images[train_filter], train_labels[train_filter]\n",
    "X_test, y_test = test_images[test_filter], test_labels[test_filter]"
   ]
  },
  {
   "cell_type": "markdown",
   "id": "948f0b7e",
   "metadata": {
    "papermill": {
     "duration": 0.032675,
     "end_time": "2022-07-04T10:10:56.296683",
     "exception": false,
     "start_time": "2022-07-04T10:10:56.264008",
     "status": "completed"
    },
    "tags": []
   },
   "source": [
    "We normalize the pizel values in the 0 to 1 range"
   ]
  },
  {
   "cell_type": "code",
   "execution_count": 11,
   "id": "ee4c2166",
   "metadata": {
    "execution": {
     "iopub.execute_input": "2022-07-04T10:10:56.377433Z",
     "iopub.status.busy": "2022-07-04T10:10:56.370646Z",
     "iopub.status.idle": "2022-07-04T10:10:56.425858Z",
     "shell.execute_reply": "2022-07-04T10:10:56.424799Z"
    },
    "papermill": {
     "duration": 0.098293,
     "end_time": "2022-07-04T10:10:56.425994",
     "exception": false,
     "start_time": "2022-07-04T10:10:56.327701",
     "status": "completed"
    },
    "tags": []
   },
   "outputs": [],
   "source": [
    "X_train = X_train/255.\n",
    "X_test = X_test/255."
   ]
  },
  {
   "cell_type": "markdown",
   "id": "ddcf4fab",
   "metadata": {
    "papermill": {
     "duration": 0.030962,
     "end_time": "2022-07-04T10:10:56.489329",
     "exception": false,
     "start_time": "2022-07-04T10:10:56.458367",
     "status": "completed"
    },
    "tags": []
   },
   "source": [
    "And setup the labels as 1 (when the digit is 3) and 0 (when the digit is 8)"
   ]
  },
  {
   "cell_type": "code",
   "execution_count": 12,
   "id": "7dc908f2",
   "metadata": {
    "execution": {
     "iopub.execute_input": "2022-07-04T10:10:56.558231Z",
     "iopub.status.busy": "2022-07-04T10:10:56.554892Z",
     "iopub.status.idle": "2022-07-04T10:10:56.568046Z",
     "shell.execute_reply": "2022-07-04T10:10:56.567490Z"
    },
    "papermill": {
     "duration": 0.048198,
     "end_time": "2022-07-04T10:10:56.568166",
     "exception": false,
     "start_time": "2022-07-04T10:10:56.519968",
     "status": "completed"
    },
    "tags": []
   },
   "outputs": [],
   "source": [
    "y_train = 1*(y_train==3)\n",
    "y_test = 1*(y_test==3)"
   ]
  },
  {
   "cell_type": "code",
   "execution_count": 13,
   "id": "01e4e969",
   "metadata": {
    "execution": {
     "iopub.execute_input": "2022-07-04T10:10:56.648632Z",
     "iopub.status.busy": "2022-07-04T10:10:56.647957Z",
     "iopub.status.idle": "2022-07-04T10:10:56.652281Z",
     "shell.execute_reply": "2022-07-04T10:10:56.651731Z"
    },
    "papermill": {
     "duration": 0.052422,
     "end_time": "2022-07-04T10:10:56.652395",
     "exception": false,
     "start_time": "2022-07-04T10:10:56.599973",
     "status": "completed"
    },
    "tags": []
   },
   "outputs": [
    {
     "data": {
      "text/plain": [
       "((11982, 28, 28), (1984, 28, 28))"
      ]
     },
     "execution_count": 13,
     "metadata": {},
     "output_type": "execute_result"
    }
   ],
   "source": [
    "X_train.shape, X_test.shape"
   ]
  },
  {
   "cell_type": "markdown",
   "id": "5ccf3f85",
   "metadata": {
    "papermill": {
     "duration": 0.030446,
     "end_time": "2022-07-04T10:10:56.713007",
     "exception": false,
     "start_time": "2022-07-04T10:10:56.682561",
     "status": "completed"
    },
    "tags": []
   },
   "source": [
    "We reshape the data to flatten the image pixels into a set of features or co-variates:"
   ]
  },
  {
   "cell_type": "code",
   "execution_count": 14,
   "id": "5286a4a3",
   "metadata": {
    "execution": {
     "iopub.execute_input": "2022-07-04T10:10:56.787046Z",
     "iopub.status.busy": "2022-07-04T10:10:56.786279Z",
     "iopub.status.idle": "2022-07-04T10:10:56.794627Z",
     "shell.execute_reply": "2022-07-04T10:10:56.794083Z"
    },
    "papermill": {
     "duration": 0.051289,
     "end_time": "2022-07-04T10:10:56.794747",
     "exception": false,
     "start_time": "2022-07-04T10:10:56.743458",
     "status": "completed"
    },
    "tags": []
   },
   "outputs": [
    {
     "data": {
      "text/plain": [
       "((11982, 784), (1984, 784))"
      ]
     },
     "execution_count": 14,
     "metadata": {},
     "output_type": "execute_result"
    }
   ],
   "source": [
    "X_train = X_train.reshape(X_train.shape[0], -1)\n",
    "X_test = X_test.reshape(X_test.shape[0], -1)\n",
    "X_train.shape, X_test.shape"
   ]
  },
  {
   "cell_type": "code",
   "execution_count": 15,
   "id": "73c5f88a",
   "metadata": {
    "execution": {
     "iopub.execute_input": "2022-07-04T10:10:56.860918Z",
     "iopub.status.busy": "2022-07-04T10:10:56.860200Z",
     "iopub.status.idle": "2022-07-04T10:10:56.878491Z",
     "shell.execute_reply": "2022-07-04T10:10:56.877958Z"
    },
    "papermill": {
     "duration": 0.053827,
     "end_time": "2022-07-04T10:10:56.878601",
     "exception": false,
     "start_time": "2022-07-04T10:10:56.824774",
     "status": "completed"
    },
    "tags": []
   },
   "outputs": [],
   "source": [
    "#Impoting functions from 'Kudzu'\n",
    "from kudzu.model import Model\n",
    "from kudzu.train import Learner\n",
    "from kudzu.optim import GD\n",
    "from kudzu.data import Data, Sampler,Dataloader\n",
    "\n",
    "from kudzu.callbacks import AccCallback\n",
    "from kudzu.callbacks import ClfCallback\n",
    "\n",
    "from kudzu.loss import MSE\n",
    "\n",
    "from kudzu.layer import Sigmoid,Relu\n",
    "from kudzu.layer import Affine"
   ]
  },
  {
   "cell_type": "markdown",
   "id": "bc01172a",
   "metadata": {
    "papermill": {
     "duration": 0.029896,
     "end_time": "2022-07-04T10:10:56.939310",
     "exception": false,
     "start_time": "2022-07-04T10:10:56.909414",
     "status": "completed"
    },
    "tags": []
   },
   "source": [
    "### Let us create a `Config` class, to store important parameters. \n",
    "This class essentially plays the role of a dictionary."
   ]
  },
  {
   "cell_type": "code",
   "execution_count": 16,
   "id": "978281aa",
   "metadata": {
    "execution": {
     "iopub.execute_input": "2022-07-04T10:10:57.006032Z",
     "iopub.status.busy": "2022-07-04T10:10:57.005356Z",
     "iopub.status.idle": "2022-07-04T10:10:57.018329Z",
     "shell.execute_reply": "2022-07-04T10:10:57.017787Z"
    },
    "papermill": {
     "duration": 0.047752,
     "end_time": "2022-07-04T10:10:57.018443",
     "exception": false,
     "start_time": "2022-07-04T10:10:56.970691",
     "status": "completed"
    },
    "tags": []
   },
   "outputs": [],
   "source": [
    "class Config:\n",
    "    pass\n",
    "config = Config()\n",
    "config.lr = 0.001\n",
    "config.num_epochs = 250\n",
    "config.bs = 50"
   ]
  },
  {
   "cell_type": "markdown",
   "id": "1385fa59",
   "metadata": {
    "papermill": {
     "duration": 0.031152,
     "end_time": "2022-07-04T10:10:57.079912",
     "exception": false,
     "start_time": "2022-07-04T10:10:57.048760",
     "status": "completed"
    },
    "tags": []
   },
   "source": [
    "### Running Models with the Training data\n",
    "Details about the network layers:\n",
    "- A first affine layer has 784 inputs and does 100 affine transforms. These are followed by a Relu\n",
    "- A second affine layer has 100 inputs from the 100 activations of the past layer, and does 100 affine transforms. These are followed by a Relu\n",
    "- A third affine layer has 100 activations and does 2 affine transformations to create an embedding for visualization. There is no non-linearity here.\n",
    "- A final \"logistic regression\" which has an affine transform from 2 inputs to 1 output, which is squeezed through a sigmoid.\n"
   ]
  },
  {
   "cell_type": "code",
   "execution_count": 17,
   "id": "2b9c66db",
   "metadata": {
    "execution": {
     "iopub.execute_input": "2022-07-04T10:10:57.151908Z",
     "iopub.status.busy": "2022-07-04T10:10:57.151121Z",
     "iopub.status.idle": "2022-07-04T10:10:57.165514Z",
     "shell.execute_reply": "2022-07-04T10:10:57.164813Z"
    },
    "papermill": {
     "duration": 0.052347,
     "end_time": "2022-07-04T10:10:57.165648",
     "exception": false,
     "start_time": "2022-07-04T10:10:57.113301",
     "status": "completed"
    },
    "tags": []
   },
   "outputs": [],
   "source": [
    "data = Data(X_train, y_train.reshape(-1,1))\n",
    "sampler = Sampler(data, config.bs, shuffle=True)\n",
    "\n",
    "dl = Dataloader(data, sampler)\n",
    "\n",
    "opt = GD(config.lr)\n",
    "loss = MSE()"
   ]
  },
  {
   "cell_type": "code",
   "execution_count": 18,
   "id": "b275e4c2",
   "metadata": {
    "execution": {
     "iopub.execute_input": "2022-07-04T10:10:57.232089Z",
     "iopub.status.busy": "2022-07-04T10:10:57.231422Z",
     "iopub.status.idle": "2022-07-04T10:10:57.244694Z",
     "shell.execute_reply": "2022-07-04T10:10:57.244070Z"
    },
    "papermill": {
     "duration": 0.047654,
     "end_time": "2022-07-04T10:10:57.244825",
     "exception": false,
     "start_time": "2022-07-04T10:10:57.197171",
     "status": "completed"
    },
    "tags": []
   },
   "outputs": [],
   "source": [
    "training_data_x = X_train\n",
    "testing_data_x = X_test\n",
    "training_data_y = y_train.reshape(-1,1)\n",
    "testing_data_y = y_test.reshape(-1,1)"
   ]
  },
  {
   "cell_type": "code",
   "execution_count": 19,
   "id": "76951160",
   "metadata": {
    "execution": {
     "iopub.execute_input": "2022-07-04T10:10:57.315888Z",
     "iopub.status.busy": "2022-07-04T10:10:57.315163Z",
     "iopub.status.idle": "2022-07-04T10:10:57.332864Z",
     "shell.execute_reply": "2022-07-04T10:10:57.333400Z"
    },
    "papermill": {
     "duration": 0.055536,
     "end_time": "2022-07-04T10:10:57.333547",
     "exception": false,
     "start_time": "2022-07-04T10:10:57.278011",
     "status": "completed"
    },
    "tags": []
   },
   "outputs": [
    {
     "name": "stdout",
     "output_type": "stream",
     "text": [
      "xavier\n",
      "xavier\n",
      "xavier\n",
      "xavier\n",
      "xavier\n"
     ]
    }
   ],
   "source": [
    "layers = [Affine(\"first\", 784, 100), Relu(\"first\"), Affine(\"second\", 100, 100), Relu(\"second\"), Affine(\"third\", 100, 2), Affine(\"last\", 2, 1), Sigmoid(\"last\")]\n",
    "model_nn = Model(layers)\n",
    "model_lr = Model([Affine(\"logits\", 784, 1), Sigmoid(\"sigmoid\")])"
   ]
  },
  {
   "cell_type": "code",
   "execution_count": 20,
   "id": "6eede77a",
   "metadata": {
    "execution": {
     "iopub.execute_input": "2022-07-04T10:10:57.411275Z",
     "iopub.status.busy": "2022-07-04T10:10:57.404302Z",
     "iopub.status.idle": "2022-07-04T10:10:57.414091Z",
     "shell.execute_reply": "2022-07-04T10:10:57.413433Z"
    },
    "papermill": {
     "duration": 0.049894,
     "end_time": "2022-07-04T10:10:57.414207",
     "exception": false,
     "start_time": "2022-07-04T10:10:57.364313",
     "status": "completed"
    },
    "tags": []
   },
   "outputs": [],
   "source": [
    "nn_learner = Learner(loss, model_nn, opt, config.num_epochs)\n",
    "acc_nn = ClfCallback(nn_learner, config.bs, training_data_x , testing_data_x, training_data_y, testing_data_y)\n",
    "nn_learner.set_callbacks([acc_nn])"
   ]
  },
  {
   "cell_type": "code",
   "execution_count": 21,
   "id": "877b6cc7",
   "metadata": {
    "execution": {
     "iopub.execute_input": "2022-07-04T10:10:57.481935Z",
     "iopub.status.busy": "2022-07-04T10:10:57.481265Z",
     "iopub.status.idle": "2022-07-04T10:10:57.494020Z",
     "shell.execute_reply": "2022-07-04T10:10:57.493357Z"
    },
    "papermill": {
     "duration": 0.04935,
     "end_time": "2022-07-04T10:10:57.494140",
     "exception": false,
     "start_time": "2022-07-04T10:10:57.444790",
     "status": "completed"
    },
    "tags": []
   },
   "outputs": [],
   "source": [
    "lr_learner = Learner(loss, model_lr, opt, config.num_epochs)\n",
    "acc_lr = ClfCallback(lr_learner, config.bs, training_data_x , testing_data_x, training_data_y, testing_data_y)\n",
    "lr_learner.set_callbacks([acc_lr])"
   ]
  },
  {
   "cell_type": "code",
   "execution_count": 22,
   "id": "d9b133c3",
   "metadata": {
    "execution": {
     "iopub.execute_input": "2022-07-04T10:10:57.560309Z",
     "iopub.status.busy": "2022-07-04T10:10:57.559602Z",
     "iopub.status.idle": "2022-07-04T10:13:02.818455Z",
     "shell.execute_reply": "2022-07-04T10:13:02.819384Z"
    },
    "papermill": {
     "duration": 125.294715,
     "end_time": "2022-07-04T10:13:02.819560",
     "exception": false,
     "start_time": "2022-07-04T10:10:57.524845",
     "status": "completed"
    },
    "tags": []
   },
   "outputs": [
    {
     "name": "stdout",
     "output_type": "stream",
     "text": [
      "Epoch 0, Loss 0.2471\n",
      "Training Accuracy: 0.6059, Testing Accuracy: 0.6018\n",
      "\n"
     ]
    },
    {
     "name": "stdout",
     "output_type": "stream",
     "text": [
      "Epoch 10, Loss 0.2078\n",
      "Training Accuracy: 0.8665, Testing Accuracy: 0.8816\n",
      "\n"
     ]
    },
    {
     "name": "stdout",
     "output_type": "stream",
     "text": [
      "Epoch 20, Loss 0.1121\n",
      "Training Accuracy: 0.9029, Testing Accuracy: 0.9108\n",
      "\n"
     ]
    },
    {
     "name": "stdout",
     "output_type": "stream",
     "text": [
      "Epoch 30, Loss 0.0665\n",
      "Training Accuracy: 0.9316, Testing Accuracy: 0.9415\n",
      "\n"
     ]
    },
    {
     "name": "stdout",
     "output_type": "stream",
     "text": [
      "Epoch 40, Loss 0.0502\n",
      "Training Accuracy: 0.9461, Testing Accuracy: 0.9597\n",
      "\n"
     ]
    },
    {
     "name": "stdout",
     "output_type": "stream",
     "text": [
      "Epoch 50, Loss 0.0423\n",
      "Training Accuracy: 0.9530, Testing Accuracy: 0.9647\n",
      "\n"
     ]
    },
    {
     "name": "stdout",
     "output_type": "stream",
     "text": [
      "Epoch 60, Loss 0.0376\n",
      "Training Accuracy: 0.9576, Testing Accuracy: 0.9682\n",
      "\n"
     ]
    },
    {
     "name": "stdout",
     "output_type": "stream",
     "text": [
      "Epoch 70, Loss 0.0345\n",
      "Training Accuracy: 0.9605, Testing Accuracy: 0.9693\n",
      "\n"
     ]
    },
    {
     "name": "stdout",
     "output_type": "stream",
     "text": [
      "Epoch 80, Loss 0.0322\n",
      "Training Accuracy: 0.9629, Testing Accuracy: 0.9693\n",
      "\n"
     ]
    },
    {
     "name": "stdout",
     "output_type": "stream",
     "text": [
      "Epoch 90, Loss 0.0305\n",
      "Training Accuracy: 0.9646, Testing Accuracy: 0.9698\n",
      "\n"
     ]
    },
    {
     "name": "stdout",
     "output_type": "stream",
     "text": [
      "Epoch 100, Loss 0.029\n",
      "Training Accuracy: 0.9666, Testing Accuracy: 0.9708\n",
      "\n"
     ]
    },
    {
     "name": "stdout",
     "output_type": "stream",
     "text": [
      "Epoch 110, Loss 0.0278\n",
      "Training Accuracy: 0.9683, Testing Accuracy: 0.9723\n",
      "\n"
     ]
    },
    {
     "name": "stdout",
     "output_type": "stream",
     "text": [
      "Epoch 120, Loss 0.0268\n",
      "Training Accuracy: 0.9696, Testing Accuracy: 0.9723\n",
      "\n"
     ]
    },
    {
     "name": "stdout",
     "output_type": "stream",
     "text": [
      "Epoch 130, Loss 0.0259\n",
      "Training Accuracy: 0.9702, Testing Accuracy: 0.9738\n",
      "\n"
     ]
    },
    {
     "name": "stdout",
     "output_type": "stream",
     "text": [
      "Epoch 140, Loss 0.0251\n",
      "Training Accuracy: 0.9711, Testing Accuracy: 0.9743\n",
      "\n"
     ]
    },
    {
     "name": "stdout",
     "output_type": "stream",
     "text": [
      "Epoch 150, Loss 0.0244\n",
      "Training Accuracy: 0.9726, Testing Accuracy: 0.9743\n",
      "\n"
     ]
    },
    {
     "name": "stdout",
     "output_type": "stream",
     "text": [
      "Epoch 160, Loss 0.0238\n",
      "Training Accuracy: 0.9731, Testing Accuracy: 0.9748\n",
      "\n"
     ]
    },
    {
     "name": "stdout",
     "output_type": "stream",
     "text": [
      "Epoch 170, Loss 0.0232\n",
      "Training Accuracy: 0.9734, Testing Accuracy: 0.9758\n",
      "\n"
     ]
    },
    {
     "name": "stdout",
     "output_type": "stream",
     "text": [
      "Epoch 180, Loss 0.0226\n",
      "Training Accuracy: 0.9745, Testing Accuracy: 0.9758\n",
      "\n"
     ]
    },
    {
     "name": "stdout",
     "output_type": "stream",
     "text": [
      "Epoch 190, Loss 0.0221\n",
      "Training Accuracy: 0.9751, Testing Accuracy: 0.9753\n",
      "\n"
     ]
    },
    {
     "name": "stdout",
     "output_type": "stream",
     "text": [
      "Epoch 200, Loss 0.0216\n",
      "Training Accuracy: 0.9754, Testing Accuracy: 0.9758\n",
      "\n"
     ]
    },
    {
     "name": "stdout",
     "output_type": "stream",
     "text": [
      "Epoch 210, Loss 0.0212\n",
      "Training Accuracy: 0.9757, Testing Accuracy: 0.9763\n",
      "\n"
     ]
    },
    {
     "name": "stdout",
     "output_type": "stream",
     "text": [
      "Epoch 220, Loss 0.0208\n",
      "Training Accuracy: 0.9762, Testing Accuracy: 0.9758\n",
      "\n"
     ]
    },
    {
     "name": "stdout",
     "output_type": "stream",
     "text": [
      "Epoch 230, Loss 0.0203\n",
      "Training Accuracy: 0.9764, Testing Accuracy: 0.9758\n",
      "\n"
     ]
    },
    {
     "name": "stdout",
     "output_type": "stream",
     "text": [
      "Epoch 240, Loss 0.0199\n",
      "Training Accuracy: 0.9767, Testing Accuracy: 0.9763\n",
      "\n"
     ]
    },
    {
     "data": {
      "text/plain": [
       "0.06658098825441142"
      ]
     },
     "execution_count": 22,
     "metadata": {},
     "output_type": "execute_result"
    }
   ],
   "source": [
    "nn_learner.train_loop(dl)"
   ]
  },
  {
   "cell_type": "code",
   "execution_count": 23,
   "id": "e0163366",
   "metadata": {
    "execution": {
     "iopub.execute_input": "2022-07-04T10:13:02.912761Z",
     "iopub.status.busy": "2022-07-04T10:13:02.912064Z",
     "iopub.status.idle": "2022-07-04T10:13:20.804529Z",
     "shell.execute_reply": "2022-07-04T10:13:20.805634Z"
    },
    "papermill": {
     "duration": 17.943683,
     "end_time": "2022-07-04T10:13:20.805797",
     "exception": false,
     "start_time": "2022-07-04T10:13:02.862114",
     "status": "completed"
    },
    "tags": []
   },
   "outputs": [
    {
     "name": "stdout",
     "output_type": "stream",
     "text": [
      "Epoch 0, Loss 0.2734\n",
      "Training Accuracy: 0.5396, Testing Accuracy: 0.5232\n",
      "\n"
     ]
    },
    {
     "name": "stdout",
     "output_type": "stream",
     "text": [
      "Epoch 10, Loss 0.1041\n",
      "Training Accuracy: 0.9114, Testing Accuracy: 0.9214\n",
      "\n"
     ]
    },
    {
     "name": "stdout",
     "output_type": "stream",
     "text": [
      "Epoch 20, Loss 0.0794\n",
      "Training Accuracy: 0.9294, Testing Accuracy: 0.9400\n",
      "\n"
     ]
    },
    {
     "name": "stdout",
     "output_type": "stream",
     "text": [
      "Epoch 30, Loss 0.0683\n",
      "Training Accuracy: 0.9372, Testing Accuracy: 0.9486\n",
      "\n"
     ]
    },
    {
     "name": "stdout",
     "output_type": "stream",
     "text": [
      "Epoch 40, Loss 0.0617\n",
      "Training Accuracy: 0.9416, Testing Accuracy: 0.9541\n",
      "\n"
     ]
    },
    {
     "name": "stdout",
     "output_type": "stream",
     "text": [
      "Epoch 50, Loss 0.0572\n",
      "Training Accuracy: 0.9457, Testing Accuracy: 0.9567\n",
      "\n"
     ]
    },
    {
     "name": "stdout",
     "output_type": "stream",
     "text": [
      "Epoch 60, Loss 0.0539\n",
      "Training Accuracy: 0.9474, Testing Accuracy: 0.9597\n",
      "\n"
     ]
    },
    {
     "name": "stdout",
     "output_type": "stream",
     "text": [
      "Epoch 70, Loss 0.0513\n",
      "Training Accuracy: 0.9493, Testing Accuracy: 0.9607\n",
      "\n"
     ]
    },
    {
     "name": "stdout",
     "output_type": "stream",
     "text": [
      "Epoch 80, Loss 0.0492\n",
      "Training Accuracy: 0.9504, Testing Accuracy: 0.9612\n",
      "\n"
     ]
    },
    {
     "name": "stdout",
     "output_type": "stream",
     "text": [
      "Epoch 90, Loss 0.0476\n",
      "Training Accuracy: 0.9513, Testing Accuracy: 0.9632\n",
      "\n"
     ]
    },
    {
     "name": "stdout",
     "output_type": "stream",
     "text": [
      "Epoch 100, Loss 0.0461\n",
      "Training Accuracy: 0.9526, Testing Accuracy: 0.9637\n",
      "\n"
     ]
    },
    {
     "name": "stdout",
     "output_type": "stream",
     "text": [
      "Epoch 110, Loss 0.0449\n",
      "Training Accuracy: 0.9538, Testing Accuracy: 0.9642\n",
      "\n"
     ]
    },
    {
     "name": "stdout",
     "output_type": "stream",
     "text": [
      "Epoch 120, Loss 0.0438\n",
      "Training Accuracy: 0.9548, Testing Accuracy: 0.9637\n",
      "\n"
     ]
    },
    {
     "name": "stdout",
     "output_type": "stream",
     "text": [
      "Epoch 130, Loss 0.0429\n",
      "Training Accuracy: 0.9557, Testing Accuracy: 0.9637\n",
      "\n"
     ]
    },
    {
     "name": "stdout",
     "output_type": "stream",
     "text": [
      "Epoch 140, Loss 0.0421\n",
      "Training Accuracy: 0.9556, Testing Accuracy: 0.9637\n",
      "\n"
     ]
    },
    {
     "name": "stdout",
     "output_type": "stream",
     "text": [
      "Epoch 150, Loss 0.0413\n",
      "Training Accuracy: 0.9564, Testing Accuracy: 0.9647\n",
      "\n"
     ]
    },
    {
     "name": "stdout",
     "output_type": "stream",
     "text": [
      "Epoch 160, Loss 0.0407\n",
      "Training Accuracy: 0.9569, Testing Accuracy: 0.9657\n",
      "\n"
     ]
    },
    {
     "name": "stdout",
     "output_type": "stream",
     "text": [
      "Epoch 170, Loss 0.04\n",
      "Training Accuracy: 0.9574, Testing Accuracy: 0.9657\n",
      "\n"
     ]
    },
    {
     "name": "stdout",
     "output_type": "stream",
     "text": [
      "Epoch 180, Loss 0.0395\n",
      "Training Accuracy: 0.9579, Testing Accuracy: 0.9662\n",
      "\n"
     ]
    },
    {
     "name": "stdout",
     "output_type": "stream",
     "text": [
      "Epoch 190, Loss 0.039\n",
      "Training Accuracy: 0.9584, Testing Accuracy: 0.9667\n",
      "\n"
     ]
    },
    {
     "name": "stdout",
     "output_type": "stream",
     "text": [
      "Epoch 200, Loss 0.0385\n",
      "Training Accuracy: 0.9585, Testing Accuracy: 0.9672\n",
      "\n"
     ]
    },
    {
     "name": "stdout",
     "output_type": "stream",
     "text": [
      "Epoch 210, Loss 0.038\n",
      "Training Accuracy: 0.9588, Testing Accuracy: 0.9677\n",
      "\n"
     ]
    },
    {
     "name": "stdout",
     "output_type": "stream",
     "text": [
      "Epoch 220, Loss 0.0376\n",
      "Training Accuracy: 0.9591, Testing Accuracy: 0.9677\n",
      "\n"
     ]
    },
    {
     "name": "stdout",
     "output_type": "stream",
     "text": [
      "Epoch 230, Loss 0.0372\n",
      "Training Accuracy: 0.9595, Testing Accuracy: 0.9677\n",
      "\n"
     ]
    },
    {
     "name": "stdout",
     "output_type": "stream",
     "text": [
      "Epoch 240, Loss 0.0369\n",
      "Training Accuracy: 0.9600, Testing Accuracy: 0.9677\n",
      "\n"
     ]
    },
    {
     "data": {
      "text/plain": [
       "0.027390084562933327"
      ]
     },
     "execution_count": 23,
     "metadata": {},
     "output_type": "execute_result"
    }
   ],
   "source": [
    "lr_learner.train_loop(dl)"
   ]
  },
  {
   "cell_type": "code",
   "execution_count": 24,
   "id": "ca410940",
   "metadata": {
    "execution": {
     "iopub.execute_input": "2022-07-04T10:13:20.921720Z",
     "iopub.status.busy": "2022-07-04T10:13:20.920899Z",
     "iopub.status.idle": "2022-07-04T10:13:21.210133Z",
     "shell.execute_reply": "2022-07-04T10:13:21.210992Z"
    },
    "papermill": {
     "duration": 0.352374,
     "end_time": "2022-07-04T10:13:21.211230",
     "exception": false,
     "start_time": "2022-07-04T10:13:20.858856",
     "status": "completed"
    },
    "tags": []
   },
   "outputs": [
    {
     "data": {
      "text/plain": [
       "<matplotlib.legend.Legend at 0x7f7d31b01c18>"
      ]
     },
     "execution_count": 24,
     "metadata": {},
     "output_type": "execute_result"
    },
    {
     "data": {
      "image/png": "[encoded data removed]",
      "text/plain": [
       "<Figure size 1080x720 with 1 Axes>"
      ]
     },
     "metadata": {
      "needs_background": "light"
     },
     "output_type": "display_data"
    }
   ],
   "source": [
    "#comparing the results of NN and LR\n",
    "plt.figure(figsize=(15,10))\n",
    "\n",
    "# Neural Network plots\n",
    "plt.plot(acc_nn.accuracies, 'r-', label = \"Training Accuracies - NN\")\n",
    "plt.plot(acc_nn.test_accuracies, 'g-', label = \"Testing Accuracies - NN\")\n",
    "\n",
    "# Logistic Regression plots\n",
    "plt.plot(acc_lr.accuracies, 'k-', label = \"Training Accuracies - LR\")\n",
    "plt.plot(acc_lr.test_accuracies, 'b-', label = \"Testing Accuracies - LR\")\n",
    "plt.legend()"
   ]
  },
  {
   "cell_type": "markdown",
   "id": "80dfb35c",
   "metadata": {
    "papermill": {
     "duration": 0.046544,
     "end_time": "2022-07-04T10:13:21.307940",
     "exception": false,
     "start_time": "2022-07-04T10:13:21.261396",
     "status": "completed"
    },
    "tags": []
   },
   "source": [
    "#### Plotting the outputs of this layer of the NN.\n"
   ]
  },
  {
   "cell_type": "code",
   "execution_count": 25,
   "id": "45eb2ff5",
   "metadata": {
    "execution": {
     "iopub.execute_input": "2022-07-04T10:13:21.421841Z",
     "iopub.status.busy": "2022-07-04T10:13:21.416470Z",
     "iopub.status.idle": "2022-07-04T10:13:21.442401Z",
     "shell.execute_reply": "2022-07-04T10:13:21.443375Z"
    },
    "papermill": {
     "duration": 0.089418,
     "end_time": "2022-07-04T10:13:21.443546",
     "exception": false,
     "start_time": "2022-07-04T10:13:21.354128",
     "status": "completed"
    },
    "tags": []
   },
   "outputs": [],
   "source": [
    "new_model = Model(layers[:-2])\n",
    "testing_plot = new_model(testing_data_x)"
   ]
  },
  {
   "cell_type": "code",
   "execution_count": 26,
   "id": "4c0a5485",
   "metadata": {
    "execution": {
     "iopub.execute_input": "2022-07-04T10:13:21.563182Z",
     "iopub.status.busy": "2022-07-04T10:13:21.562309Z",
     "iopub.status.idle": "2022-07-04T10:13:21.836626Z",
     "shell.execute_reply": "2022-07-04T10:13:21.837172Z"
    },
    "papermill": {
     "duration": 0.338017,
     "end_time": "2022-07-04T10:13:21.837332",
     "exception": false,
     "start_time": "2022-07-04T10:13:21.499315",
     "status": "completed"
    },
    "tags": []
   },
   "outputs": [
    {
     "data": {
      "text/plain": [
       "Text(0.5, 1.0, 'Outputs')"
      ]
     },
     "execution_count": 26,
     "metadata": {},
     "output_type": "execute_result"
    },
    {
     "data": {
      "image/png": "[encoded data removed]",
      "text/plain": [
       "<Figure size 576x504 with 1 Axes>"
      ]
     },
     "metadata": {
      "needs_background": "light"
     },
     "output_type": "display_data"
    }
   ],
   "source": [
    "# Plotting the scatter plot of points and color coding by class\n",
    "plt.figure(figsize=(8,7))\n",
    "plt.scatter(testing_plot[:,0], testing_plot[:,1], alpha = 0.1, c = y_test.ravel());\n",
    "plt.title('Outputs')"
   ]
  },
  {
   "cell_type": "markdown",
   "id": "a74fcf8f",
   "metadata": {
    "papermill": {
     "duration": 0.052112,
     "end_time": "2022-07-04T10:13:21.945732",
     "exception": false,
     "start_time": "2022-07-04T10:13:21.893620",
     "status": "completed"
    },
    "tags": []
   },
   "source": [
    "Probability contours"
   ]
  },
  {
   "cell_type": "code",
   "execution_count": 27,
   "id": "d0afc8e3",
   "metadata": {
    "execution": {
     "iopub.execute_input": "2022-07-04T10:13:22.058697Z",
     "iopub.status.busy": "2022-07-04T10:13:22.058032Z",
     "iopub.status.idle": "2022-07-04T10:13:22.069161Z",
     "shell.execute_reply": "2022-07-04T10:13:22.069732Z"
    },
    "papermill": {
     "duration": 0.074727,
     "end_time": "2022-07-04T10:13:22.069977",
     "exception": false,
     "start_time": "2022-07-04T10:13:21.995250",
     "status": "completed"
    },
    "tags": []
   },
   "outputs": [],
   "source": [
    "model_prob = Model(layers[-2:]) "
   ]
  },
  {
   "cell_type": "code",
   "execution_count": 28,
   "id": "9b96e238",
   "metadata": {
    "execution": {
     "iopub.execute_input": "2022-07-04T10:13:22.203426Z",
     "iopub.status.busy": "2022-07-04T10:13:22.202683Z",
     "iopub.status.idle": "2022-07-04T10:13:22.216202Z",
     "shell.execute_reply": "2022-07-04T10:13:22.216704Z"
    },
    "papermill": {
     "duration": 0.074005,
     "end_time": "2022-07-04T10:13:22.216885",
     "exception": false,
     "start_time": "2022-07-04T10:13:22.142880",
     "status": "completed"
    },
    "tags": []
   },
   "outputs": [],
   "source": [
    "#creating the x and y ranges according to the above generated plot.\n",
    "x_range = np.linspace(-4, 1, 100) \n",
    "y_range = np.linspace(-6, 6, 100) \n",
    "x_grid, y_grid = np.meshgrid(x_range, y_range) # x_grid and y_grig are of size 100 X 100\n",
    "\n",
    "# converting x_grid and y_grid to continuous arrays\n",
    "x_gridflat = np.ravel(x_grid)\n",
    "y_gridflat = np.ravel(y_grid)\n",
    "\n",
    "# The last layer of the current model takes two columns as input. Hence transpose of np.vstack() is required.\n",
    "X = np.vstack((x_gridflat, y_gridflat)).T\n",
    "\n",
    "prob_contour = model_prob(X).reshape(100,100) "
   ]
  },
  {
   "cell_type": "code",
   "execution_count": 29,
   "id": "da72499a",
   "metadata": {
    "execution": {
     "iopub.execute_input": "2022-07-04T10:13:22.342074Z",
     "iopub.status.busy": "2022-07-04T10:13:22.334795Z",
     "iopub.status.idle": "2022-07-04T10:13:22.632904Z",
     "shell.execute_reply": "2022-07-04T10:13:22.632269Z"
    },
    "papermill": {
     "duration": 0.361967,
     "end_time": "2022-07-04T10:13:22.633072",
     "exception": false,
     "start_time": "2022-07-04T10:13:22.271105",
     "status": "completed"
    },
    "tags": []
   },
   "outputs": [
    {
     "data": {
      "image/png": "[encoded data removed]",
      "text/plain": [
       "<Figure size 720x648 with 1 Axes>"
      ]
     },
     "metadata": {
      "needs_background": "light"
     },
     "output_type": "display_data"
    }
   ],
   "source": [
    "plt.figure(figsize=(10,9))\n",
    "plt.scatter(testing_plot[:,0], testing_plot[:,1], alpha = 0.1, c = y_test.ravel())\n",
    "contours = plt.contour(x_grid,y_grid,prob_contour)\n",
    "plt.title('Probability Contours')\n",
    "plt.clabel(contours, inline = True );"
   ]
  },
  {
   "cell_type": "code",
   "execution_count": null,
   "id": "e81b4ac7",
   "metadata": {
    "papermill": {
     "duration": 0.053435,
     "end_time": "2022-07-04T10:13:22.742241",
     "exception": false,
     "start_time": "2022-07-04T10:13:22.688806",
     "status": "completed"
    },
    "tags": []
   },
   "outputs": [],
   "source": []
  }
 ],
 "metadata": {
  "kernelspec": {
   "display_name": "Python 3",
   "language": "python",
   "name": "python3"
  },
  "language_info": {
   "codemirror_mode": {
    "name": "ipython",
    "version": 3
   },
   "file_extension": ".py",
   "mimetype": "text/x-python",
   "name": "python",
   "nbconvert_exporter": "python",
   "pygments_lexer": "ipython3",
   "version": "3.6.15"
  },
  "papermill": {
   "default_parameters": {},
   "duration": 153.435539,
   "end_time": "2022-07-04T10:13:23.214801",
   "environment_variables": {},
   "exception": null,
   "input_path": "2020-08-11-part2.ipynb",
   "output_path": "2020-08-11-part2.ipynb",
   "parameters": {},
   "start_time": "2022-07-04T10:10:49.779262",
   "version": "2.3.3"
  }
 },
 "nbformat": 4,
 "nbformat_minor": 5
}