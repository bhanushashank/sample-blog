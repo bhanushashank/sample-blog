{
 "cells": [
  {
   "cell_type": "markdown",
   "id": "98380cd3",
   "metadata": {
    "papermill": {
     "duration": 0.027674,
     "end_time": "2022-03-30T10:09:40.592309",
     "exception": false,
     "start_time": "2022-03-30T10:09:40.564635",
     "status": "completed"
    },
    "tags": []
   },
   "source": [
    "# Distinguish Your Own Digits (DYOD)"
   ]
  },
  {
   "cell_type": "markdown",
   "id": "ef31240d",
   "metadata": {
    "papermill": {
     "duration": 0.025256,
     "end_time": "2022-03-30T10:09:40.642103",
     "exception": false,
     "start_time": "2022-03-30T10:09:40.616847",
     "status": "completed"
    },
    "tags": []
   },
   "source": [
    "You are going to write a classifier that distinguishes between the number 3 and number 8."
   ]
  },
  {
   "cell_type": "code",
   "execution_count": 1,
   "id": "b15c8646",
   "metadata": {
    "execution": {
     "iopub.execute_input": "2022-03-30T10:09:40.700654Z",
     "iopub.status.busy": "2022-03-30T10:09:40.700100Z",
     "iopub.status.idle": "2022-03-30T10:09:40.711185Z",
     "shell.execute_reply": "2022-03-30T10:09:40.710759Z"
    },
    "papermill": {
     "duration": 0.045476,
     "end_time": "2022-03-30T10:09:40.711306",
     "exception": false,
     "start_time": "2022-03-30T10:09:40.665830",
     "status": "completed"
    },
    "tags": []
   },
   "outputs": [],
   "source": [
    "%load_ext autoreload\n",
    "%autoreload 2"
   ]
  },
  {
   "cell_type": "code",
   "execution_count": 2,
   "id": "22ef38dc",
   "metadata": {
    "execution": {
     "iopub.execute_input": "2022-03-30T10:09:40.763532Z",
     "iopub.status.busy": "2022-03-30T10:09:40.762993Z",
     "iopub.status.idle": "2022-03-30T10:09:41.356037Z",
     "shell.execute_reply": "2022-03-30T10:09:41.356525Z"
    },
    "papermill": {
     "duration": 0.621424,
     "end_time": "2022-03-30T10:09:41.356698",
     "exception": false,
     "start_time": "2022-03-30T10:09:40.735274",
     "status": "completed"
    },
    "tags": []
   },
   "outputs": [],
   "source": [
    "%matplotlib inline\n",
    "import numpy as np\n",
    "import matplotlib.pyplot as plt\n",
    "import pandas as pd"
   ]
  },
  {
   "cell_type": "markdown",
   "id": "ba036198",
   "metadata": {
    "papermill": {
     "duration": 0.024249,
     "end_time": "2022-03-30T10:09:41.405430",
     "exception": false,
     "start_time": "2022-03-30T10:09:41.381181",
     "status": "completed"
    },
    "tags": []
   },
   "source": [
    "From the command line run `pip install mnist`. This is a library that will help you bring down the mnist dataset. If you run this from a notebook, you need to put  `!pip install mnist` in a cell by itself."
   ]
  },
  {
   "cell_type": "code",
   "execution_count": 3,
   "id": "bb6ad8a1",
   "metadata": {
    "execution": {
     "iopub.execute_input": "2022-03-30T10:09:41.472275Z",
     "iopub.status.busy": "2022-03-30T10:09:41.468282Z",
     "iopub.status.idle": "2022-03-30T10:09:43.172716Z",
     "shell.execute_reply": "2022-03-30T10:09:43.172212Z"
    },
    "papermill": {
     "duration": 1.743201,
     "end_time": "2022-03-30T10:09:43.172840",
     "exception": false,
     "start_time": "2022-03-30T10:09:41.429639",
     "status": "completed"
    },
    "tags": []
   },
   "outputs": [
    {
     "name": "stdout",
     "output_type": "stream",
     "text": [
      "Collecting mnist\r\n"
     ]
    },
    {
     "name": "stdout",
     "output_type": "stream",
     "text": [
      "  Downloading mnist-0.2.2-py2.py3-none-any.whl (3.5 kB)\r\n",
      "Requirement already satisfied: numpy in /opt/hostedtoolcache/Python/3.6.15/x64/lib/python3.6/site-packages (from mnist) (1.19.5)\r\n"
     ]
    },
    {
     "name": "stdout",
     "output_type": "stream",
     "text": [
      "Installing collected packages: mnist\r\n"
     ]
    },
    {
     "name": "stdout",
     "output_type": "stream",
     "text": [
      "Successfully installed mnist-0.2.2\r\n"
     ]
    }
   ],
   "source": [
    "!pip install mnist"
   ]
  },
  {
   "cell_type": "markdown",
   "id": "69df9c9a",
   "metadata": {
    "papermill": {
     "duration": 0.025235,
     "end_time": "2022-03-30T10:09:43.223723",
     "exception": false,
     "start_time": "2022-03-30T10:09:43.198488",
     "status": "completed"
    },
    "tags": []
   },
   "source": [
    "## Preparing the Data"
   ]
  },
  {
   "cell_type": "code",
   "execution_count": 4,
   "id": "7f69d806",
   "metadata": {
    "execution": {
     "iopub.execute_input": "2022-03-30T10:09:43.276763Z",
     "iopub.status.busy": "2022-03-30T10:09:43.276234Z",
     "iopub.status.idle": "2022-03-30T10:09:43.291994Z",
     "shell.execute_reply": "2022-03-30T10:09:43.291581Z"
    },
    "papermill": {
     "duration": 0.043451,
     "end_time": "2022-03-30T10:09:43.292102",
     "exception": false,
     "start_time": "2022-03-30T10:09:43.248651",
     "status": "completed"
    },
    "tags": []
   },
   "outputs": [],
   "source": [
    "import mnist"
   ]
  },
  {
   "cell_type": "code",
   "execution_count": 5,
   "id": "a411e44f",
   "metadata": {
    "execution": {
     "iopub.execute_input": "2022-03-30T10:09:43.348409Z",
     "iopub.status.busy": "2022-03-30T10:09:43.347909Z",
     "iopub.status.idle": "2022-03-30T10:09:43.983972Z",
     "shell.execute_reply": "2022-03-30T10:09:43.983425Z"
    },
    "papermill": {
     "duration": 0.666495,
     "end_time": "2022-03-30T10:09:43.984115",
     "exception": false,
     "start_time": "2022-03-30T10:09:43.317620",
     "status": "completed"
    },
    "tags": []
   },
   "outputs": [],
   "source": [
    "train_images = mnist.train_images()\n",
    "train_labels = mnist.train_labels()"
   ]
  },
  {
   "cell_type": "code",
   "execution_count": 6,
   "id": "dceab3a5",
   "metadata": {
    "execution": {
     "iopub.execute_input": "2022-03-30T10:09:44.040960Z",
     "iopub.status.busy": "2022-03-30T10:09:44.040425Z",
     "iopub.status.idle": "2022-03-30T10:09:44.053784Z",
     "shell.execute_reply": "2022-03-30T10:09:44.054190Z"
    },
    "papermill": {
     "duration": 0.044655,
     "end_time": "2022-03-30T10:09:44.054315",
     "exception": false,
     "start_time": "2022-03-30T10:09:44.009660",
     "status": "completed"
    },
    "tags": []
   },
   "outputs": [
    {
     "data": {
      "text/plain": [
       "((60000, 28, 28), (60000,))"
      ]
     },
     "execution_count": 6,
     "metadata": {},
     "output_type": "execute_result"
    }
   ],
   "source": [
    "train_images.shape, train_labels.shape"
   ]
  },
  {
   "cell_type": "code",
   "execution_count": 7,
   "id": "f50dc2bb",
   "metadata": {
    "execution": {
     "iopub.execute_input": "2022-03-30T10:09:44.110627Z",
     "iopub.status.busy": "2022-03-30T10:09:44.110121Z",
     "iopub.status.idle": "2022-03-30T10:09:44.336573Z",
     "shell.execute_reply": "2022-03-30T10:09:44.336037Z"
    },
    "papermill": {
     "duration": 0.257205,
     "end_time": "2022-03-30T10:09:44.336713",
     "exception": false,
     "start_time": "2022-03-30T10:09:44.079508",
     "status": "completed"
    },
    "tags": []
   },
   "outputs": [],
   "source": [
    "test_images = mnist.test_images()\n",
    "test_labels = mnist.test_labels()"
   ]
  },
  {
   "cell_type": "code",
   "execution_count": 8,
   "id": "fc38cf1b",
   "metadata": {
    "execution": {
     "iopub.execute_input": "2022-03-30T10:09:44.392018Z",
     "iopub.status.busy": "2022-03-30T10:09:44.391489Z",
     "iopub.status.idle": "2022-03-30T10:09:44.405500Z",
     "shell.execute_reply": "2022-03-30T10:09:44.405091Z"
    },
    "papermill": {
     "duration": 0.042812,
     "end_time": "2022-03-30T10:09:44.405609",
     "exception": false,
     "start_time": "2022-03-30T10:09:44.362797",
     "status": "completed"
    },
    "tags": []
   },
   "outputs": [
    {
     "data": {
      "text/plain": [
       "((10000, 28, 28), (10000,))"
      ]
     },
     "execution_count": 8,
     "metadata": {},
     "output_type": "execute_result"
    }
   ],
   "source": [
    "test_images.shape, test_labels.shape"
   ]
  },
  {
   "cell_type": "code",
   "execution_count": 9,
   "id": "f9ed8fe0",
   "metadata": {
    "execution": {
     "iopub.execute_input": "2022-03-30T10:09:44.460463Z",
     "iopub.status.busy": "2022-03-30T10:09:44.459960Z",
     "iopub.status.idle": "2022-03-30T10:09:44.596133Z",
     "shell.execute_reply": "2022-03-30T10:09:44.596604Z"
    },
    "papermill": {
     "duration": 0.165337,
     "end_time": "2022-03-30T10:09:44.596755",
     "exception": false,
     "start_time": "2022-03-30T10:09:44.431418",
     "status": "completed"
    },
    "tags": []
   },
   "outputs": [
    {
     "name": "stdout",
     "output_type": "stream",
     "text": [
      "2\n"
     ]
    },
    {
     "data": {
      "text/plain": [
       "<matplotlib.image.AxesImage at 0x7f6b4821c198>"
      ]
     },
     "execution_count": 9,
     "metadata": {},
     "output_type": "execute_result"
    },
    {
     "data": {
      "image/png": "[encoded data removed]",
      "text/plain": [
       "<Figure size 432x288 with 1 Axes>"
      ]
     },
     "metadata": {
      "needs_background": "light"
     },
     "output_type": "display_data"
    }
   ],
   "source": [
    "image_index = 7776 # You may select anything up to 60,000\n",
    "print(train_labels[image_index]) \n",
    "plt.imshow(train_images[image_index], cmap='Greys')"
   ]
  },
  {
   "cell_type": "markdown",
   "id": "a8d2388d",
   "metadata": {
    "papermill": {
     "duration": 0.027118,
     "end_time": "2022-03-30T10:09:44.651510",
     "exception": false,
     "start_time": "2022-03-30T10:09:44.624392",
     "status": "completed"
    },
    "tags": []
   },
   "source": [
    "## Filter data to get 3 and 8 out"
   ]
  },
  {
   "cell_type": "code",
   "execution_count": 10,
   "id": "776f7fc7",
   "metadata": {
    "execution": {
     "iopub.execute_input": "2022-03-30T10:09:44.724067Z",
     "iopub.status.busy": "2022-03-30T10:09:44.720058Z",
     "iopub.status.idle": "2022-03-30T10:09:44.732483Z",
     "shell.execute_reply": "2022-03-30T10:09:44.732893Z"
    },
    "papermill": {
     "duration": 0.054973,
     "end_time": "2022-03-30T10:09:44.733016",
     "exception": false,
     "start_time": "2022-03-30T10:09:44.678043",
     "status": "completed"
    },
    "tags": []
   },
   "outputs": [],
   "source": [
    "train_filter = np.where((train_labels == 3 ) | (train_labels == 8))\n",
    "test_filter = np.where((test_labels == 3) | (test_labels == 8))\n",
    "X_train, y_train = train_images[train_filter], train_labels[train_filter]\n",
    "X_test, y_test = test_images[test_filter], test_labels[test_filter]"
   ]
  },
  {
   "cell_type": "markdown",
   "id": "948f0b7e",
   "metadata": {
    "papermill": {
     "duration": 0.026483,
     "end_time": "2022-03-30T10:09:44.786158",
     "exception": false,
     "start_time": "2022-03-30T10:09:44.759675",
     "status": "completed"
    },
    "tags": []
   },
   "source": [
    "We normalize the pizel values in the 0 to 1 range"
   ]
  },
  {
   "cell_type": "code",
   "execution_count": 11,
   "id": "ee4c2166",
   "metadata": {
    "execution": {
     "iopub.execute_input": "2022-03-30T10:09:44.852226Z",
     "iopub.status.busy": "2022-03-30T10:09:44.846336Z",
     "iopub.status.idle": "2022-03-30T10:09:44.894667Z",
     "shell.execute_reply": "2022-03-30T10:09:44.894117Z"
    },
    "papermill": {
     "duration": 0.082167,
     "end_time": "2022-03-30T10:09:44.894800",
     "exception": false,
     "start_time": "2022-03-30T10:09:44.812633",
     "status": "completed"
    },
    "tags": []
   },
   "outputs": [],
   "source": [
    "X_train = X_train/255.\n",
    "X_test = X_test/255."
   ]
  },
  {
   "cell_type": "markdown",
   "id": "ddcf4fab",
   "metadata": {
    "papermill": {
     "duration": 0.026555,
     "end_time": "2022-03-30T10:09:44.949165",
     "exception": false,
     "start_time": "2022-03-30T10:09:44.922610",
     "status": "completed"
    },
    "tags": []
   },
   "source": [
    "And setup the labels as 1 (when the digit is 3) and 0 (when the digit is 8)"
   ]
  },
  {
   "cell_type": "code",
   "execution_count": 12,
   "id": "7dc908f2",
   "metadata": {
    "execution": {
     "iopub.execute_input": "2022-03-30T10:09:45.010110Z",
     "iopub.status.busy": "2022-03-30T10:09:45.009588Z",
     "iopub.status.idle": "2022-03-30T10:09:45.019172Z",
     "shell.execute_reply": "2022-03-30T10:09:45.019610Z"
    },
    "papermill": {
     "duration": 0.043854,
     "end_time": "2022-03-30T10:09:45.019740",
     "exception": false,
     "start_time": "2022-03-30T10:09:44.975886",
     "status": "completed"
    },
    "tags": []
   },
   "outputs": [],
   "source": [
    "y_train = 1*(y_train==3)\n",
    "y_test = 1*(y_test==3)"
   ]
  },
  {
   "cell_type": "code",
   "execution_count": 13,
   "id": "01e4e969",
   "metadata": {
    "execution": {
     "iopub.execute_input": "2022-03-30T10:09:45.076247Z",
     "iopub.status.busy": "2022-03-30T10:09:45.075733Z",
     "iopub.status.idle": "2022-03-30T10:09:45.089923Z",
     "shell.execute_reply": "2022-03-30T10:09:45.089490Z"
    },
    "papermill": {
     "duration": 0.04381,
     "end_time": "2022-03-30T10:09:45.090027",
     "exception": false,
     "start_time": "2022-03-30T10:09:45.046217",
     "status": "completed"
    },
    "tags": []
   },
   "outputs": [
    {
     "data": {
      "text/plain": [
       "((11982, 28, 28), (1984, 28, 28))"
      ]
     },
     "execution_count": 13,
     "metadata": {},
     "output_type": "execute_result"
    }
   ],
   "source": [
    "X_train.shape, X_test.shape"
   ]
  },
  {
   "cell_type": "markdown",
   "id": "5ccf3f85",
   "metadata": {
    "papermill": {
     "duration": 0.026756,
     "end_time": "2022-03-30T10:09:45.143696",
     "exception": false,
     "start_time": "2022-03-30T10:09:45.116940",
     "status": "completed"
    },
    "tags": []
   },
   "source": [
    "We reshape the data to flatten the image pixels into a set of features or co-variates:"
   ]
  },
  {
   "cell_type": "code",
   "execution_count": 14,
   "id": "5286a4a3",
   "metadata": {
    "execution": {
     "iopub.execute_input": "2022-03-30T10:09:45.204688Z",
     "iopub.status.busy": "2022-03-30T10:09:45.204182Z",
     "iopub.status.idle": "2022-03-30T10:09:45.215245Z",
     "shell.execute_reply": "2022-03-30T10:09:45.215709Z"
    },
    "papermill": {
     "duration": 0.045345,
     "end_time": "2022-03-30T10:09:45.215837",
     "exception": false,
     "start_time": "2022-03-30T10:09:45.170492",
     "status": "completed"
    },
    "tags": []
   },
   "outputs": [
    {
     "data": {
      "text/plain": [
       "((11982, 784), (1984, 784))"
      ]
     },
     "execution_count": 14,
     "metadata": {},
     "output_type": "execute_result"
    }
   ],
   "source": [
    "X_train = X_train.reshape(X_train.shape[0], -1)\n",
    "X_test = X_test.reshape(X_test.shape[0], -1)\n",
    "X_train.shape, X_test.shape"
   ]
  },
  {
   "cell_type": "code",
   "execution_count": 15,
   "id": "73c5f88a",
   "metadata": {
    "execution": {
     "iopub.execute_input": "2022-03-30T10:09:45.274572Z",
     "iopub.status.busy": "2022-03-30T10:09:45.274064Z",
     "iopub.status.idle": "2022-03-30T10:09:45.292930Z",
     "shell.execute_reply": "2022-03-30T10:09:45.292511Z"
    },
    "papermill": {
     "duration": 0.050006,
     "end_time": "2022-03-30T10:09:45.293040",
     "exception": false,
     "start_time": "2022-03-30T10:09:45.243034",
     "status": "completed"
    },
    "tags": []
   },
   "outputs": [],
   "source": [
    "#Impoting functions from 'Kudzu'\n",
    "from kudzu.model import Model\n",
    "from kudzu.train import Learner\n",
    "from kudzu.optim import GD\n",
    "from kudzu.data import Data, Sampler,Dataloader\n",
    "\n",
    "from kudzu.callbacks import AccCallback\n",
    "from kudzu.callbacks import ClfCallback\n",
    "\n",
    "from kudzu.loss import MSE\n",
    "\n",
    "from kudzu.layer import Sigmoid,Relu\n",
    "from kudzu.layer import Affine"
   ]
  },
  {
   "cell_type": "markdown",
   "id": "bc01172a",
   "metadata": {
    "papermill": {
     "duration": 0.027139,
     "end_time": "2022-03-30T10:09:45.347505",
     "exception": false,
     "start_time": "2022-03-30T10:09:45.320366",
     "status": "completed"
    },
    "tags": []
   },
   "source": [
    "### Let us create a `Config` class, to store important parameters. \n",
    "This class essentially plays the role of a dictionary."
   ]
  },
  {
   "cell_type": "code",
   "execution_count": 16,
   "id": "978281aa",
   "metadata": {
    "execution": {
     "iopub.execute_input": "2022-03-30T10:09:45.405235Z",
     "iopub.status.busy": "2022-03-30T10:09:45.404726Z",
     "iopub.status.idle": "2022-03-30T10:09:45.417379Z",
     "shell.execute_reply": "2022-03-30T10:09:45.416963Z"
    },
    "papermill": {
     "duration": 0.043034,
     "end_time": "2022-03-30T10:09:45.417488",
     "exception": false,
     "start_time": "2022-03-30T10:09:45.374454",
     "status": "completed"
    },
    "tags": []
   },
   "outputs": [],
   "source": [
    "class Config:\n",
    "    pass\n",
    "config = Config()\n",
    "config.lr = 0.001\n",
    "config.num_epochs = 250\n",
    "config.bs = 50"
   ]
  },
  {
   "cell_type": "markdown",
   "id": "1385fa59",
   "metadata": {
    "papermill": {
     "duration": 0.027108,
     "end_time": "2022-03-30T10:09:45.471721",
     "exception": false,
     "start_time": "2022-03-30T10:09:45.444613",
     "status": "completed"
    },
    "tags": []
   },
   "source": [
    "### Running Models with the Training data\n",
    "Details about the network layers:\n",
    "- A first affine layer has 784 inputs and does 100 affine transforms. These are followed by a Relu\n",
    "- A second affine layer has 100 inputs from the 100 activations of the past layer, and does 100 affine transforms. These are followed by a Relu\n",
    "- A third affine layer has 100 activations and does 2 affine transformations to create an embedding for visualization. There is no non-linearity here.\n",
    "- A final \"logistic regression\" which has an affine transform from 2 inputs to 1 output, which is squeezed through a sigmoid.\n"
   ]
  },
  {
   "cell_type": "code",
   "execution_count": 17,
   "id": "2b9c66db",
   "metadata": {
    "execution": {
     "iopub.execute_input": "2022-03-30T10:09:45.529899Z",
     "iopub.status.busy": "2022-03-30T10:09:45.529376Z",
     "iopub.status.idle": "2022-03-30T10:09:45.542397Z",
     "shell.execute_reply": "2022-03-30T10:09:45.541987Z"
    },
    "papermill": {
     "duration": 0.043709,
     "end_time": "2022-03-30T10:09:45.542503",
     "exception": false,
     "start_time": "2022-03-30T10:09:45.498794",
     "status": "completed"
    },
    "tags": []
   },
   "outputs": [],
   "source": [
    "data = Data(X_train, y_train.reshape(-1,1))\n",
    "sampler = Sampler(data, config.bs, shuffle=True)\n",
    "\n",
    "dl = Dataloader(data, sampler)\n",
    "\n",
    "opt = GD(config.lr)\n",
    "loss = MSE()"
   ]
  },
  {
   "cell_type": "code",
   "execution_count": 18,
   "id": "b275e4c2",
   "metadata": {
    "execution": {
     "iopub.execute_input": "2022-03-30T10:09:45.602515Z",
     "iopub.status.busy": "2022-03-30T10:09:45.602012Z",
     "iopub.status.idle": "2022-03-30T10:09:45.613084Z",
     "shell.execute_reply": "2022-03-30T10:09:45.613467Z"
    },
    "papermill": {
     "duration": 0.043941,
     "end_time": "2022-03-30T10:09:45.613590",
     "exception": false,
     "start_time": "2022-03-30T10:09:45.569649",
     "status": "completed"
    },
    "tags": []
   },
   "outputs": [],
   "source": [
    "training_data_x = X_train\n",
    "testing_data_x = X_test\n",
    "training_data_y = y_train.reshape(-1,1)\n",
    "testing_data_y = y_test.reshape(-1,1)"
   ]
  },
  {
   "cell_type": "code",
   "execution_count": 19,
   "id": "76951160",
   "metadata": {
    "execution": {
     "iopub.execute_input": "2022-03-30T10:09:45.671581Z",
     "iopub.status.busy": "2022-03-30T10:09:45.671037Z",
     "iopub.status.idle": "2022-03-30T10:09:45.686652Z",
     "shell.execute_reply": "2022-03-30T10:09:45.687033Z"
    },
    "papermill": {
     "duration": 0.046587,
     "end_time": "2022-03-30T10:09:45.687153",
     "exception": false,
     "start_time": "2022-03-30T10:09:45.640566",
     "status": "completed"
    },
    "tags": []
   },
   "outputs": [
    {
     "name": "stdout",
     "output_type": "stream",
     "text": [
      "xavier\n",
      "xavier\n",
      "xavier\n",
      "xavier\n",
      "xavier\n"
     ]
    }
   ],
   "source": [
    "layers = [Affine(\"first\", 784, 100), Relu(\"first\"), Affine(\"second\", 100, 100), Relu(\"second\"), Affine(\"third\", 100, 2), Affine(\"last\", 2, 1), Sigmoid(\"last\")]\n",
    "model_nn = Model(layers)\n",
    "model_lr = Model([Affine(\"logits\", 784, 1), Sigmoid(\"sigmoid\")])"
   ]
  },
  {
   "cell_type": "code",
   "execution_count": 20,
   "id": "6eede77a",
   "metadata": {
    "execution": {
     "iopub.execute_input": "2022-03-30T10:09:45.754538Z",
     "iopub.status.busy": "2022-03-30T10:09:45.749862Z",
     "iopub.status.idle": "2022-03-30T10:09:45.760906Z",
     "shell.execute_reply": "2022-03-30T10:09:45.760484Z"
    },
    "papermill": {
     "duration": 0.046549,
     "end_time": "2022-03-30T10:09:45.761019",
     "exception": false,
     "start_time": "2022-03-30T10:09:45.714470",
     "status": "completed"
    },
    "tags": []
   },
   "outputs": [],
   "source": [
    "nn_learner = Learner(loss, model_nn, opt, config.num_epochs)\n",
    "acc_nn = ClfCallback(nn_learner, config.bs, training_data_x , testing_data_x, training_data_y, testing_data_y)\n",
    "nn_learner.set_callbacks([acc_nn])"
   ]
  },
  {
   "cell_type": "code",
   "execution_count": 21,
   "id": "877b6cc7",
   "metadata": {
    "execution": {
     "iopub.execute_input": "2022-03-30T10:09:45.821134Z",
     "iopub.status.busy": "2022-03-30T10:09:45.820622Z",
     "iopub.status.idle": "2022-03-30T10:09:45.833074Z",
     "shell.execute_reply": "2022-03-30T10:09:45.832665Z"
    },
    "papermill": {
     "duration": 0.044529,
     "end_time": "2022-03-30T10:09:45.833181",
     "exception": false,
     "start_time": "2022-03-30T10:09:45.788652",
     "status": "completed"
    },
    "tags": []
   },
   "outputs": [],
   "source": [
    "lr_learner = Learner(loss, model_lr, opt, config.num_epochs)\n",
    "acc_lr = ClfCallback(lr_learner, config.bs, training_data_x , testing_data_x, training_data_y, testing_data_y)\n",
    "lr_learner.set_callbacks([acc_lr])"
   ]
  },
  {
   "cell_type": "code",
   "execution_count": 22,
   "id": "d9b133c3",
   "metadata": {
    "execution": {
     "iopub.execute_input": "2022-03-30T10:09:45.891073Z",
     "iopub.status.busy": "2022-03-30T10:09:45.890573Z",
     "iopub.status.idle": "2022-03-30T10:11:02.891862Z",
     "shell.execute_reply": "2022-03-30T10:11:02.892611Z"
    },
    "papermill": {
     "duration": 77.032208,
     "end_time": "2022-03-30T10:11:02.892766",
     "exception": false,
     "start_time": "2022-03-30T10:09:45.860558",
     "status": "completed"
    },
    "tags": []
   },
   "outputs": [
    {
     "name": "stdout",
     "output_type": "stream",
     "text": [
      "Epoch 0, Loss 0.2416\n",
      "Training Accuracy: 0.6743, Testing Accuracy: 0.6809\n",
      "\n"
     ]
    },
    {
     "name": "stdout",
     "output_type": "stream",
     "text": [
      "Epoch 10, Loss 0.1177\n",
      "Training Accuracy: 0.9069, Testing Accuracy: 0.9183\n",
      "\n"
     ]
    },
    {
     "name": "stdout",
     "output_type": "stream",
     "text": [
      "Epoch 20, Loss 0.0652\n",
      "Training Accuracy: 0.9335, Testing Accuracy: 0.9461\n",
      "\n"
     ]
    },
    {
     "name": "stdout",
     "output_type": "stream",
     "text": [
      "Epoch 30, Loss 0.0491\n",
      "Training Accuracy: 0.9455, Testing Accuracy: 0.9572\n",
      "\n"
     ]
    },
    {
     "name": "stdout",
     "output_type": "stream",
     "text": [
      "Epoch 40, Loss 0.0415\n",
      "Training Accuracy: 0.9519, Testing Accuracy: 0.9617\n",
      "\n"
     ]
    },
    {
     "name": "stdout",
     "output_type": "stream",
     "text": [
      "Epoch 50, Loss 0.0371\n",
      "Training Accuracy: 0.9559, Testing Accuracy: 0.9632\n",
      "\n"
     ]
    },
    {
     "name": "stdout",
     "output_type": "stream",
     "text": [
      "Epoch 60, Loss 0.0342\n",
      "Training Accuracy: 0.9594, Testing Accuracy: 0.9657\n",
      "\n"
     ]
    },
    {
     "name": "stdout",
     "output_type": "stream",
     "text": [
      "Epoch 70, Loss 0.032\n",
      "Training Accuracy: 0.9622, Testing Accuracy: 0.9662\n",
      "\n"
     ]
    },
    {
     "name": "stdout",
     "output_type": "stream",
     "text": [
      "Epoch 80, Loss 0.0303\n",
      "Training Accuracy: 0.9642, Testing Accuracy: 0.9677\n",
      "\n"
     ]
    },
    {
     "name": "stdout",
     "output_type": "stream",
     "text": [
      "Epoch 90, Loss 0.0289\n",
      "Training Accuracy: 0.9669, Testing Accuracy: 0.9677\n",
      "\n"
     ]
    },
    {
     "name": "stdout",
     "output_type": "stream",
     "text": [
      "Epoch 100, Loss 0.0277\n",
      "Training Accuracy: 0.9687, Testing Accuracy: 0.9688\n",
      "\n"
     ]
    },
    {
     "name": "stdout",
     "output_type": "stream",
     "text": [
      "Epoch 110, Loss 0.0267\n",
      "Training Accuracy: 0.9695, Testing Accuracy: 0.9698\n",
      "\n"
     ]
    },
    {
     "name": "stdout",
     "output_type": "stream",
     "text": [
      "Epoch 120, Loss 0.0259\n",
      "Training Accuracy: 0.9706, Testing Accuracy: 0.9703\n",
      "\n"
     ]
    },
    {
     "name": "stdout",
     "output_type": "stream",
     "text": [
      "Epoch 130, Loss 0.0251\n",
      "Training Accuracy: 0.9717, Testing Accuracy: 0.9703\n",
      "\n"
     ]
    },
    {
     "name": "stdout",
     "output_type": "stream",
     "text": [
      "Epoch 140, Loss 0.0243\n",
      "Training Accuracy: 0.9730, Testing Accuracy: 0.9703\n",
      "\n"
     ]
    },
    {
     "name": "stdout",
     "output_type": "stream",
     "text": [
      "Epoch 150, Loss 0.0237\n",
      "Training Accuracy: 0.9734, Testing Accuracy: 0.9708\n",
      "\n"
     ]
    },
    {
     "name": "stdout",
     "output_type": "stream",
     "text": [
      "Epoch 160, Loss 0.0231\n",
      "Training Accuracy: 0.9739, Testing Accuracy: 0.9723\n",
      "\n"
     ]
    },
    {
     "name": "stdout",
     "output_type": "stream",
     "text": [
      "Epoch 170, Loss 0.0225\n",
      "Training Accuracy: 0.9751, Testing Accuracy: 0.9728\n",
      "\n"
     ]
    },
    {
     "name": "stdout",
     "output_type": "stream",
     "text": [
      "Epoch 180, Loss 0.022\n",
      "Training Accuracy: 0.9756, Testing Accuracy: 0.9723\n",
      "\n"
     ]
    },
    {
     "name": "stdout",
     "output_type": "stream",
     "text": [
      "Epoch 190, Loss 0.0216\n",
      "Training Accuracy: 0.9760, Testing Accuracy: 0.9723\n",
      "\n"
     ]
    },
    {
     "name": "stdout",
     "output_type": "stream",
     "text": [
      "Epoch 200, Loss 0.0211\n",
      "Training Accuracy: 0.9764, Testing Accuracy: 0.9723\n",
      "\n"
     ]
    },
    {
     "name": "stdout",
     "output_type": "stream",
     "text": [
      "Epoch 210, Loss 0.0207\n",
      "Training Accuracy: 0.9769, Testing Accuracy: 0.9733\n",
      "\n"
     ]
    },
    {
     "name": "stdout",
     "output_type": "stream",
     "text": [
      "Epoch 220, Loss 0.0203\n",
      "Training Accuracy: 0.9774, Testing Accuracy: 0.9728\n",
      "\n"
     ]
    },
    {
     "name": "stdout",
     "output_type": "stream",
     "text": [
      "Epoch 230, Loss 0.0199\n",
      "Training Accuracy: 0.9779, Testing Accuracy: 0.9733\n",
      "\n"
     ]
    },
    {
     "name": "stdout",
     "output_type": "stream",
     "text": [
      "Epoch 240, Loss 0.0196\n",
      "Training Accuracy: 0.9783, Testing Accuracy: 0.9733\n",
      "\n"
     ]
    },
    {
     "data": {
      "text/plain": [
       "0.006654056258732688"
      ]
     },
     "execution_count": 22,
     "metadata": {},
     "output_type": "execute_result"
    }
   ],
   "source": [
    "nn_learner.train_loop(dl)"
   ]
  },
  {
   "cell_type": "code",
   "execution_count": 23,
   "id": "e0163366",
   "metadata": {
    "execution": {
     "iopub.execute_input": "2022-03-30T10:11:02.975231Z",
     "iopub.status.busy": "2022-03-30T10:11:02.974721Z",
     "iopub.status.idle": "2022-03-30T10:11:16.911331Z",
     "shell.execute_reply": "2022-03-30T10:11:16.912085Z"
    },
    "papermill": {
     "duration": 13.984209,
     "end_time": "2022-03-30T10:11:16.912242",
     "exception": false,
     "start_time": "2022-03-30T10:11:02.928033",
     "status": "completed"
    },
    "tags": []
   },
   "outputs": [
    {
     "name": "stdout",
     "output_type": "stream",
     "text": [
      "Epoch 0, Loss 0.2554\n",
      "Training Accuracy: 0.6418, Testing Accuracy: 0.6547\n",
      "\n"
     ]
    },
    {
     "name": "stdout",
     "output_type": "stream",
     "text": [
      "Epoch 10, Loss 0.1034\n",
      "Training Accuracy: 0.9128, Testing Accuracy: 0.9249\n",
      "\n"
     ]
    },
    {
     "name": "stdout",
     "output_type": "stream",
     "text": [
      "Epoch 20, Loss 0.079\n",
      "Training Accuracy: 0.9323, Testing Accuracy: 0.9410\n",
      "\n"
     ]
    },
    {
     "name": "stdout",
     "output_type": "stream",
     "text": [
      "Epoch 30, Loss 0.068\n",
      "Training Accuracy: 0.9392, Testing Accuracy: 0.9506\n",
      "\n"
     ]
    },
    {
     "name": "stdout",
     "output_type": "stream",
     "text": [
      "Epoch 40, Loss 0.0615\n",
      "Training Accuracy: 0.9428, Testing Accuracy: 0.9551\n",
      "\n"
     ]
    },
    {
     "name": "stdout",
     "output_type": "stream",
     "text": [
      "Epoch 50, Loss 0.057\n",
      "Training Accuracy: 0.9466, Testing Accuracy: 0.9551\n",
      "\n"
     ]
    },
    {
     "name": "stdout",
     "output_type": "stream",
     "text": [
      "Epoch 60, Loss 0.0537\n",
      "Training Accuracy: 0.9481, Testing Accuracy: 0.9582\n",
      "\n"
     ]
    },
    {
     "name": "stdout",
     "output_type": "stream",
     "text": [
      "Epoch 70, Loss 0.0512\n",
      "Training Accuracy: 0.9493, Testing Accuracy: 0.9602\n",
      "\n"
     ]
    },
    {
     "name": "stdout",
     "output_type": "stream",
     "text": [
      "Epoch 80, Loss 0.0492\n",
      "Training Accuracy: 0.9508, Testing Accuracy: 0.9612\n",
      "\n"
     ]
    },
    {
     "name": "stdout",
     "output_type": "stream",
     "text": [
      "Epoch 90, Loss 0.0475\n",
      "Training Accuracy: 0.9525, Testing Accuracy: 0.9617\n",
      "\n"
     ]
    },
    {
     "name": "stdout",
     "output_type": "stream",
     "text": [
      "Epoch 100, Loss 0.0461\n",
      "Training Accuracy: 0.9535, Testing Accuracy: 0.9617\n",
      "\n"
     ]
    },
    {
     "name": "stdout",
     "output_type": "stream",
     "text": [
      "Epoch 110, Loss 0.0449\n",
      "Training Accuracy: 0.9546, Testing Accuracy: 0.9622\n",
      "\n"
     ]
    },
    {
     "name": "stdout",
     "output_type": "stream",
     "text": [
      "Epoch 120, Loss 0.0439\n",
      "Training Accuracy: 0.9550, Testing Accuracy: 0.9622\n",
      "\n"
     ]
    },
    {
     "name": "stdout",
     "output_type": "stream",
     "text": [
      "Epoch 130, Loss 0.0429\n",
      "Training Accuracy: 0.9559, Testing Accuracy: 0.9632\n",
      "\n"
     ]
    },
    {
     "name": "stdout",
     "output_type": "stream",
     "text": [
      "Epoch 140, Loss 0.0421\n",
      "Training Accuracy: 0.9563, Testing Accuracy: 0.9637\n",
      "\n"
     ]
    },
    {
     "name": "stdout",
     "output_type": "stream",
     "text": [
      "Epoch 150, Loss 0.0414\n",
      "Training Accuracy: 0.9567, Testing Accuracy: 0.9652\n",
      "\n"
     ]
    },
    {
     "name": "stdout",
     "output_type": "stream",
     "text": [
      "Epoch 160, Loss 0.0407\n",
      "Training Accuracy: 0.9572, Testing Accuracy: 0.9662\n",
      "\n"
     ]
    },
    {
     "name": "stdout",
     "output_type": "stream",
     "text": [
      "Epoch 170, Loss 0.0401\n",
      "Training Accuracy: 0.9578, Testing Accuracy: 0.9662\n",
      "\n"
     ]
    },
    {
     "name": "stdout",
     "output_type": "stream",
     "text": [
      "Epoch 180, Loss 0.0396\n",
      "Training Accuracy: 0.9583, Testing Accuracy: 0.9662\n",
      "\n"
     ]
    },
    {
     "name": "stdout",
     "output_type": "stream",
     "text": [
      "Epoch 190, Loss 0.039\n",
      "Training Accuracy: 0.9585, Testing Accuracy: 0.9667\n",
      "\n"
     ]
    },
    {
     "name": "stdout",
     "output_type": "stream",
     "text": [
      "Epoch 200, Loss 0.0386\n",
      "Training Accuracy: 0.9588, Testing Accuracy: 0.9672\n",
      "\n"
     ]
    },
    {
     "name": "stdout",
     "output_type": "stream",
     "text": [
      "Epoch 210, Loss 0.0381\n",
      "Training Accuracy: 0.9589, Testing Accuracy: 0.9677\n",
      "\n"
     ]
    },
    {
     "name": "stdout",
     "output_type": "stream",
     "text": [
      "Epoch 220, Loss 0.0377\n",
      "Training Accuracy: 0.9591, Testing Accuracy: 0.9677\n",
      "\n"
     ]
    },
    {
     "name": "stdout",
     "output_type": "stream",
     "text": [
      "Epoch 230, Loss 0.0373\n",
      "Training Accuracy: 0.9596, Testing Accuracy: 0.9682\n",
      "\n"
     ]
    },
    {
     "name": "stdout",
     "output_type": "stream",
     "text": [
      "Epoch 240, Loss 0.037\n",
      "Training Accuracy: 0.9597, Testing Accuracy: 0.9693\n",
      "\n"
     ]
    },
    {
     "data": {
      "text/plain": [
       "0.030338222600797837"
      ]
     },
     "execution_count": 23,
     "metadata": {},
     "output_type": "execute_result"
    }
   ],
   "source": [
    "lr_learner.train_loop(dl)"
   ]
  },
  {
   "cell_type": "code",
   "execution_count": 24,
   "id": "ca410940",
   "metadata": {
    "execution": {
     "iopub.execute_input": "2022-03-30T10:11:17.004914Z",
     "iopub.status.busy": "2022-03-30T10:11:17.004360Z",
     "iopub.status.idle": "2022-03-30T10:11:17.233983Z",
     "shell.execute_reply": "2022-03-30T10:11:17.234446Z"
    },
    "papermill": {
     "duration": 0.280192,
     "end_time": "2022-03-30T10:11:17.234590",
     "exception": false,
     "start_time": "2022-03-30T10:11:16.954398",
     "status": "completed"
    },
    "tags": []
   },
   "outputs": [
    {
     "data": {
      "text/plain": [
       "<matplotlib.legend.Legend at 0x7f6b44dddd68>"
      ]
     },
     "execution_count": 24,
     "metadata": {},
     "output_type": "execute_result"
    },
    {
     "data": {
      "image/png": "[encoded data removed]",
      "text/plain": [
       "<Figure size 1080x720 with 1 Axes>"
      ]
     },
     "metadata": {
      "needs_background": "light"
     },
     "output_type": "display_data"
    }
   ],
   "source": [
    "#comparing the results of NN and LR\n",
    "plt.figure(figsize=(15,10))\n",
    "\n",
    "# Neural Network plots\n",
    "plt.plot(acc_nn.accuracies, 'r-', label = \"Training Accuracies - NN\")\n",
    "plt.plot(acc_nn.test_accuracies, 'g-', label = \"Testing Accuracies - NN\")\n",
    "\n",
    "# Logistic Regression plots\n",
    "plt.plot(acc_lr.accuracies, 'k-', label = \"Training Accuracies - LR\")\n",
    "plt.plot(acc_lr.test_accuracies, 'b-', label = \"Testing Accuracies - LR\")\n",
    "plt.legend()"
   ]
  },
  {
   "cell_type": "markdown",
   "id": "80dfb35c",
   "metadata": {
    "papermill": {
     "duration": 0.042294,
     "end_time": "2022-03-30T10:11:17.319588",
     "exception": false,
     "start_time": "2022-03-30T10:11:17.277294",
     "status": "completed"
    },
    "tags": []
   },
   "source": [
    "#### Plotting the outputs of this layer of the NN.\n"
   ]
  },
  {
   "cell_type": "code",
   "execution_count": 25,
   "id": "45eb2ff5",
   "metadata": {
    "execution": {
     "iopub.execute_input": "2022-03-30T10:11:17.411483Z",
     "iopub.status.busy": "2022-03-30T10:11:17.410591Z",
     "iopub.status.idle": "2022-03-30T10:11:17.428965Z",
     "shell.execute_reply": "2022-03-30T10:11:17.429389Z"
    },
    "papermill": {
     "duration": 0.067597,
     "end_time": "2022-03-30T10:11:17.429529",
     "exception": false,
     "start_time": "2022-03-30T10:11:17.361932",
     "status": "completed"
    },
    "tags": []
   },
   "outputs": [],
   "source": [
    "new_model = Model(layers[:-2])\n",
    "testing_plot = new_model(testing_data_x)"
   ]
  },
  {
   "cell_type": "code",
   "execution_count": 26,
   "id": "4c0a5485",
   "metadata": {
    "execution": {
     "iopub.execute_input": "2022-03-30T10:11:17.528048Z",
     "iopub.status.busy": "2022-03-30T10:11:17.519304Z",
     "iopub.status.idle": "2022-03-30T10:11:17.742176Z",
     "shell.execute_reply": "2022-03-30T10:11:17.742595Z"
    },
    "papermill": {
     "duration": 0.27042,
     "end_time": "2022-03-30T10:11:17.742737",
     "exception": false,
     "start_time": "2022-03-30T10:11:17.472317",
     "status": "completed"
    },
    "tags": []
   },
   "outputs": [
    {
     "data": {
      "text/plain": [
       "Text(0.5, 1.0, 'Outputs')"
      ]
     },
     "execution_count": 26,
     "metadata": {},
     "output_type": "execute_result"
    },
    {
     "data": {
      "image/png": "[encoded data removed]",
      "text/plain": [
       "<Figure size 576x504 with 1 Axes>"
      ]
     },
     "metadata": {
      "needs_background": "light"
     },
     "output_type": "display_data"
    }
   ],
   "source": [
    "# Plotting the scatter plot of points and color coding by class\n",
    "plt.figure(figsize=(8,7))\n",
    "plt.scatter(testing_plot[:,0], testing_plot[:,1], alpha = 0.1, c = y_test.ravel());\n",
    "plt.title('Outputs')"
   ]
  },
  {
   "cell_type": "markdown",
   "id": "a74fcf8f",
   "metadata": {
    "papermill": {
     "duration": 0.045753,
     "end_time": "2022-03-30T10:11:17.834389",
     "exception": false,
     "start_time": "2022-03-30T10:11:17.788636",
     "status": "completed"
    },
    "tags": []
   },
   "source": [
    "Probability contours"
   ]
  },
  {
   "cell_type": "code",
   "execution_count": 27,
   "id": "d0afc8e3",
   "metadata": {
    "execution": {
     "iopub.execute_input": "2022-03-30T10:11:17.936567Z",
     "iopub.status.busy": "2022-03-30T10:11:17.936038Z",
     "iopub.status.idle": "2022-03-30T10:11:17.943747Z",
     "shell.execute_reply": "2022-03-30T10:11:17.944155Z"
    },
    "papermill": {
     "duration": 0.063902,
     "end_time": "2022-03-30T10:11:17.944283",
     "exception": false,
     "start_time": "2022-03-30T10:11:17.880381",
     "status": "completed"
    },
    "tags": []
   },
   "outputs": [],
   "source": [
    "model_prob = Model(layers[-2:]) "
   ]
  },
  {
   "cell_type": "code",
   "execution_count": 28,
   "id": "9b96e238",
   "metadata": {
    "execution": {
     "iopub.execute_input": "2022-03-30T10:11:18.071198Z",
     "iopub.status.busy": "2022-03-30T10:11:18.070661Z",
     "iopub.status.idle": "2022-03-30T10:11:18.084515Z",
     "shell.execute_reply": "2022-03-30T10:11:18.084102Z"
    },
    "papermill": {
     "duration": 0.065414,
     "end_time": "2022-03-30T10:11:18.084628",
     "exception": false,
     "start_time": "2022-03-30T10:11:18.019214",
     "status": "completed"
    },
    "tags": []
   },
   "outputs": [],
   "source": [
    "#creating the x and y ranges according to the above generated plot.\n",
    "x_range = np.linspace(-4, 1, 100) \n",
    "y_range = np.linspace(-6, 6, 100) \n",
    "x_grid, y_grid = np.meshgrid(x_range, y_range) # x_grid and y_grig are of size 100 X 100\n",
    "\n",
    "# converting x_grid and y_grid to continuous arrays\n",
    "x_gridflat = np.ravel(x_grid)\n",
    "y_gridflat = np.ravel(y_grid)\n",
    "\n",
    "# The last layer of the current model takes two columns as input. Hence transpose of np.vstack() is required.\n",
    "X = np.vstack((x_gridflat, y_gridflat)).T\n",
    "\n",
    "prob_contour = model_prob(X).reshape(100,100) "
   ]
  },
  {
   "cell_type": "code",
   "execution_count": 29,
   "id": "da72499a",
   "metadata": {
    "execution": {
     "iopub.execute_input": "2022-03-30T10:11:18.185786Z",
     "iopub.status.busy": "2022-03-30T10:11:18.185274Z",
     "iopub.status.idle": "2022-03-30T10:11:18.433055Z",
     "shell.execute_reply": "2022-03-30T10:11:18.433505Z"
    },
    "papermill": {
     "duration": 0.300115,
     "end_time": "2022-03-30T10:11:18.433671",
     "exception": false,
     "start_time": "2022-03-30T10:11:18.133556",
     "status": "completed"
    },
    "tags": []
   },
   "outputs": [
    {
     "data": {
      "image/png": "[encoded data removed]",
      "text/plain": [
       "<Figure size 720x648 with 1 Axes>"
      ]
     },
     "metadata": {
      "needs_background": "light"
     },
     "output_type": "display_data"
    }
   ],
   "source": [
    "plt.figure(figsize=(10,9))\n",
    "plt.scatter(testing_plot[:,0], testing_plot[:,1], alpha = 0.1, c = y_test.ravel())\n",
    "contours = plt.contour(x_grid,y_grid,prob_contour)\n",
    "plt.title('Probability Contours')\n",
    "plt.clabel(contours, inline = True );"
   ]
  },
  {
   "cell_type": "code",
   "execution_count": null,
   "id": "e81b4ac7",
   "metadata": {
    "papermill": {
     "duration": 0.047985,
     "end_time": "2022-03-30T10:11:18.530689",
     "exception": false,
     "start_time": "2022-03-30T10:11:18.482704",
     "status": "completed"
    },
    "tags": []
   },
   "outputs": [],
   "source": []
  }
 ],
 "metadata": {
  "kernelspec": {
   "display_name": "Python 3",
   "language": "python",
   "name": "python3"
  },
  "language_info": {
   "codemirror_mode": {
    "name": "ipython",
    "version": 3
   },
   "file_extension": ".py",
   "mimetype": "text/x-python",
   "name": "python",
   "nbconvert_exporter": "python",
   "pygments_lexer": "ipython3",
   "version": "3.6.15"
  },
  "papermill": {
   "default_parameters": {},
   "duration": 99.361819,
   "end_time": "2022-03-30T10:11:18.998180",
   "environment_variables": {},
   "exception": null,
   "input_path": "2020-08-11-part2.ipynb",
   "output_path": "2020-08-11-part2.ipynb",
   "parameters": {},
   "start_time": "2022-03-30T10:09:39.636361",
   "version": "2.3.3"
  }
 },
 "nbformat": 4,
 "nbformat_minor": 5
}