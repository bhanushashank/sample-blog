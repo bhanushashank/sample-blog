{
 "cells": [
  {
   "cell_type": "markdown",
   "id": "98380cd3",
   "metadata": {
    "papermill": {
     "duration": 0.029195,
     "end_time": "2022-06-20T00:37:09.917336",
     "exception": false,
     "start_time": "2022-06-20T00:37:09.888141",
     "status": "completed"
    },
    "tags": []
   },
   "source": [
    "# Distinguish Your Own Digits (DYOD)"
   ]
  },
  {
   "cell_type": "markdown",
   "id": "ef31240d",
   "metadata": {
    "papermill": {
     "duration": 0.023803,
     "end_time": "2022-06-20T00:37:09.965406",
     "exception": false,
     "start_time": "2022-06-20T00:37:09.941603",
     "status": "completed"
    },
    "tags": []
   },
   "source": [
    "You are going to write a classifier that distinguishes between the number 3 and number 8."
   ]
  },
  {
   "cell_type": "code",
   "execution_count": 1,
   "id": "b15c8646",
   "metadata": {
    "execution": {
     "iopub.execute_input": "2022-06-20T00:37:10.024317Z",
     "iopub.status.busy": "2022-06-20T00:37:10.023683Z",
     "iopub.status.idle": "2022-06-20T00:37:10.034080Z",
     "shell.execute_reply": "2022-06-20T00:37:10.033566Z"
    },
    "papermill": {
     "duration": 0.045122,
     "end_time": "2022-06-20T00:37:10.034215",
     "exception": false,
     "start_time": "2022-06-20T00:37:09.989093",
     "status": "completed"
    },
    "tags": []
   },
   "outputs": [],
   "source": [
    "%load_ext autoreload\n",
    "%autoreload 2"
   ]
  },
  {
   "cell_type": "code",
   "execution_count": 2,
   "id": "22ef38dc",
   "metadata": {
    "execution": {
     "iopub.execute_input": "2022-06-20T00:37:10.095640Z",
     "iopub.status.busy": "2022-06-20T00:37:10.093854Z",
     "iopub.status.idle": "2022-06-20T00:37:10.582615Z",
     "shell.execute_reply": "2022-06-20T00:37:10.582031Z"
    },
    "papermill": {
     "duration": 0.524675,
     "end_time": "2022-06-20T00:37:10.582768",
     "exception": false,
     "start_time": "2022-06-20T00:37:10.058093",
     "status": "completed"
    },
    "tags": []
   },
   "outputs": [],
   "source": [
    "%matplotlib inline\n",
    "import numpy as np\n",
    "import matplotlib.pyplot as plt\n",
    "import pandas as pd"
   ]
  },
  {
   "cell_type": "markdown",
   "id": "ba036198",
   "metadata": {
    "papermill": {
     "duration": 0.023994,
     "end_time": "2022-06-20T00:37:10.630552",
     "exception": false,
     "start_time": "2022-06-20T00:37:10.606558",
     "status": "completed"
    },
    "tags": []
   },
   "source": [
    "From the command line run `pip install mnist`. This is a library that will help you bring down the mnist dataset. If you run this from a notebook, you need to put  `!pip install mnist` in a cell by itself."
   ]
  },
  {
   "cell_type": "code",
   "execution_count": 3,
   "id": "bb6ad8a1",
   "metadata": {
    "execution": {
     "iopub.execute_input": "2022-06-20T00:37:10.682701Z",
     "iopub.status.busy": "2022-06-20T00:37:10.682077Z",
     "iopub.status.idle": "2022-06-20T00:37:12.336408Z",
     "shell.execute_reply": "2022-06-20T00:37:12.335777Z"
    },
    "papermill": {
     "duration": 1.682232,
     "end_time": "2022-06-20T00:37:12.336558",
     "exception": false,
     "start_time": "2022-06-20T00:37:10.654326",
     "status": "completed"
    },
    "tags": []
   },
   "outputs": [
    {
     "name": "stdout",
     "output_type": "stream",
     "text": [
      "Collecting mnist\r\n"
     ]
    },
    {
     "name": "stdout",
     "output_type": "stream",
     "text": [
      "  Downloading mnist-0.2.2-py2.py3-none-any.whl (3.5 kB)\r\n",
      "Requirement already satisfied: numpy in /opt/hostedtoolcache/Python/3.6.15/x64/lib/python3.6/site-packages (from mnist) (1.19.5)\r\n"
     ]
    },
    {
     "name": "stdout",
     "output_type": "stream",
     "text": [
      "Installing collected packages: mnist\r\n",
      "Successfully installed mnist-0.2.2\r\n"
     ]
    }
   ],
   "source": [
    "!pip install mnist"
   ]
  },
  {
   "cell_type": "markdown",
   "id": "69df9c9a",
   "metadata": {
    "papermill": {
     "duration": 0.02465,
     "end_time": "2022-06-20T00:37:12.386083",
     "exception": false,
     "start_time": "2022-06-20T00:37:12.361433",
     "status": "completed"
    },
    "tags": []
   },
   "source": [
    "## Preparing the Data"
   ]
  },
  {
   "cell_type": "code",
   "execution_count": 4,
   "id": "7f69d806",
   "metadata": {
    "execution": {
     "iopub.execute_input": "2022-06-20T00:37:12.441550Z",
     "iopub.status.busy": "2022-06-20T00:37:12.440962Z",
     "iopub.status.idle": "2022-06-20T00:37:12.453449Z",
     "shell.execute_reply": "2022-06-20T00:37:12.452957Z"
    },
    "papermill": {
     "duration": 0.043097,
     "end_time": "2022-06-20T00:37:12.453567",
     "exception": false,
     "start_time": "2022-06-20T00:37:12.410470",
     "status": "completed"
    },
    "tags": []
   },
   "outputs": [],
   "source": [
    "import mnist"
   ]
  },
  {
   "cell_type": "code",
   "execution_count": 5,
   "id": "a411e44f",
   "metadata": {
    "execution": {
     "iopub.execute_input": "2022-06-20T00:37:12.507660Z",
     "iopub.status.busy": "2022-06-20T00:37:12.507067Z",
     "iopub.status.idle": "2022-06-20T00:37:13.197551Z",
     "shell.execute_reply": "2022-06-20T00:37:13.196917Z"
    },
    "papermill": {
     "duration": 0.719615,
     "end_time": "2022-06-20T00:37:13.197696",
     "exception": false,
     "start_time": "2022-06-20T00:37:12.478081",
     "status": "completed"
    },
    "tags": []
   },
   "outputs": [],
   "source": [
    "train_images = mnist.train_images()\n",
    "train_labels = mnist.train_labels()"
   ]
  },
  {
   "cell_type": "code",
   "execution_count": 6,
   "id": "dceab3a5",
   "metadata": {
    "execution": {
     "iopub.execute_input": "2022-06-20T00:37:13.257369Z",
     "iopub.status.busy": "2022-06-20T00:37:13.256761Z",
     "iopub.status.idle": "2022-06-20T00:37:13.268040Z",
     "shell.execute_reply": "2022-06-20T00:37:13.267556Z"
    },
    "papermill": {
     "duration": 0.044525,
     "end_time": "2022-06-20T00:37:13.268155",
     "exception": false,
     "start_time": "2022-06-20T00:37:13.223630",
     "status": "completed"
    },
    "tags": []
   },
   "outputs": [
    {
     "data": {
      "text/plain": [
       "((60000, 28, 28), (60000,))"
      ]
     },
     "execution_count": 6,
     "metadata": {},
     "output_type": "execute_result"
    }
   ],
   "source": [
    "train_images.shape, train_labels.shape"
   ]
  },
  {
   "cell_type": "code",
   "execution_count": 7,
   "id": "f50dc2bb",
   "metadata": {
    "execution": {
     "iopub.execute_input": "2022-06-20T00:37:13.333468Z",
     "iopub.status.busy": "2022-06-20T00:37:13.331324Z",
     "iopub.status.idle": "2022-06-20T00:37:13.657094Z",
     "shell.execute_reply": "2022-06-20T00:37:13.656497Z"
    },
    "papermill": {
     "duration": 0.364478,
     "end_time": "2022-06-20T00:37:13.657248",
     "exception": false,
     "start_time": "2022-06-20T00:37:13.292770",
     "status": "completed"
    },
    "tags": []
   },
   "outputs": [],
   "source": [
    "test_images = mnist.test_images()\n",
    "test_labels = mnist.test_labels()"
   ]
  },
  {
   "cell_type": "code",
   "execution_count": 8,
   "id": "fc38cf1b",
   "metadata": {
    "execution": {
     "iopub.execute_input": "2022-06-20T00:37:13.716920Z",
     "iopub.status.busy": "2022-06-20T00:37:13.716313Z",
     "iopub.status.idle": "2022-06-20T00:37:13.726173Z",
     "shell.execute_reply": "2022-06-20T00:37:13.725578Z"
    },
    "papermill": {
     "duration": 0.043432,
     "end_time": "2022-06-20T00:37:13.726287",
     "exception": false,
     "start_time": "2022-06-20T00:37:13.682855",
     "status": "completed"
    },
    "tags": []
   },
   "outputs": [
    {
     "data": {
      "text/plain": [
       "((10000, 28, 28), (10000,))"
      ]
     },
     "execution_count": 8,
     "metadata": {},
     "output_type": "execute_result"
    }
   ],
   "source": [
    "test_images.shape, test_labels.shape"
   ]
  },
  {
   "cell_type": "code",
   "execution_count": 9,
   "id": "f9ed8fe0",
   "metadata": {
    "execution": {
     "iopub.execute_input": "2022-06-20T00:37:13.788812Z",
     "iopub.status.busy": "2022-06-20T00:37:13.779933Z",
     "iopub.status.idle": "2022-06-20T00:37:13.908810Z",
     "shell.execute_reply": "2022-06-20T00:37:13.908358Z"
    },
    "papermill": {
     "duration": 0.157585,
     "end_time": "2022-06-20T00:37:13.908928",
     "exception": false,
     "start_time": "2022-06-20T00:37:13.751343",
     "status": "completed"
    },
    "tags": []
   },
   "outputs": [
    {
     "name": "stdout",
     "output_type": "stream",
     "text": [
      "2\n"
     ]
    },
    {
     "data": {
      "text/plain": [
       "<matplotlib.image.AxesImage at 0x7f1cbd1f2390>"
      ]
     },
     "execution_count": 9,
     "metadata": {},
     "output_type": "execute_result"
    },
    {
     "data": {
      "image/png": "[encoded data removed]",
      "text/plain": [
       "<Figure size 432x288 with 1 Axes>"
      ]
     },
     "metadata": {
      "needs_background": "light"
     },
     "output_type": "display_data"
    }
   ],
   "source": [
    "image_index = 7776 # You may select anything up to 60,000\n",
    "print(train_labels[image_index]) \n",
    "plt.imshow(train_images[image_index], cmap='Greys')"
   ]
  },
  {
   "cell_type": "markdown",
   "id": "a8d2388d",
   "metadata": {
    "papermill": {
     "duration": 0.023099,
     "end_time": "2022-06-20T00:37:13.955266",
     "exception": false,
     "start_time": "2022-06-20T00:37:13.932167",
     "status": "completed"
    },
    "tags": []
   },
   "source": [
    "## Filter data to get 3 and 8 out"
   ]
  },
  {
   "cell_type": "code",
   "execution_count": 10,
   "id": "776f7fc7",
   "metadata": {
    "execution": {
     "iopub.execute_input": "2022-06-20T00:37:14.015102Z",
     "iopub.status.busy": "2022-06-20T00:37:14.006139Z",
     "iopub.status.idle": "2022-06-20T00:37:14.026515Z",
     "shell.execute_reply": "2022-06-20T00:37:14.026075Z"
    },
    "papermill": {
     "duration": 0.048572,
     "end_time": "2022-06-20T00:37:14.026628",
     "exception": false,
     "start_time": "2022-06-20T00:37:13.978056",
     "status": "completed"
    },
    "tags": []
   },
   "outputs": [],
   "source": [
    "train_filter = np.where((train_labels == 3 ) | (train_labels == 8))\n",
    "test_filter = np.where((test_labels == 3) | (test_labels == 8))\n",
    "X_train, y_train = train_images[train_filter], train_labels[train_filter]\n",
    "X_test, y_test = test_images[test_filter], test_labels[test_filter]"
   ]
  },
  {
   "cell_type": "markdown",
   "id": "948f0b7e",
   "metadata": {
    "papermill": {
     "duration": 0.023107,
     "end_time": "2022-06-20T00:37:14.072858",
     "exception": false,
     "start_time": "2022-06-20T00:37:14.049751",
     "status": "completed"
    },
    "tags": []
   },
   "source": [
    "We normalize the pizel values in the 0 to 1 range"
   ]
  },
  {
   "cell_type": "code",
   "execution_count": 11,
   "id": "ee4c2166",
   "metadata": {
    "execution": {
     "iopub.execute_input": "2022-06-20T00:37:14.122553Z",
     "iopub.status.busy": "2022-06-20T00:37:14.121992Z",
     "iopub.status.idle": "2022-06-20T00:37:14.172087Z",
     "shell.execute_reply": "2022-06-20T00:37:14.171550Z"
    },
    "papermill": {
     "duration": 0.076502,
     "end_time": "2022-06-20T00:37:14.172213",
     "exception": false,
     "start_time": "2022-06-20T00:37:14.095711",
     "status": "completed"
    },
    "tags": []
   },
   "outputs": [],
   "source": [
    "X_train = X_train/255.\n",
    "X_test = X_test/255."
   ]
  },
  {
   "cell_type": "markdown",
   "id": "ddcf4fab",
   "metadata": {
    "papermill": {
     "duration": 0.022966,
     "end_time": "2022-06-20T00:37:14.219737",
     "exception": false,
     "start_time": "2022-06-20T00:37:14.196771",
     "status": "completed"
    },
    "tags": []
   },
   "source": [
    "And setup the labels as 1 (when the digit is 3) and 0 (when the digit is 8)"
   ]
  },
  {
   "cell_type": "code",
   "execution_count": 12,
   "id": "7dc908f2",
   "metadata": {
    "execution": {
     "iopub.execute_input": "2022-06-20T00:37:14.269700Z",
     "iopub.status.busy": "2022-06-20T00:37:14.269180Z",
     "iopub.status.idle": "2022-06-20T00:37:14.282021Z",
     "shell.execute_reply": "2022-06-20T00:37:14.281506Z"
    },
    "papermill": {
     "duration": 0.039003,
     "end_time": "2022-06-20T00:37:14.282124",
     "exception": false,
     "start_time": "2022-06-20T00:37:14.243121",
     "status": "completed"
    },
    "tags": []
   },
   "outputs": [],
   "source": [
    "y_train = 1*(y_train==3)\n",
    "y_test = 1*(y_test==3)"
   ]
  },
  {
   "cell_type": "code",
   "execution_count": 13,
   "id": "01e4e969",
   "metadata": {
    "execution": {
     "iopub.execute_input": "2022-06-20T00:37:14.331990Z",
     "iopub.status.busy": "2022-06-20T00:37:14.331468Z",
     "iopub.status.idle": "2022-06-20T00:37:14.345052Z",
     "shell.execute_reply": "2022-06-20T00:37:14.345456Z"
    },
    "papermill": {
     "duration": 0.040617,
     "end_time": "2022-06-20T00:37:14.345575",
     "exception": false,
     "start_time": "2022-06-20T00:37:14.304958",
     "status": "completed"
    },
    "tags": []
   },
   "outputs": [
    {
     "data": {
      "text/plain": [
       "((11982, 28, 28), (1984, 28, 28))"
      ]
     },
     "execution_count": 13,
     "metadata": {},
     "output_type": "execute_result"
    }
   ],
   "source": [
    "X_train.shape, X_test.shape"
   ]
  },
  {
   "cell_type": "markdown",
   "id": "5ccf3f85",
   "metadata": {
    "papermill": {
     "duration": 0.022904,
     "end_time": "2022-06-20T00:37:14.391341",
     "exception": false,
     "start_time": "2022-06-20T00:37:14.368437",
     "status": "completed"
    },
    "tags": []
   },
   "source": [
    "We reshape the data to flatten the image pixels into a set of features or co-variates:"
   ]
  },
  {
   "cell_type": "code",
   "execution_count": 14,
   "id": "5286a4a3",
   "metadata": {
    "execution": {
     "iopub.execute_input": "2022-06-20T00:37:14.441953Z",
     "iopub.status.busy": "2022-06-20T00:37:14.441413Z",
     "iopub.status.idle": "2022-06-20T00:37:14.455839Z",
     "shell.execute_reply": "2022-06-20T00:37:14.456268Z"
    },
    "papermill": {
     "duration": 0.041782,
     "end_time": "2022-06-20T00:37:14.456396",
     "exception": false,
     "start_time": "2022-06-20T00:37:14.414614",
     "status": "completed"
    },
    "tags": []
   },
   "outputs": [
    {
     "data": {
      "text/plain": [
       "((11982, 784), (1984, 784))"
      ]
     },
     "execution_count": 14,
     "metadata": {},
     "output_type": "execute_result"
    }
   ],
   "source": [
    "X_train = X_train.reshape(X_train.shape[0], -1)\n",
    "X_test = X_test.reshape(X_test.shape[0], -1)\n",
    "X_train.shape, X_test.shape"
   ]
  },
  {
   "cell_type": "code",
   "execution_count": 15,
   "id": "73c5f88a",
   "metadata": {
    "execution": {
     "iopub.execute_input": "2022-06-20T00:37:14.523337Z",
     "iopub.status.busy": "2022-06-20T00:37:14.522229Z",
     "iopub.status.idle": "2022-06-20T00:37:14.531532Z",
     "shell.execute_reply": "2022-06-20T00:37:14.531961Z"
    },
    "papermill": {
     "duration": 0.052238,
     "end_time": "2022-06-20T00:37:14.532088",
     "exception": false,
     "start_time": "2022-06-20T00:37:14.479850",
     "status": "completed"
    },
    "tags": []
   },
   "outputs": [],
   "source": [
    "#Impoting functions from 'Kudzu'\n",
    "from kudzu.model import Model\n",
    "from kudzu.train import Learner\n",
    "from kudzu.optim import GD\n",
    "from kudzu.data import Data, Sampler,Dataloader\n",
    "\n",
    "from kudzu.callbacks import AccCallback\n",
    "from kudzu.callbacks import ClfCallback\n",
    "\n",
    "from kudzu.loss import MSE\n",
    "\n",
    "from kudzu.layer import Sigmoid,Relu\n",
    "from kudzu.layer import Affine"
   ]
  },
  {
   "cell_type": "markdown",
   "id": "bc01172a",
   "metadata": {
    "papermill": {
     "duration": 0.023434,
     "end_time": "2022-06-20T00:37:14.578988",
     "exception": false,
     "start_time": "2022-06-20T00:37:14.555554",
     "status": "completed"
    },
    "tags": []
   },
   "source": [
    "### Let us create a `Config` class, to store important parameters. \n",
    "This class essentially plays the role of a dictionary."
   ]
  },
  {
   "cell_type": "code",
   "execution_count": 16,
   "id": "978281aa",
   "metadata": {
    "execution": {
     "iopub.execute_input": "2022-06-20T00:37:14.639131Z",
     "iopub.status.busy": "2022-06-20T00:37:14.634843Z",
     "iopub.status.idle": "2022-06-20T00:37:14.644052Z",
     "shell.execute_reply": "2022-06-20T00:37:14.643531Z"
    },
    "papermill": {
     "duration": 0.041915,
     "end_time": "2022-06-20T00:37:14.644157",
     "exception": false,
     "start_time": "2022-06-20T00:37:14.602242",
     "status": "completed"
    },
    "tags": []
   },
   "outputs": [],
   "source": [
    "class Config:\n",
    "    pass\n",
    "config = Config()\n",
    "config.lr = 0.001\n",
    "config.num_epochs = 250\n",
    "config.bs = 50"
   ]
  },
  {
   "cell_type": "markdown",
   "id": "1385fa59",
   "metadata": {
    "papermill": {
     "duration": 0.023261,
     "end_time": "2022-06-20T00:37:14.690836",
     "exception": false,
     "start_time": "2022-06-20T00:37:14.667575",
     "status": "completed"
    },
    "tags": []
   },
   "source": [
    "### Running Models with the Training data\n",
    "Details about the network layers:\n",
    "- A first affine layer has 784 inputs and does 100 affine transforms. These are followed by a Relu\n",
    "- A second affine layer has 100 inputs from the 100 activations of the past layer, and does 100 affine transforms. These are followed by a Relu\n",
    "- A third affine layer has 100 activations and does 2 affine transformations to create an embedding for visualization. There is no non-linearity here.\n",
    "- A final \"logistic regression\" which has an affine transform from 2 inputs to 1 output, which is squeezed through a sigmoid.\n"
   ]
  },
  {
   "cell_type": "code",
   "execution_count": 17,
   "id": "2b9c66db",
   "metadata": {
    "execution": {
     "iopub.execute_input": "2022-06-20T00:37:14.751113Z",
     "iopub.status.busy": "2022-06-20T00:37:14.741914Z",
     "iopub.status.idle": "2022-06-20T00:37:14.757707Z",
     "shell.execute_reply": "2022-06-20T00:37:14.757275Z"
    },
    "papermill": {
     "duration": 0.043586,
     "end_time": "2022-06-20T00:37:14.757814",
     "exception": false,
     "start_time": "2022-06-20T00:37:14.714228",
     "status": "completed"
    },
    "tags": []
   },
   "outputs": [],
   "source": [
    "data = Data(X_train, y_train.reshape(-1,1))\n",
    "sampler = Sampler(data, config.bs, shuffle=True)\n",
    "\n",
    "dl = Dataloader(data, sampler)\n",
    "\n",
    "opt = GD(config.lr)\n",
    "loss = MSE()"
   ]
  },
  {
   "cell_type": "code",
   "execution_count": 18,
   "id": "b275e4c2",
   "metadata": {
    "execution": {
     "iopub.execute_input": "2022-06-20T00:37:14.811859Z",
     "iopub.status.busy": "2022-06-20T00:37:14.808019Z",
     "iopub.status.idle": "2022-06-20T00:37:14.821625Z",
     "shell.execute_reply": "2022-06-20T00:37:14.822070Z"
    },
    "papermill": {
     "duration": 0.040924,
     "end_time": "2022-06-20T00:37:14.822193",
     "exception": false,
     "start_time": "2022-06-20T00:37:14.781269",
     "status": "completed"
    },
    "tags": []
   },
   "outputs": [],
   "source": [
    "training_data_x = X_train\n",
    "testing_data_x = X_test\n",
    "training_data_y = y_train.reshape(-1,1)\n",
    "testing_data_y = y_test.reshape(-1,1)"
   ]
  },
  {
   "cell_type": "code",
   "execution_count": 19,
   "id": "76951160",
   "metadata": {
    "execution": {
     "iopub.execute_input": "2022-06-20T00:37:14.883767Z",
     "iopub.status.busy": "2022-06-20T00:37:14.872306Z",
     "iopub.status.idle": "2022-06-20T00:37:14.891729Z",
     "shell.execute_reply": "2022-06-20T00:37:14.890725Z"
    },
    "papermill": {
     "duration": 0.046393,
     "end_time": "2022-06-20T00:37:14.891836",
     "exception": false,
     "start_time": "2022-06-20T00:37:14.845443",
     "status": "completed"
    },
    "tags": []
   },
   "outputs": [
    {
     "name": "stdout",
     "output_type": "stream",
     "text": [
      "xavier\n",
      "xavier\n",
      "xavier\n",
      "xavier\n",
      "xavier\n"
     ]
    }
   ],
   "source": [
    "layers = [Affine(\"first\", 784, 100), Relu(\"first\"), Affine(\"second\", 100, 100), Relu(\"second\"), Affine(\"third\", 100, 2), Affine(\"last\", 2, 1), Sigmoid(\"last\")]\n",
    "model_nn = Model(layers)\n",
    "model_lr = Model([Affine(\"logits\", 784, 1), Sigmoid(\"sigmoid\")])"
   ]
  },
  {
   "cell_type": "code",
   "execution_count": 20,
   "id": "6eede77a",
   "metadata": {
    "execution": {
     "iopub.execute_input": "2022-06-20T00:37:14.943199Z",
     "iopub.status.busy": "2022-06-20T00:37:14.942664Z",
     "iopub.status.idle": "2022-06-20T00:37:14.954827Z",
     "shell.execute_reply": "2022-06-20T00:37:14.955201Z"
    },
    "papermill": {
     "duration": 0.039848,
     "end_time": "2022-06-20T00:37:14.955319",
     "exception": false,
     "start_time": "2022-06-20T00:37:14.915471",
     "status": "completed"
    },
    "tags": []
   },
   "outputs": [],
   "source": [
    "nn_learner = Learner(loss, model_nn, opt, config.num_epochs)\n",
    "acc_nn = ClfCallback(nn_learner, config.bs, training_data_x , testing_data_x, training_data_y, testing_data_y)\n",
    "nn_learner.set_callbacks([acc_nn])"
   ]
  },
  {
   "cell_type": "code",
   "execution_count": 21,
   "id": "877b6cc7",
   "metadata": {
    "execution": {
     "iopub.execute_input": "2022-06-20T00:37:15.019616Z",
     "iopub.status.busy": "2022-06-20T00:37:15.012669Z",
     "iopub.status.idle": "2022-06-20T00:37:15.022606Z",
     "shell.execute_reply": "2022-06-20T00:37:15.023017Z"
    },
    "papermill": {
     "duration": 0.044103,
     "end_time": "2022-06-20T00:37:15.023139",
     "exception": false,
     "start_time": "2022-06-20T00:37:14.979036",
     "status": "completed"
    },
    "tags": []
   },
   "outputs": [],
   "source": [
    "lr_learner = Learner(loss, model_lr, opt, config.num_epochs)\n",
    "acc_lr = ClfCallback(lr_learner, config.bs, training_data_x , testing_data_x, training_data_y, testing_data_y)\n",
    "lr_learner.set_callbacks([acc_lr])"
   ]
  },
  {
   "cell_type": "code",
   "execution_count": 22,
   "id": "d9b133c3",
   "metadata": {
    "execution": {
     "iopub.execute_input": "2022-06-20T00:37:15.076902Z",
     "iopub.status.busy": "2022-06-20T00:37:15.074265Z",
     "iopub.status.idle": "2022-06-20T00:38:32.687830Z",
     "shell.execute_reply": "2022-06-20T00:38:32.688339Z"
    },
    "papermill": {
     "duration": 77.641513,
     "end_time": "2022-06-20T00:38:32.688472",
     "exception": false,
     "start_time": "2022-06-20T00:37:15.046959",
     "status": "completed"
    },
    "tags": []
   },
   "outputs": [
    {
     "name": "stdout",
     "output_type": "stream",
     "text": [
      "Epoch 0, Loss 0.2385\n",
      "Training Accuracy: 0.7142, Testing Accuracy: 0.7137\n",
      "\n"
     ]
    },
    {
     "name": "stdout",
     "output_type": "stream",
     "text": [
      "Epoch 10, Loss 0.0712\n",
      "Training Accuracy: 0.9306, Testing Accuracy: 0.9430\n",
      "\n"
     ]
    },
    {
     "name": "stdout",
     "output_type": "stream",
     "text": [
      "Epoch 20, Loss 0.0471\n",
      "Training Accuracy: 0.9492, Testing Accuracy: 0.9582\n",
      "\n"
     ]
    },
    {
     "name": "stdout",
     "output_type": "stream",
     "text": [
      "Epoch 30, Loss 0.0386\n",
      "Training Accuracy: 0.9574, Testing Accuracy: 0.9647\n",
      "\n"
     ]
    },
    {
     "name": "stdout",
     "output_type": "stream",
     "text": [
      "Epoch 40, Loss 0.0342\n",
      "Training Accuracy: 0.9616, Testing Accuracy: 0.9657\n",
      "\n"
     ]
    },
    {
     "name": "stdout",
     "output_type": "stream",
     "text": [
      "Epoch 50, Loss 0.0315\n",
      "Training Accuracy: 0.9637, Testing Accuracy: 0.9657\n",
      "\n"
     ]
    },
    {
     "name": "stdout",
     "output_type": "stream",
     "text": [
      "Epoch 60, Loss 0.0295\n",
      "Training Accuracy: 0.9654, Testing Accuracy: 0.9662\n",
      "\n"
     ]
    },
    {
     "name": "stdout",
     "output_type": "stream",
     "text": [
      "Epoch 70, Loss 0.0281\n",
      "Training Accuracy: 0.9672, Testing Accuracy: 0.9667\n",
      "\n"
     ]
    },
    {
     "name": "stdout",
     "output_type": "stream",
     "text": [
      "Epoch 80, Loss 0.0269\n",
      "Training Accuracy: 0.9690, Testing Accuracy: 0.9688\n",
      "\n"
     ]
    },
    {
     "name": "stdout",
     "output_type": "stream",
     "text": [
      "Epoch 90, Loss 0.0259\n",
      "Training Accuracy: 0.9699, Testing Accuracy: 0.9703\n",
      "\n"
     ]
    },
    {
     "name": "stdout",
     "output_type": "stream",
     "text": [
      "Epoch 100, Loss 0.0251\n",
      "Training Accuracy: 0.9711, Testing Accuracy: 0.9703\n",
      "\n"
     ]
    },
    {
     "name": "stdout",
     "output_type": "stream",
     "text": [
      "Epoch 110, Loss 0.0244\n",
      "Training Accuracy: 0.9715, Testing Accuracy: 0.9703\n",
      "\n"
     ]
    },
    {
     "name": "stdout",
     "output_type": "stream",
     "text": [
      "Epoch 120, Loss 0.0237\n",
      "Training Accuracy: 0.9724, Testing Accuracy: 0.9703\n",
      "\n"
     ]
    },
    {
     "name": "stdout",
     "output_type": "stream",
     "text": [
      "Epoch 130, Loss 0.0231\n",
      "Training Accuracy: 0.9728, Testing Accuracy: 0.9698\n",
      "\n"
     ]
    },
    {
     "name": "stdout",
     "output_type": "stream",
     "text": [
      "Epoch 140, Loss 0.0226\n",
      "Training Accuracy: 0.9733, Testing Accuracy: 0.9698\n",
      "\n"
     ]
    },
    {
     "name": "stdout",
     "output_type": "stream",
     "text": [
      "Epoch 150, Loss 0.0221\n",
      "Training Accuracy: 0.9738, Testing Accuracy: 0.9713\n",
      "\n"
     ]
    },
    {
     "name": "stdout",
     "output_type": "stream",
     "text": [
      "Epoch 160, Loss 0.0216\n",
      "Training Accuracy: 0.9744, Testing Accuracy: 0.9708\n",
      "\n"
     ]
    },
    {
     "name": "stdout",
     "output_type": "stream",
     "text": [
      "Epoch 170, Loss 0.0212\n",
      "Training Accuracy: 0.9751, Testing Accuracy: 0.9713\n",
      "\n"
     ]
    },
    {
     "name": "stdout",
     "output_type": "stream",
     "text": [
      "Epoch 180, Loss 0.0208\n",
      "Training Accuracy: 0.9755, Testing Accuracy: 0.9728\n",
      "\n"
     ]
    },
    {
     "name": "stdout",
     "output_type": "stream",
     "text": [
      "Epoch 190, Loss 0.0204\n",
      "Training Accuracy: 0.9760, Testing Accuracy: 0.9728\n",
      "\n"
     ]
    },
    {
     "name": "stdout",
     "output_type": "stream",
     "text": [
      "Epoch 200, Loss 0.02\n",
      "Training Accuracy: 0.9764, Testing Accuracy: 0.9728\n",
      "\n"
     ]
    },
    {
     "name": "stdout",
     "output_type": "stream",
     "text": [
      "Epoch 210, Loss 0.0196\n",
      "Training Accuracy: 0.9774, Testing Accuracy: 0.9733\n",
      "\n"
     ]
    },
    {
     "name": "stdout",
     "output_type": "stream",
     "text": [
      "Epoch 220, Loss 0.0193\n",
      "Training Accuracy: 0.9781, Testing Accuracy: 0.9733\n",
      "\n"
     ]
    },
    {
     "name": "stdout",
     "output_type": "stream",
     "text": [
      "Epoch 230, Loss 0.019\n",
      "Training Accuracy: 0.9786, Testing Accuracy: 0.9733\n",
      "\n"
     ]
    },
    {
     "name": "stdout",
     "output_type": "stream",
     "text": [
      "Epoch 240, Loss 0.0186\n",
      "Training Accuracy: 0.9794, Testing Accuracy: 0.9733\n",
      "\n"
     ]
    },
    {
     "data": {
      "text/plain": [
       "0.06316771007969514"
      ]
     },
     "execution_count": 22,
     "metadata": {},
     "output_type": "execute_result"
    }
   ],
   "source": [
    "nn_learner.train_loop(dl)"
   ]
  },
  {
   "cell_type": "code",
   "execution_count": 23,
   "id": "e0163366",
   "metadata": {
    "execution": {
     "iopub.execute_input": "2022-06-20T00:38:32.760063Z",
     "iopub.status.busy": "2022-06-20T00:38:32.759502Z",
     "iopub.status.idle": "2022-06-20T00:38:46.869055Z",
     "shell.execute_reply": "2022-06-20T00:38:46.869870Z"
    },
    "papermill": {
     "duration": 14.151516,
     "end_time": "2022-06-20T00:38:46.870021",
     "exception": false,
     "start_time": "2022-06-20T00:38:32.718505",
     "status": "completed"
    },
    "tags": []
   },
   "outputs": [
    {
     "name": "stdout",
     "output_type": "stream",
     "text": [
      "Epoch 0, Loss 0.2127\n",
      "Training Accuracy: 0.7813, Testing Accuracy: 0.7969\n",
      "\n"
     ]
    },
    {
     "name": "stdout",
     "output_type": "stream",
     "text": [
      "Epoch 10, Loss 0.1022\n",
      "Training Accuracy: 0.9057, Testing Accuracy: 0.9204\n",
      "\n"
     ]
    },
    {
     "name": "stdout",
     "output_type": "stream",
     "text": [
      "Epoch 20, Loss 0.0795\n",
      "Training Accuracy: 0.9265, Testing Accuracy: 0.9385\n",
      "\n"
     ]
    },
    {
     "name": "stdout",
     "output_type": "stream",
     "text": [
      "Epoch 30, Loss 0.0686\n",
      "Training Accuracy: 0.9338, Testing Accuracy: 0.9476\n",
      "\n"
     ]
    },
    {
     "name": "stdout",
     "output_type": "stream",
     "text": [
      "Epoch 40, Loss 0.0621\n",
      "Training Accuracy: 0.9395, Testing Accuracy: 0.9496\n",
      "\n"
     ]
    },
    {
     "name": "stdout",
     "output_type": "stream",
     "text": [
      "Epoch 50, Loss 0.0576\n",
      "Training Accuracy: 0.9427, Testing Accuracy: 0.9516\n",
      "\n"
     ]
    },
    {
     "name": "stdout",
     "output_type": "stream",
     "text": [
      "Epoch 60, Loss 0.0543\n",
      "Training Accuracy: 0.9456, Testing Accuracy: 0.9536\n",
      "\n"
     ]
    },
    {
     "name": "stdout",
     "output_type": "stream",
     "text": [
      "Epoch 70, Loss 0.0517\n",
      "Training Accuracy: 0.9474, Testing Accuracy: 0.9567\n",
      "\n"
     ]
    },
    {
     "name": "stdout",
     "output_type": "stream",
     "text": [
      "Epoch 80, Loss 0.0497\n",
      "Training Accuracy: 0.9493, Testing Accuracy: 0.9577\n",
      "\n"
     ]
    },
    {
     "name": "stdout",
     "output_type": "stream",
     "text": [
      "Epoch 90, Loss 0.048\n",
      "Training Accuracy: 0.9511, Testing Accuracy: 0.9592\n",
      "\n"
     ]
    },
    {
     "name": "stdout",
     "output_type": "stream",
     "text": [
      "Epoch 100, Loss 0.0465\n",
      "Training Accuracy: 0.9516, Testing Accuracy: 0.9592\n",
      "\n"
     ]
    },
    {
     "name": "stdout",
     "output_type": "stream",
     "text": [
      "Epoch 110, Loss 0.0453\n",
      "Training Accuracy: 0.9527, Testing Accuracy: 0.9607\n",
      "\n"
     ]
    },
    {
     "name": "stdout",
     "output_type": "stream",
     "text": [
      "Epoch 120, Loss 0.0442\n",
      "Training Accuracy: 0.9537, Testing Accuracy: 0.9612\n",
      "\n"
     ]
    },
    {
     "name": "stdout",
     "output_type": "stream",
     "text": [
      "Epoch 130, Loss 0.0433\n",
      "Training Accuracy: 0.9546, Testing Accuracy: 0.9617\n",
      "\n"
     ]
    },
    {
     "name": "stdout",
     "output_type": "stream",
     "text": [
      "Epoch 140, Loss 0.0425\n",
      "Training Accuracy: 0.9553, Testing Accuracy: 0.9622\n",
      "\n"
     ]
    },
    {
     "name": "stdout",
     "output_type": "stream",
     "text": [
      "Epoch 150, Loss 0.0417\n",
      "Training Accuracy: 0.9558, Testing Accuracy: 0.9627\n",
      "\n"
     ]
    },
    {
     "name": "stdout",
     "output_type": "stream",
     "text": [
      "Epoch 160, Loss 0.041\n",
      "Training Accuracy: 0.9568, Testing Accuracy: 0.9632\n",
      "\n"
     ]
    },
    {
     "name": "stdout",
     "output_type": "stream",
     "text": [
      "Epoch 170, Loss 0.0404\n",
      "Training Accuracy: 0.9570, Testing Accuracy: 0.9637\n",
      "\n"
     ]
    },
    {
     "name": "stdout",
     "output_type": "stream",
     "text": [
      "Epoch 180, Loss 0.0398\n",
      "Training Accuracy: 0.9573, Testing Accuracy: 0.9642\n",
      "\n"
     ]
    },
    {
     "name": "stdout",
     "output_type": "stream",
     "text": [
      "Epoch 190, Loss 0.0393\n",
      "Training Accuracy: 0.9579, Testing Accuracy: 0.9642\n",
      "\n"
     ]
    },
    {
     "name": "stdout",
     "output_type": "stream",
     "text": [
      "Epoch 200, Loss 0.0388\n",
      "Training Accuracy: 0.9589, Testing Accuracy: 0.9642\n",
      "\n"
     ]
    },
    {
     "name": "stdout",
     "output_type": "stream",
     "text": [
      "Epoch 210, Loss 0.0384\n",
      "Training Accuracy: 0.9592, Testing Accuracy: 0.9642\n",
      "\n"
     ]
    },
    {
     "name": "stdout",
     "output_type": "stream",
     "text": [
      "Epoch 220, Loss 0.038\n",
      "Training Accuracy: 0.9596, Testing Accuracy: 0.9642\n",
      "\n"
     ]
    },
    {
     "name": "stdout",
     "output_type": "stream",
     "text": [
      "Epoch 230, Loss 0.0376\n",
      "Training Accuracy: 0.9599, Testing Accuracy: 0.9642\n",
      "\n"
     ]
    },
    {
     "name": "stdout",
     "output_type": "stream",
     "text": [
      "Epoch 240, Loss 0.0372\n",
      "Training Accuracy: 0.9602, Testing Accuracy: 0.9647\n",
      "\n"
     ]
    },
    {
     "data": {
      "text/plain": [
       "0.07902203320833137"
      ]
     },
     "execution_count": 23,
     "metadata": {},
     "output_type": "execute_result"
    }
   ],
   "source": [
    "lr_learner.train_loop(dl)"
   ]
  },
  {
   "cell_type": "code",
   "execution_count": 24,
   "id": "ca410940",
   "metadata": {
    "execution": {
     "iopub.execute_input": "2022-06-20T00:38:46.955901Z",
     "iopub.status.busy": "2022-06-20T00:38:46.955336Z",
     "iopub.status.idle": "2022-06-20T00:38:47.153156Z",
     "shell.execute_reply": "2022-06-20T00:38:47.153621Z"
    },
    "papermill": {
     "duration": 0.247649,
     "end_time": "2022-06-20T00:38:47.153767",
     "exception": false,
     "start_time": "2022-06-20T00:38:46.906118",
     "status": "completed"
    },
    "tags": []
   },
   "outputs": [
    {
     "data": {
      "text/plain": [
       "<matplotlib.legend.Legend at 0x7f1cbcd50a20>"
      ]
     },
     "execution_count": 24,
     "metadata": {},
     "output_type": "execute_result"
    },
    {
     "data": {
      "image/png": "[encoded data removed]",
      "text/plain": [
       "<Figure size 1080x720 with 1 Axes>"
      ]
     },
     "metadata": {
      "needs_background": "light"
     },
     "output_type": "display_data"
    }
   ],
   "source": [
    "#comparing the results of NN and LR\n",
    "plt.figure(figsize=(15,10))\n",
    "\n",
    "# Neural Network plots\n",
    "plt.plot(acc_nn.accuracies, 'r-', label = \"Training Accuracies - NN\")\n",
    "plt.plot(acc_nn.test_accuracies, 'g-', label = \"Testing Accuracies - NN\")\n",
    "\n",
    "# Logistic Regression plots\n",
    "plt.plot(acc_lr.accuracies, 'k-', label = \"Training Accuracies - LR\")\n",
    "plt.plot(acc_lr.test_accuracies, 'b-', label = \"Testing Accuracies - LR\")\n",
    "plt.legend()"
   ]
  },
  {
   "cell_type": "markdown",
   "id": "80dfb35c",
   "metadata": {
    "papermill": {
     "duration": 0.04204,
     "end_time": "2022-06-20T00:38:47.237924",
     "exception": false,
     "start_time": "2022-06-20T00:38:47.195884",
     "status": "completed"
    },
    "tags": []
   },
   "source": [
    "#### Plotting the outputs of this layer of the NN.\n"
   ]
  },
  {
   "cell_type": "code",
   "execution_count": 25,
   "id": "45eb2ff5",
   "metadata": {
    "execution": {
     "iopub.execute_input": "2022-06-20T00:38:47.327317Z",
     "iopub.status.busy": "2022-06-20T00:38:47.326601Z",
     "iopub.status.idle": "2022-06-20T00:38:47.347408Z",
     "shell.execute_reply": "2022-06-20T00:38:47.346939Z"
    },
    "papermill": {
     "duration": 0.066501,
     "end_time": "2022-06-20T00:38:47.347530",
     "exception": false,
     "start_time": "2022-06-20T00:38:47.281029",
     "status": "completed"
    },
    "tags": []
   },
   "outputs": [],
   "source": [
    "new_model = Model(layers[:-2])\n",
    "testing_plot = new_model(testing_data_x)"
   ]
  },
  {
   "cell_type": "code",
   "execution_count": 26,
   "id": "4c0a5485",
   "metadata": {
    "execution": {
     "iopub.execute_input": "2022-06-20T00:38:47.426098Z",
     "iopub.status.busy": "2022-06-20T00:38:47.425566Z",
     "iopub.status.idle": "2022-06-20T00:38:47.616257Z",
     "shell.execute_reply": "2022-06-20T00:38:47.615652Z"
    },
    "papermill": {
     "duration": 0.231594,
     "end_time": "2022-06-20T00:38:47.616396",
     "exception": false,
     "start_time": "2022-06-20T00:38:47.384802",
     "status": "completed"
    },
    "tags": []
   },
   "outputs": [
    {
     "data": {
      "text/plain": [
       "Text(0.5, 1.0, 'Outputs')"
      ]
     },
     "execution_count": 26,
     "metadata": {},
     "output_type": "execute_result"
    },
    {
     "data": {
      "image/png": "[encoded data removed]",
      "text/plain": [
       "<Figure size 576x504 with 1 Axes>"
      ]
     },
     "metadata": {
      "needs_background": "light"
     },
     "output_type": "display_data"
    }
   ],
   "source": [
    "# Plotting the scatter plot of points and color coding by class\n",
    "plt.figure(figsize=(8,7))\n",
    "plt.scatter(testing_plot[:,0], testing_plot[:,1], alpha = 0.1, c = y_test.ravel());\n",
    "plt.title('Outputs')"
   ]
  },
  {
   "cell_type": "markdown",
   "id": "a74fcf8f",
   "metadata": {
    "papermill": {
     "duration": 0.038517,
     "end_time": "2022-06-20T00:38:47.693829",
     "exception": false,
     "start_time": "2022-06-20T00:38:47.655312",
     "status": "completed"
    },
    "tags": []
   },
   "source": [
    "Probability contours"
   ]
  },
  {
   "cell_type": "code",
   "execution_count": 27,
   "id": "d0afc8e3",
   "metadata": {
    "execution": {
     "iopub.execute_input": "2022-06-20T00:38:47.775685Z",
     "iopub.status.busy": "2022-06-20T00:38:47.775145Z",
     "iopub.status.idle": "2022-06-20T00:38:47.788080Z",
     "shell.execute_reply": "2022-06-20T00:38:47.787644Z"
    },
    "papermill": {
     "duration": 0.055601,
     "end_time": "2022-06-20T00:38:47.788186",
     "exception": false,
     "start_time": "2022-06-20T00:38:47.732585",
     "status": "completed"
    },
    "tags": []
   },
   "outputs": [],
   "source": [
    "model_prob = Model(layers[-2:]) "
   ]
  },
  {
   "cell_type": "code",
   "execution_count": 28,
   "id": "9b96e238",
   "metadata": {
    "execution": {
     "iopub.execute_input": "2022-06-20T00:38:47.870666Z",
     "iopub.status.busy": "2022-06-20T00:38:47.869925Z",
     "iopub.status.idle": "2022-06-20T00:38:47.883079Z",
     "shell.execute_reply": "2022-06-20T00:38:47.883478Z"
    },
    "papermill": {
     "duration": 0.056859,
     "end_time": "2022-06-20T00:38:47.883605",
     "exception": false,
     "start_time": "2022-06-20T00:38:47.826746",
     "status": "completed"
    },
    "tags": []
   },
   "outputs": [],
   "source": [
    "#creating the x and y ranges according to the above generated plot.\n",
    "x_range = np.linspace(-4, 1, 100) \n",
    "y_range = np.linspace(-6, 6, 100) \n",
    "x_grid, y_grid = np.meshgrid(x_range, y_range) # x_grid and y_grig are of size 100 X 100\n",
    "\n",
    "# converting x_grid and y_grid to continuous arrays\n",
    "x_gridflat = np.ravel(x_grid)\n",
    "y_gridflat = np.ravel(y_grid)\n",
    "\n",
    "# The last layer of the current model takes two columns as input. Hence transpose of np.vstack() is required.\n",
    "X = np.vstack((x_gridflat, y_gridflat)).T\n",
    "\n",
    "prob_contour = model_prob(X).reshape(100,100) "
   ]
  },
  {
   "cell_type": "code",
   "execution_count": 29,
   "id": "da72499a",
   "metadata": {
    "execution": {
     "iopub.execute_input": "2022-06-20T00:38:47.999726Z",
     "iopub.status.busy": "2022-06-20T00:38:47.999117Z",
     "iopub.status.idle": "2022-06-20T00:38:48.217344Z",
     "shell.execute_reply": "2022-06-20T00:38:48.216762Z"
    },
    "papermill": {
     "duration": 0.264848,
     "end_time": "2022-06-20T00:38:48.217487",
     "exception": false,
     "start_time": "2022-06-20T00:38:47.952639",
     "status": "completed"
    },
    "tags": []
   },
   "outputs": [
    {
     "data": {
      "image/png": "[encoded data removed]",
      "text/plain": [
       "<Figure size 720x648 with 1 Axes>"
      ]
     },
     "metadata": {
      "needs_background": "light"
     },
     "output_type": "display_data"
    }
   ],
   "source": [
    "plt.figure(figsize=(10,9))\n",
    "plt.scatter(testing_plot[:,0], testing_plot[:,1], alpha = 0.1, c = y_test.ravel())\n",
    "contours = plt.contour(x_grid,y_grid,prob_contour)\n",
    "plt.title('Probability Contours')\n",
    "plt.clabel(contours, inline = True );"
   ]
  },
  {
   "cell_type": "code",
   "execution_count": null,
   "id": "e81b4ac7",
   "metadata": {
    "papermill": {
     "duration": 0.047209,
     "end_time": "2022-06-20T00:38:48.311719",
     "exception": false,
     "start_time": "2022-06-20T00:38:48.264510",
     "status": "completed"
    },
    "tags": []
   },
   "outputs": [],
   "source": []
  }
 ],
 "metadata": {
  "kernelspec": {
   "display_name": "Python 3",
   "language": "python",
   "name": "python3"
  },
  "language_info": {
   "codemirror_mode": {
    "name": "ipython",
    "version": 3
   },
   "file_extension": ".py",
   "mimetype": "text/x-python",
   "name": "python",
   "nbconvert_exporter": "python",
   "pygments_lexer": "ipython3",
   "version": "3.6.15"
  },
  "papermill": {
   "default_parameters": {},
   "duration": 99.812324,
   "end_time": "2022-06-20T00:38:48.778513",
   "environment_variables": {},
   "exception": null,
   "input_path": "2020-08-11-part2.ipynb",
   "output_path": "2020-08-11-part2.ipynb",
   "parameters": {},
   "start_time": "2022-06-20T00:37:08.966189",
   "version": "2.3.3"
  }
 },
 "nbformat": 4,
 "nbformat_minor": 5
}