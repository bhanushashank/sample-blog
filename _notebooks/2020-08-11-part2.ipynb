{
 "cells": [
  {
   "cell_type": "markdown",
   "id": "98380cd3",
   "metadata": {
    "papermill": {
     "duration": 0.033785,
     "end_time": "2021-11-11T20:08:04.538599",
     "exception": false,
     "start_time": "2021-11-11T20:08:04.504814",
     "status": "completed"
    },
    "tags": []
   },
   "source": [
    "# Distinguish Your Own Digits (DYOD)"
   ]
  },
  {
   "cell_type": "markdown",
   "id": "ef31240d",
   "metadata": {
    "papermill": {
     "duration": 0.030383,
     "end_time": "2021-11-11T20:08:04.598349",
     "exception": false,
     "start_time": "2021-11-11T20:08:04.567966",
     "status": "completed"
    },
    "tags": []
   },
   "source": [
    "You are going to write a classifier that distinguishes between the number 3 and number 8."
   ]
  },
  {
   "cell_type": "code",
   "execution_count": 1,
   "id": "b15c8646",
   "metadata": {
    "execution": {
     "iopub.execute_input": "2021-11-11T20:08:04.667944Z",
     "iopub.status.busy": "2021-11-11T20:08:04.667252Z",
     "iopub.status.idle": "2021-11-11T20:08:04.679253Z",
     "shell.execute_reply": "2021-11-11T20:08:04.678683Z"
    },
    "papermill": {
     "duration": 0.052527,
     "end_time": "2021-11-11T20:08:04.679408",
     "exception": false,
     "start_time": "2021-11-11T20:08:04.626881",
     "status": "completed"
    },
    "tags": []
   },
   "outputs": [],
   "source": [
    "%load_ext autoreload\n",
    "%autoreload 2"
   ]
  },
  {
   "cell_type": "code",
   "execution_count": 2,
   "id": "22ef38dc",
   "metadata": {
    "execution": {
     "iopub.execute_input": "2021-11-11T20:08:04.762870Z",
     "iopub.status.busy": "2021-11-11T20:08:04.753178Z",
     "iopub.status.idle": "2021-11-11T20:08:05.373769Z",
     "shell.execute_reply": "2021-11-11T20:08:05.373199Z"
    },
    "papermill": {
     "duration": 0.664646,
     "end_time": "2021-11-11T20:08:05.373917",
     "exception": false,
     "start_time": "2021-11-11T20:08:04.709271",
     "status": "completed"
    },
    "tags": []
   },
   "outputs": [],
   "source": [
    "%matplotlib inline\n",
    "import numpy as np\n",
    "import matplotlib.pyplot as plt\n",
    "import pandas as pd"
   ]
  },
  {
   "cell_type": "markdown",
   "id": "ba036198",
   "metadata": {
    "papermill": {
     "duration": 0.031994,
     "end_time": "2021-11-11T20:08:05.439680",
     "exception": false,
     "start_time": "2021-11-11T20:08:05.407686",
     "status": "completed"
    },
    "tags": []
   },
   "source": [
    "From the command line run `pip install mnist`. This is a library that will help you bring down the mnist dataset. If you run this from a notebook, you need to put  `!pip install mnist` in a cell by itself."
   ]
  },
  {
   "cell_type": "code",
   "execution_count": 3,
   "id": "bb6ad8a1",
   "metadata": {
    "execution": {
     "iopub.execute_input": "2021-11-11T20:08:05.521813Z",
     "iopub.status.busy": "2021-11-11T20:08:05.506638Z",
     "iopub.status.idle": "2021-11-11T20:08:07.614048Z",
     "shell.execute_reply": "2021-11-11T20:08:07.613444Z"
    },
    "papermill": {
     "duration": 2.144145,
     "end_time": "2021-11-11T20:08:07.614195",
     "exception": false,
     "start_time": "2021-11-11T20:08:05.470050",
     "status": "completed"
    },
    "tags": []
   },
   "outputs": [
    {
     "name": "stdout",
     "output_type": "stream",
     "text": [
      "Collecting mnist\r\n"
     ]
    },
    {
     "name": "stdout",
     "output_type": "stream",
     "text": [
      "  Downloading mnist-0.2.2-py2.py3-none-any.whl (3.5 kB)\r\n",
      "Requirement already satisfied: numpy in /opt/hostedtoolcache/Python/3.6.15/x64/lib/python3.6/site-packages (from mnist) (1.19.5)\r\n"
     ]
    },
    {
     "name": "stdout",
     "output_type": "stream",
     "text": [
      "Installing collected packages: mnist\r\n"
     ]
    },
    {
     "name": "stdout",
     "output_type": "stream",
     "text": [
      "Successfully installed mnist-0.2.2\r\n"
     ]
    }
   ],
   "source": [
    "!pip install mnist"
   ]
  },
  {
   "cell_type": "markdown",
   "id": "69df9c9a",
   "metadata": {
    "papermill": {
     "duration": 0.031542,
     "end_time": "2021-11-11T20:08:07.678625",
     "exception": false,
     "start_time": "2021-11-11T20:08:07.647083",
     "status": "completed"
    },
    "tags": []
   },
   "source": [
    "## Preparing the Data"
   ]
  },
  {
   "cell_type": "code",
   "execution_count": 4,
   "id": "7f69d806",
   "metadata": {
    "execution": {
     "iopub.execute_input": "2021-11-11T20:08:07.764404Z",
     "iopub.status.busy": "2021-11-11T20:08:07.763721Z",
     "iopub.status.idle": "2021-11-11T20:08:07.769167Z",
     "shell.execute_reply": "2021-11-11T20:08:07.768569Z"
    },
    "papermill": {
     "duration": 0.058939,
     "end_time": "2021-11-11T20:08:07.769311",
     "exception": false,
     "start_time": "2021-11-11T20:08:07.710372",
     "status": "completed"
    },
    "tags": []
   },
   "outputs": [],
   "source": [
    "import mnist"
   ]
  },
  {
   "cell_type": "code",
   "execution_count": 5,
   "id": "a411e44f",
   "metadata": {
    "execution": {
     "iopub.execute_input": "2021-11-11T20:08:07.850225Z",
     "iopub.status.busy": "2021-11-11T20:08:07.845810Z",
     "iopub.status.idle": "2021-11-11T20:08:09.450302Z",
     "shell.execute_reply": "2021-11-11T20:08:09.449732Z"
    },
    "papermill": {
     "duration": 1.648774,
     "end_time": "2021-11-11T20:08:09.450450",
     "exception": false,
     "start_time": "2021-11-11T20:08:07.801676",
     "status": "completed"
    },
    "tags": []
   },
   "outputs": [],
   "source": [
    "train_images = mnist.train_images()\n",
    "train_labels = mnist.train_labels()"
   ]
  },
  {
   "cell_type": "code",
   "execution_count": 6,
   "id": "dceab3a5",
   "metadata": {
    "execution": {
     "iopub.execute_input": "2021-11-11T20:08:09.535848Z",
     "iopub.status.busy": "2021-11-11T20:08:09.528019Z",
     "iopub.status.idle": "2021-11-11T20:08:09.541872Z",
     "shell.execute_reply": "2021-11-11T20:08:09.541315Z"
    },
    "papermill": {
     "duration": 0.059673,
     "end_time": "2021-11-11T20:08:09.542012",
     "exception": false,
     "start_time": "2021-11-11T20:08:09.482339",
     "status": "completed"
    },
    "tags": []
   },
   "outputs": [
    {
     "data": {
      "text/plain": [
       "((60000, 28, 28), (60000,))"
      ]
     },
     "execution_count": 6,
     "metadata": {},
     "output_type": "execute_result"
    }
   ],
   "source": [
    "train_images.shape, train_labels.shape"
   ]
  },
  {
   "cell_type": "code",
   "execution_count": 7,
   "id": "f50dc2bb",
   "metadata": {
    "execution": {
     "iopub.execute_input": "2021-11-11T20:08:09.625747Z",
     "iopub.status.busy": "2021-11-11T20:08:09.625065Z",
     "iopub.status.idle": "2021-11-11T20:08:09.846398Z",
     "shell.execute_reply": "2021-11-11T20:08:09.845816Z"
    },
    "papermill": {
     "duration": 0.272393,
     "end_time": "2021-11-11T20:08:09.846550",
     "exception": false,
     "start_time": "2021-11-11T20:08:09.574157",
     "status": "completed"
    },
    "tags": []
   },
   "outputs": [],
   "source": [
    "test_images = mnist.test_images()\n",
    "test_labels = mnist.test_labels()"
   ]
  },
  {
   "cell_type": "code",
   "execution_count": 8,
   "id": "fc38cf1b",
   "metadata": {
    "execution": {
     "iopub.execute_input": "2021-11-11T20:08:09.930226Z",
     "iopub.status.busy": "2021-11-11T20:08:09.925802Z",
     "iopub.status.idle": "2021-11-11T20:08:09.934010Z",
     "shell.execute_reply": "2021-11-11T20:08:09.933471Z"
    },
    "papermill": {
     "duration": 0.055273,
     "end_time": "2021-11-11T20:08:09.934154",
     "exception": false,
     "start_time": "2021-11-11T20:08:09.878881",
     "status": "completed"
    },
    "tags": []
   },
   "outputs": [
    {
     "data": {
      "text/plain": [
       "((10000, 28, 28), (10000,))"
      ]
     },
     "execution_count": 8,
     "metadata": {},
     "output_type": "execute_result"
    }
   ],
   "source": [
    "test_images.shape, test_labels.shape"
   ]
  },
  {
   "cell_type": "code",
   "execution_count": 9,
   "id": "f9ed8fe0",
   "metadata": {
    "execution": {
     "iopub.execute_input": "2021-11-11T20:08:10.025634Z",
     "iopub.status.busy": "2021-11-11T20:08:10.023945Z",
     "iopub.status.idle": "2021-11-11T20:08:10.203394Z",
     "shell.execute_reply": "2021-11-11T20:08:10.202854Z"
    },
    "papermill": {
     "duration": 0.228899,
     "end_time": "2021-11-11T20:08:10.203539",
     "exception": false,
     "start_time": "2021-11-11T20:08:09.974640",
     "status": "completed"
    },
    "tags": []
   },
   "outputs": [
    {
     "name": "stdout",
     "output_type": "stream",
     "text": [
      "2\n"
     ]
    },
    {
     "data": {
      "text/plain": [
       "<matplotlib.image.AxesImage at 0x7ff3ad67b160>"
      ]
     },
     "execution_count": 9,
     "metadata": {},
     "output_type": "execute_result"
    },
    {
     "data": {
      "image/png": "[encoded data removed]",
      "text/plain": [
       "<Figure size 432x288 with 1 Axes>"
      ]
     },
     "metadata": {
      "needs_background": "light"
     },
     "output_type": "display_data"
    }
   ],
   "source": [
    "image_index = 7776 # You may select anything up to 60,000\n",
    "print(train_labels[image_index]) \n",
    "plt.imshow(train_images[image_index], cmap='Greys')"
   ]
  },
  {
   "cell_type": "markdown",
   "id": "a8d2388d",
   "metadata": {
    "papermill": {
     "duration": 0.034336,
     "end_time": "2021-11-11T20:08:10.272260",
     "exception": false,
     "start_time": "2021-11-11T20:08:10.237924",
     "status": "completed"
    },
    "tags": []
   },
   "source": [
    "## Filter data to get 3 and 8 out"
   ]
  },
  {
   "cell_type": "code",
   "execution_count": 10,
   "id": "776f7fc7",
   "metadata": {
    "execution": {
     "iopub.execute_input": "2021-11-11T20:08:10.350671Z",
     "iopub.status.busy": "2021-11-11T20:08:10.349995Z",
     "iopub.status.idle": "2021-11-11T20:08:10.368886Z",
     "shell.execute_reply": "2021-11-11T20:08:10.368288Z"
    },
    "papermill": {
     "duration": 0.061275,
     "end_time": "2021-11-11T20:08:10.369038",
     "exception": false,
     "start_time": "2021-11-11T20:08:10.307763",
     "status": "completed"
    },
    "tags": []
   },
   "outputs": [],
   "source": [
    "train_filter = np.where((train_labels == 3 ) | (train_labels == 8))\n",
    "test_filter = np.where((test_labels == 3) | (test_labels == 8))\n",
    "X_train, y_train = train_images[train_filter], train_labels[train_filter]\n",
    "X_test, y_test = test_images[test_filter], test_labels[test_filter]"
   ]
  },
  {
   "cell_type": "markdown",
   "id": "948f0b7e",
   "metadata": {
    "papermill": {
     "duration": 0.035197,
     "end_time": "2021-11-11T20:08:10.440376",
     "exception": false,
     "start_time": "2021-11-11T20:08:10.405179",
     "status": "completed"
    },
    "tags": []
   },
   "source": [
    "We normalize the pizel values in the 0 to 1 range"
   ]
  },
  {
   "cell_type": "code",
   "execution_count": 11,
   "id": "ee4c2166",
   "metadata": {
    "execution": {
     "iopub.execute_input": "2021-11-11T20:08:10.522489Z",
     "iopub.status.busy": "2021-11-11T20:08:10.521807Z",
     "iopub.status.idle": "2021-11-11T20:08:10.580849Z",
     "shell.execute_reply": "2021-11-11T20:08:10.580216Z"
    },
    "papermill": {
     "duration": 0.106623,
     "end_time": "2021-11-11T20:08:10.581002",
     "exception": false,
     "start_time": "2021-11-11T20:08:10.474379",
     "status": "completed"
    },
    "tags": []
   },
   "outputs": [],
   "source": [
    "X_train = X_train/255.\n",
    "X_test = X_test/255."
   ]
  },
  {
   "cell_type": "markdown",
   "id": "ddcf4fab",
   "metadata": {
    "papermill": {
     "duration": 0.035267,
     "end_time": "2021-11-11T20:08:10.650172",
     "exception": false,
     "start_time": "2021-11-11T20:08:10.614905",
     "status": "completed"
    },
    "tags": []
   },
   "source": [
    "And setup the labels as 1 (when the digit is 3) and 0 (when the digit is 8)"
   ]
  },
  {
   "cell_type": "code",
   "execution_count": 12,
   "id": "7dc908f2",
   "metadata": {
    "execution": {
     "iopub.execute_input": "2021-11-11T20:08:10.724034Z",
     "iopub.status.busy": "2021-11-11T20:08:10.723370Z",
     "iopub.status.idle": "2021-11-11T20:08:10.735756Z",
     "shell.execute_reply": "2021-11-11T20:08:10.736368Z"
    },
    "papermill": {
     "duration": 0.051884,
     "end_time": "2021-11-11T20:08:10.736529",
     "exception": false,
     "start_time": "2021-11-11T20:08:10.684645",
     "status": "completed"
    },
    "tags": []
   },
   "outputs": [],
   "source": [
    "y_train = 1*(y_train==3)\n",
    "y_test = 1*(y_test==3)"
   ]
  },
  {
   "cell_type": "code",
   "execution_count": 13,
   "id": "01e4e969",
   "metadata": {
    "execution": {
     "iopub.execute_input": "2021-11-11T20:08:10.811002Z",
     "iopub.status.busy": "2021-11-11T20:08:10.810352Z",
     "iopub.status.idle": "2021-11-11T20:08:10.824697Z",
     "shell.execute_reply": "2021-11-11T20:08:10.824139Z"
    },
    "papermill": {
     "duration": 0.052264,
     "end_time": "2021-11-11T20:08:10.824861",
     "exception": false,
     "start_time": "2021-11-11T20:08:10.772597",
     "status": "completed"
    },
    "tags": []
   },
   "outputs": [
    {
     "data": {
      "text/plain": [
       "((11982, 28, 28), (1984, 28, 28))"
      ]
     },
     "execution_count": 13,
     "metadata": {},
     "output_type": "execute_result"
    }
   ],
   "source": [
    "X_train.shape, X_test.shape"
   ]
  },
  {
   "cell_type": "markdown",
   "id": "5ccf3f85",
   "metadata": {
    "papermill": {
     "duration": 0.035774,
     "end_time": "2021-11-11T20:08:10.893728",
     "exception": false,
     "start_time": "2021-11-11T20:08:10.857954",
     "status": "completed"
    },
    "tags": []
   },
   "source": [
    "We reshape the data to flatten the image pixels into a set of features or co-variates:"
   ]
  },
  {
   "cell_type": "code",
   "execution_count": 14,
   "id": "5286a4a3",
   "metadata": {
    "execution": {
     "iopub.execute_input": "2021-11-11T20:08:10.965663Z",
     "iopub.status.busy": "2021-11-11T20:08:10.965007Z",
     "iopub.status.idle": "2021-11-11T20:08:10.979573Z",
     "shell.execute_reply": "2021-11-11T20:08:10.980131Z"
    },
    "papermill": {
     "duration": 0.05276,
     "end_time": "2021-11-11T20:08:10.980286",
     "exception": false,
     "start_time": "2021-11-11T20:08:10.927526",
     "status": "completed"
    },
    "tags": []
   },
   "outputs": [
    {
     "data": {
      "text/plain": [
       "((11982, 784), (1984, 784))"
      ]
     },
     "execution_count": 14,
     "metadata": {},
     "output_type": "execute_result"
    }
   ],
   "source": [
    "X_train = X_train.reshape(X_train.shape[0], -1)\n",
    "X_test = X_test.reshape(X_test.shape[0], -1)\n",
    "X_train.shape, X_test.shape"
   ]
  },
  {
   "cell_type": "code",
   "execution_count": 15,
   "id": "73c5f88a",
   "metadata": {
    "execution": {
     "iopub.execute_input": "2021-11-11T20:08:11.053558Z",
     "iopub.status.busy": "2021-11-11T20:08:11.052891Z",
     "iopub.status.idle": "2021-11-11T20:08:11.073889Z",
     "shell.execute_reply": "2021-11-11T20:08:11.073344Z"
    },
    "papermill": {
     "duration": 0.05956,
     "end_time": "2021-11-11T20:08:11.074035",
     "exception": false,
     "start_time": "2021-11-11T20:08:11.014475",
     "status": "completed"
    },
    "tags": []
   },
   "outputs": [],
   "source": [
    "#Impoting functions from 'Kudzu'\n",
    "from kudzu.model import Model\n",
    "from kudzu.train import Learner\n",
    "from kudzu.optim import GD\n",
    "from kudzu.data import Data, Sampler,Dataloader\n",
    "\n",
    "from kudzu.callbacks import AccCallback\n",
    "from kudzu.callbacks import ClfCallback\n",
    "\n",
    "from kudzu.loss import MSE\n",
    "\n",
    "from kudzu.layer import Sigmoid,Relu\n",
    "from kudzu.layer import Affine"
   ]
  },
  {
   "cell_type": "markdown",
   "id": "bc01172a",
   "metadata": {
    "papermill": {
     "duration": 0.034476,
     "end_time": "2021-11-11T20:08:11.142429",
     "exception": false,
     "start_time": "2021-11-11T20:08:11.107953",
     "status": "completed"
    },
    "tags": []
   },
   "source": [
    "### Let us create a `Config` class, to store important parameters. \n",
    "This class essentially plays the role of a dictionary."
   ]
  },
  {
   "cell_type": "code",
   "execution_count": 16,
   "id": "978281aa",
   "metadata": {
    "execution": {
     "iopub.execute_input": "2021-11-11T20:08:11.215532Z",
     "iopub.status.busy": "2021-11-11T20:08:11.214874Z",
     "iopub.status.idle": "2021-11-11T20:08:11.227966Z",
     "shell.execute_reply": "2021-11-11T20:08:11.228546Z"
    },
    "papermill": {
     "duration": 0.052075,
     "end_time": "2021-11-11T20:08:11.228708",
     "exception": false,
     "start_time": "2021-11-11T20:08:11.176633",
     "status": "completed"
    },
    "tags": []
   },
   "outputs": [],
   "source": [
    "class Config:\n",
    "    pass\n",
    "config = Config()\n",
    "config.lr = 0.001\n",
    "config.num_epochs = 250\n",
    "config.bs = 50"
   ]
  },
  {
   "cell_type": "markdown",
   "id": "1385fa59",
   "metadata": {
    "papermill": {
     "duration": 0.034228,
     "end_time": "2021-11-11T20:08:11.297490",
     "exception": false,
     "start_time": "2021-11-11T20:08:11.263262",
     "status": "completed"
    },
    "tags": []
   },
   "source": [
    "### Running Models with the Training data\n",
    "Details about the network layers:\n",
    "- A first affine layer has 784 inputs and does 100 affine transforms. These are followed by a Relu\n",
    "- A second affine layer has 100 inputs from the 100 activations of the past layer, and does 100 affine transforms. These are followed by a Relu\n",
    "- A third affine layer has 100 activations and does 2 affine transformations to create an embedding for visualization. There is no non-linearity here.\n",
    "- A final \"logistic regression\" which has an affine transform from 2 inputs to 1 output, which is squeezed through a sigmoid.\n"
   ]
  },
  {
   "cell_type": "code",
   "execution_count": 17,
   "id": "2b9c66db",
   "metadata": {
    "execution": {
     "iopub.execute_input": "2021-11-11T20:08:11.383796Z",
     "iopub.status.busy": "2021-11-11T20:08:11.376927Z",
     "iopub.status.idle": "2021-11-11T20:08:11.387392Z",
     "shell.execute_reply": "2021-11-11T20:08:11.386835Z"
    },
    "papermill": {
     "duration": 0.054977,
     "end_time": "2021-11-11T20:08:11.387530",
     "exception": false,
     "start_time": "2021-11-11T20:08:11.332553",
     "status": "completed"
    },
    "tags": []
   },
   "outputs": [],
   "source": [
    "data = Data(X_train, y_train.reshape(-1,1))\n",
    "sampler = Sampler(data, config.bs, shuffle=True)\n",
    "\n",
    "dl = Dataloader(data, sampler)\n",
    "\n",
    "opt = GD(config.lr)\n",
    "loss = MSE()"
   ]
  },
  {
   "cell_type": "code",
   "execution_count": 18,
   "id": "b275e4c2",
   "metadata": {
    "execution": {
     "iopub.execute_input": "2021-11-11T20:08:11.464494Z",
     "iopub.status.busy": "2021-11-11T20:08:11.463828Z",
     "iopub.status.idle": "2021-11-11T20:08:11.477261Z",
     "shell.execute_reply": "2021-11-11T20:08:11.477801Z"
    },
    "papermill": {
     "duration": 0.056708,
     "end_time": "2021-11-11T20:08:11.477971",
     "exception": false,
     "start_time": "2021-11-11T20:08:11.421263",
     "status": "completed"
    },
    "tags": []
   },
   "outputs": [],
   "source": [
    "training_data_x = X_train\n",
    "testing_data_x = X_test\n",
    "training_data_y = y_train.reshape(-1,1)\n",
    "testing_data_y = y_test.reshape(-1,1)"
   ]
  },
  {
   "cell_type": "code",
   "execution_count": 19,
   "id": "76951160",
   "metadata": {
    "execution": {
     "iopub.execute_input": "2021-11-11T20:08:11.554793Z",
     "iopub.status.busy": "2021-11-11T20:08:11.554135Z",
     "iopub.status.idle": "2021-11-11T20:08:11.572230Z",
     "shell.execute_reply": "2021-11-11T20:08:11.571670Z"
    },
    "papermill": {
     "duration": 0.060373,
     "end_time": "2021-11-11T20:08:11.572368",
     "exception": false,
     "start_time": "2021-11-11T20:08:11.511995",
     "status": "completed"
    },
    "tags": []
   },
   "outputs": [
    {
     "name": "stdout",
     "output_type": "stream",
     "text": [
      "xavier\n",
      "xavier\n",
      "xavier\n",
      "xavier\n",
      "xavier\n"
     ]
    }
   ],
   "source": [
    "layers = [Affine(\"first\", 784, 100), Relu(\"first\"), Affine(\"second\", 100, 100), Relu(\"second\"), Affine(\"third\", 100, 2), Affine(\"last\", 2, 1), Sigmoid(\"last\")]\n",
    "model_nn = Model(layers)\n",
    "model_lr = Model([Affine(\"logits\", 784, 1), Sigmoid(\"sigmoid\")])"
   ]
  },
  {
   "cell_type": "code",
   "execution_count": 20,
   "id": "6eede77a",
   "metadata": {
    "execution": {
     "iopub.execute_input": "2021-11-11T20:08:11.647772Z",
     "iopub.status.busy": "2021-11-11T20:08:11.647121Z",
     "iopub.status.idle": "2021-11-11T20:08:11.660554Z",
     "shell.execute_reply": "2021-11-11T20:08:11.659956Z"
    },
    "papermill": {
     "duration": 0.053406,
     "end_time": "2021-11-11T20:08:11.660682",
     "exception": false,
     "start_time": "2021-11-11T20:08:11.607276",
     "status": "completed"
    },
    "tags": []
   },
   "outputs": [],
   "source": [
    "nn_learner = Learner(loss, model_nn, opt, config.num_epochs)\n",
    "acc_nn = ClfCallback(nn_learner, config.bs, training_data_x , testing_data_x, training_data_y, testing_data_y)\n",
    "nn_learner.set_callbacks([acc_nn])"
   ]
  },
  {
   "cell_type": "code",
   "execution_count": 21,
   "id": "877b6cc7",
   "metadata": {
    "execution": {
     "iopub.execute_input": "2021-11-11T20:08:11.727311Z",
     "iopub.status.busy": "2021-11-11T20:08:11.726739Z",
     "iopub.status.idle": "2021-11-11T20:08:11.738632Z",
     "shell.execute_reply": "2021-11-11T20:08:11.738144Z"
    },
    "papermill": {
     "duration": 0.047252,
     "end_time": "2021-11-11T20:08:11.738743",
     "exception": false,
     "start_time": "2021-11-11T20:08:11.691491",
     "status": "completed"
    },
    "tags": []
   },
   "outputs": [],
   "source": [
    "lr_learner = Learner(loss, model_lr, opt, config.num_epochs)\n",
    "acc_lr = ClfCallback(lr_learner, config.bs, training_data_x , testing_data_x, training_data_y, testing_data_y)\n",
    "lr_learner.set_callbacks([acc_lr])"
   ]
  },
  {
   "cell_type": "code",
   "execution_count": 22,
   "id": "d9b133c3",
   "metadata": {
    "execution": {
     "iopub.execute_input": "2021-11-11T20:08:11.804282Z",
     "iopub.status.busy": "2021-11-11T20:08:11.803713Z",
     "iopub.status.idle": "2021-11-11T20:10:19.008842Z",
     "shell.execute_reply": "2021-11-11T20:10:19.009750Z"
    },
    "papermill": {
     "duration": 127.240611,
     "end_time": "2021-11-11T20:10:19.009924",
     "exception": false,
     "start_time": "2021-11-11T20:08:11.769313",
     "status": "completed"
    },
    "tags": []
   },
   "outputs": [
    {
     "name": "stdout",
     "output_type": "stream",
     "text": [
      "Epoch 0, Loss 0.2461\n",
      "Training Accuracy: 0.6453, Testing Accuracy: 0.6225\n",
      "\n"
     ]
    },
    {
     "name": "stdout",
     "output_type": "stream",
     "text": [
      "Epoch 10, Loss 0.0843\n",
      "Training Accuracy: 0.9267, Testing Accuracy: 0.9345\n",
      "\n"
     ]
    },
    {
     "name": "stdout",
     "output_type": "stream",
     "text": [
      "Epoch 20, Loss 0.0528\n",
      "Training Accuracy: 0.9457, Testing Accuracy: 0.9536\n",
      "\n"
     ]
    },
    {
     "name": "stdout",
     "output_type": "stream",
     "text": [
      "Epoch 30, Loss 0.042\n",
      "Training Accuracy: 0.9537, Testing Accuracy: 0.9622\n",
      "\n"
     ]
    },
    {
     "name": "stdout",
     "output_type": "stream",
     "text": [
      "Epoch 40, Loss 0.0366\n",
      "Training Accuracy: 0.9593, Testing Accuracy: 0.9642\n",
      "\n"
     ]
    },
    {
     "name": "stdout",
     "output_type": "stream",
     "text": [
      "Epoch 50, Loss 0.0333\n",
      "Training Accuracy: 0.9624, Testing Accuracy: 0.9667\n",
      "\n"
     ]
    },
    {
     "name": "stdout",
     "output_type": "stream",
     "text": [
      "Epoch 60, Loss 0.031\n",
      "Training Accuracy: 0.9650, Testing Accuracy: 0.9677\n",
      "\n"
     ]
    },
    {
     "name": "stdout",
     "output_type": "stream",
     "text": [
      "Epoch 70, Loss 0.0292\n",
      "Training Accuracy: 0.9660, Testing Accuracy: 0.9688\n",
      "\n"
     ]
    },
    {
     "name": "stdout",
     "output_type": "stream",
     "text": [
      "Epoch 80, Loss 0.0278\n",
      "Training Accuracy: 0.9673, Testing Accuracy: 0.9693\n",
      "\n"
     ]
    },
    {
     "name": "stdout",
     "output_type": "stream",
     "text": [
      "Epoch 90, Loss 0.0266\n",
      "Training Accuracy: 0.9678, Testing Accuracy: 0.9698\n",
      "\n"
     ]
    },
    {
     "name": "stdout",
     "output_type": "stream",
     "text": [
      "Epoch 100, Loss 0.0256\n",
      "Training Accuracy: 0.9699, Testing Accuracy: 0.9688\n",
      "\n"
     ]
    },
    {
     "name": "stdout",
     "output_type": "stream",
     "text": [
      "Epoch 110, Loss 0.0247\n",
      "Training Accuracy: 0.9712, Testing Accuracy: 0.9693\n",
      "\n"
     ]
    },
    {
     "name": "stdout",
     "output_type": "stream",
     "text": [
      "Epoch 120, Loss 0.0239\n",
      "Training Accuracy: 0.9720, Testing Accuracy: 0.9693\n",
      "\n"
     ]
    },
    {
     "name": "stdout",
     "output_type": "stream",
     "text": [
      "Epoch 130, Loss 0.0231\n",
      "Training Accuracy: 0.9731, Testing Accuracy: 0.9688\n",
      "\n"
     ]
    },
    {
     "name": "stdout",
     "output_type": "stream",
     "text": [
      "Epoch 140, Loss 0.0225\n",
      "Training Accuracy: 0.9743, Testing Accuracy: 0.9688\n",
      "\n"
     ]
    },
    {
     "name": "stdout",
     "output_type": "stream",
     "text": [
      "Epoch 150, Loss 0.0218\n",
      "Training Accuracy: 0.9749, Testing Accuracy: 0.9693\n",
      "\n"
     ]
    },
    {
     "name": "stdout",
     "output_type": "stream",
     "text": [
      "Epoch 160, Loss 0.0212\n",
      "Training Accuracy: 0.9758, Testing Accuracy: 0.9708\n",
      "\n"
     ]
    },
    {
     "name": "stdout",
     "output_type": "stream",
     "text": [
      "Epoch 170, Loss 0.0207\n",
      "Training Accuracy: 0.9765, Testing Accuracy: 0.9713\n",
      "\n"
     ]
    },
    {
     "name": "stdout",
     "output_type": "stream",
     "text": [
      "Epoch 180, Loss 0.0201\n",
      "Training Accuracy: 0.9765, Testing Accuracy: 0.9718\n",
      "\n"
     ]
    },
    {
     "name": "stdout",
     "output_type": "stream",
     "text": [
      "Epoch 190, Loss 0.0197\n",
      "Training Accuracy: 0.9773, Testing Accuracy: 0.9718\n",
      "\n"
     ]
    },
    {
     "name": "stdout",
     "output_type": "stream",
     "text": [
      "Epoch 200, Loss 0.0192\n",
      "Training Accuracy: 0.9780, Testing Accuracy: 0.9723\n",
      "\n"
     ]
    },
    {
     "name": "stdout",
     "output_type": "stream",
     "text": [
      "Epoch 210, Loss 0.0187\n",
      "Training Accuracy: 0.9791, Testing Accuracy: 0.9728\n",
      "\n"
     ]
    },
    {
     "name": "stdout",
     "output_type": "stream",
     "text": [
      "Epoch 220, Loss 0.0183\n",
      "Training Accuracy: 0.9796, Testing Accuracy: 0.9733\n",
      "\n"
     ]
    },
    {
     "name": "stdout",
     "output_type": "stream",
     "text": [
      "Epoch 230, Loss 0.0179\n",
      "Training Accuracy: 0.9803, Testing Accuracy: 0.9738\n",
      "\n"
     ]
    },
    {
     "name": "stdout",
     "output_type": "stream",
     "text": [
      "Epoch 240, Loss 0.0175\n",
      "Training Accuracy: 0.9809, Testing Accuracy: 0.9738\n",
      "\n"
     ]
    },
    {
     "data": {
      "text/plain": [
       "0.010476976329242918"
      ]
     },
     "execution_count": 22,
     "metadata": {},
     "output_type": "execute_result"
    }
   ],
   "source": [
    "nn_learner.train_loop(dl)"
   ]
  },
  {
   "cell_type": "code",
   "execution_count": 23,
   "id": "e0163366",
   "metadata": {
    "execution": {
     "iopub.execute_input": "2021-11-11T20:10:19.110551Z",
     "iopub.status.busy": "2021-11-11T20:10:19.109877Z",
     "iopub.status.idle": "2021-11-11T20:10:38.008300Z",
     "shell.execute_reply": "2021-11-11T20:10:38.009264Z"
    },
    "papermill": {
     "duration": 18.955636,
     "end_time": "2021-11-11T20:10:38.009440",
     "exception": false,
     "start_time": "2021-11-11T20:10:19.053804",
     "status": "completed"
    },
    "tags": []
   },
   "outputs": [
    {
     "name": "stdout",
     "output_type": "stream",
     "text": [
      "Epoch 0, Loss 0.2333\n",
      "Training Accuracy: 0.6910, Testing Accuracy: 0.7036\n",
      "\n"
     ]
    },
    {
     "name": "stdout",
     "output_type": "stream",
     "text": [
      "Epoch 10, Loss 0.1058\n",
      "Training Accuracy: 0.9010, Testing Accuracy: 0.9113\n",
      "\n"
     ]
    },
    {
     "name": "stdout",
     "output_type": "stream",
     "text": [
      "Epoch 20, Loss 0.0806\n",
      "Training Accuracy: 0.9254, Testing Accuracy: 0.9360\n",
      "\n"
     ]
    },
    {
     "name": "stdout",
     "output_type": "stream",
     "text": [
      "Epoch 30, Loss 0.0689\n",
      "Training Accuracy: 0.9348, Testing Accuracy: 0.9446\n",
      "\n"
     ]
    },
    {
     "name": "stdout",
     "output_type": "stream",
     "text": [
      "Epoch 40, Loss 0.062\n",
      "Training Accuracy: 0.9405, Testing Accuracy: 0.9511\n",
      "\n"
     ]
    },
    {
     "name": "stdout",
     "output_type": "stream",
     "text": [
      "Epoch 50, Loss 0.0573\n",
      "Training Accuracy: 0.9445, Testing Accuracy: 0.9551\n",
      "\n"
     ]
    },
    {
     "name": "stdout",
     "output_type": "stream",
     "text": [
      "Epoch 60, Loss 0.0539\n",
      "Training Accuracy: 0.9475, Testing Accuracy: 0.9572\n",
      "\n"
     ]
    },
    {
     "name": "stdout",
     "output_type": "stream",
     "text": [
      "Epoch 70, Loss 0.0513\n",
      "Training Accuracy: 0.9493, Testing Accuracy: 0.9587\n",
      "\n"
     ]
    },
    {
     "name": "stdout",
     "output_type": "stream",
     "text": [
      "Epoch 80, Loss 0.0492\n",
      "Training Accuracy: 0.9506, Testing Accuracy: 0.9607\n",
      "\n"
     ]
    },
    {
     "name": "stdout",
     "output_type": "stream",
     "text": [
      "Epoch 90, Loss 0.0475\n",
      "Training Accuracy: 0.9520, Testing Accuracy: 0.9627\n",
      "\n"
     ]
    },
    {
     "name": "stdout",
     "output_type": "stream",
     "text": [
      "Epoch 100, Loss 0.046\n",
      "Training Accuracy: 0.9530, Testing Accuracy: 0.9642\n",
      "\n"
     ]
    },
    {
     "name": "stdout",
     "output_type": "stream",
     "text": [
      "Epoch 110, Loss 0.0448\n",
      "Training Accuracy: 0.9539, Testing Accuracy: 0.9652\n",
      "\n"
     ]
    },
    {
     "name": "stdout",
     "output_type": "stream",
     "text": [
      "Epoch 120, Loss 0.0437\n",
      "Training Accuracy: 0.9548, Testing Accuracy: 0.9657\n",
      "\n"
     ]
    },
    {
     "name": "stdout",
     "output_type": "stream",
     "text": [
      "Epoch 130, Loss 0.0428\n",
      "Training Accuracy: 0.9559, Testing Accuracy: 0.9662\n",
      "\n"
     ]
    },
    {
     "name": "stdout",
     "output_type": "stream",
     "text": [
      "Epoch 140, Loss 0.042\n",
      "Training Accuracy: 0.9563, Testing Accuracy: 0.9667\n",
      "\n"
     ]
    },
    {
     "name": "stdout",
     "output_type": "stream",
     "text": [
      "Epoch 150, Loss 0.0412\n",
      "Training Accuracy: 0.9568, Testing Accuracy: 0.9672\n",
      "\n"
     ]
    },
    {
     "name": "stdout",
     "output_type": "stream",
     "text": [
      "Epoch 160, Loss 0.0406\n",
      "Training Accuracy: 0.9577, Testing Accuracy: 0.9672\n",
      "\n"
     ]
    },
    {
     "name": "stdout",
     "output_type": "stream",
     "text": [
      "Epoch 170, Loss 0.04\n",
      "Training Accuracy: 0.9585, Testing Accuracy: 0.9672\n",
      "\n"
     ]
    },
    {
     "name": "stdout",
     "output_type": "stream",
     "text": [
      "Epoch 180, Loss 0.0394\n",
      "Training Accuracy: 0.9588, Testing Accuracy: 0.9677\n",
      "\n"
     ]
    },
    {
     "name": "stdout",
     "output_type": "stream",
     "text": [
      "Epoch 190, Loss 0.0389\n",
      "Training Accuracy: 0.9590, Testing Accuracy: 0.9677\n",
      "\n"
     ]
    },
    {
     "name": "stdout",
     "output_type": "stream",
     "text": [
      "Epoch 200, Loss 0.0384\n",
      "Training Accuracy: 0.9594, Testing Accuracy: 0.9677\n",
      "\n"
     ]
    },
    {
     "name": "stdout",
     "output_type": "stream",
     "text": [
      "Epoch 210, Loss 0.038\n",
      "Training Accuracy: 0.9596, Testing Accuracy: 0.9672\n",
      "\n"
     ]
    },
    {
     "name": "stdout",
     "output_type": "stream",
     "text": [
      "Epoch 220, Loss 0.0376\n",
      "Training Accuracy: 0.9599, Testing Accuracy: 0.9672\n",
      "\n"
     ]
    },
    {
     "name": "stdout",
     "output_type": "stream",
     "text": [
      "Epoch 230, Loss 0.0372\n",
      "Training Accuracy: 0.9601, Testing Accuracy: 0.9672\n",
      "\n"
     ]
    },
    {
     "name": "stdout",
     "output_type": "stream",
     "text": [
      "Epoch 240, Loss 0.0368\n",
      "Training Accuracy: 0.9607, Testing Accuracy: 0.9667\n",
      "\n"
     ]
    },
    {
     "data": {
      "text/plain": [
       "0.01800238472031314"
      ]
     },
     "execution_count": 23,
     "metadata": {},
     "output_type": "execute_result"
    }
   ],
   "source": [
    "lr_learner.train_loop(dl)"
   ]
  },
  {
   "cell_type": "code",
   "execution_count": 24,
   "id": "ca410940",
   "metadata": {
    "execution": {
     "iopub.execute_input": "2021-11-11T20:10:38.126361Z",
     "iopub.status.busy": "2021-11-11T20:10:38.125664Z",
     "iopub.status.idle": "2021-11-11T20:10:38.449875Z",
     "shell.execute_reply": "2021-11-11T20:10:38.449304Z"
    },
    "papermill": {
     "duration": 0.3859,
     "end_time": "2021-11-11T20:10:38.450016",
     "exception": false,
     "start_time": "2021-11-11T20:10:38.064116",
     "status": "completed"
    },
    "tags": []
   },
   "outputs": [
    {
     "data": {
      "text/plain": [
       "<matplotlib.legend.Legend at 0x7ff3ad1de828>"
      ]
     },
     "execution_count": 24,
     "metadata": {},
     "output_type": "execute_result"
    },
    {
     "data": {
      "image/png": "[encoded data removed]",
      "text/plain": [
       "<Figure size 1080x720 with 1 Axes>"
      ]
     },
     "metadata": {
      "needs_background": "light"
     },
     "output_type": "display_data"
    }
   ],
   "source": [
    "#comparing the results of NN and LR\n",
    "plt.figure(figsize=(15,10))\n",
    "\n",
    "# Neural Network plots\n",
    "plt.plot(acc_nn.accuracies, 'r-', label = \"Training Accuracies - NN\")\n",
    "plt.plot(acc_nn.test_accuracies, 'g-', label = \"Testing Accuracies - NN\")\n",
    "\n",
    "# Logistic Regression plots\n",
    "plt.plot(acc_lr.accuracies, 'k-', label = \"Training Accuracies - LR\")\n",
    "plt.plot(acc_lr.test_accuracies, 'b-', label = \"Testing Accuracies - LR\")\n",
    "plt.legend()"
   ]
  },
  {
   "cell_type": "markdown",
   "id": "80dfb35c",
   "metadata": {
    "papermill": {
     "duration": 0.053808,
     "end_time": "2021-11-11T20:10:38.556949",
     "exception": false,
     "start_time": "2021-11-11T20:10:38.503141",
     "status": "completed"
    },
    "tags": []
   },
   "source": [
    "#### Plotting the outputs of this layer of the NN.\n"
   ]
  },
  {
   "cell_type": "code",
   "execution_count": 25,
   "id": "45eb2ff5",
   "metadata": {
    "execution": {
     "iopub.execute_input": "2021-11-11T20:10:38.682334Z",
     "iopub.status.busy": "2021-11-11T20:10:38.681675Z",
     "iopub.status.idle": "2021-11-11T20:10:38.707895Z",
     "shell.execute_reply": "2021-11-11T20:10:38.708445Z"
    },
    "papermill": {
     "duration": 0.097141,
     "end_time": "2021-11-11T20:10:38.708620",
     "exception": false,
     "start_time": "2021-11-11T20:10:38.611479",
     "status": "completed"
    },
    "tags": []
   },
   "outputs": [],
   "source": [
    "new_model = Model(layers[:-2])\n",
    "testing_plot = new_model(testing_data_x)"
   ]
  },
  {
   "cell_type": "code",
   "execution_count": 26,
   "id": "4c0a5485",
   "metadata": {
    "execution": {
     "iopub.execute_input": "2021-11-11T20:10:38.824030Z",
     "iopub.status.busy": "2021-11-11T20:10:38.823356Z",
     "iopub.status.idle": "2021-11-11T20:10:39.092748Z",
     "shell.execute_reply": "2021-11-11T20:10:39.092193Z"
    },
    "papermill": {
     "duration": 0.33026,
     "end_time": "2021-11-11T20:10:39.092923",
     "exception": false,
     "start_time": "2021-11-11T20:10:38.762663",
     "status": "completed"
    },
    "tags": []
   },
   "outputs": [
    {
     "data": {
      "text/plain": [
       "Text(0.5, 1.0, 'Outputs')"
      ]
     },
     "execution_count": 26,
     "metadata": {},
     "output_type": "execute_result"
    },
    {
     "data": {
      "image/png": "[encoded data removed]",
      "text/plain": [
       "<Figure size 576x504 with 1 Axes>"
      ]
     },
     "metadata": {
      "needs_background": "light"
     },
     "output_type": "display_data"
    }
   ],
   "source": [
    "# Plotting the scatter plot of points and color coding by class\n",
    "plt.figure(figsize=(8,7))\n",
    "plt.scatter(testing_plot[:,0], testing_plot[:,1], alpha = 0.1, c = y_test.ravel());\n",
    "plt.title('Outputs')"
   ]
  },
  {
   "cell_type": "markdown",
   "id": "a74fcf8f",
   "metadata": {
    "papermill": {
     "duration": 0.057415,
     "end_time": "2021-11-11T20:10:39.207986",
     "exception": false,
     "start_time": "2021-11-11T20:10:39.150571",
     "status": "completed"
    },
    "tags": []
   },
   "source": [
    "Probability contours"
   ]
  },
  {
   "cell_type": "code",
   "execution_count": 27,
   "id": "d0afc8e3",
   "metadata": {
    "execution": {
     "iopub.execute_input": "2021-11-11T20:10:39.362145Z",
     "iopub.status.busy": "2021-11-11T20:10:39.361477Z",
     "iopub.status.idle": "2021-11-11T20:10:39.373530Z",
     "shell.execute_reply": "2021-11-11T20:10:39.372924Z"
    },
    "papermill": {
     "duration": 0.081586,
     "end_time": "2021-11-11T20:10:39.373682",
     "exception": false,
     "start_time": "2021-11-11T20:10:39.292096",
     "status": "completed"
    },
    "tags": []
   },
   "outputs": [],
   "source": [
    "model_prob = Model(layers[-2:]) "
   ]
  },
  {
   "cell_type": "code",
   "execution_count": 28,
   "id": "9b96e238",
   "metadata": {
    "execution": {
     "iopub.execute_input": "2021-11-11T20:10:39.493680Z",
     "iopub.status.busy": "2021-11-11T20:10:39.491600Z",
     "iopub.status.idle": "2021-11-11T20:10:39.509442Z",
     "shell.execute_reply": "2021-11-11T20:10:39.508848Z"
    },
    "papermill": {
     "duration": 0.079049,
     "end_time": "2021-11-11T20:10:39.509589",
     "exception": false,
     "start_time": "2021-11-11T20:10:39.430540",
     "status": "completed"
    },
    "tags": []
   },
   "outputs": [],
   "source": [
    "#creating the x and y ranges according to the above generated plot.\n",
    "x_range = np.linspace(-4, 1, 100) \n",
    "y_range = np.linspace(-6, 6, 100) \n",
    "x_grid, y_grid = np.meshgrid(x_range, y_range) # x_grid and y_grig are of size 100 X 100\n",
    "\n",
    "# converting x_grid and y_grid to continuous arrays\n",
    "x_gridflat = np.ravel(x_grid)\n",
    "y_gridflat = np.ravel(y_grid)\n",
    "\n",
    "# The last layer of the current model takes two columns as input. Hence transpose of np.vstack() is required.\n",
    "X = np.vstack((x_gridflat, y_gridflat)).T\n",
    "\n",
    "prob_contour = model_prob(X).reshape(100,100) "
   ]
  },
  {
   "cell_type": "code",
   "execution_count": 29,
   "id": "da72499a",
   "metadata": {
    "execution": {
     "iopub.execute_input": "2021-11-11T20:10:39.629954Z",
     "iopub.status.busy": "2021-11-11T20:10:39.629291Z",
     "iopub.status.idle": "2021-11-11T20:10:39.975977Z",
     "shell.execute_reply": "2021-11-11T20:10:39.975417Z"
    },
    "papermill": {
     "duration": 0.409486,
     "end_time": "2021-11-11T20:10:39.976139",
     "exception": false,
     "start_time": "2021-11-11T20:10:39.566653",
     "status": "completed"
    },
    "tags": []
   },
   "outputs": [
    {
     "data": {
      "image/png": "[encoded data removed]",
      "text/plain": [
       "<Figure size 720x648 with 1 Axes>"
      ]
     },
     "metadata": {
      "needs_background": "light"
     },
     "output_type": "display_data"
    }
   ],
   "source": [
    "plt.figure(figsize=(10,9))\n",
    "plt.scatter(testing_plot[:,0], testing_plot[:,1], alpha = 0.1, c = y_test.ravel())\n",
    "contours = plt.contour(x_grid,y_grid,prob_contour)\n",
    "plt.title('Probability Contours')\n",
    "plt.clabel(contours, inline = True );"
   ]
  },
  {
   "cell_type": "code",
   "execution_count": null,
   "id": "e81b4ac7",
   "metadata": {
    "papermill": {
     "duration": 0.060739,
     "end_time": "2021-11-11T20:10:40.098867",
     "exception": false,
     "start_time": "2021-11-11T20:10:40.038128",
     "status": "completed"
    },
    "tags": []
   },
   "outputs": [],
   "source": []
  }
 ],
 "metadata": {
  "kernelspec": {
   "display_name": "Python 3",
   "language": "python",
   "name": "python3"
  },
  "language_info": {
   "codemirror_mode": {
    "name": "ipython",
    "version": 3
   },
   "file_extension": ".py",
   "mimetype": "text/x-python",
   "name": "python",
   "nbconvert_exporter": "python",
   "pygments_lexer": "ipython3",
   "version": "3.6.15"
  },
  "papermill": {
   "default_parameters": {},
   "duration": 157.198017,
   "end_time": "2021-11-11T20:10:40.567845",
   "environment_variables": {},
   "exception": null,
   "input_path": "2020-08-11-part2.ipynb",
   "output_path": "2020-08-11-part2.ipynb",
   "parameters": {},
   "start_time": "2021-11-11T20:08:03.369828",
   "version": "2.3.3"
  }
 },
 "nbformat": 4,
 "nbformat_minor": 5
}