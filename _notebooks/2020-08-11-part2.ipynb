{
 "cells": [
  {
   "cell_type": "markdown",
   "id": "98380cd3",
   "metadata": {
    "papermill": {
     "duration": 0.041961,
     "end_time": "2022-08-15T00:44:02.411667",
     "exception": false,
     "start_time": "2022-08-15T00:44:02.369706",
     "status": "completed"
    },
    "tags": []
   },
   "source": [
    "# Distinguish Your Own Digits (DYOD)"
   ]
  },
  {
   "cell_type": "markdown",
   "id": "ef31240d",
   "metadata": {
    "papermill": {
     "duration": 0.03431,
     "end_time": "2022-08-15T00:44:02.479242",
     "exception": false,
     "start_time": "2022-08-15T00:44:02.444932",
     "status": "completed"
    },
    "tags": []
   },
   "source": [
    "You are going to write a classifier that distinguishes between the number 3 and number 8."
   ]
  },
  {
   "cell_type": "code",
   "execution_count": 1,
   "id": "b15c8646",
   "metadata": {
    "execution": {
     "iopub.execute_input": "2022-08-15T00:44:02.554325Z",
     "iopub.status.busy": "2022-08-15T00:44:02.553554Z",
     "iopub.status.idle": "2022-08-15T00:44:02.572132Z",
     "shell.execute_reply": "2022-08-15T00:44:02.571541Z"
    },
    "papermill": {
     "duration": 0.061704,
     "end_time": "2022-08-15T00:44:02.572331",
     "exception": false,
     "start_time": "2022-08-15T00:44:02.510627",
     "status": "completed"
    },
    "tags": []
   },
   "outputs": [],
   "source": [
    "%load_ext autoreload\n",
    "%autoreload 2"
   ]
  },
  {
   "cell_type": "code",
   "execution_count": 2,
   "id": "22ef38dc",
   "metadata": {
    "execution": {
     "iopub.execute_input": "2022-08-15T00:44:02.648014Z",
     "iopub.status.busy": "2022-08-15T00:44:02.643665Z",
     "iopub.status.idle": "2022-08-15T00:44:03.336320Z",
     "shell.execute_reply": "2022-08-15T00:44:03.336925Z"
    },
    "papermill": {
     "duration": 0.733354,
     "end_time": "2022-08-15T00:44:03.337156",
     "exception": false,
     "start_time": "2022-08-15T00:44:02.603802",
     "status": "completed"
    },
    "tags": []
   },
   "outputs": [],
   "source": [
    "%matplotlib inline\n",
    "import numpy as np\n",
    "import matplotlib.pyplot as plt\n",
    "import pandas as pd"
   ]
  },
  {
   "cell_type": "markdown",
   "id": "ba036198",
   "metadata": {
    "papermill": {
     "duration": 0.030766,
     "end_time": "2022-08-15T00:44:03.399716",
     "exception": false,
     "start_time": "2022-08-15T00:44:03.368950",
     "status": "completed"
    },
    "tags": []
   },
   "source": [
    "From the command line run `pip install mnist`. This is a library that will help you bring down the mnist dataset. If you run this from a notebook, you need to put  `!pip install mnist` in a cell by itself."
   ]
  },
  {
   "cell_type": "code",
   "execution_count": 3,
   "id": "bb6ad8a1",
   "metadata": {
    "execution": {
     "iopub.execute_input": "2022-08-15T00:44:03.466904Z",
     "iopub.status.busy": "2022-08-15T00:44:03.466168Z",
     "iopub.status.idle": "2022-08-15T00:44:06.300519Z",
     "shell.execute_reply": "2022-08-15T00:44:06.299792Z"
    },
    "papermill": {
     "duration": 2.870688,
     "end_time": "2022-08-15T00:44:06.300669",
     "exception": false,
     "start_time": "2022-08-15T00:44:03.429981",
     "status": "completed"
    },
    "tags": []
   },
   "outputs": [
    {
     "name": "stdout",
     "output_type": "stream",
     "text": [
      "Collecting mnist\r\n"
     ]
    },
    {
     "name": "stdout",
     "output_type": "stream",
     "text": [
      "  Downloading mnist-0.2.2-py2.py3-none-any.whl (3.5 kB)\r\n",
      "Requirement already satisfied: numpy in /opt/hostedtoolcache/Python/3.6.15/x64/lib/python3.6/site-packages (from mnist) (1.19.5)\r\n"
     ]
    },
    {
     "name": "stdout",
     "output_type": "stream",
     "text": [
      "Installing collected packages: mnist\r\n"
     ]
    },
    {
     "name": "stdout",
     "output_type": "stream",
     "text": [
      "Successfully installed mnist-0.2.2\r\n"
     ]
    }
   ],
   "source": [
    "!pip install mnist"
   ]
  },
  {
   "cell_type": "markdown",
   "id": "69df9c9a",
   "metadata": {
    "papermill": {
     "duration": 0.029753,
     "end_time": "2022-08-15T00:44:06.360967",
     "exception": false,
     "start_time": "2022-08-15T00:44:06.331214",
     "status": "completed"
    },
    "tags": []
   },
   "source": [
    "## Preparing the Data"
   ]
  },
  {
   "cell_type": "code",
   "execution_count": 4,
   "id": "7f69d806",
   "metadata": {
    "execution": {
     "iopub.execute_input": "2022-08-15T00:44:06.440500Z",
     "iopub.status.busy": "2022-08-15T00:44:06.426405Z",
     "iopub.status.idle": "2022-08-15T00:44:06.447569Z",
     "shell.execute_reply": "2022-08-15T00:44:06.447012Z"
    },
    "papermill": {
     "duration": 0.056836,
     "end_time": "2022-08-15T00:44:06.447701",
     "exception": false,
     "start_time": "2022-08-15T00:44:06.390865",
     "status": "completed"
    },
    "tags": []
   },
   "outputs": [],
   "source": [
    "import mnist"
   ]
  },
  {
   "cell_type": "code",
   "execution_count": 5,
   "id": "a411e44f",
   "metadata": {
    "execution": {
     "iopub.execute_input": "2022-08-15T00:44:06.517678Z",
     "iopub.status.busy": "2022-08-15T00:44:06.511080Z",
     "iopub.status.idle": "2022-08-15T00:44:07.126889Z",
     "shell.execute_reply": "2022-08-15T00:44:07.127476Z"
    },
    "papermill": {
     "duration": 0.650417,
     "end_time": "2022-08-15T00:44:07.127664",
     "exception": false,
     "start_time": "2022-08-15T00:44:06.477247",
     "status": "completed"
    },
    "tags": []
   },
   "outputs": [],
   "source": [
    "train_images = mnist.train_images()\n",
    "train_labels = mnist.train_labels()"
   ]
  },
  {
   "cell_type": "code",
   "execution_count": 6,
   "id": "dceab3a5",
   "metadata": {
    "execution": {
     "iopub.execute_input": "2022-08-15T00:44:07.198040Z",
     "iopub.status.busy": "2022-08-15T00:44:07.196990Z",
     "iopub.status.idle": "2022-08-15T00:44:07.216879Z",
     "shell.execute_reply": "2022-08-15T00:44:07.217530Z"
    },
    "papermill": {
     "duration": 0.058596,
     "end_time": "2022-08-15T00:44:07.217675",
     "exception": false,
     "start_time": "2022-08-15T00:44:07.159079",
     "status": "completed"
    },
    "tags": []
   },
   "outputs": [
    {
     "data": {
      "text/plain": [
       "((60000, 28, 28), (60000,))"
      ]
     },
     "execution_count": 6,
     "metadata": {},
     "output_type": "execute_result"
    }
   ],
   "source": [
    "train_images.shape, train_labels.shape"
   ]
  },
  {
   "cell_type": "code",
   "execution_count": 7,
   "id": "f50dc2bb",
   "metadata": {
    "execution": {
     "iopub.execute_input": "2022-08-15T00:44:07.295355Z",
     "iopub.status.busy": "2022-08-15T00:44:07.287163Z",
     "iopub.status.idle": "2022-08-15T00:44:07.496566Z",
     "shell.execute_reply": "2022-08-15T00:44:07.497145Z"
    },
    "papermill": {
     "duration": 0.248507,
     "end_time": "2022-08-15T00:44:07.497328",
     "exception": false,
     "start_time": "2022-08-15T00:44:07.248821",
     "status": "completed"
    },
    "tags": []
   },
   "outputs": [],
   "source": [
    "test_images = mnist.test_images()\n",
    "test_labels = mnist.test_labels()"
   ]
  },
  {
   "cell_type": "code",
   "execution_count": 8,
   "id": "fc38cf1b",
   "metadata": {
    "execution": {
     "iopub.execute_input": "2022-08-15T00:44:07.570943Z",
     "iopub.status.busy": "2022-08-15T00:44:07.569665Z",
     "iopub.status.idle": "2022-08-15T00:44:07.584517Z",
     "shell.execute_reply": "2022-08-15T00:44:07.585296Z"
    },
    "papermill": {
     "duration": 0.055239,
     "end_time": "2022-08-15T00:44:07.585465",
     "exception": false,
     "start_time": "2022-08-15T00:44:07.530226",
     "status": "completed"
    },
    "tags": []
   },
   "outputs": [
    {
     "data": {
      "text/plain": [
       "((10000, 28, 28), (10000,))"
      ]
     },
     "execution_count": 8,
     "metadata": {},
     "output_type": "execute_result"
    }
   ],
   "source": [
    "test_images.shape, test_labels.shape"
   ]
  },
  {
   "cell_type": "code",
   "execution_count": 9,
   "id": "f9ed8fe0",
   "metadata": {
    "execution": {
     "iopub.execute_input": "2022-08-15T00:44:07.661393Z",
     "iopub.status.busy": "2022-08-15T00:44:07.654314Z",
     "iopub.status.idle": "2022-08-15T00:44:07.860051Z",
     "shell.execute_reply": "2022-08-15T00:44:07.859506Z"
    },
    "papermill": {
     "duration": 0.242296,
     "end_time": "2022-08-15T00:44:07.860188",
     "exception": false,
     "start_time": "2022-08-15T00:44:07.617892",
     "status": "completed"
    },
    "tags": []
   },
   "outputs": [
    {
     "name": "stdout",
     "output_type": "stream",
     "text": [
      "2\n"
     ]
    },
    {
     "data": {
      "text/plain": [
       "<matplotlib.image.AxesImage at 0x7fb5f6e89518>"
      ]
     },
     "execution_count": 9,
     "metadata": {},
     "output_type": "execute_result"
    },
    {
     "data": {
      "image/png": "[encoded data removed]",
      "text/plain": [
       "<Figure size 432x288 with 1 Axes>"
      ]
     },
     "metadata": {
      "needs_background": "light"
     },
     "output_type": "display_data"
    }
   ],
   "source": [
    "image_index = 7776 # You may select anything up to 60,000\n",
    "print(train_labels[image_index]) \n",
    "plt.imshow(train_images[image_index], cmap='Greys')"
   ]
  },
  {
   "cell_type": "markdown",
   "id": "a8d2388d",
   "metadata": {
    "papermill": {
     "duration": 0.032092,
     "end_time": "2022-08-15T00:44:07.925333",
     "exception": false,
     "start_time": "2022-08-15T00:44:07.893241",
     "status": "completed"
    },
    "tags": []
   },
   "source": [
    "## Filter data to get 3 and 8 out"
   ]
  },
  {
   "cell_type": "code",
   "execution_count": 10,
   "id": "776f7fc7",
   "metadata": {
    "execution": {
     "iopub.execute_input": "2022-08-15T00:44:08.001232Z",
     "iopub.status.busy": "2022-08-15T00:44:07.998318Z",
     "iopub.status.idle": "2022-08-15T00:44:08.021218Z",
     "shell.execute_reply": "2022-08-15T00:44:08.020586Z"
    },
    "papermill": {
     "duration": 0.064031,
     "end_time": "2022-08-15T00:44:08.021371",
     "exception": false,
     "start_time": "2022-08-15T00:44:07.957340",
     "status": "completed"
    },
    "tags": []
   },
   "outputs": [],
   "source": [
    "train_filter = np.where((train_labels == 3 ) | (train_labels == 8))\n",
    "test_filter = np.where((test_labels == 3) | (test_labels == 8))\n",
    "X_train, y_train = train_images[train_filter], train_labels[train_filter]\n",
    "X_test, y_test = test_images[test_filter], test_labels[test_filter]"
   ]
  },
  {
   "cell_type": "markdown",
   "id": "948f0b7e",
   "metadata": {
    "papermill": {
     "duration": 0.035812,
     "end_time": "2022-08-15T00:44:08.093077",
     "exception": false,
     "start_time": "2022-08-15T00:44:08.057265",
     "status": "completed"
    },
    "tags": []
   },
   "source": [
    "We normalize the pizel values in the 0 to 1 range"
   ]
  },
  {
   "cell_type": "code",
   "execution_count": 11,
   "id": "ee4c2166",
   "metadata": {
    "execution": {
     "iopub.execute_input": "2022-08-15T00:44:08.176254Z",
     "iopub.status.busy": "2022-08-15T00:44:08.166250Z",
     "iopub.status.idle": "2022-08-15T00:44:08.229017Z",
     "shell.execute_reply": "2022-08-15T00:44:08.227556Z"
    },
    "papermill": {
     "duration": 0.104855,
     "end_time": "2022-08-15T00:44:08.229183",
     "exception": false,
     "start_time": "2022-08-15T00:44:08.124328",
     "status": "completed"
    },
    "tags": []
   },
   "outputs": [],
   "source": [
    "X_train = X_train/255.\n",
    "X_test = X_test/255."
   ]
  },
  {
   "cell_type": "markdown",
   "id": "ddcf4fab",
   "metadata": {
    "papermill": {
     "duration": 0.033814,
     "end_time": "2022-08-15T00:44:08.294863",
     "exception": false,
     "start_time": "2022-08-15T00:44:08.261049",
     "status": "completed"
    },
    "tags": []
   },
   "source": [
    "And setup the labels as 1 (when the digit is 3) and 0 (when the digit is 8)"
   ]
  },
  {
   "cell_type": "code",
   "execution_count": 12,
   "id": "7dc908f2",
   "metadata": {
    "execution": {
     "iopub.execute_input": "2022-08-15T00:44:08.368189Z",
     "iopub.status.busy": "2022-08-15T00:44:08.367431Z",
     "iopub.status.idle": "2022-08-15T00:44:08.380850Z",
     "shell.execute_reply": "2022-08-15T00:44:08.380054Z"
    },
    "papermill": {
     "duration": 0.05381,
     "end_time": "2022-08-15T00:44:08.380991",
     "exception": false,
     "start_time": "2022-08-15T00:44:08.327181",
     "status": "completed"
    },
    "tags": []
   },
   "outputs": [],
   "source": [
    "y_train = 1*(y_train==3)\n",
    "y_test = 1*(y_test==3)"
   ]
  },
  {
   "cell_type": "code",
   "execution_count": 13,
   "id": "01e4e969",
   "metadata": {
    "execution": {
     "iopub.execute_input": "2022-08-15T00:44:08.451325Z",
     "iopub.status.busy": "2022-08-15T00:44:08.450087Z",
     "iopub.status.idle": "2022-08-15T00:44:08.467029Z",
     "shell.execute_reply": "2022-08-15T00:44:08.467704Z"
    },
    "papermill": {
     "duration": 0.053423,
     "end_time": "2022-08-15T00:44:08.467869",
     "exception": false,
     "start_time": "2022-08-15T00:44:08.414446",
     "status": "completed"
    },
    "tags": []
   },
   "outputs": [
    {
     "data": {
      "text/plain": [
       "((11982, 28, 28), (1984, 28, 28))"
      ]
     },
     "execution_count": 13,
     "metadata": {},
     "output_type": "execute_result"
    }
   ],
   "source": [
    "X_train.shape, X_test.shape"
   ]
  },
  {
   "cell_type": "markdown",
   "id": "5ccf3f85",
   "metadata": {
    "papermill": {
     "duration": 0.034374,
     "end_time": "2022-08-15T00:44:08.544176",
     "exception": false,
     "start_time": "2022-08-15T00:44:08.509802",
     "status": "completed"
    },
    "tags": []
   },
   "source": [
    "We reshape the data to flatten the image pixels into a set of features or co-variates:"
   ]
  },
  {
   "cell_type": "code",
   "execution_count": 14,
   "id": "5286a4a3",
   "metadata": {
    "execution": {
     "iopub.execute_input": "2022-08-15T00:44:08.616503Z",
     "iopub.status.busy": "2022-08-15T00:44:08.615727Z",
     "iopub.status.idle": "2022-08-15T00:44:08.631946Z",
     "shell.execute_reply": "2022-08-15T00:44:08.632657Z"
    },
    "papermill": {
     "duration": 0.055037,
     "end_time": "2022-08-15T00:44:08.632797",
     "exception": false,
     "start_time": "2022-08-15T00:44:08.577760",
     "status": "completed"
    },
    "tags": []
   },
   "outputs": [
    {
     "data": {
      "text/plain": [
       "((11982, 784), (1984, 784))"
      ]
     },
     "execution_count": 14,
     "metadata": {},
     "output_type": "execute_result"
    }
   ],
   "source": [
    "X_train = X_train.reshape(X_train.shape[0], -1)\n",
    "X_test = X_test.reshape(X_test.shape[0], -1)\n",
    "X_train.shape, X_test.shape"
   ]
  },
  {
   "cell_type": "code",
   "execution_count": 15,
   "id": "73c5f88a",
   "metadata": {
    "execution": {
     "iopub.execute_input": "2022-08-15T00:44:08.705869Z",
     "iopub.status.busy": "2022-08-15T00:44:08.705073Z",
     "iopub.status.idle": "2022-08-15T00:44:08.727218Z",
     "shell.execute_reply": "2022-08-15T00:44:08.726591Z"
    },
    "papermill": {
     "duration": 0.06303,
     "end_time": "2022-08-15T00:44:08.727360",
     "exception": false,
     "start_time": "2022-08-15T00:44:08.664330",
     "status": "completed"
    },
    "tags": []
   },
   "outputs": [],
   "source": [
    "#Impoting functions from 'Kudzu'\n",
    "from kudzu.model import Model\n",
    "from kudzu.train import Learner\n",
    "from kudzu.optim import GD\n",
    "from kudzu.data import Data, Sampler,Dataloader\n",
    "\n",
    "from kudzu.callbacks import AccCallback\n",
    "from kudzu.callbacks import ClfCallback\n",
    "\n",
    "from kudzu.loss import MSE\n",
    "\n",
    "from kudzu.layer import Sigmoid,Relu\n",
    "from kudzu.layer import Affine"
   ]
  },
  {
   "cell_type": "markdown",
   "id": "bc01172a",
   "metadata": {
    "papermill": {
     "duration": 0.034837,
     "end_time": "2022-08-15T00:44:08.804769",
     "exception": false,
     "start_time": "2022-08-15T00:44:08.769932",
     "status": "completed"
    },
    "tags": []
   },
   "source": [
    "### Let us create a `Config` class, to store important parameters. \n",
    "This class essentially plays the role of a dictionary."
   ]
  },
  {
   "cell_type": "code",
   "execution_count": 16,
   "id": "978281aa",
   "metadata": {
    "execution": {
     "iopub.execute_input": "2022-08-15T00:44:08.879120Z",
     "iopub.status.busy": "2022-08-15T00:44:08.878243Z",
     "iopub.status.idle": "2022-08-15T00:44:08.889625Z",
     "shell.execute_reply": "2022-08-15T00:44:08.890175Z"
    },
    "papermill": {
     "duration": 0.053001,
     "end_time": "2022-08-15T00:44:08.890313",
     "exception": false,
     "start_time": "2022-08-15T00:44:08.837312",
     "status": "completed"
    },
    "tags": []
   },
   "outputs": [],
   "source": [
    "class Config:\n",
    "    pass\n",
    "config = Config()\n",
    "config.lr = 0.001\n",
    "config.num_epochs = 250\n",
    "config.bs = 50"
   ]
  },
  {
   "cell_type": "markdown",
   "id": "1385fa59",
   "metadata": {
    "papermill": {
     "duration": 0.030857,
     "end_time": "2022-08-15T00:44:08.952747",
     "exception": false,
     "start_time": "2022-08-15T00:44:08.921890",
     "status": "completed"
    },
    "tags": []
   },
   "source": [
    "### Running Models with the Training data\n",
    "Details about the network layers:\n",
    "- A first affine layer has 784 inputs and does 100 affine transforms. These are followed by a Relu\n",
    "- A second affine layer has 100 inputs from the 100 activations of the past layer, and does 100 affine transforms. These are followed by a Relu\n",
    "- A third affine layer has 100 activations and does 2 affine transformations to create an embedding for visualization. There is no non-linearity here.\n",
    "- A final \"logistic regression\" which has an affine transform from 2 inputs to 1 output, which is squeezed through a sigmoid.\n"
   ]
  },
  {
   "cell_type": "code",
   "execution_count": 17,
   "id": "2b9c66db",
   "metadata": {
    "execution": {
     "iopub.execute_input": "2022-08-15T00:44:09.022831Z",
     "iopub.status.busy": "2022-08-15T00:44:09.022069Z",
     "iopub.status.idle": "2022-08-15T00:44:09.039599Z",
     "shell.execute_reply": "2022-08-15T00:44:09.040356Z"
    },
    "papermill": {
     "duration": 0.055806,
     "end_time": "2022-08-15T00:44:09.040543",
     "exception": false,
     "start_time": "2022-08-15T00:44:08.984737",
     "status": "completed"
    },
    "tags": []
   },
   "outputs": [],
   "source": [
    "data = Data(X_train, y_train.reshape(-1,1))\n",
    "sampler = Sampler(data, config.bs, shuffle=True)\n",
    "\n",
    "dl = Dataloader(data, sampler)\n",
    "\n",
    "opt = GD(config.lr)\n",
    "loss = MSE()"
   ]
  },
  {
   "cell_type": "code",
   "execution_count": 18,
   "id": "b275e4c2",
   "metadata": {
    "execution": {
     "iopub.execute_input": "2022-08-15T00:44:09.127000Z",
     "iopub.status.busy": "2022-08-15T00:44:09.126232Z",
     "iopub.status.idle": "2022-08-15T00:44:09.134699Z",
     "shell.execute_reply": "2022-08-15T00:44:09.134031Z"
    },
    "papermill": {
     "duration": 0.060368,
     "end_time": "2022-08-15T00:44:09.134837",
     "exception": false,
     "start_time": "2022-08-15T00:44:09.074469",
     "status": "completed"
    },
    "tags": []
   },
   "outputs": [],
   "source": [
    "training_data_x = X_train\n",
    "testing_data_x = X_test\n",
    "training_data_y = y_train.reshape(-1,1)\n",
    "testing_data_y = y_test.reshape(-1,1)"
   ]
  },
  {
   "cell_type": "code",
   "execution_count": 19,
   "id": "76951160",
   "metadata": {
    "execution": {
     "iopub.execute_input": "2022-08-15T00:44:09.208912Z",
     "iopub.status.busy": "2022-08-15T00:44:09.208174Z",
     "iopub.status.idle": "2022-08-15T00:44:09.227736Z",
     "shell.execute_reply": "2022-08-15T00:44:09.227076Z"
    },
    "papermill": {
     "duration": 0.059443,
     "end_time": "2022-08-15T00:44:09.227898",
     "exception": false,
     "start_time": "2022-08-15T00:44:09.168455",
     "status": "completed"
    },
    "tags": []
   },
   "outputs": [
    {
     "name": "stdout",
     "output_type": "stream",
     "text": [
      "xavier\n",
      "xavier\n",
      "xavier\n",
      "xavier\n",
      "xavier\n"
     ]
    }
   ],
   "source": [
    "layers = [Affine(\"first\", 784, 100), Relu(\"first\"), Affine(\"second\", 100, 100), Relu(\"second\"), Affine(\"third\", 100, 2), Affine(\"last\", 2, 1), Sigmoid(\"last\")]\n",
    "model_nn = Model(layers)\n",
    "model_lr = Model([Affine(\"logits\", 784, 1), Sigmoid(\"sigmoid\")])"
   ]
  },
  {
   "cell_type": "code",
   "execution_count": 20,
   "id": "6eede77a",
   "metadata": {
    "execution": {
     "iopub.execute_input": "2022-08-15T00:44:09.302129Z",
     "iopub.status.busy": "2022-08-15T00:44:09.301428Z",
     "iopub.status.idle": "2022-08-15T00:44:09.315684Z",
     "shell.execute_reply": "2022-08-15T00:44:09.316284Z"
    },
    "papermill": {
     "duration": 0.054572,
     "end_time": "2022-08-15T00:44:09.316456",
     "exception": false,
     "start_time": "2022-08-15T00:44:09.261884",
     "status": "completed"
    },
    "tags": []
   },
   "outputs": [],
   "source": [
    "nn_learner = Learner(loss, model_nn, opt, config.num_epochs)\n",
    "acc_nn = ClfCallback(nn_learner, config.bs, training_data_x , testing_data_x, training_data_y, testing_data_y)\n",
    "nn_learner.set_callbacks([acc_nn])"
   ]
  },
  {
   "cell_type": "code",
   "execution_count": 21,
   "id": "877b6cc7",
   "metadata": {
    "execution": {
     "iopub.execute_input": "2022-08-15T00:44:09.421811Z",
     "iopub.status.busy": "2022-08-15T00:44:09.419997Z",
     "iopub.status.idle": "2022-08-15T00:44:09.425565Z",
     "shell.execute_reply": "2022-08-15T00:44:09.426115Z"
    },
    "papermill": {
     "duration": 0.070886,
     "end_time": "2022-08-15T00:44:09.426257",
     "exception": false,
     "start_time": "2022-08-15T00:44:09.355371",
     "status": "completed"
    },
    "tags": []
   },
   "outputs": [],
   "source": [
    "lr_learner = Learner(loss, model_lr, opt, config.num_epochs)\n",
    "acc_lr = ClfCallback(lr_learner, config.bs, training_data_x , testing_data_x, training_data_y, testing_data_y)\n",
    "lr_learner.set_callbacks([acc_lr])"
   ]
  },
  {
   "cell_type": "code",
   "execution_count": 22,
   "id": "d9b133c3",
   "metadata": {
    "execution": {
     "iopub.execute_input": "2022-08-15T00:44:09.501117Z",
     "iopub.status.busy": "2022-08-15T00:44:09.497522Z",
     "iopub.status.idle": "2022-08-15T00:46:17.820712Z",
     "shell.execute_reply": "2022-08-15T00:46:17.821684Z"
    },
    "papermill": {
     "duration": 128.362265,
     "end_time": "2022-08-15T00:46:17.821868",
     "exception": false,
     "start_time": "2022-08-15T00:44:09.459603",
     "status": "completed"
    },
    "tags": []
   },
   "outputs": [
    {
     "name": "stdout",
     "output_type": "stream",
     "text": [
      "Epoch 0, Loss 0.2606\n",
      "Training Accuracy: 0.4986, Testing Accuracy: 0.5101\n",
      "\n"
     ]
    },
    {
     "name": "stdout",
     "output_type": "stream",
     "text": [
      "Epoch 10, Loss 0.1171\n",
      "Training Accuracy: 0.9024, Testing Accuracy: 0.9244\n",
      "\n"
     ]
    },
    {
     "name": "stdout",
     "output_type": "stream",
     "text": [
      "Epoch 20, Loss 0.0665\n",
      "Training Accuracy: 0.9316, Testing Accuracy: 0.9471\n",
      "\n"
     ]
    },
    {
     "name": "stdout",
     "output_type": "stream",
     "text": [
      "Epoch 30, Loss 0.0499\n",
      "Training Accuracy: 0.9448, Testing Accuracy: 0.9561\n",
      "\n"
     ]
    },
    {
     "name": "stdout",
     "output_type": "stream",
     "text": [
      "Epoch 40, Loss 0.042\n",
      "Training Accuracy: 0.9522, Testing Accuracy: 0.9602\n",
      "\n"
     ]
    },
    {
     "name": "stdout",
     "output_type": "stream",
     "text": [
      "Epoch 50, Loss 0.0374\n",
      "Training Accuracy: 0.9569, Testing Accuracy: 0.9642\n",
      "\n"
     ]
    },
    {
     "name": "stdout",
     "output_type": "stream",
     "text": [
      "Epoch 60, Loss 0.0343\n",
      "Training Accuracy: 0.9597, Testing Accuracy: 0.9657\n",
      "\n"
     ]
    },
    {
     "name": "stdout",
     "output_type": "stream",
     "text": [
      "Epoch 70, Loss 0.0321\n",
      "Training Accuracy: 0.9620, Testing Accuracy: 0.9667\n",
      "\n"
     ]
    },
    {
     "name": "stdout",
     "output_type": "stream",
     "text": [
      "Epoch 80, Loss 0.0303\n",
      "Training Accuracy: 0.9633, Testing Accuracy: 0.9677\n",
      "\n"
     ]
    },
    {
     "name": "stdout",
     "output_type": "stream",
     "text": [
      "Epoch 90, Loss 0.0289\n",
      "Training Accuracy: 0.9647, Testing Accuracy: 0.9682\n",
      "\n"
     ]
    },
    {
     "name": "stdout",
     "output_type": "stream",
     "text": [
      "Epoch 100, Loss 0.0278\n",
      "Training Accuracy: 0.9662, Testing Accuracy: 0.9708\n",
      "\n"
     ]
    },
    {
     "name": "stdout",
     "output_type": "stream",
     "text": [
      "Epoch 110, Loss 0.0268\n",
      "Training Accuracy: 0.9677, Testing Accuracy: 0.9723\n",
      "\n"
     ]
    },
    {
     "name": "stdout",
     "output_type": "stream",
     "text": [
      "Epoch 120, Loss 0.0259\n",
      "Training Accuracy: 0.9686, Testing Accuracy: 0.9728\n",
      "\n"
     ]
    },
    {
     "name": "stdout",
     "output_type": "stream",
     "text": [
      "Epoch 130, Loss 0.0252\n",
      "Training Accuracy: 0.9696, Testing Accuracy: 0.9738\n",
      "\n"
     ]
    },
    {
     "name": "stdout",
     "output_type": "stream",
     "text": [
      "Epoch 140, Loss 0.0245\n",
      "Training Accuracy: 0.9705, Testing Accuracy: 0.9738\n",
      "\n"
     ]
    },
    {
     "name": "stdout",
     "output_type": "stream",
     "text": [
      "Epoch 150, Loss 0.0238\n",
      "Training Accuracy: 0.9717, Testing Accuracy: 0.9738\n",
      "\n"
     ]
    },
    {
     "name": "stdout",
     "output_type": "stream",
     "text": [
      "Epoch 160, Loss 0.0232\n",
      "Training Accuracy: 0.9724, Testing Accuracy: 0.9738\n",
      "\n"
     ]
    },
    {
     "name": "stdout",
     "output_type": "stream",
     "text": [
      "Epoch 170, Loss 0.0227\n",
      "Training Accuracy: 0.9736, Testing Accuracy: 0.9723\n",
      "\n"
     ]
    },
    {
     "name": "stdout",
     "output_type": "stream",
     "text": [
      "Epoch 180, Loss 0.0222\n",
      "Training Accuracy: 0.9742, Testing Accuracy: 0.9723\n",
      "\n"
     ]
    },
    {
     "name": "stdout",
     "output_type": "stream",
     "text": [
      "Epoch 190, Loss 0.0217\n",
      "Training Accuracy: 0.9752, Testing Accuracy: 0.9728\n",
      "\n"
     ]
    },
    {
     "name": "stdout",
     "output_type": "stream",
     "text": [
      "Epoch 200, Loss 0.0212\n",
      "Training Accuracy: 0.9755, Testing Accuracy: 0.9733\n",
      "\n"
     ]
    },
    {
     "name": "stdout",
     "output_type": "stream",
     "text": [
      "Epoch 210, Loss 0.0208\n",
      "Training Accuracy: 0.9765, Testing Accuracy: 0.9733\n",
      "\n"
     ]
    },
    {
     "name": "stdout",
     "output_type": "stream",
     "text": [
      "Epoch 220, Loss 0.0204\n",
      "Training Accuracy: 0.9775, Testing Accuracy: 0.9743\n",
      "\n"
     ]
    },
    {
     "name": "stdout",
     "output_type": "stream",
     "text": [
      "Epoch 230, Loss 0.02\n",
      "Training Accuracy: 0.9782, Testing Accuracy: 0.9743\n",
      "\n"
     ]
    },
    {
     "name": "stdout",
     "output_type": "stream",
     "text": [
      "Epoch 240, Loss 0.0196\n",
      "Training Accuracy: 0.9786, Testing Accuracy: 0.9743\n",
      "\n"
     ]
    },
    {
     "data": {
      "text/plain": [
       "0.006942601319176029"
      ]
     },
     "execution_count": 22,
     "metadata": {},
     "output_type": "execute_result"
    }
   ],
   "source": [
    "nn_learner.train_loop(dl)"
   ]
  },
  {
   "cell_type": "code",
   "execution_count": 23,
   "id": "e0163366",
   "metadata": {
    "execution": {
     "iopub.execute_input": "2022-08-15T00:46:17.922273Z",
     "iopub.status.busy": "2022-08-15T00:46:17.921519Z",
     "iopub.status.idle": "2022-08-15T00:46:36.978149Z",
     "shell.execute_reply": "2022-08-15T00:46:36.979160Z"
    },
    "papermill": {
     "duration": 19.111509,
     "end_time": "2022-08-15T00:46:36.979347",
     "exception": false,
     "start_time": "2022-08-15T00:46:17.867838",
     "status": "completed"
    },
    "tags": []
   },
   "outputs": [
    {
     "name": "stdout",
     "output_type": "stream",
     "text": [
      "Epoch 0, Loss 0.223\n",
      "Training Accuracy: 0.7620, Testing Accuracy: 0.7429\n",
      "\n"
     ]
    },
    {
     "name": "stdout",
     "output_type": "stream",
     "text": [
      "Epoch 10, Loss 0.1022\n",
      "Training Accuracy: 0.9090, Testing Accuracy: 0.9178\n",
      "\n"
     ]
    },
    {
     "name": "stdout",
     "output_type": "stream",
     "text": [
      "Epoch 20, Loss 0.0792\n",
      "Training Accuracy: 0.9270, Testing Accuracy: 0.9360\n",
      "\n"
     ]
    },
    {
     "name": "stdout",
     "output_type": "stream",
     "text": [
      "Epoch 30, Loss 0.0683\n",
      "Training Accuracy: 0.9365, Testing Accuracy: 0.9461\n",
      "\n"
     ]
    },
    {
     "name": "stdout",
     "output_type": "stream",
     "text": [
      "Epoch 40, Loss 0.0617\n",
      "Training Accuracy: 0.9414, Testing Accuracy: 0.9511\n",
      "\n"
     ]
    },
    {
     "name": "stdout",
     "output_type": "stream",
     "text": [
      "Epoch 50, Loss 0.0572\n",
      "Training Accuracy: 0.9456, Testing Accuracy: 0.9546\n",
      "\n"
     ]
    },
    {
     "name": "stdout",
     "output_type": "stream",
     "text": [
      "Epoch 60, Loss 0.0539\n",
      "Training Accuracy: 0.9473, Testing Accuracy: 0.9577\n",
      "\n"
     ]
    },
    {
     "name": "stdout",
     "output_type": "stream",
     "text": [
      "Epoch 70, Loss 0.0513\n",
      "Training Accuracy: 0.9488, Testing Accuracy: 0.9602\n",
      "\n"
     ]
    },
    {
     "name": "stdout",
     "output_type": "stream",
     "text": [
      "Epoch 80, Loss 0.0492\n",
      "Training Accuracy: 0.9507, Testing Accuracy: 0.9627\n",
      "\n"
     ]
    },
    {
     "name": "stdout",
     "output_type": "stream",
     "text": [
      "Epoch 90, Loss 0.0475\n",
      "Training Accuracy: 0.9515, Testing Accuracy: 0.9637\n",
      "\n"
     ]
    },
    {
     "name": "stdout",
     "output_type": "stream",
     "text": [
      "Epoch 100, Loss 0.0461\n",
      "Training Accuracy: 0.9529, Testing Accuracy: 0.9642\n",
      "\n"
     ]
    },
    {
     "name": "stdout",
     "output_type": "stream",
     "text": [
      "Epoch 110, Loss 0.0449\n",
      "Training Accuracy: 0.9540, Testing Accuracy: 0.9647\n",
      "\n"
     ]
    },
    {
     "name": "stdout",
     "output_type": "stream",
     "text": [
      "Epoch 120, Loss 0.0438\n",
      "Training Accuracy: 0.9546, Testing Accuracy: 0.9642\n",
      "\n"
     ]
    },
    {
     "name": "stdout",
     "output_type": "stream",
     "text": [
      "Epoch 130, Loss 0.0429\n",
      "Training Accuracy: 0.9559, Testing Accuracy: 0.9647\n",
      "\n"
     ]
    },
    {
     "name": "stdout",
     "output_type": "stream",
     "text": [
      "Epoch 140, Loss 0.0421\n",
      "Training Accuracy: 0.9562, Testing Accuracy: 0.9647\n",
      "\n"
     ]
    },
    {
     "name": "stdout",
     "output_type": "stream",
     "text": [
      "Epoch 150, Loss 0.0413\n",
      "Training Accuracy: 0.9569, Testing Accuracy: 0.9657\n",
      "\n"
     ]
    },
    {
     "name": "stdout",
     "output_type": "stream",
     "text": [
      "Epoch 160, Loss 0.0406\n",
      "Training Accuracy: 0.9574, Testing Accuracy: 0.9662\n",
      "\n"
     ]
    },
    {
     "name": "stdout",
     "output_type": "stream",
     "text": [
      "Epoch 170, Loss 0.04\n",
      "Training Accuracy: 0.9578, Testing Accuracy: 0.9667\n",
      "\n"
     ]
    },
    {
     "name": "stdout",
     "output_type": "stream",
     "text": [
      "Epoch 180, Loss 0.0395\n",
      "Training Accuracy: 0.9584, Testing Accuracy: 0.9667\n",
      "\n"
     ]
    },
    {
     "name": "stdout",
     "output_type": "stream",
     "text": [
      "Epoch 190, Loss 0.0389\n",
      "Training Accuracy: 0.9588, Testing Accuracy: 0.9667\n",
      "\n"
     ]
    },
    {
     "name": "stdout",
     "output_type": "stream",
     "text": [
      "Epoch 200, Loss 0.0385\n",
      "Training Accuracy: 0.9591, Testing Accuracy: 0.9672\n",
      "\n"
     ]
    },
    {
     "name": "stdout",
     "output_type": "stream",
     "text": [
      "Epoch 210, Loss 0.038\n",
      "Training Accuracy: 0.9595, Testing Accuracy: 0.9677\n",
      "\n"
     ]
    },
    {
     "name": "stdout",
     "output_type": "stream",
     "text": [
      "Epoch 220, Loss 0.0376\n",
      "Training Accuracy: 0.9599, Testing Accuracy: 0.9677\n",
      "\n"
     ]
    },
    {
     "name": "stdout",
     "output_type": "stream",
     "text": [
      "Epoch 230, Loss 0.0372\n",
      "Training Accuracy: 0.9601, Testing Accuracy: 0.9677\n",
      "\n"
     ]
    },
    {
     "name": "stdout",
     "output_type": "stream",
     "text": [
      "Epoch 240, Loss 0.0369\n",
      "Training Accuracy: 0.9603, Testing Accuracy: 0.9682\n",
      "\n"
     ]
    },
    {
     "data": {
      "text/plain": [
       "0.012253500084393226"
      ]
     },
     "execution_count": 23,
     "metadata": {},
     "output_type": "execute_result"
    }
   ],
   "source": [
    "lr_learner.train_loop(dl)"
   ]
  },
  {
   "cell_type": "code",
   "execution_count": 24,
   "id": "ca410940",
   "metadata": {
    "execution": {
     "iopub.execute_input": "2022-08-15T00:46:37.099720Z",
     "iopub.status.busy": "2022-08-15T00:46:37.099021Z",
     "iopub.status.idle": "2022-08-15T00:46:37.391459Z",
     "shell.execute_reply": "2022-08-15T00:46:37.392060Z"
    },
    "papermill": {
     "duration": 0.358548,
     "end_time": "2022-08-15T00:46:37.392261",
     "exception": false,
     "start_time": "2022-08-15T00:46:37.033713",
     "status": "completed"
    },
    "tags": []
   },
   "outputs": [
    {
     "data": {
      "text/plain": [
       "<matplotlib.legend.Legend at 0x7fb5f69e8d30>"
      ]
     },
     "execution_count": 24,
     "metadata": {},
     "output_type": "execute_result"
    },
    {
     "data": {
      "image/png": "[encoded data removed]",
      "text/plain": [
       "<Figure size 1080x720 with 1 Axes>"
      ]
     },
     "metadata": {
      "needs_background": "light"
     },
     "output_type": "display_data"
    }
   ],
   "source": [
    "#comparing the results of NN and LR\n",
    "plt.figure(figsize=(15,10))\n",
    "\n",
    "# Neural Network plots\n",
    "plt.plot(acc_nn.accuracies, 'r-', label = \"Training Accuracies - NN\")\n",
    "plt.plot(acc_nn.test_accuracies, 'g-', label = \"Testing Accuracies - NN\")\n",
    "\n",
    "# Logistic Regression plots\n",
    "plt.plot(acc_lr.accuracies, 'k-', label = \"Training Accuracies - LR\")\n",
    "plt.plot(acc_lr.test_accuracies, 'b-', label = \"Testing Accuracies - LR\")\n",
    "plt.legend()"
   ]
  },
  {
   "cell_type": "markdown",
   "id": "80dfb35c",
   "metadata": {
    "papermill": {
     "duration": 0.050466,
     "end_time": "2022-08-15T00:46:37.496505",
     "exception": false,
     "start_time": "2022-08-15T00:46:37.446039",
     "status": "completed"
    },
    "tags": []
   },
   "source": [
    "#### Plotting the outputs of this layer of the NN.\n"
   ]
  },
  {
   "cell_type": "code",
   "execution_count": 25,
   "id": "45eb2ff5",
   "metadata": {
    "execution": {
     "iopub.execute_input": "2022-08-15T00:46:37.600391Z",
     "iopub.status.busy": "2022-08-15T00:46:37.599676Z",
     "iopub.status.idle": "2022-08-15T00:46:37.629076Z",
     "shell.execute_reply": "2022-08-15T00:46:37.628280Z"
    },
    "papermill": {
     "duration": 0.084082,
     "end_time": "2022-08-15T00:46:37.629226",
     "exception": false,
     "start_time": "2022-08-15T00:46:37.545144",
     "status": "completed"
    },
    "tags": []
   },
   "outputs": [],
   "source": [
    "new_model = Model(layers[:-2])\n",
    "testing_plot = new_model(testing_data_x)"
   ]
  },
  {
   "cell_type": "code",
   "execution_count": 26,
   "id": "4c0a5485",
   "metadata": {
    "execution": {
     "iopub.execute_input": "2022-08-15T00:46:37.741953Z",
     "iopub.status.busy": "2022-08-15T00:46:37.741248Z",
     "iopub.status.idle": "2022-08-15T00:46:37.987530Z",
     "shell.execute_reply": "2022-08-15T00:46:37.986875Z"
    },
    "papermill": {
     "duration": 0.306435,
     "end_time": "2022-08-15T00:46:37.987683",
     "exception": false,
     "start_time": "2022-08-15T00:46:37.681248",
     "status": "completed"
    },
    "tags": []
   },
   "outputs": [
    {
     "data": {
      "text/plain": [
       "Text(0.5, 1.0, 'Outputs')"
      ]
     },
     "execution_count": 26,
     "metadata": {},
     "output_type": "execute_result"
    },
    {
     "data": {
      "image/png": "[encoded data removed]",
      "text/plain": [
       "<Figure size 576x504 with 1 Axes>"
      ]
     },
     "metadata": {
      "needs_background": "light"
     },
     "output_type": "display_data"
    }
   ],
   "source": [
    "# Plotting the scatter plot of points and color coding by class\n",
    "plt.figure(figsize=(8,7))\n",
    "plt.scatter(testing_plot[:,0], testing_plot[:,1], alpha = 0.1, c = y_test.ravel());\n",
    "plt.title('Outputs')"
   ]
  },
  {
   "cell_type": "markdown",
   "id": "a74fcf8f",
   "metadata": {
    "papermill": {
     "duration": 0.07889,
     "end_time": "2022-08-15T00:46:38.119232",
     "exception": false,
     "start_time": "2022-08-15T00:46:38.040342",
     "status": "completed"
    },
    "tags": []
   },
   "source": [
    "Probability contours"
   ]
  },
  {
   "cell_type": "code",
   "execution_count": 27,
   "id": "d0afc8e3",
   "metadata": {
    "execution": {
     "iopub.execute_input": "2022-08-15T00:46:38.229795Z",
     "iopub.status.busy": "2022-08-15T00:46:38.229104Z",
     "iopub.status.idle": "2022-08-15T00:46:38.243382Z",
     "shell.execute_reply": "2022-08-15T00:46:38.242726Z"
    },
    "papermill": {
     "duration": 0.071854,
     "end_time": "2022-08-15T00:46:38.243506",
     "exception": false,
     "start_time": "2022-08-15T00:46:38.171652",
     "status": "completed"
    },
    "tags": []
   },
   "outputs": [],
   "source": [
    "model_prob = Model(layers[-2:]) "
   ]
  },
  {
   "cell_type": "code",
   "execution_count": 28,
   "id": "9b96e238",
   "metadata": {
    "execution": {
     "iopub.execute_input": "2022-08-15T00:46:38.354030Z",
     "iopub.status.busy": "2022-08-15T00:46:38.353258Z",
     "iopub.status.idle": "2022-08-15T00:46:38.368750Z",
     "shell.execute_reply": "2022-08-15T00:46:38.369338Z"
    },
    "papermill": {
     "duration": 0.073409,
     "end_time": "2022-08-15T00:46:38.369497",
     "exception": false,
     "start_time": "2022-08-15T00:46:38.296088",
     "status": "completed"
    },
    "tags": []
   },
   "outputs": [],
   "source": [
    "#creating the x and y ranges according to the above generated plot.\n",
    "x_range = np.linspace(-4, 1, 100) \n",
    "y_range = np.linspace(-6, 6, 100) \n",
    "x_grid, y_grid = np.meshgrid(x_range, y_range) # x_grid and y_grig are of size 100 X 100\n",
    "\n",
    "# converting x_grid and y_grid to continuous arrays\n",
    "x_gridflat = np.ravel(x_grid)\n",
    "y_gridflat = np.ravel(y_grid)\n",
    "\n",
    "# The last layer of the current model takes two columns as input. Hence transpose of np.vstack() is required.\n",
    "X = np.vstack((x_gridflat, y_gridflat)).T\n",
    "\n",
    "prob_contour = model_prob(X).reshape(100,100) "
   ]
  },
  {
   "cell_type": "code",
   "execution_count": 29,
   "id": "da72499a",
   "metadata": {
    "execution": {
     "iopub.execute_input": "2022-08-15T00:46:38.485700Z",
     "iopub.status.busy": "2022-08-15T00:46:38.485009Z",
     "iopub.status.idle": "2022-08-15T00:46:38.812191Z",
     "shell.execute_reply": "2022-08-15T00:46:38.811505Z"
    },
    "papermill": {
     "duration": 0.388682,
     "end_time": "2022-08-15T00:46:38.812384",
     "exception": false,
     "start_time": "2022-08-15T00:46:38.423702",
     "status": "completed"
    },
    "tags": []
   },
   "outputs": [
    {
     "data": {
      "image/png": "[encoded data removed]",
      "text/plain": [
       "<Figure size 720x648 with 1 Axes>"
      ]
     },
     "metadata": {
      "needs_background": "light"
     },
     "output_type": "display_data"
    }
   ],
   "source": [
    "plt.figure(figsize=(10,9))\n",
    "plt.scatter(testing_plot[:,0], testing_plot[:,1], alpha = 0.1, c = y_test.ravel())\n",
    "contours = plt.contour(x_grid,y_grid,prob_contour)\n",
    "plt.title('Probability Contours')\n",
    "plt.clabel(contours, inline = True );"
   ]
  },
  {
   "cell_type": "code",
   "execution_count": null,
   "id": "e81b4ac7",
   "metadata": {
    "papermill": {
     "duration": 0.056998,
     "end_time": "2022-08-15T00:46:38.923709",
     "exception": false,
     "start_time": "2022-08-15T00:46:38.866711",
     "status": "completed"
    },
    "tags": []
   },
   "outputs": [],
   "source": []
  }
 ],
 "metadata": {
  "kernelspec": {
   "display_name": "Python 3",
   "language": "python",
   "name": "python3"
  },
  "language_info": {
   "codemirror_mode": {
    "name": "ipython",
    "version": 3
   },
   "file_extension": ".py",
   "mimetype": "text/x-python",
   "name": "python",
   "nbconvert_exporter": "python",
   "pygments_lexer": "ipython3",
   "version": "3.6.15"
  },
  "papermill": {
   "default_parameters": {},
   "duration": 158.254224,
   "end_time": "2022-08-15T00:46:39.402623",
   "environment_variables": {},
   "exception": null,
   "input_path": "2020-08-11-part2.ipynb",
   "output_path": "2020-08-11-part2.ipynb",
   "parameters": {},
   "start_time": "2022-08-15T00:44:01.148399",
   "version": "2.3.3"
  }
 },
 "nbformat": 4,
 "nbformat_minor": 5
}