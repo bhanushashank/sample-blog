{
 "cells": [
  {
   "cell_type": "markdown",
   "id": "98380cd3",
   "metadata": {
    "papermill": {
     "duration": 0.035218,
     "end_time": "2022-10-06T00:52:29.365456",
     "exception": false,
     "start_time": "2022-10-06T00:52:29.330238",
     "status": "completed"
    },
    "tags": []
   },
   "source": [
    "# Distinguish Your Own Digits (DYOD)"
   ]
  },
  {
   "cell_type": "markdown",
   "id": "ef31240d",
   "metadata": {
    "papermill": {
     "duration": 0.029858,
     "end_time": "2022-10-06T00:52:29.427612",
     "exception": false,
     "start_time": "2022-10-06T00:52:29.397754",
     "status": "completed"
    },
    "tags": []
   },
   "source": [
    "You are going to write a classifier that distinguishes between the number 3 and number 8."
   ]
  },
  {
   "cell_type": "code",
   "execution_count": 1,
   "id": "b15c8646",
   "metadata": {
    "execution": {
     "iopub.execute_input": "2022-10-06T00:52:29.500369Z",
     "iopub.status.busy": "2022-10-06T00:52:29.499617Z",
     "iopub.status.idle": "2022-10-06T00:52:29.512397Z",
     "shell.execute_reply": "2022-10-06T00:52:29.511763Z"
    },
    "papermill": {
     "duration": 0.055372,
     "end_time": "2022-10-06T00:52:29.512561",
     "exception": false,
     "start_time": "2022-10-06T00:52:29.457189",
     "status": "completed"
    },
    "tags": []
   },
   "outputs": [],
   "source": [
    "%load_ext autoreload\n",
    "%autoreload 2"
   ]
  },
  {
   "cell_type": "code",
   "execution_count": 2,
   "id": "22ef38dc",
   "metadata": {
    "execution": {
     "iopub.execute_input": "2022-10-06T00:52:29.579959Z",
     "iopub.status.busy": "2022-10-06T00:52:29.579206Z",
     "iopub.status.idle": "2022-10-06T00:52:30.224439Z",
     "shell.execute_reply": "2022-10-06T00:52:30.223783Z"
    },
    "papermill": {
     "duration": 0.681851,
     "end_time": "2022-10-06T00:52:30.224588",
     "exception": false,
     "start_time": "2022-10-06T00:52:29.542737",
     "status": "completed"
    },
    "tags": []
   },
   "outputs": [],
   "source": [
    "%matplotlib inline\n",
    "import numpy as np\n",
    "import matplotlib.pyplot as plt\n",
    "import pandas as pd"
   ]
  },
  {
   "cell_type": "markdown",
   "id": "ba036198",
   "metadata": {
    "papermill": {
     "duration": 0.028794,
     "end_time": "2022-10-06T00:52:30.284125",
     "exception": false,
     "start_time": "2022-10-06T00:52:30.255331",
     "status": "completed"
    },
    "tags": []
   },
   "source": [
    "From the command line run `pip install mnist`. This is a library that will help you bring down the mnist dataset. If you run this from a notebook, you need to put  `!pip install mnist` in a cell by itself."
   ]
  },
  {
   "cell_type": "code",
   "execution_count": 3,
   "id": "bb6ad8a1",
   "metadata": {
    "execution": {
     "iopub.execute_input": "2022-10-06T00:52:30.347334Z",
     "iopub.status.busy": "2022-10-06T00:52:30.346598Z",
     "iopub.status.idle": "2022-10-06T00:52:32.330801Z",
     "shell.execute_reply": "2022-10-06T00:52:32.330132Z"
    },
    "papermill": {
     "duration": 2.018167,
     "end_time": "2022-10-06T00:52:32.330964",
     "exception": false,
     "start_time": "2022-10-06T00:52:30.312797",
     "status": "completed"
    },
    "tags": []
   },
   "outputs": [
    {
     "name": "stdout",
     "output_type": "stream",
     "text": [
      "Collecting mnist\r\n"
     ]
    },
    {
     "name": "stdout",
     "output_type": "stream",
     "text": [
      "  Downloading mnist-0.2.2-py2.py3-none-any.whl (3.5 kB)\r\n",
      "Requirement already satisfied: numpy in /opt/hostedtoolcache/Python/3.6.15/x64/lib/python3.6/site-packages (from mnist) (1.19.5)\r\n"
     ]
    },
    {
     "name": "stdout",
     "output_type": "stream",
     "text": [
      "Installing collected packages: mnist\r\n"
     ]
    },
    {
     "name": "stdout",
     "output_type": "stream",
     "text": [
      "Successfully installed mnist-0.2.2\r\n"
     ]
    }
   ],
   "source": [
    "!pip install mnist"
   ]
  },
  {
   "cell_type": "markdown",
   "id": "69df9c9a",
   "metadata": {
    "papermill": {
     "duration": 0.032324,
     "end_time": "2022-10-06T00:52:32.394649",
     "exception": false,
     "start_time": "2022-10-06T00:52:32.362325",
     "status": "completed"
    },
    "tags": []
   },
   "source": [
    "## Preparing the Data"
   ]
  },
  {
   "cell_type": "code",
   "execution_count": 4,
   "id": "7f69d806",
   "metadata": {
    "execution": {
     "iopub.execute_input": "2022-10-06T00:52:32.462271Z",
     "iopub.status.busy": "2022-10-06T00:52:32.461466Z",
     "iopub.status.idle": "2022-10-06T00:52:32.479510Z",
     "shell.execute_reply": "2022-10-06T00:52:32.478849Z"
    },
    "papermill": {
     "duration": 0.053833,
     "end_time": "2022-10-06T00:52:32.479662",
     "exception": false,
     "start_time": "2022-10-06T00:52:32.425829",
     "status": "completed"
    },
    "tags": []
   },
   "outputs": [],
   "source": [
    "import mnist"
   ]
  },
  {
   "cell_type": "code",
   "execution_count": 5,
   "id": "a411e44f",
   "metadata": {
    "execution": {
     "iopub.execute_input": "2022-10-06T00:52:32.551528Z",
     "iopub.status.busy": "2022-10-06T00:52:32.550773Z",
     "iopub.status.idle": "2022-10-06T00:52:33.143569Z",
     "shell.execute_reply": "2022-10-06T00:52:33.142949Z"
    },
    "papermill": {
     "duration": 0.632594,
     "end_time": "2022-10-06T00:52:33.143720",
     "exception": false,
     "start_time": "2022-10-06T00:52:32.511126",
     "status": "completed"
    },
    "tags": []
   },
   "outputs": [],
   "source": [
    "train_images = mnist.train_images()\n",
    "train_labels = mnist.train_labels()"
   ]
  },
  {
   "cell_type": "code",
   "execution_count": 6,
   "id": "dceab3a5",
   "metadata": {
    "execution": {
     "iopub.execute_input": "2022-10-06T00:52:33.209969Z",
     "iopub.status.busy": "2022-10-06T00:52:33.209194Z",
     "iopub.status.idle": "2022-10-06T00:52:33.227290Z",
     "shell.execute_reply": "2022-10-06T00:52:33.226666Z"
    },
    "papermill": {
     "duration": 0.052018,
     "end_time": "2022-10-06T00:52:33.227428",
     "exception": false,
     "start_time": "2022-10-06T00:52:33.175410",
     "status": "completed"
    },
    "tags": []
   },
   "outputs": [
    {
     "data": {
      "text/plain": [
       "((60000, 28, 28), (60000,))"
      ]
     },
     "execution_count": 6,
     "metadata": {},
     "output_type": "execute_result"
    }
   ],
   "source": [
    "train_images.shape, train_labels.shape"
   ]
  },
  {
   "cell_type": "code",
   "execution_count": 7,
   "id": "f50dc2bb",
   "metadata": {
    "execution": {
     "iopub.execute_input": "2022-10-06T00:52:33.311387Z",
     "iopub.status.busy": "2022-10-06T00:52:33.310642Z",
     "iopub.status.idle": "2022-10-06T00:52:33.418766Z",
     "shell.execute_reply": "2022-10-06T00:52:33.418102Z"
    },
    "papermill": {
     "duration": 0.159163,
     "end_time": "2022-10-06T00:52:33.418918",
     "exception": false,
     "start_time": "2022-10-06T00:52:33.259755",
     "status": "completed"
    },
    "tags": []
   },
   "outputs": [],
   "source": [
    "test_images = mnist.test_images()\n",
    "test_labels = mnist.test_labels()"
   ]
  },
  {
   "cell_type": "code",
   "execution_count": 8,
   "id": "fc38cf1b",
   "metadata": {
    "execution": {
     "iopub.execute_input": "2022-10-06T00:52:33.488891Z",
     "iopub.status.busy": "2022-10-06T00:52:33.488148Z",
     "iopub.status.idle": "2022-10-06T00:52:33.503844Z",
     "shell.execute_reply": "2022-10-06T00:52:33.503231Z"
    },
    "papermill": {
     "duration": 0.053336,
     "end_time": "2022-10-06T00:52:33.503981",
     "exception": false,
     "start_time": "2022-10-06T00:52:33.450645",
     "status": "completed"
    },
    "tags": []
   },
   "outputs": [
    {
     "data": {
      "text/plain": [
       "((10000, 28, 28), (10000,))"
      ]
     },
     "execution_count": 8,
     "metadata": {},
     "output_type": "execute_result"
    }
   ],
   "source": [
    "test_images.shape, test_labels.shape"
   ]
  },
  {
   "cell_type": "code",
   "execution_count": 9,
   "id": "f9ed8fe0",
   "metadata": {
    "execution": {
     "iopub.execute_input": "2022-10-06T00:52:33.573022Z",
     "iopub.status.busy": "2022-10-06T00:52:33.572197Z",
     "iopub.status.idle": "2022-10-06T00:52:33.759035Z",
     "shell.execute_reply": "2022-10-06T00:52:33.758432Z"
    },
    "papermill": {
     "duration": 0.223842,
     "end_time": "2022-10-06T00:52:33.759185",
     "exception": false,
     "start_time": "2022-10-06T00:52:33.535343",
     "status": "completed"
    },
    "tags": []
   },
   "outputs": [
    {
     "name": "stdout",
     "output_type": "stream",
     "text": [
      "2\n"
     ]
    },
    {
     "data": {
      "text/plain": [
       "<matplotlib.image.AxesImage at 0x7f63d406cd30>"
      ]
     },
     "execution_count": 9,
     "metadata": {},
     "output_type": "execute_result"
    },
    {
     "data": {
      "image/png": "[encoded data removed]",
      "text/plain": [
       "<Figure size 432x288 with 1 Axes>"
      ]
     },
     "metadata": {
      "needs_background": "light"
     },
     "output_type": "display_data"
    }
   ],
   "source": [
    "image_index = 7776 # You may select anything up to 60,000\n",
    "print(train_labels[image_index]) \n",
    "plt.imshow(train_images[image_index], cmap='Greys')"
   ]
  },
  {
   "cell_type": "markdown",
   "id": "a8d2388d",
   "metadata": {
    "papermill": {
     "duration": 0.033205,
     "end_time": "2022-10-06T00:52:33.827074",
     "exception": false,
     "start_time": "2022-10-06T00:52:33.793869",
     "status": "completed"
    },
    "tags": []
   },
   "source": [
    "## Filter data to get 3 and 8 out"
   ]
  },
  {
   "cell_type": "code",
   "execution_count": 10,
   "id": "776f7fc7",
   "metadata": {
    "execution": {
     "iopub.execute_input": "2022-10-06T00:52:33.902847Z",
     "iopub.status.busy": "2022-10-06T00:52:33.899483Z",
     "iopub.status.idle": "2022-10-06T00:52:33.922193Z",
     "shell.execute_reply": "2022-10-06T00:52:33.921470Z"
    },
    "papermill": {
     "duration": 0.063327,
     "end_time": "2022-10-06T00:52:33.922355",
     "exception": false,
     "start_time": "2022-10-06T00:52:33.859028",
     "status": "completed"
    },
    "tags": []
   },
   "outputs": [],
   "source": [
    "train_filter = np.where((train_labels == 3 ) | (train_labels == 8))\n",
    "test_filter = np.where((test_labels == 3) | (test_labels == 8))\n",
    "X_train, y_train = train_images[train_filter], train_labels[train_filter]\n",
    "X_test, y_test = test_images[test_filter], test_labels[test_filter]"
   ]
  },
  {
   "cell_type": "markdown",
   "id": "948f0b7e",
   "metadata": {
    "papermill": {
     "duration": 0.03385,
     "end_time": "2022-10-06T00:52:33.990542",
     "exception": false,
     "start_time": "2022-10-06T00:52:33.956692",
     "status": "completed"
    },
    "tags": []
   },
   "source": [
    "We normalize the pizel values in the 0 to 1 range"
   ]
  },
  {
   "cell_type": "code",
   "execution_count": 11,
   "id": "ee4c2166",
   "metadata": {
    "execution": {
     "iopub.execute_input": "2022-10-06T00:52:34.066766Z",
     "iopub.status.busy": "2022-10-06T00:52:34.065029Z",
     "iopub.status.idle": "2022-10-06T00:52:34.126222Z",
     "shell.execute_reply": "2022-10-06T00:52:34.125528Z"
    },
    "papermill": {
     "duration": 0.101309,
     "end_time": "2022-10-06T00:52:34.126375",
     "exception": false,
     "start_time": "2022-10-06T00:52:34.025066",
     "status": "completed"
    },
    "tags": []
   },
   "outputs": [],
   "source": [
    "X_train = X_train/255.\n",
    "X_test = X_test/255."
   ]
  },
  {
   "cell_type": "markdown",
   "id": "ddcf4fab",
   "metadata": {
    "papermill": {
     "duration": 0.03095,
     "end_time": "2022-10-06T00:52:34.190894",
     "exception": false,
     "start_time": "2022-10-06T00:52:34.159944",
     "status": "completed"
    },
    "tags": []
   },
   "source": [
    "And setup the labels as 1 (when the digit is 3) and 0 (when the digit is 8)"
   ]
  },
  {
   "cell_type": "code",
   "execution_count": 12,
   "id": "7dc908f2",
   "metadata": {
    "execution": {
     "iopub.execute_input": "2022-10-06T00:52:34.271090Z",
     "iopub.status.busy": "2022-10-06T00:52:34.270323Z",
     "iopub.status.idle": "2022-10-06T00:52:34.273646Z",
     "shell.execute_reply": "2022-10-06T00:52:34.274343Z"
    },
    "papermill": {
     "duration": 0.053605,
     "end_time": "2022-10-06T00:52:34.274486",
     "exception": false,
     "start_time": "2022-10-06T00:52:34.220881",
     "status": "completed"
    },
    "tags": []
   },
   "outputs": [],
   "source": [
    "y_train = 1*(y_train==3)\n",
    "y_test = 1*(y_test==3)"
   ]
  },
  {
   "cell_type": "code",
   "execution_count": 13,
   "id": "01e4e969",
   "metadata": {
    "execution": {
     "iopub.execute_input": "2022-10-06T00:52:34.349059Z",
     "iopub.status.busy": "2022-10-06T00:52:34.343983Z",
     "iopub.status.idle": "2022-10-06T00:52:34.358495Z",
     "shell.execute_reply": "2022-10-06T00:52:34.359124Z"
    },
    "papermill": {
     "duration": 0.05344,
     "end_time": "2022-10-06T00:52:34.359275",
     "exception": false,
     "start_time": "2022-10-06T00:52:34.305835",
     "status": "completed"
    },
    "tags": []
   },
   "outputs": [
    {
     "data": {
      "text/plain": [
       "((11982, 28, 28), (1984, 28, 28))"
      ]
     },
     "execution_count": 13,
     "metadata": {},
     "output_type": "execute_result"
    }
   ],
   "source": [
    "X_train.shape, X_test.shape"
   ]
  },
  {
   "cell_type": "markdown",
   "id": "5ccf3f85",
   "metadata": {
    "papermill": {
     "duration": 0.03194,
     "end_time": "2022-10-06T00:52:34.424033",
     "exception": false,
     "start_time": "2022-10-06T00:52:34.392093",
     "status": "completed"
    },
    "tags": []
   },
   "source": [
    "We reshape the data to flatten the image pixels into a set of features or co-variates:"
   ]
  },
  {
   "cell_type": "code",
   "execution_count": 14,
   "id": "5286a4a3",
   "metadata": {
    "execution": {
     "iopub.execute_input": "2022-10-06T00:52:34.503201Z",
     "iopub.status.busy": "2022-10-06T00:52:34.492048Z",
     "iopub.status.idle": "2022-10-06T00:52:34.511429Z",
     "shell.execute_reply": "2022-10-06T00:52:34.512081Z"
    },
    "papermill": {
     "duration": 0.05595,
     "end_time": "2022-10-06T00:52:34.512259",
     "exception": false,
     "start_time": "2022-10-06T00:52:34.456309",
     "status": "completed"
    },
    "tags": []
   },
   "outputs": [
    {
     "data": {
      "text/plain": [
       "((11982, 784), (1984, 784))"
      ]
     },
     "execution_count": 14,
     "metadata": {},
     "output_type": "execute_result"
    }
   ],
   "source": [
    "X_train = X_train.reshape(X_train.shape[0], -1)\n",
    "X_test = X_test.reshape(X_test.shape[0], -1)\n",
    "X_train.shape, X_test.shape"
   ]
  },
  {
   "cell_type": "code",
   "execution_count": 15,
   "id": "73c5f88a",
   "metadata": {
    "execution": {
     "iopub.execute_input": "2022-10-06T00:52:34.591744Z",
     "iopub.status.busy": "2022-10-06T00:52:34.582576Z",
     "iopub.status.idle": "2022-10-06T00:52:34.602681Z",
     "shell.execute_reply": "2022-10-06T00:52:34.603280Z"
    },
    "papermill": {
     "duration": 0.058631,
     "end_time": "2022-10-06T00:52:34.603423",
     "exception": false,
     "start_time": "2022-10-06T00:52:34.544792",
     "status": "completed"
    },
    "tags": []
   },
   "outputs": [],
   "source": [
    "#Impoting functions from 'Kudzu'\n",
    "from kudzu.model import Model\n",
    "from kudzu.train import Learner\n",
    "from kudzu.optim import GD\n",
    "from kudzu.data import Data, Sampler,Dataloader\n",
    "\n",
    "from kudzu.callbacks import AccCallback\n",
    "from kudzu.callbacks import ClfCallback\n",
    "\n",
    "from kudzu.loss import MSE\n",
    "\n",
    "from kudzu.layer import Sigmoid,Relu\n",
    "from kudzu.layer import Affine"
   ]
  },
  {
   "cell_type": "markdown",
   "id": "bc01172a",
   "metadata": {
    "papermill": {
     "duration": 0.031924,
     "end_time": "2022-10-06T00:52:34.668663",
     "exception": false,
     "start_time": "2022-10-06T00:52:34.636739",
     "status": "completed"
    },
    "tags": []
   },
   "source": [
    "### Let us create a `Config` class, to store important parameters. \n",
    "This class essentially plays the role of a dictionary."
   ]
  },
  {
   "cell_type": "code",
   "execution_count": 16,
   "id": "978281aa",
   "metadata": {
    "execution": {
     "iopub.execute_input": "2022-10-06T00:52:34.737766Z",
     "iopub.status.busy": "2022-10-06T00:52:34.736971Z",
     "iopub.status.idle": "2022-10-06T00:52:34.750284Z",
     "shell.execute_reply": "2022-10-06T00:52:34.751009Z"
    },
    "papermill": {
     "duration": 0.050739,
     "end_time": "2022-10-06T00:52:34.751164",
     "exception": false,
     "start_time": "2022-10-06T00:52:34.700425",
     "status": "completed"
    },
    "tags": []
   },
   "outputs": [],
   "source": [
    "class Config:\n",
    "    pass\n",
    "config = Config()\n",
    "config.lr = 0.001\n",
    "config.num_epochs = 250\n",
    "config.bs = 50"
   ]
  },
  {
   "cell_type": "markdown",
   "id": "1385fa59",
   "metadata": {
    "papermill": {
     "duration": 0.031775,
     "end_time": "2022-10-06T00:52:34.815256",
     "exception": false,
     "start_time": "2022-10-06T00:52:34.783481",
     "status": "completed"
    },
    "tags": []
   },
   "source": [
    "### Running Models with the Training data\n",
    "Details about the network layers:\n",
    "- A first affine layer has 784 inputs and does 100 affine transforms. These are followed by a Relu\n",
    "- A second affine layer has 100 inputs from the 100 activations of the past layer, and does 100 affine transforms. These are followed by a Relu\n",
    "- A third affine layer has 100 activations and does 2 affine transformations to create an embedding for visualization. There is no non-linearity here.\n",
    "- A final \"logistic regression\" which has an affine transform from 2 inputs to 1 output, which is squeezed through a sigmoid.\n"
   ]
  },
  {
   "cell_type": "code",
   "execution_count": 17,
   "id": "2b9c66db",
   "metadata": {
    "execution": {
     "iopub.execute_input": "2022-10-06T00:52:34.889130Z",
     "iopub.status.busy": "2022-10-06T00:52:34.888403Z",
     "iopub.status.idle": "2022-10-06T00:52:34.899792Z",
     "shell.execute_reply": "2022-10-06T00:52:34.900378Z"
    },
    "papermill": {
     "duration": 0.052503,
     "end_time": "2022-10-06T00:52:34.900528",
     "exception": false,
     "start_time": "2022-10-06T00:52:34.848025",
     "status": "completed"
    },
    "tags": []
   },
   "outputs": [],
   "source": [
    "data = Data(X_train, y_train.reshape(-1,1))\n",
    "sampler = Sampler(data, config.bs, shuffle=True)\n",
    "\n",
    "dl = Dataloader(data, sampler)\n",
    "\n",
    "opt = GD(config.lr)\n",
    "loss = MSE()"
   ]
  },
  {
   "cell_type": "code",
   "execution_count": 18,
   "id": "b275e4c2",
   "metadata": {
    "execution": {
     "iopub.execute_input": "2022-10-06T00:52:34.983547Z",
     "iopub.status.busy": "2022-10-06T00:52:34.980754Z",
     "iopub.status.idle": "2022-10-06T00:52:34.989046Z",
     "shell.execute_reply": "2022-10-06T00:52:34.987820Z"
    },
    "papermill": {
     "duration": 0.056148,
     "end_time": "2022-10-06T00:52:34.989176",
     "exception": false,
     "start_time": "2022-10-06T00:52:34.933028",
     "status": "completed"
    },
    "tags": []
   },
   "outputs": [],
   "source": [
    "training_data_x = X_train\n",
    "testing_data_x = X_test\n",
    "training_data_y = y_train.reshape(-1,1)\n",
    "testing_data_y = y_test.reshape(-1,1)"
   ]
  },
  {
   "cell_type": "code",
   "execution_count": 19,
   "id": "76951160",
   "metadata": {
    "execution": {
     "iopub.execute_input": "2022-10-06T00:52:35.059937Z",
     "iopub.status.busy": "2022-10-06T00:52:35.058562Z",
     "iopub.status.idle": "2022-10-06T00:52:35.080983Z",
     "shell.execute_reply": "2022-10-06T00:52:35.080370Z"
    },
    "papermill": {
     "duration": 0.06024,
     "end_time": "2022-10-06T00:52:35.081124",
     "exception": false,
     "start_time": "2022-10-06T00:52:35.020884",
     "status": "completed"
    },
    "tags": []
   },
   "outputs": [
    {
     "name": "stdout",
     "output_type": "stream",
     "text": [
      "xavier\n",
      "xavier\n",
      "xavier\n",
      "xavier\n",
      "xavier\n"
     ]
    }
   ],
   "source": [
    "layers = [Affine(\"first\", 784, 100), Relu(\"first\"), Affine(\"second\", 100, 100), Relu(\"second\"), Affine(\"third\", 100, 2), Affine(\"last\", 2, 1), Sigmoid(\"last\")]\n",
    "model_nn = Model(layers)\n",
    "model_lr = Model([Affine(\"logits\", 784, 1), Sigmoid(\"sigmoid\")])"
   ]
  },
  {
   "cell_type": "code",
   "execution_count": 20,
   "id": "6eede77a",
   "metadata": {
    "execution": {
     "iopub.execute_input": "2022-10-06T00:52:35.162579Z",
     "iopub.status.busy": "2022-10-06T00:52:35.159514Z",
     "iopub.status.idle": "2022-10-06T00:52:35.169756Z",
     "shell.execute_reply": "2022-10-06T00:52:35.169118Z"
    },
    "papermill": {
     "duration": 0.055181,
     "end_time": "2022-10-06T00:52:35.169890",
     "exception": false,
     "start_time": "2022-10-06T00:52:35.114709",
     "status": "completed"
    },
    "tags": []
   },
   "outputs": [],
   "source": [
    "nn_learner = Learner(loss, model_nn, opt, config.num_epochs)\n",
    "acc_nn = ClfCallback(nn_learner, config.bs, training_data_x , testing_data_x, training_data_y, testing_data_y)\n",
    "nn_learner.set_callbacks([acc_nn])"
   ]
  },
  {
   "cell_type": "code",
   "execution_count": 21,
   "id": "877b6cc7",
   "metadata": {
    "execution": {
     "iopub.execute_input": "2022-10-06T00:52:35.242538Z",
     "iopub.status.busy": "2022-10-06T00:52:35.240329Z",
     "iopub.status.idle": "2022-10-06T00:52:35.253182Z",
     "shell.execute_reply": "2022-10-06T00:52:35.253942Z"
    },
    "papermill": {
     "duration": 0.050834,
     "end_time": "2022-10-06T00:52:35.254101",
     "exception": false,
     "start_time": "2022-10-06T00:52:35.203267",
     "status": "completed"
    },
    "tags": []
   },
   "outputs": [],
   "source": [
    "lr_learner = Learner(loss, model_lr, opt, config.num_epochs)\n",
    "acc_lr = ClfCallback(lr_learner, config.bs, training_data_x , testing_data_x, training_data_y, testing_data_y)\n",
    "lr_learner.set_callbacks([acc_lr])"
   ]
  },
  {
   "cell_type": "code",
   "execution_count": 22,
   "id": "d9b133c3",
   "metadata": {
    "execution": {
     "iopub.execute_input": "2022-10-06T00:52:35.331649Z",
     "iopub.status.busy": "2022-10-06T00:52:35.328550Z",
     "iopub.status.idle": "2022-10-06T00:54:41.386174Z",
     "shell.execute_reply": "2022-10-06T00:54:41.387197Z"
    },
    "papermill": {
     "duration": 126.100041,
     "end_time": "2022-10-06T00:54:41.387373",
     "exception": false,
     "start_time": "2022-10-06T00:52:35.287332",
     "status": "completed"
    },
    "tags": []
   },
   "outputs": [
    {
     "name": "stdout",
     "output_type": "stream",
     "text": [
      "Epoch 0, Loss 0.2338\n",
      "Training Accuracy: 0.7417, Testing Accuracy: 0.7545\n",
      "\n"
     ]
    },
    {
     "name": "stdout",
     "output_type": "stream",
     "text": [
      "Epoch 10, Loss 0.0877\n",
      "Training Accuracy: 0.9133, Testing Accuracy: 0.9234\n",
      "\n"
     ]
    },
    {
     "name": "stdout",
     "output_type": "stream",
     "text": [
      "Epoch 20, Loss 0.0572\n",
      "Training Accuracy: 0.9377, Testing Accuracy: 0.9456\n",
      "\n"
     ]
    },
    {
     "name": "stdout",
     "output_type": "stream",
     "text": [
      "Epoch 30, Loss 0.0457\n",
      "Training Accuracy: 0.9485, Testing Accuracy: 0.9541\n",
      "\n"
     ]
    },
    {
     "name": "stdout",
     "output_type": "stream",
     "text": [
      "Epoch 40, Loss 0.0397\n",
      "Training Accuracy: 0.9546, Testing Accuracy: 0.9622\n",
      "\n"
     ]
    },
    {
     "name": "stdout",
     "output_type": "stream",
     "text": [
      "Epoch 50, Loss 0.0359\n",
      "Training Accuracy: 0.9588, Testing Accuracy: 0.9647\n",
      "\n"
     ]
    },
    {
     "name": "stdout",
     "output_type": "stream",
     "text": [
      "Epoch 60, Loss 0.0333\n",
      "Training Accuracy: 0.9610, Testing Accuracy: 0.9672\n",
      "\n"
     ]
    },
    {
     "name": "stdout",
     "output_type": "stream",
     "text": [
      "Epoch 70, Loss 0.0313\n",
      "Training Accuracy: 0.9627, Testing Accuracy: 0.9688\n",
      "\n"
     ]
    },
    {
     "name": "stdout",
     "output_type": "stream",
     "text": [
      "Epoch 80, Loss 0.0297\n",
      "Training Accuracy: 0.9645, Testing Accuracy: 0.9713\n",
      "\n"
     ]
    },
    {
     "name": "stdout",
     "output_type": "stream",
     "text": [
      "Epoch 90, Loss 0.0284\n",
      "Training Accuracy: 0.9658, Testing Accuracy: 0.9728\n",
      "\n"
     ]
    },
    {
     "name": "stdout",
     "output_type": "stream",
     "text": [
      "Epoch 100, Loss 0.0273\n",
      "Training Accuracy: 0.9675, Testing Accuracy: 0.9728\n",
      "\n"
     ]
    },
    {
     "name": "stdout",
     "output_type": "stream",
     "text": [
      "Epoch 110, Loss 0.0263\n",
      "Training Accuracy: 0.9677, Testing Accuracy: 0.9723\n",
      "\n"
     ]
    },
    {
     "name": "stdout",
     "output_type": "stream",
     "text": [
      "Epoch 120, Loss 0.0254\n",
      "Training Accuracy: 0.9695, Testing Accuracy: 0.9723\n",
      "\n"
     ]
    },
    {
     "name": "stdout",
     "output_type": "stream",
     "text": [
      "Epoch 130, Loss 0.0246\n",
      "Training Accuracy: 0.9700, Testing Accuracy: 0.9728\n",
      "\n"
     ]
    },
    {
     "name": "stdout",
     "output_type": "stream",
     "text": [
      "Epoch 140, Loss 0.0239\n",
      "Training Accuracy: 0.9715, Testing Accuracy: 0.9743\n",
      "\n"
     ]
    },
    {
     "name": "stdout",
     "output_type": "stream",
     "text": [
      "Epoch 150, Loss 0.0232\n",
      "Training Accuracy: 0.9724, Testing Accuracy: 0.9738\n",
      "\n"
     ]
    },
    {
     "name": "stdout",
     "output_type": "stream",
     "text": [
      "Epoch 160, Loss 0.0226\n",
      "Training Accuracy: 0.9733, Testing Accuracy: 0.9743\n",
      "\n"
     ]
    },
    {
     "name": "stdout",
     "output_type": "stream",
     "text": [
      "Epoch 170, Loss 0.022\n",
      "Training Accuracy: 0.9740, Testing Accuracy: 0.9748\n",
      "\n"
     ]
    },
    {
     "name": "stdout",
     "output_type": "stream",
     "text": [
      "Epoch 180, Loss 0.0215\n",
      "Training Accuracy: 0.9752, Testing Accuracy: 0.9753\n",
      "\n"
     ]
    },
    {
     "name": "stdout",
     "output_type": "stream",
     "text": [
      "Epoch 190, Loss 0.021\n",
      "Training Accuracy: 0.9760, Testing Accuracy: 0.9748\n",
      "\n"
     ]
    },
    {
     "name": "stdout",
     "output_type": "stream",
     "text": [
      "Epoch 200, Loss 0.0205\n",
      "Training Accuracy: 0.9770, Testing Accuracy: 0.9748\n",
      "\n"
     ]
    },
    {
     "name": "stdout",
     "output_type": "stream",
     "text": [
      "Epoch 210, Loss 0.0201\n",
      "Training Accuracy: 0.9777, Testing Accuracy: 0.9738\n",
      "\n"
     ]
    },
    {
     "name": "stdout",
     "output_type": "stream",
     "text": [
      "Epoch 220, Loss 0.0197\n",
      "Training Accuracy: 0.9784, Testing Accuracy: 0.9738\n",
      "\n"
     ]
    },
    {
     "name": "stdout",
     "output_type": "stream",
     "text": [
      "Epoch 230, Loss 0.0192\n",
      "Training Accuracy: 0.9791, Testing Accuracy: 0.9743\n",
      "\n"
     ]
    },
    {
     "name": "stdout",
     "output_type": "stream",
     "text": [
      "Epoch 240, Loss 0.0189\n",
      "Training Accuracy: 0.9793, Testing Accuracy: 0.9753\n",
      "\n"
     ]
    },
    {
     "data": {
      "text/plain": [
       "0.009612299688142381"
      ]
     },
     "execution_count": 22,
     "metadata": {},
     "output_type": "execute_result"
    }
   ],
   "source": [
    "nn_learner.train_loop(dl)"
   ]
  },
  {
   "cell_type": "code",
   "execution_count": 23,
   "id": "e0163366",
   "metadata": {
    "execution": {
     "iopub.execute_input": "2022-10-06T00:54:41.491203Z",
     "iopub.status.busy": "2022-10-06T00:54:41.490374Z",
     "iopub.status.idle": "2022-10-06T00:54:59.943361Z",
     "shell.execute_reply": "2022-10-06T00:54:59.946256Z"
    },
    "papermill": {
     "duration": 18.513884,
     "end_time": "2022-10-06T00:54:59.946431",
     "exception": false,
     "start_time": "2022-10-06T00:54:41.432547",
     "status": "completed"
    },
    "tags": []
   },
   "outputs": [
    {
     "name": "stdout",
     "output_type": "stream",
     "text": [
      "Epoch 0, Loss 0.1966\n",
      "Training Accuracy: 0.8171, Testing Accuracy: 0.8412\n",
      "\n"
     ]
    },
    {
     "name": "stdout",
     "output_type": "stream",
     "text": [
      "Epoch 10, Loss 0.0988\n",
      "Training Accuracy: 0.9151, Testing Accuracy: 0.9289\n",
      "\n"
     ]
    },
    {
     "name": "stdout",
     "output_type": "stream",
     "text": [
      "Epoch 20, Loss 0.0777\n",
      "Training Accuracy: 0.9291, Testing Accuracy: 0.9420\n",
      "\n"
     ]
    },
    {
     "name": "stdout",
     "output_type": "stream",
     "text": [
      "Epoch 30, Loss 0.0674\n",
      "Training Accuracy: 0.9372, Testing Accuracy: 0.9516\n",
      "\n"
     ]
    },
    {
     "name": "stdout",
     "output_type": "stream",
     "text": [
      "Epoch 40, Loss 0.0612\n",
      "Training Accuracy: 0.9422, Testing Accuracy: 0.9541\n",
      "\n"
     ]
    },
    {
     "name": "stdout",
     "output_type": "stream",
     "text": [
      "Epoch 50, Loss 0.0568\n",
      "Training Accuracy: 0.9469, Testing Accuracy: 0.9556\n",
      "\n"
     ]
    },
    {
     "name": "stdout",
     "output_type": "stream",
     "text": [
      "Epoch 60, Loss 0.0536\n",
      "Training Accuracy: 0.9493, Testing Accuracy: 0.9572\n",
      "\n"
     ]
    },
    {
     "name": "stdout",
     "output_type": "stream",
     "text": [
      "Epoch 70, Loss 0.0511\n",
      "Training Accuracy: 0.9508, Testing Accuracy: 0.9572\n",
      "\n"
     ]
    },
    {
     "name": "stdout",
     "output_type": "stream",
     "text": [
      "Epoch 80, Loss 0.0491\n",
      "Training Accuracy: 0.9528, Testing Accuracy: 0.9602\n",
      "\n"
     ]
    },
    {
     "name": "stdout",
     "output_type": "stream",
     "text": [
      "Epoch 90, Loss 0.0475\n",
      "Training Accuracy: 0.9539, Testing Accuracy: 0.9592\n",
      "\n"
     ]
    },
    {
     "name": "stdout",
     "output_type": "stream",
     "text": [
      "Epoch 100, Loss 0.0461\n",
      "Training Accuracy: 0.9544, Testing Accuracy: 0.9597\n",
      "\n"
     ]
    },
    {
     "name": "stdout",
     "output_type": "stream",
     "text": [
      "Epoch 110, Loss 0.0449\n",
      "Training Accuracy: 0.9549, Testing Accuracy: 0.9602\n",
      "\n"
     ]
    },
    {
     "name": "stdout",
     "output_type": "stream",
     "text": [
      "Epoch 120, Loss 0.0438\n",
      "Training Accuracy: 0.9554, Testing Accuracy: 0.9622\n",
      "\n"
     ]
    },
    {
     "name": "stdout",
     "output_type": "stream",
     "text": [
      "Epoch 130, Loss 0.0429\n",
      "Training Accuracy: 0.9566, Testing Accuracy: 0.9637\n",
      "\n"
     ]
    },
    {
     "name": "stdout",
     "output_type": "stream",
     "text": [
      "Epoch 140, Loss 0.0421\n",
      "Training Accuracy: 0.9571, Testing Accuracy: 0.9637\n",
      "\n"
     ]
    },
    {
     "name": "stdout",
     "output_type": "stream",
     "text": [
      "Epoch 150, Loss 0.0413\n",
      "Training Accuracy: 0.9579, Testing Accuracy: 0.9637\n",
      "\n"
     ]
    },
    {
     "name": "stdout",
     "output_type": "stream",
     "text": [
      "Epoch 160, Loss 0.0407\n",
      "Training Accuracy: 0.9584, Testing Accuracy: 0.9647\n",
      "\n"
     ]
    },
    {
     "name": "stdout",
     "output_type": "stream",
     "text": [
      "Epoch 170, Loss 0.0401\n",
      "Training Accuracy: 0.9586, Testing Accuracy: 0.9647\n",
      "\n"
     ]
    },
    {
     "name": "stdout",
     "output_type": "stream",
     "text": [
      "Epoch 180, Loss 0.0395\n",
      "Training Accuracy: 0.9587, Testing Accuracy: 0.9652\n",
      "\n"
     ]
    },
    {
     "name": "stdout",
     "output_type": "stream",
     "text": [
      "Epoch 190, Loss 0.039\n",
      "Training Accuracy: 0.9589, Testing Accuracy: 0.9652\n",
      "\n"
     ]
    },
    {
     "name": "stdout",
     "output_type": "stream",
     "text": [
      "Epoch 200, Loss 0.0385\n",
      "Training Accuracy: 0.9593, Testing Accuracy: 0.9662\n",
      "\n"
     ]
    },
    {
     "name": "stdout",
     "output_type": "stream",
     "text": [
      "Epoch 210, Loss 0.0381\n",
      "Training Accuracy: 0.9594, Testing Accuracy: 0.9662\n",
      "\n"
     ]
    },
    {
     "name": "stdout",
     "output_type": "stream",
     "text": [
      "Epoch 220, Loss 0.0377\n",
      "Training Accuracy: 0.9597, Testing Accuracy: 0.9662\n",
      "\n"
     ]
    },
    {
     "name": "stdout",
     "output_type": "stream",
     "text": [
      "Epoch 230, Loss 0.0373\n",
      "Training Accuracy: 0.9601, Testing Accuracy: 0.9662\n",
      "\n"
     ]
    },
    {
     "name": "stdout",
     "output_type": "stream",
     "text": [
      "Epoch 240, Loss 0.0369\n",
      "Training Accuracy: 0.9602, Testing Accuracy: 0.9662\n",
      "\n"
     ]
    },
    {
     "data": {
      "text/plain": [
       "0.026732835029365878"
      ]
     },
     "execution_count": 23,
     "metadata": {},
     "output_type": "execute_result"
    }
   ],
   "source": [
    "lr_learner.train_loop(dl)"
   ]
  },
  {
   "cell_type": "code",
   "execution_count": 24,
   "id": "ca410940",
   "metadata": {
    "execution": {
     "iopub.execute_input": "2022-10-06T00:55:00.059130Z",
     "iopub.status.busy": "2022-10-06T00:55:00.058334Z",
     "iopub.status.idle": "2022-10-06T00:55:00.353083Z",
     "shell.execute_reply": "2022-10-06T00:55:00.352458Z"
    },
    "papermill": {
     "duration": 0.351969,
     "end_time": "2022-10-06T00:55:00.353227",
     "exception": false,
     "start_time": "2022-10-06T00:55:00.001258",
     "status": "completed"
    },
    "tags": []
   },
   "outputs": [
    {
     "data": {
      "text/plain": [
       "<matplotlib.legend.Legend at 0x7f63d3bda400>"
      ]
     },
     "execution_count": 24,
     "metadata": {},
     "output_type": "execute_result"
    },
    {
     "data": {
      "image/png": "[encoded data removed]",
      "text/plain": [
       "<Figure size 1080x720 with 1 Axes>"
      ]
     },
     "metadata": {
      "needs_background": "light"
     },
     "output_type": "display_data"
    }
   ],
   "source": [
    "#comparing the results of NN and LR\n",
    "plt.figure(figsize=(15,10))\n",
    "\n",
    "# Neural Network plots\n",
    "plt.plot(acc_nn.accuracies, 'r-', label = \"Training Accuracies - NN\")\n",
    "plt.plot(acc_nn.test_accuracies, 'g-', label = \"Testing Accuracies - NN\")\n",
    "\n",
    "# Logistic Regression plots\n",
    "plt.plot(acc_lr.accuracies, 'k-', label = \"Training Accuracies - LR\")\n",
    "plt.plot(acc_lr.test_accuracies, 'b-', label = \"Testing Accuracies - LR\")\n",
    "plt.legend()"
   ]
  },
  {
   "cell_type": "markdown",
   "id": "80dfb35c",
   "metadata": {
    "papermill": {
     "duration": 0.052561,
     "end_time": "2022-10-06T00:55:00.458987",
     "exception": false,
     "start_time": "2022-10-06T00:55:00.406426",
     "status": "completed"
    },
    "tags": []
   },
   "source": [
    "#### Plotting the outputs of this layer of the NN.\n"
   ]
  },
  {
   "cell_type": "code",
   "execution_count": 25,
   "id": "45eb2ff5",
   "metadata": {
    "execution": {
     "iopub.execute_input": "2022-10-06T00:55:00.573152Z",
     "iopub.status.busy": "2022-10-06T00:55:00.571957Z",
     "iopub.status.idle": "2022-10-06T00:55:00.603464Z",
     "shell.execute_reply": "2022-10-06T00:55:00.604066Z"
    },
    "papermill": {
     "duration": 0.090149,
     "end_time": "2022-10-06T00:55:00.604242",
     "exception": false,
     "start_time": "2022-10-06T00:55:00.514093",
     "status": "completed"
    },
    "tags": []
   },
   "outputs": [],
   "source": [
    "new_model = Model(layers[:-2])\n",
    "testing_plot = new_model(testing_data_x)"
   ]
  },
  {
   "cell_type": "code",
   "execution_count": 26,
   "id": "4c0a5485",
   "metadata": {
    "execution": {
     "iopub.execute_input": "2022-10-06T00:55:00.723178Z",
     "iopub.status.busy": "2022-10-06T00:55:00.722432Z",
     "iopub.status.idle": "2022-10-06T00:55:00.961132Z",
     "shell.execute_reply": "2022-10-06T00:55:00.960502Z"
    },
    "papermill": {
     "duration": 0.303052,
     "end_time": "2022-10-06T00:55:00.961278",
     "exception": false,
     "start_time": "2022-10-06T00:55:00.658226",
     "status": "completed"
    },
    "tags": []
   },
   "outputs": [
    {
     "data": {
      "text/plain": [
       "Text(0.5, 1.0, 'Outputs')"
      ]
     },
     "execution_count": 26,
     "metadata": {},
     "output_type": "execute_result"
    },
    {
     "data": {
      "image/png": "[encoded data removed]",
      "text/plain": [
       "<Figure size 576x504 with 1 Axes>"
      ]
     },
     "metadata": {
      "needs_background": "light"
     },
     "output_type": "display_data"
    }
   ],
   "source": [
    "# Plotting the scatter plot of points and color coding by class\n",
    "plt.figure(figsize=(8,7))\n",
    "plt.scatter(testing_plot[:,0], testing_plot[:,1], alpha = 0.1, c = y_test.ravel());\n",
    "plt.title('Outputs')"
   ]
  },
  {
   "cell_type": "markdown",
   "id": "a74fcf8f",
   "metadata": {
    "papermill": {
     "duration": 0.087227,
     "end_time": "2022-10-06T00:55:01.104043",
     "exception": false,
     "start_time": "2022-10-06T00:55:01.016816",
     "status": "completed"
    },
    "tags": []
   },
   "source": [
    "Probability contours"
   ]
  },
  {
   "cell_type": "code",
   "execution_count": 27,
   "id": "d0afc8e3",
   "metadata": {
    "execution": {
     "iopub.execute_input": "2022-10-06T00:55:01.229073Z",
     "iopub.status.busy": "2022-10-06T00:55:01.227731Z",
     "iopub.status.idle": "2022-10-06T00:55:01.238722Z",
     "shell.execute_reply": "2022-10-06T00:55:01.239279Z"
    },
    "papermill": {
     "duration": 0.078495,
     "end_time": "2022-10-06T00:55:01.239452",
     "exception": false,
     "start_time": "2022-10-06T00:55:01.160957",
     "status": "completed"
    },
    "tags": []
   },
   "outputs": [],
   "source": [
    "model_prob = Model(layers[-2:]) "
   ]
  },
  {
   "cell_type": "code",
   "execution_count": 28,
   "id": "9b96e238",
   "metadata": {
    "execution": {
     "iopub.execute_input": "2022-10-06T00:55:01.357694Z",
     "iopub.status.busy": "2022-10-06T00:55:01.356901Z",
     "iopub.status.idle": "2022-10-06T00:55:01.374031Z",
     "shell.execute_reply": "2022-10-06T00:55:01.373338Z"
    },
    "papermill": {
     "duration": 0.07892,
     "end_time": "2022-10-06T00:55:01.374181",
     "exception": false,
     "start_time": "2022-10-06T00:55:01.295261",
     "status": "completed"
    },
    "tags": []
   },
   "outputs": [],
   "source": [
    "#creating the x and y ranges according to the above generated plot.\n",
    "x_range = np.linspace(-4, 1, 100) \n",
    "y_range = np.linspace(-6, 6, 100) \n",
    "x_grid, y_grid = np.meshgrid(x_range, y_range) # x_grid and y_grig are of size 100 X 100\n",
    "\n",
    "# converting x_grid and y_grid to continuous arrays\n",
    "x_gridflat = np.ravel(x_grid)\n",
    "y_gridflat = np.ravel(y_grid)\n",
    "\n",
    "# The last layer of the current model takes two columns as input. Hence transpose of np.vstack() is required.\n",
    "X = np.vstack((x_gridflat, y_gridflat)).T\n",
    "\n",
    "prob_contour = model_prob(X).reshape(100,100) "
   ]
  },
  {
   "cell_type": "code",
   "execution_count": 29,
   "id": "da72499a",
   "metadata": {
    "execution": {
     "iopub.execute_input": "2022-10-06T00:55:01.496285Z",
     "iopub.status.busy": "2022-10-06T00:55:01.495489Z",
     "iopub.status.idle": "2022-10-06T00:55:01.822941Z",
     "shell.execute_reply": "2022-10-06T00:55:01.822301Z"
    },
    "papermill": {
     "duration": 0.393187,
     "end_time": "2022-10-06T00:55:01.823087",
     "exception": false,
     "start_time": "2022-10-06T00:55:01.429900",
     "status": "completed"
    },
    "tags": []
   },
   "outputs": [
    {
     "data": {
      "image/png": "[encoded data removed]",
      "text/plain": [
       "<Figure size 720x648 with 1 Axes>"
      ]
     },
     "metadata": {
      "needs_background": "light"
     },
     "output_type": "display_data"
    }
   ],
   "source": [
    "plt.figure(figsize=(10,9))\n",
    "plt.scatter(testing_plot[:,0], testing_plot[:,1], alpha = 0.1, c = y_test.ravel())\n",
    "contours = plt.contour(x_grid,y_grid,prob_contour)\n",
    "plt.title('Probability Contours')\n",
    "plt.clabel(contours, inline = True );"
   ]
  },
  {
   "cell_type": "code",
   "execution_count": null,
   "id": "e81b4ac7",
   "metadata": {
    "papermill": {
     "duration": 0.062099,
     "end_time": "2022-10-06T00:55:01.945677",
     "exception": false,
     "start_time": "2022-10-06T00:55:01.883578",
     "status": "completed"
    },
    "tags": []
   },
   "outputs": [],
   "source": []
  }
 ],
 "metadata": {
  "kernelspec": {
   "display_name": "Python 3",
   "language": "python",
   "name": "python3"
  },
  "language_info": {
   "codemirror_mode": {
    "name": "ipython",
    "version": 3
   },
   "file_extension": ".py",
   "mimetype": "text/x-python",
   "name": "python",
   "nbconvert_exporter": "python",
   "pygments_lexer": "ipython3",
   "version": "3.6.15"
  },
  "papermill": {
   "default_parameters": {},
   "duration": 154.413921,
   "end_time": "2022-10-06T00:55:02.426250",
   "environment_variables": {},
   "exception": null,
   "input_path": "2020-08-11-part2.ipynb",
   "output_path": "2020-08-11-part2.ipynb",
   "parameters": {},
   "start_time": "2022-10-06T00:52:28.012329",
   "version": "2.3.3"
  }
 },
 "nbformat": 4,
 "nbformat_minor": 5
}