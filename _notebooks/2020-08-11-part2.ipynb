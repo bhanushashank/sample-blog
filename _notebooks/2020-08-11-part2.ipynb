{
 "cells": [
  {
   "cell_type": "markdown",
   "id": "98380cd3",
   "metadata": {
    "papermill": {
     "duration": 0.037124,
     "end_time": "2022-06-22T20:09:46.934512",
     "exception": false,
     "start_time": "2022-06-22T20:09:46.897388",
     "status": "completed"
    },
    "tags": []
   },
   "source": [
    "# Distinguish Your Own Digits (DYOD)"
   ]
  },
  {
   "cell_type": "markdown",
   "id": "ef31240d",
   "metadata": {
    "papermill": {
     "duration": 0.028111,
     "end_time": "2022-06-22T20:09:46.989944",
     "exception": false,
     "start_time": "2022-06-22T20:09:46.961833",
     "status": "completed"
    },
    "tags": []
   },
   "source": [
    "You are going to write a classifier that distinguishes between the number 3 and number 8."
   ]
  },
  {
   "cell_type": "code",
   "execution_count": 1,
   "id": "b15c8646",
   "metadata": {
    "execution": {
     "iopub.execute_input": "2022-06-22T20:09:47.046450Z",
     "iopub.status.busy": "2022-06-22T20:09:47.045900Z",
     "iopub.status.idle": "2022-06-22T20:09:47.055795Z",
     "shell.execute_reply": "2022-06-22T20:09:47.055370Z"
    },
    "papermill": {
     "duration": 0.041535,
     "end_time": "2022-06-22T20:09:47.055913",
     "exception": false,
     "start_time": "2022-06-22T20:09:47.014378",
     "status": "completed"
    },
    "tags": []
   },
   "outputs": [],
   "source": [
    "%load_ext autoreload\n",
    "%autoreload 2"
   ]
  },
  {
   "cell_type": "code",
   "execution_count": 2,
   "id": "22ef38dc",
   "metadata": {
    "execution": {
     "iopub.execute_input": "2022-06-22T20:09:47.106953Z",
     "iopub.status.busy": "2022-06-22T20:09:47.106418Z",
     "iopub.status.idle": "2022-06-22T20:09:47.588290Z",
     "shell.execute_reply": "2022-06-22T20:09:47.587734Z"
    },
    "papermill": {
     "duration": 0.511372,
     "end_time": "2022-06-22T20:09:47.588413",
     "exception": false,
     "start_time": "2022-06-22T20:09:47.077041",
     "status": "completed"
    },
    "tags": []
   },
   "outputs": [],
   "source": [
    "%matplotlib inline\n",
    "import numpy as np\n",
    "import matplotlib.pyplot as plt\n",
    "import pandas as pd"
   ]
  },
  {
   "cell_type": "markdown",
   "id": "ba036198",
   "metadata": {
    "papermill": {
     "duration": 0.027663,
     "end_time": "2022-06-22T20:09:47.643250",
     "exception": false,
     "start_time": "2022-06-22T20:09:47.615587",
     "status": "completed"
    },
    "tags": []
   },
   "source": [
    "From the command line run `pip install mnist`. This is a library that will help you bring down the mnist dataset. If you run this from a notebook, you need to put  `!pip install mnist` in a cell by itself."
   ]
  },
  {
   "cell_type": "code",
   "execution_count": 3,
   "id": "bb6ad8a1",
   "metadata": {
    "execution": {
     "iopub.execute_input": "2022-06-22T20:09:47.698371Z",
     "iopub.status.busy": "2022-06-22T20:09:47.697739Z",
     "iopub.status.idle": "2022-06-22T20:09:50.095969Z",
     "shell.execute_reply": "2022-06-22T20:09:50.095378Z"
    },
    "papermill": {
     "duration": 2.428399,
     "end_time": "2022-06-22T20:09:50.096110",
     "exception": false,
     "start_time": "2022-06-22T20:09:47.667711",
     "status": "completed"
    },
    "tags": []
   },
   "outputs": [
    {
     "name": "stdout",
     "output_type": "stream",
     "text": [
      "Collecting mnist\r\n"
     ]
    },
    {
     "name": "stdout",
     "output_type": "stream",
     "text": [
      "  Downloading mnist-0.2.2-py2.py3-none-any.whl (3.5 kB)\r\n",
      "Requirement already satisfied: numpy in /opt/hostedtoolcache/Python/3.6.15/x64/lib/python3.6/site-packages (from mnist) (1.19.5)\r\n"
     ]
    },
    {
     "name": "stdout",
     "output_type": "stream",
     "text": [
      "Installing collected packages: mnist\r\n"
     ]
    },
    {
     "name": "stdout",
     "output_type": "stream",
     "text": [
      "Successfully installed mnist-0.2.2\r\n"
     ]
    }
   ],
   "source": [
    "!pip install mnist"
   ]
  },
  {
   "cell_type": "markdown",
   "id": "69df9c9a",
   "metadata": {
    "papermill": {
     "duration": 0.022405,
     "end_time": "2022-06-22T20:09:50.141607",
     "exception": false,
     "start_time": "2022-06-22T20:09:50.119202",
     "status": "completed"
    },
    "tags": []
   },
   "source": [
    "## Preparing the Data"
   ]
  },
  {
   "cell_type": "code",
   "execution_count": 4,
   "id": "7f69d806",
   "metadata": {
    "execution": {
     "iopub.execute_input": "2022-06-22T20:09:50.205128Z",
     "iopub.status.busy": "2022-06-22T20:09:50.204110Z",
     "iopub.status.idle": "2022-06-22T20:09:50.207602Z",
     "shell.execute_reply": "2022-06-22T20:09:50.207169Z"
    },
    "papermill": {
     "duration": 0.044031,
     "end_time": "2022-06-22T20:09:50.207704",
     "exception": false,
     "start_time": "2022-06-22T20:09:50.163673",
     "status": "completed"
    },
    "tags": []
   },
   "outputs": [],
   "source": [
    "import mnist"
   ]
  },
  {
   "cell_type": "code",
   "execution_count": 5,
   "id": "a411e44f",
   "metadata": {
    "execution": {
     "iopub.execute_input": "2022-06-22T20:09:50.258348Z",
     "iopub.status.busy": "2022-06-22T20:09:50.257807Z",
     "iopub.status.idle": "2022-06-22T20:09:50.821057Z",
     "shell.execute_reply": "2022-06-22T20:09:50.820155Z"
    },
    "papermill": {
     "duration": 0.591594,
     "end_time": "2022-06-22T20:09:50.821206",
     "exception": false,
     "start_time": "2022-06-22T20:09:50.229612",
     "status": "completed"
    },
    "tags": []
   },
   "outputs": [],
   "source": [
    "train_images = mnist.train_images()\n",
    "train_labels = mnist.train_labels()"
   ]
  },
  {
   "cell_type": "code",
   "execution_count": 6,
   "id": "dceab3a5",
   "metadata": {
    "execution": {
     "iopub.execute_input": "2022-06-22T20:09:50.894265Z",
     "iopub.status.busy": "2022-06-22T20:09:50.889931Z",
     "iopub.status.idle": "2022-06-22T20:09:50.900032Z",
     "shell.execute_reply": "2022-06-22T20:09:50.899461Z"
    },
    "papermill": {
     "duration": 0.052469,
     "end_time": "2022-06-22T20:09:50.900147",
     "exception": false,
     "start_time": "2022-06-22T20:09:50.847678",
     "status": "completed"
    },
    "tags": []
   },
   "outputs": [
    {
     "data": {
      "text/plain": [
       "((60000, 28, 28), (60000,))"
      ]
     },
     "execution_count": 6,
     "metadata": {},
     "output_type": "execute_result"
    }
   ],
   "source": [
    "train_images.shape, train_labels.shape"
   ]
  },
  {
   "cell_type": "code",
   "execution_count": 7,
   "id": "f50dc2bb",
   "metadata": {
    "execution": {
     "iopub.execute_input": "2022-06-22T20:09:50.957859Z",
     "iopub.status.busy": "2022-06-22T20:09:50.956905Z",
     "iopub.status.idle": "2022-06-22T20:09:51.075769Z",
     "shell.execute_reply": "2022-06-22T20:09:51.075174Z"
    },
    "papermill": {
     "duration": 0.149542,
     "end_time": "2022-06-22T20:09:51.075913",
     "exception": false,
     "start_time": "2022-06-22T20:09:50.926371",
     "status": "completed"
    },
    "tags": []
   },
   "outputs": [],
   "source": [
    "test_images = mnist.test_images()\n",
    "test_labels = mnist.test_labels()"
   ]
  },
  {
   "cell_type": "code",
   "execution_count": 8,
   "id": "fc38cf1b",
   "metadata": {
    "execution": {
     "iopub.execute_input": "2022-06-22T20:09:51.136861Z",
     "iopub.status.busy": "2022-06-22T20:09:51.136181Z",
     "iopub.status.idle": "2022-06-22T20:09:51.147929Z",
     "shell.execute_reply": "2022-06-22T20:09:51.147438Z"
    },
    "papermill": {
     "duration": 0.045904,
     "end_time": "2022-06-22T20:09:51.148070",
     "exception": false,
     "start_time": "2022-06-22T20:09:51.102166",
     "status": "completed"
    },
    "tags": []
   },
   "outputs": [
    {
     "data": {
      "text/plain": [
       "((10000, 28, 28), (10000,))"
      ]
     },
     "execution_count": 8,
     "metadata": {},
     "output_type": "execute_result"
    }
   ],
   "source": [
    "test_images.shape, test_labels.shape"
   ]
  },
  {
   "cell_type": "code",
   "execution_count": 9,
   "id": "f9ed8fe0",
   "metadata": {
    "execution": {
     "iopub.execute_input": "2022-06-22T20:09:51.210925Z",
     "iopub.status.busy": "2022-06-22T20:09:51.210315Z",
     "iopub.status.idle": "2022-06-22T20:09:51.339588Z",
     "shell.execute_reply": "2022-06-22T20:09:51.340109Z"
    },
    "papermill": {
     "duration": 0.162766,
     "end_time": "2022-06-22T20:09:51.340263",
     "exception": false,
     "start_time": "2022-06-22T20:09:51.177497",
     "status": "completed"
    },
    "tags": []
   },
   "outputs": [
    {
     "name": "stdout",
     "output_type": "stream",
     "text": [
      "2\n"
     ]
    },
    {
     "data": {
      "text/plain": [
       "<matplotlib.image.AxesImage at 0x7f521da98898>"
      ]
     },
     "execution_count": 9,
     "metadata": {},
     "output_type": "execute_result"
    },
    {
     "data": {
      "image/png": "[encoded data removed]",
      "text/plain": [
       "<Figure size 432x288 with 1 Axes>"
      ]
     },
     "metadata": {
      "needs_background": "light"
     },
     "output_type": "display_data"
    }
   ],
   "source": [
    "image_index = 7776 # You may select anything up to 60,000\n",
    "print(train_labels[image_index]) \n",
    "plt.imshow(train_images[image_index], cmap='Greys')"
   ]
  },
  {
   "cell_type": "markdown",
   "id": "a8d2388d",
   "metadata": {
    "papermill": {
     "duration": 0.027819,
     "end_time": "2022-06-22T20:09:51.396400",
     "exception": false,
     "start_time": "2022-06-22T20:09:51.368581",
     "status": "completed"
    },
    "tags": []
   },
   "source": [
    "## Filter data to get 3 and 8 out"
   ]
  },
  {
   "cell_type": "code",
   "execution_count": 10,
   "id": "776f7fc7",
   "metadata": {
    "execution": {
     "iopub.execute_input": "2022-06-22T20:09:51.456713Z",
     "iopub.status.busy": "2022-06-22T20:09:51.456099Z",
     "iopub.status.idle": "2022-06-22T20:09:51.473147Z",
     "shell.execute_reply": "2022-06-22T20:09:51.473632Z"
    },
    "papermill": {
     "duration": 0.04956,
     "end_time": "2022-06-22T20:09:51.473774",
     "exception": false,
     "start_time": "2022-06-22T20:09:51.424214",
     "status": "completed"
    },
    "tags": []
   },
   "outputs": [],
   "source": [
    "train_filter = np.where((train_labels == 3 ) | (train_labels == 8))\n",
    "test_filter = np.where((test_labels == 3) | (test_labels == 8))\n",
    "X_train, y_train = train_images[train_filter], train_labels[train_filter]\n",
    "X_test, y_test = test_images[test_filter], test_labels[test_filter]"
   ]
  },
  {
   "cell_type": "markdown",
   "id": "948f0b7e",
   "metadata": {
    "papermill": {
     "duration": 0.028734,
     "end_time": "2022-06-22T20:09:51.530622",
     "exception": false,
     "start_time": "2022-06-22T20:09:51.501888",
     "status": "completed"
    },
    "tags": []
   },
   "source": [
    "We normalize the pizel values in the 0 to 1 range"
   ]
  },
  {
   "cell_type": "code",
   "execution_count": 11,
   "id": "ee4c2166",
   "metadata": {
    "execution": {
     "iopub.execute_input": "2022-06-22T20:09:51.589368Z",
     "iopub.status.busy": "2022-06-22T20:09:51.588707Z",
     "iopub.status.idle": "2022-06-22T20:09:51.636096Z",
     "shell.execute_reply": "2022-06-22T20:09:51.635450Z"
    },
    "papermill": {
     "duration": 0.078393,
     "end_time": "2022-06-22T20:09:51.636231",
     "exception": false,
     "start_time": "2022-06-22T20:09:51.557838",
     "status": "completed"
    },
    "tags": []
   },
   "outputs": [],
   "source": [
    "X_train = X_train/255.\n",
    "X_test = X_test/255."
   ]
  },
  {
   "cell_type": "markdown",
   "id": "ddcf4fab",
   "metadata": {
    "papermill": {
     "duration": 0.027357,
     "end_time": "2022-06-22T20:09:51.691354",
     "exception": false,
     "start_time": "2022-06-22T20:09:51.663997",
     "status": "completed"
    },
    "tags": []
   },
   "source": [
    "And setup the labels as 1 (when the digit is 3) and 0 (when the digit is 8)"
   ]
  },
  {
   "cell_type": "code",
   "execution_count": 12,
   "id": "7dc908f2",
   "metadata": {
    "execution": {
     "iopub.execute_input": "2022-06-22T20:09:51.750938Z",
     "iopub.status.busy": "2022-06-22T20:09:51.750325Z",
     "iopub.status.idle": "2022-06-22T20:09:51.761074Z",
     "shell.execute_reply": "2022-06-22T20:09:51.761647Z"
    },
    "papermill": {
     "duration": 0.043688,
     "end_time": "2022-06-22T20:09:51.761828",
     "exception": false,
     "start_time": "2022-06-22T20:09:51.718140",
     "status": "completed"
    },
    "tags": []
   },
   "outputs": [],
   "source": [
    "y_train = 1*(y_train==3)\n",
    "y_test = 1*(y_test==3)"
   ]
  },
  {
   "cell_type": "code",
   "execution_count": 13,
   "id": "01e4e969",
   "metadata": {
    "execution": {
     "iopub.execute_input": "2022-06-22T20:09:51.818210Z",
     "iopub.status.busy": "2022-06-22T20:09:51.817628Z",
     "iopub.status.idle": "2022-06-22T20:09:51.832350Z",
     "shell.execute_reply": "2022-06-22T20:09:51.831774Z"
    },
    "papermill": {
     "duration": 0.043818,
     "end_time": "2022-06-22T20:09:51.832460",
     "exception": false,
     "start_time": "2022-06-22T20:09:51.788642",
     "status": "completed"
    },
    "tags": []
   },
   "outputs": [
    {
     "data": {
      "text/plain": [
       "((11982, 28, 28), (1984, 28, 28))"
      ]
     },
     "execution_count": 13,
     "metadata": {},
     "output_type": "execute_result"
    }
   ],
   "source": [
    "X_train.shape, X_test.shape"
   ]
  },
  {
   "cell_type": "markdown",
   "id": "5ccf3f85",
   "metadata": {
    "papermill": {
     "duration": 0.027138,
     "end_time": "2022-06-22T20:09:51.886937",
     "exception": false,
     "start_time": "2022-06-22T20:09:51.859799",
     "status": "completed"
    },
    "tags": []
   },
   "source": [
    "We reshape the data to flatten the image pixels into a set of features or co-variates:"
   ]
  },
  {
   "cell_type": "code",
   "execution_count": 14,
   "id": "5286a4a3",
   "metadata": {
    "execution": {
     "iopub.execute_input": "2022-06-22T20:09:51.950940Z",
     "iopub.status.busy": "2022-06-22T20:09:51.950343Z",
     "iopub.status.idle": "2022-06-22T20:09:51.961040Z",
     "shell.execute_reply": "2022-06-22T20:09:51.960535Z"
    },
    "papermill": {
     "duration": 0.046601,
     "end_time": "2022-06-22T20:09:51.961155",
     "exception": false,
     "start_time": "2022-06-22T20:09:51.914554",
     "status": "completed"
    },
    "tags": []
   },
   "outputs": [
    {
     "data": {
      "text/plain": [
       "((11982, 784), (1984, 784))"
      ]
     },
     "execution_count": 14,
     "metadata": {},
     "output_type": "execute_result"
    }
   ],
   "source": [
    "X_train = X_train.reshape(X_train.shape[0], -1)\n",
    "X_test = X_test.reshape(X_test.shape[0], -1)\n",
    "X_train.shape, X_test.shape"
   ]
  },
  {
   "cell_type": "code",
   "execution_count": 15,
   "id": "73c5f88a",
   "metadata": {
    "execution": {
     "iopub.execute_input": "2022-06-22T20:09:52.030390Z",
     "iopub.status.busy": "2022-06-22T20:09:52.024729Z",
     "iopub.status.idle": "2022-06-22T20:09:52.041077Z",
     "shell.execute_reply": "2022-06-22T20:09:52.040556Z"
    },
    "papermill": {
     "duration": 0.051078,
     "end_time": "2022-06-22T20:09:52.041191",
     "exception": false,
     "start_time": "2022-06-22T20:09:51.990113",
     "status": "completed"
    },
    "tags": []
   },
   "outputs": [],
   "source": [
    "#Impoting functions from 'Kudzu'\n",
    "from kudzu.model import Model\n",
    "from kudzu.train import Learner\n",
    "from kudzu.optim import GD\n",
    "from kudzu.data import Data, Sampler,Dataloader\n",
    "\n",
    "from kudzu.callbacks import AccCallback\n",
    "from kudzu.callbacks import ClfCallback\n",
    "\n",
    "from kudzu.loss import MSE\n",
    "\n",
    "from kudzu.layer import Sigmoid,Relu\n",
    "from kudzu.layer import Affine"
   ]
  },
  {
   "cell_type": "markdown",
   "id": "bc01172a",
   "metadata": {
    "papermill": {
     "duration": 0.023866,
     "end_time": "2022-06-22T20:09:52.093543",
     "exception": false,
     "start_time": "2022-06-22T20:09:52.069677",
     "status": "completed"
    },
    "tags": []
   },
   "source": [
    "### Let us create a `Config` class, to store important parameters. \n",
    "This class essentially plays the role of a dictionary."
   ]
  },
  {
   "cell_type": "code",
   "execution_count": 16,
   "id": "978281aa",
   "metadata": {
    "execution": {
     "iopub.execute_input": "2022-06-22T20:09:52.146089Z",
     "iopub.status.busy": "2022-06-22T20:09:52.145553Z",
     "iopub.status.idle": "2022-06-22T20:09:52.156599Z",
     "shell.execute_reply": "2022-06-22T20:09:52.156163Z"
    },
    "papermill": {
     "duration": 0.039083,
     "end_time": "2022-06-22T20:09:52.156702",
     "exception": false,
     "start_time": "2022-06-22T20:09:52.117619",
     "status": "completed"
    },
    "tags": []
   },
   "outputs": [],
   "source": [
    "class Config:\n",
    "    pass\n",
    "config = Config()\n",
    "config.lr = 0.001\n",
    "config.num_epochs = 250\n",
    "config.bs = 50"
   ]
  },
  {
   "cell_type": "markdown",
   "id": "1385fa59",
   "metadata": {
    "papermill": {
     "duration": 0.023745,
     "end_time": "2022-06-22T20:09:52.204307",
     "exception": false,
     "start_time": "2022-06-22T20:09:52.180562",
     "status": "completed"
    },
    "tags": []
   },
   "source": [
    "### Running Models with the Training data\n",
    "Details about the network layers:\n",
    "- A first affine layer has 784 inputs and does 100 affine transforms. These are followed by a Relu\n",
    "- A second affine layer has 100 inputs from the 100 activations of the past layer, and does 100 affine transforms. These are followed by a Relu\n",
    "- A third affine layer has 100 activations and does 2 affine transformations to create an embedding for visualization. There is no non-linearity here.\n",
    "- A final \"logistic regression\" which has an affine transform from 2 inputs to 1 output, which is squeezed through a sigmoid.\n"
   ]
  },
  {
   "cell_type": "code",
   "execution_count": 17,
   "id": "2b9c66db",
   "metadata": {
    "execution": {
     "iopub.execute_input": "2022-06-22T20:09:52.267435Z",
     "iopub.status.busy": "2022-06-22T20:09:52.261174Z",
     "iopub.status.idle": "2022-06-22T20:09:52.269841Z",
     "shell.execute_reply": "2022-06-22T20:09:52.269323Z"
    },
    "papermill": {
     "duration": 0.041968,
     "end_time": "2022-06-22T20:09:52.269944",
     "exception": false,
     "start_time": "2022-06-22T20:09:52.227976",
     "status": "completed"
    },
    "tags": []
   },
   "outputs": [],
   "source": [
    "data = Data(X_train, y_train.reshape(-1,1))\n",
    "sampler = Sampler(data, config.bs, shuffle=True)\n",
    "\n",
    "dl = Dataloader(data, sampler)\n",
    "\n",
    "opt = GD(config.lr)\n",
    "loss = MSE()"
   ]
  },
  {
   "cell_type": "code",
   "execution_count": 18,
   "id": "b275e4c2",
   "metadata": {
    "execution": {
     "iopub.execute_input": "2022-06-22T20:09:52.321144Z",
     "iopub.status.busy": "2022-06-22T20:09:52.320580Z",
     "iopub.status.idle": "2022-06-22T20:09:52.332394Z",
     "shell.execute_reply": "2022-06-22T20:09:52.331971Z"
    },
    "papermill": {
     "duration": 0.03867,
     "end_time": "2022-06-22T20:09:52.332492",
     "exception": false,
     "start_time": "2022-06-22T20:09:52.293822",
     "status": "completed"
    },
    "tags": []
   },
   "outputs": [],
   "source": [
    "training_data_x = X_train\n",
    "testing_data_x = X_test\n",
    "training_data_y = y_train.reshape(-1,1)\n",
    "testing_data_y = y_test.reshape(-1,1)"
   ]
  },
  {
   "cell_type": "code",
   "execution_count": 19,
   "id": "76951160",
   "metadata": {
    "execution": {
     "iopub.execute_input": "2022-06-22T20:09:52.385930Z",
     "iopub.status.busy": "2022-06-22T20:09:52.385405Z",
     "iopub.status.idle": "2022-06-22T20:09:52.399896Z",
     "shell.execute_reply": "2022-06-22T20:09:52.400317Z"
    },
    "papermill": {
     "duration": 0.044452,
     "end_time": "2022-06-22T20:09:52.400493",
     "exception": false,
     "start_time": "2022-06-22T20:09:52.356041",
     "status": "completed"
    },
    "tags": []
   },
   "outputs": [
    {
     "name": "stdout",
     "output_type": "stream",
     "text": [
      "xavier\n",
      "xavier\n",
      "xavier\n",
      "xavier\n",
      "xavier\n"
     ]
    }
   ],
   "source": [
    "layers = [Affine(\"first\", 784, 100), Relu(\"first\"), Affine(\"second\", 100, 100), Relu(\"second\"), Affine(\"third\", 100, 2), Affine(\"last\", 2, 1), Sigmoid(\"last\")]\n",
    "model_nn = Model(layers)\n",
    "model_lr = Model([Affine(\"logits\", 784, 1), Sigmoid(\"sigmoid\")])"
   ]
  },
  {
   "cell_type": "code",
   "execution_count": 20,
   "id": "6eede77a",
   "metadata": {
    "execution": {
     "iopub.execute_input": "2022-06-22T20:09:52.452713Z",
     "iopub.status.busy": "2022-06-22T20:09:52.452190Z",
     "iopub.status.idle": "2022-06-22T20:09:52.463217Z",
     "shell.execute_reply": "2022-06-22T20:09:52.462780Z"
    },
    "papermill": {
     "duration": 0.038794,
     "end_time": "2022-06-22T20:09:52.463318",
     "exception": false,
     "start_time": "2022-06-22T20:09:52.424524",
     "status": "completed"
    },
    "tags": []
   },
   "outputs": [],
   "source": [
    "nn_learner = Learner(loss, model_nn, opt, config.num_epochs)\n",
    "acc_nn = ClfCallback(nn_learner, config.bs, training_data_x , testing_data_x, training_data_y, testing_data_y)\n",
    "nn_learner.set_callbacks([acc_nn])"
   ]
  },
  {
   "cell_type": "code",
   "execution_count": 21,
   "id": "877b6cc7",
   "metadata": {
    "execution": {
     "iopub.execute_input": "2022-06-22T20:09:52.518874Z",
     "iopub.status.busy": "2022-06-22T20:09:52.518244Z",
     "iopub.status.idle": "2022-06-22T20:09:52.530393Z",
     "shell.execute_reply": "2022-06-22T20:09:52.529953Z"
    },
    "papermill": {
     "duration": 0.043135,
     "end_time": "2022-06-22T20:09:52.530497",
     "exception": false,
     "start_time": "2022-06-22T20:09:52.487362",
     "status": "completed"
    },
    "tags": []
   },
   "outputs": [],
   "source": [
    "lr_learner = Learner(loss, model_lr, opt, config.num_epochs)\n",
    "acc_lr = ClfCallback(lr_learner, config.bs, training_data_x , testing_data_x, training_data_y, testing_data_y)\n",
    "lr_learner.set_callbacks([acc_lr])"
   ]
  },
  {
   "cell_type": "code",
   "execution_count": 22,
   "id": "d9b133c3",
   "metadata": {
    "execution": {
     "iopub.execute_input": "2022-06-22T20:09:52.582564Z",
     "iopub.status.busy": "2022-06-22T20:09:52.581947Z",
     "iopub.status.idle": "2022-06-22T20:11:11.166948Z",
     "shell.execute_reply": "2022-06-22T20:11:11.167733Z"
    },
    "papermill": {
     "duration": 78.613153,
     "end_time": "2022-06-22T20:11:11.167872",
     "exception": false,
     "start_time": "2022-06-22T20:09:52.554719",
     "status": "completed"
    },
    "tags": []
   },
   "outputs": [
    {
     "name": "stdout",
     "output_type": "stream",
     "text": [
      "Epoch 0, Loss 0.2486\n",
      "Training Accuracy: 0.5240, Testing Accuracy: 0.5136\n",
      "\n"
     ]
    },
    {
     "name": "stdout",
     "output_type": "stream",
     "text": [
      "Epoch 10, Loss 0.1566\n",
      "Training Accuracy: 0.9016, Testing Accuracy: 0.9088\n",
      "\n"
     ]
    },
    {
     "name": "stdout",
     "output_type": "stream",
     "text": [
      "Epoch 20, Loss 0.0753\n",
      "Training Accuracy: 0.9293, Testing Accuracy: 0.9385\n",
      "\n"
     ]
    },
    {
     "name": "stdout",
     "output_type": "stream",
     "text": [
      "Epoch 30, Loss 0.0523\n",
      "Training Accuracy: 0.9441, Testing Accuracy: 0.9531\n",
      "\n"
     ]
    },
    {
     "name": "stdout",
     "output_type": "stream",
     "text": [
      "Epoch 40, Loss 0.0429\n",
      "Training Accuracy: 0.9529, Testing Accuracy: 0.9592\n",
      "\n"
     ]
    },
    {
     "name": "stdout",
     "output_type": "stream",
     "text": [
      "Epoch 50, Loss 0.0378\n",
      "Training Accuracy: 0.9570, Testing Accuracy: 0.9642\n",
      "\n"
     ]
    },
    {
     "name": "stdout",
     "output_type": "stream",
     "text": [
      "Epoch 60, Loss 0.0346\n",
      "Training Accuracy: 0.9604, Testing Accuracy: 0.9667\n",
      "\n"
     ]
    },
    {
     "name": "stdout",
     "output_type": "stream",
     "text": [
      "Epoch 70, Loss 0.0323\n",
      "Training Accuracy: 0.9629, Testing Accuracy: 0.9667\n",
      "\n"
     ]
    },
    {
     "name": "stdout",
     "output_type": "stream",
     "text": [
      "Epoch 80, Loss 0.0305\n",
      "Training Accuracy: 0.9645, Testing Accuracy: 0.9672\n",
      "\n"
     ]
    },
    {
     "name": "stdout",
     "output_type": "stream",
     "text": [
      "Epoch 90, Loss 0.0291\n",
      "Training Accuracy: 0.9659, Testing Accuracy: 0.9672\n",
      "\n"
     ]
    },
    {
     "name": "stdout",
     "output_type": "stream",
     "text": [
      "Epoch 100, Loss 0.028\n",
      "Training Accuracy: 0.9670, Testing Accuracy: 0.9682\n",
      "\n"
     ]
    },
    {
     "name": "stdout",
     "output_type": "stream",
     "text": [
      "Epoch 110, Loss 0.027\n",
      "Training Accuracy: 0.9679, Testing Accuracy: 0.9698\n",
      "\n"
     ]
    },
    {
     "name": "stdout",
     "output_type": "stream",
     "text": [
      "Epoch 120, Loss 0.0261\n",
      "Training Accuracy: 0.9690, Testing Accuracy: 0.9703\n",
      "\n"
     ]
    },
    {
     "name": "stdout",
     "output_type": "stream",
     "text": [
      "Epoch 130, Loss 0.0254\n",
      "Training Accuracy: 0.9706, Testing Accuracy: 0.9708\n",
      "\n"
     ]
    },
    {
     "name": "stdout",
     "output_type": "stream",
     "text": [
      "Epoch 140, Loss 0.0247\n",
      "Training Accuracy: 0.9709, Testing Accuracy: 0.9703\n",
      "\n"
     ]
    },
    {
     "name": "stdout",
     "output_type": "stream",
     "text": [
      "Epoch 150, Loss 0.024\n",
      "Training Accuracy: 0.9722, Testing Accuracy: 0.9713\n",
      "\n"
     ]
    },
    {
     "name": "stdout",
     "output_type": "stream",
     "text": [
      "Epoch 160, Loss 0.0235\n",
      "Training Accuracy: 0.9729, Testing Accuracy: 0.9718\n",
      "\n"
     ]
    },
    {
     "name": "stdout",
     "output_type": "stream",
     "text": [
      "Epoch 170, Loss 0.0229\n",
      "Training Accuracy: 0.9741, Testing Accuracy: 0.9718\n",
      "\n"
     ]
    },
    {
     "name": "stdout",
     "output_type": "stream",
     "text": [
      "Epoch 180, Loss 0.0224\n",
      "Training Accuracy: 0.9750, Testing Accuracy: 0.9728\n",
      "\n"
     ]
    },
    {
     "name": "stdout",
     "output_type": "stream",
     "text": [
      "Epoch 190, Loss 0.022\n",
      "Training Accuracy: 0.9754, Testing Accuracy: 0.9728\n",
      "\n"
     ]
    },
    {
     "name": "stdout",
     "output_type": "stream",
     "text": [
      "Epoch 200, Loss 0.0215\n",
      "Training Accuracy: 0.9759, Testing Accuracy: 0.9728\n",
      "\n"
     ]
    },
    {
     "name": "stdout",
     "output_type": "stream",
     "text": [
      "Epoch 210, Loss 0.0211\n",
      "Training Accuracy: 0.9766, Testing Accuracy: 0.9723\n",
      "\n"
     ]
    },
    {
     "name": "stdout",
     "output_type": "stream",
     "text": [
      "Epoch 220, Loss 0.0207\n",
      "Training Accuracy: 0.9770, Testing Accuracy: 0.9728\n",
      "\n"
     ]
    },
    {
     "name": "stdout",
     "output_type": "stream",
     "text": [
      "Epoch 230, Loss 0.0203\n",
      "Training Accuracy: 0.9773, Testing Accuracy: 0.9728\n",
      "\n"
     ]
    },
    {
     "name": "stdout",
     "output_type": "stream",
     "text": [
      "Epoch 240, Loss 0.02\n",
      "Training Accuracy: 0.9778, Testing Accuracy: 0.9728\n",
      "\n"
     ]
    },
    {
     "data": {
      "text/plain": [
       "0.07422280271217076"
      ]
     },
     "execution_count": 22,
     "metadata": {},
     "output_type": "execute_result"
    }
   ],
   "source": [
    "nn_learner.train_loop(dl)"
   ]
  },
  {
   "cell_type": "code",
   "execution_count": 23,
   "id": "e0163366",
   "metadata": {
    "execution": {
     "iopub.execute_input": "2022-06-22T20:11:11.238391Z",
     "iopub.status.busy": "2022-06-22T20:11:11.237868Z",
     "iopub.status.idle": "2022-06-22T20:11:24.828643Z",
     "shell.execute_reply": "2022-06-22T20:11:24.829417Z"
    },
    "papermill": {
     "duration": 13.630632,
     "end_time": "2022-06-22T20:11:24.829555",
     "exception": false,
     "start_time": "2022-06-22T20:11:11.198923",
     "status": "completed"
    },
    "tags": []
   },
   "outputs": [
    {
     "name": "stdout",
     "output_type": "stream",
     "text": [
      "Epoch 0, Loss 0.2408\n",
      "Training Accuracy: 0.6945, Testing Accuracy: 0.7283\n",
      "\n"
     ]
    },
    {
     "name": "stdout",
     "output_type": "stream",
     "text": [
      "Epoch 10, Loss 0.1015\n",
      "Training Accuracy: 0.9135, Testing Accuracy: 0.9259\n",
      "\n"
     ]
    },
    {
     "name": "stdout",
     "output_type": "stream",
     "text": [
      "Epoch 20, Loss 0.0783\n",
      "Training Accuracy: 0.9306, Testing Accuracy: 0.9405\n",
      "\n"
     ]
    },
    {
     "name": "stdout",
     "output_type": "stream",
     "text": [
      "Epoch 30, Loss 0.0676\n",
      "Training Accuracy: 0.9382, Testing Accuracy: 0.9491\n",
      "\n"
     ]
    },
    {
     "name": "stdout",
     "output_type": "stream",
     "text": [
      "Epoch 40, Loss 0.0612\n",
      "Training Accuracy: 0.9423, Testing Accuracy: 0.9536\n",
      "\n"
     ]
    },
    {
     "name": "stdout",
     "output_type": "stream",
     "text": [
      "Epoch 50, Loss 0.0568\n",
      "Training Accuracy: 0.9458, Testing Accuracy: 0.9551\n",
      "\n"
     ]
    },
    {
     "name": "stdout",
     "output_type": "stream",
     "text": [
      "Epoch 60, Loss 0.0536\n",
      "Training Accuracy: 0.9483, Testing Accuracy: 0.9572\n",
      "\n"
     ]
    },
    {
     "name": "stdout",
     "output_type": "stream",
     "text": [
      "Epoch 70, Loss 0.0511\n",
      "Training Accuracy: 0.9498, Testing Accuracy: 0.9592\n",
      "\n"
     ]
    },
    {
     "name": "stdout",
     "output_type": "stream",
     "text": [
      "Epoch 80, Loss 0.0491\n",
      "Training Accuracy: 0.9513, Testing Accuracy: 0.9597\n",
      "\n"
     ]
    },
    {
     "name": "stdout",
     "output_type": "stream",
     "text": [
      "Epoch 90, Loss 0.0474\n",
      "Training Accuracy: 0.9522, Testing Accuracy: 0.9612\n",
      "\n"
     ]
    },
    {
     "name": "stdout",
     "output_type": "stream",
     "text": [
      "Epoch 100, Loss 0.0461\n",
      "Training Accuracy: 0.9535, Testing Accuracy: 0.9612\n",
      "\n"
     ]
    },
    {
     "name": "stdout",
     "output_type": "stream",
     "text": [
      "Epoch 110, Loss 0.0448\n",
      "Training Accuracy: 0.9548, Testing Accuracy: 0.9622\n",
      "\n"
     ]
    },
    {
     "name": "stdout",
     "output_type": "stream",
     "text": [
      "Epoch 120, Loss 0.0438\n",
      "Training Accuracy: 0.9556, Testing Accuracy: 0.9622\n",
      "\n"
     ]
    },
    {
     "name": "stdout",
     "output_type": "stream",
     "text": [
      "Epoch 130, Loss 0.0429\n",
      "Training Accuracy: 0.9559, Testing Accuracy: 0.9627\n",
      "\n"
     ]
    },
    {
     "name": "stdout",
     "output_type": "stream",
     "text": [
      "Epoch 140, Loss 0.0421\n",
      "Training Accuracy: 0.9564, Testing Accuracy: 0.9632\n",
      "\n"
     ]
    },
    {
     "name": "stdout",
     "output_type": "stream",
     "text": [
      "Epoch 150, Loss 0.0413\n",
      "Training Accuracy: 0.9567, Testing Accuracy: 0.9632\n",
      "\n"
     ]
    },
    {
     "name": "stdout",
     "output_type": "stream",
     "text": [
      "Epoch 160, Loss 0.0407\n",
      "Training Accuracy: 0.9575, Testing Accuracy: 0.9642\n",
      "\n"
     ]
    },
    {
     "name": "stdout",
     "output_type": "stream",
     "text": [
      "Epoch 170, Loss 0.04\n",
      "Training Accuracy: 0.9579, Testing Accuracy: 0.9647\n",
      "\n"
     ]
    },
    {
     "name": "stdout",
     "output_type": "stream",
     "text": [
      "Epoch 180, Loss 0.0395\n",
      "Training Accuracy: 0.9583, Testing Accuracy: 0.9647\n",
      "\n"
     ]
    },
    {
     "name": "stdout",
     "output_type": "stream",
     "text": [
      "Epoch 190, Loss 0.039\n",
      "Training Accuracy: 0.9585, Testing Accuracy: 0.9647\n",
      "\n"
     ]
    },
    {
     "name": "stdout",
     "output_type": "stream",
     "text": [
      "Epoch 200, Loss 0.0385\n",
      "Training Accuracy: 0.9589, Testing Accuracy: 0.9652\n",
      "\n"
     ]
    },
    {
     "name": "stdout",
     "output_type": "stream",
     "text": [
      "Epoch 210, Loss 0.0381\n",
      "Training Accuracy: 0.9596, Testing Accuracy: 0.9652\n",
      "\n"
     ]
    },
    {
     "name": "stdout",
     "output_type": "stream",
     "text": [
      "Epoch 220, Loss 0.0377\n",
      "Training Accuracy: 0.9598, Testing Accuracy: 0.9652\n",
      "\n"
     ]
    },
    {
     "name": "stdout",
     "output_type": "stream",
     "text": [
      "Epoch 230, Loss 0.0373\n",
      "Training Accuracy: 0.9599, Testing Accuracy: 0.9662\n",
      "\n"
     ]
    },
    {
     "name": "stdout",
     "output_type": "stream",
     "text": [
      "Epoch 240, Loss 0.0369\n",
      "Training Accuracy: 0.9602, Testing Accuracy: 0.9662\n",
      "\n"
     ]
    },
    {
     "data": {
      "text/plain": [
       "0.03939607351250967"
      ]
     },
     "execution_count": 23,
     "metadata": {},
     "output_type": "execute_result"
    }
   ],
   "source": [
    "lr_learner.train_loop(dl)"
   ]
  },
  {
   "cell_type": "code",
   "execution_count": 24,
   "id": "ca410940",
   "metadata": {
    "execution": {
     "iopub.execute_input": "2022-06-22T20:11:24.914668Z",
     "iopub.status.busy": "2022-06-22T20:11:24.914127Z",
     "iopub.status.idle": "2022-06-22T20:11:25.116165Z",
     "shell.execute_reply": "2022-06-22T20:11:25.115610Z"
    },
    "papermill": {
     "duration": 0.246993,
     "end_time": "2022-06-22T20:11:25.116302",
     "exception": false,
     "start_time": "2022-06-22T20:11:24.869309",
     "status": "completed"
    },
    "tags": []
   },
   "outputs": [
    {
     "data": {
      "text/plain": [
       "<matplotlib.legend.Legend at 0x7f521d603978>"
      ]
     },
     "execution_count": 24,
     "metadata": {},
     "output_type": "execute_result"
    },
    {
     "data": {
      "image/png": "[encoded data removed]",
      "text/plain": [
       "<Figure size 1080x720 with 1 Axes>"
      ]
     },
     "metadata": {
      "needs_background": "light"
     },
     "output_type": "display_data"
    }
   ],
   "source": [
    "#comparing the results of NN and LR\n",
    "plt.figure(figsize=(15,10))\n",
    "\n",
    "# Neural Network plots\n",
    "plt.plot(acc_nn.accuracies, 'r-', label = \"Training Accuracies - NN\")\n",
    "plt.plot(acc_nn.test_accuracies, 'g-', label = \"Testing Accuracies - NN\")\n",
    "\n",
    "# Logistic Regression plots\n",
    "plt.plot(acc_lr.accuracies, 'k-', label = \"Training Accuracies - LR\")\n",
    "plt.plot(acc_lr.test_accuracies, 'b-', label = \"Testing Accuracies - LR\")\n",
    "plt.legend()"
   ]
  },
  {
   "cell_type": "markdown",
   "id": "80dfb35c",
   "metadata": {
    "papermill": {
     "duration": 0.037545,
     "end_time": "2022-06-22T20:11:25.191561",
     "exception": false,
     "start_time": "2022-06-22T20:11:25.154016",
     "status": "completed"
    },
    "tags": []
   },
   "source": [
    "#### Plotting the outputs of this layer of the NN.\n"
   ]
  },
  {
   "cell_type": "code",
   "execution_count": 25,
   "id": "45eb2ff5",
   "metadata": {
    "execution": {
     "iopub.execute_input": "2022-06-22T20:11:25.274455Z",
     "iopub.status.busy": "2022-06-22T20:11:25.269599Z",
     "iopub.status.idle": "2022-06-22T20:11:25.293654Z",
     "shell.execute_reply": "2022-06-22T20:11:25.295171Z"
    },
    "papermill": {
     "duration": 0.066507,
     "end_time": "2022-06-22T20:11:25.295345",
     "exception": false,
     "start_time": "2022-06-22T20:11:25.228838",
     "status": "completed"
    },
    "tags": []
   },
   "outputs": [],
   "source": [
    "new_model = Model(layers[:-2])\n",
    "testing_plot = new_model(testing_data_x)"
   ]
  },
  {
   "cell_type": "code",
   "execution_count": 26,
   "id": "4c0a5485",
   "metadata": {
    "execution": {
     "iopub.execute_input": "2022-06-22T20:11:25.394341Z",
     "iopub.status.busy": "2022-06-22T20:11:25.393789Z",
     "iopub.status.idle": "2022-06-22T20:11:25.582548Z",
     "shell.execute_reply": "2022-06-22T20:11:25.582963Z"
    },
    "papermill": {
     "duration": 0.239991,
     "end_time": "2022-06-22T20:11:25.583094",
     "exception": false,
     "start_time": "2022-06-22T20:11:25.343103",
     "status": "completed"
    },
    "tags": []
   },
   "outputs": [
    {
     "data": {
      "text/plain": [
       "Text(0.5, 1.0, 'Outputs')"
      ]
     },
     "execution_count": 26,
     "metadata": {},
     "output_type": "execute_result"
    },
    {
     "data": {
      "image/png": "[encoded data removed]",
      "text/plain": [
       "<Figure size 576x504 with 1 Axes>"
      ]
     },
     "metadata": {
      "needs_background": "light"
     },
     "output_type": "display_data"
    }
   ],
   "source": [
    "# Plotting the scatter plot of points and color coding by class\n",
    "plt.figure(figsize=(8,7))\n",
    "plt.scatter(testing_plot[:,0], testing_plot[:,1], alpha = 0.1, c = y_test.ravel());\n",
    "plt.title('Outputs')"
   ]
  },
  {
   "cell_type": "markdown",
   "id": "a74fcf8f",
   "metadata": {
    "papermill": {
     "duration": 0.039976,
     "end_time": "2022-06-22T20:11:25.663057",
     "exception": false,
     "start_time": "2022-06-22T20:11:25.623081",
     "status": "completed"
    },
    "tags": []
   },
   "source": [
    "Probability contours"
   ]
  },
  {
   "cell_type": "code",
   "execution_count": 27,
   "id": "d0afc8e3",
   "metadata": {
    "execution": {
     "iopub.execute_input": "2022-06-22T20:11:25.773707Z",
     "iopub.status.busy": "2022-06-22T20:11:25.773180Z",
     "iopub.status.idle": "2022-06-22T20:11:25.784597Z",
     "shell.execute_reply": "2022-06-22T20:11:25.785040Z"
    },
    "papermill": {
     "duration": 0.08174,
     "end_time": "2022-06-22T20:11:25.785171",
     "exception": false,
     "start_time": "2022-06-22T20:11:25.703431",
     "status": "completed"
    },
    "tags": []
   },
   "outputs": [],
   "source": [
    "model_prob = Model(layers[-2:]) "
   ]
  },
  {
   "cell_type": "code",
   "execution_count": 28,
   "id": "9b96e238",
   "metadata": {
    "execution": {
     "iopub.execute_input": "2022-06-22T20:11:25.870031Z",
     "iopub.status.busy": "2022-06-22T20:11:25.869483Z",
     "iopub.status.idle": "2022-06-22T20:11:25.883788Z",
     "shell.execute_reply": "2022-06-22T20:11:25.884249Z"
    },
    "papermill": {
     "duration": 0.059051,
     "end_time": "2022-06-22T20:11:25.884402",
     "exception": false,
     "start_time": "2022-06-22T20:11:25.825351",
     "status": "completed"
    },
    "tags": []
   },
   "outputs": [],
   "source": [
    "#creating the x and y ranges according to the above generated plot.\n",
    "x_range = np.linspace(-4, 1, 100) \n",
    "y_range = np.linspace(-6, 6, 100) \n",
    "x_grid, y_grid = np.meshgrid(x_range, y_range) # x_grid and y_grig are of size 100 X 100\n",
    "\n",
    "# converting x_grid and y_grid to continuous arrays\n",
    "x_gridflat = np.ravel(x_grid)\n",
    "y_gridflat = np.ravel(y_grid)\n",
    "\n",
    "# The last layer of the current model takes two columns as input. Hence transpose of np.vstack() is required.\n",
    "X = np.vstack((x_gridflat, y_gridflat)).T\n",
    "\n",
    "prob_contour = model_prob(X).reshape(100,100) "
   ]
  },
  {
   "cell_type": "code",
   "execution_count": 29,
   "id": "da72499a",
   "metadata": {
    "execution": {
     "iopub.execute_input": "2022-06-22T20:11:25.994814Z",
     "iopub.status.busy": "2022-06-22T20:11:25.994186Z",
     "iopub.status.idle": "2022-06-22T20:11:26.220050Z",
     "shell.execute_reply": "2022-06-22T20:11:26.219089Z"
    },
    "papermill": {
     "duration": 0.281722,
     "end_time": "2022-06-22T20:11:26.220185",
     "exception": false,
     "start_time": "2022-06-22T20:11:25.938463",
     "status": "completed"
    },
    "tags": []
   },
   "outputs": [
    {
     "data": {
      "image/png": "[encoded data removed]",
      "text/plain": [
       "<Figure size 720x648 with 1 Axes>"
      ]
     },
     "metadata": {
      "needs_background": "light"
     },
     "output_type": "display_data"
    }
   ],
   "source": [
    "plt.figure(figsize=(10,9))\n",
    "plt.scatter(testing_plot[:,0], testing_plot[:,1], alpha = 0.1, c = y_test.ravel())\n",
    "contours = plt.contour(x_grid,y_grid,prob_contour)\n",
    "plt.title('Probability Contours')\n",
    "plt.clabel(contours, inline = True );"
   ]
  },
  {
   "cell_type": "code",
   "execution_count": null,
   "id": "e81b4ac7",
   "metadata": {
    "papermill": {
     "duration": 0.048025,
     "end_time": "2022-06-22T20:11:26.321823",
     "exception": false,
     "start_time": "2022-06-22T20:11:26.273798",
     "status": "completed"
    },
    "tags": []
   },
   "outputs": [],
   "source": []
  }
 ],
 "metadata": {
  "kernelspec": {
   "display_name": "Python 3",
   "language": "python",
   "name": "python3"
  },
  "language_info": {
   "codemirror_mode": {
    "name": "ipython",
    "version": 3
   },
   "file_extension": ".py",
   "mimetype": "text/x-python",
   "name": "python",
   "nbconvert_exporter": "python",
   "pygments_lexer": "ipython3",
   "version": "3.6.15"
  },
  "papermill": {
   "default_parameters": {},
   "duration": 101.110293,
   "end_time": "2022-06-22T20:11:26.788912",
   "environment_variables": {},
   "exception": null,
   "input_path": "2020-08-11-part2.ipynb",
   "output_path": "2020-08-11-part2.ipynb",
   "parameters": {},
   "start_time": "2022-06-22T20:09:45.678619",
   "version": "2.3.3"
  }
 },
 "nbformat": 4,
 "nbformat_minor": 5
}