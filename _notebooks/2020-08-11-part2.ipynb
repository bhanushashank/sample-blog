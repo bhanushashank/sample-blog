{
 "cells": [
  {
   "cell_type": "markdown",
   "id": "98380cd3",
   "metadata": {
    "papermill": {
     "duration": 0.029134,
     "end_time": "2021-09-06T20:07:01.975812",
     "exception": false,
     "start_time": "2021-09-06T20:07:01.946678",
     "status": "completed"
    },
    "tags": []
   },
   "source": [
    "# Distinguish Your Own Digits (DYOD)"
   ]
  },
  {
   "cell_type": "markdown",
   "id": "ef31240d",
   "metadata": {
    "papermill": {
     "duration": 0.023285,
     "end_time": "2021-09-06T20:07:02.023158",
     "exception": false,
     "start_time": "2021-09-06T20:07:01.999873",
     "status": "completed"
    },
    "tags": []
   },
   "source": [
    "You are going to write a classifier that distinguishes between the number 3 and number 8."
   ]
  },
  {
   "cell_type": "code",
   "execution_count": 1,
   "id": "b15c8646",
   "metadata": {
    "execution": {
     "iopub.execute_input": "2021-09-06T20:07:02.080575Z",
     "iopub.status.busy": "2021-09-06T20:07:02.080052Z",
     "iopub.status.idle": "2021-09-06T20:07:02.090036Z",
     "shell.execute_reply": "2021-09-06T20:07:02.089613Z"
    },
    "papermill": {
     "duration": 0.043782,
     "end_time": "2021-09-06T20:07:02.090155",
     "exception": false,
     "start_time": "2021-09-06T20:07:02.046373",
     "status": "completed"
    },
    "tags": []
   },
   "outputs": [],
   "source": [
    "%load_ext autoreload\n",
    "%autoreload 2"
   ]
  },
  {
   "cell_type": "code",
   "execution_count": 2,
   "id": "22ef38dc",
   "metadata": {
    "execution": {
     "iopub.execute_input": "2021-09-06T20:07:02.140584Z",
     "iopub.status.busy": "2021-09-06T20:07:02.140077Z",
     "iopub.status.idle": "2021-09-06T20:07:02.641023Z",
     "shell.execute_reply": "2021-09-06T20:07:02.640487Z"
    },
    "papermill": {
     "duration": 0.527555,
     "end_time": "2021-09-06T20:07:02.641167",
     "exception": false,
     "start_time": "2021-09-06T20:07:02.113612",
     "status": "completed"
    },
    "tags": []
   },
   "outputs": [],
   "source": [
    "%matplotlib inline\n",
    "import numpy as np\n",
    "import matplotlib.pyplot as plt\n",
    "import pandas as pd"
   ]
  },
  {
   "cell_type": "markdown",
   "id": "ba036198",
   "metadata": {
    "papermill": {
     "duration": 0.024443,
     "end_time": "2021-09-06T20:07:02.690083",
     "exception": false,
     "start_time": "2021-09-06T20:07:02.665640",
     "status": "completed"
    },
    "tags": []
   },
   "source": [
    "From the command line run `pip install mnist`. This is a library that will help you bring down the mnist dataset. If you run this from a notebook, you need to put  `!pip install mnist` in a cell by itself."
   ]
  },
  {
   "cell_type": "code",
   "execution_count": 3,
   "id": "bb6ad8a1",
   "metadata": {
    "execution": {
     "iopub.execute_input": "2021-09-06T20:07:02.741520Z",
     "iopub.status.busy": "2021-09-06T20:07:02.740996Z",
     "iopub.status.idle": "2021-09-06T20:07:04.372026Z",
     "shell.execute_reply": "2021-09-06T20:07:04.372539Z"
    },
    "papermill": {
     "duration": 1.65922,
     "end_time": "2021-09-06T20:07:04.372698",
     "exception": false,
     "start_time": "2021-09-06T20:07:02.713478",
     "status": "completed"
    },
    "tags": []
   },
   "outputs": [
    {
     "name": "stdout",
     "output_type": "stream",
     "text": [
      "Collecting mnist\r\n"
     ]
    },
    {
     "name": "stdout",
     "output_type": "stream",
     "text": [
      "  Downloading mnist-0.2.2-py2.py3-none-any.whl (3.5 kB)\r\n",
      "Requirement already satisfied: numpy in /opt/hostedtoolcache/Python/3.6.14/x64/lib/python3.6/site-packages (from mnist) (1.19.5)\r\n"
     ]
    },
    {
     "name": "stdout",
     "output_type": "stream",
     "text": [
      "Installing collected packages: mnist\r\n"
     ]
    },
    {
     "name": "stdout",
     "output_type": "stream",
     "text": [
      "Successfully installed mnist-0.2.2\r\n"
     ]
    }
   ],
   "source": [
    "!pip install mnist"
   ]
  },
  {
   "cell_type": "markdown",
   "id": "69df9c9a",
   "metadata": {
    "papermill": {
     "duration": 0.024678,
     "end_time": "2021-09-06T20:07:04.422369",
     "exception": false,
     "start_time": "2021-09-06T20:07:04.397691",
     "status": "completed"
    },
    "tags": []
   },
   "source": [
    "## Preparing the Data"
   ]
  },
  {
   "cell_type": "code",
   "execution_count": 4,
   "id": "7f69d806",
   "metadata": {
    "execution": {
     "iopub.execute_input": "2021-09-06T20:07:04.489323Z",
     "iopub.status.busy": "2021-09-06T20:07:04.475682Z",
     "iopub.status.idle": "2021-09-06T20:07:04.492882Z",
     "shell.execute_reply": "2021-09-06T20:07:04.493287Z"
    },
    "papermill": {
     "duration": 0.046549,
     "end_time": "2021-09-06T20:07:04.493408",
     "exception": false,
     "start_time": "2021-09-06T20:07:04.446859",
     "status": "completed"
    },
    "tags": []
   },
   "outputs": [],
   "source": [
    "import mnist"
   ]
  },
  {
   "cell_type": "code",
   "execution_count": 5,
   "id": "a411e44f",
   "metadata": {
    "execution": {
     "iopub.execute_input": "2021-09-06T20:07:04.553238Z",
     "iopub.status.busy": "2021-09-06T20:07:04.545401Z",
     "iopub.status.idle": "2021-09-06T20:07:05.183435Z",
     "shell.execute_reply": "2021-09-06T20:07:05.182855Z"
    },
    "papermill": {
     "duration": 0.665549,
     "end_time": "2021-09-06T20:07:05.183581",
     "exception": false,
     "start_time": "2021-09-06T20:07:04.518032",
     "status": "completed"
    },
    "tags": []
   },
   "outputs": [],
   "source": [
    "train_images = mnist.train_images()\n",
    "train_labels = mnist.train_labels()"
   ]
  },
  {
   "cell_type": "code",
   "execution_count": 6,
   "id": "dceab3a5",
   "metadata": {
    "execution": {
     "iopub.execute_input": "2021-09-06T20:07:05.238120Z",
     "iopub.status.busy": "2021-09-06T20:07:05.237605Z",
     "iopub.status.idle": "2021-09-06T20:07:05.250919Z",
     "shell.execute_reply": "2021-09-06T20:07:05.250485Z"
    },
    "papermill": {
     "duration": 0.04186,
     "end_time": "2021-09-06T20:07:05.251054",
     "exception": false,
     "start_time": "2021-09-06T20:07:05.209194",
     "status": "completed"
    },
    "tags": []
   },
   "outputs": [
    {
     "data": {
      "text/plain": [
       "((60000, 28, 28), (60000,))"
      ]
     },
     "execution_count": 6,
     "metadata": {},
     "output_type": "execute_result"
    }
   ],
   "source": [
    "train_images.shape, train_labels.shape"
   ]
  },
  {
   "cell_type": "code",
   "execution_count": 7,
   "id": "f50dc2bb",
   "metadata": {
    "execution": {
     "iopub.execute_input": "2021-09-06T20:07:05.308601Z",
     "iopub.status.busy": "2021-09-06T20:07:05.308092Z",
     "iopub.status.idle": "2021-09-06T20:07:05.490327Z",
     "shell.execute_reply": "2021-09-06T20:07:05.489858Z"
    },
    "papermill": {
     "duration": 0.214476,
     "end_time": "2021-09-06T20:07:05.490455",
     "exception": false,
     "start_time": "2021-09-06T20:07:05.275979",
     "status": "completed"
    },
    "tags": []
   },
   "outputs": [],
   "source": [
    "test_images = mnist.test_images()\n",
    "test_labels = mnist.test_labels()"
   ]
  },
  {
   "cell_type": "code",
   "execution_count": 8,
   "id": "fc38cf1b",
   "metadata": {
    "execution": {
     "iopub.execute_input": "2021-09-06T20:07:05.544236Z",
     "iopub.status.busy": "2021-09-06T20:07:05.543733Z",
     "iopub.status.idle": "2021-09-06T20:07:05.556867Z",
     "shell.execute_reply": "2021-09-06T20:07:05.556434Z"
    },
    "papermill": {
     "duration": 0.041188,
     "end_time": "2021-09-06T20:07:05.556978",
     "exception": false,
     "start_time": "2021-09-06T20:07:05.515790",
     "status": "completed"
    },
    "tags": []
   },
   "outputs": [
    {
     "data": {
      "text/plain": [
       "((10000, 28, 28), (10000,))"
      ]
     },
     "execution_count": 8,
     "metadata": {},
     "output_type": "execute_result"
    }
   ],
   "source": [
    "test_images.shape, test_labels.shape"
   ]
  },
  {
   "cell_type": "code",
   "execution_count": 9,
   "id": "f9ed8fe0",
   "metadata": {
    "execution": {
     "iopub.execute_input": "2021-09-06T20:07:05.611186Z",
     "iopub.status.busy": "2021-09-06T20:07:05.610648Z",
     "iopub.status.idle": "2021-09-06T20:07:05.743445Z",
     "shell.execute_reply": "2021-09-06T20:07:05.743896Z"
    },
    "papermill": {
     "duration": 0.162009,
     "end_time": "2021-09-06T20:07:05.744030",
     "exception": false,
     "start_time": "2021-09-06T20:07:05.582021",
     "status": "completed"
    },
    "tags": []
   },
   "outputs": [
    {
     "name": "stdout",
     "output_type": "stream",
     "text": [
      "2\n"
     ]
    },
    {
     "data": {
      "text/plain": [
       "<matplotlib.image.AxesImage at 0x7f3514c72d68>"
      ]
     },
     "execution_count": 9,
     "metadata": {},
     "output_type": "execute_result"
    },
    {
     "data": {
      "image/png": "[encoded data removed]",
      "text/plain": [
       "<Figure size 432x288 with 1 Axes>"
      ]
     },
     "metadata": {
      "needs_background": "light"
     },
     "output_type": "display_data"
    }
   ],
   "source": [
    "image_index = 7776 # You may select anything up to 60,000\n",
    "print(train_labels[image_index]) \n",
    "plt.imshow(train_images[image_index], cmap='Greys')"
   ]
  },
  {
   "cell_type": "markdown",
   "id": "a8d2388d",
   "metadata": {
    "papermill": {
     "duration": 0.026353,
     "end_time": "2021-09-06T20:07:05.796661",
     "exception": false,
     "start_time": "2021-09-06T20:07:05.770308",
     "status": "completed"
    },
    "tags": []
   },
   "source": [
    "## Filter data to get 3 and 8 out"
   ]
  },
  {
   "cell_type": "code",
   "execution_count": 10,
   "id": "776f7fc7",
   "metadata": {
    "execution": {
     "iopub.execute_input": "2021-09-06T20:07:05.853341Z",
     "iopub.status.busy": "2021-09-06T20:07:05.852819Z",
     "iopub.status.idle": "2021-09-06T20:07:05.868509Z",
     "shell.execute_reply": "2021-09-06T20:07:05.868099Z"
    },
    "papermill": {
     "duration": 0.045798,
     "end_time": "2021-09-06T20:07:05.868622",
     "exception": false,
     "start_time": "2021-09-06T20:07:05.822824",
     "status": "completed"
    },
    "tags": []
   },
   "outputs": [],
   "source": [
    "train_filter = np.where((train_labels == 3 ) | (train_labels == 8))\n",
    "test_filter = np.where((test_labels == 3) | (test_labels == 8))\n",
    "X_train, y_train = train_images[train_filter], train_labels[train_filter]\n",
    "X_test, y_test = test_images[test_filter], test_labels[test_filter]"
   ]
  },
  {
   "cell_type": "markdown",
   "id": "948f0b7e",
   "metadata": {
    "papermill": {
     "duration": 0.026134,
     "end_time": "2021-09-06T20:07:05.920931",
     "exception": false,
     "start_time": "2021-09-06T20:07:05.894797",
     "status": "completed"
    },
    "tags": []
   },
   "source": [
    "We normalize the pizel values in the 0 to 1 range"
   ]
  },
  {
   "cell_type": "code",
   "execution_count": 11,
   "id": "ee4c2166",
   "metadata": {
    "execution": {
     "iopub.execute_input": "2021-09-06T20:07:05.978560Z",
     "iopub.status.busy": "2021-09-06T20:07:05.978046Z",
     "iopub.status.idle": "2021-09-06T20:07:06.025535Z",
     "shell.execute_reply": "2021-09-06T20:07:06.024996Z"
    },
    "papermill": {
     "duration": 0.07867,
     "end_time": "2021-09-06T20:07:06.025675",
     "exception": false,
     "start_time": "2021-09-06T20:07:05.947005",
     "status": "completed"
    },
    "tags": []
   },
   "outputs": [],
   "source": [
    "X_train = X_train/255.\n",
    "X_test = X_test/255."
   ]
  },
  {
   "cell_type": "markdown",
   "id": "ddcf4fab",
   "metadata": {
    "papermill": {
     "duration": 0.026241,
     "end_time": "2021-09-06T20:07:06.078712",
     "exception": false,
     "start_time": "2021-09-06T20:07:06.052471",
     "status": "completed"
    },
    "tags": []
   },
   "source": [
    "And setup the labels as 1 (when the digit is 3) and 0 (when the digit is 8)"
   ]
  },
  {
   "cell_type": "code",
   "execution_count": 12,
   "id": "7dc908f2",
   "metadata": {
    "execution": {
     "iopub.execute_input": "2021-09-06T20:07:06.140136Z",
     "iopub.status.busy": "2021-09-06T20:07:06.139619Z",
     "iopub.status.idle": "2021-09-06T20:07:06.148545Z",
     "shell.execute_reply": "2021-09-06T20:07:06.148128Z"
    },
    "papermill": {
     "duration": 0.043696,
     "end_time": "2021-09-06T20:07:06.148657",
     "exception": false,
     "start_time": "2021-09-06T20:07:06.104961",
     "status": "completed"
    },
    "tags": []
   },
   "outputs": [],
   "source": [
    "y_train = 1*(y_train==3)\n",
    "y_test = 1*(y_test==3)"
   ]
  },
  {
   "cell_type": "code",
   "execution_count": 13,
   "id": "01e4e969",
   "metadata": {
    "execution": {
     "iopub.execute_input": "2021-09-06T20:07:06.204200Z",
     "iopub.status.busy": "2021-09-06T20:07:06.203692Z",
     "iopub.status.idle": "2021-09-06T20:07:06.216721Z",
     "shell.execute_reply": "2021-09-06T20:07:06.217110Z"
    },
    "papermill": {
     "duration": 0.042337,
     "end_time": "2021-09-06T20:07:06.217239",
     "exception": false,
     "start_time": "2021-09-06T20:07:06.174902",
     "status": "completed"
    },
    "tags": []
   },
   "outputs": [
    {
     "data": {
      "text/plain": [
       "((11982, 28, 28), (1984, 28, 28))"
      ]
     },
     "execution_count": 13,
     "metadata": {},
     "output_type": "execute_result"
    }
   ],
   "source": [
    "X_train.shape, X_test.shape"
   ]
  },
  {
   "cell_type": "markdown",
   "id": "5ccf3f85",
   "metadata": {
    "papermill": {
     "duration": 0.026247,
     "end_time": "2021-09-06T20:07:06.269797",
     "exception": false,
     "start_time": "2021-09-06T20:07:06.243550",
     "status": "completed"
    },
    "tags": []
   },
   "source": [
    "We reshape the data to flatten the image pixels into a set of features or co-variates:"
   ]
  },
  {
   "cell_type": "code",
   "execution_count": 14,
   "id": "5286a4a3",
   "metadata": {
    "execution": {
     "iopub.execute_input": "2021-09-06T20:07:06.334460Z",
     "iopub.status.busy": "2021-09-06T20:07:06.333951Z",
     "iopub.status.idle": "2021-09-06T20:07:06.341633Z",
     "shell.execute_reply": "2021-09-06T20:07:06.342017Z"
    },
    "papermill": {
     "duration": 0.045987,
     "end_time": "2021-09-06T20:07:06.342140",
     "exception": false,
     "start_time": "2021-09-06T20:07:06.296153",
     "status": "completed"
    },
    "tags": []
   },
   "outputs": [
    {
     "data": {
      "text/plain": [
       "((11982, 784), (1984, 784))"
      ]
     },
     "execution_count": 14,
     "metadata": {},
     "output_type": "execute_result"
    }
   ],
   "source": [
    "X_train = X_train.reshape(X_train.shape[0], -1)\n",
    "X_test = X_test.reshape(X_test.shape[0], -1)\n",
    "X_train.shape, X_test.shape"
   ]
  },
  {
   "cell_type": "code",
   "execution_count": 15,
   "id": "73c5f88a",
   "metadata": {
    "execution": {
     "iopub.execute_input": "2021-09-06T20:07:06.411811Z",
     "iopub.status.busy": "2021-09-06T20:07:06.406041Z",
     "iopub.status.idle": "2021-09-06T20:07:06.419747Z",
     "shell.execute_reply": "2021-09-06T20:07:06.419317Z"
    },
    "papermill": {
     "duration": 0.051049,
     "end_time": "2021-09-06T20:07:06.419851",
     "exception": false,
     "start_time": "2021-09-06T20:07:06.368802",
     "status": "completed"
    },
    "tags": []
   },
   "outputs": [],
   "source": [
    "#Impoting functions from 'Kudzu'\n",
    "from kudzu.model import Model\n",
    "from kudzu.train import Learner\n",
    "from kudzu.optim import GD\n",
    "from kudzu.data import Data, Sampler,Dataloader\n",
    "\n",
    "from kudzu.callbacks import AccCallback\n",
    "from kudzu.callbacks import ClfCallback\n",
    "\n",
    "from kudzu.loss import MSE\n",
    "\n",
    "from kudzu.layer import Sigmoid,Relu\n",
    "from kudzu.layer import Affine"
   ]
  },
  {
   "cell_type": "markdown",
   "id": "bc01172a",
   "metadata": {
    "papermill": {
     "duration": 0.026507,
     "end_time": "2021-09-06T20:07:06.473036",
     "exception": false,
     "start_time": "2021-09-06T20:07:06.446529",
     "status": "completed"
    },
    "tags": []
   },
   "source": [
    "### Let us create a `Config` class, to store important parameters. \n",
    "This class essentially plays the role of a dictionary."
   ]
  },
  {
   "cell_type": "code",
   "execution_count": 16,
   "id": "978281aa",
   "metadata": {
    "execution": {
     "iopub.execute_input": "2021-09-06T20:07:06.539032Z",
     "iopub.status.busy": "2021-09-06T20:07:06.536317Z",
     "iopub.status.idle": "2021-09-06T20:07:06.545227Z",
     "shell.execute_reply": "2021-09-06T20:07:06.544802Z"
    },
    "papermill": {
     "duration": 0.045792,
     "end_time": "2021-09-06T20:07:06.545332",
     "exception": false,
     "start_time": "2021-09-06T20:07:06.499540",
     "status": "completed"
    },
    "tags": []
   },
   "outputs": [],
   "source": [
    "class Config:\n",
    "    pass\n",
    "config = Config()\n",
    "config.lr = 0.001\n",
    "config.num_epochs = 250\n",
    "config.bs = 50"
   ]
  },
  {
   "cell_type": "markdown",
   "id": "1385fa59",
   "metadata": {
    "papermill": {
     "duration": 0.026546,
     "end_time": "2021-09-06T20:07:06.598769",
     "exception": false,
     "start_time": "2021-09-06T20:07:06.572223",
     "status": "completed"
    },
    "tags": []
   },
   "source": [
    "### Running Models with the Training data\n",
    "Details about the network layers:\n",
    "- A first affine layer has 784 inputs and does 100 affine transforms. These are followed by a Relu\n",
    "- A second affine layer has 100 inputs from the 100 activations of the past layer, and does 100 affine transforms. These are followed by a Relu\n",
    "- A third affine layer has 100 activations and does 2 affine transformations to create an embedding for visualization. There is no non-linearity here.\n",
    "- A final \"logistic regression\" which has an affine transform from 2 inputs to 1 output, which is squeezed through a sigmoid.\n"
   ]
  },
  {
   "cell_type": "code",
   "execution_count": 17,
   "id": "2b9c66db",
   "metadata": {
    "execution": {
     "iopub.execute_input": "2021-09-06T20:07:06.657251Z",
     "iopub.status.busy": "2021-09-06T20:07:06.656747Z",
     "iopub.status.idle": "2021-09-06T20:07:06.667595Z",
     "shell.execute_reply": "2021-09-06T20:07:06.667190Z"
    },
    "papermill": {
     "duration": 0.042408,
     "end_time": "2021-09-06T20:07:06.667704",
     "exception": false,
     "start_time": "2021-09-06T20:07:06.625296",
     "status": "completed"
    },
    "tags": []
   },
   "outputs": [],
   "source": [
    "data = Data(X_train, y_train.reshape(-1,1))\n",
    "sampler = Sampler(data, config.bs, shuffle=True)\n",
    "\n",
    "dl = Dataloader(data, sampler)\n",
    "\n",
    "opt = GD(config.lr)\n",
    "loss = MSE()"
   ]
  },
  {
   "cell_type": "code",
   "execution_count": 18,
   "id": "b275e4c2",
   "metadata": {
    "execution": {
     "iopub.execute_input": "2021-09-06T20:07:06.728560Z",
     "iopub.status.busy": "2021-09-06T20:07:06.728046Z",
     "iopub.status.idle": "2021-09-06T20:07:06.736989Z",
     "shell.execute_reply": "2021-09-06T20:07:06.736565Z"
    },
    "papermill": {
     "duration": 0.042777,
     "end_time": "2021-09-06T20:07:06.737090",
     "exception": false,
     "start_time": "2021-09-06T20:07:06.694313",
     "status": "completed"
    },
    "tags": []
   },
   "outputs": [],
   "source": [
    "training_data_x = X_train\n",
    "testing_data_x = X_test\n",
    "training_data_y = y_train.reshape(-1,1)\n",
    "testing_data_y = y_test.reshape(-1,1)"
   ]
  },
  {
   "cell_type": "code",
   "execution_count": 19,
   "id": "76951160",
   "metadata": {
    "execution": {
     "iopub.execute_input": "2021-09-06T20:07:06.798378Z",
     "iopub.status.busy": "2021-09-06T20:07:06.797875Z",
     "iopub.status.idle": "2021-09-06T20:07:06.810270Z",
     "shell.execute_reply": "2021-09-06T20:07:06.809846Z"
    },
    "papermill": {
     "duration": 0.046793,
     "end_time": "2021-09-06T20:07:06.810369",
     "exception": false,
     "start_time": "2021-09-06T20:07:06.763576",
     "status": "completed"
    },
    "tags": []
   },
   "outputs": [
    {
     "name": "stdout",
     "output_type": "stream",
     "text": [
      "xavier\n",
      "xavier\n",
      "xavier\n",
      "xavier\n",
      "xavier\n"
     ]
    }
   ],
   "source": [
    "layers = [Affine(\"first\", 784, 100), Relu(\"first\"), Affine(\"second\", 100, 100), Relu(\"second\"), Affine(\"third\", 100, 2), Affine(\"last\", 2, 1), Sigmoid(\"last\")]\n",
    "model_nn = Model(layers)\n",
    "model_lr = Model([Affine(\"logits\", 784, 1), Sigmoid(\"sigmoid\")])"
   ]
  },
  {
   "cell_type": "code",
   "execution_count": 20,
   "id": "6eede77a",
   "metadata": {
    "execution": {
     "iopub.execute_input": "2021-09-06T20:07:06.870051Z",
     "iopub.status.busy": "2021-09-06T20:07:06.869546Z",
     "iopub.status.idle": "2021-09-06T20:07:06.879958Z",
     "shell.execute_reply": "2021-09-06T20:07:06.879554Z"
    },
    "papermill": {
     "duration": 0.042714,
     "end_time": "2021-09-06T20:07:06.880065",
     "exception": false,
     "start_time": "2021-09-06T20:07:06.837351",
     "status": "completed"
    },
    "tags": []
   },
   "outputs": [],
   "source": [
    "nn_learner = Learner(loss, model_nn, opt, config.num_epochs)\n",
    "acc_nn = ClfCallback(nn_learner, config.bs, training_data_x , testing_data_x, training_data_y, testing_data_y)\n",
    "nn_learner.set_callbacks([acc_nn])"
   ]
  },
  {
   "cell_type": "code",
   "execution_count": 21,
   "id": "877b6cc7",
   "metadata": {
    "execution": {
     "iopub.execute_input": "2021-09-06T20:07:06.937763Z",
     "iopub.status.busy": "2021-09-06T20:07:06.937258Z",
     "iopub.status.idle": "2021-09-06T20:07:06.948697Z",
     "shell.execute_reply": "2021-09-06T20:07:06.949130Z"
    },
    "papermill": {
     "duration": 0.042181,
     "end_time": "2021-09-06T20:07:06.949250",
     "exception": false,
     "start_time": "2021-09-06T20:07:06.907069",
     "status": "completed"
    },
    "tags": []
   },
   "outputs": [],
   "source": [
    "lr_learner = Learner(loss, model_lr, opt, config.num_epochs)\n",
    "acc_lr = ClfCallback(lr_learner, config.bs, training_data_x , testing_data_x, training_data_y, testing_data_y)\n",
    "lr_learner.set_callbacks([acc_lr])"
   ]
  },
  {
   "cell_type": "code",
   "execution_count": 22,
   "id": "d9b133c3",
   "metadata": {
    "execution": {
     "iopub.execute_input": "2021-09-06T20:07:07.011654Z",
     "iopub.status.busy": "2021-09-06T20:07:07.011148Z",
     "iopub.status.idle": "2021-09-06T20:08:22.228486Z",
     "shell.execute_reply": "2021-09-06T20:08:22.228884Z"
    },
    "papermill": {
     "duration": 75.25283,
     "end_time": "2021-09-06T20:08:22.229030",
     "exception": false,
     "start_time": "2021-09-06T20:07:06.976200",
     "status": "completed"
    },
    "tags": []
   },
   "outputs": [
    {
     "name": "stdout",
     "output_type": "stream",
     "text": [
      "Epoch 0, Loss 0.2515\n",
      "Training Accuracy: 0.5436, Testing Accuracy: 0.5529\n",
      "\n"
     ]
    },
    {
     "name": "stdout",
     "output_type": "stream",
     "text": [
      "Epoch 10, Loss 0.1186\n",
      "Training Accuracy: 0.9131, Testing Accuracy: 0.9254\n",
      "\n"
     ]
    },
    {
     "name": "stdout",
     "output_type": "stream",
     "text": [
      "Epoch 20, Loss 0.065\n",
      "Training Accuracy: 0.9357, Testing Accuracy: 0.9471\n",
      "\n"
     ]
    },
    {
     "name": "stdout",
     "output_type": "stream",
     "text": [
      "Epoch 30, Loss 0.0486\n",
      "Training Accuracy: 0.9477, Testing Accuracy: 0.9582\n",
      "\n"
     ]
    },
    {
     "name": "stdout",
     "output_type": "stream",
     "text": [
      "Epoch 40, Loss 0.0409\n",
      "Training Accuracy: 0.9542, Testing Accuracy: 0.9637\n",
      "\n"
     ]
    },
    {
     "name": "stdout",
     "output_type": "stream",
     "text": [
      "Epoch 50, Loss 0.0365\n",
      "Training Accuracy: 0.9575, Testing Accuracy: 0.9662\n",
      "\n"
     ]
    },
    {
     "name": "stdout",
     "output_type": "stream",
     "text": [
      "Epoch 60, Loss 0.0336\n",
      "Training Accuracy: 0.9602, Testing Accuracy: 0.9657\n",
      "\n"
     ]
    },
    {
     "name": "stdout",
     "output_type": "stream",
     "text": [
      "Epoch 70, Loss 0.0315\n",
      "Training Accuracy: 0.9620, Testing Accuracy: 0.9672\n",
      "\n"
     ]
    },
    {
     "name": "stdout",
     "output_type": "stream",
     "text": [
      "Epoch 80, Loss 0.0299\n",
      "Training Accuracy: 0.9643, Testing Accuracy: 0.9688\n",
      "\n"
     ]
    },
    {
     "name": "stdout",
     "output_type": "stream",
     "text": [
      "Epoch 90, Loss 0.0286\n",
      "Training Accuracy: 0.9662, Testing Accuracy: 0.9677\n",
      "\n"
     ]
    },
    {
     "name": "stdout",
     "output_type": "stream",
     "text": [
      "Epoch 100, Loss 0.0275\n",
      "Training Accuracy: 0.9678, Testing Accuracy: 0.9667\n",
      "\n"
     ]
    },
    {
     "name": "stdout",
     "output_type": "stream",
     "text": [
      "Epoch 110, Loss 0.0266\n",
      "Training Accuracy: 0.9690, Testing Accuracy: 0.9672\n",
      "\n"
     ]
    },
    {
     "name": "stdout",
     "output_type": "stream",
     "text": [
      "Epoch 120, Loss 0.0258\n",
      "Training Accuracy: 0.9701, Testing Accuracy: 0.9698\n",
      "\n"
     ]
    },
    {
     "name": "stdout",
     "output_type": "stream",
     "text": [
      "Epoch 130, Loss 0.0251\n",
      "Training Accuracy: 0.9710, Testing Accuracy: 0.9708\n",
      "\n"
     ]
    },
    {
     "name": "stdout",
     "output_type": "stream",
     "text": [
      "Epoch 140, Loss 0.0244\n",
      "Training Accuracy: 0.9719, Testing Accuracy: 0.9713\n",
      "\n"
     ]
    },
    {
     "name": "stdout",
     "output_type": "stream",
     "text": [
      "Epoch 150, Loss 0.0239\n",
      "Training Accuracy: 0.9725, Testing Accuracy: 0.9713\n",
      "\n"
     ]
    },
    {
     "name": "stdout",
     "output_type": "stream",
     "text": [
      "Epoch 160, Loss 0.0233\n",
      "Training Accuracy: 0.9732, Testing Accuracy: 0.9703\n",
      "\n"
     ]
    },
    {
     "name": "stdout",
     "output_type": "stream",
     "text": [
      "Epoch 170, Loss 0.0228\n",
      "Training Accuracy: 0.9738, Testing Accuracy: 0.9708\n",
      "\n"
     ]
    },
    {
     "name": "stdout",
     "output_type": "stream",
     "text": [
      "Epoch 180, Loss 0.0223\n",
      "Training Accuracy: 0.9745, Testing Accuracy: 0.9708\n",
      "\n"
     ]
    },
    {
     "name": "stdout",
     "output_type": "stream",
     "text": [
      "Epoch 190, Loss 0.0219\n",
      "Training Accuracy: 0.9750, Testing Accuracy: 0.9703\n",
      "\n"
     ]
    },
    {
     "name": "stdout",
     "output_type": "stream",
     "text": [
      "Epoch 200, Loss 0.0215\n",
      "Training Accuracy: 0.9757, Testing Accuracy: 0.9703\n",
      "\n"
     ]
    },
    {
     "name": "stdout",
     "output_type": "stream",
     "text": [
      "Epoch 210, Loss 0.0211\n",
      "Training Accuracy: 0.9760, Testing Accuracy: 0.9703\n",
      "\n"
     ]
    },
    {
     "name": "stdout",
     "output_type": "stream",
     "text": [
      "Epoch 220, Loss 0.0207\n",
      "Training Accuracy: 0.9765, Testing Accuracy: 0.9708\n",
      "\n"
     ]
    },
    {
     "name": "stdout",
     "output_type": "stream",
     "text": [
      "Epoch 230, Loss 0.0203\n",
      "Training Accuracy: 0.9775, Testing Accuracy: 0.9708\n",
      "\n"
     ]
    },
    {
     "name": "stdout",
     "output_type": "stream",
     "text": [
      "Epoch 240, Loss 0.0199\n",
      "Training Accuracy: 0.9783, Testing Accuracy: 0.9718\n",
      "\n"
     ]
    },
    {
     "data": {
      "text/plain": [
       "0.0007348136541290881"
      ]
     },
     "execution_count": 22,
     "metadata": {},
     "output_type": "execute_result"
    }
   ],
   "source": [
    "nn_learner.train_loop(dl)"
   ]
  },
  {
   "cell_type": "code",
   "execution_count": 23,
   "id": "e0163366",
   "metadata": {
    "execution": {
     "iopub.execute_input": "2021-09-06T20:08:22.302684Z",
     "iopub.status.busy": "2021-09-06T20:08:22.302167Z",
     "iopub.status.idle": "2021-09-06T20:08:35.902212Z",
     "shell.execute_reply": "2021-09-06T20:08:35.902849Z"
    },
    "papermill": {
     "duration": 13.639679,
     "end_time": "2021-09-06T20:08:35.903018",
     "exception": false,
     "start_time": "2021-09-06T20:08:22.263339",
     "status": "completed"
    },
    "tags": []
   },
   "outputs": [
    {
     "name": "stdout",
     "output_type": "stream",
     "text": [
      "Epoch 0, Loss 0.2378\n",
      "Training Accuracy: 0.6945, Testing Accuracy: 0.6809\n",
      "\n"
     ]
    },
    {
     "name": "stdout",
     "output_type": "stream",
     "text": [
      "Epoch 10, Loss 0.1057\n",
      "Training Accuracy: 0.9034, Testing Accuracy: 0.9103\n",
      "\n"
     ]
    },
    {
     "name": "stdout",
     "output_type": "stream",
     "text": [
      "Epoch 20, Loss 0.0806\n",
      "Training Accuracy: 0.9246, Testing Accuracy: 0.9309\n",
      "\n"
     ]
    },
    {
     "name": "stdout",
     "output_type": "stream",
     "text": [
      "Epoch 30, Loss 0.0689\n",
      "Training Accuracy: 0.9356, Testing Accuracy: 0.9435\n",
      "\n"
     ]
    },
    {
     "name": "stdout",
     "output_type": "stream",
     "text": [
      "Epoch 40, Loss 0.062\n",
      "Training Accuracy: 0.9411, Testing Accuracy: 0.9516\n",
      "\n"
     ]
    },
    {
     "name": "stdout",
     "output_type": "stream",
     "text": [
      "Epoch 50, Loss 0.0573\n",
      "Training Accuracy: 0.9451, Testing Accuracy: 0.9567\n",
      "\n"
     ]
    },
    {
     "name": "stdout",
     "output_type": "stream",
     "text": [
      "Epoch 60, Loss 0.0539\n",
      "Training Accuracy: 0.9472, Testing Accuracy: 0.9582\n",
      "\n"
     ]
    },
    {
     "name": "stdout",
     "output_type": "stream",
     "text": [
      "Epoch 70, Loss 0.0513\n",
      "Training Accuracy: 0.9495, Testing Accuracy: 0.9587\n",
      "\n"
     ]
    },
    {
     "name": "stdout",
     "output_type": "stream",
     "text": [
      "Epoch 80, Loss 0.0492\n",
      "Training Accuracy: 0.9513, Testing Accuracy: 0.9597\n",
      "\n"
     ]
    },
    {
     "name": "stdout",
     "output_type": "stream",
     "text": [
      "Epoch 90, Loss 0.0475\n",
      "Training Accuracy: 0.9528, Testing Accuracy: 0.9607\n",
      "\n"
     ]
    },
    {
     "name": "stdout",
     "output_type": "stream",
     "text": [
      "Epoch 100, Loss 0.0461\n",
      "Training Accuracy: 0.9534, Testing Accuracy: 0.9622\n",
      "\n"
     ]
    },
    {
     "name": "stdout",
     "output_type": "stream",
     "text": [
      "Epoch 110, Loss 0.0448\n",
      "Training Accuracy: 0.9543, Testing Accuracy: 0.9632\n",
      "\n"
     ]
    },
    {
     "name": "stdout",
     "output_type": "stream",
     "text": [
      "Epoch 120, Loss 0.0438\n",
      "Training Accuracy: 0.9548, Testing Accuracy: 0.9632\n",
      "\n"
     ]
    },
    {
     "name": "stdout",
     "output_type": "stream",
     "text": [
      "Epoch 130, Loss 0.0429\n",
      "Training Accuracy: 0.9557, Testing Accuracy: 0.9647\n",
      "\n"
     ]
    },
    {
     "name": "stdout",
     "output_type": "stream",
     "text": [
      "Epoch 140, Loss 0.042\n",
      "Training Accuracy: 0.9563, Testing Accuracy: 0.9657\n",
      "\n"
     ]
    },
    {
     "name": "stdout",
     "output_type": "stream",
     "text": [
      "Epoch 150, Loss 0.0413\n",
      "Training Accuracy: 0.9568, Testing Accuracy: 0.9652\n",
      "\n"
     ]
    },
    {
     "name": "stdout",
     "output_type": "stream",
     "text": [
      "Epoch 160, Loss 0.0406\n",
      "Training Accuracy: 0.9573, Testing Accuracy: 0.9657\n",
      "\n"
     ]
    },
    {
     "name": "stdout",
     "output_type": "stream",
     "text": [
      "Epoch 170, Loss 0.04\n",
      "Training Accuracy: 0.9578, Testing Accuracy: 0.9657\n",
      "\n"
     ]
    },
    {
     "name": "stdout",
     "output_type": "stream",
     "text": [
      "Epoch 180, Loss 0.0395\n",
      "Training Accuracy: 0.9582, Testing Accuracy: 0.9657\n",
      "\n"
     ]
    },
    {
     "name": "stdout",
     "output_type": "stream",
     "text": [
      "Epoch 190, Loss 0.0389\n",
      "Training Accuracy: 0.9586, Testing Accuracy: 0.9662\n",
      "\n"
     ]
    },
    {
     "name": "stdout",
     "output_type": "stream",
     "text": [
      "Epoch 200, Loss 0.0385\n",
      "Training Accuracy: 0.9590, Testing Accuracy: 0.9667\n",
      "\n"
     ]
    },
    {
     "name": "stdout",
     "output_type": "stream",
     "text": [
      "Epoch 210, Loss 0.038\n",
      "Training Accuracy: 0.9597, Testing Accuracy: 0.9667\n",
      "\n"
     ]
    },
    {
     "name": "stdout",
     "output_type": "stream",
     "text": [
      "Epoch 220, Loss 0.0376\n",
      "Training Accuracy: 0.9597, Testing Accuracy: 0.9672\n",
      "\n"
     ]
    },
    {
     "name": "stdout",
     "output_type": "stream",
     "text": [
      "Epoch 230, Loss 0.0372\n",
      "Training Accuracy: 0.9597, Testing Accuracy: 0.9677\n",
      "\n"
     ]
    },
    {
     "name": "stdout",
     "output_type": "stream",
     "text": [
      "Epoch 240, Loss 0.0369\n",
      "Training Accuracy: 0.9600, Testing Accuracy: 0.9682\n",
      "\n"
     ]
    },
    {
     "data": {
      "text/plain": [
       "0.04493858842143925"
      ]
     },
     "execution_count": 23,
     "metadata": {},
     "output_type": "execute_result"
    }
   ],
   "source": [
    "lr_learner.train_loop(dl)"
   ]
  },
  {
   "cell_type": "code",
   "execution_count": 24,
   "id": "ca410940",
   "metadata": {
    "execution": {
     "iopub.execute_input": "2021-09-06T20:08:36.000149Z",
     "iopub.status.busy": "2021-09-06T20:08:35.999636Z",
     "iopub.status.idle": "2021-09-06T20:08:36.208226Z",
     "shell.execute_reply": "2021-09-06T20:08:36.207730Z"
    },
    "papermill": {
     "duration": 0.263968,
     "end_time": "2021-09-06T20:08:36.208360",
     "exception": false,
     "start_time": "2021-09-06T20:08:35.944392",
     "status": "completed"
    },
    "tags": []
   },
   "outputs": [
    {
     "data": {
      "text/plain": [
       "<matplotlib.legend.Legend at 0x7f35074c6eb8>"
      ]
     },
     "execution_count": 24,
     "metadata": {},
     "output_type": "execute_result"
    },
    {
     "data": {
      "image/png": "[encoded data removed]",
      "text/plain": [
       "<Figure size 1080x720 with 1 Axes>"
      ]
     },
     "metadata": {
      "needs_background": "light"
     },
     "output_type": "display_data"
    }
   ],
   "source": [
    "#comparing the results of NN and LR\n",
    "plt.figure(figsize=(15,10))\n",
    "\n",
    "# Neural Network plots\n",
    "plt.plot(acc_nn.accuracies, 'r-', label = \"Training Accuracies - NN\")\n",
    "plt.plot(acc_nn.test_accuracies, 'g-', label = \"Testing Accuracies - NN\")\n",
    "\n",
    "# Logistic Regression plots\n",
    "plt.plot(acc_lr.accuracies, 'k-', label = \"Training Accuracies - LR\")\n",
    "plt.plot(acc_lr.test_accuracies, 'b-', label = \"Testing Accuracies - LR\")\n",
    "plt.legend()"
   ]
  },
  {
   "cell_type": "markdown",
   "id": "80dfb35c",
   "metadata": {
    "papermill": {
     "duration": 0.041648,
     "end_time": "2021-09-06T20:08:36.293929",
     "exception": false,
     "start_time": "2021-09-06T20:08:36.252281",
     "status": "completed"
    },
    "tags": []
   },
   "source": [
    "#### Plotting the outputs of this layer of the NN.\n"
   ]
  },
  {
   "cell_type": "code",
   "execution_count": 25,
   "id": "45eb2ff5",
   "metadata": {
    "execution": {
     "iopub.execute_input": "2021-09-06T20:08:36.387982Z",
     "iopub.status.busy": "2021-09-06T20:08:36.387077Z",
     "iopub.status.idle": "2021-09-06T20:08:36.403039Z",
     "shell.execute_reply": "2021-09-06T20:08:36.402600Z"
    },
    "papermill": {
     "duration": 0.0677,
     "end_time": "2021-09-06T20:08:36.403157",
     "exception": false,
     "start_time": "2021-09-06T20:08:36.335457",
     "status": "completed"
    },
    "tags": []
   },
   "outputs": [],
   "source": [
    "new_model = Model(layers[:-2])\n",
    "testing_plot = new_model(testing_data_x)"
   ]
  },
  {
   "cell_type": "code",
   "execution_count": 26,
   "id": "4c0a5485",
   "metadata": {
    "execution": {
     "iopub.execute_input": "2021-09-06T20:08:36.502208Z",
     "iopub.status.busy": "2021-09-06T20:08:36.501699Z",
     "iopub.status.idle": "2021-09-06T20:08:36.689683Z",
     "shell.execute_reply": "2021-09-06T20:08:36.689235Z"
    },
    "papermill": {
     "duration": 0.236682,
     "end_time": "2021-09-06T20:08:36.689796",
     "exception": false,
     "start_time": "2021-09-06T20:08:36.453114",
     "status": "completed"
    },
    "tags": []
   },
   "outputs": [
    {
     "data": {
      "text/plain": [
       "Text(0.5, 1.0, 'Outputs')"
      ]
     },
     "execution_count": 26,
     "metadata": {},
     "output_type": "execute_result"
    },
    {
     "data": {
      "image/png": "[encoded data removed]",
      "text/plain": [
       "<Figure size 576x504 with 1 Axes>"
      ]
     },
     "metadata": {
      "needs_background": "light"
     },
     "output_type": "display_data"
    }
   ],
   "source": [
    "# Plotting the scatter plot of points and color coding by class\n",
    "plt.figure(figsize=(8,7))\n",
    "plt.scatter(testing_plot[:,0], testing_plot[:,1], alpha = 0.1, c = y_test.ravel());\n",
    "plt.title('Outputs')"
   ]
  },
  {
   "cell_type": "markdown",
   "id": "a74fcf8f",
   "metadata": {
    "papermill": {
     "duration": 0.043623,
     "end_time": "2021-09-06T20:08:36.777440",
     "exception": false,
     "start_time": "2021-09-06T20:08:36.733817",
     "status": "completed"
    },
    "tags": []
   },
   "source": [
    "Probability contours"
   ]
  },
  {
   "cell_type": "code",
   "execution_count": 27,
   "id": "d0afc8e3",
   "metadata": {
    "execution": {
     "iopub.execute_input": "2021-09-06T20:08:36.868264Z",
     "iopub.status.busy": "2021-09-06T20:08:36.867753Z",
     "iopub.status.idle": "2021-09-06T20:08:36.879531Z",
     "shell.execute_reply": "2021-09-06T20:08:36.879092Z"
    },
    "papermill": {
     "duration": 0.058687,
     "end_time": "2021-09-06T20:08:36.879632",
     "exception": false,
     "start_time": "2021-09-06T20:08:36.820945",
     "status": "completed"
    },
    "tags": []
   },
   "outputs": [],
   "source": [
    "model_prob = Model(layers[-2:]) "
   ]
  },
  {
   "cell_type": "code",
   "execution_count": 28,
   "id": "9b96e238",
   "metadata": {
    "execution": {
     "iopub.execute_input": "2021-09-06T20:08:36.970711Z",
     "iopub.status.busy": "2021-09-06T20:08:36.970203Z",
     "iopub.status.idle": "2021-09-06T20:08:36.984228Z",
     "shell.execute_reply": "2021-09-06T20:08:36.984604Z"
    },
    "papermill": {
     "duration": 0.061753,
     "end_time": "2021-09-06T20:08:36.984725",
     "exception": false,
     "start_time": "2021-09-06T20:08:36.922972",
     "status": "completed"
    },
    "tags": []
   },
   "outputs": [],
   "source": [
    "#creating the x and y ranges according to the above generated plot.\n",
    "x_range = np.linspace(-4, 1, 100) \n",
    "y_range = np.linspace(-6, 6, 100) \n",
    "x_grid, y_grid = np.meshgrid(x_range, y_range) # x_grid and y_grig are of size 100 X 100\n",
    "\n",
    "# converting x_grid and y_grid to continuous arrays\n",
    "x_gridflat = np.ravel(x_grid)\n",
    "y_gridflat = np.ravel(y_grid)\n",
    "\n",
    "# The last layer of the current model takes two columns as input. Hence transpose of np.vstack() is required.\n",
    "X = np.vstack((x_gridflat, y_gridflat)).T\n",
    "\n",
    "prob_contour = model_prob(X).reshape(100,100) "
   ]
  },
  {
   "cell_type": "code",
   "execution_count": 29,
   "id": "da72499a",
   "metadata": {
    "execution": {
     "iopub.execute_input": "2021-09-06T20:08:37.116258Z",
     "iopub.status.busy": "2021-09-06T20:08:37.115743Z",
     "iopub.status.idle": "2021-09-06T20:08:37.357051Z",
     "shell.execute_reply": "2021-09-06T20:08:37.356532Z"
    },
    "papermill": {
     "duration": 0.321635,
     "end_time": "2021-09-06T20:08:37.357184",
     "exception": false,
     "start_time": "2021-09-06T20:08:37.035549",
     "status": "completed"
    },
    "tags": []
   },
   "outputs": [
    {
     "data": {
      "image/png": "[encoded data removed]",
      "text/plain": [
       "<Figure size 720x648 with 1 Axes>"
      ]
     },
     "metadata": {
      "needs_background": "light"
     },
     "output_type": "display_data"
    }
   ],
   "source": [
    "plt.figure(figsize=(10,9))\n",
    "plt.scatter(testing_plot[:,0], testing_plot[:,1], alpha = 0.1, c = y_test.ravel())\n",
    "contours = plt.contour(x_grid,y_grid,prob_contour)\n",
    "plt.title('Probability Contours')\n",
    "plt.clabel(contours, inline = True );"
   ]
  },
  {
   "cell_type": "code",
   "execution_count": null,
   "id": "e81b4ac7",
   "metadata": {
    "papermill": {
     "duration": 0.04591,
     "end_time": "2021-09-06T20:08:37.449720",
     "exception": false,
     "start_time": "2021-09-06T20:08:37.403810",
     "status": "completed"
    },
    "tags": []
   },
   "outputs": [],
   "source": []
  }
 ],
 "metadata": {
  "kernelspec": {
   "display_name": "Python 3",
   "language": "python",
   "name": "python3"
  },
  "language_info": {
   "codemirror_mode": {
    "name": "ipython",
    "version": 3
   },
   "file_extension": ".py",
   "mimetype": "text/x-python",
   "name": "python",
   "nbconvert_exporter": "python",
   "pygments_lexer": "ipython3",
   "version": "3.6.14"
  },
  "papermill": {
   "default_parameters": {},
   "duration": 96.983642,
   "end_time": "2021-09-06T20:08:37.903528",
   "environment_variables": {},
   "exception": null,
   "input_path": "2020-08-11-part2.ipynb",
   "output_path": "2020-08-11-part2.ipynb",
   "parameters": {},
   "start_time": "2021-09-06T20:07:00.919886",
   "version": "2.3.3"
  }
 },
 "nbformat": 4,
 "nbformat_minor": 5
}