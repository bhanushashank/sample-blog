{
 "cells": [
  {
   "cell_type": "markdown",
   "id": "98380cd3",
   "metadata": {
    "papermill": {
     "duration": 0.027669,
     "end_time": "2022-01-16T00:26:33.141600",
     "exception": false,
     "start_time": "2022-01-16T00:26:33.113931",
     "status": "completed"
    },
    "tags": []
   },
   "source": [
    "# Distinguish Your Own Digits (DYOD)"
   ]
  },
  {
   "cell_type": "markdown",
   "id": "ef31240d",
   "metadata": {
    "papermill": {
     "duration": 0.02408,
     "end_time": "2022-01-16T00:26:33.190391",
     "exception": false,
     "start_time": "2022-01-16T00:26:33.166311",
     "status": "completed"
    },
    "tags": []
   },
   "source": [
    "You are going to write a classifier that distinguishes between the number 3 and number 8."
   ]
  },
  {
   "cell_type": "code",
   "execution_count": 1,
   "id": "b15c8646",
   "metadata": {
    "execution": {
     "iopub.execute_input": "2022-01-16T00:26:33.249929Z",
     "iopub.status.busy": "2022-01-16T00:26:33.249404Z",
     "iopub.status.idle": "2022-01-16T00:26:33.260268Z",
     "shell.execute_reply": "2022-01-16T00:26:33.259843Z"
    },
    "papermill": {
     "duration": 0.04572,
     "end_time": "2022-01-16T00:26:33.260395",
     "exception": false,
     "start_time": "2022-01-16T00:26:33.214675",
     "status": "completed"
    },
    "tags": []
   },
   "outputs": [],
   "source": [
    "%load_ext autoreload\n",
    "%autoreload 2"
   ]
  },
  {
   "cell_type": "code",
   "execution_count": 2,
   "id": "22ef38dc",
   "metadata": {
    "execution": {
     "iopub.execute_input": "2022-01-16T00:26:33.315745Z",
     "iopub.status.busy": "2022-01-16T00:26:33.315209Z",
     "iopub.status.idle": "2022-01-16T00:26:33.890574Z",
     "shell.execute_reply": "2022-01-16T00:26:33.890006Z"
    },
    "papermill": {
     "duration": 0.60602,
     "end_time": "2022-01-16T00:26:33.890725",
     "exception": false,
     "start_time": "2022-01-16T00:26:33.284705",
     "status": "completed"
    },
    "tags": []
   },
   "outputs": [],
   "source": [
    "%matplotlib inline\n",
    "import numpy as np\n",
    "import matplotlib.pyplot as plt\n",
    "import pandas as pd"
   ]
  },
  {
   "cell_type": "markdown",
   "id": "ba036198",
   "metadata": {
    "papermill": {
     "duration": 0.024033,
     "end_time": "2022-01-16T00:26:33.939625",
     "exception": false,
     "start_time": "2022-01-16T00:26:33.915592",
     "status": "completed"
    },
    "tags": []
   },
   "source": [
    "From the command line run `pip install mnist`. This is a library that will help you bring down the mnist dataset. If you run this from a notebook, you need to put  `!pip install mnist` in a cell by itself."
   ]
  },
  {
   "cell_type": "code",
   "execution_count": 3,
   "id": "bb6ad8a1",
   "metadata": {
    "execution": {
     "iopub.execute_input": "2022-01-16T00:26:33.999452Z",
     "iopub.status.busy": "2022-01-16T00:26:33.997706Z",
     "iopub.status.idle": "2022-01-16T00:26:36.528102Z",
     "shell.execute_reply": "2022-01-16T00:26:36.527552Z"
    },
    "papermill": {
     "duration": 2.564693,
     "end_time": "2022-01-16T00:26:36.528238",
     "exception": false,
     "start_time": "2022-01-16T00:26:33.963545",
     "status": "completed"
    },
    "tags": []
   },
   "outputs": [
    {
     "name": "stdout",
     "output_type": "stream",
     "text": [
      "Collecting mnist\r\n"
     ]
    },
    {
     "name": "stdout",
     "output_type": "stream",
     "text": [
      "  Downloading mnist-0.2.2-py2.py3-none-any.whl (3.5 kB)\r\n",
      "Requirement already satisfied: numpy in /opt/hostedtoolcache/Python/3.6.15/x64/lib/python3.6/site-packages (from mnist) (1.19.5)\r\n"
     ]
    },
    {
     "name": "stdout",
     "output_type": "stream",
     "text": [
      "Installing collected packages: mnist\r\n"
     ]
    },
    {
     "name": "stdout",
     "output_type": "stream",
     "text": [
      "Successfully installed mnist-0.2.2\r\n"
     ]
    }
   ],
   "source": [
    "!pip install mnist"
   ]
  },
  {
   "cell_type": "markdown",
   "id": "69df9c9a",
   "metadata": {
    "papermill": {
     "duration": 0.024964,
     "end_time": "2022-01-16T00:26:36.578384",
     "exception": false,
     "start_time": "2022-01-16T00:26:36.553420",
     "status": "completed"
    },
    "tags": []
   },
   "source": [
    "## Preparing the Data"
   ]
  },
  {
   "cell_type": "code",
   "execution_count": 4,
   "id": "7f69d806",
   "metadata": {
    "execution": {
     "iopub.execute_input": "2022-01-16T00:26:36.647384Z",
     "iopub.status.busy": "2022-01-16T00:26:36.643242Z",
     "iopub.status.idle": "2022-01-16T00:26:36.649327Z",
     "shell.execute_reply": "2022-01-16T00:26:36.649724Z"
    },
    "papermill": {
     "duration": 0.046785,
     "end_time": "2022-01-16T00:26:36.649867",
     "exception": false,
     "start_time": "2022-01-16T00:26:36.603082",
     "status": "completed"
    },
    "tags": []
   },
   "outputs": [],
   "source": [
    "import mnist"
   ]
  },
  {
   "cell_type": "code",
   "execution_count": 5,
   "id": "a411e44f",
   "metadata": {
    "execution": {
     "iopub.execute_input": "2022-01-16T00:26:36.703323Z",
     "iopub.status.busy": "2022-01-16T00:26:36.702799Z",
     "iopub.status.idle": "2022-01-16T00:26:37.203980Z",
     "shell.execute_reply": "2022-01-16T00:26:37.203450Z"
    },
    "papermill": {
     "duration": 0.529241,
     "end_time": "2022-01-16T00:26:37.204121",
     "exception": false,
     "start_time": "2022-01-16T00:26:36.674880",
     "status": "completed"
    },
    "tags": []
   },
   "outputs": [],
   "source": [
    "train_images = mnist.train_images()\n",
    "train_labels = mnist.train_labels()"
   ]
  },
  {
   "cell_type": "code",
   "execution_count": 6,
   "id": "dceab3a5",
   "metadata": {
    "execution": {
     "iopub.execute_input": "2022-01-16T00:26:37.262593Z",
     "iopub.status.busy": "2022-01-16T00:26:37.262001Z",
     "iopub.status.idle": "2022-01-16T00:26:37.273621Z",
     "shell.execute_reply": "2022-01-16T00:26:37.274007Z"
    },
    "papermill": {
     "duration": 0.044328,
     "end_time": "2022-01-16T00:26:37.274141",
     "exception": false,
     "start_time": "2022-01-16T00:26:37.229813",
     "status": "completed"
    },
    "tags": []
   },
   "outputs": [
    {
     "data": {
      "text/plain": [
       "((60000, 28, 28), (60000,))"
      ]
     },
     "execution_count": 6,
     "metadata": {},
     "output_type": "execute_result"
    }
   ],
   "source": [
    "train_images.shape, train_labels.shape"
   ]
  },
  {
   "cell_type": "code",
   "execution_count": 7,
   "id": "f50dc2bb",
   "metadata": {
    "execution": {
     "iopub.execute_input": "2022-01-16T00:26:37.328537Z",
     "iopub.status.busy": "2022-01-16T00:26:37.328025Z",
     "iopub.status.idle": "2022-01-16T00:26:37.488373Z",
     "shell.execute_reply": "2022-01-16T00:26:37.487813Z"
    },
    "papermill": {
     "duration": 0.189107,
     "end_time": "2022-01-16T00:26:37.488516",
     "exception": false,
     "start_time": "2022-01-16T00:26:37.299409",
     "status": "completed"
    },
    "tags": []
   },
   "outputs": [],
   "source": [
    "test_images = mnist.test_images()\n",
    "test_labels = mnist.test_labels()"
   ]
  },
  {
   "cell_type": "code",
   "execution_count": 8,
   "id": "fc38cf1b",
   "metadata": {
    "execution": {
     "iopub.execute_input": "2022-01-16T00:26:37.543610Z",
     "iopub.status.busy": "2022-01-16T00:26:37.543099Z",
     "iopub.status.idle": "2022-01-16T00:26:37.555647Z",
     "shell.execute_reply": "2022-01-16T00:26:37.556140Z"
    },
    "papermill": {
     "duration": 0.04157,
     "end_time": "2022-01-16T00:26:37.556271",
     "exception": false,
     "start_time": "2022-01-16T00:26:37.514701",
     "status": "completed"
    },
    "tags": []
   },
   "outputs": [
    {
     "data": {
      "text/plain": [
       "((10000, 28, 28), (10000,))"
      ]
     },
     "execution_count": 8,
     "metadata": {},
     "output_type": "execute_result"
    }
   ],
   "source": [
    "test_images.shape, test_labels.shape"
   ]
  },
  {
   "cell_type": "code",
   "execution_count": 9,
   "id": "f9ed8fe0",
   "metadata": {
    "execution": {
     "iopub.execute_input": "2022-01-16T00:26:37.619585Z",
     "iopub.status.busy": "2022-01-16T00:26:37.619056Z",
     "iopub.status.idle": "2022-01-16T00:26:37.752995Z",
     "shell.execute_reply": "2022-01-16T00:26:37.753393Z"
    },
    "papermill": {
     "duration": 0.171878,
     "end_time": "2022-01-16T00:26:37.753534",
     "exception": false,
     "start_time": "2022-01-16T00:26:37.581656",
     "status": "completed"
    },
    "tags": []
   },
   "outputs": [
    {
     "name": "stdout",
     "output_type": "stream",
     "text": [
      "2\n"
     ]
    },
    {
     "data": {
      "text/plain": [
       "<matplotlib.image.AxesImage at 0x7f6e622434a8>"
      ]
     },
     "execution_count": 9,
     "metadata": {},
     "output_type": "execute_result"
    },
    {
     "data": {
      "image/png": "[encoded data removed]",
      "text/plain": [
       "<Figure size 432x288 with 1 Axes>"
      ]
     },
     "metadata": {
      "needs_background": "light"
     },
     "output_type": "display_data"
    }
   ],
   "source": [
    "image_index = 7776 # You may select anything up to 60,000\n",
    "print(train_labels[image_index]) \n",
    "plt.imshow(train_images[image_index], cmap='Greys')"
   ]
  },
  {
   "cell_type": "markdown",
   "id": "a8d2388d",
   "metadata": {
    "papermill": {
     "duration": 0.02718,
     "end_time": "2022-01-16T00:26:37.807536",
     "exception": false,
     "start_time": "2022-01-16T00:26:37.780356",
     "status": "completed"
    },
    "tags": []
   },
   "source": [
    "## Filter data to get 3 and 8 out"
   ]
  },
  {
   "cell_type": "code",
   "execution_count": 10,
   "id": "776f7fc7",
   "metadata": {
    "execution": {
     "iopub.execute_input": "2022-01-16T00:26:37.875344Z",
     "iopub.status.busy": "2022-01-16T00:26:37.867303Z",
     "iopub.status.idle": "2022-01-16T00:26:37.883918Z",
     "shell.execute_reply": "2022-01-16T00:26:37.883445Z"
    },
    "papermill": {
     "duration": 0.049942,
     "end_time": "2022-01-16T00:26:37.884037",
     "exception": false,
     "start_time": "2022-01-16T00:26:37.834095",
     "status": "completed"
    },
    "tags": []
   },
   "outputs": [],
   "source": [
    "train_filter = np.where((train_labels == 3 ) | (train_labels == 8))\n",
    "test_filter = np.where((test_labels == 3) | (test_labels == 8))\n",
    "X_train, y_train = train_images[train_filter], train_labels[train_filter]\n",
    "X_test, y_test = test_images[test_filter], test_labels[test_filter]"
   ]
  },
  {
   "cell_type": "markdown",
   "id": "948f0b7e",
   "metadata": {
    "papermill": {
     "duration": 0.026364,
     "end_time": "2022-01-16T00:26:37.937113",
     "exception": false,
     "start_time": "2022-01-16T00:26:37.910749",
     "status": "completed"
    },
    "tags": []
   },
   "source": [
    "We normalize the pizel values in the 0 to 1 range"
   ]
  },
  {
   "cell_type": "code",
   "execution_count": 11,
   "id": "ee4c2166",
   "metadata": {
    "execution": {
     "iopub.execute_input": "2022-01-16T00:26:37.994577Z",
     "iopub.status.busy": "2022-01-16T00:26:37.994029Z",
     "iopub.status.idle": "2022-01-16T00:26:38.040817Z",
     "shell.execute_reply": "2022-01-16T00:26:38.040279Z"
    },
    "papermill": {
     "duration": 0.07756,
     "end_time": "2022-01-16T00:26:38.040956",
     "exception": false,
     "start_time": "2022-01-16T00:26:37.963396",
     "status": "completed"
    },
    "tags": []
   },
   "outputs": [],
   "source": [
    "X_train = X_train/255.\n",
    "X_test = X_test/255."
   ]
  },
  {
   "cell_type": "markdown",
   "id": "ddcf4fab",
   "metadata": {
    "papermill": {
     "duration": 0.026296,
     "end_time": "2022-01-16T00:26:38.094004",
     "exception": false,
     "start_time": "2022-01-16T00:26:38.067708",
     "status": "completed"
    },
    "tags": []
   },
   "source": [
    "And setup the labels as 1 (when the digit is 3) and 0 (when the digit is 8)"
   ]
  },
  {
   "cell_type": "code",
   "execution_count": 12,
   "id": "7dc908f2",
   "metadata": {
    "execution": {
     "iopub.execute_input": "2022-01-16T00:26:38.150271Z",
     "iopub.status.busy": "2022-01-16T00:26:38.149755Z",
     "iopub.status.idle": "2022-01-16T00:26:38.161649Z",
     "shell.execute_reply": "2022-01-16T00:26:38.161238Z"
    },
    "papermill": {
     "duration": 0.041344,
     "end_time": "2022-01-16T00:26:38.161761",
     "exception": false,
     "start_time": "2022-01-16T00:26:38.120417",
     "status": "completed"
    },
    "tags": []
   },
   "outputs": [],
   "source": [
    "y_train = 1*(y_train==3)\n",
    "y_test = 1*(y_test==3)"
   ]
  },
  {
   "cell_type": "code",
   "execution_count": 13,
   "id": "01e4e969",
   "metadata": {
    "execution": {
     "iopub.execute_input": "2022-01-16T00:26:38.231157Z",
     "iopub.status.busy": "2022-01-16T00:26:38.230604Z",
     "iopub.status.idle": "2022-01-16T00:26:38.233255Z",
     "shell.execute_reply": "2022-01-16T00:26:38.233664Z"
    },
    "papermill": {
     "duration": 0.04554,
     "end_time": "2022-01-16T00:26:38.233795",
     "exception": false,
     "start_time": "2022-01-16T00:26:38.188255",
     "status": "completed"
    },
    "tags": []
   },
   "outputs": [
    {
     "data": {
      "text/plain": [
       "((11982, 28, 28), (1984, 28, 28))"
      ]
     },
     "execution_count": 13,
     "metadata": {},
     "output_type": "execute_result"
    }
   ],
   "source": [
    "X_train.shape, X_test.shape"
   ]
  },
  {
   "cell_type": "markdown",
   "id": "5ccf3f85",
   "metadata": {
    "papermill": {
     "duration": 0.026639,
     "end_time": "2022-01-16T00:26:38.287177",
     "exception": false,
     "start_time": "2022-01-16T00:26:38.260538",
     "status": "completed"
    },
    "tags": []
   },
   "source": [
    "We reshape the data to flatten the image pixels into a set of features or co-variates:"
   ]
  },
  {
   "cell_type": "code",
   "execution_count": 14,
   "id": "5286a4a3",
   "metadata": {
    "execution": {
     "iopub.execute_input": "2022-01-16T00:26:38.358531Z",
     "iopub.status.busy": "2022-01-16T00:26:38.357967Z",
     "iopub.status.idle": "2022-01-16T00:26:38.362284Z",
     "shell.execute_reply": "2022-01-16T00:26:38.361777Z"
    },
    "papermill": {
     "duration": 0.048032,
     "end_time": "2022-01-16T00:26:38.362417",
     "exception": false,
     "start_time": "2022-01-16T00:26:38.314385",
     "status": "completed"
    },
    "tags": []
   },
   "outputs": [
    {
     "data": {
      "text/plain": [
       "((11982, 784), (1984, 784))"
      ]
     },
     "execution_count": 14,
     "metadata": {},
     "output_type": "execute_result"
    }
   ],
   "source": [
    "X_train = X_train.reshape(X_train.shape[0], -1)\n",
    "X_test = X_test.reshape(X_test.shape[0], -1)\n",
    "X_train.shape, X_test.shape"
   ]
  },
  {
   "cell_type": "code",
   "execution_count": 15,
   "id": "73c5f88a",
   "metadata": {
    "execution": {
     "iopub.execute_input": "2022-01-16T00:26:38.423974Z",
     "iopub.status.busy": "2022-01-16T00:26:38.423458Z",
     "iopub.status.idle": "2022-01-16T00:26:38.441295Z",
     "shell.execute_reply": "2022-01-16T00:26:38.440655Z"
    },
    "papermill": {
     "duration": 0.051926,
     "end_time": "2022-01-16T00:26:38.441428",
     "exception": false,
     "start_time": "2022-01-16T00:26:38.389502",
     "status": "completed"
    },
    "tags": []
   },
   "outputs": [],
   "source": [
    "#Impoting functions from 'Kudzu'\n",
    "from kudzu.model import Model\n",
    "from kudzu.train import Learner\n",
    "from kudzu.optim import GD\n",
    "from kudzu.data import Data, Sampler,Dataloader\n",
    "\n",
    "from kudzu.callbacks import AccCallback\n",
    "from kudzu.callbacks import ClfCallback\n",
    "\n",
    "from kudzu.loss import MSE\n",
    "\n",
    "from kudzu.layer import Sigmoid,Relu\n",
    "from kudzu.layer import Affine"
   ]
  },
  {
   "cell_type": "markdown",
   "id": "bc01172a",
   "metadata": {
    "papermill": {
     "duration": 0.027582,
     "end_time": "2022-01-16T00:26:38.498843",
     "exception": false,
     "start_time": "2022-01-16T00:26:38.471261",
     "status": "completed"
    },
    "tags": []
   },
   "source": [
    "### Let us create a `Config` class, to store important parameters. \n",
    "This class essentially plays the role of a dictionary."
   ]
  },
  {
   "cell_type": "code",
   "execution_count": 16,
   "id": "978281aa",
   "metadata": {
    "execution": {
     "iopub.execute_input": "2022-01-16T00:26:38.558003Z",
     "iopub.status.busy": "2022-01-16T00:26:38.557485Z",
     "iopub.status.idle": "2022-01-16T00:26:38.569231Z",
     "shell.execute_reply": "2022-01-16T00:26:38.568821Z"
    },
    "papermill": {
     "duration": 0.042726,
     "end_time": "2022-01-16T00:26:38.569344",
     "exception": false,
     "start_time": "2022-01-16T00:26:38.526618",
     "status": "completed"
    },
    "tags": []
   },
   "outputs": [],
   "source": [
    "class Config:\n",
    "    pass\n",
    "config = Config()\n",
    "config.lr = 0.001\n",
    "config.num_epochs = 250\n",
    "config.bs = 50"
   ]
  },
  {
   "cell_type": "markdown",
   "id": "1385fa59",
   "metadata": {
    "papermill": {
     "duration": 0.034456,
     "end_time": "2022-01-16T00:26:38.632149",
     "exception": false,
     "start_time": "2022-01-16T00:26:38.597693",
     "status": "completed"
    },
    "tags": []
   },
   "source": [
    "### Running Models with the Training data\n",
    "Details about the network layers:\n",
    "- A first affine layer has 784 inputs and does 100 affine transforms. These are followed by a Relu\n",
    "- A second affine layer has 100 inputs from the 100 activations of the past layer, and does 100 affine transforms. These are followed by a Relu\n",
    "- A third affine layer has 100 activations and does 2 affine transformations to create an embedding for visualization. There is no non-linearity here.\n",
    "- A final \"logistic regression\" which has an affine transform from 2 inputs to 1 output, which is squeezed through a sigmoid.\n"
   ]
  },
  {
   "cell_type": "code",
   "execution_count": 17,
   "id": "2b9c66db",
   "metadata": {
    "execution": {
     "iopub.execute_input": "2022-01-16T00:26:38.691471Z",
     "iopub.status.busy": "2022-01-16T00:26:38.690936Z",
     "iopub.status.idle": "2022-01-16T00:26:38.702759Z",
     "shell.execute_reply": "2022-01-16T00:26:38.702312Z"
    },
    "papermill": {
     "duration": 0.043509,
     "end_time": "2022-01-16T00:26:38.702881",
     "exception": false,
     "start_time": "2022-01-16T00:26:38.659372",
     "status": "completed"
    },
    "tags": []
   },
   "outputs": [],
   "source": [
    "data = Data(X_train, y_train.reshape(-1,1))\n",
    "sampler = Sampler(data, config.bs, shuffle=True)\n",
    "\n",
    "dl = Dataloader(data, sampler)\n",
    "\n",
    "opt = GD(config.lr)\n",
    "loss = MSE()"
   ]
  },
  {
   "cell_type": "code",
   "execution_count": 18,
   "id": "b275e4c2",
   "metadata": {
    "execution": {
     "iopub.execute_input": "2022-01-16T00:26:38.773834Z",
     "iopub.status.busy": "2022-01-16T00:26:38.771156Z",
     "iopub.status.idle": "2022-01-16T00:26:38.776335Z",
     "shell.execute_reply": "2022-01-16T00:26:38.775629Z"
    },
    "papermill": {
     "duration": 0.046474,
     "end_time": "2022-01-16T00:26:38.776452",
     "exception": false,
     "start_time": "2022-01-16T00:26:38.729978",
     "status": "completed"
    },
    "tags": []
   },
   "outputs": [],
   "source": [
    "training_data_x = X_train\n",
    "testing_data_x = X_test\n",
    "training_data_y = y_train.reshape(-1,1)\n",
    "testing_data_y = y_test.reshape(-1,1)"
   ]
  },
  {
   "cell_type": "code",
   "execution_count": 19,
   "id": "76951160",
   "metadata": {
    "execution": {
     "iopub.execute_input": "2022-01-16T00:26:38.836636Z",
     "iopub.status.busy": "2022-01-16T00:26:38.836115Z",
     "iopub.status.idle": "2022-01-16T00:26:38.849803Z",
     "shell.execute_reply": "2022-01-16T00:26:38.850185Z"
    },
    "papermill": {
     "duration": 0.047009,
     "end_time": "2022-01-16T00:26:38.850316",
     "exception": false,
     "start_time": "2022-01-16T00:26:38.803307",
     "status": "completed"
    },
    "tags": []
   },
   "outputs": [
    {
     "name": "stdout",
     "output_type": "stream",
     "text": [
      "xavier\n",
      "xavier\n",
      "xavier\n",
      "xavier\n",
      "xavier\n"
     ]
    }
   ],
   "source": [
    "layers = [Affine(\"first\", 784, 100), Relu(\"first\"), Affine(\"second\", 100, 100), Relu(\"second\"), Affine(\"third\", 100, 2), Affine(\"last\", 2, 1), Sigmoid(\"last\")]\n",
    "model_nn = Model(layers)\n",
    "model_lr = Model([Affine(\"logits\", 784, 1), Sigmoid(\"sigmoid\")])"
   ]
  },
  {
   "cell_type": "code",
   "execution_count": 20,
   "id": "6eede77a",
   "metadata": {
    "execution": {
     "iopub.execute_input": "2022-01-16T00:26:38.909312Z",
     "iopub.status.busy": "2022-01-16T00:26:38.908798Z",
     "iopub.status.idle": "2022-01-16T00:26:38.920149Z",
     "shell.execute_reply": "2022-01-16T00:26:38.920584Z"
    },
    "papermill": {
     "duration": 0.043098,
     "end_time": "2022-01-16T00:26:38.920709",
     "exception": false,
     "start_time": "2022-01-16T00:26:38.877611",
     "status": "completed"
    },
    "tags": []
   },
   "outputs": [],
   "source": [
    "nn_learner = Learner(loss, model_nn, opt, config.num_epochs)\n",
    "acc_nn = ClfCallback(nn_learner, config.bs, training_data_x , testing_data_x, training_data_y, testing_data_y)\n",
    "nn_learner.set_callbacks([acc_nn])"
   ]
  },
  {
   "cell_type": "code",
   "execution_count": 21,
   "id": "877b6cc7",
   "metadata": {
    "execution": {
     "iopub.execute_input": "2022-01-16T00:26:38.985555Z",
     "iopub.status.busy": "2022-01-16T00:26:38.985031Z",
     "iopub.status.idle": "2022-01-16T00:26:38.993067Z",
     "shell.execute_reply": "2022-01-16T00:26:38.992656Z"
    },
    "papermill": {
     "duration": 0.045352,
     "end_time": "2022-01-16T00:26:38.993177",
     "exception": false,
     "start_time": "2022-01-16T00:26:38.947825",
     "status": "completed"
    },
    "tags": []
   },
   "outputs": [],
   "source": [
    "lr_learner = Learner(loss, model_lr, opt, config.num_epochs)\n",
    "acc_lr = ClfCallback(lr_learner, config.bs, training_data_x , testing_data_x, training_data_y, testing_data_y)\n",
    "lr_learner.set_callbacks([acc_lr])"
   ]
  },
  {
   "cell_type": "code",
   "execution_count": 22,
   "id": "d9b133c3",
   "metadata": {
    "execution": {
     "iopub.execute_input": "2022-01-16T00:26:39.055112Z",
     "iopub.status.busy": "2022-01-16T00:26:39.054588Z",
     "iopub.status.idle": "2022-01-16T00:27:52.915365Z",
     "shell.execute_reply": "2022-01-16T00:27:52.916106Z"
    },
    "papermill": {
     "duration": 73.895844,
     "end_time": "2022-01-16T00:27:52.916259",
     "exception": false,
     "start_time": "2022-01-16T00:26:39.020415",
     "status": "completed"
    },
    "tags": []
   },
   "outputs": [
    {
     "name": "stdout",
     "output_type": "stream",
     "text": [
      "Epoch 0, Loss 0.2552\n",
      "Training Accuracy: 0.5129, Testing Accuracy: 0.5101\n",
      "\n"
     ]
    },
    {
     "name": "stdout",
     "output_type": "stream",
     "text": [
      "Epoch 10, Loss 0.1333\n",
      "Training Accuracy: 0.8807, Testing Accuracy: 0.8901\n",
      "\n"
     ]
    },
    {
     "name": "stdout",
     "output_type": "stream",
     "text": [
      "Epoch 20, Loss 0.0715\n",
      "Training Accuracy: 0.9277, Testing Accuracy: 0.9340\n",
      "\n"
     ]
    },
    {
     "name": "stdout",
     "output_type": "stream",
     "text": [
      "Epoch 30, Loss 0.0514\n",
      "Training Accuracy: 0.9458, Testing Accuracy: 0.9546\n",
      "\n"
     ]
    },
    {
     "name": "stdout",
     "output_type": "stream",
     "text": [
      "Epoch 40, Loss 0.0426\n",
      "Training Accuracy: 0.9525, Testing Accuracy: 0.9632\n",
      "\n"
     ]
    },
    {
     "name": "stdout",
     "output_type": "stream",
     "text": [
      "Epoch 50, Loss 0.0377\n",
      "Training Accuracy: 0.9568, Testing Accuracy: 0.9667\n",
      "\n"
     ]
    },
    {
     "name": "stdout",
     "output_type": "stream",
     "text": [
      "Epoch 60, Loss 0.0345\n",
      "Training Accuracy: 0.9596, Testing Accuracy: 0.9688\n",
      "\n"
     ]
    },
    {
     "name": "stdout",
     "output_type": "stream",
     "text": [
      "Epoch 70, Loss 0.0322\n",
      "Training Accuracy: 0.9624, Testing Accuracy: 0.9698\n",
      "\n"
     ]
    },
    {
     "name": "stdout",
     "output_type": "stream",
     "text": [
      "Epoch 80, Loss 0.0305\n",
      "Training Accuracy: 0.9640, Testing Accuracy: 0.9698\n",
      "\n"
     ]
    },
    {
     "name": "stdout",
     "output_type": "stream",
     "text": [
      "Epoch 90, Loss 0.0291\n",
      "Training Accuracy: 0.9660, Testing Accuracy: 0.9713\n",
      "\n"
     ]
    },
    {
     "name": "stdout",
     "output_type": "stream",
     "text": [
      "Epoch 100, Loss 0.0279\n",
      "Training Accuracy: 0.9673, Testing Accuracy: 0.9718\n",
      "\n"
     ]
    },
    {
     "name": "stdout",
     "output_type": "stream",
     "text": [
      "Epoch 110, Loss 0.0269\n",
      "Training Accuracy: 0.9686, Testing Accuracy: 0.9713\n",
      "\n"
     ]
    },
    {
     "name": "stdout",
     "output_type": "stream",
     "text": [
      "Epoch 120, Loss 0.0261\n",
      "Training Accuracy: 0.9700, Testing Accuracy: 0.9718\n",
      "\n"
     ]
    },
    {
     "name": "stdout",
     "output_type": "stream",
     "text": [
      "Epoch 130, Loss 0.0253\n",
      "Training Accuracy: 0.9707, Testing Accuracy: 0.9718\n",
      "\n"
     ]
    },
    {
     "name": "stdout",
     "output_type": "stream",
     "text": [
      "Epoch 140, Loss 0.0246\n",
      "Training Accuracy: 0.9715, Testing Accuracy: 0.9728\n",
      "\n"
     ]
    },
    {
     "name": "stdout",
     "output_type": "stream",
     "text": [
      "Epoch 150, Loss 0.024\n",
      "Training Accuracy: 0.9723, Testing Accuracy: 0.9723\n",
      "\n"
     ]
    },
    {
     "name": "stdout",
     "output_type": "stream",
     "text": [
      "Epoch 160, Loss 0.0234\n",
      "Training Accuracy: 0.9730, Testing Accuracy: 0.9718\n",
      "\n"
     ]
    },
    {
     "name": "stdout",
     "output_type": "stream",
     "text": [
      "Epoch 170, Loss 0.0229\n",
      "Training Accuracy: 0.9737, Testing Accuracy: 0.9733\n",
      "\n"
     ]
    },
    {
     "name": "stdout",
     "output_type": "stream",
     "text": [
      "Epoch 180, Loss 0.0224\n",
      "Training Accuracy: 0.9742, Testing Accuracy: 0.9733\n",
      "\n"
     ]
    },
    {
     "name": "stdout",
     "output_type": "stream",
     "text": [
      "Epoch 190, Loss 0.0219\n",
      "Training Accuracy: 0.9749, Testing Accuracy: 0.9738\n",
      "\n"
     ]
    },
    {
     "name": "stdout",
     "output_type": "stream",
     "text": [
      "Epoch 200, Loss 0.0215\n",
      "Training Accuracy: 0.9750, Testing Accuracy: 0.9738\n",
      "\n"
     ]
    },
    {
     "name": "stdout",
     "output_type": "stream",
     "text": [
      "Epoch 210, Loss 0.021\n",
      "Training Accuracy: 0.9755, Testing Accuracy: 0.9733\n",
      "\n"
     ]
    },
    {
     "name": "stdout",
     "output_type": "stream",
     "text": [
      "Epoch 220, Loss 0.0206\n",
      "Training Accuracy: 0.9765, Testing Accuracy: 0.9733\n",
      "\n"
     ]
    },
    {
     "name": "stdout",
     "output_type": "stream",
     "text": [
      "Epoch 230, Loss 0.0202\n",
      "Training Accuracy: 0.9772, Testing Accuracy: 0.9738\n",
      "\n"
     ]
    },
    {
     "name": "stdout",
     "output_type": "stream",
     "text": [
      "Epoch 240, Loss 0.0198\n",
      "Training Accuracy: 0.9777, Testing Accuracy: 0.9738\n",
      "\n"
     ]
    },
    {
     "data": {
      "text/plain": [
       "0.023189299311929076"
      ]
     },
     "execution_count": 22,
     "metadata": {},
     "output_type": "execute_result"
    }
   ],
   "source": [
    "nn_learner.train_loop(dl)"
   ]
  },
  {
   "cell_type": "code",
   "execution_count": 23,
   "id": "e0163366",
   "metadata": {
    "execution": {
     "iopub.execute_input": "2022-01-16T00:27:52.995766Z",
     "iopub.status.busy": "2022-01-16T00:27:52.995246Z",
     "iopub.status.idle": "2022-01-16T00:28:06.310857Z",
     "shell.execute_reply": "2022-01-16T00:28:06.311588Z"
    },
    "papermill": {
     "duration": 13.360743,
     "end_time": "2022-01-16T00:28:06.311738",
     "exception": false,
     "start_time": "2022-01-16T00:27:52.950995",
     "status": "completed"
    },
    "tags": []
   },
   "outputs": [
    {
     "name": "stdout",
     "output_type": "stream",
     "text": [
      "Epoch 0, Loss 0.2542\n",
      "Training Accuracy: 0.6340, Testing Accuracy: 0.6326\n",
      "\n"
     ]
    },
    {
     "name": "stdout",
     "output_type": "stream",
     "text": [
      "Epoch 10, Loss 0.1016\n",
      "Training Accuracy: 0.9155, Testing Accuracy: 0.9289\n",
      "\n"
     ]
    },
    {
     "name": "stdout",
     "output_type": "stream",
     "text": [
      "Epoch 20, Loss 0.0784\n",
      "Training Accuracy: 0.9287, Testing Accuracy: 0.9410\n",
      "\n"
     ]
    },
    {
     "name": "stdout",
     "output_type": "stream",
     "text": [
      "Epoch 30, Loss 0.0679\n",
      "Training Accuracy: 0.9368, Testing Accuracy: 0.9471\n",
      "\n"
     ]
    },
    {
     "name": "stdout",
     "output_type": "stream",
     "text": [
      "Epoch 40, Loss 0.0615\n",
      "Training Accuracy: 0.9410, Testing Accuracy: 0.9506\n",
      "\n"
     ]
    },
    {
     "name": "stdout",
     "output_type": "stream",
     "text": [
      "Epoch 50, Loss 0.0571\n",
      "Training Accuracy: 0.9448, Testing Accuracy: 0.9546\n",
      "\n"
     ]
    },
    {
     "name": "stdout",
     "output_type": "stream",
     "text": [
      "Epoch 60, Loss 0.0539\n",
      "Training Accuracy: 0.9465, Testing Accuracy: 0.9567\n",
      "\n"
     ]
    },
    {
     "name": "stdout",
     "output_type": "stream",
     "text": [
      "Epoch 70, Loss 0.0514\n",
      "Training Accuracy: 0.9483, Testing Accuracy: 0.9572\n",
      "\n"
     ]
    },
    {
     "name": "stdout",
     "output_type": "stream",
     "text": [
      "Epoch 80, Loss 0.0493\n",
      "Training Accuracy: 0.9498, Testing Accuracy: 0.9582\n",
      "\n"
     ]
    },
    {
     "name": "stdout",
     "output_type": "stream",
     "text": [
      "Epoch 90, Loss 0.0477\n",
      "Training Accuracy: 0.9508, Testing Accuracy: 0.9602\n",
      "\n"
     ]
    },
    {
     "name": "stdout",
     "output_type": "stream",
     "text": [
      "Epoch 100, Loss 0.0462\n",
      "Training Accuracy: 0.9519, Testing Accuracy: 0.9622\n",
      "\n"
     ]
    },
    {
     "name": "stdout",
     "output_type": "stream",
     "text": [
      "Epoch 110, Loss 0.045\n",
      "Training Accuracy: 0.9528, Testing Accuracy: 0.9622\n",
      "\n"
     ]
    },
    {
     "name": "stdout",
     "output_type": "stream",
     "text": [
      "Epoch 120, Loss 0.044\n",
      "Training Accuracy: 0.9538, Testing Accuracy: 0.9632\n",
      "\n"
     ]
    },
    {
     "name": "stdout",
     "output_type": "stream",
     "text": [
      "Epoch 130, Loss 0.043\n",
      "Training Accuracy: 0.9546, Testing Accuracy: 0.9632\n",
      "\n"
     ]
    },
    {
     "name": "stdout",
     "output_type": "stream",
     "text": [
      "Epoch 140, Loss 0.0422\n",
      "Training Accuracy: 0.9553, Testing Accuracy: 0.9637\n",
      "\n"
     ]
    },
    {
     "name": "stdout",
     "output_type": "stream",
     "text": [
      "Epoch 150, Loss 0.0415\n",
      "Training Accuracy: 0.9562, Testing Accuracy: 0.9642\n",
      "\n"
     ]
    },
    {
     "name": "stdout",
     "output_type": "stream",
     "text": [
      "Epoch 160, Loss 0.0408\n",
      "Training Accuracy: 0.9564, Testing Accuracy: 0.9642\n",
      "\n"
     ]
    },
    {
     "name": "stdout",
     "output_type": "stream",
     "text": [
      "Epoch 170, Loss 0.0402\n",
      "Training Accuracy: 0.9570, Testing Accuracy: 0.9642\n",
      "\n"
     ]
    },
    {
     "name": "stdout",
     "output_type": "stream",
     "text": [
      "Epoch 180, Loss 0.0396\n",
      "Training Accuracy: 0.9577, Testing Accuracy: 0.9642\n",
      "\n"
     ]
    },
    {
     "name": "stdout",
     "output_type": "stream",
     "text": [
      "Epoch 190, Loss 0.0391\n",
      "Training Accuracy: 0.9583, Testing Accuracy: 0.9652\n",
      "\n"
     ]
    },
    {
     "name": "stdout",
     "output_type": "stream",
     "text": [
      "Epoch 200, Loss 0.0386\n",
      "Training Accuracy: 0.9586, Testing Accuracy: 0.9637\n",
      "\n"
     ]
    },
    {
     "name": "stdout",
     "output_type": "stream",
     "text": [
      "Epoch 210, Loss 0.0382\n",
      "Training Accuracy: 0.9591, Testing Accuracy: 0.9642\n",
      "\n"
     ]
    },
    {
     "name": "stdout",
     "output_type": "stream",
     "text": [
      "Epoch 220, Loss 0.0377\n",
      "Training Accuracy: 0.9594, Testing Accuracy: 0.9642\n",
      "\n"
     ]
    },
    {
     "name": "stdout",
     "output_type": "stream",
     "text": [
      "Epoch 230, Loss 0.0374\n",
      "Training Accuracy: 0.9595, Testing Accuracy: 0.9637\n",
      "\n"
     ]
    },
    {
     "name": "stdout",
     "output_type": "stream",
     "text": [
      "Epoch 240, Loss 0.037\n",
      "Training Accuracy: 0.9597, Testing Accuracy: 0.9637\n",
      "\n"
     ]
    },
    {
     "data": {
      "text/plain": [
       "0.03571630379938668"
      ]
     },
     "execution_count": 23,
     "metadata": {},
     "output_type": "execute_result"
    }
   ],
   "source": [
    "lr_learner.train_loop(dl)"
   ]
  },
  {
   "cell_type": "code",
   "execution_count": 24,
   "id": "ca410940",
   "metadata": {
    "execution": {
     "iopub.execute_input": "2022-01-16T00:28:06.407800Z",
     "iopub.status.busy": "2022-01-16T00:28:06.407263Z",
     "iopub.status.idle": "2022-01-16T00:28:06.625646Z",
     "shell.execute_reply": "2022-01-16T00:28:06.626068Z"
    },
    "papermill": {
     "duration": 0.27309,
     "end_time": "2022-01-16T00:28:06.626206",
     "exception": false,
     "start_time": "2022-01-16T00:28:06.353116",
     "status": "completed"
    },
    "tags": []
   },
   "outputs": [
    {
     "data": {
      "text/plain": [
       "<matplotlib.legend.Legend at 0x7f6e61d9fc18>"
      ]
     },
     "execution_count": 24,
     "metadata": {},
     "output_type": "execute_result"
    },
    {
     "data": {
      "image/png": "[encoded data removed]",
      "text/plain": [
       "<Figure size 1080x720 with 1 Axes>"
      ]
     },
     "metadata": {
      "needs_background": "light"
     },
     "output_type": "display_data"
    }
   ],
   "source": [
    "#comparing the results of NN and LR\n",
    "plt.figure(figsize=(15,10))\n",
    "\n",
    "# Neural Network plots\n",
    "plt.plot(acc_nn.accuracies, 'r-', label = \"Training Accuracies - NN\")\n",
    "plt.plot(acc_nn.test_accuracies, 'g-', label = \"Testing Accuracies - NN\")\n",
    "\n",
    "# Logistic Regression plots\n",
    "plt.plot(acc_lr.accuracies, 'k-', label = \"Training Accuracies - LR\")\n",
    "plt.plot(acc_lr.test_accuracies, 'b-', label = \"Testing Accuracies - LR\")\n",
    "plt.legend()"
   ]
  },
  {
   "cell_type": "markdown",
   "id": "80dfb35c",
   "metadata": {
    "papermill": {
     "duration": 0.042099,
     "end_time": "2022-01-16T00:28:06.711331",
     "exception": false,
     "start_time": "2022-01-16T00:28:06.669232",
     "status": "completed"
    },
    "tags": []
   },
   "source": [
    "#### Plotting the outputs of this layer of the NN.\n"
   ]
  },
  {
   "cell_type": "code",
   "execution_count": 25,
   "id": "45eb2ff5",
   "metadata": {
    "execution": {
     "iopub.execute_input": "2022-01-16T00:28:06.811395Z",
     "iopub.status.busy": "2022-01-16T00:28:06.799979Z",
     "iopub.status.idle": "2022-01-16T00:28:06.824172Z",
     "shell.execute_reply": "2022-01-16T00:28:06.824604Z"
    },
    "papermill": {
     "duration": 0.071211,
     "end_time": "2022-01-16T00:28:06.824742",
     "exception": false,
     "start_time": "2022-01-16T00:28:06.753531",
     "status": "completed"
    },
    "tags": []
   },
   "outputs": [],
   "source": [
    "new_model = Model(layers[:-2])\n",
    "testing_plot = new_model(testing_data_x)"
   ]
  },
  {
   "cell_type": "code",
   "execution_count": 26,
   "id": "4c0a5485",
   "metadata": {
    "execution": {
     "iopub.execute_input": "2022-01-16T00:28:06.925225Z",
     "iopub.status.busy": "2022-01-16T00:28:06.921638Z",
     "iopub.status.idle": "2022-01-16T00:28:07.114806Z",
     "shell.execute_reply": "2022-01-16T00:28:07.115225Z"
    },
    "papermill": {
     "duration": 0.247979,
     "end_time": "2022-01-16T00:28:07.115376",
     "exception": false,
     "start_time": "2022-01-16T00:28:06.867397",
     "status": "completed"
    },
    "tags": []
   },
   "outputs": [
    {
     "data": {
      "text/plain": [
       "Text(0.5, 1.0, 'Outputs')"
      ]
     },
     "execution_count": 26,
     "metadata": {},
     "output_type": "execute_result"
    },
    {
     "data": {
      "image/png": "[encoded data removed]",
      "text/plain": [
       "<Figure size 576x504 with 1 Axes>"
      ]
     },
     "metadata": {
      "needs_background": "light"
     },
     "output_type": "display_data"
    }
   ],
   "source": [
    "# Plotting the scatter plot of points and color coding by class\n",
    "plt.figure(figsize=(8,7))\n",
    "plt.scatter(testing_plot[:,0], testing_plot[:,1], alpha = 0.1, c = y_test.ravel());\n",
    "plt.title('Outputs')"
   ]
  },
  {
   "cell_type": "markdown",
   "id": "a74fcf8f",
   "metadata": {
    "papermill": {
     "duration": 0.043555,
     "end_time": "2022-01-16T00:28:07.202766",
     "exception": false,
     "start_time": "2022-01-16T00:28:07.159211",
     "status": "completed"
    },
    "tags": []
   },
   "source": [
    "Probability contours"
   ]
  },
  {
   "cell_type": "code",
   "execution_count": 27,
   "id": "d0afc8e3",
   "metadata": {
    "execution": {
     "iopub.execute_input": "2022-01-16T00:28:07.296699Z",
     "iopub.status.busy": "2022-01-16T00:28:07.294726Z",
     "iopub.status.idle": "2022-01-16T00:28:07.306935Z",
     "shell.execute_reply": "2022-01-16T00:28:07.306505Z"
    },
    "papermill": {
     "duration": 0.060615,
     "end_time": "2022-01-16T00:28:07.307054",
     "exception": false,
     "start_time": "2022-01-16T00:28:07.246439",
     "status": "completed"
    },
    "tags": []
   },
   "outputs": [],
   "source": [
    "model_prob = Model(layers[-2:]) "
   ]
  },
  {
   "cell_type": "code",
   "execution_count": 28,
   "id": "9b96e238",
   "metadata": {
    "execution": {
     "iopub.execute_input": "2022-01-16T00:28:07.428509Z",
     "iopub.status.busy": "2022-01-16T00:28:07.427625Z",
     "iopub.status.idle": "2022-01-16T00:28:07.441771Z",
     "shell.execute_reply": "2022-01-16T00:28:07.442158Z"
    },
    "papermill": {
     "duration": 0.090792,
     "end_time": "2022-01-16T00:28:07.442289",
     "exception": false,
     "start_time": "2022-01-16T00:28:07.351497",
     "status": "completed"
    },
    "tags": []
   },
   "outputs": [],
   "source": [
    "#creating the x and y ranges according to the above generated plot.\n",
    "x_range = np.linspace(-4, 1, 100) \n",
    "y_range = np.linspace(-6, 6, 100) \n",
    "x_grid, y_grid = np.meshgrid(x_range, y_range) # x_grid and y_grig are of size 100 X 100\n",
    "\n",
    "# converting x_grid and y_grid to continuous arrays\n",
    "x_gridflat = np.ravel(x_grid)\n",
    "y_gridflat = np.ravel(y_grid)\n",
    "\n",
    "# The last layer of the current model takes two columns as input. Hence transpose of np.vstack() is required.\n",
    "X = np.vstack((x_gridflat, y_gridflat)).T\n",
    "\n",
    "prob_contour = model_prob(X).reshape(100,100) "
   ]
  },
  {
   "cell_type": "code",
   "execution_count": 29,
   "id": "da72499a",
   "metadata": {
    "execution": {
     "iopub.execute_input": "2022-01-16T00:28:07.535718Z",
     "iopub.status.busy": "2022-01-16T00:28:07.535197Z",
     "iopub.status.idle": "2022-01-16T00:28:07.781410Z",
     "shell.execute_reply": "2022-01-16T00:28:07.780977Z"
    },
    "papermill": {
     "duration": 0.295563,
     "end_time": "2022-01-16T00:28:07.781530",
     "exception": false,
     "start_time": "2022-01-16T00:28:07.485967",
     "status": "completed"
    },
    "tags": []
   },
   "outputs": [
    {
     "data": {
      "image/png": "[encoded data removed]",
      "text/plain": [
       "<Figure size 720x648 with 1 Axes>"
      ]
     },
     "metadata": {
      "needs_background": "light"
     },
     "output_type": "display_data"
    }
   ],
   "source": [
    "plt.figure(figsize=(10,9))\n",
    "plt.scatter(testing_plot[:,0], testing_plot[:,1], alpha = 0.1, c = y_test.ravel())\n",
    "contours = plt.contour(x_grid,y_grid,prob_contour)\n",
    "plt.title('Probability Contours')\n",
    "plt.clabel(contours, inline = True );"
   ]
  },
  {
   "cell_type": "code",
   "execution_count": null,
   "id": "e81b4ac7",
   "metadata": {
    "papermill": {
     "duration": 0.046047,
     "end_time": "2022-01-16T00:28:07.875729",
     "exception": false,
     "start_time": "2022-01-16T00:28:07.829682",
     "status": "completed"
    },
    "tags": []
   },
   "outputs": [],
   "source": []
  }
 ],
 "metadata": {
  "kernelspec": {
   "display_name": "Python 3",
   "language": "python",
   "name": "python3"
  },
  "language_info": {
   "codemirror_mode": {
    "name": "ipython",
    "version": 3
   },
   "file_extension": ".py",
   "mimetype": "text/x-python",
   "name": "python",
   "nbconvert_exporter": "python",
   "pygments_lexer": "ipython3",
   "version": "3.6.15"
  },
  "papermill": {
   "default_parameters": {},
   "duration": 96.159792,
   "end_time": "2022-01-16T00:28:08.344831",
   "environment_variables": {},
   "exception": null,
   "input_path": "2020-08-11-part2.ipynb",
   "output_path": "2020-08-11-part2.ipynb",
   "parameters": {},
   "start_time": "2022-01-16T00:26:32.185039",
   "version": "2.3.3"
  }
 },
 "nbformat": 4,
 "nbformat_minor": 5
}