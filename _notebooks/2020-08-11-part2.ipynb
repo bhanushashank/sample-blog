{
 "cells": [
  {
   "cell_type": "markdown",
   "id": "98380cd3",
   "metadata": {
    "papermill": {
     "duration": 0.02881,
     "end_time": "2021-11-01T10:07:40.108380",
     "exception": false,
     "start_time": "2021-11-01T10:07:40.079570",
     "status": "completed"
    },
    "tags": []
   },
   "source": [
    "# Distinguish Your Own Digits (DYOD)"
   ]
  },
  {
   "cell_type": "markdown",
   "id": "ef31240d",
   "metadata": {
    "papermill": {
     "duration": 0.023874,
     "end_time": "2021-11-01T10:07:40.156918",
     "exception": false,
     "start_time": "2021-11-01T10:07:40.133044",
     "status": "completed"
    },
    "tags": []
   },
   "source": [
    "You are going to write a classifier that distinguishes between the number 3 and number 8."
   ]
  },
  {
   "cell_type": "code",
   "execution_count": 1,
   "id": "b15c8646",
   "metadata": {
    "execution": {
     "iopub.execute_input": "2021-11-01T10:07:40.215123Z",
     "iopub.status.busy": "2021-11-01T10:07:40.214557Z",
     "iopub.status.idle": "2021-11-01T10:07:40.224866Z",
     "shell.execute_reply": "2021-11-01T10:07:40.224416Z"
    },
    "papermill": {
     "duration": 0.044085,
     "end_time": "2021-11-01T10:07:40.224998",
     "exception": false,
     "start_time": "2021-11-01T10:07:40.180913",
     "status": "completed"
    },
    "tags": []
   },
   "outputs": [],
   "source": [
    "%load_ext autoreload\n",
    "%autoreload 2"
   ]
  },
  {
   "cell_type": "code",
   "execution_count": 2,
   "id": "22ef38dc",
   "metadata": {
    "execution": {
     "iopub.execute_input": "2021-11-01T10:07:40.277237Z",
     "iopub.status.busy": "2021-11-01T10:07:40.276718Z",
     "iopub.status.idle": "2021-11-01T10:07:40.791377Z",
     "shell.execute_reply": "2021-11-01T10:07:40.791858Z"
    },
    "papermill": {
     "duration": 0.543064,
     "end_time": "2021-11-01T10:07:40.792028",
     "exception": false,
     "start_time": "2021-11-01T10:07:40.248964",
     "status": "completed"
    },
    "tags": []
   },
   "outputs": [],
   "source": [
    "%matplotlib inline\n",
    "import numpy as np\n",
    "import matplotlib.pyplot as plt\n",
    "import pandas as pd"
   ]
  },
  {
   "cell_type": "markdown",
   "id": "ba036198",
   "metadata": {
    "papermill": {
     "duration": 0.023847,
     "end_time": "2021-11-01T10:07:40.841935",
     "exception": false,
     "start_time": "2021-11-01T10:07:40.818088",
     "status": "completed"
    },
    "tags": []
   },
   "source": [
    "From the command line run `pip install mnist`. This is a library that will help you bring down the mnist dataset. If you run this from a notebook, you need to put  `!pip install mnist` in a cell by itself."
   ]
  },
  {
   "cell_type": "code",
   "execution_count": 3,
   "id": "bb6ad8a1",
   "metadata": {
    "execution": {
     "iopub.execute_input": "2021-11-01T10:07:40.894514Z",
     "iopub.status.busy": "2021-11-01T10:07:40.894012Z",
     "iopub.status.idle": "2021-11-01T10:07:42.524840Z",
     "shell.execute_reply": "2021-11-01T10:07:42.524312Z"
    },
    "papermill": {
     "duration": 1.659014,
     "end_time": "2021-11-01T10:07:42.524986",
     "exception": false,
     "start_time": "2021-11-01T10:07:40.865972",
     "status": "completed"
    },
    "tags": []
   },
   "outputs": [
    {
     "name": "stdout",
     "output_type": "stream",
     "text": [
      "Collecting mnist\r\n"
     ]
    },
    {
     "name": "stdout",
     "output_type": "stream",
     "text": [
      "  Downloading mnist-0.2.2-py2.py3-none-any.whl (3.5 kB)\r\n",
      "Requirement already satisfied: numpy in /opt/hostedtoolcache/Python/3.6.15/x64/lib/python3.6/site-packages (from mnist) (1.19.5)\r\n"
     ]
    },
    {
     "name": "stdout",
     "output_type": "stream",
     "text": [
      "Installing collected packages: mnist\r\n",
      "Successfully installed mnist-0.2.2\r\n"
     ]
    },
    {
     "name": "stdout",
     "output_type": "stream",
     "text": [
      "\u001b[33mWARNING: You are using pip version 21.3; however, version 21.3.1 is available.\r\n",
      "You should consider upgrading via the '/opt/hostedtoolcache/Python/3.6.15/x64/bin/python -m pip install --upgrade pip' command.\u001b[0m\r\n"
     ]
    }
   ],
   "source": [
    "!pip install mnist"
   ]
  },
  {
   "cell_type": "markdown",
   "id": "69df9c9a",
   "metadata": {
    "papermill": {
     "duration": 0.024698,
     "end_time": "2021-11-01T10:07:42.575339",
     "exception": false,
     "start_time": "2021-11-01T10:07:42.550641",
     "status": "completed"
    },
    "tags": []
   },
   "source": [
    "## Preparing the Data"
   ]
  },
  {
   "cell_type": "code",
   "execution_count": 4,
   "id": "7f69d806",
   "metadata": {
    "execution": {
     "iopub.execute_input": "2021-11-01T10:07:42.628918Z",
     "iopub.status.busy": "2021-11-01T10:07:42.628418Z",
     "iopub.status.idle": "2021-11-01T10:07:42.642555Z",
     "shell.execute_reply": "2021-11-01T10:07:42.642118Z"
    },
    "papermill": {
     "duration": 0.042428,
     "end_time": "2021-11-01T10:07:42.642663",
     "exception": false,
     "start_time": "2021-11-01T10:07:42.600235",
     "status": "completed"
    },
    "tags": []
   },
   "outputs": [],
   "source": [
    "import mnist"
   ]
  },
  {
   "cell_type": "code",
   "execution_count": 5,
   "id": "a411e44f",
   "metadata": {
    "execution": {
     "iopub.execute_input": "2021-11-01T10:07:42.703055Z",
     "iopub.status.busy": "2021-11-01T10:07:42.702496Z",
     "iopub.status.idle": "2021-11-01T10:07:43.243515Z",
     "shell.execute_reply": "2021-11-01T10:07:43.242937Z"
    },
    "papermill": {
     "duration": 0.575984,
     "end_time": "2021-11-01T10:07:43.243656",
     "exception": false,
     "start_time": "2021-11-01T10:07:42.667672",
     "status": "completed"
    },
    "tags": []
   },
   "outputs": [],
   "source": [
    "train_images = mnist.train_images()\n",
    "train_labels = mnist.train_labels()"
   ]
  },
  {
   "cell_type": "code",
   "execution_count": 6,
   "id": "dceab3a5",
   "metadata": {
    "execution": {
     "iopub.execute_input": "2021-11-01T10:07:43.306159Z",
     "iopub.status.busy": "2021-11-01T10:07:43.305650Z",
     "iopub.status.idle": "2021-11-01T10:07:43.314979Z",
     "shell.execute_reply": "2021-11-01T10:07:43.314543Z"
    },
    "papermill": {
     "duration": 0.045332,
     "end_time": "2021-11-01T10:07:43.315095",
     "exception": false,
     "start_time": "2021-11-01T10:07:43.269763",
     "status": "completed"
    },
    "tags": []
   },
   "outputs": [
    {
     "data": {
      "text/plain": [
       "((60000, 28, 28), (60000,))"
      ]
     },
     "execution_count": 6,
     "metadata": {},
     "output_type": "execute_result"
    }
   ],
   "source": [
    "train_images.shape, train_labels.shape"
   ]
  },
  {
   "cell_type": "code",
   "execution_count": 7,
   "id": "f50dc2bb",
   "metadata": {
    "execution": {
     "iopub.execute_input": "2021-11-01T10:07:43.371939Z",
     "iopub.status.busy": "2021-11-01T10:07:43.371442Z",
     "iopub.status.idle": "2021-11-01T10:07:43.519664Z",
     "shell.execute_reply": "2021-11-01T10:07:43.519139Z"
    },
    "papermill": {
     "duration": 0.179311,
     "end_time": "2021-11-01T10:07:43.519806",
     "exception": false,
     "start_time": "2021-11-01T10:07:43.340495",
     "status": "completed"
    },
    "tags": []
   },
   "outputs": [],
   "source": [
    "test_images = mnist.test_images()\n",
    "test_labels = mnist.test_labels()"
   ]
  },
  {
   "cell_type": "code",
   "execution_count": 8,
   "id": "fc38cf1b",
   "metadata": {
    "execution": {
     "iopub.execute_input": "2021-11-01T10:07:43.574183Z",
     "iopub.status.busy": "2021-11-01T10:07:43.573683Z",
     "iopub.status.idle": "2021-11-01T10:07:43.585851Z",
     "shell.execute_reply": "2021-11-01T10:07:43.586328Z"
    },
    "papermill": {
     "duration": 0.040724,
     "end_time": "2021-11-01T10:07:43.586446",
     "exception": false,
     "start_time": "2021-11-01T10:07:43.545722",
     "status": "completed"
    },
    "tags": []
   },
   "outputs": [
    {
     "data": {
      "text/plain": [
       "((10000, 28, 28), (10000,))"
      ]
     },
     "execution_count": 8,
     "metadata": {},
     "output_type": "execute_result"
    }
   ],
   "source": [
    "test_images.shape, test_labels.shape"
   ]
  },
  {
   "cell_type": "code",
   "execution_count": 9,
   "id": "f9ed8fe0",
   "metadata": {
    "execution": {
     "iopub.execute_input": "2021-11-01T10:07:43.640519Z",
     "iopub.status.busy": "2021-11-01T10:07:43.639994Z",
     "iopub.status.idle": "2021-11-01T10:07:43.776118Z",
     "shell.execute_reply": "2021-11-01T10:07:43.776580Z"
    },
    "papermill": {
     "duration": 0.164971,
     "end_time": "2021-11-01T10:07:43.776731",
     "exception": false,
     "start_time": "2021-11-01T10:07:43.611760",
     "status": "completed"
    },
    "tags": []
   },
   "outputs": [
    {
     "name": "stdout",
     "output_type": "stream",
     "text": [
      "2\n"
     ]
    },
    {
     "data": {
      "text/plain": [
       "<matplotlib.image.AxesImage at 0x7f9387c36080>"
      ]
     },
     "execution_count": 9,
     "metadata": {},
     "output_type": "execute_result"
    },
    {
     "data": {
      "image/png": "[encoded data removed]",
      "text/plain": [
       "<Figure size 432x288 with 1 Axes>"
      ]
     },
     "metadata": {
      "needs_background": "light"
     },
     "output_type": "display_data"
    }
   ],
   "source": [
    "image_index = 7776 # You may select anything up to 60,000\n",
    "print(train_labels[image_index]) \n",
    "plt.imshow(train_images[image_index], cmap='Greys')"
   ]
  },
  {
   "cell_type": "markdown",
   "id": "a8d2388d",
   "metadata": {
    "papermill": {
     "duration": 0.026288,
     "end_time": "2021-11-01T10:07:43.829966",
     "exception": false,
     "start_time": "2021-11-01T10:07:43.803678",
     "status": "completed"
    },
    "tags": []
   },
   "source": [
    "## Filter data to get 3 and 8 out"
   ]
  },
  {
   "cell_type": "code",
   "execution_count": 10,
   "id": "776f7fc7",
   "metadata": {
    "execution": {
     "iopub.execute_input": "2021-11-01T10:07:43.887058Z",
     "iopub.status.busy": "2021-11-01T10:07:43.886508Z",
     "iopub.status.idle": "2021-11-01T10:07:43.902985Z",
     "shell.execute_reply": "2021-11-01T10:07:43.902543Z"
    },
    "papermill": {
     "duration": 0.046666,
     "end_time": "2021-11-01T10:07:43.903108",
     "exception": false,
     "start_time": "2021-11-01T10:07:43.856442",
     "status": "completed"
    },
    "tags": []
   },
   "outputs": [],
   "source": [
    "train_filter = np.where((train_labels == 3 ) | (train_labels == 8))\n",
    "test_filter = np.where((test_labels == 3) | (test_labels == 8))\n",
    "X_train, y_train = train_images[train_filter], train_labels[train_filter]\n",
    "X_test, y_test = test_images[test_filter], test_labels[test_filter]"
   ]
  },
  {
   "cell_type": "markdown",
   "id": "948f0b7e",
   "metadata": {
    "papermill": {
     "duration": 0.026176,
     "end_time": "2021-11-01T10:07:43.955744",
     "exception": false,
     "start_time": "2021-11-01T10:07:43.929568",
     "status": "completed"
    },
    "tags": []
   },
   "source": [
    "We normalize the pizel values in the 0 to 1 range"
   ]
  },
  {
   "cell_type": "code",
   "execution_count": 11,
   "id": "ee4c2166",
   "metadata": {
    "execution": {
     "iopub.execute_input": "2021-11-01T10:07:44.027566Z",
     "iopub.status.busy": "2021-11-01T10:07:44.022908Z",
     "iopub.status.idle": "2021-11-01T10:07:44.063212Z",
     "shell.execute_reply": "2021-11-01T10:07:44.062675Z"
    },
    "papermill": {
     "duration": 0.081485,
     "end_time": "2021-11-01T10:07:44.063358",
     "exception": false,
     "start_time": "2021-11-01T10:07:43.981873",
     "status": "completed"
    },
    "tags": []
   },
   "outputs": [],
   "source": [
    "X_train = X_train/255.\n",
    "X_test = X_test/255."
   ]
  },
  {
   "cell_type": "markdown",
   "id": "ddcf4fab",
   "metadata": {
    "papermill": {
     "duration": 0.026256,
     "end_time": "2021-11-01T10:07:44.117406",
     "exception": false,
     "start_time": "2021-11-01T10:07:44.091150",
     "status": "completed"
    },
    "tags": []
   },
   "source": [
    "And setup the labels as 1 (when the digit is 3) and 0 (when the digit is 8)"
   ]
  },
  {
   "cell_type": "code",
   "execution_count": 12,
   "id": "7dc908f2",
   "metadata": {
    "execution": {
     "iopub.execute_input": "2021-11-01T10:07:44.174976Z",
     "iopub.status.busy": "2021-11-01T10:07:44.174413Z",
     "iopub.status.idle": "2021-11-01T10:07:44.185619Z",
     "shell.execute_reply": "2021-11-01T10:07:44.185217Z"
    },
    "papermill": {
     "duration": 0.041901,
     "end_time": "2021-11-01T10:07:44.185731",
     "exception": false,
     "start_time": "2021-11-01T10:07:44.143830",
     "status": "completed"
    },
    "tags": []
   },
   "outputs": [],
   "source": [
    "y_train = 1*(y_train==3)\n",
    "y_test = 1*(y_test==3)"
   ]
  },
  {
   "cell_type": "code",
   "execution_count": 13,
   "id": "01e4e969",
   "metadata": {
    "execution": {
     "iopub.execute_input": "2021-11-01T10:07:44.241911Z",
     "iopub.status.busy": "2021-11-01T10:07:44.241392Z",
     "iopub.status.idle": "2021-11-01T10:07:44.254688Z",
     "shell.execute_reply": "2021-11-01T10:07:44.254283Z"
    },
    "papermill": {
     "duration": 0.042775,
     "end_time": "2021-11-01T10:07:44.254829",
     "exception": false,
     "start_time": "2021-11-01T10:07:44.212054",
     "status": "completed"
    },
    "tags": []
   },
   "outputs": [
    {
     "data": {
      "text/plain": [
       "((11982, 28, 28), (1984, 28, 28))"
      ]
     },
     "execution_count": 13,
     "metadata": {},
     "output_type": "execute_result"
    }
   ],
   "source": [
    "X_train.shape, X_test.shape"
   ]
  },
  {
   "cell_type": "markdown",
   "id": "5ccf3f85",
   "metadata": {
    "papermill": {
     "duration": 0.026441,
     "end_time": "2021-11-01T10:07:44.307653",
     "exception": false,
     "start_time": "2021-11-01T10:07:44.281212",
     "status": "completed"
    },
    "tags": []
   },
   "source": [
    "We reshape the data to flatten the image pixels into a set of features or co-variates:"
   ]
  },
  {
   "cell_type": "code",
   "execution_count": 14,
   "id": "5286a4a3",
   "metadata": {
    "execution": {
     "iopub.execute_input": "2021-11-01T10:07:44.364833Z",
     "iopub.status.busy": "2021-11-01T10:07:44.364336Z",
     "iopub.status.idle": "2021-11-01T10:07:44.377751Z",
     "shell.execute_reply": "2021-11-01T10:07:44.378130Z"
    },
    "papermill": {
     "duration": 0.043721,
     "end_time": "2021-11-01T10:07:44.378262",
     "exception": false,
     "start_time": "2021-11-01T10:07:44.334541",
     "status": "completed"
    },
    "tags": []
   },
   "outputs": [
    {
     "data": {
      "text/plain": [
       "((11982, 784), (1984, 784))"
      ]
     },
     "execution_count": 14,
     "metadata": {},
     "output_type": "execute_result"
    }
   ],
   "source": [
    "X_train = X_train.reshape(X_train.shape[0], -1)\n",
    "X_test = X_test.reshape(X_test.shape[0], -1)\n",
    "X_train.shape, X_test.shape"
   ]
  },
  {
   "cell_type": "code",
   "execution_count": 15,
   "id": "73c5f88a",
   "metadata": {
    "execution": {
     "iopub.execute_input": "2021-11-01T10:07:44.436329Z",
     "iopub.status.busy": "2021-11-01T10:07:44.435829Z",
     "iopub.status.idle": "2021-11-01T10:07:44.454295Z",
     "shell.execute_reply": "2021-11-01T10:07:44.453884Z"
    },
    "papermill": {
     "duration": 0.049265,
     "end_time": "2021-11-01T10:07:44.454409",
     "exception": false,
     "start_time": "2021-11-01T10:07:44.405144",
     "status": "completed"
    },
    "tags": []
   },
   "outputs": [],
   "source": [
    "#Impoting functions from 'Kudzu'\n",
    "from kudzu.model import Model\n",
    "from kudzu.train import Learner\n",
    "from kudzu.optim import GD\n",
    "from kudzu.data import Data, Sampler,Dataloader\n",
    "\n",
    "from kudzu.callbacks import AccCallback\n",
    "from kudzu.callbacks import ClfCallback\n",
    "\n",
    "from kudzu.loss import MSE\n",
    "\n",
    "from kudzu.layer import Sigmoid,Relu\n",
    "from kudzu.layer import Affine"
   ]
  },
  {
   "cell_type": "markdown",
   "id": "bc01172a",
   "metadata": {
    "papermill": {
     "duration": 0.026747,
     "end_time": "2021-11-01T10:07:44.508168",
     "exception": false,
     "start_time": "2021-11-01T10:07:44.481421",
     "status": "completed"
    },
    "tags": []
   },
   "source": [
    "### Let us create a `Config` class, to store important parameters. \n",
    "This class essentially plays the role of a dictionary."
   ]
  },
  {
   "cell_type": "code",
   "execution_count": 16,
   "id": "978281aa",
   "metadata": {
    "execution": {
     "iopub.execute_input": "2021-11-01T10:07:44.579963Z",
     "iopub.status.busy": "2021-11-01T10:07:44.577727Z",
     "iopub.status.idle": "2021-11-01T10:07:44.582457Z",
     "shell.execute_reply": "2021-11-01T10:07:44.581792Z"
    },
    "papermill": {
     "duration": 0.047727,
     "end_time": "2021-11-01T10:07:44.582575",
     "exception": false,
     "start_time": "2021-11-01T10:07:44.534848",
     "status": "completed"
    },
    "tags": []
   },
   "outputs": [],
   "source": [
    "class Config:\n",
    "    pass\n",
    "config = Config()\n",
    "config.lr = 0.001\n",
    "config.num_epochs = 250\n",
    "config.bs = 50"
   ]
  },
  {
   "cell_type": "markdown",
   "id": "1385fa59",
   "metadata": {
    "papermill": {
     "duration": 0.026829,
     "end_time": "2021-11-01T10:07:44.636479",
     "exception": false,
     "start_time": "2021-11-01T10:07:44.609650",
     "status": "completed"
    },
    "tags": []
   },
   "source": [
    "### Running Models with the Training data\n",
    "Details about the network layers:\n",
    "- A first affine layer has 784 inputs and does 100 affine transforms. These are followed by a Relu\n",
    "- A second affine layer has 100 inputs from the 100 activations of the past layer, and does 100 affine transforms. These are followed by a Relu\n",
    "- A third affine layer has 100 activations and does 2 affine transformations to create an embedding for visualization. There is no non-linearity here.\n",
    "- A final \"logistic regression\" which has an affine transform from 2 inputs to 1 output, which is squeezed through a sigmoid.\n"
   ]
  },
  {
   "cell_type": "code",
   "execution_count": 17,
   "id": "2b9c66db",
   "metadata": {
    "execution": {
     "iopub.execute_input": "2021-11-01T10:07:44.697805Z",
     "iopub.status.busy": "2021-11-01T10:07:44.697290Z",
     "iopub.status.idle": "2021-11-01T10:07:44.707045Z",
     "shell.execute_reply": "2021-11-01T10:07:44.706609Z"
    },
    "papermill": {
     "duration": 0.043789,
     "end_time": "2021-11-01T10:07:44.707164",
     "exception": false,
     "start_time": "2021-11-01T10:07:44.663375",
     "status": "completed"
    },
    "tags": []
   },
   "outputs": [],
   "source": [
    "data = Data(X_train, y_train.reshape(-1,1))\n",
    "sampler = Sampler(data, config.bs, shuffle=True)\n",
    "\n",
    "dl = Dataloader(data, sampler)\n",
    "\n",
    "opt = GD(config.lr)\n",
    "loss = MSE()"
   ]
  },
  {
   "cell_type": "code",
   "execution_count": 18,
   "id": "b275e4c2",
   "metadata": {
    "execution": {
     "iopub.execute_input": "2021-11-01T10:07:44.765330Z",
     "iopub.status.busy": "2021-11-01T10:07:44.764825Z",
     "iopub.status.idle": "2021-11-01T10:07:44.775925Z",
     "shell.execute_reply": "2021-11-01T10:07:44.775528Z"
    },
    "papermill": {
     "duration": 0.04199,
     "end_time": "2021-11-01T10:07:44.776032",
     "exception": false,
     "start_time": "2021-11-01T10:07:44.734042",
     "status": "completed"
    },
    "tags": []
   },
   "outputs": [],
   "source": [
    "training_data_x = X_train\n",
    "testing_data_x = X_test\n",
    "training_data_y = y_train.reshape(-1,1)\n",
    "testing_data_y = y_test.reshape(-1,1)"
   ]
  },
  {
   "cell_type": "code",
   "execution_count": 19,
   "id": "76951160",
   "metadata": {
    "execution": {
     "iopub.execute_input": "2021-11-01T10:07:44.838783Z",
     "iopub.status.busy": "2021-11-01T10:07:44.838267Z",
     "iopub.status.idle": "2021-11-01T10:07:44.851252Z",
     "shell.execute_reply": "2021-11-01T10:07:44.850773Z"
    },
    "papermill": {
     "duration": 0.048747,
     "end_time": "2021-11-01T10:07:44.851368",
     "exception": false,
     "start_time": "2021-11-01T10:07:44.802621",
     "status": "completed"
    },
    "tags": []
   },
   "outputs": [
    {
     "name": "stdout",
     "output_type": "stream",
     "text": [
      "xavier\n",
      "xavier\n",
      "xavier\n",
      "xavier\n",
      "xavier\n"
     ]
    }
   ],
   "source": [
    "layers = [Affine(\"first\", 784, 100), Relu(\"first\"), Affine(\"second\", 100, 100), Relu(\"second\"), Affine(\"third\", 100, 2), Affine(\"last\", 2, 1), Sigmoid(\"last\")]\n",
    "model_nn = Model(layers)\n",
    "model_lr = Model([Affine(\"logits\", 784, 1), Sigmoid(\"sigmoid\")])"
   ]
  },
  {
   "cell_type": "code",
   "execution_count": 20,
   "id": "6eede77a",
   "metadata": {
    "execution": {
     "iopub.execute_input": "2021-11-01T10:07:44.925014Z",
     "iopub.status.busy": "2021-11-01T10:07:44.923698Z",
     "iopub.status.idle": "2021-11-01T10:07:44.927348Z",
     "shell.execute_reply": "2021-11-01T10:07:44.926934Z"
    },
    "papermill": {
     "duration": 0.048831,
     "end_time": "2021-11-01T10:07:44.927464",
     "exception": false,
     "start_time": "2021-11-01T10:07:44.878633",
     "status": "completed"
    },
    "tags": []
   },
   "outputs": [],
   "source": [
    "nn_learner = Learner(loss, model_nn, opt, config.num_epochs)\n",
    "acc_nn = ClfCallback(nn_learner, config.bs, training_data_x , testing_data_x, training_data_y, testing_data_y)\n",
    "nn_learner.set_callbacks([acc_nn])"
   ]
  },
  {
   "cell_type": "code",
   "execution_count": 21,
   "id": "877b6cc7",
   "metadata": {
    "execution": {
     "iopub.execute_input": "2021-11-01T10:07:44.991541Z",
     "iopub.status.busy": "2021-11-01T10:07:44.991030Z",
     "iopub.status.idle": "2021-11-01T10:07:44.999714Z",
     "shell.execute_reply": "2021-11-01T10:07:44.999288Z"
    },
    "papermill": {
     "duration": 0.045115,
     "end_time": "2021-11-01T10:07:44.999821",
     "exception": false,
     "start_time": "2021-11-01T10:07:44.954706",
     "status": "completed"
    },
    "tags": []
   },
   "outputs": [],
   "source": [
    "lr_learner = Learner(loss, model_lr, opt, config.num_epochs)\n",
    "acc_lr = ClfCallback(lr_learner, config.bs, training_data_x , testing_data_x, training_data_y, testing_data_y)\n",
    "lr_learner.set_callbacks([acc_lr])"
   ]
  },
  {
   "cell_type": "code",
   "execution_count": 22,
   "id": "d9b133c3",
   "metadata": {
    "execution": {
     "iopub.execute_input": "2021-11-01T10:07:45.057405Z",
     "iopub.status.busy": "2021-11-01T10:07:45.056912Z",
     "iopub.status.idle": "2021-11-01T10:09:08.451166Z",
     "shell.execute_reply": "2021-11-01T10:09:08.451824Z"
    },
    "papermill": {
     "duration": 83.424988,
     "end_time": "2021-11-01T10:09:08.451980",
     "exception": false,
     "start_time": "2021-11-01T10:07:45.026992",
     "status": "completed"
    },
    "tags": []
   },
   "outputs": [
    {
     "name": "stdout",
     "output_type": "stream",
     "text": [
      "Epoch 0, Loss 0.2501\n",
      "Training Accuracy: 0.6173, Testing Accuracy: 0.6124\n",
      "\n"
     ]
    },
    {
     "name": "stdout",
     "output_type": "stream",
     "text": [
      "Epoch 10, Loss 0.0951\n",
      "Training Accuracy: 0.9088, Testing Accuracy: 0.9057\n",
      "\n"
     ]
    },
    {
     "name": "stdout",
     "output_type": "stream",
     "text": [
      "Epoch 20, Loss 0.0592\n",
      "Training Accuracy: 0.9360, Testing Accuracy: 0.9461\n",
      "\n"
     ]
    },
    {
     "name": "stdout",
     "output_type": "stream",
     "text": [
      "Epoch 30, Loss 0.0461\n",
      "Training Accuracy: 0.9500, Testing Accuracy: 0.9592\n",
      "\n"
     ]
    },
    {
     "name": "stdout",
     "output_type": "stream",
     "text": [
      "Epoch 40, Loss 0.0395\n",
      "Training Accuracy: 0.9561, Testing Accuracy: 0.9632\n",
      "\n"
     ]
    },
    {
     "name": "stdout",
     "output_type": "stream",
     "text": [
      "Epoch 50, Loss 0.0356\n",
      "Training Accuracy: 0.9592, Testing Accuracy: 0.9657\n",
      "\n"
     ]
    },
    {
     "name": "stdout",
     "output_type": "stream",
     "text": [
      "Epoch 60, Loss 0.033\n",
      "Training Accuracy: 0.9619, Testing Accuracy: 0.9667\n",
      "\n"
     ]
    },
    {
     "name": "stdout",
     "output_type": "stream",
     "text": [
      "Epoch 70, Loss 0.031\n",
      "Training Accuracy: 0.9638, Testing Accuracy: 0.9677\n",
      "\n"
     ]
    },
    {
     "name": "stdout",
     "output_type": "stream",
     "text": [
      "Epoch 80, Loss 0.0294\n",
      "Training Accuracy: 0.9655, Testing Accuracy: 0.9672\n",
      "\n"
     ]
    },
    {
     "name": "stdout",
     "output_type": "stream",
     "text": [
      "Epoch 90, Loss 0.0282\n",
      "Training Accuracy: 0.9670, Testing Accuracy: 0.9672\n",
      "\n"
     ]
    },
    {
     "name": "stdout",
     "output_type": "stream",
     "text": [
      "Epoch 100, Loss 0.0271\n",
      "Training Accuracy: 0.9685, Testing Accuracy: 0.9672\n",
      "\n"
     ]
    },
    {
     "name": "stdout",
     "output_type": "stream",
     "text": [
      "Epoch 110, Loss 0.0262\n",
      "Training Accuracy: 0.9697, Testing Accuracy: 0.9682\n",
      "\n"
     ]
    },
    {
     "name": "stdout",
     "output_type": "stream",
     "text": [
      "Epoch 120, Loss 0.0253\n",
      "Training Accuracy: 0.9712, Testing Accuracy: 0.9688\n",
      "\n"
     ]
    },
    {
     "name": "stdout",
     "output_type": "stream",
     "text": [
      "Epoch 130, Loss 0.0246\n",
      "Training Accuracy: 0.9720, Testing Accuracy: 0.9693\n",
      "\n"
     ]
    },
    {
     "name": "stdout",
     "output_type": "stream",
     "text": [
      "Epoch 140, Loss 0.0239\n",
      "Training Accuracy: 0.9730, Testing Accuracy: 0.9688\n",
      "\n"
     ]
    },
    {
     "name": "stdout",
     "output_type": "stream",
     "text": [
      "Epoch 150, Loss 0.0233\n",
      "Training Accuracy: 0.9735, Testing Accuracy: 0.9708\n",
      "\n"
     ]
    },
    {
     "name": "stdout",
     "output_type": "stream",
     "text": [
      "Epoch 160, Loss 0.0228\n",
      "Training Accuracy: 0.9745, Testing Accuracy: 0.9708\n",
      "\n"
     ]
    },
    {
     "name": "stdout",
     "output_type": "stream",
     "text": [
      "Epoch 170, Loss 0.0222\n",
      "Training Accuracy: 0.9746, Testing Accuracy: 0.9713\n",
      "\n"
     ]
    },
    {
     "name": "stdout",
     "output_type": "stream",
     "text": [
      "Epoch 180, Loss 0.0217\n",
      "Training Accuracy: 0.9751, Testing Accuracy: 0.9708\n",
      "\n"
     ]
    },
    {
     "name": "stdout",
     "output_type": "stream",
     "text": [
      "Epoch 190, Loss 0.0212\n",
      "Training Accuracy: 0.9755, Testing Accuracy: 0.9703\n",
      "\n"
     ]
    },
    {
     "name": "stdout",
     "output_type": "stream",
     "text": [
      "Epoch 200, Loss 0.0208\n",
      "Training Accuracy: 0.9761, Testing Accuracy: 0.9713\n",
      "\n"
     ]
    },
    {
     "name": "stdout",
     "output_type": "stream",
     "text": [
      "Epoch 210, Loss 0.0204\n",
      "Training Accuracy: 0.9771, Testing Accuracy: 0.9718\n",
      "\n"
     ]
    },
    {
     "name": "stdout",
     "output_type": "stream",
     "text": [
      "Epoch 220, Loss 0.0199\n",
      "Training Accuracy: 0.9776, Testing Accuracy: 0.9728\n",
      "\n"
     ]
    },
    {
     "name": "stdout",
     "output_type": "stream",
     "text": [
      "Epoch 230, Loss 0.0196\n",
      "Training Accuracy: 0.9781, Testing Accuracy: 0.9728\n",
      "\n"
     ]
    },
    {
     "name": "stdout",
     "output_type": "stream",
     "text": [
      "Epoch 240, Loss 0.0192\n",
      "Training Accuracy: 0.9789, Testing Accuracy: 0.9743\n",
      "\n"
     ]
    },
    {
     "data": {
      "text/plain": [
       "0.005699407729034126"
      ]
     },
     "execution_count": 22,
     "metadata": {},
     "output_type": "execute_result"
    }
   ],
   "source": [
    "nn_learner.train_loop(dl)"
   ]
  },
  {
   "cell_type": "code",
   "execution_count": 23,
   "id": "e0163366",
   "metadata": {
    "execution": {
     "iopub.execute_input": "2021-11-01T10:09:08.532053Z",
     "iopub.status.busy": "2021-11-01T10:09:08.531532Z",
     "iopub.status.idle": "2021-11-01T10:09:23.730063Z",
     "shell.execute_reply": "2021-11-01T10:09:23.730782Z"
    },
    "papermill": {
     "duration": 15.243865,
     "end_time": "2021-11-01T10:09:23.730961",
     "exception": false,
     "start_time": "2021-11-01T10:09:08.487096",
     "status": "completed"
    },
    "tags": []
   },
   "outputs": [
    {
     "name": "stdout",
     "output_type": "stream",
     "text": [
      "Epoch 0, Loss 0.2387\n",
      "Training Accuracy: 0.7063, Testing Accuracy: 0.7314\n",
      "\n"
     ]
    },
    {
     "name": "stdout",
     "output_type": "stream",
     "text": [
      "Epoch 10, Loss 0.1025\n",
      "Training Accuracy: 0.9104, Testing Accuracy: 0.9289\n",
      "\n"
     ]
    },
    {
     "name": "stdout",
     "output_type": "stream",
     "text": [
      "Epoch 20, Loss 0.0787\n",
      "Training Accuracy: 0.9273, Testing Accuracy: 0.9430\n",
      "\n"
     ]
    },
    {
     "name": "stdout",
     "output_type": "stream",
     "text": [
      "Epoch 30, Loss 0.0677\n",
      "Training Accuracy: 0.9343, Testing Accuracy: 0.9526\n",
      "\n"
     ]
    },
    {
     "name": "stdout",
     "output_type": "stream",
     "text": [
      "Epoch 40, Loss 0.0611\n",
      "Training Accuracy: 0.9420, Testing Accuracy: 0.9567\n",
      "\n"
     ]
    },
    {
     "name": "stdout",
     "output_type": "stream",
     "text": [
      "Epoch 50, Loss 0.0566\n",
      "Training Accuracy: 0.9457, Testing Accuracy: 0.9592\n",
      "\n"
     ]
    },
    {
     "name": "stdout",
     "output_type": "stream",
     "text": [
      "Epoch 60, Loss 0.0534\n",
      "Training Accuracy: 0.9480, Testing Accuracy: 0.9612\n",
      "\n"
     ]
    },
    {
     "name": "stdout",
     "output_type": "stream",
     "text": [
      "Epoch 70, Loss 0.0508\n",
      "Training Accuracy: 0.9506, Testing Accuracy: 0.9612\n",
      "\n"
     ]
    },
    {
     "name": "stdout",
     "output_type": "stream",
     "text": [
      "Epoch 80, Loss 0.0488\n",
      "Training Accuracy: 0.9514, Testing Accuracy: 0.9617\n",
      "\n"
     ]
    },
    {
     "name": "stdout",
     "output_type": "stream",
     "text": [
      "Epoch 90, Loss 0.0471\n",
      "Training Accuracy: 0.9527, Testing Accuracy: 0.9627\n",
      "\n"
     ]
    },
    {
     "name": "stdout",
     "output_type": "stream",
     "text": [
      "Epoch 100, Loss 0.0457\n",
      "Training Accuracy: 0.9541, Testing Accuracy: 0.9632\n",
      "\n"
     ]
    },
    {
     "name": "stdout",
     "output_type": "stream",
     "text": [
      "Epoch 110, Loss 0.0445\n",
      "Training Accuracy: 0.9553, Testing Accuracy: 0.9647\n",
      "\n"
     ]
    },
    {
     "name": "stdout",
     "output_type": "stream",
     "text": [
      "Epoch 120, Loss 0.0435\n",
      "Training Accuracy: 0.9558, Testing Accuracy: 0.9662\n",
      "\n"
     ]
    },
    {
     "name": "stdout",
     "output_type": "stream",
     "text": [
      "Epoch 130, Loss 0.0426\n",
      "Training Accuracy: 0.9564, Testing Accuracy: 0.9667\n",
      "\n"
     ]
    },
    {
     "name": "stdout",
     "output_type": "stream",
     "text": [
      "Epoch 140, Loss 0.0417\n",
      "Training Accuracy: 0.9572, Testing Accuracy: 0.9667\n",
      "\n"
     ]
    },
    {
     "name": "stdout",
     "output_type": "stream",
     "text": [
      "Epoch 150, Loss 0.041\n",
      "Training Accuracy: 0.9578, Testing Accuracy: 0.9672\n",
      "\n"
     ]
    },
    {
     "name": "stdout",
     "output_type": "stream",
     "text": [
      "Epoch 160, Loss 0.0403\n",
      "Training Accuracy: 0.9584, Testing Accuracy: 0.9672\n",
      "\n"
     ]
    },
    {
     "name": "stdout",
     "output_type": "stream",
     "text": [
      "Epoch 170, Loss 0.0397\n",
      "Training Accuracy: 0.9592, Testing Accuracy: 0.9667\n",
      "\n"
     ]
    },
    {
     "name": "stdout",
     "output_type": "stream",
     "text": [
      "Epoch 180, Loss 0.0392\n",
      "Training Accuracy: 0.9594, Testing Accuracy: 0.9667\n",
      "\n"
     ]
    },
    {
     "name": "stdout",
     "output_type": "stream",
     "text": [
      "Epoch 190, Loss 0.0387\n",
      "Training Accuracy: 0.9599, Testing Accuracy: 0.9662\n",
      "\n"
     ]
    },
    {
     "name": "stdout",
     "output_type": "stream",
     "text": [
      "Epoch 200, Loss 0.0382\n",
      "Training Accuracy: 0.9601, Testing Accuracy: 0.9662\n",
      "\n"
     ]
    },
    {
     "name": "stdout",
     "output_type": "stream",
     "text": [
      "Epoch 210, Loss 0.0378\n",
      "Training Accuracy: 0.9602, Testing Accuracy: 0.9662\n",
      "\n"
     ]
    },
    {
     "name": "stdout",
     "output_type": "stream",
     "text": [
      "Epoch 220, Loss 0.0374\n",
      "Training Accuracy: 0.9604, Testing Accuracy: 0.9662\n",
      "\n"
     ]
    },
    {
     "name": "stdout",
     "output_type": "stream",
     "text": [
      "Epoch 230, Loss 0.037\n",
      "Training Accuracy: 0.9605, Testing Accuracy: 0.9662\n",
      "\n"
     ]
    },
    {
     "name": "stdout",
     "output_type": "stream",
     "text": [
      "Epoch 240, Loss 0.0366\n",
      "Training Accuracy: 0.9609, Testing Accuracy: 0.9657\n",
      "\n"
     ]
    },
    {
     "data": {
      "text/plain": [
       "0.06544344319549641"
      ]
     },
     "execution_count": 23,
     "metadata": {},
     "output_type": "execute_result"
    }
   ],
   "source": [
    "lr_learner.train_loop(dl)"
   ]
  },
  {
   "cell_type": "code",
   "execution_count": 24,
   "id": "ca410940",
   "metadata": {
    "execution": {
     "iopub.execute_input": "2021-11-01T10:09:23.824165Z",
     "iopub.status.busy": "2021-11-01T10:09:23.823641Z",
     "iopub.status.idle": "2021-11-01T10:09:24.058326Z",
     "shell.execute_reply": "2021-11-01T10:09:24.058743Z"
    },
    "papermill": {
     "duration": 0.286535,
     "end_time": "2021-11-01T10:09:24.058911",
     "exception": false,
     "start_time": "2021-11-01T10:09:23.772376",
     "status": "completed"
    },
    "tags": []
   },
   "outputs": [
    {
     "data": {
      "text/plain": [
       "<matplotlib.legend.Legend at 0x7f937a40d7f0>"
      ]
     },
     "execution_count": 24,
     "metadata": {},
     "output_type": "execute_result"
    },
    {
     "data": {
      "image/png": "[encoded data removed]",
      "text/plain": [
       "<Figure size 1080x720 with 1 Axes>"
      ]
     },
     "metadata": {
      "needs_background": "light"
     },
     "output_type": "display_data"
    }
   ],
   "source": [
    "#comparing the results of NN and LR\n",
    "plt.figure(figsize=(15,10))\n",
    "\n",
    "# Neural Network plots\n",
    "plt.plot(acc_nn.accuracies, 'r-', label = \"Training Accuracies - NN\")\n",
    "plt.plot(acc_nn.test_accuracies, 'g-', label = \"Testing Accuracies - NN\")\n",
    "\n",
    "# Logistic Regression plots\n",
    "plt.plot(acc_lr.accuracies, 'k-', label = \"Training Accuracies - LR\")\n",
    "plt.plot(acc_lr.test_accuracies, 'b-', label = \"Testing Accuracies - LR\")\n",
    "plt.legend()"
   ]
  },
  {
   "cell_type": "markdown",
   "id": "80dfb35c",
   "metadata": {
    "papermill": {
     "duration": 0.042179,
     "end_time": "2021-11-01T10:09:24.144112",
     "exception": false,
     "start_time": "2021-11-01T10:09:24.101933",
     "status": "completed"
    },
    "tags": []
   },
   "source": [
    "#### Plotting the outputs of this layer of the NN.\n"
   ]
  },
  {
   "cell_type": "code",
   "execution_count": 25,
   "id": "45eb2ff5",
   "metadata": {
    "execution": {
     "iopub.execute_input": "2021-11-01T10:09:24.233105Z",
     "iopub.status.busy": "2021-11-01T10:09:24.232583Z",
     "iopub.status.idle": "2021-11-01T10:09:24.253413Z",
     "shell.execute_reply": "2021-11-01T10:09:24.253821Z"
    },
    "papermill": {
     "duration": 0.067545,
     "end_time": "2021-11-01T10:09:24.253966",
     "exception": false,
     "start_time": "2021-11-01T10:09:24.186421",
     "status": "completed"
    },
    "tags": []
   },
   "outputs": [],
   "source": [
    "new_model = Model(layers[:-2])\n",
    "testing_plot = new_model(testing_data_x)"
   ]
  },
  {
   "cell_type": "code",
   "execution_count": 26,
   "id": "4c0a5485",
   "metadata": {
    "execution": {
     "iopub.execute_input": "2021-11-01T10:09:24.354820Z",
     "iopub.status.busy": "2021-11-01T10:09:24.354281Z",
     "iopub.status.idle": "2021-11-01T10:09:24.536562Z",
     "shell.execute_reply": "2021-11-01T10:09:24.536130Z"
    },
    "papermill": {
     "duration": 0.231039,
     "end_time": "2021-11-01T10:09:24.536693",
     "exception": false,
     "start_time": "2021-11-01T10:09:24.305654",
     "status": "completed"
    },
    "tags": []
   },
   "outputs": [
    {
     "data": {
      "text/plain": [
       "Text(0.5, 1.0, 'Outputs')"
      ]
     },
     "execution_count": 26,
     "metadata": {},
     "output_type": "execute_result"
    },
    {
     "data": {
      "image/png": "[encoded data removed]",
      "text/plain": [
       "<Figure size 576x504 with 1 Axes>"
      ]
     },
     "metadata": {
      "needs_background": "light"
     },
     "output_type": "display_data"
    }
   ],
   "source": [
    "# Plotting the scatter plot of points and color coding by class\n",
    "plt.figure(figsize=(8,7))\n",
    "plt.scatter(testing_plot[:,0], testing_plot[:,1], alpha = 0.1, c = y_test.ravel());\n",
    "plt.title('Outputs')"
   ]
  },
  {
   "cell_type": "markdown",
   "id": "a74fcf8f",
   "metadata": {
    "papermill": {
     "duration": 0.043866,
     "end_time": "2021-11-01T10:09:24.624892",
     "exception": false,
     "start_time": "2021-11-01T10:09:24.581026",
     "status": "completed"
    },
    "tags": []
   },
   "source": [
    "Probability contours"
   ]
  },
  {
   "cell_type": "code",
   "execution_count": 27,
   "id": "d0afc8e3",
   "metadata": {
    "execution": {
     "iopub.execute_input": "2021-11-01T10:09:24.717935Z",
     "iopub.status.busy": "2021-11-01T10:09:24.717385Z",
     "iopub.status.idle": "2021-11-01T10:09:24.727877Z",
     "shell.execute_reply": "2021-11-01T10:09:24.728280Z"
    },
    "papermill": {
     "duration": 0.059561,
     "end_time": "2021-11-01T10:09:24.728415",
     "exception": false,
     "start_time": "2021-11-01T10:09:24.668854",
     "status": "completed"
    },
    "tags": []
   },
   "outputs": [],
   "source": [
    "model_prob = Model(layers[-2:]) "
   ]
  },
  {
   "cell_type": "code",
   "execution_count": 28,
   "id": "9b96e238",
   "metadata": {
    "execution": {
     "iopub.execute_input": "2021-11-01T10:09:24.820891Z",
     "iopub.status.busy": "2021-11-01T10:09:24.820380Z",
     "iopub.status.idle": "2021-11-01T10:09:24.834516Z",
     "shell.execute_reply": "2021-11-01T10:09:24.834924Z"
    },
    "papermill": {
     "duration": 0.062626,
     "end_time": "2021-11-01T10:09:24.835063",
     "exception": false,
     "start_time": "2021-11-01T10:09:24.772437",
     "status": "completed"
    },
    "tags": []
   },
   "outputs": [],
   "source": [
    "#creating the x and y ranges according to the above generated plot.\n",
    "x_range = np.linspace(-4, 1, 100) \n",
    "y_range = np.linspace(-6, 6, 100) \n",
    "x_grid, y_grid = np.meshgrid(x_range, y_range) # x_grid and y_grig are of size 100 X 100\n",
    "\n",
    "# converting x_grid and y_grid to continuous arrays\n",
    "x_gridflat = np.ravel(x_grid)\n",
    "y_gridflat = np.ravel(y_grid)\n",
    "\n",
    "# The last layer of the current model takes two columns as input. Hence transpose of np.vstack() is required.\n",
    "X = np.vstack((x_gridflat, y_gridflat)).T\n",
    "\n",
    "prob_contour = model_prob(X).reshape(100,100) "
   ]
  },
  {
   "cell_type": "code",
   "execution_count": 29,
   "id": "da72499a",
   "metadata": {
    "execution": {
     "iopub.execute_input": "2021-11-01T10:09:24.980106Z",
     "iopub.status.busy": "2021-11-01T10:09:24.979558Z",
     "iopub.status.idle": "2021-11-01T10:09:25.217855Z",
     "shell.execute_reply": "2021-11-01T10:09:25.218263Z"
    },
    "papermill": {
     "duration": 0.29348,
     "end_time": "2021-11-01T10:09:25.218408",
     "exception": false,
     "start_time": "2021-11-01T10:09:24.924928",
     "status": "completed"
    },
    "tags": []
   },
   "outputs": [
    {
     "data": {
      "image/png": "[encoded data removed]",
      "text/plain": [
       "<Figure size 720x648 with 1 Axes>"
      ]
     },
     "metadata": {
      "needs_background": "light"
     },
     "output_type": "display_data"
    }
   ],
   "source": [
    "plt.figure(figsize=(10,9))\n",
    "plt.scatter(testing_plot[:,0], testing_plot[:,1], alpha = 0.1, c = y_test.ravel())\n",
    "contours = plt.contour(x_grid,y_grid,prob_contour)\n",
    "plt.title('Probability Contours')\n",
    "plt.clabel(contours, inline = True );"
   ]
  },
  {
   "cell_type": "code",
   "execution_count": null,
   "id": "e81b4ac7",
   "metadata": {
    "papermill": {
     "duration": 0.046689,
     "end_time": "2021-11-01T10:09:25.312082",
     "exception": false,
     "start_time": "2021-11-01T10:09:25.265393",
     "status": "completed"
    },
    "tags": []
   },
   "outputs": [],
   "source": []
  }
 ],
 "metadata": {
  "kernelspec": {
   "display_name": "Python 3",
   "language": "python",
   "name": "python3"
  },
  "language_info": {
   "codemirror_mode": {
    "name": "ipython",
    "version": 3
   },
   "file_extension": ".py",
   "mimetype": "text/x-python",
   "name": "python",
   "nbconvert_exporter": "python",
   "pygments_lexer": "ipython3",
   "version": "3.6.15"
  },
  "papermill": {
   "default_parameters": {},
   "duration": 106.723511,
   "end_time": "2021-11-01T10:09:25.767063",
   "environment_variables": {},
   "exception": null,
   "input_path": "2020-08-11-part2.ipynb",
   "output_path": "2020-08-11-part2.ipynb",
   "parameters": {},
   "start_time": "2021-11-01T10:07:39.043552",
   "version": "2.3.3"
  }
 },
 "nbformat": 4,
 "nbformat_minor": 5
}