{
 "cells": [
  {
   "cell_type": "markdown",
   "id": "98380cd3",
   "metadata": {
    "papermill": {
     "duration": 0.034977,
     "end_time": "2022-06-24T00:39:30.528515",
     "exception": false,
     "start_time": "2022-06-24T00:39:30.493538",
     "status": "completed"
    },
    "tags": []
   },
   "source": [
    "# Distinguish Your Own Digits (DYOD)"
   ]
  },
  {
   "cell_type": "markdown",
   "id": "ef31240d",
   "metadata": {
    "papermill": {
     "duration": 0.025839,
     "end_time": "2022-06-24T00:39:30.581165",
     "exception": false,
     "start_time": "2022-06-24T00:39:30.555326",
     "status": "completed"
    },
    "tags": []
   },
   "source": [
    "You are going to write a classifier that distinguishes between the number 3 and number 8."
   ]
  },
  {
   "cell_type": "code",
   "execution_count": 1,
   "id": "b15c8646",
   "metadata": {
    "execution": {
     "iopub.execute_input": "2022-06-24T00:39:30.646923Z",
     "iopub.status.busy": "2022-06-24T00:39:30.646318Z",
     "iopub.status.idle": "2022-06-24T00:39:30.657462Z",
     "shell.execute_reply": "2022-06-24T00:39:30.656937Z"
    },
    "papermill": {
     "duration": 0.048015,
     "end_time": "2022-06-24T00:39:30.657587",
     "exception": false,
     "start_time": "2022-06-24T00:39:30.609572",
     "status": "completed"
    },
    "tags": []
   },
   "outputs": [],
   "source": [
    "%load_ext autoreload\n",
    "%autoreload 2"
   ]
  },
  {
   "cell_type": "code",
   "execution_count": 2,
   "id": "22ef38dc",
   "metadata": {
    "execution": {
     "iopub.execute_input": "2022-06-24T00:39:30.714402Z",
     "iopub.status.busy": "2022-06-24T00:39:30.713715Z",
     "iopub.status.idle": "2022-06-24T00:39:31.350804Z",
     "shell.execute_reply": "2022-06-24T00:39:31.350051Z"
    },
    "papermill": {
     "duration": 0.668055,
     "end_time": "2022-06-24T00:39:31.350940",
     "exception": false,
     "start_time": "2022-06-24T00:39:30.682885",
     "status": "completed"
    },
    "tags": []
   },
   "outputs": [],
   "source": [
    "%matplotlib inline\n",
    "import numpy as np\n",
    "import matplotlib.pyplot as plt\n",
    "import pandas as pd"
   ]
  },
  {
   "cell_type": "markdown",
   "id": "ba036198",
   "metadata": {
    "papermill": {
     "duration": 0.027444,
     "end_time": "2022-06-24T00:39:31.409029",
     "exception": false,
     "start_time": "2022-06-24T00:39:31.381585",
     "status": "completed"
    },
    "tags": []
   },
   "source": [
    "From the command line run `pip install mnist`. This is a library that will help you bring down the mnist dataset. If you run this from a notebook, you need to put  `!pip install mnist` in a cell by itself."
   ]
  },
  {
   "cell_type": "code",
   "execution_count": 3,
   "id": "bb6ad8a1",
   "metadata": {
    "execution": {
     "iopub.execute_input": "2022-06-24T00:39:31.470397Z",
     "iopub.status.busy": "2022-06-24T00:39:31.469766Z",
     "iopub.status.idle": "2022-06-24T00:39:33.535701Z",
     "shell.execute_reply": "2022-06-24T00:39:33.536561Z"
    },
    "papermill": {
     "duration": 2.10125,
     "end_time": "2022-06-24T00:39:33.536847",
     "exception": false,
     "start_time": "2022-06-24T00:39:31.435597",
     "status": "completed"
    },
    "tags": []
   },
   "outputs": [
    {
     "name": "stdout",
     "output_type": "stream",
     "text": [
      "Collecting mnist\r\n"
     ]
    },
    {
     "name": "stdout",
     "output_type": "stream",
     "text": [
      "  Downloading mnist-0.2.2-py2.py3-none-any.whl (3.5 kB)\r\n",
      "Requirement already satisfied: numpy in /opt/hostedtoolcache/Python/3.6.15/x64/lib/python3.6/site-packages (from mnist) (1.19.5)\r\n"
     ]
    },
    {
     "name": "stdout",
     "output_type": "stream",
     "text": [
      "Installing collected packages: mnist\r\n"
     ]
    },
    {
     "name": "stdout",
     "output_type": "stream",
     "text": [
      "Successfully installed mnist-0.2.2\r\n"
     ]
    }
   ],
   "source": [
    "!pip install mnist"
   ]
  },
  {
   "cell_type": "markdown",
   "id": "69df9c9a",
   "metadata": {
    "papermill": {
     "duration": 0.033558,
     "end_time": "2022-06-24T00:39:33.600914",
     "exception": false,
     "start_time": "2022-06-24T00:39:33.567356",
     "status": "completed"
    },
    "tags": []
   },
   "source": [
    "## Preparing the Data"
   ]
  },
  {
   "cell_type": "code",
   "execution_count": 4,
   "id": "7f69d806",
   "metadata": {
    "execution": {
     "iopub.execute_input": "2022-06-24T00:39:33.671520Z",
     "iopub.status.busy": "2022-06-24T00:39:33.666688Z",
     "iopub.status.idle": "2022-06-24T00:39:33.686722Z",
     "shell.execute_reply": "2022-06-24T00:39:33.686140Z"
    },
    "papermill": {
     "duration": 0.053854,
     "end_time": "2022-06-24T00:39:33.686849",
     "exception": false,
     "start_time": "2022-06-24T00:39:33.632995",
     "status": "completed"
    },
    "tags": []
   },
   "outputs": [],
   "source": [
    "import mnist"
   ]
  },
  {
   "cell_type": "code",
   "execution_count": 5,
   "id": "a411e44f",
   "metadata": {
    "execution": {
     "iopub.execute_input": "2022-06-24T00:39:33.750931Z",
     "iopub.status.busy": "2022-06-24T00:39:33.750175Z",
     "iopub.status.idle": "2022-06-24T00:39:34.333576Z",
     "shell.execute_reply": "2022-06-24T00:39:34.332866Z"
    },
    "papermill": {
     "duration": 0.617292,
     "end_time": "2022-06-24T00:39:34.333713",
     "exception": false,
     "start_time": "2022-06-24T00:39:33.716421",
     "status": "completed"
    },
    "tags": []
   },
   "outputs": [],
   "source": [
    "train_images = mnist.train_images()\n",
    "train_labels = mnist.train_labels()"
   ]
  },
  {
   "cell_type": "code",
   "execution_count": 6,
   "id": "dceab3a5",
   "metadata": {
    "execution": {
     "iopub.execute_input": "2022-06-24T00:39:34.405004Z",
     "iopub.status.busy": "2022-06-24T00:39:34.404270Z",
     "iopub.status.idle": "2022-06-24T00:39:34.421969Z",
     "shell.execute_reply": "2022-06-24T00:39:34.421406Z"
    },
    "papermill": {
     "duration": 0.051455,
     "end_time": "2022-06-24T00:39:34.422083",
     "exception": false,
     "start_time": "2022-06-24T00:39:34.370628",
     "status": "completed"
    },
    "tags": []
   },
   "outputs": [
    {
     "data": {
      "text/plain": [
       "((60000, 28, 28), (60000,))"
      ]
     },
     "execution_count": 6,
     "metadata": {},
     "output_type": "execute_result"
    }
   ],
   "source": [
    "train_images.shape, train_labels.shape"
   ]
  },
  {
   "cell_type": "code",
   "execution_count": 7,
   "id": "f50dc2bb",
   "metadata": {
    "execution": {
     "iopub.execute_input": "2022-06-24T00:39:34.492925Z",
     "iopub.status.busy": "2022-06-24T00:39:34.492034Z",
     "iopub.status.idle": "2022-06-24T00:39:34.724398Z",
     "shell.execute_reply": "2022-06-24T00:39:34.723590Z"
    },
    "papermill": {
     "duration": 0.272202,
     "end_time": "2022-06-24T00:39:34.724589",
     "exception": false,
     "start_time": "2022-06-24T00:39:34.452387",
     "status": "completed"
    },
    "tags": []
   },
   "outputs": [],
   "source": [
    "test_images = mnist.test_images()\n",
    "test_labels = mnist.test_labels()"
   ]
  },
  {
   "cell_type": "code",
   "execution_count": 8,
   "id": "fc38cf1b",
   "metadata": {
    "execution": {
     "iopub.execute_input": "2022-06-24T00:39:34.783072Z",
     "iopub.status.busy": "2022-06-24T00:39:34.782447Z",
     "iopub.status.idle": "2022-06-24T00:39:34.804304Z",
     "shell.execute_reply": "2022-06-24T00:39:34.805182Z"
    },
    "papermill": {
     "duration": 0.054053,
     "end_time": "2022-06-24T00:39:34.805346",
     "exception": false,
     "start_time": "2022-06-24T00:39:34.751293",
     "status": "completed"
    },
    "tags": []
   },
   "outputs": [
    {
     "data": {
      "text/plain": [
       "((10000, 28, 28), (10000,))"
      ]
     },
     "execution_count": 8,
     "metadata": {},
     "output_type": "execute_result"
    }
   ],
   "source": [
    "test_images.shape, test_labels.shape"
   ]
  },
  {
   "cell_type": "code",
   "execution_count": 9,
   "id": "f9ed8fe0",
   "metadata": {
    "execution": {
     "iopub.execute_input": "2022-06-24T00:39:34.865609Z",
     "iopub.status.busy": "2022-06-24T00:39:34.864747Z",
     "iopub.status.idle": "2022-06-24T00:39:35.056372Z",
     "shell.execute_reply": "2022-06-24T00:39:35.055661Z"
    },
    "papermill": {
     "duration": 0.222514,
     "end_time": "2022-06-24T00:39:35.056510",
     "exception": false,
     "start_time": "2022-06-24T00:39:34.833996",
     "status": "completed"
    },
    "tags": []
   },
   "outputs": [
    {
     "name": "stdout",
     "output_type": "stream",
     "text": [
      "2\n"
     ]
    },
    {
     "data": {
      "text/plain": [
       "<matplotlib.image.AxesImage at 0x7fb2efb1a320>"
      ]
     },
     "execution_count": 9,
     "metadata": {},
     "output_type": "execute_result"
    },
    {
     "data": {
      "image/png": "[encoded data removed]",
      "text/plain": [
       "<Figure size 432x288 with 1 Axes>"
      ]
     },
     "metadata": {
      "needs_background": "light"
     },
     "output_type": "display_data"
    }
   ],
   "source": [
    "image_index = 7776 # You may select anything up to 60,000\n",
    "print(train_labels[image_index]) \n",
    "plt.imshow(train_images[image_index], cmap='Greys')"
   ]
  },
  {
   "cell_type": "markdown",
   "id": "a8d2388d",
   "metadata": {
    "papermill": {
     "duration": 0.031898,
     "end_time": "2022-06-24T00:39:35.123753",
     "exception": false,
     "start_time": "2022-06-24T00:39:35.091855",
     "status": "completed"
    },
    "tags": []
   },
   "source": [
    "## Filter data to get 3 and 8 out"
   ]
  },
  {
   "cell_type": "code",
   "execution_count": 10,
   "id": "776f7fc7",
   "metadata": {
    "execution": {
     "iopub.execute_input": "2022-06-24T00:39:35.201302Z",
     "iopub.status.busy": "2022-06-24T00:39:35.200455Z",
     "iopub.status.idle": "2022-06-24T00:39:35.222991Z",
     "shell.execute_reply": "2022-06-24T00:39:35.222304Z"
    },
    "papermill": {
     "duration": 0.061659,
     "end_time": "2022-06-24T00:39:35.223126",
     "exception": false,
     "start_time": "2022-06-24T00:39:35.161467",
     "status": "completed"
    },
    "tags": []
   },
   "outputs": [],
   "source": [
    "train_filter = np.where((train_labels == 3 ) | (train_labels == 8))\n",
    "test_filter = np.where((test_labels == 3) | (test_labels == 8))\n",
    "X_train, y_train = train_images[train_filter], train_labels[train_filter]\n",
    "X_test, y_test = test_images[test_filter], test_labels[test_filter]"
   ]
  },
  {
   "cell_type": "markdown",
   "id": "948f0b7e",
   "metadata": {
    "papermill": {
     "duration": 0.032759,
     "end_time": "2022-06-24T00:39:35.291097",
     "exception": false,
     "start_time": "2022-06-24T00:39:35.258338",
     "status": "completed"
    },
    "tags": []
   },
   "source": [
    "We normalize the pizel values in the 0 to 1 range"
   ]
  },
  {
   "cell_type": "code",
   "execution_count": 11,
   "id": "ee4c2166",
   "metadata": {
    "execution": {
     "iopub.execute_input": "2022-06-24T00:39:35.367498Z",
     "iopub.status.busy": "2022-06-24T00:39:35.366811Z",
     "iopub.status.idle": "2022-06-24T00:39:35.433544Z",
     "shell.execute_reply": "2022-06-24T00:39:35.434068Z"
    },
    "papermill": {
     "duration": 0.10979,
     "end_time": "2022-06-24T00:39:35.434249",
     "exception": false,
     "start_time": "2022-06-24T00:39:35.324459",
     "status": "completed"
    },
    "tags": []
   },
   "outputs": [],
   "source": [
    "X_train = X_train/255.\n",
    "X_test = X_test/255."
   ]
  },
  {
   "cell_type": "markdown",
   "id": "ddcf4fab",
   "metadata": {
    "papermill": {
     "duration": 0.033931,
     "end_time": "2022-06-24T00:39:35.504627",
     "exception": false,
     "start_time": "2022-06-24T00:39:35.470696",
     "status": "completed"
    },
    "tags": []
   },
   "source": [
    "And setup the labels as 1 (when the digit is 3) and 0 (when the digit is 8)"
   ]
  },
  {
   "cell_type": "code",
   "execution_count": 12,
   "id": "7dc908f2",
   "metadata": {
    "execution": {
     "iopub.execute_input": "2022-06-24T00:39:35.582945Z",
     "iopub.status.busy": "2022-06-24T00:39:35.581987Z",
     "iopub.status.idle": "2022-06-24T00:39:35.598324Z",
     "shell.execute_reply": "2022-06-24T00:39:35.598826Z"
    },
    "papermill": {
     "duration": 0.060463,
     "end_time": "2022-06-24T00:39:35.598983",
     "exception": false,
     "start_time": "2022-06-24T00:39:35.538520",
     "status": "completed"
    },
    "tags": []
   },
   "outputs": [],
   "source": [
    "y_train = 1*(y_train==3)\n",
    "y_test = 1*(y_test==3)"
   ]
  },
  {
   "cell_type": "code",
   "execution_count": 13,
   "id": "01e4e969",
   "metadata": {
    "execution": {
     "iopub.execute_input": "2022-06-24T00:39:35.672848Z",
     "iopub.status.busy": "2022-06-24T00:39:35.672164Z",
     "iopub.status.idle": "2022-06-24T00:39:35.690890Z",
     "shell.execute_reply": "2022-06-24T00:39:35.690251Z"
    },
    "papermill": {
     "duration": 0.056161,
     "end_time": "2022-06-24T00:39:35.691047",
     "exception": false,
     "start_time": "2022-06-24T00:39:35.634886",
     "status": "completed"
    },
    "tags": []
   },
   "outputs": [
    {
     "data": {
      "text/plain": [
       "((11982, 28, 28), (1984, 28, 28))"
      ]
     },
     "execution_count": 13,
     "metadata": {},
     "output_type": "execute_result"
    }
   ],
   "source": [
    "X_train.shape, X_test.shape"
   ]
  },
  {
   "cell_type": "markdown",
   "id": "5ccf3f85",
   "metadata": {
    "papermill": {
     "duration": 0.03256,
     "end_time": "2022-06-24T00:39:35.759024",
     "exception": false,
     "start_time": "2022-06-24T00:39:35.726464",
     "status": "completed"
    },
    "tags": []
   },
   "source": [
    "We reshape the data to flatten the image pixels into a set of features or co-variates:"
   ]
  },
  {
   "cell_type": "code",
   "execution_count": 14,
   "id": "5286a4a3",
   "metadata": {
    "execution": {
     "iopub.execute_input": "2022-06-24T00:39:35.836099Z",
     "iopub.status.busy": "2022-06-24T00:39:35.835388Z",
     "iopub.status.idle": "2022-06-24T00:39:35.856206Z",
     "shell.execute_reply": "2022-06-24T00:39:35.855518Z"
    },
    "papermill": {
     "duration": 0.064456,
     "end_time": "2022-06-24T00:39:35.856348",
     "exception": false,
     "start_time": "2022-06-24T00:39:35.791892",
     "status": "completed"
    },
    "tags": []
   },
   "outputs": [
    {
     "data": {
      "text/plain": [
       "((11982, 784), (1984, 784))"
      ]
     },
     "execution_count": 14,
     "metadata": {},
     "output_type": "execute_result"
    }
   ],
   "source": [
    "X_train = X_train.reshape(X_train.shape[0], -1)\n",
    "X_test = X_test.reshape(X_test.shape[0], -1)\n",
    "X_train.shape, X_test.shape"
   ]
  },
  {
   "cell_type": "code",
   "execution_count": 15,
   "id": "73c5f88a",
   "metadata": {
    "execution": {
     "iopub.execute_input": "2022-06-24T00:39:35.932445Z",
     "iopub.status.busy": "2022-06-24T00:39:35.931805Z",
     "iopub.status.idle": "2022-06-24T00:39:35.954793Z",
     "shell.execute_reply": "2022-06-24T00:39:35.954118Z"
    },
    "papermill": {
     "duration": 0.064623,
     "end_time": "2022-06-24T00:39:35.954944",
     "exception": false,
     "start_time": "2022-06-24T00:39:35.890321",
     "status": "completed"
    },
    "tags": []
   },
   "outputs": [],
   "source": [
    "#Impoting functions from 'Kudzu'\n",
    "from kudzu.model import Model\n",
    "from kudzu.train import Learner\n",
    "from kudzu.optim import GD\n",
    "from kudzu.data import Data, Sampler,Dataloader\n",
    "\n",
    "from kudzu.callbacks import AccCallback\n",
    "from kudzu.callbacks import ClfCallback\n",
    "\n",
    "from kudzu.loss import MSE\n",
    "\n",
    "from kudzu.layer import Sigmoid,Relu\n",
    "from kudzu.layer import Affine"
   ]
  },
  {
   "cell_type": "markdown",
   "id": "bc01172a",
   "metadata": {
    "papermill": {
     "duration": 0.041301,
     "end_time": "2022-06-24T00:39:36.031274",
     "exception": false,
     "start_time": "2022-06-24T00:39:35.989973",
     "status": "completed"
    },
    "tags": []
   },
   "source": [
    "### Let us create a `Config` class, to store important parameters. \n",
    "This class essentially plays the role of a dictionary."
   ]
  },
  {
   "cell_type": "code",
   "execution_count": 16,
   "id": "978281aa",
   "metadata": {
    "execution": {
     "iopub.execute_input": "2022-06-24T00:39:36.108258Z",
     "iopub.status.busy": "2022-06-24T00:39:36.107353Z",
     "iopub.status.idle": "2022-06-24T00:39:36.122233Z",
     "shell.execute_reply": "2022-06-24T00:39:36.121513Z"
    },
    "papermill": {
     "duration": 0.052746,
     "end_time": "2022-06-24T00:39:36.122374",
     "exception": false,
     "start_time": "2022-06-24T00:39:36.069628",
     "status": "completed"
    },
    "tags": []
   },
   "outputs": [],
   "source": [
    "class Config:\n",
    "    pass\n",
    "config = Config()\n",
    "config.lr = 0.001\n",
    "config.num_epochs = 250\n",
    "config.bs = 50"
   ]
  },
  {
   "cell_type": "markdown",
   "id": "1385fa59",
   "metadata": {
    "papermill": {
     "duration": 0.035951,
     "end_time": "2022-06-24T00:39:36.193604",
     "exception": false,
     "start_time": "2022-06-24T00:39:36.157653",
     "status": "completed"
    },
    "tags": []
   },
   "source": [
    "### Running Models with the Training data\n",
    "Details about the network layers:\n",
    "- A first affine layer has 784 inputs and does 100 affine transforms. These are followed by a Relu\n",
    "- A second affine layer has 100 inputs from the 100 activations of the past layer, and does 100 affine transforms. These are followed by a Relu\n",
    "- A third affine layer has 100 activations and does 2 affine transformations to create an embedding for visualization. There is no non-linearity here.\n",
    "- A final \"logistic regression\" which has an affine transform from 2 inputs to 1 output, which is squeezed through a sigmoid.\n"
   ]
  },
  {
   "cell_type": "code",
   "execution_count": 17,
   "id": "2b9c66db",
   "metadata": {
    "execution": {
     "iopub.execute_input": "2022-06-24T00:39:36.274575Z",
     "iopub.status.busy": "2022-06-24T00:39:36.273657Z",
     "iopub.status.idle": "2022-06-24T00:39:36.290908Z",
     "shell.execute_reply": "2022-06-24T00:39:36.292295Z"
    },
    "papermill": {
     "duration": 0.062876,
     "end_time": "2022-06-24T00:39:36.292490",
     "exception": false,
     "start_time": "2022-06-24T00:39:36.229614",
     "status": "completed"
    },
    "tags": []
   },
   "outputs": [],
   "source": [
    "data = Data(X_train, y_train.reshape(-1,1))\n",
    "sampler = Sampler(data, config.bs, shuffle=True)\n",
    "\n",
    "dl = Dataloader(data, sampler)\n",
    "\n",
    "opt = GD(config.lr)\n",
    "loss = MSE()"
   ]
  },
  {
   "cell_type": "code",
   "execution_count": 18,
   "id": "b275e4c2",
   "metadata": {
    "execution": {
     "iopub.execute_input": "2022-06-24T00:39:36.366071Z",
     "iopub.status.busy": "2022-06-24T00:39:36.365290Z",
     "iopub.status.idle": "2022-06-24T00:39:36.378381Z",
     "shell.execute_reply": "2022-06-24T00:39:36.377567Z"
    },
    "papermill": {
     "duration": 0.053466,
     "end_time": "2022-06-24T00:39:36.378529",
     "exception": false,
     "start_time": "2022-06-24T00:39:36.325063",
     "status": "completed"
    },
    "tags": []
   },
   "outputs": [],
   "source": [
    "training_data_x = X_train\n",
    "testing_data_x = X_test\n",
    "training_data_y = y_train.reshape(-1,1)\n",
    "testing_data_y = y_test.reshape(-1,1)"
   ]
  },
  {
   "cell_type": "code",
   "execution_count": 19,
   "id": "76951160",
   "metadata": {
    "execution": {
     "iopub.execute_input": "2022-06-24T00:39:36.462687Z",
     "iopub.status.busy": "2022-06-24T00:39:36.461765Z",
     "iopub.status.idle": "2022-06-24T00:39:36.482636Z",
     "shell.execute_reply": "2022-06-24T00:39:36.483427Z"
    },
    "papermill": {
     "duration": 0.062865,
     "end_time": "2022-06-24T00:39:36.483580",
     "exception": false,
     "start_time": "2022-06-24T00:39:36.420715",
     "status": "completed"
    },
    "tags": []
   },
   "outputs": [
    {
     "name": "stdout",
     "output_type": "stream",
     "text": [
      "xavier\n",
      "xavier\n",
      "xavier\n",
      "xavier\n",
      "xavier\n"
     ]
    }
   ],
   "source": [
    "layers = [Affine(\"first\", 784, 100), Relu(\"first\"), Affine(\"second\", 100, 100), Relu(\"second\"), Affine(\"third\", 100, 2), Affine(\"last\", 2, 1), Sigmoid(\"last\")]\n",
    "model_nn = Model(layers)\n",
    "model_lr = Model([Affine(\"logits\", 784, 1), Sigmoid(\"sigmoid\")])"
   ]
  },
  {
   "cell_type": "code",
   "execution_count": 20,
   "id": "6eede77a",
   "metadata": {
    "execution": {
     "iopub.execute_input": "2022-06-24T00:39:36.564775Z",
     "iopub.status.busy": "2022-06-24T00:39:36.557756Z",
     "iopub.status.idle": "2022-06-24T00:39:36.569748Z",
     "shell.execute_reply": "2022-06-24T00:39:36.570264Z"
    },
    "papermill": {
     "duration": 0.05377,
     "end_time": "2022-06-24T00:39:36.570400",
     "exception": false,
     "start_time": "2022-06-24T00:39:36.516630",
     "status": "completed"
    },
    "tags": []
   },
   "outputs": [],
   "source": [
    "nn_learner = Learner(loss, model_nn, opt, config.num_epochs)\n",
    "acc_nn = ClfCallback(nn_learner, config.bs, training_data_x , testing_data_x, training_data_y, testing_data_y)\n",
    "nn_learner.set_callbacks([acc_nn])"
   ]
  },
  {
   "cell_type": "code",
   "execution_count": 21,
   "id": "877b6cc7",
   "metadata": {
    "execution": {
     "iopub.execute_input": "2022-06-24T00:39:36.645544Z",
     "iopub.status.busy": "2022-06-24T00:39:36.644640Z",
     "iopub.status.idle": "2022-06-24T00:39:36.659031Z",
     "shell.execute_reply": "2022-06-24T00:39:36.658228Z"
    },
    "papermill": {
     "duration": 0.053965,
     "end_time": "2022-06-24T00:39:36.659157",
     "exception": false,
     "start_time": "2022-06-24T00:39:36.605192",
     "status": "completed"
    },
    "tags": []
   },
   "outputs": [],
   "source": [
    "lr_learner = Learner(loss, model_lr, opt, config.num_epochs)\n",
    "acc_lr = ClfCallback(lr_learner, config.bs, training_data_x , testing_data_x, training_data_y, testing_data_y)\n",
    "lr_learner.set_callbacks([acc_lr])"
   ]
  },
  {
   "cell_type": "code",
   "execution_count": 22,
   "id": "d9b133c3",
   "metadata": {
    "execution": {
     "iopub.execute_input": "2022-06-24T00:39:36.742193Z",
     "iopub.status.busy": "2022-06-24T00:39:36.737061Z",
     "iopub.status.idle": "2022-06-24T00:41:59.762676Z",
     "shell.execute_reply": "2022-06-24T00:41:59.763627Z"
    },
    "papermill": {
     "duration": 143.069315,
     "end_time": "2022-06-24T00:41:59.763837",
     "exception": false,
     "start_time": "2022-06-24T00:39:36.694522",
     "status": "completed"
    },
    "tags": []
   },
   "outputs": [
    {
     "name": "stdout",
     "output_type": "stream",
     "text": [
      "Epoch 0, Loss 0.2475\n",
      "Training Accuracy: 0.5896, Testing Accuracy: 0.6038\n",
      "\n"
     ]
    },
    {
     "name": "stdout",
     "output_type": "stream",
     "text": [
      "Epoch 10, Loss 0.1536\n",
      "Training Accuracy: 0.9073, Testing Accuracy: 0.9249\n",
      "\n"
     ]
    },
    {
     "name": "stdout",
     "output_type": "stream",
     "text": [
      "Epoch 20, Loss 0.0738\n",
      "Training Accuracy: 0.9329, Testing Accuracy: 0.9390\n",
      "\n"
     ]
    },
    {
     "name": "stdout",
     "output_type": "stream",
     "text": [
      "Epoch 30, Loss 0.0519\n",
      "Training Accuracy: 0.9461, Testing Accuracy: 0.9491\n",
      "\n"
     ]
    },
    {
     "name": "stdout",
     "output_type": "stream",
     "text": [
      "Epoch 40, Loss 0.0428\n",
      "Training Accuracy: 0.9536, Testing Accuracy: 0.9597\n",
      "\n"
     ]
    },
    {
     "name": "stdout",
     "output_type": "stream",
     "text": [
      "Epoch 50, Loss 0.0378\n",
      "Training Accuracy: 0.9578, Testing Accuracy: 0.9627\n",
      "\n"
     ]
    },
    {
     "name": "stdout",
     "output_type": "stream",
     "text": [
      "Epoch 60, Loss 0.0346\n",
      "Training Accuracy: 0.9599, Testing Accuracy: 0.9662\n",
      "\n"
     ]
    },
    {
     "name": "stdout",
     "output_type": "stream",
     "text": [
      "Epoch 70, Loss 0.0323\n",
      "Training Accuracy: 0.9624, Testing Accuracy: 0.9667\n",
      "\n"
     ]
    },
    {
     "name": "stdout",
     "output_type": "stream",
     "text": [
      "Epoch 80, Loss 0.0305\n",
      "Training Accuracy: 0.9640, Testing Accuracy: 0.9677\n",
      "\n"
     ]
    },
    {
     "name": "stdout",
     "output_type": "stream",
     "text": [
      "Epoch 90, Loss 0.029\n",
      "Training Accuracy: 0.9649, Testing Accuracy: 0.9698\n",
      "\n"
     ]
    },
    {
     "name": "stdout",
     "output_type": "stream",
     "text": [
      "Epoch 100, Loss 0.0278\n",
      "Training Accuracy: 0.9667, Testing Accuracy: 0.9703\n",
      "\n"
     ]
    },
    {
     "name": "stdout",
     "output_type": "stream",
     "text": [
      "Epoch 110, Loss 0.0268\n",
      "Training Accuracy: 0.9682, Testing Accuracy: 0.9708\n",
      "\n"
     ]
    },
    {
     "name": "stdout",
     "output_type": "stream",
     "text": [
      "Epoch 120, Loss 0.0259\n",
      "Training Accuracy: 0.9700, Testing Accuracy: 0.9703\n",
      "\n"
     ]
    },
    {
     "name": "stdout",
     "output_type": "stream",
     "text": [
      "Epoch 130, Loss 0.025\n",
      "Training Accuracy: 0.9707, Testing Accuracy: 0.9693\n",
      "\n"
     ]
    },
    {
     "name": "stdout",
     "output_type": "stream",
     "text": [
      "Epoch 140, Loss 0.0243\n",
      "Training Accuracy: 0.9716, Testing Accuracy: 0.9698\n",
      "\n"
     ]
    },
    {
     "name": "stdout",
     "output_type": "stream",
     "text": [
      "Epoch 150, Loss 0.0236\n",
      "Training Accuracy: 0.9720, Testing Accuracy: 0.9693\n",
      "\n"
     ]
    },
    {
     "name": "stdout",
     "output_type": "stream",
     "text": [
      "Epoch 160, Loss 0.023\n",
      "Training Accuracy: 0.9732, Testing Accuracy: 0.9703\n",
      "\n"
     ]
    },
    {
     "name": "stdout",
     "output_type": "stream",
     "text": [
      "Epoch 170, Loss 0.0225\n",
      "Training Accuracy: 0.9736, Testing Accuracy: 0.9713\n",
      "\n"
     ]
    },
    {
     "name": "stdout",
     "output_type": "stream",
     "text": [
      "Epoch 180, Loss 0.0219\n",
      "Training Accuracy: 0.9747, Testing Accuracy: 0.9713\n",
      "\n"
     ]
    },
    {
     "name": "stdout",
     "output_type": "stream",
     "text": [
      "Epoch 190, Loss 0.0214\n",
      "Training Accuracy: 0.9754, Testing Accuracy: 0.9713\n",
      "\n"
     ]
    },
    {
     "name": "stdout",
     "output_type": "stream",
     "text": [
      "Epoch 200, Loss 0.0209\n",
      "Training Accuracy: 0.9757, Testing Accuracy: 0.9713\n",
      "\n"
     ]
    },
    {
     "name": "stdout",
     "output_type": "stream",
     "text": [
      "Epoch 210, Loss 0.0205\n",
      "Training Accuracy: 0.9765, Testing Accuracy: 0.9723\n",
      "\n"
     ]
    },
    {
     "name": "stdout",
     "output_type": "stream",
     "text": [
      "Epoch 220, Loss 0.0201\n",
      "Training Accuracy: 0.9774, Testing Accuracy: 0.9728\n",
      "\n"
     ]
    },
    {
     "name": "stdout",
     "output_type": "stream",
     "text": [
      "Epoch 230, Loss 0.0196\n",
      "Training Accuracy: 0.9780, Testing Accuracy: 0.9728\n",
      "\n"
     ]
    },
    {
     "name": "stdout",
     "output_type": "stream",
     "text": [
      "Epoch 240, Loss 0.0192\n",
      "Training Accuracy: 0.9790, Testing Accuracy: 0.9723\n",
      "\n"
     ]
    },
    {
     "data": {
      "text/plain": [
       "0.0013769534035131669"
      ]
     },
     "execution_count": 22,
     "metadata": {},
     "output_type": "execute_result"
    }
   ],
   "source": [
    "nn_learner.train_loop(dl)"
   ]
  },
  {
   "cell_type": "code",
   "execution_count": 23,
   "id": "e0163366",
   "metadata": {
    "execution": {
     "iopub.execute_input": "2022-06-24T00:41:59.852615Z",
     "iopub.status.busy": "2022-06-24T00:41:59.851888Z",
     "iopub.status.idle": "2022-06-24T00:42:20.496329Z",
     "shell.execute_reply": "2022-06-24T00:42:20.497528Z"
    },
    "papermill": {
     "duration": 20.695279,
     "end_time": "2022-06-24T00:42:20.497755",
     "exception": false,
     "start_time": "2022-06-24T00:41:59.802476",
     "status": "completed"
    },
    "tags": []
   },
   "outputs": [
    {
     "name": "stdout",
     "output_type": "stream",
     "text": [
      "Epoch 0, Loss 0.2291\n",
      "Training Accuracy: 0.7631, Testing Accuracy: 0.7944\n",
      "\n"
     ]
    },
    {
     "name": "stdout",
     "output_type": "stream",
     "text": [
      "Epoch 10, Loss 0.0985\n",
      "Training Accuracy: 0.9165, Testing Accuracy: 0.9340\n",
      "\n"
     ]
    },
    {
     "name": "stdout",
     "output_type": "stream",
     "text": [
      "Epoch 20, Loss 0.0767\n",
      "Training Accuracy: 0.9293, Testing Accuracy: 0.9451\n",
      "\n"
     ]
    },
    {
     "name": "stdout",
     "output_type": "stream",
     "text": [
      "Epoch 30, Loss 0.0666\n",
      "Training Accuracy: 0.9372, Testing Accuracy: 0.9506\n",
      "\n"
     ]
    },
    {
     "name": "stdout",
     "output_type": "stream",
     "text": [
      "Epoch 40, Loss 0.0604\n",
      "Training Accuracy: 0.9434, Testing Accuracy: 0.9567\n",
      "\n"
     ]
    },
    {
     "name": "stdout",
     "output_type": "stream",
     "text": [
      "Epoch 50, Loss 0.0562\n",
      "Training Accuracy: 0.9466, Testing Accuracy: 0.9602\n",
      "\n"
     ]
    },
    {
     "name": "stdout",
     "output_type": "stream",
     "text": [
      "Epoch 60, Loss 0.053\n",
      "Training Accuracy: 0.9485, Testing Accuracy: 0.9617\n",
      "\n"
     ]
    },
    {
     "name": "stdout",
     "output_type": "stream",
     "text": [
      "Epoch 70, Loss 0.0506\n",
      "Training Accuracy: 0.9507, Testing Accuracy: 0.9622\n",
      "\n"
     ]
    },
    {
     "name": "stdout",
     "output_type": "stream",
     "text": [
      "Epoch 80, Loss 0.0486\n",
      "Training Accuracy: 0.9524, Testing Accuracy: 0.9632\n",
      "\n"
     ]
    },
    {
     "name": "stdout",
     "output_type": "stream",
     "text": [
      "Epoch 90, Loss 0.047\n",
      "Training Accuracy: 0.9535, Testing Accuracy: 0.9637\n",
      "\n"
     ]
    },
    {
     "name": "stdout",
     "output_type": "stream",
     "text": [
      "Epoch 100, Loss 0.0457\n",
      "Training Accuracy: 0.9545, Testing Accuracy: 0.9647\n",
      "\n"
     ]
    },
    {
     "name": "stdout",
     "output_type": "stream",
     "text": [
      "Epoch 110, Loss 0.0445\n",
      "Training Accuracy: 0.9551, Testing Accuracy: 0.9657\n",
      "\n"
     ]
    },
    {
     "name": "stdout",
     "output_type": "stream",
     "text": [
      "Epoch 120, Loss 0.0435\n",
      "Training Accuracy: 0.9553, Testing Accuracy: 0.9652\n",
      "\n"
     ]
    },
    {
     "name": "stdout",
     "output_type": "stream",
     "text": [
      "Epoch 130, Loss 0.0426\n",
      "Training Accuracy: 0.9568, Testing Accuracy: 0.9657\n",
      "\n"
     ]
    },
    {
     "name": "stdout",
     "output_type": "stream",
     "text": [
      "Epoch 140, Loss 0.0418\n",
      "Training Accuracy: 0.9574, Testing Accuracy: 0.9662\n",
      "\n"
     ]
    },
    {
     "name": "stdout",
     "output_type": "stream",
     "text": [
      "Epoch 150, Loss 0.0411\n",
      "Training Accuracy: 0.9580, Testing Accuracy: 0.9672\n",
      "\n"
     ]
    },
    {
     "name": "stdout",
     "output_type": "stream",
     "text": [
      "Epoch 160, Loss 0.0404\n",
      "Training Accuracy: 0.9584, Testing Accuracy: 0.9672\n",
      "\n"
     ]
    },
    {
     "name": "stdout",
     "output_type": "stream",
     "text": [
      "Epoch 170, Loss 0.0398\n",
      "Training Accuracy: 0.9588, Testing Accuracy: 0.9672\n",
      "\n"
     ]
    },
    {
     "name": "stdout",
     "output_type": "stream",
     "text": [
      "Epoch 180, Loss 0.0393\n",
      "Training Accuracy: 0.9591, Testing Accuracy: 0.9677\n",
      "\n"
     ]
    },
    {
     "name": "stdout",
     "output_type": "stream",
     "text": [
      "Epoch 190, Loss 0.0388\n",
      "Training Accuracy: 0.9594, Testing Accuracy: 0.9677\n",
      "\n"
     ]
    },
    {
     "name": "stdout",
     "output_type": "stream",
     "text": [
      "Epoch 200, Loss 0.0383\n",
      "Training Accuracy: 0.9599, Testing Accuracy: 0.9677\n",
      "\n"
     ]
    },
    {
     "name": "stdout",
     "output_type": "stream",
     "text": [
      "Epoch 210, Loss 0.0379\n",
      "Training Accuracy: 0.9600, Testing Accuracy: 0.9682\n",
      "\n"
     ]
    },
    {
     "name": "stdout",
     "output_type": "stream",
     "text": [
      "Epoch 220, Loss 0.0375\n",
      "Training Accuracy: 0.9607, Testing Accuracy: 0.9682\n",
      "\n"
     ]
    },
    {
     "name": "stdout",
     "output_type": "stream",
     "text": [
      "Epoch 230, Loss 0.0371\n",
      "Training Accuracy: 0.9611, Testing Accuracy: 0.9672\n",
      "\n"
     ]
    },
    {
     "name": "stdout",
     "output_type": "stream",
     "text": [
      "Epoch 240, Loss 0.0367\n",
      "Training Accuracy: 0.9614, Testing Accuracy: 0.9672\n",
      "\n"
     ]
    },
    {
     "data": {
      "text/plain": [
       "0.061068909965925"
      ]
     },
     "execution_count": 23,
     "metadata": {},
     "output_type": "execute_result"
    }
   ],
   "source": [
    "lr_learner.train_loop(dl)"
   ]
  },
  {
   "cell_type": "code",
   "execution_count": 24,
   "id": "ca410940",
   "metadata": {
    "execution": {
     "iopub.execute_input": "2022-06-24T00:42:20.604423Z",
     "iopub.status.busy": "2022-06-24T00:42:20.603321Z",
     "iopub.status.idle": "2022-06-24T00:42:20.923021Z",
     "shell.execute_reply": "2022-06-24T00:42:20.922430Z"
    },
    "papermill": {
     "duration": 0.375321,
     "end_time": "2022-06-24T00:42:20.923149",
     "exception": false,
     "start_time": "2022-06-24T00:42:20.547828",
     "status": "completed"
    },
    "tags": []
   },
   "outputs": [
    {
     "data": {
      "text/plain": [
       "<matplotlib.legend.Legend at 0x7fb2ef678a90>"
      ]
     },
     "execution_count": 24,
     "metadata": {},
     "output_type": "execute_result"
    },
    {
     "data": {
      "image/png": "[encoded data removed]",
      "text/plain": [
       "<Figure size 1080x720 with 1 Axes>"
      ]
     },
     "metadata": {
      "needs_background": "light"
     },
     "output_type": "display_data"
    }
   ],
   "source": [
    "#comparing the results of NN and LR\n",
    "plt.figure(figsize=(15,10))\n",
    "\n",
    "# Neural Network plots\n",
    "plt.plot(acc_nn.accuracies, 'r-', label = \"Training Accuracies - NN\")\n",
    "plt.plot(acc_nn.test_accuracies, 'g-', label = \"Testing Accuracies - NN\")\n",
    "\n",
    "# Logistic Regression plots\n",
    "plt.plot(acc_lr.accuracies, 'k-', label = \"Training Accuracies - LR\")\n",
    "plt.plot(acc_lr.test_accuracies, 'b-', label = \"Testing Accuracies - LR\")\n",
    "plt.legend()"
   ]
  },
  {
   "cell_type": "markdown",
   "id": "80dfb35c",
   "metadata": {
    "papermill": {
     "duration": 0.047521,
     "end_time": "2022-06-24T00:42:21.024731",
     "exception": false,
     "start_time": "2022-06-24T00:42:20.977210",
     "status": "completed"
    },
    "tags": []
   },
   "source": [
    "#### Plotting the outputs of this layer of the NN.\n"
   ]
  },
  {
   "cell_type": "code",
   "execution_count": 25,
   "id": "45eb2ff5",
   "metadata": {
    "execution": {
     "iopub.execute_input": "2022-06-24T00:42:21.135027Z",
     "iopub.status.busy": "2022-06-24T00:42:21.133898Z",
     "iopub.status.idle": "2022-06-24T00:42:21.162191Z",
     "shell.execute_reply": "2022-06-24T00:42:21.162722Z"
    },
    "papermill": {
     "duration": 0.084107,
     "end_time": "2022-06-24T00:42:21.162993",
     "exception": false,
     "start_time": "2022-06-24T00:42:21.078886",
     "status": "completed"
    },
    "tags": []
   },
   "outputs": [],
   "source": [
    "new_model = Model(layers[:-2])\n",
    "testing_plot = new_model(testing_data_x)"
   ]
  },
  {
   "cell_type": "code",
   "execution_count": 26,
   "id": "4c0a5485",
   "metadata": {
    "execution": {
     "iopub.execute_input": "2022-06-24T00:42:21.283640Z",
     "iopub.status.busy": "2022-06-24T00:42:21.282857Z",
     "iopub.status.idle": "2022-06-24T00:42:21.559350Z",
     "shell.execute_reply": "2022-06-24T00:42:21.559790Z"
    },
    "papermill": {
     "duration": 0.336876,
     "end_time": "2022-06-24T00:42:21.559935",
     "exception": false,
     "start_time": "2022-06-24T00:42:21.223059",
     "status": "completed"
    },
    "tags": []
   },
   "outputs": [
    {
     "data": {
      "text/plain": [
       "Text(0.5, 1.0, 'Outputs')"
      ]
     },
     "execution_count": 26,
     "metadata": {},
     "output_type": "execute_result"
    },
    {
     "data": {
      "image/png": "[encoded data removed]",
      "text/plain": [
       "<Figure size 576x504 with 1 Axes>"
      ]
     },
     "metadata": {
      "needs_background": "light"
     },
     "output_type": "display_data"
    }
   ],
   "source": [
    "# Plotting the scatter plot of points and color coding by class\n",
    "plt.figure(figsize=(8,7))\n",
    "plt.scatter(testing_plot[:,0], testing_plot[:,1], alpha = 0.1, c = y_test.ravel());\n",
    "plt.title('Outputs')"
   ]
  },
  {
   "cell_type": "markdown",
   "id": "a74fcf8f",
   "metadata": {
    "papermill": {
     "duration": 0.082995,
     "end_time": "2022-06-24T00:42:21.693228",
     "exception": false,
     "start_time": "2022-06-24T00:42:21.610233",
     "status": "completed"
    },
    "tags": []
   },
   "source": [
    "Probability contours"
   ]
  },
  {
   "cell_type": "code",
   "execution_count": 27,
   "id": "d0afc8e3",
   "metadata": {
    "execution": {
     "iopub.execute_input": "2022-06-24T00:42:21.805934Z",
     "iopub.status.busy": "2022-06-24T00:42:21.805154Z",
     "iopub.status.idle": "2022-06-24T00:42:21.818720Z",
     "shell.execute_reply": "2022-06-24T00:42:21.819239Z"
    },
    "papermill": {
     "duration": 0.073242,
     "end_time": "2022-06-24T00:42:21.819362",
     "exception": false,
     "start_time": "2022-06-24T00:42:21.746120",
     "status": "completed"
    },
    "tags": []
   },
   "outputs": [],
   "source": [
    "model_prob = Model(layers[-2:]) "
   ]
  },
  {
   "cell_type": "code",
   "execution_count": 28,
   "id": "9b96e238",
   "metadata": {
    "execution": {
     "iopub.execute_input": "2022-06-24T00:42:21.934977Z",
     "iopub.status.busy": "2022-06-24T00:42:21.934253Z",
     "iopub.status.idle": "2022-06-24T00:42:21.950266Z",
     "shell.execute_reply": "2022-06-24T00:42:21.950837Z"
    },
    "papermill": {
     "duration": 0.076632,
     "end_time": "2022-06-24T00:42:21.950985",
     "exception": false,
     "start_time": "2022-06-24T00:42:21.874353",
     "status": "completed"
    },
    "tags": []
   },
   "outputs": [],
   "source": [
    "#creating the x and y ranges according to the above generated plot.\n",
    "x_range = np.linspace(-4, 1, 100) \n",
    "y_range = np.linspace(-6, 6, 100) \n",
    "x_grid, y_grid = np.meshgrid(x_range, y_range) # x_grid and y_grig are of size 100 X 100\n",
    "\n",
    "# converting x_grid and y_grid to continuous arrays\n",
    "x_gridflat = np.ravel(x_grid)\n",
    "y_gridflat = np.ravel(y_grid)\n",
    "\n",
    "# The last layer of the current model takes two columns as input. Hence transpose of np.vstack() is required.\n",
    "X = np.vstack((x_gridflat, y_gridflat)).T\n",
    "\n",
    "prob_contour = model_prob(X).reshape(100,100) "
   ]
  },
  {
   "cell_type": "code",
   "execution_count": 29,
   "id": "da72499a",
   "metadata": {
    "execution": {
     "iopub.execute_input": "2022-06-24T00:42:22.077432Z",
     "iopub.status.busy": "2022-06-24T00:42:22.076597Z",
     "iopub.status.idle": "2022-06-24T00:42:22.425726Z",
     "shell.execute_reply": "2022-06-24T00:42:22.424656Z"
    },
    "papermill": {
     "duration": 0.419011,
     "end_time": "2022-06-24T00:42:22.425918",
     "exception": false,
     "start_time": "2022-06-24T00:42:22.006907",
     "status": "completed"
    },
    "tags": []
   },
   "outputs": [
    {
     "data": {
      "image/png": "[encoded data removed]",
      "text/plain": [
       "<Figure size 720x648 with 1 Axes>"
      ]
     },
     "metadata": {
      "needs_background": "light"
     },
     "output_type": "display_data"
    }
   ],
   "source": [
    "plt.figure(figsize=(10,9))\n",
    "plt.scatter(testing_plot[:,0], testing_plot[:,1], alpha = 0.1, c = y_test.ravel())\n",
    "contours = plt.contour(x_grid,y_grid,prob_contour)\n",
    "plt.title('Probability Contours')\n",
    "plt.clabel(contours, inline = True );"
   ]
  },
  {
   "cell_type": "code",
   "execution_count": null,
   "id": "e81b4ac7",
   "metadata": {
    "papermill": {
     "duration": 0.059047,
     "end_time": "2022-06-24T00:42:22.541122",
     "exception": false,
     "start_time": "2022-06-24T00:42:22.482075",
     "status": "completed"
    },
    "tags": []
   },
   "outputs": [],
   "source": []
  }
 ],
 "metadata": {
  "kernelspec": {
   "display_name": "Python 3",
   "language": "python",
   "name": "python3"
  },
  "language_info": {
   "codemirror_mode": {
    "name": "ipython",
    "version": 3
   },
   "file_extension": ".py",
   "mimetype": "text/x-python",
   "name": "python",
   "nbconvert_exporter": "python",
   "pygments_lexer": "ipython3",
   "version": "3.6.15"
  },
  "papermill": {
   "default_parameters": {},
   "duration": 173.817209,
   "end_time": "2022-06-24T00:42:23.019086",
   "environment_variables": {},
   "exception": null,
   "input_path": "2020-08-11-part2.ipynb",
   "output_path": "2020-08-11-part2.ipynb",
   "parameters": {},
   "start_time": "2022-06-24T00:39:29.201877",
   "version": "2.3.3"
  }
 },
 "nbformat": 4,
 "nbformat_minor": 5
}