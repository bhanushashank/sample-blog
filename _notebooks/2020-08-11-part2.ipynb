{
 "cells": [
  {
   "cell_type": "markdown",
   "id": "98380cd3",
   "metadata": {
    "papermill": {
     "duration": 0.031136,
     "end_time": "2021-11-24T00:22:26.349494",
     "exception": false,
     "start_time": "2021-11-24T00:22:26.318358",
     "status": "completed"
    },
    "tags": []
   },
   "source": [
    "# Distinguish Your Own Digits (DYOD)"
   ]
  },
  {
   "cell_type": "markdown",
   "id": "ef31240d",
   "metadata": {
    "papermill": {
     "duration": 0.021289,
     "end_time": "2021-11-24T00:22:26.393047",
     "exception": false,
     "start_time": "2021-11-24T00:22:26.371758",
     "status": "completed"
    },
    "tags": []
   },
   "source": [
    "You are going to write a classifier that distinguishes between the number 3 and number 8."
   ]
  },
  {
   "cell_type": "code",
   "execution_count": 1,
   "id": "b15c8646",
   "metadata": {
    "execution": {
     "iopub.execute_input": "2021-11-24T00:22:26.445497Z",
     "iopub.status.busy": "2021-11-24T00:22:26.445064Z",
     "iopub.status.idle": "2021-11-24T00:22:26.454156Z",
     "shell.execute_reply": "2021-11-24T00:22:26.453806Z"
    },
    "papermill": {
     "duration": 0.040365,
     "end_time": "2021-11-24T00:22:26.454254",
     "exception": false,
     "start_time": "2021-11-24T00:22:26.413889",
     "status": "completed"
    },
    "tags": []
   },
   "outputs": [],
   "source": [
    "%load_ext autoreload\n",
    "%autoreload 2"
   ]
  },
  {
   "cell_type": "code",
   "execution_count": 2,
   "id": "22ef38dc",
   "metadata": {
    "execution": {
     "iopub.execute_input": "2021-11-24T00:22:26.502411Z",
     "iopub.status.busy": "2021-11-24T00:22:26.501979Z",
     "iopub.status.idle": "2021-11-24T00:22:27.066931Z",
     "shell.execute_reply": "2021-11-24T00:22:27.069527Z"
    },
    "papermill": {
     "duration": 0.595402,
     "end_time": "2021-11-24T00:22:27.069823",
     "exception": false,
     "start_time": "2021-11-24T00:22:26.474421",
     "status": "completed"
    },
    "tags": []
   },
   "outputs": [],
   "source": [
    "%matplotlib inline\n",
    "import numpy as np\n",
    "import matplotlib.pyplot as plt\n",
    "import pandas as pd"
   ]
  },
  {
   "cell_type": "markdown",
   "id": "ba036198",
   "metadata": {
    "papermill": {
     "duration": 0.024674,
     "end_time": "2021-11-24T00:22:27.124461",
     "exception": false,
     "start_time": "2021-11-24T00:22:27.099787",
     "status": "completed"
    },
    "tags": []
   },
   "source": [
    "From the command line run `pip install mnist`. This is a library that will help you bring down the mnist dataset. If you run this from a notebook, you need to put  `!pip install mnist` in a cell by itself."
   ]
  },
  {
   "cell_type": "code",
   "execution_count": 3,
   "id": "bb6ad8a1",
   "metadata": {
    "execution": {
     "iopub.execute_input": "2021-11-24T00:22:27.172025Z",
     "iopub.status.busy": "2021-11-24T00:22:27.171528Z",
     "iopub.status.idle": "2021-11-24T00:22:28.842065Z",
     "shell.execute_reply": "2021-11-24T00:22:28.841301Z"
    },
    "papermill": {
     "duration": 1.695843,
     "end_time": "2021-11-24T00:22:28.842255",
     "exception": false,
     "start_time": "2021-11-24T00:22:27.146412",
     "status": "completed"
    },
    "tags": []
   },
   "outputs": [
    {
     "name": "stdout",
     "output_type": "stream",
     "text": [
      "Collecting mnist\r\n"
     ]
    },
    {
     "name": "stdout",
     "output_type": "stream",
     "text": [
      "  Downloading mnist-0.2.2-py2.py3-none-any.whl (3.5 kB)\r\n",
      "Requirement already satisfied: numpy in /opt/hostedtoolcache/Python/3.6.15/x64/lib/python3.6/site-packages (from mnist) (1.19.5)\r\n"
     ]
    },
    {
     "name": "stdout",
     "output_type": "stream",
     "text": [
      "Installing collected packages: mnist\r\n"
     ]
    },
    {
     "name": "stdout",
     "output_type": "stream",
     "text": [
      "Successfully installed mnist-0.2.2\r\n"
     ]
    }
   ],
   "source": [
    "!pip install mnist"
   ]
  },
  {
   "cell_type": "markdown",
   "id": "69df9c9a",
   "metadata": {
    "papermill": {
     "duration": 0.022752,
     "end_time": "2021-11-24T00:22:28.892888",
     "exception": false,
     "start_time": "2021-11-24T00:22:28.870136",
     "status": "completed"
    },
    "tags": []
   },
   "source": [
    "## Preparing the Data"
   ]
  },
  {
   "cell_type": "code",
   "execution_count": 4,
   "id": "7f69d806",
   "metadata": {
    "execution": {
     "iopub.execute_input": "2021-11-24T00:22:28.941168Z",
     "iopub.status.busy": "2021-11-24T00:22:28.940674Z",
     "iopub.status.idle": "2021-11-24T00:22:28.958098Z",
     "shell.execute_reply": "2021-11-24T00:22:28.957704Z"
    },
    "papermill": {
     "duration": 0.043912,
     "end_time": "2021-11-24T00:22:28.958199",
     "exception": false,
     "start_time": "2021-11-24T00:22:28.914287",
     "status": "completed"
    },
    "tags": []
   },
   "outputs": [],
   "source": [
    "import mnist"
   ]
  },
  {
   "cell_type": "code",
   "execution_count": 5,
   "id": "a411e44f",
   "metadata": {
    "execution": {
     "iopub.execute_input": "2021-11-24T00:22:29.020377Z",
     "iopub.status.busy": "2021-11-24T00:22:29.014320Z",
     "iopub.status.idle": "2021-11-24T00:22:29.789102Z",
     "shell.execute_reply": "2021-11-24T00:22:29.788134Z"
    },
    "papermill": {
     "duration": 0.809514,
     "end_time": "2021-11-24T00:22:29.789316",
     "exception": false,
     "start_time": "2021-11-24T00:22:28.979802",
     "status": "completed"
    },
    "tags": []
   },
   "outputs": [],
   "source": [
    "train_images = mnist.train_images()\n",
    "train_labels = mnist.train_labels()"
   ]
  },
  {
   "cell_type": "code",
   "execution_count": 6,
   "id": "dceab3a5",
   "metadata": {
    "execution": {
     "iopub.execute_input": "2021-11-24T00:22:29.846692Z",
     "iopub.status.busy": "2021-11-24T00:22:29.846082Z",
     "iopub.status.idle": "2021-11-24T00:22:29.863419Z",
     "shell.execute_reply": "2021-11-24T00:22:29.863890Z"
    },
    "papermill": {
     "duration": 0.052837,
     "end_time": "2021-11-24T00:22:29.864017",
     "exception": false,
     "start_time": "2021-11-24T00:22:29.811180",
     "status": "completed"
    },
    "tags": []
   },
   "outputs": [
    {
     "data": {
      "text/plain": [
       "((60000, 28, 28), (60000,))"
      ]
     },
     "execution_count": 6,
     "metadata": {},
     "output_type": "execute_result"
    }
   ],
   "source": [
    "train_images.shape, train_labels.shape"
   ]
  },
  {
   "cell_type": "code",
   "execution_count": 7,
   "id": "f50dc2bb",
   "metadata": {
    "execution": {
     "iopub.execute_input": "2021-11-24T00:22:29.917854Z",
     "iopub.status.busy": "2021-11-24T00:22:29.917373Z",
     "iopub.status.idle": "2021-11-24T00:22:30.074085Z",
     "shell.execute_reply": "2021-11-24T00:22:30.073408Z"
    },
    "papermill": {
     "duration": 0.181596,
     "end_time": "2021-11-24T00:22:30.074217",
     "exception": false,
     "start_time": "2021-11-24T00:22:29.892621",
     "status": "completed"
    },
    "tags": []
   },
   "outputs": [],
   "source": [
    "test_images = mnist.test_images()\n",
    "test_labels = mnist.test_labels()"
   ]
  },
  {
   "cell_type": "code",
   "execution_count": 8,
   "id": "fc38cf1b",
   "metadata": {
    "execution": {
     "iopub.execute_input": "2021-11-24T00:22:30.119665Z",
     "iopub.status.busy": "2021-11-24T00:22:30.119032Z",
     "iopub.status.idle": "2021-11-24T00:22:30.134235Z",
     "shell.execute_reply": "2021-11-24T00:22:30.133830Z"
    },
    "papermill": {
     "duration": 0.039172,
     "end_time": "2021-11-24T00:22:30.134327",
     "exception": false,
     "start_time": "2021-11-24T00:22:30.095155",
     "status": "completed"
    },
    "tags": []
   },
   "outputs": [
    {
     "data": {
      "text/plain": [
       "((10000, 28, 28), (10000,))"
      ]
     },
     "execution_count": 8,
     "metadata": {},
     "output_type": "execute_result"
    }
   ],
   "source": [
    "test_images.shape, test_labels.shape"
   ]
  },
  {
   "cell_type": "code",
   "execution_count": 9,
   "id": "f9ed8fe0",
   "metadata": {
    "execution": {
     "iopub.execute_input": "2021-11-24T00:22:30.180151Z",
     "iopub.status.busy": "2021-11-24T00:22:30.179576Z",
     "iopub.status.idle": "2021-11-24T00:22:30.309119Z",
     "shell.execute_reply": "2021-11-24T00:22:30.309581Z"
    },
    "papermill": {
     "duration": 0.154622,
     "end_time": "2021-11-24T00:22:30.309722",
     "exception": false,
     "start_time": "2021-11-24T00:22:30.155100",
     "status": "completed"
    },
    "tags": []
   },
   "outputs": [
    {
     "name": "stdout",
     "output_type": "stream",
     "text": [
      "2\n"
     ]
    },
    {
     "data": {
      "text/plain": [
       "<matplotlib.image.AxesImage at 0x7f5368bf9160>"
      ]
     },
     "execution_count": 9,
     "metadata": {},
     "output_type": "execute_result"
    },
    {
     "data": {
      "image/png": "[encoded data removed]",
      "text/plain": [
       "<Figure size 432x288 with 1 Axes>"
      ]
     },
     "metadata": {
      "needs_background": "light"
     },
     "output_type": "display_data"
    }
   ],
   "source": [
    "image_index = 7776 # You may select anything up to 60,000\n",
    "print(train_labels[image_index]) \n",
    "plt.imshow(train_images[image_index], cmap='Greys')"
   ]
  },
  {
   "cell_type": "markdown",
   "id": "a8d2388d",
   "metadata": {
    "papermill": {
     "duration": 0.024067,
     "end_time": "2021-11-24T00:22:30.358092",
     "exception": false,
     "start_time": "2021-11-24T00:22:30.334025",
     "status": "completed"
    },
    "tags": []
   },
   "source": [
    "## Filter data to get 3 and 8 out"
   ]
  },
  {
   "cell_type": "code",
   "execution_count": 10,
   "id": "776f7fc7",
   "metadata": {
    "execution": {
     "iopub.execute_input": "2021-11-24T00:22:30.407502Z",
     "iopub.status.busy": "2021-11-24T00:22:30.406657Z",
     "iopub.status.idle": "2021-11-24T00:22:30.423136Z",
     "shell.execute_reply": "2021-11-24T00:22:30.422801Z"
    },
    "papermill": {
     "duration": 0.041934,
     "end_time": "2021-11-24T00:22:30.423221",
     "exception": false,
     "start_time": "2021-11-24T00:22:30.381287",
     "status": "completed"
    },
    "tags": []
   },
   "outputs": [],
   "source": [
    "train_filter = np.where((train_labels == 3 ) | (train_labels == 8))\n",
    "test_filter = np.where((test_labels == 3) | (test_labels == 8))\n",
    "X_train, y_train = train_images[train_filter], train_labels[train_filter]\n",
    "X_test, y_test = test_images[test_filter], test_labels[test_filter]"
   ]
  },
  {
   "cell_type": "markdown",
   "id": "948f0b7e",
   "metadata": {
    "papermill": {
     "duration": 0.024058,
     "end_time": "2021-11-24T00:22:30.469484",
     "exception": false,
     "start_time": "2021-11-24T00:22:30.445426",
     "status": "completed"
    },
    "tags": []
   },
   "source": [
    "We normalize the pizel values in the 0 to 1 range"
   ]
  },
  {
   "cell_type": "code",
   "execution_count": 11,
   "id": "ee4c2166",
   "metadata": {
    "execution": {
     "iopub.execute_input": "2021-11-24T00:22:30.525281Z",
     "iopub.status.busy": "2021-11-24T00:22:30.524797Z",
     "iopub.status.idle": "2021-11-24T00:22:30.573137Z",
     "shell.execute_reply": "2021-11-24T00:22:30.572193Z"
    },
    "papermill": {
     "duration": 0.080088,
     "end_time": "2021-11-24T00:22:30.573349",
     "exception": false,
     "start_time": "2021-11-24T00:22:30.493261",
     "status": "completed"
    },
    "tags": []
   },
   "outputs": [],
   "source": [
    "X_train = X_train/255.\n",
    "X_test = X_test/255."
   ]
  },
  {
   "cell_type": "markdown",
   "id": "ddcf4fab",
   "metadata": {
    "papermill": {
     "duration": 0.023001,
     "end_time": "2021-11-24T00:22:30.622504",
     "exception": false,
     "start_time": "2021-11-24T00:22:30.599503",
     "status": "completed"
    },
    "tags": []
   },
   "source": [
    "And setup the labels as 1 (when the digit is 3) and 0 (when the digit is 8)"
   ]
  },
  {
   "cell_type": "code",
   "execution_count": 12,
   "id": "7dc908f2",
   "metadata": {
    "execution": {
     "iopub.execute_input": "2021-11-24T00:22:30.674480Z",
     "iopub.status.busy": "2021-11-24T00:22:30.674048Z",
     "iopub.status.idle": "2021-11-24T00:22:30.687925Z",
     "shell.execute_reply": "2021-11-24T00:22:30.687558Z"
    },
    "papermill": {
     "duration": 0.041759,
     "end_time": "2021-11-24T00:22:30.688054",
     "exception": false,
     "start_time": "2021-11-24T00:22:30.646295",
     "status": "completed"
    },
    "tags": []
   },
   "outputs": [],
   "source": [
    "y_train = 1*(y_train==3)\n",
    "y_test = 1*(y_test==3)"
   ]
  },
  {
   "cell_type": "code",
   "execution_count": 13,
   "id": "01e4e969",
   "metadata": {
    "execution": {
     "iopub.execute_input": "2021-11-24T00:22:30.735674Z",
     "iopub.status.busy": "2021-11-24T00:22:30.735226Z",
     "iopub.status.idle": "2021-11-24T00:22:30.749168Z",
     "shell.execute_reply": "2021-11-24T00:22:30.748698Z"
    },
    "papermill": {
     "duration": 0.039482,
     "end_time": "2021-11-24T00:22:30.749283",
     "exception": false,
     "start_time": "2021-11-24T00:22:30.709801",
     "status": "completed"
    },
    "tags": []
   },
   "outputs": [
    {
     "data": {
      "text/plain": [
       "((11982, 28, 28), (1984, 28, 28))"
      ]
     },
     "execution_count": 13,
     "metadata": {},
     "output_type": "execute_result"
    }
   ],
   "source": [
    "X_train.shape, X_test.shape"
   ]
  },
  {
   "cell_type": "markdown",
   "id": "5ccf3f85",
   "metadata": {
    "papermill": {
     "duration": 0.024692,
     "end_time": "2021-11-24T00:22:30.798551",
     "exception": false,
     "start_time": "2021-11-24T00:22:30.773859",
     "status": "completed"
    },
    "tags": []
   },
   "source": [
    "We reshape the data to flatten the image pixels into a set of features or co-variates:"
   ]
  },
  {
   "cell_type": "code",
   "execution_count": 14,
   "id": "5286a4a3",
   "metadata": {
    "execution": {
     "iopub.execute_input": "2021-11-24T00:22:30.849080Z",
     "iopub.status.busy": "2021-11-24T00:22:30.848317Z",
     "iopub.status.idle": "2021-11-24T00:22:30.860100Z",
     "shell.execute_reply": "2021-11-24T00:22:30.859629Z"
    },
    "papermill": {
     "duration": 0.038319,
     "end_time": "2021-11-24T00:22:30.860206",
     "exception": false,
     "start_time": "2021-11-24T00:22:30.821887",
     "status": "completed"
    },
    "tags": []
   },
   "outputs": [
    {
     "data": {
      "text/plain": [
       "((11982, 784), (1984, 784))"
      ]
     },
     "execution_count": 14,
     "metadata": {},
     "output_type": "execute_result"
    }
   ],
   "source": [
    "X_train = X_train.reshape(X_train.shape[0], -1)\n",
    "X_test = X_test.reshape(X_test.shape[0], -1)\n",
    "X_train.shape, X_test.shape"
   ]
  },
  {
   "cell_type": "code",
   "execution_count": 15,
   "id": "73c5f88a",
   "metadata": {
    "execution": {
     "iopub.execute_input": "2021-11-24T00:22:30.912724Z",
     "iopub.status.busy": "2021-11-24T00:22:30.912115Z",
     "iopub.status.idle": "2021-11-24T00:22:30.929824Z",
     "shell.execute_reply": "2021-11-24T00:22:30.928914Z"
    },
    "papermill": {
     "duration": 0.044243,
     "end_time": "2021-11-24T00:22:30.929935",
     "exception": false,
     "start_time": "2021-11-24T00:22:30.885692",
     "status": "completed"
    },
    "tags": []
   },
   "outputs": [],
   "source": [
    "#Impoting functions from 'Kudzu'\n",
    "from kudzu.model import Model\n",
    "from kudzu.train import Learner\n",
    "from kudzu.optim import GD\n",
    "from kudzu.data import Data, Sampler,Dataloader\n",
    "\n",
    "from kudzu.callbacks import AccCallback\n",
    "from kudzu.callbacks import ClfCallback\n",
    "\n",
    "from kudzu.loss import MSE\n",
    "\n",
    "from kudzu.layer import Sigmoid,Relu\n",
    "from kudzu.layer import Affine"
   ]
  },
  {
   "cell_type": "markdown",
   "id": "bc01172a",
   "metadata": {
    "papermill": {
     "duration": 0.023033,
     "end_time": "2021-11-24T00:22:30.977205",
     "exception": false,
     "start_time": "2021-11-24T00:22:30.954172",
     "status": "completed"
    },
    "tags": []
   },
   "source": [
    "### Let us create a `Config` class, to store important parameters. \n",
    "This class essentially plays the role of a dictionary."
   ]
  },
  {
   "cell_type": "code",
   "execution_count": 16,
   "id": "978281aa",
   "metadata": {
    "execution": {
     "iopub.execute_input": "2021-11-24T00:22:31.028424Z",
     "iopub.status.busy": "2021-11-24T00:22:31.025171Z",
     "iopub.status.idle": "2021-11-24T00:22:31.036048Z",
     "shell.execute_reply": "2021-11-24T00:22:31.035618Z"
    },
    "papermill": {
     "duration": 0.036484,
     "end_time": "2021-11-24T00:22:31.036128",
     "exception": false,
     "start_time": "2021-11-24T00:22:30.999644",
     "status": "completed"
    },
    "tags": []
   },
   "outputs": [],
   "source": [
    "class Config:\n",
    "    pass\n",
    "config = Config()\n",
    "config.lr = 0.001\n",
    "config.num_epochs = 250\n",
    "config.bs = 50"
   ]
  },
  {
   "cell_type": "markdown",
   "id": "1385fa59",
   "metadata": {
    "papermill": {
     "duration": 0.024718,
     "end_time": "2021-11-24T00:22:31.085278",
     "exception": false,
     "start_time": "2021-11-24T00:22:31.060560",
     "status": "completed"
    },
    "tags": []
   },
   "source": [
    "### Running Models with the Training data\n",
    "Details about the network layers:\n",
    "- A first affine layer has 784 inputs and does 100 affine transforms. These are followed by a Relu\n",
    "- A second affine layer has 100 inputs from the 100 activations of the past layer, and does 100 affine transforms. These are followed by a Relu\n",
    "- A third affine layer has 100 activations and does 2 affine transformations to create an embedding for visualization. There is no non-linearity here.\n",
    "- A final \"logistic regression\" which has an affine transform from 2 inputs to 1 output, which is squeezed through a sigmoid.\n"
   ]
  },
  {
   "cell_type": "code",
   "execution_count": 17,
   "id": "2b9c66db",
   "metadata": {
    "execution": {
     "iopub.execute_input": "2021-11-24T00:22:31.134983Z",
     "iopub.status.busy": "2021-11-24T00:22:31.134566Z",
     "iopub.status.idle": "2021-11-24T00:22:31.146514Z",
     "shell.execute_reply": "2021-11-24T00:22:31.146046Z"
    },
    "papermill": {
     "duration": 0.038715,
     "end_time": "2021-11-24T00:22:31.146646",
     "exception": false,
     "start_time": "2021-11-24T00:22:31.107931",
     "status": "completed"
    },
    "tags": []
   },
   "outputs": [],
   "source": [
    "data = Data(X_train, y_train.reshape(-1,1))\n",
    "sampler = Sampler(data, config.bs, shuffle=True)\n",
    "\n",
    "dl = Dataloader(data, sampler)\n",
    "\n",
    "opt = GD(config.lr)\n",
    "loss = MSE()"
   ]
  },
  {
   "cell_type": "code",
   "execution_count": 18,
   "id": "b275e4c2",
   "metadata": {
    "execution": {
     "iopub.execute_input": "2021-11-24T00:22:31.197993Z",
     "iopub.status.busy": "2021-11-24T00:22:31.197413Z",
     "iopub.status.idle": "2021-11-24T00:22:31.208967Z",
     "shell.execute_reply": "2021-11-24T00:22:31.208584Z"
    },
    "papermill": {
     "duration": 0.040093,
     "end_time": "2021-11-24T00:22:31.209060",
     "exception": false,
     "start_time": "2021-11-24T00:22:31.168967",
     "status": "completed"
    },
    "tags": []
   },
   "outputs": [],
   "source": [
    "training_data_x = X_train\n",
    "testing_data_x = X_test\n",
    "training_data_y = y_train.reshape(-1,1)\n",
    "testing_data_y = y_test.reshape(-1,1)"
   ]
  },
  {
   "cell_type": "code",
   "execution_count": 19,
   "id": "76951160",
   "metadata": {
    "execution": {
     "iopub.execute_input": "2021-11-24T00:22:31.260587Z",
     "iopub.status.busy": "2021-11-24T00:22:31.259686Z",
     "iopub.status.idle": "2021-11-24T00:22:31.277396Z",
     "shell.execute_reply": "2021-11-24T00:22:31.276932Z"
    },
    "papermill": {
     "duration": 0.044938,
     "end_time": "2021-11-24T00:22:31.277475",
     "exception": false,
     "start_time": "2021-11-24T00:22:31.232537",
     "status": "completed"
    },
    "tags": []
   },
   "outputs": [
    {
     "name": "stdout",
     "output_type": "stream",
     "text": [
      "xavier\n",
      "xavier\n",
      "xavier\n",
      "xavier\n",
      "xavier\n"
     ]
    }
   ],
   "source": [
    "layers = [Affine(\"first\", 784, 100), Relu(\"first\"), Affine(\"second\", 100, 100), Relu(\"second\"), Affine(\"third\", 100, 2), Affine(\"last\", 2, 1), Sigmoid(\"last\")]\n",
    "model_nn = Model(layers)\n",
    "model_lr = Model([Affine(\"logits\", 784, 1), Sigmoid(\"sigmoid\")])"
   ]
  },
  {
   "cell_type": "code",
   "execution_count": 20,
   "id": "6eede77a",
   "metadata": {
    "execution": {
     "iopub.execute_input": "2021-11-24T00:22:31.328601Z",
     "iopub.status.busy": "2021-11-24T00:22:31.328097Z",
     "iopub.status.idle": "2021-11-24T00:22:31.338955Z",
     "shell.execute_reply": "2021-11-24T00:22:31.339460Z"
    },
    "papermill": {
     "duration": 0.039044,
     "end_time": "2021-11-24T00:22:31.339610",
     "exception": false,
     "start_time": "2021-11-24T00:22:31.300566",
     "status": "completed"
    },
    "tags": []
   },
   "outputs": [],
   "source": [
    "nn_learner = Learner(loss, model_nn, opt, config.num_epochs)\n",
    "acc_nn = ClfCallback(nn_learner, config.bs, training_data_x , testing_data_x, training_data_y, testing_data_y)\n",
    "nn_learner.set_callbacks([acc_nn])"
   ]
  },
  {
   "cell_type": "code",
   "execution_count": 21,
   "id": "877b6cc7",
   "metadata": {
    "execution": {
     "iopub.execute_input": "2021-11-24T00:22:31.390857Z",
     "iopub.status.busy": "2021-11-24T00:22:31.390282Z",
     "iopub.status.idle": "2021-11-24T00:22:31.400929Z",
     "shell.execute_reply": "2021-11-24T00:22:31.400423Z"
    },
    "papermill": {
     "duration": 0.037687,
     "end_time": "2021-11-24T00:22:31.401017",
     "exception": false,
     "start_time": "2021-11-24T00:22:31.363330",
     "status": "completed"
    },
    "tags": []
   },
   "outputs": [],
   "source": [
    "lr_learner = Learner(loss, model_lr, opt, config.num_epochs)\n",
    "acc_lr = ClfCallback(lr_learner, config.bs, training_data_x , testing_data_x, training_data_y, testing_data_y)\n",
    "lr_learner.set_callbacks([acc_lr])"
   ]
  },
  {
   "cell_type": "code",
   "execution_count": 22,
   "id": "d9b133c3",
   "metadata": {
    "execution": {
     "iopub.execute_input": "2021-11-24T00:22:31.449866Z",
     "iopub.status.busy": "2021-11-24T00:22:31.449393Z",
     "iopub.status.idle": "2021-11-24T00:23:47.848387Z",
     "shell.execute_reply": "2021-11-24T00:23:47.849018Z"
    },
    "papermill": {
     "duration": 76.425861,
     "end_time": "2021-11-24T00:23:47.849148",
     "exception": false,
     "start_time": "2021-11-24T00:22:31.423287",
     "status": "completed"
    },
    "tags": []
   },
   "outputs": [
    {
     "name": "stdout",
     "output_type": "stream",
     "text": [
      "Epoch 0, Loss 0.2562\n",
      "Training Accuracy: 0.5164, Testing Accuracy: 0.5222\n",
      "\n"
     ]
    },
    {
     "name": "stdout",
     "output_type": "stream",
     "text": [
      "Epoch 10, Loss 0.1155\n",
      "Training Accuracy: 0.9099, Testing Accuracy: 0.9224\n",
      "\n"
     ]
    },
    {
     "name": "stdout",
     "output_type": "stream",
     "text": [
      "Epoch 20, Loss 0.0636\n",
      "Training Accuracy: 0.9368, Testing Accuracy: 0.9466\n",
      "\n"
     ]
    },
    {
     "name": "stdout",
     "output_type": "stream",
     "text": [
      "Epoch 30, Loss 0.0481\n",
      "Training Accuracy: 0.9482, Testing Accuracy: 0.9577\n",
      "\n"
     ]
    },
    {
     "name": "stdout",
     "output_type": "stream",
     "text": [
      "Epoch 40, Loss 0.0408\n",
      "Training Accuracy: 0.9540, Testing Accuracy: 0.9632\n",
      "\n"
     ]
    },
    {
     "name": "stdout",
     "output_type": "stream",
     "text": [
      "Epoch 50, Loss 0.0366\n",
      "Training Accuracy: 0.9579, Testing Accuracy: 0.9647\n",
      "\n"
     ]
    },
    {
     "name": "stdout",
     "output_type": "stream",
     "text": [
      "Epoch 60, Loss 0.0337\n",
      "Training Accuracy: 0.9607, Testing Accuracy: 0.9677\n",
      "\n"
     ]
    },
    {
     "name": "stdout",
     "output_type": "stream",
     "text": [
      "Epoch 70, Loss 0.0316\n",
      "Training Accuracy: 0.9631, Testing Accuracy: 0.9703\n",
      "\n"
     ]
    },
    {
     "name": "stdout",
     "output_type": "stream",
     "text": [
      "Epoch 80, Loss 0.03\n",
      "Training Accuracy: 0.9648, Testing Accuracy: 0.9698\n",
      "\n"
     ]
    },
    {
     "name": "stdout",
     "output_type": "stream",
     "text": [
      "Epoch 90, Loss 0.0287\n",
      "Training Accuracy: 0.9670, Testing Accuracy: 0.9703\n",
      "\n"
     ]
    },
    {
     "name": "stdout",
     "output_type": "stream",
     "text": [
      "Epoch 100, Loss 0.0276\n",
      "Training Accuracy: 0.9683, Testing Accuracy: 0.9708\n",
      "\n"
     ]
    },
    {
     "name": "stdout",
     "output_type": "stream",
     "text": [
      "Epoch 110, Loss 0.0266\n",
      "Training Accuracy: 0.9693, Testing Accuracy: 0.9703\n",
      "\n"
     ]
    },
    {
     "name": "stdout",
     "output_type": "stream",
     "text": [
      "Epoch 120, Loss 0.0258\n",
      "Training Accuracy: 0.9701, Testing Accuracy: 0.9713\n",
      "\n"
     ]
    },
    {
     "name": "stdout",
     "output_type": "stream",
     "text": [
      "Epoch 130, Loss 0.0251\n",
      "Training Accuracy: 0.9710, Testing Accuracy: 0.9703\n",
      "\n"
     ]
    },
    {
     "name": "stdout",
     "output_type": "stream",
     "text": [
      "Epoch 140, Loss 0.0245\n",
      "Training Accuracy: 0.9720, Testing Accuracy: 0.9708\n",
      "\n"
     ]
    },
    {
     "name": "stdout",
     "output_type": "stream",
     "text": [
      "Epoch 150, Loss 0.0239\n",
      "Training Accuracy: 0.9725, Testing Accuracy: 0.9708\n",
      "\n"
     ]
    },
    {
     "name": "stdout",
     "output_type": "stream",
     "text": [
      "Epoch 160, Loss 0.0233\n",
      "Training Accuracy: 0.9730, Testing Accuracy: 0.9708\n",
      "\n"
     ]
    },
    {
     "name": "stdout",
     "output_type": "stream",
     "text": [
      "Epoch 170, Loss 0.0228\n",
      "Training Accuracy: 0.9736, Testing Accuracy: 0.9708\n",
      "\n"
     ]
    },
    {
     "name": "stdout",
     "output_type": "stream",
     "text": [
      "Epoch 180, Loss 0.0224\n",
      "Training Accuracy: 0.9743, Testing Accuracy: 0.9718\n",
      "\n"
     ]
    },
    {
     "name": "stdout",
     "output_type": "stream",
     "text": [
      "Epoch 190, Loss 0.0219\n",
      "Training Accuracy: 0.9747, Testing Accuracy: 0.9718\n",
      "\n"
     ]
    },
    {
     "name": "stdout",
     "output_type": "stream",
     "text": [
      "Epoch 200, Loss 0.0215\n",
      "Training Accuracy: 0.9755, Testing Accuracy: 0.9723\n",
      "\n"
     ]
    },
    {
     "name": "stdout",
     "output_type": "stream",
     "text": [
      "Epoch 210, Loss 0.0211\n",
      "Training Accuracy: 0.9758, Testing Accuracy: 0.9733\n",
      "\n"
     ]
    },
    {
     "name": "stdout",
     "output_type": "stream",
     "text": [
      "Epoch 220, Loss 0.0207\n",
      "Training Accuracy: 0.9761, Testing Accuracy: 0.9738\n",
      "\n"
     ]
    },
    {
     "name": "stdout",
     "output_type": "stream",
     "text": [
      "Epoch 230, Loss 0.0204\n",
      "Training Accuracy: 0.9768, Testing Accuracy: 0.9748\n",
      "\n"
     ]
    },
    {
     "name": "stdout",
     "output_type": "stream",
     "text": [
      "Epoch 240, Loss 0.02\n",
      "Training Accuracy: 0.9772, Testing Accuracy: 0.9758\n",
      "\n"
     ]
    },
    {
     "data": {
      "text/plain": [
       "0.0037188102587654985"
      ]
     },
     "execution_count": 22,
     "metadata": {},
     "output_type": "execute_result"
    }
   ],
   "source": [
    "nn_learner.train_loop(dl)"
   ]
  },
  {
   "cell_type": "code",
   "execution_count": 23,
   "id": "e0163366",
   "metadata": {
    "execution": {
     "iopub.execute_input": "2021-11-24T00:23:47.920885Z",
     "iopub.status.busy": "2021-11-24T00:23:47.920462Z",
     "iopub.status.idle": "2021-11-24T00:24:01.130051Z",
     "shell.execute_reply": "2021-11-24T00:24:01.130934Z"
    },
    "papermill": {
     "duration": 13.250469,
     "end_time": "2021-11-24T00:24:01.131100",
     "exception": false,
     "start_time": "2021-11-24T00:23:47.880631",
     "status": "completed"
    },
    "tags": []
   },
   "outputs": [
    {
     "name": "stdout",
     "output_type": "stream",
     "text": [
      "Epoch 0, Loss 0.2727\n",
      "Training Accuracy: 0.5367, Testing Accuracy: 0.5161\n",
      "\n"
     ]
    },
    {
     "name": "stdout",
     "output_type": "stream",
     "text": [
      "Epoch 10, Loss 0.0997\n",
      "Training Accuracy: 0.9244, Testing Accuracy: 0.9289\n",
      "\n"
     ]
    },
    {
     "name": "stdout",
     "output_type": "stream",
     "text": [
      "Epoch 20, Loss 0.077\n",
      "Training Accuracy: 0.9326, Testing Accuracy: 0.9405\n",
      "\n"
     ]
    },
    {
     "name": "stdout",
     "output_type": "stream",
     "text": [
      "Epoch 30, Loss 0.0669\n",
      "Training Accuracy: 0.9384, Testing Accuracy: 0.9446\n",
      "\n"
     ]
    },
    {
     "name": "stdout",
     "output_type": "stream",
     "text": [
      "Epoch 40, Loss 0.0608\n",
      "Training Accuracy: 0.9422, Testing Accuracy: 0.9481\n",
      "\n"
     ]
    },
    {
     "name": "stdout",
     "output_type": "stream",
     "text": [
      "Epoch 50, Loss 0.0566\n",
      "Training Accuracy: 0.9455, Testing Accuracy: 0.9496\n",
      "\n"
     ]
    },
    {
     "name": "stdout",
     "output_type": "stream",
     "text": [
      "Epoch 60, Loss 0.0535\n",
      "Training Accuracy: 0.9482, Testing Accuracy: 0.9516\n",
      "\n"
     ]
    },
    {
     "name": "stdout",
     "output_type": "stream",
     "text": [
      "Epoch 70, Loss 0.0511\n",
      "Training Accuracy: 0.9502, Testing Accuracy: 0.9556\n",
      "\n"
     ]
    },
    {
     "name": "stdout",
     "output_type": "stream",
     "text": [
      "Epoch 80, Loss 0.0491\n",
      "Training Accuracy: 0.9514, Testing Accuracy: 0.9567\n",
      "\n"
     ]
    },
    {
     "name": "stdout",
     "output_type": "stream",
     "text": [
      "Epoch 90, Loss 0.0475\n",
      "Training Accuracy: 0.9519, Testing Accuracy: 0.9582\n",
      "\n"
     ]
    },
    {
     "name": "stdout",
     "output_type": "stream",
     "text": [
      "Epoch 100, Loss 0.0461\n",
      "Training Accuracy: 0.9530, Testing Accuracy: 0.9592\n",
      "\n"
     ]
    },
    {
     "name": "stdout",
     "output_type": "stream",
     "text": [
      "Epoch 110, Loss 0.0449\n",
      "Training Accuracy: 0.9541, Testing Accuracy: 0.9612\n",
      "\n"
     ]
    },
    {
     "name": "stdout",
     "output_type": "stream",
     "text": [
      "Epoch 120, Loss 0.0438\n",
      "Training Accuracy: 0.9548, Testing Accuracy: 0.9607\n",
      "\n"
     ]
    },
    {
     "name": "stdout",
     "output_type": "stream",
     "text": [
      "Epoch 130, Loss 0.0429\n",
      "Training Accuracy: 0.9556, Testing Accuracy: 0.9622\n",
      "\n"
     ]
    },
    {
     "name": "stdout",
     "output_type": "stream",
     "text": [
      "Epoch 140, Loss 0.0421\n",
      "Training Accuracy: 0.9561, Testing Accuracy: 0.9632\n",
      "\n"
     ]
    },
    {
     "name": "stdout",
     "output_type": "stream",
     "text": [
      "Epoch 150, Loss 0.0414\n",
      "Training Accuracy: 0.9565, Testing Accuracy: 0.9637\n",
      "\n"
     ]
    },
    {
     "name": "stdout",
     "output_type": "stream",
     "text": [
      "Epoch 160, Loss 0.0407\n",
      "Training Accuracy: 0.9569, Testing Accuracy: 0.9637\n",
      "\n"
     ]
    },
    {
     "name": "stdout",
     "output_type": "stream",
     "text": [
      "Epoch 170, Loss 0.0401\n",
      "Training Accuracy: 0.9575, Testing Accuracy: 0.9647\n",
      "\n"
     ]
    },
    {
     "name": "stdout",
     "output_type": "stream",
     "text": [
      "Epoch 180, Loss 0.0395\n",
      "Training Accuracy: 0.9584, Testing Accuracy: 0.9652\n",
      "\n"
     ]
    },
    {
     "name": "stdout",
     "output_type": "stream",
     "text": [
      "Epoch 190, Loss 0.039\n",
      "Training Accuracy: 0.9593, Testing Accuracy: 0.9657\n",
      "\n"
     ]
    },
    {
     "name": "stdout",
     "output_type": "stream",
     "text": [
      "Epoch 200, Loss 0.0385\n",
      "Training Accuracy: 0.9595, Testing Accuracy: 0.9662\n",
      "\n"
     ]
    },
    {
     "name": "stdout",
     "output_type": "stream",
     "text": [
      "Epoch 210, Loss 0.0381\n",
      "Training Accuracy: 0.9598, Testing Accuracy: 0.9667\n",
      "\n"
     ]
    },
    {
     "name": "stdout",
     "output_type": "stream",
     "text": [
      "Epoch 220, Loss 0.0377\n",
      "Training Accuracy: 0.9599, Testing Accuracy: 0.9667\n",
      "\n"
     ]
    },
    {
     "name": "stdout",
     "output_type": "stream",
     "text": [
      "Epoch 230, Loss 0.0373\n",
      "Training Accuracy: 0.9601, Testing Accuracy: 0.9667\n",
      "\n"
     ]
    },
    {
     "name": "stdout",
     "output_type": "stream",
     "text": [
      "Epoch 240, Loss 0.0369\n",
      "Training Accuracy: 0.9603, Testing Accuracy: 0.9667\n",
      "\n"
     ]
    },
    {
     "data": {
      "text/plain": [
       "0.06384291054324577"
      ]
     },
     "execution_count": 23,
     "metadata": {},
     "output_type": "execute_result"
    }
   ],
   "source": [
    "lr_learner.train_loop(dl)"
   ]
  },
  {
   "cell_type": "code",
   "execution_count": 24,
   "id": "ca410940",
   "metadata": {
    "execution": {
     "iopub.execute_input": "2021-11-24T00:24:01.216844Z",
     "iopub.status.busy": "2021-11-24T00:24:01.216268Z",
     "iopub.status.idle": "2021-11-24T00:24:01.433914Z",
     "shell.execute_reply": "2021-11-24T00:24:01.434336Z"
    },
    "papermill": {
     "duration": 0.266037,
     "end_time": "2021-11-24T00:24:01.434480",
     "exception": false,
     "start_time": "2021-11-24T00:24:01.168443",
     "status": "completed"
    },
    "tags": []
   },
   "outputs": [
    {
     "data": {
      "text/plain": [
       "<matplotlib.legend.Legend at 0x7f535bfac898>"
      ]
     },
     "execution_count": 24,
     "metadata": {},
     "output_type": "execute_result"
    },
    {
     "data": {
      "image/png": "[encoded data removed]",
      "text/plain": [
       "<Figure size 1080x720 with 1 Axes>"
      ]
     },
     "metadata": {
      "needs_background": "light"
     },
     "output_type": "display_data"
    }
   ],
   "source": [
    "#comparing the results of NN and LR\n",
    "plt.figure(figsize=(15,10))\n",
    "\n",
    "# Neural Network plots\n",
    "plt.plot(acc_nn.accuracies, 'r-', label = \"Training Accuracies - NN\")\n",
    "plt.plot(acc_nn.test_accuracies, 'g-', label = \"Testing Accuracies - NN\")\n",
    "\n",
    "# Logistic Regression plots\n",
    "plt.plot(acc_lr.accuracies, 'k-', label = \"Training Accuracies - LR\")\n",
    "plt.plot(acc_lr.test_accuracies, 'b-', label = \"Testing Accuracies - LR\")\n",
    "plt.legend()"
   ]
  },
  {
   "cell_type": "markdown",
   "id": "80dfb35c",
   "metadata": {
    "papermill": {
     "duration": 0.038137,
     "end_time": "2021-11-24T00:24:01.513550",
     "exception": false,
     "start_time": "2021-11-24T00:24:01.475413",
     "status": "completed"
    },
    "tags": []
   },
   "source": [
    "#### Plotting the outputs of this layer of the NN.\n"
   ]
  },
  {
   "cell_type": "code",
   "execution_count": 25,
   "id": "45eb2ff5",
   "metadata": {
    "execution": {
     "iopub.execute_input": "2021-11-24T00:24:01.594217Z",
     "iopub.status.busy": "2021-11-24T00:24:01.593727Z",
     "iopub.status.idle": "2021-11-24T00:24:01.615387Z",
     "shell.execute_reply": "2021-11-24T00:24:01.615786Z"
    },
    "papermill": {
     "duration": 0.063598,
     "end_time": "2021-11-24T00:24:01.615895",
     "exception": false,
     "start_time": "2021-11-24T00:24:01.552297",
     "status": "completed"
    },
    "tags": []
   },
   "outputs": [],
   "source": [
    "new_model = Model(layers[:-2])\n",
    "testing_plot = new_model(testing_data_x)"
   ]
  },
  {
   "cell_type": "code",
   "execution_count": 26,
   "id": "4c0a5485",
   "metadata": {
    "execution": {
     "iopub.execute_input": "2021-11-24T00:24:01.696547Z",
     "iopub.status.busy": "2021-11-24T00:24:01.695987Z",
     "iopub.status.idle": "2021-11-24T00:24:01.919288Z",
     "shell.execute_reply": "2021-11-24T00:24:01.919759Z"
    },
    "papermill": {
     "duration": 0.266496,
     "end_time": "2021-11-24T00:24:01.919884",
     "exception": false,
     "start_time": "2021-11-24T00:24:01.653388",
     "status": "completed"
    },
    "tags": []
   },
   "outputs": [
    {
     "data": {
      "text/plain": [
       "Text(0.5, 1.0, 'Outputs')"
      ]
     },
     "execution_count": 26,
     "metadata": {},
     "output_type": "execute_result"
    },
    {
     "data": {
      "image/png": "[encoded data removed]",
      "text/plain": [
       "<Figure size 576x504 with 1 Axes>"
      ]
     },
     "metadata": {
      "needs_background": "light"
     },
     "output_type": "display_data"
    }
   ],
   "source": [
    "# Plotting the scatter plot of points and color coding by class\n",
    "plt.figure(figsize=(8,7))\n",
    "plt.scatter(testing_plot[:,0], testing_plot[:,1], alpha = 0.1, c = y_test.ravel());\n",
    "plt.title('Outputs')"
   ]
  },
  {
   "cell_type": "markdown",
   "id": "a74fcf8f",
   "metadata": {
    "papermill": {
     "duration": 0.043523,
     "end_time": "2021-11-24T00:24:02.009906",
     "exception": false,
     "start_time": "2021-11-24T00:24:01.966383",
     "status": "completed"
    },
    "tags": []
   },
   "source": [
    "Probability contours"
   ]
  },
  {
   "cell_type": "code",
   "execution_count": 27,
   "id": "d0afc8e3",
   "metadata": {
    "execution": {
     "iopub.execute_input": "2021-11-24T00:24:02.097504Z",
     "iopub.status.busy": "2021-11-24T00:24:02.096439Z",
     "iopub.status.idle": "2021-11-24T00:24:02.104949Z",
     "shell.execute_reply": "2021-11-24T00:24:02.104518Z"
    },
    "papermill": {
     "duration": 0.054319,
     "end_time": "2021-11-24T00:24:02.105034",
     "exception": false,
     "start_time": "2021-11-24T00:24:02.050715",
     "status": "completed"
    },
    "tags": []
   },
   "outputs": [],
   "source": [
    "model_prob = Model(layers[-2:]) "
   ]
  },
  {
   "cell_type": "code",
   "execution_count": 28,
   "id": "9b96e238",
   "metadata": {
    "execution": {
     "iopub.execute_input": "2021-11-24T00:24:02.218626Z",
     "iopub.status.busy": "2021-11-24T00:24:02.218012Z",
     "iopub.status.idle": "2021-11-24T00:24:02.231098Z",
     "shell.execute_reply": "2021-11-24T00:24:02.231491Z"
    },
    "papermill": {
     "duration": 0.0578,
     "end_time": "2021-11-24T00:24:02.231594",
     "exception": false,
     "start_time": "2021-11-24T00:24:02.173794",
     "status": "completed"
    },
    "tags": []
   },
   "outputs": [],
   "source": [
    "#creating the x and y ranges according to the above generated plot.\n",
    "x_range = np.linspace(-4, 1, 100) \n",
    "y_range = np.linspace(-6, 6, 100) \n",
    "x_grid, y_grid = np.meshgrid(x_range, y_range) # x_grid and y_grig are of size 100 X 100\n",
    "\n",
    "# converting x_grid and y_grid to continuous arrays\n",
    "x_gridflat = np.ravel(x_grid)\n",
    "y_gridflat = np.ravel(y_grid)\n",
    "\n",
    "# The last layer of the current model takes two columns as input. Hence transpose of np.vstack() is required.\n",
    "X = np.vstack((x_gridflat, y_gridflat)).T\n",
    "\n",
    "prob_contour = model_prob(X).reshape(100,100) "
   ]
  },
  {
   "cell_type": "code",
   "execution_count": 29,
   "id": "da72499a",
   "metadata": {
    "execution": {
     "iopub.execute_input": "2021-11-24T00:24:02.320221Z",
     "iopub.status.busy": "2021-11-24T00:24:02.319620Z",
     "iopub.status.idle": "2021-11-24T00:24:02.561523Z",
     "shell.execute_reply": "2021-11-24T00:24:02.561958Z"
    },
    "papermill": {
     "duration": 0.289032,
     "end_time": "2021-11-24T00:24:02.562097",
     "exception": false,
     "start_time": "2021-11-24T00:24:02.273065",
     "status": "completed"
    },
    "tags": []
   },
   "outputs": [
    {
     "data": {
      "image/png": "[encoded data removed]",
      "text/plain": [
       "<Figure size 720x648 with 1 Axes>"
      ]
     },
     "metadata": {
      "needs_background": "light"
     },
     "output_type": "display_data"
    }
   ],
   "source": [
    "plt.figure(figsize=(10,9))\n",
    "plt.scatter(testing_plot[:,0], testing_plot[:,1], alpha = 0.1, c = y_test.ravel())\n",
    "contours = plt.contour(x_grid,y_grid,prob_contour)\n",
    "plt.title('Probability Contours')\n",
    "plt.clabel(contours, inline = True );"
   ]
  },
  {
   "cell_type": "code",
   "execution_count": null,
   "id": "e81b4ac7",
   "metadata": {
    "papermill": {
     "duration": 0.041369,
     "end_time": "2021-11-24T00:24:02.646635",
     "exception": false,
     "start_time": "2021-11-24T00:24:02.605266",
     "status": "completed"
    },
    "tags": []
   },
   "outputs": [],
   "source": []
  }
 ],
 "metadata": {
  "kernelspec": {
   "display_name": "Python 3",
   "language": "python",
   "name": "python3"
  },
  "language_info": {
   "codemirror_mode": {
    "name": "ipython",
    "version": 3
   },
   "file_extension": ".py",
   "mimetype": "text/x-python",
   "name": "python",
   "nbconvert_exporter": "python",
   "pygments_lexer": "ipython3",
   "version": "3.6.15"
  },
  "papermill": {
   "default_parameters": {},
   "duration": 97.776528,
   "end_time": "2021-11-24T00:24:02.996289",
   "environment_variables": {},
   "exception": null,
   "input_path": "2020-08-11-part2.ipynb",
   "output_path": "2020-08-11-part2.ipynb",
   "parameters": {},
   "start_time": "2021-11-24T00:22:25.219761",
   "version": "2.3.3"
  }
 },
 "nbformat": 4,
 "nbformat_minor": 5
}