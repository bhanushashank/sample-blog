{
 "cells": [
  {
   "cell_type": "markdown",
   "id": "98380cd3",
   "metadata": {
    "papermill": {
     "duration": 0.032902,
     "end_time": "2022-01-11T20:08:35.666482",
     "exception": false,
     "start_time": "2022-01-11T20:08:35.633580",
     "status": "completed"
    },
    "tags": []
   },
   "source": [
    "# Distinguish Your Own Digits (DYOD)"
   ]
  },
  {
   "cell_type": "markdown",
   "id": "ef31240d",
   "metadata": {
    "papermill": {
     "duration": 0.036859,
     "end_time": "2022-01-11T20:08:35.731971",
     "exception": false,
     "start_time": "2022-01-11T20:08:35.695112",
     "status": "completed"
    },
    "tags": []
   },
   "source": [
    "You are going to write a classifier that distinguishes between the number 3 and number 8."
   ]
  },
  {
   "cell_type": "code",
   "execution_count": 1,
   "id": "b15c8646",
   "metadata": {
    "execution": {
     "iopub.execute_input": "2022-01-11T20:08:35.800720Z",
     "iopub.status.busy": "2022-01-11T20:08:35.800151Z",
     "iopub.status.idle": "2022-01-11T20:08:35.811401Z",
     "shell.execute_reply": "2022-01-11T20:08:35.811957Z"
    },
    "papermill": {
     "duration": 0.051771,
     "end_time": "2022-01-11T20:08:35.812244",
     "exception": false,
     "start_time": "2022-01-11T20:08:35.760473",
     "status": "completed"
    },
    "tags": []
   },
   "outputs": [],
   "source": [
    "%load_ext autoreload\n",
    "%autoreload 2"
   ]
  },
  {
   "cell_type": "code",
   "execution_count": 2,
   "id": "22ef38dc",
   "metadata": {
    "execution": {
     "iopub.execute_input": "2022-01-11T20:08:35.873322Z",
     "iopub.status.busy": "2022-01-11T20:08:35.872554Z",
     "iopub.status.idle": "2022-01-11T20:08:36.542318Z",
     "shell.execute_reply": "2022-01-11T20:08:36.538751Z"
    },
    "papermill": {
     "duration": 0.702355,
     "end_time": "2022-01-11T20:08:36.542465",
     "exception": false,
     "start_time": "2022-01-11T20:08:35.840110",
     "status": "completed"
    },
    "tags": []
   },
   "outputs": [],
   "source": [
    "%matplotlib inline\n",
    "import numpy as np\n",
    "import matplotlib.pyplot as plt\n",
    "import pandas as pd"
   ]
  },
  {
   "cell_type": "markdown",
   "id": "ba036198",
   "metadata": {
    "papermill": {
     "duration": 0.028023,
     "end_time": "2022-01-11T20:08:36.598466",
     "exception": false,
     "start_time": "2022-01-11T20:08:36.570443",
     "status": "completed"
    },
    "tags": []
   },
   "source": [
    "From the command line run `pip install mnist`. This is a library that will help you bring down the mnist dataset. If you run this from a notebook, you need to put  `!pip install mnist` in a cell by itself."
   ]
  },
  {
   "cell_type": "code",
   "execution_count": 3,
   "id": "bb6ad8a1",
   "metadata": {
    "execution": {
     "iopub.execute_input": "2022-01-11T20:08:36.664888Z",
     "iopub.status.busy": "2022-01-11T20:08:36.664174Z",
     "iopub.status.idle": "2022-01-11T20:08:38.645957Z",
     "shell.execute_reply": "2022-01-11T20:08:38.645392Z"
    },
    "papermill": {
     "duration": 2.017842,
     "end_time": "2022-01-11T20:08:38.646105",
     "exception": false,
     "start_time": "2022-01-11T20:08:36.628263",
     "status": "completed"
    },
    "tags": []
   },
   "outputs": [
    {
     "name": "stdout",
     "output_type": "stream",
     "text": [
      "Collecting mnist\r\n"
     ]
    },
    {
     "name": "stdout",
     "output_type": "stream",
     "text": [
      "  Downloading mnist-0.2.2-py2.py3-none-any.whl (3.5 kB)\r\n",
      "Requirement already satisfied: numpy in /opt/hostedtoolcache/Python/3.6.15/x64/lib/python3.6/site-packages (from mnist) (1.19.5)\r\n"
     ]
    },
    {
     "name": "stdout",
     "output_type": "stream",
     "text": [
      "Installing collected packages: mnist\r\n"
     ]
    },
    {
     "name": "stdout",
     "output_type": "stream",
     "text": [
      "Successfully installed mnist-0.2.2\r\n"
     ]
    }
   ],
   "source": [
    "!pip install mnist"
   ]
  },
  {
   "cell_type": "markdown",
   "id": "69df9c9a",
   "metadata": {
    "papermill": {
     "duration": 0.029296,
     "end_time": "2022-01-11T20:08:38.707521",
     "exception": false,
     "start_time": "2022-01-11T20:08:38.678225",
     "status": "completed"
    },
    "tags": []
   },
   "source": [
    "## Preparing the Data"
   ]
  },
  {
   "cell_type": "code",
   "execution_count": 4,
   "id": "7f69d806",
   "metadata": {
    "execution": {
     "iopub.execute_input": "2022-01-11T20:08:38.768646Z",
     "iopub.status.busy": "2022-01-11T20:08:38.768047Z",
     "iopub.status.idle": "2022-01-11T20:08:38.781407Z",
     "shell.execute_reply": "2022-01-11T20:08:38.782084Z"
    },
    "papermill": {
     "duration": 0.046796,
     "end_time": "2022-01-11T20:08:38.782220",
     "exception": false,
     "start_time": "2022-01-11T20:08:38.735424",
     "status": "completed"
    },
    "tags": []
   },
   "outputs": [],
   "source": [
    "import mnist"
   ]
  },
  {
   "cell_type": "code",
   "execution_count": 5,
   "id": "a411e44f",
   "metadata": {
    "execution": {
     "iopub.execute_input": "2022-01-11T20:08:38.846949Z",
     "iopub.status.busy": "2022-01-11T20:08:38.846333Z",
     "iopub.status.idle": "2022-01-11T20:08:39.517462Z",
     "shell.execute_reply": "2022-01-11T20:08:39.516633Z"
    },
    "papermill": {
     "duration": 0.707726,
     "end_time": "2022-01-11T20:08:39.517599",
     "exception": false,
     "start_time": "2022-01-11T20:08:38.809873",
     "status": "completed"
    },
    "tags": []
   },
   "outputs": [],
   "source": [
    "train_images = mnist.train_images()\n",
    "train_labels = mnist.train_labels()"
   ]
  },
  {
   "cell_type": "code",
   "execution_count": 6,
   "id": "dceab3a5",
   "metadata": {
    "execution": {
     "iopub.execute_input": "2022-01-11T20:08:39.581326Z",
     "iopub.status.busy": "2022-01-11T20:08:39.580700Z",
     "iopub.status.idle": "2022-01-11T20:08:39.594652Z",
     "shell.execute_reply": "2022-01-11T20:08:39.595203Z"
    },
    "papermill": {
     "duration": 0.049274,
     "end_time": "2022-01-11T20:08:39.595328",
     "exception": false,
     "start_time": "2022-01-11T20:08:39.546054",
     "status": "completed"
    },
    "tags": []
   },
   "outputs": [
    {
     "data": {
      "text/plain": [
       "((60000, 28, 28), (60000,))"
      ]
     },
     "execution_count": 6,
     "metadata": {},
     "output_type": "execute_result"
    }
   ],
   "source": [
    "train_images.shape, train_labels.shape"
   ]
  },
  {
   "cell_type": "code",
   "execution_count": 7,
   "id": "f50dc2bb",
   "metadata": {
    "execution": {
     "iopub.execute_input": "2022-01-11T20:08:39.654486Z",
     "iopub.status.busy": "2022-01-11T20:08:39.653906Z",
     "iopub.status.idle": "2022-01-11T20:08:40.523136Z",
     "shell.execute_reply": "2022-01-11T20:08:40.523900Z"
    },
    "papermill": {
     "duration": 0.901533,
     "end_time": "2022-01-11T20:08:40.524102",
     "exception": false,
     "start_time": "2022-01-11T20:08:39.622569",
     "status": "completed"
    },
    "tags": []
   },
   "outputs": [],
   "source": [
    "test_images = mnist.test_images()\n",
    "test_labels = mnist.test_labels()"
   ]
  },
  {
   "cell_type": "code",
   "execution_count": 8,
   "id": "fc38cf1b",
   "metadata": {
    "execution": {
     "iopub.execute_input": "2022-01-11T20:08:40.593474Z",
     "iopub.status.busy": "2022-01-11T20:08:40.592652Z",
     "iopub.status.idle": "2022-01-11T20:08:40.607924Z",
     "shell.execute_reply": "2022-01-11T20:08:40.606987Z"
    },
    "papermill": {
     "duration": 0.053791,
     "end_time": "2022-01-11T20:08:40.608071",
     "exception": false,
     "start_time": "2022-01-11T20:08:40.554280",
     "status": "completed"
    },
    "tags": []
   },
   "outputs": [
    {
     "data": {
      "text/plain": [
       "((10000, 28, 28), (10000,))"
      ]
     },
     "execution_count": 8,
     "metadata": {},
     "output_type": "execute_result"
    }
   ],
   "source": [
    "test_images.shape, test_labels.shape"
   ]
  },
  {
   "cell_type": "code",
   "execution_count": 9,
   "id": "f9ed8fe0",
   "metadata": {
    "execution": {
     "iopub.execute_input": "2022-01-11T20:08:40.669857Z",
     "iopub.status.busy": "2022-01-11T20:08:40.669229Z",
     "iopub.status.idle": "2022-01-11T20:08:40.859180Z",
     "shell.execute_reply": "2022-01-11T20:08:40.858668Z"
    },
    "papermill": {
     "duration": 0.221341,
     "end_time": "2022-01-11T20:08:40.859305",
     "exception": false,
     "start_time": "2022-01-11T20:08:40.637964",
     "status": "completed"
    },
    "tags": []
   },
   "outputs": [
    {
     "name": "stdout",
     "output_type": "stream",
     "text": [
      "2\n"
     ]
    },
    {
     "data": {
      "text/plain": [
       "<matplotlib.image.AxesImage at 0x7fbf37055358>"
      ]
     },
     "execution_count": 9,
     "metadata": {},
     "output_type": "execute_result"
    },
    {
     "data": {
      "image/png": "[encoded data removed]",
      "text/plain": [
       "<Figure size 432x288 with 1 Axes>"
      ]
     },
     "metadata": {
      "needs_background": "light"
     },
     "output_type": "display_data"
    }
   ],
   "source": [
    "image_index = 7776 # You may select anything up to 60,000\n",
    "print(train_labels[image_index]) \n",
    "plt.imshow(train_images[image_index], cmap='Greys')"
   ]
  },
  {
   "cell_type": "markdown",
   "id": "a8d2388d",
   "metadata": {
    "papermill": {
     "duration": 0.029313,
     "end_time": "2022-01-11T20:08:40.919248",
     "exception": false,
     "start_time": "2022-01-11T20:08:40.889935",
     "status": "completed"
    },
    "tags": []
   },
   "source": [
    "## Filter data to get 3 and 8 out"
   ]
  },
  {
   "cell_type": "code",
   "execution_count": 10,
   "id": "776f7fc7",
   "metadata": {
    "execution": {
     "iopub.execute_input": "2022-01-11T20:08:40.992982Z",
     "iopub.status.busy": "2022-01-11T20:08:40.992216Z",
     "iopub.status.idle": "2022-01-11T20:08:41.011709Z",
     "shell.execute_reply": "2022-01-11T20:08:41.012308Z"
    },
    "papermill": {
     "duration": 0.058345,
     "end_time": "2022-01-11T20:08:41.012470",
     "exception": false,
     "start_time": "2022-01-11T20:08:40.954125",
     "status": "completed"
    },
    "tags": []
   },
   "outputs": [],
   "source": [
    "train_filter = np.where((train_labels == 3 ) | (train_labels == 8))\n",
    "test_filter = np.where((test_labels == 3) | (test_labels == 8))\n",
    "X_train, y_train = train_images[train_filter], train_labels[train_filter]\n",
    "X_test, y_test = test_images[test_filter], test_labels[test_filter]"
   ]
  },
  {
   "cell_type": "markdown",
   "id": "948f0b7e",
   "metadata": {
    "papermill": {
     "duration": 0.032723,
     "end_time": "2022-01-11T20:08:41.078975",
     "exception": false,
     "start_time": "2022-01-11T20:08:41.046252",
     "status": "completed"
    },
    "tags": []
   },
   "source": [
    "We normalize the pizel values in the 0 to 1 range"
   ]
  },
  {
   "cell_type": "code",
   "execution_count": 11,
   "id": "ee4c2166",
   "metadata": {
    "execution": {
     "iopub.execute_input": "2022-01-11T20:08:41.149251Z",
     "iopub.status.busy": "2022-01-11T20:08:41.148388Z",
     "iopub.status.idle": "2022-01-11T20:08:41.210559Z",
     "shell.execute_reply": "2022-01-11T20:08:41.209994Z"
    },
    "papermill": {
     "duration": 0.098817,
     "end_time": "2022-01-11T20:08:41.210696",
     "exception": false,
     "start_time": "2022-01-11T20:08:41.111879",
     "status": "completed"
    },
    "tags": []
   },
   "outputs": [],
   "source": [
    "X_train = X_train/255.\n",
    "X_test = X_test/255."
   ]
  },
  {
   "cell_type": "markdown",
   "id": "ddcf4fab",
   "metadata": {
    "papermill": {
     "duration": 0.03001,
     "end_time": "2022-01-11T20:08:41.272122",
     "exception": false,
     "start_time": "2022-01-11T20:08:41.242112",
     "status": "completed"
    },
    "tags": []
   },
   "source": [
    "And setup the labels as 1 (when the digit is 3) and 0 (when the digit is 8)"
   ]
  },
  {
   "cell_type": "code",
   "execution_count": 12,
   "id": "7dc908f2",
   "metadata": {
    "execution": {
     "iopub.execute_input": "2022-01-11T20:08:41.338743Z",
     "iopub.status.busy": "2022-01-11T20:08:41.338108Z",
     "iopub.status.idle": "2022-01-11T20:08:41.351836Z",
     "shell.execute_reply": "2022-01-11T20:08:41.352500Z"
    },
    "papermill": {
     "duration": 0.048755,
     "end_time": "2022-01-11T20:08:41.352650",
     "exception": false,
     "start_time": "2022-01-11T20:08:41.303895",
     "status": "completed"
    },
    "tags": []
   },
   "outputs": [],
   "source": [
    "y_train = 1*(y_train==3)\n",
    "y_test = 1*(y_test==3)"
   ]
  },
  {
   "cell_type": "code",
   "execution_count": 13,
   "id": "01e4e969",
   "metadata": {
    "execution": {
     "iopub.execute_input": "2022-01-11T20:08:41.423110Z",
     "iopub.status.busy": "2022-01-11T20:08:41.422539Z",
     "iopub.status.idle": "2022-01-11T20:08:41.435934Z",
     "shell.execute_reply": "2022-01-11T20:08:41.436614Z"
    },
    "papermill": {
     "duration": 0.050571,
     "end_time": "2022-01-11T20:08:41.436759",
     "exception": false,
     "start_time": "2022-01-11T20:08:41.386188",
     "status": "completed"
    },
    "tags": []
   },
   "outputs": [
    {
     "data": {
      "text/plain": [
       "((11982, 28, 28), (1984, 28, 28))"
      ]
     },
     "execution_count": 13,
     "metadata": {},
     "output_type": "execute_result"
    }
   ],
   "source": [
    "X_train.shape, X_test.shape"
   ]
  },
  {
   "cell_type": "markdown",
   "id": "5ccf3f85",
   "metadata": {
    "papermill": {
     "duration": 0.031627,
     "end_time": "2022-01-11T20:08:41.498718",
     "exception": false,
     "start_time": "2022-01-11T20:08:41.467091",
     "status": "completed"
    },
    "tags": []
   },
   "source": [
    "We reshape the data to flatten the image pixels into a set of features or co-variates:"
   ]
  },
  {
   "cell_type": "code",
   "execution_count": 14,
   "id": "5286a4a3",
   "metadata": {
    "execution": {
     "iopub.execute_input": "2022-01-11T20:08:41.562800Z",
     "iopub.status.busy": "2022-01-11T20:08:41.561942Z",
     "iopub.status.idle": "2022-01-11T20:08:41.576928Z",
     "shell.execute_reply": "2022-01-11T20:08:41.576456Z"
    },
    "papermill": {
     "duration": 0.047773,
     "end_time": "2022-01-11T20:08:41.577042",
     "exception": false,
     "start_time": "2022-01-11T20:08:41.529269",
     "status": "completed"
    },
    "tags": []
   },
   "outputs": [
    {
     "data": {
      "text/plain": [
       "((11982, 784), (1984, 784))"
      ]
     },
     "execution_count": 14,
     "metadata": {},
     "output_type": "execute_result"
    }
   ],
   "source": [
    "X_train = X_train.reshape(X_train.shape[0], -1)\n",
    "X_test = X_test.reshape(X_test.shape[0], -1)\n",
    "X_train.shape, X_test.shape"
   ]
  },
  {
   "cell_type": "code",
   "execution_count": 15,
   "id": "73c5f88a",
   "metadata": {
    "execution": {
     "iopub.execute_input": "2022-01-11T20:08:41.649472Z",
     "iopub.status.busy": "2022-01-11T20:08:41.648871Z",
     "iopub.status.idle": "2022-01-11T20:08:41.667711Z",
     "shell.execute_reply": "2022-01-11T20:08:41.668321Z"
    },
    "papermill": {
     "duration": 0.05875,
     "end_time": "2022-01-11T20:08:41.668449",
     "exception": false,
     "start_time": "2022-01-11T20:08:41.609699",
     "status": "completed"
    },
    "tags": []
   },
   "outputs": [],
   "source": [
    "#Impoting functions from 'Kudzu'\n",
    "from kudzu.model import Model\n",
    "from kudzu.train import Learner\n",
    "from kudzu.optim import GD\n",
    "from kudzu.data import Data, Sampler,Dataloader\n",
    "\n",
    "from kudzu.callbacks import AccCallback\n",
    "from kudzu.callbacks import ClfCallback\n",
    "\n",
    "from kudzu.loss import MSE\n",
    "\n",
    "from kudzu.layer import Sigmoid,Relu\n",
    "from kudzu.layer import Affine"
   ]
  },
  {
   "cell_type": "markdown",
   "id": "bc01172a",
   "metadata": {
    "papermill": {
     "duration": 0.031015,
     "end_time": "2022-01-11T20:08:41.729911",
     "exception": false,
     "start_time": "2022-01-11T20:08:41.698896",
     "status": "completed"
    },
    "tags": []
   },
   "source": [
    "### Let us create a `Config` class, to store important parameters. \n",
    "This class essentially plays the role of a dictionary."
   ]
  },
  {
   "cell_type": "code",
   "execution_count": 16,
   "id": "978281aa",
   "metadata": {
    "execution": {
     "iopub.execute_input": "2022-01-11T20:08:41.795977Z",
     "iopub.status.busy": "2022-01-11T20:08:41.795365Z",
     "iopub.status.idle": "2022-01-11T20:08:41.808020Z",
     "shell.execute_reply": "2022-01-11T20:08:41.807371Z"
    },
    "papermill": {
     "duration": 0.048885,
     "end_time": "2022-01-11T20:08:41.808135",
     "exception": false,
     "start_time": "2022-01-11T20:08:41.759250",
     "status": "completed"
    },
    "tags": []
   },
   "outputs": [],
   "source": [
    "class Config:\n",
    "    pass\n",
    "config = Config()\n",
    "config.lr = 0.001\n",
    "config.num_epochs = 250\n",
    "config.bs = 50"
   ]
  },
  {
   "cell_type": "markdown",
   "id": "1385fa59",
   "metadata": {
    "papermill": {
     "duration": 0.031221,
     "end_time": "2022-01-11T20:08:41.875200",
     "exception": false,
     "start_time": "2022-01-11T20:08:41.843979",
     "status": "completed"
    },
    "tags": []
   },
   "source": [
    "### Running Models with the Training data\n",
    "Details about the network layers:\n",
    "- A first affine layer has 784 inputs and does 100 affine transforms. These are followed by a Relu\n",
    "- A second affine layer has 100 inputs from the 100 activations of the past layer, and does 100 affine transforms. These are followed by a Relu\n",
    "- A third affine layer has 100 activations and does 2 affine transformations to create an embedding for visualization. There is no non-linearity here.\n",
    "- A final \"logistic regression\" which has an affine transform from 2 inputs to 1 output, which is squeezed through a sigmoid.\n"
   ]
  },
  {
   "cell_type": "code",
   "execution_count": 17,
   "id": "2b9c66db",
   "metadata": {
    "execution": {
     "iopub.execute_input": "2022-01-11T20:08:41.944646Z",
     "iopub.status.busy": "2022-01-11T20:08:41.943928Z",
     "iopub.status.idle": "2022-01-11T20:08:41.958781Z",
     "shell.execute_reply": "2022-01-11T20:08:41.958252Z"
    },
    "papermill": {
     "duration": 0.052486,
     "end_time": "2022-01-11T20:08:41.958930",
     "exception": false,
     "start_time": "2022-01-11T20:08:41.906444",
     "status": "completed"
    },
    "tags": []
   },
   "outputs": [],
   "source": [
    "data = Data(X_train, y_train.reshape(-1,1))\n",
    "sampler = Sampler(data, config.bs, shuffle=True)\n",
    "\n",
    "dl = Dataloader(data, sampler)\n",
    "\n",
    "opt = GD(config.lr)\n",
    "loss = MSE()"
   ]
  },
  {
   "cell_type": "code",
   "execution_count": 18,
   "id": "b275e4c2",
   "metadata": {
    "execution": {
     "iopub.execute_input": "2022-01-11T20:08:42.030427Z",
     "iopub.status.busy": "2022-01-11T20:08:42.029321Z",
     "iopub.status.idle": "2022-01-11T20:08:42.042803Z",
     "shell.execute_reply": "2022-01-11T20:08:42.043306Z"
    },
    "papermill": {
     "duration": 0.050598,
     "end_time": "2022-01-11T20:08:42.043442",
     "exception": false,
     "start_time": "2022-01-11T20:08:41.992844",
     "status": "completed"
    },
    "tags": []
   },
   "outputs": [],
   "source": [
    "training_data_x = X_train\n",
    "testing_data_x = X_test\n",
    "training_data_y = y_train.reshape(-1,1)\n",
    "testing_data_y = y_test.reshape(-1,1)"
   ]
  },
  {
   "cell_type": "code",
   "execution_count": 19,
   "id": "76951160",
   "metadata": {
    "execution": {
     "iopub.execute_input": "2022-01-11T20:08:42.122005Z",
     "iopub.status.busy": "2022-01-11T20:08:42.121332Z",
     "iopub.status.idle": "2022-01-11T20:08:42.140809Z",
     "shell.execute_reply": "2022-01-11T20:08:42.139865Z"
    },
    "papermill": {
     "duration": 0.061417,
     "end_time": "2022-01-11T20:08:42.140934",
     "exception": false,
     "start_time": "2022-01-11T20:08:42.079517",
     "status": "completed"
    },
    "tags": []
   },
   "outputs": [
    {
     "name": "stdout",
     "output_type": "stream",
     "text": [
      "xavier\n",
      "xavier\n",
      "xavier\n",
      "xavier\n",
      "xavier\n"
     ]
    }
   ],
   "source": [
    "layers = [Affine(\"first\", 784, 100), Relu(\"first\"), Affine(\"second\", 100, 100), Relu(\"second\"), Affine(\"third\", 100, 2), Affine(\"last\", 2, 1), Sigmoid(\"last\")]\n",
    "model_nn = Model(layers)\n",
    "model_lr = Model([Affine(\"logits\", 784, 1), Sigmoid(\"sigmoid\")])"
   ]
  },
  {
   "cell_type": "code",
   "execution_count": 20,
   "id": "6eede77a",
   "metadata": {
    "execution": {
     "iopub.execute_input": "2022-01-11T20:08:42.210665Z",
     "iopub.status.busy": "2022-01-11T20:08:42.209937Z",
     "iopub.status.idle": "2022-01-11T20:08:42.224854Z",
     "shell.execute_reply": "2022-01-11T20:08:42.224042Z"
    },
    "papermill": {
     "duration": 0.051855,
     "end_time": "2022-01-11T20:08:42.224997",
     "exception": false,
     "start_time": "2022-01-11T20:08:42.173142",
     "status": "completed"
    },
    "tags": []
   },
   "outputs": [],
   "source": [
    "nn_learner = Learner(loss, model_nn, opt, config.num_epochs)\n",
    "acc_nn = ClfCallback(nn_learner, config.bs, training_data_x , testing_data_x, training_data_y, testing_data_y)\n",
    "nn_learner.set_callbacks([acc_nn])"
   ]
  },
  {
   "cell_type": "code",
   "execution_count": 21,
   "id": "877b6cc7",
   "metadata": {
    "execution": {
     "iopub.execute_input": "2022-01-11T20:08:42.297180Z",
     "iopub.status.busy": "2022-01-11T20:08:42.296549Z",
     "iopub.status.idle": "2022-01-11T20:08:42.309796Z",
     "shell.execute_reply": "2022-01-11T20:08:42.308991Z"
    },
    "papermill": {
     "duration": 0.05315,
     "end_time": "2022-01-11T20:08:42.309927",
     "exception": false,
     "start_time": "2022-01-11T20:08:42.256777",
     "status": "completed"
    },
    "tags": []
   },
   "outputs": [],
   "source": [
    "lr_learner = Learner(loss, model_lr, opt, config.num_epochs)\n",
    "acc_lr = ClfCallback(lr_learner, config.bs, training_data_x , testing_data_x, training_data_y, testing_data_y)\n",
    "lr_learner.set_callbacks([acc_lr])"
   ]
  },
  {
   "cell_type": "code",
   "execution_count": 22,
   "id": "d9b133c3",
   "metadata": {
    "execution": {
     "iopub.execute_input": "2022-01-11T20:08:42.384015Z",
     "iopub.status.busy": "2022-01-11T20:08:42.383303Z",
     "iopub.status.idle": "2022-01-11T20:11:07.020050Z",
     "shell.execute_reply": "2022-01-11T20:11:07.021011Z"
    },
    "papermill": {
     "duration": 144.676162,
     "end_time": "2022-01-11T20:11:07.021164",
     "exception": false,
     "start_time": "2022-01-11T20:08:42.345002",
     "status": "completed"
    },
    "tags": []
   },
   "outputs": [
    {
     "name": "stdout",
     "output_type": "stream",
     "text": [
      "Epoch 0, Loss 0.2284\n",
      "Training Accuracy: 0.7535, Testing Accuracy: 0.7460\n",
      "\n"
     ]
    },
    {
     "name": "stdout",
     "output_type": "stream",
     "text": [
      "Epoch 10, Loss 0.0608\n",
      "Training Accuracy: 0.9397, Testing Accuracy: 0.9516\n",
      "\n"
     ]
    },
    {
     "name": "stdout",
     "output_type": "stream",
     "text": [
      "Epoch 20, Loss 0.0422\n",
      "Training Accuracy: 0.9544, Testing Accuracy: 0.9652\n",
      "\n"
     ]
    },
    {
     "name": "stdout",
     "output_type": "stream",
     "text": [
      "Epoch 30, Loss 0.0353\n",
      "Training Accuracy: 0.9610, Testing Accuracy: 0.9682\n",
      "\n"
     ]
    },
    {
     "name": "stdout",
     "output_type": "stream",
     "text": [
      "Epoch 40, Loss 0.0316\n",
      "Training Accuracy: 0.9645, Testing Accuracy: 0.9708\n",
      "\n"
     ]
    },
    {
     "name": "stdout",
     "output_type": "stream",
     "text": [
      "Epoch 50, Loss 0.0292\n",
      "Training Accuracy: 0.9668, Testing Accuracy: 0.9708\n",
      "\n"
     ]
    },
    {
     "name": "stdout",
     "output_type": "stream",
     "text": [
      "Epoch 60, Loss 0.0274\n",
      "Training Accuracy: 0.9682, Testing Accuracy: 0.9718\n",
      "\n"
     ]
    },
    {
     "name": "stdout",
     "output_type": "stream",
     "text": [
      "Epoch 70, Loss 0.0259\n",
      "Training Accuracy: 0.9703, Testing Accuracy: 0.9723\n",
      "\n"
     ]
    },
    {
     "name": "stdout",
     "output_type": "stream",
     "text": [
      "Epoch 80, Loss 0.0247\n",
      "Training Accuracy: 0.9720, Testing Accuracy: 0.9733\n",
      "\n"
     ]
    },
    {
     "name": "stdout",
     "output_type": "stream",
     "text": [
      "Epoch 90, Loss 0.0237\n",
      "Training Accuracy: 0.9730, Testing Accuracy: 0.9733\n",
      "\n"
     ]
    },
    {
     "name": "stdout",
     "output_type": "stream",
     "text": [
      "Epoch 100, Loss 0.0228\n",
      "Training Accuracy: 0.9741, Testing Accuracy: 0.9728\n",
      "\n"
     ]
    },
    {
     "name": "stdout",
     "output_type": "stream",
     "text": [
      "Epoch 110, Loss 0.022\n",
      "Training Accuracy: 0.9752, Testing Accuracy: 0.9738\n",
      "\n"
     ]
    },
    {
     "name": "stdout",
     "output_type": "stream",
     "text": [
      "Epoch 120, Loss 0.0213\n",
      "Training Accuracy: 0.9758, Testing Accuracy: 0.9733\n",
      "\n"
     ]
    },
    {
     "name": "stdout",
     "output_type": "stream",
     "text": [
      "Epoch 130, Loss 0.0206\n",
      "Training Accuracy: 0.9768, Testing Accuracy: 0.9743\n",
      "\n"
     ]
    },
    {
     "name": "stdout",
     "output_type": "stream",
     "text": [
      "Epoch 140, Loss 0.02\n",
      "Training Accuracy: 0.9774, Testing Accuracy: 0.9758\n",
      "\n"
     ]
    },
    {
     "name": "stdout",
     "output_type": "stream",
     "text": [
      "Epoch 150, Loss 0.0194\n",
      "Training Accuracy: 0.9784, Testing Accuracy: 0.9763\n",
      "\n"
     ]
    },
    {
     "name": "stdout",
     "output_type": "stream",
     "text": [
      "Epoch 160, Loss 0.0189\n",
      "Training Accuracy: 0.9792, Testing Accuracy: 0.9758\n",
      "\n"
     ]
    },
    {
     "name": "stdout",
     "output_type": "stream",
     "text": [
      "Epoch 170, Loss 0.0183\n",
      "Training Accuracy: 0.9797, Testing Accuracy: 0.9758\n",
      "\n"
     ]
    },
    {
     "name": "stdout",
     "output_type": "stream",
     "text": [
      "Epoch 180, Loss 0.0178\n",
      "Training Accuracy: 0.9806, Testing Accuracy: 0.9763\n",
      "\n"
     ]
    },
    {
     "name": "stdout",
     "output_type": "stream",
     "text": [
      "Epoch 190, Loss 0.0173\n",
      "Training Accuracy: 0.9808, Testing Accuracy: 0.9768\n",
      "\n"
     ]
    },
    {
     "name": "stdout",
     "output_type": "stream",
     "text": [
      "Epoch 200, Loss 0.0169\n",
      "Training Accuracy: 0.9816, Testing Accuracy: 0.9783\n",
      "\n"
     ]
    },
    {
     "name": "stdout",
     "output_type": "stream",
     "text": [
      "Epoch 210, Loss 0.0164\n",
      "Training Accuracy: 0.9820, Testing Accuracy: 0.9783\n",
      "\n"
     ]
    },
    {
     "name": "stdout",
     "output_type": "stream",
     "text": [
      "Epoch 220, Loss 0.016\n",
      "Training Accuracy: 0.9826, Testing Accuracy: 0.9783\n",
      "\n"
     ]
    },
    {
     "name": "stdout",
     "output_type": "stream",
     "text": [
      "Epoch 230, Loss 0.0156\n",
      "Training Accuracy: 0.9836, Testing Accuracy: 0.9783\n",
      "\n"
     ]
    },
    {
     "name": "stdout",
     "output_type": "stream",
     "text": [
      "Epoch 240, Loss 0.0152\n",
      "Training Accuracy: 0.9837, Testing Accuracy: 0.9778\n",
      "\n"
     ]
    },
    {
     "data": {
      "text/plain": [
       "0.013704868495836794"
      ]
     },
     "execution_count": 22,
     "metadata": {},
     "output_type": "execute_result"
    }
   ],
   "source": [
    "nn_learner.train_loop(dl)"
   ]
  },
  {
   "cell_type": "code",
   "execution_count": 23,
   "id": "e0163366",
   "metadata": {
    "execution": {
     "iopub.execute_input": "2022-01-11T20:11:07.113770Z",
     "iopub.status.busy": "2022-01-11T20:11:07.113186Z",
     "iopub.status.idle": "2022-01-11T20:11:28.061061Z",
     "shell.execute_reply": "2022-01-11T20:11:28.061993Z"
    },
    "papermill": {
     "duration": 20.998865,
     "end_time": "2022-01-11T20:11:28.062159",
     "exception": false,
     "start_time": "2022-01-11T20:11:07.063294",
     "status": "completed"
    },
    "tags": []
   },
   "outputs": [
    {
     "name": "stdout",
     "output_type": "stream",
     "text": [
      "Epoch 0, Loss 0.2558\n",
      "Training Accuracy: 0.6068, Testing Accuracy: 0.6069\n",
      "\n"
     ]
    },
    {
     "name": "stdout",
     "output_type": "stream",
     "text": [
      "Epoch 10, Loss 0.1043\n",
      "Training Accuracy: 0.9114, Testing Accuracy: 0.9173\n",
      "\n"
     ]
    },
    {
     "name": "stdout",
     "output_type": "stream",
     "text": [
      "Epoch 20, Loss 0.0792\n",
      "Training Accuracy: 0.9287, Testing Accuracy: 0.9410\n",
      "\n"
     ]
    },
    {
     "name": "stdout",
     "output_type": "stream",
     "text": [
      "Epoch 30, Loss 0.0679\n",
      "Training Accuracy: 0.9366, Testing Accuracy: 0.9496\n",
      "\n"
     ]
    },
    {
     "name": "stdout",
     "output_type": "stream",
     "text": [
      "Epoch 40, Loss 0.0613\n",
      "Training Accuracy: 0.9433, Testing Accuracy: 0.9516\n",
      "\n"
     ]
    },
    {
     "name": "stdout",
     "output_type": "stream",
     "text": [
      "Epoch 50, Loss 0.0569\n",
      "Training Accuracy: 0.9469, Testing Accuracy: 0.9556\n",
      "\n"
     ]
    },
    {
     "name": "stdout",
     "output_type": "stream",
     "text": [
      "Epoch 60, Loss 0.0536\n",
      "Training Accuracy: 0.9483, Testing Accuracy: 0.9587\n",
      "\n"
     ]
    },
    {
     "name": "stdout",
     "output_type": "stream",
     "text": [
      "Epoch 70, Loss 0.0511\n",
      "Training Accuracy: 0.9500, Testing Accuracy: 0.9622\n",
      "\n"
     ]
    },
    {
     "name": "stdout",
     "output_type": "stream",
     "text": [
      "Epoch 80, Loss 0.049\n",
      "Training Accuracy: 0.9505, Testing Accuracy: 0.9632\n",
      "\n"
     ]
    },
    {
     "name": "stdout",
     "output_type": "stream",
     "text": [
      "Epoch 90, Loss 0.0474\n",
      "Training Accuracy: 0.9517, Testing Accuracy: 0.9632\n",
      "\n"
     ]
    },
    {
     "name": "stdout",
     "output_type": "stream",
     "text": [
      "Epoch 100, Loss 0.046\n",
      "Training Accuracy: 0.9527, Testing Accuracy: 0.9647\n",
      "\n"
     ]
    },
    {
     "name": "stdout",
     "output_type": "stream",
     "text": [
      "Epoch 110, Loss 0.0448\n",
      "Training Accuracy: 0.9539, Testing Accuracy: 0.9657\n",
      "\n"
     ]
    },
    {
     "name": "stdout",
     "output_type": "stream",
     "text": [
      "Epoch 120, Loss 0.0437\n",
      "Training Accuracy: 0.9548, Testing Accuracy: 0.9657\n",
      "\n"
     ]
    },
    {
     "name": "stdout",
     "output_type": "stream",
     "text": [
      "Epoch 130, Loss 0.0428\n",
      "Training Accuracy: 0.9551, Testing Accuracy: 0.9662\n",
      "\n"
     ]
    },
    {
     "name": "stdout",
     "output_type": "stream",
     "text": [
      "Epoch 140, Loss 0.042\n",
      "Training Accuracy: 0.9558, Testing Accuracy: 0.9657\n",
      "\n"
     ]
    },
    {
     "name": "stdout",
     "output_type": "stream",
     "text": [
      "Epoch 150, Loss 0.0412\n",
      "Training Accuracy: 0.9563, Testing Accuracy: 0.9662\n",
      "\n"
     ]
    },
    {
     "name": "stdout",
     "output_type": "stream",
     "text": [
      "Epoch 160, Loss 0.0406\n",
      "Training Accuracy: 0.9571, Testing Accuracy: 0.9662\n",
      "\n"
     ]
    },
    {
     "name": "stdout",
     "output_type": "stream",
     "text": [
      "Epoch 170, Loss 0.04\n",
      "Training Accuracy: 0.9575, Testing Accuracy: 0.9662\n",
      "\n"
     ]
    },
    {
     "name": "stdout",
     "output_type": "stream",
     "text": [
      "Epoch 180, Loss 0.0394\n",
      "Training Accuracy: 0.9582, Testing Accuracy: 0.9667\n",
      "\n"
     ]
    },
    {
     "name": "stdout",
     "output_type": "stream",
     "text": [
      "Epoch 190, Loss 0.0389\n",
      "Training Accuracy: 0.9587, Testing Accuracy: 0.9667\n",
      "\n"
     ]
    },
    {
     "name": "stdout",
     "output_type": "stream",
     "text": [
      "Epoch 200, Loss 0.0384\n",
      "Training Accuracy: 0.9589, Testing Accuracy: 0.9667\n",
      "\n"
     ]
    },
    {
     "name": "stdout",
     "output_type": "stream",
     "text": [
      "Epoch 210, Loss 0.038\n",
      "Training Accuracy: 0.9589, Testing Accuracy: 0.9667\n",
      "\n"
     ]
    },
    {
     "name": "stdout",
     "output_type": "stream",
     "text": [
      "Epoch 220, Loss 0.0376\n",
      "Training Accuracy: 0.9590, Testing Accuracy: 0.9672\n",
      "\n"
     ]
    },
    {
     "name": "stdout",
     "output_type": "stream",
     "text": [
      "Epoch 230, Loss 0.0372\n",
      "Training Accuracy: 0.9592, Testing Accuracy: 0.9677\n",
      "\n"
     ]
    },
    {
     "name": "stdout",
     "output_type": "stream",
     "text": [
      "Epoch 240, Loss 0.0368\n",
      "Training Accuracy: 0.9597, Testing Accuracy: 0.9688\n",
      "\n"
     ]
    },
    {
     "data": {
      "text/plain": [
       "0.018906865318570016"
      ]
     },
     "execution_count": 23,
     "metadata": {},
     "output_type": "execute_result"
    }
   ],
   "source": [
    "lr_learner.train_loop(dl)"
   ]
  },
  {
   "cell_type": "code",
   "execution_count": 24,
   "id": "ca410940",
   "metadata": {
    "execution": {
     "iopub.execute_input": "2022-01-11T20:11:28.177526Z",
     "iopub.status.busy": "2022-01-11T20:11:28.176740Z",
     "iopub.status.idle": "2022-01-11T20:11:28.499324Z",
     "shell.execute_reply": "2022-01-11T20:11:28.498845Z"
    },
    "papermill": {
     "duration": 0.381459,
     "end_time": "2022-01-11T20:11:28.499470",
     "exception": false,
     "start_time": "2022-01-11T20:11:28.118011",
     "status": "completed"
    },
    "tags": []
   },
   "outputs": [
    {
     "data": {
      "text/plain": [
       "<matplotlib.legend.Legend at 0x7fbf2982aac8>"
      ]
     },
     "execution_count": 24,
     "metadata": {},
     "output_type": "execute_result"
    },
    {
     "data": {
      "image/png": "[encoded data removed]",
      "text/plain": [
       "<Figure size 1080x720 with 1 Axes>"
      ]
     },
     "metadata": {
      "needs_background": "light"
     },
     "output_type": "display_data"
    }
   ],
   "source": [
    "#comparing the results of NN and LR\n",
    "plt.figure(figsize=(15,10))\n",
    "\n",
    "# Neural Network plots\n",
    "plt.plot(acc_nn.accuracies, 'r-', label = \"Training Accuracies - NN\")\n",
    "plt.plot(acc_nn.test_accuracies, 'g-', label = \"Testing Accuracies - NN\")\n",
    "\n",
    "# Logistic Regression plots\n",
    "plt.plot(acc_lr.accuracies, 'k-', label = \"Training Accuracies - LR\")\n",
    "plt.plot(acc_lr.test_accuracies, 'b-', label = \"Testing Accuracies - LR\")\n",
    "plt.legend()"
   ]
  },
  {
   "cell_type": "markdown",
   "id": "80dfb35c",
   "metadata": {
    "papermill": {
     "duration": 0.055429,
     "end_time": "2022-01-11T20:11:28.605591",
     "exception": false,
     "start_time": "2022-01-11T20:11:28.550162",
     "status": "completed"
    },
    "tags": []
   },
   "source": [
    "#### Plotting the outputs of this layer of the NN.\n"
   ]
  },
  {
   "cell_type": "code",
   "execution_count": 25,
   "id": "45eb2ff5",
   "metadata": {
    "execution": {
     "iopub.execute_input": "2022-01-11T20:11:28.720081Z",
     "iopub.status.busy": "2022-01-11T20:11:28.719274Z",
     "iopub.status.idle": "2022-01-11T20:11:28.748526Z",
     "shell.execute_reply": "2022-01-11T20:11:28.749246Z"
    },
    "papermill": {
     "duration": 0.084435,
     "end_time": "2022-01-11T20:11:28.749400",
     "exception": false,
     "start_time": "2022-01-11T20:11:28.664965",
     "status": "completed"
    },
    "tags": []
   },
   "outputs": [],
   "source": [
    "new_model = Model(layers[:-2])\n",
    "testing_plot = new_model(testing_data_x)"
   ]
  },
  {
   "cell_type": "code",
   "execution_count": 26,
   "id": "4c0a5485",
   "metadata": {
    "execution": {
     "iopub.execute_input": "2022-01-11T20:11:28.863952Z",
     "iopub.status.busy": "2022-01-11T20:11:28.862995Z",
     "iopub.status.idle": "2022-01-11T20:11:29.115367Z",
     "shell.execute_reply": "2022-01-11T20:11:29.115915Z"
    },
    "papermill": {
     "duration": 0.310817,
     "end_time": "2022-01-11T20:11:29.116074",
     "exception": false,
     "start_time": "2022-01-11T20:11:28.805257",
     "status": "completed"
    },
    "tags": []
   },
   "outputs": [
    {
     "data": {
      "text/plain": [
       "Text(0.5, 1.0, 'Outputs')"
      ]
     },
     "execution_count": 26,
     "metadata": {},
     "output_type": "execute_result"
    },
    {
     "data": {
      "image/png": "[encoded data removed]",
      "text/plain": [
       "<Figure size 576x504 with 1 Axes>"
      ]
     },
     "metadata": {
      "needs_background": "light"
     },
     "output_type": "display_data"
    }
   ],
   "source": [
    "# Plotting the scatter plot of points and color coding by class\n",
    "plt.figure(figsize=(8,7))\n",
    "plt.scatter(testing_plot[:,0], testing_plot[:,1], alpha = 0.1, c = y_test.ravel());\n",
    "plt.title('Outputs')"
   ]
  },
  {
   "cell_type": "markdown",
   "id": "a74fcf8f",
   "metadata": {
    "papermill": {
     "duration": 0.064699,
     "end_time": "2022-01-11T20:11:29.238112",
     "exception": false,
     "start_time": "2022-01-11T20:11:29.173413",
     "status": "completed"
    },
    "tags": []
   },
   "source": [
    "Probability contours"
   ]
  },
  {
   "cell_type": "code",
   "execution_count": 27,
   "id": "d0afc8e3",
   "metadata": {
    "execution": {
     "iopub.execute_input": "2022-01-11T20:11:29.380536Z",
     "iopub.status.busy": "2022-01-11T20:11:29.379838Z",
     "iopub.status.idle": "2022-01-11T20:11:29.393356Z",
     "shell.execute_reply": "2022-01-11T20:11:29.392780Z"
    },
    "papermill": {
     "duration": 0.097501,
     "end_time": "2022-01-11T20:11:29.393484",
     "exception": false,
     "start_time": "2022-01-11T20:11:29.295983",
     "status": "completed"
    },
    "tags": []
   },
   "outputs": [],
   "source": [
    "model_prob = Model(layers[-2:]) "
   ]
  },
  {
   "cell_type": "code",
   "execution_count": 28,
   "id": "9b96e238",
   "metadata": {
    "execution": {
     "iopub.execute_input": "2022-01-11T20:11:29.508923Z",
     "iopub.status.busy": "2022-01-11T20:11:29.508292Z",
     "iopub.status.idle": "2022-01-11T20:11:29.521930Z",
     "shell.execute_reply": "2022-01-11T20:11:29.522489Z"
    },
    "papermill": {
     "duration": 0.073622,
     "end_time": "2022-01-11T20:11:29.522687",
     "exception": false,
     "start_time": "2022-01-11T20:11:29.449065",
     "status": "completed"
    },
    "tags": []
   },
   "outputs": [],
   "source": [
    "#creating the x and y ranges according to the above generated plot.\n",
    "x_range = np.linspace(-4, 1, 100) \n",
    "y_range = np.linspace(-6, 6, 100) \n",
    "x_grid, y_grid = np.meshgrid(x_range, y_range) # x_grid and y_grig are of size 100 X 100\n",
    "\n",
    "# converting x_grid and y_grid to continuous arrays\n",
    "x_gridflat = np.ravel(x_grid)\n",
    "y_gridflat = np.ravel(y_grid)\n",
    "\n",
    "# The last layer of the current model takes two columns as input. Hence transpose of np.vstack() is required.\n",
    "X = np.vstack((x_gridflat, y_gridflat)).T\n",
    "\n",
    "prob_contour = model_prob(X).reshape(100,100) "
   ]
  },
  {
   "cell_type": "code",
   "execution_count": 29,
   "id": "da72499a",
   "metadata": {
    "execution": {
     "iopub.execute_input": "2022-01-11T20:11:29.637832Z",
     "iopub.status.busy": "2022-01-11T20:11:29.637116Z",
     "iopub.status.idle": "2022-01-11T20:11:29.934522Z",
     "shell.execute_reply": "2022-01-11T20:11:29.935066Z"
    },
    "papermill": {
     "duration": 0.360202,
     "end_time": "2022-01-11T20:11:29.935256",
     "exception": false,
     "start_time": "2022-01-11T20:11:29.575054",
     "status": "completed"
    },
    "tags": []
   },
   "outputs": [
    {
     "data": {
      "image/png": "[encoded data removed]",
      "text/plain": [
       "<Figure size 720x648 with 1 Axes>"
      ]
     },
     "metadata": {
      "needs_background": "light"
     },
     "output_type": "display_data"
    }
   ],
   "source": [
    "plt.figure(figsize=(10,9))\n",
    "plt.scatter(testing_plot[:,0], testing_plot[:,1], alpha = 0.1, c = y_test.ravel())\n",
    "contours = plt.contour(x_grid,y_grid,prob_contour)\n",
    "plt.title('Probability Contours')\n",
    "plt.clabel(contours, inline = True );"
   ]
  },
  {
   "cell_type": "code",
   "execution_count": null,
   "id": "e81b4ac7",
   "metadata": {
    "papermill": {
     "duration": 0.069377,
     "end_time": "2022-01-11T20:11:30.070628",
     "exception": false,
     "start_time": "2022-01-11T20:11:30.001251",
     "status": "completed"
    },
    "tags": []
   },
   "outputs": [],
   "source": []
  }
 ],
 "metadata": {
  "kernelspec": {
   "display_name": "Python 3",
   "language": "python",
   "name": "python3"
  },
  "language_info": {
   "codemirror_mode": {
    "name": "ipython",
    "version": 3
   },
   "file_extension": ".py",
   "mimetype": "text/x-python",
   "name": "python",
   "nbconvert_exporter": "python",
   "pygments_lexer": "ipython3",
   "version": "3.6.15"
  },
  "papermill": {
   "default_parameters": {},
   "duration": 176.200127,
   "end_time": "2022-01-11T20:11:30.532759",
   "environment_variables": {},
   "exception": null,
   "input_path": "2020-08-11-part2.ipynb",
   "output_path": "2020-08-11-part2.ipynb",
   "parameters": {},
   "start_time": "2022-01-11T20:08:34.332632",
   "version": "2.3.3"
  }
 },
 "nbformat": 4,
 "nbformat_minor": 5
}