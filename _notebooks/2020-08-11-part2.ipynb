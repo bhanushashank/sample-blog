{
 "cells": [
  {
   "cell_type": "markdown",
   "id": "98380cd3",
   "metadata": {
    "papermill": {
     "duration": 0.029267,
     "end_time": "2022-11-01T20:11:59.676003",
     "exception": false,
     "start_time": "2022-11-01T20:11:59.646736",
     "status": "completed"
    },
    "tags": []
   },
   "source": [
    "# Distinguish Your Own Digits (DYOD)"
   ]
  },
  {
   "cell_type": "markdown",
   "id": "ef31240d",
   "metadata": {
    "papermill": {
     "duration": 0.024358,
     "end_time": "2022-11-01T20:11:59.725419",
     "exception": false,
     "start_time": "2022-11-01T20:11:59.701061",
     "status": "completed"
    },
    "tags": []
   },
   "source": [
    "You are going to write a classifier that distinguishes between the number 3 and number 8."
   ]
  },
  {
   "cell_type": "code",
   "execution_count": 1,
   "id": "b15c8646",
   "metadata": {
    "execution": {
     "iopub.execute_input": "2022-11-01T20:11:59.784244Z",
     "iopub.status.busy": "2022-11-01T20:11:59.783658Z",
     "iopub.status.idle": "2022-11-01T20:11:59.794499Z",
     "shell.execute_reply": "2022-11-01T20:11:59.794035Z"
    },
    "papermill": {
     "duration": 0.044999,
     "end_time": "2022-11-01T20:11:59.794626",
     "exception": false,
     "start_time": "2022-11-01T20:11:59.749627",
     "status": "completed"
    },
    "tags": []
   },
   "outputs": [],
   "source": [
    "%load_ext autoreload\n",
    "%autoreload 2"
   ]
  },
  {
   "cell_type": "code",
   "execution_count": 2,
   "id": "22ef38dc",
   "metadata": {
    "execution": {
     "iopub.execute_input": "2022-11-01T20:11:59.847653Z",
     "iopub.status.busy": "2022-11-01T20:11:59.847090Z",
     "iopub.status.idle": "2022-11-01T20:12:00.374773Z",
     "shell.execute_reply": "2022-11-01T20:12:00.374285Z"
    },
    "papermill": {
     "duration": 0.555815,
     "end_time": "2022-11-01T20:12:00.374892",
     "exception": false,
     "start_time": "2022-11-01T20:11:59.819077",
     "status": "completed"
    },
    "tags": []
   },
   "outputs": [],
   "source": [
    "%matplotlib inline\n",
    "import numpy as np\n",
    "import matplotlib.pyplot as plt\n",
    "import pandas as pd"
   ]
  },
  {
   "cell_type": "markdown",
   "id": "ba036198",
   "metadata": {
    "papermill": {
     "duration": 0.024279,
     "end_time": "2022-11-01T20:12:00.423594",
     "exception": false,
     "start_time": "2022-11-01T20:12:00.399315",
     "status": "completed"
    },
    "tags": []
   },
   "source": [
    "From the command line run `pip install mnist`. This is a library that will help you bring down the mnist dataset. If you run this from a notebook, you need to put  `!pip install mnist` in a cell by itself."
   ]
  },
  {
   "cell_type": "code",
   "execution_count": 3,
   "id": "bb6ad8a1",
   "metadata": {
    "execution": {
     "iopub.execute_input": "2022-11-01T20:12:00.476398Z",
     "iopub.status.busy": "2022-11-01T20:12:00.475841Z",
     "iopub.status.idle": "2022-11-01T20:12:02.199522Z",
     "shell.execute_reply": "2022-11-01T20:12:02.199017Z"
    },
    "papermill": {
     "duration": 1.751643,
     "end_time": "2022-11-01T20:12:02.199636",
     "exception": false,
     "start_time": "2022-11-01T20:12:00.447993",
     "status": "completed"
    },
    "tags": []
   },
   "outputs": [
    {
     "name": "stdout",
     "output_type": "stream",
     "text": [
      "Collecting mnist\r\n"
     ]
    },
    {
     "name": "stdout",
     "output_type": "stream",
     "text": [
      "  Downloading mnist-0.2.2-py2.py3-none-any.whl (3.5 kB)\r\n",
      "Requirement already satisfied: numpy in /opt/hostedtoolcache/Python/3.6.15/x64/lib/python3.6/site-packages (from mnist) (1.19.5)\r\n"
     ]
    },
    {
     "name": "stdout",
     "output_type": "stream",
     "text": [
      "Installing collected packages: mnist\r\n"
     ]
    },
    {
     "name": "stdout",
     "output_type": "stream",
     "text": [
      "Successfully installed mnist-0.2.2\r\n"
     ]
    }
   ],
   "source": [
    "!pip install mnist"
   ]
  },
  {
   "cell_type": "markdown",
   "id": "69df9c9a",
   "metadata": {
    "papermill": {
     "duration": 0.025723,
     "end_time": "2022-11-01T20:12:02.250922",
     "exception": false,
     "start_time": "2022-11-01T20:12:02.225199",
     "status": "completed"
    },
    "tags": []
   },
   "source": [
    "## Preparing the Data"
   ]
  },
  {
   "cell_type": "code",
   "execution_count": 4,
   "id": "7f69d806",
   "metadata": {
    "execution": {
     "iopub.execute_input": "2022-11-01T20:12:02.305855Z",
     "iopub.status.busy": "2022-11-01T20:12:02.305295Z",
     "iopub.status.idle": "2022-11-01T20:12:02.319332Z",
     "shell.execute_reply": "2022-11-01T20:12:02.318888Z"
    },
    "papermill": {
     "duration": 0.043177,
     "end_time": "2022-11-01T20:12:02.319443",
     "exception": false,
     "start_time": "2022-11-01T20:12:02.276266",
     "status": "completed"
    },
    "tags": []
   },
   "outputs": [],
   "source": [
    "import mnist"
   ]
  },
  {
   "cell_type": "code",
   "execution_count": 5,
   "id": "a411e44f",
   "metadata": {
    "execution": {
     "iopub.execute_input": "2022-11-01T20:12:02.374007Z",
     "iopub.status.busy": "2022-11-01T20:12:02.373452Z",
     "iopub.status.idle": "2022-11-01T20:12:03.089680Z",
     "shell.execute_reply": "2022-11-01T20:12:03.089070Z"
    },
    "papermill": {
     "duration": 0.744719,
     "end_time": "2022-11-01T20:12:03.089794",
     "exception": false,
     "start_time": "2022-11-01T20:12:02.345075",
     "status": "completed"
    },
    "tags": []
   },
   "outputs": [],
   "source": [
    "train_images = mnist.train_images()\n",
    "train_labels = mnist.train_labels()"
   ]
  },
  {
   "cell_type": "code",
   "execution_count": 6,
   "id": "dceab3a5",
   "metadata": {
    "execution": {
     "iopub.execute_input": "2022-11-01T20:12:03.144647Z",
     "iopub.status.busy": "2022-11-01T20:12:03.144076Z",
     "iopub.status.idle": "2022-11-01T20:12:03.158625Z",
     "shell.execute_reply": "2022-11-01T20:12:03.158141Z"
    },
    "papermill": {
     "duration": 0.043333,
     "end_time": "2022-11-01T20:12:03.158734",
     "exception": false,
     "start_time": "2022-11-01T20:12:03.115401",
     "status": "completed"
    },
    "tags": []
   },
   "outputs": [
    {
     "data": {
      "text/plain": [
       "((60000, 28, 28), (60000,))"
      ]
     },
     "execution_count": 6,
     "metadata": {},
     "output_type": "execute_result"
    }
   ],
   "source": [
    "train_images.shape, train_labels.shape"
   ]
  },
  {
   "cell_type": "code",
   "execution_count": 7,
   "id": "f50dc2bb",
   "metadata": {
    "execution": {
     "iopub.execute_input": "2022-11-01T20:12:03.213894Z",
     "iopub.status.busy": "2022-11-01T20:12:03.213330Z",
     "iopub.status.idle": "2022-11-01T20:12:03.472527Z",
     "shell.execute_reply": "2022-11-01T20:12:03.472019Z"
    },
    "papermill": {
     "duration": 0.28798,
     "end_time": "2022-11-01T20:12:03.472639",
     "exception": false,
     "start_time": "2022-11-01T20:12:03.184659",
     "status": "completed"
    },
    "tags": []
   },
   "outputs": [],
   "source": [
    "test_images = mnist.test_images()\n",
    "test_labels = mnist.test_labels()"
   ]
  },
  {
   "cell_type": "code",
   "execution_count": 8,
   "id": "fc38cf1b",
   "metadata": {
    "execution": {
     "iopub.execute_input": "2022-11-01T20:12:03.528656Z",
     "iopub.status.busy": "2022-11-01T20:12:03.528097Z",
     "iopub.status.idle": "2022-11-01T20:12:03.541188Z",
     "shell.execute_reply": "2022-11-01T20:12:03.540721Z"
    },
    "papermill": {
     "duration": 0.042759,
     "end_time": "2022-11-01T20:12:03.541296",
     "exception": false,
     "start_time": "2022-11-01T20:12:03.498537",
     "status": "completed"
    },
    "tags": []
   },
   "outputs": [
    {
     "data": {
      "text/plain": [
       "((10000, 28, 28), (10000,))"
      ]
     },
     "execution_count": 8,
     "metadata": {},
     "output_type": "execute_result"
    }
   ],
   "source": [
    "test_images.shape, test_labels.shape"
   ]
  },
  {
   "cell_type": "code",
   "execution_count": 9,
   "id": "f9ed8fe0",
   "metadata": {
    "execution": {
     "iopub.execute_input": "2022-11-01T20:12:03.597126Z",
     "iopub.status.busy": "2022-11-01T20:12:03.596555Z",
     "iopub.status.idle": "2022-11-01T20:12:03.730123Z",
     "shell.execute_reply": "2022-11-01T20:12:03.730602Z"
    },
    "papermill": {
     "duration": 0.163433,
     "end_time": "2022-11-01T20:12:03.730732",
     "exception": false,
     "start_time": "2022-11-01T20:12:03.567299",
     "status": "completed"
    },
    "tags": []
   },
   "outputs": [
    {
     "name": "stdout",
     "output_type": "stream",
     "text": [
      "2\n"
     ]
    },
    {
     "data": {
      "text/plain": [
       "<matplotlib.image.AxesImage at 0x7f43a3414cf8>"
      ]
     },
     "execution_count": 9,
     "metadata": {},
     "output_type": "execute_result"
    },
    {
     "data": {
      "image/png": "[encoded data removed]",
      "text/plain": [
       "<Figure size 432x288 with 1 Axes>"
      ]
     },
     "metadata": {
      "needs_background": "light"
     },
     "output_type": "display_data"
    }
   ],
   "source": [
    "image_index = 7776 # You may select anything up to 60,000\n",
    "print(train_labels[image_index]) \n",
    "plt.imshow(train_images[image_index], cmap='Greys')"
   ]
  },
  {
   "cell_type": "markdown",
   "id": "a8d2388d",
   "metadata": {
    "papermill": {
     "duration": 0.027373,
     "end_time": "2022-11-01T20:12:03.785340",
     "exception": false,
     "start_time": "2022-11-01T20:12:03.757967",
     "status": "completed"
    },
    "tags": []
   },
   "source": [
    "## Filter data to get 3 and 8 out"
   ]
  },
  {
   "cell_type": "code",
   "execution_count": 10,
   "id": "776f7fc7",
   "metadata": {
    "execution": {
     "iopub.execute_input": "2022-11-01T20:12:03.843823Z",
     "iopub.status.busy": "2022-11-01T20:12:03.843247Z",
     "iopub.status.idle": "2022-11-01T20:12:03.860913Z",
     "shell.execute_reply": "2022-11-01T20:12:03.860447Z"
    },
    "papermill": {
     "duration": 0.048628,
     "end_time": "2022-11-01T20:12:03.861022",
     "exception": false,
     "start_time": "2022-11-01T20:12:03.812394",
     "status": "completed"
    },
    "tags": []
   },
   "outputs": [],
   "source": [
    "train_filter = np.where((train_labels == 3 ) | (train_labels == 8))\n",
    "test_filter = np.where((test_labels == 3) | (test_labels == 8))\n",
    "X_train, y_train = train_images[train_filter], train_labels[train_filter]\n",
    "X_test, y_test = test_images[test_filter], test_labels[test_filter]"
   ]
  },
  {
   "cell_type": "markdown",
   "id": "948f0b7e",
   "metadata": {
    "papermill": {
     "duration": 0.027297,
     "end_time": "2022-11-01T20:12:03.915548",
     "exception": false,
     "start_time": "2022-11-01T20:12:03.888251",
     "status": "completed"
    },
    "tags": []
   },
   "source": [
    "We normalize the pizel values in the 0 to 1 range"
   ]
  },
  {
   "cell_type": "code",
   "execution_count": 11,
   "id": "ee4c2166",
   "metadata": {
    "execution": {
     "iopub.execute_input": "2022-11-01T20:12:03.973061Z",
     "iopub.status.busy": "2022-11-01T20:12:03.972501Z",
     "iopub.status.idle": "2022-11-01T20:12:04.015158Z",
     "shell.execute_reply": "2022-11-01T20:12:04.015608Z"
    },
    "papermill": {
     "duration": 0.073183,
     "end_time": "2022-11-01T20:12:04.015746",
     "exception": false,
     "start_time": "2022-11-01T20:12:03.942563",
     "status": "completed"
    },
    "tags": []
   },
   "outputs": [],
   "source": [
    "X_train = X_train/255.\n",
    "X_test = X_test/255."
   ]
  },
  {
   "cell_type": "markdown",
   "id": "ddcf4fab",
   "metadata": {
    "papermill": {
     "duration": 0.027373,
     "end_time": "2022-11-01T20:12:04.070625",
     "exception": false,
     "start_time": "2022-11-01T20:12:04.043252",
     "status": "completed"
    },
    "tags": []
   },
   "source": [
    "And setup the labels as 1 (when the digit is 3) and 0 (when the digit is 8)"
   ]
  },
  {
   "cell_type": "code",
   "execution_count": 12,
   "id": "7dc908f2",
   "metadata": {
    "execution": {
     "iopub.execute_input": "2022-11-01T20:12:04.131028Z",
     "iopub.status.busy": "2022-11-01T20:12:04.128145Z",
     "iopub.status.idle": "2022-11-01T20:12:04.140054Z",
     "shell.execute_reply": "2022-11-01T20:12:04.139576Z"
    },
    "papermill": {
     "duration": 0.042591,
     "end_time": "2022-11-01T20:12:04.140163",
     "exception": false,
     "start_time": "2022-11-01T20:12:04.097572",
     "status": "completed"
    },
    "tags": []
   },
   "outputs": [],
   "source": [
    "y_train = 1*(y_train==3)\n",
    "y_test = 1*(y_test==3)"
   ]
  },
  {
   "cell_type": "code",
   "execution_count": 13,
   "id": "01e4e969",
   "metadata": {
    "execution": {
     "iopub.execute_input": "2022-11-01T20:12:04.198106Z",
     "iopub.status.busy": "2022-11-01T20:12:04.197539Z",
     "iopub.status.idle": "2022-11-01T20:12:04.210515Z",
     "shell.execute_reply": "2022-11-01T20:12:04.210954Z"
    },
    "papermill": {
     "duration": 0.043663,
     "end_time": "2022-11-01T20:12:04.211079",
     "exception": false,
     "start_time": "2022-11-01T20:12:04.167416",
     "status": "completed"
    },
    "tags": []
   },
   "outputs": [
    {
     "data": {
      "text/plain": [
       "((11982, 28, 28), (1984, 28, 28))"
      ]
     },
     "execution_count": 13,
     "metadata": {},
     "output_type": "execute_result"
    }
   ],
   "source": [
    "X_train.shape, X_test.shape"
   ]
  },
  {
   "cell_type": "markdown",
   "id": "5ccf3f85",
   "metadata": {
    "papermill": {
     "duration": 0.027112,
     "end_time": "2022-11-01T20:12:04.265521",
     "exception": false,
     "start_time": "2022-11-01T20:12:04.238409",
     "status": "completed"
    },
    "tags": []
   },
   "source": [
    "We reshape the data to flatten the image pixels into a set of features or co-variates:"
   ]
  },
  {
   "cell_type": "code",
   "execution_count": 14,
   "id": "5286a4a3",
   "metadata": {
    "execution": {
     "iopub.execute_input": "2022-11-01T20:12:04.324151Z",
     "iopub.status.busy": "2022-11-01T20:12:04.323585Z",
     "iopub.status.idle": "2022-11-01T20:12:04.338530Z",
     "shell.execute_reply": "2022-11-01T20:12:04.337819Z"
    },
    "papermill": {
     "duration": 0.045675,
     "end_time": "2022-11-01T20:12:04.338644",
     "exception": false,
     "start_time": "2022-11-01T20:12:04.292969",
     "status": "completed"
    },
    "tags": []
   },
   "outputs": [
    {
     "data": {
      "text/plain": [
       "((11982, 784), (1984, 784))"
      ]
     },
     "execution_count": 14,
     "metadata": {},
     "output_type": "execute_result"
    }
   ],
   "source": [
    "X_train = X_train.reshape(X_train.shape[0], -1)\n",
    "X_test = X_test.reshape(X_test.shape[0], -1)\n",
    "X_train.shape, X_test.shape"
   ]
  },
  {
   "cell_type": "code",
   "execution_count": 15,
   "id": "73c5f88a",
   "metadata": {
    "execution": {
     "iopub.execute_input": "2022-11-01T20:12:04.398477Z",
     "iopub.status.busy": "2022-11-01T20:12:04.397863Z",
     "iopub.status.idle": "2022-11-01T20:12:04.416133Z",
     "shell.execute_reply": "2022-11-01T20:12:04.415672Z"
    },
    "papermill": {
     "duration": 0.049698,
     "end_time": "2022-11-01T20:12:04.416242",
     "exception": false,
     "start_time": "2022-11-01T20:12:04.366544",
     "status": "completed"
    },
    "tags": []
   },
   "outputs": [],
   "source": [
    "#Impoting functions from 'Kudzu'\n",
    "from kudzu.model import Model\n",
    "from kudzu.train import Learner\n",
    "from kudzu.optim import GD\n",
    "from kudzu.data import Data, Sampler,Dataloader\n",
    "\n",
    "from kudzu.callbacks import AccCallback\n",
    "from kudzu.callbacks import ClfCallback\n",
    "\n",
    "from kudzu.loss import MSE\n",
    "\n",
    "from kudzu.layer import Sigmoid,Relu\n",
    "from kudzu.layer import Affine"
   ]
  },
  {
   "cell_type": "markdown",
   "id": "bc01172a",
   "metadata": {
    "papermill": {
     "duration": 0.027814,
     "end_time": "2022-11-01T20:12:04.471778",
     "exception": false,
     "start_time": "2022-11-01T20:12:04.443964",
     "status": "completed"
    },
    "tags": []
   },
   "source": [
    "### Let us create a `Config` class, to store important parameters. \n",
    "This class essentially plays the role of a dictionary."
   ]
  },
  {
   "cell_type": "code",
   "execution_count": 16,
   "id": "978281aa",
   "metadata": {
    "execution": {
     "iopub.execute_input": "2022-11-01T20:12:04.531828Z",
     "iopub.status.busy": "2022-11-01T20:12:04.531254Z",
     "iopub.status.idle": "2022-11-01T20:12:04.542964Z",
     "shell.execute_reply": "2022-11-01T20:12:04.543425Z"
    },
    "papermill": {
     "duration": 0.044251,
     "end_time": "2022-11-01T20:12:04.543549",
     "exception": false,
     "start_time": "2022-11-01T20:12:04.499298",
     "status": "completed"
    },
    "tags": []
   },
   "outputs": [],
   "source": [
    "class Config:\n",
    "    pass\n",
    "config = Config()\n",
    "config.lr = 0.001\n",
    "config.num_epochs = 250\n",
    "config.bs = 50"
   ]
  },
  {
   "cell_type": "markdown",
   "id": "1385fa59",
   "metadata": {
    "papermill": {
     "duration": 0.027524,
     "end_time": "2022-11-01T20:12:04.598887",
     "exception": false,
     "start_time": "2022-11-01T20:12:04.571363",
     "status": "completed"
    },
    "tags": []
   },
   "source": [
    "### Running Models with the Training data\n",
    "Details about the network layers:\n",
    "- A first affine layer has 784 inputs and does 100 affine transforms. These are followed by a Relu\n",
    "- A second affine layer has 100 inputs from the 100 activations of the past layer, and does 100 affine transforms. These are followed by a Relu\n",
    "- A third affine layer has 100 activations and does 2 affine transformations to create an embedding for visualization. There is no non-linearity here.\n",
    "- A final \"logistic regression\" which has an affine transform from 2 inputs to 1 output, which is squeezed through a sigmoid.\n"
   ]
  },
  {
   "cell_type": "code",
   "execution_count": 17,
   "id": "2b9c66db",
   "metadata": {
    "execution": {
     "iopub.execute_input": "2022-11-01T20:12:04.658093Z",
     "iopub.status.busy": "2022-11-01T20:12:04.657521Z",
     "iopub.status.idle": "2022-11-01T20:12:04.669966Z",
     "shell.execute_reply": "2022-11-01T20:12:04.669517Z"
    },
    "papermill": {
     "duration": 0.043559,
     "end_time": "2022-11-01T20:12:04.670075",
     "exception": false,
     "start_time": "2022-11-01T20:12:04.626516",
     "status": "completed"
    },
    "tags": []
   },
   "outputs": [],
   "source": [
    "data = Data(X_train, y_train.reshape(-1,1))\n",
    "sampler = Sampler(data, config.bs, shuffle=True)\n",
    "\n",
    "dl = Dataloader(data, sampler)\n",
    "\n",
    "opt = GD(config.lr)\n",
    "loss = MSE()"
   ]
  },
  {
   "cell_type": "code",
   "execution_count": 18,
   "id": "b275e4c2",
   "metadata": {
    "execution": {
     "iopub.execute_input": "2022-11-01T20:12:04.729525Z",
     "iopub.status.busy": "2022-11-01T20:12:04.728958Z",
     "iopub.status.idle": "2022-11-01T20:12:04.740851Z",
     "shell.execute_reply": "2022-11-01T20:12:04.740383Z"
    },
    "papermill": {
     "duration": 0.04317,
     "end_time": "2022-11-01T20:12:04.740959",
     "exception": false,
     "start_time": "2022-11-01T20:12:04.697789",
     "status": "completed"
    },
    "tags": []
   },
   "outputs": [],
   "source": [
    "training_data_x = X_train\n",
    "testing_data_x = X_test\n",
    "training_data_y = y_train.reshape(-1,1)\n",
    "testing_data_y = y_test.reshape(-1,1)"
   ]
  },
  {
   "cell_type": "code",
   "execution_count": 19,
   "id": "76951160",
   "metadata": {
    "execution": {
     "iopub.execute_input": "2022-11-01T20:12:04.800214Z",
     "iopub.status.busy": "2022-11-01T20:12:04.799651Z",
     "iopub.status.idle": "2022-11-01T20:12:04.816110Z",
     "shell.execute_reply": "2022-11-01T20:12:04.815560Z"
    },
    "papermill": {
     "duration": 0.047784,
     "end_time": "2022-11-01T20:12:04.816218",
     "exception": false,
     "start_time": "2022-11-01T20:12:04.768434",
     "status": "completed"
    },
    "tags": []
   },
   "outputs": [
    {
     "name": "stdout",
     "output_type": "stream",
     "text": [
      "xavier\n",
      "xavier\n",
      "xavier\n",
      "xavier\n",
      "xavier\n"
     ]
    }
   ],
   "source": [
    "layers = [Affine(\"first\", 784, 100), Relu(\"first\"), Affine(\"second\", 100, 100), Relu(\"second\"), Affine(\"third\", 100, 2), Affine(\"last\", 2, 1), Sigmoid(\"last\")]\n",
    "model_nn = Model(layers)\n",
    "model_lr = Model([Affine(\"logits\", 784, 1), Sigmoid(\"sigmoid\")])"
   ]
  },
  {
   "cell_type": "code",
   "execution_count": 20,
   "id": "6eede77a",
   "metadata": {
    "execution": {
     "iopub.execute_input": "2022-11-01T20:12:04.876309Z",
     "iopub.status.busy": "2022-11-01T20:12:04.875732Z",
     "iopub.status.idle": "2022-11-01T20:12:04.888004Z",
     "shell.execute_reply": "2022-11-01T20:12:04.887446Z"
    },
    "papermill": {
     "duration": 0.043874,
     "end_time": "2022-11-01T20:12:04.888113",
     "exception": false,
     "start_time": "2022-11-01T20:12:04.844239",
     "status": "completed"
    },
    "tags": []
   },
   "outputs": [],
   "source": [
    "nn_learner = Learner(loss, model_nn, opt, config.num_epochs)\n",
    "acc_nn = ClfCallback(nn_learner, config.bs, training_data_x , testing_data_x, training_data_y, testing_data_y)\n",
    "nn_learner.set_callbacks([acc_nn])"
   ]
  },
  {
   "cell_type": "code",
   "execution_count": 21,
   "id": "877b6cc7",
   "metadata": {
    "execution": {
     "iopub.execute_input": "2022-11-01T20:12:04.948066Z",
     "iopub.status.busy": "2022-11-01T20:12:04.947379Z",
     "iopub.status.idle": "2022-11-01T20:12:04.959726Z",
     "shell.execute_reply": "2022-11-01T20:12:04.959260Z"
    },
    "papermill": {
     "duration": 0.043657,
     "end_time": "2022-11-01T20:12:04.959836",
     "exception": false,
     "start_time": "2022-11-01T20:12:04.916179",
     "status": "completed"
    },
    "tags": []
   },
   "outputs": [],
   "source": [
    "lr_learner = Learner(loss, model_lr, opt, config.num_epochs)\n",
    "acc_lr = ClfCallback(lr_learner, config.bs, training_data_x , testing_data_x, training_data_y, testing_data_y)\n",
    "lr_learner.set_callbacks([acc_lr])"
   ]
  },
  {
   "cell_type": "code",
   "execution_count": 22,
   "id": "d9b133c3",
   "metadata": {
    "execution": {
     "iopub.execute_input": "2022-11-01T20:12:05.019694Z",
     "iopub.status.busy": "2022-11-01T20:12:05.019138Z",
     "iopub.status.idle": "2022-11-01T20:15:01.530713Z",
     "shell.execute_reply": "2022-11-01T20:15:01.531163Z"
    },
    "papermill": {
     "duration": 176.543159,
     "end_time": "2022-11-01T20:15:01.531291",
     "exception": false,
     "start_time": "2022-11-01T20:12:04.988132",
     "status": "completed"
    },
    "tags": []
   },
   "outputs": [
    {
     "name": "stdout",
     "output_type": "stream",
     "text": [
      "Epoch 0, Loss 0.2106\n",
      "Training Accuracy: 0.7999, Testing Accuracy: 0.8065\n",
      "\n"
     ]
    },
    {
     "name": "stdout",
     "output_type": "stream",
     "text": [
      "Epoch 10, Loss 0.0572\n",
      "Training Accuracy: 0.9417, Testing Accuracy: 0.9541\n",
      "\n"
     ]
    },
    {
     "name": "stdout",
     "output_type": "stream",
     "text": [
      "Epoch 20, Loss 0.0415\n",
      "Training Accuracy: 0.9549, Testing Accuracy: 0.9617\n",
      "\n"
     ]
    },
    {
     "name": "stdout",
     "output_type": "stream",
     "text": [
      "Epoch 30, Loss 0.0351\n",
      "Training Accuracy: 0.9604, Testing Accuracy: 0.9637\n",
      "\n"
     ]
    },
    {
     "name": "stdout",
     "output_type": "stream",
     "text": [
      "Epoch 40, Loss 0.0315\n",
      "Training Accuracy: 0.9641, Testing Accuracy: 0.9662\n",
      "\n"
     ]
    },
    {
     "name": "stdout",
     "output_type": "stream",
     "text": [
      "Epoch 50, Loss 0.029\n",
      "Training Accuracy: 0.9668, Testing Accuracy: 0.9688\n",
      "\n"
     ]
    },
    {
     "name": "stdout",
     "output_type": "stream",
     "text": [
      "Epoch 60, Loss 0.0272\n",
      "Training Accuracy: 0.9689, Testing Accuracy: 0.9698\n",
      "\n"
     ]
    },
    {
     "name": "stdout",
     "output_type": "stream",
     "text": [
      "Epoch 70, Loss 0.0257\n",
      "Training Accuracy: 0.9704, Testing Accuracy: 0.9698\n",
      "\n"
     ]
    },
    {
     "name": "stdout",
     "output_type": "stream",
     "text": [
      "Epoch 80, Loss 0.0244\n",
      "Training Accuracy: 0.9721, Testing Accuracy: 0.9703\n",
      "\n"
     ]
    },
    {
     "name": "stdout",
     "output_type": "stream",
     "text": [
      "Epoch 90, Loss 0.0233\n",
      "Training Accuracy: 0.9737, Testing Accuracy: 0.9708\n",
      "\n"
     ]
    },
    {
     "name": "stdout",
     "output_type": "stream",
     "text": [
      "Epoch 100, Loss 0.0224\n",
      "Training Accuracy: 0.9747, Testing Accuracy: 0.9718\n",
      "\n"
     ]
    },
    {
     "name": "stdout",
     "output_type": "stream",
     "text": [
      "Epoch 110, Loss 0.0215\n",
      "Training Accuracy: 0.9758, Testing Accuracy: 0.9733\n",
      "\n"
     ]
    },
    {
     "name": "stdout",
     "output_type": "stream",
     "text": [
      "Epoch 120, Loss 0.0207\n",
      "Training Accuracy: 0.9762, Testing Accuracy: 0.9738\n",
      "\n"
     ]
    },
    {
     "name": "stdout",
     "output_type": "stream",
     "text": [
      "Epoch 130, Loss 0.0199\n",
      "Training Accuracy: 0.9775, Testing Accuracy: 0.9748\n",
      "\n"
     ]
    },
    {
     "name": "stdout",
     "output_type": "stream",
     "text": [
      "Epoch 140, Loss 0.0192\n",
      "Training Accuracy: 0.9787, Testing Accuracy: 0.9758\n",
      "\n"
     ]
    },
    {
     "name": "stdout",
     "output_type": "stream",
     "text": [
      "Epoch 150, Loss 0.0186\n",
      "Training Accuracy: 0.9793, Testing Accuracy: 0.9768\n",
      "\n"
     ]
    },
    {
     "name": "stdout",
     "output_type": "stream",
     "text": [
      "Epoch 160, Loss 0.0179\n",
      "Training Accuracy: 0.9801, Testing Accuracy: 0.9778\n",
      "\n"
     ]
    },
    {
     "name": "stdout",
     "output_type": "stream",
     "text": [
      "Epoch 170, Loss 0.0174\n",
      "Training Accuracy: 0.9806, Testing Accuracy: 0.9783\n",
      "\n"
     ]
    },
    {
     "name": "stdout",
     "output_type": "stream",
     "text": [
      "Epoch 180, Loss 0.0168\n",
      "Training Accuracy: 0.9816, Testing Accuracy: 0.9783\n",
      "\n"
     ]
    },
    {
     "name": "stdout",
     "output_type": "stream",
     "text": [
      "Epoch 190, Loss 0.0163\n",
      "Training Accuracy: 0.9824, Testing Accuracy: 0.9788\n",
      "\n"
     ]
    },
    {
     "name": "stdout",
     "output_type": "stream",
     "text": [
      "Epoch 200, Loss 0.0158\n",
      "Training Accuracy: 0.9836, Testing Accuracy: 0.9788\n",
      "\n"
     ]
    },
    {
     "name": "stdout",
     "output_type": "stream",
     "text": [
      "Epoch 210, Loss 0.0154\n",
      "Training Accuracy: 0.9841, Testing Accuracy: 0.9798\n",
      "\n"
     ]
    },
    {
     "name": "stdout",
     "output_type": "stream",
     "text": [
      "Epoch 220, Loss 0.015\n",
      "Training Accuracy: 0.9847, Testing Accuracy: 0.9798\n",
      "\n"
     ]
    },
    {
     "name": "stdout",
     "output_type": "stream",
     "text": [
      "Epoch 230, Loss 0.0145\n",
      "Training Accuracy: 0.9851, Testing Accuracy: 0.9808\n",
      "\n"
     ]
    },
    {
     "name": "stdout",
     "output_type": "stream",
     "text": [
      "Epoch 240, Loss 0.0141\n",
      "Training Accuracy: 0.9856, Testing Accuracy: 0.9803\n",
      "\n"
     ]
    },
    {
     "data": {
      "text/plain": [
       "0.008955877786998655"
      ]
     },
     "execution_count": 22,
     "metadata": {},
     "output_type": "execute_result"
    }
   ],
   "source": [
    "nn_learner.train_loop(dl)"
   ]
  },
  {
   "cell_type": "code",
   "execution_count": 23,
   "id": "e0163366",
   "metadata": {
    "execution": {
     "iopub.execute_input": "2022-11-01T20:15:01.606379Z",
     "iopub.status.busy": "2022-11-01T20:15:01.605084Z",
     "iopub.status.idle": "2022-11-01T20:15:13.669627Z",
     "shell.execute_reply": "2022-11-01T20:15:13.670361Z"
    },
    "papermill": {
     "duration": 12.104474,
     "end_time": "2022-11-01T20:15:13.670495",
     "exception": false,
     "start_time": "2022-11-01T20:15:01.566021",
     "status": "completed"
    },
    "tags": []
   },
   "outputs": [
    {
     "name": "stdout",
     "output_type": "stream",
     "text": [
      "Epoch 0, Loss 0.2396\n",
      "Training Accuracy: 0.6857, Testing Accuracy: 0.6784\n",
      "\n"
     ]
    },
    {
     "name": "stdout",
     "output_type": "stream",
     "text": [
      "Epoch 10, Loss 0.1016\n",
      "Training Accuracy: 0.9137, Testing Accuracy: 0.9219\n",
      "\n"
     ]
    },
    {
     "name": "stdout",
     "output_type": "stream",
     "text": [
      "Epoch 20, Loss 0.0785\n",
      "Training Accuracy: 0.9287, Testing Accuracy: 0.9410\n",
      "\n"
     ]
    },
    {
     "name": "stdout",
     "output_type": "stream",
     "text": [
      "Epoch 30, Loss 0.0679\n",
      "Training Accuracy: 0.9362, Testing Accuracy: 0.9486\n",
      "\n"
     ]
    },
    {
     "name": "stdout",
     "output_type": "stream",
     "text": [
      "Epoch 40, Loss 0.0615\n",
      "Training Accuracy: 0.9412, Testing Accuracy: 0.9541\n",
      "\n"
     ]
    },
    {
     "name": "stdout",
     "output_type": "stream",
     "text": [
      "Epoch 50, Loss 0.0571\n",
      "Training Accuracy: 0.9449, Testing Accuracy: 0.9556\n",
      "\n"
     ]
    },
    {
     "name": "stdout",
     "output_type": "stream",
     "text": [
      "Epoch 60, Loss 0.0538\n",
      "Training Accuracy: 0.9478, Testing Accuracy: 0.9587\n",
      "\n"
     ]
    },
    {
     "name": "stdout",
     "output_type": "stream",
     "text": [
      "Epoch 70, Loss 0.0513\n",
      "Training Accuracy: 0.9493, Testing Accuracy: 0.9587\n",
      "\n"
     ]
    },
    {
     "name": "stdout",
     "output_type": "stream",
     "text": [
      "Epoch 80, Loss 0.0493\n",
      "Training Accuracy: 0.9505, Testing Accuracy: 0.9602\n",
      "\n"
     ]
    },
    {
     "name": "stdout",
     "output_type": "stream",
     "text": [
      "Epoch 90, Loss 0.0476\n",
      "Training Accuracy: 0.9516, Testing Accuracy: 0.9622\n",
      "\n"
     ]
    },
    {
     "name": "stdout",
     "output_type": "stream",
     "text": [
      "Epoch 100, Loss 0.0462\n",
      "Training Accuracy: 0.9528, Testing Accuracy: 0.9632\n",
      "\n"
     ]
    },
    {
     "name": "stdout",
     "output_type": "stream",
     "text": [
      "Epoch 110, Loss 0.045\n",
      "Training Accuracy: 0.9534, Testing Accuracy: 0.9632\n",
      "\n"
     ]
    },
    {
     "name": "stdout",
     "output_type": "stream",
     "text": [
      "Epoch 120, Loss 0.044\n",
      "Training Accuracy: 0.9541, Testing Accuracy: 0.9642\n",
      "\n"
     ]
    },
    {
     "name": "stdout",
     "output_type": "stream",
     "text": [
      "Epoch 130, Loss 0.043\n",
      "Training Accuracy: 0.9553, Testing Accuracy: 0.9652\n",
      "\n"
     ]
    },
    {
     "name": "stdout",
     "output_type": "stream",
     "text": [
      "Epoch 140, Loss 0.0422\n",
      "Training Accuracy: 0.9562, Testing Accuracy: 0.9667\n",
      "\n"
     ]
    },
    {
     "name": "stdout",
     "output_type": "stream",
     "text": [
      "Epoch 150, Loss 0.0415\n",
      "Training Accuracy: 0.9565, Testing Accuracy: 0.9667\n",
      "\n"
     ]
    },
    {
     "name": "stdout",
     "output_type": "stream",
     "text": [
      "Epoch 160, Loss 0.0408\n",
      "Training Accuracy: 0.9571, Testing Accuracy: 0.9672\n",
      "\n"
     ]
    },
    {
     "name": "stdout",
     "output_type": "stream",
     "text": [
      "Epoch 170, Loss 0.0402\n",
      "Training Accuracy: 0.9569, Testing Accuracy: 0.9672\n",
      "\n"
     ]
    },
    {
     "name": "stdout",
     "output_type": "stream",
     "text": [
      "Epoch 180, Loss 0.0396\n",
      "Training Accuracy: 0.9574, Testing Accuracy: 0.9677\n",
      "\n"
     ]
    },
    {
     "name": "stdout",
     "output_type": "stream",
     "text": [
      "Epoch 190, Loss 0.0391\n",
      "Training Accuracy: 0.9579, Testing Accuracy: 0.9677\n",
      "\n"
     ]
    },
    {
     "name": "stdout",
     "output_type": "stream",
     "text": [
      "Epoch 200, Loss 0.0386\n",
      "Training Accuracy: 0.9583, Testing Accuracy: 0.9677\n",
      "\n"
     ]
    },
    {
     "name": "stdout",
     "output_type": "stream",
     "text": [
      "Epoch 210, Loss 0.0382\n",
      "Training Accuracy: 0.9590, Testing Accuracy: 0.9677\n",
      "\n"
     ]
    },
    {
     "name": "stdout",
     "output_type": "stream",
     "text": [
      "Epoch 220, Loss 0.0378\n",
      "Training Accuracy: 0.9594, Testing Accuracy: 0.9677\n",
      "\n"
     ]
    },
    {
     "name": "stdout",
     "output_type": "stream",
     "text": [
      "Epoch 230, Loss 0.0374\n",
      "Training Accuracy: 0.9596, Testing Accuracy: 0.9682\n",
      "\n"
     ]
    },
    {
     "name": "stdout",
     "output_type": "stream",
     "text": [
      "Epoch 240, Loss 0.037\n",
      "Training Accuracy: 0.9600, Testing Accuracy: 0.9682\n",
      "\n"
     ]
    },
    {
     "data": {
      "text/plain": [
       "0.025898324281823176"
      ]
     },
     "execution_count": 23,
     "metadata": {},
     "output_type": "execute_result"
    }
   ],
   "source": [
    "lr_learner.train_loop(dl)"
   ]
  },
  {
   "cell_type": "code",
   "execution_count": 24,
   "id": "ca410940",
   "metadata": {
    "execution": {
     "iopub.execute_input": "2022-11-01T20:15:13.763518Z",
     "iopub.status.busy": "2022-11-01T20:15:13.762929Z",
     "iopub.status.idle": "2022-11-01T20:15:13.990576Z",
     "shell.execute_reply": "2022-11-01T20:15:13.991009Z"
    },
    "papermill": {
     "duration": 0.278442,
     "end_time": "2022-11-01T20:15:13.991142",
     "exception": false,
     "start_time": "2022-11-01T20:15:13.712700",
     "status": "completed"
    },
    "tags": []
   },
   "outputs": [
    {
     "data": {
      "text/plain": [
       "<matplotlib.legend.Legend at 0x7f43a2f81390>"
      ]
     },
     "execution_count": 24,
     "metadata": {},
     "output_type": "execute_result"
    },
    {
     "data": {
      "image/png": "[encoded data removed]",
      "text/plain": [
       "<Figure size 1080x720 with 1 Axes>"
      ]
     },
     "metadata": {
      "needs_background": "light"
     },
     "output_type": "display_data"
    }
   ],
   "source": [
    "#comparing the results of NN and LR\n",
    "plt.figure(figsize=(15,10))\n",
    "\n",
    "# Neural Network plots\n",
    "plt.plot(acc_nn.accuracies, 'r-', label = \"Training Accuracies - NN\")\n",
    "plt.plot(acc_nn.test_accuracies, 'g-', label = \"Testing Accuracies - NN\")\n",
    "\n",
    "# Logistic Regression plots\n",
    "plt.plot(acc_lr.accuracies, 'k-', label = \"Training Accuracies - LR\")\n",
    "plt.plot(acc_lr.test_accuracies, 'b-', label = \"Testing Accuracies - LR\")\n",
    "plt.legend()"
   ]
  },
  {
   "cell_type": "markdown",
   "id": "80dfb35c",
   "metadata": {
    "papermill": {
     "duration": 0.042943,
     "end_time": "2022-11-01T20:15:14.076941",
     "exception": false,
     "start_time": "2022-11-01T20:15:14.033998",
     "status": "completed"
    },
    "tags": []
   },
   "source": [
    "#### Plotting the outputs of this layer of the NN.\n"
   ]
  },
  {
   "cell_type": "code",
   "execution_count": 25,
   "id": "45eb2ff5",
   "metadata": {
    "execution": {
     "iopub.execute_input": "2022-11-01T20:15:14.165362Z",
     "iopub.status.busy": "2022-11-01T20:15:14.164806Z",
     "iopub.status.idle": "2022-11-01T20:15:14.200540Z",
     "shell.execute_reply": "2022-11-01T20:15:14.201320Z"
    },
    "papermill": {
     "duration": 0.082015,
     "end_time": "2022-11-01T20:15:14.201457",
     "exception": false,
     "start_time": "2022-11-01T20:15:14.119442",
     "status": "completed"
    },
    "tags": []
   },
   "outputs": [],
   "source": [
    "new_model = Model(layers[:-2])\n",
    "testing_plot = new_model(testing_data_x)"
   ]
  },
  {
   "cell_type": "code",
   "execution_count": 26,
   "id": "4c0a5485",
   "metadata": {
    "execution": {
     "iopub.execute_input": "2022-11-01T20:15:14.294898Z",
     "iopub.status.busy": "2022-11-01T20:15:14.294361Z",
     "iopub.status.idle": "2022-11-01T20:15:14.505029Z",
     "shell.execute_reply": "2022-11-01T20:15:14.505472Z"
    },
    "papermill": {
     "duration": 0.26095,
     "end_time": "2022-11-01T20:15:14.505595",
     "exception": false,
     "start_time": "2022-11-01T20:15:14.244645",
     "status": "completed"
    },
    "tags": []
   },
   "outputs": [
    {
     "data": {
      "text/plain": [
       "Text(0.5, 1.0, 'Outputs')"
      ]
     },
     "execution_count": 26,
     "metadata": {},
     "output_type": "execute_result"
    },
    {
     "data": {
      "image/png": "[encoded data removed]",
      "text/plain": [
       "<Figure size 576x504 with 1 Axes>"
      ]
     },
     "metadata": {
      "needs_background": "light"
     },
     "output_type": "display_data"
    }
   ],
   "source": [
    "# Plotting the scatter plot of points and color coding by class\n",
    "plt.figure(figsize=(8,7))\n",
    "plt.scatter(testing_plot[:,0], testing_plot[:,1], alpha = 0.1, c = y_test.ravel());\n",
    "plt.title('Outputs')"
   ]
  },
  {
   "cell_type": "markdown",
   "id": "a74fcf8f",
   "metadata": {
    "papermill": {
     "duration": 0.045908,
     "end_time": "2022-11-01T20:15:14.618671",
     "exception": false,
     "start_time": "2022-11-01T20:15:14.572763",
     "status": "completed"
    },
    "tags": []
   },
   "source": [
    "Probability contours"
   ]
  },
  {
   "cell_type": "code",
   "execution_count": 27,
   "id": "d0afc8e3",
   "metadata": {
    "execution": {
     "iopub.execute_input": "2022-11-01T20:15:14.715285Z",
     "iopub.status.busy": "2022-11-01T20:15:14.714702Z",
     "iopub.status.idle": "2022-11-01T20:15:14.725128Z",
     "shell.execute_reply": "2022-11-01T20:15:14.725562Z"
    },
    "papermill": {
     "duration": 0.061158,
     "end_time": "2022-11-01T20:15:14.725677",
     "exception": false,
     "start_time": "2022-11-01T20:15:14.664519",
     "status": "completed"
    },
    "tags": []
   },
   "outputs": [],
   "source": [
    "model_prob = Model(layers[-2:]) "
   ]
  },
  {
   "cell_type": "code",
   "execution_count": 28,
   "id": "9b96e238",
   "metadata": {
    "execution": {
     "iopub.execute_input": "2022-11-01T20:15:14.821437Z",
     "iopub.status.busy": "2022-11-01T20:15:14.820883Z",
     "iopub.status.idle": "2022-11-01T20:15:14.833358Z",
     "shell.execute_reply": "2022-11-01T20:15:14.833797Z"
    },
    "papermill": {
     "duration": 0.062353,
     "end_time": "2022-11-01T20:15:14.833919",
     "exception": false,
     "start_time": "2022-11-01T20:15:14.771566",
     "status": "completed"
    },
    "tags": []
   },
   "outputs": [],
   "source": [
    "#creating the x and y ranges according to the above generated plot.\n",
    "x_range = np.linspace(-4, 1, 100) \n",
    "y_range = np.linspace(-6, 6, 100) \n",
    "x_grid, y_grid = np.meshgrid(x_range, y_range) # x_grid and y_grig are of size 100 X 100\n",
    "\n",
    "# converting x_grid and y_grid to continuous arrays\n",
    "x_gridflat = np.ravel(x_grid)\n",
    "y_gridflat = np.ravel(y_grid)\n",
    "\n",
    "# The last layer of the current model takes two columns as input. Hence transpose of np.vstack() is required.\n",
    "X = np.vstack((x_gridflat, y_gridflat)).T\n",
    "\n",
    "prob_contour = model_prob(X).reshape(100,100) "
   ]
  },
  {
   "cell_type": "code",
   "execution_count": 29,
   "id": "da72499a",
   "metadata": {
    "execution": {
     "iopub.execute_input": "2022-11-01T20:15:14.930301Z",
     "iopub.status.busy": "2022-11-01T20:15:14.929733Z",
     "iopub.status.idle": "2022-11-01T20:15:15.160870Z",
     "shell.execute_reply": "2022-11-01T20:15:15.160394Z"
    },
    "papermill": {
     "duration": 0.280701,
     "end_time": "2022-11-01T20:15:15.160982",
     "exception": false,
     "start_time": "2022-11-01T20:15:14.880281",
     "status": "completed"
    },
    "tags": []
   },
   "outputs": [
    {
     "data": {
      "image/png": "[encoded data removed]",
      "text/plain": [
       "<Figure size 720x648 with 1 Axes>"
      ]
     },
     "metadata": {
      "needs_background": "light"
     },
     "output_type": "display_data"
    }
   ],
   "source": [
    "plt.figure(figsize=(10,9))\n",
    "plt.scatter(testing_plot[:,0], testing_plot[:,1], alpha = 0.1, c = y_test.ravel())\n",
    "contours = plt.contour(x_grid,y_grid,prob_contour)\n",
    "plt.title('Probability Contours')\n",
    "plt.clabel(contours, inline = True );"
   ]
  },
  {
   "cell_type": "code",
   "execution_count": null,
   "id": "e81b4ac7",
   "metadata": {
    "papermill": {
     "duration": 0.048014,
     "end_time": "2022-11-01T20:15:15.257836",
     "exception": false,
     "start_time": "2022-11-01T20:15:15.209822",
     "status": "completed"
    },
    "tags": []
   },
   "outputs": [],
   "source": []
  }
 ],
 "metadata": {
  "kernelspec": {
   "display_name": "Python 3",
   "language": "python",
   "name": "python3"
  },
  "language_info": {
   "codemirror_mode": {
    "name": "ipython",
    "version": 3
   },
   "file_extension": ".py",
   "mimetype": "text/x-python",
   "name": "python",
   "nbconvert_exporter": "python",
   "pygments_lexer": "ipython3",
   "version": "3.6.15"
  },
  "papermill": {
   "default_parameters": {},
   "duration": 196.913602,
   "end_time": "2022-11-01T20:15:15.622836",
   "environment_variables": {},
   "exception": null,
   "input_path": "2020-08-11-part2.ipynb",
   "output_path": "2020-08-11-part2.ipynb",
   "parameters": {},
   "start_time": "2022-11-01T20:11:58.709234",
   "version": "2.3.3"
  }
 },
 "nbformat": 4,
 "nbformat_minor": 5
}