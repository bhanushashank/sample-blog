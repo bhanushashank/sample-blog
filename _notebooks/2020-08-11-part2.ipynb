{
 "cells": [
  {
   "cell_type": "markdown",
   "id": "98380cd3",
   "metadata": {
    "papermill": {
     "duration": 0.02861,
     "end_time": "2022-02-16T00:24:21.981308",
     "exception": false,
     "start_time": "2022-02-16T00:24:21.952698",
     "status": "completed"
    },
    "tags": []
   },
   "source": [
    "# Distinguish Your Own Digits (DYOD)"
   ]
  },
  {
   "cell_type": "markdown",
   "id": "ef31240d",
   "metadata": {
    "papermill": {
     "duration": 0.025169,
     "end_time": "2022-02-16T00:24:22.030913",
     "exception": false,
     "start_time": "2022-02-16T00:24:22.005744",
     "status": "completed"
    },
    "tags": []
   },
   "source": [
    "You are going to write a classifier that distinguishes between the number 3 and number 8."
   ]
  },
  {
   "cell_type": "code",
   "execution_count": 1,
   "id": "b15c8646",
   "metadata": {
    "execution": {
     "iopub.execute_input": "2022-02-16T00:24:22.088800Z",
     "iopub.status.busy": "2022-02-16T00:24:22.088234Z",
     "iopub.status.idle": "2022-02-16T00:24:22.098927Z",
     "shell.execute_reply": "2022-02-16T00:24:22.098463Z"
    },
    "papermill": {
     "duration": 0.04437,
     "end_time": "2022-02-16T00:24:22.099072",
     "exception": false,
     "start_time": "2022-02-16T00:24:22.054702",
     "status": "completed"
    },
    "tags": []
   },
   "outputs": [],
   "source": [
    "%load_ext autoreload\n",
    "%autoreload 2"
   ]
  },
  {
   "cell_type": "code",
   "execution_count": 2,
   "id": "22ef38dc",
   "metadata": {
    "execution": {
     "iopub.execute_input": "2022-02-16T00:24:22.151303Z",
     "iopub.status.busy": "2022-02-16T00:24:22.150776Z",
     "iopub.status.idle": "2022-02-16T00:24:22.732282Z",
     "shell.execute_reply": "2022-02-16T00:24:22.731710Z"
    },
    "papermill": {
     "duration": 0.609252,
     "end_time": "2022-02-16T00:24:22.732436",
     "exception": false,
     "start_time": "2022-02-16T00:24:22.123184",
     "status": "completed"
    },
    "tags": []
   },
   "outputs": [],
   "source": [
    "%matplotlib inline\n",
    "import numpy as np\n",
    "import matplotlib.pyplot as plt\n",
    "import pandas as pd"
   ]
  },
  {
   "cell_type": "markdown",
   "id": "ba036198",
   "metadata": {
    "papermill": {
     "duration": 0.023786,
     "end_time": "2022-02-16T00:24:22.781397",
     "exception": false,
     "start_time": "2022-02-16T00:24:22.757611",
     "status": "completed"
    },
    "tags": []
   },
   "source": [
    "From the command line run `pip install mnist`. This is a library that will help you bring down the mnist dataset. If you run this from a notebook, you need to put  `!pip install mnist` in a cell by itself."
   ]
  },
  {
   "cell_type": "code",
   "execution_count": 3,
   "id": "bb6ad8a1",
   "metadata": {
    "execution": {
     "iopub.execute_input": "2022-02-16T00:24:22.833876Z",
     "iopub.status.busy": "2022-02-16T00:24:22.833334Z",
     "iopub.status.idle": "2022-02-16T00:24:25.276053Z",
     "shell.execute_reply": "2022-02-16T00:24:25.275070Z"
    },
    "papermill": {
     "duration": 2.470985,
     "end_time": "2022-02-16T00:24:25.276209",
     "exception": false,
     "start_time": "2022-02-16T00:24:22.805224",
     "status": "completed"
    },
    "tags": []
   },
   "outputs": [
    {
     "name": "stdout",
     "output_type": "stream",
     "text": [
      "Collecting mnist\r\n",
      "  Downloading mnist-0.2.2-py2.py3-none-any.whl (3.5 kB)\r\n"
     ]
    },
    {
     "name": "stdout",
     "output_type": "stream",
     "text": [
      "Requirement already satisfied: numpy in /opt/hostedtoolcache/Python/3.6.15/x64/lib/python3.6/site-packages (from mnist) (1.19.5)\r\n"
     ]
    },
    {
     "name": "stdout",
     "output_type": "stream",
     "text": [
      "Installing collected packages: mnist\r\n"
     ]
    },
    {
     "name": "stdout",
     "output_type": "stream",
     "text": [
      "Successfully installed mnist-0.2.2\r\n"
     ]
    }
   ],
   "source": [
    "!pip install mnist"
   ]
  },
  {
   "cell_type": "markdown",
   "id": "69df9c9a",
   "metadata": {
    "papermill": {
     "duration": 0.025089,
     "end_time": "2022-02-16T00:24:25.327000",
     "exception": false,
     "start_time": "2022-02-16T00:24:25.301911",
     "status": "completed"
    },
    "tags": []
   },
   "source": [
    "## Preparing the Data"
   ]
  },
  {
   "cell_type": "code",
   "execution_count": 4,
   "id": "7f69d806",
   "metadata": {
    "execution": {
     "iopub.execute_input": "2022-02-16T00:24:25.390260Z",
     "iopub.status.busy": "2022-02-16T00:24:25.380359Z",
     "iopub.status.idle": "2022-02-16T00:24:25.396122Z",
     "shell.execute_reply": "2022-02-16T00:24:25.396512Z"
    },
    "papermill": {
     "duration": 0.044784,
     "end_time": "2022-02-16T00:24:25.396648",
     "exception": false,
     "start_time": "2022-02-16T00:24:25.351864",
     "status": "completed"
    },
    "tags": []
   },
   "outputs": [],
   "source": [
    "import mnist"
   ]
  },
  {
   "cell_type": "code",
   "execution_count": 5,
   "id": "a411e44f",
   "metadata": {
    "execution": {
     "iopub.execute_input": "2022-02-16T00:24:25.460407Z",
     "iopub.status.busy": "2022-02-16T00:24:25.455215Z",
     "iopub.status.idle": "2022-02-16T00:24:25.980486Z",
     "shell.execute_reply": "2022-02-16T00:24:25.979901Z"
    },
    "papermill": {
     "duration": 0.559108,
     "end_time": "2022-02-16T00:24:25.980626",
     "exception": false,
     "start_time": "2022-02-16T00:24:25.421518",
     "status": "completed"
    },
    "tags": []
   },
   "outputs": [],
   "source": [
    "train_images = mnist.train_images()\n",
    "train_labels = mnist.train_labels()"
   ]
  },
  {
   "cell_type": "code",
   "execution_count": 6,
   "id": "dceab3a5",
   "metadata": {
    "execution": {
     "iopub.execute_input": "2022-02-16T00:24:26.040327Z",
     "iopub.status.busy": "2022-02-16T00:24:26.035741Z",
     "iopub.status.idle": "2022-02-16T00:24:26.051172Z",
     "shell.execute_reply": "2022-02-16T00:24:26.050733Z"
    },
    "papermill": {
     "duration": 0.045225,
     "end_time": "2022-02-16T00:24:26.051282",
     "exception": false,
     "start_time": "2022-02-16T00:24:26.006057",
     "status": "completed"
    },
    "tags": []
   },
   "outputs": [
    {
     "data": {
      "text/plain": [
       "((60000, 28, 28), (60000,))"
      ]
     },
     "execution_count": 6,
     "metadata": {},
     "output_type": "execute_result"
    }
   ],
   "source": [
    "train_images.shape, train_labels.shape"
   ]
  },
  {
   "cell_type": "code",
   "execution_count": 7,
   "id": "f50dc2bb",
   "metadata": {
    "execution": {
     "iopub.execute_input": "2022-02-16T00:24:26.117113Z",
     "iopub.status.busy": "2022-02-16T00:24:26.116403Z",
     "iopub.status.idle": "2022-02-16T00:24:26.225350Z",
     "shell.execute_reply": "2022-02-16T00:24:26.224825Z"
    },
    "papermill": {
     "duration": 0.148821,
     "end_time": "2022-02-16T00:24:26.225500",
     "exception": false,
     "start_time": "2022-02-16T00:24:26.076679",
     "status": "completed"
    },
    "tags": []
   },
   "outputs": [],
   "source": [
    "test_images = mnist.test_images()\n",
    "test_labels = mnist.test_labels()"
   ]
  },
  {
   "cell_type": "code",
   "execution_count": 8,
   "id": "fc38cf1b",
   "metadata": {
    "execution": {
     "iopub.execute_input": "2022-02-16T00:24:26.294100Z",
     "iopub.status.busy": "2022-02-16T00:24:26.290010Z",
     "iopub.status.idle": "2022-02-16T00:24:26.297120Z",
     "shell.execute_reply": "2022-02-16T00:24:26.296675Z"
    },
    "papermill": {
     "duration": 0.046167,
     "end_time": "2022-02-16T00:24:26.297237",
     "exception": false,
     "start_time": "2022-02-16T00:24:26.251070",
     "status": "completed"
    },
    "tags": []
   },
   "outputs": [
    {
     "data": {
      "text/plain": [
       "((10000, 28, 28), (10000,))"
      ]
     },
     "execution_count": 8,
     "metadata": {},
     "output_type": "execute_result"
    }
   ],
   "source": [
    "test_images.shape, test_labels.shape"
   ]
  },
  {
   "cell_type": "code",
   "execution_count": 9,
   "id": "f9ed8fe0",
   "metadata": {
    "execution": {
     "iopub.execute_input": "2022-02-16T00:24:26.352812Z",
     "iopub.status.busy": "2022-02-16T00:24:26.352306Z",
     "iopub.status.idle": "2022-02-16T00:24:26.487948Z",
     "shell.execute_reply": "2022-02-16T00:24:26.488431Z"
    },
    "papermill": {
     "duration": 0.165515,
     "end_time": "2022-02-16T00:24:26.488588",
     "exception": false,
     "start_time": "2022-02-16T00:24:26.323073",
     "status": "completed"
    },
    "tags": []
   },
   "outputs": [
    {
     "name": "stdout",
     "output_type": "stream",
     "text": [
      "2\n"
     ]
    },
    {
     "data": {
      "text/plain": [
       "<matplotlib.image.AxesImage at 0x7f22314465f8>"
      ]
     },
     "execution_count": 9,
     "metadata": {},
     "output_type": "execute_result"
    },
    {
     "data": {
      "image/png": "[encoded data removed]",
      "text/plain": [
       "<Figure size 432x288 with 1 Axes>"
      ]
     },
     "metadata": {
      "needs_background": "light"
     },
     "output_type": "display_data"
    }
   ],
   "source": [
    "image_index = 7776 # You may select anything up to 60,000\n",
    "print(train_labels[image_index]) \n",
    "plt.imshow(train_images[image_index], cmap='Greys')"
   ]
  },
  {
   "cell_type": "markdown",
   "id": "a8d2388d",
   "metadata": {
    "papermill": {
     "duration": 0.026991,
     "end_time": "2022-02-16T00:24:26.542820",
     "exception": false,
     "start_time": "2022-02-16T00:24:26.515829",
     "status": "completed"
    },
    "tags": []
   },
   "source": [
    "## Filter data to get 3 and 8 out"
   ]
  },
  {
   "cell_type": "code",
   "execution_count": 10,
   "id": "776f7fc7",
   "metadata": {
    "execution": {
     "iopub.execute_input": "2022-02-16T00:24:26.602761Z",
     "iopub.status.busy": "2022-02-16T00:24:26.602234Z",
     "iopub.status.idle": "2022-02-16T00:24:26.621190Z",
     "shell.execute_reply": "2022-02-16T00:24:26.620760Z"
    },
    "papermill": {
     "duration": 0.051641,
     "end_time": "2022-02-16T00:24:26.621315",
     "exception": false,
     "start_time": "2022-02-16T00:24:26.569674",
     "status": "completed"
    },
    "tags": []
   },
   "outputs": [],
   "source": [
    "train_filter = np.where((train_labels == 3 ) | (train_labels == 8))\n",
    "test_filter = np.where((test_labels == 3) | (test_labels == 8))\n",
    "X_train, y_train = train_images[train_filter], train_labels[train_filter]\n",
    "X_test, y_test = test_images[test_filter], test_labels[test_filter]"
   ]
  },
  {
   "cell_type": "markdown",
   "id": "948f0b7e",
   "metadata": {
    "papermill": {
     "duration": 0.026365,
     "end_time": "2022-02-16T00:24:26.674420",
     "exception": false,
     "start_time": "2022-02-16T00:24:26.648055",
     "status": "completed"
    },
    "tags": []
   },
   "source": [
    "We normalize the pizel values in the 0 to 1 range"
   ]
  },
  {
   "cell_type": "code",
   "execution_count": 11,
   "id": "ee4c2166",
   "metadata": {
    "execution": {
     "iopub.execute_input": "2022-02-16T00:24:26.730974Z",
     "iopub.status.busy": "2022-02-16T00:24:26.730463Z",
     "iopub.status.idle": "2022-02-16T00:24:26.778657Z",
     "shell.execute_reply": "2022-02-16T00:24:26.778148Z"
    },
    "papermill": {
     "duration": 0.077819,
     "end_time": "2022-02-16T00:24:26.778803",
     "exception": false,
     "start_time": "2022-02-16T00:24:26.700984",
     "status": "completed"
    },
    "tags": []
   },
   "outputs": [],
   "source": [
    "X_train = X_train/255.\n",
    "X_test = X_test/255."
   ]
  },
  {
   "cell_type": "markdown",
   "id": "ddcf4fab",
   "metadata": {
    "papermill": {
     "duration": 0.026484,
     "end_time": "2022-02-16T00:24:26.833038",
     "exception": false,
     "start_time": "2022-02-16T00:24:26.806554",
     "status": "completed"
    },
    "tags": []
   },
   "source": [
    "And setup the labels as 1 (when the digit is 3) and 0 (when the digit is 8)"
   ]
  },
  {
   "cell_type": "code",
   "execution_count": 12,
   "id": "7dc908f2",
   "metadata": {
    "execution": {
     "iopub.execute_input": "2022-02-16T00:24:26.890093Z",
     "iopub.status.busy": "2022-02-16T00:24:26.889574Z",
     "iopub.status.idle": "2022-02-16T00:24:26.902629Z",
     "shell.execute_reply": "2022-02-16T00:24:26.901893Z"
    },
    "papermill": {
     "duration": 0.043064,
     "end_time": "2022-02-16T00:24:26.902748",
     "exception": false,
     "start_time": "2022-02-16T00:24:26.859684",
     "status": "completed"
    },
    "tags": []
   },
   "outputs": [],
   "source": [
    "y_train = 1*(y_train==3)\n",
    "y_test = 1*(y_test==3)"
   ]
  },
  {
   "cell_type": "code",
   "execution_count": 13,
   "id": "01e4e969",
   "metadata": {
    "execution": {
     "iopub.execute_input": "2022-02-16T00:24:26.962008Z",
     "iopub.status.busy": "2022-02-16T00:24:26.961491Z",
     "iopub.status.idle": "2022-02-16T00:24:26.972205Z",
     "shell.execute_reply": "2022-02-16T00:24:26.971766Z"
    },
    "papermill": {
     "duration": 0.043052,
     "end_time": "2022-02-16T00:24:26.972312",
     "exception": false,
     "start_time": "2022-02-16T00:24:26.929260",
     "status": "completed"
    },
    "tags": []
   },
   "outputs": [
    {
     "data": {
      "text/plain": [
       "((11982, 28, 28), (1984, 28, 28))"
      ]
     },
     "execution_count": 13,
     "metadata": {},
     "output_type": "execute_result"
    }
   ],
   "source": [
    "X_train.shape, X_test.shape"
   ]
  },
  {
   "cell_type": "markdown",
   "id": "5ccf3f85",
   "metadata": {
    "papermill": {
     "duration": 0.026718,
     "end_time": "2022-02-16T00:24:27.025881",
     "exception": false,
     "start_time": "2022-02-16T00:24:26.999163",
     "status": "completed"
    },
    "tags": []
   },
   "source": [
    "We reshape the data to flatten the image pixels into a set of features or co-variates:"
   ]
  },
  {
   "cell_type": "code",
   "execution_count": 14,
   "id": "5286a4a3",
   "metadata": {
    "execution": {
     "iopub.execute_input": "2022-02-16T00:24:27.083571Z",
     "iopub.status.busy": "2022-02-16T00:24:27.083022Z",
     "iopub.status.idle": "2022-02-16T00:24:27.096857Z",
     "shell.execute_reply": "2022-02-16T00:24:27.097293Z"
    },
    "papermill": {
     "duration": 0.044698,
     "end_time": "2022-02-16T00:24:27.097424",
     "exception": false,
     "start_time": "2022-02-16T00:24:27.052726",
     "status": "completed"
    },
    "tags": []
   },
   "outputs": [
    {
     "data": {
      "text/plain": [
       "((11982, 784), (1984, 784))"
      ]
     },
     "execution_count": 14,
     "metadata": {},
     "output_type": "execute_result"
    }
   ],
   "source": [
    "X_train = X_train.reshape(X_train.shape[0], -1)\n",
    "X_test = X_test.reshape(X_test.shape[0], -1)\n",
    "X_train.shape, X_test.shape"
   ]
  },
  {
   "cell_type": "code",
   "execution_count": 15,
   "id": "73c5f88a",
   "metadata": {
    "execution": {
     "iopub.execute_input": "2022-02-16T00:24:27.158023Z",
     "iopub.status.busy": "2022-02-16T00:24:27.157500Z",
     "iopub.status.idle": "2022-02-16T00:24:27.174149Z",
     "shell.execute_reply": "2022-02-16T00:24:27.174593Z"
    },
    "papermill": {
     "duration": 0.050216,
     "end_time": "2022-02-16T00:24:27.174742",
     "exception": false,
     "start_time": "2022-02-16T00:24:27.124526",
     "status": "completed"
    },
    "tags": []
   },
   "outputs": [],
   "source": [
    "#Impoting functions from 'Kudzu'\n",
    "from kudzu.model import Model\n",
    "from kudzu.train import Learner\n",
    "from kudzu.optim import GD\n",
    "from kudzu.data import Data, Sampler,Dataloader\n",
    "\n",
    "from kudzu.callbacks import AccCallback\n",
    "from kudzu.callbacks import ClfCallback\n",
    "\n",
    "from kudzu.loss import MSE\n",
    "\n",
    "from kudzu.layer import Sigmoid,Relu\n",
    "from kudzu.layer import Affine"
   ]
  },
  {
   "cell_type": "markdown",
   "id": "bc01172a",
   "metadata": {
    "papermill": {
     "duration": 0.026832,
     "end_time": "2022-02-16T00:24:27.229636",
     "exception": false,
     "start_time": "2022-02-16T00:24:27.202804",
     "status": "completed"
    },
    "tags": []
   },
   "source": [
    "### Let us create a `Config` class, to store important parameters. \n",
    "This class essentially plays the role of a dictionary."
   ]
  },
  {
   "cell_type": "code",
   "execution_count": 16,
   "id": "978281aa",
   "metadata": {
    "execution": {
     "iopub.execute_input": "2022-02-16T00:24:27.299601Z",
     "iopub.status.busy": "2022-02-16T00:24:27.296585Z",
     "iopub.status.idle": "2022-02-16T00:24:27.301956Z",
     "shell.execute_reply": "2022-02-16T00:24:27.301513Z"
    },
    "papermill": {
     "duration": 0.045465,
     "end_time": "2022-02-16T00:24:27.302078",
     "exception": false,
     "start_time": "2022-02-16T00:24:27.256613",
     "status": "completed"
    },
    "tags": []
   },
   "outputs": [],
   "source": [
    "class Config:\n",
    "    pass\n",
    "config = Config()\n",
    "config.lr = 0.001\n",
    "config.num_epochs = 250\n",
    "config.bs = 50"
   ]
  },
  {
   "cell_type": "markdown",
   "id": "1385fa59",
   "metadata": {
    "papermill": {
     "duration": 0.026834,
     "end_time": "2022-02-16T00:24:27.356526",
     "exception": false,
     "start_time": "2022-02-16T00:24:27.329692",
     "status": "completed"
    },
    "tags": []
   },
   "source": [
    "### Running Models with the Training data\n",
    "Details about the network layers:\n",
    "- A first affine layer has 784 inputs and does 100 affine transforms. These are followed by a Relu\n",
    "- A second affine layer has 100 inputs from the 100 activations of the past layer, and does 100 affine transforms. These are followed by a Relu\n",
    "- A third affine layer has 100 activations and does 2 affine transformations to create an embedding for visualization. There is no non-linearity here.\n",
    "- A final \"logistic regression\" which has an affine transform from 2 inputs to 1 output, which is squeezed through a sigmoid.\n"
   ]
  },
  {
   "cell_type": "code",
   "execution_count": 17,
   "id": "2b9c66db",
   "metadata": {
    "execution": {
     "iopub.execute_input": "2022-02-16T00:24:27.416885Z",
     "iopub.status.busy": "2022-02-16T00:24:27.416347Z",
     "iopub.status.idle": "2022-02-16T00:24:27.427598Z",
     "shell.execute_reply": "2022-02-16T00:24:27.427123Z"
    },
    "papermill": {
     "duration": 0.044066,
     "end_time": "2022-02-16T00:24:27.427715",
     "exception": false,
     "start_time": "2022-02-16T00:24:27.383649",
     "status": "completed"
    },
    "tags": []
   },
   "outputs": [],
   "source": [
    "data = Data(X_train, y_train.reshape(-1,1))\n",
    "sampler = Sampler(data, config.bs, shuffle=True)\n",
    "\n",
    "dl = Dataloader(data, sampler)\n",
    "\n",
    "opt = GD(config.lr)\n",
    "loss = MSE()"
   ]
  },
  {
   "cell_type": "code",
   "execution_count": 18,
   "id": "b275e4c2",
   "metadata": {
    "execution": {
     "iopub.execute_input": "2022-02-16T00:24:27.487998Z",
     "iopub.status.busy": "2022-02-16T00:24:27.487431Z",
     "iopub.status.idle": "2022-02-16T00:24:27.497676Z",
     "shell.execute_reply": "2022-02-16T00:24:27.498114Z"
    },
    "papermill": {
     "duration": 0.043529,
     "end_time": "2022-02-16T00:24:27.498242",
     "exception": false,
     "start_time": "2022-02-16T00:24:27.454713",
     "status": "completed"
    },
    "tags": []
   },
   "outputs": [],
   "source": [
    "training_data_x = X_train\n",
    "testing_data_x = X_test\n",
    "training_data_y = y_train.reshape(-1,1)\n",
    "testing_data_y = y_test.reshape(-1,1)"
   ]
  },
  {
   "cell_type": "code",
   "execution_count": 19,
   "id": "76951160",
   "metadata": {
    "execution": {
     "iopub.execute_input": "2022-02-16T00:24:27.556734Z",
     "iopub.status.busy": "2022-02-16T00:24:27.556218Z",
     "iopub.status.idle": "2022-02-16T00:24:27.571509Z",
     "shell.execute_reply": "2022-02-16T00:24:27.571972Z"
    },
    "papermill": {
     "duration": 0.046852,
     "end_time": "2022-02-16T00:24:27.572101",
     "exception": false,
     "start_time": "2022-02-16T00:24:27.525249",
     "status": "completed"
    },
    "tags": []
   },
   "outputs": [
    {
     "name": "stdout",
     "output_type": "stream",
     "text": [
      "xavier\n",
      "xavier\n",
      "xavier\n",
      "xavier\n",
      "xavier\n"
     ]
    }
   ],
   "source": [
    "layers = [Affine(\"first\", 784, 100), Relu(\"first\"), Affine(\"second\", 100, 100), Relu(\"second\"), Affine(\"third\", 100, 2), Affine(\"last\", 2, 1), Sigmoid(\"last\")]\n",
    "model_nn = Model(layers)\n",
    "model_lr = Model([Affine(\"logits\", 784, 1), Sigmoid(\"sigmoid\")])"
   ]
  },
  {
   "cell_type": "code",
   "execution_count": 20,
   "id": "6eede77a",
   "metadata": {
    "execution": {
     "iopub.execute_input": "2022-02-16T00:24:27.630475Z",
     "iopub.status.busy": "2022-02-16T00:24:27.629957Z",
     "iopub.status.idle": "2022-02-16T00:24:27.641959Z",
     "shell.execute_reply": "2022-02-16T00:24:27.641543Z"
    },
    "papermill": {
     "duration": 0.042644,
     "end_time": "2022-02-16T00:24:27.642074",
     "exception": false,
     "start_time": "2022-02-16T00:24:27.599430",
     "status": "completed"
    },
    "tags": []
   },
   "outputs": [],
   "source": [
    "nn_learner = Learner(loss, model_nn, opt, config.num_epochs)\n",
    "acc_nn = ClfCallback(nn_learner, config.bs, training_data_x , testing_data_x, training_data_y, testing_data_y)\n",
    "nn_learner.set_callbacks([acc_nn])"
   ]
  },
  {
   "cell_type": "code",
   "execution_count": 21,
   "id": "877b6cc7",
   "metadata": {
    "execution": {
     "iopub.execute_input": "2022-02-16T00:24:27.701482Z",
     "iopub.status.busy": "2022-02-16T00:24:27.700956Z",
     "iopub.status.idle": "2022-02-16T00:24:27.712266Z",
     "shell.execute_reply": "2022-02-16T00:24:27.711840Z"
    },
    "papermill": {
     "duration": 0.042866,
     "end_time": "2022-02-16T00:24:27.712381",
     "exception": false,
     "start_time": "2022-02-16T00:24:27.669515",
     "status": "completed"
    },
    "tags": []
   },
   "outputs": [],
   "source": [
    "lr_learner = Learner(loss, model_lr, opt, config.num_epochs)\n",
    "acc_lr = ClfCallback(lr_learner, config.bs, training_data_x , testing_data_x, training_data_y, testing_data_y)\n",
    "lr_learner.set_callbacks([acc_lr])"
   ]
  },
  {
   "cell_type": "code",
   "execution_count": 22,
   "id": "d9b133c3",
   "metadata": {
    "execution": {
     "iopub.execute_input": "2022-02-16T00:24:27.773645Z",
     "iopub.status.busy": "2022-02-16T00:24:27.773129Z",
     "iopub.status.idle": "2022-02-16T00:25:42.983230Z",
     "shell.execute_reply": "2022-02-16T00:25:42.984021Z"
    },
    "papermill": {
     "duration": 75.244265,
     "end_time": "2022-02-16T00:25:42.984180",
     "exception": false,
     "start_time": "2022-02-16T00:24:27.739915",
     "status": "completed"
    },
    "tags": []
   },
   "outputs": [
    {
     "name": "stdout",
     "output_type": "stream",
     "text": [
      "Epoch 0, Loss 0.2502\n",
      "Training Accuracy: 0.4977, Testing Accuracy: 0.4934\n",
      "\n"
     ]
    },
    {
     "name": "stdout",
     "output_type": "stream",
     "text": [
      "Epoch 10, Loss 0.2409\n",
      "Training Accuracy: 0.8130, Testing Accuracy: 0.8216\n",
      "\n"
     ]
    },
    {
     "name": "stdout",
     "output_type": "stream",
     "text": [
      "Epoch 20, Loss 0.1987\n",
      "Training Accuracy: 0.8824, Testing Accuracy: 0.8931\n",
      "\n"
     ]
    },
    {
     "name": "stdout",
     "output_type": "stream",
     "text": [
      "Epoch 30, Loss 0.1\n",
      "Training Accuracy: 0.9110, Testing Accuracy: 0.9183\n",
      "\n"
     ]
    },
    {
     "name": "stdout",
     "output_type": "stream",
     "text": [
      "Epoch 40, Loss 0.0617\n",
      "Training Accuracy: 0.9354, Testing Accuracy: 0.9435\n",
      "\n"
     ]
    },
    {
     "name": "stdout",
     "output_type": "stream",
     "text": [
      "Epoch 50, Loss 0.0475\n",
      "Training Accuracy: 0.9481, Testing Accuracy: 0.9536\n",
      "\n"
     ]
    },
    {
     "name": "stdout",
     "output_type": "stream",
     "text": [
      "Epoch 60, Loss 0.0406\n",
      "Training Accuracy: 0.9543, Testing Accuracy: 0.9602\n",
      "\n"
     ]
    },
    {
     "name": "stdout",
     "output_type": "stream",
     "text": [
      "Epoch 70, Loss 0.0365\n",
      "Training Accuracy: 0.9587, Testing Accuracy: 0.9657\n",
      "\n"
     ]
    },
    {
     "name": "stdout",
     "output_type": "stream",
     "text": [
      "Epoch 80, Loss 0.0338\n",
      "Training Accuracy: 0.9609, Testing Accuracy: 0.9682\n",
      "\n"
     ]
    },
    {
     "name": "stdout",
     "output_type": "stream",
     "text": [
      "Epoch 90, Loss 0.0319\n",
      "Training Accuracy: 0.9631, Testing Accuracy: 0.9677\n",
      "\n"
     ]
    },
    {
     "name": "stdout",
     "output_type": "stream",
     "text": [
      "Epoch 100, Loss 0.0304\n",
      "Training Accuracy: 0.9643, Testing Accuracy: 0.9688\n",
      "\n"
     ]
    },
    {
     "name": "stdout",
     "output_type": "stream",
     "text": [
      "Epoch 110, Loss 0.0292\n",
      "Training Accuracy: 0.9652, Testing Accuracy: 0.9682\n",
      "\n"
     ]
    },
    {
     "name": "stdout",
     "output_type": "stream",
     "text": [
      "Epoch 120, Loss 0.0281\n",
      "Training Accuracy: 0.9663, Testing Accuracy: 0.9682\n",
      "\n"
     ]
    },
    {
     "name": "stdout",
     "output_type": "stream",
     "text": [
      "Epoch 130, Loss 0.0272\n",
      "Training Accuracy: 0.9676, Testing Accuracy: 0.9682\n",
      "\n"
     ]
    },
    {
     "name": "stdout",
     "output_type": "stream",
     "text": [
      "Epoch 140, Loss 0.0265\n",
      "Training Accuracy: 0.9688, Testing Accuracy: 0.9688\n",
      "\n"
     ]
    },
    {
     "name": "stdout",
     "output_type": "stream",
     "text": [
      "Epoch 150, Loss 0.0257\n",
      "Training Accuracy: 0.9696, Testing Accuracy: 0.9688\n",
      "\n"
     ]
    },
    {
     "name": "stdout",
     "output_type": "stream",
     "text": [
      "Epoch 160, Loss 0.0251\n",
      "Training Accuracy: 0.9699, Testing Accuracy: 0.9698\n",
      "\n"
     ]
    },
    {
     "name": "stdout",
     "output_type": "stream",
     "text": [
      "Epoch 170, Loss 0.0245\n",
      "Training Accuracy: 0.9705, Testing Accuracy: 0.9698\n",
      "\n"
     ]
    },
    {
     "name": "stdout",
     "output_type": "stream",
     "text": [
      "Epoch 180, Loss 0.0239\n",
      "Training Accuracy: 0.9715, Testing Accuracy: 0.9703\n",
      "\n"
     ]
    },
    {
     "name": "stdout",
     "output_type": "stream",
     "text": [
      "Epoch 190, Loss 0.0234\n",
      "Training Accuracy: 0.9725, Testing Accuracy: 0.9713\n",
      "\n"
     ]
    },
    {
     "name": "stdout",
     "output_type": "stream",
     "text": [
      "Epoch 200, Loss 0.0229\n",
      "Training Accuracy: 0.9732, Testing Accuracy: 0.9718\n",
      "\n"
     ]
    },
    {
     "name": "stdout",
     "output_type": "stream",
     "text": [
      "Epoch 210, Loss 0.0224\n",
      "Training Accuracy: 0.9740, Testing Accuracy: 0.9723\n",
      "\n"
     ]
    },
    {
     "name": "stdout",
     "output_type": "stream",
     "text": [
      "Epoch 220, Loss 0.0219\n",
      "Training Accuracy: 0.9742, Testing Accuracy: 0.9718\n",
      "\n"
     ]
    },
    {
     "name": "stdout",
     "output_type": "stream",
     "text": [
      "Epoch 230, Loss 0.0215\n",
      "Training Accuracy: 0.9745, Testing Accuracy: 0.9723\n",
      "\n"
     ]
    },
    {
     "name": "stdout",
     "output_type": "stream",
     "text": [
      "Epoch 240, Loss 0.0211\n",
      "Training Accuracy: 0.9752, Testing Accuracy: 0.9723\n",
      "\n"
     ]
    },
    {
     "data": {
      "text/plain": [
       "0.04685774100052161"
      ]
     },
     "execution_count": 22,
     "metadata": {},
     "output_type": "execute_result"
    }
   ],
   "source": [
    "nn_learner.train_loop(dl)"
   ]
  },
  {
   "cell_type": "code",
   "execution_count": 23,
   "id": "e0163366",
   "metadata": {
    "execution": {
     "iopub.execute_input": "2022-02-16T00:25:43.064996Z",
     "iopub.status.busy": "2022-02-16T00:25:43.064450Z",
     "iopub.status.idle": "2022-02-16T00:25:57.010149Z",
     "shell.execute_reply": "2022-02-16T00:25:57.010903Z"
    },
    "papermill": {
     "duration": 13.992187,
     "end_time": "2022-02-16T00:25:57.011059",
     "exception": false,
     "start_time": "2022-02-16T00:25:43.018872",
     "status": "completed"
    },
    "tags": []
   },
   "outputs": [
    {
     "name": "stdout",
     "output_type": "stream",
     "text": [
      "Epoch 0, Loss 0.2215\n",
      "Training Accuracy: 0.7654, Testing Accuracy: 0.7445\n",
      "\n"
     ]
    },
    {
     "name": "stdout",
     "output_type": "stream",
     "text": [
      "Epoch 10, Loss 0.1018\n",
      "Training Accuracy: 0.9069, Testing Accuracy: 0.9148\n",
      "\n"
     ]
    },
    {
     "name": "stdout",
     "output_type": "stream",
     "text": [
      "Epoch 20, Loss 0.0789\n",
      "Training Accuracy: 0.9269, Testing Accuracy: 0.9375\n",
      "\n"
     ]
    },
    {
     "name": "stdout",
     "output_type": "stream",
     "text": [
      "Epoch 30, Loss 0.068\n",
      "Training Accuracy: 0.9362, Testing Accuracy: 0.9435\n",
      "\n"
     ]
    },
    {
     "name": "stdout",
     "output_type": "stream",
     "text": [
      "Epoch 40, Loss 0.0614\n",
      "Training Accuracy: 0.9417, Testing Accuracy: 0.9506\n",
      "\n"
     ]
    },
    {
     "name": "stdout",
     "output_type": "stream",
     "text": [
      "Epoch 50, Loss 0.0569\n",
      "Training Accuracy: 0.9451, Testing Accuracy: 0.9526\n",
      "\n"
     ]
    },
    {
     "name": "stdout",
     "output_type": "stream",
     "text": [
      "Epoch 60, Loss 0.0537\n",
      "Training Accuracy: 0.9476, Testing Accuracy: 0.9531\n",
      "\n"
     ]
    },
    {
     "name": "stdout",
     "output_type": "stream",
     "text": [
      "Epoch 70, Loss 0.0511\n",
      "Training Accuracy: 0.9490, Testing Accuracy: 0.9567\n",
      "\n"
     ]
    },
    {
     "name": "stdout",
     "output_type": "stream",
     "text": [
      "Epoch 80, Loss 0.0491\n",
      "Training Accuracy: 0.9506, Testing Accuracy: 0.9587\n",
      "\n"
     ]
    },
    {
     "name": "stdout",
     "output_type": "stream",
     "text": [
      "Epoch 90, Loss 0.0474\n",
      "Training Accuracy: 0.9517, Testing Accuracy: 0.9602\n",
      "\n"
     ]
    },
    {
     "name": "stdout",
     "output_type": "stream",
     "text": [
      "Epoch 100, Loss 0.046\n",
      "Training Accuracy: 0.9526, Testing Accuracy: 0.9607\n",
      "\n"
     ]
    },
    {
     "name": "stdout",
     "output_type": "stream",
     "text": [
      "Epoch 110, Loss 0.0448\n",
      "Training Accuracy: 0.9538, Testing Accuracy: 0.9612\n",
      "\n"
     ]
    },
    {
     "name": "stdout",
     "output_type": "stream",
     "text": [
      "Epoch 120, Loss 0.0437\n",
      "Training Accuracy: 0.9553, Testing Accuracy: 0.9622\n",
      "\n"
     ]
    },
    {
     "name": "stdout",
     "output_type": "stream",
     "text": [
      "Epoch 130, Loss 0.0428\n",
      "Training Accuracy: 0.9559, Testing Accuracy: 0.9632\n",
      "\n"
     ]
    },
    {
     "name": "stdout",
     "output_type": "stream",
     "text": [
      "Epoch 140, Loss 0.042\n",
      "Training Accuracy: 0.9568, Testing Accuracy: 0.9632\n",
      "\n"
     ]
    },
    {
     "name": "stdout",
     "output_type": "stream",
     "text": [
      "Epoch 150, Loss 0.0413\n",
      "Training Accuracy: 0.9571, Testing Accuracy: 0.9637\n",
      "\n"
     ]
    },
    {
     "name": "stdout",
     "output_type": "stream",
     "text": [
      "Epoch 160, Loss 0.0406\n",
      "Training Accuracy: 0.9578, Testing Accuracy: 0.9642\n",
      "\n"
     ]
    },
    {
     "name": "stdout",
     "output_type": "stream",
     "text": [
      "Epoch 170, Loss 0.04\n",
      "Training Accuracy: 0.9581, Testing Accuracy: 0.9647\n",
      "\n"
     ]
    },
    {
     "name": "stdout",
     "output_type": "stream",
     "text": [
      "Epoch 180, Loss 0.0394\n",
      "Training Accuracy: 0.9586, Testing Accuracy: 0.9657\n",
      "\n"
     ]
    },
    {
     "name": "stdout",
     "output_type": "stream",
     "text": [
      "Epoch 190, Loss 0.0389\n",
      "Training Accuracy: 0.9590, Testing Accuracy: 0.9677\n",
      "\n"
     ]
    },
    {
     "name": "stdout",
     "output_type": "stream",
     "text": [
      "Epoch 200, Loss 0.0385\n",
      "Training Accuracy: 0.9594, Testing Accuracy: 0.9677\n",
      "\n"
     ]
    },
    {
     "name": "stdout",
     "output_type": "stream",
     "text": [
      "Epoch 210, Loss 0.038\n",
      "Training Accuracy: 0.9600, Testing Accuracy: 0.9667\n",
      "\n"
     ]
    },
    {
     "name": "stdout",
     "output_type": "stream",
     "text": [
      "Epoch 220, Loss 0.0376\n",
      "Training Accuracy: 0.9599, Testing Accuracy: 0.9667\n",
      "\n"
     ]
    },
    {
     "name": "stdout",
     "output_type": "stream",
     "text": [
      "Epoch 230, Loss 0.0372\n",
      "Training Accuracy: 0.9600, Testing Accuracy: 0.9662\n",
      "\n"
     ]
    },
    {
     "name": "stdout",
     "output_type": "stream",
     "text": [
      "Epoch 240, Loss 0.0369\n",
      "Training Accuracy: 0.9605, Testing Accuracy: 0.9667\n",
      "\n"
     ]
    },
    {
     "data": {
      "text/plain": [
       "0.047271535702513016"
      ]
     },
     "execution_count": 23,
     "metadata": {},
     "output_type": "execute_result"
    }
   ],
   "source": [
    "lr_learner.train_loop(dl)"
   ]
  },
  {
   "cell_type": "code",
   "execution_count": 24,
   "id": "ca410940",
   "metadata": {
    "execution": {
     "iopub.execute_input": "2022-02-16T00:25:57.109026Z",
     "iopub.status.busy": "2022-02-16T00:25:57.108462Z",
     "iopub.status.idle": "2022-02-16T00:25:57.338216Z",
     "shell.execute_reply": "2022-02-16T00:25:57.338690Z"
    },
    "papermill": {
     "duration": 0.286087,
     "end_time": "2022-02-16T00:25:57.338847",
     "exception": false,
     "start_time": "2022-02-16T00:25:57.052760",
     "status": "completed"
    },
    "tags": []
   },
   "outputs": [
    {
     "data": {
      "text/plain": [
       "<matplotlib.legend.Legend at 0x7f2231020cf8>"
      ]
     },
     "execution_count": 24,
     "metadata": {},
     "output_type": "execute_result"
    },
    {
     "data": {
      "image/png": "[encoded data removed]",
      "text/plain": [
       "<Figure size 1080x720 with 1 Axes>"
      ]
     },
     "metadata": {
      "needs_background": "light"
     },
     "output_type": "display_data"
    }
   ],
   "source": [
    "#comparing the results of NN and LR\n",
    "plt.figure(figsize=(15,10))\n",
    "\n",
    "# Neural Network plots\n",
    "plt.plot(acc_nn.accuracies, 'r-', label = \"Training Accuracies - NN\")\n",
    "plt.plot(acc_nn.test_accuracies, 'g-', label = \"Testing Accuracies - NN\")\n",
    "\n",
    "# Logistic Regression plots\n",
    "plt.plot(acc_lr.accuracies, 'k-', label = \"Training Accuracies - LR\")\n",
    "plt.plot(acc_lr.test_accuracies, 'b-', label = \"Testing Accuracies - LR\")\n",
    "plt.legend()"
   ]
  },
  {
   "cell_type": "markdown",
   "id": "80dfb35c",
   "metadata": {
    "papermill": {
     "duration": 0.042203,
     "end_time": "2022-02-16T00:25:57.424568",
     "exception": false,
     "start_time": "2022-02-16T00:25:57.382365",
     "status": "completed"
    },
    "tags": []
   },
   "source": [
    "#### Plotting the outputs of this layer of the NN.\n"
   ]
  },
  {
   "cell_type": "code",
   "execution_count": 25,
   "id": "45eb2ff5",
   "metadata": {
    "execution": {
     "iopub.execute_input": "2022-02-16T00:25:57.513362Z",
     "iopub.status.busy": "2022-02-16T00:25:57.512829Z",
     "iopub.status.idle": "2022-02-16T00:25:57.533149Z",
     "shell.execute_reply": "2022-02-16T00:25:57.533577Z"
    },
    "papermill": {
     "duration": 0.066884,
     "end_time": "2022-02-16T00:25:57.533721",
     "exception": false,
     "start_time": "2022-02-16T00:25:57.466837",
     "status": "completed"
    },
    "tags": []
   },
   "outputs": [],
   "source": [
    "new_model = Model(layers[:-2])\n",
    "testing_plot = new_model(testing_data_x)"
   ]
  },
  {
   "cell_type": "code",
   "execution_count": 26,
   "id": "4c0a5485",
   "metadata": {
    "execution": {
     "iopub.execute_input": "2022-02-16T00:25:57.626028Z",
     "iopub.status.busy": "2022-02-16T00:25:57.625451Z",
     "iopub.status.idle": "2022-02-16T00:25:57.821334Z",
     "shell.execute_reply": "2022-02-16T00:25:57.820869Z"
    },
    "papermill": {
     "duration": 0.244641,
     "end_time": "2022-02-16T00:25:57.821460",
     "exception": false,
     "start_time": "2022-02-16T00:25:57.576819",
     "status": "completed"
    },
    "tags": []
   },
   "outputs": [
    {
     "data": {
      "text/plain": [
       "Text(0.5, 1.0, 'Outputs')"
      ]
     },
     "execution_count": 26,
     "metadata": {},
     "output_type": "execute_result"
    },
    {
     "data": {
      "image/png": "[encoded data removed]",
      "text/plain": [
       "<Figure size 576x504 with 1 Axes>"
      ]
     },
     "metadata": {
      "needs_background": "light"
     },
     "output_type": "display_data"
    }
   ],
   "source": [
    "# Plotting the scatter plot of points and color coding by class\n",
    "plt.figure(figsize=(8,7))\n",
    "plt.scatter(testing_plot[:,0], testing_plot[:,1], alpha = 0.1, c = y_test.ravel());\n",
    "plt.title('Outputs')"
   ]
  },
  {
   "cell_type": "markdown",
   "id": "a74fcf8f",
   "metadata": {
    "papermill": {
     "duration": 0.043927,
     "end_time": "2022-02-16T00:25:57.909503",
     "exception": false,
     "start_time": "2022-02-16T00:25:57.865576",
     "status": "completed"
    },
    "tags": []
   },
   "source": [
    "Probability contours"
   ]
  },
  {
   "cell_type": "code",
   "execution_count": 27,
   "id": "d0afc8e3",
   "metadata": {
    "execution": {
     "iopub.execute_input": "2022-02-16T00:25:58.002432Z",
     "iopub.status.busy": "2022-02-16T00:25:58.001865Z",
     "iopub.status.idle": "2022-02-16T00:25:58.013197Z",
     "shell.execute_reply": "2022-02-16T00:25:58.013612Z"
    },
    "papermill": {
     "duration": 0.060181,
     "end_time": "2022-02-16T00:25:58.013750",
     "exception": false,
     "start_time": "2022-02-16T00:25:57.953569",
     "status": "completed"
    },
    "tags": []
   },
   "outputs": [],
   "source": [
    "model_prob = Model(layers[-2:]) "
   ]
  },
  {
   "cell_type": "code",
   "execution_count": 28,
   "id": "9b96e238",
   "metadata": {
    "execution": {
     "iopub.execute_input": "2022-02-16T00:25:58.143963Z",
     "iopub.status.busy": "2022-02-16T00:25:58.142428Z",
     "iopub.status.idle": "2022-02-16T00:25:58.156287Z",
     "shell.execute_reply": "2022-02-16T00:25:58.156680Z"
    },
    "papermill": {
     "duration": 0.064825,
     "end_time": "2022-02-16T00:25:58.156828",
     "exception": false,
     "start_time": "2022-02-16T00:25:58.092003",
     "status": "completed"
    },
    "tags": []
   },
   "outputs": [],
   "source": [
    "#creating the x and y ranges according to the above generated plot.\n",
    "x_range = np.linspace(-4, 1, 100) \n",
    "y_range = np.linspace(-6, 6, 100) \n",
    "x_grid, y_grid = np.meshgrid(x_range, y_range) # x_grid and y_grig are of size 100 X 100\n",
    "\n",
    "# converting x_grid and y_grid to continuous arrays\n",
    "x_gridflat = np.ravel(x_grid)\n",
    "y_gridflat = np.ravel(y_grid)\n",
    "\n",
    "# The last layer of the current model takes two columns as input. Hence transpose of np.vstack() is required.\n",
    "X = np.vstack((x_gridflat, y_gridflat)).T\n",
    "\n",
    "prob_contour = model_prob(X).reshape(100,100) "
   ]
  },
  {
   "cell_type": "code",
   "execution_count": 29,
   "id": "da72499a",
   "metadata": {
    "execution": {
     "iopub.execute_input": "2022-02-16T00:25:58.256679Z",
     "iopub.status.busy": "2022-02-16T00:25:58.256148Z",
     "iopub.status.idle": "2022-02-16T00:25:58.494967Z",
     "shell.execute_reply": "2022-02-16T00:25:58.495444Z"
    },
    "papermill": {
     "duration": 0.294116,
     "end_time": "2022-02-16T00:25:58.495655",
     "exception": false,
     "start_time": "2022-02-16T00:25:58.201539",
     "status": "completed"
    },
    "tags": []
   },
   "outputs": [
    {
     "data": {
      "image/png": "[encoded data removed]",
      "text/plain": [
       "<Figure size 720x648 with 1 Axes>"
      ]
     },
     "metadata": {
      "needs_background": "light"
     },
     "output_type": "display_data"
    }
   ],
   "source": [
    "plt.figure(figsize=(10,9))\n",
    "plt.scatter(testing_plot[:,0], testing_plot[:,1], alpha = 0.1, c = y_test.ravel())\n",
    "contours = plt.contour(x_grid,y_grid,prob_contour)\n",
    "plt.title('Probability Contours')\n",
    "plt.clabel(contours, inline = True );"
   ]
  },
  {
   "cell_type": "code",
   "execution_count": null,
   "id": "e81b4ac7",
   "metadata": {
    "papermill": {
     "duration": 0.046627,
     "end_time": "2022-02-16T00:25:58.589734",
     "exception": false,
     "start_time": "2022-02-16T00:25:58.543107",
     "status": "completed"
    },
    "tags": []
   },
   "outputs": [],
   "source": []
  }
 ],
 "metadata": {
  "kernelspec": {
   "display_name": "Python 3",
   "language": "python",
   "name": "python3"
  },
  "language_info": {
   "codemirror_mode": {
    "name": "ipython",
    "version": 3
   },
   "file_extension": ".py",
   "mimetype": "text/x-python",
   "name": "python",
   "nbconvert_exporter": "python",
   "pygments_lexer": "ipython3",
   "version": "3.6.15"
  },
  "papermill": {
   "default_parameters": {},
   "duration": 98.045692,
   "end_time": "2022-02-16T00:25:59.055617",
   "environment_variables": {},
   "exception": null,
   "input_path": "2020-08-11-part2.ipynb",
   "output_path": "2020-08-11-part2.ipynb",
   "parameters": {},
   "start_time": "2022-02-16T00:24:21.009925",
   "version": "2.3.3"
  }
 },
 "nbformat": 4,
 "nbformat_minor": 5
}