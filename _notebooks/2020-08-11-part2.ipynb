{
 "cells": [
  {
   "cell_type": "markdown",
   "id": "98380cd3",
   "metadata": {
    "papermill": {
     "duration": 0.040764,
     "end_time": "2022-06-17T10:10:32.545916",
     "exception": false,
     "start_time": "2022-06-17T10:10:32.505152",
     "status": "completed"
    },
    "tags": []
   },
   "source": [
    "# Distinguish Your Own Digits (DYOD)"
   ]
  },
  {
   "cell_type": "markdown",
   "id": "ef31240d",
   "metadata": {
    "papermill": {
     "duration": 0.036399,
     "end_time": "2022-06-17T10:10:32.614999",
     "exception": false,
     "start_time": "2022-06-17T10:10:32.578600",
     "status": "completed"
    },
    "tags": []
   },
   "source": [
    "You are going to write a classifier that distinguishes between the number 3 and number 8."
   ]
  },
  {
   "cell_type": "code",
   "execution_count": 1,
   "id": "b15c8646",
   "metadata": {
    "execution": {
     "iopub.execute_input": "2022-06-17T10:10:32.698274Z",
     "iopub.status.busy": "2022-06-17T10:10:32.697114Z",
     "iopub.status.idle": "2022-06-17T10:10:32.711116Z",
     "shell.execute_reply": "2022-06-17T10:10:32.710409Z"
    },
    "papermill": {
     "duration": 0.060597,
     "end_time": "2022-06-17T10:10:32.711294",
     "exception": false,
     "start_time": "2022-06-17T10:10:32.650697",
     "status": "completed"
    },
    "tags": []
   },
   "outputs": [],
   "source": [
    "%load_ext autoreload\n",
    "%autoreload 2"
   ]
  },
  {
   "cell_type": "code",
   "execution_count": 2,
   "id": "22ef38dc",
   "metadata": {
    "execution": {
     "iopub.execute_input": "2022-06-17T10:10:32.786151Z",
     "iopub.status.busy": "2022-06-17T10:10:32.785329Z",
     "iopub.status.idle": "2022-06-17T10:10:33.517213Z",
     "shell.execute_reply": "2022-06-17T10:10:33.515512Z"
    },
    "papermill": {
     "duration": 0.770853,
     "end_time": "2022-06-17T10:10:33.517397",
     "exception": false,
     "start_time": "2022-06-17T10:10:32.746544",
     "status": "completed"
    },
    "tags": []
   },
   "outputs": [],
   "source": [
    "%matplotlib inline\n",
    "import numpy as np\n",
    "import matplotlib.pyplot as plt\n",
    "import pandas as pd"
   ]
  },
  {
   "cell_type": "markdown",
   "id": "ba036198",
   "metadata": {
    "papermill": {
     "duration": 0.033442,
     "end_time": "2022-06-17T10:10:33.583171",
     "exception": false,
     "start_time": "2022-06-17T10:10:33.549729",
     "status": "completed"
    },
    "tags": []
   },
   "source": [
    "From the command line run `pip install mnist`. This is a library that will help you bring down the mnist dataset. If you run this from a notebook, you need to put  `!pip install mnist` in a cell by itself."
   ]
  },
  {
   "cell_type": "code",
   "execution_count": 3,
   "id": "bb6ad8a1",
   "metadata": {
    "execution": {
     "iopub.execute_input": "2022-06-17T10:10:33.658857Z",
     "iopub.status.busy": "2022-06-17T10:10:33.657146Z",
     "iopub.status.idle": "2022-06-17T10:10:35.862481Z",
     "shell.execute_reply": "2022-06-17T10:10:35.861693Z"
    },
    "papermill": {
     "duration": 2.24709,
     "end_time": "2022-06-17T10:10:35.862635",
     "exception": false,
     "start_time": "2022-06-17T10:10:33.615545",
     "status": "completed"
    },
    "tags": []
   },
   "outputs": [
    {
     "name": "stdout",
     "output_type": "stream",
     "text": [
      "Collecting mnist\r\n"
     ]
    },
    {
     "name": "stdout",
     "output_type": "stream",
     "text": [
      "  Downloading mnist-0.2.2-py2.py3-none-any.whl (3.5 kB)\r\n",
      "Requirement already satisfied: numpy in /opt/hostedtoolcache/Python/3.6.15/x64/lib/python3.6/site-packages (from mnist) (1.19.5)\r\n"
     ]
    },
    {
     "name": "stdout",
     "output_type": "stream",
     "text": [
      "Installing collected packages: mnist\r\n"
     ]
    },
    {
     "name": "stdout",
     "output_type": "stream",
     "text": [
      "Successfully installed mnist-0.2.2\r\n"
     ]
    }
   ],
   "source": [
    "!pip install mnist"
   ]
  },
  {
   "cell_type": "markdown",
   "id": "69df9c9a",
   "metadata": {
    "papermill": {
     "duration": 0.036998,
     "end_time": "2022-06-17T10:10:35.931058",
     "exception": false,
     "start_time": "2022-06-17T10:10:35.894060",
     "status": "completed"
    },
    "tags": []
   },
   "source": [
    "## Preparing the Data"
   ]
  },
  {
   "cell_type": "code",
   "execution_count": 4,
   "id": "7f69d806",
   "metadata": {
    "execution": {
     "iopub.execute_input": "2022-06-17T10:10:36.002837Z",
     "iopub.status.busy": "2022-06-17T10:10:36.002120Z",
     "iopub.status.idle": "2022-06-17T10:10:36.017878Z",
     "shell.execute_reply": "2022-06-17T10:10:36.017309Z"
    },
    "papermill": {
     "duration": 0.054938,
     "end_time": "2022-06-17T10:10:36.018068",
     "exception": false,
     "start_time": "2022-06-17T10:10:35.963130",
     "status": "completed"
    },
    "tags": []
   },
   "outputs": [],
   "source": [
    "import mnist"
   ]
  },
  {
   "cell_type": "code",
   "execution_count": 5,
   "id": "a411e44f",
   "metadata": {
    "execution": {
     "iopub.execute_input": "2022-06-17T10:10:36.087275Z",
     "iopub.status.busy": "2022-06-17T10:10:36.086556Z",
     "iopub.status.idle": "2022-06-17T10:10:36.746353Z",
     "shell.execute_reply": "2022-06-17T10:10:36.745672Z"
    },
    "papermill": {
     "duration": 0.697015,
     "end_time": "2022-06-17T10:10:36.746493",
     "exception": false,
     "start_time": "2022-06-17T10:10:36.049478",
     "status": "completed"
    },
    "tags": []
   },
   "outputs": [],
   "source": [
    "train_images = mnist.train_images()\n",
    "train_labels = mnist.train_labels()"
   ]
  },
  {
   "cell_type": "code",
   "execution_count": 6,
   "id": "dceab3a5",
   "metadata": {
    "execution": {
     "iopub.execute_input": "2022-06-17T10:10:36.819732Z",
     "iopub.status.busy": "2022-06-17T10:10:36.818974Z",
     "iopub.status.idle": "2022-06-17T10:10:36.836912Z",
     "shell.execute_reply": "2022-06-17T10:10:36.836224Z"
    },
    "papermill": {
     "duration": 0.059038,
     "end_time": "2022-06-17T10:10:36.837136",
     "exception": false,
     "start_time": "2022-06-17T10:10:36.778098",
     "status": "completed"
    },
    "tags": []
   },
   "outputs": [
    {
     "data": {
      "text/plain": [
       "((60000, 28, 28), (60000,))"
      ]
     },
     "execution_count": 6,
     "metadata": {},
     "output_type": "execute_result"
    }
   ],
   "source": [
    "train_images.shape, train_labels.shape"
   ]
  },
  {
   "cell_type": "code",
   "execution_count": 7,
   "id": "f50dc2bb",
   "metadata": {
    "execution": {
     "iopub.execute_input": "2022-06-17T10:10:36.915226Z",
     "iopub.status.busy": "2022-06-17T10:10:36.914312Z",
     "iopub.status.idle": "2022-06-17T10:10:37.184839Z",
     "shell.execute_reply": "2022-06-17T10:10:37.184187Z"
    },
    "papermill": {
     "duration": 0.312131,
     "end_time": "2022-06-17T10:10:37.184982",
     "exception": false,
     "start_time": "2022-06-17T10:10:36.872851",
     "status": "completed"
    },
    "tags": []
   },
   "outputs": [],
   "source": [
    "test_images = mnist.test_images()\n",
    "test_labels = mnist.test_labels()"
   ]
  },
  {
   "cell_type": "code",
   "execution_count": 8,
   "id": "fc38cf1b",
   "metadata": {
    "execution": {
     "iopub.execute_input": "2022-06-17T10:10:37.253456Z",
     "iopub.status.busy": "2022-06-17T10:10:37.252546Z",
     "iopub.status.idle": "2022-06-17T10:10:37.269309Z",
     "shell.execute_reply": "2022-06-17T10:10:37.268627Z"
    },
    "papermill": {
     "duration": 0.052576,
     "end_time": "2022-06-17T10:10:37.269472",
     "exception": false,
     "start_time": "2022-06-17T10:10:37.216896",
     "status": "completed"
    },
    "tags": []
   },
   "outputs": [
    {
     "data": {
      "text/plain": [
       "((10000, 28, 28), (10000,))"
      ]
     },
     "execution_count": 8,
     "metadata": {},
     "output_type": "execute_result"
    }
   ],
   "source": [
    "test_images.shape, test_labels.shape"
   ]
  },
  {
   "cell_type": "code",
   "execution_count": 9,
   "id": "f9ed8fe0",
   "metadata": {
    "execution": {
     "iopub.execute_input": "2022-06-17T10:10:37.350068Z",
     "iopub.status.busy": "2022-06-17T10:10:37.344235Z",
     "iopub.status.idle": "2022-06-17T10:10:37.545750Z",
     "shell.execute_reply": "2022-06-17T10:10:37.544064Z"
    },
    "papermill": {
     "duration": 0.243763,
     "end_time": "2022-06-17T10:10:37.545929",
     "exception": false,
     "start_time": "2022-06-17T10:10:37.302166",
     "status": "completed"
    },
    "tags": []
   },
   "outputs": [
    {
     "name": "stdout",
     "output_type": "stream",
     "text": [
      "2\n"
     ]
    },
    {
     "data": {
      "text/plain": [
       "<matplotlib.image.AxesImage at 0x7f776c33a4a8>"
      ]
     },
     "execution_count": 9,
     "metadata": {},
     "output_type": "execute_result"
    },
    {
     "data": {
      "image/png": "[encoded data removed]",
      "text/plain": [
       "<Figure size 432x288 with 1 Axes>"
      ]
     },
     "metadata": {
      "needs_background": "light"
     },
     "output_type": "display_data"
    }
   ],
   "source": [
    "image_index = 7776 # You may select anything up to 60,000\n",
    "print(train_labels[image_index]) \n",
    "plt.imshow(train_images[image_index], cmap='Greys')"
   ]
  },
  {
   "cell_type": "markdown",
   "id": "a8d2388d",
   "metadata": {
    "papermill": {
     "duration": 0.038738,
     "end_time": "2022-06-17T10:10:37.620962",
     "exception": false,
     "start_time": "2022-06-17T10:10:37.582224",
     "status": "completed"
    },
    "tags": []
   },
   "source": [
    "## Filter data to get 3 and 8 out"
   ]
  },
  {
   "cell_type": "code",
   "execution_count": 10,
   "id": "776f7fc7",
   "metadata": {
    "execution": {
     "iopub.execute_input": "2022-06-17T10:10:37.713056Z",
     "iopub.status.busy": "2022-06-17T10:10:37.704641Z",
     "iopub.status.idle": "2022-06-17T10:10:37.724244Z",
     "shell.execute_reply": "2022-06-17T10:10:37.723539Z"
    },
    "papermill": {
     "duration": 0.070625,
     "end_time": "2022-06-17T10:10:37.724432",
     "exception": false,
     "start_time": "2022-06-17T10:10:37.653807",
     "status": "completed"
    },
    "tags": []
   },
   "outputs": [],
   "source": [
    "train_filter = np.where((train_labels == 3 ) | (train_labels == 8))\n",
    "test_filter = np.where((test_labels == 3) | (test_labels == 8))\n",
    "X_train, y_train = train_images[train_filter], train_labels[train_filter]\n",
    "X_test, y_test = test_images[test_filter], test_labels[test_filter]"
   ]
  },
  {
   "cell_type": "markdown",
   "id": "948f0b7e",
   "metadata": {
    "papermill": {
     "duration": 0.036763,
     "end_time": "2022-06-17T10:10:37.795400",
     "exception": false,
     "start_time": "2022-06-17T10:10:37.758637",
     "status": "completed"
    },
    "tags": []
   },
   "source": [
    "We normalize the pizel values in the 0 to 1 range"
   ]
  },
  {
   "cell_type": "code",
   "execution_count": 11,
   "id": "ee4c2166",
   "metadata": {
    "execution": {
     "iopub.execute_input": "2022-06-17T10:10:37.871130Z",
     "iopub.status.busy": "2022-06-17T10:10:37.870237Z",
     "iopub.status.idle": "2022-06-17T10:10:37.944360Z",
     "shell.execute_reply": "2022-06-17T10:10:37.944938Z"
    },
    "papermill": {
     "duration": 0.11547,
     "end_time": "2022-06-17T10:10:37.945140",
     "exception": false,
     "start_time": "2022-06-17T10:10:37.829670",
     "status": "completed"
    },
    "tags": []
   },
   "outputs": [],
   "source": [
    "X_train = X_train/255.\n",
    "X_test = X_test/255."
   ]
  },
  {
   "cell_type": "markdown",
   "id": "ddcf4fab",
   "metadata": {
    "papermill": {
     "duration": 0.042934,
     "end_time": "2022-06-17T10:10:38.023917",
     "exception": false,
     "start_time": "2022-06-17T10:10:37.980983",
     "status": "completed"
    },
    "tags": []
   },
   "source": [
    "And setup the labels as 1 (when the digit is 3) and 0 (when the digit is 8)"
   ]
  },
  {
   "cell_type": "code",
   "execution_count": 12,
   "id": "7dc908f2",
   "metadata": {
    "execution": {
     "iopub.execute_input": "2022-06-17T10:10:38.099402Z",
     "iopub.status.busy": "2022-06-17T10:10:38.098543Z",
     "iopub.status.idle": "2022-06-17T10:10:38.116668Z",
     "shell.execute_reply": "2022-06-17T10:10:38.116085Z"
    },
    "papermill": {
     "duration": 0.057061,
     "end_time": "2022-06-17T10:10:38.116829",
     "exception": false,
     "start_time": "2022-06-17T10:10:38.059768",
     "status": "completed"
    },
    "tags": []
   },
   "outputs": [],
   "source": [
    "y_train = 1*(y_train==3)\n",
    "y_test = 1*(y_test==3)"
   ]
  },
  {
   "cell_type": "code",
   "execution_count": 13,
   "id": "01e4e969",
   "metadata": {
    "execution": {
     "iopub.execute_input": "2022-06-17T10:10:38.191367Z",
     "iopub.status.busy": "2022-06-17T10:10:38.190532Z",
     "iopub.status.idle": "2022-06-17T10:10:38.207939Z",
     "shell.execute_reply": "2022-06-17T10:10:38.207389Z"
    },
    "papermill": {
     "duration": 0.058057,
     "end_time": "2022-06-17T10:10:38.208077",
     "exception": false,
     "start_time": "2022-06-17T10:10:38.150020",
     "status": "completed"
    },
    "tags": []
   },
   "outputs": [
    {
     "data": {
      "text/plain": [
       "((11982, 28, 28), (1984, 28, 28))"
      ]
     },
     "execution_count": 13,
     "metadata": {},
     "output_type": "execute_result"
    }
   ],
   "source": [
    "X_train.shape, X_test.shape"
   ]
  },
  {
   "cell_type": "markdown",
   "id": "5ccf3f85",
   "metadata": {
    "papermill": {
     "duration": 0.035376,
     "end_time": "2022-06-17T10:10:38.278522",
     "exception": false,
     "start_time": "2022-06-17T10:10:38.243146",
     "status": "completed"
    },
    "tags": []
   },
   "source": [
    "We reshape the data to flatten the image pixels into a set of features or co-variates:"
   ]
  },
  {
   "cell_type": "code",
   "execution_count": 14,
   "id": "5286a4a3",
   "metadata": {
    "execution": {
     "iopub.execute_input": "2022-06-17T10:10:38.358841Z",
     "iopub.status.busy": "2022-06-17T10:10:38.358128Z",
     "iopub.status.idle": "2022-06-17T10:10:38.377420Z",
     "shell.execute_reply": "2022-06-17T10:10:38.378582Z"
    },
    "papermill": {
     "duration": 0.064803,
     "end_time": "2022-06-17T10:10:38.378795",
     "exception": false,
     "start_time": "2022-06-17T10:10:38.313992",
     "status": "completed"
    },
    "tags": []
   },
   "outputs": [
    {
     "data": {
      "text/plain": [
       "((11982, 784), (1984, 784))"
      ]
     },
     "execution_count": 14,
     "metadata": {},
     "output_type": "execute_result"
    }
   ],
   "source": [
    "X_train = X_train.reshape(X_train.shape[0], -1)\n",
    "X_test = X_test.reshape(X_test.shape[0], -1)\n",
    "X_train.shape, X_test.shape"
   ]
  },
  {
   "cell_type": "code",
   "execution_count": 15,
   "id": "73c5f88a",
   "metadata": {
    "execution": {
     "iopub.execute_input": "2022-06-17T10:10:38.466655Z",
     "iopub.status.busy": "2022-06-17T10:10:38.464567Z",
     "iopub.status.idle": "2022-06-17T10:10:38.487381Z",
     "shell.execute_reply": "2022-06-17T10:10:38.487947Z"
    },
    "papermill": {
     "duration": 0.073473,
     "end_time": "2022-06-17T10:10:38.488152",
     "exception": false,
     "start_time": "2022-06-17T10:10:38.414679",
     "status": "completed"
    },
    "tags": []
   },
   "outputs": [],
   "source": [
    "#Impoting functions from 'Kudzu'\n",
    "from kudzu.model import Model\n",
    "from kudzu.train import Learner\n",
    "from kudzu.optim import GD\n",
    "from kudzu.data import Data, Sampler,Dataloader\n",
    "\n",
    "from kudzu.callbacks import AccCallback\n",
    "from kudzu.callbacks import ClfCallback\n",
    "\n",
    "from kudzu.loss import MSE\n",
    "\n",
    "from kudzu.layer import Sigmoid,Relu\n",
    "from kudzu.layer import Affine"
   ]
  },
  {
   "cell_type": "markdown",
   "id": "bc01172a",
   "metadata": {
    "papermill": {
     "duration": 0.035367,
     "end_time": "2022-06-17T10:10:38.558699",
     "exception": false,
     "start_time": "2022-06-17T10:10:38.523332",
     "status": "completed"
    },
    "tags": []
   },
   "source": [
    "### Let us create a `Config` class, to store important parameters. \n",
    "This class essentially plays the role of a dictionary."
   ]
  },
  {
   "cell_type": "code",
   "execution_count": 16,
   "id": "978281aa",
   "metadata": {
    "execution": {
     "iopub.execute_input": "2022-06-17T10:10:38.635471Z",
     "iopub.status.busy": "2022-06-17T10:10:38.634520Z",
     "iopub.status.idle": "2022-06-17T10:10:38.650006Z",
     "shell.execute_reply": "2022-06-17T10:10:38.649303Z"
    },
    "papermill": {
     "duration": 0.054918,
     "end_time": "2022-06-17T10:10:38.650140",
     "exception": false,
     "start_time": "2022-06-17T10:10:38.595222",
     "status": "completed"
    },
    "tags": []
   },
   "outputs": [],
   "source": [
    "class Config:\n",
    "    pass\n",
    "config = Config()\n",
    "config.lr = 0.001\n",
    "config.num_epochs = 250\n",
    "config.bs = 50"
   ]
  },
  {
   "cell_type": "markdown",
   "id": "1385fa59",
   "metadata": {
    "papermill": {
     "duration": 0.03531,
     "end_time": "2022-06-17T10:10:38.722410",
     "exception": false,
     "start_time": "2022-06-17T10:10:38.687100",
     "status": "completed"
    },
    "tags": []
   },
   "source": [
    "### Running Models with the Training data\n",
    "Details about the network layers:\n",
    "- A first affine layer has 784 inputs and does 100 affine transforms. These are followed by a Relu\n",
    "- A second affine layer has 100 inputs from the 100 activations of the past layer, and does 100 affine transforms. These are followed by a Relu\n",
    "- A third affine layer has 100 activations and does 2 affine transformations to create an embedding for visualization. There is no non-linearity here.\n",
    "- A final \"logistic regression\" which has an affine transform from 2 inputs to 1 output, which is squeezed through a sigmoid.\n"
   ]
  },
  {
   "cell_type": "code",
   "execution_count": 17,
   "id": "2b9c66db",
   "metadata": {
    "execution": {
     "iopub.execute_input": "2022-06-17T10:10:38.805980Z",
     "iopub.status.busy": "2022-06-17T10:10:38.804067Z",
     "iopub.status.idle": "2022-06-17T10:10:38.820099Z",
     "shell.execute_reply": "2022-06-17T10:10:38.819375Z"
    },
    "papermill": {
     "duration": 0.062315,
     "end_time": "2022-06-17T10:10:38.820262",
     "exception": false,
     "start_time": "2022-06-17T10:10:38.757947",
     "status": "completed"
    },
    "tags": []
   },
   "outputs": [],
   "source": [
    "data = Data(X_train, y_train.reshape(-1,1))\n",
    "sampler = Sampler(data, config.bs, shuffle=True)\n",
    "\n",
    "dl = Dataloader(data, sampler)\n",
    "\n",
    "opt = GD(config.lr)\n",
    "loss = MSE()"
   ]
  },
  {
   "cell_type": "code",
   "execution_count": 18,
   "id": "b275e4c2",
   "metadata": {
    "execution": {
     "iopub.execute_input": "2022-06-17T10:10:38.899883Z",
     "iopub.status.busy": "2022-06-17T10:10:38.898971Z",
     "iopub.status.idle": "2022-06-17T10:10:38.914592Z",
     "shell.execute_reply": "2022-06-17T10:10:38.915176Z"
    },
    "papermill": {
     "duration": 0.059732,
     "end_time": "2022-06-17T10:10:38.915356",
     "exception": false,
     "start_time": "2022-06-17T10:10:38.855624",
     "status": "completed"
    },
    "tags": []
   },
   "outputs": [],
   "source": [
    "training_data_x = X_train\n",
    "testing_data_x = X_test\n",
    "training_data_y = y_train.reshape(-1,1)\n",
    "testing_data_y = y_test.reshape(-1,1)"
   ]
  },
  {
   "cell_type": "code",
   "execution_count": 19,
   "id": "76951160",
   "metadata": {
    "execution": {
     "iopub.execute_input": "2022-06-17T10:10:38.990937Z",
     "iopub.status.busy": "2022-06-17T10:10:38.990209Z",
     "iopub.status.idle": "2022-06-17T10:10:39.017719Z",
     "shell.execute_reply": "2022-06-17T10:10:39.018337Z"
    },
    "papermill": {
     "duration": 0.069428,
     "end_time": "2022-06-17T10:10:39.018510",
     "exception": false,
     "start_time": "2022-06-17T10:10:38.949082",
     "status": "completed"
    },
    "tags": []
   },
   "outputs": [
    {
     "name": "stdout",
     "output_type": "stream",
     "text": [
      "xavier\n",
      "xavier\n",
      "xavier\n",
      "xavier\n",
      "xavier\n"
     ]
    }
   ],
   "source": [
    "layers = [Affine(\"first\", 784, 100), Relu(\"first\"), Affine(\"second\", 100, 100), Relu(\"second\"), Affine(\"third\", 100, 2), Affine(\"last\", 2, 1), Sigmoid(\"last\")]\n",
    "model_nn = Model(layers)\n",
    "model_lr = Model([Affine(\"logits\", 784, 1), Sigmoid(\"sigmoid\")])"
   ]
  },
  {
   "cell_type": "code",
   "execution_count": 20,
   "id": "6eede77a",
   "metadata": {
    "execution": {
     "iopub.execute_input": "2022-06-17T10:10:39.098112Z",
     "iopub.status.busy": "2022-06-17T10:10:39.094867Z",
     "iopub.status.idle": "2022-06-17T10:10:39.112071Z",
     "shell.execute_reply": "2022-06-17T10:10:39.111473Z"
    },
    "papermill": {
     "duration": 0.056885,
     "end_time": "2022-06-17T10:10:39.112212",
     "exception": false,
     "start_time": "2022-06-17T10:10:39.055327",
     "status": "completed"
    },
    "tags": []
   },
   "outputs": [],
   "source": [
    "nn_learner = Learner(loss, model_nn, opt, config.num_epochs)\n",
    "acc_nn = ClfCallback(nn_learner, config.bs, training_data_x , testing_data_x, training_data_y, testing_data_y)\n",
    "nn_learner.set_callbacks([acc_nn])"
   ]
  },
  {
   "cell_type": "code",
   "execution_count": 21,
   "id": "877b6cc7",
   "metadata": {
    "execution": {
     "iopub.execute_input": "2022-06-17T10:10:39.191794Z",
     "iopub.status.busy": "2022-06-17T10:10:39.191080Z",
     "iopub.status.idle": "2022-06-17T10:10:39.208254Z",
     "shell.execute_reply": "2022-06-17T10:10:39.207671Z"
    },
    "papermill": {
     "duration": 0.059676,
     "end_time": "2022-06-17T10:10:39.208392",
     "exception": false,
     "start_time": "2022-06-17T10:10:39.148716",
     "status": "completed"
    },
    "tags": []
   },
   "outputs": [],
   "source": [
    "lr_learner = Learner(loss, model_lr, opt, config.num_epochs)\n",
    "acc_lr = ClfCallback(lr_learner, config.bs, training_data_x , testing_data_x, training_data_y, testing_data_y)\n",
    "lr_learner.set_callbacks([acc_lr])"
   ]
  },
  {
   "cell_type": "code",
   "execution_count": 22,
   "id": "d9b133c3",
   "metadata": {
    "execution": {
     "iopub.execute_input": "2022-06-17T10:10:39.287370Z",
     "iopub.status.busy": "2022-06-17T10:10:39.285791Z",
     "iopub.status.idle": "2022-06-17T10:13:10.222978Z",
     "shell.execute_reply": "2022-06-17T10:13:10.224011Z"
    },
    "papermill": {
     "duration": 150.978974,
     "end_time": "2022-06-17T10:13:10.224213",
     "exception": false,
     "start_time": "2022-06-17T10:10:39.245239",
     "status": "completed"
    },
    "tags": []
   },
   "outputs": [
    {
     "name": "stdout",
     "output_type": "stream",
     "text": [
      "Epoch 0, Loss 0.2422\n",
      "Training Accuracy: 0.6829, Testing Accuracy: 0.6855\n",
      "\n"
     ]
    },
    {
     "name": "stdout",
     "output_type": "stream",
     "text": [
      "Epoch 10, Loss 0.095\n",
      "Training Accuracy: 0.9199, Testing Accuracy: 0.9274\n",
      "\n"
     ]
    },
    {
     "name": "stdout",
     "output_type": "stream",
     "text": [
      "Epoch 20, Loss 0.058\n",
      "Training Accuracy: 0.9390, Testing Accuracy: 0.9506\n",
      "\n"
     ]
    },
    {
     "name": "stdout",
     "output_type": "stream",
     "text": [
      "Epoch 30, Loss 0.0455\n",
      "Training Accuracy: 0.9497, Testing Accuracy: 0.9546\n",
      "\n"
     ]
    },
    {
     "name": "stdout",
     "output_type": "stream",
     "text": [
      "Epoch 40, Loss 0.0394\n",
      "Training Accuracy: 0.9550, Testing Accuracy: 0.9592\n",
      "\n"
     ]
    },
    {
     "name": "stdout",
     "output_type": "stream",
     "text": [
      "Epoch 50, Loss 0.0358\n",
      "Training Accuracy: 0.9584, Testing Accuracy: 0.9637\n",
      "\n"
     ]
    },
    {
     "name": "stdout",
     "output_type": "stream",
     "text": [
      "Epoch 60, Loss 0.0333\n",
      "Training Accuracy: 0.9604, Testing Accuracy: 0.9672\n",
      "\n"
     ]
    },
    {
     "name": "stdout",
     "output_type": "stream",
     "text": [
      "Epoch 70, Loss 0.0314\n",
      "Training Accuracy: 0.9630, Testing Accuracy: 0.9677\n",
      "\n"
     ]
    },
    {
     "name": "stdout",
     "output_type": "stream",
     "text": [
      "Epoch 80, Loss 0.03\n",
      "Training Accuracy: 0.9649, Testing Accuracy: 0.9688\n",
      "\n"
     ]
    },
    {
     "name": "stdout",
     "output_type": "stream",
     "text": [
      "Epoch 90, Loss 0.0287\n",
      "Training Accuracy: 0.9662, Testing Accuracy: 0.9698\n",
      "\n"
     ]
    },
    {
     "name": "stdout",
     "output_type": "stream",
     "text": [
      "Epoch 100, Loss 0.0277\n",
      "Training Accuracy: 0.9675, Testing Accuracy: 0.9708\n",
      "\n"
     ]
    },
    {
     "name": "stdout",
     "output_type": "stream",
     "text": [
      "Epoch 110, Loss 0.0269\n",
      "Training Accuracy: 0.9683, Testing Accuracy: 0.9698\n",
      "\n"
     ]
    },
    {
     "name": "stdout",
     "output_type": "stream",
     "text": [
      "Epoch 120, Loss 0.0261\n",
      "Training Accuracy: 0.9690, Testing Accuracy: 0.9703\n",
      "\n"
     ]
    },
    {
     "name": "stdout",
     "output_type": "stream",
     "text": [
      "Epoch 130, Loss 0.0254\n",
      "Training Accuracy: 0.9700, Testing Accuracy: 0.9703\n",
      "\n"
     ]
    },
    {
     "name": "stdout",
     "output_type": "stream",
     "text": [
      "Epoch 140, Loss 0.0248\n",
      "Training Accuracy: 0.9711, Testing Accuracy: 0.9703\n",
      "\n"
     ]
    },
    {
     "name": "stdout",
     "output_type": "stream",
     "text": [
      "Epoch 150, Loss 0.0242\n",
      "Training Accuracy: 0.9720, Testing Accuracy: 0.9693\n",
      "\n"
     ]
    },
    {
     "name": "stdout",
     "output_type": "stream",
     "text": [
      "Epoch 160, Loss 0.0236\n",
      "Training Accuracy: 0.9728, Testing Accuracy: 0.9698\n",
      "\n"
     ]
    },
    {
     "name": "stdout",
     "output_type": "stream",
     "text": [
      "Epoch 170, Loss 0.0232\n",
      "Training Accuracy: 0.9734, Testing Accuracy: 0.9703\n",
      "\n"
     ]
    },
    {
     "name": "stdout",
     "output_type": "stream",
     "text": [
      "Epoch 180, Loss 0.0227\n",
      "Training Accuracy: 0.9740, Testing Accuracy: 0.9703\n",
      "\n"
     ]
    },
    {
     "name": "stdout",
     "output_type": "stream",
     "text": [
      "Epoch 190, Loss 0.0222\n",
      "Training Accuracy: 0.9745, Testing Accuracy: 0.9703\n",
      "\n"
     ]
    },
    {
     "name": "stdout",
     "output_type": "stream",
     "text": [
      "Epoch 200, Loss 0.0218\n",
      "Training Accuracy: 0.9751, Testing Accuracy: 0.9718\n",
      "\n"
     ]
    },
    {
     "name": "stdout",
     "output_type": "stream",
     "text": [
      "Epoch 210, Loss 0.0214\n",
      "Training Accuracy: 0.9758, Testing Accuracy: 0.9718\n",
      "\n"
     ]
    },
    {
     "name": "stdout",
     "output_type": "stream",
     "text": [
      "Epoch 220, Loss 0.021\n",
      "Training Accuracy: 0.9762, Testing Accuracy: 0.9718\n",
      "\n"
     ]
    },
    {
     "name": "stdout",
     "output_type": "stream",
     "text": [
      "Epoch 230, Loss 0.0206\n",
      "Training Accuracy: 0.9764, Testing Accuracy: 0.9723\n",
      "\n"
     ]
    },
    {
     "name": "stdout",
     "output_type": "stream",
     "text": [
      "Epoch 240, Loss 0.0202\n",
      "Training Accuracy: 0.9771, Testing Accuracy: 0.9728\n",
      "\n"
     ]
    },
    {
     "data": {
      "text/plain": [
       "0.00618204946086191"
      ]
     },
     "execution_count": 22,
     "metadata": {},
     "output_type": "execute_result"
    }
   ],
   "source": [
    "nn_learner.train_loop(dl)"
   ]
  },
  {
   "cell_type": "code",
   "execution_count": 23,
   "id": "e0163366",
   "metadata": {
    "execution": {
     "iopub.execute_input": "2022-06-17T10:13:10.323260Z",
     "iopub.status.busy": "2022-06-17T10:13:10.322469Z",
     "iopub.status.idle": "2022-06-17T10:13:32.513519Z",
     "shell.execute_reply": "2022-06-17T10:13:32.514633Z"
    },
    "papermill": {
     "duration": 22.245267,
     "end_time": "2022-06-17T10:13:32.514819",
     "exception": false,
     "start_time": "2022-06-17T10:13:10.269552",
     "status": "completed"
    },
    "tags": []
   },
   "outputs": [
    {
     "name": "stdout",
     "output_type": "stream",
     "text": [
      "Epoch 0, Loss 0.2688\n",
      "Training Accuracy: 0.5776, Testing Accuracy: 0.5842\n",
      "\n"
     ]
    },
    {
     "name": "stdout",
     "output_type": "stream",
     "text": [
      "Epoch 10, Loss 0.1031\n",
      "Training Accuracy: 0.9160, Testing Accuracy: 0.9239\n",
      "\n"
     ]
    },
    {
     "name": "stdout",
     "output_type": "stream",
     "text": [
      "Epoch 20, Loss 0.0787\n",
      "Training Accuracy: 0.9301, Testing Accuracy: 0.9410\n",
      "\n"
     ]
    },
    {
     "name": "stdout",
     "output_type": "stream",
     "text": [
      "Epoch 30, Loss 0.0678\n",
      "Training Accuracy: 0.9380, Testing Accuracy: 0.9501\n",
      "\n"
     ]
    },
    {
     "name": "stdout",
     "output_type": "stream",
     "text": [
      "Epoch 40, Loss 0.0612\n",
      "Training Accuracy: 0.9428, Testing Accuracy: 0.9536\n",
      "\n"
     ]
    },
    {
     "name": "stdout",
     "output_type": "stream",
     "text": [
      "Epoch 50, Loss 0.0567\n",
      "Training Accuracy: 0.9463, Testing Accuracy: 0.9561\n",
      "\n"
     ]
    },
    {
     "name": "stdout",
     "output_type": "stream",
     "text": [
      "Epoch 60, Loss 0.0535\n",
      "Training Accuracy: 0.9487, Testing Accuracy: 0.9572\n",
      "\n"
     ]
    },
    {
     "name": "stdout",
     "output_type": "stream",
     "text": [
      "Epoch 70, Loss 0.0509\n",
      "Training Accuracy: 0.9499, Testing Accuracy: 0.9592\n",
      "\n"
     ]
    },
    {
     "name": "stdout",
     "output_type": "stream",
     "text": [
      "Epoch 80, Loss 0.0489\n",
      "Training Accuracy: 0.9509, Testing Accuracy: 0.9597\n",
      "\n"
     ]
    },
    {
     "name": "stdout",
     "output_type": "stream",
     "text": [
      "Epoch 90, Loss 0.0473\n",
      "Training Accuracy: 0.9520, Testing Accuracy: 0.9602\n",
      "\n"
     ]
    },
    {
     "name": "stdout",
     "output_type": "stream",
     "text": [
      "Epoch 100, Loss 0.0459\n",
      "Training Accuracy: 0.9532, Testing Accuracy: 0.9612\n",
      "\n"
     ]
    },
    {
     "name": "stdout",
     "output_type": "stream",
     "text": [
      "Epoch 110, Loss 0.0447\n",
      "Training Accuracy: 0.9538, Testing Accuracy: 0.9622\n",
      "\n"
     ]
    },
    {
     "name": "stdout",
     "output_type": "stream",
     "text": [
      "Epoch 120, Loss 0.0436\n",
      "Training Accuracy: 0.9547, Testing Accuracy: 0.9617\n",
      "\n"
     ]
    },
    {
     "name": "stdout",
     "output_type": "stream",
     "text": [
      "Epoch 130, Loss 0.0427\n",
      "Training Accuracy: 0.9558, Testing Accuracy: 0.9632\n",
      "\n"
     ]
    },
    {
     "name": "stdout",
     "output_type": "stream",
     "text": [
      "Epoch 140, Loss 0.0419\n",
      "Training Accuracy: 0.9567, Testing Accuracy: 0.9632\n",
      "\n"
     ]
    },
    {
     "name": "stdout",
     "output_type": "stream",
     "text": [
      "Epoch 150, Loss 0.0412\n",
      "Training Accuracy: 0.9572, Testing Accuracy: 0.9637\n",
      "\n"
     ]
    },
    {
     "name": "stdout",
     "output_type": "stream",
     "text": [
      "Epoch 160, Loss 0.0405\n",
      "Training Accuracy: 0.9579, Testing Accuracy: 0.9652\n",
      "\n"
     ]
    },
    {
     "name": "stdout",
     "output_type": "stream",
     "text": [
      "Epoch 170, Loss 0.0399\n",
      "Training Accuracy: 0.9584, Testing Accuracy: 0.9652\n",
      "\n"
     ]
    },
    {
     "name": "stdout",
     "output_type": "stream",
     "text": [
      "Epoch 180, Loss 0.0394\n",
      "Training Accuracy: 0.9586, Testing Accuracy: 0.9657\n",
      "\n"
     ]
    },
    {
     "name": "stdout",
     "output_type": "stream",
     "text": [
      "Epoch 190, Loss 0.0389\n",
      "Training Accuracy: 0.9589, Testing Accuracy: 0.9657\n",
      "\n"
     ]
    },
    {
     "name": "stdout",
     "output_type": "stream",
     "text": [
      "Epoch 200, Loss 0.0384\n",
      "Training Accuracy: 0.9594, Testing Accuracy: 0.9657\n",
      "\n"
     ]
    },
    {
     "name": "stdout",
     "output_type": "stream",
     "text": [
      "Epoch 210, Loss 0.038\n",
      "Training Accuracy: 0.9597, Testing Accuracy: 0.9662\n",
      "\n"
     ]
    },
    {
     "name": "stdout",
     "output_type": "stream",
     "text": [
      "Epoch 220, Loss 0.0376\n",
      "Training Accuracy: 0.9600, Testing Accuracy: 0.9662\n",
      "\n"
     ]
    },
    {
     "name": "stdout",
     "output_type": "stream",
     "text": [
      "Epoch 230, Loss 0.0372\n",
      "Training Accuracy: 0.9603, Testing Accuracy: 0.9667\n",
      "\n"
     ]
    },
    {
     "name": "stdout",
     "output_type": "stream",
     "text": [
      "Epoch 240, Loss 0.0368\n",
      "Training Accuracy: 0.9605, Testing Accuracy: 0.9667\n",
      "\n"
     ]
    },
    {
     "data": {
      "text/plain": [
       "0.012332487512864605"
      ]
     },
     "execution_count": 23,
     "metadata": {},
     "output_type": "execute_result"
    }
   ],
   "source": [
    "lr_learner.train_loop(dl)"
   ]
  },
  {
   "cell_type": "code",
   "execution_count": 24,
   "id": "ca410940",
   "metadata": {
    "execution": {
     "iopub.execute_input": "2022-06-17T10:13:32.634248Z",
     "iopub.status.busy": "2022-06-17T10:13:32.631386Z",
     "iopub.status.idle": "2022-06-17T10:13:32.981215Z",
     "shell.execute_reply": "2022-06-17T10:13:32.980511Z"
    },
    "papermill": {
     "duration": 0.411843,
     "end_time": "2022-06-17T10:13:32.981374",
     "exception": false,
     "start_time": "2022-06-17T10:13:32.569531",
     "status": "completed"
    },
    "tags": []
   },
   "outputs": [
    {
     "data": {
      "text/plain": [
       "<matplotlib.legend.Legend at 0x7f775eb0ab70>"
      ]
     },
     "execution_count": 24,
     "metadata": {},
     "output_type": "execute_result"
    },
    {
     "data": {
      "image/png": "[encoded data removed]",
      "text/plain": [
       "<Figure size 1080x720 with 1 Axes>"
      ]
     },
     "metadata": {
      "needs_background": "light"
     },
     "output_type": "display_data"
    }
   ],
   "source": [
    "#comparing the results of NN and LR\n",
    "plt.figure(figsize=(15,10))\n",
    "\n",
    "# Neural Network plots\n",
    "plt.plot(acc_nn.accuracies, 'r-', label = \"Training Accuracies - NN\")\n",
    "plt.plot(acc_nn.test_accuracies, 'g-', label = \"Testing Accuracies - NN\")\n",
    "\n",
    "# Logistic Regression plots\n",
    "plt.plot(acc_lr.accuracies, 'k-', label = \"Training Accuracies - LR\")\n",
    "plt.plot(acc_lr.test_accuracies, 'b-', label = \"Testing Accuracies - LR\")\n",
    "plt.legend()"
   ]
  },
  {
   "cell_type": "markdown",
   "id": "80dfb35c",
   "metadata": {
    "papermill": {
     "duration": 0.054894,
     "end_time": "2022-06-17T10:13:33.093678",
     "exception": false,
     "start_time": "2022-06-17T10:13:33.038784",
     "status": "completed"
    },
    "tags": []
   },
   "source": [
    "#### Plotting the outputs of this layer of the NN.\n"
   ]
  },
  {
   "cell_type": "code",
   "execution_count": 25,
   "id": "45eb2ff5",
   "metadata": {
    "execution": {
     "iopub.execute_input": "2022-06-17T10:13:33.226305Z",
     "iopub.status.busy": "2022-06-17T10:13:33.224842Z",
     "iopub.status.idle": "2022-06-17T10:13:33.254105Z",
     "shell.execute_reply": "2022-06-17T10:13:33.254746Z"
    },
    "papermill": {
     "duration": 0.093453,
     "end_time": "2022-06-17T10:13:33.254930",
     "exception": false,
     "start_time": "2022-06-17T10:13:33.161477",
     "status": "completed"
    },
    "tags": []
   },
   "outputs": [],
   "source": [
    "new_model = Model(layers[:-2])\n",
    "testing_plot = new_model(testing_data_x)"
   ]
  },
  {
   "cell_type": "code",
   "execution_count": 26,
   "id": "4c0a5485",
   "metadata": {
    "execution": {
     "iopub.execute_input": "2022-06-17T10:13:33.406226Z",
     "iopub.status.busy": "2022-06-17T10:13:33.372906Z",
     "iopub.status.idle": "2022-06-17T10:13:33.661394Z",
     "shell.execute_reply": "2022-06-17T10:13:33.660202Z"
    },
    "papermill": {
     "duration": 0.35101,
     "end_time": "2022-06-17T10:13:33.661555",
     "exception": false,
     "start_time": "2022-06-17T10:13:33.310545",
     "status": "completed"
    },
    "tags": []
   },
   "outputs": [
    {
     "data": {
      "text/plain": [
       "Text(0.5, 1.0, 'Outputs')"
      ]
     },
     "execution_count": 26,
     "metadata": {},
     "output_type": "execute_result"
    },
    {
     "data": {
      "image/png": "[encoded data removed]",
      "text/plain": [
       "<Figure size 576x504 with 1 Axes>"
      ]
     },
     "metadata": {
      "needs_background": "light"
     },
     "output_type": "display_data"
    }
   ],
   "source": [
    "# Plotting the scatter plot of points and color coding by class\n",
    "plt.figure(figsize=(8,7))\n",
    "plt.scatter(testing_plot[:,0], testing_plot[:,1], alpha = 0.1, c = y_test.ravel());\n",
    "plt.title('Outputs')"
   ]
  },
  {
   "cell_type": "markdown",
   "id": "a74fcf8f",
   "metadata": {
    "papermill": {
     "duration": 0.102781,
     "end_time": "2022-06-17T10:13:33.823155",
     "exception": false,
     "start_time": "2022-06-17T10:13:33.720374",
     "status": "completed"
    },
    "tags": []
   },
   "source": [
    "Probability contours"
   ]
  },
  {
   "cell_type": "code",
   "execution_count": 27,
   "id": "d0afc8e3",
   "metadata": {
    "execution": {
     "iopub.execute_input": "2022-06-17T10:13:33.954062Z",
     "iopub.status.busy": "2022-06-17T10:13:33.953259Z",
     "iopub.status.idle": "2022-06-17T10:13:33.968396Z",
     "shell.execute_reply": "2022-06-17T10:13:33.969078Z"
    },
    "papermill": {
     "duration": 0.080653,
     "end_time": "2022-06-17T10:13:33.969273",
     "exception": false,
     "start_time": "2022-06-17T10:13:33.888620",
     "status": "completed"
    },
    "tags": []
   },
   "outputs": [],
   "source": [
    "model_prob = Model(layers[-2:]) "
   ]
  },
  {
   "cell_type": "code",
   "execution_count": 28,
   "id": "9b96e238",
   "metadata": {
    "execution": {
     "iopub.execute_input": "2022-06-17T10:13:34.102290Z",
     "iopub.status.busy": "2022-06-17T10:13:34.093767Z",
     "iopub.status.idle": "2022-06-17T10:13:34.110604Z",
     "shell.execute_reply": "2022-06-17T10:13:34.111206Z"
    },
    "papermill": {
     "duration": 0.08353,
     "end_time": "2022-06-17T10:13:34.111392",
     "exception": false,
     "start_time": "2022-06-17T10:13:34.027862",
     "status": "completed"
    },
    "tags": []
   },
   "outputs": [],
   "source": [
    "#creating the x and y ranges according to the above generated plot.\n",
    "x_range = np.linspace(-4, 1, 100) \n",
    "y_range = np.linspace(-6, 6, 100) \n",
    "x_grid, y_grid = np.meshgrid(x_range, y_range) # x_grid and y_grig are of size 100 X 100\n",
    "\n",
    "# converting x_grid and y_grid to continuous arrays\n",
    "x_gridflat = np.ravel(x_grid)\n",
    "y_gridflat = np.ravel(y_grid)\n",
    "\n",
    "# The last layer of the current model takes two columns as input. Hence transpose of np.vstack() is required.\n",
    "X = np.vstack((x_gridflat, y_gridflat)).T\n",
    "\n",
    "prob_contour = model_prob(X).reshape(100,100) "
   ]
  },
  {
   "cell_type": "code",
   "execution_count": 29,
   "id": "da72499a",
   "metadata": {
    "execution": {
     "iopub.execute_input": "2022-06-17T10:13:34.242027Z",
     "iopub.status.busy": "2022-06-17T10:13:34.241231Z",
     "iopub.status.idle": "2022-06-17T10:13:34.602509Z",
     "shell.execute_reply": "2022-06-17T10:13:34.601556Z"
    },
    "papermill": {
     "duration": 0.431536,
     "end_time": "2022-06-17T10:13:34.602671",
     "exception": false,
     "start_time": "2022-06-17T10:13:34.171135",
     "status": "completed"
    },
    "tags": []
   },
   "outputs": [
    {
     "data": {
      "image/png": "[encoded data removed]",
      "text/plain": [
       "<Figure size 720x648 with 1 Axes>"
      ]
     },
     "metadata": {
      "needs_background": "light"
     },
     "output_type": "display_data"
    }
   ],
   "source": [
    "plt.figure(figsize=(10,9))\n",
    "plt.scatter(testing_plot[:,0], testing_plot[:,1], alpha = 0.1, c = y_test.ravel())\n",
    "contours = plt.contour(x_grid,y_grid,prob_contour)\n",
    "plt.title('Probability Contours')\n",
    "plt.clabel(contours, inline = True );"
   ]
  },
  {
   "cell_type": "code",
   "execution_count": null,
   "id": "e81b4ac7",
   "metadata": {
    "papermill": {
     "duration": 0.064876,
     "end_time": "2022-06-17T10:13:34.731091",
     "exception": false,
     "start_time": "2022-06-17T10:13:34.666215",
     "status": "completed"
    },
    "tags": []
   },
   "outputs": [],
   "source": []
  }
 ],
 "metadata": {
  "kernelspec": {
   "display_name": "Python 3",
   "language": "python",
   "name": "python3"
  },
  "language_info": {
   "codemirror_mode": {
    "name": "ipython",
    "version": 3
   },
   "file_extension": ".py",
   "mimetype": "text/x-python",
   "name": "python",
   "nbconvert_exporter": "python",
   "pygments_lexer": "ipython3",
   "version": "3.6.15"
  },
  "papermill": {
   "default_parameters": {},
   "duration": 184.222786,
   "end_time": "2022-06-17T10:13:35.332866",
   "environment_variables": {},
   "exception": null,
   "input_path": "2020-08-11-part2.ipynb",
   "output_path": "2020-08-11-part2.ipynb",
   "parameters": {},
   "start_time": "2022-06-17T10:10:31.110080",
   "version": "2.3.3"
  }
 },
 "nbformat": 4,
 "nbformat_minor": 5
}