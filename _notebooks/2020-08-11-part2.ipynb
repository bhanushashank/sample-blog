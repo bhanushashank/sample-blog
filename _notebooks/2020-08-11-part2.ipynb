{
 "cells": [
  {
   "cell_type": "markdown",
   "id": "98380cd3",
   "metadata": {
    "papermill": {
     "duration": 0.038621,
     "end_time": "2022-02-03T00:23:56.034105",
     "exception": false,
     "start_time": "2022-02-03T00:23:55.995484",
     "status": "completed"
    },
    "tags": []
   },
   "source": [
    "# Distinguish Your Own Digits (DYOD)"
   ]
  },
  {
   "cell_type": "markdown",
   "id": "ef31240d",
   "metadata": {
    "papermill": {
     "duration": 0.029092,
     "end_time": "2022-02-03T00:23:56.094145",
     "exception": false,
     "start_time": "2022-02-03T00:23:56.065053",
     "status": "completed"
    },
    "tags": []
   },
   "source": [
    "You are going to write a classifier that distinguishes between the number 3 and number 8."
   ]
  },
  {
   "cell_type": "code",
   "execution_count": 1,
   "id": "b15c8646",
   "metadata": {
    "execution": {
     "iopub.execute_input": "2022-02-03T00:23:56.167200Z",
     "iopub.status.busy": "2022-02-03T00:23:56.166570Z",
     "iopub.status.idle": "2022-02-03T00:23:56.177004Z",
     "shell.execute_reply": "2022-02-03T00:23:56.176467Z"
    },
    "papermill": {
     "duration": 0.053195,
     "end_time": "2022-02-03T00:23:56.177144",
     "exception": false,
     "start_time": "2022-02-03T00:23:56.123949",
     "status": "completed"
    },
    "tags": []
   },
   "outputs": [],
   "source": [
    "%load_ext autoreload\n",
    "%autoreload 2"
   ]
  },
  {
   "cell_type": "code",
   "execution_count": 2,
   "id": "22ef38dc",
   "metadata": {
    "execution": {
     "iopub.execute_input": "2022-02-03T00:23:56.238957Z",
     "iopub.status.busy": "2022-02-03T00:23:56.238121Z",
     "iopub.status.idle": "2022-02-03T00:23:56.898357Z",
     "shell.execute_reply": "2022-02-03T00:23:56.897655Z"
    },
    "papermill": {
     "duration": 0.692876,
     "end_time": "2022-02-03T00:23:56.898518",
     "exception": false,
     "start_time": "2022-02-03T00:23:56.205642",
     "status": "completed"
    },
    "tags": []
   },
   "outputs": [],
   "source": [
    "%matplotlib inline\n",
    "import numpy as np\n",
    "import matplotlib.pyplot as plt\n",
    "import pandas as pd"
   ]
  },
  {
   "cell_type": "markdown",
   "id": "ba036198",
   "metadata": {
    "papermill": {
     "duration": 0.028656,
     "end_time": "2022-02-03T00:23:56.954941",
     "exception": false,
     "start_time": "2022-02-03T00:23:56.926285",
     "status": "completed"
    },
    "tags": []
   },
   "source": [
    "From the command line run `pip install mnist`. This is a library that will help you bring down the mnist dataset. If you run this from a notebook, you need to put  `!pip install mnist` in a cell by itself."
   ]
  },
  {
   "cell_type": "code",
   "execution_count": 3,
   "id": "bb6ad8a1",
   "metadata": {
    "execution": {
     "iopub.execute_input": "2022-02-03T00:23:57.021972Z",
     "iopub.status.busy": "2022-02-03T00:23:57.020870Z",
     "iopub.status.idle": "2022-02-03T00:23:59.023959Z",
     "shell.execute_reply": "2022-02-03T00:23:59.024466Z"
    },
    "papermill": {
     "duration": 2.041522,
     "end_time": "2022-02-03T00:23:59.024621",
     "exception": false,
     "start_time": "2022-02-03T00:23:56.983099",
     "status": "completed"
    },
    "tags": []
   },
   "outputs": [
    {
     "name": "stdout",
     "output_type": "stream",
     "text": [
      "Collecting mnist\r\n",
      "  Downloading mnist-0.2.2-py2.py3-none-any.whl (3.5 kB)\r\n",
      "Requirement already satisfied: numpy in /opt/hostedtoolcache/Python/3.6.15/x64/lib/python3.6/site-packages (from mnist) (1.19.5)\r\n"
     ]
    },
    {
     "name": "stdout",
     "output_type": "stream",
     "text": [
      "Installing collected packages: mnist\r\n"
     ]
    },
    {
     "name": "stdout",
     "output_type": "stream",
     "text": [
      "Successfully installed mnist-0.2.2\r\n"
     ]
    }
   ],
   "source": [
    "!pip install mnist"
   ]
  },
  {
   "cell_type": "markdown",
   "id": "69df9c9a",
   "metadata": {
    "papermill": {
     "duration": 0.028164,
     "end_time": "2022-02-03T00:23:59.081682",
     "exception": false,
     "start_time": "2022-02-03T00:23:59.053518",
     "status": "completed"
    },
    "tags": []
   },
   "source": [
    "## Preparing the Data"
   ]
  },
  {
   "cell_type": "code",
   "execution_count": 4,
   "id": "7f69d806",
   "metadata": {
    "execution": {
     "iopub.execute_input": "2022-02-03T00:23:59.142486Z",
     "iopub.status.busy": "2022-02-03T00:23:59.141849Z",
     "iopub.status.idle": "2022-02-03T00:23:59.162836Z",
     "shell.execute_reply": "2022-02-03T00:23:59.162298Z"
    },
    "papermill": {
     "duration": 0.053306,
     "end_time": "2022-02-03T00:23:59.162967",
     "exception": false,
     "start_time": "2022-02-03T00:23:59.109661",
     "status": "completed"
    },
    "tags": []
   },
   "outputs": [],
   "source": [
    "import mnist"
   ]
  },
  {
   "cell_type": "code",
   "execution_count": 5,
   "id": "a411e44f",
   "metadata": {
    "execution": {
     "iopub.execute_input": "2022-02-03T00:23:59.234499Z",
     "iopub.status.busy": "2022-02-03T00:23:59.229669Z",
     "iopub.status.idle": "2022-02-03T00:23:59.814448Z",
     "shell.execute_reply": "2022-02-03T00:23:59.815228Z"
    },
    "papermill": {
     "duration": 0.62139,
     "end_time": "2022-02-03T00:23:59.815452",
     "exception": false,
     "start_time": "2022-02-03T00:23:59.194062",
     "status": "completed"
    },
    "tags": []
   },
   "outputs": [],
   "source": [
    "train_images = mnist.train_images()\n",
    "train_labels = mnist.train_labels()"
   ]
  },
  {
   "cell_type": "code",
   "execution_count": 6,
   "id": "dceab3a5",
   "metadata": {
    "execution": {
     "iopub.execute_input": "2022-02-03T00:23:59.884778Z",
     "iopub.status.busy": "2022-02-03T00:23:59.884173Z",
     "iopub.status.idle": "2022-02-03T00:23:59.902127Z",
     "shell.execute_reply": "2022-02-03T00:23:59.901461Z"
    },
    "papermill": {
     "duration": 0.056615,
     "end_time": "2022-02-03T00:23:59.902271",
     "exception": false,
     "start_time": "2022-02-03T00:23:59.845656",
     "status": "completed"
    },
    "tags": []
   },
   "outputs": [
    {
     "data": {
      "text/plain": [
       "((60000, 28, 28), (60000,))"
      ]
     },
     "execution_count": 6,
     "metadata": {},
     "output_type": "execute_result"
    }
   ],
   "source": [
    "train_images.shape, train_labels.shape"
   ]
  },
  {
   "cell_type": "code",
   "execution_count": 7,
   "id": "f50dc2bb",
   "metadata": {
    "execution": {
     "iopub.execute_input": "2022-02-03T00:23:59.967407Z",
     "iopub.status.busy": "2022-02-03T00:23:59.966774Z",
     "iopub.status.idle": "2022-02-03T00:24:00.098058Z",
     "shell.execute_reply": "2022-02-03T00:24:00.097488Z"
    },
    "papermill": {
     "duration": 0.166018,
     "end_time": "2022-02-03T00:24:00.098199",
     "exception": false,
     "start_time": "2022-02-03T00:23:59.932181",
     "status": "completed"
    },
    "tags": []
   },
   "outputs": [],
   "source": [
    "test_images = mnist.test_images()\n",
    "test_labels = mnist.test_labels()"
   ]
  },
  {
   "cell_type": "code",
   "execution_count": 8,
   "id": "fc38cf1b",
   "metadata": {
    "execution": {
     "iopub.execute_input": "2022-02-03T00:24:00.159481Z",
     "iopub.status.busy": "2022-02-03T00:24:00.158844Z",
     "iopub.status.idle": "2022-02-03T00:24:00.173440Z",
     "shell.execute_reply": "2022-02-03T00:24:00.172950Z"
    },
    "papermill": {
     "duration": 0.046848,
     "end_time": "2022-02-03T00:24:00.173571",
     "exception": false,
     "start_time": "2022-02-03T00:24:00.126723",
     "status": "completed"
    },
    "tags": []
   },
   "outputs": [
    {
     "data": {
      "text/plain": [
       "((10000, 28, 28), (10000,))"
      ]
     },
     "execution_count": 8,
     "metadata": {},
     "output_type": "execute_result"
    }
   ],
   "source": [
    "test_images.shape, test_labels.shape"
   ]
  },
  {
   "cell_type": "code",
   "execution_count": 9,
   "id": "f9ed8fe0",
   "metadata": {
    "execution": {
     "iopub.execute_input": "2022-02-03T00:24:00.235501Z",
     "iopub.status.busy": "2022-02-03T00:24:00.234847Z",
     "iopub.status.idle": "2022-02-03T00:24:00.400760Z",
     "shell.execute_reply": "2022-02-03T00:24:00.401329Z"
    },
    "papermill": {
     "duration": 0.199466,
     "end_time": "2022-02-03T00:24:00.401595",
     "exception": false,
     "start_time": "2022-02-03T00:24:00.202129",
     "status": "completed"
    },
    "tags": []
   },
   "outputs": [
    {
     "name": "stdout",
     "output_type": "stream",
     "text": [
      "2\n"
     ]
    },
    {
     "data": {
      "text/plain": [
       "<matplotlib.image.AxesImage at 0x7f9ec4b1dcc0>"
      ]
     },
     "execution_count": 9,
     "metadata": {},
     "output_type": "execute_result"
    },
    {
     "data": {
      "image/png": "[encoded data removed]",
      "text/plain": [
       "<Figure size 432x288 with 1 Axes>"
      ]
     },
     "metadata": {
      "needs_background": "light"
     },
     "output_type": "display_data"
    }
   ],
   "source": [
    "image_index = 7776 # You may select anything up to 60,000\n",
    "print(train_labels[image_index]) \n",
    "plt.imshow(train_images[image_index], cmap='Greys')"
   ]
  },
  {
   "cell_type": "markdown",
   "id": "a8d2388d",
   "metadata": {
    "papermill": {
     "duration": 0.03981,
     "end_time": "2022-02-03T00:24:00.477189",
     "exception": false,
     "start_time": "2022-02-03T00:24:00.437379",
     "status": "completed"
    },
    "tags": []
   },
   "source": [
    "## Filter data to get 3 and 8 out"
   ]
  },
  {
   "cell_type": "code",
   "execution_count": 10,
   "id": "776f7fc7",
   "metadata": {
    "execution": {
     "iopub.execute_input": "2022-02-03T00:24:00.545949Z",
     "iopub.status.busy": "2022-02-03T00:24:00.545206Z",
     "iopub.status.idle": "2022-02-03T00:24:00.567861Z",
     "shell.execute_reply": "2022-02-03T00:24:00.565421Z"
    },
    "papermill": {
     "duration": 0.060012,
     "end_time": "2022-02-03T00:24:00.568029",
     "exception": false,
     "start_time": "2022-02-03T00:24:00.508017",
     "status": "completed"
    },
    "tags": []
   },
   "outputs": [],
   "source": [
    "train_filter = np.where((train_labels == 3 ) | (train_labels == 8))\n",
    "test_filter = np.where((test_labels == 3) | (test_labels == 8))\n",
    "X_train, y_train = train_images[train_filter], train_labels[train_filter]\n",
    "X_test, y_test = test_images[test_filter], test_labels[test_filter]"
   ]
  },
  {
   "cell_type": "markdown",
   "id": "948f0b7e",
   "metadata": {
    "papermill": {
     "duration": 0.033933,
     "end_time": "2022-02-03T00:24:00.633324",
     "exception": false,
     "start_time": "2022-02-03T00:24:00.599391",
     "status": "completed"
    },
    "tags": []
   },
   "source": [
    "We normalize the pizel values in the 0 to 1 range"
   ]
  },
  {
   "cell_type": "code",
   "execution_count": 11,
   "id": "ee4c2166",
   "metadata": {
    "execution": {
     "iopub.execute_input": "2022-02-03T00:24:00.701330Z",
     "iopub.status.busy": "2022-02-03T00:24:00.700692Z",
     "iopub.status.idle": "2022-02-03T00:24:00.756491Z",
     "shell.execute_reply": "2022-02-03T00:24:00.755757Z"
    },
    "papermill": {
     "duration": 0.092463,
     "end_time": "2022-02-03T00:24:00.756638",
     "exception": false,
     "start_time": "2022-02-03T00:24:00.664175",
     "status": "completed"
    },
    "tags": []
   },
   "outputs": [],
   "source": [
    "X_train = X_train/255.\n",
    "X_test = X_test/255."
   ]
  },
  {
   "cell_type": "markdown",
   "id": "ddcf4fab",
   "metadata": {
    "papermill": {
     "duration": 0.03183,
     "end_time": "2022-02-03T00:24:00.820650",
     "exception": false,
     "start_time": "2022-02-03T00:24:00.788820",
     "status": "completed"
    },
    "tags": []
   },
   "source": [
    "And setup the labels as 1 (when the digit is 3) and 0 (when the digit is 8)"
   ]
  },
  {
   "cell_type": "code",
   "execution_count": 12,
   "id": "7dc908f2",
   "metadata": {
    "execution": {
     "iopub.execute_input": "2022-02-03T00:24:00.890832Z",
     "iopub.status.busy": "2022-02-03T00:24:00.890184Z",
     "iopub.status.idle": "2022-02-03T00:24:00.903298Z",
     "shell.execute_reply": "2022-02-03T00:24:00.902814Z"
    },
    "papermill": {
     "duration": 0.049539,
     "end_time": "2022-02-03T00:24:00.903453",
     "exception": false,
     "start_time": "2022-02-03T00:24:00.853914",
     "status": "completed"
    },
    "tags": []
   },
   "outputs": [],
   "source": [
    "y_train = 1*(y_train==3)\n",
    "y_test = 1*(y_test==3)"
   ]
  },
  {
   "cell_type": "code",
   "execution_count": 13,
   "id": "01e4e969",
   "metadata": {
    "execution": {
     "iopub.execute_input": "2022-02-03T00:24:00.972865Z",
     "iopub.status.busy": "2022-02-03T00:24:00.972120Z",
     "iopub.status.idle": "2022-02-03T00:24:00.988213Z",
     "shell.execute_reply": "2022-02-03T00:24:00.987730Z"
    },
    "papermill": {
     "duration": 0.050731,
     "end_time": "2022-02-03T00:24:00.988342",
     "exception": false,
     "start_time": "2022-02-03T00:24:00.937611",
     "status": "completed"
    },
    "tags": []
   },
   "outputs": [
    {
     "data": {
      "text/plain": [
       "((11982, 28, 28), (1984, 28, 28))"
      ]
     },
     "execution_count": 13,
     "metadata": {},
     "output_type": "execute_result"
    }
   ],
   "source": [
    "X_train.shape, X_test.shape"
   ]
  },
  {
   "cell_type": "markdown",
   "id": "5ccf3f85",
   "metadata": {
    "papermill": {
     "duration": 0.030675,
     "end_time": "2022-02-03T00:24:01.051400",
     "exception": false,
     "start_time": "2022-02-03T00:24:01.020725",
     "status": "completed"
    },
    "tags": []
   },
   "source": [
    "We reshape the data to flatten the image pixels into a set of features or co-variates:"
   ]
  },
  {
   "cell_type": "code",
   "execution_count": 14,
   "id": "5286a4a3",
   "metadata": {
    "execution": {
     "iopub.execute_input": "2022-02-03T00:24:01.121380Z",
     "iopub.status.busy": "2022-02-03T00:24:01.120762Z",
     "iopub.status.idle": "2022-02-03T00:24:01.135351Z",
     "shell.execute_reply": "2022-02-03T00:24:01.135832Z"
    },
    "papermill": {
     "duration": 0.051372,
     "end_time": "2022-02-03T00:24:01.135999",
     "exception": false,
     "start_time": "2022-02-03T00:24:01.084627",
     "status": "completed"
    },
    "tags": []
   },
   "outputs": [
    {
     "data": {
      "text/plain": [
       "((11982, 784), (1984, 784))"
      ]
     },
     "execution_count": 14,
     "metadata": {},
     "output_type": "execute_result"
    }
   ],
   "source": [
    "X_train = X_train.reshape(X_train.shape[0], -1)\n",
    "X_test = X_test.reshape(X_test.shape[0], -1)\n",
    "X_train.shape, X_test.shape"
   ]
  },
  {
   "cell_type": "code",
   "execution_count": 15,
   "id": "73c5f88a",
   "metadata": {
    "execution": {
     "iopub.execute_input": "2022-02-03T00:24:01.216147Z",
     "iopub.status.busy": "2022-02-03T00:24:01.215184Z",
     "iopub.status.idle": "2022-02-03T00:24:01.235189Z",
     "shell.execute_reply": "2022-02-03T00:24:01.234709Z"
    },
    "papermill": {
     "duration": 0.062784,
     "end_time": "2022-02-03T00:24:01.235343",
     "exception": false,
     "start_time": "2022-02-03T00:24:01.172559",
     "status": "completed"
    },
    "tags": []
   },
   "outputs": [],
   "source": [
    "#Impoting functions from 'Kudzu'\n",
    "from kudzu.model import Model\n",
    "from kudzu.train import Learner\n",
    "from kudzu.optim import GD\n",
    "from kudzu.data import Data, Sampler,Dataloader\n",
    "\n",
    "from kudzu.callbacks import AccCallback\n",
    "from kudzu.callbacks import ClfCallback\n",
    "\n",
    "from kudzu.loss import MSE\n",
    "\n",
    "from kudzu.layer import Sigmoid,Relu\n",
    "from kudzu.layer import Affine"
   ]
  },
  {
   "cell_type": "markdown",
   "id": "bc01172a",
   "metadata": {
    "papermill": {
     "duration": 0.04627,
     "end_time": "2022-02-03T00:24:01.310889",
     "exception": false,
     "start_time": "2022-02-03T00:24:01.264619",
     "status": "completed"
    },
    "tags": []
   },
   "source": [
    "### Let us create a `Config` class, to store important parameters. \n",
    "This class essentially plays the role of a dictionary."
   ]
  },
  {
   "cell_type": "code",
   "execution_count": 16,
   "id": "978281aa",
   "metadata": {
    "execution": {
     "iopub.execute_input": "2022-02-03T00:24:01.384556Z",
     "iopub.status.busy": "2022-02-03T00:24:01.383948Z",
     "iopub.status.idle": "2022-02-03T00:24:01.398578Z",
     "shell.execute_reply": "2022-02-03T00:24:01.397888Z"
    },
    "papermill": {
     "duration": 0.054196,
     "end_time": "2022-02-03T00:24:01.398724",
     "exception": false,
     "start_time": "2022-02-03T00:24:01.344528",
     "status": "completed"
    },
    "tags": []
   },
   "outputs": [],
   "source": [
    "class Config:\n",
    "    pass\n",
    "config = Config()\n",
    "config.lr = 0.001\n",
    "config.num_epochs = 250\n",
    "config.bs = 50"
   ]
  },
  {
   "cell_type": "markdown",
   "id": "1385fa59",
   "metadata": {
    "papermill": {
     "duration": 0.033374,
     "end_time": "2022-02-03T00:24:01.472466",
     "exception": false,
     "start_time": "2022-02-03T00:24:01.439092",
     "status": "completed"
    },
    "tags": []
   },
   "source": [
    "### Running Models with the Training data\n",
    "Details about the network layers:\n",
    "- A first affine layer has 784 inputs and does 100 affine transforms. These are followed by a Relu\n",
    "- A second affine layer has 100 inputs from the 100 activations of the past layer, and does 100 affine transforms. These are followed by a Relu\n",
    "- A third affine layer has 100 activations and does 2 affine transformations to create an embedding for visualization. There is no non-linearity here.\n",
    "- A final \"logistic regression\" which has an affine transform from 2 inputs to 1 output, which is squeezed through a sigmoid.\n"
   ]
  },
  {
   "cell_type": "code",
   "execution_count": 17,
   "id": "2b9c66db",
   "metadata": {
    "execution": {
     "iopub.execute_input": "2022-02-03T00:24:01.554673Z",
     "iopub.status.busy": "2022-02-03T00:24:01.553453Z",
     "iopub.status.idle": "2022-02-03T00:24:01.568117Z",
     "shell.execute_reply": "2022-02-03T00:24:01.568579Z"
    },
    "papermill": {
     "duration": 0.062384,
     "end_time": "2022-02-03T00:24:01.568733",
     "exception": false,
     "start_time": "2022-02-03T00:24:01.506349",
     "status": "completed"
    },
    "tags": []
   },
   "outputs": [],
   "source": [
    "data = Data(X_train, y_train.reshape(-1,1))\n",
    "sampler = Sampler(data, config.bs, shuffle=True)\n",
    "\n",
    "dl = Dataloader(data, sampler)\n",
    "\n",
    "opt = GD(config.lr)\n",
    "loss = MSE()"
   ]
  },
  {
   "cell_type": "code",
   "execution_count": 18,
   "id": "b275e4c2",
   "metadata": {
    "execution": {
     "iopub.execute_input": "2022-02-03T00:24:01.638815Z",
     "iopub.status.busy": "2022-02-03T00:24:01.638202Z",
     "iopub.status.idle": "2022-02-03T00:24:01.651235Z",
     "shell.execute_reply": "2022-02-03T00:24:01.650747Z"
    },
    "papermill": {
     "duration": 0.051973,
     "end_time": "2022-02-03T00:24:01.651386",
     "exception": false,
     "start_time": "2022-02-03T00:24:01.599413",
     "status": "completed"
    },
    "tags": []
   },
   "outputs": [],
   "source": [
    "training_data_x = X_train\n",
    "testing_data_x = X_test\n",
    "training_data_y = y_train.reshape(-1,1)\n",
    "testing_data_y = y_test.reshape(-1,1)"
   ]
  },
  {
   "cell_type": "code",
   "execution_count": 19,
   "id": "76951160",
   "metadata": {
    "execution": {
     "iopub.execute_input": "2022-02-03T00:24:01.717749Z",
     "iopub.status.busy": "2022-02-03T00:24:01.717124Z",
     "iopub.status.idle": "2022-02-03T00:24:01.736422Z",
     "shell.execute_reply": "2022-02-03T00:24:01.735913Z"
    },
    "papermill": {
     "duration": 0.054665,
     "end_time": "2022-02-03T00:24:01.736548",
     "exception": false,
     "start_time": "2022-02-03T00:24:01.681883",
     "status": "completed"
    },
    "tags": []
   },
   "outputs": [
    {
     "name": "stdout",
     "output_type": "stream",
     "text": [
      "xavier\n",
      "xavier\n",
      "xavier\n",
      "xavier\n",
      "xavier\n"
     ]
    }
   ],
   "source": [
    "layers = [Affine(\"first\", 784, 100), Relu(\"first\"), Affine(\"second\", 100, 100), Relu(\"second\"), Affine(\"third\", 100, 2), Affine(\"last\", 2, 1), Sigmoid(\"last\")]\n",
    "model_nn = Model(layers)\n",
    "model_lr = Model([Affine(\"logits\", 784, 1), Sigmoid(\"sigmoid\")])"
   ]
  },
  {
   "cell_type": "code",
   "execution_count": 20,
   "id": "6eede77a",
   "metadata": {
    "execution": {
     "iopub.execute_input": "2022-02-03T00:24:01.804166Z",
     "iopub.status.busy": "2022-02-03T00:24:01.803555Z",
     "iopub.status.idle": "2022-02-03T00:24:01.816665Z",
     "shell.execute_reply": "2022-02-03T00:24:01.817176Z"
    },
    "papermill": {
     "duration": 0.049719,
     "end_time": "2022-02-03T00:24:01.817321",
     "exception": false,
     "start_time": "2022-02-03T00:24:01.767602",
     "status": "completed"
    },
    "tags": []
   },
   "outputs": [],
   "source": [
    "nn_learner = Learner(loss, model_nn, opt, config.num_epochs)\n",
    "acc_nn = ClfCallback(nn_learner, config.bs, training_data_x , testing_data_x, training_data_y, testing_data_y)\n",
    "nn_learner.set_callbacks([acc_nn])"
   ]
  },
  {
   "cell_type": "code",
   "execution_count": 21,
   "id": "877b6cc7",
   "metadata": {
    "execution": {
     "iopub.execute_input": "2022-02-03T00:24:01.883535Z",
     "iopub.status.busy": "2022-02-03T00:24:01.882911Z",
     "iopub.status.idle": "2022-02-03T00:24:01.896692Z",
     "shell.execute_reply": "2022-02-03T00:24:01.897199Z"
    },
    "papermill": {
     "duration": 0.049236,
     "end_time": "2022-02-03T00:24:01.897339",
     "exception": false,
     "start_time": "2022-02-03T00:24:01.848103",
     "status": "completed"
    },
    "tags": []
   },
   "outputs": [],
   "source": [
    "lr_learner = Learner(loss, model_lr, opt, config.num_epochs)\n",
    "acc_lr = ClfCallback(lr_learner, config.bs, training_data_x , testing_data_x, training_data_y, testing_data_y)\n",
    "lr_learner.set_callbacks([acc_lr])"
   ]
  },
  {
   "cell_type": "code",
   "execution_count": 22,
   "id": "d9b133c3",
   "metadata": {
    "execution": {
     "iopub.execute_input": "2022-02-03T00:24:01.966500Z",
     "iopub.status.busy": "2022-02-03T00:24:01.965893Z",
     "iopub.status.idle": "2022-02-03T00:25:29.552777Z",
     "shell.execute_reply": "2022-02-03T00:25:29.553623Z"
    },
    "papermill": {
     "duration": 87.625537,
     "end_time": "2022-02-03T00:25:29.553792",
     "exception": false,
     "start_time": "2022-02-03T00:24:01.928255",
     "status": "completed"
    },
    "tags": []
   },
   "outputs": [
    {
     "name": "stdout",
     "output_type": "stream",
     "text": [
      "Epoch 0, Loss 0.2531\n",
      "Training Accuracy: 0.4730, Testing Accuracy: 0.4541\n",
      "\n"
     ]
    },
    {
     "name": "stdout",
     "output_type": "stream",
     "text": [
      "Epoch 10, Loss 0.2275\n",
      "Training Accuracy: 0.7924, Testing Accuracy: 0.7964\n",
      "\n"
     ]
    },
    {
     "name": "stdout",
     "output_type": "stream",
     "text": [
      "Epoch 20, Loss 0.1472\n",
      "Training Accuracy: 0.8898, Testing Accuracy: 0.9012\n",
      "\n"
     ]
    },
    {
     "name": "stdout",
     "output_type": "stream",
     "text": [
      "Epoch 30, Loss 0.0777\n",
      "Training Accuracy: 0.9249, Testing Accuracy: 0.9395\n",
      "\n"
     ]
    },
    {
     "name": "stdout",
     "output_type": "stream",
     "text": [
      "Epoch 40, Loss 0.0552\n",
      "Training Accuracy: 0.9403, Testing Accuracy: 0.9536\n",
      "\n"
     ]
    },
    {
     "name": "stdout",
     "output_type": "stream",
     "text": [
      "Epoch 50, Loss 0.0454\n",
      "Training Accuracy: 0.9493, Testing Accuracy: 0.9567\n",
      "\n"
     ]
    },
    {
     "name": "stdout",
     "output_type": "stream",
     "text": [
      "Epoch 60, Loss 0.04\n",
      "Training Accuracy: 0.9552, Testing Accuracy: 0.9607\n",
      "\n"
     ]
    },
    {
     "name": "stdout",
     "output_type": "stream",
     "text": [
      "Epoch 70, Loss 0.0366\n",
      "Training Accuracy: 0.9586, Testing Accuracy: 0.9632\n",
      "\n"
     ]
    },
    {
     "name": "stdout",
     "output_type": "stream",
     "text": [
      "Epoch 80, Loss 0.0342\n",
      "Training Accuracy: 0.9609, Testing Accuracy: 0.9642\n",
      "\n"
     ]
    },
    {
     "name": "stdout",
     "output_type": "stream",
     "text": [
      "Epoch 90, Loss 0.0324\n",
      "Training Accuracy: 0.9625, Testing Accuracy: 0.9657\n",
      "\n"
     ]
    },
    {
     "name": "stdout",
     "output_type": "stream",
     "text": [
      "Epoch 100, Loss 0.0309\n",
      "Training Accuracy: 0.9635, Testing Accuracy: 0.9667\n",
      "\n"
     ]
    },
    {
     "name": "stdout",
     "output_type": "stream",
     "text": [
      "Epoch 110, Loss 0.0297\n",
      "Training Accuracy: 0.9647, Testing Accuracy: 0.9682\n",
      "\n"
     ]
    },
    {
     "name": "stdout",
     "output_type": "stream",
     "text": [
      "Epoch 120, Loss 0.0287\n",
      "Training Accuracy: 0.9663, Testing Accuracy: 0.9703\n",
      "\n"
     ]
    },
    {
     "name": "stdout",
     "output_type": "stream",
     "text": [
      "Epoch 130, Loss 0.0278\n",
      "Training Accuracy: 0.9677, Testing Accuracy: 0.9713\n",
      "\n"
     ]
    },
    {
     "name": "stdout",
     "output_type": "stream",
     "text": [
      "Epoch 140, Loss 0.027\n",
      "Training Accuracy: 0.9685, Testing Accuracy: 0.9713\n",
      "\n"
     ]
    },
    {
     "name": "stdout",
     "output_type": "stream",
     "text": [
      "Epoch 150, Loss 0.0263\n",
      "Training Accuracy: 0.9699, Testing Accuracy: 0.9713\n",
      "\n"
     ]
    },
    {
     "name": "stdout",
     "output_type": "stream",
     "text": [
      "Epoch 160, Loss 0.0257\n",
      "Training Accuracy: 0.9709, Testing Accuracy: 0.9718\n",
      "\n"
     ]
    },
    {
     "name": "stdout",
     "output_type": "stream",
     "text": [
      "Epoch 170, Loss 0.0251\n",
      "Training Accuracy: 0.9713, Testing Accuracy: 0.9713\n",
      "\n"
     ]
    },
    {
     "name": "stdout",
     "output_type": "stream",
     "text": [
      "Epoch 180, Loss 0.0245\n",
      "Training Accuracy: 0.9719, Testing Accuracy: 0.9718\n",
      "\n"
     ]
    },
    {
     "name": "stdout",
     "output_type": "stream",
     "text": [
      "Epoch 190, Loss 0.024\n",
      "Training Accuracy: 0.9725, Testing Accuracy: 0.9723\n",
      "\n"
     ]
    },
    {
     "name": "stdout",
     "output_type": "stream",
     "text": [
      "Epoch 200, Loss 0.0235\n",
      "Training Accuracy: 0.9733, Testing Accuracy: 0.9718\n",
      "\n"
     ]
    },
    {
     "name": "stdout",
     "output_type": "stream",
     "text": [
      "Epoch 210, Loss 0.023\n",
      "Training Accuracy: 0.9736, Testing Accuracy: 0.9718\n",
      "\n"
     ]
    },
    {
     "name": "stdout",
     "output_type": "stream",
     "text": [
      "Epoch 220, Loss 0.0226\n",
      "Training Accuracy: 0.9736, Testing Accuracy: 0.9723\n",
      "\n"
     ]
    },
    {
     "name": "stdout",
     "output_type": "stream",
     "text": [
      "Epoch 230, Loss 0.0222\n",
      "Training Accuracy: 0.9742, Testing Accuracy: 0.9723\n",
      "\n"
     ]
    },
    {
     "name": "stdout",
     "output_type": "stream",
     "text": [
      "Epoch 240, Loss 0.0218\n",
      "Training Accuracy: 0.9747, Testing Accuracy: 0.9733\n",
      "\n"
     ]
    },
    {
     "data": {
      "text/plain": [
       "0.026991326649386405"
      ]
     },
     "execution_count": 22,
     "metadata": {},
     "output_type": "execute_result"
    }
   ],
   "source": [
    "nn_learner.train_loop(dl)"
   ]
  },
  {
   "cell_type": "code",
   "execution_count": 23,
   "id": "e0163366",
   "metadata": {
    "execution": {
     "iopub.execute_input": "2022-02-03T00:25:29.641393Z",
     "iopub.status.busy": "2022-02-03T00:25:29.640786Z",
     "iopub.status.idle": "2022-02-03T00:25:45.379336Z",
     "shell.execute_reply": "2022-02-03T00:25:45.380238Z"
    },
    "papermill": {
     "duration": 15.787361,
     "end_time": "2022-02-03T00:25:45.380406",
     "exception": false,
     "start_time": "2022-02-03T00:25:29.593045",
     "status": "completed"
    },
    "tags": []
   },
   "outputs": [
    {
     "name": "stdout",
     "output_type": "stream",
     "text": [
      "Epoch 0, Loss 0.2561\n",
      "Training Accuracy: 0.6560, Testing Accuracy: 0.6804\n",
      "\n"
     ]
    },
    {
     "name": "stdout",
     "output_type": "stream",
     "text": [
      "Epoch 10, Loss 0.1009\n",
      "Training Accuracy: 0.9160, Testing Accuracy: 0.9309\n",
      "\n"
     ]
    },
    {
     "name": "stdout",
     "output_type": "stream",
     "text": [
      "Epoch 20, Loss 0.0775\n",
      "Training Accuracy: 0.9306, Testing Accuracy: 0.9441\n",
      "\n"
     ]
    },
    {
     "name": "stdout",
     "output_type": "stream",
     "text": [
      "Epoch 30, Loss 0.0668\n",
      "Training Accuracy: 0.9379, Testing Accuracy: 0.9526\n",
      "\n"
     ]
    },
    {
     "name": "stdout",
     "output_type": "stream",
     "text": [
      "Epoch 40, Loss 0.0605\n",
      "Training Accuracy: 0.9436, Testing Accuracy: 0.9572\n",
      "\n"
     ]
    },
    {
     "name": "stdout",
     "output_type": "stream",
     "text": [
      "Epoch 50, Loss 0.0562\n",
      "Training Accuracy: 0.9476, Testing Accuracy: 0.9597\n",
      "\n"
     ]
    },
    {
     "name": "stdout",
     "output_type": "stream",
     "text": [
      "Epoch 60, Loss 0.053\n",
      "Training Accuracy: 0.9498, Testing Accuracy: 0.9602\n",
      "\n"
     ]
    },
    {
     "name": "stdout",
     "output_type": "stream",
     "text": [
      "Epoch 70, Loss 0.0505\n",
      "Training Accuracy: 0.9513, Testing Accuracy: 0.9612\n",
      "\n"
     ]
    },
    {
     "name": "stdout",
     "output_type": "stream",
     "text": [
      "Epoch 80, Loss 0.0486\n",
      "Training Accuracy: 0.9526, Testing Accuracy: 0.9617\n",
      "\n"
     ]
    },
    {
     "name": "stdout",
     "output_type": "stream",
     "text": [
      "Epoch 90, Loss 0.0469\n",
      "Training Accuracy: 0.9536, Testing Accuracy: 0.9627\n",
      "\n"
     ]
    },
    {
     "name": "stdout",
     "output_type": "stream",
     "text": [
      "Epoch 100, Loss 0.0456\n",
      "Training Accuracy: 0.9543, Testing Accuracy: 0.9632\n",
      "\n"
     ]
    },
    {
     "name": "stdout",
     "output_type": "stream",
     "text": [
      "Epoch 110, Loss 0.0444\n",
      "Training Accuracy: 0.9552, Testing Accuracy: 0.9642\n",
      "\n"
     ]
    },
    {
     "name": "stdout",
     "output_type": "stream",
     "text": [
      "Epoch 120, Loss 0.0434\n",
      "Training Accuracy: 0.9558, Testing Accuracy: 0.9647\n",
      "\n"
     ]
    },
    {
     "name": "stdout",
     "output_type": "stream",
     "text": [
      "Epoch 130, Loss 0.0425\n",
      "Training Accuracy: 0.9564, Testing Accuracy: 0.9657\n",
      "\n"
     ]
    },
    {
     "name": "stdout",
     "output_type": "stream",
     "text": [
      "Epoch 140, Loss 0.0417\n",
      "Training Accuracy: 0.9569, Testing Accuracy: 0.9672\n",
      "\n"
     ]
    },
    {
     "name": "stdout",
     "output_type": "stream",
     "text": [
      "Epoch 150, Loss 0.041\n",
      "Training Accuracy: 0.9573, Testing Accuracy: 0.9672\n",
      "\n"
     ]
    },
    {
     "name": "stdout",
     "output_type": "stream",
     "text": [
      "Epoch 160, Loss 0.0403\n",
      "Training Accuracy: 0.9576, Testing Accuracy: 0.9672\n",
      "\n"
     ]
    },
    {
     "name": "stdout",
     "output_type": "stream",
     "text": [
      "Epoch 170, Loss 0.0397\n",
      "Training Accuracy: 0.9584, Testing Accuracy: 0.9677\n",
      "\n"
     ]
    },
    {
     "name": "stdout",
     "output_type": "stream",
     "text": [
      "Epoch 180, Loss 0.0392\n",
      "Training Accuracy: 0.9591, Testing Accuracy: 0.9677\n",
      "\n"
     ]
    },
    {
     "name": "stdout",
     "output_type": "stream",
     "text": [
      "Epoch 190, Loss 0.0387\n",
      "Training Accuracy: 0.9596, Testing Accuracy: 0.9677\n",
      "\n"
     ]
    },
    {
     "name": "stdout",
     "output_type": "stream",
     "text": [
      "Epoch 200, Loss 0.0382\n",
      "Training Accuracy: 0.9601, Testing Accuracy: 0.9677\n",
      "\n"
     ]
    },
    {
     "name": "stdout",
     "output_type": "stream",
     "text": [
      "Epoch 210, Loss 0.0378\n",
      "Training Accuracy: 0.9603, Testing Accuracy: 0.9677\n",
      "\n"
     ]
    },
    {
     "name": "stdout",
     "output_type": "stream",
     "text": [
      "Epoch 220, Loss 0.0374\n",
      "Training Accuracy: 0.9604, Testing Accuracy: 0.9677\n",
      "\n"
     ]
    },
    {
     "name": "stdout",
     "output_type": "stream",
     "text": [
      "Epoch 230, Loss 0.037\n",
      "Training Accuracy: 0.9607, Testing Accuracy: 0.9682\n",
      "\n"
     ]
    },
    {
     "name": "stdout",
     "output_type": "stream",
     "text": [
      "Epoch 240, Loss 0.0367\n",
      "Training Accuracy: 0.9608, Testing Accuracy: 0.9682\n",
      "\n"
     ]
    },
    {
     "data": {
      "text/plain": [
       "0.02665361337362882"
      ]
     },
     "execution_count": 23,
     "metadata": {},
     "output_type": "execute_result"
    }
   ],
   "source": [
    "lr_learner.train_loop(dl)"
   ]
  },
  {
   "cell_type": "code",
   "execution_count": 24,
   "id": "ca410940",
   "metadata": {
    "execution": {
     "iopub.execute_input": "2022-02-03T00:25:45.485463Z",
     "iopub.status.busy": "2022-02-03T00:25:45.484832Z",
     "iopub.status.idle": "2022-02-03T00:25:45.743820Z",
     "shell.execute_reply": "2022-02-03T00:25:45.744311Z"
    },
    "papermill": {
     "duration": 0.314517,
     "end_time": "2022-02-03T00:25:45.744470",
     "exception": false,
     "start_time": "2022-02-03T00:25:45.429953",
     "status": "completed"
    },
    "tags": []
   },
   "outputs": [
    {
     "data": {
      "text/plain": [
       "<matplotlib.legend.Legend at 0x7f9ec468a438>"
      ]
     },
     "execution_count": 24,
     "metadata": {},
     "output_type": "execute_result"
    },
    {
     "data": {
      "image/png": "[encoded data removed]",
      "text/plain": [
       "<Figure size 1080x720 with 1 Axes>"
      ]
     },
     "metadata": {
      "needs_background": "light"
     },
     "output_type": "display_data"
    }
   ],
   "source": [
    "#comparing the results of NN and LR\n",
    "plt.figure(figsize=(15,10))\n",
    "\n",
    "# Neural Network plots\n",
    "plt.plot(acc_nn.accuracies, 'r-', label = \"Training Accuracies - NN\")\n",
    "plt.plot(acc_nn.test_accuracies, 'g-', label = \"Testing Accuracies - NN\")\n",
    "\n",
    "# Logistic Regression plots\n",
    "plt.plot(acc_lr.accuracies, 'k-', label = \"Training Accuracies - LR\")\n",
    "plt.plot(acc_lr.test_accuracies, 'b-', label = \"Testing Accuracies - LR\")\n",
    "plt.legend()"
   ]
  },
  {
   "cell_type": "markdown",
   "id": "80dfb35c",
   "metadata": {
    "papermill": {
     "duration": 0.047254,
     "end_time": "2022-02-03T00:25:45.839425",
     "exception": false,
     "start_time": "2022-02-03T00:25:45.792171",
     "status": "completed"
    },
    "tags": []
   },
   "source": [
    "#### Plotting the outputs of this layer of the NN.\n"
   ]
  },
  {
   "cell_type": "code",
   "execution_count": 25,
   "id": "45eb2ff5",
   "metadata": {
    "execution": {
     "iopub.execute_input": "2022-02-03T00:25:45.941897Z",
     "iopub.status.busy": "2022-02-03T00:25:45.941272Z",
     "iopub.status.idle": "2022-02-03T00:25:45.964084Z",
     "shell.execute_reply": "2022-02-03T00:25:45.964602Z"
    },
    "papermill": {
     "duration": 0.077795,
     "end_time": "2022-02-03T00:25:45.964760",
     "exception": false,
     "start_time": "2022-02-03T00:25:45.886965",
     "status": "completed"
    },
    "tags": []
   },
   "outputs": [],
   "source": [
    "new_model = Model(layers[:-2])\n",
    "testing_plot = new_model(testing_data_x)"
   ]
  },
  {
   "cell_type": "code",
   "execution_count": 26,
   "id": "4c0a5485",
   "metadata": {
    "execution": {
     "iopub.execute_input": "2022-02-03T00:25:46.070082Z",
     "iopub.status.busy": "2022-02-03T00:25:46.066727Z",
     "iopub.status.idle": "2022-02-03T00:25:46.298936Z",
     "shell.execute_reply": "2022-02-03T00:25:46.298404Z"
    },
    "papermill": {
     "duration": 0.285927,
     "end_time": "2022-02-03T00:25:46.299071",
     "exception": false,
     "start_time": "2022-02-03T00:25:46.013144",
     "status": "completed"
    },
    "tags": []
   },
   "outputs": [
    {
     "data": {
      "text/plain": [
       "Text(0.5, 1.0, 'Outputs')"
      ]
     },
     "execution_count": 26,
     "metadata": {},
     "output_type": "execute_result"
    },
    {
     "data": {
      "image/png": "[encoded data removed]",
      "text/plain": [
       "<Figure size 576x504 with 1 Axes>"
      ]
     },
     "metadata": {
      "needs_background": "light"
     },
     "output_type": "display_data"
    }
   ],
   "source": [
    "# Plotting the scatter plot of points and color coding by class\n",
    "plt.figure(figsize=(8,7))\n",
    "plt.scatter(testing_plot[:,0], testing_plot[:,1], alpha = 0.1, c = y_test.ravel());\n",
    "plt.title('Outputs')"
   ]
  },
  {
   "cell_type": "markdown",
   "id": "a74fcf8f",
   "metadata": {
    "papermill": {
     "duration": 0.049243,
     "end_time": "2022-02-03T00:25:46.397358",
     "exception": false,
     "start_time": "2022-02-03T00:25:46.348115",
     "status": "completed"
    },
    "tags": []
   },
   "source": [
    "Probability contours"
   ]
  },
  {
   "cell_type": "code",
   "execution_count": 27,
   "id": "d0afc8e3",
   "metadata": {
    "execution": {
     "iopub.execute_input": "2022-02-03T00:25:46.504052Z",
     "iopub.status.busy": "2022-02-03T00:25:46.503406Z",
     "iopub.status.idle": "2022-02-03T00:25:46.515504Z",
     "shell.execute_reply": "2022-02-03T00:25:46.514905Z"
    },
    "papermill": {
     "duration": 0.069061,
     "end_time": "2022-02-03T00:25:46.515654",
     "exception": false,
     "start_time": "2022-02-03T00:25:46.446593",
     "status": "completed"
    },
    "tags": []
   },
   "outputs": [],
   "source": [
    "model_prob = Model(layers[-2:]) "
   ]
  },
  {
   "cell_type": "code",
   "execution_count": 28,
   "id": "9b96e238",
   "metadata": {
    "execution": {
     "iopub.execute_input": "2022-02-03T00:25:46.620221Z",
     "iopub.status.busy": "2022-02-03T00:25:46.619588Z",
     "iopub.status.idle": "2022-02-03T00:25:46.636241Z",
     "shell.execute_reply": "2022-02-03T00:25:46.636706Z"
    },
    "papermill": {
     "duration": 0.072313,
     "end_time": "2022-02-03T00:25:46.636865",
     "exception": false,
     "start_time": "2022-02-03T00:25:46.564552",
     "status": "completed"
    },
    "tags": []
   },
   "outputs": [],
   "source": [
    "#creating the x and y ranges according to the above generated plot.\n",
    "x_range = np.linspace(-4, 1, 100) \n",
    "y_range = np.linspace(-6, 6, 100) \n",
    "x_grid, y_grid = np.meshgrid(x_range, y_range) # x_grid and y_grig are of size 100 X 100\n",
    "\n",
    "# converting x_grid and y_grid to continuous arrays\n",
    "x_gridflat = np.ravel(x_grid)\n",
    "y_gridflat = np.ravel(y_grid)\n",
    "\n",
    "# The last layer of the current model takes two columns as input. Hence transpose of np.vstack() is required.\n",
    "X = np.vstack((x_gridflat, y_gridflat)).T\n",
    "\n",
    "prob_contour = model_prob(X).reshape(100,100) "
   ]
  },
  {
   "cell_type": "code",
   "execution_count": 29,
   "id": "da72499a",
   "metadata": {
    "execution": {
     "iopub.execute_input": "2022-02-03T00:25:46.773587Z",
     "iopub.status.busy": "2022-02-03T00:25:46.772968Z",
     "iopub.status.idle": "2022-02-03T00:25:47.067820Z",
     "shell.execute_reply": "2022-02-03T00:25:47.068302Z"
    },
    "papermill": {
     "duration": 0.380983,
     "end_time": "2022-02-03T00:25:47.068456",
     "exception": false,
     "start_time": "2022-02-03T00:25:46.687473",
     "status": "completed"
    },
    "tags": []
   },
   "outputs": [
    {
     "data": {
      "image/png": "[encoded data removed]",
      "text/plain": [
       "<Figure size 720x648 with 1 Axes>"
      ]
     },
     "metadata": {
      "needs_background": "light"
     },
     "output_type": "display_data"
    }
   ],
   "source": [
    "plt.figure(figsize=(10,9))\n",
    "plt.scatter(testing_plot[:,0], testing_plot[:,1], alpha = 0.1, c = y_test.ravel())\n",
    "contours = plt.contour(x_grid,y_grid,prob_contour)\n",
    "plt.title('Probability Contours')\n",
    "plt.clabel(contours, inline = True );"
   ]
  },
  {
   "cell_type": "code",
   "execution_count": null,
   "id": "e81b4ac7",
   "metadata": {
    "papermill": {
     "duration": 0.063307,
     "end_time": "2022-02-03T00:25:47.196272",
     "exception": false,
     "start_time": "2022-02-03T00:25:47.132965",
     "status": "completed"
    },
    "tags": []
   },
   "outputs": [],
   "source": []
  }
 ],
 "metadata": {
  "kernelspec": {
   "display_name": "Python 3",
   "language": "python",
   "name": "python3"
  },
  "language_info": {
   "codemirror_mode": {
    "name": "ipython",
    "version": 3
   },
   "file_extension": ".py",
   "mimetype": "text/x-python",
   "name": "python",
   "nbconvert_exporter": "python",
   "pygments_lexer": "ipython3",
   "version": "3.6.15"
  },
  "papermill": {
   "default_parameters": {},
   "duration": 112.968145,
   "end_time": "2022-02-03T00:25:47.675580",
   "environment_variables": {},
   "exception": null,
   "input_path": "2020-08-11-part2.ipynb",
   "output_path": "2020-08-11-part2.ipynb",
   "parameters": {},
   "start_time": "2022-02-03T00:23:54.707435",
   "version": "2.3.3"
  }
 },
 "nbformat": 4,
 "nbformat_minor": 5
}