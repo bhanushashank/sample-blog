{
 "cells": [
  {
   "cell_type": "markdown",
   "id": "98380cd3",
   "metadata": {
    "papermill": {
     "duration": 0.030436,
     "end_time": "2022-05-28T10:09:37.296359",
     "exception": false,
     "start_time": "2022-05-28T10:09:37.265923",
     "status": "completed"
    },
    "tags": []
   },
   "source": [
    "# Distinguish Your Own Digits (DYOD)"
   ]
  },
  {
   "cell_type": "markdown",
   "id": "ef31240d",
   "metadata": {
    "papermill": {
     "duration": 0.024316,
     "end_time": "2022-05-28T10:09:37.345736",
     "exception": false,
     "start_time": "2022-05-28T10:09:37.321420",
     "status": "completed"
    },
    "tags": []
   },
   "source": [
    "You are going to write a classifier that distinguishes between the number 3 and number 8."
   ]
  },
  {
   "cell_type": "code",
   "execution_count": 1,
   "id": "b15c8646",
   "metadata": {
    "execution": {
     "iopub.execute_input": "2022-05-28T10:09:37.404254Z",
     "iopub.status.busy": "2022-05-28T10:09:37.401995Z",
     "iopub.status.idle": "2022-05-28T10:09:37.414691Z",
     "shell.execute_reply": "2022-05-28T10:09:37.415155Z"
    },
    "papermill": {
     "duration": 0.045061,
     "end_time": "2022-05-28T10:09:37.415287",
     "exception": false,
     "start_time": "2022-05-28T10:09:37.370226",
     "status": "completed"
    },
    "tags": []
   },
   "outputs": [],
   "source": [
    "%load_ext autoreload\n",
    "%autoreload 2"
   ]
  },
  {
   "cell_type": "code",
   "execution_count": 2,
   "id": "22ef38dc",
   "metadata": {
    "execution": {
     "iopub.execute_input": "2022-05-28T10:09:37.467756Z",
     "iopub.status.busy": "2022-05-28T10:09:37.467183Z",
     "iopub.status.idle": "2022-05-28T10:09:37.971758Z",
     "shell.execute_reply": "2022-05-28T10:09:37.971249Z"
    },
    "papermill": {
     "duration": 0.532024,
     "end_time": "2022-05-28T10:09:37.971878",
     "exception": false,
     "start_time": "2022-05-28T10:09:37.439854",
     "status": "completed"
    },
    "tags": []
   },
   "outputs": [],
   "source": [
    "%matplotlib inline\n",
    "import numpy as np\n",
    "import matplotlib.pyplot as plt\n",
    "import pandas as pd"
   ]
  },
  {
   "cell_type": "markdown",
   "id": "ba036198",
   "metadata": {
    "papermill": {
     "duration": 0.02446,
     "end_time": "2022-05-28T10:09:38.021411",
     "exception": false,
     "start_time": "2022-05-28T10:09:37.996951",
     "status": "completed"
    },
    "tags": []
   },
   "source": [
    "From the command line run `pip install mnist`. This is a library that will help you bring down the mnist dataset. If you run this from a notebook, you need to put  `!pip install mnist` in a cell by itself."
   ]
  },
  {
   "cell_type": "code",
   "execution_count": 3,
   "id": "bb6ad8a1",
   "metadata": {
    "execution": {
     "iopub.execute_input": "2022-05-28T10:09:38.074971Z",
     "iopub.status.busy": "2022-05-28T10:09:38.074411Z",
     "iopub.status.idle": "2022-05-28T10:09:39.790032Z",
     "shell.execute_reply": "2022-05-28T10:09:39.788866Z"
    },
    "papermill": {
     "duration": 1.744208,
     "end_time": "2022-05-28T10:09:39.790153",
     "exception": false,
     "start_time": "2022-05-28T10:09:38.045945",
     "status": "completed"
    },
    "tags": []
   },
   "outputs": [
    {
     "name": "stdout",
     "output_type": "stream",
     "text": [
      "Collecting mnist\r\n"
     ]
    },
    {
     "name": "stdout",
     "output_type": "stream",
     "text": [
      "  Downloading mnist-0.2.2-py2.py3-none-any.whl (3.5 kB)\r\n",
      "Requirement already satisfied: numpy in /opt/hostedtoolcache/Python/3.6.15/x64/lib/python3.6/site-packages (from mnist) (1.19.5)\r\n"
     ]
    },
    {
     "name": "stdout",
     "output_type": "stream",
     "text": [
      "Installing collected packages: mnist\r\n"
     ]
    },
    {
     "name": "stdout",
     "output_type": "stream",
     "text": [
      "Successfully installed mnist-0.2.2\r\n"
     ]
    }
   ],
   "source": [
    "!pip install mnist"
   ]
  },
  {
   "cell_type": "markdown",
   "id": "69df9c9a",
   "metadata": {
    "papermill": {
     "duration": 0.025596,
     "end_time": "2022-05-28T10:09:39.841615",
     "exception": false,
     "start_time": "2022-05-28T10:09:39.816019",
     "status": "completed"
    },
    "tags": []
   },
   "source": [
    "## Preparing the Data"
   ]
  },
  {
   "cell_type": "code",
   "execution_count": 4,
   "id": "7f69d806",
   "metadata": {
    "execution": {
     "iopub.execute_input": "2022-05-28T10:09:39.896003Z",
     "iopub.status.busy": "2022-05-28T10:09:39.895424Z",
     "iopub.status.idle": "2022-05-28T10:09:39.909386Z",
     "shell.execute_reply": "2022-05-28T10:09:39.908923Z"
    },
    "papermill": {
     "duration": 0.042468,
     "end_time": "2022-05-28T10:09:39.909487",
     "exception": false,
     "start_time": "2022-05-28T10:09:39.867019",
     "status": "completed"
    },
    "tags": []
   },
   "outputs": [],
   "source": [
    "import mnist"
   ]
  },
  {
   "cell_type": "code",
   "execution_count": 5,
   "id": "a411e44f",
   "metadata": {
    "execution": {
     "iopub.execute_input": "2022-05-28T10:09:39.963882Z",
     "iopub.status.busy": "2022-05-28T10:09:39.963310Z",
     "iopub.status.idle": "2022-05-28T10:09:40.596107Z",
     "shell.execute_reply": "2022-05-28T10:09:40.594937Z"
    },
    "papermill": {
     "duration": 0.661094,
     "end_time": "2022-05-28T10:09:40.596229",
     "exception": false,
     "start_time": "2022-05-28T10:09:39.935135",
     "status": "completed"
    },
    "tags": []
   },
   "outputs": [],
   "source": [
    "train_images = mnist.train_images()\n",
    "train_labels = mnist.train_labels()"
   ]
  },
  {
   "cell_type": "code",
   "execution_count": 6,
   "id": "dceab3a5",
   "metadata": {
    "execution": {
     "iopub.execute_input": "2022-05-28T10:09:40.652737Z",
     "iopub.status.busy": "2022-05-28T10:09:40.650951Z",
     "iopub.status.idle": "2022-05-28T10:09:40.665066Z",
     "shell.execute_reply": "2022-05-28T10:09:40.664553Z"
    },
    "papermill": {
     "duration": 0.042875,
     "end_time": "2022-05-28T10:09:40.665166",
     "exception": false,
     "start_time": "2022-05-28T10:09:40.622291",
     "status": "completed"
    },
    "tags": []
   },
   "outputs": [
    {
     "data": {
      "text/plain": [
       "((60000, 28, 28), (60000,))"
      ]
     },
     "execution_count": 6,
     "metadata": {},
     "output_type": "execute_result"
    }
   ],
   "source": [
    "train_images.shape, train_labels.shape"
   ]
  },
  {
   "cell_type": "code",
   "execution_count": 7,
   "id": "f50dc2bb",
   "metadata": {
    "execution": {
     "iopub.execute_input": "2022-05-28T10:09:40.719769Z",
     "iopub.status.busy": "2022-05-28T10:09:40.719201Z",
     "iopub.status.idle": "2022-05-28T10:09:40.993912Z",
     "shell.execute_reply": "2022-05-28T10:09:40.993399Z"
    },
    "papermill": {
     "duration": 0.303015,
     "end_time": "2022-05-28T10:09:40.994024",
     "exception": false,
     "start_time": "2022-05-28T10:09:40.691009",
     "status": "completed"
    },
    "tags": []
   },
   "outputs": [],
   "source": [
    "test_images = mnist.test_images()\n",
    "test_labels = mnist.test_labels()"
   ]
  },
  {
   "cell_type": "code",
   "execution_count": 8,
   "id": "fc38cf1b",
   "metadata": {
    "execution": {
     "iopub.execute_input": "2022-05-28T10:09:41.049912Z",
     "iopub.status.busy": "2022-05-28T10:09:41.049352Z",
     "iopub.status.idle": "2022-05-28T10:09:41.062894Z",
     "shell.execute_reply": "2022-05-28T10:09:41.063554Z"
    },
    "papermill": {
     "duration": 0.043328,
     "end_time": "2022-05-28T10:09:41.063672",
     "exception": false,
     "start_time": "2022-05-28T10:09:41.020344",
     "status": "completed"
    },
    "tags": []
   },
   "outputs": [
    {
     "data": {
      "text/plain": [
       "((10000, 28, 28), (10000,))"
      ]
     },
     "execution_count": 8,
     "metadata": {},
     "output_type": "execute_result"
    }
   ],
   "source": [
    "test_images.shape, test_labels.shape"
   ]
  },
  {
   "cell_type": "code",
   "execution_count": 9,
   "id": "f9ed8fe0",
   "metadata": {
    "execution": {
     "iopub.execute_input": "2022-05-28T10:09:41.119131Z",
     "iopub.status.busy": "2022-05-28T10:09:41.118581Z",
     "iopub.status.idle": "2022-05-28T10:09:41.250605Z",
     "shell.execute_reply": "2022-05-28T10:09:41.251042Z"
    },
    "papermill": {
     "duration": 0.16127,
     "end_time": "2022-05-28T10:09:41.251165",
     "exception": false,
     "start_time": "2022-05-28T10:09:41.089895",
     "status": "completed"
    },
    "tags": []
   },
   "outputs": [
    {
     "name": "stdout",
     "output_type": "stream",
     "text": [
      "2\n"
     ]
    },
    {
     "data": {
      "text/plain": [
       "<matplotlib.image.AxesImage at 0x7f13bdc6ae80>"
      ]
     },
     "execution_count": 9,
     "metadata": {},
     "output_type": "execute_result"
    },
    {
     "data": {
      "image/png": "[encoded data removed]",
      "text/plain": [
       "<Figure size 432x288 with 1 Axes>"
      ]
     },
     "metadata": {
      "needs_background": "light"
     },
     "output_type": "display_data"
    }
   ],
   "source": [
    "image_index = 7776 # You may select anything up to 60,000\n",
    "print(train_labels[image_index]) \n",
    "plt.imshow(train_images[image_index], cmap='Greys')"
   ]
  },
  {
   "cell_type": "markdown",
   "id": "a8d2388d",
   "metadata": {
    "papermill": {
     "duration": 0.026958,
     "end_time": "2022-05-28T10:09:41.305359",
     "exception": false,
     "start_time": "2022-05-28T10:09:41.278401",
     "status": "completed"
    },
    "tags": []
   },
   "source": [
    "## Filter data to get 3 and 8 out"
   ]
  },
  {
   "cell_type": "code",
   "execution_count": 10,
   "id": "776f7fc7",
   "metadata": {
    "execution": {
     "iopub.execute_input": "2022-05-28T10:09:41.363272Z",
     "iopub.status.busy": "2022-05-28T10:09:41.362707Z",
     "iopub.status.idle": "2022-05-28T10:09:41.379486Z",
     "shell.execute_reply": "2022-05-28T10:09:41.379039Z"
    },
    "papermill": {
     "duration": 0.047199,
     "end_time": "2022-05-28T10:09:41.379587",
     "exception": false,
     "start_time": "2022-05-28T10:09:41.332388",
     "status": "completed"
    },
    "tags": []
   },
   "outputs": [],
   "source": [
    "train_filter = np.where((train_labels == 3 ) | (train_labels == 8))\n",
    "test_filter = np.where((test_labels == 3) | (test_labels == 8))\n",
    "X_train, y_train = train_images[train_filter], train_labels[train_filter]\n",
    "X_test, y_test = test_images[test_filter], test_labels[test_filter]"
   ]
  },
  {
   "cell_type": "markdown",
   "id": "948f0b7e",
   "metadata": {
    "papermill": {
     "duration": 0.027008,
     "end_time": "2022-05-28T10:09:41.433706",
     "exception": false,
     "start_time": "2022-05-28T10:09:41.406698",
     "status": "completed"
    },
    "tags": []
   },
   "source": [
    "We normalize the pizel values in the 0 to 1 range"
   ]
  },
  {
   "cell_type": "code",
   "execution_count": 11,
   "id": "ee4c2166",
   "metadata": {
    "execution": {
     "iopub.execute_input": "2022-05-28T10:09:41.491126Z",
     "iopub.status.busy": "2022-05-28T10:09:41.490563Z",
     "iopub.status.idle": "2022-05-28T10:09:41.530313Z",
     "shell.execute_reply": "2022-05-28T10:09:41.529856Z"
    },
    "papermill": {
     "duration": 0.06967,
     "end_time": "2022-05-28T10:09:41.530424",
     "exception": false,
     "start_time": "2022-05-28T10:09:41.460754",
     "status": "completed"
    },
    "tags": []
   },
   "outputs": [],
   "source": [
    "X_train = X_train/255.\n",
    "X_test = X_test/255."
   ]
  },
  {
   "cell_type": "markdown",
   "id": "ddcf4fab",
   "metadata": {
    "papermill": {
     "duration": 0.026976,
     "end_time": "2022-05-28T10:09:41.584775",
     "exception": false,
     "start_time": "2022-05-28T10:09:41.557799",
     "status": "completed"
    },
    "tags": []
   },
   "source": [
    "And setup the labels as 1 (when the digit is 3) and 0 (when the digit is 8)"
   ]
  },
  {
   "cell_type": "code",
   "execution_count": 12,
   "id": "7dc908f2",
   "metadata": {
    "execution": {
     "iopub.execute_input": "2022-05-28T10:09:41.642732Z",
     "iopub.status.busy": "2022-05-28T10:09:41.642183Z",
     "iopub.status.idle": "2022-05-28T10:09:41.653437Z",
     "shell.execute_reply": "2022-05-28T10:09:41.653964Z"
    },
    "papermill": {
     "duration": 0.042215,
     "end_time": "2022-05-28T10:09:41.654075",
     "exception": false,
     "start_time": "2022-05-28T10:09:41.611860",
     "status": "completed"
    },
    "tags": []
   },
   "outputs": [],
   "source": [
    "y_train = 1*(y_train==3)\n",
    "y_test = 1*(y_test==3)"
   ]
  },
  {
   "cell_type": "code",
   "execution_count": 13,
   "id": "01e4e969",
   "metadata": {
    "execution": {
     "iopub.execute_input": "2022-05-28T10:09:41.711326Z",
     "iopub.status.busy": "2022-05-28T10:09:41.710769Z",
     "iopub.status.idle": "2022-05-28T10:09:41.723324Z",
     "shell.execute_reply": "2022-05-28T10:09:41.723801Z"
    },
    "papermill": {
     "duration": 0.042706,
     "end_time": "2022-05-28T10:09:41.723916",
     "exception": false,
     "start_time": "2022-05-28T10:09:41.681210",
     "status": "completed"
    },
    "tags": []
   },
   "outputs": [
    {
     "data": {
      "text/plain": [
       "((11982, 28, 28), (1984, 28, 28))"
      ]
     },
     "execution_count": 13,
     "metadata": {},
     "output_type": "execute_result"
    }
   ],
   "source": [
    "X_train.shape, X_test.shape"
   ]
  },
  {
   "cell_type": "markdown",
   "id": "5ccf3f85",
   "metadata": {
    "papermill": {
     "duration": 0.027107,
     "end_time": "2022-05-28T10:09:41.778193",
     "exception": false,
     "start_time": "2022-05-28T10:09:41.751086",
     "status": "completed"
    },
    "tags": []
   },
   "source": [
    "We reshape the data to flatten the image pixels into a set of features or co-variates:"
   ]
  },
  {
   "cell_type": "code",
   "execution_count": 14,
   "id": "5286a4a3",
   "metadata": {
    "execution": {
     "iopub.execute_input": "2022-05-28T10:09:41.836334Z",
     "iopub.status.busy": "2022-05-28T10:09:41.835778Z",
     "iopub.status.idle": "2022-05-28T10:09:41.849102Z",
     "shell.execute_reply": "2022-05-28T10:09:41.848654Z"
    },
    "papermill": {
     "duration": 0.043714,
     "end_time": "2022-05-28T10:09:41.849199",
     "exception": false,
     "start_time": "2022-05-28T10:09:41.805485",
     "status": "completed"
    },
    "tags": []
   },
   "outputs": [
    {
     "data": {
      "text/plain": [
       "((11982, 784), (1984, 784))"
      ]
     },
     "execution_count": 14,
     "metadata": {},
     "output_type": "execute_result"
    }
   ],
   "source": [
    "X_train = X_train.reshape(X_train.shape[0], -1)\n",
    "X_test = X_test.reshape(X_test.shape[0], -1)\n",
    "X_train.shape, X_test.shape"
   ]
  },
  {
   "cell_type": "code",
   "execution_count": 15,
   "id": "73c5f88a",
   "metadata": {
    "execution": {
     "iopub.execute_input": "2022-05-28T10:09:41.908556Z",
     "iopub.status.busy": "2022-05-28T10:09:41.908000Z",
     "iopub.status.idle": "2022-05-28T10:09:41.925945Z",
     "shell.execute_reply": "2022-05-28T10:09:41.926363Z"
    },
    "papermill": {
     "duration": 0.049861,
     "end_time": "2022-05-28T10:09:41.926482",
     "exception": false,
     "start_time": "2022-05-28T10:09:41.876621",
     "status": "completed"
    },
    "tags": []
   },
   "outputs": [],
   "source": [
    "#Impoting functions from 'Kudzu'\n",
    "from kudzu.model import Model\n",
    "from kudzu.train import Learner\n",
    "from kudzu.optim import GD\n",
    "from kudzu.data import Data, Sampler,Dataloader\n",
    "\n",
    "from kudzu.callbacks import AccCallback\n",
    "from kudzu.callbacks import ClfCallback\n",
    "\n",
    "from kudzu.loss import MSE\n",
    "\n",
    "from kudzu.layer import Sigmoid,Relu\n",
    "from kudzu.layer import Affine"
   ]
  },
  {
   "cell_type": "markdown",
   "id": "bc01172a",
   "metadata": {
    "papermill": {
     "duration": 0.027523,
     "end_time": "2022-05-28T10:09:41.981661",
     "exception": false,
     "start_time": "2022-05-28T10:09:41.954138",
     "status": "completed"
    },
    "tags": []
   },
   "source": [
    "### Let us create a `Config` class, to store important parameters. \n",
    "This class essentially plays the role of a dictionary."
   ]
  },
  {
   "cell_type": "code",
   "execution_count": 16,
   "id": "978281aa",
   "metadata": {
    "execution": {
     "iopub.execute_input": "2022-05-28T10:09:42.040203Z",
     "iopub.status.busy": "2022-05-28T10:09:42.039597Z",
     "iopub.status.idle": "2022-05-28T10:09:42.051994Z",
     "shell.execute_reply": "2022-05-28T10:09:42.051516Z"
    },
    "papermill": {
     "duration": 0.042985,
     "end_time": "2022-05-28T10:09:42.052094",
     "exception": false,
     "start_time": "2022-05-28T10:09:42.009109",
     "status": "completed"
    },
    "tags": []
   },
   "outputs": [],
   "source": [
    "class Config:\n",
    "    pass\n",
    "config = Config()\n",
    "config.lr = 0.001\n",
    "config.num_epochs = 250\n",
    "config.bs = 50"
   ]
  },
  {
   "cell_type": "markdown",
   "id": "1385fa59",
   "metadata": {
    "papermill": {
     "duration": 0.027485,
     "end_time": "2022-05-28T10:09:42.107325",
     "exception": false,
     "start_time": "2022-05-28T10:09:42.079840",
     "status": "completed"
    },
    "tags": []
   },
   "source": [
    "### Running Models with the Training data\n",
    "Details about the network layers:\n",
    "- A first affine layer has 784 inputs and does 100 affine transforms. These are followed by a Relu\n",
    "- A second affine layer has 100 inputs from the 100 activations of the past layer, and does 100 affine transforms. These are followed by a Relu\n",
    "- A third affine layer has 100 activations and does 2 affine transformations to create an embedding for visualization. There is no non-linearity here.\n",
    "- A final \"logistic regression\" which has an affine transform from 2 inputs to 1 output, which is squeezed through a sigmoid.\n"
   ]
  },
  {
   "cell_type": "code",
   "execution_count": 17,
   "id": "2b9c66db",
   "metadata": {
    "execution": {
     "iopub.execute_input": "2022-05-28T10:09:42.166723Z",
     "iopub.status.busy": "2022-05-28T10:09:42.166158Z",
     "iopub.status.idle": "2022-05-28T10:09:42.178519Z",
     "shell.execute_reply": "2022-05-28T10:09:42.178067Z"
    },
    "papermill": {
     "duration": 0.043694,
     "end_time": "2022-05-28T10:09:42.178617",
     "exception": false,
     "start_time": "2022-05-28T10:09:42.134923",
     "status": "completed"
    },
    "tags": []
   },
   "outputs": [],
   "source": [
    "data = Data(X_train, y_train.reshape(-1,1))\n",
    "sampler = Sampler(data, config.bs, shuffle=True)\n",
    "\n",
    "dl = Dataloader(data, sampler)\n",
    "\n",
    "opt = GD(config.lr)\n",
    "loss = MSE()"
   ]
  },
  {
   "cell_type": "code",
   "execution_count": 18,
   "id": "b275e4c2",
   "metadata": {
    "execution": {
     "iopub.execute_input": "2022-05-28T10:09:42.237142Z",
     "iopub.status.busy": "2022-05-28T10:09:42.236594Z",
     "iopub.status.idle": "2022-05-28T10:09:42.248002Z",
     "shell.execute_reply": "2022-05-28T10:09:42.248421Z"
    },
    "papermill": {
     "duration": 0.042261,
     "end_time": "2022-05-28T10:09:42.248538",
     "exception": false,
     "start_time": "2022-05-28T10:09:42.206277",
     "status": "completed"
    },
    "tags": []
   },
   "outputs": [],
   "source": [
    "training_data_x = X_train\n",
    "testing_data_x = X_test\n",
    "training_data_y = y_train.reshape(-1,1)\n",
    "testing_data_y = y_test.reshape(-1,1)"
   ]
  },
  {
   "cell_type": "code",
   "execution_count": 19,
   "id": "76951160",
   "metadata": {
    "execution": {
     "iopub.execute_input": "2022-05-28T10:09:42.307963Z",
     "iopub.status.busy": "2022-05-28T10:09:42.307382Z",
     "iopub.status.idle": "2022-05-28T10:09:42.323342Z",
     "shell.execute_reply": "2022-05-28T10:09:42.322897Z"
    },
    "papermill": {
     "duration": 0.047199,
     "end_time": "2022-05-28T10:09:42.323439",
     "exception": false,
     "start_time": "2022-05-28T10:09:42.276240",
     "status": "completed"
    },
    "tags": []
   },
   "outputs": [
    {
     "name": "stdout",
     "output_type": "stream",
     "text": [
      "xavier\n",
      "xavier\n",
      "xavier\n",
      "xavier\n",
      "xavier\n"
     ]
    }
   ],
   "source": [
    "layers = [Affine(\"first\", 784, 100), Relu(\"first\"), Affine(\"second\", 100, 100), Relu(\"second\"), Affine(\"third\", 100, 2), Affine(\"last\", 2, 1), Sigmoid(\"last\")]\n",
    "model_nn = Model(layers)\n",
    "model_lr = Model([Affine(\"logits\", 784, 1), Sigmoid(\"sigmoid\")])"
   ]
  },
  {
   "cell_type": "code",
   "execution_count": 20,
   "id": "6eede77a",
   "metadata": {
    "execution": {
     "iopub.execute_input": "2022-05-28T10:09:42.383652Z",
     "iopub.status.busy": "2022-05-28T10:09:42.383106Z",
     "iopub.status.idle": "2022-05-28T10:09:42.394544Z",
     "shell.execute_reply": "2022-05-28T10:09:42.394088Z"
    },
    "papermill": {
     "duration": 0.043236,
     "end_time": "2022-05-28T10:09:42.394640",
     "exception": false,
     "start_time": "2022-05-28T10:09:42.351404",
     "status": "completed"
    },
    "tags": []
   },
   "outputs": [],
   "source": [
    "nn_learner = Learner(loss, model_nn, opt, config.num_epochs)\n",
    "acc_nn = ClfCallback(nn_learner, config.bs, training_data_x , testing_data_x, training_data_y, testing_data_y)\n",
    "nn_learner.set_callbacks([acc_nn])"
   ]
  },
  {
   "cell_type": "code",
   "execution_count": 21,
   "id": "877b6cc7",
   "metadata": {
    "execution": {
     "iopub.execute_input": "2022-05-28T10:09:42.454127Z",
     "iopub.status.busy": "2022-05-28T10:09:42.453571Z",
     "iopub.status.idle": "2022-05-28T10:09:42.464756Z",
     "shell.execute_reply": "2022-05-28T10:09:42.465166Z"
    },
    "papermill": {
     "duration": 0.042711,
     "end_time": "2022-05-28T10:09:42.465280",
     "exception": false,
     "start_time": "2022-05-28T10:09:42.422569",
     "status": "completed"
    },
    "tags": []
   },
   "outputs": [],
   "source": [
    "lr_learner = Learner(loss, model_lr, opt, config.num_epochs)\n",
    "acc_lr = ClfCallback(lr_learner, config.bs, training_data_x , testing_data_x, training_data_y, testing_data_y)\n",
    "lr_learner.set_callbacks([acc_lr])"
   ]
  },
  {
   "cell_type": "code",
   "execution_count": 22,
   "id": "d9b133c3",
   "metadata": {
    "execution": {
     "iopub.execute_input": "2022-05-28T10:09:42.524385Z",
     "iopub.status.busy": "2022-05-28T10:09:42.523820Z",
     "iopub.status.idle": "2022-05-28T10:12:37.605211Z",
     "shell.execute_reply": "2022-05-28T10:12:37.605690Z"
    },
    "papermill": {
     "duration": 175.112576,
     "end_time": "2022-05-28T10:12:37.605820",
     "exception": false,
     "start_time": "2022-05-28T10:09:42.493244",
     "status": "completed"
    },
    "tags": []
   },
   "outputs": [
    {
     "name": "stdout",
     "output_type": "stream",
     "text": [
      "Epoch 0, Loss 0.247\n",
      "Training Accuracy: 0.5502, Testing Accuracy: 0.5423\n",
      "\n"
     ]
    },
    {
     "name": "stdout",
     "output_type": "stream",
     "text": [
      "Epoch 10, Loss 0.1297\n",
      "Training Accuracy: 0.9037, Testing Accuracy: 0.9098\n",
      "\n"
     ]
    },
    {
     "name": "stdout",
     "output_type": "stream",
     "text": [
      "Epoch 20, Loss 0.0678\n",
      "Training Accuracy: 0.9319, Testing Accuracy: 0.9395\n",
      "\n"
     ]
    },
    {
     "name": "stdout",
     "output_type": "stream",
     "text": [
      "Epoch 30, Loss 0.0502\n",
      "Training Accuracy: 0.9449, Testing Accuracy: 0.9536\n",
      "\n"
     ]
    },
    {
     "name": "stdout",
     "output_type": "stream",
     "text": [
      "Epoch 40, Loss 0.0422\n",
      "Training Accuracy: 0.9528, Testing Accuracy: 0.9602\n",
      "\n"
     ]
    },
    {
     "name": "stdout",
     "output_type": "stream",
     "text": [
      "Epoch 50, Loss 0.0376\n",
      "Training Accuracy: 0.9574, Testing Accuracy: 0.9632\n",
      "\n"
     ]
    },
    {
     "name": "stdout",
     "output_type": "stream",
     "text": [
      "Epoch 60, Loss 0.0346\n",
      "Training Accuracy: 0.9596, Testing Accuracy: 0.9657\n",
      "\n"
     ]
    },
    {
     "name": "stdout",
     "output_type": "stream",
     "text": [
      "Epoch 70, Loss 0.0324\n",
      "Training Accuracy: 0.9619, Testing Accuracy: 0.9667\n",
      "\n"
     ]
    },
    {
     "name": "stdout",
     "output_type": "stream",
     "text": [
      "Epoch 80, Loss 0.0307\n",
      "Training Accuracy: 0.9635, Testing Accuracy: 0.9677\n",
      "\n"
     ]
    },
    {
     "name": "stdout",
     "output_type": "stream",
     "text": [
      "Epoch 90, Loss 0.0293\n",
      "Training Accuracy: 0.9654, Testing Accuracy: 0.9698\n",
      "\n"
     ]
    },
    {
     "name": "stdout",
     "output_type": "stream",
     "text": [
      "Epoch 100, Loss 0.0281\n",
      "Training Accuracy: 0.9664, Testing Accuracy: 0.9693\n",
      "\n"
     ]
    },
    {
     "name": "stdout",
     "output_type": "stream",
     "text": [
      "Epoch 110, Loss 0.0271\n",
      "Training Accuracy: 0.9680, Testing Accuracy: 0.9698\n",
      "\n"
     ]
    },
    {
     "name": "stdout",
     "output_type": "stream",
     "text": [
      "Epoch 120, Loss 0.0262\n",
      "Training Accuracy: 0.9695, Testing Accuracy: 0.9688\n",
      "\n"
     ]
    },
    {
     "name": "stdout",
     "output_type": "stream",
     "text": [
      "Epoch 130, Loss 0.0254\n",
      "Training Accuracy: 0.9704, Testing Accuracy: 0.9688\n",
      "\n"
     ]
    },
    {
     "name": "stdout",
     "output_type": "stream",
     "text": [
      "Epoch 140, Loss 0.0246\n",
      "Training Accuracy: 0.9709, Testing Accuracy: 0.9693\n",
      "\n"
     ]
    },
    {
     "name": "stdout",
     "output_type": "stream",
     "text": [
      "Epoch 150, Loss 0.024\n",
      "Training Accuracy: 0.9720, Testing Accuracy: 0.9693\n",
      "\n"
     ]
    },
    {
     "name": "stdout",
     "output_type": "stream",
     "text": [
      "Epoch 160, Loss 0.0234\n",
      "Training Accuracy: 0.9728, Testing Accuracy: 0.9693\n",
      "\n"
     ]
    },
    {
     "name": "stdout",
     "output_type": "stream",
     "text": [
      "Epoch 170, Loss 0.0228\n",
      "Training Accuracy: 0.9734, Testing Accuracy: 0.9713\n",
      "\n"
     ]
    },
    {
     "name": "stdout",
     "output_type": "stream",
     "text": [
      "Epoch 180, Loss 0.0223\n",
      "Training Accuracy: 0.9740, Testing Accuracy: 0.9713\n",
      "\n"
     ]
    },
    {
     "name": "stdout",
     "output_type": "stream",
     "text": [
      "Epoch 190, Loss 0.0218\n",
      "Training Accuracy: 0.9748, Testing Accuracy: 0.9728\n",
      "\n"
     ]
    },
    {
     "name": "stdout",
     "output_type": "stream",
     "text": [
      "Epoch 200, Loss 0.0213\n",
      "Training Accuracy: 0.9755, Testing Accuracy: 0.9728\n",
      "\n"
     ]
    },
    {
     "name": "stdout",
     "output_type": "stream",
     "text": [
      "Epoch 210, Loss 0.0208\n",
      "Training Accuracy: 0.9757, Testing Accuracy: 0.9723\n",
      "\n"
     ]
    },
    {
     "name": "stdout",
     "output_type": "stream",
     "text": [
      "Epoch 220, Loss 0.0204\n",
      "Training Accuracy: 0.9765, Testing Accuracy: 0.9728\n",
      "\n"
     ]
    },
    {
     "name": "stdout",
     "output_type": "stream",
     "text": [
      "Epoch 230, Loss 0.02\n",
      "Training Accuracy: 0.9772, Testing Accuracy: 0.9728\n",
      "\n"
     ]
    },
    {
     "name": "stdout",
     "output_type": "stream",
     "text": [
      "Epoch 240, Loss 0.0196\n",
      "Training Accuracy: 0.9776, Testing Accuracy: 0.9733\n",
      "\n"
     ]
    },
    {
     "data": {
      "text/plain": [
       "0.0021469716681344073"
      ]
     },
     "execution_count": 22,
     "metadata": {},
     "output_type": "execute_result"
    }
   ],
   "source": [
    "nn_learner.train_loop(dl)"
   ]
  },
  {
   "cell_type": "code",
   "execution_count": 23,
   "id": "e0163366",
   "metadata": {
    "execution": {
     "iopub.execute_input": "2022-05-28T10:12:37.682747Z",
     "iopub.status.busy": "2022-05-28T10:12:37.681117Z",
     "iopub.status.idle": "2022-05-28T10:12:49.791140Z",
     "shell.execute_reply": "2022-05-28T10:12:49.791981Z"
    },
    "papermill": {
     "duration": 12.15057,
     "end_time": "2022-05-28T10:12:49.792119",
     "exception": false,
     "start_time": "2022-05-28T10:12:37.641549",
     "status": "completed"
    },
    "tags": []
   },
   "outputs": [
    {
     "name": "stdout",
     "output_type": "stream",
     "text": [
      "Epoch 0, Loss 0.2577\n",
      "Training Accuracy: 0.6478, Testing Accuracy: 0.6472\n",
      "\n"
     ]
    },
    {
     "name": "stdout",
     "output_type": "stream",
     "text": [
      "Epoch 10, Loss 0.1039\n",
      "Training Accuracy: 0.9115, Testing Accuracy: 0.9269\n",
      "\n"
     ]
    },
    {
     "name": "stdout",
     "output_type": "stream",
     "text": [
      "Epoch 20, Loss 0.0796\n",
      "Training Accuracy: 0.9296, Testing Accuracy: 0.9425\n",
      "\n"
     ]
    },
    {
     "name": "stdout",
     "output_type": "stream",
     "text": [
      "Epoch 30, Loss 0.0686\n",
      "Training Accuracy: 0.9367, Testing Accuracy: 0.9516\n",
      "\n"
     ]
    },
    {
     "name": "stdout",
     "output_type": "stream",
     "text": [
      "Epoch 40, Loss 0.0619\n",
      "Training Accuracy: 0.9420, Testing Accuracy: 0.9536\n",
      "\n"
     ]
    },
    {
     "name": "stdout",
     "output_type": "stream",
     "text": [
      "Epoch 50, Loss 0.0574\n",
      "Training Accuracy: 0.9441, Testing Accuracy: 0.9597\n",
      "\n"
     ]
    },
    {
     "name": "stdout",
     "output_type": "stream",
     "text": [
      "Epoch 60, Loss 0.0541\n",
      "Training Accuracy: 0.9461, Testing Accuracy: 0.9607\n",
      "\n"
     ]
    },
    {
     "name": "stdout",
     "output_type": "stream",
     "text": [
      "Epoch 70, Loss 0.0515\n",
      "Training Accuracy: 0.9488, Testing Accuracy: 0.9622\n",
      "\n"
     ]
    },
    {
     "name": "stdout",
     "output_type": "stream",
     "text": [
      "Epoch 80, Loss 0.0495\n",
      "Training Accuracy: 0.9502, Testing Accuracy: 0.9632\n",
      "\n"
     ]
    },
    {
     "name": "stdout",
     "output_type": "stream",
     "text": [
      "Epoch 90, Loss 0.0478\n",
      "Training Accuracy: 0.9517, Testing Accuracy: 0.9637\n",
      "\n"
     ]
    },
    {
     "name": "stdout",
     "output_type": "stream",
     "text": [
      "Epoch 100, Loss 0.0464\n",
      "Training Accuracy: 0.9524, Testing Accuracy: 0.9642\n",
      "\n"
     ]
    },
    {
     "name": "stdout",
     "output_type": "stream",
     "text": [
      "Epoch 110, Loss 0.0451\n",
      "Training Accuracy: 0.9534, Testing Accuracy: 0.9647\n",
      "\n"
     ]
    },
    {
     "name": "stdout",
     "output_type": "stream",
     "text": [
      "Epoch 120, Loss 0.0441\n",
      "Training Accuracy: 0.9550, Testing Accuracy: 0.9647\n",
      "\n"
     ]
    },
    {
     "name": "stdout",
     "output_type": "stream",
     "text": [
      "Epoch 130, Loss 0.0431\n",
      "Training Accuracy: 0.9553, Testing Accuracy: 0.9642\n",
      "\n"
     ]
    },
    {
     "name": "stdout",
     "output_type": "stream",
     "text": [
      "Epoch 140, Loss 0.0423\n",
      "Training Accuracy: 0.9562, Testing Accuracy: 0.9637\n",
      "\n"
     ]
    },
    {
     "name": "stdout",
     "output_type": "stream",
     "text": [
      "Epoch 150, Loss 0.0415\n",
      "Training Accuracy: 0.9564, Testing Accuracy: 0.9642\n",
      "\n"
     ]
    },
    {
     "name": "stdout",
     "output_type": "stream",
     "text": [
      "Epoch 160, Loss 0.0408\n",
      "Training Accuracy: 0.9567, Testing Accuracy: 0.9647\n",
      "\n"
     ]
    },
    {
     "name": "stdout",
     "output_type": "stream",
     "text": [
      "Epoch 170, Loss 0.0402\n",
      "Training Accuracy: 0.9574, Testing Accuracy: 0.9647\n",
      "\n"
     ]
    },
    {
     "name": "stdout",
     "output_type": "stream",
     "text": [
      "Epoch 180, Loss 0.0397\n",
      "Training Accuracy: 0.9577, Testing Accuracy: 0.9652\n",
      "\n"
     ]
    },
    {
     "name": "stdout",
     "output_type": "stream",
     "text": [
      "Epoch 190, Loss 0.0391\n",
      "Training Accuracy: 0.9582, Testing Accuracy: 0.9657\n",
      "\n"
     ]
    },
    {
     "name": "stdout",
     "output_type": "stream",
     "text": [
      "Epoch 200, Loss 0.0387\n",
      "Training Accuracy: 0.9585, Testing Accuracy: 0.9662\n",
      "\n"
     ]
    },
    {
     "name": "stdout",
     "output_type": "stream",
     "text": [
      "Epoch 210, Loss 0.0382\n",
      "Training Accuracy: 0.9589, Testing Accuracy: 0.9662\n",
      "\n"
     ]
    },
    {
     "name": "stdout",
     "output_type": "stream",
     "text": [
      "Epoch 220, Loss 0.0378\n",
      "Training Accuracy: 0.9589, Testing Accuracy: 0.9662\n",
      "\n"
     ]
    },
    {
     "name": "stdout",
     "output_type": "stream",
     "text": [
      "Epoch 230, Loss 0.0374\n",
      "Training Accuracy: 0.9593, Testing Accuracy: 0.9672\n",
      "\n"
     ]
    },
    {
     "name": "stdout",
     "output_type": "stream",
     "text": [
      "Epoch 240, Loss 0.037\n",
      "Training Accuracy: 0.9596, Testing Accuracy: 0.9672\n",
      "\n"
     ]
    },
    {
     "data": {
      "text/plain": [
       "0.029738569207820822"
      ]
     },
     "execution_count": 23,
     "metadata": {},
     "output_type": "execute_result"
    }
   ],
   "source": [
    "lr_learner.train_loop(dl)"
   ]
  },
  {
   "cell_type": "code",
   "execution_count": 24,
   "id": "ca410940",
   "metadata": {
    "execution": {
     "iopub.execute_input": "2022-05-28T10:12:49.885425Z",
     "iopub.status.busy": "2022-05-28T10:12:49.884830Z",
     "iopub.status.idle": "2022-05-28T10:12:50.100955Z",
     "shell.execute_reply": "2022-05-28T10:12:50.100492Z"
    },
    "papermill": {
     "duration": 0.26584,
     "end_time": "2022-05-28T10:12:50.101067",
     "exception": false,
     "start_time": "2022-05-28T10:12:49.835227",
     "status": "completed"
    },
    "tags": []
   },
   "outputs": [
    {
     "data": {
      "text/plain": [
       "<matplotlib.legend.Legend at 0x7f13bd7dd438>"
      ]
     },
     "execution_count": 24,
     "metadata": {},
     "output_type": "execute_result"
    },
    {
     "data": {
      "image/png": "[encoded data removed]",
      "text/plain": [
       "<Figure size 1080x720 with 1 Axes>"
      ]
     },
     "metadata": {
      "needs_background": "light"
     },
     "output_type": "display_data"
    }
   ],
   "source": [
    "#comparing the results of NN and LR\n",
    "plt.figure(figsize=(15,10))\n",
    "\n",
    "# Neural Network plots\n",
    "plt.plot(acc_nn.accuracies, 'r-', label = \"Training Accuracies - NN\")\n",
    "plt.plot(acc_nn.test_accuracies, 'g-', label = \"Testing Accuracies - NN\")\n",
    "\n",
    "# Logistic Regression plots\n",
    "plt.plot(acc_lr.accuracies, 'k-', label = \"Training Accuracies - LR\")\n",
    "plt.plot(acc_lr.test_accuracies, 'b-', label = \"Testing Accuracies - LR\")\n",
    "plt.legend()"
   ]
  },
  {
   "cell_type": "markdown",
   "id": "80dfb35c",
   "metadata": {
    "papermill": {
     "duration": 0.043521,
     "end_time": "2022-05-28T10:12:50.188875",
     "exception": false,
     "start_time": "2022-05-28T10:12:50.145354",
     "status": "completed"
    },
    "tags": []
   },
   "source": [
    "#### Plotting the outputs of this layer of the NN.\n"
   ]
  },
  {
   "cell_type": "code",
   "execution_count": 25,
   "id": "45eb2ff5",
   "metadata": {
    "execution": {
     "iopub.execute_input": "2022-05-28T10:12:50.281652Z",
     "iopub.status.busy": "2022-05-28T10:12:50.280288Z",
     "iopub.status.idle": "2022-05-28T10:12:50.315279Z",
     "shell.execute_reply": "2022-05-28T10:12:50.316013Z"
    },
    "papermill": {
     "duration": 0.083711,
     "end_time": "2022-05-28T10:12:50.316142",
     "exception": false,
     "start_time": "2022-05-28T10:12:50.232431",
     "status": "completed"
    },
    "tags": []
   },
   "outputs": [],
   "source": [
    "new_model = Model(layers[:-2])\n",
    "testing_plot = new_model(testing_data_x)"
   ]
  },
  {
   "cell_type": "code",
   "execution_count": 26,
   "id": "4c0a5485",
   "metadata": {
    "execution": {
     "iopub.execute_input": "2022-05-28T10:12:50.412202Z",
     "iopub.status.busy": "2022-05-28T10:12:50.410231Z",
     "iopub.status.idle": "2022-05-28T10:12:50.605915Z",
     "shell.execute_reply": "2022-05-28T10:12:50.605179Z"
    },
    "papermill": {
     "duration": 0.245827,
     "end_time": "2022-05-28T10:12:50.606030",
     "exception": false,
     "start_time": "2022-05-28T10:12:50.360203",
     "status": "completed"
    },
    "tags": []
   },
   "outputs": [
    {
     "data": {
      "text/plain": [
       "Text(0.5, 1.0, 'Outputs')"
      ]
     },
     "execution_count": 26,
     "metadata": {},
     "output_type": "execute_result"
    },
    {
     "data": {
      "image/png": "[encoded data removed]",
      "text/plain": [
       "<Figure size 576x504 with 1 Axes>"
      ]
     },
     "metadata": {
      "needs_background": "light"
     },
     "output_type": "display_data"
    }
   ],
   "source": [
    "# Plotting the scatter plot of points and color coding by class\n",
    "plt.figure(figsize=(8,7))\n",
    "plt.scatter(testing_plot[:,0], testing_plot[:,1], alpha = 0.1, c = y_test.ravel());\n",
    "plt.title('Outputs')"
   ]
  },
  {
   "cell_type": "markdown",
   "id": "a74fcf8f",
   "metadata": {
    "papermill": {
     "duration": 0.046123,
     "end_time": "2022-05-28T10:12:50.718069",
     "exception": false,
     "start_time": "2022-05-28T10:12:50.671946",
     "status": "completed"
    },
    "tags": []
   },
   "source": [
    "Probability contours"
   ]
  },
  {
   "cell_type": "code",
   "execution_count": 27,
   "id": "d0afc8e3",
   "metadata": {
    "execution": {
     "iopub.execute_input": "2022-05-28T10:12:50.820795Z",
     "iopub.status.busy": "2022-05-28T10:12:50.812602Z",
     "iopub.status.idle": "2022-05-28T10:12:50.824146Z",
     "shell.execute_reply": "2022-05-28T10:12:50.823595Z"
    },
    "papermill": {
     "duration": 0.06036,
     "end_time": "2022-05-28T10:12:50.824247",
     "exception": false,
     "start_time": "2022-05-28T10:12:50.763887",
     "status": "completed"
    },
    "tags": []
   },
   "outputs": [],
   "source": [
    "model_prob = Model(layers[-2:]) "
   ]
  },
  {
   "cell_type": "code",
   "execution_count": 28,
   "id": "9b96e238",
   "metadata": {
    "execution": {
     "iopub.execute_input": "2022-05-28T10:12:50.919625Z",
     "iopub.status.busy": "2022-05-28T10:12:50.919064Z",
     "iopub.status.idle": "2022-05-28T10:12:50.931751Z",
     "shell.execute_reply": "2022-05-28T10:12:50.932197Z"
    },
    "papermill": {
     "duration": 0.062499,
     "end_time": "2022-05-28T10:12:50.932319",
     "exception": false,
     "start_time": "2022-05-28T10:12:50.869820",
     "status": "completed"
    },
    "tags": []
   },
   "outputs": [],
   "source": [
    "#creating the x and y ranges according to the above generated plot.\n",
    "x_range = np.linspace(-4, 1, 100) \n",
    "y_range = np.linspace(-6, 6, 100) \n",
    "x_grid, y_grid = np.meshgrid(x_range, y_range) # x_grid and y_grig are of size 100 X 100\n",
    "\n",
    "# converting x_grid and y_grid to continuous arrays\n",
    "x_gridflat = np.ravel(x_grid)\n",
    "y_gridflat = np.ravel(y_grid)\n",
    "\n",
    "# The last layer of the current model takes two columns as input. Hence transpose of np.vstack() is required.\n",
    "X = np.vstack((x_gridflat, y_gridflat)).T\n",
    "\n",
    "prob_contour = model_prob(X).reshape(100,100) "
   ]
  },
  {
   "cell_type": "code",
   "execution_count": 29,
   "id": "da72499a",
   "metadata": {
    "execution": {
     "iopub.execute_input": "2022-05-28T10:12:51.028653Z",
     "iopub.status.busy": "2022-05-28T10:12:51.026667Z",
     "iopub.status.idle": "2022-05-28T10:12:51.290217Z",
     "shell.execute_reply": "2022-05-28T10:12:51.289749Z"
    },
    "papermill": {
     "duration": 0.312215,
     "end_time": "2022-05-28T10:12:51.290333",
     "exception": false,
     "start_time": "2022-05-28T10:12:50.978118",
     "status": "completed"
    },
    "tags": []
   },
   "outputs": [
    {
     "data": {
      "image/png": "[encoded data removed]",
      "text/plain": [
       "<Figure size 720x648 with 1 Axes>"
      ]
     },
     "metadata": {
      "needs_background": "light"
     },
     "output_type": "display_data"
    }
   ],
   "source": [
    "plt.figure(figsize=(10,9))\n",
    "plt.scatter(testing_plot[:,0], testing_plot[:,1], alpha = 0.1, c = y_test.ravel())\n",
    "contours = plt.contour(x_grid,y_grid,prob_contour)\n",
    "plt.title('Probability Contours')\n",
    "plt.clabel(contours, inline = True );"
   ]
  },
  {
   "cell_type": "code",
   "execution_count": null,
   "id": "e81b4ac7",
   "metadata": {
    "papermill": {
     "duration": 0.05131,
     "end_time": "2022-05-28T10:12:51.390536",
     "exception": false,
     "start_time": "2022-05-28T10:12:51.339226",
     "status": "completed"
    },
    "tags": []
   },
   "outputs": [],
   "source": []
  }
 ],
 "metadata": {
  "kernelspec": {
   "display_name": "Python 3",
   "language": "python",
   "name": "python3"
  },
  "language_info": {
   "codemirror_mode": {
    "name": "ipython",
    "version": 3
   },
   "file_extension": ".py",
   "mimetype": "text/x-python",
   "name": "python",
   "nbconvert_exporter": "python",
   "pygments_lexer": "ipython3",
   "version": "3.6.15"
  },
  "papermill": {
   "default_parameters": {},
   "duration": 195.404995,
   "end_time": "2022-05-28T10:12:51.755881",
   "environment_variables": {},
   "exception": null,
   "input_path": "2020-08-11-part2.ipynb",
   "output_path": "2020-08-11-part2.ipynb",
   "parameters": {},
   "start_time": "2022-05-28T10:09:36.350886",
   "version": "2.3.3"
  }
 },
 "nbformat": 4,
 "nbformat_minor": 5
}