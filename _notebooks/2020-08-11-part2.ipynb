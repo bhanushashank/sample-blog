{
 "cells": [
  {
   "cell_type": "markdown",
   "id": "98380cd3",
   "metadata": {
    "papermill": {
     "duration": 0.029711,
     "end_time": "2022-07-02T10:09:42.832974",
     "exception": false,
     "start_time": "2022-07-02T10:09:42.803263",
     "status": "completed"
    },
    "tags": []
   },
   "source": [
    "# Distinguish Your Own Digits (DYOD)"
   ]
  },
  {
   "cell_type": "markdown",
   "id": "ef31240d",
   "metadata": {
    "papermill": {
     "duration": 0.023683,
     "end_time": "2022-07-02T10:09:42.880872",
     "exception": false,
     "start_time": "2022-07-02T10:09:42.857189",
     "status": "completed"
    },
    "tags": []
   },
   "source": [
    "You are going to write a classifier that distinguishes between the number 3 and number 8."
   ]
  },
  {
   "cell_type": "code",
   "execution_count": 1,
   "id": "b15c8646",
   "metadata": {
    "execution": {
     "iopub.execute_input": "2022-07-02T10:09:42.938519Z",
     "iopub.status.busy": "2022-07-02T10:09:42.937890Z",
     "iopub.status.idle": "2022-07-02T10:09:42.948650Z",
     "shell.execute_reply": "2022-07-02T10:09:42.948153Z"
    },
    "papermill": {
     "duration": 0.044389,
     "end_time": "2022-07-02T10:09:42.948768",
     "exception": false,
     "start_time": "2022-07-02T10:09:42.904379",
     "status": "completed"
    },
    "tags": []
   },
   "outputs": [],
   "source": [
    "%load_ext autoreload\n",
    "%autoreload 2"
   ]
  },
  {
   "cell_type": "code",
   "execution_count": 2,
   "id": "22ef38dc",
   "metadata": {
    "execution": {
     "iopub.execute_input": "2022-07-02T10:09:43.003605Z",
     "iopub.status.busy": "2022-07-02T10:09:43.003019Z",
     "iopub.status.idle": "2022-07-02T10:09:43.524743Z",
     "shell.execute_reply": "2022-07-02T10:09:43.525226Z"
    },
    "papermill": {
     "duration": 0.553028,
     "end_time": "2022-07-02T10:09:43.525381",
     "exception": false,
     "start_time": "2022-07-02T10:09:42.972353",
     "status": "completed"
    },
    "tags": []
   },
   "outputs": [],
   "source": [
    "%matplotlib inline\n",
    "import numpy as np\n",
    "import matplotlib.pyplot as plt\n",
    "import pandas as pd"
   ]
  },
  {
   "cell_type": "markdown",
   "id": "ba036198",
   "metadata": {
    "papermill": {
     "duration": 0.023627,
     "end_time": "2022-07-02T10:09:43.572812",
     "exception": false,
     "start_time": "2022-07-02T10:09:43.549185",
     "status": "completed"
    },
    "tags": []
   },
   "source": [
    "From the command line run `pip install mnist`. This is a library that will help you bring down the mnist dataset. If you run this from a notebook, you need to put  `!pip install mnist` in a cell by itself."
   ]
  },
  {
   "cell_type": "code",
   "execution_count": 3,
   "id": "bb6ad8a1",
   "metadata": {
    "execution": {
     "iopub.execute_input": "2022-07-02T10:09:43.624410Z",
     "iopub.status.busy": "2022-07-02T10:09:43.623822Z",
     "iopub.status.idle": "2022-07-02T10:09:45.290415Z",
     "shell.execute_reply": "2022-07-02T10:09:45.289861Z"
    },
    "papermill": {
     "duration": 1.693667,
     "end_time": "2022-07-02T10:09:45.290537",
     "exception": false,
     "start_time": "2022-07-02T10:09:43.596870",
     "status": "completed"
    },
    "tags": []
   },
   "outputs": [
    {
     "name": "stdout",
     "output_type": "stream",
     "text": [
      "Collecting mnist\r\n"
     ]
    },
    {
     "name": "stdout",
     "output_type": "stream",
     "text": [
      "  Downloading mnist-0.2.2-py2.py3-none-any.whl (3.5 kB)\r\n",
      "Requirement already satisfied: numpy in /opt/hostedtoolcache/Python/3.6.15/x64/lib/python3.6/site-packages (from mnist) (1.19.5)\r\n"
     ]
    },
    {
     "name": "stdout",
     "output_type": "stream",
     "text": [
      "Installing collected packages: mnist\r\n"
     ]
    },
    {
     "name": "stdout",
     "output_type": "stream",
     "text": [
      "Successfully installed mnist-0.2.2\r\n"
     ]
    }
   ],
   "source": [
    "!pip install mnist"
   ]
  },
  {
   "cell_type": "markdown",
   "id": "69df9c9a",
   "metadata": {
    "papermill": {
     "duration": 0.024675,
     "end_time": "2022-07-02T10:09:45.340067",
     "exception": false,
     "start_time": "2022-07-02T10:09:45.315392",
     "status": "completed"
    },
    "tags": []
   },
   "source": [
    "## Preparing the Data"
   ]
  },
  {
   "cell_type": "code",
   "execution_count": 4,
   "id": "7f69d806",
   "metadata": {
    "execution": {
     "iopub.execute_input": "2022-07-02T10:09:45.393159Z",
     "iopub.status.busy": "2022-07-02T10:09:45.392576Z",
     "iopub.status.idle": "2022-07-02T10:09:45.407717Z",
     "shell.execute_reply": "2022-07-02T10:09:45.407129Z"
    },
    "papermill": {
     "duration": 0.043303,
     "end_time": "2022-07-02T10:09:45.407827",
     "exception": false,
     "start_time": "2022-07-02T10:09:45.364524",
     "status": "completed"
    },
    "tags": []
   },
   "outputs": [],
   "source": [
    "import mnist"
   ]
  },
  {
   "cell_type": "code",
   "execution_count": 5,
   "id": "a411e44f",
   "metadata": {
    "execution": {
     "iopub.execute_input": "2022-07-02T10:09:45.474684Z",
     "iopub.status.busy": "2022-07-02T10:09:45.469281Z",
     "iopub.status.idle": "2022-07-02T10:09:46.025140Z",
     "shell.execute_reply": "2022-07-02T10:09:46.023999Z"
    },
    "papermill": {
     "duration": 0.592973,
     "end_time": "2022-07-02T10:09:46.025285",
     "exception": false,
     "start_time": "2022-07-02T10:09:45.432312",
     "status": "completed"
    },
    "tags": []
   },
   "outputs": [],
   "source": [
    "train_images = mnist.train_images()\n",
    "train_labels = mnist.train_labels()"
   ]
  },
  {
   "cell_type": "code",
   "execution_count": 6,
   "id": "dceab3a5",
   "metadata": {
    "execution": {
     "iopub.execute_input": "2022-07-02T10:09:46.095340Z",
     "iopub.status.busy": "2022-07-02T10:09:46.090453Z",
     "iopub.status.idle": "2022-07-02T10:09:46.100237Z",
     "shell.execute_reply": "2022-07-02T10:09:46.100689Z"
    },
    "papermill": {
     "duration": 0.050132,
     "end_time": "2022-07-02T10:09:46.100817",
     "exception": false,
     "start_time": "2022-07-02T10:09:46.050685",
     "status": "completed"
    },
    "tags": []
   },
   "outputs": [
    {
     "data": {
      "text/plain": [
       "((60000, 28, 28), (60000,))"
      ]
     },
     "execution_count": 6,
     "metadata": {},
     "output_type": "execute_result"
    }
   ],
   "source": [
    "train_images.shape, train_labels.shape"
   ]
  },
  {
   "cell_type": "code",
   "execution_count": 7,
   "id": "f50dc2bb",
   "metadata": {
    "execution": {
     "iopub.execute_input": "2022-07-02T10:09:46.154193Z",
     "iopub.status.busy": "2022-07-02T10:09:46.153576Z",
     "iopub.status.idle": "2022-07-02T10:09:46.299882Z",
     "shell.execute_reply": "2022-07-02T10:09:46.299257Z"
    },
    "papermill": {
     "duration": 0.174228,
     "end_time": "2022-07-02T10:09:46.300014",
     "exception": false,
     "start_time": "2022-07-02T10:09:46.125786",
     "status": "completed"
    },
    "tags": []
   },
   "outputs": [],
   "source": [
    "test_images = mnist.test_images()\n",
    "test_labels = mnist.test_labels()"
   ]
  },
  {
   "cell_type": "code",
   "execution_count": 8,
   "id": "fc38cf1b",
   "metadata": {
    "execution": {
     "iopub.execute_input": "2022-07-02T10:09:46.356250Z",
     "iopub.status.busy": "2022-07-02T10:09:46.355672Z",
     "iopub.status.idle": "2022-07-02T10:09:46.367891Z",
     "shell.execute_reply": "2022-07-02T10:09:46.367409Z"
    },
    "papermill": {
     "duration": 0.04226,
     "end_time": "2022-07-02T10:09:46.367997",
     "exception": false,
     "start_time": "2022-07-02T10:09:46.325737",
     "status": "completed"
    },
    "tags": []
   },
   "outputs": [
    {
     "data": {
      "text/plain": [
       "((10000, 28, 28), (10000,))"
      ]
     },
     "execution_count": 8,
     "metadata": {},
     "output_type": "execute_result"
    }
   ],
   "source": [
    "test_images.shape, test_labels.shape"
   ]
  },
  {
   "cell_type": "code",
   "execution_count": 9,
   "id": "f9ed8fe0",
   "metadata": {
    "execution": {
     "iopub.execute_input": "2022-07-02T10:09:46.424377Z",
     "iopub.status.busy": "2022-07-02T10:09:46.423806Z",
     "iopub.status.idle": "2022-07-02T10:09:46.558049Z",
     "shell.execute_reply": "2022-07-02T10:09:46.558505Z"
    },
    "papermill": {
     "duration": 0.165632,
     "end_time": "2022-07-02T10:09:46.558642",
     "exception": false,
     "start_time": "2022-07-02T10:09:46.393010",
     "status": "completed"
    },
    "tags": []
   },
   "outputs": [
    {
     "name": "stdout",
     "output_type": "stream",
     "text": [
      "2\n"
     ]
    },
    {
     "data": {
      "text/plain": [
       "<matplotlib.image.AxesImage at 0x7f929909f550>"
      ]
     },
     "execution_count": 9,
     "metadata": {},
     "output_type": "execute_result"
    },
    {
     "data": {
      "image/png": "[encoded data removed]",
      "text/plain": [
       "<Figure size 432x288 with 1 Axes>"
      ]
     },
     "metadata": {
      "needs_background": "light"
     },
     "output_type": "display_data"
    }
   ],
   "source": [
    "image_index = 7776 # You may select anything up to 60,000\n",
    "print(train_labels[image_index]) \n",
    "plt.imshow(train_images[image_index], cmap='Greys')"
   ]
  },
  {
   "cell_type": "markdown",
   "id": "a8d2388d",
   "metadata": {
    "papermill": {
     "duration": 0.026803,
     "end_time": "2022-07-02T10:09:46.611833",
     "exception": false,
     "start_time": "2022-07-02T10:09:46.585030",
     "status": "completed"
    },
    "tags": []
   },
   "source": [
    "## Filter data to get 3 and 8 out"
   ]
  },
  {
   "cell_type": "code",
   "execution_count": 10,
   "id": "776f7fc7",
   "metadata": {
    "execution": {
     "iopub.execute_input": "2022-07-02T10:09:46.670892Z",
     "iopub.status.busy": "2022-07-02T10:09:46.670267Z",
     "iopub.status.idle": "2022-07-02T10:09:46.687275Z",
     "shell.execute_reply": "2022-07-02T10:09:46.687702Z"
    },
    "papermill": {
     "duration": 0.049893,
     "end_time": "2022-07-02T10:09:46.687837",
     "exception": false,
     "start_time": "2022-07-02T10:09:46.637944",
     "status": "completed"
    },
    "tags": []
   },
   "outputs": [],
   "source": [
    "train_filter = np.where((train_labels == 3 ) | (train_labels == 8))\n",
    "test_filter = np.where((test_labels == 3) | (test_labels == 8))\n",
    "X_train, y_train = train_images[train_filter], train_labels[train_filter]\n",
    "X_test, y_test = test_images[test_filter], test_labels[test_filter]"
   ]
  },
  {
   "cell_type": "markdown",
   "id": "948f0b7e",
   "metadata": {
    "papermill": {
     "duration": 0.026322,
     "end_time": "2022-07-02T10:09:46.740681",
     "exception": false,
     "start_time": "2022-07-02T10:09:46.714359",
     "status": "completed"
    },
    "tags": []
   },
   "source": [
    "We normalize the pizel values in the 0 to 1 range"
   ]
  },
  {
   "cell_type": "code",
   "execution_count": 11,
   "id": "ee4c2166",
   "metadata": {
    "execution": {
     "iopub.execute_input": "2022-07-02T10:09:46.804527Z",
     "iopub.status.busy": "2022-07-02T10:09:46.802982Z",
     "iopub.status.idle": "2022-07-02T10:09:46.850059Z",
     "shell.execute_reply": "2022-07-02T10:09:46.848981Z"
    },
    "papermill": {
     "duration": 0.082289,
     "end_time": "2022-07-02T10:09:46.850209",
     "exception": false,
     "start_time": "2022-07-02T10:09:46.767920",
     "status": "completed"
    },
    "tags": []
   },
   "outputs": [],
   "source": [
    "X_train = X_train/255.\n",
    "X_test = X_test/255."
   ]
  },
  {
   "cell_type": "markdown",
   "id": "ddcf4fab",
   "metadata": {
    "papermill": {
     "duration": 0.026533,
     "end_time": "2022-07-02T10:09:46.903972",
     "exception": false,
     "start_time": "2022-07-02T10:09:46.877439",
     "status": "completed"
    },
    "tags": []
   },
   "source": [
    "And setup the labels as 1 (when the digit is 3) and 0 (when the digit is 8)"
   ]
  },
  {
   "cell_type": "code",
   "execution_count": 12,
   "id": "7dc908f2",
   "metadata": {
    "execution": {
     "iopub.execute_input": "2022-07-02T10:09:46.966375Z",
     "iopub.status.busy": "2022-07-02T10:09:46.962102Z",
     "iopub.status.idle": "2022-07-02T10:09:46.974356Z",
     "shell.execute_reply": "2022-07-02T10:09:46.973764Z"
    },
    "papermill": {
     "duration": 0.044305,
     "end_time": "2022-07-02T10:09:46.974464",
     "exception": false,
     "start_time": "2022-07-02T10:09:46.930159",
     "status": "completed"
    },
    "tags": []
   },
   "outputs": [],
   "source": [
    "y_train = 1*(y_train==3)\n",
    "y_test = 1*(y_test==3)"
   ]
  },
  {
   "cell_type": "code",
   "execution_count": 13,
   "id": "01e4e969",
   "metadata": {
    "execution": {
     "iopub.execute_input": "2022-07-02T10:09:47.036217Z",
     "iopub.status.busy": "2022-07-02T10:09:47.035637Z",
     "iopub.status.idle": "2022-07-02T10:09:47.050463Z",
     "shell.execute_reply": "2022-07-02T10:09:47.049979Z"
    },
    "papermill": {
     "duration": 0.049549,
     "end_time": "2022-07-02T10:09:47.050567",
     "exception": false,
     "start_time": "2022-07-02T10:09:47.001018",
     "status": "completed"
    },
    "tags": []
   },
   "outputs": [
    {
     "data": {
      "text/plain": [
       "((11982, 28, 28), (1984, 28, 28))"
      ]
     },
     "execution_count": 13,
     "metadata": {},
     "output_type": "execute_result"
    }
   ],
   "source": [
    "X_train.shape, X_test.shape"
   ]
  },
  {
   "cell_type": "markdown",
   "id": "5ccf3f85",
   "metadata": {
    "papermill": {
     "duration": 0.026383,
     "end_time": "2022-07-02T10:09:47.103352",
     "exception": false,
     "start_time": "2022-07-02T10:09:47.076969",
     "status": "completed"
    },
    "tags": []
   },
   "source": [
    "We reshape the data to flatten the image pixels into a set of features or co-variates:"
   ]
  },
  {
   "cell_type": "code",
   "execution_count": 14,
   "id": "5286a4a3",
   "metadata": {
    "execution": {
     "iopub.execute_input": "2022-07-02T10:09:47.160601Z",
     "iopub.status.busy": "2022-07-02T10:09:47.160020Z",
     "iopub.status.idle": "2022-07-02T10:09:47.174552Z",
     "shell.execute_reply": "2022-07-02T10:09:47.173973Z"
    },
    "papermill": {
     "duration": 0.04476,
     "end_time": "2022-07-02T10:09:47.174661",
     "exception": false,
     "start_time": "2022-07-02T10:09:47.129901",
     "status": "completed"
    },
    "tags": []
   },
   "outputs": [
    {
     "data": {
      "text/plain": [
       "((11982, 784), (1984, 784))"
      ]
     },
     "execution_count": 14,
     "metadata": {},
     "output_type": "execute_result"
    }
   ],
   "source": [
    "X_train = X_train.reshape(X_train.shape[0], -1)\n",
    "X_test = X_test.reshape(X_test.shape[0], -1)\n",
    "X_train.shape, X_test.shape"
   ]
  },
  {
   "cell_type": "code",
   "execution_count": 15,
   "id": "73c5f88a",
   "metadata": {
    "execution": {
     "iopub.execute_input": "2022-07-02T10:09:47.232815Z",
     "iopub.status.busy": "2022-07-02T10:09:47.232231Z",
     "iopub.status.idle": "2022-07-02T10:09:47.251730Z",
     "shell.execute_reply": "2022-07-02T10:09:47.251176Z"
    },
    "papermill": {
     "duration": 0.050386,
     "end_time": "2022-07-02T10:09:47.251854",
     "exception": false,
     "start_time": "2022-07-02T10:09:47.201468",
     "status": "completed"
    },
    "tags": []
   },
   "outputs": [],
   "source": [
    "#Impoting functions from 'Kudzu'\n",
    "from kudzu.model import Model\n",
    "from kudzu.train import Learner\n",
    "from kudzu.optim import GD\n",
    "from kudzu.data import Data, Sampler,Dataloader\n",
    "\n",
    "from kudzu.callbacks import AccCallback\n",
    "from kudzu.callbacks import ClfCallback\n",
    "\n",
    "from kudzu.loss import MSE\n",
    "\n",
    "from kudzu.layer import Sigmoid,Relu\n",
    "from kudzu.layer import Affine"
   ]
  },
  {
   "cell_type": "markdown",
   "id": "bc01172a",
   "metadata": {
    "papermill": {
     "duration": 0.026814,
     "end_time": "2022-07-02T10:09:47.307605",
     "exception": false,
     "start_time": "2022-07-02T10:09:47.280791",
     "status": "completed"
    },
    "tags": []
   },
   "source": [
    "### Let us create a `Config` class, to store important parameters. \n",
    "This class essentially plays the role of a dictionary."
   ]
  },
  {
   "cell_type": "code",
   "execution_count": 16,
   "id": "978281aa",
   "metadata": {
    "execution": {
     "iopub.execute_input": "2022-07-02T10:09:47.364942Z",
     "iopub.status.busy": "2022-07-02T10:09:47.364350Z",
     "iopub.status.idle": "2022-07-02T10:09:47.378134Z",
     "shell.execute_reply": "2022-07-02T10:09:47.377615Z"
    },
    "papermill": {
     "duration": 0.044032,
     "end_time": "2022-07-02T10:09:47.378242",
     "exception": false,
     "start_time": "2022-07-02T10:09:47.334210",
     "status": "completed"
    },
    "tags": []
   },
   "outputs": [],
   "source": [
    "class Config:\n",
    "    pass\n",
    "config = Config()\n",
    "config.lr = 0.001\n",
    "config.num_epochs = 250\n",
    "config.bs = 50"
   ]
  },
  {
   "cell_type": "markdown",
   "id": "1385fa59",
   "metadata": {
    "papermill": {
     "duration": 0.026872,
     "end_time": "2022-07-02T10:09:47.432058",
     "exception": false,
     "start_time": "2022-07-02T10:09:47.405186",
     "status": "completed"
    },
    "tags": []
   },
   "source": [
    "### Running Models with the Training data\n",
    "Details about the network layers:\n",
    "- A first affine layer has 784 inputs and does 100 affine transforms. These are followed by a Relu\n",
    "- A second affine layer has 100 inputs from the 100 activations of the past layer, and does 100 affine transforms. These are followed by a Relu\n",
    "- A third affine layer has 100 activations and does 2 affine transformations to create an embedding for visualization. There is no non-linearity here.\n",
    "- A final \"logistic regression\" which has an affine transform from 2 inputs to 1 output, which is squeezed through a sigmoid.\n"
   ]
  },
  {
   "cell_type": "code",
   "execution_count": 17,
   "id": "2b9c66db",
   "metadata": {
    "execution": {
     "iopub.execute_input": "2022-07-02T10:09:47.501492Z",
     "iopub.status.busy": "2022-07-02T10:09:47.498995Z",
     "iopub.status.idle": "2022-07-02T10:09:47.506526Z",
     "shell.execute_reply": "2022-07-02T10:09:47.505942Z"
    },
    "papermill": {
     "duration": 0.047806,
     "end_time": "2022-07-02T10:09:47.506637",
     "exception": false,
     "start_time": "2022-07-02T10:09:47.458831",
     "status": "completed"
    },
    "tags": []
   },
   "outputs": [],
   "source": [
    "data = Data(X_train, y_train.reshape(-1,1))\n",
    "sampler = Sampler(data, config.bs, shuffle=True)\n",
    "\n",
    "dl = Dataloader(data, sampler)\n",
    "\n",
    "opt = GD(config.lr)\n",
    "loss = MSE()"
   ]
  },
  {
   "cell_type": "code",
   "execution_count": 18,
   "id": "b275e4c2",
   "metadata": {
    "execution": {
     "iopub.execute_input": "2022-07-02T10:09:47.566962Z",
     "iopub.status.busy": "2022-07-02T10:09:47.566380Z",
     "iopub.status.idle": "2022-07-02T10:09:47.576579Z",
     "shell.execute_reply": "2022-07-02T10:09:47.576103Z"
    },
    "papermill": {
     "duration": 0.043054,
     "end_time": "2022-07-02T10:09:47.576684",
     "exception": false,
     "start_time": "2022-07-02T10:09:47.533630",
     "status": "completed"
    },
    "tags": []
   },
   "outputs": [],
   "source": [
    "training_data_x = X_train\n",
    "testing_data_x = X_test\n",
    "training_data_y = y_train.reshape(-1,1)\n",
    "testing_data_y = y_test.reshape(-1,1)"
   ]
  },
  {
   "cell_type": "code",
   "execution_count": 19,
   "id": "76951160",
   "metadata": {
    "execution": {
     "iopub.execute_input": "2022-07-02T10:09:47.638629Z",
     "iopub.status.busy": "2022-07-02T10:09:47.638044Z",
     "iopub.status.idle": "2022-07-02T10:09:47.652656Z",
     "shell.execute_reply": "2022-07-02T10:09:47.652083Z"
    },
    "papermill": {
     "duration": 0.049525,
     "end_time": "2022-07-02T10:09:47.652761",
     "exception": false,
     "start_time": "2022-07-02T10:09:47.603236",
     "status": "completed"
    },
    "tags": []
   },
   "outputs": [
    {
     "name": "stdout",
     "output_type": "stream",
     "text": [
      "xavier\n",
      "xavier\n",
      "xavier\n",
      "xavier\n",
      "xavier\n"
     ]
    }
   ],
   "source": [
    "layers = [Affine(\"first\", 784, 100), Relu(\"first\"), Affine(\"second\", 100, 100), Relu(\"second\"), Affine(\"third\", 100, 2), Affine(\"last\", 2, 1), Sigmoid(\"last\")]\n",
    "model_nn = Model(layers)\n",
    "model_lr = Model([Affine(\"logits\", 784, 1), Sigmoid(\"sigmoid\")])"
   ]
  },
  {
   "cell_type": "code",
   "execution_count": 20,
   "id": "6eede77a",
   "metadata": {
    "execution": {
     "iopub.execute_input": "2022-07-02T10:09:47.710826Z",
     "iopub.status.busy": "2022-07-02T10:09:47.710253Z",
     "iopub.status.idle": "2022-07-02T10:09:47.723021Z",
     "shell.execute_reply": "2022-07-02T10:09:47.722547Z"
    },
    "papermill": {
     "duration": 0.043302,
     "end_time": "2022-07-02T10:09:47.723126",
     "exception": false,
     "start_time": "2022-07-02T10:09:47.679824",
     "status": "completed"
    },
    "tags": []
   },
   "outputs": [],
   "source": [
    "nn_learner = Learner(loss, model_nn, opt, config.num_epochs)\n",
    "acc_nn = ClfCallback(nn_learner, config.bs, training_data_x , testing_data_x, training_data_y, testing_data_y)\n",
    "nn_learner.set_callbacks([acc_nn])"
   ]
  },
  {
   "cell_type": "code",
   "execution_count": 21,
   "id": "877b6cc7",
   "metadata": {
    "execution": {
     "iopub.execute_input": "2022-07-02T10:09:47.783158Z",
     "iopub.status.busy": "2022-07-02T10:09:47.782500Z",
     "iopub.status.idle": "2022-07-02T10:09:47.795353Z",
     "shell.execute_reply": "2022-07-02T10:09:47.794873Z"
    },
    "papermill": {
     "duration": 0.045392,
     "end_time": "2022-07-02T10:09:47.795456",
     "exception": false,
     "start_time": "2022-07-02T10:09:47.750064",
     "status": "completed"
    },
    "tags": []
   },
   "outputs": [],
   "source": [
    "lr_learner = Learner(loss, model_lr, opt, config.num_epochs)\n",
    "acc_lr = ClfCallback(lr_learner, config.bs, training_data_x , testing_data_x, training_data_y, testing_data_y)\n",
    "lr_learner.set_callbacks([acc_lr])"
   ]
  },
  {
   "cell_type": "code",
   "execution_count": 22,
   "id": "d9b133c3",
   "metadata": {
    "execution": {
     "iopub.execute_input": "2022-07-02T10:09:47.857417Z",
     "iopub.status.busy": "2022-07-02T10:09:47.855251Z",
     "iopub.status.idle": "2022-07-02T10:11:02.124119Z",
     "shell.execute_reply": "2022-07-02T10:11:02.124965Z"
    },
    "papermill": {
     "duration": 74.300417,
     "end_time": "2022-07-02T10:11:02.125121",
     "exception": false,
     "start_time": "2022-07-02T10:09:47.824704",
     "status": "completed"
    },
    "tags": []
   },
   "outputs": [
    {
     "name": "stdout",
     "output_type": "stream",
     "text": [
      "Epoch 0, Loss 0.2378\n",
      "Training Accuracy: 0.7167, Testing Accuracy: 0.7087\n",
      "\n"
     ]
    },
    {
     "name": "stdout",
     "output_type": "stream",
     "text": [
      "Epoch 10, Loss 0.0759\n",
      "Training Accuracy: 0.9264, Testing Accuracy: 0.9370\n",
      "\n"
     ]
    },
    {
     "name": "stdout",
     "output_type": "stream",
     "text": [
      "Epoch 20, Loss 0.0505\n",
      "Training Accuracy: 0.9450, Testing Accuracy: 0.9572\n",
      "\n"
     ]
    },
    {
     "name": "stdout",
     "output_type": "stream",
     "text": [
      "Epoch 30, Loss 0.0413\n",
      "Training Accuracy: 0.9526, Testing Accuracy: 0.9652\n",
      "\n"
     ]
    },
    {
     "name": "stdout",
     "output_type": "stream",
     "text": [
      "Epoch 40, Loss 0.0363\n",
      "Training Accuracy: 0.9571, Testing Accuracy: 0.9688\n",
      "\n"
     ]
    },
    {
     "name": "stdout",
     "output_type": "stream",
     "text": [
      "Epoch 50, Loss 0.0332\n",
      "Training Accuracy: 0.9605, Testing Accuracy: 0.9698\n",
      "\n"
     ]
    },
    {
     "name": "stdout",
     "output_type": "stream",
     "text": [
      "Epoch 60, Loss 0.0309\n",
      "Training Accuracy: 0.9639, Testing Accuracy: 0.9698\n",
      "\n"
     ]
    },
    {
     "name": "stdout",
     "output_type": "stream",
     "text": [
      "Epoch 70, Loss 0.0291\n",
      "Training Accuracy: 0.9660, Testing Accuracy: 0.9703\n",
      "\n"
     ]
    },
    {
     "name": "stdout",
     "output_type": "stream",
     "text": [
      "Epoch 80, Loss 0.0277\n",
      "Training Accuracy: 0.9671, Testing Accuracy: 0.9703\n",
      "\n"
     ]
    },
    {
     "name": "stdout",
     "output_type": "stream",
     "text": [
      "Epoch 90, Loss 0.0266\n",
      "Training Accuracy: 0.9690, Testing Accuracy: 0.9708\n",
      "\n"
     ]
    },
    {
     "name": "stdout",
     "output_type": "stream",
     "text": [
      "Epoch 100, Loss 0.0256\n",
      "Training Accuracy: 0.9704, Testing Accuracy: 0.9698\n",
      "\n"
     ]
    },
    {
     "name": "stdout",
     "output_type": "stream",
     "text": [
      "Epoch 110, Loss 0.0247\n",
      "Training Accuracy: 0.9713, Testing Accuracy: 0.9693\n",
      "\n"
     ]
    },
    {
     "name": "stdout",
     "output_type": "stream",
     "text": [
      "Epoch 120, Loss 0.0239\n",
      "Training Accuracy: 0.9717, Testing Accuracy: 0.9708\n",
      "\n"
     ]
    },
    {
     "name": "stdout",
     "output_type": "stream",
     "text": [
      "Epoch 130, Loss 0.0232\n",
      "Training Accuracy: 0.9723, Testing Accuracy: 0.9718\n",
      "\n"
     ]
    },
    {
     "name": "stdout",
     "output_type": "stream",
     "text": [
      "Epoch 140, Loss 0.0225\n",
      "Training Accuracy: 0.9730, Testing Accuracy: 0.9728\n",
      "\n"
     ]
    },
    {
     "name": "stdout",
     "output_type": "stream",
     "text": [
      "Epoch 150, Loss 0.0219\n",
      "Training Accuracy: 0.9739, Testing Accuracy: 0.9723\n",
      "\n"
     ]
    },
    {
     "name": "stdout",
     "output_type": "stream",
     "text": [
      "Epoch 160, Loss 0.0213\n",
      "Training Accuracy: 0.9747, Testing Accuracy: 0.9733\n",
      "\n"
     ]
    },
    {
     "name": "stdout",
     "output_type": "stream",
     "text": [
      "Epoch 170, Loss 0.0208\n",
      "Training Accuracy: 0.9755, Testing Accuracy: 0.9728\n",
      "\n"
     ]
    },
    {
     "name": "stdout",
     "output_type": "stream",
     "text": [
      "Epoch 180, Loss 0.0203\n",
      "Training Accuracy: 0.9766, Testing Accuracy: 0.9743\n",
      "\n"
     ]
    },
    {
     "name": "stdout",
     "output_type": "stream",
     "text": [
      "Epoch 190, Loss 0.0198\n",
      "Training Accuracy: 0.9773, Testing Accuracy: 0.9743\n",
      "\n"
     ]
    },
    {
     "name": "stdout",
     "output_type": "stream",
     "text": [
      "Epoch 200, Loss 0.0194\n",
      "Training Accuracy: 0.9780, Testing Accuracy: 0.9753\n",
      "\n"
     ]
    },
    {
     "name": "stdout",
     "output_type": "stream",
     "text": [
      "Epoch 210, Loss 0.0189\n",
      "Training Accuracy: 0.9782, Testing Accuracy: 0.9753\n",
      "\n"
     ]
    },
    {
     "name": "stdout",
     "output_type": "stream",
     "text": [
      "Epoch 220, Loss 0.0185\n",
      "Training Accuracy: 0.9795, Testing Accuracy: 0.9768\n",
      "\n"
     ]
    },
    {
     "name": "stdout",
     "output_type": "stream",
     "text": [
      "Epoch 230, Loss 0.0181\n",
      "Training Accuracy: 0.9796, Testing Accuracy: 0.9768\n",
      "\n"
     ]
    },
    {
     "name": "stdout",
     "output_type": "stream",
     "text": [
      "Epoch 240, Loss 0.0177\n",
      "Training Accuracy: 0.9806, Testing Accuracy: 0.9773\n",
      "\n"
     ]
    },
    {
     "data": {
      "text/plain": [
       "0.009281291749031808"
      ]
     },
     "execution_count": 22,
     "metadata": {},
     "output_type": "execute_result"
    }
   ],
   "source": [
    "nn_learner.train_loop(dl)"
   ]
  },
  {
   "cell_type": "code",
   "execution_count": 23,
   "id": "e0163366",
   "metadata": {
    "execution": {
     "iopub.execute_input": "2022-07-02T10:11:02.203556Z",
     "iopub.status.busy": "2022-07-02T10:11:02.202968Z",
     "iopub.status.idle": "2022-07-02T10:11:15.500946Z",
     "shell.execute_reply": "2022-07-02T10:11:15.501805Z"
    },
    "papermill": {
     "duration": 13.341778,
     "end_time": "2022-07-02T10:11:15.501963",
     "exception": false,
     "start_time": "2022-07-02T10:11:02.160185",
     "status": "completed"
    },
    "tags": []
   },
   "outputs": [
    {
     "name": "stdout",
     "output_type": "stream",
     "text": [
      "Epoch 0, Loss 0.2592\n",
      "Training Accuracy: 0.6015, Testing Accuracy: 0.6734\n",
      "\n"
     ]
    },
    {
     "name": "stdout",
     "output_type": "stream",
     "text": [
      "Epoch 10, Loss 0.1045\n",
      "Training Accuracy: 0.9037, Testing Accuracy: 0.9219\n",
      "\n"
     ]
    },
    {
     "name": "stdout",
     "output_type": "stream",
     "text": [
      "Epoch 20, Loss 0.0799\n",
      "Training Accuracy: 0.9252, Testing Accuracy: 0.9360\n",
      "\n"
     ]
    },
    {
     "name": "stdout",
     "output_type": "stream",
     "text": [
      "Epoch 30, Loss 0.0686\n",
      "Training Accuracy: 0.9354, Testing Accuracy: 0.9461\n",
      "\n"
     ]
    },
    {
     "name": "stdout",
     "output_type": "stream",
     "text": [
      "Epoch 40, Loss 0.0618\n",
      "Training Accuracy: 0.9418, Testing Accuracy: 0.9506\n",
      "\n"
     ]
    },
    {
     "name": "stdout",
     "output_type": "stream",
     "text": [
      "Epoch 50, Loss 0.0572\n",
      "Training Accuracy: 0.9465, Testing Accuracy: 0.9546\n",
      "\n"
     ]
    },
    {
     "name": "stdout",
     "output_type": "stream",
     "text": [
      "Epoch 60, Loss 0.0538\n",
      "Training Accuracy: 0.9493, Testing Accuracy: 0.9567\n",
      "\n"
     ]
    },
    {
     "name": "stdout",
     "output_type": "stream",
     "text": [
      "Epoch 70, Loss 0.0512\n",
      "Training Accuracy: 0.9506, Testing Accuracy: 0.9592\n",
      "\n"
     ]
    },
    {
     "name": "stdout",
     "output_type": "stream",
     "text": [
      "Epoch 80, Loss 0.0491\n",
      "Training Accuracy: 0.9518, Testing Accuracy: 0.9617\n",
      "\n"
     ]
    },
    {
     "name": "stdout",
     "output_type": "stream",
     "text": [
      "Epoch 90, Loss 0.0474\n",
      "Training Accuracy: 0.9528, Testing Accuracy: 0.9612\n",
      "\n"
     ]
    },
    {
     "name": "stdout",
     "output_type": "stream",
     "text": [
      "Epoch 100, Loss 0.046\n",
      "Training Accuracy: 0.9543, Testing Accuracy: 0.9612\n",
      "\n"
     ]
    },
    {
     "name": "stdout",
     "output_type": "stream",
     "text": [
      "Epoch 110, Loss 0.0448\n",
      "Training Accuracy: 0.9542, Testing Accuracy: 0.9632\n",
      "\n"
     ]
    },
    {
     "name": "stdout",
     "output_type": "stream",
     "text": [
      "Epoch 120, Loss 0.0437\n",
      "Training Accuracy: 0.9548, Testing Accuracy: 0.9642\n",
      "\n"
     ]
    },
    {
     "name": "stdout",
     "output_type": "stream",
     "text": [
      "Epoch 130, Loss 0.0427\n",
      "Training Accuracy: 0.9559, Testing Accuracy: 0.9642\n",
      "\n"
     ]
    },
    {
     "name": "stdout",
     "output_type": "stream",
     "text": [
      "Epoch 140, Loss 0.0419\n",
      "Training Accuracy: 0.9568, Testing Accuracy: 0.9647\n",
      "\n"
     ]
    },
    {
     "name": "stdout",
     "output_type": "stream",
     "text": [
      "Epoch 150, Loss 0.0412\n",
      "Training Accuracy: 0.9576, Testing Accuracy: 0.9647\n",
      "\n"
     ]
    },
    {
     "name": "stdout",
     "output_type": "stream",
     "text": [
      "Epoch 160, Loss 0.0405\n",
      "Training Accuracy: 0.9582, Testing Accuracy: 0.9652\n",
      "\n"
     ]
    },
    {
     "name": "stdout",
     "output_type": "stream",
     "text": [
      "Epoch 170, Loss 0.0399\n",
      "Training Accuracy: 0.9584, Testing Accuracy: 0.9657\n",
      "\n"
     ]
    },
    {
     "name": "stdout",
     "output_type": "stream",
     "text": [
      "Epoch 180, Loss 0.0393\n",
      "Training Accuracy: 0.9585, Testing Accuracy: 0.9657\n",
      "\n"
     ]
    },
    {
     "name": "stdout",
     "output_type": "stream",
     "text": [
      "Epoch 190, Loss 0.0388\n",
      "Training Accuracy: 0.9587, Testing Accuracy: 0.9662\n",
      "\n"
     ]
    },
    {
     "name": "stdout",
     "output_type": "stream",
     "text": [
      "Epoch 200, Loss 0.0383\n",
      "Training Accuracy: 0.9588, Testing Accuracy: 0.9667\n",
      "\n"
     ]
    },
    {
     "name": "stdout",
     "output_type": "stream",
     "text": [
      "Epoch 210, Loss 0.0379\n",
      "Training Accuracy: 0.9597, Testing Accuracy: 0.9667\n",
      "\n"
     ]
    },
    {
     "name": "stdout",
     "output_type": "stream",
     "text": [
      "Epoch 220, Loss 0.0375\n",
      "Training Accuracy: 0.9603, Testing Accuracy: 0.9667\n",
      "\n"
     ]
    },
    {
     "name": "stdout",
     "output_type": "stream",
     "text": [
      "Epoch 230, Loss 0.0371\n",
      "Training Accuracy: 0.9606, Testing Accuracy: 0.9662\n",
      "\n"
     ]
    },
    {
     "name": "stdout",
     "output_type": "stream",
     "text": [
      "Epoch 240, Loss 0.0367\n",
      "Training Accuracy: 0.9609, Testing Accuracy: 0.9662\n",
      "\n"
     ]
    },
    {
     "data": {
      "text/plain": [
       "0.06328718306748442"
      ]
     },
     "execution_count": 23,
     "metadata": {},
     "output_type": "execute_result"
    }
   ],
   "source": [
    "lr_learner.train_loop(dl)"
   ]
  },
  {
   "cell_type": "code",
   "execution_count": 24,
   "id": "ca410940",
   "metadata": {
    "execution": {
     "iopub.execute_input": "2022-07-02T10:11:15.593345Z",
     "iopub.status.busy": "2022-07-02T10:11:15.592734Z",
     "iopub.status.idle": "2022-07-02T10:11:15.826740Z",
     "shell.execute_reply": "2022-07-02T10:11:15.827543Z"
    },
    "papermill": {
     "duration": 0.284597,
     "end_time": "2022-07-02T10:11:15.827701",
     "exception": false,
     "start_time": "2022-07-02T10:11:15.543104",
     "status": "completed"
    },
    "tags": []
   },
   "outputs": [
    {
     "data": {
      "text/plain": [
       "<matplotlib.legend.Legend at 0x7f9298bfbc88>"
      ]
     },
     "execution_count": 24,
     "metadata": {},
     "output_type": "execute_result"
    },
    {
     "data": {
      "image/png": "[encoded data removed]",
      "text/plain": [
       "<Figure size 1080x720 with 1 Axes>"
      ]
     },
     "metadata": {
      "needs_background": "light"
     },
     "output_type": "display_data"
    }
   ],
   "source": [
    "#comparing the results of NN and LR\n",
    "plt.figure(figsize=(15,10))\n",
    "\n",
    "# Neural Network plots\n",
    "plt.plot(acc_nn.accuracies, 'r-', label = \"Training Accuracies - NN\")\n",
    "plt.plot(acc_nn.test_accuracies, 'g-', label = \"Testing Accuracies - NN\")\n",
    "\n",
    "# Logistic Regression plots\n",
    "plt.plot(acc_lr.accuracies, 'k-', label = \"Training Accuracies - LR\")\n",
    "plt.plot(acc_lr.test_accuracies, 'b-', label = \"Testing Accuracies - LR\")\n",
    "plt.legend()"
   ]
  },
  {
   "cell_type": "markdown",
   "id": "80dfb35c",
   "metadata": {
    "papermill": {
     "duration": 0.041551,
     "end_time": "2022-07-02T10:11:15.911076",
     "exception": false,
     "start_time": "2022-07-02T10:11:15.869525",
     "status": "completed"
    },
    "tags": []
   },
   "source": [
    "#### Plotting the outputs of this layer of the NN.\n"
   ]
  },
  {
   "cell_type": "code",
   "execution_count": 25,
   "id": "45eb2ff5",
   "metadata": {
    "execution": {
     "iopub.execute_input": "2022-07-02T10:11:15.998817Z",
     "iopub.status.busy": "2022-07-02T10:11:15.998214Z",
     "iopub.status.idle": "2022-07-02T10:11:16.018827Z",
     "shell.execute_reply": "2022-07-02T10:11:16.018215Z"
    },
    "papermill": {
     "duration": 0.066287,
     "end_time": "2022-07-02T10:11:16.018945",
     "exception": false,
     "start_time": "2022-07-02T10:11:15.952658",
     "status": "completed"
    },
    "tags": []
   },
   "outputs": [],
   "source": [
    "new_model = Model(layers[:-2])\n",
    "testing_plot = new_model(testing_data_x)"
   ]
  },
  {
   "cell_type": "code",
   "execution_count": 26,
   "id": "4c0a5485",
   "metadata": {
    "execution": {
     "iopub.execute_input": "2022-07-02T10:11:16.106986Z",
     "iopub.status.busy": "2022-07-02T10:11:16.106395Z",
     "iopub.status.idle": "2022-07-02T10:11:16.304923Z",
     "shell.execute_reply": "2022-07-02T10:11:16.304133Z"
    },
    "papermill": {
     "duration": 0.243961,
     "end_time": "2022-07-02T10:11:16.305053",
     "exception": false,
     "start_time": "2022-07-02T10:11:16.061092",
     "status": "completed"
    },
    "tags": []
   },
   "outputs": [
    {
     "data": {
      "text/plain": [
       "Text(0.5, 1.0, 'Outputs')"
      ]
     },
     "execution_count": 26,
     "metadata": {},
     "output_type": "execute_result"
    },
    {
     "data": {
      "image/png": "[encoded data removed]",
      "text/plain": [
       "<Figure size 576x504 with 1 Axes>"
      ]
     },
     "metadata": {
      "needs_background": "light"
     },
     "output_type": "display_data"
    }
   ],
   "source": [
    "# Plotting the scatter plot of points and color coding by class\n",
    "plt.figure(figsize=(8,7))\n",
    "plt.scatter(testing_plot[:,0], testing_plot[:,1], alpha = 0.1, c = y_test.ravel());\n",
    "plt.title('Outputs')"
   ]
  },
  {
   "cell_type": "markdown",
   "id": "a74fcf8f",
   "metadata": {
    "papermill": {
     "duration": 0.043702,
     "end_time": "2022-07-02T10:11:16.392779",
     "exception": false,
     "start_time": "2022-07-02T10:11:16.349077",
     "status": "completed"
    },
    "tags": []
   },
   "source": [
    "Probability contours"
   ]
  },
  {
   "cell_type": "code",
   "execution_count": 27,
   "id": "d0afc8e3",
   "metadata": {
    "execution": {
     "iopub.execute_input": "2022-07-02T10:11:16.510446Z",
     "iopub.status.busy": "2022-07-02T10:11:16.509679Z",
     "iopub.status.idle": "2022-07-02T10:11:16.524758Z",
     "shell.execute_reply": "2022-07-02T10:11:16.525191Z"
    },
    "papermill": {
     "duration": 0.088662,
     "end_time": "2022-07-02T10:11:16.525323",
     "exception": false,
     "start_time": "2022-07-02T10:11:16.436661",
     "status": "completed"
    },
    "tags": []
   },
   "outputs": [],
   "source": [
    "model_prob = Model(layers[-2:]) "
   ]
  },
  {
   "cell_type": "code",
   "execution_count": 28,
   "id": "9b96e238",
   "metadata": {
    "execution": {
     "iopub.execute_input": "2022-07-02T10:11:16.626294Z",
     "iopub.status.busy": "2022-07-02T10:11:16.619123Z",
     "iopub.status.idle": "2022-07-02T10:11:16.632507Z",
     "shell.execute_reply": "2022-07-02T10:11:16.633303Z"
    },
    "papermill": {
     "duration": 0.063389,
     "end_time": "2022-07-02T10:11:16.633439",
     "exception": false,
     "start_time": "2022-07-02T10:11:16.570050",
     "status": "completed"
    },
    "tags": []
   },
   "outputs": [],
   "source": [
    "#creating the x and y ranges according to the above generated plot.\n",
    "x_range = np.linspace(-4, 1, 100) \n",
    "y_range = np.linspace(-6, 6, 100) \n",
    "x_grid, y_grid = np.meshgrid(x_range, y_range) # x_grid and y_grig are of size 100 X 100\n",
    "\n",
    "# converting x_grid and y_grid to continuous arrays\n",
    "x_gridflat = np.ravel(x_grid)\n",
    "y_gridflat = np.ravel(y_grid)\n",
    "\n",
    "# The last layer of the current model takes two columns as input. Hence transpose of np.vstack() is required.\n",
    "X = np.vstack((x_gridflat, y_gridflat)).T\n",
    "\n",
    "prob_contour = model_prob(X).reshape(100,100) "
   ]
  },
  {
   "cell_type": "code",
   "execution_count": 29,
   "id": "da72499a",
   "metadata": {
    "execution": {
     "iopub.execute_input": "2022-07-02T10:11:16.729894Z",
     "iopub.status.busy": "2022-07-02T10:11:16.729260Z",
     "iopub.status.idle": "2022-07-02T10:11:16.975501Z",
     "shell.execute_reply": "2022-07-02T10:11:16.975971Z"
    },
    "papermill": {
     "duration": 0.298307,
     "end_time": "2022-07-02T10:11:16.976113",
     "exception": false,
     "start_time": "2022-07-02T10:11:16.677806",
     "status": "completed"
    },
    "tags": []
   },
   "outputs": [
    {
     "data": {
      "image/png": "[encoded data removed]",
      "text/plain": [
       "<Figure size 720x648 with 1 Axes>"
      ]
     },
     "metadata": {
      "needs_background": "light"
     },
     "output_type": "display_data"
    }
   ],
   "source": [
    "plt.figure(figsize=(10,9))\n",
    "plt.scatter(testing_plot[:,0], testing_plot[:,1], alpha = 0.1, c = y_test.ravel())\n",
    "contours = plt.contour(x_grid,y_grid,prob_contour)\n",
    "plt.title('Probability Contours')\n",
    "plt.clabel(contours, inline = True );"
   ]
  },
  {
   "cell_type": "code",
   "execution_count": null,
   "id": "e81b4ac7",
   "metadata": {
    "papermill": {
     "duration": 0.046393,
     "end_time": "2022-07-02T10:11:17.073791",
     "exception": false,
     "start_time": "2022-07-02T10:11:17.027398",
     "status": "completed"
    },
    "tags": []
   },
   "outputs": [],
   "source": []
  }
 ],
 "metadata": {
  "kernelspec": {
   "display_name": "Python 3",
   "language": "python",
   "name": "python3"
  },
  "language_info": {
   "codemirror_mode": {
    "name": "ipython",
    "version": 3
   },
   "file_extension": ".py",
   "mimetype": "text/x-python",
   "name": "python",
   "nbconvert_exporter": "python",
   "pygments_lexer": "ipython3",
   "version": "3.6.15"
  },
  "papermill": {
   "default_parameters": {},
   "duration": 95.67365,
   "end_time": "2022-07-02T10:11:17.542534",
   "environment_variables": {},
   "exception": null,
   "input_path": "2020-08-11-part2.ipynb",
   "output_path": "2020-08-11-part2.ipynb",
   "parameters": {},
   "start_time": "2022-07-02T10:09:41.868884",
   "version": "2.3.3"
  }
 },
 "nbformat": 4,
 "nbformat_minor": 5
}