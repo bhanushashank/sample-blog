{
 "cells": [
  {
   "cell_type": "markdown",
   "id": "98380cd3",
   "metadata": {
    "papermill": {
     "duration": 0.030197,
     "end_time": "2022-11-10T00:42:51.804244",
     "exception": false,
     "start_time": "2022-11-10T00:42:51.774047",
     "status": "completed"
    },
    "tags": []
   },
   "source": [
    "# Distinguish Your Own Digits (DYOD)"
   ]
  },
  {
   "cell_type": "markdown",
   "id": "ef31240d",
   "metadata": {
    "papermill": {
     "duration": 0.023821,
     "end_time": "2022-11-10T00:42:51.852521",
     "exception": false,
     "start_time": "2022-11-10T00:42:51.828700",
     "status": "completed"
    },
    "tags": []
   },
   "source": [
    "You are going to write a classifier that distinguishes between the number 3 and number 8."
   ]
  },
  {
   "cell_type": "code",
   "execution_count": 1,
   "id": "b15c8646",
   "metadata": {
    "execution": {
     "iopub.execute_input": "2022-11-10T00:42:51.910524Z",
     "iopub.status.busy": "2022-11-10T00:42:51.908271Z",
     "iopub.status.idle": "2022-11-10T00:42:51.921773Z",
     "shell.execute_reply": "2022-11-10T00:42:51.921254Z"
    },
    "papermill": {
     "duration": 0.045657,
     "end_time": "2022-11-10T00:42:51.921924",
     "exception": false,
     "start_time": "2022-11-10T00:42:51.876267",
     "status": "completed"
    },
    "tags": []
   },
   "outputs": [],
   "source": [
    "%load_ext autoreload\n",
    "%autoreload 2"
   ]
  },
  {
   "cell_type": "code",
   "execution_count": 2,
   "id": "22ef38dc",
   "metadata": {
    "execution": {
     "iopub.execute_input": "2022-11-10T00:42:51.974283Z",
     "iopub.status.busy": "2022-11-10T00:42:51.973632Z",
     "iopub.status.idle": "2022-11-10T00:42:52.534676Z",
     "shell.execute_reply": "2022-11-10T00:42:52.534077Z"
    },
    "papermill": {
     "duration": 0.589001,
     "end_time": "2022-11-10T00:42:52.534823",
     "exception": false,
     "start_time": "2022-11-10T00:42:51.945822",
     "status": "completed"
    },
    "tags": []
   },
   "outputs": [],
   "source": [
    "%matplotlib inline\n",
    "import numpy as np\n",
    "import matplotlib.pyplot as plt\n",
    "import pandas as pd"
   ]
  },
  {
   "cell_type": "markdown",
   "id": "ba036198",
   "metadata": {
    "papermill": {
     "duration": 0.023709,
     "end_time": "2022-11-10T00:42:52.582300",
     "exception": false,
     "start_time": "2022-11-10T00:42:52.558591",
     "status": "completed"
    },
    "tags": []
   },
   "source": [
    "From the command line run `pip install mnist`. This is a library that will help you bring down the mnist dataset. If you run this from a notebook, you need to put  `!pip install mnist` in a cell by itself."
   ]
  },
  {
   "cell_type": "code",
   "execution_count": 3,
   "id": "bb6ad8a1",
   "metadata": {
    "execution": {
     "iopub.execute_input": "2022-11-10T00:42:52.634326Z",
     "iopub.status.busy": "2022-11-10T00:42:52.633720Z",
     "iopub.status.idle": "2022-11-10T00:42:54.364632Z",
     "shell.execute_reply": "2022-11-10T00:42:54.365184Z"
    },
    "papermill": {
     "duration": 1.759267,
     "end_time": "2022-11-10T00:42:54.365363",
     "exception": false,
     "start_time": "2022-11-10T00:42:52.606096",
     "status": "completed"
    },
    "tags": []
   },
   "outputs": [
    {
     "name": "stdout",
     "output_type": "stream",
     "text": [
      "Collecting mnist\r\n"
     ]
    },
    {
     "name": "stdout",
     "output_type": "stream",
     "text": [
      "  Downloading mnist-0.2.2-py2.py3-none-any.whl (3.5 kB)\r\n"
     ]
    },
    {
     "name": "stdout",
     "output_type": "stream",
     "text": [
      "Requirement already satisfied: numpy in /opt/hostedtoolcache/Python/3.6.15/x64/lib/python3.6/site-packages (from mnist) (1.19.5)\r\n"
     ]
    },
    {
     "name": "stdout",
     "output_type": "stream",
     "text": [
      "Installing collected packages: mnist\r\n",
      "Successfully installed mnist-0.2.2\r\n"
     ]
    }
   ],
   "source": [
    "!pip install mnist"
   ]
  },
  {
   "cell_type": "markdown",
   "id": "69df9c9a",
   "metadata": {
    "papermill": {
     "duration": 0.026183,
     "end_time": "2022-11-10T00:42:54.416994",
     "exception": false,
     "start_time": "2022-11-10T00:42:54.390811",
     "status": "completed"
    },
    "tags": []
   },
   "source": [
    "## Preparing the Data"
   ]
  },
  {
   "cell_type": "code",
   "execution_count": 4,
   "id": "7f69d806",
   "metadata": {
    "execution": {
     "iopub.execute_input": "2022-11-10T00:42:54.478505Z",
     "iopub.status.busy": "2022-11-10T00:42:54.470829Z",
     "iopub.status.idle": "2022-11-10T00:42:54.485304Z",
     "shell.execute_reply": "2022-11-10T00:42:54.485891Z"
    },
    "papermill": {
     "duration": 0.044442,
     "end_time": "2022-11-10T00:42:54.486031",
     "exception": false,
     "start_time": "2022-11-10T00:42:54.441589",
     "status": "completed"
    },
    "tags": []
   },
   "outputs": [],
   "source": [
    "import mnist"
   ]
  },
  {
   "cell_type": "code",
   "execution_count": 5,
   "id": "a411e44f",
   "metadata": {
    "execution": {
     "iopub.execute_input": "2022-11-10T00:42:54.539510Z",
     "iopub.status.busy": "2022-11-10T00:42:54.538923Z",
     "iopub.status.idle": "2022-11-10T00:42:55.832921Z",
     "shell.execute_reply": "2022-11-10T00:42:55.832356Z"
    },
    "papermill": {
     "duration": 1.322305,
     "end_time": "2022-11-10T00:42:55.833050",
     "exception": false,
     "start_time": "2022-11-10T00:42:54.510745",
     "status": "completed"
    },
    "tags": []
   },
   "outputs": [],
   "source": [
    "train_images = mnist.train_images()\n",
    "train_labels = mnist.train_labels()"
   ]
  },
  {
   "cell_type": "code",
   "execution_count": 6,
   "id": "dceab3a5",
   "metadata": {
    "execution": {
     "iopub.execute_input": "2022-11-10T00:42:55.895241Z",
     "iopub.status.busy": "2022-11-10T00:42:55.894630Z",
     "iopub.status.idle": "2022-11-10T00:42:55.905163Z",
     "shell.execute_reply": "2022-11-10T00:42:55.904679Z"
    },
    "papermill": {
     "duration": 0.047162,
     "end_time": "2022-11-10T00:42:55.905278",
     "exception": false,
     "start_time": "2022-11-10T00:42:55.858116",
     "status": "completed"
    },
    "tags": []
   },
   "outputs": [
    {
     "data": {
      "text/plain": [
       "((60000, 28, 28), (60000,))"
      ]
     },
     "execution_count": 6,
     "metadata": {},
     "output_type": "execute_result"
    }
   ],
   "source": [
    "train_images.shape, train_labels.shape"
   ]
  },
  {
   "cell_type": "code",
   "execution_count": 7,
   "id": "f50dc2bb",
   "metadata": {
    "execution": {
     "iopub.execute_input": "2022-11-10T00:42:55.966538Z",
     "iopub.status.busy": "2022-11-10T00:42:55.963471Z",
     "iopub.status.idle": "2022-11-10T00:42:56.308976Z",
     "shell.execute_reply": "2022-11-10T00:42:56.308357Z"
    },
    "papermill": {
     "duration": 0.374546,
     "end_time": "2022-11-10T00:42:56.309117",
     "exception": false,
     "start_time": "2022-11-10T00:42:55.934571",
     "status": "completed"
    },
    "tags": []
   },
   "outputs": [],
   "source": [
    "test_images = mnist.test_images()\n",
    "test_labels = mnist.test_labels()"
   ]
  },
  {
   "cell_type": "code",
   "execution_count": 8,
   "id": "fc38cf1b",
   "metadata": {
    "execution": {
     "iopub.execute_input": "2022-11-10T00:42:56.374906Z",
     "iopub.status.busy": "2022-11-10T00:42:56.366882Z",
     "iopub.status.idle": "2022-11-10T00:42:56.380763Z",
     "shell.execute_reply": "2022-11-10T00:42:56.380277Z"
    },
    "papermill": {
     "duration": 0.043004,
     "end_time": "2022-11-10T00:42:56.380887",
     "exception": false,
     "start_time": "2022-11-10T00:42:56.337883",
     "status": "completed"
    },
    "tags": []
   },
   "outputs": [
    {
     "data": {
      "text/plain": [
       "((10000, 28, 28), (10000,))"
      ]
     },
     "execution_count": 8,
     "metadata": {},
     "output_type": "execute_result"
    }
   ],
   "source": [
    "test_images.shape, test_labels.shape"
   ]
  },
  {
   "cell_type": "code",
   "execution_count": 9,
   "id": "f9ed8fe0",
   "metadata": {
    "execution": {
     "iopub.execute_input": "2022-11-10T00:42:56.447739Z",
     "iopub.status.busy": "2022-11-10T00:42:56.446771Z",
     "iopub.status.idle": "2022-11-10T00:42:56.584155Z",
     "shell.execute_reply": "2022-11-10T00:42:56.583656Z"
    },
    "papermill": {
     "duration": 0.17766,
     "end_time": "2022-11-10T00:42:56.584278",
     "exception": false,
     "start_time": "2022-11-10T00:42:56.406618",
     "status": "completed"
    },
    "tags": []
   },
   "outputs": [
    {
     "name": "stdout",
     "output_type": "stream",
     "text": [
      "2\n"
     ]
    },
    {
     "data": {
      "text/plain": [
       "<matplotlib.image.AxesImage at 0x7fbe1c6bbe48>"
      ]
     },
     "execution_count": 9,
     "metadata": {},
     "output_type": "execute_result"
    },
    {
     "data": {
      "image/png": "[encoded data removed]",
      "text/plain": [
       "<Figure size 432x288 with 1 Axes>"
      ]
     },
     "metadata": {
      "needs_background": "light"
     },
     "output_type": "display_data"
    }
   ],
   "source": [
    "image_index = 7776 # You may select anything up to 60,000\n",
    "print(train_labels[image_index]) \n",
    "plt.imshow(train_images[image_index], cmap='Greys')"
   ]
  },
  {
   "cell_type": "markdown",
   "id": "a8d2388d",
   "metadata": {
    "papermill": {
     "duration": 0.031253,
     "end_time": "2022-11-10T00:42:56.642019",
     "exception": false,
     "start_time": "2022-11-10T00:42:56.610766",
     "status": "completed"
    },
    "tags": []
   },
   "source": [
    "## Filter data to get 3 and 8 out"
   ]
  },
  {
   "cell_type": "code",
   "execution_count": 10,
   "id": "776f7fc7",
   "metadata": {
    "execution": {
     "iopub.execute_input": "2022-11-10T00:42:56.702986Z",
     "iopub.status.busy": "2022-11-10T00:42:56.702376Z",
     "iopub.status.idle": "2022-11-10T00:42:56.718201Z",
     "shell.execute_reply": "2022-11-10T00:42:56.717730Z"
    },
    "papermill": {
     "duration": 0.049608,
     "end_time": "2022-11-10T00:42:56.718325",
     "exception": false,
     "start_time": "2022-11-10T00:42:56.668717",
     "status": "completed"
    },
    "tags": []
   },
   "outputs": [],
   "source": [
    "train_filter = np.where((train_labels == 3 ) | (train_labels == 8))\n",
    "test_filter = np.where((test_labels == 3) | (test_labels == 8))\n",
    "X_train, y_train = train_images[train_filter], train_labels[train_filter]\n",
    "X_test, y_test = test_images[test_filter], test_labels[test_filter]"
   ]
  },
  {
   "cell_type": "markdown",
   "id": "948f0b7e",
   "metadata": {
    "papermill": {
     "duration": 0.026331,
     "end_time": "2022-11-10T00:42:56.771083",
     "exception": false,
     "start_time": "2022-11-10T00:42:56.744752",
     "status": "completed"
    },
    "tags": []
   },
   "source": [
    "We normalize the pizel values in the 0 to 1 range"
   ]
  },
  {
   "cell_type": "code",
   "execution_count": 11,
   "id": "ee4c2166",
   "metadata": {
    "execution": {
     "iopub.execute_input": "2022-11-10T00:42:56.829754Z",
     "iopub.status.busy": "2022-11-10T00:42:56.829129Z",
     "iopub.status.idle": "2022-11-10T00:42:56.873958Z",
     "shell.execute_reply": "2022-11-10T00:42:56.873347Z"
    },
    "papermill": {
     "duration": 0.076835,
     "end_time": "2022-11-10T00:42:56.874099",
     "exception": false,
     "start_time": "2022-11-10T00:42:56.797264",
     "status": "completed"
    },
    "tags": []
   },
   "outputs": [],
   "source": [
    "X_train = X_train/255.\n",
    "X_test = X_test/255."
   ]
  },
  {
   "cell_type": "markdown",
   "id": "ddcf4fab",
   "metadata": {
    "papermill": {
     "duration": 0.026372,
     "end_time": "2022-11-10T00:42:56.927288",
     "exception": false,
     "start_time": "2022-11-10T00:42:56.900916",
     "status": "completed"
    },
    "tags": []
   },
   "source": [
    "And setup the labels as 1 (when the digit is 3) and 0 (when the digit is 8)"
   ]
  },
  {
   "cell_type": "code",
   "execution_count": 12,
   "id": "7dc908f2",
   "metadata": {
    "execution": {
     "iopub.execute_input": "2022-11-10T00:42:56.985538Z",
     "iopub.status.busy": "2022-11-10T00:42:56.984953Z",
     "iopub.status.idle": "2022-11-10T00:42:56.998077Z",
     "shell.execute_reply": "2022-11-10T00:42:56.997548Z"
    },
    "papermill": {
     "duration": 0.044585,
     "end_time": "2022-11-10T00:42:56.998201",
     "exception": false,
     "start_time": "2022-11-10T00:42:56.953616",
     "status": "completed"
    },
    "tags": []
   },
   "outputs": [],
   "source": [
    "y_train = 1*(y_train==3)\n",
    "y_test = 1*(y_test==3)"
   ]
  },
  {
   "cell_type": "code",
   "execution_count": 13,
   "id": "01e4e969",
   "metadata": {
    "execution": {
     "iopub.execute_input": "2022-11-10T00:42:57.059484Z",
     "iopub.status.busy": "2022-11-10T00:42:57.058783Z",
     "iopub.status.idle": "2022-11-10T00:42:57.073309Z",
     "shell.execute_reply": "2022-11-10T00:42:57.074088Z"
    },
    "papermill": {
     "duration": 0.049109,
     "end_time": "2022-11-10T00:42:57.074238",
     "exception": false,
     "start_time": "2022-11-10T00:42:57.025129",
     "status": "completed"
    },
    "tags": []
   },
   "outputs": [
    {
     "data": {
      "text/plain": [
       "((11982, 28, 28), (1984, 28, 28))"
      ]
     },
     "execution_count": 13,
     "metadata": {},
     "output_type": "execute_result"
    }
   ],
   "source": [
    "X_train.shape, X_test.shape"
   ]
  },
  {
   "cell_type": "markdown",
   "id": "5ccf3f85",
   "metadata": {
    "papermill": {
     "duration": 0.026922,
     "end_time": "2022-11-10T00:42:57.127891",
     "exception": false,
     "start_time": "2022-11-10T00:42:57.100969",
     "status": "completed"
    },
    "tags": []
   },
   "source": [
    "We reshape the data to flatten the image pixels into a set of features or co-variates:"
   ]
  },
  {
   "cell_type": "code",
   "execution_count": 14,
   "id": "5286a4a3",
   "metadata": {
    "execution": {
     "iopub.execute_input": "2022-11-10T00:42:57.194447Z",
     "iopub.status.busy": "2022-11-10T00:42:57.193796Z",
     "iopub.status.idle": "2022-11-10T00:42:57.205411Z",
     "shell.execute_reply": "2022-11-10T00:42:57.204928Z"
    },
    "papermill": {
     "duration": 0.050913,
     "end_time": "2022-11-10T00:42:57.205533",
     "exception": false,
     "start_time": "2022-11-10T00:42:57.154620",
     "status": "completed"
    },
    "tags": []
   },
   "outputs": [
    {
     "data": {
      "text/plain": [
       "((11982, 784), (1984, 784))"
      ]
     },
     "execution_count": 14,
     "metadata": {},
     "output_type": "execute_result"
    }
   ],
   "source": [
    "X_train = X_train.reshape(X_train.shape[0], -1)\n",
    "X_test = X_test.reshape(X_test.shape[0], -1)\n",
    "X_train.shape, X_test.shape"
   ]
  },
  {
   "cell_type": "code",
   "execution_count": 15,
   "id": "73c5f88a",
   "metadata": {
    "execution": {
     "iopub.execute_input": "2022-11-10T00:42:57.270427Z",
     "iopub.status.busy": "2022-11-10T00:42:57.269798Z",
     "iopub.status.idle": "2022-11-10T00:42:57.285944Z",
     "shell.execute_reply": "2022-11-10T00:42:57.286392Z"
    },
    "papermill": {
     "duration": 0.053156,
     "end_time": "2022-11-10T00:42:57.286541",
     "exception": false,
     "start_time": "2022-11-10T00:42:57.233385",
     "status": "completed"
    },
    "tags": []
   },
   "outputs": [],
   "source": [
    "#Impoting functions from 'Kudzu'\n",
    "from kudzu.model import Model\n",
    "from kudzu.train import Learner\n",
    "from kudzu.optim import GD\n",
    "from kudzu.data import Data, Sampler,Dataloader\n",
    "\n",
    "from kudzu.callbacks import AccCallback\n",
    "from kudzu.callbacks import ClfCallback\n",
    "\n",
    "from kudzu.loss import MSE\n",
    "\n",
    "from kudzu.layer import Sigmoid,Relu\n",
    "from kudzu.layer import Affine"
   ]
  },
  {
   "cell_type": "markdown",
   "id": "bc01172a",
   "metadata": {
    "papermill": {
     "duration": 0.026792,
     "end_time": "2022-11-10T00:42:57.340431",
     "exception": false,
     "start_time": "2022-11-10T00:42:57.313639",
     "status": "completed"
    },
    "tags": []
   },
   "source": [
    "### Let us create a `Config` class, to store important parameters. \n",
    "This class essentially plays the role of a dictionary."
   ]
  },
  {
   "cell_type": "code",
   "execution_count": 16,
   "id": "978281aa",
   "metadata": {
    "execution": {
     "iopub.execute_input": "2022-11-10T00:42:57.399216Z",
     "iopub.status.busy": "2022-11-10T00:42:57.398613Z",
     "iopub.status.idle": "2022-11-10T00:42:57.411256Z",
     "shell.execute_reply": "2022-11-10T00:42:57.410770Z"
    },
    "papermill": {
     "duration": 0.044052,
     "end_time": "2022-11-10T00:42:57.411374",
     "exception": false,
     "start_time": "2022-11-10T00:42:57.367322",
     "status": "completed"
    },
    "tags": []
   },
   "outputs": [],
   "source": [
    "class Config:\n",
    "    pass\n",
    "config = Config()\n",
    "config.lr = 0.001\n",
    "config.num_epochs = 250\n",
    "config.bs = 50"
   ]
  },
  {
   "cell_type": "markdown",
   "id": "1385fa59",
   "metadata": {
    "papermill": {
     "duration": 0.026878,
     "end_time": "2022-11-10T00:42:57.465319",
     "exception": false,
     "start_time": "2022-11-10T00:42:57.438441",
     "status": "completed"
    },
    "tags": []
   },
   "source": [
    "### Running Models with the Training data\n",
    "Details about the network layers:\n",
    "- A first affine layer has 784 inputs and does 100 affine transforms. These are followed by a Relu\n",
    "- A second affine layer has 100 inputs from the 100 activations of the past layer, and does 100 affine transforms. These are followed by a Relu\n",
    "- A third affine layer has 100 activations and does 2 affine transformations to create an embedding for visualization. There is no non-linearity here.\n",
    "- A final \"logistic regression\" which has an affine transform from 2 inputs to 1 output, which is squeezed through a sigmoid.\n"
   ]
  },
  {
   "cell_type": "code",
   "execution_count": 17,
   "id": "2b9c66db",
   "metadata": {
    "execution": {
     "iopub.execute_input": "2022-11-10T00:42:57.527246Z",
     "iopub.status.busy": "2022-11-10T00:42:57.526588Z",
     "iopub.status.idle": "2022-11-10T00:42:57.537602Z",
     "shell.execute_reply": "2022-11-10T00:42:57.537065Z"
    },
    "papermill": {
     "duration": 0.04559,
     "end_time": "2022-11-10T00:42:57.537752",
     "exception": false,
     "start_time": "2022-11-10T00:42:57.492162",
     "status": "completed"
    },
    "tags": []
   },
   "outputs": [],
   "source": [
    "data = Data(X_train, y_train.reshape(-1,1))\n",
    "sampler = Sampler(data, config.bs, shuffle=True)\n",
    "\n",
    "dl = Dataloader(data, sampler)\n",
    "\n",
    "opt = GD(config.lr)\n",
    "loss = MSE()"
   ]
  },
  {
   "cell_type": "code",
   "execution_count": 18,
   "id": "b275e4c2",
   "metadata": {
    "execution": {
     "iopub.execute_input": "2022-11-10T00:42:57.612395Z",
     "iopub.status.busy": "2022-11-10T00:42:57.611762Z",
     "iopub.status.idle": "2022-11-10T00:42:57.614142Z",
     "shell.execute_reply": "2022-11-10T00:42:57.614601Z"
    },
    "papermill": {
     "duration": 0.049869,
     "end_time": "2022-11-10T00:42:57.614742",
     "exception": false,
     "start_time": "2022-11-10T00:42:57.564873",
     "status": "completed"
    },
    "tags": []
   },
   "outputs": [],
   "source": [
    "training_data_x = X_train\n",
    "testing_data_x = X_test\n",
    "training_data_y = y_train.reshape(-1,1)\n",
    "testing_data_y = y_test.reshape(-1,1)"
   ]
  },
  {
   "cell_type": "code",
   "execution_count": 19,
   "id": "76951160",
   "metadata": {
    "execution": {
     "iopub.execute_input": "2022-11-10T00:42:57.678280Z",
     "iopub.status.busy": "2022-11-10T00:42:57.677560Z",
     "iopub.status.idle": "2022-11-10T00:42:57.693722Z",
     "shell.execute_reply": "2022-11-10T00:42:57.694212Z"
    },
    "papermill": {
     "duration": 0.048297,
     "end_time": "2022-11-10T00:42:57.694347",
     "exception": false,
     "start_time": "2022-11-10T00:42:57.646050",
     "status": "completed"
    },
    "tags": []
   },
   "outputs": [
    {
     "name": "stdout",
     "output_type": "stream",
     "text": [
      "xavier\n",
      "xavier\n",
      "xavier\n",
      "xavier\n",
      "xavier\n"
     ]
    }
   ],
   "source": [
    "layers = [Affine(\"first\", 784, 100), Relu(\"first\"), Affine(\"second\", 100, 100), Relu(\"second\"), Affine(\"third\", 100, 2), Affine(\"last\", 2, 1), Sigmoid(\"last\")]\n",
    "model_nn = Model(layers)\n",
    "model_lr = Model([Affine(\"logits\", 784, 1), Sigmoid(\"sigmoid\")])"
   ]
  },
  {
   "cell_type": "code",
   "execution_count": 20,
   "id": "6eede77a",
   "metadata": {
    "execution": {
     "iopub.execute_input": "2022-11-10T00:42:57.759375Z",
     "iopub.status.busy": "2022-11-10T00:42:57.758692Z",
     "iopub.status.idle": "2022-11-10T00:42:57.770854Z",
     "shell.execute_reply": "2022-11-10T00:42:57.771312Z"
    },
    "papermill": {
     "duration": 0.045169,
     "end_time": "2022-11-10T00:42:57.771451",
     "exception": false,
     "start_time": "2022-11-10T00:42:57.726282",
     "status": "completed"
    },
    "tags": []
   },
   "outputs": [],
   "source": [
    "nn_learner = Learner(loss, model_nn, opt, config.num_epochs)\n",
    "acc_nn = ClfCallback(nn_learner, config.bs, training_data_x , testing_data_x, training_data_y, testing_data_y)\n",
    "nn_learner.set_callbacks([acc_nn])"
   ]
  },
  {
   "cell_type": "code",
   "execution_count": 21,
   "id": "877b6cc7",
   "metadata": {
    "execution": {
     "iopub.execute_input": "2022-11-10T00:42:57.836920Z",
     "iopub.status.busy": "2022-11-10T00:42:57.836320Z",
     "iopub.status.idle": "2022-11-10T00:42:57.848023Z",
     "shell.execute_reply": "2022-11-10T00:42:57.848485Z"
    },
    "papermill": {
     "duration": 0.049724,
     "end_time": "2022-11-10T00:42:57.848626",
     "exception": false,
     "start_time": "2022-11-10T00:42:57.798902",
     "status": "completed"
    },
    "tags": []
   },
   "outputs": [],
   "source": [
    "lr_learner = Learner(loss, model_lr, opt, config.num_epochs)\n",
    "acc_lr = ClfCallback(lr_learner, config.bs, training_data_x , testing_data_x, training_data_y, testing_data_y)\n",
    "lr_learner.set_callbacks([acc_lr])"
   ]
  },
  {
   "cell_type": "code",
   "execution_count": 22,
   "id": "d9b133c3",
   "metadata": {
    "execution": {
     "iopub.execute_input": "2022-11-10T00:42:57.911204Z",
     "iopub.status.busy": "2022-11-10T00:42:57.910614Z",
     "iopub.status.idle": "2022-11-10T00:44:20.017896Z",
     "shell.execute_reply": "2022-11-10T00:44:20.018759Z"
    },
    "papermill": {
     "duration": 82.142841,
     "end_time": "2022-11-10T00:44:20.018912",
     "exception": false,
     "start_time": "2022-11-10T00:42:57.876071",
     "status": "completed"
    },
    "tags": []
   },
   "outputs": [
    {
     "name": "stdout",
     "output_type": "stream",
     "text": [
      "Epoch 0, Loss 0.2465\n",
      "Training Accuracy: 0.5188, Testing Accuracy: 0.5222\n",
      "\n"
     ]
    },
    {
     "name": "stdout",
     "output_type": "stream",
     "text": [
      "Epoch 10, Loss 0.129\n",
      "Training Accuracy: 0.9107, Testing Accuracy: 0.9244\n",
      "\n"
     ]
    },
    {
     "name": "stdout",
     "output_type": "stream",
     "text": [
      "Epoch 20, Loss 0.0667\n",
      "Training Accuracy: 0.9395, Testing Accuracy: 0.9466\n",
      "\n"
     ]
    },
    {
     "name": "stdout",
     "output_type": "stream",
     "text": [
      "Epoch 30, Loss 0.0486\n",
      "Training Accuracy: 0.9503, Testing Accuracy: 0.9561\n",
      "\n"
     ]
    },
    {
     "name": "stdout",
     "output_type": "stream",
     "text": [
      "Epoch 40, Loss 0.041\n",
      "Training Accuracy: 0.9556, Testing Accuracy: 0.9637\n",
      "\n"
     ]
    },
    {
     "name": "stdout",
     "output_type": "stream",
     "text": [
      "Epoch 50, Loss 0.0368\n",
      "Training Accuracy: 0.9594, Testing Accuracy: 0.9622\n",
      "\n"
     ]
    },
    {
     "name": "stdout",
     "output_type": "stream",
     "text": [
      "Epoch 60, Loss 0.0341\n",
      "Training Accuracy: 0.9617, Testing Accuracy: 0.9647\n",
      "\n"
     ]
    },
    {
     "name": "stdout",
     "output_type": "stream",
     "text": [
      "Epoch 70, Loss 0.0322\n",
      "Training Accuracy: 0.9638, Testing Accuracy: 0.9677\n",
      "\n"
     ]
    },
    {
     "name": "stdout",
     "output_type": "stream",
     "text": [
      "Epoch 80, Loss 0.0307\n",
      "Training Accuracy: 0.9653, Testing Accuracy: 0.9688\n",
      "\n"
     ]
    },
    {
     "name": "stdout",
     "output_type": "stream",
     "text": [
      "Epoch 90, Loss 0.0295\n",
      "Training Accuracy: 0.9669, Testing Accuracy: 0.9688\n",
      "\n"
     ]
    },
    {
     "name": "stdout",
     "output_type": "stream",
     "text": [
      "Epoch 100, Loss 0.0285\n",
      "Training Accuracy: 0.9680, Testing Accuracy: 0.9688\n",
      "\n"
     ]
    },
    {
     "name": "stdout",
     "output_type": "stream",
     "text": [
      "Epoch 110, Loss 0.0277\n",
      "Training Accuracy: 0.9692, Testing Accuracy: 0.9688\n",
      "\n"
     ]
    },
    {
     "name": "stdout",
     "output_type": "stream",
     "text": [
      "Epoch 120, Loss 0.0269\n",
      "Training Accuracy: 0.9702, Testing Accuracy: 0.9698\n",
      "\n"
     ]
    },
    {
     "name": "stdout",
     "output_type": "stream",
     "text": [
      "Epoch 130, Loss 0.0263\n",
      "Training Accuracy: 0.9707, Testing Accuracy: 0.9693\n",
      "\n"
     ]
    },
    {
     "name": "stdout",
     "output_type": "stream",
     "text": [
      "Epoch 140, Loss 0.0257\n",
      "Training Accuracy: 0.9712, Testing Accuracy: 0.9693\n",
      "\n"
     ]
    },
    {
     "name": "stdout",
     "output_type": "stream",
     "text": [
      "Epoch 150, Loss 0.0251\n",
      "Training Accuracy: 0.9721, Testing Accuracy: 0.9693\n",
      "\n"
     ]
    },
    {
     "name": "stdout",
     "output_type": "stream",
     "text": [
      "Epoch 160, Loss 0.0246\n",
      "Training Accuracy: 0.9727, Testing Accuracy: 0.9693\n",
      "\n"
     ]
    },
    {
     "name": "stdout",
     "output_type": "stream",
     "text": [
      "Epoch 170, Loss 0.0241\n",
      "Training Accuracy: 0.9728, Testing Accuracy: 0.9698\n",
      "\n"
     ]
    },
    {
     "name": "stdout",
     "output_type": "stream",
     "text": [
      "Epoch 180, Loss 0.0237\n",
      "Training Accuracy: 0.9729, Testing Accuracy: 0.9703\n",
      "\n"
     ]
    },
    {
     "name": "stdout",
     "output_type": "stream",
     "text": [
      "Epoch 190, Loss 0.0233\n",
      "Training Accuracy: 0.9734, Testing Accuracy: 0.9693\n",
      "\n"
     ]
    },
    {
     "name": "stdout",
     "output_type": "stream",
     "text": [
      "Epoch 200, Loss 0.0229\n",
      "Training Accuracy: 0.9740, Testing Accuracy: 0.9698\n",
      "\n"
     ]
    },
    {
     "name": "stdout",
     "output_type": "stream",
     "text": [
      "Epoch 210, Loss 0.0225\n",
      "Training Accuracy: 0.9740, Testing Accuracy: 0.9698\n",
      "\n"
     ]
    },
    {
     "name": "stdout",
     "output_type": "stream",
     "text": [
      "Epoch 220, Loss 0.0222\n",
      "Training Accuracy: 0.9745, Testing Accuracy: 0.9698\n",
      "\n"
     ]
    },
    {
     "name": "stdout",
     "output_type": "stream",
     "text": [
      "Epoch 230, Loss 0.0219\n",
      "Training Accuracy: 0.9744, Testing Accuracy: 0.9698\n",
      "\n"
     ]
    },
    {
     "name": "stdout",
     "output_type": "stream",
     "text": [
      "Epoch 240, Loss 0.0215\n",
      "Training Accuracy: 0.9745, Testing Accuracy: 0.9698\n",
      "\n"
     ]
    },
    {
     "data": {
      "text/plain": [
       "0.052781027273075126"
      ]
     },
     "execution_count": 22,
     "metadata": {},
     "output_type": "execute_result"
    }
   ],
   "source": [
    "nn_learner.train_loop(dl)"
   ]
  },
  {
   "cell_type": "code",
   "execution_count": 23,
   "id": "e0163366",
   "metadata": {
    "execution": {
     "iopub.execute_input": "2022-11-10T00:44:20.099301Z",
     "iopub.status.busy": "2022-11-10T00:44:20.098699Z",
     "iopub.status.idle": "2022-11-10T00:44:34.707431Z",
     "shell.execute_reply": "2022-11-10T00:44:34.708269Z"
    },
    "papermill": {
     "duration": 14.654098,
     "end_time": "2022-11-10T00:44:34.708423",
     "exception": false,
     "start_time": "2022-11-10T00:44:20.054325",
     "status": "completed"
    },
    "tags": []
   },
   "outputs": [
    {
     "name": "stdout",
     "output_type": "stream",
     "text": [
      "Epoch 0, Loss 0.2234\n",
      "Training Accuracy: 0.7505, Testing Accuracy: 0.7591\n",
      "\n"
     ]
    },
    {
     "name": "stdout",
     "output_type": "stream",
     "text": [
      "Epoch 10, Loss 0.1021\n",
      "Training Accuracy: 0.9079, Testing Accuracy: 0.9249\n",
      "\n"
     ]
    },
    {
     "name": "stdout",
     "output_type": "stream",
     "text": [
      "Epoch 20, Loss 0.0792\n",
      "Training Accuracy: 0.9254, Testing Accuracy: 0.9360\n",
      "\n"
     ]
    },
    {
     "name": "stdout",
     "output_type": "stream",
     "text": [
      "Epoch 30, Loss 0.0684\n",
      "Training Accuracy: 0.9343, Testing Accuracy: 0.9451\n",
      "\n"
     ]
    },
    {
     "name": "stdout",
     "output_type": "stream",
     "text": [
      "Epoch 40, Loss 0.0618\n",
      "Training Accuracy: 0.9390, Testing Accuracy: 0.9521\n",
      "\n"
     ]
    },
    {
     "name": "stdout",
     "output_type": "stream",
     "text": [
      "Epoch 50, Loss 0.0573\n",
      "Training Accuracy: 0.9420, Testing Accuracy: 0.9546\n",
      "\n"
     ]
    },
    {
     "name": "stdout",
     "output_type": "stream",
     "text": [
      "Epoch 60, Loss 0.0539\n",
      "Training Accuracy: 0.9453, Testing Accuracy: 0.9572\n",
      "\n"
     ]
    },
    {
     "name": "stdout",
     "output_type": "stream",
     "text": [
      "Epoch 70, Loss 0.0514\n",
      "Training Accuracy: 0.9473, Testing Accuracy: 0.9577\n",
      "\n"
     ]
    },
    {
     "name": "stdout",
     "output_type": "stream",
     "text": [
      "Epoch 80, Loss 0.0493\n",
      "Training Accuracy: 0.9488, Testing Accuracy: 0.9602\n",
      "\n"
     ]
    },
    {
     "name": "stdout",
     "output_type": "stream",
     "text": [
      "Epoch 90, Loss 0.0476\n",
      "Training Accuracy: 0.9509, Testing Accuracy: 0.9617\n",
      "\n"
     ]
    },
    {
     "name": "stdout",
     "output_type": "stream",
     "text": [
      "Epoch 100, Loss 0.0462\n",
      "Training Accuracy: 0.9520, Testing Accuracy: 0.9632\n",
      "\n"
     ]
    },
    {
     "name": "stdout",
     "output_type": "stream",
     "text": [
      "Epoch 110, Loss 0.045\n",
      "Training Accuracy: 0.9529, Testing Accuracy: 0.9627\n",
      "\n"
     ]
    },
    {
     "name": "stdout",
     "output_type": "stream",
     "text": [
      "Epoch 120, Loss 0.0439\n",
      "Training Accuracy: 0.9536, Testing Accuracy: 0.9632\n",
      "\n"
     ]
    },
    {
     "name": "stdout",
     "output_type": "stream",
     "text": [
      "Epoch 130, Loss 0.043\n",
      "Training Accuracy: 0.9545, Testing Accuracy: 0.9632\n",
      "\n"
     ]
    },
    {
     "name": "stdout",
     "output_type": "stream",
     "text": [
      "Epoch 140, Loss 0.0421\n",
      "Training Accuracy: 0.9552, Testing Accuracy: 0.9642\n",
      "\n"
     ]
    },
    {
     "name": "stdout",
     "output_type": "stream",
     "text": [
      "Epoch 150, Loss 0.0414\n",
      "Training Accuracy: 0.9561, Testing Accuracy: 0.9647\n",
      "\n"
     ]
    },
    {
     "name": "stdout",
     "output_type": "stream",
     "text": [
      "Epoch 160, Loss 0.0407\n",
      "Training Accuracy: 0.9565, Testing Accuracy: 0.9642\n",
      "\n"
     ]
    },
    {
     "name": "stdout",
     "output_type": "stream",
     "text": [
      "Epoch 170, Loss 0.0401\n",
      "Training Accuracy: 0.9569, Testing Accuracy: 0.9642\n",
      "\n"
     ]
    },
    {
     "name": "stdout",
     "output_type": "stream",
     "text": [
      "Epoch 180, Loss 0.0395\n",
      "Training Accuracy: 0.9575, Testing Accuracy: 0.9642\n",
      "\n"
     ]
    },
    {
     "name": "stdout",
     "output_type": "stream",
     "text": [
      "Epoch 190, Loss 0.039\n",
      "Training Accuracy: 0.9579, Testing Accuracy: 0.9647\n",
      "\n"
     ]
    },
    {
     "name": "stdout",
     "output_type": "stream",
     "text": [
      "Epoch 200, Loss 0.0385\n",
      "Training Accuracy: 0.9584, Testing Accuracy: 0.9652\n",
      "\n"
     ]
    },
    {
     "name": "stdout",
     "output_type": "stream",
     "text": [
      "Epoch 210, Loss 0.0381\n",
      "Training Accuracy: 0.9586, Testing Accuracy: 0.9652\n",
      "\n"
     ]
    },
    {
     "name": "stdout",
     "output_type": "stream",
     "text": [
      "Epoch 220, Loss 0.0377\n",
      "Training Accuracy: 0.9594, Testing Accuracy: 0.9662\n",
      "\n"
     ]
    },
    {
     "name": "stdout",
     "output_type": "stream",
     "text": [
      "Epoch 230, Loss 0.0373\n",
      "Training Accuracy: 0.9599, Testing Accuracy: 0.9662\n",
      "\n"
     ]
    },
    {
     "name": "stdout",
     "output_type": "stream",
     "text": [
      "Epoch 240, Loss 0.0369\n",
      "Training Accuracy: 0.9602, Testing Accuracy: 0.9662\n",
      "\n"
     ]
    },
    {
     "data": {
      "text/plain": [
       "0.07688345727494042"
      ]
     },
     "execution_count": 23,
     "metadata": {},
     "output_type": "execute_result"
    }
   ],
   "source": [
    "lr_learner.train_loop(dl)"
   ]
  },
  {
   "cell_type": "code",
   "execution_count": 24,
   "id": "ca410940",
   "metadata": {
    "execution": {
     "iopub.execute_input": "2022-11-10T00:44:34.803343Z",
     "iopub.status.busy": "2022-11-10T00:44:34.802731Z",
     "iopub.status.idle": "2022-11-10T00:44:35.040468Z",
     "shell.execute_reply": "2022-11-10T00:44:35.041221Z"
    },
    "papermill": {
     "duration": 0.291044,
     "end_time": "2022-11-10T00:44:35.041380",
     "exception": false,
     "start_time": "2022-11-10T00:44:34.750336",
     "status": "completed"
    },
    "tags": []
   },
   "outputs": [
    {
     "data": {
      "text/plain": [
       "<matplotlib.legend.Legend at 0x7fbe0fa7d550>"
      ]
     },
     "execution_count": 24,
     "metadata": {},
     "output_type": "execute_result"
    },
    {
     "data": {
      "image/png": "[encoded data removed]",
      "text/plain": [
       "<Figure size 1080x720 with 1 Axes>"
      ]
     },
     "metadata": {
      "needs_background": "light"
     },
     "output_type": "display_data"
    }
   ],
   "source": [
    "#comparing the results of NN and LR\n",
    "plt.figure(figsize=(15,10))\n",
    "\n",
    "# Neural Network plots\n",
    "plt.plot(acc_nn.accuracies, 'r-', label = \"Training Accuracies - NN\")\n",
    "plt.plot(acc_nn.test_accuracies, 'g-', label = \"Testing Accuracies - NN\")\n",
    "\n",
    "# Logistic Regression plots\n",
    "plt.plot(acc_lr.accuracies, 'k-', label = \"Training Accuracies - LR\")\n",
    "plt.plot(acc_lr.test_accuracies, 'b-', label = \"Testing Accuracies - LR\")\n",
    "plt.legend()"
   ]
  },
  {
   "cell_type": "markdown",
   "id": "80dfb35c",
   "metadata": {
    "papermill": {
     "duration": 0.041891,
     "end_time": "2022-11-10T00:44:35.125974",
     "exception": false,
     "start_time": "2022-11-10T00:44:35.084083",
     "status": "completed"
    },
    "tags": []
   },
   "source": [
    "#### Plotting the outputs of this layer of the NN.\n"
   ]
  },
  {
   "cell_type": "code",
   "execution_count": 25,
   "id": "45eb2ff5",
   "metadata": {
    "execution": {
     "iopub.execute_input": "2022-11-10T00:44:35.221042Z",
     "iopub.status.busy": "2022-11-10T00:44:35.218859Z",
     "iopub.status.idle": "2022-11-10T00:44:35.240397Z",
     "shell.execute_reply": "2022-11-10T00:44:35.239862Z"
    },
    "papermill": {
     "duration": 0.072689,
     "end_time": "2022-11-10T00:44:35.240532",
     "exception": false,
     "start_time": "2022-11-10T00:44:35.167843",
     "status": "completed"
    },
    "tags": []
   },
   "outputs": [],
   "source": [
    "new_model = Model(layers[:-2])\n",
    "testing_plot = new_model(testing_data_x)"
   ]
  },
  {
   "cell_type": "code",
   "execution_count": 26,
   "id": "4c0a5485",
   "metadata": {
    "execution": {
     "iopub.execute_input": "2022-11-10T00:44:35.330557Z",
     "iopub.status.busy": "2022-11-10T00:44:35.329938Z",
     "iopub.status.idle": "2022-11-10T00:44:35.539359Z",
     "shell.execute_reply": "2022-11-10T00:44:35.538853Z"
    },
    "papermill": {
     "duration": 0.256426,
     "end_time": "2022-11-10T00:44:35.539484",
     "exception": false,
     "start_time": "2022-11-10T00:44:35.283058",
     "status": "completed"
    },
    "tags": []
   },
   "outputs": [
    {
     "data": {
      "text/plain": [
       "Text(0.5, 1.0, 'Outputs')"
      ]
     },
     "execution_count": 26,
     "metadata": {},
     "output_type": "execute_result"
    },
    {
     "data": {
      "image/png": "[encoded data removed]",
      "text/plain": [
       "<Figure size 576x504 with 1 Axes>"
      ]
     },
     "metadata": {
      "needs_background": "light"
     },
     "output_type": "display_data"
    }
   ],
   "source": [
    "# Plotting the scatter plot of points and color coding by class\n",
    "plt.figure(figsize=(8,7))\n",
    "plt.scatter(testing_plot[:,0], testing_plot[:,1], alpha = 0.1, c = y_test.ravel());\n",
    "plt.title('Outputs')"
   ]
  },
  {
   "cell_type": "markdown",
   "id": "a74fcf8f",
   "metadata": {
    "papermill": {
     "duration": 0.044423,
     "end_time": "2022-11-10T00:44:35.628488",
     "exception": false,
     "start_time": "2022-11-10T00:44:35.584065",
     "status": "completed"
    },
    "tags": []
   },
   "source": [
    "Probability contours"
   ]
  },
  {
   "cell_type": "code",
   "execution_count": 27,
   "id": "d0afc8e3",
   "metadata": {
    "execution": {
     "iopub.execute_input": "2022-11-10T00:44:35.764553Z",
     "iopub.status.busy": "2022-11-10T00:44:35.763945Z",
     "iopub.status.idle": "2022-11-10T00:44:35.774387Z",
     "shell.execute_reply": "2022-11-10T00:44:35.774844Z"
    },
    "papermill": {
     "duration": 0.064736,
     "end_time": "2022-11-10T00:44:35.774989",
     "exception": false,
     "start_time": "2022-11-10T00:44:35.710253",
     "status": "completed"
    },
    "tags": []
   },
   "outputs": [],
   "source": [
    "model_prob = Model(layers[-2:]) "
   ]
  },
  {
   "cell_type": "code",
   "execution_count": 28,
   "id": "9b96e238",
   "metadata": {
    "execution": {
     "iopub.execute_input": "2022-11-10T00:44:35.874806Z",
     "iopub.status.busy": "2022-11-10T00:44:35.874154Z",
     "iopub.status.idle": "2022-11-10T00:44:35.885990Z",
     "shell.execute_reply": "2022-11-10T00:44:35.886901Z"
    },
    "papermill": {
     "duration": 0.067842,
     "end_time": "2022-11-10T00:44:35.887047",
     "exception": false,
     "start_time": "2022-11-10T00:44:35.819205",
     "status": "completed"
    },
    "tags": []
   },
   "outputs": [],
   "source": [
    "#creating the x and y ranges according to the above generated plot.\n",
    "x_range = np.linspace(-4, 1, 100) \n",
    "y_range = np.linspace(-6, 6, 100) \n",
    "x_grid, y_grid = np.meshgrid(x_range, y_range) # x_grid and y_grig are of size 100 X 100\n",
    "\n",
    "# converting x_grid and y_grid to continuous arrays\n",
    "x_gridflat = np.ravel(x_grid)\n",
    "y_gridflat = np.ravel(y_grid)\n",
    "\n",
    "# The last layer of the current model takes two columns as input. Hence transpose of np.vstack() is required.\n",
    "X = np.vstack((x_gridflat, y_gridflat)).T\n",
    "\n",
    "prob_contour = model_prob(X).reshape(100,100) "
   ]
  },
  {
   "cell_type": "code",
   "execution_count": 29,
   "id": "da72499a",
   "metadata": {
    "execution": {
     "iopub.execute_input": "2022-11-10T00:44:35.987913Z",
     "iopub.status.busy": "2022-11-10T00:44:35.987302Z",
     "iopub.status.idle": "2022-11-10T00:44:36.245235Z",
     "shell.execute_reply": "2022-11-10T00:44:36.244732Z"
    },
    "papermill": {
     "duration": 0.313444,
     "end_time": "2022-11-10T00:44:36.245367",
     "exception": false,
     "start_time": "2022-11-10T00:44:35.931923",
     "status": "completed"
    },
    "tags": []
   },
   "outputs": [
    {
     "data": {
      "image/png": "[encoded data removed]",
      "text/plain": [
       "<Figure size 720x648 with 1 Axes>"
      ]
     },
     "metadata": {
      "needs_background": "light"
     },
     "output_type": "display_data"
    }
   ],
   "source": [
    "plt.figure(figsize=(10,9))\n",
    "plt.scatter(testing_plot[:,0], testing_plot[:,1], alpha = 0.1, c = y_test.ravel())\n",
    "contours = plt.contour(x_grid,y_grid,prob_contour)\n",
    "plt.title('Probability Contours')\n",
    "plt.clabel(contours, inline = True );"
   ]
  },
  {
   "cell_type": "code",
   "execution_count": null,
   "id": "e81b4ac7",
   "metadata": {
    "papermill": {
     "duration": 0.050002,
     "end_time": "2022-11-10T00:44:36.342995",
     "exception": false,
     "start_time": "2022-11-10T00:44:36.292993",
     "status": "completed"
    },
    "tags": []
   },
   "outputs": [],
   "source": []
  }
 ],
 "metadata": {
  "kernelspec": {
   "display_name": "Python 3",
   "language": "python",
   "name": "python3"
  },
  "language_info": {
   "codemirror_mode": {
    "name": "ipython",
    "version": 3
   },
   "file_extension": ".py",
   "mimetype": "text/x-python",
   "name": "python",
   "nbconvert_exporter": "python",
   "pygments_lexer": "ipython3",
   "version": "3.6.15"
  },
  "papermill": {
   "default_parameters": {},
   "duration": 106.181753,
   "end_time": "2022-11-10T00:44:36.910573",
   "environment_variables": {},
   "exception": null,
   "input_path": "2020-08-11-part2.ipynb",
   "output_path": "2020-08-11-part2.ipynb",
   "parameters": {},
   "start_time": "2022-11-10T00:42:50.728820",
   "version": "2.3.3"
  }
 },
 "nbformat": 4,
 "nbformat_minor": 5
}