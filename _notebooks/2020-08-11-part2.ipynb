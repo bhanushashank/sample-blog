{
 "cells": [
  {
   "cell_type": "markdown",
   "id": "98380cd3",
   "metadata": {
    "papermill": {
     "duration": 0.045173,
     "end_time": "2022-10-08T00:47:33.913264",
     "exception": false,
     "start_time": "2022-10-08T00:47:33.868091",
     "status": "completed"
    },
    "tags": []
   },
   "source": [
    "# Distinguish Your Own Digits (DYOD)"
   ]
  },
  {
   "cell_type": "markdown",
   "id": "ef31240d",
   "metadata": {
    "papermill": {
     "duration": 0.027372,
     "end_time": "2022-10-08T00:47:33.970417",
     "exception": false,
     "start_time": "2022-10-08T00:47:33.943045",
     "status": "completed"
    },
    "tags": []
   },
   "source": [
    "You are going to write a classifier that distinguishes between the number 3 and number 8."
   ]
  },
  {
   "cell_type": "code",
   "execution_count": 1,
   "id": "b15c8646",
   "metadata": {
    "execution": {
     "iopub.execute_input": "2022-10-08T00:47:34.037276Z",
     "iopub.status.busy": "2022-10-08T00:47:34.033890Z",
     "iopub.status.idle": "2022-10-08T00:47:34.049147Z",
     "shell.execute_reply": "2022-10-08T00:47:34.048565Z"
    },
    "papermill": {
     "duration": 0.051207,
     "end_time": "2022-10-08T00:47:34.049293",
     "exception": false,
     "start_time": "2022-10-08T00:47:33.998086",
     "status": "completed"
    },
    "tags": []
   },
   "outputs": [],
   "source": [
    "%load_ext autoreload\n",
    "%autoreload 2"
   ]
  },
  {
   "cell_type": "code",
   "execution_count": 2,
   "id": "22ef38dc",
   "metadata": {
    "execution": {
     "iopub.execute_input": "2022-10-08T00:47:34.112942Z",
     "iopub.status.busy": "2022-10-08T00:47:34.112259Z",
     "iopub.status.idle": "2022-10-08T00:47:34.766123Z",
     "shell.execute_reply": "2022-10-08T00:47:34.765096Z"
    },
    "papermill": {
     "duration": 0.689218,
     "end_time": "2022-10-08T00:47:34.766272",
     "exception": false,
     "start_time": "2022-10-08T00:47:34.077054",
     "status": "completed"
    },
    "tags": []
   },
   "outputs": [],
   "source": [
    "%matplotlib inline\n",
    "import numpy as np\n",
    "import matplotlib.pyplot as plt\n",
    "import pandas as pd"
   ]
  },
  {
   "cell_type": "markdown",
   "id": "ba036198",
   "metadata": {
    "papermill": {
     "duration": 0.027779,
     "end_time": "2022-10-08T00:47:34.832755",
     "exception": false,
     "start_time": "2022-10-08T00:47:34.804976",
     "status": "completed"
    },
    "tags": []
   },
   "source": [
    "From the command line run `pip install mnist`. This is a library that will help you bring down the mnist dataset. If you run this from a notebook, you need to put  `!pip install mnist` in a cell by itself."
   ]
  },
  {
   "cell_type": "code",
   "execution_count": 3,
   "id": "bb6ad8a1",
   "metadata": {
    "execution": {
     "iopub.execute_input": "2022-10-08T00:47:34.894543Z",
     "iopub.status.busy": "2022-10-08T00:47:34.893866Z",
     "iopub.status.idle": "2022-10-08T00:47:37.039983Z",
     "shell.execute_reply": "2022-10-08T00:47:37.039354Z"
    },
    "papermill": {
     "duration": 2.179783,
     "end_time": "2022-10-08T00:47:37.040123",
     "exception": false,
     "start_time": "2022-10-08T00:47:34.860340",
     "status": "completed"
    },
    "tags": []
   },
   "outputs": [
    {
     "name": "stdout",
     "output_type": "stream",
     "text": [
      "Collecting mnist\r\n"
     ]
    },
    {
     "name": "stdout",
     "output_type": "stream",
     "text": [
      "  Downloading mnist-0.2.2-py2.py3-none-any.whl (3.5 kB)\r\n",
      "Requirement already satisfied: numpy in /opt/hostedtoolcache/Python/3.6.15/x64/lib/python3.6/site-packages (from mnist) (1.19.5)\r\n"
     ]
    },
    {
     "name": "stdout",
     "output_type": "stream",
     "text": [
      "Installing collected packages: mnist\r\n"
     ]
    },
    {
     "name": "stdout",
     "output_type": "stream",
     "text": [
      "Successfully installed mnist-0.2.2\r\n"
     ]
    }
   ],
   "source": [
    "!pip install mnist"
   ]
  },
  {
   "cell_type": "markdown",
   "id": "69df9c9a",
   "metadata": {
    "papermill": {
     "duration": 0.030308,
     "end_time": "2022-10-08T00:47:37.100876",
     "exception": false,
     "start_time": "2022-10-08T00:47:37.070568",
     "status": "completed"
    },
    "tags": []
   },
   "source": [
    "## Preparing the Data"
   ]
  },
  {
   "cell_type": "code",
   "execution_count": 4,
   "id": "7f69d806",
   "metadata": {
    "execution": {
     "iopub.execute_input": "2022-10-08T00:47:37.172804Z",
     "iopub.status.busy": "2022-10-08T00:47:37.167356Z",
     "iopub.status.idle": "2022-10-08T00:47:37.184399Z",
     "shell.execute_reply": "2022-10-08T00:47:37.184926Z"
    },
    "papermill": {
     "duration": 0.054529,
     "end_time": "2022-10-08T00:47:37.185076",
     "exception": false,
     "start_time": "2022-10-08T00:47:37.130547",
     "status": "completed"
    },
    "tags": []
   },
   "outputs": [],
   "source": [
    "import mnist"
   ]
  },
  {
   "cell_type": "code",
   "execution_count": 5,
   "id": "a411e44f",
   "metadata": {
    "execution": {
     "iopub.execute_input": "2022-10-08T00:47:37.260475Z",
     "iopub.status.busy": "2022-10-08T00:47:37.259078Z",
     "iopub.status.idle": "2022-10-08T00:47:37.882987Z",
     "shell.execute_reply": "2022-10-08T00:47:37.882330Z"
    },
    "papermill": {
     "duration": 0.66409,
     "end_time": "2022-10-08T00:47:37.883135",
     "exception": false,
     "start_time": "2022-10-08T00:47:37.219045",
     "status": "completed"
    },
    "tags": []
   },
   "outputs": [],
   "source": [
    "train_images = mnist.train_images()\n",
    "train_labels = mnist.train_labels()"
   ]
  },
  {
   "cell_type": "code",
   "execution_count": 6,
   "id": "dceab3a5",
   "metadata": {
    "execution": {
     "iopub.execute_input": "2022-10-08T00:47:37.949952Z",
     "iopub.status.busy": "2022-10-08T00:47:37.949264Z",
     "iopub.status.idle": "2022-10-08T00:47:37.966571Z",
     "shell.execute_reply": "2022-10-08T00:47:37.966016Z"
    },
    "papermill": {
     "duration": 0.053303,
     "end_time": "2022-10-08T00:47:37.966702",
     "exception": false,
     "start_time": "2022-10-08T00:47:37.913399",
     "status": "completed"
    },
    "tags": []
   },
   "outputs": [
    {
     "data": {
      "text/plain": [
       "((60000, 28, 28), (60000,))"
      ]
     },
     "execution_count": 6,
     "metadata": {},
     "output_type": "execute_result"
    }
   ],
   "source": [
    "train_images.shape, train_labels.shape"
   ]
  },
  {
   "cell_type": "code",
   "execution_count": 7,
   "id": "f50dc2bb",
   "metadata": {
    "execution": {
     "iopub.execute_input": "2022-10-08T00:47:38.031403Z",
     "iopub.status.busy": "2022-10-08T00:47:38.030387Z",
     "iopub.status.idle": "2022-10-08T00:47:38.163424Z",
     "shell.execute_reply": "2022-10-08T00:47:38.162349Z"
    },
    "papermill": {
     "duration": 0.167773,
     "end_time": "2022-10-08T00:47:38.163566",
     "exception": false,
     "start_time": "2022-10-08T00:47:37.995793",
     "status": "completed"
    },
    "tags": []
   },
   "outputs": [],
   "source": [
    "test_images = mnist.test_images()\n",
    "test_labels = mnist.test_labels()"
   ]
  },
  {
   "cell_type": "code",
   "execution_count": 8,
   "id": "fc38cf1b",
   "metadata": {
    "execution": {
     "iopub.execute_input": "2022-10-08T00:47:38.229185Z",
     "iopub.status.busy": "2022-10-08T00:47:38.228516Z",
     "iopub.status.idle": "2022-10-08T00:47:38.246315Z",
     "shell.execute_reply": "2022-10-08T00:47:38.246978Z"
    },
    "papermill": {
     "duration": 0.053505,
     "end_time": "2022-10-08T00:47:38.247135",
     "exception": false,
     "start_time": "2022-10-08T00:47:38.193630",
     "status": "completed"
    },
    "tags": []
   },
   "outputs": [
    {
     "data": {
      "text/plain": [
       "((10000, 28, 28), (10000,))"
      ]
     },
     "execution_count": 8,
     "metadata": {},
     "output_type": "execute_result"
    }
   ],
   "source": [
    "test_images.shape, test_labels.shape"
   ]
  },
  {
   "cell_type": "code",
   "execution_count": 9,
   "id": "f9ed8fe0",
   "metadata": {
    "execution": {
     "iopub.execute_input": "2022-10-08T00:47:38.313780Z",
     "iopub.status.busy": "2022-10-08T00:47:38.313103Z",
     "iopub.status.idle": "2022-10-08T00:47:38.485791Z",
     "shell.execute_reply": "2022-10-08T00:47:38.485212Z"
    },
    "papermill": {
     "duration": 0.207635,
     "end_time": "2022-10-08T00:47:38.485926",
     "exception": false,
     "start_time": "2022-10-08T00:47:38.278291",
     "status": "completed"
    },
    "tags": []
   },
   "outputs": [
    {
     "name": "stdout",
     "output_type": "stream",
     "text": [
      "2\n"
     ]
    },
    {
     "data": {
      "text/plain": [
       "<matplotlib.image.AxesImage at 0x7ff7736b5cc0>"
      ]
     },
     "execution_count": 9,
     "metadata": {},
     "output_type": "execute_result"
    },
    {
     "data": {
      "image/png": "[encoded data removed]",
      "text/plain": [
       "<Figure size 432x288 with 1 Axes>"
      ]
     },
     "metadata": {
      "needs_background": "light"
     },
     "output_type": "display_data"
    }
   ],
   "source": [
    "image_index = 7776 # You may select anything up to 60,000\n",
    "print(train_labels[image_index]) \n",
    "plt.imshow(train_images[image_index], cmap='Greys')"
   ]
  },
  {
   "cell_type": "markdown",
   "id": "a8d2388d",
   "metadata": {
    "papermill": {
     "duration": 0.033404,
     "end_time": "2022-10-08T00:47:38.551048",
     "exception": false,
     "start_time": "2022-10-08T00:47:38.517644",
     "status": "completed"
    },
    "tags": []
   },
   "source": [
    "## Filter data to get 3 and 8 out"
   ]
  },
  {
   "cell_type": "code",
   "execution_count": 10,
   "id": "776f7fc7",
   "metadata": {
    "execution": {
     "iopub.execute_input": "2022-10-08T00:47:38.627403Z",
     "iopub.status.busy": "2022-10-08T00:47:38.626635Z",
     "iopub.status.idle": "2022-10-08T00:47:38.649240Z",
     "shell.execute_reply": "2022-10-08T00:47:38.648510Z"
    },
    "papermill": {
     "duration": 0.065017,
     "end_time": "2022-10-08T00:47:38.649372",
     "exception": false,
     "start_time": "2022-10-08T00:47:38.584355",
     "status": "completed"
    },
    "tags": []
   },
   "outputs": [],
   "source": [
    "train_filter = np.where((train_labels == 3 ) | (train_labels == 8))\n",
    "test_filter = np.where((test_labels == 3) | (test_labels == 8))\n",
    "X_train, y_train = train_images[train_filter], train_labels[train_filter]\n",
    "X_test, y_test = test_images[test_filter], test_labels[test_filter]"
   ]
  },
  {
   "cell_type": "markdown",
   "id": "948f0b7e",
   "metadata": {
    "papermill": {
     "duration": 0.032639,
     "end_time": "2022-10-08T00:47:38.716940",
     "exception": false,
     "start_time": "2022-10-08T00:47:38.684301",
     "status": "completed"
    },
    "tags": []
   },
   "source": [
    "We normalize the pizel values in the 0 to 1 range"
   ]
  },
  {
   "cell_type": "code",
   "execution_count": 11,
   "id": "ee4c2166",
   "metadata": {
    "execution": {
     "iopub.execute_input": "2022-10-08T00:47:38.795307Z",
     "iopub.status.busy": "2022-10-08T00:47:38.787776Z",
     "iopub.status.idle": "2022-10-08T00:47:38.844616Z",
     "shell.execute_reply": "2022-10-08T00:47:38.843865Z"
    },
    "papermill": {
     "duration": 0.092645,
     "end_time": "2022-10-08T00:47:38.844776",
     "exception": false,
     "start_time": "2022-10-08T00:47:38.752131",
     "status": "completed"
    },
    "tags": []
   },
   "outputs": [],
   "source": [
    "X_train = X_train/255.\n",
    "X_test = X_test/255."
   ]
  },
  {
   "cell_type": "markdown",
   "id": "ddcf4fab",
   "metadata": {
    "papermill": {
     "duration": 0.030678,
     "end_time": "2022-10-08T00:47:38.906962",
     "exception": false,
     "start_time": "2022-10-08T00:47:38.876284",
     "status": "completed"
    },
    "tags": []
   },
   "source": [
    "And setup the labels as 1 (when the digit is 3) and 0 (when the digit is 8)"
   ]
  },
  {
   "cell_type": "code",
   "execution_count": 12,
   "id": "7dc908f2",
   "metadata": {
    "execution": {
     "iopub.execute_input": "2022-10-08T00:47:38.978525Z",
     "iopub.status.busy": "2022-10-08T00:47:38.977836Z",
     "iopub.status.idle": "2022-10-08T00:47:38.992860Z",
     "shell.execute_reply": "2022-10-08T00:47:38.993516Z"
    },
    "papermill": {
     "duration": 0.053473,
     "end_time": "2022-10-08T00:47:38.993668",
     "exception": false,
     "start_time": "2022-10-08T00:47:38.940195",
     "status": "completed"
    },
    "tags": []
   },
   "outputs": [],
   "source": [
    "y_train = 1*(y_train==3)\n",
    "y_test = 1*(y_test==3)"
   ]
  },
  {
   "cell_type": "code",
   "execution_count": 13,
   "id": "01e4e969",
   "metadata": {
    "execution": {
     "iopub.execute_input": "2022-10-08T00:47:39.061536Z",
     "iopub.status.busy": "2022-10-08T00:47:39.060853Z",
     "iopub.status.idle": "2022-10-08T00:47:39.076746Z",
     "shell.execute_reply": "2022-10-08T00:47:39.076152Z"
    },
    "papermill": {
     "duration": 0.052105,
     "end_time": "2022-10-08T00:47:39.076876",
     "exception": false,
     "start_time": "2022-10-08T00:47:39.024771",
     "status": "completed"
    },
    "tags": []
   },
   "outputs": [
    {
     "data": {
      "text/plain": [
       "((11982, 28, 28), (1984, 28, 28))"
      ]
     },
     "execution_count": 13,
     "metadata": {},
     "output_type": "execute_result"
    }
   ],
   "source": [
    "X_train.shape, X_test.shape"
   ]
  },
  {
   "cell_type": "markdown",
   "id": "5ccf3f85",
   "metadata": {
    "papermill": {
     "duration": 0.031955,
     "end_time": "2022-10-08T00:47:39.140656",
     "exception": false,
     "start_time": "2022-10-08T00:47:39.108701",
     "status": "completed"
    },
    "tags": []
   },
   "source": [
    "We reshape the data to flatten the image pixels into a set of features or co-variates:"
   ]
  },
  {
   "cell_type": "code",
   "execution_count": 14,
   "id": "5286a4a3",
   "metadata": {
    "execution": {
     "iopub.execute_input": "2022-10-08T00:47:39.221229Z",
     "iopub.status.busy": "2022-10-08T00:47:39.220347Z",
     "iopub.status.idle": "2022-10-08T00:47:39.236713Z",
     "shell.execute_reply": "2022-10-08T00:47:39.236028Z"
    },
    "papermill": {
     "duration": 0.058079,
     "end_time": "2022-10-08T00:47:39.236841",
     "exception": false,
     "start_time": "2022-10-08T00:47:39.178762",
     "status": "completed"
    },
    "tags": []
   },
   "outputs": [
    {
     "data": {
      "text/plain": [
       "((11982, 784), (1984, 784))"
      ]
     },
     "execution_count": 14,
     "metadata": {},
     "output_type": "execute_result"
    }
   ],
   "source": [
    "X_train = X_train.reshape(X_train.shape[0], -1)\n",
    "X_test = X_test.reshape(X_test.shape[0], -1)\n",
    "X_train.shape, X_test.shape"
   ]
  },
  {
   "cell_type": "code",
   "execution_count": 15,
   "id": "73c5f88a",
   "metadata": {
    "execution": {
     "iopub.execute_input": "2022-10-08T00:47:39.311974Z",
     "iopub.status.busy": "2022-10-08T00:47:39.311267Z",
     "iopub.status.idle": "2022-10-08T00:47:39.333167Z",
     "shell.execute_reply": "2022-10-08T00:47:39.332611Z"
    },
    "papermill": {
     "duration": 0.064167,
     "end_time": "2022-10-08T00:47:39.333300",
     "exception": false,
     "start_time": "2022-10-08T00:47:39.269133",
     "status": "completed"
    },
    "tags": []
   },
   "outputs": [],
   "source": [
    "#Impoting functions from 'Kudzu'\n",
    "from kudzu.model import Model\n",
    "from kudzu.train import Learner\n",
    "from kudzu.optim import GD\n",
    "from kudzu.data import Data, Sampler,Dataloader\n",
    "\n",
    "from kudzu.callbacks import AccCallback\n",
    "from kudzu.callbacks import ClfCallback\n",
    "\n",
    "from kudzu.loss import MSE\n",
    "\n",
    "from kudzu.layer import Sigmoid,Relu\n",
    "from kudzu.layer import Affine"
   ]
  },
  {
   "cell_type": "markdown",
   "id": "bc01172a",
   "metadata": {
    "papermill": {
     "duration": 0.031494,
     "end_time": "2022-10-08T00:47:39.397292",
     "exception": false,
     "start_time": "2022-10-08T00:47:39.365798",
     "status": "completed"
    },
    "tags": []
   },
   "source": [
    "### Let us create a `Config` class, to store important parameters. \n",
    "This class essentially plays the role of a dictionary."
   ]
  },
  {
   "cell_type": "code",
   "execution_count": 16,
   "id": "978281aa",
   "metadata": {
    "execution": {
     "iopub.execute_input": "2022-10-08T00:47:39.470369Z",
     "iopub.status.busy": "2022-10-08T00:47:39.469645Z",
     "iopub.status.idle": "2022-10-08T00:47:39.486304Z",
     "shell.execute_reply": "2022-10-08T00:47:39.485436Z"
    },
    "papermill": {
     "duration": 0.056438,
     "end_time": "2022-10-08T00:47:39.486434",
     "exception": false,
     "start_time": "2022-10-08T00:47:39.429996",
     "status": "completed"
    },
    "tags": []
   },
   "outputs": [],
   "source": [
    "class Config:\n",
    "    pass\n",
    "config = Config()\n",
    "config.lr = 0.001\n",
    "config.num_epochs = 250\n",
    "config.bs = 50"
   ]
  },
  {
   "cell_type": "markdown",
   "id": "1385fa59",
   "metadata": {
    "papermill": {
     "duration": 0.031428,
     "end_time": "2022-10-08T00:47:39.550148",
     "exception": false,
     "start_time": "2022-10-08T00:47:39.518720",
     "status": "completed"
    },
    "tags": []
   },
   "source": [
    "### Running Models with the Training data\n",
    "Details about the network layers:\n",
    "- A first affine layer has 784 inputs and does 100 affine transforms. These are followed by a Relu\n",
    "- A second affine layer has 100 inputs from the 100 activations of the past layer, and does 100 affine transforms. These are followed by a Relu\n",
    "- A third affine layer has 100 activations and does 2 affine transformations to create an embedding for visualization. There is no non-linearity here.\n",
    "- A final \"logistic regression\" which has an affine transform from 2 inputs to 1 output, which is squeezed through a sigmoid.\n"
   ]
  },
  {
   "cell_type": "code",
   "execution_count": 17,
   "id": "2b9c66db",
   "metadata": {
    "execution": {
     "iopub.execute_input": "2022-10-08T00:47:39.618952Z",
     "iopub.status.busy": "2022-10-08T00:47:39.618249Z",
     "iopub.status.idle": "2022-10-08T00:47:39.634971Z",
     "shell.execute_reply": "2022-10-08T00:47:39.634334Z"
    },
    "papermill": {
     "duration": 0.053014,
     "end_time": "2022-10-08T00:47:39.635104",
     "exception": false,
     "start_time": "2022-10-08T00:47:39.582090",
     "status": "completed"
    },
    "tags": []
   },
   "outputs": [],
   "source": [
    "data = Data(X_train, y_train.reshape(-1,1))\n",
    "sampler = Sampler(data, config.bs, shuffle=True)\n",
    "\n",
    "dl = Dataloader(data, sampler)\n",
    "\n",
    "opt = GD(config.lr)\n",
    "loss = MSE()"
   ]
  },
  {
   "cell_type": "code",
   "execution_count": 18,
   "id": "b275e4c2",
   "metadata": {
    "execution": {
     "iopub.execute_input": "2022-10-08T00:47:39.710699Z",
     "iopub.status.busy": "2022-10-08T00:47:39.708538Z",
     "iopub.status.idle": "2022-10-08T00:47:39.721776Z",
     "shell.execute_reply": "2022-10-08T00:47:39.720914Z"
    },
    "papermill": {
     "duration": 0.052817,
     "end_time": "2022-10-08T00:47:39.721927",
     "exception": false,
     "start_time": "2022-10-08T00:47:39.669110",
     "status": "completed"
    },
    "tags": []
   },
   "outputs": [],
   "source": [
    "training_data_x = X_train\n",
    "testing_data_x = X_test\n",
    "training_data_y = y_train.reshape(-1,1)\n",
    "testing_data_y = y_test.reshape(-1,1)"
   ]
  },
  {
   "cell_type": "code",
   "execution_count": 19,
   "id": "76951160",
   "metadata": {
    "execution": {
     "iopub.execute_input": "2022-10-08T00:47:39.791794Z",
     "iopub.status.busy": "2022-10-08T00:47:39.791088Z",
     "iopub.status.idle": "2022-10-08T00:47:39.810180Z",
     "shell.execute_reply": "2022-10-08T00:47:39.809611Z"
    },
    "papermill": {
     "duration": 0.056651,
     "end_time": "2022-10-08T00:47:39.810310",
     "exception": false,
     "start_time": "2022-10-08T00:47:39.753659",
     "status": "completed"
    },
    "tags": []
   },
   "outputs": [
    {
     "name": "stdout",
     "output_type": "stream",
     "text": [
      "xavier\n",
      "xavier\n",
      "xavier\n",
      "xavier\n",
      "xavier\n"
     ]
    }
   ],
   "source": [
    "layers = [Affine(\"first\", 784, 100), Relu(\"first\"), Affine(\"second\", 100, 100), Relu(\"second\"), Affine(\"third\", 100, 2), Affine(\"last\", 2, 1), Sigmoid(\"last\")]\n",
    "model_nn = Model(layers)\n",
    "model_lr = Model([Affine(\"logits\", 784, 1), Sigmoid(\"sigmoid\")])"
   ]
  },
  {
   "cell_type": "code",
   "execution_count": 20,
   "id": "6eede77a",
   "metadata": {
    "execution": {
     "iopub.execute_input": "2022-10-08T00:47:39.882280Z",
     "iopub.status.busy": "2022-10-08T00:47:39.881586Z",
     "iopub.status.idle": "2022-10-08T00:47:39.900147Z",
     "shell.execute_reply": "2022-10-08T00:47:39.899371Z"
    },
    "papermill": {
     "duration": 0.057085,
     "end_time": "2022-10-08T00:47:39.900313",
     "exception": false,
     "start_time": "2022-10-08T00:47:39.843228",
     "status": "completed"
    },
    "tags": []
   },
   "outputs": [],
   "source": [
    "nn_learner = Learner(loss, model_nn, opt, config.num_epochs)\n",
    "acc_nn = ClfCallback(nn_learner, config.bs, training_data_x , testing_data_x, training_data_y, testing_data_y)\n",
    "nn_learner.set_callbacks([acc_nn])"
   ]
  },
  {
   "cell_type": "code",
   "execution_count": 21,
   "id": "877b6cc7",
   "metadata": {
    "execution": {
     "iopub.execute_input": "2022-10-08T00:47:39.971185Z",
     "iopub.status.busy": "2022-10-08T00:47:39.970462Z",
     "iopub.status.idle": "2022-10-08T00:47:39.985469Z",
     "shell.execute_reply": "2022-10-08T00:47:39.984784Z"
    },
    "papermill": {
     "duration": 0.053269,
     "end_time": "2022-10-08T00:47:39.985597",
     "exception": false,
     "start_time": "2022-10-08T00:47:39.932328",
     "status": "completed"
    },
    "tags": []
   },
   "outputs": [],
   "source": [
    "lr_learner = Learner(loss, model_lr, opt, config.num_epochs)\n",
    "acc_lr = ClfCallback(lr_learner, config.bs, training_data_x , testing_data_x, training_data_y, testing_data_y)\n",
    "lr_learner.set_callbacks([acc_lr])"
   ]
  },
  {
   "cell_type": "code",
   "execution_count": 22,
   "id": "d9b133c3",
   "metadata": {
    "execution": {
     "iopub.execute_input": "2022-10-08T00:47:40.058687Z",
     "iopub.status.busy": "2022-10-08T00:47:40.057484Z",
     "iopub.status.idle": "2022-10-08T00:49:16.857978Z",
     "shell.execute_reply": "2022-10-08T00:49:16.858989Z"
    },
    "papermill": {
     "duration": 96.839636,
     "end_time": "2022-10-08T00:49:16.859156",
     "exception": false,
     "start_time": "2022-10-08T00:47:40.019520",
     "status": "completed"
    },
    "tags": []
   },
   "outputs": [
    {
     "name": "stdout",
     "output_type": "stream",
     "text": [
      "Epoch 0, Loss 0.2213\n",
      "Training Accuracy: 0.7987, Testing Accuracy: 0.8085\n",
      "\n"
     ]
    },
    {
     "name": "stdout",
     "output_type": "stream",
     "text": [
      "Epoch 10, Loss 0.0528\n",
      "Training Accuracy: 0.9468, Testing Accuracy: 0.9531\n",
      "\n"
     ]
    },
    {
     "name": "stdout",
     "output_type": "stream",
     "text": [
      "Epoch 20, Loss 0.0385\n",
      "Training Accuracy: 0.9598, Testing Accuracy: 0.9682\n",
      "\n"
     ]
    },
    {
     "name": "stdout",
     "output_type": "stream",
     "text": [
      "Epoch 30, Loss 0.0329\n",
      "Training Accuracy: 0.9646, Testing Accuracy: 0.9723\n",
      "\n"
     ]
    },
    {
     "name": "stdout",
     "output_type": "stream",
     "text": [
      "Epoch 40, Loss 0.0296\n",
      "Training Accuracy: 0.9680, Testing Accuracy: 0.9718\n",
      "\n"
     ]
    },
    {
     "name": "stdout",
     "output_type": "stream",
     "text": [
      "Epoch 50, Loss 0.0274\n",
      "Training Accuracy: 0.9693, Testing Accuracy: 0.9718\n",
      "\n"
     ]
    },
    {
     "name": "stdout",
     "output_type": "stream",
     "text": [
      "Epoch 60, Loss 0.0256\n",
      "Training Accuracy: 0.9713, Testing Accuracy: 0.9723\n",
      "\n"
     ]
    },
    {
     "name": "stdout",
     "output_type": "stream",
     "text": [
      "Epoch 70, Loss 0.0242\n",
      "Training Accuracy: 0.9730, Testing Accuracy: 0.9733\n",
      "\n"
     ]
    },
    {
     "name": "stdout",
     "output_type": "stream",
     "text": [
      "Epoch 80, Loss 0.023\n",
      "Training Accuracy: 0.9743, Testing Accuracy: 0.9733\n",
      "\n"
     ]
    },
    {
     "name": "stdout",
     "output_type": "stream",
     "text": [
      "Epoch 90, Loss 0.022\n",
      "Training Accuracy: 0.9752, Testing Accuracy: 0.9743\n",
      "\n"
     ]
    },
    {
     "name": "stdout",
     "output_type": "stream",
     "text": [
      "Epoch 100, Loss 0.0211\n",
      "Training Accuracy: 0.9770, Testing Accuracy: 0.9748\n",
      "\n"
     ]
    },
    {
     "name": "stdout",
     "output_type": "stream",
     "text": [
      "Epoch 110, Loss 0.0203\n",
      "Training Accuracy: 0.9784, Testing Accuracy: 0.9758\n",
      "\n"
     ]
    },
    {
     "name": "stdout",
     "output_type": "stream",
     "text": [
      "Epoch 120, Loss 0.0196\n",
      "Training Accuracy: 0.9794, Testing Accuracy: 0.9773\n",
      "\n"
     ]
    },
    {
     "name": "stdout",
     "output_type": "stream",
     "text": [
      "Epoch 130, Loss 0.0189\n",
      "Training Accuracy: 0.9800, Testing Accuracy: 0.9773\n",
      "\n"
     ]
    },
    {
     "name": "stdout",
     "output_type": "stream",
     "text": [
      "Epoch 140, Loss 0.0183\n",
      "Training Accuracy: 0.9803, Testing Accuracy: 0.9778\n",
      "\n"
     ]
    },
    {
     "name": "stdout",
     "output_type": "stream",
     "text": [
      "Epoch 150, Loss 0.0178\n",
      "Training Accuracy: 0.9810, Testing Accuracy: 0.9788\n",
      "\n"
     ]
    },
    {
     "name": "stdout",
     "output_type": "stream",
     "text": [
      "Epoch 160, Loss 0.0172\n",
      "Training Accuracy: 0.9817, Testing Accuracy: 0.9783\n",
      "\n"
     ]
    },
    {
     "name": "stdout",
     "output_type": "stream",
     "text": [
      "Epoch 170, Loss 0.0168\n",
      "Training Accuracy: 0.9824, Testing Accuracy: 0.9788\n",
      "\n"
     ]
    },
    {
     "name": "stdout",
     "output_type": "stream",
     "text": [
      "Epoch 180, Loss 0.0163\n",
      "Training Accuracy: 0.9831, Testing Accuracy: 0.9793\n",
      "\n"
     ]
    },
    {
     "name": "stdout",
     "output_type": "stream",
     "text": [
      "Epoch 190, Loss 0.0159\n",
      "Training Accuracy: 0.9840, Testing Accuracy: 0.9808\n",
      "\n"
     ]
    },
    {
     "name": "stdout",
     "output_type": "stream",
     "text": [
      "Epoch 200, Loss 0.0155\n",
      "Training Accuracy: 0.9843, Testing Accuracy: 0.9808\n",
      "\n"
     ]
    },
    {
     "name": "stdout",
     "output_type": "stream",
     "text": [
      "Epoch 210, Loss 0.0151\n",
      "Training Accuracy: 0.9846, Testing Accuracy: 0.9803\n",
      "\n"
     ]
    },
    {
     "name": "stdout",
     "output_type": "stream",
     "text": [
      "Epoch 220, Loss 0.0147\n",
      "Training Accuracy: 0.9851, Testing Accuracy: 0.9803\n",
      "\n"
     ]
    },
    {
     "name": "stdout",
     "output_type": "stream",
     "text": [
      "Epoch 230, Loss 0.0144\n",
      "Training Accuracy: 0.9853, Testing Accuracy: 0.9808\n",
      "\n"
     ]
    },
    {
     "name": "stdout",
     "output_type": "stream",
     "text": [
      "Epoch 240, Loss 0.014\n",
      "Training Accuracy: 0.9857, Testing Accuracy: 0.9814\n",
      "\n"
     ]
    },
    {
     "data": {
      "text/plain": [
       "0.02640001229180139"
      ]
     },
     "execution_count": 22,
     "metadata": {},
     "output_type": "execute_result"
    }
   ],
   "source": [
    "nn_learner.train_loop(dl)"
   ]
  },
  {
   "cell_type": "code",
   "execution_count": 23,
   "id": "e0163366",
   "metadata": {
    "execution": {
     "iopub.execute_input": "2022-10-08T00:49:16.962749Z",
     "iopub.status.busy": "2022-10-08T00:49:16.961484Z",
     "iopub.status.idle": "2022-10-08T00:49:34.761269Z",
     "shell.execute_reply": "2022-10-08T00:49:34.760690Z"
    },
    "papermill": {
     "duration": 17.854202,
     "end_time": "2022-10-08T00:49:34.761412",
     "exception": false,
     "start_time": "2022-10-08T00:49:16.907210",
     "status": "completed"
    },
    "tags": []
   },
   "outputs": [
    {
     "name": "stdout",
     "output_type": "stream",
     "text": [
      "Epoch 0, Loss 0.2333\n",
      "Training Accuracy: 0.7173, Testing Accuracy: 0.7198\n",
      "\n"
     ]
    },
    {
     "name": "stdout",
     "output_type": "stream",
     "text": [
      "Epoch 10, Loss 0.106\n",
      "Training Accuracy: 0.8984, Testing Accuracy: 0.9103\n",
      "\n"
     ]
    },
    {
     "name": "stdout",
     "output_type": "stream",
     "text": [
      "Epoch 20, Loss 0.0814\n",
      "Training Accuracy: 0.9212, Testing Accuracy: 0.9360\n",
      "\n"
     ]
    },
    {
     "name": "stdout",
     "output_type": "stream",
     "text": [
      "Epoch 30, Loss 0.0698\n",
      "Training Accuracy: 0.9325, Testing Accuracy: 0.9456\n",
      "\n"
     ]
    },
    {
     "name": "stdout",
     "output_type": "stream",
     "text": [
      "Epoch 40, Loss 0.0628\n",
      "Training Accuracy: 0.9385, Testing Accuracy: 0.9496\n",
      "\n"
     ]
    },
    {
     "name": "stdout",
     "output_type": "stream",
     "text": [
      "Epoch 50, Loss 0.0581\n",
      "Training Accuracy: 0.9419, Testing Accuracy: 0.9541\n",
      "\n"
     ]
    },
    {
     "name": "stdout",
     "output_type": "stream",
     "text": [
      "Epoch 60, Loss 0.0546\n",
      "Training Accuracy: 0.9461, Testing Accuracy: 0.9546\n",
      "\n"
     ]
    },
    {
     "name": "stdout",
     "output_type": "stream",
     "text": [
      "Epoch 70, Loss 0.052\n",
      "Training Accuracy: 0.9488, Testing Accuracy: 0.9556\n",
      "\n"
     ]
    },
    {
     "name": "stdout",
     "output_type": "stream",
     "text": [
      "Epoch 80, Loss 0.0498\n",
      "Training Accuracy: 0.9508, Testing Accuracy: 0.9587\n",
      "\n"
     ]
    },
    {
     "name": "stdout",
     "output_type": "stream",
     "text": [
      "Epoch 90, Loss 0.0481\n",
      "Training Accuracy: 0.9523, Testing Accuracy: 0.9597\n",
      "\n"
     ]
    },
    {
     "name": "stdout",
     "output_type": "stream",
     "text": [
      "Epoch 100, Loss 0.0466\n",
      "Training Accuracy: 0.9530, Testing Accuracy: 0.9602\n",
      "\n"
     ]
    },
    {
     "name": "stdout",
     "output_type": "stream",
     "text": [
      "Epoch 110, Loss 0.0454\n",
      "Training Accuracy: 0.9540, Testing Accuracy: 0.9602\n",
      "\n"
     ]
    },
    {
     "name": "stdout",
     "output_type": "stream",
     "text": [
      "Epoch 120, Loss 0.0443\n",
      "Training Accuracy: 0.9543, Testing Accuracy: 0.9607\n",
      "\n"
     ]
    },
    {
     "name": "stdout",
     "output_type": "stream",
     "text": [
      "Epoch 130, Loss 0.0433\n",
      "Training Accuracy: 0.9551, Testing Accuracy: 0.9627\n",
      "\n"
     ]
    },
    {
     "name": "stdout",
     "output_type": "stream",
     "text": [
      "Epoch 140, Loss 0.0425\n",
      "Training Accuracy: 0.9558, Testing Accuracy: 0.9627\n",
      "\n"
     ]
    },
    {
     "name": "stdout",
     "output_type": "stream",
     "text": [
      "Epoch 150, Loss 0.0417\n",
      "Training Accuracy: 0.9562, Testing Accuracy: 0.9632\n",
      "\n"
     ]
    },
    {
     "name": "stdout",
     "output_type": "stream",
     "text": [
      "Epoch 160, Loss 0.041\n",
      "Training Accuracy: 0.9571, Testing Accuracy: 0.9632\n",
      "\n"
     ]
    },
    {
     "name": "stdout",
     "output_type": "stream",
     "text": [
      "Epoch 170, Loss 0.0404\n",
      "Training Accuracy: 0.9574, Testing Accuracy: 0.9642\n",
      "\n"
     ]
    },
    {
     "name": "stdout",
     "output_type": "stream",
     "text": [
      "Epoch 180, Loss 0.0398\n",
      "Training Accuracy: 0.9578, Testing Accuracy: 0.9642\n",
      "\n"
     ]
    },
    {
     "name": "stdout",
     "output_type": "stream",
     "text": [
      "Epoch 190, Loss 0.0393\n",
      "Training Accuracy: 0.9581, Testing Accuracy: 0.9642\n",
      "\n"
     ]
    },
    {
     "name": "stdout",
     "output_type": "stream",
     "text": [
      "Epoch 200, Loss 0.0388\n",
      "Training Accuracy: 0.9585, Testing Accuracy: 0.9647\n",
      "\n"
     ]
    },
    {
     "name": "stdout",
     "output_type": "stream",
     "text": [
      "Epoch 210, Loss 0.0383\n",
      "Training Accuracy: 0.9589, Testing Accuracy: 0.9652\n",
      "\n"
     ]
    },
    {
     "name": "stdout",
     "output_type": "stream",
     "text": [
      "Epoch 220, Loss 0.0379\n",
      "Training Accuracy: 0.9593, Testing Accuracy: 0.9652\n",
      "\n"
     ]
    },
    {
     "name": "stdout",
     "output_type": "stream",
     "text": [
      "Epoch 230, Loss 0.0375\n",
      "Training Accuracy: 0.9595, Testing Accuracy: 0.9657\n",
      "\n"
     ]
    },
    {
     "name": "stdout",
     "output_type": "stream",
     "text": [
      "Epoch 240, Loss 0.0371\n",
      "Training Accuracy: 0.9598, Testing Accuracy: 0.9657\n",
      "\n"
     ]
    },
    {
     "data": {
      "text/plain": [
       "0.02993497658925564"
      ]
     },
     "execution_count": 23,
     "metadata": {},
     "output_type": "execute_result"
    }
   ],
   "source": [
    "lr_learner.train_loop(dl)"
   ]
  },
  {
   "cell_type": "code",
   "execution_count": 24,
   "id": "ca410940",
   "metadata": {
    "execution": {
     "iopub.execute_input": "2022-10-08T00:49:34.876011Z",
     "iopub.status.busy": "2022-10-08T00:49:34.874311Z",
     "iopub.status.idle": "2022-10-08T00:49:35.142282Z",
     "shell.execute_reply": "2022-10-08T00:49:35.142838Z"
    },
    "papermill": {
     "duration": 0.324712,
     "end_time": "2022-10-08T00:49:35.143027",
     "exception": false,
     "start_time": "2022-10-08T00:49:34.818315",
     "status": "completed"
    },
    "tags": []
   },
   "outputs": [
    {
     "data": {
      "text/plain": [
       "<matplotlib.legend.Legend at 0x7ff766ad9c88>"
      ]
     },
     "execution_count": 24,
     "metadata": {},
     "output_type": "execute_result"
    },
    {
     "data": {
      "image/png": "[encoded data removed]",
      "text/plain": [
       "<Figure size 1080x720 with 1 Axes>"
      ]
     },
     "metadata": {
      "needs_background": "light"
     },
     "output_type": "display_data"
    }
   ],
   "source": [
    "#comparing the results of NN and LR\n",
    "plt.figure(figsize=(15,10))\n",
    "\n",
    "# Neural Network plots\n",
    "plt.plot(acc_nn.accuracies, 'r-', label = \"Training Accuracies - NN\")\n",
    "plt.plot(acc_nn.test_accuracies, 'g-', label = \"Testing Accuracies - NN\")\n",
    "\n",
    "# Logistic Regression plots\n",
    "plt.plot(acc_lr.accuracies, 'k-', label = \"Training Accuracies - LR\")\n",
    "plt.plot(acc_lr.test_accuracies, 'b-', label = \"Testing Accuracies - LR\")\n",
    "plt.legend()"
   ]
  },
  {
   "cell_type": "markdown",
   "id": "80dfb35c",
   "metadata": {
    "papermill": {
     "duration": 0.049648,
     "end_time": "2022-10-08T00:49:35.241651",
     "exception": false,
     "start_time": "2022-10-08T00:49:35.192003",
     "status": "completed"
    },
    "tags": []
   },
   "source": [
    "#### Plotting the outputs of this layer of the NN.\n"
   ]
  },
  {
   "cell_type": "code",
   "execution_count": 25,
   "id": "45eb2ff5",
   "metadata": {
    "execution": {
     "iopub.execute_input": "2022-10-08T00:49:35.347185Z",
     "iopub.status.busy": "2022-10-08T00:49:35.346464Z",
     "iopub.status.idle": "2022-10-08T00:49:35.372835Z",
     "shell.execute_reply": "2022-10-08T00:49:35.373381Z"
    },
    "papermill": {
     "duration": 0.082782,
     "end_time": "2022-10-08T00:49:35.373537",
     "exception": false,
     "start_time": "2022-10-08T00:49:35.290755",
     "status": "completed"
    },
    "tags": []
   },
   "outputs": [],
   "source": [
    "new_model = Model(layers[:-2])\n",
    "testing_plot = new_model(testing_data_x)"
   ]
  },
  {
   "cell_type": "code",
   "execution_count": 26,
   "id": "4c0a5485",
   "metadata": {
    "execution": {
     "iopub.execute_input": "2022-10-08T00:49:35.479646Z",
     "iopub.status.busy": "2022-10-08T00:49:35.478916Z",
     "iopub.status.idle": "2022-10-08T00:49:35.765986Z",
     "shell.execute_reply": "2022-10-08T00:49:35.766649Z"
    },
    "papermill": {
     "duration": 0.34209,
     "end_time": "2022-10-08T00:49:35.766806",
     "exception": false,
     "start_time": "2022-10-08T00:49:35.424716",
     "status": "completed"
    },
    "tags": []
   },
   "outputs": [
    {
     "data": {
      "text/plain": [
       "Text(0.5, 1.0, 'Outputs')"
      ]
     },
     "execution_count": 26,
     "metadata": {},
     "output_type": "execute_result"
    },
    {
     "data": {
      "image/png": "[encoded data removed]",
      "text/plain": [
       "<Figure size 576x504 with 1 Axes>"
      ]
     },
     "metadata": {
      "needs_background": "light"
     },
     "output_type": "display_data"
    }
   ],
   "source": [
    "# Plotting the scatter plot of points and color coding by class\n",
    "plt.figure(figsize=(8,7))\n",
    "plt.scatter(testing_plot[:,0], testing_plot[:,1], alpha = 0.1, c = y_test.ravel());\n",
    "plt.title('Outputs')"
   ]
  },
  {
   "cell_type": "markdown",
   "id": "a74fcf8f",
   "metadata": {
    "papermill": {
     "duration": 0.052718,
     "end_time": "2022-10-08T00:49:35.874509",
     "exception": false,
     "start_time": "2022-10-08T00:49:35.821791",
     "status": "completed"
    },
    "tags": []
   },
   "source": [
    "Probability contours"
   ]
  },
  {
   "cell_type": "code",
   "execution_count": 27,
   "id": "d0afc8e3",
   "metadata": {
    "execution": {
     "iopub.execute_input": "2022-10-08T00:49:36.020140Z",
     "iopub.status.busy": "2022-10-08T00:49:36.019430Z",
     "iopub.status.idle": "2022-10-08T00:49:36.034194Z",
     "shell.execute_reply": "2022-10-08T00:49:36.033490Z"
    },
    "papermill": {
     "duration": 0.075245,
     "end_time": "2022-10-08T00:49:36.034321",
     "exception": false,
     "start_time": "2022-10-08T00:49:35.959076",
     "status": "completed"
    },
    "tags": []
   },
   "outputs": [],
   "source": [
    "model_prob = Model(layers[-2:]) "
   ]
  },
  {
   "cell_type": "code",
   "execution_count": 28,
   "id": "9b96e238",
   "metadata": {
    "execution": {
     "iopub.execute_input": "2022-10-08T00:49:36.151699Z",
     "iopub.status.busy": "2022-10-08T00:49:36.150707Z",
     "iopub.status.idle": "2022-10-08T00:49:36.166415Z",
     "shell.execute_reply": "2022-10-08T00:49:36.166950Z"
    },
    "papermill": {
     "duration": 0.079475,
     "end_time": "2022-10-08T00:49:36.167109",
     "exception": false,
     "start_time": "2022-10-08T00:49:36.087634",
     "status": "completed"
    },
    "tags": []
   },
   "outputs": [],
   "source": [
    "#creating the x and y ranges according to the above generated plot.\n",
    "x_range = np.linspace(-4, 1, 100) \n",
    "y_range = np.linspace(-6, 6, 100) \n",
    "x_grid, y_grid = np.meshgrid(x_range, y_range) # x_grid and y_grig are of size 100 X 100\n",
    "\n",
    "# converting x_grid and y_grid to continuous arrays\n",
    "x_gridflat = np.ravel(x_grid)\n",
    "y_gridflat = np.ravel(y_grid)\n",
    "\n",
    "# The last layer of the current model takes two columns as input. Hence transpose of np.vstack() is required.\n",
    "X = np.vstack((x_gridflat, y_gridflat)).T\n",
    "\n",
    "prob_contour = model_prob(X).reshape(100,100) "
   ]
  },
  {
   "cell_type": "code",
   "execution_count": 29,
   "id": "da72499a",
   "metadata": {
    "execution": {
     "iopub.execute_input": "2022-10-08T00:49:36.288611Z",
     "iopub.status.busy": "2022-10-08T00:49:36.287927Z",
     "iopub.status.idle": "2022-10-08T00:49:36.577291Z",
     "shell.execute_reply": "2022-10-08T00:49:36.576704Z"
    },
    "papermill": {
     "duration": 0.354774,
     "end_time": "2022-10-08T00:49:36.577424",
     "exception": false,
     "start_time": "2022-10-08T00:49:36.222650",
     "status": "completed"
    },
    "tags": []
   },
   "outputs": [
    {
     "data": {
      "image/png": "[encoded data removed]",
      "text/plain": [
       "<Figure size 720x648 with 1 Axes>"
      ]
     },
     "metadata": {
      "needs_background": "light"
     },
     "output_type": "display_data"
    }
   ],
   "source": [
    "plt.figure(figsize=(10,9))\n",
    "plt.scatter(testing_plot[:,0], testing_plot[:,1], alpha = 0.1, c = y_test.ravel())\n",
    "contours = plt.contour(x_grid,y_grid,prob_contour)\n",
    "plt.title('Probability Contours')\n",
    "plt.clabel(contours, inline = True );"
   ]
  },
  {
   "cell_type": "code",
   "execution_count": null,
   "id": "e81b4ac7",
   "metadata": {
    "papermill": {
     "duration": 0.055605,
     "end_time": "2022-10-08T00:49:36.690583",
     "exception": false,
     "start_time": "2022-10-08T00:49:36.634978",
     "status": "completed"
    },
    "tags": []
   },
   "outputs": [],
   "source": []
  }
 ],
 "metadata": {
  "kernelspec": {
   "display_name": "Python 3",
   "language": "python",
   "name": "python3"
  },
  "language_info": {
   "codemirror_mode": {
    "name": "ipython",
    "version": 3
   },
   "file_extension": ".py",
   "mimetype": "text/x-python",
   "name": "python",
   "nbconvert_exporter": "python",
   "pygments_lexer": "ipython3",
   "version": "3.6.15"
  },
  "papermill": {
   "default_parameters": {},
   "duration": 124.620576,
   "end_time": "2022-10-08T00:49:37.171420",
   "environment_variables": {},
   "exception": null,
   "input_path": "2020-08-11-part2.ipynb",
   "output_path": "2020-08-11-part2.ipynb",
   "parameters": {},
   "start_time": "2022-10-08T00:47:32.550844",
   "version": "2.3.3"
  }
 },
 "nbformat": 4,
 "nbformat_minor": 5
}