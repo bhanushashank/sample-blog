{
 "cells": [
  {
   "cell_type": "markdown",
   "id": "98380cd3",
   "metadata": {
    "papermill": {
     "duration": 0.028131,
     "end_time": "2022-01-24T10:07:50.326603",
     "exception": false,
     "start_time": "2022-01-24T10:07:50.298472",
     "status": "completed"
    },
    "tags": []
   },
   "source": [
    "# Distinguish Your Own Digits (DYOD)"
   ]
  },
  {
   "cell_type": "markdown",
   "id": "ef31240d",
   "metadata": {
    "papermill": {
     "duration": 0.023882,
     "end_time": "2022-01-24T10:07:50.375276",
     "exception": false,
     "start_time": "2022-01-24T10:07:50.351394",
     "status": "completed"
    },
    "tags": []
   },
   "source": [
    "You are going to write a classifier that distinguishes between the number 3 and number 8."
   ]
  },
  {
   "cell_type": "code",
   "execution_count": 1,
   "id": "b15c8646",
   "metadata": {
    "execution": {
     "iopub.execute_input": "2022-01-24T10:07:50.435369Z",
     "iopub.status.busy": "2022-01-24T10:07:50.434816Z",
     "iopub.status.idle": "2022-01-24T10:07:50.445121Z",
     "shell.execute_reply": "2022-01-24T10:07:50.445516Z"
    },
    "papermill": {
     "duration": 0.046666,
     "end_time": "2022-01-24T10:07:50.445674",
     "exception": false,
     "start_time": "2022-01-24T10:07:50.399008",
     "status": "completed"
    },
    "tags": []
   },
   "outputs": [],
   "source": [
    "%load_ext autoreload\n",
    "%autoreload 2"
   ]
  },
  {
   "cell_type": "code",
   "execution_count": 2,
   "id": "22ef38dc",
   "metadata": {
    "execution": {
     "iopub.execute_input": "2022-01-24T10:07:50.496887Z",
     "iopub.status.busy": "2022-01-24T10:07:50.496369Z",
     "iopub.status.idle": "2022-01-24T10:07:51.077395Z",
     "shell.execute_reply": "2022-01-24T10:07:51.076844Z"
    },
    "papermill": {
     "duration": 0.608109,
     "end_time": "2022-01-24T10:07:51.077544",
     "exception": false,
     "start_time": "2022-01-24T10:07:50.469435",
     "status": "completed"
    },
    "tags": []
   },
   "outputs": [],
   "source": [
    "%matplotlib inline\n",
    "import numpy as np\n",
    "import matplotlib.pyplot as plt\n",
    "import pandas as pd"
   ]
  },
  {
   "cell_type": "markdown",
   "id": "ba036198",
   "metadata": {
    "papermill": {
     "duration": 0.023974,
     "end_time": "2022-01-24T10:07:51.125590",
     "exception": false,
     "start_time": "2022-01-24T10:07:51.101616",
     "status": "completed"
    },
    "tags": []
   },
   "source": [
    "From the command line run `pip install mnist`. This is a library that will help you bring down the mnist dataset. If you run this from a notebook, you need to put  `!pip install mnist` in a cell by itself."
   ]
  },
  {
   "cell_type": "code",
   "execution_count": 3,
   "id": "bb6ad8a1",
   "metadata": {
    "execution": {
     "iopub.execute_input": "2022-01-24T10:07:51.180671Z",
     "iopub.status.busy": "2022-01-24T10:07:51.180146Z",
     "iopub.status.idle": "2022-01-24T10:07:52.906067Z",
     "shell.execute_reply": "2022-01-24T10:07:52.905079Z"
    },
    "papermill": {
     "duration": 1.756604,
     "end_time": "2022-01-24T10:07:52.906228",
     "exception": false,
     "start_time": "2022-01-24T10:07:51.149624",
     "status": "completed"
    },
    "tags": []
   },
   "outputs": [
    {
     "name": "stdout",
     "output_type": "stream",
     "text": [
      "Collecting mnist\r\n",
      "  Downloading mnist-0.2.2-py2.py3-none-any.whl (3.5 kB)\r\n"
     ]
    },
    {
     "name": "stdout",
     "output_type": "stream",
     "text": [
      "Requirement already satisfied: numpy in /opt/hostedtoolcache/Python/3.6.15/x64/lib/python3.6/site-packages (from mnist) (1.19.5)\r\n"
     ]
    },
    {
     "name": "stdout",
     "output_type": "stream",
     "text": [
      "Installing collected packages: mnist\r\n"
     ]
    },
    {
     "name": "stdout",
     "output_type": "stream",
     "text": [
      "Successfully installed mnist-0.2.2\r\n"
     ]
    }
   ],
   "source": [
    "!pip install mnist"
   ]
  },
  {
   "cell_type": "markdown",
   "id": "69df9c9a",
   "metadata": {
    "papermill": {
     "duration": 0.024893,
     "end_time": "2022-01-24T10:07:52.957241",
     "exception": false,
     "start_time": "2022-01-24T10:07:52.932348",
     "status": "completed"
    },
    "tags": []
   },
   "source": [
    "## Preparing the Data"
   ]
  },
  {
   "cell_type": "code",
   "execution_count": 4,
   "id": "7f69d806",
   "metadata": {
    "execution": {
     "iopub.execute_input": "2022-01-24T10:07:53.024506Z",
     "iopub.status.busy": "2022-01-24T10:07:53.020557Z",
     "iopub.status.idle": "2022-01-24T10:07:53.027180Z",
     "shell.execute_reply": "2022-01-24T10:07:53.027594Z"
    },
    "papermill": {
     "duration": 0.045656,
     "end_time": "2022-01-24T10:07:53.027727",
     "exception": false,
     "start_time": "2022-01-24T10:07:52.982071",
     "status": "completed"
    },
    "tags": []
   },
   "outputs": [],
   "source": [
    "import mnist"
   ]
  },
  {
   "cell_type": "code",
   "execution_count": 5,
   "id": "a411e44f",
   "metadata": {
    "execution": {
     "iopub.execute_input": "2022-01-24T10:07:53.080847Z",
     "iopub.status.busy": "2022-01-24T10:07:53.080332Z",
     "iopub.status.idle": "2022-01-24T10:07:53.585947Z",
     "shell.execute_reply": "2022-01-24T10:07:53.586450Z"
    },
    "papermill": {
     "duration": 0.534,
     "end_time": "2022-01-24T10:07:53.586637",
     "exception": false,
     "start_time": "2022-01-24T10:07:53.052637",
     "status": "completed"
    },
    "tags": []
   },
   "outputs": [],
   "source": [
    "train_images = mnist.train_images()\n",
    "train_labels = mnist.train_labels()"
   ]
  },
  {
   "cell_type": "code",
   "execution_count": 6,
   "id": "dceab3a5",
   "metadata": {
    "execution": {
     "iopub.execute_input": "2022-01-24T10:07:53.649386Z",
     "iopub.status.busy": "2022-01-24T10:07:53.648865Z",
     "iopub.status.idle": "2022-01-24T10:07:53.658359Z",
     "shell.execute_reply": "2022-01-24T10:07:53.658769Z"
    },
    "papermill": {
     "duration": 0.045822,
     "end_time": "2022-01-24T10:07:53.658899",
     "exception": false,
     "start_time": "2022-01-24T10:07:53.613077",
     "status": "completed"
    },
    "tags": []
   },
   "outputs": [
    {
     "data": {
      "text/plain": [
       "((60000, 28, 28), (60000,))"
      ]
     },
     "execution_count": 6,
     "metadata": {},
     "output_type": "execute_result"
    }
   ],
   "source": [
    "train_images.shape, train_labels.shape"
   ]
  },
  {
   "cell_type": "code",
   "execution_count": 7,
   "id": "f50dc2bb",
   "metadata": {
    "execution": {
     "iopub.execute_input": "2022-01-24T10:07:53.712502Z",
     "iopub.status.busy": "2022-01-24T10:07:53.711979Z",
     "iopub.status.idle": "2022-01-24T10:07:53.864820Z",
     "shell.execute_reply": "2022-01-24T10:07:53.865316Z"
    },
    "papermill": {
     "duration": 0.181715,
     "end_time": "2022-01-24T10:07:53.865498",
     "exception": false,
     "start_time": "2022-01-24T10:07:53.683783",
     "status": "completed"
    },
    "tags": []
   },
   "outputs": [],
   "source": [
    "test_images = mnist.test_images()\n",
    "test_labels = mnist.test_labels()"
   ]
  },
  {
   "cell_type": "code",
   "execution_count": 8,
   "id": "fc38cf1b",
   "metadata": {
    "execution": {
     "iopub.execute_input": "2022-01-24T10:07:53.919779Z",
     "iopub.status.busy": "2022-01-24T10:07:53.919235Z",
     "iopub.status.idle": "2022-01-24T10:07:53.932247Z",
     "shell.execute_reply": "2022-01-24T10:07:53.931804Z"
    },
    "papermill": {
     "duration": 0.040947,
     "end_time": "2022-01-24T10:07:53.932359",
     "exception": false,
     "start_time": "2022-01-24T10:07:53.891412",
     "status": "completed"
    },
    "tags": []
   },
   "outputs": [
    {
     "data": {
      "text/plain": [
       "((10000, 28, 28), (10000,))"
      ]
     },
     "execution_count": 8,
     "metadata": {},
     "output_type": "execute_result"
    }
   ],
   "source": [
    "test_images.shape, test_labels.shape"
   ]
  },
  {
   "cell_type": "code",
   "execution_count": 9,
   "id": "f9ed8fe0",
   "metadata": {
    "execution": {
     "iopub.execute_input": "2022-01-24T10:07:54.013018Z",
     "iopub.status.busy": "2022-01-24T10:07:53.996444Z",
     "iopub.status.idle": "2022-01-24T10:07:54.129469Z",
     "shell.execute_reply": "2022-01-24T10:07:54.129013Z"
    },
    "papermill": {
     "duration": 0.172188,
     "end_time": "2022-01-24T10:07:54.129587",
     "exception": false,
     "start_time": "2022-01-24T10:07:53.957399",
     "status": "completed"
    },
    "tags": []
   },
   "outputs": [
    {
     "name": "stdout",
     "output_type": "stream",
     "text": [
      "2\n"
     ]
    },
    {
     "data": {
      "text/plain": [
       "<matplotlib.image.AxesImage at 0x7f018c540b70>"
      ]
     },
     "execution_count": 9,
     "metadata": {},
     "output_type": "execute_result"
    },
    {
     "data": {
      "image/png": "[encoded data removed]",
      "text/plain": [
       "<Figure size 432x288 with 1 Axes>"
      ]
     },
     "metadata": {
      "needs_background": "light"
     },
     "output_type": "display_data"
    }
   ],
   "source": [
    "image_index = 7776 # You may select anything up to 60,000\n",
    "print(train_labels[image_index]) \n",
    "plt.imshow(train_images[image_index], cmap='Greys')"
   ]
  },
  {
   "cell_type": "markdown",
   "id": "a8d2388d",
   "metadata": {
    "papermill": {
     "duration": 0.026203,
     "end_time": "2022-01-24T10:07:54.182427",
     "exception": false,
     "start_time": "2022-01-24T10:07:54.156224",
     "status": "completed"
    },
    "tags": []
   },
   "source": [
    "## Filter data to get 3 and 8 out"
   ]
  },
  {
   "cell_type": "code",
   "execution_count": 10,
   "id": "776f7fc7",
   "metadata": {
    "execution": {
     "iopub.execute_input": "2022-01-24T10:07:54.248977Z",
     "iopub.status.busy": "2022-01-24T10:07:54.240515Z",
     "iopub.status.idle": "2022-01-24T10:07:54.257239Z",
     "shell.execute_reply": "2022-01-24T10:07:54.257625Z"
    },
    "papermill": {
     "duration": 0.048989,
     "end_time": "2022-01-24T10:07:54.257765",
     "exception": false,
     "start_time": "2022-01-24T10:07:54.208776",
     "status": "completed"
    },
    "tags": []
   },
   "outputs": [],
   "source": [
    "train_filter = np.where((train_labels == 3 ) | (train_labels == 8))\n",
    "test_filter = np.where((test_labels == 3) | (test_labels == 8))\n",
    "X_train, y_train = train_images[train_filter], train_labels[train_filter]\n",
    "X_test, y_test = test_images[test_filter], test_labels[test_filter]"
   ]
  },
  {
   "cell_type": "markdown",
   "id": "948f0b7e",
   "metadata": {
    "papermill": {
     "duration": 0.026174,
     "end_time": "2022-01-24T10:07:54.310398",
     "exception": false,
     "start_time": "2022-01-24T10:07:54.284224",
     "status": "completed"
    },
    "tags": []
   },
   "source": [
    "We normalize the pizel values in the 0 to 1 range"
   ]
  },
  {
   "cell_type": "code",
   "execution_count": 11,
   "id": "ee4c2166",
   "metadata": {
    "execution": {
     "iopub.execute_input": "2022-01-24T10:07:54.367143Z",
     "iopub.status.busy": "2022-01-24T10:07:54.366334Z",
     "iopub.status.idle": "2022-01-24T10:07:54.415472Z",
     "shell.execute_reply": "2022-01-24T10:07:54.414969Z"
    },
    "papermill": {
     "duration": 0.078935,
     "end_time": "2022-01-24T10:07:54.415615",
     "exception": false,
     "start_time": "2022-01-24T10:07:54.336680",
     "status": "completed"
    },
    "tags": []
   },
   "outputs": [],
   "source": [
    "X_train = X_train/255.\n",
    "X_test = X_test/255."
   ]
  },
  {
   "cell_type": "markdown",
   "id": "ddcf4fab",
   "metadata": {
    "papermill": {
     "duration": 0.026268,
     "end_time": "2022-01-24T10:07:54.469442",
     "exception": false,
     "start_time": "2022-01-24T10:07:54.443174",
     "status": "completed"
    },
    "tags": []
   },
   "source": [
    "And setup the labels as 1 (when the digit is 3) and 0 (when the digit is 8)"
   ]
  },
  {
   "cell_type": "code",
   "execution_count": 12,
   "id": "7dc908f2",
   "metadata": {
    "execution": {
     "iopub.execute_input": "2022-01-24T10:07:54.534484Z",
     "iopub.status.busy": "2022-01-24T10:07:54.533962Z",
     "iopub.status.idle": "2022-01-24T10:07:54.541354Z",
     "shell.execute_reply": "2022-01-24T10:07:54.540937Z"
    },
    "papermill": {
     "duration": 0.04579,
     "end_time": "2022-01-24T10:07:54.541470",
     "exception": false,
     "start_time": "2022-01-24T10:07:54.495680",
     "status": "completed"
    },
    "tags": []
   },
   "outputs": [],
   "source": [
    "y_train = 1*(y_train==3)\n",
    "y_test = 1*(y_test==3)"
   ]
  },
  {
   "cell_type": "code",
   "execution_count": 13,
   "id": "01e4e969",
   "metadata": {
    "execution": {
     "iopub.execute_input": "2022-01-24T10:07:54.598334Z",
     "iopub.status.busy": "2022-01-24T10:07:54.597824Z",
     "iopub.status.idle": "2022-01-24T10:07:54.611468Z",
     "shell.execute_reply": "2022-01-24T10:07:54.611035Z"
    },
    "papermill": {
     "duration": 0.043258,
     "end_time": "2022-01-24T10:07:54.611579",
     "exception": false,
     "start_time": "2022-01-24T10:07:54.568321",
     "status": "completed"
    },
    "tags": []
   },
   "outputs": [
    {
     "data": {
      "text/plain": [
       "((11982, 28, 28), (1984, 28, 28))"
      ]
     },
     "execution_count": 13,
     "metadata": {},
     "output_type": "execute_result"
    }
   ],
   "source": [
    "X_train.shape, X_test.shape"
   ]
  },
  {
   "cell_type": "markdown",
   "id": "5ccf3f85",
   "metadata": {
    "papermill": {
     "duration": 0.026743,
     "end_time": "2022-01-24T10:07:54.664836",
     "exception": false,
     "start_time": "2022-01-24T10:07:54.638093",
     "status": "completed"
    },
    "tags": []
   },
   "source": [
    "We reshape the data to flatten the image pixels into a set of features or co-variates:"
   ]
  },
  {
   "cell_type": "code",
   "execution_count": 14,
   "id": "5286a4a3",
   "metadata": {
    "execution": {
     "iopub.execute_input": "2022-01-24T10:07:54.721809Z",
     "iopub.status.busy": "2022-01-24T10:07:54.721295Z",
     "iopub.status.idle": "2022-01-24T10:07:54.735254Z",
     "shell.execute_reply": "2022-01-24T10:07:54.734847Z"
    },
    "papermill": {
     "duration": 0.043878,
     "end_time": "2022-01-24T10:07:54.735366",
     "exception": false,
     "start_time": "2022-01-24T10:07:54.691488",
     "status": "completed"
    },
    "tags": []
   },
   "outputs": [
    {
     "data": {
      "text/plain": [
       "((11982, 784), (1984, 784))"
      ]
     },
     "execution_count": 14,
     "metadata": {},
     "output_type": "execute_result"
    }
   ],
   "source": [
    "X_train = X_train.reshape(X_train.shape[0], -1)\n",
    "X_test = X_test.reshape(X_test.shape[0], -1)\n",
    "X_train.shape, X_test.shape"
   ]
  },
  {
   "cell_type": "code",
   "execution_count": 15,
   "id": "73c5f88a",
   "metadata": {
    "execution": {
     "iopub.execute_input": "2022-01-24T10:07:54.804476Z",
     "iopub.status.busy": "2022-01-24T10:07:54.798083Z",
     "iopub.status.idle": "2022-01-24T10:07:54.812920Z",
     "shell.execute_reply": "2022-01-24T10:07:54.813301Z"
    },
    "papermill": {
     "duration": 0.051334,
     "end_time": "2022-01-24T10:07:54.813429",
     "exception": false,
     "start_time": "2022-01-24T10:07:54.762095",
     "status": "completed"
    },
    "tags": []
   },
   "outputs": [],
   "source": [
    "#Impoting functions from 'Kudzu'\n",
    "from kudzu.model import Model\n",
    "from kudzu.train import Learner\n",
    "from kudzu.optim import GD\n",
    "from kudzu.data import Data, Sampler,Dataloader\n",
    "\n",
    "from kudzu.callbacks import AccCallback\n",
    "from kudzu.callbacks import ClfCallback\n",
    "\n",
    "from kudzu.loss import MSE\n",
    "\n",
    "from kudzu.layer import Sigmoid,Relu\n",
    "from kudzu.layer import Affine"
   ]
  },
  {
   "cell_type": "markdown",
   "id": "bc01172a",
   "metadata": {
    "papermill": {
     "duration": 0.026701,
     "end_time": "2022-01-24T10:07:54.866892",
     "exception": false,
     "start_time": "2022-01-24T10:07:54.840191",
     "status": "completed"
    },
    "tags": []
   },
   "source": [
    "### Let us create a `Config` class, to store important parameters. \n",
    "This class essentially plays the role of a dictionary."
   ]
  },
  {
   "cell_type": "code",
   "execution_count": 16,
   "id": "978281aa",
   "metadata": {
    "execution": {
     "iopub.execute_input": "2022-01-24T10:07:54.925133Z",
     "iopub.status.busy": "2022-01-24T10:07:54.924618Z",
     "iopub.status.idle": "2022-01-24T10:07:54.936271Z",
     "shell.execute_reply": "2022-01-24T10:07:54.935828Z"
    },
    "papermill": {
     "duration": 0.042833,
     "end_time": "2022-01-24T10:07:54.936376",
     "exception": false,
     "start_time": "2022-01-24T10:07:54.893543",
     "status": "completed"
    },
    "tags": []
   },
   "outputs": [],
   "source": [
    "class Config:\n",
    "    pass\n",
    "config = Config()\n",
    "config.lr = 0.001\n",
    "config.num_epochs = 250\n",
    "config.bs = 50"
   ]
  },
  {
   "cell_type": "markdown",
   "id": "1385fa59",
   "metadata": {
    "papermill": {
     "duration": 0.026668,
     "end_time": "2022-01-24T10:07:54.989852",
     "exception": false,
     "start_time": "2022-01-24T10:07:54.963184",
     "status": "completed"
    },
    "tags": []
   },
   "source": [
    "### Running Models with the Training data\n",
    "Details about the network layers:\n",
    "- A first affine layer has 784 inputs and does 100 affine transforms. These are followed by a Relu\n",
    "- A second affine layer has 100 inputs from the 100 activations of the past layer, and does 100 affine transforms. These are followed by a Relu\n",
    "- A third affine layer has 100 activations and does 2 affine transformations to create an embedding for visualization. There is no non-linearity here.\n",
    "- A final \"logistic regression\" which has an affine transform from 2 inputs to 1 output, which is squeezed through a sigmoid.\n"
   ]
  },
  {
   "cell_type": "code",
   "execution_count": 17,
   "id": "2b9c66db",
   "metadata": {
    "execution": {
     "iopub.execute_input": "2022-01-24T10:07:55.048411Z",
     "iopub.status.busy": "2022-01-24T10:07:55.046671Z",
     "iopub.status.idle": "2022-01-24T10:07:55.059414Z",
     "shell.execute_reply": "2022-01-24T10:07:55.058996Z"
    },
    "papermill": {
     "duration": 0.04295,
     "end_time": "2022-01-24T10:07:55.059524",
     "exception": false,
     "start_time": "2022-01-24T10:07:55.016574",
     "status": "completed"
    },
    "tags": []
   },
   "outputs": [],
   "source": [
    "data = Data(X_train, y_train.reshape(-1,1))\n",
    "sampler = Sampler(data, config.bs, shuffle=True)\n",
    "\n",
    "dl = Dataloader(data, sampler)\n",
    "\n",
    "opt = GD(config.lr)\n",
    "loss = MSE()"
   ]
  },
  {
   "cell_type": "code",
   "execution_count": 18,
   "id": "b275e4c2",
   "metadata": {
    "execution": {
     "iopub.execute_input": "2022-01-24T10:07:55.117344Z",
     "iopub.status.busy": "2022-01-24T10:07:55.116830Z",
     "iopub.status.idle": "2022-01-24T10:07:55.129313Z",
     "shell.execute_reply": "2022-01-24T10:07:55.128875Z"
    },
    "papermill": {
     "duration": 0.042824,
     "end_time": "2022-01-24T10:07:55.129420",
     "exception": false,
     "start_time": "2022-01-24T10:07:55.086596",
     "status": "completed"
    },
    "tags": []
   },
   "outputs": [],
   "source": [
    "training_data_x = X_train\n",
    "testing_data_x = X_test\n",
    "training_data_y = y_train.reshape(-1,1)\n",
    "testing_data_y = y_test.reshape(-1,1)"
   ]
  },
  {
   "cell_type": "code",
   "execution_count": 19,
   "id": "76951160",
   "metadata": {
    "execution": {
     "iopub.execute_input": "2022-01-24T10:07:55.201559Z",
     "iopub.status.busy": "2022-01-24T10:07:55.196691Z",
     "iopub.status.idle": "2022-01-24T10:07:55.207267Z",
     "shell.execute_reply": "2022-01-24T10:07:55.207651Z"
    },
    "papermill": {
     "duration": 0.051651,
     "end_time": "2022-01-24T10:07:55.207801",
     "exception": false,
     "start_time": "2022-01-24T10:07:55.156150",
     "status": "completed"
    },
    "tags": []
   },
   "outputs": [
    {
     "name": "stdout",
     "output_type": "stream",
     "text": [
      "xavier\n",
      "xavier\n",
      "xavier\n",
      "xavier\n",
      "xavier\n"
     ]
    }
   ],
   "source": [
    "layers = [Affine(\"first\", 784, 100), Relu(\"first\"), Affine(\"second\", 100, 100), Relu(\"second\"), Affine(\"third\", 100, 2), Affine(\"last\", 2, 1), Sigmoid(\"last\")]\n",
    "model_nn = Model(layers)\n",
    "model_lr = Model([Affine(\"logits\", 784, 1), Sigmoid(\"sigmoid\")])"
   ]
  },
  {
   "cell_type": "code",
   "execution_count": 20,
   "id": "6eede77a",
   "metadata": {
    "execution": {
     "iopub.execute_input": "2022-01-24T10:07:55.267708Z",
     "iopub.status.busy": "2022-01-24T10:07:55.267195Z",
     "iopub.status.idle": "2022-01-24T10:07:55.278789Z",
     "shell.execute_reply": "2022-01-24T10:07:55.279181Z"
    },
    "papermill": {
     "duration": 0.044376,
     "end_time": "2022-01-24T10:07:55.279312",
     "exception": false,
     "start_time": "2022-01-24T10:07:55.234936",
     "status": "completed"
    },
    "tags": []
   },
   "outputs": [],
   "source": [
    "nn_learner = Learner(loss, model_nn, opt, config.num_epochs)\n",
    "acc_nn = ClfCallback(nn_learner, config.bs, training_data_x , testing_data_x, training_data_y, testing_data_y)\n",
    "nn_learner.set_callbacks([acc_nn])"
   ]
  },
  {
   "cell_type": "code",
   "execution_count": 21,
   "id": "877b6cc7",
   "metadata": {
    "execution": {
     "iopub.execute_input": "2022-01-24T10:07:55.342513Z",
     "iopub.status.busy": "2022-01-24T10:07:55.341995Z",
     "iopub.status.idle": "2022-01-24T10:07:55.354906Z",
     "shell.execute_reply": "2022-01-24T10:07:55.354489Z"
    },
    "papermill": {
     "duration": 0.044928,
     "end_time": "2022-01-24T10:07:55.355024",
     "exception": false,
     "start_time": "2022-01-24T10:07:55.310096",
     "status": "completed"
    },
    "tags": []
   },
   "outputs": [],
   "source": [
    "lr_learner = Learner(loss, model_lr, opt, config.num_epochs)\n",
    "acc_lr = ClfCallback(lr_learner, config.bs, training_data_x , testing_data_x, training_data_y, testing_data_y)\n",
    "lr_learner.set_callbacks([acc_lr])"
   ]
  },
  {
   "cell_type": "code",
   "execution_count": 22,
   "id": "d9b133c3",
   "metadata": {
    "execution": {
     "iopub.execute_input": "2022-01-24T10:07:55.428510Z",
     "iopub.status.busy": "2022-01-24T10:07:55.427200Z",
     "iopub.status.idle": "2022-01-24T10:09:15.015173Z",
     "shell.execute_reply": "2022-01-24T10:09:15.015956Z"
    },
    "papermill": {
     "duration": 79.632581,
     "end_time": "2022-01-24T10:09:15.016115",
     "exception": false,
     "start_time": "2022-01-24T10:07:55.383534",
     "status": "completed"
    },
    "tags": []
   },
   "outputs": [
    {
     "name": "stdout",
     "output_type": "stream",
     "text": [
      "Epoch 0, Loss 0.2555\n",
      "Training Accuracy: 0.4493, Testing Accuracy: 0.4758\n",
      "\n"
     ]
    },
    {
     "name": "stdout",
     "output_type": "stream",
     "text": [
      "Epoch 10, Loss 0.1975\n",
      "Training Accuracy: 0.8756, Testing Accuracy: 0.8977\n",
      "\n"
     ]
    },
    {
     "name": "stdout",
     "output_type": "stream",
     "text": [
      "Epoch 20, Loss 0.1039\n",
      "Training Accuracy: 0.9145, Testing Accuracy: 0.9234\n",
      "\n"
     ]
    },
    {
     "name": "stdout",
     "output_type": "stream",
     "text": [
      "Epoch 30, Loss 0.0635\n",
      "Training Accuracy: 0.9343, Testing Accuracy: 0.9476\n",
      "\n"
     ]
    },
    {
     "name": "stdout",
     "output_type": "stream",
     "text": [
      "Epoch 40, Loss 0.0488\n",
      "Training Accuracy: 0.9463, Testing Accuracy: 0.9572\n",
      "\n"
     ]
    },
    {
     "name": "stdout",
     "output_type": "stream",
     "text": [
      "Epoch 50, Loss 0.0415\n",
      "Training Accuracy: 0.9533, Testing Accuracy: 0.9627\n",
      "\n"
     ]
    },
    {
     "name": "stdout",
     "output_type": "stream",
     "text": [
      "Epoch 60, Loss 0.0372\n",
      "Training Accuracy: 0.9568, Testing Accuracy: 0.9657\n",
      "\n"
     ]
    },
    {
     "name": "stdout",
     "output_type": "stream",
     "text": [
      "Epoch 70, Loss 0.0343\n",
      "Training Accuracy: 0.9602, Testing Accuracy: 0.9693\n",
      "\n"
     ]
    },
    {
     "name": "stdout",
     "output_type": "stream",
     "text": [
      "Epoch 80, Loss 0.0321\n",
      "Training Accuracy: 0.9627, Testing Accuracy: 0.9708\n",
      "\n"
     ]
    },
    {
     "name": "stdout",
     "output_type": "stream",
     "text": [
      "Epoch 90, Loss 0.0304\n",
      "Training Accuracy: 0.9645, Testing Accuracy: 0.9718\n",
      "\n"
     ]
    },
    {
     "name": "stdout",
     "output_type": "stream",
     "text": [
      "Epoch 100, Loss 0.029\n",
      "Training Accuracy: 0.9653, Testing Accuracy: 0.9713\n",
      "\n"
     ]
    },
    {
     "name": "stdout",
     "output_type": "stream",
     "text": [
      "Epoch 110, Loss 0.0278\n",
      "Training Accuracy: 0.9665, Testing Accuracy: 0.9718\n",
      "\n"
     ]
    },
    {
     "name": "stdout",
     "output_type": "stream",
     "text": [
      "Epoch 120, Loss 0.0268\n",
      "Training Accuracy: 0.9684, Testing Accuracy: 0.9718\n",
      "\n"
     ]
    },
    {
     "name": "stdout",
     "output_type": "stream",
     "text": [
      "Epoch 130, Loss 0.0259\n",
      "Training Accuracy: 0.9695, Testing Accuracy: 0.9728\n",
      "\n"
     ]
    },
    {
     "name": "stdout",
     "output_type": "stream",
     "text": [
      "Epoch 140, Loss 0.0252\n",
      "Training Accuracy: 0.9710, Testing Accuracy: 0.9728\n",
      "\n"
     ]
    },
    {
     "name": "stdout",
     "output_type": "stream",
     "text": [
      "Epoch 150, Loss 0.0244\n",
      "Training Accuracy: 0.9715, Testing Accuracy: 0.9738\n",
      "\n"
     ]
    },
    {
     "name": "stdout",
     "output_type": "stream",
     "text": [
      "Epoch 160, Loss 0.0238\n",
      "Training Accuracy: 0.9723, Testing Accuracy: 0.9733\n",
      "\n"
     ]
    },
    {
     "name": "stdout",
     "output_type": "stream",
     "text": [
      "Epoch 170, Loss 0.0232\n",
      "Training Accuracy: 0.9735, Testing Accuracy: 0.9728\n",
      "\n"
     ]
    },
    {
     "name": "stdout",
     "output_type": "stream",
     "text": [
      "Epoch 180, Loss 0.0226\n",
      "Training Accuracy: 0.9739, Testing Accuracy: 0.9723\n",
      "\n"
     ]
    },
    {
     "name": "stdout",
     "output_type": "stream",
     "text": [
      "Epoch 190, Loss 0.0221\n",
      "Training Accuracy: 0.9750, Testing Accuracy: 0.9723\n",
      "\n"
     ]
    },
    {
     "name": "stdout",
     "output_type": "stream",
     "text": [
      "Epoch 200, Loss 0.0216\n",
      "Training Accuracy: 0.9757, Testing Accuracy: 0.9723\n",
      "\n"
     ]
    },
    {
     "name": "stdout",
     "output_type": "stream",
     "text": [
      "Epoch 210, Loss 0.0212\n",
      "Training Accuracy: 0.9765, Testing Accuracy: 0.9723\n",
      "\n"
     ]
    },
    {
     "name": "stdout",
     "output_type": "stream",
     "text": [
      "Epoch 220, Loss 0.0207\n",
      "Training Accuracy: 0.9768, Testing Accuracy: 0.9733\n",
      "\n"
     ]
    },
    {
     "name": "stdout",
     "output_type": "stream",
     "text": [
      "Epoch 230, Loss 0.0203\n",
      "Training Accuracy: 0.9776, Testing Accuracy: 0.9733\n",
      "\n"
     ]
    },
    {
     "name": "stdout",
     "output_type": "stream",
     "text": [
      "Epoch 240, Loss 0.0199\n",
      "Training Accuracy: 0.9780, Testing Accuracy: 0.9733\n",
      "\n"
     ]
    },
    {
     "data": {
      "text/plain": [
       "0.00474469154655624"
      ]
     },
     "execution_count": 22,
     "metadata": {},
     "output_type": "execute_result"
    }
   ],
   "source": [
    "nn_learner.train_loop(dl)"
   ]
  },
  {
   "cell_type": "code",
   "execution_count": 23,
   "id": "e0163366",
   "metadata": {
    "execution": {
     "iopub.execute_input": "2022-01-24T10:09:15.093334Z",
     "iopub.status.busy": "2022-01-24T10:09:15.092817Z",
     "iopub.status.idle": "2022-01-24T10:09:29.389569Z",
     "shell.execute_reply": "2022-01-24T10:09:29.390312Z"
    },
    "papermill": {
     "duration": 14.339708,
     "end_time": "2022-01-24T10:09:29.390471",
     "exception": false,
     "start_time": "2022-01-24T10:09:15.050763",
     "status": "completed"
    },
    "tags": []
   },
   "outputs": [
    {
     "name": "stdout",
     "output_type": "stream",
     "text": [
      "Epoch 0, Loss 0.2247\n",
      "Training Accuracy: 0.7303, Testing Accuracy: 0.7576\n",
      "\n"
     ]
    },
    {
     "name": "stdout",
     "output_type": "stream",
     "text": [
      "Epoch 10, Loss 0.1043\n",
      "Training Accuracy: 0.9050, Testing Accuracy: 0.9148\n",
      "\n"
     ]
    },
    {
     "name": "stdout",
     "output_type": "stream",
     "text": [
      "Epoch 20, Loss 0.0805\n",
      "Training Accuracy: 0.9252, Testing Accuracy: 0.9375\n",
      "\n"
     ]
    },
    {
     "name": "stdout",
     "output_type": "stream",
     "text": [
      "Epoch 30, Loss 0.0693\n",
      "Training Accuracy: 0.9340, Testing Accuracy: 0.9506\n",
      "\n"
     ]
    },
    {
     "name": "stdout",
     "output_type": "stream",
     "text": [
      "Epoch 40, Loss 0.0625\n",
      "Training Accuracy: 0.9402, Testing Accuracy: 0.9516\n",
      "\n"
     ]
    },
    {
     "name": "stdout",
     "output_type": "stream",
     "text": [
      "Epoch 50, Loss 0.0579\n",
      "Training Accuracy: 0.9440, Testing Accuracy: 0.9536\n",
      "\n"
     ]
    },
    {
     "name": "stdout",
     "output_type": "stream",
     "text": [
      "Epoch 60, Loss 0.0545\n",
      "Training Accuracy: 0.9468, Testing Accuracy: 0.9556\n",
      "\n"
     ]
    },
    {
     "name": "stdout",
     "output_type": "stream",
     "text": [
      "Epoch 70, Loss 0.0518\n",
      "Training Accuracy: 0.9494, Testing Accuracy: 0.9577\n",
      "\n"
     ]
    },
    {
     "name": "stdout",
     "output_type": "stream",
     "text": [
      "Epoch 80, Loss 0.0497\n",
      "Training Accuracy: 0.9514, Testing Accuracy: 0.9602\n",
      "\n"
     ]
    },
    {
     "name": "stdout",
     "output_type": "stream",
     "text": [
      "Epoch 90, Loss 0.048\n",
      "Training Accuracy: 0.9528, Testing Accuracy: 0.9632\n",
      "\n"
     ]
    },
    {
     "name": "stdout",
     "output_type": "stream",
     "text": [
      "Epoch 100, Loss 0.0466\n",
      "Training Accuracy: 0.9538, Testing Accuracy: 0.9637\n",
      "\n"
     ]
    },
    {
     "name": "stdout",
     "output_type": "stream",
     "text": [
      "Epoch 110, Loss 0.0453\n",
      "Training Accuracy: 0.9551, Testing Accuracy: 0.9642\n",
      "\n"
     ]
    },
    {
     "name": "stdout",
     "output_type": "stream",
     "text": [
      "Epoch 120, Loss 0.0442\n",
      "Training Accuracy: 0.9559, Testing Accuracy: 0.9652\n",
      "\n"
     ]
    },
    {
     "name": "stdout",
     "output_type": "stream",
     "text": [
      "Epoch 130, Loss 0.0433\n",
      "Training Accuracy: 0.9571, Testing Accuracy: 0.9657\n",
      "\n"
     ]
    },
    {
     "name": "stdout",
     "output_type": "stream",
     "text": [
      "Epoch 140, Loss 0.0424\n",
      "Training Accuracy: 0.9573, Testing Accuracy: 0.9662\n",
      "\n"
     ]
    },
    {
     "name": "stdout",
     "output_type": "stream",
     "text": [
      "Epoch 150, Loss 0.0417\n",
      "Training Accuracy: 0.9577, Testing Accuracy: 0.9662\n",
      "\n"
     ]
    },
    {
     "name": "stdout",
     "output_type": "stream",
     "text": [
      "Epoch 160, Loss 0.041\n",
      "Training Accuracy: 0.9584, Testing Accuracy: 0.9657\n",
      "\n"
     ]
    },
    {
     "name": "stdout",
     "output_type": "stream",
     "text": [
      "Epoch 170, Loss 0.0404\n",
      "Training Accuracy: 0.9587, Testing Accuracy: 0.9662\n",
      "\n"
     ]
    },
    {
     "name": "stdout",
     "output_type": "stream",
     "text": [
      "Epoch 180, Loss 0.0398\n",
      "Training Accuracy: 0.9589, Testing Accuracy: 0.9667\n",
      "\n"
     ]
    },
    {
     "name": "stdout",
     "output_type": "stream",
     "text": [
      "Epoch 190, Loss 0.0393\n",
      "Training Accuracy: 0.9595, Testing Accuracy: 0.9667\n",
      "\n"
     ]
    },
    {
     "name": "stdout",
     "output_type": "stream",
     "text": [
      "Epoch 200, Loss 0.0388\n",
      "Training Accuracy: 0.9599, Testing Accuracy: 0.9667\n",
      "\n"
     ]
    },
    {
     "name": "stdout",
     "output_type": "stream",
     "text": [
      "Epoch 210, Loss 0.0383\n",
      "Training Accuracy: 0.9606, Testing Accuracy: 0.9672\n",
      "\n"
     ]
    },
    {
     "name": "stdout",
     "output_type": "stream",
     "text": [
      "Epoch 220, Loss 0.0379\n",
      "Training Accuracy: 0.9608, Testing Accuracy: 0.9672\n",
      "\n"
     ]
    },
    {
     "name": "stdout",
     "output_type": "stream",
     "text": [
      "Epoch 230, Loss 0.0375\n",
      "Training Accuracy: 0.9611, Testing Accuracy: 0.9667\n",
      "\n"
     ]
    },
    {
     "name": "stdout",
     "output_type": "stream",
     "text": [
      "Epoch 240, Loss 0.0371\n",
      "Training Accuracy: 0.9615, Testing Accuracy: 0.9667\n",
      "\n"
     ]
    },
    {
     "data": {
      "text/plain": [
       "0.041966800318791166"
      ]
     },
     "execution_count": 23,
     "metadata": {},
     "output_type": "execute_result"
    }
   ],
   "source": [
    "lr_learner.train_loop(dl)"
   ]
  },
  {
   "cell_type": "code",
   "execution_count": 24,
   "id": "ca410940",
   "metadata": {
    "execution": {
     "iopub.execute_input": "2022-01-24T10:09:29.485382Z",
     "iopub.status.busy": "2022-01-24T10:09:29.484828Z",
     "iopub.status.idle": "2022-01-24T10:09:29.706126Z",
     "shell.execute_reply": "2022-01-24T10:09:29.706553Z"
    },
    "papermill": {
     "duration": 0.27444,
     "end_time": "2022-01-24T10:09:29.706700",
     "exception": false,
     "start_time": "2022-01-24T10:09:29.432260",
     "status": "completed"
    },
    "tags": []
   },
   "outputs": [
    {
     "data": {
      "text/plain": [
       "<matplotlib.legend.Legend at 0x7f018c09cf60>"
      ]
     },
     "execution_count": 24,
     "metadata": {},
     "output_type": "execute_result"
    },
    {
     "data": {
      "image/png": "[encoded data removed]",
      "text/plain": [
       "<Figure size 1080x720 with 1 Axes>"
      ]
     },
     "metadata": {
      "needs_background": "light"
     },
     "output_type": "display_data"
    }
   ],
   "source": [
    "#comparing the results of NN and LR\n",
    "plt.figure(figsize=(15,10))\n",
    "\n",
    "# Neural Network plots\n",
    "plt.plot(acc_nn.accuracies, 'r-', label = \"Training Accuracies - NN\")\n",
    "plt.plot(acc_nn.test_accuracies, 'g-', label = \"Testing Accuracies - NN\")\n",
    "\n",
    "# Logistic Regression plots\n",
    "plt.plot(acc_lr.accuracies, 'k-', label = \"Training Accuracies - LR\")\n",
    "plt.plot(acc_lr.test_accuracies, 'b-', label = \"Testing Accuracies - LR\")\n",
    "plt.legend()"
   ]
  },
  {
   "cell_type": "markdown",
   "id": "80dfb35c",
   "metadata": {
    "papermill": {
     "duration": 0.04225,
     "end_time": "2022-01-24T10:09:29.791503",
     "exception": false,
     "start_time": "2022-01-24T10:09:29.749253",
     "status": "completed"
    },
    "tags": []
   },
   "source": [
    "#### Plotting the outputs of this layer of the NN.\n"
   ]
  },
  {
   "cell_type": "code",
   "execution_count": 25,
   "id": "45eb2ff5",
   "metadata": {
    "execution": {
     "iopub.execute_input": "2022-01-24T10:09:29.882380Z",
     "iopub.status.busy": "2022-01-24T10:09:29.881813Z",
     "iopub.status.idle": "2022-01-24T10:09:29.905133Z",
     "shell.execute_reply": "2022-01-24T10:09:29.905821Z"
    },
    "papermill": {
     "duration": 0.072144,
     "end_time": "2022-01-24T10:09:29.905982",
     "exception": false,
     "start_time": "2022-01-24T10:09:29.833838",
     "status": "completed"
    },
    "tags": []
   },
   "outputs": [],
   "source": [
    "new_model = Model(layers[:-2])\n",
    "testing_plot = new_model(testing_data_x)"
   ]
  },
  {
   "cell_type": "code",
   "execution_count": 26,
   "id": "4c0a5485",
   "metadata": {
    "execution": {
     "iopub.execute_input": "2022-01-24T10:09:30.004995Z",
     "iopub.status.busy": "2022-01-24T10:09:29.996403Z",
     "iopub.status.idle": "2022-01-24T10:09:30.184395Z",
     "shell.execute_reply": "2022-01-24T10:09:30.183917Z"
    },
    "papermill": {
     "duration": 0.235843,
     "end_time": "2022-01-24T10:09:30.184524",
     "exception": false,
     "start_time": "2022-01-24T10:09:29.948681",
     "status": "completed"
    },
    "tags": []
   },
   "outputs": [
    {
     "data": {
      "text/plain": [
       "Text(0.5, 1.0, 'Outputs')"
      ]
     },
     "execution_count": 26,
     "metadata": {},
     "output_type": "execute_result"
    },
    {
     "data": {
      "image/png": "[encoded data removed]",
      "text/plain": [
       "<Figure size 576x504 with 1 Axes>"
      ]
     },
     "metadata": {
      "needs_background": "light"
     },
     "output_type": "display_data"
    }
   ],
   "source": [
    "# Plotting the scatter plot of points and color coding by class\n",
    "plt.figure(figsize=(8,7))\n",
    "plt.scatter(testing_plot[:,0], testing_plot[:,1], alpha = 0.1, c = y_test.ravel());\n",
    "plt.title('Outputs')"
   ]
  },
  {
   "cell_type": "markdown",
   "id": "a74fcf8f",
   "metadata": {
    "papermill": {
     "duration": 0.043466,
     "end_time": "2022-01-24T10:09:30.271910",
     "exception": false,
     "start_time": "2022-01-24T10:09:30.228444",
     "status": "completed"
    },
    "tags": []
   },
   "source": [
    "Probability contours"
   ]
  },
  {
   "cell_type": "code",
   "execution_count": 27,
   "id": "d0afc8e3",
   "metadata": {
    "execution": {
     "iopub.execute_input": "2022-01-24T10:09:30.372505Z",
     "iopub.status.busy": "2022-01-24T10:09:30.362811Z",
     "iopub.status.idle": "2022-01-24T10:09:30.378268Z",
     "shell.execute_reply": "2022-01-24T10:09:30.377824Z"
    },
    "papermill": {
     "duration": 0.062836,
     "end_time": "2022-01-24T10:09:30.378386",
     "exception": false,
     "start_time": "2022-01-24T10:09:30.315550",
     "status": "completed"
    },
    "tags": []
   },
   "outputs": [],
   "source": [
    "model_prob = Model(layers[-2:]) "
   ]
  },
  {
   "cell_type": "code",
   "execution_count": 28,
   "id": "9b96e238",
   "metadata": {
    "execution": {
     "iopub.execute_input": "2022-01-24T10:09:30.519050Z",
     "iopub.status.busy": "2022-01-24T10:09:30.512863Z",
     "iopub.status.idle": "2022-01-24T10:09:30.520165Z",
     "shell.execute_reply": "2022-01-24T10:09:30.519627Z"
    },
    "papermill": {
     "duration": 0.098147,
     "end_time": "2022-01-24T10:09:30.520278",
     "exception": false,
     "start_time": "2022-01-24T10:09:30.422131",
     "status": "completed"
    },
    "tags": []
   },
   "outputs": [],
   "source": [
    "#creating the x and y ranges according to the above generated plot.\n",
    "x_range = np.linspace(-4, 1, 100) \n",
    "y_range = np.linspace(-6, 6, 100) \n",
    "x_grid, y_grid = np.meshgrid(x_range, y_range) # x_grid and y_grig are of size 100 X 100\n",
    "\n",
    "# converting x_grid and y_grid to continuous arrays\n",
    "x_gridflat = np.ravel(x_grid)\n",
    "y_gridflat = np.ravel(y_grid)\n",
    "\n",
    "# The last layer of the current model takes two columns as input. Hence transpose of np.vstack() is required.\n",
    "X = np.vstack((x_gridflat, y_gridflat)).T\n",
    "\n",
    "prob_contour = model_prob(X).reshape(100,100) "
   ]
  },
  {
   "cell_type": "code",
   "execution_count": 29,
   "id": "da72499a",
   "metadata": {
    "execution": {
     "iopub.execute_input": "2022-01-24T10:09:30.613092Z",
     "iopub.status.busy": "2022-01-24T10:09:30.612561Z",
     "iopub.status.idle": "2022-01-24T10:09:30.848078Z",
     "shell.execute_reply": "2022-01-24T10:09:30.848500Z"
    },
    "papermill": {
     "duration": 0.283912,
     "end_time": "2022-01-24T10:09:30.848645",
     "exception": false,
     "start_time": "2022-01-24T10:09:30.564733",
     "status": "completed"
    },
    "tags": []
   },
   "outputs": [
    {
     "data": {
      "image/png": "[encoded data removed]",
      "text/plain": [
       "<Figure size 720x648 with 1 Axes>"
      ]
     },
     "metadata": {
      "needs_background": "light"
     },
     "output_type": "display_data"
    }
   ],
   "source": [
    "plt.figure(figsize=(10,9))\n",
    "plt.scatter(testing_plot[:,0], testing_plot[:,1], alpha = 0.1, c = y_test.ravel())\n",
    "contours = plt.contour(x_grid,y_grid,prob_contour)\n",
    "plt.title('Probability Contours')\n",
    "plt.clabel(contours, inline = True );"
   ]
  },
  {
   "cell_type": "code",
   "execution_count": null,
   "id": "e81b4ac7",
   "metadata": {
    "papermill": {
     "duration": 0.046506,
     "end_time": "2022-01-24T10:09:30.941628",
     "exception": false,
     "start_time": "2022-01-24T10:09:30.895122",
     "status": "completed"
    },
    "tags": []
   },
   "outputs": [],
   "source": []
  }
 ],
 "metadata": {
  "kernelspec": {
   "display_name": "Python 3",
   "language": "python",
   "name": "python3"
  },
  "language_info": {
   "codemirror_mode": {
    "name": "ipython",
    "version": 3
   },
   "file_extension": ".py",
   "mimetype": "text/x-python",
   "name": "python",
   "nbconvert_exporter": "python",
   "pygments_lexer": "ipython3",
   "version": "3.6.15"
  },
  "papermill": {
   "default_parameters": {},
   "duration": 102.034269,
   "end_time": "2022-01-24T10:09:31.407236",
   "environment_variables": {},
   "exception": null,
   "input_path": "2020-08-11-part2.ipynb",
   "output_path": "2020-08-11-part2.ipynb",
   "parameters": {},
   "start_time": "2022-01-24T10:07:49.372967",
   "version": "2.3.3"
  }
 },
 "nbformat": 4,
 "nbformat_minor": 5
}