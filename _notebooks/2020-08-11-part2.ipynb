{
 "cells": [
  {
   "cell_type": "markdown",
   "id": "98380cd3",
   "metadata": {
    "papermill": {
     "duration": 0.028513,
     "end_time": "2022-01-08T20:08:19.445684",
     "exception": false,
     "start_time": "2022-01-08T20:08:19.417171",
     "status": "completed"
    },
    "tags": []
   },
   "source": [
    "# Distinguish Your Own Digits (DYOD)"
   ]
  },
  {
   "cell_type": "markdown",
   "id": "ef31240d",
   "metadata": {
    "papermill": {
     "duration": 0.02364,
     "end_time": "2022-01-08T20:08:19.493784",
     "exception": false,
     "start_time": "2022-01-08T20:08:19.470144",
     "status": "completed"
    },
    "tags": []
   },
   "source": [
    "You are going to write a classifier that distinguishes between the number 3 and number 8."
   ]
  },
  {
   "cell_type": "code",
   "execution_count": 1,
   "id": "b15c8646",
   "metadata": {
    "execution": {
     "iopub.execute_input": "2022-01-08T20:08:19.552843Z",
     "iopub.status.busy": "2022-01-08T20:08:19.552319Z",
     "iopub.status.idle": "2022-01-08T20:08:19.562508Z",
     "shell.execute_reply": "2022-01-08T20:08:19.562948Z"
    },
    "papermill": {
     "duration": 0.045711,
     "end_time": "2022-01-08T20:08:19.563104",
     "exception": false,
     "start_time": "2022-01-08T20:08:19.517393",
     "status": "completed"
    },
    "tags": []
   },
   "outputs": [],
   "source": [
    "%load_ext autoreload\n",
    "%autoreload 2"
   ]
  },
  {
   "cell_type": "code",
   "execution_count": 2,
   "id": "22ef38dc",
   "metadata": {
    "execution": {
     "iopub.execute_input": "2022-01-08T20:08:19.618666Z",
     "iopub.status.busy": "2022-01-08T20:08:19.618135Z",
     "iopub.status.idle": "2022-01-08T20:08:20.197042Z",
     "shell.execute_reply": "2022-01-08T20:08:20.196510Z"
    },
    "papermill": {
     "duration": 0.610064,
     "end_time": "2022-01-08T20:08:20.197188",
     "exception": false,
     "start_time": "2022-01-08T20:08:19.587124",
     "status": "completed"
    },
    "tags": []
   },
   "outputs": [],
   "source": [
    "%matplotlib inline\n",
    "import numpy as np\n",
    "import matplotlib.pyplot as plt\n",
    "import pandas as pd"
   ]
  },
  {
   "cell_type": "markdown",
   "id": "ba036198",
   "metadata": {
    "papermill": {
     "duration": 0.026009,
     "end_time": "2022-01-08T20:08:20.247830",
     "exception": false,
     "start_time": "2022-01-08T20:08:20.221821",
     "status": "completed"
    },
    "tags": []
   },
   "source": [
    "From the command line run `pip install mnist`. This is a library that will help you bring down the mnist dataset. If you run this from a notebook, you need to put  `!pip install mnist` in a cell by itself."
   ]
  },
  {
   "cell_type": "code",
   "execution_count": 3,
   "id": "bb6ad8a1",
   "metadata": {
    "execution": {
     "iopub.execute_input": "2022-01-08T20:08:20.299020Z",
     "iopub.status.busy": "2022-01-08T20:08:20.298414Z",
     "iopub.status.idle": "2022-01-08T20:08:22.016759Z",
     "shell.execute_reply": "2022-01-08T20:08:22.017219Z"
    },
    "papermill": {
     "duration": 1.745656,
     "end_time": "2022-01-08T20:08:22.017366",
     "exception": false,
     "start_time": "2022-01-08T20:08:20.271710",
     "status": "completed"
    },
    "tags": []
   },
   "outputs": [
    {
     "name": "stdout",
     "output_type": "stream",
     "text": [
      "Collecting mnist\r\n"
     ]
    },
    {
     "name": "stdout",
     "output_type": "stream",
     "text": [
      "  Downloading mnist-0.2.2-py2.py3-none-any.whl (3.5 kB)\r\n",
      "Requirement already satisfied: numpy in /opt/hostedtoolcache/Python/3.6.15/x64/lib/python3.6/site-packages (from mnist) (1.19.5)\r\n"
     ]
    },
    {
     "name": "stdout",
     "output_type": "stream",
     "text": [
      "Installing collected packages: mnist\r\n"
     ]
    },
    {
     "name": "stdout",
     "output_type": "stream",
     "text": [
      "Successfully installed mnist-0.2.2\r\n"
     ]
    }
   ],
   "source": [
    "!pip install mnist"
   ]
  },
  {
   "cell_type": "markdown",
   "id": "69df9c9a",
   "metadata": {
    "papermill": {
     "duration": 0.025001,
     "end_time": "2022-01-08T20:08:22.067478",
     "exception": false,
     "start_time": "2022-01-08T20:08:22.042477",
     "status": "completed"
    },
    "tags": []
   },
   "source": [
    "## Preparing the Data"
   ]
  },
  {
   "cell_type": "code",
   "execution_count": 4,
   "id": "7f69d806",
   "metadata": {
    "execution": {
     "iopub.execute_input": "2022-01-08T20:08:22.131260Z",
     "iopub.status.busy": "2022-01-08T20:08:22.130714Z",
     "iopub.status.idle": "2022-01-08T20:08:22.139213Z",
     "shell.execute_reply": "2022-01-08T20:08:22.138793Z"
    },
    "papermill": {
     "duration": 0.047046,
     "end_time": "2022-01-08T20:08:22.139333",
     "exception": false,
     "start_time": "2022-01-08T20:08:22.092287",
     "status": "completed"
    },
    "tags": []
   },
   "outputs": [],
   "source": [
    "import mnist"
   ]
  },
  {
   "cell_type": "code",
   "execution_count": 5,
   "id": "a411e44f",
   "metadata": {
    "execution": {
     "iopub.execute_input": "2022-01-08T20:08:22.197797Z",
     "iopub.status.busy": "2022-01-08T20:08:22.197236Z",
     "iopub.status.idle": "2022-01-08T20:08:22.882982Z",
     "shell.execute_reply": "2022-01-08T20:08:22.882452Z"
    },
    "papermill": {
     "duration": 0.718765,
     "end_time": "2022-01-08T20:08:22.883127",
     "exception": false,
     "start_time": "2022-01-08T20:08:22.164362",
     "status": "completed"
    },
    "tags": []
   },
   "outputs": [],
   "source": [
    "train_images = mnist.train_images()\n",
    "train_labels = mnist.train_labels()"
   ]
  },
  {
   "cell_type": "code",
   "execution_count": 6,
   "id": "dceab3a5",
   "metadata": {
    "execution": {
     "iopub.execute_input": "2022-01-08T20:08:22.946281Z",
     "iopub.status.busy": "2022-01-08T20:08:22.943174Z",
     "iopub.status.idle": "2022-01-08T20:08:22.956041Z",
     "shell.execute_reply": "2022-01-08T20:08:22.955602Z"
    },
    "papermill": {
     "duration": 0.046802,
     "end_time": "2022-01-08T20:08:22.956152",
     "exception": false,
     "start_time": "2022-01-08T20:08:22.909350",
     "status": "completed"
    },
    "tags": []
   },
   "outputs": [
    {
     "data": {
      "text/plain": [
       "((60000, 28, 28), (60000,))"
      ]
     },
     "execution_count": 6,
     "metadata": {},
     "output_type": "execute_result"
    }
   ],
   "source": [
    "train_images.shape, train_labels.shape"
   ]
  },
  {
   "cell_type": "code",
   "execution_count": 7,
   "id": "f50dc2bb",
   "metadata": {
    "execution": {
     "iopub.execute_input": "2022-01-08T20:08:23.009986Z",
     "iopub.status.busy": "2022-01-08T20:08:23.009468Z",
     "iopub.status.idle": "2022-01-08T20:08:23.195054Z",
     "shell.execute_reply": "2022-01-08T20:08:23.194522Z"
    },
    "papermill": {
     "duration": 0.214058,
     "end_time": "2022-01-08T20:08:23.195198",
     "exception": false,
     "start_time": "2022-01-08T20:08:22.981140",
     "status": "completed"
    },
    "tags": []
   },
   "outputs": [],
   "source": [
    "test_images = mnist.test_images()\n",
    "test_labels = mnist.test_labels()"
   ]
  },
  {
   "cell_type": "code",
   "execution_count": 8,
   "id": "fc38cf1b",
   "metadata": {
    "execution": {
     "iopub.execute_input": "2022-01-08T20:08:23.250145Z",
     "iopub.status.busy": "2022-01-08T20:08:23.249611Z",
     "iopub.status.idle": "2022-01-08T20:08:23.262707Z",
     "shell.execute_reply": "2022-01-08T20:08:23.262267Z"
    },
    "papermill": {
     "duration": 0.042041,
     "end_time": "2022-01-08T20:08:23.262823",
     "exception": false,
     "start_time": "2022-01-08T20:08:23.220782",
     "status": "completed"
    },
    "tags": []
   },
   "outputs": [
    {
     "data": {
      "text/plain": [
       "((10000, 28, 28), (10000,))"
      ]
     },
     "execution_count": 8,
     "metadata": {},
     "output_type": "execute_result"
    }
   ],
   "source": [
    "test_images.shape, test_labels.shape"
   ]
  },
  {
   "cell_type": "code",
   "execution_count": 9,
   "id": "f9ed8fe0",
   "metadata": {
    "execution": {
     "iopub.execute_input": "2022-01-08T20:08:23.317079Z",
     "iopub.status.busy": "2022-01-08T20:08:23.316570Z",
     "iopub.status.idle": "2022-01-08T20:08:23.453727Z",
     "shell.execute_reply": "2022-01-08T20:08:23.454150Z"
    },
    "papermill": {
     "duration": 0.166234,
     "end_time": "2022-01-08T20:08:23.454297",
     "exception": false,
     "start_time": "2022-01-08T20:08:23.288063",
     "status": "completed"
    },
    "tags": []
   },
   "outputs": [
    {
     "name": "stdout",
     "output_type": "stream",
     "text": [
      "2\n"
     ]
    },
    {
     "data": {
      "text/plain": [
       "<matplotlib.image.AxesImage at 0x7f2728189320>"
      ]
     },
     "execution_count": 9,
     "metadata": {},
     "output_type": "execute_result"
    },
    {
     "data": {
      "image/png": "[encoded data removed]",
      "text/plain": [
       "<Figure size 432x288 with 1 Axes>"
      ]
     },
     "metadata": {
      "needs_background": "light"
     },
     "output_type": "display_data"
    }
   ],
   "source": [
    "image_index = 7776 # You may select anything up to 60,000\n",
    "print(train_labels[image_index]) \n",
    "plt.imshow(train_images[image_index], cmap='Greys')"
   ]
  },
  {
   "cell_type": "markdown",
   "id": "a8d2388d",
   "metadata": {
    "papermill": {
     "duration": 0.026858,
     "end_time": "2022-01-08T20:08:23.507745",
     "exception": false,
     "start_time": "2022-01-08T20:08:23.480887",
     "status": "completed"
    },
    "tags": []
   },
   "source": [
    "## Filter data to get 3 and 8 out"
   ]
  },
  {
   "cell_type": "code",
   "execution_count": 10,
   "id": "776f7fc7",
   "metadata": {
    "execution": {
     "iopub.execute_input": "2022-01-08T20:08:23.570391Z",
     "iopub.status.busy": "2022-01-08T20:08:23.569839Z",
     "iopub.status.idle": "2022-01-08T20:08:23.584635Z",
     "shell.execute_reply": "2022-01-08T20:08:23.584210Z"
    },
    "papermill": {
     "duration": 0.050743,
     "end_time": "2022-01-08T20:08:23.584756",
     "exception": false,
     "start_time": "2022-01-08T20:08:23.534013",
     "status": "completed"
    },
    "tags": []
   },
   "outputs": [],
   "source": [
    "train_filter = np.where((train_labels == 3 ) | (train_labels == 8))\n",
    "test_filter = np.where((test_labels == 3) | (test_labels == 8))\n",
    "X_train, y_train = train_images[train_filter], train_labels[train_filter]\n",
    "X_test, y_test = test_images[test_filter], test_labels[test_filter]"
   ]
  },
  {
   "cell_type": "markdown",
   "id": "948f0b7e",
   "metadata": {
    "papermill": {
     "duration": 0.026302,
     "end_time": "2022-01-08T20:08:23.637573",
     "exception": false,
     "start_time": "2022-01-08T20:08:23.611271",
     "status": "completed"
    },
    "tags": []
   },
   "source": [
    "We normalize the pizel values in the 0 to 1 range"
   ]
  },
  {
   "cell_type": "code",
   "execution_count": 11,
   "id": "ee4c2166",
   "metadata": {
    "execution": {
     "iopub.execute_input": "2022-01-08T20:08:23.696216Z",
     "iopub.status.busy": "2022-01-08T20:08:23.695688Z",
     "iopub.status.idle": "2022-01-08T20:08:23.743575Z",
     "shell.execute_reply": "2022-01-08T20:08:23.743064Z"
    },
    "papermill": {
     "duration": 0.079961,
     "end_time": "2022-01-08T20:08:23.743713",
     "exception": false,
     "start_time": "2022-01-08T20:08:23.663752",
     "status": "completed"
    },
    "tags": []
   },
   "outputs": [],
   "source": [
    "X_train = X_train/255.\n",
    "X_test = X_test/255."
   ]
  },
  {
   "cell_type": "markdown",
   "id": "ddcf4fab",
   "metadata": {
    "papermill": {
     "duration": 0.026652,
     "end_time": "2022-01-08T20:08:23.797851",
     "exception": false,
     "start_time": "2022-01-08T20:08:23.771199",
     "status": "completed"
    },
    "tags": []
   },
   "source": [
    "And setup the labels as 1 (when the digit is 3) and 0 (when the digit is 8)"
   ]
  },
  {
   "cell_type": "code",
   "execution_count": 12,
   "id": "7dc908f2",
   "metadata": {
    "execution": {
     "iopub.execute_input": "2022-01-08T20:08:23.859819Z",
     "iopub.status.busy": "2022-01-08T20:08:23.859268Z",
     "iopub.status.idle": "2022-01-08T20:08:23.869245Z",
     "shell.execute_reply": "2022-01-08T20:08:23.869706Z"
    },
    "papermill": {
     "duration": 0.045641,
     "end_time": "2022-01-08T20:08:23.869851",
     "exception": false,
     "start_time": "2022-01-08T20:08:23.824210",
     "status": "completed"
    },
    "tags": []
   },
   "outputs": [],
   "source": [
    "y_train = 1*(y_train==3)\n",
    "y_test = 1*(y_test==3)"
   ]
  },
  {
   "cell_type": "code",
   "execution_count": 13,
   "id": "01e4e969",
   "metadata": {
    "execution": {
     "iopub.execute_input": "2022-01-08T20:08:23.928024Z",
     "iopub.status.busy": "2022-01-08T20:08:23.927506Z",
     "iopub.status.idle": "2022-01-08T20:08:23.940645Z",
     "shell.execute_reply": "2022-01-08T20:08:23.940223Z"
    },
    "papermill": {
     "duration": 0.044066,
     "end_time": "2022-01-08T20:08:23.940764",
     "exception": false,
     "start_time": "2022-01-08T20:08:23.896698",
     "status": "completed"
    },
    "tags": []
   },
   "outputs": [
    {
     "data": {
      "text/plain": [
       "((11982, 28, 28), (1984, 28, 28))"
      ]
     },
     "execution_count": 13,
     "metadata": {},
     "output_type": "execute_result"
    }
   ],
   "source": [
    "X_train.shape, X_test.shape"
   ]
  },
  {
   "cell_type": "markdown",
   "id": "5ccf3f85",
   "metadata": {
    "papermill": {
     "duration": 0.026566,
     "end_time": "2022-01-08T20:08:23.993749",
     "exception": false,
     "start_time": "2022-01-08T20:08:23.967183",
     "status": "completed"
    },
    "tags": []
   },
   "source": [
    "We reshape the data to flatten the image pixels into a set of features or co-variates:"
   ]
  },
  {
   "cell_type": "code",
   "execution_count": 14,
   "id": "5286a4a3",
   "metadata": {
    "execution": {
     "iopub.execute_input": "2022-01-08T20:08:24.054297Z",
     "iopub.status.busy": "2022-01-08T20:08:24.053750Z",
     "iopub.status.idle": "2022-01-08T20:08:24.065215Z",
     "shell.execute_reply": "2022-01-08T20:08:24.065681Z"
    },
    "papermill": {
     "duration": 0.045368,
     "end_time": "2022-01-08T20:08:24.065823",
     "exception": false,
     "start_time": "2022-01-08T20:08:24.020455",
     "status": "completed"
    },
    "tags": []
   },
   "outputs": [
    {
     "data": {
      "text/plain": [
       "((11982, 784), (1984, 784))"
      ]
     },
     "execution_count": 14,
     "metadata": {},
     "output_type": "execute_result"
    }
   ],
   "source": [
    "X_train = X_train.reshape(X_train.shape[0], -1)\n",
    "X_test = X_test.reshape(X_test.shape[0], -1)\n",
    "X_train.shape, X_test.shape"
   ]
  },
  {
   "cell_type": "code",
   "execution_count": 15,
   "id": "73c5f88a",
   "metadata": {
    "execution": {
     "iopub.execute_input": "2022-01-08T20:08:24.145577Z",
     "iopub.status.busy": "2022-01-08T20:08:24.138762Z",
     "iopub.status.idle": "2022-01-08T20:08:24.147898Z",
     "shell.execute_reply": "2022-01-08T20:08:24.147452Z"
    },
    "papermill": {
     "duration": 0.055198,
     "end_time": "2022-01-08T20:08:24.148018",
     "exception": false,
     "start_time": "2022-01-08T20:08:24.092820",
     "status": "completed"
    },
    "tags": []
   },
   "outputs": [],
   "source": [
    "#Impoting functions from 'Kudzu'\n",
    "from kudzu.model import Model\n",
    "from kudzu.train import Learner\n",
    "from kudzu.optim import GD\n",
    "from kudzu.data import Data, Sampler,Dataloader\n",
    "\n",
    "from kudzu.callbacks import AccCallback\n",
    "from kudzu.callbacks import ClfCallback\n",
    "\n",
    "from kudzu.loss import MSE\n",
    "\n",
    "from kudzu.layer import Sigmoid,Relu\n",
    "from kudzu.layer import Affine"
   ]
  },
  {
   "cell_type": "markdown",
   "id": "bc01172a",
   "metadata": {
    "papermill": {
     "duration": 0.026815,
     "end_time": "2022-01-08T20:08:24.201903",
     "exception": false,
     "start_time": "2022-01-08T20:08:24.175088",
     "status": "completed"
    },
    "tags": []
   },
   "source": [
    "### Let us create a `Config` class, to store important parameters. \n",
    "This class essentially plays the role of a dictionary."
   ]
  },
  {
   "cell_type": "code",
   "execution_count": 16,
   "id": "978281aa",
   "metadata": {
    "execution": {
     "iopub.execute_input": "2022-01-08T20:08:24.263243Z",
     "iopub.status.busy": "2022-01-08T20:08:24.262722Z",
     "iopub.status.idle": "2022-01-08T20:08:24.272926Z",
     "shell.execute_reply": "2022-01-08T20:08:24.272507Z"
    },
    "papermill": {
     "duration": 0.044472,
     "end_time": "2022-01-08T20:08:24.273050",
     "exception": false,
     "start_time": "2022-01-08T20:08:24.228578",
     "status": "completed"
    },
    "tags": []
   },
   "outputs": [],
   "source": [
    "class Config:\n",
    "    pass\n",
    "config = Config()\n",
    "config.lr = 0.001\n",
    "config.num_epochs = 250\n",
    "config.bs = 50"
   ]
  },
  {
   "cell_type": "markdown",
   "id": "1385fa59",
   "metadata": {
    "papermill": {
     "duration": 0.026734,
     "end_time": "2022-01-08T20:08:24.326891",
     "exception": false,
     "start_time": "2022-01-08T20:08:24.300157",
     "status": "completed"
    },
    "tags": []
   },
   "source": [
    "### Running Models with the Training data\n",
    "Details about the network layers:\n",
    "- A first affine layer has 784 inputs and does 100 affine transforms. These are followed by a Relu\n",
    "- A second affine layer has 100 inputs from the 100 activations of the past layer, and does 100 affine transforms. These are followed by a Relu\n",
    "- A third affine layer has 100 activations and does 2 affine transformations to create an embedding for visualization. There is no non-linearity here.\n",
    "- A final \"logistic regression\" which has an affine transform from 2 inputs to 1 output, which is squeezed through a sigmoid.\n"
   ]
  },
  {
   "cell_type": "code",
   "execution_count": 17,
   "id": "2b9c66db",
   "metadata": {
    "execution": {
     "iopub.execute_input": "2022-01-08T20:08:24.385174Z",
     "iopub.status.busy": "2022-01-08T20:08:24.384301Z",
     "iopub.status.idle": "2022-01-08T20:08:24.397493Z",
     "shell.execute_reply": "2022-01-08T20:08:24.397052Z"
    },
    "papermill": {
     "duration": 0.043976,
     "end_time": "2022-01-08T20:08:24.397618",
     "exception": false,
     "start_time": "2022-01-08T20:08:24.353642",
     "status": "completed"
    },
    "tags": []
   },
   "outputs": [],
   "source": [
    "data = Data(X_train, y_train.reshape(-1,1))\n",
    "sampler = Sampler(data, config.bs, shuffle=True)\n",
    "\n",
    "dl = Dataloader(data, sampler)\n",
    "\n",
    "opt = GD(config.lr)\n",
    "loss = MSE()"
   ]
  },
  {
   "cell_type": "code",
   "execution_count": 18,
   "id": "b275e4c2",
   "metadata": {
    "execution": {
     "iopub.execute_input": "2022-01-08T20:08:24.469138Z",
     "iopub.status.busy": "2022-01-08T20:08:24.466269Z",
     "iopub.status.idle": "2022-01-08T20:08:24.471412Z",
     "shell.execute_reply": "2022-01-08T20:08:24.470972Z"
    },
    "papermill": {
     "duration": 0.046987,
     "end_time": "2022-01-08T20:08:24.471527",
     "exception": false,
     "start_time": "2022-01-08T20:08:24.424540",
     "status": "completed"
    },
    "tags": []
   },
   "outputs": [],
   "source": [
    "training_data_x = X_train\n",
    "testing_data_x = X_test\n",
    "training_data_y = y_train.reshape(-1,1)\n",
    "testing_data_y = y_test.reshape(-1,1)"
   ]
  },
  {
   "cell_type": "code",
   "execution_count": 19,
   "id": "76951160",
   "metadata": {
    "execution": {
     "iopub.execute_input": "2022-01-08T20:08:24.529369Z",
     "iopub.status.busy": "2022-01-08T20:08:24.528852Z",
     "iopub.status.idle": "2022-01-08T20:08:24.544871Z",
     "shell.execute_reply": "2022-01-08T20:08:24.544431Z"
    },
    "papermill": {
     "duration": 0.046736,
     "end_time": "2022-01-08T20:08:24.544987",
     "exception": false,
     "start_time": "2022-01-08T20:08:24.498251",
     "status": "completed"
    },
    "tags": []
   },
   "outputs": [
    {
     "name": "stdout",
     "output_type": "stream",
     "text": [
      "xavier\n",
      "xavier\n",
      "xavier\n",
      "xavier\n",
      "xavier\n"
     ]
    }
   ],
   "source": [
    "layers = [Affine(\"first\", 784, 100), Relu(\"first\"), Affine(\"second\", 100, 100), Relu(\"second\"), Affine(\"third\", 100, 2), Affine(\"last\", 2, 1), Sigmoid(\"last\")]\n",
    "model_nn = Model(layers)\n",
    "model_lr = Model([Affine(\"logits\", 784, 1), Sigmoid(\"sigmoid\")])"
   ]
  },
  {
   "cell_type": "code",
   "execution_count": 20,
   "id": "6eede77a",
   "metadata": {
    "execution": {
     "iopub.execute_input": "2022-01-08T20:08:24.617539Z",
     "iopub.status.busy": "2022-01-08T20:08:24.611730Z",
     "iopub.status.idle": "2022-01-08T20:08:24.619426Z",
     "shell.execute_reply": "2022-01-08T20:08:24.619821Z"
    },
    "papermill": {
     "duration": 0.047565,
     "end_time": "2022-01-08T20:08:24.619970",
     "exception": false,
     "start_time": "2022-01-08T20:08:24.572405",
     "status": "completed"
    },
    "tags": []
   },
   "outputs": [],
   "source": [
    "nn_learner = Learner(loss, model_nn, opt, config.num_epochs)\n",
    "acc_nn = ClfCallback(nn_learner, config.bs, training_data_x , testing_data_x, training_data_y, testing_data_y)\n",
    "nn_learner.set_callbacks([acc_nn])"
   ]
  },
  {
   "cell_type": "code",
   "execution_count": 21,
   "id": "877b6cc7",
   "metadata": {
    "execution": {
     "iopub.execute_input": "2022-01-08T20:08:24.690242Z",
     "iopub.status.busy": "2022-01-08T20:08:24.686036Z",
     "iopub.status.idle": "2022-01-08T20:08:24.693743Z",
     "shell.execute_reply": "2022-01-08T20:08:24.694166Z"
    },
    "papermill": {
     "duration": 0.046961,
     "end_time": "2022-01-08T20:08:24.694306",
     "exception": false,
     "start_time": "2022-01-08T20:08:24.647345",
     "status": "completed"
    },
    "tags": []
   },
   "outputs": [],
   "source": [
    "lr_learner = Learner(loss, model_lr, opt, config.num_epochs)\n",
    "acc_lr = ClfCallback(lr_learner, config.bs, training_data_x , testing_data_x, training_data_y, testing_data_y)\n",
    "lr_learner.set_callbacks([acc_lr])"
   ]
  },
  {
   "cell_type": "code",
   "execution_count": 22,
   "id": "d9b133c3",
   "metadata": {
    "execution": {
     "iopub.execute_input": "2022-01-08T20:08:24.762664Z",
     "iopub.status.busy": "2022-01-08T20:08:24.759666Z",
     "iopub.status.idle": "2022-01-08T20:09:43.359923Z",
     "shell.execute_reply": "2022-01-08T20:09:43.360704Z"
    },
    "papermill": {
     "duration": 78.639134,
     "end_time": "2022-01-08T20:09:43.360854",
     "exception": false,
     "start_time": "2022-01-08T20:08:24.721720",
     "status": "completed"
    },
    "tags": []
   },
   "outputs": [
    {
     "name": "stdout",
     "output_type": "stream",
     "text": [
      "Epoch 0, Loss 0.2489\n",
      "Training Accuracy: 0.5417, Testing Accuracy: 0.5353\n",
      "\n"
     ]
    },
    {
     "name": "stdout",
     "output_type": "stream",
     "text": [
      "Epoch 10, Loss 0.2406\n",
      "Training Accuracy: 0.7306, Testing Accuracy: 0.7384\n",
      "\n"
     ]
    },
    {
     "name": "stdout",
     "output_type": "stream",
     "text": [
      "Epoch 20, Loss 0.2086\n",
      "Training Accuracy: 0.8291, Testing Accuracy: 0.8438\n",
      "\n"
     ]
    },
    {
     "name": "stdout",
     "output_type": "stream",
     "text": [
      "Epoch 30, Loss 0.1201\n",
      "Training Accuracy: 0.8903, Testing Accuracy: 0.9052\n",
      "\n"
     ]
    },
    {
     "name": "stdout",
     "output_type": "stream",
     "text": [
      "Epoch 40, Loss 0.0708\n",
      "Training Accuracy: 0.9278, Testing Accuracy: 0.9400\n",
      "\n"
     ]
    },
    {
     "name": "stdout",
     "output_type": "stream",
     "text": [
      "Epoch 50, Loss 0.053\n",
      "Training Accuracy: 0.9417, Testing Accuracy: 0.9567\n",
      "\n"
     ]
    },
    {
     "name": "stdout",
     "output_type": "stream",
     "text": [
      "Epoch 60, Loss 0.0446\n",
      "Training Accuracy: 0.9489, Testing Accuracy: 0.9607\n",
      "\n"
     ]
    },
    {
     "name": "stdout",
     "output_type": "stream",
     "text": [
      "Epoch 70, Loss 0.0396\n",
      "Training Accuracy: 0.9536, Testing Accuracy: 0.9652\n",
      "\n"
     ]
    },
    {
     "name": "stdout",
     "output_type": "stream",
     "text": [
      "Epoch 80, Loss 0.0363\n",
      "Training Accuracy: 0.9572, Testing Accuracy: 0.9652\n",
      "\n"
     ]
    },
    {
     "name": "stdout",
     "output_type": "stream",
     "text": [
      "Epoch 90, Loss 0.0339\n",
      "Training Accuracy: 0.9596, Testing Accuracy: 0.9672\n",
      "\n"
     ]
    },
    {
     "name": "stdout",
     "output_type": "stream",
     "text": [
      "Epoch 100, Loss 0.032\n",
      "Training Accuracy: 0.9619, Testing Accuracy: 0.9667\n",
      "\n"
     ]
    },
    {
     "name": "stdout",
     "output_type": "stream",
     "text": [
      "Epoch 110, Loss 0.0305\n",
      "Training Accuracy: 0.9641, Testing Accuracy: 0.9677\n",
      "\n"
     ]
    },
    {
     "name": "stdout",
     "output_type": "stream",
     "text": [
      "Epoch 120, Loss 0.0293\n",
      "Training Accuracy: 0.9657, Testing Accuracy: 0.9693\n",
      "\n"
     ]
    },
    {
     "name": "stdout",
     "output_type": "stream",
     "text": [
      "Epoch 130, Loss 0.0282\n",
      "Training Accuracy: 0.9669, Testing Accuracy: 0.9698\n",
      "\n"
     ]
    },
    {
     "name": "stdout",
     "output_type": "stream",
     "text": [
      "Epoch 140, Loss 0.0272\n",
      "Training Accuracy: 0.9684, Testing Accuracy: 0.9693\n",
      "\n"
     ]
    },
    {
     "name": "stdout",
     "output_type": "stream",
     "text": [
      "Epoch 150, Loss 0.0264\n",
      "Training Accuracy: 0.9687, Testing Accuracy: 0.9698\n",
      "\n"
     ]
    },
    {
     "name": "stdout",
     "output_type": "stream",
     "text": [
      "Epoch 160, Loss 0.0257\n",
      "Training Accuracy: 0.9692, Testing Accuracy: 0.9693\n",
      "\n"
     ]
    },
    {
     "name": "stdout",
     "output_type": "stream",
     "text": [
      "Epoch 170, Loss 0.025\n",
      "Training Accuracy: 0.9706, Testing Accuracy: 0.9693\n",
      "\n"
     ]
    },
    {
     "name": "stdout",
     "output_type": "stream",
     "text": [
      "Epoch 180, Loss 0.0244\n",
      "Training Accuracy: 0.9710, Testing Accuracy: 0.9703\n",
      "\n"
     ]
    },
    {
     "name": "stdout",
     "output_type": "stream",
     "text": [
      "Epoch 190, Loss 0.0239\n",
      "Training Accuracy: 0.9716, Testing Accuracy: 0.9698\n",
      "\n"
     ]
    },
    {
     "name": "stdout",
     "output_type": "stream",
     "text": [
      "Epoch 200, Loss 0.0234\n",
      "Training Accuracy: 0.9723, Testing Accuracy: 0.9703\n",
      "\n"
     ]
    },
    {
     "name": "stdout",
     "output_type": "stream",
     "text": [
      "Epoch 210, Loss 0.0229\n",
      "Training Accuracy: 0.9726, Testing Accuracy: 0.9698\n",
      "\n"
     ]
    },
    {
     "name": "stdout",
     "output_type": "stream",
     "text": [
      "Epoch 220, Loss 0.0225\n",
      "Training Accuracy: 0.9739, Testing Accuracy: 0.9698\n",
      "\n"
     ]
    },
    {
     "name": "stdout",
     "output_type": "stream",
     "text": [
      "Epoch 230, Loss 0.022\n",
      "Training Accuracy: 0.9746, Testing Accuracy: 0.9708\n",
      "\n"
     ]
    },
    {
     "name": "stdout",
     "output_type": "stream",
     "text": [
      "Epoch 240, Loss 0.0216\n",
      "Training Accuracy: 0.9747, Testing Accuracy: 0.9713\n",
      "\n"
     ]
    },
    {
     "data": {
      "text/plain": [
       "0.04134757120159339"
      ]
     },
     "execution_count": 22,
     "metadata": {},
     "output_type": "execute_result"
    }
   ],
   "source": [
    "nn_learner.train_loop(dl)"
   ]
  },
  {
   "cell_type": "code",
   "execution_count": 23,
   "id": "e0163366",
   "metadata": {
    "execution": {
     "iopub.execute_input": "2022-01-08T20:09:43.439334Z",
     "iopub.status.busy": "2022-01-08T20:09:43.438792Z",
     "iopub.status.idle": "2022-01-08T20:09:57.661653Z",
     "shell.execute_reply": "2022-01-08T20:09:57.662401Z"
    },
    "papermill": {
     "duration": 14.26646,
     "end_time": "2022-01-08T20:09:57.662555",
     "exception": false,
     "start_time": "2022-01-08T20:09:43.396095",
     "status": "completed"
    },
    "tags": []
   },
   "outputs": [
    {
     "name": "stdout",
     "output_type": "stream",
     "text": [
      "Epoch 0, Loss 0.2154\n",
      "Training Accuracy: 0.7586, Testing Accuracy: 0.7651\n",
      "\n"
     ]
    },
    {
     "name": "stdout",
     "output_type": "stream",
     "text": [
      "Epoch 10, Loss 0.0992\n",
      "Training Accuracy: 0.9172, Testing Accuracy: 0.9279\n",
      "\n"
     ]
    },
    {
     "name": "stdout",
     "output_type": "stream",
     "text": [
      "Epoch 20, Loss 0.0763\n",
      "Training Accuracy: 0.9333, Testing Accuracy: 0.9506\n",
      "\n"
     ]
    },
    {
     "name": "stdout",
     "output_type": "stream",
     "text": [
      "Epoch 30, Loss 0.0658\n",
      "Training Accuracy: 0.9425, Testing Accuracy: 0.9546\n",
      "\n"
     ]
    },
    {
     "name": "stdout",
     "output_type": "stream",
     "text": [
      "Epoch 40, Loss 0.0596\n",
      "Training Accuracy: 0.9464, Testing Accuracy: 0.9556\n",
      "\n"
     ]
    },
    {
     "name": "stdout",
     "output_type": "stream",
     "text": [
      "Epoch 50, Loss 0.0553\n",
      "Training Accuracy: 0.9495, Testing Accuracy: 0.9561\n",
      "\n"
     ]
    },
    {
     "name": "stdout",
     "output_type": "stream",
     "text": [
      "Epoch 60, Loss 0.0523\n",
      "Training Accuracy: 0.9517, Testing Accuracy: 0.9597\n",
      "\n"
     ]
    },
    {
     "name": "stdout",
     "output_type": "stream",
     "text": [
      "Epoch 70, Loss 0.0499\n",
      "Training Accuracy: 0.9531, Testing Accuracy: 0.9617\n",
      "\n"
     ]
    },
    {
     "name": "stdout",
     "output_type": "stream",
     "text": [
      "Epoch 80, Loss 0.048\n",
      "Training Accuracy: 0.9543, Testing Accuracy: 0.9627\n",
      "\n"
     ]
    },
    {
     "name": "stdout",
     "output_type": "stream",
     "text": [
      "Epoch 90, Loss 0.0464\n",
      "Training Accuracy: 0.9551, Testing Accuracy: 0.9642\n",
      "\n"
     ]
    },
    {
     "name": "stdout",
     "output_type": "stream",
     "text": [
      "Epoch 100, Loss 0.0451\n",
      "Training Accuracy: 0.9554, Testing Accuracy: 0.9637\n",
      "\n"
     ]
    },
    {
     "name": "stdout",
     "output_type": "stream",
     "text": [
      "Epoch 110, Loss 0.044\n",
      "Training Accuracy: 0.9564, Testing Accuracy: 0.9637\n",
      "\n"
     ]
    },
    {
     "name": "stdout",
     "output_type": "stream",
     "text": [
      "Epoch 120, Loss 0.043\n",
      "Training Accuracy: 0.9572, Testing Accuracy: 0.9647\n",
      "\n"
     ]
    },
    {
     "name": "stdout",
     "output_type": "stream",
     "text": [
      "Epoch 130, Loss 0.0421\n",
      "Training Accuracy: 0.9579, Testing Accuracy: 0.9652\n",
      "\n"
     ]
    },
    {
     "name": "stdout",
     "output_type": "stream",
     "text": [
      "Epoch 140, Loss 0.0413\n",
      "Training Accuracy: 0.9586, Testing Accuracy: 0.9662\n",
      "\n"
     ]
    },
    {
     "name": "stdout",
     "output_type": "stream",
     "text": [
      "Epoch 150, Loss 0.0406\n",
      "Training Accuracy: 0.9584, Testing Accuracy: 0.9667\n",
      "\n"
     ]
    },
    {
     "name": "stdout",
     "output_type": "stream",
     "text": [
      "Epoch 160, Loss 0.04\n",
      "Training Accuracy: 0.9587, Testing Accuracy: 0.9667\n",
      "\n"
     ]
    },
    {
     "name": "stdout",
     "output_type": "stream",
     "text": [
      "Epoch 170, Loss 0.0394\n",
      "Training Accuracy: 0.9591, Testing Accuracy: 0.9667\n",
      "\n"
     ]
    },
    {
     "name": "stdout",
     "output_type": "stream",
     "text": [
      "Epoch 180, Loss 0.0389\n",
      "Training Accuracy: 0.9594, Testing Accuracy: 0.9667\n",
      "\n"
     ]
    },
    {
     "name": "stdout",
     "output_type": "stream",
     "text": [
      "Epoch 190, Loss 0.0384\n",
      "Training Accuracy: 0.9597, Testing Accuracy: 0.9667\n",
      "\n"
     ]
    },
    {
     "name": "stdout",
     "output_type": "stream",
     "text": [
      "Epoch 200, Loss 0.038\n",
      "Training Accuracy: 0.9599, Testing Accuracy: 0.9667\n",
      "\n"
     ]
    },
    {
     "name": "stdout",
     "output_type": "stream",
     "text": [
      "Epoch 210, Loss 0.0376\n",
      "Training Accuracy: 0.9603, Testing Accuracy: 0.9667\n",
      "\n"
     ]
    },
    {
     "name": "stdout",
     "output_type": "stream",
     "text": [
      "Epoch 220, Loss 0.0372\n",
      "Training Accuracy: 0.9605, Testing Accuracy: 0.9667\n",
      "\n"
     ]
    },
    {
     "name": "stdout",
     "output_type": "stream",
     "text": [
      "Epoch 230, Loss 0.0368\n",
      "Training Accuracy: 0.9605, Testing Accuracy: 0.9672\n",
      "\n"
     ]
    },
    {
     "name": "stdout",
     "output_type": "stream",
     "text": [
      "Epoch 240, Loss 0.0365\n",
      "Training Accuracy: 0.9607, Testing Accuracy: 0.9672\n",
      "\n"
     ]
    },
    {
     "data": {
      "text/plain": [
       "0.041356611804298844"
      ]
     },
     "execution_count": 23,
     "metadata": {},
     "output_type": "execute_result"
    }
   ],
   "source": [
    "lr_learner.train_loop(dl)"
   ]
  },
  {
   "cell_type": "code",
   "execution_count": 24,
   "id": "ca410940",
   "metadata": {
    "execution": {
     "iopub.execute_input": "2022-01-08T20:09:57.758937Z",
     "iopub.status.busy": "2022-01-08T20:09:57.758383Z",
     "iopub.status.idle": "2022-01-08T20:09:57.971528Z",
     "shell.execute_reply": "2022-01-08T20:09:57.971991Z"
    },
    "papermill": {
     "duration": 0.26829,
     "end_time": "2022-01-08T20:09:57.972157",
     "exception": false,
     "start_time": "2022-01-08T20:09:57.703867",
     "status": "completed"
    },
    "tags": []
   },
   "outputs": [
    {
     "data": {
      "text/plain": [
       "<matplotlib.legend.Legend at 0x7f2727ce7ac8>"
      ]
     },
     "execution_count": 24,
     "metadata": {},
     "output_type": "execute_result"
    },
    {
     "data": {
      "image/png": "[encoded data removed]",
      "text/plain": [
       "<Figure size 1080x720 with 1 Axes>"
      ]
     },
     "metadata": {
      "needs_background": "light"
     },
     "output_type": "display_data"
    }
   ],
   "source": [
    "#comparing the results of NN and LR\n",
    "plt.figure(figsize=(15,10))\n",
    "\n",
    "# Neural Network plots\n",
    "plt.plot(acc_nn.accuracies, 'r-', label = \"Training Accuracies - NN\")\n",
    "plt.plot(acc_nn.test_accuracies, 'g-', label = \"Testing Accuracies - NN\")\n",
    "\n",
    "# Logistic Regression plots\n",
    "plt.plot(acc_lr.accuracies, 'k-', label = \"Training Accuracies - LR\")\n",
    "plt.plot(acc_lr.test_accuracies, 'b-', label = \"Testing Accuracies - LR\")\n",
    "plt.legend()"
   ]
  },
  {
   "cell_type": "markdown",
   "id": "80dfb35c",
   "metadata": {
    "papermill": {
     "duration": 0.042179,
     "end_time": "2022-01-08T20:09:58.057135",
     "exception": false,
     "start_time": "2022-01-08T20:09:58.014956",
     "status": "completed"
    },
    "tags": []
   },
   "source": [
    "#### Plotting the outputs of this layer of the NN.\n"
   ]
  },
  {
   "cell_type": "code",
   "execution_count": 25,
   "id": "45eb2ff5",
   "metadata": {
    "execution": {
     "iopub.execute_input": "2022-01-08T20:09:58.145878Z",
     "iopub.status.busy": "2022-01-08T20:09:58.145317Z",
     "iopub.status.idle": "2022-01-08T20:09:58.165004Z",
     "shell.execute_reply": "2022-01-08T20:09:58.165456Z"
    },
    "papermill": {
     "duration": 0.0664,
     "end_time": "2022-01-08T20:09:58.165602",
     "exception": false,
     "start_time": "2022-01-08T20:09:58.099202",
     "status": "completed"
    },
    "tags": []
   },
   "outputs": [],
   "source": [
    "new_model = Model(layers[:-2])\n",
    "testing_plot = new_model(testing_data_x)"
   ]
  },
  {
   "cell_type": "code",
   "execution_count": 26,
   "id": "4c0a5485",
   "metadata": {
    "execution": {
     "iopub.execute_input": "2022-01-08T20:09:58.257766Z",
     "iopub.status.busy": "2022-01-08T20:09:58.256034Z",
     "iopub.status.idle": "2022-01-08T20:09:58.453829Z",
     "shell.execute_reply": "2022-01-08T20:09:58.453357Z"
    },
    "papermill": {
     "duration": 0.245875,
     "end_time": "2022-01-08T20:09:58.453954",
     "exception": false,
     "start_time": "2022-01-08T20:09:58.208079",
     "status": "completed"
    },
    "tags": []
   },
   "outputs": [
    {
     "data": {
      "text/plain": [
       "Text(0.5, 1.0, 'Outputs')"
      ]
     },
     "execution_count": 26,
     "metadata": {},
     "output_type": "execute_result"
    },
    {
     "data": {
      "image/png": "[encoded data removed]",
      "text/plain": [
       "<Figure size 576x504 with 1 Axes>"
      ]
     },
     "metadata": {
      "needs_background": "light"
     },
     "output_type": "display_data"
    }
   ],
   "source": [
    "# Plotting the scatter plot of points and color coding by class\n",
    "plt.figure(figsize=(8,7))\n",
    "plt.scatter(testing_plot[:,0], testing_plot[:,1], alpha = 0.1, c = y_test.ravel());\n",
    "plt.title('Outputs')"
   ]
  },
  {
   "cell_type": "markdown",
   "id": "a74fcf8f",
   "metadata": {
    "papermill": {
     "duration": 0.04393,
     "end_time": "2022-01-08T20:09:58.542371",
     "exception": false,
     "start_time": "2022-01-08T20:09:58.498441",
     "status": "completed"
    },
    "tags": []
   },
   "source": [
    "Probability contours"
   ]
  },
  {
   "cell_type": "code",
   "execution_count": 27,
   "id": "d0afc8e3",
   "metadata": {
    "execution": {
     "iopub.execute_input": "2022-01-08T20:09:58.641327Z",
     "iopub.status.busy": "2022-01-08T20:09:58.640444Z",
     "iopub.status.idle": "2022-01-08T20:09:58.649626Z",
     "shell.execute_reply": "2022-01-08T20:09:58.648914Z"
    },
    "papermill": {
     "duration": 0.063291,
     "end_time": "2022-01-08T20:09:58.649747",
     "exception": false,
     "start_time": "2022-01-08T20:09:58.586456",
     "status": "completed"
    },
    "tags": []
   },
   "outputs": [],
   "source": [
    "model_prob = Model(layers[-2:]) "
   ]
  },
  {
   "cell_type": "code",
   "execution_count": 28,
   "id": "9b96e238",
   "metadata": {
    "execution": {
     "iopub.execute_input": "2022-01-08T20:09:58.783418Z",
     "iopub.status.busy": "2022-01-08T20:09:58.782519Z",
     "iopub.status.idle": "2022-01-08T20:09:58.792293Z",
     "shell.execute_reply": "2022-01-08T20:09:58.791788Z"
    },
    "papermill": {
     "duration": 0.098723,
     "end_time": "2022-01-08T20:09:58.792411",
     "exception": false,
     "start_time": "2022-01-08T20:09:58.693688",
     "status": "completed"
    },
    "tags": []
   },
   "outputs": [],
   "source": [
    "#creating the x and y ranges according to the above generated plot.\n",
    "x_range = np.linspace(-4, 1, 100) \n",
    "y_range = np.linspace(-6, 6, 100) \n",
    "x_grid, y_grid = np.meshgrid(x_range, y_range) # x_grid and y_grig are of size 100 X 100\n",
    "\n",
    "# converting x_grid and y_grid to continuous arrays\n",
    "x_gridflat = np.ravel(x_grid)\n",
    "y_gridflat = np.ravel(y_grid)\n",
    "\n",
    "# The last layer of the current model takes two columns as input. Hence transpose of np.vstack() is required.\n",
    "X = np.vstack((x_gridflat, y_gridflat)).T\n",
    "\n",
    "prob_contour = model_prob(X).reshape(100,100) "
   ]
  },
  {
   "cell_type": "code",
   "execution_count": 29,
   "id": "da72499a",
   "metadata": {
    "execution": {
     "iopub.execute_input": "2022-01-08T20:09:58.890957Z",
     "iopub.status.busy": "2022-01-08T20:09:58.888724Z",
     "iopub.status.idle": "2022-01-08T20:09:59.143041Z",
     "shell.execute_reply": "2022-01-08T20:09:59.142607Z"
    },
    "papermill": {
     "duration": 0.305461,
     "end_time": "2022-01-08T20:09:59.143169",
     "exception": false,
     "start_time": "2022-01-08T20:09:58.837708",
     "status": "completed"
    },
    "tags": []
   },
   "outputs": [
    {
     "data": {
      "image/png": "[encoded data removed]",
      "text/plain": [
       "<Figure size 720x648 with 1 Axes>"
      ]
     },
     "metadata": {
      "needs_background": "light"
     },
     "output_type": "display_data"
    }
   ],
   "source": [
    "plt.figure(figsize=(10,9))\n",
    "plt.scatter(testing_plot[:,0], testing_plot[:,1], alpha = 0.1, c = y_test.ravel())\n",
    "contours = plt.contour(x_grid,y_grid,prob_contour)\n",
    "plt.title('Probability Contours')\n",
    "plt.clabel(contours, inline = True );"
   ]
  },
  {
   "cell_type": "code",
   "execution_count": null,
   "id": "e81b4ac7",
   "metadata": {
    "papermill": {
     "duration": 0.046765,
     "end_time": "2022-01-08T20:09:59.236787",
     "exception": false,
     "start_time": "2022-01-08T20:09:59.190022",
     "status": "completed"
    },
    "tags": []
   },
   "outputs": [],
   "source": []
  }
 ],
 "metadata": {
  "kernelspec": {
   "display_name": "Python 3",
   "language": "python",
   "name": "python3"
  },
  "language_info": {
   "codemirror_mode": {
    "name": "ipython",
    "version": 3
   },
   "file_extension": ".py",
   "mimetype": "text/x-python",
   "name": "python",
   "nbconvert_exporter": "python",
   "pygments_lexer": "ipython3",
   "version": "3.6.15"
  },
  "papermill": {
   "default_parameters": {},
   "duration": 101.214282,
   "end_time": "2022-01-08T20:09:59.692206",
   "environment_variables": {},
   "exception": null,
   "input_path": "2020-08-11-part2.ipynb",
   "output_path": "2020-08-11-part2.ipynb",
   "parameters": {},
   "start_time": "2022-01-08T20:08:18.477924",
   "version": "2.3.3"
  }
 },
 "nbformat": 4,
 "nbformat_minor": 5
}