{
 "cells": [
  {
   "cell_type": "markdown",
   "id": "98380cd3",
   "metadata": {
    "papermill": {
     "duration": 0.029755,
     "end_time": "2022-06-28T20:10:25.609790",
     "exception": false,
     "start_time": "2022-06-28T20:10:25.580035",
     "status": "completed"
    },
    "tags": []
   },
   "source": [
    "# Distinguish Your Own Digits (DYOD)"
   ]
  },
  {
   "cell_type": "markdown",
   "id": "ef31240d",
   "metadata": {
    "papermill": {
     "duration": 0.024377,
     "end_time": "2022-06-28T20:10:25.659421",
     "exception": false,
     "start_time": "2022-06-28T20:10:25.635044",
     "status": "completed"
    },
    "tags": []
   },
   "source": [
    "You are going to write a classifier that distinguishes between the number 3 and number 8."
   ]
  },
  {
   "cell_type": "code",
   "execution_count": 1,
   "id": "b15c8646",
   "metadata": {
    "execution": {
     "iopub.execute_input": "2022-06-28T20:10:25.721047Z",
     "iopub.status.busy": "2022-06-28T20:10:25.720291Z",
     "iopub.status.idle": "2022-06-28T20:10:25.731838Z",
     "shell.execute_reply": "2022-06-28T20:10:25.732446Z"
    },
    "papermill": {
     "duration": 0.048586,
     "end_time": "2022-06-28T20:10:25.732584",
     "exception": false,
     "start_time": "2022-06-28T20:10:25.683998",
     "status": "completed"
    },
    "tags": []
   },
   "outputs": [],
   "source": [
    "%load_ext autoreload\n",
    "%autoreload 2"
   ]
  },
  {
   "cell_type": "code",
   "execution_count": 2,
   "id": "22ef38dc",
   "metadata": {
    "execution": {
     "iopub.execute_input": "2022-06-28T20:10:25.787639Z",
     "iopub.status.busy": "2022-06-28T20:10:25.787004Z",
     "iopub.status.idle": "2022-06-28T20:10:26.368358Z",
     "shell.execute_reply": "2022-06-28T20:10:26.367715Z"
    },
    "papermill": {
     "duration": 0.610507,
     "end_time": "2022-06-28T20:10:26.368518",
     "exception": false,
     "start_time": "2022-06-28T20:10:25.758011",
     "status": "completed"
    },
    "tags": []
   },
   "outputs": [],
   "source": [
    "%matplotlib inline\n",
    "import numpy as np\n",
    "import matplotlib.pyplot as plt\n",
    "import pandas as pd"
   ]
  },
  {
   "cell_type": "markdown",
   "id": "ba036198",
   "metadata": {
    "papermill": {
     "duration": 0.029148,
     "end_time": "2022-06-28T20:10:26.428404",
     "exception": false,
     "start_time": "2022-06-28T20:10:26.399256",
     "status": "completed"
    },
    "tags": []
   },
   "source": [
    "From the command line run `pip install mnist`. This is a library that will help you bring down the mnist dataset. If you run this from a notebook, you need to put  `!pip install mnist` in a cell by itself."
   ]
  },
  {
   "cell_type": "code",
   "execution_count": 3,
   "id": "bb6ad8a1",
   "metadata": {
    "execution": {
     "iopub.execute_input": "2022-06-28T20:10:26.496256Z",
     "iopub.status.busy": "2022-06-28T20:10:26.494025Z",
     "iopub.status.idle": "2022-06-28T20:10:28.337812Z",
     "shell.execute_reply": "2022-06-28T20:10:28.337280Z"
    },
    "papermill": {
     "duration": 1.881194,
     "end_time": "2022-06-28T20:10:28.337941",
     "exception": false,
     "start_time": "2022-06-28T20:10:26.456747",
     "status": "completed"
    },
    "tags": []
   },
   "outputs": [
    {
     "name": "stdout",
     "output_type": "stream",
     "text": [
      "Collecting mnist\r\n"
     ]
    },
    {
     "name": "stdout",
     "output_type": "stream",
     "text": [
      "  Downloading mnist-0.2.2-py2.py3-none-any.whl (3.5 kB)\r\n"
     ]
    },
    {
     "name": "stdout",
     "output_type": "stream",
     "text": [
      "Requirement already satisfied: numpy in /opt/hostedtoolcache/Python/3.6.15/x64/lib/python3.6/site-packages (from mnist) (1.19.5)\r\n"
     ]
    },
    {
     "name": "stdout",
     "output_type": "stream",
     "text": [
      "Installing collected packages: mnist\r\n",
      "Successfully installed mnist-0.2.2\r\n"
     ]
    }
   ],
   "source": [
    "!pip install mnist"
   ]
  },
  {
   "cell_type": "markdown",
   "id": "69df9c9a",
   "metadata": {
    "papermill": {
     "duration": 0.026239,
     "end_time": "2022-06-28T20:10:28.392841",
     "exception": false,
     "start_time": "2022-06-28T20:10:28.366602",
     "status": "completed"
    },
    "tags": []
   },
   "source": [
    "## Preparing the Data"
   ]
  },
  {
   "cell_type": "code",
   "execution_count": 4,
   "id": "7f69d806",
   "metadata": {
    "execution": {
     "iopub.execute_input": "2022-06-28T20:10:28.451340Z",
     "iopub.status.busy": "2022-06-28T20:10:28.447315Z",
     "iopub.status.idle": "2022-06-28T20:10:28.461930Z",
     "shell.execute_reply": "2022-06-28T20:10:28.462387Z"
    },
    "papermill": {
     "duration": 0.044543,
     "end_time": "2022-06-28T20:10:28.462525",
     "exception": false,
     "start_time": "2022-06-28T20:10:28.417982",
     "status": "completed"
    },
    "tags": []
   },
   "outputs": [],
   "source": [
    "import mnist"
   ]
  },
  {
   "cell_type": "code",
   "execution_count": 5,
   "id": "a411e44f",
   "metadata": {
    "execution": {
     "iopub.execute_input": "2022-06-28T20:10:28.523760Z",
     "iopub.status.busy": "2022-06-28T20:10:28.519276Z",
     "iopub.status.idle": "2022-06-28T20:10:29.037202Z",
     "shell.execute_reply": "2022-06-28T20:10:29.037689Z"
    },
    "papermill": {
     "duration": 0.547533,
     "end_time": "2022-06-28T20:10:29.037853",
     "exception": false,
     "start_time": "2022-06-28T20:10:28.490320",
     "status": "completed"
    },
    "tags": []
   },
   "outputs": [],
   "source": [
    "train_images = mnist.train_images()\n",
    "train_labels = mnist.train_labels()"
   ]
  },
  {
   "cell_type": "code",
   "execution_count": 6,
   "id": "dceab3a5",
   "metadata": {
    "execution": {
     "iopub.execute_input": "2022-06-28T20:10:29.112601Z",
     "iopub.status.busy": "2022-06-28T20:10:29.111858Z",
     "iopub.status.idle": "2022-06-28T20:10:29.127913Z",
     "shell.execute_reply": "2022-06-28T20:10:29.128531Z"
    },
    "papermill": {
     "duration": 0.052615,
     "end_time": "2022-06-28T20:10:29.128657",
     "exception": false,
     "start_time": "2022-06-28T20:10:29.076042",
     "status": "completed"
    },
    "tags": []
   },
   "outputs": [
    {
     "data": {
      "text/plain": [
       "((60000, 28, 28), (60000,))"
      ]
     },
     "execution_count": 6,
     "metadata": {},
     "output_type": "execute_result"
    }
   ],
   "source": [
    "train_images.shape, train_labels.shape"
   ]
  },
  {
   "cell_type": "code",
   "execution_count": 7,
   "id": "f50dc2bb",
   "metadata": {
    "execution": {
     "iopub.execute_input": "2022-06-28T20:10:29.192874Z",
     "iopub.status.busy": "2022-06-28T20:10:29.192214Z",
     "iopub.status.idle": "2022-06-28T20:10:29.310953Z",
     "shell.execute_reply": "2022-06-28T20:10:29.310413Z"
    },
    "papermill": {
     "duration": 0.150114,
     "end_time": "2022-06-28T20:10:29.311071",
     "exception": false,
     "start_time": "2022-06-28T20:10:29.160957",
     "status": "completed"
    },
    "tags": []
   },
   "outputs": [],
   "source": [
    "test_images = mnist.test_images()\n",
    "test_labels = mnist.test_labels()"
   ]
  },
  {
   "cell_type": "code",
   "execution_count": 8,
   "id": "fc38cf1b",
   "metadata": {
    "execution": {
     "iopub.execute_input": "2022-06-28T20:10:29.367387Z",
     "iopub.status.busy": "2022-06-28T20:10:29.366784Z",
     "iopub.status.idle": "2022-06-28T20:10:29.381016Z",
     "shell.execute_reply": "2022-06-28T20:10:29.380542Z"
    },
    "papermill": {
     "duration": 0.04358,
     "end_time": "2022-06-28T20:10:29.381120",
     "exception": false,
     "start_time": "2022-06-28T20:10:29.337540",
     "status": "completed"
    },
    "tags": []
   },
   "outputs": [
    {
     "data": {
      "text/plain": [
       "((10000, 28, 28), (10000,))"
      ]
     },
     "execution_count": 8,
     "metadata": {},
     "output_type": "execute_result"
    }
   ],
   "source": [
    "test_images.shape, test_labels.shape"
   ]
  },
  {
   "cell_type": "code",
   "execution_count": 9,
   "id": "f9ed8fe0",
   "metadata": {
    "execution": {
     "iopub.execute_input": "2022-06-28T20:10:29.442733Z",
     "iopub.status.busy": "2022-06-28T20:10:29.442075Z",
     "iopub.status.idle": "2022-06-28T20:10:29.645865Z",
     "shell.execute_reply": "2022-06-28T20:10:29.645145Z"
    },
    "papermill": {
     "duration": 0.238134,
     "end_time": "2022-06-28T20:10:29.646010",
     "exception": false,
     "start_time": "2022-06-28T20:10:29.407876",
     "status": "completed"
    },
    "tags": []
   },
   "outputs": [
    {
     "name": "stdout",
     "output_type": "stream",
     "text": [
      "2\n"
     ]
    },
    {
     "data": {
      "text/plain": [
       "<matplotlib.image.AxesImage at 0x7f0dc13e14a8>"
      ]
     },
     "execution_count": 9,
     "metadata": {},
     "output_type": "execute_result"
    },
    {
     "data": {
      "image/png": "[encoded data removed]",
      "text/plain": [
       "<Figure size 432x288 with 1 Axes>"
      ]
     },
     "metadata": {
      "needs_background": "light"
     },
     "output_type": "display_data"
    }
   ],
   "source": [
    "image_index = 7776 # You may select anything up to 60,000\n",
    "print(train_labels[image_index]) \n",
    "plt.imshow(train_images[image_index], cmap='Greys')"
   ]
  },
  {
   "cell_type": "markdown",
   "id": "a8d2388d",
   "metadata": {
    "papermill": {
     "duration": 0.029569,
     "end_time": "2022-06-28T20:10:29.706992",
     "exception": false,
     "start_time": "2022-06-28T20:10:29.677423",
     "status": "completed"
    },
    "tags": []
   },
   "source": [
    "## Filter data to get 3 and 8 out"
   ]
  },
  {
   "cell_type": "code",
   "execution_count": 10,
   "id": "776f7fc7",
   "metadata": {
    "execution": {
     "iopub.execute_input": "2022-06-28T20:10:29.770614Z",
     "iopub.status.busy": "2022-06-28T20:10:29.769806Z",
     "iopub.status.idle": "2022-06-28T20:10:29.790954Z",
     "shell.execute_reply": "2022-06-28T20:10:29.790429Z"
    },
    "papermill": {
     "duration": 0.054817,
     "end_time": "2022-06-28T20:10:29.791066",
     "exception": false,
     "start_time": "2022-06-28T20:10:29.736249",
     "status": "completed"
    },
    "tags": []
   },
   "outputs": [],
   "source": [
    "train_filter = np.where((train_labels == 3 ) | (train_labels == 8))\n",
    "test_filter = np.where((test_labels == 3) | (test_labels == 8))\n",
    "X_train, y_train = train_images[train_filter], train_labels[train_filter]\n",
    "X_test, y_test = test_images[test_filter], test_labels[test_filter]"
   ]
  },
  {
   "cell_type": "markdown",
   "id": "948f0b7e",
   "metadata": {
    "papermill": {
     "duration": 0.027422,
     "end_time": "2022-06-28T20:10:29.847533",
     "exception": false,
     "start_time": "2022-06-28T20:10:29.820111",
     "status": "completed"
    },
    "tags": []
   },
   "source": [
    "We normalize the pizel values in the 0 to 1 range"
   ]
  },
  {
   "cell_type": "code",
   "execution_count": 11,
   "id": "ee4c2166",
   "metadata": {
    "execution": {
     "iopub.execute_input": "2022-06-28T20:10:29.906047Z",
     "iopub.status.busy": "2022-06-28T20:10:29.905453Z",
     "iopub.status.idle": "2022-06-28T20:10:29.959677Z",
     "shell.execute_reply": "2022-06-28T20:10:29.959145Z"
    },
    "papermill": {
     "duration": 0.08543,
     "end_time": "2022-06-28T20:10:29.959805",
     "exception": false,
     "start_time": "2022-06-28T20:10:29.874375",
     "status": "completed"
    },
    "tags": []
   },
   "outputs": [],
   "source": [
    "X_train = X_train/255.\n",
    "X_test = X_test/255."
   ]
  },
  {
   "cell_type": "markdown",
   "id": "ddcf4fab",
   "metadata": {
    "papermill": {
     "duration": 0.0284,
     "end_time": "2022-06-28T20:10:30.016971",
     "exception": false,
     "start_time": "2022-06-28T20:10:29.988571",
     "status": "completed"
    },
    "tags": []
   },
   "source": [
    "And setup the labels as 1 (when the digit is 3) and 0 (when the digit is 8)"
   ]
  },
  {
   "cell_type": "code",
   "execution_count": 12,
   "id": "7dc908f2",
   "metadata": {
    "execution": {
     "iopub.execute_input": "2022-06-28T20:10:30.084554Z",
     "iopub.status.busy": "2022-06-28T20:10:30.083755Z",
     "iopub.status.idle": "2022-06-28T20:10:30.100292Z",
     "shell.execute_reply": "2022-06-28T20:10:30.100931Z"
    },
    "papermill": {
     "duration": 0.053188,
     "end_time": "2022-06-28T20:10:30.101064",
     "exception": false,
     "start_time": "2022-06-28T20:10:30.047876",
     "status": "completed"
    },
    "tags": []
   },
   "outputs": [],
   "source": [
    "y_train = 1*(y_train==3)\n",
    "y_test = 1*(y_test==3)"
   ]
  },
  {
   "cell_type": "code",
   "execution_count": 13,
   "id": "01e4e969",
   "metadata": {
    "execution": {
     "iopub.execute_input": "2022-06-28T20:10:30.160938Z",
     "iopub.status.busy": "2022-06-28T20:10:30.160332Z",
     "iopub.status.idle": "2022-06-28T20:10:30.174301Z",
     "shell.execute_reply": "2022-06-28T20:10:30.173415Z"
    },
    "papermill": {
     "duration": 0.04453,
     "end_time": "2022-06-28T20:10:30.174428",
     "exception": false,
     "start_time": "2022-06-28T20:10:30.129898",
     "status": "completed"
    },
    "tags": []
   },
   "outputs": [
    {
     "data": {
      "text/plain": [
       "((11982, 28, 28), (1984, 28, 28))"
      ]
     },
     "execution_count": 13,
     "metadata": {},
     "output_type": "execute_result"
    }
   ],
   "source": [
    "X_train.shape, X_test.shape"
   ]
  },
  {
   "cell_type": "markdown",
   "id": "5ccf3f85",
   "metadata": {
    "papermill": {
     "duration": 0.032052,
     "end_time": "2022-06-28T20:10:30.233725",
     "exception": false,
     "start_time": "2022-06-28T20:10:30.201673",
     "status": "completed"
    },
    "tags": []
   },
   "source": [
    "We reshape the data to flatten the image pixels into a set of features or co-variates:"
   ]
  },
  {
   "cell_type": "code",
   "execution_count": 14,
   "id": "5286a4a3",
   "metadata": {
    "execution": {
     "iopub.execute_input": "2022-06-28T20:10:30.295669Z",
     "iopub.status.busy": "2022-06-28T20:10:30.295019Z",
     "iopub.status.idle": "2022-06-28T20:10:30.307419Z",
     "shell.execute_reply": "2022-06-28T20:10:30.307997Z"
    },
    "papermill": {
     "duration": 0.046817,
     "end_time": "2022-06-28T20:10:30.308112",
     "exception": false,
     "start_time": "2022-06-28T20:10:30.261295",
     "status": "completed"
    },
    "tags": []
   },
   "outputs": [
    {
     "data": {
      "text/plain": [
       "((11982, 784), (1984, 784))"
      ]
     },
     "execution_count": 14,
     "metadata": {},
     "output_type": "execute_result"
    }
   ],
   "source": [
    "X_train = X_train.reshape(X_train.shape[0], -1)\n",
    "X_test = X_test.reshape(X_test.shape[0], -1)\n",
    "X_train.shape, X_test.shape"
   ]
  },
  {
   "cell_type": "code",
   "execution_count": 15,
   "id": "73c5f88a",
   "metadata": {
    "execution": {
     "iopub.execute_input": "2022-06-28T20:10:30.367551Z",
     "iopub.status.busy": "2022-06-28T20:10:30.366850Z",
     "iopub.status.idle": "2022-06-28T20:10:30.384292Z",
     "shell.execute_reply": "2022-06-28T20:10:30.384885Z"
    },
    "papermill": {
     "duration": 0.049702,
     "end_time": "2022-06-28T20:10:30.385036",
     "exception": false,
     "start_time": "2022-06-28T20:10:30.335334",
     "status": "completed"
    },
    "tags": []
   },
   "outputs": [],
   "source": [
    "#Impoting functions from 'Kudzu'\n",
    "from kudzu.model import Model\n",
    "from kudzu.train import Learner\n",
    "from kudzu.optim import GD\n",
    "from kudzu.data import Data, Sampler,Dataloader\n",
    "\n",
    "from kudzu.callbacks import AccCallback\n",
    "from kudzu.callbacks import ClfCallback\n",
    "\n",
    "from kudzu.loss import MSE\n",
    "\n",
    "from kudzu.layer import Sigmoid,Relu\n",
    "from kudzu.layer import Affine"
   ]
  },
  {
   "cell_type": "markdown",
   "id": "bc01172a",
   "metadata": {
    "papermill": {
     "duration": 0.027182,
     "end_time": "2022-06-28T20:10:30.439510",
     "exception": false,
     "start_time": "2022-06-28T20:10:30.412328",
     "status": "completed"
    },
    "tags": []
   },
   "source": [
    "### Let us create a `Config` class, to store important parameters. \n",
    "This class essentially plays the role of a dictionary."
   ]
  },
  {
   "cell_type": "code",
   "execution_count": 16,
   "id": "978281aa",
   "metadata": {
    "execution": {
     "iopub.execute_input": "2022-06-28T20:10:30.497433Z",
     "iopub.status.busy": "2022-06-28T20:10:30.496753Z",
     "iopub.status.idle": "2022-06-28T20:10:30.508926Z",
     "shell.execute_reply": "2022-06-28T20:10:30.508452Z"
    },
    "papermill": {
     "duration": 0.042182,
     "end_time": "2022-06-28T20:10:30.509025",
     "exception": false,
     "start_time": "2022-06-28T20:10:30.466843",
     "status": "completed"
    },
    "tags": []
   },
   "outputs": [],
   "source": [
    "class Config:\n",
    "    pass\n",
    "config = Config()\n",
    "config.lr = 0.001\n",
    "config.num_epochs = 250\n",
    "config.bs = 50"
   ]
  },
  {
   "cell_type": "markdown",
   "id": "1385fa59",
   "metadata": {
    "papermill": {
     "duration": 0.027039,
     "end_time": "2022-06-28T20:10:30.563007",
     "exception": false,
     "start_time": "2022-06-28T20:10:30.535968",
     "status": "completed"
    },
    "tags": []
   },
   "source": [
    "### Running Models with the Training data\n",
    "Details about the network layers:\n",
    "- A first affine layer has 784 inputs and does 100 affine transforms. These are followed by a Relu\n",
    "- A second affine layer has 100 inputs from the 100 activations of the past layer, and does 100 affine transforms. These are followed by a Relu\n",
    "- A third affine layer has 100 activations and does 2 affine transformations to create an embedding for visualization. There is no non-linearity here.\n",
    "- A final \"logistic regression\" which has an affine transform from 2 inputs to 1 output, which is squeezed through a sigmoid.\n"
   ]
  },
  {
   "cell_type": "code",
   "execution_count": 17,
   "id": "2b9c66db",
   "metadata": {
    "execution": {
     "iopub.execute_input": "2022-06-28T20:10:30.623415Z",
     "iopub.status.busy": "2022-06-28T20:10:30.622796Z",
     "iopub.status.idle": "2022-06-28T20:10:30.636350Z",
     "shell.execute_reply": "2022-06-28T20:10:30.635674Z"
    },
    "papermill": {
     "duration": 0.044953,
     "end_time": "2022-06-28T20:10:30.636448",
     "exception": false,
     "start_time": "2022-06-28T20:10:30.591495",
     "status": "completed"
    },
    "tags": []
   },
   "outputs": [],
   "source": [
    "data = Data(X_train, y_train.reshape(-1,1))\n",
    "sampler = Sampler(data, config.bs, shuffle=True)\n",
    "\n",
    "dl = Dataloader(data, sampler)\n",
    "\n",
    "opt = GD(config.lr)\n",
    "loss = MSE()"
   ]
  },
  {
   "cell_type": "code",
   "execution_count": 18,
   "id": "b275e4c2",
   "metadata": {
    "execution": {
     "iopub.execute_input": "2022-06-28T20:10:30.696009Z",
     "iopub.status.busy": "2022-06-28T20:10:30.695383Z",
     "iopub.status.idle": "2022-06-28T20:10:30.705377Z",
     "shell.execute_reply": "2022-06-28T20:10:30.705932Z"
    },
    "papermill": {
     "duration": 0.042377,
     "end_time": "2022-06-28T20:10:30.706042",
     "exception": false,
     "start_time": "2022-06-28T20:10:30.663665",
     "status": "completed"
    },
    "tags": []
   },
   "outputs": [],
   "source": [
    "training_data_x = X_train\n",
    "testing_data_x = X_test\n",
    "training_data_y = y_train.reshape(-1,1)\n",
    "testing_data_y = y_test.reshape(-1,1)"
   ]
  },
  {
   "cell_type": "code",
   "execution_count": 19,
   "id": "76951160",
   "metadata": {
    "execution": {
     "iopub.execute_input": "2022-06-28T20:10:30.767753Z",
     "iopub.status.busy": "2022-06-28T20:10:30.767171Z",
     "iopub.status.idle": "2022-06-28T20:10:30.780636Z",
     "shell.execute_reply": "2022-06-28T20:10:30.781271Z"
    },
    "papermill": {
     "duration": 0.048146,
     "end_time": "2022-06-28T20:10:30.781384",
     "exception": false,
     "start_time": "2022-06-28T20:10:30.733238",
     "status": "completed"
    },
    "tags": []
   },
   "outputs": [
    {
     "name": "stdout",
     "output_type": "stream",
     "text": [
      "xavier\n",
      "xavier\n",
      "xavier\n",
      "xavier\n",
      "xavier\n"
     ]
    }
   ],
   "source": [
    "layers = [Affine(\"first\", 784, 100), Relu(\"first\"), Affine(\"second\", 100, 100), Relu(\"second\"), Affine(\"third\", 100, 2), Affine(\"last\", 2, 1), Sigmoid(\"last\")]\n",
    "model_nn = Model(layers)\n",
    "model_lr = Model([Affine(\"logits\", 784, 1), Sigmoid(\"sigmoid\")])"
   ]
  },
  {
   "cell_type": "code",
   "execution_count": 20,
   "id": "6eede77a",
   "metadata": {
    "execution": {
     "iopub.execute_input": "2022-06-28T20:10:30.840731Z",
     "iopub.status.busy": "2022-06-28T20:10:30.840045Z",
     "iopub.status.idle": "2022-06-28T20:10:30.850835Z",
     "shell.execute_reply": "2022-06-28T20:10:30.851281Z"
    },
    "papermill": {
     "duration": 0.042484,
     "end_time": "2022-06-28T20:10:30.851403",
     "exception": false,
     "start_time": "2022-06-28T20:10:30.808919",
     "status": "completed"
    },
    "tags": []
   },
   "outputs": [],
   "source": [
    "nn_learner = Learner(loss, model_nn, opt, config.num_epochs)\n",
    "acc_nn = ClfCallback(nn_learner, config.bs, training_data_x , testing_data_x, training_data_y, testing_data_y)\n",
    "nn_learner.set_callbacks([acc_nn])"
   ]
  },
  {
   "cell_type": "code",
   "execution_count": 21,
   "id": "877b6cc7",
   "metadata": {
    "execution": {
     "iopub.execute_input": "2022-06-28T20:10:30.918014Z",
     "iopub.status.busy": "2022-06-28T20:10:30.917290Z",
     "iopub.status.idle": "2022-06-28T20:10:30.930875Z",
     "shell.execute_reply": "2022-06-28T20:10:30.930110Z"
    },
    "papermill": {
     "duration": 0.048546,
     "end_time": "2022-06-28T20:10:30.930985",
     "exception": false,
     "start_time": "2022-06-28T20:10:30.882439",
     "status": "completed"
    },
    "tags": []
   },
   "outputs": [],
   "source": [
    "lr_learner = Learner(loss, model_lr, opt, config.num_epochs)\n",
    "acc_lr = ClfCallback(lr_learner, config.bs, training_data_x , testing_data_x, training_data_y, testing_data_y)\n",
    "lr_learner.set_callbacks([acc_lr])"
   ]
  },
  {
   "cell_type": "code",
   "execution_count": 22,
   "id": "d9b133c3",
   "metadata": {
    "execution": {
     "iopub.execute_input": "2022-06-28T20:10:30.995798Z",
     "iopub.status.busy": "2022-06-28T20:10:30.995218Z",
     "iopub.status.idle": "2022-06-28T20:12:45.536116Z",
     "shell.execute_reply": "2022-06-28T20:12:45.536973Z"
    },
    "papermill": {
     "duration": 134.576007,
     "end_time": "2022-06-28T20:12:45.537127",
     "exception": false,
     "start_time": "2022-06-28T20:10:30.961120",
     "status": "completed"
    },
    "tags": []
   },
   "outputs": [
    {
     "name": "stdout",
     "output_type": "stream",
     "text": [
      "Epoch 0, Loss 0.2423\n",
      "Training Accuracy: 0.7239, Testing Accuracy: 0.7132\n",
      "\n"
     ]
    },
    {
     "name": "stdout",
     "output_type": "stream",
     "text": [
      "Epoch 10, Loss 0.074\n",
      "Training Accuracy: 0.9310, Testing Accuracy: 0.9410\n",
      "\n"
     ]
    },
    {
     "name": "stdout",
     "output_type": "stream",
     "text": [
      "Epoch 20, Loss 0.049\n",
      "Training Accuracy: 0.9468, Testing Accuracy: 0.9577\n",
      "\n"
     ]
    },
    {
     "name": "stdout",
     "output_type": "stream",
     "text": [
      "Epoch 30, Loss 0.0403\n",
      "Training Accuracy: 0.9542, Testing Accuracy: 0.9637\n",
      "\n"
     ]
    },
    {
     "name": "stdout",
     "output_type": "stream",
     "text": [
      "Epoch 40, Loss 0.0356\n",
      "Training Accuracy: 0.9584, Testing Accuracy: 0.9662\n",
      "\n"
     ]
    },
    {
     "name": "stdout",
     "output_type": "stream",
     "text": [
      "Epoch 50, Loss 0.0327\n",
      "Training Accuracy: 0.9621, Testing Accuracy: 0.9682\n",
      "\n"
     ]
    },
    {
     "name": "stdout",
     "output_type": "stream",
     "text": [
      "Epoch 60, Loss 0.0306\n",
      "Training Accuracy: 0.9652, Testing Accuracy: 0.9682\n",
      "\n"
     ]
    },
    {
     "name": "stdout",
     "output_type": "stream",
     "text": [
      "Epoch 70, Loss 0.029\n",
      "Training Accuracy: 0.9670, Testing Accuracy: 0.9698\n",
      "\n"
     ]
    },
    {
     "name": "stdout",
     "output_type": "stream",
     "text": [
      "Epoch 80, Loss 0.0277\n",
      "Training Accuracy: 0.9684, Testing Accuracy: 0.9718\n",
      "\n"
     ]
    },
    {
     "name": "stdout",
     "output_type": "stream",
     "text": [
      "Epoch 90, Loss 0.0266\n",
      "Training Accuracy: 0.9693, Testing Accuracy: 0.9713\n",
      "\n"
     ]
    },
    {
     "name": "stdout",
     "output_type": "stream",
     "text": [
      "Epoch 100, Loss 0.0256\n",
      "Training Accuracy: 0.9700, Testing Accuracy: 0.9718\n",
      "\n"
     ]
    },
    {
     "name": "stdout",
     "output_type": "stream",
     "text": [
      "Epoch 110, Loss 0.0248\n",
      "Training Accuracy: 0.9710, Testing Accuracy: 0.9718\n",
      "\n"
     ]
    },
    {
     "name": "stdout",
     "output_type": "stream",
     "text": [
      "Epoch 120, Loss 0.0241\n",
      "Training Accuracy: 0.9720, Testing Accuracy: 0.9718\n",
      "\n"
     ]
    },
    {
     "name": "stdout",
     "output_type": "stream",
     "text": [
      "Epoch 130, Loss 0.0234\n",
      "Training Accuracy: 0.9731, Testing Accuracy: 0.9718\n",
      "\n"
     ]
    },
    {
     "name": "stdout",
     "output_type": "stream",
     "text": [
      "Epoch 140, Loss 0.0228\n",
      "Training Accuracy: 0.9735, Testing Accuracy: 0.9723\n",
      "\n"
     ]
    },
    {
     "name": "stdout",
     "output_type": "stream",
     "text": [
      "Epoch 150, Loss 0.0222\n",
      "Training Accuracy: 0.9744, Testing Accuracy: 0.9723\n",
      "\n"
     ]
    },
    {
     "name": "stdout",
     "output_type": "stream",
     "text": [
      "Epoch 160, Loss 0.0217\n",
      "Training Accuracy: 0.9747, Testing Accuracy: 0.9728\n",
      "\n"
     ]
    },
    {
     "name": "stdout",
     "output_type": "stream",
     "text": [
      "Epoch 170, Loss 0.0212\n",
      "Training Accuracy: 0.9754, Testing Accuracy: 0.9723\n",
      "\n"
     ]
    },
    {
     "name": "stdout",
     "output_type": "stream",
     "text": [
      "Epoch 180, Loss 0.0207\n",
      "Training Accuracy: 0.9766, Testing Accuracy: 0.9723\n",
      "\n"
     ]
    },
    {
     "name": "stdout",
     "output_type": "stream",
     "text": [
      "Epoch 190, Loss 0.0203\n",
      "Training Accuracy: 0.9775, Testing Accuracy: 0.9733\n",
      "\n"
     ]
    },
    {
     "name": "stdout",
     "output_type": "stream",
     "text": [
      "Epoch 200, Loss 0.0199\n",
      "Training Accuracy: 0.9779, Testing Accuracy: 0.9733\n",
      "\n"
     ]
    },
    {
     "name": "stdout",
     "output_type": "stream",
     "text": [
      "Epoch 210, Loss 0.0195\n",
      "Training Accuracy: 0.9786, Testing Accuracy: 0.9753\n",
      "\n"
     ]
    },
    {
     "name": "stdout",
     "output_type": "stream",
     "text": [
      "Epoch 220, Loss 0.0191\n",
      "Training Accuracy: 0.9789, Testing Accuracy: 0.9753\n",
      "\n"
     ]
    },
    {
     "name": "stdout",
     "output_type": "stream",
     "text": [
      "Epoch 230, Loss 0.0187\n",
      "Training Accuracy: 0.9794, Testing Accuracy: 0.9758\n",
      "\n"
     ]
    },
    {
     "name": "stdout",
     "output_type": "stream",
     "text": [
      "Epoch 240, Loss 0.0183\n",
      "Training Accuracy: 0.9801, Testing Accuracy: 0.9768\n",
      "\n"
     ]
    },
    {
     "data": {
      "text/plain": [
       "0.009273427467079386"
      ]
     },
     "execution_count": 22,
     "metadata": {},
     "output_type": "execute_result"
    }
   ],
   "source": [
    "nn_learner.train_loop(dl)"
   ]
  },
  {
   "cell_type": "code",
   "execution_count": 23,
   "id": "e0163366",
   "metadata": {
    "execution": {
     "iopub.execute_input": "2022-06-28T20:12:45.624275Z",
     "iopub.status.busy": "2022-06-28T20:12:45.623524Z",
     "iopub.status.idle": "2022-06-28T20:13:04.783183Z",
     "shell.execute_reply": "2022-06-28T20:13:04.783982Z"
    },
    "papermill": {
     "duration": 19.209111,
     "end_time": "2022-06-28T20:13:04.784132",
     "exception": false,
     "start_time": "2022-06-28T20:12:45.575021",
     "status": "completed"
    },
    "tags": []
   },
   "outputs": [
    {
     "name": "stdout",
     "output_type": "stream",
     "text": [
      "Epoch 0, Loss 0.2851\n",
      "Training Accuracy: 0.5007, Testing Accuracy: 0.5136\n",
      "\n"
     ]
    },
    {
     "name": "stdout",
     "output_type": "stream",
     "text": [
      "Epoch 10, Loss 0.1111\n",
      "Training Accuracy: 0.8912, Testing Accuracy: 0.8967\n",
      "\n"
     ]
    },
    {
     "name": "stdout",
     "output_type": "stream",
     "text": [
      "Epoch 20, Loss 0.0825\n",
      "Training Accuracy: 0.9210, Testing Accuracy: 0.9315\n",
      "\n"
     ]
    },
    {
     "name": "stdout",
     "output_type": "stream",
     "text": [
      "Epoch 30, Loss 0.0698\n",
      "Training Accuracy: 0.9342, Testing Accuracy: 0.9400\n",
      "\n"
     ]
    },
    {
     "name": "stdout",
     "output_type": "stream",
     "text": [
      "Epoch 40, Loss 0.0625\n",
      "Training Accuracy: 0.9403, Testing Accuracy: 0.9486\n",
      "\n"
     ]
    },
    {
     "name": "stdout",
     "output_type": "stream",
     "text": [
      "Epoch 50, Loss 0.0576\n",
      "Training Accuracy: 0.9449, Testing Accuracy: 0.9526\n",
      "\n"
     ]
    },
    {
     "name": "stdout",
     "output_type": "stream",
     "text": [
      "Epoch 60, Loss 0.054\n",
      "Training Accuracy: 0.9489, Testing Accuracy: 0.9531\n",
      "\n"
     ]
    },
    {
     "name": "stdout",
     "output_type": "stream",
     "text": [
      "Epoch 70, Loss 0.0514\n",
      "Training Accuracy: 0.9509, Testing Accuracy: 0.9546\n",
      "\n"
     ]
    },
    {
     "name": "stdout",
     "output_type": "stream",
     "text": [
      "Epoch 80, Loss 0.0493\n",
      "Training Accuracy: 0.9529, Testing Accuracy: 0.9567\n",
      "\n"
     ]
    },
    {
     "name": "stdout",
     "output_type": "stream",
     "text": [
      "Epoch 90, Loss 0.0475\n",
      "Training Accuracy: 0.9541, Testing Accuracy: 0.9577\n",
      "\n"
     ]
    },
    {
     "name": "stdout",
     "output_type": "stream",
     "text": [
      "Epoch 100, Loss 0.0461\n",
      "Training Accuracy: 0.9551, Testing Accuracy: 0.9592\n",
      "\n"
     ]
    },
    {
     "name": "stdout",
     "output_type": "stream",
     "text": [
      "Epoch 110, Loss 0.0448\n",
      "Training Accuracy: 0.9553, Testing Accuracy: 0.9597\n",
      "\n"
     ]
    },
    {
     "name": "stdout",
     "output_type": "stream",
     "text": [
      "Epoch 120, Loss 0.0438\n",
      "Training Accuracy: 0.9564, Testing Accuracy: 0.9592\n",
      "\n"
     ]
    },
    {
     "name": "stdout",
     "output_type": "stream",
     "text": [
      "Epoch 130, Loss 0.0428\n",
      "Training Accuracy: 0.9573, Testing Accuracy: 0.9612\n",
      "\n"
     ]
    },
    {
     "name": "stdout",
     "output_type": "stream",
     "text": [
      "Epoch 140, Loss 0.042\n",
      "Training Accuracy: 0.9575, Testing Accuracy: 0.9627\n",
      "\n"
     ]
    },
    {
     "name": "stdout",
     "output_type": "stream",
     "text": [
      "Epoch 150, Loss 0.0413\n",
      "Training Accuracy: 0.9580, Testing Accuracy: 0.9632\n",
      "\n"
     ]
    },
    {
     "name": "stdout",
     "output_type": "stream",
     "text": [
      "Epoch 160, Loss 0.0406\n",
      "Training Accuracy: 0.9586, Testing Accuracy: 0.9642\n",
      "\n"
     ]
    },
    {
     "name": "stdout",
     "output_type": "stream",
     "text": [
      "Epoch 170, Loss 0.04\n",
      "Training Accuracy: 0.9594, Testing Accuracy: 0.9642\n",
      "\n"
     ]
    },
    {
     "name": "stdout",
     "output_type": "stream",
     "text": [
      "Epoch 180, Loss 0.0394\n",
      "Training Accuracy: 0.9599, Testing Accuracy: 0.9642\n",
      "\n"
     ]
    },
    {
     "name": "stdout",
     "output_type": "stream",
     "text": [
      "Epoch 190, Loss 0.0389\n",
      "Training Accuracy: 0.9602, Testing Accuracy: 0.9647\n",
      "\n"
     ]
    },
    {
     "name": "stdout",
     "output_type": "stream",
     "text": [
      "Epoch 200, Loss 0.0384\n",
      "Training Accuracy: 0.9605, Testing Accuracy: 0.9657\n",
      "\n"
     ]
    },
    {
     "name": "stdout",
     "output_type": "stream",
     "text": [
      "Epoch 210, Loss 0.038\n",
      "Training Accuracy: 0.9604, Testing Accuracy: 0.9662\n",
      "\n"
     ]
    },
    {
     "name": "stdout",
     "output_type": "stream",
     "text": [
      "Epoch 220, Loss 0.0376\n",
      "Training Accuracy: 0.9608, Testing Accuracy: 0.9667\n",
      "\n"
     ]
    },
    {
     "name": "stdout",
     "output_type": "stream",
     "text": [
      "Epoch 230, Loss 0.0372\n",
      "Training Accuracy: 0.9606, Testing Accuracy: 0.9667\n",
      "\n"
     ]
    },
    {
     "name": "stdout",
     "output_type": "stream",
     "text": [
      "Epoch 240, Loss 0.0369\n",
      "Training Accuracy: 0.9607, Testing Accuracy: 0.9667\n",
      "\n"
     ]
    },
    {
     "data": {
      "text/plain": [
       "0.026220235490839086"
      ]
     },
     "execution_count": 23,
     "metadata": {},
     "output_type": "execute_result"
    }
   ],
   "source": [
    "lr_learner.train_loop(dl)"
   ]
  },
  {
   "cell_type": "code",
   "execution_count": 24,
   "id": "ca410940",
   "metadata": {
    "execution": {
     "iopub.execute_input": "2022-06-28T20:13:04.888133Z",
     "iopub.status.busy": "2022-06-28T20:13:04.887451Z",
     "iopub.status.idle": "2022-06-28T20:13:05.158137Z",
     "shell.execute_reply": "2022-06-28T20:13:05.157604Z"
    },
    "papermill": {
     "duration": 0.328376,
     "end_time": "2022-06-28T20:13:05.158266",
     "exception": false,
     "start_time": "2022-06-28T20:13:04.829890",
     "status": "completed"
    },
    "tags": []
   },
   "outputs": [
    {
     "data": {
      "text/plain": [
       "<matplotlib.legend.Legend at 0x7f0dc0f42b00>"
      ]
     },
     "execution_count": 24,
     "metadata": {},
     "output_type": "execute_result"
    },
    {
     "data": {
      "image/png": "[encoded data removed]",
      "text/plain": [
       "<Figure size 1080x720 with 1 Axes>"
      ]
     },
     "metadata": {
      "needs_background": "light"
     },
     "output_type": "display_data"
    }
   ],
   "source": [
    "#comparing the results of NN and LR\n",
    "plt.figure(figsize=(15,10))\n",
    "\n",
    "# Neural Network plots\n",
    "plt.plot(acc_nn.accuracies, 'r-', label = \"Training Accuracies - NN\")\n",
    "plt.plot(acc_nn.test_accuracies, 'g-', label = \"Testing Accuracies - NN\")\n",
    "\n",
    "# Logistic Regression plots\n",
    "plt.plot(acc_lr.accuracies, 'k-', label = \"Training Accuracies - LR\")\n",
    "plt.plot(acc_lr.test_accuracies, 'b-', label = \"Testing Accuracies - LR\")\n",
    "plt.legend()"
   ]
  },
  {
   "cell_type": "markdown",
   "id": "80dfb35c",
   "metadata": {
    "papermill": {
     "duration": 0.044898,
     "end_time": "2022-06-28T20:13:05.248794",
     "exception": false,
     "start_time": "2022-06-28T20:13:05.203896",
     "status": "completed"
    },
    "tags": []
   },
   "source": [
    "#### Plotting the outputs of this layer of the NN.\n"
   ]
  },
  {
   "cell_type": "code",
   "execution_count": 25,
   "id": "45eb2ff5",
   "metadata": {
    "execution": {
     "iopub.execute_input": "2022-06-28T20:13:05.344390Z",
     "iopub.status.busy": "2022-06-28T20:13:05.343762Z",
     "iopub.status.idle": "2022-06-28T20:13:05.371255Z",
     "shell.execute_reply": "2022-06-28T20:13:05.372175Z"
    },
    "papermill": {
     "duration": 0.077523,
     "end_time": "2022-06-28T20:13:05.372330",
     "exception": false,
     "start_time": "2022-06-28T20:13:05.294807",
     "status": "completed"
    },
    "tags": []
   },
   "outputs": [],
   "source": [
    "new_model = Model(layers[:-2])\n",
    "testing_plot = new_model(testing_data_x)"
   ]
  },
  {
   "cell_type": "code",
   "execution_count": 26,
   "id": "4c0a5485",
   "metadata": {
    "execution": {
     "iopub.execute_input": "2022-06-28T20:13:05.479788Z",
     "iopub.status.busy": "2022-06-28T20:13:05.479163Z",
     "iopub.status.idle": "2022-06-28T20:13:05.741626Z",
     "shell.execute_reply": "2022-06-28T20:13:05.742211Z"
    },
    "papermill": {
     "duration": 0.323124,
     "end_time": "2022-06-28T20:13:05.742367",
     "exception": false,
     "start_time": "2022-06-28T20:13:05.419243",
     "status": "completed"
    },
    "tags": []
   },
   "outputs": [
    {
     "data": {
      "text/plain": [
       "Text(0.5, 1.0, 'Outputs')"
      ]
     },
     "execution_count": 26,
     "metadata": {},
     "output_type": "execute_result"
    },
    {
     "data": {
      "image/png": "[encoded data removed]",
      "text/plain": [
       "<Figure size 576x504 with 1 Axes>"
      ]
     },
     "metadata": {
      "needs_background": "light"
     },
     "output_type": "display_data"
    }
   ],
   "source": [
    "# Plotting the scatter plot of points and color coding by class\n",
    "plt.figure(figsize=(8,7))\n",
    "plt.scatter(testing_plot[:,0], testing_plot[:,1], alpha = 0.1, c = y_test.ravel());\n",
    "plt.title('Outputs')"
   ]
  },
  {
   "cell_type": "markdown",
   "id": "a74fcf8f",
   "metadata": {
    "papermill": {
     "duration": 0.069829,
     "end_time": "2022-06-28T20:13:05.858848",
     "exception": false,
     "start_time": "2022-06-28T20:13:05.789019",
     "status": "completed"
    },
    "tags": []
   },
   "source": [
    "Probability contours"
   ]
  },
  {
   "cell_type": "code",
   "execution_count": 27,
   "id": "d0afc8e3",
   "metadata": {
    "execution": {
     "iopub.execute_input": "2022-06-28T20:13:05.958582Z",
     "iopub.status.busy": "2022-06-28T20:13:05.957930Z",
     "iopub.status.idle": "2022-06-28T20:13:05.971691Z",
     "shell.execute_reply": "2022-06-28T20:13:05.971067Z"
    },
    "papermill": {
     "duration": 0.06536,
     "end_time": "2022-06-28T20:13:05.971806",
     "exception": false,
     "start_time": "2022-06-28T20:13:05.906446",
     "status": "completed"
    },
    "tags": []
   },
   "outputs": [],
   "source": [
    "model_prob = Model(layers[-2:]) "
   ]
  },
  {
   "cell_type": "code",
   "execution_count": 28,
   "id": "9b96e238",
   "metadata": {
    "execution": {
     "iopub.execute_input": "2022-06-28T20:13:06.084582Z",
     "iopub.status.busy": "2022-06-28T20:13:06.083933Z",
     "iopub.status.idle": "2022-06-28T20:13:06.098420Z",
     "shell.execute_reply": "2022-06-28T20:13:06.099125Z"
    },
    "papermill": {
     "duration": 0.076296,
     "end_time": "2022-06-28T20:13:06.099274",
     "exception": false,
     "start_time": "2022-06-28T20:13:06.022978",
     "status": "completed"
    },
    "tags": []
   },
   "outputs": [],
   "source": [
    "#creating the x and y ranges according to the above generated plot.\n",
    "x_range = np.linspace(-4, 1, 100) \n",
    "y_range = np.linspace(-6, 6, 100) \n",
    "x_grid, y_grid = np.meshgrid(x_range, y_range) # x_grid and y_grig are of size 100 X 100\n",
    "\n",
    "# converting x_grid and y_grid to continuous arrays\n",
    "x_gridflat = np.ravel(x_grid)\n",
    "y_gridflat = np.ravel(y_grid)\n",
    "\n",
    "# The last layer of the current model takes two columns as input. Hence transpose of np.vstack() is required.\n",
    "X = np.vstack((x_gridflat, y_gridflat)).T\n",
    "\n",
    "prob_contour = model_prob(X).reshape(100,100) "
   ]
  },
  {
   "cell_type": "code",
   "execution_count": 29,
   "id": "da72499a",
   "metadata": {
    "execution": {
     "iopub.execute_input": "2022-06-28T20:13:06.203701Z",
     "iopub.status.busy": "2022-06-28T20:13:06.203058Z",
     "iopub.status.idle": "2022-06-28T20:13:06.500453Z",
     "shell.execute_reply": "2022-06-28T20:13:06.499953Z"
    },
    "papermill": {
     "duration": 0.351943,
     "end_time": "2022-06-28T20:13:06.500576",
     "exception": false,
     "start_time": "2022-06-28T20:13:06.148633",
     "status": "completed"
    },
    "tags": []
   },
   "outputs": [
    {
     "data": {
      "image/png": "[encoded data removed]",
      "text/plain": [
       "<Figure size 720x648 with 1 Axes>"
      ]
     },
     "metadata": {
      "needs_background": "light"
     },
     "output_type": "display_data"
    }
   ],
   "source": [
    "plt.figure(figsize=(10,9))\n",
    "plt.scatter(testing_plot[:,0], testing_plot[:,1], alpha = 0.1, c = y_test.ravel())\n",
    "contours = plt.contour(x_grid,y_grid,prob_contour)\n",
    "plt.title('Probability Contours')\n",
    "plt.clabel(contours, inline = True );"
   ]
  },
  {
   "cell_type": "code",
   "execution_count": null,
   "id": "e81b4ac7",
   "metadata": {
    "papermill": {
     "duration": 0.046492,
     "end_time": "2022-06-28T20:13:06.595955",
     "exception": false,
     "start_time": "2022-06-28T20:13:06.549463",
     "status": "completed"
    },
    "tags": []
   },
   "outputs": [],
   "source": []
  }
 ],
 "metadata": {
  "kernelspec": {
   "display_name": "Python 3",
   "language": "python",
   "name": "python3"
  },
  "language_info": {
   "codemirror_mode": {
    "name": "ipython",
    "version": 3
   },
   "file_extension": ".py",
   "mimetype": "text/x-python",
   "name": "python",
   "nbconvert_exporter": "python",
   "pygments_lexer": "ipython3",
   "version": "3.6.15"
  },
  "papermill": {
   "default_parameters": {},
   "duration": 162.649411,
   "end_time": "2022-06-28T20:13:06.963712",
   "environment_variables": {},
   "exception": null,
   "input_path": "2020-08-11-part2.ipynb",
   "output_path": "2020-08-11-part2.ipynb",
   "parameters": {},
   "start_time": "2022-06-28T20:10:24.314301",
   "version": "2.3.3"
  }
 },
 "nbformat": 4,
 "nbformat_minor": 5
}