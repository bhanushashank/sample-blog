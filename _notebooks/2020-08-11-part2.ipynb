{
 "cells": [
  {
   "cell_type": "markdown",
   "id": "98380cd3",
   "metadata": {
    "papermill": {
     "duration": 0.027583,
     "end_time": "2022-03-12T20:09:22.373703",
     "exception": false,
     "start_time": "2022-03-12T20:09:22.346120",
     "status": "completed"
    },
    "tags": []
   },
   "source": [
    "# Distinguish Your Own Digits (DYOD)"
   ]
  },
  {
   "cell_type": "markdown",
   "id": "ef31240d",
   "metadata": {
    "papermill": {
     "duration": 0.024944,
     "end_time": "2022-03-12T20:09:22.422863",
     "exception": false,
     "start_time": "2022-03-12T20:09:22.397919",
     "status": "completed"
    },
    "tags": []
   },
   "source": [
    "You are going to write a classifier that distinguishes between the number 3 and number 8."
   ]
  },
  {
   "cell_type": "code",
   "execution_count": 1,
   "id": "b15c8646",
   "metadata": {
    "execution": {
     "iopub.execute_input": "2022-03-12T20:09:22.480685Z",
     "iopub.status.busy": "2022-03-12T20:09:22.480157Z",
     "iopub.status.idle": "2022-03-12T20:09:22.490726Z",
     "shell.execute_reply": "2022-03-12T20:09:22.490276Z"
    },
    "papermill": {
     "duration": 0.044585,
     "end_time": "2022-03-12T20:09:22.490850",
     "exception": false,
     "start_time": "2022-03-12T20:09:22.446265",
     "status": "completed"
    },
    "tags": []
   },
   "outputs": [],
   "source": [
    "%load_ext autoreload\n",
    "%autoreload 2"
   ]
  },
  {
   "cell_type": "code",
   "execution_count": 2,
   "id": "22ef38dc",
   "metadata": {
    "execution": {
     "iopub.execute_input": "2022-03-12T20:09:22.542342Z",
     "iopub.status.busy": "2022-03-12T20:09:22.541804Z",
     "iopub.status.idle": "2022-03-12T20:09:23.130028Z",
     "shell.execute_reply": "2022-03-12T20:09:23.129425Z"
    },
    "papermill": {
     "duration": 0.615669,
     "end_time": "2022-03-12T20:09:23.130181",
     "exception": false,
     "start_time": "2022-03-12T20:09:22.514512",
     "status": "completed"
    },
    "tags": []
   },
   "outputs": [],
   "source": [
    "%matplotlib inline\n",
    "import numpy as np\n",
    "import matplotlib.pyplot as plt\n",
    "import pandas as pd"
   ]
  },
  {
   "cell_type": "markdown",
   "id": "ba036198",
   "metadata": {
    "papermill": {
     "duration": 0.023791,
     "end_time": "2022-03-12T20:09:23.177825",
     "exception": false,
     "start_time": "2022-03-12T20:09:23.154034",
     "status": "completed"
    },
    "tags": []
   },
   "source": [
    "From the command line run `pip install mnist`. This is a library that will help you bring down the mnist dataset. If you run this from a notebook, you need to put  `!pip install mnist` in a cell by itself."
   ]
  },
  {
   "cell_type": "code",
   "execution_count": 3,
   "id": "bb6ad8a1",
   "metadata": {
    "execution": {
     "iopub.execute_input": "2022-03-12T20:09:23.242810Z",
     "iopub.status.busy": "2022-03-12T20:09:23.239060Z",
     "iopub.status.idle": "2022-03-12T20:09:24.868589Z",
     "shell.execute_reply": "2022-03-12T20:09:24.868038Z"
    },
    "papermill": {
     "duration": 1.66716,
     "end_time": "2022-03-12T20:09:24.868724",
     "exception": false,
     "start_time": "2022-03-12T20:09:23.201564",
     "status": "completed"
    },
    "tags": []
   },
   "outputs": [
    {
     "name": "stdout",
     "output_type": "stream",
     "text": [
      "Collecting mnist\r\n"
     ]
    },
    {
     "name": "stdout",
     "output_type": "stream",
     "text": [
      "  Downloading mnist-0.2.2-py2.py3-none-any.whl (3.5 kB)\r\n",
      "Requirement already satisfied: numpy in /opt/hostedtoolcache/Python/3.6.15/x64/lib/python3.6/site-packages (from mnist) (1.19.5)\r\n"
     ]
    },
    {
     "name": "stdout",
     "output_type": "stream",
     "text": [
      "Installing collected packages: mnist\r\n",
      "Successfully installed mnist-0.2.2\r\n"
     ]
    }
   ],
   "source": [
    "!pip install mnist"
   ]
  },
  {
   "cell_type": "markdown",
   "id": "69df9c9a",
   "metadata": {
    "papermill": {
     "duration": 0.0248,
     "end_time": "2022-03-12T20:09:24.919114",
     "exception": false,
     "start_time": "2022-03-12T20:09:24.894314",
     "status": "completed"
    },
    "tags": []
   },
   "source": [
    "## Preparing the Data"
   ]
  },
  {
   "cell_type": "code",
   "execution_count": 4,
   "id": "7f69d806",
   "metadata": {
    "execution": {
     "iopub.execute_input": "2022-03-12T20:09:24.972278Z",
     "iopub.status.busy": "2022-03-12T20:09:24.971757Z",
     "iopub.status.idle": "2022-03-12T20:09:24.987025Z",
     "shell.execute_reply": "2022-03-12T20:09:24.986598Z"
    },
    "papermill": {
     "duration": 0.043436,
     "end_time": "2022-03-12T20:09:24.987143",
     "exception": false,
     "start_time": "2022-03-12T20:09:24.943707",
     "status": "completed"
    },
    "tags": []
   },
   "outputs": [],
   "source": [
    "import mnist"
   ]
  },
  {
   "cell_type": "code",
   "execution_count": 5,
   "id": "a411e44f",
   "metadata": {
    "execution": {
     "iopub.execute_input": "2022-03-12T20:09:25.042868Z",
     "iopub.status.busy": "2022-03-12T20:09:25.042349Z",
     "iopub.status.idle": "2022-03-12T20:09:25.538503Z",
     "shell.execute_reply": "2022-03-12T20:09:25.537943Z"
    },
    "papermill": {
     "duration": 0.526713,
     "end_time": "2022-03-12T20:09:25.538653",
     "exception": false,
     "start_time": "2022-03-12T20:09:25.011940",
     "status": "completed"
    },
    "tags": []
   },
   "outputs": [],
   "source": [
    "train_images = mnist.train_images()\n",
    "train_labels = mnist.train_labels()"
   ]
  },
  {
   "cell_type": "code",
   "execution_count": 6,
   "id": "dceab3a5",
   "metadata": {
    "execution": {
     "iopub.execute_input": "2022-03-12T20:09:25.601827Z",
     "iopub.status.busy": "2022-03-12T20:09:25.593160Z",
     "iopub.status.idle": "2022-03-12T20:09:25.610765Z",
     "shell.execute_reply": "2022-03-12T20:09:25.610072Z"
    },
    "papermill": {
     "duration": 0.047041,
     "end_time": "2022-03-12T20:09:25.610882",
     "exception": false,
     "start_time": "2022-03-12T20:09:25.563841",
     "status": "completed"
    },
    "tags": []
   },
   "outputs": [
    {
     "data": {
      "text/plain": [
       "((60000, 28, 28), (60000,))"
      ]
     },
     "execution_count": 6,
     "metadata": {},
     "output_type": "execute_result"
    }
   ],
   "source": [
    "train_images.shape, train_labels.shape"
   ]
  },
  {
   "cell_type": "code",
   "execution_count": 7,
   "id": "f50dc2bb",
   "metadata": {
    "execution": {
     "iopub.execute_input": "2022-03-12T20:09:25.674325Z",
     "iopub.status.busy": "2022-03-12T20:09:25.670624Z",
     "iopub.status.idle": "2022-03-12T20:09:25.807921Z",
     "shell.execute_reply": "2022-03-12T20:09:25.808402Z"
    },
    "papermill": {
     "duration": 0.172824,
     "end_time": "2022-03-12T20:09:25.808577",
     "exception": false,
     "start_time": "2022-03-12T20:09:25.635753",
     "status": "completed"
    },
    "tags": []
   },
   "outputs": [],
   "source": [
    "test_images = mnist.test_images()\n",
    "test_labels = mnist.test_labels()"
   ]
  },
  {
   "cell_type": "code",
   "execution_count": 8,
   "id": "fc38cf1b",
   "metadata": {
    "execution": {
     "iopub.execute_input": "2022-03-12T20:09:25.865704Z",
     "iopub.status.busy": "2022-03-12T20:09:25.865155Z",
     "iopub.status.idle": "2022-03-12T20:09:25.876532Z",
     "shell.execute_reply": "2022-03-12T20:09:25.876945Z"
    },
    "papermill": {
     "duration": 0.042097,
     "end_time": "2022-03-12T20:09:25.877078",
     "exception": false,
     "start_time": "2022-03-12T20:09:25.834981",
     "status": "completed"
    },
    "tags": []
   },
   "outputs": [
    {
     "data": {
      "text/plain": [
       "((10000, 28, 28), (10000,))"
      ]
     },
     "execution_count": 8,
     "metadata": {},
     "output_type": "execute_result"
    }
   ],
   "source": [
    "test_images.shape, test_labels.shape"
   ]
  },
  {
   "cell_type": "code",
   "execution_count": 9,
   "id": "f9ed8fe0",
   "metadata": {
    "execution": {
     "iopub.execute_input": "2022-03-12T20:09:25.942903Z",
     "iopub.status.busy": "2022-03-12T20:09:25.942379Z",
     "iopub.status.idle": "2022-03-12T20:09:26.072298Z",
     "shell.execute_reply": "2022-03-12T20:09:26.072704Z"
    },
    "papermill": {
     "duration": 0.170538,
     "end_time": "2022-03-12T20:09:26.072856",
     "exception": false,
     "start_time": "2022-03-12T20:09:25.902318",
     "status": "completed"
    },
    "tags": []
   },
   "outputs": [
    {
     "name": "stdout",
     "output_type": "stream",
     "text": [
      "2\n"
     ]
    },
    {
     "data": {
      "text/plain": [
       "<matplotlib.image.AxesImage at 0x7ff1c158c5c0>"
      ]
     },
     "execution_count": 9,
     "metadata": {},
     "output_type": "execute_result"
    },
    {
     "data": {
      "image/png": "[encoded data removed]",
      "text/plain": [
       "<Figure size 432x288 with 1 Axes>"
      ]
     },
     "metadata": {
      "needs_background": "light"
     },
     "output_type": "display_data"
    }
   ],
   "source": [
    "image_index = 7776 # You may select anything up to 60,000\n",
    "print(train_labels[image_index]) \n",
    "plt.imshow(train_images[image_index], cmap='Greys')"
   ]
  },
  {
   "cell_type": "markdown",
   "id": "a8d2388d",
   "metadata": {
    "papermill": {
     "duration": 0.026659,
     "end_time": "2022-03-12T20:09:26.126189",
     "exception": false,
     "start_time": "2022-03-12T20:09:26.099530",
     "status": "completed"
    },
    "tags": []
   },
   "source": [
    "## Filter data to get 3 and 8 out"
   ]
  },
  {
   "cell_type": "code",
   "execution_count": 10,
   "id": "776f7fc7",
   "metadata": {
    "execution": {
     "iopub.execute_input": "2022-03-12T20:09:26.194920Z",
     "iopub.status.busy": "2022-03-12T20:09:26.187477Z",
     "iopub.status.idle": "2022-03-12T20:09:26.204936Z",
     "shell.execute_reply": "2022-03-12T20:09:26.204493Z"
    },
    "papermill": {
     "duration": 0.052407,
     "end_time": "2022-03-12T20:09:26.205066",
     "exception": false,
     "start_time": "2022-03-12T20:09:26.152659",
     "status": "completed"
    },
    "tags": []
   },
   "outputs": [],
   "source": [
    "train_filter = np.where((train_labels == 3 ) | (train_labels == 8))\n",
    "test_filter = np.where((test_labels == 3) | (test_labels == 8))\n",
    "X_train, y_train = train_images[train_filter], train_labels[train_filter]\n",
    "X_test, y_test = test_images[test_filter], test_labels[test_filter]"
   ]
  },
  {
   "cell_type": "markdown",
   "id": "948f0b7e",
   "metadata": {
    "papermill": {
     "duration": 0.026363,
     "end_time": "2022-03-12T20:09:26.258148",
     "exception": false,
     "start_time": "2022-03-12T20:09:26.231785",
     "status": "completed"
    },
    "tags": []
   },
   "source": [
    "We normalize the pizel values in the 0 to 1 range"
   ]
  },
  {
   "cell_type": "code",
   "execution_count": 11,
   "id": "ee4c2166",
   "metadata": {
    "execution": {
     "iopub.execute_input": "2022-03-12T20:09:26.314911Z",
     "iopub.status.busy": "2022-03-12T20:09:26.314373Z",
     "iopub.status.idle": "2022-03-12T20:09:26.363110Z",
     "shell.execute_reply": "2022-03-12T20:09:26.363555Z"
    },
    "papermill": {
     "duration": 0.079213,
     "end_time": "2022-03-12T20:09:26.363710",
     "exception": false,
     "start_time": "2022-03-12T20:09:26.284497",
     "status": "completed"
    },
    "tags": []
   },
   "outputs": [],
   "source": [
    "X_train = X_train/255.\n",
    "X_test = X_test/255."
   ]
  },
  {
   "cell_type": "markdown",
   "id": "ddcf4fab",
   "metadata": {
    "papermill": {
     "duration": 0.026416,
     "end_time": "2022-03-12T20:09:26.416744",
     "exception": false,
     "start_time": "2022-03-12T20:09:26.390328",
     "status": "completed"
    },
    "tags": []
   },
   "source": [
    "And setup the labels as 1 (when the digit is 3) and 0 (when the digit is 8)"
   ]
  },
  {
   "cell_type": "code",
   "execution_count": 12,
   "id": "7dc908f2",
   "metadata": {
    "execution": {
     "iopub.execute_input": "2022-03-12T20:09:26.474956Z",
     "iopub.status.busy": "2022-03-12T20:09:26.472779Z",
     "iopub.status.idle": "2022-03-12T20:09:26.484840Z",
     "shell.execute_reply": "2022-03-12T20:09:26.484399Z"
    },
    "papermill": {
     "duration": 0.041867,
     "end_time": "2022-03-12T20:09:26.484961",
     "exception": false,
     "start_time": "2022-03-12T20:09:26.443094",
     "status": "completed"
    },
    "tags": []
   },
   "outputs": [],
   "source": [
    "y_train = 1*(y_train==3)\n",
    "y_test = 1*(y_test==3)"
   ]
  },
  {
   "cell_type": "code",
   "execution_count": 13,
   "id": "01e4e969",
   "metadata": {
    "execution": {
     "iopub.execute_input": "2022-03-12T20:09:26.541924Z",
     "iopub.status.busy": "2022-03-12T20:09:26.541365Z",
     "iopub.status.idle": "2022-03-12T20:09:26.555135Z",
     "shell.execute_reply": "2022-03-12T20:09:26.554696Z"
    },
    "papermill": {
     "duration": 0.043835,
     "end_time": "2022-03-12T20:09:26.555249",
     "exception": false,
     "start_time": "2022-03-12T20:09:26.511414",
     "status": "completed"
    },
    "tags": []
   },
   "outputs": [
    {
     "data": {
      "text/plain": [
       "((11982, 28, 28), (1984, 28, 28))"
      ]
     },
     "execution_count": 13,
     "metadata": {},
     "output_type": "execute_result"
    }
   ],
   "source": [
    "X_train.shape, X_test.shape"
   ]
  },
  {
   "cell_type": "markdown",
   "id": "5ccf3f85",
   "metadata": {
    "papermill": {
     "duration": 0.026232,
     "end_time": "2022-03-12T20:09:26.607880",
     "exception": false,
     "start_time": "2022-03-12T20:09:26.581648",
     "status": "completed"
    },
    "tags": []
   },
   "source": [
    "We reshape the data to flatten the image pixels into a set of features or co-variates:"
   ]
  },
  {
   "cell_type": "code",
   "execution_count": 14,
   "id": "5286a4a3",
   "metadata": {
    "execution": {
     "iopub.execute_input": "2022-03-12T20:09:26.666848Z",
     "iopub.status.busy": "2022-03-12T20:09:26.666330Z",
     "iopub.status.idle": "2022-03-12T20:09:26.679179Z",
     "shell.execute_reply": "2022-03-12T20:09:26.678768Z"
    },
    "papermill": {
     "duration": 0.044991,
     "end_time": "2022-03-12T20:09:26.679293",
     "exception": false,
     "start_time": "2022-03-12T20:09:26.634302",
     "status": "completed"
    },
    "tags": []
   },
   "outputs": [
    {
     "data": {
      "text/plain": [
       "((11982, 784), (1984, 784))"
      ]
     },
     "execution_count": 14,
     "metadata": {},
     "output_type": "execute_result"
    }
   ],
   "source": [
    "X_train = X_train.reshape(X_train.shape[0], -1)\n",
    "X_test = X_test.reshape(X_test.shape[0], -1)\n",
    "X_train.shape, X_test.shape"
   ]
  },
  {
   "cell_type": "code",
   "execution_count": 15,
   "id": "73c5f88a",
   "metadata": {
    "execution": {
     "iopub.execute_input": "2022-03-12T20:09:26.737464Z",
     "iopub.status.busy": "2022-03-12T20:09:26.736950Z",
     "iopub.status.idle": "2022-03-12T20:09:26.755221Z",
     "shell.execute_reply": "2022-03-12T20:09:26.755610Z"
    },
    "papermill": {
     "duration": 0.049248,
     "end_time": "2022-03-12T20:09:26.755747",
     "exception": false,
     "start_time": "2022-03-12T20:09:26.706499",
     "status": "completed"
    },
    "tags": []
   },
   "outputs": [],
   "source": [
    "#Impoting functions from 'Kudzu'\n",
    "from kudzu.model import Model\n",
    "from kudzu.train import Learner\n",
    "from kudzu.optim import GD\n",
    "from kudzu.data import Data, Sampler,Dataloader\n",
    "\n",
    "from kudzu.callbacks import AccCallback\n",
    "from kudzu.callbacks import ClfCallback\n",
    "\n",
    "from kudzu.loss import MSE\n",
    "\n",
    "from kudzu.layer import Sigmoid,Relu\n",
    "from kudzu.layer import Affine"
   ]
  },
  {
   "cell_type": "markdown",
   "id": "bc01172a",
   "metadata": {
    "papermill": {
     "duration": 0.026803,
     "end_time": "2022-03-12T20:09:26.809572",
     "exception": false,
     "start_time": "2022-03-12T20:09:26.782769",
     "status": "completed"
    },
    "tags": []
   },
   "source": [
    "### Let us create a `Config` class, to store important parameters. \n",
    "This class essentially plays the role of a dictionary."
   ]
  },
  {
   "cell_type": "code",
   "execution_count": 16,
   "id": "978281aa",
   "metadata": {
    "execution": {
     "iopub.execute_input": "2022-03-12T20:09:26.867758Z",
     "iopub.status.busy": "2022-03-12T20:09:26.867225Z",
     "iopub.status.idle": "2022-03-12T20:09:26.879539Z",
     "shell.execute_reply": "2022-03-12T20:09:26.879120Z"
    },
    "papermill": {
     "duration": 0.043417,
     "end_time": "2022-03-12T20:09:26.879651",
     "exception": false,
     "start_time": "2022-03-12T20:09:26.836234",
     "status": "completed"
    },
    "tags": []
   },
   "outputs": [],
   "source": [
    "class Config:\n",
    "    pass\n",
    "config = Config()\n",
    "config.lr = 0.001\n",
    "config.num_epochs = 250\n",
    "config.bs = 50"
   ]
  },
  {
   "cell_type": "markdown",
   "id": "1385fa59",
   "metadata": {
    "papermill": {
     "duration": 0.026667,
     "end_time": "2022-03-12T20:09:26.933409",
     "exception": false,
     "start_time": "2022-03-12T20:09:26.906742",
     "status": "completed"
    },
    "tags": []
   },
   "source": [
    "### Running Models with the Training data\n",
    "Details about the network layers:\n",
    "- A first affine layer has 784 inputs and does 100 affine transforms. These are followed by a Relu\n",
    "- A second affine layer has 100 inputs from the 100 activations of the past layer, and does 100 affine transforms. These are followed by a Relu\n",
    "- A third affine layer has 100 activations and does 2 affine transformations to create an embedding for visualization. There is no non-linearity here.\n",
    "- A final \"logistic regression\" which has an affine transform from 2 inputs to 1 output, which is squeezed through a sigmoid.\n"
   ]
  },
  {
   "cell_type": "code",
   "execution_count": 17,
   "id": "2b9c66db",
   "metadata": {
    "execution": {
     "iopub.execute_input": "2022-03-12T20:09:26.996805Z",
     "iopub.status.busy": "2022-03-12T20:09:26.996266Z",
     "iopub.status.idle": "2022-03-12T20:09:27.004835Z",
     "shell.execute_reply": "2022-03-12T20:09:27.005274Z"
    },
    "papermill": {
     "duration": 0.045203,
     "end_time": "2022-03-12T20:09:27.005408",
     "exception": false,
     "start_time": "2022-03-12T20:09:26.960205",
     "status": "completed"
    },
    "tags": []
   },
   "outputs": [],
   "source": [
    "data = Data(X_train, y_train.reshape(-1,1))\n",
    "sampler = Sampler(data, config.bs, shuffle=True)\n",
    "\n",
    "dl = Dataloader(data, sampler)\n",
    "\n",
    "opt = GD(config.lr)\n",
    "loss = MSE()"
   ]
  },
  {
   "cell_type": "code",
   "execution_count": 18,
   "id": "b275e4c2",
   "metadata": {
    "execution": {
     "iopub.execute_input": "2022-03-12T20:09:27.074400Z",
     "iopub.status.busy": "2022-03-12T20:09:27.070350Z",
     "iopub.status.idle": "2022-03-12T20:09:27.077931Z",
     "shell.execute_reply": "2022-03-12T20:09:27.077434Z"
    },
    "papermill": {
     "duration": 0.045835,
     "end_time": "2022-03-12T20:09:27.078046",
     "exception": false,
     "start_time": "2022-03-12T20:09:27.032211",
     "status": "completed"
    },
    "tags": []
   },
   "outputs": [],
   "source": [
    "training_data_x = X_train\n",
    "testing_data_x = X_test\n",
    "training_data_y = y_train.reshape(-1,1)\n",
    "testing_data_y = y_test.reshape(-1,1)"
   ]
  },
  {
   "cell_type": "code",
   "execution_count": 19,
   "id": "76951160",
   "metadata": {
    "execution": {
     "iopub.execute_input": "2022-03-12T20:09:27.146366Z",
     "iopub.status.busy": "2022-03-12T20:09:27.144607Z",
     "iopub.status.idle": "2022-03-12T20:09:27.156773Z",
     "shell.execute_reply": "2022-03-12T20:09:27.156336Z"
    },
    "papermill": {
     "duration": 0.052035,
     "end_time": "2022-03-12T20:09:27.156888",
     "exception": false,
     "start_time": "2022-03-12T20:09:27.104853",
     "status": "completed"
    },
    "tags": []
   },
   "outputs": [
    {
     "name": "stdout",
     "output_type": "stream",
     "text": [
      "xavier\n",
      "xavier\n",
      "xavier\n",
      "xavier\n",
      "xavier\n"
     ]
    }
   ],
   "source": [
    "layers = [Affine(\"first\", 784, 100), Relu(\"first\"), Affine(\"second\", 100, 100), Relu(\"second\"), Affine(\"third\", 100, 2), Affine(\"last\", 2, 1), Sigmoid(\"last\")]\n",
    "model_nn = Model(layers)\n",
    "model_lr = Model([Affine(\"logits\", 784, 1), Sigmoid(\"sigmoid\")])"
   ]
  },
  {
   "cell_type": "code",
   "execution_count": 20,
   "id": "6eede77a",
   "metadata": {
    "execution": {
     "iopub.execute_input": "2022-03-12T20:09:27.219345Z",
     "iopub.status.busy": "2022-03-12T20:09:27.214073Z",
     "iopub.status.idle": "2022-03-12T20:09:27.226545Z",
     "shell.execute_reply": "2022-03-12T20:09:27.226934Z"
    },
    "papermill": {
     "duration": 0.043157,
     "end_time": "2022-03-12T20:09:27.227067",
     "exception": false,
     "start_time": "2022-03-12T20:09:27.183910",
     "status": "completed"
    },
    "tags": []
   },
   "outputs": [],
   "source": [
    "nn_learner = Learner(loss, model_nn, opt, config.num_epochs)\n",
    "acc_nn = ClfCallback(nn_learner, config.bs, training_data_x , testing_data_x, training_data_y, testing_data_y)\n",
    "nn_learner.set_callbacks([acc_nn])"
   ]
  },
  {
   "cell_type": "code",
   "execution_count": 21,
   "id": "877b6cc7",
   "metadata": {
    "execution": {
     "iopub.execute_input": "2022-03-12T20:09:27.287376Z",
     "iopub.status.busy": "2022-03-12T20:09:27.284750Z",
     "iopub.status.idle": "2022-03-12T20:09:27.297725Z",
     "shell.execute_reply": "2022-03-12T20:09:27.297248Z"
    },
    "papermill": {
     "duration": 0.043745,
     "end_time": "2022-03-12T20:09:27.297854",
     "exception": false,
     "start_time": "2022-03-12T20:09:27.254109",
     "status": "completed"
    },
    "tags": []
   },
   "outputs": [],
   "source": [
    "lr_learner = Learner(loss, model_lr, opt, config.num_epochs)\n",
    "acc_lr = ClfCallback(lr_learner, config.bs, training_data_x , testing_data_x, training_data_y, testing_data_y)\n",
    "lr_learner.set_callbacks([acc_lr])"
   ]
  },
  {
   "cell_type": "code",
   "execution_count": 22,
   "id": "d9b133c3",
   "metadata": {
    "execution": {
     "iopub.execute_input": "2022-03-12T20:09:27.356580Z",
     "iopub.status.busy": "2022-03-12T20:09:27.356058Z",
     "iopub.status.idle": "2022-03-12T20:10:44.213853Z",
     "shell.execute_reply": "2022-03-12T20:10:44.214600Z"
    },
    "papermill": {
     "duration": 76.889495,
     "end_time": "2022-03-12T20:10:44.214753",
     "exception": false,
     "start_time": "2022-03-12T20:09:27.325258",
     "status": "completed"
    },
    "tags": []
   },
   "outputs": [
    {
     "name": "stdout",
     "output_type": "stream",
     "text": [
      "Epoch 0, Loss 0.2666\n",
      "Training Accuracy: 0.5110, Testing Accuracy: 0.5076\n",
      "\n"
     ]
    },
    {
     "name": "stdout",
     "output_type": "stream",
     "text": [
      "Epoch 10, Loss 0.0981\n",
      "Training Accuracy: 0.9065, Testing Accuracy: 0.9143\n",
      "\n"
     ]
    },
    {
     "name": "stdout",
     "output_type": "stream",
     "text": [
      "Epoch 20, Loss 0.059\n",
      "Training Accuracy: 0.9381, Testing Accuracy: 0.9441\n",
      "\n"
     ]
    },
    {
     "name": "stdout",
     "output_type": "stream",
     "text": [
      "Epoch 30, Loss 0.0452\n",
      "Training Accuracy: 0.9508, Testing Accuracy: 0.9551\n",
      "\n"
     ]
    },
    {
     "name": "stdout",
     "output_type": "stream",
     "text": [
      "Epoch 40, Loss 0.0384\n",
      "Training Accuracy: 0.9578, Testing Accuracy: 0.9592\n",
      "\n"
     ]
    },
    {
     "name": "stdout",
     "output_type": "stream",
     "text": [
      "Epoch 50, Loss 0.0345\n",
      "Training Accuracy: 0.9624, Testing Accuracy: 0.9637\n",
      "\n"
     ]
    },
    {
     "name": "stdout",
     "output_type": "stream",
     "text": [
      "Epoch 60, Loss 0.0318\n",
      "Training Accuracy: 0.9644, Testing Accuracy: 0.9647\n",
      "\n"
     ]
    },
    {
     "name": "stdout",
     "output_type": "stream",
     "text": [
      "Epoch 70, Loss 0.0299\n",
      "Training Accuracy: 0.9654, Testing Accuracy: 0.9637\n",
      "\n"
     ]
    },
    {
     "name": "stdout",
     "output_type": "stream",
     "text": [
      "Epoch 80, Loss 0.0284\n",
      "Training Accuracy: 0.9673, Testing Accuracy: 0.9662\n",
      "\n"
     ]
    },
    {
     "name": "stdout",
     "output_type": "stream",
     "text": [
      "Epoch 90, Loss 0.0272\n",
      "Training Accuracy: 0.9686, Testing Accuracy: 0.9682\n",
      "\n"
     ]
    },
    {
     "name": "stdout",
     "output_type": "stream",
     "text": [
      "Epoch 100, Loss 0.0261\n",
      "Training Accuracy: 0.9698, Testing Accuracy: 0.9682\n",
      "\n"
     ]
    },
    {
     "name": "stdout",
     "output_type": "stream",
     "text": [
      "Epoch 110, Loss 0.0253\n",
      "Training Accuracy: 0.9710, Testing Accuracy: 0.9682\n",
      "\n"
     ]
    },
    {
     "name": "stdout",
     "output_type": "stream",
     "text": [
      "Epoch 120, Loss 0.0245\n",
      "Training Accuracy: 0.9718, Testing Accuracy: 0.9688\n",
      "\n"
     ]
    },
    {
     "name": "stdout",
     "output_type": "stream",
     "text": [
      "Epoch 130, Loss 0.0238\n",
      "Training Accuracy: 0.9727, Testing Accuracy: 0.9688\n",
      "\n"
     ]
    },
    {
     "name": "stdout",
     "output_type": "stream",
     "text": [
      "Epoch 140, Loss 0.0232\n",
      "Training Accuracy: 0.9735, Testing Accuracy: 0.9693\n",
      "\n"
     ]
    },
    {
     "name": "stdout",
     "output_type": "stream",
     "text": [
      "Epoch 150, Loss 0.0226\n",
      "Training Accuracy: 0.9744, Testing Accuracy: 0.9703\n",
      "\n"
     ]
    },
    {
     "name": "stdout",
     "output_type": "stream",
     "text": [
      "Epoch 160, Loss 0.0221\n",
      "Training Accuracy: 0.9751, Testing Accuracy: 0.9713\n",
      "\n"
     ]
    },
    {
     "name": "stdout",
     "output_type": "stream",
     "text": [
      "Epoch 170, Loss 0.0216\n",
      "Training Accuracy: 0.9753, Testing Accuracy: 0.9708\n",
      "\n"
     ]
    },
    {
     "name": "stdout",
     "output_type": "stream",
     "text": [
      "Epoch 180, Loss 0.0211\n",
      "Training Accuracy: 0.9759, Testing Accuracy: 0.9718\n",
      "\n"
     ]
    },
    {
     "name": "stdout",
     "output_type": "stream",
     "text": [
      "Epoch 190, Loss 0.0207\n",
      "Training Accuracy: 0.9764, Testing Accuracy: 0.9718\n",
      "\n"
     ]
    },
    {
     "name": "stdout",
     "output_type": "stream",
     "text": [
      "Epoch 200, Loss 0.0203\n",
      "Training Accuracy: 0.9769, Testing Accuracy: 0.9723\n",
      "\n"
     ]
    },
    {
     "name": "stdout",
     "output_type": "stream",
     "text": [
      "Epoch 210, Loss 0.0199\n",
      "Training Accuracy: 0.9774, Testing Accuracy: 0.9733\n",
      "\n"
     ]
    },
    {
     "name": "stdout",
     "output_type": "stream",
     "text": [
      "Epoch 220, Loss 0.0195\n",
      "Training Accuracy: 0.9780, Testing Accuracy: 0.9728\n",
      "\n"
     ]
    },
    {
     "name": "stdout",
     "output_type": "stream",
     "text": [
      "Epoch 230, Loss 0.0191\n",
      "Training Accuracy: 0.9785, Testing Accuracy: 0.9733\n",
      "\n"
     ]
    },
    {
     "name": "stdout",
     "output_type": "stream",
     "text": [
      "Epoch 240, Loss 0.0187\n",
      "Training Accuracy: 0.9791, Testing Accuracy: 0.9738\n",
      "\n"
     ]
    },
    {
     "data": {
      "text/plain": [
       "0.0027856355248228773"
      ]
     },
     "execution_count": 22,
     "metadata": {},
     "output_type": "execute_result"
    }
   ],
   "source": [
    "nn_learner.train_loop(dl)"
   ]
  },
  {
   "cell_type": "code",
   "execution_count": 23,
   "id": "e0163366",
   "metadata": {
    "execution": {
     "iopub.execute_input": "2022-03-12T20:10:44.294796Z",
     "iopub.status.busy": "2022-03-12T20:10:44.294277Z",
     "iopub.status.idle": "2022-03-12T20:10:58.013023Z",
     "shell.execute_reply": "2022-03-12T20:10:58.013738Z"
    },
    "papermill": {
     "duration": 13.76446,
     "end_time": "2022-03-12T20:10:58.013896",
     "exception": false,
     "start_time": "2022-03-12T20:10:44.249436",
     "status": "completed"
    },
    "tags": []
   },
   "outputs": [
    {
     "name": "stdout",
     "output_type": "stream",
     "text": [
      "Epoch 0, Loss 0.2426\n",
      "Training Accuracy: 0.6929, Testing Accuracy: 0.7046\n",
      "\n"
     ]
    },
    {
     "name": "stdout",
     "output_type": "stream",
     "text": [
      "Epoch 10, Loss 0.1016\n",
      "Training Accuracy: 0.9110, Testing Accuracy: 0.9183\n",
      "\n"
     ]
    },
    {
     "name": "stdout",
     "output_type": "stream",
     "text": [
      "Epoch 20, Loss 0.0782\n",
      "Training Accuracy: 0.9286, Testing Accuracy: 0.9360\n",
      "\n"
     ]
    },
    {
     "name": "stdout",
     "output_type": "stream",
     "text": [
      "Epoch 30, Loss 0.0675\n",
      "Training Accuracy: 0.9367, Testing Accuracy: 0.9486\n",
      "\n"
     ]
    },
    {
     "name": "stdout",
     "output_type": "stream",
     "text": [
      "Epoch 40, Loss 0.0611\n",
      "Training Accuracy: 0.9412, Testing Accuracy: 0.9546\n",
      "\n"
     ]
    },
    {
     "name": "stdout",
     "output_type": "stream",
     "text": [
      "Epoch 50, Loss 0.0567\n",
      "Training Accuracy: 0.9441, Testing Accuracy: 0.9556\n",
      "\n"
     ]
    },
    {
     "name": "stdout",
     "output_type": "stream",
     "text": [
      "Epoch 60, Loss 0.0535\n",
      "Training Accuracy: 0.9474, Testing Accuracy: 0.9587\n",
      "\n"
     ]
    },
    {
     "name": "stdout",
     "output_type": "stream",
     "text": [
      "Epoch 70, Loss 0.051\n",
      "Training Accuracy: 0.9504, Testing Accuracy: 0.9587\n",
      "\n"
     ]
    },
    {
     "name": "stdout",
     "output_type": "stream",
     "text": [
      "Epoch 80, Loss 0.049\n",
      "Training Accuracy: 0.9517, Testing Accuracy: 0.9587\n",
      "\n"
     ]
    },
    {
     "name": "stdout",
     "output_type": "stream",
     "text": [
      "Epoch 90, Loss 0.0473\n",
      "Training Accuracy: 0.9529, Testing Accuracy: 0.9592\n",
      "\n"
     ]
    },
    {
     "name": "stdout",
     "output_type": "stream",
     "text": [
      "Epoch 100, Loss 0.0459\n",
      "Training Accuracy: 0.9535, Testing Accuracy: 0.9607\n",
      "\n"
     ]
    },
    {
     "name": "stdout",
     "output_type": "stream",
     "text": [
      "Epoch 110, Loss 0.0447\n",
      "Training Accuracy: 0.9545, Testing Accuracy: 0.9607\n",
      "\n"
     ]
    },
    {
     "name": "stdout",
     "output_type": "stream",
     "text": [
      "Epoch 120, Loss 0.0437\n",
      "Training Accuracy: 0.9556, Testing Accuracy: 0.9632\n",
      "\n"
     ]
    },
    {
     "name": "stdout",
     "output_type": "stream",
     "text": [
      "Epoch 130, Loss 0.0428\n",
      "Training Accuracy: 0.9568, Testing Accuracy: 0.9637\n",
      "\n"
     ]
    },
    {
     "name": "stdout",
     "output_type": "stream",
     "text": [
      "Epoch 140, Loss 0.0419\n",
      "Training Accuracy: 0.9571, Testing Accuracy: 0.9652\n",
      "\n"
     ]
    },
    {
     "name": "stdout",
     "output_type": "stream",
     "text": [
      "Epoch 150, Loss 0.0412\n",
      "Training Accuracy: 0.9572, Testing Accuracy: 0.9657\n",
      "\n"
     ]
    },
    {
     "name": "stdout",
     "output_type": "stream",
     "text": [
      "Epoch 160, Loss 0.0405\n",
      "Training Accuracy: 0.9579, Testing Accuracy: 0.9657\n",
      "\n"
     ]
    },
    {
     "name": "stdout",
     "output_type": "stream",
     "text": [
      "Epoch 170, Loss 0.0399\n",
      "Training Accuracy: 0.9585, Testing Accuracy: 0.9667\n",
      "\n"
     ]
    },
    {
     "name": "stdout",
     "output_type": "stream",
     "text": [
      "Epoch 180, Loss 0.0394\n",
      "Training Accuracy: 0.9591, Testing Accuracy: 0.9662\n",
      "\n"
     ]
    },
    {
     "name": "stdout",
     "output_type": "stream",
     "text": [
      "Epoch 190, Loss 0.0389\n",
      "Training Accuracy: 0.9593, Testing Accuracy: 0.9662\n",
      "\n"
     ]
    },
    {
     "name": "stdout",
     "output_type": "stream",
     "text": [
      "Epoch 200, Loss 0.0384\n",
      "Training Accuracy: 0.9599, Testing Accuracy: 0.9662\n",
      "\n"
     ]
    },
    {
     "name": "stdout",
     "output_type": "stream",
     "text": [
      "Epoch 210, Loss 0.0379\n",
      "Training Accuracy: 0.9606, Testing Accuracy: 0.9662\n",
      "\n"
     ]
    },
    {
     "name": "stdout",
     "output_type": "stream",
     "text": [
      "Epoch 220, Loss 0.0375\n",
      "Training Accuracy: 0.9610, Testing Accuracy: 0.9662\n",
      "\n"
     ]
    },
    {
     "name": "stdout",
     "output_type": "stream",
     "text": [
      "Epoch 230, Loss 0.0372\n",
      "Training Accuracy: 0.9613, Testing Accuracy: 0.9662\n",
      "\n"
     ]
    },
    {
     "name": "stdout",
     "output_type": "stream",
     "text": [
      "Epoch 240, Loss 0.0368\n",
      "Training Accuracy: 0.9616, Testing Accuracy: 0.9657\n",
      "\n"
     ]
    },
    {
     "data": {
      "text/plain": [
       "0.048542608284611"
      ]
     },
     "execution_count": 23,
     "metadata": {},
     "output_type": "execute_result"
    }
   ],
   "source": [
    "lr_learner.train_loop(dl)"
   ]
  },
  {
   "cell_type": "code",
   "execution_count": 24,
   "id": "ca410940",
   "metadata": {
    "execution": {
     "iopub.execute_input": "2022-03-12T20:10:58.106952Z",
     "iopub.status.busy": "2022-03-12T20:10:58.106398Z",
     "iopub.status.idle": "2022-03-12T20:10:58.332376Z",
     "shell.execute_reply": "2022-03-12T20:10:58.331860Z"
    },
    "papermill": {
     "duration": 0.276115,
     "end_time": "2022-03-12T20:10:58.332519",
     "exception": false,
     "start_time": "2022-03-12T20:10:58.056404",
     "status": "completed"
    },
    "tags": []
   },
   "outputs": [
    {
     "data": {
      "text/plain": [
       "<matplotlib.legend.Legend at 0x7ff1c1167da0>"
      ]
     },
     "execution_count": 24,
     "metadata": {},
     "output_type": "execute_result"
    },
    {
     "data": {
      "image/png": "[encoded data removed]",
      "text/plain": [
       "<Figure size 1080x720 with 1 Axes>"
      ]
     },
     "metadata": {
      "needs_background": "light"
     },
     "output_type": "display_data"
    }
   ],
   "source": [
    "#comparing the results of NN and LR\n",
    "plt.figure(figsize=(15,10))\n",
    "\n",
    "# Neural Network plots\n",
    "plt.plot(acc_nn.accuracies, 'r-', label = \"Training Accuracies - NN\")\n",
    "plt.plot(acc_nn.test_accuracies, 'g-', label = \"Testing Accuracies - NN\")\n",
    "\n",
    "# Logistic Regression plots\n",
    "plt.plot(acc_lr.accuracies, 'k-', label = \"Training Accuracies - LR\")\n",
    "plt.plot(acc_lr.test_accuracies, 'b-', label = \"Testing Accuracies - LR\")\n",
    "plt.legend()"
   ]
  },
  {
   "cell_type": "markdown",
   "id": "80dfb35c",
   "metadata": {
    "papermill": {
     "duration": 0.042061,
     "end_time": "2022-03-12T20:10:58.417299",
     "exception": false,
     "start_time": "2022-03-12T20:10:58.375238",
     "status": "completed"
    },
    "tags": []
   },
   "source": [
    "#### Plotting the outputs of this layer of the NN.\n"
   ]
  },
  {
   "cell_type": "code",
   "execution_count": 25,
   "id": "45eb2ff5",
   "metadata": {
    "execution": {
     "iopub.execute_input": "2022-03-12T20:10:58.504883Z",
     "iopub.status.busy": "2022-03-12T20:10:58.503903Z",
     "iopub.status.idle": "2022-03-12T20:10:58.525332Z",
     "shell.execute_reply": "2022-03-12T20:10:58.525804Z"
    },
    "papermill": {
     "duration": 0.067079,
     "end_time": "2022-03-12T20:10:58.525955",
     "exception": false,
     "start_time": "2022-03-12T20:10:58.458876",
     "status": "completed"
    },
    "tags": []
   },
   "outputs": [],
   "source": [
    "new_model = Model(layers[:-2])\n",
    "testing_plot = new_model(testing_data_x)"
   ]
  },
  {
   "cell_type": "code",
   "execution_count": 26,
   "id": "4c0a5485",
   "metadata": {
    "execution": {
     "iopub.execute_input": "2022-03-12T20:10:58.622748Z",
     "iopub.status.busy": "2022-03-12T20:10:58.622239Z",
     "iopub.status.idle": "2022-03-12T20:10:58.799741Z",
     "shell.execute_reply": "2022-03-12T20:10:58.800191Z"
    },
    "papermill": {
     "duration": 0.231742,
     "end_time": "2022-03-12T20:10:58.800357",
     "exception": false,
     "start_time": "2022-03-12T20:10:58.568615",
     "status": "completed"
    },
    "tags": []
   },
   "outputs": [
    {
     "data": {
      "text/plain": [
       "Text(0.5, 1.0, 'Outputs')"
      ]
     },
     "execution_count": 26,
     "metadata": {},
     "output_type": "execute_result"
    },
    {
     "data": {
      "image/png": "[encoded data removed]",
      "text/plain": [
       "<Figure size 576x504 with 1 Axes>"
      ]
     },
     "metadata": {
      "needs_background": "light"
     },
     "output_type": "display_data"
    }
   ],
   "source": [
    "# Plotting the scatter plot of points and color coding by class\n",
    "plt.figure(figsize=(8,7))\n",
    "plt.scatter(testing_plot[:,0], testing_plot[:,1], alpha = 0.1, c = y_test.ravel());\n",
    "plt.title('Outputs')"
   ]
  },
  {
   "cell_type": "markdown",
   "id": "a74fcf8f",
   "metadata": {
    "papermill": {
     "duration": 0.043802,
     "end_time": "2022-03-12T20:10:58.888640",
     "exception": false,
     "start_time": "2022-03-12T20:10:58.844838",
     "status": "completed"
    },
    "tags": []
   },
   "source": [
    "Probability contours"
   ]
  },
  {
   "cell_type": "code",
   "execution_count": 27,
   "id": "d0afc8e3",
   "metadata": {
    "execution": {
     "iopub.execute_input": "2022-03-12T20:10:58.990256Z",
     "iopub.status.busy": "2022-03-12T20:10:58.986386Z",
     "iopub.status.idle": "2022-03-12T20:10:58.995334Z",
     "shell.execute_reply": "2022-03-12T20:10:58.995745Z"
    },
    "papermill": {
     "duration": 0.06357,
     "end_time": "2022-03-12T20:10:58.995879",
     "exception": false,
     "start_time": "2022-03-12T20:10:58.932309",
     "status": "completed"
    },
    "tags": []
   },
   "outputs": [],
   "source": [
    "model_prob = Model(layers[-2:]) "
   ]
  },
  {
   "cell_type": "code",
   "execution_count": 28,
   "id": "9b96e238",
   "metadata": {
    "execution": {
     "iopub.execute_input": "2022-03-12T20:10:59.088788Z",
     "iopub.status.busy": "2022-03-12T20:10:59.087893Z",
     "iopub.status.idle": "2022-03-12T20:10:59.104610Z",
     "shell.execute_reply": "2022-03-12T20:10:59.104116Z"
    },
    "papermill": {
     "duration": 0.065103,
     "end_time": "2022-03-12T20:10:59.104734",
     "exception": false,
     "start_time": "2022-03-12T20:10:59.039631",
     "status": "completed"
    },
    "tags": []
   },
   "outputs": [],
   "source": [
    "#creating the x and y ranges according to the above generated plot.\n",
    "x_range = np.linspace(-4, 1, 100) \n",
    "y_range = np.linspace(-6, 6, 100) \n",
    "x_grid, y_grid = np.meshgrid(x_range, y_range) # x_grid and y_grig are of size 100 X 100\n",
    "\n",
    "# converting x_grid and y_grid to continuous arrays\n",
    "x_gridflat = np.ravel(x_grid)\n",
    "y_gridflat = np.ravel(y_grid)\n",
    "\n",
    "# The last layer of the current model takes two columns as input. Hence transpose of np.vstack() is required.\n",
    "X = np.vstack((x_gridflat, y_gridflat)).T\n",
    "\n",
    "prob_contour = model_prob(X).reshape(100,100) "
   ]
  },
  {
   "cell_type": "code",
   "execution_count": 29,
   "id": "da72499a",
   "metadata": {
    "execution": {
     "iopub.execute_input": "2022-03-12T20:10:59.231980Z",
     "iopub.status.busy": "2022-03-12T20:10:59.231457Z",
     "iopub.status.idle": "2022-03-12T20:10:59.466768Z",
     "shell.execute_reply": "2022-03-12T20:10:59.467194Z"
    },
    "papermill": {
     "duration": 0.318433,
     "end_time": "2022-03-12T20:10:59.467338",
     "exception": false,
     "start_time": "2022-03-12T20:10:59.148905",
     "status": "completed"
    },
    "tags": []
   },
   "outputs": [
    {
     "data": {
      "image/png": "[encoded data removed]",
      "text/plain": [
       "<Figure size 720x648 with 1 Axes>"
      ]
     },
     "metadata": {
      "needs_background": "light"
     },
     "output_type": "display_data"
    }
   ],
   "source": [
    "plt.figure(figsize=(10,9))\n",
    "plt.scatter(testing_plot[:,0], testing_plot[:,1], alpha = 0.1, c = y_test.ravel())\n",
    "contours = plt.contour(x_grid,y_grid,prob_contour)\n",
    "plt.title('Probability Contours')\n",
    "plt.clabel(contours, inline = True );"
   ]
  },
  {
   "cell_type": "code",
   "execution_count": null,
   "id": "e81b4ac7",
   "metadata": {
    "papermill": {
     "duration": 0.046102,
     "end_time": "2022-03-12T20:10:59.559952",
     "exception": false,
     "start_time": "2022-03-12T20:10:59.513850",
     "status": "completed"
    },
    "tags": []
   },
   "outputs": [],
   "source": []
  }
 ],
 "metadata": {
  "kernelspec": {
   "display_name": "Python 3",
   "language": "python",
   "name": "python3"
  },
  "language_info": {
   "codemirror_mode": {
    "name": "ipython",
    "version": 3
   },
   "file_extension": ".py",
   "mimetype": "text/x-python",
   "name": "python",
   "nbconvert_exporter": "python",
   "pygments_lexer": "ipython3",
   "version": "3.6.15"
  },
  "papermill": {
   "default_parameters": {},
   "duration": 98.607946,
   "end_time": "2022-03-12T20:11:00.024946",
   "environment_variables": {},
   "exception": null,
   "input_path": "2020-08-11-part2.ipynb",
   "output_path": "2020-08-11-part2.ipynb",
   "parameters": {},
   "start_time": "2022-03-12T20:09:21.417000",
   "version": "2.3.3"
  }
 },
 "nbformat": 4,
 "nbformat_minor": 5
}