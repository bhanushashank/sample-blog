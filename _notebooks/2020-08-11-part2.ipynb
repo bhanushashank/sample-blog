{
 "cells": [
  {
   "cell_type": "markdown",
   "id": "98380cd3",
   "metadata": {
    "papermill": {
     "duration": 0.03303,
     "end_time": "2021-09-26T10:08:18.500501",
     "exception": false,
     "start_time": "2021-09-26T10:08:18.467471",
     "status": "completed"
    },
    "tags": []
   },
   "source": [
    "# Distinguish Your Own Digits (DYOD)"
   ]
  },
  {
   "cell_type": "markdown",
   "id": "ef31240d",
   "metadata": {
    "papermill": {
     "duration": 0.030322,
     "end_time": "2021-09-26T10:08:18.562208",
     "exception": false,
     "start_time": "2021-09-26T10:08:18.531886",
     "status": "completed"
    },
    "tags": []
   },
   "source": [
    "You are going to write a classifier that distinguishes between the number 3 and number 8."
   ]
  },
  {
   "cell_type": "code",
   "execution_count": 1,
   "id": "b15c8646",
   "metadata": {
    "execution": {
     "iopub.execute_input": "2021-09-26T10:08:18.633517Z",
     "iopub.status.busy": "2021-09-26T10:08:18.632866Z",
     "iopub.status.idle": "2021-09-26T10:08:18.644358Z",
     "shell.execute_reply": "2021-09-26T10:08:18.643749Z"
    },
    "papermill": {
     "duration": 0.053001,
     "end_time": "2021-09-26T10:08:18.644498",
     "exception": false,
     "start_time": "2021-09-26T10:08:18.591497",
     "status": "completed"
    },
    "tags": []
   },
   "outputs": [],
   "source": [
    "%load_ext autoreload\n",
    "%autoreload 2"
   ]
  },
  {
   "cell_type": "code",
   "execution_count": 2,
   "id": "22ef38dc",
   "metadata": {
    "execution": {
     "iopub.execute_input": "2021-09-26T10:08:18.708771Z",
     "iopub.status.busy": "2021-09-26T10:08:18.708077Z",
     "iopub.status.idle": "2021-09-26T10:08:19.284050Z",
     "shell.execute_reply": "2021-09-26T10:08:19.284806Z"
    },
    "papermill": {
     "duration": 0.612239,
     "end_time": "2021-09-26T10:08:19.284967",
     "exception": false,
     "start_time": "2021-09-26T10:08:18.672728",
     "status": "completed"
    },
    "tags": []
   },
   "outputs": [],
   "source": [
    "%matplotlib inline\n",
    "import numpy as np\n",
    "import matplotlib.pyplot as plt\n",
    "import pandas as pd"
   ]
  },
  {
   "cell_type": "markdown",
   "id": "ba036198",
   "metadata": {
    "papermill": {
     "duration": 0.026926,
     "end_time": "2021-09-26T10:08:19.339546",
     "exception": false,
     "start_time": "2021-09-26T10:08:19.312620",
     "status": "completed"
    },
    "tags": []
   },
   "source": [
    "From the command line run `pip install mnist`. This is a library that will help you bring down the mnist dataset. If you run this from a notebook, you need to put  `!pip install mnist` in a cell by itself."
   ]
  },
  {
   "cell_type": "code",
   "execution_count": 3,
   "id": "bb6ad8a1",
   "metadata": {
    "execution": {
     "iopub.execute_input": "2021-09-26T10:08:19.417417Z",
     "iopub.status.busy": "2021-09-26T10:08:19.416817Z",
     "iopub.status.idle": "2021-09-26T10:08:21.330438Z",
     "shell.execute_reply": "2021-09-26T10:08:21.329325Z"
    },
    "papermill": {
     "duration": 1.962112,
     "end_time": "2021-09-26T10:08:21.330576",
     "exception": false,
     "start_time": "2021-09-26T10:08:19.368464",
     "status": "completed"
    },
    "tags": []
   },
   "outputs": [
    {
     "name": "stdout",
     "output_type": "stream",
     "text": [
      "Collecting mnist\r\n"
     ]
    },
    {
     "name": "stdout",
     "output_type": "stream",
     "text": [
      "  Downloading mnist-0.2.2-py2.py3-none-any.whl (3.5 kB)\r\n"
     ]
    },
    {
     "name": "stdout",
     "output_type": "stream",
     "text": [
      "Requirement already satisfied: numpy in /opt/hostedtoolcache/Python/3.6.15/x64/lib/python3.6/site-packages (from mnist) (1.19.5)\r\n"
     ]
    },
    {
     "name": "stdout",
     "output_type": "stream",
     "text": [
      "Installing collected packages: mnist\r\n"
     ]
    },
    {
     "name": "stdout",
     "output_type": "stream",
     "text": [
      "Successfully installed mnist-0.2.2\r\n"
     ]
    }
   ],
   "source": [
    "!pip install mnist"
   ]
  },
  {
   "cell_type": "markdown",
   "id": "69df9c9a",
   "metadata": {
    "papermill": {
     "duration": 0.030517,
     "end_time": "2021-09-26T10:08:21.392238",
     "exception": false,
     "start_time": "2021-09-26T10:08:21.361721",
     "status": "completed"
    },
    "tags": []
   },
   "source": [
    "## Preparing the Data"
   ]
  },
  {
   "cell_type": "code",
   "execution_count": 4,
   "id": "7f69d806",
   "metadata": {
    "execution": {
     "iopub.execute_input": "2021-09-26T10:08:21.457176Z",
     "iopub.status.busy": "2021-09-26T10:08:21.456541Z",
     "iopub.status.idle": "2021-09-26T10:08:21.470724Z",
     "shell.execute_reply": "2021-09-26T10:08:21.470142Z"
    },
    "papermill": {
     "duration": 0.050164,
     "end_time": "2021-09-26T10:08:21.470868",
     "exception": false,
     "start_time": "2021-09-26T10:08:21.420704",
     "status": "completed"
    },
    "tags": []
   },
   "outputs": [],
   "source": [
    "import mnist"
   ]
  },
  {
   "cell_type": "code",
   "execution_count": 5,
   "id": "a411e44f",
   "metadata": {
    "execution": {
     "iopub.execute_input": "2021-09-26T10:08:21.533335Z",
     "iopub.status.busy": "2021-09-26T10:08:21.532663Z",
     "iopub.status.idle": "2021-09-26T10:08:22.181724Z",
     "shell.execute_reply": "2021-09-26T10:08:22.182219Z"
    },
    "papermill": {
     "duration": 0.681515,
     "end_time": "2021-09-26T10:08:22.182391",
     "exception": false,
     "start_time": "2021-09-26T10:08:21.500876",
     "status": "completed"
    },
    "tags": []
   },
   "outputs": [],
   "source": [
    "train_images = mnist.train_images()\n",
    "train_labels = mnist.train_labels()"
   ]
  },
  {
   "cell_type": "code",
   "execution_count": 6,
   "id": "dceab3a5",
   "metadata": {
    "execution": {
     "iopub.execute_input": "2021-09-26T10:08:22.247968Z",
     "iopub.status.busy": "2021-09-26T10:08:22.247311Z",
     "iopub.status.idle": "2021-09-26T10:08:22.261895Z",
     "shell.execute_reply": "2021-09-26T10:08:22.262444Z"
    },
    "papermill": {
     "duration": 0.048902,
     "end_time": "2021-09-26T10:08:22.262583",
     "exception": false,
     "start_time": "2021-09-26T10:08:22.213681",
     "status": "completed"
    },
    "tags": []
   },
   "outputs": [
    {
     "data": {
      "text/plain": [
       "((60000, 28, 28), (60000,))"
      ]
     },
     "execution_count": 6,
     "metadata": {},
     "output_type": "execute_result"
    }
   ],
   "source": [
    "train_images.shape, train_labels.shape"
   ]
  },
  {
   "cell_type": "code",
   "execution_count": 7,
   "id": "f50dc2bb",
   "metadata": {
    "execution": {
     "iopub.execute_input": "2021-09-26T10:08:22.325548Z",
     "iopub.status.busy": "2021-09-26T10:08:22.324973Z",
     "iopub.status.idle": "2021-09-26T10:08:22.643905Z",
     "shell.execute_reply": "2021-09-26T10:08:22.642808Z"
    },
    "papermill": {
     "duration": 0.352277,
     "end_time": "2021-09-26T10:08:22.644064",
     "exception": false,
     "start_time": "2021-09-26T10:08:22.291787",
     "status": "completed"
    },
    "tags": []
   },
   "outputs": [],
   "source": [
    "test_images = mnist.test_images()\n",
    "test_labels = mnist.test_labels()"
   ]
  },
  {
   "cell_type": "code",
   "execution_count": 8,
   "id": "fc38cf1b",
   "metadata": {
    "execution": {
     "iopub.execute_input": "2021-09-26T10:08:22.709299Z",
     "iopub.status.busy": "2021-09-26T10:08:22.707457Z",
     "iopub.status.idle": "2021-09-26T10:08:22.720740Z",
     "shell.execute_reply": "2021-09-26T10:08:22.720010Z"
    },
    "papermill": {
     "duration": 0.047059,
     "end_time": "2021-09-26T10:08:22.720888",
     "exception": false,
     "start_time": "2021-09-26T10:08:22.673829",
     "status": "completed"
    },
    "tags": []
   },
   "outputs": [
    {
     "data": {
      "text/plain": [
       "((10000, 28, 28), (10000,))"
      ]
     },
     "execution_count": 8,
     "metadata": {},
     "output_type": "execute_result"
    }
   ],
   "source": [
    "test_images.shape, test_labels.shape"
   ]
  },
  {
   "cell_type": "code",
   "execution_count": 9,
   "id": "f9ed8fe0",
   "metadata": {
    "execution": {
     "iopub.execute_input": "2021-09-26T10:08:22.785305Z",
     "iopub.status.busy": "2021-09-26T10:08:22.784671Z",
     "iopub.status.idle": "2021-09-26T10:08:22.947307Z",
     "shell.execute_reply": "2021-09-26T10:08:22.946799Z"
    },
    "papermill": {
     "duration": 0.197583,
     "end_time": "2021-09-26T10:08:22.947437",
     "exception": false,
     "start_time": "2021-09-26T10:08:22.749854",
     "status": "completed"
    },
    "tags": []
   },
   "outputs": [
    {
     "name": "stdout",
     "output_type": "stream",
     "text": [
      "2\n"
     ]
    },
    {
     "data": {
      "text/plain": [
       "<matplotlib.image.AxesImage at 0x7f1fa21848d0>"
      ]
     },
     "execution_count": 9,
     "metadata": {},
     "output_type": "execute_result"
    },
    {
     "data": {
      "image/png": "[encoded data removed]",
      "text/plain": [
       "<Figure size 432x288 with 1 Axes>"
      ]
     },
     "metadata": {
      "needs_background": "light"
     },
     "output_type": "display_data"
    }
   ],
   "source": [
    "image_index = 7776 # You may select anything up to 60,000\n",
    "print(train_labels[image_index]) \n",
    "plt.imshow(train_images[image_index], cmap='Greys')"
   ]
  },
  {
   "cell_type": "markdown",
   "id": "a8d2388d",
   "metadata": {
    "papermill": {
     "duration": 0.030046,
     "end_time": "2021-09-26T10:08:23.007476",
     "exception": false,
     "start_time": "2021-09-26T10:08:22.977430",
     "status": "completed"
    },
    "tags": []
   },
   "source": [
    "## Filter data to get 3 and 8 out"
   ]
  },
  {
   "cell_type": "code",
   "execution_count": 10,
   "id": "776f7fc7",
   "metadata": {
    "execution": {
     "iopub.execute_input": "2021-09-26T10:08:23.074456Z",
     "iopub.status.busy": "2021-09-26T10:08:23.073805Z",
     "iopub.status.idle": "2021-09-26T10:08:23.092508Z",
     "shell.execute_reply": "2021-09-26T10:08:23.091810Z"
    },
    "papermill": {
     "duration": 0.055677,
     "end_time": "2021-09-26T10:08:23.092644",
     "exception": false,
     "start_time": "2021-09-26T10:08:23.036967",
     "status": "completed"
    },
    "tags": []
   },
   "outputs": [],
   "source": [
    "train_filter = np.where((train_labels == 3 ) | (train_labels == 8))\n",
    "test_filter = np.where((test_labels == 3) | (test_labels == 8))\n",
    "X_train, y_train = train_images[train_filter], train_labels[train_filter]\n",
    "X_test, y_test = test_images[test_filter], test_labels[test_filter]"
   ]
  },
  {
   "cell_type": "markdown",
   "id": "948f0b7e",
   "metadata": {
    "papermill": {
     "duration": 0.030029,
     "end_time": "2021-09-26T10:08:23.154495",
     "exception": false,
     "start_time": "2021-09-26T10:08:23.124466",
     "status": "completed"
    },
    "tags": []
   },
   "source": [
    "We normalize the pizel values in the 0 to 1 range"
   ]
  },
  {
   "cell_type": "code",
   "execution_count": 11,
   "id": "ee4c2166",
   "metadata": {
    "execution": {
     "iopub.execute_input": "2021-09-26T10:08:23.224556Z",
     "iopub.status.busy": "2021-09-26T10:08:23.223940Z",
     "iopub.status.idle": "2021-09-26T10:08:23.277878Z",
     "shell.execute_reply": "2021-09-26T10:08:23.278347Z"
    },
    "papermill": {
     "duration": 0.092642,
     "end_time": "2021-09-26T10:08:23.278508",
     "exception": false,
     "start_time": "2021-09-26T10:08:23.185866",
     "status": "completed"
    },
    "tags": []
   },
   "outputs": [],
   "source": [
    "X_train = X_train/255.\n",
    "X_test = X_test/255."
   ]
  },
  {
   "cell_type": "markdown",
   "id": "ddcf4fab",
   "metadata": {
    "papermill": {
     "duration": 0.030333,
     "end_time": "2021-09-26T10:08:23.339774",
     "exception": false,
     "start_time": "2021-09-26T10:08:23.309441",
     "status": "completed"
    },
    "tags": []
   },
   "source": [
    "And setup the labels as 1 (when the digit is 3) and 0 (when the digit is 8)"
   ]
  },
  {
   "cell_type": "code",
   "execution_count": 12,
   "id": "7dc908f2",
   "metadata": {
    "execution": {
     "iopub.execute_input": "2021-09-26T10:08:23.405935Z",
     "iopub.status.busy": "2021-09-26T10:08:23.405298Z",
     "iopub.status.idle": "2021-09-26T10:08:23.416495Z",
     "shell.execute_reply": "2021-09-26T10:08:23.415952Z"
    },
    "papermill": {
     "duration": 0.046906,
     "end_time": "2021-09-26T10:08:23.416636",
     "exception": false,
     "start_time": "2021-09-26T10:08:23.369730",
     "status": "completed"
    },
    "tags": []
   },
   "outputs": [],
   "source": [
    "y_train = 1*(y_train==3)\n",
    "y_test = 1*(y_test==3)"
   ]
  },
  {
   "cell_type": "code",
   "execution_count": 13,
   "id": "01e4e969",
   "metadata": {
    "execution": {
     "iopub.execute_input": "2021-09-26T10:08:23.479767Z",
     "iopub.status.busy": "2021-09-26T10:08:23.479144Z",
     "iopub.status.idle": "2021-09-26T10:08:23.492602Z",
     "shell.execute_reply": "2021-09-26T10:08:23.493161Z"
    },
    "papermill": {
     "duration": 0.046673,
     "end_time": "2021-09-26T10:08:23.493298",
     "exception": false,
     "start_time": "2021-09-26T10:08:23.446625",
     "status": "completed"
    },
    "tags": []
   },
   "outputs": [
    {
     "data": {
      "text/plain": [
       "((11982, 28, 28), (1984, 28, 28))"
      ]
     },
     "execution_count": 13,
     "metadata": {},
     "output_type": "execute_result"
    }
   ],
   "source": [
    "X_train.shape, X_test.shape"
   ]
  },
  {
   "cell_type": "markdown",
   "id": "5ccf3f85",
   "metadata": {
    "papermill": {
     "duration": 0.029883,
     "end_time": "2021-09-26T10:08:23.553246",
     "exception": false,
     "start_time": "2021-09-26T10:08:23.523363",
     "status": "completed"
    },
    "tags": []
   },
   "source": [
    "We reshape the data to flatten the image pixels into a set of features or co-variates:"
   ]
  },
  {
   "cell_type": "code",
   "execution_count": 14,
   "id": "5286a4a3",
   "metadata": {
    "execution": {
     "iopub.execute_input": "2021-09-26T10:08:23.621812Z",
     "iopub.status.busy": "2021-09-26T10:08:23.621144Z",
     "iopub.status.idle": "2021-09-26T10:08:23.634928Z",
     "shell.execute_reply": "2021-09-26T10:08:23.635429Z"
    },
    "papermill": {
     "duration": 0.050403,
     "end_time": "2021-09-26T10:08:23.635564",
     "exception": false,
     "start_time": "2021-09-26T10:08:23.585161",
     "status": "completed"
    },
    "tags": []
   },
   "outputs": [
    {
     "data": {
      "text/plain": [
       "((11982, 784), (1984, 784))"
      ]
     },
     "execution_count": 14,
     "metadata": {},
     "output_type": "execute_result"
    }
   ],
   "source": [
    "X_train = X_train.reshape(X_train.shape[0], -1)\n",
    "X_test = X_test.reshape(X_test.shape[0], -1)\n",
    "X_train.shape, X_test.shape"
   ]
  },
  {
   "cell_type": "code",
   "execution_count": 15,
   "id": "73c5f88a",
   "metadata": {
    "execution": {
     "iopub.execute_input": "2021-09-26T10:08:23.701236Z",
     "iopub.status.busy": "2021-09-26T10:08:23.700595Z",
     "iopub.status.idle": "2021-09-26T10:08:23.719940Z",
     "shell.execute_reply": "2021-09-26T10:08:23.720470Z"
    },
    "papermill": {
     "duration": 0.05495,
     "end_time": "2021-09-26T10:08:23.720621",
     "exception": false,
     "start_time": "2021-09-26T10:08:23.665671",
     "status": "completed"
    },
    "tags": []
   },
   "outputs": [],
   "source": [
    "#Impoting functions from 'Kudzu'\n",
    "from kudzu.model import Model\n",
    "from kudzu.train import Learner\n",
    "from kudzu.optim import GD\n",
    "from kudzu.data import Data, Sampler,Dataloader\n",
    "\n",
    "from kudzu.callbacks import AccCallback\n",
    "from kudzu.callbacks import ClfCallback\n",
    "\n",
    "from kudzu.loss import MSE\n",
    "\n",
    "from kudzu.layer import Sigmoid,Relu\n",
    "from kudzu.layer import Affine"
   ]
  },
  {
   "cell_type": "markdown",
   "id": "bc01172a",
   "metadata": {
    "papermill": {
     "duration": 0.030016,
     "end_time": "2021-09-26T10:08:23.781167",
     "exception": false,
     "start_time": "2021-09-26T10:08:23.751151",
     "status": "completed"
    },
    "tags": []
   },
   "source": [
    "### Let us create a `Config` class, to store important parameters. \n",
    "This class essentially plays the role of a dictionary."
   ]
  },
  {
   "cell_type": "code",
   "execution_count": 16,
   "id": "978281aa",
   "metadata": {
    "execution": {
     "iopub.execute_input": "2021-09-26T10:08:23.849268Z",
     "iopub.status.busy": "2021-09-26T10:08:23.848537Z",
     "iopub.status.idle": "2021-09-26T10:08:23.859221Z",
     "shell.execute_reply": "2021-09-26T10:08:23.859793Z"
    },
    "papermill": {
     "duration": 0.046425,
     "end_time": "2021-09-26T10:08:23.859926",
     "exception": false,
     "start_time": "2021-09-26T10:08:23.813501",
     "status": "completed"
    },
    "tags": []
   },
   "outputs": [],
   "source": [
    "class Config:\n",
    "    pass\n",
    "config = Config()\n",
    "config.lr = 0.001\n",
    "config.num_epochs = 250\n",
    "config.bs = 50"
   ]
  },
  {
   "cell_type": "markdown",
   "id": "1385fa59",
   "metadata": {
    "papermill": {
     "duration": 0.030965,
     "end_time": "2021-09-26T10:08:23.921145",
     "exception": false,
     "start_time": "2021-09-26T10:08:23.890180",
     "status": "completed"
    },
    "tags": []
   },
   "source": [
    "### Running Models with the Training data\n",
    "Details about the network layers:\n",
    "- A first affine layer has 784 inputs and does 100 affine transforms. These are followed by a Relu\n",
    "- A second affine layer has 100 inputs from the 100 activations of the past layer, and does 100 affine transforms. These are followed by a Relu\n",
    "- A third affine layer has 100 activations and does 2 affine transformations to create an embedding for visualization. There is no non-linearity here.\n",
    "- A final \"logistic regression\" which has an affine transform from 2 inputs to 1 output, which is squeezed through a sigmoid.\n"
   ]
  },
  {
   "cell_type": "code",
   "execution_count": 17,
   "id": "2b9c66db",
   "metadata": {
    "execution": {
     "iopub.execute_input": "2021-09-26T10:08:23.989472Z",
     "iopub.status.busy": "2021-09-26T10:08:23.988863Z",
     "iopub.status.idle": "2021-09-26T10:08:23.999477Z",
     "shell.execute_reply": "2021-09-26T10:08:24.000035Z"
    },
    "papermill": {
     "duration": 0.047896,
     "end_time": "2021-09-26T10:08:24.000171",
     "exception": false,
     "start_time": "2021-09-26T10:08:23.952275",
     "status": "completed"
    },
    "tags": []
   },
   "outputs": [],
   "source": [
    "data = Data(X_train, y_train.reshape(-1,1))\n",
    "sampler = Sampler(data, config.bs, shuffle=True)\n",
    "\n",
    "dl = Dataloader(data, sampler)\n",
    "\n",
    "opt = GD(config.lr)\n",
    "loss = MSE()"
   ]
  },
  {
   "cell_type": "code",
   "execution_count": 18,
   "id": "b275e4c2",
   "metadata": {
    "execution": {
     "iopub.execute_input": "2021-09-26T10:08:24.066744Z",
     "iopub.status.busy": "2021-09-26T10:08:24.066064Z",
     "iopub.status.idle": "2021-09-26T10:08:24.078817Z",
     "shell.execute_reply": "2021-09-26T10:08:24.079486Z"
    },
    "papermill": {
     "duration": 0.049311,
     "end_time": "2021-09-26T10:08:24.079631",
     "exception": false,
     "start_time": "2021-09-26T10:08:24.030320",
     "status": "completed"
    },
    "tags": []
   },
   "outputs": [],
   "source": [
    "training_data_x = X_train\n",
    "testing_data_x = X_test\n",
    "training_data_y = y_train.reshape(-1,1)\n",
    "testing_data_y = y_test.reshape(-1,1)"
   ]
  },
  {
   "cell_type": "code",
   "execution_count": 19,
   "id": "76951160",
   "metadata": {
    "execution": {
     "iopub.execute_input": "2021-09-26T10:08:24.151492Z",
     "iopub.status.busy": "2021-09-26T10:08:24.150830Z",
     "iopub.status.idle": "2021-09-26T10:08:24.169685Z",
     "shell.execute_reply": "2021-09-26T10:08:24.170307Z"
    },
    "papermill": {
     "duration": 0.057091,
     "end_time": "2021-09-26T10:08:24.170468",
     "exception": false,
     "start_time": "2021-09-26T10:08:24.113377",
     "status": "completed"
    },
    "tags": []
   },
   "outputs": [
    {
     "name": "stdout",
     "output_type": "stream",
     "text": [
      "xavier\n",
      "xavier\n",
      "xavier\n",
      "xavier\n",
      "xavier\n"
     ]
    }
   ],
   "source": [
    "layers = [Affine(\"first\", 784, 100), Relu(\"first\"), Affine(\"second\", 100, 100), Relu(\"second\"), Affine(\"third\", 100, 2), Affine(\"last\", 2, 1), Sigmoid(\"last\")]\n",
    "model_nn = Model(layers)\n",
    "model_lr = Model([Affine(\"logits\", 784, 1), Sigmoid(\"sigmoid\")])"
   ]
  },
  {
   "cell_type": "code",
   "execution_count": 20,
   "id": "6eede77a",
   "metadata": {
    "execution": {
     "iopub.execute_input": "2021-09-26T10:08:24.238017Z",
     "iopub.status.busy": "2021-09-26T10:08:24.237425Z",
     "iopub.status.idle": "2021-09-26T10:08:24.249230Z",
     "shell.execute_reply": "2021-09-26T10:08:24.249831Z"
    },
    "papermill": {
     "duration": 0.046235,
     "end_time": "2021-09-26T10:08:24.249964",
     "exception": false,
     "start_time": "2021-09-26T10:08:24.203729",
     "status": "completed"
    },
    "tags": []
   },
   "outputs": [],
   "source": [
    "nn_learner = Learner(loss, model_nn, opt, config.num_epochs)\n",
    "acc_nn = ClfCallback(nn_learner, config.bs, training_data_x , testing_data_x, training_data_y, testing_data_y)\n",
    "nn_learner.set_callbacks([acc_nn])"
   ]
  },
  {
   "cell_type": "code",
   "execution_count": 21,
   "id": "877b6cc7",
   "metadata": {
    "execution": {
     "iopub.execute_input": "2021-09-26T10:08:24.320558Z",
     "iopub.status.busy": "2021-09-26T10:08:24.319931Z",
     "iopub.status.idle": "2021-09-26T10:08:24.329070Z",
     "shell.execute_reply": "2021-09-26T10:08:24.329627Z"
    },
    "papermill": {
     "duration": 0.049172,
     "end_time": "2021-09-26T10:08:24.329756",
     "exception": false,
     "start_time": "2021-09-26T10:08:24.280584",
     "status": "completed"
    },
    "tags": []
   },
   "outputs": [],
   "source": [
    "lr_learner = Learner(loss, model_lr, opt, config.num_epochs)\n",
    "acc_lr = ClfCallback(lr_learner, config.bs, training_data_x , testing_data_x, training_data_y, testing_data_y)\n",
    "lr_learner.set_callbacks([acc_lr])"
   ]
  },
  {
   "cell_type": "code",
   "execution_count": 22,
   "id": "d9b133c3",
   "metadata": {
    "execution": {
     "iopub.execute_input": "2021-09-26T10:08:24.393451Z",
     "iopub.status.busy": "2021-09-26T10:08:24.392870Z",
     "iopub.status.idle": "2021-09-26T10:10:25.835511Z",
     "shell.execute_reply": "2021-09-26T10:10:25.836428Z"
    },
    "papermill": {
     "duration": 121.476516,
     "end_time": "2021-09-26T10:10:25.836588",
     "exception": false,
     "start_time": "2021-09-26T10:08:24.360072",
     "status": "completed"
    },
    "tags": []
   },
   "outputs": [
    {
     "name": "stdout",
     "output_type": "stream",
     "text": [
      "Epoch 0, Loss 0.2273\n",
      "Training Accuracy: 0.7796, Testing Accuracy: 0.7898\n",
      "\n"
     ]
    },
    {
     "name": "stdout",
     "output_type": "stream",
     "text": [
      "Epoch 10, Loss 0.0613\n",
      "Training Accuracy: 0.9350, Testing Accuracy: 0.9451\n",
      "\n"
     ]
    },
    {
     "name": "stdout",
     "output_type": "stream",
     "text": [
      "Epoch 20, Loss 0.0435\n",
      "Training Accuracy: 0.9523, Testing Accuracy: 0.9627\n",
      "\n"
     ]
    },
    {
     "name": "stdout",
     "output_type": "stream",
     "text": [
      "Epoch 30, Loss 0.0366\n",
      "Training Accuracy: 0.9607, Testing Accuracy: 0.9677\n",
      "\n"
     ]
    },
    {
     "name": "stdout",
     "output_type": "stream",
     "text": [
      "Epoch 40, Loss 0.0328\n",
      "Training Accuracy: 0.9644, Testing Accuracy: 0.9703\n",
      "\n"
     ]
    },
    {
     "name": "stdout",
     "output_type": "stream",
     "text": [
      "Epoch 50, Loss 0.0302\n",
      "Training Accuracy: 0.9661, Testing Accuracy: 0.9703\n",
      "\n"
     ]
    },
    {
     "name": "stdout",
     "output_type": "stream",
     "text": [
      "Epoch 60, Loss 0.0283\n",
      "Training Accuracy: 0.9677, Testing Accuracy: 0.9718\n",
      "\n"
     ]
    },
    {
     "name": "stdout",
     "output_type": "stream",
     "text": [
      "Epoch 70, Loss 0.0268\n",
      "Training Accuracy: 0.9695, Testing Accuracy: 0.9743\n",
      "\n"
     ]
    },
    {
     "name": "stdout",
     "output_type": "stream",
     "text": [
      "Epoch 80, Loss 0.0256\n",
      "Training Accuracy: 0.9710, Testing Accuracy: 0.9748\n",
      "\n"
     ]
    },
    {
     "name": "stdout",
     "output_type": "stream",
     "text": [
      "Epoch 90, Loss 0.0246\n",
      "Training Accuracy: 0.9722, Testing Accuracy: 0.9748\n",
      "\n"
     ]
    },
    {
     "name": "stdout",
     "output_type": "stream",
     "text": [
      "Epoch 100, Loss 0.0236\n",
      "Training Accuracy: 0.9725, Testing Accuracy: 0.9758\n",
      "\n"
     ]
    },
    {
     "name": "stdout",
     "output_type": "stream",
     "text": [
      "Epoch 110, Loss 0.0228\n",
      "Training Accuracy: 0.9740, Testing Accuracy: 0.9763\n",
      "\n"
     ]
    },
    {
     "name": "stdout",
     "output_type": "stream",
     "text": [
      "Epoch 120, Loss 0.0221\n",
      "Training Accuracy: 0.9749, Testing Accuracy: 0.9763\n",
      "\n"
     ]
    },
    {
     "name": "stdout",
     "output_type": "stream",
     "text": [
      "Epoch 130, Loss 0.0214\n",
      "Training Accuracy: 0.9755, Testing Accuracy: 0.9768\n",
      "\n"
     ]
    },
    {
     "name": "stdout",
     "output_type": "stream",
     "text": [
      "Epoch 140, Loss 0.0207\n",
      "Training Accuracy: 0.9765, Testing Accuracy: 0.9768\n",
      "\n"
     ]
    },
    {
     "name": "stdout",
     "output_type": "stream",
     "text": [
      "Epoch 150, Loss 0.0201\n",
      "Training Accuracy: 0.9775, Testing Accuracy: 0.9773\n",
      "\n"
     ]
    },
    {
     "name": "stdout",
     "output_type": "stream",
     "text": [
      "Epoch 160, Loss 0.0196\n",
      "Training Accuracy: 0.9783, Testing Accuracy: 0.9768\n",
      "\n"
     ]
    },
    {
     "name": "stdout",
     "output_type": "stream",
     "text": [
      "Epoch 170, Loss 0.0191\n",
      "Training Accuracy: 0.9785, Testing Accuracy: 0.9773\n",
      "\n"
     ]
    },
    {
     "name": "stdout",
     "output_type": "stream",
     "text": [
      "Epoch 180, Loss 0.0186\n",
      "Training Accuracy: 0.9796, Testing Accuracy: 0.9778\n",
      "\n"
     ]
    },
    {
     "name": "stdout",
     "output_type": "stream",
     "text": [
      "Epoch 190, Loss 0.0181\n",
      "Training Accuracy: 0.9801, Testing Accuracy: 0.9778\n",
      "\n"
     ]
    },
    {
     "name": "stdout",
     "output_type": "stream",
     "text": [
      "Epoch 200, Loss 0.0177\n",
      "Training Accuracy: 0.9806, Testing Accuracy: 0.9783\n",
      "\n"
     ]
    },
    {
     "name": "stdout",
     "output_type": "stream",
     "text": [
      "Epoch 210, Loss 0.0173\n",
      "Training Accuracy: 0.9811, Testing Accuracy: 0.9778\n",
      "\n"
     ]
    },
    {
     "name": "stdout",
     "output_type": "stream",
     "text": [
      "Epoch 220, Loss 0.0169\n",
      "Training Accuracy: 0.9820, Testing Accuracy: 0.9773\n",
      "\n"
     ]
    },
    {
     "name": "stdout",
     "output_type": "stream",
     "text": [
      "Epoch 230, Loss 0.0165\n",
      "Training Accuracy: 0.9821, Testing Accuracy: 0.9773\n",
      "\n"
     ]
    },
    {
     "name": "stdout",
     "output_type": "stream",
     "text": [
      "Epoch 240, Loss 0.0162\n",
      "Training Accuracy: 0.9826, Testing Accuracy: 0.9773\n",
      "\n"
     ]
    },
    {
     "data": {
      "text/plain": [
       "0.0317788023170758"
      ]
     },
     "execution_count": 22,
     "metadata": {},
     "output_type": "execute_result"
    }
   ],
   "source": [
    "nn_learner.train_loop(dl)"
   ]
  },
  {
   "cell_type": "code",
   "execution_count": 23,
   "id": "e0163366",
   "metadata": {
    "execution": {
     "iopub.execute_input": "2021-09-26T10:10:25.926066Z",
     "iopub.status.busy": "2021-09-26T10:10:25.925473Z",
     "iopub.status.idle": "2021-09-26T10:10:43.375531Z",
     "shell.execute_reply": "2021-09-26T10:10:43.376346Z"
    },
    "papermill": {
     "duration": 17.499477,
     "end_time": "2021-09-26T10:10:43.376506",
     "exception": false,
     "start_time": "2021-09-26T10:10:25.877029",
     "status": "completed"
    },
    "tags": []
   },
   "outputs": [
    {
     "name": "stdout",
     "output_type": "stream",
     "text": [
      "Epoch 0, Loss 0.2598\n",
      "Training Accuracy: 0.5943, Testing Accuracy: 0.5998\n",
      "\n"
     ]
    },
    {
     "name": "stdout",
     "output_type": "stream",
     "text": [
      "Epoch 10, Loss 0.1089\n",
      "Training Accuracy: 0.8983, Testing Accuracy: 0.9163\n",
      "\n"
     ]
    },
    {
     "name": "stdout",
     "output_type": "stream",
     "text": [
      "Epoch 20, Loss 0.082\n",
      "Training Accuracy: 0.9246, Testing Accuracy: 0.9345\n",
      "\n"
     ]
    },
    {
     "name": "stdout",
     "output_type": "stream",
     "text": [
      "Epoch 30, Loss 0.0698\n",
      "Training Accuracy: 0.9355, Testing Accuracy: 0.9451\n",
      "\n"
     ]
    },
    {
     "name": "stdout",
     "output_type": "stream",
     "text": [
      "Epoch 40, Loss 0.0626\n",
      "Training Accuracy: 0.9426, Testing Accuracy: 0.9521\n",
      "\n"
     ]
    },
    {
     "name": "stdout",
     "output_type": "stream",
     "text": [
      "Epoch 50, Loss 0.0578\n",
      "Training Accuracy: 0.9461, Testing Accuracy: 0.9551\n",
      "\n"
     ]
    },
    {
     "name": "stdout",
     "output_type": "stream",
     "text": [
      "Epoch 60, Loss 0.0543\n",
      "Training Accuracy: 0.9488, Testing Accuracy: 0.9587\n",
      "\n"
     ]
    },
    {
     "name": "stdout",
     "output_type": "stream",
     "text": [
      "Epoch 70, Loss 0.0516\n",
      "Training Accuracy: 0.9503, Testing Accuracy: 0.9597\n",
      "\n"
     ]
    },
    {
     "name": "stdout",
     "output_type": "stream",
     "text": [
      "Epoch 80, Loss 0.0495\n",
      "Training Accuracy: 0.9517, Testing Accuracy: 0.9622\n",
      "\n"
     ]
    },
    {
     "name": "stdout",
     "output_type": "stream",
     "text": [
      "Epoch 90, Loss 0.0477\n",
      "Training Accuracy: 0.9527, Testing Accuracy: 0.9632\n",
      "\n"
     ]
    },
    {
     "name": "stdout",
     "output_type": "stream",
     "text": [
      "Epoch 100, Loss 0.0463\n",
      "Training Accuracy: 0.9538, Testing Accuracy: 0.9642\n",
      "\n"
     ]
    },
    {
     "name": "stdout",
     "output_type": "stream",
     "text": [
      "Epoch 110, Loss 0.045\n",
      "Training Accuracy: 0.9543, Testing Accuracy: 0.9642\n",
      "\n"
     ]
    },
    {
     "name": "stdout",
     "output_type": "stream",
     "text": [
      "Epoch 120, Loss 0.0439\n",
      "Training Accuracy: 0.9551, Testing Accuracy: 0.9652\n",
      "\n"
     ]
    },
    {
     "name": "stdout",
     "output_type": "stream",
     "text": [
      "Epoch 130, Loss 0.043\n",
      "Training Accuracy: 0.9559, Testing Accuracy: 0.9657\n",
      "\n"
     ]
    },
    {
     "name": "stdout",
     "output_type": "stream",
     "text": [
      "Epoch 140, Loss 0.0421\n",
      "Training Accuracy: 0.9569, Testing Accuracy: 0.9662\n",
      "\n"
     ]
    },
    {
     "name": "stdout",
     "output_type": "stream",
     "text": [
      "Epoch 150, Loss 0.0413\n",
      "Training Accuracy: 0.9576, Testing Accuracy: 0.9662\n",
      "\n"
     ]
    },
    {
     "name": "stdout",
     "output_type": "stream",
     "text": [
      "Epoch 160, Loss 0.0407\n",
      "Training Accuracy: 0.9579, Testing Accuracy: 0.9662\n",
      "\n"
     ]
    },
    {
     "name": "stdout",
     "output_type": "stream",
     "text": [
      "Epoch 170, Loss 0.04\n",
      "Training Accuracy: 0.9580, Testing Accuracy: 0.9657\n",
      "\n"
     ]
    },
    {
     "name": "stdout",
     "output_type": "stream",
     "text": [
      "Epoch 180, Loss 0.0395\n",
      "Training Accuracy: 0.9582, Testing Accuracy: 0.9667\n",
      "\n"
     ]
    },
    {
     "name": "stdout",
     "output_type": "stream",
     "text": [
      "Epoch 190, Loss 0.039\n",
      "Training Accuracy: 0.9589, Testing Accuracy: 0.9677\n",
      "\n"
     ]
    },
    {
     "name": "stdout",
     "output_type": "stream",
     "text": [
      "Epoch 200, Loss 0.0385\n",
      "Training Accuracy: 0.9592, Testing Accuracy: 0.9677\n",
      "\n"
     ]
    },
    {
     "name": "stdout",
     "output_type": "stream",
     "text": [
      "Epoch 210, Loss 0.038\n",
      "Training Accuracy: 0.9597, Testing Accuracy: 0.9677\n",
      "\n"
     ]
    },
    {
     "name": "stdout",
     "output_type": "stream",
     "text": [
      "Epoch 220, Loss 0.0376\n",
      "Training Accuracy: 0.9603, Testing Accuracy: 0.9677\n",
      "\n"
     ]
    },
    {
     "name": "stdout",
     "output_type": "stream",
     "text": [
      "Epoch 230, Loss 0.0372\n",
      "Training Accuracy: 0.9605, Testing Accuracy: 0.9677\n",
      "\n"
     ]
    },
    {
     "name": "stdout",
     "output_type": "stream",
     "text": [
      "Epoch 240, Loss 0.0369\n",
      "Training Accuracy: 0.9609, Testing Accuracy: 0.9677\n",
      "\n"
     ]
    },
    {
     "data": {
      "text/plain": [
       "0.027191759307837467"
      ]
     },
     "execution_count": 23,
     "metadata": {},
     "output_type": "execute_result"
    }
   ],
   "source": [
    "lr_learner.train_loop(dl)"
   ]
  },
  {
   "cell_type": "code",
   "execution_count": 24,
   "id": "ca410940",
   "metadata": {
    "execution": {
     "iopub.execute_input": "2021-09-26T10:10:43.485732Z",
     "iopub.status.busy": "2021-09-26T10:10:43.485134Z",
     "iopub.status.idle": "2021-09-26T10:10:43.769824Z",
     "shell.execute_reply": "2021-09-26T10:10:43.769309Z"
    },
    "papermill": {
     "duration": 0.346462,
     "end_time": "2021-09-26T10:10:43.769957",
     "exception": false,
     "start_time": "2021-09-26T10:10:43.423495",
     "status": "completed"
    },
    "tags": []
   },
   "outputs": [
    {
     "data": {
      "text/plain": [
       "<matplotlib.legend.Legend at 0x7f1f9495c9b0>"
      ]
     },
     "execution_count": 24,
     "metadata": {},
     "output_type": "execute_result"
    },
    {
     "data": {
      "image/png": "[encoded data removed]",
      "text/plain": [
       "<Figure size 1080x720 with 1 Axes>"
      ]
     },
     "metadata": {
      "needs_background": "light"
     },
     "output_type": "display_data"
    }
   ],
   "source": [
    "#comparing the results of NN and LR\n",
    "plt.figure(figsize=(15,10))\n",
    "\n",
    "# Neural Network plots\n",
    "plt.plot(acc_nn.accuracies, 'r-', label = \"Training Accuracies - NN\")\n",
    "plt.plot(acc_nn.test_accuracies, 'g-', label = \"Testing Accuracies - NN\")\n",
    "\n",
    "# Logistic Regression plots\n",
    "plt.plot(acc_lr.accuracies, 'k-', label = \"Training Accuracies - LR\")\n",
    "plt.plot(acc_lr.test_accuracies, 'b-', label = \"Testing Accuracies - LR\")\n",
    "plt.legend()"
   ]
  },
  {
   "cell_type": "markdown",
   "id": "80dfb35c",
   "metadata": {
    "papermill": {
     "duration": 0.048758,
     "end_time": "2021-09-26T10:10:43.870364",
     "exception": false,
     "start_time": "2021-09-26T10:10:43.821606",
     "status": "completed"
    },
    "tags": []
   },
   "source": [
    "#### Plotting the outputs of this layer of the NN.\n"
   ]
  },
  {
   "cell_type": "code",
   "execution_count": 25,
   "id": "45eb2ff5",
   "metadata": {
    "execution": {
     "iopub.execute_input": "2021-09-26T10:10:43.971817Z",
     "iopub.status.busy": "2021-09-26T10:10:43.970544Z",
     "iopub.status.idle": "2021-09-26T10:10:43.995616Z",
     "shell.execute_reply": "2021-09-26T10:10:43.996394Z"
    },
    "papermill": {
     "duration": 0.077529,
     "end_time": "2021-09-26T10:10:43.996573",
     "exception": false,
     "start_time": "2021-09-26T10:10:43.919044",
     "status": "completed"
    },
    "tags": []
   },
   "outputs": [],
   "source": [
    "new_model = Model(layers[:-2])\n",
    "testing_plot = new_model(testing_data_x)"
   ]
  },
  {
   "cell_type": "code",
   "execution_count": 26,
   "id": "4c0a5485",
   "metadata": {
    "execution": {
     "iopub.execute_input": "2021-09-26T10:10:44.110434Z",
     "iopub.status.busy": "2021-09-26T10:10:44.109795Z",
     "iopub.status.idle": "2021-09-26T10:10:44.326863Z",
     "shell.execute_reply": "2021-09-26T10:10:44.326008Z"
    },
    "papermill": {
     "duration": 0.272717,
     "end_time": "2021-09-26T10:10:44.327010",
     "exception": false,
     "start_time": "2021-09-26T10:10:44.054293",
     "status": "completed"
    },
    "tags": []
   },
   "outputs": [
    {
     "data": {
      "text/plain": [
       "Text(0.5, 1.0, 'Outputs')"
      ]
     },
     "execution_count": 26,
     "metadata": {},
     "output_type": "execute_result"
    },
    {
     "data": {
      "image/png": "[encoded data removed]",
      "text/plain": [
       "<Figure size 576x504 with 1 Axes>"
      ]
     },
     "metadata": {
      "needs_background": "light"
     },
     "output_type": "display_data"
    }
   ],
   "source": [
    "# Plotting the scatter plot of points and color coding by class\n",
    "plt.figure(figsize=(8,7))\n",
    "plt.scatter(testing_plot[:,0], testing_plot[:,1], alpha = 0.1, c = y_test.ravel());\n",
    "plt.title('Outputs')"
   ]
  },
  {
   "cell_type": "markdown",
   "id": "a74fcf8f",
   "metadata": {
    "papermill": {
     "duration": 0.049651,
     "end_time": "2021-09-26T10:10:44.426689",
     "exception": false,
     "start_time": "2021-09-26T10:10:44.377038",
     "status": "completed"
    },
    "tags": []
   },
   "source": [
    "Probability contours"
   ]
  },
  {
   "cell_type": "code",
   "execution_count": 27,
   "id": "d0afc8e3",
   "metadata": {
    "execution": {
     "iopub.execute_input": "2021-09-26T10:10:44.553579Z",
     "iopub.status.busy": "2021-09-26T10:10:44.552967Z",
     "iopub.status.idle": "2021-09-26T10:10:44.563083Z",
     "shell.execute_reply": "2021-09-26T10:10:44.562597Z"
    },
    "papermill": {
     "duration": 0.087118,
     "end_time": "2021-09-26T10:10:44.563213",
     "exception": false,
     "start_time": "2021-09-26T10:10:44.476095",
     "status": "completed"
    },
    "tags": []
   },
   "outputs": [],
   "source": [
    "model_prob = Model(layers[-2:]) "
   ]
  },
  {
   "cell_type": "code",
   "execution_count": 28,
   "id": "9b96e238",
   "metadata": {
    "execution": {
     "iopub.execute_input": "2021-09-26T10:10:44.672673Z",
     "iopub.status.busy": "2021-09-26T10:10:44.671751Z",
     "iopub.status.idle": "2021-09-26T10:10:44.686320Z",
     "shell.execute_reply": "2021-09-26T10:10:44.686776Z"
    },
    "papermill": {
     "duration": 0.072356,
     "end_time": "2021-09-26T10:10:44.686914",
     "exception": false,
     "start_time": "2021-09-26T10:10:44.614558",
     "status": "completed"
    },
    "tags": []
   },
   "outputs": [],
   "source": [
    "#creating the x and y ranges according to the above generated plot.\n",
    "x_range = np.linspace(-4, 1, 100) \n",
    "y_range = np.linspace(-6, 6, 100) \n",
    "x_grid, y_grid = np.meshgrid(x_range, y_range) # x_grid and y_grig are of size 100 X 100\n",
    "\n",
    "# converting x_grid and y_grid to continuous arrays\n",
    "x_gridflat = np.ravel(x_grid)\n",
    "y_gridflat = np.ravel(y_grid)\n",
    "\n",
    "# The last layer of the current model takes two columns as input. Hence transpose of np.vstack() is required.\n",
    "X = np.vstack((x_gridflat, y_gridflat)).T\n",
    "\n",
    "prob_contour = model_prob(X).reshape(100,100) "
   ]
  },
  {
   "cell_type": "code",
   "execution_count": 29,
   "id": "da72499a",
   "metadata": {
    "execution": {
     "iopub.execute_input": "2021-09-26T10:10:44.809499Z",
     "iopub.status.busy": "2021-09-26T10:10:44.808913Z",
     "iopub.status.idle": "2021-09-26T10:10:45.081411Z",
     "shell.execute_reply": "2021-09-26T10:10:45.080891Z"
    },
    "papermill": {
     "duration": 0.337385,
     "end_time": "2021-09-26T10:10:45.081544",
     "exception": false,
     "start_time": "2021-09-26T10:10:44.744159",
     "status": "completed"
    },
    "tags": []
   },
   "outputs": [
    {
     "data": {
      "image/png": "[encoded data removed]",
      "text/plain": [
       "<Figure size 720x648 with 1 Axes>"
      ]
     },
     "metadata": {
      "needs_background": "light"
     },
     "output_type": "display_data"
    }
   ],
   "source": [
    "plt.figure(figsize=(10,9))\n",
    "plt.scatter(testing_plot[:,0], testing_plot[:,1], alpha = 0.1, c = y_test.ravel())\n",
    "contours = plt.contour(x_grid,y_grid,prob_contour)\n",
    "plt.title('Probability Contours')\n",
    "plt.clabel(contours, inline = True );"
   ]
  },
  {
   "cell_type": "code",
   "execution_count": null,
   "id": "e81b4ac7",
   "metadata": {
    "papermill": {
     "duration": 0.054446,
     "end_time": "2021-09-26T10:10:45.189150",
     "exception": false,
     "start_time": "2021-09-26T10:10:45.134704",
     "status": "completed"
    },
    "tags": []
   },
   "outputs": [],
   "source": []
  }
 ],
 "metadata": {
  "kernelspec": {
   "display_name": "Python 3",
   "language": "python",
   "name": "python3"
  },
  "language_info": {
   "codemirror_mode": {
    "name": "ipython",
    "version": 3
   },
   "file_extension": ".py",
   "mimetype": "text/x-python",
   "name": "python",
   "nbconvert_exporter": "python",
   "pygments_lexer": "ipython3",
   "version": "3.6.15"
  },
  "papermill": {
   "default_parameters": {},
   "duration": 148.269481,
   "end_time": "2021-09-26T10:10:45.654428",
   "environment_variables": {},
   "exception": null,
   "input_path": "2020-08-11-part2.ipynb",
   "output_path": "2020-08-11-part2.ipynb",
   "parameters": {},
   "start_time": "2021-09-26T10:08:17.384947",
   "version": "2.3.3"
  }
 },
 "nbformat": 4,
 "nbformat_minor": 5
}