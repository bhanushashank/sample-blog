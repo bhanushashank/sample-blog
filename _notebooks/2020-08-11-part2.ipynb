{
 "cells": [
  {
   "cell_type": "markdown",
   "id": "98380cd3",
   "metadata": {
    "papermill": {
     "duration": 0.027685,
     "end_time": "2021-10-02T00:20:09.163215",
     "exception": false,
     "start_time": "2021-10-02T00:20:09.135530",
     "status": "completed"
    },
    "tags": []
   },
   "source": [
    "# Distinguish Your Own Digits (DYOD)"
   ]
  },
  {
   "cell_type": "markdown",
   "id": "ef31240d",
   "metadata": {
    "papermill": {
     "duration": 0.023475,
     "end_time": "2021-10-02T00:20:09.211034",
     "exception": false,
     "start_time": "2021-10-02T00:20:09.187559",
     "status": "completed"
    },
    "tags": []
   },
   "source": [
    "You are going to write a classifier that distinguishes between the number 3 and number 8."
   ]
  },
  {
   "cell_type": "code",
   "execution_count": 1,
   "id": "b15c8646",
   "metadata": {
    "execution": {
     "iopub.execute_input": "2021-10-02T00:20:09.270147Z",
     "iopub.status.busy": "2021-10-02T00:20:09.269612Z",
     "iopub.status.idle": "2021-10-02T00:20:09.280685Z",
     "shell.execute_reply": "2021-10-02T00:20:09.280258Z"
    },
    "papermill": {
     "duration": 0.046447,
     "end_time": "2021-10-02T00:20:09.280812",
     "exception": false,
     "start_time": "2021-10-02T00:20:09.234365",
     "status": "completed"
    },
    "tags": []
   },
   "outputs": [],
   "source": [
    "%load_ext autoreload\n",
    "%autoreload 2"
   ]
  },
  {
   "cell_type": "code",
   "execution_count": 2,
   "id": "22ef38dc",
   "metadata": {
    "execution": {
     "iopub.execute_input": "2021-10-02T00:20:09.335664Z",
     "iopub.status.busy": "2021-10-02T00:20:09.335148Z",
     "iopub.status.idle": "2021-10-02T00:20:09.849561Z",
     "shell.execute_reply": "2021-10-02T00:20:09.849006Z"
    },
    "papermill": {
     "duration": 0.545231,
     "end_time": "2021-10-02T00:20:09.849684",
     "exception": false,
     "start_time": "2021-10-02T00:20:09.304453",
     "status": "completed"
    },
    "tags": []
   },
   "outputs": [],
   "source": [
    "%matplotlib inline\n",
    "import numpy as np\n",
    "import matplotlib.pyplot as plt\n",
    "import pandas as pd"
   ]
  },
  {
   "cell_type": "markdown",
   "id": "ba036198",
   "metadata": {
    "papermill": {
     "duration": 0.023806,
     "end_time": "2021-10-02T00:20:09.897323",
     "exception": false,
     "start_time": "2021-10-02T00:20:09.873517",
     "status": "completed"
    },
    "tags": []
   },
   "source": [
    "From the command line run `pip install mnist`. This is a library that will help you bring down the mnist dataset. If you run this from a notebook, you need to put  `!pip install mnist` in a cell by itself."
   ]
  },
  {
   "cell_type": "code",
   "execution_count": 3,
   "id": "bb6ad8a1",
   "metadata": {
    "execution": {
     "iopub.execute_input": "2021-10-02T00:20:09.949700Z",
     "iopub.status.busy": "2021-10-02T00:20:09.949151Z",
     "iopub.status.idle": "2021-10-02T00:20:12.369912Z",
     "shell.execute_reply": "2021-10-02T00:20:12.369369Z"
    },
    "papermill": {
     "duration": 2.449109,
     "end_time": "2021-10-02T00:20:12.370058",
     "exception": false,
     "start_time": "2021-10-02T00:20:09.920949",
     "status": "completed"
    },
    "tags": []
   },
   "outputs": [
    {
     "name": "stdout",
     "output_type": "stream",
     "text": [
      "Collecting mnist\r\n",
      "  Downloading mnist-0.2.2-py2.py3-none-any.whl (3.5 kB)\r\n",
      "Requirement already satisfied: numpy in /opt/hostedtoolcache/Python/3.6.15/x64/lib/python3.6/site-packages (from mnist) (1.19.5)\r\n"
     ]
    },
    {
     "name": "stdout",
     "output_type": "stream",
     "text": [
      "Installing collected packages: mnist\r\n"
     ]
    },
    {
     "name": "stdout",
     "output_type": "stream",
     "text": [
      "Successfully installed mnist-0.2.2\r\n"
     ]
    }
   ],
   "source": [
    "!pip install mnist"
   ]
  },
  {
   "cell_type": "markdown",
   "id": "69df9c9a",
   "metadata": {
    "papermill": {
     "duration": 0.024507,
     "end_time": "2021-10-02T00:20:12.420549",
     "exception": false,
     "start_time": "2021-10-02T00:20:12.396042",
     "status": "completed"
    },
    "tags": []
   },
   "source": [
    "## Preparing the Data"
   ]
  },
  {
   "cell_type": "code",
   "execution_count": 4,
   "id": "7f69d806",
   "metadata": {
    "execution": {
     "iopub.execute_input": "2021-10-02T00:20:12.478374Z",
     "iopub.status.busy": "2021-10-02T00:20:12.477861Z",
     "iopub.status.idle": "2021-10-02T00:20:12.489009Z",
     "shell.execute_reply": "2021-10-02T00:20:12.488525Z"
    },
    "papermill": {
     "duration": 0.044403,
     "end_time": "2021-10-02T00:20:12.489154",
     "exception": false,
     "start_time": "2021-10-02T00:20:12.444751",
     "status": "completed"
    },
    "tags": []
   },
   "outputs": [],
   "source": [
    "import mnist"
   ]
  },
  {
   "cell_type": "code",
   "execution_count": 5,
   "id": "a411e44f",
   "metadata": {
    "execution": {
     "iopub.execute_input": "2021-10-02T00:20:12.541496Z",
     "iopub.status.busy": "2021-10-02T00:20:12.540933Z",
     "iopub.status.idle": "2021-10-02T00:20:13.012399Z",
     "shell.execute_reply": "2021-10-02T00:20:13.011865Z"
    },
    "papermill": {
     "duration": 0.498973,
     "end_time": "2021-10-02T00:20:13.012548",
     "exception": false,
     "start_time": "2021-10-02T00:20:12.513575",
     "status": "completed"
    },
    "tags": []
   },
   "outputs": [],
   "source": [
    "train_images = mnist.train_images()\n",
    "train_labels = mnist.train_labels()"
   ]
  },
  {
   "cell_type": "code",
   "execution_count": 6,
   "id": "dceab3a5",
   "metadata": {
    "execution": {
     "iopub.execute_input": "2021-10-02T00:20:13.068436Z",
     "iopub.status.busy": "2021-10-02T00:20:13.067903Z",
     "iopub.status.idle": "2021-10-02T00:20:13.080463Z",
     "shell.execute_reply": "2021-10-02T00:20:13.080043Z"
    },
    "papermill": {
     "duration": 0.043087,
     "end_time": "2021-10-02T00:20:13.080580",
     "exception": false,
     "start_time": "2021-10-02T00:20:13.037493",
     "status": "completed"
    },
    "tags": []
   },
   "outputs": [
    {
     "data": {
      "text/plain": [
       "((60000, 28, 28), (60000,))"
      ]
     },
     "execution_count": 6,
     "metadata": {},
     "output_type": "execute_result"
    }
   ],
   "source": [
    "train_images.shape, train_labels.shape"
   ]
  },
  {
   "cell_type": "code",
   "execution_count": 7,
   "id": "f50dc2bb",
   "metadata": {
    "execution": {
     "iopub.execute_input": "2021-10-02T00:20:13.133242Z",
     "iopub.status.busy": "2021-10-02T00:20:13.132700Z",
     "iopub.status.idle": "2021-10-02T00:20:13.246108Z",
     "shell.execute_reply": "2021-10-02T00:20:13.246585Z"
    },
    "papermill": {
     "duration": 0.141553,
     "end_time": "2021-10-02T00:20:13.246756",
     "exception": false,
     "start_time": "2021-10-02T00:20:13.105203",
     "status": "completed"
    },
    "tags": []
   },
   "outputs": [],
   "source": [
    "test_images = mnist.test_images()\n",
    "test_labels = mnist.test_labels()"
   ]
  },
  {
   "cell_type": "code",
   "execution_count": 8,
   "id": "fc38cf1b",
   "metadata": {
    "execution": {
     "iopub.execute_input": "2021-10-02T00:20:13.305742Z",
     "iopub.status.busy": "2021-10-02T00:20:13.305185Z",
     "iopub.status.idle": "2021-10-02T00:20:13.314996Z",
     "shell.execute_reply": "2021-10-02T00:20:13.315489Z"
    },
    "papermill": {
     "duration": 0.04377,
     "end_time": "2021-10-02T00:20:13.315624",
     "exception": false,
     "start_time": "2021-10-02T00:20:13.271854",
     "status": "completed"
    },
    "tags": []
   },
   "outputs": [
    {
     "data": {
      "text/plain": [
       "((10000, 28, 28), (10000,))"
      ]
     },
     "execution_count": 8,
     "metadata": {},
     "output_type": "execute_result"
    }
   ],
   "source": [
    "test_images.shape, test_labels.shape"
   ]
  },
  {
   "cell_type": "code",
   "execution_count": 9,
   "id": "f9ed8fe0",
   "metadata": {
    "execution": {
     "iopub.execute_input": "2021-10-02T00:20:13.369213Z",
     "iopub.status.busy": "2021-10-02T00:20:13.368676Z",
     "iopub.status.idle": "2021-10-02T00:20:13.505278Z",
     "shell.execute_reply": "2021-10-02T00:20:13.505763Z"
    },
    "papermill": {
     "duration": 0.165212,
     "end_time": "2021-10-02T00:20:13.505923",
     "exception": false,
     "start_time": "2021-10-02T00:20:13.340711",
     "status": "completed"
    },
    "tags": []
   },
   "outputs": [
    {
     "name": "stdout",
     "output_type": "stream",
     "text": [
      "2\n"
     ]
    },
    {
     "data": {
      "text/plain": [
       "<matplotlib.image.AxesImage at 0x7f5fdac0f7b8>"
      ]
     },
     "execution_count": 9,
     "metadata": {},
     "output_type": "execute_result"
    },
    {
     "data": {
      "image/png": "[encoded data removed]",
      "text/plain": [
       "<Figure size 432x288 with 1 Axes>"
      ]
     },
     "metadata": {
      "needs_background": "light"
     },
     "output_type": "display_data"
    }
   ],
   "source": [
    "image_index = 7776 # You may select anything up to 60,000\n",
    "print(train_labels[image_index]) \n",
    "plt.imshow(train_images[image_index], cmap='Greys')"
   ]
  },
  {
   "cell_type": "markdown",
   "id": "a8d2388d",
   "metadata": {
    "papermill": {
     "duration": 0.025804,
     "end_time": "2021-10-02T00:20:13.558447",
     "exception": false,
     "start_time": "2021-10-02T00:20:13.532643",
     "status": "completed"
    },
    "tags": []
   },
   "source": [
    "## Filter data to get 3 and 8 out"
   ]
  },
  {
   "cell_type": "code",
   "execution_count": 10,
   "id": "776f7fc7",
   "metadata": {
    "execution": {
     "iopub.execute_input": "2021-10-02T00:20:13.614368Z",
     "iopub.status.busy": "2021-10-02T00:20:13.613841Z",
     "iopub.status.idle": "2021-10-02T00:20:13.631995Z",
     "shell.execute_reply": "2021-10-02T00:20:13.631577Z"
    },
    "papermill": {
     "duration": 0.047924,
     "end_time": "2021-10-02T00:20:13.632110",
     "exception": false,
     "start_time": "2021-10-02T00:20:13.584186",
     "status": "completed"
    },
    "tags": []
   },
   "outputs": [],
   "source": [
    "train_filter = np.where((train_labels == 3 ) | (train_labels == 8))\n",
    "test_filter = np.where((test_labels == 3) | (test_labels == 8))\n",
    "X_train, y_train = train_images[train_filter], train_labels[train_filter]\n",
    "X_test, y_test = test_images[test_filter], test_labels[test_filter]"
   ]
  },
  {
   "cell_type": "markdown",
   "id": "948f0b7e",
   "metadata": {
    "papermill": {
     "duration": 0.026259,
     "end_time": "2021-10-02T00:20:13.684250",
     "exception": false,
     "start_time": "2021-10-02T00:20:13.657991",
     "status": "completed"
    },
    "tags": []
   },
   "source": [
    "We normalize the pizel values in the 0 to 1 range"
   ]
  },
  {
   "cell_type": "code",
   "execution_count": 11,
   "id": "ee4c2166",
   "metadata": {
    "execution": {
     "iopub.execute_input": "2021-10-02T00:20:13.742364Z",
     "iopub.status.busy": "2021-10-02T00:20:13.741846Z",
     "iopub.status.idle": "2021-10-02T00:20:13.787990Z",
     "shell.execute_reply": "2021-10-02T00:20:13.787111Z"
    },
    "papermill": {
     "duration": 0.078233,
     "end_time": "2021-10-02T00:20:13.788134",
     "exception": false,
     "start_time": "2021-10-02T00:20:13.709901",
     "status": "completed"
    },
    "tags": []
   },
   "outputs": [],
   "source": [
    "X_train = X_train/255.\n",
    "X_test = X_test/255."
   ]
  },
  {
   "cell_type": "markdown",
   "id": "ddcf4fab",
   "metadata": {
    "papermill": {
     "duration": 0.026327,
     "end_time": "2021-10-02T00:20:13.841490",
     "exception": false,
     "start_time": "2021-10-02T00:20:13.815163",
     "status": "completed"
    },
    "tags": []
   },
   "source": [
    "And setup the labels as 1 (when the digit is 3) and 0 (when the digit is 8)"
   ]
  },
  {
   "cell_type": "code",
   "execution_count": 12,
   "id": "7dc908f2",
   "metadata": {
    "execution": {
     "iopub.execute_input": "2021-10-02T00:20:13.899069Z",
     "iopub.status.busy": "2021-10-02T00:20:13.898542Z",
     "iopub.status.idle": "2021-10-02T00:20:13.908676Z",
     "shell.execute_reply": "2021-10-02T00:20:13.909137Z"
    },
    "papermill": {
     "duration": 0.041883,
     "end_time": "2021-10-02T00:20:13.909275",
     "exception": false,
     "start_time": "2021-10-02T00:20:13.867392",
     "status": "completed"
    },
    "tags": []
   },
   "outputs": [],
   "source": [
    "y_train = 1*(y_train==3)\n",
    "y_test = 1*(y_test==3)"
   ]
  },
  {
   "cell_type": "code",
   "execution_count": 13,
   "id": "01e4e969",
   "metadata": {
    "execution": {
     "iopub.execute_input": "2021-10-02T00:20:13.968717Z",
     "iopub.status.busy": "2021-10-02T00:20:13.968193Z",
     "iopub.status.idle": "2021-10-02T00:20:13.978944Z",
     "shell.execute_reply": "2021-10-02T00:20:13.978527Z"
    },
    "papermill": {
     "duration": 0.043826,
     "end_time": "2021-10-02T00:20:13.979061",
     "exception": false,
     "start_time": "2021-10-02T00:20:13.935235",
     "status": "completed"
    },
    "tags": []
   },
   "outputs": [
    {
     "data": {
      "text/plain": [
       "((11982, 28, 28), (1984, 28, 28))"
      ]
     },
     "execution_count": 13,
     "metadata": {},
     "output_type": "execute_result"
    }
   ],
   "source": [
    "X_train.shape, X_test.shape"
   ]
  },
  {
   "cell_type": "markdown",
   "id": "5ccf3f85",
   "metadata": {
    "papermill": {
     "duration": 0.025985,
     "end_time": "2021-10-02T00:20:14.031213",
     "exception": false,
     "start_time": "2021-10-02T00:20:14.005228",
     "status": "completed"
    },
    "tags": []
   },
   "source": [
    "We reshape the data to flatten the image pixels into a set of features or co-variates:"
   ]
  },
  {
   "cell_type": "code",
   "execution_count": 14,
   "id": "5286a4a3",
   "metadata": {
    "execution": {
     "iopub.execute_input": "2021-10-02T00:20:14.100729Z",
     "iopub.status.busy": "2021-10-02T00:20:14.094463Z",
     "iopub.status.idle": "2021-10-02T00:20:14.103850Z",
     "shell.execute_reply": "2021-10-02T00:20:14.103347Z"
    },
    "papermill": {
     "duration": 0.046663,
     "end_time": "2021-10-02T00:20:14.103961",
     "exception": false,
     "start_time": "2021-10-02T00:20:14.057298",
     "status": "completed"
    },
    "tags": []
   },
   "outputs": [
    {
     "data": {
      "text/plain": [
       "((11982, 784), (1984, 784))"
      ]
     },
     "execution_count": 14,
     "metadata": {},
     "output_type": "execute_result"
    }
   ],
   "source": [
    "X_train = X_train.reshape(X_train.shape[0], -1)\n",
    "X_test = X_test.reshape(X_test.shape[0], -1)\n",
    "X_train.shape, X_test.shape"
   ]
  },
  {
   "cell_type": "code",
   "execution_count": 15,
   "id": "73c5f88a",
   "metadata": {
    "execution": {
     "iopub.execute_input": "2021-10-02T00:20:14.161784Z",
     "iopub.status.busy": "2021-10-02T00:20:14.159891Z",
     "iopub.status.idle": "2021-10-02T00:20:14.177426Z",
     "shell.execute_reply": "2021-10-02T00:20:14.177836Z"
    },
    "papermill": {
     "duration": 0.047732,
     "end_time": "2021-10-02T00:20:14.177957",
     "exception": false,
     "start_time": "2021-10-02T00:20:14.130225",
     "status": "completed"
    },
    "tags": []
   },
   "outputs": [],
   "source": [
    "#Impoting functions from 'Kudzu'\n",
    "from kudzu.model import Model\n",
    "from kudzu.train import Learner\n",
    "from kudzu.optim import GD\n",
    "from kudzu.data import Data, Sampler,Dataloader\n",
    "\n",
    "from kudzu.callbacks import AccCallback\n",
    "from kudzu.callbacks import ClfCallback\n",
    "\n",
    "from kudzu.loss import MSE\n",
    "\n",
    "from kudzu.layer import Sigmoid,Relu\n",
    "from kudzu.layer import Affine"
   ]
  },
  {
   "cell_type": "markdown",
   "id": "bc01172a",
   "metadata": {
    "papermill": {
     "duration": 0.026101,
     "end_time": "2021-10-02T00:20:14.230348",
     "exception": false,
     "start_time": "2021-10-02T00:20:14.204247",
     "status": "completed"
    },
    "tags": []
   },
   "source": [
    "### Let us create a `Config` class, to store important parameters. \n",
    "This class essentially plays the role of a dictionary."
   ]
  },
  {
   "cell_type": "code",
   "execution_count": 16,
   "id": "978281aa",
   "metadata": {
    "execution": {
     "iopub.execute_input": "2021-10-02T00:20:14.291558Z",
     "iopub.status.busy": "2021-10-02T00:20:14.291024Z",
     "iopub.status.idle": "2021-10-02T00:20:14.301718Z",
     "shell.execute_reply": "2021-10-02T00:20:14.301303Z"
    },
    "papermill": {
     "duration": 0.045345,
     "end_time": "2021-10-02T00:20:14.301833",
     "exception": false,
     "start_time": "2021-10-02T00:20:14.256488",
     "status": "completed"
    },
    "tags": []
   },
   "outputs": [],
   "source": [
    "class Config:\n",
    "    pass\n",
    "config = Config()\n",
    "config.lr = 0.001\n",
    "config.num_epochs = 250\n",
    "config.bs = 50"
   ]
  },
  {
   "cell_type": "markdown",
   "id": "1385fa59",
   "metadata": {
    "papermill": {
     "duration": 0.026328,
     "end_time": "2021-10-02T00:20:14.354651",
     "exception": false,
     "start_time": "2021-10-02T00:20:14.328323",
     "status": "completed"
    },
    "tags": []
   },
   "source": [
    "### Running Models with the Training data\n",
    "Details about the network layers:\n",
    "- A first affine layer has 784 inputs and does 100 affine transforms. These are followed by a Relu\n",
    "- A second affine layer has 100 inputs from the 100 activations of the past layer, and does 100 affine transforms. These are followed by a Relu\n",
    "- A third affine layer has 100 activations and does 2 affine transformations to create an embedding for visualization. There is no non-linearity here.\n",
    "- A final \"logistic regression\" which has an affine transform from 2 inputs to 1 output, which is squeezed through a sigmoid.\n"
   ]
  },
  {
   "cell_type": "code",
   "execution_count": 17,
   "id": "2b9c66db",
   "metadata": {
    "execution": {
     "iopub.execute_input": "2021-10-02T00:20:14.411607Z",
     "iopub.status.busy": "2021-10-02T00:20:14.411089Z",
     "iopub.status.idle": "2021-10-02T00:20:14.423375Z",
     "shell.execute_reply": "2021-10-02T00:20:14.422966Z"
    },
    "papermill": {
     "duration": 0.042472,
     "end_time": "2021-10-02T00:20:14.423483",
     "exception": false,
     "start_time": "2021-10-02T00:20:14.381011",
     "status": "completed"
    },
    "tags": []
   },
   "outputs": [],
   "source": [
    "data = Data(X_train, y_train.reshape(-1,1))\n",
    "sampler = Sampler(data, config.bs, shuffle=True)\n",
    "\n",
    "dl = Dataloader(data, sampler)\n",
    "\n",
    "opt = GD(config.lr)\n",
    "loss = MSE()"
   ]
  },
  {
   "cell_type": "code",
   "execution_count": 18,
   "id": "b275e4c2",
   "metadata": {
    "execution": {
     "iopub.execute_input": "2021-10-02T00:20:14.491621Z",
     "iopub.status.busy": "2021-10-02T00:20:14.491085Z",
     "iopub.status.idle": "2021-10-02T00:20:14.497151Z",
     "shell.execute_reply": "2021-10-02T00:20:14.496706Z"
    },
    "papermill": {
     "duration": 0.047512,
     "end_time": "2021-10-02T00:20:14.497269",
     "exception": false,
     "start_time": "2021-10-02T00:20:14.449757",
     "status": "completed"
    },
    "tags": []
   },
   "outputs": [],
   "source": [
    "training_data_x = X_train\n",
    "testing_data_x = X_test\n",
    "training_data_y = y_train.reshape(-1,1)\n",
    "testing_data_y = y_test.reshape(-1,1)"
   ]
  },
  {
   "cell_type": "code",
   "execution_count": 19,
   "id": "76951160",
   "metadata": {
    "execution": {
     "iopub.execute_input": "2021-10-02T00:20:14.556076Z",
     "iopub.status.busy": "2021-10-02T00:20:14.555552Z",
     "iopub.status.idle": "2021-10-02T00:20:14.570331Z",
     "shell.execute_reply": "2021-10-02T00:20:14.569898Z"
    },
    "papermill": {
     "duration": 0.046856,
     "end_time": "2021-10-02T00:20:14.570447",
     "exception": false,
     "start_time": "2021-10-02T00:20:14.523591",
     "status": "completed"
    },
    "tags": []
   },
   "outputs": [
    {
     "name": "stdout",
     "output_type": "stream",
     "text": [
      "xavier\n",
      "xavier\n",
      "xavier\n",
      "xavier\n",
      "xavier\n"
     ]
    }
   ],
   "source": [
    "layers = [Affine(\"first\", 784, 100), Relu(\"first\"), Affine(\"second\", 100, 100), Relu(\"second\"), Affine(\"third\", 100, 2), Affine(\"last\", 2, 1), Sigmoid(\"last\")]\n",
    "model_nn = Model(layers)\n",
    "model_lr = Model([Affine(\"logits\", 784, 1), Sigmoid(\"sigmoid\")])"
   ]
  },
  {
   "cell_type": "code",
   "execution_count": 20,
   "id": "6eede77a",
   "metadata": {
    "execution": {
     "iopub.execute_input": "2021-10-02T00:20:14.627186Z",
     "iopub.status.busy": "2021-10-02T00:20:14.626680Z",
     "iopub.status.idle": "2021-10-02T00:20:14.639037Z",
     "shell.execute_reply": "2021-10-02T00:20:14.638603Z"
    },
    "papermill": {
     "duration": 0.041954,
     "end_time": "2021-10-02T00:20:14.639144",
     "exception": false,
     "start_time": "2021-10-02T00:20:14.597190",
     "status": "completed"
    },
    "tags": []
   },
   "outputs": [],
   "source": [
    "nn_learner = Learner(loss, model_nn, opt, config.num_epochs)\n",
    "acc_nn = ClfCallback(nn_learner, config.bs, training_data_x , testing_data_x, training_data_y, testing_data_y)\n",
    "nn_learner.set_callbacks([acc_nn])"
   ]
  },
  {
   "cell_type": "code",
   "execution_count": 21,
   "id": "877b6cc7",
   "metadata": {
    "execution": {
     "iopub.execute_input": "2021-10-02T00:20:14.697938Z",
     "iopub.status.busy": "2021-10-02T00:20:14.697425Z",
     "iopub.status.idle": "2021-10-02T00:20:14.707918Z",
     "shell.execute_reply": "2021-10-02T00:20:14.707507Z"
    },
    "papermill": {
     "duration": 0.042408,
     "end_time": "2021-10-02T00:20:14.708026",
     "exception": false,
     "start_time": "2021-10-02T00:20:14.665618",
     "status": "completed"
    },
    "tags": []
   },
   "outputs": [],
   "source": [
    "lr_learner = Learner(loss, model_lr, opt, config.num_epochs)\n",
    "acc_lr = ClfCallback(lr_learner, config.bs, training_data_x , testing_data_x, training_data_y, testing_data_y)\n",
    "lr_learner.set_callbacks([acc_lr])"
   ]
  },
  {
   "cell_type": "code",
   "execution_count": 22,
   "id": "d9b133c3",
   "metadata": {
    "execution": {
     "iopub.execute_input": "2021-10-02T00:20:14.774120Z",
     "iopub.status.busy": "2021-10-02T00:20:14.773583Z",
     "iopub.status.idle": "2021-10-02T00:21:30.291469Z",
     "shell.execute_reply": "2021-10-02T00:21:30.292206Z"
    },
    "papermill": {
     "duration": 75.557609,
     "end_time": "2021-10-02T00:21:30.292359",
     "exception": false,
     "start_time": "2021-10-02T00:20:14.734750",
     "status": "completed"
    },
    "tags": []
   },
   "outputs": [
    {
     "name": "stdout",
     "output_type": "stream",
     "text": [
      "Epoch 0, Loss 0.2432\n",
      "Training Accuracy: 0.6435, Testing Accuracy: 0.6678\n",
      "\n"
     ]
    },
    {
     "name": "stdout",
     "output_type": "stream",
     "text": [
      "Epoch 10, Loss 0.1203\n",
      "Training Accuracy: 0.8943, Testing Accuracy: 0.9027\n",
      "\n"
     ]
    },
    {
     "name": "stdout",
     "output_type": "stream",
     "text": [
      "Epoch 20, Loss 0.0677\n",
      "Training Accuracy: 0.9304, Testing Accuracy: 0.9441\n",
      "\n"
     ]
    },
    {
     "name": "stdout",
     "output_type": "stream",
     "text": [
      "Epoch 30, Loss 0.0498\n",
      "Training Accuracy: 0.9465, Testing Accuracy: 0.9561\n",
      "\n"
     ]
    },
    {
     "name": "stdout",
     "output_type": "stream",
     "text": [
      "Epoch 40, Loss 0.0416\n",
      "Training Accuracy: 0.9544, Testing Accuracy: 0.9637\n",
      "\n"
     ]
    },
    {
     "name": "stdout",
     "output_type": "stream",
     "text": [
      "Epoch 50, Loss 0.037\n",
      "Training Accuracy: 0.9585, Testing Accuracy: 0.9672\n",
      "\n"
     ]
    },
    {
     "name": "stdout",
     "output_type": "stream",
     "text": [
      "Epoch 60, Loss 0.034\n",
      "Training Accuracy: 0.9617, Testing Accuracy: 0.9677\n",
      "\n"
     ]
    },
    {
     "name": "stdout",
     "output_type": "stream",
     "text": [
      "Epoch 70, Loss 0.0319\n",
      "Training Accuracy: 0.9635, Testing Accuracy: 0.9682\n",
      "\n"
     ]
    },
    {
     "name": "stdout",
     "output_type": "stream",
     "text": [
      "Epoch 80, Loss 0.0303\n",
      "Training Accuracy: 0.9652, Testing Accuracy: 0.9693\n",
      "\n"
     ]
    },
    {
     "name": "stdout",
     "output_type": "stream",
     "text": [
      "Epoch 90, Loss 0.0289\n",
      "Training Accuracy: 0.9667, Testing Accuracy: 0.9708\n",
      "\n"
     ]
    },
    {
     "name": "stdout",
     "output_type": "stream",
     "text": [
      "Epoch 100, Loss 0.0278\n",
      "Training Accuracy: 0.9678, Testing Accuracy: 0.9718\n",
      "\n"
     ]
    },
    {
     "name": "stdout",
     "output_type": "stream",
     "text": [
      "Epoch 110, Loss 0.0269\n",
      "Training Accuracy: 0.9690, Testing Accuracy: 0.9718\n",
      "\n"
     ]
    },
    {
     "name": "stdout",
     "output_type": "stream",
     "text": [
      "Epoch 120, Loss 0.0261\n",
      "Training Accuracy: 0.9697, Testing Accuracy: 0.9718\n",
      "\n"
     ]
    },
    {
     "name": "stdout",
     "output_type": "stream",
     "text": [
      "Epoch 130, Loss 0.0253\n",
      "Training Accuracy: 0.9710, Testing Accuracy: 0.9718\n",
      "\n"
     ]
    },
    {
     "name": "stdout",
     "output_type": "stream",
     "text": [
      "Epoch 140, Loss 0.0247\n",
      "Training Accuracy: 0.9715, Testing Accuracy: 0.9743\n",
      "\n"
     ]
    },
    {
     "name": "stdout",
     "output_type": "stream",
     "text": [
      "Epoch 150, Loss 0.0241\n",
      "Training Accuracy: 0.9718, Testing Accuracy: 0.9743\n",
      "\n"
     ]
    },
    {
     "name": "stdout",
     "output_type": "stream",
     "text": [
      "Epoch 160, Loss 0.0235\n",
      "Training Accuracy: 0.9728, Testing Accuracy: 0.9743\n",
      "\n"
     ]
    },
    {
     "name": "stdout",
     "output_type": "stream",
     "text": [
      "Epoch 170, Loss 0.023\n",
      "Training Accuracy: 0.9732, Testing Accuracy: 0.9743\n",
      "\n"
     ]
    },
    {
     "name": "stdout",
     "output_type": "stream",
     "text": [
      "Epoch 180, Loss 0.0225\n",
      "Training Accuracy: 0.9739, Testing Accuracy: 0.9748\n",
      "\n"
     ]
    },
    {
     "name": "stdout",
     "output_type": "stream",
     "text": [
      "Epoch 190, Loss 0.0221\n",
      "Training Accuracy: 0.9748, Testing Accuracy: 0.9743\n",
      "\n"
     ]
    },
    {
     "name": "stdout",
     "output_type": "stream",
     "text": [
      "Epoch 200, Loss 0.0216\n",
      "Training Accuracy: 0.9757, Testing Accuracy: 0.9743\n",
      "\n"
     ]
    },
    {
     "name": "stdout",
     "output_type": "stream",
     "text": [
      "Epoch 210, Loss 0.0212\n",
      "Training Accuracy: 0.9759, Testing Accuracy: 0.9743\n",
      "\n"
     ]
    },
    {
     "name": "stdout",
     "output_type": "stream",
     "text": [
      "Epoch 220, Loss 0.0208\n",
      "Training Accuracy: 0.9765, Testing Accuracy: 0.9738\n",
      "\n"
     ]
    },
    {
     "name": "stdout",
     "output_type": "stream",
     "text": [
      "Epoch 230, Loss 0.0205\n",
      "Training Accuracy: 0.9769, Testing Accuracy: 0.9738\n",
      "\n"
     ]
    },
    {
     "name": "stdout",
     "output_type": "stream",
     "text": [
      "Epoch 240, Loss 0.0201\n",
      "Training Accuracy: 0.9775, Testing Accuracy: 0.9743\n",
      "\n"
     ]
    },
    {
     "data": {
      "text/plain": [
       "0.02478339360065656"
      ]
     },
     "execution_count": 22,
     "metadata": {},
     "output_type": "execute_result"
    }
   ],
   "source": [
    "nn_learner.train_loop(dl)"
   ]
  },
  {
   "cell_type": "code",
   "execution_count": 23,
   "id": "e0163366",
   "metadata": {
    "execution": {
     "iopub.execute_input": "2021-10-02T00:21:30.371842Z",
     "iopub.status.busy": "2021-10-02T00:21:30.371326Z",
     "iopub.status.idle": "2021-10-02T00:21:44.054895Z",
     "shell.execute_reply": "2021-10-02T00:21:44.055652Z"
    },
    "papermill": {
     "duration": 13.72965,
     "end_time": "2021-10-02T00:21:44.055806",
     "exception": false,
     "start_time": "2021-10-02T00:21:30.326156",
     "status": "completed"
    },
    "tags": []
   },
   "outputs": [
    {
     "name": "stdout",
     "output_type": "stream",
     "text": [
      "Epoch 0, Loss 0.2703\n",
      "Training Accuracy: 0.5620, Testing Accuracy: 0.5580\n",
      "\n"
     ]
    },
    {
     "name": "stdout",
     "output_type": "stream",
     "text": [
      "Epoch 10, Loss 0.1014\n",
      "Training Accuracy: 0.9190, Testing Accuracy: 0.9309\n",
      "\n"
     ]
    },
    {
     "name": "stdout",
     "output_type": "stream",
     "text": [
      "Epoch 20, Loss 0.0778\n",
      "Training Accuracy: 0.9313, Testing Accuracy: 0.9410\n",
      "\n"
     ]
    },
    {
     "name": "stdout",
     "output_type": "stream",
     "text": [
      "Epoch 30, Loss 0.0672\n",
      "Training Accuracy: 0.9380, Testing Accuracy: 0.9496\n",
      "\n"
     ]
    },
    {
     "name": "stdout",
     "output_type": "stream",
     "text": [
      "Epoch 40, Loss 0.0608\n",
      "Training Accuracy: 0.9429, Testing Accuracy: 0.9516\n",
      "\n"
     ]
    },
    {
     "name": "stdout",
     "output_type": "stream",
     "text": [
      "Epoch 50, Loss 0.0565\n",
      "Training Accuracy: 0.9463, Testing Accuracy: 0.9561\n",
      "\n"
     ]
    },
    {
     "name": "stdout",
     "output_type": "stream",
     "text": [
      "Epoch 60, Loss 0.0532\n",
      "Training Accuracy: 0.9485, Testing Accuracy: 0.9572\n",
      "\n"
     ]
    },
    {
     "name": "stdout",
     "output_type": "stream",
     "text": [
      "Epoch 70, Loss 0.0508\n",
      "Training Accuracy: 0.9490, Testing Accuracy: 0.9597\n",
      "\n"
     ]
    },
    {
     "name": "stdout",
     "output_type": "stream",
     "text": [
      "Epoch 80, Loss 0.0488\n",
      "Training Accuracy: 0.9501, Testing Accuracy: 0.9612\n",
      "\n"
     ]
    },
    {
     "name": "stdout",
     "output_type": "stream",
     "text": [
      "Epoch 90, Loss 0.0471\n",
      "Training Accuracy: 0.9518, Testing Accuracy: 0.9617\n",
      "\n"
     ]
    },
    {
     "name": "stdout",
     "output_type": "stream",
     "text": [
      "Epoch 100, Loss 0.0457\n",
      "Training Accuracy: 0.9532, Testing Accuracy: 0.9627\n",
      "\n"
     ]
    },
    {
     "name": "stdout",
     "output_type": "stream",
     "text": [
      "Epoch 110, Loss 0.0445\n",
      "Training Accuracy: 0.9538, Testing Accuracy: 0.9627\n",
      "\n"
     ]
    },
    {
     "name": "stdout",
     "output_type": "stream",
     "text": [
      "Epoch 120, Loss 0.0435\n",
      "Training Accuracy: 0.9545, Testing Accuracy: 0.9632\n",
      "\n"
     ]
    },
    {
     "name": "stdout",
     "output_type": "stream",
     "text": [
      "Epoch 130, Loss 0.0426\n",
      "Training Accuracy: 0.9553, Testing Accuracy: 0.9642\n",
      "\n"
     ]
    },
    {
     "name": "stdout",
     "output_type": "stream",
     "text": [
      "Epoch 140, Loss 0.0418\n",
      "Training Accuracy: 0.9567, Testing Accuracy: 0.9647\n",
      "\n"
     ]
    },
    {
     "name": "stdout",
     "output_type": "stream",
     "text": [
      "Epoch 150, Loss 0.041\n",
      "Training Accuracy: 0.9573, Testing Accuracy: 0.9647\n",
      "\n"
     ]
    },
    {
     "name": "stdout",
     "output_type": "stream",
     "text": [
      "Epoch 160, Loss 0.0404\n",
      "Training Accuracy: 0.9575, Testing Accuracy: 0.9642\n",
      "\n"
     ]
    },
    {
     "name": "stdout",
     "output_type": "stream",
     "text": [
      "Epoch 170, Loss 0.0398\n",
      "Training Accuracy: 0.9580, Testing Accuracy: 0.9647\n",
      "\n"
     ]
    },
    {
     "name": "stdout",
     "output_type": "stream",
     "text": [
      "Epoch 180, Loss 0.0392\n",
      "Training Accuracy: 0.9587, Testing Accuracy: 0.9642\n",
      "\n"
     ]
    },
    {
     "name": "stdout",
     "output_type": "stream",
     "text": [
      "Epoch 190, Loss 0.0387\n",
      "Training Accuracy: 0.9592, Testing Accuracy: 0.9652\n",
      "\n"
     ]
    },
    {
     "name": "stdout",
     "output_type": "stream",
     "text": [
      "Epoch 200, Loss 0.0383\n",
      "Training Accuracy: 0.9592, Testing Accuracy: 0.9657\n",
      "\n"
     ]
    },
    {
     "name": "stdout",
     "output_type": "stream",
     "text": [
      "Epoch 210, Loss 0.0378\n",
      "Training Accuracy: 0.9596, Testing Accuracy: 0.9662\n",
      "\n"
     ]
    },
    {
     "name": "stdout",
     "output_type": "stream",
     "text": [
      "Epoch 220, Loss 0.0374\n",
      "Training Accuracy: 0.9599, Testing Accuracy: 0.9662\n",
      "\n"
     ]
    },
    {
     "name": "stdout",
     "output_type": "stream",
     "text": [
      "Epoch 230, Loss 0.0371\n",
      "Training Accuracy: 0.9604, Testing Accuracy: 0.9672\n",
      "\n"
     ]
    },
    {
     "name": "stdout",
     "output_type": "stream",
     "text": [
      "Epoch 240, Loss 0.0367\n",
      "Training Accuracy: 0.9606, Testing Accuracy: 0.9672\n",
      "\n"
     ]
    },
    {
     "data": {
      "text/plain": [
       "0.05189681769626274"
      ]
     },
     "execution_count": 23,
     "metadata": {},
     "output_type": "execute_result"
    }
   ],
   "source": [
    "lr_learner.train_loop(dl)"
   ]
  },
  {
   "cell_type": "code",
   "execution_count": 24,
   "id": "ca410940",
   "metadata": {
    "execution": {
     "iopub.execute_input": "2021-10-02T00:21:44.151157Z",
     "iopub.status.busy": "2021-10-02T00:21:44.150608Z",
     "iopub.status.idle": "2021-10-02T00:21:44.362279Z",
     "shell.execute_reply": "2021-10-02T00:21:44.362679Z"
    },
    "papermill": {
     "duration": 0.266488,
     "end_time": "2021-10-02T00:21:44.362833",
     "exception": false,
     "start_time": "2021-10-02T00:21:44.096345",
     "status": "completed"
    },
    "tags": []
   },
   "outputs": [
    {
     "data": {
      "text/plain": [
       "<matplotlib.legend.Legend at 0x7f5fda771898>"
      ]
     },
     "execution_count": 24,
     "metadata": {},
     "output_type": "execute_result"
    },
    {
     "data": {
      "image/png": "[encoded data removed]",
      "text/plain": [
       "<Figure size 1080x720 with 1 Axes>"
      ]
     },
     "metadata": {
      "needs_background": "light"
     },
     "output_type": "display_data"
    }
   ],
   "source": [
    "#comparing the results of NN and LR\n",
    "plt.figure(figsize=(15,10))\n",
    "\n",
    "# Neural Network plots\n",
    "plt.plot(acc_nn.accuracies, 'r-', label = \"Training Accuracies - NN\")\n",
    "plt.plot(acc_nn.test_accuracies, 'g-', label = \"Testing Accuracies - NN\")\n",
    "\n",
    "# Logistic Regression plots\n",
    "plt.plot(acc_lr.accuracies, 'k-', label = \"Training Accuracies - LR\")\n",
    "plt.plot(acc_lr.test_accuracies, 'b-', label = \"Testing Accuracies - LR\")\n",
    "plt.legend()"
   ]
  },
  {
   "cell_type": "markdown",
   "id": "80dfb35c",
   "metadata": {
    "papermill": {
     "duration": 0.042042,
     "end_time": "2021-10-02T00:21:44.446464",
     "exception": false,
     "start_time": "2021-10-02T00:21:44.404422",
     "status": "completed"
    },
    "tags": []
   },
   "source": [
    "#### Plotting the outputs of this layer of the NN.\n"
   ]
  },
  {
   "cell_type": "code",
   "execution_count": 25,
   "id": "45eb2ff5",
   "metadata": {
    "execution": {
     "iopub.execute_input": "2021-10-02T00:21:44.533534Z",
     "iopub.status.busy": "2021-10-02T00:21:44.532927Z",
     "iopub.status.idle": "2021-10-02T00:21:44.552645Z",
     "shell.execute_reply": "2021-10-02T00:21:44.553045Z"
    },
    "papermill": {
     "duration": 0.065409,
     "end_time": "2021-10-02T00:21:44.553213",
     "exception": false,
     "start_time": "2021-10-02T00:21:44.487804",
     "status": "completed"
    },
    "tags": []
   },
   "outputs": [],
   "source": [
    "new_model = Model(layers[:-2])\n",
    "testing_plot = new_model(testing_data_x)"
   ]
  },
  {
   "cell_type": "code",
   "execution_count": 26,
   "id": "4c0a5485",
   "metadata": {
    "execution": {
     "iopub.execute_input": "2021-10-02T00:21:44.649952Z",
     "iopub.status.busy": "2021-10-02T00:21:44.649413Z",
     "iopub.status.idle": "2021-10-02T00:21:44.854788Z",
     "shell.execute_reply": "2021-10-02T00:21:44.855207Z"
    },
    "papermill": {
     "duration": 0.250944,
     "end_time": "2021-10-02T00:21:44.855350",
     "exception": false,
     "start_time": "2021-10-02T00:21:44.604406",
     "status": "completed"
    },
    "tags": []
   },
   "outputs": [
    {
     "data": {
      "text/plain": [
       "Text(0.5, 1.0, 'Outputs')"
      ]
     },
     "execution_count": 26,
     "metadata": {},
     "output_type": "execute_result"
    },
    {
     "data": {
      "image/png": "[encoded data removed]",
      "text/plain": [
       "<Figure size 576x504 with 1 Axes>"
      ]
     },
     "metadata": {
      "needs_background": "light"
     },
     "output_type": "display_data"
    }
   ],
   "source": [
    "# Plotting the scatter plot of points and color coding by class\n",
    "plt.figure(figsize=(8,7))\n",
    "plt.scatter(testing_plot[:,0], testing_plot[:,1], alpha = 0.1, c = y_test.ravel());\n",
    "plt.title('Outputs')"
   ]
  },
  {
   "cell_type": "markdown",
   "id": "a74fcf8f",
   "metadata": {
    "papermill": {
     "duration": 0.043492,
     "end_time": "2021-10-02T00:21:44.943916",
     "exception": false,
     "start_time": "2021-10-02T00:21:44.900424",
     "status": "completed"
    },
    "tags": []
   },
   "source": [
    "Probability contours"
   ]
  },
  {
   "cell_type": "code",
   "execution_count": 27,
   "id": "d0afc8e3",
   "metadata": {
    "execution": {
     "iopub.execute_input": "2021-10-02T00:21:45.035838Z",
     "iopub.status.busy": "2021-10-02T00:21:45.035316Z",
     "iopub.status.idle": "2021-10-02T00:21:45.047528Z",
     "shell.execute_reply": "2021-10-02T00:21:45.047108Z"
    },
    "papermill": {
     "duration": 0.059529,
     "end_time": "2021-10-02T00:21:45.047648",
     "exception": false,
     "start_time": "2021-10-02T00:21:44.988119",
     "status": "completed"
    },
    "tags": []
   },
   "outputs": [],
   "source": [
    "model_prob = Model(layers[-2:]) "
   ]
  },
  {
   "cell_type": "code",
   "execution_count": 28,
   "id": "9b96e238",
   "metadata": {
    "execution": {
     "iopub.execute_input": "2021-10-02T00:21:45.140251Z",
     "iopub.status.busy": "2021-10-02T00:21:45.139304Z",
     "iopub.status.idle": "2021-10-02T00:21:45.153245Z",
     "shell.execute_reply": "2021-10-02T00:21:45.153660Z"
    },
    "papermill": {
     "duration": 0.062324,
     "end_time": "2021-10-02T00:21:45.153794",
     "exception": false,
     "start_time": "2021-10-02T00:21:45.091470",
     "status": "completed"
    },
    "tags": []
   },
   "outputs": [],
   "source": [
    "#creating the x and y ranges according to the above generated plot.\n",
    "x_range = np.linspace(-4, 1, 100) \n",
    "y_range = np.linspace(-6, 6, 100) \n",
    "x_grid, y_grid = np.meshgrid(x_range, y_range) # x_grid and y_grig are of size 100 X 100\n",
    "\n",
    "# converting x_grid and y_grid to continuous arrays\n",
    "x_gridflat = np.ravel(x_grid)\n",
    "y_gridflat = np.ravel(y_grid)\n",
    "\n",
    "# The last layer of the current model takes two columns as input. Hence transpose of np.vstack() is required.\n",
    "X = np.vstack((x_gridflat, y_gridflat)).T\n",
    "\n",
    "prob_contour = model_prob(X).reshape(100,100) "
   ]
  },
  {
   "cell_type": "code",
   "execution_count": 29,
   "id": "da72499a",
   "metadata": {
    "execution": {
     "iopub.execute_input": "2021-10-02T00:21:45.244849Z",
     "iopub.status.busy": "2021-10-02T00:21:45.244335Z",
     "iopub.status.idle": "2021-10-02T00:21:45.489332Z",
     "shell.execute_reply": "2021-10-02T00:21:45.489763Z"
    },
    "papermill": {
     "duration": 0.292355,
     "end_time": "2021-10-02T00:21:45.489908",
     "exception": false,
     "start_time": "2021-10-02T00:21:45.197553",
     "status": "completed"
    },
    "tags": []
   },
   "outputs": [
    {
     "data": {
      "image/png": "[encoded data removed]",
      "text/plain": [
       "<Figure size 720x648 with 1 Axes>"
      ]
     },
     "metadata": {
      "needs_background": "light"
     },
     "output_type": "display_data"
    }
   ],
   "source": [
    "plt.figure(figsize=(10,9))\n",
    "plt.scatter(testing_plot[:,0], testing_plot[:,1], alpha = 0.1, c = y_test.ravel())\n",
    "contours = plt.contour(x_grid,y_grid,prob_contour)\n",
    "plt.title('Probability Contours')\n",
    "plt.clabel(contours, inline = True );"
   ]
  },
  {
   "cell_type": "code",
   "execution_count": null,
   "id": "e81b4ac7",
   "metadata": {
    "papermill": {
     "duration": 0.045997,
     "end_time": "2021-10-02T00:21:45.610384",
     "exception": false,
     "start_time": "2021-10-02T00:21:45.564387",
     "status": "completed"
    },
    "tags": []
   },
   "outputs": [],
   "source": []
  }
 ],
 "metadata": {
  "kernelspec": {
   "display_name": "Python 3",
   "language": "python",
   "name": "python3"
  },
  "language_info": {
   "codemirror_mode": {
    "name": "ipython",
    "version": 3
   },
   "file_extension": ".py",
   "mimetype": "text/x-python",
   "name": "python",
   "nbconvert_exporter": "python",
   "pygments_lexer": "ipython3",
   "version": "3.6.15"
  },
  "papermill": {
   "default_parameters": {},
   "duration": 97.962104,
   "end_time": "2021-10-02T00:21:46.065277",
   "environment_variables": {},
   "exception": null,
   "input_path": "2020-08-11-part2.ipynb",
   "output_path": "2020-08-11-part2.ipynb",
   "parameters": {},
   "start_time": "2021-10-02T00:20:08.103173",
   "version": "2.3.3"
  }
 },
 "nbformat": 4,
 "nbformat_minor": 5
}