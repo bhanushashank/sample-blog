{
 "cells": [
  {
   "cell_type": "markdown",
   "id": "98380cd3",
   "metadata": {
    "papermill": {
     "duration": 0.028743,
     "end_time": "2021-12-31T00:25:00.686952",
     "exception": false,
     "start_time": "2021-12-31T00:25:00.658209",
     "status": "completed"
    },
    "tags": []
   },
   "source": [
    "# Distinguish Your Own Digits (DYOD)"
   ]
  },
  {
   "cell_type": "markdown",
   "id": "ef31240d",
   "metadata": {
    "papermill": {
     "duration": 0.023685,
     "end_time": "2021-12-31T00:25:00.735139",
     "exception": false,
     "start_time": "2021-12-31T00:25:00.711454",
     "status": "completed"
    },
    "tags": []
   },
   "source": [
    "You are going to write a classifier that distinguishes between the number 3 and number 8."
   ]
  },
  {
   "cell_type": "code",
   "execution_count": 1,
   "id": "b15c8646",
   "metadata": {
    "execution": {
     "iopub.execute_input": "2021-12-31T00:25:00.794794Z",
     "iopub.status.busy": "2021-12-31T00:25:00.794267Z",
     "iopub.status.idle": "2021-12-31T00:25:00.804846Z",
     "shell.execute_reply": "2021-12-31T00:25:00.804387Z"
    },
    "papermill": {
     "duration": 0.044448,
     "end_time": "2021-12-31T00:25:00.804978",
     "exception": false,
     "start_time": "2021-12-31T00:25:00.760530",
     "status": "completed"
    },
    "tags": []
   },
   "outputs": [],
   "source": [
    "%load_ext autoreload\n",
    "%autoreload 2"
   ]
  },
  {
   "cell_type": "code",
   "execution_count": 2,
   "id": "22ef38dc",
   "metadata": {
    "execution": {
     "iopub.execute_input": "2021-12-31T00:25:00.857753Z",
     "iopub.status.busy": "2021-12-31T00:25:00.857221Z",
     "iopub.status.idle": "2021-12-31T00:25:01.436646Z",
     "shell.execute_reply": "2021-12-31T00:25:01.437174Z"
    },
    "papermill": {
     "duration": 0.608405,
     "end_time": "2021-12-31T00:25:01.437352",
     "exception": false,
     "start_time": "2021-12-31T00:25:00.828947",
     "status": "completed"
    },
    "tags": []
   },
   "outputs": [],
   "source": [
    "%matplotlib inline\n",
    "import numpy as np\n",
    "import matplotlib.pyplot as plt\n",
    "import pandas as pd"
   ]
  },
  {
   "cell_type": "markdown",
   "id": "ba036198",
   "metadata": {
    "papermill": {
     "duration": 0.024961,
     "end_time": "2021-12-31T00:25:01.487482",
     "exception": false,
     "start_time": "2021-12-31T00:25:01.462521",
     "status": "completed"
    },
    "tags": []
   },
   "source": [
    "From the command line run `pip install mnist`. This is a library that will help you bring down the mnist dataset. If you run this from a notebook, you need to put  `!pip install mnist` in a cell by itself."
   ]
  },
  {
   "cell_type": "code",
   "execution_count": 3,
   "id": "bb6ad8a1",
   "metadata": {
    "execution": {
     "iopub.execute_input": "2021-12-31T00:25:01.539781Z",
     "iopub.status.busy": "2021-12-31T00:25:01.539274Z",
     "iopub.status.idle": "2021-12-31T00:25:03.181808Z",
     "shell.execute_reply": "2021-12-31T00:25:03.181293Z"
    },
    "papermill": {
     "duration": 1.670081,
     "end_time": "2021-12-31T00:25:03.181936",
     "exception": false,
     "start_time": "2021-12-31T00:25:01.511855",
     "status": "completed"
    },
    "tags": []
   },
   "outputs": [
    {
     "name": "stdout",
     "output_type": "stream",
     "text": [
      "Collecting mnist\r\n"
     ]
    },
    {
     "name": "stdout",
     "output_type": "stream",
     "text": [
      "  Downloading mnist-0.2.2-py2.py3-none-any.whl (3.5 kB)\r\n",
      "Requirement already satisfied: numpy in /opt/hostedtoolcache/Python/3.6.15/x64/lib/python3.6/site-packages (from mnist) (1.19.5)\r\n"
     ]
    },
    {
     "name": "stdout",
     "output_type": "stream",
     "text": [
      "Installing collected packages: mnist\r\n",
      "Successfully installed mnist-0.2.2\r\n"
     ]
    }
   ],
   "source": [
    "!pip install mnist"
   ]
  },
  {
   "cell_type": "markdown",
   "id": "69df9c9a",
   "metadata": {
    "papermill": {
     "duration": 0.024669,
     "end_time": "2021-12-31T00:25:03.231698",
     "exception": false,
     "start_time": "2021-12-31T00:25:03.207029",
     "status": "completed"
    },
    "tags": []
   },
   "source": [
    "## Preparing the Data"
   ]
  },
  {
   "cell_type": "code",
   "execution_count": 4,
   "id": "7f69d806",
   "metadata": {
    "execution": {
     "iopub.execute_input": "2021-12-31T00:25:03.285172Z",
     "iopub.status.busy": "2021-12-31T00:25:03.284647Z",
     "iopub.status.idle": "2021-12-31T00:25:03.300072Z",
     "shell.execute_reply": "2021-12-31T00:25:03.299659Z"
    },
    "papermill": {
     "duration": 0.043887,
     "end_time": "2021-12-31T00:25:03.300182",
     "exception": false,
     "start_time": "2021-12-31T00:25:03.256295",
     "status": "completed"
    },
    "tags": []
   },
   "outputs": [],
   "source": [
    "import mnist"
   ]
  },
  {
   "cell_type": "code",
   "execution_count": 5,
   "id": "a411e44f",
   "metadata": {
    "execution": {
     "iopub.execute_input": "2021-12-31T00:25:03.352895Z",
     "iopub.status.busy": "2021-12-31T00:25:03.352339Z",
     "iopub.status.idle": "2021-12-31T00:25:03.848888Z",
     "shell.execute_reply": "2021-12-31T00:25:03.848343Z"
    },
    "papermill": {
     "duration": 0.524111,
     "end_time": "2021-12-31T00:25:03.849029",
     "exception": false,
     "start_time": "2021-12-31T00:25:03.324918",
     "status": "completed"
    },
    "tags": []
   },
   "outputs": [],
   "source": [
    "train_images = mnist.train_images()\n",
    "train_labels = mnist.train_labels()"
   ]
  },
  {
   "cell_type": "code",
   "execution_count": 6,
   "id": "dceab3a5",
   "metadata": {
    "execution": {
     "iopub.execute_input": "2021-12-31T00:25:03.904958Z",
     "iopub.status.busy": "2021-12-31T00:25:03.902834Z",
     "iopub.status.idle": "2021-12-31T00:25:03.917909Z",
     "shell.execute_reply": "2021-12-31T00:25:03.917502Z"
    },
    "papermill": {
     "duration": 0.043992,
     "end_time": "2021-12-31T00:25:03.918020",
     "exception": false,
     "start_time": "2021-12-31T00:25:03.874028",
     "status": "completed"
    },
    "tags": []
   },
   "outputs": [
    {
     "data": {
      "text/plain": [
       "((60000, 28, 28), (60000,))"
      ]
     },
     "execution_count": 6,
     "metadata": {},
     "output_type": "execute_result"
    }
   ],
   "source": [
    "train_images.shape, train_labels.shape"
   ]
  },
  {
   "cell_type": "code",
   "execution_count": 7,
   "id": "f50dc2bb",
   "metadata": {
    "execution": {
     "iopub.execute_input": "2021-12-31T00:25:03.970975Z",
     "iopub.status.busy": "2021-12-31T00:25:03.970471Z",
     "iopub.status.idle": "2021-12-31T00:25:04.081025Z",
     "shell.execute_reply": "2021-12-31T00:25:04.080394Z"
    },
    "papermill": {
     "duration": 0.138199,
     "end_time": "2021-12-31T00:25:04.081164",
     "exception": false,
     "start_time": "2021-12-31T00:25:03.942965",
     "status": "completed"
    },
    "tags": []
   },
   "outputs": [],
   "source": [
    "test_images = mnist.test_images()\n",
    "test_labels = mnist.test_labels()"
   ]
  },
  {
   "cell_type": "code",
   "execution_count": 8,
   "id": "fc38cf1b",
   "metadata": {
    "execution": {
     "iopub.execute_input": "2021-12-31T00:25:04.145287Z",
     "iopub.status.busy": "2021-12-31T00:25:04.144762Z",
     "iopub.status.idle": "2021-12-31T00:25:04.152973Z",
     "shell.execute_reply": "2021-12-31T00:25:04.152532Z"
    },
    "papermill": {
     "duration": 0.046252,
     "end_time": "2021-12-31T00:25:04.153087",
     "exception": false,
     "start_time": "2021-12-31T00:25:04.106835",
     "status": "completed"
    },
    "tags": []
   },
   "outputs": [
    {
     "data": {
      "text/plain": [
       "((10000, 28, 28), (10000,))"
      ]
     },
     "execution_count": 8,
     "metadata": {},
     "output_type": "execute_result"
    }
   ],
   "source": [
    "test_images.shape, test_labels.shape"
   ]
  },
  {
   "cell_type": "code",
   "execution_count": 9,
   "id": "f9ed8fe0",
   "metadata": {
    "execution": {
     "iopub.execute_input": "2021-12-31T00:25:04.209718Z",
     "iopub.status.busy": "2021-12-31T00:25:04.209204Z",
     "iopub.status.idle": "2021-12-31T00:25:04.341638Z",
     "shell.execute_reply": "2021-12-31T00:25:04.342085Z"
    },
    "papermill": {
     "duration": 0.163903,
     "end_time": "2021-12-31T00:25:04.342237",
     "exception": false,
     "start_time": "2021-12-31T00:25:04.178334",
     "status": "completed"
    },
    "tags": []
   },
   "outputs": [
    {
     "name": "stdout",
     "output_type": "stream",
     "text": [
      "2\n"
     ]
    },
    {
     "data": {
      "text/plain": [
       "<matplotlib.image.AxesImage at 0x7fc17bf26400>"
      ]
     },
     "execution_count": 9,
     "metadata": {},
     "output_type": "execute_result"
    },
    {
     "data": {
      "image/png": "[encoded data removed]",
      "text/plain": [
       "<Figure size 432x288 with 1 Axes>"
      ]
     },
     "metadata": {
      "needs_background": "light"
     },
     "output_type": "display_data"
    }
   ],
   "source": [
    "image_index = 7776 # You may select anything up to 60,000\n",
    "print(train_labels[image_index]) \n",
    "plt.imshow(train_images[image_index], cmap='Greys')"
   ]
  },
  {
   "cell_type": "markdown",
   "id": "a8d2388d",
   "metadata": {
    "papermill": {
     "duration": 0.026726,
     "end_time": "2021-12-31T00:25:04.395930",
     "exception": false,
     "start_time": "2021-12-31T00:25:04.369204",
     "status": "completed"
    },
    "tags": []
   },
   "source": [
    "## Filter data to get 3 and 8 out"
   ]
  },
  {
   "cell_type": "code",
   "execution_count": 10,
   "id": "776f7fc7",
   "metadata": {
    "execution": {
     "iopub.execute_input": "2021-12-31T00:25:04.452990Z",
     "iopub.status.busy": "2021-12-31T00:25:04.452452Z",
     "iopub.status.idle": "2021-12-31T00:25:04.469228Z",
     "shell.execute_reply": "2021-12-31T00:25:04.468803Z"
    },
    "papermill": {
     "duration": 0.046935,
     "end_time": "2021-12-31T00:25:04.469346",
     "exception": false,
     "start_time": "2021-12-31T00:25:04.422411",
     "status": "completed"
    },
    "tags": []
   },
   "outputs": [],
   "source": [
    "train_filter = np.where((train_labels == 3 ) | (train_labels == 8))\n",
    "test_filter = np.where((test_labels == 3) | (test_labels == 8))\n",
    "X_train, y_train = train_images[train_filter], train_labels[train_filter]\n",
    "X_test, y_test = test_images[test_filter], test_labels[test_filter]"
   ]
  },
  {
   "cell_type": "markdown",
   "id": "948f0b7e",
   "metadata": {
    "papermill": {
     "duration": 0.026416,
     "end_time": "2021-12-31T00:25:04.522111",
     "exception": false,
     "start_time": "2021-12-31T00:25:04.495695",
     "status": "completed"
    },
    "tags": []
   },
   "source": [
    "We normalize the pizel values in the 0 to 1 range"
   ]
  },
  {
   "cell_type": "code",
   "execution_count": 11,
   "id": "ee4c2166",
   "metadata": {
    "execution": {
     "iopub.execute_input": "2021-12-31T00:25:04.578070Z",
     "iopub.status.busy": "2021-12-31T00:25:04.577557Z",
     "iopub.status.idle": "2021-12-31T00:25:04.625693Z",
     "shell.execute_reply": "2021-12-31T00:25:04.626160Z"
    },
    "papermill": {
     "duration": 0.078035,
     "end_time": "2021-12-31T00:25:04.626329",
     "exception": false,
     "start_time": "2021-12-31T00:25:04.548294",
     "status": "completed"
    },
    "tags": []
   },
   "outputs": [],
   "source": [
    "X_train = X_train/255.\n",
    "X_test = X_test/255."
   ]
  },
  {
   "cell_type": "markdown",
   "id": "ddcf4fab",
   "metadata": {
    "papermill": {
     "duration": 0.026261,
     "end_time": "2021-12-31T00:25:04.680324",
     "exception": false,
     "start_time": "2021-12-31T00:25:04.654063",
     "status": "completed"
    },
    "tags": []
   },
   "source": [
    "And setup the labels as 1 (when the digit is 3) and 0 (when the digit is 8)"
   ]
  },
  {
   "cell_type": "code",
   "execution_count": 12,
   "id": "7dc908f2",
   "metadata": {
    "execution": {
     "iopub.execute_input": "2021-12-31T00:25:04.738324Z",
     "iopub.status.busy": "2021-12-31T00:25:04.737799Z",
     "iopub.status.idle": "2021-12-31T00:25:04.748782Z",
     "shell.execute_reply": "2021-12-31T00:25:04.748330Z"
    },
    "papermill": {
     "duration": 0.042401,
     "end_time": "2021-12-31T00:25:04.748903",
     "exception": false,
     "start_time": "2021-12-31T00:25:04.706502",
     "status": "completed"
    },
    "tags": []
   },
   "outputs": [],
   "source": [
    "y_train = 1*(y_train==3)\n",
    "y_test = 1*(y_test==3)"
   ]
  },
  {
   "cell_type": "code",
   "execution_count": 13,
   "id": "01e4e969",
   "metadata": {
    "execution": {
     "iopub.execute_input": "2021-12-31T00:25:04.804966Z",
     "iopub.status.busy": "2021-12-31T00:25:04.804415Z",
     "iopub.status.idle": "2021-12-31T00:25:04.817780Z",
     "shell.execute_reply": "2021-12-31T00:25:04.817367Z"
    },
    "papermill": {
     "duration": 0.042674,
     "end_time": "2021-12-31T00:25:04.817891",
     "exception": false,
     "start_time": "2021-12-31T00:25:04.775217",
     "status": "completed"
    },
    "tags": []
   },
   "outputs": [
    {
     "data": {
      "text/plain": [
       "((11982, 28, 28), (1984, 28, 28))"
      ]
     },
     "execution_count": 13,
     "metadata": {},
     "output_type": "execute_result"
    }
   ],
   "source": [
    "X_train.shape, X_test.shape"
   ]
  },
  {
   "cell_type": "markdown",
   "id": "5ccf3f85",
   "metadata": {
    "papermill": {
     "duration": 0.026408,
     "end_time": "2021-12-31T00:25:04.870709",
     "exception": false,
     "start_time": "2021-12-31T00:25:04.844301",
     "status": "completed"
    },
    "tags": []
   },
   "source": [
    "We reshape the data to flatten the image pixels into a set of features or co-variates:"
   ]
  },
  {
   "cell_type": "code",
   "execution_count": 14,
   "id": "5286a4a3",
   "metadata": {
    "execution": {
     "iopub.execute_input": "2021-12-31T00:25:04.933473Z",
     "iopub.status.busy": "2021-12-31T00:25:04.932954Z",
     "iopub.status.idle": "2021-12-31T00:25:04.944686Z",
     "shell.execute_reply": "2021-12-31T00:25:04.944249Z"
    },
    "papermill": {
     "duration": 0.047492,
     "end_time": "2021-12-31T00:25:04.944803",
     "exception": false,
     "start_time": "2021-12-31T00:25:04.897311",
     "status": "completed"
    },
    "tags": []
   },
   "outputs": [
    {
     "data": {
      "text/plain": [
       "((11982, 784), (1984, 784))"
      ]
     },
     "execution_count": 14,
     "metadata": {},
     "output_type": "execute_result"
    }
   ],
   "source": [
    "X_train = X_train.reshape(X_train.shape[0], -1)\n",
    "X_test = X_test.reshape(X_test.shape[0], -1)\n",
    "X_train.shape, X_test.shape"
   ]
  },
  {
   "cell_type": "code",
   "execution_count": 15,
   "id": "73c5f88a",
   "metadata": {
    "execution": {
     "iopub.execute_input": "2021-12-31T00:25:05.003825Z",
     "iopub.status.busy": "2021-12-31T00:25:05.003294Z",
     "iopub.status.idle": "2021-12-31T00:25:05.022699Z",
     "shell.execute_reply": "2021-12-31T00:25:05.023086Z"
    },
    "papermill": {
     "duration": 0.051511,
     "end_time": "2021-12-31T00:25:05.023230",
     "exception": false,
     "start_time": "2021-12-31T00:25:04.971719",
     "status": "completed"
    },
    "tags": []
   },
   "outputs": [],
   "source": [
    "#Impoting functions from 'Kudzu'\n",
    "from kudzu.model import Model\n",
    "from kudzu.train import Learner\n",
    "from kudzu.optim import GD\n",
    "from kudzu.data import Data, Sampler,Dataloader\n",
    "\n",
    "from kudzu.callbacks import AccCallback\n",
    "from kudzu.callbacks import ClfCallback\n",
    "\n",
    "from kudzu.loss import MSE\n",
    "\n",
    "from kudzu.layer import Sigmoid,Relu\n",
    "from kudzu.layer import Affine"
   ]
  },
  {
   "cell_type": "markdown",
   "id": "bc01172a",
   "metadata": {
    "papermill": {
     "duration": 0.02689,
     "end_time": "2021-12-31T00:25:05.077251",
     "exception": false,
     "start_time": "2021-12-31T00:25:05.050361",
     "status": "completed"
    },
    "tags": []
   },
   "source": [
    "### Let us create a `Config` class, to store important parameters. \n",
    "This class essentially plays the role of a dictionary."
   ]
  },
  {
   "cell_type": "code",
   "execution_count": 16,
   "id": "978281aa",
   "metadata": {
    "execution": {
     "iopub.execute_input": "2021-12-31T00:25:05.136654Z",
     "iopub.status.busy": "2021-12-31T00:25:05.136097Z",
     "iopub.status.idle": "2021-12-31T00:25:05.148169Z",
     "shell.execute_reply": "2021-12-31T00:25:05.147723Z"
    },
    "papermill": {
     "duration": 0.043975,
     "end_time": "2021-12-31T00:25:05.148285",
     "exception": false,
     "start_time": "2021-12-31T00:25:05.104310",
     "status": "completed"
    },
    "tags": []
   },
   "outputs": [],
   "source": [
    "class Config:\n",
    "    pass\n",
    "config = Config()\n",
    "config.lr = 0.001\n",
    "config.num_epochs = 250\n",
    "config.bs = 50"
   ]
  },
  {
   "cell_type": "markdown",
   "id": "1385fa59",
   "metadata": {
    "papermill": {
     "duration": 0.026669,
     "end_time": "2021-12-31T00:25:05.202046",
     "exception": false,
     "start_time": "2021-12-31T00:25:05.175377",
     "status": "completed"
    },
    "tags": []
   },
   "source": [
    "### Running Models with the Training data\n",
    "Details about the network layers:\n",
    "- A first affine layer has 784 inputs and does 100 affine transforms. These are followed by a Relu\n",
    "- A second affine layer has 100 inputs from the 100 activations of the past layer, and does 100 affine transforms. These are followed by a Relu\n",
    "- A third affine layer has 100 activations and does 2 affine transformations to create an embedding for visualization. There is no non-linearity here.\n",
    "- A final \"logistic regression\" which has an affine transform from 2 inputs to 1 output, which is squeezed through a sigmoid.\n"
   ]
  },
  {
   "cell_type": "code",
   "execution_count": 17,
   "id": "2b9c66db",
   "metadata": {
    "execution": {
     "iopub.execute_input": "2021-12-31T00:25:05.274202Z",
     "iopub.status.busy": "2021-12-31T00:25:05.273659Z",
     "iopub.status.idle": "2021-12-31T00:25:05.279526Z",
     "shell.execute_reply": "2021-12-31T00:25:05.279089Z"
    },
    "papermill": {
     "duration": 0.050852,
     "end_time": "2021-12-31T00:25:05.279635",
     "exception": false,
     "start_time": "2021-12-31T00:25:05.228783",
     "status": "completed"
    },
    "tags": []
   },
   "outputs": [],
   "source": [
    "data = Data(X_train, y_train.reshape(-1,1))\n",
    "sampler = Sampler(data, config.bs, shuffle=True)\n",
    "\n",
    "dl = Dataloader(data, sampler)\n",
    "\n",
    "opt = GD(config.lr)\n",
    "loss = MSE()"
   ]
  },
  {
   "cell_type": "code",
   "execution_count": 18,
   "id": "b275e4c2",
   "metadata": {
    "execution": {
     "iopub.execute_input": "2021-12-31T00:25:05.350548Z",
     "iopub.status.busy": "2021-12-31T00:25:05.336287Z",
     "iopub.status.idle": "2021-12-31T00:25:05.352455Z",
     "shell.execute_reply": "2021-12-31T00:25:05.352851Z"
    },
    "papermill": {
     "duration": 0.046445,
     "end_time": "2021-12-31T00:25:05.352975",
     "exception": false,
     "start_time": "2021-12-31T00:25:05.306530",
     "status": "completed"
    },
    "tags": []
   },
   "outputs": [],
   "source": [
    "training_data_x = X_train\n",
    "testing_data_x = X_test\n",
    "training_data_y = y_train.reshape(-1,1)\n",
    "testing_data_y = y_test.reshape(-1,1)"
   ]
  },
  {
   "cell_type": "code",
   "execution_count": 19,
   "id": "76951160",
   "metadata": {
    "execution": {
     "iopub.execute_input": "2021-12-31T00:25:05.417168Z",
     "iopub.status.busy": "2021-12-31T00:25:05.410322Z",
     "iopub.status.idle": "2021-12-31T00:25:05.429239Z",
     "shell.execute_reply": "2021-12-31T00:25:05.428802Z"
    },
    "papermill": {
     "duration": 0.049629,
     "end_time": "2021-12-31T00:25:05.429349",
     "exception": false,
     "start_time": "2021-12-31T00:25:05.379720",
     "status": "completed"
    },
    "tags": []
   },
   "outputs": [
    {
     "name": "stdout",
     "output_type": "stream",
     "text": [
      "xavier\n",
      "xavier\n",
      "xavier\n",
      "xavier\n",
      "xavier\n"
     ]
    }
   ],
   "source": [
    "layers = [Affine(\"first\", 784, 100), Relu(\"first\"), Affine(\"second\", 100, 100), Relu(\"second\"), Affine(\"third\", 100, 2), Affine(\"last\", 2, 1), Sigmoid(\"last\")]\n",
    "model_nn = Model(layers)\n",
    "model_lr = Model([Affine(\"logits\", 784, 1), Sigmoid(\"sigmoid\")])"
   ]
  },
  {
   "cell_type": "code",
   "execution_count": 20,
   "id": "6eede77a",
   "metadata": {
    "execution": {
     "iopub.execute_input": "2021-12-31T00:25:05.487300Z",
     "iopub.status.busy": "2021-12-31T00:25:05.486795Z",
     "iopub.status.idle": "2021-12-31T00:25:05.498892Z",
     "shell.execute_reply": "2021-12-31T00:25:05.498479Z"
    },
    "papermill": {
     "duration": 0.042404,
     "end_time": "2021-12-31T00:25:05.499003",
     "exception": false,
     "start_time": "2021-12-31T00:25:05.456599",
     "status": "completed"
    },
    "tags": []
   },
   "outputs": [],
   "source": [
    "nn_learner = Learner(loss, model_nn, opt, config.num_epochs)\n",
    "acc_nn = ClfCallback(nn_learner, config.bs, training_data_x , testing_data_x, training_data_y, testing_data_y)\n",
    "nn_learner.set_callbacks([acc_nn])"
   ]
  },
  {
   "cell_type": "code",
   "execution_count": 21,
   "id": "877b6cc7",
   "metadata": {
    "execution": {
     "iopub.execute_input": "2021-12-31T00:25:05.557281Z",
     "iopub.status.busy": "2021-12-31T00:25:05.556746Z",
     "iopub.status.idle": "2021-12-31T00:25:05.570407Z",
     "shell.execute_reply": "2021-12-31T00:25:05.569478Z"
    },
    "papermill": {
     "duration": 0.044474,
     "end_time": "2021-12-31T00:25:05.570522",
     "exception": false,
     "start_time": "2021-12-31T00:25:05.526048",
     "status": "completed"
    },
    "tags": []
   },
   "outputs": [],
   "source": [
    "lr_learner = Learner(loss, model_lr, opt, config.num_epochs)\n",
    "acc_lr = ClfCallback(lr_learner, config.bs, training_data_x , testing_data_x, training_data_y, testing_data_y)\n",
    "lr_learner.set_callbacks([acc_lr])"
   ]
  },
  {
   "cell_type": "code",
   "execution_count": 22,
   "id": "d9b133c3",
   "metadata": {
    "execution": {
     "iopub.execute_input": "2021-12-31T00:25:05.629386Z",
     "iopub.status.busy": "2021-12-31T00:25:05.627995Z",
     "iopub.status.idle": "2021-12-31T00:26:20.668482Z",
     "shell.execute_reply": "2021-12-31T00:26:20.669230Z"
    },
    "papermill": {
     "duration": 75.071777,
     "end_time": "2021-12-31T00:26:20.669390",
     "exception": false,
     "start_time": "2021-12-31T00:25:05.597613",
     "status": "completed"
    },
    "tags": []
   },
   "outputs": [
    {
     "name": "stdout",
     "output_type": "stream",
     "text": [
      "Epoch 0, Loss 0.244\n",
      "Training Accuracy: 0.5123, Testing Accuracy: 0.5096\n",
      "\n"
     ]
    },
    {
     "name": "stdout",
     "output_type": "stream",
     "text": [
      "Epoch 10, Loss 0.1712\n",
      "Training Accuracy: 0.8797, Testing Accuracy: 0.8896\n",
      "\n"
     ]
    },
    {
     "name": "stdout",
     "output_type": "stream",
     "text": [
      "Epoch 20, Loss 0.0841\n",
      "Training Accuracy: 0.9206, Testing Accuracy: 0.9320\n",
      "\n"
     ]
    },
    {
     "name": "stdout",
     "output_type": "stream",
     "text": [
      "Epoch 30, Loss 0.0577\n",
      "Training Accuracy: 0.9386, Testing Accuracy: 0.9491\n",
      "\n"
     ]
    },
    {
     "name": "stdout",
     "output_type": "stream",
     "text": [
      "Epoch 40, Loss 0.0468\n",
      "Training Accuracy: 0.9465, Testing Accuracy: 0.9561\n",
      "\n"
     ]
    },
    {
     "name": "stdout",
     "output_type": "stream",
     "text": [
      "Epoch 50, Loss 0.0407\n",
      "Training Accuracy: 0.9519, Testing Accuracy: 0.9642\n",
      "\n"
     ]
    },
    {
     "name": "stdout",
     "output_type": "stream",
     "text": [
      "Epoch 60, Loss 0.0368\n",
      "Training Accuracy: 0.9567, Testing Accuracy: 0.9662\n",
      "\n"
     ]
    },
    {
     "name": "stdout",
     "output_type": "stream",
     "text": [
      "Epoch 70, Loss 0.0341\n",
      "Training Accuracy: 0.9592, Testing Accuracy: 0.9667\n",
      "\n"
     ]
    },
    {
     "name": "stdout",
     "output_type": "stream",
     "text": [
      "Epoch 80, Loss 0.032\n",
      "Training Accuracy: 0.9616, Testing Accuracy: 0.9677\n",
      "\n"
     ]
    },
    {
     "name": "stdout",
     "output_type": "stream",
     "text": [
      "Epoch 90, Loss 0.0303\n",
      "Training Accuracy: 0.9635, Testing Accuracy: 0.9682\n",
      "\n"
     ]
    },
    {
     "name": "stdout",
     "output_type": "stream",
     "text": [
      "Epoch 100, Loss 0.029\n",
      "Training Accuracy: 0.9652, Testing Accuracy: 0.9682\n",
      "\n"
     ]
    },
    {
     "name": "stdout",
     "output_type": "stream",
     "text": [
      "Epoch 110, Loss 0.0278\n",
      "Training Accuracy: 0.9669, Testing Accuracy: 0.9682\n",
      "\n"
     ]
    },
    {
     "name": "stdout",
     "output_type": "stream",
     "text": [
      "Epoch 120, Loss 0.0268\n",
      "Training Accuracy: 0.9680, Testing Accuracy: 0.9688\n",
      "\n"
     ]
    },
    {
     "name": "stdout",
     "output_type": "stream",
     "text": [
      "Epoch 130, Loss 0.0259\n",
      "Training Accuracy: 0.9689, Testing Accuracy: 0.9693\n",
      "\n"
     ]
    },
    {
     "name": "stdout",
     "output_type": "stream",
     "text": [
      "Epoch 140, Loss 0.0251\n",
      "Training Accuracy: 0.9702, Testing Accuracy: 0.9703\n",
      "\n"
     ]
    },
    {
     "name": "stdout",
     "output_type": "stream",
     "text": [
      "Epoch 150, Loss 0.0244\n",
      "Training Accuracy: 0.9712, Testing Accuracy: 0.9713\n",
      "\n"
     ]
    },
    {
     "name": "stdout",
     "output_type": "stream",
     "text": [
      "Epoch 160, Loss 0.0237\n",
      "Training Accuracy: 0.9720, Testing Accuracy: 0.9718\n",
      "\n"
     ]
    },
    {
     "name": "stdout",
     "output_type": "stream",
     "text": [
      "Epoch 170, Loss 0.0231\n",
      "Training Accuracy: 0.9730, Testing Accuracy: 0.9733\n",
      "\n"
     ]
    },
    {
     "name": "stdout",
     "output_type": "stream",
     "text": [
      "Epoch 180, Loss 0.0225\n",
      "Training Accuracy: 0.9740, Testing Accuracy: 0.9728\n",
      "\n"
     ]
    },
    {
     "name": "stdout",
     "output_type": "stream",
     "text": [
      "Epoch 190, Loss 0.022\n",
      "Training Accuracy: 0.9745, Testing Accuracy: 0.9738\n",
      "\n"
     ]
    },
    {
     "name": "stdout",
     "output_type": "stream",
     "text": [
      "Epoch 200, Loss 0.0215\n",
      "Training Accuracy: 0.9750, Testing Accuracy: 0.9748\n",
      "\n"
     ]
    },
    {
     "name": "stdout",
     "output_type": "stream",
     "text": [
      "Epoch 210, Loss 0.021\n",
      "Training Accuracy: 0.9759, Testing Accuracy: 0.9743\n",
      "\n"
     ]
    },
    {
     "name": "stdout",
     "output_type": "stream",
     "text": [
      "Epoch 220, Loss 0.0205\n",
      "Training Accuracy: 0.9768, Testing Accuracy: 0.9743\n",
      "\n"
     ]
    },
    {
     "name": "stdout",
     "output_type": "stream",
     "text": [
      "Epoch 230, Loss 0.0201\n",
      "Training Accuracy: 0.9773, Testing Accuracy: 0.9743\n",
      "\n"
     ]
    },
    {
     "name": "stdout",
     "output_type": "stream",
     "text": [
      "Epoch 240, Loss 0.0196\n",
      "Training Accuracy: 0.9777, Testing Accuracy: 0.9743\n",
      "\n"
     ]
    },
    {
     "data": {
      "text/plain": [
       "0.009604614045538067"
      ]
     },
     "execution_count": 22,
     "metadata": {},
     "output_type": "execute_result"
    }
   ],
   "source": [
    "nn_learner.train_loop(dl)"
   ]
  },
  {
   "cell_type": "code",
   "execution_count": 23,
   "id": "e0163366",
   "metadata": {
    "execution": {
     "iopub.execute_input": "2021-12-31T00:26:20.749762Z",
     "iopub.status.busy": "2021-12-31T00:26:20.749249Z",
     "iopub.status.idle": "2021-12-31T00:26:34.357345Z",
     "shell.execute_reply": "2021-12-31T00:26:34.358083Z"
    },
    "papermill": {
     "duration": 13.653747,
     "end_time": "2021-12-31T00:26:34.358239",
     "exception": false,
     "start_time": "2021-12-31T00:26:20.704492",
     "status": "completed"
    },
    "tags": []
   },
   "outputs": [
    {
     "name": "stdout",
     "output_type": "stream",
     "text": [
      "Epoch 0, Loss 0.2826\n",
      "Training Accuracy: 0.5188, Testing Accuracy: 0.5444\n",
      "\n"
     ]
    },
    {
     "name": "stdout",
     "output_type": "stream",
     "text": [
      "Epoch 10, Loss 0.1084\n",
      "Training Accuracy: 0.8946, Testing Accuracy: 0.9108\n",
      "\n"
     ]
    },
    {
     "name": "stdout",
     "output_type": "stream",
     "text": [
      "Epoch 20, Loss 0.0824\n",
      "Training Accuracy: 0.9192, Testing Accuracy: 0.9299\n",
      "\n"
     ]
    },
    {
     "name": "stdout",
     "output_type": "stream",
     "text": [
      "Epoch 30, Loss 0.0705\n",
      "Training Accuracy: 0.9327, Testing Accuracy: 0.9415\n",
      "\n"
     ]
    },
    {
     "name": "stdout",
     "output_type": "stream",
     "text": [
      "Epoch 40, Loss 0.0633\n",
      "Training Accuracy: 0.9379, Testing Accuracy: 0.9481\n",
      "\n"
     ]
    },
    {
     "name": "stdout",
     "output_type": "stream",
     "text": [
      "Epoch 50, Loss 0.0585\n",
      "Training Accuracy: 0.9415, Testing Accuracy: 0.9536\n",
      "\n"
     ]
    },
    {
     "name": "stdout",
     "output_type": "stream",
     "text": [
      "Epoch 60, Loss 0.0549\n",
      "Training Accuracy: 0.9437, Testing Accuracy: 0.9572\n",
      "\n"
     ]
    },
    {
     "name": "stdout",
     "output_type": "stream",
     "text": [
      "Epoch 70, Loss 0.0522\n",
      "Training Accuracy: 0.9467, Testing Accuracy: 0.9567\n",
      "\n"
     ]
    },
    {
     "name": "stdout",
     "output_type": "stream",
     "text": [
      "Epoch 80, Loss 0.05\n",
      "Training Accuracy: 0.9483, Testing Accuracy: 0.9592\n",
      "\n"
     ]
    },
    {
     "name": "stdout",
     "output_type": "stream",
     "text": [
      "Epoch 90, Loss 0.0482\n",
      "Training Accuracy: 0.9499, Testing Accuracy: 0.9607\n",
      "\n"
     ]
    },
    {
     "name": "stdout",
     "output_type": "stream",
     "text": [
      "Epoch 100, Loss 0.0467\n",
      "Training Accuracy: 0.9508, Testing Accuracy: 0.9612\n",
      "\n"
     ]
    },
    {
     "name": "stdout",
     "output_type": "stream",
     "text": [
      "Epoch 110, Loss 0.0455\n",
      "Training Accuracy: 0.9524, Testing Accuracy: 0.9622\n",
      "\n"
     ]
    },
    {
     "name": "stdout",
     "output_type": "stream",
     "text": [
      "Epoch 120, Loss 0.0443\n",
      "Training Accuracy: 0.9533, Testing Accuracy: 0.9632\n",
      "\n"
     ]
    },
    {
     "name": "stdout",
     "output_type": "stream",
     "text": [
      "Epoch 130, Loss 0.0434\n",
      "Training Accuracy: 0.9543, Testing Accuracy: 0.9642\n",
      "\n"
     ]
    },
    {
     "name": "stdout",
     "output_type": "stream",
     "text": [
      "Epoch 140, Loss 0.0425\n",
      "Training Accuracy: 0.9548, Testing Accuracy: 0.9657\n",
      "\n"
     ]
    },
    {
     "name": "stdout",
     "output_type": "stream",
     "text": [
      "Epoch 150, Loss 0.0417\n",
      "Training Accuracy: 0.9559, Testing Accuracy: 0.9657\n",
      "\n"
     ]
    },
    {
     "name": "stdout",
     "output_type": "stream",
     "text": [
      "Epoch 160, Loss 0.041\n",
      "Training Accuracy: 0.9569, Testing Accuracy: 0.9657\n",
      "\n"
     ]
    },
    {
     "name": "stdout",
     "output_type": "stream",
     "text": [
      "Epoch 170, Loss 0.0404\n",
      "Training Accuracy: 0.9573, Testing Accuracy: 0.9662\n",
      "\n"
     ]
    },
    {
     "name": "stdout",
     "output_type": "stream",
     "text": [
      "Epoch 180, Loss 0.0398\n",
      "Training Accuracy: 0.9576, Testing Accuracy: 0.9667\n",
      "\n"
     ]
    },
    {
     "name": "stdout",
     "output_type": "stream",
     "text": [
      "Epoch 190, Loss 0.0393\n",
      "Training Accuracy: 0.9586, Testing Accuracy: 0.9672\n",
      "\n"
     ]
    },
    {
     "name": "stdout",
     "output_type": "stream",
     "text": [
      "Epoch 200, Loss 0.0388\n",
      "Training Accuracy: 0.9592, Testing Accuracy: 0.9672\n",
      "\n"
     ]
    },
    {
     "name": "stdout",
     "output_type": "stream",
     "text": [
      "Epoch 210, Loss 0.0383\n",
      "Training Accuracy: 0.9597, Testing Accuracy: 0.9672\n",
      "\n"
     ]
    },
    {
     "name": "stdout",
     "output_type": "stream",
     "text": [
      "Epoch 220, Loss 0.0379\n",
      "Training Accuracy: 0.9599, Testing Accuracy: 0.9677\n",
      "\n"
     ]
    },
    {
     "name": "stdout",
     "output_type": "stream",
     "text": [
      "Epoch 230, Loss 0.0375\n",
      "Training Accuracy: 0.9605, Testing Accuracy: 0.9677\n",
      "\n"
     ]
    },
    {
     "name": "stdout",
     "output_type": "stream",
     "text": [
      "Epoch 240, Loss 0.0371\n",
      "Training Accuracy: 0.9607, Testing Accuracy: 0.9677\n",
      "\n"
     ]
    },
    {
     "data": {
      "text/plain": [
       "0.01305605969484441"
      ]
     },
     "execution_count": 23,
     "metadata": {},
     "output_type": "execute_result"
    }
   ],
   "source": [
    "lr_learner.train_loop(dl)"
   ]
  },
  {
   "cell_type": "code",
   "execution_count": 24,
   "id": "ca410940",
   "metadata": {
    "execution": {
     "iopub.execute_input": "2021-12-31T00:26:34.454061Z",
     "iopub.status.busy": "2021-12-31T00:26:34.453533Z",
     "iopub.status.idle": "2021-12-31T00:26:34.674813Z",
     "shell.execute_reply": "2021-12-31T00:26:34.675262Z"
    },
    "papermill": {
     "duration": 0.275161,
     "end_time": "2021-12-31T00:26:34.675425",
     "exception": false,
     "start_time": "2021-12-31T00:26:34.400264",
     "status": "completed"
    },
    "tags": []
   },
   "outputs": [
    {
     "data": {
      "text/plain": [
       "<matplotlib.legend.Legend at 0x7fc16e777b70>"
      ]
     },
     "execution_count": 24,
     "metadata": {},
     "output_type": "execute_result"
    },
    {
     "data": {
      "image/png": "[encoded data removed]",
      "text/plain": [
       "<Figure size 1080x720 with 1 Axes>"
      ]
     },
     "metadata": {
      "needs_background": "light"
     },
     "output_type": "display_data"
    }
   ],
   "source": [
    "#comparing the results of NN and LR\n",
    "plt.figure(figsize=(15,10))\n",
    "\n",
    "# Neural Network plots\n",
    "plt.plot(acc_nn.accuracies, 'r-', label = \"Training Accuracies - NN\")\n",
    "plt.plot(acc_nn.test_accuracies, 'g-', label = \"Testing Accuracies - NN\")\n",
    "\n",
    "# Logistic Regression plots\n",
    "plt.plot(acc_lr.accuracies, 'k-', label = \"Training Accuracies - LR\")\n",
    "plt.plot(acc_lr.test_accuracies, 'b-', label = \"Testing Accuracies - LR\")\n",
    "plt.legend()"
   ]
  },
  {
   "cell_type": "markdown",
   "id": "80dfb35c",
   "metadata": {
    "papermill": {
     "duration": 0.041879,
     "end_time": "2021-12-31T00:26:34.760663",
     "exception": false,
     "start_time": "2021-12-31T00:26:34.718784",
     "status": "completed"
    },
    "tags": []
   },
   "source": [
    "#### Plotting the outputs of this layer of the NN.\n"
   ]
  },
  {
   "cell_type": "code",
   "execution_count": 25,
   "id": "45eb2ff5",
   "metadata": {
    "execution": {
     "iopub.execute_input": "2021-12-31T00:26:34.865187Z",
     "iopub.status.busy": "2021-12-31T00:26:34.864585Z",
     "iopub.status.idle": "2021-12-31T00:26:34.877778Z",
     "shell.execute_reply": "2021-12-31T00:26:34.878458Z"
    },
    "papermill": {
     "duration": 0.075845,
     "end_time": "2021-12-31T00:26:34.878613",
     "exception": false,
     "start_time": "2021-12-31T00:26:34.802768",
     "status": "completed"
    },
    "tags": []
   },
   "outputs": [],
   "source": [
    "new_model = Model(layers[:-2])\n",
    "testing_plot = new_model(testing_data_x)"
   ]
  },
  {
   "cell_type": "code",
   "execution_count": 26,
   "id": "4c0a5485",
   "metadata": {
    "execution": {
     "iopub.execute_input": "2021-12-31T00:26:34.974603Z",
     "iopub.status.busy": "2021-12-31T00:26:34.970228Z",
     "iopub.status.idle": "2021-12-31T00:26:35.181157Z",
     "shell.execute_reply": "2021-12-31T00:26:35.181578Z"
    },
    "papermill": {
     "duration": 0.260069,
     "end_time": "2021-12-31T00:26:35.181730",
     "exception": false,
     "start_time": "2021-12-31T00:26:34.921661",
     "status": "completed"
    },
    "tags": []
   },
   "outputs": [
    {
     "data": {
      "text/plain": [
       "Text(0.5, 1.0, 'Outputs')"
      ]
     },
     "execution_count": 26,
     "metadata": {},
     "output_type": "execute_result"
    },
    {
     "data": {
      "image/png": "[encoded data removed]",
      "text/plain": [
       "<Figure size 576x504 with 1 Axes>"
      ]
     },
     "metadata": {
      "needs_background": "light"
     },
     "output_type": "display_data"
    }
   ],
   "source": [
    "# Plotting the scatter plot of points and color coding by class\n",
    "plt.figure(figsize=(8,7))\n",
    "plt.scatter(testing_plot[:,0], testing_plot[:,1], alpha = 0.1, c = y_test.ravel());\n",
    "plt.title('Outputs')"
   ]
  },
  {
   "cell_type": "markdown",
   "id": "a74fcf8f",
   "metadata": {
    "papermill": {
     "duration": 0.044604,
     "end_time": "2021-12-31T00:26:35.271188",
     "exception": false,
     "start_time": "2021-12-31T00:26:35.226584",
     "status": "completed"
    },
    "tags": []
   },
   "source": [
    "Probability contours"
   ]
  },
  {
   "cell_type": "code",
   "execution_count": 27,
   "id": "d0afc8e3",
   "metadata": {
    "execution": {
     "iopub.execute_input": "2021-12-31T00:26:35.371057Z",
     "iopub.status.busy": "2021-12-31T00:26:35.369316Z",
     "iopub.status.idle": "2021-12-31T00:26:35.378647Z",
     "shell.execute_reply": "2021-12-31T00:26:35.378229Z"
    },
    "papermill": {
     "duration": 0.062896,
     "end_time": "2021-12-31T00:26:35.378763",
     "exception": false,
     "start_time": "2021-12-31T00:26:35.315867",
     "status": "completed"
    },
    "tags": []
   },
   "outputs": [],
   "source": [
    "model_prob = Model(layers[-2:]) "
   ]
  },
  {
   "cell_type": "code",
   "execution_count": 28,
   "id": "9b96e238",
   "metadata": {
    "execution": {
     "iopub.execute_input": "2021-12-31T00:26:35.480582Z",
     "iopub.status.busy": "2021-12-31T00:26:35.480014Z",
     "iopub.status.idle": "2021-12-31T00:26:35.488870Z",
     "shell.execute_reply": "2021-12-31T00:26:35.489271Z"
    },
    "papermill": {
     "duration": 0.065661,
     "end_time": "2021-12-31T00:26:35.489417",
     "exception": false,
     "start_time": "2021-12-31T00:26:35.423756",
     "status": "completed"
    },
    "tags": []
   },
   "outputs": [],
   "source": [
    "#creating the x and y ranges according to the above generated plot.\n",
    "x_range = np.linspace(-4, 1, 100) \n",
    "y_range = np.linspace(-6, 6, 100) \n",
    "x_grid, y_grid = np.meshgrid(x_range, y_range) # x_grid and y_grig are of size 100 X 100\n",
    "\n",
    "# converting x_grid and y_grid to continuous arrays\n",
    "x_gridflat = np.ravel(x_grid)\n",
    "y_gridflat = np.ravel(y_grid)\n",
    "\n",
    "# The last layer of the current model takes two columns as input. Hence transpose of np.vstack() is required.\n",
    "X = np.vstack((x_gridflat, y_gridflat)).T\n",
    "\n",
    "prob_contour = model_prob(X).reshape(100,100) "
   ]
  },
  {
   "cell_type": "code",
   "execution_count": 29,
   "id": "da72499a",
   "metadata": {
    "execution": {
     "iopub.execute_input": "2021-12-31T00:26:35.589958Z",
     "iopub.status.busy": "2021-12-31T00:26:35.589426Z",
     "iopub.status.idle": "2021-12-31T00:26:35.839467Z",
     "shell.execute_reply": "2021-12-31T00:26:35.839943Z"
    },
    "papermill": {
     "duration": 0.305224,
     "end_time": "2021-12-31T00:26:35.840099",
     "exception": false,
     "start_time": "2021-12-31T00:26:35.534875",
     "status": "completed"
    },
    "tags": []
   },
   "outputs": [
    {
     "data": {
      "image/png": "[encoded data removed]",
      "text/plain": [
       "<Figure size 720x648 with 1 Axes>"
      ]
     },
     "metadata": {
      "needs_background": "light"
     },
     "output_type": "display_data"
    }
   ],
   "source": [
    "plt.figure(figsize=(10,9))\n",
    "plt.scatter(testing_plot[:,0], testing_plot[:,1], alpha = 0.1, c = y_test.ravel())\n",
    "contours = plt.contour(x_grid,y_grid,prob_contour)\n",
    "plt.title('Probability Contours')\n",
    "plt.clabel(contours, inline = True );"
   ]
  },
  {
   "cell_type": "code",
   "execution_count": null,
   "id": "e81b4ac7",
   "metadata": {
    "papermill": {
     "duration": 0.047641,
     "end_time": "2021-12-31T00:26:35.968262",
     "exception": false,
     "start_time": "2021-12-31T00:26:35.920621",
     "status": "completed"
    },
    "tags": []
   },
   "outputs": [],
   "source": []
  }
 ],
 "metadata": {
  "kernelspec": {
   "display_name": "Python 3",
   "language": "python",
   "name": "python3"
  },
  "language_info": {
   "codemirror_mode": {
    "name": "ipython",
    "version": 3
   },
   "file_extension": ".py",
   "mimetype": "text/x-python",
   "name": "python",
   "nbconvert_exporter": "python",
   "pygments_lexer": "ipython3",
   "version": "3.6.15"
  },
  "papermill": {
   "default_parameters": {},
   "duration": 96.691996,
   "end_time": "2021-12-31T00:26:36.424554",
   "environment_variables": {},
   "exception": null,
   "input_path": "2020-08-11-part2.ipynb",
   "output_path": "2020-08-11-part2.ipynb",
   "parameters": {},
   "start_time": "2021-12-31T00:24:59.732558",
   "version": "2.3.3"
  }
 },
 "nbformat": 4,
 "nbformat_minor": 5
}