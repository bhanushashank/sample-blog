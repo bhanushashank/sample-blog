{
 "cells": [
  {
   "cell_type": "markdown",
   "id": "98380cd3",
   "metadata": {
    "papermill": {
     "duration": 0.028781,
     "end_time": "2022-02-10T20:07:48.216609",
     "exception": false,
     "start_time": "2022-02-10T20:07:48.187828",
     "status": "completed"
    },
    "tags": []
   },
   "source": [
    "# Distinguish Your Own Digits (DYOD)"
   ]
  },
  {
   "cell_type": "markdown",
   "id": "ef31240d",
   "metadata": {
    "papermill": {
     "duration": 0.025326,
     "end_time": "2022-02-10T20:07:48.266609",
     "exception": false,
     "start_time": "2022-02-10T20:07:48.241283",
     "status": "completed"
    },
    "tags": []
   },
   "source": [
    "You are going to write a classifier that distinguishes between the number 3 and number 8."
   ]
  },
  {
   "cell_type": "code",
   "execution_count": 1,
   "id": "b15c8646",
   "metadata": {
    "execution": {
     "iopub.execute_input": "2022-02-10T20:07:48.324788Z",
     "iopub.status.busy": "2022-02-10T20:07:48.324260Z",
     "iopub.status.idle": "2022-02-10T20:07:48.334344Z",
     "shell.execute_reply": "2022-02-10T20:07:48.334783Z"
    },
    "papermill": {
     "duration": 0.044317,
     "end_time": "2022-02-10T20:07:48.334945",
     "exception": false,
     "start_time": "2022-02-10T20:07:48.290628",
     "status": "completed"
    },
    "tags": []
   },
   "outputs": [],
   "source": [
    "%load_ext autoreload\n",
    "%autoreload 2"
   ]
  },
  {
   "cell_type": "code",
   "execution_count": 2,
   "id": "22ef38dc",
   "metadata": {
    "execution": {
     "iopub.execute_input": "2022-02-10T20:07:48.388587Z",
     "iopub.status.busy": "2022-02-10T20:07:48.388077Z",
     "iopub.status.idle": "2022-02-10T20:07:48.960250Z",
     "shell.execute_reply": "2022-02-10T20:07:48.959699Z"
    },
    "papermill": {
     "duration": 0.601328,
     "end_time": "2022-02-10T20:07:48.960396",
     "exception": false,
     "start_time": "2022-02-10T20:07:48.359068",
     "status": "completed"
    },
    "tags": []
   },
   "outputs": [],
   "source": [
    "%matplotlib inline\n",
    "import numpy as np\n",
    "import matplotlib.pyplot as plt\n",
    "import pandas as pd"
   ]
  },
  {
   "cell_type": "markdown",
   "id": "ba036198",
   "metadata": {
    "papermill": {
     "duration": 0.023908,
     "end_time": "2022-02-10T20:07:49.009164",
     "exception": false,
     "start_time": "2022-02-10T20:07:48.985256",
     "status": "completed"
    },
    "tags": []
   },
   "source": [
    "From the command line run `pip install mnist`. This is a library that will help you bring down the mnist dataset. If you run this from a notebook, you need to put  `!pip install mnist` in a cell by itself."
   ]
  },
  {
   "cell_type": "code",
   "execution_count": 3,
   "id": "bb6ad8a1",
   "metadata": {
    "execution": {
     "iopub.execute_input": "2022-02-10T20:07:49.061400Z",
     "iopub.status.busy": "2022-02-10T20:07:49.060855Z",
     "iopub.status.idle": "2022-02-10T20:07:50.732624Z",
     "shell.execute_reply": "2022-02-10T20:07:50.733133Z"
    },
    "papermill": {
     "duration": 1.700066,
     "end_time": "2022-02-10T20:07:50.733290",
     "exception": false,
     "start_time": "2022-02-10T20:07:49.033224",
     "status": "completed"
    },
    "tags": []
   },
   "outputs": [
    {
     "name": "stdout",
     "output_type": "stream",
     "text": [
      "Collecting mnist\r\n"
     ]
    },
    {
     "name": "stdout",
     "output_type": "stream",
     "text": [
      "  Downloading mnist-0.2.2-py2.py3-none-any.whl (3.5 kB)\r\n",
      "Requirement already satisfied: numpy in /opt/hostedtoolcache/Python/3.6.15/x64/lib/python3.6/site-packages (from mnist) (1.19.5)\r\n"
     ]
    },
    {
     "name": "stdout",
     "output_type": "stream",
     "text": [
      "Installing collected packages: mnist\r\n",
      "Successfully installed mnist-0.2.2\r\n"
     ]
    }
   ],
   "source": [
    "!pip install mnist"
   ]
  },
  {
   "cell_type": "markdown",
   "id": "69df9c9a",
   "metadata": {
    "papermill": {
     "duration": 0.02471,
     "end_time": "2022-02-10T20:07:50.783163",
     "exception": false,
     "start_time": "2022-02-10T20:07:50.758453",
     "status": "completed"
    },
    "tags": []
   },
   "source": [
    "## Preparing the Data"
   ]
  },
  {
   "cell_type": "code",
   "execution_count": 4,
   "id": "7f69d806",
   "metadata": {
    "execution": {
     "iopub.execute_input": "2022-02-10T20:07:50.852135Z",
     "iopub.status.busy": "2022-02-10T20:07:50.851603Z",
     "iopub.status.idle": "2022-02-10T20:07:50.856858Z",
     "shell.execute_reply": "2022-02-10T20:07:50.857261Z"
    },
    "papermill": {
     "duration": 0.049533,
     "end_time": "2022-02-10T20:07:50.857394",
     "exception": false,
     "start_time": "2022-02-10T20:07:50.807861",
     "status": "completed"
    },
    "tags": []
   },
   "outputs": [],
   "source": [
    "import mnist"
   ]
  },
  {
   "cell_type": "code",
   "execution_count": 5,
   "id": "a411e44f",
   "metadata": {
    "execution": {
     "iopub.execute_input": "2022-02-10T20:07:50.918458Z",
     "iopub.status.busy": "2022-02-10T20:07:50.917699Z",
     "iopub.status.idle": "2022-02-10T20:07:51.429784Z",
     "shell.execute_reply": "2022-02-10T20:07:51.430277Z"
    },
    "papermill": {
     "duration": 0.548351,
     "end_time": "2022-02-10T20:07:51.430449",
     "exception": false,
     "start_time": "2022-02-10T20:07:50.882098",
     "status": "completed"
    },
    "tags": []
   },
   "outputs": [],
   "source": [
    "train_images = mnist.train_images()\n",
    "train_labels = mnist.train_labels()"
   ]
  },
  {
   "cell_type": "code",
   "execution_count": 6,
   "id": "dceab3a5",
   "metadata": {
    "execution": {
     "iopub.execute_input": "2022-02-10T20:07:51.493811Z",
     "iopub.status.busy": "2022-02-10T20:07:51.483472Z",
     "iopub.status.idle": "2022-02-10T20:07:51.503042Z",
     "shell.execute_reply": "2022-02-10T20:07:51.502638Z"
    },
    "papermill": {
     "duration": 0.047637,
     "end_time": "2022-02-10T20:07:51.503149",
     "exception": false,
     "start_time": "2022-02-10T20:07:51.455512",
     "status": "completed"
    },
    "tags": []
   },
   "outputs": [
    {
     "data": {
      "text/plain": [
       "((60000, 28, 28), (60000,))"
      ]
     },
     "execution_count": 6,
     "metadata": {},
     "output_type": "execute_result"
    }
   ],
   "source": [
    "train_images.shape, train_labels.shape"
   ]
  },
  {
   "cell_type": "code",
   "execution_count": 7,
   "id": "f50dc2bb",
   "metadata": {
    "execution": {
     "iopub.execute_input": "2022-02-10T20:07:51.567752Z",
     "iopub.status.busy": "2022-02-10T20:07:51.565854Z",
     "iopub.status.idle": "2022-02-10T20:07:51.729142Z",
     "shell.execute_reply": "2022-02-10T20:07:51.728570Z"
    },
    "papermill": {
     "duration": 0.201258,
     "end_time": "2022-02-10T20:07:51.729330",
     "exception": false,
     "start_time": "2022-02-10T20:07:51.528072",
     "status": "completed"
    },
    "tags": []
   },
   "outputs": [],
   "source": [
    "test_images = mnist.test_images()\n",
    "test_labels = mnist.test_labels()"
   ]
  },
  {
   "cell_type": "code",
   "execution_count": 8,
   "id": "fc38cf1b",
   "metadata": {
    "execution": {
     "iopub.execute_input": "2022-02-10T20:07:51.792497Z",
     "iopub.status.busy": "2022-02-10T20:07:51.791985Z",
     "iopub.status.idle": "2022-02-10T20:07:51.799430Z",
     "shell.execute_reply": "2022-02-10T20:07:51.799005Z"
    },
    "papermill": {
     "duration": 0.04401,
     "end_time": "2022-02-10T20:07:51.799532",
     "exception": false,
     "start_time": "2022-02-10T20:07:51.755522",
     "status": "completed"
    },
    "tags": []
   },
   "outputs": [
    {
     "data": {
      "text/plain": [
       "((10000, 28, 28), (10000,))"
      ]
     },
     "execution_count": 8,
     "metadata": {},
     "output_type": "execute_result"
    }
   ],
   "source": [
    "test_images.shape, test_labels.shape"
   ]
  },
  {
   "cell_type": "code",
   "execution_count": 9,
   "id": "f9ed8fe0",
   "metadata": {
    "execution": {
     "iopub.execute_input": "2022-02-10T20:07:51.858734Z",
     "iopub.status.busy": "2022-02-10T20:07:51.858234Z",
     "iopub.status.idle": "2022-02-10T20:07:51.992118Z",
     "shell.execute_reply": "2022-02-10T20:07:51.991623Z"
    },
    "papermill": {
     "duration": 0.167645,
     "end_time": "2022-02-10T20:07:51.992255",
     "exception": false,
     "start_time": "2022-02-10T20:07:51.824610",
     "status": "completed"
    },
    "tags": []
   },
   "outputs": [
    {
     "name": "stdout",
     "output_type": "stream",
     "text": [
      "2\n"
     ]
    },
    {
     "data": {
      "text/plain": [
       "<matplotlib.image.AxesImage at 0x7f6d6efa5eb8>"
      ]
     },
     "execution_count": 9,
     "metadata": {},
     "output_type": "execute_result"
    },
    {
     "data": {
      "image/png": "[encoded data removed]",
      "text/plain": [
       "<Figure size 432x288 with 1 Axes>"
      ]
     },
     "metadata": {
      "needs_background": "light"
     },
     "output_type": "display_data"
    }
   ],
   "source": [
    "image_index = 7776 # You may select anything up to 60,000\n",
    "print(train_labels[image_index]) \n",
    "plt.imshow(train_images[image_index], cmap='Greys')"
   ]
  },
  {
   "cell_type": "markdown",
   "id": "a8d2388d",
   "metadata": {
    "papermill": {
     "duration": 0.026515,
     "end_time": "2022-02-10T20:07:52.045916",
     "exception": false,
     "start_time": "2022-02-10T20:07:52.019401",
     "status": "completed"
    },
    "tags": []
   },
   "source": [
    "## Filter data to get 3 and 8 out"
   ]
  },
  {
   "cell_type": "code",
   "execution_count": 10,
   "id": "776f7fc7",
   "metadata": {
    "execution": {
     "iopub.execute_input": "2022-02-10T20:07:52.107501Z",
     "iopub.status.busy": "2022-02-10T20:07:52.106959Z",
     "iopub.status.idle": "2022-02-10T20:07:52.120665Z",
     "shell.execute_reply": "2022-02-10T20:07:52.120222Z"
    },
    "papermill": {
     "duration": 0.048717,
     "end_time": "2022-02-10T20:07:52.120777",
     "exception": false,
     "start_time": "2022-02-10T20:07:52.072060",
     "status": "completed"
    },
    "tags": []
   },
   "outputs": [],
   "source": [
    "train_filter = np.where((train_labels == 3 ) | (train_labels == 8))\n",
    "test_filter = np.where((test_labels == 3) | (test_labels == 8))\n",
    "X_train, y_train = train_images[train_filter], train_labels[train_filter]\n",
    "X_test, y_test = test_images[test_filter], test_labels[test_filter]"
   ]
  },
  {
   "cell_type": "markdown",
   "id": "948f0b7e",
   "metadata": {
    "papermill": {
     "duration": 0.026214,
     "end_time": "2022-02-10T20:07:52.173326",
     "exception": false,
     "start_time": "2022-02-10T20:07:52.147112",
     "status": "completed"
    },
    "tags": []
   },
   "source": [
    "We normalize the pizel values in the 0 to 1 range"
   ]
  },
  {
   "cell_type": "code",
   "execution_count": 11,
   "id": "ee4c2166",
   "metadata": {
    "execution": {
     "iopub.execute_input": "2022-02-10T20:07:52.229271Z",
     "iopub.status.busy": "2022-02-10T20:07:52.228729Z",
     "iopub.status.idle": "2022-02-10T20:07:52.273175Z",
     "shell.execute_reply": "2022-02-10T20:07:52.272636Z"
    },
    "papermill": {
     "duration": 0.073751,
     "end_time": "2022-02-10T20:07:52.273323",
     "exception": false,
     "start_time": "2022-02-10T20:07:52.199572",
     "status": "completed"
    },
    "tags": []
   },
   "outputs": [],
   "source": [
    "X_train = X_train/255.\n",
    "X_test = X_test/255."
   ]
  },
  {
   "cell_type": "markdown",
   "id": "ddcf4fab",
   "metadata": {
    "papermill": {
     "duration": 0.026182,
     "end_time": "2022-02-10T20:07:52.327141",
     "exception": false,
     "start_time": "2022-02-10T20:07:52.300959",
     "status": "completed"
    },
    "tags": []
   },
   "source": [
    "And setup the labels as 1 (when the digit is 3) and 0 (when the digit is 8)"
   ]
  },
  {
   "cell_type": "code",
   "execution_count": 12,
   "id": "7dc908f2",
   "metadata": {
    "execution": {
     "iopub.execute_input": "2022-02-10T20:07:52.383209Z",
     "iopub.status.busy": "2022-02-10T20:07:52.382683Z",
     "iopub.status.idle": "2022-02-10T20:07:52.394737Z",
     "shell.execute_reply": "2022-02-10T20:07:52.395169Z"
    },
    "papermill": {
     "duration": 0.042016,
     "end_time": "2022-02-10T20:07:52.395294",
     "exception": false,
     "start_time": "2022-02-10T20:07:52.353278",
     "status": "completed"
    },
    "tags": []
   },
   "outputs": [],
   "source": [
    "y_train = 1*(y_train==3)\n",
    "y_test = 1*(y_test==3)"
   ]
  },
  {
   "cell_type": "code",
   "execution_count": 13,
   "id": "01e4e969",
   "metadata": {
    "execution": {
     "iopub.execute_input": "2022-02-10T20:07:52.451984Z",
     "iopub.status.busy": "2022-02-10T20:07:52.451484Z",
     "iopub.status.idle": "2022-02-10T20:07:52.464112Z",
     "shell.execute_reply": "2022-02-10T20:07:52.464496Z"
    },
    "papermill": {
     "duration": 0.04178,
     "end_time": "2022-02-10T20:07:52.464623",
     "exception": false,
     "start_time": "2022-02-10T20:07:52.422843",
     "status": "completed"
    },
    "tags": []
   },
   "outputs": [
    {
     "data": {
      "text/plain": [
       "((11982, 28, 28), (1984, 28, 28))"
      ]
     },
     "execution_count": 13,
     "metadata": {},
     "output_type": "execute_result"
    }
   ],
   "source": [
    "X_train.shape, X_test.shape"
   ]
  },
  {
   "cell_type": "markdown",
   "id": "5ccf3f85",
   "metadata": {
    "papermill": {
     "duration": 0.026692,
     "end_time": "2022-02-10T20:07:52.517587",
     "exception": false,
     "start_time": "2022-02-10T20:07:52.490895",
     "status": "completed"
    },
    "tags": []
   },
   "source": [
    "We reshape the data to flatten the image pixels into a set of features or co-variates:"
   ]
  },
  {
   "cell_type": "code",
   "execution_count": 14,
   "id": "5286a4a3",
   "metadata": {
    "execution": {
     "iopub.execute_input": "2022-02-10T20:07:52.576831Z",
     "iopub.status.busy": "2022-02-10T20:07:52.576328Z",
     "iopub.status.idle": "2022-02-10T20:07:52.587632Z",
     "shell.execute_reply": "2022-02-10T20:07:52.587227Z"
    },
    "papermill": {
     "duration": 0.043756,
     "end_time": "2022-02-10T20:07:52.587737",
     "exception": false,
     "start_time": "2022-02-10T20:07:52.543981",
     "status": "completed"
    },
    "tags": []
   },
   "outputs": [
    {
     "data": {
      "text/plain": [
       "((11982, 784), (1984, 784))"
      ]
     },
     "execution_count": 14,
     "metadata": {},
     "output_type": "execute_result"
    }
   ],
   "source": [
    "X_train = X_train.reshape(X_train.shape[0], -1)\n",
    "X_test = X_test.reshape(X_test.shape[0], -1)\n",
    "X_train.shape, X_test.shape"
   ]
  },
  {
   "cell_type": "code",
   "execution_count": 15,
   "id": "73c5f88a",
   "metadata": {
    "execution": {
     "iopub.execute_input": "2022-02-10T20:07:52.645153Z",
     "iopub.status.busy": "2022-02-10T20:07:52.644620Z",
     "iopub.status.idle": "2022-02-10T20:07:52.662637Z",
     "shell.execute_reply": "2022-02-10T20:07:52.662230Z"
    },
    "papermill": {
     "duration": 0.048217,
     "end_time": "2022-02-10T20:07:52.662743",
     "exception": false,
     "start_time": "2022-02-10T20:07:52.614526",
     "status": "completed"
    },
    "tags": []
   },
   "outputs": [],
   "source": [
    "#Impoting functions from 'Kudzu'\n",
    "from kudzu.model import Model\n",
    "from kudzu.train import Learner\n",
    "from kudzu.optim import GD\n",
    "from kudzu.data import Data, Sampler,Dataloader\n",
    "\n",
    "from kudzu.callbacks import AccCallback\n",
    "from kudzu.callbacks import ClfCallback\n",
    "\n",
    "from kudzu.loss import MSE\n",
    "\n",
    "from kudzu.layer import Sigmoid,Relu\n",
    "from kudzu.layer import Affine"
   ]
  },
  {
   "cell_type": "markdown",
   "id": "bc01172a",
   "metadata": {
    "papermill": {
     "duration": 0.02667,
     "end_time": "2022-02-10T20:07:52.716156",
     "exception": false,
     "start_time": "2022-02-10T20:07:52.689486",
     "status": "completed"
    },
    "tags": []
   },
   "source": [
    "### Let us create a `Config` class, to store important parameters. \n",
    "This class essentially plays the role of a dictionary."
   ]
  },
  {
   "cell_type": "code",
   "execution_count": 16,
   "id": "978281aa",
   "metadata": {
    "execution": {
     "iopub.execute_input": "2022-02-10T20:07:52.773135Z",
     "iopub.status.busy": "2022-02-10T20:07:52.772596Z",
     "iopub.status.idle": "2022-02-10T20:07:52.784686Z",
     "shell.execute_reply": "2022-02-10T20:07:52.784282Z"
    },
    "papermill": {
     "duration": 0.042083,
     "end_time": "2022-02-10T20:07:52.784794",
     "exception": false,
     "start_time": "2022-02-10T20:07:52.742711",
     "status": "completed"
    },
    "tags": []
   },
   "outputs": [],
   "source": [
    "class Config:\n",
    "    pass\n",
    "config = Config()\n",
    "config.lr = 0.001\n",
    "config.num_epochs = 250\n",
    "config.bs = 50"
   ]
  },
  {
   "cell_type": "markdown",
   "id": "1385fa59",
   "metadata": {
    "papermill": {
     "duration": 0.026678,
     "end_time": "2022-02-10T20:07:52.838206",
     "exception": false,
     "start_time": "2022-02-10T20:07:52.811528",
     "status": "completed"
    },
    "tags": []
   },
   "source": [
    "### Running Models with the Training data\n",
    "Details about the network layers:\n",
    "- A first affine layer has 784 inputs and does 100 affine transforms. These are followed by a Relu\n",
    "- A second affine layer has 100 inputs from the 100 activations of the past layer, and does 100 affine transforms. These are followed by a Relu\n",
    "- A third affine layer has 100 activations and does 2 affine transformations to create an embedding for visualization. There is no non-linearity here.\n",
    "- A final \"logistic regression\" which has an affine transform from 2 inputs to 1 output, which is squeezed through a sigmoid.\n"
   ]
  },
  {
   "cell_type": "code",
   "execution_count": 17,
   "id": "2b9c66db",
   "metadata": {
    "execution": {
     "iopub.execute_input": "2022-02-10T20:07:52.906407Z",
     "iopub.status.busy": "2022-02-10T20:07:52.905881Z",
     "iopub.status.idle": "2022-02-10T20:07:52.910104Z",
     "shell.execute_reply": "2022-02-10T20:07:52.909678Z"
    },
    "papermill": {
     "duration": 0.045272,
     "end_time": "2022-02-10T20:07:52.910207",
     "exception": false,
     "start_time": "2022-02-10T20:07:52.864935",
     "status": "completed"
    },
    "tags": []
   },
   "outputs": [],
   "source": [
    "data = Data(X_train, y_train.reshape(-1,1))\n",
    "sampler = Sampler(data, config.bs, shuffle=True)\n",
    "\n",
    "dl = Dataloader(data, sampler)\n",
    "\n",
    "opt = GD(config.lr)\n",
    "loss = MSE()"
   ]
  },
  {
   "cell_type": "code",
   "execution_count": 18,
   "id": "b275e4c2",
   "metadata": {
    "execution": {
     "iopub.execute_input": "2022-02-10T20:07:52.970918Z",
     "iopub.status.busy": "2022-02-10T20:07:52.970415Z",
     "iopub.status.idle": "2022-02-10T20:07:52.979598Z",
     "shell.execute_reply": "2022-02-10T20:07:52.979170Z"
    },
    "papermill": {
     "duration": 0.042703,
     "end_time": "2022-02-10T20:07:52.979699",
     "exception": false,
     "start_time": "2022-02-10T20:07:52.936996",
     "status": "completed"
    },
    "tags": []
   },
   "outputs": [],
   "source": [
    "training_data_x = X_train\n",
    "testing_data_x = X_test\n",
    "training_data_y = y_train.reshape(-1,1)\n",
    "testing_data_y = y_test.reshape(-1,1)"
   ]
  },
  {
   "cell_type": "code",
   "execution_count": 19,
   "id": "76951160",
   "metadata": {
    "execution": {
     "iopub.execute_input": "2022-02-10T20:07:53.038183Z",
     "iopub.status.busy": "2022-02-10T20:07:53.037669Z",
     "iopub.status.idle": "2022-02-10T20:07:53.052132Z",
     "shell.execute_reply": "2022-02-10T20:07:53.052516Z"
    },
    "papermill": {
     "duration": 0.046343,
     "end_time": "2022-02-10T20:07:53.052636",
     "exception": false,
     "start_time": "2022-02-10T20:07:53.006293",
     "status": "completed"
    },
    "tags": []
   },
   "outputs": [
    {
     "name": "stdout",
     "output_type": "stream",
     "text": [
      "xavier\n",
      "xavier\n",
      "xavier\n",
      "xavier\n",
      "xavier\n"
     ]
    }
   ],
   "source": [
    "layers = [Affine(\"first\", 784, 100), Relu(\"first\"), Affine(\"second\", 100, 100), Relu(\"second\"), Affine(\"third\", 100, 2), Affine(\"last\", 2, 1), Sigmoid(\"last\")]\n",
    "model_nn = Model(layers)\n",
    "model_lr = Model([Affine(\"logits\", 784, 1), Sigmoid(\"sigmoid\")])"
   ]
  },
  {
   "cell_type": "code",
   "execution_count": 20,
   "id": "6eede77a",
   "metadata": {
    "execution": {
     "iopub.execute_input": "2022-02-10T20:07:53.113807Z",
     "iopub.status.busy": "2022-02-10T20:07:53.113299Z",
     "iopub.status.idle": "2022-02-10T20:07:53.122403Z",
     "shell.execute_reply": "2022-02-10T20:07:53.121998Z"
    },
    "papermill": {
     "duration": 0.042841,
     "end_time": "2022-02-10T20:07:53.122507",
     "exception": false,
     "start_time": "2022-02-10T20:07:53.079666",
     "status": "completed"
    },
    "tags": []
   },
   "outputs": [],
   "source": [
    "nn_learner = Learner(loss, model_nn, opt, config.num_epochs)\n",
    "acc_nn = ClfCallback(nn_learner, config.bs, training_data_x , testing_data_x, training_data_y, testing_data_y)\n",
    "nn_learner.set_callbacks([acc_nn])"
   ]
  },
  {
   "cell_type": "code",
   "execution_count": 21,
   "id": "877b6cc7",
   "metadata": {
    "execution": {
     "iopub.execute_input": "2022-02-10T20:07:53.182193Z",
     "iopub.status.busy": "2022-02-10T20:07:53.181688Z",
     "iopub.status.idle": "2022-02-10T20:07:53.192232Z",
     "shell.execute_reply": "2022-02-10T20:07:53.191823Z"
    },
    "papermill": {
     "duration": 0.042885,
     "end_time": "2022-02-10T20:07:53.192338",
     "exception": false,
     "start_time": "2022-02-10T20:07:53.149453",
     "status": "completed"
    },
    "tags": []
   },
   "outputs": [],
   "source": [
    "lr_learner = Learner(loss, model_lr, opt, config.num_epochs)\n",
    "acc_lr = ClfCallback(lr_learner, config.bs, training_data_x , testing_data_x, training_data_y, testing_data_y)\n",
    "lr_learner.set_callbacks([acc_lr])"
   ]
  },
  {
   "cell_type": "code",
   "execution_count": 22,
   "id": "d9b133c3",
   "metadata": {
    "execution": {
     "iopub.execute_input": "2022-02-10T20:07:53.254683Z",
     "iopub.status.busy": "2022-02-10T20:07:53.254177Z",
     "iopub.status.idle": "2022-02-10T20:09:08.586075Z",
     "shell.execute_reply": "2022-02-10T20:09:08.586846Z"
    },
    "papermill": {
     "duration": 75.367637,
     "end_time": "2022-02-10T20:09:08.587011",
     "exception": false,
     "start_time": "2022-02-10T20:07:53.219374",
     "status": "completed"
    },
    "tags": []
   },
   "outputs": [
    {
     "name": "stdout",
     "output_type": "stream",
     "text": [
      "Epoch 0, Loss 0.2597\n",
      "Training Accuracy: 0.5109, Testing Accuracy: 0.5086\n",
      "\n"
     ]
    },
    {
     "name": "stdout",
     "output_type": "stream",
     "text": [
      "Epoch 10, Loss 0.1565\n",
      "Training Accuracy: 0.8884, Testing Accuracy: 0.8962\n",
      "\n"
     ]
    },
    {
     "name": "stdout",
     "output_type": "stream",
     "text": [
      "Epoch 20, Loss 0.0749\n",
      "Training Accuracy: 0.9277, Testing Accuracy: 0.9410\n",
      "\n"
     ]
    },
    {
     "name": "stdout",
     "output_type": "stream",
     "text": [
      "Epoch 30, Loss 0.0518\n",
      "Training Accuracy: 0.9443, Testing Accuracy: 0.9541\n",
      "\n"
     ]
    },
    {
     "name": "stdout",
     "output_type": "stream",
     "text": [
      "Epoch 40, Loss 0.0424\n",
      "Training Accuracy: 0.9535, Testing Accuracy: 0.9607\n",
      "\n"
     ]
    },
    {
     "name": "stdout",
     "output_type": "stream",
     "text": [
      "Epoch 50, Loss 0.0373\n",
      "Training Accuracy: 0.9569, Testing Accuracy: 0.9652\n",
      "\n"
     ]
    },
    {
     "name": "stdout",
     "output_type": "stream",
     "text": [
      "Epoch 60, Loss 0.0341\n",
      "Training Accuracy: 0.9605, Testing Accuracy: 0.9657\n",
      "\n"
     ]
    },
    {
     "name": "stdout",
     "output_type": "stream",
     "text": [
      "Epoch 70, Loss 0.0318\n",
      "Training Accuracy: 0.9632, Testing Accuracy: 0.9688\n",
      "\n"
     ]
    },
    {
     "name": "stdout",
     "output_type": "stream",
     "text": [
      "Epoch 80, Loss 0.03\n",
      "Training Accuracy: 0.9650, Testing Accuracy: 0.9672\n",
      "\n"
     ]
    },
    {
     "name": "stdout",
     "output_type": "stream",
     "text": [
      "Epoch 90, Loss 0.0286\n",
      "Training Accuracy: 0.9660, Testing Accuracy: 0.9677\n",
      "\n"
     ]
    },
    {
     "name": "stdout",
     "output_type": "stream",
     "text": [
      "Epoch 100, Loss 0.0274\n",
      "Training Accuracy: 0.9675, Testing Accuracy: 0.9688\n",
      "\n"
     ]
    },
    {
     "name": "stdout",
     "output_type": "stream",
     "text": [
      "Epoch 110, Loss 0.0263\n",
      "Training Accuracy: 0.9680, Testing Accuracy: 0.9672\n",
      "\n"
     ]
    },
    {
     "name": "stdout",
     "output_type": "stream",
     "text": [
      "Epoch 120, Loss 0.0254\n",
      "Training Accuracy: 0.9692, Testing Accuracy: 0.9677\n",
      "\n"
     ]
    },
    {
     "name": "stdout",
     "output_type": "stream",
     "text": [
      "Epoch 130, Loss 0.0247\n",
      "Training Accuracy: 0.9705, Testing Accuracy: 0.9688\n",
      "\n"
     ]
    },
    {
     "name": "stdout",
     "output_type": "stream",
     "text": [
      "Epoch 140, Loss 0.0239\n",
      "Training Accuracy: 0.9713, Testing Accuracy: 0.9693\n",
      "\n"
     ]
    },
    {
     "name": "stdout",
     "output_type": "stream",
     "text": [
      "Epoch 150, Loss 0.0233\n",
      "Training Accuracy: 0.9720, Testing Accuracy: 0.9698\n",
      "\n"
     ]
    },
    {
     "name": "stdout",
     "output_type": "stream",
     "text": [
      "Epoch 160, Loss 0.0227\n",
      "Training Accuracy: 0.9730, Testing Accuracy: 0.9698\n",
      "\n"
     ]
    },
    {
     "name": "stdout",
     "output_type": "stream",
     "text": [
      "Epoch 170, Loss 0.0221\n",
      "Training Accuracy: 0.9741, Testing Accuracy: 0.9698\n",
      "\n"
     ]
    },
    {
     "name": "stdout",
     "output_type": "stream",
     "text": [
      "Epoch 180, Loss 0.0215\n",
      "Training Accuracy: 0.9753, Testing Accuracy: 0.9698\n",
      "\n"
     ]
    },
    {
     "name": "stdout",
     "output_type": "stream",
     "text": [
      "Epoch 190, Loss 0.021\n",
      "Training Accuracy: 0.9760, Testing Accuracy: 0.9693\n",
      "\n"
     ]
    },
    {
     "name": "stdout",
     "output_type": "stream",
     "text": [
      "Epoch 200, Loss 0.0206\n",
      "Training Accuracy: 0.9766, Testing Accuracy: 0.9698\n",
      "\n"
     ]
    },
    {
     "name": "stdout",
     "output_type": "stream",
     "text": [
      "Epoch 210, Loss 0.0201\n",
      "Training Accuracy: 0.9772, Testing Accuracy: 0.9698\n",
      "\n"
     ]
    },
    {
     "name": "stdout",
     "output_type": "stream",
     "text": [
      "Epoch 220, Loss 0.0197\n",
      "Training Accuracy: 0.9782, Testing Accuracy: 0.9698\n",
      "\n"
     ]
    },
    {
     "name": "stdout",
     "output_type": "stream",
     "text": [
      "Epoch 230, Loss 0.0193\n",
      "Training Accuracy: 0.9786, Testing Accuracy: 0.9703\n",
      "\n"
     ]
    },
    {
     "name": "stdout",
     "output_type": "stream",
     "text": [
      "Epoch 240, Loss 0.0188\n",
      "Training Accuracy: 0.9792, Testing Accuracy: 0.9703\n",
      "\n"
     ]
    },
    {
     "data": {
      "text/plain": [
       "0.002009662335205167"
      ]
     },
     "execution_count": 22,
     "metadata": {},
     "output_type": "execute_result"
    }
   ],
   "source": [
    "nn_learner.train_loop(dl)"
   ]
  },
  {
   "cell_type": "code",
   "execution_count": 23,
   "id": "e0163366",
   "metadata": {
    "execution": {
     "iopub.execute_input": "2022-02-10T20:09:08.669193Z",
     "iopub.status.busy": "2022-02-10T20:09:08.668640Z",
     "iopub.status.idle": "2022-02-10T20:09:22.281000Z",
     "shell.execute_reply": "2022-02-10T20:09:22.281751Z"
    },
    "papermill": {
     "duration": 13.659832,
     "end_time": "2022-02-10T20:09:22.281905",
     "exception": false,
     "start_time": "2022-02-10T20:09:08.622073",
     "status": "completed"
    },
    "tags": []
   },
   "outputs": [
    {
     "name": "stdout",
     "output_type": "stream",
     "text": [
      "Epoch 0, Loss 0.2671\n",
      "Training Accuracy: 0.6103, Testing Accuracy: 0.6033\n",
      "\n"
     ]
    },
    {
     "name": "stdout",
     "output_type": "stream",
     "text": [
      "Epoch 10, Loss 0.1044\n",
      "Training Accuracy: 0.9039, Testing Accuracy: 0.9214\n",
      "\n"
     ]
    },
    {
     "name": "stdout",
     "output_type": "stream",
     "text": [
      "Epoch 20, Loss 0.0801\n",
      "Training Accuracy: 0.9240, Testing Accuracy: 0.9370\n",
      "\n"
     ]
    },
    {
     "name": "stdout",
     "output_type": "stream",
     "text": [
      "Epoch 30, Loss 0.0691\n",
      "Training Accuracy: 0.9341, Testing Accuracy: 0.9456\n",
      "\n"
     ]
    },
    {
     "name": "stdout",
     "output_type": "stream",
     "text": [
      "Epoch 40, Loss 0.0625\n",
      "Training Accuracy: 0.9385, Testing Accuracy: 0.9486\n",
      "\n"
     ]
    },
    {
     "name": "stdout",
     "output_type": "stream",
     "text": [
      "Epoch 50, Loss 0.0579\n",
      "Training Accuracy: 0.9427, Testing Accuracy: 0.9541\n",
      "\n"
     ]
    },
    {
     "name": "stdout",
     "output_type": "stream",
     "text": [
      "Epoch 60, Loss 0.0546\n",
      "Training Accuracy: 0.9464, Testing Accuracy: 0.9572\n",
      "\n"
     ]
    },
    {
     "name": "stdout",
     "output_type": "stream",
     "text": [
      "Epoch 70, Loss 0.0519\n",
      "Training Accuracy: 0.9490, Testing Accuracy: 0.9587\n",
      "\n"
     ]
    },
    {
     "name": "stdout",
     "output_type": "stream",
     "text": [
      "Epoch 80, Loss 0.0498\n",
      "Training Accuracy: 0.9508, Testing Accuracy: 0.9597\n",
      "\n"
     ]
    },
    {
     "name": "stdout",
     "output_type": "stream",
     "text": [
      "Epoch 90, Loss 0.0481\n",
      "Training Accuracy: 0.9521, Testing Accuracy: 0.9607\n",
      "\n"
     ]
    },
    {
     "name": "stdout",
     "output_type": "stream",
     "text": [
      "Epoch 100, Loss 0.0466\n",
      "Training Accuracy: 0.9528, Testing Accuracy: 0.9612\n",
      "\n"
     ]
    },
    {
     "name": "stdout",
     "output_type": "stream",
     "text": [
      "Epoch 110, Loss 0.0453\n",
      "Training Accuracy: 0.9543, Testing Accuracy: 0.9622\n",
      "\n"
     ]
    },
    {
     "name": "stdout",
     "output_type": "stream",
     "text": [
      "Epoch 120, Loss 0.0442\n",
      "Training Accuracy: 0.9549, Testing Accuracy: 0.9627\n",
      "\n"
     ]
    },
    {
     "name": "stdout",
     "output_type": "stream",
     "text": [
      "Epoch 130, Loss 0.0433\n",
      "Training Accuracy: 0.9559, Testing Accuracy: 0.9622\n",
      "\n"
     ]
    },
    {
     "name": "stdout",
     "output_type": "stream",
     "text": [
      "Epoch 140, Loss 0.0424\n",
      "Training Accuracy: 0.9565, Testing Accuracy: 0.9632\n",
      "\n"
     ]
    },
    {
     "name": "stdout",
     "output_type": "stream",
     "text": [
      "Epoch 150, Loss 0.0416\n",
      "Training Accuracy: 0.9570, Testing Accuracy: 0.9632\n",
      "\n"
     ]
    },
    {
     "name": "stdout",
     "output_type": "stream",
     "text": [
      "Epoch 160, Loss 0.0409\n",
      "Training Accuracy: 0.9578, Testing Accuracy: 0.9652\n",
      "\n"
     ]
    },
    {
     "name": "stdout",
     "output_type": "stream",
     "text": [
      "Epoch 170, Loss 0.0403\n",
      "Training Accuracy: 0.9579, Testing Accuracy: 0.9662\n",
      "\n"
     ]
    },
    {
     "name": "stdout",
     "output_type": "stream",
     "text": [
      "Epoch 180, Loss 0.0397\n",
      "Training Accuracy: 0.9583, Testing Accuracy: 0.9667\n",
      "\n"
     ]
    },
    {
     "name": "stdout",
     "output_type": "stream",
     "text": [
      "Epoch 190, Loss 0.0392\n",
      "Training Accuracy: 0.9589, Testing Accuracy: 0.9667\n",
      "\n"
     ]
    },
    {
     "name": "stdout",
     "output_type": "stream",
     "text": [
      "Epoch 200, Loss 0.0387\n",
      "Training Accuracy: 0.9595, Testing Accuracy: 0.9672\n",
      "\n"
     ]
    },
    {
     "name": "stdout",
     "output_type": "stream",
     "text": [
      "Epoch 210, Loss 0.0382\n",
      "Training Accuracy: 0.9598, Testing Accuracy: 0.9682\n",
      "\n"
     ]
    },
    {
     "name": "stdout",
     "output_type": "stream",
     "text": [
      "Epoch 220, Loss 0.0378\n",
      "Training Accuracy: 0.9604, Testing Accuracy: 0.9682\n",
      "\n"
     ]
    },
    {
     "name": "stdout",
     "output_type": "stream",
     "text": [
      "Epoch 230, Loss 0.0374\n",
      "Training Accuracy: 0.9609, Testing Accuracy: 0.9677\n",
      "\n"
     ]
    },
    {
     "name": "stdout",
     "output_type": "stream",
     "text": [
      "Epoch 240, Loss 0.0371\n",
      "Training Accuracy: 0.9612, Testing Accuracy: 0.9682\n",
      "\n"
     ]
    },
    {
     "data": {
      "text/plain": [
       "0.032645972522090415"
      ]
     },
     "execution_count": 23,
     "metadata": {},
     "output_type": "execute_result"
    }
   ],
   "source": [
    "lr_learner.train_loop(dl)"
   ]
  },
  {
   "cell_type": "code",
   "execution_count": 24,
   "id": "ca410940",
   "metadata": {
    "execution": {
     "iopub.execute_input": "2022-02-10T20:09:22.374334Z",
     "iopub.status.busy": "2022-02-10T20:09:22.373804Z",
     "iopub.status.idle": "2022-02-10T20:09:22.595721Z",
     "shell.execute_reply": "2022-02-10T20:09:22.596203Z"
    },
    "papermill": {
     "duration": 0.27291,
     "end_time": "2022-02-10T20:09:22.596363",
     "exception": false,
     "start_time": "2022-02-10T20:09:22.323453",
     "status": "completed"
    },
    "tags": []
   },
   "outputs": [
    {
     "data": {
      "text/plain": [
       "<matplotlib.legend.Legend at 0x7f6d623676a0>"
      ]
     },
     "execution_count": 24,
     "metadata": {},
     "output_type": "execute_result"
    },
    {
     "data": {
      "image/png": "[encoded data removed]",
      "text/plain": [
       "<Figure size 1080x720 with 1 Axes>"
      ]
     },
     "metadata": {
      "needs_background": "light"
     },
     "output_type": "display_data"
    }
   ],
   "source": [
    "#comparing the results of NN and LR\n",
    "plt.figure(figsize=(15,10))\n",
    "\n",
    "# Neural Network plots\n",
    "plt.plot(acc_nn.accuracies, 'r-', label = \"Training Accuracies - NN\")\n",
    "plt.plot(acc_nn.test_accuracies, 'g-', label = \"Testing Accuracies - NN\")\n",
    "\n",
    "# Logistic Regression plots\n",
    "plt.plot(acc_lr.accuracies, 'k-', label = \"Training Accuracies - LR\")\n",
    "plt.plot(acc_lr.test_accuracies, 'b-', label = \"Testing Accuracies - LR\")\n",
    "plt.legend()"
   ]
  },
  {
   "cell_type": "markdown",
   "id": "80dfb35c",
   "metadata": {
    "papermill": {
     "duration": 0.042019,
     "end_time": "2022-02-10T20:09:22.684568",
     "exception": false,
     "start_time": "2022-02-10T20:09:22.642549",
     "status": "completed"
    },
    "tags": []
   },
   "source": [
    "#### Plotting the outputs of this layer of the NN.\n"
   ]
  },
  {
   "cell_type": "code",
   "execution_count": 25,
   "id": "45eb2ff5",
   "metadata": {
    "execution": {
     "iopub.execute_input": "2022-02-10T20:09:22.775478Z",
     "iopub.status.busy": "2022-02-10T20:09:22.774933Z",
     "iopub.status.idle": "2022-02-10T20:09:22.793917Z",
     "shell.execute_reply": "2022-02-10T20:09:22.794335Z"
    },
    "papermill": {
     "duration": 0.068023,
     "end_time": "2022-02-10T20:09:22.794470",
     "exception": false,
     "start_time": "2022-02-10T20:09:22.726447",
     "status": "completed"
    },
    "tags": []
   },
   "outputs": [],
   "source": [
    "new_model = Model(layers[:-2])\n",
    "testing_plot = new_model(testing_data_x)"
   ]
  },
  {
   "cell_type": "code",
   "execution_count": 26,
   "id": "4c0a5485",
   "metadata": {
    "execution": {
     "iopub.execute_input": "2022-02-10T20:09:22.890165Z",
     "iopub.status.busy": "2022-02-10T20:09:22.889656Z",
     "iopub.status.idle": "2022-02-10T20:09:23.073451Z",
     "shell.execute_reply": "2022-02-10T20:09:23.073877Z"
    },
    "papermill": {
     "duration": 0.236392,
     "end_time": "2022-02-10T20:09:23.074030",
     "exception": false,
     "start_time": "2022-02-10T20:09:22.837638",
     "status": "completed"
    },
    "tags": []
   },
   "outputs": [
    {
     "data": {
      "text/plain": [
       "Text(0.5, 1.0, 'Outputs')"
      ]
     },
     "execution_count": 26,
     "metadata": {},
     "output_type": "execute_result"
    },
    {
     "data": {
      "image/png": "[encoded data removed]",
      "text/plain": [
       "<Figure size 576x504 with 1 Axes>"
      ]
     },
     "metadata": {
      "needs_background": "light"
     },
     "output_type": "display_data"
    }
   ],
   "source": [
    "# Plotting the scatter plot of points and color coding by class\n",
    "plt.figure(figsize=(8,7))\n",
    "plt.scatter(testing_plot[:,0], testing_plot[:,1], alpha = 0.1, c = y_test.ravel());\n",
    "plt.title('Outputs')"
   ]
  },
  {
   "cell_type": "markdown",
   "id": "a74fcf8f",
   "metadata": {
    "papermill": {
     "duration": 0.04418,
     "end_time": "2022-02-10T20:09:23.162541",
     "exception": false,
     "start_time": "2022-02-10T20:09:23.118361",
     "status": "completed"
    },
    "tags": []
   },
   "source": [
    "Probability contours"
   ]
  },
  {
   "cell_type": "code",
   "execution_count": 27,
   "id": "d0afc8e3",
   "metadata": {
    "execution": {
     "iopub.execute_input": "2022-02-10T20:09:23.255965Z",
     "iopub.status.busy": "2022-02-10T20:09:23.254685Z",
     "iopub.status.idle": "2022-02-10T20:09:23.266767Z",
     "shell.execute_reply": "2022-02-10T20:09:23.266247Z"
    },
    "papermill": {
     "duration": 0.060533,
     "end_time": "2022-02-10T20:09:23.266875",
     "exception": false,
     "start_time": "2022-02-10T20:09:23.206342",
     "status": "completed"
    },
    "tags": []
   },
   "outputs": [],
   "source": [
    "model_prob = Model(layers[-2:]) "
   ]
  },
  {
   "cell_type": "code",
   "execution_count": 28,
   "id": "9b96e238",
   "metadata": {
    "execution": {
     "iopub.execute_input": "2022-02-10T20:09:23.361746Z",
     "iopub.status.busy": "2022-02-10T20:09:23.358663Z",
     "iopub.status.idle": "2022-02-10T20:09:23.373834Z",
     "shell.execute_reply": "2022-02-10T20:09:23.373413Z"
    },
    "papermill": {
     "duration": 0.063155,
     "end_time": "2022-02-10T20:09:23.373950",
     "exception": false,
     "start_time": "2022-02-10T20:09:23.310795",
     "status": "completed"
    },
    "tags": []
   },
   "outputs": [],
   "source": [
    "#creating the x and y ranges according to the above generated plot.\n",
    "x_range = np.linspace(-4, 1, 100) \n",
    "y_range = np.linspace(-6, 6, 100) \n",
    "x_grid, y_grid = np.meshgrid(x_range, y_range) # x_grid and y_grig are of size 100 X 100\n",
    "\n",
    "# converting x_grid and y_grid to continuous arrays\n",
    "x_gridflat = np.ravel(x_grid)\n",
    "y_gridflat = np.ravel(y_grid)\n",
    "\n",
    "# The last layer of the current model takes two columns as input. Hence transpose of np.vstack() is required.\n",
    "X = np.vstack((x_gridflat, y_gridflat)).T\n",
    "\n",
    "prob_contour = model_prob(X).reshape(100,100) "
   ]
  },
  {
   "cell_type": "code",
   "execution_count": 29,
   "id": "da72499a",
   "metadata": {
    "execution": {
     "iopub.execute_input": "2022-02-10T20:09:23.496225Z",
     "iopub.status.busy": "2022-02-10T20:09:23.495704Z",
     "iopub.status.idle": "2022-02-10T20:09:23.740689Z",
     "shell.execute_reply": "2022-02-10T20:09:23.741133Z"
    },
    "papermill": {
     "duration": 0.322709,
     "end_time": "2022-02-10T20:09:23.741283",
     "exception": false,
     "start_time": "2022-02-10T20:09:23.418574",
     "status": "completed"
    },
    "tags": []
   },
   "outputs": [
    {
     "data": {
      "image/png": "[encoded data removed]",
      "text/plain": [
       "<Figure size 720x648 with 1 Axes>"
      ]
     },
     "metadata": {
      "needs_background": "light"
     },
     "output_type": "display_data"
    }
   ],
   "source": [
    "plt.figure(figsize=(10,9))\n",
    "plt.scatter(testing_plot[:,0], testing_plot[:,1], alpha = 0.1, c = y_test.ravel())\n",
    "contours = plt.contour(x_grid,y_grid,prob_contour)\n",
    "plt.title('Probability Contours')\n",
    "plt.clabel(contours, inline = True );"
   ]
  },
  {
   "cell_type": "code",
   "execution_count": null,
   "id": "e81b4ac7",
   "metadata": {
    "papermill": {
     "duration": 0.046646,
     "end_time": "2022-02-10T20:09:23.834792",
     "exception": false,
     "start_time": "2022-02-10T20:09:23.788146",
     "status": "completed"
    },
    "tags": []
   },
   "outputs": [],
   "source": []
  }
 ],
 "metadata": {
  "kernelspec": {
   "display_name": "Python 3",
   "language": "python",
   "name": "python3"
  },
  "language_info": {
   "codemirror_mode": {
    "name": "ipython",
    "version": 3
   },
   "file_extension": ".py",
   "mimetype": "text/x-python",
   "name": "python",
   "nbconvert_exporter": "python",
   "pygments_lexer": "ipython3",
   "version": "3.6.15"
  },
  "papermill": {
   "default_parameters": {},
   "duration": 97.033539,
   "end_time": "2022-02-10T20:09:24.300254",
   "environment_variables": {},
   "exception": null,
   "input_path": "2020-08-11-part2.ipynb",
   "output_path": "2020-08-11-part2.ipynb",
   "parameters": {},
   "start_time": "2022-02-10T20:07:47.266715",
   "version": "2.3.3"
  }
 },
 "nbformat": 4,
 "nbformat_minor": 5
}