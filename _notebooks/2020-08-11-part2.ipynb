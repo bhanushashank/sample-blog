{
 "cells": [
  {
   "cell_type": "markdown",
   "id": "98380cd3",
   "metadata": {
    "papermill": {
     "duration": 0.02939,
     "end_time": "2022-06-28T00:39:59.506247",
     "exception": false,
     "start_time": "2022-06-28T00:39:59.476857",
     "status": "completed"
    },
    "tags": []
   },
   "source": [
    "# Distinguish Your Own Digits (DYOD)"
   ]
  },
  {
   "cell_type": "markdown",
   "id": "ef31240d",
   "metadata": {
    "papermill": {
     "duration": 0.023641,
     "end_time": "2022-06-28T00:39:59.554660",
     "exception": false,
     "start_time": "2022-06-28T00:39:59.531019",
     "status": "completed"
    },
    "tags": []
   },
   "source": [
    "You are going to write a classifier that distinguishes between the number 3 and number 8."
   ]
  },
  {
   "cell_type": "code",
   "execution_count": 1,
   "id": "b15c8646",
   "metadata": {
    "execution": {
     "iopub.execute_input": "2022-06-28T00:39:59.613227Z",
     "iopub.status.busy": "2022-06-28T00:39:59.612605Z",
     "iopub.status.idle": "2022-06-28T00:39:59.623433Z",
     "shell.execute_reply": "2022-06-28T00:39:59.623907Z"
    },
    "papermill": {
     "duration": 0.045812,
     "end_time": "2022-06-28T00:39:59.624064",
     "exception": false,
     "start_time": "2022-06-28T00:39:59.578252",
     "status": "completed"
    },
    "tags": []
   },
   "outputs": [],
   "source": [
    "%load_ext autoreload\n",
    "%autoreload 2"
   ]
  },
  {
   "cell_type": "code",
   "execution_count": 2,
   "id": "22ef38dc",
   "metadata": {
    "execution": {
     "iopub.execute_input": "2022-06-28T00:39:59.675283Z",
     "iopub.status.busy": "2022-06-28T00:39:59.674670Z",
     "iopub.status.idle": "2022-06-28T00:40:00.221961Z",
     "shell.execute_reply": "2022-06-28T00:40:00.221386Z"
    },
    "papermill": {
     "duration": 0.574361,
     "end_time": "2022-06-28T00:40:00.222092",
     "exception": false,
     "start_time": "2022-06-28T00:39:59.647731",
     "status": "completed"
    },
    "tags": []
   },
   "outputs": [],
   "source": [
    "%matplotlib inline\n",
    "import numpy as np\n",
    "import matplotlib.pyplot as plt\n",
    "import pandas as pd"
   ]
  },
  {
   "cell_type": "markdown",
   "id": "ba036198",
   "metadata": {
    "papermill": {
     "duration": 0.023763,
     "end_time": "2022-06-28T00:40:00.269516",
     "exception": false,
     "start_time": "2022-06-28T00:40:00.245753",
     "status": "completed"
    },
    "tags": []
   },
   "source": [
    "From the command line run `pip install mnist`. This is a library that will help you bring down the mnist dataset. If you run this from a notebook, you need to put  `!pip install mnist` in a cell by itself."
   ]
  },
  {
   "cell_type": "code",
   "execution_count": 3,
   "id": "bb6ad8a1",
   "metadata": {
    "execution": {
     "iopub.execute_input": "2022-06-28T00:40:00.326377Z",
     "iopub.status.busy": "2022-06-28T00:40:00.325691Z",
     "iopub.status.idle": "2022-06-28T00:40:02.791691Z",
     "shell.execute_reply": "2022-06-28T00:40:02.790708Z"
    },
    "papermill": {
     "duration": 2.498522,
     "end_time": "2022-06-28T00:40:02.791824",
     "exception": false,
     "start_time": "2022-06-28T00:40:00.293302",
     "status": "completed"
    },
    "tags": []
   },
   "outputs": [
    {
     "name": "stdout",
     "output_type": "stream",
     "text": [
      "Collecting mnist\r\n"
     ]
    },
    {
     "name": "stdout",
     "output_type": "stream",
     "text": [
      "  Downloading mnist-0.2.2-py2.py3-none-any.whl (3.5 kB)\r\n",
      "Requirement already satisfied: numpy in /opt/hostedtoolcache/Python/3.6.15/x64/lib/python3.6/site-packages (from mnist) (1.19.5)\r\n"
     ]
    },
    {
     "name": "stdout",
     "output_type": "stream",
     "text": [
      "Installing collected packages: mnist\r\n",
      "Successfully installed mnist-0.2.2\r\n"
     ]
    }
   ],
   "source": [
    "!pip install mnist"
   ]
  },
  {
   "cell_type": "markdown",
   "id": "69df9c9a",
   "metadata": {
    "papermill": {
     "duration": 0.025323,
     "end_time": "2022-06-28T00:40:02.841812",
     "exception": false,
     "start_time": "2022-06-28T00:40:02.816489",
     "status": "completed"
    },
    "tags": []
   },
   "source": [
    "## Preparing the Data"
   ]
  },
  {
   "cell_type": "code",
   "execution_count": 4,
   "id": "7f69d806",
   "metadata": {
    "execution": {
     "iopub.execute_input": "2022-06-28T00:40:02.896931Z",
     "iopub.status.busy": "2022-06-28T00:40:02.896346Z",
     "iopub.status.idle": "2022-06-28T00:40:02.909990Z",
     "shell.execute_reply": "2022-06-28T00:40:02.909509Z"
    },
    "papermill": {
     "duration": 0.04391,
     "end_time": "2022-06-28T00:40:02.910106",
     "exception": false,
     "start_time": "2022-06-28T00:40:02.866196",
     "status": "completed"
    },
    "tags": []
   },
   "outputs": [],
   "source": [
    "import mnist"
   ]
  },
  {
   "cell_type": "code",
   "execution_count": 5,
   "id": "a411e44f",
   "metadata": {
    "execution": {
     "iopub.execute_input": "2022-06-28T00:40:02.963071Z",
     "iopub.status.busy": "2022-06-28T00:40:02.962465Z",
     "iopub.status.idle": "2022-06-28T00:40:03.531602Z",
     "shell.execute_reply": "2022-06-28T00:40:03.530952Z"
    },
    "papermill": {
     "duration": 0.597232,
     "end_time": "2022-06-28T00:40:03.531738",
     "exception": false,
     "start_time": "2022-06-28T00:40:02.934506",
     "status": "completed"
    },
    "tags": []
   },
   "outputs": [],
   "source": [
    "train_images = mnist.train_images()\n",
    "train_labels = mnist.train_labels()"
   ]
  },
  {
   "cell_type": "code",
   "execution_count": 6,
   "id": "dceab3a5",
   "metadata": {
    "execution": {
     "iopub.execute_input": "2022-06-28T00:40:03.585282Z",
     "iopub.status.busy": "2022-06-28T00:40:03.584688Z",
     "iopub.status.idle": "2022-06-28T00:40:03.599202Z",
     "shell.execute_reply": "2022-06-28T00:40:03.599688Z"
    },
    "papermill": {
     "duration": 0.04303,
     "end_time": "2022-06-28T00:40:03.599818",
     "exception": false,
     "start_time": "2022-06-28T00:40:03.556788",
     "status": "completed"
    },
    "tags": []
   },
   "outputs": [
    {
     "data": {
      "text/plain": [
       "((60000, 28, 28), (60000,))"
      ]
     },
     "execution_count": 6,
     "metadata": {},
     "output_type": "execute_result"
    }
   ],
   "source": [
    "train_images.shape, train_labels.shape"
   ]
  },
  {
   "cell_type": "code",
   "execution_count": 7,
   "id": "f50dc2bb",
   "metadata": {
    "execution": {
     "iopub.execute_input": "2022-06-28T00:40:03.653299Z",
     "iopub.status.busy": "2022-06-28T00:40:03.652703Z",
     "iopub.status.idle": "2022-06-28T00:40:03.805558Z",
     "shell.execute_reply": "2022-06-28T00:40:03.804948Z"
    },
    "papermill": {
     "duration": 0.181216,
     "end_time": "2022-06-28T00:40:03.805746",
     "exception": false,
     "start_time": "2022-06-28T00:40:03.624530",
     "status": "completed"
    },
    "tags": []
   },
   "outputs": [],
   "source": [
    "test_images = mnist.test_images()\n",
    "test_labels = mnist.test_labels()"
   ]
  },
  {
   "cell_type": "code",
   "execution_count": 8,
   "id": "fc38cf1b",
   "metadata": {
    "execution": {
     "iopub.execute_input": "2022-06-28T00:40:03.860347Z",
     "iopub.status.busy": "2022-06-28T00:40:03.859756Z",
     "iopub.status.idle": "2022-06-28T00:40:03.873567Z",
     "shell.execute_reply": "2022-06-28T00:40:03.873093Z"
    },
    "papermill": {
     "duration": 0.042367,
     "end_time": "2022-06-28T00:40:03.873677",
     "exception": false,
     "start_time": "2022-06-28T00:40:03.831310",
     "status": "completed"
    },
    "tags": []
   },
   "outputs": [
    {
     "data": {
      "text/plain": [
       "((10000, 28, 28), (10000,))"
      ]
     },
     "execution_count": 8,
     "metadata": {},
     "output_type": "execute_result"
    }
   ],
   "source": [
    "test_images.shape, test_labels.shape"
   ]
  },
  {
   "cell_type": "code",
   "execution_count": 9,
   "id": "f9ed8fe0",
   "metadata": {
    "execution": {
     "iopub.execute_input": "2022-06-28T00:40:03.928170Z",
     "iopub.status.busy": "2022-06-28T00:40:03.927588Z",
     "iopub.status.idle": "2022-06-28T00:40:04.066251Z",
     "shell.execute_reply": "2022-06-28T00:40:04.066688Z"
    },
    "papermill": {
     "duration": 0.167638,
     "end_time": "2022-06-28T00:40:04.066841",
     "exception": false,
     "start_time": "2022-06-28T00:40:03.899203",
     "status": "completed"
    },
    "tags": []
   },
   "outputs": [
    {
     "name": "stdout",
     "output_type": "stream",
     "text": [
      "2\n"
     ]
    },
    {
     "data": {
      "text/plain": [
       "<matplotlib.image.AxesImage at 0x7fe5570c0518>"
      ]
     },
     "execution_count": 9,
     "metadata": {},
     "output_type": "execute_result"
    },
    {
     "data": {
      "image/png": "[encoded data removed]",
      "text/plain": [
       "<Figure size 432x288 with 1 Axes>"
      ]
     },
     "metadata": {
      "needs_background": "light"
     },
     "output_type": "display_data"
    }
   ],
   "source": [
    "image_index = 7776 # You may select anything up to 60,000\n",
    "print(train_labels[image_index]) \n",
    "plt.imshow(train_images[image_index], cmap='Greys')"
   ]
  },
  {
   "cell_type": "markdown",
   "id": "a8d2388d",
   "metadata": {
    "papermill": {
     "duration": 0.026346,
     "end_time": "2022-06-28T00:40:04.119549",
     "exception": false,
     "start_time": "2022-06-28T00:40:04.093203",
     "status": "completed"
    },
    "tags": []
   },
   "source": [
    "## Filter data to get 3 and 8 out"
   ]
  },
  {
   "cell_type": "code",
   "execution_count": 10,
   "id": "776f7fc7",
   "metadata": {
    "execution": {
     "iopub.execute_input": "2022-06-28T00:40:04.176763Z",
     "iopub.status.busy": "2022-06-28T00:40:04.176127Z",
     "iopub.status.idle": "2022-06-28T00:40:04.192270Z",
     "shell.execute_reply": "2022-06-28T00:40:04.191781Z"
    },
    "papermill": {
     "duration": 0.04681,
     "end_time": "2022-06-28T00:40:04.192384",
     "exception": false,
     "start_time": "2022-06-28T00:40:04.145574",
     "status": "completed"
    },
    "tags": []
   },
   "outputs": [],
   "source": [
    "train_filter = np.where((train_labels == 3 ) | (train_labels == 8))\n",
    "test_filter = np.where((test_labels == 3) | (test_labels == 8))\n",
    "X_train, y_train = train_images[train_filter], train_labels[train_filter]\n",
    "X_test, y_test = test_images[test_filter], test_labels[test_filter]"
   ]
  },
  {
   "cell_type": "markdown",
   "id": "948f0b7e",
   "metadata": {
    "papermill": {
     "duration": 0.02638,
     "end_time": "2022-06-28T00:40:04.244924",
     "exception": false,
     "start_time": "2022-06-28T00:40:04.218544",
     "status": "completed"
    },
    "tags": []
   },
   "source": [
    "We normalize the pizel values in the 0 to 1 range"
   ]
  },
  {
   "cell_type": "code",
   "execution_count": 11,
   "id": "ee4c2166",
   "metadata": {
    "execution": {
     "iopub.execute_input": "2022-06-28T00:40:04.300894Z",
     "iopub.status.busy": "2022-06-28T00:40:04.300305Z",
     "iopub.status.idle": "2022-06-28T00:40:04.345426Z",
     "shell.execute_reply": "2022-06-28T00:40:04.344842Z"
    },
    "papermill": {
     "duration": 0.074644,
     "end_time": "2022-06-28T00:40:04.345560",
     "exception": false,
     "start_time": "2022-06-28T00:40:04.270916",
     "status": "completed"
    },
    "tags": []
   },
   "outputs": [],
   "source": [
    "X_train = X_train/255.\n",
    "X_test = X_test/255."
   ]
  },
  {
   "cell_type": "markdown",
   "id": "ddcf4fab",
   "metadata": {
    "papermill": {
     "duration": 0.025998,
     "end_time": "2022-06-28T00:40:04.398831",
     "exception": false,
     "start_time": "2022-06-28T00:40:04.372833",
     "status": "completed"
    },
    "tags": []
   },
   "source": [
    "And setup the labels as 1 (when the digit is 3) and 0 (when the digit is 8)"
   ]
  },
  {
   "cell_type": "code",
   "execution_count": 12,
   "id": "7dc908f2",
   "metadata": {
    "execution": {
     "iopub.execute_input": "2022-06-28T00:40:04.456039Z",
     "iopub.status.busy": "2022-06-28T00:40:04.455432Z",
     "iopub.status.idle": "2022-06-28T00:40:04.466760Z",
     "shell.execute_reply": "2022-06-28T00:40:04.467207Z"
    },
    "papermill": {
     "duration": 0.042588,
     "end_time": "2022-06-28T00:40:04.467344",
     "exception": false,
     "start_time": "2022-06-28T00:40:04.424756",
     "status": "completed"
    },
    "tags": []
   },
   "outputs": [],
   "source": [
    "y_train = 1*(y_train==3)\n",
    "y_test = 1*(y_test==3)"
   ]
  },
  {
   "cell_type": "code",
   "execution_count": 13,
   "id": "01e4e969",
   "metadata": {
    "execution": {
     "iopub.execute_input": "2022-06-28T00:40:04.524335Z",
     "iopub.status.busy": "2022-06-28T00:40:04.523660Z",
     "iopub.status.idle": "2022-06-28T00:40:04.536267Z",
     "shell.execute_reply": "2022-06-28T00:40:04.536737Z"
    },
    "papermill": {
     "duration": 0.043572,
     "end_time": "2022-06-28T00:40:04.536860",
     "exception": false,
     "start_time": "2022-06-28T00:40:04.493288",
     "status": "completed"
    },
    "tags": []
   },
   "outputs": [
    {
     "data": {
      "text/plain": [
       "((11982, 28, 28), (1984, 28, 28))"
      ]
     },
     "execution_count": 13,
     "metadata": {},
     "output_type": "execute_result"
    }
   ],
   "source": [
    "X_train.shape, X_test.shape"
   ]
  },
  {
   "cell_type": "markdown",
   "id": "5ccf3f85",
   "metadata": {
    "papermill": {
     "duration": 0.026138,
     "end_time": "2022-06-28T00:40:04.589286",
     "exception": false,
     "start_time": "2022-06-28T00:40:04.563148",
     "status": "completed"
    },
    "tags": []
   },
   "source": [
    "We reshape the data to flatten the image pixels into a set of features or co-variates:"
   ]
  },
  {
   "cell_type": "code",
   "execution_count": 14,
   "id": "5286a4a3",
   "metadata": {
    "execution": {
     "iopub.execute_input": "2022-06-28T00:40:04.648582Z",
     "iopub.status.busy": "2022-06-28T00:40:04.647978Z",
     "iopub.status.idle": "2022-06-28T00:40:04.660370Z",
     "shell.execute_reply": "2022-06-28T00:40:04.659802Z"
    },
    "papermill": {
     "duration": 0.044805,
     "end_time": "2022-06-28T00:40:04.660480",
     "exception": false,
     "start_time": "2022-06-28T00:40:04.615675",
     "status": "completed"
    },
    "tags": []
   },
   "outputs": [
    {
     "data": {
      "text/plain": [
       "((11982, 784), (1984, 784))"
      ]
     },
     "execution_count": 14,
     "metadata": {},
     "output_type": "execute_result"
    }
   ],
   "source": [
    "X_train = X_train.reshape(X_train.shape[0], -1)\n",
    "X_test = X_test.reshape(X_test.shape[0], -1)\n",
    "X_train.shape, X_test.shape"
   ]
  },
  {
   "cell_type": "code",
   "execution_count": 15,
   "id": "73c5f88a",
   "metadata": {
    "execution": {
     "iopub.execute_input": "2022-06-28T00:40:04.718173Z",
     "iopub.status.busy": "2022-06-28T00:40:04.717587Z",
     "iopub.status.idle": "2022-06-28T00:40:04.736275Z",
     "shell.execute_reply": "2022-06-28T00:40:04.735802Z"
    },
    "papermill": {
     "duration": 0.049524,
     "end_time": "2022-06-28T00:40:04.736380",
     "exception": false,
     "start_time": "2022-06-28T00:40:04.686856",
     "status": "completed"
    },
    "tags": []
   },
   "outputs": [],
   "source": [
    "#Impoting functions from 'Kudzu'\n",
    "from kudzu.model import Model\n",
    "from kudzu.train import Learner\n",
    "from kudzu.optim import GD\n",
    "from kudzu.data import Data, Sampler,Dataloader\n",
    "\n",
    "from kudzu.callbacks import AccCallback\n",
    "from kudzu.callbacks import ClfCallback\n",
    "\n",
    "from kudzu.loss import MSE\n",
    "\n",
    "from kudzu.layer import Sigmoid,Relu\n",
    "from kudzu.layer import Affine"
   ]
  },
  {
   "cell_type": "markdown",
   "id": "bc01172a",
   "metadata": {
    "papermill": {
     "duration": 0.026417,
     "end_time": "2022-06-28T00:40:04.789360",
     "exception": false,
     "start_time": "2022-06-28T00:40:04.762943",
     "status": "completed"
    },
    "tags": []
   },
   "source": [
    "### Let us create a `Config` class, to store important parameters. \n",
    "This class essentially plays the role of a dictionary."
   ]
  },
  {
   "cell_type": "code",
   "execution_count": 16,
   "id": "978281aa",
   "metadata": {
    "execution": {
     "iopub.execute_input": "2022-06-28T00:40:04.851424Z",
     "iopub.status.busy": "2022-06-28T00:40:04.850781Z",
     "iopub.status.idle": "2022-06-28T00:40:04.860206Z",
     "shell.execute_reply": "2022-06-28T00:40:04.860679Z"
    },
    "papermill": {
     "duration": 0.04492,
     "end_time": "2022-06-28T00:40:04.860806",
     "exception": false,
     "start_time": "2022-06-28T00:40:04.815886",
     "status": "completed"
    },
    "tags": []
   },
   "outputs": [],
   "source": [
    "class Config:\n",
    "    pass\n",
    "config = Config()\n",
    "config.lr = 0.001\n",
    "config.num_epochs = 250\n",
    "config.bs = 50"
   ]
  },
  {
   "cell_type": "markdown",
   "id": "1385fa59",
   "metadata": {
    "papermill": {
     "duration": 0.026439,
     "end_time": "2022-06-28T00:40:04.914215",
     "exception": false,
     "start_time": "2022-06-28T00:40:04.887776",
     "status": "completed"
    },
    "tags": []
   },
   "source": [
    "### Running Models with the Training data\n",
    "Details about the network layers:\n",
    "- A first affine layer has 784 inputs and does 100 affine transforms. These are followed by a Relu\n",
    "- A second affine layer has 100 inputs from the 100 activations of the past layer, and does 100 affine transforms. These are followed by a Relu\n",
    "- A third affine layer has 100 activations and does 2 affine transformations to create an embedding for visualization. There is no non-linearity here.\n",
    "- A final \"logistic regression\" which has an affine transform from 2 inputs to 1 output, which is squeezed through a sigmoid.\n"
   ]
  },
  {
   "cell_type": "code",
   "execution_count": 17,
   "id": "2b9c66db",
   "metadata": {
    "execution": {
     "iopub.execute_input": "2022-06-28T00:40:04.971730Z",
     "iopub.status.busy": "2022-06-28T00:40:04.971126Z",
     "iopub.status.idle": "2022-06-28T00:40:04.983999Z",
     "shell.execute_reply": "2022-06-28T00:40:04.983521Z"
    },
    "papermill": {
     "duration": 0.043397,
     "end_time": "2022-06-28T00:40:04.984109",
     "exception": false,
     "start_time": "2022-06-28T00:40:04.940712",
     "status": "completed"
    },
    "tags": []
   },
   "outputs": [],
   "source": [
    "data = Data(X_train, y_train.reshape(-1,1))\n",
    "sampler = Sampler(data, config.bs, shuffle=True)\n",
    "\n",
    "dl = Dataloader(data, sampler)\n",
    "\n",
    "opt = GD(config.lr)\n",
    "loss = MSE()"
   ]
  },
  {
   "cell_type": "code",
   "execution_count": 18,
   "id": "b275e4c2",
   "metadata": {
    "execution": {
     "iopub.execute_input": "2022-06-28T00:40:05.041516Z",
     "iopub.status.busy": "2022-06-28T00:40:05.040929Z",
     "iopub.status.idle": "2022-06-28T00:40:05.053139Z",
     "shell.execute_reply": "2022-06-28T00:40:05.053584Z"
    },
    "papermill": {
     "duration": 0.04254,
     "end_time": "2022-06-28T00:40:05.053706",
     "exception": false,
     "start_time": "2022-06-28T00:40:05.011166",
     "status": "completed"
    },
    "tags": []
   },
   "outputs": [],
   "source": [
    "training_data_x = X_train\n",
    "testing_data_x = X_test\n",
    "training_data_y = y_train.reshape(-1,1)\n",
    "testing_data_y = y_test.reshape(-1,1)"
   ]
  },
  {
   "cell_type": "code",
   "execution_count": 19,
   "id": "76951160",
   "metadata": {
    "execution": {
     "iopub.execute_input": "2022-06-28T00:40:05.111154Z",
     "iopub.status.busy": "2022-06-28T00:40:05.110534Z",
     "iopub.status.idle": "2022-06-28T00:40:05.127824Z",
     "shell.execute_reply": "2022-06-28T00:40:05.127346Z"
    },
    "papermill": {
     "duration": 0.047814,
     "end_time": "2022-06-28T00:40:05.127933",
     "exception": false,
     "start_time": "2022-06-28T00:40:05.080119",
     "status": "completed"
    },
    "tags": []
   },
   "outputs": [
    {
     "name": "stdout",
     "output_type": "stream",
     "text": [
      "xavier\n",
      "xavier\n",
      "xavier\n",
      "xavier\n",
      "xavier\n"
     ]
    }
   ],
   "source": [
    "layers = [Affine(\"first\", 784, 100), Relu(\"first\"), Affine(\"second\", 100, 100), Relu(\"second\"), Affine(\"third\", 100, 2), Affine(\"last\", 2, 1), Sigmoid(\"last\")]\n",
    "model_nn = Model(layers)\n",
    "model_lr = Model([Affine(\"logits\", 784, 1), Sigmoid(\"sigmoid\")])"
   ]
  },
  {
   "cell_type": "code",
   "execution_count": 20,
   "id": "6eede77a",
   "metadata": {
    "execution": {
     "iopub.execute_input": "2022-06-28T00:40:05.185657Z",
     "iopub.status.busy": "2022-06-28T00:40:05.185078Z",
     "iopub.status.idle": "2022-06-28T00:40:05.197843Z",
     "shell.execute_reply": "2022-06-28T00:40:05.197274Z"
    },
    "papermill": {
     "duration": 0.043092,
     "end_time": "2022-06-28T00:40:05.197948",
     "exception": false,
     "start_time": "2022-06-28T00:40:05.154856",
     "status": "completed"
    },
    "tags": []
   },
   "outputs": [],
   "source": [
    "nn_learner = Learner(loss, model_nn, opt, config.num_epochs)\n",
    "acc_nn = ClfCallback(nn_learner, config.bs, training_data_x , testing_data_x, training_data_y, testing_data_y)\n",
    "nn_learner.set_callbacks([acc_nn])"
   ]
  },
  {
   "cell_type": "code",
   "execution_count": 21,
   "id": "877b6cc7",
   "metadata": {
    "execution": {
     "iopub.execute_input": "2022-06-28T00:40:05.255591Z",
     "iopub.status.busy": "2022-06-28T00:40:05.254973Z",
     "iopub.status.idle": "2022-06-28T00:40:05.267888Z",
     "shell.execute_reply": "2022-06-28T00:40:05.267421Z"
    },
    "papermill": {
     "duration": 0.043046,
     "end_time": "2022-06-28T00:40:05.267991",
     "exception": false,
     "start_time": "2022-06-28T00:40:05.224945",
     "status": "completed"
    },
    "tags": []
   },
   "outputs": [],
   "source": [
    "lr_learner = Learner(loss, model_lr, opt, config.num_epochs)\n",
    "acc_lr = ClfCallback(lr_learner, config.bs, training_data_x , testing_data_x, training_data_y, testing_data_y)\n",
    "lr_learner.set_callbacks([acc_lr])"
   ]
  },
  {
   "cell_type": "code",
   "execution_count": 22,
   "id": "d9b133c3",
   "metadata": {
    "execution": {
     "iopub.execute_input": "2022-06-28T00:40:05.325231Z",
     "iopub.status.busy": "2022-06-28T00:40:05.324653Z",
     "iopub.status.idle": "2022-06-28T00:41:24.229133Z",
     "shell.execute_reply": "2022-06-28T00:41:24.229986Z"
    },
    "papermill": {
     "duration": 78.935153,
     "end_time": "2022-06-28T00:41:24.230135",
     "exception": false,
     "start_time": "2022-06-28T00:40:05.294982",
     "status": "completed"
    },
    "tags": []
   },
   "outputs": [
    {
     "name": "stdout",
     "output_type": "stream",
     "text": [
      "Epoch 0, Loss 0.2515\n",
      "Training Accuracy: 0.4822, Testing Accuracy: 0.4874\n",
      "\n"
     ]
    },
    {
     "name": "stdout",
     "output_type": "stream",
     "text": [
      "Epoch 10, Loss 0.2383\n",
      "Training Accuracy: 0.7250, Testing Accuracy: 0.7480\n",
      "\n"
     ]
    },
    {
     "name": "stdout",
     "output_type": "stream",
     "text": [
      "Epoch 20, Loss 0.189\n",
      "Training Accuracy: 0.8684, Testing Accuracy: 0.8851\n",
      "\n"
     ]
    },
    {
     "name": "stdout",
     "output_type": "stream",
     "text": [
      "Epoch 30, Loss 0.0976\n",
      "Training Accuracy: 0.9064, Testing Accuracy: 0.9143\n",
      "\n"
     ]
    },
    {
     "name": "stdout",
     "output_type": "stream",
     "text": [
      "Epoch 40, Loss 0.0635\n",
      "Training Accuracy: 0.9312, Testing Accuracy: 0.9425\n",
      "\n"
     ]
    },
    {
     "name": "stdout",
     "output_type": "stream",
     "text": [
      "Epoch 50, Loss 0.0497\n",
      "Training Accuracy: 0.9451, Testing Accuracy: 0.9521\n",
      "\n"
     ]
    },
    {
     "name": "stdout",
     "output_type": "stream",
     "text": [
      "Epoch 60, Loss 0.0424\n",
      "Training Accuracy: 0.9523, Testing Accuracy: 0.9592\n",
      "\n"
     ]
    },
    {
     "name": "stdout",
     "output_type": "stream",
     "text": [
      "Epoch 70, Loss 0.038\n",
      "Training Accuracy: 0.9560, Testing Accuracy: 0.9612\n",
      "\n"
     ]
    },
    {
     "name": "stdout",
     "output_type": "stream",
     "text": [
      "Epoch 80, Loss 0.0351\n",
      "Training Accuracy: 0.9585, Testing Accuracy: 0.9657\n",
      "\n"
     ]
    },
    {
     "name": "stdout",
     "output_type": "stream",
     "text": [
      "Epoch 90, Loss 0.0329\n",
      "Training Accuracy: 0.9611, Testing Accuracy: 0.9667\n",
      "\n"
     ]
    },
    {
     "name": "stdout",
     "output_type": "stream",
     "text": [
      "Epoch 100, Loss 0.0313\n",
      "Training Accuracy: 0.9629, Testing Accuracy: 0.9667\n",
      "\n"
     ]
    },
    {
     "name": "stdout",
     "output_type": "stream",
     "text": [
      "Epoch 110, Loss 0.0299\n",
      "Training Accuracy: 0.9644, Testing Accuracy: 0.9688\n",
      "\n"
     ]
    },
    {
     "name": "stdout",
     "output_type": "stream",
     "text": [
      "Epoch 120, Loss 0.0288\n",
      "Training Accuracy: 0.9662, Testing Accuracy: 0.9698\n",
      "\n"
     ]
    },
    {
     "name": "stdout",
     "output_type": "stream",
     "text": [
      "Epoch 130, Loss 0.0278\n",
      "Training Accuracy: 0.9673, Testing Accuracy: 0.9703\n",
      "\n"
     ]
    },
    {
     "name": "stdout",
     "output_type": "stream",
     "text": [
      "Epoch 140, Loss 0.027\n",
      "Training Accuracy: 0.9685, Testing Accuracy: 0.9713\n",
      "\n"
     ]
    },
    {
     "name": "stdout",
     "output_type": "stream",
     "text": [
      "Epoch 150, Loss 0.0262\n",
      "Training Accuracy: 0.9695, Testing Accuracy: 0.9718\n",
      "\n"
     ]
    },
    {
     "name": "stdout",
     "output_type": "stream",
     "text": [
      "Epoch 160, Loss 0.0255\n",
      "Training Accuracy: 0.9705, Testing Accuracy: 0.9728\n",
      "\n"
     ]
    },
    {
     "name": "stdout",
     "output_type": "stream",
     "text": [
      "Epoch 170, Loss 0.0249\n",
      "Training Accuracy: 0.9715, Testing Accuracy: 0.9718\n",
      "\n"
     ]
    },
    {
     "name": "stdout",
     "output_type": "stream",
     "text": [
      "Epoch 180, Loss 0.0243\n",
      "Training Accuracy: 0.9722, Testing Accuracy: 0.9718\n",
      "\n"
     ]
    },
    {
     "name": "stdout",
     "output_type": "stream",
     "text": [
      "Epoch 190, Loss 0.0237\n",
      "Training Accuracy: 0.9730, Testing Accuracy: 0.9728\n",
      "\n"
     ]
    },
    {
     "name": "stdout",
     "output_type": "stream",
     "text": [
      "Epoch 200, Loss 0.0232\n",
      "Training Accuracy: 0.9731, Testing Accuracy: 0.9728\n",
      "\n"
     ]
    },
    {
     "name": "stdout",
     "output_type": "stream",
     "text": [
      "Epoch 210, Loss 0.0227\n",
      "Training Accuracy: 0.9735, Testing Accuracy: 0.9728\n",
      "\n"
     ]
    },
    {
     "name": "stdout",
     "output_type": "stream",
     "text": [
      "Epoch 220, Loss 0.0223\n",
      "Training Accuracy: 0.9741, Testing Accuracy: 0.9728\n",
      "\n"
     ]
    },
    {
     "name": "stdout",
     "output_type": "stream",
     "text": [
      "Epoch 230, Loss 0.0218\n",
      "Training Accuracy: 0.9746, Testing Accuracy: 0.9733\n",
      "\n"
     ]
    },
    {
     "name": "stdout",
     "output_type": "stream",
     "text": [
      "Epoch 240, Loss 0.0214\n",
      "Training Accuracy: 0.9750, Testing Accuracy: 0.9733\n",
      "\n"
     ]
    },
    {
     "data": {
      "text/plain": [
       "0.005304991074386502"
      ]
     },
     "execution_count": 22,
     "metadata": {},
     "output_type": "execute_result"
    }
   ],
   "source": [
    "nn_learner.train_loop(dl)"
   ]
  },
  {
   "cell_type": "code",
   "execution_count": 23,
   "id": "e0163366",
   "metadata": {
    "execution": {
     "iopub.execute_input": "2022-06-28T00:41:24.311891Z",
     "iopub.status.busy": "2022-06-28T00:41:24.311253Z",
     "iopub.status.idle": "2022-06-28T00:41:38.464864Z",
     "shell.execute_reply": "2022-06-28T00:41:38.465693Z"
    },
    "papermill": {
     "duration": 14.201122,
     "end_time": "2022-06-28T00:41:38.465840",
     "exception": false,
     "start_time": "2022-06-28T00:41:24.264718",
     "status": "completed"
    },
    "tags": []
   },
   "outputs": [
    {
     "name": "stdout",
     "output_type": "stream",
     "text": [
      "Epoch 0, Loss 0.223\n",
      "Training Accuracy: 0.7545, Testing Accuracy: 0.7802\n",
      "\n"
     ]
    },
    {
     "name": "stdout",
     "output_type": "stream",
     "text": [
      "Epoch 10, Loss 0.0965\n",
      "Training Accuracy: 0.9230, Testing Accuracy: 0.9360\n",
      "\n"
     ]
    },
    {
     "name": "stdout",
     "output_type": "stream",
     "text": [
      "Epoch 20, Loss 0.0755\n",
      "Training Accuracy: 0.9334, Testing Accuracy: 0.9446\n",
      "\n"
     ]
    },
    {
     "name": "stdout",
     "output_type": "stream",
     "text": [
      "Epoch 30, Loss 0.0657\n",
      "Training Accuracy: 0.9414, Testing Accuracy: 0.9491\n",
      "\n"
     ]
    },
    {
     "name": "stdout",
     "output_type": "stream",
     "text": [
      "Epoch 40, Loss 0.0597\n",
      "Training Accuracy: 0.9452, Testing Accuracy: 0.9521\n",
      "\n"
     ]
    },
    {
     "name": "stdout",
     "output_type": "stream",
     "text": [
      "Epoch 50, Loss 0.0556\n",
      "Training Accuracy: 0.9480, Testing Accuracy: 0.9551\n",
      "\n"
     ]
    },
    {
     "name": "stdout",
     "output_type": "stream",
     "text": [
      "Epoch 60, Loss 0.0525\n",
      "Training Accuracy: 0.9496, Testing Accuracy: 0.9582\n",
      "\n"
     ]
    },
    {
     "name": "stdout",
     "output_type": "stream",
     "text": [
      "Epoch 70, Loss 0.0501\n",
      "Training Accuracy: 0.9506, Testing Accuracy: 0.9612\n",
      "\n"
     ]
    },
    {
     "name": "stdout",
     "output_type": "stream",
     "text": [
      "Epoch 80, Loss 0.0482\n",
      "Training Accuracy: 0.9522, Testing Accuracy: 0.9617\n",
      "\n"
     ]
    },
    {
     "name": "stdout",
     "output_type": "stream",
     "text": [
      "Epoch 90, Loss 0.0466\n",
      "Training Accuracy: 0.9528, Testing Accuracy: 0.9612\n",
      "\n"
     ]
    },
    {
     "name": "stdout",
     "output_type": "stream",
     "text": [
      "Epoch 100, Loss 0.0453\n",
      "Training Accuracy: 0.9538, Testing Accuracy: 0.9622\n",
      "\n"
     ]
    },
    {
     "name": "stdout",
     "output_type": "stream",
     "text": [
      "Epoch 110, Loss 0.0441\n",
      "Training Accuracy: 0.9547, Testing Accuracy: 0.9617\n",
      "\n"
     ]
    },
    {
     "name": "stdout",
     "output_type": "stream",
     "text": [
      "Epoch 120, Loss 0.0431\n",
      "Training Accuracy: 0.9553, Testing Accuracy: 0.9622\n",
      "\n"
     ]
    },
    {
     "name": "stdout",
     "output_type": "stream",
     "text": [
      "Epoch 130, Loss 0.0423\n",
      "Training Accuracy: 0.9563, Testing Accuracy: 0.9637\n",
      "\n"
     ]
    },
    {
     "name": "stdout",
     "output_type": "stream",
     "text": [
      "Epoch 140, Loss 0.0415\n",
      "Training Accuracy: 0.9573, Testing Accuracy: 0.9637\n",
      "\n"
     ]
    },
    {
     "name": "stdout",
     "output_type": "stream",
     "text": [
      "Epoch 150, Loss 0.0408\n",
      "Training Accuracy: 0.9580, Testing Accuracy: 0.9642\n",
      "\n"
     ]
    },
    {
     "name": "stdout",
     "output_type": "stream",
     "text": [
      "Epoch 160, Loss 0.0401\n",
      "Training Accuracy: 0.9584, Testing Accuracy: 0.9652\n",
      "\n"
     ]
    },
    {
     "name": "stdout",
     "output_type": "stream",
     "text": [
      "Epoch 170, Loss 0.0395\n",
      "Training Accuracy: 0.9591, Testing Accuracy: 0.9647\n",
      "\n"
     ]
    },
    {
     "name": "stdout",
     "output_type": "stream",
     "text": [
      "Epoch 180, Loss 0.039\n",
      "Training Accuracy: 0.9595, Testing Accuracy: 0.9647\n",
      "\n"
     ]
    },
    {
     "name": "stdout",
     "output_type": "stream",
     "text": [
      "Epoch 190, Loss 0.0385\n",
      "Training Accuracy: 0.9598, Testing Accuracy: 0.9642\n",
      "\n"
     ]
    },
    {
     "name": "stdout",
     "output_type": "stream",
     "text": [
      "Epoch 200, Loss 0.038\n",
      "Training Accuracy: 0.9603, Testing Accuracy: 0.9642\n",
      "\n"
     ]
    },
    {
     "name": "stdout",
     "output_type": "stream",
     "text": [
      "Epoch 210, Loss 0.0376\n",
      "Training Accuracy: 0.9604, Testing Accuracy: 0.9642\n",
      "\n"
     ]
    },
    {
     "name": "stdout",
     "output_type": "stream",
     "text": [
      "Epoch 220, Loss 0.0372\n",
      "Training Accuracy: 0.9609, Testing Accuracy: 0.9647\n",
      "\n"
     ]
    },
    {
     "name": "stdout",
     "output_type": "stream",
     "text": [
      "Epoch 230, Loss 0.0368\n",
      "Training Accuracy: 0.9611, Testing Accuracy: 0.9642\n",
      "\n"
     ]
    },
    {
     "name": "stdout",
     "output_type": "stream",
     "text": [
      "Epoch 240, Loss 0.0365\n",
      "Training Accuracy: 0.9613, Testing Accuracy: 0.9642\n",
      "\n"
     ]
    },
    {
     "data": {
      "text/plain": [
       "0.03890222732217226"
      ]
     },
     "execution_count": 23,
     "metadata": {},
     "output_type": "execute_result"
    }
   ],
   "source": [
    "lr_learner.train_loop(dl)"
   ]
  },
  {
   "cell_type": "code",
   "execution_count": 24,
   "id": "ca410940",
   "metadata": {
    "execution": {
     "iopub.execute_input": "2022-06-28T00:41:38.556915Z",
     "iopub.status.busy": "2022-06-28T00:41:38.556318Z",
     "iopub.status.idle": "2022-06-28T00:41:38.781670Z",
     "shell.execute_reply": "2022-06-28T00:41:38.781174Z"
    },
    "papermill": {
     "duration": 0.274794,
     "end_time": "2022-06-28T00:41:38.781787",
     "exception": false,
     "start_time": "2022-06-28T00:41:38.506993",
     "status": "completed"
    },
    "tags": []
   },
   "outputs": [
    {
     "data": {
      "text/plain": [
       "<matplotlib.legend.Legend at 0x7fe54a475b00>"
      ]
     },
     "execution_count": 24,
     "metadata": {},
     "output_type": "execute_result"
    },
    {
     "data": {
      "image/png": "[encoded data removed]",
      "text/plain": [
       "<Figure size 1080x720 with 1 Axes>"
      ]
     },
     "metadata": {
      "needs_background": "light"
     },
     "output_type": "display_data"
    }
   ],
   "source": [
    "#comparing the results of NN and LR\n",
    "plt.figure(figsize=(15,10))\n",
    "\n",
    "# Neural Network plots\n",
    "plt.plot(acc_nn.accuracies, 'r-', label = \"Training Accuracies - NN\")\n",
    "plt.plot(acc_nn.test_accuracies, 'g-', label = \"Testing Accuracies - NN\")\n",
    "\n",
    "# Logistic Regression plots\n",
    "plt.plot(acc_lr.accuracies, 'k-', label = \"Training Accuracies - LR\")\n",
    "plt.plot(acc_lr.test_accuracies, 'b-', label = \"Testing Accuracies - LR\")\n",
    "plt.legend()"
   ]
  },
  {
   "cell_type": "markdown",
   "id": "80dfb35c",
   "metadata": {
    "papermill": {
     "duration": 0.041448,
     "end_time": "2022-06-28T00:41:38.864862",
     "exception": false,
     "start_time": "2022-06-28T00:41:38.823414",
     "status": "completed"
    },
    "tags": []
   },
   "source": [
    "#### Plotting the outputs of this layer of the NN.\n"
   ]
  },
  {
   "cell_type": "code",
   "execution_count": 25,
   "id": "45eb2ff5",
   "metadata": {
    "execution": {
     "iopub.execute_input": "2022-06-28T00:41:38.958817Z",
     "iopub.status.busy": "2022-06-28T00:41:38.956429Z",
     "iopub.status.idle": "2022-06-28T00:41:38.977515Z",
     "shell.execute_reply": "2022-06-28T00:41:38.977029Z"
    },
    "papermill": {
     "duration": 0.071045,
     "end_time": "2022-06-28T00:41:38.977625",
     "exception": false,
     "start_time": "2022-06-28T00:41:38.906580",
     "status": "completed"
    },
    "tags": []
   },
   "outputs": [],
   "source": [
    "new_model = Model(layers[:-2])\n",
    "testing_plot = new_model(testing_data_x)"
   ]
  },
  {
   "cell_type": "code",
   "execution_count": 26,
   "id": "4c0a5485",
   "metadata": {
    "execution": {
     "iopub.execute_input": "2022-06-28T00:41:39.067071Z",
     "iopub.status.busy": "2022-06-28T00:41:39.066440Z",
     "iopub.status.idle": "2022-06-28T00:41:39.273188Z",
     "shell.execute_reply": "2022-06-28T00:41:39.272439Z"
    },
    "papermill": {
     "duration": 0.252553,
     "end_time": "2022-06-28T00:41:39.273312",
     "exception": false,
     "start_time": "2022-06-28T00:41:39.020759",
     "status": "completed"
    },
    "tags": []
   },
   "outputs": [
    {
     "data": {
      "text/plain": [
       "Text(0.5, 1.0, 'Outputs')"
      ]
     },
     "execution_count": 26,
     "metadata": {},
     "output_type": "execute_result"
    },
    {
     "data": {
      "image/png": "[encoded data removed]",
      "text/plain": [
       "<Figure size 576x504 with 1 Axes>"
      ]
     },
     "metadata": {
      "needs_background": "light"
     },
     "output_type": "display_data"
    }
   ],
   "source": [
    "# Plotting the scatter plot of points and color coding by class\n",
    "plt.figure(figsize=(8,7))\n",
    "plt.scatter(testing_plot[:,0], testing_plot[:,1], alpha = 0.1, c = y_test.ravel());\n",
    "plt.title('Outputs')"
   ]
  },
  {
   "cell_type": "markdown",
   "id": "a74fcf8f",
   "metadata": {
    "papermill": {
     "duration": 0.043233,
     "end_time": "2022-06-28T00:41:39.359987",
     "exception": false,
     "start_time": "2022-06-28T00:41:39.316754",
     "status": "completed"
    },
    "tags": []
   },
   "source": [
    "Probability contours"
   ]
  },
  {
   "cell_type": "code",
   "execution_count": 27,
   "id": "d0afc8e3",
   "metadata": {
    "execution": {
     "iopub.execute_input": "2022-06-28T00:41:39.455284Z",
     "iopub.status.busy": "2022-06-28T00:41:39.450345Z",
     "iopub.status.idle": "2022-06-28T00:41:39.464228Z",
     "shell.execute_reply": "2022-06-28T00:41:39.464670Z"
    },
    "papermill": {
     "duration": 0.061209,
     "end_time": "2022-06-28T00:41:39.464796",
     "exception": false,
     "start_time": "2022-06-28T00:41:39.403587",
     "status": "completed"
    },
    "tags": []
   },
   "outputs": [],
   "source": [
    "model_prob = Model(layers[-2:]) "
   ]
  },
  {
   "cell_type": "code",
   "execution_count": 28,
   "id": "9b96e238",
   "metadata": {
    "execution": {
     "iopub.execute_input": "2022-06-28T00:41:39.566303Z",
     "iopub.status.busy": "2022-06-28T00:41:39.555325Z",
     "iopub.status.idle": "2022-06-28T00:41:39.572625Z",
     "shell.execute_reply": "2022-06-28T00:41:39.572062Z"
    },
    "papermill": {
     "duration": 0.064658,
     "end_time": "2022-06-28T00:41:39.572731",
     "exception": false,
     "start_time": "2022-06-28T00:41:39.508073",
     "status": "completed"
    },
    "tags": []
   },
   "outputs": [],
   "source": [
    "#creating the x and y ranges according to the above generated plot.\n",
    "x_range = np.linspace(-4, 1, 100) \n",
    "y_range = np.linspace(-6, 6, 100) \n",
    "x_grid, y_grid = np.meshgrid(x_range, y_range) # x_grid and y_grig are of size 100 X 100\n",
    "\n",
    "# converting x_grid and y_grid to continuous arrays\n",
    "x_gridflat = np.ravel(x_grid)\n",
    "y_gridflat = np.ravel(y_grid)\n",
    "\n",
    "# The last layer of the current model takes two columns as input. Hence transpose of np.vstack() is required.\n",
    "X = np.vstack((x_gridflat, y_gridflat)).T\n",
    "\n",
    "prob_contour = model_prob(X).reshape(100,100) "
   ]
  },
  {
   "cell_type": "code",
   "execution_count": 29,
   "id": "da72499a",
   "metadata": {
    "execution": {
     "iopub.execute_input": "2022-06-28T00:41:39.720581Z",
     "iopub.status.busy": "2022-06-28T00:41:39.714509Z",
     "iopub.status.idle": "2022-06-28T00:41:39.937621Z",
     "shell.execute_reply": "2022-06-28T00:41:39.938198Z"
    },
    "papermill": {
     "duration": 0.295452,
     "end_time": "2022-06-28T00:41:39.938350",
     "exception": false,
     "start_time": "2022-06-28T00:41:39.642898",
     "status": "completed"
    },
    "tags": []
   },
   "outputs": [
    {
     "data": {
      "image/png": "[encoded data removed]",
      "text/plain": [
       "<Figure size 720x648 with 1 Axes>"
      ]
     },
     "metadata": {
      "needs_background": "light"
     },
     "output_type": "display_data"
    }
   ],
   "source": [
    "plt.figure(figsize=(10,9))\n",
    "plt.scatter(testing_plot[:,0], testing_plot[:,1], alpha = 0.1, c = y_test.ravel())\n",
    "contours = plt.contour(x_grid,y_grid,prob_contour)\n",
    "plt.title('Probability Contours')\n",
    "plt.clabel(contours, inline = True );"
   ]
  },
  {
   "cell_type": "code",
   "execution_count": null,
   "id": "e81b4ac7",
   "metadata": {
    "papermill": {
     "duration": 0.045619,
     "end_time": "2022-06-28T00:41:40.030377",
     "exception": false,
     "start_time": "2022-06-28T00:41:39.984758",
     "status": "completed"
    },
    "tags": []
   },
   "outputs": [],
   "source": []
  }
 ],
 "metadata": {
  "kernelspec": {
   "display_name": "Python 3",
   "language": "python",
   "name": "python3"
  },
  "language_info": {
   "codemirror_mode": {
    "name": "ipython",
    "version": 3
   },
   "file_extension": ".py",
   "mimetype": "text/x-python",
   "name": "python",
   "nbconvert_exporter": "python",
   "pygments_lexer": "ipython3",
   "version": "3.6.15"
  },
  "papermill": {
   "default_parameters": {},
   "duration": 101.954898,
   "end_time": "2022-06-28T00:41:40.495457",
   "environment_variables": {},
   "exception": null,
   "input_path": "2020-08-11-part2.ipynb",
   "output_path": "2020-08-11-part2.ipynb",
   "parameters": {},
   "start_time": "2022-06-28T00:39:58.540559",
   "version": "2.3.3"
  }
 },
 "nbformat": 4,
 "nbformat_minor": 5
}