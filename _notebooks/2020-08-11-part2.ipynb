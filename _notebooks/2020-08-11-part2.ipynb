{
 "cells": [
  {
   "cell_type": "markdown",
   "id": "98380cd3",
   "metadata": {
    "papermill": {
     "duration": 0.034336,
     "end_time": "2021-09-16T20:19:22.177952",
     "exception": false,
     "start_time": "2021-09-16T20:19:22.143616",
     "status": "completed"
    },
    "tags": []
   },
   "source": [
    "# Distinguish Your Own Digits (DYOD)"
   ]
  },
  {
   "cell_type": "markdown",
   "id": "ef31240d",
   "metadata": {
    "papermill": {
     "duration": 0.027673,
     "end_time": "2021-09-16T20:19:22.234589",
     "exception": false,
     "start_time": "2021-09-16T20:19:22.206916",
     "status": "completed"
    },
    "tags": []
   },
   "source": [
    "You are going to write a classifier that distinguishes between the number 3 and number 8."
   ]
  },
  {
   "cell_type": "code",
   "execution_count": 1,
   "id": "b15c8646",
   "metadata": {
    "execution": {
     "iopub.execute_input": "2021-09-16T20:19:22.307005Z",
     "iopub.status.busy": "2021-09-16T20:19:22.306287Z",
     "iopub.status.idle": "2021-09-16T20:19:22.317849Z",
     "shell.execute_reply": "2021-09-16T20:19:22.318684Z"
    },
    "papermill": {
     "duration": 0.054622,
     "end_time": "2021-09-16T20:19:22.318869",
     "exception": false,
     "start_time": "2021-09-16T20:19:22.264247",
     "status": "completed"
    },
    "tags": []
   },
   "outputs": [],
   "source": [
    "%load_ext autoreload\n",
    "%autoreload 2"
   ]
  },
  {
   "cell_type": "code",
   "execution_count": 2,
   "id": "22ef38dc",
   "metadata": {
    "execution": {
     "iopub.execute_input": "2021-09-16T20:19:22.381228Z",
     "iopub.status.busy": "2021-09-16T20:19:22.380564Z",
     "iopub.status.idle": "2021-09-16T20:19:22.980394Z",
     "shell.execute_reply": "2021-09-16T20:19:22.979687Z"
    },
    "papermill": {
     "duration": 0.6323,
     "end_time": "2021-09-16T20:19:22.980553",
     "exception": false,
     "start_time": "2021-09-16T20:19:22.348253",
     "status": "completed"
    },
    "tags": []
   },
   "outputs": [],
   "source": [
    "%matplotlib inline\n",
    "import numpy as np\n",
    "import matplotlib.pyplot as plt\n",
    "import pandas as pd"
   ]
  },
  {
   "cell_type": "markdown",
   "id": "ba036198",
   "metadata": {
    "papermill": {
     "duration": 0.029936,
     "end_time": "2021-09-16T20:19:23.040851",
     "exception": false,
     "start_time": "2021-09-16T20:19:23.010915",
     "status": "completed"
    },
    "tags": []
   },
   "source": [
    "From the command line run `pip install mnist`. This is a library that will help you bring down the mnist dataset. If you run this from a notebook, you need to put  `!pip install mnist` in a cell by itself."
   ]
  },
  {
   "cell_type": "code",
   "execution_count": 3,
   "id": "bb6ad8a1",
   "metadata": {
    "execution": {
     "iopub.execute_input": "2021-09-16T20:19:23.108849Z",
     "iopub.status.busy": "2021-09-16T20:19:23.108152Z",
     "iopub.status.idle": "2021-09-16T20:19:25.056459Z",
     "shell.execute_reply": "2021-09-16T20:19:25.055829Z"
    },
    "papermill": {
     "duration": 1.983866,
     "end_time": "2021-09-16T20:19:25.056607",
     "exception": false,
     "start_time": "2021-09-16T20:19:23.072741",
     "status": "completed"
    },
    "tags": []
   },
   "outputs": [
    {
     "name": "stdout",
     "output_type": "stream",
     "text": [
      "Collecting mnist\r\n"
     ]
    },
    {
     "name": "stdout",
     "output_type": "stream",
     "text": [
      "  Downloading mnist-0.2.2-py2.py3-none-any.whl (3.5 kB)\r\n"
     ]
    },
    {
     "name": "stdout",
     "output_type": "stream",
     "text": [
      "Requirement already satisfied: numpy in /opt/hostedtoolcache/Python/3.6.15/x64/lib/python3.6/site-packages (from mnist) (1.19.5)\r\n"
     ]
    },
    {
     "name": "stdout",
     "output_type": "stream",
     "text": [
      "Installing collected packages: mnist\r\n"
     ]
    },
    {
     "name": "stdout",
     "output_type": "stream",
     "text": [
      "Successfully installed mnist-0.2.2\r\n"
     ]
    }
   ],
   "source": [
    "!pip install mnist"
   ]
  },
  {
   "cell_type": "markdown",
   "id": "69df9c9a",
   "metadata": {
    "papermill": {
     "duration": 0.032344,
     "end_time": "2021-09-16T20:19:25.121259",
     "exception": false,
     "start_time": "2021-09-16T20:19:25.088915",
     "status": "completed"
    },
    "tags": []
   },
   "source": [
    "## Preparing the Data"
   ]
  },
  {
   "cell_type": "code",
   "execution_count": 4,
   "id": "7f69d806",
   "metadata": {
    "execution": {
     "iopub.execute_input": "2021-09-16T20:19:25.188757Z",
     "iopub.status.busy": "2021-09-16T20:19:25.188060Z",
     "iopub.status.idle": "2021-09-16T20:19:25.206426Z",
     "shell.execute_reply": "2021-09-16T20:19:25.205856Z"
    },
    "papermill": {
     "duration": 0.05373,
     "end_time": "2021-09-16T20:19:25.206586",
     "exception": false,
     "start_time": "2021-09-16T20:19:25.152856",
     "status": "completed"
    },
    "tags": []
   },
   "outputs": [],
   "source": [
    "import mnist"
   ]
  },
  {
   "cell_type": "code",
   "execution_count": 5,
   "id": "a411e44f",
   "metadata": {
    "execution": {
     "iopub.execute_input": "2021-09-16T20:19:25.272540Z",
     "iopub.status.busy": "2021-09-16T20:19:25.271922Z",
     "iopub.status.idle": "2021-09-16T20:19:25.868511Z",
     "shell.execute_reply": "2021-09-16T20:19:25.867920Z"
    },
    "papermill": {
     "duration": 0.630069,
     "end_time": "2021-09-16T20:19:25.868663",
     "exception": false,
     "start_time": "2021-09-16T20:19:25.238594",
     "status": "completed"
    },
    "tags": []
   },
   "outputs": [],
   "source": [
    "train_images = mnist.train_images()\n",
    "train_labels = mnist.train_labels()"
   ]
  },
  {
   "cell_type": "code",
   "execution_count": 6,
   "id": "dceab3a5",
   "metadata": {
    "execution": {
     "iopub.execute_input": "2021-09-16T20:19:25.943159Z",
     "iopub.status.busy": "2021-09-16T20:19:25.942483Z",
     "iopub.status.idle": "2021-09-16T20:19:25.956118Z",
     "shell.execute_reply": "2021-09-16T20:19:25.956715Z"
    },
    "papermill": {
     "duration": 0.054415,
     "end_time": "2021-09-16T20:19:25.956862",
     "exception": false,
     "start_time": "2021-09-16T20:19:25.902447",
     "status": "completed"
    },
    "tags": []
   },
   "outputs": [
    {
     "data": {
      "text/plain": [
       "((60000, 28, 28), (60000,))"
      ]
     },
     "execution_count": 6,
     "metadata": {},
     "output_type": "execute_result"
    }
   ],
   "source": [
    "train_images.shape, train_labels.shape"
   ]
  },
  {
   "cell_type": "code",
   "execution_count": 7,
   "id": "f50dc2bb",
   "metadata": {
    "execution": {
     "iopub.execute_input": "2021-09-16T20:19:26.041053Z",
     "iopub.status.busy": "2021-09-16T20:19:26.037814Z",
     "iopub.status.idle": "2021-09-16T20:19:26.198818Z",
     "shell.execute_reply": "2021-09-16T20:19:26.198217Z"
    },
    "papermill": {
     "duration": 0.211384,
     "end_time": "2021-09-16T20:19:26.198981",
     "exception": false,
     "start_time": "2021-09-16T20:19:25.987597",
     "status": "completed"
    },
    "tags": []
   },
   "outputs": [],
   "source": [
    "test_images = mnist.test_images()\n",
    "test_labels = mnist.test_labels()"
   ]
  },
  {
   "cell_type": "code",
   "execution_count": 8,
   "id": "fc38cf1b",
   "metadata": {
    "execution": {
     "iopub.execute_input": "2021-09-16T20:19:26.270101Z",
     "iopub.status.busy": "2021-09-16T20:19:26.269434Z",
     "iopub.status.idle": "2021-09-16T20:19:26.285964Z",
     "shell.execute_reply": "2021-09-16T20:19:26.285387Z"
    },
    "papermill": {
     "duration": 0.053307,
     "end_time": "2021-09-16T20:19:26.286107",
     "exception": false,
     "start_time": "2021-09-16T20:19:26.232800",
     "status": "completed"
    },
    "tags": []
   },
   "outputs": [
    {
     "data": {
      "text/plain": [
       "((10000, 28, 28), (10000,))"
      ]
     },
     "execution_count": 8,
     "metadata": {},
     "output_type": "execute_result"
    }
   ],
   "source": [
    "test_images.shape, test_labels.shape"
   ]
  },
  {
   "cell_type": "code",
   "execution_count": 9,
   "id": "f9ed8fe0",
   "metadata": {
    "execution": {
     "iopub.execute_input": "2021-09-16T20:19:26.360209Z",
     "iopub.status.busy": "2021-09-16T20:19:26.359581Z",
     "iopub.status.idle": "2021-09-16T20:19:26.543019Z",
     "shell.execute_reply": "2021-09-16T20:19:26.543560Z"
    },
    "papermill": {
     "duration": 0.224483,
     "end_time": "2021-09-16T20:19:26.543732",
     "exception": false,
     "start_time": "2021-09-16T20:19:26.319249",
     "status": "completed"
    },
    "tags": []
   },
   "outputs": [
    {
     "name": "stdout",
     "output_type": "stream",
     "text": [
      "2\n"
     ]
    },
    {
     "data": {
      "text/plain": [
       "<matplotlib.image.AxesImage at 0x7f948cad5e80>"
      ]
     },
     "execution_count": 9,
     "metadata": {},
     "output_type": "execute_result"
    },
    {
     "data": {
      "image/png": "[encoded data removed]",
      "text/plain": [
       "<Figure size 432x288 with 1 Axes>"
      ]
     },
     "metadata": {
      "needs_background": "light"
     },
     "output_type": "display_data"
    }
   ],
   "source": [
    "image_index = 7776 # You may select anything up to 60,000\n",
    "print(train_labels[image_index]) \n",
    "plt.imshow(train_images[image_index], cmap='Greys')"
   ]
  },
  {
   "cell_type": "markdown",
   "id": "a8d2388d",
   "metadata": {
    "papermill": {
     "duration": 0.037133,
     "end_time": "2021-09-16T20:19:26.616555",
     "exception": false,
     "start_time": "2021-09-16T20:19:26.579422",
     "status": "completed"
    },
    "tags": []
   },
   "source": [
    "## Filter data to get 3 and 8 out"
   ]
  },
  {
   "cell_type": "code",
   "execution_count": 10,
   "id": "776f7fc7",
   "metadata": {
    "execution": {
     "iopub.execute_input": "2021-09-16T20:19:26.700214Z",
     "iopub.status.busy": "2021-09-16T20:19:26.699531Z",
     "iopub.status.idle": "2021-09-16T20:19:26.715197Z",
     "shell.execute_reply": "2021-09-16T20:19:26.715735Z"
    },
    "papermill": {
     "duration": 0.063907,
     "end_time": "2021-09-16T20:19:26.715913",
     "exception": false,
     "start_time": "2021-09-16T20:19:26.652006",
     "status": "completed"
    },
    "tags": []
   },
   "outputs": [],
   "source": [
    "train_filter = np.where((train_labels == 3 ) | (train_labels == 8))\n",
    "test_filter = np.where((test_labels == 3) | (test_labels == 8))\n",
    "X_train, y_train = train_images[train_filter], train_labels[train_filter]\n",
    "X_test, y_test = test_images[test_filter], test_labels[test_filter]"
   ]
  },
  {
   "cell_type": "markdown",
   "id": "948f0b7e",
   "metadata": {
    "papermill": {
     "duration": 0.033624,
     "end_time": "2021-09-16T20:19:26.786844",
     "exception": false,
     "start_time": "2021-09-16T20:19:26.753220",
     "status": "completed"
    },
    "tags": []
   },
   "source": [
    "We normalize the pizel values in the 0 to 1 range"
   ]
  },
  {
   "cell_type": "code",
   "execution_count": 11,
   "id": "ee4c2166",
   "metadata": {
    "execution": {
     "iopub.execute_input": "2021-09-16T20:19:26.864937Z",
     "iopub.status.busy": "2021-09-16T20:19:26.864278Z",
     "iopub.status.idle": "2021-09-16T20:19:26.922529Z",
     "shell.execute_reply": "2021-09-16T20:19:26.923074Z"
    },
    "papermill": {
     "duration": 0.104111,
     "end_time": "2021-09-16T20:19:26.923248",
     "exception": false,
     "start_time": "2021-09-16T20:19:26.819137",
     "status": "completed"
    },
    "tags": []
   },
   "outputs": [],
   "source": [
    "X_train = X_train/255.\n",
    "X_test = X_test/255."
   ]
  },
  {
   "cell_type": "markdown",
   "id": "ddcf4fab",
   "metadata": {
    "papermill": {
     "duration": 0.032843,
     "end_time": "2021-09-16T20:19:26.989428",
     "exception": false,
     "start_time": "2021-09-16T20:19:26.956585",
     "status": "completed"
    },
    "tags": []
   },
   "source": [
    "And setup the labels as 1 (when the digit is 3) and 0 (when the digit is 8)"
   ]
  },
  {
   "cell_type": "code",
   "execution_count": 12,
   "id": "7dc908f2",
   "metadata": {
    "execution": {
     "iopub.execute_input": "2021-09-16T20:19:27.064365Z",
     "iopub.status.busy": "2021-09-16T20:19:27.063560Z",
     "iopub.status.idle": "2021-09-16T20:19:27.073326Z",
     "shell.execute_reply": "2021-09-16T20:19:27.074127Z"
    },
    "papermill": {
     "duration": 0.053203,
     "end_time": "2021-09-16T20:19:27.074294",
     "exception": false,
     "start_time": "2021-09-16T20:19:27.021091",
     "status": "completed"
    },
    "tags": []
   },
   "outputs": [],
   "source": [
    "y_train = 1*(y_train==3)\n",
    "y_test = 1*(y_test==3)"
   ]
  },
  {
   "cell_type": "code",
   "execution_count": 13,
   "id": "01e4e969",
   "metadata": {
    "execution": {
     "iopub.execute_input": "2021-09-16T20:19:27.146433Z",
     "iopub.status.busy": "2021-09-16T20:19:27.145758Z",
     "iopub.status.idle": "2021-09-16T20:19:27.158990Z",
     "shell.execute_reply": "2021-09-16T20:19:27.159647Z"
    },
    "papermill": {
     "duration": 0.052336,
     "end_time": "2021-09-16T20:19:27.159771",
     "exception": false,
     "start_time": "2021-09-16T20:19:27.107435",
     "status": "completed"
    },
    "tags": []
   },
   "outputs": [
    {
     "data": {
      "text/plain": [
       "((11982, 28, 28), (1984, 28, 28))"
      ]
     },
     "execution_count": 13,
     "metadata": {},
     "output_type": "execute_result"
    }
   ],
   "source": [
    "X_train.shape, X_test.shape"
   ]
  },
  {
   "cell_type": "markdown",
   "id": "5ccf3f85",
   "metadata": {
    "papermill": {
     "duration": 0.032501,
     "end_time": "2021-09-16T20:19:27.224941",
     "exception": false,
     "start_time": "2021-09-16T20:19:27.192440",
     "status": "completed"
    },
    "tags": []
   },
   "source": [
    "We reshape the data to flatten the image pixels into a set of features or co-variates:"
   ]
  },
  {
   "cell_type": "code",
   "execution_count": 14,
   "id": "5286a4a3",
   "metadata": {
    "execution": {
     "iopub.execute_input": "2021-09-16T20:19:27.309942Z",
     "iopub.status.busy": "2021-09-16T20:19:27.306612Z",
     "iopub.status.idle": "2021-09-16T20:19:27.312805Z",
     "shell.execute_reply": "2021-09-16T20:19:27.313286Z"
    },
    "papermill": {
     "duration": 0.054713,
     "end_time": "2021-09-16T20:19:27.313416",
     "exception": false,
     "start_time": "2021-09-16T20:19:27.258703",
     "status": "completed"
    },
    "tags": []
   },
   "outputs": [
    {
     "data": {
      "text/plain": [
       "((11982, 784), (1984, 784))"
      ]
     },
     "execution_count": 14,
     "metadata": {},
     "output_type": "execute_result"
    }
   ],
   "source": [
    "X_train = X_train.reshape(X_train.shape[0], -1)\n",
    "X_test = X_test.reshape(X_test.shape[0], -1)\n",
    "X_train.shape, X_test.shape"
   ]
  },
  {
   "cell_type": "code",
   "execution_count": 15,
   "id": "73c5f88a",
   "metadata": {
    "execution": {
     "iopub.execute_input": "2021-09-16T20:19:27.382431Z",
     "iopub.status.busy": "2021-09-16T20:19:27.381742Z",
     "iopub.status.idle": "2021-09-16T20:19:27.402045Z",
     "shell.execute_reply": "2021-09-16T20:19:27.401398Z"
    },
    "papermill": {
     "duration": 0.055907,
     "end_time": "2021-09-16T20:19:27.402180",
     "exception": false,
     "start_time": "2021-09-16T20:19:27.346273",
     "status": "completed"
    },
    "tags": []
   },
   "outputs": [],
   "source": [
    "#Impoting functions from 'Kudzu'\n",
    "from kudzu.model import Model\n",
    "from kudzu.train import Learner\n",
    "from kudzu.optim import GD\n",
    "from kudzu.data import Data, Sampler,Dataloader\n",
    "\n",
    "from kudzu.callbacks import AccCallback\n",
    "from kudzu.callbacks import ClfCallback\n",
    "\n",
    "from kudzu.loss import MSE\n",
    "\n",
    "from kudzu.layer import Sigmoid,Relu\n",
    "from kudzu.layer import Affine"
   ]
  },
  {
   "cell_type": "markdown",
   "id": "bc01172a",
   "metadata": {
    "papermill": {
     "duration": 0.032649,
     "end_time": "2021-09-16T20:19:27.469338",
     "exception": false,
     "start_time": "2021-09-16T20:19:27.436689",
     "status": "completed"
    },
    "tags": []
   },
   "source": [
    "### Let us create a `Config` class, to store important parameters. \n",
    "This class essentially plays the role of a dictionary."
   ]
  },
  {
   "cell_type": "code",
   "execution_count": 16,
   "id": "978281aa",
   "metadata": {
    "execution": {
     "iopub.execute_input": "2021-09-16T20:19:27.550247Z",
     "iopub.status.busy": "2021-09-16T20:19:27.542782Z",
     "iopub.status.idle": "2021-09-16T20:19:27.552400Z",
     "shell.execute_reply": "2021-09-16T20:19:27.552869Z"
    },
    "papermill": {
     "duration": 0.05125,
     "end_time": "2021-09-16T20:19:27.552998",
     "exception": false,
     "start_time": "2021-09-16T20:19:27.501748",
     "status": "completed"
    },
    "tags": []
   },
   "outputs": [],
   "source": [
    "class Config:\n",
    "    pass\n",
    "config = Config()\n",
    "config.lr = 0.001\n",
    "config.num_epochs = 250\n",
    "config.bs = 50"
   ]
  },
  {
   "cell_type": "markdown",
   "id": "1385fa59",
   "metadata": {
    "papermill": {
     "duration": 0.034478,
     "end_time": "2021-09-16T20:19:27.624545",
     "exception": false,
     "start_time": "2021-09-16T20:19:27.590067",
     "status": "completed"
    },
    "tags": []
   },
   "source": [
    "### Running Models with the Training data\n",
    "Details about the network layers:\n",
    "- A first affine layer has 784 inputs and does 100 affine transforms. These are followed by a Relu\n",
    "- A second affine layer has 100 inputs from the 100 activations of the past layer, and does 100 affine transforms. These are followed by a Relu\n",
    "- A third affine layer has 100 activations and does 2 affine transformations to create an embedding for visualization. There is no non-linearity here.\n",
    "- A final \"logistic regression\" which has an affine transform from 2 inputs to 1 output, which is squeezed through a sigmoid.\n"
   ]
  },
  {
   "cell_type": "code",
   "execution_count": 17,
   "id": "2b9c66db",
   "metadata": {
    "execution": {
     "iopub.execute_input": "2021-09-16T20:19:27.696761Z",
     "iopub.status.busy": "2021-09-16T20:19:27.696135Z",
     "iopub.status.idle": "2021-09-16T20:19:27.709475Z",
     "shell.execute_reply": "2021-09-16T20:19:27.710122Z"
    },
    "papermill": {
     "duration": 0.05081,
     "end_time": "2021-09-16T20:19:27.710251",
     "exception": false,
     "start_time": "2021-09-16T20:19:27.659441",
     "status": "completed"
    },
    "tags": []
   },
   "outputs": [],
   "source": [
    "data = Data(X_train, y_train.reshape(-1,1))\n",
    "sampler = Sampler(data, config.bs, shuffle=True)\n",
    "\n",
    "dl = Dataloader(data, sampler)\n",
    "\n",
    "opt = GD(config.lr)\n",
    "loss = MSE()"
   ]
  },
  {
   "cell_type": "code",
   "execution_count": 18,
   "id": "b275e4c2",
   "metadata": {
    "execution": {
     "iopub.execute_input": "2021-09-16T20:19:27.787738Z",
     "iopub.status.busy": "2021-09-16T20:19:27.787147Z",
     "iopub.status.idle": "2021-09-16T20:19:27.799849Z",
     "shell.execute_reply": "2021-09-16T20:19:27.799318Z"
    },
    "papermill": {
     "duration": 0.056272,
     "end_time": "2021-09-16T20:19:27.800048",
     "exception": false,
     "start_time": "2021-09-16T20:19:27.743776",
     "status": "completed"
    },
    "tags": []
   },
   "outputs": [],
   "source": [
    "training_data_x = X_train\n",
    "testing_data_x = X_test\n",
    "training_data_y = y_train.reshape(-1,1)\n",
    "testing_data_y = y_test.reshape(-1,1)"
   ]
  },
  {
   "cell_type": "code",
   "execution_count": 19,
   "id": "76951160",
   "metadata": {
    "execution": {
     "iopub.execute_input": "2021-09-16T20:19:27.875107Z",
     "iopub.status.busy": "2021-09-16T20:19:27.874382Z",
     "iopub.status.idle": "2021-09-16T20:19:27.893679Z",
     "shell.execute_reply": "2021-09-16T20:19:27.894254Z"
    },
    "papermill": {
     "duration": 0.060064,
     "end_time": "2021-09-16T20:19:27.894386",
     "exception": false,
     "start_time": "2021-09-16T20:19:27.834322",
     "status": "completed"
    },
    "tags": []
   },
   "outputs": [
    {
     "name": "stdout",
     "output_type": "stream",
     "text": [
      "xavier\n",
      "xavier\n",
      "xavier\n",
      "xavier\n",
      "xavier\n"
     ]
    }
   ],
   "source": [
    "layers = [Affine(\"first\", 784, 100), Relu(\"first\"), Affine(\"second\", 100, 100), Relu(\"second\"), Affine(\"third\", 100, 2), Affine(\"last\", 2, 1), Sigmoid(\"last\")]\n",
    "model_nn = Model(layers)\n",
    "model_lr = Model([Affine(\"logits\", 784, 1), Sigmoid(\"sigmoid\")])"
   ]
  },
  {
   "cell_type": "code",
   "execution_count": 20,
   "id": "6eede77a",
   "metadata": {
    "execution": {
     "iopub.execute_input": "2021-09-16T20:19:27.968013Z",
     "iopub.status.busy": "2021-09-16T20:19:27.967356Z",
     "iopub.status.idle": "2021-09-16T20:19:27.980595Z",
     "shell.execute_reply": "2021-09-16T20:19:27.980109Z"
    },
    "papermill": {
     "duration": 0.051786,
     "end_time": "2021-09-16T20:19:27.980709",
     "exception": false,
     "start_time": "2021-09-16T20:19:27.928923",
     "status": "completed"
    },
    "tags": []
   },
   "outputs": [],
   "source": [
    "nn_learner = Learner(loss, model_nn, opt, config.num_epochs)\n",
    "acc_nn = ClfCallback(nn_learner, config.bs, training_data_x , testing_data_x, training_data_y, testing_data_y)\n",
    "nn_learner.set_callbacks([acc_nn])"
   ]
  },
  {
   "cell_type": "code",
   "execution_count": 21,
   "id": "877b6cc7",
   "metadata": {
    "execution": {
     "iopub.execute_input": "2021-09-16T20:19:28.058233Z",
     "iopub.status.busy": "2021-09-16T20:19:28.057521Z",
     "iopub.status.idle": "2021-09-16T20:19:28.070615Z",
     "shell.execute_reply": "2021-09-16T20:19:28.070035Z"
    },
    "papermill": {
     "duration": 0.055885,
     "end_time": "2021-09-16T20:19:28.070751",
     "exception": false,
     "start_time": "2021-09-16T20:19:28.014866",
     "status": "completed"
    },
    "tags": []
   },
   "outputs": [],
   "source": [
    "lr_learner = Learner(loss, model_lr, opt, config.num_epochs)\n",
    "acc_lr = ClfCallback(lr_learner, config.bs, training_data_x , testing_data_x, training_data_y, testing_data_y)\n",
    "lr_learner.set_callbacks([acc_lr])"
   ]
  },
  {
   "cell_type": "code",
   "execution_count": 22,
   "id": "d9b133c3",
   "metadata": {
    "execution": {
     "iopub.execute_input": "2021-09-16T20:19:28.143600Z",
     "iopub.status.busy": "2021-09-16T20:19:28.142504Z",
     "iopub.status.idle": "2021-09-16T20:21:32.582646Z",
     "shell.execute_reply": "2021-09-16T20:21:32.583292Z"
    },
    "papermill": {
     "duration": 124.479092,
     "end_time": "2021-09-16T20:21:32.583464",
     "exception": false,
     "start_time": "2021-09-16T20:19:28.104372",
     "status": "completed"
    },
    "tags": []
   },
   "outputs": [
    {
     "name": "stdout",
     "output_type": "stream",
     "text": [
      "Epoch 0, Loss 0.2491\n",
      "Training Accuracy: 0.5003, Testing Accuracy: 0.5071\n",
      "\n"
     ]
    },
    {
     "name": "stdout",
     "output_type": "stream",
     "text": [
      "Epoch 10, Loss 0.2271\n",
      "Training Accuracy: 0.7333, Testing Accuracy: 0.7782\n",
      "\n"
     ]
    },
    {
     "name": "stdout",
     "output_type": "stream",
     "text": [
      "Epoch 20, Loss 0.1596\n",
      "Training Accuracy: 0.8800, Testing Accuracy: 0.8947\n",
      "\n"
     ]
    },
    {
     "name": "stdout",
     "output_type": "stream",
     "text": [
      "Epoch 30, Loss 0.0856\n",
      "Training Accuracy: 0.9125, Testing Accuracy: 0.9264\n",
      "\n"
     ]
    },
    {
     "name": "stdout",
     "output_type": "stream",
     "text": [
      "Epoch 40, Loss 0.0592\n",
      "Training Accuracy: 0.9346, Testing Accuracy: 0.9491\n",
      "\n"
     ]
    },
    {
     "name": "stdout",
     "output_type": "stream",
     "text": [
      "Epoch 50, Loss 0.0474\n",
      "Training Accuracy: 0.9472, Testing Accuracy: 0.9592\n",
      "\n"
     ]
    },
    {
     "name": "stdout",
     "output_type": "stream",
     "text": [
      "Epoch 60, Loss 0.0411\n",
      "Training Accuracy: 0.9534, Testing Accuracy: 0.9627\n",
      "\n"
     ]
    },
    {
     "name": "stdout",
     "output_type": "stream",
     "text": [
      "Epoch 70, Loss 0.0373\n",
      "Training Accuracy: 0.9560, Testing Accuracy: 0.9647\n",
      "\n"
     ]
    },
    {
     "name": "stdout",
     "output_type": "stream",
     "text": [
      "Epoch 80, Loss 0.0346\n",
      "Training Accuracy: 0.9588, Testing Accuracy: 0.9652\n",
      "\n"
     ]
    },
    {
     "name": "stdout",
     "output_type": "stream",
     "text": [
      "Epoch 90, Loss 0.0327\n",
      "Training Accuracy: 0.9613, Testing Accuracy: 0.9652\n",
      "\n"
     ]
    },
    {
     "name": "stdout",
     "output_type": "stream",
     "text": [
      "Epoch 100, Loss 0.0311\n",
      "Training Accuracy: 0.9633, Testing Accuracy: 0.9662\n",
      "\n"
     ]
    },
    {
     "name": "stdout",
     "output_type": "stream",
     "text": [
      "Epoch 110, Loss 0.0298\n",
      "Training Accuracy: 0.9644, Testing Accuracy: 0.9662\n",
      "\n"
     ]
    },
    {
     "name": "stdout",
     "output_type": "stream",
     "text": [
      "Epoch 120, Loss 0.0288\n",
      "Training Accuracy: 0.9656, Testing Accuracy: 0.9677\n",
      "\n"
     ]
    },
    {
     "name": "stdout",
     "output_type": "stream",
     "text": [
      "Epoch 130, Loss 0.0278\n",
      "Training Accuracy: 0.9672, Testing Accuracy: 0.9688\n",
      "\n"
     ]
    },
    {
     "name": "stdout",
     "output_type": "stream",
     "text": [
      "Epoch 140, Loss 0.027\n",
      "Training Accuracy: 0.9680, Testing Accuracy: 0.9693\n",
      "\n"
     ]
    },
    {
     "name": "stdout",
     "output_type": "stream",
     "text": [
      "Epoch 150, Loss 0.0263\n",
      "Training Accuracy: 0.9688, Testing Accuracy: 0.9698\n",
      "\n"
     ]
    },
    {
     "name": "stdout",
     "output_type": "stream",
     "text": [
      "Epoch 160, Loss 0.0257\n",
      "Training Accuracy: 0.9694, Testing Accuracy: 0.9708\n",
      "\n"
     ]
    },
    {
     "name": "stdout",
     "output_type": "stream",
     "text": [
      "Epoch 170, Loss 0.0251\n",
      "Training Accuracy: 0.9700, Testing Accuracy: 0.9708\n",
      "\n"
     ]
    },
    {
     "name": "stdout",
     "output_type": "stream",
     "text": [
      "Epoch 180, Loss 0.0246\n",
      "Training Accuracy: 0.9710, Testing Accuracy: 0.9708\n",
      "\n"
     ]
    },
    {
     "name": "stdout",
     "output_type": "stream",
     "text": [
      "Epoch 190, Loss 0.0241\n",
      "Training Accuracy: 0.9719, Testing Accuracy: 0.9708\n",
      "\n"
     ]
    },
    {
     "name": "stdout",
     "output_type": "stream",
     "text": [
      "Epoch 200, Loss 0.0237\n",
      "Training Accuracy: 0.9722, Testing Accuracy: 0.9713\n",
      "\n"
     ]
    },
    {
     "name": "stdout",
     "output_type": "stream",
     "text": [
      "Epoch 210, Loss 0.0233\n",
      "Training Accuracy: 0.9730, Testing Accuracy: 0.9723\n",
      "\n"
     ]
    },
    {
     "name": "stdout",
     "output_type": "stream",
     "text": [
      "Epoch 220, Loss 0.0229\n",
      "Training Accuracy: 0.9738, Testing Accuracy: 0.9723\n",
      "\n"
     ]
    },
    {
     "name": "stdout",
     "output_type": "stream",
     "text": [
      "Epoch 230, Loss 0.0225\n",
      "Training Accuracy: 0.9740, Testing Accuracy: 0.9728\n",
      "\n"
     ]
    },
    {
     "name": "stdout",
     "output_type": "stream",
     "text": [
      "Epoch 240, Loss 0.0221\n",
      "Training Accuracy: 0.9745, Testing Accuracy: 0.9728\n",
      "\n"
     ]
    },
    {
     "data": {
      "text/plain": [
       "0.06236726619499268"
      ]
     },
     "execution_count": 22,
     "metadata": {},
     "output_type": "execute_result"
    }
   ],
   "source": [
    "nn_learner.train_loop(dl)"
   ]
  },
  {
   "cell_type": "code",
   "execution_count": 23,
   "id": "e0163366",
   "metadata": {
    "execution": {
     "iopub.execute_input": "2021-09-16T20:21:32.686961Z",
     "iopub.status.busy": "2021-09-16T20:21:32.686294Z",
     "iopub.status.idle": "2021-09-16T20:21:50.296097Z",
     "shell.execute_reply": "2021-09-16T20:21:50.296939Z"
    },
    "papermill": {
     "duration": 17.665864,
     "end_time": "2021-09-16T20:21:50.297098",
     "exception": false,
     "start_time": "2021-09-16T20:21:32.631234",
     "status": "completed"
    },
    "tags": []
   },
   "outputs": [
    {
     "name": "stdout",
     "output_type": "stream",
     "text": [
      "Epoch 0, Loss 0.2382\n",
      "Training Accuracy: 0.6627, Testing Accuracy: 0.6804\n",
      "\n"
     ]
    },
    {
     "name": "stdout",
     "output_type": "stream",
     "text": [
      "Epoch 10, Loss 0.1079\n",
      "Training Accuracy: 0.8928, Testing Accuracy: 0.9108\n",
      "\n"
     ]
    },
    {
     "name": "stdout",
     "output_type": "stream",
     "text": [
      "Epoch 20, Loss 0.0815\n",
      "Training Accuracy: 0.9215, Testing Accuracy: 0.9340\n",
      "\n"
     ]
    },
    {
     "name": "stdout",
     "output_type": "stream",
     "text": [
      "Epoch 30, Loss 0.0696\n",
      "Training Accuracy: 0.9346, Testing Accuracy: 0.9425\n",
      "\n"
     ]
    },
    {
     "name": "stdout",
     "output_type": "stream",
     "text": [
      "Epoch 40, Loss 0.0626\n",
      "Training Accuracy: 0.9392, Testing Accuracy: 0.9486\n",
      "\n"
     ]
    },
    {
     "name": "stdout",
     "output_type": "stream",
     "text": [
      "Epoch 50, Loss 0.0578\n",
      "Training Accuracy: 0.9442, Testing Accuracy: 0.9501\n",
      "\n"
     ]
    },
    {
     "name": "stdout",
     "output_type": "stream",
     "text": [
      "Epoch 60, Loss 0.0544\n",
      "Training Accuracy: 0.9468, Testing Accuracy: 0.9556\n",
      "\n"
     ]
    },
    {
     "name": "stdout",
     "output_type": "stream",
     "text": [
      "Epoch 70, Loss 0.0518\n",
      "Training Accuracy: 0.9492, Testing Accuracy: 0.9572\n",
      "\n"
     ]
    },
    {
     "name": "stdout",
     "output_type": "stream",
     "text": [
      "Epoch 80, Loss 0.0497\n",
      "Training Accuracy: 0.9504, Testing Accuracy: 0.9582\n",
      "\n"
     ]
    },
    {
     "name": "stdout",
     "output_type": "stream",
     "text": [
      "Epoch 90, Loss 0.048\n",
      "Training Accuracy: 0.9514, Testing Accuracy: 0.9607\n",
      "\n"
     ]
    },
    {
     "name": "stdout",
     "output_type": "stream",
     "text": [
      "Epoch 100, Loss 0.0465\n",
      "Training Accuracy: 0.9522, Testing Accuracy: 0.9622\n",
      "\n"
     ]
    },
    {
     "name": "stdout",
     "output_type": "stream",
     "text": [
      "Epoch 110, Loss 0.0453\n",
      "Training Accuracy: 0.9532, Testing Accuracy: 0.9627\n",
      "\n"
     ]
    },
    {
     "name": "stdout",
     "output_type": "stream",
     "text": [
      "Epoch 120, Loss 0.0442\n",
      "Training Accuracy: 0.9538, Testing Accuracy: 0.9627\n",
      "\n"
     ]
    },
    {
     "name": "stdout",
     "output_type": "stream",
     "text": [
      "Epoch 130, Loss 0.0432\n",
      "Training Accuracy: 0.9545, Testing Accuracy: 0.9632\n",
      "\n"
     ]
    },
    {
     "name": "stdout",
     "output_type": "stream",
     "text": [
      "Epoch 140, Loss 0.0424\n",
      "Training Accuracy: 0.9549, Testing Accuracy: 0.9637\n",
      "\n"
     ]
    },
    {
     "name": "stdout",
     "output_type": "stream",
     "text": [
      "Epoch 150, Loss 0.0416\n",
      "Training Accuracy: 0.9554, Testing Accuracy: 0.9652\n",
      "\n"
     ]
    },
    {
     "name": "stdout",
     "output_type": "stream",
     "text": [
      "Epoch 160, Loss 0.041\n",
      "Training Accuracy: 0.9562, Testing Accuracy: 0.9652\n",
      "\n"
     ]
    },
    {
     "name": "stdout",
     "output_type": "stream",
     "text": [
      "Epoch 170, Loss 0.0403\n",
      "Training Accuracy: 0.9569, Testing Accuracy: 0.9657\n",
      "\n"
     ]
    },
    {
     "name": "stdout",
     "output_type": "stream",
     "text": [
      "Epoch 180, Loss 0.0398\n",
      "Training Accuracy: 0.9575, Testing Accuracy: 0.9652\n",
      "\n"
     ]
    },
    {
     "name": "stdout",
     "output_type": "stream",
     "text": [
      "Epoch 190, Loss 0.0392\n",
      "Training Accuracy: 0.9578, Testing Accuracy: 0.9657\n",
      "\n"
     ]
    },
    {
     "name": "stdout",
     "output_type": "stream",
     "text": [
      "Epoch 200, Loss 0.0388\n",
      "Training Accuracy: 0.9579, Testing Accuracy: 0.9657\n",
      "\n"
     ]
    },
    {
     "name": "stdout",
     "output_type": "stream",
     "text": [
      "Epoch 210, Loss 0.0383\n",
      "Training Accuracy: 0.9584, Testing Accuracy: 0.9657\n",
      "\n"
     ]
    },
    {
     "name": "stdout",
     "output_type": "stream",
     "text": [
      "Epoch 220, Loss 0.0379\n",
      "Training Accuracy: 0.9589, Testing Accuracy: 0.9657\n",
      "\n"
     ]
    },
    {
     "name": "stdout",
     "output_type": "stream",
     "text": [
      "Epoch 230, Loss 0.0375\n",
      "Training Accuracy: 0.9595, Testing Accuracy: 0.9662\n",
      "\n"
     ]
    },
    {
     "name": "stdout",
     "output_type": "stream",
     "text": [
      "Epoch 240, Loss 0.0371\n",
      "Training Accuracy: 0.9598, Testing Accuracy: 0.9662\n",
      "\n"
     ]
    },
    {
     "data": {
      "text/plain": [
       "0.033592770670093974"
      ]
     },
     "execution_count": 23,
     "metadata": {},
     "output_type": "execute_result"
    }
   ],
   "source": [
    "lr_learner.train_loop(dl)"
   ]
  },
  {
   "cell_type": "code",
   "execution_count": 24,
   "id": "ca410940",
   "metadata": {
    "execution": {
     "iopub.execute_input": "2021-09-16T20:21:50.409089Z",
     "iopub.status.busy": "2021-09-16T20:21:50.408435Z",
     "iopub.status.idle": "2021-09-16T20:21:50.685225Z",
     "shell.execute_reply": "2021-09-16T20:21:50.684392Z"
    },
    "papermill": {
     "duration": 0.336238,
     "end_time": "2021-09-16T20:21:50.685352",
     "exception": false,
     "start_time": "2021-09-16T20:21:50.349114",
     "status": "completed"
    },
    "tags": []
   },
   "outputs": [
    {
     "data": {
      "text/plain": [
       "<matplotlib.legend.Legend at 0x7f948c6b6f98>"
      ]
     },
     "execution_count": 24,
     "metadata": {},
     "output_type": "execute_result"
    },
    {
     "data": {
      "image/png": "[encoded data removed]",
      "text/plain": [
       "<Figure size 1080x720 with 1 Axes>"
      ]
     },
     "metadata": {
      "needs_background": "light"
     },
     "output_type": "display_data"
    }
   ],
   "source": [
    "#comparing the results of NN and LR\n",
    "plt.figure(figsize=(15,10))\n",
    "\n",
    "# Neural Network plots\n",
    "plt.plot(acc_nn.accuracies, 'r-', label = \"Training Accuracies - NN\")\n",
    "plt.plot(acc_nn.test_accuracies, 'g-', label = \"Testing Accuracies - NN\")\n",
    "\n",
    "# Logistic Regression plots\n",
    "plt.plot(acc_lr.accuracies, 'k-', label = \"Training Accuracies - LR\")\n",
    "plt.plot(acc_lr.test_accuracies, 'b-', label = \"Testing Accuracies - LR\")\n",
    "plt.legend()"
   ]
  },
  {
   "cell_type": "markdown",
   "id": "80dfb35c",
   "metadata": {
    "papermill": {
     "duration": 0.052627,
     "end_time": "2021-09-16T20:21:50.790966",
     "exception": false,
     "start_time": "2021-09-16T20:21:50.738339",
     "status": "completed"
    },
    "tags": []
   },
   "source": [
    "#### Plotting the outputs of this layer of the NN.\n"
   ]
  },
  {
   "cell_type": "code",
   "execution_count": 25,
   "id": "45eb2ff5",
   "metadata": {
    "execution": {
     "iopub.execute_input": "2021-09-16T20:21:50.900323Z",
     "iopub.status.busy": "2021-09-16T20:21:50.899288Z",
     "iopub.status.idle": "2021-09-16T20:21:50.924026Z",
     "shell.execute_reply": "2021-09-16T20:21:50.924558Z"
    },
    "papermill": {
     "duration": 0.082741,
     "end_time": "2021-09-16T20:21:50.924705",
     "exception": false,
     "start_time": "2021-09-16T20:21:50.841964",
     "status": "completed"
    },
    "tags": []
   },
   "outputs": [],
   "source": [
    "new_model = Model(layers[:-2])\n",
    "testing_plot = new_model(testing_data_x)"
   ]
  },
  {
   "cell_type": "code",
   "execution_count": 26,
   "id": "4c0a5485",
   "metadata": {
    "execution": {
     "iopub.execute_input": "2021-09-16T20:21:51.039358Z",
     "iopub.status.busy": "2021-09-16T20:21:51.038552Z",
     "iopub.status.idle": "2021-09-16T20:21:51.277996Z",
     "shell.execute_reply": "2021-09-16T20:21:51.277177Z"
    },
    "papermill": {
     "duration": 0.302278,
     "end_time": "2021-09-16T20:21:51.278131",
     "exception": false,
     "start_time": "2021-09-16T20:21:50.975853",
     "status": "completed"
    },
    "tags": []
   },
   "outputs": [
    {
     "data": {
      "text/plain": [
       "Text(0.5, 1.0, 'Outputs')"
      ]
     },
     "execution_count": 26,
     "metadata": {},
     "output_type": "execute_result"
    },
    {
     "data": {
      "image/png": "[encoded data removed]",
      "text/plain": [
       "<Figure size 576x504 with 1 Axes>"
      ]
     },
     "metadata": {
      "needs_background": "light"
     },
     "output_type": "display_data"
    }
   ],
   "source": [
    "# Plotting the scatter plot of points and color coding by class\n",
    "plt.figure(figsize=(8,7))\n",
    "plt.scatter(testing_plot[:,0], testing_plot[:,1], alpha = 0.1, c = y_test.ravel());\n",
    "plt.title('Outputs')"
   ]
  },
  {
   "cell_type": "markdown",
   "id": "a74fcf8f",
   "metadata": {
    "papermill": {
     "duration": 0.054604,
     "end_time": "2021-09-16T20:21:51.386298",
     "exception": false,
     "start_time": "2021-09-16T20:21:51.331694",
     "status": "completed"
    },
    "tags": []
   },
   "source": [
    "Probability contours"
   ]
  },
  {
   "cell_type": "code",
   "execution_count": 27,
   "id": "d0afc8e3",
   "metadata": {
    "execution": {
     "iopub.execute_input": "2021-09-16T20:21:51.505057Z",
     "iopub.status.busy": "2021-09-16T20:21:51.504397Z",
     "iopub.status.idle": "2021-09-16T20:21:51.516823Z",
     "shell.execute_reply": "2021-09-16T20:21:51.517372Z"
    },
    "papermill": {
     "duration": 0.074871,
     "end_time": "2021-09-16T20:21:51.517503",
     "exception": false,
     "start_time": "2021-09-16T20:21:51.442632",
     "status": "completed"
    },
    "tags": []
   },
   "outputs": [],
   "source": [
    "model_prob = Model(layers[-2:]) "
   ]
  },
  {
   "cell_type": "code",
   "execution_count": 28,
   "id": "9b96e238",
   "metadata": {
    "execution": {
     "iopub.execute_input": "2021-09-16T20:21:51.654535Z",
     "iopub.status.busy": "2021-09-16T20:21:51.653898Z",
     "iopub.status.idle": "2021-09-16T20:21:51.668774Z",
     "shell.execute_reply": "2021-09-16T20:21:51.668192Z"
    },
    "papermill": {
     "duration": 0.098253,
     "end_time": "2021-09-16T20:21:51.668898",
     "exception": false,
     "start_time": "2021-09-16T20:21:51.570645",
     "status": "completed"
    },
    "tags": []
   },
   "outputs": [],
   "source": [
    "#creating the x and y ranges according to the above generated plot.\n",
    "x_range = np.linspace(-4, 1, 100) \n",
    "y_range = np.linspace(-6, 6, 100) \n",
    "x_grid, y_grid = np.meshgrid(x_range, y_range) # x_grid and y_grig are of size 100 X 100\n",
    "\n",
    "# converting x_grid and y_grid to continuous arrays\n",
    "x_gridflat = np.ravel(x_grid)\n",
    "y_gridflat = np.ravel(y_grid)\n",
    "\n",
    "# The last layer of the current model takes two columns as input. Hence transpose of np.vstack() is required.\n",
    "X = np.vstack((x_gridflat, y_gridflat)).T\n",
    "\n",
    "prob_contour = model_prob(X).reshape(100,100) "
   ]
  },
  {
   "cell_type": "code",
   "execution_count": 29,
   "id": "da72499a",
   "metadata": {
    "execution": {
     "iopub.execute_input": "2021-09-16T20:21:51.792900Z",
     "iopub.status.busy": "2021-09-16T20:21:51.792187Z",
     "iopub.status.idle": "2021-09-16T20:21:52.093342Z",
     "shell.execute_reply": "2021-09-16T20:21:52.093880Z"
    },
    "papermill": {
     "duration": 0.363576,
     "end_time": "2021-09-16T20:21:52.094063",
     "exception": false,
     "start_time": "2021-09-16T20:21:51.730487",
     "status": "completed"
    },
    "tags": []
   },
   "outputs": [
    {
     "data": {
      "image/png": "[encoded data removed]",
      "text/plain": [
       "<Figure size 720x648 with 1 Axes>"
      ]
     },
     "metadata": {
      "needs_background": "light"
     },
     "output_type": "display_data"
    }
   ],
   "source": [
    "plt.figure(figsize=(10,9))\n",
    "plt.scatter(testing_plot[:,0], testing_plot[:,1], alpha = 0.1, c = y_test.ravel())\n",
    "contours = plt.contour(x_grid,y_grid,prob_contour)\n",
    "plt.title('Probability Contours')\n",
    "plt.clabel(contours, inline = True );"
   ]
  },
  {
   "cell_type": "code",
   "execution_count": null,
   "id": "e81b4ac7",
   "metadata": {
    "papermill": {
     "duration": 0.055951,
     "end_time": "2021-09-16T20:21:52.207155",
     "exception": false,
     "start_time": "2021-09-16T20:21:52.151204",
     "status": "completed"
    },
    "tags": []
   },
   "outputs": [],
   "source": []
  }
 ],
 "metadata": {
  "kernelspec": {
   "display_name": "Python 3",
   "language": "python",
   "name": "python3"
  },
  "language_info": {
   "codemirror_mode": {
    "name": "ipython",
    "version": 3
   },
   "file_extension": ".py",
   "mimetype": "text/x-python",
   "name": "python",
   "nbconvert_exporter": "python",
   "pygments_lexer": "ipython3",
   "version": "3.6.15"
  },
  "papermill": {
   "default_parameters": {},
   "duration": 151.607143,
   "end_time": "2021-09-16T20:21:52.669364",
   "environment_variables": {},
   "exception": null,
   "input_path": "2020-08-11-part2.ipynb",
   "output_path": "2020-08-11-part2.ipynb",
   "parameters": {},
   "start_time": "2021-09-16T20:19:21.062221",
   "version": "2.3.3"
  }
 },
 "nbformat": 4,
 "nbformat_minor": 5
}