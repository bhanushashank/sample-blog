{
 "cells": [
  {
   "cell_type": "markdown",
   "id": "98380cd3",
   "metadata": {
    "papermill": {
     "duration": 0.026522,
     "end_time": "2022-05-07T00:34:20.122942",
     "exception": false,
     "start_time": "2022-05-07T00:34:20.096420",
     "status": "completed"
    },
    "tags": []
   },
   "source": [
    "# Distinguish Your Own Digits (DYOD)"
   ]
  },
  {
   "cell_type": "markdown",
   "id": "ef31240d",
   "metadata": {
    "papermill": {
     "duration": 0.022334,
     "end_time": "2022-05-07T00:34:20.166973",
     "exception": false,
     "start_time": "2022-05-07T00:34:20.144639",
     "status": "completed"
    },
    "tags": []
   },
   "source": [
    "You are going to write a classifier that distinguishes between the number 3 and number 8."
   ]
  },
  {
   "cell_type": "code",
   "execution_count": 1,
   "id": "b15c8646",
   "metadata": {
    "execution": {
     "iopub.execute_input": "2022-05-07T00:34:20.220769Z",
     "iopub.status.busy": "2022-05-07T00:34:20.220250Z",
     "iopub.status.idle": "2022-05-07T00:34:20.231306Z",
     "shell.execute_reply": "2022-05-07T00:34:20.230899Z"
    },
    "papermill": {
     "duration": 0.043433,
     "end_time": "2022-05-07T00:34:20.231432",
     "exception": false,
     "start_time": "2022-05-07T00:34:20.187999",
     "status": "completed"
    },
    "tags": []
   },
   "outputs": [],
   "source": [
    "%load_ext autoreload\n",
    "%autoreload 2"
   ]
  },
  {
   "cell_type": "code",
   "execution_count": 2,
   "id": "22ef38dc",
   "metadata": {
    "execution": {
     "iopub.execute_input": "2022-05-07T00:34:20.277354Z",
     "iopub.status.busy": "2022-05-07T00:34:20.276890Z",
     "iopub.status.idle": "2022-05-07T00:34:20.848394Z",
     "shell.execute_reply": "2022-05-07T00:34:20.847864Z"
    },
    "papermill": {
     "duration": 0.595978,
     "end_time": "2022-05-07T00:34:20.848537",
     "exception": false,
     "start_time": "2022-05-07T00:34:20.252559",
     "status": "completed"
    },
    "tags": []
   },
   "outputs": [],
   "source": [
    "%matplotlib inline\n",
    "import numpy as np\n",
    "import matplotlib.pyplot as plt\n",
    "import pandas as pd"
   ]
  },
  {
   "cell_type": "markdown",
   "id": "ba036198",
   "metadata": {
    "papermill": {
     "duration": 0.021137,
     "end_time": "2022-05-07T00:34:20.891500",
     "exception": false,
     "start_time": "2022-05-07T00:34:20.870363",
     "status": "completed"
    },
    "tags": []
   },
   "source": [
    "From the command line run `pip install mnist`. This is a library that will help you bring down the mnist dataset. If you run this from a notebook, you need to put  `!pip install mnist` in a cell by itself."
   ]
  },
  {
   "cell_type": "code",
   "execution_count": 3,
   "id": "bb6ad8a1",
   "metadata": {
    "execution": {
     "iopub.execute_input": "2022-05-07T00:34:20.939344Z",
     "iopub.status.busy": "2022-05-07T00:34:20.938866Z",
     "iopub.status.idle": "2022-05-07T00:34:23.419747Z",
     "shell.execute_reply": "2022-05-07T00:34:23.418904Z"
    },
    "papermill": {
     "duration": 2.507243,
     "end_time": "2022-05-07T00:34:23.419899",
     "exception": false,
     "start_time": "2022-05-07T00:34:20.912656",
     "status": "completed"
    },
    "tags": []
   },
   "outputs": [
    {
     "name": "stdout",
     "output_type": "stream",
     "text": [
      "Collecting mnist\r\n"
     ]
    },
    {
     "name": "stdout",
     "output_type": "stream",
     "text": [
      "  Downloading mnist-0.2.2-py2.py3-none-any.whl (3.5 kB)\r\n",
      "Requirement already satisfied: numpy in /opt/hostedtoolcache/Python/3.6.15/x64/lib/python3.6/site-packages (from mnist) (1.19.5)\r\n"
     ]
    },
    {
     "name": "stdout",
     "output_type": "stream",
     "text": [
      "Installing collected packages: mnist\r\n",
      "Successfully installed mnist-0.2.2\r\n"
     ]
    }
   ],
   "source": [
    "!pip install mnist"
   ]
  },
  {
   "cell_type": "markdown",
   "id": "69df9c9a",
   "metadata": {
    "papermill": {
     "duration": 0.024542,
     "end_time": "2022-05-07T00:34:23.473960",
     "exception": false,
     "start_time": "2022-05-07T00:34:23.449418",
     "status": "completed"
    },
    "tags": []
   },
   "source": [
    "## Preparing the Data"
   ]
  },
  {
   "cell_type": "code",
   "execution_count": 4,
   "id": "7f69d806",
   "metadata": {
    "execution": {
     "iopub.execute_input": "2022-05-07T00:34:23.545652Z",
     "iopub.status.busy": "2022-05-07T00:34:23.531100Z",
     "iopub.status.idle": "2022-05-07T00:34:23.548712Z",
     "shell.execute_reply": "2022-05-07T00:34:23.549126Z"
    },
    "papermill": {
     "duration": 0.050304,
     "end_time": "2022-05-07T00:34:23.549265",
     "exception": false,
     "start_time": "2022-05-07T00:34:23.498961",
     "status": "completed"
    },
    "tags": []
   },
   "outputs": [],
   "source": [
    "import mnist"
   ]
  },
  {
   "cell_type": "code",
   "execution_count": 5,
   "id": "a411e44f",
   "metadata": {
    "execution": {
     "iopub.execute_input": "2022-05-07T00:34:23.612760Z",
     "iopub.status.busy": "2022-05-07T00:34:23.612211Z",
     "iopub.status.idle": "2022-05-07T00:34:24.247539Z",
     "shell.execute_reply": "2022-05-07T00:34:24.247029Z"
    },
    "papermill": {
     "duration": 0.673914,
     "end_time": "2022-05-07T00:34:24.247679",
     "exception": false,
     "start_time": "2022-05-07T00:34:23.573765",
     "status": "completed"
    },
    "tags": []
   },
   "outputs": [],
   "source": [
    "train_images = mnist.train_images()\n",
    "train_labels = mnist.train_labels()"
   ]
  },
  {
   "cell_type": "code",
   "execution_count": 6,
   "id": "dceab3a5",
   "metadata": {
    "execution": {
     "iopub.execute_input": "2022-05-07T00:34:24.315085Z",
     "iopub.status.busy": "2022-05-07T00:34:24.313662Z",
     "iopub.status.idle": "2022-05-07T00:34:24.327323Z",
     "shell.execute_reply": "2022-05-07T00:34:24.326895Z"
    },
    "papermill": {
     "duration": 0.051843,
     "end_time": "2022-05-07T00:34:24.327447",
     "exception": false,
     "start_time": "2022-05-07T00:34:24.275604",
     "status": "completed"
    },
    "tags": []
   },
   "outputs": [
    {
     "data": {
      "text/plain": [
       "((60000, 28, 28), (60000,))"
      ]
     },
     "execution_count": 6,
     "metadata": {},
     "output_type": "execute_result"
    }
   ],
   "source": [
    "train_images.shape, train_labels.shape"
   ]
  },
  {
   "cell_type": "code",
   "execution_count": 7,
   "id": "f50dc2bb",
   "metadata": {
    "execution": {
     "iopub.execute_input": "2022-05-07T00:34:24.387531Z",
     "iopub.status.busy": "2022-05-07T00:34:24.382256Z",
     "iopub.status.idle": "2022-05-07T00:34:24.632218Z",
     "shell.execute_reply": "2022-05-07T00:34:24.632683Z"
    },
    "papermill": {
     "duration": 0.279939,
     "end_time": "2022-05-07T00:34:24.632830",
     "exception": false,
     "start_time": "2022-05-07T00:34:24.352891",
     "status": "completed"
    },
    "tags": []
   },
   "outputs": [],
   "source": [
    "test_images = mnist.test_images()\n",
    "test_labels = mnist.test_labels()"
   ]
  },
  {
   "cell_type": "code",
   "execution_count": 8,
   "id": "fc38cf1b",
   "metadata": {
    "execution": {
     "iopub.execute_input": "2022-05-07T00:34:24.700614Z",
     "iopub.status.busy": "2022-05-07T00:34:24.688257Z",
     "iopub.status.idle": "2022-05-07T00:34:24.703671Z",
     "shell.execute_reply": "2022-05-07T00:34:24.703218Z"
    },
    "papermill": {
     "duration": 0.045084,
     "end_time": "2022-05-07T00:34:24.703788",
     "exception": false,
     "start_time": "2022-05-07T00:34:24.658704",
     "status": "completed"
    },
    "tags": []
   },
   "outputs": [
    {
     "data": {
      "text/plain": [
       "((10000, 28, 28), (10000,))"
      ]
     },
     "execution_count": 8,
     "metadata": {},
     "output_type": "execute_result"
    }
   ],
   "source": [
    "test_images.shape, test_labels.shape"
   ]
  },
  {
   "cell_type": "code",
   "execution_count": 9,
   "id": "f9ed8fe0",
   "metadata": {
    "execution": {
     "iopub.execute_input": "2022-05-07T00:34:24.767571Z",
     "iopub.status.busy": "2022-05-07T00:34:24.767043Z",
     "iopub.status.idle": "2022-05-07T00:34:24.904562Z",
     "shell.execute_reply": "2022-05-07T00:34:24.905037Z"
    },
    "papermill": {
     "duration": 0.170288,
     "end_time": "2022-05-07T00:34:24.905192",
     "exception": false,
     "start_time": "2022-05-07T00:34:24.734904",
     "status": "completed"
    },
    "tags": []
   },
   "outputs": [
    {
     "name": "stdout",
     "output_type": "stream",
     "text": [
      "2\n"
     ]
    },
    {
     "data": {
      "text/plain": [
       "<matplotlib.image.AxesImage at 0x7eff77b77400>"
      ]
     },
     "execution_count": 9,
     "metadata": {},
     "output_type": "execute_result"
    },
    {
     "data": {
      "image/png": "[encoded data removed]",
      "text/plain": [
       "<Figure size 432x288 with 1 Axes>"
      ]
     },
     "metadata": {
      "needs_background": "light"
     },
     "output_type": "display_data"
    }
   ],
   "source": [
    "image_index = 7776 # You may select anything up to 60,000\n",
    "print(train_labels[image_index]) \n",
    "plt.imshow(train_images[image_index], cmap='Greys')"
   ]
  },
  {
   "cell_type": "markdown",
   "id": "a8d2388d",
   "metadata": {
    "papermill": {
     "duration": 0.026065,
     "end_time": "2022-05-07T00:34:24.962186",
     "exception": false,
     "start_time": "2022-05-07T00:34:24.936121",
     "status": "completed"
    },
    "tags": []
   },
   "source": [
    "## Filter data to get 3 and 8 out"
   ]
  },
  {
   "cell_type": "code",
   "execution_count": 10,
   "id": "776f7fc7",
   "metadata": {
    "execution": {
     "iopub.execute_input": "2022-05-07T00:34:25.019351Z",
     "iopub.status.busy": "2022-05-07T00:34:25.018762Z",
     "iopub.status.idle": "2022-05-07T00:34:25.042034Z",
     "shell.execute_reply": "2022-05-07T00:34:25.041527Z"
    },
    "papermill": {
     "duration": 0.053652,
     "end_time": "2022-05-07T00:34:25.042157",
     "exception": false,
     "start_time": "2022-05-07T00:34:24.988505",
     "status": "completed"
    },
    "tags": []
   },
   "outputs": [],
   "source": [
    "train_filter = np.where((train_labels == 3 ) | (train_labels == 8))\n",
    "test_filter = np.where((test_labels == 3) | (test_labels == 8))\n",
    "X_train, y_train = train_images[train_filter], train_labels[train_filter]\n",
    "X_test, y_test = test_images[test_filter], test_labels[test_filter]"
   ]
  },
  {
   "cell_type": "markdown",
   "id": "948f0b7e",
   "metadata": {
    "papermill": {
     "duration": 0.026243,
     "end_time": "2022-05-07T00:34:25.094929",
     "exception": false,
     "start_time": "2022-05-07T00:34:25.068686",
     "status": "completed"
    },
    "tags": []
   },
   "source": [
    "We normalize the pizel values in the 0 to 1 range"
   ]
  },
  {
   "cell_type": "code",
   "execution_count": 11,
   "id": "ee4c2166",
   "metadata": {
    "execution": {
     "iopub.execute_input": "2022-05-07T00:34:25.163097Z",
     "iopub.status.busy": "2022-05-07T00:34:25.157116Z",
     "iopub.status.idle": "2022-05-07T00:34:25.203538Z",
     "shell.execute_reply": "2022-05-07T00:34:25.202963Z"
    },
    "papermill": {
     "duration": 0.082512,
     "end_time": "2022-05-07T00:34:25.203666",
     "exception": false,
     "start_time": "2022-05-07T00:34:25.121154",
     "status": "completed"
    },
    "tags": []
   },
   "outputs": [],
   "source": [
    "X_train = X_train/255.\n",
    "X_test = X_test/255."
   ]
  },
  {
   "cell_type": "markdown",
   "id": "ddcf4fab",
   "metadata": {
    "papermill": {
     "duration": 0.026629,
     "end_time": "2022-05-07T00:34:25.258030",
     "exception": false,
     "start_time": "2022-05-07T00:34:25.231401",
     "status": "completed"
    },
    "tags": []
   },
   "source": [
    "And setup the labels as 1 (when the digit is 3) and 0 (when the digit is 8)"
   ]
  },
  {
   "cell_type": "code",
   "execution_count": 12,
   "id": "7dc908f2",
   "metadata": {
    "execution": {
     "iopub.execute_input": "2022-05-07T00:34:25.330498Z",
     "iopub.status.busy": "2022-05-07T00:34:25.329854Z",
     "iopub.status.idle": "2022-05-07T00:34:25.339326Z",
     "shell.execute_reply": "2022-05-07T00:34:25.338877Z"
    },
    "papermill": {
     "duration": 0.044472,
     "end_time": "2022-05-07T00:34:25.339454",
     "exception": false,
     "start_time": "2022-05-07T00:34:25.294982",
     "status": "completed"
    },
    "tags": []
   },
   "outputs": [],
   "source": [
    "y_train = 1*(y_train==3)\n",
    "y_test = 1*(y_test==3)"
   ]
  },
  {
   "cell_type": "code",
   "execution_count": 13,
   "id": "01e4e969",
   "metadata": {
    "execution": {
     "iopub.execute_input": "2022-05-07T00:34:25.398443Z",
     "iopub.status.busy": "2022-05-07T00:34:25.397869Z",
     "iopub.status.idle": "2022-05-07T00:34:25.410453Z",
     "shell.execute_reply": "2022-05-07T00:34:25.409999Z"
    },
    "papermill": {
     "duration": 0.044646,
     "end_time": "2022-05-07T00:34:25.410581",
     "exception": false,
     "start_time": "2022-05-07T00:34:25.365935",
     "status": "completed"
    },
    "tags": []
   },
   "outputs": [
    {
     "data": {
      "text/plain": [
       "((11982, 28, 28), (1984, 28, 28))"
      ]
     },
     "execution_count": 13,
     "metadata": {},
     "output_type": "execute_result"
    }
   ],
   "source": [
    "X_train.shape, X_test.shape"
   ]
  },
  {
   "cell_type": "markdown",
   "id": "5ccf3f85",
   "metadata": {
    "papermill": {
     "duration": 0.027101,
     "end_time": "2022-05-07T00:34:25.466282",
     "exception": false,
     "start_time": "2022-05-07T00:34:25.439181",
     "status": "completed"
    },
    "tags": []
   },
   "source": [
    "We reshape the data to flatten the image pixels into a set of features or co-variates:"
   ]
  },
  {
   "cell_type": "code",
   "execution_count": 14,
   "id": "5286a4a3",
   "metadata": {
    "execution": {
     "iopub.execute_input": "2022-05-07T00:34:25.528858Z",
     "iopub.status.busy": "2022-05-07T00:34:25.528281Z",
     "iopub.status.idle": "2022-05-07T00:34:25.542676Z",
     "shell.execute_reply": "2022-05-07T00:34:25.543348Z"
    },
    "papermill": {
     "duration": 0.050468,
     "end_time": "2022-05-07T00:34:25.543499",
     "exception": false,
     "start_time": "2022-05-07T00:34:25.493031",
     "status": "completed"
    },
    "tags": []
   },
   "outputs": [
    {
     "data": {
      "text/plain": [
       "((11982, 784), (1984, 784))"
      ]
     },
     "execution_count": 14,
     "metadata": {},
     "output_type": "execute_result"
    }
   ],
   "source": [
    "X_train = X_train.reshape(X_train.shape[0], -1)\n",
    "X_test = X_test.reshape(X_test.shape[0], -1)\n",
    "X_train.shape, X_test.shape"
   ]
  },
  {
   "cell_type": "code",
   "execution_count": 15,
   "id": "73c5f88a",
   "metadata": {
    "execution": {
     "iopub.execute_input": "2022-05-07T00:34:25.603012Z",
     "iopub.status.busy": "2022-05-07T00:34:25.602435Z",
     "iopub.status.idle": "2022-05-07T00:34:25.620876Z",
     "shell.execute_reply": "2022-05-07T00:34:25.620383Z"
    },
    "papermill": {
     "duration": 0.050717,
     "end_time": "2022-05-07T00:34:25.621002",
     "exception": false,
     "start_time": "2022-05-07T00:34:25.570285",
     "status": "completed"
    },
    "tags": []
   },
   "outputs": [],
   "source": [
    "#Impoting functions from 'Kudzu'\n",
    "from kudzu.model import Model\n",
    "from kudzu.train import Learner\n",
    "from kudzu.optim import GD\n",
    "from kudzu.data import Data, Sampler,Dataloader\n",
    "\n",
    "from kudzu.callbacks import AccCallback\n",
    "from kudzu.callbacks import ClfCallback\n",
    "\n",
    "from kudzu.loss import MSE\n",
    "\n",
    "from kudzu.layer import Sigmoid,Relu\n",
    "from kudzu.layer import Affine"
   ]
  },
  {
   "cell_type": "markdown",
   "id": "bc01172a",
   "metadata": {
    "papermill": {
     "duration": 0.026772,
     "end_time": "2022-05-07T00:34:25.674779",
     "exception": false,
     "start_time": "2022-05-07T00:34:25.648007",
     "status": "completed"
    },
    "tags": []
   },
   "source": [
    "### Let us create a `Config` class, to store important parameters. \n",
    "This class essentially plays the role of a dictionary."
   ]
  },
  {
   "cell_type": "code",
   "execution_count": 16,
   "id": "978281aa",
   "metadata": {
    "execution": {
     "iopub.execute_input": "2022-05-07T00:34:25.744879Z",
     "iopub.status.busy": "2022-05-07T00:34:25.744310Z",
     "iopub.status.idle": "2022-05-07T00:34:25.750677Z",
     "shell.execute_reply": "2022-05-07T00:34:25.750234Z"
    },
    "papermill": {
     "duration": 0.049338,
     "end_time": "2022-05-07T00:34:25.750802",
     "exception": false,
     "start_time": "2022-05-07T00:34:25.701464",
     "status": "completed"
    },
    "tags": []
   },
   "outputs": [],
   "source": [
    "class Config:\n",
    "    pass\n",
    "config = Config()\n",
    "config.lr = 0.001\n",
    "config.num_epochs = 250\n",
    "config.bs = 50"
   ]
  },
  {
   "cell_type": "markdown",
   "id": "1385fa59",
   "metadata": {
    "papermill": {
     "duration": 0.026786,
     "end_time": "2022-05-07T00:34:25.804440",
     "exception": false,
     "start_time": "2022-05-07T00:34:25.777654",
     "status": "completed"
    },
    "tags": []
   },
   "source": [
    "### Running Models with the Training data\n",
    "Details about the network layers:\n",
    "- A first affine layer has 784 inputs and does 100 affine transforms. These are followed by a Relu\n",
    "- A second affine layer has 100 inputs from the 100 activations of the past layer, and does 100 affine transforms. These are followed by a Relu\n",
    "- A third affine layer has 100 activations and does 2 affine transformations to create an embedding for visualization. There is no non-linearity here.\n",
    "- A final \"logistic regression\" which has an affine transform from 2 inputs to 1 output, which is squeezed through a sigmoid.\n"
   ]
  },
  {
   "cell_type": "code",
   "execution_count": 17,
   "id": "2b9c66db",
   "metadata": {
    "execution": {
     "iopub.execute_input": "2022-05-07T00:34:25.877188Z",
     "iopub.status.busy": "2022-05-07T00:34:25.868001Z",
     "iopub.status.idle": "2022-05-07T00:34:25.879659Z",
     "shell.execute_reply": "2022-05-07T00:34:25.879217Z"
    },
    "papermill": {
     "duration": 0.048507,
     "end_time": "2022-05-07T00:34:25.879785",
     "exception": false,
     "start_time": "2022-05-07T00:34:25.831278",
     "status": "completed"
    },
    "tags": []
   },
   "outputs": [],
   "source": [
    "data = Data(X_train, y_train.reshape(-1,1))\n",
    "sampler = Sampler(data, config.bs, shuffle=True)\n",
    "\n",
    "dl = Dataloader(data, sampler)\n",
    "\n",
    "opt = GD(config.lr)\n",
    "loss = MSE()"
   ]
  },
  {
   "cell_type": "code",
   "execution_count": 18,
   "id": "b275e4c2",
   "metadata": {
    "execution": {
     "iopub.execute_input": "2022-05-07T00:34:25.948575Z",
     "iopub.status.busy": "2022-05-07T00:34:25.937477Z",
     "iopub.status.idle": "2022-05-07T00:34:25.955656Z",
     "shell.execute_reply": "2022-05-07T00:34:25.955183Z"
    },
    "papermill": {
     "duration": 0.048847,
     "end_time": "2022-05-07T00:34:25.955786",
     "exception": false,
     "start_time": "2022-05-07T00:34:25.906939",
     "status": "completed"
    },
    "tags": []
   },
   "outputs": [],
   "source": [
    "training_data_x = X_train\n",
    "testing_data_x = X_test\n",
    "training_data_y = y_train.reshape(-1,1)\n",
    "testing_data_y = y_test.reshape(-1,1)"
   ]
  },
  {
   "cell_type": "code",
   "execution_count": 19,
   "id": "76951160",
   "metadata": {
    "execution": {
     "iopub.execute_input": "2022-05-07T00:34:26.031973Z",
     "iopub.status.busy": "2022-05-07T00:34:26.031361Z",
     "iopub.status.idle": "2022-05-07T00:34:26.035358Z",
     "shell.execute_reply": "2022-05-07T00:34:26.034906Z"
    },
    "papermill": {
     "duration": 0.0516,
     "end_time": "2022-05-07T00:34:26.035490",
     "exception": false,
     "start_time": "2022-05-07T00:34:25.983890",
     "status": "completed"
    },
    "tags": []
   },
   "outputs": [
    {
     "name": "stdout",
     "output_type": "stream",
     "text": [
      "xavier\n",
      "xavier\n",
      "xavier\n",
      "xavier\n",
      "xavier\n"
     ]
    }
   ],
   "source": [
    "layers = [Affine(\"first\", 784, 100), Relu(\"first\"), Affine(\"second\", 100, 100), Relu(\"second\"), Affine(\"third\", 100, 2), Affine(\"last\", 2, 1), Sigmoid(\"last\")]\n",
    "model_nn = Model(layers)\n",
    "model_lr = Model([Affine(\"logits\", 784, 1), Sigmoid(\"sigmoid\")])"
   ]
  },
  {
   "cell_type": "code",
   "execution_count": 20,
   "id": "6eede77a",
   "metadata": {
    "execution": {
     "iopub.execute_input": "2022-05-07T00:34:26.119024Z",
     "iopub.status.busy": "2022-05-07T00:34:26.116200Z",
     "iopub.status.idle": "2022-05-07T00:34:26.121411Z",
     "shell.execute_reply": "2022-05-07T00:34:26.120906Z"
    },
    "papermill": {
     "duration": 0.051252,
     "end_time": "2022-05-07T00:34:26.121583",
     "exception": false,
     "start_time": "2022-05-07T00:34:26.070331",
     "status": "completed"
    },
    "tags": []
   },
   "outputs": [],
   "source": [
    "nn_learner = Learner(loss, model_nn, opt, config.num_epochs)\n",
    "acc_nn = ClfCallback(nn_learner, config.bs, training_data_x , testing_data_x, training_data_y, testing_data_y)\n",
    "nn_learner.set_callbacks([acc_nn])"
   ]
  },
  {
   "cell_type": "code",
   "execution_count": 21,
   "id": "877b6cc7",
   "metadata": {
    "execution": {
     "iopub.execute_input": "2022-05-07T00:34:26.194528Z",
     "iopub.status.busy": "2022-05-07T00:34:26.193912Z",
     "iopub.status.idle": "2022-05-07T00:34:26.203277Z",
     "shell.execute_reply": "2022-05-07T00:34:26.202824Z"
    },
    "papermill": {
     "duration": 0.046692,
     "end_time": "2022-05-07T00:34:26.203405",
     "exception": false,
     "start_time": "2022-05-07T00:34:26.156713",
     "status": "completed"
    },
    "tags": []
   },
   "outputs": [],
   "source": [
    "lr_learner = Learner(loss, model_lr, opt, config.num_epochs)\n",
    "acc_lr = ClfCallback(lr_learner, config.bs, training_data_x , testing_data_x, training_data_y, testing_data_y)\n",
    "lr_learner.set_callbacks([acc_lr])"
   ]
  },
  {
   "cell_type": "code",
   "execution_count": 22,
   "id": "d9b133c3",
   "metadata": {
    "execution": {
     "iopub.execute_input": "2022-05-07T00:34:26.270396Z",
     "iopub.status.busy": "2022-05-07T00:34:26.269834Z",
     "iopub.status.idle": "2022-05-07T00:35:51.296318Z",
     "shell.execute_reply": "2022-05-07T00:35:51.297076Z"
    },
    "papermill": {
     "duration": 85.060199,
     "end_time": "2022-05-07T00:35:51.297230",
     "exception": false,
     "start_time": "2022-05-07T00:34:26.237031",
     "status": "completed"
    },
    "tags": []
   },
   "outputs": [
    {
     "name": "stdout",
     "output_type": "stream",
     "text": [
      "Epoch 0, Loss 0.225\n",
      "Training Accuracy: 0.7916, Testing Accuracy: 0.8019\n",
      "\n"
     ]
    },
    {
     "name": "stdout",
     "output_type": "stream",
     "text": [
      "Epoch 10, Loss 0.0584\n",
      "Training Accuracy: 0.9409, Testing Accuracy: 0.9476\n",
      "\n"
     ]
    },
    {
     "name": "stdout",
     "output_type": "stream",
     "text": [
      "Epoch 20, Loss 0.0422\n",
      "Training Accuracy: 0.9552, Testing Accuracy: 0.9602\n",
      "\n"
     ]
    },
    {
     "name": "stdout",
     "output_type": "stream",
     "text": [
      "Epoch 30, Loss 0.0358\n",
      "Training Accuracy: 0.9602, Testing Accuracy: 0.9652\n",
      "\n"
     ]
    },
    {
     "name": "stdout",
     "output_type": "stream",
     "text": [
      "Epoch 40, Loss 0.0323\n",
      "Training Accuracy: 0.9629, Testing Accuracy: 0.9672\n",
      "\n"
     ]
    },
    {
     "name": "stdout",
     "output_type": "stream",
     "text": [
      "Epoch 50, Loss 0.0299\n",
      "Training Accuracy: 0.9654, Testing Accuracy: 0.9688\n",
      "\n"
     ]
    },
    {
     "name": "stdout",
     "output_type": "stream",
     "text": [
      "Epoch 60, Loss 0.0282\n",
      "Training Accuracy: 0.9675, Testing Accuracy: 0.9693\n",
      "\n"
     ]
    },
    {
     "name": "stdout",
     "output_type": "stream",
     "text": [
      "Epoch 70, Loss 0.0268\n",
      "Training Accuracy: 0.9696, Testing Accuracy: 0.9698\n",
      "\n"
     ]
    },
    {
     "name": "stdout",
     "output_type": "stream",
     "text": [
      "Epoch 80, Loss 0.0257\n",
      "Training Accuracy: 0.9703, Testing Accuracy: 0.9718\n",
      "\n"
     ]
    },
    {
     "name": "stdout",
     "output_type": "stream",
     "text": [
      "Epoch 90, Loss 0.0247\n",
      "Training Accuracy: 0.9717, Testing Accuracy: 0.9708\n",
      "\n"
     ]
    },
    {
     "name": "stdout",
     "output_type": "stream",
     "text": [
      "Epoch 100, Loss 0.0239\n",
      "Training Accuracy: 0.9726, Testing Accuracy: 0.9723\n",
      "\n"
     ]
    },
    {
     "name": "stdout",
     "output_type": "stream",
     "text": [
      "Epoch 110, Loss 0.0231\n",
      "Training Accuracy: 0.9736, Testing Accuracy: 0.9723\n",
      "\n"
     ]
    },
    {
     "name": "stdout",
     "output_type": "stream",
     "text": [
      "Epoch 120, Loss 0.0225\n",
      "Training Accuracy: 0.9747, Testing Accuracy: 0.9723\n",
      "\n"
     ]
    },
    {
     "name": "stdout",
     "output_type": "stream",
     "text": [
      "Epoch 130, Loss 0.0219\n",
      "Training Accuracy: 0.9757, Testing Accuracy: 0.9728\n",
      "\n"
     ]
    },
    {
     "name": "stdout",
     "output_type": "stream",
     "text": [
      "Epoch 140, Loss 0.0213\n",
      "Training Accuracy: 0.9769, Testing Accuracy: 0.9738\n",
      "\n"
     ]
    },
    {
     "name": "stdout",
     "output_type": "stream",
     "text": [
      "Epoch 150, Loss 0.0208\n",
      "Training Accuracy: 0.9772, Testing Accuracy: 0.9733\n",
      "\n"
     ]
    },
    {
     "name": "stdout",
     "output_type": "stream",
     "text": [
      "Epoch 160, Loss 0.0203\n",
      "Training Accuracy: 0.9780, Testing Accuracy: 0.9733\n",
      "\n"
     ]
    },
    {
     "name": "stdout",
     "output_type": "stream",
     "text": [
      "Epoch 170, Loss 0.0198\n",
      "Training Accuracy: 0.9782, Testing Accuracy: 0.9738\n",
      "\n"
     ]
    },
    {
     "name": "stdout",
     "output_type": "stream",
     "text": [
      "Epoch 180, Loss 0.0193\n",
      "Training Accuracy: 0.9786, Testing Accuracy: 0.9733\n",
      "\n"
     ]
    },
    {
     "name": "stdout",
     "output_type": "stream",
     "text": [
      "Epoch 190, Loss 0.0189\n",
      "Training Accuracy: 0.9787, Testing Accuracy: 0.9743\n",
      "\n"
     ]
    },
    {
     "name": "stdout",
     "output_type": "stream",
     "text": [
      "Epoch 200, Loss 0.0185\n",
      "Training Accuracy: 0.9792, Testing Accuracy: 0.9743\n",
      "\n"
     ]
    },
    {
     "name": "stdout",
     "output_type": "stream",
     "text": [
      "Epoch 210, Loss 0.0181\n",
      "Training Accuracy: 0.9797, Testing Accuracy: 0.9753\n",
      "\n"
     ]
    },
    {
     "name": "stdout",
     "output_type": "stream",
     "text": [
      "Epoch 220, Loss 0.0177\n",
      "Training Accuracy: 0.9802, Testing Accuracy: 0.9753\n",
      "\n"
     ]
    },
    {
     "name": "stdout",
     "output_type": "stream",
     "text": [
      "Epoch 230, Loss 0.0174\n",
      "Training Accuracy: 0.9808, Testing Accuracy: 0.9753\n",
      "\n"
     ]
    },
    {
     "name": "stdout",
     "output_type": "stream",
     "text": [
      "Epoch 240, Loss 0.017\n",
      "Training Accuracy: 0.9815, Testing Accuracy: 0.9758\n",
      "\n"
     ]
    },
    {
     "data": {
      "text/plain": [
       "0.0010605717015203175"
      ]
     },
     "execution_count": 22,
     "metadata": {},
     "output_type": "execute_result"
    }
   ],
   "source": [
    "nn_learner.train_loop(dl)"
   ]
  },
  {
   "cell_type": "code",
   "execution_count": 23,
   "id": "e0163366",
   "metadata": {
    "execution": {
     "iopub.execute_input": "2022-05-07T00:35:51.377364Z",
     "iopub.status.busy": "2022-05-07T00:35:51.376835Z",
     "iopub.status.idle": "2022-05-07T00:36:06.472750Z",
     "shell.execute_reply": "2022-05-07T00:36:06.473477Z"
    },
    "papermill": {
     "duration": 15.14232,
     "end_time": "2022-05-07T00:36:06.473628",
     "exception": false,
     "start_time": "2022-05-07T00:35:51.331308",
     "status": "completed"
    },
    "tags": []
   },
   "outputs": [
    {
     "name": "stdout",
     "output_type": "stream",
     "text": [
      "Epoch 0, Loss 0.2177\n",
      "Training Accuracy: 0.7792, Testing Accuracy: 0.7989\n",
      "\n"
     ]
    },
    {
     "name": "stdout",
     "output_type": "stream",
     "text": [
      "Epoch 10, Loss 0.1001\n",
      "Training Accuracy: 0.9104, Testing Accuracy: 0.9219\n",
      "\n"
     ]
    },
    {
     "name": "stdout",
     "output_type": "stream",
     "text": [
      "Epoch 20, Loss 0.0784\n",
      "Training Accuracy: 0.9251, Testing Accuracy: 0.9400\n",
      "\n"
     ]
    },
    {
     "name": "stdout",
     "output_type": "stream",
     "text": [
      "Epoch 30, Loss 0.068\n",
      "Training Accuracy: 0.9345, Testing Accuracy: 0.9506\n",
      "\n"
     ]
    },
    {
     "name": "stdout",
     "output_type": "stream",
     "text": [
      "Epoch 40, Loss 0.0617\n",
      "Training Accuracy: 0.9399, Testing Accuracy: 0.9516\n",
      "\n"
     ]
    },
    {
     "name": "stdout",
     "output_type": "stream",
     "text": [
      "Epoch 50, Loss 0.0573\n",
      "Training Accuracy: 0.9443, Testing Accuracy: 0.9536\n",
      "\n"
     ]
    },
    {
     "name": "stdout",
     "output_type": "stream",
     "text": [
      "Epoch 60, Loss 0.054\n",
      "Training Accuracy: 0.9463, Testing Accuracy: 0.9546\n",
      "\n"
     ]
    },
    {
     "name": "stdout",
     "output_type": "stream",
     "text": [
      "Epoch 70, Loss 0.0515\n",
      "Training Accuracy: 0.9483, Testing Accuracy: 0.9551\n",
      "\n"
     ]
    },
    {
     "name": "stdout",
     "output_type": "stream",
     "text": [
      "Epoch 80, Loss 0.0495\n",
      "Training Accuracy: 0.9495, Testing Accuracy: 0.9587\n",
      "\n"
     ]
    },
    {
     "name": "stdout",
     "output_type": "stream",
     "text": [
      "Epoch 90, Loss 0.0478\n",
      "Training Accuracy: 0.9511, Testing Accuracy: 0.9597\n",
      "\n"
     ]
    },
    {
     "name": "stdout",
     "output_type": "stream",
     "text": [
      "Epoch 100, Loss 0.0463\n",
      "Training Accuracy: 0.9523, Testing Accuracy: 0.9607\n",
      "\n"
     ]
    },
    {
     "name": "stdout",
     "output_type": "stream",
     "text": [
      "Epoch 110, Loss 0.0451\n",
      "Training Accuracy: 0.9533, Testing Accuracy: 0.9632\n",
      "\n"
     ]
    },
    {
     "name": "stdout",
     "output_type": "stream",
     "text": [
      "Epoch 120, Loss 0.044\n",
      "Training Accuracy: 0.9543, Testing Accuracy: 0.9632\n",
      "\n"
     ]
    },
    {
     "name": "stdout",
     "output_type": "stream",
     "text": [
      "Epoch 130, Loss 0.0431\n",
      "Training Accuracy: 0.9553, Testing Accuracy: 0.9632\n",
      "\n"
     ]
    },
    {
     "name": "stdout",
     "output_type": "stream",
     "text": [
      "Epoch 140, Loss 0.0423\n",
      "Training Accuracy: 0.9556, Testing Accuracy: 0.9637\n",
      "\n"
     ]
    },
    {
     "name": "stdout",
     "output_type": "stream",
     "text": [
      "Epoch 150, Loss 0.0415\n",
      "Training Accuracy: 0.9565, Testing Accuracy: 0.9642\n",
      "\n"
     ]
    },
    {
     "name": "stdout",
     "output_type": "stream",
     "text": [
      "Epoch 160, Loss 0.0408\n",
      "Training Accuracy: 0.9570, Testing Accuracy: 0.9647\n",
      "\n"
     ]
    },
    {
     "name": "stdout",
     "output_type": "stream",
     "text": [
      "Epoch 170, Loss 0.0402\n",
      "Training Accuracy: 0.9578, Testing Accuracy: 0.9642\n",
      "\n"
     ]
    },
    {
     "name": "stdout",
     "output_type": "stream",
     "text": [
      "Epoch 180, Loss 0.0396\n",
      "Training Accuracy: 0.9582, Testing Accuracy: 0.9642\n",
      "\n"
     ]
    },
    {
     "name": "stdout",
     "output_type": "stream",
     "text": [
      "Epoch 190, Loss 0.0391\n",
      "Training Accuracy: 0.9587, Testing Accuracy: 0.9642\n",
      "\n"
     ]
    },
    {
     "name": "stdout",
     "output_type": "stream",
     "text": [
      "Epoch 200, Loss 0.0386\n",
      "Training Accuracy: 0.9590, Testing Accuracy: 0.9642\n",
      "\n"
     ]
    },
    {
     "name": "stdout",
     "output_type": "stream",
     "text": [
      "Epoch 210, Loss 0.0382\n",
      "Training Accuracy: 0.9592, Testing Accuracy: 0.9637\n",
      "\n"
     ]
    },
    {
     "name": "stdout",
     "output_type": "stream",
     "text": [
      "Epoch 220, Loss 0.0377\n",
      "Training Accuracy: 0.9597, Testing Accuracy: 0.9637\n",
      "\n"
     ]
    },
    {
     "name": "stdout",
     "output_type": "stream",
     "text": [
      "Epoch 230, Loss 0.0374\n",
      "Training Accuracy: 0.9598, Testing Accuracy: 0.9642\n",
      "\n"
     ]
    },
    {
     "name": "stdout",
     "output_type": "stream",
     "text": [
      "Epoch 240, Loss 0.037\n",
      "Training Accuracy: 0.9602, Testing Accuracy: 0.9642\n",
      "\n"
     ]
    },
    {
     "data": {
      "text/plain": [
       "0.04076388719147179"
      ]
     },
     "execution_count": 23,
     "metadata": {},
     "output_type": "execute_result"
    }
   ],
   "source": [
    "lr_learner.train_loop(dl)"
   ]
  },
  {
   "cell_type": "code",
   "execution_count": 24,
   "id": "ca410940",
   "metadata": {
    "execution": {
     "iopub.execute_input": "2022-05-07T00:36:06.567737Z",
     "iopub.status.busy": "2022-05-07T00:36:06.567176Z",
     "iopub.status.idle": "2022-05-07T00:36:06.808452Z",
     "shell.execute_reply": "2022-05-07T00:36:06.808917Z"
    },
    "papermill": {
     "duration": 0.294356,
     "end_time": "2022-05-07T00:36:06.809078",
     "exception": false,
     "start_time": "2022-05-07T00:36:06.514722",
     "status": "completed"
    },
    "tags": []
   },
   "outputs": [
    {
     "data": {
      "text/plain": [
       "<matplotlib.legend.Legend at 0x7eff77757b00>"
      ]
     },
     "execution_count": 24,
     "metadata": {},
     "output_type": "execute_result"
    },
    {
     "data": {
      "image/png": "[encoded data removed]",
      "text/plain": [
       "<Figure size 1080x720 with 1 Axes>"
      ]
     },
     "metadata": {
      "needs_background": "light"
     },
     "output_type": "display_data"
    }
   ],
   "source": [
    "#comparing the results of NN and LR\n",
    "plt.figure(figsize=(15,10))\n",
    "\n",
    "# Neural Network plots\n",
    "plt.plot(acc_nn.accuracies, 'r-', label = \"Training Accuracies - NN\")\n",
    "plt.plot(acc_nn.test_accuracies, 'g-', label = \"Testing Accuracies - NN\")\n",
    "\n",
    "# Logistic Regression plots\n",
    "plt.plot(acc_lr.accuracies, 'k-', label = \"Training Accuracies - LR\")\n",
    "plt.plot(acc_lr.test_accuracies, 'b-', label = \"Testing Accuracies - LR\")\n",
    "plt.legend()"
   ]
  },
  {
   "cell_type": "markdown",
   "id": "80dfb35c",
   "metadata": {
    "papermill": {
     "duration": 0.042019,
     "end_time": "2022-05-07T00:36:06.893863",
     "exception": false,
     "start_time": "2022-05-07T00:36:06.851844",
     "status": "completed"
    },
    "tags": []
   },
   "source": [
    "#### Plotting the outputs of this layer of the NN.\n"
   ]
  },
  {
   "cell_type": "code",
   "execution_count": 25,
   "id": "45eb2ff5",
   "metadata": {
    "execution": {
     "iopub.execute_input": "2022-05-07T00:36:06.983687Z",
     "iopub.status.busy": "2022-05-07T00:36:06.982957Z",
     "iopub.status.idle": "2022-05-07T00:36:07.002900Z",
     "shell.execute_reply": "2022-05-07T00:36:07.003329Z"
    },
    "papermill": {
     "duration": 0.067816,
     "end_time": "2022-05-07T00:36:07.003470",
     "exception": false,
     "start_time": "2022-05-07T00:36:06.935654",
     "status": "completed"
    },
    "tags": []
   },
   "outputs": [],
   "source": [
    "new_model = Model(layers[:-2])\n",
    "testing_plot = new_model(testing_data_x)"
   ]
  },
  {
   "cell_type": "code",
   "execution_count": 26,
   "id": "4c0a5485",
   "metadata": {
    "execution": {
     "iopub.execute_input": "2022-05-07T00:36:07.099888Z",
     "iopub.status.busy": "2022-05-07T00:36:07.099325Z",
     "iopub.status.idle": "2022-05-07T00:36:07.293590Z",
     "shell.execute_reply": "2022-05-07T00:36:07.293114Z"
    },
    "papermill": {
     "duration": 0.248243,
     "end_time": "2022-05-07T00:36:07.293712",
     "exception": false,
     "start_time": "2022-05-07T00:36:07.045469",
     "status": "completed"
    },
    "tags": []
   },
   "outputs": [
    {
     "data": {
      "text/plain": [
       "Text(0.5, 1.0, 'Outputs')"
      ]
     },
     "execution_count": 26,
     "metadata": {},
     "output_type": "execute_result"
    },
    {
     "data": {
      "image/png": "[encoded data removed]",
      "text/plain": [
       "<Figure size 576x504 with 1 Axes>"
      ]
     },
     "metadata": {
      "needs_background": "light"
     },
     "output_type": "display_data"
    }
   ],
   "source": [
    "# Plotting the scatter plot of points and color coding by class\n",
    "plt.figure(figsize=(8,7))\n",
    "plt.scatter(testing_plot[:,0], testing_plot[:,1], alpha = 0.1, c = y_test.ravel());\n",
    "plt.title('Outputs')"
   ]
  },
  {
   "cell_type": "markdown",
   "id": "a74fcf8f",
   "metadata": {
    "papermill": {
     "duration": 0.043757,
     "end_time": "2022-05-07T00:36:07.381517",
     "exception": false,
     "start_time": "2022-05-07T00:36:07.337760",
     "status": "completed"
    },
    "tags": []
   },
   "source": [
    "Probability contours"
   ]
  },
  {
   "cell_type": "code",
   "execution_count": 27,
   "id": "d0afc8e3",
   "metadata": {
    "execution": {
     "iopub.execute_input": "2022-05-07T00:36:07.486750Z",
     "iopub.status.busy": "2022-05-07T00:36:07.483177Z",
     "iopub.status.idle": "2022-05-07T00:36:07.488713Z",
     "shell.execute_reply": "2022-05-07T00:36:07.489106Z"
    },
    "papermill": {
     "duration": 0.062978,
     "end_time": "2022-05-07T00:36:07.489254",
     "exception": false,
     "start_time": "2022-05-07T00:36:07.426276",
     "status": "completed"
    },
    "tags": []
   },
   "outputs": [],
   "source": [
    "model_prob = Model(layers[-2:]) "
   ]
  },
  {
   "cell_type": "code",
   "execution_count": 28,
   "id": "9b96e238",
   "metadata": {
    "execution": {
     "iopub.execute_input": "2022-05-07T00:36:07.583836Z",
     "iopub.status.busy": "2022-05-07T00:36:07.583249Z",
     "iopub.status.idle": "2022-05-07T00:36:07.598639Z",
     "shell.execute_reply": "2022-05-07T00:36:07.599056Z"
    },
    "papermill": {
     "duration": 0.065129,
     "end_time": "2022-05-07T00:36:07.599207",
     "exception": false,
     "start_time": "2022-05-07T00:36:07.534078",
     "status": "completed"
    },
    "tags": []
   },
   "outputs": [],
   "source": [
    "#creating the x and y ranges according to the above generated plot.\n",
    "x_range = np.linspace(-4, 1, 100) \n",
    "y_range = np.linspace(-6, 6, 100) \n",
    "x_grid, y_grid = np.meshgrid(x_range, y_range) # x_grid and y_grig are of size 100 X 100\n",
    "\n",
    "# converting x_grid and y_grid to continuous arrays\n",
    "x_gridflat = np.ravel(x_grid)\n",
    "y_gridflat = np.ravel(y_grid)\n",
    "\n",
    "# The last layer of the current model takes two columns as input. Hence transpose of np.vstack() is required.\n",
    "X = np.vstack((x_gridflat, y_gridflat)).T\n",
    "\n",
    "prob_contour = model_prob(X).reshape(100,100) "
   ]
  },
  {
   "cell_type": "code",
   "execution_count": 29,
   "id": "da72499a",
   "metadata": {
    "execution": {
     "iopub.execute_input": "2022-05-07T00:36:07.728013Z",
     "iopub.status.busy": "2022-05-07T00:36:07.725967Z",
     "iopub.status.idle": "2022-05-07T00:36:07.976861Z",
     "shell.execute_reply": "2022-05-07T00:36:07.977274Z"
    },
    "papermill": {
     "duration": 0.301804,
     "end_time": "2022-05-07T00:36:07.977420",
     "exception": false,
     "start_time": "2022-05-07T00:36:07.675616",
     "status": "completed"
    },
    "tags": []
   },
   "outputs": [
    {
     "data": {
      "image/png": "[encoded data removed]",
      "text/plain": [
       "<Figure size 720x648 with 1 Axes>"
      ]
     },
     "metadata": {
      "needs_background": "light"
     },
     "output_type": "display_data"
    }
   ],
   "source": [
    "plt.figure(figsize=(10,9))\n",
    "plt.scatter(testing_plot[:,0], testing_plot[:,1], alpha = 0.1, c = y_test.ravel())\n",
    "contours = plt.contour(x_grid,y_grid,prob_contour)\n",
    "plt.title('Probability Contours')\n",
    "plt.clabel(contours, inline = True );"
   ]
  },
  {
   "cell_type": "code",
   "execution_count": null,
   "id": "e81b4ac7",
   "metadata": {
    "papermill": {
     "duration": 0.046642,
     "end_time": "2022-05-07T00:36:08.071151",
     "exception": false,
     "start_time": "2022-05-07T00:36:08.024509",
     "status": "completed"
    },
    "tags": []
   },
   "outputs": [],
   "source": []
  }
 ],
 "metadata": {
  "kernelspec": {
   "display_name": "Python 3",
   "language": "python",
   "name": "python3"
  },
  "language_info": {
   "codemirror_mode": {
    "name": "ipython",
    "version": 3
   },
   "file_extension": ".py",
   "mimetype": "text/x-python",
   "name": "python",
   "nbconvert_exporter": "python",
   "pygments_lexer": "ipython3",
   "version": "3.6.15"
  },
  "papermill": {
   "default_parameters": {},
   "duration": 109.400553,
   "end_time": "2022-05-07T00:36:08.536474",
   "environment_variables": {},
   "exception": null,
   "input_path": "2020-08-11-part2.ipynb",
   "output_path": "2020-08-11-part2.ipynb",
   "parameters": {},
   "start_time": "2022-05-07T00:34:19.135921",
   "version": "2.3.3"
  }
 },
 "nbformat": 4,
 "nbformat_minor": 5
}