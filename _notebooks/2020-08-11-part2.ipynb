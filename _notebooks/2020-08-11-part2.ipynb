{
 "cells": [
  {
   "cell_type": "markdown",
   "id": "98380cd3",
   "metadata": {
    "papermill": {
     "duration": 0.035294,
     "end_time": "2021-11-18T00:22:47.658963",
     "exception": false,
     "start_time": "2021-11-18T00:22:47.623669",
     "status": "completed"
    },
    "tags": []
   },
   "source": [
    "# Distinguish Your Own Digits (DYOD)"
   ]
  },
  {
   "cell_type": "markdown",
   "id": "ef31240d",
   "metadata": {
    "papermill": {
     "duration": 0.028121,
     "end_time": "2021-11-18T00:22:47.714537",
     "exception": false,
     "start_time": "2021-11-18T00:22:47.686416",
     "status": "completed"
    },
    "tags": []
   },
   "source": [
    "You are going to write a classifier that distinguishes between the number 3 and number 8."
   ]
  },
  {
   "cell_type": "code",
   "execution_count": 1,
   "id": "b15c8646",
   "metadata": {
    "execution": {
     "iopub.execute_input": "2021-11-18T00:22:47.778627Z",
     "iopub.status.busy": "2021-11-18T00:22:47.778050Z",
     "iopub.status.idle": "2021-11-18T00:22:47.789732Z",
     "shell.execute_reply": "2021-11-18T00:22:47.789191Z"
    },
    "papermill": {
     "duration": 0.049108,
     "end_time": "2021-11-18T00:22:47.789875",
     "exception": false,
     "start_time": "2021-11-18T00:22:47.740767",
     "status": "completed"
    },
    "tags": []
   },
   "outputs": [],
   "source": [
    "%load_ext autoreload\n",
    "%autoreload 2"
   ]
  },
  {
   "cell_type": "code",
   "execution_count": 2,
   "id": "22ef38dc",
   "metadata": {
    "execution": {
     "iopub.execute_input": "2021-11-18T00:22:47.847077Z",
     "iopub.status.busy": "2021-11-18T00:22:47.846495Z",
     "iopub.status.idle": "2021-11-18T00:22:48.431853Z",
     "shell.execute_reply": "2021-11-18T00:22:48.431284Z"
    },
    "papermill": {
     "duration": 0.615935,
     "end_time": "2021-11-18T00:22:48.431992",
     "exception": false,
     "start_time": "2021-11-18T00:22:47.816057",
     "status": "completed"
    },
    "tags": []
   },
   "outputs": [],
   "source": [
    "%matplotlib inline\n",
    "import numpy as np\n",
    "import matplotlib.pyplot as plt\n",
    "import pandas as pd"
   ]
  },
  {
   "cell_type": "markdown",
   "id": "ba036198",
   "metadata": {
    "papermill": {
     "duration": 0.026794,
     "end_time": "2021-11-18T00:22:48.485410",
     "exception": false,
     "start_time": "2021-11-18T00:22:48.458616",
     "status": "completed"
    },
    "tags": []
   },
   "source": [
    "From the command line run `pip install mnist`. This is a library that will help you bring down the mnist dataset. If you run this from a notebook, you need to put  `!pip install mnist` in a cell by itself."
   ]
  },
  {
   "cell_type": "code",
   "execution_count": 3,
   "id": "bb6ad8a1",
   "metadata": {
    "execution": {
     "iopub.execute_input": "2021-11-18T00:22:48.544238Z",
     "iopub.status.busy": "2021-11-18T00:22:48.543636Z",
     "iopub.status.idle": "2021-11-18T00:22:50.435810Z",
     "shell.execute_reply": "2021-11-18T00:22:50.434989Z"
    },
    "papermill": {
     "duration": 1.923391,
     "end_time": "2021-11-18T00:22:50.435945",
     "exception": false,
     "start_time": "2021-11-18T00:22:48.512554",
     "status": "completed"
    },
    "tags": []
   },
   "outputs": [
    {
     "name": "stdout",
     "output_type": "stream",
     "text": [
      "Collecting mnist\r\n"
     ]
    },
    {
     "name": "stdout",
     "output_type": "stream",
     "text": [
      "  Downloading mnist-0.2.2-py2.py3-none-any.whl (3.5 kB)\r\n",
      "Requirement already satisfied: numpy in /opt/hostedtoolcache/Python/3.6.15/x64/lib/python3.6/site-packages (from mnist) (1.19.5)\r\n"
     ]
    },
    {
     "name": "stdout",
     "output_type": "stream",
     "text": [
      "Installing collected packages: mnist\r\n"
     ]
    },
    {
     "name": "stdout",
     "output_type": "stream",
     "text": [
      "Successfully installed mnist-0.2.2\r\n"
     ]
    }
   ],
   "source": [
    "!pip install mnist"
   ]
  },
  {
   "cell_type": "markdown",
   "id": "69df9c9a",
   "metadata": {
    "papermill": {
     "duration": 0.028239,
     "end_time": "2021-11-18T00:22:50.492180",
     "exception": false,
     "start_time": "2021-11-18T00:22:50.463941",
     "status": "completed"
    },
    "tags": []
   },
   "source": [
    "## Preparing the Data"
   ]
  },
  {
   "cell_type": "code",
   "execution_count": 4,
   "id": "7f69d806",
   "metadata": {
    "execution": {
     "iopub.execute_input": "2021-11-18T00:22:50.551819Z",
     "iopub.status.busy": "2021-11-18T00:22:50.551222Z",
     "iopub.status.idle": "2021-11-18T00:22:50.568975Z",
     "shell.execute_reply": "2021-11-18T00:22:50.567829Z"
    },
    "papermill": {
     "duration": 0.049828,
     "end_time": "2021-11-18T00:22:50.569104",
     "exception": false,
     "start_time": "2021-11-18T00:22:50.519276",
     "status": "completed"
    },
    "tags": []
   },
   "outputs": [],
   "source": [
    "import mnist"
   ]
  },
  {
   "cell_type": "code",
   "execution_count": 5,
   "id": "a411e44f",
   "metadata": {
    "execution": {
     "iopub.execute_input": "2021-11-18T00:22:50.630434Z",
     "iopub.status.busy": "2021-11-18T00:22:50.629808Z",
     "iopub.status.idle": "2021-11-18T00:22:51.219874Z",
     "shell.execute_reply": "2021-11-18T00:22:51.220320Z"
    },
    "papermill": {
     "duration": 0.623087,
     "end_time": "2021-11-18T00:22:51.220478",
     "exception": false,
     "start_time": "2021-11-18T00:22:50.597391",
     "status": "completed"
    },
    "tags": []
   },
   "outputs": [],
   "source": [
    "train_images = mnist.train_images()\n",
    "train_labels = mnist.train_labels()"
   ]
  },
  {
   "cell_type": "code",
   "execution_count": 6,
   "id": "dceab3a5",
   "metadata": {
    "execution": {
     "iopub.execute_input": "2021-11-18T00:22:51.281171Z",
     "iopub.status.busy": "2021-11-18T00:22:51.280566Z",
     "iopub.status.idle": "2021-11-18T00:22:51.297780Z",
     "shell.execute_reply": "2021-11-18T00:22:51.297255Z"
    },
    "papermill": {
     "duration": 0.04963,
     "end_time": "2021-11-18T00:22:51.297915",
     "exception": false,
     "start_time": "2021-11-18T00:22:51.248285",
     "status": "completed"
    },
    "tags": []
   },
   "outputs": [
    {
     "data": {
      "text/plain": [
       "((60000, 28, 28), (60000,))"
      ]
     },
     "execution_count": 6,
     "metadata": {},
     "output_type": "execute_result"
    }
   ],
   "source": [
    "train_images.shape, train_labels.shape"
   ]
  },
  {
   "cell_type": "code",
   "execution_count": 7,
   "id": "f50dc2bb",
   "metadata": {
    "execution": {
     "iopub.execute_input": "2021-11-18T00:22:51.358251Z",
     "iopub.status.busy": "2021-11-18T00:22:51.357692Z",
     "iopub.status.idle": "2021-11-18T00:22:51.514400Z",
     "shell.execute_reply": "2021-11-18T00:22:51.513448Z"
    },
    "papermill": {
     "duration": 0.188785,
     "end_time": "2021-11-18T00:22:51.514627",
     "exception": false,
     "start_time": "2021-11-18T00:22:51.325842",
     "status": "completed"
    },
    "tags": []
   },
   "outputs": [],
   "source": [
    "test_images = mnist.test_images()\n",
    "test_labels = mnist.test_labels()"
   ]
  },
  {
   "cell_type": "code",
   "execution_count": 8,
   "id": "fc38cf1b",
   "metadata": {
    "execution": {
     "iopub.execute_input": "2021-11-18T00:22:51.576174Z",
     "iopub.status.busy": "2021-11-18T00:22:51.575555Z",
     "iopub.status.idle": "2021-11-18T00:22:51.590415Z",
     "shell.execute_reply": "2021-11-18T00:22:51.589902Z"
    },
    "papermill": {
     "duration": 0.047576,
     "end_time": "2021-11-18T00:22:51.590543",
     "exception": false,
     "start_time": "2021-11-18T00:22:51.542967",
     "status": "completed"
    },
    "tags": []
   },
   "outputs": [
    {
     "data": {
      "text/plain": [
       "((10000, 28, 28), (10000,))"
      ]
     },
     "execution_count": 8,
     "metadata": {},
     "output_type": "execute_result"
    }
   ],
   "source": [
    "test_images.shape, test_labels.shape"
   ]
  },
  {
   "cell_type": "code",
   "execution_count": 9,
   "id": "f9ed8fe0",
   "metadata": {
    "execution": {
     "iopub.execute_input": "2021-11-18T00:22:51.651555Z",
     "iopub.status.busy": "2021-11-18T00:22:51.650960Z",
     "iopub.status.idle": "2021-11-18T00:22:51.812821Z",
     "shell.execute_reply": "2021-11-18T00:22:51.813282Z"
    },
    "papermill": {
     "duration": 0.194651,
     "end_time": "2021-11-18T00:22:51.813444",
     "exception": false,
     "start_time": "2021-11-18T00:22:51.618793",
     "status": "completed"
    },
    "tags": []
   },
   "outputs": [
    {
     "name": "stdout",
     "output_type": "stream",
     "text": [
      "2\n"
     ]
    },
    {
     "data": {
      "text/plain": [
       "<matplotlib.image.AxesImage at 0x7fe989dcba20>"
      ]
     },
     "execution_count": 9,
     "metadata": {},
     "output_type": "execute_result"
    },
    {
     "data": {
      "image/png": "[encoded data removed]",
      "text/plain": [
       "<Figure size 432x288 with 1 Axes>"
      ]
     },
     "metadata": {
      "needs_background": "light"
     },
     "output_type": "display_data"
    }
   ],
   "source": [
    "image_index = 7776 # You may select anything up to 60,000\n",
    "print(train_labels[image_index]) \n",
    "plt.imshow(train_images[image_index], cmap='Greys')"
   ]
  },
  {
   "cell_type": "markdown",
   "id": "a8d2388d",
   "metadata": {
    "papermill": {
     "duration": 0.030996,
     "end_time": "2021-11-18T00:22:51.874534",
     "exception": false,
     "start_time": "2021-11-18T00:22:51.843538",
     "status": "completed"
    },
    "tags": []
   },
   "source": [
    "## Filter data to get 3 and 8 out"
   ]
  },
  {
   "cell_type": "code",
   "execution_count": 10,
   "id": "776f7fc7",
   "metadata": {
    "execution": {
     "iopub.execute_input": "2021-11-18T00:22:51.939355Z",
     "iopub.status.busy": "2021-11-18T00:22:51.938729Z",
     "iopub.status.idle": "2021-11-18T00:22:51.960344Z",
     "shell.execute_reply": "2021-11-18T00:22:51.959637Z"
    },
    "papermill": {
     "duration": 0.055717,
     "end_time": "2021-11-18T00:22:51.960528",
     "exception": false,
     "start_time": "2021-11-18T00:22:51.904811",
     "status": "completed"
    },
    "tags": []
   },
   "outputs": [],
   "source": [
    "train_filter = np.where((train_labels == 3 ) | (train_labels == 8))\n",
    "test_filter = np.where((test_labels == 3) | (test_labels == 8))\n",
    "X_train, y_train = train_images[train_filter], train_labels[train_filter]\n",
    "X_test, y_test = test_images[test_filter], test_labels[test_filter]"
   ]
  },
  {
   "cell_type": "markdown",
   "id": "948f0b7e",
   "metadata": {
    "papermill": {
     "duration": 0.031542,
     "end_time": "2021-11-18T00:22:52.026428",
     "exception": false,
     "start_time": "2021-11-18T00:22:51.994886",
     "status": "completed"
    },
    "tags": []
   },
   "source": [
    "We normalize the pizel values in the 0 to 1 range"
   ]
  },
  {
   "cell_type": "code",
   "execution_count": 11,
   "id": "ee4c2166",
   "metadata": {
    "execution": {
     "iopub.execute_input": "2021-11-18T00:22:52.096305Z",
     "iopub.status.busy": "2021-11-18T00:22:52.095758Z",
     "iopub.status.idle": "2021-11-18T00:22:52.150064Z",
     "shell.execute_reply": "2021-11-18T00:22:52.149460Z"
    },
    "papermill": {
     "duration": 0.093004,
     "end_time": "2021-11-18T00:22:52.150215",
     "exception": false,
     "start_time": "2021-11-18T00:22:52.057211",
     "status": "completed"
    },
    "tags": []
   },
   "outputs": [],
   "source": [
    "X_train = X_train/255.\n",
    "X_test = X_test/255."
   ]
  },
  {
   "cell_type": "markdown",
   "id": "ddcf4fab",
   "metadata": {
    "papermill": {
     "duration": 0.031573,
     "end_time": "2021-11-18T00:22:52.215070",
     "exception": false,
     "start_time": "2021-11-18T00:22:52.183497",
     "status": "completed"
    },
    "tags": []
   },
   "source": [
    "And setup the labels as 1 (when the digit is 3) and 0 (when the digit is 8)"
   ]
  },
  {
   "cell_type": "code",
   "execution_count": 12,
   "id": "7dc908f2",
   "metadata": {
    "execution": {
     "iopub.execute_input": "2021-11-18T00:22:52.281549Z",
     "iopub.status.busy": "2021-11-18T00:22:52.280880Z",
     "iopub.status.idle": "2021-11-18T00:22:52.298856Z",
     "shell.execute_reply": "2021-11-18T00:22:52.298331Z"
    },
    "papermill": {
     "duration": 0.054029,
     "end_time": "2021-11-18T00:22:52.298988",
     "exception": false,
     "start_time": "2021-11-18T00:22:52.244959",
     "status": "completed"
    },
    "tags": []
   },
   "outputs": [],
   "source": [
    "y_train = 1*(y_train==3)\n",
    "y_test = 1*(y_test==3)"
   ]
  },
  {
   "cell_type": "code",
   "execution_count": 13,
   "id": "01e4e969",
   "metadata": {
    "execution": {
     "iopub.execute_input": "2021-11-18T00:22:52.366083Z",
     "iopub.status.busy": "2021-11-18T00:22:52.365450Z",
     "iopub.status.idle": "2021-11-18T00:22:52.382685Z",
     "shell.execute_reply": "2021-11-18T00:22:52.382193Z"
    },
    "papermill": {
     "duration": 0.053805,
     "end_time": "2021-11-18T00:22:52.382812",
     "exception": false,
     "start_time": "2021-11-18T00:22:52.329007",
     "status": "completed"
    },
    "tags": []
   },
   "outputs": [
    {
     "data": {
      "text/plain": [
       "((11982, 28, 28), (1984, 28, 28))"
      ]
     },
     "execution_count": 13,
     "metadata": {},
     "output_type": "execute_result"
    }
   ],
   "source": [
    "X_train.shape, X_test.shape"
   ]
  },
  {
   "cell_type": "markdown",
   "id": "5ccf3f85",
   "metadata": {
    "papermill": {
     "duration": 0.030996,
     "end_time": "2021-11-18T00:22:52.444310",
     "exception": false,
     "start_time": "2021-11-18T00:22:52.413314",
     "status": "completed"
    },
    "tags": []
   },
   "source": [
    "We reshape the data to flatten the image pixels into a set of features or co-variates:"
   ]
  },
  {
   "cell_type": "code",
   "execution_count": 14,
   "id": "5286a4a3",
   "metadata": {
    "execution": {
     "iopub.execute_input": "2021-11-18T00:22:52.512176Z",
     "iopub.status.busy": "2021-11-18T00:22:52.511546Z",
     "iopub.status.idle": "2021-11-18T00:22:52.527348Z",
     "shell.execute_reply": "2021-11-18T00:22:52.527995Z"
    },
    "papermill": {
     "duration": 0.052445,
     "end_time": "2021-11-18T00:22:52.528197",
     "exception": false,
     "start_time": "2021-11-18T00:22:52.475752",
     "status": "completed"
    },
    "tags": []
   },
   "outputs": [
    {
     "data": {
      "text/plain": [
       "((11982, 784), (1984, 784))"
      ]
     },
     "execution_count": 14,
     "metadata": {},
     "output_type": "execute_result"
    }
   ],
   "source": [
    "X_train = X_train.reshape(X_train.shape[0], -1)\n",
    "X_test = X_test.reshape(X_test.shape[0], -1)\n",
    "X_train.shape, X_test.shape"
   ]
  },
  {
   "cell_type": "code",
   "execution_count": 15,
   "id": "73c5f88a",
   "metadata": {
    "execution": {
     "iopub.execute_input": "2021-11-18T00:22:52.595958Z",
     "iopub.status.busy": "2021-11-18T00:22:52.595399Z",
     "iopub.status.idle": "2021-11-18T00:22:52.615012Z",
     "shell.execute_reply": "2021-11-18T00:22:52.615457Z"
    },
    "papermill": {
     "duration": 0.055413,
     "end_time": "2021-11-18T00:22:52.615607",
     "exception": false,
     "start_time": "2021-11-18T00:22:52.560194",
     "status": "completed"
    },
    "tags": []
   },
   "outputs": [],
   "source": [
    "#Impoting functions from 'Kudzu'\n",
    "from kudzu.model import Model\n",
    "from kudzu.train import Learner\n",
    "from kudzu.optim import GD\n",
    "from kudzu.data import Data, Sampler,Dataloader\n",
    "\n",
    "from kudzu.callbacks import AccCallback\n",
    "from kudzu.callbacks import ClfCallback\n",
    "\n",
    "from kudzu.loss import MSE\n",
    "\n",
    "from kudzu.layer import Sigmoid,Relu\n",
    "from kudzu.layer import Affine"
   ]
  },
  {
   "cell_type": "markdown",
   "id": "bc01172a",
   "metadata": {
    "papermill": {
     "duration": 0.030248,
     "end_time": "2021-11-18T00:22:52.676185",
     "exception": false,
     "start_time": "2021-11-18T00:22:52.645937",
     "status": "completed"
    },
    "tags": []
   },
   "source": [
    "### Let us create a `Config` class, to store important parameters. \n",
    "This class essentially plays the role of a dictionary."
   ]
  },
  {
   "cell_type": "code",
   "execution_count": 16,
   "id": "978281aa",
   "metadata": {
    "execution": {
     "iopub.execute_input": "2021-11-18T00:22:52.739837Z",
     "iopub.status.busy": "2021-11-18T00:22:52.739273Z",
     "iopub.status.idle": "2021-11-18T00:22:52.755400Z",
     "shell.execute_reply": "2021-11-18T00:22:52.754952Z"
    },
    "papermill": {
     "duration": 0.049933,
     "end_time": "2021-11-18T00:22:52.755522",
     "exception": false,
     "start_time": "2021-11-18T00:22:52.705589",
     "status": "completed"
    },
    "tags": []
   },
   "outputs": [],
   "source": [
    "class Config:\n",
    "    pass\n",
    "config = Config()\n",
    "config.lr = 0.001\n",
    "config.num_epochs = 250\n",
    "config.bs = 50"
   ]
  },
  {
   "cell_type": "markdown",
   "id": "1385fa59",
   "metadata": {
    "papermill": {
     "duration": 0.02987,
     "end_time": "2021-11-18T00:22:52.815157",
     "exception": false,
     "start_time": "2021-11-18T00:22:52.785287",
     "status": "completed"
    },
    "tags": []
   },
   "source": [
    "### Running Models with the Training data\n",
    "Details about the network layers:\n",
    "- A first affine layer has 784 inputs and does 100 affine transforms. These are followed by a Relu\n",
    "- A second affine layer has 100 inputs from the 100 activations of the past layer, and does 100 affine transforms. These are followed by a Relu\n",
    "- A third affine layer has 100 activations and does 2 affine transformations to create an embedding for visualization. There is no non-linearity here.\n",
    "- A final \"logistic regression\" which has an affine transform from 2 inputs to 1 output, which is squeezed through a sigmoid.\n"
   ]
  },
  {
   "cell_type": "code",
   "execution_count": 17,
   "id": "2b9c66db",
   "metadata": {
    "execution": {
     "iopub.execute_input": "2021-11-18T00:22:52.880163Z",
     "iopub.status.busy": "2021-11-18T00:22:52.879557Z",
     "iopub.status.idle": "2021-11-18T00:22:52.892932Z",
     "shell.execute_reply": "2021-11-18T00:22:52.892405Z"
    },
    "papermill": {
     "duration": 0.048993,
     "end_time": "2021-11-18T00:22:52.893061",
     "exception": false,
     "start_time": "2021-11-18T00:22:52.844068",
     "status": "completed"
    },
    "tags": []
   },
   "outputs": [],
   "source": [
    "data = Data(X_train, y_train.reshape(-1,1))\n",
    "sampler = Sampler(data, config.bs, shuffle=True)\n",
    "\n",
    "dl = Dataloader(data, sampler)\n",
    "\n",
    "opt = GD(config.lr)\n",
    "loss = MSE()"
   ]
  },
  {
   "cell_type": "code",
   "execution_count": 18,
   "id": "b275e4c2",
   "metadata": {
    "execution": {
     "iopub.execute_input": "2021-11-18T00:22:52.958275Z",
     "iopub.status.busy": "2021-11-18T00:22:52.957657Z",
     "iopub.status.idle": "2021-11-18T00:22:52.971945Z",
     "shell.execute_reply": "2021-11-18T00:22:52.971436Z"
    },
    "papermill": {
     "duration": 0.048795,
     "end_time": "2021-11-18T00:22:52.972072",
     "exception": false,
     "start_time": "2021-11-18T00:22:52.923277",
     "status": "completed"
    },
    "tags": []
   },
   "outputs": [],
   "source": [
    "training_data_x = X_train\n",
    "testing_data_x = X_test\n",
    "training_data_y = y_train.reshape(-1,1)\n",
    "testing_data_y = y_test.reshape(-1,1)"
   ]
  },
  {
   "cell_type": "code",
   "execution_count": 19,
   "id": "76951160",
   "metadata": {
    "execution": {
     "iopub.execute_input": "2021-11-18T00:22:53.039922Z",
     "iopub.status.busy": "2021-11-18T00:22:53.039309Z",
     "iopub.status.idle": "2021-11-18T00:22:53.057607Z",
     "shell.execute_reply": "2021-11-18T00:22:53.057088Z"
    },
    "papermill": {
     "duration": 0.055772,
     "end_time": "2021-11-18T00:22:53.057745",
     "exception": false,
     "start_time": "2021-11-18T00:22:53.001973",
     "status": "completed"
    },
    "tags": []
   },
   "outputs": [
    {
     "name": "stdout",
     "output_type": "stream",
     "text": [
      "xavier\n",
      "xavier\n",
      "xavier\n",
      "xavier\n",
      "xavier\n"
     ]
    }
   ],
   "source": [
    "layers = [Affine(\"first\", 784, 100), Relu(\"first\"), Affine(\"second\", 100, 100), Relu(\"second\"), Affine(\"third\", 100, 2), Affine(\"last\", 2, 1), Sigmoid(\"last\")]\n",
    "model_nn = Model(layers)\n",
    "model_lr = Model([Affine(\"logits\", 784, 1), Sigmoid(\"sigmoid\")])"
   ]
  },
  {
   "cell_type": "code",
   "execution_count": 20,
   "id": "6eede77a",
   "metadata": {
    "execution": {
     "iopub.execute_input": "2021-11-18T00:22:53.123241Z",
     "iopub.status.busy": "2021-11-18T00:22:53.122664Z",
     "iopub.status.idle": "2021-11-18T00:22:53.135933Z",
     "shell.execute_reply": "2021-11-18T00:22:53.136429Z"
    },
    "papermill": {
     "duration": 0.047912,
     "end_time": "2021-11-18T00:22:53.136576",
     "exception": false,
     "start_time": "2021-11-18T00:22:53.088664",
     "status": "completed"
    },
    "tags": []
   },
   "outputs": [],
   "source": [
    "nn_learner = Learner(loss, model_nn, opt, config.num_epochs)\n",
    "acc_nn = ClfCallback(nn_learner, config.bs, training_data_x , testing_data_x, training_data_y, testing_data_y)\n",
    "nn_learner.set_callbacks([acc_nn])"
   ]
  },
  {
   "cell_type": "code",
   "execution_count": 21,
   "id": "877b6cc7",
   "metadata": {
    "execution": {
     "iopub.execute_input": "2021-11-18T00:22:53.202535Z",
     "iopub.status.busy": "2021-11-18T00:22:53.201898Z",
     "iopub.status.idle": "2021-11-18T00:22:53.216090Z",
     "shell.execute_reply": "2021-11-18T00:22:53.215567Z"
    },
    "papermill": {
     "duration": 0.049685,
     "end_time": "2021-11-18T00:22:53.216218",
     "exception": false,
     "start_time": "2021-11-18T00:22:53.166533",
     "status": "completed"
    },
    "tags": []
   },
   "outputs": [],
   "source": [
    "lr_learner = Learner(loss, model_lr, opt, config.num_epochs)\n",
    "acc_lr = ClfCallback(lr_learner, config.bs, training_data_x , testing_data_x, training_data_y, testing_data_y)\n",
    "lr_learner.set_callbacks([acc_lr])"
   ]
  },
  {
   "cell_type": "code",
   "execution_count": 22,
   "id": "d9b133c3",
   "metadata": {
    "execution": {
     "iopub.execute_input": "2021-11-18T00:22:53.281799Z",
     "iopub.status.busy": "2021-11-18T00:22:53.281175Z",
     "iopub.status.idle": "2021-11-18T00:24:20.392599Z",
     "shell.execute_reply": "2021-11-18T00:24:20.393458Z"
    },
    "papermill": {
     "duration": 87.146793,
     "end_time": "2021-11-18T00:24:20.393650",
     "exception": false,
     "start_time": "2021-11-18T00:22:53.246857",
     "status": "completed"
    },
    "tags": []
   },
   "outputs": [
    {
     "name": "stdout",
     "output_type": "stream",
     "text": [
      "Epoch 0, Loss 0.2545\n",
      "Training Accuracy: 0.5731, Testing Accuracy: 0.5454\n",
      "\n"
     ]
    },
    {
     "name": "stdout",
     "output_type": "stream",
     "text": [
      "Epoch 10, Loss 0.107\n",
      "Training Accuracy: 0.9075, Testing Accuracy: 0.9108\n",
      "\n"
     ]
    },
    {
     "name": "stdout",
     "output_type": "stream",
     "text": [
      "Epoch 20, Loss 0.0622\n",
      "Training Accuracy: 0.9352, Testing Accuracy: 0.9466\n",
      "\n"
     ]
    },
    {
     "name": "stdout",
     "output_type": "stream",
     "text": [
      "Epoch 30, Loss 0.0474\n",
      "Training Accuracy: 0.9491, Testing Accuracy: 0.9602\n",
      "\n"
     ]
    },
    {
     "name": "stdout",
     "output_type": "stream",
     "text": [
      "Epoch 40, Loss 0.0404\n",
      "Training Accuracy: 0.9553, Testing Accuracy: 0.9667\n",
      "\n"
     ]
    },
    {
     "name": "stdout",
     "output_type": "stream",
     "text": [
      "Epoch 50, Loss 0.0362\n",
      "Training Accuracy: 0.9596, Testing Accuracy: 0.9688\n",
      "\n"
     ]
    },
    {
     "name": "stdout",
     "output_type": "stream",
     "text": [
      "Epoch 60, Loss 0.0334\n",
      "Training Accuracy: 0.9623, Testing Accuracy: 0.9713\n",
      "\n"
     ]
    },
    {
     "name": "stdout",
     "output_type": "stream",
     "text": [
      "Epoch 70, Loss 0.0313\n",
      "Training Accuracy: 0.9644, Testing Accuracy: 0.9718\n",
      "\n"
     ]
    },
    {
     "name": "stdout",
     "output_type": "stream",
     "text": [
      "Epoch 80, Loss 0.0297\n",
      "Training Accuracy: 0.9661, Testing Accuracy: 0.9718\n",
      "\n"
     ]
    },
    {
     "name": "stdout",
     "output_type": "stream",
     "text": [
      "Epoch 90, Loss 0.0284\n",
      "Training Accuracy: 0.9675, Testing Accuracy: 0.9718\n",
      "\n"
     ]
    },
    {
     "name": "stdout",
     "output_type": "stream",
     "text": [
      "Epoch 100, Loss 0.0273\n",
      "Training Accuracy: 0.9684, Testing Accuracy: 0.9708\n",
      "\n"
     ]
    },
    {
     "name": "stdout",
     "output_type": "stream",
     "text": [
      "Epoch 110, Loss 0.0264\n",
      "Training Accuracy: 0.9695, Testing Accuracy: 0.9703\n",
      "\n"
     ]
    },
    {
     "name": "stdout",
     "output_type": "stream",
     "text": [
      "Epoch 120, Loss 0.0255\n",
      "Training Accuracy: 0.9708, Testing Accuracy: 0.9703\n",
      "\n"
     ]
    },
    {
     "name": "stdout",
     "output_type": "stream",
     "text": [
      "Epoch 130, Loss 0.0247\n",
      "Training Accuracy: 0.9720, Testing Accuracy: 0.9703\n",
      "\n"
     ]
    },
    {
     "name": "stdout",
     "output_type": "stream",
     "text": [
      "Epoch 140, Loss 0.024\n",
      "Training Accuracy: 0.9727, Testing Accuracy: 0.9703\n",
      "\n"
     ]
    },
    {
     "name": "stdout",
     "output_type": "stream",
     "text": [
      "Epoch 150, Loss 0.0234\n",
      "Training Accuracy: 0.9736, Testing Accuracy: 0.9698\n",
      "\n"
     ]
    },
    {
     "name": "stdout",
     "output_type": "stream",
     "text": [
      "Epoch 160, Loss 0.0228\n",
      "Training Accuracy: 0.9741, Testing Accuracy: 0.9703\n",
      "\n"
     ]
    },
    {
     "name": "stdout",
     "output_type": "stream",
     "text": [
      "Epoch 170, Loss 0.0223\n",
      "Training Accuracy: 0.9747, Testing Accuracy: 0.9713\n",
      "\n"
     ]
    },
    {
     "name": "stdout",
     "output_type": "stream",
     "text": [
      "Epoch 180, Loss 0.0217\n",
      "Training Accuracy: 0.9748, Testing Accuracy: 0.9718\n",
      "\n"
     ]
    },
    {
     "name": "stdout",
     "output_type": "stream",
     "text": [
      "Epoch 190, Loss 0.0212\n",
      "Training Accuracy: 0.9755, Testing Accuracy: 0.9713\n",
      "\n"
     ]
    },
    {
     "name": "stdout",
     "output_type": "stream",
     "text": [
      "Epoch 200, Loss 0.0208\n",
      "Training Accuracy: 0.9765, Testing Accuracy: 0.9733\n",
      "\n"
     ]
    },
    {
     "name": "stdout",
     "output_type": "stream",
     "text": [
      "Epoch 210, Loss 0.0203\n",
      "Training Accuracy: 0.9771, Testing Accuracy: 0.9733\n",
      "\n"
     ]
    },
    {
     "name": "stdout",
     "output_type": "stream",
     "text": [
      "Epoch 220, Loss 0.0199\n",
      "Training Accuracy: 0.9774, Testing Accuracy: 0.9738\n",
      "\n"
     ]
    },
    {
     "name": "stdout",
     "output_type": "stream",
     "text": [
      "Epoch 230, Loss 0.0194\n",
      "Training Accuracy: 0.9780, Testing Accuracy: 0.9738\n",
      "\n"
     ]
    },
    {
     "name": "stdout",
     "output_type": "stream",
     "text": [
      "Epoch 240, Loss 0.019\n",
      "Training Accuracy: 0.9786, Testing Accuracy: 0.9743\n",
      "\n"
     ]
    },
    {
     "data": {
      "text/plain": [
       "0.007952391942183844"
      ]
     },
     "execution_count": 22,
     "metadata": {},
     "output_type": "execute_result"
    }
   ],
   "source": [
    "nn_learner.train_loop(dl)"
   ]
  },
  {
   "cell_type": "code",
   "execution_count": 23,
   "id": "e0163366",
   "metadata": {
    "execution": {
     "iopub.execute_input": "2021-11-18T00:24:20.483040Z",
     "iopub.status.busy": "2021-11-18T00:24:20.482446Z",
     "iopub.status.idle": "2021-11-18T00:24:35.957369Z",
     "shell.execute_reply": "2021-11-18T00:24:35.958217Z"
    },
    "papermill": {
     "duration": 15.525784,
     "end_time": "2021-11-18T00:24:35.958378",
     "exception": false,
     "start_time": "2021-11-18T00:24:20.432594",
     "status": "completed"
    },
    "tags": []
   },
   "outputs": [
    {
     "name": "stdout",
     "output_type": "stream",
     "text": [
      "Epoch 0, Loss 0.2837\n",
      "Training Accuracy: 0.4859, Testing Accuracy: 0.5131\n",
      "\n"
     ]
    },
    {
     "name": "stdout",
     "output_type": "stream",
     "text": [
      "Epoch 10, Loss 0.1061\n",
      "Training Accuracy: 0.9100, Testing Accuracy: 0.9239\n",
      "\n"
     ]
    },
    {
     "name": "stdout",
     "output_type": "stream",
     "text": [
      "Epoch 20, Loss 0.08\n",
      "Training Accuracy: 0.9276, Testing Accuracy: 0.9425\n",
      "\n"
     ]
    },
    {
     "name": "stdout",
     "output_type": "stream",
     "text": [
      "Epoch 30, Loss 0.0684\n",
      "Training Accuracy: 0.9357, Testing Accuracy: 0.9481\n",
      "\n"
     ]
    },
    {
     "name": "stdout",
     "output_type": "stream",
     "text": [
      "Epoch 40, Loss 0.0616\n",
      "Training Accuracy: 0.9409, Testing Accuracy: 0.9526\n",
      "\n"
     ]
    },
    {
     "name": "stdout",
     "output_type": "stream",
     "text": [
      "Epoch 50, Loss 0.057\n",
      "Training Accuracy: 0.9451, Testing Accuracy: 0.9556\n",
      "\n"
     ]
    },
    {
     "name": "stdout",
     "output_type": "stream",
     "text": [
      "Epoch 60, Loss 0.0536\n",
      "Training Accuracy: 0.9479, Testing Accuracy: 0.9592\n",
      "\n"
     ]
    },
    {
     "name": "stdout",
     "output_type": "stream",
     "text": [
      "Epoch 70, Loss 0.051\n",
      "Training Accuracy: 0.9490, Testing Accuracy: 0.9597\n",
      "\n"
     ]
    },
    {
     "name": "stdout",
     "output_type": "stream",
     "text": [
      "Epoch 80, Loss 0.049\n",
      "Training Accuracy: 0.9510, Testing Accuracy: 0.9597\n",
      "\n"
     ]
    },
    {
     "name": "stdout",
     "output_type": "stream",
     "text": [
      "Epoch 90, Loss 0.0473\n",
      "Training Accuracy: 0.9527, Testing Accuracy: 0.9622\n",
      "\n"
     ]
    },
    {
     "name": "stdout",
     "output_type": "stream",
     "text": [
      "Epoch 100, Loss 0.0459\n",
      "Training Accuracy: 0.9534, Testing Accuracy: 0.9642\n",
      "\n"
     ]
    },
    {
     "name": "stdout",
     "output_type": "stream",
     "text": [
      "Epoch 110, Loss 0.0446\n",
      "Training Accuracy: 0.9543, Testing Accuracy: 0.9647\n",
      "\n"
     ]
    },
    {
     "name": "stdout",
     "output_type": "stream",
     "text": [
      "Epoch 120, Loss 0.0436\n",
      "Training Accuracy: 0.9553, Testing Accuracy: 0.9647\n",
      "\n"
     ]
    },
    {
     "name": "stdout",
     "output_type": "stream",
     "text": [
      "Epoch 130, Loss 0.0427\n",
      "Training Accuracy: 0.9559, Testing Accuracy: 0.9652\n",
      "\n"
     ]
    },
    {
     "name": "stdout",
     "output_type": "stream",
     "text": [
      "Epoch 140, Loss 0.0418\n",
      "Training Accuracy: 0.9566, Testing Accuracy: 0.9652\n",
      "\n"
     ]
    },
    {
     "name": "stdout",
     "output_type": "stream",
     "text": [
      "Epoch 150, Loss 0.0411\n",
      "Training Accuracy: 0.9574, Testing Accuracy: 0.9647\n",
      "\n"
     ]
    },
    {
     "name": "stdout",
     "output_type": "stream",
     "text": [
      "Epoch 160, Loss 0.0404\n",
      "Training Accuracy: 0.9579, Testing Accuracy: 0.9652\n",
      "\n"
     ]
    },
    {
     "name": "stdout",
     "output_type": "stream",
     "text": [
      "Epoch 170, Loss 0.0398\n",
      "Training Accuracy: 0.9582, Testing Accuracy: 0.9652\n",
      "\n"
     ]
    },
    {
     "name": "stdout",
     "output_type": "stream",
     "text": [
      "Epoch 180, Loss 0.0393\n",
      "Training Accuracy: 0.9586, Testing Accuracy: 0.9662\n",
      "\n"
     ]
    },
    {
     "name": "stdout",
     "output_type": "stream",
     "text": [
      "Epoch 190, Loss 0.0388\n",
      "Training Accuracy: 0.9589, Testing Accuracy: 0.9662\n",
      "\n"
     ]
    },
    {
     "name": "stdout",
     "output_type": "stream",
     "text": [
      "Epoch 200, Loss 0.0383\n",
      "Training Accuracy: 0.9592, Testing Accuracy: 0.9667\n",
      "\n"
     ]
    },
    {
     "name": "stdout",
     "output_type": "stream",
     "text": [
      "Epoch 210, Loss 0.0379\n",
      "Training Accuracy: 0.9595, Testing Accuracy: 0.9667\n",
      "\n"
     ]
    },
    {
     "name": "stdout",
     "output_type": "stream",
     "text": [
      "Epoch 220, Loss 0.0375\n",
      "Training Accuracy: 0.9599, Testing Accuracy: 0.9667\n",
      "\n"
     ]
    },
    {
     "name": "stdout",
     "output_type": "stream",
     "text": [
      "Epoch 230, Loss 0.0371\n",
      "Training Accuracy: 0.9600, Testing Accuracy: 0.9672\n",
      "\n"
     ]
    },
    {
     "name": "stdout",
     "output_type": "stream",
     "text": [
      "Epoch 240, Loss 0.0367\n",
      "Training Accuracy: 0.9606, Testing Accuracy: 0.9672\n",
      "\n"
     ]
    },
    {
     "data": {
      "text/plain": [
       "0.043912592219680656"
      ]
     },
     "execution_count": 23,
     "metadata": {},
     "output_type": "execute_result"
    }
   ],
   "source": [
    "lr_learner.train_loop(dl)"
   ]
  },
  {
   "cell_type": "code",
   "execution_count": 24,
   "id": "ca410940",
   "metadata": {
    "execution": {
     "iopub.execute_input": "2021-11-18T00:24:36.059659Z",
     "iopub.status.busy": "2021-11-18T00:24:36.059035Z",
     "iopub.status.idle": "2021-11-18T00:24:36.317310Z",
     "shell.execute_reply": "2021-11-18T00:24:36.316269Z"
    },
    "papermill": {
     "duration": 0.314014,
     "end_time": "2021-11-18T00:24:36.317449",
     "exception": false,
     "start_time": "2021-11-18T00:24:36.003435",
     "status": "completed"
    },
    "tags": []
   },
   "outputs": [
    {
     "data": {
      "text/plain": [
       "<matplotlib.legend.Legend at 0x7fe98992cef0>"
      ]
     },
     "execution_count": 24,
     "metadata": {},
     "output_type": "execute_result"
    },
    {
     "data": {
      "image/png": "[encoded data removed]",
      "text/plain": [
       "<Figure size 1080x720 with 1 Axes>"
      ]
     },
     "metadata": {
      "needs_background": "light"
     },
     "output_type": "display_data"
    }
   ],
   "source": [
    "#comparing the results of NN and LR\n",
    "plt.figure(figsize=(15,10))\n",
    "\n",
    "# Neural Network plots\n",
    "plt.plot(acc_nn.accuracies, 'r-', label = \"Training Accuracies - NN\")\n",
    "plt.plot(acc_nn.test_accuracies, 'g-', label = \"Testing Accuracies - NN\")\n",
    "\n",
    "# Logistic Regression plots\n",
    "plt.plot(acc_lr.accuracies, 'k-', label = \"Training Accuracies - LR\")\n",
    "plt.plot(acc_lr.test_accuracies, 'b-', label = \"Testing Accuracies - LR\")\n",
    "plt.legend()"
   ]
  },
  {
   "cell_type": "markdown",
   "id": "80dfb35c",
   "metadata": {
    "papermill": {
     "duration": 0.047871,
     "end_time": "2021-11-18T00:24:36.412697",
     "exception": false,
     "start_time": "2021-11-18T00:24:36.364826",
     "status": "completed"
    },
    "tags": []
   },
   "source": [
    "#### Plotting the outputs of this layer of the NN.\n"
   ]
  },
  {
   "cell_type": "code",
   "execution_count": 25,
   "id": "45eb2ff5",
   "metadata": {
    "execution": {
     "iopub.execute_input": "2021-11-18T00:24:36.515674Z",
     "iopub.status.busy": "2021-11-18T00:24:36.514532Z",
     "iopub.status.idle": "2021-11-18T00:24:36.533383Z",
     "shell.execute_reply": "2021-11-18T00:24:36.534233Z"
    },
    "papermill": {
     "duration": 0.074707,
     "end_time": "2021-11-18T00:24:36.534387",
     "exception": false,
     "start_time": "2021-11-18T00:24:36.459680",
     "status": "completed"
    },
    "tags": []
   },
   "outputs": [],
   "source": [
    "new_model = Model(layers[:-2])\n",
    "testing_plot = new_model(testing_data_x)"
   ]
  },
  {
   "cell_type": "code",
   "execution_count": 26,
   "id": "4c0a5485",
   "metadata": {
    "execution": {
     "iopub.execute_input": "2021-11-18T00:24:36.634474Z",
     "iopub.status.busy": "2021-11-18T00:24:36.633852Z",
     "iopub.status.idle": "2021-11-18T00:24:36.849016Z",
     "shell.execute_reply": "2021-11-18T00:24:36.849809Z"
    },
    "papermill": {
     "duration": 0.268589,
     "end_time": "2021-11-18T00:24:36.849978",
     "exception": false,
     "start_time": "2021-11-18T00:24:36.581389",
     "status": "completed"
    },
    "tags": []
   },
   "outputs": [
    {
     "data": {
      "text/plain": [
       "Text(0.5, 1.0, 'Outputs')"
      ]
     },
     "execution_count": 26,
     "metadata": {},
     "output_type": "execute_result"
    },
    {
     "data": {
      "image/png": "[encoded data removed]",
      "text/plain": [
       "<Figure size 576x504 with 1 Axes>"
      ]
     },
     "metadata": {
      "needs_background": "light"
     },
     "output_type": "display_data"
    }
   ],
   "source": [
    "# Plotting the scatter plot of points and color coding by class\n",
    "plt.figure(figsize=(8,7))\n",
    "plt.scatter(testing_plot[:,0], testing_plot[:,1], alpha = 0.1, c = y_test.ravel());\n",
    "plt.title('Outputs')"
   ]
  },
  {
   "cell_type": "markdown",
   "id": "a74fcf8f",
   "metadata": {
    "papermill": {
     "duration": 0.050478,
     "end_time": "2021-11-18T00:24:36.951091",
     "exception": false,
     "start_time": "2021-11-18T00:24:36.900613",
     "status": "completed"
    },
    "tags": []
   },
   "source": [
    "Probability contours"
   ]
  },
  {
   "cell_type": "code",
   "execution_count": 27,
   "id": "d0afc8e3",
   "metadata": {
    "execution": {
     "iopub.execute_input": "2021-11-18T00:24:37.090930Z",
     "iopub.status.busy": "2021-11-18T00:24:37.089424Z",
     "iopub.status.idle": "2021-11-18T00:24:37.102567Z",
     "shell.execute_reply": "2021-11-18T00:24:37.102086Z"
    },
    "papermill": {
     "duration": 0.101289,
     "end_time": "2021-11-18T00:24:37.102698",
     "exception": false,
     "start_time": "2021-11-18T00:24:37.001409",
     "status": "completed"
    },
    "tags": []
   },
   "outputs": [],
   "source": [
    "model_prob = Model(layers[-2:]) "
   ]
  },
  {
   "cell_type": "code",
   "execution_count": 28,
   "id": "9b96e238",
   "metadata": {
    "execution": {
     "iopub.execute_input": "2021-11-18T00:24:37.211892Z",
     "iopub.status.busy": "2021-11-18T00:24:37.208372Z",
     "iopub.status.idle": "2021-11-18T00:24:37.225927Z",
     "shell.execute_reply": "2021-11-18T00:24:37.226384Z"
    },
    "papermill": {
     "duration": 0.074046,
     "end_time": "2021-11-18T00:24:37.226540",
     "exception": false,
     "start_time": "2021-11-18T00:24:37.152494",
     "status": "completed"
    },
    "tags": []
   },
   "outputs": [],
   "source": [
    "#creating the x and y ranges according to the above generated plot.\n",
    "x_range = np.linspace(-4, 1, 100) \n",
    "y_range = np.linspace(-6, 6, 100) \n",
    "x_grid, y_grid = np.meshgrid(x_range, y_range) # x_grid and y_grig are of size 100 X 100\n",
    "\n",
    "# converting x_grid and y_grid to continuous arrays\n",
    "x_gridflat = np.ravel(x_grid)\n",
    "y_gridflat = np.ravel(y_grid)\n",
    "\n",
    "# The last layer of the current model takes two columns as input. Hence transpose of np.vstack() is required.\n",
    "X = np.vstack((x_gridflat, y_gridflat)).T\n",
    "\n",
    "prob_contour = model_prob(X).reshape(100,100) "
   ]
  },
  {
   "cell_type": "code",
   "execution_count": 29,
   "id": "da72499a",
   "metadata": {
    "execution": {
     "iopub.execute_input": "2021-11-18T00:24:37.350174Z",
     "iopub.status.busy": "2021-11-18T00:24:37.349583Z",
     "iopub.status.idle": "2021-11-18T00:24:37.627520Z",
     "shell.execute_reply": "2021-11-18T00:24:37.628043Z"
    },
    "papermill": {
     "duration": 0.344951,
     "end_time": "2021-11-18T00:24:37.628322",
     "exception": false,
     "start_time": "2021-11-18T00:24:37.283371",
     "status": "completed"
    },
    "tags": []
   },
   "outputs": [
    {
     "data": {
      "image/png": "[encoded data removed]",
      "text/plain": [
       "<Figure size 720x648 with 1 Axes>"
      ]
     },
     "metadata": {
      "needs_background": "light"
     },
     "output_type": "display_data"
    }
   ],
   "source": [
    "plt.figure(figsize=(10,9))\n",
    "plt.scatter(testing_plot[:,0], testing_plot[:,1], alpha = 0.1, c = y_test.ravel())\n",
    "contours = plt.contour(x_grid,y_grid,prob_contour)\n",
    "plt.title('Probability Contours')\n",
    "plt.clabel(contours, inline = True );"
   ]
  },
  {
   "cell_type": "code",
   "execution_count": null,
   "id": "e81b4ac7",
   "metadata": {
    "papermill": {
     "duration": 0.052131,
     "end_time": "2021-11-18T00:24:37.733438",
     "exception": false,
     "start_time": "2021-11-18T00:24:37.681307",
     "status": "completed"
    },
    "tags": []
   },
   "outputs": [],
   "source": []
  }
 ],
 "metadata": {
  "kernelspec": {
   "display_name": "Python 3",
   "language": "python",
   "name": "python3"
  },
  "language_info": {
   "codemirror_mode": {
    "name": "ipython",
    "version": 3
   },
   "file_extension": ".py",
   "mimetype": "text/x-python",
   "name": "python",
   "nbconvert_exporter": "python",
   "pygments_lexer": "ipython3",
   "version": "3.6.15"
  },
  "papermill": {
   "default_parameters": {},
   "duration": 111.647586,
   "end_time": "2021-11-18T00:24:38.196454",
   "environment_variables": {},
   "exception": null,
   "input_path": "2020-08-11-part2.ipynb",
   "output_path": "2020-08-11-part2.ipynb",
   "parameters": {},
   "start_time": "2021-11-18T00:22:46.548868",
   "version": "2.3.3"
  }
 },
 "nbformat": 4,
 "nbformat_minor": 5
}