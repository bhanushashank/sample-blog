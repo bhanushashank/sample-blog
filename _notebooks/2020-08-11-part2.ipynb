{
 "cells": [
  {
   "cell_type": "markdown",
   "id": "98380cd3",
   "metadata": {
    "papermill": {
     "duration": 0.029931,
     "end_time": "2022-08-29T20:10:48.654558",
     "exception": false,
     "start_time": "2022-08-29T20:10:48.624627",
     "status": "completed"
    },
    "tags": []
   },
   "source": [
    "# Distinguish Your Own Digits (DYOD)"
   ]
  },
  {
   "cell_type": "markdown",
   "id": "ef31240d",
   "metadata": {
    "papermill": {
     "duration": 0.024542,
     "end_time": "2022-08-29T20:10:48.705368",
     "exception": false,
     "start_time": "2022-08-29T20:10:48.680826",
     "status": "completed"
    },
    "tags": []
   },
   "source": [
    "You are going to write a classifier that distinguishes between the number 3 and number 8."
   ]
  },
  {
   "cell_type": "code",
   "execution_count": 1,
   "id": "b15c8646",
   "metadata": {
    "execution": {
     "iopub.execute_input": "2022-08-29T20:10:48.766427Z",
     "iopub.status.busy": "2022-08-29T20:10:48.765698Z",
     "iopub.status.idle": "2022-08-29T20:10:48.777509Z",
     "shell.execute_reply": "2022-08-29T20:10:48.777987Z"
    },
    "papermill": {
     "duration": 0.047969,
     "end_time": "2022-08-29T20:10:48.778168",
     "exception": false,
     "start_time": "2022-08-29T20:10:48.730199",
     "status": "completed"
    },
    "tags": []
   },
   "outputs": [],
   "source": [
    "%load_ext autoreload\n",
    "%autoreload 2"
   ]
  },
  {
   "cell_type": "code",
   "execution_count": 2,
   "id": "22ef38dc",
   "metadata": {
    "execution": {
     "iopub.execute_input": "2022-08-29T20:10:48.835984Z",
     "iopub.status.busy": "2022-08-29T20:10:48.835273Z",
     "iopub.status.idle": "2022-08-29T20:10:49.434470Z",
     "shell.execute_reply": "2022-08-29T20:10:49.433874Z"
    },
    "papermill": {
     "duration": 0.631848,
     "end_time": "2022-08-29T20:10:49.434602",
     "exception": false,
     "start_time": "2022-08-29T20:10:48.802754",
     "status": "completed"
    },
    "tags": []
   },
   "outputs": [],
   "source": [
    "%matplotlib inline\n",
    "import numpy as np\n",
    "import matplotlib.pyplot as plt\n",
    "import pandas as pd"
   ]
  },
  {
   "cell_type": "markdown",
   "id": "ba036198",
   "metadata": {
    "papermill": {
     "duration": 0.024412,
     "end_time": "2022-08-29T20:10:49.483539",
     "exception": false,
     "start_time": "2022-08-29T20:10:49.459127",
     "status": "completed"
    },
    "tags": []
   },
   "source": [
    "From the command line run `pip install mnist`. This is a library that will help you bring down the mnist dataset. If you run this from a notebook, you need to put  `!pip install mnist` in a cell by itself."
   ]
  },
  {
   "cell_type": "code",
   "execution_count": 3,
   "id": "bb6ad8a1",
   "metadata": {
    "execution": {
     "iopub.execute_input": "2022-08-29T20:10:49.539629Z",
     "iopub.status.busy": "2022-08-29T20:10:49.538779Z",
     "iopub.status.idle": "2022-08-29T20:10:51.275496Z",
     "shell.execute_reply": "2022-08-29T20:10:51.274930Z"
    },
    "papermill": {
     "duration": 1.76781,
     "end_time": "2022-08-29T20:10:51.275622",
     "exception": false,
     "start_time": "2022-08-29T20:10:49.507812",
     "status": "completed"
    },
    "tags": []
   },
   "outputs": [
    {
     "name": "stdout",
     "output_type": "stream",
     "text": [
      "Collecting mnist\r\n"
     ]
    },
    {
     "name": "stdout",
     "output_type": "stream",
     "text": [
      "  Downloading mnist-0.2.2-py2.py3-none-any.whl (3.5 kB)\r\n",
      "Requirement already satisfied: numpy in /opt/hostedtoolcache/Python/3.6.15/x64/lib/python3.6/site-packages (from mnist) (1.19.5)\r\n"
     ]
    },
    {
     "name": "stdout",
     "output_type": "stream",
     "text": [
      "Installing collected packages: mnist\r\n"
     ]
    },
    {
     "name": "stdout",
     "output_type": "stream",
     "text": [
      "Successfully installed mnist-0.2.2\r\n"
     ]
    }
   ],
   "source": [
    "!pip install mnist"
   ]
  },
  {
   "cell_type": "markdown",
   "id": "69df9c9a",
   "metadata": {
    "papermill": {
     "duration": 0.025643,
     "end_time": "2022-08-29T20:10:51.326886",
     "exception": false,
     "start_time": "2022-08-29T20:10:51.301243",
     "status": "completed"
    },
    "tags": []
   },
   "source": [
    "## Preparing the Data"
   ]
  },
  {
   "cell_type": "code",
   "execution_count": 4,
   "id": "7f69d806",
   "metadata": {
    "execution": {
     "iopub.execute_input": "2022-08-29T20:10:51.398275Z",
     "iopub.status.busy": "2022-08-29T20:10:51.395772Z",
     "iopub.status.idle": "2022-08-29T20:10:51.401284Z",
     "shell.execute_reply": "2022-08-29T20:10:51.400718Z"
    },
    "papermill": {
     "duration": 0.049138,
     "end_time": "2022-08-29T20:10:51.401417",
     "exception": false,
     "start_time": "2022-08-29T20:10:51.352279",
     "status": "completed"
    },
    "tags": []
   },
   "outputs": [],
   "source": [
    "import mnist"
   ]
  },
  {
   "cell_type": "code",
   "execution_count": 5,
   "id": "a411e44f",
   "metadata": {
    "execution": {
     "iopub.execute_input": "2022-08-29T20:10:51.467313Z",
     "iopub.status.busy": "2022-08-29T20:10:51.461290Z",
     "iopub.status.idle": "2022-08-29T20:10:52.030956Z",
     "shell.execute_reply": "2022-08-29T20:10:52.030338Z"
    },
    "papermill": {
     "duration": 0.603993,
     "end_time": "2022-08-29T20:10:52.031111",
     "exception": false,
     "start_time": "2022-08-29T20:10:51.427118",
     "status": "completed"
    },
    "tags": []
   },
   "outputs": [],
   "source": [
    "train_images = mnist.train_images()\n",
    "train_labels = mnist.train_labels()"
   ]
  },
  {
   "cell_type": "code",
   "execution_count": 6,
   "id": "dceab3a5",
   "metadata": {
    "execution": {
     "iopub.execute_input": "2022-08-29T20:10:52.087332Z",
     "iopub.status.busy": "2022-08-29T20:10:52.086649Z",
     "iopub.status.idle": "2022-08-29T20:10:52.103643Z",
     "shell.execute_reply": "2022-08-29T20:10:52.103157Z"
    },
    "papermill": {
     "duration": 0.046866,
     "end_time": "2022-08-29T20:10:52.103766",
     "exception": false,
     "start_time": "2022-08-29T20:10:52.056900",
     "status": "completed"
    },
    "tags": []
   },
   "outputs": [
    {
     "data": {
      "text/plain": [
       "((60000, 28, 28), (60000,))"
      ]
     },
     "execution_count": 6,
     "metadata": {},
     "output_type": "execute_result"
    }
   ],
   "source": [
    "train_images.shape, train_labels.shape"
   ]
  },
  {
   "cell_type": "code",
   "execution_count": 7,
   "id": "f50dc2bb",
   "metadata": {
    "execution": {
     "iopub.execute_input": "2022-08-29T20:10:52.165991Z",
     "iopub.status.busy": "2022-08-29T20:10:52.165265Z",
     "iopub.status.idle": "2022-08-29T20:10:52.288199Z",
     "shell.execute_reply": "2022-08-29T20:10:52.286750Z"
    },
    "papermill": {
     "duration": 0.158572,
     "end_time": "2022-08-29T20:10:52.288346",
     "exception": false,
     "start_time": "2022-08-29T20:10:52.129774",
     "status": "completed"
    },
    "tags": []
   },
   "outputs": [],
   "source": [
    "test_images = mnist.test_images()\n",
    "test_labels = mnist.test_labels()"
   ]
  },
  {
   "cell_type": "code",
   "execution_count": 8,
   "id": "fc38cf1b",
   "metadata": {
    "execution": {
     "iopub.execute_input": "2022-08-29T20:10:52.347887Z",
     "iopub.status.busy": "2022-08-29T20:10:52.344070Z",
     "iopub.status.idle": "2022-08-29T20:10:52.359459Z",
     "shell.execute_reply": "2022-08-29T20:10:52.358920Z"
    },
    "papermill": {
     "duration": 0.045239,
     "end_time": "2022-08-29T20:10:52.359583",
     "exception": false,
     "start_time": "2022-08-29T20:10:52.314344",
     "status": "completed"
    },
    "tags": []
   },
   "outputs": [
    {
     "data": {
      "text/plain": [
       "((10000, 28, 28), (10000,))"
      ]
     },
     "execution_count": 8,
     "metadata": {},
     "output_type": "execute_result"
    }
   ],
   "source": [
    "test_images.shape, test_labels.shape"
   ]
  },
  {
   "cell_type": "code",
   "execution_count": 9,
   "id": "f9ed8fe0",
   "metadata": {
    "execution": {
     "iopub.execute_input": "2022-08-29T20:10:52.423219Z",
     "iopub.status.busy": "2022-08-29T20:10:52.422512Z",
     "iopub.status.idle": "2022-08-29T20:10:52.569851Z",
     "shell.execute_reply": "2022-08-29T20:10:52.570413Z"
    },
    "papermill": {
     "duration": 0.185022,
     "end_time": "2022-08-29T20:10:52.570583",
     "exception": false,
     "start_time": "2022-08-29T20:10:52.385561",
     "status": "completed"
    },
    "tags": []
   },
   "outputs": [
    {
     "name": "stdout",
     "output_type": "stream",
     "text": [
      "2\n"
     ]
    },
    {
     "data": {
      "text/plain": [
       "<matplotlib.image.AxesImage at 0x7fcb400909e8>"
      ]
     },
     "execution_count": 9,
     "metadata": {},
     "output_type": "execute_result"
    },
    {
     "data": {
      "image/png": "[encoded data removed]",
      "text/plain": [
       "<Figure size 432x288 with 1 Axes>"
      ]
     },
     "metadata": {
      "needs_background": "light"
     },
     "output_type": "display_data"
    }
   ],
   "source": [
    "image_index = 7776 # You may select anything up to 60,000\n",
    "print(train_labels[image_index]) \n",
    "plt.imshow(train_images[image_index], cmap='Greys')"
   ]
  },
  {
   "cell_type": "markdown",
   "id": "a8d2388d",
   "metadata": {
    "papermill": {
     "duration": 0.027413,
     "end_time": "2022-08-29T20:10:52.625220",
     "exception": false,
     "start_time": "2022-08-29T20:10:52.597807",
     "status": "completed"
    },
    "tags": []
   },
   "source": [
    "## Filter data to get 3 and 8 out"
   ]
  },
  {
   "cell_type": "code",
   "execution_count": 10,
   "id": "776f7fc7",
   "metadata": {
    "execution": {
     "iopub.execute_input": "2022-08-29T20:10:52.686701Z",
     "iopub.status.busy": "2022-08-29T20:10:52.684818Z",
     "iopub.status.idle": "2022-08-29T20:10:52.705038Z",
     "shell.execute_reply": "2022-08-29T20:10:52.705522Z"
    },
    "papermill": {
     "duration": 0.053277,
     "end_time": "2022-08-29T20:10:52.705679",
     "exception": false,
     "start_time": "2022-08-29T20:10:52.652402",
     "status": "completed"
    },
    "tags": []
   },
   "outputs": [],
   "source": [
    "train_filter = np.where((train_labels == 3 ) | (train_labels == 8))\n",
    "test_filter = np.where((test_labels == 3) | (test_labels == 8))\n",
    "X_train, y_train = train_images[train_filter], train_labels[train_filter]\n",
    "X_test, y_test = test_images[test_filter], test_labels[test_filter]"
   ]
  },
  {
   "cell_type": "markdown",
   "id": "948f0b7e",
   "metadata": {
    "papermill": {
     "duration": 0.027185,
     "end_time": "2022-08-29T20:10:52.760159",
     "exception": false,
     "start_time": "2022-08-29T20:10:52.732974",
     "status": "completed"
    },
    "tags": []
   },
   "source": [
    "We normalize the pizel values in the 0 to 1 range"
   ]
  },
  {
   "cell_type": "code",
   "execution_count": 11,
   "id": "ee4c2166",
   "metadata": {
    "execution": {
     "iopub.execute_input": "2022-08-29T20:10:52.821105Z",
     "iopub.status.busy": "2022-08-29T20:10:52.820430Z",
     "iopub.status.idle": "2022-08-29T20:10:52.871123Z",
     "shell.execute_reply": "2022-08-29T20:10:52.870524Z"
    },
    "papermill": {
     "duration": 0.084111,
     "end_time": "2022-08-29T20:10:52.871264",
     "exception": false,
     "start_time": "2022-08-29T20:10:52.787153",
     "status": "completed"
    },
    "tags": []
   },
   "outputs": [],
   "source": [
    "X_train = X_train/255.\n",
    "X_test = X_test/255."
   ]
  },
  {
   "cell_type": "markdown",
   "id": "ddcf4fab",
   "metadata": {
    "papermill": {
     "duration": 0.027559,
     "end_time": "2022-08-29T20:10:52.926083",
     "exception": false,
     "start_time": "2022-08-29T20:10:52.898524",
     "status": "completed"
    },
    "tags": []
   },
   "source": [
    "And setup the labels as 1 (when the digit is 3) and 0 (when the digit is 8)"
   ]
  },
  {
   "cell_type": "code",
   "execution_count": 12,
   "id": "7dc908f2",
   "metadata": {
    "execution": {
     "iopub.execute_input": "2022-08-29T20:10:52.990580Z",
     "iopub.status.busy": "2022-08-29T20:10:52.989837Z",
     "iopub.status.idle": "2022-08-29T20:10:53.000663Z",
     "shell.execute_reply": "2022-08-29T20:10:53.000101Z"
    },
    "papermill": {
     "duration": 0.047619,
     "end_time": "2022-08-29T20:10:53.000791",
     "exception": false,
     "start_time": "2022-08-29T20:10:52.953172",
     "status": "completed"
    },
    "tags": []
   },
   "outputs": [],
   "source": [
    "y_train = 1*(y_train==3)\n",
    "y_test = 1*(y_test==3)"
   ]
  },
  {
   "cell_type": "code",
   "execution_count": 13,
   "id": "01e4e969",
   "metadata": {
    "execution": {
     "iopub.execute_input": "2022-08-29T20:10:53.074960Z",
     "iopub.status.busy": "2022-08-29T20:10:53.071183Z",
     "iopub.status.idle": "2022-08-29T20:10:53.078623Z",
     "shell.execute_reply": "2022-08-29T20:10:53.079093Z"
    },
    "papermill": {
     "duration": 0.051141,
     "end_time": "2022-08-29T20:10:53.079247",
     "exception": false,
     "start_time": "2022-08-29T20:10:53.028106",
     "status": "completed"
    },
    "tags": []
   },
   "outputs": [
    {
     "data": {
      "text/plain": [
       "((11982, 28, 28), (1984, 28, 28))"
      ]
     },
     "execution_count": 13,
     "metadata": {},
     "output_type": "execute_result"
    }
   ],
   "source": [
    "X_train.shape, X_test.shape"
   ]
  },
  {
   "cell_type": "markdown",
   "id": "5ccf3f85",
   "metadata": {
    "papermill": {
     "duration": 0.027576,
     "end_time": "2022-08-29T20:10:53.134079",
     "exception": false,
     "start_time": "2022-08-29T20:10:53.106503",
     "status": "completed"
    },
    "tags": []
   },
   "source": [
    "We reshape the data to flatten the image pixels into a set of features or co-variates:"
   ]
  },
  {
   "cell_type": "code",
   "execution_count": 14,
   "id": "5286a4a3",
   "metadata": {
    "execution": {
     "iopub.execute_input": "2022-08-29T20:10:53.196868Z",
     "iopub.status.busy": "2022-08-29T20:10:53.196160Z",
     "iopub.status.idle": "2022-08-29T20:10:53.211166Z",
     "shell.execute_reply": "2022-08-29T20:10:53.210615Z"
    },
    "papermill": {
     "duration": 0.049694,
     "end_time": "2022-08-29T20:10:53.211301",
     "exception": false,
     "start_time": "2022-08-29T20:10:53.161607",
     "status": "completed"
    },
    "tags": []
   },
   "outputs": [
    {
     "data": {
      "text/plain": [
       "((11982, 784), (1984, 784))"
      ]
     },
     "execution_count": 14,
     "metadata": {},
     "output_type": "execute_result"
    }
   ],
   "source": [
    "X_train = X_train.reshape(X_train.shape[0], -1)\n",
    "X_test = X_test.reshape(X_test.shape[0], -1)\n",
    "X_train.shape, X_test.shape"
   ]
  },
  {
   "cell_type": "code",
   "execution_count": 15,
   "id": "73c5f88a",
   "metadata": {
    "execution": {
     "iopub.execute_input": "2022-08-29T20:10:53.272607Z",
     "iopub.status.busy": "2022-08-29T20:10:53.271264Z",
     "iopub.status.idle": "2022-08-29T20:10:53.291137Z",
     "shell.execute_reply": "2022-08-29T20:10:53.291637Z"
    },
    "papermill": {
     "duration": 0.052844,
     "end_time": "2022-08-29T20:10:53.291794",
     "exception": false,
     "start_time": "2022-08-29T20:10:53.238950",
     "status": "completed"
    },
    "tags": []
   },
   "outputs": [],
   "source": [
    "#Impoting functions from 'Kudzu'\n",
    "from kudzu.model import Model\n",
    "from kudzu.train import Learner\n",
    "from kudzu.optim import GD\n",
    "from kudzu.data import Data, Sampler,Dataloader\n",
    "\n",
    "from kudzu.callbacks import AccCallback\n",
    "from kudzu.callbacks import ClfCallback\n",
    "\n",
    "from kudzu.loss import MSE\n",
    "\n",
    "from kudzu.layer import Sigmoid,Relu\n",
    "from kudzu.layer import Affine"
   ]
  },
  {
   "cell_type": "markdown",
   "id": "bc01172a",
   "metadata": {
    "papermill": {
     "duration": 0.027704,
     "end_time": "2022-08-29T20:10:53.347441",
     "exception": false,
     "start_time": "2022-08-29T20:10:53.319737",
     "status": "completed"
    },
    "tags": []
   },
   "source": [
    "### Let us create a `Config` class, to store important parameters. \n",
    "This class essentially plays the role of a dictionary."
   ]
  },
  {
   "cell_type": "code",
   "execution_count": 16,
   "id": "978281aa",
   "metadata": {
    "execution": {
     "iopub.execute_input": "2022-08-29T20:10:53.409424Z",
     "iopub.status.busy": "2022-08-29T20:10:53.408735Z",
     "iopub.status.idle": "2022-08-29T20:10:53.424923Z",
     "shell.execute_reply": "2022-08-29T20:10:53.425397Z"
    },
    "papermill": {
     "duration": 0.050438,
     "end_time": "2022-08-29T20:10:53.425551",
     "exception": false,
     "start_time": "2022-08-29T20:10:53.375113",
     "status": "completed"
    },
    "tags": []
   },
   "outputs": [],
   "source": [
    "class Config:\n",
    "    pass\n",
    "config = Config()\n",
    "config.lr = 0.001\n",
    "config.num_epochs = 250\n",
    "config.bs = 50"
   ]
  },
  {
   "cell_type": "markdown",
   "id": "1385fa59",
   "metadata": {
    "papermill": {
     "duration": 0.027514,
     "end_time": "2022-08-29T20:10:53.480841",
     "exception": false,
     "start_time": "2022-08-29T20:10:53.453327",
     "status": "completed"
    },
    "tags": []
   },
   "source": [
    "### Running Models with the Training data\n",
    "Details about the network layers:\n",
    "- A first affine layer has 784 inputs and does 100 affine transforms. These are followed by a Relu\n",
    "- A second affine layer has 100 inputs from the 100 activations of the past layer, and does 100 affine transforms. These are followed by a Relu\n",
    "- A third affine layer has 100 activations and does 2 affine transformations to create an embedding for visualization. There is no non-linearity here.\n",
    "- A final \"logistic regression\" which has an affine transform from 2 inputs to 1 output, which is squeezed through a sigmoid.\n"
   ]
  },
  {
   "cell_type": "code",
   "execution_count": 17,
   "id": "2b9c66db",
   "metadata": {
    "execution": {
     "iopub.execute_input": "2022-08-29T20:10:53.542460Z",
     "iopub.status.busy": "2022-08-29T20:10:53.541732Z",
     "iopub.status.idle": "2022-08-29T20:10:53.556317Z",
     "shell.execute_reply": "2022-08-29T20:10:53.554172Z"
    },
    "papermill": {
     "duration": 0.048026,
     "end_time": "2022-08-29T20:10:53.556477",
     "exception": false,
     "start_time": "2022-08-29T20:10:53.508451",
     "status": "completed"
    },
    "tags": []
   },
   "outputs": [],
   "source": [
    "data = Data(X_train, y_train.reshape(-1,1))\n",
    "sampler = Sampler(data, config.bs, shuffle=True)\n",
    "\n",
    "dl = Dataloader(data, sampler)\n",
    "\n",
    "opt = GD(config.lr)\n",
    "loss = MSE()"
   ]
  },
  {
   "cell_type": "code",
   "execution_count": 18,
   "id": "b275e4c2",
   "metadata": {
    "execution": {
     "iopub.execute_input": "2022-08-29T20:10:53.630580Z",
     "iopub.status.busy": "2022-08-29T20:10:53.629816Z",
     "iopub.status.idle": "2022-08-29T20:10:53.641254Z",
     "shell.execute_reply": "2022-08-29T20:10:53.640720Z"
    },
    "papermill": {
     "duration": 0.054321,
     "end_time": "2022-08-29T20:10:53.641388",
     "exception": false,
     "start_time": "2022-08-29T20:10:53.587067",
     "status": "completed"
    },
    "tags": []
   },
   "outputs": [],
   "source": [
    "training_data_x = X_train\n",
    "testing_data_x = X_test\n",
    "training_data_y = y_train.reshape(-1,1)\n",
    "testing_data_y = y_test.reshape(-1,1)"
   ]
  },
  {
   "cell_type": "code",
   "execution_count": 19,
   "id": "76951160",
   "metadata": {
    "execution": {
     "iopub.execute_input": "2022-08-29T20:10:53.727830Z",
     "iopub.status.busy": "2022-08-29T20:10:53.723707Z",
     "iopub.status.idle": "2022-08-29T20:10:53.732825Z",
     "shell.execute_reply": "2022-08-29T20:10:53.732290Z"
    },
    "papermill": {
     "duration": 0.059879,
     "end_time": "2022-08-29T20:10:53.732954",
     "exception": false,
     "start_time": "2022-08-29T20:10:53.673075",
     "status": "completed"
    },
    "tags": []
   },
   "outputs": [
    {
     "name": "stdout",
     "output_type": "stream",
     "text": [
      "xavier\n",
      "xavier\n",
      "xavier\n",
      "xavier\n",
      "xavier\n"
     ]
    }
   ],
   "source": [
    "layers = [Affine(\"first\", 784, 100), Relu(\"first\"), Affine(\"second\", 100, 100), Relu(\"second\"), Affine(\"third\", 100, 2), Affine(\"last\", 2, 1), Sigmoid(\"last\")]\n",
    "model_nn = Model(layers)\n",
    "model_lr = Model([Affine(\"logits\", 784, 1), Sigmoid(\"sigmoid\")])"
   ]
  },
  {
   "cell_type": "code",
   "execution_count": 20,
   "id": "6eede77a",
   "metadata": {
    "execution": {
     "iopub.execute_input": "2022-08-29T20:10:53.806139Z",
     "iopub.status.busy": "2022-08-29T20:10:53.805198Z",
     "iopub.status.idle": "2022-08-29T20:10:53.820240Z",
     "shell.execute_reply": "2022-08-29T20:10:53.820956Z"
    },
    "papermill": {
     "duration": 0.055883,
     "end_time": "2022-08-29T20:10:53.821135",
     "exception": false,
     "start_time": "2022-08-29T20:10:53.765252",
     "status": "completed"
    },
    "tags": []
   },
   "outputs": [],
   "source": [
    "nn_learner = Learner(loss, model_nn, opt, config.num_epochs)\n",
    "acc_nn = ClfCallback(nn_learner, config.bs, training_data_x , testing_data_x, training_data_y, testing_data_y)\n",
    "nn_learner.set_callbacks([acc_nn])"
   ]
  },
  {
   "cell_type": "code",
   "execution_count": 21,
   "id": "877b6cc7",
   "metadata": {
    "execution": {
     "iopub.execute_input": "2022-08-29T20:10:53.886113Z",
     "iopub.status.busy": "2022-08-29T20:10:53.885450Z",
     "iopub.status.idle": "2022-08-29T20:10:53.899930Z",
     "shell.execute_reply": "2022-08-29T20:10:53.899349Z"
    },
    "papermill": {
     "duration": 0.047145,
     "end_time": "2022-08-29T20:10:53.900064",
     "exception": false,
     "start_time": "2022-08-29T20:10:53.852919",
     "status": "completed"
    },
    "tags": []
   },
   "outputs": [],
   "source": [
    "lr_learner = Learner(loss, model_lr, opt, config.num_epochs)\n",
    "acc_lr = ClfCallback(lr_learner, config.bs, training_data_x , testing_data_x, training_data_y, testing_data_y)\n",
    "lr_learner.set_callbacks([acc_lr])"
   ]
  },
  {
   "cell_type": "code",
   "execution_count": 22,
   "id": "d9b133c3",
   "metadata": {
    "execution": {
     "iopub.execute_input": "2022-08-29T20:10:53.960990Z",
     "iopub.status.busy": "2022-08-29T20:10:53.960331Z",
     "iopub.status.idle": "2022-08-29T20:12:20.599973Z",
     "shell.execute_reply": "2022-08-29T20:12:20.600878Z"
    },
    "papermill": {
     "duration": 86.672427,
     "end_time": "2022-08-29T20:12:20.601034",
     "exception": false,
     "start_time": "2022-08-29T20:10:53.928607",
     "status": "completed"
    },
    "tags": []
   },
   "outputs": [
    {
     "name": "stdout",
     "output_type": "stream",
     "text": [
      "Epoch 0, Loss 0.2433\n",
      "Training Accuracy: 0.6489, Testing Accuracy: 0.6129\n",
      "\n"
     ]
    },
    {
     "name": "stdout",
     "output_type": "stream",
     "text": [
      "Epoch 10, Loss 0.1173\n",
      "Training Accuracy: 0.9019, Testing Accuracy: 0.9093\n",
      "\n"
     ]
    },
    {
     "name": "stdout",
     "output_type": "stream",
     "text": [
      "Epoch 20, Loss 0.0653\n",
      "Training Accuracy: 0.9321, Testing Accuracy: 0.9461\n",
      "\n"
     ]
    },
    {
     "name": "stdout",
     "output_type": "stream",
     "text": [
      "Epoch 30, Loss 0.0489\n",
      "Training Accuracy: 0.9456, Testing Accuracy: 0.9577\n",
      "\n"
     ]
    },
    {
     "name": "stdout",
     "output_type": "stream",
     "text": [
      "Epoch 40, Loss 0.0412\n",
      "Training Accuracy: 0.9529, Testing Accuracy: 0.9637\n",
      "\n"
     ]
    },
    {
     "name": "stdout",
     "output_type": "stream",
     "text": [
      "Epoch 50, Loss 0.0367\n",
      "Training Accuracy: 0.9581, Testing Accuracy: 0.9667\n",
      "\n"
     ]
    },
    {
     "name": "stdout",
     "output_type": "stream",
     "text": [
      "Epoch 60, Loss 0.0337\n",
      "Training Accuracy: 0.9617, Testing Accuracy: 0.9667\n",
      "\n"
     ]
    },
    {
     "name": "stdout",
     "output_type": "stream",
     "text": [
      "Epoch 70, Loss 0.0316\n",
      "Training Accuracy: 0.9632, Testing Accuracy: 0.9698\n",
      "\n"
     ]
    },
    {
     "name": "stdout",
     "output_type": "stream",
     "text": [
      "Epoch 80, Loss 0.0298\n",
      "Training Accuracy: 0.9651, Testing Accuracy: 0.9693\n",
      "\n"
     ]
    },
    {
     "name": "stdout",
     "output_type": "stream",
     "text": [
      "Epoch 90, Loss 0.0284\n",
      "Training Accuracy: 0.9666, Testing Accuracy: 0.9708\n",
      "\n"
     ]
    },
    {
     "name": "stdout",
     "output_type": "stream",
     "text": [
      "Epoch 100, Loss 0.0273\n",
      "Training Accuracy: 0.9680, Testing Accuracy: 0.9703\n",
      "\n"
     ]
    },
    {
     "name": "stdout",
     "output_type": "stream",
     "text": [
      "Epoch 110, Loss 0.0263\n",
      "Training Accuracy: 0.9697, Testing Accuracy: 0.9723\n",
      "\n"
     ]
    },
    {
     "name": "stdout",
     "output_type": "stream",
     "text": [
      "Epoch 120, Loss 0.0254\n",
      "Training Accuracy: 0.9703, Testing Accuracy: 0.9728\n",
      "\n"
     ]
    },
    {
     "name": "stdout",
     "output_type": "stream",
     "text": [
      "Epoch 130, Loss 0.0246\n",
      "Training Accuracy: 0.9720, Testing Accuracy: 0.9733\n",
      "\n"
     ]
    },
    {
     "name": "stdout",
     "output_type": "stream",
     "text": [
      "Epoch 140, Loss 0.0239\n",
      "Training Accuracy: 0.9725, Testing Accuracy: 0.9733\n",
      "\n"
     ]
    },
    {
     "name": "stdout",
     "output_type": "stream",
     "text": [
      "Epoch 150, Loss 0.0232\n",
      "Training Accuracy: 0.9734, Testing Accuracy: 0.9733\n",
      "\n"
     ]
    },
    {
     "name": "stdout",
     "output_type": "stream",
     "text": [
      "Epoch 160, Loss 0.0227\n",
      "Training Accuracy: 0.9738, Testing Accuracy: 0.9728\n",
      "\n"
     ]
    },
    {
     "name": "stdout",
     "output_type": "stream",
     "text": [
      "Epoch 170, Loss 0.0221\n",
      "Training Accuracy: 0.9749, Testing Accuracy: 0.9733\n",
      "\n"
     ]
    },
    {
     "name": "stdout",
     "output_type": "stream",
     "text": [
      "Epoch 180, Loss 0.0216\n",
      "Training Accuracy: 0.9750, Testing Accuracy: 0.9738\n",
      "\n"
     ]
    },
    {
     "name": "stdout",
     "output_type": "stream",
     "text": [
      "Epoch 190, Loss 0.0212\n",
      "Training Accuracy: 0.9758, Testing Accuracy: 0.9748\n",
      "\n"
     ]
    },
    {
     "name": "stdout",
     "output_type": "stream",
     "text": [
      "Epoch 200, Loss 0.0207\n",
      "Training Accuracy: 0.9765, Testing Accuracy: 0.9748\n",
      "\n"
     ]
    },
    {
     "name": "stdout",
     "output_type": "stream",
     "text": [
      "Epoch 210, Loss 0.0203\n",
      "Training Accuracy: 0.9767, Testing Accuracy: 0.9753\n",
      "\n"
     ]
    },
    {
     "name": "stdout",
     "output_type": "stream",
     "text": [
      "Epoch 220, Loss 0.0199\n",
      "Training Accuracy: 0.9777, Testing Accuracy: 0.9758\n",
      "\n"
     ]
    },
    {
     "name": "stdout",
     "output_type": "stream",
     "text": [
      "Epoch 230, Loss 0.0195\n",
      "Training Accuracy: 0.9786, Testing Accuracy: 0.9758\n",
      "\n"
     ]
    },
    {
     "name": "stdout",
     "output_type": "stream",
     "text": [
      "Epoch 240, Loss 0.0191\n",
      "Training Accuracy: 0.9789, Testing Accuracy: 0.9753\n",
      "\n"
     ]
    },
    {
     "data": {
      "text/plain": [
       "0.03128635529897274"
      ]
     },
     "execution_count": 22,
     "metadata": {},
     "output_type": "execute_result"
    }
   ],
   "source": [
    "nn_learner.train_loop(dl)"
   ]
  },
  {
   "cell_type": "code",
   "execution_count": 23,
   "id": "e0163366",
   "metadata": {
    "execution": {
     "iopub.execute_input": "2022-08-29T20:12:20.683684Z",
     "iopub.status.busy": "2022-08-29T20:12:20.683069Z",
     "iopub.status.idle": "2022-08-29T20:12:35.687444Z",
     "shell.execute_reply": "2022-08-29T20:12:35.688246Z"
    },
    "papermill": {
     "duration": 15.050902,
     "end_time": "2022-08-29T20:12:35.688390",
     "exception": false,
     "start_time": "2022-08-29T20:12:20.637488",
     "status": "completed"
    },
    "tags": []
   },
   "outputs": [
    {
     "name": "stdout",
     "output_type": "stream",
     "text": [
      "Epoch 0, Loss 0.207\n",
      "Training Accuracy: 0.7959, Testing Accuracy: 0.8125\n",
      "\n"
     ]
    },
    {
     "name": "stdout",
     "output_type": "stream",
     "text": [
      "Epoch 10, Loss 0.0959\n",
      "Training Accuracy: 0.9217, Testing Accuracy: 0.9269\n",
      "\n"
     ]
    },
    {
     "name": "stdout",
     "output_type": "stream",
     "text": [
      "Epoch 20, Loss 0.0755\n",
      "Training Accuracy: 0.9339, Testing Accuracy: 0.9441\n",
      "\n"
     ]
    },
    {
     "name": "stdout",
     "output_type": "stream",
     "text": [
      "Epoch 30, Loss 0.0658\n",
      "Training Accuracy: 0.9402, Testing Accuracy: 0.9511\n",
      "\n"
     ]
    },
    {
     "name": "stdout",
     "output_type": "stream",
     "text": [
      "Epoch 40, Loss 0.0599\n",
      "Training Accuracy: 0.9445, Testing Accuracy: 0.9551\n",
      "\n"
     ]
    },
    {
     "name": "stdout",
     "output_type": "stream",
     "text": [
      "Epoch 50, Loss 0.0558\n",
      "Training Accuracy: 0.9469, Testing Accuracy: 0.9582\n",
      "\n"
     ]
    },
    {
     "name": "stdout",
     "output_type": "stream",
     "text": [
      "Epoch 60, Loss 0.0527\n",
      "Training Accuracy: 0.9488, Testing Accuracy: 0.9592\n",
      "\n"
     ]
    },
    {
     "name": "stdout",
     "output_type": "stream",
     "text": [
      "Epoch 70, Loss 0.0504\n",
      "Training Accuracy: 0.9501, Testing Accuracy: 0.9592\n",
      "\n"
     ]
    },
    {
     "name": "stdout",
     "output_type": "stream",
     "text": [
      "Epoch 80, Loss 0.0485\n",
      "Training Accuracy: 0.9512, Testing Accuracy: 0.9587\n",
      "\n"
     ]
    },
    {
     "name": "stdout",
     "output_type": "stream",
     "text": [
      "Epoch 90, Loss 0.0469\n",
      "Training Accuracy: 0.9528, Testing Accuracy: 0.9602\n",
      "\n"
     ]
    },
    {
     "name": "stdout",
     "output_type": "stream",
     "text": [
      "Epoch 100, Loss 0.0456\n",
      "Training Accuracy: 0.9539, Testing Accuracy: 0.9602\n",
      "\n"
     ]
    },
    {
     "name": "stdout",
     "output_type": "stream",
     "text": [
      "Epoch 110, Loss 0.0444\n",
      "Training Accuracy: 0.9549, Testing Accuracy: 0.9617\n",
      "\n"
     ]
    },
    {
     "name": "stdout",
     "output_type": "stream",
     "text": [
      "Epoch 120, Loss 0.0434\n",
      "Training Accuracy: 0.9555, Testing Accuracy: 0.9627\n",
      "\n"
     ]
    },
    {
     "name": "stdout",
     "output_type": "stream",
     "text": [
      "Epoch 130, Loss 0.0425\n",
      "Training Accuracy: 0.9564, Testing Accuracy: 0.9627\n",
      "\n"
     ]
    },
    {
     "name": "stdout",
     "output_type": "stream",
     "text": [
      "Epoch 140, Loss 0.0417\n",
      "Training Accuracy: 0.9573, Testing Accuracy: 0.9637\n",
      "\n"
     ]
    },
    {
     "name": "stdout",
     "output_type": "stream",
     "text": [
      "Epoch 150, Loss 0.041\n",
      "Training Accuracy: 0.9578, Testing Accuracy: 0.9647\n",
      "\n"
     ]
    },
    {
     "name": "stdout",
     "output_type": "stream",
     "text": [
      "Epoch 160, Loss 0.0404\n",
      "Training Accuracy: 0.9580, Testing Accuracy: 0.9647\n",
      "\n"
     ]
    },
    {
     "name": "stdout",
     "output_type": "stream",
     "text": [
      "Epoch 170, Loss 0.0398\n",
      "Training Accuracy: 0.9584, Testing Accuracy: 0.9642\n",
      "\n"
     ]
    },
    {
     "name": "stdout",
     "output_type": "stream",
     "text": [
      "Epoch 180, Loss 0.0392\n",
      "Training Accuracy: 0.9586, Testing Accuracy: 0.9662\n",
      "\n"
     ]
    },
    {
     "name": "stdout",
     "output_type": "stream",
     "text": [
      "Epoch 190, Loss 0.0387\n",
      "Training Accuracy: 0.9589, Testing Accuracy: 0.9657\n",
      "\n"
     ]
    },
    {
     "name": "stdout",
     "output_type": "stream",
     "text": [
      "Epoch 200, Loss 0.0383\n",
      "Training Accuracy: 0.9591, Testing Accuracy: 0.9657\n",
      "\n"
     ]
    },
    {
     "name": "stdout",
     "output_type": "stream",
     "text": [
      "Epoch 210, Loss 0.0378\n",
      "Training Accuracy: 0.9593, Testing Accuracy: 0.9657\n",
      "\n"
     ]
    },
    {
     "name": "stdout",
     "output_type": "stream",
     "text": [
      "Epoch 220, Loss 0.0374\n",
      "Training Accuracy: 0.9597, Testing Accuracy: 0.9657\n",
      "\n"
     ]
    },
    {
     "name": "stdout",
     "output_type": "stream",
     "text": [
      "Epoch 230, Loss 0.0371\n",
      "Training Accuracy: 0.9600, Testing Accuracy: 0.9667\n",
      "\n"
     ]
    },
    {
     "name": "stdout",
     "output_type": "stream",
     "text": [
      "Epoch 240, Loss 0.0367\n",
      "Training Accuracy: 0.9603, Testing Accuracy: 0.9667\n",
      "\n"
     ]
    },
    {
     "data": {
      "text/plain": [
       "0.04135131284402074"
      ]
     },
     "execution_count": 23,
     "metadata": {},
     "output_type": "execute_result"
    }
   ],
   "source": [
    "lr_learner.train_loop(dl)"
   ]
  },
  {
   "cell_type": "code",
   "execution_count": 24,
   "id": "ca410940",
   "metadata": {
    "execution": {
     "iopub.execute_input": "2022-08-29T20:12:35.783632Z",
     "iopub.status.busy": "2022-08-29T20:12:35.783012Z",
     "iopub.status.idle": "2022-08-29T20:12:36.016509Z",
     "shell.execute_reply": "2022-08-29T20:12:36.016010Z"
    },
    "papermill": {
     "duration": 0.286768,
     "end_time": "2022-08-29T20:12:36.016625",
     "exception": false,
     "start_time": "2022-08-29T20:12:35.729857",
     "status": "completed"
    },
    "tags": []
   },
   "outputs": [
    {
     "data": {
      "text/plain": [
       "<matplotlib.legend.Legend at 0x7fcb3fbf2fd0>"
      ]
     },
     "execution_count": 24,
     "metadata": {},
     "output_type": "execute_result"
    },
    {
     "data": {
      "image/png": "[encoded data removed]",
      "text/plain": [
       "<Figure size 1080x720 with 1 Axes>"
      ]
     },
     "metadata": {
      "needs_background": "light"
     },
     "output_type": "display_data"
    }
   ],
   "source": [
    "#comparing the results of NN and LR\n",
    "plt.figure(figsize=(15,10))\n",
    "\n",
    "# Neural Network plots\n",
    "plt.plot(acc_nn.accuracies, 'r-', label = \"Training Accuracies - NN\")\n",
    "plt.plot(acc_nn.test_accuracies, 'g-', label = \"Testing Accuracies - NN\")\n",
    "\n",
    "# Logistic Regression plots\n",
    "plt.plot(acc_lr.accuracies, 'k-', label = \"Training Accuracies - LR\")\n",
    "plt.plot(acc_lr.test_accuracies, 'b-', label = \"Testing Accuracies - LR\")\n",
    "plt.legend()"
   ]
  },
  {
   "cell_type": "markdown",
   "id": "80dfb35c",
   "metadata": {
    "papermill": {
     "duration": 0.042238,
     "end_time": "2022-08-29T20:12:36.101353",
     "exception": false,
     "start_time": "2022-08-29T20:12:36.059115",
     "status": "completed"
    },
    "tags": []
   },
   "source": [
    "#### Plotting the outputs of this layer of the NN.\n"
   ]
  },
  {
   "cell_type": "code",
   "execution_count": 25,
   "id": "45eb2ff5",
   "metadata": {
    "execution": {
     "iopub.execute_input": "2022-08-29T20:12:36.208326Z",
     "iopub.status.busy": "2022-08-29T20:12:36.207689Z",
     "iopub.status.idle": "2022-08-29T20:12:36.216549Z",
     "shell.execute_reply": "2022-08-29T20:12:36.216056Z"
    },
    "papermill": {
     "duration": 0.073161,
     "end_time": "2022-08-29T20:12:36.216664",
     "exception": false,
     "start_time": "2022-08-29T20:12:36.143503",
     "status": "completed"
    },
    "tags": []
   },
   "outputs": [],
   "source": [
    "new_model = Model(layers[:-2])\n",
    "testing_plot = new_model(testing_data_x)"
   ]
  },
  {
   "cell_type": "code",
   "execution_count": 26,
   "id": "4c0a5485",
   "metadata": {
    "execution": {
     "iopub.execute_input": "2022-08-29T20:12:36.337775Z",
     "iopub.status.busy": "2022-08-29T20:12:36.331897Z",
     "iopub.status.idle": "2022-08-29T20:12:36.513144Z",
     "shell.execute_reply": "2022-08-29T20:12:36.512573Z"
    },
    "papermill": {
     "duration": 0.253211,
     "end_time": "2022-08-29T20:12:36.513273",
     "exception": false,
     "start_time": "2022-08-29T20:12:36.260062",
     "status": "completed"
    },
    "tags": []
   },
   "outputs": [
    {
     "data": {
      "text/plain": [
       "Text(0.5, 1.0, 'Outputs')"
      ]
     },
     "execution_count": 26,
     "metadata": {},
     "output_type": "execute_result"
    },
    {
     "data": {
      "image/png": "[encoded data removed]",
      "text/plain": [
       "<Figure size 576x504 with 1 Axes>"
      ]
     },
     "metadata": {
      "needs_background": "light"
     },
     "output_type": "display_data"
    }
   ],
   "source": [
    "# Plotting the scatter plot of points and color coding by class\n",
    "plt.figure(figsize=(8,7))\n",
    "plt.scatter(testing_plot[:,0], testing_plot[:,1], alpha = 0.1, c = y_test.ravel());\n",
    "plt.title('Outputs')"
   ]
  },
  {
   "cell_type": "markdown",
   "id": "a74fcf8f",
   "metadata": {
    "papermill": {
     "duration": 0.044241,
     "end_time": "2022-08-29T20:12:36.602133",
     "exception": false,
     "start_time": "2022-08-29T20:12:36.557892",
     "status": "completed"
    },
    "tags": []
   },
   "source": [
    "Probability contours"
   ]
  },
  {
   "cell_type": "code",
   "execution_count": 27,
   "id": "d0afc8e3",
   "metadata": {
    "execution": {
     "iopub.execute_input": "2022-08-29T20:12:36.721443Z",
     "iopub.status.busy": "2022-08-29T20:12:36.720866Z",
     "iopub.status.idle": "2022-08-29T20:12:36.733908Z",
     "shell.execute_reply": "2022-08-29T20:12:36.734486Z"
    },
    "papermill": {
     "duration": 0.061594,
     "end_time": "2022-08-29T20:12:36.734616",
     "exception": false,
     "start_time": "2022-08-29T20:12:36.673022",
     "status": "completed"
    },
    "tags": []
   },
   "outputs": [],
   "source": [
    "model_prob = Model(layers[-2:]) "
   ]
  },
  {
   "cell_type": "code",
   "execution_count": 28,
   "id": "9b96e238",
   "metadata": {
    "execution": {
     "iopub.execute_input": "2022-08-29T20:12:36.830869Z",
     "iopub.status.busy": "2022-08-29T20:12:36.829234Z",
     "iopub.status.idle": "2022-08-29T20:12:36.842923Z",
     "shell.execute_reply": "2022-08-29T20:12:36.843351Z"
    },
    "papermill": {
     "duration": 0.064079,
     "end_time": "2022-08-29T20:12:36.843480",
     "exception": false,
     "start_time": "2022-08-29T20:12:36.779401",
     "status": "completed"
    },
    "tags": []
   },
   "outputs": [],
   "source": [
    "#creating the x and y ranges according to the above generated plot.\n",
    "x_range = np.linspace(-4, 1, 100) \n",
    "y_range = np.linspace(-6, 6, 100) \n",
    "x_grid, y_grid = np.meshgrid(x_range, y_range) # x_grid and y_grig are of size 100 X 100\n",
    "\n",
    "# converting x_grid and y_grid to continuous arrays\n",
    "x_gridflat = np.ravel(x_grid)\n",
    "y_gridflat = np.ravel(y_grid)\n",
    "\n",
    "# The last layer of the current model takes two columns as input. Hence transpose of np.vstack() is required.\n",
    "X = np.vstack((x_gridflat, y_gridflat)).T\n",
    "\n",
    "prob_contour = model_prob(X).reshape(100,100) "
   ]
  },
  {
   "cell_type": "code",
   "execution_count": 29,
   "id": "da72499a",
   "metadata": {
    "execution": {
     "iopub.execute_input": "2022-08-29T20:12:36.943778Z",
     "iopub.status.busy": "2022-08-29T20:12:36.943189Z",
     "iopub.status.idle": "2022-08-29T20:12:37.188099Z",
     "shell.execute_reply": "2022-08-29T20:12:37.187602Z"
    },
    "papermill": {
     "duration": 0.299858,
     "end_time": "2022-08-29T20:12:37.188217",
     "exception": false,
     "start_time": "2022-08-29T20:12:36.888359",
     "status": "completed"
    },
    "tags": []
   },
   "outputs": [
    {
     "data": {
      "image/png": "[encoded data removed]",
      "text/plain": [
       "<Figure size 720x648 with 1 Axes>"
      ]
     },
     "metadata": {
      "needs_background": "light"
     },
     "output_type": "display_data"
    }
   ],
   "source": [
    "plt.figure(figsize=(10,9))\n",
    "plt.scatter(testing_plot[:,0], testing_plot[:,1], alpha = 0.1, c = y_test.ravel())\n",
    "contours = plt.contour(x_grid,y_grid,prob_contour)\n",
    "plt.title('Probability Contours')\n",
    "plt.clabel(contours, inline = True );"
   ]
  },
  {
   "cell_type": "code",
   "execution_count": null,
   "id": "e81b4ac7",
   "metadata": {
    "papermill": {
     "duration": 0.047334,
     "end_time": "2022-08-29T20:12:37.283574",
     "exception": false,
     "start_time": "2022-08-29T20:12:37.236240",
     "status": "completed"
    },
    "tags": []
   },
   "outputs": [],
   "source": []
  }
 ],
 "metadata": {
  "kernelspec": {
   "display_name": "Python 3",
   "language": "python",
   "name": "python3"
  },
  "language_info": {
   "codemirror_mode": {
    "name": "ipython",
    "version": 3
   },
   "file_extension": ".py",
   "mimetype": "text/x-python",
   "name": "python",
   "nbconvert_exporter": "python",
   "pygments_lexer": "ipython3",
   "version": "3.6.15"
  },
  "papermill": {
   "default_parameters": {},
   "duration": 110.393333,
   "end_time": "2022-08-29T20:12:37.750107",
   "environment_variables": {},
   "exception": null,
   "input_path": "2020-08-11-part2.ipynb",
   "output_path": "2020-08-11-part2.ipynb",
   "parameters": {},
   "start_time": "2022-08-29T20:10:47.356774",
   "version": "2.3.3"
  }
 },
 "nbformat": 4,
 "nbformat_minor": 5
}