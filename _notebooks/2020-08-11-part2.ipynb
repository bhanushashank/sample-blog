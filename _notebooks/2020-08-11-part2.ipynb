{
 "cells": [
  {
   "cell_type": "markdown",
   "id": "98380cd3",
   "metadata": {
    "papermill": {
     "duration": 0.029602,
     "end_time": "2022-07-24T00:43:18.515262",
     "exception": false,
     "start_time": "2022-07-24T00:43:18.485660",
     "status": "completed"
    },
    "tags": []
   },
   "source": [
    "# Distinguish Your Own Digits (DYOD)"
   ]
  },
  {
   "cell_type": "markdown",
   "id": "ef31240d",
   "metadata": {
    "papermill": {
     "duration": 0.024042,
     "end_time": "2022-07-24T00:43:18.564112",
     "exception": false,
     "start_time": "2022-07-24T00:43:18.540070",
     "status": "completed"
    },
    "tags": []
   },
   "source": [
    "You are going to write a classifier that distinguishes between the number 3 and number 8."
   ]
  },
  {
   "cell_type": "code",
   "execution_count": 1,
   "id": "b15c8646",
   "metadata": {
    "execution": {
     "iopub.execute_input": "2022-07-24T00:43:18.622318Z",
     "iopub.status.busy": "2022-07-24T00:43:18.621717Z",
     "iopub.status.idle": "2022-07-24T00:43:18.632794Z",
     "shell.execute_reply": "2022-07-24T00:43:18.633320Z"
    },
    "papermill": {
     "duration": 0.045421,
     "end_time": "2022-07-24T00:43:18.633454",
     "exception": false,
     "start_time": "2022-07-24T00:43:18.588033",
     "status": "completed"
    },
    "tags": []
   },
   "outputs": [],
   "source": [
    "%load_ext autoreload\n",
    "%autoreload 2"
   ]
  },
  {
   "cell_type": "code",
   "execution_count": 2,
   "id": "22ef38dc",
   "metadata": {
    "execution": {
     "iopub.execute_input": "2022-07-24T00:43:18.686311Z",
     "iopub.status.busy": "2022-07-24T00:43:18.685738Z",
     "iopub.status.idle": "2022-07-24T00:43:19.196067Z",
     "shell.execute_reply": "2022-07-24T00:43:19.196555Z"
    },
    "papermill": {
     "duration": 0.539118,
     "end_time": "2022-07-24T00:43:19.196694",
     "exception": false,
     "start_time": "2022-07-24T00:43:18.657576",
     "status": "completed"
    },
    "tags": []
   },
   "outputs": [],
   "source": [
    "%matplotlib inline\n",
    "import numpy as np\n",
    "import matplotlib.pyplot as plt\n",
    "import pandas as pd"
   ]
  },
  {
   "cell_type": "markdown",
   "id": "ba036198",
   "metadata": {
    "papermill": {
     "duration": 0.024056,
     "end_time": "2022-07-24T00:43:19.244899",
     "exception": false,
     "start_time": "2022-07-24T00:43:19.220843",
     "status": "completed"
    },
    "tags": []
   },
   "source": [
    "From the command line run `pip install mnist`. This is a library that will help you bring down the mnist dataset. If you run this from a notebook, you need to put  `!pip install mnist` in a cell by itself."
   ]
  },
  {
   "cell_type": "code",
   "execution_count": 3,
   "id": "bb6ad8a1",
   "metadata": {
    "execution": {
     "iopub.execute_input": "2022-07-24T00:43:19.297032Z",
     "iopub.status.busy": "2022-07-24T00:43:19.296456Z",
     "iopub.status.idle": "2022-07-24T00:43:20.897954Z",
     "shell.execute_reply": "2022-07-24T00:43:20.897347Z"
    },
    "papermill": {
     "duration": 1.629078,
     "end_time": "2022-07-24T00:43:20.898070",
     "exception": false,
     "start_time": "2022-07-24T00:43:19.268992",
     "status": "completed"
    },
    "tags": []
   },
   "outputs": [
    {
     "name": "stdout",
     "output_type": "stream",
     "text": [
      "Collecting mnist\r\n"
     ]
    },
    {
     "name": "stdout",
     "output_type": "stream",
     "text": [
      "  Downloading mnist-0.2.2-py2.py3-none-any.whl (3.5 kB)\r\n",
      "Requirement already satisfied: numpy in /opt/hostedtoolcache/Python/3.6.15/x64/lib/python3.6/site-packages (from mnist) (1.19.5)\r\n"
     ]
    },
    {
     "name": "stdout",
     "output_type": "stream",
     "text": [
      "Installing collected packages: mnist\r\n",
      "Successfully installed mnist-0.2.2\r\n"
     ]
    }
   ],
   "source": [
    "!pip install mnist"
   ]
  },
  {
   "cell_type": "markdown",
   "id": "69df9c9a",
   "metadata": {
    "papermill": {
     "duration": 0.024965,
     "end_time": "2022-07-24T00:43:20.948608",
     "exception": false,
     "start_time": "2022-07-24T00:43:20.923643",
     "status": "completed"
    },
    "tags": []
   },
   "source": [
    "## Preparing the Data"
   ]
  },
  {
   "cell_type": "code",
   "execution_count": 4,
   "id": "7f69d806",
   "metadata": {
    "execution": {
     "iopub.execute_input": "2022-07-24T00:43:21.004885Z",
     "iopub.status.busy": "2022-07-24T00:43:21.004296Z",
     "iopub.status.idle": "2022-07-24T00:43:21.019619Z",
     "shell.execute_reply": "2022-07-24T00:43:21.019159Z"
    },
    "papermill": {
     "duration": 0.046374,
     "end_time": "2022-07-24T00:43:21.019724",
     "exception": false,
     "start_time": "2022-07-24T00:43:20.973350",
     "status": "completed"
    },
    "tags": []
   },
   "outputs": [],
   "source": [
    "import mnist"
   ]
  },
  {
   "cell_type": "code",
   "execution_count": 5,
   "id": "a411e44f",
   "metadata": {
    "execution": {
     "iopub.execute_input": "2022-07-24T00:43:21.073659Z",
     "iopub.status.busy": "2022-07-24T00:43:21.073086Z",
     "iopub.status.idle": "2022-07-24T00:43:21.728465Z",
     "shell.execute_reply": "2022-07-24T00:43:21.727534Z"
    },
    "papermill": {
     "duration": 0.683873,
     "end_time": "2022-07-24T00:43:21.728593",
     "exception": false,
     "start_time": "2022-07-24T00:43:21.044720",
     "status": "completed"
    },
    "tags": []
   },
   "outputs": [],
   "source": [
    "train_images = mnist.train_images()\n",
    "train_labels = mnist.train_labels()"
   ]
  },
  {
   "cell_type": "code",
   "execution_count": 6,
   "id": "dceab3a5",
   "metadata": {
    "execution": {
     "iopub.execute_input": "2022-07-24T00:43:21.785943Z",
     "iopub.status.busy": "2022-07-24T00:43:21.785352Z",
     "iopub.status.idle": "2022-07-24T00:43:21.798061Z",
     "shell.execute_reply": "2022-07-24T00:43:21.798507Z"
    },
    "papermill": {
     "duration": 0.044944,
     "end_time": "2022-07-24T00:43:21.798632",
     "exception": false,
     "start_time": "2022-07-24T00:43:21.753688",
     "status": "completed"
    },
    "tags": []
   },
   "outputs": [
    {
     "data": {
      "text/plain": [
       "((60000, 28, 28), (60000,))"
      ]
     },
     "execution_count": 6,
     "metadata": {},
     "output_type": "execute_result"
    }
   ],
   "source": [
    "train_images.shape, train_labels.shape"
   ]
  },
  {
   "cell_type": "code",
   "execution_count": 7,
   "id": "f50dc2bb",
   "metadata": {
    "execution": {
     "iopub.execute_input": "2022-07-24T00:43:21.853176Z",
     "iopub.status.busy": "2022-07-24T00:43:21.852606Z",
     "iopub.status.idle": "2022-07-24T00:43:22.004658Z",
     "shell.execute_reply": "2022-07-24T00:43:22.005129Z"
    },
    "papermill": {
     "duration": 0.181415,
     "end_time": "2022-07-24T00:43:22.005265",
     "exception": false,
     "start_time": "2022-07-24T00:43:21.823850",
     "status": "completed"
    },
    "tags": []
   },
   "outputs": [],
   "source": [
    "test_images = mnist.test_images()\n",
    "test_labels = mnist.test_labels()"
   ]
  },
  {
   "cell_type": "code",
   "execution_count": 8,
   "id": "fc38cf1b",
   "metadata": {
    "execution": {
     "iopub.execute_input": "2022-07-24T00:43:22.059700Z",
     "iopub.status.busy": "2022-07-24T00:43:22.059135Z",
     "iopub.status.idle": "2022-07-24T00:43:22.073283Z",
     "shell.execute_reply": "2022-07-24T00:43:22.072738Z"
    },
    "papermill": {
     "duration": 0.042667,
     "end_time": "2022-07-24T00:43:22.073386",
     "exception": false,
     "start_time": "2022-07-24T00:43:22.030719",
     "status": "completed"
    },
    "tags": []
   },
   "outputs": [
    {
     "data": {
      "text/plain": [
       "((10000, 28, 28), (10000,))"
      ]
     },
     "execution_count": 8,
     "metadata": {},
     "output_type": "execute_result"
    }
   ],
   "source": [
    "test_images.shape, test_labels.shape"
   ]
  },
  {
   "cell_type": "code",
   "execution_count": 9,
   "id": "f9ed8fe0",
   "metadata": {
    "execution": {
     "iopub.execute_input": "2022-07-24T00:43:22.132967Z",
     "iopub.status.busy": "2022-07-24T00:43:22.132387Z",
     "iopub.status.idle": "2022-07-24T00:43:22.276022Z",
     "shell.execute_reply": "2022-07-24T00:43:22.276459Z"
    },
    "papermill": {
     "duration": 0.173634,
     "end_time": "2022-07-24T00:43:22.276596",
     "exception": false,
     "start_time": "2022-07-24T00:43:22.102962",
     "status": "completed"
    },
    "tags": []
   },
   "outputs": [
    {
     "name": "stdout",
     "output_type": "stream",
     "text": [
      "2\n"
     ]
    },
    {
     "data": {
      "text/plain": [
       "<matplotlib.image.AxesImage at 0x7ff581ef74a8>"
      ]
     },
     "execution_count": 9,
     "metadata": {},
     "output_type": "execute_result"
    },
    {
     "data": {
      "image/png": "[encoded data removed]",
      "text/plain": [
       "<Figure size 432x288 with 1 Axes>"
      ]
     },
     "metadata": {
      "needs_background": "light"
     },
     "output_type": "display_data"
    }
   ],
   "source": [
    "image_index = 7776 # You may select anything up to 60,000\n",
    "print(train_labels[image_index]) \n",
    "plt.imshow(train_images[image_index], cmap='Greys')"
   ]
  },
  {
   "cell_type": "markdown",
   "id": "a8d2388d",
   "metadata": {
    "papermill": {
     "duration": 0.026771,
     "end_time": "2022-07-24T00:43:22.330766",
     "exception": false,
     "start_time": "2022-07-24T00:43:22.303995",
     "status": "completed"
    },
    "tags": []
   },
   "source": [
    "## Filter data to get 3 and 8 out"
   ]
  },
  {
   "cell_type": "code",
   "execution_count": 10,
   "id": "776f7fc7",
   "metadata": {
    "execution": {
     "iopub.execute_input": "2022-07-24T00:43:22.391307Z",
     "iopub.status.busy": "2022-07-24T00:43:22.390723Z",
     "iopub.status.idle": "2022-07-24T00:43:22.405025Z",
     "shell.execute_reply": "2022-07-24T00:43:22.405453Z"
    },
    "papermill": {
     "duration": 0.048314,
     "end_time": "2022-07-24T00:43:22.405581",
     "exception": false,
     "start_time": "2022-07-24T00:43:22.357267",
     "status": "completed"
    },
    "tags": []
   },
   "outputs": [],
   "source": [
    "train_filter = np.where((train_labels == 3 ) | (train_labels == 8))\n",
    "test_filter = np.where((test_labels == 3) | (test_labels == 8))\n",
    "X_train, y_train = train_images[train_filter], train_labels[train_filter]\n",
    "X_test, y_test = test_images[test_filter], test_labels[test_filter]"
   ]
  },
  {
   "cell_type": "markdown",
   "id": "948f0b7e",
   "metadata": {
    "papermill": {
     "duration": 0.026468,
     "end_time": "2022-07-24T00:43:22.458732",
     "exception": false,
     "start_time": "2022-07-24T00:43:22.432264",
     "status": "completed"
    },
    "tags": []
   },
   "source": [
    "We normalize the pizel values in the 0 to 1 range"
   ]
  },
  {
   "cell_type": "code",
   "execution_count": 11,
   "id": "ee4c2166",
   "metadata": {
    "execution": {
     "iopub.execute_input": "2022-07-24T00:43:22.520642Z",
     "iopub.status.busy": "2022-07-24T00:43:22.520057Z",
     "iopub.status.idle": "2022-07-24T00:43:22.602726Z",
     "shell.execute_reply": "2022-07-24T00:43:22.603235Z"
    },
    "papermill": {
     "duration": 0.112932,
     "end_time": "2022-07-24T00:43:22.603370",
     "exception": false,
     "start_time": "2022-07-24T00:43:22.490438",
     "status": "completed"
    },
    "tags": []
   },
   "outputs": [],
   "source": [
    "X_train = X_train/255.\n",
    "X_test = X_test/255."
   ]
  },
  {
   "cell_type": "markdown",
   "id": "ddcf4fab",
   "metadata": {
    "papermill": {
     "duration": 0.026535,
     "end_time": "2022-07-24T00:43:22.657067",
     "exception": false,
     "start_time": "2022-07-24T00:43:22.630532",
     "status": "completed"
    },
    "tags": []
   },
   "source": [
    "And setup the labels as 1 (when the digit is 3) and 0 (when the digit is 8)"
   ]
  },
  {
   "cell_type": "code",
   "execution_count": 12,
   "id": "7dc908f2",
   "metadata": {
    "execution": {
     "iopub.execute_input": "2022-07-24T00:43:22.713849Z",
     "iopub.status.busy": "2022-07-24T00:43:22.713279Z",
     "iopub.status.idle": "2022-07-24T00:43:22.726175Z",
     "shell.execute_reply": "2022-07-24T00:43:22.726605Z"
    },
    "papermill": {
     "duration": 0.043083,
     "end_time": "2022-07-24T00:43:22.726727",
     "exception": false,
     "start_time": "2022-07-24T00:43:22.683644",
     "status": "completed"
    },
    "tags": []
   },
   "outputs": [],
   "source": [
    "y_train = 1*(y_train==3)\n",
    "y_test = 1*(y_test==3)"
   ]
  },
  {
   "cell_type": "code",
   "execution_count": 13,
   "id": "01e4e969",
   "metadata": {
    "execution": {
     "iopub.execute_input": "2022-07-24T00:43:22.785364Z",
     "iopub.status.busy": "2022-07-24T00:43:22.782699Z",
     "iopub.status.idle": "2022-07-24T00:43:22.798339Z",
     "shell.execute_reply": "2022-07-24T00:43:22.798883Z"
    },
    "papermill": {
     "duration": 0.045583,
     "end_time": "2022-07-24T00:43:22.799006",
     "exception": false,
     "start_time": "2022-07-24T00:43:22.753423",
     "status": "completed"
    },
    "tags": []
   },
   "outputs": [
    {
     "data": {
      "text/plain": [
       "((11982, 28, 28), (1984, 28, 28))"
      ]
     },
     "execution_count": 13,
     "metadata": {},
     "output_type": "execute_result"
    }
   ],
   "source": [
    "X_train.shape, X_test.shape"
   ]
  },
  {
   "cell_type": "markdown",
   "id": "5ccf3f85",
   "metadata": {
    "papermill": {
     "duration": 0.026688,
     "end_time": "2022-07-24T00:43:22.852698",
     "exception": false,
     "start_time": "2022-07-24T00:43:22.826010",
     "status": "completed"
    },
    "tags": []
   },
   "source": [
    "We reshape the data to flatten the image pixels into a set of features or co-variates:"
   ]
  },
  {
   "cell_type": "code",
   "execution_count": 14,
   "id": "5286a4a3",
   "metadata": {
    "execution": {
     "iopub.execute_input": "2022-07-24T00:43:22.918444Z",
     "iopub.status.busy": "2022-07-24T00:43:22.917871Z",
     "iopub.status.idle": "2022-07-24T00:43:22.932012Z",
     "shell.execute_reply": "2022-07-24T00:43:22.932452Z"
    },
    "papermill": {
     "duration": 0.052931,
     "end_time": "2022-07-24T00:43:22.932585",
     "exception": false,
     "start_time": "2022-07-24T00:43:22.879654",
     "status": "completed"
    },
    "tags": []
   },
   "outputs": [
    {
     "data": {
      "text/plain": [
       "((11982, 784), (1984, 784))"
      ]
     },
     "execution_count": 14,
     "metadata": {},
     "output_type": "execute_result"
    }
   ],
   "source": [
    "X_train = X_train.reshape(X_train.shape[0], -1)\n",
    "X_test = X_test.reshape(X_test.shape[0], -1)\n",
    "X_train.shape, X_test.shape"
   ]
  },
  {
   "cell_type": "code",
   "execution_count": 15,
   "id": "73c5f88a",
   "metadata": {
    "execution": {
     "iopub.execute_input": "2022-07-24T00:43:22.993646Z",
     "iopub.status.busy": "2022-07-24T00:43:22.993062Z",
     "iopub.status.idle": "2022-07-24T00:43:23.014502Z",
     "shell.execute_reply": "2022-07-24T00:43:23.014045Z"
    },
    "papermill": {
     "duration": 0.054905,
     "end_time": "2022-07-24T00:43:23.014611",
     "exception": false,
     "start_time": "2022-07-24T00:43:22.959706",
     "status": "completed"
    },
    "tags": []
   },
   "outputs": [],
   "source": [
    "#Impoting functions from 'Kudzu'\n",
    "from kudzu.model import Model\n",
    "from kudzu.train import Learner\n",
    "from kudzu.optim import GD\n",
    "from kudzu.data import Data, Sampler,Dataloader\n",
    "\n",
    "from kudzu.callbacks import AccCallback\n",
    "from kudzu.callbacks import ClfCallback\n",
    "\n",
    "from kudzu.loss import MSE\n",
    "\n",
    "from kudzu.layer import Sigmoid,Relu\n",
    "from kudzu.layer import Affine"
   ]
  },
  {
   "cell_type": "markdown",
   "id": "bc01172a",
   "metadata": {
    "papermill": {
     "duration": 0.027006,
     "end_time": "2022-07-24T00:43:23.068771",
     "exception": false,
     "start_time": "2022-07-24T00:43:23.041765",
     "status": "completed"
    },
    "tags": []
   },
   "source": [
    "### Let us create a `Config` class, to store important parameters. \n",
    "This class essentially plays the role of a dictionary."
   ]
  },
  {
   "cell_type": "code",
   "execution_count": 16,
   "id": "978281aa",
   "metadata": {
    "execution": {
     "iopub.execute_input": "2022-07-24T00:43:23.127218Z",
     "iopub.status.busy": "2022-07-24T00:43:23.126631Z",
     "iopub.status.idle": "2022-07-24T00:43:23.140112Z",
     "shell.execute_reply": "2022-07-24T00:43:23.139640Z"
    },
    "papermill": {
     "duration": 0.044142,
     "end_time": "2022-07-24T00:43:23.140218",
     "exception": false,
     "start_time": "2022-07-24T00:43:23.096076",
     "status": "completed"
    },
    "tags": []
   },
   "outputs": [],
   "source": [
    "class Config:\n",
    "    pass\n",
    "config = Config()\n",
    "config.lr = 0.001\n",
    "config.num_epochs = 250\n",
    "config.bs = 50"
   ]
  },
  {
   "cell_type": "markdown",
   "id": "1385fa59",
   "metadata": {
    "papermill": {
     "duration": 0.026994,
     "end_time": "2022-07-24T00:43:23.194389",
     "exception": false,
     "start_time": "2022-07-24T00:43:23.167395",
     "status": "completed"
    },
    "tags": []
   },
   "source": [
    "### Running Models with the Training data\n",
    "Details about the network layers:\n",
    "- A first affine layer has 784 inputs and does 100 affine transforms. These are followed by a Relu\n",
    "- A second affine layer has 100 inputs from the 100 activations of the past layer, and does 100 affine transforms. These are followed by a Relu\n",
    "- A third affine layer has 100 activations and does 2 affine transformations to create an embedding for visualization. There is no non-linearity here.\n",
    "- A final \"logistic regression\" which has an affine transform from 2 inputs to 1 output, which is squeezed through a sigmoid.\n"
   ]
  },
  {
   "cell_type": "code",
   "execution_count": 17,
   "id": "2b9c66db",
   "metadata": {
    "execution": {
     "iopub.execute_input": "2022-07-24T00:43:23.252577Z",
     "iopub.status.busy": "2022-07-24T00:43:23.251992Z",
     "iopub.status.idle": "2022-07-24T00:43:23.265599Z",
     "shell.execute_reply": "2022-07-24T00:43:23.265142Z"
    },
    "papermill": {
     "duration": 0.044232,
     "end_time": "2022-07-24T00:43:23.265703",
     "exception": false,
     "start_time": "2022-07-24T00:43:23.221471",
     "status": "completed"
    },
    "tags": []
   },
   "outputs": [],
   "source": [
    "data = Data(X_train, y_train.reshape(-1,1))\n",
    "sampler = Sampler(data, config.bs, shuffle=True)\n",
    "\n",
    "dl = Dataloader(data, sampler)\n",
    "\n",
    "opt = GD(config.lr)\n",
    "loss = MSE()"
   ]
  },
  {
   "cell_type": "code",
   "execution_count": 18,
   "id": "b275e4c2",
   "metadata": {
    "execution": {
     "iopub.execute_input": "2022-07-24T00:43:23.323599Z",
     "iopub.status.busy": "2022-07-24T00:43:23.323049Z",
     "iopub.status.idle": "2022-07-24T00:43:23.335926Z",
     "shell.execute_reply": "2022-07-24T00:43:23.335357Z"
    },
    "papermill": {
     "duration": 0.043144,
     "end_time": "2022-07-24T00:43:23.336029",
     "exception": false,
     "start_time": "2022-07-24T00:43:23.292885",
     "status": "completed"
    },
    "tags": []
   },
   "outputs": [],
   "source": [
    "training_data_x = X_train\n",
    "testing_data_x = X_test\n",
    "training_data_y = y_train.reshape(-1,1)\n",
    "testing_data_y = y_test.reshape(-1,1)"
   ]
  },
  {
   "cell_type": "code",
   "execution_count": 19,
   "id": "76951160",
   "metadata": {
    "execution": {
     "iopub.execute_input": "2022-07-24T00:43:23.393025Z",
     "iopub.status.busy": "2022-07-24T00:43:23.392441Z",
     "iopub.status.idle": "2022-07-24T00:43:23.416434Z",
     "shell.execute_reply": "2022-07-24T00:43:23.415969Z"
    },
    "papermill": {
     "duration": 0.053351,
     "end_time": "2022-07-24T00:43:23.416548",
     "exception": false,
     "start_time": "2022-07-24T00:43:23.363197",
     "status": "completed"
    },
    "tags": []
   },
   "outputs": [
    {
     "name": "stdout",
     "output_type": "stream",
     "text": [
      "xavier\n",
      "xavier\n",
      "xavier\n",
      "xavier\n",
      "xavier\n"
     ]
    }
   ],
   "source": [
    "layers = [Affine(\"first\", 784, 100), Relu(\"first\"), Affine(\"second\", 100, 100), Relu(\"second\"), Affine(\"third\", 100, 2), Affine(\"last\", 2, 1), Sigmoid(\"last\")]\n",
    "model_nn = Model(layers)\n",
    "model_lr = Model([Affine(\"logits\", 784, 1), Sigmoid(\"sigmoid\")])"
   ]
  },
  {
   "cell_type": "code",
   "execution_count": 20,
   "id": "6eede77a",
   "metadata": {
    "execution": {
     "iopub.execute_input": "2022-07-24T00:43:23.480702Z",
     "iopub.status.busy": "2022-07-24T00:43:23.475123Z",
     "iopub.status.idle": "2022-07-24T00:43:23.491104Z",
     "shell.execute_reply": "2022-07-24T00:43:23.491551Z"
    },
    "papermill": {
     "duration": 0.047436,
     "end_time": "2022-07-24T00:43:23.491673",
     "exception": false,
     "start_time": "2022-07-24T00:43:23.444237",
     "status": "completed"
    },
    "tags": []
   },
   "outputs": [],
   "source": [
    "nn_learner = Learner(loss, model_nn, opt, config.num_epochs)\n",
    "acc_nn = ClfCallback(nn_learner, config.bs, training_data_x , testing_data_x, training_data_y, testing_data_y)\n",
    "nn_learner.set_callbacks([acc_nn])"
   ]
  },
  {
   "cell_type": "code",
   "execution_count": 21,
   "id": "877b6cc7",
   "metadata": {
    "execution": {
     "iopub.execute_input": "2022-07-24T00:43:23.550533Z",
     "iopub.status.busy": "2022-07-24T00:43:23.549971Z",
     "iopub.status.idle": "2022-07-24T00:43:23.562886Z",
     "shell.execute_reply": "2022-07-24T00:43:23.562431Z"
    },
    "papermill": {
     "duration": 0.043697,
     "end_time": "2022-07-24T00:43:23.562987",
     "exception": false,
     "start_time": "2022-07-24T00:43:23.519290",
     "status": "completed"
    },
    "tags": []
   },
   "outputs": [],
   "source": [
    "lr_learner = Learner(loss, model_lr, opt, config.num_epochs)\n",
    "acc_lr = ClfCallback(lr_learner, config.bs, training_data_x , testing_data_x, training_data_y, testing_data_y)\n",
    "lr_learner.set_callbacks([acc_lr])"
   ]
  },
  {
   "cell_type": "code",
   "execution_count": 22,
   "id": "d9b133c3",
   "metadata": {
    "execution": {
     "iopub.execute_input": "2022-07-24T00:43:23.629715Z",
     "iopub.status.busy": "2022-07-24T00:43:23.629151Z",
     "iopub.status.idle": "2022-07-24T00:46:24.806297Z",
     "shell.execute_reply": "2022-07-24T00:46:24.807146Z"
    },
    "papermill": {
     "duration": 181.208574,
     "end_time": "2022-07-24T00:46:24.807297",
     "exception": false,
     "start_time": "2022-07-24T00:43:23.598723",
     "status": "completed"
    },
    "tags": []
   },
   "outputs": [
    {
     "name": "stdout",
     "output_type": "stream",
     "text": [
      "Epoch 0, Loss 0.2396\n",
      "Training Accuracy: 0.7856, Testing Accuracy: 0.7782\n",
      "\n"
     ]
    },
    {
     "name": "stdout",
     "output_type": "stream",
     "text": [
      "Epoch 10, Loss 0.0451\n",
      "Training Accuracy: 0.9529, Testing Accuracy: 0.9567\n",
      "\n"
     ]
    },
    {
     "name": "stdout",
     "output_type": "stream",
     "text": [
      "Epoch 20, Loss 0.0345\n",
      "Training Accuracy: 0.9614, Testing Accuracy: 0.9662\n",
      "\n"
     ]
    },
    {
     "name": "stdout",
     "output_type": "stream",
     "text": [
      "Epoch 30, Loss 0.0301\n",
      "Training Accuracy: 0.9657, Testing Accuracy: 0.9682\n",
      "\n"
     ]
    },
    {
     "name": "stdout",
     "output_type": "stream",
     "text": [
      "Epoch 40, Loss 0.0273\n",
      "Training Accuracy: 0.9686, Testing Accuracy: 0.9703\n",
      "\n"
     ]
    },
    {
     "name": "stdout",
     "output_type": "stream",
     "text": [
      "Epoch 50, Loss 0.0252\n",
      "Training Accuracy: 0.9709, Testing Accuracy: 0.9718\n",
      "\n"
     ]
    },
    {
     "name": "stdout",
     "output_type": "stream",
     "text": [
      "Epoch 60, Loss 0.0237\n",
      "Training Accuracy: 0.9734, Testing Accuracy: 0.9718\n",
      "\n"
     ]
    },
    {
     "name": "stdout",
     "output_type": "stream",
     "text": [
      "Epoch 70, Loss 0.0223\n",
      "Training Accuracy: 0.9750, Testing Accuracy: 0.9743\n",
      "\n"
     ]
    },
    {
     "name": "stdout",
     "output_type": "stream",
     "text": [
      "Epoch 80, Loss 0.0212\n",
      "Training Accuracy: 0.9767, Testing Accuracy: 0.9758\n",
      "\n"
     ]
    },
    {
     "name": "stdout",
     "output_type": "stream",
     "text": [
      "Epoch 90, Loss 0.0202\n",
      "Training Accuracy: 0.9780, Testing Accuracy: 0.9763\n",
      "\n"
     ]
    },
    {
     "name": "stdout",
     "output_type": "stream",
     "text": [
      "Epoch 100, Loss 0.0193\n",
      "Training Accuracy: 0.9798, Testing Accuracy: 0.9768\n",
      "\n"
     ]
    },
    {
     "name": "stdout",
     "output_type": "stream",
     "text": [
      "Epoch 110, Loss 0.0186\n",
      "Training Accuracy: 0.9806, Testing Accuracy: 0.9778\n",
      "\n"
     ]
    },
    {
     "name": "stdout",
     "output_type": "stream",
     "text": [
      "Epoch 120, Loss 0.0178\n",
      "Training Accuracy: 0.9815, Testing Accuracy: 0.9793\n",
      "\n"
     ]
    },
    {
     "name": "stdout",
     "output_type": "stream",
     "text": [
      "Epoch 130, Loss 0.0172\n",
      "Training Accuracy: 0.9824, Testing Accuracy: 0.9798\n",
      "\n"
     ]
    },
    {
     "name": "stdout",
     "output_type": "stream",
     "text": [
      "Epoch 140, Loss 0.0166\n",
      "Training Accuracy: 0.9827, Testing Accuracy: 0.9798\n",
      "\n"
     ]
    },
    {
     "name": "stdout",
     "output_type": "stream",
     "text": [
      "Epoch 150, Loss 0.016\n",
      "Training Accuracy: 0.9838, Testing Accuracy: 0.9803\n",
      "\n"
     ]
    },
    {
     "name": "stdout",
     "output_type": "stream",
     "text": [
      "Epoch 160, Loss 0.0155\n",
      "Training Accuracy: 0.9842, Testing Accuracy: 0.9824\n",
      "\n"
     ]
    },
    {
     "name": "stdout",
     "output_type": "stream",
     "text": [
      "Epoch 170, Loss 0.015\n",
      "Training Accuracy: 0.9852, Testing Accuracy: 0.9824\n",
      "\n"
     ]
    },
    {
     "name": "stdout",
     "output_type": "stream",
     "text": [
      "Epoch 180, Loss 0.0145\n",
      "Training Accuracy: 0.9855, Testing Accuracy: 0.9824\n",
      "\n"
     ]
    },
    {
     "name": "stdout",
     "output_type": "stream",
     "text": [
      "Epoch 190, Loss 0.014\n",
      "Training Accuracy: 0.9859, Testing Accuracy: 0.9834\n",
      "\n"
     ]
    },
    {
     "name": "stdout",
     "output_type": "stream",
     "text": [
      "Epoch 200, Loss 0.0136\n",
      "Training Accuracy: 0.9864, Testing Accuracy: 0.9834\n",
      "\n"
     ]
    },
    {
     "name": "stdout",
     "output_type": "stream",
     "text": [
      "Epoch 210, Loss 0.0132\n",
      "Training Accuracy: 0.9871, Testing Accuracy: 0.9834\n",
      "\n"
     ]
    },
    {
     "name": "stdout",
     "output_type": "stream",
     "text": [
      "Epoch 220, Loss 0.0128\n",
      "Training Accuracy: 0.9873, Testing Accuracy: 0.9834\n",
      "\n"
     ]
    },
    {
     "name": "stdout",
     "output_type": "stream",
     "text": [
      "Epoch 230, Loss 0.0124\n",
      "Training Accuracy: 0.9876, Testing Accuracy: 0.9839\n",
      "\n"
     ]
    },
    {
     "name": "stdout",
     "output_type": "stream",
     "text": [
      "Epoch 240, Loss 0.0121\n",
      "Training Accuracy: 0.9881, Testing Accuracy: 0.9839\n",
      "\n"
     ]
    },
    {
     "data": {
      "text/plain": [
       "0.0014865187342131682"
      ]
     },
     "execution_count": 22,
     "metadata": {},
     "output_type": "execute_result"
    }
   ],
   "source": [
    "nn_learner.train_loop(dl)"
   ]
  },
  {
   "cell_type": "code",
   "execution_count": 23,
   "id": "e0163366",
   "metadata": {
    "execution": {
     "iopub.execute_input": "2022-07-24T00:46:24.892794Z",
     "iopub.status.busy": "2022-07-24T00:46:24.892222Z",
     "iopub.status.idle": "2022-07-24T00:46:37.401711Z",
     "shell.execute_reply": "2022-07-24T00:46:37.402537Z"
    },
    "papermill": {
     "duration": 12.558254,
     "end_time": "2022-07-24T00:46:37.402675",
     "exception": false,
     "start_time": "2022-07-24T00:46:24.844421",
     "status": "completed"
    },
    "tags": []
   },
   "outputs": [
    {
     "name": "stdout",
     "output_type": "stream",
     "text": [
      "Epoch 0, Loss 0.2673\n",
      "Training Accuracy: 0.5744, Testing Accuracy: 0.5963\n",
      "\n"
     ]
    },
    {
     "name": "stdout",
     "output_type": "stream",
     "text": [
      "Epoch 10, Loss 0.1082\n",
      "Training Accuracy: 0.9009, Testing Accuracy: 0.9138\n",
      "\n"
     ]
    },
    {
     "name": "stdout",
     "output_type": "stream",
     "text": [
      "Epoch 20, Loss 0.0815\n",
      "Training Accuracy: 0.9259, Testing Accuracy: 0.9380\n",
      "\n"
     ]
    },
    {
     "name": "stdout",
     "output_type": "stream",
     "text": [
      "Epoch 30, Loss 0.0696\n",
      "Training Accuracy: 0.9357, Testing Accuracy: 0.9481\n",
      "\n"
     ]
    },
    {
     "name": "stdout",
     "output_type": "stream",
     "text": [
      "Epoch 40, Loss 0.0626\n",
      "Training Accuracy: 0.9410, Testing Accuracy: 0.9516\n",
      "\n"
     ]
    },
    {
     "name": "stdout",
     "output_type": "stream",
     "text": [
      "Epoch 50, Loss 0.0579\n",
      "Training Accuracy: 0.9439, Testing Accuracy: 0.9551\n",
      "\n"
     ]
    },
    {
     "name": "stdout",
     "output_type": "stream",
     "text": [
      "Epoch 60, Loss 0.0544\n",
      "Training Accuracy: 0.9463, Testing Accuracy: 0.9577\n",
      "\n"
     ]
    },
    {
     "name": "stdout",
     "output_type": "stream",
     "text": [
      "Epoch 70, Loss 0.0518\n",
      "Training Accuracy: 0.9483, Testing Accuracy: 0.9587\n",
      "\n"
     ]
    },
    {
     "name": "stdout",
     "output_type": "stream",
     "text": [
      "Epoch 80, Loss 0.0497\n",
      "Training Accuracy: 0.9502, Testing Accuracy: 0.9592\n",
      "\n"
     ]
    },
    {
     "name": "stdout",
     "output_type": "stream",
     "text": [
      "Epoch 90, Loss 0.0479\n",
      "Training Accuracy: 0.9515, Testing Accuracy: 0.9597\n",
      "\n"
     ]
    },
    {
     "name": "stdout",
     "output_type": "stream",
     "text": [
      "Epoch 100, Loss 0.0465\n",
      "Training Accuracy: 0.9528, Testing Accuracy: 0.9612\n",
      "\n"
     ]
    },
    {
     "name": "stdout",
     "output_type": "stream",
     "text": [
      "Epoch 110, Loss 0.0452\n",
      "Training Accuracy: 0.9539, Testing Accuracy: 0.9612\n",
      "\n"
     ]
    },
    {
     "name": "stdout",
     "output_type": "stream",
     "text": [
      "Epoch 120, Loss 0.0441\n",
      "Training Accuracy: 0.9543, Testing Accuracy: 0.9617\n",
      "\n"
     ]
    },
    {
     "name": "stdout",
     "output_type": "stream",
     "text": [
      "Epoch 130, Loss 0.0432\n",
      "Training Accuracy: 0.9548, Testing Accuracy: 0.9627\n",
      "\n"
     ]
    },
    {
     "name": "stdout",
     "output_type": "stream",
     "text": [
      "Epoch 140, Loss 0.0423\n",
      "Training Accuracy: 0.9558, Testing Accuracy: 0.9637\n",
      "\n"
     ]
    },
    {
     "name": "stdout",
     "output_type": "stream",
     "text": [
      "Epoch 150, Loss 0.0416\n",
      "Training Accuracy: 0.9563, Testing Accuracy: 0.9647\n",
      "\n"
     ]
    },
    {
     "name": "stdout",
     "output_type": "stream",
     "text": [
      "Epoch 160, Loss 0.0409\n",
      "Training Accuracy: 0.9569, Testing Accuracy: 0.9652\n",
      "\n"
     ]
    },
    {
     "name": "stdout",
     "output_type": "stream",
     "text": [
      "Epoch 170, Loss 0.0403\n",
      "Training Accuracy: 0.9576, Testing Accuracy: 0.9657\n",
      "\n"
     ]
    },
    {
     "name": "stdout",
     "output_type": "stream",
     "text": [
      "Epoch 180, Loss 0.0397\n",
      "Training Accuracy: 0.9580, Testing Accuracy: 0.9672\n",
      "\n"
     ]
    },
    {
     "name": "stdout",
     "output_type": "stream",
     "text": [
      "Epoch 190, Loss 0.0391\n",
      "Training Accuracy: 0.9584, Testing Accuracy: 0.9672\n",
      "\n"
     ]
    },
    {
     "name": "stdout",
     "output_type": "stream",
     "text": [
      "Epoch 200, Loss 0.0387\n",
      "Training Accuracy: 0.9589, Testing Accuracy: 0.9672\n",
      "\n"
     ]
    },
    {
     "name": "stdout",
     "output_type": "stream",
     "text": [
      "Epoch 210, Loss 0.0382\n",
      "Training Accuracy: 0.9596, Testing Accuracy: 0.9667\n",
      "\n"
     ]
    },
    {
     "name": "stdout",
     "output_type": "stream",
     "text": [
      "Epoch 220, Loss 0.0378\n",
      "Training Accuracy: 0.9599, Testing Accuracy: 0.9662\n",
      "\n"
     ]
    },
    {
     "name": "stdout",
     "output_type": "stream",
     "text": [
      "Epoch 230, Loss 0.0374\n",
      "Training Accuracy: 0.9602, Testing Accuracy: 0.9662\n",
      "\n"
     ]
    },
    {
     "name": "stdout",
     "output_type": "stream",
     "text": [
      "Epoch 240, Loss 0.037\n",
      "Training Accuracy: 0.9602, Testing Accuracy: 0.9667\n",
      "\n"
     ]
    },
    {
     "data": {
      "text/plain": [
       "0.017656137894497614"
      ]
     },
     "execution_count": 23,
     "metadata": {},
     "output_type": "execute_result"
    }
   ],
   "source": [
    "lr_learner.train_loop(dl)"
   ]
  },
  {
   "cell_type": "code",
   "execution_count": 24,
   "id": "ca410940",
   "metadata": {
    "execution": {
     "iopub.execute_input": "2022-07-24T00:46:37.501240Z",
     "iopub.status.busy": "2022-07-24T00:46:37.500677Z",
     "iopub.status.idle": "2022-07-24T00:46:37.726695Z",
     "shell.execute_reply": "2022-07-24T00:46:37.726184Z"
    },
    "papermill": {
     "duration": 0.277932,
     "end_time": "2022-07-24T00:46:37.726806",
     "exception": false,
     "start_time": "2022-07-24T00:46:37.448874",
     "status": "completed"
    },
    "tags": []
   },
   "outputs": [
    {
     "data": {
      "text/plain": [
       "<matplotlib.legend.Legend at 0x7ff581a54be0>"
      ]
     },
     "execution_count": 24,
     "metadata": {},
     "output_type": "execute_result"
    },
    {
     "data": {
      "image/png": "[encoded data removed]",
      "text/plain": [
       "<Figure size 1080x720 with 1 Axes>"
      ]
     },
     "metadata": {
      "needs_background": "light"
     },
     "output_type": "display_data"
    }
   ],
   "source": [
    "#comparing the results of NN and LR\n",
    "plt.figure(figsize=(15,10))\n",
    "\n",
    "# Neural Network plots\n",
    "plt.plot(acc_nn.accuracies, 'r-', label = \"Training Accuracies - NN\")\n",
    "plt.plot(acc_nn.test_accuracies, 'g-', label = \"Testing Accuracies - NN\")\n",
    "\n",
    "# Logistic Regression plots\n",
    "plt.plot(acc_lr.accuracies, 'k-', label = \"Training Accuracies - LR\")\n",
    "plt.plot(acc_lr.test_accuracies, 'b-', label = \"Testing Accuracies - LR\")\n",
    "plt.legend()"
   ]
  },
  {
   "cell_type": "markdown",
   "id": "80dfb35c",
   "metadata": {
    "papermill": {
     "duration": 0.04223,
     "end_time": "2022-07-24T00:46:37.811771",
     "exception": false,
     "start_time": "2022-07-24T00:46:37.769541",
     "status": "completed"
    },
    "tags": []
   },
   "source": [
    "#### Plotting the outputs of this layer of the NN.\n"
   ]
  },
  {
   "cell_type": "code",
   "execution_count": 25,
   "id": "45eb2ff5",
   "metadata": {
    "execution": {
     "iopub.execute_input": "2022-07-24T00:46:37.901020Z",
     "iopub.status.busy": "2022-07-24T00:46:37.900456Z",
     "iopub.status.idle": "2022-07-24T00:46:37.937463Z",
     "shell.execute_reply": "2022-07-24T00:46:37.937013Z"
    },
    "papermill": {
     "duration": 0.08358,
     "end_time": "2022-07-24T00:46:37.937570",
     "exception": false,
     "start_time": "2022-07-24T00:46:37.853990",
     "status": "completed"
    },
    "tags": []
   },
   "outputs": [],
   "source": [
    "new_model = Model(layers[:-2])\n",
    "testing_plot = new_model(testing_data_x)"
   ]
  },
  {
   "cell_type": "code",
   "execution_count": 26,
   "id": "4c0a5485",
   "metadata": {
    "execution": {
     "iopub.execute_input": "2022-07-24T00:46:38.026629Z",
     "iopub.status.busy": "2022-07-24T00:46:38.026038Z",
     "iopub.status.idle": "2022-07-24T00:46:38.229947Z",
     "shell.execute_reply": "2022-07-24T00:46:38.230379Z"
    },
    "papermill": {
     "duration": 0.250078,
     "end_time": "2022-07-24T00:46:38.230508",
     "exception": false,
     "start_time": "2022-07-24T00:46:37.980430",
     "status": "completed"
    },
    "tags": []
   },
   "outputs": [
    {
     "data": {
      "text/plain": [
       "Text(0.5, 1.0, 'Outputs')"
      ]
     },
     "execution_count": 26,
     "metadata": {},
     "output_type": "execute_result"
    },
    {
     "data": {
      "image/png": "[encoded data removed]",
      "text/plain": [
       "<Figure size 576x504 with 1 Axes>"
      ]
     },
     "metadata": {
      "needs_background": "light"
     },
     "output_type": "display_data"
    }
   ],
   "source": [
    "# Plotting the scatter plot of points and color coding by class\n",
    "plt.figure(figsize=(8,7))\n",
    "plt.scatter(testing_plot[:,0], testing_plot[:,1], alpha = 0.1, c = y_test.ravel());\n",
    "plt.title('Outputs')"
   ]
  },
  {
   "cell_type": "markdown",
   "id": "a74fcf8f",
   "metadata": {
    "papermill": {
     "duration": 0.04875,
     "end_time": "2022-07-24T00:46:38.323429",
     "exception": false,
     "start_time": "2022-07-24T00:46:38.274679",
     "status": "completed"
    },
    "tags": []
   },
   "source": [
    "Probability contours"
   ]
  },
  {
   "cell_type": "code",
   "execution_count": 27,
   "id": "d0afc8e3",
   "metadata": {
    "execution": {
     "iopub.execute_input": "2022-07-24T00:46:38.438222Z",
     "iopub.status.busy": "2022-07-24T00:46:38.437639Z",
     "iopub.status.idle": "2022-07-24T00:46:38.451604Z",
     "shell.execute_reply": "2022-07-24T00:46:38.452421Z"
    },
    "papermill": {
     "duration": 0.084786,
     "end_time": "2022-07-24T00:46:38.452560",
     "exception": false,
     "start_time": "2022-07-24T00:46:38.367774",
     "status": "completed"
    },
    "tags": []
   },
   "outputs": [],
   "source": [
    "model_prob = Model(layers[-2:]) "
   ]
  },
  {
   "cell_type": "code",
   "execution_count": 28,
   "id": "9b96e238",
   "metadata": {
    "execution": {
     "iopub.execute_input": "2022-07-24T00:46:38.545705Z",
     "iopub.status.busy": "2022-07-24T00:46:38.545124Z",
     "iopub.status.idle": "2022-07-24T00:46:38.560305Z",
     "shell.execute_reply": "2022-07-24T00:46:38.560727Z"
    },
    "papermill": {
     "duration": 0.063818,
     "end_time": "2022-07-24T00:46:38.560846",
     "exception": false,
     "start_time": "2022-07-24T00:46:38.497028",
     "status": "completed"
    },
    "tags": []
   },
   "outputs": [],
   "source": [
    "#creating the x and y ranges according to the above generated plot.\n",
    "x_range = np.linspace(-4, 1, 100) \n",
    "y_range = np.linspace(-6, 6, 100) \n",
    "x_grid, y_grid = np.meshgrid(x_range, y_range) # x_grid and y_grig are of size 100 X 100\n",
    "\n",
    "# converting x_grid and y_grid to continuous arrays\n",
    "x_gridflat = np.ravel(x_grid)\n",
    "y_gridflat = np.ravel(y_grid)\n",
    "\n",
    "# The last layer of the current model takes two columns as input. Hence transpose of np.vstack() is required.\n",
    "X = np.vstack((x_gridflat, y_gridflat)).T\n",
    "\n",
    "prob_contour = model_prob(X).reshape(100,100) "
   ]
  },
  {
   "cell_type": "code",
   "execution_count": 29,
   "id": "da72499a",
   "metadata": {
    "execution": {
     "iopub.execute_input": "2022-07-24T00:46:38.657959Z",
     "iopub.status.busy": "2022-07-24T00:46:38.657388Z",
     "iopub.status.idle": "2022-07-24T00:46:38.906990Z",
     "shell.execute_reply": "2022-07-24T00:46:38.906529Z"
    },
    "papermill": {
     "duration": 0.296974,
     "end_time": "2022-07-24T00:46:38.907108",
     "exception": false,
     "start_time": "2022-07-24T00:46:38.610134",
     "status": "completed"
    },
    "tags": []
   },
   "outputs": [
    {
     "data": {
      "image/png": "[encoded data removed]",
      "text/plain": [
       "<Figure size 720x648 with 1 Axes>"
      ]
     },
     "metadata": {
      "needs_background": "light"
     },
     "output_type": "display_data"
    }
   ],
   "source": [
    "plt.figure(figsize=(10,9))\n",
    "plt.scatter(testing_plot[:,0], testing_plot[:,1], alpha = 0.1, c = y_test.ravel())\n",
    "contours = plt.contour(x_grid,y_grid,prob_contour)\n",
    "plt.title('Probability Contours')\n",
    "plt.clabel(contours, inline = True );"
   ]
  },
  {
   "cell_type": "code",
   "execution_count": null,
   "id": "e81b4ac7",
   "metadata": {
    "papermill": {
     "duration": 0.046582,
     "end_time": "2022-07-24T00:46:39.001047",
     "exception": false,
     "start_time": "2022-07-24T00:46:38.954465",
     "status": "completed"
    },
    "tags": []
   },
   "outputs": [],
   "source": []
  }
 ],
 "metadata": {
  "kernelspec": {
   "display_name": "Python 3",
   "language": "python",
   "name": "python3"
  },
  "language_info": {
   "codemirror_mode": {
    "name": "ipython",
    "version": 3
   },
   "file_extension": ".py",
   "mimetype": "text/x-python",
   "name": "python",
   "nbconvert_exporter": "python",
   "pygments_lexer": "ipython3",
   "version": "3.6.15"
  },
  "papermill": {
   "default_parameters": {},
   "duration": 202.031363,
   "end_time": "2022-07-24T00:46:39.369949",
   "environment_variables": {},
   "exception": null,
   "input_path": "2020-08-11-part2.ipynb",
   "output_path": "2020-08-11-part2.ipynb",
   "parameters": {},
   "start_time": "2022-07-24T00:43:17.338586",
   "version": "2.3.3"
  }
 },
 "nbformat": 4,
 "nbformat_minor": 5
}