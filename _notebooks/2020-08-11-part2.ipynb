{
 "cells": [
  {
   "cell_type": "markdown",
   "id": "98380cd3",
   "metadata": {
    "papermill": {
     "duration": 0.028766,
     "end_time": "2021-11-04T10:07:32.434952",
     "exception": false,
     "start_time": "2021-11-04T10:07:32.406186",
     "status": "completed"
    },
    "tags": []
   },
   "source": [
    "# Distinguish Your Own Digits (DYOD)"
   ]
  },
  {
   "cell_type": "markdown",
   "id": "ef31240d",
   "metadata": {
    "papermill": {
     "duration": 0.023681,
     "end_time": "2021-11-04T10:07:32.483265",
     "exception": false,
     "start_time": "2021-11-04T10:07:32.459584",
     "status": "completed"
    },
    "tags": []
   },
   "source": [
    "You are going to write a classifier that distinguishes between the number 3 and number 8."
   ]
  },
  {
   "cell_type": "code",
   "execution_count": 1,
   "id": "b15c8646",
   "metadata": {
    "execution": {
     "iopub.execute_input": "2021-11-04T10:07:32.541250Z",
     "iopub.status.busy": "2021-11-04T10:07:32.540730Z",
     "iopub.status.idle": "2021-11-04T10:07:32.551230Z",
     "shell.execute_reply": "2021-11-04T10:07:32.550802Z"
    },
    "papermill": {
     "duration": 0.044422,
     "end_time": "2021-11-04T10:07:32.551390",
     "exception": false,
     "start_time": "2021-11-04T10:07:32.506968",
     "status": "completed"
    },
    "tags": []
   },
   "outputs": [],
   "source": [
    "%load_ext autoreload\n",
    "%autoreload 2"
   ]
  },
  {
   "cell_type": "code",
   "execution_count": 2,
   "id": "22ef38dc",
   "metadata": {
    "execution": {
     "iopub.execute_input": "2021-11-04T10:07:32.604497Z",
     "iopub.status.busy": "2021-11-04T10:07:32.603975Z",
     "iopub.status.idle": "2021-11-04T10:07:33.109957Z",
     "shell.execute_reply": "2021-11-04T10:07:33.110449Z"
    },
    "papermill": {
     "duration": 0.535178,
     "end_time": "2021-11-04T10:07:33.110623",
     "exception": false,
     "start_time": "2021-11-04T10:07:32.575445",
     "status": "completed"
    },
    "tags": []
   },
   "outputs": [],
   "source": [
    "%matplotlib inline\n",
    "import numpy as np\n",
    "import matplotlib.pyplot as plt\n",
    "import pandas as pd"
   ]
  },
  {
   "cell_type": "markdown",
   "id": "ba036198",
   "metadata": {
    "papermill": {
     "duration": 0.023799,
     "end_time": "2021-11-04T10:07:33.160257",
     "exception": false,
     "start_time": "2021-11-04T10:07:33.136458",
     "status": "completed"
    },
    "tags": []
   },
   "source": [
    "From the command line run `pip install mnist`. This is a library that will help you bring down the mnist dataset. If you run this from a notebook, you need to put  `!pip install mnist` in a cell by itself."
   ]
  },
  {
   "cell_type": "code",
   "execution_count": 3,
   "id": "bb6ad8a1",
   "metadata": {
    "execution": {
     "iopub.execute_input": "2021-11-04T10:07:33.220317Z",
     "iopub.status.busy": "2021-11-04T10:07:33.218309Z",
     "iopub.status.idle": "2021-11-04T10:07:34.972837Z",
     "shell.execute_reply": "2021-11-04T10:07:34.971916Z"
    },
    "papermill": {
     "duration": 1.788636,
     "end_time": "2021-11-04T10:07:34.972982",
     "exception": false,
     "start_time": "2021-11-04T10:07:33.184346",
     "status": "completed"
    },
    "tags": []
   },
   "outputs": [
    {
     "name": "stdout",
     "output_type": "stream",
     "text": [
      "Collecting mnist\r\n"
     ]
    },
    {
     "name": "stdout",
     "output_type": "stream",
     "text": [
      "  Downloading mnist-0.2.2-py2.py3-none-any.whl (3.5 kB)\r\n"
     ]
    },
    {
     "name": "stdout",
     "output_type": "stream",
     "text": [
      "Requirement already satisfied: numpy in /opt/hostedtoolcache/Python/3.6.15/x64/lib/python3.6/site-packages (from mnist) (1.19.5)\r\n"
     ]
    },
    {
     "name": "stdout",
     "output_type": "stream",
     "text": [
      "Installing collected packages: mnist\r\n"
     ]
    },
    {
     "name": "stdout",
     "output_type": "stream",
     "text": [
      "Successfully installed mnist-0.2.2\r\n"
     ]
    }
   ],
   "source": [
    "!pip install mnist"
   ]
  },
  {
   "cell_type": "markdown",
   "id": "69df9c9a",
   "metadata": {
    "papermill": {
     "duration": 0.025138,
     "end_time": "2021-11-04T10:07:35.023781",
     "exception": false,
     "start_time": "2021-11-04T10:07:34.998643",
     "status": "completed"
    },
    "tags": []
   },
   "source": [
    "## Preparing the Data"
   ]
  },
  {
   "cell_type": "code",
   "execution_count": 4,
   "id": "7f69d806",
   "metadata": {
    "execution": {
     "iopub.execute_input": "2021-11-04T10:07:35.089020Z",
     "iopub.status.busy": "2021-11-04T10:07:35.083030Z",
     "iopub.status.idle": "2021-11-04T10:07:35.096565Z",
     "shell.execute_reply": "2021-11-04T10:07:35.096153Z"
    },
    "papermill": {
     "duration": 0.047931,
     "end_time": "2021-11-04T10:07:35.096672",
     "exception": false,
     "start_time": "2021-11-04T10:07:35.048741",
     "status": "completed"
    },
    "tags": []
   },
   "outputs": [],
   "source": [
    "import mnist"
   ]
  },
  {
   "cell_type": "code",
   "execution_count": 5,
   "id": "a411e44f",
   "metadata": {
    "execution": {
     "iopub.execute_input": "2021-11-04T10:07:35.153273Z",
     "iopub.status.busy": "2021-11-04T10:07:35.152769Z",
     "iopub.status.idle": "2021-11-04T10:07:35.797166Z",
     "shell.execute_reply": "2021-11-04T10:07:35.796693Z"
    },
    "papermill": {
     "duration": 0.675401,
     "end_time": "2021-11-04T10:07:35.797296",
     "exception": false,
     "start_time": "2021-11-04T10:07:35.121895",
     "status": "completed"
    },
    "tags": []
   },
   "outputs": [],
   "source": [
    "train_images = mnist.train_images()\n",
    "train_labels = mnist.train_labels()"
   ]
  },
  {
   "cell_type": "code",
   "execution_count": 6,
   "id": "dceab3a5",
   "metadata": {
    "execution": {
     "iopub.execute_input": "2021-11-04T10:07:35.851361Z",
     "iopub.status.busy": "2021-11-04T10:07:35.850819Z",
     "iopub.status.idle": "2021-11-04T10:07:35.865888Z",
     "shell.execute_reply": "2021-11-04T10:07:35.865482Z"
    },
    "papermill": {
     "duration": 0.042964,
     "end_time": "2021-11-04T10:07:35.865992",
     "exception": false,
     "start_time": "2021-11-04T10:07:35.823028",
     "status": "completed"
    },
    "tags": []
   },
   "outputs": [
    {
     "data": {
      "text/plain": [
       "((60000, 28, 28), (60000,))"
      ]
     },
     "execution_count": 6,
     "metadata": {},
     "output_type": "execute_result"
    }
   ],
   "source": [
    "train_images.shape, train_labels.shape"
   ]
  },
  {
   "cell_type": "code",
   "execution_count": 7,
   "id": "f50dc2bb",
   "metadata": {
    "execution": {
     "iopub.execute_input": "2021-11-04T10:07:35.919574Z",
     "iopub.status.busy": "2021-11-04T10:07:35.919040Z",
     "iopub.status.idle": "2021-11-04T10:07:36.108793Z",
     "shell.execute_reply": "2021-11-04T10:07:36.108265Z"
    },
    "papermill": {
     "duration": 0.217704,
     "end_time": "2021-11-04T10:07:36.108934",
     "exception": false,
     "start_time": "2021-11-04T10:07:35.891230",
     "status": "completed"
    },
    "tags": []
   },
   "outputs": [],
   "source": [
    "test_images = mnist.test_images()\n",
    "test_labels = mnist.test_labels()"
   ]
  },
  {
   "cell_type": "code",
   "execution_count": 8,
   "id": "fc38cf1b",
   "metadata": {
    "execution": {
     "iopub.execute_input": "2021-11-04T10:07:36.163923Z",
     "iopub.status.busy": "2021-11-04T10:07:36.163408Z",
     "iopub.status.idle": "2021-11-04T10:07:36.176317Z",
     "shell.execute_reply": "2021-11-04T10:07:36.175891Z"
    },
    "papermill": {
     "duration": 0.041203,
     "end_time": "2021-11-04T10:07:36.176424",
     "exception": false,
     "start_time": "2021-11-04T10:07:36.135221",
     "status": "completed"
    },
    "tags": []
   },
   "outputs": [
    {
     "data": {
      "text/plain": [
       "((10000, 28, 28), (10000,))"
      ]
     },
     "execution_count": 8,
     "metadata": {},
     "output_type": "execute_result"
    }
   ],
   "source": [
    "test_images.shape, test_labels.shape"
   ]
  },
  {
   "cell_type": "code",
   "execution_count": 9,
   "id": "f9ed8fe0",
   "metadata": {
    "execution": {
     "iopub.execute_input": "2021-11-04T10:07:36.259147Z",
     "iopub.status.busy": "2021-11-04T10:07:36.245373Z",
     "iopub.status.idle": "2021-11-04T10:07:36.373773Z",
     "shell.execute_reply": "2021-11-04T10:07:36.374161Z"
    },
    "papermill": {
     "duration": 0.172374,
     "end_time": "2021-11-04T10:07:36.374300",
     "exception": false,
     "start_time": "2021-11-04T10:07:36.201926",
     "status": "completed"
    },
    "tags": []
   },
   "outputs": [
    {
     "name": "stdout",
     "output_type": "stream",
     "text": [
      "2\n"
     ]
    },
    {
     "data": {
      "text/plain": [
       "<matplotlib.image.AxesImage at 0x7f62dd2ab1d0>"
      ]
     },
     "execution_count": 9,
     "metadata": {},
     "output_type": "execute_result"
    },
    {
     "data": {
      "image/png": "[encoded data removed]",
      "text/plain": [
       "<Figure size 432x288 with 1 Axes>"
      ]
     },
     "metadata": {
      "needs_background": "light"
     },
     "output_type": "display_data"
    }
   ],
   "source": [
    "image_index = 7776 # You may select anything up to 60,000\n",
    "print(train_labels[image_index]) \n",
    "plt.imshow(train_images[image_index], cmap='Greys')"
   ]
  },
  {
   "cell_type": "markdown",
   "id": "a8d2388d",
   "metadata": {
    "papermill": {
     "duration": 0.026818,
     "end_time": "2021-11-04T10:07:36.428103",
     "exception": false,
     "start_time": "2021-11-04T10:07:36.401285",
     "status": "completed"
    },
    "tags": []
   },
   "source": [
    "## Filter data to get 3 and 8 out"
   ]
  },
  {
   "cell_type": "code",
   "execution_count": 10,
   "id": "776f7fc7",
   "metadata": {
    "execution": {
     "iopub.execute_input": "2021-11-04T10:07:36.492230Z",
     "iopub.status.busy": "2021-11-04T10:07:36.486169Z",
     "iopub.status.idle": "2021-11-04T10:07:36.503113Z",
     "shell.execute_reply": "2021-11-04T10:07:36.502702Z"
    },
    "papermill": {
     "duration": 0.048585,
     "end_time": "2021-11-04T10:07:36.503226",
     "exception": false,
     "start_time": "2021-11-04T10:07:36.454641",
     "status": "completed"
    },
    "tags": []
   },
   "outputs": [],
   "source": [
    "train_filter = np.where((train_labels == 3 ) | (train_labels == 8))\n",
    "test_filter = np.where((test_labels == 3) | (test_labels == 8))\n",
    "X_train, y_train = train_images[train_filter], train_labels[train_filter]\n",
    "X_test, y_test = test_images[test_filter], test_labels[test_filter]"
   ]
  },
  {
   "cell_type": "markdown",
   "id": "948f0b7e",
   "metadata": {
    "papermill": {
     "duration": 0.02656,
     "end_time": "2021-11-04T10:07:36.557709",
     "exception": false,
     "start_time": "2021-11-04T10:07:36.531149",
     "status": "completed"
    },
    "tags": []
   },
   "source": [
    "We normalize the pizel values in the 0 to 1 range"
   ]
  },
  {
   "cell_type": "code",
   "execution_count": 11,
   "id": "ee4c2166",
   "metadata": {
    "execution": {
     "iopub.execute_input": "2021-11-04T10:07:36.614989Z",
     "iopub.status.busy": "2021-11-04T10:07:36.614475Z",
     "iopub.status.idle": "2021-11-04T10:07:36.662621Z",
     "shell.execute_reply": "2021-11-04T10:07:36.662156Z"
    },
    "papermill": {
     "duration": 0.078462,
     "end_time": "2021-11-04T10:07:36.662749",
     "exception": false,
     "start_time": "2021-11-04T10:07:36.584287",
     "status": "completed"
    },
    "tags": []
   },
   "outputs": [],
   "source": [
    "X_train = X_train/255.\n",
    "X_test = X_test/255."
   ]
  },
  {
   "cell_type": "markdown",
   "id": "ddcf4fab",
   "metadata": {
    "papermill": {
     "duration": 0.02669,
     "end_time": "2021-11-04T10:07:36.716602",
     "exception": false,
     "start_time": "2021-11-04T10:07:36.689912",
     "status": "completed"
    },
    "tags": []
   },
   "source": [
    "And setup the labels as 1 (when the digit is 3) and 0 (when the digit is 8)"
   ]
  },
  {
   "cell_type": "code",
   "execution_count": 12,
   "id": "7dc908f2",
   "metadata": {
    "execution": {
     "iopub.execute_input": "2021-11-04T10:07:36.776721Z",
     "iopub.status.busy": "2021-11-04T10:07:36.776202Z",
     "iopub.status.idle": "2021-11-04T10:07:36.785963Z",
     "shell.execute_reply": "2021-11-04T10:07:36.785551Z"
    },
    "papermill": {
     "duration": 0.042908,
     "end_time": "2021-11-04T10:07:36.786076",
     "exception": false,
     "start_time": "2021-11-04T10:07:36.743168",
     "status": "completed"
    },
    "tags": []
   },
   "outputs": [],
   "source": [
    "y_train = 1*(y_train==3)\n",
    "y_test = 1*(y_test==3)"
   ]
  },
  {
   "cell_type": "code",
   "execution_count": 13,
   "id": "01e4e969",
   "metadata": {
    "execution": {
     "iopub.execute_input": "2021-11-04T10:07:36.843895Z",
     "iopub.status.busy": "2021-11-04T10:07:36.843383Z",
     "iopub.status.idle": "2021-11-04T10:07:36.856352Z",
     "shell.execute_reply": "2021-11-04T10:07:36.855941Z"
    },
    "papermill": {
     "duration": 0.043479,
     "end_time": "2021-11-04T10:07:36.856465",
     "exception": false,
     "start_time": "2021-11-04T10:07:36.812986",
     "status": "completed"
    },
    "tags": []
   },
   "outputs": [
    {
     "data": {
      "text/plain": [
       "((11982, 28, 28), (1984, 28, 28))"
      ]
     },
     "execution_count": 13,
     "metadata": {},
     "output_type": "execute_result"
    }
   ],
   "source": [
    "X_train.shape, X_test.shape"
   ]
  },
  {
   "cell_type": "markdown",
   "id": "5ccf3f85",
   "metadata": {
    "papermill": {
     "duration": 0.026742,
     "end_time": "2021-11-04T10:07:36.910120",
     "exception": false,
     "start_time": "2021-11-04T10:07:36.883378",
     "status": "completed"
    },
    "tags": []
   },
   "source": [
    "We reshape the data to flatten the image pixels into a set of features or co-variates:"
   ]
  },
  {
   "cell_type": "code",
   "execution_count": 14,
   "id": "5286a4a3",
   "metadata": {
    "execution": {
     "iopub.execute_input": "2021-11-04T10:07:36.967838Z",
     "iopub.status.busy": "2021-11-04T10:07:36.967311Z",
     "iopub.status.idle": "2021-11-04T10:07:36.980764Z",
     "shell.execute_reply": "2021-11-04T10:07:36.980332Z"
    },
    "papermill": {
     "duration": 0.043784,
     "end_time": "2021-11-04T10:07:36.980872",
     "exception": false,
     "start_time": "2021-11-04T10:07:36.937088",
     "status": "completed"
    },
    "tags": []
   },
   "outputs": [
    {
     "data": {
      "text/plain": [
       "((11982, 784), (1984, 784))"
      ]
     },
     "execution_count": 14,
     "metadata": {},
     "output_type": "execute_result"
    }
   ],
   "source": [
    "X_train = X_train.reshape(X_train.shape[0], -1)\n",
    "X_test = X_test.reshape(X_test.shape[0], -1)\n",
    "X_train.shape, X_test.shape"
   ]
  },
  {
   "cell_type": "code",
   "execution_count": 15,
   "id": "73c5f88a",
   "metadata": {
    "execution": {
     "iopub.execute_input": "2021-11-04T10:07:37.040665Z",
     "iopub.status.busy": "2021-11-04T10:07:37.040144Z",
     "iopub.status.idle": "2021-11-04T10:07:37.057651Z",
     "shell.execute_reply": "2021-11-04T10:07:37.058067Z"
    },
    "papermill": {
     "duration": 0.050015,
     "end_time": "2021-11-04T10:07:37.058198",
     "exception": false,
     "start_time": "2021-11-04T10:07:37.008183",
     "status": "completed"
    },
    "tags": []
   },
   "outputs": [],
   "source": [
    "#Impoting functions from 'Kudzu'\n",
    "from kudzu.model import Model\n",
    "from kudzu.train import Learner\n",
    "from kudzu.optim import GD\n",
    "from kudzu.data import Data, Sampler,Dataloader\n",
    "\n",
    "from kudzu.callbacks import AccCallback\n",
    "from kudzu.callbacks import ClfCallback\n",
    "\n",
    "from kudzu.loss import MSE\n",
    "\n",
    "from kudzu.layer import Sigmoid,Relu\n",
    "from kudzu.layer import Affine"
   ]
  },
  {
   "cell_type": "markdown",
   "id": "bc01172a",
   "metadata": {
    "papermill": {
     "duration": 0.027086,
     "end_time": "2021-11-04T10:07:37.112559",
     "exception": false,
     "start_time": "2021-11-04T10:07:37.085473",
     "status": "completed"
    },
    "tags": []
   },
   "source": [
    "### Let us create a `Config` class, to store important parameters. \n",
    "This class essentially plays the role of a dictionary."
   ]
  },
  {
   "cell_type": "code",
   "execution_count": 16,
   "id": "978281aa",
   "metadata": {
    "execution": {
     "iopub.execute_input": "2021-11-04T10:07:37.171618Z",
     "iopub.status.busy": "2021-11-04T10:07:37.171065Z",
     "iopub.status.idle": "2021-11-04T10:07:37.183002Z",
     "shell.execute_reply": "2021-11-04T10:07:37.182574Z"
    },
    "papermill": {
     "duration": 0.043529,
     "end_time": "2021-11-04T10:07:37.183107",
     "exception": false,
     "start_time": "2021-11-04T10:07:37.139578",
     "status": "completed"
    },
    "tags": []
   },
   "outputs": [],
   "source": [
    "class Config:\n",
    "    pass\n",
    "config = Config()\n",
    "config.lr = 0.001\n",
    "config.num_epochs = 250\n",
    "config.bs = 50"
   ]
  },
  {
   "cell_type": "markdown",
   "id": "1385fa59",
   "metadata": {
    "papermill": {
     "duration": 0.026789,
     "end_time": "2021-11-04T10:07:37.237111",
     "exception": false,
     "start_time": "2021-11-04T10:07:37.210322",
     "status": "completed"
    },
    "tags": []
   },
   "source": [
    "### Running Models with the Training data\n",
    "Details about the network layers:\n",
    "- A first affine layer has 784 inputs and does 100 affine transforms. These are followed by a Relu\n",
    "- A second affine layer has 100 inputs from the 100 activations of the past layer, and does 100 affine transforms. These are followed by a Relu\n",
    "- A third affine layer has 100 activations and does 2 affine transformations to create an embedding for visualization. There is no non-linearity here.\n",
    "- A final \"logistic regression\" which has an affine transform from 2 inputs to 1 output, which is squeezed through a sigmoid.\n"
   ]
  },
  {
   "cell_type": "code",
   "execution_count": 17,
   "id": "2b9c66db",
   "metadata": {
    "execution": {
     "iopub.execute_input": "2021-11-04T10:07:37.296005Z",
     "iopub.status.busy": "2021-11-04T10:07:37.294774Z",
     "iopub.status.idle": "2021-11-04T10:07:37.308605Z",
     "shell.execute_reply": "2021-11-04T10:07:37.308194Z"
    },
    "papermill": {
     "duration": 0.044621,
     "end_time": "2021-11-04T10:07:37.308717",
     "exception": false,
     "start_time": "2021-11-04T10:07:37.264096",
     "status": "completed"
    },
    "tags": []
   },
   "outputs": [],
   "source": [
    "data = Data(X_train, y_train.reshape(-1,1))\n",
    "sampler = Sampler(data, config.bs, shuffle=True)\n",
    "\n",
    "dl = Dataloader(data, sampler)\n",
    "\n",
    "opt = GD(config.lr)\n",
    "loss = MSE()"
   ]
  },
  {
   "cell_type": "code",
   "execution_count": 18,
   "id": "b275e4c2",
   "metadata": {
    "execution": {
     "iopub.execute_input": "2021-11-04T10:07:37.368803Z",
     "iopub.status.busy": "2021-11-04T10:07:37.368305Z",
     "iopub.status.idle": "2021-11-04T10:07:37.380920Z",
     "shell.execute_reply": "2021-11-04T10:07:37.380512Z"
    },
    "papermill": {
     "duration": 0.042655,
     "end_time": "2021-11-04T10:07:37.381028",
     "exception": false,
     "start_time": "2021-11-04T10:07:37.338373",
     "status": "completed"
    },
    "tags": []
   },
   "outputs": [],
   "source": [
    "training_data_x = X_train\n",
    "testing_data_x = X_test\n",
    "training_data_y = y_train.reshape(-1,1)\n",
    "testing_data_y = y_test.reshape(-1,1)"
   ]
  },
  {
   "cell_type": "code",
   "execution_count": 19,
   "id": "76951160",
   "metadata": {
    "execution": {
     "iopub.execute_input": "2021-11-04T10:07:37.439710Z",
     "iopub.status.busy": "2021-11-04T10:07:37.439110Z",
     "iopub.status.idle": "2021-11-04T10:07:37.455303Z",
     "shell.execute_reply": "2021-11-04T10:07:37.454873Z"
    },
    "papermill": {
     "duration": 0.047394,
     "end_time": "2021-11-04T10:07:37.455416",
     "exception": false,
     "start_time": "2021-11-04T10:07:37.408022",
     "status": "completed"
    },
    "tags": []
   },
   "outputs": [
    {
     "name": "stdout",
     "output_type": "stream",
     "text": [
      "xavier\n",
      "xavier\n",
      "xavier\n",
      "xavier\n",
      "xavier\n"
     ]
    }
   ],
   "source": [
    "layers = [Affine(\"first\", 784, 100), Relu(\"first\"), Affine(\"second\", 100, 100), Relu(\"second\"), Affine(\"third\", 100, 2), Affine(\"last\", 2, 1), Sigmoid(\"last\")]\n",
    "model_nn = Model(layers)\n",
    "model_lr = Model([Affine(\"logits\", 784, 1), Sigmoid(\"sigmoid\")])"
   ]
  },
  {
   "cell_type": "code",
   "execution_count": 20,
   "id": "6eede77a",
   "metadata": {
    "execution": {
     "iopub.execute_input": "2021-11-04T10:07:37.514176Z",
     "iopub.status.busy": "2021-11-04T10:07:37.513669Z",
     "iopub.status.idle": "2021-11-04T10:07:37.524816Z",
     "shell.execute_reply": "2021-11-04T10:07:37.525246Z"
    },
    "papermill": {
     "duration": 0.042012,
     "end_time": "2021-11-04T10:07:37.525367",
     "exception": false,
     "start_time": "2021-11-04T10:07:37.483355",
     "status": "completed"
    },
    "tags": []
   },
   "outputs": [],
   "source": [
    "nn_learner = Learner(loss, model_nn, opt, config.num_epochs)\n",
    "acc_nn = ClfCallback(nn_learner, config.bs, training_data_x , testing_data_x, training_data_y, testing_data_y)\n",
    "nn_learner.set_callbacks([acc_nn])"
   ]
  },
  {
   "cell_type": "code",
   "execution_count": 21,
   "id": "877b6cc7",
   "metadata": {
    "execution": {
     "iopub.execute_input": "2021-11-04T10:07:37.586932Z",
     "iopub.status.busy": "2021-11-04T10:07:37.586428Z",
     "iopub.status.idle": "2021-11-04T10:07:37.596105Z",
     "shell.execute_reply": "2021-11-04T10:07:37.596513Z"
    },
    "papermill": {
     "duration": 0.044005,
     "end_time": "2021-11-04T10:07:37.596639",
     "exception": false,
     "start_time": "2021-11-04T10:07:37.552634",
     "status": "completed"
    },
    "tags": []
   },
   "outputs": [],
   "source": [
    "lr_learner = Learner(loss, model_lr, opt, config.num_epochs)\n",
    "acc_lr = ClfCallback(lr_learner, config.bs, training_data_x , testing_data_x, training_data_y, testing_data_y)\n",
    "lr_learner.set_callbacks([acc_lr])"
   ]
  },
  {
   "cell_type": "code",
   "execution_count": 22,
   "id": "d9b133c3",
   "metadata": {
    "execution": {
     "iopub.execute_input": "2021-11-04T10:07:37.656397Z",
     "iopub.status.busy": "2021-11-04T10:07:37.655883Z",
     "iopub.status.idle": "2021-11-04T10:08:55.233013Z",
     "shell.execute_reply": "2021-11-04T10:08:55.233762Z"
    },
    "papermill": {
     "duration": 77.609259,
     "end_time": "2021-11-04T10:08:55.233919",
     "exception": false,
     "start_time": "2021-11-04T10:07:37.624660",
     "status": "completed"
    },
    "tags": []
   },
   "outputs": [
    {
     "name": "stdout",
     "output_type": "stream",
     "text": [
      "Epoch 0, Loss 0.2468\n",
      "Training Accuracy: 0.6491, Testing Accuracy: 0.6517\n",
      "\n"
     ]
    },
    {
     "name": "stdout",
     "output_type": "stream",
     "text": [
      "Epoch 10, Loss 0.1235\n",
      "Training Accuracy: 0.8972, Testing Accuracy: 0.9078\n",
      "\n"
     ]
    },
    {
     "name": "stdout",
     "output_type": "stream",
     "text": [
      "Epoch 20, Loss 0.0675\n",
      "Training Accuracy: 0.9292, Testing Accuracy: 0.9415\n",
      "\n"
     ]
    },
    {
     "name": "stdout",
     "output_type": "stream",
     "text": [
      "Epoch 30, Loss 0.0493\n",
      "Training Accuracy: 0.9442, Testing Accuracy: 0.9531\n",
      "\n"
     ]
    },
    {
     "name": "stdout",
     "output_type": "stream",
     "text": [
      "Epoch 40, Loss 0.0411\n",
      "Training Accuracy: 0.9534, Testing Accuracy: 0.9627\n",
      "\n"
     ]
    },
    {
     "name": "stdout",
     "output_type": "stream",
     "text": [
      "Epoch 50, Loss 0.0364\n",
      "Training Accuracy: 0.9588, Testing Accuracy: 0.9647\n",
      "\n"
     ]
    },
    {
     "name": "stdout",
     "output_type": "stream",
     "text": [
      "Epoch 60, Loss 0.0335\n",
      "Training Accuracy: 0.9609, Testing Accuracy: 0.9677\n",
      "\n"
     ]
    },
    {
     "name": "stdout",
     "output_type": "stream",
     "text": [
      "Epoch 70, Loss 0.0313\n",
      "Training Accuracy: 0.9629, Testing Accuracy: 0.9703\n",
      "\n"
     ]
    },
    {
     "name": "stdout",
     "output_type": "stream",
     "text": [
      "Epoch 80, Loss 0.0297\n",
      "Training Accuracy: 0.9652, Testing Accuracy: 0.9728\n",
      "\n"
     ]
    },
    {
     "name": "stdout",
     "output_type": "stream",
     "text": [
      "Epoch 90, Loss 0.0284\n",
      "Training Accuracy: 0.9671, Testing Accuracy: 0.9728\n",
      "\n"
     ]
    },
    {
     "name": "stdout",
     "output_type": "stream",
     "text": [
      "Epoch 100, Loss 0.0273\n",
      "Training Accuracy: 0.9682, Testing Accuracy: 0.9728\n",
      "\n"
     ]
    },
    {
     "name": "stdout",
     "output_type": "stream",
     "text": [
      "Epoch 110, Loss 0.0264\n",
      "Training Accuracy: 0.9691, Testing Accuracy: 0.9728\n",
      "\n"
     ]
    },
    {
     "name": "stdout",
     "output_type": "stream",
     "text": [
      "Epoch 120, Loss 0.0256\n",
      "Training Accuracy: 0.9700, Testing Accuracy: 0.9723\n",
      "\n"
     ]
    },
    {
     "name": "stdout",
     "output_type": "stream",
     "text": [
      "Epoch 130, Loss 0.0249\n",
      "Training Accuracy: 0.9712, Testing Accuracy: 0.9723\n",
      "\n"
     ]
    },
    {
     "name": "stdout",
     "output_type": "stream",
     "text": [
      "Epoch 140, Loss 0.0242\n",
      "Training Accuracy: 0.9715, Testing Accuracy: 0.9718\n",
      "\n"
     ]
    },
    {
     "name": "stdout",
     "output_type": "stream",
     "text": [
      "Epoch 150, Loss 0.0237\n",
      "Training Accuracy: 0.9719, Testing Accuracy: 0.9718\n",
      "\n"
     ]
    },
    {
     "name": "stdout",
     "output_type": "stream",
     "text": [
      "Epoch 160, Loss 0.0231\n",
      "Training Accuracy: 0.9727, Testing Accuracy: 0.9718\n",
      "\n"
     ]
    },
    {
     "name": "stdout",
     "output_type": "stream",
     "text": [
      "Epoch 170, Loss 0.0226\n",
      "Training Accuracy: 0.9730, Testing Accuracy: 0.9718\n",
      "\n"
     ]
    },
    {
     "name": "stdout",
     "output_type": "stream",
     "text": [
      "Epoch 180, Loss 0.0222\n",
      "Training Accuracy: 0.9738, Testing Accuracy: 0.9718\n",
      "\n"
     ]
    },
    {
     "name": "stdout",
     "output_type": "stream",
     "text": [
      "Epoch 190, Loss 0.0217\n",
      "Training Accuracy: 0.9748, Testing Accuracy: 0.9723\n",
      "\n"
     ]
    },
    {
     "name": "stdout",
     "output_type": "stream",
     "text": [
      "Epoch 200, Loss 0.0213\n",
      "Training Accuracy: 0.9753, Testing Accuracy: 0.9723\n",
      "\n"
     ]
    },
    {
     "name": "stdout",
     "output_type": "stream",
     "text": [
      "Epoch 210, Loss 0.0209\n",
      "Training Accuracy: 0.9760, Testing Accuracy: 0.9728\n",
      "\n"
     ]
    },
    {
     "name": "stdout",
     "output_type": "stream",
     "text": [
      "Epoch 220, Loss 0.0205\n",
      "Training Accuracy: 0.9764, Testing Accuracy: 0.9733\n",
      "\n"
     ]
    },
    {
     "name": "stdout",
     "output_type": "stream",
     "text": [
      "Epoch 230, Loss 0.0202\n",
      "Training Accuracy: 0.9768, Testing Accuracy: 0.9733\n",
      "\n"
     ]
    },
    {
     "name": "stdout",
     "output_type": "stream",
     "text": [
      "Epoch 240, Loss 0.0198\n",
      "Training Accuracy: 0.9772, Testing Accuracy: 0.9743\n",
      "\n"
     ]
    },
    {
     "data": {
      "text/plain": [
       "0.025335548284659712"
      ]
     },
     "execution_count": 22,
     "metadata": {},
     "output_type": "execute_result"
    }
   ],
   "source": [
    "nn_learner.train_loop(dl)"
   ]
  },
  {
   "cell_type": "code",
   "execution_count": 23,
   "id": "e0163366",
   "metadata": {
    "execution": {
     "iopub.execute_input": "2021-11-04T10:08:55.313207Z",
     "iopub.status.busy": "2021-11-04T10:08:55.312670Z",
     "iopub.status.idle": "2021-11-04T10:09:09.596355Z",
     "shell.execute_reply": "2021-11-04T10:09:09.596801Z"
    },
    "papermill": {
     "duration": 14.327765,
     "end_time": "2021-11-04T10:09:09.596948",
     "exception": false,
     "start_time": "2021-11-04T10:08:55.269183",
     "status": "completed"
    },
    "tags": []
   },
   "outputs": [
    {
     "name": "stdout",
     "output_type": "stream",
     "text": [
      "Epoch 0, Loss 0.2435\n",
      "Training Accuracy: 0.7004, Testing Accuracy: 0.7258\n",
      "\n"
     ]
    },
    {
     "name": "stdout",
     "output_type": "stream",
     "text": [
      "Epoch 10, Loss 0.0995\n",
      "Training Accuracy: 0.9238, Testing Accuracy: 0.9335\n",
      "\n"
     ]
    },
    {
     "name": "stdout",
     "output_type": "stream",
     "text": [
      "Epoch 20, Loss 0.077\n",
      "Training Accuracy: 0.9328, Testing Accuracy: 0.9441\n",
      "\n"
     ]
    },
    {
     "name": "stdout",
     "output_type": "stream",
     "text": [
      "Epoch 30, Loss 0.0668\n",
      "Training Accuracy: 0.9390, Testing Accuracy: 0.9491\n",
      "\n"
     ]
    },
    {
     "name": "stdout",
     "output_type": "stream",
     "text": [
      "Epoch 40, Loss 0.0606\n",
      "Training Accuracy: 0.9440, Testing Accuracy: 0.9511\n",
      "\n"
     ]
    },
    {
     "name": "stdout",
     "output_type": "stream",
     "text": [
      "Epoch 50, Loss 0.0564\n",
      "Training Accuracy: 0.9460, Testing Accuracy: 0.9526\n",
      "\n"
     ]
    },
    {
     "name": "stdout",
     "output_type": "stream",
     "text": [
      "Epoch 60, Loss 0.0533\n",
      "Training Accuracy: 0.9479, Testing Accuracy: 0.9541\n",
      "\n"
     ]
    },
    {
     "name": "stdout",
     "output_type": "stream",
     "text": [
      "Epoch 70, Loss 0.0509\n",
      "Training Accuracy: 0.9498, Testing Accuracy: 0.9556\n",
      "\n"
     ]
    },
    {
     "name": "stdout",
     "output_type": "stream",
     "text": [
      "Epoch 80, Loss 0.0489\n",
      "Training Accuracy: 0.9510, Testing Accuracy: 0.9582\n",
      "\n"
     ]
    },
    {
     "name": "stdout",
     "output_type": "stream",
     "text": [
      "Epoch 90, Loss 0.0473\n",
      "Training Accuracy: 0.9524, Testing Accuracy: 0.9597\n",
      "\n"
     ]
    },
    {
     "name": "stdout",
     "output_type": "stream",
     "text": [
      "Epoch 100, Loss 0.046\n",
      "Training Accuracy: 0.9529, Testing Accuracy: 0.9617\n",
      "\n"
     ]
    },
    {
     "name": "stdout",
     "output_type": "stream",
     "text": [
      "Epoch 110, Loss 0.0448\n",
      "Training Accuracy: 0.9543, Testing Accuracy: 0.9627\n",
      "\n"
     ]
    },
    {
     "name": "stdout",
     "output_type": "stream",
     "text": [
      "Epoch 120, Loss 0.0438\n",
      "Training Accuracy: 0.9550, Testing Accuracy: 0.9632\n",
      "\n"
     ]
    },
    {
     "name": "stdout",
     "output_type": "stream",
     "text": [
      "Epoch 130, Loss 0.0429\n",
      "Training Accuracy: 0.9558, Testing Accuracy: 0.9632\n",
      "\n"
     ]
    },
    {
     "name": "stdout",
     "output_type": "stream",
     "text": [
      "Epoch 140, Loss 0.0421\n",
      "Training Accuracy: 0.9567, Testing Accuracy: 0.9632\n",
      "\n"
     ]
    },
    {
     "name": "stdout",
     "output_type": "stream",
     "text": [
      "Epoch 150, Loss 0.0413\n",
      "Training Accuracy: 0.9571, Testing Accuracy: 0.9642\n",
      "\n"
     ]
    },
    {
     "name": "stdout",
     "output_type": "stream",
     "text": [
      "Epoch 160, Loss 0.0407\n",
      "Training Accuracy: 0.9575, Testing Accuracy: 0.9647\n",
      "\n"
     ]
    },
    {
     "name": "stdout",
     "output_type": "stream",
     "text": [
      "Epoch 170, Loss 0.0401\n",
      "Training Accuracy: 0.9579, Testing Accuracy: 0.9647\n",
      "\n"
     ]
    },
    {
     "name": "stdout",
     "output_type": "stream",
     "text": [
      "Epoch 180, Loss 0.0395\n",
      "Training Accuracy: 0.9585, Testing Accuracy: 0.9657\n",
      "\n"
     ]
    },
    {
     "name": "stdout",
     "output_type": "stream",
     "text": [
      "Epoch 190, Loss 0.039\n",
      "Training Accuracy: 0.9585, Testing Accuracy: 0.9657\n",
      "\n"
     ]
    },
    {
     "name": "stdout",
     "output_type": "stream",
     "text": [
      "Epoch 200, Loss 0.0386\n",
      "Training Accuracy: 0.9590, Testing Accuracy: 0.9657\n",
      "\n"
     ]
    },
    {
     "name": "stdout",
     "output_type": "stream",
     "text": [
      "Epoch 210, Loss 0.0381\n",
      "Training Accuracy: 0.9593, Testing Accuracy: 0.9652\n",
      "\n"
     ]
    },
    {
     "name": "stdout",
     "output_type": "stream",
     "text": [
      "Epoch 220, Loss 0.0377\n",
      "Training Accuracy: 0.9596, Testing Accuracy: 0.9662\n",
      "\n"
     ]
    },
    {
     "name": "stdout",
     "output_type": "stream",
     "text": [
      "Epoch 230, Loss 0.0373\n",
      "Training Accuracy: 0.9602, Testing Accuracy: 0.9657\n",
      "\n"
     ]
    },
    {
     "name": "stdout",
     "output_type": "stream",
     "text": [
      "Epoch 240, Loss 0.037\n",
      "Training Accuracy: 0.9606, Testing Accuracy: 0.9662\n",
      "\n"
     ]
    },
    {
     "data": {
      "text/plain": [
       "0.047008281755794606"
      ]
     },
     "execution_count": 23,
     "metadata": {},
     "output_type": "execute_result"
    }
   ],
   "source": [
    "lr_learner.train_loop(dl)"
   ]
  },
  {
   "cell_type": "code",
   "execution_count": 24,
   "id": "ca410940",
   "metadata": {
    "execution": {
     "iopub.execute_input": "2021-11-04T10:09:09.690302Z",
     "iopub.status.busy": "2021-11-04T10:09:09.684286Z",
     "iopub.status.idle": "2021-11-04T10:09:09.922355Z",
     "shell.execute_reply": "2021-11-04T10:09:09.921847Z"
    },
    "papermill": {
     "duration": 0.283434,
     "end_time": "2021-11-04T10:09:09.922494",
     "exception": false,
     "start_time": "2021-11-04T10:09:09.639060",
     "status": "completed"
    },
    "tags": []
   },
   "outputs": [
    {
     "data": {
      "text/plain": [
       "<matplotlib.legend.Legend at 0x7f62cfa84828>"
      ]
     },
     "execution_count": 24,
     "metadata": {},
     "output_type": "execute_result"
    },
    {
     "data": {
      "image/png": "[encoded data removed]",
      "text/plain": [
       "<Figure size 1080x720 with 1 Axes>"
      ]
     },
     "metadata": {
      "needs_background": "light"
     },
     "output_type": "display_data"
    }
   ],
   "source": [
    "#comparing the results of NN and LR\n",
    "plt.figure(figsize=(15,10))\n",
    "\n",
    "# Neural Network plots\n",
    "plt.plot(acc_nn.accuracies, 'r-', label = \"Training Accuracies - NN\")\n",
    "plt.plot(acc_nn.test_accuracies, 'g-', label = \"Testing Accuracies - NN\")\n",
    "\n",
    "# Logistic Regression plots\n",
    "plt.plot(acc_lr.accuracies, 'k-', label = \"Training Accuracies - LR\")\n",
    "plt.plot(acc_lr.test_accuracies, 'b-', label = \"Testing Accuracies - LR\")\n",
    "plt.legend()"
   ]
  },
  {
   "cell_type": "markdown",
   "id": "80dfb35c",
   "metadata": {
    "papermill": {
     "duration": 0.043252,
     "end_time": "2021-11-04T10:09:10.008906",
     "exception": false,
     "start_time": "2021-11-04T10:09:09.965654",
     "status": "completed"
    },
    "tags": []
   },
   "source": [
    "#### Plotting the outputs of this layer of the NN.\n"
   ]
  },
  {
   "cell_type": "code",
   "execution_count": 25,
   "id": "45eb2ff5",
   "metadata": {
    "execution": {
     "iopub.execute_input": "2021-11-04T10:09:10.108190Z",
     "iopub.status.busy": "2021-11-04T10:09:10.107636Z",
     "iopub.status.idle": "2021-11-04T10:09:10.122385Z",
     "shell.execute_reply": "2021-11-04T10:09:10.122833Z"
    },
    "papermill": {
     "duration": 0.07134,
     "end_time": "2021-11-04T10:09:10.122977",
     "exception": false,
     "start_time": "2021-11-04T10:09:10.051637",
     "status": "completed"
    },
    "tags": []
   },
   "outputs": [],
   "source": [
    "new_model = Model(layers[:-2])\n",
    "testing_plot = new_model(testing_data_x)"
   ]
  },
  {
   "cell_type": "code",
   "execution_count": 26,
   "id": "4c0a5485",
   "metadata": {
    "execution": {
     "iopub.execute_input": "2021-11-04T10:09:10.215845Z",
     "iopub.status.busy": "2021-11-04T10:09:10.214730Z",
     "iopub.status.idle": "2021-11-04T10:09:10.412652Z",
     "shell.execute_reply": "2021-11-04T10:09:10.413051Z"
    },
    "papermill": {
     "duration": 0.247194,
     "end_time": "2021-11-04T10:09:10.413200",
     "exception": false,
     "start_time": "2021-11-04T10:09:10.166006",
     "status": "completed"
    },
    "tags": []
   },
   "outputs": [
    {
     "data": {
      "text/plain": [
       "Text(0.5, 1.0, 'Outputs')"
      ]
     },
     "execution_count": 26,
     "metadata": {},
     "output_type": "execute_result"
    },
    {
     "data": {
      "image/png": "[encoded data removed]",
      "text/plain": [
       "<Figure size 576x504 with 1 Axes>"
      ]
     },
     "metadata": {
      "needs_background": "light"
     },
     "output_type": "display_data"
    }
   ],
   "source": [
    "# Plotting the scatter plot of points and color coding by class\n",
    "plt.figure(figsize=(8,7))\n",
    "plt.scatter(testing_plot[:,0], testing_plot[:,1], alpha = 0.1, c = y_test.ravel());\n",
    "plt.title('Outputs')"
   ]
  },
  {
   "cell_type": "markdown",
   "id": "a74fcf8f",
   "metadata": {
    "papermill": {
     "duration": 0.04502,
     "end_time": "2021-11-04T10:09:10.504528",
     "exception": false,
     "start_time": "2021-11-04T10:09:10.459508",
     "status": "completed"
    },
    "tags": []
   },
   "source": [
    "Probability contours"
   ]
  },
  {
   "cell_type": "code",
   "execution_count": 27,
   "id": "d0afc8e3",
   "metadata": {
    "execution": {
     "iopub.execute_input": "2021-11-04T10:09:10.602765Z",
     "iopub.status.busy": "2021-11-04T10:09:10.602195Z",
     "iopub.status.idle": "2021-11-04T10:09:10.614479Z",
     "shell.execute_reply": "2021-11-04T10:09:10.614049Z"
    },
    "papermill": {
     "duration": 0.061643,
     "end_time": "2021-11-04T10:09:10.614606",
     "exception": false,
     "start_time": "2021-11-04T10:09:10.552963",
     "status": "completed"
    },
    "tags": []
   },
   "outputs": [],
   "source": [
    "model_prob = Model(layers[-2:]) "
   ]
  },
  {
   "cell_type": "code",
   "execution_count": 28,
   "id": "9b96e238",
   "metadata": {
    "execution": {
     "iopub.execute_input": "2021-11-04T10:09:10.712985Z",
     "iopub.status.busy": "2021-11-04T10:09:10.712459Z",
     "iopub.status.idle": "2021-11-04T10:09:10.726780Z",
     "shell.execute_reply": "2021-11-04T10:09:10.727164Z"
    },
    "papermill": {
     "duration": 0.067377,
     "end_time": "2021-11-04T10:09:10.727327",
     "exception": false,
     "start_time": "2021-11-04T10:09:10.659950",
     "status": "completed"
    },
    "tags": []
   },
   "outputs": [],
   "source": [
    "#creating the x and y ranges according to the above generated plot.\n",
    "x_range = np.linspace(-4, 1, 100) \n",
    "y_range = np.linspace(-6, 6, 100) \n",
    "x_grid, y_grid = np.meshgrid(x_range, y_range) # x_grid and y_grig are of size 100 X 100\n",
    "\n",
    "# converting x_grid and y_grid to continuous arrays\n",
    "x_gridflat = np.ravel(x_grid)\n",
    "y_gridflat = np.ravel(y_grid)\n",
    "\n",
    "# The last layer of the current model takes two columns as input. Hence transpose of np.vstack() is required.\n",
    "X = np.vstack((x_gridflat, y_gridflat)).T\n",
    "\n",
    "prob_contour = model_prob(X).reshape(100,100) "
   ]
  },
  {
   "cell_type": "code",
   "execution_count": 29,
   "id": "da72499a",
   "metadata": {
    "execution": {
     "iopub.execute_input": "2021-11-04T10:09:10.864837Z",
     "iopub.status.busy": "2021-11-04T10:09:10.864295Z",
     "iopub.status.idle": "2021-11-04T10:09:11.106674Z",
     "shell.execute_reply": "2021-11-04T10:09:11.105874Z"
    },
    "papermill": {
     "duration": 0.333997,
     "end_time": "2021-11-04T10:09:11.106820",
     "exception": false,
     "start_time": "2021-11-04T10:09:10.772823",
     "status": "completed"
    },
    "tags": []
   },
   "outputs": [
    {
     "data": {
      "image/png": "[encoded data removed]",
      "text/plain": [
       "<Figure size 720x648 with 1 Axes>"
      ]
     },
     "metadata": {
      "needs_background": "light"
     },
     "output_type": "display_data"
    }
   ],
   "source": [
    "plt.figure(figsize=(10,9))\n",
    "plt.scatter(testing_plot[:,0], testing_plot[:,1], alpha = 0.1, c = y_test.ravel())\n",
    "contours = plt.contour(x_grid,y_grid,prob_contour)\n",
    "plt.title('Probability Contours')\n",
    "plt.clabel(contours, inline = True );"
   ]
  },
  {
   "cell_type": "code",
   "execution_count": null,
   "id": "e81b4ac7",
   "metadata": {
    "papermill": {
     "duration": 0.047591,
     "end_time": "2021-11-04T10:09:11.202231",
     "exception": false,
     "start_time": "2021-11-04T10:09:11.154640",
     "status": "completed"
    },
    "tags": []
   },
   "outputs": [],
   "source": []
  }
 ],
 "metadata": {
  "kernelspec": {
   "display_name": "Python 3",
   "language": "python",
   "name": "python3"
  },
  "language_info": {
   "codemirror_mode": {
    "name": "ipython",
    "version": 3
   },
   "file_extension": ".py",
   "mimetype": "text/x-python",
   "name": "python",
   "nbconvert_exporter": "python",
   "pygments_lexer": "ipython3",
   "version": "3.6.15"
  },
  "papermill": {
   "default_parameters": {},
   "duration": 100.284042,
   "end_time": "2021-11-04T10:09:11.658144",
   "environment_variables": {},
   "exception": null,
   "input_path": "2020-08-11-part2.ipynb",
   "output_path": "2020-08-11-part2.ipynb",
   "parameters": {},
   "start_time": "2021-11-04T10:07:31.374102",
   "version": "2.3.3"
  }
 },
 "nbformat": 4,
 "nbformat_minor": 5
}