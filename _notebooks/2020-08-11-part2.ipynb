{
 "cells": [
  {
   "cell_type": "markdown",
   "id": "98380cd3",
   "metadata": {
    "papermill": {
     "duration": 0.028855,
     "end_time": "2022-05-01T10:10:13.744896",
     "exception": false,
     "start_time": "2022-05-01T10:10:13.716041",
     "status": "completed"
    },
    "tags": []
   },
   "source": [
    "# Distinguish Your Own Digits (DYOD)"
   ]
  },
  {
   "cell_type": "markdown",
   "id": "ef31240d",
   "metadata": {
    "papermill": {
     "duration": 0.025305,
     "end_time": "2022-05-01T10:10:13.794736",
     "exception": false,
     "start_time": "2022-05-01T10:10:13.769431",
     "status": "completed"
    },
    "tags": []
   },
   "source": [
    "You are going to write a classifier that distinguishes between the number 3 and number 8."
   ]
  },
  {
   "cell_type": "code",
   "execution_count": 1,
   "id": "b15c8646",
   "metadata": {
    "execution": {
     "iopub.execute_input": "2022-05-01T10:10:13.853010Z",
     "iopub.status.busy": "2022-05-01T10:10:13.852479Z",
     "iopub.status.idle": "2022-05-01T10:10:13.863129Z",
     "shell.execute_reply": "2022-05-01T10:10:13.862673Z"
    },
    "papermill": {
     "duration": 0.044697,
     "end_time": "2022-05-01T10:10:13.863259",
     "exception": false,
     "start_time": "2022-05-01T10:10:13.818562",
     "status": "completed"
    },
    "tags": []
   },
   "outputs": [],
   "source": [
    "%load_ext autoreload\n",
    "%autoreload 2"
   ]
  },
  {
   "cell_type": "code",
   "execution_count": 2,
   "id": "22ef38dc",
   "metadata": {
    "execution": {
     "iopub.execute_input": "2022-05-01T10:10:13.915706Z",
     "iopub.status.busy": "2022-05-01T10:10:13.915170Z",
     "iopub.status.idle": "2022-05-01T10:10:14.452011Z",
     "shell.execute_reply": "2022-05-01T10:10:14.451493Z"
    },
    "papermill": {
     "duration": 0.564582,
     "end_time": "2022-05-01T10:10:14.452147",
     "exception": false,
     "start_time": "2022-05-01T10:10:13.887565",
     "status": "completed"
    },
    "tags": []
   },
   "outputs": [],
   "source": [
    "%matplotlib inline\n",
    "import numpy as np\n",
    "import matplotlib.pyplot as plt\n",
    "import pandas as pd"
   ]
  },
  {
   "cell_type": "markdown",
   "id": "ba036198",
   "metadata": {
    "papermill": {
     "duration": 0.023941,
     "end_time": "2022-05-01T10:10:14.500218",
     "exception": false,
     "start_time": "2022-05-01T10:10:14.476277",
     "status": "completed"
    },
    "tags": []
   },
   "source": [
    "From the command line run `pip install mnist`. This is a library that will help you bring down the mnist dataset. If you run this from a notebook, you need to put  `!pip install mnist` in a cell by itself."
   ]
  },
  {
   "cell_type": "code",
   "execution_count": 3,
   "id": "bb6ad8a1",
   "metadata": {
    "execution": {
     "iopub.execute_input": "2022-05-01T10:10:14.552205Z",
     "iopub.status.busy": "2022-05-01T10:10:14.551697Z",
     "iopub.status.idle": "2022-05-01T10:10:16.310321Z",
     "shell.execute_reply": "2022-05-01T10:10:16.309770Z"
    },
    "papermill": {
     "duration": 1.78623,
     "end_time": "2022-05-01T10:10:16.310449",
     "exception": false,
     "start_time": "2022-05-01T10:10:14.524219",
     "status": "completed"
    },
    "tags": []
   },
   "outputs": [
    {
     "name": "stdout",
     "output_type": "stream",
     "text": [
      "Collecting mnist\r\n"
     ]
    },
    {
     "name": "stdout",
     "output_type": "stream",
     "text": [
      "  Downloading mnist-0.2.2-py2.py3-none-any.whl (3.5 kB)\r\n",
      "Requirement already satisfied: numpy in /opt/hostedtoolcache/Python/3.6.15/x64/lib/python3.6/site-packages (from mnist) (1.19.5)\r\n"
     ]
    },
    {
     "name": "stdout",
     "output_type": "stream",
     "text": [
      "Installing collected packages: mnist\r\n"
     ]
    },
    {
     "name": "stdout",
     "output_type": "stream",
     "text": [
      "Successfully installed mnist-0.2.2\r\n"
     ]
    }
   ],
   "source": [
    "!pip install mnist"
   ]
  },
  {
   "cell_type": "markdown",
   "id": "69df9c9a",
   "metadata": {
    "papermill": {
     "duration": 0.025379,
     "end_time": "2022-05-01T10:10:16.361861",
     "exception": false,
     "start_time": "2022-05-01T10:10:16.336482",
     "status": "completed"
    },
    "tags": []
   },
   "source": [
    "## Preparing the Data"
   ]
  },
  {
   "cell_type": "code",
   "execution_count": 4,
   "id": "7f69d806",
   "metadata": {
    "execution": {
     "iopub.execute_input": "2022-05-01T10:10:16.418654Z",
     "iopub.status.busy": "2022-05-01T10:10:16.418121Z",
     "iopub.status.idle": "2022-05-01T10:10:16.432018Z",
     "shell.execute_reply": "2022-05-01T10:10:16.431572Z"
    },
    "papermill": {
     "duration": 0.045137,
     "end_time": "2022-05-01T10:10:16.432131",
     "exception": false,
     "start_time": "2022-05-01T10:10:16.386994",
     "status": "completed"
    },
    "tags": []
   },
   "outputs": [],
   "source": [
    "import mnist"
   ]
  },
  {
   "cell_type": "code",
   "execution_count": 5,
   "id": "a411e44f",
   "metadata": {
    "execution": {
     "iopub.execute_input": "2022-05-01T10:10:16.491644Z",
     "iopub.status.busy": "2022-05-01T10:10:16.489389Z",
     "iopub.status.idle": "2022-05-01T10:10:17.035741Z",
     "shell.execute_reply": "2022-05-01T10:10:17.035068Z"
    },
    "papermill": {
     "duration": 0.578451,
     "end_time": "2022-05-01T10:10:17.035874",
     "exception": false,
     "start_time": "2022-05-01T10:10:16.457423",
     "status": "completed"
    },
    "tags": []
   },
   "outputs": [],
   "source": [
    "train_images = mnist.train_images()\n",
    "train_labels = mnist.train_labels()"
   ]
  },
  {
   "cell_type": "code",
   "execution_count": 6,
   "id": "dceab3a5",
   "metadata": {
    "execution": {
     "iopub.execute_input": "2022-05-01T10:10:17.099244Z",
     "iopub.status.busy": "2022-05-01T10:10:17.094192Z",
     "iopub.status.idle": "2022-05-01T10:10:17.108742Z",
     "shell.execute_reply": "2022-05-01T10:10:17.109178Z"
    },
    "papermill": {
     "duration": 0.047735,
     "end_time": "2022-05-01T10:10:17.109314",
     "exception": false,
     "start_time": "2022-05-01T10:10:17.061579",
     "status": "completed"
    },
    "tags": []
   },
   "outputs": [
    {
     "data": {
      "text/plain": [
       "((60000, 28, 28), (60000,))"
      ]
     },
     "execution_count": 6,
     "metadata": {},
     "output_type": "execute_result"
    }
   ],
   "source": [
    "train_images.shape, train_labels.shape"
   ]
  },
  {
   "cell_type": "code",
   "execution_count": 7,
   "id": "f50dc2bb",
   "metadata": {
    "execution": {
     "iopub.execute_input": "2022-05-01T10:10:17.163451Z",
     "iopub.status.busy": "2022-05-01T10:10:17.162920Z",
     "iopub.status.idle": "2022-05-01T10:10:17.338610Z",
     "shell.execute_reply": "2022-05-01T10:10:17.338085Z"
    },
    "papermill": {
     "duration": 0.204139,
     "end_time": "2022-05-01T10:10:17.338747",
     "exception": false,
     "start_time": "2022-05-01T10:10:17.134608",
     "status": "completed"
    },
    "tags": []
   },
   "outputs": [],
   "source": [
    "test_images = mnist.test_images()\n",
    "test_labels = mnist.test_labels()"
   ]
  },
  {
   "cell_type": "code",
   "execution_count": 8,
   "id": "fc38cf1b",
   "metadata": {
    "execution": {
     "iopub.execute_input": "2022-05-01T10:10:17.393810Z",
     "iopub.status.busy": "2022-05-01T10:10:17.393296Z",
     "iopub.status.idle": "2022-05-01T10:10:17.406391Z",
     "shell.execute_reply": "2022-05-01T10:10:17.405975Z"
    },
    "papermill": {
     "duration": 0.04185,
     "end_time": "2022-05-01T10:10:17.406507",
     "exception": false,
     "start_time": "2022-05-01T10:10:17.364657",
     "status": "completed"
    },
    "tags": []
   },
   "outputs": [
    {
     "data": {
      "text/plain": [
       "((10000, 28, 28), (10000,))"
      ]
     },
     "execution_count": 8,
     "metadata": {},
     "output_type": "execute_result"
    }
   ],
   "source": [
    "test_images.shape, test_labels.shape"
   ]
  },
  {
   "cell_type": "code",
   "execution_count": 9,
   "id": "f9ed8fe0",
   "metadata": {
    "execution": {
     "iopub.execute_input": "2022-05-01T10:10:17.461693Z",
     "iopub.status.busy": "2022-05-01T10:10:17.461176Z",
     "iopub.status.idle": "2022-05-01T10:10:17.598693Z",
     "shell.execute_reply": "2022-05-01T10:10:17.599211Z"
    },
    "papermill": {
     "duration": 0.167181,
     "end_time": "2022-05-01T10:10:17.599366",
     "exception": false,
     "start_time": "2022-05-01T10:10:17.432185",
     "status": "completed"
    },
    "tags": []
   },
   "outputs": [
    {
     "name": "stdout",
     "output_type": "stream",
     "text": [
      "2\n"
     ]
    },
    {
     "data": {
      "text/plain": [
       "<matplotlib.image.AxesImage at 0x7fd2fbcfd358>"
      ]
     },
     "execution_count": 9,
     "metadata": {},
     "output_type": "execute_result"
    },
    {
     "data": {
      "image/png": "[encoded data removed]",
      "text/plain": [
       "<Figure size 432x288 with 1 Axes>"
      ]
     },
     "metadata": {
      "needs_background": "light"
     },
     "output_type": "display_data"
    }
   ],
   "source": [
    "image_index = 7776 # You may select anything up to 60,000\n",
    "print(train_labels[image_index]) \n",
    "plt.imshow(train_images[image_index], cmap='Greys')"
   ]
  },
  {
   "cell_type": "markdown",
   "id": "a8d2388d",
   "metadata": {
    "papermill": {
     "duration": 0.026748,
     "end_time": "2022-05-01T10:10:17.653721",
     "exception": false,
     "start_time": "2022-05-01T10:10:17.626973",
     "status": "completed"
    },
    "tags": []
   },
   "source": [
    "## Filter data to get 3 and 8 out"
   ]
  },
  {
   "cell_type": "code",
   "execution_count": 10,
   "id": "776f7fc7",
   "metadata": {
    "execution": {
     "iopub.execute_input": "2022-05-01T10:10:17.711181Z",
     "iopub.status.busy": "2022-05-01T10:10:17.710621Z",
     "iopub.status.idle": "2022-05-01T10:10:17.729486Z",
     "shell.execute_reply": "2022-05-01T10:10:17.729050Z"
    },
    "papermill": {
     "duration": 0.049362,
     "end_time": "2022-05-01T10:10:17.729603",
     "exception": false,
     "start_time": "2022-05-01T10:10:17.680241",
     "status": "completed"
    },
    "tags": []
   },
   "outputs": [],
   "source": [
    "train_filter = np.where((train_labels == 3 ) | (train_labels == 8))\n",
    "test_filter = np.where((test_labels == 3) | (test_labels == 8))\n",
    "X_train, y_train = train_images[train_filter], train_labels[train_filter]\n",
    "X_test, y_test = test_images[test_filter], test_labels[test_filter]"
   ]
  },
  {
   "cell_type": "markdown",
   "id": "948f0b7e",
   "metadata": {
    "papermill": {
     "duration": 0.026617,
     "end_time": "2022-05-01T10:10:17.783002",
     "exception": false,
     "start_time": "2022-05-01T10:10:17.756385",
     "status": "completed"
    },
    "tags": []
   },
   "source": [
    "We normalize the pizel values in the 0 to 1 range"
   ]
  },
  {
   "cell_type": "code",
   "execution_count": 11,
   "id": "ee4c2166",
   "metadata": {
    "execution": {
     "iopub.execute_input": "2022-05-01T10:10:17.840223Z",
     "iopub.status.busy": "2022-05-01T10:10:17.839714Z",
     "iopub.status.idle": "2022-05-01T10:10:17.887211Z",
     "shell.execute_reply": "2022-05-01T10:10:17.886658Z"
    },
    "papermill": {
     "duration": 0.077824,
     "end_time": "2022-05-01T10:10:17.887351",
     "exception": false,
     "start_time": "2022-05-01T10:10:17.809527",
     "status": "completed"
    },
    "tags": []
   },
   "outputs": [],
   "source": [
    "X_train = X_train/255.\n",
    "X_test = X_test/255."
   ]
  },
  {
   "cell_type": "markdown",
   "id": "ddcf4fab",
   "metadata": {
    "papermill": {
     "duration": 0.026878,
     "end_time": "2022-05-01T10:10:17.941543",
     "exception": false,
     "start_time": "2022-05-01T10:10:17.914665",
     "status": "completed"
    },
    "tags": []
   },
   "source": [
    "And setup the labels as 1 (when the digit is 3) and 0 (when the digit is 8)"
   ]
  },
  {
   "cell_type": "code",
   "execution_count": 12,
   "id": "7dc908f2",
   "metadata": {
    "execution": {
     "iopub.execute_input": "2022-05-01T10:10:17.999671Z",
     "iopub.status.busy": "2022-05-01T10:10:17.999142Z",
     "iopub.status.idle": "2022-05-01T10:10:18.010824Z",
     "shell.execute_reply": "2022-05-01T10:10:18.010381Z"
    },
    "papermill": {
     "duration": 0.043,
     "end_time": "2022-05-01T10:10:18.010958",
     "exception": false,
     "start_time": "2022-05-01T10:10:17.967958",
     "status": "completed"
    },
    "tags": []
   },
   "outputs": [],
   "source": [
    "y_train = 1*(y_train==3)\n",
    "y_test = 1*(y_test==3)"
   ]
  },
  {
   "cell_type": "code",
   "execution_count": 13,
   "id": "01e4e969",
   "metadata": {
    "execution": {
     "iopub.execute_input": "2022-05-01T10:10:18.067885Z",
     "iopub.status.busy": "2022-05-01T10:10:18.067366Z",
     "iopub.status.idle": "2022-05-01T10:10:18.081528Z",
     "shell.execute_reply": "2022-05-01T10:10:18.081110Z"
    },
    "papermill": {
     "duration": 0.044058,
     "end_time": "2022-05-01T10:10:18.081642",
     "exception": false,
     "start_time": "2022-05-01T10:10:18.037584",
     "status": "completed"
    },
    "tags": []
   },
   "outputs": [
    {
     "data": {
      "text/plain": [
       "((11982, 28, 28), (1984, 28, 28))"
      ]
     },
     "execution_count": 13,
     "metadata": {},
     "output_type": "execute_result"
    }
   ],
   "source": [
    "X_train.shape, X_test.shape"
   ]
  },
  {
   "cell_type": "markdown",
   "id": "5ccf3f85",
   "metadata": {
    "papermill": {
     "duration": 0.026812,
     "end_time": "2022-05-01T10:10:18.135313",
     "exception": false,
     "start_time": "2022-05-01T10:10:18.108501",
     "status": "completed"
    },
    "tags": []
   },
   "source": [
    "We reshape the data to flatten the image pixels into a set of features or co-variates:"
   ]
  },
  {
   "cell_type": "code",
   "execution_count": 14,
   "id": "5286a4a3",
   "metadata": {
    "execution": {
     "iopub.execute_input": "2022-05-01T10:10:18.195662Z",
     "iopub.status.busy": "2022-05-01T10:10:18.195140Z",
     "iopub.status.idle": "2022-05-01T10:10:18.207363Z",
     "shell.execute_reply": "2022-05-01T10:10:18.206933Z"
    },
    "papermill": {
     "duration": 0.045334,
     "end_time": "2022-05-01T10:10:18.207479",
     "exception": false,
     "start_time": "2022-05-01T10:10:18.162145",
     "status": "completed"
    },
    "tags": []
   },
   "outputs": [
    {
     "data": {
      "text/plain": [
       "((11982, 784), (1984, 784))"
      ]
     },
     "execution_count": 14,
     "metadata": {},
     "output_type": "execute_result"
    }
   ],
   "source": [
    "X_train = X_train.reshape(X_train.shape[0], -1)\n",
    "X_test = X_test.reshape(X_test.shape[0], -1)\n",
    "X_train.shape, X_test.shape"
   ]
  },
  {
   "cell_type": "code",
   "execution_count": 15,
   "id": "73c5f88a",
   "metadata": {
    "execution": {
     "iopub.execute_input": "2022-05-01T10:10:18.266265Z",
     "iopub.status.busy": "2022-05-01T10:10:18.265754Z",
     "iopub.status.idle": "2022-05-01T10:10:18.284184Z",
     "shell.execute_reply": "2022-05-01T10:10:18.283768Z"
    },
    "papermill": {
     "duration": 0.049567,
     "end_time": "2022-05-01T10:10:18.284297",
     "exception": false,
     "start_time": "2022-05-01T10:10:18.234730",
     "status": "completed"
    },
    "tags": []
   },
   "outputs": [],
   "source": [
    "#Impoting functions from 'Kudzu'\n",
    "from kudzu.model import Model\n",
    "from kudzu.train import Learner\n",
    "from kudzu.optim import GD\n",
    "from kudzu.data import Data, Sampler,Dataloader\n",
    "\n",
    "from kudzu.callbacks import AccCallback\n",
    "from kudzu.callbacks import ClfCallback\n",
    "\n",
    "from kudzu.loss import MSE\n",
    "\n",
    "from kudzu.layer import Sigmoid,Relu\n",
    "from kudzu.layer import Affine"
   ]
  },
  {
   "cell_type": "markdown",
   "id": "bc01172a",
   "metadata": {
    "papermill": {
     "duration": 0.027171,
     "end_time": "2022-05-01T10:10:18.338729",
     "exception": false,
     "start_time": "2022-05-01T10:10:18.311558",
     "status": "completed"
    },
    "tags": []
   },
   "source": [
    "### Let us create a `Config` class, to store important parameters. \n",
    "This class essentially plays the role of a dictionary."
   ]
  },
  {
   "cell_type": "code",
   "execution_count": 16,
   "id": "978281aa",
   "metadata": {
    "execution": {
     "iopub.execute_input": "2022-05-01T10:10:18.396399Z",
     "iopub.status.busy": "2022-05-01T10:10:18.395860Z",
     "iopub.status.idle": "2022-05-01T10:10:18.409260Z",
     "shell.execute_reply": "2022-05-01T10:10:18.408795Z"
    },
    "papermill": {
     "duration": 0.043536,
     "end_time": "2022-05-01T10:10:18.409375",
     "exception": false,
     "start_time": "2022-05-01T10:10:18.365839",
     "status": "completed"
    },
    "tags": []
   },
   "outputs": [],
   "source": [
    "class Config:\n",
    "    pass\n",
    "config = Config()\n",
    "config.lr = 0.001\n",
    "config.num_epochs = 250\n",
    "config.bs = 50"
   ]
  },
  {
   "cell_type": "markdown",
   "id": "1385fa59",
   "metadata": {
    "papermill": {
     "duration": 0.027298,
     "end_time": "2022-05-01T10:10:18.463941",
     "exception": false,
     "start_time": "2022-05-01T10:10:18.436643",
     "status": "completed"
    },
    "tags": []
   },
   "source": [
    "### Running Models with the Training data\n",
    "Details about the network layers:\n",
    "- A first affine layer has 784 inputs and does 100 affine transforms. These are followed by a Relu\n",
    "- A second affine layer has 100 inputs from the 100 activations of the past layer, and does 100 affine transforms. These are followed by a Relu\n",
    "- A third affine layer has 100 activations and does 2 affine transformations to create an embedding for visualization. There is no non-linearity here.\n",
    "- A final \"logistic regression\" which has an affine transform from 2 inputs to 1 output, which is squeezed through a sigmoid.\n"
   ]
  },
  {
   "cell_type": "code",
   "execution_count": 17,
   "id": "2b9c66db",
   "metadata": {
    "execution": {
     "iopub.execute_input": "2022-05-01T10:10:18.522547Z",
     "iopub.status.busy": "2022-05-01T10:10:18.522019Z",
     "iopub.status.idle": "2022-05-01T10:10:18.534550Z",
     "shell.execute_reply": "2022-05-01T10:10:18.534124Z"
    },
    "papermill": {
     "duration": 0.043458,
     "end_time": "2022-05-01T10:10:18.534668",
     "exception": false,
     "start_time": "2022-05-01T10:10:18.491210",
     "status": "completed"
    },
    "tags": []
   },
   "outputs": [],
   "source": [
    "data = Data(X_train, y_train.reshape(-1,1))\n",
    "sampler = Sampler(data, config.bs, shuffle=True)\n",
    "\n",
    "dl = Dataloader(data, sampler)\n",
    "\n",
    "opt = GD(config.lr)\n",
    "loss = MSE()"
   ]
  },
  {
   "cell_type": "code",
   "execution_count": 18,
   "id": "b275e4c2",
   "metadata": {
    "execution": {
     "iopub.execute_input": "2022-05-01T10:10:18.596586Z",
     "iopub.status.busy": "2022-05-01T10:10:18.596056Z",
     "iopub.status.idle": "2022-05-01T10:10:18.605602Z",
     "shell.execute_reply": "2022-05-01T10:10:18.606013Z"
    },
    "papermill": {
     "duration": 0.044082,
     "end_time": "2022-05-01T10:10:18.606144",
     "exception": false,
     "start_time": "2022-05-01T10:10:18.562062",
     "status": "completed"
    },
    "tags": []
   },
   "outputs": [],
   "source": [
    "training_data_x = X_train\n",
    "testing_data_x = X_test\n",
    "training_data_y = y_train.reshape(-1,1)\n",
    "testing_data_y = y_test.reshape(-1,1)"
   ]
  },
  {
   "cell_type": "code",
   "execution_count": 19,
   "id": "76951160",
   "metadata": {
    "execution": {
     "iopub.execute_input": "2022-05-01T10:10:18.666735Z",
     "iopub.status.busy": "2022-05-01T10:10:18.666200Z",
     "iopub.status.idle": "2022-05-01T10:10:18.681039Z",
     "shell.execute_reply": "2022-05-01T10:10:18.680610Z"
    },
    "papermill": {
     "duration": 0.047931,
     "end_time": "2022-05-01T10:10:18.681155",
     "exception": false,
     "start_time": "2022-05-01T10:10:18.633224",
     "status": "completed"
    },
    "tags": []
   },
   "outputs": [
    {
     "name": "stdout",
     "output_type": "stream",
     "text": [
      "xavier\n",
      "xavier\n",
      "xavier\n",
      "xavier\n",
      "xavier\n"
     ]
    }
   ],
   "source": [
    "layers = [Affine(\"first\", 784, 100), Relu(\"first\"), Affine(\"second\", 100, 100), Relu(\"second\"), Affine(\"third\", 100, 2), Affine(\"last\", 2, 1), Sigmoid(\"last\")]\n",
    "model_nn = Model(layers)\n",
    "model_lr = Model([Affine(\"logits\", 784, 1), Sigmoid(\"sigmoid\")])"
   ]
  },
  {
   "cell_type": "code",
   "execution_count": 20,
   "id": "6eede77a",
   "metadata": {
    "execution": {
     "iopub.execute_input": "2022-05-01T10:10:18.740382Z",
     "iopub.status.busy": "2022-05-01T10:10:18.739858Z",
     "iopub.status.idle": "2022-05-01T10:10:18.753048Z",
     "shell.execute_reply": "2022-05-01T10:10:18.752613Z"
    },
    "papermill": {
     "duration": 0.0445,
     "end_time": "2022-05-01T10:10:18.753168",
     "exception": false,
     "start_time": "2022-05-01T10:10:18.708668",
     "status": "completed"
    },
    "tags": []
   },
   "outputs": [],
   "source": [
    "nn_learner = Learner(loss, model_nn, opt, config.num_epochs)\n",
    "acc_nn = ClfCallback(nn_learner, config.bs, training_data_x , testing_data_x, training_data_y, testing_data_y)\n",
    "nn_learner.set_callbacks([acc_nn])"
   ]
  },
  {
   "cell_type": "code",
   "execution_count": 21,
   "id": "877b6cc7",
   "metadata": {
    "execution": {
     "iopub.execute_input": "2022-05-01T10:10:18.813007Z",
     "iopub.status.busy": "2022-05-01T10:10:18.812464Z",
     "iopub.status.idle": "2022-05-01T10:10:18.824869Z",
     "shell.execute_reply": "2022-05-01T10:10:18.824453Z"
    },
    "papermill": {
     "duration": 0.044003,
     "end_time": "2022-05-01T10:10:18.824984",
     "exception": false,
     "start_time": "2022-05-01T10:10:18.780981",
     "status": "completed"
    },
    "tags": []
   },
   "outputs": [],
   "source": [
    "lr_learner = Learner(loss, model_lr, opt, config.num_epochs)\n",
    "acc_lr = ClfCallback(lr_learner, config.bs, training_data_x , testing_data_x, training_data_y, testing_data_y)\n",
    "lr_learner.set_callbacks([acc_lr])"
   ]
  },
  {
   "cell_type": "code",
   "execution_count": 22,
   "id": "d9b133c3",
   "metadata": {
    "execution": {
     "iopub.execute_input": "2022-05-01T10:10:18.888234Z",
     "iopub.status.busy": "2022-05-01T10:10:18.887723Z",
     "iopub.status.idle": "2022-05-01T10:11:34.473671Z",
     "shell.execute_reply": "2022-05-01T10:11:34.474405Z"
    },
    "papermill": {
     "duration": 75.621813,
     "end_time": "2022-05-01T10:11:34.474550",
     "exception": false,
     "start_time": "2022-05-01T10:10:18.852737",
     "status": "completed"
    },
    "tags": []
   },
   "outputs": [
    {
     "name": "stdout",
     "output_type": "stream",
     "text": [
      "Epoch 0, Loss 0.2471\n",
      "Training Accuracy: 0.5612, Testing Accuracy: 0.5650\n",
      "\n"
     ]
    },
    {
     "name": "stdout",
     "output_type": "stream",
     "text": [
      "Epoch 10, Loss 0.1612\n",
      "Training Accuracy: 0.8826, Testing Accuracy: 0.8972\n",
      "\n"
     ]
    },
    {
     "name": "stdout",
     "output_type": "stream",
     "text": [
      "Epoch 20, Loss 0.0822\n",
      "Training Accuracy: 0.9230, Testing Accuracy: 0.9335\n",
      "\n"
     ]
    },
    {
     "name": "stdout",
     "output_type": "stream",
     "text": [
      "Epoch 30, Loss 0.0568\n",
      "Training Accuracy: 0.9387, Testing Accuracy: 0.9481\n",
      "\n"
     ]
    },
    {
     "name": "stdout",
     "output_type": "stream",
     "text": [
      "Epoch 40, Loss 0.0463\n",
      "Training Accuracy: 0.9480, Testing Accuracy: 0.9582\n",
      "\n"
     ]
    },
    {
     "name": "stdout",
     "output_type": "stream",
     "text": [
      "Epoch 50, Loss 0.0406\n",
      "Training Accuracy: 0.9528, Testing Accuracy: 0.9627\n",
      "\n"
     ]
    },
    {
     "name": "stdout",
     "output_type": "stream",
     "text": [
      "Epoch 60, Loss 0.037\n",
      "Training Accuracy: 0.9567, Testing Accuracy: 0.9632\n",
      "\n"
     ]
    },
    {
     "name": "stdout",
     "output_type": "stream",
     "text": [
      "Epoch 70, Loss 0.0345\n",
      "Training Accuracy: 0.9593, Testing Accuracy: 0.9637\n",
      "\n"
     ]
    },
    {
     "name": "stdout",
     "output_type": "stream",
     "text": [
      "Epoch 80, Loss 0.0325\n",
      "Training Accuracy: 0.9619, Testing Accuracy: 0.9672\n",
      "\n"
     ]
    },
    {
     "name": "stdout",
     "output_type": "stream",
     "text": [
      "Epoch 90, Loss 0.031\n",
      "Training Accuracy: 0.9638, Testing Accuracy: 0.9682\n",
      "\n"
     ]
    },
    {
     "name": "stdout",
     "output_type": "stream",
     "text": [
      "Epoch 100, Loss 0.0297\n",
      "Training Accuracy: 0.9645, Testing Accuracy: 0.9708\n",
      "\n"
     ]
    },
    {
     "name": "stdout",
     "output_type": "stream",
     "text": [
      "Epoch 110, Loss 0.0286\n",
      "Training Accuracy: 0.9657, Testing Accuracy: 0.9708\n",
      "\n"
     ]
    },
    {
     "name": "stdout",
     "output_type": "stream",
     "text": [
      "Epoch 120, Loss 0.0277\n",
      "Training Accuracy: 0.9672, Testing Accuracy: 0.9708\n",
      "\n"
     ]
    },
    {
     "name": "stdout",
     "output_type": "stream",
     "text": [
      "Epoch 130, Loss 0.0269\n",
      "Training Accuracy: 0.9678, Testing Accuracy: 0.9713\n",
      "\n"
     ]
    },
    {
     "name": "stdout",
     "output_type": "stream",
     "text": [
      "Epoch 140, Loss 0.0262\n",
      "Training Accuracy: 0.9690, Testing Accuracy: 0.9708\n",
      "\n"
     ]
    },
    {
     "name": "stdout",
     "output_type": "stream",
     "text": [
      "Epoch 150, Loss 0.0255\n",
      "Training Accuracy: 0.9699, Testing Accuracy: 0.9703\n",
      "\n"
     ]
    },
    {
     "name": "stdout",
     "output_type": "stream",
     "text": [
      "Epoch 160, Loss 0.0249\n",
      "Training Accuracy: 0.9701, Testing Accuracy: 0.9708\n",
      "\n"
     ]
    },
    {
     "name": "stdout",
     "output_type": "stream",
     "text": [
      "Epoch 170, Loss 0.0244\n",
      "Training Accuracy: 0.9706, Testing Accuracy: 0.9703\n",
      "\n"
     ]
    },
    {
     "name": "stdout",
     "output_type": "stream",
     "text": [
      "Epoch 180, Loss 0.0239\n",
      "Training Accuracy: 0.9714, Testing Accuracy: 0.9698\n",
      "\n"
     ]
    },
    {
     "name": "stdout",
     "output_type": "stream",
     "text": [
      "Epoch 190, Loss 0.0234\n",
      "Training Accuracy: 0.9725, Testing Accuracy: 0.9708\n",
      "\n"
     ]
    },
    {
     "name": "stdout",
     "output_type": "stream",
     "text": [
      "Epoch 200, Loss 0.0229\n",
      "Training Accuracy: 0.9730, Testing Accuracy: 0.9713\n",
      "\n"
     ]
    },
    {
     "name": "stdout",
     "output_type": "stream",
     "text": [
      "Epoch 210, Loss 0.0225\n",
      "Training Accuracy: 0.9737, Testing Accuracy: 0.9713\n",
      "\n"
     ]
    },
    {
     "name": "stdout",
     "output_type": "stream",
     "text": [
      "Epoch 220, Loss 0.0221\n",
      "Training Accuracy: 0.9742, Testing Accuracy: 0.9708\n",
      "\n"
     ]
    },
    {
     "name": "stdout",
     "output_type": "stream",
     "text": [
      "Epoch 230, Loss 0.0217\n",
      "Training Accuracy: 0.9750, Testing Accuracy: 0.9713\n",
      "\n"
     ]
    },
    {
     "name": "stdout",
     "output_type": "stream",
     "text": [
      "Epoch 240, Loss 0.0213\n",
      "Training Accuracy: 0.9755, Testing Accuracy: 0.9713\n",
      "\n"
     ]
    },
    {
     "data": {
      "text/plain": [
       "0.03313308142903599"
      ]
     },
     "execution_count": 22,
     "metadata": {},
     "output_type": "execute_result"
    }
   ],
   "source": [
    "nn_learner.train_loop(dl)"
   ]
  },
  {
   "cell_type": "code",
   "execution_count": 23,
   "id": "e0163366",
   "metadata": {
    "execution": {
     "iopub.execute_input": "2022-05-01T10:11:34.555298Z",
     "iopub.status.busy": "2022-05-01T10:11:34.554742Z",
     "iopub.status.idle": "2022-05-01T10:11:47.862198Z",
     "shell.execute_reply": "2022-05-01T10:11:47.862918Z"
    },
    "papermill": {
     "duration": 13.353761,
     "end_time": "2022-05-01T10:11:47.863070",
     "exception": false,
     "start_time": "2022-05-01T10:11:34.509309",
     "status": "completed"
    },
    "tags": []
   },
   "outputs": [
    {
     "name": "stdout",
     "output_type": "stream",
     "text": [
      "Epoch 0, Loss 0.248\n",
      "Training Accuracy: 0.6476, Testing Accuracy: 0.6316\n",
      "\n"
     ]
    },
    {
     "name": "stdout",
     "output_type": "stream",
     "text": [
      "Epoch 10, Loss 0.1047\n",
      "Training Accuracy: 0.9009, Testing Accuracy: 0.9068\n",
      "\n"
     ]
    },
    {
     "name": "stdout",
     "output_type": "stream",
     "text": [
      "Epoch 20, Loss 0.08\n",
      "Training Accuracy: 0.9229, Testing Accuracy: 0.9325\n",
      "\n"
     ]
    },
    {
     "name": "stdout",
     "output_type": "stream",
     "text": [
      "Epoch 30, Loss 0.0687\n",
      "Training Accuracy: 0.9335, Testing Accuracy: 0.9435\n",
      "\n"
     ]
    },
    {
     "name": "stdout",
     "output_type": "stream",
     "text": [
      "Epoch 40, Loss 0.062\n",
      "Training Accuracy: 0.9387, Testing Accuracy: 0.9486\n",
      "\n"
     ]
    },
    {
     "name": "stdout",
     "output_type": "stream",
     "text": [
      "Epoch 50, Loss 0.0574\n",
      "Training Accuracy: 0.9433, Testing Accuracy: 0.9526\n",
      "\n"
     ]
    },
    {
     "name": "stdout",
     "output_type": "stream",
     "text": [
      "Epoch 60, Loss 0.0541\n",
      "Training Accuracy: 0.9460, Testing Accuracy: 0.9572\n",
      "\n"
     ]
    },
    {
     "name": "stdout",
     "output_type": "stream",
     "text": [
      "Epoch 70, Loss 0.0515\n",
      "Training Accuracy: 0.9487, Testing Accuracy: 0.9582\n",
      "\n"
     ]
    },
    {
     "name": "stdout",
     "output_type": "stream",
     "text": [
      "Epoch 80, Loss 0.0494\n",
      "Training Accuracy: 0.9506, Testing Accuracy: 0.9602\n",
      "\n"
     ]
    },
    {
     "name": "stdout",
     "output_type": "stream",
     "text": [
      "Epoch 90, Loss 0.0477\n",
      "Training Accuracy: 0.9524, Testing Accuracy: 0.9612\n",
      "\n"
     ]
    },
    {
     "name": "stdout",
     "output_type": "stream",
     "text": [
      "Epoch 100, Loss 0.0462\n",
      "Training Accuracy: 0.9533, Testing Accuracy: 0.9617\n",
      "\n"
     ]
    },
    {
     "name": "stdout",
     "output_type": "stream",
     "text": [
      "Epoch 110, Loss 0.045\n",
      "Training Accuracy: 0.9540, Testing Accuracy: 0.9622\n",
      "\n"
     ]
    },
    {
     "name": "stdout",
     "output_type": "stream",
     "text": [
      "Epoch 120, Loss 0.0439\n",
      "Training Accuracy: 0.9551, Testing Accuracy: 0.9632\n",
      "\n"
     ]
    },
    {
     "name": "stdout",
     "output_type": "stream",
     "text": [
      "Epoch 130, Loss 0.043\n",
      "Training Accuracy: 0.9555, Testing Accuracy: 0.9637\n",
      "\n"
     ]
    },
    {
     "name": "stdout",
     "output_type": "stream",
     "text": [
      "Epoch 140, Loss 0.0421\n",
      "Training Accuracy: 0.9559, Testing Accuracy: 0.9652\n",
      "\n"
     ]
    },
    {
     "name": "stdout",
     "output_type": "stream",
     "text": [
      "Epoch 150, Loss 0.0414\n",
      "Training Accuracy: 0.9567, Testing Accuracy: 0.9657\n",
      "\n"
     ]
    },
    {
     "name": "stdout",
     "output_type": "stream",
     "text": [
      "Epoch 160, Loss 0.0407\n",
      "Training Accuracy: 0.9574, Testing Accuracy: 0.9657\n",
      "\n"
     ]
    },
    {
     "name": "stdout",
     "output_type": "stream",
     "text": [
      "Epoch 170, Loss 0.0401\n",
      "Training Accuracy: 0.9579, Testing Accuracy: 0.9657\n",
      "\n"
     ]
    },
    {
     "name": "stdout",
     "output_type": "stream",
     "text": [
      "Epoch 180, Loss 0.0395\n",
      "Training Accuracy: 0.9585, Testing Accuracy: 0.9667\n",
      "\n"
     ]
    },
    {
     "name": "stdout",
     "output_type": "stream",
     "text": [
      "Epoch 190, Loss 0.039\n",
      "Training Accuracy: 0.9588, Testing Accuracy: 0.9667\n",
      "\n"
     ]
    },
    {
     "name": "stdout",
     "output_type": "stream",
     "text": [
      "Epoch 200, Loss 0.0385\n",
      "Training Accuracy: 0.9593, Testing Accuracy: 0.9672\n",
      "\n"
     ]
    },
    {
     "name": "stdout",
     "output_type": "stream",
     "text": [
      "Epoch 210, Loss 0.038\n",
      "Training Accuracy: 0.9599, Testing Accuracy: 0.9677\n",
      "\n"
     ]
    },
    {
     "name": "stdout",
     "output_type": "stream",
     "text": [
      "Epoch 220, Loss 0.0376\n",
      "Training Accuracy: 0.9603, Testing Accuracy: 0.9677\n",
      "\n"
     ]
    },
    {
     "name": "stdout",
     "output_type": "stream",
     "text": [
      "Epoch 230, Loss 0.0372\n",
      "Training Accuracy: 0.9606, Testing Accuracy: 0.9677\n",
      "\n"
     ]
    },
    {
     "name": "stdout",
     "output_type": "stream",
     "text": [
      "Epoch 240, Loss 0.0369\n",
      "Training Accuracy: 0.9607, Testing Accuracy: 0.9677\n",
      "\n"
     ]
    },
    {
     "data": {
      "text/plain": [
       "0.013737383316483786"
      ]
     },
     "execution_count": 23,
     "metadata": {},
     "output_type": "execute_result"
    }
   ],
   "source": [
    "lr_learner.train_loop(dl)"
   ]
  },
  {
   "cell_type": "code",
   "execution_count": 24,
   "id": "ca410940",
   "metadata": {
    "execution": {
     "iopub.execute_input": "2022-05-01T10:11:47.951953Z",
     "iopub.status.busy": "2022-05-01T10:11:47.951428Z",
     "iopub.status.idle": "2022-05-01T10:11:48.170403Z",
     "shell.execute_reply": "2022-05-01T10:11:48.169501Z"
    },
    "papermill": {
     "duration": 0.265671,
     "end_time": "2022-05-01T10:11:48.170547",
     "exception": false,
     "start_time": "2022-05-01T10:11:47.904876",
     "status": "completed"
    },
    "tags": []
   },
   "outputs": [
    {
     "data": {
      "text/plain": [
       "<matplotlib.legend.Legend at 0x7fd2fb8dc550>"
      ]
     },
     "execution_count": 24,
     "metadata": {},
     "output_type": "execute_result"
    },
    {
     "data": {
      "image/png": "[encoded data removed]",
      "text/plain": [
       "<Figure size 1080x720 with 1 Axes>"
      ]
     },
     "metadata": {
      "needs_background": "light"
     },
     "output_type": "display_data"
    }
   ],
   "source": [
    "#comparing the results of NN and LR\n",
    "plt.figure(figsize=(15,10))\n",
    "\n",
    "# Neural Network plots\n",
    "plt.plot(acc_nn.accuracies, 'r-', label = \"Training Accuracies - NN\")\n",
    "plt.plot(acc_nn.test_accuracies, 'g-', label = \"Testing Accuracies - NN\")\n",
    "\n",
    "# Logistic Regression plots\n",
    "plt.plot(acc_lr.accuracies, 'k-', label = \"Training Accuracies - LR\")\n",
    "plt.plot(acc_lr.test_accuracies, 'b-', label = \"Testing Accuracies - LR\")\n",
    "plt.legend()"
   ]
  },
  {
   "cell_type": "markdown",
   "id": "80dfb35c",
   "metadata": {
    "papermill": {
     "duration": 0.04219,
     "end_time": "2022-05-01T10:11:48.255752",
     "exception": false,
     "start_time": "2022-05-01T10:11:48.213562",
     "status": "completed"
    },
    "tags": []
   },
   "source": [
    "#### Plotting the outputs of this layer of the NN.\n"
   ]
  },
  {
   "cell_type": "code",
   "execution_count": 25,
   "id": "45eb2ff5",
   "metadata": {
    "execution": {
     "iopub.execute_input": "2022-05-01T10:11:48.347659Z",
     "iopub.status.busy": "2022-05-01T10:11:48.343673Z",
     "iopub.status.idle": "2022-05-01T10:11:48.363042Z",
     "shell.execute_reply": "2022-05-01T10:11:48.363473Z"
    },
    "papermill": {
     "duration": 0.065824,
     "end_time": "2022-05-01T10:11:48.363608",
     "exception": false,
     "start_time": "2022-05-01T10:11:48.297784",
     "status": "completed"
    },
    "tags": []
   },
   "outputs": [],
   "source": [
    "new_model = Model(layers[:-2])\n",
    "testing_plot = new_model(testing_data_x)"
   ]
  },
  {
   "cell_type": "code",
   "execution_count": 26,
   "id": "4c0a5485",
   "metadata": {
    "execution": {
     "iopub.execute_input": "2022-05-01T10:11:48.452261Z",
     "iopub.status.busy": "2022-05-01T10:11:48.451752Z",
     "iopub.status.idle": "2022-05-01T10:11:48.660561Z",
     "shell.execute_reply": "2022-05-01T10:11:48.660136Z"
    },
    "papermill": {
     "duration": 0.254794,
     "end_time": "2022-05-01T10:11:48.660678",
     "exception": false,
     "start_time": "2022-05-01T10:11:48.405884",
     "status": "completed"
    },
    "tags": []
   },
   "outputs": [
    {
     "data": {
      "text/plain": [
       "Text(0.5, 1.0, 'Outputs')"
      ]
     },
     "execution_count": 26,
     "metadata": {},
     "output_type": "execute_result"
    },
    {
     "data": {
      "image/png": "[encoded data removed]",
      "text/plain": [
       "<Figure size 576x504 with 1 Axes>"
      ]
     },
     "metadata": {
      "needs_background": "light"
     },
     "output_type": "display_data"
    }
   ],
   "source": [
    "# Plotting the scatter plot of points and color coding by class\n",
    "plt.figure(figsize=(8,7))\n",
    "plt.scatter(testing_plot[:,0], testing_plot[:,1], alpha = 0.1, c = y_test.ravel());\n",
    "plt.title('Outputs')"
   ]
  },
  {
   "cell_type": "markdown",
   "id": "a74fcf8f",
   "metadata": {
    "papermill": {
     "duration": 0.044525,
     "end_time": "2022-05-01T10:11:48.749741",
     "exception": false,
     "start_time": "2022-05-01T10:11:48.705216",
     "status": "completed"
    },
    "tags": []
   },
   "source": [
    "Probability contours"
   ]
  },
  {
   "cell_type": "code",
   "execution_count": 27,
   "id": "d0afc8e3",
   "metadata": {
    "execution": {
     "iopub.execute_input": "2022-05-01T10:11:48.845374Z",
     "iopub.status.busy": "2022-05-01T10:11:48.844540Z",
     "iopub.status.idle": "2022-05-01T10:11:48.855387Z",
     "shell.execute_reply": "2022-05-01T10:11:48.854935Z"
    },
    "papermill": {
     "duration": 0.061066,
     "end_time": "2022-05-01T10:11:48.855496",
     "exception": false,
     "start_time": "2022-05-01T10:11:48.794430",
     "status": "completed"
    },
    "tags": []
   },
   "outputs": [],
   "source": [
    "model_prob = Model(layers[-2:]) "
   ]
  },
  {
   "cell_type": "code",
   "execution_count": 28,
   "id": "9b96e238",
   "metadata": {
    "execution": {
     "iopub.execute_input": "2022-05-01T10:11:48.980677Z",
     "iopub.status.busy": "2022-05-01T10:11:48.980116Z",
     "iopub.status.idle": "2022-05-01T10:11:48.991708Z",
     "shell.execute_reply": "2022-05-01T10:11:48.992109Z"
    },
    "papermill": {
     "duration": 0.066503,
     "end_time": "2022-05-01T10:11:48.992247",
     "exception": false,
     "start_time": "2022-05-01T10:11:48.925744",
     "status": "completed"
    },
    "tags": []
   },
   "outputs": [],
   "source": [
    "#creating the x and y ranges according to the above generated plot.\n",
    "x_range = np.linspace(-4, 1, 100) \n",
    "y_range = np.linspace(-6, 6, 100) \n",
    "x_grid, y_grid = np.meshgrid(x_range, y_range) # x_grid and y_grig are of size 100 X 100\n",
    "\n",
    "# converting x_grid and y_grid to continuous arrays\n",
    "x_gridflat = np.ravel(x_grid)\n",
    "y_gridflat = np.ravel(y_grid)\n",
    "\n",
    "# The last layer of the current model takes two columns as input. Hence transpose of np.vstack() is required.\n",
    "X = np.vstack((x_gridflat, y_gridflat)).T\n",
    "\n",
    "prob_contour = model_prob(X).reshape(100,100) "
   ]
  },
  {
   "cell_type": "code",
   "execution_count": 29,
   "id": "da72499a",
   "metadata": {
    "execution": {
     "iopub.execute_input": "2022-05-01T10:11:49.090555Z",
     "iopub.status.busy": "2022-05-01T10:11:49.090048Z",
     "iopub.status.idle": "2022-05-01T10:11:49.341476Z",
     "shell.execute_reply": "2022-05-01T10:11:49.341875Z"
    },
    "papermill": {
     "duration": 0.304713,
     "end_time": "2022-05-01T10:11:49.342014",
     "exception": false,
     "start_time": "2022-05-01T10:11:49.037301",
     "status": "completed"
    },
    "tags": []
   },
   "outputs": [
    {
     "data": {
      "image/png": "[encoded data removed]",
      "text/plain": [
       "<Figure size 720x648 with 1 Axes>"
      ]
     },
     "metadata": {
      "needs_background": "light"
     },
     "output_type": "display_data"
    }
   ],
   "source": [
    "plt.figure(figsize=(10,9))\n",
    "plt.scatter(testing_plot[:,0], testing_plot[:,1], alpha = 0.1, c = y_test.ravel())\n",
    "contours = plt.contour(x_grid,y_grid,prob_contour)\n",
    "plt.title('Probability Contours')\n",
    "plt.clabel(contours, inline = True );"
   ]
  },
  {
   "cell_type": "code",
   "execution_count": null,
   "id": "e81b4ac7",
   "metadata": {
    "papermill": {
     "duration": 0.047351,
     "end_time": "2022-05-01T10:11:49.437347",
     "exception": false,
     "start_time": "2022-05-01T10:11:49.389996",
     "status": "completed"
    },
    "tags": []
   },
   "outputs": [],
   "source": []
  }
 ],
 "metadata": {
  "kernelspec": {
   "display_name": "Python 3",
   "language": "python",
   "name": "python3"
  },
  "language_info": {
   "codemirror_mode": {
    "name": "ipython",
    "version": 3
   },
   "file_extension": ".py",
   "mimetype": "text/x-python",
   "name": "python",
   "nbconvert_exporter": "python",
   "pygments_lexer": "ipython3",
   "version": "3.6.15"
  },
  "papermill": {
   "default_parameters": {},
   "duration": 97.137039,
   "end_time": "2022-05-01T10:11:49.903722",
   "environment_variables": {},
   "exception": null,
   "input_path": "2020-08-11-part2.ipynb",
   "output_path": "2020-08-11-part2.ipynb",
   "parameters": {},
   "start_time": "2022-05-01T10:10:12.766683",
   "version": "2.3.3"
  }
 },
 "nbformat": 4,
 "nbformat_minor": 5
}