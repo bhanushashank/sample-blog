{
 "cells": [
  {
   "cell_type": "markdown",
   "id": "98380cd3",
   "metadata": {
    "papermill": {
     "duration": 0.040443,
     "end_time": "2022-07-09T10:11:05.653914",
     "exception": false,
     "start_time": "2022-07-09T10:11:05.613471",
     "status": "completed"
    },
    "tags": []
   },
   "source": [
    "# Distinguish Your Own Digits (DYOD)"
   ]
  },
  {
   "cell_type": "markdown",
   "id": "ef31240d",
   "metadata": {
    "papermill": {
     "duration": 0.03308,
     "end_time": "2022-07-09T10:11:05.720155",
     "exception": false,
     "start_time": "2022-07-09T10:11:05.687075",
     "status": "completed"
    },
    "tags": []
   },
   "source": [
    "You are going to write a classifier that distinguishes between the number 3 and number 8."
   ]
  },
  {
   "cell_type": "code",
   "execution_count": 1,
   "id": "b15c8646",
   "metadata": {
    "execution": {
     "iopub.execute_input": "2022-07-09T10:11:05.802347Z",
     "iopub.status.busy": "2022-07-09T10:11:05.801488Z",
     "iopub.status.idle": "2022-07-09T10:11:05.815276Z",
     "shell.execute_reply": "2022-07-09T10:11:05.814623Z"
    },
    "papermill": {
     "duration": 0.062613,
     "end_time": "2022-07-09T10:11:05.815494",
     "exception": false,
     "start_time": "2022-07-09T10:11:05.752881",
     "status": "completed"
    },
    "tags": []
   },
   "outputs": [],
   "source": [
    "%load_ext autoreload\n",
    "%autoreload 2"
   ]
  },
  {
   "cell_type": "code",
   "execution_count": 2,
   "id": "22ef38dc",
   "metadata": {
    "execution": {
     "iopub.execute_input": "2022-07-09T10:11:05.889882Z",
     "iopub.status.busy": "2022-07-09T10:11:05.889066Z",
     "iopub.status.idle": "2022-07-09T10:11:06.575851Z",
     "shell.execute_reply": "2022-07-09T10:11:06.575239Z"
    },
    "papermill": {
     "duration": 0.725995,
     "end_time": "2022-07-09T10:11:06.576089",
     "exception": false,
     "start_time": "2022-07-09T10:11:05.850094",
     "status": "completed"
    },
    "tags": []
   },
   "outputs": [],
   "source": [
    "%matplotlib inline\n",
    "import numpy as np\n",
    "import matplotlib.pyplot as plt\n",
    "import pandas as pd"
   ]
  },
  {
   "cell_type": "markdown",
   "id": "ba036198",
   "metadata": {
    "papermill": {
     "duration": 0.033975,
     "end_time": "2022-07-09T10:11:06.644146",
     "exception": false,
     "start_time": "2022-07-09T10:11:06.610171",
     "status": "completed"
    },
    "tags": []
   },
   "source": [
    "From the command line run `pip install mnist`. This is a library that will help you bring down the mnist dataset. If you run this from a notebook, you need to put  `!pip install mnist` in a cell by itself."
   ]
  },
  {
   "cell_type": "code",
   "execution_count": 3,
   "id": "bb6ad8a1",
   "metadata": {
    "execution": {
     "iopub.execute_input": "2022-07-09T10:11:06.712564Z",
     "iopub.status.busy": "2022-07-09T10:11:06.711841Z",
     "iopub.status.idle": "2022-07-09T10:11:08.938303Z",
     "shell.execute_reply": "2022-07-09T10:11:08.937648Z"
    },
    "papermill": {
     "duration": 2.263579,
     "end_time": "2022-07-09T10:11:08.938452",
     "exception": false,
     "start_time": "2022-07-09T10:11:06.674873",
     "status": "completed"
    },
    "tags": []
   },
   "outputs": [
    {
     "name": "stdout",
     "output_type": "stream",
     "text": [
      "Collecting mnist\r\n"
     ]
    },
    {
     "name": "stdout",
     "output_type": "stream",
     "text": [
      "  Downloading mnist-0.2.2-py2.py3-none-any.whl (3.5 kB)\r\n",
      "Requirement already satisfied: numpy in /opt/hostedtoolcache/Python/3.6.15/x64/lib/python3.6/site-packages (from mnist) (1.19.5)\r\n"
     ]
    },
    {
     "name": "stdout",
     "output_type": "stream",
     "text": [
      "Installing collected packages: mnist\r\n"
     ]
    },
    {
     "name": "stdout",
     "output_type": "stream",
     "text": [
      "Successfully installed mnist-0.2.2\r\n"
     ]
    }
   ],
   "source": [
    "!pip install mnist"
   ]
  },
  {
   "cell_type": "markdown",
   "id": "69df9c9a",
   "metadata": {
    "papermill": {
     "duration": 0.033251,
     "end_time": "2022-07-09T10:11:09.006758",
     "exception": false,
     "start_time": "2022-07-09T10:11:08.973507",
     "status": "completed"
    },
    "tags": []
   },
   "source": [
    "## Preparing the Data"
   ]
  },
  {
   "cell_type": "code",
   "execution_count": 4,
   "id": "7f69d806",
   "metadata": {
    "execution": {
     "iopub.execute_input": "2022-07-09T10:11:09.085993Z",
     "iopub.status.busy": "2022-07-09T10:11:09.085229Z",
     "iopub.status.idle": "2022-07-09T10:11:09.102132Z",
     "shell.execute_reply": "2022-07-09T10:11:09.101508Z"
    },
    "papermill": {
     "duration": 0.061355,
     "end_time": "2022-07-09T10:11:09.102261",
     "exception": false,
     "start_time": "2022-07-09T10:11:09.040906",
     "status": "completed"
    },
    "tags": []
   },
   "outputs": [],
   "source": [
    "import mnist"
   ]
  },
  {
   "cell_type": "code",
   "execution_count": 5,
   "id": "a411e44f",
   "metadata": {
    "execution": {
     "iopub.execute_input": "2022-07-09T10:11:09.180375Z",
     "iopub.status.busy": "2022-07-09T10:11:09.179650Z",
     "iopub.status.idle": "2022-07-09T10:11:09.753217Z",
     "shell.execute_reply": "2022-07-09T10:11:09.753827Z"
    },
    "papermill": {
     "duration": 0.615352,
     "end_time": "2022-07-09T10:11:09.754041",
     "exception": false,
     "start_time": "2022-07-09T10:11:09.138689",
     "status": "completed"
    },
    "tags": []
   },
   "outputs": [],
   "source": [
    "train_images = mnist.train_images()\n",
    "train_labels = mnist.train_labels()"
   ]
  },
  {
   "cell_type": "code",
   "execution_count": 6,
   "id": "dceab3a5",
   "metadata": {
    "execution": {
     "iopub.execute_input": "2022-07-09T10:11:09.830363Z",
     "iopub.status.busy": "2022-07-09T10:11:09.829423Z",
     "iopub.status.idle": "2022-07-09T10:11:09.849378Z",
     "shell.execute_reply": "2022-07-09T10:11:09.850138Z"
    },
    "papermill": {
     "duration": 0.060453,
     "end_time": "2022-07-09T10:11:09.850293",
     "exception": false,
     "start_time": "2022-07-09T10:11:09.789840",
     "status": "completed"
    },
    "tags": []
   },
   "outputs": [
    {
     "data": {
      "text/plain": [
       "((60000, 28, 28), (60000,))"
      ]
     },
     "execution_count": 6,
     "metadata": {},
     "output_type": "execute_result"
    }
   ],
   "source": [
    "train_images.shape, train_labels.shape"
   ]
  },
  {
   "cell_type": "code",
   "execution_count": 7,
   "id": "f50dc2bb",
   "metadata": {
    "execution": {
     "iopub.execute_input": "2022-07-09T10:11:09.921070Z",
     "iopub.status.busy": "2022-07-09T10:11:09.920375Z",
     "iopub.status.idle": "2022-07-09T10:11:10.124751Z",
     "shell.execute_reply": "2022-07-09T10:11:10.123665Z"
    },
    "papermill": {
     "duration": 0.241992,
     "end_time": "2022-07-09T10:11:10.124910",
     "exception": false,
     "start_time": "2022-07-09T10:11:09.882918",
     "status": "completed"
    },
    "tags": []
   },
   "outputs": [],
   "source": [
    "test_images = mnist.test_images()\n",
    "test_labels = mnist.test_labels()"
   ]
  },
  {
   "cell_type": "code",
   "execution_count": 8,
   "id": "fc38cf1b",
   "metadata": {
    "execution": {
     "iopub.execute_input": "2022-07-09T10:11:10.198034Z",
     "iopub.status.busy": "2022-07-09T10:11:10.197247Z",
     "iopub.status.idle": "2022-07-09T10:11:10.215368Z",
     "shell.execute_reply": "2022-07-09T10:11:10.214719Z"
    },
    "papermill": {
     "duration": 0.055846,
     "end_time": "2022-07-09T10:11:10.215506",
     "exception": false,
     "start_time": "2022-07-09T10:11:10.159660",
     "status": "completed"
    },
    "tags": []
   },
   "outputs": [
    {
     "data": {
      "text/plain": [
       "((10000, 28, 28), (10000,))"
      ]
     },
     "execution_count": 8,
     "metadata": {},
     "output_type": "execute_result"
    }
   ],
   "source": [
    "test_images.shape, test_labels.shape"
   ]
  },
  {
   "cell_type": "code",
   "execution_count": 9,
   "id": "f9ed8fe0",
   "metadata": {
    "execution": {
     "iopub.execute_input": "2022-07-09T10:11:10.290502Z",
     "iopub.status.busy": "2022-07-09T10:11:10.289742Z",
     "iopub.status.idle": "2022-07-09T10:11:10.485203Z",
     "shell.execute_reply": "2022-07-09T10:11:10.486060Z"
    },
    "papermill": {
     "duration": 0.237143,
     "end_time": "2022-07-09T10:11:10.486242",
     "exception": false,
     "start_time": "2022-07-09T10:11:10.249099",
     "status": "completed"
    },
    "tags": []
   },
   "outputs": [
    {
     "name": "stdout",
     "output_type": "stream",
     "text": [
      "2\n"
     ]
    },
    {
     "data": {
      "text/plain": [
       "<matplotlib.image.AxesImage at 0x7f9466504518>"
      ]
     },
     "execution_count": 9,
     "metadata": {},
     "output_type": "execute_result"
    },
    {
     "data": {
      "image/png": "[encoded data removed]",
      "text/plain": [
       "<Figure size 432x288 with 1 Axes>"
      ]
     },
     "metadata": {
      "needs_background": "light"
     },
     "output_type": "display_data"
    }
   ],
   "source": [
    "image_index = 7776 # You may select anything up to 60,000\n",
    "print(train_labels[image_index]) \n",
    "plt.imshow(train_images[image_index], cmap='Greys')"
   ]
  },
  {
   "cell_type": "markdown",
   "id": "a8d2388d",
   "metadata": {
    "papermill": {
     "duration": 0.035624,
     "end_time": "2022-07-09T10:11:10.558877",
     "exception": false,
     "start_time": "2022-07-09T10:11:10.523253",
     "status": "completed"
    },
    "tags": []
   },
   "source": [
    "## Filter data to get 3 and 8 out"
   ]
  },
  {
   "cell_type": "code",
   "execution_count": 10,
   "id": "776f7fc7",
   "metadata": {
    "execution": {
     "iopub.execute_input": "2022-07-09T10:11:10.648421Z",
     "iopub.status.busy": "2022-07-09T10:11:10.647611Z",
     "iopub.status.idle": "2022-07-09T10:11:10.671757Z",
     "shell.execute_reply": "2022-07-09T10:11:10.670800Z"
    },
    "papermill": {
     "duration": 0.074907,
     "end_time": "2022-07-09T10:11:10.671956",
     "exception": false,
     "start_time": "2022-07-09T10:11:10.597049",
     "status": "completed"
    },
    "tags": []
   },
   "outputs": [],
   "source": [
    "train_filter = np.where((train_labels == 3 ) | (train_labels == 8))\n",
    "test_filter = np.where((test_labels == 3) | (test_labels == 8))\n",
    "X_train, y_train = train_images[train_filter], train_labels[train_filter]\n",
    "X_test, y_test = test_images[test_filter], test_labels[test_filter]"
   ]
  },
  {
   "cell_type": "markdown",
   "id": "948f0b7e",
   "metadata": {
    "papermill": {
     "duration": 0.037037,
     "end_time": "2022-07-09T10:11:10.749147",
     "exception": false,
     "start_time": "2022-07-09T10:11:10.712110",
     "status": "completed"
    },
    "tags": []
   },
   "source": [
    "We normalize the pizel values in the 0 to 1 range"
   ]
  },
  {
   "cell_type": "code",
   "execution_count": 11,
   "id": "ee4c2166",
   "metadata": {
    "execution": {
     "iopub.execute_input": "2022-07-09T10:11:10.824970Z",
     "iopub.status.busy": "2022-07-09T10:11:10.824005Z",
     "iopub.status.idle": "2022-07-09T10:11:10.887780Z",
     "shell.execute_reply": "2022-07-09T10:11:10.887118Z"
    },
    "papermill": {
     "duration": 0.103194,
     "end_time": "2022-07-09T10:11:10.887925",
     "exception": false,
     "start_time": "2022-07-09T10:11:10.784731",
     "status": "completed"
    },
    "tags": []
   },
   "outputs": [],
   "source": [
    "X_train = X_train/255.\n",
    "X_test = X_test/255."
   ]
  },
  {
   "cell_type": "markdown",
   "id": "ddcf4fab",
   "metadata": {
    "papermill": {
     "duration": 0.036651,
     "end_time": "2022-07-09T10:11:10.962736",
     "exception": false,
     "start_time": "2022-07-09T10:11:10.926085",
     "status": "completed"
    },
    "tags": []
   },
   "source": [
    "And setup the labels as 1 (when the digit is 3) and 0 (when the digit is 8)"
   ]
  },
  {
   "cell_type": "code",
   "execution_count": 12,
   "id": "7dc908f2",
   "metadata": {
    "execution": {
     "iopub.execute_input": "2022-07-09T10:11:11.039173Z",
     "iopub.status.busy": "2022-07-09T10:11:11.038295Z",
     "iopub.status.idle": "2022-07-09T10:11:11.052998Z",
     "shell.execute_reply": "2022-07-09T10:11:11.053630Z"
    },
    "papermill": {
     "duration": 0.056202,
     "end_time": "2022-07-09T10:11:11.053804",
     "exception": false,
     "start_time": "2022-07-09T10:11:10.997602",
     "status": "completed"
    },
    "tags": []
   },
   "outputs": [],
   "source": [
    "y_train = 1*(y_train==3)\n",
    "y_test = 1*(y_test==3)"
   ]
  },
  {
   "cell_type": "code",
   "execution_count": 13,
   "id": "01e4e969",
   "metadata": {
    "execution": {
     "iopub.execute_input": "2022-07-09T10:11:11.140033Z",
     "iopub.status.busy": "2022-07-09T10:11:11.139236Z",
     "iopub.status.idle": "2022-07-09T10:11:11.155038Z",
     "shell.execute_reply": "2022-07-09T10:11:11.155833Z"
    },
    "papermill": {
     "duration": 0.064891,
     "end_time": "2022-07-09T10:11:11.156000",
     "exception": false,
     "start_time": "2022-07-09T10:11:11.091109",
     "status": "completed"
    },
    "tags": []
   },
   "outputs": [
    {
     "data": {
      "text/plain": [
       "((11982, 28, 28), (1984, 28, 28))"
      ]
     },
     "execution_count": 13,
     "metadata": {},
     "output_type": "execute_result"
    }
   ],
   "source": [
    "X_train.shape, X_test.shape"
   ]
  },
  {
   "cell_type": "markdown",
   "id": "5ccf3f85",
   "metadata": {
    "papermill": {
     "duration": 0.036465,
     "end_time": "2022-07-09T10:11:11.231023",
     "exception": false,
     "start_time": "2022-07-09T10:11:11.194558",
     "status": "completed"
    },
    "tags": []
   },
   "source": [
    "We reshape the data to flatten the image pixels into a set of features or co-variates:"
   ]
  },
  {
   "cell_type": "code",
   "execution_count": 14,
   "id": "5286a4a3",
   "metadata": {
    "execution": {
     "iopub.execute_input": "2022-07-09T10:11:11.307129Z",
     "iopub.status.busy": "2022-07-09T10:11:11.306377Z",
     "iopub.status.idle": "2022-07-09T10:11:11.323937Z",
     "shell.execute_reply": "2022-07-09T10:11:11.323338Z"
    },
    "papermill": {
     "duration": 0.05898,
     "end_time": "2022-07-09T10:11:11.324282",
     "exception": false,
     "start_time": "2022-07-09T10:11:11.265302",
     "status": "completed"
    },
    "tags": []
   },
   "outputs": [
    {
     "data": {
      "text/plain": [
       "((11982, 784), (1984, 784))"
      ]
     },
     "execution_count": 14,
     "metadata": {},
     "output_type": "execute_result"
    }
   ],
   "source": [
    "X_train = X_train.reshape(X_train.shape[0], -1)\n",
    "X_test = X_test.reshape(X_test.shape[0], -1)\n",
    "X_train.shape, X_test.shape"
   ]
  },
  {
   "cell_type": "code",
   "execution_count": 15,
   "id": "73c5f88a",
   "metadata": {
    "execution": {
     "iopub.execute_input": "2022-07-09T10:11:11.407540Z",
     "iopub.status.busy": "2022-07-09T10:11:11.406805Z",
     "iopub.status.idle": "2022-07-09T10:11:11.431766Z",
     "shell.execute_reply": "2022-07-09T10:11:11.431014Z"
    },
    "papermill": {
     "duration": 0.067823,
     "end_time": "2022-07-09T10:11:11.432107",
     "exception": false,
     "start_time": "2022-07-09T10:11:11.364284",
     "status": "completed"
    },
    "tags": []
   },
   "outputs": [],
   "source": [
    "#Impoting functions from 'Kudzu'\n",
    "from kudzu.model import Model\n",
    "from kudzu.train import Learner\n",
    "from kudzu.optim import GD\n",
    "from kudzu.data import Data, Sampler,Dataloader\n",
    "\n",
    "from kudzu.callbacks import AccCallback\n",
    "from kudzu.callbacks import ClfCallback\n",
    "\n",
    "from kudzu.loss import MSE\n",
    "\n",
    "from kudzu.layer import Sigmoid,Relu\n",
    "from kudzu.layer import Affine"
   ]
  },
  {
   "cell_type": "markdown",
   "id": "bc01172a",
   "metadata": {
    "papermill": {
     "duration": 0.034864,
     "end_time": "2022-07-09T10:11:11.502740",
     "exception": false,
     "start_time": "2022-07-09T10:11:11.467876",
     "status": "completed"
    },
    "tags": []
   },
   "source": [
    "### Let us create a `Config` class, to store important parameters. \n",
    "This class essentially plays the role of a dictionary."
   ]
  },
  {
   "cell_type": "code",
   "execution_count": 16,
   "id": "978281aa",
   "metadata": {
    "execution": {
     "iopub.execute_input": "2022-07-09T10:11:11.579260Z",
     "iopub.status.busy": "2022-07-09T10:11:11.578425Z",
     "iopub.status.idle": "2022-07-09T10:11:11.593479Z",
     "shell.execute_reply": "2022-07-09T10:11:11.592669Z"
    },
    "papermill": {
     "duration": 0.054159,
     "end_time": "2022-07-09T10:11:11.593607",
     "exception": false,
     "start_time": "2022-07-09T10:11:11.539448",
     "status": "completed"
    },
    "tags": []
   },
   "outputs": [],
   "source": [
    "class Config:\n",
    "    pass\n",
    "config = Config()\n",
    "config.lr = 0.001\n",
    "config.num_epochs = 250\n",
    "config.bs = 50"
   ]
  },
  {
   "cell_type": "markdown",
   "id": "1385fa59",
   "metadata": {
    "papermill": {
     "duration": 0.039126,
     "end_time": "2022-07-09T10:11:11.669466",
     "exception": false,
     "start_time": "2022-07-09T10:11:11.630340",
     "status": "completed"
    },
    "tags": []
   },
   "source": [
    "### Running Models with the Training data\n",
    "Details about the network layers:\n",
    "- A first affine layer has 784 inputs and does 100 affine transforms. These are followed by a Relu\n",
    "- A second affine layer has 100 inputs from the 100 activations of the past layer, and does 100 affine transforms. These are followed by a Relu\n",
    "- A third affine layer has 100 activations and does 2 affine transformations to create an embedding for visualization. There is no non-linearity here.\n",
    "- A final \"logistic regression\" which has an affine transform from 2 inputs to 1 output, which is squeezed through a sigmoid.\n"
   ]
  },
  {
   "cell_type": "code",
   "execution_count": 17,
   "id": "2b9c66db",
   "metadata": {
    "execution": {
     "iopub.execute_input": "2022-07-09T10:11:11.750860Z",
     "iopub.status.busy": "2022-07-09T10:11:11.750044Z",
     "iopub.status.idle": "2022-07-09T10:11:11.766223Z",
     "shell.execute_reply": "2022-07-09T10:11:11.766899Z"
    },
    "papermill": {
     "duration": 0.06042,
     "end_time": "2022-07-09T10:11:11.767055",
     "exception": false,
     "start_time": "2022-07-09T10:11:11.706635",
     "status": "completed"
    },
    "tags": []
   },
   "outputs": [],
   "source": [
    "data = Data(X_train, y_train.reshape(-1,1))\n",
    "sampler = Sampler(data, config.bs, shuffle=True)\n",
    "\n",
    "dl = Dataloader(data, sampler)\n",
    "\n",
    "opt = GD(config.lr)\n",
    "loss = MSE()"
   ]
  },
  {
   "cell_type": "code",
   "execution_count": 18,
   "id": "b275e4c2",
   "metadata": {
    "execution": {
     "iopub.execute_input": "2022-07-09T10:11:11.846218Z",
     "iopub.status.busy": "2022-07-09T10:11:11.845480Z",
     "iopub.status.idle": "2022-07-09T10:11:11.863336Z",
     "shell.execute_reply": "2022-07-09T10:11:11.864057Z"
    },
    "papermill": {
     "duration": 0.060789,
     "end_time": "2022-07-09T10:11:11.864202",
     "exception": false,
     "start_time": "2022-07-09T10:11:11.803413",
     "status": "completed"
    },
    "tags": []
   },
   "outputs": [],
   "source": [
    "training_data_x = X_train\n",
    "testing_data_x = X_test\n",
    "training_data_y = y_train.reshape(-1,1)\n",
    "testing_data_y = y_test.reshape(-1,1)"
   ]
  },
  {
   "cell_type": "code",
   "execution_count": 19,
   "id": "76951160",
   "metadata": {
    "execution": {
     "iopub.execute_input": "2022-07-09T10:11:11.948512Z",
     "iopub.status.busy": "2022-07-09T10:11:11.947712Z",
     "iopub.status.idle": "2022-07-09T10:11:11.968437Z",
     "shell.execute_reply": "2022-07-09T10:11:11.967832Z"
    },
    "papermill": {
     "duration": 0.066787,
     "end_time": "2022-07-09T10:11:11.968576",
     "exception": false,
     "start_time": "2022-07-09T10:11:11.901789",
     "status": "completed"
    },
    "tags": []
   },
   "outputs": [
    {
     "name": "stdout",
     "output_type": "stream",
     "text": [
      "xavier\n",
      "xavier\n",
      "xavier\n",
      "xavier\n",
      "xavier\n"
     ]
    }
   ],
   "source": [
    "layers = [Affine(\"first\", 784, 100), Relu(\"first\"), Affine(\"second\", 100, 100), Relu(\"second\"), Affine(\"third\", 100, 2), Affine(\"last\", 2, 1), Sigmoid(\"last\")]\n",
    "model_nn = Model(layers)\n",
    "model_lr = Model([Affine(\"logits\", 784, 1), Sigmoid(\"sigmoid\")])"
   ]
  },
  {
   "cell_type": "code",
   "execution_count": 20,
   "id": "6eede77a",
   "metadata": {
    "execution": {
     "iopub.execute_input": "2022-07-09T10:11:12.052445Z",
     "iopub.status.busy": "2022-07-09T10:11:12.046554Z",
     "iopub.status.idle": "2022-07-09T10:11:12.063459Z",
     "shell.execute_reply": "2022-07-09T10:11:12.064095Z"
    },
    "papermill": {
     "duration": 0.05662,
     "end_time": "2022-07-09T10:11:12.064282",
     "exception": false,
     "start_time": "2022-07-09T10:11:12.007662",
     "status": "completed"
    },
    "tags": []
   },
   "outputs": [],
   "source": [
    "nn_learner = Learner(loss, model_nn, opt, config.num_epochs)\n",
    "acc_nn = ClfCallback(nn_learner, config.bs, training_data_x , testing_data_x, training_data_y, testing_data_y)\n",
    "nn_learner.set_callbacks([acc_nn])"
   ]
  },
  {
   "cell_type": "code",
   "execution_count": 21,
   "id": "877b6cc7",
   "metadata": {
    "execution": {
     "iopub.execute_input": "2022-07-09T10:11:12.143476Z",
     "iopub.status.busy": "2022-07-09T10:11:12.141930Z",
     "iopub.status.idle": "2022-07-09T10:11:12.157210Z",
     "shell.execute_reply": "2022-07-09T10:11:12.156610Z"
    },
    "papermill": {
     "duration": 0.056839,
     "end_time": "2022-07-09T10:11:12.157339",
     "exception": false,
     "start_time": "2022-07-09T10:11:12.100500",
     "status": "completed"
    },
    "tags": []
   },
   "outputs": [],
   "source": [
    "lr_learner = Learner(loss, model_lr, opt, config.num_epochs)\n",
    "acc_lr = ClfCallback(lr_learner, config.bs, training_data_x , testing_data_x, training_data_y, testing_data_y)\n",
    "lr_learner.set_callbacks([acc_lr])"
   ]
  },
  {
   "cell_type": "code",
   "execution_count": 22,
   "id": "d9b133c3",
   "metadata": {
    "execution": {
     "iopub.execute_input": "2022-07-09T10:11:12.238479Z",
     "iopub.status.busy": "2022-07-09T10:11:12.237677Z",
     "iopub.status.idle": "2022-07-09T10:13:42.333682Z",
     "shell.execute_reply": "2022-07-09T10:13:42.334799Z"
    },
    "papermill": {
     "duration": 150.139436,
     "end_time": "2022-07-09T10:13:42.334979",
     "exception": false,
     "start_time": "2022-07-09T10:11:12.195543",
     "status": "completed"
    },
    "tags": []
   },
   "outputs": [
    {
     "name": "stdout",
     "output_type": "stream",
     "text": [
      "Epoch 0, Loss 0.2226\n",
      "Training Accuracy: 0.7769, Testing Accuracy: 0.7848\n",
      "\n"
     ]
    },
    {
     "name": "stdout",
     "output_type": "stream",
     "text": [
      "Epoch 10, Loss 0.0711\n",
      "Training Accuracy: 0.9283, Testing Accuracy: 0.9410\n",
      "\n"
     ]
    },
    {
     "name": "stdout",
     "output_type": "stream",
     "text": [
      "Epoch 20, Loss 0.0477\n",
      "Training Accuracy: 0.9483, Testing Accuracy: 0.9567\n",
      "\n"
     ]
    },
    {
     "name": "stdout",
     "output_type": "stream",
     "text": [
      "Epoch 30, Loss 0.039\n",
      "Training Accuracy: 0.9562, Testing Accuracy: 0.9647\n",
      "\n"
     ]
    },
    {
     "name": "stdout",
     "output_type": "stream",
     "text": [
      "Epoch 40, Loss 0.0344\n",
      "Training Accuracy: 0.9616, Testing Accuracy: 0.9698\n",
      "\n"
     ]
    },
    {
     "name": "stdout",
     "output_type": "stream",
     "text": [
      "Epoch 50, Loss 0.0314\n",
      "Training Accuracy: 0.9647, Testing Accuracy: 0.9718\n",
      "\n"
     ]
    },
    {
     "name": "stdout",
     "output_type": "stream",
     "text": [
      "Epoch 60, Loss 0.0293\n",
      "Training Accuracy: 0.9670, Testing Accuracy: 0.9733\n",
      "\n"
     ]
    },
    {
     "name": "stdout",
     "output_type": "stream",
     "text": [
      "Epoch 70, Loss 0.0276\n",
      "Training Accuracy: 0.9685, Testing Accuracy: 0.9738\n",
      "\n"
     ]
    },
    {
     "name": "stdout",
     "output_type": "stream",
     "text": [
      "Epoch 80, Loss 0.0263\n",
      "Training Accuracy: 0.9710, Testing Accuracy: 0.9738\n",
      "\n"
     ]
    },
    {
     "name": "stdout",
     "output_type": "stream",
     "text": [
      "Epoch 90, Loss 0.0251\n",
      "Training Accuracy: 0.9718, Testing Accuracy: 0.9743\n",
      "\n"
     ]
    },
    {
     "name": "stdout",
     "output_type": "stream",
     "text": [
      "Epoch 100, Loss 0.0241\n",
      "Training Accuracy: 0.9731, Testing Accuracy: 0.9743\n",
      "\n"
     ]
    },
    {
     "name": "stdout",
     "output_type": "stream",
     "text": [
      "Epoch 110, Loss 0.0233\n",
      "Training Accuracy: 0.9747, Testing Accuracy: 0.9743\n",
      "\n"
     ]
    },
    {
     "name": "stdout",
     "output_type": "stream",
     "text": [
      "Epoch 120, Loss 0.0225\n",
      "Training Accuracy: 0.9756, Testing Accuracy: 0.9733\n",
      "\n"
     ]
    },
    {
     "name": "stdout",
     "output_type": "stream",
     "text": [
      "Epoch 130, Loss 0.0218\n",
      "Training Accuracy: 0.9760, Testing Accuracy: 0.9733\n",
      "\n"
     ]
    },
    {
     "name": "stdout",
     "output_type": "stream",
     "text": [
      "Epoch 140, Loss 0.0211\n",
      "Training Accuracy: 0.9765, Testing Accuracy: 0.9748\n",
      "\n"
     ]
    },
    {
     "name": "stdout",
     "output_type": "stream",
     "text": [
      "Epoch 150, Loss 0.0205\n",
      "Training Accuracy: 0.9770, Testing Accuracy: 0.9748\n",
      "\n"
     ]
    },
    {
     "name": "stdout",
     "output_type": "stream",
     "text": [
      "Epoch 160, Loss 0.0199\n",
      "Training Accuracy: 0.9773, Testing Accuracy: 0.9748\n",
      "\n"
     ]
    },
    {
     "name": "stdout",
     "output_type": "stream",
     "text": [
      "Epoch 170, Loss 0.0193\n",
      "Training Accuracy: 0.9779, Testing Accuracy: 0.9748\n",
      "\n"
     ]
    },
    {
     "name": "stdout",
     "output_type": "stream",
     "text": [
      "Epoch 180, Loss 0.0188\n",
      "Training Accuracy: 0.9785, Testing Accuracy: 0.9753\n",
      "\n"
     ]
    },
    {
     "name": "stdout",
     "output_type": "stream",
     "text": [
      "Epoch 190, Loss 0.0183\n",
      "Training Accuracy: 0.9789, Testing Accuracy: 0.9753\n",
      "\n"
     ]
    },
    {
     "name": "stdout",
     "output_type": "stream",
     "text": [
      "Epoch 200, Loss 0.0178\n",
      "Training Accuracy: 0.9799, Testing Accuracy: 0.9758\n",
      "\n"
     ]
    },
    {
     "name": "stdout",
     "output_type": "stream",
     "text": [
      "Epoch 210, Loss 0.0174\n",
      "Training Accuracy: 0.9808, Testing Accuracy: 0.9758\n",
      "\n"
     ]
    },
    {
     "name": "stdout",
     "output_type": "stream",
     "text": [
      "Epoch 220, Loss 0.0169\n",
      "Training Accuracy: 0.9816, Testing Accuracy: 0.9768\n",
      "\n"
     ]
    },
    {
     "name": "stdout",
     "output_type": "stream",
     "text": [
      "Epoch 230, Loss 0.0165\n",
      "Training Accuracy: 0.9821, Testing Accuracy: 0.9768\n",
      "\n"
     ]
    },
    {
     "name": "stdout",
     "output_type": "stream",
     "text": [
      "Epoch 240, Loss 0.0161\n",
      "Training Accuracy: 0.9826, Testing Accuracy: 0.9768\n",
      "\n"
     ]
    },
    {
     "data": {
      "text/plain": [
       "0.0011460874571836968"
      ]
     },
     "execution_count": 22,
     "metadata": {},
     "output_type": "execute_result"
    }
   ],
   "source": [
    "nn_learner.train_loop(dl)"
   ]
  },
  {
   "cell_type": "code",
   "execution_count": 23,
   "id": "e0163366",
   "metadata": {
    "execution": {
     "iopub.execute_input": "2022-07-09T10:13:42.441309Z",
     "iopub.status.busy": "2022-07-09T10:13:42.440497Z",
     "iopub.status.idle": "2022-07-09T10:14:03.752000Z",
     "shell.execute_reply": "2022-07-09T10:14:03.753094Z"
    },
    "papermill": {
     "duration": 21.369112,
     "end_time": "2022-07-09T10:14:03.753303",
     "exception": false,
     "start_time": "2022-07-09T10:13:42.384191",
     "status": "completed"
    },
    "tags": []
   },
   "outputs": [
    {
     "name": "stdout",
     "output_type": "stream",
     "text": [
      "Epoch 0, Loss 0.2477\n",
      "Training Accuracy: 0.6679, Testing Accuracy: 0.6870\n",
      "\n"
     ]
    },
    {
     "name": "stdout",
     "output_type": "stream",
     "text": [
      "Epoch 10, Loss 0.1026\n",
      "Training Accuracy: 0.9128, Testing Accuracy: 0.9224\n",
      "\n"
     ]
    },
    {
     "name": "stdout",
     "output_type": "stream",
     "text": [
      "Epoch 20, Loss 0.0791\n",
      "Training Accuracy: 0.9290, Testing Accuracy: 0.9441\n",
      "\n"
     ]
    },
    {
     "name": "stdout",
     "output_type": "stream",
     "text": [
      "Epoch 30, Loss 0.0682\n",
      "Training Accuracy: 0.9368, Testing Accuracy: 0.9516\n",
      "\n"
     ]
    },
    {
     "name": "stdout",
     "output_type": "stream",
     "text": [
      "Epoch 40, Loss 0.0616\n",
      "Training Accuracy: 0.9432, Testing Accuracy: 0.9546\n",
      "\n"
     ]
    },
    {
     "name": "stdout",
     "output_type": "stream",
     "text": [
      "Epoch 50, Loss 0.0571\n",
      "Training Accuracy: 0.9457, Testing Accuracy: 0.9561\n",
      "\n"
     ]
    },
    {
     "name": "stdout",
     "output_type": "stream",
     "text": [
      "Epoch 60, Loss 0.0538\n",
      "Training Accuracy: 0.9487, Testing Accuracy: 0.9612\n",
      "\n"
     ]
    },
    {
     "name": "stdout",
     "output_type": "stream",
     "text": [
      "Epoch 70, Loss 0.0512\n",
      "Training Accuracy: 0.9497, Testing Accuracy: 0.9632\n",
      "\n"
     ]
    },
    {
     "name": "stdout",
     "output_type": "stream",
     "text": [
      "Epoch 80, Loss 0.0492\n",
      "Training Accuracy: 0.9509, Testing Accuracy: 0.9642\n",
      "\n"
     ]
    },
    {
     "name": "stdout",
     "output_type": "stream",
     "text": [
      "Epoch 90, Loss 0.0475\n",
      "Training Accuracy: 0.9523, Testing Accuracy: 0.9642\n",
      "\n"
     ]
    },
    {
     "name": "stdout",
     "output_type": "stream",
     "text": [
      "Epoch 100, Loss 0.046\n",
      "Training Accuracy: 0.9536, Testing Accuracy: 0.9657\n",
      "\n"
     ]
    },
    {
     "name": "stdout",
     "output_type": "stream",
     "text": [
      "Epoch 110, Loss 0.0448\n",
      "Training Accuracy: 0.9550, Testing Accuracy: 0.9662\n",
      "\n"
     ]
    },
    {
     "name": "stdout",
     "output_type": "stream",
     "text": [
      "Epoch 120, Loss 0.0437\n",
      "Training Accuracy: 0.9564, Testing Accuracy: 0.9667\n",
      "\n"
     ]
    },
    {
     "name": "stdout",
     "output_type": "stream",
     "text": [
      "Epoch 130, Loss 0.0428\n",
      "Training Accuracy: 0.9572, Testing Accuracy: 0.9662\n",
      "\n"
     ]
    },
    {
     "name": "stdout",
     "output_type": "stream",
     "text": [
      "Epoch 140, Loss 0.042\n",
      "Training Accuracy: 0.9578, Testing Accuracy: 0.9662\n",
      "\n"
     ]
    },
    {
     "name": "stdout",
     "output_type": "stream",
     "text": [
      "Epoch 150, Loss 0.0412\n",
      "Training Accuracy: 0.9583, Testing Accuracy: 0.9662\n",
      "\n"
     ]
    },
    {
     "name": "stdout",
     "output_type": "stream",
     "text": [
      "Epoch 160, Loss 0.0405\n",
      "Training Accuracy: 0.9587, Testing Accuracy: 0.9667\n",
      "\n"
     ]
    },
    {
     "name": "stdout",
     "output_type": "stream",
     "text": [
      "Epoch 170, Loss 0.0399\n",
      "Training Accuracy: 0.9592, Testing Accuracy: 0.9667\n",
      "\n"
     ]
    },
    {
     "name": "stdout",
     "output_type": "stream",
     "text": [
      "Epoch 180, Loss 0.0394\n",
      "Training Accuracy: 0.9596, Testing Accuracy: 0.9677\n",
      "\n"
     ]
    },
    {
     "name": "stdout",
     "output_type": "stream",
     "text": [
      "Epoch 190, Loss 0.0389\n",
      "Training Accuracy: 0.9599, Testing Accuracy: 0.9682\n",
      "\n"
     ]
    },
    {
     "name": "stdout",
     "output_type": "stream",
     "text": [
      "Epoch 200, Loss 0.0384\n",
      "Training Accuracy: 0.9603, Testing Accuracy: 0.9688\n",
      "\n"
     ]
    },
    {
     "name": "stdout",
     "output_type": "stream",
     "text": [
      "Epoch 210, Loss 0.0379\n",
      "Training Accuracy: 0.9606, Testing Accuracy: 0.9693\n",
      "\n"
     ]
    },
    {
     "name": "stdout",
     "output_type": "stream",
     "text": [
      "Epoch 220, Loss 0.0375\n",
      "Training Accuracy: 0.9607, Testing Accuracy: 0.9693\n",
      "\n"
     ]
    },
    {
     "name": "stdout",
     "output_type": "stream",
     "text": [
      "Epoch 230, Loss 0.0371\n",
      "Training Accuracy: 0.9610, Testing Accuracy: 0.9693\n",
      "\n"
     ]
    },
    {
     "name": "stdout",
     "output_type": "stream",
     "text": [
      "Epoch 240, Loss 0.0368\n",
      "Training Accuracy: 0.9613, Testing Accuracy: 0.9693\n",
      "\n"
     ]
    },
    {
     "data": {
      "text/plain": [
       "0.024556431632435514"
      ]
     },
     "execution_count": 23,
     "metadata": {},
     "output_type": "execute_result"
    }
   ],
   "source": [
    "lr_learner.train_loop(dl)"
   ]
  },
  {
   "cell_type": "code",
   "execution_count": 24,
   "id": "ca410940",
   "metadata": {
    "execution": {
     "iopub.execute_input": "2022-07-09T10:14:03.877305Z",
     "iopub.status.busy": "2022-07-09T10:14:03.876323Z",
     "iopub.status.idle": "2022-07-09T10:14:04.216349Z",
     "shell.execute_reply": "2022-07-09T10:14:04.217093Z"
    },
    "papermill": {
     "duration": 0.406104,
     "end_time": "2022-07-09T10:14:04.217294",
     "exception": false,
     "start_time": "2022-07-09T10:14:03.811190",
     "status": "completed"
    },
    "tags": []
   },
   "outputs": [
    {
     "data": {
      "text/plain": [
       "<matplotlib.legend.Legend at 0x7f94598b9b38>"
      ]
     },
     "execution_count": 24,
     "metadata": {},
     "output_type": "execute_result"
    },
    {
     "data": {
      "image/png": "[encoded data removed]",
      "text/plain": [
       "<Figure size 1080x720 with 1 Axes>"
      ]
     },
     "metadata": {
      "needs_background": "light"
     },
     "output_type": "display_data"
    }
   ],
   "source": [
    "#comparing the results of NN and LR\n",
    "plt.figure(figsize=(15,10))\n",
    "\n",
    "# Neural Network plots\n",
    "plt.plot(acc_nn.accuracies, 'r-', label = \"Training Accuracies - NN\")\n",
    "plt.plot(acc_nn.test_accuracies, 'g-', label = \"Testing Accuracies - NN\")\n",
    "\n",
    "# Logistic Regression plots\n",
    "plt.plot(acc_lr.accuracies, 'k-', label = \"Training Accuracies - LR\")\n",
    "plt.plot(acc_lr.test_accuracies, 'b-', label = \"Testing Accuracies - LR\")\n",
    "plt.legend()"
   ]
  },
  {
   "cell_type": "markdown",
   "id": "80dfb35c",
   "metadata": {
    "papermill": {
     "duration": 0.059257,
     "end_time": "2022-07-09T10:14:04.333971",
     "exception": false,
     "start_time": "2022-07-09T10:14:04.274714",
     "status": "completed"
    },
    "tags": []
   },
   "source": [
    "#### Plotting the outputs of this layer of the NN.\n"
   ]
  },
  {
   "cell_type": "code",
   "execution_count": 25,
   "id": "45eb2ff5",
   "metadata": {
    "execution": {
     "iopub.execute_input": "2022-07-09T10:14:04.450935Z",
     "iopub.status.busy": "2022-07-09T10:14:04.450161Z",
     "iopub.status.idle": "2022-07-09T10:14:04.480803Z",
     "shell.execute_reply": "2022-07-09T10:14:04.481751Z"
    },
    "papermill": {
     "duration": 0.092549,
     "end_time": "2022-07-09T10:14:04.481914",
     "exception": false,
     "start_time": "2022-07-09T10:14:04.389365",
     "status": "completed"
    },
    "tags": []
   },
   "outputs": [],
   "source": [
    "new_model = Model(layers[:-2])\n",
    "testing_plot = new_model(testing_data_x)"
   ]
  },
  {
   "cell_type": "code",
   "execution_count": 26,
   "id": "4c0a5485",
   "metadata": {
    "execution": {
     "iopub.execute_input": "2022-07-09T10:14:04.603933Z",
     "iopub.status.busy": "2022-07-09T10:14:04.603045Z",
     "iopub.status.idle": "2022-07-09T10:14:04.902955Z",
     "shell.execute_reply": "2022-07-09T10:14:04.902114Z"
    },
    "papermill": {
     "duration": 0.364163,
     "end_time": "2022-07-09T10:14:04.903107",
     "exception": false,
     "start_time": "2022-07-09T10:14:04.538944",
     "status": "completed"
    },
    "tags": []
   },
   "outputs": [
    {
     "data": {
      "text/plain": [
       "Text(0.5, 1.0, 'Outputs')"
      ]
     },
     "execution_count": 26,
     "metadata": {},
     "output_type": "execute_result"
    },
    {
     "data": {
      "image/png": "[encoded data removed]",
      "text/plain": [
       "<Figure size 576x504 with 1 Axes>"
      ]
     },
     "metadata": {
      "needs_background": "light"
     },
     "output_type": "display_data"
    }
   ],
   "source": [
    "# Plotting the scatter plot of points and color coding by class\n",
    "plt.figure(figsize=(8,7))\n",
    "plt.scatter(testing_plot[:,0], testing_plot[:,1], alpha = 0.1, c = y_test.ravel());\n",
    "plt.title('Outputs')"
   ]
  },
  {
   "cell_type": "markdown",
   "id": "a74fcf8f",
   "metadata": {
    "papermill": {
     "duration": 0.11123,
     "end_time": "2022-07-09T10:14:05.084786",
     "exception": false,
     "start_time": "2022-07-09T10:14:04.973556",
     "status": "completed"
    },
    "tags": []
   },
   "source": [
    "Probability contours"
   ]
  },
  {
   "cell_type": "code",
   "execution_count": 27,
   "id": "d0afc8e3",
   "metadata": {
    "execution": {
     "iopub.execute_input": "2022-07-09T10:14:05.209017Z",
     "iopub.status.busy": "2022-07-09T10:14:05.208234Z",
     "iopub.status.idle": "2022-07-09T10:14:05.223859Z",
     "shell.execute_reply": "2022-07-09T10:14:05.223232Z"
    },
    "papermill": {
     "duration": 0.080272,
     "end_time": "2022-07-09T10:14:05.224004",
     "exception": false,
     "start_time": "2022-07-09T10:14:05.143732",
     "status": "completed"
    },
    "tags": []
   },
   "outputs": [],
   "source": [
    "model_prob = Model(layers[-2:]) "
   ]
  },
  {
   "cell_type": "code",
   "execution_count": 28,
   "id": "9b96e238",
   "metadata": {
    "execution": {
     "iopub.execute_input": "2022-07-09T10:14:05.346594Z",
     "iopub.status.busy": "2022-07-09T10:14:05.345771Z",
     "iopub.status.idle": "2022-07-09T10:14:05.363682Z",
     "shell.execute_reply": "2022-07-09T10:14:05.364333Z"
    },
    "papermill": {
     "duration": 0.083154,
     "end_time": "2022-07-09T10:14:05.364501",
     "exception": false,
     "start_time": "2022-07-09T10:14:05.281347",
     "status": "completed"
    },
    "tags": []
   },
   "outputs": [],
   "source": [
    "#creating the x and y ranges according to the above generated plot.\n",
    "x_range = np.linspace(-4, 1, 100) \n",
    "y_range = np.linspace(-6, 6, 100) \n",
    "x_grid, y_grid = np.meshgrid(x_range, y_range) # x_grid and y_grig are of size 100 X 100\n",
    "\n",
    "# converting x_grid and y_grid to continuous arrays\n",
    "x_gridflat = np.ravel(x_grid)\n",
    "y_gridflat = np.ravel(y_grid)\n",
    "\n",
    "# The last layer of the current model takes two columns as input. Hence transpose of np.vstack() is required.\n",
    "X = np.vstack((x_gridflat, y_gridflat)).T\n",
    "\n",
    "prob_contour = model_prob(X).reshape(100,100) "
   ]
  },
  {
   "cell_type": "code",
   "execution_count": 29,
   "id": "da72499a",
   "metadata": {
    "execution": {
     "iopub.execute_input": "2022-07-09T10:14:05.490505Z",
     "iopub.status.busy": "2022-07-09T10:14:05.489717Z",
     "iopub.status.idle": "2022-07-09T10:14:05.828479Z",
     "shell.execute_reply": "2022-07-09T10:14:05.829114Z"
    },
    "papermill": {
     "duration": 0.404449,
     "end_time": "2022-07-09T10:14:05.829296",
     "exception": false,
     "start_time": "2022-07-09T10:14:05.424847",
     "status": "completed"
    },
    "tags": []
   },
   "outputs": [
    {
     "data": {
      "image/png": "[encoded data removed]",
      "text/plain": [
       "<Figure size 720x648 with 1 Axes>"
      ]
     },
     "metadata": {
      "needs_background": "light"
     },
     "output_type": "display_data"
    }
   ],
   "source": [
    "plt.figure(figsize=(10,9))\n",
    "plt.scatter(testing_plot[:,0], testing_plot[:,1], alpha = 0.1, c = y_test.ravel())\n",
    "contours = plt.contour(x_grid,y_grid,prob_contour)\n",
    "plt.title('Probability Contours')\n",
    "plt.clabel(contours, inline = True );"
   ]
  },
  {
   "cell_type": "code",
   "execution_count": null,
   "id": "e81b4ac7",
   "metadata": {
    "papermill": {
     "duration": 0.064143,
     "end_time": "2022-07-09T10:14:05.961324",
     "exception": false,
     "start_time": "2022-07-09T10:14:05.897181",
     "status": "completed"
    },
    "tags": []
   },
   "outputs": [],
   "source": []
  }
 ],
 "metadata": {
  "kernelspec": {
   "display_name": "Python 3",
   "language": "python",
   "name": "python3"
  },
  "language_info": {
   "codemirror_mode": {
    "name": "ipython",
    "version": 3
   },
   "file_extension": ".py",
   "mimetype": "text/x-python",
   "name": "python",
   "nbconvert_exporter": "python",
   "pygments_lexer": "ipython3",
   "version": "3.6.15"
  },
  "papermill": {
   "default_parameters": {},
   "duration": 182.214404,
   "end_time": "2022-07-09T10:14:06.444049",
   "environment_variables": {},
   "exception": null,
   "input_path": "2020-08-11-part2.ipynb",
   "output_path": "2020-08-11-part2.ipynb",
   "parameters": {},
   "start_time": "2022-07-09T10:11:04.229645",
   "version": "2.3.3"
  }
 },
 "nbformat": 4,
 "nbformat_minor": 5
}