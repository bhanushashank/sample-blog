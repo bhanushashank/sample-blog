{
 "cells": [
  {
   "cell_type": "markdown",
   "id": "98380cd3",
   "metadata": {
    "papermill": {
     "duration": 0.028283,
     "end_time": "2022-05-13T10:10:23.130136",
     "exception": false,
     "start_time": "2022-05-13T10:10:23.101853",
     "status": "completed"
    },
    "tags": []
   },
   "source": [
    "# Distinguish Your Own Digits (DYOD)"
   ]
  },
  {
   "cell_type": "markdown",
   "id": "ef31240d",
   "metadata": {
    "papermill": {
     "duration": 0.025567,
     "end_time": "2022-05-13T10:10:23.180888",
     "exception": false,
     "start_time": "2022-05-13T10:10:23.155321",
     "status": "completed"
    },
    "tags": []
   },
   "source": [
    "You are going to write a classifier that distinguishes between the number 3 and number 8."
   ]
  },
  {
   "cell_type": "code",
   "execution_count": 1,
   "id": "b15c8646",
   "metadata": {
    "execution": {
     "iopub.execute_input": "2022-05-13T10:10:23.240051Z",
     "iopub.status.busy": "2022-05-13T10:10:23.239454Z",
     "iopub.status.idle": "2022-05-13T10:10:23.251467Z",
     "shell.execute_reply": "2022-05-13T10:10:23.251911Z"
    },
    "papermill": {
     "duration": 0.047386,
     "end_time": "2022-05-13T10:10:23.252138",
     "exception": false,
     "start_time": "2022-05-13T10:10:23.204752",
     "status": "completed"
    },
    "tags": []
   },
   "outputs": [],
   "source": [
    "%load_ext autoreload\n",
    "%autoreload 2"
   ]
  },
  {
   "cell_type": "code",
   "execution_count": 2,
   "id": "22ef38dc",
   "metadata": {
    "execution": {
     "iopub.execute_input": "2022-05-13T10:10:23.306432Z",
     "iopub.status.busy": "2022-05-13T10:10:23.305889Z",
     "iopub.status.idle": "2022-05-13T10:10:23.862835Z",
     "shell.execute_reply": "2022-05-13T10:10:23.863330Z"
    },
    "papermill": {
     "duration": 0.587207,
     "end_time": "2022-05-13T10:10:23.863504",
     "exception": false,
     "start_time": "2022-05-13T10:10:23.276297",
     "status": "completed"
    },
    "tags": []
   },
   "outputs": [],
   "source": [
    "%matplotlib inline\n",
    "import numpy as np\n",
    "import matplotlib.pyplot as plt\n",
    "import pandas as pd"
   ]
  },
  {
   "cell_type": "markdown",
   "id": "ba036198",
   "metadata": {
    "papermill": {
     "duration": 0.023901,
     "end_time": "2022-05-13T10:10:23.912244",
     "exception": false,
     "start_time": "2022-05-13T10:10:23.888343",
     "status": "completed"
    },
    "tags": []
   },
   "source": [
    "From the command line run `pip install mnist`. This is a library that will help you bring down the mnist dataset. If you run this from a notebook, you need to put  `!pip install mnist` in a cell by itself."
   ]
  },
  {
   "cell_type": "code",
   "execution_count": 3,
   "id": "bb6ad8a1",
   "metadata": {
    "execution": {
     "iopub.execute_input": "2022-05-13T10:10:23.964788Z",
     "iopub.status.busy": "2022-05-13T10:10:23.964230Z",
     "iopub.status.idle": "2022-05-13T10:10:25.706969Z",
     "shell.execute_reply": "2022-05-13T10:10:25.706428Z"
    },
    "papermill": {
     "duration": 1.770923,
     "end_time": "2022-05-13T10:10:25.707113",
     "exception": false,
     "start_time": "2022-05-13T10:10:23.936190",
     "status": "completed"
    },
    "tags": []
   },
   "outputs": [
    {
     "name": "stdout",
     "output_type": "stream",
     "text": [
      "Collecting mnist\r\n"
     ]
    },
    {
     "name": "stdout",
     "output_type": "stream",
     "text": [
      "  Downloading mnist-0.2.2-py2.py3-none-any.whl (3.5 kB)\r\n",
      "Requirement already satisfied: numpy in /opt/hostedtoolcache/Python/3.6.15/x64/lib/python3.6/site-packages (from mnist) (1.19.5)\r\n"
     ]
    },
    {
     "name": "stdout",
     "output_type": "stream",
     "text": [
      "Installing collected packages: mnist\r\n"
     ]
    },
    {
     "name": "stdout",
     "output_type": "stream",
     "text": [
      "Successfully installed mnist-0.2.2\r\n"
     ]
    }
   ],
   "source": [
    "!pip install mnist"
   ]
  },
  {
   "cell_type": "markdown",
   "id": "69df9c9a",
   "metadata": {
    "papermill": {
     "duration": 0.02536,
     "end_time": "2022-05-13T10:10:25.758021",
     "exception": false,
     "start_time": "2022-05-13T10:10:25.732661",
     "status": "completed"
    },
    "tags": []
   },
   "source": [
    "## Preparing the Data"
   ]
  },
  {
   "cell_type": "code",
   "execution_count": 4,
   "id": "7f69d806",
   "metadata": {
    "execution": {
     "iopub.execute_input": "2022-05-13T10:10:25.819615Z",
     "iopub.status.busy": "2022-05-13T10:10:25.818745Z",
     "iopub.status.idle": "2022-05-13T10:10:25.829310Z",
     "shell.execute_reply": "2022-05-13T10:10:25.828882Z"
    },
    "papermill": {
     "duration": 0.046584,
     "end_time": "2022-05-13T10:10:25.829435",
     "exception": false,
     "start_time": "2022-05-13T10:10:25.782851",
     "status": "completed"
    },
    "tags": []
   },
   "outputs": [],
   "source": [
    "import mnist"
   ]
  },
  {
   "cell_type": "code",
   "execution_count": 5,
   "id": "a411e44f",
   "metadata": {
    "execution": {
     "iopub.execute_input": "2022-05-13T10:10:25.884527Z",
     "iopub.status.busy": "2022-05-13T10:10:25.883971Z",
     "iopub.status.idle": "2022-05-13T10:10:26.491997Z",
     "shell.execute_reply": "2022-05-13T10:10:26.491387Z"
    },
    "papermill": {
     "duration": 0.636966,
     "end_time": "2022-05-13T10:10:26.492147",
     "exception": false,
     "start_time": "2022-05-13T10:10:25.855181",
     "status": "completed"
    },
    "tags": []
   },
   "outputs": [],
   "source": [
    "train_images = mnist.train_images()\n",
    "train_labels = mnist.train_labels()"
   ]
  },
  {
   "cell_type": "code",
   "execution_count": 6,
   "id": "dceab3a5",
   "metadata": {
    "execution": {
     "iopub.execute_input": "2022-05-13T10:10:26.556986Z",
     "iopub.status.busy": "2022-05-13T10:10:26.555528Z",
     "iopub.status.idle": "2022-05-13T10:10:26.566797Z",
     "shell.execute_reply": "2022-05-13T10:10:26.566368Z"
    },
    "papermill": {
     "duration": 0.04902,
     "end_time": "2022-05-13T10:10:26.566923",
     "exception": false,
     "start_time": "2022-05-13T10:10:26.517903",
     "status": "completed"
    },
    "tags": []
   },
   "outputs": [
    {
     "data": {
      "text/plain": [
       "((60000, 28, 28), (60000,))"
      ]
     },
     "execution_count": 6,
     "metadata": {},
     "output_type": "execute_result"
    }
   ],
   "source": [
    "train_images.shape, train_labels.shape"
   ]
  },
  {
   "cell_type": "code",
   "execution_count": 7,
   "id": "f50dc2bb",
   "metadata": {
    "execution": {
     "iopub.execute_input": "2022-05-13T10:10:26.622342Z",
     "iopub.status.busy": "2022-05-13T10:10:26.621796Z",
     "iopub.status.idle": "2022-05-13T10:10:26.781021Z",
     "shell.execute_reply": "2022-05-13T10:10:26.779808Z"
    },
    "papermill": {
     "duration": 0.188949,
     "end_time": "2022-05-13T10:10:26.781176",
     "exception": false,
     "start_time": "2022-05-13T10:10:26.592227",
     "status": "completed"
    },
    "tags": []
   },
   "outputs": [],
   "source": [
    "test_images = mnist.test_images()\n",
    "test_labels = mnist.test_labels()"
   ]
  },
  {
   "cell_type": "code",
   "execution_count": 8,
   "id": "fc38cf1b",
   "metadata": {
    "execution": {
     "iopub.execute_input": "2022-05-13T10:10:26.849827Z",
     "iopub.status.busy": "2022-05-13T10:10:26.845019Z",
     "iopub.status.idle": "2022-05-13T10:10:26.854615Z",
     "shell.execute_reply": "2022-05-13T10:10:26.854188Z"
    },
    "papermill": {
     "duration": 0.047998,
     "end_time": "2022-05-13T10:10:26.854739",
     "exception": false,
     "start_time": "2022-05-13T10:10:26.806741",
     "status": "completed"
    },
    "tags": []
   },
   "outputs": [
    {
     "data": {
      "text/plain": [
       "((10000, 28, 28), (10000,))"
      ]
     },
     "execution_count": 8,
     "metadata": {},
     "output_type": "execute_result"
    }
   ],
   "source": [
    "test_images.shape, test_labels.shape"
   ]
  },
  {
   "cell_type": "code",
   "execution_count": 9,
   "id": "f9ed8fe0",
   "metadata": {
    "execution": {
     "iopub.execute_input": "2022-05-13T10:10:26.909987Z",
     "iopub.status.busy": "2022-05-13T10:10:26.909464Z",
     "iopub.status.idle": "2022-05-13T10:10:27.049294Z",
     "shell.execute_reply": "2022-05-13T10:10:27.049732Z"
    },
    "papermill": {
     "duration": 0.169478,
     "end_time": "2022-05-13T10:10:27.049882",
     "exception": false,
     "start_time": "2022-05-13T10:10:26.880404",
     "status": "completed"
    },
    "tags": []
   },
   "outputs": [
    {
     "name": "stdout",
     "output_type": "stream",
     "text": [
      "2\n"
     ]
    },
    {
     "data": {
      "text/plain": [
       "<matplotlib.image.AxesImage at 0x7f864a2044e0>"
      ]
     },
     "execution_count": 9,
     "metadata": {},
     "output_type": "execute_result"
    },
    {
     "data": {
      "image/png": "[encoded data removed]",
      "text/plain": [
       "<Figure size 432x288 with 1 Axes>"
      ]
     },
     "metadata": {
      "needs_background": "light"
     },
     "output_type": "display_data"
    }
   ],
   "source": [
    "image_index = 7776 # You may select anything up to 60,000\n",
    "print(train_labels[image_index]) \n",
    "plt.imshow(train_images[image_index], cmap='Greys')"
   ]
  },
  {
   "cell_type": "markdown",
   "id": "a8d2388d",
   "metadata": {
    "papermill": {
     "duration": 0.026705,
     "end_time": "2022-05-13T10:10:27.103583",
     "exception": false,
     "start_time": "2022-05-13T10:10:27.076878",
     "status": "completed"
    },
    "tags": []
   },
   "source": [
    "## Filter data to get 3 and 8 out"
   ]
  },
  {
   "cell_type": "code",
   "execution_count": 10,
   "id": "776f7fc7",
   "metadata": {
    "execution": {
     "iopub.execute_input": "2022-05-13T10:10:27.161516Z",
     "iopub.status.busy": "2022-05-13T10:10:27.160984Z",
     "iopub.status.idle": "2022-05-13T10:10:27.180196Z",
     "shell.execute_reply": "2022-05-13T10:10:27.179719Z"
    },
    "papermill": {
     "duration": 0.050238,
     "end_time": "2022-05-13T10:10:27.180325",
     "exception": false,
     "start_time": "2022-05-13T10:10:27.130087",
     "status": "completed"
    },
    "tags": []
   },
   "outputs": [],
   "source": [
    "train_filter = np.where((train_labels == 3 ) | (train_labels == 8))\n",
    "test_filter = np.where((test_labels == 3) | (test_labels == 8))\n",
    "X_train, y_train = train_images[train_filter], train_labels[train_filter]\n",
    "X_test, y_test = test_images[test_filter], test_labels[test_filter]"
   ]
  },
  {
   "cell_type": "markdown",
   "id": "948f0b7e",
   "metadata": {
    "papermill": {
     "duration": 0.026655,
     "end_time": "2022-05-13T10:10:27.233670",
     "exception": false,
     "start_time": "2022-05-13T10:10:27.207015",
     "status": "completed"
    },
    "tags": []
   },
   "source": [
    "We normalize the pizel values in the 0 to 1 range"
   ]
  },
  {
   "cell_type": "code",
   "execution_count": 11,
   "id": "ee4c2166",
   "metadata": {
    "execution": {
     "iopub.execute_input": "2022-05-13T10:10:27.301395Z",
     "iopub.status.busy": "2022-05-13T10:10:27.295171Z",
     "iopub.status.idle": "2022-05-13T10:10:27.340455Z",
     "shell.execute_reply": "2022-05-13T10:10:27.339900Z"
    },
    "papermill": {
     "duration": 0.080654,
     "end_time": "2022-05-13T10:10:27.340599",
     "exception": false,
     "start_time": "2022-05-13T10:10:27.259945",
     "status": "completed"
    },
    "tags": []
   },
   "outputs": [],
   "source": [
    "X_train = X_train/255.\n",
    "X_test = X_test/255."
   ]
  },
  {
   "cell_type": "markdown",
   "id": "ddcf4fab",
   "metadata": {
    "papermill": {
     "duration": 0.026576,
     "end_time": "2022-05-13T10:10:27.394182",
     "exception": false,
     "start_time": "2022-05-13T10:10:27.367606",
     "status": "completed"
    },
    "tags": []
   },
   "source": [
    "And setup the labels as 1 (when the digit is 3) and 0 (when the digit is 8)"
   ]
  },
  {
   "cell_type": "code",
   "execution_count": 12,
   "id": "7dc908f2",
   "metadata": {
    "execution": {
     "iopub.execute_input": "2022-05-13T10:10:27.452139Z",
     "iopub.status.busy": "2022-05-13T10:10:27.451603Z",
     "iopub.status.idle": "2022-05-13T10:10:27.463953Z",
     "shell.execute_reply": "2022-05-13T10:10:27.463516Z"
    },
    "papermill": {
     "duration": 0.043516,
     "end_time": "2022-05-13T10:10:27.464073",
     "exception": false,
     "start_time": "2022-05-13T10:10:27.420557",
     "status": "completed"
    },
    "tags": []
   },
   "outputs": [],
   "source": [
    "y_train = 1*(y_train==3)\n",
    "y_test = 1*(y_test==3)"
   ]
  },
  {
   "cell_type": "code",
   "execution_count": 13,
   "id": "01e4e969",
   "metadata": {
    "execution": {
     "iopub.execute_input": "2022-05-13T10:10:27.522493Z",
     "iopub.status.busy": "2022-05-13T10:10:27.521975Z",
     "iopub.status.idle": "2022-05-13T10:10:27.535232Z",
     "shell.execute_reply": "2022-05-13T10:10:27.534814Z"
    },
    "papermill": {
     "duration": 0.044601,
     "end_time": "2022-05-13T10:10:27.535350",
     "exception": false,
     "start_time": "2022-05-13T10:10:27.490749",
     "status": "completed"
    },
    "tags": []
   },
   "outputs": [
    {
     "data": {
      "text/plain": [
       "((11982, 28, 28), (1984, 28, 28))"
      ]
     },
     "execution_count": 13,
     "metadata": {},
     "output_type": "execute_result"
    }
   ],
   "source": [
    "X_train.shape, X_test.shape"
   ]
  },
  {
   "cell_type": "markdown",
   "id": "5ccf3f85",
   "metadata": {
    "papermill": {
     "duration": 0.026656,
     "end_time": "2022-05-13T10:10:27.588714",
     "exception": false,
     "start_time": "2022-05-13T10:10:27.562058",
     "status": "completed"
    },
    "tags": []
   },
   "source": [
    "We reshape the data to flatten the image pixels into a set of features or co-variates:"
   ]
  },
  {
   "cell_type": "code",
   "execution_count": 14,
   "id": "5286a4a3",
   "metadata": {
    "execution": {
     "iopub.execute_input": "2022-05-13T10:10:27.648960Z",
     "iopub.status.busy": "2022-05-13T10:10:27.648438Z",
     "iopub.status.idle": "2022-05-13T10:10:27.660492Z",
     "shell.execute_reply": "2022-05-13T10:10:27.660881Z"
    },
    "papermill": {
     "duration": 0.045642,
     "end_time": "2022-05-13T10:10:27.661024",
     "exception": false,
     "start_time": "2022-05-13T10:10:27.615382",
     "status": "completed"
    },
    "tags": []
   },
   "outputs": [
    {
     "data": {
      "text/plain": [
       "((11982, 784), (1984, 784))"
      ]
     },
     "execution_count": 14,
     "metadata": {},
     "output_type": "execute_result"
    }
   ],
   "source": [
    "X_train = X_train.reshape(X_train.shape[0], -1)\n",
    "X_test = X_test.reshape(X_test.shape[0], -1)\n",
    "X_train.shape, X_test.shape"
   ]
  },
  {
   "cell_type": "code",
   "execution_count": 15,
   "id": "73c5f88a",
   "metadata": {
    "execution": {
     "iopub.execute_input": "2022-05-13T10:10:27.720233Z",
     "iopub.status.busy": "2022-05-13T10:10:27.719664Z",
     "iopub.status.idle": "2022-05-13T10:10:27.738290Z",
     "shell.execute_reply": "2022-05-13T10:10:27.737863Z"
    },
    "papermill": {
     "duration": 0.050173,
     "end_time": "2022-05-13T10:10:27.738412",
     "exception": false,
     "start_time": "2022-05-13T10:10:27.688239",
     "status": "completed"
    },
    "tags": []
   },
   "outputs": [],
   "source": [
    "#Impoting functions from 'Kudzu'\n",
    "from kudzu.model import Model\n",
    "from kudzu.train import Learner\n",
    "from kudzu.optim import GD\n",
    "from kudzu.data import Data, Sampler,Dataloader\n",
    "\n",
    "from kudzu.callbacks import AccCallback\n",
    "from kudzu.callbacks import ClfCallback\n",
    "\n",
    "from kudzu.loss import MSE\n",
    "\n",
    "from kudzu.layer import Sigmoid,Relu\n",
    "from kudzu.layer import Affine"
   ]
  },
  {
   "cell_type": "markdown",
   "id": "bc01172a",
   "metadata": {
    "papermill": {
     "duration": 0.027128,
     "end_time": "2022-05-13T10:10:27.792981",
     "exception": false,
     "start_time": "2022-05-13T10:10:27.765853",
     "status": "completed"
    },
    "tags": []
   },
   "source": [
    "### Let us create a `Config` class, to store important parameters. \n",
    "This class essentially plays the role of a dictionary."
   ]
  },
  {
   "cell_type": "code",
   "execution_count": 16,
   "id": "978281aa",
   "metadata": {
    "execution": {
     "iopub.execute_input": "2022-05-13T10:10:27.852138Z",
     "iopub.status.busy": "2022-05-13T10:10:27.851584Z",
     "iopub.status.idle": "2022-05-13T10:10:27.863814Z",
     "shell.execute_reply": "2022-05-13T10:10:27.863384Z"
    },
    "papermill": {
     "duration": 0.043942,
     "end_time": "2022-05-13T10:10:27.863956",
     "exception": false,
     "start_time": "2022-05-13T10:10:27.820014",
     "status": "completed"
    },
    "tags": []
   },
   "outputs": [],
   "source": [
    "class Config:\n",
    "    pass\n",
    "config = Config()\n",
    "config.lr = 0.001\n",
    "config.num_epochs = 250\n",
    "config.bs = 50"
   ]
  },
  {
   "cell_type": "markdown",
   "id": "1385fa59",
   "metadata": {
    "papermill": {
     "duration": 0.027063,
     "end_time": "2022-05-13T10:10:27.918285",
     "exception": false,
     "start_time": "2022-05-13T10:10:27.891222",
     "status": "completed"
    },
    "tags": []
   },
   "source": [
    "### Running Models with the Training data\n",
    "Details about the network layers:\n",
    "- A first affine layer has 784 inputs and does 100 affine transforms. These are followed by a Relu\n",
    "- A second affine layer has 100 inputs from the 100 activations of the past layer, and does 100 affine transforms. These are followed by a Relu\n",
    "- A third affine layer has 100 activations and does 2 affine transformations to create an embedding for visualization. There is no non-linearity here.\n",
    "- A final \"logistic regression\" which has an affine transform from 2 inputs to 1 output, which is squeezed through a sigmoid.\n"
   ]
  },
  {
   "cell_type": "code",
   "execution_count": 17,
   "id": "2b9c66db",
   "metadata": {
    "execution": {
     "iopub.execute_input": "2022-05-13T10:10:27.976854Z",
     "iopub.status.busy": "2022-05-13T10:10:27.976311Z",
     "iopub.status.idle": "2022-05-13T10:10:27.988645Z",
     "shell.execute_reply": "2022-05-13T10:10:27.989089Z"
    },
    "papermill": {
     "duration": 0.043859,
     "end_time": "2022-05-13T10:10:27.989232",
     "exception": false,
     "start_time": "2022-05-13T10:10:27.945373",
     "status": "completed"
    },
    "tags": []
   },
   "outputs": [],
   "source": [
    "data = Data(X_train, y_train.reshape(-1,1))\n",
    "sampler = Sampler(data, config.bs, shuffle=True)\n",
    "\n",
    "dl = Dataloader(data, sampler)\n",
    "\n",
    "opt = GD(config.lr)\n",
    "loss = MSE()"
   ]
  },
  {
   "cell_type": "code",
   "execution_count": 18,
   "id": "b275e4c2",
   "metadata": {
    "execution": {
     "iopub.execute_input": "2022-05-13T10:10:28.051692Z",
     "iopub.status.busy": "2022-05-13T10:10:28.051176Z",
     "iopub.status.idle": "2022-05-13T10:10:28.061092Z",
     "shell.execute_reply": "2022-05-13T10:10:28.060674Z"
    },
    "papermill": {
     "duration": 0.04473,
     "end_time": "2022-05-13T10:10:28.061208",
     "exception": false,
     "start_time": "2022-05-13T10:10:28.016478",
     "status": "completed"
    },
    "tags": []
   },
   "outputs": [],
   "source": [
    "training_data_x = X_train\n",
    "testing_data_x = X_test\n",
    "training_data_y = y_train.reshape(-1,1)\n",
    "testing_data_y = y_test.reshape(-1,1)"
   ]
  },
  {
   "cell_type": "code",
   "execution_count": 19,
   "id": "76951160",
   "metadata": {
    "execution": {
     "iopub.execute_input": "2022-05-13T10:10:28.120189Z",
     "iopub.status.busy": "2022-05-13T10:10:28.119633Z",
     "iopub.status.idle": "2022-05-13T10:10:28.136192Z",
     "shell.execute_reply": "2022-05-13T10:10:28.136658Z"
    },
    "papermill": {
     "duration": 0.04864,
     "end_time": "2022-05-13T10:10:28.136797",
     "exception": false,
     "start_time": "2022-05-13T10:10:28.088157",
     "status": "completed"
    },
    "tags": []
   },
   "outputs": [
    {
     "name": "stdout",
     "output_type": "stream",
     "text": [
      "xavier\n",
      "xavier\n",
      "xavier\n",
      "xavier\n",
      "xavier\n"
     ]
    }
   ],
   "source": [
    "layers = [Affine(\"first\", 784, 100), Relu(\"first\"), Affine(\"second\", 100, 100), Relu(\"second\"), Affine(\"third\", 100, 2), Affine(\"last\", 2, 1), Sigmoid(\"last\")]\n",
    "model_nn = Model(layers)\n",
    "model_lr = Model([Affine(\"logits\", 784, 1), Sigmoid(\"sigmoid\")])"
   ]
  },
  {
   "cell_type": "code",
   "execution_count": 20,
   "id": "6eede77a",
   "metadata": {
    "execution": {
     "iopub.execute_input": "2022-05-13T10:10:28.195726Z",
     "iopub.status.busy": "2022-05-13T10:10:28.195211Z",
     "iopub.status.idle": "2022-05-13T10:10:28.207950Z",
     "shell.execute_reply": "2022-05-13T10:10:28.207507Z"
    },
    "papermill": {
     "duration": 0.04384,
     "end_time": "2022-05-13T10:10:28.208070",
     "exception": false,
     "start_time": "2022-05-13T10:10:28.164230",
     "status": "completed"
    },
    "tags": []
   },
   "outputs": [],
   "source": [
    "nn_learner = Learner(loss, model_nn, opt, config.num_epochs)\n",
    "acc_nn = ClfCallback(nn_learner, config.bs, training_data_x , testing_data_x, training_data_y, testing_data_y)\n",
    "nn_learner.set_callbacks([acc_nn])"
   ]
  },
  {
   "cell_type": "code",
   "execution_count": 21,
   "id": "877b6cc7",
   "metadata": {
    "execution": {
     "iopub.execute_input": "2022-05-13T10:10:28.277481Z",
     "iopub.status.busy": "2022-05-13T10:10:28.276939Z",
     "iopub.status.idle": "2022-05-13T10:10:28.281024Z",
     "shell.execute_reply": "2022-05-13T10:10:28.281434Z"
    },
    "papermill": {
     "duration": 0.046156,
     "end_time": "2022-05-13T10:10:28.281573",
     "exception": false,
     "start_time": "2022-05-13T10:10:28.235417",
     "status": "completed"
    },
    "tags": []
   },
   "outputs": [],
   "source": [
    "lr_learner = Learner(loss, model_lr, opt, config.num_epochs)\n",
    "acc_lr = ClfCallback(lr_learner, config.bs, training_data_x , testing_data_x, training_data_y, testing_data_y)\n",
    "lr_learner.set_callbacks([acc_lr])"
   ]
  },
  {
   "cell_type": "code",
   "execution_count": 22,
   "id": "d9b133c3",
   "metadata": {
    "execution": {
     "iopub.execute_input": "2022-05-13T10:10:28.343839Z",
     "iopub.status.busy": "2022-05-13T10:10:28.343309Z",
     "iopub.status.idle": "2022-05-13T10:11:49.057527Z",
     "shell.execute_reply": "2022-05-13T10:11:49.058286Z"
    },
    "papermill": {
     "duration": 80.74935,
     "end_time": "2022-05-13T10:11:49.058451",
     "exception": false,
     "start_time": "2022-05-13T10:10:28.309101",
     "status": "completed"
    },
    "tags": []
   },
   "outputs": [
    {
     "name": "stdout",
     "output_type": "stream",
     "text": [
      "Epoch 0, Loss 0.2404\n",
      "Training Accuracy: 0.7057, Testing Accuracy: 0.7082\n",
      "\n"
     ]
    },
    {
     "name": "stdout",
     "output_type": "stream",
     "text": [
      "Epoch 10, Loss 0.0802\n",
      "Training Accuracy: 0.9169, Testing Accuracy: 0.9259\n",
      "\n"
     ]
    },
    {
     "name": "stdout",
     "output_type": "stream",
     "text": [
      "Epoch 20, Loss 0.0523\n",
      "Training Accuracy: 0.9431, Testing Accuracy: 0.9521\n",
      "\n"
     ]
    },
    {
     "name": "stdout",
     "output_type": "stream",
     "text": [
      "Epoch 30, Loss 0.0415\n",
      "Training Accuracy: 0.9537, Testing Accuracy: 0.9617\n",
      "\n"
     ]
    },
    {
     "name": "stdout",
     "output_type": "stream",
     "text": [
      "Epoch 40, Loss 0.036\n",
      "Training Accuracy: 0.9596, Testing Accuracy: 0.9672\n",
      "\n"
     ]
    },
    {
     "name": "stdout",
     "output_type": "stream",
     "text": [
      "Epoch 50, Loss 0.0326\n",
      "Training Accuracy: 0.9630, Testing Accuracy: 0.9677\n",
      "\n"
     ]
    },
    {
     "name": "stdout",
     "output_type": "stream",
     "text": [
      "Epoch 60, Loss 0.0302\n",
      "Training Accuracy: 0.9649, Testing Accuracy: 0.9703\n",
      "\n"
     ]
    },
    {
     "name": "stdout",
     "output_type": "stream",
     "text": [
      "Epoch 70, Loss 0.0284\n",
      "Training Accuracy: 0.9669, Testing Accuracy: 0.9682\n",
      "\n"
     ]
    },
    {
     "name": "stdout",
     "output_type": "stream",
     "text": [
      "Epoch 80, Loss 0.0269\n",
      "Training Accuracy: 0.9687, Testing Accuracy: 0.9693\n",
      "\n"
     ]
    },
    {
     "name": "stdout",
     "output_type": "stream",
     "text": [
      "Epoch 90, Loss 0.0257\n",
      "Training Accuracy: 0.9707, Testing Accuracy: 0.9698\n",
      "\n"
     ]
    },
    {
     "name": "stdout",
     "output_type": "stream",
     "text": [
      "Epoch 100, Loss 0.0247\n",
      "Training Accuracy: 0.9725, Testing Accuracy: 0.9708\n",
      "\n"
     ]
    },
    {
     "name": "stdout",
     "output_type": "stream",
     "text": [
      "Epoch 110, Loss 0.0238\n",
      "Training Accuracy: 0.9738, Testing Accuracy: 0.9713\n",
      "\n"
     ]
    },
    {
     "name": "stdout",
     "output_type": "stream",
     "text": [
      "Epoch 120, Loss 0.0229\n",
      "Training Accuracy: 0.9743, Testing Accuracy: 0.9718\n",
      "\n"
     ]
    },
    {
     "name": "stdout",
     "output_type": "stream",
     "text": [
      "Epoch 130, Loss 0.0222\n",
      "Training Accuracy: 0.9748, Testing Accuracy: 0.9728\n",
      "\n"
     ]
    },
    {
     "name": "stdout",
     "output_type": "stream",
     "text": [
      "Epoch 140, Loss 0.0215\n",
      "Training Accuracy: 0.9758, Testing Accuracy: 0.9728\n",
      "\n"
     ]
    },
    {
     "name": "stdout",
     "output_type": "stream",
     "text": [
      "Epoch 150, Loss 0.0209\n",
      "Training Accuracy: 0.9762, Testing Accuracy: 0.9733\n",
      "\n"
     ]
    },
    {
     "name": "stdout",
     "output_type": "stream",
     "text": [
      "Epoch 160, Loss 0.0203\n",
      "Training Accuracy: 0.9770, Testing Accuracy: 0.9733\n",
      "\n"
     ]
    },
    {
     "name": "stdout",
     "output_type": "stream",
     "text": [
      "Epoch 170, Loss 0.0197\n",
      "Training Accuracy: 0.9777, Testing Accuracy: 0.9733\n",
      "\n"
     ]
    },
    {
     "name": "stdout",
     "output_type": "stream",
     "text": [
      "Epoch 180, Loss 0.0192\n",
      "Training Accuracy: 0.9786, Testing Accuracy: 0.9733\n",
      "\n"
     ]
    },
    {
     "name": "stdout",
     "output_type": "stream",
     "text": [
      "Epoch 190, Loss 0.0187\n",
      "Training Accuracy: 0.9794, Testing Accuracy: 0.9733\n",
      "\n"
     ]
    },
    {
     "name": "stdout",
     "output_type": "stream",
     "text": [
      "Epoch 200, Loss 0.0183\n",
      "Training Accuracy: 0.9802, Testing Accuracy: 0.9733\n",
      "\n"
     ]
    },
    {
     "name": "stdout",
     "output_type": "stream",
     "text": [
      "Epoch 210, Loss 0.0178\n",
      "Training Accuracy: 0.9806, Testing Accuracy: 0.9738\n",
      "\n"
     ]
    },
    {
     "name": "stdout",
     "output_type": "stream",
     "text": [
      "Epoch 220, Loss 0.0174\n",
      "Training Accuracy: 0.9808, Testing Accuracy: 0.9738\n",
      "\n"
     ]
    },
    {
     "name": "stdout",
     "output_type": "stream",
     "text": [
      "Epoch 230, Loss 0.017\n",
      "Training Accuracy: 0.9811, Testing Accuracy: 0.9738\n",
      "\n"
     ]
    },
    {
     "name": "stdout",
     "output_type": "stream",
     "text": [
      "Epoch 240, Loss 0.0166\n",
      "Training Accuracy: 0.9817, Testing Accuracy: 0.9748\n",
      "\n"
     ]
    },
    {
     "data": {
      "text/plain": [
       "0.020543920533101678"
      ]
     },
     "execution_count": 22,
     "metadata": {},
     "output_type": "execute_result"
    }
   ],
   "source": [
    "nn_learner.train_loop(dl)"
   ]
  },
  {
   "cell_type": "code",
   "execution_count": 23,
   "id": "e0163366",
   "metadata": {
    "execution": {
     "iopub.execute_input": "2022-05-13T10:11:49.136603Z",
     "iopub.status.busy": "2022-05-13T10:11:49.136051Z",
     "iopub.status.idle": "2022-05-13T10:12:04.584990Z",
     "shell.execute_reply": "2022-05-13T10:12:04.585754Z"
    },
    "papermill": {
     "duration": 15.492543,
     "end_time": "2022-05-13T10:12:04.585921",
     "exception": false,
     "start_time": "2022-05-13T10:11:49.093378",
     "status": "completed"
    },
    "tags": []
   },
   "outputs": [
    {
     "name": "stdout",
     "output_type": "stream",
     "text": [
      "Epoch 0, Loss 0.2549\n",
      "Training Accuracy: 0.6488, Testing Accuracy: 0.6557\n",
      "\n"
     ]
    },
    {
     "name": "stdout",
     "output_type": "stream",
     "text": [
      "Epoch 10, Loss 0.1044\n",
      "Training Accuracy: 0.9062, Testing Accuracy: 0.9153\n",
      "\n"
     ]
    },
    {
     "name": "stdout",
     "output_type": "stream",
     "text": [
      "Epoch 20, Loss 0.0804\n",
      "Training Accuracy: 0.9236, Testing Accuracy: 0.9345\n",
      "\n"
     ]
    },
    {
     "name": "stdout",
     "output_type": "stream",
     "text": [
      "Epoch 30, Loss 0.0694\n",
      "Training Accuracy: 0.9318, Testing Accuracy: 0.9425\n",
      "\n"
     ]
    },
    {
     "name": "stdout",
     "output_type": "stream",
     "text": [
      "Epoch 40, Loss 0.0627\n",
      "Training Accuracy: 0.9377, Testing Accuracy: 0.9481\n",
      "\n"
     ]
    },
    {
     "name": "stdout",
     "output_type": "stream",
     "text": [
      "Epoch 50, Loss 0.0582\n",
      "Training Accuracy: 0.9418, Testing Accuracy: 0.9526\n",
      "\n"
     ]
    },
    {
     "name": "stdout",
     "output_type": "stream",
     "text": [
      "Epoch 60, Loss 0.0548\n",
      "Training Accuracy: 0.9447, Testing Accuracy: 0.9556\n",
      "\n"
     ]
    },
    {
     "name": "stdout",
     "output_type": "stream",
     "text": [
      "Epoch 70, Loss 0.0522\n",
      "Training Accuracy: 0.9477, Testing Accuracy: 0.9572\n",
      "\n"
     ]
    },
    {
     "name": "stdout",
     "output_type": "stream",
     "text": [
      "Epoch 80, Loss 0.0501\n",
      "Training Accuracy: 0.9491, Testing Accuracy: 0.9582\n",
      "\n"
     ]
    },
    {
     "name": "stdout",
     "output_type": "stream",
     "text": [
      "Epoch 90, Loss 0.0483\n",
      "Training Accuracy: 0.9505, Testing Accuracy: 0.9597\n",
      "\n"
     ]
    },
    {
     "name": "stdout",
     "output_type": "stream",
     "text": [
      "Epoch 100, Loss 0.0469\n",
      "Training Accuracy: 0.9508, Testing Accuracy: 0.9597\n",
      "\n"
     ]
    },
    {
     "name": "stdout",
     "output_type": "stream",
     "text": [
      "Epoch 110, Loss 0.0456\n",
      "Training Accuracy: 0.9517, Testing Accuracy: 0.9602\n",
      "\n"
     ]
    },
    {
     "name": "stdout",
     "output_type": "stream",
     "text": [
      "Epoch 120, Loss 0.0445\n",
      "Training Accuracy: 0.9529, Testing Accuracy: 0.9602\n",
      "\n"
     ]
    },
    {
     "name": "stdout",
     "output_type": "stream",
     "text": [
      "Epoch 130, Loss 0.0435\n",
      "Training Accuracy: 0.9541, Testing Accuracy: 0.9607\n",
      "\n"
     ]
    },
    {
     "name": "stdout",
     "output_type": "stream",
     "text": [
      "Epoch 140, Loss 0.0427\n",
      "Training Accuracy: 0.9552, Testing Accuracy: 0.9617\n",
      "\n"
     ]
    },
    {
     "name": "stdout",
     "output_type": "stream",
     "text": [
      "Epoch 150, Loss 0.0419\n",
      "Training Accuracy: 0.9555, Testing Accuracy: 0.9627\n",
      "\n"
     ]
    },
    {
     "name": "stdout",
     "output_type": "stream",
     "text": [
      "Epoch 160, Loss 0.0412\n",
      "Training Accuracy: 0.9561, Testing Accuracy: 0.9637\n",
      "\n"
     ]
    },
    {
     "name": "stdout",
     "output_type": "stream",
     "text": [
      "Epoch 170, Loss 0.0406\n",
      "Training Accuracy: 0.9561, Testing Accuracy: 0.9642\n",
      "\n"
     ]
    },
    {
     "name": "stdout",
     "output_type": "stream",
     "text": [
      "Epoch 180, Loss 0.04\n",
      "Training Accuracy: 0.9564, Testing Accuracy: 0.9652\n",
      "\n"
     ]
    },
    {
     "name": "stdout",
     "output_type": "stream",
     "text": [
      "Epoch 190, Loss 0.0394\n",
      "Training Accuracy: 0.9564, Testing Accuracy: 0.9657\n",
      "\n"
     ]
    },
    {
     "name": "stdout",
     "output_type": "stream",
     "text": [
      "Epoch 200, Loss 0.039\n",
      "Training Accuracy: 0.9571, Testing Accuracy: 0.9652\n",
      "\n"
     ]
    },
    {
     "name": "stdout",
     "output_type": "stream",
     "text": [
      "Epoch 210, Loss 0.0385\n",
      "Training Accuracy: 0.9576, Testing Accuracy: 0.9652\n",
      "\n"
     ]
    },
    {
     "name": "stdout",
     "output_type": "stream",
     "text": [
      "Epoch 220, Loss 0.0381\n",
      "Training Accuracy: 0.9582, Testing Accuracy: 0.9652\n",
      "\n"
     ]
    },
    {
     "name": "stdout",
     "output_type": "stream",
     "text": [
      "Epoch 230, Loss 0.0377\n",
      "Training Accuracy: 0.9587, Testing Accuracy: 0.9652\n",
      "\n"
     ]
    },
    {
     "name": "stdout",
     "output_type": "stream",
     "text": [
      "Epoch 240, Loss 0.0373\n",
      "Training Accuracy: 0.9590, Testing Accuracy: 0.9657\n",
      "\n"
     ]
    },
    {
     "data": {
      "text/plain": [
       "0.020380797795393826"
      ]
     },
     "execution_count": 23,
     "metadata": {},
     "output_type": "execute_result"
    }
   ],
   "source": [
    "lr_learner.train_loop(dl)"
   ]
  },
  {
   "cell_type": "code",
   "execution_count": 24,
   "id": "ca410940",
   "metadata": {
    "execution": {
     "iopub.execute_input": "2022-05-13T10:12:04.677913Z",
     "iopub.status.busy": "2022-05-13T10:12:04.677358Z",
     "iopub.status.idle": "2022-05-13T10:12:04.910828Z",
     "shell.execute_reply": "2022-05-13T10:12:04.910383Z"
    },
    "papermill": {
     "duration": 0.283298,
     "end_time": "2022-05-13T10:12:04.910950",
     "exception": false,
     "start_time": "2022-05-13T10:12:04.627652",
     "status": "completed"
    },
    "tags": []
   },
   "outputs": [
    {
     "data": {
      "text/plain": [
       "<matplotlib.legend.Legend at 0x7f8649de2ba8>"
      ]
     },
     "execution_count": 24,
     "metadata": {},
     "output_type": "execute_result"
    },
    {
     "data": {
      "image/png": "[encoded data removed]",
      "text/plain": [
       "<Figure size 1080x720 with 1 Axes>"
      ]
     },
     "metadata": {
      "needs_background": "light"
     },
     "output_type": "display_data"
    }
   ],
   "source": [
    "#comparing the results of NN and LR\n",
    "plt.figure(figsize=(15,10))\n",
    "\n",
    "# Neural Network plots\n",
    "plt.plot(acc_nn.accuracies, 'r-', label = \"Training Accuracies - NN\")\n",
    "plt.plot(acc_nn.test_accuracies, 'g-', label = \"Testing Accuracies - NN\")\n",
    "\n",
    "# Logistic Regression plots\n",
    "plt.plot(acc_lr.accuracies, 'k-', label = \"Training Accuracies - LR\")\n",
    "plt.plot(acc_lr.test_accuracies, 'b-', label = \"Testing Accuracies - LR\")\n",
    "plt.legend()"
   ]
  },
  {
   "cell_type": "markdown",
   "id": "80dfb35c",
   "metadata": {
    "papermill": {
     "duration": 0.042163,
     "end_time": "2022-05-13T10:12:04.995338",
     "exception": false,
     "start_time": "2022-05-13T10:12:04.953175",
     "status": "completed"
    },
    "tags": []
   },
   "source": [
    "#### Plotting the outputs of this layer of the NN.\n"
   ]
  },
  {
   "cell_type": "code",
   "execution_count": 25,
   "id": "45eb2ff5",
   "metadata": {
    "execution": {
     "iopub.execute_input": "2022-05-13T10:12:05.085186Z",
     "iopub.status.busy": "2022-05-13T10:12:05.084620Z",
     "iopub.status.idle": "2022-05-13T10:12:05.103862Z",
     "shell.execute_reply": "2022-05-13T10:12:05.104475Z"
    },
    "papermill": {
     "duration": 0.067456,
     "end_time": "2022-05-13T10:12:05.104618",
     "exception": false,
     "start_time": "2022-05-13T10:12:05.037162",
     "status": "completed"
    },
    "tags": []
   },
   "outputs": [],
   "source": [
    "new_model = Model(layers[:-2])\n",
    "testing_plot = new_model(testing_data_x)"
   ]
  },
  {
   "cell_type": "code",
   "execution_count": 26,
   "id": "4c0a5485",
   "metadata": {
    "execution": {
     "iopub.execute_input": "2022-05-13T10:12:05.193575Z",
     "iopub.status.busy": "2022-05-13T10:12:05.193045Z",
     "iopub.status.idle": "2022-05-13T10:12:05.394622Z",
     "shell.execute_reply": "2022-05-13T10:12:05.394162Z"
    },
    "papermill": {
     "duration": 0.247974,
     "end_time": "2022-05-13T10:12:05.394751",
     "exception": false,
     "start_time": "2022-05-13T10:12:05.146777",
     "status": "completed"
    },
    "tags": []
   },
   "outputs": [
    {
     "data": {
      "text/plain": [
       "Text(0.5, 1.0, 'Outputs')"
      ]
     },
     "execution_count": 26,
     "metadata": {},
     "output_type": "execute_result"
    },
    {
     "data": {
      "image/png": "[encoded data removed]",
      "text/plain": [
       "<Figure size 576x504 with 1 Axes>"
      ]
     },
     "metadata": {
      "needs_background": "light"
     },
     "output_type": "display_data"
    }
   ],
   "source": [
    "# Plotting the scatter plot of points and color coding by class\n",
    "plt.figure(figsize=(8,7))\n",
    "plt.scatter(testing_plot[:,0], testing_plot[:,1], alpha = 0.1, c = y_test.ravel());\n",
    "plt.title('Outputs')"
   ]
  },
  {
   "cell_type": "markdown",
   "id": "a74fcf8f",
   "metadata": {
    "papermill": {
     "duration": 0.044152,
     "end_time": "2022-05-13T10:12:05.483211",
     "exception": false,
     "start_time": "2022-05-13T10:12:05.439059",
     "status": "completed"
    },
    "tags": []
   },
   "source": [
    "Probability contours"
   ]
  },
  {
   "cell_type": "code",
   "execution_count": 27,
   "id": "d0afc8e3",
   "metadata": {
    "execution": {
     "iopub.execute_input": "2022-05-13T10:12:05.580466Z",
     "iopub.status.busy": "2022-05-13T10:12:05.577201Z",
     "iopub.status.idle": "2022-05-13T10:12:05.589737Z",
     "shell.execute_reply": "2022-05-13T10:12:05.590143Z"
    },
    "papermill": {
     "duration": 0.062159,
     "end_time": "2022-05-13T10:12:05.590286",
     "exception": false,
     "start_time": "2022-05-13T10:12:05.528127",
     "status": "completed"
    },
    "tags": []
   },
   "outputs": [],
   "source": [
    "model_prob = Model(layers[-2:]) "
   ]
  },
  {
   "cell_type": "code",
   "execution_count": 28,
   "id": "9b96e238",
   "metadata": {
    "execution": {
     "iopub.execute_input": "2022-05-13T10:12:05.726134Z",
     "iopub.status.busy": "2022-05-13T10:12:05.723533Z",
     "iopub.status.idle": "2022-05-13T10:12:05.738590Z",
     "shell.execute_reply": "2022-05-13T10:12:05.739010Z"
    },
    "papermill": {
     "duration": 0.070585,
     "end_time": "2022-05-13T10:12:05.739156",
     "exception": false,
     "start_time": "2022-05-13T10:12:05.668571",
     "status": "completed"
    },
    "tags": []
   },
   "outputs": [],
   "source": [
    "#creating the x and y ranges according to the above generated plot.\n",
    "x_range = np.linspace(-4, 1, 100) \n",
    "y_range = np.linspace(-6, 6, 100) \n",
    "x_grid, y_grid = np.meshgrid(x_range, y_range) # x_grid and y_grig are of size 100 X 100\n",
    "\n",
    "# converting x_grid and y_grid to continuous arrays\n",
    "x_gridflat = np.ravel(x_grid)\n",
    "y_gridflat = np.ravel(y_grid)\n",
    "\n",
    "# The last layer of the current model takes two columns as input. Hence transpose of np.vstack() is required.\n",
    "X = np.vstack((x_gridflat, y_gridflat)).T\n",
    "\n",
    "prob_contour = model_prob(X).reshape(100,100) "
   ]
  },
  {
   "cell_type": "code",
   "execution_count": 29,
   "id": "da72499a",
   "metadata": {
    "execution": {
     "iopub.execute_input": "2022-05-13T10:12:05.833565Z",
     "iopub.status.busy": "2022-05-13T10:12:05.833031Z",
     "iopub.status.idle": "2022-05-13T10:12:06.082412Z",
     "shell.execute_reply": "2022-05-13T10:12:06.082810Z"
    },
    "papermill": {
     "duration": 0.299261,
     "end_time": "2022-05-13T10:12:06.082960",
     "exception": false,
     "start_time": "2022-05-13T10:12:05.783699",
     "status": "completed"
    },
    "tags": []
   },
   "outputs": [
    {
     "data": {
      "image/png": "[encoded data removed]",
      "text/plain": [
       "<Figure size 720x648 with 1 Axes>"
      ]
     },
     "metadata": {
      "needs_background": "light"
     },
     "output_type": "display_data"
    }
   ],
   "source": [
    "plt.figure(figsize=(10,9))\n",
    "plt.scatter(testing_plot[:,0], testing_plot[:,1], alpha = 0.1, c = y_test.ravel())\n",
    "contours = plt.contour(x_grid,y_grid,prob_contour)\n",
    "plt.title('Probability Contours')\n",
    "plt.clabel(contours, inline = True );"
   ]
  },
  {
   "cell_type": "code",
   "execution_count": null,
   "id": "e81b4ac7",
   "metadata": {
    "papermill": {
     "duration": 0.046493,
     "end_time": "2022-05-13T10:12:06.176504",
     "exception": false,
     "start_time": "2022-05-13T10:12:06.130011",
     "status": "completed"
    },
    "tags": []
   },
   "outputs": [],
   "source": []
  }
 ],
 "metadata": {
  "kernelspec": {
   "display_name": "Python 3",
   "language": "python",
   "name": "python3"
  },
  "language_info": {
   "codemirror_mode": {
    "name": "ipython",
    "version": 3
   },
   "file_extension": ".py",
   "mimetype": "text/x-python",
   "name": "python",
   "nbconvert_exporter": "python",
   "pygments_lexer": "ipython3",
   "version": "3.6.15"
  },
  "papermill": {
   "default_parameters": {},
   "duration": 104.492423,
   "end_time": "2022-05-13T10:12:06.641610",
   "environment_variables": {},
   "exception": null,
   "input_path": "2020-08-11-part2.ipynb",
   "output_path": "2020-08-11-part2.ipynb",
   "parameters": {},
   "start_time": "2022-05-13T10:10:22.149187",
   "version": "2.3.3"
  }
 },
 "nbformat": 4,
 "nbformat_minor": 5
}