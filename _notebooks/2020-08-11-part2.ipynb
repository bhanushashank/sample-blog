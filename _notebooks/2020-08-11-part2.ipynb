{
 "cells": [
  {
   "cell_type": "markdown",
   "id": "98380cd3",
   "metadata": {
    "papermill": {
     "duration": 0.028332,
     "end_time": "2021-11-12T00:22:22.680185",
     "exception": false,
     "start_time": "2021-11-12T00:22:22.651853",
     "status": "completed"
    },
    "tags": []
   },
   "source": [
    "# Distinguish Your Own Digits (DYOD)"
   ]
  },
  {
   "cell_type": "markdown",
   "id": "ef31240d",
   "metadata": {
    "papermill": {
     "duration": 0.024896,
     "end_time": "2021-11-12T00:22:22.729305",
     "exception": false,
     "start_time": "2021-11-12T00:22:22.704409",
     "status": "completed"
    },
    "tags": []
   },
   "source": [
    "You are going to write a classifier that distinguishes between the number 3 and number 8."
   ]
  },
  {
   "cell_type": "code",
   "execution_count": 1,
   "id": "b15c8646",
   "metadata": {
    "execution": {
     "iopub.execute_input": "2021-11-12T00:22:22.786810Z",
     "iopub.status.busy": "2021-11-12T00:22:22.786237Z",
     "iopub.status.idle": "2021-11-12T00:22:22.795905Z",
     "shell.execute_reply": "2021-11-12T00:22:22.796347Z"
    },
    "papermill": {
     "duration": 0.043641,
     "end_time": "2021-11-12T00:22:22.796487",
     "exception": false,
     "start_time": "2021-11-12T00:22:22.752846",
     "status": "completed"
    },
    "tags": []
   },
   "outputs": [],
   "source": [
    "%load_ext autoreload\n",
    "%autoreload 2"
   ]
  },
  {
   "cell_type": "code",
   "execution_count": 2,
   "id": "22ef38dc",
   "metadata": {
    "execution": {
     "iopub.execute_input": "2021-11-12T00:22:22.847164Z",
     "iopub.status.busy": "2021-11-12T00:22:22.846642Z",
     "iopub.status.idle": "2021-11-12T00:22:23.348717Z",
     "shell.execute_reply": "2021-11-12T00:22:23.348172Z"
    },
    "papermill": {
     "duration": 0.528958,
     "end_time": "2021-11-12T00:22:23.348859",
     "exception": false,
     "start_time": "2021-11-12T00:22:22.819901",
     "status": "completed"
    },
    "tags": []
   },
   "outputs": [],
   "source": [
    "%matplotlib inline\n",
    "import numpy as np\n",
    "import matplotlib.pyplot as plt\n",
    "import pandas as pd"
   ]
  },
  {
   "cell_type": "markdown",
   "id": "ba036198",
   "metadata": {
    "papermill": {
     "duration": 0.023628,
     "end_time": "2021-11-12T00:22:23.396599",
     "exception": false,
     "start_time": "2021-11-12T00:22:23.372971",
     "status": "completed"
    },
    "tags": []
   },
   "source": [
    "From the command line run `pip install mnist`. This is a library that will help you bring down the mnist dataset. If you run this from a notebook, you need to put  `!pip install mnist` in a cell by itself."
   ]
  },
  {
   "cell_type": "code",
   "execution_count": 3,
   "id": "bb6ad8a1",
   "metadata": {
    "execution": {
     "iopub.execute_input": "2021-11-12T00:22:23.455499Z",
     "iopub.status.busy": "2021-11-12T00:22:23.454890Z",
     "iopub.status.idle": "2021-11-12T00:22:25.073716Z",
     "shell.execute_reply": "2021-11-12T00:22:25.073171Z"
    },
    "papermill": {
     "duration": 1.653455,
     "end_time": "2021-11-12T00:22:25.073845",
     "exception": false,
     "start_time": "2021-11-12T00:22:23.420390",
     "status": "completed"
    },
    "tags": []
   },
   "outputs": [
    {
     "name": "stdout",
     "output_type": "stream",
     "text": [
      "Collecting mnist\r\n"
     ]
    },
    {
     "name": "stdout",
     "output_type": "stream",
     "text": [
      "  Downloading mnist-0.2.2-py2.py3-none-any.whl (3.5 kB)\r\n",
      "Requirement already satisfied: numpy in /opt/hostedtoolcache/Python/3.6.15/x64/lib/python3.6/site-packages (from mnist) (1.19.5)\r\n"
     ]
    },
    {
     "name": "stdout",
     "output_type": "stream",
     "text": [
      "Installing collected packages: mnist\r\n",
      "Successfully installed mnist-0.2.2\r\n"
     ]
    }
   ],
   "source": [
    "!pip install mnist"
   ]
  },
  {
   "cell_type": "markdown",
   "id": "69df9c9a",
   "metadata": {
    "papermill": {
     "duration": 0.024299,
     "end_time": "2021-11-12T00:22:25.122936",
     "exception": false,
     "start_time": "2021-11-12T00:22:25.098637",
     "status": "completed"
    },
    "tags": []
   },
   "source": [
    "## Preparing the Data"
   ]
  },
  {
   "cell_type": "code",
   "execution_count": 4,
   "id": "7f69d806",
   "metadata": {
    "execution": {
     "iopub.execute_input": "2021-11-12T00:22:25.175756Z",
     "iopub.status.busy": "2021-11-12T00:22:25.175247Z",
     "iopub.status.idle": "2021-11-12T00:22:25.188647Z",
     "shell.execute_reply": "2021-11-12T00:22:25.188220Z"
    },
    "papermill": {
     "duration": 0.041541,
     "end_time": "2021-11-12T00:22:25.188760",
     "exception": false,
     "start_time": "2021-11-12T00:22:25.147219",
     "status": "completed"
    },
    "tags": []
   },
   "outputs": [],
   "source": [
    "import mnist"
   ]
  },
  {
   "cell_type": "code",
   "execution_count": 5,
   "id": "a411e44f",
   "metadata": {
    "execution": {
     "iopub.execute_input": "2021-11-12T00:22:25.251331Z",
     "iopub.status.busy": "2021-11-12T00:22:25.247328Z",
     "iopub.status.idle": "2021-11-12T00:22:25.731342Z",
     "shell.execute_reply": "2021-11-12T00:22:25.730798Z"
    },
    "papermill": {
     "duration": 0.518344,
     "end_time": "2021-11-12T00:22:25.731481",
     "exception": false,
     "start_time": "2021-11-12T00:22:25.213137",
     "status": "completed"
    },
    "tags": []
   },
   "outputs": [],
   "source": [
    "train_images = mnist.train_images()\n",
    "train_labels = mnist.train_labels()"
   ]
  },
  {
   "cell_type": "code",
   "execution_count": 6,
   "id": "dceab3a5",
   "metadata": {
    "execution": {
     "iopub.execute_input": "2021-11-12T00:22:25.787003Z",
     "iopub.status.busy": "2021-11-12T00:22:25.786453Z",
     "iopub.status.idle": "2021-11-12T00:22:25.799030Z",
     "shell.execute_reply": "2021-11-12T00:22:25.798607Z"
    },
    "papermill": {
     "duration": 0.042426,
     "end_time": "2021-11-12T00:22:25.799142",
     "exception": false,
     "start_time": "2021-11-12T00:22:25.756716",
     "status": "completed"
    },
    "tags": []
   },
   "outputs": [
    {
     "data": {
      "text/plain": [
       "((60000, 28, 28), (60000,))"
      ]
     },
     "execution_count": 6,
     "metadata": {},
     "output_type": "execute_result"
    }
   ],
   "source": [
    "train_images.shape, train_labels.shape"
   ]
  },
  {
   "cell_type": "code",
   "execution_count": 7,
   "id": "f50dc2bb",
   "metadata": {
    "execution": {
     "iopub.execute_input": "2021-11-12T00:22:25.854757Z",
     "iopub.status.busy": "2021-11-12T00:22:25.854224Z",
     "iopub.status.idle": "2021-11-12T00:22:25.977466Z",
     "shell.execute_reply": "2021-11-12T00:22:25.977942Z"
    },
    "papermill": {
     "duration": 0.154533,
     "end_time": "2021-11-12T00:22:25.978103",
     "exception": false,
     "start_time": "2021-11-12T00:22:25.823570",
     "status": "completed"
    },
    "tags": []
   },
   "outputs": [],
   "source": [
    "test_images = mnist.test_images()\n",
    "test_labels = mnist.test_labels()"
   ]
  },
  {
   "cell_type": "code",
   "execution_count": 8,
   "id": "fc38cf1b",
   "metadata": {
    "execution": {
     "iopub.execute_input": "2021-11-12T00:22:26.031291Z",
     "iopub.status.busy": "2021-11-12T00:22:26.030761Z",
     "iopub.status.idle": "2021-11-12T00:22:26.042657Z",
     "shell.execute_reply": "2021-11-12T00:22:26.043099Z"
    },
    "papermill": {
     "duration": 0.039942,
     "end_time": "2021-11-12T00:22:26.043225",
     "exception": false,
     "start_time": "2021-11-12T00:22:26.003283",
     "status": "completed"
    },
    "tags": []
   },
   "outputs": [
    {
     "data": {
      "text/plain": [
       "((10000, 28, 28), (10000,))"
      ]
     },
     "execution_count": 8,
     "metadata": {},
     "output_type": "execute_result"
    }
   ],
   "source": [
    "test_images.shape, test_labels.shape"
   ]
  },
  {
   "cell_type": "code",
   "execution_count": 9,
   "id": "f9ed8fe0",
   "metadata": {
    "execution": {
     "iopub.execute_input": "2021-11-12T00:22:26.104918Z",
     "iopub.status.busy": "2021-11-12T00:22:26.104377Z",
     "iopub.status.idle": "2021-11-12T00:22:26.238902Z",
     "shell.execute_reply": "2021-11-12T00:22:26.238414Z"
    },
    "papermill": {
     "duration": 0.170963,
     "end_time": "2021-11-12T00:22:26.239018",
     "exception": false,
     "start_time": "2021-11-12T00:22:26.068055",
     "status": "completed"
    },
    "tags": []
   },
   "outputs": [
    {
     "name": "stdout",
     "output_type": "stream",
     "text": [
      "2\n"
     ]
    },
    {
     "data": {
      "text/plain": [
       "<matplotlib.image.AxesImage at 0x7f73ea4bf5f8>"
      ]
     },
     "execution_count": 9,
     "metadata": {},
     "output_type": "execute_result"
    },
    {
     "data": {
      "image/png": "[encoded data removed]",
      "text/plain": [
       "<Figure size 432x288 with 1 Axes>"
      ]
     },
     "metadata": {
      "needs_background": "light"
     },
     "output_type": "display_data"
    }
   ],
   "source": [
    "image_index = 7776 # You may select anything up to 60,000\n",
    "print(train_labels[image_index]) \n",
    "plt.imshow(train_images[image_index], cmap='Greys')"
   ]
  },
  {
   "cell_type": "markdown",
   "id": "a8d2388d",
   "metadata": {
    "papermill": {
     "duration": 0.026283,
     "end_time": "2021-11-12T00:22:26.291496",
     "exception": false,
     "start_time": "2021-11-12T00:22:26.265213",
     "status": "completed"
    },
    "tags": []
   },
   "source": [
    "## Filter data to get 3 and 8 out"
   ]
  },
  {
   "cell_type": "code",
   "execution_count": 10,
   "id": "776f7fc7",
   "metadata": {
    "execution": {
     "iopub.execute_input": "2021-11-12T00:22:26.352250Z",
     "iopub.status.busy": "2021-11-12T00:22:26.348538Z",
     "iopub.status.idle": "2021-11-12T00:22:26.362336Z",
     "shell.execute_reply": "2021-11-12T00:22:26.362793Z"
    },
    "papermill": {
     "duration": 0.045555,
     "end_time": "2021-11-12T00:22:26.362925",
     "exception": false,
     "start_time": "2021-11-12T00:22:26.317370",
     "status": "completed"
    },
    "tags": []
   },
   "outputs": [],
   "source": [
    "train_filter = np.where((train_labels == 3 ) | (train_labels == 8))\n",
    "test_filter = np.where((test_labels == 3) | (test_labels == 8))\n",
    "X_train, y_train = train_images[train_filter], train_labels[train_filter]\n",
    "X_test, y_test = test_images[test_filter], test_labels[test_filter]"
   ]
  },
  {
   "cell_type": "markdown",
   "id": "948f0b7e",
   "metadata": {
    "papermill": {
     "duration": 0.02619,
     "end_time": "2021-11-12T00:22:26.417859",
     "exception": false,
     "start_time": "2021-11-12T00:22:26.391669",
     "status": "completed"
    },
    "tags": []
   },
   "source": [
    "We normalize the pizel values in the 0 to 1 range"
   ]
  },
  {
   "cell_type": "code",
   "execution_count": 11,
   "id": "ee4c2166",
   "metadata": {
    "execution": {
     "iopub.execute_input": "2021-11-12T00:22:26.475871Z",
     "iopub.status.busy": "2021-11-12T00:22:26.475355Z",
     "iopub.status.idle": "2021-11-12T00:22:26.520864Z",
     "shell.execute_reply": "2021-11-12T00:22:26.520407Z"
    },
    "papermill": {
     "duration": 0.077403,
     "end_time": "2021-11-12T00:22:26.520986",
     "exception": false,
     "start_time": "2021-11-12T00:22:26.443583",
     "status": "completed"
    },
    "tags": []
   },
   "outputs": [],
   "source": [
    "X_train = X_train/255.\n",
    "X_test = X_test/255."
   ]
  },
  {
   "cell_type": "markdown",
   "id": "ddcf4fab",
   "metadata": {
    "papermill": {
     "duration": 0.026188,
     "end_time": "2021-11-12T00:22:26.574344",
     "exception": false,
     "start_time": "2021-11-12T00:22:26.548156",
     "status": "completed"
    },
    "tags": []
   },
   "source": [
    "And setup the labels as 1 (when the digit is 3) and 0 (when the digit is 8)"
   ]
  },
  {
   "cell_type": "code",
   "execution_count": 12,
   "id": "7dc908f2",
   "metadata": {
    "execution": {
     "iopub.execute_input": "2021-11-12T00:22:26.629925Z",
     "iopub.status.busy": "2021-11-12T00:22:26.629385Z",
     "iopub.status.idle": "2021-11-12T00:22:26.641889Z",
     "shell.execute_reply": "2021-11-12T00:22:26.641447Z"
    },
    "papermill": {
     "duration": 0.041835,
     "end_time": "2021-11-12T00:22:26.642001",
     "exception": false,
     "start_time": "2021-11-12T00:22:26.600166",
     "status": "completed"
    },
    "tags": []
   },
   "outputs": [],
   "source": [
    "y_train = 1*(y_train==3)\n",
    "y_test = 1*(y_test==3)"
   ]
  },
  {
   "cell_type": "code",
   "execution_count": 13,
   "id": "01e4e969",
   "metadata": {
    "execution": {
     "iopub.execute_input": "2021-11-12T00:22:26.697438Z",
     "iopub.status.busy": "2021-11-12T00:22:26.696927Z",
     "iopub.status.idle": "2021-11-12T00:22:26.710238Z",
     "shell.execute_reply": "2021-11-12T00:22:26.709825Z"
    },
    "papermill": {
     "duration": 0.042441,
     "end_time": "2021-11-12T00:22:26.710352",
     "exception": false,
     "start_time": "2021-11-12T00:22:26.667911",
     "status": "completed"
    },
    "tags": []
   },
   "outputs": [
    {
     "data": {
      "text/plain": [
       "((11982, 28, 28), (1984, 28, 28))"
      ]
     },
     "execution_count": 13,
     "metadata": {},
     "output_type": "execute_result"
    }
   ],
   "source": [
    "X_train.shape, X_test.shape"
   ]
  },
  {
   "cell_type": "markdown",
   "id": "5ccf3f85",
   "metadata": {
    "papermill": {
     "duration": 0.026078,
     "end_time": "2021-11-12T00:22:26.762672",
     "exception": false,
     "start_time": "2021-11-12T00:22:26.736594",
     "status": "completed"
    },
    "tags": []
   },
   "source": [
    "We reshape the data to flatten the image pixels into a set of features or co-variates:"
   ]
  },
  {
   "cell_type": "code",
   "execution_count": 14,
   "id": "5286a4a3",
   "metadata": {
    "execution": {
     "iopub.execute_input": "2021-11-12T00:22:26.820308Z",
     "iopub.status.busy": "2021-11-12T00:22:26.819791Z",
     "iopub.status.idle": "2021-11-12T00:22:26.832101Z",
     "shell.execute_reply": "2021-11-12T00:22:26.831691Z"
    },
    "papermill": {
     "duration": 0.04336,
     "end_time": "2021-11-12T00:22:26.832210",
     "exception": false,
     "start_time": "2021-11-12T00:22:26.788850",
     "status": "completed"
    },
    "tags": []
   },
   "outputs": [
    {
     "data": {
      "text/plain": [
       "((11982, 784), (1984, 784))"
      ]
     },
     "execution_count": 14,
     "metadata": {},
     "output_type": "execute_result"
    }
   ],
   "source": [
    "X_train = X_train.reshape(X_train.shape[0], -1)\n",
    "X_test = X_test.reshape(X_test.shape[0], -1)\n",
    "X_train.shape, X_test.shape"
   ]
  },
  {
   "cell_type": "code",
   "execution_count": 15,
   "id": "73c5f88a",
   "metadata": {
    "execution": {
     "iopub.execute_input": "2021-11-12T00:22:26.891466Z",
     "iopub.status.busy": "2021-11-12T00:22:26.890941Z",
     "iopub.status.idle": "2021-11-12T00:22:26.907453Z",
     "shell.execute_reply": "2021-11-12T00:22:26.906983Z"
    },
    "papermill": {
     "duration": 0.048936,
     "end_time": "2021-11-12T00:22:26.907575",
     "exception": false,
     "start_time": "2021-11-12T00:22:26.858639",
     "status": "completed"
    },
    "tags": []
   },
   "outputs": [],
   "source": [
    "#Impoting functions from 'Kudzu'\n",
    "from kudzu.model import Model\n",
    "from kudzu.train import Learner\n",
    "from kudzu.optim import GD\n",
    "from kudzu.data import Data, Sampler,Dataloader\n",
    "\n",
    "from kudzu.callbacks import AccCallback\n",
    "from kudzu.callbacks import ClfCallback\n",
    "\n",
    "from kudzu.loss import MSE\n",
    "\n",
    "from kudzu.layer import Sigmoid,Relu\n",
    "from kudzu.layer import Affine"
   ]
  },
  {
   "cell_type": "markdown",
   "id": "bc01172a",
   "metadata": {
    "papermill": {
     "duration": 0.02661,
     "end_time": "2021-11-12T00:22:26.961619",
     "exception": false,
     "start_time": "2021-11-12T00:22:26.935009",
     "status": "completed"
    },
    "tags": []
   },
   "source": [
    "### Let us create a `Config` class, to store important parameters. \n",
    "This class essentially plays the role of a dictionary."
   ]
  },
  {
   "cell_type": "code",
   "execution_count": 16,
   "id": "978281aa",
   "metadata": {
    "execution": {
     "iopub.execute_input": "2021-11-12T00:22:27.017981Z",
     "iopub.status.busy": "2021-11-12T00:22:27.017462Z",
     "iopub.status.idle": "2021-11-12T00:22:27.028945Z",
     "shell.execute_reply": "2021-11-12T00:22:27.028510Z"
    },
    "papermill": {
     "duration": 0.041197,
     "end_time": "2021-11-12T00:22:27.029050",
     "exception": false,
     "start_time": "2021-11-12T00:22:26.987853",
     "status": "completed"
    },
    "tags": []
   },
   "outputs": [],
   "source": [
    "class Config:\n",
    "    pass\n",
    "config = Config()\n",
    "config.lr = 0.001\n",
    "config.num_epochs = 250\n",
    "config.bs = 50"
   ]
  },
  {
   "cell_type": "markdown",
   "id": "1385fa59",
   "metadata": {
    "papermill": {
     "duration": 0.026505,
     "end_time": "2021-11-12T00:22:27.082098",
     "exception": false,
     "start_time": "2021-11-12T00:22:27.055593",
     "status": "completed"
    },
    "tags": []
   },
   "source": [
    "### Running Models with the Training data\n",
    "Details about the network layers:\n",
    "- A first affine layer has 784 inputs and does 100 affine transforms. These are followed by a Relu\n",
    "- A second affine layer has 100 inputs from the 100 activations of the past layer, and does 100 affine transforms. These are followed by a Relu\n",
    "- A third affine layer has 100 activations and does 2 affine transformations to create an embedding for visualization. There is no non-linearity here.\n",
    "- A final \"logistic regression\" which has an affine transform from 2 inputs to 1 output, which is squeezed through a sigmoid.\n"
   ]
  },
  {
   "cell_type": "code",
   "execution_count": 17,
   "id": "2b9c66db",
   "metadata": {
    "execution": {
     "iopub.execute_input": "2021-11-12T00:22:27.140206Z",
     "iopub.status.busy": "2021-11-12T00:22:27.139684Z",
     "iopub.status.idle": "2021-11-12T00:22:27.150251Z",
     "shell.execute_reply": "2021-11-12T00:22:27.150695Z"
    },
    "papermill": {
     "duration": 0.042367,
     "end_time": "2021-11-12T00:22:27.150826",
     "exception": false,
     "start_time": "2021-11-12T00:22:27.108459",
     "status": "completed"
    },
    "tags": []
   },
   "outputs": [],
   "source": [
    "data = Data(X_train, y_train.reshape(-1,1))\n",
    "sampler = Sampler(data, config.bs, shuffle=True)\n",
    "\n",
    "dl = Dataloader(data, sampler)\n",
    "\n",
    "opt = GD(config.lr)\n",
    "loss = MSE()"
   ]
  },
  {
   "cell_type": "code",
   "execution_count": 18,
   "id": "b275e4c2",
   "metadata": {
    "execution": {
     "iopub.execute_input": "2021-11-12T00:22:27.220723Z",
     "iopub.status.busy": "2021-11-12T00:22:27.218479Z",
     "iopub.status.idle": "2021-11-12T00:22:27.223073Z",
     "shell.execute_reply": "2021-11-12T00:22:27.222629Z"
    },
    "papermill": {
     "duration": 0.045824,
     "end_time": "2021-11-12T00:22:27.223179",
     "exception": false,
     "start_time": "2021-11-12T00:22:27.177355",
     "status": "completed"
    },
    "tags": []
   },
   "outputs": [],
   "source": [
    "training_data_x = X_train\n",
    "testing_data_x = X_test\n",
    "training_data_y = y_train.reshape(-1,1)\n",
    "testing_data_y = y_test.reshape(-1,1)"
   ]
  },
  {
   "cell_type": "code",
   "execution_count": 19,
   "id": "76951160",
   "metadata": {
    "execution": {
     "iopub.execute_input": "2021-11-12T00:22:27.287276Z",
     "iopub.status.busy": "2021-11-12T00:22:27.283174Z",
     "iopub.status.idle": "2021-11-12T00:22:27.296328Z",
     "shell.execute_reply": "2021-11-12T00:22:27.296712Z"
    },
    "papermill": {
     "duration": 0.047447,
     "end_time": "2021-11-12T00:22:27.296838",
     "exception": false,
     "start_time": "2021-11-12T00:22:27.249391",
     "status": "completed"
    },
    "tags": []
   },
   "outputs": [
    {
     "name": "stdout",
     "output_type": "stream",
     "text": [
      "xavier\n",
      "xavier\n",
      "xavier\n",
      "xavier\n",
      "xavier\n"
     ]
    }
   ],
   "source": [
    "layers = [Affine(\"first\", 784, 100), Relu(\"first\"), Affine(\"second\", 100, 100), Relu(\"second\"), Affine(\"third\", 100, 2), Affine(\"last\", 2, 1), Sigmoid(\"last\")]\n",
    "model_nn = Model(layers)\n",
    "model_lr = Model([Affine(\"logits\", 784, 1), Sigmoid(\"sigmoid\")])"
   ]
  },
  {
   "cell_type": "code",
   "execution_count": 20,
   "id": "6eede77a",
   "metadata": {
    "execution": {
     "iopub.execute_input": "2021-11-12T00:22:27.354100Z",
     "iopub.status.busy": "2021-11-12T00:22:27.353590Z",
     "iopub.status.idle": "2021-11-12T00:22:27.366075Z",
     "shell.execute_reply": "2021-11-12T00:22:27.366532Z"
    },
    "papermill": {
     "duration": 0.04312,
     "end_time": "2021-11-12T00:22:27.366659",
     "exception": false,
     "start_time": "2021-11-12T00:22:27.323539",
     "status": "completed"
    },
    "tags": []
   },
   "outputs": [],
   "source": [
    "nn_learner = Learner(loss, model_nn, opt, config.num_epochs)\n",
    "acc_nn = ClfCallback(nn_learner, config.bs, training_data_x , testing_data_x, training_data_y, testing_data_y)\n",
    "nn_learner.set_callbacks([acc_nn])"
   ]
  },
  {
   "cell_type": "code",
   "execution_count": 21,
   "id": "877b6cc7",
   "metadata": {
    "execution": {
     "iopub.execute_input": "2021-11-12T00:22:27.425035Z",
     "iopub.status.busy": "2021-11-12T00:22:27.424530Z",
     "iopub.status.idle": "2021-11-12T00:22:27.434769Z",
     "shell.execute_reply": "2021-11-12T00:22:27.435213Z"
    },
    "papermill": {
     "duration": 0.042094,
     "end_time": "2021-11-12T00:22:27.435338",
     "exception": false,
     "start_time": "2021-11-12T00:22:27.393244",
     "status": "completed"
    },
    "tags": []
   },
   "outputs": [],
   "source": [
    "lr_learner = Learner(loss, model_lr, opt, config.num_epochs)\n",
    "acc_lr = ClfCallback(lr_learner, config.bs, training_data_x , testing_data_x, training_data_y, testing_data_y)\n",
    "lr_learner.set_callbacks([acc_lr])"
   ]
  },
  {
   "cell_type": "code",
   "execution_count": 22,
   "id": "d9b133c3",
   "metadata": {
    "execution": {
     "iopub.execute_input": "2021-11-12T00:22:27.492188Z",
     "iopub.status.busy": "2021-11-12T00:22:27.491679Z",
     "iopub.status.idle": "2021-11-12T00:23:41.473245Z",
     "shell.execute_reply": "2021-11-12T00:23:41.473751Z"
    },
    "papermill": {
     "duration": 74.011768,
     "end_time": "2021-11-12T00:23:41.473892",
     "exception": false,
     "start_time": "2021-11-12T00:22:27.462124",
     "status": "completed"
    },
    "tags": []
   },
   "outputs": [
    {
     "name": "stdout",
     "output_type": "stream",
     "text": [
      "Epoch 0, Loss 0.2343\n",
      "Training Accuracy: 0.6978, Testing Accuracy: 0.7319\n",
      "\n"
     ]
    },
    {
     "name": "stdout",
     "output_type": "stream",
     "text": [
      "Epoch 10, Loss 0.0953\n",
      "Training Accuracy: 0.9180, Testing Accuracy: 0.9259\n",
      "\n"
     ]
    },
    {
     "name": "stdout",
     "output_type": "stream",
     "text": [
      "Epoch 20, Loss 0.0584\n",
      "Training Accuracy: 0.9396, Testing Accuracy: 0.9471\n",
      "\n"
     ]
    },
    {
     "name": "stdout",
     "output_type": "stream",
     "text": [
      "Epoch 30, Loss 0.0457\n",
      "Training Accuracy: 0.9503, Testing Accuracy: 0.9536\n",
      "\n"
     ]
    },
    {
     "name": "stdout",
     "output_type": "stream",
     "text": [
      "Epoch 40, Loss 0.0394\n",
      "Training Accuracy: 0.9556, Testing Accuracy: 0.9617\n",
      "\n"
     ]
    },
    {
     "name": "stdout",
     "output_type": "stream",
     "text": [
      "Epoch 50, Loss 0.0356\n",
      "Training Accuracy: 0.9594, Testing Accuracy: 0.9647\n",
      "\n"
     ]
    },
    {
     "name": "stdout",
     "output_type": "stream",
     "text": [
      "Epoch 60, Loss 0.0329\n",
      "Training Accuracy: 0.9628, Testing Accuracy: 0.9672\n",
      "\n"
     ]
    },
    {
     "name": "stdout",
     "output_type": "stream",
     "text": [
      "Epoch 70, Loss 0.0309\n",
      "Training Accuracy: 0.9649, Testing Accuracy: 0.9688\n",
      "\n"
     ]
    },
    {
     "name": "stdout",
     "output_type": "stream",
     "text": [
      "Epoch 80, Loss 0.0293\n",
      "Training Accuracy: 0.9664, Testing Accuracy: 0.9708\n",
      "\n"
     ]
    },
    {
     "name": "stdout",
     "output_type": "stream",
     "text": [
      "Epoch 90, Loss 0.028\n",
      "Training Accuracy: 0.9675, Testing Accuracy: 0.9708\n",
      "\n"
     ]
    },
    {
     "name": "stdout",
     "output_type": "stream",
     "text": [
      "Epoch 100, Loss 0.0269\n",
      "Training Accuracy: 0.9688, Testing Accuracy: 0.9718\n",
      "\n"
     ]
    },
    {
     "name": "stdout",
     "output_type": "stream",
     "text": [
      "Epoch 110, Loss 0.026\n",
      "Training Accuracy: 0.9698, Testing Accuracy: 0.9718\n",
      "\n"
     ]
    },
    {
     "name": "stdout",
     "output_type": "stream",
     "text": [
      "Epoch 120, Loss 0.0251\n",
      "Training Accuracy: 0.9712, Testing Accuracy: 0.9718\n",
      "\n"
     ]
    },
    {
     "name": "stdout",
     "output_type": "stream",
     "text": [
      "Epoch 130, Loss 0.0244\n",
      "Training Accuracy: 0.9715, Testing Accuracy: 0.9718\n",
      "\n"
     ]
    },
    {
     "name": "stdout",
     "output_type": "stream",
     "text": [
      "Epoch 140, Loss 0.0237\n",
      "Training Accuracy: 0.9725, Testing Accuracy: 0.9718\n",
      "\n"
     ]
    },
    {
     "name": "stdout",
     "output_type": "stream",
     "text": [
      "Epoch 150, Loss 0.023\n",
      "Training Accuracy: 0.9732, Testing Accuracy: 0.9728\n",
      "\n"
     ]
    },
    {
     "name": "stdout",
     "output_type": "stream",
     "text": [
      "Epoch 160, Loss 0.0224\n",
      "Training Accuracy: 0.9740, Testing Accuracy: 0.9728\n",
      "\n"
     ]
    },
    {
     "name": "stdout",
     "output_type": "stream",
     "text": [
      "Epoch 170, Loss 0.0219\n",
      "Training Accuracy: 0.9755, Testing Accuracy: 0.9718\n",
      "\n"
     ]
    },
    {
     "name": "stdout",
     "output_type": "stream",
     "text": [
      "Epoch 180, Loss 0.0214\n",
      "Training Accuracy: 0.9762, Testing Accuracy: 0.9723\n",
      "\n"
     ]
    },
    {
     "name": "stdout",
     "output_type": "stream",
     "text": [
      "Epoch 190, Loss 0.0209\n",
      "Training Accuracy: 0.9766, Testing Accuracy: 0.9723\n",
      "\n"
     ]
    },
    {
     "name": "stdout",
     "output_type": "stream",
     "text": [
      "Epoch 200, Loss 0.0204\n",
      "Training Accuracy: 0.9775, Testing Accuracy: 0.9723\n",
      "\n"
     ]
    },
    {
     "name": "stdout",
     "output_type": "stream",
     "text": [
      "Epoch 210, Loss 0.02\n",
      "Training Accuracy: 0.9781, Testing Accuracy: 0.9728\n",
      "\n"
     ]
    },
    {
     "name": "stdout",
     "output_type": "stream",
     "text": [
      "Epoch 220, Loss 0.0196\n",
      "Training Accuracy: 0.9784, Testing Accuracy: 0.9733\n",
      "\n"
     ]
    },
    {
     "name": "stdout",
     "output_type": "stream",
     "text": [
      "Epoch 230, Loss 0.0192\n",
      "Training Accuracy: 0.9790, Testing Accuracy: 0.9733\n",
      "\n"
     ]
    },
    {
     "name": "stdout",
     "output_type": "stream",
     "text": [
      "Epoch 240, Loss 0.0188\n",
      "Training Accuracy: 0.9794, Testing Accuracy: 0.9733\n",
      "\n"
     ]
    },
    {
     "data": {
      "text/plain": [
       "0.017050152021441233"
      ]
     },
     "execution_count": 22,
     "metadata": {},
     "output_type": "execute_result"
    }
   ],
   "source": [
    "nn_learner.train_loop(dl)"
   ]
  },
  {
   "cell_type": "code",
   "execution_count": 23,
   "id": "e0163366",
   "metadata": {
    "execution": {
     "iopub.execute_input": "2021-11-12T00:23:41.552043Z",
     "iopub.status.busy": "2021-11-12T00:23:41.551503Z",
     "iopub.status.idle": "2021-11-12T00:23:55.011434Z",
     "shell.execute_reply": "2021-11-12T00:23:55.012202Z"
    },
    "papermill": {
     "duration": 13.504368,
     "end_time": "2021-11-12T00:23:55.012351",
     "exception": false,
     "start_time": "2021-11-12T00:23:41.507983",
     "status": "completed"
    },
    "tags": []
   },
   "outputs": [
    {
     "name": "stdout",
     "output_type": "stream",
     "text": [
      "Epoch 0, Loss 0.247\n",
      "Training Accuracy: 0.6557, Testing Accuracy: 0.6487\n",
      "\n"
     ]
    },
    {
     "name": "stdout",
     "output_type": "stream",
     "text": [
      "Epoch 10, Loss 0.1071\n",
      "Training Accuracy: 0.9030, Testing Accuracy: 0.9062\n",
      "\n"
     ]
    },
    {
     "name": "stdout",
     "output_type": "stream",
     "text": [
      "Epoch 20, Loss 0.0812\n",
      "Training Accuracy: 0.9264, Testing Accuracy: 0.9365\n",
      "\n"
     ]
    },
    {
     "name": "stdout",
     "output_type": "stream",
     "text": [
      "Epoch 30, Loss 0.0693\n",
      "Training Accuracy: 0.9365, Testing Accuracy: 0.9471\n",
      "\n"
     ]
    },
    {
     "name": "stdout",
     "output_type": "stream",
     "text": [
      "Epoch 40, Loss 0.0623\n",
      "Training Accuracy: 0.9426, Testing Accuracy: 0.9521\n",
      "\n"
     ]
    },
    {
     "name": "stdout",
     "output_type": "stream",
     "text": [
      "Epoch 50, Loss 0.0575\n",
      "Training Accuracy: 0.9452, Testing Accuracy: 0.9556\n",
      "\n"
     ]
    },
    {
     "name": "stdout",
     "output_type": "stream",
     "text": [
      "Epoch 60, Loss 0.0541\n",
      "Training Accuracy: 0.9474, Testing Accuracy: 0.9577\n",
      "\n"
     ]
    },
    {
     "name": "stdout",
     "output_type": "stream",
     "text": [
      "Epoch 70, Loss 0.0514\n",
      "Training Accuracy: 0.9488, Testing Accuracy: 0.9597\n",
      "\n"
     ]
    },
    {
     "name": "stdout",
     "output_type": "stream",
     "text": [
      "Epoch 80, Loss 0.0493\n",
      "Training Accuracy: 0.9503, Testing Accuracy: 0.9602\n",
      "\n"
     ]
    },
    {
     "name": "stdout",
     "output_type": "stream",
     "text": [
      "Epoch 90, Loss 0.0476\n",
      "Training Accuracy: 0.9524, Testing Accuracy: 0.9607\n",
      "\n"
     ]
    },
    {
     "name": "stdout",
     "output_type": "stream",
     "text": [
      "Epoch 100, Loss 0.0462\n",
      "Training Accuracy: 0.9535, Testing Accuracy: 0.9612\n",
      "\n"
     ]
    },
    {
     "name": "stdout",
     "output_type": "stream",
     "text": [
      "Epoch 110, Loss 0.0449\n",
      "Training Accuracy: 0.9541, Testing Accuracy: 0.9632\n",
      "\n"
     ]
    },
    {
     "name": "stdout",
     "output_type": "stream",
     "text": [
      "Epoch 120, Loss 0.0439\n",
      "Training Accuracy: 0.9553, Testing Accuracy: 0.9627\n",
      "\n"
     ]
    },
    {
     "name": "stdout",
     "output_type": "stream",
     "text": [
      "Epoch 130, Loss 0.0429\n",
      "Training Accuracy: 0.9556, Testing Accuracy: 0.9627\n",
      "\n"
     ]
    },
    {
     "name": "stdout",
     "output_type": "stream",
     "text": [
      "Epoch 140, Loss 0.0421\n",
      "Training Accuracy: 0.9566, Testing Accuracy: 0.9637\n",
      "\n"
     ]
    },
    {
     "name": "stdout",
     "output_type": "stream",
     "text": [
      "Epoch 150, Loss 0.0413\n",
      "Training Accuracy: 0.9568, Testing Accuracy: 0.9647\n",
      "\n"
     ]
    },
    {
     "name": "stdout",
     "output_type": "stream",
     "text": [
      "Epoch 160, Loss 0.0407\n",
      "Training Accuracy: 0.9573, Testing Accuracy: 0.9657\n",
      "\n"
     ]
    },
    {
     "name": "stdout",
     "output_type": "stream",
     "text": [
      "Epoch 170, Loss 0.04\n",
      "Training Accuracy: 0.9579, Testing Accuracy: 0.9652\n",
      "\n"
     ]
    },
    {
     "name": "stdout",
     "output_type": "stream",
     "text": [
      "Epoch 180, Loss 0.0395\n",
      "Training Accuracy: 0.9584, Testing Accuracy: 0.9652\n",
      "\n"
     ]
    },
    {
     "name": "stdout",
     "output_type": "stream",
     "text": [
      "Epoch 190, Loss 0.039\n",
      "Training Accuracy: 0.9589, Testing Accuracy: 0.9657\n",
      "\n"
     ]
    },
    {
     "name": "stdout",
     "output_type": "stream",
     "text": [
      "Epoch 200, Loss 0.0385\n",
      "Training Accuracy: 0.9590, Testing Accuracy: 0.9657\n",
      "\n"
     ]
    },
    {
     "name": "stdout",
     "output_type": "stream",
     "text": [
      "Epoch 210, Loss 0.038\n",
      "Training Accuracy: 0.9593, Testing Accuracy: 0.9662\n",
      "\n"
     ]
    },
    {
     "name": "stdout",
     "output_type": "stream",
     "text": [
      "Epoch 220, Loss 0.0376\n",
      "Training Accuracy: 0.9597, Testing Accuracy: 0.9667\n",
      "\n"
     ]
    },
    {
     "name": "stdout",
     "output_type": "stream",
     "text": [
      "Epoch 230, Loss 0.0372\n",
      "Training Accuracy: 0.9603, Testing Accuracy: 0.9667\n",
      "\n"
     ]
    },
    {
     "name": "stdout",
     "output_type": "stream",
     "text": [
      "Epoch 240, Loss 0.0369\n",
      "Training Accuracy: 0.9603, Testing Accuracy: 0.9672\n",
      "\n"
     ]
    },
    {
     "data": {
      "text/plain": [
       "0.016964954276337416"
      ]
     },
     "execution_count": 23,
     "metadata": {},
     "output_type": "execute_result"
    }
   ],
   "source": [
    "lr_learner.train_loop(dl)"
   ]
  },
  {
   "cell_type": "code",
   "execution_count": 24,
   "id": "ca410940",
   "metadata": {
    "execution": {
     "iopub.execute_input": "2021-11-12T00:23:55.103980Z",
     "iopub.status.busy": "2021-11-12T00:23:55.103420Z",
     "iopub.status.idle": "2021-11-12T00:23:55.331901Z",
     "shell.execute_reply": "2021-11-12T00:23:55.331403Z"
    },
    "papermill": {
     "duration": 0.278333,
     "end_time": "2021-11-12T00:23:55.332036",
     "exception": false,
     "start_time": "2021-11-12T00:23:55.053703",
     "status": "completed"
    },
    "tags": []
   },
   "outputs": [
    {
     "data": {
      "text/plain": [
       "<matplotlib.legend.Legend at 0x7f73dcca5780>"
      ]
     },
     "execution_count": 24,
     "metadata": {},
     "output_type": "execute_result"
    },
    {
     "data": {
      "image/png": "[encoded data removed]",
      "text/plain": [
       "<Figure size 1080x720 with 1 Axes>"
      ]
     },
     "metadata": {
      "needs_background": "light"
     },
     "output_type": "display_data"
    }
   ],
   "source": [
    "#comparing the results of NN and LR\n",
    "plt.figure(figsize=(15,10))\n",
    "\n",
    "# Neural Network plots\n",
    "plt.plot(acc_nn.accuracies, 'r-', label = \"Training Accuracies - NN\")\n",
    "plt.plot(acc_nn.test_accuracies, 'g-', label = \"Testing Accuracies - NN\")\n",
    "\n",
    "# Logistic Regression plots\n",
    "plt.plot(acc_lr.accuracies, 'k-', label = \"Training Accuracies - LR\")\n",
    "plt.plot(acc_lr.test_accuracies, 'b-', label = \"Testing Accuracies - LR\")\n",
    "plt.legend()"
   ]
  },
  {
   "cell_type": "markdown",
   "id": "80dfb35c",
   "metadata": {
    "papermill": {
     "duration": 0.041657,
     "end_time": "2021-11-12T00:23:55.415914",
     "exception": false,
     "start_time": "2021-11-12T00:23:55.374257",
     "status": "completed"
    },
    "tags": []
   },
   "source": [
    "#### Plotting the outputs of this layer of the NN.\n"
   ]
  },
  {
   "cell_type": "code",
   "execution_count": 25,
   "id": "45eb2ff5",
   "metadata": {
    "execution": {
     "iopub.execute_input": "2021-11-12T00:23:55.503834Z",
     "iopub.status.busy": "2021-11-12T00:23:55.503285Z",
     "iopub.status.idle": "2021-11-12T00:23:55.522896Z",
     "shell.execute_reply": "2021-11-12T00:23:55.523338Z"
    },
    "papermill": {
     "duration": 0.065634,
     "end_time": "2021-11-12T00:23:55.523477",
     "exception": false,
     "start_time": "2021-11-12T00:23:55.457843",
     "status": "completed"
    },
    "tags": []
   },
   "outputs": [],
   "source": [
    "new_model = Model(layers[:-2])\n",
    "testing_plot = new_model(testing_data_x)"
   ]
  },
  {
   "cell_type": "code",
   "execution_count": 26,
   "id": "4c0a5485",
   "metadata": {
    "execution": {
     "iopub.execute_input": "2021-11-12T00:23:55.615141Z",
     "iopub.status.busy": "2021-11-12T00:23:55.612971Z",
     "iopub.status.idle": "2021-11-12T00:23:55.849075Z",
     "shell.execute_reply": "2021-11-12T00:23:55.849473Z"
    },
    "papermill": {
     "duration": 0.284036,
     "end_time": "2021-11-12T00:23:55.849617",
     "exception": false,
     "start_time": "2021-11-12T00:23:55.565581",
     "status": "completed"
    },
    "tags": []
   },
   "outputs": [
    {
     "data": {
      "text/plain": [
       "Text(0.5, 1.0, 'Outputs')"
      ]
     },
     "execution_count": 26,
     "metadata": {},
     "output_type": "execute_result"
    },
    {
     "data": {
      "image/png": "[encoded data removed]",
      "text/plain": [
       "<Figure size 576x504 with 1 Axes>"
      ]
     },
     "metadata": {
      "needs_background": "light"
     },
     "output_type": "display_data"
    }
   ],
   "source": [
    "# Plotting the scatter plot of points and color coding by class\n",
    "plt.figure(figsize=(8,7))\n",
    "plt.scatter(testing_plot[:,0], testing_plot[:,1], alpha = 0.1, c = y_test.ravel());\n",
    "plt.title('Outputs')"
   ]
  },
  {
   "cell_type": "markdown",
   "id": "a74fcf8f",
   "metadata": {
    "papermill": {
     "duration": 0.045334,
     "end_time": "2021-11-12T00:23:55.940291",
     "exception": false,
     "start_time": "2021-11-12T00:23:55.894957",
     "status": "completed"
    },
    "tags": []
   },
   "source": [
    "Probability contours"
   ]
  },
  {
   "cell_type": "code",
   "execution_count": 27,
   "id": "d0afc8e3",
   "metadata": {
    "execution": {
     "iopub.execute_input": "2021-11-12T00:23:56.035785Z",
     "iopub.status.busy": "2021-11-12T00:23:56.035154Z",
     "iopub.status.idle": "2021-11-12T00:23:56.046883Z",
     "shell.execute_reply": "2021-11-12T00:23:56.047571Z"
    },
    "papermill": {
     "duration": 0.062114,
     "end_time": "2021-11-12T00:23:56.047709",
     "exception": false,
     "start_time": "2021-11-12T00:23:55.985595",
     "status": "completed"
    },
    "tags": []
   },
   "outputs": [],
   "source": [
    "model_prob = Model(layers[-2:]) "
   ]
  },
  {
   "cell_type": "code",
   "execution_count": 28,
   "id": "9b96e238",
   "metadata": {
    "execution": {
     "iopub.execute_input": "2021-11-12T00:23:56.145229Z",
     "iopub.status.busy": "2021-11-12T00:23:56.143361Z",
     "iopub.status.idle": "2021-11-12T00:23:56.157809Z",
     "shell.execute_reply": "2021-11-12T00:23:56.158191Z"
    },
    "papermill": {
     "duration": 0.06522,
     "end_time": "2021-11-12T00:23:56.158326",
     "exception": false,
     "start_time": "2021-11-12T00:23:56.093106",
     "status": "completed"
    },
    "tags": []
   },
   "outputs": [],
   "source": [
    "#creating the x and y ranges according to the above generated plot.\n",
    "x_range = np.linspace(-4, 1, 100) \n",
    "y_range = np.linspace(-6, 6, 100) \n",
    "x_grid, y_grid = np.meshgrid(x_range, y_range) # x_grid and y_grig are of size 100 X 100\n",
    "\n",
    "# converting x_grid and y_grid to continuous arrays\n",
    "x_gridflat = np.ravel(x_grid)\n",
    "y_gridflat = np.ravel(y_grid)\n",
    "\n",
    "# The last layer of the current model takes two columns as input. Hence transpose of np.vstack() is required.\n",
    "X = np.vstack((x_gridflat, y_gridflat)).T\n",
    "\n",
    "prob_contour = model_prob(X).reshape(100,100) "
   ]
  },
  {
   "cell_type": "code",
   "execution_count": 29,
   "id": "da72499a",
   "metadata": {
    "execution": {
     "iopub.execute_input": "2021-11-12T00:23:56.280604Z",
     "iopub.status.busy": "2021-11-12T00:23:56.280092Z",
     "iopub.status.idle": "2021-11-12T00:23:56.521579Z",
     "shell.execute_reply": "2021-11-12T00:23:56.521086Z"
    },
    "papermill": {
     "duration": 0.318324,
     "end_time": "2021-11-12T00:23:56.521713",
     "exception": false,
     "start_time": "2021-11-12T00:23:56.203389",
     "status": "completed"
    },
    "tags": []
   },
   "outputs": [
    {
     "data": {
      "image/png": "[encoded data removed]",
      "text/plain": [
       "<Figure size 720x648 with 1 Axes>"
      ]
     },
     "metadata": {
      "needs_background": "light"
     },
     "output_type": "display_data"
    }
   ],
   "source": [
    "plt.figure(figsize=(10,9))\n",
    "plt.scatter(testing_plot[:,0], testing_plot[:,1], alpha = 0.1, c = y_test.ravel())\n",
    "contours = plt.contour(x_grid,y_grid,prob_contour)\n",
    "plt.title('Probability Contours')\n",
    "plt.clabel(contours, inline = True );"
   ]
  },
  {
   "cell_type": "code",
   "execution_count": null,
   "id": "e81b4ac7",
   "metadata": {
    "papermill": {
     "duration": 0.047101,
     "end_time": "2021-11-12T00:23:56.616759",
     "exception": false,
     "start_time": "2021-11-12T00:23:56.569658",
     "status": "completed"
    },
    "tags": []
   },
   "outputs": [],
   "source": []
  }
 ],
 "metadata": {
  "kernelspec": {
   "display_name": "Python 3",
   "language": "python",
   "name": "python3"
  },
  "language_info": {
   "codemirror_mode": {
    "name": "ipython",
    "version": 3
   },
   "file_extension": ".py",
   "mimetype": "text/x-python",
   "name": "python",
   "nbconvert_exporter": "python",
   "pygments_lexer": "ipython3",
   "version": "3.6.15"
  },
  "papermill": {
   "default_parameters": {},
   "duration": 95.451259,
   "end_time": "2021-11-12T00:23:57.072309",
   "environment_variables": {},
   "exception": null,
   "input_path": "2020-08-11-part2.ipynb",
   "output_path": "2020-08-11-part2.ipynb",
   "parameters": {},
   "start_time": "2021-11-12T00:22:21.621050",
   "version": "2.3.3"
  }
 },
 "nbformat": 4,
 "nbformat_minor": 5
}