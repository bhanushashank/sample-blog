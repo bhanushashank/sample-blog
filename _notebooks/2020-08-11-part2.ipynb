{
 "cells": [
  {
   "cell_type": "markdown",
   "id": "98380cd3",
   "metadata": {
    "papermill": {
     "duration": 0.029559,
     "end_time": "2021-10-27T00:21:02.429598",
     "exception": false,
     "start_time": "2021-10-27T00:21:02.400039",
     "status": "completed"
    },
    "tags": []
   },
   "source": [
    "# Distinguish Your Own Digits (DYOD)"
   ]
  },
  {
   "cell_type": "markdown",
   "id": "ef31240d",
   "metadata": {
    "papermill": {
     "duration": 0.023971,
     "end_time": "2021-10-27T00:21:02.478472",
     "exception": false,
     "start_time": "2021-10-27T00:21:02.454501",
     "status": "completed"
    },
    "tags": []
   },
   "source": [
    "You are going to write a classifier that distinguishes between the number 3 and number 8."
   ]
  },
  {
   "cell_type": "code",
   "execution_count": 1,
   "id": "b15c8646",
   "metadata": {
    "execution": {
     "iopub.execute_input": "2021-10-27T00:21:02.536948Z",
     "iopub.status.busy": "2021-10-27T00:21:02.536380Z",
     "iopub.status.idle": "2021-10-27T00:21:02.547254Z",
     "shell.execute_reply": "2021-10-27T00:21:02.546832Z"
    },
    "papermill": {
     "duration": 0.044881,
     "end_time": "2021-10-27T00:21:02.547383",
     "exception": false,
     "start_time": "2021-10-27T00:21:02.502502",
     "status": "completed"
    },
    "tags": []
   },
   "outputs": [],
   "source": [
    "%load_ext autoreload\n",
    "%autoreload 2"
   ]
  },
  {
   "cell_type": "code",
   "execution_count": 2,
   "id": "22ef38dc",
   "metadata": {
    "execution": {
     "iopub.execute_input": "2021-10-27T00:21:02.598852Z",
     "iopub.status.busy": "2021-10-27T00:21:02.598346Z",
     "iopub.status.idle": "2021-10-27T00:21:03.193466Z",
     "shell.execute_reply": "2021-10-27T00:21:03.192896Z"
    },
    "papermill": {
     "duration": 0.622112,
     "end_time": "2021-10-27T00:21:03.193616",
     "exception": false,
     "start_time": "2021-10-27T00:21:02.571504",
     "status": "completed"
    },
    "tags": []
   },
   "outputs": [],
   "source": [
    "%matplotlib inline\n",
    "import numpy as np\n",
    "import matplotlib.pyplot as plt\n",
    "import pandas as pd"
   ]
  },
  {
   "cell_type": "markdown",
   "id": "ba036198",
   "metadata": {
    "papermill": {
     "duration": 0.024244,
     "end_time": "2021-10-27T00:21:03.244319",
     "exception": false,
     "start_time": "2021-10-27T00:21:03.220075",
     "status": "completed"
    },
    "tags": []
   },
   "source": [
    "From the command line run `pip install mnist`. This is a library that will help you bring down the mnist dataset. If you run this from a notebook, you need to put  `!pip install mnist` in a cell by itself."
   ]
  },
  {
   "cell_type": "code",
   "execution_count": 3,
   "id": "bb6ad8a1",
   "metadata": {
    "execution": {
     "iopub.execute_input": "2021-10-27T00:21:03.297768Z",
     "iopub.status.busy": "2021-10-27T00:21:03.297261Z",
     "iopub.status.idle": "2021-10-27T00:21:05.026988Z",
     "shell.execute_reply": "2021-10-27T00:21:05.026452Z"
    },
    "papermill": {
     "duration": 1.758388,
     "end_time": "2021-10-27T00:21:05.027137",
     "exception": false,
     "start_time": "2021-10-27T00:21:03.268749",
     "status": "completed"
    },
    "tags": []
   },
   "outputs": [
    {
     "name": "stdout",
     "output_type": "stream",
     "text": [
      "Collecting mnist\r\n"
     ]
    },
    {
     "name": "stdout",
     "output_type": "stream",
     "text": [
      "  Downloading mnist-0.2.2-py2.py3-none-any.whl (3.5 kB)\r\n",
      "Requirement already satisfied: numpy in /opt/hostedtoolcache/Python/3.6.15/x64/lib/python3.6/site-packages (from mnist) (1.19.5)\r\n"
     ]
    },
    {
     "name": "stdout",
     "output_type": "stream",
     "text": [
      "Installing collected packages: mnist\r\n"
     ]
    },
    {
     "name": "stdout",
     "output_type": "stream",
     "text": [
      "Successfully installed mnist-0.2.2\r\n"
     ]
    },
    {
     "name": "stdout",
     "output_type": "stream",
     "text": [
      "\u001b[33mWARNING: You are using pip version 21.3; however, version 21.3.1 is available.\r\n",
      "You should consider upgrading via the '/opt/hostedtoolcache/Python/3.6.15/x64/bin/python -m pip install --upgrade pip' command.\u001b[0m\r\n"
     ]
    }
   ],
   "source": [
    "!pip install mnist"
   ]
  },
  {
   "cell_type": "markdown",
   "id": "69df9c9a",
   "metadata": {
    "papermill": {
     "duration": 0.025512,
     "end_time": "2021-10-27T00:21:05.079191",
     "exception": false,
     "start_time": "2021-10-27T00:21:05.053679",
     "status": "completed"
    },
    "tags": []
   },
   "source": [
    "## Preparing the Data"
   ]
  },
  {
   "cell_type": "code",
   "execution_count": 4,
   "id": "7f69d806",
   "metadata": {
    "execution": {
     "iopub.execute_input": "2021-10-27T00:21:05.151000Z",
     "iopub.status.busy": "2021-10-27T00:21:05.149886Z",
     "iopub.status.idle": "2021-10-27T00:21:05.153317Z",
     "shell.execute_reply": "2021-10-27T00:21:05.152901Z"
    },
    "papermill": {
     "duration": 0.048771,
     "end_time": "2021-10-27T00:21:05.153436",
     "exception": false,
     "start_time": "2021-10-27T00:21:05.104665",
     "status": "completed"
    },
    "tags": []
   },
   "outputs": [],
   "source": [
    "import mnist"
   ]
  },
  {
   "cell_type": "code",
   "execution_count": 5,
   "id": "a411e44f",
   "metadata": {
    "execution": {
     "iopub.execute_input": "2021-10-27T00:21:05.208392Z",
     "iopub.status.busy": "2021-10-27T00:21:05.207874Z",
     "iopub.status.idle": "2021-10-27T00:21:05.833406Z",
     "shell.execute_reply": "2021-10-27T00:21:05.832841Z"
    },
    "papermill": {
     "duration": 0.654422,
     "end_time": "2021-10-27T00:21:05.833542",
     "exception": false,
     "start_time": "2021-10-27T00:21:05.179120",
     "status": "completed"
    },
    "tags": []
   },
   "outputs": [],
   "source": [
    "train_images = mnist.train_images()\n",
    "train_labels = mnist.train_labels()"
   ]
  },
  {
   "cell_type": "code",
   "execution_count": 6,
   "id": "dceab3a5",
   "metadata": {
    "execution": {
     "iopub.execute_input": "2021-10-27T00:21:05.893708Z",
     "iopub.status.busy": "2021-10-27T00:21:05.893196Z",
     "iopub.status.idle": "2021-10-27T00:21:05.904905Z",
     "shell.execute_reply": "2021-10-27T00:21:05.904457Z"
    },
    "papermill": {
     "duration": 0.045735,
     "end_time": "2021-10-27T00:21:05.905022",
     "exception": false,
     "start_time": "2021-10-27T00:21:05.859287",
     "status": "completed"
    },
    "tags": []
   },
   "outputs": [
    {
     "data": {
      "text/plain": [
       "((60000, 28, 28), (60000,))"
      ]
     },
     "execution_count": 6,
     "metadata": {},
     "output_type": "execute_result"
    }
   ],
   "source": [
    "train_images.shape, train_labels.shape"
   ]
  },
  {
   "cell_type": "code",
   "execution_count": 7,
   "id": "f50dc2bb",
   "metadata": {
    "execution": {
     "iopub.execute_input": "2021-10-27T00:21:05.959540Z",
     "iopub.status.busy": "2021-10-27T00:21:05.959037Z",
     "iopub.status.idle": "2021-10-27T00:21:06.156180Z",
     "shell.execute_reply": "2021-10-27T00:21:06.155638Z"
    },
    "papermill": {
     "duration": 0.225563,
     "end_time": "2021-10-27T00:21:06.156326",
     "exception": false,
     "start_time": "2021-10-27T00:21:05.930763",
     "status": "completed"
    },
    "tags": []
   },
   "outputs": [],
   "source": [
    "test_images = mnist.test_images()\n",
    "test_labels = mnist.test_labels()"
   ]
  },
  {
   "cell_type": "code",
   "execution_count": 8,
   "id": "fc38cf1b",
   "metadata": {
    "execution": {
     "iopub.execute_input": "2021-10-27T00:21:06.225154Z",
     "iopub.status.busy": "2021-10-27T00:21:06.221238Z",
     "iopub.status.idle": "2021-10-27T00:21:06.228145Z",
     "shell.execute_reply": "2021-10-27T00:21:06.227715Z"
    },
    "papermill": {
     "duration": 0.045574,
     "end_time": "2021-10-27T00:21:06.228257",
     "exception": false,
     "start_time": "2021-10-27T00:21:06.182683",
     "status": "completed"
    },
    "tags": []
   },
   "outputs": [
    {
     "data": {
      "text/plain": [
       "((10000, 28, 28), (10000,))"
      ]
     },
     "execution_count": 8,
     "metadata": {},
     "output_type": "execute_result"
    }
   ],
   "source": [
    "test_images.shape, test_labels.shape"
   ]
  },
  {
   "cell_type": "code",
   "execution_count": 9,
   "id": "f9ed8fe0",
   "metadata": {
    "execution": {
     "iopub.execute_input": "2021-10-27T00:21:06.310776Z",
     "iopub.status.busy": "2021-10-27T00:21:06.293190Z",
     "iopub.status.idle": "2021-10-27T00:21:06.426313Z",
     "shell.execute_reply": "2021-10-27T00:21:06.426749Z"
    },
    "papermill": {
     "duration": 0.172317,
     "end_time": "2021-10-27T00:21:06.426908",
     "exception": false,
     "start_time": "2021-10-27T00:21:06.254591",
     "status": "completed"
    },
    "tags": []
   },
   "outputs": [
    {
     "name": "stdout",
     "output_type": "stream",
     "text": [
      "2\n"
     ]
    },
    {
     "data": {
      "text/plain": [
       "<matplotlib.image.AxesImage at 0x7efed24c0908>"
      ]
     },
     "execution_count": 9,
     "metadata": {},
     "output_type": "execute_result"
    },
    {
     "data": {
      "image/png": "[encoded data removed]",
      "text/plain": [
       "<Figure size 432x288 with 1 Axes>"
      ]
     },
     "metadata": {
      "needs_background": "light"
     },
     "output_type": "display_data"
    }
   ],
   "source": [
    "image_index = 7776 # You may select anything up to 60,000\n",
    "print(train_labels[image_index]) \n",
    "plt.imshow(train_images[image_index], cmap='Greys')"
   ]
  },
  {
   "cell_type": "markdown",
   "id": "a8d2388d",
   "metadata": {
    "papermill": {
     "duration": 0.026927,
     "end_time": "2021-10-27T00:21:06.481464",
     "exception": false,
     "start_time": "2021-10-27T00:21:06.454537",
     "status": "completed"
    },
    "tags": []
   },
   "source": [
    "## Filter data to get 3 and 8 out"
   ]
  },
  {
   "cell_type": "code",
   "execution_count": 10,
   "id": "776f7fc7",
   "metadata": {
    "execution": {
     "iopub.execute_input": "2021-10-27T00:21:06.554758Z",
     "iopub.status.busy": "2021-10-27T00:21:06.554233Z",
     "iopub.status.idle": "2021-10-27T00:21:06.564990Z",
     "shell.execute_reply": "2021-10-27T00:21:06.564552Z"
    },
    "papermill": {
     "duration": 0.05683,
     "end_time": "2021-10-27T00:21:06.565101",
     "exception": false,
     "start_time": "2021-10-27T00:21:06.508271",
     "status": "completed"
    },
    "tags": []
   },
   "outputs": [],
   "source": [
    "train_filter = np.where((train_labels == 3 ) | (train_labels == 8))\n",
    "test_filter = np.where((test_labels == 3) | (test_labels == 8))\n",
    "X_train, y_train = train_images[train_filter], train_labels[train_filter]\n",
    "X_test, y_test = test_images[test_filter], test_labels[test_filter]"
   ]
  },
  {
   "cell_type": "markdown",
   "id": "948f0b7e",
   "metadata": {
    "papermill": {
     "duration": 0.026826,
     "end_time": "2021-10-27T00:21:06.619028",
     "exception": false,
     "start_time": "2021-10-27T00:21:06.592202",
     "status": "completed"
    },
    "tags": []
   },
   "source": [
    "We normalize the pizel values in the 0 to 1 range"
   ]
  },
  {
   "cell_type": "code",
   "execution_count": 11,
   "id": "ee4c2166",
   "metadata": {
    "execution": {
     "iopub.execute_input": "2021-10-27T00:21:06.697373Z",
     "iopub.status.busy": "2021-10-27T00:21:06.689269Z",
     "iopub.status.idle": "2021-10-27T00:21:06.729737Z",
     "shell.execute_reply": "2021-10-27T00:21:06.729222Z"
    },
    "papermill": {
     "duration": 0.083672,
     "end_time": "2021-10-27T00:21:06.729880",
     "exception": false,
     "start_time": "2021-10-27T00:21:06.646208",
     "status": "completed"
    },
    "tags": []
   },
   "outputs": [],
   "source": [
    "X_train = X_train/255.\n",
    "X_test = X_test/255."
   ]
  },
  {
   "cell_type": "markdown",
   "id": "ddcf4fab",
   "metadata": {
    "papermill": {
     "duration": 0.02717,
     "end_time": "2021-10-27T00:21:06.785359",
     "exception": false,
     "start_time": "2021-10-27T00:21:06.758189",
     "status": "completed"
    },
    "tags": []
   },
   "source": [
    "And setup the labels as 1 (when the digit is 3) and 0 (when the digit is 8)"
   ]
  },
  {
   "cell_type": "code",
   "execution_count": 12,
   "id": "7dc908f2",
   "metadata": {
    "execution": {
     "iopub.execute_input": "2021-10-27T00:21:06.849496Z",
     "iopub.status.busy": "2021-10-27T00:21:06.848987Z",
     "iopub.status.idle": "2021-10-27T00:21:06.857263Z",
     "shell.execute_reply": "2021-10-27T00:21:06.856828Z"
    },
    "papermill": {
     "duration": 0.04527,
     "end_time": "2021-10-27T00:21:06.857376",
     "exception": false,
     "start_time": "2021-10-27T00:21:06.812106",
     "status": "completed"
    },
    "tags": []
   },
   "outputs": [],
   "source": [
    "y_train = 1*(y_train==3)\n",
    "y_test = 1*(y_test==3)"
   ]
  },
  {
   "cell_type": "code",
   "execution_count": 13,
   "id": "01e4e969",
   "metadata": {
    "execution": {
     "iopub.execute_input": "2021-10-27T00:21:06.921172Z",
     "iopub.status.busy": "2021-10-27T00:21:06.914179Z",
     "iopub.status.idle": "2021-10-27T00:21:06.929446Z",
     "shell.execute_reply": "2021-10-27T00:21:06.929041Z"
    },
    "papermill": {
     "duration": 0.04523,
     "end_time": "2021-10-27T00:21:06.929563",
     "exception": false,
     "start_time": "2021-10-27T00:21:06.884333",
     "status": "completed"
    },
    "tags": []
   },
   "outputs": [
    {
     "data": {
      "text/plain": [
       "((11982, 28, 28), (1984, 28, 28))"
      ]
     },
     "execution_count": 13,
     "metadata": {},
     "output_type": "execute_result"
    }
   ],
   "source": [
    "X_train.shape, X_test.shape"
   ]
  },
  {
   "cell_type": "markdown",
   "id": "5ccf3f85",
   "metadata": {
    "papermill": {
     "duration": 0.02688,
     "end_time": "2021-10-27T00:21:06.983533",
     "exception": false,
     "start_time": "2021-10-27T00:21:06.956653",
     "status": "completed"
    },
    "tags": []
   },
   "source": [
    "We reshape the data to flatten the image pixels into a set of features or co-variates:"
   ]
  },
  {
   "cell_type": "code",
   "execution_count": 14,
   "id": "5286a4a3",
   "metadata": {
    "execution": {
     "iopub.execute_input": "2021-10-27T00:21:07.041830Z",
     "iopub.status.busy": "2021-10-27T00:21:07.041330Z",
     "iopub.status.idle": "2021-10-27T00:21:07.054898Z",
     "shell.execute_reply": "2021-10-27T00:21:07.054491Z"
    },
    "papermill": {
     "duration": 0.044294,
     "end_time": "2021-10-27T00:21:07.055012",
     "exception": false,
     "start_time": "2021-10-27T00:21:07.010718",
     "status": "completed"
    },
    "tags": []
   },
   "outputs": [
    {
     "data": {
      "text/plain": [
       "((11982, 784), (1984, 784))"
      ]
     },
     "execution_count": 14,
     "metadata": {},
     "output_type": "execute_result"
    }
   ],
   "source": [
    "X_train = X_train.reshape(X_train.shape[0], -1)\n",
    "X_test = X_test.reshape(X_test.shape[0], -1)\n",
    "X_train.shape, X_test.shape"
   ]
  },
  {
   "cell_type": "code",
   "execution_count": 15,
   "id": "73c5f88a",
   "metadata": {
    "execution": {
     "iopub.execute_input": "2021-10-27T00:21:07.113903Z",
     "iopub.status.busy": "2021-10-27T00:21:07.113385Z",
     "iopub.status.idle": "2021-10-27T00:21:07.131438Z",
     "shell.execute_reply": "2021-10-27T00:21:07.131008Z"
    },
    "papermill": {
     "duration": 0.049289,
     "end_time": "2021-10-27T00:21:07.131552",
     "exception": false,
     "start_time": "2021-10-27T00:21:07.082263",
     "status": "completed"
    },
    "tags": []
   },
   "outputs": [],
   "source": [
    "#Impoting functions from 'Kudzu'\n",
    "from kudzu.model import Model\n",
    "from kudzu.train import Learner\n",
    "from kudzu.optim import GD\n",
    "from kudzu.data import Data, Sampler,Dataloader\n",
    "\n",
    "from kudzu.callbacks import AccCallback\n",
    "from kudzu.callbacks import ClfCallback\n",
    "\n",
    "from kudzu.loss import MSE\n",
    "\n",
    "from kudzu.layer import Sigmoid,Relu\n",
    "from kudzu.layer import Affine"
   ]
  },
  {
   "cell_type": "markdown",
   "id": "bc01172a",
   "metadata": {
    "papermill": {
     "duration": 0.027398,
     "end_time": "2021-10-27T00:21:07.186387",
     "exception": false,
     "start_time": "2021-10-27T00:21:07.158989",
     "status": "completed"
    },
    "tags": []
   },
   "source": [
    "### Let us create a `Config` class, to store important parameters. \n",
    "This class essentially plays the role of a dictionary."
   ]
  },
  {
   "cell_type": "code",
   "execution_count": 16,
   "id": "978281aa",
   "metadata": {
    "execution": {
     "iopub.execute_input": "2021-10-27T00:21:07.260911Z",
     "iopub.status.busy": "2021-10-27T00:21:07.260291Z",
     "iopub.status.idle": "2021-10-27T00:21:07.262649Z",
     "shell.execute_reply": "2021-10-27T00:21:07.262212Z"
    },
    "papermill": {
     "duration": 0.049105,
     "end_time": "2021-10-27T00:21:07.262769",
     "exception": false,
     "start_time": "2021-10-27T00:21:07.213664",
     "status": "completed"
    },
    "tags": []
   },
   "outputs": [],
   "source": [
    "class Config:\n",
    "    pass\n",
    "config = Config()\n",
    "config.lr = 0.001\n",
    "config.num_epochs = 250\n",
    "config.bs = 50"
   ]
  },
  {
   "cell_type": "markdown",
   "id": "1385fa59",
   "metadata": {
    "papermill": {
     "duration": 0.027325,
     "end_time": "2021-10-27T00:21:07.317873",
     "exception": false,
     "start_time": "2021-10-27T00:21:07.290548",
     "status": "completed"
    },
    "tags": []
   },
   "source": [
    "### Running Models with the Training data\n",
    "Details about the network layers:\n",
    "- A first affine layer has 784 inputs and does 100 affine transforms. These are followed by a Relu\n",
    "- A second affine layer has 100 inputs from the 100 activations of the past layer, and does 100 affine transforms. These are followed by a Relu\n",
    "- A third affine layer has 100 activations and does 2 affine transformations to create an embedding for visualization. There is no non-linearity here.\n",
    "- A final \"logistic regression\" which has an affine transform from 2 inputs to 1 output, which is squeezed through a sigmoid.\n"
   ]
  },
  {
   "cell_type": "code",
   "execution_count": 17,
   "id": "2b9c66db",
   "metadata": {
    "execution": {
     "iopub.execute_input": "2021-10-27T00:21:07.385924Z",
     "iopub.status.busy": "2021-10-27T00:21:07.385390Z",
     "iopub.status.idle": "2021-10-27T00:21:07.393191Z",
     "shell.execute_reply": "2021-10-27T00:21:07.393594Z"
    },
    "papermill": {
     "duration": 0.04862,
     "end_time": "2021-10-27T00:21:07.393726",
     "exception": false,
     "start_time": "2021-10-27T00:21:07.345106",
     "status": "completed"
    },
    "tags": []
   },
   "outputs": [],
   "source": [
    "data = Data(X_train, y_train.reshape(-1,1))\n",
    "sampler = Sampler(data, config.bs, shuffle=True)\n",
    "\n",
    "dl = Dataloader(data, sampler)\n",
    "\n",
    "opt = GD(config.lr)\n",
    "loss = MSE()"
   ]
  },
  {
   "cell_type": "code",
   "execution_count": 18,
   "id": "b275e4c2",
   "metadata": {
    "execution": {
     "iopub.execute_input": "2021-10-27T00:21:07.452526Z",
     "iopub.status.busy": "2021-10-27T00:21:07.451988Z",
     "iopub.status.idle": "2021-10-27T00:21:07.464162Z",
     "shell.execute_reply": "2021-10-27T00:21:07.464569Z"
    },
    "papermill": {
     "duration": 0.043385,
     "end_time": "2021-10-27T00:21:07.464710",
     "exception": false,
     "start_time": "2021-10-27T00:21:07.421325",
     "status": "completed"
    },
    "tags": []
   },
   "outputs": [],
   "source": [
    "training_data_x = X_train\n",
    "testing_data_x = X_test\n",
    "training_data_y = y_train.reshape(-1,1)\n",
    "testing_data_y = y_test.reshape(-1,1)"
   ]
  },
  {
   "cell_type": "code",
   "execution_count": 19,
   "id": "76951160",
   "metadata": {
    "execution": {
     "iopub.execute_input": "2021-10-27T00:21:07.540167Z",
     "iopub.status.busy": "2021-10-27T00:21:07.536745Z",
     "iopub.status.idle": "2021-10-27T00:21:07.542921Z",
     "shell.execute_reply": "2021-10-27T00:21:07.542513Z"
    },
    "papermill": {
     "duration": 0.050985,
     "end_time": "2021-10-27T00:21:07.543039",
     "exception": false,
     "start_time": "2021-10-27T00:21:07.492054",
     "status": "completed"
    },
    "tags": []
   },
   "outputs": [
    {
     "name": "stdout",
     "output_type": "stream",
     "text": [
      "xavier\n",
      "xavier\n",
      "xavier\n",
      "xavier\n",
      "xavier\n"
     ]
    }
   ],
   "source": [
    "layers = [Affine(\"first\", 784, 100), Relu(\"first\"), Affine(\"second\", 100, 100), Relu(\"second\"), Affine(\"third\", 100, 2), Affine(\"last\", 2, 1), Sigmoid(\"last\")]\n",
    "model_nn = Model(layers)\n",
    "model_lr = Model([Affine(\"logits\", 784, 1), Sigmoid(\"sigmoid\")])"
   ]
  },
  {
   "cell_type": "code",
   "execution_count": 20,
   "id": "6eede77a",
   "metadata": {
    "execution": {
     "iopub.execute_input": "2021-10-27T00:21:07.603148Z",
     "iopub.status.busy": "2021-10-27T00:21:07.602634Z",
     "iopub.status.idle": "2021-10-27T00:21:07.615395Z",
     "shell.execute_reply": "2021-10-27T00:21:07.614965Z"
    },
    "papermill": {
     "duration": 0.04432,
     "end_time": "2021-10-27T00:21:07.615513",
     "exception": false,
     "start_time": "2021-10-27T00:21:07.571193",
     "status": "completed"
    },
    "tags": []
   },
   "outputs": [],
   "source": [
    "nn_learner = Learner(loss, model_nn, opt, config.num_epochs)\n",
    "acc_nn = ClfCallback(nn_learner, config.bs, training_data_x , testing_data_x, training_data_y, testing_data_y)\n",
    "nn_learner.set_callbacks([acc_nn])"
   ]
  },
  {
   "cell_type": "code",
   "execution_count": 21,
   "id": "877b6cc7",
   "metadata": {
    "execution": {
     "iopub.execute_input": "2021-10-27T00:21:07.682393Z",
     "iopub.status.busy": "2021-10-27T00:21:07.681867Z",
     "iopub.status.idle": "2021-10-27T00:21:07.690065Z",
     "shell.execute_reply": "2021-10-27T00:21:07.689657Z"
    },
    "papermill": {
     "duration": 0.047142,
     "end_time": "2021-10-27T00:21:07.690181",
     "exception": false,
     "start_time": "2021-10-27T00:21:07.643039",
     "status": "completed"
    },
    "tags": []
   },
   "outputs": [],
   "source": [
    "lr_learner = Learner(loss, model_lr, opt, config.num_epochs)\n",
    "acc_lr = ClfCallback(lr_learner, config.bs, training_data_x , testing_data_x, training_data_y, testing_data_y)\n",
    "lr_learner.set_callbacks([acc_lr])"
   ]
  },
  {
   "cell_type": "code",
   "execution_count": 22,
   "id": "d9b133c3",
   "metadata": {
    "execution": {
     "iopub.execute_input": "2021-10-27T00:21:07.751242Z",
     "iopub.status.busy": "2021-10-27T00:21:07.750734Z",
     "iopub.status.idle": "2021-10-27T00:22:25.399316Z",
     "shell.execute_reply": "2021-10-27T00:22:25.399817Z"
    },
    "papermill": {
     "duration": 77.682037,
     "end_time": "2021-10-27T00:22:25.399965",
     "exception": false,
     "start_time": "2021-10-27T00:21:07.717928",
     "status": "completed"
    },
    "tags": []
   },
   "outputs": [
    {
     "name": "stdout",
     "output_type": "stream",
     "text": [
      "Epoch 0, Loss 0.2501\n",
      "Training Accuracy: 0.5330, Testing Accuracy: 0.5454\n",
      "\n"
     ]
    },
    {
     "name": "stdout",
     "output_type": "stream",
     "text": [
      "Epoch 10, Loss 0.1358\n",
      "Training Accuracy: 0.9038, Testing Accuracy: 0.9133\n",
      "\n"
     ]
    },
    {
     "name": "stdout",
     "output_type": "stream",
     "text": [
      "Epoch 20, Loss 0.0695\n",
      "Training Accuracy: 0.9329, Testing Accuracy: 0.9446\n",
      "\n"
     ]
    },
    {
     "name": "stdout",
     "output_type": "stream",
     "text": [
      "Epoch 30, Loss 0.0498\n",
      "Training Accuracy: 0.9464, Testing Accuracy: 0.9577\n",
      "\n"
     ]
    },
    {
     "name": "stdout",
     "output_type": "stream",
     "text": [
      "Epoch 40, Loss 0.0413\n",
      "Training Accuracy: 0.9535, Testing Accuracy: 0.9642\n",
      "\n"
     ]
    },
    {
     "name": "stdout",
     "output_type": "stream",
     "text": [
      "Epoch 50, Loss 0.0367\n",
      "Training Accuracy: 0.9584, Testing Accuracy: 0.9682\n",
      "\n"
     ]
    },
    {
     "name": "stdout",
     "output_type": "stream",
     "text": [
      "Epoch 60, Loss 0.0338\n",
      "Training Accuracy: 0.9608, Testing Accuracy: 0.9693\n",
      "\n"
     ]
    },
    {
     "name": "stdout",
     "output_type": "stream",
     "text": [
      "Epoch 70, Loss 0.0317\n",
      "Training Accuracy: 0.9623, Testing Accuracy: 0.9698\n",
      "\n"
     ]
    },
    {
     "name": "stdout",
     "output_type": "stream",
     "text": [
      "Epoch 80, Loss 0.0301\n",
      "Training Accuracy: 0.9643, Testing Accuracy: 0.9718\n",
      "\n"
     ]
    },
    {
     "name": "stdout",
     "output_type": "stream",
     "text": [
      "Epoch 90, Loss 0.0287\n",
      "Training Accuracy: 0.9658, Testing Accuracy: 0.9713\n",
      "\n"
     ]
    },
    {
     "name": "stdout",
     "output_type": "stream",
     "text": [
      "Epoch 100, Loss 0.0277\n",
      "Training Accuracy: 0.9674, Testing Accuracy: 0.9718\n",
      "\n"
     ]
    },
    {
     "name": "stdout",
     "output_type": "stream",
     "text": [
      "Epoch 110, Loss 0.0268\n",
      "Training Accuracy: 0.9684, Testing Accuracy: 0.9708\n",
      "\n"
     ]
    },
    {
     "name": "stdout",
     "output_type": "stream",
     "text": [
      "Epoch 120, Loss 0.026\n",
      "Training Accuracy: 0.9697, Testing Accuracy: 0.9718\n",
      "\n"
     ]
    },
    {
     "name": "stdout",
     "output_type": "stream",
     "text": [
      "Epoch 130, Loss 0.0252\n",
      "Training Accuracy: 0.9701, Testing Accuracy: 0.9708\n",
      "\n"
     ]
    },
    {
     "name": "stdout",
     "output_type": "stream",
     "text": [
      "Epoch 140, Loss 0.0246\n",
      "Training Accuracy: 0.9714, Testing Accuracy: 0.9698\n",
      "\n"
     ]
    },
    {
     "name": "stdout",
     "output_type": "stream",
     "text": [
      "Epoch 150, Loss 0.024\n",
      "Training Accuracy: 0.9715, Testing Accuracy: 0.9708\n",
      "\n"
     ]
    },
    {
     "name": "stdout",
     "output_type": "stream",
     "text": [
      "Epoch 160, Loss 0.0235\n",
      "Training Accuracy: 0.9719, Testing Accuracy: 0.9713\n",
      "\n"
     ]
    },
    {
     "name": "stdout",
     "output_type": "stream",
     "text": [
      "Epoch 170, Loss 0.023\n",
      "Training Accuracy: 0.9728, Testing Accuracy: 0.9713\n",
      "\n"
     ]
    },
    {
     "name": "stdout",
     "output_type": "stream",
     "text": [
      "Epoch 180, Loss 0.0225\n",
      "Training Accuracy: 0.9740, Testing Accuracy: 0.9718\n",
      "\n"
     ]
    },
    {
     "name": "stdout",
     "output_type": "stream",
     "text": [
      "Epoch 190, Loss 0.0221\n",
      "Training Accuracy: 0.9741, Testing Accuracy: 0.9708\n",
      "\n"
     ]
    },
    {
     "name": "stdout",
     "output_type": "stream",
     "text": [
      "Epoch 200, Loss 0.0216\n",
      "Training Accuracy: 0.9745, Testing Accuracy: 0.9713\n",
      "\n"
     ]
    },
    {
     "name": "stdout",
     "output_type": "stream",
     "text": [
      "Epoch 210, Loss 0.0212\n",
      "Training Accuracy: 0.9754, Testing Accuracy: 0.9713\n",
      "\n"
     ]
    },
    {
     "name": "stdout",
     "output_type": "stream",
     "text": [
      "Epoch 220, Loss 0.0208\n",
      "Training Accuracy: 0.9764, Testing Accuracy: 0.9718\n",
      "\n"
     ]
    },
    {
     "name": "stdout",
     "output_type": "stream",
     "text": [
      "Epoch 230, Loss 0.0205\n",
      "Training Accuracy: 0.9767, Testing Accuracy: 0.9713\n",
      "\n"
     ]
    },
    {
     "name": "stdout",
     "output_type": "stream",
     "text": [
      "Epoch 240, Loss 0.0201\n",
      "Training Accuracy: 0.9774, Testing Accuracy: 0.9723\n",
      "\n"
     ]
    },
    {
     "data": {
      "text/plain": [
       "0.01669898161965798"
      ]
     },
     "execution_count": 22,
     "metadata": {},
     "output_type": "execute_result"
    }
   ],
   "source": [
    "nn_learner.train_loop(dl)"
   ]
  },
  {
   "cell_type": "code",
   "execution_count": 23,
   "id": "e0163366",
   "metadata": {
    "execution": {
     "iopub.execute_input": "2021-10-27T00:22:25.485698Z",
     "iopub.status.busy": "2021-10-27T00:22:25.485164Z",
     "iopub.status.idle": "2021-10-27T00:22:39.745608Z",
     "shell.execute_reply": "2021-10-27T00:22:39.746360Z"
    },
    "papermill": {
     "duration": 14.308963,
     "end_time": "2021-10-27T00:22:39.746522",
     "exception": false,
     "start_time": "2021-10-27T00:22:25.437559",
     "status": "completed"
    },
    "tags": []
   },
   "outputs": [
    {
     "name": "stdout",
     "output_type": "stream",
     "text": [
      "Epoch 0, Loss 0.2168\n",
      "Training Accuracy: 0.7551, Testing Accuracy: 0.7555\n",
      "\n"
     ]
    },
    {
     "name": "stdout",
     "output_type": "stream",
     "text": [
      "Epoch 10, Loss 0.1015\n",
      "Training Accuracy: 0.9094, Testing Accuracy: 0.9204\n",
      "\n"
     ]
    },
    {
     "name": "stdout",
     "output_type": "stream",
     "text": [
      "Epoch 20, Loss 0.0791\n",
      "Training Accuracy: 0.9267, Testing Accuracy: 0.9320\n",
      "\n"
     ]
    },
    {
     "name": "stdout",
     "output_type": "stream",
     "text": [
      "Epoch 30, Loss 0.0684\n",
      "Training Accuracy: 0.9352, Testing Accuracy: 0.9466\n",
      "\n"
     ]
    },
    {
     "name": "stdout",
     "output_type": "stream",
     "text": [
      "Epoch 40, Loss 0.0618\n",
      "Training Accuracy: 0.9396, Testing Accuracy: 0.9511\n",
      "\n"
     ]
    },
    {
     "name": "stdout",
     "output_type": "stream",
     "text": [
      "Epoch 50, Loss 0.0574\n",
      "Training Accuracy: 0.9432, Testing Accuracy: 0.9531\n",
      "\n"
     ]
    },
    {
     "name": "stdout",
     "output_type": "stream",
     "text": [
      "Epoch 60, Loss 0.0541\n",
      "Training Accuracy: 0.9455, Testing Accuracy: 0.9536\n",
      "\n"
     ]
    },
    {
     "name": "stdout",
     "output_type": "stream",
     "text": [
      "Epoch 70, Loss 0.0515\n",
      "Training Accuracy: 0.9476, Testing Accuracy: 0.9572\n",
      "\n"
     ]
    },
    {
     "name": "stdout",
     "output_type": "stream",
     "text": [
      "Epoch 80, Loss 0.0495\n",
      "Training Accuracy: 0.9496, Testing Accuracy: 0.9602\n",
      "\n"
     ]
    },
    {
     "name": "stdout",
     "output_type": "stream",
     "text": [
      "Epoch 90, Loss 0.0478\n",
      "Training Accuracy: 0.9506, Testing Accuracy: 0.9617\n",
      "\n"
     ]
    },
    {
     "name": "stdout",
     "output_type": "stream",
     "text": [
      "Epoch 100, Loss 0.0464\n",
      "Training Accuracy: 0.9521, Testing Accuracy: 0.9622\n",
      "\n"
     ]
    },
    {
     "name": "stdout",
     "output_type": "stream",
     "text": [
      "Epoch 110, Loss 0.0452\n",
      "Training Accuracy: 0.9529, Testing Accuracy: 0.9617\n",
      "\n"
     ]
    },
    {
     "name": "stdout",
     "output_type": "stream",
     "text": [
      "Epoch 120, Loss 0.0441\n",
      "Training Accuracy: 0.9535, Testing Accuracy: 0.9612\n",
      "\n"
     ]
    },
    {
     "name": "stdout",
     "output_type": "stream",
     "text": [
      "Epoch 130, Loss 0.0432\n",
      "Training Accuracy: 0.9544, Testing Accuracy: 0.9607\n",
      "\n"
     ]
    },
    {
     "name": "stdout",
     "output_type": "stream",
     "text": [
      "Epoch 140, Loss 0.0423\n",
      "Training Accuracy: 0.9548, Testing Accuracy: 0.9622\n",
      "\n"
     ]
    },
    {
     "name": "stdout",
     "output_type": "stream",
     "text": [
      "Epoch 150, Loss 0.0416\n",
      "Training Accuracy: 0.9557, Testing Accuracy: 0.9617\n",
      "\n"
     ]
    },
    {
     "name": "stdout",
     "output_type": "stream",
     "text": [
      "Epoch 160, Loss 0.0409\n",
      "Training Accuracy: 0.9559, Testing Accuracy: 0.9622\n",
      "\n"
     ]
    },
    {
     "name": "stdout",
     "output_type": "stream",
     "text": [
      "Epoch 170, Loss 0.0403\n",
      "Training Accuracy: 0.9574, Testing Accuracy: 0.9622\n",
      "\n"
     ]
    },
    {
     "name": "stdout",
     "output_type": "stream",
     "text": [
      "Epoch 180, Loss 0.0397\n",
      "Training Accuracy: 0.9578, Testing Accuracy: 0.9627\n",
      "\n"
     ]
    },
    {
     "name": "stdout",
     "output_type": "stream",
     "text": [
      "Epoch 190, Loss 0.0392\n",
      "Training Accuracy: 0.9581, Testing Accuracy: 0.9632\n",
      "\n"
     ]
    },
    {
     "name": "stdout",
     "output_type": "stream",
     "text": [
      "Epoch 200, Loss 0.0387\n",
      "Training Accuracy: 0.9586, Testing Accuracy: 0.9632\n",
      "\n"
     ]
    },
    {
     "name": "stdout",
     "output_type": "stream",
     "text": [
      "Epoch 210, Loss 0.0383\n",
      "Training Accuracy: 0.9589, Testing Accuracy: 0.9632\n",
      "\n"
     ]
    },
    {
     "name": "stdout",
     "output_type": "stream",
     "text": [
      "Epoch 220, Loss 0.0378\n",
      "Training Accuracy: 0.9591, Testing Accuracy: 0.9632\n",
      "\n"
     ]
    },
    {
     "name": "stdout",
     "output_type": "stream",
     "text": [
      "Epoch 230, Loss 0.0375\n",
      "Training Accuracy: 0.9594, Testing Accuracy: 0.9637\n",
      "\n"
     ]
    },
    {
     "name": "stdout",
     "output_type": "stream",
     "text": [
      "Epoch 240, Loss 0.0371\n",
      "Training Accuracy: 0.9597, Testing Accuracy: 0.9637\n",
      "\n"
     ]
    },
    {
     "data": {
      "text/plain": [
       "0.06789086260287552"
      ]
     },
     "execution_count": 23,
     "metadata": {},
     "output_type": "execute_result"
    }
   ],
   "source": [
    "lr_learner.train_loop(dl)"
   ]
  },
  {
   "cell_type": "code",
   "execution_count": 24,
   "id": "ca410940",
   "metadata": {
    "execution": {
     "iopub.execute_input": "2021-10-27T00:22:39.844461Z",
     "iopub.status.busy": "2021-10-27T00:22:39.843889Z",
     "iopub.status.idle": "2021-10-27T00:22:40.053171Z",
     "shell.execute_reply": "2021-10-27T00:22:40.053651Z"
    },
    "papermill": {
     "duration": 0.264865,
     "end_time": "2021-10-27T00:22:40.053820",
     "exception": false,
     "start_time": "2021-10-27T00:22:39.788955",
     "status": "completed"
    },
    "tags": []
   },
   "outputs": [
    {
     "data": {
      "text/plain": [
       "<matplotlib.legend.Legend at 0x7efed20a2f60>"
      ]
     },
     "execution_count": 24,
     "metadata": {},
     "output_type": "execute_result"
    },
    {
     "data": {
      "image/png": "[encoded data removed]",
      "text/plain": [
       "<Figure size 1080x720 with 1 Axes>"
      ]
     },
     "metadata": {
      "needs_background": "light"
     },
     "output_type": "display_data"
    }
   ],
   "source": [
    "#comparing the results of NN and LR\n",
    "plt.figure(figsize=(15,10))\n",
    "\n",
    "# Neural Network plots\n",
    "plt.plot(acc_nn.accuracies, 'r-', label = \"Training Accuracies - NN\")\n",
    "plt.plot(acc_nn.test_accuracies, 'g-', label = \"Testing Accuracies - NN\")\n",
    "\n",
    "# Logistic Regression plots\n",
    "plt.plot(acc_lr.accuracies, 'k-', label = \"Training Accuracies - LR\")\n",
    "plt.plot(acc_lr.test_accuracies, 'b-', label = \"Testing Accuracies - LR\")\n",
    "plt.legend()"
   ]
  },
  {
   "cell_type": "markdown",
   "id": "80dfb35c",
   "metadata": {
    "papermill": {
     "duration": 0.043015,
     "end_time": "2021-10-27T00:22:40.140383",
     "exception": false,
     "start_time": "2021-10-27T00:22:40.097368",
     "status": "completed"
    },
    "tags": []
   },
   "source": [
    "#### Plotting the outputs of this layer of the NN.\n"
   ]
  },
  {
   "cell_type": "code",
   "execution_count": 25,
   "id": "45eb2ff5",
   "metadata": {
    "execution": {
     "iopub.execute_input": "2021-10-27T00:22:40.249805Z",
     "iopub.status.busy": "2021-10-27T00:22:40.249233Z",
     "iopub.status.idle": "2021-10-27T00:22:40.257855Z",
     "shell.execute_reply": "2021-10-27T00:22:40.257386Z"
    },
    "papermill": {
     "duration": 0.074907,
     "end_time": "2021-10-27T00:22:40.257984",
     "exception": false,
     "start_time": "2021-10-27T00:22:40.183077",
     "status": "completed"
    },
    "tags": []
   },
   "outputs": [],
   "source": [
    "new_model = Model(layers[:-2])\n",
    "testing_plot = new_model(testing_data_x)"
   ]
  },
  {
   "cell_type": "code",
   "execution_count": 26,
   "id": "4c0a5485",
   "metadata": {
    "execution": {
     "iopub.execute_input": "2021-10-27T00:22:40.362898Z",
     "iopub.status.busy": "2021-10-27T00:22:40.361949Z",
     "iopub.status.idle": "2021-10-27T00:22:40.558623Z",
     "shell.execute_reply": "2021-10-27T00:22:40.558166Z"
    },
    "papermill": {
     "duration": 0.249104,
     "end_time": "2021-10-27T00:22:40.558750",
     "exception": false,
     "start_time": "2021-10-27T00:22:40.309646",
     "status": "completed"
    },
    "tags": []
   },
   "outputs": [
    {
     "data": {
      "text/plain": [
       "Text(0.5, 1.0, 'Outputs')"
      ]
     },
     "execution_count": 26,
     "metadata": {},
     "output_type": "execute_result"
    },
    {
     "data": {
      "image/png": "[encoded data removed]",
      "text/plain": [
       "<Figure size 576x504 with 1 Axes>"
      ]
     },
     "metadata": {
      "needs_background": "light"
     },
     "output_type": "display_data"
    }
   ],
   "source": [
    "# Plotting the scatter plot of points and color coding by class\n",
    "plt.figure(figsize=(8,7))\n",
    "plt.scatter(testing_plot[:,0], testing_plot[:,1], alpha = 0.1, c = y_test.ravel());\n",
    "plt.title('Outputs')"
   ]
  },
  {
   "cell_type": "markdown",
   "id": "a74fcf8f",
   "metadata": {
    "papermill": {
     "duration": 0.044588,
     "end_time": "2021-10-27T00:22:40.648808",
     "exception": false,
     "start_time": "2021-10-27T00:22:40.604220",
     "status": "completed"
    },
    "tags": []
   },
   "source": [
    "Probability contours"
   ]
  },
  {
   "cell_type": "code",
   "execution_count": 27,
   "id": "d0afc8e3",
   "metadata": {
    "execution": {
     "iopub.execute_input": "2021-10-27T00:22:40.745749Z",
     "iopub.status.busy": "2021-10-27T00:22:40.745221Z",
     "iopub.status.idle": "2021-10-27T00:22:40.758650Z",
     "shell.execute_reply": "2021-10-27T00:22:40.758207Z"
    },
    "papermill": {
     "duration": 0.065315,
     "end_time": "2021-10-27T00:22:40.758768",
     "exception": false,
     "start_time": "2021-10-27T00:22:40.693453",
     "status": "completed"
    },
    "tags": []
   },
   "outputs": [],
   "source": [
    "model_prob = Model(layers[-2:]) "
   ]
  },
  {
   "cell_type": "code",
   "execution_count": 28,
   "id": "9b96e238",
   "metadata": {
    "execution": {
     "iopub.execute_input": "2021-10-27T00:22:40.865280Z",
     "iopub.status.busy": "2021-10-27T00:22:40.853293Z",
     "iopub.status.idle": "2021-10-27T00:22:40.869672Z",
     "shell.execute_reply": "2021-10-27T00:22:40.870156Z"
    },
    "papermill": {
     "duration": 0.066546,
     "end_time": "2021-10-27T00:22:40.870297",
     "exception": false,
     "start_time": "2021-10-27T00:22:40.803751",
     "status": "completed"
    },
    "tags": []
   },
   "outputs": [],
   "source": [
    "#creating the x and y ranges according to the above generated plot.\n",
    "x_range = np.linspace(-4, 1, 100) \n",
    "y_range = np.linspace(-6, 6, 100) \n",
    "x_grid, y_grid = np.meshgrid(x_range, y_range) # x_grid and y_grig are of size 100 X 100\n",
    "\n",
    "# converting x_grid and y_grid to continuous arrays\n",
    "x_gridflat = np.ravel(x_grid)\n",
    "y_gridflat = np.ravel(y_grid)\n",
    "\n",
    "# The last layer of the current model takes two columns as input. Hence transpose of np.vstack() is required.\n",
    "X = np.vstack((x_gridflat, y_gridflat)).T\n",
    "\n",
    "prob_contour = model_prob(X).reshape(100,100) "
   ]
  },
  {
   "cell_type": "code",
   "execution_count": 29,
   "id": "da72499a",
   "metadata": {
    "execution": {
     "iopub.execute_input": "2021-10-27T00:22:41.004092Z",
     "iopub.status.busy": "2021-10-27T00:22:41.003551Z",
     "iopub.status.idle": "2021-10-27T00:22:41.253442Z",
     "shell.execute_reply": "2021-10-27T00:22:41.253911Z"
    },
    "papermill": {
     "duration": 0.32863,
     "end_time": "2021-10-27T00:22:41.254067",
     "exception": false,
     "start_time": "2021-10-27T00:22:40.925437",
     "status": "completed"
    },
    "tags": []
   },
   "outputs": [
    {
     "data": {
      "image/png": "[encoded data removed]",
      "text/plain": [
       "<Figure size 720x648 with 1 Axes>"
      ]
     },
     "metadata": {
      "needs_background": "light"
     },
     "output_type": "display_data"
    }
   ],
   "source": [
    "plt.figure(figsize=(10,9))\n",
    "plt.scatter(testing_plot[:,0], testing_plot[:,1], alpha = 0.1, c = y_test.ravel())\n",
    "contours = plt.contour(x_grid,y_grid,prob_contour)\n",
    "plt.title('Probability Contours')\n",
    "plt.clabel(contours, inline = True );"
   ]
  },
  {
   "cell_type": "code",
   "execution_count": null,
   "id": "e81b4ac7",
   "metadata": {
    "papermill": {
     "duration": 0.047107,
     "end_time": "2021-10-27T00:22:41.348992",
     "exception": false,
     "start_time": "2021-10-27T00:22:41.301885",
     "status": "completed"
    },
    "tags": []
   },
   "outputs": [],
   "source": []
  }
 ],
 "metadata": {
  "kernelspec": {
   "display_name": "Python 3",
   "language": "python",
   "name": "python3"
  },
  "language_info": {
   "codemirror_mode": {
    "name": "ipython",
    "version": 3
   },
   "file_extension": ".py",
   "mimetype": "text/x-python",
   "name": "python",
   "nbconvert_exporter": "python",
   "pygments_lexer": "ipython3",
   "version": "3.6.15"
  },
  "papermill": {
   "default_parameters": {},
   "duration": 100.441611,
   "end_time": "2021-10-27T00:22:41.805132",
   "environment_variables": {},
   "exception": null,
   "input_path": "2020-08-11-part2.ipynb",
   "output_path": "2020-08-11-part2.ipynb",
   "parameters": {},
   "start_time": "2021-10-27T00:21:01.363521",
   "version": "2.3.3"
  }
 },
 "nbformat": 4,
 "nbformat_minor": 5
}