{
 "cells": [
  {
   "cell_type": "markdown",
   "id": "98380cd3",
   "metadata": {
    "papermill": {
     "duration": 0.033027,
     "end_time": "2022-03-10T00:28:55.739439",
     "exception": false,
     "start_time": "2022-03-10T00:28:55.706412",
     "status": "completed"
    },
    "tags": []
   },
   "source": [
    "# Distinguish Your Own Digits (DYOD)"
   ]
  },
  {
   "cell_type": "markdown",
   "id": "ef31240d",
   "metadata": {
    "papermill": {
     "duration": 0.024293,
     "end_time": "2022-03-10T00:28:55.786073",
     "exception": false,
     "start_time": "2022-03-10T00:28:55.761780",
     "status": "completed"
    },
    "tags": []
   },
   "source": [
    "You are going to write a classifier that distinguishes between the number 3 and number 8."
   ]
  },
  {
   "cell_type": "code",
   "execution_count": 1,
   "id": "b15c8646",
   "metadata": {
    "execution": {
     "iopub.execute_input": "2022-03-10T00:28:55.842569Z",
     "iopub.status.busy": "2022-03-10T00:28:55.838608Z",
     "iopub.status.idle": "2022-03-10T00:28:55.853056Z",
     "shell.execute_reply": "2022-03-10T00:28:55.852597Z"
    },
    "papermill": {
     "duration": 0.045065,
     "end_time": "2022-03-10T00:28:55.853181",
     "exception": false,
     "start_time": "2022-03-10T00:28:55.808116",
     "status": "completed"
    },
    "tags": []
   },
   "outputs": [],
   "source": [
    "%load_ext autoreload\n",
    "%autoreload 2"
   ]
  },
  {
   "cell_type": "code",
   "execution_count": 2,
   "id": "22ef38dc",
   "metadata": {
    "execution": {
     "iopub.execute_input": "2022-03-10T00:28:55.902963Z",
     "iopub.status.busy": "2022-03-10T00:28:55.902535Z",
     "iopub.status.idle": "2022-03-10T00:28:56.514808Z",
     "shell.execute_reply": "2022-03-10T00:28:56.513294Z"
    },
    "papermill": {
     "duration": 0.638407,
     "end_time": "2022-03-10T00:28:56.515033",
     "exception": false,
     "start_time": "2022-03-10T00:28:55.876626",
     "status": "completed"
    },
    "tags": []
   },
   "outputs": [],
   "source": [
    "%matplotlib inline\n",
    "import numpy as np\n",
    "import matplotlib.pyplot as plt\n",
    "import pandas as pd"
   ]
  },
  {
   "cell_type": "markdown",
   "id": "ba036198",
   "metadata": {
    "papermill": {
     "duration": 0.024758,
     "end_time": "2022-03-10T00:28:56.568089",
     "exception": false,
     "start_time": "2022-03-10T00:28:56.543331",
     "status": "completed"
    },
    "tags": []
   },
   "source": [
    "From the command line run `pip install mnist`. This is a library that will help you bring down the mnist dataset. If you run this from a notebook, you need to put  `!pip install mnist` in a cell by itself."
   ]
  },
  {
   "cell_type": "code",
   "execution_count": 3,
   "id": "bb6ad8a1",
   "metadata": {
    "execution": {
     "iopub.execute_input": "2022-03-10T00:28:56.625362Z",
     "iopub.status.busy": "2022-03-10T00:28:56.624367Z",
     "iopub.status.idle": "2022-03-10T00:28:58.533898Z",
     "shell.execute_reply": "2022-03-10T00:28:58.534835Z"
    },
    "papermill": {
     "duration": 1.941823,
     "end_time": "2022-03-10T00:28:58.535086",
     "exception": false,
     "start_time": "2022-03-10T00:28:56.593263",
     "status": "completed"
    },
    "tags": []
   },
   "outputs": [
    {
     "name": "stdout",
     "output_type": "stream",
     "text": [
      "Collecting mnist\r\n"
     ]
    },
    {
     "name": "stdout",
     "output_type": "stream",
     "text": [
      "  Downloading mnist-0.2.2-py2.py3-none-any.whl (3.5 kB)\r\n",
      "Requirement already satisfied: numpy in /opt/hostedtoolcache/Python/3.6.15/x64/lib/python3.6/site-packages (from mnist) (1.19.5)\r\n"
     ]
    },
    {
     "name": "stdout",
     "output_type": "stream",
     "text": [
      "Installing collected packages: mnist\r\n",
      "Successfully installed mnist-0.2.2\r\n"
     ]
    }
   ],
   "source": [
    "!pip install mnist"
   ]
  },
  {
   "cell_type": "markdown",
   "id": "69df9c9a",
   "metadata": {
    "papermill": {
     "duration": 0.023543,
     "end_time": "2022-03-10T00:28:58.584643",
     "exception": false,
     "start_time": "2022-03-10T00:28:58.561100",
     "status": "completed"
    },
    "tags": []
   },
   "source": [
    "## Preparing the Data"
   ]
  },
  {
   "cell_type": "code",
   "execution_count": 4,
   "id": "7f69d806",
   "metadata": {
    "execution": {
     "iopub.execute_input": "2022-03-10T00:28:58.639390Z",
     "iopub.status.busy": "2022-03-10T00:28:58.638793Z",
     "iopub.status.idle": "2022-03-10T00:28:58.655307Z",
     "shell.execute_reply": "2022-03-10T00:28:58.654799Z"
    },
    "papermill": {
     "duration": 0.046386,
     "end_time": "2022-03-10T00:28:58.655412",
     "exception": false,
     "start_time": "2022-03-10T00:28:58.609026",
     "status": "completed"
    },
    "tags": []
   },
   "outputs": [],
   "source": [
    "import mnist"
   ]
  },
  {
   "cell_type": "code",
   "execution_count": 5,
   "id": "a411e44f",
   "metadata": {
    "execution": {
     "iopub.execute_input": "2022-03-10T00:28:58.710597Z",
     "iopub.status.busy": "2022-03-10T00:28:58.710104Z",
     "iopub.status.idle": "2022-03-10T00:28:59.330714Z",
     "shell.execute_reply": "2022-03-10T00:28:59.330112Z"
    },
    "papermill": {
     "duration": 0.65147,
     "end_time": "2022-03-10T00:28:59.330844",
     "exception": false,
     "start_time": "2022-03-10T00:28:58.679374",
     "status": "completed"
    },
    "tags": []
   },
   "outputs": [],
   "source": [
    "train_images = mnist.train_images()\n",
    "train_labels = mnist.train_labels()"
   ]
  },
  {
   "cell_type": "code",
   "execution_count": 6,
   "id": "dceab3a5",
   "metadata": {
    "execution": {
     "iopub.execute_input": "2022-03-10T00:28:59.383704Z",
     "iopub.status.busy": "2022-03-10T00:28:59.381821Z",
     "iopub.status.idle": "2022-03-10T00:28:59.399688Z",
     "shell.execute_reply": "2022-03-10T00:28:59.399299Z"
    },
    "papermill": {
     "duration": 0.045873,
     "end_time": "2022-03-10T00:28:59.399815",
     "exception": false,
     "start_time": "2022-03-10T00:28:59.353942",
     "status": "completed"
    },
    "tags": []
   },
   "outputs": [
    {
     "data": {
      "text/plain": [
       "((60000, 28, 28), (60000,))"
      ]
     },
     "execution_count": 6,
     "metadata": {},
     "output_type": "execute_result"
    }
   ],
   "source": [
    "train_images.shape, train_labels.shape"
   ]
  },
  {
   "cell_type": "code",
   "execution_count": 7,
   "id": "f50dc2bb",
   "metadata": {
    "execution": {
     "iopub.execute_input": "2022-03-10T00:28:59.455485Z",
     "iopub.status.busy": "2022-03-10T00:28:59.455066Z",
     "iopub.status.idle": "2022-03-10T00:28:59.641917Z",
     "shell.execute_reply": "2022-03-10T00:28:59.641463Z"
    },
    "papermill": {
     "duration": 0.215993,
     "end_time": "2022-03-10T00:28:59.642025",
     "exception": false,
     "start_time": "2022-03-10T00:28:59.426032",
     "status": "completed"
    },
    "tags": []
   },
   "outputs": [],
   "source": [
    "test_images = mnist.test_images()\n",
    "test_labels = mnist.test_labels()"
   ]
  },
  {
   "cell_type": "code",
   "execution_count": 8,
   "id": "fc38cf1b",
   "metadata": {
    "execution": {
     "iopub.execute_input": "2022-03-10T00:28:59.693794Z",
     "iopub.status.busy": "2022-03-10T00:28:59.693362Z",
     "iopub.status.idle": "2022-03-10T00:28:59.705487Z",
     "shell.execute_reply": "2022-03-10T00:28:59.705947Z"
    },
    "papermill": {
     "duration": 0.040706,
     "end_time": "2022-03-10T00:28:59.706069",
     "exception": false,
     "start_time": "2022-03-10T00:28:59.665363",
     "status": "completed"
    },
    "tags": []
   },
   "outputs": [
    {
     "data": {
      "text/plain": [
       "((10000, 28, 28), (10000,))"
      ]
     },
     "execution_count": 8,
     "metadata": {},
     "output_type": "execute_result"
    }
   ],
   "source": [
    "test_images.shape, test_labels.shape"
   ]
  },
  {
   "cell_type": "code",
   "execution_count": 9,
   "id": "f9ed8fe0",
   "metadata": {
    "execution": {
     "iopub.execute_input": "2022-03-10T00:28:59.754392Z",
     "iopub.status.busy": "2022-03-10T00:28:59.753937Z",
     "iopub.status.idle": "2022-03-10T00:28:59.886452Z",
     "shell.execute_reply": "2022-03-10T00:28:59.886943Z"
    },
    "papermill": {
     "duration": 0.158766,
     "end_time": "2022-03-10T00:28:59.887084",
     "exception": false,
     "start_time": "2022-03-10T00:28:59.728318",
     "status": "completed"
    },
    "tags": []
   },
   "outputs": [
    {
     "name": "stdout",
     "output_type": "stream",
     "text": [
      "2\n"
     ]
    },
    {
     "data": {
      "text/plain": [
       "<matplotlib.image.AxesImage at 0x7f159efbb5f8>"
      ]
     },
     "execution_count": 9,
     "metadata": {},
     "output_type": "execute_result"
    },
    {
     "data": {
      "image/png": "[encoded data removed]",
      "text/plain": [
       "<Figure size 432x288 with 1 Axes>"
      ]
     },
     "metadata": {
      "needs_background": "light"
     },
     "output_type": "display_data"
    }
   ],
   "source": [
    "image_index = 7776 # You may select anything up to 60,000\n",
    "print(train_labels[image_index]) \n",
    "plt.imshow(train_images[image_index], cmap='Greys')"
   ]
  },
  {
   "cell_type": "markdown",
   "id": "a8d2388d",
   "metadata": {
    "papermill": {
     "duration": 0.023954,
     "end_time": "2022-03-10T00:28:59.936050",
     "exception": false,
     "start_time": "2022-03-10T00:28:59.912096",
     "status": "completed"
    },
    "tags": []
   },
   "source": [
    "## Filter data to get 3 and 8 out"
   ]
  },
  {
   "cell_type": "code",
   "execution_count": 10,
   "id": "776f7fc7",
   "metadata": {
    "execution": {
     "iopub.execute_input": "2022-03-10T00:28:59.989536Z",
     "iopub.status.busy": "2022-03-10T00:28:59.989094Z",
     "iopub.status.idle": "2022-03-10T00:29:00.008468Z",
     "shell.execute_reply": "2022-03-10T00:29:00.007858Z"
    },
    "papermill": {
     "duration": 0.048673,
     "end_time": "2022-03-10T00:29:00.008591",
     "exception": false,
     "start_time": "2022-03-10T00:28:59.959918",
     "status": "completed"
    },
    "tags": []
   },
   "outputs": [],
   "source": [
    "train_filter = np.where((train_labels == 3 ) | (train_labels == 8))\n",
    "test_filter = np.where((test_labels == 3) | (test_labels == 8))\n",
    "X_train, y_train = train_images[train_filter], train_labels[train_filter]\n",
    "X_test, y_test = test_images[test_filter], test_labels[test_filter]"
   ]
  },
  {
   "cell_type": "markdown",
   "id": "948f0b7e",
   "metadata": {
    "papermill": {
     "duration": 0.028843,
     "end_time": "2022-03-10T00:29:00.065706",
     "exception": false,
     "start_time": "2022-03-10T00:29:00.036863",
     "status": "completed"
    },
    "tags": []
   },
   "source": [
    "We normalize the pizel values in the 0 to 1 range"
   ]
  },
  {
   "cell_type": "code",
   "execution_count": 11,
   "id": "ee4c2166",
   "metadata": {
    "execution": {
     "iopub.execute_input": "2022-03-10T00:29:00.124034Z",
     "iopub.status.busy": "2022-03-10T00:29:00.123081Z",
     "iopub.status.idle": "2022-03-10T00:29:00.175916Z",
     "shell.execute_reply": "2022-03-10T00:29:00.176693Z"
    },
    "papermill": {
     "duration": 0.084407,
     "end_time": "2022-03-10T00:29:00.176934",
     "exception": false,
     "start_time": "2022-03-10T00:29:00.092527",
     "status": "completed"
    },
    "tags": []
   },
   "outputs": [],
   "source": [
    "X_train = X_train/255.\n",
    "X_test = X_test/255."
   ]
  },
  {
   "cell_type": "markdown",
   "id": "ddcf4fab",
   "metadata": {
    "papermill": {
     "duration": 0.026788,
     "end_time": "2022-03-10T00:29:00.231219",
     "exception": false,
     "start_time": "2022-03-10T00:29:00.204431",
     "status": "completed"
    },
    "tags": []
   },
   "source": [
    "And setup the labels as 1 (when the digit is 3) and 0 (when the digit is 8)"
   ]
  },
  {
   "cell_type": "code",
   "execution_count": 12,
   "id": "7dc908f2",
   "metadata": {
    "execution": {
     "iopub.execute_input": "2022-03-10T00:29:00.286998Z",
     "iopub.status.busy": "2022-03-10T00:29:00.286501Z",
     "iopub.status.idle": "2022-03-10T00:29:00.300141Z",
     "shell.execute_reply": "2022-03-10T00:29:00.299738Z"
    },
    "papermill": {
     "duration": 0.044081,
     "end_time": "2022-03-10T00:29:00.300230",
     "exception": false,
     "start_time": "2022-03-10T00:29:00.256149",
     "status": "completed"
    },
    "tags": []
   },
   "outputs": [],
   "source": [
    "y_train = 1*(y_train==3)\n",
    "y_test = 1*(y_test==3)"
   ]
  },
  {
   "cell_type": "code",
   "execution_count": 13,
   "id": "01e4e969",
   "metadata": {
    "execution": {
     "iopub.execute_input": "2022-03-10T00:29:00.355456Z",
     "iopub.status.busy": "2022-03-10T00:29:00.354902Z",
     "iopub.status.idle": "2022-03-10T00:29:00.370517Z",
     "shell.execute_reply": "2022-03-10T00:29:00.371032Z"
    },
    "papermill": {
     "duration": 0.045166,
     "end_time": "2022-03-10T00:29:00.371159",
     "exception": false,
     "start_time": "2022-03-10T00:29:00.325993",
     "status": "completed"
    },
    "tags": []
   },
   "outputs": [
    {
     "data": {
      "text/plain": [
       "((11982, 28, 28), (1984, 28, 28))"
      ]
     },
     "execution_count": 13,
     "metadata": {},
     "output_type": "execute_result"
    }
   ],
   "source": [
    "X_train.shape, X_test.shape"
   ]
  },
  {
   "cell_type": "markdown",
   "id": "5ccf3f85",
   "metadata": {
    "papermill": {
     "duration": 0.027307,
     "end_time": "2022-03-10T00:29:00.425657",
     "exception": false,
     "start_time": "2022-03-10T00:29:00.398350",
     "status": "completed"
    },
    "tags": []
   },
   "source": [
    "We reshape the data to flatten the image pixels into a set of features or co-variates:"
   ]
  },
  {
   "cell_type": "code",
   "execution_count": 14,
   "id": "5286a4a3",
   "metadata": {
    "execution": {
     "iopub.execute_input": "2022-03-10T00:29:00.481288Z",
     "iopub.status.busy": "2022-03-10T00:29:00.480157Z",
     "iopub.status.idle": "2022-03-10T00:29:00.495796Z",
     "shell.execute_reply": "2022-03-10T00:29:00.496244Z"
    },
    "papermill": {
     "duration": 0.045032,
     "end_time": "2022-03-10T00:29:00.496377",
     "exception": false,
     "start_time": "2022-03-10T00:29:00.451345",
     "status": "completed"
    },
    "tags": []
   },
   "outputs": [
    {
     "data": {
      "text/plain": [
       "((11982, 784), (1984, 784))"
      ]
     },
     "execution_count": 14,
     "metadata": {},
     "output_type": "execute_result"
    }
   ],
   "source": [
    "X_train = X_train.reshape(X_train.shape[0], -1)\n",
    "X_test = X_test.reshape(X_test.shape[0], -1)\n",
    "X_train.shape, X_test.shape"
   ]
  },
  {
   "cell_type": "code",
   "execution_count": 15,
   "id": "73c5f88a",
   "metadata": {
    "execution": {
     "iopub.execute_input": "2022-03-10T00:29:00.551336Z",
     "iopub.status.busy": "2022-03-10T00:29:00.550847Z",
     "iopub.status.idle": "2022-03-10T00:29:00.570590Z",
     "shell.execute_reply": "2022-03-10T00:29:00.570127Z"
    },
    "papermill": {
     "duration": 0.048556,
     "end_time": "2022-03-10T00:29:00.570690",
     "exception": false,
     "start_time": "2022-03-10T00:29:00.522134",
     "status": "completed"
    },
    "tags": []
   },
   "outputs": [],
   "source": [
    "#Impoting functions from 'Kudzu'\n",
    "from kudzu.model import Model\n",
    "from kudzu.train import Learner\n",
    "from kudzu.optim import GD\n",
    "from kudzu.data import Data, Sampler,Dataloader\n",
    "\n",
    "from kudzu.callbacks import AccCallback\n",
    "from kudzu.callbacks import ClfCallback\n",
    "\n",
    "from kudzu.loss import MSE\n",
    "\n",
    "from kudzu.layer import Sigmoid,Relu\n",
    "from kudzu.layer import Affine"
   ]
  },
  {
   "cell_type": "markdown",
   "id": "bc01172a",
   "metadata": {
    "papermill": {
     "duration": 0.025707,
     "end_time": "2022-03-10T00:29:00.621255",
     "exception": false,
     "start_time": "2022-03-10T00:29:00.595548",
     "status": "completed"
    },
    "tags": []
   },
   "source": [
    "### Let us create a `Config` class, to store important parameters. \n",
    "This class essentially plays the role of a dictionary."
   ]
  },
  {
   "cell_type": "code",
   "execution_count": 16,
   "id": "978281aa",
   "metadata": {
    "execution": {
     "iopub.execute_input": "2022-03-10T00:29:00.677216Z",
     "iopub.status.busy": "2022-03-10T00:29:00.676210Z",
     "iopub.status.idle": "2022-03-10T00:29:00.693475Z",
     "shell.execute_reply": "2022-03-10T00:29:00.693032Z"
    },
    "papermill": {
     "duration": 0.045805,
     "end_time": "2022-03-10T00:29:00.693588",
     "exception": false,
     "start_time": "2022-03-10T00:29:00.647783",
     "status": "completed"
    },
    "tags": []
   },
   "outputs": [],
   "source": [
    "class Config:\n",
    "    pass\n",
    "config = Config()\n",
    "config.lr = 0.001\n",
    "config.num_epochs = 250\n",
    "config.bs = 50"
   ]
  },
  {
   "cell_type": "markdown",
   "id": "1385fa59",
   "metadata": {
    "papermill": {
     "duration": 0.027264,
     "end_time": "2022-03-10T00:29:00.747240",
     "exception": false,
     "start_time": "2022-03-10T00:29:00.719976",
     "status": "completed"
    },
    "tags": []
   },
   "source": [
    "### Running Models with the Training data\n",
    "Details about the network layers:\n",
    "- A first affine layer has 784 inputs and does 100 affine transforms. These are followed by a Relu\n",
    "- A second affine layer has 100 inputs from the 100 activations of the past layer, and does 100 affine transforms. These are followed by a Relu\n",
    "- A third affine layer has 100 activations and does 2 affine transformations to create an embedding for visualization. There is no non-linearity here.\n",
    "- A final \"logistic regression\" which has an affine transform from 2 inputs to 1 output, which is squeezed through a sigmoid.\n"
   ]
  },
  {
   "cell_type": "code",
   "execution_count": 17,
   "id": "2b9c66db",
   "metadata": {
    "execution": {
     "iopub.execute_input": "2022-03-10T00:29:00.803955Z",
     "iopub.status.busy": "2022-03-10T00:29:00.802825Z",
     "iopub.status.idle": "2022-03-10T00:29:00.816856Z",
     "shell.execute_reply": "2022-03-10T00:29:00.817339Z"
    },
    "papermill": {
     "duration": 0.044324,
     "end_time": "2022-03-10T00:29:00.817478",
     "exception": false,
     "start_time": "2022-03-10T00:29:00.773154",
     "status": "completed"
    },
    "tags": []
   },
   "outputs": [],
   "source": [
    "data = Data(X_train, y_train.reshape(-1,1))\n",
    "sampler = Sampler(data, config.bs, shuffle=True)\n",
    "\n",
    "dl = Dataloader(data, sampler)\n",
    "\n",
    "opt = GD(config.lr)\n",
    "loss = MSE()"
   ]
  },
  {
   "cell_type": "code",
   "execution_count": 18,
   "id": "b275e4c2",
   "metadata": {
    "execution": {
     "iopub.execute_input": "2022-03-10T00:29:00.873905Z",
     "iopub.status.busy": "2022-03-10T00:29:00.873304Z",
     "iopub.status.idle": "2022-03-10T00:29:00.887021Z",
     "shell.execute_reply": "2022-03-10T00:29:00.886563Z"
    },
    "papermill": {
     "duration": 0.044177,
     "end_time": "2022-03-10T00:29:00.887135",
     "exception": false,
     "start_time": "2022-03-10T00:29:00.842958",
     "status": "completed"
    },
    "tags": []
   },
   "outputs": [],
   "source": [
    "training_data_x = X_train\n",
    "testing_data_x = X_test\n",
    "training_data_y = y_train.reshape(-1,1)\n",
    "testing_data_y = y_test.reshape(-1,1)"
   ]
  },
  {
   "cell_type": "code",
   "execution_count": 19,
   "id": "76951160",
   "metadata": {
    "execution": {
     "iopub.execute_input": "2022-03-10T00:29:00.940857Z",
     "iopub.status.busy": "2022-03-10T00:29:00.939996Z",
     "iopub.status.idle": "2022-03-10T00:29:00.956194Z",
     "shell.execute_reply": "2022-03-10T00:29:00.956588Z"
    },
    "papermill": {
     "duration": 0.045062,
     "end_time": "2022-03-10T00:29:00.956701",
     "exception": false,
     "start_time": "2022-03-10T00:29:00.911639",
     "status": "completed"
    },
    "tags": []
   },
   "outputs": [
    {
     "name": "stdout",
     "output_type": "stream",
     "text": [
      "xavier\n",
      "xavier\n",
      "xavier\n",
      "xavier\n",
      "xavier\n"
     ]
    }
   ],
   "source": [
    "layers = [Affine(\"first\", 784, 100), Relu(\"first\"), Affine(\"second\", 100, 100), Relu(\"second\"), Affine(\"third\", 100, 2), Affine(\"last\", 2, 1), Sigmoid(\"last\")]\n",
    "model_nn = Model(layers)\n",
    "model_lr = Model([Affine(\"logits\", 784, 1), Sigmoid(\"sigmoid\")])"
   ]
  },
  {
   "cell_type": "code",
   "execution_count": 20,
   "id": "6eede77a",
   "metadata": {
    "execution": {
     "iopub.execute_input": "2022-03-10T00:29:01.009920Z",
     "iopub.status.busy": "2022-03-10T00:29:01.009323Z",
     "iopub.status.idle": "2022-03-10T00:29:01.021400Z",
     "shell.execute_reply": "2022-03-10T00:29:01.021029Z"
    },
    "papermill": {
     "duration": 0.040571,
     "end_time": "2022-03-10T00:29:01.021499",
     "exception": false,
     "start_time": "2022-03-10T00:29:00.980928",
     "status": "completed"
    },
    "tags": []
   },
   "outputs": [],
   "source": [
    "nn_learner = Learner(loss, model_nn, opt, config.num_epochs)\n",
    "acc_nn = ClfCallback(nn_learner, config.bs, training_data_x , testing_data_x, training_data_y, testing_data_y)\n",
    "nn_learner.set_callbacks([acc_nn])"
   ]
  },
  {
   "cell_type": "code",
   "execution_count": 21,
   "id": "877b6cc7",
   "metadata": {
    "execution": {
     "iopub.execute_input": "2022-03-10T00:29:01.080158Z",
     "iopub.status.busy": "2022-03-10T00:29:01.079572Z",
     "iopub.status.idle": "2022-03-10T00:29:01.089749Z",
     "shell.execute_reply": "2022-03-10T00:29:01.089339Z"
    },
    "papermill": {
     "duration": 0.044268,
     "end_time": "2022-03-10T00:29:01.089845",
     "exception": false,
     "start_time": "2022-03-10T00:29:01.045577",
     "status": "completed"
    },
    "tags": []
   },
   "outputs": [],
   "source": [
    "lr_learner = Learner(loss, model_lr, opt, config.num_epochs)\n",
    "acc_lr = ClfCallback(lr_learner, config.bs, training_data_x , testing_data_x, training_data_y, testing_data_y)\n",
    "lr_learner.set_callbacks([acc_lr])"
   ]
  },
  {
   "cell_type": "code",
   "execution_count": 22,
   "id": "d9b133c3",
   "metadata": {
    "execution": {
     "iopub.execute_input": "2022-03-10T00:29:01.146195Z",
     "iopub.status.busy": "2022-03-10T00:29:01.145694Z",
     "iopub.status.idle": "2022-03-10T00:30:21.650338Z",
     "shell.execute_reply": "2022-03-10T00:30:21.651083Z"
    },
    "papermill": {
     "duration": 80.536723,
     "end_time": "2022-03-10T00:30:21.651225",
     "exception": false,
     "start_time": "2022-03-10T00:29:01.114502",
     "status": "completed"
    },
    "tags": []
   },
   "outputs": [
    {
     "name": "stdout",
     "output_type": "stream",
     "text": [
      "Epoch 0, Loss 0.2337\n",
      "Training Accuracy: 0.7549, Testing Accuracy: 0.7898\n",
      "\n"
     ]
    },
    {
     "name": "stdout",
     "output_type": "stream",
     "text": [
      "Epoch 10, Loss 0.0773\n",
      "Training Accuracy: 0.9289, Testing Accuracy: 0.9390\n",
      "\n"
     ]
    },
    {
     "name": "stdout",
     "output_type": "stream",
     "text": [
      "Epoch 20, Loss 0.0512\n",
      "Training Accuracy: 0.9454, Testing Accuracy: 0.9531\n",
      "\n"
     ]
    },
    {
     "name": "stdout",
     "output_type": "stream",
     "text": [
      "Epoch 30, Loss 0.042\n",
      "Training Accuracy: 0.9523, Testing Accuracy: 0.9607\n",
      "\n"
     ]
    },
    {
     "name": "stdout",
     "output_type": "stream",
     "text": [
      "Epoch 40, Loss 0.037\n",
      "Training Accuracy: 0.9579, Testing Accuracy: 0.9652\n",
      "\n"
     ]
    },
    {
     "name": "stdout",
     "output_type": "stream",
     "text": [
      "Epoch 50, Loss 0.0338\n",
      "Training Accuracy: 0.9611, Testing Accuracy: 0.9667\n",
      "\n"
     ]
    },
    {
     "name": "stdout",
     "output_type": "stream",
     "text": [
      "Epoch 60, Loss 0.0314\n",
      "Training Accuracy: 0.9631, Testing Accuracy: 0.9682\n",
      "\n"
     ]
    },
    {
     "name": "stdout",
     "output_type": "stream",
     "text": [
      "Epoch 70, Loss 0.0296\n",
      "Training Accuracy: 0.9649, Testing Accuracy: 0.9682\n",
      "\n"
     ]
    },
    {
     "name": "stdout",
     "output_type": "stream",
     "text": [
      "Epoch 80, Loss 0.0281\n",
      "Training Accuracy: 0.9664, Testing Accuracy: 0.9682\n",
      "\n"
     ]
    },
    {
     "name": "stdout",
     "output_type": "stream",
     "text": [
      "Epoch 90, Loss 0.0268\n",
      "Training Accuracy: 0.9680, Testing Accuracy: 0.9698\n",
      "\n"
     ]
    },
    {
     "name": "stdout",
     "output_type": "stream",
     "text": [
      "Epoch 100, Loss 0.0257\n",
      "Training Accuracy: 0.9695, Testing Accuracy: 0.9708\n",
      "\n"
     ]
    },
    {
     "name": "stdout",
     "output_type": "stream",
     "text": [
      "Epoch 110, Loss 0.0248\n",
      "Training Accuracy: 0.9710, Testing Accuracy: 0.9718\n",
      "\n"
     ]
    },
    {
     "name": "stdout",
     "output_type": "stream",
     "text": [
      "Epoch 120, Loss 0.0239\n",
      "Training Accuracy: 0.9722, Testing Accuracy: 0.9713\n",
      "\n"
     ]
    },
    {
     "name": "stdout",
     "output_type": "stream",
     "text": [
      "Epoch 130, Loss 0.0231\n",
      "Training Accuracy: 0.9735, Testing Accuracy: 0.9718\n",
      "\n"
     ]
    },
    {
     "name": "stdout",
     "output_type": "stream",
     "text": [
      "Epoch 140, Loss 0.0224\n",
      "Training Accuracy: 0.9746, Testing Accuracy: 0.9728\n",
      "\n"
     ]
    },
    {
     "name": "stdout",
     "output_type": "stream",
     "text": [
      "Epoch 150, Loss 0.0218\n",
      "Training Accuracy: 0.9757, Testing Accuracy: 0.9743\n",
      "\n"
     ]
    },
    {
     "name": "stdout",
     "output_type": "stream",
     "text": [
      "Epoch 160, Loss 0.0212\n",
      "Training Accuracy: 0.9760, Testing Accuracy: 0.9748\n",
      "\n"
     ]
    },
    {
     "name": "stdout",
     "output_type": "stream",
     "text": [
      "Epoch 170, Loss 0.0206\n",
      "Training Accuracy: 0.9766, Testing Accuracy: 0.9748\n",
      "\n"
     ]
    },
    {
     "name": "stdout",
     "output_type": "stream",
     "text": [
      "Epoch 180, Loss 0.0201\n",
      "Training Accuracy: 0.9770, Testing Accuracy: 0.9753\n",
      "\n"
     ]
    },
    {
     "name": "stdout",
     "output_type": "stream",
     "text": [
      "Epoch 190, Loss 0.0195\n",
      "Training Accuracy: 0.9777, Testing Accuracy: 0.9748\n",
      "\n"
     ]
    },
    {
     "name": "stdout",
     "output_type": "stream",
     "text": [
      "Epoch 200, Loss 0.0191\n",
      "Training Accuracy: 0.9783, Testing Accuracy: 0.9748\n",
      "\n"
     ]
    },
    {
     "name": "stdout",
     "output_type": "stream",
     "text": [
      "Epoch 210, Loss 0.0186\n",
      "Training Accuracy: 0.9790, Testing Accuracy: 0.9748\n",
      "\n"
     ]
    },
    {
     "name": "stdout",
     "output_type": "stream",
     "text": [
      "Epoch 220, Loss 0.0181\n",
      "Training Accuracy: 0.9792, Testing Accuracy: 0.9753\n",
      "\n"
     ]
    },
    {
     "name": "stdout",
     "output_type": "stream",
     "text": [
      "Epoch 230, Loss 0.0177\n",
      "Training Accuracy: 0.9801, Testing Accuracy: 0.9753\n",
      "\n"
     ]
    },
    {
     "name": "stdout",
     "output_type": "stream",
     "text": [
      "Epoch 240, Loss 0.0173\n",
      "Training Accuracy: 0.9811, Testing Accuracy: 0.9753\n",
      "\n"
     ]
    },
    {
     "data": {
      "text/plain": [
       "0.009792589133055292"
      ]
     },
     "execution_count": 22,
     "metadata": {},
     "output_type": "execute_result"
    }
   ],
   "source": [
    "nn_learner.train_loop(dl)"
   ]
  },
  {
   "cell_type": "code",
   "execution_count": 23,
   "id": "e0163366",
   "metadata": {
    "execution": {
     "iopub.execute_input": "2022-03-10T00:30:21.735668Z",
     "iopub.status.busy": "2022-03-10T00:30:21.735059Z",
     "iopub.status.idle": "2022-03-10T00:30:35.721070Z",
     "shell.execute_reply": "2022-03-10T00:30:35.721896Z"
    },
    "papermill": {
     "duration": 14.035052,
     "end_time": "2022-03-10T00:30:35.722082",
     "exception": false,
     "start_time": "2022-03-10T00:30:21.687030",
     "status": "completed"
    },
    "tags": []
   },
   "outputs": [
    {
     "name": "stdout",
     "output_type": "stream",
     "text": [
      "Epoch 0, Loss 0.2598\n",
      "Training Accuracy: 0.6329, Testing Accuracy: 0.6442\n",
      "\n"
     ]
    },
    {
     "name": "stdout",
     "output_type": "stream",
     "text": [
      "Epoch 10, Loss 0.1026\n",
      "Training Accuracy: 0.9150, Testing Accuracy: 0.9274\n",
      "\n"
     ]
    },
    {
     "name": "stdout",
     "output_type": "stream",
     "text": [
      "Epoch 20, Loss 0.0786\n",
      "Training Accuracy: 0.9311, Testing Accuracy: 0.9395\n",
      "\n"
     ]
    },
    {
     "name": "stdout",
     "output_type": "stream",
     "text": [
      "Epoch 30, Loss 0.0678\n",
      "Training Accuracy: 0.9371, Testing Accuracy: 0.9511\n",
      "\n"
     ]
    },
    {
     "name": "stdout",
     "output_type": "stream",
     "text": [
      "Epoch 40, Loss 0.0614\n",
      "Training Accuracy: 0.9427, Testing Accuracy: 0.9536\n",
      "\n"
     ]
    },
    {
     "name": "stdout",
     "output_type": "stream",
     "text": [
      "Epoch 50, Loss 0.057\n",
      "Training Accuracy: 0.9449, Testing Accuracy: 0.9551\n",
      "\n"
     ]
    },
    {
     "name": "stdout",
     "output_type": "stream",
     "text": [
      "Epoch 60, Loss 0.0537\n",
      "Training Accuracy: 0.9479, Testing Accuracy: 0.9592\n",
      "\n"
     ]
    },
    {
     "name": "stdout",
     "output_type": "stream",
     "text": [
      "Epoch 70, Loss 0.0512\n",
      "Training Accuracy: 0.9499, Testing Accuracy: 0.9597\n",
      "\n"
     ]
    },
    {
     "name": "stdout",
     "output_type": "stream",
     "text": [
      "Epoch 80, Loss 0.0492\n",
      "Training Accuracy: 0.9516, Testing Accuracy: 0.9607\n",
      "\n"
     ]
    },
    {
     "name": "stdout",
     "output_type": "stream",
     "text": [
      "Epoch 90, Loss 0.0475\n",
      "Training Accuracy: 0.9522, Testing Accuracy: 0.9612\n",
      "\n"
     ]
    },
    {
     "name": "stdout",
     "output_type": "stream",
     "text": [
      "Epoch 100, Loss 0.0461\n",
      "Training Accuracy: 0.9531, Testing Accuracy: 0.9612\n",
      "\n"
     ]
    },
    {
     "name": "stdout",
     "output_type": "stream",
     "text": [
      "Epoch 110, Loss 0.0449\n",
      "Training Accuracy: 0.9539, Testing Accuracy: 0.9632\n",
      "\n"
     ]
    },
    {
     "name": "stdout",
     "output_type": "stream",
     "text": [
      "Epoch 120, Loss 0.0438\n",
      "Training Accuracy: 0.9546, Testing Accuracy: 0.9642\n",
      "\n"
     ]
    },
    {
     "name": "stdout",
     "output_type": "stream",
     "text": [
      "Epoch 130, Loss 0.0429\n",
      "Training Accuracy: 0.9556, Testing Accuracy: 0.9642\n",
      "\n"
     ]
    },
    {
     "name": "stdout",
     "output_type": "stream",
     "text": [
      "Epoch 140, Loss 0.0421\n",
      "Training Accuracy: 0.9565, Testing Accuracy: 0.9642\n",
      "\n"
     ]
    },
    {
     "name": "stdout",
     "output_type": "stream",
     "text": [
      "Epoch 150, Loss 0.0413\n",
      "Training Accuracy: 0.9568, Testing Accuracy: 0.9642\n",
      "\n"
     ]
    },
    {
     "name": "stdout",
     "output_type": "stream",
     "text": [
      "Epoch 160, Loss 0.0407\n",
      "Training Accuracy: 0.9569, Testing Accuracy: 0.9647\n",
      "\n"
     ]
    },
    {
     "name": "stdout",
     "output_type": "stream",
     "text": [
      "Epoch 170, Loss 0.0401\n",
      "Training Accuracy: 0.9573, Testing Accuracy: 0.9652\n",
      "\n"
     ]
    },
    {
     "name": "stdout",
     "output_type": "stream",
     "text": [
      "Epoch 180, Loss 0.0395\n",
      "Training Accuracy: 0.9578, Testing Accuracy: 0.9667\n",
      "\n"
     ]
    },
    {
     "name": "stdout",
     "output_type": "stream",
     "text": [
      "Epoch 190, Loss 0.039\n",
      "Training Accuracy: 0.9579, Testing Accuracy: 0.9677\n",
      "\n"
     ]
    },
    {
     "name": "stdout",
     "output_type": "stream",
     "text": [
      "Epoch 200, Loss 0.0385\n",
      "Training Accuracy: 0.9589, Testing Accuracy: 0.9688\n",
      "\n"
     ]
    },
    {
     "name": "stdout",
     "output_type": "stream",
     "text": [
      "Epoch 210, Loss 0.0381\n",
      "Training Accuracy: 0.9593, Testing Accuracy: 0.9693\n",
      "\n"
     ]
    },
    {
     "name": "stdout",
     "output_type": "stream",
     "text": [
      "Epoch 220, Loss 0.0377\n",
      "Training Accuracy: 0.9594, Testing Accuracy: 0.9693\n",
      "\n"
     ]
    },
    {
     "name": "stdout",
     "output_type": "stream",
     "text": [
      "Epoch 230, Loss 0.0373\n",
      "Training Accuracy: 0.9596, Testing Accuracy: 0.9693\n",
      "\n"
     ]
    },
    {
     "name": "stdout",
     "output_type": "stream",
     "text": [
      "Epoch 240, Loss 0.0369\n",
      "Training Accuracy: 0.9598, Testing Accuracy: 0.9693\n",
      "\n"
     ]
    },
    {
     "data": {
      "text/plain": [
       "0.038775370346214644"
      ]
     },
     "execution_count": 23,
     "metadata": {},
     "output_type": "execute_result"
    }
   ],
   "source": [
    "lr_learner.train_loop(dl)"
   ]
  },
  {
   "cell_type": "code",
   "execution_count": 24,
   "id": "ca410940",
   "metadata": {
    "execution": {
     "iopub.execute_input": "2022-03-10T00:30:35.823491Z",
     "iopub.status.busy": "2022-03-10T00:30:35.822986Z",
     "iopub.status.idle": "2022-03-10T00:30:36.049064Z",
     "shell.execute_reply": "2022-03-10T00:30:36.048556Z"
    },
    "papermill": {
     "duration": 0.282071,
     "end_time": "2022-03-10T00:30:36.049190",
     "exception": false,
     "start_time": "2022-03-10T00:30:35.767119",
     "status": "completed"
    },
    "tags": []
   },
   "outputs": [
    {
     "data": {
      "text/plain": [
       "<matplotlib.legend.Legend at 0x7f159eb94d30>"
      ]
     },
     "execution_count": 24,
     "metadata": {},
     "output_type": "execute_result"
    },
    {
     "data": {
      "image/png": "[encoded data removed]",
      "text/plain": [
       "<Figure size 1080x720 with 1 Axes>"
      ]
     },
     "metadata": {
      "needs_background": "light"
     },
     "output_type": "display_data"
    }
   ],
   "source": [
    "#comparing the results of NN and LR\n",
    "plt.figure(figsize=(15,10))\n",
    "\n",
    "# Neural Network plots\n",
    "plt.plot(acc_nn.accuracies, 'r-', label = \"Training Accuracies - NN\")\n",
    "plt.plot(acc_nn.test_accuracies, 'g-', label = \"Testing Accuracies - NN\")\n",
    "\n",
    "# Logistic Regression plots\n",
    "plt.plot(acc_lr.accuracies, 'k-', label = \"Training Accuracies - LR\")\n",
    "plt.plot(acc_lr.test_accuracies, 'b-', label = \"Testing Accuracies - LR\")\n",
    "plt.legend()"
   ]
  },
  {
   "cell_type": "markdown",
   "id": "80dfb35c",
   "metadata": {
    "papermill": {
     "duration": 0.043713,
     "end_time": "2022-03-10T00:30:36.137578",
     "exception": false,
     "start_time": "2022-03-10T00:30:36.093865",
     "status": "completed"
    },
    "tags": []
   },
   "source": [
    "#### Plotting the outputs of this layer of the NN.\n"
   ]
  },
  {
   "cell_type": "code",
   "execution_count": 25,
   "id": "45eb2ff5",
   "metadata": {
    "execution": {
     "iopub.execute_input": "2022-03-10T00:30:36.225999Z",
     "iopub.status.busy": "2022-03-10T00:30:36.224870Z",
     "iopub.status.idle": "2022-03-10T00:30:36.247174Z",
     "shell.execute_reply": "2022-03-10T00:30:36.247620Z"
    },
    "papermill": {
     "duration": 0.068361,
     "end_time": "2022-03-10T00:30:36.247770",
     "exception": false,
     "start_time": "2022-03-10T00:30:36.179409",
     "status": "completed"
    },
    "tags": []
   },
   "outputs": [],
   "source": [
    "new_model = Model(layers[:-2])\n",
    "testing_plot = new_model(testing_data_x)"
   ]
  },
  {
   "cell_type": "code",
   "execution_count": 26,
   "id": "4c0a5485",
   "metadata": {
    "execution": {
     "iopub.execute_input": "2022-03-10T00:30:36.356639Z",
     "iopub.status.busy": "2022-03-10T00:30:36.355939Z",
     "iopub.status.idle": "2022-03-10T00:30:36.581231Z",
     "shell.execute_reply": "2022-03-10T00:30:36.581969Z"
    },
    "papermill": {
     "duration": 0.290635,
     "end_time": "2022-03-10T00:30:36.582222",
     "exception": false,
     "start_time": "2022-03-10T00:30:36.291587",
     "status": "completed"
    },
    "tags": []
   },
   "outputs": [
    {
     "data": {
      "text/plain": [
       "Text(0.5, 1.0, 'Outputs')"
      ]
     },
     "execution_count": 26,
     "metadata": {},
     "output_type": "execute_result"
    },
    {
     "data": {
      "image/png": "[encoded data removed]",
      "text/plain": [
       "<Figure size 576x504 with 1 Axes>"
      ]
     },
     "metadata": {
      "needs_background": "light"
     },
     "output_type": "display_data"
    }
   ],
   "source": [
    "# Plotting the scatter plot of points and color coding by class\n",
    "plt.figure(figsize=(8,7))\n",
    "plt.scatter(testing_plot[:,0], testing_plot[:,1], alpha = 0.1, c = y_test.ravel());\n",
    "plt.title('Outputs')"
   ]
  },
  {
   "cell_type": "markdown",
   "id": "a74fcf8f",
   "metadata": {
    "papermill": {
     "duration": 0.043435,
     "end_time": "2022-03-10T00:30:36.671222",
     "exception": false,
     "start_time": "2022-03-10T00:30:36.627787",
     "status": "completed"
    },
    "tags": []
   },
   "source": [
    "Probability contours"
   ]
  },
  {
   "cell_type": "code",
   "execution_count": 27,
   "id": "d0afc8e3",
   "metadata": {
    "execution": {
     "iopub.execute_input": "2022-03-10T00:30:36.771186Z",
     "iopub.status.busy": "2022-03-10T00:30:36.770691Z",
     "iopub.status.idle": "2022-03-10T00:30:36.781576Z",
     "shell.execute_reply": "2022-03-10T00:30:36.781950Z"
    },
    "papermill": {
     "duration": 0.062561,
     "end_time": "2022-03-10T00:30:36.782100",
     "exception": false,
     "start_time": "2022-03-10T00:30:36.719539",
     "status": "completed"
    },
    "tags": []
   },
   "outputs": [],
   "source": [
    "model_prob = Model(layers[-2:]) "
   ]
  },
  {
   "cell_type": "code",
   "execution_count": 28,
   "id": "9b96e238",
   "metadata": {
    "execution": {
     "iopub.execute_input": "2022-03-10T00:30:36.876428Z",
     "iopub.status.busy": "2022-03-10T00:30:36.875853Z",
     "iopub.status.idle": "2022-03-10T00:30:36.891124Z",
     "shell.execute_reply": "2022-03-10T00:30:36.891518Z"
    },
    "papermill": {
     "duration": 0.064613,
     "end_time": "2022-03-10T00:30:36.891645",
     "exception": false,
     "start_time": "2022-03-10T00:30:36.827032",
     "status": "completed"
    },
    "tags": []
   },
   "outputs": [],
   "source": [
    "#creating the x and y ranges according to the above generated plot.\n",
    "x_range = np.linspace(-4, 1, 100) \n",
    "y_range = np.linspace(-6, 6, 100) \n",
    "x_grid, y_grid = np.meshgrid(x_range, y_range) # x_grid and y_grig are of size 100 X 100\n",
    "\n",
    "# converting x_grid and y_grid to continuous arrays\n",
    "x_gridflat = np.ravel(x_grid)\n",
    "y_gridflat = np.ravel(y_grid)\n",
    "\n",
    "# The last layer of the current model takes two columns as input. Hence transpose of np.vstack() is required.\n",
    "X = np.vstack((x_gridflat, y_gridflat)).T\n",
    "\n",
    "prob_contour = model_prob(X).reshape(100,100) "
   ]
  },
  {
   "cell_type": "code",
   "execution_count": 29,
   "id": "da72499a",
   "metadata": {
    "execution": {
     "iopub.execute_input": "2022-03-10T00:30:37.020872Z",
     "iopub.status.busy": "2022-03-10T00:30:37.018448Z",
     "iopub.status.idle": "2022-03-10T00:30:37.289295Z",
     "shell.execute_reply": "2022-03-10T00:30:37.288764Z"
    },
    "papermill": {
     "duration": 0.325294,
     "end_time": "2022-03-10T00:30:37.289427",
     "exception": false,
     "start_time": "2022-03-10T00:30:36.964133",
     "status": "completed"
    },
    "tags": []
   },
   "outputs": [
    {
     "data": {
      "image/png": "[encoded data removed]",
      "text/plain": [
       "<Figure size 720x648 with 1 Axes>"
      ]
     },
     "metadata": {
      "needs_background": "light"
     },
     "output_type": "display_data"
    }
   ],
   "source": [
    "plt.figure(figsize=(10,9))\n",
    "plt.scatter(testing_plot[:,0], testing_plot[:,1], alpha = 0.1, c = y_test.ravel())\n",
    "contours = plt.contour(x_grid,y_grid,prob_contour)\n",
    "plt.title('Probability Contours')\n",
    "plt.clabel(contours, inline = True );"
   ]
  },
  {
   "cell_type": "code",
   "execution_count": null,
   "id": "e81b4ac7",
   "metadata": {
    "papermill": {
     "duration": 0.047029,
     "end_time": "2022-03-10T00:30:37.383090",
     "exception": false,
     "start_time": "2022-03-10T00:30:37.336061",
     "status": "completed"
    },
    "tags": []
   },
   "outputs": [],
   "source": []
  }
 ],
 "metadata": {
  "kernelspec": {
   "display_name": "Python 3",
   "language": "python",
   "name": "python3"
  },
  "language_info": {
   "codemirror_mode": {
    "name": "ipython",
    "version": 3
   },
   "file_extension": ".py",
   "mimetype": "text/x-python",
   "name": "python",
   "nbconvert_exporter": "python",
   "pygments_lexer": "ipython3",
   "version": "3.6.15"
  },
  "papermill": {
   "default_parameters": {},
   "duration": 103.08695,
   "end_time": "2022-03-10T00:30:37.849302",
   "environment_variables": {},
   "exception": null,
   "input_path": "2020-08-11-part2.ipynb",
   "output_path": "2020-08-11-part2.ipynb",
   "parameters": {},
   "start_time": "2022-03-10T00:28:54.762352",
   "version": "2.3.3"
  }
 },
 "nbformat": 4,
 "nbformat_minor": 5
}