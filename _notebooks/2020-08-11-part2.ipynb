{
 "cells": [
  {
   "cell_type": "markdown",
   "id": "98380cd3",
   "metadata": {
    "papermill": {
     "duration": 0.030155,
     "end_time": "2022-11-23T10:10:42.325926",
     "exception": false,
     "start_time": "2022-11-23T10:10:42.295771",
     "status": "completed"
    },
    "tags": []
   },
   "source": [
    "# Distinguish Your Own Digits (DYOD)"
   ]
  },
  {
   "cell_type": "markdown",
   "id": "ef31240d",
   "metadata": {
    "papermill": {
     "duration": 0.023393,
     "end_time": "2022-11-23T10:10:42.373503",
     "exception": false,
     "start_time": "2022-11-23T10:10:42.350110",
     "status": "completed"
    },
    "tags": []
   },
   "source": [
    "You are going to write a classifier that distinguishes between the number 3 and number 8."
   ]
  },
  {
   "cell_type": "code",
   "execution_count": 1,
   "id": "b15c8646",
   "metadata": {
    "execution": {
     "iopub.execute_input": "2022-11-23T10:10:42.431157Z",
     "iopub.status.busy": "2022-11-23T10:10:42.430569Z",
     "iopub.status.idle": "2022-11-23T10:10:42.441633Z",
     "shell.execute_reply": "2022-11-23T10:10:42.441144Z"
    },
    "papermill": {
     "duration": 0.044926,
     "end_time": "2022-11-23T10:10:42.441752",
     "exception": false,
     "start_time": "2022-11-23T10:10:42.396826",
     "status": "completed"
    },
    "tags": []
   },
   "outputs": [],
   "source": [
    "%load_ext autoreload\n",
    "%autoreload 2"
   ]
  },
  {
   "cell_type": "code",
   "execution_count": 2,
   "id": "22ef38dc",
   "metadata": {
    "execution": {
     "iopub.execute_input": "2022-11-23T10:10:42.492844Z",
     "iopub.status.busy": "2022-11-23T10:10:42.492262Z",
     "iopub.status.idle": "2022-11-23T10:10:43.028545Z",
     "shell.execute_reply": "2022-11-23T10:10:43.028039Z"
    },
    "papermill": {
     "duration": 0.563498,
     "end_time": "2022-11-23T10:10:43.028672",
     "exception": false,
     "start_time": "2022-11-23T10:10:42.465174",
     "status": "completed"
    },
    "tags": []
   },
   "outputs": [],
   "source": [
    "%matplotlib inline\n",
    "import numpy as np\n",
    "import matplotlib.pyplot as plt\n",
    "import pandas as pd"
   ]
  },
  {
   "cell_type": "markdown",
   "id": "ba036198",
   "metadata": {
    "papermill": {
     "duration": 0.023717,
     "end_time": "2022-11-23T10:10:43.075882",
     "exception": false,
     "start_time": "2022-11-23T10:10:43.052165",
     "status": "completed"
    },
    "tags": []
   },
   "source": [
    "From the command line run `pip install mnist`. This is a library that will help you bring down the mnist dataset. If you run this from a notebook, you need to put  `!pip install mnist` in a cell by itself."
   ]
  },
  {
   "cell_type": "code",
   "execution_count": 3,
   "id": "bb6ad8a1",
   "metadata": {
    "execution": {
     "iopub.execute_input": "2022-11-23T10:10:43.129689Z",
     "iopub.status.busy": "2022-11-23T10:10:43.129036Z",
     "iopub.status.idle": "2022-11-23T10:10:44.716277Z",
     "shell.execute_reply": "2022-11-23T10:10:44.715678Z"
    },
    "papermill": {
     "duration": 1.616857,
     "end_time": "2022-11-23T10:10:44.716410",
     "exception": false,
     "start_time": "2022-11-23T10:10:43.099553",
     "status": "completed"
    },
    "tags": []
   },
   "outputs": [
    {
     "name": "stdout",
     "output_type": "stream",
     "text": [
      "Collecting mnist\r\n",
      "  Downloading mnist-0.2.2-py2.py3-none-any.whl (3.5 kB)\r\n"
     ]
    },
    {
     "name": "stdout",
     "output_type": "stream",
     "text": [
      "Requirement already satisfied: numpy in /opt/hostedtoolcache/Python/3.6.15/x64/lib/python3.6/site-packages (from mnist) (1.19.5)\r\n"
     ]
    },
    {
     "name": "stdout",
     "output_type": "stream",
     "text": [
      "Installing collected packages: mnist\r\n"
     ]
    },
    {
     "name": "stdout",
     "output_type": "stream",
     "text": [
      "Successfully installed mnist-0.2.2\r\n"
     ]
    }
   ],
   "source": [
    "!pip install mnist"
   ]
  },
  {
   "cell_type": "markdown",
   "id": "69df9c9a",
   "metadata": {
    "papermill": {
     "duration": 0.024799,
     "end_time": "2022-11-23T10:10:44.767025",
     "exception": false,
     "start_time": "2022-11-23T10:10:44.742226",
     "status": "completed"
    },
    "tags": []
   },
   "source": [
    "## Preparing the Data"
   ]
  },
  {
   "cell_type": "code",
   "execution_count": 4,
   "id": "7f69d806",
   "metadata": {
    "execution": {
     "iopub.execute_input": "2022-11-23T10:10:44.822612Z",
     "iopub.status.busy": "2022-11-23T10:10:44.821935Z",
     "iopub.status.idle": "2022-11-23T10:10:44.834619Z",
     "shell.execute_reply": "2022-11-23T10:10:44.834077Z"
    },
    "papermill": {
     "duration": 0.043291,
     "end_time": "2022-11-23T10:10:44.834735",
     "exception": false,
     "start_time": "2022-11-23T10:10:44.791444",
     "status": "completed"
    },
    "tags": []
   },
   "outputs": [],
   "source": [
    "import mnist"
   ]
  },
  {
   "cell_type": "code",
   "execution_count": 5,
   "id": "a411e44f",
   "metadata": {
    "execution": {
     "iopub.execute_input": "2022-11-23T10:10:44.897304Z",
     "iopub.status.busy": "2022-11-23T10:10:44.896630Z",
     "iopub.status.idle": "2022-11-23T10:10:45.410913Z",
     "shell.execute_reply": "2022-11-23T10:10:45.410330Z"
    },
    "papermill": {
     "duration": 0.550881,
     "end_time": "2022-11-23T10:10:45.411052",
     "exception": false,
     "start_time": "2022-11-23T10:10:44.860171",
     "status": "completed"
    },
    "tags": []
   },
   "outputs": [],
   "source": [
    "train_images = mnist.train_images()\n",
    "train_labels = mnist.train_labels()"
   ]
  },
  {
   "cell_type": "code",
   "execution_count": 6,
   "id": "dceab3a5",
   "metadata": {
    "execution": {
     "iopub.execute_input": "2022-11-23T10:10:45.466898Z",
     "iopub.status.busy": "2022-11-23T10:10:45.466295Z",
     "iopub.status.idle": "2022-11-23T10:10:45.482063Z",
     "shell.execute_reply": "2022-11-23T10:10:45.482778Z"
    },
    "papermill": {
     "duration": 0.046361,
     "end_time": "2022-11-23T10:10:45.482908",
     "exception": false,
     "start_time": "2022-11-23T10:10:45.436547",
     "status": "completed"
    },
    "tags": []
   },
   "outputs": [
    {
     "data": {
      "text/plain": [
       "((60000, 28, 28), (60000,))"
      ]
     },
     "execution_count": 6,
     "metadata": {},
     "output_type": "execute_result"
    }
   ],
   "source": [
    "train_images.shape, train_labels.shape"
   ]
  },
  {
   "cell_type": "code",
   "execution_count": 7,
   "id": "f50dc2bb",
   "metadata": {
    "execution": {
     "iopub.execute_input": "2022-11-23T10:10:45.535095Z",
     "iopub.status.busy": "2022-11-23T10:10:45.534532Z",
     "iopub.status.idle": "2022-11-23T10:10:45.688842Z",
     "shell.execute_reply": "2022-11-23T10:10:45.688336Z"
    },
    "papermill": {
     "duration": 0.181446,
     "end_time": "2022-11-23T10:10:45.688968",
     "exception": false,
     "start_time": "2022-11-23T10:10:45.507522",
     "status": "completed"
    },
    "tags": []
   },
   "outputs": [],
   "source": [
    "test_images = mnist.test_images()\n",
    "test_labels = mnist.test_labels()"
   ]
  },
  {
   "cell_type": "code",
   "execution_count": 8,
   "id": "fc38cf1b",
   "metadata": {
    "execution": {
     "iopub.execute_input": "2022-11-23T10:10:45.743098Z",
     "iopub.status.busy": "2022-11-23T10:10:45.742424Z",
     "iopub.status.idle": "2022-11-23T10:10:45.757495Z",
     "shell.execute_reply": "2022-11-23T10:10:45.757941Z"
    },
    "papermill": {
     "duration": 0.04398,
     "end_time": "2022-11-23T10:10:45.758072",
     "exception": false,
     "start_time": "2022-11-23T10:10:45.714092",
     "status": "completed"
    },
    "tags": []
   },
   "outputs": [
    {
     "data": {
      "text/plain": [
       "((10000, 28, 28), (10000,))"
      ]
     },
     "execution_count": 8,
     "metadata": {},
     "output_type": "execute_result"
    }
   ],
   "source": [
    "test_images.shape, test_labels.shape"
   ]
  },
  {
   "cell_type": "code",
   "execution_count": 9,
   "id": "f9ed8fe0",
   "metadata": {
    "execution": {
     "iopub.execute_input": "2022-11-23T10:10:45.811680Z",
     "iopub.status.busy": "2022-11-23T10:10:45.811117Z",
     "iopub.status.idle": "2022-11-23T10:10:45.947890Z",
     "shell.execute_reply": "2022-11-23T10:10:45.948409Z"
    },
    "papermill": {
     "duration": 0.165697,
     "end_time": "2022-11-23T10:10:45.948559",
     "exception": false,
     "start_time": "2022-11-23T10:10:45.782862",
     "status": "completed"
    },
    "tags": []
   },
   "outputs": [
    {
     "name": "stdout",
     "output_type": "stream",
     "text": [
      "2\n"
     ]
    },
    {
     "data": {
      "text/plain": [
       "<matplotlib.image.AxesImage at 0x7f0f92641d68>"
      ]
     },
     "execution_count": 9,
     "metadata": {},
     "output_type": "execute_result"
    },
    {
     "data": {
      "image/png": "[encoded data removed]",
      "text/plain": [
       "<Figure size 432x288 with 1 Axes>"
      ]
     },
     "metadata": {
      "needs_background": "light"
     },
     "output_type": "display_data"
    }
   ],
   "source": [
    "image_index = 7776 # You may select anything up to 60,000\n",
    "print(train_labels[image_index]) \n",
    "plt.imshow(train_images[image_index], cmap='Greys')"
   ]
  },
  {
   "cell_type": "markdown",
   "id": "a8d2388d",
   "metadata": {
    "papermill": {
     "duration": 0.026457,
     "end_time": "2022-11-23T10:10:46.001634",
     "exception": false,
     "start_time": "2022-11-23T10:10:45.975177",
     "status": "completed"
    },
    "tags": []
   },
   "source": [
    "## Filter data to get 3 and 8 out"
   ]
  },
  {
   "cell_type": "code",
   "execution_count": 10,
   "id": "776f7fc7",
   "metadata": {
    "execution": {
     "iopub.execute_input": "2022-11-23T10:10:46.058087Z",
     "iopub.status.busy": "2022-11-23T10:10:46.057489Z",
     "iopub.status.idle": "2022-11-23T10:10:46.076745Z",
     "shell.execute_reply": "2022-11-23T10:10:46.077287Z"
    },
    "papermill": {
     "duration": 0.04999,
     "end_time": "2022-11-23T10:10:46.077428",
     "exception": false,
     "start_time": "2022-11-23T10:10:46.027438",
     "status": "completed"
    },
    "tags": []
   },
   "outputs": [],
   "source": [
    "train_filter = np.where((train_labels == 3 ) | (train_labels == 8))\n",
    "test_filter = np.where((test_labels == 3) | (test_labels == 8))\n",
    "X_train, y_train = train_images[train_filter], train_labels[train_filter]\n",
    "X_test, y_test = test_images[test_filter], test_labels[test_filter]"
   ]
  },
  {
   "cell_type": "markdown",
   "id": "948f0b7e",
   "metadata": {
    "papermill": {
     "duration": 0.026353,
     "end_time": "2022-11-23T10:10:46.130525",
     "exception": false,
     "start_time": "2022-11-23T10:10:46.104172",
     "status": "completed"
    },
    "tags": []
   },
   "source": [
    "We normalize the pizel values in the 0 to 1 range"
   ]
  },
  {
   "cell_type": "code",
   "execution_count": 11,
   "id": "ee4c2166",
   "metadata": {
    "execution": {
     "iopub.execute_input": "2022-11-23T10:10:46.186415Z",
     "iopub.status.busy": "2022-11-23T10:10:46.185835Z",
     "iopub.status.idle": "2022-11-23T10:10:46.236428Z",
     "shell.execute_reply": "2022-11-23T10:10:46.235896Z"
    },
    "papermill": {
     "duration": 0.08013,
     "end_time": "2022-11-23T10:10:46.236548",
     "exception": false,
     "start_time": "2022-11-23T10:10:46.156418",
     "status": "completed"
    },
    "tags": []
   },
   "outputs": [],
   "source": [
    "X_train = X_train/255.\n",
    "X_test = X_test/255."
   ]
  },
  {
   "cell_type": "markdown",
   "id": "ddcf4fab",
   "metadata": {
    "papermill": {
     "duration": 0.025998,
     "end_time": "2022-11-23T10:10:46.288924",
     "exception": false,
     "start_time": "2022-11-23T10:10:46.262926",
     "status": "completed"
    },
    "tags": []
   },
   "source": [
    "And setup the labels as 1 (when the digit is 3) and 0 (when the digit is 8)"
   ]
  },
  {
   "cell_type": "code",
   "execution_count": 12,
   "id": "7dc908f2",
   "metadata": {
    "execution": {
     "iopub.execute_input": "2022-11-23T10:10:46.344830Z",
     "iopub.status.busy": "2022-11-23T10:10:46.344254Z",
     "iopub.status.idle": "2022-11-23T10:10:46.356998Z",
     "shell.execute_reply": "2022-11-23T10:10:46.357496Z"
    },
    "papermill": {
     "duration": 0.042753,
     "end_time": "2022-11-23T10:10:46.357625",
     "exception": false,
     "start_time": "2022-11-23T10:10:46.314872",
     "status": "completed"
    },
    "tags": []
   },
   "outputs": [],
   "source": [
    "y_train = 1*(y_train==3)\n",
    "y_test = 1*(y_test==3)"
   ]
  },
  {
   "cell_type": "code",
   "execution_count": 13,
   "id": "01e4e969",
   "metadata": {
    "execution": {
     "iopub.execute_input": "2022-11-23T10:10:46.419180Z",
     "iopub.status.busy": "2022-11-23T10:10:46.418610Z",
     "iopub.status.idle": "2022-11-23T10:10:46.428364Z",
     "shell.execute_reply": "2022-11-23T10:10:46.427902Z"
    },
    "papermill": {
     "duration": 0.044907,
     "end_time": "2022-11-23T10:10:46.428467",
     "exception": false,
     "start_time": "2022-11-23T10:10:46.383560",
     "status": "completed"
    },
    "tags": []
   },
   "outputs": [
    {
     "data": {
      "text/plain": [
       "((11982, 28, 28), (1984, 28, 28))"
      ]
     },
     "execution_count": 13,
     "metadata": {},
     "output_type": "execute_result"
    }
   ],
   "source": [
    "X_train.shape, X_test.shape"
   ]
  },
  {
   "cell_type": "markdown",
   "id": "5ccf3f85",
   "metadata": {
    "papermill": {
     "duration": 0.025926,
     "end_time": "2022-11-23T10:10:46.480887",
     "exception": false,
     "start_time": "2022-11-23T10:10:46.454961",
     "status": "completed"
    },
    "tags": []
   },
   "source": [
    "We reshape the data to flatten the image pixels into a set of features or co-variates:"
   ]
  },
  {
   "cell_type": "code",
   "execution_count": 14,
   "id": "5286a4a3",
   "metadata": {
    "execution": {
     "iopub.execute_input": "2022-11-23T10:10:46.537334Z",
     "iopub.status.busy": "2022-11-23T10:10:46.536724Z",
     "iopub.status.idle": "2022-11-23T10:10:46.553220Z",
     "shell.execute_reply": "2022-11-23T10:10:46.553776Z"
    },
    "papermill": {
     "duration": 0.046795,
     "end_time": "2022-11-23T10:10:46.553906",
     "exception": false,
     "start_time": "2022-11-23T10:10:46.507111",
     "status": "completed"
    },
    "tags": []
   },
   "outputs": [
    {
     "data": {
      "text/plain": [
       "((11982, 784), (1984, 784))"
      ]
     },
     "execution_count": 14,
     "metadata": {},
     "output_type": "execute_result"
    }
   ],
   "source": [
    "X_train = X_train.reshape(X_train.shape[0], -1)\n",
    "X_test = X_test.reshape(X_test.shape[0], -1)\n",
    "X_train.shape, X_test.shape"
   ]
  },
  {
   "cell_type": "code",
   "execution_count": 15,
   "id": "73c5f88a",
   "metadata": {
    "execution": {
     "iopub.execute_input": "2022-11-23T10:10:46.611805Z",
     "iopub.status.busy": "2022-11-23T10:10:46.611214Z",
     "iopub.status.idle": "2022-11-23T10:10:46.630678Z",
     "shell.execute_reply": "2022-11-23T10:10:46.630206Z"
    },
    "papermill": {
     "duration": 0.050475,
     "end_time": "2022-11-23T10:10:46.630795",
     "exception": false,
     "start_time": "2022-11-23T10:10:46.580320",
     "status": "completed"
    },
    "tags": []
   },
   "outputs": [],
   "source": [
    "#Impoting functions from 'Kudzu'\n",
    "from kudzu.model import Model\n",
    "from kudzu.train import Learner\n",
    "from kudzu.optim import GD\n",
    "from kudzu.data import Data, Sampler,Dataloader\n",
    "\n",
    "from kudzu.callbacks import AccCallback\n",
    "from kudzu.callbacks import ClfCallback\n",
    "\n",
    "from kudzu.loss import MSE\n",
    "\n",
    "from kudzu.layer import Sigmoid,Relu\n",
    "from kudzu.layer import Affine"
   ]
  },
  {
   "cell_type": "markdown",
   "id": "bc01172a",
   "metadata": {
    "papermill": {
     "duration": 0.026326,
     "end_time": "2022-11-23T10:10:46.683677",
     "exception": false,
     "start_time": "2022-11-23T10:10:46.657351",
     "status": "completed"
    },
    "tags": []
   },
   "source": [
    "### Let us create a `Config` class, to store important parameters. \n",
    "This class essentially plays the role of a dictionary."
   ]
  },
  {
   "cell_type": "code",
   "execution_count": 16,
   "id": "978281aa",
   "metadata": {
    "execution": {
     "iopub.execute_input": "2022-11-23T10:10:46.746546Z",
     "iopub.status.busy": "2022-11-23T10:10:46.745942Z",
     "iopub.status.idle": "2022-11-23T10:10:46.755522Z",
     "shell.execute_reply": "2022-11-23T10:10:46.755047Z"
    },
    "papermill": {
     "duration": 0.045556,
     "end_time": "2022-11-23T10:10:46.755632",
     "exception": false,
     "start_time": "2022-11-23T10:10:46.710076",
     "status": "completed"
    },
    "tags": []
   },
   "outputs": [],
   "source": [
    "class Config:\n",
    "    pass\n",
    "config = Config()\n",
    "config.lr = 0.001\n",
    "config.num_epochs = 250\n",
    "config.bs = 50"
   ]
  },
  {
   "cell_type": "markdown",
   "id": "1385fa59",
   "metadata": {
    "papermill": {
     "duration": 0.026268,
     "end_time": "2022-11-23T10:10:46.808389",
     "exception": false,
     "start_time": "2022-11-23T10:10:46.782121",
     "status": "completed"
    },
    "tags": []
   },
   "source": [
    "### Running Models with the Training data\n",
    "Details about the network layers:\n",
    "- A first affine layer has 784 inputs and does 100 affine transforms. These are followed by a Relu\n",
    "- A second affine layer has 100 inputs from the 100 activations of the past layer, and does 100 affine transforms. These are followed by a Relu\n",
    "- A third affine layer has 100 activations and does 2 affine transformations to create an embedding for visualization. There is no non-linearity here.\n",
    "- A final \"logistic regression\" which has an affine transform from 2 inputs to 1 output, which is squeezed through a sigmoid.\n"
   ]
  },
  {
   "cell_type": "code",
   "execution_count": 17,
   "id": "2b9c66db",
   "metadata": {
    "execution": {
     "iopub.execute_input": "2022-11-23T10:10:46.871478Z",
     "iopub.status.busy": "2022-11-23T10:10:46.870878Z",
     "iopub.status.idle": "2022-11-23T10:10:46.879905Z",
     "shell.execute_reply": "2022-11-23T10:10:46.879432Z"
    },
    "papermill": {
     "duration": 0.045165,
     "end_time": "2022-11-23T10:10:46.880019",
     "exception": false,
     "start_time": "2022-11-23T10:10:46.834854",
     "status": "completed"
    },
    "tags": []
   },
   "outputs": [],
   "source": [
    "data = Data(X_train, y_train.reshape(-1,1))\n",
    "sampler = Sampler(data, config.bs, shuffle=True)\n",
    "\n",
    "dl = Dataloader(data, sampler)\n",
    "\n",
    "opt = GD(config.lr)\n",
    "loss = MSE()"
   ]
  },
  {
   "cell_type": "code",
   "execution_count": 18,
   "id": "b275e4c2",
   "metadata": {
    "execution": {
     "iopub.execute_input": "2022-11-23T10:10:46.937404Z",
     "iopub.status.busy": "2022-11-23T10:10:46.936761Z",
     "iopub.status.idle": "2022-11-23T10:10:46.950077Z",
     "shell.execute_reply": "2022-11-23T10:10:46.949607Z"
    },
    "papermill": {
     "duration": 0.043375,
     "end_time": "2022-11-23T10:10:46.950186",
     "exception": false,
     "start_time": "2022-11-23T10:10:46.906811",
     "status": "completed"
    },
    "tags": []
   },
   "outputs": [],
   "source": [
    "training_data_x = X_train\n",
    "testing_data_x = X_test\n",
    "training_data_y = y_train.reshape(-1,1)\n",
    "testing_data_y = y_test.reshape(-1,1)"
   ]
  },
  {
   "cell_type": "code",
   "execution_count": 19,
   "id": "76951160",
   "metadata": {
    "execution": {
     "iopub.execute_input": "2022-11-23T10:10:47.009986Z",
     "iopub.status.busy": "2022-11-23T10:10:47.009399Z",
     "iopub.status.idle": "2022-11-23T10:10:47.024388Z",
     "shell.execute_reply": "2022-11-23T10:10:47.024853Z"
    },
    "papermill": {
     "duration": 0.048474,
     "end_time": "2022-11-23T10:10:47.024975",
     "exception": false,
     "start_time": "2022-11-23T10:10:46.976501",
     "status": "completed"
    },
    "tags": []
   },
   "outputs": [
    {
     "name": "stdout",
     "output_type": "stream",
     "text": [
      "xavier\n",
      "xavier\n",
      "xavier\n",
      "xavier\n",
      "xavier\n"
     ]
    }
   ],
   "source": [
    "layers = [Affine(\"first\", 784, 100), Relu(\"first\"), Affine(\"second\", 100, 100), Relu(\"second\"), Affine(\"third\", 100, 2), Affine(\"last\", 2, 1), Sigmoid(\"last\")]\n",
    "model_nn = Model(layers)\n",
    "model_lr = Model([Affine(\"logits\", 784, 1), Sigmoid(\"sigmoid\")])"
   ]
  },
  {
   "cell_type": "code",
   "execution_count": 20,
   "id": "6eede77a",
   "metadata": {
    "execution": {
     "iopub.execute_input": "2022-11-23T10:10:47.085859Z",
     "iopub.status.busy": "2022-11-23T10:10:47.085269Z",
     "iopub.status.idle": "2022-11-23T10:10:47.096159Z",
     "shell.execute_reply": "2022-11-23T10:10:47.095691Z"
    },
    "papermill": {
     "duration": 0.0444,
     "end_time": "2022-11-23T10:10:47.096267",
     "exception": false,
     "start_time": "2022-11-23T10:10:47.051867",
     "status": "completed"
    },
    "tags": []
   },
   "outputs": [],
   "source": [
    "nn_learner = Learner(loss, model_nn, opt, config.num_epochs)\n",
    "acc_nn = ClfCallback(nn_learner, config.bs, training_data_x , testing_data_x, training_data_y, testing_data_y)\n",
    "nn_learner.set_callbacks([acc_nn])"
   ]
  },
  {
   "cell_type": "code",
   "execution_count": 21,
   "id": "877b6cc7",
   "metadata": {
    "execution": {
     "iopub.execute_input": "2022-11-23T10:10:47.154055Z",
     "iopub.status.busy": "2022-11-23T10:10:47.153468Z",
     "iopub.status.idle": "2022-11-23T10:10:47.166363Z",
     "shell.execute_reply": "2022-11-23T10:10:47.165896Z"
    },
    "papermill": {
     "duration": 0.043372,
     "end_time": "2022-11-23T10:10:47.166471",
     "exception": false,
     "start_time": "2022-11-23T10:10:47.123099",
     "status": "completed"
    },
    "tags": []
   },
   "outputs": [],
   "source": [
    "lr_learner = Learner(loss, model_lr, opt, config.num_epochs)\n",
    "acc_lr = ClfCallback(lr_learner, config.bs, training_data_x , testing_data_x, training_data_y, testing_data_y)\n",
    "lr_learner.set_callbacks([acc_lr])"
   ]
  },
  {
   "cell_type": "code",
   "execution_count": 22,
   "id": "d9b133c3",
   "metadata": {
    "execution": {
     "iopub.execute_input": "2022-11-23T10:10:47.224077Z",
     "iopub.status.busy": "2022-11-23T10:10:47.223486Z",
     "iopub.status.idle": "2022-11-23T10:12:07.118594Z",
     "shell.execute_reply": "2022-11-23T10:12:07.119446Z"
    },
    "papermill": {
     "duration": 79.926302,
     "end_time": "2022-11-23T10:12:07.119593",
     "exception": false,
     "start_time": "2022-11-23T10:10:47.193291",
     "status": "completed"
    },
    "tags": []
   },
   "outputs": [
    {
     "name": "stdout",
     "output_type": "stream",
     "text": [
      "Epoch 0, Loss 0.244\n",
      "Training Accuracy: 0.5834, Testing Accuracy: 0.5958\n",
      "\n"
     ]
    },
    {
     "name": "stdout",
     "output_type": "stream",
     "text": [
      "Epoch 10, Loss 0.0978\n",
      "Training Accuracy: 0.9109, Testing Accuracy: 0.9289\n",
      "\n"
     ]
    },
    {
     "name": "stdout",
     "output_type": "stream",
     "text": [
      "Epoch 20, Loss 0.0589\n",
      "Training Accuracy: 0.9382, Testing Accuracy: 0.9516\n",
      "\n"
     ]
    },
    {
     "name": "stdout",
     "output_type": "stream",
     "text": [
      "Epoch 30, Loss 0.0456\n",
      "Training Accuracy: 0.9485, Testing Accuracy: 0.9617\n",
      "\n"
     ]
    },
    {
     "name": "stdout",
     "output_type": "stream",
     "text": [
      "Epoch 40, Loss 0.0393\n",
      "Training Accuracy: 0.9543, Testing Accuracy: 0.9647\n",
      "\n"
     ]
    },
    {
     "name": "stdout",
     "output_type": "stream",
     "text": [
      "Epoch 50, Loss 0.0355\n",
      "Training Accuracy: 0.9589, Testing Accuracy: 0.9672\n",
      "\n"
     ]
    },
    {
     "name": "stdout",
     "output_type": "stream",
     "text": [
      "Epoch 60, Loss 0.033\n",
      "Training Accuracy: 0.9619, Testing Accuracy: 0.9672\n",
      "\n"
     ]
    },
    {
     "name": "stdout",
     "output_type": "stream",
     "text": [
      "Epoch 70, Loss 0.0311\n",
      "Training Accuracy: 0.9635, Testing Accuracy: 0.9693\n",
      "\n"
     ]
    },
    {
     "name": "stdout",
     "output_type": "stream",
     "text": [
      "Epoch 80, Loss 0.0296\n",
      "Training Accuracy: 0.9649, Testing Accuracy: 0.9677\n",
      "\n"
     ]
    },
    {
     "name": "stdout",
     "output_type": "stream",
     "text": [
      "Epoch 90, Loss 0.0284\n",
      "Training Accuracy: 0.9664, Testing Accuracy: 0.9662\n",
      "\n"
     ]
    },
    {
     "name": "stdout",
     "output_type": "stream",
     "text": [
      "Epoch 100, Loss 0.0274\n",
      "Training Accuracy: 0.9678, Testing Accuracy: 0.9662\n",
      "\n"
     ]
    },
    {
     "name": "stdout",
     "output_type": "stream",
     "text": [
      "Epoch 110, Loss 0.0265\n",
      "Training Accuracy: 0.9685, Testing Accuracy: 0.9667\n",
      "\n"
     ]
    },
    {
     "name": "stdout",
     "output_type": "stream",
     "text": [
      "Epoch 120, Loss 0.0258\n",
      "Training Accuracy: 0.9697, Testing Accuracy: 0.9672\n",
      "\n"
     ]
    },
    {
     "name": "stdout",
     "output_type": "stream",
     "text": [
      "Epoch 130, Loss 0.0251\n",
      "Training Accuracy: 0.9705, Testing Accuracy: 0.9698\n",
      "\n"
     ]
    },
    {
     "name": "stdout",
     "output_type": "stream",
     "text": [
      "Epoch 140, Loss 0.0244\n",
      "Training Accuracy: 0.9715, Testing Accuracy: 0.9693\n",
      "\n"
     ]
    },
    {
     "name": "stdout",
     "output_type": "stream",
     "text": [
      "Epoch 150, Loss 0.0239\n",
      "Training Accuracy: 0.9721, Testing Accuracy: 0.9693\n",
      "\n"
     ]
    },
    {
     "name": "stdout",
     "output_type": "stream",
     "text": [
      "Epoch 160, Loss 0.0233\n",
      "Training Accuracy: 0.9728, Testing Accuracy: 0.9693\n",
      "\n"
     ]
    },
    {
     "name": "stdout",
     "output_type": "stream",
     "text": [
      "Epoch 170, Loss 0.0228\n",
      "Training Accuracy: 0.9736, Testing Accuracy: 0.9693\n",
      "\n"
     ]
    },
    {
     "name": "stdout",
     "output_type": "stream",
     "text": [
      "Epoch 180, Loss 0.0223\n",
      "Training Accuracy: 0.9745, Testing Accuracy: 0.9698\n",
      "\n"
     ]
    },
    {
     "name": "stdout",
     "output_type": "stream",
     "text": [
      "Epoch 190, Loss 0.0219\n",
      "Training Accuracy: 0.9757, Testing Accuracy: 0.9703\n",
      "\n"
     ]
    },
    {
     "name": "stdout",
     "output_type": "stream",
     "text": [
      "Epoch 200, Loss 0.0214\n",
      "Training Accuracy: 0.9758, Testing Accuracy: 0.9703\n",
      "\n"
     ]
    },
    {
     "name": "stdout",
     "output_type": "stream",
     "text": [
      "Epoch 210, Loss 0.021\n",
      "Training Accuracy: 0.9762, Testing Accuracy: 0.9698\n",
      "\n"
     ]
    },
    {
     "name": "stdout",
     "output_type": "stream",
     "text": [
      "Epoch 220, Loss 0.0206\n",
      "Training Accuracy: 0.9766, Testing Accuracy: 0.9708\n",
      "\n"
     ]
    },
    {
     "name": "stdout",
     "output_type": "stream",
     "text": [
      "Epoch 230, Loss 0.0202\n",
      "Training Accuracy: 0.9775, Testing Accuracy: 0.9713\n",
      "\n"
     ]
    },
    {
     "name": "stdout",
     "output_type": "stream",
     "text": [
      "Epoch 240, Loss 0.0198\n",
      "Training Accuracy: 0.9779, Testing Accuracy: 0.9713\n",
      "\n"
     ]
    },
    {
     "data": {
      "text/plain": [
       "0.0014545710320332094"
      ]
     },
     "execution_count": 22,
     "metadata": {},
     "output_type": "execute_result"
    }
   ],
   "source": [
    "nn_learner.train_loop(dl)"
   ]
  },
  {
   "cell_type": "code",
   "execution_count": 23,
   "id": "e0163366",
   "metadata": {
    "execution": {
     "iopub.execute_input": "2022-11-23T10:12:07.201010Z",
     "iopub.status.busy": "2022-11-23T10:12:07.200430Z",
     "iopub.status.idle": "2022-11-23T10:12:21.524529Z",
     "shell.execute_reply": "2022-11-23T10:12:21.525406Z"
    },
    "papermill": {
     "duration": 14.371596,
     "end_time": "2022-11-23T10:12:21.525558",
     "exception": false,
     "start_time": "2022-11-23T10:12:07.153962",
     "status": "completed"
    },
    "tags": []
   },
   "outputs": [
    {
     "name": "stdout",
     "output_type": "stream",
     "text": [
      "Epoch 0, Loss 0.2234\n",
      "Training Accuracy: 0.7404, Testing Accuracy: 0.7445\n",
      "\n"
     ]
    },
    {
     "name": "stdout",
     "output_type": "stream",
     "text": [
      "Epoch 10, Loss 0.1024\n",
      "Training Accuracy: 0.9076, Testing Accuracy: 0.9163\n",
      "\n"
     ]
    },
    {
     "name": "stdout",
     "output_type": "stream",
     "text": [
      "Epoch 20, Loss 0.0791\n",
      "Training Accuracy: 0.9263, Testing Accuracy: 0.9345\n",
      "\n"
     ]
    },
    {
     "name": "stdout",
     "output_type": "stream",
     "text": [
      "Epoch 30, Loss 0.0682\n",
      "Training Accuracy: 0.9355, Testing Accuracy: 0.9430\n",
      "\n"
     ]
    },
    {
     "name": "stdout",
     "output_type": "stream",
     "text": [
      "Epoch 40, Loss 0.0615\n",
      "Training Accuracy: 0.9417, Testing Accuracy: 0.9481\n",
      "\n"
     ]
    },
    {
     "name": "stdout",
     "output_type": "stream",
     "text": [
      "Epoch 50, Loss 0.057\n",
      "Training Accuracy: 0.9455, Testing Accuracy: 0.9541\n",
      "\n"
     ]
    },
    {
     "name": "stdout",
     "output_type": "stream",
     "text": [
      "Epoch 60, Loss 0.0537\n",
      "Training Accuracy: 0.9478, Testing Accuracy: 0.9556\n",
      "\n"
     ]
    },
    {
     "name": "stdout",
     "output_type": "stream",
     "text": [
      "Epoch 70, Loss 0.0511\n",
      "Training Accuracy: 0.9498, Testing Accuracy: 0.9577\n",
      "\n"
     ]
    },
    {
     "name": "stdout",
     "output_type": "stream",
     "text": [
      "Epoch 80, Loss 0.0491\n",
      "Training Accuracy: 0.9513, Testing Accuracy: 0.9597\n",
      "\n"
     ]
    },
    {
     "name": "stdout",
     "output_type": "stream",
     "text": [
      "Epoch 90, Loss 0.0474\n",
      "Training Accuracy: 0.9524, Testing Accuracy: 0.9627\n",
      "\n"
     ]
    },
    {
     "name": "stdout",
     "output_type": "stream",
     "text": [
      "Epoch 100, Loss 0.046\n",
      "Training Accuracy: 0.9538, Testing Accuracy: 0.9637\n",
      "\n"
     ]
    },
    {
     "name": "stdout",
     "output_type": "stream",
     "text": [
      "Epoch 110, Loss 0.0447\n",
      "Training Accuracy: 0.9555, Testing Accuracy: 0.9642\n",
      "\n"
     ]
    },
    {
     "name": "stdout",
     "output_type": "stream",
     "text": [
      "Epoch 120, Loss 0.0437\n",
      "Training Accuracy: 0.9561, Testing Accuracy: 0.9647\n",
      "\n"
     ]
    },
    {
     "name": "stdout",
     "output_type": "stream",
     "text": [
      "Epoch 130, Loss 0.0427\n",
      "Training Accuracy: 0.9566, Testing Accuracy: 0.9652\n",
      "\n"
     ]
    },
    {
     "name": "stdout",
     "output_type": "stream",
     "text": [
      "Epoch 140, Loss 0.0419\n",
      "Training Accuracy: 0.9572, Testing Accuracy: 0.9657\n",
      "\n"
     ]
    },
    {
     "name": "stdout",
     "output_type": "stream",
     "text": [
      "Epoch 150, Loss 0.0412\n",
      "Training Accuracy: 0.9576, Testing Accuracy: 0.9657\n",
      "\n"
     ]
    },
    {
     "name": "stdout",
     "output_type": "stream",
     "text": [
      "Epoch 160, Loss 0.0405\n",
      "Training Accuracy: 0.9578, Testing Accuracy: 0.9662\n",
      "\n"
     ]
    },
    {
     "name": "stdout",
     "output_type": "stream",
     "text": [
      "Epoch 170, Loss 0.0399\n",
      "Training Accuracy: 0.9578, Testing Accuracy: 0.9662\n",
      "\n"
     ]
    },
    {
     "name": "stdout",
     "output_type": "stream",
     "text": [
      "Epoch 180, Loss 0.0393\n",
      "Training Accuracy: 0.9584, Testing Accuracy: 0.9667\n",
      "\n"
     ]
    },
    {
     "name": "stdout",
     "output_type": "stream",
     "text": [
      "Epoch 190, Loss 0.0388\n",
      "Training Accuracy: 0.9587, Testing Accuracy: 0.9667\n",
      "\n"
     ]
    },
    {
     "name": "stdout",
     "output_type": "stream",
     "text": [
      "Epoch 200, Loss 0.0384\n",
      "Training Accuracy: 0.9589, Testing Accuracy: 0.9667\n",
      "\n"
     ]
    },
    {
     "name": "stdout",
     "output_type": "stream",
     "text": [
      "Epoch 210, Loss 0.0379\n",
      "Training Accuracy: 0.9594, Testing Accuracy: 0.9667\n",
      "\n"
     ]
    },
    {
     "name": "stdout",
     "output_type": "stream",
     "text": [
      "Epoch 220, Loss 0.0375\n",
      "Training Accuracy: 0.9599, Testing Accuracy: 0.9667\n",
      "\n"
     ]
    },
    {
     "name": "stdout",
     "output_type": "stream",
     "text": [
      "Epoch 230, Loss 0.0371\n",
      "Training Accuracy: 0.9601, Testing Accuracy: 0.9672\n",
      "\n"
     ]
    },
    {
     "name": "stdout",
     "output_type": "stream",
     "text": [
      "Epoch 240, Loss 0.0368\n",
      "Training Accuracy: 0.9603, Testing Accuracy: 0.9672\n",
      "\n"
     ]
    },
    {
     "data": {
      "text/plain": [
       "0.026764864782351697"
      ]
     },
     "execution_count": 23,
     "metadata": {},
     "output_type": "execute_result"
    }
   ],
   "source": [
    "lr_learner.train_loop(dl)"
   ]
  },
  {
   "cell_type": "code",
   "execution_count": 24,
   "id": "ca410940",
   "metadata": {
    "execution": {
     "iopub.execute_input": "2022-11-23T10:12:21.616186Z",
     "iopub.status.busy": "2022-11-23T10:12:21.615517Z",
     "iopub.status.idle": "2022-11-23T10:12:21.859381Z",
     "shell.execute_reply": "2022-11-23T10:12:21.858574Z"
    },
    "papermill": {
     "duration": 0.292364,
     "end_time": "2022-11-23T10:12:21.859519",
     "exception": false,
     "start_time": "2022-11-23T10:12:21.567155",
     "status": "completed"
    },
    "tags": []
   },
   "outputs": [
    {
     "data": {
      "text/plain": [
       "<matplotlib.legend.Legend at 0x7f0f921ad400>"
      ]
     },
     "execution_count": 24,
     "metadata": {},
     "output_type": "execute_result"
    },
    {
     "data": {
      "image/png": "[encoded data removed]",
      "text/plain": [
       "<Figure size 1080x720 with 1 Axes>"
      ]
     },
     "metadata": {
      "needs_background": "light"
     },
     "output_type": "display_data"
    }
   ],
   "source": [
    "#comparing the results of NN and LR\n",
    "plt.figure(figsize=(15,10))\n",
    "\n",
    "# Neural Network plots\n",
    "plt.plot(acc_nn.accuracies, 'r-', label = \"Training Accuracies - NN\")\n",
    "plt.plot(acc_nn.test_accuracies, 'g-', label = \"Testing Accuracies - NN\")\n",
    "\n",
    "# Logistic Regression plots\n",
    "plt.plot(acc_lr.accuracies, 'k-', label = \"Training Accuracies - LR\")\n",
    "plt.plot(acc_lr.test_accuracies, 'b-', label = \"Testing Accuracies - LR\")\n",
    "plt.legend()"
   ]
  },
  {
   "cell_type": "markdown",
   "id": "80dfb35c",
   "metadata": {
    "papermill": {
     "duration": 0.041513,
     "end_time": "2022-11-23T10:12:21.943084",
     "exception": false,
     "start_time": "2022-11-23T10:12:21.901571",
     "status": "completed"
    },
    "tags": []
   },
   "source": [
    "#### Plotting the outputs of this layer of the NN.\n"
   ]
  },
  {
   "cell_type": "code",
   "execution_count": 25,
   "id": "45eb2ff5",
   "metadata": {
    "execution": {
     "iopub.execute_input": "2022-11-23T10:12:22.031133Z",
     "iopub.status.busy": "2022-11-23T10:12:22.030509Z",
     "iopub.status.idle": "2022-11-23T10:12:22.050680Z",
     "shell.execute_reply": "2022-11-23T10:12:22.050188Z"
    },
    "papermill": {
     "duration": 0.066265,
     "end_time": "2022-11-23T10:12:22.050794",
     "exception": false,
     "start_time": "2022-11-23T10:12:21.984529",
     "status": "completed"
    },
    "tags": []
   },
   "outputs": [],
   "source": [
    "new_model = Model(layers[:-2])\n",
    "testing_plot = new_model(testing_data_x)"
   ]
  },
  {
   "cell_type": "code",
   "execution_count": 26,
   "id": "4c0a5485",
   "metadata": {
    "execution": {
     "iopub.execute_input": "2022-11-23T10:12:22.140472Z",
     "iopub.status.busy": "2022-11-23T10:12:22.139887Z",
     "iopub.status.idle": "2022-11-23T10:12:22.363887Z",
     "shell.execute_reply": "2022-11-23T10:12:22.364343Z"
    },
    "papermill": {
     "duration": 0.269993,
     "end_time": "2022-11-23T10:12:22.364481",
     "exception": false,
     "start_time": "2022-11-23T10:12:22.094488",
     "status": "completed"
    },
    "tags": []
   },
   "outputs": [
    {
     "data": {
      "text/plain": [
       "Text(0.5, 1.0, 'Outputs')"
      ]
     },
     "execution_count": 26,
     "metadata": {},
     "output_type": "execute_result"
    },
    {
     "data": {
      "image/png": "[encoded data removed]",
      "text/plain": [
       "<Figure size 576x504 with 1 Axes>"
      ]
     },
     "metadata": {
      "needs_background": "light"
     },
     "output_type": "display_data"
    }
   ],
   "source": [
    "# Plotting the scatter plot of points and color coding by class\n",
    "plt.figure(figsize=(8,7))\n",
    "plt.scatter(testing_plot[:,0], testing_plot[:,1], alpha = 0.1, c = y_test.ravel());\n",
    "plt.title('Outputs')"
   ]
  },
  {
   "cell_type": "markdown",
   "id": "a74fcf8f",
   "metadata": {
    "papermill": {
     "duration": 0.045547,
     "end_time": "2022-11-23T10:12:22.454444",
     "exception": false,
     "start_time": "2022-11-23T10:12:22.408897",
     "status": "completed"
    },
    "tags": []
   },
   "source": [
    "Probability contours"
   ]
  },
  {
   "cell_type": "code",
   "execution_count": 27,
   "id": "d0afc8e3",
   "metadata": {
    "execution": {
     "iopub.execute_input": "2022-11-23T10:12:22.577308Z",
     "iopub.status.busy": "2022-11-23T10:12:22.576675Z",
     "iopub.status.idle": "2022-11-23T10:12:22.588785Z",
     "shell.execute_reply": "2022-11-23T10:12:22.588201Z"
    },
    "papermill": {
     "duration": 0.089826,
     "end_time": "2022-11-23T10:12:22.588896",
     "exception": false,
     "start_time": "2022-11-23T10:12:22.499070",
     "status": "completed"
    },
    "tags": []
   },
   "outputs": [],
   "source": [
    "model_prob = Model(layers[-2:]) "
   ]
  },
  {
   "cell_type": "code",
   "execution_count": 28,
   "id": "9b96e238",
   "metadata": {
    "execution": {
     "iopub.execute_input": "2022-11-23T10:12:22.683811Z",
     "iopub.status.busy": "2022-11-23T10:12:22.683212Z",
     "iopub.status.idle": "2022-11-23T10:12:22.700319Z",
     "shell.execute_reply": "2022-11-23T10:12:22.700768Z"
    },
    "papermill": {
     "duration": 0.067408,
     "end_time": "2022-11-23T10:12:22.700901",
     "exception": false,
     "start_time": "2022-11-23T10:12:22.633493",
     "status": "completed"
    },
    "tags": []
   },
   "outputs": [],
   "source": [
    "#creating the x and y ranges according to the above generated plot.\n",
    "x_range = np.linspace(-4, 1, 100) \n",
    "y_range = np.linspace(-6, 6, 100) \n",
    "x_grid, y_grid = np.meshgrid(x_range, y_range) # x_grid and y_grig are of size 100 X 100\n",
    "\n",
    "# converting x_grid and y_grid to continuous arrays\n",
    "x_gridflat = np.ravel(x_grid)\n",
    "y_gridflat = np.ravel(y_grid)\n",
    "\n",
    "# The last layer of the current model takes two columns as input. Hence transpose of np.vstack() is required.\n",
    "X = np.vstack((x_gridflat, y_gridflat)).T\n",
    "\n",
    "prob_contour = model_prob(X).reshape(100,100) "
   ]
  },
  {
   "cell_type": "code",
   "execution_count": 29,
   "id": "da72499a",
   "metadata": {
    "execution": {
     "iopub.execute_input": "2022-11-23T10:12:22.794680Z",
     "iopub.status.busy": "2022-11-23T10:12:22.794082Z",
     "iopub.status.idle": "2022-11-23T10:12:23.043467Z",
     "shell.execute_reply": "2022-11-23T10:12:23.044083Z"
    },
    "papermill": {
     "duration": 0.298692,
     "end_time": "2022-11-23T10:12:23.044225",
     "exception": false,
     "start_time": "2022-11-23T10:12:22.745533",
     "status": "completed"
    },
    "tags": []
   },
   "outputs": [
    {
     "data": {
      "image/png": "[encoded data removed]",
      "text/plain": [
       "<Figure size 720x648 with 1 Axes>"
      ]
     },
     "metadata": {
      "needs_background": "light"
     },
     "output_type": "display_data"
    }
   ],
   "source": [
    "plt.figure(figsize=(10,9))\n",
    "plt.scatter(testing_plot[:,0], testing_plot[:,1], alpha = 0.1, c = y_test.ravel())\n",
    "contours = plt.contour(x_grid,y_grid,prob_contour)\n",
    "plt.title('Probability Contours')\n",
    "plt.clabel(contours, inline = True );"
   ]
  },
  {
   "cell_type": "code",
   "execution_count": null,
   "id": "e81b4ac7",
   "metadata": {
    "papermill": {
     "duration": 0.046517,
     "end_time": "2022-11-23T10:12:23.137891",
     "exception": false,
     "start_time": "2022-11-23T10:12:23.091374",
     "status": "completed"
    },
    "tags": []
   },
   "outputs": [],
   "source": []
  }
 ],
 "metadata": {
  "kernelspec": {
   "display_name": "Python 3",
   "language": "python",
   "name": "python3"
  },
  "language_info": {
   "codemirror_mode": {
    "name": "ipython",
    "version": 3
   },
   "file_extension": ".py",
   "mimetype": "text/x-python",
   "name": "python",
   "nbconvert_exporter": "python",
   "pygments_lexer": "ipython3",
   "version": "3.6.15"
  },
  "papermill": {
   "default_parameters": {},
   "duration": 102.456292,
   "end_time": "2022-11-23T10:12:23.602629",
   "environment_variables": {},
   "exception": null,
   "input_path": "2020-08-11-part2.ipynb",
   "output_path": "2020-08-11-part2.ipynb",
   "parameters": {},
   "start_time": "2022-11-23T10:10:41.146337",
   "version": "2.3.3"
  }
 },
 "nbformat": 4,
 "nbformat_minor": 5
}