{
 "cells": [
  {
   "cell_type": "markdown",
   "id": "98380cd3",
   "metadata": {
    "papermill": {
     "duration": 0.034229,
     "end_time": "2021-09-19T20:07:45.703269",
     "exception": false,
     "start_time": "2021-09-19T20:07:45.669040",
     "status": "completed"
    },
    "tags": []
   },
   "source": [
    "# Distinguish Your Own Digits (DYOD)"
   ]
  },
  {
   "cell_type": "markdown",
   "id": "ef31240d",
   "metadata": {
    "papermill": {
     "duration": 0.031863,
     "end_time": "2021-09-19T20:07:45.766581",
     "exception": false,
     "start_time": "2021-09-19T20:07:45.734718",
     "status": "completed"
    },
    "tags": []
   },
   "source": [
    "You are going to write a classifier that distinguishes between the number 3 and number 8."
   ]
  },
  {
   "cell_type": "code",
   "execution_count": 1,
   "id": "b15c8646",
   "metadata": {
    "execution": {
     "iopub.execute_input": "2021-09-19T20:07:45.838971Z",
     "iopub.status.busy": "2021-09-19T20:07:45.838296Z",
     "iopub.status.idle": "2021-09-19T20:07:45.850321Z",
     "shell.execute_reply": "2021-09-19T20:07:45.849621Z"
    },
    "papermill": {
     "duration": 0.05379,
     "end_time": "2021-09-19T20:07:45.850477",
     "exception": false,
     "start_time": "2021-09-19T20:07:45.796687",
     "status": "completed"
    },
    "tags": []
   },
   "outputs": [],
   "source": [
    "%load_ext autoreload\n",
    "%autoreload 2"
   ]
  },
  {
   "cell_type": "code",
   "execution_count": 2,
   "id": "22ef38dc",
   "metadata": {
    "execution": {
     "iopub.execute_input": "2021-09-19T20:07:45.927957Z",
     "iopub.status.busy": "2021-09-19T20:07:45.923836Z",
     "iopub.status.idle": "2021-09-19T20:07:46.536646Z",
     "shell.execute_reply": "2021-09-19T20:07:46.536070Z"
    },
    "papermill": {
     "duration": 0.652444,
     "end_time": "2021-09-19T20:07:46.536794",
     "exception": false,
     "start_time": "2021-09-19T20:07:45.884350",
     "status": "completed"
    },
    "tags": []
   },
   "outputs": [],
   "source": [
    "%matplotlib inline\n",
    "import numpy as np\n",
    "import matplotlib.pyplot as plt\n",
    "import pandas as pd"
   ]
  },
  {
   "cell_type": "markdown",
   "id": "ba036198",
   "metadata": {
    "papermill": {
     "duration": 0.030665,
     "end_time": "2021-09-19T20:07:46.598370",
     "exception": false,
     "start_time": "2021-09-19T20:07:46.567705",
     "status": "completed"
    },
    "tags": []
   },
   "source": [
    "From the command line run `pip install mnist`. This is a library that will help you bring down the mnist dataset. If you run this from a notebook, you need to put  `!pip install mnist` in a cell by itself."
   ]
  },
  {
   "cell_type": "code",
   "execution_count": 3,
   "id": "bb6ad8a1",
   "metadata": {
    "execution": {
     "iopub.execute_input": "2021-09-19T20:07:46.678276Z",
     "iopub.status.busy": "2021-09-19T20:07:46.672332Z",
     "iopub.status.idle": "2021-09-19T20:07:49.139471Z",
     "shell.execute_reply": "2021-09-19T20:07:49.138257Z"
    },
    "papermill": {
     "duration": 2.509307,
     "end_time": "2021-09-19T20:07:49.139620",
     "exception": false,
     "start_time": "2021-09-19T20:07:46.630313",
     "status": "completed"
    },
    "tags": []
   },
   "outputs": [
    {
     "name": "stdout",
     "output_type": "stream",
     "text": [
      "Collecting mnist\r\n"
     ]
    },
    {
     "name": "stdout",
     "output_type": "stream",
     "text": [
      "  Downloading mnist-0.2.2-py2.py3-none-any.whl (3.5 kB)\r\n",
      "Requirement already satisfied: numpy in /opt/hostedtoolcache/Python/3.6.15/x64/lib/python3.6/site-packages (from mnist) (1.19.5)\r\n"
     ]
    },
    {
     "name": "stdout",
     "output_type": "stream",
     "text": [
      "Installing collected packages: mnist\r\n"
     ]
    },
    {
     "name": "stdout",
     "output_type": "stream",
     "text": [
      "Successfully installed mnist-0.2.2\r\n"
     ]
    }
   ],
   "source": [
    "!pip install mnist"
   ]
  },
  {
   "cell_type": "markdown",
   "id": "69df9c9a",
   "metadata": {
    "papermill": {
     "duration": 0.031679,
     "end_time": "2021-09-19T20:07:49.203172",
     "exception": false,
     "start_time": "2021-09-19T20:07:49.171493",
     "status": "completed"
    },
    "tags": []
   },
   "source": [
    "## Preparing the Data"
   ]
  },
  {
   "cell_type": "code",
   "execution_count": 4,
   "id": "7f69d806",
   "metadata": {
    "execution": {
     "iopub.execute_input": "2021-09-19T20:07:49.285094Z",
     "iopub.status.busy": "2021-09-19T20:07:49.284436Z",
     "iopub.status.idle": "2021-09-19T20:07:49.291145Z",
     "shell.execute_reply": "2021-09-19T20:07:49.290550Z"
    },
    "papermill": {
     "duration": 0.053627,
     "end_time": "2021-09-19T20:07:49.291281",
     "exception": false,
     "start_time": "2021-09-19T20:07:49.237654",
     "status": "completed"
    },
    "tags": []
   },
   "outputs": [],
   "source": [
    "import mnist"
   ]
  },
  {
   "cell_type": "code",
   "execution_count": 5,
   "id": "a411e44f",
   "metadata": {
    "execution": {
     "iopub.execute_input": "2021-09-19T20:07:49.358456Z",
     "iopub.status.busy": "2021-09-19T20:07:49.357807Z",
     "iopub.status.idle": "2021-09-19T20:07:49.951041Z",
     "shell.execute_reply": "2021-09-19T20:07:49.951575Z"
    },
    "papermill": {
     "duration": 0.628672,
     "end_time": "2021-09-19T20:07:49.951749",
     "exception": false,
     "start_time": "2021-09-19T20:07:49.323077",
     "status": "completed"
    },
    "tags": []
   },
   "outputs": [],
   "source": [
    "train_images = mnist.train_images()\n",
    "train_labels = mnist.train_labels()"
   ]
  },
  {
   "cell_type": "code",
   "execution_count": 6,
   "id": "dceab3a5",
   "metadata": {
    "execution": {
     "iopub.execute_input": "2021-09-19T20:07:50.021008Z",
     "iopub.status.busy": "2021-09-19T20:07:50.020357Z",
     "iopub.status.idle": "2021-09-19T20:07:50.036658Z",
     "shell.execute_reply": "2021-09-19T20:07:50.036098Z"
    },
    "papermill": {
     "duration": 0.05291,
     "end_time": "2021-09-19T20:07:50.036798",
     "exception": false,
     "start_time": "2021-09-19T20:07:49.983888",
     "status": "completed"
    },
    "tags": []
   },
   "outputs": [
    {
     "data": {
      "text/plain": [
       "((60000, 28, 28), (60000,))"
      ]
     },
     "execution_count": 6,
     "metadata": {},
     "output_type": "execute_result"
    }
   ],
   "source": [
    "train_images.shape, train_labels.shape"
   ]
  },
  {
   "cell_type": "code",
   "execution_count": 7,
   "id": "f50dc2bb",
   "metadata": {
    "execution": {
     "iopub.execute_input": "2021-09-19T20:07:50.108683Z",
     "iopub.status.busy": "2021-09-19T20:07:50.108031Z",
     "iopub.status.idle": "2021-09-19T20:07:50.294407Z",
     "shell.execute_reply": "2021-09-19T20:07:50.293755Z"
    },
    "papermill": {
     "duration": 0.223701,
     "end_time": "2021-09-19T20:07:50.294557",
     "exception": false,
     "start_time": "2021-09-19T20:07:50.070856",
     "status": "completed"
    },
    "tags": []
   },
   "outputs": [],
   "source": [
    "test_images = mnist.test_images()\n",
    "test_labels = mnist.test_labels()"
   ]
  },
  {
   "cell_type": "code",
   "execution_count": 8,
   "id": "fc38cf1b",
   "metadata": {
    "execution": {
     "iopub.execute_input": "2021-09-19T20:07:50.363074Z",
     "iopub.status.busy": "2021-09-19T20:07:50.362394Z",
     "iopub.status.idle": "2021-09-19T20:07:50.375974Z",
     "shell.execute_reply": "2021-09-19T20:07:50.376586Z"
    },
    "papermill": {
     "duration": 0.049894,
     "end_time": "2021-09-19T20:07:50.376739",
     "exception": false,
     "start_time": "2021-09-19T20:07:50.326845",
     "status": "completed"
    },
    "tags": []
   },
   "outputs": [
    {
     "data": {
      "text/plain": [
       "((10000, 28, 28), (10000,))"
      ]
     },
     "execution_count": 8,
     "metadata": {},
     "output_type": "execute_result"
    }
   ],
   "source": [
    "test_images.shape, test_labels.shape"
   ]
  },
  {
   "cell_type": "code",
   "execution_count": 9,
   "id": "f9ed8fe0",
   "metadata": {
    "execution": {
     "iopub.execute_input": "2021-09-19T20:07:50.444795Z",
     "iopub.status.busy": "2021-09-19T20:07:50.444141Z",
     "iopub.status.idle": "2021-09-19T20:07:50.621273Z",
     "shell.execute_reply": "2021-09-19T20:07:50.621808Z"
    },
    "papermill": {
     "duration": 0.213324,
     "end_time": "2021-09-19T20:07:50.621974",
     "exception": false,
     "start_time": "2021-09-19T20:07:50.408650",
     "status": "completed"
    },
    "tags": []
   },
   "outputs": [
    {
     "name": "stdout",
     "output_type": "stream",
     "text": [
      "2\n"
     ]
    },
    {
     "data": {
      "text/plain": [
       "<matplotlib.image.AxesImage at 0x7feb1e42dcf8>"
      ]
     },
     "execution_count": 9,
     "metadata": {},
     "output_type": "execute_result"
    },
    {
     "data": {
      "image/png": "[encoded data removed]",
      "text/plain": [
       "<Figure size 432x288 with 1 Axes>"
      ]
     },
     "metadata": {
      "needs_background": "light"
     },
     "output_type": "display_data"
    }
   ],
   "source": [
    "image_index = 7776 # You may select anything up to 60,000\n",
    "print(train_labels[image_index]) \n",
    "plt.imshow(train_images[image_index], cmap='Greys')"
   ]
  },
  {
   "cell_type": "markdown",
   "id": "a8d2388d",
   "metadata": {
    "papermill": {
     "duration": 0.032952,
     "end_time": "2021-09-19T20:07:50.691251",
     "exception": false,
     "start_time": "2021-09-19T20:07:50.658299",
     "status": "completed"
    },
    "tags": []
   },
   "source": [
    "## Filter data to get 3 and 8 out"
   ]
  },
  {
   "cell_type": "code",
   "execution_count": 10,
   "id": "776f7fc7",
   "metadata": {
    "execution": {
     "iopub.execute_input": "2021-09-19T20:07:50.766673Z",
     "iopub.status.busy": "2021-09-19T20:07:50.765576Z",
     "iopub.status.idle": "2021-09-19T20:07:50.784780Z",
     "shell.execute_reply": "2021-09-19T20:07:50.784116Z"
    },
    "papermill": {
     "duration": 0.059637,
     "end_time": "2021-09-19T20:07:50.784932",
     "exception": false,
     "start_time": "2021-09-19T20:07:50.725295",
     "status": "completed"
    },
    "tags": []
   },
   "outputs": [],
   "source": [
    "train_filter = np.where((train_labels == 3 ) | (train_labels == 8))\n",
    "test_filter = np.where((test_labels == 3) | (test_labels == 8))\n",
    "X_train, y_train = train_images[train_filter], train_labels[train_filter]\n",
    "X_test, y_test = test_images[test_filter], test_labels[test_filter]"
   ]
  },
  {
   "cell_type": "markdown",
   "id": "948f0b7e",
   "metadata": {
    "papermill": {
     "duration": 0.033684,
     "end_time": "2021-09-19T20:07:50.851776",
     "exception": false,
     "start_time": "2021-09-19T20:07:50.818092",
     "status": "completed"
    },
    "tags": []
   },
   "source": [
    "We normalize the pizel values in the 0 to 1 range"
   ]
  },
  {
   "cell_type": "code",
   "execution_count": 11,
   "id": "ee4c2166",
   "metadata": {
    "execution": {
     "iopub.execute_input": "2021-09-19T20:07:50.940580Z",
     "iopub.status.busy": "2021-09-19T20:07:50.939901Z",
     "iopub.status.idle": "2021-09-19T20:07:50.991221Z",
     "shell.execute_reply": "2021-09-19T20:07:50.990598Z"
    },
    "papermill": {
     "duration": 0.10661,
     "end_time": "2021-09-19T20:07:50.991368",
     "exception": false,
     "start_time": "2021-09-19T20:07:50.884758",
     "status": "completed"
    },
    "tags": []
   },
   "outputs": [],
   "source": [
    "X_train = X_train/255.\n",
    "X_test = X_test/255."
   ]
  },
  {
   "cell_type": "markdown",
   "id": "ddcf4fab",
   "metadata": {
    "papermill": {
     "duration": 0.03306,
     "end_time": "2021-09-19T20:07:51.058383",
     "exception": false,
     "start_time": "2021-09-19T20:07:51.025323",
     "status": "completed"
    },
    "tags": []
   },
   "source": [
    "And setup the labels as 1 (when the digit is 3) and 0 (when the digit is 8)"
   ]
  },
  {
   "cell_type": "code",
   "execution_count": 12,
   "id": "7dc908f2",
   "metadata": {
    "execution": {
     "iopub.execute_input": "2021-09-19T20:07:51.129174Z",
     "iopub.status.busy": "2021-09-19T20:07:51.128538Z",
     "iopub.status.idle": "2021-09-19T20:07:51.142855Z",
     "shell.execute_reply": "2021-09-19T20:07:51.143420Z"
    },
    "papermill": {
     "duration": 0.051231,
     "end_time": "2021-09-19T20:07:51.143578",
     "exception": false,
     "start_time": "2021-09-19T20:07:51.092347",
     "status": "completed"
    },
    "tags": []
   },
   "outputs": [],
   "source": [
    "y_train = 1*(y_train==3)\n",
    "y_test = 1*(y_test==3)"
   ]
  },
  {
   "cell_type": "code",
   "execution_count": 13,
   "id": "01e4e969",
   "metadata": {
    "execution": {
     "iopub.execute_input": "2021-09-19T20:07:51.218206Z",
     "iopub.status.busy": "2021-09-19T20:07:51.217566Z",
     "iopub.status.idle": "2021-09-19T20:07:51.230911Z",
     "shell.execute_reply": "2021-09-19T20:07:51.230272Z"
    },
    "papermill": {
     "duration": 0.052454,
     "end_time": "2021-09-19T20:07:51.231072",
     "exception": false,
     "start_time": "2021-09-19T20:07:51.178618",
     "status": "completed"
    },
    "tags": []
   },
   "outputs": [
    {
     "data": {
      "text/plain": [
       "((11982, 28, 28), (1984, 28, 28))"
      ]
     },
     "execution_count": 13,
     "metadata": {},
     "output_type": "execute_result"
    }
   ],
   "source": [
    "X_train.shape, X_test.shape"
   ]
  },
  {
   "cell_type": "markdown",
   "id": "5ccf3f85",
   "metadata": {
    "papermill": {
     "duration": 0.035007,
     "end_time": "2021-09-19T20:07:51.299805",
     "exception": false,
     "start_time": "2021-09-19T20:07:51.264798",
     "status": "completed"
    },
    "tags": []
   },
   "source": [
    "We reshape the data to flatten the image pixels into a set of features or co-variates:"
   ]
  },
  {
   "cell_type": "code",
   "execution_count": 14,
   "id": "5286a4a3",
   "metadata": {
    "execution": {
     "iopub.execute_input": "2021-09-19T20:07:51.385502Z",
     "iopub.status.busy": "2021-09-19T20:07:51.377163Z",
     "iopub.status.idle": "2021-09-19T20:07:51.389192Z",
     "shell.execute_reply": "2021-09-19T20:07:51.388541Z"
    },
    "papermill": {
     "duration": 0.055409,
     "end_time": "2021-09-19T20:07:51.389327",
     "exception": false,
     "start_time": "2021-09-19T20:07:51.333918",
     "status": "completed"
    },
    "tags": []
   },
   "outputs": [
    {
     "data": {
      "text/plain": [
       "((11982, 784), (1984, 784))"
      ]
     },
     "execution_count": 14,
     "metadata": {},
     "output_type": "execute_result"
    }
   ],
   "source": [
    "X_train = X_train.reshape(X_train.shape[0], -1)\n",
    "X_test = X_test.reshape(X_test.shape[0], -1)\n",
    "X_train.shape, X_test.shape"
   ]
  },
  {
   "cell_type": "code",
   "execution_count": 15,
   "id": "73c5f88a",
   "metadata": {
    "execution": {
     "iopub.execute_input": "2021-09-19T20:07:51.477202Z",
     "iopub.status.busy": "2021-09-19T20:07:51.473612Z",
     "iopub.status.idle": "2021-09-19T20:07:51.489017Z",
     "shell.execute_reply": "2021-09-19T20:07:51.488476Z"
    },
    "papermill": {
     "duration": 0.065804,
     "end_time": "2021-09-19T20:07:51.489161",
     "exception": false,
     "start_time": "2021-09-19T20:07:51.423357",
     "status": "completed"
    },
    "tags": []
   },
   "outputs": [],
   "source": [
    "#Impoting functions from 'Kudzu'\n",
    "from kudzu.model import Model\n",
    "from kudzu.train import Learner\n",
    "from kudzu.optim import GD\n",
    "from kudzu.data import Data, Sampler,Dataloader\n",
    "\n",
    "from kudzu.callbacks import AccCallback\n",
    "from kudzu.callbacks import ClfCallback\n",
    "\n",
    "from kudzu.loss import MSE\n",
    "\n",
    "from kudzu.layer import Sigmoid,Relu\n",
    "from kudzu.layer import Affine"
   ]
  },
  {
   "cell_type": "markdown",
   "id": "bc01172a",
   "metadata": {
    "papermill": {
     "duration": 0.037304,
     "end_time": "2021-09-19T20:07:51.561960",
     "exception": false,
     "start_time": "2021-09-19T20:07:51.524656",
     "status": "completed"
    },
    "tags": []
   },
   "source": [
    "### Let us create a `Config` class, to store important parameters. \n",
    "This class essentially plays the role of a dictionary."
   ]
  },
  {
   "cell_type": "code",
   "execution_count": 16,
   "id": "978281aa",
   "metadata": {
    "execution": {
     "iopub.execute_input": "2021-09-19T20:07:51.648894Z",
     "iopub.status.busy": "2021-09-19T20:07:51.648240Z",
     "iopub.status.idle": "2021-09-19T20:07:51.652729Z",
     "shell.execute_reply": "2021-09-19T20:07:51.651764Z"
    },
    "papermill": {
     "duration": 0.056797,
     "end_time": "2021-09-19T20:07:51.652873",
     "exception": false,
     "start_time": "2021-09-19T20:07:51.596076",
     "status": "completed"
    },
    "tags": []
   },
   "outputs": [],
   "source": [
    "class Config:\n",
    "    pass\n",
    "config = Config()\n",
    "config.lr = 0.001\n",
    "config.num_epochs = 250\n",
    "config.bs = 50"
   ]
  },
  {
   "cell_type": "markdown",
   "id": "1385fa59",
   "metadata": {
    "papermill": {
     "duration": 0.03408,
     "end_time": "2021-09-19T20:07:51.720608",
     "exception": false,
     "start_time": "2021-09-19T20:07:51.686528",
     "status": "completed"
    },
    "tags": []
   },
   "source": [
    "### Running Models with the Training data\n",
    "Details about the network layers:\n",
    "- A first affine layer has 784 inputs and does 100 affine transforms. These are followed by a Relu\n",
    "- A second affine layer has 100 inputs from the 100 activations of the past layer, and does 100 affine transforms. These are followed by a Relu\n",
    "- A third affine layer has 100 activations and does 2 affine transformations to create an embedding for visualization. There is no non-linearity here.\n",
    "- A final \"logistic regression\" which has an affine transform from 2 inputs to 1 output, which is squeezed through a sigmoid.\n"
   ]
  },
  {
   "cell_type": "code",
   "execution_count": 17,
   "id": "2b9c66db",
   "metadata": {
    "execution": {
     "iopub.execute_input": "2021-09-19T20:07:51.810816Z",
     "iopub.status.busy": "2021-09-19T20:07:51.803958Z",
     "iopub.status.idle": "2021-09-19T20:07:51.814650Z",
     "shell.execute_reply": "2021-09-19T20:07:51.814089Z"
    },
    "papermill": {
     "duration": 0.057952,
     "end_time": "2021-09-19T20:07:51.814784",
     "exception": false,
     "start_time": "2021-09-19T20:07:51.756832",
     "status": "completed"
    },
    "tags": []
   },
   "outputs": [],
   "source": [
    "data = Data(X_train, y_train.reshape(-1,1))\n",
    "sampler = Sampler(data, config.bs, shuffle=True)\n",
    "\n",
    "dl = Dataloader(data, sampler)\n",
    "\n",
    "opt = GD(config.lr)\n",
    "loss = MSE()"
   ]
  },
  {
   "cell_type": "code",
   "execution_count": 18,
   "id": "b275e4c2",
   "metadata": {
    "execution": {
     "iopub.execute_input": "2021-09-19T20:07:51.887124Z",
     "iopub.status.busy": "2021-09-19T20:07:51.886429Z",
     "iopub.status.idle": "2021-09-19T20:07:51.901120Z",
     "shell.execute_reply": "2021-09-19T20:07:51.900566Z"
    },
    "papermill": {
     "duration": 0.052765,
     "end_time": "2021-09-19T20:07:51.901252",
     "exception": false,
     "start_time": "2021-09-19T20:07:51.848487",
     "status": "completed"
    },
    "tags": []
   },
   "outputs": [],
   "source": [
    "training_data_x = X_train\n",
    "testing_data_x = X_test\n",
    "training_data_y = y_train.reshape(-1,1)\n",
    "testing_data_y = y_test.reshape(-1,1)"
   ]
  },
  {
   "cell_type": "code",
   "execution_count": 19,
   "id": "76951160",
   "metadata": {
    "execution": {
     "iopub.execute_input": "2021-09-19T20:07:51.986214Z",
     "iopub.status.busy": "2021-09-19T20:07:51.980115Z",
     "iopub.status.idle": "2021-09-19T20:07:51.996003Z",
     "shell.execute_reply": "2021-09-19T20:07:51.996575Z"
    },
    "papermill": {
     "duration": 0.061832,
     "end_time": "2021-09-19T20:07:51.996745",
     "exception": false,
     "start_time": "2021-09-19T20:07:51.934913",
     "status": "completed"
    },
    "tags": []
   },
   "outputs": [
    {
     "name": "stdout",
     "output_type": "stream",
     "text": [
      "xavier\n",
      "xavier\n",
      "xavier\n",
      "xavier\n",
      "xavier\n"
     ]
    }
   ],
   "source": [
    "layers = [Affine(\"first\", 784, 100), Relu(\"first\"), Affine(\"second\", 100, 100), Relu(\"second\"), Affine(\"third\", 100, 2), Affine(\"last\", 2, 1), Sigmoid(\"last\")]\n",
    "model_nn = Model(layers)\n",
    "model_lr = Model([Affine(\"logits\", 784, 1), Sigmoid(\"sigmoid\")])"
   ]
  },
  {
   "cell_type": "code",
   "execution_count": 20,
   "id": "6eede77a",
   "metadata": {
    "execution": {
     "iopub.execute_input": "2021-09-19T20:07:52.076227Z",
     "iopub.status.busy": "2021-09-19T20:07:52.070720Z",
     "iopub.status.idle": "2021-09-19T20:07:52.085093Z",
     "shell.execute_reply": "2021-09-19T20:07:52.085630Z"
    },
    "papermill": {
     "duration": 0.055189,
     "end_time": "2021-09-19T20:07:52.085793",
     "exception": false,
     "start_time": "2021-09-19T20:07:52.030604",
     "status": "completed"
    },
    "tags": []
   },
   "outputs": [],
   "source": [
    "nn_learner = Learner(loss, model_nn, opt, config.num_epochs)\n",
    "acc_nn = ClfCallback(nn_learner, config.bs, training_data_x , testing_data_x, training_data_y, testing_data_y)\n",
    "nn_learner.set_callbacks([acc_nn])"
   ]
  },
  {
   "cell_type": "code",
   "execution_count": 21,
   "id": "877b6cc7",
   "metadata": {
    "execution": {
     "iopub.execute_input": "2021-09-19T20:07:52.169861Z",
     "iopub.status.busy": "2021-09-19T20:07:52.169203Z",
     "iopub.status.idle": "2021-09-19T20:07:52.176731Z",
     "shell.execute_reply": "2021-09-19T20:07:52.176171Z"
    },
    "papermill": {
     "duration": 0.056144,
     "end_time": "2021-09-19T20:07:52.177122",
     "exception": false,
     "start_time": "2021-09-19T20:07:52.120978",
     "status": "completed"
    },
    "tags": []
   },
   "outputs": [],
   "source": [
    "lr_learner = Learner(loss, model_lr, opt, config.num_epochs)\n",
    "acc_lr = ClfCallback(lr_learner, config.bs, training_data_x , testing_data_x, training_data_y, testing_data_y)\n",
    "lr_learner.set_callbacks([acc_lr])"
   ]
  },
  {
   "cell_type": "code",
   "execution_count": 22,
   "id": "d9b133c3",
   "metadata": {
    "execution": {
     "iopub.execute_input": "2021-09-19T20:07:52.264296Z",
     "iopub.status.busy": "2021-09-19T20:07:52.252840Z",
     "iopub.status.idle": "2021-09-19T20:10:00.087165Z",
     "shell.execute_reply": "2021-09-19T20:10:00.088241Z"
    },
    "papermill": {
     "duration": 127.876906,
     "end_time": "2021-09-19T20:10:00.088412",
     "exception": false,
     "start_time": "2021-09-19T20:07:52.211506",
     "status": "completed"
    },
    "tags": []
   },
   "outputs": [
    {
     "name": "stdout",
     "output_type": "stream",
     "text": [
      "Epoch 0, Loss 0.2219\n",
      "Training Accuracy: 0.8290, Testing Accuracy: 0.8417\n",
      "\n"
     ]
    },
    {
     "name": "stdout",
     "output_type": "stream",
     "text": [
      "Epoch 10, Loss 0.0578\n",
      "Training Accuracy: 0.9422, Testing Accuracy: 0.9516\n",
      "\n"
     ]
    },
    {
     "name": "stdout",
     "output_type": "stream",
     "text": [
      "Epoch 20, Loss 0.0418\n",
      "Training Accuracy: 0.9539, Testing Accuracy: 0.9602\n",
      "\n"
     ]
    },
    {
     "name": "stdout",
     "output_type": "stream",
     "text": [
      "Epoch 30, Loss 0.0354\n",
      "Training Accuracy: 0.9603, Testing Accuracy: 0.9688\n",
      "\n"
     ]
    },
    {
     "name": "stdout",
     "output_type": "stream",
     "text": [
      "Epoch 40, Loss 0.0317\n",
      "Training Accuracy: 0.9649, Testing Accuracy: 0.9703\n",
      "\n"
     ]
    },
    {
     "name": "stdout",
     "output_type": "stream",
     "text": [
      "Epoch 50, Loss 0.0292\n",
      "Training Accuracy: 0.9679, Testing Accuracy: 0.9698\n",
      "\n"
     ]
    },
    {
     "name": "stdout",
     "output_type": "stream",
     "text": [
      "Epoch 60, Loss 0.0273\n",
      "Training Accuracy: 0.9692, Testing Accuracy: 0.9698\n",
      "\n"
     ]
    },
    {
     "name": "stdout",
     "output_type": "stream",
     "text": [
      "Epoch 70, Loss 0.0258\n",
      "Training Accuracy: 0.9715, Testing Accuracy: 0.9713\n",
      "\n"
     ]
    },
    {
     "name": "stdout",
     "output_type": "stream",
     "text": [
      "Epoch 80, Loss 0.0246\n",
      "Training Accuracy: 0.9728, Testing Accuracy: 0.9708\n",
      "\n"
     ]
    },
    {
     "name": "stdout",
     "output_type": "stream",
     "text": [
      "Epoch 90, Loss 0.0235\n",
      "Training Accuracy: 0.9736, Testing Accuracy: 0.9708\n",
      "\n"
     ]
    },
    {
     "name": "stdout",
     "output_type": "stream",
     "text": [
      "Epoch 100, Loss 0.0226\n",
      "Training Accuracy: 0.9749, Testing Accuracy: 0.9728\n",
      "\n"
     ]
    },
    {
     "name": "stdout",
     "output_type": "stream",
     "text": [
      "Epoch 110, Loss 0.0218\n",
      "Training Accuracy: 0.9756, Testing Accuracy: 0.9728\n",
      "\n"
     ]
    },
    {
     "name": "stdout",
     "output_type": "stream",
     "text": [
      "Epoch 120, Loss 0.0211\n",
      "Training Accuracy: 0.9769, Testing Accuracy: 0.9738\n",
      "\n"
     ]
    },
    {
     "name": "stdout",
     "output_type": "stream",
     "text": [
      "Epoch 130, Loss 0.0205\n",
      "Training Accuracy: 0.9777, Testing Accuracy: 0.9733\n",
      "\n"
     ]
    },
    {
     "name": "stdout",
     "output_type": "stream",
     "text": [
      "Epoch 140, Loss 0.0198\n",
      "Training Accuracy: 0.9781, Testing Accuracy: 0.9728\n",
      "\n"
     ]
    },
    {
     "name": "stdout",
     "output_type": "stream",
     "text": [
      "Epoch 150, Loss 0.0193\n",
      "Training Accuracy: 0.9785, Testing Accuracy: 0.9728\n",
      "\n"
     ]
    },
    {
     "name": "stdout",
     "output_type": "stream",
     "text": [
      "Epoch 160, Loss 0.0188\n",
      "Training Accuracy: 0.9792, Testing Accuracy: 0.9723\n",
      "\n"
     ]
    },
    {
     "name": "stdout",
     "output_type": "stream",
     "text": [
      "Epoch 170, Loss 0.0182\n",
      "Training Accuracy: 0.9798, Testing Accuracy: 0.9738\n",
      "\n"
     ]
    },
    {
     "name": "stdout",
     "output_type": "stream",
     "text": [
      "Epoch 180, Loss 0.0178\n",
      "Training Accuracy: 0.9803, Testing Accuracy: 0.9743\n",
      "\n"
     ]
    },
    {
     "name": "stdout",
     "output_type": "stream",
     "text": [
      "Epoch 190, Loss 0.0173\n",
      "Training Accuracy: 0.9811, Testing Accuracy: 0.9748\n",
      "\n"
     ]
    },
    {
     "name": "stdout",
     "output_type": "stream",
     "text": [
      "Epoch 200, Loss 0.0169\n",
      "Training Accuracy: 0.9811, Testing Accuracy: 0.9753\n",
      "\n"
     ]
    },
    {
     "name": "stdout",
     "output_type": "stream",
     "text": [
      "Epoch 210, Loss 0.0165\n",
      "Training Accuracy: 0.9818, Testing Accuracy: 0.9753\n",
      "\n"
     ]
    },
    {
     "name": "stdout",
     "output_type": "stream",
     "text": [
      "Epoch 220, Loss 0.0161\n",
      "Training Accuracy: 0.9821, Testing Accuracy: 0.9763\n",
      "\n"
     ]
    },
    {
     "name": "stdout",
     "output_type": "stream",
     "text": [
      "Epoch 230, Loss 0.0157\n",
      "Training Accuracy: 0.9826, Testing Accuracy: 0.9763\n",
      "\n"
     ]
    },
    {
     "name": "stdout",
     "output_type": "stream",
     "text": [
      "Epoch 240, Loss 0.0153\n",
      "Training Accuracy: 0.9831, Testing Accuracy: 0.9768\n",
      "\n"
     ]
    },
    {
     "data": {
      "text/plain": [
       "0.001335625229284346"
      ]
     },
     "execution_count": 22,
     "metadata": {},
     "output_type": "execute_result"
    }
   ],
   "source": [
    "nn_learner.train_loop(dl)"
   ]
  },
  {
   "cell_type": "code",
   "execution_count": 23,
   "id": "e0163366",
   "metadata": {
    "execution": {
     "iopub.execute_input": "2021-09-19T20:10:00.193214Z",
     "iopub.status.busy": "2021-09-19T20:10:00.192340Z",
     "iopub.status.idle": "2021-09-19T20:10:18.533909Z",
     "shell.execute_reply": "2021-09-19T20:10:18.534756Z"
    },
    "papermill": {
     "duration": 18.394862,
     "end_time": "2021-09-19T20:10:18.534924",
     "exception": false,
     "start_time": "2021-09-19T20:10:00.140062",
     "status": "completed"
    },
    "tags": []
   },
   "outputs": [
    {
     "name": "stdout",
     "output_type": "stream",
     "text": [
      "Epoch 0, Loss 0.2439\n",
      "Training Accuracy: 0.7030, Testing Accuracy: 0.7339\n",
      "\n"
     ]
    },
    {
     "name": "stdout",
     "output_type": "stream",
     "text": [
      "Epoch 10, Loss 0.1016\n",
      "Training Accuracy: 0.9174, Testing Accuracy: 0.9325\n",
      "\n"
     ]
    },
    {
     "name": "stdout",
     "output_type": "stream",
     "text": [
      "Epoch 20, Loss 0.0786\n",
      "Training Accuracy: 0.9309, Testing Accuracy: 0.9441\n",
      "\n"
     ]
    },
    {
     "name": "stdout",
     "output_type": "stream",
     "text": [
      "Epoch 30, Loss 0.068\n",
      "Training Accuracy: 0.9381, Testing Accuracy: 0.9481\n",
      "\n"
     ]
    },
    {
     "name": "stdout",
     "output_type": "stream",
     "text": [
      "Epoch 40, Loss 0.0617\n",
      "Training Accuracy: 0.9420, Testing Accuracy: 0.9506\n",
      "\n"
     ]
    },
    {
     "name": "stdout",
     "output_type": "stream",
     "text": [
      "Epoch 50, Loss 0.0574\n",
      "Training Accuracy: 0.9439, Testing Accuracy: 0.9531\n",
      "\n"
     ]
    },
    {
     "name": "stdout",
     "output_type": "stream",
     "text": [
      "Epoch 60, Loss 0.0541\n",
      "Training Accuracy: 0.9457, Testing Accuracy: 0.9561\n",
      "\n"
     ]
    },
    {
     "name": "stdout",
     "output_type": "stream",
     "text": [
      "Epoch 70, Loss 0.0516\n",
      "Training Accuracy: 0.9481, Testing Accuracy: 0.9582\n",
      "\n"
     ]
    },
    {
     "name": "stdout",
     "output_type": "stream",
     "text": [
      "Epoch 80, Loss 0.0496\n",
      "Training Accuracy: 0.9493, Testing Accuracy: 0.9602\n",
      "\n"
     ]
    },
    {
     "name": "stdout",
     "output_type": "stream",
     "text": [
      "Epoch 90, Loss 0.048\n",
      "Training Accuracy: 0.9502, Testing Accuracy: 0.9612\n",
      "\n"
     ]
    },
    {
     "name": "stdout",
     "output_type": "stream",
     "text": [
      "Epoch 100, Loss 0.0466\n",
      "Training Accuracy: 0.9509, Testing Accuracy: 0.9627\n",
      "\n"
     ]
    },
    {
     "name": "stdout",
     "output_type": "stream",
     "text": [
      "Epoch 110, Loss 0.0453\n",
      "Training Accuracy: 0.9518, Testing Accuracy: 0.9627\n",
      "\n"
     ]
    },
    {
     "name": "stdout",
     "output_type": "stream",
     "text": [
      "Epoch 120, Loss 0.0443\n",
      "Training Accuracy: 0.9538, Testing Accuracy: 0.9637\n",
      "\n"
     ]
    },
    {
     "name": "stdout",
     "output_type": "stream",
     "text": [
      "Epoch 130, Loss 0.0433\n",
      "Training Accuracy: 0.9540, Testing Accuracy: 0.9647\n",
      "\n"
     ]
    },
    {
     "name": "stdout",
     "output_type": "stream",
     "text": [
      "Epoch 140, Loss 0.0425\n",
      "Training Accuracy: 0.9544, Testing Accuracy: 0.9652\n",
      "\n"
     ]
    },
    {
     "name": "stdout",
     "output_type": "stream",
     "text": [
      "Epoch 150, Loss 0.0418\n",
      "Training Accuracy: 0.9551, Testing Accuracy: 0.9652\n",
      "\n"
     ]
    },
    {
     "name": "stdout",
     "output_type": "stream",
     "text": [
      "Epoch 160, Loss 0.0411\n",
      "Training Accuracy: 0.9558, Testing Accuracy: 0.9657\n",
      "\n"
     ]
    },
    {
     "name": "stdout",
     "output_type": "stream",
     "text": [
      "Epoch 170, Loss 0.0405\n",
      "Training Accuracy: 0.9564, Testing Accuracy: 0.9652\n",
      "\n"
     ]
    },
    {
     "name": "stdout",
     "output_type": "stream",
     "text": [
      "Epoch 180, Loss 0.0399\n",
      "Training Accuracy: 0.9570, Testing Accuracy: 0.9647\n",
      "\n"
     ]
    },
    {
     "name": "stdout",
     "output_type": "stream",
     "text": [
      "Epoch 190, Loss 0.0394\n",
      "Training Accuracy: 0.9575, Testing Accuracy: 0.9652\n",
      "\n"
     ]
    },
    {
     "name": "stdout",
     "output_type": "stream",
     "text": [
      "Epoch 200, Loss 0.0389\n",
      "Training Accuracy: 0.9579, Testing Accuracy: 0.9657\n",
      "\n"
     ]
    },
    {
     "name": "stdout",
     "output_type": "stream",
     "text": [
      "Epoch 210, Loss 0.0384\n",
      "Training Accuracy: 0.9583, Testing Accuracy: 0.9667\n",
      "\n"
     ]
    },
    {
     "name": "stdout",
     "output_type": "stream",
     "text": [
      "Epoch 220, Loss 0.038\n",
      "Training Accuracy: 0.9587, Testing Accuracy: 0.9667\n",
      "\n"
     ]
    },
    {
     "name": "stdout",
     "output_type": "stream",
     "text": [
      "Epoch 230, Loss 0.0376\n",
      "Training Accuracy: 0.9591, Testing Accuracy: 0.9667\n",
      "\n"
     ]
    },
    {
     "name": "stdout",
     "output_type": "stream",
     "text": [
      "Epoch 240, Loss 0.0373\n",
      "Training Accuracy: 0.9592, Testing Accuracy: 0.9667\n",
      "\n"
     ]
    },
    {
     "data": {
      "text/plain": [
       "0.01681418701189724"
      ]
     },
     "execution_count": 23,
     "metadata": {},
     "output_type": "execute_result"
    }
   ],
   "source": [
    "lr_learner.train_loop(dl)"
   ]
  },
  {
   "cell_type": "code",
   "execution_count": 24,
   "id": "ca410940",
   "metadata": {
    "execution": {
     "iopub.execute_input": "2021-09-19T20:10:18.648399Z",
     "iopub.status.busy": "2021-09-19T20:10:18.647386Z",
     "iopub.status.idle": "2021-09-19T20:10:18.943710Z",
     "shell.execute_reply": "2021-09-19T20:10:18.943052Z"
    },
    "papermill": {
     "duration": 0.355463,
     "end_time": "2021-09-19T20:10:18.943851",
     "exception": false,
     "start_time": "2021-09-19T20:10:18.588388",
     "status": "completed"
    },
    "tags": []
   },
   "outputs": [
    {
     "data": {
      "text/plain": [
       "<matplotlib.legend.Legend at 0x7feb1df9e898>"
      ]
     },
     "execution_count": 24,
     "metadata": {},
     "output_type": "execute_result"
    },
    {
     "data": {
      "image/png": "[encoded data removed]",
      "text/plain": [
       "<Figure size 1080x720 with 1 Axes>"
      ]
     },
     "metadata": {
      "needs_background": "light"
     },
     "output_type": "display_data"
    }
   ],
   "source": [
    "#comparing the results of NN and LR\n",
    "plt.figure(figsize=(15,10))\n",
    "\n",
    "# Neural Network plots\n",
    "plt.plot(acc_nn.accuracies, 'r-', label = \"Training Accuracies - NN\")\n",
    "plt.plot(acc_nn.test_accuracies, 'g-', label = \"Testing Accuracies - NN\")\n",
    "\n",
    "# Logistic Regression plots\n",
    "plt.plot(acc_lr.accuracies, 'k-', label = \"Training Accuracies - LR\")\n",
    "plt.plot(acc_lr.test_accuracies, 'b-', label = \"Testing Accuracies - LR\")\n",
    "plt.legend()"
   ]
  },
  {
   "cell_type": "markdown",
   "id": "80dfb35c",
   "metadata": {
    "papermill": {
     "duration": 0.053774,
     "end_time": "2021-09-19T20:10:19.051320",
     "exception": false,
     "start_time": "2021-09-19T20:10:18.997546",
     "status": "completed"
    },
    "tags": []
   },
   "source": [
    "#### Plotting the outputs of this layer of the NN.\n"
   ]
  },
  {
   "cell_type": "code",
   "execution_count": 25,
   "id": "45eb2ff5",
   "metadata": {
    "execution": {
     "iopub.execute_input": "2021-09-19T20:10:19.177639Z",
     "iopub.status.busy": "2021-09-19T20:10:19.173666Z",
     "iopub.status.idle": "2021-09-19T20:10:19.197402Z",
     "shell.execute_reply": "2021-09-19T20:10:19.197955Z"
    },
    "papermill": {
     "duration": 0.09199,
     "end_time": "2021-09-19T20:10:19.198124",
     "exception": false,
     "start_time": "2021-09-19T20:10:19.106134",
     "status": "completed"
    },
    "tags": []
   },
   "outputs": [],
   "source": [
    "new_model = Model(layers[:-2])\n",
    "testing_plot = new_model(testing_data_x)"
   ]
  },
  {
   "cell_type": "code",
   "execution_count": 26,
   "id": "4c0a5485",
   "metadata": {
    "execution": {
     "iopub.execute_input": "2021-09-19T20:10:19.321555Z",
     "iopub.status.busy": "2021-09-19T20:10:19.320910Z",
     "iopub.status.idle": "2021-09-19T20:10:19.579244Z",
     "shell.execute_reply": "2021-09-19T20:10:19.579784Z"
    },
    "papermill": {
     "duration": 0.324114,
     "end_time": "2021-09-19T20:10:19.579947",
     "exception": false,
     "start_time": "2021-09-19T20:10:19.255833",
     "status": "completed"
    },
    "tags": []
   },
   "outputs": [
    {
     "data": {
      "text/plain": [
       "Text(0.5, 1.0, 'Outputs')"
      ]
     },
     "execution_count": 26,
     "metadata": {},
     "output_type": "execute_result"
    },
    {
     "data": {
      "image/png": "[encoded data removed]",
      "text/plain": [
       "<Figure size 576x504 with 1 Axes>"
      ]
     },
     "metadata": {
      "needs_background": "light"
     },
     "output_type": "display_data"
    }
   ],
   "source": [
    "# Plotting the scatter plot of points and color coding by class\n",
    "plt.figure(figsize=(8,7))\n",
    "plt.scatter(testing_plot[:,0], testing_plot[:,1], alpha = 0.1, c = y_test.ravel());\n",
    "plt.title('Outputs')"
   ]
  },
  {
   "cell_type": "markdown",
   "id": "a74fcf8f",
   "metadata": {
    "papermill": {
     "duration": 0.055642,
     "end_time": "2021-09-19T20:10:19.691543",
     "exception": false,
     "start_time": "2021-09-19T20:10:19.635901",
     "status": "completed"
    },
    "tags": []
   },
   "source": [
    "Probability contours"
   ]
  },
  {
   "cell_type": "code",
   "execution_count": 27,
   "id": "d0afc8e3",
   "metadata": {
    "execution": {
     "iopub.execute_input": "2021-09-19T20:10:19.836517Z",
     "iopub.status.busy": "2021-09-19T20:10:19.835846Z",
     "iopub.status.idle": "2021-09-19T20:10:19.846237Z",
     "shell.execute_reply": "2021-09-19T20:10:19.845064Z"
    },
    "papermill": {
     "duration": 0.098987,
     "end_time": "2021-09-19T20:10:19.846379",
     "exception": false,
     "start_time": "2021-09-19T20:10:19.747392",
     "status": "completed"
    },
    "tags": []
   },
   "outputs": [],
   "source": [
    "model_prob = Model(layers[-2:]) "
   ]
  },
  {
   "cell_type": "code",
   "execution_count": 28,
   "id": "9b96e238",
   "metadata": {
    "execution": {
     "iopub.execute_input": "2021-09-19T20:10:19.977591Z",
     "iopub.status.busy": "2021-09-19T20:10:19.975774Z",
     "iopub.status.idle": "2021-09-19T20:10:19.986451Z",
     "shell.execute_reply": "2021-09-19T20:10:19.985512Z"
    },
    "papermill": {
     "duration": 0.085174,
     "end_time": "2021-09-19T20:10:19.986600",
     "exception": false,
     "start_time": "2021-09-19T20:10:19.901426",
     "status": "completed"
    },
    "tags": []
   },
   "outputs": [],
   "source": [
    "#creating the x and y ranges according to the above generated plot.\n",
    "x_range = np.linspace(-4, 1, 100) \n",
    "y_range = np.linspace(-6, 6, 100) \n",
    "x_grid, y_grid = np.meshgrid(x_range, y_range) # x_grid and y_grig are of size 100 X 100\n",
    "\n",
    "# converting x_grid and y_grid to continuous arrays\n",
    "x_gridflat = np.ravel(x_grid)\n",
    "y_gridflat = np.ravel(y_grid)\n",
    "\n",
    "# The last layer of the current model takes two columns as input. Hence transpose of np.vstack() is required.\n",
    "X = np.vstack((x_gridflat, y_gridflat)).T\n",
    "\n",
    "prob_contour = model_prob(X).reshape(100,100) "
   ]
  },
  {
   "cell_type": "code",
   "execution_count": 29,
   "id": "da72499a",
   "metadata": {
    "execution": {
     "iopub.execute_input": "2021-09-19T20:10:20.117294Z",
     "iopub.status.busy": "2021-09-19T20:10:20.116615Z",
     "iopub.status.idle": "2021-09-19T20:10:20.442396Z",
     "shell.execute_reply": "2021-09-19T20:10:20.441845Z"
    },
    "papermill": {
     "duration": 0.400236,
     "end_time": "2021-09-19T20:10:20.442543",
     "exception": false,
     "start_time": "2021-09-19T20:10:20.042307",
     "status": "completed"
    },
    "tags": []
   },
   "outputs": [
    {
     "data": {
      "image/png": "[encoded data removed]",
      "text/plain": [
       "<Figure size 720x648 with 1 Axes>"
      ]
     },
     "metadata": {
      "needs_background": "light"
     },
     "output_type": "display_data"
    }
   ],
   "source": [
    "plt.figure(figsize=(10,9))\n",
    "plt.scatter(testing_plot[:,0], testing_plot[:,1], alpha = 0.1, c = y_test.ravel())\n",
    "contours = plt.contour(x_grid,y_grid,prob_contour)\n",
    "plt.title('Probability Contours')\n",
    "plt.clabel(contours, inline = True );"
   ]
  },
  {
   "cell_type": "code",
   "execution_count": null,
   "id": "e81b4ac7",
   "metadata": {
    "papermill": {
     "duration": 0.068394,
     "end_time": "2021-09-19T20:10:20.571195",
     "exception": false,
     "start_time": "2021-09-19T20:10:20.502801",
     "status": "completed"
    },
    "tags": []
   },
   "outputs": [],
   "source": []
  }
 ],
 "metadata": {
  "kernelspec": {
   "display_name": "Python 3",
   "language": "python",
   "name": "python3"
  },
  "language_info": {
   "codemirror_mode": {
    "name": "ipython",
    "version": 3
   },
   "file_extension": ".py",
   "mimetype": "text/x-python",
   "name": "python",
   "nbconvert_exporter": "python",
   "pygments_lexer": "ipython3",
   "version": "3.6.15"
  },
  "papermill": {
   "default_parameters": {},
   "duration": 156.494736,
   "end_time": "2021-09-19T20:10:21.044212",
   "environment_variables": {},
   "exception": null,
   "input_path": "2020-08-11-part2.ipynb",
   "output_path": "2020-08-11-part2.ipynb",
   "parameters": {},
   "start_time": "2021-09-19T20:07:44.549476",
   "version": "2.3.3"
  }
 },
 "nbformat": 4,
 "nbformat_minor": 5
}