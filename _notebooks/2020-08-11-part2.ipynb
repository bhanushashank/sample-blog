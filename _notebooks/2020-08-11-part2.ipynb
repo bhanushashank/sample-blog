{
 "cells": [
  {
   "cell_type": "markdown",
   "id": "98380cd3",
   "metadata": {
    "papermill": {
     "duration": 0.027846,
     "end_time": "2022-01-18T20:09:47.742028",
     "exception": false,
     "start_time": "2022-01-18T20:09:47.714182",
     "status": "completed"
    },
    "tags": []
   },
   "source": [
    "# Distinguish Your Own Digits (DYOD)"
   ]
  },
  {
   "cell_type": "markdown",
   "id": "ef31240d",
   "metadata": {
    "papermill": {
     "duration": 0.02408,
     "end_time": "2022-01-18T20:09:47.790751",
     "exception": false,
     "start_time": "2022-01-18T20:09:47.766671",
     "status": "completed"
    },
    "tags": []
   },
   "source": [
    "You are going to write a classifier that distinguishes between the number 3 and number 8."
   ]
  },
  {
   "cell_type": "code",
   "execution_count": 1,
   "id": "b15c8646",
   "metadata": {
    "execution": {
     "iopub.execute_input": "2022-01-18T20:09:47.851512Z",
     "iopub.status.busy": "2022-01-18T20:09:47.850975Z",
     "iopub.status.idle": "2022-01-18T20:09:47.861392Z",
     "shell.execute_reply": "2022-01-18T20:09:47.860948Z"
    },
    "papermill": {
     "duration": 0.046117,
     "end_time": "2022-01-18T20:09:47.861524",
     "exception": false,
     "start_time": "2022-01-18T20:09:47.815407",
     "status": "completed"
    },
    "tags": []
   },
   "outputs": [],
   "source": [
    "%load_ext autoreload\n",
    "%autoreload 2"
   ]
  },
  {
   "cell_type": "code",
   "execution_count": 2,
   "id": "22ef38dc",
   "metadata": {
    "execution": {
     "iopub.execute_input": "2022-01-18T20:09:47.919063Z",
     "iopub.status.busy": "2022-01-18T20:09:47.918413Z",
     "iopub.status.idle": "2022-01-18T20:09:48.508658Z",
     "shell.execute_reply": "2022-01-18T20:09:48.508141Z"
    },
    "papermill": {
     "duration": 0.623009,
     "end_time": "2022-01-18T20:09:48.508795",
     "exception": false,
     "start_time": "2022-01-18T20:09:47.885786",
     "status": "completed"
    },
    "tags": []
   },
   "outputs": [],
   "source": [
    "%matplotlib inline\n",
    "import numpy as np\n",
    "import matplotlib.pyplot as plt\n",
    "import pandas as pd"
   ]
  },
  {
   "cell_type": "markdown",
   "id": "ba036198",
   "metadata": {
    "papermill": {
     "duration": 0.024147,
     "end_time": "2022-01-18T20:09:48.557754",
     "exception": false,
     "start_time": "2022-01-18T20:09:48.533607",
     "status": "completed"
    },
    "tags": []
   },
   "source": [
    "From the command line run `pip install mnist`. This is a library that will help you bring down the mnist dataset. If you run this from a notebook, you need to put  `!pip install mnist` in a cell by itself."
   ]
  },
  {
   "cell_type": "code",
   "execution_count": 3,
   "id": "bb6ad8a1",
   "metadata": {
    "execution": {
     "iopub.execute_input": "2022-01-18T20:09:48.610381Z",
     "iopub.status.busy": "2022-01-18T20:09:48.609873Z",
     "iopub.status.idle": "2022-01-18T20:09:50.581855Z",
     "shell.execute_reply": "2022-01-18T20:09:50.581298Z"
    },
    "papermill": {
     "duration": 2.000131,
     "end_time": "2022-01-18T20:09:50.581986",
     "exception": false,
     "start_time": "2022-01-18T20:09:48.581855",
     "status": "completed"
    },
    "tags": []
   },
   "outputs": [
    {
     "name": "stdout",
     "output_type": "stream",
     "text": [
      "Collecting mnist\r\n"
     ]
    },
    {
     "name": "stdout",
     "output_type": "stream",
     "text": [
      "  Downloading mnist-0.2.2-py2.py3-none-any.whl (3.5 kB)\r\n",
      "Requirement already satisfied: numpy in /opt/hostedtoolcache/Python/3.6.15/x64/lib/python3.6/site-packages (from mnist) (1.19.5)\r\n"
     ]
    },
    {
     "name": "stdout",
     "output_type": "stream",
     "text": [
      "Installing collected packages: mnist\r\n",
      "Successfully installed mnist-0.2.2\r\n"
     ]
    }
   ],
   "source": [
    "!pip install mnist"
   ]
  },
  {
   "cell_type": "markdown",
   "id": "69df9c9a",
   "metadata": {
    "papermill": {
     "duration": 0.024756,
     "end_time": "2022-01-18T20:09:50.631961",
     "exception": false,
     "start_time": "2022-01-18T20:09:50.607205",
     "status": "completed"
    },
    "tags": []
   },
   "source": [
    "## Preparing the Data"
   ]
  },
  {
   "cell_type": "code",
   "execution_count": 4,
   "id": "7f69d806",
   "metadata": {
    "execution": {
     "iopub.execute_input": "2022-01-18T20:09:50.700306Z",
     "iopub.status.busy": "2022-01-18T20:09:50.693798Z",
     "iopub.status.idle": "2022-01-18T20:09:50.703789Z",
     "shell.execute_reply": "2022-01-18T20:09:50.703326Z"
    },
    "papermill": {
     "duration": 0.047192,
     "end_time": "2022-01-18T20:09:50.703909",
     "exception": false,
     "start_time": "2022-01-18T20:09:50.656717",
     "status": "completed"
    },
    "tags": []
   },
   "outputs": [],
   "source": [
    "import mnist"
   ]
  },
  {
   "cell_type": "code",
   "execution_count": 5,
   "id": "a411e44f",
   "metadata": {
    "execution": {
     "iopub.execute_input": "2022-01-18T20:09:50.766179Z",
     "iopub.status.busy": "2022-01-18T20:09:50.757664Z",
     "iopub.status.idle": "2022-01-18T20:09:51.366191Z",
     "shell.execute_reply": "2022-01-18T20:09:51.365679Z"
    },
    "papermill": {
     "duration": 0.637232,
     "end_time": "2022-01-18T20:09:51.366327",
     "exception": false,
     "start_time": "2022-01-18T20:09:50.729095",
     "status": "completed"
    },
    "tags": []
   },
   "outputs": [],
   "source": [
    "train_images = mnist.train_images()\n",
    "train_labels = mnist.train_labels()"
   ]
  },
  {
   "cell_type": "code",
   "execution_count": 6,
   "id": "dceab3a5",
   "metadata": {
    "execution": {
     "iopub.execute_input": "2022-01-18T20:09:51.422371Z",
     "iopub.status.busy": "2022-01-18T20:09:51.421833Z",
     "iopub.status.idle": "2022-01-18T20:09:51.434993Z",
     "shell.execute_reply": "2022-01-18T20:09:51.434538Z"
    },
    "papermill": {
     "duration": 0.043297,
     "end_time": "2022-01-18T20:09:51.435110",
     "exception": false,
     "start_time": "2022-01-18T20:09:51.391813",
     "status": "completed"
    },
    "tags": []
   },
   "outputs": [
    {
     "data": {
      "text/plain": [
       "((60000, 28, 28), (60000,))"
      ]
     },
     "execution_count": 6,
     "metadata": {},
     "output_type": "execute_result"
    }
   ],
   "source": [
    "train_images.shape, train_labels.shape"
   ]
  },
  {
   "cell_type": "code",
   "execution_count": 7,
   "id": "f50dc2bb",
   "metadata": {
    "execution": {
     "iopub.execute_input": "2022-01-18T20:09:51.492773Z",
     "iopub.status.busy": "2022-01-18T20:09:51.492248Z",
     "iopub.status.idle": "2022-01-18T20:09:51.775445Z",
     "shell.execute_reply": "2022-01-18T20:09:51.774894Z"
    },
    "papermill": {
     "duration": 0.315538,
     "end_time": "2022-01-18T20:09:51.775579",
     "exception": false,
     "start_time": "2022-01-18T20:09:51.460041",
     "status": "completed"
    },
    "tags": []
   },
   "outputs": [],
   "source": [
    "test_images = mnist.test_images()\n",
    "test_labels = mnist.test_labels()"
   ]
  },
  {
   "cell_type": "code",
   "execution_count": 8,
   "id": "fc38cf1b",
   "metadata": {
    "execution": {
     "iopub.execute_input": "2022-01-18T20:09:51.829710Z",
     "iopub.status.busy": "2022-01-18T20:09:51.829175Z",
     "iopub.status.idle": "2022-01-18T20:09:51.841679Z",
     "shell.execute_reply": "2022-01-18T20:09:51.842164Z"
    },
    "papermill": {
     "duration": 0.041206,
     "end_time": "2022-01-18T20:09:51.842301",
     "exception": false,
     "start_time": "2022-01-18T20:09:51.801095",
     "status": "completed"
    },
    "tags": []
   },
   "outputs": [
    {
     "data": {
      "text/plain": [
       "((10000, 28, 28), (10000,))"
      ]
     },
     "execution_count": 8,
     "metadata": {},
     "output_type": "execute_result"
    }
   ],
   "source": [
    "test_images.shape, test_labels.shape"
   ]
  },
  {
   "cell_type": "code",
   "execution_count": 9,
   "id": "f9ed8fe0",
   "metadata": {
    "execution": {
     "iopub.execute_input": "2022-01-18T20:09:51.898313Z",
     "iopub.status.busy": "2022-01-18T20:09:51.897764Z",
     "iopub.status.idle": "2022-01-18T20:09:52.036010Z",
     "shell.execute_reply": "2022-01-18T20:09:52.036495Z"
    },
    "papermill": {
     "duration": 0.169171,
     "end_time": "2022-01-18T20:09:52.036653",
     "exception": false,
     "start_time": "2022-01-18T20:09:51.867482",
     "status": "completed"
    },
    "tags": []
   },
   "outputs": [
    {
     "name": "stdout",
     "output_type": "stream",
     "text": [
      "2\n"
     ]
    },
    {
     "data": {
      "text/plain": [
       "<matplotlib.image.AxesImage at 0x7f08657ea518>"
      ]
     },
     "execution_count": 9,
     "metadata": {},
     "output_type": "execute_result"
    },
    {
     "data": {
      "image/png": "[encoded data removed]",
      "text/plain": [
       "<Figure size 432x288 with 1 Axes>"
      ]
     },
     "metadata": {
      "needs_background": "light"
     },
     "output_type": "display_data"
    }
   ],
   "source": [
    "image_index = 7776 # You may select anything up to 60,000\n",
    "print(train_labels[image_index]) \n",
    "plt.imshow(train_images[image_index], cmap='Greys')"
   ]
  },
  {
   "cell_type": "markdown",
   "id": "a8d2388d",
   "metadata": {
    "papermill": {
     "duration": 0.026237,
     "end_time": "2022-01-18T20:09:52.090810",
     "exception": false,
     "start_time": "2022-01-18T20:09:52.064573",
     "status": "completed"
    },
    "tags": []
   },
   "source": [
    "## Filter data to get 3 and 8 out"
   ]
  },
  {
   "cell_type": "code",
   "execution_count": 10,
   "id": "776f7fc7",
   "metadata": {
    "execution": {
     "iopub.execute_input": "2022-01-18T20:09:52.153714Z",
     "iopub.status.busy": "2022-01-18T20:09:52.153142Z",
     "iopub.status.idle": "2022-01-18T20:09:52.167969Z",
     "shell.execute_reply": "2022-01-18T20:09:52.167515Z"
    },
    "papermill": {
     "duration": 0.050957,
     "end_time": "2022-01-18T20:09:52.168088",
     "exception": false,
     "start_time": "2022-01-18T20:09:52.117131",
     "status": "completed"
    },
    "tags": []
   },
   "outputs": [],
   "source": [
    "train_filter = np.where((train_labels == 3 ) | (train_labels == 8))\n",
    "test_filter = np.where((test_labels == 3) | (test_labels == 8))\n",
    "X_train, y_train = train_images[train_filter], train_labels[train_filter]\n",
    "X_test, y_test = test_images[test_filter], test_labels[test_filter]"
   ]
  },
  {
   "cell_type": "markdown",
   "id": "948f0b7e",
   "metadata": {
    "papermill": {
     "duration": 0.025953,
     "end_time": "2022-01-18T20:09:52.220805",
     "exception": false,
     "start_time": "2022-01-18T20:09:52.194852",
     "status": "completed"
    },
    "tags": []
   },
   "source": [
    "We normalize the pizel values in the 0 to 1 range"
   ]
  },
  {
   "cell_type": "code",
   "execution_count": 11,
   "id": "ee4c2166",
   "metadata": {
    "execution": {
     "iopub.execute_input": "2022-01-18T20:09:52.276730Z",
     "iopub.status.busy": "2022-01-18T20:09:52.276210Z",
     "iopub.status.idle": "2022-01-18T20:09:52.323274Z",
     "shell.execute_reply": "2022-01-18T20:09:52.323740Z"
    },
    "papermill": {
     "duration": 0.076816,
     "end_time": "2022-01-18T20:09:52.323901",
     "exception": false,
     "start_time": "2022-01-18T20:09:52.247085",
     "status": "completed"
    },
    "tags": []
   },
   "outputs": [],
   "source": [
    "X_train = X_train/255.\n",
    "X_test = X_test/255."
   ]
  },
  {
   "cell_type": "markdown",
   "id": "ddcf4fab",
   "metadata": {
    "papermill": {
     "duration": 0.025893,
     "end_time": "2022-01-18T20:09:52.376834",
     "exception": false,
     "start_time": "2022-01-18T20:09:52.350941",
     "status": "completed"
    },
    "tags": []
   },
   "source": [
    "And setup the labels as 1 (when the digit is 3) and 0 (when the digit is 8)"
   ]
  },
  {
   "cell_type": "code",
   "execution_count": 12,
   "id": "7dc908f2",
   "metadata": {
    "execution": {
     "iopub.execute_input": "2022-01-18T20:09:52.432547Z",
     "iopub.status.busy": "2022-01-18T20:09:52.432017Z",
     "iopub.status.idle": "2022-01-18T20:09:52.444534Z",
     "shell.execute_reply": "2022-01-18T20:09:52.444105Z"
    },
    "papermill": {
     "duration": 0.041825,
     "end_time": "2022-01-18T20:09:52.444656",
     "exception": false,
     "start_time": "2022-01-18T20:09:52.402831",
     "status": "completed"
    },
    "tags": []
   },
   "outputs": [],
   "source": [
    "y_train = 1*(y_train==3)\n",
    "y_test = 1*(y_test==3)"
   ]
  },
  {
   "cell_type": "code",
   "execution_count": 13,
   "id": "01e4e969",
   "metadata": {
    "execution": {
     "iopub.execute_input": "2022-01-18T20:09:52.501103Z",
     "iopub.status.busy": "2022-01-18T20:09:52.500533Z",
     "iopub.status.idle": "2022-01-18T20:09:52.513881Z",
     "shell.execute_reply": "2022-01-18T20:09:52.514280Z"
    },
    "papermill": {
     "duration": 0.043311,
     "end_time": "2022-01-18T20:09:52.514419",
     "exception": false,
     "start_time": "2022-01-18T20:09:52.471108",
     "status": "completed"
    },
    "tags": []
   },
   "outputs": [
    {
     "data": {
      "text/plain": [
       "((11982, 28, 28), (1984, 28, 28))"
      ]
     },
     "execution_count": 13,
     "metadata": {},
     "output_type": "execute_result"
    }
   ],
   "source": [
    "X_train.shape, X_test.shape"
   ]
  },
  {
   "cell_type": "markdown",
   "id": "5ccf3f85",
   "metadata": {
    "papermill": {
     "duration": 0.026439,
     "end_time": "2022-01-18T20:09:52.567364",
     "exception": false,
     "start_time": "2022-01-18T20:09:52.540925",
     "status": "completed"
    },
    "tags": []
   },
   "source": [
    "We reshape the data to flatten the image pixels into a set of features or co-variates:"
   ]
  },
  {
   "cell_type": "code",
   "execution_count": 14,
   "id": "5286a4a3",
   "metadata": {
    "execution": {
     "iopub.execute_input": "2022-01-18T20:09:52.624777Z",
     "iopub.status.busy": "2022-01-18T20:09:52.624248Z",
     "iopub.status.idle": "2022-01-18T20:09:52.637684Z",
     "shell.execute_reply": "2022-01-18T20:09:52.637265Z"
    },
    "papermill": {
     "duration": 0.043955,
     "end_time": "2022-01-18T20:09:52.637803",
     "exception": false,
     "start_time": "2022-01-18T20:09:52.593848",
     "status": "completed"
    },
    "tags": []
   },
   "outputs": [
    {
     "data": {
      "text/plain": [
       "((11982, 784), (1984, 784))"
      ]
     },
     "execution_count": 14,
     "metadata": {},
     "output_type": "execute_result"
    }
   ],
   "source": [
    "X_train = X_train.reshape(X_train.shape[0], -1)\n",
    "X_test = X_test.reshape(X_test.shape[0], -1)\n",
    "X_train.shape, X_test.shape"
   ]
  },
  {
   "cell_type": "code",
   "execution_count": 15,
   "id": "73c5f88a",
   "metadata": {
    "execution": {
     "iopub.execute_input": "2022-01-18T20:09:52.697033Z",
     "iopub.status.busy": "2022-01-18T20:09:52.696495Z",
     "iopub.status.idle": "2022-01-18T20:09:52.715326Z",
     "shell.execute_reply": "2022-01-18T20:09:52.714897Z"
    },
    "papermill": {
     "duration": 0.050841,
     "end_time": "2022-01-18T20:09:52.715442",
     "exception": false,
     "start_time": "2022-01-18T20:09:52.664601",
     "status": "completed"
    },
    "tags": []
   },
   "outputs": [],
   "source": [
    "#Impoting functions from 'Kudzu'\n",
    "from kudzu.model import Model\n",
    "from kudzu.train import Learner\n",
    "from kudzu.optim import GD\n",
    "from kudzu.data import Data, Sampler,Dataloader\n",
    "\n",
    "from kudzu.callbacks import AccCallback\n",
    "from kudzu.callbacks import ClfCallback\n",
    "\n",
    "from kudzu.loss import MSE\n",
    "\n",
    "from kudzu.layer import Sigmoid,Relu\n",
    "from kudzu.layer import Affine"
   ]
  },
  {
   "cell_type": "markdown",
   "id": "bc01172a",
   "metadata": {
    "papermill": {
     "duration": 0.026762,
     "end_time": "2022-01-18T20:09:52.769617",
     "exception": false,
     "start_time": "2022-01-18T20:09:52.742855",
     "status": "completed"
    },
    "tags": []
   },
   "source": [
    "### Let us create a `Config` class, to store important parameters. \n",
    "This class essentially plays the role of a dictionary."
   ]
  },
  {
   "cell_type": "code",
   "execution_count": 16,
   "id": "978281aa",
   "metadata": {
    "execution": {
     "iopub.execute_input": "2022-01-18T20:09:52.826758Z",
     "iopub.status.busy": "2022-01-18T20:09:52.826231Z",
     "iopub.status.idle": "2022-01-18T20:09:52.838706Z",
     "shell.execute_reply": "2022-01-18T20:09:52.838288Z"
    },
    "papermill": {
     "duration": 0.042586,
     "end_time": "2022-01-18T20:09:52.838822",
     "exception": false,
     "start_time": "2022-01-18T20:09:52.796236",
     "status": "completed"
    },
    "tags": []
   },
   "outputs": [],
   "source": [
    "class Config:\n",
    "    pass\n",
    "config = Config()\n",
    "config.lr = 0.001\n",
    "config.num_epochs = 250\n",
    "config.bs = 50"
   ]
  },
  {
   "cell_type": "markdown",
   "id": "1385fa59",
   "metadata": {
    "papermill": {
     "duration": 0.026566,
     "end_time": "2022-01-18T20:09:52.892190",
     "exception": false,
     "start_time": "2022-01-18T20:09:52.865624",
     "status": "completed"
    },
    "tags": []
   },
   "source": [
    "### Running Models with the Training data\n",
    "Details about the network layers:\n",
    "- A first affine layer has 784 inputs and does 100 affine transforms. These are followed by a Relu\n",
    "- A second affine layer has 100 inputs from the 100 activations of the past layer, and does 100 affine transforms. These are followed by a Relu\n",
    "- A third affine layer has 100 activations and does 2 affine transformations to create an embedding for visualization. There is no non-linearity here.\n",
    "- A final \"logistic regression\" which has an affine transform from 2 inputs to 1 output, which is squeezed through a sigmoid.\n"
   ]
  },
  {
   "cell_type": "code",
   "execution_count": 17,
   "id": "2b9c66db",
   "metadata": {
    "execution": {
     "iopub.execute_input": "2022-01-18T20:09:52.950270Z",
     "iopub.status.busy": "2022-01-18T20:09:52.949715Z",
     "iopub.status.idle": "2022-01-18T20:09:52.962201Z",
     "shell.execute_reply": "2022-01-18T20:09:52.961769Z"
    },
    "papermill": {
     "duration": 0.043496,
     "end_time": "2022-01-18T20:09:52.962317",
     "exception": false,
     "start_time": "2022-01-18T20:09:52.918821",
     "status": "completed"
    },
    "tags": []
   },
   "outputs": [],
   "source": [
    "data = Data(X_train, y_train.reshape(-1,1))\n",
    "sampler = Sampler(data, config.bs, shuffle=True)\n",
    "\n",
    "dl = Dataloader(data, sampler)\n",
    "\n",
    "opt = GD(config.lr)\n",
    "loss = MSE()"
   ]
  },
  {
   "cell_type": "code",
   "execution_count": 18,
   "id": "b275e4c2",
   "metadata": {
    "execution": {
     "iopub.execute_input": "2022-01-18T20:09:53.030009Z",
     "iopub.status.busy": "2022-01-18T20:09:53.025385Z",
     "iopub.status.idle": "2022-01-18T20:09:53.034294Z",
     "shell.execute_reply": "2022-01-18T20:09:53.034722Z"
    },
    "papermill": {
     "duration": 0.045763,
     "end_time": "2022-01-18T20:09:53.034863",
     "exception": false,
     "start_time": "2022-01-18T20:09:52.989100",
     "status": "completed"
    },
    "tags": []
   },
   "outputs": [],
   "source": [
    "training_data_x = X_train\n",
    "testing_data_x = X_test\n",
    "training_data_y = y_train.reshape(-1,1)\n",
    "testing_data_y = y_test.reshape(-1,1)"
   ]
  },
  {
   "cell_type": "code",
   "execution_count": 19,
   "id": "76951160",
   "metadata": {
    "execution": {
     "iopub.execute_input": "2022-01-18T20:09:53.097982Z",
     "iopub.status.busy": "2022-01-18T20:09:53.092727Z",
     "iopub.status.idle": "2022-01-18T20:09:53.109245Z",
     "shell.execute_reply": "2022-01-18T20:09:53.109646Z"
    },
    "papermill": {
     "duration": 0.048187,
     "end_time": "2022-01-18T20:09:53.109788",
     "exception": false,
     "start_time": "2022-01-18T20:09:53.061601",
     "status": "completed"
    },
    "tags": []
   },
   "outputs": [
    {
     "name": "stdout",
     "output_type": "stream",
     "text": [
      "xavier\n",
      "xavier\n",
      "xavier\n",
      "xavier\n",
      "xavier\n"
     ]
    }
   ],
   "source": [
    "layers = [Affine(\"first\", 784, 100), Relu(\"first\"), Affine(\"second\", 100, 100), Relu(\"second\"), Affine(\"third\", 100, 2), Affine(\"last\", 2, 1), Sigmoid(\"last\")]\n",
    "model_nn = Model(layers)\n",
    "model_lr = Model([Affine(\"logits\", 784, 1), Sigmoid(\"sigmoid\")])"
   ]
  },
  {
   "cell_type": "code",
   "execution_count": 20,
   "id": "6eede77a",
   "metadata": {
    "execution": {
     "iopub.execute_input": "2022-01-18T20:09:53.171303Z",
     "iopub.status.busy": "2022-01-18T20:09:53.170760Z",
     "iopub.status.idle": "2022-01-18T20:09:53.182618Z",
     "shell.execute_reply": "2022-01-18T20:09:53.182191Z"
    },
    "papermill": {
     "duration": 0.045708,
     "end_time": "2022-01-18T20:09:53.182738",
     "exception": false,
     "start_time": "2022-01-18T20:09:53.137030",
     "status": "completed"
    },
    "tags": []
   },
   "outputs": [],
   "source": [
    "nn_learner = Learner(loss, model_nn, opt, config.num_epochs)\n",
    "acc_nn = ClfCallback(nn_learner, config.bs, training_data_x , testing_data_x, training_data_y, testing_data_y)\n",
    "nn_learner.set_callbacks([acc_nn])"
   ]
  },
  {
   "cell_type": "code",
   "execution_count": 21,
   "id": "877b6cc7",
   "metadata": {
    "execution": {
     "iopub.execute_input": "2022-01-18T20:09:53.241735Z",
     "iopub.status.busy": "2022-01-18T20:09:53.241209Z",
     "iopub.status.idle": "2022-01-18T20:09:53.252770Z",
     "shell.execute_reply": "2022-01-18T20:09:53.253248Z"
    },
    "papermill": {
     "duration": 0.043618,
     "end_time": "2022-01-18T20:09:53.253391",
     "exception": false,
     "start_time": "2022-01-18T20:09:53.209773",
     "status": "completed"
    },
    "tags": []
   },
   "outputs": [],
   "source": [
    "lr_learner = Learner(loss, model_lr, opt, config.num_epochs)\n",
    "acc_lr = ClfCallback(lr_learner, config.bs, training_data_x , testing_data_x, training_data_y, testing_data_y)\n",
    "lr_learner.set_callbacks([acc_lr])"
   ]
  },
  {
   "cell_type": "code",
   "execution_count": 22,
   "id": "d9b133c3",
   "metadata": {
    "execution": {
     "iopub.execute_input": "2022-01-18T20:09:53.312244Z",
     "iopub.status.busy": "2022-01-18T20:09:53.311725Z",
     "iopub.status.idle": "2022-01-18T20:11:13.471847Z",
     "shell.execute_reply": "2022-01-18T20:11:13.472600Z"
    },
    "papermill": {
     "duration": 80.191957,
     "end_time": "2022-01-18T20:11:13.472748",
     "exception": false,
     "start_time": "2022-01-18T20:09:53.280791",
     "status": "completed"
    },
    "tags": []
   },
   "outputs": [
    {
     "name": "stdout",
     "output_type": "stream",
     "text": [
      "Epoch 0, Loss 0.2204\n",
      "Training Accuracy: 0.8214, Testing Accuracy: 0.8427\n",
      "\n"
     ]
    },
    {
     "name": "stdout",
     "output_type": "stream",
     "text": [
      "Epoch 10, Loss 0.084\n",
      "Training Accuracy: 0.9210, Testing Accuracy: 0.9284\n",
      "\n"
     ]
    },
    {
     "name": "stdout",
     "output_type": "stream",
     "text": [
      "Epoch 20, Loss 0.0548\n",
      "Training Accuracy: 0.9408, Testing Accuracy: 0.9466\n",
      "\n"
     ]
    },
    {
     "name": "stdout",
     "output_type": "stream",
     "text": [
      "Epoch 30, Loss 0.0441\n",
      "Training Accuracy: 0.9509, Testing Accuracy: 0.9577\n",
      "\n"
     ]
    },
    {
     "name": "stdout",
     "output_type": "stream",
     "text": [
      "Epoch 40, Loss 0.0386\n",
      "Training Accuracy: 0.9565, Testing Accuracy: 0.9592\n",
      "\n"
     ]
    },
    {
     "name": "stdout",
     "output_type": "stream",
     "text": [
      "Epoch 50, Loss 0.0352\n",
      "Training Accuracy: 0.9605, Testing Accuracy: 0.9627\n",
      "\n"
     ]
    },
    {
     "name": "stdout",
     "output_type": "stream",
     "text": [
      "Epoch 60, Loss 0.0328\n",
      "Training Accuracy: 0.9622, Testing Accuracy: 0.9642\n",
      "\n"
     ]
    },
    {
     "name": "stdout",
     "output_type": "stream",
     "text": [
      "Epoch 70, Loss 0.031\n",
      "Training Accuracy: 0.9632, Testing Accuracy: 0.9657\n",
      "\n"
     ]
    },
    {
     "name": "stdout",
     "output_type": "stream",
     "text": [
      "Epoch 80, Loss 0.0296\n",
      "Training Accuracy: 0.9649, Testing Accuracy: 0.9667\n",
      "\n"
     ]
    },
    {
     "name": "stdout",
     "output_type": "stream",
     "text": [
      "Epoch 90, Loss 0.0284\n",
      "Training Accuracy: 0.9663, Testing Accuracy: 0.9672\n",
      "\n"
     ]
    },
    {
     "name": "stdout",
     "output_type": "stream",
     "text": [
      "Epoch 100, Loss 0.0275\n",
      "Training Accuracy: 0.9682, Testing Accuracy: 0.9682\n",
      "\n"
     ]
    },
    {
     "name": "stdout",
     "output_type": "stream",
     "text": [
      "Epoch 110, Loss 0.0266\n",
      "Training Accuracy: 0.9690, Testing Accuracy: 0.9693\n",
      "\n"
     ]
    },
    {
     "name": "stdout",
     "output_type": "stream",
     "text": [
      "Epoch 120, Loss 0.0259\n",
      "Training Accuracy: 0.9695, Testing Accuracy: 0.9693\n",
      "\n"
     ]
    },
    {
     "name": "stdout",
     "output_type": "stream",
     "text": [
      "Epoch 130, Loss 0.0252\n",
      "Training Accuracy: 0.9702, Testing Accuracy: 0.9703\n",
      "\n"
     ]
    },
    {
     "name": "stdout",
     "output_type": "stream",
     "text": [
      "Epoch 140, Loss 0.0246\n",
      "Training Accuracy: 0.9708, Testing Accuracy: 0.9693\n",
      "\n"
     ]
    },
    {
     "name": "stdout",
     "output_type": "stream",
     "text": [
      "Epoch 150, Loss 0.0241\n",
      "Training Accuracy: 0.9715, Testing Accuracy: 0.9718\n",
      "\n"
     ]
    },
    {
     "name": "stdout",
     "output_type": "stream",
     "text": [
      "Epoch 160, Loss 0.0236\n",
      "Training Accuracy: 0.9722, Testing Accuracy: 0.9718\n",
      "\n"
     ]
    },
    {
     "name": "stdout",
     "output_type": "stream",
     "text": [
      "Epoch 170, Loss 0.0231\n",
      "Training Accuracy: 0.9727, Testing Accuracy: 0.9713\n",
      "\n"
     ]
    },
    {
     "name": "stdout",
     "output_type": "stream",
     "text": [
      "Epoch 180, Loss 0.0227\n",
      "Training Accuracy: 0.9734, Testing Accuracy: 0.9723\n",
      "\n"
     ]
    },
    {
     "name": "stdout",
     "output_type": "stream",
     "text": [
      "Epoch 190, Loss 0.0223\n",
      "Training Accuracy: 0.9745, Testing Accuracy: 0.9728\n",
      "\n"
     ]
    },
    {
     "name": "stdout",
     "output_type": "stream",
     "text": [
      "Epoch 200, Loss 0.0219\n",
      "Training Accuracy: 0.9750, Testing Accuracy: 0.9723\n",
      "\n"
     ]
    },
    {
     "name": "stdout",
     "output_type": "stream",
     "text": [
      "Epoch 210, Loss 0.0215\n",
      "Training Accuracy: 0.9755, Testing Accuracy: 0.9728\n",
      "\n"
     ]
    },
    {
     "name": "stdout",
     "output_type": "stream",
     "text": [
      "Epoch 220, Loss 0.0211\n",
      "Training Accuracy: 0.9759, Testing Accuracy: 0.9728\n",
      "\n"
     ]
    },
    {
     "name": "stdout",
     "output_type": "stream",
     "text": [
      "Epoch 230, Loss 0.0208\n",
      "Training Accuracy: 0.9765, Testing Accuracy: 0.9728\n",
      "\n"
     ]
    },
    {
     "name": "stdout",
     "output_type": "stream",
     "text": [
      "Epoch 240, Loss 0.0204\n",
      "Training Accuracy: 0.9771, Testing Accuracy: 0.9728\n",
      "\n"
     ]
    },
    {
     "data": {
      "text/plain": [
       "0.03766189604412079"
      ]
     },
     "execution_count": 22,
     "metadata": {},
     "output_type": "execute_result"
    }
   ],
   "source": [
    "nn_learner.train_loop(dl)"
   ]
  },
  {
   "cell_type": "code",
   "execution_count": 23,
   "id": "e0163366",
   "metadata": {
    "execution": {
     "iopub.execute_input": "2022-01-18T20:11:13.550629Z",
     "iopub.status.busy": "2022-01-18T20:11:13.550091Z",
     "iopub.status.idle": "2022-01-18T20:11:27.616055Z",
     "shell.execute_reply": "2022-01-18T20:11:27.616788Z"
    },
    "papermill": {
     "duration": 14.109542,
     "end_time": "2022-01-18T20:11:27.616957",
     "exception": false,
     "start_time": "2022-01-18T20:11:13.507415",
     "status": "completed"
    },
    "tags": []
   },
   "outputs": [
    {
     "name": "stdout",
     "output_type": "stream",
     "text": [
      "Epoch 0, Loss 0.2575\n",
      "Training Accuracy: 0.6299, Testing Accuracy: 0.6522\n",
      "\n"
     ]
    },
    {
     "name": "stdout",
     "output_type": "stream",
     "text": [
      "Epoch 10, Loss 0.1057\n",
      "Training Accuracy: 0.9034, Testing Accuracy: 0.9083\n",
      "\n"
     ]
    },
    {
     "name": "stdout",
     "output_type": "stream",
     "text": [
      "Epoch 20, Loss 0.0808\n",
      "Training Accuracy: 0.9236, Testing Accuracy: 0.9360\n",
      "\n"
     ]
    },
    {
     "name": "stdout",
     "output_type": "stream",
     "text": [
      "Epoch 30, Loss 0.0695\n",
      "Training Accuracy: 0.9318, Testing Accuracy: 0.9446\n",
      "\n"
     ]
    },
    {
     "name": "stdout",
     "output_type": "stream",
     "text": [
      "Epoch 40, Loss 0.0626\n",
      "Training Accuracy: 0.9377, Testing Accuracy: 0.9501\n",
      "\n"
     ]
    },
    {
     "name": "stdout",
     "output_type": "stream",
     "text": [
      "Epoch 50, Loss 0.058\n",
      "Training Accuracy: 0.9421, Testing Accuracy: 0.9541\n",
      "\n"
     ]
    },
    {
     "name": "stdout",
     "output_type": "stream",
     "text": [
      "Epoch 60, Loss 0.0546\n",
      "Training Accuracy: 0.9445, Testing Accuracy: 0.9587\n",
      "\n"
     ]
    },
    {
     "name": "stdout",
     "output_type": "stream",
     "text": [
      "Epoch 70, Loss 0.052\n",
      "Training Accuracy: 0.9472, Testing Accuracy: 0.9602\n",
      "\n"
     ]
    },
    {
     "name": "stdout",
     "output_type": "stream",
     "text": [
      "Epoch 80, Loss 0.0499\n",
      "Training Accuracy: 0.9479, Testing Accuracy: 0.9622\n",
      "\n"
     ]
    },
    {
     "name": "stdout",
     "output_type": "stream",
     "text": [
      "Epoch 90, Loss 0.0482\n",
      "Training Accuracy: 0.9498, Testing Accuracy: 0.9627\n",
      "\n"
     ]
    },
    {
     "name": "stdout",
     "output_type": "stream",
     "text": [
      "Epoch 100, Loss 0.0467\n",
      "Training Accuracy: 0.9511, Testing Accuracy: 0.9637\n",
      "\n"
     ]
    },
    {
     "name": "stdout",
     "output_type": "stream",
     "text": [
      "Epoch 110, Loss 0.0455\n",
      "Training Accuracy: 0.9523, Testing Accuracy: 0.9647\n",
      "\n"
     ]
    },
    {
     "name": "stdout",
     "output_type": "stream",
     "text": [
      "Epoch 120, Loss 0.0444\n",
      "Training Accuracy: 0.9531, Testing Accuracy: 0.9662\n",
      "\n"
     ]
    },
    {
     "name": "stdout",
     "output_type": "stream",
     "text": [
      "Epoch 130, Loss 0.0434\n",
      "Training Accuracy: 0.9542, Testing Accuracy: 0.9657\n",
      "\n"
     ]
    },
    {
     "name": "stdout",
     "output_type": "stream",
     "text": [
      "Epoch 140, Loss 0.0426\n",
      "Training Accuracy: 0.9549, Testing Accuracy: 0.9657\n",
      "\n"
     ]
    },
    {
     "name": "stdout",
     "output_type": "stream",
     "text": [
      "Epoch 150, Loss 0.0418\n",
      "Training Accuracy: 0.9553, Testing Accuracy: 0.9667\n",
      "\n"
     ]
    },
    {
     "name": "stdout",
     "output_type": "stream",
     "text": [
      "Epoch 160, Loss 0.0411\n",
      "Training Accuracy: 0.9559, Testing Accuracy: 0.9672\n",
      "\n"
     ]
    },
    {
     "name": "stdout",
     "output_type": "stream",
     "text": [
      "Epoch 170, Loss 0.0405\n",
      "Training Accuracy: 0.9567, Testing Accuracy: 0.9672\n",
      "\n"
     ]
    },
    {
     "name": "stdout",
     "output_type": "stream",
     "text": [
      "Epoch 180, Loss 0.0399\n",
      "Training Accuracy: 0.9571, Testing Accuracy: 0.9672\n",
      "\n"
     ]
    },
    {
     "name": "stdout",
     "output_type": "stream",
     "text": [
      "Epoch 190, Loss 0.0394\n",
      "Training Accuracy: 0.9574, Testing Accuracy: 0.9672\n",
      "\n"
     ]
    },
    {
     "name": "stdout",
     "output_type": "stream",
     "text": [
      "Epoch 200, Loss 0.0389\n",
      "Training Accuracy: 0.9582, Testing Accuracy: 0.9677\n",
      "\n"
     ]
    },
    {
     "name": "stdout",
     "output_type": "stream",
     "text": [
      "Epoch 210, Loss 0.0384\n",
      "Training Accuracy: 0.9585, Testing Accuracy: 0.9677\n",
      "\n"
     ]
    },
    {
     "name": "stdout",
     "output_type": "stream",
     "text": [
      "Epoch 220, Loss 0.038\n",
      "Training Accuracy: 0.9588, Testing Accuracy: 0.9682\n",
      "\n"
     ]
    },
    {
     "name": "stdout",
     "output_type": "stream",
     "text": [
      "Epoch 230, Loss 0.0376\n",
      "Training Accuracy: 0.9594, Testing Accuracy: 0.9688\n",
      "\n"
     ]
    },
    {
     "name": "stdout",
     "output_type": "stream",
     "text": [
      "Epoch 240, Loss 0.0372\n",
      "Training Accuracy: 0.9596, Testing Accuracy: 0.9688\n",
      "\n"
     ]
    },
    {
     "data": {
      "text/plain": [
       "0.056627006953533676"
      ]
     },
     "execution_count": 23,
     "metadata": {},
     "output_type": "execute_result"
    }
   ],
   "source": [
    "lr_learner.train_loop(dl)"
   ]
  },
  {
   "cell_type": "code",
   "execution_count": 24,
   "id": "ca410940",
   "metadata": {
    "execution": {
     "iopub.execute_input": "2022-01-18T20:11:27.714577Z",
     "iopub.status.busy": "2022-01-18T20:11:27.714019Z",
     "iopub.status.idle": "2022-01-18T20:11:27.937298Z",
     "shell.execute_reply": "2022-01-18T20:11:27.937714Z"
    },
    "papermill": {
     "duration": 0.279489,
     "end_time": "2022-01-18T20:11:27.937850",
     "exception": false,
     "start_time": "2022-01-18T20:11:27.658361",
     "status": "completed"
    },
    "tags": []
   },
   "outputs": [
    {
     "data": {
      "text/plain": [
       "<matplotlib.legend.Legend at 0x7f08653c4c88>"
      ]
     },
     "execution_count": 24,
     "metadata": {},
     "output_type": "execute_result"
    },
    {
     "data": {
      "image/png": "[encoded data removed]",
      "text/plain": [
       "<Figure size 1080x720 with 1 Axes>"
      ]
     },
     "metadata": {
      "needs_background": "light"
     },
     "output_type": "display_data"
    }
   ],
   "source": [
    "#comparing the results of NN and LR\n",
    "plt.figure(figsize=(15,10))\n",
    "\n",
    "# Neural Network plots\n",
    "plt.plot(acc_nn.accuracies, 'r-', label = \"Training Accuracies - NN\")\n",
    "plt.plot(acc_nn.test_accuracies, 'g-', label = \"Testing Accuracies - NN\")\n",
    "\n",
    "# Logistic Regression plots\n",
    "plt.plot(acc_lr.accuracies, 'k-', label = \"Training Accuracies - LR\")\n",
    "plt.plot(acc_lr.test_accuracies, 'b-', label = \"Testing Accuracies - LR\")\n",
    "plt.legend()"
   ]
  },
  {
   "cell_type": "markdown",
   "id": "80dfb35c",
   "metadata": {
    "papermill": {
     "duration": 0.042133,
     "end_time": "2022-01-18T20:11:28.022298",
     "exception": false,
     "start_time": "2022-01-18T20:11:27.980165",
     "status": "completed"
    },
    "tags": []
   },
   "source": [
    "#### Plotting the outputs of this layer of the NN.\n"
   ]
  },
  {
   "cell_type": "code",
   "execution_count": 25,
   "id": "45eb2ff5",
   "metadata": {
    "execution": {
     "iopub.execute_input": "2022-01-18T20:11:28.113893Z",
     "iopub.status.busy": "2022-01-18T20:11:28.113248Z",
     "iopub.status.idle": "2022-01-18T20:11:28.132804Z",
     "shell.execute_reply": "2022-01-18T20:11:28.133255Z"
    },
    "papermill": {
     "duration": 0.069065,
     "end_time": "2022-01-18T20:11:28.133407",
     "exception": false,
     "start_time": "2022-01-18T20:11:28.064342",
     "status": "completed"
    },
    "tags": []
   },
   "outputs": [],
   "source": [
    "new_model = Model(layers[:-2])\n",
    "testing_plot = new_model(testing_data_x)"
   ]
  },
  {
   "cell_type": "code",
   "execution_count": 26,
   "id": "4c0a5485",
   "metadata": {
    "execution": {
     "iopub.execute_input": "2022-01-18T20:11:28.225042Z",
     "iopub.status.busy": "2022-01-18T20:11:28.224477Z",
     "iopub.status.idle": "2022-01-18T20:11:28.439182Z",
     "shell.execute_reply": "2022-01-18T20:11:28.439608Z"
    },
    "papermill": {
     "duration": 0.263092,
     "end_time": "2022-01-18T20:11:28.439749",
     "exception": false,
     "start_time": "2022-01-18T20:11:28.176657",
     "status": "completed"
    },
    "tags": []
   },
   "outputs": [
    {
     "data": {
      "text/plain": [
       "Text(0.5, 1.0, 'Outputs')"
      ]
     },
     "execution_count": 26,
     "metadata": {},
     "output_type": "execute_result"
    },
    {
     "data": {
      "image/png": "[encoded data removed]",
      "text/plain": [
       "<Figure size 576x504 with 1 Axes>"
      ]
     },
     "metadata": {
      "needs_background": "light"
     },
     "output_type": "display_data"
    }
   ],
   "source": [
    "# Plotting the scatter plot of points and color coding by class\n",
    "plt.figure(figsize=(8,7))\n",
    "plt.scatter(testing_plot[:,0], testing_plot[:,1], alpha = 0.1, c = y_test.ravel());\n",
    "plt.title('Outputs')"
   ]
  },
  {
   "cell_type": "markdown",
   "id": "a74fcf8f",
   "metadata": {
    "papermill": {
     "duration": 0.045533,
     "end_time": "2022-01-18T20:11:28.530219",
     "exception": false,
     "start_time": "2022-01-18T20:11:28.484686",
     "status": "completed"
    },
    "tags": []
   },
   "source": [
    "Probability contours"
   ]
  },
  {
   "cell_type": "code",
   "execution_count": 27,
   "id": "d0afc8e3",
   "metadata": {
    "execution": {
     "iopub.execute_input": "2022-01-18T20:11:28.626321Z",
     "iopub.status.busy": "2022-01-18T20:11:28.625692Z",
     "iopub.status.idle": "2022-01-18T20:11:28.635127Z",
     "shell.execute_reply": "2022-01-18T20:11:28.634676Z"
    },
    "papermill": {
     "duration": 0.059947,
     "end_time": "2022-01-18T20:11:28.635251",
     "exception": false,
     "start_time": "2022-01-18T20:11:28.575304",
     "status": "completed"
    },
    "tags": []
   },
   "outputs": [],
   "source": [
    "model_prob = Model(layers[-2:]) "
   ]
  },
  {
   "cell_type": "code",
   "execution_count": 28,
   "id": "9b96e238",
   "metadata": {
    "execution": {
     "iopub.execute_input": "2022-01-18T20:11:28.730469Z",
     "iopub.status.busy": "2022-01-18T20:11:28.729843Z",
     "iopub.status.idle": "2022-01-18T20:11:28.743961Z",
     "shell.execute_reply": "2022-01-18T20:11:28.744373Z"
    },
    "papermill": {
     "duration": 0.064145,
     "end_time": "2022-01-18T20:11:28.744520",
     "exception": false,
     "start_time": "2022-01-18T20:11:28.680375",
     "status": "completed"
    },
    "tags": []
   },
   "outputs": [],
   "source": [
    "#creating the x and y ranges according to the above generated plot.\n",
    "x_range = np.linspace(-4, 1, 100) \n",
    "y_range = np.linspace(-6, 6, 100) \n",
    "x_grid, y_grid = np.meshgrid(x_range, y_range) # x_grid and y_grig are of size 100 X 100\n",
    "\n",
    "# converting x_grid and y_grid to continuous arrays\n",
    "x_gridflat = np.ravel(x_grid)\n",
    "y_gridflat = np.ravel(y_grid)\n",
    "\n",
    "# The last layer of the current model takes two columns as input. Hence transpose of np.vstack() is required.\n",
    "X = np.vstack((x_gridflat, y_gridflat)).T\n",
    "\n",
    "prob_contour = model_prob(X).reshape(100,100) "
   ]
  },
  {
   "cell_type": "code",
   "execution_count": 29,
   "id": "da72499a",
   "metadata": {
    "execution": {
     "iopub.execute_input": "2022-01-18T20:11:28.844638Z",
     "iopub.status.busy": "2022-01-18T20:11:28.844079Z",
     "iopub.status.idle": "2022-01-18T20:11:29.094627Z",
     "shell.execute_reply": "2022-01-18T20:11:29.095059Z"
    },
    "papermill": {
     "duration": 0.301347,
     "end_time": "2022-01-18T20:11:29.095199",
     "exception": false,
     "start_time": "2022-01-18T20:11:28.793852",
     "status": "completed"
    },
    "tags": []
   },
   "outputs": [
    {
     "data": {
      "image/png": "[encoded data removed]",
      "text/plain": [
       "<Figure size 720x648 with 1 Axes>"
      ]
     },
     "metadata": {
      "needs_background": "light"
     },
     "output_type": "display_data"
    }
   ],
   "source": [
    "plt.figure(figsize=(10,9))\n",
    "plt.scatter(testing_plot[:,0], testing_plot[:,1], alpha = 0.1, c = y_test.ravel())\n",
    "contours = plt.contour(x_grid,y_grid,prob_contour)\n",
    "plt.title('Probability Contours')\n",
    "plt.clabel(contours, inline = True );"
   ]
  },
  {
   "cell_type": "code",
   "execution_count": null,
   "id": "e81b4ac7",
   "metadata": {
    "papermill": {
     "duration": 0.04731,
     "end_time": "2022-01-18T20:11:29.222075",
     "exception": false,
     "start_time": "2022-01-18T20:11:29.174765",
     "status": "completed"
    },
    "tags": []
   },
   "outputs": [],
   "source": []
  }
 ],
 "metadata": {
  "kernelspec": {
   "display_name": "Python 3",
   "language": "python",
   "name": "python3"
  },
  "language_info": {
   "codemirror_mode": {
    "name": "ipython",
    "version": 3
   },
   "file_extension": ".py",
   "mimetype": "text/x-python",
   "name": "python",
   "nbconvert_exporter": "python",
   "pygments_lexer": "ipython3",
   "version": "3.6.15"
  },
  "papermill": {
   "default_parameters": {},
   "duration": 102.920169,
   "end_time": "2022-01-18T20:11:29.688181",
   "environment_variables": {},
   "exception": null,
   "input_path": "2020-08-11-part2.ipynb",
   "output_path": "2020-08-11-part2.ipynb",
   "parameters": {},
   "start_time": "2022-01-18T20:09:46.768012",
   "version": "2.3.3"
  }
 },
 "nbformat": 4,
 "nbformat_minor": 5
}