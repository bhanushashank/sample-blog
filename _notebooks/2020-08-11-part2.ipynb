{
 "cells": [
  {
   "cell_type": "markdown",
   "id": "98380cd3",
   "metadata": {
    "papermill": {
     "duration": 0.028946,
     "end_time": "2022-11-13T00:39:51.499398",
     "exception": false,
     "start_time": "2022-11-13T00:39:51.470452",
     "status": "completed"
    },
    "tags": []
   },
   "source": [
    "# Distinguish Your Own Digits (DYOD)"
   ]
  },
  {
   "cell_type": "markdown",
   "id": "ef31240d",
   "metadata": {
    "papermill": {
     "duration": 0.024025,
     "end_time": "2022-11-13T00:39:51.548131",
     "exception": false,
     "start_time": "2022-11-13T00:39:51.524106",
     "status": "completed"
    },
    "tags": []
   },
   "source": [
    "You are going to write a classifier that distinguishes between the number 3 and number 8."
   ]
  },
  {
   "cell_type": "code",
   "execution_count": 1,
   "id": "b15c8646",
   "metadata": {
    "execution": {
     "iopub.execute_input": "2022-11-13T00:39:51.606246Z",
     "iopub.status.busy": "2022-11-13T00:39:51.605683Z",
     "iopub.status.idle": "2022-11-13T00:39:51.616190Z",
     "shell.execute_reply": "2022-11-13T00:39:51.615727Z"
    },
    "papermill": {
     "duration": 0.043999,
     "end_time": "2022-11-13T00:39:51.616300",
     "exception": false,
     "start_time": "2022-11-13T00:39:51.572301",
     "status": "completed"
    },
    "tags": []
   },
   "outputs": [],
   "source": [
    "%load_ext autoreload\n",
    "%autoreload 2"
   ]
  },
  {
   "cell_type": "code",
   "execution_count": 2,
   "id": "22ef38dc",
   "metadata": {
    "execution": {
     "iopub.execute_input": "2022-11-13T00:39:51.667907Z",
     "iopub.status.busy": "2022-11-13T00:39:51.667309Z",
     "iopub.status.idle": "2022-11-13T00:39:52.165032Z",
     "shell.execute_reply": "2022-11-13T00:39:52.164558Z"
    },
    "papermill": {
     "duration": 0.524832,
     "end_time": "2022-11-13T00:39:52.165144",
     "exception": false,
     "start_time": "2022-11-13T00:39:51.640312",
     "status": "completed"
    },
    "tags": []
   },
   "outputs": [],
   "source": [
    "%matplotlib inline\n",
    "import numpy as np\n",
    "import matplotlib.pyplot as plt\n",
    "import pandas as pd"
   ]
  },
  {
   "cell_type": "markdown",
   "id": "ba036198",
   "metadata": {
    "papermill": {
     "duration": 0.024193,
     "end_time": "2022-11-13T00:39:52.213543",
     "exception": false,
     "start_time": "2022-11-13T00:39:52.189350",
     "status": "completed"
    },
    "tags": []
   },
   "source": [
    "From the command line run `pip install mnist`. This is a library that will help you bring down the mnist dataset. If you run this from a notebook, you need to put  `!pip install mnist` in a cell by itself."
   ]
  },
  {
   "cell_type": "code",
   "execution_count": 3,
   "id": "bb6ad8a1",
   "metadata": {
    "execution": {
     "iopub.execute_input": "2022-11-13T00:39:52.265352Z",
     "iopub.status.busy": "2022-11-13T00:39:52.264799Z",
     "iopub.status.idle": "2022-11-13T00:39:54.776402Z",
     "shell.execute_reply": "2022-11-13T00:39:54.775130Z"
    },
    "papermill": {
     "duration": 2.538735,
     "end_time": "2022-11-13T00:39:54.776522",
     "exception": false,
     "start_time": "2022-11-13T00:39:52.237787",
     "status": "completed"
    },
    "tags": []
   },
   "outputs": [
    {
     "name": "stdout",
     "output_type": "stream",
     "text": [
      "Collecting mnist\r\n"
     ]
    },
    {
     "name": "stdout",
     "output_type": "stream",
     "text": [
      "  Downloading mnist-0.2.2-py2.py3-none-any.whl (3.5 kB)\r\n",
      "Requirement already satisfied: numpy in /opt/hostedtoolcache/Python/3.6.15/x64/lib/python3.6/site-packages (from mnist) (1.19.5)\r\n"
     ]
    },
    {
     "name": "stdout",
     "output_type": "stream",
     "text": [
      "Installing collected packages: mnist\r\n"
     ]
    },
    {
     "name": "stdout",
     "output_type": "stream",
     "text": [
      "Successfully installed mnist-0.2.2\r\n"
     ]
    }
   ],
   "source": [
    "!pip install mnist"
   ]
  },
  {
   "cell_type": "markdown",
   "id": "69df9c9a",
   "metadata": {
    "papermill": {
     "duration": 0.025967,
     "end_time": "2022-11-13T00:39:54.828104",
     "exception": false,
     "start_time": "2022-11-13T00:39:54.802137",
     "status": "completed"
    },
    "tags": []
   },
   "source": [
    "## Preparing the Data"
   ]
  },
  {
   "cell_type": "code",
   "execution_count": 4,
   "id": "7f69d806",
   "metadata": {
    "execution": {
     "iopub.execute_input": "2022-11-13T00:39:54.884534Z",
     "iopub.status.busy": "2022-11-13T00:39:54.882057Z",
     "iopub.status.idle": "2022-11-13T00:39:54.896249Z",
     "shell.execute_reply": "2022-11-13T00:39:54.895794Z"
    },
    "papermill": {
     "duration": 0.043071,
     "end_time": "2022-11-13T00:39:54.896353",
     "exception": false,
     "start_time": "2022-11-13T00:39:54.853282",
     "status": "completed"
    },
    "tags": []
   },
   "outputs": [],
   "source": [
    "import mnist"
   ]
  },
  {
   "cell_type": "code",
   "execution_count": 5,
   "id": "a411e44f",
   "metadata": {
    "execution": {
     "iopub.execute_input": "2022-11-13T00:39:54.949747Z",
     "iopub.status.busy": "2022-11-13T00:39:54.949203Z",
     "iopub.status.idle": "2022-11-13T00:39:55.556014Z",
     "shell.execute_reply": "2022-11-13T00:39:55.555481Z"
    },
    "papermill": {
     "duration": 0.634566,
     "end_time": "2022-11-13T00:39:55.556125",
     "exception": false,
     "start_time": "2022-11-13T00:39:54.921559",
     "status": "completed"
    },
    "tags": []
   },
   "outputs": [],
   "source": [
    "train_images = mnist.train_images()\n",
    "train_labels = mnist.train_labels()"
   ]
  },
  {
   "cell_type": "code",
   "execution_count": 6,
   "id": "dceab3a5",
   "metadata": {
    "execution": {
     "iopub.execute_input": "2022-11-13T00:39:55.611244Z",
     "iopub.status.busy": "2022-11-13T00:39:55.610687Z",
     "iopub.status.idle": "2022-11-13T00:39:55.624705Z",
     "shell.execute_reply": "2022-11-13T00:39:55.625227Z"
    },
    "papermill": {
     "duration": 0.043279,
     "end_time": "2022-11-13T00:39:55.625354",
     "exception": false,
     "start_time": "2022-11-13T00:39:55.582075",
     "status": "completed"
    },
    "tags": []
   },
   "outputs": [
    {
     "data": {
      "text/plain": [
       "((60000, 28, 28), (60000,))"
      ]
     },
     "execution_count": 6,
     "metadata": {},
     "output_type": "execute_result"
    }
   ],
   "source": [
    "train_images.shape, train_labels.shape"
   ]
  },
  {
   "cell_type": "code",
   "execution_count": 7,
   "id": "f50dc2bb",
   "metadata": {
    "execution": {
     "iopub.execute_input": "2022-11-13T00:39:55.679987Z",
     "iopub.status.busy": "2022-11-13T00:39:55.679399Z",
     "iopub.status.idle": "2022-11-13T00:39:55.883986Z",
     "shell.execute_reply": "2022-11-13T00:39:55.883449Z"
    },
    "papermill": {
     "duration": 0.233122,
     "end_time": "2022-11-13T00:39:55.884099",
     "exception": false,
     "start_time": "2022-11-13T00:39:55.650977",
     "status": "completed"
    },
    "tags": []
   },
   "outputs": [],
   "source": [
    "test_images = mnist.test_images()\n",
    "test_labels = mnist.test_labels()"
   ]
  },
  {
   "cell_type": "code",
   "execution_count": 8,
   "id": "fc38cf1b",
   "metadata": {
    "execution": {
     "iopub.execute_input": "2022-11-13T00:39:55.939416Z",
     "iopub.status.busy": "2022-11-13T00:39:55.938862Z",
     "iopub.status.idle": "2022-11-13T00:39:55.951377Z",
     "shell.execute_reply": "2022-11-13T00:39:55.951959Z"
    },
    "papermill": {
     "duration": 0.041929,
     "end_time": "2022-11-13T00:39:55.952085",
     "exception": false,
     "start_time": "2022-11-13T00:39:55.910156",
     "status": "completed"
    },
    "tags": []
   },
   "outputs": [
    {
     "data": {
      "text/plain": [
       "((10000, 28, 28), (10000,))"
      ]
     },
     "execution_count": 8,
     "metadata": {},
     "output_type": "execute_result"
    }
   ],
   "source": [
    "test_images.shape, test_labels.shape"
   ]
  },
  {
   "cell_type": "code",
   "execution_count": 9,
   "id": "f9ed8fe0",
   "metadata": {
    "execution": {
     "iopub.execute_input": "2022-11-13T00:39:56.007331Z",
     "iopub.status.busy": "2022-11-13T00:39:56.006757Z",
     "iopub.status.idle": "2022-11-13T00:39:56.139968Z",
     "shell.execute_reply": "2022-11-13T00:39:56.139470Z"
    },
    "papermill": {
     "duration": 0.162176,
     "end_time": "2022-11-13T00:39:56.140078",
     "exception": false,
     "start_time": "2022-11-13T00:39:55.977902",
     "status": "completed"
    },
    "tags": []
   },
   "outputs": [
    {
     "name": "stdout",
     "output_type": "stream",
     "text": [
      "2\n"
     ]
    },
    {
     "data": {
      "text/plain": [
       "<matplotlib.image.AxesImage at 0x7ff138731e48>"
      ]
     },
     "execution_count": 9,
     "metadata": {},
     "output_type": "execute_result"
    },
    {
     "data": {
      "image/png": "[encoded data removed]",
      "text/plain": [
       "<Figure size 432x288 with 1 Axes>"
      ]
     },
     "metadata": {
      "needs_background": "light"
     },
     "output_type": "display_data"
    }
   ],
   "source": [
    "image_index = 7776 # You may select anything up to 60,000\n",
    "print(train_labels[image_index]) \n",
    "plt.imshow(train_images[image_index], cmap='Greys')"
   ]
  },
  {
   "cell_type": "markdown",
   "id": "a8d2388d",
   "metadata": {
    "papermill": {
     "duration": 0.02688,
     "end_time": "2022-11-13T00:39:56.193950",
     "exception": false,
     "start_time": "2022-11-13T00:39:56.167070",
     "status": "completed"
    },
    "tags": []
   },
   "source": [
    "## Filter data to get 3 and 8 out"
   ]
  },
  {
   "cell_type": "code",
   "execution_count": 10,
   "id": "776f7fc7",
   "metadata": {
    "execution": {
     "iopub.execute_input": "2022-11-13T00:39:56.256244Z",
     "iopub.status.busy": "2022-11-13T00:39:56.251444Z",
     "iopub.status.idle": "2022-11-13T00:39:56.268485Z",
     "shell.execute_reply": "2022-11-13T00:39:56.268034Z"
    },
    "papermill": {
     "duration": 0.047749,
     "end_time": "2022-11-13T00:39:56.268598",
     "exception": false,
     "start_time": "2022-11-13T00:39:56.220849",
     "status": "completed"
    },
    "tags": []
   },
   "outputs": [],
   "source": [
    "train_filter = np.where((train_labels == 3 ) | (train_labels == 8))\n",
    "test_filter = np.where((test_labels == 3) | (test_labels == 8))\n",
    "X_train, y_train = train_images[train_filter], train_labels[train_filter]\n",
    "X_test, y_test = test_images[test_filter], test_labels[test_filter]"
   ]
  },
  {
   "cell_type": "markdown",
   "id": "948f0b7e",
   "metadata": {
    "papermill": {
     "duration": 0.027113,
     "end_time": "2022-11-13T00:39:56.322984",
     "exception": false,
     "start_time": "2022-11-13T00:39:56.295871",
     "status": "completed"
    },
    "tags": []
   },
   "source": [
    "We normalize the pizel values in the 0 to 1 range"
   ]
  },
  {
   "cell_type": "code",
   "execution_count": 11,
   "id": "ee4c2166",
   "metadata": {
    "execution": {
     "iopub.execute_input": "2022-11-13T00:39:56.380273Z",
     "iopub.status.busy": "2022-11-13T00:39:56.379703Z",
     "iopub.status.idle": "2022-11-13T00:39:56.420560Z",
     "shell.execute_reply": "2022-11-13T00:39:56.420088Z"
    },
    "papermill": {
     "duration": 0.070751,
     "end_time": "2022-11-13T00:39:56.420668",
     "exception": false,
     "start_time": "2022-11-13T00:39:56.349917",
     "status": "completed"
    },
    "tags": []
   },
   "outputs": [],
   "source": [
    "X_train = X_train/255.\n",
    "X_test = X_test/255."
   ]
  },
  {
   "cell_type": "markdown",
   "id": "ddcf4fab",
   "metadata": {
    "papermill": {
     "duration": 0.027167,
     "end_time": "2022-11-13T00:39:56.474967",
     "exception": false,
     "start_time": "2022-11-13T00:39:56.447800",
     "status": "completed"
    },
    "tags": []
   },
   "source": [
    "And setup the labels as 1 (when the digit is 3) and 0 (when the digit is 8)"
   ]
  },
  {
   "cell_type": "code",
   "execution_count": 12,
   "id": "7dc908f2",
   "metadata": {
    "execution": {
     "iopub.execute_input": "2022-11-13T00:39:56.532472Z",
     "iopub.status.busy": "2022-11-13T00:39:56.531901Z",
     "iopub.status.idle": "2022-11-13T00:39:56.543516Z",
     "shell.execute_reply": "2022-11-13T00:39:56.543074Z"
    },
    "papermill": {
     "duration": 0.041661,
     "end_time": "2022-11-13T00:39:56.543621",
     "exception": false,
     "start_time": "2022-11-13T00:39:56.501960",
     "status": "completed"
    },
    "tags": []
   },
   "outputs": [],
   "source": [
    "y_train = 1*(y_train==3)\n",
    "y_test = 1*(y_test==3)"
   ]
  },
  {
   "cell_type": "code",
   "execution_count": 13,
   "id": "01e4e969",
   "metadata": {
    "execution": {
     "iopub.execute_input": "2022-11-13T00:39:56.600898Z",
     "iopub.status.busy": "2022-11-13T00:39:56.600349Z",
     "iopub.status.idle": "2022-11-13T00:39:56.613672Z",
     "shell.execute_reply": "2022-11-13T00:39:56.613220Z"
    },
    "papermill": {
     "duration": 0.042721,
     "end_time": "2022-11-13T00:39:56.613776",
     "exception": false,
     "start_time": "2022-11-13T00:39:56.571055",
     "status": "completed"
    },
    "tags": []
   },
   "outputs": [
    {
     "data": {
      "text/plain": [
       "((11982, 28, 28), (1984, 28, 28))"
      ]
     },
     "execution_count": 13,
     "metadata": {},
     "output_type": "execute_result"
    }
   ],
   "source": [
    "X_train.shape, X_test.shape"
   ]
  },
  {
   "cell_type": "markdown",
   "id": "5ccf3f85",
   "metadata": {
    "papermill": {
     "duration": 0.027025,
     "end_time": "2022-11-13T00:39:56.668063",
     "exception": false,
     "start_time": "2022-11-13T00:39:56.641038",
     "status": "completed"
    },
    "tags": []
   },
   "source": [
    "We reshape the data to flatten the image pixels into a set of features or co-variates:"
   ]
  },
  {
   "cell_type": "code",
   "execution_count": 14,
   "id": "5286a4a3",
   "metadata": {
    "execution": {
     "iopub.execute_input": "2022-11-13T00:39:56.725951Z",
     "iopub.status.busy": "2022-11-13T00:39:56.725372Z",
     "iopub.status.idle": "2022-11-13T00:39:56.738913Z",
     "shell.execute_reply": "2022-11-13T00:39:56.738368Z"
    },
    "papermill": {
     "duration": 0.043806,
     "end_time": "2022-11-13T00:39:56.739016",
     "exception": false,
     "start_time": "2022-11-13T00:39:56.695210",
     "status": "completed"
    },
    "tags": []
   },
   "outputs": [
    {
     "data": {
      "text/plain": [
       "((11982, 784), (1984, 784))"
      ]
     },
     "execution_count": 14,
     "metadata": {},
     "output_type": "execute_result"
    }
   ],
   "source": [
    "X_train = X_train.reshape(X_train.shape[0], -1)\n",
    "X_test = X_test.reshape(X_test.shape[0], -1)\n",
    "X_train.shape, X_test.shape"
   ]
  },
  {
   "cell_type": "code",
   "execution_count": 15,
   "id": "73c5f88a",
   "metadata": {
    "execution": {
     "iopub.execute_input": "2022-11-13T00:39:56.798324Z",
     "iopub.status.busy": "2022-11-13T00:39:56.797762Z",
     "iopub.status.idle": "2022-11-13T00:39:56.815590Z",
     "shell.execute_reply": "2022-11-13T00:39:56.816118Z"
    },
    "papermill": {
     "duration": 0.049735,
     "end_time": "2022-11-13T00:39:56.816235",
     "exception": false,
     "start_time": "2022-11-13T00:39:56.766500",
     "status": "completed"
    },
    "tags": []
   },
   "outputs": [],
   "source": [
    "#Impoting functions from 'Kudzu'\n",
    "from kudzu.model import Model\n",
    "from kudzu.train import Learner\n",
    "from kudzu.optim import GD\n",
    "from kudzu.data import Data, Sampler,Dataloader\n",
    "\n",
    "from kudzu.callbacks import AccCallback\n",
    "from kudzu.callbacks import ClfCallback\n",
    "\n",
    "from kudzu.loss import MSE\n",
    "\n",
    "from kudzu.layer import Sigmoid,Relu\n",
    "from kudzu.layer import Affine"
   ]
  },
  {
   "cell_type": "markdown",
   "id": "bc01172a",
   "metadata": {
    "papermill": {
     "duration": 0.02707,
     "end_time": "2022-11-13T00:39:56.870917",
     "exception": false,
     "start_time": "2022-11-13T00:39:56.843847",
     "status": "completed"
    },
    "tags": []
   },
   "source": [
    "### Let us create a `Config` class, to store important parameters. \n",
    "This class essentially plays the role of a dictionary."
   ]
  },
  {
   "cell_type": "code",
   "execution_count": 16,
   "id": "978281aa",
   "metadata": {
    "execution": {
     "iopub.execute_input": "2022-11-13T00:39:56.929137Z",
     "iopub.status.busy": "2022-11-13T00:39:56.928586Z",
     "iopub.status.idle": "2022-11-13T00:39:56.940195Z",
     "shell.execute_reply": "2022-11-13T00:39:56.940654Z"
    },
    "papermill": {
     "duration": 0.042587,
     "end_time": "2022-11-13T00:39:56.940772",
     "exception": false,
     "start_time": "2022-11-13T00:39:56.898185",
     "status": "completed"
    },
    "tags": []
   },
   "outputs": [],
   "source": [
    "class Config:\n",
    "    pass\n",
    "config = Config()\n",
    "config.lr = 0.001\n",
    "config.num_epochs = 250\n",
    "config.bs = 50"
   ]
  },
  {
   "cell_type": "markdown",
   "id": "1385fa59",
   "metadata": {
    "papermill": {
     "duration": 0.027178,
     "end_time": "2022-11-13T00:39:56.995357",
     "exception": false,
     "start_time": "2022-11-13T00:39:56.968179",
     "status": "completed"
    },
    "tags": []
   },
   "source": [
    "### Running Models with the Training data\n",
    "Details about the network layers:\n",
    "- A first affine layer has 784 inputs and does 100 affine transforms. These are followed by a Relu\n",
    "- A second affine layer has 100 inputs from the 100 activations of the past layer, and does 100 affine transforms. These are followed by a Relu\n",
    "- A third affine layer has 100 activations and does 2 affine transformations to create an embedding for visualization. There is no non-linearity here.\n",
    "- A final \"logistic regression\" which has an affine transform from 2 inputs to 1 output, which is squeezed through a sigmoid.\n"
   ]
  },
  {
   "cell_type": "code",
   "execution_count": 17,
   "id": "2b9c66db",
   "metadata": {
    "execution": {
     "iopub.execute_input": "2022-11-13T00:39:57.054162Z",
     "iopub.status.busy": "2022-11-13T00:39:57.053609Z",
     "iopub.status.idle": "2022-11-13T00:39:57.066158Z",
     "shell.execute_reply": "2022-11-13T00:39:57.065702Z"
    },
    "papermill": {
     "duration": 0.043525,
     "end_time": "2022-11-13T00:39:57.066258",
     "exception": false,
     "start_time": "2022-11-13T00:39:57.022733",
     "status": "completed"
    },
    "tags": []
   },
   "outputs": [],
   "source": [
    "data = Data(X_train, y_train.reshape(-1,1))\n",
    "sampler = Sampler(data, config.bs, shuffle=True)\n",
    "\n",
    "dl = Dataloader(data, sampler)\n",
    "\n",
    "opt = GD(config.lr)\n",
    "loss = MSE()"
   ]
  },
  {
   "cell_type": "code",
   "execution_count": 18,
   "id": "b275e4c2",
   "metadata": {
    "execution": {
     "iopub.execute_input": "2022-11-13T00:39:57.124091Z",
     "iopub.status.busy": "2022-11-13T00:39:57.123520Z",
     "iopub.status.idle": "2022-11-13T00:39:57.135857Z",
     "shell.execute_reply": "2022-11-13T00:39:57.135295Z"
    },
    "papermill": {
     "duration": 0.042416,
     "end_time": "2022-11-13T00:39:57.135956",
     "exception": false,
     "start_time": "2022-11-13T00:39:57.093540",
     "status": "completed"
    },
    "tags": []
   },
   "outputs": [],
   "source": [
    "training_data_x = X_train\n",
    "testing_data_x = X_test\n",
    "training_data_y = y_train.reshape(-1,1)\n",
    "testing_data_y = y_test.reshape(-1,1)"
   ]
  },
  {
   "cell_type": "code",
   "execution_count": 19,
   "id": "76951160",
   "metadata": {
    "execution": {
     "iopub.execute_input": "2022-11-13T00:39:57.193985Z",
     "iopub.status.busy": "2022-11-13T00:39:57.193427Z",
     "iopub.status.idle": "2022-11-13T00:39:57.208651Z",
     "shell.execute_reply": "2022-11-13T00:39:57.209101Z"
    },
    "papermill": {
     "duration": 0.046106,
     "end_time": "2022-11-13T00:39:57.209209",
     "exception": false,
     "start_time": "2022-11-13T00:39:57.163103",
     "status": "completed"
    },
    "tags": []
   },
   "outputs": [
    {
     "name": "stdout",
     "output_type": "stream",
     "text": [
      "xavier\n",
      "xavier\n",
      "xavier\n",
      "xavier\n",
      "xavier\n"
     ]
    }
   ],
   "source": [
    "layers = [Affine(\"first\", 784, 100), Relu(\"first\"), Affine(\"second\", 100, 100), Relu(\"second\"), Affine(\"third\", 100, 2), Affine(\"last\", 2, 1), Sigmoid(\"last\")]\n",
    "model_nn = Model(layers)\n",
    "model_lr = Model([Affine(\"logits\", 784, 1), Sigmoid(\"sigmoid\")])"
   ]
  },
  {
   "cell_type": "code",
   "execution_count": 20,
   "id": "6eede77a",
   "metadata": {
    "execution": {
     "iopub.execute_input": "2022-11-13T00:39:57.269941Z",
     "iopub.status.busy": "2022-11-13T00:39:57.268725Z",
     "iopub.status.idle": "2022-11-13T00:39:57.279090Z",
     "shell.execute_reply": "2022-11-13T00:39:57.279491Z"
    },
    "papermill": {
     "duration": 0.04287,
     "end_time": "2022-11-13T00:39:57.279623",
     "exception": false,
     "start_time": "2022-11-13T00:39:57.236753",
     "status": "completed"
    },
    "tags": []
   },
   "outputs": [],
   "source": [
    "nn_learner = Learner(loss, model_nn, opt, config.num_epochs)\n",
    "acc_nn = ClfCallback(nn_learner, config.bs, training_data_x , testing_data_x, training_data_y, testing_data_y)\n",
    "nn_learner.set_callbacks([acc_nn])"
   ]
  },
  {
   "cell_type": "code",
   "execution_count": 21,
   "id": "877b6cc7",
   "metadata": {
    "execution": {
     "iopub.execute_input": "2022-11-13T00:39:57.341508Z",
     "iopub.status.busy": "2022-11-13T00:39:57.339014Z",
     "iopub.status.idle": "2022-11-13T00:39:57.351781Z",
     "shell.execute_reply": "2022-11-13T00:39:57.351230Z"
    },
    "papermill": {
     "duration": 0.044785,
     "end_time": "2022-11-13T00:39:57.351876",
     "exception": false,
     "start_time": "2022-11-13T00:39:57.307091",
     "status": "completed"
    },
    "tags": []
   },
   "outputs": [],
   "source": [
    "lr_learner = Learner(loss, model_lr, opt, config.num_epochs)\n",
    "acc_lr = ClfCallback(lr_learner, config.bs, training_data_x , testing_data_x, training_data_y, testing_data_y)\n",
    "lr_learner.set_callbacks([acc_lr])"
   ]
  },
  {
   "cell_type": "code",
   "execution_count": 22,
   "id": "d9b133c3",
   "metadata": {
    "execution": {
     "iopub.execute_input": "2022-11-13T00:39:57.409912Z",
     "iopub.status.busy": "2022-11-13T00:39:57.409364Z",
     "iopub.status.idle": "2022-11-13T00:42:53.555974Z",
     "shell.execute_reply": "2022-11-13T00:42:53.556455Z"
    },
    "papermill": {
     "duration": 176.177146,
     "end_time": "2022-11-13T00:42:53.556585",
     "exception": false,
     "start_time": "2022-11-13T00:39:57.379439",
     "status": "completed"
    },
    "tags": []
   },
   "outputs": [
    {
     "name": "stdout",
     "output_type": "stream",
     "text": [
      "Epoch 0, Loss 0.2133\n",
      "Training Accuracy: 0.7873, Testing Accuracy: 0.7923\n",
      "\n"
     ]
    },
    {
     "name": "stdout",
     "output_type": "stream",
     "text": [
      "Epoch 10, Loss 0.0636\n",
      "Training Accuracy: 0.9347, Testing Accuracy: 0.9451\n",
      "\n"
     ]
    },
    {
     "name": "stdout",
     "output_type": "stream",
     "text": [
      "Epoch 20, Loss 0.0429\n",
      "Training Accuracy: 0.9530, Testing Accuracy: 0.9632\n",
      "\n"
     ]
    },
    {
     "name": "stdout",
     "output_type": "stream",
     "text": [
      "Epoch 30, Loss 0.0354\n",
      "Training Accuracy: 0.9604, Testing Accuracy: 0.9677\n",
      "\n"
     ]
    },
    {
     "name": "stdout",
     "output_type": "stream",
     "text": [
      "Epoch 40, Loss 0.0314\n",
      "Training Accuracy: 0.9637, Testing Accuracy: 0.9703\n",
      "\n"
     ]
    },
    {
     "name": "stdout",
     "output_type": "stream",
     "text": [
      "Epoch 50, Loss 0.0288\n",
      "Training Accuracy: 0.9668, Testing Accuracy: 0.9728\n",
      "\n"
     ]
    },
    {
     "name": "stdout",
     "output_type": "stream",
     "text": [
      "Epoch 60, Loss 0.0269\n",
      "Training Accuracy: 0.9693, Testing Accuracy: 0.9728\n",
      "\n"
     ]
    },
    {
     "name": "stdout",
     "output_type": "stream",
     "text": [
      "Epoch 70, Loss 0.0254\n",
      "Training Accuracy: 0.9707, Testing Accuracy: 0.9733\n",
      "\n"
     ]
    },
    {
     "name": "stdout",
     "output_type": "stream",
     "text": [
      "Epoch 80, Loss 0.0242\n",
      "Training Accuracy: 0.9726, Testing Accuracy: 0.9738\n",
      "\n"
     ]
    },
    {
     "name": "stdout",
     "output_type": "stream",
     "text": [
      "Epoch 90, Loss 0.0232\n",
      "Training Accuracy: 0.9736, Testing Accuracy: 0.9748\n",
      "\n"
     ]
    },
    {
     "name": "stdout",
     "output_type": "stream",
     "text": [
      "Epoch 100, Loss 0.0223\n",
      "Training Accuracy: 0.9745, Testing Accuracy: 0.9753\n",
      "\n"
     ]
    },
    {
     "name": "stdout",
     "output_type": "stream",
     "text": [
      "Epoch 110, Loss 0.0215\n",
      "Training Accuracy: 0.9751, Testing Accuracy: 0.9753\n",
      "\n"
     ]
    },
    {
     "name": "stdout",
     "output_type": "stream",
     "text": [
      "Epoch 120, Loss 0.0207\n",
      "Training Accuracy: 0.9763, Testing Accuracy: 0.9753\n",
      "\n"
     ]
    },
    {
     "name": "stdout",
     "output_type": "stream",
     "text": [
      "Epoch 130, Loss 0.02\n",
      "Training Accuracy: 0.9771, Testing Accuracy: 0.9758\n",
      "\n"
     ]
    },
    {
     "name": "stdout",
     "output_type": "stream",
     "text": [
      "Epoch 140, Loss 0.0194\n",
      "Training Accuracy: 0.9783, Testing Accuracy: 0.9758\n",
      "\n"
     ]
    },
    {
     "name": "stdout",
     "output_type": "stream",
     "text": [
      "Epoch 150, Loss 0.0188\n",
      "Training Accuracy: 0.9788, Testing Accuracy: 0.9763\n",
      "\n"
     ]
    },
    {
     "name": "stdout",
     "output_type": "stream",
     "text": [
      "Epoch 160, Loss 0.0182\n",
      "Training Accuracy: 0.9799, Testing Accuracy: 0.9758\n",
      "\n"
     ]
    },
    {
     "name": "stdout",
     "output_type": "stream",
     "text": [
      "Epoch 170, Loss 0.0177\n",
      "Training Accuracy: 0.9806, Testing Accuracy: 0.9758\n",
      "\n"
     ]
    },
    {
     "name": "stdout",
     "output_type": "stream",
     "text": [
      "Epoch 180, Loss 0.0172\n",
      "Training Accuracy: 0.9814, Testing Accuracy: 0.9758\n",
      "\n"
     ]
    },
    {
     "name": "stdout",
     "output_type": "stream",
     "text": [
      "Epoch 190, Loss 0.0167\n",
      "Training Accuracy: 0.9819, Testing Accuracy: 0.9768\n",
      "\n"
     ]
    },
    {
     "name": "stdout",
     "output_type": "stream",
     "text": [
      "Epoch 200, Loss 0.0163\n",
      "Training Accuracy: 0.9826, Testing Accuracy: 0.9763\n",
      "\n"
     ]
    },
    {
     "name": "stdout",
     "output_type": "stream",
     "text": [
      "Epoch 210, Loss 0.0158\n",
      "Training Accuracy: 0.9830, Testing Accuracy: 0.9768\n",
      "\n"
     ]
    },
    {
     "name": "stdout",
     "output_type": "stream",
     "text": [
      "Epoch 220, Loss 0.0154\n",
      "Training Accuracy: 0.9840, Testing Accuracy: 0.9768\n",
      "\n"
     ]
    },
    {
     "name": "stdout",
     "output_type": "stream",
     "text": [
      "Epoch 230, Loss 0.015\n",
      "Training Accuracy: 0.9844, Testing Accuracy: 0.9778\n",
      "\n"
     ]
    },
    {
     "name": "stdout",
     "output_type": "stream",
     "text": [
      "Epoch 240, Loss 0.0146\n",
      "Training Accuracy: 0.9847, Testing Accuracy: 0.9783\n",
      "\n"
     ]
    },
    {
     "data": {
      "text/plain": [
       "0.011397764524469311"
      ]
     },
     "execution_count": 22,
     "metadata": {},
     "output_type": "execute_result"
    }
   ],
   "source": [
    "nn_learner.train_loop(dl)"
   ]
  },
  {
   "cell_type": "code",
   "execution_count": 23,
   "id": "e0163366",
   "metadata": {
    "execution": {
     "iopub.execute_input": "2022-11-13T00:42:53.630858Z",
     "iopub.status.busy": "2022-11-13T00:42:53.630280Z",
     "iopub.status.idle": "2022-11-13T00:43:05.693103Z",
     "shell.execute_reply": "2022-11-13T00:43:05.693917Z"
    },
    "papermill": {
     "duration": 12.102941,
     "end_time": "2022-11-13T00:43:05.694059",
     "exception": false,
     "start_time": "2022-11-13T00:42:53.591118",
     "status": "completed"
    },
    "tags": []
   },
   "outputs": [
    {
     "name": "stdout",
     "output_type": "stream",
     "text": [
      "Epoch 0, Loss 0.2427\n",
      "Training Accuracy: 0.6560, Testing Accuracy: 0.6316\n",
      "\n"
     ]
    },
    {
     "name": "stdout",
     "output_type": "stream",
     "text": [
      "Epoch 10, Loss 0.1048\n",
      "Training Accuracy: 0.9061, Testing Accuracy: 0.9153\n",
      "\n"
     ]
    },
    {
     "name": "stdout",
     "output_type": "stream",
     "text": [
      "Epoch 20, Loss 0.0799\n",
      "Training Accuracy: 0.9270, Testing Accuracy: 0.9365\n",
      "\n"
     ]
    },
    {
     "name": "stdout",
     "output_type": "stream",
     "text": [
      "Epoch 30, Loss 0.0685\n",
      "Training Accuracy: 0.9359, Testing Accuracy: 0.9466\n",
      "\n"
     ]
    },
    {
     "name": "stdout",
     "output_type": "stream",
     "text": [
      "Epoch 40, Loss 0.0617\n",
      "Training Accuracy: 0.9411, Testing Accuracy: 0.9511\n",
      "\n"
     ]
    },
    {
     "name": "stdout",
     "output_type": "stream",
     "text": [
      "Epoch 50, Loss 0.0572\n",
      "Training Accuracy: 0.9448, Testing Accuracy: 0.9551\n",
      "\n"
     ]
    },
    {
     "name": "stdout",
     "output_type": "stream",
     "text": [
      "Epoch 60, Loss 0.0538\n",
      "Training Accuracy: 0.9467, Testing Accuracy: 0.9572\n",
      "\n"
     ]
    },
    {
     "name": "stdout",
     "output_type": "stream",
     "text": [
      "Epoch 70, Loss 0.0512\n",
      "Training Accuracy: 0.9489, Testing Accuracy: 0.9582\n",
      "\n"
     ]
    },
    {
     "name": "stdout",
     "output_type": "stream",
     "text": [
      "Epoch 80, Loss 0.0491\n",
      "Training Accuracy: 0.9507, Testing Accuracy: 0.9597\n",
      "\n"
     ]
    },
    {
     "name": "stdout",
     "output_type": "stream",
     "text": [
      "Epoch 90, Loss 0.0474\n",
      "Training Accuracy: 0.9532, Testing Accuracy: 0.9602\n",
      "\n"
     ]
    },
    {
     "name": "stdout",
     "output_type": "stream",
     "text": [
      "Epoch 100, Loss 0.046\n",
      "Training Accuracy: 0.9548, Testing Accuracy: 0.9617\n",
      "\n"
     ]
    },
    {
     "name": "stdout",
     "output_type": "stream",
     "text": [
      "Epoch 110, Loss 0.0447\n",
      "Training Accuracy: 0.9556, Testing Accuracy: 0.9627\n",
      "\n"
     ]
    },
    {
     "name": "stdout",
     "output_type": "stream",
     "text": [
      "Epoch 120, Loss 0.0437\n",
      "Training Accuracy: 0.9565, Testing Accuracy: 0.9637\n",
      "\n"
     ]
    },
    {
     "name": "stdout",
     "output_type": "stream",
     "text": [
      "Epoch 130, Loss 0.0427\n",
      "Training Accuracy: 0.9570, Testing Accuracy: 0.9647\n",
      "\n"
     ]
    },
    {
     "name": "stdout",
     "output_type": "stream",
     "text": [
      "Epoch 140, Loss 0.0419\n",
      "Training Accuracy: 0.9574, Testing Accuracy: 0.9657\n",
      "\n"
     ]
    },
    {
     "name": "stdout",
     "output_type": "stream",
     "text": [
      "Epoch 150, Loss 0.0411\n",
      "Training Accuracy: 0.9580, Testing Accuracy: 0.9657\n",
      "\n"
     ]
    },
    {
     "name": "stdout",
     "output_type": "stream",
     "text": [
      "Epoch 160, Loss 0.0405\n",
      "Training Accuracy: 0.9585, Testing Accuracy: 0.9657\n",
      "\n"
     ]
    },
    {
     "name": "stdout",
     "output_type": "stream",
     "text": [
      "Epoch 170, Loss 0.0399\n",
      "Training Accuracy: 0.9588, Testing Accuracy: 0.9667\n",
      "\n"
     ]
    },
    {
     "name": "stdout",
     "output_type": "stream",
     "text": [
      "Epoch 180, Loss 0.0393\n",
      "Training Accuracy: 0.9593, Testing Accuracy: 0.9667\n",
      "\n"
     ]
    },
    {
     "name": "stdout",
     "output_type": "stream",
     "text": [
      "Epoch 190, Loss 0.0388\n",
      "Training Accuracy: 0.9603, Testing Accuracy: 0.9672\n",
      "\n"
     ]
    },
    {
     "name": "stdout",
     "output_type": "stream",
     "text": [
      "Epoch 200, Loss 0.0383\n",
      "Training Accuracy: 0.9604, Testing Accuracy: 0.9677\n",
      "\n"
     ]
    },
    {
     "name": "stdout",
     "output_type": "stream",
     "text": [
      "Epoch 210, Loss 0.0379\n",
      "Training Accuracy: 0.9606, Testing Accuracy: 0.9677\n",
      "\n"
     ]
    },
    {
     "name": "stdout",
     "output_type": "stream",
     "text": [
      "Epoch 220, Loss 0.0375\n",
      "Training Accuracy: 0.9609, Testing Accuracy: 0.9682\n",
      "\n"
     ]
    },
    {
     "name": "stdout",
     "output_type": "stream",
     "text": [
      "Epoch 230, Loss 0.0371\n",
      "Training Accuracy: 0.9614, Testing Accuracy: 0.9677\n",
      "\n"
     ]
    },
    {
     "name": "stdout",
     "output_type": "stream",
     "text": [
      "Epoch 240, Loss 0.0367\n",
      "Training Accuracy: 0.9615, Testing Accuracy: 0.9677\n",
      "\n"
     ]
    },
    {
     "data": {
      "text/plain": [
       "0.09709094355865738"
      ]
     },
     "execution_count": 23,
     "metadata": {},
     "output_type": "execute_result"
    }
   ],
   "source": [
    "lr_learner.train_loop(dl)"
   ]
  },
  {
   "cell_type": "code",
   "execution_count": 24,
   "id": "ca410940",
   "metadata": {
    "execution": {
     "iopub.execute_input": "2022-11-13T00:43:05.785918Z",
     "iopub.status.busy": "2022-11-13T00:43:05.785341Z",
     "iopub.status.idle": "2022-11-13T00:43:06.017906Z",
     "shell.execute_reply": "2022-11-13T00:43:06.017441Z"
    },
    "papermill": {
     "duration": 0.281808,
     "end_time": "2022-11-13T00:43:06.018019",
     "exception": false,
     "start_time": "2022-11-13T00:43:05.736211",
     "status": "completed"
    },
    "tags": []
   },
   "outputs": [
    {
     "data": {
      "text/plain": [
       "<matplotlib.legend.Legend at 0x7ff1382a1438>"
      ]
     },
     "execution_count": 24,
     "metadata": {},
     "output_type": "execute_result"
    },
    {
     "data": {
      "image/png": "[encoded data removed]",
      "text/plain": [
       "<Figure size 1080x720 with 1 Axes>"
      ]
     },
     "metadata": {
      "needs_background": "light"
     },
     "output_type": "display_data"
    }
   ],
   "source": [
    "#comparing the results of NN and LR\n",
    "plt.figure(figsize=(15,10))\n",
    "\n",
    "# Neural Network plots\n",
    "plt.plot(acc_nn.accuracies, 'r-', label = \"Training Accuracies - NN\")\n",
    "plt.plot(acc_nn.test_accuracies, 'g-', label = \"Testing Accuracies - NN\")\n",
    "\n",
    "# Logistic Regression plots\n",
    "plt.plot(acc_lr.accuracies, 'k-', label = \"Training Accuracies - LR\")\n",
    "plt.plot(acc_lr.test_accuracies, 'b-', label = \"Testing Accuracies - LR\")\n",
    "plt.legend()"
   ]
  },
  {
   "cell_type": "markdown",
   "id": "80dfb35c",
   "metadata": {
    "papermill": {
     "duration": 0.042637,
     "end_time": "2022-11-13T00:43:06.103631",
     "exception": false,
     "start_time": "2022-11-13T00:43:06.060994",
     "status": "completed"
    },
    "tags": []
   },
   "source": [
    "#### Plotting the outputs of this layer of the NN.\n"
   ]
  },
  {
   "cell_type": "code",
   "execution_count": 25,
   "id": "45eb2ff5",
   "metadata": {
    "execution": {
     "iopub.execute_input": "2022-11-13T00:43:06.192758Z",
     "iopub.status.busy": "2022-11-13T00:43:06.192187Z",
     "iopub.status.idle": "2022-11-13T00:43:06.227269Z",
     "shell.execute_reply": "2022-11-13T00:43:06.228054Z"
    },
    "papermill": {
     "duration": 0.081948,
     "end_time": "2022-11-13T00:43:06.228192",
     "exception": false,
     "start_time": "2022-11-13T00:43:06.146244",
     "status": "completed"
    },
    "tags": []
   },
   "outputs": [],
   "source": [
    "new_model = Model(layers[:-2])\n",
    "testing_plot = new_model(testing_data_x)"
   ]
  },
  {
   "cell_type": "code",
   "execution_count": 26,
   "id": "4c0a5485",
   "metadata": {
    "execution": {
     "iopub.execute_input": "2022-11-13T00:43:06.324143Z",
     "iopub.status.busy": "2022-11-13T00:43:06.322932Z",
     "iopub.status.idle": "2022-11-13T00:43:06.508832Z",
     "shell.execute_reply": "2022-11-13T00:43:06.509259Z"
    },
    "papermill": {
     "duration": 0.237144,
     "end_time": "2022-11-13T00:43:06.509385",
     "exception": false,
     "start_time": "2022-11-13T00:43:06.272241",
     "status": "completed"
    },
    "tags": []
   },
   "outputs": [
    {
     "data": {
      "text/plain": [
       "Text(0.5, 1.0, 'Outputs')"
      ]
     },
     "execution_count": 26,
     "metadata": {},
     "output_type": "execute_result"
    },
    {
     "data": {
      "image/png": "[encoded data removed]",
      "text/plain": [
       "<Figure size 576x504 with 1 Axes>"
      ]
     },
     "metadata": {
      "needs_background": "light"
     },
     "output_type": "display_data"
    }
   ],
   "source": [
    "# Plotting the scatter plot of points and color coding by class\n",
    "plt.figure(figsize=(8,7))\n",
    "plt.scatter(testing_plot[:,0], testing_plot[:,1], alpha = 0.1, c = y_test.ravel());\n",
    "plt.title('Outputs')"
   ]
  },
  {
   "cell_type": "markdown",
   "id": "a74fcf8f",
   "metadata": {
    "papermill": {
     "duration": 0.045231,
     "end_time": "2022-11-13T00:43:06.621947",
     "exception": false,
     "start_time": "2022-11-13T00:43:06.576716",
     "status": "completed"
    },
    "tags": []
   },
   "source": [
    "Probability contours"
   ]
  },
  {
   "cell_type": "code",
   "execution_count": 27,
   "id": "d0afc8e3",
   "metadata": {
    "execution": {
     "iopub.execute_input": "2022-11-13T00:43:06.715337Z",
     "iopub.status.busy": "2022-11-13T00:43:06.714786Z",
     "iopub.status.idle": "2022-11-13T00:43:06.726425Z",
     "shell.execute_reply": "2022-11-13T00:43:06.725867Z"
    },
    "papermill": {
     "duration": 0.059752,
     "end_time": "2022-11-13T00:43:06.726526",
     "exception": false,
     "start_time": "2022-11-13T00:43:06.666774",
     "status": "completed"
    },
    "tags": []
   },
   "outputs": [],
   "source": [
    "model_prob = Model(layers[-2:]) "
   ]
  },
  {
   "cell_type": "code",
   "execution_count": 28,
   "id": "9b96e238",
   "metadata": {
    "execution": {
     "iopub.execute_input": "2022-11-13T00:43:06.820097Z",
     "iopub.status.busy": "2022-11-13T00:43:06.819526Z",
     "iopub.status.idle": "2022-11-13T00:43:06.833794Z",
     "shell.execute_reply": "2022-11-13T00:43:06.834202Z"
    },
    "papermill": {
     "duration": 0.063136,
     "end_time": "2022-11-13T00:43:06.834320",
     "exception": false,
     "start_time": "2022-11-13T00:43:06.771184",
     "status": "completed"
    },
    "tags": []
   },
   "outputs": [],
   "source": [
    "#creating the x and y ranges according to the above generated plot.\n",
    "x_range = np.linspace(-4, 1, 100) \n",
    "y_range = np.linspace(-6, 6, 100) \n",
    "x_grid, y_grid = np.meshgrid(x_range, y_range) # x_grid and y_grig are of size 100 X 100\n",
    "\n",
    "# converting x_grid and y_grid to continuous arrays\n",
    "x_gridflat = np.ravel(x_grid)\n",
    "y_gridflat = np.ravel(y_grid)\n",
    "\n",
    "# The last layer of the current model takes two columns as input. Hence transpose of np.vstack() is required.\n",
    "X = np.vstack((x_gridflat, y_gridflat)).T\n",
    "\n",
    "prob_contour = model_prob(X).reshape(100,100) "
   ]
  },
  {
   "cell_type": "code",
   "execution_count": 29,
   "id": "da72499a",
   "metadata": {
    "execution": {
     "iopub.execute_input": "2022-11-13T00:43:06.927771Z",
     "iopub.status.busy": "2022-11-13T00:43:06.927179Z",
     "iopub.status.idle": "2022-11-13T00:43:07.172723Z",
     "shell.execute_reply": "2022-11-13T00:43:07.173150Z"
    },
    "papermill": {
     "duration": 0.294333,
     "end_time": "2022-11-13T00:43:07.173282",
     "exception": false,
     "start_time": "2022-11-13T00:43:06.878949",
     "status": "completed"
    },
    "tags": []
   },
   "outputs": [
    {
     "data": {
      "image/png": "[encoded data removed]",
      "text/plain": [
       "<Figure size 720x648 with 1 Axes>"
      ]
     },
     "metadata": {
      "needs_background": "light"
     },
     "output_type": "display_data"
    }
   ],
   "source": [
    "plt.figure(figsize=(10,9))\n",
    "plt.scatter(testing_plot[:,0], testing_plot[:,1], alpha = 0.1, c = y_test.ravel())\n",
    "contours = plt.contour(x_grid,y_grid,prob_contour)\n",
    "plt.title('Probability Contours')\n",
    "plt.clabel(contours, inline = True );"
   ]
  },
  {
   "cell_type": "code",
   "execution_count": null,
   "id": "e81b4ac7",
   "metadata": {
    "papermill": {
     "duration": 0.047436,
     "end_time": "2022-11-13T00:43:07.268868",
     "exception": false,
     "start_time": "2022-11-13T00:43:07.221432",
     "status": "completed"
    },
    "tags": []
   },
   "outputs": [],
   "source": []
  }
 ],
 "metadata": {
  "kernelspec": {
   "display_name": "Python 3",
   "language": "python",
   "name": "python3"
  },
  "language_info": {
   "codemirror_mode": {
    "name": "ipython",
    "version": 3
   },
   "file_extension": ".py",
   "mimetype": "text/x-python",
   "name": "python",
   "nbconvert_exporter": "python",
   "pygments_lexer": "ipython3",
   "version": "3.6.15"
  },
  "papermill": {
   "default_parameters": {},
   "duration": 197.086034,
   "end_time": "2022-11-13T00:43:07.635100",
   "environment_variables": {},
   "exception": null,
   "input_path": "2020-08-11-part2.ipynb",
   "output_path": "2020-08-11-part2.ipynb",
   "parameters": {},
   "start_time": "2022-11-13T00:39:50.549066",
   "version": "2.3.3"
  }
 },
 "nbformat": 4,
 "nbformat_minor": 5
}