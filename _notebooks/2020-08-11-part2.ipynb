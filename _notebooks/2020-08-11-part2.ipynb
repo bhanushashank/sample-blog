{
 "cells": [
  {
   "cell_type": "markdown",
   "id": "98380cd3",
   "metadata": {
    "papermill": {
     "duration": 0.03669,
     "end_time": "2022-06-18T00:40:37.870585",
     "exception": false,
     "start_time": "2022-06-18T00:40:37.833895",
     "status": "completed"
    },
    "tags": []
   },
   "source": [
    "# Distinguish Your Own Digits (DYOD)"
   ]
  },
  {
   "cell_type": "markdown",
   "id": "ef31240d",
   "metadata": {
    "papermill": {
     "duration": 0.026178,
     "end_time": "2022-06-18T00:40:37.924250",
     "exception": false,
     "start_time": "2022-06-18T00:40:37.898072",
     "status": "completed"
    },
    "tags": []
   },
   "source": [
    "You are going to write a classifier that distinguishes between the number 3 and number 8."
   ]
  },
  {
   "cell_type": "code",
   "execution_count": 1,
   "id": "b15c8646",
   "metadata": {
    "execution": {
     "iopub.execute_input": "2022-06-18T00:40:37.992390Z",
     "iopub.status.busy": "2022-06-18T00:40:37.991669Z",
     "iopub.status.idle": "2022-06-18T00:40:38.003424Z",
     "shell.execute_reply": "2022-06-18T00:40:38.002841Z"
    },
    "papermill": {
     "duration": 0.053074,
     "end_time": "2022-06-18T00:40:38.003563",
     "exception": false,
     "start_time": "2022-06-18T00:40:37.950489",
     "status": "completed"
    },
    "tags": []
   },
   "outputs": [],
   "source": [
    "%load_ext autoreload\n",
    "%autoreload 2"
   ]
  },
  {
   "cell_type": "code",
   "execution_count": 2,
   "id": "22ef38dc",
   "metadata": {
    "execution": {
     "iopub.execute_input": "2022-06-18T00:40:38.063875Z",
     "iopub.status.busy": "2022-06-18T00:40:38.063063Z",
     "iopub.status.idle": "2022-06-18T00:40:38.673206Z",
     "shell.execute_reply": "2022-06-18T00:40:38.672086Z"
    },
    "papermill": {
     "duration": 0.642786,
     "end_time": "2022-06-18T00:40:38.673357",
     "exception": false,
     "start_time": "2022-06-18T00:40:38.030571",
     "status": "completed"
    },
    "tags": []
   },
   "outputs": [],
   "source": [
    "%matplotlib inline\n",
    "import numpy as np\n",
    "import matplotlib.pyplot as plt\n",
    "import pandas as pd"
   ]
  },
  {
   "cell_type": "markdown",
   "id": "ba036198",
   "metadata": {
    "papermill": {
     "duration": 0.026957,
     "end_time": "2022-06-18T00:40:38.727521",
     "exception": false,
     "start_time": "2022-06-18T00:40:38.700564",
     "status": "completed"
    },
    "tags": []
   },
   "source": [
    "From the command line run `pip install mnist`. This is a library that will help you bring down the mnist dataset. If you run this from a notebook, you need to put  `!pip install mnist` in a cell by itself."
   ]
  },
  {
   "cell_type": "code",
   "execution_count": 3,
   "id": "bb6ad8a1",
   "metadata": {
    "execution": {
     "iopub.execute_input": "2022-06-18T00:40:38.787224Z",
     "iopub.status.busy": "2022-06-18T00:40:38.786007Z",
     "iopub.status.idle": "2022-06-18T00:40:41.400181Z",
     "shell.execute_reply": "2022-06-18T00:40:41.399460Z"
    },
    "papermill": {
     "duration": 2.645882,
     "end_time": "2022-06-18T00:40:41.400347",
     "exception": false,
     "start_time": "2022-06-18T00:40:38.754465",
     "status": "completed"
    },
    "tags": []
   },
   "outputs": [
    {
     "name": "stdout",
     "output_type": "stream",
     "text": [
      "Collecting mnist\r\n"
     ]
    },
    {
     "name": "stdout",
     "output_type": "stream",
     "text": [
      "  Downloading mnist-0.2.2-py2.py3-none-any.whl (3.5 kB)\r\n",
      "Requirement already satisfied: numpy in /opt/hostedtoolcache/Python/3.6.15/x64/lib/python3.6/site-packages (from mnist) (1.19.5)\r\n"
     ]
    },
    {
     "name": "stdout",
     "output_type": "stream",
     "text": [
      "Installing collected packages: mnist\r\n"
     ]
    },
    {
     "name": "stdout",
     "output_type": "stream",
     "text": [
      "Successfully installed mnist-0.2.2\r\n"
     ]
    }
   ],
   "source": [
    "!pip install mnist"
   ]
  },
  {
   "cell_type": "markdown",
   "id": "69df9c9a",
   "metadata": {
    "papermill": {
     "duration": 0.028168,
     "end_time": "2022-06-18T00:40:41.458868",
     "exception": false,
     "start_time": "2022-06-18T00:40:41.430700",
     "status": "completed"
    },
    "tags": []
   },
   "source": [
    "## Preparing the Data"
   ]
  },
  {
   "cell_type": "code",
   "execution_count": 4,
   "id": "7f69d806",
   "metadata": {
    "execution": {
     "iopub.execute_input": "2022-06-18T00:40:41.530598Z",
     "iopub.status.busy": "2022-06-18T00:40:41.521683Z",
     "iopub.status.idle": "2022-06-18T00:40:41.541005Z",
     "shell.execute_reply": "2022-06-18T00:40:41.540400Z"
    },
    "papermill": {
     "duration": 0.053911,
     "end_time": "2022-06-18T00:40:41.541127",
     "exception": false,
     "start_time": "2022-06-18T00:40:41.487216",
     "status": "completed"
    },
    "tags": []
   },
   "outputs": [],
   "source": [
    "import mnist"
   ]
  },
  {
   "cell_type": "code",
   "execution_count": 5,
   "id": "a411e44f",
   "metadata": {
    "execution": {
     "iopub.execute_input": "2022-06-18T00:40:41.606573Z",
     "iopub.status.busy": "2022-06-18T00:40:41.605605Z",
     "iopub.status.idle": "2022-06-18T00:40:42.204636Z",
     "shell.execute_reply": "2022-06-18T00:40:42.202760Z"
    },
    "papermill": {
     "duration": 0.634658,
     "end_time": "2022-06-18T00:40:42.204869",
     "exception": false,
     "start_time": "2022-06-18T00:40:41.570211",
     "status": "completed"
    },
    "tags": []
   },
   "outputs": [],
   "source": [
    "train_images = mnist.train_images()\n",
    "train_labels = mnist.train_labels()"
   ]
  },
  {
   "cell_type": "code",
   "execution_count": 6,
   "id": "dceab3a5",
   "metadata": {
    "execution": {
     "iopub.execute_input": "2022-06-18T00:40:42.269142Z",
     "iopub.status.busy": "2022-06-18T00:40:42.266794Z",
     "iopub.status.idle": "2022-06-18T00:40:42.283865Z",
     "shell.execute_reply": "2022-06-18T00:40:42.283166Z"
    },
    "papermill": {
     "duration": 0.049989,
     "end_time": "2022-06-18T00:40:42.283993",
     "exception": false,
     "start_time": "2022-06-18T00:40:42.234004",
     "status": "completed"
    },
    "tags": []
   },
   "outputs": [
    {
     "data": {
      "text/plain": [
       "((60000, 28, 28), (60000,))"
      ]
     },
     "execution_count": 6,
     "metadata": {},
     "output_type": "execute_result"
    }
   ],
   "source": [
    "train_images.shape, train_labels.shape"
   ]
  },
  {
   "cell_type": "code",
   "execution_count": 7,
   "id": "f50dc2bb",
   "metadata": {
    "execution": {
     "iopub.execute_input": "2022-06-18T00:40:42.346791Z",
     "iopub.status.busy": "2022-06-18T00:40:42.346157Z",
     "iopub.status.idle": "2022-06-18T00:40:42.522176Z",
     "shell.execute_reply": "2022-06-18T00:40:42.521313Z"
    },
    "papermill": {
     "duration": 0.208232,
     "end_time": "2022-06-18T00:40:42.522320",
     "exception": false,
     "start_time": "2022-06-18T00:40:42.314088",
     "status": "completed"
    },
    "tags": []
   },
   "outputs": [],
   "source": [
    "test_images = mnist.test_images()\n",
    "test_labels = mnist.test_labels()"
   ]
  },
  {
   "cell_type": "code",
   "execution_count": 8,
   "id": "fc38cf1b",
   "metadata": {
    "execution": {
     "iopub.execute_input": "2022-06-18T00:40:42.589668Z",
     "iopub.status.busy": "2022-06-18T00:40:42.588933Z",
     "iopub.status.idle": "2022-06-18T00:40:42.604847Z",
     "shell.execute_reply": "2022-06-18T00:40:42.605377Z"
    },
    "papermill": {
     "duration": 0.054058,
     "end_time": "2022-06-18T00:40:42.605577",
     "exception": false,
     "start_time": "2022-06-18T00:40:42.551519",
     "status": "completed"
    },
    "tags": []
   },
   "outputs": [
    {
     "data": {
      "text/plain": [
       "((10000, 28, 28), (10000,))"
      ]
     },
     "execution_count": 8,
     "metadata": {},
     "output_type": "execute_result"
    }
   ],
   "source": [
    "test_images.shape, test_labels.shape"
   ]
  },
  {
   "cell_type": "code",
   "execution_count": 9,
   "id": "f9ed8fe0",
   "metadata": {
    "execution": {
     "iopub.execute_input": "2022-06-18T00:40:42.671155Z",
     "iopub.status.busy": "2022-06-18T00:40:42.670465Z",
     "iopub.status.idle": "2022-06-18T00:40:42.829206Z",
     "shell.execute_reply": "2022-06-18T00:40:42.829767Z"
    },
    "papermill": {
     "duration": 0.193936,
     "end_time": "2022-06-18T00:40:42.829935",
     "exception": false,
     "start_time": "2022-06-18T00:40:42.635999",
     "status": "completed"
    },
    "tags": []
   },
   "outputs": [
    {
     "name": "stdout",
     "output_type": "stream",
     "text": [
      "2\n"
     ]
    },
    {
     "data": {
      "text/plain": [
       "<matplotlib.image.AxesImage at 0x7f4279a3c390>"
      ]
     },
     "execution_count": 9,
     "metadata": {},
     "output_type": "execute_result"
    },
    {
     "data": {
      "image/png": "[encoded data removed]",
      "text/plain": [
       "<Figure size 432x288 with 1 Axes>"
      ]
     },
     "metadata": {
      "needs_background": "light"
     },
     "output_type": "display_data"
    }
   ],
   "source": [
    "image_index = 7776 # You may select anything up to 60,000\n",
    "print(train_labels[image_index]) \n",
    "plt.imshow(train_images[image_index], cmap='Greys')"
   ]
  },
  {
   "cell_type": "markdown",
   "id": "a8d2388d",
   "metadata": {
    "papermill": {
     "duration": 0.030262,
     "end_time": "2022-06-18T00:40:42.890156",
     "exception": false,
     "start_time": "2022-06-18T00:40:42.859894",
     "status": "completed"
    },
    "tags": []
   },
   "source": [
    "## Filter data to get 3 and 8 out"
   ]
  },
  {
   "cell_type": "code",
   "execution_count": 10,
   "id": "776f7fc7",
   "metadata": {
    "execution": {
     "iopub.execute_input": "2022-06-18T00:40:42.957967Z",
     "iopub.status.busy": "2022-06-18T00:40:42.957211Z",
     "iopub.status.idle": "2022-06-18T00:40:42.977725Z",
     "shell.execute_reply": "2022-06-18T00:40:42.977016Z"
    },
    "papermill": {
     "duration": 0.058441,
     "end_time": "2022-06-18T00:40:42.977855",
     "exception": false,
     "start_time": "2022-06-18T00:40:42.919414",
     "status": "completed"
    },
    "tags": []
   },
   "outputs": [],
   "source": [
    "train_filter = np.where((train_labels == 3 ) | (train_labels == 8))\n",
    "test_filter = np.where((test_labels == 3) | (test_labels == 8))\n",
    "X_train, y_train = train_images[train_filter], train_labels[train_filter]\n",
    "X_test, y_test = test_images[test_filter], test_labels[test_filter]"
   ]
  },
  {
   "cell_type": "markdown",
   "id": "948f0b7e",
   "metadata": {
    "papermill": {
     "duration": 0.028188,
     "end_time": "2022-06-18T00:40:43.035064",
     "exception": false,
     "start_time": "2022-06-18T00:40:43.006876",
     "status": "completed"
    },
    "tags": []
   },
   "source": [
    "We normalize the pizel values in the 0 to 1 range"
   ]
  },
  {
   "cell_type": "code",
   "execution_count": 11,
   "id": "ee4c2166",
   "metadata": {
    "execution": {
     "iopub.execute_input": "2022-06-18T00:40:43.098102Z",
     "iopub.status.busy": "2022-06-18T00:40:43.097351Z",
     "iopub.status.idle": "2022-06-18T00:40:43.154646Z",
     "shell.execute_reply": "2022-06-18T00:40:43.153757Z"
    },
    "papermill": {
     "duration": 0.090091,
     "end_time": "2022-06-18T00:40:43.154832",
     "exception": false,
     "start_time": "2022-06-18T00:40:43.064741",
     "status": "completed"
    },
    "tags": []
   },
   "outputs": [],
   "source": [
    "X_train = X_train/255.\n",
    "X_test = X_test/255."
   ]
  },
  {
   "cell_type": "markdown",
   "id": "ddcf4fab",
   "metadata": {
    "papermill": {
     "duration": 0.029585,
     "end_time": "2022-06-18T00:40:43.216649",
     "exception": false,
     "start_time": "2022-06-18T00:40:43.187064",
     "status": "completed"
    },
    "tags": []
   },
   "source": [
    "And setup the labels as 1 (when the digit is 3) and 0 (when the digit is 8)"
   ]
  },
  {
   "cell_type": "code",
   "execution_count": 12,
   "id": "7dc908f2",
   "metadata": {
    "execution": {
     "iopub.execute_input": "2022-06-18T00:40:43.283302Z",
     "iopub.status.busy": "2022-06-18T00:40:43.280015Z",
     "iopub.status.idle": "2022-06-18T00:40:43.296349Z",
     "shell.execute_reply": "2022-06-18T00:40:43.295914Z"
    },
    "papermill": {
     "duration": 0.050014,
     "end_time": "2022-06-18T00:40:43.296463",
     "exception": false,
     "start_time": "2022-06-18T00:40:43.246449",
     "status": "completed"
    },
    "tags": []
   },
   "outputs": [],
   "source": [
    "y_train = 1*(y_train==3)\n",
    "y_test = 1*(y_test==3)"
   ]
  },
  {
   "cell_type": "code",
   "execution_count": 13,
   "id": "01e4e969",
   "metadata": {
    "execution": {
     "iopub.execute_input": "2022-06-18T00:40:43.359742Z",
     "iopub.status.busy": "2022-06-18T00:40:43.359072Z",
     "iopub.status.idle": "2022-06-18T00:40:43.374978Z",
     "shell.execute_reply": "2022-06-18T00:40:43.374309Z"
    },
    "papermill": {
     "duration": 0.048979,
     "end_time": "2022-06-18T00:40:43.375098",
     "exception": false,
     "start_time": "2022-06-18T00:40:43.326119",
     "status": "completed"
    },
    "tags": []
   },
   "outputs": [
    {
     "data": {
      "text/plain": [
       "((11982, 28, 28), (1984, 28, 28))"
      ]
     },
     "execution_count": 13,
     "metadata": {},
     "output_type": "execute_result"
    }
   ],
   "source": [
    "X_train.shape, X_test.shape"
   ]
  },
  {
   "cell_type": "markdown",
   "id": "5ccf3f85",
   "metadata": {
    "papermill": {
     "duration": 0.03014,
     "end_time": "2022-06-18T00:40:43.435319",
     "exception": false,
     "start_time": "2022-06-18T00:40:43.405179",
     "status": "completed"
    },
    "tags": []
   },
   "source": [
    "We reshape the data to flatten the image pixels into a set of features or co-variates:"
   ]
  },
  {
   "cell_type": "code",
   "execution_count": 14,
   "id": "5286a4a3",
   "metadata": {
    "execution": {
     "iopub.execute_input": "2022-06-18T00:40:43.501193Z",
     "iopub.status.busy": "2022-06-18T00:40:43.500507Z",
     "iopub.status.idle": "2022-06-18T00:40:43.518274Z",
     "shell.execute_reply": "2022-06-18T00:40:43.518803Z"
    },
    "papermill": {
     "duration": 0.053809,
     "end_time": "2022-06-18T00:40:43.518944",
     "exception": false,
     "start_time": "2022-06-18T00:40:43.465135",
     "status": "completed"
    },
    "tags": []
   },
   "outputs": [
    {
     "data": {
      "text/plain": [
       "((11982, 784), (1984, 784))"
      ]
     },
     "execution_count": 14,
     "metadata": {},
     "output_type": "execute_result"
    }
   ],
   "source": [
    "X_train = X_train.reshape(X_train.shape[0], -1)\n",
    "X_test = X_test.reshape(X_test.shape[0], -1)\n",
    "X_train.shape, X_test.shape"
   ]
  },
  {
   "cell_type": "code",
   "execution_count": 15,
   "id": "73c5f88a",
   "metadata": {
    "execution": {
     "iopub.execute_input": "2022-06-18T00:40:43.582845Z",
     "iopub.status.busy": "2022-06-18T00:40:43.582163Z",
     "iopub.status.idle": "2022-06-18T00:40:43.605042Z",
     "shell.execute_reply": "2022-06-18T00:40:43.604371Z"
    },
    "papermill": {
     "duration": 0.056648,
     "end_time": "2022-06-18T00:40:43.605163",
     "exception": false,
     "start_time": "2022-06-18T00:40:43.548515",
     "status": "completed"
    },
    "tags": []
   },
   "outputs": [],
   "source": [
    "#Impoting functions from 'Kudzu'\n",
    "from kudzu.model import Model\n",
    "from kudzu.train import Learner\n",
    "from kudzu.optim import GD\n",
    "from kudzu.data import Data, Sampler,Dataloader\n",
    "\n",
    "from kudzu.callbacks import AccCallback\n",
    "from kudzu.callbacks import ClfCallback\n",
    "\n",
    "from kudzu.loss import MSE\n",
    "\n",
    "from kudzu.layer import Sigmoid,Relu\n",
    "from kudzu.layer import Affine"
   ]
  },
  {
   "cell_type": "markdown",
   "id": "bc01172a",
   "metadata": {
    "papermill": {
     "duration": 0.029461,
     "end_time": "2022-06-18T00:40:43.665193",
     "exception": false,
     "start_time": "2022-06-18T00:40:43.635732",
     "status": "completed"
    },
    "tags": []
   },
   "source": [
    "### Let us create a `Config` class, to store important parameters. \n",
    "This class essentially plays the role of a dictionary."
   ]
  },
  {
   "cell_type": "code",
   "execution_count": 16,
   "id": "978281aa",
   "metadata": {
    "execution": {
     "iopub.execute_input": "2022-06-18T00:40:43.728457Z",
     "iopub.status.busy": "2022-06-18T00:40:43.727816Z",
     "iopub.status.idle": "2022-06-18T00:40:43.741779Z",
     "shell.execute_reply": "2022-06-18T00:40:43.741205Z"
    },
    "papermill": {
     "duration": 0.047688,
     "end_time": "2022-06-18T00:40:43.741904",
     "exception": false,
     "start_time": "2022-06-18T00:40:43.694216",
     "status": "completed"
    },
    "tags": []
   },
   "outputs": [],
   "source": [
    "class Config:\n",
    "    pass\n",
    "config = Config()\n",
    "config.lr = 0.001\n",
    "config.num_epochs = 250\n",
    "config.bs = 50"
   ]
  },
  {
   "cell_type": "markdown",
   "id": "1385fa59",
   "metadata": {
    "papermill": {
     "duration": 0.029891,
     "end_time": "2022-06-18T00:40:43.801196",
     "exception": false,
     "start_time": "2022-06-18T00:40:43.771305",
     "status": "completed"
    },
    "tags": []
   },
   "source": [
    "### Running Models with the Training data\n",
    "Details about the network layers:\n",
    "- A first affine layer has 784 inputs and does 100 affine transforms. These are followed by a Relu\n",
    "- A second affine layer has 100 inputs from the 100 activations of the past layer, and does 100 affine transforms. These are followed by a Relu\n",
    "- A third affine layer has 100 activations and does 2 affine transformations to create an embedding for visualization. There is no non-linearity here.\n",
    "- A final \"logistic regression\" which has an affine transform from 2 inputs to 1 output, which is squeezed through a sigmoid.\n"
   ]
  },
  {
   "cell_type": "code",
   "execution_count": 17,
   "id": "2b9c66db",
   "metadata": {
    "execution": {
     "iopub.execute_input": "2022-06-18T00:40:43.867496Z",
     "iopub.status.busy": "2022-06-18T00:40:43.866805Z",
     "iopub.status.idle": "2022-06-18T00:40:43.883363Z",
     "shell.execute_reply": "2022-06-18T00:40:43.882832Z"
    },
    "papermill": {
     "duration": 0.052754,
     "end_time": "2022-06-18T00:40:43.883485",
     "exception": false,
     "start_time": "2022-06-18T00:40:43.830731",
     "status": "completed"
    },
    "tags": []
   },
   "outputs": [],
   "source": [
    "data = Data(X_train, y_train.reshape(-1,1))\n",
    "sampler = Sampler(data, config.bs, shuffle=True)\n",
    "\n",
    "dl = Dataloader(data, sampler)\n",
    "\n",
    "opt = GD(config.lr)\n",
    "loss = MSE()"
   ]
  },
  {
   "cell_type": "code",
   "execution_count": 18,
   "id": "b275e4c2",
   "metadata": {
    "execution": {
     "iopub.execute_input": "2022-06-18T00:40:43.949853Z",
     "iopub.status.busy": "2022-06-18T00:40:43.948299Z",
     "iopub.status.idle": "2022-06-18T00:40:43.962250Z",
     "shell.execute_reply": "2022-06-18T00:40:43.961569Z"
    },
    "papermill": {
     "duration": 0.048758,
     "end_time": "2022-06-18T00:40:43.962373",
     "exception": false,
     "start_time": "2022-06-18T00:40:43.913615",
     "status": "completed"
    },
    "tags": []
   },
   "outputs": [],
   "source": [
    "training_data_x = X_train\n",
    "testing_data_x = X_test\n",
    "training_data_y = y_train.reshape(-1,1)\n",
    "testing_data_y = y_test.reshape(-1,1)"
   ]
  },
  {
   "cell_type": "code",
   "execution_count": 19,
   "id": "76951160",
   "metadata": {
    "execution": {
     "iopub.execute_input": "2022-06-18T00:40:44.027682Z",
     "iopub.status.busy": "2022-06-18T00:40:44.027100Z",
     "iopub.status.idle": "2022-06-18T00:40:44.048923Z",
     "shell.execute_reply": "2022-06-18T00:40:44.048364Z"
    },
    "papermill": {
     "duration": 0.056532,
     "end_time": "2022-06-18T00:40:44.049044",
     "exception": false,
     "start_time": "2022-06-18T00:40:43.992512",
     "status": "completed"
    },
    "tags": []
   },
   "outputs": [
    {
     "name": "stdout",
     "output_type": "stream",
     "text": [
      "xavier\n",
      "xavier\n",
      "xavier\n",
      "xavier\n",
      "xavier\n"
     ]
    }
   ],
   "source": [
    "layers = [Affine(\"first\", 784, 100), Relu(\"first\"), Affine(\"second\", 100, 100), Relu(\"second\"), Affine(\"third\", 100, 2), Affine(\"last\", 2, 1), Sigmoid(\"last\")]\n",
    "model_nn = Model(layers)\n",
    "model_lr = Model([Affine(\"logits\", 784, 1), Sigmoid(\"sigmoid\")])"
   ]
  },
  {
   "cell_type": "code",
   "execution_count": 20,
   "id": "6eede77a",
   "metadata": {
    "execution": {
     "iopub.execute_input": "2022-06-18T00:40:44.115310Z",
     "iopub.status.busy": "2022-06-18T00:40:44.114630Z",
     "iopub.status.idle": "2022-06-18T00:40:44.128764Z",
     "shell.execute_reply": "2022-06-18T00:40:44.128209Z"
    },
    "papermill": {
     "duration": 0.049511,
     "end_time": "2022-06-18T00:40:44.128886",
     "exception": false,
     "start_time": "2022-06-18T00:40:44.079375",
     "status": "completed"
    },
    "tags": []
   },
   "outputs": [],
   "source": [
    "nn_learner = Learner(loss, model_nn, opt, config.num_epochs)\n",
    "acc_nn = ClfCallback(nn_learner, config.bs, training_data_x , testing_data_x, training_data_y, testing_data_y)\n",
    "nn_learner.set_callbacks([acc_nn])"
   ]
  },
  {
   "cell_type": "code",
   "execution_count": 21,
   "id": "877b6cc7",
   "metadata": {
    "execution": {
     "iopub.execute_input": "2022-06-18T00:40:44.196689Z",
     "iopub.status.busy": "2022-06-18T00:40:44.196007Z",
     "iopub.status.idle": "2022-06-18T00:40:44.210521Z",
     "shell.execute_reply": "2022-06-18T00:40:44.211046Z"
    },
    "papermill": {
     "duration": 0.051363,
     "end_time": "2022-06-18T00:40:44.211190",
     "exception": false,
     "start_time": "2022-06-18T00:40:44.159827",
     "status": "completed"
    },
    "tags": []
   },
   "outputs": [],
   "source": [
    "lr_learner = Learner(loss, model_lr, opt, config.num_epochs)\n",
    "acc_lr = ClfCallback(lr_learner, config.bs, training_data_x , testing_data_x, training_data_y, testing_data_y)\n",
    "lr_learner.set_callbacks([acc_lr])"
   ]
  },
  {
   "cell_type": "code",
   "execution_count": 22,
   "id": "d9b133c3",
   "metadata": {
    "execution": {
     "iopub.execute_input": "2022-06-18T00:40:44.277717Z",
     "iopub.status.busy": "2022-06-18T00:40:44.277042Z",
     "iopub.status.idle": "2022-06-18T00:42:10.199520Z",
     "shell.execute_reply": "2022-06-18T00:42:10.200535Z"
    },
    "papermill": {
     "duration": 85.95844,
     "end_time": "2022-06-18T00:42:10.200707",
     "exception": false,
     "start_time": "2022-06-18T00:40:44.242267",
     "status": "completed"
    },
    "tags": []
   },
   "outputs": [
    {
     "name": "stdout",
     "output_type": "stream",
     "text": [
      "Epoch 0, Loss 0.2412\n",
      "Training Accuracy: 0.6801, Testing Accuracy: 0.6794\n",
      "\n"
     ]
    },
    {
     "name": "stdout",
     "output_type": "stream",
     "text": [
      "Epoch 10, Loss 0.0855\n",
      "Training Accuracy: 0.9210, Testing Accuracy: 0.9315\n",
      "\n"
     ]
    },
    {
     "name": "stdout",
     "output_type": "stream",
     "text": [
      "Epoch 20, Loss 0.0536\n",
      "Training Accuracy: 0.9444, Testing Accuracy: 0.9486\n",
      "\n"
     ]
    },
    {
     "name": "stdout",
     "output_type": "stream",
     "text": [
      "Epoch 30, Loss 0.0428\n",
      "Training Accuracy: 0.9543, Testing Accuracy: 0.9607\n",
      "\n"
     ]
    },
    {
     "name": "stdout",
     "output_type": "stream",
     "text": [
      "Epoch 40, Loss 0.0372\n",
      "Training Accuracy: 0.9589, Testing Accuracy: 0.9652\n",
      "\n"
     ]
    },
    {
     "name": "stdout",
     "output_type": "stream",
     "text": [
      "Epoch 50, Loss 0.0338\n",
      "Training Accuracy: 0.9627, Testing Accuracy: 0.9667\n",
      "\n"
     ]
    },
    {
     "name": "stdout",
     "output_type": "stream",
     "text": [
      "Epoch 60, Loss 0.0314\n",
      "Training Accuracy: 0.9643, Testing Accuracy: 0.9677\n",
      "\n"
     ]
    },
    {
     "name": "stdout",
     "output_type": "stream",
     "text": [
      "Epoch 70, Loss 0.0296\n",
      "Training Accuracy: 0.9666, Testing Accuracy: 0.9682\n",
      "\n"
     ]
    },
    {
     "name": "stdout",
     "output_type": "stream",
     "text": [
      "Epoch 80, Loss 0.0281\n",
      "Training Accuracy: 0.9680, Testing Accuracy: 0.9693\n",
      "\n"
     ]
    },
    {
     "name": "stdout",
     "output_type": "stream",
     "text": [
      "Epoch 90, Loss 0.0269\n",
      "Training Accuracy: 0.9696, Testing Accuracy: 0.9698\n",
      "\n"
     ]
    },
    {
     "name": "stdout",
     "output_type": "stream",
     "text": [
      "Epoch 100, Loss 0.0259\n",
      "Training Accuracy: 0.9705, Testing Accuracy: 0.9703\n",
      "\n"
     ]
    },
    {
     "name": "stdout",
     "output_type": "stream",
     "text": [
      "Epoch 110, Loss 0.0249\n",
      "Training Accuracy: 0.9714, Testing Accuracy: 0.9718\n",
      "\n"
     ]
    },
    {
     "name": "stdout",
     "output_type": "stream",
     "text": [
      "Epoch 120, Loss 0.0241\n",
      "Training Accuracy: 0.9725, Testing Accuracy: 0.9723\n",
      "\n"
     ]
    },
    {
     "name": "stdout",
     "output_type": "stream",
     "text": [
      "Epoch 130, Loss 0.0234\n",
      "Training Accuracy: 0.9735, Testing Accuracy: 0.9733\n",
      "\n"
     ]
    },
    {
     "name": "stdout",
     "output_type": "stream",
     "text": [
      "Epoch 140, Loss 0.0228\n",
      "Training Accuracy: 0.9743, Testing Accuracy: 0.9733\n",
      "\n"
     ]
    },
    {
     "name": "stdout",
     "output_type": "stream",
     "text": [
      "Epoch 150, Loss 0.0222\n",
      "Training Accuracy: 0.9755, Testing Accuracy: 0.9733\n",
      "\n"
     ]
    },
    {
     "name": "stdout",
     "output_type": "stream",
     "text": [
      "Epoch 160, Loss 0.0216\n",
      "Training Accuracy: 0.9757, Testing Accuracy: 0.9733\n",
      "\n"
     ]
    },
    {
     "name": "stdout",
     "output_type": "stream",
     "text": [
      "Epoch 170, Loss 0.0211\n",
      "Training Accuracy: 0.9764, Testing Accuracy: 0.9728\n",
      "\n"
     ]
    },
    {
     "name": "stdout",
     "output_type": "stream",
     "text": [
      "Epoch 180, Loss 0.0206\n",
      "Training Accuracy: 0.9772, Testing Accuracy: 0.9728\n",
      "\n"
     ]
    },
    {
     "name": "stdout",
     "output_type": "stream",
     "text": [
      "Epoch 190, Loss 0.0201\n",
      "Training Accuracy: 0.9775, Testing Accuracy: 0.9738\n",
      "\n"
     ]
    },
    {
     "name": "stdout",
     "output_type": "stream",
     "text": [
      "Epoch 200, Loss 0.0197\n",
      "Training Accuracy: 0.9781, Testing Accuracy: 0.9738\n",
      "\n"
     ]
    },
    {
     "name": "stdout",
     "output_type": "stream",
     "text": [
      "Epoch 210, Loss 0.0193\n",
      "Training Accuracy: 0.9791, Testing Accuracy: 0.9738\n",
      "\n"
     ]
    },
    {
     "name": "stdout",
     "output_type": "stream",
     "text": [
      "Epoch 220, Loss 0.0188\n",
      "Training Accuracy: 0.9798, Testing Accuracy: 0.9743\n",
      "\n"
     ]
    },
    {
     "name": "stdout",
     "output_type": "stream",
     "text": [
      "Epoch 230, Loss 0.0184\n",
      "Training Accuracy: 0.9805, Testing Accuracy: 0.9743\n",
      "\n"
     ]
    },
    {
     "name": "stdout",
     "output_type": "stream",
     "text": [
      "Epoch 240, Loss 0.0181\n",
      "Training Accuracy: 0.9806, Testing Accuracy: 0.9748\n",
      "\n"
     ]
    },
    {
     "data": {
      "text/plain": [
       "0.009362337394970843"
      ]
     },
     "execution_count": 22,
     "metadata": {},
     "output_type": "execute_result"
    }
   ],
   "source": [
    "nn_learner.train_loop(dl)"
   ]
  },
  {
   "cell_type": "code",
   "execution_count": 23,
   "id": "e0163366",
   "metadata": {
    "execution": {
     "iopub.execute_input": "2022-06-18T00:42:10.294444Z",
     "iopub.status.busy": "2022-06-18T00:42:10.293692Z",
     "iopub.status.idle": "2022-06-18T00:42:25.759411Z",
     "shell.execute_reply": "2022-06-18T00:42:25.760328Z"
    },
    "papermill": {
     "duration": 15.519894,
     "end_time": "2022-06-18T00:42:25.760486",
     "exception": false,
     "start_time": "2022-06-18T00:42:10.240592",
     "status": "completed"
    },
    "tags": []
   },
   "outputs": [
    {
     "name": "stdout",
     "output_type": "stream",
     "text": [
      "Epoch 0, Loss 0.2571\n",
      "Training Accuracy: 0.6050, Testing Accuracy: 0.6341\n",
      "\n"
     ]
    },
    {
     "name": "stdout",
     "output_type": "stream",
     "text": [
      "Epoch 10, Loss 0.1047\n",
      "Training Accuracy: 0.9064, Testing Accuracy: 0.9219\n",
      "\n"
     ]
    },
    {
     "name": "stdout",
     "output_type": "stream",
     "text": [
      "Epoch 20, Loss 0.0797\n",
      "Training Accuracy: 0.9281, Testing Accuracy: 0.9410\n",
      "\n"
     ]
    },
    {
     "name": "stdout",
     "output_type": "stream",
     "text": [
      "Epoch 30, Loss 0.0685\n",
      "Training Accuracy: 0.9372, Testing Accuracy: 0.9486\n",
      "\n"
     ]
    },
    {
     "name": "stdout",
     "output_type": "stream",
     "text": [
      "Epoch 40, Loss 0.0618\n",
      "Training Accuracy: 0.9412, Testing Accuracy: 0.9491\n",
      "\n"
     ]
    },
    {
     "name": "stdout",
     "output_type": "stream",
     "text": [
      "Epoch 50, Loss 0.0573\n",
      "Training Accuracy: 0.9443, Testing Accuracy: 0.9551\n",
      "\n"
     ]
    },
    {
     "name": "stdout",
     "output_type": "stream",
     "text": [
      "Epoch 60, Loss 0.054\n",
      "Training Accuracy: 0.9463, Testing Accuracy: 0.9567\n",
      "\n"
     ]
    },
    {
     "name": "stdout",
     "output_type": "stream",
     "text": [
      "Epoch 70, Loss 0.0514\n",
      "Training Accuracy: 0.9482, Testing Accuracy: 0.9582\n",
      "\n"
     ]
    },
    {
     "name": "stdout",
     "output_type": "stream",
     "text": [
      "Epoch 80, Loss 0.0494\n",
      "Training Accuracy: 0.9498, Testing Accuracy: 0.9587\n",
      "\n"
     ]
    },
    {
     "name": "stdout",
     "output_type": "stream",
     "text": [
      "Epoch 90, Loss 0.0477\n",
      "Training Accuracy: 0.9514, Testing Accuracy: 0.9592\n",
      "\n"
     ]
    },
    {
     "name": "stdout",
     "output_type": "stream",
     "text": [
      "Epoch 100, Loss 0.0463\n",
      "Training Accuracy: 0.9529, Testing Accuracy: 0.9617\n",
      "\n"
     ]
    },
    {
     "name": "stdout",
     "output_type": "stream",
     "text": [
      "Epoch 110, Loss 0.0451\n",
      "Training Accuracy: 0.9539, Testing Accuracy: 0.9622\n",
      "\n"
     ]
    },
    {
     "name": "stdout",
     "output_type": "stream",
     "text": [
      "Epoch 120, Loss 0.044\n",
      "Training Accuracy: 0.9552, Testing Accuracy: 0.9637\n",
      "\n"
     ]
    },
    {
     "name": "stdout",
     "output_type": "stream",
     "text": [
      "Epoch 130, Loss 0.0431\n",
      "Training Accuracy: 0.9555, Testing Accuracy: 0.9642\n",
      "\n"
     ]
    },
    {
     "name": "stdout",
     "output_type": "stream",
     "text": [
      "Epoch 140, Loss 0.0422\n",
      "Training Accuracy: 0.9564, Testing Accuracy: 0.9652\n",
      "\n"
     ]
    },
    {
     "name": "stdout",
     "output_type": "stream",
     "text": [
      "Epoch 150, Loss 0.0415\n",
      "Training Accuracy: 0.9573, Testing Accuracy: 0.9652\n",
      "\n"
     ]
    },
    {
     "name": "stdout",
     "output_type": "stream",
     "text": [
      "Epoch 160, Loss 0.0408\n",
      "Training Accuracy: 0.9579, Testing Accuracy: 0.9652\n",
      "\n"
     ]
    },
    {
     "name": "stdout",
     "output_type": "stream",
     "text": [
      "Epoch 170, Loss 0.0402\n",
      "Training Accuracy: 0.9583, Testing Accuracy: 0.9647\n",
      "\n"
     ]
    },
    {
     "name": "stdout",
     "output_type": "stream",
     "text": [
      "Epoch 180, Loss 0.0396\n",
      "Training Accuracy: 0.9588, Testing Accuracy: 0.9647\n",
      "\n"
     ]
    },
    {
     "name": "stdout",
     "output_type": "stream",
     "text": [
      "Epoch 190, Loss 0.0391\n",
      "Training Accuracy: 0.9592, Testing Accuracy: 0.9652\n",
      "\n"
     ]
    },
    {
     "name": "stdout",
     "output_type": "stream",
     "text": [
      "Epoch 200, Loss 0.0386\n",
      "Training Accuracy: 0.9597, Testing Accuracy: 0.9652\n",
      "\n"
     ]
    },
    {
     "name": "stdout",
     "output_type": "stream",
     "text": [
      "Epoch 210, Loss 0.0382\n",
      "Training Accuracy: 0.9600, Testing Accuracy: 0.9652\n",
      "\n"
     ]
    },
    {
     "name": "stdout",
     "output_type": "stream",
     "text": [
      "Epoch 220, Loss 0.0378\n",
      "Training Accuracy: 0.9602, Testing Accuracy: 0.9662\n",
      "\n"
     ]
    },
    {
     "name": "stdout",
     "output_type": "stream",
     "text": [
      "Epoch 230, Loss 0.0374\n",
      "Training Accuracy: 0.9604, Testing Accuracy: 0.9662\n",
      "\n"
     ]
    },
    {
     "name": "stdout",
     "output_type": "stream",
     "text": [
      "Epoch 240, Loss 0.037\n",
      "Training Accuracy: 0.9604, Testing Accuracy: 0.9662\n",
      "\n"
     ]
    },
    {
     "data": {
      "text/plain": [
       "0.08622008482523723"
      ]
     },
     "execution_count": 23,
     "metadata": {},
     "output_type": "execute_result"
    }
   ],
   "source": [
    "lr_learner.train_loop(dl)"
   ]
  },
  {
   "cell_type": "code",
   "execution_count": 24,
   "id": "ca410940",
   "metadata": {
    "execution": {
     "iopub.execute_input": "2022-06-18T00:42:25.867074Z",
     "iopub.status.busy": "2022-06-18T00:42:25.866432Z",
     "iopub.status.idle": "2022-06-18T00:42:26.126515Z",
     "shell.execute_reply": "2022-06-18T00:42:26.125260Z"
    },
    "papermill": {
     "duration": 0.319382,
     "end_time": "2022-06-18T00:42:26.126691",
     "exception": false,
     "start_time": "2022-06-18T00:42:25.807309",
     "status": "completed"
    },
    "tags": []
   },
   "outputs": [
    {
     "data": {
      "text/plain": [
       "<matplotlib.legend.Legend at 0x7f42795989e8>"
      ]
     },
     "execution_count": 24,
     "metadata": {},
     "output_type": "execute_result"
    },
    {
     "data": {
      "image/png": "[encoded data removed]",
      "text/plain": [
       "<Figure size 1080x720 with 1 Axes>"
      ]
     },
     "metadata": {
      "needs_background": "light"
     },
     "output_type": "display_data"
    }
   ],
   "source": [
    "#comparing the results of NN and LR\n",
    "plt.figure(figsize=(15,10))\n",
    "\n",
    "# Neural Network plots\n",
    "plt.plot(acc_nn.accuracies, 'r-', label = \"Training Accuracies - NN\")\n",
    "plt.plot(acc_nn.test_accuracies, 'g-', label = \"Testing Accuracies - NN\")\n",
    "\n",
    "# Logistic Regression plots\n",
    "plt.plot(acc_lr.accuracies, 'k-', label = \"Training Accuracies - LR\")\n",
    "plt.plot(acc_lr.test_accuracies, 'b-', label = \"Testing Accuracies - LR\")\n",
    "plt.legend()"
   ]
  },
  {
   "cell_type": "markdown",
   "id": "80dfb35c",
   "metadata": {
    "papermill": {
     "duration": 0.047401,
     "end_time": "2022-06-18T00:42:26.221907",
     "exception": false,
     "start_time": "2022-06-18T00:42:26.174506",
     "status": "completed"
    },
    "tags": []
   },
   "source": [
    "#### Plotting the outputs of this layer of the NN.\n"
   ]
  },
  {
   "cell_type": "code",
   "execution_count": 25,
   "id": "45eb2ff5",
   "metadata": {
    "execution": {
     "iopub.execute_input": "2022-06-18T00:42:26.322959Z",
     "iopub.status.busy": "2022-06-18T00:42:26.322248Z",
     "iopub.status.idle": "2022-06-18T00:42:26.344354Z",
     "shell.execute_reply": "2022-06-18T00:42:26.344875Z"
    },
    "papermill": {
     "duration": 0.076968,
     "end_time": "2022-06-18T00:42:26.345043",
     "exception": false,
     "start_time": "2022-06-18T00:42:26.268075",
     "status": "completed"
    },
    "tags": []
   },
   "outputs": [],
   "source": [
    "new_model = Model(layers[:-2])\n",
    "testing_plot = new_model(testing_data_x)"
   ]
  },
  {
   "cell_type": "code",
   "execution_count": 26,
   "id": "4c0a5485",
   "metadata": {
    "execution": {
     "iopub.execute_input": "2022-06-18T00:42:26.443498Z",
     "iopub.status.busy": "2022-06-18T00:42:26.442781Z",
     "iopub.status.idle": "2022-06-18T00:42:26.699980Z",
     "shell.execute_reply": "2022-06-18T00:42:26.699430Z"
    },
    "papermill": {
     "duration": 0.309345,
     "end_time": "2022-06-18T00:42:26.700114",
     "exception": false,
     "start_time": "2022-06-18T00:42:26.390769",
     "status": "completed"
    },
    "tags": []
   },
   "outputs": [
    {
     "data": {
      "text/plain": [
       "Text(0.5, 1.0, 'Outputs')"
      ]
     },
     "execution_count": 26,
     "metadata": {},
     "output_type": "execute_result"
    },
    {
     "data": {
      "image/png": "[encoded data removed]",
      "text/plain": [
       "<Figure size 576x504 with 1 Axes>"
      ]
     },
     "metadata": {
      "needs_background": "light"
     },
     "output_type": "display_data"
    }
   ],
   "source": [
    "# Plotting the scatter plot of points and color coding by class\n",
    "plt.figure(figsize=(8,7))\n",
    "plt.scatter(testing_plot[:,0], testing_plot[:,1], alpha = 0.1, c = y_test.ravel());\n",
    "plt.title('Outputs')"
   ]
  },
  {
   "cell_type": "markdown",
   "id": "a74fcf8f",
   "metadata": {
    "papermill": {
     "duration": 0.050863,
     "end_time": "2022-06-18T00:42:26.801123",
     "exception": false,
     "start_time": "2022-06-18T00:42:26.750260",
     "status": "completed"
    },
    "tags": []
   },
   "source": [
    "Probability contours"
   ]
  },
  {
   "cell_type": "code",
   "execution_count": 27,
   "id": "d0afc8e3",
   "metadata": {
    "execution": {
     "iopub.execute_input": "2022-06-18T00:42:26.935131Z",
     "iopub.status.busy": "2022-06-18T00:42:26.934258Z",
     "iopub.status.idle": "2022-06-18T00:42:26.947377Z",
     "shell.execute_reply": "2022-06-18T00:42:26.946749Z"
    },
    "papermill": {
     "duration": 0.068286,
     "end_time": "2022-06-18T00:42:26.947528",
     "exception": false,
     "start_time": "2022-06-18T00:42:26.879242",
     "status": "completed"
    },
    "tags": []
   },
   "outputs": [],
   "source": [
    "model_prob = Model(layers[-2:]) "
   ]
  },
  {
   "cell_type": "code",
   "execution_count": 28,
   "id": "9b96e238",
   "metadata": {
    "execution": {
     "iopub.execute_input": "2022-06-18T00:42:27.050984Z",
     "iopub.status.busy": "2022-06-18T00:42:27.050336Z",
     "iopub.status.idle": "2022-06-18T00:42:27.066030Z",
     "shell.execute_reply": "2022-06-18T00:42:27.066549Z"
    },
    "papermill": {
     "duration": 0.070188,
     "end_time": "2022-06-18T00:42:27.066692",
     "exception": false,
     "start_time": "2022-06-18T00:42:26.996504",
     "status": "completed"
    },
    "tags": []
   },
   "outputs": [],
   "source": [
    "#creating the x and y ranges according to the above generated plot.\n",
    "x_range = np.linspace(-4, 1, 100) \n",
    "y_range = np.linspace(-6, 6, 100) \n",
    "x_grid, y_grid = np.meshgrid(x_range, y_range) # x_grid and y_grig are of size 100 X 100\n",
    "\n",
    "# converting x_grid and y_grid to continuous arrays\n",
    "x_gridflat = np.ravel(x_grid)\n",
    "y_gridflat = np.ravel(y_grid)\n",
    "\n",
    "# The last layer of the current model takes two columns as input. Hence transpose of np.vstack() is required.\n",
    "X = np.vstack((x_gridflat, y_gridflat)).T\n",
    "\n",
    "prob_contour = model_prob(X).reshape(100,100) "
   ]
  },
  {
   "cell_type": "code",
   "execution_count": 29,
   "id": "da72499a",
   "metadata": {
    "execution": {
     "iopub.execute_input": "2022-06-18T00:42:27.186970Z",
     "iopub.status.busy": "2022-06-18T00:42:27.186314Z",
     "iopub.status.idle": "2022-06-18T00:42:27.460389Z",
     "shell.execute_reply": "2022-06-18T00:42:27.460918Z"
    },
    "papermill": {
     "duration": 0.338701,
     "end_time": "2022-06-18T00:42:27.461073",
     "exception": false,
     "start_time": "2022-06-18T00:42:27.122372",
     "status": "completed"
    },
    "tags": []
   },
   "outputs": [
    {
     "data": {
      "image/png": "[encoded data removed]",
      "text/plain": [
       "<Figure size 720x648 with 1 Axes>"
      ]
     },
     "metadata": {
      "needs_background": "light"
     },
     "output_type": "display_data"
    }
   ],
   "source": [
    "plt.figure(figsize=(10,9))\n",
    "plt.scatter(testing_plot[:,0], testing_plot[:,1], alpha = 0.1, c = y_test.ravel())\n",
    "contours = plt.contour(x_grid,y_grid,prob_contour)\n",
    "plt.title('Probability Contours')\n",
    "plt.clabel(contours, inline = True );"
   ]
  },
  {
   "cell_type": "code",
   "execution_count": null,
   "id": "e81b4ac7",
   "metadata": {
    "papermill": {
     "duration": 0.052669,
     "end_time": "2022-06-18T00:42:27.566497",
     "exception": false,
     "start_time": "2022-06-18T00:42:27.513828",
     "status": "completed"
    },
    "tags": []
   },
   "outputs": [],
   "source": []
  }
 ],
 "metadata": {
  "kernelspec": {
   "display_name": "Python 3",
   "language": "python",
   "name": "python3"
  },
  "language_info": {
   "codemirror_mode": {
    "name": "ipython",
    "version": 3
   },
   "file_extension": ".py",
   "mimetype": "text/x-python",
   "name": "python",
   "nbconvert_exporter": "python",
   "pygments_lexer": "ipython3",
   "version": "3.6.15"
  },
  "papermill": {
   "default_parameters": {},
   "duration": 111.494726,
   "end_time": "2022-06-18T00:42:28.041893",
   "environment_variables": {},
   "exception": null,
   "input_path": "2020-08-11-part2.ipynb",
   "output_path": "2020-08-11-part2.ipynb",
   "parameters": {},
   "start_time": "2022-06-18T00:40:36.547167",
   "version": "2.3.3"
  }
 },
 "nbformat": 4,
 "nbformat_minor": 5
}