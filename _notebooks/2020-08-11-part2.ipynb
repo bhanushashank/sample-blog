{
 "cells": [
  {
   "cell_type": "markdown",
   "id": "98380cd3",
   "metadata": {
    "papermill": {
     "duration": 0.028663,
     "end_time": "2022-02-27T00:30:50.898962",
     "exception": false,
     "start_time": "2022-02-27T00:30:50.870299",
     "status": "completed"
    },
    "tags": []
   },
   "source": [
    "# Distinguish Your Own Digits (DYOD)"
   ]
  },
  {
   "cell_type": "markdown",
   "id": "ef31240d",
   "metadata": {
    "papermill": {
     "duration": 0.026566,
     "end_time": "2022-02-27T00:30:50.950645",
     "exception": false,
     "start_time": "2022-02-27T00:30:50.924079",
     "status": "completed"
    },
    "tags": []
   },
   "source": [
    "You are going to write a classifier that distinguishes between the number 3 and number 8."
   ]
  },
  {
   "cell_type": "code",
   "execution_count": 1,
   "id": "b15c8646",
   "metadata": {
    "execution": {
     "iopub.execute_input": "2022-02-27T00:30:51.010010Z",
     "iopub.status.busy": "2022-02-27T00:30:51.009442Z",
     "iopub.status.idle": "2022-02-27T00:30:51.020339Z",
     "shell.execute_reply": "2022-02-27T00:30:51.019884Z"
    },
    "papermill": {
     "duration": 0.04568,
     "end_time": "2022-02-27T00:30:51.020480",
     "exception": false,
     "start_time": "2022-02-27T00:30:50.974800",
     "status": "completed"
    },
    "tags": []
   },
   "outputs": [],
   "source": [
    "%load_ext autoreload\n",
    "%autoreload 2"
   ]
  },
  {
   "cell_type": "code",
   "execution_count": 2,
   "id": "22ef38dc",
   "metadata": {
    "execution": {
     "iopub.execute_input": "2022-02-27T00:30:51.078883Z",
     "iopub.status.busy": "2022-02-27T00:30:51.078283Z",
     "iopub.status.idle": "2022-02-27T00:30:51.694075Z",
     "shell.execute_reply": "2022-02-27T00:30:51.694541Z"
    },
    "papermill": {
     "duration": 0.649787,
     "end_time": "2022-02-27T00:30:51.694702",
     "exception": false,
     "start_time": "2022-02-27T00:30:51.044915",
     "status": "completed"
    },
    "tags": []
   },
   "outputs": [],
   "source": [
    "%matplotlib inline\n",
    "import numpy as np\n",
    "import matplotlib.pyplot as plt\n",
    "import pandas as pd"
   ]
  },
  {
   "cell_type": "markdown",
   "id": "ba036198",
   "metadata": {
    "papermill": {
     "duration": 0.02416,
     "end_time": "2022-02-27T00:30:51.743076",
     "exception": false,
     "start_time": "2022-02-27T00:30:51.718916",
     "status": "completed"
    },
    "tags": []
   },
   "source": [
    "From the command line run `pip install mnist`. This is a library that will help you bring down the mnist dataset. If you run this from a notebook, you need to put  `!pip install mnist` in a cell by itself."
   ]
  },
  {
   "cell_type": "code",
   "execution_count": 3,
   "id": "bb6ad8a1",
   "metadata": {
    "execution": {
     "iopub.execute_input": "2022-02-27T00:30:51.805082Z",
     "iopub.status.busy": "2022-02-27T00:30:51.800415Z",
     "iopub.status.idle": "2022-02-27T00:30:53.596599Z",
     "shell.execute_reply": "2022-02-27T00:30:53.596105Z"
    },
    "papermill": {
     "duration": 1.829456,
     "end_time": "2022-02-27T00:30:53.596735",
     "exception": false,
     "start_time": "2022-02-27T00:30:51.767279",
     "status": "completed"
    },
    "tags": []
   },
   "outputs": [
    {
     "name": "stdout",
     "output_type": "stream",
     "text": [
      "Collecting mnist\r\n"
     ]
    },
    {
     "name": "stdout",
     "output_type": "stream",
     "text": [
      "  Downloading mnist-0.2.2-py2.py3-none-any.whl (3.5 kB)\r\n",
      "Requirement already satisfied: numpy in /opt/hostedtoolcache/Python/3.6.15/x64/lib/python3.6/site-packages (from mnist) (1.19.5)\r\n"
     ]
    },
    {
     "name": "stdout",
     "output_type": "stream",
     "text": [
      "Installing collected packages: mnist\r\n",
      "Successfully installed mnist-0.2.2\r\n"
     ]
    }
   ],
   "source": [
    "!pip install mnist"
   ]
  },
  {
   "cell_type": "markdown",
   "id": "69df9c9a",
   "metadata": {
    "papermill": {
     "duration": 0.025233,
     "end_time": "2022-02-27T00:30:53.647120",
     "exception": false,
     "start_time": "2022-02-27T00:30:53.621887",
     "status": "completed"
    },
    "tags": []
   },
   "source": [
    "## Preparing the Data"
   ]
  },
  {
   "cell_type": "code",
   "execution_count": 4,
   "id": "7f69d806",
   "metadata": {
    "execution": {
     "iopub.execute_input": "2022-02-27T00:30:53.701357Z",
     "iopub.status.busy": "2022-02-27T00:30:53.700837Z",
     "iopub.status.idle": "2022-02-27T00:30:53.715869Z",
     "shell.execute_reply": "2022-02-27T00:30:53.715417Z"
    },
    "papermill": {
     "duration": 0.044037,
     "end_time": "2022-02-27T00:30:53.715989",
     "exception": false,
     "start_time": "2022-02-27T00:30:53.671952",
     "status": "completed"
    },
    "tags": []
   },
   "outputs": [],
   "source": [
    "import mnist"
   ]
  },
  {
   "cell_type": "code",
   "execution_count": 5,
   "id": "a411e44f",
   "metadata": {
    "execution": {
     "iopub.execute_input": "2022-02-27T00:30:53.778806Z",
     "iopub.status.busy": "2022-02-27T00:30:53.778265Z",
     "iopub.status.idle": "2022-02-27T00:30:54.425059Z",
     "shell.execute_reply": "2022-02-27T00:30:54.425573Z"
    },
    "papermill": {
     "duration": 0.684941,
     "end_time": "2022-02-27T00:30:54.425742",
     "exception": false,
     "start_time": "2022-02-27T00:30:53.740801",
     "status": "completed"
    },
    "tags": []
   },
   "outputs": [],
   "source": [
    "train_images = mnist.train_images()\n",
    "train_labels = mnist.train_labels()"
   ]
  },
  {
   "cell_type": "code",
   "execution_count": 6,
   "id": "dceab3a5",
   "metadata": {
    "execution": {
     "iopub.execute_input": "2022-02-27T00:30:54.495692Z",
     "iopub.status.busy": "2022-02-27T00:30:54.492410Z",
     "iopub.status.idle": "2022-02-27T00:30:54.500544Z",
     "shell.execute_reply": "2022-02-27T00:30:54.500112Z"
    },
    "papermill": {
     "duration": 0.049463,
     "end_time": "2022-02-27T00:30:54.500657",
     "exception": false,
     "start_time": "2022-02-27T00:30:54.451194",
     "status": "completed"
    },
    "tags": []
   },
   "outputs": [
    {
     "data": {
      "text/plain": [
       "((60000, 28, 28), (60000,))"
      ]
     },
     "execution_count": 6,
     "metadata": {},
     "output_type": "execute_result"
    }
   ],
   "source": [
    "train_images.shape, train_labels.shape"
   ]
  },
  {
   "cell_type": "code",
   "execution_count": 7,
   "id": "f50dc2bb",
   "metadata": {
    "execution": {
     "iopub.execute_input": "2022-02-27T00:30:54.560530Z",
     "iopub.status.busy": "2022-02-27T00:30:54.560005Z",
     "iopub.status.idle": "2022-02-27T00:30:54.813400Z",
     "shell.execute_reply": "2022-02-27T00:30:54.812895Z"
    },
    "papermill": {
     "duration": 0.287845,
     "end_time": "2022-02-27T00:30:54.813528",
     "exception": false,
     "start_time": "2022-02-27T00:30:54.525683",
     "status": "completed"
    },
    "tags": []
   },
   "outputs": [],
   "source": [
    "test_images = mnist.test_images()\n",
    "test_labels = mnist.test_labels()"
   ]
  },
  {
   "cell_type": "code",
   "execution_count": 8,
   "id": "fc38cf1b",
   "metadata": {
    "execution": {
     "iopub.execute_input": "2022-02-27T00:30:54.872159Z",
     "iopub.status.busy": "2022-02-27T00:30:54.867113Z",
     "iopub.status.idle": "2022-02-27T00:30:54.882443Z",
     "shell.execute_reply": "2022-02-27T00:30:54.882023Z"
    },
    "papermill": {
     "duration": 0.043662,
     "end_time": "2022-02-27T00:30:54.882562",
     "exception": false,
     "start_time": "2022-02-27T00:30:54.838900",
     "status": "completed"
    },
    "tags": []
   },
   "outputs": [
    {
     "data": {
      "text/plain": [
       "((10000, 28, 28), (10000,))"
      ]
     },
     "execution_count": 8,
     "metadata": {},
     "output_type": "execute_result"
    }
   ],
   "source": [
    "test_images.shape, test_labels.shape"
   ]
  },
  {
   "cell_type": "code",
   "execution_count": 9,
   "id": "f9ed8fe0",
   "metadata": {
    "execution": {
     "iopub.execute_input": "2022-02-27T00:30:54.938058Z",
     "iopub.status.busy": "2022-02-27T00:30:54.937547Z",
     "iopub.status.idle": "2022-02-27T00:30:55.074448Z",
     "shell.execute_reply": "2022-02-27T00:30:55.074011Z"
    },
    "papermill": {
     "duration": 0.166749,
     "end_time": "2022-02-27T00:30:55.074574",
     "exception": false,
     "start_time": "2022-02-27T00:30:54.907825",
     "status": "completed"
    },
    "tags": []
   },
   "outputs": [
    {
     "name": "stdout",
     "output_type": "stream",
     "text": [
      "2\n"
     ]
    },
    {
     "data": {
      "text/plain": [
       "<matplotlib.image.AxesImage at 0x7fbd13d5c588>"
      ]
     },
     "execution_count": 9,
     "metadata": {},
     "output_type": "execute_result"
    },
    {
     "data": {
      "image/png": "[encoded data removed]",
      "text/plain": [
       "<Figure size 432x288 with 1 Axes>"
      ]
     },
     "metadata": {
      "needs_background": "light"
     },
     "output_type": "display_data"
    }
   ],
   "source": [
    "image_index = 7776 # You may select anything up to 60,000\n",
    "print(train_labels[image_index]) \n",
    "plt.imshow(train_images[image_index], cmap='Greys')"
   ]
  },
  {
   "cell_type": "markdown",
   "id": "a8d2388d",
   "metadata": {
    "papermill": {
     "duration": 0.026445,
     "end_time": "2022-02-27T00:30:55.127815",
     "exception": false,
     "start_time": "2022-02-27T00:30:55.101370",
     "status": "completed"
    },
    "tags": []
   },
   "source": [
    "## Filter data to get 3 and 8 out"
   ]
  },
  {
   "cell_type": "code",
   "execution_count": 10,
   "id": "776f7fc7",
   "metadata": {
    "execution": {
     "iopub.execute_input": "2022-02-27T00:30:55.185716Z",
     "iopub.status.busy": "2022-02-27T00:30:55.185175Z",
     "iopub.status.idle": "2022-02-27T00:30:55.203712Z",
     "shell.execute_reply": "2022-02-27T00:30:55.202979Z"
    },
    "papermill": {
     "duration": 0.04949,
     "end_time": "2022-02-27T00:30:55.203869",
     "exception": false,
     "start_time": "2022-02-27T00:30:55.154379",
     "status": "completed"
    },
    "tags": []
   },
   "outputs": [],
   "source": [
    "train_filter = np.where((train_labels == 3 ) | (train_labels == 8))\n",
    "test_filter = np.where((test_labels == 3) | (test_labels == 8))\n",
    "X_train, y_train = train_images[train_filter], train_labels[train_filter]\n",
    "X_test, y_test = test_images[test_filter], test_labels[test_filter]"
   ]
  },
  {
   "cell_type": "markdown",
   "id": "948f0b7e",
   "metadata": {
    "papermill": {
     "duration": 0.026304,
     "end_time": "2022-02-27T00:30:55.256838",
     "exception": false,
     "start_time": "2022-02-27T00:30:55.230534",
     "status": "completed"
    },
    "tags": []
   },
   "source": [
    "We normalize the pizel values in the 0 to 1 range"
   ]
  },
  {
   "cell_type": "code",
   "execution_count": 11,
   "id": "ee4c2166",
   "metadata": {
    "execution": {
     "iopub.execute_input": "2022-02-27T00:30:55.314539Z",
     "iopub.status.busy": "2022-02-27T00:30:55.314016Z",
     "iopub.status.idle": "2022-02-27T00:30:55.363046Z",
     "shell.execute_reply": "2022-02-27T00:30:55.362579Z"
    },
    "papermill": {
     "duration": 0.080078,
     "end_time": "2022-02-27T00:30:55.363175",
     "exception": false,
     "start_time": "2022-02-27T00:30:55.283097",
     "status": "completed"
    },
    "tags": []
   },
   "outputs": [],
   "source": [
    "X_train = X_train/255.\n",
    "X_test = X_test/255."
   ]
  },
  {
   "cell_type": "markdown",
   "id": "ddcf4fab",
   "metadata": {
    "papermill": {
     "duration": 0.026652,
     "end_time": "2022-02-27T00:30:55.416757",
     "exception": false,
     "start_time": "2022-02-27T00:30:55.390105",
     "status": "completed"
    },
    "tags": []
   },
   "source": [
    "And setup the labels as 1 (when the digit is 3) and 0 (when the digit is 8)"
   ]
  },
  {
   "cell_type": "code",
   "execution_count": 12,
   "id": "7dc908f2",
   "metadata": {
    "execution": {
     "iopub.execute_input": "2022-02-27T00:30:55.473345Z",
     "iopub.status.busy": "2022-02-27T00:30:55.472833Z",
     "iopub.status.idle": "2022-02-27T00:30:55.484596Z",
     "shell.execute_reply": "2022-02-27T00:30:55.484160Z"
    },
    "papermill": {
     "duration": 0.041675,
     "end_time": "2022-02-27T00:30:55.484706",
     "exception": false,
     "start_time": "2022-02-27T00:30:55.443031",
     "status": "completed"
    },
    "tags": []
   },
   "outputs": [],
   "source": [
    "y_train = 1*(y_train==3)\n",
    "y_test = 1*(y_test==3)"
   ]
  },
  {
   "cell_type": "code",
   "execution_count": 13,
   "id": "01e4e969",
   "metadata": {
    "execution": {
     "iopub.execute_input": "2022-02-27T00:30:55.541013Z",
     "iopub.status.busy": "2022-02-27T00:30:55.540500Z",
     "iopub.status.idle": "2022-02-27T00:30:55.553761Z",
     "shell.execute_reply": "2022-02-27T00:30:55.554146Z"
    },
    "papermill": {
     "duration": 0.043261,
     "end_time": "2022-02-27T00:30:55.554279",
     "exception": false,
     "start_time": "2022-02-27T00:30:55.511018",
     "status": "completed"
    },
    "tags": []
   },
   "outputs": [
    {
     "data": {
      "text/plain": [
       "((11982, 28, 28), (1984, 28, 28))"
      ]
     },
     "execution_count": 13,
     "metadata": {},
     "output_type": "execute_result"
    }
   ],
   "source": [
    "X_train.shape, X_test.shape"
   ]
  },
  {
   "cell_type": "markdown",
   "id": "5ccf3f85",
   "metadata": {
    "papermill": {
     "duration": 0.026798,
     "end_time": "2022-02-27T00:30:55.607775",
     "exception": false,
     "start_time": "2022-02-27T00:30:55.580977",
     "status": "completed"
    },
    "tags": []
   },
   "source": [
    "We reshape the data to flatten the image pixels into a set of features or co-variates:"
   ]
  },
  {
   "cell_type": "code",
   "execution_count": 14,
   "id": "5286a4a3",
   "metadata": {
    "execution": {
     "iopub.execute_input": "2022-02-27T00:30:55.665201Z",
     "iopub.status.busy": "2022-02-27T00:30:55.664679Z",
     "iopub.status.idle": "2022-02-27T00:30:55.678622Z",
     "shell.execute_reply": "2022-02-27T00:30:55.679032Z"
    },
    "papermill": {
     "duration": 0.04456,
     "end_time": "2022-02-27T00:30:55.679160",
     "exception": false,
     "start_time": "2022-02-27T00:30:55.634600",
     "status": "completed"
    },
    "tags": []
   },
   "outputs": [
    {
     "data": {
      "text/plain": [
       "((11982, 784), (1984, 784))"
      ]
     },
     "execution_count": 14,
     "metadata": {},
     "output_type": "execute_result"
    }
   ],
   "source": [
    "X_train = X_train.reshape(X_train.shape[0], -1)\n",
    "X_test = X_test.reshape(X_test.shape[0], -1)\n",
    "X_train.shape, X_test.shape"
   ]
  },
  {
   "cell_type": "code",
   "execution_count": 15,
   "id": "73c5f88a",
   "metadata": {
    "execution": {
     "iopub.execute_input": "2022-02-27T00:30:55.738068Z",
     "iopub.status.busy": "2022-02-27T00:30:55.737537Z",
     "iopub.status.idle": "2022-02-27T00:30:55.756540Z",
     "shell.execute_reply": "2022-02-27T00:30:55.756090Z"
    },
    "papermill": {
     "duration": 0.050426,
     "end_time": "2022-02-27T00:30:55.756665",
     "exception": false,
     "start_time": "2022-02-27T00:30:55.706239",
     "status": "completed"
    },
    "tags": []
   },
   "outputs": [],
   "source": [
    "#Impoting functions from 'Kudzu'\n",
    "from kudzu.model import Model\n",
    "from kudzu.train import Learner\n",
    "from kudzu.optim import GD\n",
    "from kudzu.data import Data, Sampler,Dataloader\n",
    "\n",
    "from kudzu.callbacks import AccCallback\n",
    "from kudzu.callbacks import ClfCallback\n",
    "\n",
    "from kudzu.loss import MSE\n",
    "\n",
    "from kudzu.layer import Sigmoid,Relu\n",
    "from kudzu.layer import Affine"
   ]
  },
  {
   "cell_type": "markdown",
   "id": "bc01172a",
   "metadata": {
    "papermill": {
     "duration": 0.026912,
     "end_time": "2022-02-27T00:30:55.810962",
     "exception": false,
     "start_time": "2022-02-27T00:30:55.784050",
     "status": "completed"
    },
    "tags": []
   },
   "source": [
    "### Let us create a `Config` class, to store important parameters. \n",
    "This class essentially plays the role of a dictionary."
   ]
  },
  {
   "cell_type": "code",
   "execution_count": 16,
   "id": "978281aa",
   "metadata": {
    "execution": {
     "iopub.execute_input": "2022-02-27T00:30:55.883057Z",
     "iopub.status.busy": "2022-02-27T00:30:55.880575Z",
     "iopub.status.idle": "2022-02-27T00:30:55.885042Z",
     "shell.execute_reply": "2022-02-27T00:30:55.885433Z"
    },
    "papermill": {
     "duration": 0.04776,
     "end_time": "2022-02-27T00:30:55.885571",
     "exception": false,
     "start_time": "2022-02-27T00:30:55.837811",
     "status": "completed"
    },
    "tags": []
   },
   "outputs": [],
   "source": [
    "class Config:\n",
    "    pass\n",
    "config = Config()\n",
    "config.lr = 0.001\n",
    "config.num_epochs = 250\n",
    "config.bs = 50"
   ]
  },
  {
   "cell_type": "markdown",
   "id": "1385fa59",
   "metadata": {
    "papermill": {
     "duration": 0.02717,
     "end_time": "2022-02-27T00:30:55.939931",
     "exception": false,
     "start_time": "2022-02-27T00:30:55.912761",
     "status": "completed"
    },
    "tags": []
   },
   "source": [
    "### Running Models with the Training data\n",
    "Details about the network layers:\n",
    "- A first affine layer has 784 inputs and does 100 affine transforms. These are followed by a Relu\n",
    "- A second affine layer has 100 inputs from the 100 activations of the past layer, and does 100 affine transforms. These are followed by a Relu\n",
    "- A third affine layer has 100 activations and does 2 affine transformations to create an embedding for visualization. There is no non-linearity here.\n",
    "- A final \"logistic regression\" which has an affine transform from 2 inputs to 1 output, which is squeezed through a sigmoid.\n"
   ]
  },
  {
   "cell_type": "code",
   "execution_count": 17,
   "id": "2b9c66db",
   "metadata": {
    "execution": {
     "iopub.execute_input": "2022-02-27T00:30:56.012395Z",
     "iopub.status.busy": "2022-02-27T00:30:56.008540Z",
     "iopub.status.idle": "2022-02-27T00:30:56.015509Z",
     "shell.execute_reply": "2022-02-27T00:30:56.015075Z"
    },
    "papermill": {
     "duration": 0.048789,
     "end_time": "2022-02-27T00:30:56.015633",
     "exception": false,
     "start_time": "2022-02-27T00:30:55.966844",
     "status": "completed"
    },
    "tags": []
   },
   "outputs": [],
   "source": [
    "data = Data(X_train, y_train.reshape(-1,1))\n",
    "sampler = Sampler(data, config.bs, shuffle=True)\n",
    "\n",
    "dl = Dataloader(data, sampler)\n",
    "\n",
    "opt = GD(config.lr)\n",
    "loss = MSE()"
   ]
  },
  {
   "cell_type": "code",
   "execution_count": 18,
   "id": "b275e4c2",
   "metadata": {
    "execution": {
     "iopub.execute_input": "2022-02-27T00:30:56.073563Z",
     "iopub.status.busy": "2022-02-27T00:30:56.073043Z",
     "iopub.status.idle": "2022-02-27T00:30:56.085946Z",
     "shell.execute_reply": "2022-02-27T00:30:56.085506Z"
    },
    "papermill": {
     "duration": 0.043386,
     "end_time": "2022-02-27T00:30:56.086061",
     "exception": false,
     "start_time": "2022-02-27T00:30:56.042675",
     "status": "completed"
    },
    "tags": []
   },
   "outputs": [],
   "source": [
    "training_data_x = X_train\n",
    "testing_data_x = X_test\n",
    "training_data_y = y_train.reshape(-1,1)\n",
    "testing_data_y = y_test.reshape(-1,1)"
   ]
  },
  {
   "cell_type": "code",
   "execution_count": 19,
   "id": "76951160",
   "metadata": {
    "execution": {
     "iopub.execute_input": "2022-02-27T00:30:56.158316Z",
     "iopub.status.busy": "2022-02-27T00:30:56.157764Z",
     "iopub.status.idle": "2022-02-27T00:30:56.168218Z",
     "shell.execute_reply": "2022-02-27T00:30:56.167771Z"
    },
    "papermill": {
     "duration": 0.055211,
     "end_time": "2022-02-27T00:30:56.168341",
     "exception": false,
     "start_time": "2022-02-27T00:30:56.113130",
     "status": "completed"
    },
    "tags": []
   },
   "outputs": [
    {
     "name": "stdout",
     "output_type": "stream",
     "text": [
      "xavier\n",
      "xavier\n",
      "xavier\n",
      "xavier\n",
      "xavier\n"
     ]
    }
   ],
   "source": [
    "layers = [Affine(\"first\", 784, 100), Relu(\"first\"), Affine(\"second\", 100, 100), Relu(\"second\"), Affine(\"third\", 100, 2), Affine(\"last\", 2, 1), Sigmoid(\"last\")]\n",
    "model_nn = Model(layers)\n",
    "model_lr = Model([Affine(\"logits\", 784, 1), Sigmoid(\"sigmoid\")])"
   ]
  },
  {
   "cell_type": "code",
   "execution_count": 20,
   "id": "6eede77a",
   "metadata": {
    "execution": {
     "iopub.execute_input": "2022-02-27T00:30:56.235193Z",
     "iopub.status.busy": "2022-02-27T00:30:56.234669Z",
     "iopub.status.idle": "2022-02-27T00:30:56.241755Z",
     "shell.execute_reply": "2022-02-27T00:30:56.242147Z"
    },
    "papermill": {
     "duration": 0.04627,
     "end_time": "2022-02-27T00:30:56.242282",
     "exception": false,
     "start_time": "2022-02-27T00:30:56.196012",
     "status": "completed"
    },
    "tags": []
   },
   "outputs": [],
   "source": [
    "nn_learner = Learner(loss, model_nn, opt, config.num_epochs)\n",
    "acc_nn = ClfCallback(nn_learner, config.bs, training_data_x , testing_data_x, training_data_y, testing_data_y)\n",
    "nn_learner.set_callbacks([acc_nn])"
   ]
  },
  {
   "cell_type": "code",
   "execution_count": 21,
   "id": "877b6cc7",
   "metadata": {
    "execution": {
     "iopub.execute_input": "2022-02-27T00:30:56.311107Z",
     "iopub.status.busy": "2022-02-27T00:30:56.299876Z",
     "iopub.status.idle": "2022-02-27T00:30:56.313475Z",
     "shell.execute_reply": "2022-02-27T00:30:56.313034Z"
    },
    "papermill": {
     "duration": 0.044307,
     "end_time": "2022-02-27T00:30:56.313588",
     "exception": false,
     "start_time": "2022-02-27T00:30:56.269281",
     "status": "completed"
    },
    "tags": []
   },
   "outputs": [],
   "source": [
    "lr_learner = Learner(loss, model_lr, opt, config.num_epochs)\n",
    "acc_lr = ClfCallback(lr_learner, config.bs, training_data_x , testing_data_x, training_data_y, testing_data_y)\n",
    "lr_learner.set_callbacks([acc_lr])"
   ]
  },
  {
   "cell_type": "code",
   "execution_count": 22,
   "id": "d9b133c3",
   "metadata": {
    "execution": {
     "iopub.execute_input": "2022-02-27T00:30:56.384925Z",
     "iopub.status.busy": "2022-02-27T00:30:56.384415Z",
     "iopub.status.idle": "2022-02-27T00:32:14.907029Z",
     "shell.execute_reply": "2022-02-27T00:32:14.907800Z"
    },
    "papermill": {
     "duration": 78.567209,
     "end_time": "2022-02-27T00:32:14.907960",
     "exception": false,
     "start_time": "2022-02-27T00:30:56.340751",
     "status": "completed"
    },
    "tags": []
   },
   "outputs": [
    {
     "name": "stdout",
     "output_type": "stream",
     "text": [
      "Epoch 0, Loss 0.256\n",
      "Training Accuracy: 0.5769, Testing Accuracy: 0.5544\n",
      "\n"
     ]
    },
    {
     "name": "stdout",
     "output_type": "stream",
     "text": [
      "Epoch 10, Loss 0.1031\n",
      "Training Accuracy: 0.9018, Testing Accuracy: 0.9219\n",
      "\n"
     ]
    },
    {
     "name": "stdout",
     "output_type": "stream",
     "text": [
      "Epoch 20, Loss 0.0616\n",
      "Training Accuracy: 0.9355, Testing Accuracy: 0.9451\n",
      "\n"
     ]
    },
    {
     "name": "stdout",
     "output_type": "stream",
     "text": [
      "Epoch 30, Loss 0.0469\n",
      "Training Accuracy: 0.9493, Testing Accuracy: 0.9582\n",
      "\n"
     ]
    },
    {
     "name": "stdout",
     "output_type": "stream",
     "text": [
      "Epoch 40, Loss 0.0398\n",
      "Training Accuracy: 0.9569, Testing Accuracy: 0.9602\n",
      "\n"
     ]
    },
    {
     "name": "stdout",
     "output_type": "stream",
     "text": [
      "Epoch 50, Loss 0.0356\n",
      "Training Accuracy: 0.9603, Testing Accuracy: 0.9647\n",
      "\n"
     ]
    },
    {
     "name": "stdout",
     "output_type": "stream",
     "text": [
      "Epoch 60, Loss 0.0327\n",
      "Training Accuracy: 0.9624, Testing Accuracy: 0.9652\n",
      "\n"
     ]
    },
    {
     "name": "stdout",
     "output_type": "stream",
     "text": [
      "Epoch 70, Loss 0.0306\n",
      "Training Accuracy: 0.9642, Testing Accuracy: 0.9662\n",
      "\n"
     ]
    },
    {
     "name": "stdout",
     "output_type": "stream",
     "text": [
      "Epoch 80, Loss 0.029\n",
      "Training Accuracy: 0.9661, Testing Accuracy: 0.9667\n",
      "\n"
     ]
    },
    {
     "name": "stdout",
     "output_type": "stream",
     "text": [
      "Epoch 90, Loss 0.0276\n",
      "Training Accuracy: 0.9679, Testing Accuracy: 0.9682\n",
      "\n"
     ]
    },
    {
     "name": "stdout",
     "output_type": "stream",
     "text": [
      "Epoch 100, Loss 0.0265\n",
      "Training Accuracy: 0.9692, Testing Accuracy: 0.9698\n",
      "\n"
     ]
    },
    {
     "name": "stdout",
     "output_type": "stream",
     "text": [
      "Epoch 110, Loss 0.0255\n",
      "Training Accuracy: 0.9710, Testing Accuracy: 0.9708\n",
      "\n"
     ]
    },
    {
     "name": "stdout",
     "output_type": "stream",
     "text": [
      "Epoch 120, Loss 0.0245\n",
      "Training Accuracy: 0.9720, Testing Accuracy: 0.9723\n",
      "\n"
     ]
    },
    {
     "name": "stdout",
     "output_type": "stream",
     "text": [
      "Epoch 130, Loss 0.0237\n",
      "Training Accuracy: 0.9731, Testing Accuracy: 0.9738\n",
      "\n"
     ]
    },
    {
     "name": "stdout",
     "output_type": "stream",
     "text": [
      "Epoch 140, Loss 0.023\n",
      "Training Accuracy: 0.9735, Testing Accuracy: 0.9743\n",
      "\n"
     ]
    },
    {
     "name": "stdout",
     "output_type": "stream",
     "text": [
      "Epoch 150, Loss 0.0223\n",
      "Training Accuracy: 0.9744, Testing Accuracy: 0.9738\n",
      "\n"
     ]
    },
    {
     "name": "stdout",
     "output_type": "stream",
     "text": [
      "Epoch 160, Loss 0.0217\n",
      "Training Accuracy: 0.9751, Testing Accuracy: 0.9743\n",
      "\n"
     ]
    },
    {
     "name": "stdout",
     "output_type": "stream",
     "text": [
      "Epoch 170, Loss 0.0211\n",
      "Training Accuracy: 0.9759, Testing Accuracy: 0.9733\n",
      "\n"
     ]
    },
    {
     "name": "stdout",
     "output_type": "stream",
     "text": [
      "Epoch 180, Loss 0.0206\n",
      "Training Accuracy: 0.9767, Testing Accuracy: 0.9753\n",
      "\n"
     ]
    },
    {
     "name": "stdout",
     "output_type": "stream",
     "text": [
      "Epoch 190, Loss 0.0201\n",
      "Training Accuracy: 0.9774, Testing Accuracy: 0.9748\n",
      "\n"
     ]
    },
    {
     "name": "stdout",
     "output_type": "stream",
     "text": [
      "Epoch 200, Loss 0.0196\n",
      "Training Accuracy: 0.9783, Testing Accuracy: 0.9748\n",
      "\n"
     ]
    },
    {
     "name": "stdout",
     "output_type": "stream",
     "text": [
      "Epoch 210, Loss 0.0192\n",
      "Training Accuracy: 0.9794, Testing Accuracy: 0.9748\n",
      "\n"
     ]
    },
    {
     "name": "stdout",
     "output_type": "stream",
     "text": [
      "Epoch 220, Loss 0.0188\n",
      "Training Accuracy: 0.9800, Testing Accuracy: 0.9753\n",
      "\n"
     ]
    },
    {
     "name": "stdout",
     "output_type": "stream",
     "text": [
      "Epoch 230, Loss 0.0184\n",
      "Training Accuracy: 0.9801, Testing Accuracy: 0.9763\n",
      "\n"
     ]
    },
    {
     "name": "stdout",
     "output_type": "stream",
     "text": [
      "Epoch 240, Loss 0.018\n",
      "Training Accuracy: 0.9803, Testing Accuracy: 0.9763\n",
      "\n"
     ]
    },
    {
     "data": {
      "text/plain": [
       "0.027603149654220387"
      ]
     },
     "execution_count": 22,
     "metadata": {},
     "output_type": "execute_result"
    }
   ],
   "source": [
    "nn_learner.train_loop(dl)"
   ]
  },
  {
   "cell_type": "code",
   "execution_count": 23,
   "id": "e0163366",
   "metadata": {
    "execution": {
     "iopub.execute_input": "2022-02-27T00:32:14.990560Z",
     "iopub.status.busy": "2022-02-27T00:32:14.990034Z",
     "iopub.status.idle": "2022-02-27T00:32:29.359055Z",
     "shell.execute_reply": "2022-02-27T00:32:29.359824Z"
    },
    "papermill": {
     "duration": 14.416765,
     "end_time": "2022-02-27T00:32:29.359979",
     "exception": false,
     "start_time": "2022-02-27T00:32:14.943214",
     "status": "completed"
    },
    "tags": []
   },
   "outputs": [
    {
     "name": "stdout",
     "output_type": "stream",
     "text": [
      "Epoch 0, Loss 0.2253\n",
      "Training Accuracy: 0.7154, Testing Accuracy: 0.7021\n",
      "\n"
     ]
    },
    {
     "name": "stdout",
     "output_type": "stream",
     "text": [
      "Epoch 10, Loss 0.1004\n",
      "Training Accuracy: 0.9101, Testing Accuracy: 0.9309\n",
      "\n"
     ]
    },
    {
     "name": "stdout",
     "output_type": "stream",
     "text": [
      "Epoch 20, Loss 0.0782\n",
      "Training Accuracy: 0.9288, Testing Accuracy: 0.9446\n",
      "\n"
     ]
    },
    {
     "name": "stdout",
     "output_type": "stream",
     "text": [
      "Epoch 30, Loss 0.0677\n",
      "Training Accuracy: 0.9377, Testing Accuracy: 0.9526\n",
      "\n"
     ]
    },
    {
     "name": "stdout",
     "output_type": "stream",
     "text": [
      "Epoch 40, Loss 0.0613\n",
      "Training Accuracy: 0.9419, Testing Accuracy: 0.9541\n",
      "\n"
     ]
    },
    {
     "name": "stdout",
     "output_type": "stream",
     "text": [
      "Epoch 50, Loss 0.0569\n",
      "Training Accuracy: 0.9458, Testing Accuracy: 0.9572\n",
      "\n"
     ]
    },
    {
     "name": "stdout",
     "output_type": "stream",
     "text": [
      "Epoch 60, Loss 0.0537\n",
      "Training Accuracy: 0.9478, Testing Accuracy: 0.9597\n",
      "\n"
     ]
    },
    {
     "name": "stdout",
     "output_type": "stream",
     "text": [
      "Epoch 70, Loss 0.0512\n",
      "Training Accuracy: 0.9496, Testing Accuracy: 0.9612\n",
      "\n"
     ]
    },
    {
     "name": "stdout",
     "output_type": "stream",
     "text": [
      "Epoch 80, Loss 0.0492\n",
      "Training Accuracy: 0.9513, Testing Accuracy: 0.9617\n",
      "\n"
     ]
    },
    {
     "name": "stdout",
     "output_type": "stream",
     "text": [
      "Epoch 90, Loss 0.0475\n",
      "Training Accuracy: 0.9516, Testing Accuracy: 0.9622\n",
      "\n"
     ]
    },
    {
     "name": "stdout",
     "output_type": "stream",
     "text": [
      "Epoch 100, Loss 0.0461\n",
      "Training Accuracy: 0.9532, Testing Accuracy: 0.9627\n",
      "\n"
     ]
    },
    {
     "name": "stdout",
     "output_type": "stream",
     "text": [
      "Epoch 110, Loss 0.0449\n",
      "Training Accuracy: 0.9541, Testing Accuracy: 0.9632\n",
      "\n"
     ]
    },
    {
     "name": "stdout",
     "output_type": "stream",
     "text": [
      "Epoch 120, Loss 0.0438\n",
      "Training Accuracy: 0.9551, Testing Accuracy: 0.9627\n",
      "\n"
     ]
    },
    {
     "name": "stdout",
     "output_type": "stream",
     "text": [
      "Epoch 130, Loss 0.0429\n",
      "Training Accuracy: 0.9558, Testing Accuracy: 0.9637\n",
      "\n"
     ]
    },
    {
     "name": "stdout",
     "output_type": "stream",
     "text": [
      "Epoch 140, Loss 0.0421\n",
      "Training Accuracy: 0.9564, Testing Accuracy: 0.9647\n",
      "\n"
     ]
    },
    {
     "name": "stdout",
     "output_type": "stream",
     "text": [
      "Epoch 150, Loss 0.0413\n",
      "Training Accuracy: 0.9568, Testing Accuracy: 0.9652\n",
      "\n"
     ]
    },
    {
     "name": "stdout",
     "output_type": "stream",
     "text": [
      "Epoch 160, Loss 0.0407\n",
      "Training Accuracy: 0.9579, Testing Accuracy: 0.9662\n",
      "\n"
     ]
    },
    {
     "name": "stdout",
     "output_type": "stream",
     "text": [
      "Epoch 170, Loss 0.0401\n",
      "Training Accuracy: 0.9581, Testing Accuracy: 0.9662\n",
      "\n"
     ]
    },
    {
     "name": "stdout",
     "output_type": "stream",
     "text": [
      "Epoch 180, Loss 0.0395\n",
      "Training Accuracy: 0.9583, Testing Accuracy: 0.9662\n",
      "\n"
     ]
    },
    {
     "name": "stdout",
     "output_type": "stream",
     "text": [
      "Epoch 190, Loss 0.039\n",
      "Training Accuracy: 0.9588, Testing Accuracy: 0.9662\n",
      "\n"
     ]
    },
    {
     "name": "stdout",
     "output_type": "stream",
     "text": [
      "Epoch 200, Loss 0.0385\n",
      "Training Accuracy: 0.9592, Testing Accuracy: 0.9657\n",
      "\n"
     ]
    },
    {
     "name": "stdout",
     "output_type": "stream",
     "text": [
      "Epoch 210, Loss 0.0381\n",
      "Training Accuracy: 0.9594, Testing Accuracy: 0.9657\n",
      "\n"
     ]
    },
    {
     "name": "stdout",
     "output_type": "stream",
     "text": [
      "Epoch 220, Loss 0.0377\n",
      "Training Accuracy: 0.9597, Testing Accuracy: 0.9662\n",
      "\n"
     ]
    },
    {
     "name": "stdout",
     "output_type": "stream",
     "text": [
      "Epoch 230, Loss 0.0373\n",
      "Training Accuracy: 0.9598, Testing Accuracy: 0.9672\n",
      "\n"
     ]
    },
    {
     "name": "stdout",
     "output_type": "stream",
     "text": [
      "Epoch 240, Loss 0.0369\n",
      "Training Accuracy: 0.9599, Testing Accuracy: 0.9672\n",
      "\n"
     ]
    },
    {
     "data": {
      "text/plain": [
       "0.05449661901283545"
      ]
     },
     "execution_count": 23,
     "metadata": {},
     "output_type": "execute_result"
    }
   ],
   "source": [
    "lr_learner.train_loop(dl)"
   ]
  },
  {
   "cell_type": "code",
   "execution_count": 24,
   "id": "ca410940",
   "metadata": {
    "execution": {
     "iopub.execute_input": "2022-02-27T00:32:29.456886Z",
     "iopub.status.busy": "2022-02-27T00:32:29.456335Z",
     "iopub.status.idle": "2022-02-27T00:32:29.669938Z",
     "shell.execute_reply": "2022-02-27T00:32:29.670353Z"
    },
    "papermill": {
     "duration": 0.269005,
     "end_time": "2022-02-27T00:32:29.670499",
     "exception": false,
     "start_time": "2022-02-27T00:32:29.401494",
     "status": "completed"
    },
    "tags": []
   },
   "outputs": [
    {
     "data": {
      "text/plain": [
       "<matplotlib.legend.Legend at 0x7fbd13937d30>"
      ]
     },
     "execution_count": 24,
     "metadata": {},
     "output_type": "execute_result"
    },
    {
     "data": {
      "image/png": "[encoded data removed]",
      "text/plain": [
       "<Figure size 1080x720 with 1 Axes>"
      ]
     },
     "metadata": {
      "needs_background": "light"
     },
     "output_type": "display_data"
    }
   ],
   "source": [
    "#comparing the results of NN and LR\n",
    "plt.figure(figsize=(15,10))\n",
    "\n",
    "# Neural Network plots\n",
    "plt.plot(acc_nn.accuracies, 'r-', label = \"Training Accuracies - NN\")\n",
    "plt.plot(acc_nn.test_accuracies, 'g-', label = \"Testing Accuracies - NN\")\n",
    "\n",
    "# Logistic Regression plots\n",
    "plt.plot(acc_lr.accuracies, 'k-', label = \"Training Accuracies - LR\")\n",
    "plt.plot(acc_lr.test_accuracies, 'b-', label = \"Testing Accuracies - LR\")\n",
    "plt.legend()"
   ]
  },
  {
   "cell_type": "markdown",
   "id": "80dfb35c",
   "metadata": {
    "papermill": {
     "duration": 0.042134,
     "end_time": "2022-02-27T00:32:29.755229",
     "exception": false,
     "start_time": "2022-02-27T00:32:29.713095",
     "status": "completed"
    },
    "tags": []
   },
   "source": [
    "#### Plotting the outputs of this layer of the NN.\n"
   ]
  },
  {
   "cell_type": "code",
   "execution_count": 25,
   "id": "45eb2ff5",
   "metadata": {
    "execution": {
     "iopub.execute_input": "2022-02-27T00:32:29.857105Z",
     "iopub.status.busy": "2022-02-27T00:32:29.856519Z",
     "iopub.status.idle": "2022-02-27T00:32:29.871729Z",
     "shell.execute_reply": "2022-02-27T00:32:29.872207Z"
    },
    "papermill": {
     "duration": 0.074656,
     "end_time": "2022-02-27T00:32:29.872364",
     "exception": false,
     "start_time": "2022-02-27T00:32:29.797708",
     "status": "completed"
    },
    "tags": []
   },
   "outputs": [],
   "source": [
    "new_model = Model(layers[:-2])\n",
    "testing_plot = new_model(testing_data_x)"
   ]
  },
  {
   "cell_type": "code",
   "execution_count": 26,
   "id": "4c0a5485",
   "metadata": {
    "execution": {
     "iopub.execute_input": "2022-02-27T00:32:29.965009Z",
     "iopub.status.busy": "2022-02-27T00:32:29.964113Z",
     "iopub.status.idle": "2022-02-27T00:32:30.169554Z",
     "shell.execute_reply": "2022-02-27T00:32:30.169084Z"
    },
    "papermill": {
     "duration": 0.254332,
     "end_time": "2022-02-27T00:32:30.169685",
     "exception": false,
     "start_time": "2022-02-27T00:32:29.915353",
     "status": "completed"
    },
    "tags": []
   },
   "outputs": [
    {
     "data": {
      "text/plain": [
       "Text(0.5, 1.0, 'Outputs')"
      ]
     },
     "execution_count": 26,
     "metadata": {},
     "output_type": "execute_result"
    },
    {
     "data": {
      "image/png": "[encoded data removed]",
      "text/plain": [
       "<Figure size 576x504 with 1 Axes>"
      ]
     },
     "metadata": {
      "needs_background": "light"
     },
     "output_type": "display_data"
    }
   ],
   "source": [
    "# Plotting the scatter plot of points and color coding by class\n",
    "plt.figure(figsize=(8,7))\n",
    "plt.scatter(testing_plot[:,0], testing_plot[:,1], alpha = 0.1, c = y_test.ravel());\n",
    "plt.title('Outputs')"
   ]
  },
  {
   "cell_type": "markdown",
   "id": "a74fcf8f",
   "metadata": {
    "papermill": {
     "duration": 0.044498,
     "end_time": "2022-02-27T00:32:30.258796",
     "exception": false,
     "start_time": "2022-02-27T00:32:30.214298",
     "status": "completed"
    },
    "tags": []
   },
   "source": [
    "Probability contours"
   ]
  },
  {
   "cell_type": "code",
   "execution_count": 27,
   "id": "d0afc8e3",
   "metadata": {
    "execution": {
     "iopub.execute_input": "2022-02-27T00:32:30.361258Z",
     "iopub.status.busy": "2022-02-27T00:32:30.360362Z",
     "iopub.status.idle": "2022-02-27T00:32:30.369044Z",
     "shell.execute_reply": "2022-02-27T00:32:30.368347Z"
    },
    "papermill": {
     "duration": 0.066,
     "end_time": "2022-02-27T00:32:30.369173",
     "exception": false,
     "start_time": "2022-02-27T00:32:30.303173",
     "status": "completed"
    },
    "tags": []
   },
   "outputs": [],
   "source": [
    "model_prob = Model(layers[-2:]) "
   ]
  },
  {
   "cell_type": "code",
   "execution_count": 28,
   "id": "9b96e238",
   "metadata": {
    "execution": {
     "iopub.execute_input": "2022-02-27T00:32:30.466050Z",
     "iopub.status.busy": "2022-02-27T00:32:30.464891Z",
     "iopub.status.idle": "2022-02-27T00:32:30.478320Z",
     "shell.execute_reply": "2022-02-27T00:32:30.478705Z"
    },
    "papermill": {
     "duration": 0.065313,
     "end_time": "2022-02-27T00:32:30.478842",
     "exception": false,
     "start_time": "2022-02-27T00:32:30.413529",
     "status": "completed"
    },
    "tags": []
   },
   "outputs": [],
   "source": [
    "#creating the x and y ranges according to the above generated plot.\n",
    "x_range = np.linspace(-4, 1, 100) \n",
    "y_range = np.linspace(-6, 6, 100) \n",
    "x_grid, y_grid = np.meshgrid(x_range, y_range) # x_grid and y_grig are of size 100 X 100\n",
    "\n",
    "# converting x_grid and y_grid to continuous arrays\n",
    "x_gridflat = np.ravel(x_grid)\n",
    "y_gridflat = np.ravel(y_grid)\n",
    "\n",
    "# The last layer of the current model takes two columns as input. Hence transpose of np.vstack() is required.\n",
    "X = np.vstack((x_gridflat, y_gridflat)).T\n",
    "\n",
    "prob_contour = model_prob(X).reshape(100,100) "
   ]
  },
  {
   "cell_type": "code",
   "execution_count": 29,
   "id": "da72499a",
   "metadata": {
    "execution": {
     "iopub.execute_input": "2022-02-27T00:32:30.609274Z",
     "iopub.status.busy": "2022-02-27T00:32:30.608261Z",
     "iopub.status.idle": "2022-02-27T00:32:30.844688Z",
     "shell.execute_reply": "2022-02-27T00:32:30.845160Z"
    },
    "papermill": {
     "duration": 0.322161,
     "end_time": "2022-02-27T00:32:30.845322",
     "exception": false,
     "start_time": "2022-02-27T00:32:30.523161",
     "status": "completed"
    },
    "tags": []
   },
   "outputs": [
    {
     "data": {
      "image/png": "[encoded data removed]",
      "text/plain": [
       "<Figure size 720x648 with 1 Axes>"
      ]
     },
     "metadata": {
      "needs_background": "light"
     },
     "output_type": "display_data"
    }
   ],
   "source": [
    "plt.figure(figsize=(10,9))\n",
    "plt.scatter(testing_plot[:,0], testing_plot[:,1], alpha = 0.1, c = y_test.ravel())\n",
    "contours = plt.contour(x_grid,y_grid,prob_contour)\n",
    "plt.title('Probability Contours')\n",
    "plt.clabel(contours, inline = True );"
   ]
  },
  {
   "cell_type": "code",
   "execution_count": null,
   "id": "e81b4ac7",
   "metadata": {
    "papermill": {
     "duration": 0.046568,
     "end_time": "2022-02-27T00:32:30.938801",
     "exception": false,
     "start_time": "2022-02-27T00:32:30.892233",
     "status": "completed"
    },
    "tags": []
   },
   "outputs": [],
   "source": []
  }
 ],
 "metadata": {
  "kernelspec": {
   "display_name": "Python 3",
   "language": "python",
   "name": "python3"
  },
  "language_info": {
   "codemirror_mode": {
    "name": "ipython",
    "version": 3
   },
   "file_extension": ".py",
   "mimetype": "text/x-python",
   "name": "python",
   "nbconvert_exporter": "python",
   "pygments_lexer": "ipython3",
   "version": "3.6.15"
  },
  "papermill": {
   "default_parameters": {},
   "duration": 101.495892,
   "end_time": "2022-02-27T00:32:31.404293",
   "environment_variables": {},
   "exception": null,
   "input_path": "2020-08-11-part2.ipynb",
   "output_path": "2020-08-11-part2.ipynb",
   "parameters": {},
   "start_time": "2022-02-27T00:30:49.908401",
   "version": "2.3.3"
  }
 },
 "nbformat": 4,
 "nbformat_minor": 5
}