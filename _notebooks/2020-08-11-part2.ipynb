{
 "cells": [
  {
   "cell_type": "markdown",
   "id": "98380cd3",
   "metadata": {
    "papermill": {
     "duration": 0.030053,
     "end_time": "2022-06-02T10:11:34.822842",
     "exception": false,
     "start_time": "2022-06-02T10:11:34.792789",
     "status": "completed"
    },
    "tags": []
   },
   "source": [
    "# Distinguish Your Own Digits (DYOD)"
   ]
  },
  {
   "cell_type": "markdown",
   "id": "ef31240d",
   "metadata": {
    "papermill": {
     "duration": 0.025223,
     "end_time": "2022-06-02T10:11:34.873991",
     "exception": false,
     "start_time": "2022-06-02T10:11:34.848768",
     "status": "completed"
    },
    "tags": []
   },
   "source": [
    "You are going to write a classifier that distinguishes between the number 3 and number 8."
   ]
  },
  {
   "cell_type": "code",
   "execution_count": 1,
   "id": "b15c8646",
   "metadata": {
    "execution": {
     "iopub.execute_input": "2022-06-02T10:11:34.934747Z",
     "iopub.status.busy": "2022-06-02T10:11:34.934138Z",
     "iopub.status.idle": "2022-06-02T10:11:34.945021Z",
     "shell.execute_reply": "2022-06-02T10:11:34.944519Z"
    },
    "papermill": {
     "duration": 0.046079,
     "end_time": "2022-06-02T10:11:34.945151",
     "exception": false,
     "start_time": "2022-06-02T10:11:34.899072",
     "status": "completed"
    },
    "tags": []
   },
   "outputs": [],
   "source": [
    "%load_ext autoreload\n",
    "%autoreload 2"
   ]
  },
  {
   "cell_type": "code",
   "execution_count": 2,
   "id": "22ef38dc",
   "metadata": {
    "execution": {
     "iopub.execute_input": "2022-06-02T10:11:34.999610Z",
     "iopub.status.busy": "2022-06-02T10:11:34.999042Z",
     "iopub.status.idle": "2022-06-02T10:11:35.534464Z",
     "shell.execute_reply": "2022-06-02T10:11:35.533966Z"
    },
    "papermill": {
     "duration": 0.564096,
     "end_time": "2022-06-02T10:11:35.534585",
     "exception": false,
     "start_time": "2022-06-02T10:11:34.970489",
     "status": "completed"
    },
    "tags": []
   },
   "outputs": [],
   "source": [
    "%matplotlib inline\n",
    "import numpy as np\n",
    "import matplotlib.pyplot as plt\n",
    "import pandas as pd"
   ]
  },
  {
   "cell_type": "markdown",
   "id": "ba036198",
   "metadata": {
    "papermill": {
     "duration": 0.025157,
     "end_time": "2022-06-02T10:11:35.584811",
     "exception": false,
     "start_time": "2022-06-02T10:11:35.559654",
     "status": "completed"
    },
    "tags": []
   },
   "source": [
    "From the command line run `pip install mnist`. This is a library that will help you bring down the mnist dataset. If you run this from a notebook, you need to put  `!pip install mnist` in a cell by itself."
   ]
  },
  {
   "cell_type": "code",
   "execution_count": 3,
   "id": "bb6ad8a1",
   "metadata": {
    "execution": {
     "iopub.execute_input": "2022-06-02T10:11:35.639808Z",
     "iopub.status.busy": "2022-06-02T10:11:35.639220Z",
     "iopub.status.idle": "2022-06-02T10:11:37.413027Z",
     "shell.execute_reply": "2022-06-02T10:11:37.412520Z"
    },
    "papermill": {
     "duration": 1.80313,
     "end_time": "2022-06-02T10:11:37.413138",
     "exception": false,
     "start_time": "2022-06-02T10:11:35.610008",
     "status": "completed"
    },
    "tags": []
   },
   "outputs": [
    {
     "name": "stdout",
     "output_type": "stream",
     "text": [
      "Collecting mnist\r\n"
     ]
    },
    {
     "name": "stdout",
     "output_type": "stream",
     "text": [
      "  Downloading mnist-0.2.2-py2.py3-none-any.whl (3.5 kB)\r\n"
     ]
    },
    {
     "name": "stdout",
     "output_type": "stream",
     "text": [
      "Requirement already satisfied: numpy in /opt/hostedtoolcache/Python/3.6.15/x64/lib/python3.6/site-packages (from mnist) (1.19.5)\r\n"
     ]
    },
    {
     "name": "stdout",
     "output_type": "stream",
     "text": [
      "Installing collected packages: mnist\r\n",
      "Successfully installed mnist-0.2.2\r\n"
     ]
    }
   ],
   "source": [
    "!pip install mnist"
   ]
  },
  {
   "cell_type": "markdown",
   "id": "69df9c9a",
   "metadata": {
    "papermill": {
     "duration": 0.026315,
     "end_time": "2022-06-02T10:11:37.465848",
     "exception": false,
     "start_time": "2022-06-02T10:11:37.439533",
     "status": "completed"
    },
    "tags": []
   },
   "source": [
    "## Preparing the Data"
   ]
  },
  {
   "cell_type": "code",
   "execution_count": 4,
   "id": "7f69d806",
   "metadata": {
    "execution": {
     "iopub.execute_input": "2022-06-02T10:11:37.524089Z",
     "iopub.status.busy": "2022-06-02T10:11:37.522593Z",
     "iopub.status.idle": "2022-06-02T10:11:37.536689Z",
     "shell.execute_reply": "2022-06-02T10:11:37.536178Z"
    },
    "papermill": {
     "duration": 0.044814,
     "end_time": "2022-06-02T10:11:37.536803",
     "exception": false,
     "start_time": "2022-06-02T10:11:37.491989",
     "status": "completed"
    },
    "tags": []
   },
   "outputs": [],
   "source": [
    "import mnist"
   ]
  },
  {
   "cell_type": "code",
   "execution_count": 5,
   "id": "a411e44f",
   "metadata": {
    "execution": {
     "iopub.execute_input": "2022-06-02T10:11:37.593314Z",
     "iopub.status.busy": "2022-06-02T10:11:37.592750Z",
     "iopub.status.idle": "2022-06-02T10:11:38.136894Z",
     "shell.execute_reply": "2022-06-02T10:11:38.136413Z"
    },
    "papermill": {
     "duration": 0.573905,
     "end_time": "2022-06-02T10:11:38.137014",
     "exception": false,
     "start_time": "2022-06-02T10:11:37.563109",
     "status": "completed"
    },
    "tags": []
   },
   "outputs": [],
   "source": [
    "train_images = mnist.train_images()\n",
    "train_labels = mnist.train_labels()"
   ]
  },
  {
   "cell_type": "code",
   "execution_count": 6,
   "id": "dceab3a5",
   "metadata": {
    "execution": {
     "iopub.execute_input": "2022-06-02T10:11:38.193855Z",
     "iopub.status.busy": "2022-06-02T10:11:38.193293Z",
     "iopub.status.idle": "2022-06-02T10:11:38.207226Z",
     "shell.execute_reply": "2022-06-02T10:11:38.207679Z"
    },
    "papermill": {
     "duration": 0.044462,
     "end_time": "2022-06-02T10:11:38.207805",
     "exception": false,
     "start_time": "2022-06-02T10:11:38.163343",
     "status": "completed"
    },
    "tags": []
   },
   "outputs": [
    {
     "data": {
      "text/plain": [
       "((60000, 28, 28), (60000,))"
      ]
     },
     "execution_count": 6,
     "metadata": {},
     "output_type": "execute_result"
    }
   ],
   "source": [
    "train_images.shape, train_labels.shape"
   ]
  },
  {
   "cell_type": "code",
   "execution_count": 7,
   "id": "f50dc2bb",
   "metadata": {
    "execution": {
     "iopub.execute_input": "2022-06-02T10:11:38.264404Z",
     "iopub.status.busy": "2022-06-02T10:11:38.263808Z",
     "iopub.status.idle": "2022-06-02T10:11:38.435445Z",
     "shell.execute_reply": "2022-06-02T10:11:38.434292Z"
    },
    "papermill": {
     "duration": 0.201254,
     "end_time": "2022-06-02T10:11:38.435570",
     "exception": false,
     "start_time": "2022-06-02T10:11:38.234316",
     "status": "completed"
    },
    "tags": []
   },
   "outputs": [],
   "source": [
    "test_images = mnist.test_images()\n",
    "test_labels = mnist.test_labels()"
   ]
  },
  {
   "cell_type": "code",
   "execution_count": 8,
   "id": "fc38cf1b",
   "metadata": {
    "execution": {
     "iopub.execute_input": "2022-06-02T10:11:38.492823Z",
     "iopub.status.busy": "2022-06-02T10:11:38.491887Z",
     "iopub.status.idle": "2022-06-02T10:11:38.505315Z",
     "shell.execute_reply": "2022-06-02T10:11:38.504741Z"
    },
    "papermill": {
     "duration": 0.043172,
     "end_time": "2022-06-02T10:11:38.505430",
     "exception": false,
     "start_time": "2022-06-02T10:11:38.462258",
     "status": "completed"
    },
    "tags": []
   },
   "outputs": [
    {
     "data": {
      "text/plain": [
       "((10000, 28, 28), (10000,))"
      ]
     },
     "execution_count": 8,
     "metadata": {},
     "output_type": "execute_result"
    }
   ],
   "source": [
    "test_images.shape, test_labels.shape"
   ]
  },
  {
   "cell_type": "code",
   "execution_count": 9,
   "id": "f9ed8fe0",
   "metadata": {
    "execution": {
     "iopub.execute_input": "2022-06-02T10:11:38.562911Z",
     "iopub.status.busy": "2022-06-02T10:11:38.562360Z",
     "iopub.status.idle": "2022-06-02T10:11:38.698841Z",
     "shell.execute_reply": "2022-06-02T10:11:38.698245Z"
    },
    "papermill": {
     "duration": 0.166726,
     "end_time": "2022-06-02T10:11:38.698957",
     "exception": false,
     "start_time": "2022-06-02T10:11:38.532231",
     "status": "completed"
    },
    "tags": []
   },
   "outputs": [
    {
     "name": "stdout",
     "output_type": "stream",
     "text": [
      "2\n"
     ]
    },
    {
     "data": {
      "text/plain": [
       "<matplotlib.image.AxesImage at 0x7f6c4c143358>"
      ]
     },
     "execution_count": 9,
     "metadata": {},
     "output_type": "execute_result"
    },
    {
     "data": {
      "image/png": "[encoded data removed]",
      "text/plain": [
       "<Figure size 432x288 with 1 Axes>"
      ]
     },
     "metadata": {
      "needs_background": "light"
     },
     "output_type": "display_data"
    }
   ],
   "source": [
    "image_index = 7776 # You may select anything up to 60,000\n",
    "print(train_labels[image_index]) \n",
    "plt.imshow(train_images[image_index], cmap='Greys')"
   ]
  },
  {
   "cell_type": "markdown",
   "id": "a8d2388d",
   "metadata": {
    "papermill": {
     "duration": 0.028143,
     "end_time": "2022-06-02T10:11:38.755156",
     "exception": false,
     "start_time": "2022-06-02T10:11:38.727013",
     "status": "completed"
    },
    "tags": []
   },
   "source": [
    "## Filter data to get 3 and 8 out"
   ]
  },
  {
   "cell_type": "code",
   "execution_count": 10,
   "id": "776f7fc7",
   "metadata": {
    "execution": {
     "iopub.execute_input": "2022-06-02T10:11:38.815623Z",
     "iopub.status.busy": "2022-06-02T10:11:38.815048Z",
     "iopub.status.idle": "2022-06-02T10:11:38.832088Z",
     "shell.execute_reply": "2022-06-02T10:11:38.831607Z"
    },
    "papermill": {
     "duration": 0.04922,
     "end_time": "2022-06-02T10:11:38.832199",
     "exception": false,
     "start_time": "2022-06-02T10:11:38.782979",
     "status": "completed"
    },
    "tags": []
   },
   "outputs": [],
   "source": [
    "train_filter = np.where((train_labels == 3 ) | (train_labels == 8))\n",
    "test_filter = np.where((test_labels == 3) | (test_labels == 8))\n",
    "X_train, y_train = train_images[train_filter], train_labels[train_filter]\n",
    "X_test, y_test = test_images[test_filter], test_labels[test_filter]"
   ]
  },
  {
   "cell_type": "markdown",
   "id": "948f0b7e",
   "metadata": {
    "papermill": {
     "duration": 0.028202,
     "end_time": "2022-06-02T10:11:38.888441",
     "exception": false,
     "start_time": "2022-06-02T10:11:38.860239",
     "status": "completed"
    },
    "tags": []
   },
   "source": [
    "We normalize the pizel values in the 0 to 1 range"
   ]
  },
  {
   "cell_type": "code",
   "execution_count": 11,
   "id": "ee4c2166",
   "metadata": {
    "execution": {
     "iopub.execute_input": "2022-06-02T10:11:38.948733Z",
     "iopub.status.busy": "2022-06-02T10:11:38.948142Z",
     "iopub.status.idle": "2022-06-02T10:11:38.989394Z",
     "shell.execute_reply": "2022-06-02T10:11:38.988883Z"
    },
    "papermill": {
     "duration": 0.073164,
     "end_time": "2022-06-02T10:11:38.989506",
     "exception": false,
     "start_time": "2022-06-02T10:11:38.916342",
     "status": "completed"
    },
    "tags": []
   },
   "outputs": [],
   "source": [
    "X_train = X_train/255.\n",
    "X_test = X_test/255."
   ]
  },
  {
   "cell_type": "markdown",
   "id": "ddcf4fab",
   "metadata": {
    "papermill": {
     "duration": 0.027858,
     "end_time": "2022-06-02T10:11:39.045394",
     "exception": false,
     "start_time": "2022-06-02T10:11:39.017536",
     "status": "completed"
    },
    "tags": []
   },
   "source": [
    "And setup the labels as 1 (when the digit is 3) and 0 (when the digit is 8)"
   ]
  },
  {
   "cell_type": "code",
   "execution_count": 12,
   "id": "7dc908f2",
   "metadata": {
    "execution": {
     "iopub.execute_input": "2022-06-02T10:11:39.104815Z",
     "iopub.status.busy": "2022-06-02T10:11:39.104229Z",
     "iopub.status.idle": "2022-06-02T10:11:39.116352Z",
     "shell.execute_reply": "2022-06-02T10:11:39.115867Z"
    },
    "papermill": {
     "duration": 0.043265,
     "end_time": "2022-06-02T10:11:39.116460",
     "exception": false,
     "start_time": "2022-06-02T10:11:39.073195",
     "status": "completed"
    },
    "tags": []
   },
   "outputs": [],
   "source": [
    "y_train = 1*(y_train==3)\n",
    "y_test = 1*(y_test==3)"
   ]
  },
  {
   "cell_type": "code",
   "execution_count": 13,
   "id": "01e4e969",
   "metadata": {
    "execution": {
     "iopub.execute_input": "2022-06-02T10:11:39.176667Z",
     "iopub.status.busy": "2022-06-02T10:11:39.176077Z",
     "iopub.status.idle": "2022-06-02T10:11:39.189603Z",
     "shell.execute_reply": "2022-06-02T10:11:39.189146Z"
    },
    "papermill": {
     "duration": 0.044665,
     "end_time": "2022-06-02T10:11:39.189708",
     "exception": false,
     "start_time": "2022-06-02T10:11:39.145043",
     "status": "completed"
    },
    "tags": []
   },
   "outputs": [
    {
     "data": {
      "text/plain": [
       "((11982, 28, 28), (1984, 28, 28))"
      ]
     },
     "execution_count": 13,
     "metadata": {},
     "output_type": "execute_result"
    }
   ],
   "source": [
    "X_train.shape, X_test.shape"
   ]
  },
  {
   "cell_type": "markdown",
   "id": "5ccf3f85",
   "metadata": {
    "papermill": {
     "duration": 0.028025,
     "end_time": "2022-06-02T10:11:39.245717",
     "exception": false,
     "start_time": "2022-06-02T10:11:39.217692",
     "status": "completed"
    },
    "tags": []
   },
   "source": [
    "We reshape the data to flatten the image pixels into a set of features or co-variates:"
   ]
  },
  {
   "cell_type": "code",
   "execution_count": 14,
   "id": "5286a4a3",
   "metadata": {
    "execution": {
     "iopub.execute_input": "2022-06-02T10:11:39.306023Z",
     "iopub.status.busy": "2022-06-02T10:11:39.305454Z",
     "iopub.status.idle": "2022-06-02T10:11:39.319325Z",
     "shell.execute_reply": "2022-06-02T10:11:39.318617Z"
    },
    "papermill": {
     "duration": 0.045596,
     "end_time": "2022-06-02T10:11:39.319436",
     "exception": false,
     "start_time": "2022-06-02T10:11:39.273840",
     "status": "completed"
    },
    "tags": []
   },
   "outputs": [
    {
     "data": {
      "text/plain": [
       "((11982, 784), (1984, 784))"
      ]
     },
     "execution_count": 14,
     "metadata": {},
     "output_type": "execute_result"
    }
   ],
   "source": [
    "X_train = X_train.reshape(X_train.shape[0], -1)\n",
    "X_test = X_test.reshape(X_test.shape[0], -1)\n",
    "X_train.shape, X_test.shape"
   ]
  },
  {
   "cell_type": "code",
   "execution_count": 15,
   "id": "73c5f88a",
   "metadata": {
    "execution": {
     "iopub.execute_input": "2022-06-02T10:11:39.380589Z",
     "iopub.status.busy": "2022-06-02T10:11:39.379994Z",
     "iopub.status.idle": "2022-06-02T10:11:39.398972Z",
     "shell.execute_reply": "2022-06-02T10:11:39.398497Z"
    },
    "papermill": {
     "duration": 0.05109,
     "end_time": "2022-06-02T10:11:39.399081",
     "exception": false,
     "start_time": "2022-06-02T10:11:39.347991",
     "status": "completed"
    },
    "tags": []
   },
   "outputs": [],
   "source": [
    "#Impoting functions from 'Kudzu'\n",
    "from kudzu.model import Model\n",
    "from kudzu.train import Learner\n",
    "from kudzu.optim import GD\n",
    "from kudzu.data import Data, Sampler,Dataloader\n",
    "\n",
    "from kudzu.callbacks import AccCallback\n",
    "from kudzu.callbacks import ClfCallback\n",
    "\n",
    "from kudzu.loss import MSE\n",
    "\n",
    "from kudzu.layer import Sigmoid,Relu\n",
    "from kudzu.layer import Affine"
   ]
  },
  {
   "cell_type": "markdown",
   "id": "bc01172a",
   "metadata": {
    "papermill": {
     "duration": 0.028298,
     "end_time": "2022-06-02T10:11:39.455944",
     "exception": false,
     "start_time": "2022-06-02T10:11:39.427646",
     "status": "completed"
    },
    "tags": []
   },
   "source": [
    "### Let us create a `Config` class, to store important parameters. \n",
    "This class essentially plays the role of a dictionary."
   ]
  },
  {
   "cell_type": "code",
   "execution_count": 16,
   "id": "978281aa",
   "metadata": {
    "execution": {
     "iopub.execute_input": "2022-06-02T10:11:39.516528Z",
     "iopub.status.busy": "2022-06-02T10:11:39.515931Z",
     "iopub.status.idle": "2022-06-02T10:11:39.527586Z",
     "shell.execute_reply": "2022-06-02T10:11:39.528011Z"
    },
    "papermill": {
     "duration": 0.043917,
     "end_time": "2022-06-02T10:11:39.528143",
     "exception": false,
     "start_time": "2022-06-02T10:11:39.484226",
     "status": "completed"
    },
    "tags": []
   },
   "outputs": [],
   "source": [
    "class Config:\n",
    "    pass\n",
    "config = Config()\n",
    "config.lr = 0.001\n",
    "config.num_epochs = 250\n",
    "config.bs = 50"
   ]
  },
  {
   "cell_type": "markdown",
   "id": "1385fa59",
   "metadata": {
    "papermill": {
     "duration": 0.028284,
     "end_time": "2022-06-02T10:11:39.585197",
     "exception": false,
     "start_time": "2022-06-02T10:11:39.556913",
     "status": "completed"
    },
    "tags": []
   },
   "source": [
    "### Running Models with the Training data\n",
    "Details about the network layers:\n",
    "- A first affine layer has 784 inputs and does 100 affine transforms. These are followed by a Relu\n",
    "- A second affine layer has 100 inputs from the 100 activations of the past layer, and does 100 affine transforms. These are followed by a Relu\n",
    "- A third affine layer has 100 activations and does 2 affine transformations to create an embedding for visualization. There is no non-linearity here.\n",
    "- A final \"logistic regression\" which has an affine transform from 2 inputs to 1 output, which is squeezed through a sigmoid.\n"
   ]
  },
  {
   "cell_type": "code",
   "execution_count": 17,
   "id": "2b9c66db",
   "metadata": {
    "execution": {
     "iopub.execute_input": "2022-06-02T10:11:39.648449Z",
     "iopub.status.busy": "2022-06-02T10:11:39.647834Z",
     "iopub.status.idle": "2022-06-02T10:11:39.660425Z",
     "shell.execute_reply": "2022-06-02T10:11:39.659942Z"
    },
    "papermill": {
     "duration": 0.046935,
     "end_time": "2022-06-02T10:11:39.660535",
     "exception": false,
     "start_time": "2022-06-02T10:11:39.613600",
     "status": "completed"
    },
    "tags": []
   },
   "outputs": [],
   "source": [
    "data = Data(X_train, y_train.reshape(-1,1))\n",
    "sampler = Sampler(data, config.bs, shuffle=True)\n",
    "\n",
    "dl = Dataloader(data, sampler)\n",
    "\n",
    "opt = GD(config.lr)\n",
    "loss = MSE()"
   ]
  },
  {
   "cell_type": "code",
   "execution_count": 18,
   "id": "b275e4c2",
   "metadata": {
    "execution": {
     "iopub.execute_input": "2022-06-02T10:11:39.721853Z",
     "iopub.status.busy": "2022-06-02T10:11:39.721256Z",
     "iopub.status.idle": "2022-06-02T10:11:39.734129Z",
     "shell.execute_reply": "2022-06-02T10:11:39.734586Z"
    },
    "papermill": {
     "duration": 0.045682,
     "end_time": "2022-06-02T10:11:39.734714",
     "exception": false,
     "start_time": "2022-06-02T10:11:39.689032",
     "status": "completed"
    },
    "tags": []
   },
   "outputs": [],
   "source": [
    "training_data_x = X_train\n",
    "testing_data_x = X_test\n",
    "training_data_y = y_train.reshape(-1,1)\n",
    "testing_data_y = y_test.reshape(-1,1)"
   ]
  },
  {
   "cell_type": "code",
   "execution_count": 19,
   "id": "76951160",
   "metadata": {
    "execution": {
     "iopub.execute_input": "2022-06-02T10:11:39.796345Z",
     "iopub.status.busy": "2022-06-02T10:11:39.795318Z",
     "iopub.status.idle": "2022-06-02T10:11:39.813364Z",
     "shell.execute_reply": "2022-06-02T10:11:39.813854Z"
    },
    "papermill": {
     "duration": 0.050977,
     "end_time": "2022-06-02T10:11:39.813985",
     "exception": false,
     "start_time": "2022-06-02T10:11:39.763008",
     "status": "completed"
    },
    "tags": []
   },
   "outputs": [
    {
     "name": "stdout",
     "output_type": "stream",
     "text": [
      "xavier\n",
      "xavier\n",
      "xavier\n",
      "xavier\n",
      "xavier\n"
     ]
    }
   ],
   "source": [
    "layers = [Affine(\"first\", 784, 100), Relu(\"first\"), Affine(\"second\", 100, 100), Relu(\"second\"), Affine(\"third\", 100, 2), Affine(\"last\", 2, 1), Sigmoid(\"last\")]\n",
    "model_nn = Model(layers)\n",
    "model_lr = Model([Affine(\"logits\", 784, 1), Sigmoid(\"sigmoid\")])"
   ]
  },
  {
   "cell_type": "code",
   "execution_count": 20,
   "id": "6eede77a",
   "metadata": {
    "execution": {
     "iopub.execute_input": "2022-06-02T10:11:39.875318Z",
     "iopub.status.busy": "2022-06-02T10:11:39.874767Z",
     "iopub.status.idle": "2022-06-02T10:11:39.887092Z",
     "shell.execute_reply": "2022-06-02T10:11:39.886628Z"
    },
    "papermill": {
     "duration": 0.044317,
     "end_time": "2022-06-02T10:11:39.887196",
     "exception": false,
     "start_time": "2022-06-02T10:11:39.842879",
     "status": "completed"
    },
    "tags": []
   },
   "outputs": [],
   "source": [
    "nn_learner = Learner(loss, model_nn, opt, config.num_epochs)\n",
    "acc_nn = ClfCallback(nn_learner, config.bs, training_data_x , testing_data_x, training_data_y, testing_data_y)\n",
    "nn_learner.set_callbacks([acc_nn])"
   ]
  },
  {
   "cell_type": "code",
   "execution_count": 21,
   "id": "877b6cc7",
   "metadata": {
    "execution": {
     "iopub.execute_input": "2022-06-02T10:11:39.949981Z",
     "iopub.status.busy": "2022-06-02T10:11:39.949402Z",
     "iopub.status.idle": "2022-06-02T10:11:39.960904Z",
     "shell.execute_reply": "2022-06-02T10:11:39.960427Z"
    },
    "papermill": {
     "duration": 0.044965,
     "end_time": "2022-06-02T10:11:39.961013",
     "exception": false,
     "start_time": "2022-06-02T10:11:39.916048",
     "status": "completed"
    },
    "tags": []
   },
   "outputs": [],
   "source": [
    "lr_learner = Learner(loss, model_lr, opt, config.num_epochs)\n",
    "acc_lr = ClfCallback(lr_learner, config.bs, training_data_x , testing_data_x, training_data_y, testing_data_y)\n",
    "lr_learner.set_callbacks([acc_lr])"
   ]
  },
  {
   "cell_type": "code",
   "execution_count": 22,
   "id": "d9b133c3",
   "metadata": {
    "execution": {
     "iopub.execute_input": "2022-06-02T10:11:40.021918Z",
     "iopub.status.busy": "2022-06-02T10:11:40.021356Z",
     "iopub.status.idle": "2022-06-02T10:14:37.516946Z",
     "shell.execute_reply": "2022-06-02T10:14:37.517389Z"
    },
    "papermill": {
     "duration": 177.527805,
     "end_time": "2022-06-02T10:14:37.517517",
     "exception": false,
     "start_time": "2022-06-02T10:11:39.989712",
     "status": "completed"
    },
    "tags": []
   },
   "outputs": [
    {
     "name": "stdout",
     "output_type": "stream",
     "text": [
      "Epoch 0, Loss 0.2584\n",
      "Training Accuracy: 0.4852, Testing Accuracy: 0.4899\n",
      "\n"
     ]
    },
    {
     "name": "stdout",
     "output_type": "stream",
     "text": [
      "Epoch 10, Loss 0.1499\n",
      "Training Accuracy: 0.8892, Testing Accuracy: 0.9042\n",
      "\n"
     ]
    },
    {
     "name": "stdout",
     "output_type": "stream",
     "text": [
      "Epoch 20, Loss 0.0786\n",
      "Training Accuracy: 0.9229, Testing Accuracy: 0.9335\n",
      "\n"
     ]
    },
    {
     "name": "stdout",
     "output_type": "stream",
     "text": [
      "Epoch 30, Loss 0.0557\n",
      "Training Accuracy: 0.9390, Testing Accuracy: 0.9516\n",
      "\n"
     ]
    },
    {
     "name": "stdout",
     "output_type": "stream",
     "text": [
      "Epoch 40, Loss 0.0457\n",
      "Training Accuracy: 0.9476, Testing Accuracy: 0.9587\n",
      "\n"
     ]
    },
    {
     "name": "stdout",
     "output_type": "stream",
     "text": [
      "Epoch 50, Loss 0.0402\n",
      "Training Accuracy: 0.9533, Testing Accuracy: 0.9627\n",
      "\n"
     ]
    },
    {
     "name": "stdout",
     "output_type": "stream",
     "text": [
      "Epoch 60, Loss 0.0367\n",
      "Training Accuracy: 0.9574, Testing Accuracy: 0.9657\n",
      "\n"
     ]
    },
    {
     "name": "stdout",
     "output_type": "stream",
     "text": [
      "Epoch 70, Loss 0.0341\n",
      "Training Accuracy: 0.9607, Testing Accuracy: 0.9677\n",
      "\n"
     ]
    },
    {
     "name": "stdout",
     "output_type": "stream",
     "text": [
      "Epoch 80, Loss 0.0322\n",
      "Training Accuracy: 0.9622, Testing Accuracy: 0.9693\n",
      "\n"
     ]
    },
    {
     "name": "stdout",
     "output_type": "stream",
     "text": [
      "Epoch 90, Loss 0.0306\n",
      "Training Accuracy: 0.9635, Testing Accuracy: 0.9693\n",
      "\n"
     ]
    },
    {
     "name": "stdout",
     "output_type": "stream",
     "text": [
      "Epoch 100, Loss 0.0293\n",
      "Training Accuracy: 0.9651, Testing Accuracy: 0.9703\n",
      "\n"
     ]
    },
    {
     "name": "stdout",
     "output_type": "stream",
     "text": [
      "Epoch 110, Loss 0.0282\n",
      "Training Accuracy: 0.9666, Testing Accuracy: 0.9682\n",
      "\n"
     ]
    },
    {
     "name": "stdout",
     "output_type": "stream",
     "text": [
      "Epoch 120, Loss 0.0272\n",
      "Training Accuracy: 0.9684, Testing Accuracy: 0.9677\n",
      "\n"
     ]
    },
    {
     "name": "stdout",
     "output_type": "stream",
     "text": [
      "Epoch 130, Loss 0.0263\n",
      "Training Accuracy: 0.9697, Testing Accuracy: 0.9682\n",
      "\n"
     ]
    },
    {
     "name": "stdout",
     "output_type": "stream",
     "text": [
      "Epoch 140, Loss 0.0256\n",
      "Training Accuracy: 0.9710, Testing Accuracy: 0.9693\n",
      "\n"
     ]
    },
    {
     "name": "stdout",
     "output_type": "stream",
     "text": [
      "Epoch 150, Loss 0.0248\n",
      "Training Accuracy: 0.9718, Testing Accuracy: 0.9698\n",
      "\n"
     ]
    },
    {
     "name": "stdout",
     "output_type": "stream",
     "text": [
      "Epoch 160, Loss 0.0242\n",
      "Training Accuracy: 0.9720, Testing Accuracy: 0.9693\n",
      "\n"
     ]
    },
    {
     "name": "stdout",
     "output_type": "stream",
     "text": [
      "Epoch 170, Loss 0.0236\n",
      "Training Accuracy: 0.9725, Testing Accuracy: 0.9698\n",
      "\n"
     ]
    },
    {
     "name": "stdout",
     "output_type": "stream",
     "text": [
      "Epoch 180, Loss 0.023\n",
      "Training Accuracy: 0.9735, Testing Accuracy: 0.9708\n",
      "\n"
     ]
    },
    {
     "name": "stdout",
     "output_type": "stream",
     "text": [
      "Epoch 190, Loss 0.0225\n",
      "Training Accuracy: 0.9740, Testing Accuracy: 0.9713\n",
      "\n"
     ]
    },
    {
     "name": "stdout",
     "output_type": "stream",
     "text": [
      "Epoch 200, Loss 0.022\n",
      "Training Accuracy: 0.9746, Testing Accuracy: 0.9713\n",
      "\n"
     ]
    },
    {
     "name": "stdout",
     "output_type": "stream",
     "text": [
      "Epoch 210, Loss 0.0215\n",
      "Training Accuracy: 0.9746, Testing Accuracy: 0.9723\n",
      "\n"
     ]
    },
    {
     "name": "stdout",
     "output_type": "stream",
     "text": [
      "Epoch 220, Loss 0.0211\n",
      "Training Accuracy: 0.9751, Testing Accuracy: 0.9723\n",
      "\n"
     ]
    },
    {
     "name": "stdout",
     "output_type": "stream",
     "text": [
      "Epoch 230, Loss 0.0207\n",
      "Training Accuracy: 0.9756, Testing Accuracy: 0.9723\n",
      "\n"
     ]
    },
    {
     "name": "stdout",
     "output_type": "stream",
     "text": [
      "Epoch 240, Loss 0.0202\n",
      "Training Accuracy: 0.9759, Testing Accuracy: 0.9733\n",
      "\n"
     ]
    },
    {
     "data": {
      "text/plain": [
       "0.034537244528832105"
      ]
     },
     "execution_count": 22,
     "metadata": {},
     "output_type": "execute_result"
    }
   ],
   "source": [
    "nn_learner.train_loop(dl)"
   ]
  },
  {
   "cell_type": "code",
   "execution_count": 23,
   "id": "e0163366",
   "metadata": {
    "execution": {
     "iopub.execute_input": "2022-06-02T10:14:37.597545Z",
     "iopub.status.busy": "2022-06-02T10:14:37.596958Z",
     "iopub.status.idle": "2022-06-02T10:14:49.759092Z",
     "shell.execute_reply": "2022-06-02T10:14:49.759893Z"
    },
    "papermill": {
     "duration": 12.206518,
     "end_time": "2022-06-02T10:14:49.760032",
     "exception": false,
     "start_time": "2022-06-02T10:14:37.553514",
     "status": "completed"
    },
    "tags": []
   },
   "outputs": [
    {
     "name": "stdout",
     "output_type": "stream",
     "text": [
      "Epoch 0, Loss 0.2195\n",
      "Training Accuracy: 0.7500, Testing Accuracy: 0.7394\n",
      "\n"
     ]
    },
    {
     "name": "stdout",
     "output_type": "stream",
     "text": [
      "Epoch 10, Loss 0.1003\n",
      "Training Accuracy: 0.9140, Testing Accuracy: 0.9148\n",
      "\n"
     ]
    },
    {
     "name": "stdout",
     "output_type": "stream",
     "text": [
      "Epoch 20, Loss 0.0775\n",
      "Training Accuracy: 0.9308, Testing Accuracy: 0.9355\n",
      "\n"
     ]
    },
    {
     "name": "stdout",
     "output_type": "stream",
     "text": [
      "Epoch 30, Loss 0.0669\n",
      "Training Accuracy: 0.9385, Testing Accuracy: 0.9486\n",
      "\n"
     ]
    },
    {
     "name": "stdout",
     "output_type": "stream",
     "text": [
      "Epoch 40, Loss 0.0606\n",
      "Training Accuracy: 0.9433, Testing Accuracy: 0.9526\n",
      "\n"
     ]
    },
    {
     "name": "stdout",
     "output_type": "stream",
     "text": [
      "Epoch 50, Loss 0.0563\n",
      "Training Accuracy: 0.9458, Testing Accuracy: 0.9541\n",
      "\n"
     ]
    },
    {
     "name": "stdout",
     "output_type": "stream",
     "text": [
      "Epoch 60, Loss 0.0531\n",
      "Training Accuracy: 0.9475, Testing Accuracy: 0.9567\n",
      "\n"
     ]
    },
    {
     "name": "stdout",
     "output_type": "stream",
     "text": [
      "Epoch 70, Loss 0.0506\n",
      "Training Accuracy: 0.9498, Testing Accuracy: 0.9582\n",
      "\n"
     ]
    },
    {
     "name": "stdout",
     "output_type": "stream",
     "text": [
      "Epoch 80, Loss 0.0486\n",
      "Training Accuracy: 0.9510, Testing Accuracy: 0.9602\n",
      "\n"
     ]
    },
    {
     "name": "stdout",
     "output_type": "stream",
     "text": [
      "Epoch 90, Loss 0.047\n",
      "Training Accuracy: 0.9526, Testing Accuracy: 0.9607\n",
      "\n"
     ]
    },
    {
     "name": "stdout",
     "output_type": "stream",
     "text": [
      "Epoch 100, Loss 0.0456\n",
      "Training Accuracy: 0.9538, Testing Accuracy: 0.9622\n",
      "\n"
     ]
    },
    {
     "name": "stdout",
     "output_type": "stream",
     "text": [
      "Epoch 110, Loss 0.0444\n",
      "Training Accuracy: 0.9545, Testing Accuracy: 0.9642\n",
      "\n"
     ]
    },
    {
     "name": "stdout",
     "output_type": "stream",
     "text": [
      "Epoch 120, Loss 0.0434\n",
      "Training Accuracy: 0.9559, Testing Accuracy: 0.9657\n",
      "\n"
     ]
    },
    {
     "name": "stdout",
     "output_type": "stream",
     "text": [
      "Epoch 130, Loss 0.0425\n",
      "Training Accuracy: 0.9569, Testing Accuracy: 0.9662\n",
      "\n"
     ]
    },
    {
     "name": "stdout",
     "output_type": "stream",
     "text": [
      "Epoch 140, Loss 0.0417\n",
      "Training Accuracy: 0.9574, Testing Accuracy: 0.9662\n",
      "\n"
     ]
    },
    {
     "name": "stdout",
     "output_type": "stream",
     "text": [
      "Epoch 150, Loss 0.041\n",
      "Training Accuracy: 0.9581, Testing Accuracy: 0.9667\n",
      "\n"
     ]
    },
    {
     "name": "stdout",
     "output_type": "stream",
     "text": [
      "Epoch 160, Loss 0.0403\n",
      "Training Accuracy: 0.9586, Testing Accuracy: 0.9667\n",
      "\n"
     ]
    },
    {
     "name": "stdout",
     "output_type": "stream",
     "text": [
      "Epoch 170, Loss 0.0397\n",
      "Training Accuracy: 0.9593, Testing Accuracy: 0.9667\n",
      "\n"
     ]
    },
    {
     "name": "stdout",
     "output_type": "stream",
     "text": [
      "Epoch 180, Loss 0.0392\n",
      "Training Accuracy: 0.9593, Testing Accuracy: 0.9672\n",
      "\n"
     ]
    },
    {
     "name": "stdout",
     "output_type": "stream",
     "text": [
      "Epoch 190, Loss 0.0387\n",
      "Training Accuracy: 0.9601, Testing Accuracy: 0.9672\n",
      "\n"
     ]
    },
    {
     "name": "stdout",
     "output_type": "stream",
     "text": [
      "Epoch 200, Loss 0.0382\n",
      "Training Accuracy: 0.9605, Testing Accuracy: 0.9672\n",
      "\n"
     ]
    },
    {
     "name": "stdout",
     "output_type": "stream",
     "text": [
      "Epoch 210, Loss 0.0378\n",
      "Training Accuracy: 0.9609, Testing Accuracy: 0.9672\n",
      "\n"
     ]
    },
    {
     "name": "stdout",
     "output_type": "stream",
     "text": [
      "Epoch 220, Loss 0.0374\n",
      "Training Accuracy: 0.9612, Testing Accuracy: 0.9672\n",
      "\n"
     ]
    },
    {
     "name": "stdout",
     "output_type": "stream",
     "text": [
      "Epoch 230, Loss 0.037\n",
      "Training Accuracy: 0.9613, Testing Accuracy: 0.9672\n",
      "\n"
     ]
    },
    {
     "name": "stdout",
     "output_type": "stream",
     "text": [
      "Epoch 240, Loss 0.0366\n",
      "Training Accuracy: 0.9616, Testing Accuracy: 0.9672\n",
      "\n"
     ]
    },
    {
     "data": {
      "text/plain": [
       "0.015323413417843226"
      ]
     },
     "execution_count": 23,
     "metadata": {},
     "output_type": "execute_result"
    }
   ],
   "source": [
    "lr_learner.train_loop(dl)"
   ]
  },
  {
   "cell_type": "code",
   "execution_count": 24,
   "id": "ca410940",
   "metadata": {
    "execution": {
     "iopub.execute_input": "2022-06-02T10:14:49.853943Z",
     "iopub.status.busy": "2022-06-02T10:14:49.853357Z",
     "iopub.status.idle": "2022-06-02T10:14:50.078991Z",
     "shell.execute_reply": "2022-06-02T10:14:50.078515Z"
    },
    "papermill": {
     "duration": 0.275851,
     "end_time": "2022-06-02T10:14:50.079103",
     "exception": false,
     "start_time": "2022-06-02T10:14:49.803252",
     "status": "completed"
    },
    "tags": []
   },
   "outputs": [
    {
     "data": {
      "text/plain": [
       "<matplotlib.legend.Legend at 0x7f6c4bca39e8>"
      ]
     },
     "execution_count": 24,
     "metadata": {},
     "output_type": "execute_result"
    },
    {
     "data": {
      "image/png": "[encoded data removed]",
      "text/plain": [
       "<Figure size 1080x720 with 1 Axes>"
      ]
     },
     "metadata": {
      "needs_background": "light"
     },
     "output_type": "display_data"
    }
   ],
   "source": [
    "#comparing the results of NN and LR\n",
    "plt.figure(figsize=(15,10))\n",
    "\n",
    "# Neural Network plots\n",
    "plt.plot(acc_nn.accuracies, 'r-', label = \"Training Accuracies - NN\")\n",
    "plt.plot(acc_nn.test_accuracies, 'g-', label = \"Testing Accuracies - NN\")\n",
    "\n",
    "# Logistic Regression plots\n",
    "plt.plot(acc_lr.accuracies, 'k-', label = \"Training Accuracies - LR\")\n",
    "plt.plot(acc_lr.test_accuracies, 'b-', label = \"Testing Accuracies - LR\")\n",
    "plt.legend()"
   ]
  },
  {
   "cell_type": "markdown",
   "id": "80dfb35c",
   "metadata": {
    "papermill": {
     "duration": 0.043943,
     "end_time": "2022-06-02T10:14:50.167451",
     "exception": false,
     "start_time": "2022-06-02T10:14:50.123508",
     "status": "completed"
    },
    "tags": []
   },
   "source": [
    "#### Plotting the outputs of this layer of the NN.\n"
   ]
  },
  {
   "cell_type": "code",
   "execution_count": 25,
   "id": "45eb2ff5",
   "metadata": {
    "execution": {
     "iopub.execute_input": "2022-06-02T10:14:50.259636Z",
     "iopub.status.busy": "2022-06-02T10:14:50.259068Z",
     "iopub.status.idle": "2022-06-02T10:14:50.294737Z",
     "shell.execute_reply": "2022-06-02T10:14:50.295162Z"
    },
    "papermill": {
     "duration": 0.083987,
     "end_time": "2022-06-02T10:14:50.295290",
     "exception": false,
     "start_time": "2022-06-02T10:14:50.211303",
     "status": "completed"
    },
    "tags": []
   },
   "outputs": [],
   "source": [
    "new_model = Model(layers[:-2])\n",
    "testing_plot = new_model(testing_data_x)"
   ]
  },
  {
   "cell_type": "code",
   "execution_count": 26,
   "id": "4c0a5485",
   "metadata": {
    "execution": {
     "iopub.execute_input": "2022-06-02T10:14:50.388650Z",
     "iopub.status.busy": "2022-06-02T10:14:50.388059Z",
     "iopub.status.idle": "2022-06-02T10:14:50.573634Z",
     "shell.execute_reply": "2022-06-02T10:14:50.573150Z"
    },
    "papermill": {
     "duration": 0.233327,
     "end_time": "2022-06-02T10:14:50.573743",
     "exception": false,
     "start_time": "2022-06-02T10:14:50.340416",
     "status": "completed"
    },
    "tags": []
   },
   "outputs": [
    {
     "data": {
      "text/plain": [
       "Text(0.5, 1.0, 'Outputs')"
      ]
     },
     "execution_count": 26,
     "metadata": {},
     "output_type": "execute_result"
    },
    {
     "data": {
      "image/png": "[encoded data removed]",
      "text/plain": [
       "<Figure size 576x504 with 1 Axes>"
      ]
     },
     "metadata": {
      "needs_background": "light"
     },
     "output_type": "display_data"
    }
   ],
   "source": [
    "# Plotting the scatter plot of points and color coding by class\n",
    "plt.figure(figsize=(8,7))\n",
    "plt.scatter(testing_plot[:,0], testing_plot[:,1], alpha = 0.1, c = y_test.ravel());\n",
    "plt.title('Outputs')"
   ]
  },
  {
   "cell_type": "markdown",
   "id": "a74fcf8f",
   "metadata": {
    "papermill": {
     "duration": 0.045959,
     "end_time": "2022-06-02T10:14:50.688313",
     "exception": false,
     "start_time": "2022-06-02T10:14:50.642354",
     "status": "completed"
    },
    "tags": []
   },
   "source": [
    "Probability contours"
   ]
  },
  {
   "cell_type": "code",
   "execution_count": 27,
   "id": "d0afc8e3",
   "metadata": {
    "execution": {
     "iopub.execute_input": "2022-06-02T10:14:50.786002Z",
     "iopub.status.busy": "2022-06-02T10:14:50.784561Z",
     "iopub.status.idle": "2022-06-02T10:14:50.795483Z",
     "shell.execute_reply": "2022-06-02T10:14:50.795936Z"
    },
    "papermill": {
     "duration": 0.061967,
     "end_time": "2022-06-02T10:14:50.796059",
     "exception": false,
     "start_time": "2022-06-02T10:14:50.734092",
     "status": "completed"
    },
    "tags": []
   },
   "outputs": [],
   "source": [
    "model_prob = Model(layers[-2:]) "
   ]
  },
  {
   "cell_type": "code",
   "execution_count": 28,
   "id": "9b96e238",
   "metadata": {
    "execution": {
     "iopub.execute_input": "2022-06-02T10:14:50.893031Z",
     "iopub.status.busy": "2022-06-02T10:14:50.892450Z",
     "iopub.status.idle": "2022-06-02T10:14:50.905042Z",
     "shell.execute_reply": "2022-06-02T10:14:50.905469Z"
    },
    "papermill": {
     "duration": 0.063611,
     "end_time": "2022-06-02T10:14:50.905602",
     "exception": false,
     "start_time": "2022-06-02T10:14:50.841991",
     "status": "completed"
    },
    "tags": []
   },
   "outputs": [],
   "source": [
    "#creating the x and y ranges according to the above generated plot.\n",
    "x_range = np.linspace(-4, 1, 100) \n",
    "y_range = np.linspace(-6, 6, 100) \n",
    "x_grid, y_grid = np.meshgrid(x_range, y_range) # x_grid and y_grig are of size 100 X 100\n",
    "\n",
    "# converting x_grid and y_grid to continuous arrays\n",
    "x_gridflat = np.ravel(x_grid)\n",
    "y_gridflat = np.ravel(y_grid)\n",
    "\n",
    "# The last layer of the current model takes two columns as input. Hence transpose of np.vstack() is required.\n",
    "X = np.vstack((x_gridflat, y_gridflat)).T\n",
    "\n",
    "prob_contour = model_prob(X).reshape(100,100) "
   ]
  },
  {
   "cell_type": "code",
   "execution_count": 29,
   "id": "da72499a",
   "metadata": {
    "execution": {
     "iopub.execute_input": "2022-06-02T10:14:51.005481Z",
     "iopub.status.busy": "2022-06-02T10:14:51.004942Z",
     "iopub.status.idle": "2022-06-02T10:14:51.241320Z",
     "shell.execute_reply": "2022-06-02T10:14:51.241747Z"
    },
    "papermill": {
     "duration": 0.28979,
     "end_time": "2022-06-02T10:14:51.241871",
     "exception": false,
     "start_time": "2022-06-02T10:14:50.952081",
     "status": "completed"
    },
    "tags": []
   },
   "outputs": [
    {
     "data": {
      "image/png": "[encoded data removed]",
      "text/plain": [
       "<Figure size 720x648 with 1 Axes>"
      ]
     },
     "metadata": {
      "needs_background": "light"
     },
     "output_type": "display_data"
    }
   ],
   "source": [
    "plt.figure(figsize=(10,9))\n",
    "plt.scatter(testing_plot[:,0], testing_plot[:,1], alpha = 0.1, c = y_test.ravel())\n",
    "contours = plt.contour(x_grid,y_grid,prob_contour)\n",
    "plt.title('Probability Contours')\n",
    "plt.clabel(contours, inline = True );"
   ]
  },
  {
   "cell_type": "code",
   "execution_count": null,
   "id": "e81b4ac7",
   "metadata": {
    "papermill": {
     "duration": 0.048433,
     "end_time": "2022-06-02T10:14:51.339275",
     "exception": false,
     "start_time": "2022-06-02T10:14:51.290842",
     "status": "completed"
    },
    "tags": []
   },
   "outputs": [],
   "source": []
  }
 ],
 "metadata": {
  "kernelspec": {
   "display_name": "Python 3",
   "language": "python",
   "name": "python3"
  },
  "language_info": {
   "codemirror_mode": {
    "name": "ipython",
    "version": 3
   },
   "file_extension": ".py",
   "mimetype": "text/x-python",
   "name": "python",
   "nbconvert_exporter": "python",
   "pygments_lexer": "ipython3",
   "version": "3.6.15"
  },
  "papermill": {
   "default_parameters": {},
   "duration": 197.858448,
   "end_time": "2022-06-02T10:14:51.704845",
   "environment_variables": {},
   "exception": null,
   "input_path": "2020-08-11-part2.ipynb",
   "output_path": "2020-08-11-part2.ipynb",
   "parameters": {},
   "start_time": "2022-06-02T10:11:33.846397",
   "version": "2.3.3"
  }
 },
 "nbformat": 4,
 "nbformat_minor": 5
}