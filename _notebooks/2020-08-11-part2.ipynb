{
 "cells": [
  {
   "cell_type": "markdown",
   "id": "98380cd3",
   "metadata": {
    "papermill": {
     "duration": 0.02941,
     "end_time": "2022-07-04T00:43:48.199657",
     "exception": false,
     "start_time": "2022-07-04T00:43:48.170247",
     "status": "completed"
    },
    "tags": []
   },
   "source": [
    "# Distinguish Your Own Digits (DYOD)"
   ]
  },
  {
   "cell_type": "markdown",
   "id": "ef31240d",
   "metadata": {
    "papermill": {
     "duration": 0.023712,
     "end_time": "2022-07-04T00:43:48.247636",
     "exception": false,
     "start_time": "2022-07-04T00:43:48.223924",
     "status": "completed"
    },
    "tags": []
   },
   "source": [
    "You are going to write a classifier that distinguishes between the number 3 and number 8."
   ]
  },
  {
   "cell_type": "code",
   "execution_count": 1,
   "id": "b15c8646",
   "metadata": {
    "execution": {
     "iopub.execute_input": "2022-07-04T00:43:48.305369Z",
     "iopub.status.busy": "2022-07-04T00:43:48.304764Z",
     "iopub.status.idle": "2022-07-04T00:43:48.315479Z",
     "shell.execute_reply": "2022-07-04T00:43:48.315973Z"
    },
    "papermill": {
     "duration": 0.044755,
     "end_time": "2022-07-04T00:43:48.316132",
     "exception": false,
     "start_time": "2022-07-04T00:43:48.271377",
     "status": "completed"
    },
    "tags": []
   },
   "outputs": [],
   "source": [
    "%load_ext autoreload\n",
    "%autoreload 2"
   ]
  },
  {
   "cell_type": "code",
   "execution_count": 2,
   "id": "22ef38dc",
   "metadata": {
    "execution": {
     "iopub.execute_input": "2022-07-04T00:43:48.371953Z",
     "iopub.status.busy": "2022-07-04T00:43:48.371356Z",
     "iopub.status.idle": "2022-07-04T00:43:48.906178Z",
     "shell.execute_reply": "2022-07-04T00:43:48.906742Z"
    },
    "papermill": {
     "duration": 0.566925,
     "end_time": "2022-07-04T00:43:48.906915",
     "exception": false,
     "start_time": "2022-07-04T00:43:48.339990",
     "status": "completed"
    },
    "tags": []
   },
   "outputs": [],
   "source": [
    "%matplotlib inline\n",
    "import numpy as np\n",
    "import matplotlib.pyplot as plt\n",
    "import pandas as pd"
   ]
  },
  {
   "cell_type": "markdown",
   "id": "ba036198",
   "metadata": {
    "papermill": {
     "duration": 0.023606,
     "end_time": "2022-07-04T00:43:48.954437",
     "exception": false,
     "start_time": "2022-07-04T00:43:48.930831",
     "status": "completed"
    },
    "tags": []
   },
   "source": [
    "From the command line run `pip install mnist`. This is a library that will help you bring down the mnist dataset. If you run this from a notebook, you need to put  `!pip install mnist` in a cell by itself."
   ]
  },
  {
   "cell_type": "code",
   "execution_count": 3,
   "id": "bb6ad8a1",
   "metadata": {
    "execution": {
     "iopub.execute_input": "2022-07-04T00:43:49.006110Z",
     "iopub.status.busy": "2022-07-04T00:43:49.005521Z",
     "iopub.status.idle": "2022-07-04T00:43:50.691126Z",
     "shell.execute_reply": "2022-07-04T00:43:50.690481Z"
    },
    "papermill": {
     "duration": 1.713106,
     "end_time": "2022-07-04T00:43:50.691268",
     "exception": false,
     "start_time": "2022-07-04T00:43:48.978162",
     "status": "completed"
    },
    "tags": []
   },
   "outputs": [
    {
     "name": "stdout",
     "output_type": "stream",
     "text": [
      "Collecting mnist\r\n"
     ]
    },
    {
     "name": "stdout",
     "output_type": "stream",
     "text": [
      "  Downloading mnist-0.2.2-py2.py3-none-any.whl (3.5 kB)\r\n"
     ]
    },
    {
     "name": "stdout",
     "output_type": "stream",
     "text": [
      "Requirement already satisfied: numpy in /opt/hostedtoolcache/Python/3.6.15/x64/lib/python3.6/site-packages (from mnist) (1.19.5)\r\n"
     ]
    },
    {
     "name": "stdout",
     "output_type": "stream",
     "text": [
      "Installing collected packages: mnist\r\n"
     ]
    },
    {
     "name": "stdout",
     "output_type": "stream",
     "text": [
      "Successfully installed mnist-0.2.2\r\n"
     ]
    }
   ],
   "source": [
    "!pip install mnist"
   ]
  },
  {
   "cell_type": "markdown",
   "id": "69df9c9a",
   "metadata": {
    "papermill": {
     "duration": 0.024929,
     "end_time": "2022-07-04T00:43:50.741688",
     "exception": false,
     "start_time": "2022-07-04T00:43:50.716759",
     "status": "completed"
    },
    "tags": []
   },
   "source": [
    "## Preparing the Data"
   ]
  },
  {
   "cell_type": "code",
   "execution_count": 4,
   "id": "7f69d806",
   "metadata": {
    "execution": {
     "iopub.execute_input": "2022-07-04T00:43:50.808747Z",
     "iopub.status.busy": "2022-07-04T00:43:50.805702Z",
     "iopub.status.idle": "2022-07-04T00:43:50.813781Z",
     "shell.execute_reply": "2022-07-04T00:43:50.814521Z"
    },
    "papermill": {
     "duration": 0.047476,
     "end_time": "2022-07-04T00:43:50.814690",
     "exception": false,
     "start_time": "2022-07-04T00:43:50.767214",
     "status": "completed"
    },
    "tags": []
   },
   "outputs": [],
   "source": [
    "import mnist"
   ]
  },
  {
   "cell_type": "code",
   "execution_count": 5,
   "id": "a411e44f",
   "metadata": {
    "execution": {
     "iopub.execute_input": "2022-07-04T00:43:50.874495Z",
     "iopub.status.busy": "2022-07-04T00:43:50.867947Z",
     "iopub.status.idle": "2022-07-04T00:43:51.461847Z",
     "shell.execute_reply": "2022-07-04T00:43:51.461303Z"
    },
    "papermill": {
     "duration": 0.622331,
     "end_time": "2022-07-04T00:43:51.461970",
     "exception": false,
     "start_time": "2022-07-04T00:43:50.839639",
     "status": "completed"
    },
    "tags": []
   },
   "outputs": [],
   "source": [
    "train_images = mnist.train_images()\n",
    "train_labels = mnist.train_labels()"
   ]
  },
  {
   "cell_type": "code",
   "execution_count": 6,
   "id": "dceab3a5",
   "metadata": {
    "execution": {
     "iopub.execute_input": "2022-07-04T00:43:51.524272Z",
     "iopub.status.busy": "2022-07-04T00:43:51.515564Z",
     "iopub.status.idle": "2022-07-04T00:43:51.533809Z",
     "shell.execute_reply": "2022-07-04T00:43:51.534290Z"
    },
    "papermill": {
     "duration": 0.047451,
     "end_time": "2022-07-04T00:43:51.534428",
     "exception": false,
     "start_time": "2022-07-04T00:43:51.486977",
     "status": "completed"
    },
    "tags": []
   },
   "outputs": [
    {
     "data": {
      "text/plain": [
       "((60000, 28, 28), (60000,))"
      ]
     },
     "execution_count": 6,
     "metadata": {},
     "output_type": "execute_result"
    }
   ],
   "source": [
    "train_images.shape, train_labels.shape"
   ]
  },
  {
   "cell_type": "code",
   "execution_count": 7,
   "id": "f50dc2bb",
   "metadata": {
    "execution": {
     "iopub.execute_input": "2022-07-04T00:43:51.589765Z",
     "iopub.status.busy": "2022-07-04T00:43:51.588653Z",
     "iopub.status.idle": "2022-07-04T00:43:51.790088Z",
     "shell.execute_reply": "2022-07-04T00:43:51.789474Z"
    },
    "papermill": {
     "duration": 0.230589,
     "end_time": "2022-07-04T00:43:51.790225",
     "exception": false,
     "start_time": "2022-07-04T00:43:51.559636",
     "status": "completed"
    },
    "tags": []
   },
   "outputs": [],
   "source": [
    "test_images = mnist.test_images()\n",
    "test_labels = mnist.test_labels()"
   ]
  },
  {
   "cell_type": "code",
   "execution_count": 8,
   "id": "fc38cf1b",
   "metadata": {
    "execution": {
     "iopub.execute_input": "2022-07-04T00:43:51.845825Z",
     "iopub.status.busy": "2022-07-04T00:43:51.845231Z",
     "iopub.status.idle": "2022-07-04T00:43:51.858951Z",
     "shell.execute_reply": "2022-07-04T00:43:51.858343Z"
    },
    "papermill": {
     "duration": 0.042356,
     "end_time": "2022-07-04T00:43:51.859070",
     "exception": false,
     "start_time": "2022-07-04T00:43:51.816714",
     "status": "completed"
    },
    "tags": []
   },
   "outputs": [
    {
     "data": {
      "text/plain": [
       "((10000, 28, 28), (10000,))"
      ]
     },
     "execution_count": 8,
     "metadata": {},
     "output_type": "execute_result"
    }
   ],
   "source": [
    "test_images.shape, test_labels.shape"
   ]
  },
  {
   "cell_type": "code",
   "execution_count": 9,
   "id": "f9ed8fe0",
   "metadata": {
    "execution": {
     "iopub.execute_input": "2022-07-04T00:43:51.913830Z",
     "iopub.status.busy": "2022-07-04T00:43:51.913251Z",
     "iopub.status.idle": "2022-07-04T00:43:52.050932Z",
     "shell.execute_reply": "2022-07-04T00:43:52.051418Z"
    },
    "papermill": {
     "duration": 0.1671,
     "end_time": "2022-07-04T00:43:52.051557",
     "exception": false,
     "start_time": "2022-07-04T00:43:51.884457",
     "status": "completed"
    },
    "tags": []
   },
   "outputs": [
    {
     "name": "stdout",
     "output_type": "stream",
     "text": [
      "2\n"
     ]
    },
    {
     "data": {
      "text/plain": [
       "<matplotlib.image.AxesImage at 0x7fce6da564a8>"
      ]
     },
     "execution_count": 9,
     "metadata": {},
     "output_type": "execute_result"
    },
    {
     "data": {
      "image/png": "[encoded data removed]",
      "text/plain": [
       "<Figure size 432x288 with 1 Axes>"
      ]
     },
     "metadata": {
      "needs_background": "light"
     },
     "output_type": "display_data"
    }
   ],
   "source": [
    "image_index = 7776 # You may select anything up to 60,000\n",
    "print(train_labels[image_index]) \n",
    "plt.imshow(train_images[image_index], cmap='Greys')"
   ]
  },
  {
   "cell_type": "markdown",
   "id": "a8d2388d",
   "metadata": {
    "papermill": {
     "duration": 0.026617,
     "end_time": "2022-07-04T00:43:52.104778",
     "exception": false,
     "start_time": "2022-07-04T00:43:52.078161",
     "status": "completed"
    },
    "tags": []
   },
   "source": [
    "## Filter data to get 3 and 8 out"
   ]
  },
  {
   "cell_type": "code",
   "execution_count": 10,
   "id": "776f7fc7",
   "metadata": {
    "execution": {
     "iopub.execute_input": "2022-07-04T00:43:52.175567Z",
     "iopub.status.busy": "2022-07-04T00:43:52.171703Z",
     "iopub.status.idle": "2022-07-04T00:43:52.183899Z",
     "shell.execute_reply": "2022-07-04T00:43:52.183411Z"
    },
    "papermill": {
     "duration": 0.052717,
     "end_time": "2022-07-04T00:43:52.184016",
     "exception": false,
     "start_time": "2022-07-04T00:43:52.131299",
     "status": "completed"
    },
    "tags": []
   },
   "outputs": [],
   "source": [
    "train_filter = np.where((train_labels == 3 ) | (train_labels == 8))\n",
    "test_filter = np.where((test_labels == 3) | (test_labels == 8))\n",
    "X_train, y_train = train_images[train_filter], train_labels[train_filter]\n",
    "X_test, y_test = test_images[test_filter], test_labels[test_filter]"
   ]
  },
  {
   "cell_type": "markdown",
   "id": "948f0b7e",
   "metadata": {
    "papermill": {
     "duration": 0.026507,
     "end_time": "2022-07-04T00:43:52.237153",
     "exception": false,
     "start_time": "2022-07-04T00:43:52.210646",
     "status": "completed"
    },
    "tags": []
   },
   "source": [
    "We normalize the pizel values in the 0 to 1 range"
   ]
  },
  {
   "cell_type": "code",
   "execution_count": 11,
   "id": "ee4c2166",
   "metadata": {
    "execution": {
     "iopub.execute_input": "2022-07-04T00:43:52.303451Z",
     "iopub.status.busy": "2022-07-04T00:43:52.293422Z",
     "iopub.status.idle": "2022-07-04T00:43:52.342345Z",
     "shell.execute_reply": "2022-07-04T00:43:52.341813Z"
    },
    "papermill": {
     "duration": 0.078921,
     "end_time": "2022-07-04T00:43:52.342469",
     "exception": false,
     "start_time": "2022-07-04T00:43:52.263548",
     "status": "completed"
    },
    "tags": []
   },
   "outputs": [],
   "source": [
    "X_train = X_train/255.\n",
    "X_test = X_test/255."
   ]
  },
  {
   "cell_type": "markdown",
   "id": "ddcf4fab",
   "metadata": {
    "papermill": {
     "duration": 0.02679,
     "end_time": "2022-07-04T00:43:52.395965",
     "exception": false,
     "start_time": "2022-07-04T00:43:52.369175",
     "status": "completed"
    },
    "tags": []
   },
   "source": [
    "And setup the labels as 1 (when the digit is 3) and 0 (when the digit is 8)"
   ]
  },
  {
   "cell_type": "code",
   "execution_count": 12,
   "id": "7dc908f2",
   "metadata": {
    "execution": {
     "iopub.execute_input": "2022-07-04T00:43:52.461650Z",
     "iopub.status.busy": "2022-07-04T00:43:52.461033Z",
     "iopub.status.idle": "2022-07-04T00:43:52.469361Z",
     "shell.execute_reply": "2022-07-04T00:43:52.469830Z"
    },
    "papermill": {
     "duration": 0.047542,
     "end_time": "2022-07-04T00:43:52.469963",
     "exception": false,
     "start_time": "2022-07-04T00:43:52.422421",
     "status": "completed"
    },
    "tags": []
   },
   "outputs": [],
   "source": [
    "y_train = 1*(y_train==3)\n",
    "y_test = 1*(y_test==3)"
   ]
  },
  {
   "cell_type": "code",
   "execution_count": 13,
   "id": "01e4e969",
   "metadata": {
    "execution": {
     "iopub.execute_input": "2022-07-04T00:43:52.537727Z",
     "iopub.status.busy": "2022-07-04T00:43:52.526579Z",
     "iopub.status.idle": "2022-07-04T00:43:52.543521Z",
     "shell.execute_reply": "2022-07-04T00:43:52.542359Z"
    },
    "papermill": {
     "duration": 0.047219,
     "end_time": "2022-07-04T00:43:52.543639",
     "exception": false,
     "start_time": "2022-07-04T00:43:52.496420",
     "status": "completed"
    },
    "tags": []
   },
   "outputs": [
    {
     "data": {
      "text/plain": [
       "((11982, 28, 28), (1984, 28, 28))"
      ]
     },
     "execution_count": 13,
     "metadata": {},
     "output_type": "execute_result"
    }
   ],
   "source": [
    "X_train.shape, X_test.shape"
   ]
  },
  {
   "cell_type": "markdown",
   "id": "5ccf3f85",
   "metadata": {
    "papermill": {
     "duration": 0.026968,
     "end_time": "2022-07-04T00:43:52.597473",
     "exception": false,
     "start_time": "2022-07-04T00:43:52.570505",
     "status": "completed"
    },
    "tags": []
   },
   "source": [
    "We reshape the data to flatten the image pixels into a set of features or co-variates:"
   ]
  },
  {
   "cell_type": "code",
   "execution_count": 14,
   "id": "5286a4a3",
   "metadata": {
    "execution": {
     "iopub.execute_input": "2022-07-04T00:43:52.660495Z",
     "iopub.status.busy": "2022-07-04T00:43:52.659902Z",
     "iopub.status.idle": "2022-07-04T00:43:52.670435Z",
     "shell.execute_reply": "2022-07-04T00:43:52.670932Z"
    },
    "papermill": {
     "duration": 0.046532,
     "end_time": "2022-07-04T00:43:52.671071",
     "exception": false,
     "start_time": "2022-07-04T00:43:52.624539",
     "status": "completed"
    },
    "tags": []
   },
   "outputs": [
    {
     "data": {
      "text/plain": [
       "((11982, 784), (1984, 784))"
      ]
     },
     "execution_count": 14,
     "metadata": {},
     "output_type": "execute_result"
    }
   ],
   "source": [
    "X_train = X_train.reshape(X_train.shape[0], -1)\n",
    "X_test = X_test.reshape(X_test.shape[0], -1)\n",
    "X_train.shape, X_test.shape"
   ]
  },
  {
   "cell_type": "code",
   "execution_count": 15,
   "id": "73c5f88a",
   "metadata": {
    "execution": {
     "iopub.execute_input": "2022-07-04T00:43:52.733231Z",
     "iopub.status.busy": "2022-07-04T00:43:52.732648Z",
     "iopub.status.idle": "2022-07-04T00:43:52.749330Z",
     "shell.execute_reply": "2022-07-04T00:43:52.749795Z"
    },
    "papermill": {
     "duration": 0.051837,
     "end_time": "2022-07-04T00:43:52.749940",
     "exception": false,
     "start_time": "2022-07-04T00:43:52.698103",
     "status": "completed"
    },
    "tags": []
   },
   "outputs": [],
   "source": [
    "#Impoting functions from 'Kudzu'\n",
    "from kudzu.model import Model\n",
    "from kudzu.train import Learner\n",
    "from kudzu.optim import GD\n",
    "from kudzu.data import Data, Sampler,Dataloader\n",
    "\n",
    "from kudzu.callbacks import AccCallback\n",
    "from kudzu.callbacks import ClfCallback\n",
    "\n",
    "from kudzu.loss import MSE\n",
    "\n",
    "from kudzu.layer import Sigmoid,Relu\n",
    "from kudzu.layer import Affine"
   ]
  },
  {
   "cell_type": "markdown",
   "id": "bc01172a",
   "metadata": {
    "papermill": {
     "duration": 0.026853,
     "end_time": "2022-07-04T00:43:52.804495",
     "exception": false,
     "start_time": "2022-07-04T00:43:52.777642",
     "status": "completed"
    },
    "tags": []
   },
   "source": [
    "### Let us create a `Config` class, to store important parameters. \n",
    "This class essentially plays the role of a dictionary."
   ]
  },
  {
   "cell_type": "code",
   "execution_count": 16,
   "id": "978281aa",
   "metadata": {
    "execution": {
     "iopub.execute_input": "2022-07-04T00:43:52.871400Z",
     "iopub.status.busy": "2022-07-04T00:43:52.861632Z",
     "iopub.status.idle": "2022-07-04T00:43:52.877369Z",
     "shell.execute_reply": "2022-07-04T00:43:52.877821Z"
    },
    "papermill": {
     "duration": 0.046655,
     "end_time": "2022-07-04T00:43:52.877954",
     "exception": false,
     "start_time": "2022-07-04T00:43:52.831299",
     "status": "completed"
    },
    "tags": []
   },
   "outputs": [],
   "source": [
    "class Config:\n",
    "    pass\n",
    "config = Config()\n",
    "config.lr = 0.001\n",
    "config.num_epochs = 250\n",
    "config.bs = 50"
   ]
  },
  {
   "cell_type": "markdown",
   "id": "1385fa59",
   "metadata": {
    "papermill": {
     "duration": 0.026776,
     "end_time": "2022-07-04T00:43:52.931706",
     "exception": false,
     "start_time": "2022-07-04T00:43:52.904930",
     "status": "completed"
    },
    "tags": []
   },
   "source": [
    "### Running Models with the Training data\n",
    "Details about the network layers:\n",
    "- A first affine layer has 784 inputs and does 100 affine transforms. These are followed by a Relu\n",
    "- A second affine layer has 100 inputs from the 100 activations of the past layer, and does 100 affine transforms. These are followed by a Relu\n",
    "- A third affine layer has 100 activations and does 2 affine transformations to create an embedding for visualization. There is no non-linearity here.\n",
    "- A final \"logistic regression\" which has an affine transform from 2 inputs to 1 output, which is squeezed through a sigmoid.\n"
   ]
  },
  {
   "cell_type": "code",
   "execution_count": 17,
   "id": "2b9c66db",
   "metadata": {
    "execution": {
     "iopub.execute_input": "2022-07-04T00:43:52.990312Z",
     "iopub.status.busy": "2022-07-04T00:43:52.989345Z",
     "iopub.status.idle": "2022-07-04T00:43:53.001956Z",
     "shell.execute_reply": "2022-07-04T00:43:53.001476Z"
    },
    "papermill": {
     "duration": 0.043497,
     "end_time": "2022-07-04T00:43:53.002064",
     "exception": false,
     "start_time": "2022-07-04T00:43:52.958567",
     "status": "completed"
    },
    "tags": []
   },
   "outputs": [],
   "source": [
    "data = Data(X_train, y_train.reshape(-1,1))\n",
    "sampler = Sampler(data, config.bs, shuffle=True)\n",
    "\n",
    "dl = Dataloader(data, sampler)\n",
    "\n",
    "opt = GD(config.lr)\n",
    "loss = MSE()"
   ]
  },
  {
   "cell_type": "code",
   "execution_count": 18,
   "id": "b275e4c2",
   "metadata": {
    "execution": {
     "iopub.execute_input": "2022-07-04T00:43:53.070694Z",
     "iopub.status.busy": "2022-07-04T00:43:53.058934Z",
     "iopub.status.idle": "2022-07-04T00:43:53.076279Z",
     "shell.execute_reply": "2022-07-04T00:43:53.075513Z"
    },
    "papermill": {
     "duration": 0.047657,
     "end_time": "2022-07-04T00:43:53.076393",
     "exception": false,
     "start_time": "2022-07-04T00:43:53.028736",
     "status": "completed"
    },
    "tags": []
   },
   "outputs": [],
   "source": [
    "training_data_x = X_train\n",
    "testing_data_x = X_test\n",
    "training_data_y = y_train.reshape(-1,1)\n",
    "testing_data_y = y_test.reshape(-1,1)"
   ]
  },
  {
   "cell_type": "code",
   "execution_count": 19,
   "id": "76951160",
   "metadata": {
    "execution": {
     "iopub.execute_input": "2022-07-04T00:43:53.144845Z",
     "iopub.status.busy": "2022-07-04T00:43:53.143793Z",
     "iopub.status.idle": "2022-07-04T00:43:53.154614Z",
     "shell.execute_reply": "2022-07-04T00:43:53.155072Z"
    },
    "papermill": {
     "duration": 0.052143,
     "end_time": "2022-07-04T00:43:53.155203",
     "exception": false,
     "start_time": "2022-07-04T00:43:53.103060",
     "status": "completed"
    },
    "tags": []
   },
   "outputs": [
    {
     "name": "stdout",
     "output_type": "stream",
     "text": [
      "xavier\n",
      "xavier\n",
      "xavier\n",
      "xavier\n",
      "xavier\n"
     ]
    }
   ],
   "source": [
    "layers = [Affine(\"first\", 784, 100), Relu(\"first\"), Affine(\"second\", 100, 100), Relu(\"second\"), Affine(\"third\", 100, 2), Affine(\"last\", 2, 1), Sigmoid(\"last\")]\n",
    "model_nn = Model(layers)\n",
    "model_lr = Model([Affine(\"logits\", 784, 1), Sigmoid(\"sigmoid\")])"
   ]
  },
  {
   "cell_type": "code",
   "execution_count": 20,
   "id": "6eede77a",
   "metadata": {
    "execution": {
     "iopub.execute_input": "2022-07-04T00:43:53.216162Z",
     "iopub.status.busy": "2022-07-04T00:43:53.215549Z",
     "iopub.status.idle": "2022-07-04T00:43:53.228471Z",
     "shell.execute_reply": "2022-07-04T00:43:53.227696Z"
    },
    "papermill": {
     "duration": 0.046023,
     "end_time": "2022-07-04T00:43:53.228594",
     "exception": false,
     "start_time": "2022-07-04T00:43:53.182571",
     "status": "completed"
    },
    "tags": []
   },
   "outputs": [],
   "source": [
    "nn_learner = Learner(loss, model_nn, opt, config.num_epochs)\n",
    "acc_nn = ClfCallback(nn_learner, config.bs, training_data_x , testing_data_x, training_data_y, testing_data_y)\n",
    "nn_learner.set_callbacks([acc_nn])"
   ]
  },
  {
   "cell_type": "code",
   "execution_count": 21,
   "id": "877b6cc7",
   "metadata": {
    "execution": {
     "iopub.execute_input": "2022-07-04T00:43:53.291412Z",
     "iopub.status.busy": "2022-07-04T00:43:53.287079Z",
     "iopub.status.idle": "2022-07-04T00:43:53.301207Z",
     "shell.execute_reply": "2022-07-04T00:43:53.300722Z"
    },
    "papermill": {
     "duration": 0.045334,
     "end_time": "2022-07-04T00:43:53.301324",
     "exception": false,
     "start_time": "2022-07-04T00:43:53.255990",
     "status": "completed"
    },
    "tags": []
   },
   "outputs": [],
   "source": [
    "lr_learner = Learner(loss, model_lr, opt, config.num_epochs)\n",
    "acc_lr = ClfCallback(lr_learner, config.bs, training_data_x , testing_data_x, training_data_y, testing_data_y)\n",
    "lr_learner.set_callbacks([acc_lr])"
   ]
  },
  {
   "cell_type": "code",
   "execution_count": 22,
   "id": "d9b133c3",
   "metadata": {
    "execution": {
     "iopub.execute_input": "2022-07-04T00:43:53.362903Z",
     "iopub.status.busy": "2022-07-04T00:43:53.362261Z",
     "iopub.status.idle": "2022-07-04T00:45:09.161935Z",
     "shell.execute_reply": "2022-07-04T00:45:09.162815Z"
    },
    "papermill": {
     "duration": 75.83421,
     "end_time": "2022-07-04T00:45:09.162973",
     "exception": false,
     "start_time": "2022-07-04T00:43:53.328763",
     "status": "completed"
    },
    "tags": []
   },
   "outputs": [
    {
     "name": "stdout",
     "output_type": "stream",
     "text": [
      "Epoch 0, Loss 0.2598\n",
      "Training Accuracy: 0.5446, Testing Accuracy: 0.5519\n",
      "\n"
     ]
    },
    {
     "name": "stdout",
     "output_type": "stream",
     "text": [
      "Epoch 10, Loss 0.0947\n",
      "Training Accuracy: 0.9155, Testing Accuracy: 0.9244\n",
      "\n"
     ]
    },
    {
     "name": "stdout",
     "output_type": "stream",
     "text": [
      "Epoch 20, Loss 0.0559\n",
      "Training Accuracy: 0.9426, Testing Accuracy: 0.9526\n",
      "\n"
     ]
    },
    {
     "name": "stdout",
     "output_type": "stream",
     "text": [
      "Epoch 30, Loss 0.0432\n",
      "Training Accuracy: 0.9534, Testing Accuracy: 0.9627\n",
      "\n"
     ]
    },
    {
     "name": "stdout",
     "output_type": "stream",
     "text": [
      "Epoch 40, Loss 0.0371\n",
      "Training Accuracy: 0.9586, Testing Accuracy: 0.9672\n",
      "\n"
     ]
    },
    {
     "name": "stdout",
     "output_type": "stream",
     "text": [
      "Epoch 50, Loss 0.0335\n",
      "Training Accuracy: 0.9624, Testing Accuracy: 0.9708\n",
      "\n"
     ]
    },
    {
     "name": "stdout",
     "output_type": "stream",
     "text": [
      "Epoch 60, Loss 0.0311\n",
      "Training Accuracy: 0.9641, Testing Accuracy: 0.9713\n",
      "\n"
     ]
    },
    {
     "name": "stdout",
     "output_type": "stream",
     "text": [
      "Epoch 70, Loss 0.0293\n",
      "Training Accuracy: 0.9659, Testing Accuracy: 0.9723\n",
      "\n"
     ]
    },
    {
     "name": "stdout",
     "output_type": "stream",
     "text": [
      "Epoch 80, Loss 0.0278\n",
      "Training Accuracy: 0.9674, Testing Accuracy: 0.9713\n",
      "\n"
     ]
    },
    {
     "name": "stdout",
     "output_type": "stream",
     "text": [
      "Epoch 90, Loss 0.0267\n",
      "Training Accuracy: 0.9687, Testing Accuracy: 0.9718\n",
      "\n"
     ]
    },
    {
     "name": "stdout",
     "output_type": "stream",
     "text": [
      "Epoch 100, Loss 0.0257\n",
      "Training Accuracy: 0.9695, Testing Accuracy: 0.9728\n",
      "\n"
     ]
    },
    {
     "name": "stdout",
     "output_type": "stream",
     "text": [
      "Epoch 110, Loss 0.0248\n",
      "Training Accuracy: 0.9707, Testing Accuracy: 0.9718\n",
      "\n"
     ]
    },
    {
     "name": "stdout",
     "output_type": "stream",
     "text": [
      "Epoch 120, Loss 0.024\n",
      "Training Accuracy: 0.9715, Testing Accuracy: 0.9728\n",
      "\n"
     ]
    },
    {
     "name": "stdout",
     "output_type": "stream",
     "text": [
      "Epoch 130, Loss 0.0233\n",
      "Training Accuracy: 0.9725, Testing Accuracy: 0.9723\n",
      "\n"
     ]
    },
    {
     "name": "stdout",
     "output_type": "stream",
     "text": [
      "Epoch 140, Loss 0.0227\n",
      "Training Accuracy: 0.9742, Testing Accuracy: 0.9733\n",
      "\n"
     ]
    },
    {
     "name": "stdout",
     "output_type": "stream",
     "text": [
      "Epoch 150, Loss 0.0221\n",
      "Training Accuracy: 0.9751, Testing Accuracy: 0.9728\n",
      "\n"
     ]
    },
    {
     "name": "stdout",
     "output_type": "stream",
     "text": [
      "Epoch 160, Loss 0.0216\n",
      "Training Accuracy: 0.9757, Testing Accuracy: 0.9738\n",
      "\n"
     ]
    },
    {
     "name": "stdout",
     "output_type": "stream",
     "text": [
      "Epoch 170, Loss 0.0211\n",
      "Training Accuracy: 0.9761, Testing Accuracy: 0.9743\n",
      "\n"
     ]
    },
    {
     "name": "stdout",
     "output_type": "stream",
     "text": [
      "Epoch 180, Loss 0.0206\n",
      "Training Accuracy: 0.9768, Testing Accuracy: 0.9743\n",
      "\n"
     ]
    },
    {
     "name": "stdout",
     "output_type": "stream",
     "text": [
      "Epoch 190, Loss 0.0202\n",
      "Training Accuracy: 0.9770, Testing Accuracy: 0.9743\n",
      "\n"
     ]
    },
    {
     "name": "stdout",
     "output_type": "stream",
     "text": [
      "Epoch 200, Loss 0.0197\n",
      "Training Accuracy: 0.9775, Testing Accuracy: 0.9738\n",
      "\n"
     ]
    },
    {
     "name": "stdout",
     "output_type": "stream",
     "text": [
      "Epoch 210, Loss 0.0193\n",
      "Training Accuracy: 0.9781, Testing Accuracy: 0.9743\n",
      "\n"
     ]
    },
    {
     "name": "stdout",
     "output_type": "stream",
     "text": [
      "Epoch 220, Loss 0.0189\n",
      "Training Accuracy: 0.9785, Testing Accuracy: 0.9743\n",
      "\n"
     ]
    },
    {
     "name": "stdout",
     "output_type": "stream",
     "text": [
      "Epoch 230, Loss 0.0185\n",
      "Training Accuracy: 0.9787, Testing Accuracy: 0.9743\n",
      "\n"
     ]
    },
    {
     "name": "stdout",
     "output_type": "stream",
     "text": [
      "Epoch 240, Loss 0.0182\n",
      "Training Accuracy: 0.9795, Testing Accuracy: 0.9743\n",
      "\n"
     ]
    },
    {
     "data": {
      "text/plain": [
       "0.008748986826375368"
      ]
     },
     "execution_count": 22,
     "metadata": {},
     "output_type": "execute_result"
    }
   ],
   "source": [
    "nn_learner.train_loop(dl)"
   ]
  },
  {
   "cell_type": "code",
   "execution_count": 23,
   "id": "e0163366",
   "metadata": {
    "execution": {
     "iopub.execute_input": "2022-07-04T00:45:09.240438Z",
     "iopub.status.busy": "2022-07-04T00:45:09.239848Z",
     "iopub.status.idle": "2022-07-04T00:45:22.901822Z",
     "shell.execute_reply": "2022-07-04T00:45:22.902670Z"
    },
    "papermill": {
     "duration": 13.705285,
     "end_time": "2022-07-04T00:45:22.902820",
     "exception": false,
     "start_time": "2022-07-04T00:45:09.197535",
     "status": "completed"
    },
    "tags": []
   },
   "outputs": [
    {
     "name": "stdout",
     "output_type": "stream",
     "text": [
      "Epoch 0, Loss 0.2739\n",
      "Training Accuracy: 0.5306, Testing Accuracy: 0.4778\n",
      "\n"
     ]
    },
    {
     "name": "stdout",
     "output_type": "stream",
     "text": [
      "Epoch 10, Loss 0.1065\n",
      "Training Accuracy: 0.9066, Testing Accuracy: 0.9183\n",
      "\n"
     ]
    },
    {
     "name": "stdout",
     "output_type": "stream",
     "text": [
      "Epoch 20, Loss 0.0803\n",
      "Training Accuracy: 0.9261, Testing Accuracy: 0.9380\n",
      "\n"
     ]
    },
    {
     "name": "stdout",
     "output_type": "stream",
     "text": [
      "Epoch 30, Loss 0.0687\n",
      "Training Accuracy: 0.9363, Testing Accuracy: 0.9451\n",
      "\n"
     ]
    },
    {
     "name": "stdout",
     "output_type": "stream",
     "text": [
      "Epoch 40, Loss 0.0619\n",
      "Training Accuracy: 0.9417, Testing Accuracy: 0.9526\n",
      "\n"
     ]
    },
    {
     "name": "stdout",
     "output_type": "stream",
     "text": [
      "Epoch 50, Loss 0.0573\n",
      "Training Accuracy: 0.9452, Testing Accuracy: 0.9567\n",
      "\n"
     ]
    },
    {
     "name": "stdout",
     "output_type": "stream",
     "text": [
      "Epoch 60, Loss 0.054\n",
      "Training Accuracy: 0.9469, Testing Accuracy: 0.9577\n",
      "\n"
     ]
    },
    {
     "name": "stdout",
     "output_type": "stream",
     "text": [
      "Epoch 70, Loss 0.0514\n",
      "Training Accuracy: 0.9478, Testing Accuracy: 0.9582\n",
      "\n"
     ]
    },
    {
     "name": "stdout",
     "output_type": "stream",
     "text": [
      "Epoch 80, Loss 0.0493\n",
      "Training Accuracy: 0.9494, Testing Accuracy: 0.9597\n",
      "\n"
     ]
    },
    {
     "name": "stdout",
     "output_type": "stream",
     "text": [
      "Epoch 90, Loss 0.0476\n",
      "Training Accuracy: 0.9505, Testing Accuracy: 0.9617\n",
      "\n"
     ]
    },
    {
     "name": "stdout",
     "output_type": "stream",
     "text": [
      "Epoch 100, Loss 0.0462\n",
      "Training Accuracy: 0.9517, Testing Accuracy: 0.9622\n",
      "\n"
     ]
    },
    {
     "name": "stdout",
     "output_type": "stream",
     "text": [
      "Epoch 110, Loss 0.045\n",
      "Training Accuracy: 0.9531, Testing Accuracy: 0.9622\n",
      "\n"
     ]
    },
    {
     "name": "stdout",
     "output_type": "stream",
     "text": [
      "Epoch 120, Loss 0.0439\n",
      "Training Accuracy: 0.9538, Testing Accuracy: 0.9627\n",
      "\n"
     ]
    },
    {
     "name": "stdout",
     "output_type": "stream",
     "text": [
      "Epoch 130, Loss 0.043\n",
      "Training Accuracy: 0.9545, Testing Accuracy: 0.9632\n",
      "\n"
     ]
    },
    {
     "name": "stdout",
     "output_type": "stream",
     "text": [
      "Epoch 140, Loss 0.0422\n",
      "Training Accuracy: 0.9556, Testing Accuracy: 0.9642\n",
      "\n"
     ]
    },
    {
     "name": "stdout",
     "output_type": "stream",
     "text": [
      "Epoch 150, Loss 0.0414\n",
      "Training Accuracy: 0.9559, Testing Accuracy: 0.9652\n",
      "\n"
     ]
    },
    {
     "name": "stdout",
     "output_type": "stream",
     "text": [
      "Epoch 160, Loss 0.0407\n",
      "Training Accuracy: 0.9564, Testing Accuracy: 0.9652\n",
      "\n"
     ]
    },
    {
     "name": "stdout",
     "output_type": "stream",
     "text": [
      "Epoch 170, Loss 0.0401\n",
      "Training Accuracy: 0.9573, Testing Accuracy: 0.9647\n",
      "\n"
     ]
    },
    {
     "name": "stdout",
     "output_type": "stream",
     "text": [
      "Epoch 180, Loss 0.0396\n",
      "Training Accuracy: 0.9576, Testing Accuracy: 0.9647\n",
      "\n"
     ]
    },
    {
     "name": "stdout",
     "output_type": "stream",
     "text": [
      "Epoch 190, Loss 0.039\n",
      "Training Accuracy: 0.9584, Testing Accuracy: 0.9652\n",
      "\n"
     ]
    },
    {
     "name": "stdout",
     "output_type": "stream",
     "text": [
      "Epoch 200, Loss 0.0386\n",
      "Training Accuracy: 0.9588, Testing Accuracy: 0.9652\n",
      "\n"
     ]
    },
    {
     "name": "stdout",
     "output_type": "stream",
     "text": [
      "Epoch 210, Loss 0.0381\n",
      "Training Accuracy: 0.9589, Testing Accuracy: 0.9652\n",
      "\n"
     ]
    },
    {
     "name": "stdout",
     "output_type": "stream",
     "text": [
      "Epoch 220, Loss 0.0377\n",
      "Training Accuracy: 0.9596, Testing Accuracy: 0.9652\n",
      "\n"
     ]
    },
    {
     "name": "stdout",
     "output_type": "stream",
     "text": [
      "Epoch 230, Loss 0.0373\n",
      "Training Accuracy: 0.9601, Testing Accuracy: 0.9647\n",
      "\n"
     ]
    },
    {
     "name": "stdout",
     "output_type": "stream",
     "text": [
      "Epoch 240, Loss 0.037\n",
      "Training Accuracy: 0.9607, Testing Accuracy: 0.9647\n",
      "\n"
     ]
    },
    {
     "data": {
      "text/plain": [
       "0.01874941709704355"
      ]
     },
     "execution_count": 23,
     "metadata": {},
     "output_type": "execute_result"
    }
   ],
   "source": [
    "lr_learner.train_loop(dl)"
   ]
  },
  {
   "cell_type": "code",
   "execution_count": 24,
   "id": "ca410940",
   "metadata": {
    "execution": {
     "iopub.execute_input": "2022-07-04T00:45:23.000160Z",
     "iopub.status.busy": "2022-07-04T00:45:22.999556Z",
     "iopub.status.idle": "2022-07-04T00:45:23.219369Z",
     "shell.execute_reply": "2022-07-04T00:45:23.220254Z"
    },
    "papermill": {
     "duration": 0.276219,
     "end_time": "2022-07-04T00:45:23.220403",
     "exception": false,
     "start_time": "2022-07-04T00:45:22.944184",
     "status": "completed"
    },
    "tags": []
   },
   "outputs": [
    {
     "data": {
      "text/plain": [
       "<matplotlib.legend.Legend at 0x7fce6d626550>"
      ]
     },
     "execution_count": 24,
     "metadata": {},
     "output_type": "execute_result"
    },
    {
     "data": {
      "image/png": "[encoded data removed]",
      "text/plain": [
       "<Figure size 1080x720 with 1 Axes>"
      ]
     },
     "metadata": {
      "needs_background": "light"
     },
     "output_type": "display_data"
    }
   ],
   "source": [
    "#comparing the results of NN and LR\n",
    "plt.figure(figsize=(15,10))\n",
    "\n",
    "# Neural Network plots\n",
    "plt.plot(acc_nn.accuracies, 'r-', label = \"Training Accuracies - NN\")\n",
    "plt.plot(acc_nn.test_accuracies, 'g-', label = \"Testing Accuracies - NN\")\n",
    "\n",
    "# Logistic Regression plots\n",
    "plt.plot(acc_lr.accuracies, 'k-', label = \"Training Accuracies - LR\")\n",
    "plt.plot(acc_lr.test_accuracies, 'b-', label = \"Testing Accuracies - LR\")\n",
    "plt.legend()"
   ]
  },
  {
   "cell_type": "markdown",
   "id": "80dfb35c",
   "metadata": {
    "papermill": {
     "duration": 0.041692,
     "end_time": "2022-07-04T00:45:23.303927",
     "exception": false,
     "start_time": "2022-07-04T00:45:23.262235",
     "status": "completed"
    },
    "tags": []
   },
   "source": [
    "#### Plotting the outputs of this layer of the NN.\n"
   ]
  },
  {
   "cell_type": "code",
   "execution_count": 25,
   "id": "45eb2ff5",
   "metadata": {
    "execution": {
     "iopub.execute_input": "2022-07-04T00:45:23.391440Z",
     "iopub.status.busy": "2022-07-04T00:45:23.390131Z",
     "iopub.status.idle": "2022-07-04T00:45:23.410685Z",
     "shell.execute_reply": "2022-07-04T00:45:23.410152Z"
    },
    "papermill": {
     "duration": 0.065388,
     "end_time": "2022-07-04T00:45:23.410810",
     "exception": false,
     "start_time": "2022-07-04T00:45:23.345422",
     "status": "completed"
    },
    "tags": []
   },
   "outputs": [],
   "source": [
    "new_model = Model(layers[:-2])\n",
    "testing_plot = new_model(testing_data_x)"
   ]
  },
  {
   "cell_type": "code",
   "execution_count": 26,
   "id": "4c0a5485",
   "metadata": {
    "execution": {
     "iopub.execute_input": "2022-07-04T00:45:23.502725Z",
     "iopub.status.busy": "2022-07-04T00:45:23.500830Z",
     "iopub.status.idle": "2022-07-04T00:45:23.684019Z",
     "shell.execute_reply": "2022-07-04T00:45:23.683472Z"
    },
    "papermill": {
     "duration": 0.231264,
     "end_time": "2022-07-04T00:45:23.684156",
     "exception": false,
     "start_time": "2022-07-04T00:45:23.452892",
     "status": "completed"
    },
    "tags": []
   },
   "outputs": [
    {
     "data": {
      "text/plain": [
       "Text(0.5, 1.0, 'Outputs')"
      ]
     },
     "execution_count": 26,
     "metadata": {},
     "output_type": "execute_result"
    },
    {
     "data": {
      "image/png": "[encoded data removed]",
      "text/plain": [
       "<Figure size 576x504 with 1 Axes>"
      ]
     },
     "metadata": {
      "needs_background": "light"
     },
     "output_type": "display_data"
    }
   ],
   "source": [
    "# Plotting the scatter plot of points and color coding by class\n",
    "plt.figure(figsize=(8,7))\n",
    "plt.scatter(testing_plot[:,0], testing_plot[:,1], alpha = 0.1, c = y_test.ravel());\n",
    "plt.title('Outputs')"
   ]
  },
  {
   "cell_type": "markdown",
   "id": "a74fcf8f",
   "metadata": {
    "papermill": {
     "duration": 0.043349,
     "end_time": "2022-07-04T00:45:23.771586",
     "exception": false,
     "start_time": "2022-07-04T00:45:23.728237",
     "status": "completed"
    },
    "tags": []
   },
   "source": [
    "Probability contours"
   ]
  },
  {
   "cell_type": "code",
   "execution_count": 27,
   "id": "d0afc8e3",
   "metadata": {
    "execution": {
     "iopub.execute_input": "2022-07-04T00:45:23.900148Z",
     "iopub.status.busy": "2022-07-04T00:45:23.899535Z",
     "iopub.status.idle": "2022-07-04T00:45:23.906667Z",
     "shell.execute_reply": "2022-07-04T00:45:23.907142Z"
    },
    "papermill": {
     "duration": 0.09207,
     "end_time": "2022-07-04T00:45:23.907278",
     "exception": false,
     "start_time": "2022-07-04T00:45:23.815208",
     "status": "completed"
    },
    "tags": []
   },
   "outputs": [],
   "source": [
    "model_prob = Model(layers[-2:]) "
   ]
  },
  {
   "cell_type": "code",
   "execution_count": 28,
   "id": "9b96e238",
   "metadata": {
    "execution": {
     "iopub.execute_input": "2022-07-04T00:45:24.005324Z",
     "iopub.status.busy": "2022-07-04T00:45:23.998839Z",
     "iopub.status.idle": "2022-07-04T00:45:24.017809Z",
     "shell.execute_reply": "2022-07-04T00:45:24.017241Z"
    },
    "papermill": {
     "duration": 0.066919,
     "end_time": "2022-07-04T00:45:24.017922",
     "exception": false,
     "start_time": "2022-07-04T00:45:23.951003",
     "status": "completed"
    },
    "tags": []
   },
   "outputs": [],
   "source": [
    "#creating the x and y ranges according to the above generated plot.\n",
    "x_range = np.linspace(-4, 1, 100) \n",
    "y_range = np.linspace(-6, 6, 100) \n",
    "x_grid, y_grid = np.meshgrid(x_range, y_range) # x_grid and y_grig are of size 100 X 100\n",
    "\n",
    "# converting x_grid and y_grid to continuous arrays\n",
    "x_gridflat = np.ravel(x_grid)\n",
    "y_gridflat = np.ravel(y_grid)\n",
    "\n",
    "# The last layer of the current model takes two columns as input. Hence transpose of np.vstack() is required.\n",
    "X = np.vstack((x_gridflat, y_gridflat)).T\n",
    "\n",
    "prob_contour = model_prob(X).reshape(100,100) "
   ]
  },
  {
   "cell_type": "code",
   "execution_count": 29,
   "id": "da72499a",
   "metadata": {
    "execution": {
     "iopub.execute_input": "2022-07-04T00:45:24.109688Z",
     "iopub.status.busy": "2022-07-04T00:45:24.109107Z",
     "iopub.status.idle": "2022-07-04T00:45:24.345889Z",
     "shell.execute_reply": "2022-07-04T00:45:24.345391Z"
    },
    "papermill": {
     "duration": 0.284391,
     "end_time": "2022-07-04T00:45:24.346010",
     "exception": false,
     "start_time": "2022-07-04T00:45:24.061619",
     "status": "completed"
    },
    "tags": []
   },
   "outputs": [
    {
     "data": {
      "image/png": "[encoded data removed]",
      "text/plain": [
       "<Figure size 720x648 with 1 Axes>"
      ]
     },
     "metadata": {
      "needs_background": "light"
     },
     "output_type": "display_data"
    }
   ],
   "source": [
    "plt.figure(figsize=(10,9))\n",
    "plt.scatter(testing_plot[:,0], testing_plot[:,1], alpha = 0.1, c = y_test.ravel())\n",
    "contours = plt.contour(x_grid,y_grid,prob_contour)\n",
    "plt.title('Probability Contours')\n",
    "plt.clabel(contours, inline = True );"
   ]
  },
  {
   "cell_type": "code",
   "execution_count": null,
   "id": "e81b4ac7",
   "metadata": {
    "papermill": {
     "duration": 0.046823,
     "end_time": "2022-07-04T00:45:24.440502",
     "exception": false,
     "start_time": "2022-07-04T00:45:24.393679",
     "status": "completed"
    },
    "tags": []
   },
   "outputs": [],
   "source": []
  }
 ],
 "metadata": {
  "kernelspec": {
   "display_name": "Python 3",
   "language": "python",
   "name": "python3"
  },
  "language_info": {
   "codemirror_mode": {
    "name": "ipython",
    "version": 3
   },
   "file_extension": ".py",
   "mimetype": "text/x-python",
   "name": "python",
   "nbconvert_exporter": "python",
   "pygments_lexer": "ipython3",
   "version": "3.6.15"
  },
  "papermill": {
   "default_parameters": {},
   "duration": 97.68278,
   "end_time": "2022-07-04T00:45:24.906844",
   "environment_variables": {},
   "exception": null,
   "input_path": "2020-08-11-part2.ipynb",
   "output_path": "2020-08-11-part2.ipynb",
   "parameters": {},
   "start_time": "2022-07-04T00:43:47.224064",
   "version": "2.3.3"
  }
 },
 "nbformat": 4,
 "nbformat_minor": 5
}