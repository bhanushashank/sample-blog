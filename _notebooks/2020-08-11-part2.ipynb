{
 "cells": [
  {
   "cell_type": "markdown",
   "id": "98380cd3",
   "metadata": {
    "papermill": {
     "duration": 0.028498,
     "end_time": "2021-12-15T20:08:15.326619",
     "exception": false,
     "start_time": "2021-12-15T20:08:15.298121",
     "status": "completed"
    },
    "tags": []
   },
   "source": [
    "# Distinguish Your Own Digits (DYOD)"
   ]
  },
  {
   "cell_type": "markdown",
   "id": "ef31240d",
   "metadata": {
    "papermill": {
     "duration": 0.023801,
     "end_time": "2021-12-15T20:08:15.374908",
     "exception": false,
     "start_time": "2021-12-15T20:08:15.351107",
     "status": "completed"
    },
    "tags": []
   },
   "source": [
    "You are going to write a classifier that distinguishes between the number 3 and number 8."
   ]
  },
  {
   "cell_type": "code",
   "execution_count": 1,
   "id": "b15c8646",
   "metadata": {
    "execution": {
     "iopub.execute_input": "2021-12-15T20:08:15.456820Z",
     "iopub.status.busy": "2021-12-15T20:08:15.456291Z",
     "iopub.status.idle": "2021-12-15T20:08:15.466534Z",
     "shell.execute_reply": "2021-12-15T20:08:15.466111Z"
    },
    "papermill": {
     "duration": 0.045819,
     "end_time": "2021-12-15T20:08:15.466660",
     "exception": false,
     "start_time": "2021-12-15T20:08:15.420841",
     "status": "completed"
    },
    "tags": []
   },
   "outputs": [],
   "source": [
    "%load_ext autoreload\n",
    "%autoreload 2"
   ]
  },
  {
   "cell_type": "code",
   "execution_count": 2,
   "id": "22ef38dc",
   "metadata": {
    "execution": {
     "iopub.execute_input": "2021-12-15T20:08:15.518418Z",
     "iopub.status.busy": "2021-12-15T20:08:15.517899Z",
     "iopub.status.idle": "2021-12-15T20:08:16.106991Z",
     "shell.execute_reply": "2021-12-15T20:08:16.106451Z"
    },
    "papermill": {
     "duration": 0.616632,
     "end_time": "2021-12-15T20:08:16.107128",
     "exception": false,
     "start_time": "2021-12-15T20:08:15.490496",
     "status": "completed"
    },
    "tags": []
   },
   "outputs": [],
   "source": [
    "%matplotlib inline\n",
    "import numpy as np\n",
    "import matplotlib.pyplot as plt\n",
    "import pandas as pd"
   ]
  },
  {
   "cell_type": "markdown",
   "id": "ba036198",
   "metadata": {
    "papermill": {
     "duration": 0.024286,
     "end_time": "2021-12-15T20:08:16.155820",
     "exception": false,
     "start_time": "2021-12-15T20:08:16.131534",
     "status": "completed"
    },
    "tags": []
   },
   "source": [
    "From the command line run `pip install mnist`. This is a library that will help you bring down the mnist dataset. If you run this from a notebook, you need to put  `!pip install mnist` in a cell by itself."
   ]
  },
  {
   "cell_type": "code",
   "execution_count": 3,
   "id": "bb6ad8a1",
   "metadata": {
    "execution": {
     "iopub.execute_input": "2021-12-15T20:08:16.207824Z",
     "iopub.status.busy": "2021-12-15T20:08:16.207309Z",
     "iopub.status.idle": "2021-12-15T20:08:17.960585Z",
     "shell.execute_reply": "2021-12-15T20:08:17.960052Z"
    },
    "papermill": {
     "duration": 1.781093,
     "end_time": "2021-12-15T20:08:17.960725",
     "exception": false,
     "start_time": "2021-12-15T20:08:16.179632",
     "status": "completed"
    },
    "tags": []
   },
   "outputs": [
    {
     "name": "stdout",
     "output_type": "stream",
     "text": [
      "Collecting mnist\r\n"
     ]
    },
    {
     "name": "stdout",
     "output_type": "stream",
     "text": [
      "  Downloading mnist-0.2.2-py2.py3-none-any.whl (3.5 kB)\r\n",
      "Requirement already satisfied: numpy in /opt/hostedtoolcache/Python/3.6.15/x64/lib/python3.6/site-packages (from mnist) (1.19.5)\r\n"
     ]
    },
    {
     "name": "stdout",
     "output_type": "stream",
     "text": [
      "Installing collected packages: mnist\r\n",
      "Successfully installed mnist-0.2.2\r\n"
     ]
    }
   ],
   "source": [
    "!pip install mnist"
   ]
  },
  {
   "cell_type": "markdown",
   "id": "69df9c9a",
   "metadata": {
    "papermill": {
     "duration": 0.024871,
     "end_time": "2021-12-15T20:08:18.011612",
     "exception": false,
     "start_time": "2021-12-15T20:08:17.986741",
     "status": "completed"
    },
    "tags": []
   },
   "source": [
    "## Preparing the Data"
   ]
  },
  {
   "cell_type": "code",
   "execution_count": 4,
   "id": "7f69d806",
   "metadata": {
    "execution": {
     "iopub.execute_input": "2021-12-15T20:08:18.067927Z",
     "iopub.status.busy": "2021-12-15T20:08:18.067393Z",
     "iopub.status.idle": "2021-12-15T20:08:18.080504Z",
     "shell.execute_reply": "2021-12-15T20:08:18.080059Z"
    },
    "papermill": {
     "duration": 0.044161,
     "end_time": "2021-12-15T20:08:18.080630",
     "exception": false,
     "start_time": "2021-12-15T20:08:18.036469",
     "status": "completed"
    },
    "tags": []
   },
   "outputs": [],
   "source": [
    "import mnist"
   ]
  },
  {
   "cell_type": "code",
   "execution_count": 5,
   "id": "a411e44f",
   "metadata": {
    "execution": {
     "iopub.execute_input": "2021-12-15T20:08:18.134358Z",
     "iopub.status.busy": "2021-12-15T20:08:18.133830Z",
     "iopub.status.idle": "2021-12-15T20:08:18.697728Z",
     "shell.execute_reply": "2021-12-15T20:08:18.698207Z"
    },
    "papermill": {
     "duration": 0.592585,
     "end_time": "2021-12-15T20:08:18.698371",
     "exception": false,
     "start_time": "2021-12-15T20:08:18.105786",
     "status": "completed"
    },
    "tags": []
   },
   "outputs": [],
   "source": [
    "train_images = mnist.train_images()\n",
    "train_labels = mnist.train_labels()"
   ]
  },
  {
   "cell_type": "code",
   "execution_count": 6,
   "id": "dceab3a5",
   "metadata": {
    "execution": {
     "iopub.execute_input": "2021-12-15T20:08:18.754743Z",
     "iopub.status.busy": "2021-12-15T20:08:18.753378Z",
     "iopub.status.idle": "2021-12-15T20:08:18.766734Z",
     "shell.execute_reply": "2021-12-15T20:08:18.767169Z"
    },
    "papermill": {
     "duration": 0.043583,
     "end_time": "2021-12-15T20:08:18.767303",
     "exception": false,
     "start_time": "2021-12-15T20:08:18.723720",
     "status": "completed"
    },
    "tags": []
   },
   "outputs": [
    {
     "data": {
      "text/plain": [
       "((60000, 28, 28), (60000,))"
      ]
     },
     "execution_count": 6,
     "metadata": {},
     "output_type": "execute_result"
    }
   ],
   "source": [
    "train_images.shape, train_labels.shape"
   ]
  },
  {
   "cell_type": "code",
   "execution_count": 7,
   "id": "f50dc2bb",
   "metadata": {
    "execution": {
     "iopub.execute_input": "2021-12-15T20:08:18.821599Z",
     "iopub.status.busy": "2021-12-15T20:08:18.821067Z",
     "iopub.status.idle": "2021-12-15T20:08:19.050569Z",
     "shell.execute_reply": "2021-12-15T20:08:19.051048Z"
    },
    "papermill": {
     "duration": 0.258601,
     "end_time": "2021-12-15T20:08:19.051214",
     "exception": false,
     "start_time": "2021-12-15T20:08:18.792613",
     "status": "completed"
    },
    "tags": []
   },
   "outputs": [],
   "source": [
    "test_images = mnist.test_images()\n",
    "test_labels = mnist.test_labels()"
   ]
  },
  {
   "cell_type": "code",
   "execution_count": 8,
   "id": "fc38cf1b",
   "metadata": {
    "execution": {
     "iopub.execute_input": "2021-12-15T20:08:19.115019Z",
     "iopub.status.busy": "2021-12-15T20:08:19.114461Z",
     "iopub.status.idle": "2021-12-15T20:08:19.124090Z",
     "shell.execute_reply": "2021-12-15T20:08:19.123658Z"
    },
    "papermill": {
     "duration": 0.046658,
     "end_time": "2021-12-15T20:08:19.124211",
     "exception": false,
     "start_time": "2021-12-15T20:08:19.077553",
     "status": "completed"
    },
    "tags": []
   },
   "outputs": [
    {
     "data": {
      "text/plain": [
       "((10000, 28, 28), (10000,))"
      ]
     },
     "execution_count": 8,
     "metadata": {},
     "output_type": "execute_result"
    }
   ],
   "source": [
    "test_images.shape, test_labels.shape"
   ]
  },
  {
   "cell_type": "code",
   "execution_count": 9,
   "id": "f9ed8fe0",
   "metadata": {
    "execution": {
     "iopub.execute_input": "2021-12-15T20:08:19.190238Z",
     "iopub.status.busy": "2021-12-15T20:08:19.184994Z",
     "iopub.status.idle": "2021-12-15T20:08:19.322631Z",
     "shell.execute_reply": "2021-12-15T20:08:19.322121Z"
    },
    "papermill": {
     "duration": 0.173142,
     "end_time": "2021-12-15T20:08:19.322766",
     "exception": false,
     "start_time": "2021-12-15T20:08:19.149624",
     "status": "completed"
    },
    "tags": []
   },
   "outputs": [
    {
     "name": "stdout",
     "output_type": "stream",
     "text": [
      "2\n"
     ]
    },
    {
     "data": {
      "text/plain": [
       "<matplotlib.image.AxesImage at 0x7f6aa3cba588>"
      ]
     },
     "execution_count": 9,
     "metadata": {},
     "output_type": "execute_result"
    },
    {
     "data": {
      "image/png": "[encoded data removed]",
      "text/plain": [
       "<Figure size 432x288 with 1 Axes>"
      ]
     },
     "metadata": {
      "needs_background": "light"
     },
     "output_type": "display_data"
    }
   ],
   "source": [
    "image_index = 7776 # You may select anything up to 60,000\n",
    "print(train_labels[image_index]) \n",
    "plt.imshow(train_images[image_index], cmap='Greys')"
   ]
  },
  {
   "cell_type": "markdown",
   "id": "a8d2388d",
   "metadata": {
    "papermill": {
     "duration": 0.026668,
     "end_time": "2021-12-15T20:08:19.375982",
     "exception": false,
     "start_time": "2021-12-15T20:08:19.349314",
     "status": "completed"
    },
    "tags": []
   },
   "source": [
    "## Filter data to get 3 and 8 out"
   ]
  },
  {
   "cell_type": "code",
   "execution_count": 10,
   "id": "776f7fc7",
   "metadata": {
    "execution": {
     "iopub.execute_input": "2021-12-15T20:08:19.433023Z",
     "iopub.status.busy": "2021-12-15T20:08:19.432464Z",
     "iopub.status.idle": "2021-12-15T20:08:19.450607Z",
     "shell.execute_reply": "2021-12-15T20:08:19.450189Z"
    },
    "papermill": {
     "duration": 0.048412,
     "end_time": "2021-12-15T20:08:19.450723",
     "exception": false,
     "start_time": "2021-12-15T20:08:19.402311",
     "status": "completed"
    },
    "tags": []
   },
   "outputs": [],
   "source": [
    "train_filter = np.where((train_labels == 3 ) | (train_labels == 8))\n",
    "test_filter = np.where((test_labels == 3) | (test_labels == 8))\n",
    "X_train, y_train = train_images[train_filter], train_labels[train_filter]\n",
    "X_test, y_test = test_images[test_filter], test_labels[test_filter]"
   ]
  },
  {
   "cell_type": "markdown",
   "id": "948f0b7e",
   "metadata": {
    "papermill": {
     "duration": 0.026012,
     "end_time": "2021-12-15T20:08:19.503054",
     "exception": false,
     "start_time": "2021-12-15T20:08:19.477042",
     "status": "completed"
    },
    "tags": []
   },
   "source": [
    "We normalize the pizel values in the 0 to 1 range"
   ]
  },
  {
   "cell_type": "code",
   "execution_count": 11,
   "id": "ee4c2166",
   "metadata": {
    "execution": {
     "iopub.execute_input": "2021-12-15T20:08:19.560151Z",
     "iopub.status.busy": "2021-12-15T20:08:19.559618Z",
     "iopub.status.idle": "2021-12-15T20:08:19.606878Z",
     "shell.execute_reply": "2021-12-15T20:08:19.606419Z"
    },
    "papermill": {
     "duration": 0.077827,
     "end_time": "2021-12-15T20:08:19.607000",
     "exception": false,
     "start_time": "2021-12-15T20:08:19.529173",
     "status": "completed"
    },
    "tags": []
   },
   "outputs": [],
   "source": [
    "X_train = X_train/255.\n",
    "X_test = X_test/255."
   ]
  },
  {
   "cell_type": "markdown",
   "id": "ddcf4fab",
   "metadata": {
    "papermill": {
     "duration": 0.026981,
     "end_time": "2021-12-15T20:08:19.660988",
     "exception": false,
     "start_time": "2021-12-15T20:08:19.634007",
     "status": "completed"
    },
    "tags": []
   },
   "source": [
    "And setup the labels as 1 (when the digit is 3) and 0 (when the digit is 8)"
   ]
  },
  {
   "cell_type": "code",
   "execution_count": 12,
   "id": "7dc908f2",
   "metadata": {
    "execution": {
     "iopub.execute_input": "2021-12-15T20:08:19.717355Z",
     "iopub.status.busy": "2021-12-15T20:08:19.716778Z",
     "iopub.status.idle": "2021-12-15T20:08:19.728738Z",
     "shell.execute_reply": "2021-12-15T20:08:19.728315Z"
    },
    "papermill": {
     "duration": 0.041471,
     "end_time": "2021-12-15T20:08:19.728851",
     "exception": false,
     "start_time": "2021-12-15T20:08:19.687380",
     "status": "completed"
    },
    "tags": []
   },
   "outputs": [],
   "source": [
    "y_train = 1*(y_train==3)\n",
    "y_test = 1*(y_test==3)"
   ]
  },
  {
   "cell_type": "code",
   "execution_count": 13,
   "id": "01e4e969",
   "metadata": {
    "execution": {
     "iopub.execute_input": "2021-12-15T20:08:19.785834Z",
     "iopub.status.busy": "2021-12-15T20:08:19.785323Z",
     "iopub.status.idle": "2021-12-15T20:08:19.798626Z",
     "shell.execute_reply": "2021-12-15T20:08:19.798213Z"
    },
    "papermill": {
     "duration": 0.04317,
     "end_time": "2021-12-15T20:08:19.798737",
     "exception": false,
     "start_time": "2021-12-15T20:08:19.755567",
     "status": "completed"
    },
    "tags": []
   },
   "outputs": [
    {
     "data": {
      "text/plain": [
       "((11982, 28, 28), (1984, 28, 28))"
      ]
     },
     "execution_count": 13,
     "metadata": {},
     "output_type": "execute_result"
    }
   ],
   "source": [
    "X_train.shape, X_test.shape"
   ]
  },
  {
   "cell_type": "markdown",
   "id": "5ccf3f85",
   "metadata": {
    "papermill": {
     "duration": 0.026437,
     "end_time": "2021-12-15T20:08:19.851701",
     "exception": false,
     "start_time": "2021-12-15T20:08:19.825264",
     "status": "completed"
    },
    "tags": []
   },
   "source": [
    "We reshape the data to flatten the image pixels into a set of features or co-variates:"
   ]
  },
  {
   "cell_type": "code",
   "execution_count": 14,
   "id": "5286a4a3",
   "metadata": {
    "execution": {
     "iopub.execute_input": "2021-12-15T20:08:19.917864Z",
     "iopub.status.busy": "2021-12-15T20:08:19.914086Z",
     "iopub.status.idle": "2021-12-15T20:08:19.924607Z",
     "shell.execute_reply": "2021-12-15T20:08:19.923895Z"
    },
    "papermill": {
     "duration": 0.046292,
     "end_time": "2021-12-15T20:08:19.924724",
     "exception": false,
     "start_time": "2021-12-15T20:08:19.878432",
     "status": "completed"
    },
    "tags": []
   },
   "outputs": [
    {
     "data": {
      "text/plain": [
       "((11982, 784), (1984, 784))"
      ]
     },
     "execution_count": 14,
     "metadata": {},
     "output_type": "execute_result"
    }
   ],
   "source": [
    "X_train = X_train.reshape(X_train.shape[0], -1)\n",
    "X_test = X_test.reshape(X_test.shape[0], -1)\n",
    "X_train.shape, X_test.shape"
   ]
  },
  {
   "cell_type": "code",
   "execution_count": 15,
   "id": "73c5f88a",
   "metadata": {
    "execution": {
     "iopub.execute_input": "2021-12-15T20:08:19.983036Z",
     "iopub.status.busy": "2021-12-15T20:08:19.982513Z",
     "iopub.status.idle": "2021-12-15T20:08:20.000697Z",
     "shell.execute_reply": "2021-12-15T20:08:20.000282Z"
    },
    "papermill": {
     "duration": 0.0492,
     "end_time": "2021-12-15T20:08:20.000811",
     "exception": false,
     "start_time": "2021-12-15T20:08:19.951611",
     "status": "completed"
    },
    "tags": []
   },
   "outputs": [],
   "source": [
    "#Impoting functions from 'Kudzu'\n",
    "from kudzu.model import Model\n",
    "from kudzu.train import Learner\n",
    "from kudzu.optim import GD\n",
    "from kudzu.data import Data, Sampler,Dataloader\n",
    "\n",
    "from kudzu.callbacks import AccCallback\n",
    "from kudzu.callbacks import ClfCallback\n",
    "\n",
    "from kudzu.loss import MSE\n",
    "\n",
    "from kudzu.layer import Sigmoid,Relu\n",
    "from kudzu.layer import Affine"
   ]
  },
  {
   "cell_type": "markdown",
   "id": "bc01172a",
   "metadata": {
    "papermill": {
     "duration": 0.026938,
     "end_time": "2021-12-15T20:08:20.054833",
     "exception": false,
     "start_time": "2021-12-15T20:08:20.027895",
     "status": "completed"
    },
    "tags": []
   },
   "source": [
    "### Let us create a `Config` class, to store important parameters. \n",
    "This class essentially plays the role of a dictionary."
   ]
  },
  {
   "cell_type": "code",
   "execution_count": 16,
   "id": "978281aa",
   "metadata": {
    "execution": {
     "iopub.execute_input": "2021-12-15T20:08:20.112294Z",
     "iopub.status.busy": "2021-12-15T20:08:20.111755Z",
     "iopub.status.idle": "2021-12-15T20:08:20.124850Z",
     "shell.execute_reply": "2021-12-15T20:08:20.125313Z"
    },
    "papermill": {
     "duration": 0.043757,
     "end_time": "2021-12-15T20:08:20.125454",
     "exception": false,
     "start_time": "2021-12-15T20:08:20.081697",
     "status": "completed"
    },
    "tags": []
   },
   "outputs": [],
   "source": [
    "class Config:\n",
    "    pass\n",
    "config = Config()\n",
    "config.lr = 0.001\n",
    "config.num_epochs = 250\n",
    "config.bs = 50"
   ]
  },
  {
   "cell_type": "markdown",
   "id": "1385fa59",
   "metadata": {
    "papermill": {
     "duration": 0.026842,
     "end_time": "2021-12-15T20:08:20.179676",
     "exception": false,
     "start_time": "2021-12-15T20:08:20.152834",
     "status": "completed"
    },
    "tags": []
   },
   "source": [
    "### Running Models with the Training data\n",
    "Details about the network layers:\n",
    "- A first affine layer has 784 inputs and does 100 affine transforms. These are followed by a Relu\n",
    "- A second affine layer has 100 inputs from the 100 activations of the past layer, and does 100 affine transforms. These are followed by a Relu\n",
    "- A third affine layer has 100 activations and does 2 affine transformations to create an embedding for visualization. There is no non-linearity here.\n",
    "- A final \"logistic regression\" which has an affine transform from 2 inputs to 1 output, which is squeezed through a sigmoid.\n"
   ]
  },
  {
   "cell_type": "code",
   "execution_count": 17,
   "id": "2b9c66db",
   "metadata": {
    "execution": {
     "iopub.execute_input": "2021-12-15T20:08:20.252221Z",
     "iopub.status.busy": "2021-12-15T20:08:20.249907Z",
     "iopub.status.idle": "2021-12-15T20:08:20.254191Z",
     "shell.execute_reply": "2021-12-15T20:08:20.254578Z"
    },
    "papermill": {
     "duration": 0.048163,
     "end_time": "2021-12-15T20:08:20.254717",
     "exception": false,
     "start_time": "2021-12-15T20:08:20.206554",
     "status": "completed"
    },
    "tags": []
   },
   "outputs": [],
   "source": [
    "data = Data(X_train, y_train.reshape(-1,1))\n",
    "sampler = Sampler(data, config.bs, shuffle=True)\n",
    "\n",
    "dl = Dataloader(data, sampler)\n",
    "\n",
    "opt = GD(config.lr)\n",
    "loss = MSE()"
   ]
  },
  {
   "cell_type": "code",
   "execution_count": 18,
   "id": "b275e4c2",
   "metadata": {
    "execution": {
     "iopub.execute_input": "2021-12-15T20:08:20.324989Z",
     "iopub.status.busy": "2021-12-15T20:08:20.324389Z",
     "iopub.status.idle": "2021-12-15T20:08:20.330743Z",
     "shell.execute_reply": "2021-12-15T20:08:20.330321Z"
    },
    "papermill": {
     "duration": 0.048894,
     "end_time": "2021-12-15T20:08:20.330861",
     "exception": false,
     "start_time": "2021-12-15T20:08:20.281967",
     "status": "completed"
    },
    "tags": []
   },
   "outputs": [],
   "source": [
    "training_data_x = X_train\n",
    "testing_data_x = X_test\n",
    "training_data_y = y_train.reshape(-1,1)\n",
    "testing_data_y = y_test.reshape(-1,1)"
   ]
  },
  {
   "cell_type": "code",
   "execution_count": 19,
   "id": "76951160",
   "metadata": {
    "execution": {
     "iopub.execute_input": "2021-12-15T20:08:20.389342Z",
     "iopub.status.busy": "2021-12-15T20:08:20.388790Z",
     "iopub.status.idle": "2021-12-15T20:08:20.404794Z",
     "shell.execute_reply": "2021-12-15T20:08:20.404360Z"
    },
    "papermill": {
     "duration": 0.047278,
     "end_time": "2021-12-15T20:08:20.404929",
     "exception": false,
     "start_time": "2021-12-15T20:08:20.357651",
     "status": "completed"
    },
    "tags": []
   },
   "outputs": [
    {
     "name": "stdout",
     "output_type": "stream",
     "text": [
      "xavier\n",
      "xavier\n",
      "xavier\n",
      "xavier\n",
      "xavier\n"
     ]
    }
   ],
   "source": [
    "layers = [Affine(\"first\", 784, 100), Relu(\"first\"), Affine(\"second\", 100, 100), Relu(\"second\"), Affine(\"third\", 100, 2), Affine(\"last\", 2, 1), Sigmoid(\"last\")]\n",
    "model_nn = Model(layers)\n",
    "model_lr = Model([Affine(\"logits\", 784, 1), Sigmoid(\"sigmoid\")])"
   ]
  },
  {
   "cell_type": "code",
   "execution_count": 20,
   "id": "6eede77a",
   "metadata": {
    "execution": {
     "iopub.execute_input": "2021-12-15T20:08:20.463573Z",
     "iopub.status.busy": "2021-12-15T20:08:20.463057Z",
     "iopub.status.idle": "2021-12-15T20:08:20.475983Z",
     "shell.execute_reply": "2021-12-15T20:08:20.475550Z"
    },
    "papermill": {
     "duration": 0.043882,
     "end_time": "2021-12-15T20:08:20.476102",
     "exception": false,
     "start_time": "2021-12-15T20:08:20.432220",
     "status": "completed"
    },
    "tags": []
   },
   "outputs": [],
   "source": [
    "nn_learner = Learner(loss, model_nn, opt, config.num_epochs)\n",
    "acc_nn = ClfCallback(nn_learner, config.bs, training_data_x , testing_data_x, training_data_y, testing_data_y)\n",
    "nn_learner.set_callbacks([acc_nn])"
   ]
  },
  {
   "cell_type": "code",
   "execution_count": 21,
   "id": "877b6cc7",
   "metadata": {
    "execution": {
     "iopub.execute_input": "2021-12-15T20:08:20.535070Z",
     "iopub.status.busy": "2021-12-15T20:08:20.534436Z",
     "iopub.status.idle": "2021-12-15T20:08:20.548601Z",
     "shell.execute_reply": "2021-12-15T20:08:20.548137Z"
    },
    "papermill": {
     "duration": 0.045286,
     "end_time": "2021-12-15T20:08:20.548719",
     "exception": false,
     "start_time": "2021-12-15T20:08:20.503433",
     "status": "completed"
    },
    "tags": []
   },
   "outputs": [],
   "source": [
    "lr_learner = Learner(loss, model_lr, opt, config.num_epochs)\n",
    "acc_lr = ClfCallback(lr_learner, config.bs, training_data_x , testing_data_x, training_data_y, testing_data_y)\n",
    "lr_learner.set_callbacks([acc_lr])"
   ]
  },
  {
   "cell_type": "code",
   "execution_count": 22,
   "id": "d9b133c3",
   "metadata": {
    "execution": {
     "iopub.execute_input": "2021-12-15T20:08:20.620985Z",
     "iopub.status.busy": "2021-12-15T20:08:20.620412Z",
     "iopub.status.idle": "2021-12-15T20:09:34.648414Z",
     "shell.execute_reply": "2021-12-15T20:09:34.649170Z"
    },
    "papermill": {
     "duration": 74.072832,
     "end_time": "2021-12-15T20:09:34.649324",
     "exception": false,
     "start_time": "2021-12-15T20:08:20.576492",
     "status": "completed"
    },
    "tags": []
   },
   "outputs": [
    {
     "name": "stdout",
     "output_type": "stream",
     "text": [
      "Epoch 0, Loss 0.2487\n",
      "Training Accuracy: 0.6353, Testing Accuracy: 0.6366\n",
      "\n"
     ]
    },
    {
     "name": "stdout",
     "output_type": "stream",
     "text": [
      "Epoch 10, Loss 0.1027\n",
      "Training Accuracy: 0.9042, Testing Accuracy: 0.9168\n",
      "\n"
     ]
    },
    {
     "name": "stdout",
     "output_type": "stream",
     "text": [
      "Epoch 20, Loss 0.0611\n",
      "Training Accuracy: 0.9357, Testing Accuracy: 0.9541\n",
      "\n"
     ]
    },
    {
     "name": "stdout",
     "output_type": "stream",
     "text": [
      "Epoch 30, Loss 0.0469\n",
      "Training Accuracy: 0.9488, Testing Accuracy: 0.9617\n",
      "\n"
     ]
    },
    {
     "name": "stdout",
     "output_type": "stream",
     "text": [
      "Epoch 40, Loss 0.04\n",
      "Training Accuracy: 0.9553, Testing Accuracy: 0.9652\n",
      "\n"
     ]
    },
    {
     "name": "stdout",
     "output_type": "stream",
     "text": [
      "Epoch 50, Loss 0.0359\n",
      "Training Accuracy: 0.9589, Testing Accuracy: 0.9672\n",
      "\n"
     ]
    },
    {
     "name": "stdout",
     "output_type": "stream",
     "text": [
      "Epoch 60, Loss 0.0331\n",
      "Training Accuracy: 0.9624, Testing Accuracy: 0.9677\n",
      "\n"
     ]
    },
    {
     "name": "stdout",
     "output_type": "stream",
     "text": [
      "Epoch 70, Loss 0.0311\n",
      "Training Accuracy: 0.9649, Testing Accuracy: 0.9703\n",
      "\n"
     ]
    },
    {
     "name": "stdout",
     "output_type": "stream",
     "text": [
      "Epoch 80, Loss 0.0296\n",
      "Training Accuracy: 0.9672, Testing Accuracy: 0.9708\n",
      "\n"
     ]
    },
    {
     "name": "stdout",
     "output_type": "stream",
     "text": [
      "Epoch 90, Loss 0.0283\n",
      "Training Accuracy: 0.9680, Testing Accuracy: 0.9713\n",
      "\n"
     ]
    },
    {
     "name": "stdout",
     "output_type": "stream",
     "text": [
      "Epoch 100, Loss 0.0272\n",
      "Training Accuracy: 0.9690, Testing Accuracy: 0.9713\n",
      "\n"
     ]
    },
    {
     "name": "stdout",
     "output_type": "stream",
     "text": [
      "Epoch 110, Loss 0.0263\n",
      "Training Accuracy: 0.9700, Testing Accuracy: 0.9723\n",
      "\n"
     ]
    },
    {
     "name": "stdout",
     "output_type": "stream",
     "text": [
      "Epoch 120, Loss 0.0255\n",
      "Training Accuracy: 0.9706, Testing Accuracy: 0.9728\n",
      "\n"
     ]
    },
    {
     "name": "stdout",
     "output_type": "stream",
     "text": [
      "Epoch 130, Loss 0.0248\n",
      "Training Accuracy: 0.9712, Testing Accuracy: 0.9738\n",
      "\n"
     ]
    },
    {
     "name": "stdout",
     "output_type": "stream",
     "text": [
      "Epoch 140, Loss 0.0241\n",
      "Training Accuracy: 0.9721, Testing Accuracy: 0.9738\n",
      "\n"
     ]
    },
    {
     "name": "stdout",
     "output_type": "stream",
     "text": [
      "Epoch 150, Loss 0.0235\n",
      "Training Accuracy: 0.9727, Testing Accuracy: 0.9743\n",
      "\n"
     ]
    },
    {
     "name": "stdout",
     "output_type": "stream",
     "text": [
      "Epoch 160, Loss 0.023\n",
      "Training Accuracy: 0.9732, Testing Accuracy: 0.9753\n",
      "\n"
     ]
    },
    {
     "name": "stdout",
     "output_type": "stream",
     "text": [
      "Epoch 170, Loss 0.0225\n",
      "Training Accuracy: 0.9740, Testing Accuracy: 0.9753\n",
      "\n"
     ]
    },
    {
     "name": "stdout",
     "output_type": "stream",
     "text": [
      "Epoch 180, Loss 0.022\n",
      "Training Accuracy: 0.9745, Testing Accuracy: 0.9763\n",
      "\n"
     ]
    },
    {
     "name": "stdout",
     "output_type": "stream",
     "text": [
      "Epoch 190, Loss 0.0215\n",
      "Training Accuracy: 0.9751, Testing Accuracy: 0.9763\n",
      "\n"
     ]
    },
    {
     "name": "stdout",
     "output_type": "stream",
     "text": [
      "Epoch 200, Loss 0.0211\n",
      "Training Accuracy: 0.9755, Testing Accuracy: 0.9763\n",
      "\n"
     ]
    },
    {
     "name": "stdout",
     "output_type": "stream",
     "text": [
      "Epoch 210, Loss 0.0207\n",
      "Training Accuracy: 0.9765, Testing Accuracy: 0.9763\n",
      "\n"
     ]
    },
    {
     "name": "stdout",
     "output_type": "stream",
     "text": [
      "Epoch 220, Loss 0.0203\n",
      "Training Accuracy: 0.9770, Testing Accuracy: 0.9763\n",
      "\n"
     ]
    },
    {
     "name": "stdout",
     "output_type": "stream",
     "text": [
      "Epoch 230, Loss 0.0199\n",
      "Training Accuracy: 0.9775, Testing Accuracy: 0.9763\n",
      "\n"
     ]
    },
    {
     "name": "stdout",
     "output_type": "stream",
     "text": [
      "Epoch 240, Loss 0.0195\n",
      "Training Accuracy: 0.9780, Testing Accuracy: 0.9768\n",
      "\n"
     ]
    },
    {
     "data": {
      "text/plain": [
       "0.033467898093625915"
      ]
     },
     "execution_count": 22,
     "metadata": {},
     "output_type": "execute_result"
    }
   ],
   "source": [
    "nn_learner.train_loop(dl)"
   ]
  },
  {
   "cell_type": "code",
   "execution_count": 23,
   "id": "e0163366",
   "metadata": {
    "execution": {
     "iopub.execute_input": "2021-12-15T20:09:34.726630Z",
     "iopub.status.busy": "2021-12-15T20:09:34.726097Z",
     "iopub.status.idle": "2021-12-15T20:09:47.949784Z",
     "shell.execute_reply": "2021-12-15T20:09:47.950534Z"
    },
    "papermill": {
     "duration": 13.266787,
     "end_time": "2021-12-15T20:09:47.950682",
     "exception": false,
     "start_time": "2021-12-15T20:09:34.683895",
     "status": "completed"
    },
    "tags": []
   },
   "outputs": [
    {
     "name": "stdout",
     "output_type": "stream",
     "text": [
      "Epoch 0, Loss 0.2186\n",
      "Training Accuracy: 0.7758, Testing Accuracy: 0.7797\n",
      "\n"
     ]
    },
    {
     "name": "stdout",
     "output_type": "stream",
     "text": [
      "Epoch 10, Loss 0.0997\n",
      "Training Accuracy: 0.9116, Testing Accuracy: 0.9178\n",
      "\n"
     ]
    },
    {
     "name": "stdout",
     "output_type": "stream",
     "text": [
      "Epoch 20, Loss 0.0779\n",
      "Training Accuracy: 0.9285, Testing Accuracy: 0.9360\n",
      "\n"
     ]
    },
    {
     "name": "stdout",
     "output_type": "stream",
     "text": [
      "Epoch 30, Loss 0.0675\n",
      "Training Accuracy: 0.9362, Testing Accuracy: 0.9435\n",
      "\n"
     ]
    },
    {
     "name": "stdout",
     "output_type": "stream",
     "text": [
      "Epoch 40, Loss 0.0611\n",
      "Training Accuracy: 0.9407, Testing Accuracy: 0.9521\n",
      "\n"
     ]
    },
    {
     "name": "stdout",
     "output_type": "stream",
     "text": [
      "Epoch 50, Loss 0.0567\n",
      "Training Accuracy: 0.9440, Testing Accuracy: 0.9561\n",
      "\n"
     ]
    },
    {
     "name": "stdout",
     "output_type": "stream",
     "text": [
      "Epoch 60, Loss 0.0535\n",
      "Training Accuracy: 0.9463, Testing Accuracy: 0.9587\n",
      "\n"
     ]
    },
    {
     "name": "stdout",
     "output_type": "stream",
     "text": [
      "Epoch 70, Loss 0.051\n",
      "Training Accuracy: 0.9483, Testing Accuracy: 0.9592\n",
      "\n"
     ]
    },
    {
     "name": "stdout",
     "output_type": "stream",
     "text": [
      "Epoch 80, Loss 0.049\n",
      "Training Accuracy: 0.9500, Testing Accuracy: 0.9612\n",
      "\n"
     ]
    },
    {
     "name": "stdout",
     "output_type": "stream",
     "text": [
      "Epoch 90, Loss 0.0474\n",
      "Training Accuracy: 0.9520, Testing Accuracy: 0.9622\n",
      "\n"
     ]
    },
    {
     "name": "stdout",
     "output_type": "stream",
     "text": [
      "Epoch 100, Loss 0.046\n",
      "Training Accuracy: 0.9533, Testing Accuracy: 0.9622\n",
      "\n"
     ]
    },
    {
     "name": "stdout",
     "output_type": "stream",
     "text": [
      "Epoch 110, Loss 0.0448\n",
      "Training Accuracy: 0.9544, Testing Accuracy: 0.9637\n",
      "\n"
     ]
    },
    {
     "name": "stdout",
     "output_type": "stream",
     "text": [
      "Epoch 120, Loss 0.0437\n",
      "Training Accuracy: 0.9549, Testing Accuracy: 0.9642\n",
      "\n"
     ]
    },
    {
     "name": "stdout",
     "output_type": "stream",
     "text": [
      "Epoch 130, Loss 0.0428\n",
      "Training Accuracy: 0.9559, Testing Accuracy: 0.9642\n",
      "\n"
     ]
    },
    {
     "name": "stdout",
     "output_type": "stream",
     "text": [
      "Epoch 140, Loss 0.042\n",
      "Training Accuracy: 0.9562, Testing Accuracy: 0.9647\n",
      "\n"
     ]
    },
    {
     "name": "stdout",
     "output_type": "stream",
     "text": [
      "Epoch 150, Loss 0.0412\n",
      "Training Accuracy: 0.9570, Testing Accuracy: 0.9657\n",
      "\n"
     ]
    },
    {
     "name": "stdout",
     "output_type": "stream",
     "text": [
      "Epoch 160, Loss 0.0406\n",
      "Training Accuracy: 0.9576, Testing Accuracy: 0.9662\n",
      "\n"
     ]
    },
    {
     "name": "stdout",
     "output_type": "stream",
     "text": [
      "Epoch 170, Loss 0.04\n",
      "Training Accuracy: 0.9580, Testing Accuracy: 0.9662\n",
      "\n"
     ]
    },
    {
     "name": "stdout",
     "output_type": "stream",
     "text": [
      "Epoch 180, Loss 0.0394\n",
      "Training Accuracy: 0.9584, Testing Accuracy: 0.9662\n",
      "\n"
     ]
    },
    {
     "name": "stdout",
     "output_type": "stream",
     "text": [
      "Epoch 190, Loss 0.0389\n",
      "Training Accuracy: 0.9588, Testing Accuracy: 0.9662\n",
      "\n"
     ]
    },
    {
     "name": "stdout",
     "output_type": "stream",
     "text": [
      "Epoch 200, Loss 0.0384\n",
      "Training Accuracy: 0.9593, Testing Accuracy: 0.9672\n",
      "\n"
     ]
    },
    {
     "name": "stdout",
     "output_type": "stream",
     "text": [
      "Epoch 210, Loss 0.038\n",
      "Training Accuracy: 0.9595, Testing Accuracy: 0.9677\n",
      "\n"
     ]
    },
    {
     "name": "stdout",
     "output_type": "stream",
     "text": [
      "Epoch 220, Loss 0.0376\n",
      "Training Accuracy: 0.9599, Testing Accuracy: 0.9677\n",
      "\n"
     ]
    },
    {
     "name": "stdout",
     "output_type": "stream",
     "text": [
      "Epoch 230, Loss 0.0372\n",
      "Training Accuracy: 0.9604, Testing Accuracy: 0.9677\n",
      "\n"
     ]
    },
    {
     "name": "stdout",
     "output_type": "stream",
     "text": [
      "Epoch 240, Loss 0.0368\n",
      "Training Accuracy: 0.9605, Testing Accuracy: 0.9677\n",
      "\n"
     ]
    },
    {
     "data": {
      "text/plain": [
       "0.016264230451032695"
      ]
     },
     "execution_count": 23,
     "metadata": {},
     "output_type": "execute_result"
    }
   ],
   "source": [
    "lr_learner.train_loop(dl)"
   ]
  },
  {
   "cell_type": "code",
   "execution_count": 24,
   "id": "ca410940",
   "metadata": {
    "execution": {
     "iopub.execute_input": "2021-12-15T20:09:48.046391Z",
     "iopub.status.busy": "2021-12-15T20:09:48.045837Z",
     "iopub.status.idle": "2021-12-15T20:09:48.271488Z",
     "shell.execute_reply": "2021-12-15T20:09:48.271963Z"
    },
    "papermill": {
     "duration": 0.280489,
     "end_time": "2021-12-15T20:09:48.272114",
     "exception": false,
     "start_time": "2021-12-15T20:09:47.991625",
     "status": "completed"
    },
    "tags": []
   },
   "outputs": [
    {
     "data": {
      "text/plain": [
       "<matplotlib.legend.Legend at 0x7f6aa3892c88>"
      ]
     },
     "execution_count": 24,
     "metadata": {},
     "output_type": "execute_result"
    },
    {
     "data": {
      "image/png": "[encoded data removed]",
      "text/plain": [
       "<Figure size 1080x720 with 1 Axes>"
      ]
     },
     "metadata": {
      "needs_background": "light"
     },
     "output_type": "display_data"
    }
   ],
   "source": [
    "#comparing the results of NN and LR\n",
    "plt.figure(figsize=(15,10))\n",
    "\n",
    "# Neural Network plots\n",
    "plt.plot(acc_nn.accuracies, 'r-', label = \"Training Accuracies - NN\")\n",
    "plt.plot(acc_nn.test_accuracies, 'g-', label = \"Testing Accuracies - NN\")\n",
    "\n",
    "# Logistic Regression plots\n",
    "plt.plot(acc_lr.accuracies, 'k-', label = \"Training Accuracies - LR\")\n",
    "plt.plot(acc_lr.test_accuracies, 'b-', label = \"Testing Accuracies - LR\")\n",
    "plt.legend()"
   ]
  },
  {
   "cell_type": "markdown",
   "id": "80dfb35c",
   "metadata": {
    "papermill": {
     "duration": 0.041704,
     "end_time": "2021-12-15T20:09:48.356479",
     "exception": false,
     "start_time": "2021-12-15T20:09:48.314775",
     "status": "completed"
    },
    "tags": []
   },
   "source": [
    "#### Plotting the outputs of this layer of the NN.\n"
   ]
  },
  {
   "cell_type": "code",
   "execution_count": 25,
   "id": "45eb2ff5",
   "metadata": {
    "execution": {
     "iopub.execute_input": "2021-12-15T20:09:48.444021Z",
     "iopub.status.busy": "2021-12-15T20:09:48.443487Z",
     "iopub.status.idle": "2021-12-15T20:09:48.464423Z",
     "shell.execute_reply": "2021-12-15T20:09:48.463918Z"
    },
    "papermill": {
     "duration": 0.066233,
     "end_time": "2021-12-15T20:09:48.464543",
     "exception": false,
     "start_time": "2021-12-15T20:09:48.398310",
     "status": "completed"
    },
    "tags": []
   },
   "outputs": [],
   "source": [
    "new_model = Model(layers[:-2])\n",
    "testing_plot = new_model(testing_data_x)"
   ]
  },
  {
   "cell_type": "code",
   "execution_count": 26,
   "id": "4c0a5485",
   "metadata": {
    "execution": {
     "iopub.execute_input": "2021-12-15T20:09:48.555498Z",
     "iopub.status.busy": "2021-12-15T20:09:48.554961Z",
     "iopub.status.idle": "2021-12-15T20:09:48.746666Z",
     "shell.execute_reply": "2021-12-15T20:09:48.746209Z"
    },
    "papermill": {
     "duration": 0.239614,
     "end_time": "2021-12-15T20:09:48.746784",
     "exception": false,
     "start_time": "2021-12-15T20:09:48.507170",
     "status": "completed"
    },
    "tags": []
   },
   "outputs": [
    {
     "data": {
      "text/plain": [
       "Text(0.5, 1.0, 'Outputs')"
      ]
     },
     "execution_count": 26,
     "metadata": {},
     "output_type": "execute_result"
    },
    {
     "data": {
      "image/png": "[encoded data removed]",
      "text/plain": [
       "<Figure size 576x504 with 1 Axes>"
      ]
     },
     "metadata": {
      "needs_background": "light"
     },
     "output_type": "display_data"
    }
   ],
   "source": [
    "# Plotting the scatter plot of points and color coding by class\n",
    "plt.figure(figsize=(8,7))\n",
    "plt.scatter(testing_plot[:,0], testing_plot[:,1], alpha = 0.1, c = y_test.ravel());\n",
    "plt.title('Outputs')"
   ]
  },
  {
   "cell_type": "markdown",
   "id": "a74fcf8f",
   "metadata": {
    "papermill": {
     "duration": 0.043537,
     "end_time": "2021-12-15T20:09:48.834699",
     "exception": false,
     "start_time": "2021-12-15T20:09:48.791162",
     "status": "completed"
    },
    "tags": []
   },
   "source": [
    "Probability contours"
   ]
  },
  {
   "cell_type": "code",
   "execution_count": 27,
   "id": "d0afc8e3",
   "metadata": {
    "execution": {
     "iopub.execute_input": "2021-12-15T20:09:48.933644Z",
     "iopub.status.busy": "2021-12-15T20:09:48.932630Z",
     "iopub.status.idle": "2021-12-15T20:09:48.940528Z",
     "shell.execute_reply": "2021-12-15T20:09:48.940090Z"
    },
    "papermill": {
     "duration": 0.06214,
     "end_time": "2021-12-15T20:09:48.940642",
     "exception": false,
     "start_time": "2021-12-15T20:09:48.878502",
     "status": "completed"
    },
    "tags": []
   },
   "outputs": [],
   "source": [
    "model_prob = Model(layers[-2:]) "
   ]
  },
  {
   "cell_type": "code",
   "execution_count": 28,
   "id": "9b96e238",
   "metadata": {
    "execution": {
     "iopub.execute_input": "2021-12-15T20:09:49.041612Z",
     "iopub.status.busy": "2021-12-15T20:09:49.036404Z",
     "iopub.status.idle": "2021-12-15T20:09:49.051896Z",
     "shell.execute_reply": "2021-12-15T20:09:49.051379Z"
    },
    "papermill": {
     "duration": 0.067296,
     "end_time": "2021-12-15T20:09:49.052011",
     "exception": false,
     "start_time": "2021-12-15T20:09:48.984715",
     "status": "completed"
    },
    "tags": []
   },
   "outputs": [],
   "source": [
    "#creating the x and y ranges according to the above generated plot.\n",
    "x_range = np.linspace(-4, 1, 100) \n",
    "y_range = np.linspace(-6, 6, 100) \n",
    "x_grid, y_grid = np.meshgrid(x_range, y_range) # x_grid and y_grig are of size 100 X 100\n",
    "\n",
    "# converting x_grid and y_grid to continuous arrays\n",
    "x_gridflat = np.ravel(x_grid)\n",
    "y_gridflat = np.ravel(y_grid)\n",
    "\n",
    "# The last layer of the current model takes two columns as input. Hence transpose of np.vstack() is required.\n",
    "X = np.vstack((x_gridflat, y_gridflat)).T\n",
    "\n",
    "prob_contour = model_prob(X).reshape(100,100) "
   ]
  },
  {
   "cell_type": "code",
   "execution_count": 29,
   "id": "da72499a",
   "metadata": {
    "execution": {
     "iopub.execute_input": "2021-12-15T20:09:49.153607Z",
     "iopub.status.busy": "2021-12-15T20:09:49.150413Z",
     "iopub.status.idle": "2021-12-15T20:09:49.398662Z",
     "shell.execute_reply": "2021-12-15T20:09:49.398210Z"
    },
    "papermill": {
     "duration": 0.302417,
     "end_time": "2021-12-15T20:09:49.398778",
     "exception": false,
     "start_time": "2021-12-15T20:09:49.096361",
     "status": "completed"
    },
    "tags": []
   },
   "outputs": [
    {
     "data": {
      "image/png": "[encoded data removed]",
      "text/plain": [
       "<Figure size 720x648 with 1 Axes>"
      ]
     },
     "metadata": {
      "needs_background": "light"
     },
     "output_type": "display_data"
    }
   ],
   "source": [
    "plt.figure(figsize=(10,9))\n",
    "plt.scatter(testing_plot[:,0], testing_plot[:,1], alpha = 0.1, c = y_test.ravel())\n",
    "contours = plt.contour(x_grid,y_grid,prob_contour)\n",
    "plt.title('Probability Contours')\n",
    "plt.clabel(contours, inline = True );"
   ]
  },
  {
   "cell_type": "code",
   "execution_count": null,
   "id": "e81b4ac7",
   "metadata": {
    "papermill": {
     "duration": 0.046494,
     "end_time": "2021-12-15T20:09:49.522472",
     "exception": false,
     "start_time": "2021-12-15T20:09:49.475978",
     "status": "completed"
    },
    "tags": []
   },
   "outputs": [],
   "source": []
  }
 ],
 "metadata": {
  "kernelspec": {
   "display_name": "Python 3",
   "language": "python",
   "name": "python3"
  },
  "language_info": {
   "codemirror_mode": {
    "name": "ipython",
    "version": 3
   },
   "file_extension": ".py",
   "mimetype": "text/x-python",
   "name": "python",
   "nbconvert_exporter": "python",
   "pygments_lexer": "ipython3",
   "version": "3.6.15"
  },
  "papermill": {
   "default_parameters": {},
   "duration": 95.612283,
   "end_time": "2021-12-15T20:09:49.976957",
   "environment_variables": {},
   "exception": null,
   "input_path": "2020-08-11-part2.ipynb",
   "output_path": "2020-08-11-part2.ipynb",
   "parameters": {},
   "start_time": "2021-12-15T20:08:14.364674",
   "version": "2.3.3"
  }
 },
 "nbformat": 4,
 "nbformat_minor": 5
}