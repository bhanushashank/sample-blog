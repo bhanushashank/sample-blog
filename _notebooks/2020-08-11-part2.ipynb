{
 "cells": [
  {
   "cell_type": "markdown",
   "id": "98380cd3",
   "metadata": {
    "papermill": {
     "duration": 0.038051,
     "end_time": "2021-10-12T20:07:51.145753",
     "exception": false,
     "start_time": "2021-10-12T20:07:51.107702",
     "status": "completed"
    },
    "tags": []
   },
   "source": [
    "# Distinguish Your Own Digits (DYOD)"
   ]
  },
  {
   "cell_type": "markdown",
   "id": "ef31240d",
   "metadata": {
    "papermill": {
     "duration": 0.033001,
     "end_time": "2021-10-12T20:07:51.212297",
     "exception": false,
     "start_time": "2021-10-12T20:07:51.179296",
     "status": "completed"
    },
    "tags": []
   },
   "source": [
    "You are going to write a classifier that distinguishes between the number 3 and number 8."
   ]
  },
  {
   "cell_type": "code",
   "execution_count": 1,
   "id": "b15c8646",
   "metadata": {
    "execution": {
     "iopub.execute_input": "2021-10-12T20:07:51.287512Z",
     "iopub.status.busy": "2021-10-12T20:07:51.286896Z",
     "iopub.status.idle": "2021-10-12T20:07:51.298484Z",
     "shell.execute_reply": "2021-10-12T20:07:51.299045Z"
    },
    "papermill": {
     "duration": 0.05519,
     "end_time": "2021-10-12T20:07:51.299199",
     "exception": false,
     "start_time": "2021-10-12T20:07:51.244009",
     "status": "completed"
    },
    "tags": []
   },
   "outputs": [],
   "source": [
    "%load_ext autoreload\n",
    "%autoreload 2"
   ]
  },
  {
   "cell_type": "code",
   "execution_count": 2,
   "id": "22ef38dc",
   "metadata": {
    "execution": {
     "iopub.execute_input": "2021-10-12T20:07:51.367457Z",
     "iopub.status.busy": "2021-10-12T20:07:51.366630Z",
     "iopub.status.idle": "2021-10-12T20:07:52.007969Z",
     "shell.execute_reply": "2021-10-12T20:07:52.007433Z"
    },
    "papermill": {
     "duration": 0.677038,
     "end_time": "2021-10-12T20:07:52.008183",
     "exception": false,
     "start_time": "2021-10-12T20:07:51.331145",
     "status": "completed"
    },
    "tags": []
   },
   "outputs": [],
   "source": [
    "%matplotlib inline\n",
    "import numpy as np\n",
    "import matplotlib.pyplot as plt\n",
    "import pandas as pd"
   ]
  },
  {
   "cell_type": "markdown",
   "id": "ba036198",
   "metadata": {
    "papermill": {
     "duration": 0.031662,
     "end_time": "2021-10-12T20:07:52.072728",
     "exception": false,
     "start_time": "2021-10-12T20:07:52.041066",
     "status": "completed"
    },
    "tags": []
   },
   "source": [
    "From the command line run `pip install mnist`. This is a library that will help you bring down the mnist dataset. If you run this from a notebook, you need to put  `!pip install mnist` in a cell by itself."
   ]
  },
  {
   "cell_type": "code",
   "execution_count": 3,
   "id": "bb6ad8a1",
   "metadata": {
    "execution": {
     "iopub.execute_input": "2021-10-12T20:07:52.140624Z",
     "iopub.status.busy": "2021-10-12T20:07:52.139226Z",
     "iopub.status.idle": "2021-10-12T20:07:54.141915Z",
     "shell.execute_reply": "2021-10-12T20:07:54.142480Z"
    },
    "papermill": {
     "duration": 2.038351,
     "end_time": "2021-10-12T20:07:54.142634",
     "exception": false,
     "start_time": "2021-10-12T20:07:52.104283",
     "status": "completed"
    },
    "tags": []
   },
   "outputs": [
    {
     "name": "stdout",
     "output_type": "stream",
     "text": [
      "Collecting mnist\r\n"
     ]
    },
    {
     "name": "stdout",
     "output_type": "stream",
     "text": [
      "  Downloading mnist-0.2.2-py2.py3-none-any.whl (3.5 kB)\r\n",
      "Requirement already satisfied: numpy in /opt/hostedtoolcache/Python/3.6.15/x64/lib/python3.6/site-packages (from mnist) (1.19.5)\r\n"
     ]
    },
    {
     "name": "stdout",
     "output_type": "stream",
     "text": [
      "Installing collected packages: mnist\r\n"
     ]
    },
    {
     "name": "stdout",
     "output_type": "stream",
     "text": [
      "Successfully installed mnist-0.2.2\r\n"
     ]
    },
    {
     "name": "stdout",
     "output_type": "stream",
     "text": [
      "\u001b[33mWARNING: You are using pip version 21.2.4; however, version 21.3 is available.\r\n",
      "You should consider upgrading via the '/opt/hostedtoolcache/Python/3.6.15/x64/bin/python -m pip install --upgrade pip' command.\u001b[0m\r\n"
     ]
    }
   ],
   "source": [
    "!pip install mnist"
   ]
  },
  {
   "cell_type": "markdown",
   "id": "69df9c9a",
   "metadata": {
    "papermill": {
     "duration": 0.033118,
     "end_time": "2021-10-12T20:07:54.208427",
     "exception": false,
     "start_time": "2021-10-12T20:07:54.175309",
     "status": "completed"
    },
    "tags": []
   },
   "source": [
    "## Preparing the Data"
   ]
  },
  {
   "cell_type": "code",
   "execution_count": 4,
   "id": "7f69d806",
   "metadata": {
    "execution": {
     "iopub.execute_input": "2021-10-12T20:07:54.288588Z",
     "iopub.status.busy": "2021-10-12T20:07:54.283295Z",
     "iopub.status.idle": "2021-10-12T20:07:54.300919Z",
     "shell.execute_reply": "2021-10-12T20:07:54.301453Z"
    },
    "papermill": {
     "duration": 0.057972,
     "end_time": "2021-10-12T20:07:54.301599",
     "exception": false,
     "start_time": "2021-10-12T20:07:54.243627",
     "status": "completed"
    },
    "tags": []
   },
   "outputs": [],
   "source": [
    "import mnist"
   ]
  },
  {
   "cell_type": "code",
   "execution_count": 5,
   "id": "a411e44f",
   "metadata": {
    "execution": {
     "iopub.execute_input": "2021-10-12T20:07:54.378743Z",
     "iopub.status.busy": "2021-10-12T20:07:54.374144Z",
     "iopub.status.idle": "2021-10-12T20:07:55.059976Z",
     "shell.execute_reply": "2021-10-12T20:07:55.059410Z"
    },
    "papermill": {
     "duration": 0.725768,
     "end_time": "2021-10-12T20:07:55.060153",
     "exception": false,
     "start_time": "2021-10-12T20:07:54.334385",
     "status": "completed"
    },
    "tags": []
   },
   "outputs": [],
   "source": [
    "train_images = mnist.train_images()\n",
    "train_labels = mnist.train_labels()"
   ]
  },
  {
   "cell_type": "code",
   "execution_count": 6,
   "id": "dceab3a5",
   "metadata": {
    "execution": {
     "iopub.execute_input": "2021-10-12T20:07:55.141110Z",
     "iopub.status.busy": "2021-10-12T20:07:55.137041Z",
     "iopub.status.idle": "2021-10-12T20:07:55.156032Z",
     "shell.execute_reply": "2021-10-12T20:07:55.155139Z"
    },
    "papermill": {
     "duration": 0.057944,
     "end_time": "2021-10-12T20:07:55.156190",
     "exception": false,
     "start_time": "2021-10-12T20:07:55.098246",
     "status": "completed"
    },
    "tags": []
   },
   "outputs": [
    {
     "data": {
      "text/plain": [
       "((60000, 28, 28), (60000,))"
      ]
     },
     "execution_count": 6,
     "metadata": {},
     "output_type": "execute_result"
    }
   ],
   "source": [
    "train_images.shape, train_labels.shape"
   ]
  },
  {
   "cell_type": "code",
   "execution_count": 7,
   "id": "f50dc2bb",
   "metadata": {
    "execution": {
     "iopub.execute_input": "2021-10-12T20:07:55.229275Z",
     "iopub.status.busy": "2021-10-12T20:07:55.225551Z",
     "iopub.status.idle": "2021-10-12T20:07:55.398194Z",
     "shell.execute_reply": "2021-10-12T20:07:55.397394Z"
    },
    "papermill": {
     "duration": 0.20884,
     "end_time": "2021-10-12T20:07:55.398429",
     "exception": false,
     "start_time": "2021-10-12T20:07:55.189589",
     "status": "completed"
    },
    "tags": []
   },
   "outputs": [],
   "source": [
    "test_images = mnist.test_images()\n",
    "test_labels = mnist.test_labels()"
   ]
  },
  {
   "cell_type": "code",
   "execution_count": 8,
   "id": "fc38cf1b",
   "metadata": {
    "execution": {
     "iopub.execute_input": "2021-10-12T20:07:55.468582Z",
     "iopub.status.busy": "2021-10-12T20:07:55.467873Z",
     "iopub.status.idle": "2021-10-12T20:07:55.482852Z",
     "shell.execute_reply": "2021-10-12T20:07:55.482217Z"
    },
    "papermill": {
     "duration": 0.051355,
     "end_time": "2021-10-12T20:07:55.482989",
     "exception": false,
     "start_time": "2021-10-12T20:07:55.431634",
     "status": "completed"
    },
    "tags": []
   },
   "outputs": [
    {
     "data": {
      "text/plain": [
       "((10000, 28, 28), (10000,))"
      ]
     },
     "execution_count": 8,
     "metadata": {},
     "output_type": "execute_result"
    }
   ],
   "source": [
    "test_images.shape, test_labels.shape"
   ]
  },
  {
   "cell_type": "code",
   "execution_count": 9,
   "id": "f9ed8fe0",
   "metadata": {
    "execution": {
     "iopub.execute_input": "2021-10-12T20:07:55.553333Z",
     "iopub.status.busy": "2021-10-12T20:07:55.552608Z",
     "iopub.status.idle": "2021-10-12T20:07:55.740241Z",
     "shell.execute_reply": "2021-10-12T20:07:55.739485Z"
    },
    "papermill": {
     "duration": 0.224207,
     "end_time": "2021-10-12T20:07:55.740406",
     "exception": false,
     "start_time": "2021-10-12T20:07:55.516199",
     "status": "completed"
    },
    "tags": []
   },
   "outputs": [
    {
     "name": "stdout",
     "output_type": "stream",
     "text": [
      "2\n"
     ]
    },
    {
     "data": {
      "text/plain": [
       "<matplotlib.image.AxesImage at 0x7fae51922828>"
      ]
     },
     "execution_count": 9,
     "metadata": {},
     "output_type": "execute_result"
    },
    {
     "data": {
      "image/png": "[encoded data removed]",
      "text/plain": [
       "<Figure size 432x288 with 1 Axes>"
      ]
     },
     "metadata": {
      "needs_background": "light"
     },
     "output_type": "display_data"
    }
   ],
   "source": [
    "image_index = 7776 # You may select anything up to 60,000\n",
    "print(train_labels[image_index]) \n",
    "plt.imshow(train_images[image_index], cmap='Greys')"
   ]
  },
  {
   "cell_type": "markdown",
   "id": "a8d2388d",
   "metadata": {
    "papermill": {
     "duration": 0.034642,
     "end_time": "2021-10-12T20:07:55.811155",
     "exception": false,
     "start_time": "2021-10-12T20:07:55.776513",
     "status": "completed"
    },
    "tags": []
   },
   "source": [
    "## Filter data to get 3 and 8 out"
   ]
  },
  {
   "cell_type": "code",
   "execution_count": 10,
   "id": "776f7fc7",
   "metadata": {
    "execution": {
     "iopub.execute_input": "2021-10-12T20:07:55.886233Z",
     "iopub.status.busy": "2021-10-12T20:07:55.884913Z",
     "iopub.status.idle": "2021-10-12T20:07:55.902762Z",
     "shell.execute_reply": "2021-10-12T20:07:55.902196Z"
    },
    "papermill": {
     "duration": 0.056791,
     "end_time": "2021-10-12T20:07:55.902898",
     "exception": false,
     "start_time": "2021-10-12T20:07:55.846107",
     "status": "completed"
    },
    "tags": []
   },
   "outputs": [],
   "source": [
    "train_filter = np.where((train_labels == 3 ) | (train_labels == 8))\n",
    "test_filter = np.where((test_labels == 3) | (test_labels == 8))\n",
    "X_train, y_train = train_images[train_filter], train_labels[train_filter]\n",
    "X_test, y_test = test_images[test_filter], test_labels[test_filter]"
   ]
  },
  {
   "cell_type": "markdown",
   "id": "948f0b7e",
   "metadata": {
    "papermill": {
     "duration": 0.036797,
     "end_time": "2021-10-12T20:07:55.975520",
     "exception": false,
     "start_time": "2021-10-12T20:07:55.938723",
     "status": "completed"
    },
    "tags": []
   },
   "source": [
    "We normalize the pizel values in the 0 to 1 range"
   ]
  },
  {
   "cell_type": "code",
   "execution_count": 11,
   "id": "ee4c2166",
   "metadata": {
    "execution": {
     "iopub.execute_input": "2021-10-12T20:07:56.048060Z",
     "iopub.status.busy": "2021-10-12T20:07:56.046334Z",
     "iopub.status.idle": "2021-10-12T20:07:56.110103Z",
     "shell.execute_reply": "2021-10-12T20:07:56.110583Z"
    },
    "papermill": {
     "duration": 0.101441,
     "end_time": "2021-10-12T20:07:56.110762",
     "exception": false,
     "start_time": "2021-10-12T20:07:56.009321",
     "status": "completed"
    },
    "tags": []
   },
   "outputs": [],
   "source": [
    "X_train = X_train/255.\n",
    "X_test = X_test/255."
   ]
  },
  {
   "cell_type": "markdown",
   "id": "ddcf4fab",
   "metadata": {
    "papermill": {
     "duration": 0.037238,
     "end_time": "2021-10-12T20:07:56.184429",
     "exception": false,
     "start_time": "2021-10-12T20:07:56.147191",
     "status": "completed"
    },
    "tags": []
   },
   "source": [
    "And setup the labels as 1 (when the digit is 3) and 0 (when the digit is 8)"
   ]
  },
  {
   "cell_type": "code",
   "execution_count": 12,
   "id": "7dc908f2",
   "metadata": {
    "execution": {
     "iopub.execute_input": "2021-10-12T20:07:56.261678Z",
     "iopub.status.busy": "2021-10-12T20:07:56.260926Z",
     "iopub.status.idle": "2021-10-12T20:07:56.273278Z",
     "shell.execute_reply": "2021-10-12T20:07:56.272774Z"
    },
    "papermill": {
     "duration": 0.052843,
     "end_time": "2021-10-12T20:07:56.273403",
     "exception": false,
     "start_time": "2021-10-12T20:07:56.220560",
     "status": "completed"
    },
    "tags": []
   },
   "outputs": [],
   "source": [
    "y_train = 1*(y_train==3)\n",
    "y_test = 1*(y_test==3)"
   ]
  },
  {
   "cell_type": "code",
   "execution_count": 13,
   "id": "01e4e969",
   "metadata": {
    "execution": {
     "iopub.execute_input": "2021-10-12T20:07:56.347848Z",
     "iopub.status.busy": "2021-10-12T20:07:56.347200Z",
     "iopub.status.idle": "2021-10-12T20:07:56.361748Z",
     "shell.execute_reply": "2021-10-12T20:07:56.362301Z"
    },
    "papermill": {
     "duration": 0.05265,
     "end_time": "2021-10-12T20:07:56.362454",
     "exception": false,
     "start_time": "2021-10-12T20:07:56.309804",
     "status": "completed"
    },
    "tags": []
   },
   "outputs": [
    {
     "data": {
      "text/plain": [
       "((11982, 28, 28), (1984, 28, 28))"
      ]
     },
     "execution_count": 13,
     "metadata": {},
     "output_type": "execute_result"
    }
   ],
   "source": [
    "X_train.shape, X_test.shape"
   ]
  },
  {
   "cell_type": "markdown",
   "id": "5ccf3f85",
   "metadata": {
    "papermill": {
     "duration": 0.035624,
     "end_time": "2021-10-12T20:07:56.433827",
     "exception": false,
     "start_time": "2021-10-12T20:07:56.398203",
     "status": "completed"
    },
    "tags": []
   },
   "source": [
    "We reshape the data to flatten the image pixels into a set of features or co-variates:"
   ]
  },
  {
   "cell_type": "code",
   "execution_count": 14,
   "id": "5286a4a3",
   "metadata": {
    "execution": {
     "iopub.execute_input": "2021-10-12T20:07:56.513228Z",
     "iopub.status.busy": "2021-10-12T20:07:56.512644Z",
     "iopub.status.idle": "2021-10-12T20:07:56.527253Z",
     "shell.execute_reply": "2021-10-12T20:07:56.526552Z"
    },
    "papermill": {
     "duration": 0.057492,
     "end_time": "2021-10-12T20:07:56.527459",
     "exception": false,
     "start_time": "2021-10-12T20:07:56.469967",
     "status": "completed"
    },
    "tags": []
   },
   "outputs": [
    {
     "data": {
      "text/plain": [
       "((11982, 784), (1984, 784))"
      ]
     },
     "execution_count": 14,
     "metadata": {},
     "output_type": "execute_result"
    }
   ],
   "source": [
    "X_train = X_train.reshape(X_train.shape[0], -1)\n",
    "X_test = X_test.reshape(X_test.shape[0], -1)\n",
    "X_train.shape, X_test.shape"
   ]
  },
  {
   "cell_type": "code",
   "execution_count": 15,
   "id": "73c5f88a",
   "metadata": {
    "execution": {
     "iopub.execute_input": "2021-10-12T20:07:56.605552Z",
     "iopub.status.busy": "2021-10-12T20:07:56.604928Z",
     "iopub.status.idle": "2021-10-12T20:07:56.625673Z",
     "shell.execute_reply": "2021-10-12T20:07:56.625143Z"
    },
    "papermill": {
     "duration": 0.060911,
     "end_time": "2021-10-12T20:07:56.625792",
     "exception": false,
     "start_time": "2021-10-12T20:07:56.564881",
     "status": "completed"
    },
    "tags": []
   },
   "outputs": [],
   "source": [
    "#Impoting functions from 'Kudzu'\n",
    "from kudzu.model import Model\n",
    "from kudzu.train import Learner\n",
    "from kudzu.optim import GD\n",
    "from kudzu.data import Data, Sampler,Dataloader\n",
    "\n",
    "from kudzu.callbacks import AccCallback\n",
    "from kudzu.callbacks import ClfCallback\n",
    "\n",
    "from kudzu.loss import MSE\n",
    "\n",
    "from kudzu.layer import Sigmoid,Relu\n",
    "from kudzu.layer import Affine"
   ]
  },
  {
   "cell_type": "markdown",
   "id": "bc01172a",
   "metadata": {
    "papermill": {
     "duration": 0.034686,
     "end_time": "2021-10-12T20:07:56.693608",
     "exception": false,
     "start_time": "2021-10-12T20:07:56.658922",
     "status": "completed"
    },
    "tags": []
   },
   "source": [
    "### Let us create a `Config` class, to store important parameters. \n",
    "This class essentially plays the role of a dictionary."
   ]
  },
  {
   "cell_type": "code",
   "execution_count": 16,
   "id": "978281aa",
   "metadata": {
    "execution": {
     "iopub.execute_input": "2021-10-12T20:07:56.763975Z",
     "iopub.status.busy": "2021-10-12T20:07:56.763369Z",
     "iopub.status.idle": "2021-10-12T20:07:56.776856Z",
     "shell.execute_reply": "2021-10-12T20:07:56.776391Z"
    },
    "papermill": {
     "duration": 0.050639,
     "end_time": "2021-10-12T20:07:56.776974",
     "exception": false,
     "start_time": "2021-10-12T20:07:56.726335",
     "status": "completed"
    },
    "tags": []
   },
   "outputs": [],
   "source": [
    "class Config:\n",
    "    pass\n",
    "config = Config()\n",
    "config.lr = 0.001\n",
    "config.num_epochs = 250\n",
    "config.bs = 50"
   ]
  },
  {
   "cell_type": "markdown",
   "id": "1385fa59",
   "metadata": {
    "papermill": {
     "duration": 0.035091,
     "end_time": "2021-10-12T20:07:56.850775",
     "exception": false,
     "start_time": "2021-10-12T20:07:56.815684",
     "status": "completed"
    },
    "tags": []
   },
   "source": [
    "### Running Models with the Training data\n",
    "Details about the network layers:\n",
    "- A first affine layer has 784 inputs and does 100 affine transforms. These are followed by a Relu\n",
    "- A second affine layer has 100 inputs from the 100 activations of the past layer, and does 100 affine transforms. These are followed by a Relu\n",
    "- A third affine layer has 100 activations and does 2 affine transformations to create an embedding for visualization. There is no non-linearity here.\n",
    "- A final \"logistic regression\" which has an affine transform from 2 inputs to 1 output, which is squeezed through a sigmoid.\n"
   ]
  },
  {
   "cell_type": "code",
   "execution_count": 17,
   "id": "2b9c66db",
   "metadata": {
    "execution": {
     "iopub.execute_input": "2021-10-12T20:07:56.927203Z",
     "iopub.status.busy": "2021-10-12T20:07:56.926482Z",
     "iopub.status.idle": "2021-10-12T20:07:56.940422Z",
     "shell.execute_reply": "2021-10-12T20:07:56.939574Z"
    },
    "papermill": {
     "duration": 0.055091,
     "end_time": "2021-10-12T20:07:56.940603",
     "exception": false,
     "start_time": "2021-10-12T20:07:56.885512",
     "status": "completed"
    },
    "tags": []
   },
   "outputs": [],
   "source": [
    "data = Data(X_train, y_train.reshape(-1,1))\n",
    "sampler = Sampler(data, config.bs, shuffle=True)\n",
    "\n",
    "dl = Dataloader(data, sampler)\n",
    "\n",
    "opt = GD(config.lr)\n",
    "loss = MSE()"
   ]
  },
  {
   "cell_type": "code",
   "execution_count": 18,
   "id": "b275e4c2",
   "metadata": {
    "execution": {
     "iopub.execute_input": "2021-10-12T20:07:57.016849Z",
     "iopub.status.busy": "2021-10-12T20:07:57.015971Z",
     "iopub.status.idle": "2021-10-12T20:07:57.028395Z",
     "shell.execute_reply": "2021-10-12T20:07:57.028923Z"
    },
    "papermill": {
     "duration": 0.052346,
     "end_time": "2021-10-12T20:07:57.029052",
     "exception": false,
     "start_time": "2021-10-12T20:07:56.976706",
     "status": "completed"
    },
    "tags": []
   },
   "outputs": [],
   "source": [
    "training_data_x = X_train\n",
    "testing_data_x = X_test\n",
    "training_data_y = y_train.reshape(-1,1)\n",
    "testing_data_y = y_test.reshape(-1,1)"
   ]
  },
  {
   "cell_type": "code",
   "execution_count": 19,
   "id": "76951160",
   "metadata": {
    "execution": {
     "iopub.execute_input": "2021-10-12T20:07:57.110711Z",
     "iopub.status.busy": "2021-10-12T20:07:57.110088Z",
     "iopub.status.idle": "2021-10-12T20:07:57.128002Z",
     "shell.execute_reply": "2021-10-12T20:07:57.127470Z"
    },
    "papermill": {
     "duration": 0.063547,
     "end_time": "2021-10-12T20:07:57.128149",
     "exception": false,
     "start_time": "2021-10-12T20:07:57.064602",
     "status": "completed"
    },
    "tags": []
   },
   "outputs": [
    {
     "name": "stdout",
     "output_type": "stream",
     "text": [
      "xavier\n",
      "xavier\n",
      "xavier\n",
      "xavier\n",
      "xavier\n"
     ]
    }
   ],
   "source": [
    "layers = [Affine(\"first\", 784, 100), Relu(\"first\"), Affine(\"second\", 100, 100), Relu(\"second\"), Affine(\"third\", 100, 2), Affine(\"last\", 2, 1), Sigmoid(\"last\")]\n",
    "model_nn = Model(layers)\n",
    "model_lr = Model([Affine(\"logits\", 784, 1), Sigmoid(\"sigmoid\")])"
   ]
  },
  {
   "cell_type": "code",
   "execution_count": 20,
   "id": "6eede77a",
   "metadata": {
    "execution": {
     "iopub.execute_input": "2021-10-12T20:07:57.202318Z",
     "iopub.status.busy": "2021-10-12T20:07:57.201705Z",
     "iopub.status.idle": "2021-10-12T20:07:57.214407Z",
     "shell.execute_reply": "2021-10-12T20:07:57.214988Z"
    },
    "papermill": {
     "duration": 0.051629,
     "end_time": "2021-10-12T20:07:57.215137",
     "exception": false,
     "start_time": "2021-10-12T20:07:57.163508",
     "status": "completed"
    },
    "tags": []
   },
   "outputs": [],
   "source": [
    "nn_learner = Learner(loss, model_nn, opt, config.num_epochs)\n",
    "acc_nn = ClfCallback(nn_learner, config.bs, training_data_x , testing_data_x, training_data_y, testing_data_y)\n",
    "nn_learner.set_callbacks([acc_nn])"
   ]
  },
  {
   "cell_type": "code",
   "execution_count": 21,
   "id": "877b6cc7",
   "metadata": {
    "execution": {
     "iopub.execute_input": "2021-10-12T20:07:57.288359Z",
     "iopub.status.busy": "2021-10-12T20:07:57.287633Z",
     "iopub.status.idle": "2021-10-12T20:07:57.300348Z",
     "shell.execute_reply": "2021-10-12T20:07:57.300937Z"
    },
    "papermill": {
     "duration": 0.05144,
     "end_time": "2021-10-12T20:07:57.301076",
     "exception": false,
     "start_time": "2021-10-12T20:07:57.249636",
     "status": "completed"
    },
    "tags": []
   },
   "outputs": [],
   "source": [
    "lr_learner = Learner(loss, model_lr, opt, config.num_epochs)\n",
    "acc_lr = ClfCallback(lr_learner, config.bs, training_data_x , testing_data_x, training_data_y, testing_data_y)\n",
    "lr_learner.set_callbacks([acc_lr])"
   ]
  },
  {
   "cell_type": "code",
   "execution_count": 22,
   "id": "d9b133c3",
   "metadata": {
    "execution": {
     "iopub.execute_input": "2021-10-12T20:07:57.379350Z",
     "iopub.status.busy": "2021-10-12T20:07:57.378621Z",
     "iopub.status.idle": "2021-10-12T20:10:06.630377Z",
     "shell.execute_reply": "2021-10-12T20:10:06.631158Z"
    },
    "papermill": {
     "duration": 129.294983,
     "end_time": "2021-10-12T20:10:06.631321",
     "exception": false,
     "start_time": "2021-10-12T20:07:57.336338",
     "status": "completed"
    },
    "tags": []
   },
   "outputs": [
    {
     "name": "stdout",
     "output_type": "stream",
     "text": [
      "Epoch 0, Loss 0.2435\n",
      "Training Accuracy: 0.5330, Testing Accuracy: 0.5499\n",
      "\n"
     ]
    },
    {
     "name": "stdout",
     "output_type": "stream",
     "text": [
      "Epoch 10, Loss 0.1154\n",
      "Training Accuracy: 0.8953, Testing Accuracy: 0.9052\n",
      "\n"
     ]
    },
    {
     "name": "stdout",
     "output_type": "stream",
     "text": [
      "Epoch 20, Loss 0.0674\n",
      "Training Accuracy: 0.9318, Testing Accuracy: 0.9375\n",
      "\n"
     ]
    },
    {
     "name": "stdout",
     "output_type": "stream",
     "text": [
      "Epoch 30, Loss 0.0496\n",
      "Training Accuracy: 0.9469, Testing Accuracy: 0.9531\n",
      "\n"
     ]
    },
    {
     "name": "stdout",
     "output_type": "stream",
     "text": [
      "Epoch 40, Loss 0.0412\n",
      "Training Accuracy: 0.9552, Testing Accuracy: 0.9612\n",
      "\n"
     ]
    },
    {
     "name": "stdout",
     "output_type": "stream",
     "text": [
      "Epoch 50, Loss 0.0364\n",
      "Training Accuracy: 0.9594, Testing Accuracy: 0.9647\n",
      "\n"
     ]
    },
    {
     "name": "stdout",
     "output_type": "stream",
     "text": [
      "Epoch 60, Loss 0.0333\n",
      "Training Accuracy: 0.9627, Testing Accuracy: 0.9677\n",
      "\n"
     ]
    },
    {
     "name": "stdout",
     "output_type": "stream",
     "text": [
      "Epoch 70, Loss 0.0311\n",
      "Training Accuracy: 0.9649, Testing Accuracy: 0.9698\n",
      "\n"
     ]
    },
    {
     "name": "stdout",
     "output_type": "stream",
     "text": [
      "Epoch 80, Loss 0.0293\n",
      "Training Accuracy: 0.9671, Testing Accuracy: 0.9713\n",
      "\n"
     ]
    },
    {
     "name": "stdout",
     "output_type": "stream",
     "text": [
      "Epoch 90, Loss 0.0279\n",
      "Training Accuracy: 0.9680, Testing Accuracy: 0.9713\n",
      "\n"
     ]
    },
    {
     "name": "stdout",
     "output_type": "stream",
     "text": [
      "Epoch 100, Loss 0.0267\n",
      "Training Accuracy: 0.9695, Testing Accuracy: 0.9723\n",
      "\n"
     ]
    },
    {
     "name": "stdout",
     "output_type": "stream",
     "text": [
      "Epoch 110, Loss 0.0257\n",
      "Training Accuracy: 0.9702, Testing Accuracy: 0.9733\n",
      "\n"
     ]
    },
    {
     "name": "stdout",
     "output_type": "stream",
     "text": [
      "Epoch 120, Loss 0.0248\n",
      "Training Accuracy: 0.9712, Testing Accuracy: 0.9758\n",
      "\n"
     ]
    },
    {
     "name": "stdout",
     "output_type": "stream",
     "text": [
      "Epoch 130, Loss 0.024\n",
      "Training Accuracy: 0.9720, Testing Accuracy: 0.9758\n",
      "\n"
     ]
    },
    {
     "name": "stdout",
     "output_type": "stream",
     "text": [
      "Epoch 140, Loss 0.0233\n",
      "Training Accuracy: 0.9729, Testing Accuracy: 0.9758\n",
      "\n"
     ]
    },
    {
     "name": "stdout",
     "output_type": "stream",
     "text": [
      "Epoch 150, Loss 0.0227\n",
      "Training Accuracy: 0.9733, Testing Accuracy: 0.9758\n",
      "\n"
     ]
    },
    {
     "name": "stdout",
     "output_type": "stream",
     "text": [
      "Epoch 160, Loss 0.022\n",
      "Training Accuracy: 0.9740, Testing Accuracy: 0.9758\n",
      "\n"
     ]
    },
    {
     "name": "stdout",
     "output_type": "stream",
     "text": [
      "Epoch 170, Loss 0.0215\n",
      "Training Accuracy: 0.9749, Testing Accuracy: 0.9753\n",
      "\n"
     ]
    },
    {
     "name": "stdout",
     "output_type": "stream",
     "text": [
      "Epoch 180, Loss 0.021\n",
      "Training Accuracy: 0.9752, Testing Accuracy: 0.9763\n",
      "\n"
     ]
    },
    {
     "name": "stdout",
     "output_type": "stream",
     "text": [
      "Epoch 190, Loss 0.0205\n",
      "Training Accuracy: 0.9761, Testing Accuracy: 0.9768\n",
      "\n"
     ]
    },
    {
     "name": "stdout",
     "output_type": "stream",
     "text": [
      "Epoch 200, Loss 0.02\n",
      "Training Accuracy: 0.9766, Testing Accuracy: 0.9768\n",
      "\n"
     ]
    },
    {
     "name": "stdout",
     "output_type": "stream",
     "text": [
      "Epoch 210, Loss 0.0196\n",
      "Training Accuracy: 0.9772, Testing Accuracy: 0.9763\n",
      "\n"
     ]
    },
    {
     "name": "stdout",
     "output_type": "stream",
     "text": [
      "Epoch 220, Loss 0.0191\n",
      "Training Accuracy: 0.9783, Testing Accuracy: 0.9768\n",
      "\n"
     ]
    },
    {
     "name": "stdout",
     "output_type": "stream",
     "text": [
      "Epoch 230, Loss 0.0187\n",
      "Training Accuracy: 0.9791, Testing Accuracy: 0.9773\n",
      "\n"
     ]
    },
    {
     "name": "stdout",
     "output_type": "stream",
     "text": [
      "Epoch 240, Loss 0.0183\n",
      "Training Accuracy: 0.9797, Testing Accuracy: 0.9773\n",
      "\n"
     ]
    },
    {
     "data": {
      "text/plain": [
       "0.02006226304509682"
      ]
     },
     "execution_count": 22,
     "metadata": {},
     "output_type": "execute_result"
    }
   ],
   "source": [
    "nn_learner.train_loop(dl)"
   ]
  },
  {
   "cell_type": "code",
   "execution_count": 23,
   "id": "e0163366",
   "metadata": {
    "execution": {
     "iopub.execute_input": "2021-10-12T20:10:06.733280Z",
     "iopub.status.busy": "2021-10-12T20:10:06.732440Z",
     "iopub.status.idle": "2021-10-12T20:10:25.372230Z",
     "shell.execute_reply": "2021-10-12T20:10:25.373153Z"
    },
    "papermill": {
     "duration": 18.697903,
     "end_time": "2021-10-12T20:10:25.373323",
     "exception": false,
     "start_time": "2021-10-12T20:10:06.675420",
     "status": "completed"
    },
    "tags": []
   },
   "outputs": [
    {
     "name": "stdout",
     "output_type": "stream",
     "text": [
      "Epoch 0, Loss 0.2167\n",
      "Training Accuracy: 0.7412, Testing Accuracy: 0.7409\n",
      "\n"
     ]
    },
    {
     "name": "stdout",
     "output_type": "stream",
     "text": [
      "Epoch 10, Loss 0.105\n",
      "Training Accuracy: 0.8990, Testing Accuracy: 0.9052\n",
      "\n"
     ]
    },
    {
     "name": "stdout",
     "output_type": "stream",
     "text": [
      "Epoch 20, Loss 0.081\n",
      "Training Accuracy: 0.9216, Testing Accuracy: 0.9304\n",
      "\n"
     ]
    },
    {
     "name": "stdout",
     "output_type": "stream",
     "text": [
      "Epoch 30, Loss 0.0696\n",
      "Training Accuracy: 0.9331, Testing Accuracy: 0.9451\n",
      "\n"
     ]
    },
    {
     "name": "stdout",
     "output_type": "stream",
     "text": [
      "Epoch 40, Loss 0.0627\n",
      "Training Accuracy: 0.9380, Testing Accuracy: 0.9511\n",
      "\n"
     ]
    },
    {
     "name": "stdout",
     "output_type": "stream",
     "text": [
      "Epoch 50, Loss 0.058\n",
      "Training Accuracy: 0.9421, Testing Accuracy: 0.9531\n",
      "\n"
     ]
    },
    {
     "name": "stdout",
     "output_type": "stream",
     "text": [
      "Epoch 60, Loss 0.0545\n",
      "Training Accuracy: 0.9458, Testing Accuracy: 0.9541\n",
      "\n"
     ]
    },
    {
     "name": "stdout",
     "output_type": "stream",
     "text": [
      "Epoch 70, Loss 0.0519\n",
      "Training Accuracy: 0.9477, Testing Accuracy: 0.9561\n",
      "\n"
     ]
    },
    {
     "name": "stdout",
     "output_type": "stream",
     "text": [
      "Epoch 80, Loss 0.0497\n",
      "Training Accuracy: 0.9494, Testing Accuracy: 0.9587\n",
      "\n"
     ]
    },
    {
     "name": "stdout",
     "output_type": "stream",
     "text": [
      "Epoch 90, Loss 0.048\n",
      "Training Accuracy: 0.9504, Testing Accuracy: 0.9617\n",
      "\n"
     ]
    },
    {
     "name": "stdout",
     "output_type": "stream",
     "text": [
      "Epoch 100, Loss 0.0465\n",
      "Training Accuracy: 0.9517, Testing Accuracy: 0.9637\n",
      "\n"
     ]
    },
    {
     "name": "stdout",
     "output_type": "stream",
     "text": [
      "Epoch 110, Loss 0.0452\n",
      "Training Accuracy: 0.9535, Testing Accuracy: 0.9642\n",
      "\n"
     ]
    },
    {
     "name": "stdout",
     "output_type": "stream",
     "text": [
      "Epoch 120, Loss 0.0441\n",
      "Training Accuracy: 0.9544, Testing Accuracy: 0.9642\n",
      "\n"
     ]
    },
    {
     "name": "stdout",
     "output_type": "stream",
     "text": [
      "Epoch 130, Loss 0.0431\n",
      "Training Accuracy: 0.9553, Testing Accuracy: 0.9652\n",
      "\n"
     ]
    },
    {
     "name": "stdout",
     "output_type": "stream",
     "text": [
      "Epoch 140, Loss 0.0423\n",
      "Training Accuracy: 0.9559, Testing Accuracy: 0.9657\n",
      "\n"
     ]
    },
    {
     "name": "stdout",
     "output_type": "stream",
     "text": [
      "Epoch 150, Loss 0.0415\n",
      "Training Accuracy: 0.9565, Testing Accuracy: 0.9657\n",
      "\n"
     ]
    },
    {
     "name": "stdout",
     "output_type": "stream",
     "text": [
      "Epoch 160, Loss 0.0408\n",
      "Training Accuracy: 0.9572, Testing Accuracy: 0.9657\n",
      "\n"
     ]
    },
    {
     "name": "stdout",
     "output_type": "stream",
     "text": [
      "Epoch 170, Loss 0.0402\n",
      "Training Accuracy: 0.9578, Testing Accuracy: 0.9657\n",
      "\n"
     ]
    },
    {
     "name": "stdout",
     "output_type": "stream",
     "text": [
      "Epoch 180, Loss 0.0396\n",
      "Training Accuracy: 0.9584, Testing Accuracy: 0.9657\n",
      "\n"
     ]
    },
    {
     "name": "stdout",
     "output_type": "stream",
     "text": [
      "Epoch 190, Loss 0.039\n",
      "Training Accuracy: 0.9585, Testing Accuracy: 0.9657\n",
      "\n"
     ]
    },
    {
     "name": "stdout",
     "output_type": "stream",
     "text": [
      "Epoch 200, Loss 0.0386\n",
      "Training Accuracy: 0.9585, Testing Accuracy: 0.9672\n",
      "\n"
     ]
    },
    {
     "name": "stdout",
     "output_type": "stream",
     "text": [
      "Epoch 210, Loss 0.0381\n",
      "Training Accuracy: 0.9589, Testing Accuracy: 0.9672\n",
      "\n"
     ]
    },
    {
     "name": "stdout",
     "output_type": "stream",
     "text": [
      "Epoch 220, Loss 0.0377\n",
      "Training Accuracy: 0.9596, Testing Accuracy: 0.9677\n",
      "\n"
     ]
    },
    {
     "name": "stdout",
     "output_type": "stream",
     "text": [
      "Epoch 230, Loss 0.0373\n",
      "Training Accuracy: 0.9600, Testing Accuracy: 0.9672\n",
      "\n"
     ]
    },
    {
     "name": "stdout",
     "output_type": "stream",
     "text": [
      "Epoch 240, Loss 0.0369\n",
      "Training Accuracy: 0.9603, Testing Accuracy: 0.9672\n",
      "\n"
     ]
    },
    {
     "data": {
      "text/plain": [
       "0.06894723021364509"
      ]
     },
     "execution_count": 23,
     "metadata": {},
     "output_type": "execute_result"
    }
   ],
   "source": [
    "lr_learner.train_loop(dl)"
   ]
  },
  {
   "cell_type": "code",
   "execution_count": 24,
   "id": "ca410940",
   "metadata": {
    "execution": {
     "iopub.execute_input": "2021-10-12T20:10:25.505733Z",
     "iopub.status.busy": "2021-10-12T20:10:25.505068Z",
     "iopub.status.idle": "2021-10-12T20:10:25.787063Z",
     "shell.execute_reply": "2021-10-12T20:10:25.786451Z"
    },
    "papermill": {
     "duration": 0.355844,
     "end_time": "2021-10-12T20:10:25.787210",
     "exception": false,
     "start_time": "2021-10-12T20:10:25.431366",
     "status": "completed"
    },
    "tags": []
   },
   "outputs": [
    {
     "data": {
      "text/plain": [
       "<matplotlib.legend.Legend at 0x7fae440fa8d0>"
      ]
     },
     "execution_count": 24,
     "metadata": {},
     "output_type": "execute_result"
    },
    {
     "data": {
      "image/png": "[encoded data removed]",
      "text/plain": [
       "<Figure size 1080x720 with 1 Axes>"
      ]
     },
     "metadata": {
      "needs_background": "light"
     },
     "output_type": "display_data"
    }
   ],
   "source": [
    "#comparing the results of NN and LR\n",
    "plt.figure(figsize=(15,10))\n",
    "\n",
    "# Neural Network plots\n",
    "plt.plot(acc_nn.accuracies, 'r-', label = \"Training Accuracies - NN\")\n",
    "plt.plot(acc_nn.test_accuracies, 'g-', label = \"Testing Accuracies - NN\")\n",
    "\n",
    "# Logistic Regression plots\n",
    "plt.plot(acc_lr.accuracies, 'k-', label = \"Training Accuracies - LR\")\n",
    "plt.plot(acc_lr.test_accuracies, 'b-', label = \"Testing Accuracies - LR\")\n",
    "plt.legend()"
   ]
  },
  {
   "cell_type": "markdown",
   "id": "80dfb35c",
   "metadata": {
    "papermill": {
     "duration": 0.05635,
     "end_time": "2021-10-12T20:10:25.901273",
     "exception": false,
     "start_time": "2021-10-12T20:10:25.844923",
     "status": "completed"
    },
    "tags": []
   },
   "source": [
    "#### Plotting the outputs of this layer of the NN.\n"
   ]
  },
  {
   "cell_type": "code",
   "execution_count": 25,
   "id": "45eb2ff5",
   "metadata": {
    "execution": {
     "iopub.execute_input": "2021-10-12T20:10:26.018844Z",
     "iopub.status.busy": "2021-10-12T20:10:26.018108Z",
     "iopub.status.idle": "2021-10-12T20:10:26.044289Z",
     "shell.execute_reply": "2021-10-12T20:10:26.044884Z"
    },
    "papermill": {
     "duration": 0.089137,
     "end_time": "2021-10-12T20:10:26.045069",
     "exception": false,
     "start_time": "2021-10-12T20:10:25.955932",
     "status": "completed"
    },
    "tags": []
   },
   "outputs": [],
   "source": [
    "new_model = Model(layers[:-2])\n",
    "testing_plot = new_model(testing_data_x)"
   ]
  },
  {
   "cell_type": "code",
   "execution_count": 26,
   "id": "4c0a5485",
   "metadata": {
    "execution": {
     "iopub.execute_input": "2021-10-12T20:10:26.174520Z",
     "iopub.status.busy": "2021-10-12T20:10:26.173811Z",
     "iopub.status.idle": "2021-10-12T20:10:26.424459Z",
     "shell.execute_reply": "2021-10-12T20:10:26.425013Z"
    },
    "papermill": {
     "duration": 0.315358,
     "end_time": "2021-10-12T20:10:26.425194",
     "exception": false,
     "start_time": "2021-10-12T20:10:26.109836",
     "status": "completed"
    },
    "tags": []
   },
   "outputs": [
    {
     "data": {
      "text/plain": [
       "Text(0.5, 1.0, 'Outputs')"
      ]
     },
     "execution_count": 26,
     "metadata": {},
     "output_type": "execute_result"
    },
    {
     "data": {
      "image/png": "[encoded data removed]",
      "text/plain": [
       "<Figure size 576x504 with 1 Axes>"
      ]
     },
     "metadata": {
      "needs_background": "light"
     },
     "output_type": "display_data"
    }
   ],
   "source": [
    "# Plotting the scatter plot of points and color coding by class\n",
    "plt.figure(figsize=(8,7))\n",
    "plt.scatter(testing_plot[:,0], testing_plot[:,1], alpha = 0.1, c = y_test.ravel());\n",
    "plt.title('Outputs')"
   ]
  },
  {
   "cell_type": "markdown",
   "id": "a74fcf8f",
   "metadata": {
    "papermill": {
     "duration": 0.059216,
     "end_time": "2021-10-12T20:10:26.541505",
     "exception": false,
     "start_time": "2021-10-12T20:10:26.482289",
     "status": "completed"
    },
    "tags": []
   },
   "source": [
    "Probability contours"
   ]
  },
  {
   "cell_type": "code",
   "execution_count": 27,
   "id": "d0afc8e3",
   "metadata": {
    "execution": {
     "iopub.execute_input": "2021-10-12T20:10:26.688457Z",
     "iopub.status.busy": "2021-10-12T20:10:26.687770Z",
     "iopub.status.idle": "2021-10-12T20:10:26.703429Z",
     "shell.execute_reply": "2021-10-12T20:10:26.702755Z"
    },
    "papermill": {
     "duration": 0.104137,
     "end_time": "2021-10-12T20:10:26.703568",
     "exception": false,
     "start_time": "2021-10-12T20:10:26.599431",
     "status": "completed"
    },
    "tags": []
   },
   "outputs": [],
   "source": [
    "model_prob = Model(layers[-2:]) "
   ]
  },
  {
   "cell_type": "code",
   "execution_count": 28,
   "id": "9b96e238",
   "metadata": {
    "execution": {
     "iopub.execute_input": "2021-10-12T20:10:26.826006Z",
     "iopub.status.busy": "2021-10-12T20:10:26.823346Z",
     "iopub.status.idle": "2021-10-12T20:10:26.840479Z",
     "shell.execute_reply": "2021-10-12T20:10:26.841005Z"
    },
    "papermill": {
     "duration": 0.081136,
     "end_time": "2021-10-12T20:10:26.841177",
     "exception": false,
     "start_time": "2021-10-12T20:10:26.760041",
     "status": "completed"
    },
    "tags": []
   },
   "outputs": [],
   "source": [
    "#creating the x and y ranges according to the above generated plot.\n",
    "x_range = np.linspace(-4, 1, 100) \n",
    "y_range = np.linspace(-6, 6, 100) \n",
    "x_grid, y_grid = np.meshgrid(x_range, y_range) # x_grid and y_grig are of size 100 X 100\n",
    "\n",
    "# converting x_grid and y_grid to continuous arrays\n",
    "x_gridflat = np.ravel(x_grid)\n",
    "y_gridflat = np.ravel(y_grid)\n",
    "\n",
    "# The last layer of the current model takes two columns as input. Hence transpose of np.vstack() is required.\n",
    "X = np.vstack((x_gridflat, y_gridflat)).T\n",
    "\n",
    "prob_contour = model_prob(X).reshape(100,100) "
   ]
  },
  {
   "cell_type": "code",
   "execution_count": 29,
   "id": "da72499a",
   "metadata": {
    "execution": {
     "iopub.execute_input": "2021-10-12T20:10:26.967660Z",
     "iopub.status.busy": "2021-10-12T20:10:26.959808Z",
     "iopub.status.idle": "2021-10-12T20:10:27.287889Z",
     "shell.execute_reply": "2021-10-12T20:10:27.288444Z"
    },
    "papermill": {
     "duration": 0.38844,
     "end_time": "2021-10-12T20:10:27.288603",
     "exception": false,
     "start_time": "2021-10-12T20:10:26.900163",
     "status": "completed"
    },
    "tags": []
   },
   "outputs": [
    {
     "data": {
      "image/png": "[encoded data removed]",
      "text/plain": [
       "<Figure size 720x648 with 1 Axes>"
      ]
     },
     "metadata": {
      "needs_background": "light"
     },
     "output_type": "display_data"
    }
   ],
   "source": [
    "plt.figure(figsize=(10,9))\n",
    "plt.scatter(testing_plot[:,0], testing_plot[:,1], alpha = 0.1, c = y_test.ravel())\n",
    "contours = plt.contour(x_grid,y_grid,prob_contour)\n",
    "plt.title('Probability Contours')\n",
    "plt.clabel(contours, inline = True );"
   ]
  },
  {
   "cell_type": "code",
   "execution_count": null,
   "id": "e81b4ac7",
   "metadata": {
    "papermill": {
     "duration": 0.056461,
     "end_time": "2021-10-12T20:10:27.406271",
     "exception": false,
     "start_time": "2021-10-12T20:10:27.349810",
     "status": "completed"
    },
    "tags": []
   },
   "outputs": [],
   "source": []
  }
 ],
 "metadata": {
  "kernelspec": {
   "display_name": "Python 3",
   "language": "python",
   "name": "python3"
  },
  "language_info": {
   "codemirror_mode": {
    "name": "ipython",
    "version": 3
   },
   "file_extension": ".py",
   "mimetype": "text/x-python",
   "name": "python",
   "nbconvert_exporter": "python",
   "pygments_lexer": "ipython3",
   "version": "3.6.15"
  },
  "papermill": {
   "default_parameters": {},
   "duration": 157.871101,
   "end_time": "2021-10-12T20:10:27.874386",
   "environment_variables": {},
   "exception": null,
   "input_path": "2020-08-11-part2.ipynb",
   "output_path": "2020-08-11-part2.ipynb",
   "parameters": {},
   "start_time": "2021-10-12T20:07:50.003285",
   "version": "2.3.3"
  }
 },
 "nbformat": 4,
 "nbformat_minor": 5
}