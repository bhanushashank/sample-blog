{
 "cells": [
  {
   "cell_type": "markdown",
   "id": "98380cd3",
   "metadata": {
    "papermill": {
     "duration": 0.028718,
     "end_time": "2022-05-17T10:10:22.105083",
     "exception": false,
     "start_time": "2022-05-17T10:10:22.076365",
     "status": "completed"
    },
    "tags": []
   },
   "source": [
    "# Distinguish Your Own Digits (DYOD)"
   ]
  },
  {
   "cell_type": "markdown",
   "id": "ef31240d",
   "metadata": {
    "papermill": {
     "duration": 0.026831,
     "end_time": "2022-05-17T10:10:22.157672",
     "exception": false,
     "start_time": "2022-05-17T10:10:22.130841",
     "status": "completed"
    },
    "tags": []
   },
   "source": [
    "You are going to write a classifier that distinguishes between the number 3 and number 8."
   ]
  },
  {
   "cell_type": "code",
   "execution_count": 1,
   "id": "b15c8646",
   "metadata": {
    "execution": {
     "iopub.execute_input": "2022-05-17T10:10:22.216771Z",
     "iopub.status.busy": "2022-05-17T10:10:22.216252Z",
     "iopub.status.idle": "2022-05-17T10:10:22.225833Z",
     "shell.execute_reply": "2022-05-17T10:10:22.226304Z"
    },
    "papermill": {
     "duration": 0.044091,
     "end_time": "2022-05-17T10:10:22.226432",
     "exception": false,
     "start_time": "2022-05-17T10:10:22.182341",
     "status": "completed"
    },
    "tags": []
   },
   "outputs": [],
   "source": [
    "%load_ext autoreload\n",
    "%autoreload 2"
   ]
  },
  {
   "cell_type": "code",
   "execution_count": 2,
   "id": "22ef38dc",
   "metadata": {
    "execution": {
     "iopub.execute_input": "2022-05-17T10:10:22.278916Z",
     "iopub.status.busy": "2022-05-17T10:10:22.278429Z",
     "iopub.status.idle": "2022-05-17T10:10:22.784323Z",
     "shell.execute_reply": "2022-05-17T10:10:22.783881Z"
    },
    "papermill": {
     "duration": 0.533366,
     "end_time": "2022-05-17T10:10:22.784437",
     "exception": false,
     "start_time": "2022-05-17T10:10:22.251071",
     "status": "completed"
    },
    "tags": []
   },
   "outputs": [],
   "source": [
    "%matplotlib inline\n",
    "import numpy as np\n",
    "import matplotlib.pyplot as plt\n",
    "import pandas as pd"
   ]
  },
  {
   "cell_type": "markdown",
   "id": "ba036198",
   "metadata": {
    "papermill": {
     "duration": 0.024899,
     "end_time": "2022-05-17T10:10:22.834215",
     "exception": false,
     "start_time": "2022-05-17T10:10:22.809316",
     "status": "completed"
    },
    "tags": []
   },
   "source": [
    "From the command line run `pip install mnist`. This is a library that will help you bring down the mnist dataset. If you run this from a notebook, you need to put  `!pip install mnist` in a cell by itself."
   ]
  },
  {
   "cell_type": "code",
   "execution_count": 3,
   "id": "bb6ad8a1",
   "metadata": {
    "execution": {
     "iopub.execute_input": "2022-05-17T10:10:22.890593Z",
     "iopub.status.busy": "2022-05-17T10:10:22.889817Z",
     "iopub.status.idle": "2022-05-17T10:10:24.581986Z",
     "shell.execute_reply": "2022-05-17T10:10:24.581518Z"
    },
    "papermill": {
     "duration": 1.722937,
     "end_time": "2022-05-17T10:10:24.582108",
     "exception": false,
     "start_time": "2022-05-17T10:10:22.859171",
     "status": "completed"
    },
    "tags": []
   },
   "outputs": [
    {
     "name": "stdout",
     "output_type": "stream",
     "text": [
      "Collecting mnist\r\n"
     ]
    },
    {
     "name": "stdout",
     "output_type": "stream",
     "text": [
      "  Downloading mnist-0.2.2-py2.py3-none-any.whl (3.5 kB)\r\n",
      "Requirement already satisfied: numpy in /opt/hostedtoolcache/Python/3.6.15/x64/lib/python3.6/site-packages (from mnist) (1.19.5)\r\n"
     ]
    },
    {
     "name": "stdout",
     "output_type": "stream",
     "text": [
      "Installing collected packages: mnist\r\n"
     ]
    },
    {
     "name": "stdout",
     "output_type": "stream",
     "text": [
      "Successfully installed mnist-0.2.2\r\n"
     ]
    }
   ],
   "source": [
    "!pip install mnist"
   ]
  },
  {
   "cell_type": "markdown",
   "id": "69df9c9a",
   "metadata": {
    "papermill": {
     "duration": 0.025955,
     "end_time": "2022-05-17T10:10:24.634096",
     "exception": false,
     "start_time": "2022-05-17T10:10:24.608141",
     "status": "completed"
    },
    "tags": []
   },
   "source": [
    "## Preparing the Data"
   ]
  },
  {
   "cell_type": "code",
   "execution_count": 4,
   "id": "7f69d806",
   "metadata": {
    "execution": {
     "iopub.execute_input": "2022-05-17T10:10:24.688862Z",
     "iopub.status.busy": "2022-05-17T10:10:24.688378Z",
     "iopub.status.idle": "2022-05-17T10:10:24.701368Z",
     "shell.execute_reply": "2022-05-17T10:10:24.701731Z"
    },
    "papermill": {
     "duration": 0.042091,
     "end_time": "2022-05-17T10:10:24.701842",
     "exception": false,
     "start_time": "2022-05-17T10:10:24.659751",
     "status": "completed"
    },
    "tags": []
   },
   "outputs": [],
   "source": [
    "import mnist"
   ]
  },
  {
   "cell_type": "code",
   "execution_count": 5,
   "id": "a411e44f",
   "metadata": {
    "execution": {
     "iopub.execute_input": "2022-05-17T10:10:24.756809Z",
     "iopub.status.busy": "2022-05-17T10:10:24.756321Z",
     "iopub.status.idle": "2022-05-17T10:10:25.306140Z",
     "shell.execute_reply": "2022-05-17T10:10:25.305671Z"
    },
    "papermill": {
     "duration": 0.578621,
     "end_time": "2022-05-17T10:10:25.306254",
     "exception": false,
     "start_time": "2022-05-17T10:10:24.727633",
     "status": "completed"
    },
    "tags": []
   },
   "outputs": [],
   "source": [
    "train_images = mnist.train_images()\n",
    "train_labels = mnist.train_labels()"
   ]
  },
  {
   "cell_type": "code",
   "execution_count": 6,
   "id": "dceab3a5",
   "metadata": {
    "execution": {
     "iopub.execute_input": "2022-05-17T10:10:25.362266Z",
     "iopub.status.busy": "2022-05-17T10:10:25.361746Z",
     "iopub.status.idle": "2022-05-17T10:10:25.374909Z",
     "shell.execute_reply": "2022-05-17T10:10:25.375276Z"
    },
    "papermill": {
     "duration": 0.043114,
     "end_time": "2022-05-17T10:10:25.375389",
     "exception": false,
     "start_time": "2022-05-17T10:10:25.332275",
     "status": "completed"
    },
    "tags": []
   },
   "outputs": [
    {
     "data": {
      "text/plain": [
       "((60000, 28, 28), (60000,))"
      ]
     },
     "execution_count": 6,
     "metadata": {},
     "output_type": "execute_result"
    }
   ],
   "source": [
    "train_images.shape, train_labels.shape"
   ]
  },
  {
   "cell_type": "code",
   "execution_count": 7,
   "id": "f50dc2bb",
   "metadata": {
    "execution": {
     "iopub.execute_input": "2022-05-17T10:10:25.430839Z",
     "iopub.status.busy": "2022-05-17T10:10:25.430357Z",
     "iopub.status.idle": "2022-05-17T10:10:25.602629Z",
     "shell.execute_reply": "2022-05-17T10:10:25.603037Z"
    },
    "papermill": {
     "duration": 0.201673,
     "end_time": "2022-05-17T10:10:25.603170",
     "exception": false,
     "start_time": "2022-05-17T10:10:25.401497",
     "status": "completed"
    },
    "tags": []
   },
   "outputs": [],
   "source": [
    "test_images = mnist.test_images()\n",
    "test_labels = mnist.test_labels()"
   ]
  },
  {
   "cell_type": "code",
   "execution_count": 8,
   "id": "fc38cf1b",
   "metadata": {
    "execution": {
     "iopub.execute_input": "2022-05-17T10:10:25.659202Z",
     "iopub.status.busy": "2022-05-17T10:10:25.658711Z",
     "iopub.status.idle": "2022-05-17T10:10:25.670530Z",
     "shell.execute_reply": "2022-05-17T10:10:25.670983Z"
    },
    "papermill": {
     "duration": 0.041458,
     "end_time": "2022-05-17T10:10:25.671094",
     "exception": false,
     "start_time": "2022-05-17T10:10:25.629636",
     "status": "completed"
    },
    "tags": []
   },
   "outputs": [
    {
     "data": {
      "text/plain": [
       "((10000, 28, 28), (10000,))"
      ]
     },
     "execution_count": 8,
     "metadata": {},
     "output_type": "execute_result"
    }
   ],
   "source": [
    "test_images.shape, test_labels.shape"
   ]
  },
  {
   "cell_type": "code",
   "execution_count": 9,
   "id": "f9ed8fe0",
   "metadata": {
    "execution": {
     "iopub.execute_input": "2022-05-17T10:10:25.726958Z",
     "iopub.status.busy": "2022-05-17T10:10:25.726472Z",
     "iopub.status.idle": "2022-05-17T10:10:25.858325Z",
     "shell.execute_reply": "2022-05-17T10:10:25.858735Z"
    },
    "papermill": {
     "duration": 0.161356,
     "end_time": "2022-05-17T10:10:25.858856",
     "exception": false,
     "start_time": "2022-05-17T10:10:25.697500",
     "status": "completed"
    },
    "tags": []
   },
   "outputs": [
    {
     "name": "stdout",
     "output_type": "stream",
     "text": [
      "2\n"
     ]
    },
    {
     "data": {
      "text/plain": [
       "<matplotlib.image.AxesImage at 0x7ff9aa7a2518>"
      ]
     },
     "execution_count": 9,
     "metadata": {},
     "output_type": "execute_result"
    },
    {
     "data": {
      "image/png": "[encoded data removed]",
      "text/plain": [
       "<Figure size 432x288 with 1 Axes>"
      ]
     },
     "metadata": {
      "needs_background": "light"
     },
     "output_type": "display_data"
    }
   ],
   "source": [
    "image_index = 7776 # You may select anything up to 60,000\n",
    "print(train_labels[image_index]) \n",
    "plt.imshow(train_images[image_index], cmap='Greys')"
   ]
  },
  {
   "cell_type": "markdown",
   "id": "a8d2388d",
   "metadata": {
    "papermill": {
     "duration": 0.027422,
     "end_time": "2022-05-17T10:10:25.914108",
     "exception": false,
     "start_time": "2022-05-17T10:10:25.886686",
     "status": "completed"
    },
    "tags": []
   },
   "source": [
    "## Filter data to get 3 and 8 out"
   ]
  },
  {
   "cell_type": "code",
   "execution_count": 10,
   "id": "776f7fc7",
   "metadata": {
    "execution": {
     "iopub.execute_input": "2022-05-17T10:10:25.974524Z",
     "iopub.status.busy": "2022-05-17T10:10:25.972340Z",
     "iopub.status.idle": "2022-05-17T10:10:25.988741Z",
     "shell.execute_reply": "2022-05-17T10:10:25.988314Z"
    },
    "papermill": {
     "duration": 0.04727,
     "end_time": "2022-05-17T10:10:25.988841",
     "exception": false,
     "start_time": "2022-05-17T10:10:25.941571",
     "status": "completed"
    },
    "tags": []
   },
   "outputs": [],
   "source": [
    "train_filter = np.where((train_labels == 3 ) | (train_labels == 8))\n",
    "test_filter = np.where((test_labels == 3) | (test_labels == 8))\n",
    "X_train, y_train = train_images[train_filter], train_labels[train_filter]\n",
    "X_test, y_test = test_images[test_filter], test_labels[test_filter]"
   ]
  },
  {
   "cell_type": "markdown",
   "id": "948f0b7e",
   "metadata": {
    "papermill": {
     "duration": 0.027708,
     "end_time": "2022-05-17T10:10:26.044207",
     "exception": false,
     "start_time": "2022-05-17T10:10:26.016499",
     "status": "completed"
    },
    "tags": []
   },
   "source": [
    "We normalize the pizel values in the 0 to 1 range"
   ]
  },
  {
   "cell_type": "code",
   "execution_count": 11,
   "id": "ee4c2166",
   "metadata": {
    "execution": {
     "iopub.execute_input": "2022-05-17T10:10:26.102115Z",
     "iopub.status.busy": "2022-05-17T10:10:26.101590Z",
     "iopub.status.idle": "2022-05-17T10:10:26.141967Z",
     "shell.execute_reply": "2022-05-17T10:10:26.141484Z"
    },
    "papermill": {
     "duration": 0.070417,
     "end_time": "2022-05-17T10:10:26.142080",
     "exception": false,
     "start_time": "2022-05-17T10:10:26.071663",
     "status": "completed"
    },
    "tags": []
   },
   "outputs": [],
   "source": [
    "X_train = X_train/255.\n",
    "X_test = X_test/255."
   ]
  },
  {
   "cell_type": "markdown",
   "id": "ddcf4fab",
   "metadata": {
    "papermill": {
     "duration": 0.027519,
     "end_time": "2022-05-17T10:10:26.197294",
     "exception": false,
     "start_time": "2022-05-17T10:10:26.169775",
     "status": "completed"
    },
    "tags": []
   },
   "source": [
    "And setup the labels as 1 (when the digit is 3) and 0 (when the digit is 8)"
   ]
  },
  {
   "cell_type": "code",
   "execution_count": 12,
   "id": "7dc908f2",
   "metadata": {
    "execution": {
     "iopub.execute_input": "2022-05-17T10:10:26.255712Z",
     "iopub.status.busy": "2022-05-17T10:10:26.255227Z",
     "iopub.status.idle": "2022-05-17T10:10:26.265944Z",
     "shell.execute_reply": "2022-05-17T10:10:26.266363Z"
    },
    "papermill": {
     "duration": 0.04159,
     "end_time": "2022-05-17T10:10:26.266473",
     "exception": false,
     "start_time": "2022-05-17T10:10:26.224883",
     "status": "completed"
    },
    "tags": []
   },
   "outputs": [],
   "source": [
    "y_train = 1*(y_train==3)\n",
    "y_test = 1*(y_test==3)"
   ]
  },
  {
   "cell_type": "code",
   "execution_count": 13,
   "id": "01e4e969",
   "metadata": {
    "execution": {
     "iopub.execute_input": "2022-05-17T10:10:26.324182Z",
     "iopub.status.busy": "2022-05-17T10:10:26.323701Z",
     "iopub.status.idle": "2022-05-17T10:10:26.335833Z",
     "shell.execute_reply": "2022-05-17T10:10:26.336198Z"
    },
    "papermill": {
     "duration": 0.042346,
     "end_time": "2022-05-17T10:10:26.336308",
     "exception": false,
     "start_time": "2022-05-17T10:10:26.293962",
     "status": "completed"
    },
    "tags": []
   },
   "outputs": [
    {
     "data": {
      "text/plain": [
       "((11982, 28, 28), (1984, 28, 28))"
      ]
     },
     "execution_count": 13,
     "metadata": {},
     "output_type": "execute_result"
    }
   ],
   "source": [
    "X_train.shape, X_test.shape"
   ]
  },
  {
   "cell_type": "markdown",
   "id": "5ccf3f85",
   "metadata": {
    "papermill": {
     "duration": 0.027566,
     "end_time": "2022-05-17T10:10:26.391525",
     "exception": false,
     "start_time": "2022-05-17T10:10:26.363959",
     "status": "completed"
    },
    "tags": []
   },
   "source": [
    "We reshape the data to flatten the image pixels into a set of features or co-variates:"
   ]
  },
  {
   "cell_type": "code",
   "execution_count": 14,
   "id": "5286a4a3",
   "metadata": {
    "execution": {
     "iopub.execute_input": "2022-05-17T10:10:26.450608Z",
     "iopub.status.busy": "2022-05-17T10:10:26.450109Z",
     "iopub.status.idle": "2022-05-17T10:10:26.462583Z",
     "shell.execute_reply": "2022-05-17T10:10:26.462985Z"
    },
    "papermill": {
     "duration": 0.043854,
     "end_time": "2022-05-17T10:10:26.463096",
     "exception": false,
     "start_time": "2022-05-17T10:10:26.419242",
     "status": "completed"
    },
    "tags": []
   },
   "outputs": [
    {
     "data": {
      "text/plain": [
       "((11982, 784), (1984, 784))"
      ]
     },
     "execution_count": 14,
     "metadata": {},
     "output_type": "execute_result"
    }
   ],
   "source": [
    "X_train = X_train.reshape(X_train.shape[0], -1)\n",
    "X_test = X_test.reshape(X_test.shape[0], -1)\n",
    "X_train.shape, X_test.shape"
   ]
  },
  {
   "cell_type": "code",
   "execution_count": 15,
   "id": "73c5f88a",
   "metadata": {
    "execution": {
     "iopub.execute_input": "2022-05-17T10:10:26.523126Z",
     "iopub.status.busy": "2022-05-17T10:10:26.522614Z",
     "iopub.status.idle": "2022-05-17T10:10:26.540364Z",
     "shell.execute_reply": "2022-05-17T10:10:26.539971Z"
    },
    "papermill": {
     "duration": 0.04933,
     "end_time": "2022-05-17T10:10:26.540464",
     "exception": false,
     "start_time": "2022-05-17T10:10:26.491134",
     "status": "completed"
    },
    "tags": []
   },
   "outputs": [],
   "source": [
    "#Impoting functions from 'Kudzu'\n",
    "from kudzu.model import Model\n",
    "from kudzu.train import Learner\n",
    "from kudzu.optim import GD\n",
    "from kudzu.data import Data, Sampler,Dataloader\n",
    "\n",
    "from kudzu.callbacks import AccCallback\n",
    "from kudzu.callbacks import ClfCallback\n",
    "\n",
    "from kudzu.loss import MSE\n",
    "\n",
    "from kudzu.layer import Sigmoid,Relu\n",
    "from kudzu.layer import Affine"
   ]
  },
  {
   "cell_type": "markdown",
   "id": "bc01172a",
   "metadata": {
    "papermill": {
     "duration": 0.028162,
     "end_time": "2022-05-17T10:10:26.596745",
     "exception": false,
     "start_time": "2022-05-17T10:10:26.568583",
     "status": "completed"
    },
    "tags": []
   },
   "source": [
    "### Let us create a `Config` class, to store important parameters. \n",
    "This class essentially plays the role of a dictionary."
   ]
  },
  {
   "cell_type": "code",
   "execution_count": 16,
   "id": "978281aa",
   "metadata": {
    "execution": {
     "iopub.execute_input": "2022-05-17T10:10:26.655965Z",
     "iopub.status.busy": "2022-05-17T10:10:26.655479Z",
     "iopub.status.idle": "2022-05-17T10:10:26.667034Z",
     "shell.execute_reply": "2022-05-17T10:10:26.666623Z"
    },
    "papermill": {
     "duration": 0.042407,
     "end_time": "2022-05-17T10:10:26.667127",
     "exception": false,
     "start_time": "2022-05-17T10:10:26.624720",
     "status": "completed"
    },
    "tags": []
   },
   "outputs": [],
   "source": [
    "class Config:\n",
    "    pass\n",
    "config = Config()\n",
    "config.lr = 0.001\n",
    "config.num_epochs = 250\n",
    "config.bs = 50"
   ]
  },
  {
   "cell_type": "markdown",
   "id": "1385fa59",
   "metadata": {
    "papermill": {
     "duration": 0.028023,
     "end_time": "2022-05-17T10:10:26.723293",
     "exception": false,
     "start_time": "2022-05-17T10:10:26.695270",
     "status": "completed"
    },
    "tags": []
   },
   "source": [
    "### Running Models with the Training data\n",
    "Details about the network layers:\n",
    "- A first affine layer has 784 inputs and does 100 affine transforms. These are followed by a Relu\n",
    "- A second affine layer has 100 inputs from the 100 activations of the past layer, and does 100 affine transforms. These are followed by a Relu\n",
    "- A third affine layer has 100 activations and does 2 affine transformations to create an embedding for visualization. There is no non-linearity here.\n",
    "- A final \"logistic regression\" which has an affine transform from 2 inputs to 1 output, which is squeezed through a sigmoid.\n"
   ]
  },
  {
   "cell_type": "code",
   "execution_count": 17,
   "id": "2b9c66db",
   "metadata": {
    "execution": {
     "iopub.execute_input": "2022-05-17T10:10:26.783209Z",
     "iopub.status.busy": "2022-05-17T10:10:26.782697Z",
     "iopub.status.idle": "2022-05-17T10:10:26.794904Z",
     "shell.execute_reply": "2022-05-17T10:10:26.794519Z"
    },
    "papermill": {
     "duration": 0.043603,
     "end_time": "2022-05-17T10:10:26.795002",
     "exception": false,
     "start_time": "2022-05-17T10:10:26.751399",
     "status": "completed"
    },
    "tags": []
   },
   "outputs": [],
   "source": [
    "data = Data(X_train, y_train.reshape(-1,1))\n",
    "sampler = Sampler(data, config.bs, shuffle=True)\n",
    "\n",
    "dl = Dataloader(data, sampler)\n",
    "\n",
    "opt = GD(config.lr)\n",
    "loss = MSE()"
   ]
  },
  {
   "cell_type": "code",
   "execution_count": 18,
   "id": "b275e4c2",
   "metadata": {
    "execution": {
     "iopub.execute_input": "2022-05-17T10:10:26.854507Z",
     "iopub.status.busy": "2022-05-17T10:10:26.854017Z",
     "iopub.status.idle": "2022-05-17T10:10:26.865662Z",
     "shell.execute_reply": "2022-05-17T10:10:26.865262Z"
    },
    "papermill": {
     "duration": 0.042682,
     "end_time": "2022-05-17T10:10:26.865761",
     "exception": false,
     "start_time": "2022-05-17T10:10:26.823079",
     "status": "completed"
    },
    "tags": []
   },
   "outputs": [],
   "source": [
    "training_data_x = X_train\n",
    "testing_data_x = X_test\n",
    "training_data_y = y_train.reshape(-1,1)\n",
    "testing_data_y = y_test.reshape(-1,1)"
   ]
  },
  {
   "cell_type": "code",
   "execution_count": 19,
   "id": "76951160",
   "metadata": {
    "execution": {
     "iopub.execute_input": "2022-05-17T10:10:26.925566Z",
     "iopub.status.busy": "2022-05-17T10:10:26.925064Z",
     "iopub.status.idle": "2022-05-17T10:10:26.942590Z",
     "shell.execute_reply": "2022-05-17T10:10:26.942114Z"
    },
    "papermill": {
     "duration": 0.048761,
     "end_time": "2022-05-17T10:10:26.942684",
     "exception": false,
     "start_time": "2022-05-17T10:10:26.893923",
     "status": "completed"
    },
    "tags": []
   },
   "outputs": [
    {
     "name": "stdout",
     "output_type": "stream",
     "text": [
      "xavier\n",
      "xavier\n",
      "xavier\n",
      "xavier\n",
      "xavier\n"
     ]
    }
   ],
   "source": [
    "layers = [Affine(\"first\", 784, 100), Relu(\"first\"), Affine(\"second\", 100, 100), Relu(\"second\"), Affine(\"third\", 100, 2), Affine(\"last\", 2, 1), Sigmoid(\"last\")]\n",
    "model_nn = Model(layers)\n",
    "model_lr = Model([Affine(\"logits\", 784, 1), Sigmoid(\"sigmoid\")])"
   ]
  },
  {
   "cell_type": "code",
   "execution_count": 20,
   "id": "6eede77a",
   "metadata": {
    "execution": {
     "iopub.execute_input": "2022-05-17T10:10:27.003279Z",
     "iopub.status.busy": "2022-05-17T10:10:27.002791Z",
     "iopub.status.idle": "2022-05-17T10:10:27.014816Z",
     "shell.execute_reply": "2022-05-17T10:10:27.014393Z"
    },
    "papermill": {
     "duration": 0.043908,
     "end_time": "2022-05-17T10:10:27.014912",
     "exception": false,
     "start_time": "2022-05-17T10:10:26.971004",
     "status": "completed"
    },
    "tags": []
   },
   "outputs": [],
   "source": [
    "nn_learner = Learner(loss, model_nn, opt, config.num_epochs)\n",
    "acc_nn = ClfCallback(nn_learner, config.bs, training_data_x , testing_data_x, training_data_y, testing_data_y)\n",
    "nn_learner.set_callbacks([acc_nn])"
   ]
  },
  {
   "cell_type": "code",
   "execution_count": 21,
   "id": "877b6cc7",
   "metadata": {
    "execution": {
     "iopub.execute_input": "2022-05-17T10:10:27.075416Z",
     "iopub.status.busy": "2022-05-17T10:10:27.074915Z",
     "iopub.status.idle": "2022-05-17T10:10:27.087999Z",
     "shell.execute_reply": "2022-05-17T10:10:27.087567Z"
    },
    "papermill": {
     "duration": 0.044759,
     "end_time": "2022-05-17T10:10:27.088097",
     "exception": false,
     "start_time": "2022-05-17T10:10:27.043338",
     "status": "completed"
    },
    "tags": []
   },
   "outputs": [],
   "source": [
    "lr_learner = Learner(loss, model_lr, opt, config.num_epochs)\n",
    "acc_lr = ClfCallback(lr_learner, config.bs, training_data_x , testing_data_x, training_data_y, testing_data_y)\n",
    "lr_learner.set_callbacks([acc_lr])"
   ]
  },
  {
   "cell_type": "code",
   "execution_count": 22,
   "id": "d9b133c3",
   "metadata": {
    "execution": {
     "iopub.execute_input": "2022-05-17T10:10:27.148134Z",
     "iopub.status.busy": "2022-05-17T10:10:27.147636Z",
     "iopub.status.idle": "2022-05-17T10:13:22.665435Z",
     "shell.execute_reply": "2022-05-17T10:13:22.665867Z"
    },
    "papermill": {
     "duration": 175.549591,
     "end_time": "2022-05-17T10:13:22.666015",
     "exception": false,
     "start_time": "2022-05-17T10:10:27.116424",
     "status": "completed"
    },
    "tags": []
   },
   "outputs": [
    {
     "name": "stdout",
     "output_type": "stream",
     "text": [
      "Epoch 0, Loss 0.245\n",
      "Training Accuracy: 0.6068, Testing Accuracy: 0.6058\n",
      "\n"
     ]
    },
    {
     "name": "stdout",
     "output_type": "stream",
     "text": [
      "Epoch 10, Loss 0.08\n",
      "Training Accuracy: 0.9238, Testing Accuracy: 0.9345\n",
      "\n"
     ]
    },
    {
     "name": "stdout",
     "output_type": "stream",
     "text": [
      "Epoch 20, Loss 0.0526\n",
      "Training Accuracy: 0.9438, Testing Accuracy: 0.9481\n",
      "\n"
     ]
    },
    {
     "name": "stdout",
     "output_type": "stream",
     "text": [
      "Epoch 30, Loss 0.0426\n",
      "Training Accuracy: 0.9516, Testing Accuracy: 0.9577\n",
      "\n"
     ]
    },
    {
     "name": "stdout",
     "output_type": "stream",
     "text": [
      "Epoch 40, Loss 0.0373\n",
      "Training Accuracy: 0.9562, Testing Accuracy: 0.9632\n",
      "\n"
     ]
    },
    {
     "name": "stdout",
     "output_type": "stream",
     "text": [
      "Epoch 50, Loss 0.0339\n",
      "Training Accuracy: 0.9601, Testing Accuracy: 0.9652\n",
      "\n"
     ]
    },
    {
     "name": "stdout",
     "output_type": "stream",
     "text": [
      "Epoch 60, Loss 0.0315\n",
      "Training Accuracy: 0.9624, Testing Accuracy: 0.9682\n",
      "\n"
     ]
    },
    {
     "name": "stdout",
     "output_type": "stream",
     "text": [
      "Epoch 70, Loss 0.0297\n",
      "Training Accuracy: 0.9654, Testing Accuracy: 0.9698\n",
      "\n"
     ]
    },
    {
     "name": "stdout",
     "output_type": "stream",
     "text": [
      "Epoch 80, Loss 0.0282\n",
      "Training Accuracy: 0.9669, Testing Accuracy: 0.9718\n",
      "\n"
     ]
    },
    {
     "name": "stdout",
     "output_type": "stream",
     "text": [
      "Epoch 90, Loss 0.027\n",
      "Training Accuracy: 0.9680, Testing Accuracy: 0.9718\n",
      "\n"
     ]
    },
    {
     "name": "stdout",
     "output_type": "stream",
     "text": [
      "Epoch 100, Loss 0.026\n",
      "Training Accuracy: 0.9690, Testing Accuracy: 0.9723\n",
      "\n"
     ]
    },
    {
     "name": "stdout",
     "output_type": "stream",
     "text": [
      "Epoch 110, Loss 0.0251\n",
      "Training Accuracy: 0.9710, Testing Accuracy: 0.9743\n",
      "\n"
     ]
    },
    {
     "name": "stdout",
     "output_type": "stream",
     "text": [
      "Epoch 120, Loss 0.0242\n",
      "Training Accuracy: 0.9721, Testing Accuracy: 0.9738\n",
      "\n"
     ]
    },
    {
     "name": "stdout",
     "output_type": "stream",
     "text": [
      "Epoch 130, Loss 0.0235\n",
      "Training Accuracy: 0.9730, Testing Accuracy: 0.9738\n",
      "\n"
     ]
    },
    {
     "name": "stdout",
     "output_type": "stream",
     "text": [
      "Epoch 140, Loss 0.0228\n",
      "Training Accuracy: 0.9740, Testing Accuracy: 0.9753\n",
      "\n"
     ]
    },
    {
     "name": "stdout",
     "output_type": "stream",
     "text": [
      "Epoch 150, Loss 0.0222\n",
      "Training Accuracy: 0.9747, Testing Accuracy: 0.9753\n",
      "\n"
     ]
    },
    {
     "name": "stdout",
     "output_type": "stream",
     "text": [
      "Epoch 160, Loss 0.0216\n",
      "Training Accuracy: 0.9754, Testing Accuracy: 0.9758\n",
      "\n"
     ]
    },
    {
     "name": "stdout",
     "output_type": "stream",
     "text": [
      "Epoch 170, Loss 0.021\n",
      "Training Accuracy: 0.9763, Testing Accuracy: 0.9763\n",
      "\n"
     ]
    },
    {
     "name": "stdout",
     "output_type": "stream",
     "text": [
      "Epoch 180, Loss 0.0205\n",
      "Training Accuracy: 0.9772, Testing Accuracy: 0.9763\n",
      "\n"
     ]
    },
    {
     "name": "stdout",
     "output_type": "stream",
     "text": [
      "Epoch 190, Loss 0.02\n",
      "Training Accuracy: 0.9778, Testing Accuracy: 0.9768\n",
      "\n"
     ]
    },
    {
     "name": "stdout",
     "output_type": "stream",
     "text": [
      "Epoch 200, Loss 0.0196\n",
      "Training Accuracy: 0.9786, Testing Accuracy: 0.9768\n",
      "\n"
     ]
    },
    {
     "name": "stdout",
     "output_type": "stream",
     "text": [
      "Epoch 210, Loss 0.0192\n",
      "Training Accuracy: 0.9791, Testing Accuracy: 0.9783\n",
      "\n"
     ]
    },
    {
     "name": "stdout",
     "output_type": "stream",
     "text": [
      "Epoch 220, Loss 0.0187\n",
      "Training Accuracy: 0.9797, Testing Accuracy: 0.9783\n",
      "\n"
     ]
    },
    {
     "name": "stdout",
     "output_type": "stream",
     "text": [
      "Epoch 230, Loss 0.0183\n",
      "Training Accuracy: 0.9802, Testing Accuracy: 0.9788\n",
      "\n"
     ]
    },
    {
     "name": "stdout",
     "output_type": "stream",
     "text": [
      "Epoch 240, Loss 0.0179\n",
      "Training Accuracy: 0.9809, Testing Accuracy: 0.9793\n",
      "\n"
     ]
    },
    {
     "data": {
      "text/plain": [
       "0.052841668480677534"
      ]
     },
     "execution_count": 22,
     "metadata": {},
     "output_type": "execute_result"
    }
   ],
   "source": [
    "nn_learner.train_loop(dl)"
   ]
  },
  {
   "cell_type": "code",
   "execution_count": 23,
   "id": "e0163366",
   "metadata": {
    "execution": {
     "iopub.execute_input": "2022-05-17T10:13:22.742405Z",
     "iopub.status.busy": "2022-05-17T10:13:22.741296Z",
     "iopub.status.idle": "2022-05-17T10:13:34.958463Z",
     "shell.execute_reply": "2022-05-17T10:13:34.958869Z"
    },
    "papermill": {
     "duration": 12.257018,
     "end_time": "2022-05-17T10:13:34.958992",
     "exception": false,
     "start_time": "2022-05-17T10:13:22.701974",
     "status": "completed"
    },
    "tags": []
   },
   "outputs": [
    {
     "name": "stdout",
     "output_type": "stream",
     "text": [
      "Epoch 0, Loss 0.2235\n",
      "Training Accuracy: 0.7243, Testing Accuracy: 0.7031\n",
      "\n"
     ]
    },
    {
     "name": "stdout",
     "output_type": "stream",
     "text": [
      "Epoch 10, Loss 0.1037\n",
      "Training Accuracy: 0.9077, Testing Accuracy: 0.9189\n",
      "\n"
     ]
    },
    {
     "name": "stdout",
     "output_type": "stream",
     "text": [
      "Epoch 20, Loss 0.0797\n",
      "Training Accuracy: 0.9264, Testing Accuracy: 0.9405\n",
      "\n"
     ]
    },
    {
     "name": "stdout",
     "output_type": "stream",
     "text": [
      "Epoch 30, Loss 0.0685\n",
      "Training Accuracy: 0.9359, Testing Accuracy: 0.9481\n",
      "\n"
     ]
    },
    {
     "name": "stdout",
     "output_type": "stream",
     "text": [
      "Epoch 40, Loss 0.0618\n",
      "Training Accuracy: 0.9413, Testing Accuracy: 0.9531\n",
      "\n"
     ]
    },
    {
     "name": "stdout",
     "output_type": "stream",
     "text": [
      "Epoch 50, Loss 0.0572\n",
      "Training Accuracy: 0.9450, Testing Accuracy: 0.9572\n",
      "\n"
     ]
    },
    {
     "name": "stdout",
     "output_type": "stream",
     "text": [
      "Epoch 60, Loss 0.0538\n",
      "Training Accuracy: 0.9471, Testing Accuracy: 0.9582\n",
      "\n"
     ]
    },
    {
     "name": "stdout",
     "output_type": "stream",
     "text": [
      "Epoch 70, Loss 0.0512\n",
      "Training Accuracy: 0.9481, Testing Accuracy: 0.9602\n",
      "\n"
     ]
    },
    {
     "name": "stdout",
     "output_type": "stream",
     "text": [
      "Epoch 80, Loss 0.0492\n",
      "Training Accuracy: 0.9499, Testing Accuracy: 0.9602\n",
      "\n"
     ]
    },
    {
     "name": "stdout",
     "output_type": "stream",
     "text": [
      "Epoch 90, Loss 0.0475\n",
      "Training Accuracy: 0.9518, Testing Accuracy: 0.9622\n",
      "\n"
     ]
    },
    {
     "name": "stdout",
     "output_type": "stream",
     "text": [
      "Epoch 100, Loss 0.046\n",
      "Training Accuracy: 0.9531, Testing Accuracy: 0.9617\n",
      "\n"
     ]
    },
    {
     "name": "stdout",
     "output_type": "stream",
     "text": [
      "Epoch 110, Loss 0.0448\n",
      "Training Accuracy: 0.9542, Testing Accuracy: 0.9632\n",
      "\n"
     ]
    },
    {
     "name": "stdout",
     "output_type": "stream",
     "text": [
      "Epoch 120, Loss 0.0438\n",
      "Training Accuracy: 0.9551, Testing Accuracy: 0.9637\n",
      "\n"
     ]
    },
    {
     "name": "stdout",
     "output_type": "stream",
     "text": [
      "Epoch 130, Loss 0.0428\n",
      "Training Accuracy: 0.9555, Testing Accuracy: 0.9632\n",
      "\n"
     ]
    },
    {
     "name": "stdout",
     "output_type": "stream",
     "text": [
      "Epoch 140, Loss 0.042\n",
      "Training Accuracy: 0.9561, Testing Accuracy: 0.9637\n",
      "\n"
     ]
    },
    {
     "name": "stdout",
     "output_type": "stream",
     "text": [
      "Epoch 150, Loss 0.0413\n",
      "Training Accuracy: 0.9570, Testing Accuracy: 0.9637\n",
      "\n"
     ]
    },
    {
     "name": "stdout",
     "output_type": "stream",
     "text": [
      "Epoch 160, Loss 0.0406\n",
      "Training Accuracy: 0.9574, Testing Accuracy: 0.9642\n",
      "\n"
     ]
    },
    {
     "name": "stdout",
     "output_type": "stream",
     "text": [
      "Epoch 170, Loss 0.04\n",
      "Training Accuracy: 0.9581, Testing Accuracy: 0.9647\n",
      "\n"
     ]
    },
    {
     "name": "stdout",
     "output_type": "stream",
     "text": [
      "Epoch 180, Loss 0.0394\n",
      "Training Accuracy: 0.9589, Testing Accuracy: 0.9657\n",
      "\n"
     ]
    },
    {
     "name": "stdout",
     "output_type": "stream",
     "text": [
      "Epoch 190, Loss 0.0389\n",
      "Training Accuracy: 0.9594, Testing Accuracy: 0.9667\n",
      "\n"
     ]
    },
    {
     "name": "stdout",
     "output_type": "stream",
     "text": [
      "Epoch 200, Loss 0.0384\n",
      "Training Accuracy: 0.9600, Testing Accuracy: 0.9667\n",
      "\n"
     ]
    },
    {
     "name": "stdout",
     "output_type": "stream",
     "text": [
      "Epoch 210, Loss 0.038\n",
      "Training Accuracy: 0.9604, Testing Accuracy: 0.9682\n",
      "\n"
     ]
    },
    {
     "name": "stdout",
     "output_type": "stream",
     "text": [
      "Epoch 220, Loss 0.0376\n",
      "Training Accuracy: 0.9605, Testing Accuracy: 0.9682\n",
      "\n"
     ]
    },
    {
     "name": "stdout",
     "output_type": "stream",
     "text": [
      "Epoch 230, Loss 0.0372\n",
      "Training Accuracy: 0.9607, Testing Accuracy: 0.9682\n",
      "\n"
     ]
    },
    {
     "name": "stdout",
     "output_type": "stream",
     "text": [
      "Epoch 240, Loss 0.0368\n",
      "Training Accuracy: 0.9611, Testing Accuracy: 0.9682\n",
      "\n"
     ]
    },
    {
     "data": {
      "text/plain": [
       "0.03846340114929914"
      ]
     },
     "execution_count": 23,
     "metadata": {},
     "output_type": "execute_result"
    }
   ],
   "source": [
    "lr_learner.train_loop(dl)"
   ]
  },
  {
   "cell_type": "code",
   "execution_count": 24,
   "id": "ca410940",
   "metadata": {
    "execution": {
     "iopub.execute_input": "2022-05-17T10:13:35.052473Z",
     "iopub.status.busy": "2022-05-17T10:13:35.051212Z",
     "iopub.status.idle": "2022-05-17T10:13:35.291700Z",
     "shell.execute_reply": "2022-05-17T10:13:35.291287Z"
    },
    "papermill": {
     "duration": 0.289628,
     "end_time": "2022-05-17T10:13:35.291810",
     "exception": false,
     "start_time": "2022-05-17T10:13:35.002182",
     "status": "completed"
    },
    "tags": []
   },
   "outputs": [
    {
     "data": {
      "text/plain": [
       "<matplotlib.legend.Legend at 0x7ff9aa380c18>"
      ]
     },
     "execution_count": 24,
     "metadata": {},
     "output_type": "execute_result"
    },
    {
     "data": {
      "image/png": "[encoded data removed]",
      "text/plain": [
       "<Figure size 1080x720 with 1 Axes>"
      ]
     },
     "metadata": {
      "needs_background": "light"
     },
     "output_type": "display_data"
    }
   ],
   "source": [
    "#comparing the results of NN and LR\n",
    "plt.figure(figsize=(15,10))\n",
    "\n",
    "# Neural Network plots\n",
    "plt.plot(acc_nn.accuracies, 'r-', label = \"Training Accuracies - NN\")\n",
    "plt.plot(acc_nn.test_accuracies, 'g-', label = \"Testing Accuracies - NN\")\n",
    "\n",
    "# Logistic Regression plots\n",
    "plt.plot(acc_lr.accuracies, 'k-', label = \"Training Accuracies - LR\")\n",
    "plt.plot(acc_lr.test_accuracies, 'b-', label = \"Testing Accuracies - LR\")\n",
    "plt.legend()"
   ]
  },
  {
   "cell_type": "markdown",
   "id": "80dfb35c",
   "metadata": {
    "papermill": {
     "duration": 0.043939,
     "end_time": "2022-05-17T10:13:35.379910",
     "exception": false,
     "start_time": "2022-05-17T10:13:35.335971",
     "status": "completed"
    },
    "tags": []
   },
   "source": [
    "#### Plotting the outputs of this layer of the NN.\n"
   ]
  },
  {
   "cell_type": "code",
   "execution_count": 25,
   "id": "45eb2ff5",
   "metadata": {
    "execution": {
     "iopub.execute_input": "2022-05-17T10:13:35.473904Z",
     "iopub.status.busy": "2022-05-17T10:13:35.471609Z",
     "iopub.status.idle": "2022-05-17T10:13:35.507362Z",
     "shell.execute_reply": "2022-05-17T10:13:35.507768Z"
    },
    "papermill": {
     "duration": 0.084158,
     "end_time": "2022-05-17T10:13:35.507891",
     "exception": false,
     "start_time": "2022-05-17T10:13:35.423733",
     "status": "completed"
    },
    "tags": []
   },
   "outputs": [],
   "source": [
    "new_model = Model(layers[:-2])\n",
    "testing_plot = new_model(testing_data_x)"
   ]
  },
  {
   "cell_type": "code",
   "execution_count": 26,
   "id": "4c0a5485",
   "metadata": {
    "execution": {
     "iopub.execute_input": "2022-05-17T10:13:35.602210Z",
     "iopub.status.busy": "2022-05-17T10:13:35.600685Z",
     "iopub.status.idle": "2022-05-17T10:13:35.798987Z",
     "shell.execute_reply": "2022-05-17T10:13:35.798487Z"
    },
    "papermill": {
     "duration": 0.246841,
     "end_time": "2022-05-17T10:13:35.799099",
     "exception": false,
     "start_time": "2022-05-17T10:13:35.552258",
     "status": "completed"
    },
    "tags": []
   },
   "outputs": [
    {
     "data": {
      "text/plain": [
       "Text(0.5, 1.0, 'Outputs')"
      ]
     },
     "execution_count": 26,
     "metadata": {},
     "output_type": "execute_result"
    },
    {
     "data": {
      "image/png": "[encoded data removed]",
      "text/plain": [
       "<Figure size 576x504 with 1 Axes>"
      ]
     },
     "metadata": {
      "needs_background": "light"
     },
     "output_type": "display_data"
    }
   ],
   "source": [
    "# Plotting the scatter plot of points and color coding by class\n",
    "plt.figure(figsize=(8,7))\n",
    "plt.scatter(testing_plot[:,0], testing_plot[:,1], alpha = 0.1, c = y_test.ravel());\n",
    "plt.title('Outputs')"
   ]
  },
  {
   "cell_type": "markdown",
   "id": "a74fcf8f",
   "metadata": {
    "papermill": {
     "duration": 0.066393,
     "end_time": "2022-05-17T10:13:35.911685",
     "exception": false,
     "start_time": "2022-05-17T10:13:35.845292",
     "status": "completed"
    },
    "tags": []
   },
   "source": [
    "Probability contours"
   ]
  },
  {
   "cell_type": "code",
   "execution_count": 27,
   "id": "d0afc8e3",
   "metadata": {
    "execution": {
     "iopub.execute_input": "2022-05-17T10:13:36.009303Z",
     "iopub.status.busy": "2022-05-17T10:13:36.008117Z",
     "iopub.status.idle": "2022-05-17T10:13:36.019294Z",
     "shell.execute_reply": "2022-05-17T10:13:36.018880Z"
    },
    "papermill": {
     "duration": 0.06174,
     "end_time": "2022-05-17T10:13:36.019392",
     "exception": false,
     "start_time": "2022-05-17T10:13:35.957652",
     "status": "completed"
    },
    "tags": []
   },
   "outputs": [],
   "source": [
    "model_prob = Model(layers[-2:]) "
   ]
  },
  {
   "cell_type": "code",
   "execution_count": 28,
   "id": "9b96e238",
   "metadata": {
    "execution": {
     "iopub.execute_input": "2022-05-17T10:13:36.114719Z",
     "iopub.status.busy": "2022-05-17T10:13:36.114226Z",
     "iopub.status.idle": "2022-05-17T10:13:36.126456Z",
     "shell.execute_reply": "2022-05-17T10:13:36.126851Z"
    },
    "papermill": {
     "duration": 0.061632,
     "end_time": "2022-05-17T10:13:36.126968",
     "exception": false,
     "start_time": "2022-05-17T10:13:36.065336",
     "status": "completed"
    },
    "tags": []
   },
   "outputs": [],
   "source": [
    "#creating the x and y ranges according to the above generated plot.\n",
    "x_range = np.linspace(-4, 1, 100) \n",
    "y_range = np.linspace(-6, 6, 100) \n",
    "x_grid, y_grid = np.meshgrid(x_range, y_range) # x_grid and y_grig are of size 100 X 100\n",
    "\n",
    "# converting x_grid and y_grid to continuous arrays\n",
    "x_gridflat = np.ravel(x_grid)\n",
    "y_gridflat = np.ravel(y_grid)\n",
    "\n",
    "# The last layer of the current model takes two columns as input. Hence transpose of np.vstack() is required.\n",
    "X = np.vstack((x_gridflat, y_gridflat)).T\n",
    "\n",
    "prob_contour = model_prob(X).reshape(100,100) "
   ]
  },
  {
   "cell_type": "code",
   "execution_count": 29,
   "id": "da72499a",
   "metadata": {
    "execution": {
     "iopub.execute_input": "2022-05-17T10:13:36.223337Z",
     "iopub.status.busy": "2022-05-17T10:13:36.222845Z",
     "iopub.status.idle": "2022-05-17T10:13:36.466808Z",
     "shell.execute_reply": "2022-05-17T10:13:36.466356Z"
    },
    "papermill": {
     "duration": 0.293738,
     "end_time": "2022-05-17T10:13:36.466922",
     "exception": false,
     "start_time": "2022-05-17T10:13:36.173184",
     "status": "completed"
    },
    "tags": []
   },
   "outputs": [
    {
     "data": {
      "image/png": "[encoded data removed]",
      "text/plain": [
       "<Figure size 720x648 with 1 Axes>"
      ]
     },
     "metadata": {
      "needs_background": "light"
     },
     "output_type": "display_data"
    }
   ],
   "source": [
    "plt.figure(figsize=(10,9))\n",
    "plt.scatter(testing_plot[:,0], testing_plot[:,1], alpha = 0.1, c = y_test.ravel())\n",
    "contours = plt.contour(x_grid,y_grid,prob_contour)\n",
    "plt.title('Probability Contours')\n",
    "plt.clabel(contours, inline = True );"
   ]
  },
  {
   "cell_type": "code",
   "execution_count": null,
   "id": "e81b4ac7",
   "metadata": {
    "papermill": {
     "duration": 0.048202,
     "end_time": "2022-05-17T10:13:36.565944",
     "exception": false,
     "start_time": "2022-05-17T10:13:36.517742",
     "status": "completed"
    },
    "tags": []
   },
   "outputs": [],
   "source": []
  }
 ],
 "metadata": {
  "kernelspec": {
   "display_name": "Python 3",
   "language": "python",
   "name": "python3"
  },
  "language_info": {
   "codemirror_mode": {
    "name": "ipython",
    "version": 3
   },
   "file_extension": ".py",
   "mimetype": "text/x-python",
   "name": "python",
   "nbconvert_exporter": "python",
   "pygments_lexer": "ipython3",
   "version": "3.6.15"
  },
  "papermill": {
   "default_parameters": {},
   "duration": 195.759444,
   "end_time": "2022-05-17T10:13:36.930473",
   "environment_variables": {},
   "exception": null,
   "input_path": "2020-08-11-part2.ipynb",
   "output_path": "2020-08-11-part2.ipynb",
   "parameters": {},
   "start_time": "2022-05-17T10:10:21.171029",
   "version": "2.3.3"
  }
 },
 "nbformat": 4,
 "nbformat_minor": 5
}