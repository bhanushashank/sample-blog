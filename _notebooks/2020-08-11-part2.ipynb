{
 "cells": [
  {
   "cell_type": "markdown",
   "id": "98380cd3",
   "metadata": {
    "papermill": {
     "duration": 0.028894,
     "end_time": "2022-11-28T10:10:14.799075",
     "exception": false,
     "start_time": "2022-11-28T10:10:14.770181",
     "status": "completed"
    },
    "tags": []
   },
   "source": [
    "# Distinguish Your Own Digits (DYOD)"
   ]
  },
  {
   "cell_type": "markdown",
   "id": "ef31240d",
   "metadata": {
    "papermill": {
     "duration": 0.026233,
     "end_time": "2022-11-28T10:10:14.850048",
     "exception": false,
     "start_time": "2022-11-28T10:10:14.823815",
     "status": "completed"
    },
    "tags": []
   },
   "source": [
    "You are going to write a classifier that distinguishes between the number 3 and number 8."
   ]
  },
  {
   "cell_type": "code",
   "execution_count": 1,
   "id": "b15c8646",
   "metadata": {
    "execution": {
     "iopub.execute_input": "2022-11-28T10:10:14.907815Z",
     "iopub.status.busy": "2022-11-28T10:10:14.907235Z",
     "iopub.status.idle": "2022-11-28T10:10:14.917771Z",
     "shell.execute_reply": "2022-11-28T10:10:14.917220Z"
    },
    "papermill": {
     "duration": 0.043979,
     "end_time": "2022-11-28T10:10:14.917887",
     "exception": false,
     "start_time": "2022-11-28T10:10:14.873908",
     "status": "completed"
    },
    "tags": []
   },
   "outputs": [],
   "source": [
    "%load_ext autoreload\n",
    "%autoreload 2"
   ]
  },
  {
   "cell_type": "code",
   "execution_count": 2,
   "id": "22ef38dc",
   "metadata": {
    "execution": {
     "iopub.execute_input": "2022-11-28T10:10:14.968729Z",
     "iopub.status.busy": "2022-11-28T10:10:14.968180Z",
     "iopub.status.idle": "2022-11-28T10:10:15.464861Z",
     "shell.execute_reply": "2022-11-28T10:10:15.464367Z"
    },
    "papermill": {
     "duration": 0.522875,
     "end_time": "2022-11-28T10:10:15.464980",
     "exception": false,
     "start_time": "2022-11-28T10:10:14.942105",
     "status": "completed"
    },
    "tags": []
   },
   "outputs": [],
   "source": [
    "%matplotlib inline\n",
    "import numpy as np\n",
    "import matplotlib.pyplot as plt\n",
    "import pandas as pd"
   ]
  },
  {
   "cell_type": "markdown",
   "id": "ba036198",
   "metadata": {
    "papermill": {
     "duration": 0.024431,
     "end_time": "2022-11-28T10:10:15.513744",
     "exception": false,
     "start_time": "2022-11-28T10:10:15.489313",
     "status": "completed"
    },
    "tags": []
   },
   "source": [
    "From the command line run `pip install mnist`. This is a library that will help you bring down the mnist dataset. If you run this from a notebook, you need to put  `!pip install mnist` in a cell by itself."
   ]
  },
  {
   "cell_type": "code",
   "execution_count": 3,
   "id": "bb6ad8a1",
   "metadata": {
    "execution": {
     "iopub.execute_input": "2022-11-28T10:10:15.565037Z",
     "iopub.status.busy": "2022-11-28T10:10:15.564494Z",
     "iopub.status.idle": "2022-11-28T10:10:17.162821Z",
     "shell.execute_reply": "2022-11-28T10:10:17.161619Z"
    },
    "papermill": {
     "duration": 1.624826,
     "end_time": "2022-11-28T10:10:17.162941",
     "exception": false,
     "start_time": "2022-11-28T10:10:15.538115",
     "status": "completed"
    },
    "tags": []
   },
   "outputs": [
    {
     "name": "stdout",
     "output_type": "stream",
     "text": [
      "Collecting mnist\r\n"
     ]
    },
    {
     "name": "stdout",
     "output_type": "stream",
     "text": [
      "  Downloading mnist-0.2.2-py2.py3-none-any.whl (3.5 kB)\r\n",
      "Requirement already satisfied: numpy in /opt/hostedtoolcache/Python/3.6.15/x64/lib/python3.6/site-packages (from mnist) (1.19.5)\r\n"
     ]
    },
    {
     "name": "stdout",
     "output_type": "stream",
     "text": [
      "Installing collected packages: mnist\r\n"
     ]
    },
    {
     "name": "stdout",
     "output_type": "stream",
     "text": [
      "Successfully installed mnist-0.2.2\r\n"
     ]
    }
   ],
   "source": [
    "!pip install mnist"
   ]
  },
  {
   "cell_type": "markdown",
   "id": "69df9c9a",
   "metadata": {
    "papermill": {
     "duration": 0.02527,
     "end_time": "2022-11-28T10:10:17.213807",
     "exception": false,
     "start_time": "2022-11-28T10:10:17.188537",
     "status": "completed"
    },
    "tags": []
   },
   "source": [
    "## Preparing the Data"
   ]
  },
  {
   "cell_type": "code",
   "execution_count": 4,
   "id": "7f69d806",
   "metadata": {
    "execution": {
     "iopub.execute_input": "2022-11-28T10:10:17.267720Z",
     "iopub.status.busy": "2022-11-28T10:10:17.267138Z",
     "iopub.status.idle": "2022-11-28T10:10:17.280809Z",
     "shell.execute_reply": "2022-11-28T10:10:17.280373Z"
    },
    "papermill": {
     "duration": 0.04203,
     "end_time": "2022-11-28T10:10:17.280910",
     "exception": false,
     "start_time": "2022-11-28T10:10:17.238880",
     "status": "completed"
    },
    "tags": []
   },
   "outputs": [],
   "source": [
    "import mnist"
   ]
  },
  {
   "cell_type": "code",
   "execution_count": 5,
   "id": "a411e44f",
   "metadata": {
    "execution": {
     "iopub.execute_input": "2022-11-28T10:10:17.334315Z",
     "iopub.status.busy": "2022-11-28T10:10:17.333765Z",
     "iopub.status.idle": "2022-11-28T10:10:17.829339Z",
     "shell.execute_reply": "2022-11-28T10:10:17.828827Z"
    },
    "papermill": {
     "duration": 0.523363,
     "end_time": "2022-11-28T10:10:17.829448",
     "exception": false,
     "start_time": "2022-11-28T10:10:17.306085",
     "status": "completed"
    },
    "tags": []
   },
   "outputs": [],
   "source": [
    "train_images = mnist.train_images()\n",
    "train_labels = mnist.train_labels()"
   ]
  },
  {
   "cell_type": "code",
   "execution_count": 6,
   "id": "dceab3a5",
   "metadata": {
    "execution": {
     "iopub.execute_input": "2022-11-28T10:10:17.883843Z",
     "iopub.status.busy": "2022-11-28T10:10:17.883240Z",
     "iopub.status.idle": "2022-11-28T10:10:17.897039Z",
     "shell.execute_reply": "2022-11-28T10:10:17.896591Z"
    },
    "papermill": {
     "duration": 0.042194,
     "end_time": "2022-11-28T10:10:17.897135",
     "exception": false,
     "start_time": "2022-11-28T10:10:17.854941",
     "status": "completed"
    },
    "tags": []
   },
   "outputs": [
    {
     "data": {
      "text/plain": [
       "((60000, 28, 28), (60000,))"
      ]
     },
     "execution_count": 6,
     "metadata": {},
     "output_type": "execute_result"
    }
   ],
   "source": [
    "train_images.shape, train_labels.shape"
   ]
  },
  {
   "cell_type": "code",
   "execution_count": 7,
   "id": "f50dc2bb",
   "metadata": {
    "execution": {
     "iopub.execute_input": "2022-11-28T10:10:17.950837Z",
     "iopub.status.busy": "2022-11-28T10:10:17.950282Z",
     "iopub.status.idle": "2022-11-28T10:10:18.094817Z",
     "shell.execute_reply": "2022-11-28T10:10:18.094213Z"
    },
    "papermill": {
     "duration": 0.172398,
     "end_time": "2022-11-28T10:10:18.094927",
     "exception": false,
     "start_time": "2022-11-28T10:10:17.922529",
     "status": "completed"
    },
    "tags": []
   },
   "outputs": [],
   "source": [
    "test_images = mnist.test_images()\n",
    "test_labels = mnist.test_labels()"
   ]
  },
  {
   "cell_type": "code",
   "execution_count": 8,
   "id": "fc38cf1b",
   "metadata": {
    "execution": {
     "iopub.execute_input": "2022-11-28T10:10:18.150563Z",
     "iopub.status.busy": "2022-11-28T10:10:18.149603Z",
     "iopub.status.idle": "2022-11-28T10:10:18.161606Z",
     "shell.execute_reply": "2022-11-28T10:10:18.162133Z"
    },
    "papermill": {
     "duration": 0.041561,
     "end_time": "2022-11-28T10:10:18.162250",
     "exception": false,
     "start_time": "2022-11-28T10:10:18.120689",
     "status": "completed"
    },
    "tags": []
   },
   "outputs": [
    {
     "data": {
      "text/plain": [
       "((10000, 28, 28), (10000,))"
      ]
     },
     "execution_count": 8,
     "metadata": {},
     "output_type": "execute_result"
    }
   ],
   "source": [
    "test_images.shape, test_labels.shape"
   ]
  },
  {
   "cell_type": "code",
   "execution_count": 9,
   "id": "f9ed8fe0",
   "metadata": {
    "execution": {
     "iopub.execute_input": "2022-11-28T10:10:18.217046Z",
     "iopub.status.busy": "2022-11-28T10:10:18.216484Z",
     "iopub.status.idle": "2022-11-28T10:10:18.345498Z",
     "shell.execute_reply": "2022-11-28T10:10:18.345932Z"
    },
    "papermill": {
     "duration": 0.158199,
     "end_time": "2022-11-28T10:10:18.346053",
     "exception": false,
     "start_time": "2022-11-28T10:10:18.187854",
     "status": "completed"
    },
    "tags": []
   },
   "outputs": [
    {
     "name": "stdout",
     "output_type": "stream",
     "text": [
      "2\n"
     ]
    },
    {
     "data": {
      "text/plain": [
       "<matplotlib.image.AxesImage at 0x7fe577c40cf8>"
      ]
     },
     "execution_count": 9,
     "metadata": {},
     "output_type": "execute_result"
    },
    {
     "data": {
      "image/png": "[encoded data removed]",
      "text/plain": [
       "<Figure size 432x288 with 1 Axes>"
      ]
     },
     "metadata": {
      "needs_background": "light"
     },
     "output_type": "display_data"
    }
   ],
   "source": [
    "image_index = 7776 # You may select anything up to 60,000\n",
    "print(train_labels[image_index]) \n",
    "plt.imshow(train_images[image_index], cmap='Greys')"
   ]
  },
  {
   "cell_type": "markdown",
   "id": "a8d2388d",
   "metadata": {
    "papermill": {
     "duration": 0.026961,
     "end_time": "2022-11-28T10:10:18.399872",
     "exception": false,
     "start_time": "2022-11-28T10:10:18.372911",
     "status": "completed"
    },
    "tags": []
   },
   "source": [
    "## Filter data to get 3 and 8 out"
   ]
  },
  {
   "cell_type": "code",
   "execution_count": 10,
   "id": "776f7fc7",
   "metadata": {
    "execution": {
     "iopub.execute_input": "2022-11-28T10:10:18.457437Z",
     "iopub.status.busy": "2022-11-28T10:10:18.456863Z",
     "iopub.status.idle": "2022-11-28T10:10:18.473356Z",
     "shell.execute_reply": "2022-11-28T10:10:18.472871Z"
    },
    "papermill": {
     "duration": 0.046843,
     "end_time": "2022-11-28T10:10:18.473457",
     "exception": false,
     "start_time": "2022-11-28T10:10:18.426614",
     "status": "completed"
    },
    "tags": []
   },
   "outputs": [],
   "source": [
    "train_filter = np.where((train_labels == 3 ) | (train_labels == 8))\n",
    "test_filter = np.where((test_labels == 3) | (test_labels == 8))\n",
    "X_train, y_train = train_images[train_filter], train_labels[train_filter]\n",
    "X_test, y_test = test_images[test_filter], test_labels[test_filter]"
   ]
  },
  {
   "cell_type": "markdown",
   "id": "948f0b7e",
   "metadata": {
    "papermill": {
     "duration": 0.026542,
     "end_time": "2022-11-28T10:10:18.526902",
     "exception": false,
     "start_time": "2022-11-28T10:10:18.500360",
     "status": "completed"
    },
    "tags": []
   },
   "source": [
    "We normalize the pizel values in the 0 to 1 range"
   ]
  },
  {
   "cell_type": "code",
   "execution_count": 11,
   "id": "ee4c2166",
   "metadata": {
    "execution": {
     "iopub.execute_input": "2022-11-28T10:10:18.583604Z",
     "iopub.status.busy": "2022-11-28T10:10:18.582998Z",
     "iopub.status.idle": "2022-11-28T10:10:18.623803Z",
     "shell.execute_reply": "2022-11-28T10:10:18.624222Z"
    },
    "papermill": {
     "duration": 0.070811,
     "end_time": "2022-11-28T10:10:18.624353",
     "exception": false,
     "start_time": "2022-11-28T10:10:18.553542",
     "status": "completed"
    },
    "tags": []
   },
   "outputs": [],
   "source": [
    "X_train = X_train/255.\n",
    "X_test = X_test/255."
   ]
  },
  {
   "cell_type": "markdown",
   "id": "ddcf4fab",
   "metadata": {
    "papermill": {
     "duration": 0.026752,
     "end_time": "2022-11-28T10:10:18.678123",
     "exception": false,
     "start_time": "2022-11-28T10:10:18.651371",
     "status": "completed"
    },
    "tags": []
   },
   "source": [
    "And setup the labels as 1 (when the digit is 3) and 0 (when the digit is 8)"
   ]
  },
  {
   "cell_type": "code",
   "execution_count": 12,
   "id": "7dc908f2",
   "metadata": {
    "execution": {
     "iopub.execute_input": "2022-11-28T10:10:18.734964Z",
     "iopub.status.busy": "2022-11-28T10:10:18.734414Z",
     "iopub.status.idle": "2022-11-28T10:10:18.745746Z",
     "shell.execute_reply": "2022-11-28T10:10:18.746199Z"
    },
    "papermill": {
     "duration": 0.041309,
     "end_time": "2022-11-28T10:10:18.746314",
     "exception": false,
     "start_time": "2022-11-28T10:10:18.705005",
     "status": "completed"
    },
    "tags": []
   },
   "outputs": [],
   "source": [
    "y_train = 1*(y_train==3)\n",
    "y_test = 1*(y_test==3)"
   ]
  },
  {
   "cell_type": "code",
   "execution_count": 13,
   "id": "01e4e969",
   "metadata": {
    "execution": {
     "iopub.execute_input": "2022-11-28T10:10:18.802465Z",
     "iopub.status.busy": "2022-11-28T10:10:18.801911Z",
     "iopub.status.idle": "2022-11-28T10:10:18.814541Z",
     "shell.execute_reply": "2022-11-28T10:10:18.814088Z"
    },
    "papermill": {
     "duration": 0.041659,
     "end_time": "2022-11-28T10:10:18.814635",
     "exception": false,
     "start_time": "2022-11-28T10:10:18.772976",
     "status": "completed"
    },
    "tags": []
   },
   "outputs": [
    {
     "data": {
      "text/plain": [
       "((11982, 28, 28), (1984, 28, 28))"
      ]
     },
     "execution_count": 13,
     "metadata": {},
     "output_type": "execute_result"
    }
   ],
   "source": [
    "X_train.shape, X_test.shape"
   ]
  },
  {
   "cell_type": "markdown",
   "id": "5ccf3f85",
   "metadata": {
    "papermill": {
     "duration": 0.026823,
     "end_time": "2022-11-28T10:10:18.868265",
     "exception": false,
     "start_time": "2022-11-28T10:10:18.841442",
     "status": "completed"
    },
    "tags": []
   },
   "source": [
    "We reshape the data to flatten the image pixels into a set of features or co-variates:"
   ]
  },
  {
   "cell_type": "code",
   "execution_count": 14,
   "id": "5286a4a3",
   "metadata": {
    "execution": {
     "iopub.execute_input": "2022-11-28T10:10:18.925565Z",
     "iopub.status.busy": "2022-11-28T10:10:18.925002Z",
     "iopub.status.idle": "2022-11-28T10:10:18.937165Z",
     "shell.execute_reply": "2022-11-28T10:10:18.937592Z"
    },
    "papermill": {
     "duration": 0.042447,
     "end_time": "2022-11-28T10:10:18.937700",
     "exception": false,
     "start_time": "2022-11-28T10:10:18.895253",
     "status": "completed"
    },
    "tags": []
   },
   "outputs": [
    {
     "data": {
      "text/plain": [
       "((11982, 784), (1984, 784))"
      ]
     },
     "execution_count": 14,
     "metadata": {},
     "output_type": "execute_result"
    }
   ],
   "source": [
    "X_train = X_train.reshape(X_train.shape[0], -1)\n",
    "X_test = X_test.reshape(X_test.shape[0], -1)\n",
    "X_train.shape, X_test.shape"
   ]
  },
  {
   "cell_type": "code",
   "execution_count": 15,
   "id": "73c5f88a",
   "metadata": {
    "execution": {
     "iopub.execute_input": "2022-11-28T10:10:18.995800Z",
     "iopub.status.busy": "2022-11-28T10:10:18.995206Z",
     "iopub.status.idle": "2022-11-28T10:10:19.012298Z",
     "shell.execute_reply": "2022-11-28T10:10:19.011836Z"
    },
    "papermill": {
     "duration": 0.047532,
     "end_time": "2022-11-28T10:10:19.012395",
     "exception": false,
     "start_time": "2022-11-28T10:10:18.964863",
     "status": "completed"
    },
    "tags": []
   },
   "outputs": [],
   "source": [
    "#Impoting functions from 'Kudzu'\n",
    "from kudzu.model import Model\n",
    "from kudzu.train import Learner\n",
    "from kudzu.optim import GD\n",
    "from kudzu.data import Data, Sampler,Dataloader\n",
    "\n",
    "from kudzu.callbacks import AccCallback\n",
    "from kudzu.callbacks import ClfCallback\n",
    "\n",
    "from kudzu.loss import MSE\n",
    "\n",
    "from kudzu.layer import Sigmoid,Relu\n",
    "from kudzu.layer import Affine"
   ]
  },
  {
   "cell_type": "markdown",
   "id": "bc01172a",
   "metadata": {
    "papermill": {
     "duration": 0.027043,
     "end_time": "2022-11-28T10:10:19.066761",
     "exception": false,
     "start_time": "2022-11-28T10:10:19.039718",
     "status": "completed"
    },
    "tags": []
   },
   "source": [
    "### Let us create a `Config` class, to store important parameters. \n",
    "This class essentially plays the role of a dictionary."
   ]
  },
  {
   "cell_type": "code",
   "execution_count": 16,
   "id": "978281aa",
   "metadata": {
    "execution": {
     "iopub.execute_input": "2022-11-28T10:10:19.124345Z",
     "iopub.status.busy": "2022-11-28T10:10:19.123790Z",
     "iopub.status.idle": "2022-11-28T10:10:19.135466Z",
     "shell.execute_reply": "2022-11-28T10:10:19.136100Z"
    },
    "papermill": {
     "duration": 0.042356,
     "end_time": "2022-11-28T10:10:19.136233",
     "exception": false,
     "start_time": "2022-11-28T10:10:19.093877",
     "status": "completed"
    },
    "tags": []
   },
   "outputs": [],
   "source": [
    "class Config:\n",
    "    pass\n",
    "config = Config()\n",
    "config.lr = 0.001\n",
    "config.num_epochs = 250\n",
    "config.bs = 50"
   ]
  },
  {
   "cell_type": "markdown",
   "id": "1385fa59",
   "metadata": {
    "papermill": {
     "duration": 0.027066,
     "end_time": "2022-11-28T10:10:19.190608",
     "exception": false,
     "start_time": "2022-11-28T10:10:19.163542",
     "status": "completed"
    },
    "tags": []
   },
   "source": [
    "### Running Models with the Training data\n",
    "Details about the network layers:\n",
    "- A first affine layer has 784 inputs and does 100 affine transforms. These are followed by a Relu\n",
    "- A second affine layer has 100 inputs from the 100 activations of the past layer, and does 100 affine transforms. These are followed by a Relu\n",
    "- A third affine layer has 100 activations and does 2 affine transformations to create an embedding for visualization. There is no non-linearity here.\n",
    "- A final \"logistic regression\" which has an affine transform from 2 inputs to 1 output, which is squeezed through a sigmoid.\n"
   ]
  },
  {
   "cell_type": "code",
   "execution_count": 17,
   "id": "2b9c66db",
   "metadata": {
    "execution": {
     "iopub.execute_input": "2022-11-28T10:10:19.248447Z",
     "iopub.status.busy": "2022-11-28T10:10:19.247898Z",
     "iopub.status.idle": "2022-11-28T10:10:19.259661Z",
     "shell.execute_reply": "2022-11-28T10:10:19.259195Z"
    },
    "papermill": {
     "duration": 0.041908,
     "end_time": "2022-11-28T10:10:19.259762",
     "exception": false,
     "start_time": "2022-11-28T10:10:19.217854",
     "status": "completed"
    },
    "tags": []
   },
   "outputs": [],
   "source": [
    "data = Data(X_train, y_train.reshape(-1,1))\n",
    "sampler = Sampler(data, config.bs, shuffle=True)\n",
    "\n",
    "dl = Dataloader(data, sampler)\n",
    "\n",
    "opt = GD(config.lr)\n",
    "loss = MSE()"
   ]
  },
  {
   "cell_type": "code",
   "execution_count": 18,
   "id": "b275e4c2",
   "metadata": {
    "execution": {
     "iopub.execute_input": "2022-11-28T10:10:19.317313Z",
     "iopub.status.busy": "2022-11-28T10:10:19.316763Z",
     "iopub.status.idle": "2022-11-28T10:10:19.327665Z",
     "shell.execute_reply": "2022-11-28T10:10:19.328122Z"
    },
    "papermill": {
     "duration": 0.041258,
     "end_time": "2022-11-28T10:10:19.328231",
     "exception": false,
     "start_time": "2022-11-28T10:10:19.286973",
     "status": "completed"
    },
    "tags": []
   },
   "outputs": [],
   "source": [
    "training_data_x = X_train\n",
    "testing_data_x = X_test\n",
    "training_data_y = y_train.reshape(-1,1)\n",
    "testing_data_y = y_test.reshape(-1,1)"
   ]
  },
  {
   "cell_type": "code",
   "execution_count": 19,
   "id": "76951160",
   "metadata": {
    "execution": {
     "iopub.execute_input": "2022-11-28T10:10:19.386280Z",
     "iopub.status.busy": "2022-11-28T10:10:19.385735Z",
     "iopub.status.idle": "2022-11-28T10:10:19.401093Z",
     "shell.execute_reply": "2022-11-28T10:10:19.400550Z"
    },
    "papermill": {
     "duration": 0.045796,
     "end_time": "2022-11-28T10:10:19.401190",
     "exception": false,
     "start_time": "2022-11-28T10:10:19.355394",
     "status": "completed"
    },
    "tags": []
   },
   "outputs": [
    {
     "name": "stdout",
     "output_type": "stream",
     "text": [
      "xavier\n",
      "xavier\n",
      "xavier\n",
      "xavier\n",
      "xavier\n"
     ]
    }
   ],
   "source": [
    "layers = [Affine(\"first\", 784, 100), Relu(\"first\"), Affine(\"second\", 100, 100), Relu(\"second\"), Affine(\"third\", 100, 2), Affine(\"last\", 2, 1), Sigmoid(\"last\")]\n",
    "model_nn = Model(layers)\n",
    "model_lr = Model([Affine(\"logits\", 784, 1), Sigmoid(\"sigmoid\")])"
   ]
  },
  {
   "cell_type": "code",
   "execution_count": 20,
   "id": "6eede77a",
   "metadata": {
    "execution": {
     "iopub.execute_input": "2022-11-28T10:10:19.459679Z",
     "iopub.status.busy": "2022-11-28T10:10:19.459106Z",
     "iopub.status.idle": "2022-11-28T10:10:19.469359Z",
     "shell.execute_reply": "2022-11-28T10:10:19.469864Z"
    },
    "papermill": {
     "duration": 0.041088,
     "end_time": "2022-11-28T10:10:19.469972",
     "exception": false,
     "start_time": "2022-11-28T10:10:19.428884",
     "status": "completed"
    },
    "tags": []
   },
   "outputs": [],
   "source": [
    "nn_learner = Learner(loss, model_nn, opt, config.num_epochs)\n",
    "acc_nn = ClfCallback(nn_learner, config.bs, training_data_x , testing_data_x, training_data_y, testing_data_y)\n",
    "nn_learner.set_callbacks([acc_nn])"
   ]
  },
  {
   "cell_type": "code",
   "execution_count": 21,
   "id": "877b6cc7",
   "metadata": {
    "execution": {
     "iopub.execute_input": "2022-11-28T10:10:19.528186Z",
     "iopub.status.busy": "2022-11-28T10:10:19.527630Z",
     "iopub.status.idle": "2022-11-28T10:10:19.538469Z",
     "shell.execute_reply": "2022-11-28T10:10:19.538022Z"
    },
    "papermill": {
     "duration": 0.041043,
     "end_time": "2022-11-28T10:10:19.538562",
     "exception": false,
     "start_time": "2022-11-28T10:10:19.497519",
     "status": "completed"
    },
    "tags": []
   },
   "outputs": [],
   "source": [
    "lr_learner = Learner(loss, model_lr, opt, config.num_epochs)\n",
    "acc_lr = ClfCallback(lr_learner, config.bs, training_data_x , testing_data_x, training_data_y, testing_data_y)\n",
    "lr_learner.set_callbacks([acc_lr])"
   ]
  },
  {
   "cell_type": "code",
   "execution_count": 22,
   "id": "d9b133c3",
   "metadata": {
    "execution": {
     "iopub.execute_input": "2022-11-28T10:10:19.599979Z",
     "iopub.status.busy": "2022-11-28T10:10:19.597901Z",
     "iopub.status.idle": "2022-11-28T10:13:14.367535Z",
     "shell.execute_reply": "2022-11-28T10:13:14.367997Z"
    },
    "papermill": {
     "duration": 174.802065,
     "end_time": "2022-11-28T10:13:14.368124",
     "exception": false,
     "start_time": "2022-11-28T10:10:19.566059",
     "status": "completed"
    },
    "tags": []
   },
   "outputs": [
    {
     "name": "stdout",
     "output_type": "stream",
     "text": [
      "Epoch 0, Loss 0.2418\n",
      "Training Accuracy: 0.7012, Testing Accuracy: 0.7067\n",
      "\n"
     ]
    },
    {
     "name": "stdout",
     "output_type": "stream",
     "text": [
      "Epoch 10, Loss 0.0926\n",
      "Training Accuracy: 0.9006, Testing Accuracy: 0.9073\n",
      "\n"
     ]
    },
    {
     "name": "stdout",
     "output_type": "stream",
     "text": [
      "Epoch 20, Loss 0.0586\n",
      "Training Accuracy: 0.9371, Testing Accuracy: 0.9476\n",
      "\n"
     ]
    },
    {
     "name": "stdout",
     "output_type": "stream",
     "text": [
      "Epoch 30, Loss 0.0456\n",
      "Training Accuracy: 0.9494, Testing Accuracy: 0.9556\n",
      "\n"
     ]
    },
    {
     "name": "stdout",
     "output_type": "stream",
     "text": [
      "Epoch 40, Loss 0.0391\n",
      "Training Accuracy: 0.9557, Testing Accuracy: 0.9642\n",
      "\n"
     ]
    },
    {
     "name": "stdout",
     "output_type": "stream",
     "text": [
      "Epoch 50, Loss 0.0352\n",
      "Training Accuracy: 0.9599, Testing Accuracy: 0.9682\n",
      "\n"
     ]
    },
    {
     "name": "stdout",
     "output_type": "stream",
     "text": [
      "Epoch 60, Loss 0.0326\n",
      "Training Accuracy: 0.9626, Testing Accuracy: 0.9688\n",
      "\n"
     ]
    },
    {
     "name": "stdout",
     "output_type": "stream",
     "text": [
      "Epoch 70, Loss 0.0307\n",
      "Training Accuracy: 0.9647, Testing Accuracy: 0.9682\n",
      "\n"
     ]
    },
    {
     "name": "stdout",
     "output_type": "stream",
     "text": [
      "Epoch 80, Loss 0.0292\n",
      "Training Accuracy: 0.9663, Testing Accuracy: 0.9693\n",
      "\n"
     ]
    },
    {
     "name": "stdout",
     "output_type": "stream",
     "text": [
      "Epoch 90, Loss 0.028\n",
      "Training Accuracy: 0.9678, Testing Accuracy: 0.9688\n",
      "\n"
     ]
    },
    {
     "name": "stdout",
     "output_type": "stream",
     "text": [
      "Epoch 100, Loss 0.027\n",
      "Training Accuracy: 0.9691, Testing Accuracy: 0.9688\n",
      "\n"
     ]
    },
    {
     "name": "stdout",
     "output_type": "stream",
     "text": [
      "Epoch 110, Loss 0.0261\n",
      "Training Accuracy: 0.9700, Testing Accuracy: 0.9703\n",
      "\n"
     ]
    },
    {
     "name": "stdout",
     "output_type": "stream",
     "text": [
      "Epoch 120, Loss 0.0253\n",
      "Training Accuracy: 0.9706, Testing Accuracy: 0.9693\n",
      "\n"
     ]
    },
    {
     "name": "stdout",
     "output_type": "stream",
     "text": [
      "Epoch 130, Loss 0.0246\n",
      "Training Accuracy: 0.9714, Testing Accuracy: 0.9703\n",
      "\n"
     ]
    },
    {
     "name": "stdout",
     "output_type": "stream",
     "text": [
      "Epoch 140, Loss 0.024\n",
      "Training Accuracy: 0.9723, Testing Accuracy: 0.9708\n",
      "\n"
     ]
    },
    {
     "name": "stdout",
     "output_type": "stream",
     "text": [
      "Epoch 150, Loss 0.0235\n",
      "Training Accuracy: 0.9730, Testing Accuracy: 0.9713\n",
      "\n"
     ]
    },
    {
     "name": "stdout",
     "output_type": "stream",
     "text": [
      "Epoch 160, Loss 0.0229\n",
      "Training Accuracy: 0.9736, Testing Accuracy: 0.9723\n",
      "\n"
     ]
    },
    {
     "name": "stdout",
     "output_type": "stream",
     "text": [
      "Epoch 170, Loss 0.0224\n",
      "Training Accuracy: 0.9745, Testing Accuracy: 0.9723\n",
      "\n"
     ]
    },
    {
     "name": "stdout",
     "output_type": "stream",
     "text": [
      "Epoch 180, Loss 0.022\n",
      "Training Accuracy: 0.9750, Testing Accuracy: 0.9718\n",
      "\n"
     ]
    },
    {
     "name": "stdout",
     "output_type": "stream",
     "text": [
      "Epoch 190, Loss 0.0215\n",
      "Training Accuracy: 0.9752, Testing Accuracy: 0.9718\n",
      "\n"
     ]
    },
    {
     "name": "stdout",
     "output_type": "stream",
     "text": [
      "Epoch 200, Loss 0.0211\n",
      "Training Accuracy: 0.9757, Testing Accuracy: 0.9723\n",
      "\n"
     ]
    },
    {
     "name": "stdout",
     "output_type": "stream",
     "text": [
      "Epoch 210, Loss 0.0207\n",
      "Training Accuracy: 0.9762, Testing Accuracy: 0.9723\n",
      "\n"
     ]
    },
    {
     "name": "stdout",
     "output_type": "stream",
     "text": [
      "Epoch 220, Loss 0.0203\n",
      "Training Accuracy: 0.9769, Testing Accuracy: 0.9728\n",
      "\n"
     ]
    },
    {
     "name": "stdout",
     "output_type": "stream",
     "text": [
      "Epoch 230, Loss 0.02\n",
      "Training Accuracy: 0.9771, Testing Accuracy: 0.9723\n",
      "\n"
     ]
    },
    {
     "name": "stdout",
     "output_type": "stream",
     "text": [
      "Epoch 240, Loss 0.0196\n",
      "Training Accuracy: 0.9777, Testing Accuracy: 0.9728\n",
      "\n"
     ]
    },
    {
     "data": {
      "text/plain": [
       "0.008391057006786199"
      ]
     },
     "execution_count": 22,
     "metadata": {},
     "output_type": "execute_result"
    }
   ],
   "source": [
    "nn_learner.train_loop(dl)"
   ]
  },
  {
   "cell_type": "code",
   "execution_count": 23,
   "id": "e0163366",
   "metadata": {
    "execution": {
     "iopub.execute_input": "2022-11-28T10:13:14.443954Z",
     "iopub.status.busy": "2022-11-28T10:13:14.442020Z",
     "iopub.status.idle": "2022-11-28T10:13:26.672337Z",
     "shell.execute_reply": "2022-11-28T10:13:26.672789Z"
    },
    "papermill": {
     "duration": 12.270261,
     "end_time": "2022-11-28T10:13:26.672917",
     "exception": false,
     "start_time": "2022-11-28T10:13:14.402656",
     "status": "completed"
    },
    "tags": []
   },
   "outputs": [
    {
     "name": "stdout",
     "output_type": "stream",
     "text": [
      "Epoch 0, Loss 0.2665\n",
      "Training Accuracy: 0.5738, Testing Accuracy: 0.5580\n",
      "\n"
     ]
    },
    {
     "name": "stdout",
     "output_type": "stream",
     "text": [
      "Epoch 10, Loss 0.1079\n",
      "Training Accuracy: 0.9000, Testing Accuracy: 0.9078\n",
      "\n"
     ]
    },
    {
     "name": "stdout",
     "output_type": "stream",
     "text": [
      "Epoch 20, Loss 0.0816\n",
      "Training Accuracy: 0.9239, Testing Accuracy: 0.9309\n",
      "\n"
     ]
    },
    {
     "name": "stdout",
     "output_type": "stream",
     "text": [
      "Epoch 30, Loss 0.0698\n",
      "Training Accuracy: 0.9346, Testing Accuracy: 0.9415\n",
      "\n"
     ]
    },
    {
     "name": "stdout",
     "output_type": "stream",
     "text": [
      "Epoch 40, Loss 0.0627\n",
      "Training Accuracy: 0.9408, Testing Accuracy: 0.9456\n",
      "\n"
     ]
    },
    {
     "name": "stdout",
     "output_type": "stream",
     "text": [
      "Epoch 50, Loss 0.0579\n",
      "Training Accuracy: 0.9448, Testing Accuracy: 0.9516\n",
      "\n"
     ]
    },
    {
     "name": "stdout",
     "output_type": "stream",
     "text": [
      "Epoch 60, Loss 0.0544\n",
      "Training Accuracy: 0.9472, Testing Accuracy: 0.9531\n",
      "\n"
     ]
    },
    {
     "name": "stdout",
     "output_type": "stream",
     "text": [
      "Epoch 70, Loss 0.0518\n",
      "Training Accuracy: 0.9493, Testing Accuracy: 0.9561\n",
      "\n"
     ]
    },
    {
     "name": "stdout",
     "output_type": "stream",
     "text": [
      "Epoch 80, Loss 0.0496\n",
      "Training Accuracy: 0.9516, Testing Accuracy: 0.9572\n",
      "\n"
     ]
    },
    {
     "name": "stdout",
     "output_type": "stream",
     "text": [
      "Epoch 90, Loss 0.0479\n",
      "Training Accuracy: 0.9530, Testing Accuracy: 0.9577\n",
      "\n"
     ]
    },
    {
     "name": "stdout",
     "output_type": "stream",
     "text": [
      "Epoch 100, Loss 0.0464\n",
      "Training Accuracy: 0.9543, Testing Accuracy: 0.9587\n",
      "\n"
     ]
    },
    {
     "name": "stdout",
     "output_type": "stream",
     "text": [
      "Epoch 110, Loss 0.0451\n",
      "Training Accuracy: 0.9553, Testing Accuracy: 0.9592\n",
      "\n"
     ]
    },
    {
     "name": "stdout",
     "output_type": "stream",
     "text": [
      "Epoch 120, Loss 0.044\n",
      "Training Accuracy: 0.9558, Testing Accuracy: 0.9597\n",
      "\n"
     ]
    },
    {
     "name": "stdout",
     "output_type": "stream",
     "text": [
      "Epoch 130, Loss 0.043\n",
      "Training Accuracy: 0.9567, Testing Accuracy: 0.9597\n",
      "\n"
     ]
    },
    {
     "name": "stdout",
     "output_type": "stream",
     "text": [
      "Epoch 140, Loss 0.0422\n",
      "Training Accuracy: 0.9572, Testing Accuracy: 0.9612\n",
      "\n"
     ]
    },
    {
     "name": "stdout",
     "output_type": "stream",
     "text": [
      "Epoch 150, Loss 0.0414\n",
      "Training Accuracy: 0.9580, Testing Accuracy: 0.9612\n",
      "\n"
     ]
    },
    {
     "name": "stdout",
     "output_type": "stream",
     "text": [
      "Epoch 160, Loss 0.0407\n",
      "Training Accuracy: 0.9581, Testing Accuracy: 0.9622\n",
      "\n"
     ]
    },
    {
     "name": "stdout",
     "output_type": "stream",
     "text": [
      "Epoch 170, Loss 0.0401\n",
      "Training Accuracy: 0.9584, Testing Accuracy: 0.9622\n",
      "\n"
     ]
    },
    {
     "name": "stdout",
     "output_type": "stream",
     "text": [
      "Epoch 180, Loss 0.0395\n",
      "Training Accuracy: 0.9588, Testing Accuracy: 0.9637\n",
      "\n"
     ]
    },
    {
     "name": "stdout",
     "output_type": "stream",
     "text": [
      "Epoch 190, Loss 0.039\n",
      "Training Accuracy: 0.9591, Testing Accuracy: 0.9652\n",
      "\n"
     ]
    },
    {
     "name": "stdout",
     "output_type": "stream",
     "text": [
      "Epoch 200, Loss 0.0385\n",
      "Training Accuracy: 0.9596, Testing Accuracy: 0.9652\n",
      "\n"
     ]
    },
    {
     "name": "stdout",
     "output_type": "stream",
     "text": [
      "Epoch 210, Loss 0.0381\n",
      "Training Accuracy: 0.9597, Testing Accuracy: 0.9657\n",
      "\n"
     ]
    },
    {
     "name": "stdout",
     "output_type": "stream",
     "text": [
      "Epoch 220, Loss 0.0376\n",
      "Training Accuracy: 0.9603, Testing Accuracy: 0.9657\n",
      "\n"
     ]
    },
    {
     "name": "stdout",
     "output_type": "stream",
     "text": [
      "Epoch 230, Loss 0.0372\n",
      "Training Accuracy: 0.9608, Testing Accuracy: 0.9652\n",
      "\n"
     ]
    },
    {
     "name": "stdout",
     "output_type": "stream",
     "text": [
      "Epoch 240, Loss 0.0369\n",
      "Training Accuracy: 0.9610, Testing Accuracy: 0.9657\n",
      "\n"
     ]
    },
    {
     "data": {
      "text/plain": [
       "0.03536992342997512"
      ]
     },
     "execution_count": 23,
     "metadata": {},
     "output_type": "execute_result"
    }
   ],
   "source": [
    "lr_learner.train_loop(dl)"
   ]
  },
  {
   "cell_type": "code",
   "execution_count": 24,
   "id": "ca410940",
   "metadata": {
    "execution": {
     "iopub.execute_input": "2022-11-28T10:13:26.764824Z",
     "iopub.status.busy": "2022-11-28T10:13:26.761637Z",
     "iopub.status.idle": "2022-11-28T10:13:26.981856Z",
     "shell.execute_reply": "2022-11-28T10:13:26.981403Z"
    },
    "papermill": {
     "duration": 0.26699,
     "end_time": "2022-11-28T10:13:26.981969",
     "exception": false,
     "start_time": "2022-11-28T10:13:26.714979",
     "status": "completed"
    },
    "tags": []
   },
   "outputs": [
    {
     "data": {
      "text/plain": [
       "<matplotlib.legend.Legend at 0x7fe5777ab438>"
      ]
     },
     "execution_count": 24,
     "metadata": {},
     "output_type": "execute_result"
    },
    {
     "data": {
      "image/png": "[encoded data removed]",
      "text/plain": [
       "<Figure size 1080x720 with 1 Axes>"
      ]
     },
     "metadata": {
      "needs_background": "light"
     },
     "output_type": "display_data"
    }
   ],
   "source": [
    "#comparing the results of NN and LR\n",
    "plt.figure(figsize=(15,10))\n",
    "\n",
    "# Neural Network plots\n",
    "plt.plot(acc_nn.accuracies, 'r-', label = \"Training Accuracies - NN\")\n",
    "plt.plot(acc_nn.test_accuracies, 'g-', label = \"Testing Accuracies - NN\")\n",
    "\n",
    "# Logistic Regression plots\n",
    "plt.plot(acc_lr.accuracies, 'k-', label = \"Training Accuracies - LR\")\n",
    "plt.plot(acc_lr.test_accuracies, 'b-', label = \"Testing Accuracies - LR\")\n",
    "plt.legend()"
   ]
  },
  {
   "cell_type": "markdown",
   "id": "80dfb35c",
   "metadata": {
    "papermill": {
     "duration": 0.043012,
     "end_time": "2022-11-28T10:13:27.068462",
     "exception": false,
     "start_time": "2022-11-28T10:13:27.025450",
     "status": "completed"
    },
    "tags": []
   },
   "source": [
    "#### Plotting the outputs of this layer of the NN.\n"
   ]
  },
  {
   "cell_type": "code",
   "execution_count": 25,
   "id": "45eb2ff5",
   "metadata": {
    "execution": {
     "iopub.execute_input": "2022-11-28T10:13:27.158093Z",
     "iopub.status.busy": "2022-11-28T10:13:27.157540Z",
     "iopub.status.idle": "2022-11-28T10:13:27.193773Z",
     "shell.execute_reply": "2022-11-28T10:13:27.194220Z"
    },
    "papermill": {
     "duration": 0.08299,
     "end_time": "2022-11-28T10:13:27.194350",
     "exception": false,
     "start_time": "2022-11-28T10:13:27.111360",
     "status": "completed"
    },
    "tags": []
   },
   "outputs": [],
   "source": [
    "new_model = Model(layers[:-2])\n",
    "testing_plot = new_model(testing_data_x)"
   ]
  },
  {
   "cell_type": "code",
   "execution_count": 26,
   "id": "4c0a5485",
   "metadata": {
    "execution": {
     "iopub.execute_input": "2022-11-28T10:13:27.293124Z",
     "iopub.status.busy": "2022-11-28T10:13:27.292548Z",
     "iopub.status.idle": "2022-11-28T10:13:27.474663Z",
     "shell.execute_reply": "2022-11-28T10:13:27.474176Z"
    },
    "papermill": {
     "duration": 0.236056,
     "end_time": "2022-11-28T10:13:27.474771",
     "exception": false,
     "start_time": "2022-11-28T10:13:27.238715",
     "status": "completed"
    },
    "tags": []
   },
   "outputs": [
    {
     "data": {
      "text/plain": [
       "Text(0.5, 1.0, 'Outputs')"
      ]
     },
     "execution_count": 26,
     "metadata": {},
     "output_type": "execute_result"
    },
    {
     "data": {
      "image/png": "[encoded data removed]",
      "text/plain": [
       "<Figure size 576x504 with 1 Axes>"
      ]
     },
     "metadata": {
      "needs_background": "light"
     },
     "output_type": "display_data"
    }
   ],
   "source": [
    "# Plotting the scatter plot of points and color coding by class\n",
    "plt.figure(figsize=(8,7))\n",
    "plt.scatter(testing_plot[:,0], testing_plot[:,1], alpha = 0.1, c = y_test.ravel());\n",
    "plt.title('Outputs')"
   ]
  },
  {
   "cell_type": "markdown",
   "id": "a74fcf8f",
   "metadata": {
    "papermill": {
     "duration": 0.044852,
     "end_time": "2022-11-28T10:13:27.587208",
     "exception": false,
     "start_time": "2022-11-28T10:13:27.542356",
     "status": "completed"
    },
    "tags": []
   },
   "source": [
    "Probability contours"
   ]
  },
  {
   "cell_type": "code",
   "execution_count": 27,
   "id": "d0afc8e3",
   "metadata": {
    "execution": {
     "iopub.execute_input": "2022-11-28T10:13:27.683265Z",
     "iopub.status.busy": "2022-11-28T10:13:27.681964Z",
     "iopub.status.idle": "2022-11-28T10:13:27.693094Z",
     "shell.execute_reply": "2022-11-28T10:13:27.692633Z"
    },
    "papermill": {
     "duration": 0.060986,
     "end_time": "2022-11-28T10:13:27.693206",
     "exception": false,
     "start_time": "2022-11-28T10:13:27.632220",
     "status": "completed"
    },
    "tags": []
   },
   "outputs": [],
   "source": [
    "model_prob = Model(layers[-2:]) "
   ]
  },
  {
   "cell_type": "code",
   "execution_count": 28,
   "id": "9b96e238",
   "metadata": {
    "execution": {
     "iopub.execute_input": "2022-11-28T10:13:27.788037Z",
     "iopub.status.busy": "2022-11-28T10:13:27.787463Z",
     "iopub.status.idle": "2022-11-28T10:13:27.801862Z",
     "shell.execute_reply": "2022-11-28T10:13:27.802271Z"
    },
    "papermill": {
     "duration": 0.06392,
     "end_time": "2022-11-28T10:13:27.802400",
     "exception": false,
     "start_time": "2022-11-28T10:13:27.738480",
     "status": "completed"
    },
    "tags": []
   },
   "outputs": [],
   "source": [
    "#creating the x and y ranges according to the above generated plot.\n",
    "x_range = np.linspace(-4, 1, 100) \n",
    "y_range = np.linspace(-6, 6, 100) \n",
    "x_grid, y_grid = np.meshgrid(x_range, y_range) # x_grid and y_grig are of size 100 X 100\n",
    "\n",
    "# converting x_grid and y_grid to continuous arrays\n",
    "x_gridflat = np.ravel(x_grid)\n",
    "y_gridflat = np.ravel(y_grid)\n",
    "\n",
    "# The last layer of the current model takes two columns as input. Hence transpose of np.vstack() is required.\n",
    "X = np.vstack((x_gridflat, y_gridflat)).T\n",
    "\n",
    "prob_contour = model_prob(X).reshape(100,100) "
   ]
  },
  {
   "cell_type": "code",
   "execution_count": 29,
   "id": "da72499a",
   "metadata": {
    "execution": {
     "iopub.execute_input": "2022-11-28T10:13:27.897142Z",
     "iopub.status.busy": "2022-11-28T10:13:27.896578Z",
     "iopub.status.idle": "2022-11-28T10:13:28.137683Z",
     "shell.execute_reply": "2022-11-28T10:13:28.138126Z"
    },
    "papermill": {
     "duration": 0.290221,
     "end_time": "2022-11-28T10:13:28.138253",
     "exception": false,
     "start_time": "2022-11-28T10:13:27.848032",
     "status": "completed"
    },
    "tags": []
   },
   "outputs": [
    {
     "data": {
      "image/png": "[encoded data removed]",
      "text/plain": [
       "<Figure size 720x648 with 1 Axes>"
      ]
     },
     "metadata": {
      "needs_background": "light"
     },
     "output_type": "display_data"
    }
   ],
   "source": [
    "plt.figure(figsize=(10,9))\n",
    "plt.scatter(testing_plot[:,0], testing_plot[:,1], alpha = 0.1, c = y_test.ravel())\n",
    "contours = plt.contour(x_grid,y_grid,prob_contour)\n",
    "plt.title('Probability Contours')\n",
    "plt.clabel(contours, inline = True );"
   ]
  },
  {
   "cell_type": "code",
   "execution_count": null,
   "id": "e81b4ac7",
   "metadata": {
    "papermill": {
     "duration": 0.048447,
     "end_time": "2022-11-28T10:13:28.235043",
     "exception": false,
     "start_time": "2022-11-28T10:13:28.186596",
     "status": "completed"
    },
    "tags": []
   },
   "outputs": [],
   "source": []
  }
 ],
 "metadata": {
  "kernelspec": {
   "display_name": "Python 3",
   "language": "python",
   "name": "python3"
  },
  "language_info": {
   "codemirror_mode": {
    "name": "ipython",
    "version": 3
   },
   "file_extension": ".py",
   "mimetype": "text/x-python",
   "name": "python",
   "nbconvert_exporter": "python",
   "pygments_lexer": "ipython3",
   "version": "3.6.15"
  },
  "papermill": {
   "default_parameters": {},
   "duration": 194.745953,
   "end_time": "2022-11-28T10:13:28.601503",
   "environment_variables": {},
   "exception": null,
   "input_path": "2020-08-11-part2.ipynb",
   "output_path": "2020-08-11-part2.ipynb",
   "parameters": {},
   "start_time": "2022-11-28T10:10:13.855550",
   "version": "2.3.3"
  }
 },
 "nbformat": 4,
 "nbformat_minor": 5
}