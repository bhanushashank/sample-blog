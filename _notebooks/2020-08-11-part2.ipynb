{
 "cells": [
  {
   "cell_type": "markdown",
   "id": "98380cd3",
   "metadata": {
    "papermill": {
     "duration": 0.02796,
     "end_time": "2022-04-19T20:14:07.161996",
     "exception": false,
     "start_time": "2022-04-19T20:14:07.134036",
     "status": "completed"
    },
    "tags": []
   },
   "source": [
    "# Distinguish Your Own Digits (DYOD)"
   ]
  },
  {
   "cell_type": "markdown",
   "id": "ef31240d",
   "metadata": {
    "papermill": {
     "duration": 0.025136,
     "end_time": "2022-04-19T20:14:07.211543",
     "exception": false,
     "start_time": "2022-04-19T20:14:07.186407",
     "status": "completed"
    },
    "tags": []
   },
   "source": [
    "You are going to write a classifier that distinguishes between the number 3 and number 8."
   ]
  },
  {
   "cell_type": "code",
   "execution_count": 1,
   "id": "b15c8646",
   "metadata": {
    "execution": {
     "iopub.execute_input": "2022-04-19T20:14:07.270219Z",
     "iopub.status.busy": "2022-04-19T20:14:07.269654Z",
     "iopub.status.idle": "2022-04-19T20:14:07.280194Z",
     "shell.execute_reply": "2022-04-19T20:14:07.279759Z"
    },
    "papermill": {
     "duration": 0.045028,
     "end_time": "2022-04-19T20:14:07.280324",
     "exception": false,
     "start_time": "2022-04-19T20:14:07.235296",
     "status": "completed"
    },
    "tags": []
   },
   "outputs": [],
   "source": [
    "%load_ext autoreload\n",
    "%autoreload 2"
   ]
  },
  {
   "cell_type": "code",
   "execution_count": 2,
   "id": "22ef38dc",
   "metadata": {
    "execution": {
     "iopub.execute_input": "2022-04-19T20:14:07.349908Z",
     "iopub.status.busy": "2022-04-19T20:14:07.342853Z",
     "iopub.status.idle": "2022-04-19T20:14:07.864650Z",
     "shell.execute_reply": "2022-04-19T20:14:07.864119Z"
    },
    "papermill": {
     "duration": 0.560308,
     "end_time": "2022-04-19T20:14:07.864786",
     "exception": false,
     "start_time": "2022-04-19T20:14:07.304478",
     "status": "completed"
    },
    "tags": []
   },
   "outputs": [],
   "source": [
    "%matplotlib inline\n",
    "import numpy as np\n",
    "import matplotlib.pyplot as plt\n",
    "import pandas as pd"
   ]
  },
  {
   "cell_type": "markdown",
   "id": "ba036198",
   "metadata": {
    "papermill": {
     "duration": 0.023724,
     "end_time": "2022-04-19T20:14:07.912915",
     "exception": false,
     "start_time": "2022-04-19T20:14:07.889191",
     "status": "completed"
    },
    "tags": []
   },
   "source": [
    "From the command line run `pip install mnist`. This is a library that will help you bring down the mnist dataset. If you run this from a notebook, you need to put  `!pip install mnist` in a cell by itself."
   ]
  },
  {
   "cell_type": "code",
   "execution_count": 3,
   "id": "bb6ad8a1",
   "metadata": {
    "execution": {
     "iopub.execute_input": "2022-04-19T20:14:07.977453Z",
     "iopub.status.busy": "2022-04-19T20:14:07.971105Z",
     "iopub.status.idle": "2022-04-19T20:14:10.485112Z",
     "shell.execute_reply": "2022-04-19T20:14:10.484630Z"
    },
    "papermill": {
     "duration": 2.548553,
     "end_time": "2022-04-19T20:14:10.485243",
     "exception": false,
     "start_time": "2022-04-19T20:14:07.936690",
     "status": "completed"
    },
    "tags": []
   },
   "outputs": [
    {
     "name": "stdout",
     "output_type": "stream",
     "text": [
      "Collecting mnist\r\n"
     ]
    },
    {
     "name": "stdout",
     "output_type": "stream",
     "text": [
      "  Downloading mnist-0.2.2-py2.py3-none-any.whl (3.5 kB)\r\n",
      "Requirement already satisfied: numpy in /opt/hostedtoolcache/Python/3.6.15/x64/lib/python3.6/site-packages (from mnist) (1.19.5)\r\n"
     ]
    },
    {
     "name": "stdout",
     "output_type": "stream",
     "text": [
      "Installing collected packages: mnist\r\n"
     ]
    },
    {
     "name": "stdout",
     "output_type": "stream",
     "text": [
      "Successfully installed mnist-0.2.2\r\n"
     ]
    }
   ],
   "source": [
    "!pip install mnist"
   ]
  },
  {
   "cell_type": "markdown",
   "id": "69df9c9a",
   "metadata": {
    "papermill": {
     "duration": 0.025094,
     "end_time": "2022-04-19T20:14:10.536131",
     "exception": false,
     "start_time": "2022-04-19T20:14:10.511037",
     "status": "completed"
    },
    "tags": []
   },
   "source": [
    "## Preparing the Data"
   ]
  },
  {
   "cell_type": "code",
   "execution_count": 4,
   "id": "7f69d806",
   "metadata": {
    "execution": {
     "iopub.execute_input": "2022-04-19T20:14:10.603850Z",
     "iopub.status.busy": "2022-04-19T20:14:10.603045Z",
     "iopub.status.idle": "2022-04-19T20:14:10.609891Z",
     "shell.execute_reply": "2022-04-19T20:14:10.609206Z"
    },
    "papermill": {
     "duration": 0.048994,
     "end_time": "2022-04-19T20:14:10.610009",
     "exception": false,
     "start_time": "2022-04-19T20:14:10.561015",
     "status": "completed"
    },
    "tags": []
   },
   "outputs": [],
   "source": [
    "import mnist"
   ]
  },
  {
   "cell_type": "code",
   "execution_count": 5,
   "id": "a411e44f",
   "metadata": {
    "execution": {
     "iopub.execute_input": "2022-04-19T20:14:10.665876Z",
     "iopub.status.busy": "2022-04-19T20:14:10.665333Z",
     "iopub.status.idle": "2022-04-19T20:14:11.503990Z",
     "shell.execute_reply": "2022-04-19T20:14:11.503435Z"
    },
    "papermill": {
     "duration": 0.868996,
     "end_time": "2022-04-19T20:14:11.504120",
     "exception": false,
     "start_time": "2022-04-19T20:14:10.635124",
     "status": "completed"
    },
    "tags": []
   },
   "outputs": [],
   "source": [
    "train_images = mnist.train_images()\n",
    "train_labels = mnist.train_labels()"
   ]
  },
  {
   "cell_type": "code",
   "execution_count": 6,
   "id": "dceab3a5",
   "metadata": {
    "execution": {
     "iopub.execute_input": "2022-04-19T20:14:11.558870Z",
     "iopub.status.busy": "2022-04-19T20:14:11.558358Z",
     "iopub.status.idle": "2022-04-19T20:14:11.572447Z",
     "shell.execute_reply": "2022-04-19T20:14:11.572922Z"
    },
    "papermill": {
     "duration": 0.042919,
     "end_time": "2022-04-19T20:14:11.573049",
     "exception": false,
     "start_time": "2022-04-19T20:14:11.530130",
     "status": "completed"
    },
    "tags": []
   },
   "outputs": [
    {
     "data": {
      "text/plain": [
       "((60000, 28, 28), (60000,))"
      ]
     },
     "execution_count": 6,
     "metadata": {},
     "output_type": "execute_result"
    }
   ],
   "source": [
    "train_images.shape, train_labels.shape"
   ]
  },
  {
   "cell_type": "code",
   "execution_count": 7,
   "id": "f50dc2bb",
   "metadata": {
    "execution": {
     "iopub.execute_input": "2022-04-19T20:14:11.630898Z",
     "iopub.status.busy": "2022-04-19T20:14:11.630375Z",
     "iopub.status.idle": "2022-04-19T20:14:11.910835Z",
     "shell.execute_reply": "2022-04-19T20:14:11.910287Z"
    },
    "papermill": {
     "duration": 0.312728,
     "end_time": "2022-04-19T20:14:11.910969",
     "exception": false,
     "start_time": "2022-04-19T20:14:11.598241",
     "status": "completed"
    },
    "tags": []
   },
   "outputs": [],
   "source": [
    "test_images = mnist.test_images()\n",
    "test_labels = mnist.test_labels()"
   ]
  },
  {
   "cell_type": "code",
   "execution_count": 8,
   "id": "fc38cf1b",
   "metadata": {
    "execution": {
     "iopub.execute_input": "2022-04-19T20:14:11.966327Z",
     "iopub.status.busy": "2022-04-19T20:14:11.965795Z",
     "iopub.status.idle": "2022-04-19T20:14:11.978853Z",
     "shell.execute_reply": "2022-04-19T20:14:11.978440Z"
    },
    "papermill": {
     "duration": 0.041854,
     "end_time": "2022-04-19T20:14:11.978967",
     "exception": false,
     "start_time": "2022-04-19T20:14:11.937113",
     "status": "completed"
    },
    "tags": []
   },
   "outputs": [
    {
     "data": {
      "text/plain": [
       "((10000, 28, 28), (10000,))"
      ]
     },
     "execution_count": 8,
     "metadata": {},
     "output_type": "execute_result"
    }
   ],
   "source": [
    "test_images.shape, test_labels.shape"
   ]
  },
  {
   "cell_type": "code",
   "execution_count": 9,
   "id": "f9ed8fe0",
   "metadata": {
    "execution": {
     "iopub.execute_input": "2022-04-19T20:14:12.034233Z",
     "iopub.status.busy": "2022-04-19T20:14:12.033141Z",
     "iopub.status.idle": "2022-04-19T20:14:12.171265Z",
     "shell.execute_reply": "2022-04-19T20:14:12.170783Z"
    },
    "papermill": {
     "duration": 0.166856,
     "end_time": "2022-04-19T20:14:12.171382",
     "exception": false,
     "start_time": "2022-04-19T20:14:12.004526",
     "status": "completed"
    },
    "tags": []
   },
   "outputs": [
    {
     "name": "stdout",
     "output_type": "stream",
     "text": [
      "2\n"
     ]
    },
    {
     "data": {
      "text/plain": [
       "<matplotlib.image.AxesImage at 0x7f98ca925358>"
      ]
     },
     "execution_count": 9,
     "metadata": {},
     "output_type": "execute_result"
    },
    {
     "data": {
      "image/png": "[encoded data removed]",
      "text/plain": [
       "<Figure size 432x288 with 1 Axes>"
      ]
     },
     "metadata": {
      "needs_background": "light"
     },
     "output_type": "display_data"
    }
   ],
   "source": [
    "image_index = 7776 # You may select anything up to 60,000\n",
    "print(train_labels[image_index]) \n",
    "plt.imshow(train_images[image_index], cmap='Greys')"
   ]
  },
  {
   "cell_type": "markdown",
   "id": "a8d2388d",
   "metadata": {
    "papermill": {
     "duration": 0.026533,
     "end_time": "2022-04-19T20:14:12.224635",
     "exception": false,
     "start_time": "2022-04-19T20:14:12.198102",
     "status": "completed"
    },
    "tags": []
   },
   "source": [
    "## Filter data to get 3 and 8 out"
   ]
  },
  {
   "cell_type": "code",
   "execution_count": 10,
   "id": "776f7fc7",
   "metadata": {
    "execution": {
     "iopub.execute_input": "2022-04-19T20:14:12.281870Z",
     "iopub.status.busy": "2022-04-19T20:14:12.281324Z",
     "iopub.status.idle": "2022-04-19T20:14:12.299307Z",
     "shell.execute_reply": "2022-04-19T20:14:12.298875Z"
    },
    "papermill": {
     "duration": 0.048245,
     "end_time": "2022-04-19T20:14:12.299422",
     "exception": false,
     "start_time": "2022-04-19T20:14:12.251177",
     "status": "completed"
    },
    "tags": []
   },
   "outputs": [],
   "source": [
    "train_filter = np.where((train_labels == 3 ) | (train_labels == 8))\n",
    "test_filter = np.where((test_labels == 3) | (test_labels == 8))\n",
    "X_train, y_train = train_images[train_filter], train_labels[train_filter]\n",
    "X_test, y_test = test_images[test_filter], test_labels[test_filter]"
   ]
  },
  {
   "cell_type": "markdown",
   "id": "948f0b7e",
   "metadata": {
    "papermill": {
     "duration": 0.026462,
     "end_time": "2022-04-19T20:14:12.352446",
     "exception": false,
     "start_time": "2022-04-19T20:14:12.325984",
     "status": "completed"
    },
    "tags": []
   },
   "source": [
    "We normalize the pizel values in the 0 to 1 range"
   ]
  },
  {
   "cell_type": "code",
   "execution_count": 11,
   "id": "ee4c2166",
   "metadata": {
    "execution": {
     "iopub.execute_input": "2022-04-19T20:14:12.408760Z",
     "iopub.status.busy": "2022-04-19T20:14:12.408248Z",
     "iopub.status.idle": "2022-04-19T20:14:12.456680Z",
     "shell.execute_reply": "2022-04-19T20:14:12.457136Z"
    },
    "papermill": {
     "duration": 0.078399,
     "end_time": "2022-04-19T20:14:12.457294",
     "exception": false,
     "start_time": "2022-04-19T20:14:12.378895",
     "status": "completed"
    },
    "tags": []
   },
   "outputs": [],
   "source": [
    "X_train = X_train/255.\n",
    "X_test = X_test/255."
   ]
  },
  {
   "cell_type": "markdown",
   "id": "ddcf4fab",
   "metadata": {
    "papermill": {
     "duration": 0.026454,
     "end_time": "2022-04-19T20:14:12.511864",
     "exception": false,
     "start_time": "2022-04-19T20:14:12.485410",
     "status": "completed"
    },
    "tags": []
   },
   "source": [
    "And setup the labels as 1 (when the digit is 3) and 0 (when the digit is 8)"
   ]
  },
  {
   "cell_type": "code",
   "execution_count": 12,
   "id": "7dc908f2",
   "metadata": {
    "execution": {
     "iopub.execute_input": "2022-04-19T20:14:12.581212Z",
     "iopub.status.busy": "2022-04-19T20:14:12.578394Z",
     "iopub.status.idle": "2022-04-19T20:14:12.583540Z",
     "shell.execute_reply": "2022-04-19T20:14:12.583103Z"
    },
    "papermill": {
     "duration": 0.045454,
     "end_time": "2022-04-19T20:14:12.583647",
     "exception": false,
     "start_time": "2022-04-19T20:14:12.538193",
     "status": "completed"
    },
    "tags": []
   },
   "outputs": [],
   "source": [
    "y_train = 1*(y_train==3)\n",
    "y_test = 1*(y_test==3)"
   ]
  },
  {
   "cell_type": "code",
   "execution_count": 13,
   "id": "01e4e969",
   "metadata": {
    "execution": {
     "iopub.execute_input": "2022-04-19T20:14:12.641867Z",
     "iopub.status.busy": "2022-04-19T20:14:12.641328Z",
     "iopub.status.idle": "2022-04-19T20:14:12.653329Z",
     "shell.execute_reply": "2022-04-19T20:14:12.653735Z"
    },
    "papermill": {
     "duration": 0.043645,
     "end_time": "2022-04-19T20:14:12.653866",
     "exception": false,
     "start_time": "2022-04-19T20:14:12.610221",
     "status": "completed"
    },
    "tags": []
   },
   "outputs": [
    {
     "data": {
      "text/plain": [
       "((11982, 28, 28), (1984, 28, 28))"
      ]
     },
     "execution_count": 13,
     "metadata": {},
     "output_type": "execute_result"
    }
   ],
   "source": [
    "X_train.shape, X_test.shape"
   ]
  },
  {
   "cell_type": "markdown",
   "id": "5ccf3f85",
   "metadata": {
    "papermill": {
     "duration": 0.026527,
     "end_time": "2022-04-19T20:14:12.707123",
     "exception": false,
     "start_time": "2022-04-19T20:14:12.680596",
     "status": "completed"
    },
    "tags": []
   },
   "source": [
    "We reshape the data to flatten the image pixels into a set of features or co-variates:"
   ]
  },
  {
   "cell_type": "code",
   "execution_count": 14,
   "id": "5286a4a3",
   "metadata": {
    "execution": {
     "iopub.execute_input": "2022-04-19T20:14:12.771518Z",
     "iopub.status.busy": "2022-04-19T20:14:12.770993Z",
     "iopub.status.idle": "2022-04-19T20:14:12.782247Z",
     "shell.execute_reply": "2022-04-19T20:14:12.782629Z"
    },
    "papermill": {
     "duration": 0.048902,
     "end_time": "2022-04-19T20:14:12.782754",
     "exception": false,
     "start_time": "2022-04-19T20:14:12.733852",
     "status": "completed"
    },
    "tags": []
   },
   "outputs": [
    {
     "data": {
      "text/plain": [
       "((11982, 784), (1984, 784))"
      ]
     },
     "execution_count": 14,
     "metadata": {},
     "output_type": "execute_result"
    }
   ],
   "source": [
    "X_train = X_train.reshape(X_train.shape[0], -1)\n",
    "X_test = X_test.reshape(X_test.shape[0], -1)\n",
    "X_train.shape, X_test.shape"
   ]
  },
  {
   "cell_type": "code",
   "execution_count": 15,
   "id": "73c5f88a",
   "metadata": {
    "execution": {
     "iopub.execute_input": "2022-04-19T20:14:12.840593Z",
     "iopub.status.busy": "2022-04-19T20:14:12.840073Z",
     "iopub.status.idle": "2022-04-19T20:14:12.858936Z",
     "shell.execute_reply": "2022-04-19T20:14:12.858495Z"
    },
    "papermill": {
     "duration": 0.049294,
     "end_time": "2022-04-19T20:14:12.859040",
     "exception": false,
     "start_time": "2022-04-19T20:14:12.809746",
     "status": "completed"
    },
    "tags": []
   },
   "outputs": [],
   "source": [
    "#Impoting functions from 'Kudzu'\n",
    "from kudzu.model import Model\n",
    "from kudzu.train import Learner\n",
    "from kudzu.optim import GD\n",
    "from kudzu.data import Data, Sampler,Dataloader\n",
    "\n",
    "from kudzu.callbacks import AccCallback\n",
    "from kudzu.callbacks import ClfCallback\n",
    "\n",
    "from kudzu.loss import MSE\n",
    "\n",
    "from kudzu.layer import Sigmoid,Relu\n",
    "from kudzu.layer import Affine"
   ]
  },
  {
   "cell_type": "markdown",
   "id": "bc01172a",
   "metadata": {
    "papermill": {
     "duration": 0.026769,
     "end_time": "2022-04-19T20:14:12.912828",
     "exception": false,
     "start_time": "2022-04-19T20:14:12.886059",
     "status": "completed"
    },
    "tags": []
   },
   "source": [
    "### Let us create a `Config` class, to store important parameters. \n",
    "This class essentially plays the role of a dictionary."
   ]
  },
  {
   "cell_type": "code",
   "execution_count": 16,
   "id": "978281aa",
   "metadata": {
    "execution": {
     "iopub.execute_input": "2022-04-19T20:14:12.970396Z",
     "iopub.status.busy": "2022-04-19T20:14:12.969874Z",
     "iopub.status.idle": "2022-04-19T20:14:12.982805Z",
     "shell.execute_reply": "2022-04-19T20:14:12.982390Z"
    },
    "papermill": {
     "duration": 0.043218,
     "end_time": "2022-04-19T20:14:12.982910",
     "exception": false,
     "start_time": "2022-04-19T20:14:12.939692",
     "status": "completed"
    },
    "tags": []
   },
   "outputs": [],
   "source": [
    "class Config:\n",
    "    pass\n",
    "config = Config()\n",
    "config.lr = 0.001\n",
    "config.num_epochs = 250\n",
    "config.bs = 50"
   ]
  },
  {
   "cell_type": "markdown",
   "id": "1385fa59",
   "metadata": {
    "papermill": {
     "duration": 0.026851,
     "end_time": "2022-04-19T20:14:13.036708",
     "exception": false,
     "start_time": "2022-04-19T20:14:13.009857",
     "status": "completed"
    },
    "tags": []
   },
   "source": [
    "### Running Models with the Training data\n",
    "Details about the network layers:\n",
    "- A first affine layer has 784 inputs and does 100 affine transforms. These are followed by a Relu\n",
    "- A second affine layer has 100 inputs from the 100 activations of the past layer, and does 100 affine transforms. These are followed by a Relu\n",
    "- A third affine layer has 100 activations and does 2 affine transformations to create an embedding for visualization. There is no non-linearity here.\n",
    "- A final \"logistic regression\" which has an affine transform from 2 inputs to 1 output, which is squeezed through a sigmoid.\n"
   ]
  },
  {
   "cell_type": "code",
   "execution_count": 17,
   "id": "2b9c66db",
   "metadata": {
    "execution": {
     "iopub.execute_input": "2022-04-19T20:14:13.098946Z",
     "iopub.status.busy": "2022-04-19T20:14:13.098416Z",
     "iopub.status.idle": "2022-04-19T20:14:13.109030Z",
     "shell.execute_reply": "2022-04-19T20:14:13.108583Z"
    },
    "papermill": {
     "duration": 0.045363,
     "end_time": "2022-04-19T20:14:13.109137",
     "exception": false,
     "start_time": "2022-04-19T20:14:13.063774",
     "status": "completed"
    },
    "tags": []
   },
   "outputs": [],
   "source": [
    "data = Data(X_train, y_train.reshape(-1,1))\n",
    "sampler = Sampler(data, config.bs, shuffle=True)\n",
    "\n",
    "dl = Dataloader(data, sampler)\n",
    "\n",
    "opt = GD(config.lr)\n",
    "loss = MSE()"
   ]
  },
  {
   "cell_type": "code",
   "execution_count": 18,
   "id": "b275e4c2",
   "metadata": {
    "execution": {
     "iopub.execute_input": "2022-04-19T20:14:13.180788Z",
     "iopub.status.busy": "2022-04-19T20:14:13.178931Z",
     "iopub.status.idle": "2022-04-19T20:14:13.183000Z",
     "shell.execute_reply": "2022-04-19T20:14:13.182565Z"
    },
    "papermill": {
     "duration": 0.046862,
     "end_time": "2022-04-19T20:14:13.183105",
     "exception": false,
     "start_time": "2022-04-19T20:14:13.136243",
     "status": "completed"
    },
    "tags": []
   },
   "outputs": [],
   "source": [
    "training_data_x = X_train\n",
    "testing_data_x = X_test\n",
    "training_data_y = y_train.reshape(-1,1)\n",
    "testing_data_y = y_test.reshape(-1,1)"
   ]
  },
  {
   "cell_type": "code",
   "execution_count": 19,
   "id": "76951160",
   "metadata": {
    "execution": {
     "iopub.execute_input": "2022-04-19T20:14:13.250302Z",
     "iopub.status.busy": "2022-04-19T20:14:13.240363Z",
     "iopub.status.idle": "2022-04-19T20:14:13.260110Z",
     "shell.execute_reply": "2022-04-19T20:14:13.260519Z"
    },
    "papermill": {
     "duration": 0.050564,
     "end_time": "2022-04-19T20:14:13.260643",
     "exception": false,
     "start_time": "2022-04-19T20:14:13.210079",
     "status": "completed"
    },
    "tags": []
   },
   "outputs": [
    {
     "name": "stdout",
     "output_type": "stream",
     "text": [
      "xavier\n",
      "xavier\n",
      "xavier\n",
      "xavier\n",
      "xavier\n"
     ]
    }
   ],
   "source": [
    "layers = [Affine(\"first\", 784, 100), Relu(\"first\"), Affine(\"second\", 100, 100), Relu(\"second\"), Affine(\"third\", 100, 2), Affine(\"last\", 2, 1), Sigmoid(\"last\")]\n",
    "model_nn = Model(layers)\n",
    "model_lr = Model([Affine(\"logits\", 784, 1), Sigmoid(\"sigmoid\")])"
   ]
  },
  {
   "cell_type": "code",
   "execution_count": 20,
   "id": "6eede77a",
   "metadata": {
    "execution": {
     "iopub.execute_input": "2022-04-19T20:14:13.332979Z",
     "iopub.status.busy": "2022-04-19T20:14:13.330698Z",
     "iopub.status.idle": "2022-04-19T20:14:13.334866Z",
     "shell.execute_reply": "2022-04-19T20:14:13.335251Z"
    },
    "papermill": {
     "duration": 0.04745,
     "end_time": "2022-04-19T20:14:13.335382",
     "exception": false,
     "start_time": "2022-04-19T20:14:13.287932",
     "status": "completed"
    },
    "tags": []
   },
   "outputs": [],
   "source": [
    "nn_learner = Learner(loss, model_nn, opt, config.num_epochs)\n",
    "acc_nn = ClfCallback(nn_learner, config.bs, training_data_x , testing_data_x, training_data_y, testing_data_y)\n",
    "nn_learner.set_callbacks([acc_nn])"
   ]
  },
  {
   "cell_type": "code",
   "execution_count": 21,
   "id": "877b6cc7",
   "metadata": {
    "execution": {
     "iopub.execute_input": "2022-04-19T20:14:13.406594Z",
     "iopub.status.busy": "2022-04-19T20:14:13.393614Z",
     "iopub.status.idle": "2022-04-19T20:14:13.408545Z",
     "shell.execute_reply": "2022-04-19T20:14:13.408956Z"
    },
    "papermill": {
     "duration": 0.046154,
     "end_time": "2022-04-19T20:14:13.409085",
     "exception": false,
     "start_time": "2022-04-19T20:14:13.362931",
     "status": "completed"
    },
    "tags": []
   },
   "outputs": [],
   "source": [
    "lr_learner = Learner(loss, model_lr, opt, config.num_epochs)\n",
    "acc_lr = ClfCallback(lr_learner, config.bs, training_data_x , testing_data_x, training_data_y, testing_data_y)\n",
    "lr_learner.set_callbacks([acc_lr])"
   ]
  },
  {
   "cell_type": "code",
   "execution_count": 22,
   "id": "d9b133c3",
   "metadata": {
    "execution": {
     "iopub.execute_input": "2022-04-19T20:14:13.480534Z",
     "iopub.status.busy": "2022-04-19T20:14:13.467191Z",
     "iopub.status.idle": "2022-04-19T20:15:27.952372Z",
     "shell.execute_reply": "2022-04-19T20:15:27.953136Z"
    },
    "papermill": {
     "duration": 74.516856,
     "end_time": "2022-04-19T20:15:27.953285",
     "exception": false,
     "start_time": "2022-04-19T20:14:13.436429",
     "status": "completed"
    },
    "tags": []
   },
   "outputs": [
    {
     "name": "stdout",
     "output_type": "stream",
     "text": [
      "Epoch 0, Loss 0.2447\n",
      "Training Accuracy: 0.6754, Testing Accuracy: 0.7132\n",
      "\n"
     ]
    },
    {
     "name": "stdout",
     "output_type": "stream",
     "text": [
      "Epoch 10, Loss 0.0827\n",
      "Training Accuracy: 0.9236, Testing Accuracy: 0.9355\n",
      "\n"
     ]
    },
    {
     "name": "stdout",
     "output_type": "stream",
     "text": [
      "Epoch 20, Loss 0.0534\n",
      "Training Accuracy: 0.9448, Testing Accuracy: 0.9561\n",
      "\n"
     ]
    },
    {
     "name": "stdout",
     "output_type": "stream",
     "text": [
      "Epoch 30, Loss 0.0427\n",
      "Training Accuracy: 0.9549, Testing Accuracy: 0.9617\n",
      "\n"
     ]
    },
    {
     "name": "stdout",
     "output_type": "stream",
     "text": [
      "Epoch 40, Loss 0.0372\n",
      "Training Accuracy: 0.9599, Testing Accuracy: 0.9632\n",
      "\n"
     ]
    },
    {
     "name": "stdout",
     "output_type": "stream",
     "text": [
      "Epoch 50, Loss 0.0337\n",
      "Training Accuracy: 0.9624, Testing Accuracy: 0.9657\n",
      "\n"
     ]
    },
    {
     "name": "stdout",
     "output_type": "stream",
     "text": [
      "Epoch 60, Loss 0.0313\n",
      "Training Accuracy: 0.9646, Testing Accuracy: 0.9672\n",
      "\n"
     ]
    },
    {
     "name": "stdout",
     "output_type": "stream",
     "text": [
      "Epoch 70, Loss 0.0294\n",
      "Training Accuracy: 0.9664, Testing Accuracy: 0.9688\n",
      "\n"
     ]
    },
    {
     "name": "stdout",
     "output_type": "stream",
     "text": [
      "Epoch 80, Loss 0.028\n",
      "Training Accuracy: 0.9677, Testing Accuracy: 0.9693\n",
      "\n"
     ]
    },
    {
     "name": "stdout",
     "output_type": "stream",
     "text": [
      "Epoch 90, Loss 0.0267\n",
      "Training Accuracy: 0.9689, Testing Accuracy: 0.9713\n",
      "\n"
     ]
    },
    {
     "name": "stdout",
     "output_type": "stream",
     "text": [
      "Epoch 100, Loss 0.0257\n",
      "Training Accuracy: 0.9703, Testing Accuracy: 0.9713\n",
      "\n"
     ]
    },
    {
     "name": "stdout",
     "output_type": "stream",
     "text": [
      "Epoch 110, Loss 0.0248\n",
      "Training Accuracy: 0.9719, Testing Accuracy: 0.9718\n",
      "\n"
     ]
    },
    {
     "name": "stdout",
     "output_type": "stream",
     "text": [
      "Epoch 120, Loss 0.024\n",
      "Training Accuracy: 0.9727, Testing Accuracy: 0.9723\n",
      "\n"
     ]
    },
    {
     "name": "stdout",
     "output_type": "stream",
     "text": [
      "Epoch 130, Loss 0.0233\n",
      "Training Accuracy: 0.9733, Testing Accuracy: 0.9723\n",
      "\n"
     ]
    },
    {
     "name": "stdout",
     "output_type": "stream",
     "text": [
      "Epoch 140, Loss 0.0226\n",
      "Training Accuracy: 0.9742, Testing Accuracy: 0.9738\n",
      "\n"
     ]
    },
    {
     "name": "stdout",
     "output_type": "stream",
     "text": [
      "Epoch 150, Loss 0.022\n",
      "Training Accuracy: 0.9750, Testing Accuracy: 0.9748\n",
      "\n"
     ]
    },
    {
     "name": "stdout",
     "output_type": "stream",
     "text": [
      "Epoch 160, Loss 0.0215\n",
      "Training Accuracy: 0.9756, Testing Accuracy: 0.9753\n",
      "\n"
     ]
    },
    {
     "name": "stdout",
     "output_type": "stream",
     "text": [
      "Epoch 170, Loss 0.0209\n",
      "Training Accuracy: 0.9763, Testing Accuracy: 0.9753\n",
      "\n"
     ]
    },
    {
     "name": "stdout",
     "output_type": "stream",
     "text": [
      "Epoch 180, Loss 0.0204\n",
      "Training Accuracy: 0.9770, Testing Accuracy: 0.9748\n",
      "\n"
     ]
    },
    {
     "name": "stdout",
     "output_type": "stream",
     "text": [
      "Epoch 190, Loss 0.02\n",
      "Training Accuracy: 0.9773, Testing Accuracy: 0.9753\n",
      "\n"
     ]
    },
    {
     "name": "stdout",
     "output_type": "stream",
     "text": [
      "Epoch 200, Loss 0.0196\n",
      "Training Accuracy: 0.9779, Testing Accuracy: 0.9753\n",
      "\n"
     ]
    },
    {
     "name": "stdout",
     "output_type": "stream",
     "text": [
      "Epoch 210, Loss 0.0191\n",
      "Training Accuracy: 0.9786, Testing Accuracy: 0.9763\n",
      "\n"
     ]
    },
    {
     "name": "stdout",
     "output_type": "stream",
     "text": [
      "Epoch 220, Loss 0.0188\n",
      "Training Accuracy: 0.9791, Testing Accuracy: 0.9768\n",
      "\n"
     ]
    },
    {
     "name": "stdout",
     "output_type": "stream",
     "text": [
      "Epoch 230, Loss 0.0184\n",
      "Training Accuracy: 0.9797, Testing Accuracy: 0.9778\n",
      "\n"
     ]
    },
    {
     "name": "stdout",
     "output_type": "stream",
     "text": [
      "Epoch 240, Loss 0.018\n",
      "Training Accuracy: 0.9806, Testing Accuracy: 0.9778\n",
      "\n"
     ]
    },
    {
     "data": {
      "text/plain": [
       "0.03126033568704747"
      ]
     },
     "execution_count": 22,
     "metadata": {},
     "output_type": "execute_result"
    }
   ],
   "source": [
    "nn_learner.train_loop(dl)"
   ]
  },
  {
   "cell_type": "code",
   "execution_count": 23,
   "id": "e0163366",
   "metadata": {
    "execution": {
     "iopub.execute_input": "2022-04-19T20:15:28.031402Z",
     "iopub.status.busy": "2022-04-19T20:15:28.030885Z",
     "iopub.status.idle": "2022-04-19T20:15:41.736322Z",
     "shell.execute_reply": "2022-04-19T20:15:41.737090Z"
    },
    "papermill": {
     "duration": 13.748702,
     "end_time": "2022-04-19T20:15:41.737239",
     "exception": false,
     "start_time": "2022-04-19T20:15:27.988537",
     "status": "completed"
    },
    "tags": []
   },
   "outputs": [
    {
     "name": "stdout",
     "output_type": "stream",
     "text": [
      "Epoch 0, Loss 0.2807\n",
      "Training Accuracy: 0.5003, Testing Accuracy: 0.4990\n",
      "\n"
     ]
    },
    {
     "name": "stdout",
     "output_type": "stream",
     "text": [
      "Epoch 10, Loss 0.1066\n",
      "Training Accuracy: 0.9099, Testing Accuracy: 0.9229\n",
      "\n"
     ]
    },
    {
     "name": "stdout",
     "output_type": "stream",
     "text": [
      "Epoch 20, Loss 0.0808\n",
      "Training Accuracy: 0.9262, Testing Accuracy: 0.9390\n",
      "\n"
     ]
    },
    {
     "name": "stdout",
     "output_type": "stream",
     "text": [
      "Epoch 30, Loss 0.0694\n",
      "Training Accuracy: 0.9339, Testing Accuracy: 0.9466\n",
      "\n"
     ]
    },
    {
     "name": "stdout",
     "output_type": "stream",
     "text": [
      "Epoch 40, Loss 0.0626\n",
      "Training Accuracy: 0.9390, Testing Accuracy: 0.9551\n",
      "\n"
     ]
    },
    {
     "name": "stdout",
     "output_type": "stream",
     "text": [
      "Epoch 50, Loss 0.058\n",
      "Training Accuracy: 0.9422, Testing Accuracy: 0.9577\n",
      "\n"
     ]
    },
    {
     "name": "stdout",
     "output_type": "stream",
     "text": [
      "Epoch 60, Loss 0.0546\n",
      "Training Accuracy: 0.9454, Testing Accuracy: 0.9572\n",
      "\n"
     ]
    },
    {
     "name": "stdout",
     "output_type": "stream",
     "text": [
      "Epoch 70, Loss 0.0519\n",
      "Training Accuracy: 0.9470, Testing Accuracy: 0.9582\n",
      "\n"
     ]
    },
    {
     "name": "stdout",
     "output_type": "stream",
     "text": [
      "Epoch 80, Loss 0.0498\n",
      "Training Accuracy: 0.9487, Testing Accuracy: 0.9597\n",
      "\n"
     ]
    },
    {
     "name": "stdout",
     "output_type": "stream",
     "text": [
      "Epoch 90, Loss 0.0481\n",
      "Training Accuracy: 0.9510, Testing Accuracy: 0.9612\n",
      "\n"
     ]
    },
    {
     "name": "stdout",
     "output_type": "stream",
     "text": [
      "Epoch 100, Loss 0.0467\n",
      "Training Accuracy: 0.9522, Testing Accuracy: 0.9622\n",
      "\n"
     ]
    },
    {
     "name": "stdout",
     "output_type": "stream",
     "text": [
      "Epoch 110, Loss 0.0454\n",
      "Training Accuracy: 0.9533, Testing Accuracy: 0.9622\n",
      "\n"
     ]
    },
    {
     "name": "stdout",
     "output_type": "stream",
     "text": [
      "Epoch 120, Loss 0.0443\n",
      "Training Accuracy: 0.9543, Testing Accuracy: 0.9637\n",
      "\n"
     ]
    },
    {
     "name": "stdout",
     "output_type": "stream",
     "text": [
      "Epoch 130, Loss 0.0433\n",
      "Training Accuracy: 0.9553, Testing Accuracy: 0.9642\n",
      "\n"
     ]
    },
    {
     "name": "stdout",
     "output_type": "stream",
     "text": [
      "Epoch 140, Loss 0.0425\n",
      "Training Accuracy: 0.9564, Testing Accuracy: 0.9647\n",
      "\n"
     ]
    },
    {
     "name": "stdout",
     "output_type": "stream",
     "text": [
      "Epoch 150, Loss 0.0417\n",
      "Training Accuracy: 0.9567, Testing Accuracy: 0.9647\n",
      "\n"
     ]
    },
    {
     "name": "stdout",
     "output_type": "stream",
     "text": [
      "Epoch 160, Loss 0.041\n",
      "Training Accuracy: 0.9572, Testing Accuracy: 0.9657\n",
      "\n"
     ]
    },
    {
     "name": "stdout",
     "output_type": "stream",
     "text": [
      "Epoch 170, Loss 0.0404\n",
      "Training Accuracy: 0.9578, Testing Accuracy: 0.9657\n",
      "\n"
     ]
    },
    {
     "name": "stdout",
     "output_type": "stream",
     "text": [
      "Epoch 180, Loss 0.0398\n",
      "Training Accuracy: 0.9583, Testing Accuracy: 0.9657\n",
      "\n"
     ]
    },
    {
     "name": "stdout",
     "output_type": "stream",
     "text": [
      "Epoch 190, Loss 0.0393\n",
      "Training Accuracy: 0.9587, Testing Accuracy: 0.9657\n",
      "\n"
     ]
    },
    {
     "name": "stdout",
     "output_type": "stream",
     "text": [
      "Epoch 200, Loss 0.0388\n",
      "Training Accuracy: 0.9589, Testing Accuracy: 0.9657\n",
      "\n"
     ]
    },
    {
     "name": "stdout",
     "output_type": "stream",
     "text": [
      "Epoch 210, Loss 0.0383\n",
      "Training Accuracy: 0.9593, Testing Accuracy: 0.9657\n",
      "\n"
     ]
    },
    {
     "name": "stdout",
     "output_type": "stream",
     "text": [
      "Epoch 220, Loss 0.0379\n",
      "Training Accuracy: 0.9599, Testing Accuracy: 0.9657\n",
      "\n"
     ]
    },
    {
     "name": "stdout",
     "output_type": "stream",
     "text": [
      "Epoch 230, Loss 0.0375\n",
      "Training Accuracy: 0.9604, Testing Accuracy: 0.9662\n",
      "\n"
     ]
    },
    {
     "name": "stdout",
     "output_type": "stream",
     "text": [
      "Epoch 240, Loss 0.0371\n",
      "Training Accuracy: 0.9607, Testing Accuracy: 0.9662\n",
      "\n"
     ]
    },
    {
     "data": {
      "text/plain": [
       "0.036551966633959695"
      ]
     },
     "execution_count": 23,
     "metadata": {},
     "output_type": "execute_result"
    }
   ],
   "source": [
    "lr_learner.train_loop(dl)"
   ]
  },
  {
   "cell_type": "code",
   "execution_count": 24,
   "id": "ca410940",
   "metadata": {
    "execution": {
     "iopub.execute_input": "2022-04-19T20:15:41.835059Z",
     "iopub.status.busy": "2022-04-19T20:15:41.834519Z",
     "iopub.status.idle": "2022-04-19T20:15:42.050967Z",
     "shell.execute_reply": "2022-04-19T20:15:42.051359Z"
    },
    "papermill": {
     "duration": 0.272278,
     "end_time": "2022-04-19T20:15:42.051503",
     "exception": false,
     "start_time": "2022-04-19T20:15:41.779225",
     "status": "completed"
    },
    "tags": []
   },
   "outputs": [
    {
     "data": {
      "text/plain": [
       "<matplotlib.legend.Legend at 0x7f98ca506b38>"
      ]
     },
     "execution_count": 24,
     "metadata": {},
     "output_type": "execute_result"
    },
    {
     "data": {
      "image/png": "[encoded data removed]",
      "text/plain": [
       "<Figure size 1080x720 with 1 Axes>"
      ]
     },
     "metadata": {
      "needs_background": "light"
     },
     "output_type": "display_data"
    }
   ],
   "source": [
    "#comparing the results of NN and LR\n",
    "plt.figure(figsize=(15,10))\n",
    "\n",
    "# Neural Network plots\n",
    "plt.plot(acc_nn.accuracies, 'r-', label = \"Training Accuracies - NN\")\n",
    "plt.plot(acc_nn.test_accuracies, 'g-', label = \"Testing Accuracies - NN\")\n",
    "\n",
    "# Logistic Regression plots\n",
    "plt.plot(acc_lr.accuracies, 'k-', label = \"Training Accuracies - LR\")\n",
    "plt.plot(acc_lr.test_accuracies, 'b-', label = \"Testing Accuracies - LR\")\n",
    "plt.legend()"
   ]
  },
  {
   "cell_type": "markdown",
   "id": "80dfb35c",
   "metadata": {
    "papermill": {
     "duration": 0.042428,
     "end_time": "2022-04-19T20:15:42.136606",
     "exception": false,
     "start_time": "2022-04-19T20:15:42.094178",
     "status": "completed"
    },
    "tags": []
   },
   "source": [
    "#### Plotting the outputs of this layer of the NN.\n"
   ]
  },
  {
   "cell_type": "code",
   "execution_count": 25,
   "id": "45eb2ff5",
   "metadata": {
    "execution": {
     "iopub.execute_input": "2022-04-19T20:15:42.235574Z",
     "iopub.status.busy": "2022-04-19T20:15:42.235014Z",
     "iopub.status.idle": "2022-04-19T20:15:42.250276Z",
     "shell.execute_reply": "2022-04-19T20:15:42.250711Z"
    },
    "papermill": {
     "duration": 0.071907,
     "end_time": "2022-04-19T20:15:42.250855",
     "exception": false,
     "start_time": "2022-04-19T20:15:42.178948",
     "status": "completed"
    },
    "tags": []
   },
   "outputs": [],
   "source": [
    "new_model = Model(layers[:-2])\n",
    "testing_plot = new_model(testing_data_x)"
   ]
  },
  {
   "cell_type": "code",
   "execution_count": 26,
   "id": "4c0a5485",
   "metadata": {
    "execution": {
     "iopub.execute_input": "2022-04-19T20:15:42.343719Z",
     "iopub.status.busy": "2022-04-19T20:15:42.342005Z",
     "iopub.status.idle": "2022-04-19T20:15:42.552600Z",
     "shell.execute_reply": "2022-04-19T20:15:42.552169Z"
    },
    "papermill": {
     "duration": 0.257981,
     "end_time": "2022-04-19T20:15:42.552717",
     "exception": false,
     "start_time": "2022-04-19T20:15:42.294736",
     "status": "completed"
    },
    "tags": []
   },
   "outputs": [
    {
     "data": {
      "text/plain": [
       "Text(0.5, 1.0, 'Outputs')"
      ]
     },
     "execution_count": 26,
     "metadata": {},
     "output_type": "execute_result"
    },
    {
     "data": {
      "image/png": "[encoded data removed]",
      "text/plain": [
       "<Figure size 576x504 with 1 Axes>"
      ]
     },
     "metadata": {
      "needs_background": "light"
     },
     "output_type": "display_data"
    }
   ],
   "source": [
    "# Plotting the scatter plot of points and color coding by class\n",
    "plt.figure(figsize=(8,7))\n",
    "plt.scatter(testing_plot[:,0], testing_plot[:,1], alpha = 0.1, c = y_test.ravel());\n",
    "plt.title('Outputs')"
   ]
  },
  {
   "cell_type": "markdown",
   "id": "a74fcf8f",
   "metadata": {
    "papermill": {
     "duration": 0.04507,
     "end_time": "2022-04-19T20:15:42.642983",
     "exception": false,
     "start_time": "2022-04-19T20:15:42.597913",
     "status": "completed"
    },
    "tags": []
   },
   "source": [
    "Probability contours"
   ]
  },
  {
   "cell_type": "code",
   "execution_count": 27,
   "id": "d0afc8e3",
   "metadata": {
    "execution": {
     "iopub.execute_input": "2022-04-19T20:15:42.739435Z",
     "iopub.status.busy": "2022-04-19T20:15:42.738909Z",
     "iopub.status.idle": "2022-04-19T20:15:42.749239Z",
     "shell.execute_reply": "2022-04-19T20:15:42.749649Z"
    },
    "papermill": {
     "duration": 0.061747,
     "end_time": "2022-04-19T20:15:42.749793",
     "exception": false,
     "start_time": "2022-04-19T20:15:42.688046",
     "status": "completed"
    },
    "tags": []
   },
   "outputs": [],
   "source": [
    "model_prob = Model(layers[-2:]) "
   ]
  },
  {
   "cell_type": "code",
   "execution_count": 28,
   "id": "9b96e238",
   "metadata": {
    "execution": {
     "iopub.execute_input": "2022-04-19T20:15:42.872886Z",
     "iopub.status.busy": "2022-04-19T20:15:42.872367Z",
     "iopub.status.idle": "2022-04-19T20:15:42.887278Z",
     "shell.execute_reply": "2022-04-19T20:15:42.887660Z"
    },
    "papermill": {
     "duration": 0.064842,
     "end_time": "2022-04-19T20:15:42.887798",
     "exception": false,
     "start_time": "2022-04-19T20:15:42.822956",
     "status": "completed"
    },
    "tags": []
   },
   "outputs": [],
   "source": [
    "#creating the x and y ranges according to the above generated plot.\n",
    "x_range = np.linspace(-4, 1, 100) \n",
    "y_range = np.linspace(-6, 6, 100) \n",
    "x_grid, y_grid = np.meshgrid(x_range, y_range) # x_grid and y_grig are of size 100 X 100\n",
    "\n",
    "# converting x_grid and y_grid to continuous arrays\n",
    "x_gridflat = np.ravel(x_grid)\n",
    "y_gridflat = np.ravel(y_grid)\n",
    "\n",
    "# The last layer of the current model takes two columns as input. Hence transpose of np.vstack() is required.\n",
    "X = np.vstack((x_gridflat, y_gridflat)).T\n",
    "\n",
    "prob_contour = model_prob(X).reshape(100,100) "
   ]
  },
  {
   "cell_type": "code",
   "execution_count": 29,
   "id": "da72499a",
   "metadata": {
    "execution": {
     "iopub.execute_input": "2022-04-19T20:15:42.985702Z",
     "iopub.status.busy": "2022-04-19T20:15:42.984202Z",
     "iopub.status.idle": "2022-04-19T20:15:43.232923Z",
     "shell.execute_reply": "2022-04-19T20:15:43.232095Z"
    },
    "papermill": {
     "duration": 0.299918,
     "end_time": "2022-04-19T20:15:43.233054",
     "exception": false,
     "start_time": "2022-04-19T20:15:42.933136",
     "status": "completed"
    },
    "tags": []
   },
   "outputs": [
    {
     "data": {
      "image/png": "[encoded data removed]",
      "text/plain": [
       "<Figure size 720x648 with 1 Axes>"
      ]
     },
     "metadata": {
      "needs_background": "light"
     },
     "output_type": "display_data"
    }
   ],
   "source": [
    "plt.figure(figsize=(10,9))\n",
    "plt.scatter(testing_plot[:,0], testing_plot[:,1], alpha = 0.1, c = y_test.ravel())\n",
    "contours = plt.contour(x_grid,y_grid,prob_contour)\n",
    "plt.title('Probability Contours')\n",
    "plt.clabel(contours, inline = True );"
   ]
  },
  {
   "cell_type": "code",
   "execution_count": null,
   "id": "e81b4ac7",
   "metadata": {
    "papermill": {
     "duration": 0.048179,
     "end_time": "2022-04-19T20:15:43.329993",
     "exception": false,
     "start_time": "2022-04-19T20:15:43.281814",
     "status": "completed"
    },
    "tags": []
   },
   "outputs": [],
   "source": []
  }
 ],
 "metadata": {
  "kernelspec": {
   "display_name": "Python 3",
   "language": "python",
   "name": "python3"
  },
  "language_info": {
   "codemirror_mode": {
    "name": "ipython",
    "version": 3
   },
   "file_extension": ".py",
   "mimetype": "text/x-python",
   "name": "python",
   "nbconvert_exporter": "python",
   "pygments_lexer": "ipython3",
   "version": "3.6.15"
  },
  "papermill": {
   "default_parameters": {},
   "duration": 97.590837,
   "end_time": "2022-04-19T20:15:43.797199",
   "environment_variables": {},
   "exception": null,
   "input_path": "2020-08-11-part2.ipynb",
   "output_path": "2020-08-11-part2.ipynb",
   "parameters": {},
   "start_time": "2022-04-19T20:14:06.206362",
   "version": "2.3.3"
  }
 },
 "nbformat": 4,
 "nbformat_minor": 5
}