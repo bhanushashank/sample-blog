{
 "cells": [
  {
   "cell_type": "markdown",
   "id": "98380cd3",
   "metadata": {
    "papermill": {
     "duration": 0.026302,
     "end_time": "2022-04-17T00:35:08.365199",
     "exception": false,
     "start_time": "2022-04-17T00:35:08.338897",
     "status": "completed"
    },
    "tags": []
   },
   "source": [
    "# Distinguish Your Own Digits (DYOD)"
   ]
  },
  {
   "cell_type": "markdown",
   "id": "ef31240d",
   "metadata": {
    "papermill": {
     "duration": 0.021305,
     "end_time": "2022-04-17T00:35:08.406894",
     "exception": false,
     "start_time": "2022-04-17T00:35:08.385589",
     "status": "completed"
    },
    "tags": []
   },
   "source": [
    "You are going to write a classifier that distinguishes between the number 3 and number 8."
   ]
  },
  {
   "cell_type": "code",
   "execution_count": 1,
   "id": "b15c8646",
   "metadata": {
    "execution": {
     "iopub.execute_input": "2022-04-17T00:35:08.455232Z",
     "iopub.status.busy": "2022-04-17T00:35:08.454761Z",
     "iopub.status.idle": "2022-04-17T00:35:08.464638Z",
     "shell.execute_reply": "2022-04-17T00:35:08.464263Z"
    },
    "papermill": {
     "duration": 0.038377,
     "end_time": "2022-04-17T00:35:08.464747",
     "exception": false,
     "start_time": "2022-04-17T00:35:08.426370",
     "status": "completed"
    },
    "tags": []
   },
   "outputs": [],
   "source": [
    "%load_ext autoreload\n",
    "%autoreload 2"
   ]
  },
  {
   "cell_type": "code",
   "execution_count": 2,
   "id": "22ef38dc",
   "metadata": {
    "execution": {
     "iopub.execute_input": "2022-04-17T00:35:08.506818Z",
     "iopub.status.busy": "2022-04-17T00:35:08.506373Z",
     "iopub.status.idle": "2022-04-17T00:35:08.968382Z",
     "shell.execute_reply": "2022-04-17T00:35:08.968837Z"
    },
    "papermill": {
     "duration": 0.484821,
     "end_time": "2022-04-17T00:35:08.969001",
     "exception": false,
     "start_time": "2022-04-17T00:35:08.484180",
     "status": "completed"
    },
    "tags": []
   },
   "outputs": [],
   "source": [
    "%matplotlib inline\n",
    "import numpy as np\n",
    "import matplotlib.pyplot as plt\n",
    "import pandas as pd"
   ]
  },
  {
   "cell_type": "markdown",
   "id": "ba036198",
   "metadata": {
    "papermill": {
     "duration": 0.020949,
     "end_time": "2022-04-17T00:35:09.012010",
     "exception": false,
     "start_time": "2022-04-17T00:35:08.991061",
     "status": "completed"
    },
    "tags": []
   },
   "source": [
    "From the command line run `pip install mnist`. This is a library that will help you bring down the mnist dataset. If you run this from a notebook, you need to put  `!pip install mnist` in a cell by itself."
   ]
  },
  {
   "cell_type": "code",
   "execution_count": 3,
   "id": "bb6ad8a1",
   "metadata": {
    "execution": {
     "iopub.execute_input": "2022-04-17T00:35:09.055595Z",
     "iopub.status.busy": "2022-04-17T00:35:09.055146Z",
     "iopub.status.idle": "2022-04-17T00:35:10.798076Z",
     "shell.execute_reply": "2022-04-17T00:35:10.798717Z"
    },
    "papermill": {
     "duration": 1.767044,
     "end_time": "2022-04-17T00:35:10.798888",
     "exception": false,
     "start_time": "2022-04-17T00:35:09.031844",
     "status": "completed"
    },
    "tags": []
   },
   "outputs": [
    {
     "name": "stdout",
     "output_type": "stream",
     "text": [
      "Collecting mnist\r\n"
     ]
    },
    {
     "name": "stdout",
     "output_type": "stream",
     "text": [
      "  Downloading mnist-0.2.2-py2.py3-none-any.whl (3.5 kB)\r\n"
     ]
    },
    {
     "name": "stdout",
     "output_type": "stream",
     "text": [
      "Requirement already satisfied: numpy in /opt/hostedtoolcache/Python/3.6.15/x64/lib/python3.6/site-packages (from mnist) (1.19.5)\r\n"
     ]
    },
    {
     "name": "stdout",
     "output_type": "stream",
     "text": [
      "Installing collected packages: mnist\r\n"
     ]
    },
    {
     "name": "stdout",
     "output_type": "stream",
     "text": [
      "Successfully installed mnist-0.2.2\r\n"
     ]
    }
   ],
   "source": [
    "!pip install mnist"
   ]
  },
  {
   "cell_type": "markdown",
   "id": "69df9c9a",
   "metadata": {
    "papermill": {
     "duration": 0.022615,
     "end_time": "2022-04-17T00:35:10.843884",
     "exception": false,
     "start_time": "2022-04-17T00:35:10.821269",
     "status": "completed"
    },
    "tags": []
   },
   "source": [
    "## Preparing the Data"
   ]
  },
  {
   "cell_type": "code",
   "execution_count": 4,
   "id": "7f69d806",
   "metadata": {
    "execution": {
     "iopub.execute_input": "2022-04-17T00:35:10.917630Z",
     "iopub.status.busy": "2022-04-17T00:35:10.917146Z",
     "iopub.status.idle": "2022-04-17T00:35:10.921386Z",
     "shell.execute_reply": "2022-04-17T00:35:10.921022Z"
    },
    "papermill": {
     "duration": 0.055533,
     "end_time": "2022-04-17T00:35:10.921486",
     "exception": false,
     "start_time": "2022-04-17T00:35:10.865953",
     "status": "completed"
    },
    "tags": []
   },
   "outputs": [],
   "source": [
    "import mnist"
   ]
  },
  {
   "cell_type": "code",
   "execution_count": 5,
   "id": "a411e44f",
   "metadata": {
    "execution": {
     "iopub.execute_input": "2022-04-17T00:35:10.973259Z",
     "iopub.status.busy": "2022-04-17T00:35:10.972818Z",
     "iopub.status.idle": "2022-04-17T00:35:11.568457Z",
     "shell.execute_reply": "2022-04-17T00:35:11.568935Z"
    },
    "papermill": {
     "duration": 0.625819,
     "end_time": "2022-04-17T00:35:11.569104",
     "exception": false,
     "start_time": "2022-04-17T00:35:10.943285",
     "status": "completed"
    },
    "tags": []
   },
   "outputs": [],
   "source": [
    "train_images = mnist.train_images()\n",
    "train_labels = mnist.train_labels()"
   ]
  },
  {
   "cell_type": "code",
   "execution_count": 6,
   "id": "dceab3a5",
   "metadata": {
    "execution": {
     "iopub.execute_input": "2022-04-17T00:35:11.616791Z",
     "iopub.status.busy": "2022-04-17T00:35:11.616315Z",
     "iopub.status.idle": "2022-04-17T00:35:11.629434Z",
     "shell.execute_reply": "2022-04-17T00:35:11.629054Z"
    },
    "papermill": {
     "duration": 0.037137,
     "end_time": "2022-04-17T00:35:11.629537",
     "exception": false,
     "start_time": "2022-04-17T00:35:11.592400",
     "status": "completed"
    },
    "tags": []
   },
   "outputs": [
    {
     "data": {
      "text/plain": [
       "((60000, 28, 28), (60000,))"
      ]
     },
     "execution_count": 6,
     "metadata": {},
     "output_type": "execute_result"
    }
   ],
   "source": [
    "train_images.shape, train_labels.shape"
   ]
  },
  {
   "cell_type": "code",
   "execution_count": 7,
   "id": "f50dc2bb",
   "metadata": {
    "execution": {
     "iopub.execute_input": "2022-04-17T00:35:11.676091Z",
     "iopub.status.busy": "2022-04-17T00:35:11.675516Z",
     "iopub.status.idle": "2022-04-17T00:35:11.906877Z",
     "shell.execute_reply": "2022-04-17T00:35:11.906299Z"
    },
    "papermill": {
     "duration": 0.255839,
     "end_time": "2022-04-17T00:35:11.907006",
     "exception": false,
     "start_time": "2022-04-17T00:35:11.651167",
     "status": "completed"
    },
    "tags": []
   },
   "outputs": [],
   "source": [
    "test_images = mnist.test_images()\n",
    "test_labels = mnist.test_labels()"
   ]
  },
  {
   "cell_type": "code",
   "execution_count": 8,
   "id": "fc38cf1b",
   "metadata": {
    "execution": {
     "iopub.execute_input": "2022-04-17T00:35:11.954856Z",
     "iopub.status.busy": "2022-04-17T00:35:11.954408Z",
     "iopub.status.idle": "2022-04-17T00:35:11.966471Z",
     "shell.execute_reply": "2022-04-17T00:35:11.966071Z"
    },
    "papermill": {
     "duration": 0.037547,
     "end_time": "2022-04-17T00:35:11.966568",
     "exception": false,
     "start_time": "2022-04-17T00:35:11.929021",
     "status": "completed"
    },
    "tags": []
   },
   "outputs": [
    {
     "data": {
      "text/plain": [
       "((10000, 28, 28), (10000,))"
      ]
     },
     "execution_count": 8,
     "metadata": {},
     "output_type": "execute_result"
    }
   ],
   "source": [
    "test_images.shape, test_labels.shape"
   ]
  },
  {
   "cell_type": "code",
   "execution_count": 9,
   "id": "f9ed8fe0",
   "metadata": {
    "execution": {
     "iopub.execute_input": "2022-04-17T00:35:12.015074Z",
     "iopub.status.busy": "2022-04-17T00:35:12.014644Z",
     "iopub.status.idle": "2022-04-17T00:35:12.135284Z",
     "shell.execute_reply": "2022-04-17T00:35:12.135754Z"
    },
    "papermill": {
     "duration": 0.147301,
     "end_time": "2022-04-17T00:35:12.135903",
     "exception": false,
     "start_time": "2022-04-17T00:35:11.988602",
     "status": "completed"
    },
    "tags": []
   },
   "outputs": [
    {
     "name": "stdout",
     "output_type": "stream",
     "text": [
      "2\n"
     ]
    },
    {
     "data": {
      "text/plain": [
       "<matplotlib.image.AxesImage at 0x7f6d26780358>"
      ]
     },
     "execution_count": 9,
     "metadata": {},
     "output_type": "execute_result"
    },
    {
     "data": {
      "image/png": "[encoded data removed]",
      "text/plain": [
       "<Figure size 432x288 with 1 Axes>"
      ]
     },
     "metadata": {
      "needs_background": "light"
     },
     "output_type": "display_data"
    }
   ],
   "source": [
    "image_index = 7776 # You may select anything up to 60,000\n",
    "print(train_labels[image_index]) \n",
    "plt.imshow(train_images[image_index], cmap='Greys')"
   ]
  },
  {
   "cell_type": "markdown",
   "id": "a8d2388d",
   "metadata": {
    "papermill": {
     "duration": 0.022847,
     "end_time": "2022-04-17T00:35:12.182811",
     "exception": false,
     "start_time": "2022-04-17T00:35:12.159964",
     "status": "completed"
    },
    "tags": []
   },
   "source": [
    "## Filter data to get 3 and 8 out"
   ]
  },
  {
   "cell_type": "code",
   "execution_count": 10,
   "id": "776f7fc7",
   "metadata": {
    "execution": {
     "iopub.execute_input": "2022-04-17T00:35:12.231103Z",
     "iopub.status.busy": "2022-04-17T00:35:12.230676Z",
     "iopub.status.idle": "2022-04-17T00:35:12.247324Z",
     "shell.execute_reply": "2022-04-17T00:35:12.247752Z"
    },
    "papermill": {
     "duration": 0.042549,
     "end_time": "2022-04-17T00:35:12.247867",
     "exception": false,
     "start_time": "2022-04-17T00:35:12.205318",
     "status": "completed"
    },
    "tags": []
   },
   "outputs": [],
   "source": [
    "train_filter = np.where((train_labels == 3 ) | (train_labels == 8))\n",
    "test_filter = np.where((test_labels == 3) | (test_labels == 8))\n",
    "X_train, y_train = train_images[train_filter], train_labels[train_filter]\n",
    "X_test, y_test = test_images[test_filter], test_labels[test_filter]"
   ]
  },
  {
   "cell_type": "markdown",
   "id": "948f0b7e",
   "metadata": {
    "papermill": {
     "duration": 0.022355,
     "end_time": "2022-04-17T00:35:12.292785",
     "exception": false,
     "start_time": "2022-04-17T00:35:12.270430",
     "status": "completed"
    },
    "tags": []
   },
   "source": [
    "We normalize the pizel values in the 0 to 1 range"
   ]
  },
  {
   "cell_type": "code",
   "execution_count": 11,
   "id": "ee4c2166",
   "metadata": {
    "execution": {
     "iopub.execute_input": "2022-04-17T00:35:12.340540Z",
     "iopub.status.busy": "2022-04-17T00:35:12.340097Z",
     "iopub.status.idle": "2022-04-17T00:35:12.387002Z",
     "shell.execute_reply": "2022-04-17T00:35:12.387481Z"
    },
    "papermill": {
     "duration": 0.072712,
     "end_time": "2022-04-17T00:35:12.387646",
     "exception": false,
     "start_time": "2022-04-17T00:35:12.314934",
     "status": "completed"
    },
    "tags": []
   },
   "outputs": [],
   "source": [
    "X_train = X_train/255.\n",
    "X_test = X_test/255."
   ]
  },
  {
   "cell_type": "markdown",
   "id": "ddcf4fab",
   "metadata": {
    "papermill": {
     "duration": 0.023265,
     "end_time": "2022-04-17T00:35:12.436056",
     "exception": false,
     "start_time": "2022-04-17T00:35:12.412791",
     "status": "completed"
    },
    "tags": []
   },
   "source": [
    "And setup the labels as 1 (when the digit is 3) and 0 (when the digit is 8)"
   ]
  },
  {
   "cell_type": "code",
   "execution_count": 12,
   "id": "7dc908f2",
   "metadata": {
    "execution": {
     "iopub.execute_input": "2022-04-17T00:35:12.484496Z",
     "iopub.status.busy": "2022-04-17T00:35:12.484033Z",
     "iopub.status.idle": "2022-04-17T00:35:12.495765Z",
     "shell.execute_reply": "2022-04-17T00:35:12.495396Z"
    },
    "papermill": {
     "duration": 0.037188,
     "end_time": "2022-04-17T00:35:12.495865",
     "exception": false,
     "start_time": "2022-04-17T00:35:12.458677",
     "status": "completed"
    },
    "tags": []
   },
   "outputs": [],
   "source": [
    "y_train = 1*(y_train==3)\n",
    "y_test = 1*(y_test==3)"
   ]
  },
  {
   "cell_type": "code",
   "execution_count": 13,
   "id": "01e4e969",
   "metadata": {
    "execution": {
     "iopub.execute_input": "2022-04-17T00:35:12.544143Z",
     "iopub.status.busy": "2022-04-17T00:35:12.543708Z",
     "iopub.status.idle": "2022-04-17T00:35:12.555767Z",
     "shell.execute_reply": "2022-04-17T00:35:12.556135Z"
    },
    "papermill": {
     "duration": 0.037537,
     "end_time": "2022-04-17T00:35:12.556235",
     "exception": false,
     "start_time": "2022-04-17T00:35:12.518698",
     "status": "completed"
    },
    "tags": []
   },
   "outputs": [
    {
     "data": {
      "text/plain": [
       "((11982, 28, 28), (1984, 28, 28))"
      ]
     },
     "execution_count": 13,
     "metadata": {},
     "output_type": "execute_result"
    }
   ],
   "source": [
    "X_train.shape, X_test.shape"
   ]
  },
  {
   "cell_type": "markdown",
   "id": "5ccf3f85",
   "metadata": {
    "papermill": {
     "duration": 0.022626,
     "end_time": "2022-04-17T00:35:12.601585",
     "exception": false,
     "start_time": "2022-04-17T00:35:12.578959",
     "status": "completed"
    },
    "tags": []
   },
   "source": [
    "We reshape the data to flatten the image pixels into a set of features or co-variates:"
   ]
  },
  {
   "cell_type": "code",
   "execution_count": 14,
   "id": "5286a4a3",
   "metadata": {
    "execution": {
     "iopub.execute_input": "2022-04-17T00:35:12.651180Z",
     "iopub.status.busy": "2022-04-17T00:35:12.650723Z",
     "iopub.status.idle": "2022-04-17T00:35:12.664003Z",
     "shell.execute_reply": "2022-04-17T00:35:12.664379Z"
    },
    "papermill": {
     "duration": 0.040089,
     "end_time": "2022-04-17T00:35:12.664481",
     "exception": false,
     "start_time": "2022-04-17T00:35:12.624392",
     "status": "completed"
    },
    "tags": []
   },
   "outputs": [
    {
     "data": {
      "text/plain": [
       "((11982, 784), (1984, 784))"
      ]
     },
     "execution_count": 14,
     "metadata": {},
     "output_type": "execute_result"
    }
   ],
   "source": [
    "X_train = X_train.reshape(X_train.shape[0], -1)\n",
    "X_test = X_test.reshape(X_test.shape[0], -1)\n",
    "X_train.shape, X_test.shape"
   ]
  },
  {
   "cell_type": "code",
   "execution_count": 15,
   "id": "73c5f88a",
   "metadata": {
    "execution": {
     "iopub.execute_input": "2022-04-17T00:35:12.714274Z",
     "iopub.status.busy": "2022-04-17T00:35:12.713790Z",
     "iopub.status.idle": "2022-04-17T00:35:12.731525Z",
     "shell.execute_reply": "2022-04-17T00:35:12.731036Z"
    },
    "papermill": {
     "duration": 0.044154,
     "end_time": "2022-04-17T00:35:12.731638",
     "exception": false,
     "start_time": "2022-04-17T00:35:12.687484",
     "status": "completed"
    },
    "tags": []
   },
   "outputs": [],
   "source": [
    "#Impoting functions from 'Kudzu'\n",
    "from kudzu.model import Model\n",
    "from kudzu.train import Learner\n",
    "from kudzu.optim import GD\n",
    "from kudzu.data import Data, Sampler,Dataloader\n",
    "\n",
    "from kudzu.callbacks import AccCallback\n",
    "from kudzu.callbacks import ClfCallback\n",
    "\n",
    "from kudzu.loss import MSE\n",
    "\n",
    "from kudzu.layer import Sigmoid,Relu\n",
    "from kudzu.layer import Affine"
   ]
  },
  {
   "cell_type": "markdown",
   "id": "bc01172a",
   "metadata": {
    "papermill": {
     "duration": 0.023291,
     "end_time": "2022-04-17T00:35:12.780052",
     "exception": false,
     "start_time": "2022-04-17T00:35:12.756761",
     "status": "completed"
    },
    "tags": []
   },
   "source": [
    "### Let us create a `Config` class, to store important parameters. \n",
    "This class essentially plays the role of a dictionary."
   ]
  },
  {
   "cell_type": "code",
   "execution_count": 16,
   "id": "978281aa",
   "metadata": {
    "execution": {
     "iopub.execute_input": "2022-04-17T00:35:12.829107Z",
     "iopub.status.busy": "2022-04-17T00:35:12.828666Z",
     "iopub.status.idle": "2022-04-17T00:35:12.839490Z",
     "shell.execute_reply": "2022-04-17T00:35:12.839111Z"
    },
    "papermill": {
     "duration": 0.036738,
     "end_time": "2022-04-17T00:35:12.839585",
     "exception": false,
     "start_time": "2022-04-17T00:35:12.802847",
     "status": "completed"
    },
    "tags": []
   },
   "outputs": [],
   "source": [
    "class Config:\n",
    "    pass\n",
    "config = Config()\n",
    "config.lr = 0.001\n",
    "config.num_epochs = 250\n",
    "config.bs = 50"
   ]
  },
  {
   "cell_type": "markdown",
   "id": "1385fa59",
   "metadata": {
    "papermill": {
     "duration": 0.024293,
     "end_time": "2022-04-17T00:35:12.887795",
     "exception": false,
     "start_time": "2022-04-17T00:35:12.863502",
     "status": "completed"
    },
    "tags": []
   },
   "source": [
    "### Running Models with the Training data\n",
    "Details about the network layers:\n",
    "- A first affine layer has 784 inputs and does 100 affine transforms. These are followed by a Relu\n",
    "- A second affine layer has 100 inputs from the 100 activations of the past layer, and does 100 affine transforms. These are followed by a Relu\n",
    "- A third affine layer has 100 activations and does 2 affine transformations to create an embedding for visualization. There is no non-linearity here.\n",
    "- A final \"logistic regression\" which has an affine transform from 2 inputs to 1 output, which is squeezed through a sigmoid.\n"
   ]
  },
  {
   "cell_type": "code",
   "execution_count": 17,
   "id": "2b9c66db",
   "metadata": {
    "execution": {
     "iopub.execute_input": "2022-04-17T00:35:12.939522Z",
     "iopub.status.busy": "2022-04-17T00:35:12.939070Z",
     "iopub.status.idle": "2022-04-17T00:35:12.949730Z",
     "shell.execute_reply": "2022-04-17T00:35:12.949355Z"
    },
    "papermill": {
     "duration": 0.038978,
     "end_time": "2022-04-17T00:35:12.949819",
     "exception": false,
     "start_time": "2022-04-17T00:35:12.910841",
     "status": "completed"
    },
    "tags": []
   },
   "outputs": [],
   "source": [
    "data = Data(X_train, y_train.reshape(-1,1))\n",
    "sampler = Sampler(data, config.bs, shuffle=True)\n",
    "\n",
    "dl = Dataloader(data, sampler)\n",
    "\n",
    "opt = GD(config.lr)\n",
    "loss = MSE()"
   ]
  },
  {
   "cell_type": "code",
   "execution_count": 18,
   "id": "b275e4c2",
   "metadata": {
    "execution": {
     "iopub.execute_input": "2022-04-17T00:35:13.004873Z",
     "iopub.status.busy": "2022-04-17T00:35:13.004392Z",
     "iopub.status.idle": "2022-04-17T00:35:13.014101Z",
     "shell.execute_reply": "2022-04-17T00:35:13.013726Z"
    },
    "papermill": {
     "duration": 0.040399,
     "end_time": "2022-04-17T00:35:13.014229",
     "exception": false,
     "start_time": "2022-04-17T00:35:12.973830",
     "status": "completed"
    },
    "tags": []
   },
   "outputs": [],
   "source": [
    "training_data_x = X_train\n",
    "testing_data_x = X_test\n",
    "training_data_y = y_train.reshape(-1,1)\n",
    "testing_data_y = y_test.reshape(-1,1)"
   ]
  },
  {
   "cell_type": "code",
   "execution_count": 19,
   "id": "76951160",
   "metadata": {
    "execution": {
     "iopub.execute_input": "2022-04-17T00:35:13.065427Z",
     "iopub.status.busy": "2022-04-17T00:35:13.064942Z",
     "iopub.status.idle": "2022-04-17T00:35:13.080626Z",
     "shell.execute_reply": "2022-04-17T00:35:13.080252Z"
    },
    "papermill": {
     "duration": 0.042962,
     "end_time": "2022-04-17T00:35:13.080728",
     "exception": false,
     "start_time": "2022-04-17T00:35:13.037766",
     "status": "completed"
    },
    "tags": []
   },
   "outputs": [
    {
     "name": "stdout",
     "output_type": "stream",
     "text": [
      "xavier\n",
      "xavier\n",
      "xavier\n",
      "xavier\n",
      "xavier\n"
     ]
    }
   ],
   "source": [
    "layers = [Affine(\"first\", 784, 100), Relu(\"first\"), Affine(\"second\", 100, 100), Relu(\"second\"), Affine(\"third\", 100, 2), Affine(\"last\", 2, 1), Sigmoid(\"last\")]\n",
    "model_nn = Model(layers)\n",
    "model_lr = Model([Affine(\"logits\", 784, 1), Sigmoid(\"sigmoid\")])"
   ]
  },
  {
   "cell_type": "code",
   "execution_count": 20,
   "id": "6eede77a",
   "metadata": {
    "execution": {
     "iopub.execute_input": "2022-04-17T00:35:13.135368Z",
     "iopub.status.busy": "2022-04-17T00:35:13.134904Z",
     "iopub.status.idle": "2022-04-17T00:35:13.144520Z",
     "shell.execute_reply": "2022-04-17T00:35:13.144132Z"
    },
    "papermill": {
     "duration": 0.03981,
     "end_time": "2022-04-17T00:35:13.144609",
     "exception": false,
     "start_time": "2022-04-17T00:35:13.104799",
     "status": "completed"
    },
    "tags": []
   },
   "outputs": [],
   "source": [
    "nn_learner = Learner(loss, model_nn, opt, config.num_epochs)\n",
    "acc_nn = ClfCallback(nn_learner, config.bs, training_data_x , testing_data_x, training_data_y, testing_data_y)\n",
    "nn_learner.set_callbacks([acc_nn])"
   ]
  },
  {
   "cell_type": "code",
   "execution_count": 21,
   "id": "877b6cc7",
   "metadata": {
    "execution": {
     "iopub.execute_input": "2022-04-17T00:35:13.194615Z",
     "iopub.status.busy": "2022-04-17T00:35:13.194164Z",
     "iopub.status.idle": "2022-04-17T00:35:13.204972Z",
     "shell.execute_reply": "2022-04-17T00:35:13.204617Z"
    },
    "papermill": {
     "duration": 0.037414,
     "end_time": "2022-04-17T00:35:13.205064",
     "exception": false,
     "start_time": "2022-04-17T00:35:13.167650",
     "status": "completed"
    },
    "tags": []
   },
   "outputs": [],
   "source": [
    "lr_learner = Learner(loss, model_lr, opt, config.num_epochs)\n",
    "acc_lr = ClfCallback(lr_learner, config.bs, training_data_x , testing_data_x, training_data_y, testing_data_y)\n",
    "lr_learner.set_callbacks([acc_lr])"
   ]
  },
  {
   "cell_type": "code",
   "execution_count": 22,
   "id": "d9b133c3",
   "metadata": {
    "execution": {
     "iopub.execute_input": "2022-04-17T00:35:13.257800Z",
     "iopub.status.busy": "2022-04-17T00:35:13.257351Z",
     "iopub.status.idle": "2022-04-17T00:36:25.669426Z",
     "shell.execute_reply": "2022-04-17T00:36:25.670083Z"
    },
    "papermill": {
     "duration": 72.441634,
     "end_time": "2022-04-17T00:36:25.670242",
     "exception": false,
     "start_time": "2022-04-17T00:35:13.228608",
     "status": "completed"
    },
    "tags": []
   },
   "outputs": [
    {
     "name": "stdout",
     "output_type": "stream",
     "text": [
      "Epoch 0, Loss 0.2487\n",
      "Training Accuracy: 0.5692, Testing Accuracy: 0.5625\n",
      "\n"
     ]
    },
    {
     "name": "stdout",
     "output_type": "stream",
     "text": [
      "Epoch 10, Loss 0.2135\n",
      "Training Accuracy: 0.8497, Testing Accuracy: 0.8377\n",
      "\n"
     ]
    },
    {
     "name": "stdout",
     "output_type": "stream",
     "text": [
      "Epoch 20, Loss 0.1126\n",
      "Training Accuracy: 0.9140, Testing Accuracy: 0.9214\n",
      "\n"
     ]
    },
    {
     "name": "stdout",
     "output_type": "stream",
     "text": [
      "Epoch 30, Loss 0.0644\n",
      "Training Accuracy: 0.9346, Testing Accuracy: 0.9435\n",
      "\n"
     ]
    },
    {
     "name": "stdout",
     "output_type": "stream",
     "text": [
      "Epoch 40, Loss 0.0491\n",
      "Training Accuracy: 0.9468, Testing Accuracy: 0.9556\n",
      "\n"
     ]
    },
    {
     "name": "stdout",
     "output_type": "stream",
     "text": [
      "Epoch 50, Loss 0.0418\n",
      "Training Accuracy: 0.9511, Testing Accuracy: 0.9622\n",
      "\n"
     ]
    },
    {
     "name": "stdout",
     "output_type": "stream",
     "text": [
      "Epoch 60, Loss 0.0375\n",
      "Training Accuracy: 0.9557, Testing Accuracy: 0.9652\n",
      "\n"
     ]
    },
    {
     "name": "stdout",
     "output_type": "stream",
     "text": [
      "Epoch 70, Loss 0.0347\n",
      "Training Accuracy: 0.9584, Testing Accuracy: 0.9672\n",
      "\n"
     ]
    },
    {
     "name": "stdout",
     "output_type": "stream",
     "text": [
      "Epoch 80, Loss 0.0326\n",
      "Training Accuracy: 0.9608, Testing Accuracy: 0.9688\n",
      "\n"
     ]
    },
    {
     "name": "stdout",
     "output_type": "stream",
     "text": [
      "Epoch 90, Loss 0.031\n",
      "Training Accuracy: 0.9635, Testing Accuracy: 0.9698\n",
      "\n"
     ]
    },
    {
     "name": "stdout",
     "output_type": "stream",
     "text": [
      "Epoch 100, Loss 0.0296\n",
      "Training Accuracy: 0.9649, Testing Accuracy: 0.9703\n",
      "\n"
     ]
    },
    {
     "name": "stdout",
     "output_type": "stream",
     "text": [
      "Epoch 110, Loss 0.0285\n",
      "Training Accuracy: 0.9664, Testing Accuracy: 0.9713\n",
      "\n"
     ]
    },
    {
     "name": "stdout",
     "output_type": "stream",
     "text": [
      "Epoch 120, Loss 0.0275\n",
      "Training Accuracy: 0.9675, Testing Accuracy: 0.9703\n",
      "\n"
     ]
    },
    {
     "name": "stdout",
     "output_type": "stream",
     "text": [
      "Epoch 130, Loss 0.0267\n",
      "Training Accuracy: 0.9681, Testing Accuracy: 0.9713\n",
      "\n"
     ]
    },
    {
     "name": "stdout",
     "output_type": "stream",
     "text": [
      "Epoch 140, Loss 0.0259\n",
      "Training Accuracy: 0.9696, Testing Accuracy: 0.9713\n",
      "\n"
     ]
    },
    {
     "name": "stdout",
     "output_type": "stream",
     "text": [
      "Epoch 150, Loss 0.0253\n",
      "Training Accuracy: 0.9700, Testing Accuracy: 0.9708\n",
      "\n"
     ]
    },
    {
     "name": "stdout",
     "output_type": "stream",
     "text": [
      "Epoch 160, Loss 0.0247\n",
      "Training Accuracy: 0.9709, Testing Accuracy: 0.9718\n",
      "\n"
     ]
    },
    {
     "name": "stdout",
     "output_type": "stream",
     "text": [
      "Epoch 170, Loss 0.0241\n",
      "Training Accuracy: 0.9715, Testing Accuracy: 0.9713\n",
      "\n"
     ]
    },
    {
     "name": "stdout",
     "output_type": "stream",
     "text": [
      "Epoch 180, Loss 0.0236\n",
      "Training Accuracy: 0.9725, Testing Accuracy: 0.9708\n",
      "\n"
     ]
    },
    {
     "name": "stdout",
     "output_type": "stream",
     "text": [
      "Epoch 190, Loss 0.0231\n",
      "Training Accuracy: 0.9728, Testing Accuracy: 0.9713\n",
      "\n"
     ]
    },
    {
     "name": "stdout",
     "output_type": "stream",
     "text": [
      "Epoch 200, Loss 0.0226\n",
      "Training Accuracy: 0.9735, Testing Accuracy: 0.9718\n",
      "\n"
     ]
    },
    {
     "name": "stdout",
     "output_type": "stream",
     "text": [
      "Epoch 210, Loss 0.0222\n",
      "Training Accuracy: 0.9742, Testing Accuracy: 0.9723\n",
      "\n"
     ]
    },
    {
     "name": "stdout",
     "output_type": "stream",
     "text": [
      "Epoch 220, Loss 0.0218\n",
      "Training Accuracy: 0.9751, Testing Accuracy: 0.9728\n",
      "\n"
     ]
    },
    {
     "name": "stdout",
     "output_type": "stream",
     "text": [
      "Epoch 230, Loss 0.0214\n",
      "Training Accuracy: 0.9754, Testing Accuracy: 0.9728\n",
      "\n"
     ]
    },
    {
     "name": "stdout",
     "output_type": "stream",
     "text": [
      "Epoch 240, Loss 0.021\n",
      "Training Accuracy: 0.9757, Testing Accuracy: 0.9738\n",
      "\n"
     ]
    },
    {
     "data": {
      "text/plain": [
       "0.00782348184528909"
      ]
     },
     "execution_count": 22,
     "metadata": {},
     "output_type": "execute_result"
    }
   ],
   "source": [
    "nn_learner.train_loop(dl)"
   ]
  },
  {
   "cell_type": "code",
   "execution_count": 23,
   "id": "e0163366",
   "metadata": {
    "execution": {
     "iopub.execute_input": "2022-04-17T00:36:25.739586Z",
     "iopub.status.busy": "2022-04-17T00:36:25.739122Z",
     "iopub.status.idle": "2022-04-17T00:36:38.632318Z",
     "shell.execute_reply": "2022-04-17T00:36:38.632991Z"
    },
    "papermill": {
     "duration": 12.932659,
     "end_time": "2022-04-17T00:36:38.633135",
     "exception": false,
     "start_time": "2022-04-17T00:36:25.700476",
     "status": "completed"
    },
    "tags": []
   },
   "outputs": [
    {
     "name": "stdout",
     "output_type": "stream",
     "text": [
      "Epoch 0, Loss 0.2497\n",
      "Training Accuracy: 0.6498, Testing Accuracy: 0.6447\n",
      "\n"
     ]
    },
    {
     "name": "stdout",
     "output_type": "stream",
     "text": [
      "Epoch 10, Loss 0.1045\n",
      "Training Accuracy: 0.9064, Testing Accuracy: 0.9123\n",
      "\n"
     ]
    },
    {
     "name": "stdout",
     "output_type": "stream",
     "text": [
      "Epoch 20, Loss 0.0806\n",
      "Training Accuracy: 0.9259, Testing Accuracy: 0.9345\n",
      "\n"
     ]
    },
    {
     "name": "stdout",
     "output_type": "stream",
     "text": [
      "Epoch 30, Loss 0.0694\n",
      "Training Accuracy: 0.9346, Testing Accuracy: 0.9441\n",
      "\n"
     ]
    },
    {
     "name": "stdout",
     "output_type": "stream",
     "text": [
      "Epoch 40, Loss 0.0626\n",
      "Training Accuracy: 0.9388, Testing Accuracy: 0.9491\n",
      "\n"
     ]
    },
    {
     "name": "stdout",
     "output_type": "stream",
     "text": [
      "Epoch 50, Loss 0.058\n",
      "Training Accuracy: 0.9416, Testing Accuracy: 0.9521\n",
      "\n"
     ]
    },
    {
     "name": "stdout",
     "output_type": "stream",
     "text": [
      "Epoch 60, Loss 0.0546\n",
      "Training Accuracy: 0.9443, Testing Accuracy: 0.9561\n",
      "\n"
     ]
    },
    {
     "name": "stdout",
     "output_type": "stream",
     "text": [
      "Epoch 70, Loss 0.0519\n",
      "Training Accuracy: 0.9470, Testing Accuracy: 0.9572\n",
      "\n"
     ]
    },
    {
     "name": "stdout",
     "output_type": "stream",
     "text": [
      "Epoch 80, Loss 0.0498\n",
      "Training Accuracy: 0.9490, Testing Accuracy: 0.9582\n",
      "\n"
     ]
    },
    {
     "name": "stdout",
     "output_type": "stream",
     "text": [
      "Epoch 90, Loss 0.0481\n",
      "Training Accuracy: 0.9518, Testing Accuracy: 0.9592\n",
      "\n"
     ]
    },
    {
     "name": "stdout",
     "output_type": "stream",
     "text": [
      "Epoch 100, Loss 0.0467\n",
      "Training Accuracy: 0.9527, Testing Accuracy: 0.9607\n",
      "\n"
     ]
    },
    {
     "name": "stdout",
     "output_type": "stream",
     "text": [
      "Epoch 110, Loss 0.0454\n",
      "Training Accuracy: 0.9543, Testing Accuracy: 0.9617\n",
      "\n"
     ]
    },
    {
     "name": "stdout",
     "output_type": "stream",
     "text": [
      "Epoch 120, Loss 0.0443\n",
      "Training Accuracy: 0.9549, Testing Accuracy: 0.9622\n",
      "\n"
     ]
    },
    {
     "name": "stdout",
     "output_type": "stream",
     "text": [
      "Epoch 130, Loss 0.0434\n",
      "Training Accuracy: 0.9554, Testing Accuracy: 0.9632\n",
      "\n"
     ]
    },
    {
     "name": "stdout",
     "output_type": "stream",
     "text": [
      "Epoch 140, Loss 0.0425\n",
      "Training Accuracy: 0.9559, Testing Accuracy: 0.9642\n",
      "\n"
     ]
    },
    {
     "name": "stdout",
     "output_type": "stream",
     "text": [
      "Epoch 150, Loss 0.0418\n",
      "Training Accuracy: 0.9569, Testing Accuracy: 0.9662\n",
      "\n"
     ]
    },
    {
     "name": "stdout",
     "output_type": "stream",
     "text": [
      "Epoch 160, Loss 0.0411\n",
      "Training Accuracy: 0.9572, Testing Accuracy: 0.9667\n",
      "\n"
     ]
    },
    {
     "name": "stdout",
     "output_type": "stream",
     "text": [
      "Epoch 170, Loss 0.0404\n",
      "Training Accuracy: 0.9577, Testing Accuracy: 0.9667\n",
      "\n"
     ]
    },
    {
     "name": "stdout",
     "output_type": "stream",
     "text": [
      "Epoch 180, Loss 0.0399\n",
      "Training Accuracy: 0.9580, Testing Accuracy: 0.9662\n",
      "\n"
     ]
    },
    {
     "name": "stdout",
     "output_type": "stream",
     "text": [
      "Epoch 190, Loss 0.0393\n",
      "Training Accuracy: 0.9585, Testing Accuracy: 0.9662\n",
      "\n"
     ]
    },
    {
     "name": "stdout",
     "output_type": "stream",
     "text": [
      "Epoch 200, Loss 0.0388\n",
      "Training Accuracy: 0.9588, Testing Accuracy: 0.9667\n",
      "\n"
     ]
    },
    {
     "name": "stdout",
     "output_type": "stream",
     "text": [
      "Epoch 210, Loss 0.0384\n",
      "Training Accuracy: 0.9595, Testing Accuracy: 0.9667\n",
      "\n"
     ]
    },
    {
     "name": "stdout",
     "output_type": "stream",
     "text": [
      "Epoch 220, Loss 0.038\n",
      "Training Accuracy: 0.9599, Testing Accuracy: 0.9667\n",
      "\n"
     ]
    },
    {
     "name": "stdout",
     "output_type": "stream",
     "text": [
      "Epoch 230, Loss 0.0376\n",
      "Training Accuracy: 0.9604, Testing Accuracy: 0.9667\n",
      "\n"
     ]
    },
    {
     "name": "stdout",
     "output_type": "stream",
     "text": [
      "Epoch 240, Loss 0.0372\n",
      "Training Accuracy: 0.9608, Testing Accuracy: 0.9667\n",
      "\n"
     ]
    },
    {
     "data": {
      "text/plain": [
       "0.014696189727512752"
      ]
     },
     "execution_count": 23,
     "metadata": {},
     "output_type": "execute_result"
    }
   ],
   "source": [
    "lr_learner.train_loop(dl)"
   ]
  },
  {
   "cell_type": "code",
   "execution_count": 24,
   "id": "ca410940",
   "metadata": {
    "execution": {
     "iopub.execute_input": "2022-04-17T00:36:38.719285Z",
     "iopub.status.busy": "2022-04-17T00:36:38.718824Z",
     "iopub.status.idle": "2022-04-17T00:36:38.904949Z",
     "shell.execute_reply": "2022-04-17T00:36:38.904482Z"
    },
    "papermill": {
     "duration": 0.235451,
     "end_time": "2022-04-17T00:36:38.905069",
     "exception": false,
     "start_time": "2022-04-17T00:36:38.669618",
     "status": "completed"
    },
    "tags": []
   },
   "outputs": [
    {
     "data": {
      "text/plain": [
       "<matplotlib.legend.Legend at 0x7f6d26360ac8>"
      ]
     },
     "execution_count": 24,
     "metadata": {},
     "output_type": "execute_result"
    },
    {
     "data": {
      "image/png": "[encoded data removed]",
      "text/plain": [
       "<Figure size 1080x720 with 1 Axes>"
      ]
     },
     "metadata": {
      "needs_background": "light"
     },
     "output_type": "display_data"
    }
   ],
   "source": [
    "#comparing the results of NN and LR\n",
    "plt.figure(figsize=(15,10))\n",
    "\n",
    "# Neural Network plots\n",
    "plt.plot(acc_nn.accuracies, 'r-', label = \"Training Accuracies - NN\")\n",
    "plt.plot(acc_nn.test_accuracies, 'g-', label = \"Testing Accuracies - NN\")\n",
    "\n",
    "# Logistic Regression plots\n",
    "plt.plot(acc_lr.accuracies, 'k-', label = \"Training Accuracies - LR\")\n",
    "plt.plot(acc_lr.test_accuracies, 'b-', label = \"Testing Accuracies - LR\")\n",
    "plt.legend()"
   ]
  },
  {
   "cell_type": "markdown",
   "id": "80dfb35c",
   "metadata": {
    "papermill": {
     "duration": 0.036686,
     "end_time": "2022-04-17T00:36:38.979469",
     "exception": false,
     "start_time": "2022-04-17T00:36:38.942783",
     "status": "completed"
    },
    "tags": []
   },
   "source": [
    "#### Plotting the outputs of this layer of the NN.\n"
   ]
  },
  {
   "cell_type": "code",
   "execution_count": 25,
   "id": "45eb2ff5",
   "metadata": {
    "execution": {
     "iopub.execute_input": "2022-04-17T00:36:39.058934Z",
     "iopub.status.busy": "2022-04-17T00:36:39.058460Z",
     "iopub.status.idle": "2022-04-17T00:36:39.076374Z",
     "shell.execute_reply": "2022-04-17T00:36:39.076715Z"
    },
    "papermill": {
     "duration": 0.060177,
     "end_time": "2022-04-17T00:36:39.076833",
     "exception": false,
     "start_time": "2022-04-17T00:36:39.016656",
     "status": "completed"
    },
    "tags": []
   },
   "outputs": [],
   "source": [
    "new_model = Model(layers[:-2])\n",
    "testing_plot = new_model(testing_data_x)"
   ]
  },
  {
   "cell_type": "code",
   "execution_count": 26,
   "id": "4c0a5485",
   "metadata": {
    "execution": {
     "iopub.execute_input": "2022-04-17T00:36:39.160067Z",
     "iopub.status.busy": "2022-04-17T00:36:39.159603Z",
     "iopub.status.idle": "2022-04-17T00:36:39.331107Z",
     "shell.execute_reply": "2022-04-17T00:36:39.330709Z"
    },
    "papermill": {
     "duration": 0.217254,
     "end_time": "2022-04-17T00:36:39.331211",
     "exception": false,
     "start_time": "2022-04-17T00:36:39.113957",
     "status": "completed"
    },
    "tags": []
   },
   "outputs": [
    {
     "data": {
      "text/plain": [
       "Text(0.5, 1.0, 'Outputs')"
      ]
     },
     "execution_count": 26,
     "metadata": {},
     "output_type": "execute_result"
    },
    {
     "data": {
      "image/png": "[encoded data removed]",
      "text/plain": [
       "<Figure size 576x504 with 1 Axes>"
      ]
     },
     "metadata": {
      "needs_background": "light"
     },
     "output_type": "display_data"
    }
   ],
   "source": [
    "# Plotting the scatter plot of points and color coding by class\n",
    "plt.figure(figsize=(8,7))\n",
    "plt.scatter(testing_plot[:,0], testing_plot[:,1], alpha = 0.1, c = y_test.ravel());\n",
    "plt.title('Outputs')"
   ]
  },
  {
   "cell_type": "markdown",
   "id": "a74fcf8f",
   "metadata": {
    "papermill": {
     "duration": 0.038227,
     "end_time": "2022-04-17T00:36:39.407905",
     "exception": false,
     "start_time": "2022-04-17T00:36:39.369678",
     "status": "completed"
    },
    "tags": []
   },
   "source": [
    "Probability contours"
   ]
  },
  {
   "cell_type": "code",
   "execution_count": 27,
   "id": "d0afc8e3",
   "metadata": {
    "execution": {
     "iopub.execute_input": "2022-04-17T00:36:39.495309Z",
     "iopub.status.busy": "2022-04-17T00:36:39.494828Z",
     "iopub.status.idle": "2022-04-17T00:36:39.502098Z",
     "shell.execute_reply": "2022-04-17T00:36:39.502473Z"
    },
    "papermill": {
     "duration": 0.056744,
     "end_time": "2022-04-17T00:36:39.502596",
     "exception": false,
     "start_time": "2022-04-17T00:36:39.445852",
     "status": "completed"
    },
    "tags": []
   },
   "outputs": [],
   "source": [
    "model_prob = Model(layers[-2:]) "
   ]
  },
  {
   "cell_type": "code",
   "execution_count": 28,
   "id": "9b96e238",
   "metadata": {
    "execution": {
     "iopub.execute_input": "2022-04-17T00:36:39.613757Z",
     "iopub.status.busy": "2022-04-17T00:36:39.613291Z",
     "iopub.status.idle": "2022-04-17T00:36:39.626085Z",
     "shell.execute_reply": "2022-04-17T00:36:39.626463Z"
    },
    "papermill": {
     "duration": 0.055802,
     "end_time": "2022-04-17T00:36:39.626579",
     "exception": false,
     "start_time": "2022-04-17T00:36:39.570777",
     "status": "completed"
    },
    "tags": []
   },
   "outputs": [],
   "source": [
    "#creating the x and y ranges according to the above generated plot.\n",
    "x_range = np.linspace(-4, 1, 100) \n",
    "y_range = np.linspace(-6, 6, 100) \n",
    "x_grid, y_grid = np.meshgrid(x_range, y_range) # x_grid and y_grig are of size 100 X 100\n",
    "\n",
    "# converting x_grid and y_grid to continuous arrays\n",
    "x_gridflat = np.ravel(x_grid)\n",
    "y_gridflat = np.ravel(y_grid)\n",
    "\n",
    "# The last layer of the current model takes two columns as input. Hence transpose of np.vstack() is required.\n",
    "X = np.vstack((x_gridflat, y_gridflat)).T\n",
    "\n",
    "prob_contour = model_prob(X).reshape(100,100) "
   ]
  },
  {
   "cell_type": "code",
   "execution_count": 29,
   "id": "da72499a",
   "metadata": {
    "execution": {
     "iopub.execute_input": "2022-04-17T00:36:39.715191Z",
     "iopub.status.busy": "2022-04-17T00:36:39.714718Z",
     "iopub.status.idle": "2022-04-17T00:36:39.926265Z",
     "shell.execute_reply": "2022-04-17T00:36:39.926633Z"
    },
    "papermill": {
     "duration": 0.261697,
     "end_time": "2022-04-17T00:36:39.926767",
     "exception": false,
     "start_time": "2022-04-17T00:36:39.665070",
     "status": "completed"
    },
    "tags": []
   },
   "outputs": [
    {
     "data": {
      "image/png": "[encoded data removed]",
      "text/plain": [
       "<Figure size 720x648 with 1 Axes>"
      ]
     },
     "metadata": {
      "needs_background": "light"
     },
     "output_type": "display_data"
    }
   ],
   "source": [
    "plt.figure(figsize=(10,9))\n",
    "plt.scatter(testing_plot[:,0], testing_plot[:,1], alpha = 0.1, c = y_test.ravel())\n",
    "contours = plt.contour(x_grid,y_grid,prob_contour)\n",
    "plt.title('Probability Contours')\n",
    "plt.clabel(contours, inline = True );"
   ]
  },
  {
   "cell_type": "code",
   "execution_count": null,
   "id": "e81b4ac7",
   "metadata": {
    "papermill": {
     "duration": 0.040011,
     "end_time": "2022-04-17T00:36:40.007053",
     "exception": false,
     "start_time": "2022-04-17T00:36:39.967042",
     "status": "completed"
    },
    "tags": []
   },
   "outputs": [],
   "source": []
  }
 ],
 "metadata": {
  "kernelspec": {
   "display_name": "Python 3",
   "language": "python",
   "name": "python3"
  },
  "language_info": {
   "codemirror_mode": {
    "name": "ipython",
    "version": 3
   },
   "file_extension": ".py",
   "mimetype": "text/x-python",
   "name": "python",
   "nbconvert_exporter": "python",
   "pygments_lexer": "ipython3",
   "version": "3.6.15"
  },
  "papermill": {
   "default_parameters": {},
   "duration": 93.098589,
   "end_time": "2022-04-17T00:36:40.365410",
   "environment_variables": {},
   "exception": null,
   "input_path": "2020-08-11-part2.ipynb",
   "output_path": "2020-08-11-part2.ipynb",
   "parameters": {},
   "start_time": "2022-04-17T00:35:07.266821",
   "version": "2.3.3"
  }
 },
 "nbformat": 4,
 "nbformat_minor": 5
}