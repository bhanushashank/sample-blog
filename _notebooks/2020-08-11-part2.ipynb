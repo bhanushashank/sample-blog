{
 "cells": [
  {
   "cell_type": "markdown",
   "id": "98380cd3",
   "metadata": {
    "papermill": {
     "duration": 0.028615,
     "end_time": "2022-01-09T00:26:19.571615",
     "exception": false,
     "start_time": "2022-01-09T00:26:19.543000",
     "status": "completed"
    },
    "tags": []
   },
   "source": [
    "# Distinguish Your Own Digits (DYOD)"
   ]
  },
  {
   "cell_type": "markdown",
   "id": "ef31240d",
   "metadata": {
    "papermill": {
     "duration": 0.023787,
     "end_time": "2022-01-09T00:26:19.619958",
     "exception": false,
     "start_time": "2022-01-09T00:26:19.596171",
     "status": "completed"
    },
    "tags": []
   },
   "source": [
    "You are going to write a classifier that distinguishes between the number 3 and number 8."
   ]
  },
  {
   "cell_type": "code",
   "execution_count": 1,
   "id": "b15c8646",
   "metadata": {
    "execution": {
     "iopub.execute_input": "2022-01-09T00:26:19.679011Z",
     "iopub.status.busy": "2022-01-09T00:26:19.678473Z",
     "iopub.status.idle": "2022-01-09T00:26:19.688488Z",
     "shell.execute_reply": "2022-01-09T00:26:19.688869Z"
    },
    "papermill": {
     "duration": 0.045348,
     "end_time": "2022-01-09T00:26:19.689023",
     "exception": false,
     "start_time": "2022-01-09T00:26:19.643675",
     "status": "completed"
    },
    "tags": []
   },
   "outputs": [],
   "source": [
    "%load_ext autoreload\n",
    "%autoreload 2"
   ]
  },
  {
   "cell_type": "code",
   "execution_count": 2,
   "id": "22ef38dc",
   "metadata": {
    "execution": {
     "iopub.execute_input": "2022-01-09T00:26:19.741063Z",
     "iopub.status.busy": "2022-01-09T00:26:19.740537Z",
     "iopub.status.idle": "2022-01-09T00:26:20.322755Z",
     "shell.execute_reply": "2022-01-09T00:26:20.322210Z"
    },
    "papermill": {
     "duration": 0.609767,
     "end_time": "2022-01-09T00:26:20.322909",
     "exception": false,
     "start_time": "2022-01-09T00:26:19.713142",
     "status": "completed"
    },
    "tags": []
   },
   "outputs": [],
   "source": [
    "%matplotlib inline\n",
    "import numpy as np\n",
    "import matplotlib.pyplot as plt\n",
    "import pandas as pd"
   ]
  },
  {
   "cell_type": "markdown",
   "id": "ba036198",
   "metadata": {
    "papermill": {
     "duration": 0.024101,
     "end_time": "2022-01-09T00:26:20.371653",
     "exception": false,
     "start_time": "2022-01-09T00:26:20.347552",
     "status": "completed"
    },
    "tags": []
   },
   "source": [
    "From the command line run `pip install mnist`. This is a library that will help you bring down the mnist dataset. If you run this from a notebook, you need to put  `!pip install mnist` in a cell by itself."
   ]
  },
  {
   "cell_type": "code",
   "execution_count": 3,
   "id": "bb6ad8a1",
   "metadata": {
    "execution": {
     "iopub.execute_input": "2022-01-09T00:26:20.436619Z",
     "iopub.status.busy": "2022-01-09T00:26:20.432704Z",
     "iopub.status.idle": "2022-01-09T00:26:22.953615Z",
     "shell.execute_reply": "2022-01-09T00:26:22.952684Z"
    },
    "papermill": {
     "duration": 2.55806,
     "end_time": "2022-01-09T00:26:22.953756",
     "exception": false,
     "start_time": "2022-01-09T00:26:20.395696",
     "status": "completed"
    },
    "tags": []
   },
   "outputs": [
    {
     "name": "stdout",
     "output_type": "stream",
     "text": [
      "Collecting mnist\r\n"
     ]
    },
    {
     "name": "stdout",
     "output_type": "stream",
     "text": [
      "  Downloading mnist-0.2.2-py2.py3-none-any.whl (3.5 kB)\r\n",
      "Requirement already satisfied: numpy in /opt/hostedtoolcache/Python/3.6.15/x64/lib/python3.6/site-packages (from mnist) (1.19.5)\r\n"
     ]
    },
    {
     "name": "stdout",
     "output_type": "stream",
     "text": [
      "Installing collected packages: mnist\r\n"
     ]
    },
    {
     "name": "stdout",
     "output_type": "stream",
     "text": [
      "Successfully installed mnist-0.2.2\r\n"
     ]
    }
   ],
   "source": [
    "!pip install mnist"
   ]
  },
  {
   "cell_type": "markdown",
   "id": "69df9c9a",
   "metadata": {
    "papermill": {
     "duration": 0.024988,
     "end_time": "2022-01-09T00:26:23.004223",
     "exception": false,
     "start_time": "2022-01-09T00:26:22.979235",
     "status": "completed"
    },
    "tags": []
   },
   "source": [
    "## Preparing the Data"
   ]
  },
  {
   "cell_type": "code",
   "execution_count": 4,
   "id": "7f69d806",
   "metadata": {
    "execution": {
     "iopub.execute_input": "2022-01-09T00:26:23.068818Z",
     "iopub.status.busy": "2022-01-09T00:26:23.066120Z",
     "iopub.status.idle": "2022-01-09T00:26:23.074999Z",
     "shell.execute_reply": "2022-01-09T00:26:23.074589Z"
    },
    "papermill": {
     "duration": 0.046005,
     "end_time": "2022-01-09T00:26:23.075120",
     "exception": false,
     "start_time": "2022-01-09T00:26:23.029115",
     "status": "completed"
    },
    "tags": []
   },
   "outputs": [],
   "source": [
    "import mnist"
   ]
  },
  {
   "cell_type": "code",
   "execution_count": 5,
   "id": "a411e44f",
   "metadata": {
    "execution": {
     "iopub.execute_input": "2022-01-09T00:26:23.136525Z",
     "iopub.status.busy": "2022-01-09T00:26:23.134567Z",
     "iopub.status.idle": "2022-01-09T00:26:23.883535Z",
     "shell.execute_reply": "2022-01-09T00:26:23.883003Z"
    },
    "papermill": {
     "duration": 0.783564,
     "end_time": "2022-01-09T00:26:23.883687",
     "exception": false,
     "start_time": "2022-01-09T00:26:23.100123",
     "status": "completed"
    },
    "tags": []
   },
   "outputs": [],
   "source": [
    "train_images = mnist.train_images()\n",
    "train_labels = mnist.train_labels()"
   ]
  },
  {
   "cell_type": "code",
   "execution_count": 6,
   "id": "dceab3a5",
   "metadata": {
    "execution": {
     "iopub.execute_input": "2022-01-09T00:26:23.940260Z",
     "iopub.status.busy": "2022-01-09T00:26:23.939692Z",
     "iopub.status.idle": "2022-01-09T00:26:23.953278Z",
     "shell.execute_reply": "2022-01-09T00:26:23.953689Z"
    },
    "papermill": {
     "duration": 0.0434,
     "end_time": "2022-01-09T00:26:23.953825",
     "exception": false,
     "start_time": "2022-01-09T00:26:23.910425",
     "status": "completed"
    },
    "tags": []
   },
   "outputs": [
    {
     "data": {
      "text/plain": [
       "((60000, 28, 28), (60000,))"
      ]
     },
     "execution_count": 6,
     "metadata": {},
     "output_type": "execute_result"
    }
   ],
   "source": [
    "train_images.shape, train_labels.shape"
   ]
  },
  {
   "cell_type": "code",
   "execution_count": 7,
   "id": "f50dc2bb",
   "metadata": {
    "execution": {
     "iopub.execute_input": "2022-01-09T00:26:24.008550Z",
     "iopub.status.busy": "2022-01-09T00:26:24.008023Z",
     "iopub.status.idle": "2022-01-09T00:26:24.258486Z",
     "shell.execute_reply": "2022-01-09T00:26:24.257871Z"
    },
    "papermill": {
     "duration": 0.279825,
     "end_time": "2022-01-09T00:26:24.258632",
     "exception": false,
     "start_time": "2022-01-09T00:26:23.978807",
     "status": "completed"
    },
    "tags": []
   },
   "outputs": [],
   "source": [
    "test_images = mnist.test_images()\n",
    "test_labels = mnist.test_labels()"
   ]
  },
  {
   "cell_type": "code",
   "execution_count": 8,
   "id": "fc38cf1b",
   "metadata": {
    "execution": {
     "iopub.execute_input": "2022-01-09T00:26:24.315241Z",
     "iopub.status.busy": "2022-01-09T00:26:24.314589Z",
     "iopub.status.idle": "2022-01-09T00:26:24.326620Z",
     "shell.execute_reply": "2022-01-09T00:26:24.326209Z"
    },
    "papermill": {
     "duration": 0.042607,
     "end_time": "2022-01-09T00:26:24.326738",
     "exception": false,
     "start_time": "2022-01-09T00:26:24.284131",
     "status": "completed"
    },
    "tags": []
   },
   "outputs": [
    {
     "data": {
      "text/plain": [
       "((10000, 28, 28), (10000,))"
      ]
     },
     "execution_count": 8,
     "metadata": {},
     "output_type": "execute_result"
    }
   ],
   "source": [
    "test_images.shape, test_labels.shape"
   ]
  },
  {
   "cell_type": "code",
   "execution_count": 9,
   "id": "f9ed8fe0",
   "metadata": {
    "execution": {
     "iopub.execute_input": "2022-01-09T00:26:24.393271Z",
     "iopub.status.busy": "2022-01-09T00:26:24.392761Z",
     "iopub.status.idle": "2022-01-09T00:26:24.527002Z",
     "shell.execute_reply": "2022-01-09T00:26:24.526537Z"
    },
    "papermill": {
     "duration": 0.174884,
     "end_time": "2022-01-09T00:26:24.527131",
     "exception": false,
     "start_time": "2022-01-09T00:26:24.352247",
     "status": "completed"
    },
    "tags": []
   },
   "outputs": [
    {
     "name": "stdout",
     "output_type": "stream",
     "text": [
      "2\n"
     ]
    },
    {
     "data": {
      "text/plain": [
       "<matplotlib.image.AxesImage at 0x7f4f56d3d390>"
      ]
     },
     "execution_count": 9,
     "metadata": {},
     "output_type": "execute_result"
    },
    {
     "data": {
      "image/png": "[encoded data removed]",
      "text/plain": [
       "<Figure size 432x288 with 1 Axes>"
      ]
     },
     "metadata": {
      "needs_background": "light"
     },
     "output_type": "display_data"
    }
   ],
   "source": [
    "image_index = 7776 # You may select anything up to 60,000\n",
    "print(train_labels[image_index]) \n",
    "plt.imshow(train_images[image_index], cmap='Greys')"
   ]
  },
  {
   "cell_type": "markdown",
   "id": "a8d2388d",
   "metadata": {
    "papermill": {
     "duration": 0.026524,
     "end_time": "2022-01-09T00:26:24.580317",
     "exception": false,
     "start_time": "2022-01-09T00:26:24.553793",
     "status": "completed"
    },
    "tags": []
   },
   "source": [
    "## Filter data to get 3 and 8 out"
   ]
  },
  {
   "cell_type": "code",
   "execution_count": 10,
   "id": "776f7fc7",
   "metadata": {
    "execution": {
     "iopub.execute_input": "2022-01-09T00:26:24.652566Z",
     "iopub.status.busy": "2022-01-09T00:26:24.648665Z",
     "iopub.status.idle": "2022-01-09T00:26:24.659825Z",
     "shell.execute_reply": "2022-01-09T00:26:24.659394Z"
    },
    "papermill": {
     "duration": 0.053391,
     "end_time": "2022-01-09T00:26:24.659950",
     "exception": false,
     "start_time": "2022-01-09T00:26:24.606559",
     "status": "completed"
    },
    "tags": []
   },
   "outputs": [],
   "source": [
    "train_filter = np.where((train_labels == 3 ) | (train_labels == 8))\n",
    "test_filter = np.where((test_labels == 3) | (test_labels == 8))\n",
    "X_train, y_train = train_images[train_filter], train_labels[train_filter]\n",
    "X_test, y_test = test_images[test_filter], test_labels[test_filter]"
   ]
  },
  {
   "cell_type": "markdown",
   "id": "948f0b7e",
   "metadata": {
    "papermill": {
     "duration": 0.026353,
     "end_time": "2022-01-09T00:26:24.712723",
     "exception": false,
     "start_time": "2022-01-09T00:26:24.686370",
     "status": "completed"
    },
    "tags": []
   },
   "source": [
    "We normalize the pizel values in the 0 to 1 range"
   ]
  },
  {
   "cell_type": "code",
   "execution_count": 11,
   "id": "ee4c2166",
   "metadata": {
    "execution": {
     "iopub.execute_input": "2022-01-09T00:26:24.770112Z",
     "iopub.status.busy": "2022-01-09T00:26:24.769591Z",
     "iopub.status.idle": "2022-01-09T00:26:24.817773Z",
     "shell.execute_reply": "2022-01-09T00:26:24.817231Z"
    },
    "papermill": {
     "duration": 0.078973,
     "end_time": "2022-01-09T00:26:24.817921",
     "exception": false,
     "start_time": "2022-01-09T00:26:24.738948",
     "status": "completed"
    },
    "tags": []
   },
   "outputs": [],
   "source": [
    "X_train = X_train/255.\n",
    "X_test = X_test/255."
   ]
  },
  {
   "cell_type": "markdown",
   "id": "ddcf4fab",
   "metadata": {
    "papermill": {
     "duration": 0.02643,
     "end_time": "2022-01-09T00:26:24.872076",
     "exception": false,
     "start_time": "2022-01-09T00:26:24.845646",
     "status": "completed"
    },
    "tags": []
   },
   "source": [
    "And setup the labels as 1 (when the digit is 3) and 0 (when the digit is 8)"
   ]
  },
  {
   "cell_type": "code",
   "execution_count": 12,
   "id": "7dc908f2",
   "metadata": {
    "execution": {
     "iopub.execute_input": "2022-01-09T00:26:24.929125Z",
     "iopub.status.busy": "2022-01-09T00:26:24.928593Z",
     "iopub.status.idle": "2022-01-09T00:26:24.940137Z",
     "shell.execute_reply": "2022-01-09T00:26:24.939694Z"
    },
    "papermill": {
     "duration": 0.04209,
     "end_time": "2022-01-09T00:26:24.940258",
     "exception": false,
     "start_time": "2022-01-09T00:26:24.898168",
     "status": "completed"
    },
    "tags": []
   },
   "outputs": [],
   "source": [
    "y_train = 1*(y_train==3)\n",
    "y_test = 1*(y_test==3)"
   ]
  },
  {
   "cell_type": "code",
   "execution_count": 13,
   "id": "01e4e969",
   "metadata": {
    "execution": {
     "iopub.execute_input": "2022-01-09T00:26:25.000017Z",
     "iopub.status.busy": "2022-01-09T00:26:24.999473Z",
     "iopub.status.idle": "2022-01-09T00:26:25.010488Z",
     "shell.execute_reply": "2022-01-09T00:26:25.010875Z"
    },
    "papermill": {
     "duration": 0.044378,
     "end_time": "2022-01-09T00:26:25.011007",
     "exception": false,
     "start_time": "2022-01-09T00:26:24.966629",
     "status": "completed"
    },
    "tags": []
   },
   "outputs": [
    {
     "data": {
      "text/plain": [
       "((11982, 28, 28), (1984, 28, 28))"
      ]
     },
     "execution_count": 13,
     "metadata": {},
     "output_type": "execute_result"
    }
   ],
   "source": [
    "X_train.shape, X_test.shape"
   ]
  },
  {
   "cell_type": "markdown",
   "id": "5ccf3f85",
   "metadata": {
    "papermill": {
     "duration": 0.02655,
     "end_time": "2022-01-09T00:26:25.064017",
     "exception": false,
     "start_time": "2022-01-09T00:26:25.037467",
     "status": "completed"
    },
    "tags": []
   },
   "source": [
    "We reshape the data to flatten the image pixels into a set of features or co-variates:"
   ]
  },
  {
   "cell_type": "code",
   "execution_count": 14,
   "id": "5286a4a3",
   "metadata": {
    "execution": {
     "iopub.execute_input": "2022-01-09T00:26:25.133902Z",
     "iopub.status.busy": "2022-01-09T00:26:25.124582Z",
     "iopub.status.idle": "2022-01-09T00:26:25.137082Z",
     "shell.execute_reply": "2022-01-09T00:26:25.136643Z"
    },
    "papermill": {
     "duration": 0.046538,
     "end_time": "2022-01-09T00:26:25.137197",
     "exception": false,
     "start_time": "2022-01-09T00:26:25.090659",
     "status": "completed"
    },
    "tags": []
   },
   "outputs": [
    {
     "data": {
      "text/plain": [
       "((11982, 784), (1984, 784))"
      ]
     },
     "execution_count": 14,
     "metadata": {},
     "output_type": "execute_result"
    }
   ],
   "source": [
    "X_train = X_train.reshape(X_train.shape[0], -1)\n",
    "X_test = X_test.reshape(X_test.shape[0], -1)\n",
    "X_train.shape, X_test.shape"
   ]
  },
  {
   "cell_type": "code",
   "execution_count": 15,
   "id": "73c5f88a",
   "metadata": {
    "execution": {
     "iopub.execute_input": "2022-01-09T00:26:25.204636Z",
     "iopub.status.busy": "2022-01-09T00:26:25.202363Z",
     "iopub.status.idle": "2022-01-09T00:26:25.216254Z",
     "shell.execute_reply": "2022-01-09T00:26:25.216670Z"
    },
    "papermill": {
     "duration": 0.052828,
     "end_time": "2022-01-09T00:26:25.216800",
     "exception": false,
     "start_time": "2022-01-09T00:26:25.163972",
     "status": "completed"
    },
    "tags": []
   },
   "outputs": [],
   "source": [
    "#Impoting functions from 'Kudzu'\n",
    "from kudzu.model import Model\n",
    "from kudzu.train import Learner\n",
    "from kudzu.optim import GD\n",
    "from kudzu.data import Data, Sampler,Dataloader\n",
    "\n",
    "from kudzu.callbacks import AccCallback\n",
    "from kudzu.callbacks import ClfCallback\n",
    "\n",
    "from kudzu.loss import MSE\n",
    "\n",
    "from kudzu.layer import Sigmoid,Relu\n",
    "from kudzu.layer import Affine"
   ]
  },
  {
   "cell_type": "markdown",
   "id": "bc01172a",
   "metadata": {
    "papermill": {
     "duration": 0.026864,
     "end_time": "2022-01-09T00:26:25.270586",
     "exception": false,
     "start_time": "2022-01-09T00:26:25.243722",
     "status": "completed"
    },
    "tags": []
   },
   "source": [
    "### Let us create a `Config` class, to store important parameters. \n",
    "This class essentially plays the role of a dictionary."
   ]
  },
  {
   "cell_type": "code",
   "execution_count": 16,
   "id": "978281aa",
   "metadata": {
    "execution": {
     "iopub.execute_input": "2022-01-09T00:26:25.329247Z",
     "iopub.status.busy": "2022-01-09T00:26:25.328713Z",
     "iopub.status.idle": "2022-01-09T00:26:25.339983Z",
     "shell.execute_reply": "2022-01-09T00:26:25.340404Z"
    },
    "papermill": {
     "duration": 0.043235,
     "end_time": "2022-01-09T00:26:25.340531",
     "exception": false,
     "start_time": "2022-01-09T00:26:25.297296",
     "status": "completed"
    },
    "tags": []
   },
   "outputs": [],
   "source": [
    "class Config:\n",
    "    pass\n",
    "config = Config()\n",
    "config.lr = 0.001\n",
    "config.num_epochs = 250\n",
    "config.bs = 50"
   ]
  },
  {
   "cell_type": "markdown",
   "id": "1385fa59",
   "metadata": {
    "papermill": {
     "duration": 0.026707,
     "end_time": "2022-01-09T00:26:25.394135",
     "exception": false,
     "start_time": "2022-01-09T00:26:25.367428",
     "status": "completed"
    },
    "tags": []
   },
   "source": [
    "### Running Models with the Training data\n",
    "Details about the network layers:\n",
    "- A first affine layer has 784 inputs and does 100 affine transforms. These are followed by a Relu\n",
    "- A second affine layer has 100 inputs from the 100 activations of the past layer, and does 100 affine transforms. These are followed by a Relu\n",
    "- A third affine layer has 100 activations and does 2 affine transformations to create an embedding for visualization. There is no non-linearity here.\n",
    "- A final \"logistic regression\" which has an affine transform from 2 inputs to 1 output, which is squeezed through a sigmoid.\n"
   ]
  },
  {
   "cell_type": "code",
   "execution_count": 17,
   "id": "2b9c66db",
   "metadata": {
    "execution": {
     "iopub.execute_input": "2022-01-09T00:26:25.451867Z",
     "iopub.status.busy": "2022-01-09T00:26:25.451322Z",
     "iopub.status.idle": "2022-01-09T00:26:25.463937Z",
     "shell.execute_reply": "2022-01-09T00:26:25.463502Z"
    },
    "papermill": {
     "duration": 0.043133,
     "end_time": "2022-01-09T00:26:25.464054",
     "exception": false,
     "start_time": "2022-01-09T00:26:25.420921",
     "status": "completed"
    },
    "tags": []
   },
   "outputs": [],
   "source": [
    "data = Data(X_train, y_train.reshape(-1,1))\n",
    "sampler = Sampler(data, config.bs, shuffle=True)\n",
    "\n",
    "dl = Dataloader(data, sampler)\n",
    "\n",
    "opt = GD(config.lr)\n",
    "loss = MSE()"
   ]
  },
  {
   "cell_type": "code",
   "execution_count": 18,
   "id": "b275e4c2",
   "metadata": {
    "execution": {
     "iopub.execute_input": "2022-01-09T00:26:25.529113Z",
     "iopub.status.busy": "2022-01-09T00:26:25.528583Z",
     "iopub.status.idle": "2022-01-09T00:26:25.537068Z",
     "shell.execute_reply": "2022-01-09T00:26:25.536632Z"
    },
    "papermill": {
     "duration": 0.046287,
     "end_time": "2022-01-09T00:26:25.537175",
     "exception": false,
     "start_time": "2022-01-09T00:26:25.490888",
     "status": "completed"
    },
    "tags": []
   },
   "outputs": [],
   "source": [
    "training_data_x = X_train\n",
    "testing_data_x = X_test\n",
    "training_data_y = y_train.reshape(-1,1)\n",
    "testing_data_y = y_test.reshape(-1,1)"
   ]
  },
  {
   "cell_type": "code",
   "execution_count": 19,
   "id": "76951160",
   "metadata": {
    "execution": {
     "iopub.execute_input": "2022-01-09T00:26:25.608522Z",
     "iopub.status.busy": "2022-01-09T00:26:25.604621Z",
     "iopub.status.idle": "2022-01-09T00:26:25.615449Z",
     "shell.execute_reply": "2022-01-09T00:26:25.615017Z"
    },
    "papermill": {
     "duration": 0.051775,
     "end_time": "2022-01-09T00:26:25.615559",
     "exception": false,
     "start_time": "2022-01-09T00:26:25.563784",
     "status": "completed"
    },
    "tags": []
   },
   "outputs": [
    {
     "name": "stdout",
     "output_type": "stream",
     "text": [
      "xavier\n",
      "xavier\n",
      "xavier\n",
      "xavier\n",
      "xavier\n"
     ]
    }
   ],
   "source": [
    "layers = [Affine(\"first\", 784, 100), Relu(\"first\"), Affine(\"second\", 100, 100), Relu(\"second\"), Affine(\"third\", 100, 2), Affine(\"last\", 2, 1), Sigmoid(\"last\")]\n",
    "model_nn = Model(layers)\n",
    "model_lr = Model([Affine(\"logits\", 784, 1), Sigmoid(\"sigmoid\")])"
   ]
  },
  {
   "cell_type": "code",
   "execution_count": 20,
   "id": "6eede77a",
   "metadata": {
    "execution": {
     "iopub.execute_input": "2022-01-09T00:26:25.677230Z",
     "iopub.status.busy": "2022-01-09T00:26:25.676635Z",
     "iopub.status.idle": "2022-01-09T00:26:25.687731Z",
     "shell.execute_reply": "2022-01-09T00:26:25.687312Z"
    },
    "papermill": {
     "duration": 0.044217,
     "end_time": "2022-01-09T00:26:25.687875",
     "exception": false,
     "start_time": "2022-01-09T00:26:25.643658",
     "status": "completed"
    },
    "tags": []
   },
   "outputs": [],
   "source": [
    "nn_learner = Learner(loss, model_nn, opt, config.num_epochs)\n",
    "acc_nn = ClfCallback(nn_learner, config.bs, training_data_x , testing_data_x, training_data_y, testing_data_y)\n",
    "nn_learner.set_callbacks([acc_nn])"
   ]
  },
  {
   "cell_type": "code",
   "execution_count": 21,
   "id": "877b6cc7",
   "metadata": {
    "execution": {
     "iopub.execute_input": "2022-01-09T00:26:25.749022Z",
     "iopub.status.busy": "2022-01-09T00:26:25.748507Z",
     "iopub.status.idle": "2022-01-09T00:26:25.758253Z",
     "shell.execute_reply": "2022-01-09T00:26:25.758690Z"
    },
    "papermill": {
     "duration": 0.043895,
     "end_time": "2022-01-09T00:26:25.758814",
     "exception": false,
     "start_time": "2022-01-09T00:26:25.714919",
     "status": "completed"
    },
    "tags": []
   },
   "outputs": [],
   "source": [
    "lr_learner = Learner(loss, model_lr, opt, config.num_epochs)\n",
    "acc_lr = ClfCallback(lr_learner, config.bs, training_data_x , testing_data_x, training_data_y, testing_data_y)\n",
    "lr_learner.set_callbacks([acc_lr])"
   ]
  },
  {
   "cell_type": "code",
   "execution_count": 22,
   "id": "d9b133c3",
   "metadata": {
    "execution": {
     "iopub.execute_input": "2022-01-09T00:26:25.819931Z",
     "iopub.status.busy": "2022-01-09T00:26:25.819389Z",
     "iopub.status.idle": "2022-01-09T00:27:43.696550Z",
     "shell.execute_reply": "2022-01-09T00:27:43.697438Z"
    },
    "papermill": {
     "duration": 77.911539,
     "end_time": "2022-01-09T00:27:43.697598",
     "exception": false,
     "start_time": "2022-01-09T00:26:25.786059",
     "status": "completed"
    },
    "tags": []
   },
   "outputs": [
    {
     "name": "stdout",
     "output_type": "stream",
     "text": [
      "Epoch 0, Loss 0.2146\n",
      "Training Accuracy: 0.7823, Testing Accuracy: 0.8165\n",
      "\n"
     ]
    },
    {
     "name": "stdout",
     "output_type": "stream",
     "text": [
      "Epoch 10, Loss 0.0726\n",
      "Training Accuracy: 0.9297, Testing Accuracy: 0.9430\n",
      "\n"
     ]
    },
    {
     "name": "stdout",
     "output_type": "stream",
     "text": [
      "Epoch 20, Loss 0.0478\n",
      "Training Accuracy: 0.9497, Testing Accuracy: 0.9632\n",
      "\n"
     ]
    },
    {
     "name": "stdout",
     "output_type": "stream",
     "text": [
      "Epoch 30, Loss 0.0386\n",
      "Training Accuracy: 0.9580, Testing Accuracy: 0.9632\n",
      "\n"
     ]
    },
    {
     "name": "stdout",
     "output_type": "stream",
     "text": [
      "Epoch 40, Loss 0.0339\n",
      "Training Accuracy: 0.9624, Testing Accuracy: 0.9688\n",
      "\n"
     ]
    },
    {
     "name": "stdout",
     "output_type": "stream",
     "text": [
      "Epoch 50, Loss 0.0309\n",
      "Training Accuracy: 0.9648, Testing Accuracy: 0.9698\n",
      "\n"
     ]
    },
    {
     "name": "stdout",
     "output_type": "stream",
     "text": [
      "Epoch 60, Loss 0.0287\n",
      "Training Accuracy: 0.9670, Testing Accuracy: 0.9698\n",
      "\n"
     ]
    },
    {
     "name": "stdout",
     "output_type": "stream",
     "text": [
      "Epoch 70, Loss 0.027\n",
      "Training Accuracy: 0.9693, Testing Accuracy: 0.9718\n",
      "\n"
     ]
    },
    {
     "name": "stdout",
     "output_type": "stream",
     "text": [
      "Epoch 80, Loss 0.0257\n",
      "Training Accuracy: 0.9710, Testing Accuracy: 0.9738\n",
      "\n"
     ]
    },
    {
     "name": "stdout",
     "output_type": "stream",
     "text": [
      "Epoch 90, Loss 0.0245\n",
      "Training Accuracy: 0.9724, Testing Accuracy: 0.9733\n",
      "\n"
     ]
    },
    {
     "name": "stdout",
     "output_type": "stream",
     "text": [
      "Epoch 100, Loss 0.0235\n",
      "Training Accuracy: 0.9735, Testing Accuracy: 0.9748\n",
      "\n"
     ]
    },
    {
     "name": "stdout",
     "output_type": "stream",
     "text": [
      "Epoch 110, Loss 0.0226\n",
      "Training Accuracy: 0.9745, Testing Accuracy: 0.9748\n",
      "\n"
     ]
    },
    {
     "name": "stdout",
     "output_type": "stream",
     "text": [
      "Epoch 120, Loss 0.0218\n",
      "Training Accuracy: 0.9755, Testing Accuracy: 0.9753\n",
      "\n"
     ]
    },
    {
     "name": "stdout",
     "output_type": "stream",
     "text": [
      "Epoch 130, Loss 0.0211\n",
      "Training Accuracy: 0.9763, Testing Accuracy: 0.9763\n",
      "\n"
     ]
    },
    {
     "name": "stdout",
     "output_type": "stream",
     "text": [
      "Epoch 140, Loss 0.0205\n",
      "Training Accuracy: 0.9772, Testing Accuracy: 0.9763\n",
      "\n"
     ]
    },
    {
     "name": "stdout",
     "output_type": "stream",
     "text": [
      "Epoch 150, Loss 0.0199\n",
      "Training Accuracy: 0.9775, Testing Accuracy: 0.9768\n",
      "\n"
     ]
    },
    {
     "name": "stdout",
     "output_type": "stream",
     "text": [
      "Epoch 160, Loss 0.0193\n",
      "Training Accuracy: 0.9779, Testing Accuracy: 0.9763\n",
      "\n"
     ]
    },
    {
     "name": "stdout",
     "output_type": "stream",
     "text": [
      "Epoch 170, Loss 0.0188\n",
      "Training Accuracy: 0.9789, Testing Accuracy: 0.9773\n",
      "\n"
     ]
    },
    {
     "name": "stdout",
     "output_type": "stream",
     "text": [
      "Epoch 180, Loss 0.0183\n",
      "Training Accuracy: 0.9800, Testing Accuracy: 0.9783\n",
      "\n"
     ]
    },
    {
     "name": "stdout",
     "output_type": "stream",
     "text": [
      "Epoch 190, Loss 0.0178\n",
      "Training Accuracy: 0.9804, Testing Accuracy: 0.9793\n",
      "\n"
     ]
    },
    {
     "name": "stdout",
     "output_type": "stream",
     "text": [
      "Epoch 200, Loss 0.0174\n",
      "Training Accuracy: 0.9812, Testing Accuracy: 0.9793\n",
      "\n"
     ]
    },
    {
     "name": "stdout",
     "output_type": "stream",
     "text": [
      "Epoch 210, Loss 0.017\n",
      "Training Accuracy: 0.9817, Testing Accuracy: 0.9798\n",
      "\n"
     ]
    },
    {
     "name": "stdout",
     "output_type": "stream",
     "text": [
      "Epoch 220, Loss 0.0166\n",
      "Training Accuracy: 0.9826, Testing Accuracy: 0.9803\n",
      "\n"
     ]
    },
    {
     "name": "stdout",
     "output_type": "stream",
     "text": [
      "Epoch 230, Loss 0.0162\n",
      "Training Accuracy: 0.9826, Testing Accuracy: 0.9808\n",
      "\n"
     ]
    },
    {
     "name": "stdout",
     "output_type": "stream",
     "text": [
      "Epoch 240, Loss 0.0158\n",
      "Training Accuracy: 0.9827, Testing Accuracy: 0.9808\n",
      "\n"
     ]
    },
    {
     "data": {
      "text/plain": [
       "0.0019099307116678568"
      ]
     },
     "execution_count": 22,
     "metadata": {},
     "output_type": "execute_result"
    }
   ],
   "source": [
    "nn_learner.train_loop(dl)"
   ]
  },
  {
   "cell_type": "code",
   "execution_count": 23,
   "id": "e0163366",
   "metadata": {
    "execution": {
     "iopub.execute_input": "2022-01-09T00:27:43.779999Z",
     "iopub.status.busy": "2022-01-09T00:27:43.779440Z",
     "iopub.status.idle": "2022-01-09T00:27:57.570468Z",
     "shell.execute_reply": "2022-01-09T00:27:57.571237Z"
    },
    "papermill": {
     "duration": 13.838484,
     "end_time": "2022-01-09T00:27:57.571390",
     "exception": false,
     "start_time": "2022-01-09T00:27:43.732906",
     "status": "completed"
    },
    "tags": []
   },
   "outputs": [
    {
     "name": "stdout",
     "output_type": "stream",
     "text": [
      "Epoch 0, Loss 0.2321\n",
      "Training Accuracy: 0.7233, Testing Accuracy: 0.7268\n",
      "\n"
     ]
    },
    {
     "name": "stdout",
     "output_type": "stream",
     "text": [
      "Epoch 10, Loss 0.103\n",
      "Training Accuracy: 0.9095, Testing Accuracy: 0.9194\n",
      "\n"
     ]
    },
    {
     "name": "stdout",
     "output_type": "stream",
     "text": [
      "Epoch 20, Loss 0.0793\n",
      "Training Accuracy: 0.9298, Testing Accuracy: 0.9375\n",
      "\n"
     ]
    },
    {
     "name": "stdout",
     "output_type": "stream",
     "text": [
      "Epoch 30, Loss 0.0684\n",
      "Training Accuracy: 0.9367, Testing Accuracy: 0.9441\n",
      "\n"
     ]
    },
    {
     "name": "stdout",
     "output_type": "stream",
     "text": [
      "Epoch 40, Loss 0.0617\n",
      "Training Accuracy: 0.9403, Testing Accuracy: 0.9486\n",
      "\n"
     ]
    },
    {
     "name": "stdout",
     "output_type": "stream",
     "text": [
      "Epoch 50, Loss 0.0572\n",
      "Training Accuracy: 0.9438, Testing Accuracy: 0.9516\n",
      "\n"
     ]
    },
    {
     "name": "stdout",
     "output_type": "stream",
     "text": [
      "Epoch 60, Loss 0.0539\n",
      "Training Accuracy: 0.9459, Testing Accuracy: 0.9536\n",
      "\n"
     ]
    },
    {
     "name": "stdout",
     "output_type": "stream",
     "text": [
      "Epoch 70, Loss 0.0514\n",
      "Training Accuracy: 0.9487, Testing Accuracy: 0.9556\n",
      "\n"
     ]
    },
    {
     "name": "stdout",
     "output_type": "stream",
     "text": [
      "Epoch 80, Loss 0.0493\n",
      "Training Accuracy: 0.9505, Testing Accuracy: 0.9572\n",
      "\n"
     ]
    },
    {
     "name": "stdout",
     "output_type": "stream",
     "text": [
      "Epoch 90, Loss 0.0476\n",
      "Training Accuracy: 0.9516, Testing Accuracy: 0.9587\n",
      "\n"
     ]
    },
    {
     "name": "stdout",
     "output_type": "stream",
     "text": [
      "Epoch 100, Loss 0.0462\n",
      "Training Accuracy: 0.9530, Testing Accuracy: 0.9587\n",
      "\n"
     ]
    },
    {
     "name": "stdout",
     "output_type": "stream",
     "text": [
      "Epoch 110, Loss 0.045\n",
      "Training Accuracy: 0.9537, Testing Accuracy: 0.9582\n",
      "\n"
     ]
    },
    {
     "name": "stdout",
     "output_type": "stream",
     "text": [
      "Epoch 120, Loss 0.0439\n",
      "Training Accuracy: 0.9546, Testing Accuracy: 0.9597\n",
      "\n"
     ]
    },
    {
     "name": "stdout",
     "output_type": "stream",
     "text": [
      "Epoch 130, Loss 0.043\n",
      "Training Accuracy: 0.9549, Testing Accuracy: 0.9607\n",
      "\n"
     ]
    },
    {
     "name": "stdout",
     "output_type": "stream",
     "text": [
      "Epoch 140, Loss 0.0422\n",
      "Training Accuracy: 0.9559, Testing Accuracy: 0.9607\n",
      "\n"
     ]
    },
    {
     "name": "stdout",
     "output_type": "stream",
     "text": [
      "Epoch 150, Loss 0.0414\n",
      "Training Accuracy: 0.9564, Testing Accuracy: 0.9612\n",
      "\n"
     ]
    },
    {
     "name": "stdout",
     "output_type": "stream",
     "text": [
      "Epoch 160, Loss 0.0408\n",
      "Training Accuracy: 0.9570, Testing Accuracy: 0.9607\n",
      "\n"
     ]
    },
    {
     "name": "stdout",
     "output_type": "stream",
     "text": [
      "Epoch 170, Loss 0.0401\n",
      "Training Accuracy: 0.9576, Testing Accuracy: 0.9622\n",
      "\n"
     ]
    },
    {
     "name": "stdout",
     "output_type": "stream",
     "text": [
      "Epoch 180, Loss 0.0396\n",
      "Training Accuracy: 0.9581, Testing Accuracy: 0.9627\n",
      "\n"
     ]
    },
    {
     "name": "stdout",
     "output_type": "stream",
     "text": [
      "Epoch 190, Loss 0.0391\n",
      "Training Accuracy: 0.9584, Testing Accuracy: 0.9627\n",
      "\n"
     ]
    },
    {
     "name": "stdout",
     "output_type": "stream",
     "text": [
      "Epoch 200, Loss 0.0386\n",
      "Training Accuracy: 0.9589, Testing Accuracy: 0.9632\n",
      "\n"
     ]
    },
    {
     "name": "stdout",
     "output_type": "stream",
     "text": [
      "Epoch 210, Loss 0.0382\n",
      "Training Accuracy: 0.9593, Testing Accuracy: 0.9642\n",
      "\n"
     ]
    },
    {
     "name": "stdout",
     "output_type": "stream",
     "text": [
      "Epoch 220, Loss 0.0377\n",
      "Training Accuracy: 0.9596, Testing Accuracy: 0.9647\n",
      "\n"
     ]
    },
    {
     "name": "stdout",
     "output_type": "stream",
     "text": [
      "Epoch 230, Loss 0.0374\n",
      "Training Accuracy: 0.9599, Testing Accuracy: 0.9652\n",
      "\n"
     ]
    },
    {
     "name": "stdout",
     "output_type": "stream",
     "text": [
      "Epoch 240, Loss 0.037\n",
      "Training Accuracy: 0.9602, Testing Accuracy: 0.9657\n",
      "\n"
     ]
    },
    {
     "data": {
      "text/plain": [
       "0.04119270383312748"
      ]
     },
     "execution_count": 23,
     "metadata": {},
     "output_type": "execute_result"
    }
   ],
   "source": [
    "lr_learner.train_loop(dl)"
   ]
  },
  {
   "cell_type": "code",
   "execution_count": 24,
   "id": "ca410940",
   "metadata": {
    "execution": {
     "iopub.execute_input": "2022-01-09T00:27:57.669124Z",
     "iopub.status.busy": "2022-01-09T00:27:57.668584Z",
     "iopub.status.idle": "2022-01-09T00:27:57.887060Z",
     "shell.execute_reply": "2022-01-09T00:27:57.886592Z"
    },
    "papermill": {
     "duration": 0.273544,
     "end_time": "2022-01-09T00:27:57.887186",
     "exception": false,
     "start_time": "2022-01-09T00:27:57.613642",
     "status": "completed"
    },
    "tags": []
   },
   "outputs": [
    {
     "data": {
      "text/plain": [
       "<matplotlib.legend.Legend at 0x7f4f5689aa90>"
      ]
     },
     "execution_count": 24,
     "metadata": {},
     "output_type": "execute_result"
    },
    {
     "data": {
      "image/png": "[encoded data removed]",
      "text/plain": [
       "<Figure size 1080x720 with 1 Axes>"
      ]
     },
     "metadata": {
      "needs_background": "light"
     },
     "output_type": "display_data"
    }
   ],
   "source": [
    "#comparing the results of NN and LR\n",
    "plt.figure(figsize=(15,10))\n",
    "\n",
    "# Neural Network plots\n",
    "plt.plot(acc_nn.accuracies, 'r-', label = \"Training Accuracies - NN\")\n",
    "plt.plot(acc_nn.test_accuracies, 'g-', label = \"Testing Accuracies - NN\")\n",
    "\n",
    "# Logistic Regression plots\n",
    "plt.plot(acc_lr.accuracies, 'k-', label = \"Training Accuracies - LR\")\n",
    "plt.plot(acc_lr.test_accuracies, 'b-', label = \"Testing Accuracies - LR\")\n",
    "plt.legend()"
   ]
  },
  {
   "cell_type": "markdown",
   "id": "80dfb35c",
   "metadata": {
    "papermill": {
     "duration": 0.043316,
     "end_time": "2022-01-09T00:27:57.973758",
     "exception": false,
     "start_time": "2022-01-09T00:27:57.930442",
     "status": "completed"
    },
    "tags": []
   },
   "source": [
    "#### Plotting the outputs of this layer of the NN.\n"
   ]
  },
  {
   "cell_type": "code",
   "execution_count": 25,
   "id": "45eb2ff5",
   "metadata": {
    "execution": {
     "iopub.execute_input": "2022-01-09T00:27:58.073623Z",
     "iopub.status.busy": "2022-01-09T00:27:58.072706Z",
     "iopub.status.idle": "2022-01-09T00:27:58.087353Z",
     "shell.execute_reply": "2022-01-09T00:27:58.087819Z"
    },
    "papermill": {
     "duration": 0.0712,
     "end_time": "2022-01-09T00:27:58.087972",
     "exception": false,
     "start_time": "2022-01-09T00:27:58.016772",
     "status": "completed"
    },
    "tags": []
   },
   "outputs": [],
   "source": [
    "new_model = Model(layers[:-2])\n",
    "testing_plot = new_model(testing_data_x)"
   ]
  },
  {
   "cell_type": "code",
   "execution_count": 26,
   "id": "4c0a5485",
   "metadata": {
    "execution": {
     "iopub.execute_input": "2022-01-09T00:27:58.181678Z",
     "iopub.status.busy": "2022-01-09T00:27:58.179168Z",
     "iopub.status.idle": "2022-01-09T00:27:58.375032Z",
     "shell.execute_reply": "2022-01-09T00:27:58.375489Z"
    },
    "papermill": {
     "duration": 0.244426,
     "end_time": "2022-01-09T00:27:58.375659",
     "exception": false,
     "start_time": "2022-01-09T00:27:58.131233",
     "status": "completed"
    },
    "tags": []
   },
   "outputs": [
    {
     "data": {
      "text/plain": [
       "Text(0.5, 1.0, 'Outputs')"
      ]
     },
     "execution_count": 26,
     "metadata": {},
     "output_type": "execute_result"
    },
    {
     "data": {
      "image/png": "[encoded data removed]",
      "text/plain": [
       "<Figure size 576x504 with 1 Axes>"
      ]
     },
     "metadata": {
      "needs_background": "light"
     },
     "output_type": "display_data"
    }
   ],
   "source": [
    "# Plotting the scatter plot of points and color coding by class\n",
    "plt.figure(figsize=(8,7))\n",
    "plt.scatter(testing_plot[:,0], testing_plot[:,1], alpha = 0.1, c = y_test.ravel());\n",
    "plt.title('Outputs')"
   ]
  },
  {
   "cell_type": "markdown",
   "id": "a74fcf8f",
   "metadata": {
    "papermill": {
     "duration": 0.044285,
     "end_time": "2022-01-09T00:27:58.464946",
     "exception": false,
     "start_time": "2022-01-09T00:27:58.420661",
     "status": "completed"
    },
    "tags": []
   },
   "source": [
    "Probability contours"
   ]
  },
  {
   "cell_type": "code",
   "execution_count": 27,
   "id": "d0afc8e3",
   "metadata": {
    "execution": {
     "iopub.execute_input": "2022-01-09T00:27:58.561561Z",
     "iopub.status.busy": "2022-01-09T00:27:58.561009Z",
     "iopub.status.idle": "2022-01-09T00:27:58.572354Z",
     "shell.execute_reply": "2022-01-09T00:27:58.572737Z"
    },
    "papermill": {
     "duration": 0.06344,
     "end_time": "2022-01-09T00:27:58.572877",
     "exception": false,
     "start_time": "2022-01-09T00:27:58.509437",
     "status": "completed"
    },
    "tags": []
   },
   "outputs": [],
   "source": [
    "model_prob = Model(layers[-2:]) "
   ]
  },
  {
   "cell_type": "code",
   "execution_count": 28,
   "id": "9b96e238",
   "metadata": {
    "execution": {
     "iopub.execute_input": "2022-01-09T00:27:58.714278Z",
     "iopub.status.busy": "2022-01-09T00:27:58.711069Z",
     "iopub.status.idle": "2022-01-09T00:27:58.715795Z",
     "shell.execute_reply": "2022-01-09T00:27:58.715369Z"
    },
    "papermill": {
     "duration": 0.098405,
     "end_time": "2022-01-09T00:27:58.715935",
     "exception": false,
     "start_time": "2022-01-09T00:27:58.617530",
     "status": "completed"
    },
    "tags": []
   },
   "outputs": [],
   "source": [
    "#creating the x and y ranges according to the above generated plot.\n",
    "x_range = np.linspace(-4, 1, 100) \n",
    "y_range = np.linspace(-6, 6, 100) \n",
    "x_grid, y_grid = np.meshgrid(x_range, y_range) # x_grid and y_grig are of size 100 X 100\n",
    "\n",
    "# converting x_grid and y_grid to continuous arrays\n",
    "x_gridflat = np.ravel(x_grid)\n",
    "y_gridflat = np.ravel(y_grid)\n",
    "\n",
    "# The last layer of the current model takes two columns as input. Hence transpose of np.vstack() is required.\n",
    "X = np.vstack((x_gridflat, y_gridflat)).T\n",
    "\n",
    "prob_contour = model_prob(X).reshape(100,100) "
   ]
  },
  {
   "cell_type": "code",
   "execution_count": 29,
   "id": "da72499a",
   "metadata": {
    "execution": {
     "iopub.execute_input": "2022-01-09T00:27:58.821312Z",
     "iopub.status.busy": "2022-01-09T00:27:58.820775Z",
     "iopub.status.idle": "2022-01-09T00:27:59.059242Z",
     "shell.execute_reply": "2022-01-09T00:27:59.059661Z"
    },
    "papermill": {
     "duration": 0.294633,
     "end_time": "2022-01-09T00:27:59.059831",
     "exception": false,
     "start_time": "2022-01-09T00:27:58.765198",
     "status": "completed"
    },
    "tags": []
   },
   "outputs": [
    {
     "data": {
      "image/png": "[encoded data removed]",
      "text/plain": [
       "<Figure size 720x648 with 1 Axes>"
      ]
     },
     "metadata": {
      "needs_background": "light"
     },
     "output_type": "display_data"
    }
   ],
   "source": [
    "plt.figure(figsize=(10,9))\n",
    "plt.scatter(testing_plot[:,0], testing_plot[:,1], alpha = 0.1, c = y_test.ravel())\n",
    "contours = plt.contour(x_grid,y_grid,prob_contour)\n",
    "plt.title('Probability Contours')\n",
    "plt.clabel(contours, inline = True );"
   ]
  },
  {
   "cell_type": "code",
   "execution_count": null,
   "id": "e81b4ac7",
   "metadata": {
    "papermill": {
     "duration": 0.046916,
     "end_time": "2022-01-09T00:27:59.154284",
     "exception": false,
     "start_time": "2022-01-09T00:27:59.107368",
     "status": "completed"
    },
    "tags": []
   },
   "outputs": [],
   "source": []
  }
 ],
 "metadata": {
  "kernelspec": {
   "display_name": "Python 3",
   "language": "python",
   "name": "python3"
  },
  "language_info": {
   "codemirror_mode": {
    "name": "ipython",
    "version": 3
   },
   "file_extension": ".py",
   "mimetype": "text/x-python",
   "name": "python",
   "nbconvert_exporter": "python",
   "pygments_lexer": "ipython3",
   "version": "3.6.15"
  },
  "papermill": {
   "default_parameters": {},
   "duration": 100.995599,
   "end_time": "2022-01-09T00:27:59.610659",
   "environment_variables": {},
   "exception": null,
   "input_path": "2020-08-11-part2.ipynb",
   "output_path": "2020-08-11-part2.ipynb",
   "parameters": {},
   "start_time": "2022-01-09T00:26:18.615060",
   "version": "2.3.3"
  }
 },
 "nbformat": 4,
 "nbformat_minor": 5
}