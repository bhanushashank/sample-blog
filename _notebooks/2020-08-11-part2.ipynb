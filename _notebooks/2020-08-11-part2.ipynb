{
 "cells": [
  {
   "cell_type": "markdown",
   "id": "98380cd3",
   "metadata": {
    "papermill": {
     "duration": 0.030089,
     "end_time": "2022-10-31T00:52:40.411314",
     "exception": false,
     "start_time": "2022-10-31T00:52:40.381225",
     "status": "completed"
    },
    "tags": []
   },
   "source": [
    "# Distinguish Your Own Digits (DYOD)"
   ]
  },
  {
   "cell_type": "markdown",
   "id": "ef31240d",
   "metadata": {
    "papermill": {
     "duration": 0.02735,
     "end_time": "2022-10-31T00:52:40.463871",
     "exception": false,
     "start_time": "2022-10-31T00:52:40.436521",
     "status": "completed"
    },
    "tags": []
   },
   "source": [
    "You are going to write a classifier that distinguishes between the number 3 and number 8."
   ]
  },
  {
   "cell_type": "code",
   "execution_count": 1,
   "id": "b15c8646",
   "metadata": {
    "execution": {
     "iopub.execute_input": "2022-10-31T00:52:40.526205Z",
     "iopub.status.busy": "2022-10-31T00:52:40.525512Z",
     "iopub.status.idle": "2022-10-31T00:52:40.537623Z",
     "shell.execute_reply": "2022-10-31T00:52:40.536968Z"
    },
    "papermill": {
     "duration": 0.049013,
     "end_time": "2022-10-31T00:52:40.537765",
     "exception": false,
     "start_time": "2022-10-31T00:52:40.488752",
     "status": "completed"
    },
    "tags": []
   },
   "outputs": [],
   "source": [
    "%load_ext autoreload\n",
    "%autoreload 2"
   ]
  },
  {
   "cell_type": "code",
   "execution_count": 2,
   "id": "22ef38dc",
   "metadata": {
    "execution": {
     "iopub.execute_input": "2022-10-31T00:52:40.598159Z",
     "iopub.status.busy": "2022-10-31T00:52:40.597208Z",
     "iopub.status.idle": "2022-10-31T00:52:41.239877Z",
     "shell.execute_reply": "2022-10-31T00:52:41.238819Z"
    },
    "papermill": {
     "duration": 0.673724,
     "end_time": "2022-10-31T00:52:41.240028",
     "exception": false,
     "start_time": "2022-10-31T00:52:40.566304",
     "status": "completed"
    },
    "tags": []
   },
   "outputs": [],
   "source": [
    "%matplotlib inline\n",
    "import numpy as np\n",
    "import matplotlib.pyplot as plt\n",
    "import pandas as pd"
   ]
  },
  {
   "cell_type": "markdown",
   "id": "ba036198",
   "metadata": {
    "papermill": {
     "duration": 0.027487,
     "end_time": "2022-10-31T00:52:41.299831",
     "exception": false,
     "start_time": "2022-10-31T00:52:41.272344",
     "status": "completed"
    },
    "tags": []
   },
   "source": [
    "From the command line run `pip install mnist`. This is a library that will help you bring down the mnist dataset. If you run this from a notebook, you need to put  `!pip install mnist` in a cell by itself."
   ]
  },
  {
   "cell_type": "code",
   "execution_count": 3,
   "id": "bb6ad8a1",
   "metadata": {
    "execution": {
     "iopub.execute_input": "2022-10-31T00:52:41.360219Z",
     "iopub.status.busy": "2022-10-31T00:52:41.358674Z",
     "iopub.status.idle": "2022-10-31T00:52:43.162064Z",
     "shell.execute_reply": "2022-10-31T00:52:43.163761Z"
    },
    "papermill": {
     "duration": 1.837029,
     "end_time": "2022-10-31T00:52:43.164025",
     "exception": false,
     "start_time": "2022-10-31T00:52:41.326996",
     "status": "completed"
    },
    "tags": []
   },
   "outputs": [
    {
     "name": "stdout",
     "output_type": "stream",
     "text": [
      "Collecting mnist\r\n",
      "  Downloading mnist-0.2.2-py2.py3-none-any.whl (3.5 kB)\r\n",
      "Requirement already satisfied: numpy in /opt/hostedtoolcache/Python/3.6.15/x64/lib/python3.6/site-packages (from mnist) (1.19.5)\r\n"
     ]
    },
    {
     "name": "stdout",
     "output_type": "stream",
     "text": [
      "Installing collected packages: mnist\r\n",
      "Successfully installed mnist-0.2.2\r\n"
     ]
    }
   ],
   "source": [
    "!pip install mnist"
   ]
  },
  {
   "cell_type": "markdown",
   "id": "69df9c9a",
   "metadata": {
    "papermill": {
     "duration": 0.02625,
     "end_time": "2022-10-31T00:52:43.216092",
     "exception": false,
     "start_time": "2022-10-31T00:52:43.189842",
     "status": "completed"
    },
    "tags": []
   },
   "source": [
    "## Preparing the Data"
   ]
  },
  {
   "cell_type": "code",
   "execution_count": 4,
   "id": "7f69d806",
   "metadata": {
    "execution": {
     "iopub.execute_input": "2022-10-31T00:52:43.293507Z",
     "iopub.status.busy": "2022-10-31T00:52:43.292252Z",
     "iopub.status.idle": "2022-10-31T00:52:43.308064Z",
     "shell.execute_reply": "2022-10-31T00:52:43.307609Z"
    },
    "papermill": {
     "duration": 0.048305,
     "end_time": "2022-10-31T00:52:43.308175",
     "exception": false,
     "start_time": "2022-10-31T00:52:43.259870",
     "status": "completed"
    },
    "tags": []
   },
   "outputs": [],
   "source": [
    "import mnist"
   ]
  },
  {
   "cell_type": "code",
   "execution_count": 5,
   "id": "a411e44f",
   "metadata": {
    "execution": {
     "iopub.execute_input": "2022-10-31T00:52:43.378538Z",
     "iopub.status.busy": "2022-10-31T00:52:43.377859Z",
     "iopub.status.idle": "2022-10-31T00:52:43.948968Z",
     "shell.execute_reply": "2022-10-31T00:52:43.949530Z"
    },
    "papermill": {
     "duration": 0.613886,
     "end_time": "2022-10-31T00:52:43.949693",
     "exception": false,
     "start_time": "2022-10-31T00:52:43.335807",
     "status": "completed"
    },
    "tags": []
   },
   "outputs": [],
   "source": [
    "train_images = mnist.train_images()\n",
    "train_labels = mnist.train_labels()"
   ]
  },
  {
   "cell_type": "code",
   "execution_count": 6,
   "id": "dceab3a5",
   "metadata": {
    "execution": {
     "iopub.execute_input": "2022-10-31T00:52:44.006729Z",
     "iopub.status.busy": "2022-10-31T00:52:44.006060Z",
     "iopub.status.idle": "2022-10-31T00:52:44.023150Z",
     "shell.execute_reply": "2022-10-31T00:52:44.022360Z"
    },
    "papermill": {
     "duration": 0.049252,
     "end_time": "2022-10-31T00:52:44.023332",
     "exception": false,
     "start_time": "2022-10-31T00:52:43.974080",
     "status": "completed"
    },
    "tags": []
   },
   "outputs": [
    {
     "data": {
      "text/plain": [
       "((60000, 28, 28), (60000,))"
      ]
     },
     "execution_count": 6,
     "metadata": {},
     "output_type": "execute_result"
    }
   ],
   "source": [
    "train_images.shape, train_labels.shape"
   ]
  },
  {
   "cell_type": "code",
   "execution_count": 7,
   "id": "f50dc2bb",
   "metadata": {
    "execution": {
     "iopub.execute_input": "2022-10-31T00:52:44.084963Z",
     "iopub.status.busy": "2022-10-31T00:52:44.084243Z",
     "iopub.status.idle": "2022-10-31T00:52:44.218090Z",
     "shell.execute_reply": "2022-10-31T00:52:44.217048Z"
    },
    "papermill": {
     "duration": 0.167448,
     "end_time": "2022-10-31T00:52:44.218304",
     "exception": false,
     "start_time": "2022-10-31T00:52:44.050856",
     "status": "completed"
    },
    "tags": []
   },
   "outputs": [],
   "source": [
    "test_images = mnist.test_images()\n",
    "test_labels = mnist.test_labels()"
   ]
  },
  {
   "cell_type": "code",
   "execution_count": 8,
   "id": "fc38cf1b",
   "metadata": {
    "execution": {
     "iopub.execute_input": "2022-10-31T00:52:44.275865Z",
     "iopub.status.busy": "2022-10-31T00:52:44.275309Z",
     "iopub.status.idle": "2022-10-31T00:52:44.291132Z",
     "shell.execute_reply": "2022-10-31T00:52:44.290462Z"
    },
    "papermill": {
     "duration": 0.04453,
     "end_time": "2022-10-31T00:52:44.291258",
     "exception": false,
     "start_time": "2022-10-31T00:52:44.246728",
     "status": "completed"
    },
    "tags": []
   },
   "outputs": [
    {
     "data": {
      "text/plain": [
       "((10000, 28, 28), (10000,))"
      ]
     },
     "execution_count": 8,
     "metadata": {},
     "output_type": "execute_result"
    }
   ],
   "source": [
    "test_images.shape, test_labels.shape"
   ]
  },
  {
   "cell_type": "code",
   "execution_count": 9,
   "id": "f9ed8fe0",
   "metadata": {
    "execution": {
     "iopub.execute_input": "2022-10-31T00:52:44.351645Z",
     "iopub.status.busy": "2022-10-31T00:52:44.348216Z",
     "iopub.status.idle": "2022-10-31T00:52:44.497479Z",
     "shell.execute_reply": "2022-10-31T00:52:44.496995Z"
    },
    "papermill": {
     "duration": 0.178549,
     "end_time": "2022-10-31T00:52:44.497661",
     "exception": false,
     "start_time": "2022-10-31T00:52:44.319112",
     "status": "completed"
    },
    "tags": []
   },
   "outputs": [
    {
     "name": "stdout",
     "output_type": "stream",
     "text": [
      "2\n"
     ]
    },
    {
     "data": {
      "text/plain": [
       "<matplotlib.image.AxesImage at 0x7f83cd5a8cc0>"
      ]
     },
     "execution_count": 9,
     "metadata": {},
     "output_type": "execute_result"
    },
    {
     "data": {
      "image/png": "[encoded data removed]",
      "text/plain": [
       "<Figure size 432x288 with 1 Axes>"
      ]
     },
     "metadata": {
      "needs_background": "light"
     },
     "output_type": "display_data"
    }
   ],
   "source": [
    "image_index = 7776 # You may select anything up to 60,000\n",
    "print(train_labels[image_index]) \n",
    "plt.imshow(train_images[image_index], cmap='Greys')"
   ]
  },
  {
   "cell_type": "markdown",
   "id": "a8d2388d",
   "metadata": {
    "papermill": {
     "duration": 0.034887,
     "end_time": "2022-10-31T00:52:44.562937",
     "exception": false,
     "start_time": "2022-10-31T00:52:44.528050",
     "status": "completed"
    },
    "tags": []
   },
   "source": [
    "## Filter data to get 3 and 8 out"
   ]
  },
  {
   "cell_type": "code",
   "execution_count": 10,
   "id": "776f7fc7",
   "metadata": {
    "execution": {
     "iopub.execute_input": "2022-10-31T00:52:44.627842Z",
     "iopub.status.busy": "2022-10-31T00:52:44.627029Z",
     "iopub.status.idle": "2022-10-31T00:52:44.649730Z",
     "shell.execute_reply": "2022-10-31T00:52:44.649242Z"
    },
    "papermill": {
     "duration": 0.057456,
     "end_time": "2022-10-31T00:52:44.649839",
     "exception": false,
     "start_time": "2022-10-31T00:52:44.592383",
     "status": "completed"
    },
    "tags": []
   },
   "outputs": [],
   "source": [
    "train_filter = np.where((train_labels == 3 ) | (train_labels == 8))\n",
    "test_filter = np.where((test_labels == 3) | (test_labels == 8))\n",
    "X_train, y_train = train_images[train_filter], train_labels[train_filter]\n",
    "X_test, y_test = test_images[test_filter], test_labels[test_filter]"
   ]
  },
  {
   "cell_type": "markdown",
   "id": "948f0b7e",
   "metadata": {
    "papermill": {
     "duration": 0.026243,
     "end_time": "2022-10-31T00:52:44.705073",
     "exception": false,
     "start_time": "2022-10-31T00:52:44.678830",
     "status": "completed"
    },
    "tags": []
   },
   "source": [
    "We normalize the pizel values in the 0 to 1 range"
   ]
  },
  {
   "cell_type": "code",
   "execution_count": 11,
   "id": "ee4c2166",
   "metadata": {
    "execution": {
     "iopub.execute_input": "2022-10-31T00:52:44.763260Z",
     "iopub.status.busy": "2022-10-31T00:52:44.762596Z",
     "iopub.status.idle": "2022-10-31T00:52:44.817708Z",
     "shell.execute_reply": "2022-10-31T00:52:44.817110Z"
    },
    "papermill": {
     "duration": 0.086992,
     "end_time": "2022-10-31T00:52:44.817839",
     "exception": false,
     "start_time": "2022-10-31T00:52:44.730847",
     "status": "completed"
    },
    "tags": []
   },
   "outputs": [],
   "source": [
    "X_train = X_train/255.\n",
    "X_test = X_test/255."
   ]
  },
  {
   "cell_type": "markdown",
   "id": "ddcf4fab",
   "metadata": {
    "papermill": {
     "duration": 0.027042,
     "end_time": "2022-10-31T00:52:44.874241",
     "exception": false,
     "start_time": "2022-10-31T00:52:44.847199",
     "status": "completed"
    },
    "tags": []
   },
   "source": [
    "And setup the labels as 1 (when the digit is 3) and 0 (when the digit is 8)"
   ]
  },
  {
   "cell_type": "code",
   "execution_count": 12,
   "id": "7dc908f2",
   "metadata": {
    "execution": {
     "iopub.execute_input": "2022-10-31T00:52:44.934038Z",
     "iopub.status.busy": "2022-10-31T00:52:44.933410Z",
     "iopub.status.idle": "2022-10-31T00:52:44.954096Z",
     "shell.execute_reply": "2022-10-31T00:52:44.953441Z"
    },
    "papermill": {
     "duration": 0.053127,
     "end_time": "2022-10-31T00:52:44.954242",
     "exception": false,
     "start_time": "2022-10-31T00:52:44.901115",
     "status": "completed"
    },
    "tags": []
   },
   "outputs": [],
   "source": [
    "y_train = 1*(y_train==3)\n",
    "y_test = 1*(y_test==3)"
   ]
  },
  {
   "cell_type": "code",
   "execution_count": 13,
   "id": "01e4e969",
   "metadata": {
    "execution": {
     "iopub.execute_input": "2022-10-31T00:52:45.014599Z",
     "iopub.status.busy": "2022-10-31T00:52:45.013979Z",
     "iopub.status.idle": "2022-10-31T00:52:45.028837Z",
     "shell.execute_reply": "2022-10-31T00:52:45.028312Z"
    },
    "papermill": {
     "duration": 0.04622,
     "end_time": "2022-10-31T00:52:45.028946",
     "exception": false,
     "start_time": "2022-10-31T00:52:44.982726",
     "status": "completed"
    },
    "tags": []
   },
   "outputs": [
    {
     "data": {
      "text/plain": [
       "((11982, 28, 28), (1984, 28, 28))"
      ]
     },
     "execution_count": 13,
     "metadata": {},
     "output_type": "execute_result"
    }
   ],
   "source": [
    "X_train.shape, X_test.shape"
   ]
  },
  {
   "cell_type": "markdown",
   "id": "5ccf3f85",
   "metadata": {
    "papermill": {
     "duration": 0.030336,
     "end_time": "2022-10-31T00:52:45.087037",
     "exception": false,
     "start_time": "2022-10-31T00:52:45.056701",
     "status": "completed"
    },
    "tags": []
   },
   "source": [
    "We reshape the data to flatten the image pixels into a set of features or co-variates:"
   ]
  },
  {
   "cell_type": "code",
   "execution_count": 14,
   "id": "5286a4a3",
   "metadata": {
    "execution": {
     "iopub.execute_input": "2022-10-31T00:52:45.155869Z",
     "iopub.status.busy": "2022-10-31T00:52:45.155092Z",
     "iopub.status.idle": "2022-10-31T00:52:45.173829Z",
     "shell.execute_reply": "2022-10-31T00:52:45.173263Z"
    },
    "papermill": {
     "duration": 0.054815,
     "end_time": "2022-10-31T00:52:45.173960",
     "exception": false,
     "start_time": "2022-10-31T00:52:45.119145",
     "status": "completed"
    },
    "tags": []
   },
   "outputs": [
    {
     "data": {
      "text/plain": [
       "((11982, 784), (1984, 784))"
      ]
     },
     "execution_count": 14,
     "metadata": {},
     "output_type": "execute_result"
    }
   ],
   "source": [
    "X_train = X_train.reshape(X_train.shape[0], -1)\n",
    "X_test = X_test.reshape(X_test.shape[0], -1)\n",
    "X_train.shape, X_test.shape"
   ]
  },
  {
   "cell_type": "code",
   "execution_count": 15,
   "id": "73c5f88a",
   "metadata": {
    "execution": {
     "iopub.execute_input": "2022-10-31T00:52:45.241970Z",
     "iopub.status.busy": "2022-10-31T00:52:45.241252Z",
     "iopub.status.idle": "2022-10-31T00:52:45.265025Z",
     "shell.execute_reply": "2022-10-31T00:52:45.264462Z"
    },
    "papermill": {
     "duration": 0.060143,
     "end_time": "2022-10-31T00:52:45.265158",
     "exception": false,
     "start_time": "2022-10-31T00:52:45.205015",
     "status": "completed"
    },
    "tags": []
   },
   "outputs": [],
   "source": [
    "#Impoting functions from 'Kudzu'\n",
    "from kudzu.model import Model\n",
    "from kudzu.train import Learner\n",
    "from kudzu.optim import GD\n",
    "from kudzu.data import Data, Sampler,Dataloader\n",
    "\n",
    "from kudzu.callbacks import AccCallback\n",
    "from kudzu.callbacks import ClfCallback\n",
    "\n",
    "from kudzu.loss import MSE\n",
    "\n",
    "from kudzu.layer import Sigmoid,Relu\n",
    "from kudzu.layer import Affine"
   ]
  },
  {
   "cell_type": "markdown",
   "id": "bc01172a",
   "metadata": {
    "papermill": {
     "duration": 0.029068,
     "end_time": "2022-10-31T00:52:45.322658",
     "exception": false,
     "start_time": "2022-10-31T00:52:45.293590",
     "status": "completed"
    },
    "tags": []
   },
   "source": [
    "### Let us create a `Config` class, to store important parameters. \n",
    "This class essentially plays the role of a dictionary."
   ]
  },
  {
   "cell_type": "code",
   "execution_count": 16,
   "id": "978281aa",
   "metadata": {
    "execution": {
     "iopub.execute_input": "2022-10-31T00:52:45.382453Z",
     "iopub.status.busy": "2022-10-31T00:52:45.381743Z",
     "iopub.status.idle": "2022-10-31T00:52:45.398090Z",
     "shell.execute_reply": "2022-10-31T00:52:45.397442Z"
    },
    "papermill": {
     "duration": 0.047784,
     "end_time": "2022-10-31T00:52:45.398294",
     "exception": false,
     "start_time": "2022-10-31T00:52:45.350510",
     "status": "completed"
    },
    "tags": []
   },
   "outputs": [],
   "source": [
    "class Config:\n",
    "    pass\n",
    "config = Config()\n",
    "config.lr = 0.001\n",
    "config.num_epochs = 250\n",
    "config.bs = 50"
   ]
  },
  {
   "cell_type": "markdown",
   "id": "1385fa59",
   "metadata": {
    "papermill": {
     "duration": 0.028833,
     "end_time": "2022-10-31T00:52:45.455803",
     "exception": false,
     "start_time": "2022-10-31T00:52:45.426970",
     "status": "completed"
    },
    "tags": []
   },
   "source": [
    "### Running Models with the Training data\n",
    "Details about the network layers:\n",
    "- A first affine layer has 784 inputs and does 100 affine transforms. These are followed by a Relu\n",
    "- A second affine layer has 100 inputs from the 100 activations of the past layer, and does 100 affine transforms. These are followed by a Relu\n",
    "- A third affine layer has 100 activations and does 2 affine transformations to create an embedding for visualization. There is no non-linearity here.\n",
    "- A final \"logistic regression\" which has an affine transform from 2 inputs to 1 output, which is squeezed through a sigmoid.\n"
   ]
  },
  {
   "cell_type": "code",
   "execution_count": 17,
   "id": "2b9c66db",
   "metadata": {
    "execution": {
     "iopub.execute_input": "2022-10-31T00:52:45.518263Z",
     "iopub.status.busy": "2022-10-31T00:52:45.517551Z",
     "iopub.status.idle": "2022-10-31T00:52:45.530653Z",
     "shell.execute_reply": "2022-10-31T00:52:45.529959Z"
    },
    "papermill": {
     "duration": 0.047228,
     "end_time": "2022-10-31T00:52:45.530786",
     "exception": false,
     "start_time": "2022-10-31T00:52:45.483558",
     "status": "completed"
    },
    "tags": []
   },
   "outputs": [],
   "source": [
    "data = Data(X_train, y_train.reshape(-1,1))\n",
    "sampler = Sampler(data, config.bs, shuffle=True)\n",
    "\n",
    "dl = Dataloader(data, sampler)\n",
    "\n",
    "opt = GD(config.lr)\n",
    "loss = MSE()"
   ]
  },
  {
   "cell_type": "code",
   "execution_count": 18,
   "id": "b275e4c2",
   "metadata": {
    "execution": {
     "iopub.execute_input": "2022-10-31T00:52:45.596396Z",
     "iopub.status.busy": "2022-10-31T00:52:45.595667Z",
     "iopub.status.idle": "2022-10-31T00:52:45.609358Z",
     "shell.execute_reply": "2022-10-31T00:52:45.609879Z"
    },
    "papermill": {
     "duration": 0.050514,
     "end_time": "2022-10-31T00:52:45.610027",
     "exception": false,
     "start_time": "2022-10-31T00:52:45.559513",
     "status": "completed"
    },
    "tags": []
   },
   "outputs": [],
   "source": [
    "training_data_x = X_train\n",
    "testing_data_x = X_test\n",
    "training_data_y = y_train.reshape(-1,1)\n",
    "testing_data_y = y_test.reshape(-1,1)"
   ]
  },
  {
   "cell_type": "code",
   "execution_count": 19,
   "id": "76951160",
   "metadata": {
    "execution": {
     "iopub.execute_input": "2022-10-31T00:52:45.673085Z",
     "iopub.status.busy": "2022-10-31T00:52:45.672441Z",
     "iopub.status.idle": "2022-10-31T00:52:45.691952Z",
     "shell.execute_reply": "2022-10-31T00:52:45.691184Z"
    },
    "papermill": {
     "duration": 0.052926,
     "end_time": "2022-10-31T00:52:45.692082",
     "exception": false,
     "start_time": "2022-10-31T00:52:45.639156",
     "status": "completed"
    },
    "tags": []
   },
   "outputs": [
    {
     "name": "stdout",
     "output_type": "stream",
     "text": [
      "xavier\n",
      "xavier\n",
      "xavier\n",
      "xavier\n",
      "xavier\n"
     ]
    }
   ],
   "source": [
    "layers = [Affine(\"first\", 784, 100), Relu(\"first\"), Affine(\"second\", 100, 100), Relu(\"second\"), Affine(\"third\", 100, 2), Affine(\"last\", 2, 1), Sigmoid(\"last\")]\n",
    "model_nn = Model(layers)\n",
    "model_lr = Model([Affine(\"logits\", 784, 1), Sigmoid(\"sigmoid\")])"
   ]
  },
  {
   "cell_type": "code",
   "execution_count": 20,
   "id": "6eede77a",
   "metadata": {
    "execution": {
     "iopub.execute_input": "2022-10-31T00:52:45.756891Z",
     "iopub.status.busy": "2022-10-31T00:52:45.756205Z",
     "iopub.status.idle": "2022-10-31T00:52:45.771788Z",
     "shell.execute_reply": "2022-10-31T00:52:45.772308Z"
    },
    "papermill": {
     "duration": 0.050324,
     "end_time": "2022-10-31T00:52:45.772612",
     "exception": false,
     "start_time": "2022-10-31T00:52:45.722288",
     "status": "completed"
    },
    "tags": []
   },
   "outputs": [],
   "source": [
    "nn_learner = Learner(loss, model_nn, opt, config.num_epochs)\n",
    "acc_nn = ClfCallback(nn_learner, config.bs, training_data_x , testing_data_x, training_data_y, testing_data_y)\n",
    "nn_learner.set_callbacks([acc_nn])"
   ]
  },
  {
   "cell_type": "code",
   "execution_count": 21,
   "id": "877b6cc7",
   "metadata": {
    "execution": {
     "iopub.execute_input": "2022-10-31T00:52:45.835384Z",
     "iopub.status.busy": "2022-10-31T00:52:45.834785Z",
     "iopub.status.idle": "2022-10-31T00:52:45.848945Z",
     "shell.execute_reply": "2022-10-31T00:52:45.848337Z"
    },
    "papermill": {
     "duration": 0.048093,
     "end_time": "2022-10-31T00:52:45.849067",
     "exception": false,
     "start_time": "2022-10-31T00:52:45.800974",
     "status": "completed"
    },
    "tags": []
   },
   "outputs": [],
   "source": [
    "lr_learner = Learner(loss, model_lr, opt, config.num_epochs)\n",
    "acc_lr = ClfCallback(lr_learner, config.bs, training_data_x , testing_data_x, training_data_y, testing_data_y)\n",
    "lr_learner.set_callbacks([acc_lr])"
   ]
  },
  {
   "cell_type": "code",
   "execution_count": 22,
   "id": "d9b133c3",
   "metadata": {
    "execution": {
     "iopub.execute_input": "2022-10-31T00:52:45.914879Z",
     "iopub.status.busy": "2022-10-31T00:52:45.914086Z",
     "iopub.status.idle": "2022-10-31T00:54:13.114422Z",
     "shell.execute_reply": "2022-10-31T00:54:13.115408Z"
    },
    "papermill": {
     "duration": 87.235599,
     "end_time": "2022-10-31T00:54:13.115576",
     "exception": false,
     "start_time": "2022-10-31T00:52:45.879977",
     "status": "completed"
    },
    "tags": []
   },
   "outputs": [
    {
     "name": "stdout",
     "output_type": "stream",
     "text": [
      "Epoch 0, Loss 0.245\n",
      "Training Accuracy: 0.7505, Testing Accuracy: 0.7540\n",
      "\n"
     ]
    },
    {
     "name": "stdout",
     "output_type": "stream",
     "text": [
      "Epoch 10, Loss 0.0588\n",
      "Training Accuracy: 0.9453, Testing Accuracy: 0.9541\n",
      "\n"
     ]
    },
    {
     "name": "stdout",
     "output_type": "stream",
     "text": [
      "Epoch 20, Loss 0.0416\n",
      "Training Accuracy: 0.9551, Testing Accuracy: 0.9662\n",
      "\n"
     ]
    },
    {
     "name": "stdout",
     "output_type": "stream",
     "text": [
      "Epoch 30, Loss 0.035\n",
      "Training Accuracy: 0.9611, Testing Accuracy: 0.9677\n",
      "\n"
     ]
    },
    {
     "name": "stdout",
     "output_type": "stream",
     "text": [
      "Epoch 40, Loss 0.0312\n",
      "Training Accuracy: 0.9639, Testing Accuracy: 0.9677\n",
      "\n"
     ]
    },
    {
     "name": "stdout",
     "output_type": "stream",
     "text": [
      "Epoch 50, Loss 0.0286\n",
      "Training Accuracy: 0.9671, Testing Accuracy: 0.9688\n",
      "\n"
     ]
    },
    {
     "name": "stdout",
     "output_type": "stream",
     "text": [
      "Epoch 60, Loss 0.0266\n",
      "Training Accuracy: 0.9696, Testing Accuracy: 0.9703\n",
      "\n"
     ]
    },
    {
     "name": "stdout",
     "output_type": "stream",
     "text": [
      "Epoch 70, Loss 0.025\n",
      "Training Accuracy: 0.9711, Testing Accuracy: 0.9713\n",
      "\n"
     ]
    },
    {
     "name": "stdout",
     "output_type": "stream",
     "text": [
      "Epoch 80, Loss 0.0237\n",
      "Training Accuracy: 0.9730, Testing Accuracy: 0.9723\n",
      "\n"
     ]
    },
    {
     "name": "stdout",
     "output_type": "stream",
     "text": [
      "Epoch 90, Loss 0.0226\n",
      "Training Accuracy: 0.9752, Testing Accuracy: 0.9743\n",
      "\n"
     ]
    },
    {
     "name": "stdout",
     "output_type": "stream",
     "text": [
      "Epoch 100, Loss 0.0216\n",
      "Training Accuracy: 0.9760, Testing Accuracy: 0.9753\n",
      "\n"
     ]
    },
    {
     "name": "stdout",
     "output_type": "stream",
     "text": [
      "Epoch 110, Loss 0.0207\n",
      "Training Accuracy: 0.9768, Testing Accuracy: 0.9763\n",
      "\n"
     ]
    },
    {
     "name": "stdout",
     "output_type": "stream",
     "text": [
      "Epoch 120, Loss 0.0199\n",
      "Training Accuracy: 0.9775, Testing Accuracy: 0.9773\n",
      "\n"
     ]
    },
    {
     "name": "stdout",
     "output_type": "stream",
     "text": [
      "Epoch 130, Loss 0.0191\n",
      "Training Accuracy: 0.9784, Testing Accuracy: 0.9773\n",
      "\n"
     ]
    },
    {
     "name": "stdout",
     "output_type": "stream",
     "text": [
      "Epoch 140, Loss 0.0185\n",
      "Training Accuracy: 0.9791, Testing Accuracy: 0.9778\n",
      "\n"
     ]
    },
    {
     "name": "stdout",
     "output_type": "stream",
     "text": [
      "Epoch 150, Loss 0.0178\n",
      "Training Accuracy: 0.9798, Testing Accuracy: 0.9783\n",
      "\n"
     ]
    },
    {
     "name": "stdout",
     "output_type": "stream",
     "text": [
      "Epoch 160, Loss 0.0172\n",
      "Training Accuracy: 0.9804, Testing Accuracy: 0.9778\n",
      "\n"
     ]
    },
    {
     "name": "stdout",
     "output_type": "stream",
     "text": [
      "Epoch 170, Loss 0.0167\n",
      "Training Accuracy: 0.9811, Testing Accuracy: 0.9783\n",
      "\n"
     ]
    },
    {
     "name": "stdout",
     "output_type": "stream",
     "text": [
      "Epoch 180, Loss 0.0161\n",
      "Training Accuracy: 0.9820, Testing Accuracy: 0.9778\n",
      "\n"
     ]
    },
    {
     "name": "stdout",
     "output_type": "stream",
     "text": [
      "Epoch 190, Loss 0.0157\n",
      "Training Accuracy: 0.9829, Testing Accuracy: 0.9773\n",
      "\n"
     ]
    },
    {
     "name": "stdout",
     "output_type": "stream",
     "text": [
      "Epoch 200, Loss 0.0152\n",
      "Training Accuracy: 0.9833, Testing Accuracy: 0.9783\n",
      "\n"
     ]
    },
    {
     "name": "stdout",
     "output_type": "stream",
     "text": [
      "Epoch 210, Loss 0.0147\n",
      "Training Accuracy: 0.9840, Testing Accuracy: 0.9798\n",
      "\n"
     ]
    },
    {
     "name": "stdout",
     "output_type": "stream",
     "text": [
      "Epoch 220, Loss 0.0143\n",
      "Training Accuracy: 0.9846, Testing Accuracy: 0.9808\n",
      "\n"
     ]
    },
    {
     "name": "stdout",
     "output_type": "stream",
     "text": [
      "Epoch 230, Loss 0.0139\n",
      "Training Accuracy: 0.9854, Testing Accuracy: 0.9808\n",
      "\n"
     ]
    },
    {
     "name": "stdout",
     "output_type": "stream",
     "text": [
      "Epoch 240, Loss 0.0135\n",
      "Training Accuracy: 0.9857, Testing Accuracy: 0.9803\n",
      "\n"
     ]
    },
    {
     "data": {
      "text/plain": [
       "0.00160468645764902"
      ]
     },
     "execution_count": 22,
     "metadata": {},
     "output_type": "execute_result"
    }
   ],
   "source": [
    "nn_learner.train_loop(dl)"
   ]
  },
  {
   "cell_type": "code",
   "execution_count": 23,
   "id": "e0163366",
   "metadata": {
    "execution": {
     "iopub.execute_input": "2022-10-31T00:54:13.206743Z",
     "iopub.status.busy": "2022-10-31T00:54:13.206013Z",
     "iopub.status.idle": "2022-10-31T00:54:28.618364Z",
     "shell.execute_reply": "2022-10-31T00:54:28.619356Z"
    },
    "papermill": {
     "duration": 15.46385,
     "end_time": "2022-10-31T00:54:28.619522",
     "exception": false,
     "start_time": "2022-10-31T00:54:13.155672",
     "status": "completed"
    },
    "tags": []
   },
   "outputs": [
    {
     "name": "stdout",
     "output_type": "stream",
     "text": [
      "Epoch 0, Loss 0.2214\n",
      "Training Accuracy: 0.7212, Testing Accuracy: 0.7137\n",
      "\n"
     ]
    },
    {
     "name": "stdout",
     "output_type": "stream",
     "text": [
      "Epoch 10, Loss 0.1047\n",
      "Training Accuracy: 0.8988, Testing Accuracy: 0.9118\n",
      "\n"
     ]
    },
    {
     "name": "stdout",
     "output_type": "stream",
     "text": [
      "Epoch 20, Loss 0.0805\n",
      "Training Accuracy: 0.9246, Testing Accuracy: 0.9350\n",
      "\n"
     ]
    },
    {
     "name": "stdout",
     "output_type": "stream",
     "text": [
      "Epoch 30, Loss 0.0691\n",
      "Training Accuracy: 0.9351, Testing Accuracy: 0.9430\n",
      "\n"
     ]
    },
    {
     "name": "stdout",
     "output_type": "stream",
     "text": [
      "Epoch 40, Loss 0.0622\n",
      "Training Accuracy: 0.9409, Testing Accuracy: 0.9491\n",
      "\n"
     ]
    },
    {
     "name": "stdout",
     "output_type": "stream",
     "text": [
      "Epoch 50, Loss 0.0576\n",
      "Training Accuracy: 0.9440, Testing Accuracy: 0.9531\n",
      "\n"
     ]
    },
    {
     "name": "stdout",
     "output_type": "stream",
     "text": [
      "Epoch 60, Loss 0.0542\n",
      "Training Accuracy: 0.9474, Testing Accuracy: 0.9556\n",
      "\n"
     ]
    },
    {
     "name": "stdout",
     "output_type": "stream",
     "text": [
      "Epoch 70, Loss 0.0515\n",
      "Training Accuracy: 0.9493, Testing Accuracy: 0.9592\n",
      "\n"
     ]
    },
    {
     "name": "stdout",
     "output_type": "stream",
     "text": [
      "Epoch 80, Loss 0.0495\n",
      "Training Accuracy: 0.9502, Testing Accuracy: 0.9607\n",
      "\n"
     ]
    },
    {
     "name": "stdout",
     "output_type": "stream",
     "text": [
      "Epoch 90, Loss 0.0477\n",
      "Training Accuracy: 0.9514, Testing Accuracy: 0.9627\n",
      "\n"
     ]
    },
    {
     "name": "stdout",
     "output_type": "stream",
     "text": [
      "Epoch 100, Loss 0.0463\n",
      "Training Accuracy: 0.9526, Testing Accuracy: 0.9632\n",
      "\n"
     ]
    },
    {
     "name": "stdout",
     "output_type": "stream",
     "text": [
      "Epoch 110, Loss 0.045\n",
      "Training Accuracy: 0.9538, Testing Accuracy: 0.9642\n",
      "\n"
     ]
    },
    {
     "name": "stdout",
     "output_type": "stream",
     "text": [
      "Epoch 120, Loss 0.044\n",
      "Training Accuracy: 0.9553, Testing Accuracy: 0.9642\n",
      "\n"
     ]
    },
    {
     "name": "stdout",
     "output_type": "stream",
     "text": [
      "Epoch 130, Loss 0.043\n",
      "Training Accuracy: 0.9560, Testing Accuracy: 0.9642\n",
      "\n"
     ]
    },
    {
     "name": "stdout",
     "output_type": "stream",
     "text": [
      "Epoch 140, Loss 0.0422\n",
      "Training Accuracy: 0.9564, Testing Accuracy: 0.9637\n",
      "\n"
     ]
    },
    {
     "name": "stdout",
     "output_type": "stream",
     "text": [
      "Epoch 150, Loss 0.0414\n",
      "Training Accuracy: 0.9574, Testing Accuracy: 0.9637\n",
      "\n"
     ]
    },
    {
     "name": "stdout",
     "output_type": "stream",
     "text": [
      "Epoch 160, Loss 0.0408\n",
      "Training Accuracy: 0.9577, Testing Accuracy: 0.9652\n",
      "\n"
     ]
    },
    {
     "name": "stdout",
     "output_type": "stream",
     "text": [
      "Epoch 170, Loss 0.0402\n",
      "Training Accuracy: 0.9578, Testing Accuracy: 0.9652\n",
      "\n"
     ]
    },
    {
     "name": "stdout",
     "output_type": "stream",
     "text": [
      "Epoch 180, Loss 0.0396\n",
      "Training Accuracy: 0.9582, Testing Accuracy: 0.9657\n",
      "\n"
     ]
    },
    {
     "name": "stdout",
     "output_type": "stream",
     "text": [
      "Epoch 190, Loss 0.0391\n",
      "Training Accuracy: 0.9588, Testing Accuracy: 0.9662\n",
      "\n"
     ]
    },
    {
     "name": "stdout",
     "output_type": "stream",
     "text": [
      "Epoch 200, Loss 0.0386\n",
      "Training Accuracy: 0.9590, Testing Accuracy: 0.9667\n",
      "\n"
     ]
    },
    {
     "name": "stdout",
     "output_type": "stream",
     "text": [
      "Epoch 210, Loss 0.0381\n",
      "Training Accuracy: 0.9594, Testing Accuracy: 0.9667\n",
      "\n"
     ]
    },
    {
     "name": "stdout",
     "output_type": "stream",
     "text": [
      "Epoch 220, Loss 0.0377\n",
      "Training Accuracy: 0.9599, Testing Accuracy: 0.9667\n",
      "\n"
     ]
    },
    {
     "name": "stdout",
     "output_type": "stream",
     "text": [
      "Epoch 230, Loss 0.0373\n",
      "Training Accuracy: 0.9599, Testing Accuracy: 0.9667\n",
      "\n"
     ]
    },
    {
     "name": "stdout",
     "output_type": "stream",
     "text": [
      "Epoch 240, Loss 0.037\n",
      "Training Accuracy: 0.9604, Testing Accuracy: 0.9667\n",
      "\n"
     ]
    },
    {
     "data": {
      "text/plain": [
       "0.024111098122868012"
      ]
     },
     "execution_count": 23,
     "metadata": {},
     "output_type": "execute_result"
    }
   ],
   "source": [
    "lr_learner.train_loop(dl)"
   ]
  },
  {
   "cell_type": "code",
   "execution_count": 24,
   "id": "ca410940",
   "metadata": {
    "execution": {
     "iopub.execute_input": "2022-10-31T00:54:28.726352Z",
     "iopub.status.busy": "2022-10-31T00:54:28.725643Z",
     "iopub.status.idle": "2022-10-31T00:54:28.983616Z",
     "shell.execute_reply": "2022-10-31T00:54:28.984113Z"
    },
    "papermill": {
     "duration": 0.31669,
     "end_time": "2022-10-31T00:54:28.984259",
     "exception": false,
     "start_time": "2022-10-31T00:54:28.667569",
     "status": "completed"
    },
    "tags": []
   },
   "outputs": [
    {
     "data": {
      "text/plain": [
       "<matplotlib.legend.Legend at 0x7f83cd116358>"
      ]
     },
     "execution_count": 24,
     "metadata": {},
     "output_type": "execute_result"
    },
    {
     "data": {
      "image/png": "[encoded data removed]",
      "text/plain": [
       "<Figure size 1080x720 with 1 Axes>"
      ]
     },
     "metadata": {
      "needs_background": "light"
     },
     "output_type": "display_data"
    }
   ],
   "source": [
    "#comparing the results of NN and LR\n",
    "plt.figure(figsize=(15,10))\n",
    "\n",
    "# Neural Network plots\n",
    "plt.plot(acc_nn.accuracies, 'r-', label = \"Training Accuracies - NN\")\n",
    "plt.plot(acc_nn.test_accuracies, 'g-', label = \"Testing Accuracies - NN\")\n",
    "\n",
    "# Logistic Regression plots\n",
    "plt.plot(acc_lr.accuracies, 'k-', label = \"Training Accuracies - LR\")\n",
    "plt.plot(acc_lr.test_accuracies, 'b-', label = \"Testing Accuracies - LR\")\n",
    "plt.legend()"
   ]
  },
  {
   "cell_type": "markdown",
   "id": "80dfb35c",
   "metadata": {
    "papermill": {
     "duration": 0.055694,
     "end_time": "2022-10-31T00:54:29.091177",
     "exception": false,
     "start_time": "2022-10-31T00:54:29.035483",
     "status": "completed"
    },
    "tags": []
   },
   "source": [
    "#### Plotting the outputs of this layer of the NN.\n"
   ]
  },
  {
   "cell_type": "code",
   "execution_count": 25,
   "id": "45eb2ff5",
   "metadata": {
    "execution": {
     "iopub.execute_input": "2022-10-31T00:54:29.203465Z",
     "iopub.status.busy": "2022-10-31T00:54:29.197167Z",
     "iopub.status.idle": "2022-10-31T00:54:29.225140Z",
     "shell.execute_reply": "2022-10-31T00:54:29.224436Z"
    },
    "papermill": {
     "duration": 0.082055,
     "end_time": "2022-10-31T00:54:29.225677",
     "exception": false,
     "start_time": "2022-10-31T00:54:29.143622",
     "status": "completed"
    },
    "tags": []
   },
   "outputs": [],
   "source": [
    "new_model = Model(layers[:-2])\n",
    "testing_plot = new_model(testing_data_x)"
   ]
  },
  {
   "cell_type": "code",
   "execution_count": 26,
   "id": "4c0a5485",
   "metadata": {
    "execution": {
     "iopub.execute_input": "2022-10-31T00:54:29.327939Z",
     "iopub.status.busy": "2022-10-31T00:54:29.327267Z",
     "iopub.status.idle": "2022-10-31T00:54:29.537422Z",
     "shell.execute_reply": "2022-10-31T00:54:29.536877Z"
    },
    "papermill": {
     "duration": 0.263319,
     "end_time": "2022-10-31T00:54:29.537547",
     "exception": false,
     "start_time": "2022-10-31T00:54:29.274228",
     "status": "completed"
    },
    "tags": []
   },
   "outputs": [
    {
     "data": {
      "text/plain": [
       "Text(0.5, 1.0, 'Outputs')"
      ]
     },
     "execution_count": 26,
     "metadata": {},
     "output_type": "execute_result"
    },
    {
     "data": {
      "image/png": "[encoded data removed]",
      "text/plain": [
       "<Figure size 576x504 with 1 Axes>"
      ]
     },
     "metadata": {
      "needs_background": "light"
     },
     "output_type": "display_data"
    }
   ],
   "source": [
    "# Plotting the scatter plot of points and color coding by class\n",
    "plt.figure(figsize=(8,7))\n",
    "plt.scatter(testing_plot[:,0], testing_plot[:,1], alpha = 0.1, c = y_test.ravel());\n",
    "plt.title('Outputs')"
   ]
  },
  {
   "cell_type": "markdown",
   "id": "a74fcf8f",
   "metadata": {
    "papermill": {
     "duration": 0.050015,
     "end_time": "2022-10-31T00:54:29.637102",
     "exception": false,
     "start_time": "2022-10-31T00:54:29.587087",
     "status": "completed"
    },
    "tags": []
   },
   "source": [
    "Probability contours"
   ]
  },
  {
   "cell_type": "code",
   "execution_count": 27,
   "id": "d0afc8e3",
   "metadata": {
    "execution": {
     "iopub.execute_input": "2022-10-31T00:54:29.738279Z",
     "iopub.status.busy": "2022-10-31T00:54:29.737596Z",
     "iopub.status.idle": "2022-10-31T00:54:29.752164Z",
     "shell.execute_reply": "2022-10-31T00:54:29.751504Z"
    },
    "papermill": {
     "duration": 0.066515,
     "end_time": "2022-10-31T00:54:29.752302",
     "exception": false,
     "start_time": "2022-10-31T00:54:29.685787",
     "status": "completed"
    },
    "tags": []
   },
   "outputs": [],
   "source": [
    "model_prob = Model(layers[-2:]) "
   ]
  },
  {
   "cell_type": "code",
   "execution_count": 28,
   "id": "9b96e238",
   "metadata": {
    "execution": {
     "iopub.execute_input": "2022-10-31T00:54:29.887754Z",
     "iopub.status.busy": "2022-10-31T00:54:29.887044Z",
     "iopub.status.idle": "2022-10-31T00:54:29.903108Z",
     "shell.execute_reply": "2022-10-31T00:54:29.904066Z"
    },
    "papermill": {
     "duration": 0.103629,
     "end_time": "2022-10-31T00:54:29.904348",
     "exception": false,
     "start_time": "2022-10-31T00:54:29.800719",
     "status": "completed"
    },
    "tags": []
   },
   "outputs": [],
   "source": [
    "#creating the x and y ranges according to the above generated plot.\n",
    "x_range = np.linspace(-4, 1, 100) \n",
    "y_range = np.linspace(-6, 6, 100) \n",
    "x_grid, y_grid = np.meshgrid(x_range, y_range) # x_grid and y_grig are of size 100 X 100\n",
    "\n",
    "# converting x_grid and y_grid to continuous arrays\n",
    "x_gridflat = np.ravel(x_grid)\n",
    "y_gridflat = np.ravel(y_grid)\n",
    "\n",
    "# The last layer of the current model takes two columns as input. Hence transpose of np.vstack() is required.\n",
    "X = np.vstack((x_gridflat, y_gridflat)).T\n",
    "\n",
    "prob_contour = model_prob(X).reshape(100,100) "
   ]
  },
  {
   "cell_type": "code",
   "execution_count": 29,
   "id": "da72499a",
   "metadata": {
    "execution": {
     "iopub.execute_input": "2022-10-31T00:54:30.012220Z",
     "iopub.status.busy": "2022-10-31T00:54:30.011547Z",
     "iopub.status.idle": "2022-10-31T00:54:30.295263Z",
     "shell.execute_reply": "2022-10-31T00:54:30.295788Z"
    },
    "papermill": {
     "duration": 0.340452,
     "end_time": "2022-10-31T00:54:30.295936",
     "exception": false,
     "start_time": "2022-10-31T00:54:29.955484",
     "status": "completed"
    },
    "tags": []
   },
   "outputs": [
    {
     "data": {
      "image/png": "[encoded data removed]",
      "text/plain": [
       "<Figure size 720x648 with 1 Axes>"
      ]
     },
     "metadata": {
      "needs_background": "light"
     },
     "output_type": "display_data"
    }
   ],
   "source": [
    "plt.figure(figsize=(10,9))\n",
    "plt.scatter(testing_plot[:,0], testing_plot[:,1], alpha = 0.1, c = y_test.ravel())\n",
    "contours = plt.contour(x_grid,y_grid,prob_contour)\n",
    "plt.title('Probability Contours')\n",
    "plt.clabel(contours, inline = True );"
   ]
  },
  {
   "cell_type": "code",
   "execution_count": null,
   "id": "e81b4ac7",
   "metadata": {
    "papermill": {
     "duration": 0.054309,
     "end_time": "2022-10-31T00:54:30.404491",
     "exception": false,
     "start_time": "2022-10-31T00:54:30.350182",
     "status": "completed"
    },
    "tags": []
   },
   "outputs": [],
   "source": []
  }
 ],
 "metadata": {
  "kernelspec": {
   "display_name": "Python 3",
   "language": "python",
   "name": "python3"
  },
  "language_info": {
   "codemirror_mode": {
    "name": "ipython",
    "version": 3
   },
   "file_extension": ".py",
   "mimetype": "text/x-python",
   "name": "python",
   "nbconvert_exporter": "python",
   "pygments_lexer": "ipython3",
   "version": "3.6.15"
  },
  "papermill": {
   "default_parameters": {},
   "duration": 111.787885,
   "end_time": "2022-10-31T00:54:30.879747",
   "environment_variables": {},
   "exception": null,
   "input_path": "2020-08-11-part2.ipynb",
   "output_path": "2020-08-11-part2.ipynb",
   "parameters": {},
   "start_time": "2022-10-31T00:52:39.091862",
   "version": "2.3.3"
  }
 },
 "nbformat": 4,
 "nbformat_minor": 5
}