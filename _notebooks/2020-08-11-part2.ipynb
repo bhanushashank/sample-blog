{
 "cells": [
  {
   "cell_type": "markdown",
   "id": "98380cd3",
   "metadata": {
    "papermill": {
     "duration": 0.029913,
     "end_time": "2022-07-20T20:10:57.178361",
     "exception": false,
     "start_time": "2022-07-20T20:10:57.148448",
     "status": "completed"
    },
    "tags": []
   },
   "source": [
    "# Distinguish Your Own Digits (DYOD)"
   ]
  },
  {
   "cell_type": "markdown",
   "id": "ef31240d",
   "metadata": {
    "papermill": {
     "duration": 0.024144,
     "end_time": "2022-07-20T20:10:57.227240",
     "exception": false,
     "start_time": "2022-07-20T20:10:57.203096",
     "status": "completed"
    },
    "tags": []
   },
   "source": [
    "You are going to write a classifier that distinguishes between the number 3 and number 8."
   ]
  },
  {
   "cell_type": "code",
   "execution_count": 1,
   "id": "b15c8646",
   "metadata": {
    "execution": {
     "iopub.execute_input": "2022-07-20T20:10:57.286012Z",
     "iopub.status.busy": "2022-07-20T20:10:57.285402Z",
     "iopub.status.idle": "2022-07-20T20:10:57.297215Z",
     "shell.execute_reply": "2022-07-20T20:10:57.296754Z"
    },
    "papermill": {
     "duration": 0.045979,
     "end_time": "2022-07-20T20:10:57.297335",
     "exception": false,
     "start_time": "2022-07-20T20:10:57.251356",
     "status": "completed"
    },
    "tags": []
   },
   "outputs": [],
   "source": [
    "%load_ext autoreload\n",
    "%autoreload 2"
   ]
  },
  {
   "cell_type": "code",
   "execution_count": 2,
   "id": "22ef38dc",
   "metadata": {
    "execution": {
     "iopub.execute_input": "2022-07-20T20:10:57.350482Z",
     "iopub.status.busy": "2022-07-20T20:10:57.349909Z",
     "iopub.status.idle": "2022-07-20T20:10:57.869685Z",
     "shell.execute_reply": "2022-07-20T20:10:57.869192Z"
    },
    "papermill": {
     "duration": 0.548177,
     "end_time": "2022-07-20T20:10:57.869805",
     "exception": false,
     "start_time": "2022-07-20T20:10:57.321628",
     "status": "completed"
    },
    "tags": []
   },
   "outputs": [],
   "source": [
    "%matplotlib inline\n",
    "import numpy as np\n",
    "import matplotlib.pyplot as plt\n",
    "import pandas as pd"
   ]
  },
  {
   "cell_type": "markdown",
   "id": "ba036198",
   "metadata": {
    "papermill": {
     "duration": 0.024265,
     "end_time": "2022-07-20T20:10:57.918180",
     "exception": false,
     "start_time": "2022-07-20T20:10:57.893915",
     "status": "completed"
    },
    "tags": []
   },
   "source": [
    "From the command line run `pip install mnist`. This is a library that will help you bring down the mnist dataset. If you run this from a notebook, you need to put  `!pip install mnist` in a cell by itself."
   ]
  },
  {
   "cell_type": "code",
   "execution_count": 3,
   "id": "bb6ad8a1",
   "metadata": {
    "execution": {
     "iopub.execute_input": "2022-07-20T20:10:57.971028Z",
     "iopub.status.busy": "2022-07-20T20:10:57.970419Z",
     "iopub.status.idle": "2022-07-20T20:10:59.630454Z",
     "shell.execute_reply": "2022-07-20T20:10:59.630899Z"
    },
    "papermill": {
     "duration": 1.688772,
     "end_time": "2022-07-20T20:10:59.631038",
     "exception": false,
     "start_time": "2022-07-20T20:10:57.942266",
     "status": "completed"
    },
    "tags": []
   },
   "outputs": [
    {
     "name": "stdout",
     "output_type": "stream",
     "text": [
      "Collecting mnist\r\n"
     ]
    },
    {
     "name": "stdout",
     "output_type": "stream",
     "text": [
      "  Downloading mnist-0.2.2-py2.py3-none-any.whl (3.5 kB)\r\n",
      "Requirement already satisfied: numpy in /opt/hostedtoolcache/Python/3.6.15/x64/lib/python3.6/site-packages (from mnist) (1.19.5)\r\n"
     ]
    },
    {
     "name": "stdout",
     "output_type": "stream",
     "text": [
      "Installing collected packages: mnist\r\n",
      "Successfully installed mnist-0.2.2\r\n"
     ]
    }
   ],
   "source": [
    "!pip install mnist"
   ]
  },
  {
   "cell_type": "markdown",
   "id": "69df9c9a",
   "metadata": {
    "papermill": {
     "duration": 0.025311,
     "end_time": "2022-07-20T20:10:59.681520",
     "exception": false,
     "start_time": "2022-07-20T20:10:59.656209",
     "status": "completed"
    },
    "tags": []
   },
   "source": [
    "## Preparing the Data"
   ]
  },
  {
   "cell_type": "code",
   "execution_count": 4,
   "id": "7f69d806",
   "metadata": {
    "execution": {
     "iopub.execute_input": "2022-07-20T20:10:59.735458Z",
     "iopub.status.busy": "2022-07-20T20:10:59.734884Z",
     "iopub.status.idle": "2022-07-20T20:10:59.751583Z",
     "shell.execute_reply": "2022-07-20T20:10:59.751107Z"
    },
    "papermill": {
     "duration": 0.045336,
     "end_time": "2022-07-20T20:10:59.751709",
     "exception": false,
     "start_time": "2022-07-20T20:10:59.706373",
     "status": "completed"
    },
    "tags": []
   },
   "outputs": [],
   "source": [
    "import mnist"
   ]
  },
  {
   "cell_type": "code",
   "execution_count": 5,
   "id": "a411e44f",
   "metadata": {
    "execution": {
     "iopub.execute_input": "2022-07-20T20:10:59.805411Z",
     "iopub.status.busy": "2022-07-20T20:10:59.804827Z",
     "iopub.status.idle": "2022-07-20T20:11:00.511168Z",
     "shell.execute_reply": "2022-07-20T20:11:00.510662Z"
    },
    "papermill": {
     "duration": 0.734645,
     "end_time": "2022-07-20T20:11:00.511282",
     "exception": false,
     "start_time": "2022-07-20T20:10:59.776637",
     "status": "completed"
    },
    "tags": []
   },
   "outputs": [],
   "source": [
    "train_images = mnist.train_images()\n",
    "train_labels = mnist.train_labels()"
   ]
  },
  {
   "cell_type": "code",
   "execution_count": 6,
   "id": "dceab3a5",
   "metadata": {
    "execution": {
     "iopub.execute_input": "2022-07-20T20:11:00.565900Z",
     "iopub.status.busy": "2022-07-20T20:11:00.565317Z",
     "iopub.status.idle": "2022-07-20T20:11:00.580864Z",
     "shell.execute_reply": "2022-07-20T20:11:00.580408Z"
    },
    "papermill": {
     "duration": 0.044609,
     "end_time": "2022-07-20T20:11:00.580969",
     "exception": false,
     "start_time": "2022-07-20T20:11:00.536360",
     "status": "completed"
    },
    "tags": []
   },
   "outputs": [
    {
     "data": {
      "text/plain": [
       "((60000, 28, 28), (60000,))"
      ]
     },
     "execution_count": 6,
     "metadata": {},
     "output_type": "execute_result"
    }
   ],
   "source": [
    "train_images.shape, train_labels.shape"
   ]
  },
  {
   "cell_type": "code",
   "execution_count": 7,
   "id": "f50dc2bb",
   "metadata": {
    "execution": {
     "iopub.execute_input": "2022-07-20T20:11:00.635785Z",
     "iopub.status.busy": "2022-07-20T20:11:00.635183Z",
     "iopub.status.idle": "2022-07-20T20:11:00.870135Z",
     "shell.execute_reply": "2022-07-20T20:11:00.869630Z"
    },
    "papermill": {
     "duration": 0.264068,
     "end_time": "2022-07-20T20:11:00.870247",
     "exception": false,
     "start_time": "2022-07-20T20:11:00.606179",
     "status": "completed"
    },
    "tags": []
   },
   "outputs": [],
   "source": [
    "test_images = mnist.test_images()\n",
    "test_labels = mnist.test_labels()"
   ]
  },
  {
   "cell_type": "code",
   "execution_count": 8,
   "id": "fc38cf1b",
   "metadata": {
    "execution": {
     "iopub.execute_input": "2022-07-20T20:11:00.925213Z",
     "iopub.status.busy": "2022-07-20T20:11:00.924616Z",
     "iopub.status.idle": "2022-07-20T20:11:00.939258Z",
     "shell.execute_reply": "2022-07-20T20:11:00.938791Z"
    },
    "papermill": {
     "duration": 0.043561,
     "end_time": "2022-07-20T20:11:00.939366",
     "exception": false,
     "start_time": "2022-07-20T20:11:00.895805",
     "status": "completed"
    },
    "tags": []
   },
   "outputs": [
    {
     "data": {
      "text/plain": [
       "((10000, 28, 28), (10000,))"
      ]
     },
     "execution_count": 8,
     "metadata": {},
     "output_type": "execute_result"
    }
   ],
   "source": [
    "test_images.shape, test_labels.shape"
   ]
  },
  {
   "cell_type": "code",
   "execution_count": 9,
   "id": "f9ed8fe0",
   "metadata": {
    "execution": {
     "iopub.execute_input": "2022-07-20T20:11:00.994561Z",
     "iopub.status.busy": "2022-07-20T20:11:00.993975Z",
     "iopub.status.idle": "2022-07-20T20:11:01.130169Z",
     "shell.execute_reply": "2022-07-20T20:11:01.130621Z"
    },
    "papermill": {
     "duration": 0.165855,
     "end_time": "2022-07-20T20:11:01.130755",
     "exception": false,
     "start_time": "2022-07-20T20:11:00.964900",
     "status": "completed"
    },
    "tags": []
   },
   "outputs": [
    {
     "name": "stdout",
     "output_type": "stream",
     "text": [
      "2\n"
     ]
    },
    {
     "data": {
      "text/plain": [
       "<matplotlib.image.AxesImage at 0x7fea8ce1a4e0>"
      ]
     },
     "execution_count": 9,
     "metadata": {},
     "output_type": "execute_result"
    },
    {
     "data": {
      "image/png": "[encoded data removed]",
      "text/plain": [
       "<Figure size 432x288 with 1 Axes>"
      ]
     },
     "metadata": {
      "needs_background": "light"
     },
     "output_type": "display_data"
    }
   ],
   "source": [
    "image_index = 7776 # You may select anything up to 60,000\n",
    "print(train_labels[image_index]) \n",
    "plt.imshow(train_images[image_index], cmap='Greys')"
   ]
  },
  {
   "cell_type": "markdown",
   "id": "a8d2388d",
   "metadata": {
    "papermill": {
     "duration": 0.027568,
     "end_time": "2022-07-20T20:11:01.185203",
     "exception": false,
     "start_time": "2022-07-20T20:11:01.157635",
     "status": "completed"
    },
    "tags": []
   },
   "source": [
    "## Filter data to get 3 and 8 out"
   ]
  },
  {
   "cell_type": "code",
   "execution_count": 10,
   "id": "776f7fc7",
   "metadata": {
    "execution": {
     "iopub.execute_input": "2022-07-20T20:11:01.242945Z",
     "iopub.status.busy": "2022-07-20T20:11:01.242369Z",
     "iopub.status.idle": "2022-07-20T20:11:01.260891Z",
     "shell.execute_reply": "2022-07-20T20:11:01.260438Z"
    },
    "papermill": {
     "duration": 0.049239,
     "end_time": "2022-07-20T20:11:01.260998",
     "exception": false,
     "start_time": "2022-07-20T20:11:01.211759",
     "status": "completed"
    },
    "tags": []
   },
   "outputs": [],
   "source": [
    "train_filter = np.where((train_labels == 3 ) | (train_labels == 8))\n",
    "test_filter = np.where((test_labels == 3) | (test_labels == 8))\n",
    "X_train, y_train = train_images[train_filter], train_labels[train_filter]\n",
    "X_test, y_test = test_images[test_filter], test_labels[test_filter]"
   ]
  },
  {
   "cell_type": "markdown",
   "id": "948f0b7e",
   "metadata": {
    "papermill": {
     "duration": 0.026911,
     "end_time": "2022-07-20T20:11:01.314897",
     "exception": false,
     "start_time": "2022-07-20T20:11:01.287986",
     "status": "completed"
    },
    "tags": []
   },
   "source": [
    "We normalize the pizel values in the 0 to 1 range"
   ]
  },
  {
   "cell_type": "code",
   "execution_count": 11,
   "id": "ee4c2166",
   "metadata": {
    "execution": {
     "iopub.execute_input": "2022-07-20T20:11:01.371482Z",
     "iopub.status.busy": "2022-07-20T20:11:01.370932Z",
     "iopub.status.idle": "2022-07-20T20:11:01.413822Z",
     "shell.execute_reply": "2022-07-20T20:11:01.413334Z"
    },
    "papermill": {
     "duration": 0.072647,
     "end_time": "2022-07-20T20:11:01.413940",
     "exception": false,
     "start_time": "2022-07-20T20:11:01.341293",
     "status": "completed"
    },
    "tags": []
   },
   "outputs": [],
   "source": [
    "X_train = X_train/255.\n",
    "X_test = X_test/255."
   ]
  },
  {
   "cell_type": "markdown",
   "id": "ddcf4fab",
   "metadata": {
    "papermill": {
     "duration": 0.026904,
     "end_time": "2022-07-20T20:11:01.467550",
     "exception": false,
     "start_time": "2022-07-20T20:11:01.440646",
     "status": "completed"
    },
    "tags": []
   },
   "source": [
    "And setup the labels as 1 (when the digit is 3) and 0 (when the digit is 8)"
   ]
  },
  {
   "cell_type": "code",
   "execution_count": 12,
   "id": "7dc908f2",
   "metadata": {
    "execution": {
     "iopub.execute_input": "2022-07-20T20:11:01.524729Z",
     "iopub.status.busy": "2022-07-20T20:11:01.524141Z",
     "iopub.status.idle": "2022-07-20T20:11:01.537205Z",
     "shell.execute_reply": "2022-07-20T20:11:01.536743Z"
    },
    "papermill": {
     "duration": 0.043294,
     "end_time": "2022-07-20T20:11:01.537317",
     "exception": false,
     "start_time": "2022-07-20T20:11:01.494023",
     "status": "completed"
    },
    "tags": []
   },
   "outputs": [],
   "source": [
    "y_train = 1*(y_train==3)\n",
    "y_test = 1*(y_test==3)"
   ]
  },
  {
   "cell_type": "code",
   "execution_count": 13,
   "id": "01e4e969",
   "metadata": {
    "execution": {
     "iopub.execute_input": "2022-07-20T20:11:01.593800Z",
     "iopub.status.busy": "2022-07-20T20:11:01.593226Z",
     "iopub.status.idle": "2022-07-20T20:11:01.607635Z",
     "shell.execute_reply": "2022-07-20T20:11:01.607159Z"
    },
    "papermill": {
     "duration": 0.044019,
     "end_time": "2022-07-20T20:11:01.607742",
     "exception": false,
     "start_time": "2022-07-20T20:11:01.563723",
     "status": "completed"
    },
    "tags": []
   },
   "outputs": [
    {
     "data": {
      "text/plain": [
       "((11982, 28, 28), (1984, 28, 28))"
      ]
     },
     "execution_count": 13,
     "metadata": {},
     "output_type": "execute_result"
    }
   ],
   "source": [
    "X_train.shape, X_test.shape"
   ]
  },
  {
   "cell_type": "markdown",
   "id": "5ccf3f85",
   "metadata": {
    "papermill": {
     "duration": 0.026746,
     "end_time": "2022-07-20T20:11:01.661201",
     "exception": false,
     "start_time": "2022-07-20T20:11:01.634455",
     "status": "completed"
    },
    "tags": []
   },
   "source": [
    "We reshape the data to flatten the image pixels into a set of features or co-variates:"
   ]
  },
  {
   "cell_type": "code",
   "execution_count": 14,
   "id": "5286a4a3",
   "metadata": {
    "execution": {
     "iopub.execute_input": "2022-07-20T20:11:01.719695Z",
     "iopub.status.busy": "2022-07-20T20:11:01.719085Z",
     "iopub.status.idle": "2022-07-20T20:11:01.734112Z",
     "shell.execute_reply": "2022-07-20T20:11:01.733650Z"
    },
    "papermill": {
     "duration": 0.045617,
     "end_time": "2022-07-20T20:11:01.734220",
     "exception": false,
     "start_time": "2022-07-20T20:11:01.688603",
     "status": "completed"
    },
    "tags": []
   },
   "outputs": [
    {
     "data": {
      "text/plain": [
       "((11982, 784), (1984, 784))"
      ]
     },
     "execution_count": 14,
     "metadata": {},
     "output_type": "execute_result"
    }
   ],
   "source": [
    "X_train = X_train.reshape(X_train.shape[0], -1)\n",
    "X_test = X_test.reshape(X_test.shape[0], -1)\n",
    "X_train.shape, X_test.shape"
   ]
  },
  {
   "cell_type": "code",
   "execution_count": 15,
   "id": "73c5f88a",
   "metadata": {
    "execution": {
     "iopub.execute_input": "2022-07-20T20:11:01.795400Z",
     "iopub.status.busy": "2022-07-20T20:11:01.794814Z",
     "iopub.status.idle": "2022-07-20T20:11:01.814432Z",
     "shell.execute_reply": "2022-07-20T20:11:01.813969Z"
    },
    "papermill": {
     "duration": 0.05314,
     "end_time": "2022-07-20T20:11:01.814539",
     "exception": false,
     "start_time": "2022-07-20T20:11:01.761399",
     "status": "completed"
    },
    "tags": []
   },
   "outputs": [],
   "source": [
    "#Impoting functions from 'Kudzu'\n",
    "from kudzu.model import Model\n",
    "from kudzu.train import Learner\n",
    "from kudzu.optim import GD\n",
    "from kudzu.data import Data, Sampler,Dataloader\n",
    "\n",
    "from kudzu.callbacks import AccCallback\n",
    "from kudzu.callbacks import ClfCallback\n",
    "\n",
    "from kudzu.loss import MSE\n",
    "\n",
    "from kudzu.layer import Sigmoid,Relu\n",
    "from kudzu.layer import Affine"
   ]
  },
  {
   "cell_type": "markdown",
   "id": "bc01172a",
   "metadata": {
    "papermill": {
     "duration": 0.027343,
     "end_time": "2022-07-20T20:11:01.869284",
     "exception": false,
     "start_time": "2022-07-20T20:11:01.841941",
     "status": "completed"
    },
    "tags": []
   },
   "source": [
    "### Let us create a `Config` class, to store important parameters. \n",
    "This class essentially plays the role of a dictionary."
   ]
  },
  {
   "cell_type": "code",
   "execution_count": 16,
   "id": "978281aa",
   "metadata": {
    "execution": {
     "iopub.execute_input": "2022-07-20T20:11:01.927417Z",
     "iopub.status.busy": "2022-07-20T20:11:01.926834Z",
     "iopub.status.idle": "2022-07-20T20:11:01.940652Z",
     "shell.execute_reply": "2022-07-20T20:11:01.940200Z"
    },
    "papermill": {
     "duration": 0.044312,
     "end_time": "2022-07-20T20:11:01.940754",
     "exception": false,
     "start_time": "2022-07-20T20:11:01.896442",
     "status": "completed"
    },
    "tags": []
   },
   "outputs": [],
   "source": [
    "class Config:\n",
    "    pass\n",
    "config = Config()\n",
    "config.lr = 0.001\n",
    "config.num_epochs = 250\n",
    "config.bs = 50"
   ]
  },
  {
   "cell_type": "markdown",
   "id": "1385fa59",
   "metadata": {
    "papermill": {
     "duration": 0.027277,
     "end_time": "2022-07-20T20:11:01.995232",
     "exception": false,
     "start_time": "2022-07-20T20:11:01.967955",
     "status": "completed"
    },
    "tags": []
   },
   "source": [
    "### Running Models with the Training data\n",
    "Details about the network layers:\n",
    "- A first affine layer has 784 inputs and does 100 affine transforms. These are followed by a Relu\n",
    "- A second affine layer has 100 inputs from the 100 activations of the past layer, and does 100 affine transforms. These are followed by a Relu\n",
    "- A third affine layer has 100 activations and does 2 affine transformations to create an embedding for visualization. There is no non-linearity here.\n",
    "- A final \"logistic regression\" which has an affine transform from 2 inputs to 1 output, which is squeezed through a sigmoid.\n"
   ]
  },
  {
   "cell_type": "code",
   "execution_count": 17,
   "id": "2b9c66db",
   "metadata": {
    "execution": {
     "iopub.execute_input": "2022-07-20T20:11:02.053649Z",
     "iopub.status.busy": "2022-07-20T20:11:02.053077Z",
     "iopub.status.idle": "2022-07-20T20:11:02.066101Z",
     "shell.execute_reply": "2022-07-20T20:11:02.066533Z"
    },
    "papermill": {
     "duration": 0.044113,
     "end_time": "2022-07-20T20:11:02.066652",
     "exception": false,
     "start_time": "2022-07-20T20:11:02.022539",
     "status": "completed"
    },
    "tags": []
   },
   "outputs": [],
   "source": [
    "data = Data(X_train, y_train.reshape(-1,1))\n",
    "sampler = Sampler(data, config.bs, shuffle=True)\n",
    "\n",
    "dl = Dataloader(data, sampler)\n",
    "\n",
    "opt = GD(config.lr)\n",
    "loss = MSE()"
   ]
  },
  {
   "cell_type": "code",
   "execution_count": 18,
   "id": "b275e4c2",
   "metadata": {
    "execution": {
     "iopub.execute_input": "2022-07-20T20:11:02.125930Z",
     "iopub.status.busy": "2022-07-20T20:11:02.125355Z",
     "iopub.status.idle": "2022-07-20T20:11:02.138614Z",
     "shell.execute_reply": "2022-07-20T20:11:02.138138Z"
    },
    "papermill": {
     "duration": 0.044705,
     "end_time": "2022-07-20T20:11:02.138716",
     "exception": false,
     "start_time": "2022-07-20T20:11:02.094011",
     "status": "completed"
    },
    "tags": []
   },
   "outputs": [],
   "source": [
    "training_data_x = X_train\n",
    "testing_data_x = X_test\n",
    "training_data_y = y_train.reshape(-1,1)\n",
    "testing_data_y = y_test.reshape(-1,1)"
   ]
  },
  {
   "cell_type": "code",
   "execution_count": 19,
   "id": "76951160",
   "metadata": {
    "execution": {
     "iopub.execute_input": "2022-07-20T20:11:02.198189Z",
     "iopub.status.busy": "2022-07-20T20:11:02.197594Z",
     "iopub.status.idle": "2022-07-20T20:11:02.215532Z",
     "shell.execute_reply": "2022-07-20T20:11:02.215067Z"
    },
    "papermill": {
     "duration": 0.049162,
     "end_time": "2022-07-20T20:11:02.215658",
     "exception": false,
     "start_time": "2022-07-20T20:11:02.166496",
     "status": "completed"
    },
    "tags": []
   },
   "outputs": [
    {
     "name": "stdout",
     "output_type": "stream",
     "text": [
      "xavier\n",
      "xavier\n",
      "xavier\n",
      "xavier\n",
      "xavier\n"
     ]
    }
   ],
   "source": [
    "layers = [Affine(\"first\", 784, 100), Relu(\"first\"), Affine(\"second\", 100, 100), Relu(\"second\"), Affine(\"third\", 100, 2), Affine(\"last\", 2, 1), Sigmoid(\"last\")]\n",
    "model_nn = Model(layers)\n",
    "model_lr = Model([Affine(\"logits\", 784, 1), Sigmoid(\"sigmoid\")])"
   ]
  },
  {
   "cell_type": "code",
   "execution_count": 20,
   "id": "6eede77a",
   "metadata": {
    "execution": {
     "iopub.execute_input": "2022-07-20T20:11:02.274536Z",
     "iopub.status.busy": "2022-07-20T20:11:02.273953Z",
     "iopub.status.idle": "2022-07-20T20:11:02.286627Z",
     "shell.execute_reply": "2022-07-20T20:11:02.287153Z"
    },
    "papermill": {
     "duration": 0.044168,
     "end_time": "2022-07-20T20:11:02.287270",
     "exception": false,
     "start_time": "2022-07-20T20:11:02.243102",
     "status": "completed"
    },
    "tags": []
   },
   "outputs": [],
   "source": [
    "nn_learner = Learner(loss, model_nn, opt, config.num_epochs)\n",
    "acc_nn = ClfCallback(nn_learner, config.bs, training_data_x , testing_data_x, training_data_y, testing_data_y)\n",
    "nn_learner.set_callbacks([acc_nn])"
   ]
  },
  {
   "cell_type": "code",
   "execution_count": 21,
   "id": "877b6cc7",
   "metadata": {
    "execution": {
     "iopub.execute_input": "2022-07-20T20:11:02.346044Z",
     "iopub.status.busy": "2022-07-20T20:11:02.345461Z",
     "iopub.status.idle": "2022-07-20T20:11:02.358823Z",
     "shell.execute_reply": "2022-07-20T20:11:02.358368Z"
    },
    "papermill": {
     "duration": 0.043869,
     "end_time": "2022-07-20T20:11:02.358927",
     "exception": false,
     "start_time": "2022-07-20T20:11:02.315058",
     "status": "completed"
    },
    "tags": []
   },
   "outputs": [],
   "source": [
    "lr_learner = Learner(loss, model_lr, opt, config.num_epochs)\n",
    "acc_lr = ClfCallback(lr_learner, config.bs, training_data_x , testing_data_x, training_data_y, testing_data_y)\n",
    "lr_learner.set_callbacks([acc_lr])"
   ]
  },
  {
   "cell_type": "code",
   "execution_count": 22,
   "id": "d9b133c3",
   "metadata": {
    "execution": {
     "iopub.execute_input": "2022-07-20T20:11:02.418271Z",
     "iopub.status.busy": "2022-07-20T20:11:02.417699Z",
     "iopub.status.idle": "2022-07-20T20:13:59.293342Z",
     "shell.execute_reply": "2022-07-20T20:13:59.293879Z"
    },
    "papermill": {
     "duration": 176.907531,
     "end_time": "2022-07-20T20:13:59.294015",
     "exception": false,
     "start_time": "2022-07-20T20:11:02.386484",
     "status": "completed"
    },
    "tags": []
   },
   "outputs": [
    {
     "name": "stdout",
     "output_type": "stream",
     "text": [
      "Epoch 0, Loss 0.2412\n",
      "Training Accuracy: 0.6390, Testing Accuracy: 0.6472\n",
      "\n"
     ]
    },
    {
     "name": "stdout",
     "output_type": "stream",
     "text": [
      "Epoch 10, Loss 0.1124\n",
      "Training Accuracy: 0.9026, Testing Accuracy: 0.9133\n",
      "\n"
     ]
    },
    {
     "name": "stdout",
     "output_type": "stream",
     "text": [
      "Epoch 20, Loss 0.0647\n",
      "Training Accuracy: 0.9348, Testing Accuracy: 0.9456\n",
      "\n"
     ]
    },
    {
     "name": "stdout",
     "output_type": "stream",
     "text": [
      "Epoch 30, Loss 0.0484\n",
      "Training Accuracy: 0.9489, Testing Accuracy: 0.9637\n",
      "\n"
     ]
    },
    {
     "name": "stdout",
     "output_type": "stream",
     "text": [
      "Epoch 40, Loss 0.0407\n",
      "Training Accuracy: 0.9549, Testing Accuracy: 0.9667\n",
      "\n"
     ]
    },
    {
     "name": "stdout",
     "output_type": "stream",
     "text": [
      "Epoch 50, Loss 0.0363\n",
      "Training Accuracy: 0.9590, Testing Accuracy: 0.9688\n",
      "\n"
     ]
    },
    {
     "name": "stdout",
     "output_type": "stream",
     "text": [
      "Epoch 60, Loss 0.0335\n",
      "Training Accuracy: 0.9620, Testing Accuracy: 0.9708\n",
      "\n"
     ]
    },
    {
     "name": "stdout",
     "output_type": "stream",
     "text": [
      "Epoch 70, Loss 0.0314\n",
      "Training Accuracy: 0.9644, Testing Accuracy: 0.9708\n",
      "\n"
     ]
    },
    {
     "name": "stdout",
     "output_type": "stream",
     "text": [
      "Epoch 80, Loss 0.0297\n",
      "Training Accuracy: 0.9660, Testing Accuracy: 0.9703\n",
      "\n"
     ]
    },
    {
     "name": "stdout",
     "output_type": "stream",
     "text": [
      "Epoch 90, Loss 0.0284\n",
      "Training Accuracy: 0.9672, Testing Accuracy: 0.9703\n",
      "\n"
     ]
    },
    {
     "name": "stdout",
     "output_type": "stream",
     "text": [
      "Epoch 100, Loss 0.0273\n",
      "Training Accuracy: 0.9676, Testing Accuracy: 0.9708\n",
      "\n"
     ]
    },
    {
     "name": "stdout",
     "output_type": "stream",
     "text": [
      "Epoch 110, Loss 0.0263\n",
      "Training Accuracy: 0.9685, Testing Accuracy: 0.9713\n",
      "\n"
     ]
    },
    {
     "name": "stdout",
     "output_type": "stream",
     "text": [
      "Epoch 120, Loss 0.0255\n",
      "Training Accuracy: 0.9700, Testing Accuracy: 0.9723\n",
      "\n"
     ]
    },
    {
     "name": "stdout",
     "output_type": "stream",
     "text": [
      "Epoch 130, Loss 0.0248\n",
      "Training Accuracy: 0.9709, Testing Accuracy: 0.9723\n",
      "\n"
     ]
    },
    {
     "name": "stdout",
     "output_type": "stream",
     "text": [
      "Epoch 140, Loss 0.0241\n",
      "Training Accuracy: 0.9715, Testing Accuracy: 0.9718\n",
      "\n"
     ]
    },
    {
     "name": "stdout",
     "output_type": "stream",
     "text": [
      "Epoch 150, Loss 0.0235\n",
      "Training Accuracy: 0.9720, Testing Accuracy: 0.9728\n",
      "\n"
     ]
    },
    {
     "name": "stdout",
     "output_type": "stream",
     "text": [
      "Epoch 160, Loss 0.0229\n",
      "Training Accuracy: 0.9728, Testing Accuracy: 0.9733\n",
      "\n"
     ]
    },
    {
     "name": "stdout",
     "output_type": "stream",
     "text": [
      "Epoch 170, Loss 0.0224\n",
      "Training Accuracy: 0.9739, Testing Accuracy: 0.9728\n",
      "\n"
     ]
    },
    {
     "name": "stdout",
     "output_type": "stream",
     "text": [
      "Epoch 180, Loss 0.0219\n",
      "Training Accuracy: 0.9746, Testing Accuracy: 0.9728\n",
      "\n"
     ]
    },
    {
     "name": "stdout",
     "output_type": "stream",
     "text": [
      "Epoch 190, Loss 0.0214\n",
      "Training Accuracy: 0.9755, Testing Accuracy: 0.9728\n",
      "\n"
     ]
    },
    {
     "name": "stdout",
     "output_type": "stream",
     "text": [
      "Epoch 200, Loss 0.021\n",
      "Training Accuracy: 0.9762, Testing Accuracy: 0.9733\n",
      "\n"
     ]
    },
    {
     "name": "stdout",
     "output_type": "stream",
     "text": [
      "Epoch 210, Loss 0.0206\n",
      "Training Accuracy: 0.9766, Testing Accuracy: 0.9733\n",
      "\n"
     ]
    },
    {
     "name": "stdout",
     "output_type": "stream",
     "text": [
      "Epoch 220, Loss 0.0202\n",
      "Training Accuracy: 0.9771, Testing Accuracy: 0.9733\n",
      "\n"
     ]
    },
    {
     "name": "stdout",
     "output_type": "stream",
     "text": [
      "Epoch 230, Loss 0.0198\n",
      "Training Accuracy: 0.9773, Testing Accuracy: 0.9738\n",
      "\n"
     ]
    },
    {
     "name": "stdout",
     "output_type": "stream",
     "text": [
      "Epoch 240, Loss 0.0194\n",
      "Training Accuracy: 0.9775, Testing Accuracy: 0.9738\n",
      "\n"
     ]
    },
    {
     "data": {
      "text/plain": [
       "0.015187427637279052"
      ]
     },
     "execution_count": 22,
     "metadata": {},
     "output_type": "execute_result"
    }
   ],
   "source": [
    "nn_learner.train_loop(dl)"
   ]
  },
  {
   "cell_type": "code",
   "execution_count": 23,
   "id": "e0163366",
   "metadata": {
    "execution": {
     "iopub.execute_input": "2022-07-20T20:13:59.366697Z",
     "iopub.status.busy": "2022-07-20T20:13:59.366130Z",
     "iopub.status.idle": "2022-07-20T20:14:11.588967Z",
     "shell.execute_reply": "2022-07-20T20:14:11.589744Z"
    },
    "papermill": {
     "duration": 12.261207,
     "end_time": "2022-07-20T20:14:11.589881",
     "exception": false,
     "start_time": "2022-07-20T20:13:59.328674",
     "status": "completed"
    },
    "tags": []
   },
   "outputs": [
    {
     "name": "stdout",
     "output_type": "stream",
     "text": [
      "Epoch 0, Loss 0.2382\n",
      "Training Accuracy: 0.6894, Testing Accuracy: 0.6764\n",
      "\n"
     ]
    },
    {
     "name": "stdout",
     "output_type": "stream",
     "text": [
      "Epoch 10, Loss 0.1026\n",
      "Training Accuracy: 0.9075, Testing Accuracy: 0.9138\n",
      "\n"
     ]
    },
    {
     "name": "stdout",
     "output_type": "stream",
     "text": [
      "Epoch 20, Loss 0.0791\n",
      "Training Accuracy: 0.9270, Testing Accuracy: 0.9330\n",
      "\n"
     ]
    },
    {
     "name": "stdout",
     "output_type": "stream",
     "text": [
      "Epoch 30, Loss 0.0683\n",
      "Training Accuracy: 0.9356, Testing Accuracy: 0.9456\n",
      "\n"
     ]
    },
    {
     "name": "stdout",
     "output_type": "stream",
     "text": [
      "Epoch 40, Loss 0.0618\n",
      "Training Accuracy: 0.9406, Testing Accuracy: 0.9496\n",
      "\n"
     ]
    },
    {
     "name": "stdout",
     "output_type": "stream",
     "text": [
      "Epoch 50, Loss 0.0574\n",
      "Training Accuracy: 0.9440, Testing Accuracy: 0.9526\n",
      "\n"
     ]
    },
    {
     "name": "stdout",
     "output_type": "stream",
     "text": [
      "Epoch 60, Loss 0.0541\n",
      "Training Accuracy: 0.9463, Testing Accuracy: 0.9546\n",
      "\n"
     ]
    },
    {
     "name": "stdout",
     "output_type": "stream",
     "text": [
      "Epoch 70, Loss 0.0516\n",
      "Training Accuracy: 0.9490, Testing Accuracy: 0.9556\n",
      "\n"
     ]
    },
    {
     "name": "stdout",
     "output_type": "stream",
     "text": [
      "Epoch 80, Loss 0.0495\n",
      "Training Accuracy: 0.9503, Testing Accuracy: 0.9577\n",
      "\n"
     ]
    },
    {
     "name": "stdout",
     "output_type": "stream",
     "text": [
      "Epoch 90, Loss 0.0478\n",
      "Training Accuracy: 0.9518, Testing Accuracy: 0.9587\n",
      "\n"
     ]
    },
    {
     "name": "stdout",
     "output_type": "stream",
     "text": [
      "Epoch 100, Loss 0.0464\n",
      "Training Accuracy: 0.9528, Testing Accuracy: 0.9592\n",
      "\n"
     ]
    },
    {
     "name": "stdout",
     "output_type": "stream",
     "text": [
      "Epoch 110, Loss 0.0452\n",
      "Training Accuracy: 0.9529, Testing Accuracy: 0.9607\n",
      "\n"
     ]
    },
    {
     "name": "stdout",
     "output_type": "stream",
     "text": [
      "Epoch 120, Loss 0.0441\n",
      "Training Accuracy: 0.9538, Testing Accuracy: 0.9617\n",
      "\n"
     ]
    },
    {
     "name": "stdout",
     "output_type": "stream",
     "text": [
      "Epoch 130, Loss 0.0431\n",
      "Training Accuracy: 0.9543, Testing Accuracy: 0.9622\n",
      "\n"
     ]
    },
    {
     "name": "stdout",
     "output_type": "stream",
     "text": [
      "Epoch 140, Loss 0.0423\n",
      "Training Accuracy: 0.9554, Testing Accuracy: 0.9637\n",
      "\n"
     ]
    },
    {
     "name": "stdout",
     "output_type": "stream",
     "text": [
      "Epoch 150, Loss 0.0416\n",
      "Training Accuracy: 0.9563, Testing Accuracy: 0.9637\n",
      "\n"
     ]
    },
    {
     "name": "stdout",
     "output_type": "stream",
     "text": [
      "Epoch 160, Loss 0.0409\n",
      "Training Accuracy: 0.9571, Testing Accuracy: 0.9642\n",
      "\n"
     ]
    },
    {
     "name": "stdout",
     "output_type": "stream",
     "text": [
      "Epoch 170, Loss 0.0403\n",
      "Training Accuracy: 0.9578, Testing Accuracy: 0.9647\n",
      "\n"
     ]
    },
    {
     "name": "stdout",
     "output_type": "stream",
     "text": [
      "Epoch 180, Loss 0.0397\n",
      "Training Accuracy: 0.9586, Testing Accuracy: 0.9647\n",
      "\n"
     ]
    },
    {
     "name": "stdout",
     "output_type": "stream",
     "text": [
      "Epoch 190, Loss 0.0392\n",
      "Training Accuracy: 0.9589, Testing Accuracy: 0.9652\n",
      "\n"
     ]
    },
    {
     "name": "stdout",
     "output_type": "stream",
     "text": [
      "Epoch 200, Loss 0.0387\n",
      "Training Accuracy: 0.9591, Testing Accuracy: 0.9647\n",
      "\n"
     ]
    },
    {
     "name": "stdout",
     "output_type": "stream",
     "text": [
      "Epoch 210, Loss 0.0382\n",
      "Training Accuracy: 0.9594, Testing Accuracy: 0.9647\n",
      "\n"
     ]
    },
    {
     "name": "stdout",
     "output_type": "stream",
     "text": [
      "Epoch 220, Loss 0.0378\n",
      "Training Accuracy: 0.9595, Testing Accuracy: 0.9647\n",
      "\n"
     ]
    },
    {
     "name": "stdout",
     "output_type": "stream",
     "text": [
      "Epoch 230, Loss 0.0374\n",
      "Training Accuracy: 0.9596, Testing Accuracy: 0.9652\n",
      "\n"
     ]
    },
    {
     "name": "stdout",
     "output_type": "stream",
     "text": [
      "Epoch 240, Loss 0.0371\n",
      "Training Accuracy: 0.9601, Testing Accuracy: 0.9662\n",
      "\n"
     ]
    },
    {
     "data": {
      "text/plain": [
       "0.10002231871762492"
      ]
     },
     "execution_count": 23,
     "metadata": {},
     "output_type": "execute_result"
    }
   ],
   "source": [
    "lr_learner.train_loop(dl)"
   ]
  },
  {
   "cell_type": "code",
   "execution_count": 24,
   "id": "ca410940",
   "metadata": {
    "execution": {
     "iopub.execute_input": "2022-07-20T20:14:11.680253Z",
     "iopub.status.busy": "2022-07-20T20:14:11.679641Z",
     "iopub.status.idle": "2022-07-20T20:14:11.915831Z",
     "shell.execute_reply": "2022-07-20T20:14:11.916276Z"
    },
    "papermill": {
     "duration": 0.28501,
     "end_time": "2022-07-20T20:14:11.916408",
     "exception": false,
     "start_time": "2022-07-20T20:14:11.631398",
     "status": "completed"
    },
    "tags": []
   },
   "outputs": [
    {
     "data": {
      "text/plain": [
       "<matplotlib.legend.Legend at 0x7fea8c979c88>"
      ]
     },
     "execution_count": 24,
     "metadata": {},
     "output_type": "execute_result"
    },
    {
     "data": {
      "image/png": "[encoded data removed]",
      "text/plain": [
       "<Figure size 1080x720 with 1 Axes>"
      ]
     },
     "metadata": {
      "needs_background": "light"
     },
     "output_type": "display_data"
    }
   ],
   "source": [
    "#comparing the results of NN and LR\n",
    "plt.figure(figsize=(15,10))\n",
    "\n",
    "# Neural Network plots\n",
    "plt.plot(acc_nn.accuracies, 'r-', label = \"Training Accuracies - NN\")\n",
    "plt.plot(acc_nn.test_accuracies, 'g-', label = \"Testing Accuracies - NN\")\n",
    "\n",
    "# Logistic Regression plots\n",
    "plt.plot(acc_lr.accuracies, 'k-', label = \"Training Accuracies - LR\")\n",
    "plt.plot(acc_lr.test_accuracies, 'b-', label = \"Testing Accuracies - LR\")\n",
    "plt.legend()"
   ]
  },
  {
   "cell_type": "markdown",
   "id": "80dfb35c",
   "metadata": {
    "papermill": {
     "duration": 0.042836,
     "end_time": "2022-07-20T20:14:12.001565",
     "exception": false,
     "start_time": "2022-07-20T20:14:11.958729",
     "status": "completed"
    },
    "tags": []
   },
   "source": [
    "#### Plotting the outputs of this layer of the NN.\n"
   ]
  },
  {
   "cell_type": "code",
   "execution_count": 25,
   "id": "45eb2ff5",
   "metadata": {
    "execution": {
     "iopub.execute_input": "2022-07-20T20:14:12.090548Z",
     "iopub.status.busy": "2022-07-20T20:14:12.089965Z",
     "iopub.status.idle": "2022-07-20T20:14:12.130824Z",
     "shell.execute_reply": "2022-07-20T20:14:12.130331Z"
    },
    "papermill": {
     "duration": 0.087036,
     "end_time": "2022-07-20T20:14:12.130946",
     "exception": false,
     "start_time": "2022-07-20T20:14:12.043910",
     "status": "completed"
    },
    "tags": []
   },
   "outputs": [],
   "source": [
    "new_model = Model(layers[:-2])\n",
    "testing_plot = new_model(testing_data_x)"
   ]
  },
  {
   "cell_type": "code",
   "execution_count": 26,
   "id": "4c0a5485",
   "metadata": {
    "execution": {
     "iopub.execute_input": "2022-07-20T20:14:12.224060Z",
     "iopub.status.busy": "2022-07-20T20:14:12.223468Z",
     "iopub.status.idle": "2022-07-20T20:14:12.410862Z",
     "shell.execute_reply": "2022-07-20T20:14:12.410298Z"
    },
    "papermill": {
     "duration": 0.23582,
     "end_time": "2022-07-20T20:14:12.410975",
     "exception": false,
     "start_time": "2022-07-20T20:14:12.175155",
     "status": "completed"
    },
    "tags": []
   },
   "outputs": [
    {
     "data": {
      "text/plain": [
       "Text(0.5, 1.0, 'Outputs')"
      ]
     },
     "execution_count": 26,
     "metadata": {},
     "output_type": "execute_result"
    },
    {
     "data": {
      "image/png": "[encoded data removed]",
      "text/plain": [
       "<Figure size 576x504 with 1 Axes>"
      ]
     },
     "metadata": {
      "needs_background": "light"
     },
     "output_type": "display_data"
    }
   ],
   "source": [
    "# Plotting the scatter plot of points and color coding by class\n",
    "plt.figure(figsize=(8,7))\n",
    "plt.scatter(testing_plot[:,0], testing_plot[:,1], alpha = 0.1, c = y_test.ravel());\n",
    "plt.title('Outputs')"
   ]
  },
  {
   "cell_type": "markdown",
   "id": "a74fcf8f",
   "metadata": {
    "papermill": {
     "duration": 0.044195,
     "end_time": "2022-07-20T20:14:12.499619",
     "exception": false,
     "start_time": "2022-07-20T20:14:12.455424",
     "status": "completed"
    },
    "tags": []
   },
   "source": [
    "Probability contours"
   ]
  },
  {
   "cell_type": "code",
   "execution_count": 27,
   "id": "d0afc8e3",
   "metadata": {
    "execution": {
     "iopub.execute_input": "2022-07-20T20:14:12.614630Z",
     "iopub.status.busy": "2022-07-20T20:14:12.614045Z",
     "iopub.status.idle": "2022-07-20T20:14:12.627239Z",
     "shell.execute_reply": "2022-07-20T20:14:12.626784Z"
    },
    "papermill": {
     "duration": 0.083547,
     "end_time": "2022-07-20T20:14:12.627346",
     "exception": false,
     "start_time": "2022-07-20T20:14:12.543799",
     "status": "completed"
    },
    "tags": []
   },
   "outputs": [],
   "source": [
    "model_prob = Model(layers[-2:]) "
   ]
  },
  {
   "cell_type": "code",
   "execution_count": 28,
   "id": "9b96e238",
   "metadata": {
    "execution": {
     "iopub.execute_input": "2022-07-20T20:14:12.720571Z",
     "iopub.status.busy": "2022-07-20T20:14:12.719981Z",
     "iopub.status.idle": "2022-07-20T20:14:12.735660Z",
     "shell.execute_reply": "2022-07-20T20:14:12.735158Z"
    },
    "papermill": {
     "duration": 0.064324,
     "end_time": "2022-07-20T20:14:12.735772",
     "exception": false,
     "start_time": "2022-07-20T20:14:12.671448",
     "status": "completed"
    },
    "tags": []
   },
   "outputs": [],
   "source": [
    "#creating the x and y ranges according to the above generated plot.\n",
    "x_range = np.linspace(-4, 1, 100) \n",
    "y_range = np.linspace(-6, 6, 100) \n",
    "x_grid, y_grid = np.meshgrid(x_range, y_range) # x_grid and y_grig are of size 100 X 100\n",
    "\n",
    "# converting x_grid and y_grid to continuous arrays\n",
    "x_gridflat = np.ravel(x_grid)\n",
    "y_gridflat = np.ravel(y_grid)\n",
    "\n",
    "# The last layer of the current model takes two columns as input. Hence transpose of np.vstack() is required.\n",
    "X = np.vstack((x_gridflat, y_gridflat)).T\n",
    "\n",
    "prob_contour = model_prob(X).reshape(100,100) "
   ]
  },
  {
   "cell_type": "code",
   "execution_count": 29,
   "id": "da72499a",
   "metadata": {
    "execution": {
     "iopub.execute_input": "2022-07-20T20:14:12.831864Z",
     "iopub.status.busy": "2022-07-20T20:14:12.831250Z",
     "iopub.status.idle": "2022-07-20T20:14:13.077760Z",
     "shell.execute_reply": "2022-07-20T20:14:13.078209Z"
    },
    "papermill": {
     "duration": 0.296584,
     "end_time": "2022-07-20T20:14:13.078340",
     "exception": false,
     "start_time": "2022-07-20T20:14:12.781756",
     "status": "completed"
    },
    "tags": []
   },
   "outputs": [
    {
     "data": {
      "image/png": "[encoded data removed]",
      "text/plain": [
       "<Figure size 720x648 with 1 Axes>"
      ]
     },
     "metadata": {
      "needs_background": "light"
     },
     "output_type": "display_data"
    }
   ],
   "source": [
    "plt.figure(figsize=(10,9))\n",
    "plt.scatter(testing_plot[:,0], testing_plot[:,1], alpha = 0.1, c = y_test.ravel())\n",
    "contours = plt.contour(x_grid,y_grid,prob_contour)\n",
    "plt.title('Probability Contours')\n",
    "plt.clabel(contours, inline = True );"
   ]
  },
  {
   "cell_type": "code",
   "execution_count": null,
   "id": "e81b4ac7",
   "metadata": {
    "papermill": {
     "duration": 0.046516,
     "end_time": "2022-07-20T20:14:13.171837",
     "exception": false,
     "start_time": "2022-07-20T20:14:13.125321",
     "status": "completed"
    },
    "tags": []
   },
   "outputs": [],
   "source": []
  }
 ],
 "metadata": {
  "kernelspec": {
   "display_name": "Python 3",
   "language": "python",
   "name": "python3"
  },
  "language_info": {
   "codemirror_mode": {
    "name": "ipython",
    "version": 3
   },
   "file_extension": ".py",
   "mimetype": "text/x-python",
   "name": "python",
   "nbconvert_exporter": "python",
   "pygments_lexer": "ipython3",
   "version": "3.6.15"
  },
  "papermill": {
   "default_parameters": {},
   "duration": 197.541714,
   "end_time": "2022-07-20T20:14:13.536655",
   "environment_variables": {},
   "exception": null,
   "input_path": "2020-08-11-part2.ipynb",
   "output_path": "2020-08-11-part2.ipynb",
   "parameters": {},
   "start_time": "2022-07-20T20:10:55.994941",
   "version": "2.3.3"
  }
 },
 "nbformat": 4,
 "nbformat_minor": 5
}