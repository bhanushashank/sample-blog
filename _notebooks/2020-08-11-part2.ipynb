{
 "cells": [
  {
   "cell_type": "markdown",
   "id": "98380cd3",
   "metadata": {
    "papermill": {
     "duration": 0.038462,
     "end_time": "2022-09-24T10:10:57.580022",
     "exception": false,
     "start_time": "2022-09-24T10:10:57.541560",
     "status": "completed"
    },
    "tags": []
   },
   "source": [
    "# Distinguish Your Own Digits (DYOD)"
   ]
  },
  {
   "cell_type": "markdown",
   "id": "ef31240d",
   "metadata": {
    "papermill": {
     "duration": 0.026728,
     "end_time": "2022-09-24T10:10:57.634032",
     "exception": false,
     "start_time": "2022-09-24T10:10:57.607304",
     "status": "completed"
    },
    "tags": []
   },
   "source": [
    "You are going to write a classifier that distinguishes between the number 3 and number 8."
   ]
  },
  {
   "cell_type": "code",
   "execution_count": 1,
   "id": "b15c8646",
   "metadata": {
    "execution": {
     "iopub.execute_input": "2022-09-24T10:10:57.700107Z",
     "iopub.status.busy": "2022-09-24T10:10:57.695421Z",
     "iopub.status.idle": "2022-09-24T10:10:57.711826Z",
     "shell.execute_reply": "2022-09-24T10:10:57.712350Z"
    },
    "papermill": {
     "duration": 0.052038,
     "end_time": "2022-09-24T10:10:57.712589",
     "exception": false,
     "start_time": "2022-09-24T10:10:57.660551",
     "status": "completed"
    },
    "tags": []
   },
   "outputs": [],
   "source": [
    "%load_ext autoreload\n",
    "%autoreload 2"
   ]
  },
  {
   "cell_type": "code",
   "execution_count": 2,
   "id": "22ef38dc",
   "metadata": {
    "execution": {
     "iopub.execute_input": "2022-09-24T10:10:57.772040Z",
     "iopub.status.busy": "2022-09-24T10:10:57.771372Z",
     "iopub.status.idle": "2022-09-24T10:10:58.394604Z",
     "shell.execute_reply": "2022-09-24T10:10:58.393478Z"
    },
    "papermill": {
     "duration": 0.654423,
     "end_time": "2022-09-24T10:10:58.394763",
     "exception": false,
     "start_time": "2022-09-24T10:10:57.740340",
     "status": "completed"
    },
    "tags": []
   },
   "outputs": [],
   "source": [
    "%matplotlib inline\n",
    "import numpy as np\n",
    "import matplotlib.pyplot as plt\n",
    "import pandas as pd"
   ]
  },
  {
   "cell_type": "markdown",
   "id": "ba036198",
   "metadata": {
    "papermill": {
     "duration": 0.026628,
     "end_time": "2022-09-24T10:10:58.448308",
     "exception": false,
     "start_time": "2022-09-24T10:10:58.421680",
     "status": "completed"
    },
    "tags": []
   },
   "source": [
    "From the command line run `pip install mnist`. This is a library that will help you bring down the mnist dataset. If you run this from a notebook, you need to put  `!pip install mnist` in a cell by itself."
   ]
  },
  {
   "cell_type": "code",
   "execution_count": 3,
   "id": "bb6ad8a1",
   "metadata": {
    "execution": {
     "iopub.execute_input": "2022-09-24T10:10:58.507185Z",
     "iopub.status.busy": "2022-09-24T10:10:58.506475Z",
     "iopub.status.idle": "2022-09-24T10:11:00.357406Z",
     "shell.execute_reply": "2022-09-24T10:11:00.356736Z"
    },
    "papermill": {
     "duration": 1.882685,
     "end_time": "2022-09-24T10:11:00.357556",
     "exception": false,
     "start_time": "2022-09-24T10:10:58.474871",
     "status": "completed"
    },
    "tags": []
   },
   "outputs": [
    {
     "name": "stdout",
     "output_type": "stream",
     "text": [
      "Collecting mnist\r\n"
     ]
    },
    {
     "name": "stdout",
     "output_type": "stream",
     "text": [
      "  Downloading mnist-0.2.2-py2.py3-none-any.whl (3.5 kB)\r\n",
      "Requirement already satisfied: numpy in /opt/hostedtoolcache/Python/3.6.15/x64/lib/python3.6/site-packages (from mnist) (1.19.5)\r\n"
     ]
    },
    {
     "name": "stdout",
     "output_type": "stream",
     "text": [
      "Installing collected packages: mnist\r\n"
     ]
    },
    {
     "name": "stdout",
     "output_type": "stream",
     "text": [
      "Successfully installed mnist-0.2.2\r\n"
     ]
    }
   ],
   "source": [
    "!pip install mnist"
   ]
  },
  {
   "cell_type": "markdown",
   "id": "69df9c9a",
   "metadata": {
    "papermill": {
     "duration": 0.028406,
     "end_time": "2022-09-24T10:11:00.415711",
     "exception": false,
     "start_time": "2022-09-24T10:11:00.387305",
     "status": "completed"
    },
    "tags": []
   },
   "source": [
    "## Preparing the Data"
   ]
  },
  {
   "cell_type": "code",
   "execution_count": 4,
   "id": "7f69d806",
   "metadata": {
    "execution": {
     "iopub.execute_input": "2022-09-24T10:11:00.478567Z",
     "iopub.status.busy": "2022-09-24T10:11:00.477853Z",
     "iopub.status.idle": "2022-09-24T10:11:00.494230Z",
     "shell.execute_reply": "2022-09-24T10:11:00.493654Z"
    },
    "papermill": {
     "duration": 0.050885,
     "end_time": "2022-09-24T10:11:00.494364",
     "exception": false,
     "start_time": "2022-09-24T10:11:00.443479",
     "status": "completed"
    },
    "tags": []
   },
   "outputs": [],
   "source": [
    "import mnist"
   ]
  },
  {
   "cell_type": "code",
   "execution_count": 5,
   "id": "a411e44f",
   "metadata": {
    "execution": {
     "iopub.execute_input": "2022-09-24T10:11:00.555253Z",
     "iopub.status.busy": "2022-09-24T10:11:00.554591Z",
     "iopub.status.idle": "2022-09-24T10:11:01.190515Z",
     "shell.execute_reply": "2022-09-24T10:11:01.189642Z"
    },
    "papermill": {
     "duration": 0.668398,
     "end_time": "2022-09-24T10:11:01.190672",
     "exception": false,
     "start_time": "2022-09-24T10:11:00.522274",
     "status": "completed"
    },
    "tags": []
   },
   "outputs": [],
   "source": [
    "train_images = mnist.train_images()\n",
    "train_labels = mnist.train_labels()"
   ]
  },
  {
   "cell_type": "code",
   "execution_count": 6,
   "id": "dceab3a5",
   "metadata": {
    "execution": {
     "iopub.execute_input": "2022-09-24T10:11:01.251904Z",
     "iopub.status.busy": "2022-09-24T10:11:01.251220Z",
     "iopub.status.idle": "2022-09-24T10:11:01.269488Z",
     "shell.execute_reply": "2022-09-24T10:11:01.270140Z"
    },
    "papermill": {
     "duration": 0.051001,
     "end_time": "2022-09-24T10:11:01.270290",
     "exception": false,
     "start_time": "2022-09-24T10:11:01.219289",
     "status": "completed"
    },
    "tags": []
   },
   "outputs": [
    {
     "data": {
      "text/plain": [
       "((60000, 28, 28), (60000,))"
      ]
     },
     "execution_count": 6,
     "metadata": {},
     "output_type": "execute_result"
    }
   ],
   "source": [
    "train_images.shape, train_labels.shape"
   ]
  },
  {
   "cell_type": "code",
   "execution_count": 7,
   "id": "f50dc2bb",
   "metadata": {
    "execution": {
     "iopub.execute_input": "2022-09-24T10:11:01.331214Z",
     "iopub.status.busy": "2022-09-24T10:11:01.330535Z",
     "iopub.status.idle": "2022-09-24T10:11:01.486030Z",
     "shell.execute_reply": "2022-09-24T10:11:01.485276Z"
    },
    "papermill": {
     "duration": 0.188011,
     "end_time": "2022-09-24T10:11:01.486301",
     "exception": false,
     "start_time": "2022-09-24T10:11:01.298290",
     "status": "completed"
    },
    "tags": []
   },
   "outputs": [],
   "source": [
    "test_images = mnist.test_images()\n",
    "test_labels = mnist.test_labels()"
   ]
  },
  {
   "cell_type": "code",
   "execution_count": 8,
   "id": "fc38cf1b",
   "metadata": {
    "execution": {
     "iopub.execute_input": "2022-09-24T10:11:01.547716Z",
     "iopub.status.busy": "2022-09-24T10:11:01.547050Z",
     "iopub.status.idle": "2022-09-24T10:11:01.566873Z",
     "shell.execute_reply": "2022-09-24T10:11:01.566136Z"
    },
    "papermill": {
     "duration": 0.052079,
     "end_time": "2022-09-24T10:11:01.567012",
     "exception": false,
     "start_time": "2022-09-24T10:11:01.514933",
     "status": "completed"
    },
    "tags": []
   },
   "outputs": [
    {
     "data": {
      "text/plain": [
       "((10000, 28, 28), (10000,))"
      ]
     },
     "execution_count": 8,
     "metadata": {},
     "output_type": "execute_result"
    }
   ],
   "source": [
    "test_images.shape, test_labels.shape"
   ]
  },
  {
   "cell_type": "code",
   "execution_count": 9,
   "id": "f9ed8fe0",
   "metadata": {
    "execution": {
     "iopub.execute_input": "2022-09-24T10:11:01.629752Z",
     "iopub.status.busy": "2022-09-24T10:11:01.629077Z",
     "iopub.status.idle": "2022-09-24T10:11:01.791900Z",
     "shell.execute_reply": "2022-09-24T10:11:01.791256Z"
    },
    "papermill": {
     "duration": 0.196022,
     "end_time": "2022-09-24T10:11:01.792051",
     "exception": false,
     "start_time": "2022-09-24T10:11:01.596029",
     "status": "completed"
    },
    "tags": []
   },
   "outputs": [
    {
     "name": "stdout",
     "output_type": "stream",
     "text": [
      "2\n"
     ]
    },
    {
     "data": {
      "text/plain": [
       "<matplotlib.image.AxesImage at 0x7f6591b4ccc0>"
      ]
     },
     "execution_count": 9,
     "metadata": {},
     "output_type": "execute_result"
    },
    {
     "data": {
      "image/png": "[encoded data removed]",
      "text/plain": [
       "<Figure size 432x288 with 1 Axes>"
      ]
     },
     "metadata": {
      "needs_background": "light"
     },
     "output_type": "display_data"
    }
   ],
   "source": [
    "image_index = 7776 # You may select anything up to 60,000\n",
    "print(train_labels[image_index]) \n",
    "plt.imshow(train_images[image_index], cmap='Greys')"
   ]
  },
  {
   "cell_type": "markdown",
   "id": "a8d2388d",
   "metadata": {
    "papermill": {
     "duration": 0.035125,
     "end_time": "2022-09-24T10:11:01.859591",
     "exception": false,
     "start_time": "2022-09-24T10:11:01.824466",
     "status": "completed"
    },
    "tags": []
   },
   "source": [
    "## Filter data to get 3 and 8 out"
   ]
  },
  {
   "cell_type": "code",
   "execution_count": 10,
   "id": "776f7fc7",
   "metadata": {
    "execution": {
     "iopub.execute_input": "2022-09-24T10:11:01.925716Z",
     "iopub.status.busy": "2022-09-24T10:11:01.924473Z",
     "iopub.status.idle": "2022-09-24T10:11:01.942977Z",
     "shell.execute_reply": "2022-09-24T10:11:01.942318Z"
    },
    "papermill": {
     "duration": 0.053372,
     "end_time": "2022-09-24T10:11:01.943118",
     "exception": false,
     "start_time": "2022-09-24T10:11:01.889746",
     "status": "completed"
    },
    "tags": []
   },
   "outputs": [],
   "source": [
    "train_filter = np.where((train_labels == 3 ) | (train_labels == 8))\n",
    "test_filter = np.where((test_labels == 3) | (test_labels == 8))\n",
    "X_train, y_train = train_images[train_filter], train_labels[train_filter]\n",
    "X_test, y_test = test_images[test_filter], test_labels[test_filter]"
   ]
  },
  {
   "cell_type": "markdown",
   "id": "948f0b7e",
   "metadata": {
    "papermill": {
     "duration": 0.031189,
     "end_time": "2022-09-24T10:11:02.008094",
     "exception": false,
     "start_time": "2022-09-24T10:11:01.976905",
     "status": "completed"
    },
    "tags": []
   },
   "source": [
    "We normalize the pizel values in the 0 to 1 range"
   ]
  },
  {
   "cell_type": "code",
   "execution_count": 11,
   "id": "ee4c2166",
   "metadata": {
    "execution": {
     "iopub.execute_input": "2022-09-24T10:11:02.078541Z",
     "iopub.status.busy": "2022-09-24T10:11:02.077811Z",
     "iopub.status.idle": "2022-09-24T10:11:02.128488Z",
     "shell.execute_reply": "2022-09-24T10:11:02.127880Z"
    },
    "papermill": {
     "duration": 0.088408,
     "end_time": "2022-09-24T10:11:02.128626",
     "exception": false,
     "start_time": "2022-09-24T10:11:02.040218",
     "status": "completed"
    },
    "tags": []
   },
   "outputs": [],
   "source": [
    "X_train = X_train/255.\n",
    "X_test = X_test/255."
   ]
  },
  {
   "cell_type": "markdown",
   "id": "ddcf4fab",
   "metadata": {
    "papermill": {
     "duration": 0.030207,
     "end_time": "2022-09-24T10:11:02.193379",
     "exception": false,
     "start_time": "2022-09-24T10:11:02.163172",
     "status": "completed"
    },
    "tags": []
   },
   "source": [
    "And setup the labels as 1 (when the digit is 3) and 0 (when the digit is 8)"
   ]
  },
  {
   "cell_type": "code",
   "execution_count": 12,
   "id": "7dc908f2",
   "metadata": {
    "execution": {
     "iopub.execute_input": "2022-09-24T10:11:02.258883Z",
     "iopub.status.busy": "2022-09-24T10:11:02.258169Z",
     "iopub.status.idle": "2022-09-24T10:11:02.271799Z",
     "shell.execute_reply": "2022-09-24T10:11:02.272347Z"
    },
    "papermill": {
     "duration": 0.048552,
     "end_time": "2022-09-24T10:11:02.272528",
     "exception": false,
     "start_time": "2022-09-24T10:11:02.223976",
     "status": "completed"
    },
    "tags": []
   },
   "outputs": [],
   "source": [
    "y_train = 1*(y_train==3)\n",
    "y_test = 1*(y_test==3)"
   ]
  },
  {
   "cell_type": "code",
   "execution_count": 13,
   "id": "01e4e969",
   "metadata": {
    "execution": {
     "iopub.execute_input": "2022-09-24T10:11:02.339150Z",
     "iopub.status.busy": "2022-09-24T10:11:02.338479Z",
     "iopub.status.idle": "2022-09-24T10:11:02.354207Z",
     "shell.execute_reply": "2022-09-24T10:11:02.353635Z"
    },
    "papermill": {
     "duration": 0.050791,
     "end_time": "2022-09-24T10:11:02.354335",
     "exception": false,
     "start_time": "2022-09-24T10:11:02.303544",
     "status": "completed"
    },
    "tags": []
   },
   "outputs": [
    {
     "data": {
      "text/plain": [
       "((11982, 28, 28), (1984, 28, 28))"
      ]
     },
     "execution_count": 13,
     "metadata": {},
     "output_type": "execute_result"
    }
   ],
   "source": [
    "X_train.shape, X_test.shape"
   ]
  },
  {
   "cell_type": "markdown",
   "id": "5ccf3f85",
   "metadata": {
    "papermill": {
     "duration": 0.02994,
     "end_time": "2022-09-24T10:11:02.414049",
     "exception": false,
     "start_time": "2022-09-24T10:11:02.384109",
     "status": "completed"
    },
    "tags": []
   },
   "source": [
    "We reshape the data to flatten the image pixels into a set of features or co-variates:"
   ]
  },
  {
   "cell_type": "code",
   "execution_count": 14,
   "id": "5286a4a3",
   "metadata": {
    "execution": {
     "iopub.execute_input": "2022-09-24T10:11:02.480379Z",
     "iopub.status.busy": "2022-09-24T10:11:02.479703Z",
     "iopub.status.idle": "2022-09-24T10:11:02.495713Z",
     "shell.execute_reply": "2022-09-24T10:11:02.499093Z"
    },
    "papermill": {
     "duration": 0.055032,
     "end_time": "2022-09-24T10:11:02.499241",
     "exception": false,
     "start_time": "2022-09-24T10:11:02.444209",
     "status": "completed"
    },
    "tags": []
   },
   "outputs": [
    {
     "data": {
      "text/plain": [
       "((11982, 784), (1984, 784))"
      ]
     },
     "execution_count": 14,
     "metadata": {},
     "output_type": "execute_result"
    }
   ],
   "source": [
    "X_train = X_train.reshape(X_train.shape[0], -1)\n",
    "X_test = X_test.reshape(X_test.shape[0], -1)\n",
    "X_train.shape, X_test.shape"
   ]
  },
  {
   "cell_type": "code",
   "execution_count": 15,
   "id": "73c5f88a",
   "metadata": {
    "execution": {
     "iopub.execute_input": "2022-09-24T10:11:02.565811Z",
     "iopub.status.busy": "2022-09-24T10:11:02.564232Z",
     "iopub.status.idle": "2022-09-24T10:11:02.586744Z",
     "shell.execute_reply": "2022-09-24T10:11:02.585969Z"
    },
    "papermill": {
     "duration": 0.057471,
     "end_time": "2022-09-24T10:11:02.586879",
     "exception": false,
     "start_time": "2022-09-24T10:11:02.529408",
     "status": "completed"
    },
    "tags": []
   },
   "outputs": [],
   "source": [
    "#Impoting functions from 'Kudzu'\n",
    "from kudzu.model import Model\n",
    "from kudzu.train import Learner\n",
    "from kudzu.optim import GD\n",
    "from kudzu.data import Data, Sampler,Dataloader\n",
    "\n",
    "from kudzu.callbacks import AccCallback\n",
    "from kudzu.callbacks import ClfCallback\n",
    "\n",
    "from kudzu.loss import MSE\n",
    "\n",
    "from kudzu.layer import Sigmoid,Relu\n",
    "from kudzu.layer import Affine"
   ]
  },
  {
   "cell_type": "markdown",
   "id": "bc01172a",
   "metadata": {
    "papermill": {
     "duration": 0.031302,
     "end_time": "2022-09-24T10:11:02.650659",
     "exception": false,
     "start_time": "2022-09-24T10:11:02.619357",
     "status": "completed"
    },
    "tags": []
   },
   "source": [
    "### Let us create a `Config` class, to store important parameters. \n",
    "This class essentially plays the role of a dictionary."
   ]
  },
  {
   "cell_type": "code",
   "execution_count": 16,
   "id": "978281aa",
   "metadata": {
    "execution": {
     "iopub.execute_input": "2022-09-24T10:11:02.724235Z",
     "iopub.status.busy": "2022-09-24T10:11:02.719562Z",
     "iopub.status.idle": "2022-09-24T10:11:02.736102Z",
     "shell.execute_reply": "2022-09-24T10:11:02.735435Z"
    },
    "papermill": {
     "duration": 0.053224,
     "end_time": "2022-09-24T10:11:02.736228",
     "exception": false,
     "start_time": "2022-09-24T10:11:02.683004",
     "status": "completed"
    },
    "tags": []
   },
   "outputs": [],
   "source": [
    "class Config:\n",
    "    pass\n",
    "config = Config()\n",
    "config.lr = 0.001\n",
    "config.num_epochs = 250\n",
    "config.bs = 50"
   ]
  },
  {
   "cell_type": "markdown",
   "id": "1385fa59",
   "metadata": {
    "papermill": {
     "duration": 0.032064,
     "end_time": "2022-09-24T10:11:02.800144",
     "exception": false,
     "start_time": "2022-09-24T10:11:02.768080",
     "status": "completed"
    },
    "tags": []
   },
   "source": [
    "### Running Models with the Training data\n",
    "Details about the network layers:\n",
    "- A first affine layer has 784 inputs and does 100 affine transforms. These are followed by a Relu\n",
    "- A second affine layer has 100 inputs from the 100 activations of the past layer, and does 100 affine transforms. These are followed by a Relu\n",
    "- A third affine layer has 100 activations and does 2 affine transformations to create an embedding for visualization. There is no non-linearity here.\n",
    "- A final \"logistic regression\" which has an affine transform from 2 inputs to 1 output, which is squeezed through a sigmoid.\n"
   ]
  },
  {
   "cell_type": "code",
   "execution_count": 17,
   "id": "2b9c66db",
   "metadata": {
    "execution": {
     "iopub.execute_input": "2022-09-24T10:11:02.871113Z",
     "iopub.status.busy": "2022-09-24T10:11:02.868632Z",
     "iopub.status.idle": "2022-09-24T10:11:02.886166Z",
     "shell.execute_reply": "2022-09-24T10:11:02.885591Z"
    },
    "papermill": {
     "duration": 0.053949,
     "end_time": "2022-09-24T10:11:02.886295",
     "exception": false,
     "start_time": "2022-09-24T10:11:02.832346",
     "status": "completed"
    },
    "tags": []
   },
   "outputs": [],
   "source": [
    "data = Data(X_train, y_train.reshape(-1,1))\n",
    "sampler = Sampler(data, config.bs, shuffle=True)\n",
    "\n",
    "dl = Dataloader(data, sampler)\n",
    "\n",
    "opt = GD(config.lr)\n",
    "loss = MSE()"
   ]
  },
  {
   "cell_type": "code",
   "execution_count": 18,
   "id": "b275e4c2",
   "metadata": {
    "execution": {
     "iopub.execute_input": "2022-09-24T10:11:02.953361Z",
     "iopub.status.busy": "2022-09-24T10:11:02.952691Z",
     "iopub.status.idle": "2022-09-24T10:11:02.967445Z",
     "shell.execute_reply": "2022-09-24T10:11:02.968043Z"
    },
    "papermill": {
     "duration": 0.049108,
     "end_time": "2022-09-24T10:11:02.968197",
     "exception": false,
     "start_time": "2022-09-24T10:11:02.919089",
     "status": "completed"
    },
    "tags": []
   },
   "outputs": [],
   "source": [
    "training_data_x = X_train\n",
    "testing_data_x = X_test\n",
    "training_data_y = y_train.reshape(-1,1)\n",
    "testing_data_y = y_test.reshape(-1,1)"
   ]
  },
  {
   "cell_type": "code",
   "execution_count": 19,
   "id": "76951160",
   "metadata": {
    "execution": {
     "iopub.execute_input": "2022-09-24T10:11:03.034991Z",
     "iopub.status.busy": "2022-09-24T10:11:03.034306Z",
     "iopub.status.idle": "2022-09-24T10:11:03.055448Z",
     "shell.execute_reply": "2022-09-24T10:11:03.056345Z"
    },
    "papermill": {
     "duration": 0.056737,
     "end_time": "2022-09-24T10:11:03.056580",
     "exception": false,
     "start_time": "2022-09-24T10:11:02.999843",
     "status": "completed"
    },
    "tags": []
   },
   "outputs": [
    {
     "name": "stdout",
     "output_type": "stream",
     "text": [
      "xavier\n",
      "xavier\n",
      "xavier\n",
      "xavier\n",
      "xavier\n"
     ]
    }
   ],
   "source": [
    "layers = [Affine(\"first\", 784, 100), Relu(\"first\"), Affine(\"second\", 100, 100), Relu(\"second\"), Affine(\"third\", 100, 2), Affine(\"last\", 2, 1), Sigmoid(\"last\")]\n",
    "model_nn = Model(layers)\n",
    "model_lr = Model([Affine(\"logits\", 784, 1), Sigmoid(\"sigmoid\")])"
   ]
  },
  {
   "cell_type": "code",
   "execution_count": 20,
   "id": "6eede77a",
   "metadata": {
    "execution": {
     "iopub.execute_input": "2022-09-24T10:11:03.132727Z",
     "iopub.status.busy": "2022-09-24T10:11:03.132041Z",
     "iopub.status.idle": "2022-09-24T10:11:03.147183Z",
     "shell.execute_reply": "2022-09-24T10:11:03.146513Z"
    },
    "papermill": {
     "duration": 0.054707,
     "end_time": "2022-09-24T10:11:03.147320",
     "exception": false,
     "start_time": "2022-09-24T10:11:03.092613",
     "status": "completed"
    },
    "tags": []
   },
   "outputs": [],
   "source": [
    "nn_learner = Learner(loss, model_nn, opt, config.num_epochs)\n",
    "acc_nn = ClfCallback(nn_learner, config.bs, training_data_x , testing_data_x, training_data_y, testing_data_y)\n",
    "nn_learner.set_callbacks([acc_nn])"
   ]
  },
  {
   "cell_type": "code",
   "execution_count": 21,
   "id": "877b6cc7",
   "metadata": {
    "execution": {
     "iopub.execute_input": "2022-09-24T10:11:03.220055Z",
     "iopub.status.busy": "2022-09-24T10:11:03.219366Z",
     "iopub.status.idle": "2022-09-24T10:11:03.233311Z",
     "shell.execute_reply": "2022-09-24T10:11:03.232778Z"
    },
    "papermill": {
     "duration": 0.052854,
     "end_time": "2022-09-24T10:11:03.233444",
     "exception": false,
     "start_time": "2022-09-24T10:11:03.180590",
     "status": "completed"
    },
    "tags": []
   },
   "outputs": [],
   "source": [
    "lr_learner = Learner(loss, model_lr, opt, config.num_epochs)\n",
    "acc_lr = ClfCallback(lr_learner, config.bs, training_data_x , testing_data_x, training_data_y, testing_data_y)\n",
    "lr_learner.set_callbacks([acc_lr])"
   ]
  },
  {
   "cell_type": "code",
   "execution_count": 22,
   "id": "d9b133c3",
   "metadata": {
    "execution": {
     "iopub.execute_input": "2022-09-24T10:11:03.300417Z",
     "iopub.status.busy": "2022-09-24T10:11:03.299697Z",
     "iopub.status.idle": "2022-09-24T10:12:33.648932Z",
     "shell.execute_reply": "2022-09-24T10:12:33.649900Z"
    },
    "papermill": {
     "duration": 90.385357,
     "end_time": "2022-09-24T10:12:33.650096",
     "exception": false,
     "start_time": "2022-09-24T10:11:03.264739",
     "status": "completed"
    },
    "tags": []
   },
   "outputs": [
    {
     "name": "stdout",
     "output_type": "stream",
     "text": [
      "Epoch 0, Loss 0.2549\n",
      "Training Accuracy: 0.4949, Testing Accuracy: 0.5030\n",
      "\n"
     ]
    },
    {
     "name": "stdout",
     "output_type": "stream",
     "text": [
      "Epoch 10, Loss 0.1954\n",
      "Training Accuracy: 0.8477, Testing Accuracy: 0.8725\n",
      "\n"
     ]
    },
    {
     "name": "stdout",
     "output_type": "stream",
     "text": [
      "Epoch 20, Loss 0.0996\n",
      "Training Accuracy: 0.9037, Testing Accuracy: 0.9224\n",
      "\n"
     ]
    },
    {
     "name": "stdout",
     "output_type": "stream",
     "text": [
      "Epoch 30, Loss 0.063\n",
      "Training Accuracy: 0.9330, Testing Accuracy: 0.9466\n",
      "\n"
     ]
    },
    {
     "name": "stdout",
     "output_type": "stream",
     "text": [
      "Epoch 40, Loss 0.0495\n",
      "Training Accuracy: 0.9442, Testing Accuracy: 0.9561\n",
      "\n"
     ]
    },
    {
     "name": "stdout",
     "output_type": "stream",
     "text": [
      "Epoch 50, Loss 0.0427\n",
      "Training Accuracy: 0.9510, Testing Accuracy: 0.9622\n",
      "\n"
     ]
    },
    {
     "name": "stdout",
     "output_type": "stream",
     "text": [
      "Epoch 60, Loss 0.0386\n",
      "Training Accuracy: 0.9548, Testing Accuracy: 0.9637\n",
      "\n"
     ]
    },
    {
     "name": "stdout",
     "output_type": "stream",
     "text": [
      "Epoch 70, Loss 0.0359\n",
      "Training Accuracy: 0.9573, Testing Accuracy: 0.9667\n",
      "\n"
     ]
    },
    {
     "name": "stdout",
     "output_type": "stream",
     "text": [
      "Epoch 80, Loss 0.0339\n",
      "Training Accuracy: 0.9594, Testing Accuracy: 0.9672\n",
      "\n"
     ]
    },
    {
     "name": "stdout",
     "output_type": "stream",
     "text": [
      "Epoch 90, Loss 0.0323\n",
      "Training Accuracy: 0.9607, Testing Accuracy: 0.9688\n",
      "\n"
     ]
    },
    {
     "name": "stdout",
     "output_type": "stream",
     "text": [
      "Epoch 100, Loss 0.031\n",
      "Training Accuracy: 0.9617, Testing Accuracy: 0.9698\n",
      "\n"
     ]
    },
    {
     "name": "stdout",
     "output_type": "stream",
     "text": [
      "Epoch 110, Loss 0.03\n",
      "Training Accuracy: 0.9630, Testing Accuracy: 0.9693\n",
      "\n"
     ]
    },
    {
     "name": "stdout",
     "output_type": "stream",
     "text": [
      "Epoch 120, Loss 0.0291\n",
      "Training Accuracy: 0.9644, Testing Accuracy: 0.9693\n",
      "\n"
     ]
    },
    {
     "name": "stdout",
     "output_type": "stream",
     "text": [
      "Epoch 130, Loss 0.0283\n",
      "Training Accuracy: 0.9653, Testing Accuracy: 0.9688\n",
      "\n"
     ]
    },
    {
     "name": "stdout",
     "output_type": "stream",
     "text": [
      "Epoch 140, Loss 0.0276\n",
      "Training Accuracy: 0.9656, Testing Accuracy: 0.9698\n",
      "\n"
     ]
    },
    {
     "name": "stdout",
     "output_type": "stream",
     "text": [
      "Epoch 150, Loss 0.027\n",
      "Training Accuracy: 0.9668, Testing Accuracy: 0.9703\n",
      "\n"
     ]
    },
    {
     "name": "stdout",
     "output_type": "stream",
     "text": [
      "Epoch 160, Loss 0.0264\n",
      "Training Accuracy: 0.9675, Testing Accuracy: 0.9708\n",
      "\n"
     ]
    },
    {
     "name": "stdout",
     "output_type": "stream",
     "text": [
      "Epoch 170, Loss 0.0259\n",
      "Training Accuracy: 0.9683, Testing Accuracy: 0.9708\n",
      "\n"
     ]
    },
    {
     "name": "stdout",
     "output_type": "stream",
     "text": [
      "Epoch 180, Loss 0.0254\n",
      "Training Accuracy: 0.9688, Testing Accuracy: 0.9703\n",
      "\n"
     ]
    },
    {
     "name": "stdout",
     "output_type": "stream",
     "text": [
      "Epoch 190, Loss 0.0249\n",
      "Training Accuracy: 0.9696, Testing Accuracy: 0.9693\n",
      "\n"
     ]
    },
    {
     "name": "stdout",
     "output_type": "stream",
     "text": [
      "Epoch 200, Loss 0.0245\n",
      "Training Accuracy: 0.9700, Testing Accuracy: 0.9693\n",
      "\n"
     ]
    },
    {
     "name": "stdout",
     "output_type": "stream",
     "text": [
      "Epoch 210, Loss 0.0241\n",
      "Training Accuracy: 0.9708, Testing Accuracy: 0.9693\n",
      "\n"
     ]
    },
    {
     "name": "stdout",
     "output_type": "stream",
     "text": [
      "Epoch 220, Loss 0.0237\n",
      "Training Accuracy: 0.9715, Testing Accuracy: 0.9693\n",
      "\n"
     ]
    },
    {
     "name": "stdout",
     "output_type": "stream",
     "text": [
      "Epoch 230, Loss 0.0233\n",
      "Training Accuracy: 0.9718, Testing Accuracy: 0.9693\n",
      "\n"
     ]
    },
    {
     "name": "stdout",
     "output_type": "stream",
     "text": [
      "Epoch 240, Loss 0.023\n",
      "Training Accuracy: 0.9720, Testing Accuracy: 0.9688\n",
      "\n"
     ]
    },
    {
     "data": {
      "text/plain": [
       "0.0007684856801800125"
      ]
     },
     "execution_count": 22,
     "metadata": {},
     "output_type": "execute_result"
    }
   ],
   "source": [
    "nn_learner.train_loop(dl)"
   ]
  },
  {
   "cell_type": "code",
   "execution_count": 23,
   "id": "e0163366",
   "metadata": {
    "execution": {
     "iopub.execute_input": "2022-09-24T10:12:33.739781Z",
     "iopub.status.busy": "2022-09-24T10:12:33.739094Z",
     "iopub.status.idle": "2022-09-24T10:12:49.845479Z",
     "shell.execute_reply": "2022-09-24T10:12:49.846457Z"
    },
    "papermill": {
     "duration": 16.156773,
     "end_time": "2022-09-24T10:12:49.846621",
     "exception": false,
     "start_time": "2022-09-24T10:12:33.689848",
     "status": "completed"
    },
    "tags": []
   },
   "outputs": [
    {
     "name": "stdout",
     "output_type": "stream",
     "text": [
      "Epoch 0, Loss 0.2316\n",
      "Training Accuracy: 0.7236, Testing Accuracy: 0.7379\n",
      "\n"
     ]
    },
    {
     "name": "stdout",
     "output_type": "stream",
     "text": [
      "Epoch 10, Loss 0.1036\n",
      "Training Accuracy: 0.9070, Testing Accuracy: 0.9123\n",
      "\n"
     ]
    },
    {
     "name": "stdout",
     "output_type": "stream",
     "text": [
      "Epoch 20, Loss 0.0799\n",
      "Training Accuracy: 0.9255, Testing Accuracy: 0.9375\n",
      "\n"
     ]
    },
    {
     "name": "stdout",
     "output_type": "stream",
     "text": [
      "Epoch 30, Loss 0.0688\n",
      "Training Accuracy: 0.9357, Testing Accuracy: 0.9476\n",
      "\n"
     ]
    },
    {
     "name": "stdout",
     "output_type": "stream",
     "text": [
      "Epoch 40, Loss 0.0621\n",
      "Training Accuracy: 0.9407, Testing Accuracy: 0.9526\n",
      "\n"
     ]
    },
    {
     "name": "stdout",
     "output_type": "stream",
     "text": [
      "Epoch 50, Loss 0.0575\n",
      "Training Accuracy: 0.9443, Testing Accuracy: 0.9561\n",
      "\n"
     ]
    },
    {
     "name": "stdout",
     "output_type": "stream",
     "text": [
      "Epoch 60, Loss 0.0542\n",
      "Training Accuracy: 0.9471, Testing Accuracy: 0.9567\n",
      "\n"
     ]
    },
    {
     "name": "stdout",
     "output_type": "stream",
     "text": [
      "Epoch 70, Loss 0.0516\n",
      "Training Accuracy: 0.9487, Testing Accuracy: 0.9592\n",
      "\n"
     ]
    },
    {
     "name": "stdout",
     "output_type": "stream",
     "text": [
      "Epoch 80, Loss 0.0495\n",
      "Training Accuracy: 0.9505, Testing Accuracy: 0.9607\n",
      "\n"
     ]
    },
    {
     "name": "stdout",
     "output_type": "stream",
     "text": [
      "Epoch 90, Loss 0.0478\n",
      "Training Accuracy: 0.9519, Testing Accuracy: 0.9632\n",
      "\n"
     ]
    },
    {
     "name": "stdout",
     "output_type": "stream",
     "text": [
      "Epoch 100, Loss 0.0463\n",
      "Training Accuracy: 0.9529, Testing Accuracy: 0.9637\n",
      "\n"
     ]
    },
    {
     "name": "stdout",
     "output_type": "stream",
     "text": [
      "Epoch 110, Loss 0.0451\n",
      "Training Accuracy: 0.9536, Testing Accuracy: 0.9657\n",
      "\n"
     ]
    },
    {
     "name": "stdout",
     "output_type": "stream",
     "text": [
      "Epoch 120, Loss 0.044\n",
      "Training Accuracy: 0.9543, Testing Accuracy: 0.9652\n",
      "\n"
     ]
    },
    {
     "name": "stdout",
     "output_type": "stream",
     "text": [
      "Epoch 130, Loss 0.0431\n",
      "Training Accuracy: 0.9551, Testing Accuracy: 0.9667\n",
      "\n"
     ]
    },
    {
     "name": "stdout",
     "output_type": "stream",
     "text": [
      "Epoch 140, Loss 0.0422\n",
      "Training Accuracy: 0.9559, Testing Accuracy: 0.9652\n",
      "\n"
     ]
    },
    {
     "name": "stdout",
     "output_type": "stream",
     "text": [
      "Epoch 150, Loss 0.0415\n",
      "Training Accuracy: 0.9570, Testing Accuracy: 0.9647\n",
      "\n"
     ]
    },
    {
     "name": "stdout",
     "output_type": "stream",
     "text": [
      "Epoch 160, Loss 0.0408\n",
      "Training Accuracy: 0.9579, Testing Accuracy: 0.9652\n",
      "\n"
     ]
    },
    {
     "name": "stdout",
     "output_type": "stream",
     "text": [
      "Epoch 170, Loss 0.0402\n",
      "Training Accuracy: 0.9583, Testing Accuracy: 0.9657\n",
      "\n"
     ]
    },
    {
     "name": "stdout",
     "output_type": "stream",
     "text": [
      "Epoch 180, Loss 0.0396\n",
      "Training Accuracy: 0.9588, Testing Accuracy: 0.9662\n",
      "\n"
     ]
    },
    {
     "name": "stdout",
     "output_type": "stream",
     "text": [
      "Epoch 190, Loss 0.0391\n",
      "Training Accuracy: 0.9590, Testing Accuracy: 0.9662\n",
      "\n"
     ]
    },
    {
     "name": "stdout",
     "output_type": "stream",
     "text": [
      "Epoch 200, Loss 0.0386\n",
      "Training Accuracy: 0.9594, Testing Accuracy: 0.9667\n",
      "\n"
     ]
    },
    {
     "name": "stdout",
     "output_type": "stream",
     "text": [
      "Epoch 210, Loss 0.0381\n",
      "Training Accuracy: 0.9598, Testing Accuracy: 0.9657\n",
      "\n"
     ]
    },
    {
     "name": "stdout",
     "output_type": "stream",
     "text": [
      "Epoch 220, Loss 0.0377\n",
      "Training Accuracy: 0.9601, Testing Accuracy: 0.9657\n",
      "\n"
     ]
    },
    {
     "name": "stdout",
     "output_type": "stream",
     "text": [
      "Epoch 230, Loss 0.0373\n",
      "Training Accuracy: 0.9603, Testing Accuracy: 0.9657\n",
      "\n"
     ]
    },
    {
     "name": "stdout",
     "output_type": "stream",
     "text": [
      "Epoch 240, Loss 0.037\n",
      "Training Accuracy: 0.9605, Testing Accuracy: 0.9662\n",
      "\n"
     ]
    },
    {
     "data": {
      "text/plain": [
       "0.011029898577098634"
      ]
     },
     "execution_count": 23,
     "metadata": {},
     "output_type": "execute_result"
    }
   ],
   "source": [
    "lr_learner.train_loop(dl)"
   ]
  },
  {
   "cell_type": "code",
   "execution_count": 24,
   "id": "ca410940",
   "metadata": {
    "execution": {
     "iopub.execute_input": "2022-09-24T10:12:49.951752Z",
     "iopub.status.busy": "2022-09-24T10:12:49.951063Z",
     "iopub.status.idle": "2022-09-24T10:12:50.209865Z",
     "shell.execute_reply": "2022-09-24T10:12:50.208869Z"
    },
    "papermill": {
     "duration": 0.31488,
     "end_time": "2022-09-24T10:12:50.210039",
     "exception": false,
     "start_time": "2022-09-24T10:12:49.895159",
     "status": "completed"
    },
    "tags": []
   },
   "outputs": [
    {
     "data": {
      "text/plain": [
       "<matplotlib.legend.Legend at 0x7f6584f0f320>"
      ]
     },
     "execution_count": 24,
     "metadata": {},
     "output_type": "execute_result"
    },
    {
     "data": {
      "image/png": "[encoded data removed]",
      "text/plain": [
       "<Figure size 1080x720 with 1 Axes>"
      ]
     },
     "metadata": {
      "needs_background": "light"
     },
     "output_type": "display_data"
    }
   ],
   "source": [
    "#comparing the results of NN and LR\n",
    "plt.figure(figsize=(15,10))\n",
    "\n",
    "# Neural Network plots\n",
    "plt.plot(acc_nn.accuracies, 'r-', label = \"Training Accuracies - NN\")\n",
    "plt.plot(acc_nn.test_accuracies, 'g-', label = \"Testing Accuracies - NN\")\n",
    "\n",
    "# Logistic Regression plots\n",
    "plt.plot(acc_lr.accuracies, 'k-', label = \"Training Accuracies - LR\")\n",
    "plt.plot(acc_lr.test_accuracies, 'b-', label = \"Testing Accuracies - LR\")\n",
    "plt.legend()"
   ]
  },
  {
   "cell_type": "markdown",
   "id": "80dfb35c",
   "metadata": {
    "papermill": {
     "duration": 0.047218,
     "end_time": "2022-09-24T10:12:50.305891",
     "exception": false,
     "start_time": "2022-09-24T10:12:50.258673",
     "status": "completed"
    },
    "tags": []
   },
   "source": [
    "#### Plotting the outputs of this layer of the NN.\n"
   ]
  },
  {
   "cell_type": "code",
   "execution_count": 25,
   "id": "45eb2ff5",
   "metadata": {
    "execution": {
     "iopub.execute_input": "2022-09-24T10:12:50.406737Z",
     "iopub.status.busy": "2022-09-24T10:12:50.406034Z",
     "iopub.status.idle": "2022-09-24T10:12:50.428864Z",
     "shell.execute_reply": "2022-09-24T10:12:50.429376Z"
    },
    "papermill": {
     "duration": 0.075977,
     "end_time": "2022-09-24T10:12:50.429538",
     "exception": false,
     "start_time": "2022-09-24T10:12:50.353561",
     "status": "completed"
    },
    "tags": []
   },
   "outputs": [],
   "source": [
    "new_model = Model(layers[:-2])\n",
    "testing_plot = new_model(testing_data_x)"
   ]
  },
  {
   "cell_type": "code",
   "execution_count": 26,
   "id": "4c0a5485",
   "metadata": {
    "execution": {
     "iopub.execute_input": "2022-09-24T10:12:50.536045Z",
     "iopub.status.busy": "2022-09-24T10:12:50.535359Z",
     "iopub.status.idle": "2022-09-24T10:12:50.777590Z",
     "shell.execute_reply": "2022-09-24T10:12:50.777056Z"
    },
    "papermill": {
     "duration": 0.30011,
     "end_time": "2022-09-24T10:12:50.777729",
     "exception": false,
     "start_time": "2022-09-24T10:12:50.477619",
     "status": "completed"
    },
    "tags": []
   },
   "outputs": [
    {
     "data": {
      "text/plain": [
       "Text(0.5, 1.0, 'Outputs')"
      ]
     },
     "execution_count": 26,
     "metadata": {},
     "output_type": "execute_result"
    },
    {
     "data": {
      "image/png": "[encoded data removed]",
      "text/plain": [
       "<Figure size 576x504 with 1 Axes>"
      ]
     },
     "metadata": {
      "needs_background": "light"
     },
     "output_type": "display_data"
    }
   ],
   "source": [
    "# Plotting the scatter plot of points and color coding by class\n",
    "plt.figure(figsize=(8,7))\n",
    "plt.scatter(testing_plot[:,0], testing_plot[:,1], alpha = 0.1, c = y_test.ravel());\n",
    "plt.title('Outputs')"
   ]
  },
  {
   "cell_type": "markdown",
   "id": "a74fcf8f",
   "metadata": {
    "papermill": {
     "duration": 0.050706,
     "end_time": "2022-09-24T10:12:50.878987",
     "exception": false,
     "start_time": "2022-09-24T10:12:50.828281",
     "status": "completed"
    },
    "tags": []
   },
   "source": [
    "Probability contours"
   ]
  },
  {
   "cell_type": "code",
   "execution_count": 27,
   "id": "d0afc8e3",
   "metadata": {
    "execution": {
     "iopub.execute_input": "2022-09-24T10:12:51.014406Z",
     "iopub.status.busy": "2022-09-24T10:12:51.013686Z",
     "iopub.status.idle": "2022-09-24T10:12:51.033591Z",
     "shell.execute_reply": "2022-09-24T10:12:51.034160Z"
    },
    "papermill": {
     "duration": 0.076406,
     "end_time": "2022-09-24T10:12:51.034371",
     "exception": false,
     "start_time": "2022-09-24T10:12:50.957965",
     "status": "completed"
    },
    "tags": []
   },
   "outputs": [],
   "source": [
    "model_prob = Model(layers[-2:]) "
   ]
  },
  {
   "cell_type": "code",
   "execution_count": 28,
   "id": "9b96e238",
   "metadata": {
    "execution": {
     "iopub.execute_input": "2022-09-24T10:12:51.142519Z",
     "iopub.status.busy": "2022-09-24T10:12:51.141702Z",
     "iopub.status.idle": "2022-09-24T10:12:51.161442Z",
     "shell.execute_reply": "2022-09-24T10:12:51.162155Z"
    },
    "papermill": {
     "duration": 0.077527,
     "end_time": "2022-09-24T10:12:51.162355",
     "exception": false,
     "start_time": "2022-09-24T10:12:51.084828",
     "status": "completed"
    },
    "tags": []
   },
   "outputs": [],
   "source": [
    "#creating the x and y ranges according to the above generated plot.\n",
    "x_range = np.linspace(-4, 1, 100) \n",
    "y_range = np.linspace(-6, 6, 100) \n",
    "x_grid, y_grid = np.meshgrid(x_range, y_range) # x_grid and y_grig are of size 100 X 100\n",
    "\n",
    "# converting x_grid and y_grid to continuous arrays\n",
    "x_gridflat = np.ravel(x_grid)\n",
    "y_gridflat = np.ravel(y_grid)\n",
    "\n",
    "# The last layer of the current model takes two columns as input. Hence transpose of np.vstack() is required.\n",
    "X = np.vstack((x_gridflat, y_gridflat)).T\n",
    "\n",
    "prob_contour = model_prob(X).reshape(100,100) "
   ]
  },
  {
   "cell_type": "code",
   "execution_count": 29,
   "id": "da72499a",
   "metadata": {
    "execution": {
     "iopub.execute_input": "2022-09-24T10:12:51.278921Z",
     "iopub.status.busy": "2022-09-24T10:12:51.278242Z",
     "iopub.status.idle": "2022-09-24T10:12:51.578376Z",
     "shell.execute_reply": "2022-09-24T10:12:51.576908Z"
    },
    "papermill": {
     "duration": 0.358696,
     "end_time": "2022-09-24T10:12:51.578540",
     "exception": false,
     "start_time": "2022-09-24T10:12:51.219844",
     "status": "completed"
    },
    "tags": []
   },
   "outputs": [
    {
     "data": {
      "image/png": "[encoded data removed]",
      "text/plain": [
       "<Figure size 720x648 with 1 Axes>"
      ]
     },
     "metadata": {
      "needs_background": "light"
     },
     "output_type": "display_data"
    }
   ],
   "source": [
    "plt.figure(figsize=(10,9))\n",
    "plt.scatter(testing_plot[:,0], testing_plot[:,1], alpha = 0.1, c = y_test.ravel())\n",
    "contours = plt.contour(x_grid,y_grid,prob_contour)\n",
    "plt.title('Probability Contours')\n",
    "plt.clabel(contours, inline = True );"
   ]
  },
  {
   "cell_type": "code",
   "execution_count": null,
   "id": "e81b4ac7",
   "metadata": {
    "papermill": {
     "duration": 0.058201,
     "end_time": "2022-09-24T10:12:51.696245",
     "exception": false,
     "start_time": "2022-09-24T10:12:51.638044",
     "status": "completed"
    },
    "tags": []
   },
   "outputs": [],
   "source": []
  }
 ],
 "metadata": {
  "kernelspec": {
   "display_name": "Python 3",
   "language": "python",
   "name": "python3"
  },
  "language_info": {
   "codemirror_mode": {
    "name": "ipython",
    "version": 3
   },
   "file_extension": ".py",
   "mimetype": "text/x-python",
   "name": "python",
   "nbconvert_exporter": "python",
   "pygments_lexer": "ipython3",
   "version": "3.6.15"
  },
  "papermill": {
   "default_parameters": {},
   "duration": 115.9258,
   "end_time": "2022-09-24T10:12:52.169703",
   "environment_variables": {},
   "exception": null,
   "input_path": "2020-08-11-part2.ipynb",
   "output_path": "2020-08-11-part2.ipynb",
   "parameters": {},
   "start_time": "2022-09-24T10:10:56.243903",
   "version": "2.3.3"
  }
 },
 "nbformat": 4,
 "nbformat_minor": 5
}