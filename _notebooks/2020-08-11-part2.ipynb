{
 "cells": [
  {
   "cell_type": "markdown",
   "id": "98380cd3",
   "metadata": {
    "papermill": {
     "duration": 0.029904,
     "end_time": "2022-05-26T00:38:23.404279",
     "exception": false,
     "start_time": "2022-05-26T00:38:23.374375",
     "status": "completed"
    },
    "tags": []
   },
   "source": [
    "# Distinguish Your Own Digits (DYOD)"
   ]
  },
  {
   "cell_type": "markdown",
   "id": "ef31240d",
   "metadata": {
    "papermill": {
     "duration": 0.023496,
     "end_time": "2022-05-26T00:38:23.452030",
     "exception": false,
     "start_time": "2022-05-26T00:38:23.428534",
     "status": "completed"
    },
    "tags": []
   },
   "source": [
    "You are going to write a classifier that distinguishes between the number 3 and number 8."
   ]
  },
  {
   "cell_type": "code",
   "execution_count": 1,
   "id": "b15c8646",
   "metadata": {
    "execution": {
     "iopub.execute_input": "2022-05-26T00:38:23.510429Z",
     "iopub.status.busy": "2022-05-26T00:38:23.509798Z",
     "iopub.status.idle": "2022-05-26T00:38:23.520631Z",
     "shell.execute_reply": "2022-05-26T00:38:23.520053Z"
    },
    "papermill": {
     "duration": 0.045184,
     "end_time": "2022-05-26T00:38:23.520750",
     "exception": false,
     "start_time": "2022-05-26T00:38:23.475566",
     "status": "completed"
    },
    "tags": []
   },
   "outputs": [],
   "source": [
    "%load_ext autoreload\n",
    "%autoreload 2"
   ]
  },
  {
   "cell_type": "code",
   "execution_count": 2,
   "id": "22ef38dc",
   "metadata": {
    "execution": {
     "iopub.execute_input": "2022-05-26T00:38:23.575532Z",
     "iopub.status.busy": "2022-05-26T00:38:23.574897Z",
     "iopub.status.idle": "2022-05-26T00:38:24.089546Z",
     "shell.execute_reply": "2022-05-26T00:38:24.090120Z"
    },
    "papermill": {
     "duration": 0.545998,
     "end_time": "2022-05-26T00:38:24.090300",
     "exception": false,
     "start_time": "2022-05-26T00:38:23.544302",
     "status": "completed"
    },
    "tags": []
   },
   "outputs": [],
   "source": [
    "%matplotlib inline\n",
    "import numpy as np\n",
    "import matplotlib.pyplot as plt\n",
    "import pandas as pd"
   ]
  },
  {
   "cell_type": "markdown",
   "id": "ba036198",
   "metadata": {
    "papermill": {
     "duration": 0.027093,
     "end_time": "2022-05-26T00:38:24.142175",
     "exception": false,
     "start_time": "2022-05-26T00:38:24.115082",
     "status": "completed"
    },
    "tags": []
   },
   "source": [
    "From the command line run `pip install mnist`. This is a library that will help you bring down the mnist dataset. If you run this from a notebook, you need to put  `!pip install mnist` in a cell by itself."
   ]
  },
  {
   "cell_type": "code",
   "execution_count": 3,
   "id": "bb6ad8a1",
   "metadata": {
    "execution": {
     "iopub.execute_input": "2022-05-26T00:38:24.193504Z",
     "iopub.status.busy": "2022-05-26T00:38:24.192930Z",
     "iopub.status.idle": "2022-05-26T00:38:25.893237Z",
     "shell.execute_reply": "2022-05-26T00:38:25.892717Z"
    },
    "papermill": {
     "duration": 1.72757,
     "end_time": "2022-05-26T00:38:25.893368",
     "exception": false,
     "start_time": "2022-05-26T00:38:24.165798",
     "status": "completed"
    },
    "tags": []
   },
   "outputs": [
    {
     "name": "stdout",
     "output_type": "stream",
     "text": [
      "Collecting mnist\r\n"
     ]
    },
    {
     "name": "stdout",
     "output_type": "stream",
     "text": [
      "  Downloading mnist-0.2.2-py2.py3-none-any.whl (3.5 kB)\r\n",
      "Requirement already satisfied: numpy in /opt/hostedtoolcache/Python/3.6.15/x64/lib/python3.6/site-packages (from mnist) (1.19.5)\r\n"
     ]
    },
    {
     "name": "stdout",
     "output_type": "stream",
     "text": [
      "Installing collected packages: mnist\r\n"
     ]
    },
    {
     "name": "stdout",
     "output_type": "stream",
     "text": [
      "Successfully installed mnist-0.2.2\r\n"
     ]
    }
   ],
   "source": [
    "!pip install mnist"
   ]
  },
  {
   "cell_type": "markdown",
   "id": "69df9c9a",
   "metadata": {
    "papermill": {
     "duration": 0.024749,
     "end_time": "2022-05-26T00:38:25.943131",
     "exception": false,
     "start_time": "2022-05-26T00:38:25.918382",
     "status": "completed"
    },
    "tags": []
   },
   "source": [
    "## Preparing the Data"
   ]
  },
  {
   "cell_type": "code",
   "execution_count": 4,
   "id": "7f69d806",
   "metadata": {
    "execution": {
     "iopub.execute_input": "2022-05-26T00:38:26.011217Z",
     "iopub.status.busy": "2022-05-26T00:38:26.003706Z",
     "iopub.status.idle": "2022-05-26T00:38:26.014967Z",
     "shell.execute_reply": "2022-05-26T00:38:26.015411Z"
    },
    "papermill": {
     "duration": 0.047888,
     "end_time": "2022-05-26T00:38:26.015531",
     "exception": false,
     "start_time": "2022-05-26T00:38:25.967643",
     "status": "completed"
    },
    "tags": []
   },
   "outputs": [],
   "source": [
    "import mnist"
   ]
  },
  {
   "cell_type": "code",
   "execution_count": 5,
   "id": "a411e44f",
   "metadata": {
    "execution": {
     "iopub.execute_input": "2022-05-26T00:38:26.076472Z",
     "iopub.status.busy": "2022-05-26T00:38:26.067352Z",
     "iopub.status.idle": "2022-05-26T00:38:26.868463Z",
     "shell.execute_reply": "2022-05-26T00:38:26.867903Z"
    },
    "papermill": {
     "duration": 0.82848,
     "end_time": "2022-05-26T00:38:26.868601",
     "exception": false,
     "start_time": "2022-05-26T00:38:26.040121",
     "status": "completed"
    },
    "tags": []
   },
   "outputs": [],
   "source": [
    "train_images = mnist.train_images()\n",
    "train_labels = mnist.train_labels()"
   ]
  },
  {
   "cell_type": "code",
   "execution_count": 6,
   "id": "dceab3a5",
   "metadata": {
    "execution": {
     "iopub.execute_input": "2022-05-26T00:38:26.927215Z",
     "iopub.status.busy": "2022-05-26T00:38:26.926645Z",
     "iopub.status.idle": "2022-05-26T00:38:26.938615Z",
     "shell.execute_reply": "2022-05-26T00:38:26.939061Z"
    },
    "papermill": {
     "duration": 0.044997,
     "end_time": "2022-05-26T00:38:26.939186",
     "exception": false,
     "start_time": "2022-05-26T00:38:26.894189",
     "status": "completed"
    },
    "tags": []
   },
   "outputs": [
    {
     "data": {
      "text/plain": [
       "((60000, 28, 28), (60000,))"
      ]
     },
     "execution_count": 6,
     "metadata": {},
     "output_type": "execute_result"
    }
   ],
   "source": [
    "train_images.shape, train_labels.shape"
   ]
  },
  {
   "cell_type": "code",
   "execution_count": 7,
   "id": "f50dc2bb",
   "metadata": {
    "execution": {
     "iopub.execute_input": "2022-05-26T00:38:26.991969Z",
     "iopub.status.busy": "2022-05-26T00:38:26.991413Z",
     "iopub.status.idle": "2022-05-26T00:38:27.138668Z",
     "shell.execute_reply": "2022-05-26T00:38:27.138119Z"
    },
    "papermill": {
     "duration": 0.174908,
     "end_time": "2022-05-26T00:38:27.138785",
     "exception": false,
     "start_time": "2022-05-26T00:38:26.963877",
     "status": "completed"
    },
    "tags": []
   },
   "outputs": [],
   "source": [
    "test_images = mnist.test_images()\n",
    "test_labels = mnist.test_labels()"
   ]
  },
  {
   "cell_type": "code",
   "execution_count": 8,
   "id": "fc38cf1b",
   "metadata": {
    "execution": {
     "iopub.execute_input": "2022-05-26T00:38:27.192487Z",
     "iopub.status.busy": "2022-05-26T00:38:27.191913Z",
     "iopub.status.idle": "2022-05-26T00:38:27.206272Z",
     "shell.execute_reply": "2022-05-26T00:38:27.205772Z"
    },
    "papermill": {
     "duration": 0.042425,
     "end_time": "2022-05-26T00:38:27.206383",
     "exception": false,
     "start_time": "2022-05-26T00:38:27.163958",
     "status": "completed"
    },
    "tags": []
   },
   "outputs": [
    {
     "data": {
      "text/plain": [
       "((10000, 28, 28), (10000,))"
      ]
     },
     "execution_count": 8,
     "metadata": {},
     "output_type": "execute_result"
    }
   ],
   "source": [
    "test_images.shape, test_labels.shape"
   ]
  },
  {
   "cell_type": "code",
   "execution_count": 9,
   "id": "f9ed8fe0",
   "metadata": {
    "execution": {
     "iopub.execute_input": "2022-05-26T00:38:27.259925Z",
     "iopub.status.busy": "2022-05-26T00:38:27.259369Z",
     "iopub.status.idle": "2022-05-26T00:38:27.395357Z",
     "shell.execute_reply": "2022-05-26T00:38:27.396079Z"
    },
    "papermill": {
     "duration": 0.164753,
     "end_time": "2022-05-26T00:38:27.396212",
     "exception": false,
     "start_time": "2022-05-26T00:38:27.231459",
     "status": "completed"
    },
    "tags": []
   },
   "outputs": [
    {
     "name": "stdout",
     "output_type": "stream",
     "text": [
      "2\n"
     ]
    },
    {
     "data": {
      "text/plain": [
       "<matplotlib.image.AxesImage at 0x7fc7bff67e80>"
      ]
     },
     "execution_count": 9,
     "metadata": {},
     "output_type": "execute_result"
    },
    {
     "data": {
      "image/png": "[encoded data removed]",
      "text/plain": [
       "<Figure size 432x288 with 1 Axes>"
      ]
     },
     "metadata": {
      "needs_background": "light"
     },
     "output_type": "display_data"
    }
   ],
   "source": [
    "image_index = 7776 # You may select anything up to 60,000\n",
    "print(train_labels[image_index]) \n",
    "plt.imshow(train_images[image_index], cmap='Greys')"
   ]
  },
  {
   "cell_type": "markdown",
   "id": "a8d2388d",
   "metadata": {
    "papermill": {
     "duration": 0.026116,
     "end_time": "2022-05-26T00:38:27.448670",
     "exception": false,
     "start_time": "2022-05-26T00:38:27.422554",
     "status": "completed"
    },
    "tags": []
   },
   "source": [
    "## Filter data to get 3 and 8 out"
   ]
  },
  {
   "cell_type": "code",
   "execution_count": 10,
   "id": "776f7fc7",
   "metadata": {
    "execution": {
     "iopub.execute_input": "2022-05-26T00:38:27.507057Z",
     "iopub.status.busy": "2022-05-26T00:38:27.506387Z",
     "iopub.status.idle": "2022-05-26T00:38:27.524365Z",
     "shell.execute_reply": "2022-05-26T00:38:27.523796Z"
    },
    "papermill": {
     "duration": 0.049663,
     "end_time": "2022-05-26T00:38:27.524482",
     "exception": false,
     "start_time": "2022-05-26T00:38:27.474819",
     "status": "completed"
    },
    "tags": []
   },
   "outputs": [],
   "source": [
    "train_filter = np.where((train_labels == 3 ) | (train_labels == 8))\n",
    "test_filter = np.where((test_labels == 3) | (test_labels == 8))\n",
    "X_train, y_train = train_images[train_filter], train_labels[train_filter]\n",
    "X_test, y_test = test_images[test_filter], test_labels[test_filter]"
   ]
  },
  {
   "cell_type": "markdown",
   "id": "948f0b7e",
   "metadata": {
    "papermill": {
     "duration": 0.026165,
     "end_time": "2022-05-26T00:38:27.577927",
     "exception": false,
     "start_time": "2022-05-26T00:38:27.551762",
     "status": "completed"
    },
    "tags": []
   },
   "source": [
    "We normalize the pizel values in the 0 to 1 range"
   ]
  },
  {
   "cell_type": "code",
   "execution_count": 11,
   "id": "ee4c2166",
   "metadata": {
    "execution": {
     "iopub.execute_input": "2022-05-26T00:38:27.648401Z",
     "iopub.status.busy": "2022-05-26T00:38:27.647831Z",
     "iopub.status.idle": "2022-05-26T00:38:27.690977Z",
     "shell.execute_reply": "2022-05-26T00:38:27.690361Z"
    },
    "papermill": {
     "duration": 0.083985,
     "end_time": "2022-05-26T00:38:27.691112",
     "exception": false,
     "start_time": "2022-05-26T00:38:27.607127",
     "status": "completed"
    },
    "tags": []
   },
   "outputs": [],
   "source": [
    "X_train = X_train/255.\n",
    "X_test = X_test/255."
   ]
  },
  {
   "cell_type": "markdown",
   "id": "ddcf4fab",
   "metadata": {
    "papermill": {
     "duration": 0.026644,
     "end_time": "2022-05-26T00:38:27.745053",
     "exception": false,
     "start_time": "2022-05-26T00:38:27.718409",
     "status": "completed"
    },
    "tags": []
   },
   "source": [
    "And setup the labels as 1 (when the digit is 3) and 0 (when the digit is 8)"
   ]
  },
  {
   "cell_type": "code",
   "execution_count": 12,
   "id": "7dc908f2",
   "metadata": {
    "execution": {
     "iopub.execute_input": "2022-05-26T00:38:27.802631Z",
     "iopub.status.busy": "2022-05-26T00:38:27.800427Z",
     "iopub.status.idle": "2022-05-26T00:38:27.813994Z",
     "shell.execute_reply": "2022-05-26T00:38:27.813495Z"
    },
    "papermill": {
     "duration": 0.042893,
     "end_time": "2022-05-26T00:38:27.814107",
     "exception": false,
     "start_time": "2022-05-26T00:38:27.771214",
     "status": "completed"
    },
    "tags": []
   },
   "outputs": [],
   "source": [
    "y_train = 1*(y_train==3)\n",
    "y_test = 1*(y_test==3)"
   ]
  },
  {
   "cell_type": "code",
   "execution_count": 13,
   "id": "01e4e969",
   "metadata": {
    "execution": {
     "iopub.execute_input": "2022-05-26T00:38:27.874605Z",
     "iopub.status.busy": "2022-05-26T00:38:27.869006Z",
     "iopub.status.idle": "2022-05-26T00:38:27.884350Z",
     "shell.execute_reply": "2022-05-26T00:38:27.884768Z"
    },
    "papermill": {
     "duration": 0.044619,
     "end_time": "2022-05-26T00:38:27.884887",
     "exception": false,
     "start_time": "2022-05-26T00:38:27.840268",
     "status": "completed"
    },
    "tags": []
   },
   "outputs": [
    {
     "data": {
      "text/plain": [
       "((11982, 28, 28), (1984, 28, 28))"
      ]
     },
     "execution_count": 13,
     "metadata": {},
     "output_type": "execute_result"
    }
   ],
   "source": [
    "X_train.shape, X_test.shape"
   ]
  },
  {
   "cell_type": "markdown",
   "id": "5ccf3f85",
   "metadata": {
    "papermill": {
     "duration": 0.026242,
     "end_time": "2022-05-26T00:38:27.937411",
     "exception": false,
     "start_time": "2022-05-26T00:38:27.911169",
     "status": "completed"
    },
    "tags": []
   },
   "source": [
    "We reshape the data to flatten the image pixels into a set of features or co-variates:"
   ]
  },
  {
   "cell_type": "code",
   "execution_count": 14,
   "id": "5286a4a3",
   "metadata": {
    "execution": {
     "iopub.execute_input": "2022-05-26T00:38:27.998931Z",
     "iopub.status.busy": "2022-05-26T00:38:27.993134Z",
     "iopub.status.idle": "2022-05-26T00:38:28.011047Z",
     "shell.execute_reply": "2022-05-26T00:38:28.010287Z"
    },
    "papermill": {
     "duration": 0.047253,
     "end_time": "2022-05-26T00:38:28.011154",
     "exception": false,
     "start_time": "2022-05-26T00:38:27.963901",
     "status": "completed"
    },
    "tags": []
   },
   "outputs": [
    {
     "data": {
      "text/plain": [
       "((11982, 784), (1984, 784))"
      ]
     },
     "execution_count": 14,
     "metadata": {},
     "output_type": "execute_result"
    }
   ],
   "source": [
    "X_train = X_train.reshape(X_train.shape[0], -1)\n",
    "X_test = X_test.reshape(X_test.shape[0], -1)\n",
    "X_train.shape, X_test.shape"
   ]
  },
  {
   "cell_type": "code",
   "execution_count": 15,
   "id": "73c5f88a",
   "metadata": {
    "execution": {
     "iopub.execute_input": "2022-05-26T00:38:28.068232Z",
     "iopub.status.busy": "2022-05-26T00:38:28.067666Z",
     "iopub.status.idle": "2022-05-26T00:38:28.086089Z",
     "shell.execute_reply": "2022-05-26T00:38:28.086562Z"
    },
    "papermill": {
     "duration": 0.048972,
     "end_time": "2022-05-26T00:38:28.086674",
     "exception": false,
     "start_time": "2022-05-26T00:38:28.037702",
     "status": "completed"
    },
    "tags": []
   },
   "outputs": [],
   "source": [
    "#Impoting functions from 'Kudzu'\n",
    "from kudzu.model import Model\n",
    "from kudzu.train import Learner\n",
    "from kudzu.optim import GD\n",
    "from kudzu.data import Data, Sampler,Dataloader\n",
    "\n",
    "from kudzu.callbacks import AccCallback\n",
    "from kudzu.callbacks import ClfCallback\n",
    "\n",
    "from kudzu.loss import MSE\n",
    "\n",
    "from kudzu.layer import Sigmoid,Relu\n",
    "from kudzu.layer import Affine"
   ]
  },
  {
   "cell_type": "markdown",
   "id": "bc01172a",
   "metadata": {
    "papermill": {
     "duration": 0.02652,
     "end_time": "2022-05-26T00:38:28.139831",
     "exception": false,
     "start_time": "2022-05-26T00:38:28.113311",
     "status": "completed"
    },
    "tags": []
   },
   "source": [
    "### Let us create a `Config` class, to store important parameters. \n",
    "This class essentially plays the role of a dictionary."
   ]
  },
  {
   "cell_type": "code",
   "execution_count": 16,
   "id": "978281aa",
   "metadata": {
    "execution": {
     "iopub.execute_input": "2022-05-26T00:38:28.196151Z",
     "iopub.status.busy": "2022-05-26T00:38:28.195588Z",
     "iopub.status.idle": "2022-05-26T00:38:28.208024Z",
     "shell.execute_reply": "2022-05-26T00:38:28.207563Z"
    },
    "papermill": {
     "duration": 0.041815,
     "end_time": "2022-05-26T00:38:28.208120",
     "exception": false,
     "start_time": "2022-05-26T00:38:28.166305",
     "status": "completed"
    },
    "tags": []
   },
   "outputs": [],
   "source": [
    "class Config:\n",
    "    pass\n",
    "config = Config()\n",
    "config.lr = 0.001\n",
    "config.num_epochs = 250\n",
    "config.bs = 50"
   ]
  },
  {
   "cell_type": "markdown",
   "id": "1385fa59",
   "metadata": {
    "papermill": {
     "duration": 0.026516,
     "end_time": "2022-05-26T00:38:28.261278",
     "exception": false,
     "start_time": "2022-05-26T00:38:28.234762",
     "status": "completed"
    },
    "tags": []
   },
   "source": [
    "### Running Models with the Training data\n",
    "Details about the network layers:\n",
    "- A first affine layer has 784 inputs and does 100 affine transforms. These are followed by a Relu\n",
    "- A second affine layer has 100 inputs from the 100 activations of the past layer, and does 100 affine transforms. These are followed by a Relu\n",
    "- A third affine layer has 100 activations and does 2 affine transformations to create an embedding for visualization. There is no non-linearity here.\n",
    "- A final \"logistic regression\" which has an affine transform from 2 inputs to 1 output, which is squeezed through a sigmoid.\n"
   ]
  },
  {
   "cell_type": "code",
   "execution_count": 17,
   "id": "2b9c66db",
   "metadata": {
    "execution": {
     "iopub.execute_input": "2022-05-26T00:38:28.326657Z",
     "iopub.status.busy": "2022-05-26T00:38:28.323315Z",
     "iopub.status.idle": "2022-05-26T00:38:28.332900Z",
     "shell.execute_reply": "2022-05-26T00:38:28.332353Z"
    },
    "papermill": {
     "duration": 0.045026,
     "end_time": "2022-05-26T00:38:28.333001",
     "exception": false,
     "start_time": "2022-05-26T00:38:28.287975",
     "status": "completed"
    },
    "tags": []
   },
   "outputs": [],
   "source": [
    "data = Data(X_train, y_train.reshape(-1,1))\n",
    "sampler = Sampler(data, config.bs, shuffle=True)\n",
    "\n",
    "dl = Dataloader(data, sampler)\n",
    "\n",
    "opt = GD(config.lr)\n",
    "loss = MSE()"
   ]
  },
  {
   "cell_type": "code",
   "execution_count": 18,
   "id": "b275e4c2",
   "metadata": {
    "execution": {
     "iopub.execute_input": "2022-05-26T00:38:28.390613Z",
     "iopub.status.busy": "2022-05-26T00:38:28.389160Z",
     "iopub.status.idle": "2022-05-26T00:38:28.400897Z",
     "shell.execute_reply": "2022-05-26T00:38:28.401324Z"
    },
    "papermill": {
     "duration": 0.041807,
     "end_time": "2022-05-26T00:38:28.401437",
     "exception": false,
     "start_time": "2022-05-26T00:38:28.359630",
     "status": "completed"
    },
    "tags": []
   },
   "outputs": [],
   "source": [
    "training_data_x = X_train\n",
    "testing_data_x = X_test\n",
    "training_data_y = y_train.reshape(-1,1)\n",
    "testing_data_y = y_test.reshape(-1,1)"
   ]
  },
  {
   "cell_type": "code",
   "execution_count": 19,
   "id": "76951160",
   "metadata": {
    "execution": {
     "iopub.execute_input": "2022-05-26T00:38:28.463140Z",
     "iopub.status.busy": "2022-05-26T00:38:28.457695Z",
     "iopub.status.idle": "2022-05-26T00:38:28.477176Z",
     "shell.execute_reply": "2022-05-26T00:38:28.477617Z"
    },
    "papermill": {
     "duration": 0.049799,
     "end_time": "2022-05-26T00:38:28.477726",
     "exception": false,
     "start_time": "2022-05-26T00:38:28.427927",
     "status": "completed"
    },
    "tags": []
   },
   "outputs": [
    {
     "name": "stdout",
     "output_type": "stream",
     "text": [
      "xavier\n",
      "xavier\n",
      "xavier\n",
      "xavier\n",
      "xavier\n"
     ]
    }
   ],
   "source": [
    "layers = [Affine(\"first\", 784, 100), Relu(\"first\"), Affine(\"second\", 100, 100), Relu(\"second\"), Affine(\"third\", 100, 2), Affine(\"last\", 2, 1), Sigmoid(\"last\")]\n",
    "model_nn = Model(layers)\n",
    "model_lr = Model([Affine(\"logits\", 784, 1), Sigmoid(\"sigmoid\")])"
   ]
  },
  {
   "cell_type": "code",
   "execution_count": 20,
   "id": "6eede77a",
   "metadata": {
    "execution": {
     "iopub.execute_input": "2022-05-26T00:38:28.546156Z",
     "iopub.status.busy": "2022-05-26T00:38:28.534590Z",
     "iopub.status.idle": "2022-05-26T00:38:28.549255Z",
     "shell.execute_reply": "2022-05-26T00:38:28.548797Z"
    },
    "papermill": {
     "duration": 0.04457,
     "end_time": "2022-05-26T00:38:28.549353",
     "exception": false,
     "start_time": "2022-05-26T00:38:28.504783",
     "status": "completed"
    },
    "tags": []
   },
   "outputs": [],
   "source": [
    "nn_learner = Learner(loss, model_nn, opt, config.num_epochs)\n",
    "acc_nn = ClfCallback(nn_learner, config.bs, training_data_x , testing_data_x, training_data_y, testing_data_y)\n",
    "nn_learner.set_callbacks([acc_nn])"
   ]
  },
  {
   "cell_type": "code",
   "execution_count": 21,
   "id": "877b6cc7",
   "metadata": {
    "execution": {
     "iopub.execute_input": "2022-05-26T00:38:28.606860Z",
     "iopub.status.busy": "2022-05-26T00:38:28.606304Z",
     "iopub.status.idle": "2022-05-26T00:38:28.617406Z",
     "shell.execute_reply": "2022-05-26T00:38:28.617895Z"
    },
    "papermill": {
     "duration": 0.041568,
     "end_time": "2022-05-26T00:38:28.618007",
     "exception": false,
     "start_time": "2022-05-26T00:38:28.576439",
     "status": "completed"
    },
    "tags": []
   },
   "outputs": [],
   "source": [
    "lr_learner = Learner(loss, model_lr, opt, config.num_epochs)\n",
    "acc_lr = ClfCallback(lr_learner, config.bs, training_data_x , testing_data_x, training_data_y, testing_data_y)\n",
    "lr_learner.set_callbacks([acc_lr])"
   ]
  },
  {
   "cell_type": "code",
   "execution_count": 22,
   "id": "d9b133c3",
   "metadata": {
    "execution": {
     "iopub.execute_input": "2022-05-26T00:38:28.674683Z",
     "iopub.status.busy": "2022-05-26T00:38:28.674127Z",
     "iopub.status.idle": "2022-05-26T00:39:42.362285Z",
     "shell.execute_reply": "2022-05-26T00:39:42.363126Z"
    },
    "papermill": {
     "duration": 73.718404,
     "end_time": "2022-05-26T00:39:42.363280",
     "exception": false,
     "start_time": "2022-05-26T00:38:28.644876",
     "status": "completed"
    },
    "tags": []
   },
   "outputs": [
    {
     "name": "stdout",
     "output_type": "stream",
     "text": [
      "Epoch 0, Loss 0.2474\n",
      "Training Accuracy: 0.6995, Testing Accuracy: 0.7233\n",
      "\n"
     ]
    },
    {
     "name": "stdout",
     "output_type": "stream",
     "text": [
      "Epoch 10, Loss 0.0679\n",
      "Training Accuracy: 0.9283, Testing Accuracy: 0.9415\n",
      "\n"
     ]
    },
    {
     "name": "stdout",
     "output_type": "stream",
     "text": [
      "Epoch 20, Loss 0.0454\n",
      "Training Accuracy: 0.9516, Testing Accuracy: 0.9602\n",
      "\n"
     ]
    },
    {
     "name": "stdout",
     "output_type": "stream",
     "text": [
      "Epoch 30, Loss 0.0373\n",
      "Training Accuracy: 0.9584, Testing Accuracy: 0.9667\n",
      "\n"
     ]
    },
    {
     "name": "stdout",
     "output_type": "stream",
     "text": [
      "Epoch 40, Loss 0.033\n",
      "Training Accuracy: 0.9619, Testing Accuracy: 0.9698\n",
      "\n"
     ]
    },
    {
     "name": "stdout",
     "output_type": "stream",
     "text": [
      "Epoch 50, Loss 0.0303\n",
      "Training Accuracy: 0.9644, Testing Accuracy: 0.9708\n",
      "\n"
     ]
    },
    {
     "name": "stdout",
     "output_type": "stream",
     "text": [
      "Epoch 60, Loss 0.0283\n",
      "Training Accuracy: 0.9673, Testing Accuracy: 0.9713\n",
      "\n"
     ]
    },
    {
     "name": "stdout",
     "output_type": "stream",
     "text": [
      "Epoch 70, Loss 0.0268\n",
      "Training Accuracy: 0.9687, Testing Accuracy: 0.9718\n",
      "\n"
     ]
    },
    {
     "name": "stdout",
     "output_type": "stream",
     "text": [
      "Epoch 80, Loss 0.0256\n",
      "Training Accuracy: 0.9700, Testing Accuracy: 0.9723\n",
      "\n"
     ]
    },
    {
     "name": "stdout",
     "output_type": "stream",
     "text": [
      "Epoch 90, Loss 0.0245\n",
      "Training Accuracy: 0.9716, Testing Accuracy: 0.9728\n",
      "\n"
     ]
    },
    {
     "name": "stdout",
     "output_type": "stream",
     "text": [
      "Epoch 100, Loss 0.0236\n",
      "Training Accuracy: 0.9727, Testing Accuracy: 0.9738\n",
      "\n"
     ]
    },
    {
     "name": "stdout",
     "output_type": "stream",
     "text": [
      "Epoch 110, Loss 0.0228\n",
      "Training Accuracy: 0.9735, Testing Accuracy: 0.9748\n",
      "\n"
     ]
    },
    {
     "name": "stdout",
     "output_type": "stream",
     "text": [
      "Epoch 120, Loss 0.0221\n",
      "Training Accuracy: 0.9745, Testing Accuracy: 0.9758\n",
      "\n"
     ]
    },
    {
     "name": "stdout",
     "output_type": "stream",
     "text": [
      "Epoch 130, Loss 0.0215\n",
      "Training Accuracy: 0.9755, Testing Accuracy: 0.9753\n",
      "\n"
     ]
    },
    {
     "name": "stdout",
     "output_type": "stream",
     "text": [
      "Epoch 140, Loss 0.0209\n",
      "Training Accuracy: 0.9766, Testing Accuracy: 0.9753\n",
      "\n"
     ]
    },
    {
     "name": "stdout",
     "output_type": "stream",
     "text": [
      "Epoch 150, Loss 0.0203\n",
      "Training Accuracy: 0.9776, Testing Accuracy: 0.9758\n",
      "\n"
     ]
    },
    {
     "name": "stdout",
     "output_type": "stream",
     "text": [
      "Epoch 160, Loss 0.0197\n",
      "Training Accuracy: 0.9780, Testing Accuracy: 0.9768\n",
      "\n"
     ]
    },
    {
     "name": "stdout",
     "output_type": "stream",
     "text": [
      "Epoch 170, Loss 0.0193\n",
      "Training Accuracy: 0.9787, Testing Accuracy: 0.9768\n",
      "\n"
     ]
    },
    {
     "name": "stdout",
     "output_type": "stream",
     "text": [
      "Epoch 180, Loss 0.0188\n",
      "Training Accuracy: 0.9791, Testing Accuracy: 0.9768\n",
      "\n"
     ]
    },
    {
     "name": "stdout",
     "output_type": "stream",
     "text": [
      "Epoch 190, Loss 0.0184\n",
      "Training Accuracy: 0.9796, Testing Accuracy: 0.9768\n",
      "\n"
     ]
    },
    {
     "name": "stdout",
     "output_type": "stream",
     "text": [
      "Epoch 200, Loss 0.0179\n",
      "Training Accuracy: 0.9803, Testing Accuracy: 0.9778\n",
      "\n"
     ]
    },
    {
     "name": "stdout",
     "output_type": "stream",
     "text": [
      "Epoch 210, Loss 0.0175\n",
      "Training Accuracy: 0.9806, Testing Accuracy: 0.9788\n",
      "\n"
     ]
    },
    {
     "name": "stdout",
     "output_type": "stream",
     "text": [
      "Epoch 220, Loss 0.0171\n",
      "Training Accuracy: 0.9815, Testing Accuracy: 0.9783\n",
      "\n"
     ]
    },
    {
     "name": "stdout",
     "output_type": "stream",
     "text": [
      "Epoch 230, Loss 0.0167\n",
      "Training Accuracy: 0.9817, Testing Accuracy: 0.9793\n",
      "\n"
     ]
    },
    {
     "name": "stdout",
     "output_type": "stream",
     "text": [
      "Epoch 240, Loss 0.0163\n",
      "Training Accuracy: 0.9817, Testing Accuracy: 0.9793\n",
      "\n"
     ]
    },
    {
     "data": {
      "text/plain": [
       "0.0021476570068646164"
      ]
     },
     "execution_count": 22,
     "metadata": {},
     "output_type": "execute_result"
    }
   ],
   "source": [
    "nn_learner.train_loop(dl)"
   ]
  },
  {
   "cell_type": "code",
   "execution_count": 23,
   "id": "e0163366",
   "metadata": {
    "execution": {
     "iopub.execute_input": "2022-05-26T00:39:42.443205Z",
     "iopub.status.busy": "2022-05-26T00:39:42.442644Z",
     "iopub.status.idle": "2022-05-26T00:39:55.498812Z",
     "shell.execute_reply": "2022-05-26T00:39:55.499657Z"
    },
    "papermill": {
     "duration": 13.101843,
     "end_time": "2022-05-26T00:39:55.499810",
     "exception": false,
     "start_time": "2022-05-26T00:39:42.397967",
     "status": "completed"
    },
    "tags": []
   },
   "outputs": [
    {
     "name": "stdout",
     "output_type": "stream",
     "text": [
      "Epoch 0, Loss 0.2309\n",
      "Training Accuracy: 0.7590, Testing Accuracy: 0.7535\n",
      "\n"
     ]
    },
    {
     "name": "stdout",
     "output_type": "stream",
     "text": [
      "Epoch 10, Loss 0.0988\n",
      "Training Accuracy: 0.9218, Testing Accuracy: 0.9244\n",
      "\n"
     ]
    },
    {
     "name": "stdout",
     "output_type": "stream",
     "text": [
      "Epoch 20, Loss 0.0765\n",
      "Training Accuracy: 0.9356, Testing Accuracy: 0.9390\n",
      "\n"
     ]
    },
    {
     "name": "stdout",
     "output_type": "stream",
     "text": [
      "Epoch 30, Loss 0.0662\n",
      "Training Accuracy: 0.9409, Testing Accuracy: 0.9486\n",
      "\n"
     ]
    },
    {
     "name": "stdout",
     "output_type": "stream",
     "text": [
      "Epoch 40, Loss 0.06\n",
      "Training Accuracy: 0.9437, Testing Accuracy: 0.9531\n",
      "\n"
     ]
    },
    {
     "name": "stdout",
     "output_type": "stream",
     "text": [
      "Epoch 50, Loss 0.0557\n",
      "Training Accuracy: 0.9473, Testing Accuracy: 0.9567\n",
      "\n"
     ]
    },
    {
     "name": "stdout",
     "output_type": "stream",
     "text": [
      "Epoch 60, Loss 0.0526\n",
      "Training Accuracy: 0.9490, Testing Accuracy: 0.9597\n",
      "\n"
     ]
    },
    {
     "name": "stdout",
     "output_type": "stream",
     "text": [
      "Epoch 70, Loss 0.0502\n",
      "Training Accuracy: 0.9513, Testing Accuracy: 0.9602\n",
      "\n"
     ]
    },
    {
     "name": "stdout",
     "output_type": "stream",
     "text": [
      "Epoch 80, Loss 0.0482\n",
      "Training Accuracy: 0.9528, Testing Accuracy: 0.9612\n",
      "\n"
     ]
    },
    {
     "name": "stdout",
     "output_type": "stream",
     "text": [
      "Epoch 90, Loss 0.0466\n",
      "Training Accuracy: 0.9537, Testing Accuracy: 0.9622\n",
      "\n"
     ]
    },
    {
     "name": "stdout",
     "output_type": "stream",
     "text": [
      "Epoch 100, Loss 0.0453\n",
      "Training Accuracy: 0.9550, Testing Accuracy: 0.9637\n",
      "\n"
     ]
    },
    {
     "name": "stdout",
     "output_type": "stream",
     "text": [
      "Epoch 110, Loss 0.0441\n",
      "Training Accuracy: 0.9561, Testing Accuracy: 0.9637\n",
      "\n"
     ]
    },
    {
     "name": "stdout",
     "output_type": "stream",
     "text": [
      "Epoch 120, Loss 0.0431\n",
      "Training Accuracy: 0.9568, Testing Accuracy: 0.9642\n",
      "\n"
     ]
    },
    {
     "name": "stdout",
     "output_type": "stream",
     "text": [
      "Epoch 130, Loss 0.0422\n",
      "Training Accuracy: 0.9574, Testing Accuracy: 0.9652\n",
      "\n"
     ]
    },
    {
     "name": "stdout",
     "output_type": "stream",
     "text": [
      "Epoch 140, Loss 0.0414\n",
      "Training Accuracy: 0.9577, Testing Accuracy: 0.9657\n",
      "\n"
     ]
    },
    {
     "name": "stdout",
     "output_type": "stream",
     "text": [
      "Epoch 150, Loss 0.0407\n",
      "Training Accuracy: 0.9583, Testing Accuracy: 0.9657\n",
      "\n"
     ]
    },
    {
     "name": "stdout",
     "output_type": "stream",
     "text": [
      "Epoch 160, Loss 0.0401\n",
      "Training Accuracy: 0.9592, Testing Accuracy: 0.9662\n",
      "\n"
     ]
    },
    {
     "name": "stdout",
     "output_type": "stream",
     "text": [
      "Epoch 170, Loss 0.0395\n",
      "Training Accuracy: 0.9602, Testing Accuracy: 0.9657\n",
      "\n"
     ]
    },
    {
     "name": "stdout",
     "output_type": "stream",
     "text": [
      "Epoch 180, Loss 0.0389\n",
      "Training Accuracy: 0.9604, Testing Accuracy: 0.9657\n",
      "\n"
     ]
    },
    {
     "name": "stdout",
     "output_type": "stream",
     "text": [
      "Epoch 190, Loss 0.0384\n",
      "Training Accuracy: 0.9607, Testing Accuracy: 0.9657\n",
      "\n"
     ]
    },
    {
     "name": "stdout",
     "output_type": "stream",
     "text": [
      "Epoch 200, Loss 0.038\n",
      "Training Accuracy: 0.9610, Testing Accuracy: 0.9662\n",
      "\n"
     ]
    },
    {
     "name": "stdout",
     "output_type": "stream",
     "text": [
      "Epoch 210, Loss 0.0376\n",
      "Training Accuracy: 0.9614, Testing Accuracy: 0.9662\n",
      "\n"
     ]
    },
    {
     "name": "stdout",
     "output_type": "stream",
     "text": [
      "Epoch 220, Loss 0.0372\n",
      "Training Accuracy: 0.9616, Testing Accuracy: 0.9662\n",
      "\n"
     ]
    },
    {
     "name": "stdout",
     "output_type": "stream",
     "text": [
      "Epoch 230, Loss 0.0368\n",
      "Training Accuracy: 0.9619, Testing Accuracy: 0.9662\n",
      "\n"
     ]
    },
    {
     "name": "stdout",
     "output_type": "stream",
     "text": [
      "Epoch 240, Loss 0.0364\n",
      "Training Accuracy: 0.9621, Testing Accuracy: 0.9667\n",
      "\n"
     ]
    },
    {
     "data": {
      "text/plain": [
       "0.014011957072062204"
      ]
     },
     "execution_count": 23,
     "metadata": {},
     "output_type": "execute_result"
    }
   ],
   "source": [
    "lr_learner.train_loop(dl)"
   ]
  },
  {
   "cell_type": "code",
   "execution_count": 24,
   "id": "ca410940",
   "metadata": {
    "execution": {
     "iopub.execute_input": "2022-05-26T00:39:55.595312Z",
     "iopub.status.busy": "2022-05-26T00:39:55.594655Z",
     "iopub.status.idle": "2022-05-26T00:39:55.813180Z",
     "shell.execute_reply": "2022-05-26T00:39:55.812653Z"
    },
    "papermill": {
     "duration": 0.272227,
     "end_time": "2022-05-26T00:39:55.813317",
     "exception": false,
     "start_time": "2022-05-26T00:39:55.541090",
     "status": "completed"
    },
    "tags": []
   },
   "outputs": [
    {
     "data": {
      "text/plain": [
       "<matplotlib.legend.Legend at 0x7fc7bfad84e0>"
      ]
     },
     "execution_count": 24,
     "metadata": {},
     "output_type": "execute_result"
    },
    {
     "data": {
      "image/png": "[encoded data removed]",
      "text/plain": [
       "<Figure size 1080x720 with 1 Axes>"
      ]
     },
     "metadata": {
      "needs_background": "light"
     },
     "output_type": "display_data"
    }
   ],
   "source": [
    "#comparing the results of NN and LR\n",
    "plt.figure(figsize=(15,10))\n",
    "\n",
    "# Neural Network plots\n",
    "plt.plot(acc_nn.accuracies, 'r-', label = \"Training Accuracies - NN\")\n",
    "plt.plot(acc_nn.test_accuracies, 'g-', label = \"Testing Accuracies - NN\")\n",
    "\n",
    "# Logistic Regression plots\n",
    "plt.plot(acc_lr.accuracies, 'k-', label = \"Training Accuracies - LR\")\n",
    "plt.plot(acc_lr.test_accuracies, 'b-', label = \"Testing Accuracies - LR\")\n",
    "plt.legend()"
   ]
  },
  {
   "cell_type": "markdown",
   "id": "80dfb35c",
   "metadata": {
    "papermill": {
     "duration": 0.041907,
     "end_time": "2022-05-26T00:39:55.897464",
     "exception": false,
     "start_time": "2022-05-26T00:39:55.855557",
     "status": "completed"
    },
    "tags": []
   },
   "source": [
    "#### Plotting the outputs of this layer of the NN.\n"
   ]
  },
  {
   "cell_type": "code",
   "execution_count": 25,
   "id": "45eb2ff5",
   "metadata": {
    "execution": {
     "iopub.execute_input": "2022-05-26T00:39:55.984930Z",
     "iopub.status.busy": "2022-05-26T00:39:55.984347Z",
     "iopub.status.idle": "2022-05-26T00:39:56.004658Z",
     "shell.execute_reply": "2022-05-26T00:39:56.004182Z"
    },
    "papermill": {
     "duration": 0.065625,
     "end_time": "2022-05-26T00:39:56.004766",
     "exception": false,
     "start_time": "2022-05-26T00:39:55.939141",
     "status": "completed"
    },
    "tags": []
   },
   "outputs": [],
   "source": [
    "new_model = Model(layers[:-2])\n",
    "testing_plot = new_model(testing_data_x)"
   ]
  },
  {
   "cell_type": "code",
   "execution_count": 26,
   "id": "4c0a5485",
   "metadata": {
    "execution": {
     "iopub.execute_input": "2022-05-26T00:39:56.092901Z",
     "iopub.status.busy": "2022-05-26T00:39:56.092334Z",
     "iopub.status.idle": "2022-05-26T00:39:56.287872Z",
     "shell.execute_reply": "2022-05-26T00:39:56.288326Z"
    },
    "papermill": {
     "duration": 0.241643,
     "end_time": "2022-05-26T00:39:56.288460",
     "exception": false,
     "start_time": "2022-05-26T00:39:56.046817",
     "status": "completed"
    },
    "tags": []
   },
   "outputs": [
    {
     "data": {
      "text/plain": [
       "Text(0.5, 1.0, 'Outputs')"
      ]
     },
     "execution_count": 26,
     "metadata": {},
     "output_type": "execute_result"
    },
    {
     "data": {
      "image/png": "[encoded data removed]",
      "text/plain": [
       "<Figure size 576x504 with 1 Axes>"
      ]
     },
     "metadata": {
      "needs_background": "light"
     },
     "output_type": "display_data"
    }
   ],
   "source": [
    "# Plotting the scatter plot of points and color coding by class\n",
    "plt.figure(figsize=(8,7))\n",
    "plt.scatter(testing_plot[:,0], testing_plot[:,1], alpha = 0.1, c = y_test.ravel());\n",
    "plt.title('Outputs')"
   ]
  },
  {
   "cell_type": "markdown",
   "id": "a74fcf8f",
   "metadata": {
    "papermill": {
     "duration": 0.044301,
     "end_time": "2022-05-26T00:39:56.377019",
     "exception": false,
     "start_time": "2022-05-26T00:39:56.332718",
     "status": "completed"
    },
    "tags": []
   },
   "source": [
    "Probability contours"
   ]
  },
  {
   "cell_type": "code",
   "execution_count": 27,
   "id": "d0afc8e3",
   "metadata": {
    "execution": {
     "iopub.execute_input": "2022-05-26T00:39:56.496445Z",
     "iopub.status.busy": "2022-05-26T00:39:56.495884Z",
     "iopub.status.idle": "2022-05-26T00:39:56.509173Z",
     "shell.execute_reply": "2022-05-26T00:39:56.508708Z"
    },
    "papermill": {
     "duration": 0.088158,
     "end_time": "2022-05-26T00:39:56.509275",
     "exception": false,
     "start_time": "2022-05-26T00:39:56.421117",
     "status": "completed"
    },
    "tags": []
   },
   "outputs": [],
   "source": [
    "model_prob = Model(layers[-2:]) "
   ]
  },
  {
   "cell_type": "code",
   "execution_count": 28,
   "id": "9b96e238",
   "metadata": {
    "execution": {
     "iopub.execute_input": "2022-05-26T00:39:56.601964Z",
     "iopub.status.busy": "2022-05-26T00:39:56.601370Z",
     "iopub.status.idle": "2022-05-26T00:39:56.616846Z",
     "shell.execute_reply": "2022-05-26T00:39:56.617266Z"
    },
    "papermill": {
     "duration": 0.064184,
     "end_time": "2022-05-26T00:39:56.617385",
     "exception": false,
     "start_time": "2022-05-26T00:39:56.553201",
     "status": "completed"
    },
    "tags": []
   },
   "outputs": [],
   "source": [
    "#creating the x and y ranges according to the above generated plot.\n",
    "x_range = np.linspace(-4, 1, 100) \n",
    "y_range = np.linspace(-6, 6, 100) \n",
    "x_grid, y_grid = np.meshgrid(x_range, y_range) # x_grid and y_grig are of size 100 X 100\n",
    "\n",
    "# converting x_grid and y_grid to continuous arrays\n",
    "x_gridflat = np.ravel(x_grid)\n",
    "y_gridflat = np.ravel(y_grid)\n",
    "\n",
    "# The last layer of the current model takes two columns as input. Hence transpose of np.vstack() is required.\n",
    "X = np.vstack((x_gridflat, y_gridflat)).T\n",
    "\n",
    "prob_contour = model_prob(X).reshape(100,100) "
   ]
  },
  {
   "cell_type": "code",
   "execution_count": 29,
   "id": "da72499a",
   "metadata": {
    "execution": {
     "iopub.execute_input": "2022-05-26T00:39:56.709990Z",
     "iopub.status.busy": "2022-05-26T00:39:56.709381Z",
     "iopub.status.idle": "2022-05-26T00:39:56.961653Z",
     "shell.execute_reply": "2022-05-26T00:39:56.961072Z"
    },
    "papermill": {
     "duration": 0.300523,
     "end_time": "2022-05-26T00:39:56.961773",
     "exception": false,
     "start_time": "2022-05-26T00:39:56.661250",
     "status": "completed"
    },
    "tags": []
   },
   "outputs": [
    {
     "data": {
      "image/png": "[encoded data removed]",
      "text/plain": [
       "<Figure size 720x648 with 1 Axes>"
      ]
     },
     "metadata": {
      "needs_background": "light"
     },
     "output_type": "display_data"
    }
   ],
   "source": [
    "plt.figure(figsize=(10,9))\n",
    "plt.scatter(testing_plot[:,0], testing_plot[:,1], alpha = 0.1, c = y_test.ravel())\n",
    "contours = plt.contour(x_grid,y_grid,prob_contour)\n",
    "plt.title('Probability Contours')\n",
    "plt.clabel(contours, inline = True );"
   ]
  },
  {
   "cell_type": "code",
   "execution_count": null,
   "id": "e81b4ac7",
   "metadata": {
    "papermill": {
     "duration": 0.046883,
     "end_time": "2022-05-26T00:39:57.056395",
     "exception": false,
     "start_time": "2022-05-26T00:39:57.009512",
     "status": "completed"
    },
    "tags": []
   },
   "outputs": [],
   "source": []
  }
 ],
 "metadata": {
  "kernelspec": {
   "display_name": "Python 3",
   "language": "python",
   "name": "python3"
  },
  "language_info": {
   "codemirror_mode": {
    "name": "ipython",
    "version": 3
   },
   "file_extension": ".py",
   "mimetype": "text/x-python",
   "name": "python",
   "nbconvert_exporter": "python",
   "pygments_lexer": "ipython3",
   "version": "3.6.15"
  },
  "papermill": {
   "default_parameters": {},
   "duration": 95.072702,
   "end_time": "2022-05-26T00:39:57.522926",
   "environment_variables": {},
   "exception": null,
   "input_path": "2020-08-11-part2.ipynb",
   "output_path": "2020-08-11-part2.ipynb",
   "parameters": {},
   "start_time": "2022-05-26T00:38:22.450224",
   "version": "2.3.3"
  }
 },
 "nbformat": 4,
 "nbformat_minor": 5
}