{
 "cells": [
  {
   "cell_type": "markdown",
   "id": "98380cd3",
   "metadata": {
    "papermill": {
     "duration": 0.029123,
     "end_time": "2022-08-30T10:10:17.291683",
     "exception": false,
     "start_time": "2022-08-30T10:10:17.262560",
     "status": "completed"
    },
    "tags": []
   },
   "source": [
    "# Distinguish Your Own Digits (DYOD)"
   ]
  },
  {
   "cell_type": "markdown",
   "id": "ef31240d",
   "metadata": {
    "papermill": {
     "duration": 0.024004,
     "end_time": "2022-08-30T10:10:17.340497",
     "exception": false,
     "start_time": "2022-08-30T10:10:17.316493",
     "status": "completed"
    },
    "tags": []
   },
   "source": [
    "You are going to write a classifier that distinguishes between the number 3 and number 8."
   ]
  },
  {
   "cell_type": "code",
   "execution_count": 1,
   "id": "b15c8646",
   "metadata": {
    "execution": {
     "iopub.execute_input": "2022-08-30T10:10:17.398318Z",
     "iopub.status.busy": "2022-08-30T10:10:17.397748Z",
     "iopub.status.idle": "2022-08-30T10:10:17.408301Z",
     "shell.execute_reply": "2022-08-30T10:10:17.407829Z"
    },
    "papermill": {
     "duration": 0.043973,
     "end_time": "2022-08-30T10:10:17.408412",
     "exception": false,
     "start_time": "2022-08-30T10:10:17.364439",
     "status": "completed"
    },
    "tags": []
   },
   "outputs": [],
   "source": [
    "%load_ext autoreload\n",
    "%autoreload 2"
   ]
  },
  {
   "cell_type": "code",
   "execution_count": 2,
   "id": "22ef38dc",
   "metadata": {
    "execution": {
     "iopub.execute_input": "2022-08-30T10:10:17.459857Z",
     "iopub.status.busy": "2022-08-30T10:10:17.459303Z",
     "iopub.status.idle": "2022-08-30T10:10:17.975871Z",
     "shell.execute_reply": "2022-08-30T10:10:17.975378Z"
    },
    "papermill": {
     "duration": 0.543694,
     "end_time": "2022-08-30T10:10:17.975986",
     "exception": false,
     "start_time": "2022-08-30T10:10:17.432292",
     "status": "completed"
    },
    "tags": []
   },
   "outputs": [],
   "source": [
    "%matplotlib inline\n",
    "import numpy as np\n",
    "import matplotlib.pyplot as plt\n",
    "import pandas as pd"
   ]
  },
  {
   "cell_type": "markdown",
   "id": "ba036198",
   "metadata": {
    "papermill": {
     "duration": 0.024235,
     "end_time": "2022-08-30T10:10:18.025093",
     "exception": false,
     "start_time": "2022-08-30T10:10:18.000858",
     "status": "completed"
    },
    "tags": []
   },
   "source": [
    "From the command line run `pip install mnist`. This is a library that will help you bring down the mnist dataset. If you run this from a notebook, you need to put  `!pip install mnist` in a cell by itself."
   ]
  },
  {
   "cell_type": "code",
   "execution_count": 3,
   "id": "bb6ad8a1",
   "metadata": {
    "execution": {
     "iopub.execute_input": "2022-08-30T10:10:18.077093Z",
     "iopub.status.busy": "2022-08-30T10:10:18.076526Z",
     "iopub.status.idle": "2022-08-30T10:10:20.620219Z",
     "shell.execute_reply": "2022-08-30T10:10:20.619706Z"
    },
    "papermill": {
     "duration": 2.57101,
     "end_time": "2022-08-30T10:10:20.620326",
     "exception": false,
     "start_time": "2022-08-30T10:10:18.049316",
     "status": "completed"
    },
    "tags": []
   },
   "outputs": [
    {
     "name": "stdout",
     "output_type": "stream",
     "text": [
      "Collecting mnist\r\n"
     ]
    },
    {
     "name": "stdout",
     "output_type": "stream",
     "text": [
      "  Downloading mnist-0.2.2-py2.py3-none-any.whl (3.5 kB)\r\n",
      "Requirement already satisfied: numpy in /opt/hostedtoolcache/Python/3.6.15/x64/lib/python3.6/site-packages (from mnist) (1.19.5)\r\n"
     ]
    },
    {
     "name": "stdout",
     "output_type": "stream",
     "text": [
      "Installing collected packages: mnist\r\n",
      "Successfully installed mnist-0.2.2\r\n"
     ]
    }
   ],
   "source": [
    "!pip install mnist"
   ]
  },
  {
   "cell_type": "markdown",
   "id": "69df9c9a",
   "metadata": {
    "papermill": {
     "duration": 0.024905,
     "end_time": "2022-08-30T10:10:20.670270",
     "exception": false,
     "start_time": "2022-08-30T10:10:20.645365",
     "status": "completed"
    },
    "tags": []
   },
   "source": [
    "## Preparing the Data"
   ]
  },
  {
   "cell_type": "code",
   "execution_count": 4,
   "id": "7f69d806",
   "metadata": {
    "execution": {
     "iopub.execute_input": "2022-08-30T10:10:20.723754Z",
     "iopub.status.busy": "2022-08-30T10:10:20.723197Z",
     "iopub.status.idle": "2022-08-30T10:10:20.737530Z",
     "shell.execute_reply": "2022-08-30T10:10:20.737063Z"
    },
    "papermill": {
     "duration": 0.04257,
     "end_time": "2022-08-30T10:10:20.737633",
     "exception": false,
     "start_time": "2022-08-30T10:10:20.695063",
     "status": "completed"
    },
    "tags": []
   },
   "outputs": [],
   "source": [
    "import mnist"
   ]
  },
  {
   "cell_type": "code",
   "execution_count": 5,
   "id": "a411e44f",
   "metadata": {
    "execution": {
     "iopub.execute_input": "2022-08-30T10:10:20.791364Z",
     "iopub.status.busy": "2022-08-30T10:10:20.790784Z",
     "iopub.status.idle": "2022-08-30T10:10:21.428771Z",
     "shell.execute_reply": "2022-08-30T10:10:21.428265Z"
    },
    "papermill": {
     "duration": 0.666146,
     "end_time": "2022-08-30T10:10:21.428881",
     "exception": false,
     "start_time": "2022-08-30T10:10:20.762735",
     "status": "completed"
    },
    "tags": []
   },
   "outputs": [],
   "source": [
    "train_images = mnist.train_images()\n",
    "train_labels = mnist.train_labels()"
   ]
  },
  {
   "cell_type": "code",
   "execution_count": 6,
   "id": "dceab3a5",
   "metadata": {
    "execution": {
     "iopub.execute_input": "2022-08-30T10:10:21.485213Z",
     "iopub.status.busy": "2022-08-30T10:10:21.483654Z",
     "iopub.status.idle": "2022-08-30T10:10:21.497645Z",
     "shell.execute_reply": "2022-08-30T10:10:21.497088Z"
    },
    "papermill": {
     "duration": 0.043671,
     "end_time": "2022-08-30T10:10:21.497755",
     "exception": false,
     "start_time": "2022-08-30T10:10:21.454084",
     "status": "completed"
    },
    "tags": []
   },
   "outputs": [
    {
     "data": {
      "text/plain": [
       "((60000, 28, 28), (60000,))"
      ]
     },
     "execution_count": 6,
     "metadata": {},
     "output_type": "execute_result"
    }
   ],
   "source": [
    "train_images.shape, train_labels.shape"
   ]
  },
  {
   "cell_type": "code",
   "execution_count": 7,
   "id": "f50dc2bb",
   "metadata": {
    "execution": {
     "iopub.execute_input": "2022-08-30T10:10:21.553236Z",
     "iopub.status.busy": "2022-08-30T10:10:21.552041Z",
     "iopub.status.idle": "2022-08-30T10:10:21.786330Z",
     "shell.execute_reply": "2022-08-30T10:10:21.785464Z"
    },
    "papermill": {
     "duration": 0.263431,
     "end_time": "2022-08-30T10:10:21.786467",
     "exception": false,
     "start_time": "2022-08-30T10:10:21.523036",
     "status": "completed"
    },
    "tags": []
   },
   "outputs": [],
   "source": [
    "test_images = mnist.test_images()\n",
    "test_labels = mnist.test_labels()"
   ]
  },
  {
   "cell_type": "code",
   "execution_count": 8,
   "id": "fc38cf1b",
   "metadata": {
    "execution": {
     "iopub.execute_input": "2022-08-30T10:10:21.841662Z",
     "iopub.status.busy": "2022-08-30T10:10:21.841094Z",
     "iopub.status.idle": "2022-08-30T10:10:21.854581Z",
     "shell.execute_reply": "2022-08-30T10:10:21.854112Z"
    },
    "papermill": {
     "duration": 0.041988,
     "end_time": "2022-08-30T10:10:21.854692",
     "exception": false,
     "start_time": "2022-08-30T10:10:21.812704",
     "status": "completed"
    },
    "tags": []
   },
   "outputs": [
    {
     "data": {
      "text/plain": [
       "((10000, 28, 28), (10000,))"
      ]
     },
     "execution_count": 8,
     "metadata": {},
     "output_type": "execute_result"
    }
   ],
   "source": [
    "test_images.shape, test_labels.shape"
   ]
  },
  {
   "cell_type": "code",
   "execution_count": 9,
   "id": "f9ed8fe0",
   "metadata": {
    "execution": {
     "iopub.execute_input": "2022-08-30T10:10:21.909812Z",
     "iopub.status.busy": "2022-08-30T10:10:21.909250Z",
     "iopub.status.idle": "2022-08-30T10:10:22.046195Z",
     "shell.execute_reply": "2022-08-30T10:10:22.045713Z"
    },
    "papermill": {
     "duration": 0.166163,
     "end_time": "2022-08-30T10:10:22.046304",
     "exception": false,
     "start_time": "2022-08-30T10:10:21.880141",
     "status": "completed"
    },
    "tags": []
   },
   "outputs": [
    {
     "name": "stdout",
     "output_type": "stream",
     "text": [
      "2\n"
     ]
    },
    {
     "data": {
      "text/plain": [
       "<matplotlib.image.AxesImage at 0x7eff44030940>"
      ]
     },
     "execution_count": 9,
     "metadata": {},
     "output_type": "execute_result"
    },
    {
     "data": {
      "image/png": "[encoded data removed]",
      "text/plain": [
       "<Figure size 432x288 with 1 Axes>"
      ]
     },
     "metadata": {
      "needs_background": "light"
     },
     "output_type": "display_data"
    }
   ],
   "source": [
    "image_index = 7776 # You may select anything up to 60,000\n",
    "print(train_labels[image_index]) \n",
    "plt.imshow(train_images[image_index], cmap='Greys')"
   ]
  },
  {
   "cell_type": "markdown",
   "id": "a8d2388d",
   "metadata": {
    "papermill": {
     "duration": 0.026658,
     "end_time": "2022-08-30T10:10:22.099725",
     "exception": false,
     "start_time": "2022-08-30T10:10:22.073067",
     "status": "completed"
    },
    "tags": []
   },
   "source": [
    "## Filter data to get 3 and 8 out"
   ]
  },
  {
   "cell_type": "code",
   "execution_count": 10,
   "id": "776f7fc7",
   "metadata": {
    "execution": {
     "iopub.execute_input": "2022-08-30T10:10:22.157037Z",
     "iopub.status.busy": "2022-08-30T10:10:22.156464Z",
     "iopub.status.idle": "2022-08-30T10:10:22.174011Z",
     "shell.execute_reply": "2022-08-30T10:10:22.174463Z"
    },
    "papermill": {
     "duration": 0.048439,
     "end_time": "2022-08-30T10:10:22.174592",
     "exception": false,
     "start_time": "2022-08-30T10:10:22.126153",
     "status": "completed"
    },
    "tags": []
   },
   "outputs": [],
   "source": [
    "train_filter = np.where((train_labels == 3 ) | (train_labels == 8))\n",
    "test_filter = np.where((test_labels == 3) | (test_labels == 8))\n",
    "X_train, y_train = train_images[train_filter], train_labels[train_filter]\n",
    "X_test, y_test = test_images[test_filter], test_labels[test_filter]"
   ]
  },
  {
   "cell_type": "markdown",
   "id": "948f0b7e",
   "metadata": {
    "papermill": {
     "duration": 0.026439,
     "end_time": "2022-08-30T10:10:22.227863",
     "exception": false,
     "start_time": "2022-08-30T10:10:22.201424",
     "status": "completed"
    },
    "tags": []
   },
   "source": [
    "We normalize the pizel values in the 0 to 1 range"
   ]
  },
  {
   "cell_type": "code",
   "execution_count": 11,
   "id": "ee4c2166",
   "metadata": {
    "execution": {
     "iopub.execute_input": "2022-08-30T10:10:22.284324Z",
     "iopub.status.busy": "2022-08-30T10:10:22.283754Z",
     "iopub.status.idle": "2022-08-30T10:10:22.325759Z",
     "shell.execute_reply": "2022-08-30T10:10:22.325262Z"
    },
    "papermill": {
     "duration": 0.071593,
     "end_time": "2022-08-30T10:10:22.325870",
     "exception": false,
     "start_time": "2022-08-30T10:10:22.254277",
     "status": "completed"
    },
    "tags": []
   },
   "outputs": [],
   "source": [
    "X_train = X_train/255.\n",
    "X_test = X_test/255."
   ]
  },
  {
   "cell_type": "markdown",
   "id": "ddcf4fab",
   "metadata": {
    "papermill": {
     "duration": 0.026637,
     "end_time": "2022-08-30T10:10:22.379261",
     "exception": false,
     "start_time": "2022-08-30T10:10:22.352624",
     "status": "completed"
    },
    "tags": []
   },
   "source": [
    "And setup the labels as 1 (when the digit is 3) and 0 (when the digit is 8)"
   ]
  },
  {
   "cell_type": "code",
   "execution_count": 12,
   "id": "7dc908f2",
   "metadata": {
    "execution": {
     "iopub.execute_input": "2022-08-30T10:10:22.436159Z",
     "iopub.status.busy": "2022-08-30T10:10:22.435581Z",
     "iopub.status.idle": "2022-08-30T10:10:22.447216Z",
     "shell.execute_reply": "2022-08-30T10:10:22.446756Z"
    },
    "papermill": {
     "duration": 0.041598,
     "end_time": "2022-08-30T10:10:22.447321",
     "exception": false,
     "start_time": "2022-08-30T10:10:22.405723",
     "status": "completed"
    },
    "tags": []
   },
   "outputs": [],
   "source": [
    "y_train = 1*(y_train==3)\n",
    "y_test = 1*(y_test==3)"
   ]
  },
  {
   "cell_type": "code",
   "execution_count": 13,
   "id": "01e4e969",
   "metadata": {
    "execution": {
     "iopub.execute_input": "2022-08-30T10:10:22.504244Z",
     "iopub.status.busy": "2022-08-30T10:10:22.503679Z",
     "iopub.status.idle": "2022-08-30T10:10:22.516973Z",
     "shell.execute_reply": "2022-08-30T10:10:22.516521Z"
    },
    "papermill": {
     "duration": 0.043037,
     "end_time": "2022-08-30T10:10:22.517077",
     "exception": false,
     "start_time": "2022-08-30T10:10:22.474040",
     "status": "completed"
    },
    "tags": []
   },
   "outputs": [
    {
     "data": {
      "text/plain": [
       "((11982, 28, 28), (1984, 28, 28))"
      ]
     },
     "execution_count": 13,
     "metadata": {},
     "output_type": "execute_result"
    }
   ],
   "source": [
    "X_train.shape, X_test.shape"
   ]
  },
  {
   "cell_type": "markdown",
   "id": "5ccf3f85",
   "metadata": {
    "papermill": {
     "duration": 0.026764,
     "end_time": "2022-08-30T10:10:22.570663",
     "exception": false,
     "start_time": "2022-08-30T10:10:22.543899",
     "status": "completed"
    },
    "tags": []
   },
   "source": [
    "We reshape the data to flatten the image pixels into a set of features or co-variates:"
   ]
  },
  {
   "cell_type": "code",
   "execution_count": 14,
   "id": "5286a4a3",
   "metadata": {
    "execution": {
     "iopub.execute_input": "2022-08-30T10:10:22.629065Z",
     "iopub.status.busy": "2022-08-30T10:10:22.628490Z",
     "iopub.status.idle": "2022-08-30T10:10:22.642088Z",
     "shell.execute_reply": "2022-08-30T10:10:22.641612Z"
    },
    "papermill": {
     "duration": 0.044564,
     "end_time": "2022-08-30T10:10:22.642192",
     "exception": false,
     "start_time": "2022-08-30T10:10:22.597628",
     "status": "completed"
    },
    "tags": []
   },
   "outputs": [
    {
     "data": {
      "text/plain": [
       "((11982, 784), (1984, 784))"
      ]
     },
     "execution_count": 14,
     "metadata": {},
     "output_type": "execute_result"
    }
   ],
   "source": [
    "X_train = X_train.reshape(X_train.shape[0], -1)\n",
    "X_test = X_test.reshape(X_test.shape[0], -1)\n",
    "X_train.shape, X_test.shape"
   ]
  },
  {
   "cell_type": "code",
   "execution_count": 15,
   "id": "73c5f88a",
   "metadata": {
    "execution": {
     "iopub.execute_input": "2022-08-30T10:10:22.701159Z",
     "iopub.status.busy": "2022-08-30T10:10:22.700565Z",
     "iopub.status.idle": "2022-08-30T10:10:22.719383Z",
     "shell.execute_reply": "2022-08-30T10:10:22.719846Z"
    },
    "papermill": {
     "duration": 0.050739,
     "end_time": "2022-08-30T10:10:22.719976",
     "exception": false,
     "start_time": "2022-08-30T10:10:22.669237",
     "status": "completed"
    },
    "tags": []
   },
   "outputs": [],
   "source": [
    "#Impoting functions from 'Kudzu'\n",
    "from kudzu.model import Model\n",
    "from kudzu.train import Learner\n",
    "from kudzu.optim import GD\n",
    "from kudzu.data import Data, Sampler,Dataloader\n",
    "\n",
    "from kudzu.callbacks import AccCallback\n",
    "from kudzu.callbacks import ClfCallback\n",
    "\n",
    "from kudzu.loss import MSE\n",
    "\n",
    "from kudzu.layer import Sigmoid,Relu\n",
    "from kudzu.layer import Affine"
   ]
  },
  {
   "cell_type": "markdown",
   "id": "bc01172a",
   "metadata": {
    "papermill": {
     "duration": 0.027008,
     "end_time": "2022-08-30T10:10:22.774290",
     "exception": false,
     "start_time": "2022-08-30T10:10:22.747282",
     "status": "completed"
    },
    "tags": []
   },
   "source": [
    "### Let us create a `Config` class, to store important parameters. \n",
    "This class essentially plays the role of a dictionary."
   ]
  },
  {
   "cell_type": "code",
   "execution_count": 16,
   "id": "978281aa",
   "metadata": {
    "execution": {
     "iopub.execute_input": "2022-08-30T10:10:22.832430Z",
     "iopub.status.busy": "2022-08-30T10:10:22.831867Z",
     "iopub.status.idle": "2022-08-30T10:10:22.843679Z",
     "shell.execute_reply": "2022-08-30T10:10:22.843227Z"
    },
    "papermill": {
     "duration": 0.042522,
     "end_time": "2022-08-30T10:10:22.843783",
     "exception": false,
     "start_time": "2022-08-30T10:10:22.801261",
     "status": "completed"
    },
    "tags": []
   },
   "outputs": [],
   "source": [
    "class Config:\n",
    "    pass\n",
    "config = Config()\n",
    "config.lr = 0.001\n",
    "config.num_epochs = 250\n",
    "config.bs = 50"
   ]
  },
  {
   "cell_type": "markdown",
   "id": "1385fa59",
   "metadata": {
    "papermill": {
     "duration": 0.026787,
     "end_time": "2022-08-30T10:10:22.897702",
     "exception": false,
     "start_time": "2022-08-30T10:10:22.870915",
     "status": "completed"
    },
    "tags": []
   },
   "source": [
    "### Running Models with the Training data\n",
    "Details about the network layers:\n",
    "- A first affine layer has 784 inputs and does 100 affine transforms. These are followed by a Relu\n",
    "- A second affine layer has 100 inputs from the 100 activations of the past layer, and does 100 affine transforms. These are followed by a Relu\n",
    "- A third affine layer has 100 activations and does 2 affine transformations to create an embedding for visualization. There is no non-linearity here.\n",
    "- A final \"logistic regression\" which has an affine transform from 2 inputs to 1 output, which is squeezed through a sigmoid.\n"
   ]
  },
  {
   "cell_type": "code",
   "execution_count": 17,
   "id": "2b9c66db",
   "metadata": {
    "execution": {
     "iopub.execute_input": "2022-08-30T10:10:22.955676Z",
     "iopub.status.busy": "2022-08-30T10:10:22.955104Z",
     "iopub.status.idle": "2022-08-30T10:10:22.967139Z",
     "shell.execute_reply": "2022-08-30T10:10:22.966691Z"
    },
    "papermill": {
     "duration": 0.0427,
     "end_time": "2022-08-30T10:10:22.967243",
     "exception": false,
     "start_time": "2022-08-30T10:10:22.924543",
     "status": "completed"
    },
    "tags": []
   },
   "outputs": [],
   "source": [
    "data = Data(X_train, y_train.reshape(-1,1))\n",
    "sampler = Sampler(data, config.bs, shuffle=True)\n",
    "\n",
    "dl = Dataloader(data, sampler)\n",
    "\n",
    "opt = GD(config.lr)\n",
    "loss = MSE()"
   ]
  },
  {
   "cell_type": "code",
   "execution_count": 18,
   "id": "b275e4c2",
   "metadata": {
    "execution": {
     "iopub.execute_input": "2022-08-30T10:10:23.026306Z",
     "iopub.status.busy": "2022-08-30T10:10:23.025742Z",
     "iopub.status.idle": "2022-08-30T10:10:23.037690Z",
     "shell.execute_reply": "2022-08-30T10:10:23.037236Z"
    },
    "papermill": {
     "duration": 0.042099,
     "end_time": "2022-08-30T10:10:23.037791",
     "exception": false,
     "start_time": "2022-08-30T10:10:22.995692",
     "status": "completed"
    },
    "tags": []
   },
   "outputs": [],
   "source": [
    "training_data_x = X_train\n",
    "testing_data_x = X_test\n",
    "training_data_y = y_train.reshape(-1,1)\n",
    "testing_data_y = y_test.reshape(-1,1)"
   ]
  },
  {
   "cell_type": "code",
   "execution_count": 19,
   "id": "76951160",
   "metadata": {
    "execution": {
     "iopub.execute_input": "2022-08-30T10:10:23.096442Z",
     "iopub.status.busy": "2022-08-30T10:10:23.095862Z",
     "iopub.status.idle": "2022-08-30T10:10:23.111754Z",
     "shell.execute_reply": "2022-08-30T10:10:23.112243Z"
    },
    "papermill": {
     "duration": 0.047564,
     "end_time": "2022-08-30T10:10:23.112367",
     "exception": false,
     "start_time": "2022-08-30T10:10:23.064803",
     "status": "completed"
    },
    "tags": []
   },
   "outputs": [
    {
     "name": "stdout",
     "output_type": "stream",
     "text": [
      "xavier\n",
      "xavier\n",
      "xavier\n",
      "xavier\n",
      "xavier\n"
     ]
    }
   ],
   "source": [
    "layers = [Affine(\"first\", 784, 100), Relu(\"first\"), Affine(\"second\", 100, 100), Relu(\"second\"), Affine(\"third\", 100, 2), Affine(\"last\", 2, 1), Sigmoid(\"last\")]\n",
    "model_nn = Model(layers)\n",
    "model_lr = Model([Affine(\"logits\", 784, 1), Sigmoid(\"sigmoid\")])"
   ]
  },
  {
   "cell_type": "code",
   "execution_count": 20,
   "id": "6eede77a",
   "metadata": {
    "execution": {
     "iopub.execute_input": "2022-08-30T10:10:23.171193Z",
     "iopub.status.busy": "2022-08-30T10:10:23.170598Z",
     "iopub.status.idle": "2022-08-30T10:10:23.183240Z",
     "shell.execute_reply": "2022-08-30T10:10:23.182739Z"
    },
    "papermill": {
     "duration": 0.043515,
     "end_time": "2022-08-30T10:10:23.183349",
     "exception": false,
     "start_time": "2022-08-30T10:10:23.139834",
     "status": "completed"
    },
    "tags": []
   },
   "outputs": [],
   "source": [
    "nn_learner = Learner(loss, model_nn, opt, config.num_epochs)\n",
    "acc_nn = ClfCallback(nn_learner, config.bs, training_data_x , testing_data_x, training_data_y, testing_data_y)\n",
    "nn_learner.set_callbacks([acc_nn])"
   ]
  },
  {
   "cell_type": "code",
   "execution_count": 21,
   "id": "877b6cc7",
   "metadata": {
    "execution": {
     "iopub.execute_input": "2022-08-30T10:10:23.242636Z",
     "iopub.status.busy": "2022-08-30T10:10:23.242035Z",
     "iopub.status.idle": "2022-08-30T10:10:23.254441Z",
     "shell.execute_reply": "2022-08-30T10:10:23.253967Z"
    },
    "papermill": {
     "duration": 0.043831,
     "end_time": "2022-08-30T10:10:23.254567",
     "exception": false,
     "start_time": "2022-08-30T10:10:23.210736",
     "status": "completed"
    },
    "tags": []
   },
   "outputs": [],
   "source": [
    "lr_learner = Learner(loss, model_lr, opt, config.num_epochs)\n",
    "acc_lr = ClfCallback(lr_learner, config.bs, training_data_x , testing_data_x, training_data_y, testing_data_y)\n",
    "lr_learner.set_callbacks([acc_lr])"
   ]
  },
  {
   "cell_type": "code",
   "execution_count": 22,
   "id": "d9b133c3",
   "metadata": {
    "execution": {
     "iopub.execute_input": "2022-08-30T10:10:23.313258Z",
     "iopub.status.busy": "2022-08-30T10:10:23.312695Z",
     "iopub.status.idle": "2022-08-30T10:13:19.666023Z",
     "shell.execute_reply": "2022-08-30T10:13:19.666508Z"
    },
    "papermill": {
     "duration": 176.384558,
     "end_time": "2022-08-30T10:13:19.666642",
     "exception": false,
     "start_time": "2022-08-30T10:10:23.282084",
     "status": "completed"
    },
    "tags": []
   },
   "outputs": [
    {
     "name": "stdout",
     "output_type": "stream",
     "text": [
      "Epoch 0, Loss 0.2414\n",
      "Training Accuracy: 0.6892, Testing Accuracy: 0.7137\n",
      "\n"
     ]
    },
    {
     "name": "stdout",
     "output_type": "stream",
     "text": [
      "Epoch 10, Loss 0.094\n",
      "Training Accuracy: 0.9079, Testing Accuracy: 0.9279\n",
      "\n"
     ]
    },
    {
     "name": "stdout",
     "output_type": "stream",
     "text": [
      "Epoch 20, Loss 0.0578\n",
      "Training Accuracy: 0.9368, Testing Accuracy: 0.9516\n",
      "\n"
     ]
    },
    {
     "name": "stdout",
     "output_type": "stream",
     "text": [
      "Epoch 30, Loss 0.0453\n",
      "Training Accuracy: 0.9489, Testing Accuracy: 0.9622\n",
      "\n"
     ]
    },
    {
     "name": "stdout",
     "output_type": "stream",
     "text": [
      "Epoch 40, Loss 0.0392\n",
      "Training Accuracy: 0.9558, Testing Accuracy: 0.9642\n",
      "\n"
     ]
    },
    {
     "name": "stdout",
     "output_type": "stream",
     "text": [
      "Epoch 50, Loss 0.0354\n",
      "Training Accuracy: 0.9594, Testing Accuracy: 0.9662\n",
      "\n"
     ]
    },
    {
     "name": "stdout",
     "output_type": "stream",
     "text": [
      "Epoch 60, Loss 0.0329\n",
      "Training Accuracy: 0.9619, Testing Accuracy: 0.9672\n",
      "\n"
     ]
    },
    {
     "name": "stdout",
     "output_type": "stream",
     "text": [
      "Epoch 70, Loss 0.031\n",
      "Training Accuracy: 0.9641, Testing Accuracy: 0.9693\n",
      "\n"
     ]
    },
    {
     "name": "stdout",
     "output_type": "stream",
     "text": [
      "Epoch 80, Loss 0.0295\n",
      "Training Accuracy: 0.9654, Testing Accuracy: 0.9693\n",
      "\n"
     ]
    },
    {
     "name": "stdout",
     "output_type": "stream",
     "text": [
      "Epoch 90, Loss 0.0283\n",
      "Training Accuracy: 0.9672, Testing Accuracy: 0.9708\n",
      "\n"
     ]
    },
    {
     "name": "stdout",
     "output_type": "stream",
     "text": [
      "Epoch 100, Loss 0.0272\n",
      "Training Accuracy: 0.9686, Testing Accuracy: 0.9703\n",
      "\n"
     ]
    },
    {
     "name": "stdout",
     "output_type": "stream",
     "text": [
      "Epoch 110, Loss 0.0263\n",
      "Training Accuracy: 0.9696, Testing Accuracy: 0.9703\n",
      "\n"
     ]
    },
    {
     "name": "stdout",
     "output_type": "stream",
     "text": [
      "Epoch 120, Loss 0.0255\n",
      "Training Accuracy: 0.9704, Testing Accuracy: 0.9703\n",
      "\n"
     ]
    },
    {
     "name": "stdout",
     "output_type": "stream",
     "text": [
      "Epoch 130, Loss 0.0248\n",
      "Training Accuracy: 0.9711, Testing Accuracy: 0.9703\n",
      "\n"
     ]
    },
    {
     "name": "stdout",
     "output_type": "stream",
     "text": [
      "Epoch 140, Loss 0.0241\n",
      "Training Accuracy: 0.9723, Testing Accuracy: 0.9703\n",
      "\n"
     ]
    },
    {
     "name": "stdout",
     "output_type": "stream",
     "text": [
      "Epoch 150, Loss 0.0235\n",
      "Training Accuracy: 0.9735, Testing Accuracy: 0.9708\n",
      "\n"
     ]
    },
    {
     "name": "stdout",
     "output_type": "stream",
     "text": [
      "Epoch 160, Loss 0.0229\n",
      "Training Accuracy: 0.9739, Testing Accuracy: 0.9708\n",
      "\n"
     ]
    },
    {
     "name": "stdout",
     "output_type": "stream",
     "text": [
      "Epoch 170, Loss 0.0224\n",
      "Training Accuracy: 0.9745, Testing Accuracy: 0.9713\n",
      "\n"
     ]
    },
    {
     "name": "stdout",
     "output_type": "stream",
     "text": [
      "Epoch 180, Loss 0.0219\n",
      "Training Accuracy: 0.9752, Testing Accuracy: 0.9713\n",
      "\n"
     ]
    },
    {
     "name": "stdout",
     "output_type": "stream",
     "text": [
      "Epoch 190, Loss 0.0214\n",
      "Training Accuracy: 0.9760, Testing Accuracy: 0.9718\n",
      "\n"
     ]
    },
    {
     "name": "stdout",
     "output_type": "stream",
     "text": [
      "Epoch 200, Loss 0.0209\n",
      "Training Accuracy: 0.9764, Testing Accuracy: 0.9718\n",
      "\n"
     ]
    },
    {
     "name": "stdout",
     "output_type": "stream",
     "text": [
      "Epoch 210, Loss 0.0204\n",
      "Training Accuracy: 0.9773, Testing Accuracy: 0.9723\n",
      "\n"
     ]
    },
    {
     "name": "stdout",
     "output_type": "stream",
     "text": [
      "Epoch 220, Loss 0.02\n",
      "Training Accuracy: 0.9777, Testing Accuracy: 0.9723\n",
      "\n"
     ]
    },
    {
     "name": "stdout",
     "output_type": "stream",
     "text": [
      "Epoch 230, Loss 0.0196\n",
      "Training Accuracy: 0.9783, Testing Accuracy: 0.9733\n",
      "\n"
     ]
    },
    {
     "name": "stdout",
     "output_type": "stream",
     "text": [
      "Epoch 240, Loss 0.0192\n",
      "Training Accuracy: 0.9788, Testing Accuracy: 0.9738\n",
      "\n"
     ]
    },
    {
     "data": {
      "text/plain": [
       "0.005794661236697088"
      ]
     },
     "execution_count": 22,
     "metadata": {},
     "output_type": "execute_result"
    }
   ],
   "source": [
    "nn_learner.train_loop(dl)"
   ]
  },
  {
   "cell_type": "code",
   "execution_count": 23,
   "id": "e0163366",
   "metadata": {
    "execution": {
     "iopub.execute_input": "2022-08-30T10:13:19.739490Z",
     "iopub.status.busy": "2022-08-30T10:13:19.738913Z",
     "iopub.status.idle": "2022-08-30T10:13:32.026556Z",
     "shell.execute_reply": "2022-08-30T10:13:32.027385Z"
    },
    "papermill": {
     "duration": 12.326069,
     "end_time": "2022-08-30T10:13:32.027519",
     "exception": false,
     "start_time": "2022-08-30T10:13:19.701450",
     "status": "completed"
    },
    "tags": []
   },
   "outputs": [
    {
     "name": "stdout",
     "output_type": "stream",
     "text": [
      "Epoch 0, Loss 0.2118\n",
      "Training Accuracy: 0.7763, Testing Accuracy: 0.7959\n",
      "\n"
     ]
    },
    {
     "name": "stdout",
     "output_type": "stream",
     "text": [
      "Epoch 10, Loss 0.1014\n",
      "Training Accuracy: 0.9056, Testing Accuracy: 0.9098\n",
      "\n"
     ]
    },
    {
     "name": "stdout",
     "output_type": "stream",
     "text": [
      "Epoch 20, Loss 0.0792\n",
      "Training Accuracy: 0.9249, Testing Accuracy: 0.9340\n",
      "\n"
     ]
    },
    {
     "name": "stdout",
     "output_type": "stream",
     "text": [
      "Epoch 30, Loss 0.0685\n",
      "Training Accuracy: 0.9342, Testing Accuracy: 0.9420\n",
      "\n"
     ]
    },
    {
     "name": "stdout",
     "output_type": "stream",
     "text": [
      "Epoch 40, Loss 0.0619\n",
      "Training Accuracy: 0.9389, Testing Accuracy: 0.9516\n",
      "\n"
     ]
    },
    {
     "name": "stdout",
     "output_type": "stream",
     "text": [
      "Epoch 50, Loss 0.0574\n",
      "Training Accuracy: 0.9432, Testing Accuracy: 0.9541\n",
      "\n"
     ]
    },
    {
     "name": "stdout",
     "output_type": "stream",
     "text": [
      "Epoch 60, Loss 0.0541\n",
      "Training Accuracy: 0.9457, Testing Accuracy: 0.9561\n",
      "\n"
     ]
    },
    {
     "name": "stdout",
     "output_type": "stream",
     "text": [
      "Epoch 70, Loss 0.0515\n",
      "Training Accuracy: 0.9478, Testing Accuracy: 0.9582\n",
      "\n"
     ]
    },
    {
     "name": "stdout",
     "output_type": "stream",
     "text": [
      "Epoch 80, Loss 0.0494\n",
      "Training Accuracy: 0.9491, Testing Accuracy: 0.9587\n",
      "\n"
     ]
    },
    {
     "name": "stdout",
     "output_type": "stream",
     "text": [
      "Epoch 90, Loss 0.0477\n",
      "Training Accuracy: 0.9501, Testing Accuracy: 0.9607\n",
      "\n"
     ]
    },
    {
     "name": "stdout",
     "output_type": "stream",
     "text": [
      "Epoch 100, Loss 0.0463\n",
      "Training Accuracy: 0.9508, Testing Accuracy: 0.9612\n",
      "\n"
     ]
    },
    {
     "name": "stdout",
     "output_type": "stream",
     "text": [
      "Epoch 110, Loss 0.0451\n",
      "Training Accuracy: 0.9520, Testing Accuracy: 0.9637\n",
      "\n"
     ]
    },
    {
     "name": "stdout",
     "output_type": "stream",
     "text": [
      "Epoch 120, Loss 0.044\n",
      "Training Accuracy: 0.9538, Testing Accuracy: 0.9652\n",
      "\n"
     ]
    },
    {
     "name": "stdout",
     "output_type": "stream",
     "text": [
      "Epoch 130, Loss 0.0431\n",
      "Training Accuracy: 0.9552, Testing Accuracy: 0.9652\n",
      "\n"
     ]
    },
    {
     "name": "stdout",
     "output_type": "stream",
     "text": [
      "Epoch 140, Loss 0.0422\n",
      "Training Accuracy: 0.9561, Testing Accuracy: 0.9657\n",
      "\n"
     ]
    },
    {
     "name": "stdout",
     "output_type": "stream",
     "text": [
      "Epoch 150, Loss 0.0415\n",
      "Training Accuracy: 0.9569, Testing Accuracy: 0.9657\n",
      "\n"
     ]
    },
    {
     "name": "stdout",
     "output_type": "stream",
     "text": [
      "Epoch 160, Loss 0.0408\n",
      "Training Accuracy: 0.9575, Testing Accuracy: 0.9657\n",
      "\n"
     ]
    },
    {
     "name": "stdout",
     "output_type": "stream",
     "text": [
      "Epoch 170, Loss 0.0402\n",
      "Training Accuracy: 0.9584, Testing Accuracy: 0.9657\n",
      "\n"
     ]
    },
    {
     "name": "stdout",
     "output_type": "stream",
     "text": [
      "Epoch 180, Loss 0.0396\n",
      "Training Accuracy: 0.9585, Testing Accuracy: 0.9657\n",
      "\n"
     ]
    },
    {
     "name": "stdout",
     "output_type": "stream",
     "text": [
      "Epoch 190, Loss 0.0391\n",
      "Training Accuracy: 0.9591, Testing Accuracy: 0.9657\n",
      "\n"
     ]
    },
    {
     "name": "stdout",
     "output_type": "stream",
     "text": [
      "Epoch 200, Loss 0.0386\n",
      "Training Accuracy: 0.9594, Testing Accuracy: 0.9667\n",
      "\n"
     ]
    },
    {
     "name": "stdout",
     "output_type": "stream",
     "text": [
      "Epoch 210, Loss 0.0381\n",
      "Training Accuracy: 0.9600, Testing Accuracy: 0.9662\n",
      "\n"
     ]
    },
    {
     "name": "stdout",
     "output_type": "stream",
     "text": [
      "Epoch 220, Loss 0.0377\n",
      "Training Accuracy: 0.9601, Testing Accuracy: 0.9667\n",
      "\n"
     ]
    },
    {
     "name": "stdout",
     "output_type": "stream",
     "text": [
      "Epoch 230, Loss 0.0373\n",
      "Training Accuracy: 0.9604, Testing Accuracy: 0.9677\n",
      "\n"
     ]
    },
    {
     "name": "stdout",
     "output_type": "stream",
     "text": [
      "Epoch 240, Loss 0.037\n",
      "Training Accuracy: 0.9605, Testing Accuracy: 0.9677\n",
      "\n"
     ]
    },
    {
     "data": {
      "text/plain": [
       "0.08626961942121097"
      ]
     },
     "execution_count": 23,
     "metadata": {},
     "output_type": "execute_result"
    }
   ],
   "source": [
    "lr_learner.train_loop(dl)"
   ]
  },
  {
   "cell_type": "code",
   "execution_count": 24,
   "id": "ca410940",
   "metadata": {
    "execution": {
     "iopub.execute_input": "2022-08-30T10:13:32.124008Z",
     "iopub.status.busy": "2022-08-30T10:13:32.123427Z",
     "iopub.status.idle": "2022-08-30T10:13:32.344781Z",
     "shell.execute_reply": "2022-08-30T10:13:32.345204Z"
    },
    "papermill": {
     "duration": 0.276285,
     "end_time": "2022-08-30T10:13:32.345334",
     "exception": false,
     "start_time": "2022-08-30T10:13:32.069049",
     "status": "completed"
    },
    "tags": []
   },
   "outputs": [
    {
     "data": {
      "text/plain": [
       "<matplotlib.legend.Legend at 0x7eff43b92f60>"
      ]
     },
     "execution_count": 24,
     "metadata": {},
     "output_type": "execute_result"
    },
    {
     "data": {
      "image/png": "[encoded data removed]",
      "text/plain": [
       "<Figure size 1080x720 with 1 Axes>"
      ]
     },
     "metadata": {
      "needs_background": "light"
     },
     "output_type": "display_data"
    }
   ],
   "source": [
    "#comparing the results of NN and LR\n",
    "plt.figure(figsize=(15,10))\n",
    "\n",
    "# Neural Network plots\n",
    "plt.plot(acc_nn.accuracies, 'r-', label = \"Training Accuracies - NN\")\n",
    "plt.plot(acc_nn.test_accuracies, 'g-', label = \"Testing Accuracies - NN\")\n",
    "\n",
    "# Logistic Regression plots\n",
    "plt.plot(acc_lr.accuracies, 'k-', label = \"Training Accuracies - LR\")\n",
    "plt.plot(acc_lr.test_accuracies, 'b-', label = \"Testing Accuracies - LR\")\n",
    "plt.legend()"
   ]
  },
  {
   "cell_type": "markdown",
   "id": "80dfb35c",
   "metadata": {
    "papermill": {
     "duration": 0.042406,
     "end_time": "2022-08-30T10:13:32.430367",
     "exception": false,
     "start_time": "2022-08-30T10:13:32.387961",
     "status": "completed"
    },
    "tags": []
   },
   "source": [
    "#### Plotting the outputs of this layer of the NN.\n"
   ]
  },
  {
   "cell_type": "code",
   "execution_count": 25,
   "id": "45eb2ff5",
   "metadata": {
    "execution": {
     "iopub.execute_input": "2022-08-30T10:13:32.518127Z",
     "iopub.status.busy": "2022-08-30T10:13:32.517558Z",
     "iopub.status.idle": "2022-08-30T10:13:32.554067Z",
     "shell.execute_reply": "2022-08-30T10:13:32.553577Z"
    },
    "papermill": {
     "duration": 0.081691,
     "end_time": "2022-08-30T10:13:32.554173",
     "exception": false,
     "start_time": "2022-08-30T10:13:32.472482",
     "status": "completed"
    },
    "tags": []
   },
   "outputs": [],
   "source": [
    "new_model = Model(layers[:-2])\n",
    "testing_plot = new_model(testing_data_x)"
   ]
  },
  {
   "cell_type": "code",
   "execution_count": 26,
   "id": "4c0a5485",
   "metadata": {
    "execution": {
     "iopub.execute_input": "2022-08-30T10:13:32.646384Z",
     "iopub.status.busy": "2022-08-30T10:13:32.643934Z",
     "iopub.status.idle": "2022-08-30T10:13:32.834953Z",
     "shell.execute_reply": "2022-08-30T10:13:32.834488Z"
    },
    "papermill": {
     "duration": 0.238433,
     "end_time": "2022-08-30T10:13:32.835067",
     "exception": false,
     "start_time": "2022-08-30T10:13:32.596634",
     "status": "completed"
    },
    "tags": []
   },
   "outputs": [
    {
     "data": {
      "text/plain": [
       "Text(0.5, 1.0, 'Outputs')"
      ]
     },
     "execution_count": 26,
     "metadata": {},
     "output_type": "execute_result"
    },
    {
     "data": {
      "image/png": "[encoded data removed]",
      "text/plain": [
       "<Figure size 576x504 with 1 Axes>"
      ]
     },
     "metadata": {
      "needs_background": "light"
     },
     "output_type": "display_data"
    }
   ],
   "source": [
    "# Plotting the scatter plot of points and color coding by class\n",
    "plt.figure(figsize=(8,7))\n",
    "plt.scatter(testing_plot[:,0], testing_plot[:,1], alpha = 0.1, c = y_test.ravel());\n",
    "plt.title('Outputs')"
   ]
  },
  {
   "cell_type": "markdown",
   "id": "a74fcf8f",
   "metadata": {
    "papermill": {
     "duration": 0.043829,
     "end_time": "2022-08-30T10:13:32.923008",
     "exception": false,
     "start_time": "2022-08-30T10:13:32.879179",
     "status": "completed"
    },
    "tags": []
   },
   "source": [
    "Probability contours"
   ]
  },
  {
   "cell_type": "code",
   "execution_count": 27,
   "id": "d0afc8e3",
   "metadata": {
    "execution": {
     "iopub.execute_input": "2022-08-30T10:13:33.036506Z",
     "iopub.status.busy": "2022-08-30T10:13:33.035949Z",
     "iopub.status.idle": "2022-08-30T10:13:33.047753Z",
     "shell.execute_reply": "2022-08-30T10:13:33.047285Z"
    },
    "papermill": {
     "duration": 0.080925,
     "end_time": "2022-08-30T10:13:33.047853",
     "exception": false,
     "start_time": "2022-08-30T10:13:32.966928",
     "status": "completed"
    },
    "tags": []
   },
   "outputs": [],
   "source": [
    "model_prob = Model(layers[-2:]) "
   ]
  },
  {
   "cell_type": "code",
   "execution_count": 28,
   "id": "9b96e238",
   "metadata": {
    "execution": {
     "iopub.execute_input": "2022-08-30T10:13:33.140010Z",
     "iopub.status.busy": "2022-08-30T10:13:33.139441Z",
     "iopub.status.idle": "2022-08-30T10:13:33.152299Z",
     "shell.execute_reply": "2022-08-30T10:13:33.152737Z"
    },
    "papermill": {
     "duration": 0.061089,
     "end_time": "2022-08-30T10:13:33.152863",
     "exception": false,
     "start_time": "2022-08-30T10:13:33.091774",
     "status": "completed"
    },
    "tags": []
   },
   "outputs": [],
   "source": [
    "#creating the x and y ranges according to the above generated plot.\n",
    "x_range = np.linspace(-4, 1, 100) \n",
    "y_range = np.linspace(-6, 6, 100) \n",
    "x_grid, y_grid = np.meshgrid(x_range, y_range) # x_grid and y_grig are of size 100 X 100\n",
    "\n",
    "# converting x_grid and y_grid to continuous arrays\n",
    "x_gridflat = np.ravel(x_grid)\n",
    "y_gridflat = np.ravel(y_grid)\n",
    "\n",
    "# The last layer of the current model takes two columns as input. Hence transpose of np.vstack() is required.\n",
    "X = np.vstack((x_gridflat, y_gridflat)).T\n",
    "\n",
    "prob_contour = model_prob(X).reshape(100,100) "
   ]
  },
  {
   "cell_type": "code",
   "execution_count": 29,
   "id": "da72499a",
   "metadata": {
    "execution": {
     "iopub.execute_input": "2022-08-30T10:13:33.246240Z",
     "iopub.status.busy": "2022-08-30T10:13:33.245712Z",
     "iopub.status.idle": "2022-08-30T10:13:33.485173Z",
     "shell.execute_reply": "2022-08-30T10:13:33.484699Z"
    },
    "papermill": {
     "duration": 0.288206,
     "end_time": "2022-08-30T10:13:33.485283",
     "exception": false,
     "start_time": "2022-08-30T10:13:33.197077",
     "status": "completed"
    },
    "tags": []
   },
   "outputs": [
    {
     "data": {
      "image/png": "[encoded data removed]",
      "text/plain": [
       "<Figure size 720x648 with 1 Axes>"
      ]
     },
     "metadata": {
      "needs_background": "light"
     },
     "output_type": "display_data"
    }
   ],
   "source": [
    "plt.figure(figsize=(10,9))\n",
    "plt.scatter(testing_plot[:,0], testing_plot[:,1], alpha = 0.1, c = y_test.ravel())\n",
    "contours = plt.contour(x_grid,y_grid,prob_contour)\n",
    "plt.title('Probability Contours')\n",
    "plt.clabel(contours, inline = True );"
   ]
  },
  {
   "cell_type": "code",
   "execution_count": null,
   "id": "e81b4ac7",
   "metadata": {
    "papermill": {
     "duration": 0.045998,
     "end_time": "2022-08-30T10:13:33.577736",
     "exception": false,
     "start_time": "2022-08-30T10:13:33.531738",
     "status": "completed"
    },
    "tags": []
   },
   "outputs": [],
   "source": []
  }
 ],
 "metadata": {
  "kernelspec": {
   "display_name": "Python 3",
   "language": "python",
   "name": "python3"
  },
  "language_info": {
   "codemirror_mode": {
    "name": "ipython",
    "version": 3
   },
   "file_extension": ".py",
   "mimetype": "text/x-python",
   "name": "python",
   "nbconvert_exporter": "python",
   "pygments_lexer": "ipython3",
   "version": "3.6.15"
  },
  "papermill": {
   "default_parameters": {},
   "duration": 197.600591,
   "end_time": "2022-08-30T10:13:33.940729",
   "environment_variables": {},
   "exception": null,
   "input_path": "2020-08-11-part2.ipynb",
   "output_path": "2020-08-11-part2.ipynb",
   "parameters": {},
   "start_time": "2022-08-30T10:10:16.340138",
   "version": "2.3.3"
  }
 },
 "nbformat": 4,
 "nbformat_minor": 5
}