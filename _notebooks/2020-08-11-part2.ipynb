{
 "cells": [
  {
   "cell_type": "markdown",
   "id": "98380cd3",
   "metadata": {
    "papermill": {
     "duration": 0.032476,
     "end_time": "2021-09-18T10:07:02.362627",
     "exception": false,
     "start_time": "2021-09-18T10:07:02.330151",
     "status": "completed"
    },
    "tags": []
   },
   "source": [
    "# Distinguish Your Own Digits (DYOD)"
   ]
  },
  {
   "cell_type": "markdown",
   "id": "ef31240d",
   "metadata": {
    "papermill": {
     "duration": 0.025913,
     "end_time": "2021-09-18T10:07:02.415111",
     "exception": false,
     "start_time": "2021-09-18T10:07:02.389198",
     "status": "completed"
    },
    "tags": []
   },
   "source": [
    "You are going to write a classifier that distinguishes between the number 3 and number 8."
   ]
  },
  {
   "cell_type": "code",
   "execution_count": 1,
   "id": "b15c8646",
   "metadata": {
    "execution": {
     "iopub.execute_input": "2021-09-18T10:07:02.484428Z",
     "iopub.status.busy": "2021-09-18T10:07:02.483543Z",
     "iopub.status.idle": "2021-09-18T10:07:02.494498Z",
     "shell.execute_reply": "2021-09-18T10:07:02.493980Z"
    },
    "papermill": {
     "duration": 0.053175,
     "end_time": "2021-09-18T10:07:02.494637",
     "exception": false,
     "start_time": "2021-09-18T10:07:02.441462",
     "status": "completed"
    },
    "tags": []
   },
   "outputs": [],
   "source": [
    "%load_ext autoreload\n",
    "%autoreload 2"
   ]
  },
  {
   "cell_type": "code",
   "execution_count": 2,
   "id": "22ef38dc",
   "metadata": {
    "execution": {
     "iopub.execute_input": "2021-09-18T10:07:02.551227Z",
     "iopub.status.busy": "2021-09-18T10:07:02.550639Z",
     "iopub.status.idle": "2021-09-18T10:07:03.098468Z",
     "shell.execute_reply": "2021-09-18T10:07:03.097776Z"
    },
    "papermill": {
     "duration": 0.577363,
     "end_time": "2021-09-18T10:07:03.098643",
     "exception": false,
     "start_time": "2021-09-18T10:07:02.521280",
     "status": "completed"
    },
    "tags": []
   },
   "outputs": [],
   "source": [
    "%matplotlib inline\n",
    "import numpy as np\n",
    "import matplotlib.pyplot as plt\n",
    "import pandas as pd"
   ]
  },
  {
   "cell_type": "markdown",
   "id": "ba036198",
   "metadata": {
    "papermill": {
     "duration": 0.026791,
     "end_time": "2021-09-18T10:07:03.157305",
     "exception": false,
     "start_time": "2021-09-18T10:07:03.130514",
     "status": "completed"
    },
    "tags": []
   },
   "source": [
    "From the command line run `pip install mnist`. This is a library that will help you bring down the mnist dataset. If you run this from a notebook, you need to put  `!pip install mnist` in a cell by itself."
   ]
  },
  {
   "cell_type": "code",
   "execution_count": 3,
   "id": "bb6ad8a1",
   "metadata": {
    "execution": {
     "iopub.execute_input": "2021-09-18T10:07:03.215195Z",
     "iopub.status.busy": "2021-09-18T10:07:03.214585Z",
     "iopub.status.idle": "2021-09-18T10:07:05.027155Z",
     "shell.execute_reply": "2021-09-18T10:07:05.026563Z"
    },
    "papermill": {
     "duration": 1.844574,
     "end_time": "2021-09-18T10:07:05.027284",
     "exception": false,
     "start_time": "2021-09-18T10:07:03.182710",
     "status": "completed"
    },
    "tags": []
   },
   "outputs": [
    {
     "name": "stdout",
     "output_type": "stream",
     "text": [
      "Collecting mnist\r\n"
     ]
    },
    {
     "name": "stdout",
     "output_type": "stream",
     "text": [
      "  Downloading mnist-0.2.2-py2.py3-none-any.whl (3.5 kB)\r\n"
     ]
    },
    {
     "name": "stdout",
     "output_type": "stream",
     "text": [
      "Requirement already satisfied: numpy in /opt/hostedtoolcache/Python/3.6.15/x64/lib/python3.6/site-packages (from mnist) (1.19.5)\r\n"
     ]
    },
    {
     "name": "stdout",
     "output_type": "stream",
     "text": [
      "Installing collected packages: mnist\r\n",
      "Successfully installed mnist-0.2.2\r\n"
     ]
    }
   ],
   "source": [
    "!pip install mnist"
   ]
  },
  {
   "cell_type": "markdown",
   "id": "69df9c9a",
   "metadata": {
    "papermill": {
     "duration": 0.028378,
     "end_time": "2021-09-18T10:07:05.085639",
     "exception": false,
     "start_time": "2021-09-18T10:07:05.057261",
     "status": "completed"
    },
    "tags": []
   },
   "source": [
    "## Preparing the Data"
   ]
  },
  {
   "cell_type": "code",
   "execution_count": 4,
   "id": "7f69d806",
   "metadata": {
    "execution": {
     "iopub.execute_input": "2021-09-18T10:07:05.149963Z",
     "iopub.status.busy": "2021-09-18T10:07:05.145382Z",
     "iopub.status.idle": "2021-09-18T10:07:05.161359Z",
     "shell.execute_reply": "2021-09-18T10:07:05.160852Z"
    },
    "papermill": {
     "duration": 0.047796,
     "end_time": "2021-09-18T10:07:05.161480",
     "exception": false,
     "start_time": "2021-09-18T10:07:05.113684",
     "status": "completed"
    },
    "tags": []
   },
   "outputs": [],
   "source": [
    "import mnist"
   ]
  },
  {
   "cell_type": "code",
   "execution_count": 5,
   "id": "a411e44f",
   "metadata": {
    "execution": {
     "iopub.execute_input": "2021-09-18T10:07:05.226429Z",
     "iopub.status.busy": "2021-09-18T10:07:05.222720Z",
     "iopub.status.idle": "2021-09-18T10:07:05.814990Z",
     "shell.execute_reply": "2021-09-18T10:07:05.814352Z"
    },
    "papermill": {
     "duration": 0.62525,
     "end_time": "2021-09-18T10:07:05.815127",
     "exception": false,
     "start_time": "2021-09-18T10:07:05.189877",
     "status": "completed"
    },
    "tags": []
   },
   "outputs": [],
   "source": [
    "train_images = mnist.train_images()\n",
    "train_labels = mnist.train_labels()"
   ]
  },
  {
   "cell_type": "code",
   "execution_count": 6,
   "id": "dceab3a5",
   "metadata": {
    "execution": {
     "iopub.execute_input": "2021-09-18T10:07:05.876068Z",
     "iopub.status.busy": "2021-09-18T10:07:05.875485Z",
     "iopub.status.idle": "2021-09-18T10:07:05.890336Z",
     "shell.execute_reply": "2021-09-18T10:07:05.890877Z"
    },
    "papermill": {
     "duration": 0.047239,
     "end_time": "2021-09-18T10:07:05.891011",
     "exception": false,
     "start_time": "2021-09-18T10:07:05.843772",
     "status": "completed"
    },
    "tags": []
   },
   "outputs": [
    {
     "data": {
      "text/plain": [
       "((60000, 28, 28), (60000,))"
      ]
     },
     "execution_count": 6,
     "metadata": {},
     "output_type": "execute_result"
    }
   ],
   "source": [
    "train_images.shape, train_labels.shape"
   ]
  },
  {
   "cell_type": "code",
   "execution_count": 7,
   "id": "f50dc2bb",
   "metadata": {
    "execution": {
     "iopub.execute_input": "2021-09-18T10:07:05.953136Z",
     "iopub.status.busy": "2021-09-18T10:07:05.952540Z",
     "iopub.status.idle": "2021-09-18T10:07:06.119606Z",
     "shell.execute_reply": "2021-09-18T10:07:06.118699Z"
    },
    "papermill": {
     "duration": 0.199921,
     "end_time": "2021-09-18T10:07:06.119735",
     "exception": false,
     "start_time": "2021-09-18T10:07:05.919814",
     "status": "completed"
    },
    "tags": []
   },
   "outputs": [],
   "source": [
    "test_images = mnist.test_images()\n",
    "test_labels = mnist.test_labels()"
   ]
  },
  {
   "cell_type": "code",
   "execution_count": 8,
   "id": "fc38cf1b",
   "metadata": {
    "execution": {
     "iopub.execute_input": "2021-09-18T10:07:06.181195Z",
     "iopub.status.busy": "2021-09-18T10:07:06.180602Z",
     "iopub.status.idle": "2021-09-18T10:07:06.198436Z",
     "shell.execute_reply": "2021-09-18T10:07:06.197977Z"
    },
    "papermill": {
     "duration": 0.049952,
     "end_time": "2021-09-18T10:07:06.198571",
     "exception": false,
     "start_time": "2021-09-18T10:07:06.148619",
     "status": "completed"
    },
    "tags": []
   },
   "outputs": [
    {
     "data": {
      "text/plain": [
       "((10000, 28, 28), (10000,))"
      ]
     },
     "execution_count": 8,
     "metadata": {},
     "output_type": "execute_result"
    }
   ],
   "source": [
    "test_images.shape, test_labels.shape"
   ]
  },
  {
   "cell_type": "code",
   "execution_count": 9,
   "id": "f9ed8fe0",
   "metadata": {
    "execution": {
     "iopub.execute_input": "2021-09-18T10:07:06.260076Z",
     "iopub.status.busy": "2021-09-18T10:07:06.259498Z",
     "iopub.status.idle": "2021-09-18T10:07:06.422813Z",
     "shell.execute_reply": "2021-09-18T10:07:06.423304Z"
    },
    "papermill": {
     "duration": 0.196028,
     "end_time": "2021-09-18T10:07:06.423446",
     "exception": false,
     "start_time": "2021-09-18T10:07:06.227418",
     "status": "completed"
    },
    "tags": []
   },
   "outputs": [
    {
     "name": "stdout",
     "output_type": "stream",
     "text": [
      "2\n"
     ]
    },
    {
     "data": {
      "text/plain": [
       "<matplotlib.image.AxesImage at 0x7f9e3e5588d0>"
      ]
     },
     "execution_count": 9,
     "metadata": {},
     "output_type": "execute_result"
    },
    {
     "data": {
      "image/png": "[encoded data removed]",
      "text/plain": [
       "<Figure size 432x288 with 1 Axes>"
      ]
     },
     "metadata": {
      "needs_background": "light"
     },
     "output_type": "display_data"
    }
   ],
   "source": [
    "image_index = 7776 # You may select anything up to 60,000\n",
    "print(train_labels[image_index]) \n",
    "plt.imshow(train_images[image_index], cmap='Greys')"
   ]
  },
  {
   "cell_type": "markdown",
   "id": "a8d2388d",
   "metadata": {
    "papermill": {
     "duration": 0.029043,
     "end_time": "2021-09-18T10:07:06.481940",
     "exception": false,
     "start_time": "2021-09-18T10:07:06.452897",
     "status": "completed"
    },
    "tags": []
   },
   "source": [
    "## Filter data to get 3 and 8 out"
   ]
  },
  {
   "cell_type": "code",
   "execution_count": 10,
   "id": "776f7fc7",
   "metadata": {
    "execution": {
     "iopub.execute_input": "2021-09-18T10:07:06.545752Z",
     "iopub.status.busy": "2021-09-18T10:07:06.545172Z",
     "iopub.status.idle": "2021-09-18T10:07:06.571850Z",
     "shell.execute_reply": "2021-09-18T10:07:06.571142Z"
    },
    "papermill": {
     "duration": 0.060882,
     "end_time": "2021-09-18T10:07:06.572011",
     "exception": false,
     "start_time": "2021-09-18T10:07:06.511129",
     "status": "completed"
    },
    "tags": []
   },
   "outputs": [],
   "source": [
    "train_filter = np.where((train_labels == 3 ) | (train_labels == 8))\n",
    "test_filter = np.where((test_labels == 3) | (test_labels == 8))\n",
    "X_train, y_train = train_images[train_filter], train_labels[train_filter]\n",
    "X_test, y_test = test_images[test_filter], test_labels[test_filter]"
   ]
  },
  {
   "cell_type": "markdown",
   "id": "948f0b7e",
   "metadata": {
    "papermill": {
     "duration": 0.029285,
     "end_time": "2021-09-18T10:07:06.629614",
     "exception": false,
     "start_time": "2021-09-18T10:07:06.600329",
     "status": "completed"
    },
    "tags": []
   },
   "source": [
    "We normalize the pizel values in the 0 to 1 range"
   ]
  },
  {
   "cell_type": "code",
   "execution_count": 11,
   "id": "ee4c2166",
   "metadata": {
    "execution": {
     "iopub.execute_input": "2021-09-18T10:07:06.689830Z",
     "iopub.status.busy": "2021-09-18T10:07:06.689247Z",
     "iopub.status.idle": "2021-09-18T10:07:06.743076Z",
     "shell.execute_reply": "2021-09-18T10:07:06.742178Z"
    },
    "papermill": {
     "duration": 0.085589,
     "end_time": "2021-09-18T10:07:06.743281",
     "exception": false,
     "start_time": "2021-09-18T10:07:06.657692",
     "status": "completed"
    },
    "tags": []
   },
   "outputs": [],
   "source": [
    "X_train = X_train/255.\n",
    "X_test = X_test/255."
   ]
  },
  {
   "cell_type": "markdown",
   "id": "ddcf4fab",
   "metadata": {
    "papermill": {
     "duration": 0.02771,
     "end_time": "2021-09-18T10:07:06.801347",
     "exception": false,
     "start_time": "2021-09-18T10:07:06.773637",
     "status": "completed"
    },
    "tags": []
   },
   "source": [
    "And setup the labels as 1 (when the digit is 3) and 0 (when the digit is 8)"
   ]
  },
  {
   "cell_type": "code",
   "execution_count": 12,
   "id": "7dc908f2",
   "metadata": {
    "execution": {
     "iopub.execute_input": "2021-09-18T10:07:06.861648Z",
     "iopub.status.busy": "2021-09-18T10:07:06.861061Z",
     "iopub.status.idle": "2021-09-18T10:07:06.873800Z",
     "shell.execute_reply": "2021-09-18T10:07:06.873412Z"
    },
    "papermill": {
     "duration": 0.045379,
     "end_time": "2021-09-18T10:07:06.873902",
     "exception": false,
     "start_time": "2021-09-18T10:07:06.828523",
     "status": "completed"
    },
    "tags": []
   },
   "outputs": [],
   "source": [
    "y_train = 1*(y_train==3)\n",
    "y_test = 1*(y_test==3)"
   ]
  },
  {
   "cell_type": "code",
   "execution_count": 13,
   "id": "01e4e969",
   "metadata": {
    "execution": {
     "iopub.execute_input": "2021-09-18T10:07:06.936841Z",
     "iopub.status.busy": "2021-09-18T10:07:06.936284Z",
     "iopub.status.idle": "2021-09-18T10:07:06.952127Z",
     "shell.execute_reply": "2021-09-18T10:07:06.951651Z"
    },
    "papermill": {
     "duration": 0.050707,
     "end_time": "2021-09-18T10:07:06.952274",
     "exception": false,
     "start_time": "2021-09-18T10:07:06.901567",
     "status": "completed"
    },
    "tags": []
   },
   "outputs": [
    {
     "data": {
      "text/plain": [
       "((11982, 28, 28), (1984, 28, 28))"
      ]
     },
     "execution_count": 13,
     "metadata": {},
     "output_type": "execute_result"
    }
   ],
   "source": [
    "X_train.shape, X_test.shape"
   ]
  },
  {
   "cell_type": "markdown",
   "id": "5ccf3f85",
   "metadata": {
    "papermill": {
     "duration": 0.028509,
     "end_time": "2021-09-18T10:07:07.009111",
     "exception": false,
     "start_time": "2021-09-18T10:07:06.980602",
     "status": "completed"
    },
    "tags": []
   },
   "source": [
    "We reshape the data to flatten the image pixels into a set of features or co-variates:"
   ]
  },
  {
   "cell_type": "code",
   "execution_count": 14,
   "id": "5286a4a3",
   "metadata": {
    "execution": {
     "iopub.execute_input": "2021-09-18T10:07:07.072561Z",
     "iopub.status.busy": "2021-09-18T10:07:07.071914Z",
     "iopub.status.idle": "2021-09-18T10:07:07.086051Z",
     "shell.execute_reply": "2021-09-18T10:07:07.085613Z"
    },
    "papermill": {
     "duration": 0.047975,
     "end_time": "2021-09-18T10:07:07.086165",
     "exception": false,
     "start_time": "2021-09-18T10:07:07.038190",
     "status": "completed"
    },
    "tags": []
   },
   "outputs": [
    {
     "data": {
      "text/plain": [
       "((11982, 784), (1984, 784))"
      ]
     },
     "execution_count": 14,
     "metadata": {},
     "output_type": "execute_result"
    }
   ],
   "source": [
    "X_train = X_train.reshape(X_train.shape[0], -1)\n",
    "X_test = X_test.reshape(X_test.shape[0], -1)\n",
    "X_train.shape, X_test.shape"
   ]
  },
  {
   "cell_type": "code",
   "execution_count": 15,
   "id": "73c5f88a",
   "metadata": {
    "execution": {
     "iopub.execute_input": "2021-09-18T10:07:07.150612Z",
     "iopub.status.busy": "2021-09-18T10:07:07.150040Z",
     "iopub.status.idle": "2021-09-18T10:07:07.171833Z",
     "shell.execute_reply": "2021-09-18T10:07:07.171360Z"
    },
    "papermill": {
     "duration": 0.056589,
     "end_time": "2021-09-18T10:07:07.171952",
     "exception": false,
     "start_time": "2021-09-18T10:07:07.115363",
     "status": "completed"
    },
    "tags": []
   },
   "outputs": [],
   "source": [
    "#Impoting functions from 'Kudzu'\n",
    "from kudzu.model import Model\n",
    "from kudzu.train import Learner\n",
    "from kudzu.optim import GD\n",
    "from kudzu.data import Data, Sampler,Dataloader\n",
    "\n",
    "from kudzu.callbacks import AccCallback\n",
    "from kudzu.callbacks import ClfCallback\n",
    "\n",
    "from kudzu.loss import MSE\n",
    "\n",
    "from kudzu.layer import Sigmoid,Relu\n",
    "from kudzu.layer import Affine"
   ]
  },
  {
   "cell_type": "markdown",
   "id": "bc01172a",
   "metadata": {
    "papermill": {
     "duration": 0.030396,
     "end_time": "2021-09-18T10:07:07.230916",
     "exception": false,
     "start_time": "2021-09-18T10:07:07.200520",
     "status": "completed"
    },
    "tags": []
   },
   "source": [
    "### Let us create a `Config` class, to store important parameters. \n",
    "This class essentially plays the role of a dictionary."
   ]
  },
  {
   "cell_type": "code",
   "execution_count": 16,
   "id": "978281aa",
   "metadata": {
    "execution": {
     "iopub.execute_input": "2021-09-18T10:07:07.296105Z",
     "iopub.status.busy": "2021-09-18T10:07:07.295515Z",
     "iopub.status.idle": "2021-09-18T10:07:07.307903Z",
     "shell.execute_reply": "2021-09-18T10:07:07.308403Z"
    },
    "papermill": {
     "duration": 0.04766,
     "end_time": "2021-09-18T10:07:07.308537",
     "exception": false,
     "start_time": "2021-09-18T10:07:07.260877",
     "status": "completed"
    },
    "tags": []
   },
   "outputs": [],
   "source": [
    "class Config:\n",
    "    pass\n",
    "config = Config()\n",
    "config.lr = 0.001\n",
    "config.num_epochs = 250\n",
    "config.bs = 50"
   ]
  },
  {
   "cell_type": "markdown",
   "id": "1385fa59",
   "metadata": {
    "papermill": {
     "duration": 0.030566,
     "end_time": "2021-09-18T10:07:07.369039",
     "exception": false,
     "start_time": "2021-09-18T10:07:07.338473",
     "status": "completed"
    },
    "tags": []
   },
   "source": [
    "### Running Models with the Training data\n",
    "Details about the network layers:\n",
    "- A first affine layer has 784 inputs and does 100 affine transforms. These are followed by a Relu\n",
    "- A second affine layer has 100 inputs from the 100 activations of the past layer, and does 100 affine transforms. These are followed by a Relu\n",
    "- A third affine layer has 100 activations and does 2 affine transformations to create an embedding for visualization. There is no non-linearity here.\n",
    "- A final \"logistic regression\" which has an affine transform from 2 inputs to 1 output, which is squeezed through a sigmoid.\n"
   ]
  },
  {
   "cell_type": "code",
   "execution_count": 17,
   "id": "2b9c66db",
   "metadata": {
    "execution": {
     "iopub.execute_input": "2021-09-18T10:07:07.433178Z",
     "iopub.status.busy": "2021-09-18T10:07:07.432610Z",
     "iopub.status.idle": "2021-09-18T10:07:07.446828Z",
     "shell.execute_reply": "2021-09-18T10:07:07.446390Z"
    },
    "papermill": {
     "duration": 0.047727,
     "end_time": "2021-09-18T10:07:07.446942",
     "exception": false,
     "start_time": "2021-09-18T10:07:07.399215",
     "status": "completed"
    },
    "tags": []
   },
   "outputs": [],
   "source": [
    "data = Data(X_train, y_train.reshape(-1,1))\n",
    "sampler = Sampler(data, config.bs, shuffle=True)\n",
    "\n",
    "dl = Dataloader(data, sampler)\n",
    "\n",
    "opt = GD(config.lr)\n",
    "loss = MSE()"
   ]
  },
  {
   "cell_type": "code",
   "execution_count": 18,
   "id": "b275e4c2",
   "metadata": {
    "execution": {
     "iopub.execute_input": "2021-09-18T10:07:07.508668Z",
     "iopub.status.busy": "2021-09-18T10:07:07.508082Z",
     "iopub.status.idle": "2021-09-18T10:07:07.521307Z",
     "shell.execute_reply": "2021-09-18T10:07:07.520810Z"
    },
    "papermill": {
     "duration": 0.045102,
     "end_time": "2021-09-18T10:07:07.521427",
     "exception": false,
     "start_time": "2021-09-18T10:07:07.476325",
     "status": "completed"
    },
    "tags": []
   },
   "outputs": [],
   "source": [
    "training_data_x = X_train\n",
    "testing_data_x = X_test\n",
    "training_data_y = y_train.reshape(-1,1)\n",
    "testing_data_y = y_test.reshape(-1,1)"
   ]
  },
  {
   "cell_type": "code",
   "execution_count": 19,
   "id": "76951160",
   "metadata": {
    "execution": {
     "iopub.execute_input": "2021-09-18T10:07:07.582623Z",
     "iopub.status.busy": "2021-09-18T10:07:07.582072Z",
     "iopub.status.idle": "2021-09-18T10:07:07.598200Z",
     "shell.execute_reply": "2021-09-18T10:07:07.598662Z"
    },
    "papermill": {
     "duration": 0.050444,
     "end_time": "2021-09-18T10:07:07.598790",
     "exception": false,
     "start_time": "2021-09-18T10:07:07.548346",
     "status": "completed"
    },
    "tags": []
   },
   "outputs": [
    {
     "name": "stdout",
     "output_type": "stream",
     "text": [
      "xavier\n",
      "xavier\n",
      "xavier\n",
      "xavier\n",
      "xavier\n"
     ]
    }
   ],
   "source": [
    "layers = [Affine(\"first\", 784, 100), Relu(\"first\"), Affine(\"second\", 100, 100), Relu(\"second\"), Affine(\"third\", 100, 2), Affine(\"last\", 2, 1), Sigmoid(\"last\")]\n",
    "model_nn = Model(layers)\n",
    "model_lr = Model([Affine(\"logits\", 784, 1), Sigmoid(\"sigmoid\")])"
   ]
  },
  {
   "cell_type": "code",
   "execution_count": 20,
   "id": "6eede77a",
   "metadata": {
    "execution": {
     "iopub.execute_input": "2021-09-18T10:07:07.663226Z",
     "iopub.status.busy": "2021-09-18T10:07:07.662634Z",
     "iopub.status.idle": "2021-09-18T10:07:07.675700Z",
     "shell.execute_reply": "2021-09-18T10:07:07.675231Z"
    },
    "papermill": {
     "duration": 0.047804,
     "end_time": "2021-09-18T10:07:07.675823",
     "exception": false,
     "start_time": "2021-09-18T10:07:07.628019",
     "status": "completed"
    },
    "tags": []
   },
   "outputs": [],
   "source": [
    "nn_learner = Learner(loss, model_nn, opt, config.num_epochs)\n",
    "acc_nn = ClfCallback(nn_learner, config.bs, training_data_x , testing_data_x, training_data_y, testing_data_y)\n",
    "nn_learner.set_callbacks([acc_nn])"
   ]
  },
  {
   "cell_type": "code",
   "execution_count": 21,
   "id": "877b6cc7",
   "metadata": {
    "execution": {
     "iopub.execute_input": "2021-09-18T10:07:07.741103Z",
     "iopub.status.busy": "2021-09-18T10:07:07.740554Z",
     "iopub.status.idle": "2021-09-18T10:07:07.752974Z",
     "shell.execute_reply": "2021-09-18T10:07:07.752473Z"
    },
    "papermill": {
     "duration": 0.047507,
     "end_time": "2021-09-18T10:07:07.753091",
     "exception": false,
     "start_time": "2021-09-18T10:07:07.705584",
     "status": "completed"
    },
    "tags": []
   },
   "outputs": [],
   "source": [
    "lr_learner = Learner(loss, model_lr, opt, config.num_epochs)\n",
    "acc_lr = ClfCallback(lr_learner, config.bs, training_data_x , testing_data_x, training_data_y, testing_data_y)\n",
    "lr_learner.set_callbacks([acc_lr])"
   ]
  },
  {
   "cell_type": "code",
   "execution_count": 22,
   "id": "d9b133c3",
   "metadata": {
    "execution": {
     "iopub.execute_input": "2021-09-18T10:07:07.816485Z",
     "iopub.status.busy": "2021-09-18T10:07:07.815901Z",
     "iopub.status.idle": "2021-09-18T10:08:31.226463Z",
     "shell.execute_reply": "2021-09-18T10:08:31.226958Z"
    },
    "papermill": {
     "duration": 83.444279,
     "end_time": "2021-09-18T10:08:31.227101",
     "exception": false,
     "start_time": "2021-09-18T10:07:07.782822",
     "status": "completed"
    },
    "tags": []
   },
   "outputs": [
    {
     "name": "stdout",
     "output_type": "stream",
     "text": [
      "Epoch 0, Loss 0.2421\n",
      "Training Accuracy: 0.6675, Testing Accuracy: 0.6416\n",
      "\n"
     ]
    },
    {
     "name": "stdout",
     "output_type": "stream",
     "text": [
      "Epoch 10, Loss 0.0962\n",
      "Training Accuracy: 0.9056, Testing Accuracy: 0.9138\n",
      "\n"
     ]
    },
    {
     "name": "stdout",
     "output_type": "stream",
     "text": [
      "Epoch 20, Loss 0.0589\n",
      "Training Accuracy: 0.9361, Testing Accuracy: 0.9471\n",
      "\n"
     ]
    },
    {
     "name": "stdout",
     "output_type": "stream",
     "text": [
      "Epoch 30, Loss 0.0461\n",
      "Training Accuracy: 0.9485, Testing Accuracy: 0.9546\n",
      "\n"
     ]
    },
    {
     "name": "stdout",
     "output_type": "stream",
     "text": [
      "Epoch 40, Loss 0.0396\n",
      "Training Accuracy: 0.9550, Testing Accuracy: 0.9602\n",
      "\n"
     ]
    },
    {
     "name": "stdout",
     "output_type": "stream",
     "text": [
      "Epoch 50, Loss 0.0357\n",
      "Training Accuracy: 0.9599, Testing Accuracy: 0.9657\n",
      "\n"
     ]
    },
    {
     "name": "stdout",
     "output_type": "stream",
     "text": [
      "Epoch 60, Loss 0.0329\n",
      "Training Accuracy: 0.9633, Testing Accuracy: 0.9688\n",
      "\n"
     ]
    },
    {
     "name": "stdout",
     "output_type": "stream",
     "text": [
      "Epoch 70, Loss 0.0309\n",
      "Training Accuracy: 0.9653, Testing Accuracy: 0.9693\n",
      "\n"
     ]
    },
    {
     "name": "stdout",
     "output_type": "stream",
     "text": [
      "Epoch 80, Loss 0.0292\n",
      "Training Accuracy: 0.9666, Testing Accuracy: 0.9708\n",
      "\n"
     ]
    },
    {
     "name": "stdout",
     "output_type": "stream",
     "text": [
      "Epoch 90, Loss 0.0279\n",
      "Training Accuracy: 0.9677, Testing Accuracy: 0.9693\n",
      "\n"
     ]
    },
    {
     "name": "stdout",
     "output_type": "stream",
     "text": [
      "Epoch 100, Loss 0.0267\n",
      "Training Accuracy: 0.9693, Testing Accuracy: 0.9698\n",
      "\n"
     ]
    },
    {
     "name": "stdout",
     "output_type": "stream",
     "text": [
      "Epoch 110, Loss 0.0257\n",
      "Training Accuracy: 0.9703, Testing Accuracy: 0.9693\n",
      "\n"
     ]
    },
    {
     "name": "stdout",
     "output_type": "stream",
     "text": [
      "Epoch 120, Loss 0.0248\n",
      "Training Accuracy: 0.9715, Testing Accuracy: 0.9698\n",
      "\n"
     ]
    },
    {
     "name": "stdout",
     "output_type": "stream",
     "text": [
      "Epoch 130, Loss 0.024\n",
      "Training Accuracy: 0.9721, Testing Accuracy: 0.9723\n",
      "\n"
     ]
    },
    {
     "name": "stdout",
     "output_type": "stream",
     "text": [
      "Epoch 140, Loss 0.0233\n",
      "Training Accuracy: 0.9732, Testing Accuracy: 0.9713\n",
      "\n"
     ]
    },
    {
     "name": "stdout",
     "output_type": "stream",
     "text": [
      "Epoch 150, Loss 0.0226\n",
      "Training Accuracy: 0.9743, Testing Accuracy: 0.9723\n",
      "\n"
     ]
    },
    {
     "name": "stdout",
     "output_type": "stream",
     "text": [
      "Epoch 160, Loss 0.022\n",
      "Training Accuracy: 0.9751, Testing Accuracy: 0.9713\n",
      "\n"
     ]
    },
    {
     "name": "stdout",
     "output_type": "stream",
     "text": [
      "Epoch 170, Loss 0.0214\n",
      "Training Accuracy: 0.9757, Testing Accuracy: 0.9723\n",
      "\n"
     ]
    },
    {
     "name": "stdout",
     "output_type": "stream",
     "text": [
      "Epoch 180, Loss 0.0208\n",
      "Training Accuracy: 0.9765, Testing Accuracy: 0.9738\n",
      "\n"
     ]
    },
    {
     "name": "stdout",
     "output_type": "stream",
     "text": [
      "Epoch 190, Loss 0.0202\n",
      "Training Accuracy: 0.9770, Testing Accuracy: 0.9748\n",
      "\n"
     ]
    },
    {
     "name": "stdout",
     "output_type": "stream",
     "text": [
      "Epoch 200, Loss 0.0197\n",
      "Training Accuracy: 0.9779, Testing Accuracy: 0.9748\n",
      "\n"
     ]
    },
    {
     "name": "stdout",
     "output_type": "stream",
     "text": [
      "Epoch 210, Loss 0.0192\n",
      "Training Accuracy: 0.9786, Testing Accuracy: 0.9748\n",
      "\n"
     ]
    },
    {
     "name": "stdout",
     "output_type": "stream",
     "text": [
      "Epoch 220, Loss 0.0187\n",
      "Training Accuracy: 0.9791, Testing Accuracy: 0.9753\n",
      "\n"
     ]
    },
    {
     "name": "stdout",
     "output_type": "stream",
     "text": [
      "Epoch 230, Loss 0.0183\n",
      "Training Accuracy: 0.9799, Testing Accuracy: 0.9768\n",
      "\n"
     ]
    },
    {
     "name": "stdout",
     "output_type": "stream",
     "text": [
      "Epoch 240, Loss 0.0178\n",
      "Training Accuracy: 0.9804, Testing Accuracy: 0.9753\n",
      "\n"
     ]
    },
    {
     "data": {
      "text/plain": [
       "0.011021959760145342"
      ]
     },
     "execution_count": 22,
     "metadata": {},
     "output_type": "execute_result"
    }
   ],
   "source": [
    "nn_learner.train_loop(dl)"
   ]
  },
  {
   "cell_type": "code",
   "execution_count": 23,
   "id": "e0163366",
   "metadata": {
    "execution": {
     "iopub.execute_input": "2021-09-18T10:08:31.310010Z",
     "iopub.status.busy": "2021-09-18T10:08:31.309455Z",
     "iopub.status.idle": "2021-09-18T10:08:46.094401Z",
     "shell.execute_reply": "2021-09-18T10:08:46.094962Z"
    },
    "papermill": {
     "duration": 14.831762,
     "end_time": "2021-09-18T10:08:46.095116",
     "exception": false,
     "start_time": "2021-09-18T10:08:31.263354",
     "status": "completed"
    },
    "tags": []
   },
   "outputs": [
    {
     "name": "stdout",
     "output_type": "stream",
     "text": [
      "Epoch 0, Loss 0.2301\n",
      "Training Accuracy: 0.7288, Testing Accuracy: 0.7364\n",
      "\n"
     ]
    },
    {
     "name": "stdout",
     "output_type": "stream",
     "text": [
      "Epoch 10, Loss 0.1016\n",
      "Training Accuracy: 0.9084, Testing Accuracy: 0.9224\n",
      "\n"
     ]
    },
    {
     "name": "stdout",
     "output_type": "stream",
     "text": [
      "Epoch 20, Loss 0.0784\n",
      "Training Accuracy: 0.9268, Testing Accuracy: 0.9390\n",
      "\n"
     ]
    },
    {
     "name": "stdout",
     "output_type": "stream",
     "text": [
      "Epoch 30, Loss 0.0676\n",
      "Training Accuracy: 0.9360, Testing Accuracy: 0.9481\n",
      "\n"
     ]
    },
    {
     "name": "stdout",
     "output_type": "stream",
     "text": [
      "Epoch 40, Loss 0.0612\n",
      "Training Accuracy: 0.9415, Testing Accuracy: 0.9516\n",
      "\n"
     ]
    },
    {
     "name": "stdout",
     "output_type": "stream",
     "text": [
      "Epoch 50, Loss 0.0567\n",
      "Training Accuracy: 0.9438, Testing Accuracy: 0.9536\n",
      "\n"
     ]
    },
    {
     "name": "stdout",
     "output_type": "stream",
     "text": [
      "Epoch 60, Loss 0.0535\n",
      "Training Accuracy: 0.9458, Testing Accuracy: 0.9561\n",
      "\n"
     ]
    },
    {
     "name": "stdout",
     "output_type": "stream",
     "text": [
      "Epoch 70, Loss 0.051\n",
      "Training Accuracy: 0.9481, Testing Accuracy: 0.9546\n",
      "\n"
     ]
    },
    {
     "name": "stdout",
     "output_type": "stream",
     "text": [
      "Epoch 80, Loss 0.049\n",
      "Training Accuracy: 0.9504, Testing Accuracy: 0.9556\n",
      "\n"
     ]
    },
    {
     "name": "stdout",
     "output_type": "stream",
     "text": [
      "Epoch 90, Loss 0.0474\n",
      "Training Accuracy: 0.9516, Testing Accuracy: 0.9567\n",
      "\n"
     ]
    },
    {
     "name": "stdout",
     "output_type": "stream",
     "text": [
      "Epoch 100, Loss 0.046\n",
      "Training Accuracy: 0.9529, Testing Accuracy: 0.9592\n",
      "\n"
     ]
    },
    {
     "name": "stdout",
     "output_type": "stream",
     "text": [
      "Epoch 110, Loss 0.0448\n",
      "Training Accuracy: 0.9541, Testing Accuracy: 0.9602\n",
      "\n"
     ]
    },
    {
     "name": "stdout",
     "output_type": "stream",
     "text": [
      "Epoch 120, Loss 0.0438\n",
      "Training Accuracy: 0.9551, Testing Accuracy: 0.9612\n",
      "\n"
     ]
    },
    {
     "name": "stdout",
     "output_type": "stream",
     "text": [
      "Epoch 130, Loss 0.0428\n",
      "Training Accuracy: 0.9559, Testing Accuracy: 0.9617\n",
      "\n"
     ]
    },
    {
     "name": "stdout",
     "output_type": "stream",
     "text": [
      "Epoch 140, Loss 0.042\n",
      "Training Accuracy: 0.9564, Testing Accuracy: 0.9622\n",
      "\n"
     ]
    },
    {
     "name": "stdout",
     "output_type": "stream",
     "text": [
      "Epoch 150, Loss 0.0413\n",
      "Training Accuracy: 0.9571, Testing Accuracy: 0.9622\n",
      "\n"
     ]
    },
    {
     "name": "stdout",
     "output_type": "stream",
     "text": [
      "Epoch 160, Loss 0.0406\n",
      "Training Accuracy: 0.9578, Testing Accuracy: 0.9622\n",
      "\n"
     ]
    },
    {
     "name": "stdout",
     "output_type": "stream",
     "text": [
      "Epoch 170, Loss 0.04\n",
      "Training Accuracy: 0.9581, Testing Accuracy: 0.9622\n",
      "\n"
     ]
    },
    {
     "name": "stdout",
     "output_type": "stream",
     "text": [
      "Epoch 180, Loss 0.0395\n",
      "Training Accuracy: 0.9587, Testing Accuracy: 0.9627\n",
      "\n"
     ]
    },
    {
     "name": "stdout",
     "output_type": "stream",
     "text": [
      "Epoch 190, Loss 0.039\n",
      "Training Accuracy: 0.9592, Testing Accuracy: 0.9627\n",
      "\n"
     ]
    },
    {
     "name": "stdout",
     "output_type": "stream",
     "text": [
      "Epoch 200, Loss 0.0385\n",
      "Training Accuracy: 0.9593, Testing Accuracy: 0.9627\n",
      "\n"
     ]
    },
    {
     "name": "stdout",
     "output_type": "stream",
     "text": [
      "Epoch 210, Loss 0.0381\n",
      "Training Accuracy: 0.9598, Testing Accuracy: 0.9637\n",
      "\n"
     ]
    },
    {
     "name": "stdout",
     "output_type": "stream",
     "text": [
      "Epoch 220, Loss 0.0377\n",
      "Training Accuracy: 0.9602, Testing Accuracy: 0.9642\n",
      "\n"
     ]
    },
    {
     "name": "stdout",
     "output_type": "stream",
     "text": [
      "Epoch 230, Loss 0.0373\n",
      "Training Accuracy: 0.9605, Testing Accuracy: 0.9647\n",
      "\n"
     ]
    },
    {
     "name": "stdout",
     "output_type": "stream",
     "text": [
      "Epoch 240, Loss 0.0369\n",
      "Training Accuracy: 0.9609, Testing Accuracy: 0.9642\n",
      "\n"
     ]
    },
    {
     "data": {
      "text/plain": [
       "0.019383164546495458"
      ]
     },
     "execution_count": 23,
     "metadata": {},
     "output_type": "execute_result"
    }
   ],
   "source": [
    "lr_learner.train_loop(dl)"
   ]
  },
  {
   "cell_type": "code",
   "execution_count": 24,
   "id": "ca410940",
   "metadata": {
    "execution": {
     "iopub.execute_input": "2021-09-18T10:08:46.205538Z",
     "iopub.status.busy": "2021-09-18T10:08:46.204899Z",
     "iopub.status.idle": "2021-09-18T10:08:46.453410Z",
     "shell.execute_reply": "2021-09-18T10:08:46.452836Z"
    },
    "papermill": {
     "duration": 0.308255,
     "end_time": "2021-09-18T10:08:46.453555",
     "exception": false,
     "start_time": "2021-09-18T10:08:46.145300",
     "status": "completed"
    },
    "tags": []
   },
   "outputs": [
    {
     "data": {
      "text/plain": [
       "<matplotlib.legend.Legend at 0x7f9e3e0bc978>"
      ]
     },
     "execution_count": 24,
     "metadata": {},
     "output_type": "execute_result"
    },
    {
     "data": {
      "image/png": "[encoded data removed]",
      "text/plain": [
       "<Figure size 1080x720 with 1 Axes>"
      ]
     },
     "metadata": {
      "needs_background": "light"
     },
     "output_type": "display_data"
    }
   ],
   "source": [
    "#comparing the results of NN and LR\n",
    "plt.figure(figsize=(15,10))\n",
    "\n",
    "# Neural Network plots\n",
    "plt.plot(acc_nn.accuracies, 'r-', label = \"Training Accuracies - NN\")\n",
    "plt.plot(acc_nn.test_accuracies, 'g-', label = \"Testing Accuracies - NN\")\n",
    "\n",
    "# Logistic Regression plots\n",
    "plt.plot(acc_lr.accuracies, 'k-', label = \"Training Accuracies - LR\")\n",
    "plt.plot(acc_lr.test_accuracies, 'b-', label = \"Testing Accuracies - LR\")\n",
    "plt.legend()"
   ]
  },
  {
   "cell_type": "markdown",
   "id": "80dfb35c",
   "metadata": {
    "papermill": {
     "duration": 0.042582,
     "end_time": "2021-09-18T10:08:46.540791",
     "exception": false,
     "start_time": "2021-09-18T10:08:46.498209",
     "status": "completed"
    },
    "tags": []
   },
   "source": [
    "#### Plotting the outputs of this layer of the NN.\n"
   ]
  },
  {
   "cell_type": "code",
   "execution_count": 25,
   "id": "45eb2ff5",
   "metadata": {
    "execution": {
     "iopub.execute_input": "2021-09-18T10:08:46.630219Z",
     "iopub.status.busy": "2021-09-18T10:08:46.629756Z",
     "iopub.status.idle": "2021-09-18T10:08:46.651417Z",
     "shell.execute_reply": "2021-09-18T10:08:46.651862Z"
    },
    "papermill": {
     "duration": 0.068918,
     "end_time": "2021-09-18T10:08:46.651998",
     "exception": false,
     "start_time": "2021-09-18T10:08:46.583080",
     "status": "completed"
    },
    "tags": []
   },
   "outputs": [],
   "source": [
    "new_model = Model(layers[:-2])\n",
    "testing_plot = new_model(testing_data_x)"
   ]
  },
  {
   "cell_type": "code",
   "execution_count": 26,
   "id": "4c0a5485",
   "metadata": {
    "execution": {
     "iopub.execute_input": "2021-09-18T10:08:46.765711Z",
     "iopub.status.busy": "2021-09-18T10:08:46.765125Z",
     "iopub.status.idle": "2021-09-18T10:08:46.982686Z",
     "shell.execute_reply": "2021-09-18T10:08:46.983252Z"
    },
    "papermill": {
     "duration": 0.27666,
     "end_time": "2021-09-18T10:08:46.983401",
     "exception": false,
     "start_time": "2021-09-18T10:08:46.706741",
     "status": "completed"
    },
    "tags": []
   },
   "outputs": [
    {
     "data": {
      "text/plain": [
       "Text(0.5, 1.0, 'Outputs')"
      ]
     },
     "execution_count": 26,
     "metadata": {},
     "output_type": "execute_result"
    },
    {
     "data": {
      "image/png": "[encoded data removed]",
      "text/plain": [
       "<Figure size 576x504 with 1 Axes>"
      ]
     },
     "metadata": {
      "needs_background": "light"
     },
     "output_type": "display_data"
    }
   ],
   "source": [
    "# Plotting the scatter plot of points and color coding by class\n",
    "plt.figure(figsize=(8,7))\n",
    "plt.scatter(testing_plot[:,0], testing_plot[:,1], alpha = 0.1, c = y_test.ravel());\n",
    "plt.title('Outputs')"
   ]
  },
  {
   "cell_type": "markdown",
   "id": "a74fcf8f",
   "metadata": {
    "papermill": {
     "duration": 0.047486,
     "end_time": "2021-09-18T10:08:47.081024",
     "exception": false,
     "start_time": "2021-09-18T10:08:47.033538",
     "status": "completed"
    },
    "tags": []
   },
   "source": [
    "Probability contours"
   ]
  },
  {
   "cell_type": "code",
   "execution_count": 27,
   "id": "d0afc8e3",
   "metadata": {
    "execution": {
     "iopub.execute_input": "2021-09-18T10:08:47.185601Z",
     "iopub.status.busy": "2021-09-18T10:08:47.184966Z",
     "iopub.status.idle": "2021-09-18T10:08:47.193457Z",
     "shell.execute_reply": "2021-09-18T10:08:47.192450Z"
    },
    "papermill": {
     "duration": 0.065077,
     "end_time": "2021-09-18T10:08:47.193582",
     "exception": false,
     "start_time": "2021-09-18T10:08:47.128505",
     "status": "completed"
    },
    "tags": []
   },
   "outputs": [],
   "source": [
    "model_prob = Model(layers[-2:]) "
   ]
  },
  {
   "cell_type": "code",
   "execution_count": 28,
   "id": "9b96e238",
   "metadata": {
    "execution": {
     "iopub.execute_input": "2021-09-18T10:08:47.317193Z",
     "iopub.status.busy": "2021-09-18T10:08:47.316669Z",
     "iopub.status.idle": "2021-09-18T10:08:47.331285Z",
     "shell.execute_reply": "2021-09-18T10:08:47.332108Z"
    },
    "papermill": {
     "duration": 0.067203,
     "end_time": "2021-09-18T10:08:47.332377",
     "exception": false,
     "start_time": "2021-09-18T10:08:47.265174",
     "status": "completed"
    },
    "tags": []
   },
   "outputs": [],
   "source": [
    "#creating the x and y ranges according to the above generated plot.\n",
    "x_range = np.linspace(-4, 1, 100) \n",
    "y_range = np.linspace(-6, 6, 100) \n",
    "x_grid, y_grid = np.meshgrid(x_range, y_range) # x_grid and y_grig are of size 100 X 100\n",
    "\n",
    "# converting x_grid and y_grid to continuous arrays\n",
    "x_gridflat = np.ravel(x_grid)\n",
    "y_gridflat = np.ravel(y_grid)\n",
    "\n",
    "# The last layer of the current model takes two columns as input. Hence transpose of np.vstack() is required.\n",
    "X = np.vstack((x_gridflat, y_gridflat)).T\n",
    "\n",
    "prob_contour = model_prob(X).reshape(100,100) "
   ]
  },
  {
   "cell_type": "code",
   "execution_count": 29,
   "id": "da72499a",
   "metadata": {
    "execution": {
     "iopub.execute_input": "2021-09-18T10:08:47.444011Z",
     "iopub.status.busy": "2021-09-18T10:08:47.443422Z",
     "iopub.status.idle": "2021-09-18T10:08:47.721809Z",
     "shell.execute_reply": "2021-09-18T10:08:47.721052Z"
    },
    "papermill": {
     "duration": 0.333183,
     "end_time": "2021-09-18T10:08:47.721948",
     "exception": false,
     "start_time": "2021-09-18T10:08:47.388765",
     "status": "completed"
    },
    "tags": []
   },
   "outputs": [
    {
     "data": {
      "image/png": "[encoded data removed]",
      "text/plain": [
       "<Figure size 720x648 with 1 Axes>"
      ]
     },
     "metadata": {
      "needs_background": "light"
     },
     "output_type": "display_data"
    }
   ],
   "source": [
    "plt.figure(figsize=(10,9))\n",
    "plt.scatter(testing_plot[:,0], testing_plot[:,1], alpha = 0.1, c = y_test.ravel())\n",
    "contours = plt.contour(x_grid,y_grid,prob_contour)\n",
    "plt.title('Probability Contours')\n",
    "plt.clabel(contours, inline = True );"
   ]
  },
  {
   "cell_type": "code",
   "execution_count": null,
   "id": "e81b4ac7",
   "metadata": {
    "papermill": {
     "duration": 0.050653,
     "end_time": "2021-09-18T10:08:47.824500",
     "exception": false,
     "start_time": "2021-09-18T10:08:47.773847",
     "status": "completed"
    },
    "tags": []
   },
   "outputs": [],
   "source": []
  }
 ],
 "metadata": {
  "kernelspec": {
   "display_name": "Python 3",
   "language": "python",
   "name": "python3"
  },
  "language_info": {
   "codemirror_mode": {
    "name": "ipython",
    "version": 3
   },
   "file_extension": ".py",
   "mimetype": "text/x-python",
   "name": "python",
   "nbconvert_exporter": "python",
   "pygments_lexer": "ipython3",
   "version": "3.6.15"
  },
  "papermill": {
   "default_parameters": {},
   "duration": 107.012917,
   "end_time": "2021-09-18T10:08:48.282956",
   "environment_variables": {},
   "exception": null,
   "input_path": "2020-08-11-part2.ipynb",
   "output_path": "2020-08-11-part2.ipynb",
   "parameters": {},
   "start_time": "2021-09-18T10:07:01.270039",
   "version": "2.3.3"
  }
 },
 "nbformat": 4,
 "nbformat_minor": 5
}