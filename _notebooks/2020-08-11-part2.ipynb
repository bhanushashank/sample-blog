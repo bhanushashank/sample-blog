{
 "cells": [
  {
   "cell_type": "markdown",
   "id": "98380cd3",
   "metadata": {
    "papermill": {
     "duration": 0.027962,
     "end_time": "2021-11-21T00:23:18.181527",
     "exception": false,
     "start_time": "2021-11-21T00:23:18.153565",
     "status": "completed"
    },
    "tags": []
   },
   "source": [
    "# Distinguish Your Own Digits (DYOD)"
   ]
  },
  {
   "cell_type": "markdown",
   "id": "ef31240d",
   "metadata": {
    "papermill": {
     "duration": 0.025302,
     "end_time": "2021-11-21T00:23:18.231425",
     "exception": false,
     "start_time": "2021-11-21T00:23:18.206123",
     "status": "completed"
    },
    "tags": []
   },
   "source": [
    "You are going to write a classifier that distinguishes between the number 3 and number 8."
   ]
  },
  {
   "cell_type": "code",
   "execution_count": 1,
   "id": "b15c8646",
   "metadata": {
    "execution": {
     "iopub.execute_input": "2021-11-21T00:23:18.292080Z",
     "iopub.status.busy": "2021-11-21T00:23:18.291500Z",
     "iopub.status.idle": "2021-11-21T00:23:18.302573Z",
     "shell.execute_reply": "2021-11-21T00:23:18.302959Z"
    },
    "papermill": {
     "duration": 0.047438,
     "end_time": "2021-11-21T00:23:18.303116",
     "exception": false,
     "start_time": "2021-11-21T00:23:18.255678",
     "status": "completed"
    },
    "tags": []
   },
   "outputs": [],
   "source": [
    "%load_ext autoreload\n",
    "%autoreload 2"
   ]
  },
  {
   "cell_type": "code",
   "execution_count": 2,
   "id": "22ef38dc",
   "metadata": {
    "execution": {
     "iopub.execute_input": "2021-11-21T00:23:18.356984Z",
     "iopub.status.busy": "2021-11-21T00:23:18.356475Z",
     "iopub.status.idle": "2021-11-21T00:23:18.944410Z",
     "shell.execute_reply": "2021-11-21T00:23:18.943814Z"
    },
    "papermill": {
     "duration": 0.617425,
     "end_time": "2021-11-21T00:23:18.944551",
     "exception": false,
     "start_time": "2021-11-21T00:23:18.327126",
     "status": "completed"
    },
    "tags": []
   },
   "outputs": [],
   "source": [
    "%matplotlib inline\n",
    "import numpy as np\n",
    "import matplotlib.pyplot as plt\n",
    "import pandas as pd"
   ]
  },
  {
   "cell_type": "markdown",
   "id": "ba036198",
   "metadata": {
    "papermill": {
     "duration": 0.024148,
     "end_time": "2021-11-21T00:23:18.993151",
     "exception": false,
     "start_time": "2021-11-21T00:23:18.969003",
     "status": "completed"
    },
    "tags": []
   },
   "source": [
    "From the command line run `pip install mnist`. This is a library that will help you bring down the mnist dataset. If you run this from a notebook, you need to put  `!pip install mnist` in a cell by itself."
   ]
  },
  {
   "cell_type": "code",
   "execution_count": 3,
   "id": "bb6ad8a1",
   "metadata": {
    "execution": {
     "iopub.execute_input": "2021-11-21T00:23:19.046360Z",
     "iopub.status.busy": "2021-11-21T00:23:19.045843Z",
     "iopub.status.idle": "2021-11-21T00:23:21.418608Z",
     "shell.execute_reply": "2021-11-21T00:23:21.418048Z"
    },
    "papermill": {
     "duration": 2.401551,
     "end_time": "2021-11-21T00:23:21.418746",
     "exception": false,
     "start_time": "2021-11-21T00:23:19.017195",
     "status": "completed"
    },
    "tags": []
   },
   "outputs": [
    {
     "name": "stdout",
     "output_type": "stream",
     "text": [
      "Collecting mnist\r\n"
     ]
    },
    {
     "name": "stdout",
     "output_type": "stream",
     "text": [
      "  Downloading mnist-0.2.2-py2.py3-none-any.whl (3.5 kB)\r\n",
      "Requirement already satisfied: numpy in /opt/hostedtoolcache/Python/3.6.15/x64/lib/python3.6/site-packages (from mnist) (1.19.5)\r\n"
     ]
    },
    {
     "name": "stdout",
     "output_type": "stream",
     "text": [
      "Installing collected packages: mnist\r\n",
      "Successfully installed mnist-0.2.2\r\n"
     ]
    }
   ],
   "source": [
    "!pip install mnist"
   ]
  },
  {
   "cell_type": "markdown",
   "id": "69df9c9a",
   "metadata": {
    "papermill": {
     "duration": 0.025102,
     "end_time": "2021-11-21T00:23:21.469123",
     "exception": false,
     "start_time": "2021-11-21T00:23:21.444021",
     "status": "completed"
    },
    "tags": []
   },
   "source": [
    "## Preparing the Data"
   ]
  },
  {
   "cell_type": "code",
   "execution_count": 4,
   "id": "7f69d806",
   "metadata": {
    "execution": {
     "iopub.execute_input": "2021-11-21T00:23:21.528295Z",
     "iopub.status.busy": "2021-11-21T00:23:21.527746Z",
     "iopub.status.idle": "2021-11-21T00:23:21.538928Z",
     "shell.execute_reply": "2021-11-21T00:23:21.538490Z"
    },
    "papermill": {
     "duration": 0.045207,
     "end_time": "2021-11-21T00:23:21.539044",
     "exception": false,
     "start_time": "2021-11-21T00:23:21.493837",
     "status": "completed"
    },
    "tags": []
   },
   "outputs": [],
   "source": [
    "import mnist"
   ]
  },
  {
   "cell_type": "code",
   "execution_count": 5,
   "id": "a411e44f",
   "metadata": {
    "execution": {
     "iopub.execute_input": "2021-11-21T00:23:21.596725Z",
     "iopub.status.busy": "2021-11-21T00:23:21.596213Z",
     "iopub.status.idle": "2021-11-21T00:23:22.125898Z",
     "shell.execute_reply": "2021-11-21T00:23:22.125345Z"
    },
    "papermill": {
     "duration": 0.562173,
     "end_time": "2021-11-21T00:23:22.126045",
     "exception": false,
     "start_time": "2021-11-21T00:23:21.563872",
     "status": "completed"
    },
    "tags": []
   },
   "outputs": [],
   "source": [
    "train_images = mnist.train_images()\n",
    "train_labels = mnist.train_labels()"
   ]
  },
  {
   "cell_type": "code",
   "execution_count": 6,
   "id": "dceab3a5",
   "metadata": {
    "execution": {
     "iopub.execute_input": "2021-11-21T00:23:22.189799Z",
     "iopub.status.busy": "2021-11-21T00:23:22.188977Z",
     "iopub.status.idle": "2021-11-21T00:23:22.199495Z",
     "shell.execute_reply": "2021-11-21T00:23:22.199067Z"
    },
    "papermill": {
     "duration": 0.047628,
     "end_time": "2021-11-21T00:23:22.199632",
     "exception": false,
     "start_time": "2021-11-21T00:23:22.152004",
     "status": "completed"
    },
    "tags": []
   },
   "outputs": [
    {
     "data": {
      "text/plain": [
       "((60000, 28, 28), (60000,))"
      ]
     },
     "execution_count": 6,
     "metadata": {},
     "output_type": "execute_result"
    }
   ],
   "source": [
    "train_images.shape, train_labels.shape"
   ]
  },
  {
   "cell_type": "code",
   "execution_count": 7,
   "id": "f50dc2bb",
   "metadata": {
    "execution": {
     "iopub.execute_input": "2021-11-21T00:23:22.256939Z",
     "iopub.status.busy": "2021-11-21T00:23:22.256407Z",
     "iopub.status.idle": "2021-11-21T00:23:22.445542Z",
     "shell.execute_reply": "2021-11-21T00:23:22.446007Z"
    },
    "papermill": {
     "duration": 0.221414,
     "end_time": "2021-11-21T00:23:22.446170",
     "exception": false,
     "start_time": "2021-11-21T00:23:22.224756",
     "status": "completed"
    },
    "tags": []
   },
   "outputs": [],
   "source": [
    "test_images = mnist.test_images()\n",
    "test_labels = mnist.test_labels()"
   ]
  },
  {
   "cell_type": "code",
   "execution_count": 8,
   "id": "fc38cf1b",
   "metadata": {
    "execution": {
     "iopub.execute_input": "2021-11-21T00:23:22.500423Z",
     "iopub.status.busy": "2021-11-21T00:23:22.499900Z",
     "iopub.status.idle": "2021-11-21T00:23:22.514140Z",
     "shell.execute_reply": "2021-11-21T00:23:22.513728Z"
    },
    "papermill": {
     "duration": 0.042867,
     "end_time": "2021-11-21T00:23:22.514259",
     "exception": false,
     "start_time": "2021-11-21T00:23:22.471392",
     "status": "completed"
    },
    "tags": []
   },
   "outputs": [
    {
     "data": {
      "text/plain": [
       "((10000, 28, 28), (10000,))"
      ]
     },
     "execution_count": 8,
     "metadata": {},
     "output_type": "execute_result"
    }
   ],
   "source": [
    "test_images.shape, test_labels.shape"
   ]
  },
  {
   "cell_type": "code",
   "execution_count": 9,
   "id": "f9ed8fe0",
   "metadata": {
    "execution": {
     "iopub.execute_input": "2021-11-21T00:23:22.569911Z",
     "iopub.status.busy": "2021-11-21T00:23:22.569408Z",
     "iopub.status.idle": "2021-11-21T00:23:22.704598Z",
     "shell.execute_reply": "2021-11-21T00:23:22.705068Z"
    },
    "papermill": {
     "duration": 0.165718,
     "end_time": "2021-11-21T00:23:22.705229",
     "exception": false,
     "start_time": "2021-11-21T00:23:22.539511",
     "status": "completed"
    },
    "tags": []
   },
   "outputs": [
    {
     "name": "stdout",
     "output_type": "stream",
     "text": [
      "2\n"
     ]
    },
    {
     "data": {
      "text/plain": [
       "<matplotlib.image.AxesImage at 0x7f128dae0048>"
      ]
     },
     "execution_count": 9,
     "metadata": {},
     "output_type": "execute_result"
    },
    {
     "data": {
      "image/png": "[encoded data removed]",
      "text/plain": [
       "<Figure size 432x288 with 1 Axes>"
      ]
     },
     "metadata": {
      "needs_background": "light"
     },
     "output_type": "display_data"
    }
   ],
   "source": [
    "image_index = 7776 # You may select anything up to 60,000\n",
    "print(train_labels[image_index]) \n",
    "plt.imshow(train_images[image_index], cmap='Greys')"
   ]
  },
  {
   "cell_type": "markdown",
   "id": "a8d2388d",
   "metadata": {
    "papermill": {
     "duration": 0.026807,
     "end_time": "2021-11-21T00:23:22.759210",
     "exception": false,
     "start_time": "2021-11-21T00:23:22.732403",
     "status": "completed"
    },
    "tags": []
   },
   "source": [
    "## Filter data to get 3 and 8 out"
   ]
  },
  {
   "cell_type": "code",
   "execution_count": 10,
   "id": "776f7fc7",
   "metadata": {
    "execution": {
     "iopub.execute_input": "2021-11-21T00:23:22.816376Z",
     "iopub.status.busy": "2021-11-21T00:23:22.815844Z",
     "iopub.status.idle": "2021-11-21T00:23:22.836897Z",
     "shell.execute_reply": "2021-11-21T00:23:22.836421Z"
    },
    "papermill": {
     "duration": 0.051671,
     "end_time": "2021-11-21T00:23:22.837029",
     "exception": false,
     "start_time": "2021-11-21T00:23:22.785358",
     "status": "completed"
    },
    "tags": []
   },
   "outputs": [],
   "source": [
    "train_filter = np.where((train_labels == 3 ) | (train_labels == 8))\n",
    "test_filter = np.where((test_labels == 3) | (test_labels == 8))\n",
    "X_train, y_train = train_images[train_filter], train_labels[train_filter]\n",
    "X_test, y_test = test_images[test_filter], test_labels[test_filter]"
   ]
  },
  {
   "cell_type": "markdown",
   "id": "948f0b7e",
   "metadata": {
    "papermill": {
     "duration": 0.026259,
     "end_time": "2021-11-21T00:23:22.890490",
     "exception": false,
     "start_time": "2021-11-21T00:23:22.864231",
     "status": "completed"
    },
    "tags": []
   },
   "source": [
    "We normalize the pizel values in the 0 to 1 range"
   ]
  },
  {
   "cell_type": "code",
   "execution_count": 11,
   "id": "ee4c2166",
   "metadata": {
    "execution": {
     "iopub.execute_input": "2021-11-21T00:23:22.949850Z",
     "iopub.status.busy": "2021-11-21T00:23:22.949328Z",
     "iopub.status.idle": "2021-11-21T00:23:22.996653Z",
     "shell.execute_reply": "2021-11-21T00:23:22.996144Z"
    },
    "papermill": {
     "duration": 0.080099,
     "end_time": "2021-11-21T00:23:22.996798",
     "exception": false,
     "start_time": "2021-11-21T00:23:22.916699",
     "status": "completed"
    },
    "tags": []
   },
   "outputs": [],
   "source": [
    "X_train = X_train/255.\n",
    "X_test = X_test/255."
   ]
  },
  {
   "cell_type": "markdown",
   "id": "ddcf4fab",
   "metadata": {
    "papermill": {
     "duration": 0.02625,
     "end_time": "2021-11-21T00:23:23.050634",
     "exception": false,
     "start_time": "2021-11-21T00:23:23.024384",
     "status": "completed"
    },
    "tags": []
   },
   "source": [
    "And setup the labels as 1 (when the digit is 3) and 0 (when the digit is 8)"
   ]
  },
  {
   "cell_type": "code",
   "execution_count": 12,
   "id": "7dc908f2",
   "metadata": {
    "execution": {
     "iopub.execute_input": "2021-11-21T00:23:23.107594Z",
     "iopub.status.busy": "2021-11-21T00:23:23.107078Z",
     "iopub.status.idle": "2021-11-21T00:23:23.119756Z",
     "shell.execute_reply": "2021-11-21T00:23:23.120108Z"
    },
    "papermill": {
     "duration": 0.043213,
     "end_time": "2021-11-21T00:23:23.120242",
     "exception": false,
     "start_time": "2021-11-21T00:23:23.077029",
     "status": "completed"
    },
    "tags": []
   },
   "outputs": [],
   "source": [
    "y_train = 1*(y_train==3)\n",
    "y_test = 1*(y_test==3)"
   ]
  },
  {
   "cell_type": "code",
   "execution_count": 13,
   "id": "01e4e969",
   "metadata": {
    "execution": {
     "iopub.execute_input": "2021-11-21T00:23:23.170008Z",
     "iopub.status.busy": "2021-11-21T00:23:23.169551Z",
     "iopub.status.idle": "2021-11-21T00:23:23.183684Z",
     "shell.execute_reply": "2021-11-21T00:23:23.183297Z"
    },
    "papermill": {
     "duration": 0.04034,
     "end_time": "2021-11-21T00:23:23.183794",
     "exception": false,
     "start_time": "2021-11-21T00:23:23.143454",
     "status": "completed"
    },
    "tags": []
   },
   "outputs": [
    {
     "data": {
      "text/plain": [
       "((11982, 28, 28), (1984, 28, 28))"
      ]
     },
     "execution_count": 13,
     "metadata": {},
     "output_type": "execute_result"
    }
   ],
   "source": [
    "X_train.shape, X_test.shape"
   ]
  },
  {
   "cell_type": "markdown",
   "id": "5ccf3f85",
   "metadata": {
    "papermill": {
     "duration": 0.023315,
     "end_time": "2021-11-21T00:23:23.230978",
     "exception": false,
     "start_time": "2021-11-21T00:23:23.207663",
     "status": "completed"
    },
    "tags": []
   },
   "source": [
    "We reshape the data to flatten the image pixels into a set of features or co-variates:"
   ]
  },
  {
   "cell_type": "code",
   "execution_count": 14,
   "id": "5286a4a3",
   "metadata": {
    "execution": {
     "iopub.execute_input": "2021-11-21T00:23:23.282389Z",
     "iopub.status.busy": "2021-11-21T00:23:23.281933Z",
     "iopub.status.idle": "2021-11-21T00:23:23.295960Z",
     "shell.execute_reply": "2021-11-21T00:23:23.296323Z"
    },
    "papermill": {
     "duration": 0.041928,
     "end_time": "2021-11-21T00:23:23.296444",
     "exception": false,
     "start_time": "2021-11-21T00:23:23.254516",
     "status": "completed"
    },
    "tags": []
   },
   "outputs": [
    {
     "data": {
      "text/plain": [
       "((11982, 784), (1984, 784))"
      ]
     },
     "execution_count": 14,
     "metadata": {},
     "output_type": "execute_result"
    }
   ],
   "source": [
    "X_train = X_train.reshape(X_train.shape[0], -1)\n",
    "X_test = X_test.reshape(X_test.shape[0], -1)\n",
    "X_train.shape, X_test.shape"
   ]
  },
  {
   "cell_type": "code",
   "execution_count": 15,
   "id": "73c5f88a",
   "metadata": {
    "execution": {
     "iopub.execute_input": "2021-11-21T00:23:23.347764Z",
     "iopub.status.busy": "2021-11-21T00:23:23.347281Z",
     "iopub.status.idle": "2021-11-21T00:23:23.366247Z",
     "shell.execute_reply": "2021-11-21T00:23:23.365860Z"
    },
    "papermill": {
     "duration": 0.046307,
     "end_time": "2021-11-21T00:23:23.366360",
     "exception": false,
     "start_time": "2021-11-21T00:23:23.320053",
     "status": "completed"
    },
    "tags": []
   },
   "outputs": [],
   "source": [
    "#Impoting functions from 'Kudzu'\n",
    "from kudzu.model import Model\n",
    "from kudzu.train import Learner\n",
    "from kudzu.optim import GD\n",
    "from kudzu.data import Data, Sampler,Dataloader\n",
    "\n",
    "from kudzu.callbacks import AccCallback\n",
    "from kudzu.callbacks import ClfCallback\n",
    "\n",
    "from kudzu.loss import MSE\n",
    "\n",
    "from kudzu.layer import Sigmoid,Relu\n",
    "from kudzu.layer import Affine"
   ]
  },
  {
   "cell_type": "markdown",
   "id": "bc01172a",
   "metadata": {
    "papermill": {
     "duration": 0.023786,
     "end_time": "2021-11-21T00:23:23.414345",
     "exception": false,
     "start_time": "2021-11-21T00:23:23.390559",
     "status": "completed"
    },
    "tags": []
   },
   "source": [
    "### Let us create a `Config` class, to store important parameters. \n",
    "This class essentially plays the role of a dictionary."
   ]
  },
  {
   "cell_type": "code",
   "execution_count": 16,
   "id": "978281aa",
   "metadata": {
    "execution": {
     "iopub.execute_input": "2021-11-21T00:23:23.465753Z",
     "iopub.status.busy": "2021-11-21T00:23:23.464966Z",
     "iopub.status.idle": "2021-11-21T00:23:23.478619Z",
     "shell.execute_reply": "2021-11-21T00:23:23.478238Z"
    },
    "papermill": {
     "duration": 0.040791,
     "end_time": "2021-11-21T00:23:23.478735",
     "exception": false,
     "start_time": "2021-11-21T00:23:23.437944",
     "status": "completed"
    },
    "tags": []
   },
   "outputs": [],
   "source": [
    "class Config:\n",
    "    pass\n",
    "config = Config()\n",
    "config.lr = 0.001\n",
    "config.num_epochs = 250\n",
    "config.bs = 50"
   ]
  },
  {
   "cell_type": "markdown",
   "id": "1385fa59",
   "metadata": {
    "papermill": {
     "duration": 0.023788,
     "end_time": "2021-11-21T00:23:23.526342",
     "exception": false,
     "start_time": "2021-11-21T00:23:23.502554",
     "status": "completed"
    },
    "tags": []
   },
   "source": [
    "### Running Models with the Training data\n",
    "Details about the network layers:\n",
    "- A first affine layer has 784 inputs and does 100 affine transforms. These are followed by a Relu\n",
    "- A second affine layer has 100 inputs from the 100 activations of the past layer, and does 100 affine transforms. These are followed by a Relu\n",
    "- A third affine layer has 100 activations and does 2 affine transformations to create an embedding for visualization. There is no non-linearity here.\n",
    "- A final \"logistic regression\" which has an affine transform from 2 inputs to 1 output, which is squeezed through a sigmoid.\n"
   ]
  },
  {
   "cell_type": "code",
   "execution_count": 17,
   "id": "2b9c66db",
   "metadata": {
    "execution": {
     "iopub.execute_input": "2021-11-21T00:23:23.577625Z",
     "iopub.status.busy": "2021-11-21T00:23:23.577167Z",
     "iopub.status.idle": "2021-11-21T00:23:23.590989Z",
     "shell.execute_reply": "2021-11-21T00:23:23.591384Z"
    },
    "papermill": {
     "duration": 0.041612,
     "end_time": "2021-11-21T00:23:23.591507",
     "exception": false,
     "start_time": "2021-11-21T00:23:23.549895",
     "status": "completed"
    },
    "tags": []
   },
   "outputs": [],
   "source": [
    "data = Data(X_train, y_train.reshape(-1,1))\n",
    "sampler = Sampler(data, config.bs, shuffle=True)\n",
    "\n",
    "dl = Dataloader(data, sampler)\n",
    "\n",
    "opt = GD(config.lr)\n",
    "loss = MSE()"
   ]
  },
  {
   "cell_type": "code",
   "execution_count": 18,
   "id": "b275e4c2",
   "metadata": {
    "execution": {
     "iopub.execute_input": "2021-11-21T00:23:23.645010Z",
     "iopub.status.busy": "2021-11-21T00:23:23.644521Z",
     "iopub.status.idle": "2021-11-21T00:23:23.657011Z",
     "shell.execute_reply": "2021-11-21T00:23:23.656363Z"
    },
    "papermill": {
     "duration": 0.041849,
     "end_time": "2021-11-21T00:23:23.657125",
     "exception": false,
     "start_time": "2021-11-21T00:23:23.615276",
     "status": "completed"
    },
    "tags": []
   },
   "outputs": [],
   "source": [
    "training_data_x = X_train\n",
    "testing_data_x = X_test\n",
    "training_data_y = y_train.reshape(-1,1)\n",
    "testing_data_y = y_test.reshape(-1,1)"
   ]
  },
  {
   "cell_type": "code",
   "execution_count": 19,
   "id": "76951160",
   "metadata": {
    "execution": {
     "iopub.execute_input": "2021-11-21T00:23:23.708772Z",
     "iopub.status.busy": "2021-11-21T00:23:23.708308Z",
     "iopub.status.idle": "2021-11-21T00:23:23.724098Z",
     "shell.execute_reply": "2021-11-21T00:23:23.723628Z"
    },
    "papermill": {
     "duration": 0.04327,
     "end_time": "2021-11-21T00:23:23.724203",
     "exception": false,
     "start_time": "2021-11-21T00:23:23.680933",
     "status": "completed"
    },
    "tags": []
   },
   "outputs": [
    {
     "name": "stdout",
     "output_type": "stream",
     "text": [
      "xavier\n",
      "xavier\n",
      "xavier\n",
      "xavier\n",
      "xavier\n"
     ]
    }
   ],
   "source": [
    "layers = [Affine(\"first\", 784, 100), Relu(\"first\"), Affine(\"second\", 100, 100), Relu(\"second\"), Affine(\"third\", 100, 2), Affine(\"last\", 2, 1), Sigmoid(\"last\")]\n",
    "model_nn = Model(layers)\n",
    "model_lr = Model([Affine(\"logits\", 784, 1), Sigmoid(\"sigmoid\")])"
   ]
  },
  {
   "cell_type": "code",
   "execution_count": 20,
   "id": "6eede77a",
   "metadata": {
    "execution": {
     "iopub.execute_input": "2021-11-21T00:23:23.776359Z",
     "iopub.status.busy": "2021-11-21T00:23:23.775883Z",
     "iopub.status.idle": "2021-11-21T00:23:23.788531Z",
     "shell.execute_reply": "2021-11-21T00:23:23.788143Z"
    },
    "papermill": {
     "duration": 0.040274,
     "end_time": "2021-11-21T00:23:23.788631",
     "exception": false,
     "start_time": "2021-11-21T00:23:23.748357",
     "status": "completed"
    },
    "tags": []
   },
   "outputs": [],
   "source": [
    "nn_learner = Learner(loss, model_nn, opt, config.num_epochs)\n",
    "acc_nn = ClfCallback(nn_learner, config.bs, training_data_x , testing_data_x, training_data_y, testing_data_y)\n",
    "nn_learner.set_callbacks([acc_nn])"
   ]
  },
  {
   "cell_type": "code",
   "execution_count": 21,
   "id": "877b6cc7",
   "metadata": {
    "execution": {
     "iopub.execute_input": "2021-11-21T00:23:23.840453Z",
     "iopub.status.busy": "2021-11-21T00:23:23.839997Z",
     "iopub.status.idle": "2021-11-21T00:23:23.851754Z",
     "shell.execute_reply": "2021-11-21T00:23:23.852100Z"
    },
    "papermill": {
     "duration": 0.039688,
     "end_time": "2021-11-21T00:23:23.852223",
     "exception": false,
     "start_time": "2021-11-21T00:23:23.812535",
     "status": "completed"
    },
    "tags": []
   },
   "outputs": [],
   "source": [
    "lr_learner = Learner(loss, model_lr, opt, config.num_epochs)\n",
    "acc_lr = ClfCallback(lr_learner, config.bs, training_data_x , testing_data_x, training_data_y, testing_data_y)\n",
    "lr_learner.set_callbacks([acc_lr])"
   ]
  },
  {
   "cell_type": "code",
   "execution_count": 22,
   "id": "d9b133c3",
   "metadata": {
    "execution": {
     "iopub.execute_input": "2021-11-21T00:23:23.903999Z",
     "iopub.status.busy": "2021-11-21T00:23:23.903506Z",
     "iopub.status.idle": "2021-11-21T00:24:41.973441Z",
     "shell.execute_reply": "2021-11-21T00:24:41.974180Z"
    },
    "papermill": {
     "duration": 78.098098,
     "end_time": "2021-11-21T00:24:41.974341",
     "exception": false,
     "start_time": "2021-11-21T00:23:23.876243",
     "status": "completed"
    },
    "tags": []
   },
   "outputs": [
    {
     "name": "stdout",
     "output_type": "stream",
     "text": [
      "Epoch 0, Loss 0.2198\n",
      "Training Accuracy: 0.7834, Testing Accuracy: 0.7969\n",
      "\n"
     ]
    },
    {
     "name": "stdout",
     "output_type": "stream",
     "text": [
      "Epoch 10, Loss 0.0686\n",
      "Training Accuracy: 0.9359, Testing Accuracy: 0.9441\n",
      "\n"
     ]
    },
    {
     "name": "stdout",
     "output_type": "stream",
     "text": [
      "Epoch 20, Loss 0.0454\n",
      "Training Accuracy: 0.9513, Testing Accuracy: 0.9617\n",
      "\n"
     ]
    },
    {
     "name": "stdout",
     "output_type": "stream",
     "text": [
      "Epoch 30, Loss 0.0373\n",
      "Training Accuracy: 0.9592, Testing Accuracy: 0.9647\n",
      "\n"
     ]
    },
    {
     "name": "stdout",
     "output_type": "stream",
     "text": [
      "Epoch 40, Loss 0.0331\n",
      "Training Accuracy: 0.9625, Testing Accuracy: 0.9672\n",
      "\n"
     ]
    },
    {
     "name": "stdout",
     "output_type": "stream",
     "text": [
      "Epoch 50, Loss 0.0303\n",
      "Training Accuracy: 0.9658, Testing Accuracy: 0.9688\n",
      "\n"
     ]
    },
    {
     "name": "stdout",
     "output_type": "stream",
     "text": [
      "Epoch 60, Loss 0.0284\n",
      "Training Accuracy: 0.9675, Testing Accuracy: 0.9713\n",
      "\n"
     ]
    },
    {
     "name": "stdout",
     "output_type": "stream",
     "text": [
      "Epoch 70, Loss 0.0269\n",
      "Training Accuracy: 0.9692, Testing Accuracy: 0.9713\n",
      "\n"
     ]
    },
    {
     "name": "stdout",
     "output_type": "stream",
     "text": [
      "Epoch 80, Loss 0.0256\n",
      "Training Accuracy: 0.9709, Testing Accuracy: 0.9708\n",
      "\n"
     ]
    },
    {
     "name": "stdout",
     "output_type": "stream",
     "text": [
      "Epoch 90, Loss 0.0246\n",
      "Training Accuracy: 0.9725, Testing Accuracy: 0.9713\n",
      "\n"
     ]
    },
    {
     "name": "stdout",
     "output_type": "stream",
     "text": [
      "Epoch 100, Loss 0.0237\n",
      "Training Accuracy: 0.9735, Testing Accuracy: 0.9723\n",
      "\n"
     ]
    },
    {
     "name": "stdout",
     "output_type": "stream",
     "text": [
      "Epoch 110, Loss 0.0229\n",
      "Training Accuracy: 0.9740, Testing Accuracy: 0.9723\n",
      "\n"
     ]
    },
    {
     "name": "stdout",
     "output_type": "stream",
     "text": [
      "Epoch 120, Loss 0.0222\n",
      "Training Accuracy: 0.9751, Testing Accuracy: 0.9718\n",
      "\n"
     ]
    },
    {
     "name": "stdout",
     "output_type": "stream",
     "text": [
      "Epoch 130, Loss 0.0216\n",
      "Training Accuracy: 0.9759, Testing Accuracy: 0.9723\n",
      "\n"
     ]
    },
    {
     "name": "stdout",
     "output_type": "stream",
     "text": [
      "Epoch 140, Loss 0.021\n",
      "Training Accuracy: 0.9767, Testing Accuracy: 0.9718\n",
      "\n"
     ]
    },
    {
     "name": "stdout",
     "output_type": "stream",
     "text": [
      "Epoch 150, Loss 0.0205\n",
      "Training Accuracy: 0.9770, Testing Accuracy: 0.9728\n",
      "\n"
     ]
    },
    {
     "name": "stdout",
     "output_type": "stream",
     "text": [
      "Epoch 160, Loss 0.02\n",
      "Training Accuracy: 0.9775, Testing Accuracy: 0.9723\n",
      "\n"
     ]
    },
    {
     "name": "stdout",
     "output_type": "stream",
     "text": [
      "Epoch 170, Loss 0.0195\n",
      "Training Accuracy: 0.9781, Testing Accuracy: 0.9733\n",
      "\n"
     ]
    },
    {
     "name": "stdout",
     "output_type": "stream",
     "text": [
      "Epoch 180, Loss 0.019\n",
      "Training Accuracy: 0.9790, Testing Accuracy: 0.9728\n",
      "\n"
     ]
    },
    {
     "name": "stdout",
     "output_type": "stream",
     "text": [
      "Epoch 190, Loss 0.0185\n",
      "Training Accuracy: 0.9790, Testing Accuracy: 0.9738\n",
      "\n"
     ]
    },
    {
     "name": "stdout",
     "output_type": "stream",
     "text": [
      "Epoch 200, Loss 0.0181\n",
      "Training Accuracy: 0.9797, Testing Accuracy: 0.9748\n",
      "\n"
     ]
    },
    {
     "name": "stdout",
     "output_type": "stream",
     "text": [
      "Epoch 210, Loss 0.0177\n",
      "Training Accuracy: 0.9801, Testing Accuracy: 0.9758\n",
      "\n"
     ]
    },
    {
     "name": "stdout",
     "output_type": "stream",
     "text": [
      "Epoch 220, Loss 0.0173\n",
      "Training Accuracy: 0.9807, Testing Accuracy: 0.9758\n",
      "\n"
     ]
    },
    {
     "name": "stdout",
     "output_type": "stream",
     "text": [
      "Epoch 230, Loss 0.0169\n",
      "Training Accuracy: 0.9814, Testing Accuracy: 0.9758\n",
      "\n"
     ]
    },
    {
     "name": "stdout",
     "output_type": "stream",
     "text": [
      "Epoch 240, Loss 0.0165\n",
      "Training Accuracy: 0.9817, Testing Accuracy: 0.9763\n",
      "\n"
     ]
    },
    {
     "data": {
      "text/plain": [
       "0.00470439456557491"
      ]
     },
     "execution_count": 22,
     "metadata": {},
     "output_type": "execute_result"
    }
   ],
   "source": [
    "nn_learner.train_loop(dl)"
   ]
  },
  {
   "cell_type": "code",
   "execution_count": 23,
   "id": "e0163366",
   "metadata": {
    "execution": {
     "iopub.execute_input": "2021-11-21T00:24:42.057374Z",
     "iopub.status.busy": "2021-11-21T00:24:42.056859Z",
     "iopub.status.idle": "2021-11-21T00:24:56.084650Z",
     "shell.execute_reply": "2021-11-21T00:24:56.085381Z"
    },
    "papermill": {
     "duration": 14.07175,
     "end_time": "2021-11-21T00:24:56.085533",
     "exception": false,
     "start_time": "2021-11-21T00:24:42.013783",
     "status": "completed"
    },
    "tags": []
   },
   "outputs": [
    {
     "name": "stdout",
     "output_type": "stream",
     "text": [
      "Epoch 0, Loss 0.2483\n",
      "Training Accuracy: 0.6541, Testing Accuracy: 0.6336\n",
      "\n"
     ]
    },
    {
     "name": "stdout",
     "output_type": "stream",
     "text": [
      "Epoch 10, Loss 0.1044\n",
      "Training Accuracy: 0.9076, Testing Accuracy: 0.9163\n",
      "\n"
     ]
    },
    {
     "name": "stdout",
     "output_type": "stream",
     "text": [
      "Epoch 20, Loss 0.0801\n",
      "Training Accuracy: 0.9279, Testing Accuracy: 0.9340\n",
      "\n"
     ]
    },
    {
     "name": "stdout",
     "output_type": "stream",
     "text": [
      "Epoch 30, Loss 0.0691\n",
      "Training Accuracy: 0.9352, Testing Accuracy: 0.9471\n",
      "\n"
     ]
    },
    {
     "name": "stdout",
     "output_type": "stream",
     "text": [
      "Epoch 40, Loss 0.0624\n",
      "Training Accuracy: 0.9410, Testing Accuracy: 0.9481\n",
      "\n"
     ]
    },
    {
     "name": "stdout",
     "output_type": "stream",
     "text": [
      "Epoch 50, Loss 0.0579\n",
      "Training Accuracy: 0.9435, Testing Accuracy: 0.9521\n",
      "\n"
     ]
    },
    {
     "name": "stdout",
     "output_type": "stream",
     "text": [
      "Epoch 60, Loss 0.0545\n",
      "Training Accuracy: 0.9465, Testing Accuracy: 0.9541\n",
      "\n"
     ]
    },
    {
     "name": "stdout",
     "output_type": "stream",
     "text": [
      "Epoch 70, Loss 0.0519\n",
      "Training Accuracy: 0.9482, Testing Accuracy: 0.9551\n",
      "\n"
     ]
    },
    {
     "name": "stdout",
     "output_type": "stream",
     "text": [
      "Epoch 80, Loss 0.0498\n",
      "Training Accuracy: 0.9495, Testing Accuracy: 0.9572\n",
      "\n"
     ]
    },
    {
     "name": "stdout",
     "output_type": "stream",
     "text": [
      "Epoch 90, Loss 0.0481\n",
      "Training Accuracy: 0.9504, Testing Accuracy: 0.9582\n",
      "\n"
     ]
    },
    {
     "name": "stdout",
     "output_type": "stream",
     "text": [
      "Epoch 100, Loss 0.0467\n",
      "Training Accuracy: 0.9510, Testing Accuracy: 0.9592\n",
      "\n"
     ]
    },
    {
     "name": "stdout",
     "output_type": "stream",
     "text": [
      "Epoch 110, Loss 0.0454\n",
      "Training Accuracy: 0.9527, Testing Accuracy: 0.9607\n",
      "\n"
     ]
    },
    {
     "name": "stdout",
     "output_type": "stream",
     "text": [
      "Epoch 120, Loss 0.0443\n",
      "Training Accuracy: 0.9536, Testing Accuracy: 0.9612\n",
      "\n"
     ]
    },
    {
     "name": "stdout",
     "output_type": "stream",
     "text": [
      "Epoch 130, Loss 0.0434\n",
      "Training Accuracy: 0.9543, Testing Accuracy: 0.9612\n",
      "\n"
     ]
    },
    {
     "name": "stdout",
     "output_type": "stream",
     "text": [
      "Epoch 140, Loss 0.0425\n",
      "Training Accuracy: 0.9556, Testing Accuracy: 0.9617\n",
      "\n"
     ]
    },
    {
     "name": "stdout",
     "output_type": "stream",
     "text": [
      "Epoch 150, Loss 0.0418\n",
      "Training Accuracy: 0.9563, Testing Accuracy: 0.9622\n",
      "\n"
     ]
    },
    {
     "name": "stdout",
     "output_type": "stream",
     "text": [
      "Epoch 160, Loss 0.0411\n",
      "Training Accuracy: 0.9564, Testing Accuracy: 0.9632\n",
      "\n"
     ]
    },
    {
     "name": "stdout",
     "output_type": "stream",
     "text": [
      "Epoch 170, Loss 0.0404\n",
      "Training Accuracy: 0.9569, Testing Accuracy: 0.9647\n",
      "\n"
     ]
    },
    {
     "name": "stdout",
     "output_type": "stream",
     "text": [
      "Epoch 180, Loss 0.0399\n",
      "Training Accuracy: 0.9574, Testing Accuracy: 0.9652\n",
      "\n"
     ]
    },
    {
     "name": "stdout",
     "output_type": "stream",
     "text": [
      "Epoch 190, Loss 0.0393\n",
      "Training Accuracy: 0.9579, Testing Accuracy: 0.9657\n",
      "\n"
     ]
    },
    {
     "name": "stdout",
     "output_type": "stream",
     "text": [
      "Epoch 200, Loss 0.0388\n",
      "Training Accuracy: 0.9584, Testing Accuracy: 0.9652\n",
      "\n"
     ]
    },
    {
     "name": "stdout",
     "output_type": "stream",
     "text": [
      "Epoch 210, Loss 0.0384\n",
      "Training Accuracy: 0.9586, Testing Accuracy: 0.9652\n",
      "\n"
     ]
    },
    {
     "name": "stdout",
     "output_type": "stream",
     "text": [
      "Epoch 220, Loss 0.0379\n",
      "Training Accuracy: 0.9591, Testing Accuracy: 0.9652\n",
      "\n"
     ]
    },
    {
     "name": "stdout",
     "output_type": "stream",
     "text": [
      "Epoch 230, Loss 0.0376\n",
      "Training Accuracy: 0.9594, Testing Accuracy: 0.9657\n",
      "\n"
     ]
    },
    {
     "name": "stdout",
     "output_type": "stream",
     "text": [
      "Epoch 240, Loss 0.0372\n",
      "Training Accuracy: 0.9595, Testing Accuracy: 0.9657\n",
      "\n"
     ]
    },
    {
     "data": {
      "text/plain": [
       "0.018685031547938977"
      ]
     },
     "execution_count": 23,
     "metadata": {},
     "output_type": "execute_result"
    }
   ],
   "source": [
    "lr_learner.train_loop(dl)"
   ]
  },
  {
   "cell_type": "code",
   "execution_count": 24,
   "id": "ca410940",
   "metadata": {
    "execution": {
     "iopub.execute_input": "2021-11-21T00:24:56.177141Z",
     "iopub.status.busy": "2021-11-21T00:24:56.176575Z",
     "iopub.status.idle": "2021-11-21T00:24:56.410896Z",
     "shell.execute_reply": "2021-11-21T00:24:56.410090Z"
    },
    "papermill": {
     "duration": 0.28453,
     "end_time": "2021-11-21T00:24:56.411037",
     "exception": false,
     "start_time": "2021-11-21T00:24:56.126507",
     "status": "completed"
    },
    "tags": []
   },
   "outputs": [
    {
     "data": {
      "text/plain": [
       "<matplotlib.legend.Legend at 0x7f128d6437f0>"
      ]
     },
     "execution_count": 24,
     "metadata": {},
     "output_type": "execute_result"
    },
    {
     "data": {
      "image/png": "[encoded data removed]",
      "text/plain": [
       "<Figure size 1080x720 with 1 Axes>"
      ]
     },
     "metadata": {
      "needs_background": "light"
     },
     "output_type": "display_data"
    }
   ],
   "source": [
    "#comparing the results of NN and LR\n",
    "plt.figure(figsize=(15,10))\n",
    "\n",
    "# Neural Network plots\n",
    "plt.plot(acc_nn.accuracies, 'r-', label = \"Training Accuracies - NN\")\n",
    "plt.plot(acc_nn.test_accuracies, 'g-', label = \"Testing Accuracies - NN\")\n",
    "\n",
    "# Logistic Regression plots\n",
    "plt.plot(acc_lr.accuracies, 'k-', label = \"Training Accuracies - LR\")\n",
    "plt.plot(acc_lr.test_accuracies, 'b-', label = \"Testing Accuracies - LR\")\n",
    "plt.legend()"
   ]
  },
  {
   "cell_type": "markdown",
   "id": "80dfb35c",
   "metadata": {
    "papermill": {
     "duration": 0.042139,
     "end_time": "2021-11-21T00:24:56.495920",
     "exception": false,
     "start_time": "2021-11-21T00:24:56.453781",
     "status": "completed"
    },
    "tags": []
   },
   "source": [
    "#### Plotting the outputs of this layer of the NN.\n"
   ]
  },
  {
   "cell_type": "code",
   "execution_count": 25,
   "id": "45eb2ff5",
   "metadata": {
    "execution": {
     "iopub.execute_input": "2021-11-21T00:24:56.592595Z",
     "iopub.status.busy": "2021-11-21T00:24:56.591757Z",
     "iopub.status.idle": "2021-11-21T00:24:56.607161Z",
     "shell.execute_reply": "2021-11-21T00:24:56.607591Z"
    },
    "papermill": {
     "duration": 0.069743,
     "end_time": "2021-11-21T00:24:56.607735",
     "exception": false,
     "start_time": "2021-11-21T00:24:56.537992",
     "status": "completed"
    },
    "tags": []
   },
   "outputs": [],
   "source": [
    "new_model = Model(layers[:-2])\n",
    "testing_plot = new_model(testing_data_x)"
   ]
  },
  {
   "cell_type": "code",
   "execution_count": 26,
   "id": "4c0a5485",
   "metadata": {
    "execution": {
     "iopub.execute_input": "2021-11-21T00:24:56.701846Z",
     "iopub.status.busy": "2021-11-21T00:24:56.700857Z",
     "iopub.status.idle": "2021-11-21T00:24:56.886179Z",
     "shell.execute_reply": "2021-11-21T00:24:56.886576Z"
    },
    "papermill": {
     "duration": 0.236535,
     "end_time": "2021-11-21T00:24:56.886731",
     "exception": false,
     "start_time": "2021-11-21T00:24:56.650196",
     "status": "completed"
    },
    "tags": []
   },
   "outputs": [
    {
     "data": {
      "text/plain": [
       "Text(0.5, 1.0, 'Outputs')"
      ]
     },
     "execution_count": 26,
     "metadata": {},
     "output_type": "execute_result"
    },
    {
     "data": {
      "image/png": "[encoded data removed]",
      "text/plain": [
       "<Figure size 576x504 with 1 Axes>"
      ]
     },
     "metadata": {
      "needs_background": "light"
     },
     "output_type": "display_data"
    }
   ],
   "source": [
    "# Plotting the scatter plot of points and color coding by class\n",
    "plt.figure(figsize=(8,7))\n",
    "plt.scatter(testing_plot[:,0], testing_plot[:,1], alpha = 0.1, c = y_test.ravel());\n",
    "plt.title('Outputs')"
   ]
  },
  {
   "cell_type": "markdown",
   "id": "a74fcf8f",
   "metadata": {
    "papermill": {
     "duration": 0.043975,
     "end_time": "2021-11-21T00:24:56.974860",
     "exception": false,
     "start_time": "2021-11-21T00:24:56.930885",
     "status": "completed"
    },
    "tags": []
   },
   "source": [
    "Probability contours"
   ]
  },
  {
   "cell_type": "code",
   "execution_count": 27,
   "id": "d0afc8e3",
   "metadata": {
    "execution": {
     "iopub.execute_input": "2021-11-21T00:24:57.074399Z",
     "iopub.status.busy": "2021-11-21T00:24:57.073575Z",
     "iopub.status.idle": "2021-11-21T00:24:57.081855Z",
     "shell.execute_reply": "2021-11-21T00:24:57.081419Z"
    },
    "papermill": {
     "duration": 0.062845,
     "end_time": "2021-11-21T00:24:57.081969",
     "exception": false,
     "start_time": "2021-11-21T00:24:57.019124",
     "status": "completed"
    },
    "tags": []
   },
   "outputs": [],
   "source": [
    "model_prob = Model(layers[-2:]) "
   ]
  },
  {
   "cell_type": "code",
   "execution_count": 28,
   "id": "9b96e238",
   "metadata": {
    "execution": {
     "iopub.execute_input": "2021-11-21T00:24:57.178178Z",
     "iopub.status.busy": "2021-11-21T00:24:57.177654Z",
     "iopub.status.idle": "2021-11-21T00:24:57.192701Z",
     "shell.execute_reply": "2021-11-21T00:24:57.192288Z"
    },
    "papermill": {
     "duration": 0.066639,
     "end_time": "2021-11-21T00:24:57.192815",
     "exception": false,
     "start_time": "2021-11-21T00:24:57.126176",
     "status": "completed"
    },
    "tags": []
   },
   "outputs": [],
   "source": [
    "#creating the x and y ranges according to the above generated plot.\n",
    "x_range = np.linspace(-4, 1, 100) \n",
    "y_range = np.linspace(-6, 6, 100) \n",
    "x_grid, y_grid = np.meshgrid(x_range, y_range) # x_grid and y_grig are of size 100 X 100\n",
    "\n",
    "# converting x_grid and y_grid to continuous arrays\n",
    "x_gridflat = np.ravel(x_grid)\n",
    "y_gridflat = np.ravel(y_grid)\n",
    "\n",
    "# The last layer of the current model takes two columns as input. Hence transpose of np.vstack() is required.\n",
    "X = np.vstack((x_gridflat, y_gridflat)).T\n",
    "\n",
    "prob_contour = model_prob(X).reshape(100,100) "
   ]
  },
  {
   "cell_type": "code",
   "execution_count": 29,
   "id": "da72499a",
   "metadata": {
    "execution": {
     "iopub.execute_input": "2021-11-21T00:24:57.320904Z",
     "iopub.status.busy": "2021-11-21T00:24:57.319417Z",
     "iopub.status.idle": "2021-11-21T00:24:57.550452Z",
     "shell.execute_reply": "2021-11-21T00:24:57.550920Z"
    },
    "papermill": {
     "duration": 0.312929,
     "end_time": "2021-11-21T00:24:57.551079",
     "exception": false,
     "start_time": "2021-11-21T00:24:57.238150",
     "status": "completed"
    },
    "tags": []
   },
   "outputs": [
    {
     "data": {
      "image/png": "[encoded data removed]",
      "text/plain": [
       "<Figure size 720x648 with 1 Axes>"
      ]
     },
     "metadata": {
      "needs_background": "light"
     },
     "output_type": "display_data"
    }
   ],
   "source": [
    "plt.figure(figsize=(10,9))\n",
    "plt.scatter(testing_plot[:,0], testing_plot[:,1], alpha = 0.1, c = y_test.ravel())\n",
    "contours = plt.contour(x_grid,y_grid,prob_contour)\n",
    "plt.title('Probability Contours')\n",
    "plt.clabel(contours, inline = True );"
   ]
  },
  {
   "cell_type": "code",
   "execution_count": null,
   "id": "e81b4ac7",
   "metadata": {
    "papermill": {
     "duration": 0.046422,
     "end_time": "2021-11-21T00:24:57.644793",
     "exception": false,
     "start_time": "2021-11-21T00:24:57.598371",
     "status": "completed"
    },
    "tags": []
   },
   "outputs": [],
   "source": []
  }
 ],
 "metadata": {
  "kernelspec": {
   "display_name": "Python 3",
   "language": "python",
   "name": "python3"
  },
  "language_info": {
   "codemirror_mode": {
    "name": "ipython",
    "version": 3
   },
   "file_extension": ".py",
   "mimetype": "text/x-python",
   "name": "python",
   "nbconvert_exporter": "python",
   "pygments_lexer": "ipython3",
   "version": "3.6.15"
  },
  "papermill": {
   "default_parameters": {},
   "duration": 101.11864,
   "end_time": "2021-11-21T00:24:58.099538",
   "environment_variables": {},
   "exception": null,
   "input_path": "2020-08-11-part2.ipynb",
   "output_path": "2020-08-11-part2.ipynb",
   "parameters": {},
   "start_time": "2021-11-21T00:23:16.980898",
   "version": "2.3.3"
  }
 },
 "nbformat": 4,
 "nbformat_minor": 5
}