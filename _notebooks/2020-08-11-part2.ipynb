{
 "cells": [
  {
   "cell_type": "markdown",
   "id": "98380cd3",
   "metadata": {
    "papermill": {
     "duration": 0.034596,
     "end_time": "2021-09-25T00:21:02.511594",
     "exception": false,
     "start_time": "2021-09-25T00:21:02.476998",
     "status": "completed"
    },
    "tags": []
   },
   "source": [
    "# Distinguish Your Own Digits (DYOD)"
   ]
  },
  {
   "cell_type": "markdown",
   "id": "ef31240d",
   "metadata": {
    "papermill": {
     "duration": 0.029509,
     "end_time": "2021-09-25T00:21:02.571408",
     "exception": false,
     "start_time": "2021-09-25T00:21:02.541899",
     "status": "completed"
    },
    "tags": []
   },
   "source": [
    "You are going to write a classifier that distinguishes between the number 3 and number 8."
   ]
  },
  {
   "cell_type": "code",
   "execution_count": 1,
   "id": "b15c8646",
   "metadata": {
    "execution": {
     "iopub.execute_input": "2021-09-25T00:21:02.648209Z",
     "iopub.status.busy": "2021-09-25T00:21:02.647558Z",
     "iopub.status.idle": "2021-09-25T00:21:02.659370Z",
     "shell.execute_reply": "2021-09-25T00:21:02.658821Z"
    },
    "papermill": {
     "duration": 0.05681,
     "end_time": "2021-09-25T00:21:02.659534",
     "exception": false,
     "start_time": "2021-09-25T00:21:02.602724",
     "status": "completed"
    },
    "tags": []
   },
   "outputs": [],
   "source": [
    "%load_ext autoreload\n",
    "%autoreload 2"
   ]
  },
  {
   "cell_type": "code",
   "execution_count": 2,
   "id": "22ef38dc",
   "metadata": {
    "execution": {
     "iopub.execute_input": "2021-09-25T00:21:02.726382Z",
     "iopub.status.busy": "2021-09-25T00:21:02.725687Z",
     "iopub.status.idle": "2021-09-25T00:21:03.367760Z",
     "shell.execute_reply": "2021-09-25T00:21:03.367132Z"
    },
    "papermill": {
     "duration": 0.677391,
     "end_time": "2021-09-25T00:21:03.367903",
     "exception": false,
     "start_time": "2021-09-25T00:21:02.690512",
     "status": "completed"
    },
    "tags": []
   },
   "outputs": [],
   "source": [
    "%matplotlib inline\n",
    "import numpy as np\n",
    "import matplotlib.pyplot as plt\n",
    "import pandas as pd"
   ]
  },
  {
   "cell_type": "markdown",
   "id": "ba036198",
   "metadata": {
    "papermill": {
     "duration": 0.031748,
     "end_time": "2021-09-25T00:21:03.431311",
     "exception": false,
     "start_time": "2021-09-25T00:21:03.399563",
     "status": "completed"
    },
    "tags": []
   },
   "source": [
    "From the command line run `pip install mnist`. This is a library that will help you bring down the mnist dataset. If you run this from a notebook, you need to put  `!pip install mnist` in a cell by itself."
   ]
  },
  {
   "cell_type": "code",
   "execution_count": 3,
   "id": "bb6ad8a1",
   "metadata": {
    "execution": {
     "iopub.execute_input": "2021-09-25T00:21:03.499579Z",
     "iopub.status.busy": "2021-09-25T00:21:03.498723Z",
     "iopub.status.idle": "2021-09-25T00:21:06.315524Z",
     "shell.execute_reply": "2021-09-25T00:21:06.316454Z"
    },
    "papermill": {
     "duration": 2.853739,
     "end_time": "2021-09-25T00:21:06.316641",
     "exception": false,
     "start_time": "2021-09-25T00:21:03.462902",
     "status": "completed"
    },
    "tags": []
   },
   "outputs": [
    {
     "name": "stdout",
     "output_type": "stream",
     "text": [
      "Collecting mnist\r\n"
     ]
    },
    {
     "name": "stdout",
     "output_type": "stream",
     "text": [
      "  Downloading mnist-0.2.2-py2.py3-none-any.whl (3.5 kB)\r\n",
      "Requirement already satisfied: numpy in /opt/hostedtoolcache/Python/3.6.15/x64/lib/python3.6/site-packages (from mnist) (1.19.5)\r\n"
     ]
    },
    {
     "name": "stdout",
     "output_type": "stream",
     "text": [
      "Installing collected packages: mnist\r\n"
     ]
    },
    {
     "name": "stdout",
     "output_type": "stream",
     "text": [
      "Successfully installed mnist-0.2.2\r\n"
     ]
    }
   ],
   "source": [
    "!pip install mnist"
   ]
  },
  {
   "cell_type": "markdown",
   "id": "69df9c9a",
   "metadata": {
    "papermill": {
     "duration": 0.031639,
     "end_time": "2021-09-25T00:21:06.380190",
     "exception": false,
     "start_time": "2021-09-25T00:21:06.348551",
     "status": "completed"
    },
    "tags": []
   },
   "source": [
    "## Preparing the Data"
   ]
  },
  {
   "cell_type": "code",
   "execution_count": 4,
   "id": "7f69d806",
   "metadata": {
    "execution": {
     "iopub.execute_input": "2021-09-25T00:21:06.452855Z",
     "iopub.status.busy": "2021-09-25T00:21:06.452149Z",
     "iopub.status.idle": "2021-09-25T00:21:06.469405Z",
     "shell.execute_reply": "2021-09-25T00:21:06.470026Z"
    },
    "papermill": {
     "duration": 0.058786,
     "end_time": "2021-09-25T00:21:06.470228",
     "exception": false,
     "start_time": "2021-09-25T00:21:06.411442",
     "status": "completed"
    },
    "tags": []
   },
   "outputs": [],
   "source": [
    "import mnist"
   ]
  },
  {
   "cell_type": "code",
   "execution_count": 5,
   "id": "a411e44f",
   "metadata": {
    "execution": {
     "iopub.execute_input": "2021-09-25T00:21:06.547845Z",
     "iopub.status.busy": "2021-09-25T00:21:06.547173Z",
     "iopub.status.idle": "2021-09-25T00:21:07.183645Z",
     "shell.execute_reply": "2021-09-25T00:21:07.183044Z"
    },
    "papermill": {
     "duration": 0.679662,
     "end_time": "2021-09-25T00:21:07.183804",
     "exception": false,
     "start_time": "2021-09-25T00:21:06.504142",
     "status": "completed"
    },
    "tags": []
   },
   "outputs": [],
   "source": [
    "train_images = mnist.train_images()\n",
    "train_labels = mnist.train_labels()"
   ]
  },
  {
   "cell_type": "code",
   "execution_count": 6,
   "id": "dceab3a5",
   "metadata": {
    "execution": {
     "iopub.execute_input": "2021-09-25T00:21:07.258430Z",
     "iopub.status.busy": "2021-09-25T00:21:07.257753Z",
     "iopub.status.idle": "2021-09-25T00:21:07.275748Z",
     "shell.execute_reply": "2021-09-25T00:21:07.274829Z"
    },
    "papermill": {
     "duration": 0.05722,
     "end_time": "2021-09-25T00:21:07.275904",
     "exception": false,
     "start_time": "2021-09-25T00:21:07.218684",
     "status": "completed"
    },
    "tags": []
   },
   "outputs": [
    {
     "data": {
      "text/plain": [
       "((60000, 28, 28), (60000,))"
      ]
     },
     "execution_count": 6,
     "metadata": {},
     "output_type": "execute_result"
    }
   ],
   "source": [
    "train_images.shape, train_labels.shape"
   ]
  },
  {
   "cell_type": "code",
   "execution_count": 7,
   "id": "f50dc2bb",
   "metadata": {
    "execution": {
     "iopub.execute_input": "2021-09-25T00:21:07.364976Z",
     "iopub.status.busy": "2021-09-25T00:21:07.354582Z",
     "iopub.status.idle": "2021-09-25T00:21:07.523005Z",
     "shell.execute_reply": "2021-09-25T00:21:07.521747Z"
    },
    "papermill": {
     "duration": 0.213227,
     "end_time": "2021-09-25T00:21:07.523178",
     "exception": false,
     "start_time": "2021-09-25T00:21:07.309951",
     "status": "completed"
    },
    "tags": []
   },
   "outputs": [],
   "source": [
    "test_images = mnist.test_images()\n",
    "test_labels = mnist.test_labels()"
   ]
  },
  {
   "cell_type": "code",
   "execution_count": 8,
   "id": "fc38cf1b",
   "metadata": {
    "execution": {
     "iopub.execute_input": "2021-09-25T00:21:07.596251Z",
     "iopub.status.busy": "2021-09-25T00:21:07.595580Z",
     "iopub.status.idle": "2021-09-25T00:21:07.611540Z",
     "shell.execute_reply": "2021-09-25T00:21:07.610892Z"
    },
    "papermill": {
     "duration": 0.053158,
     "end_time": "2021-09-25T00:21:07.611711",
     "exception": false,
     "start_time": "2021-09-25T00:21:07.558553",
     "status": "completed"
    },
    "tags": []
   },
   "outputs": [
    {
     "data": {
      "text/plain": [
       "((10000, 28, 28), (10000,))"
      ]
     },
     "execution_count": 8,
     "metadata": {},
     "output_type": "execute_result"
    }
   ],
   "source": [
    "test_images.shape, test_labels.shape"
   ]
  },
  {
   "cell_type": "code",
   "execution_count": 9,
   "id": "f9ed8fe0",
   "metadata": {
    "execution": {
     "iopub.execute_input": "2021-09-25T00:21:07.685855Z",
     "iopub.status.busy": "2021-09-25T00:21:07.685151Z",
     "iopub.status.idle": "2021-09-25T00:21:07.883036Z",
     "shell.execute_reply": "2021-09-25T00:21:07.883649Z"
    },
    "papermill": {
     "duration": 0.237806,
     "end_time": "2021-09-25T00:21:07.883849",
     "exception": false,
     "start_time": "2021-09-25T00:21:07.646043",
     "status": "completed"
    },
    "tags": []
   },
   "outputs": [
    {
     "name": "stdout",
     "output_type": "stream",
     "text": [
      "2\n"
     ]
    },
    {
     "data": {
      "text/plain": [
       "<matplotlib.image.AxesImage at 0x7fda8dac3940>"
      ]
     },
     "execution_count": 9,
     "metadata": {},
     "output_type": "execute_result"
    },
    {
     "data": {
      "image/png": "[encoded data removed]",
      "text/plain": [
       "<Figure size 432x288 with 1 Axes>"
      ]
     },
     "metadata": {
      "needs_background": "light"
     },
     "output_type": "display_data"
    }
   ],
   "source": [
    "image_index = 7776 # You may select anything up to 60,000\n",
    "print(train_labels[image_index]) \n",
    "plt.imshow(train_images[image_index], cmap='Greys')"
   ]
  },
  {
   "cell_type": "markdown",
   "id": "a8d2388d",
   "metadata": {
    "papermill": {
     "duration": 0.033892,
     "end_time": "2021-09-25T00:21:07.953697",
     "exception": false,
     "start_time": "2021-09-25T00:21:07.919805",
     "status": "completed"
    },
    "tags": []
   },
   "source": [
    "## Filter data to get 3 and 8 out"
   ]
  },
  {
   "cell_type": "code",
   "execution_count": 10,
   "id": "776f7fc7",
   "metadata": {
    "execution": {
     "iopub.execute_input": "2021-09-25T00:21:08.028694Z",
     "iopub.status.busy": "2021-09-25T00:21:08.027450Z",
     "iopub.status.idle": "2021-09-25T00:21:08.049020Z",
     "shell.execute_reply": "2021-09-25T00:21:08.049535Z"
    },
    "papermill": {
     "duration": 0.062178,
     "end_time": "2021-09-25T00:21:08.049702",
     "exception": false,
     "start_time": "2021-09-25T00:21:07.987524",
     "status": "completed"
    },
    "tags": []
   },
   "outputs": [],
   "source": [
    "train_filter = np.where((train_labels == 3 ) | (train_labels == 8))\n",
    "test_filter = np.where((test_labels == 3) | (test_labels == 8))\n",
    "X_train, y_train = train_images[train_filter], train_labels[train_filter]\n",
    "X_test, y_test = test_images[test_filter], test_labels[test_filter]"
   ]
  },
  {
   "cell_type": "markdown",
   "id": "948f0b7e",
   "metadata": {
    "papermill": {
     "duration": 0.037958,
     "end_time": "2021-09-25T00:21:08.124169",
     "exception": false,
     "start_time": "2021-09-25T00:21:08.086211",
     "status": "completed"
    },
    "tags": []
   },
   "source": [
    "We normalize the pizel values in the 0 to 1 range"
   ]
  },
  {
   "cell_type": "code",
   "execution_count": 11,
   "id": "ee4c2166",
   "metadata": {
    "execution": {
     "iopub.execute_input": "2021-09-25T00:21:08.201215Z",
     "iopub.status.busy": "2021-09-25T00:21:08.199881Z",
     "iopub.status.idle": "2021-09-25T00:21:08.268838Z",
     "shell.execute_reply": "2021-09-25T00:21:08.268207Z"
    },
    "papermill": {
     "duration": 0.108944,
     "end_time": "2021-09-25T00:21:08.269005",
     "exception": false,
     "start_time": "2021-09-25T00:21:08.160061",
     "status": "completed"
    },
    "tags": []
   },
   "outputs": [],
   "source": [
    "X_train = X_train/255.\n",
    "X_test = X_test/255."
   ]
  },
  {
   "cell_type": "markdown",
   "id": "ddcf4fab",
   "metadata": {
    "papermill": {
     "duration": 0.035654,
     "end_time": "2021-09-25T00:21:08.340224",
     "exception": false,
     "start_time": "2021-09-25T00:21:08.304570",
     "status": "completed"
    },
    "tags": []
   },
   "source": [
    "And setup the labels as 1 (when the digit is 3) and 0 (when the digit is 8)"
   ]
  },
  {
   "cell_type": "code",
   "execution_count": 12,
   "id": "7dc908f2",
   "metadata": {
    "execution": {
     "iopub.execute_input": "2021-09-25T00:21:08.413972Z",
     "iopub.status.busy": "2021-09-25T00:21:08.413238Z",
     "iopub.status.idle": "2021-09-25T00:21:08.426856Z",
     "shell.execute_reply": "2021-09-25T00:21:08.426270Z"
    },
    "papermill": {
     "duration": 0.053007,
     "end_time": "2021-09-25T00:21:08.427002",
     "exception": false,
     "start_time": "2021-09-25T00:21:08.373995",
     "status": "completed"
    },
    "tags": []
   },
   "outputs": [],
   "source": [
    "y_train = 1*(y_train==3)\n",
    "y_test = 1*(y_test==3)"
   ]
  },
  {
   "cell_type": "code",
   "execution_count": 13,
   "id": "01e4e969",
   "metadata": {
    "execution": {
     "iopub.execute_input": "2021-09-25T00:21:08.502004Z",
     "iopub.status.busy": "2021-09-25T00:21:08.501065Z",
     "iopub.status.idle": "2021-09-25T00:21:08.516384Z",
     "shell.execute_reply": "2021-09-25T00:21:08.517048Z"
    },
    "papermill": {
     "duration": 0.055351,
     "end_time": "2021-09-25T00:21:08.517203",
     "exception": false,
     "start_time": "2021-09-25T00:21:08.461852",
     "status": "completed"
    },
    "tags": []
   },
   "outputs": [
    {
     "data": {
      "text/plain": [
       "((11982, 28, 28), (1984, 28, 28))"
      ]
     },
     "execution_count": 13,
     "metadata": {},
     "output_type": "execute_result"
    }
   ],
   "source": [
    "X_train.shape, X_test.shape"
   ]
  },
  {
   "cell_type": "markdown",
   "id": "5ccf3f85",
   "metadata": {
    "papermill": {
     "duration": 0.03401,
     "end_time": "2021-09-25T00:21:08.586722",
     "exception": false,
     "start_time": "2021-09-25T00:21:08.552712",
     "status": "completed"
    },
    "tags": []
   },
   "source": [
    "We reshape the data to flatten the image pixels into a set of features or co-variates:"
   ]
  },
  {
   "cell_type": "code",
   "execution_count": 14,
   "id": "5286a4a3",
   "metadata": {
    "execution": {
     "iopub.execute_input": "2021-09-25T00:21:08.661304Z",
     "iopub.status.busy": "2021-09-25T00:21:08.660624Z",
     "iopub.status.idle": "2021-09-25T00:21:08.675572Z",
     "shell.execute_reply": "2021-09-25T00:21:08.676104Z"
    },
    "papermill": {
     "duration": 0.053368,
     "end_time": "2021-09-25T00:21:08.676246",
     "exception": false,
     "start_time": "2021-09-25T00:21:08.622878",
     "status": "completed"
    },
    "tags": []
   },
   "outputs": [
    {
     "data": {
      "text/plain": [
       "((11982, 784), (1984, 784))"
      ]
     },
     "execution_count": 14,
     "metadata": {},
     "output_type": "execute_result"
    }
   ],
   "source": [
    "X_train = X_train.reshape(X_train.shape[0], -1)\n",
    "X_test = X_test.reshape(X_test.shape[0], -1)\n",
    "X_train.shape, X_test.shape"
   ]
  },
  {
   "cell_type": "code",
   "execution_count": 15,
   "id": "73c5f88a",
   "metadata": {
    "execution": {
     "iopub.execute_input": "2021-09-25T00:21:08.750409Z",
     "iopub.status.busy": "2021-09-25T00:21:08.749725Z",
     "iopub.status.idle": "2021-09-25T00:21:08.770603Z",
     "shell.execute_reply": "2021-09-25T00:21:08.771293Z"
    },
    "papermill": {
     "duration": 0.061323,
     "end_time": "2021-09-25T00:21:08.771439",
     "exception": false,
     "start_time": "2021-09-25T00:21:08.710116",
     "status": "completed"
    },
    "tags": []
   },
   "outputs": [],
   "source": [
    "#Impoting functions from 'Kudzu'\n",
    "from kudzu.model import Model\n",
    "from kudzu.train import Learner\n",
    "from kudzu.optim import GD\n",
    "from kudzu.data import Data, Sampler,Dataloader\n",
    "\n",
    "from kudzu.callbacks import AccCallback\n",
    "from kudzu.callbacks import ClfCallback\n",
    "\n",
    "from kudzu.loss import MSE\n",
    "\n",
    "from kudzu.layer import Sigmoid,Relu\n",
    "from kudzu.layer import Affine"
   ]
  },
  {
   "cell_type": "markdown",
   "id": "bc01172a",
   "metadata": {
    "papermill": {
     "duration": 0.037432,
     "end_time": "2021-09-25T00:21:08.844269",
     "exception": false,
     "start_time": "2021-09-25T00:21:08.806837",
     "status": "completed"
    },
    "tags": []
   },
   "source": [
    "### Let us create a `Config` class, to store important parameters. \n",
    "This class essentially plays the role of a dictionary."
   ]
  },
  {
   "cell_type": "code",
   "execution_count": 16,
   "id": "978281aa",
   "metadata": {
    "execution": {
     "iopub.execute_input": "2021-09-25T00:21:08.922313Z",
     "iopub.status.busy": "2021-09-25T00:21:08.921652Z",
     "iopub.status.idle": "2021-09-25T00:21:08.935396Z",
     "shell.execute_reply": "2021-09-25T00:21:08.934897Z"
    },
    "papermill": {
     "duration": 0.053916,
     "end_time": "2021-09-25T00:21:08.935523",
     "exception": false,
     "start_time": "2021-09-25T00:21:08.881607",
     "status": "completed"
    },
    "tags": []
   },
   "outputs": [],
   "source": [
    "class Config:\n",
    "    pass\n",
    "config = Config()\n",
    "config.lr = 0.001\n",
    "config.num_epochs = 250\n",
    "config.bs = 50"
   ]
  },
  {
   "cell_type": "markdown",
   "id": "1385fa59",
   "metadata": {
    "papermill": {
     "duration": 0.036013,
     "end_time": "2021-09-25T00:21:09.007870",
     "exception": false,
     "start_time": "2021-09-25T00:21:08.971857",
     "status": "completed"
    },
    "tags": []
   },
   "source": [
    "### Running Models with the Training data\n",
    "Details about the network layers:\n",
    "- A first affine layer has 784 inputs and does 100 affine transforms. These are followed by a Relu\n",
    "- A second affine layer has 100 inputs from the 100 activations of the past layer, and does 100 affine transforms. These are followed by a Relu\n",
    "- A third affine layer has 100 activations and does 2 affine transformations to create an embedding for visualization. There is no non-linearity here.\n",
    "- A final \"logistic regression\" which has an affine transform from 2 inputs to 1 output, which is squeezed through a sigmoid.\n"
   ]
  },
  {
   "cell_type": "code",
   "execution_count": 17,
   "id": "2b9c66db",
   "metadata": {
    "execution": {
     "iopub.execute_input": "2021-09-25T00:21:09.085551Z",
     "iopub.status.busy": "2021-09-25T00:21:09.084820Z",
     "iopub.status.idle": "2021-09-25T00:21:09.100035Z",
     "shell.execute_reply": "2021-09-25T00:21:09.100734Z"
    },
    "papermill": {
     "duration": 0.057095,
     "end_time": "2021-09-25T00:21:09.100919",
     "exception": false,
     "start_time": "2021-09-25T00:21:09.043824",
     "status": "completed"
    },
    "tags": []
   },
   "outputs": [],
   "source": [
    "data = Data(X_train, y_train.reshape(-1,1))\n",
    "sampler = Sampler(data, config.bs, shuffle=True)\n",
    "\n",
    "dl = Dataloader(data, sampler)\n",
    "\n",
    "opt = GD(config.lr)\n",
    "loss = MSE()"
   ]
  },
  {
   "cell_type": "code",
   "execution_count": 18,
   "id": "b275e4c2",
   "metadata": {
    "execution": {
     "iopub.execute_input": "2021-09-25T00:21:09.176571Z",
     "iopub.status.busy": "2021-09-25T00:21:09.175841Z",
     "iopub.status.idle": "2021-09-25T00:21:09.190516Z",
     "shell.execute_reply": "2021-09-25T00:21:09.189934Z"
    },
    "papermill": {
     "duration": 0.053529,
     "end_time": "2021-09-25T00:21:09.190647",
     "exception": false,
     "start_time": "2021-09-25T00:21:09.137118",
     "status": "completed"
    },
    "tags": []
   },
   "outputs": [],
   "source": [
    "training_data_x = X_train\n",
    "testing_data_x = X_test\n",
    "training_data_y = y_train.reshape(-1,1)\n",
    "testing_data_y = y_test.reshape(-1,1)"
   ]
  },
  {
   "cell_type": "code",
   "execution_count": 19,
   "id": "76951160",
   "metadata": {
    "execution": {
     "iopub.execute_input": "2021-09-25T00:21:09.267087Z",
     "iopub.status.busy": "2021-09-25T00:21:09.265291Z",
     "iopub.status.idle": "2021-09-25T00:21:09.285660Z",
     "shell.execute_reply": "2021-09-25T00:21:09.285046Z"
    },
    "papermill": {
     "duration": 0.059349,
     "end_time": "2021-09-25T00:21:09.285795",
     "exception": false,
     "start_time": "2021-09-25T00:21:09.226446",
     "status": "completed"
    },
    "tags": []
   },
   "outputs": [
    {
     "name": "stdout",
     "output_type": "stream",
     "text": [
      "xavier\n",
      "xavier\n",
      "xavier\n",
      "xavier\n",
      "xavier\n"
     ]
    }
   ],
   "source": [
    "layers = [Affine(\"first\", 784, 100), Relu(\"first\"), Affine(\"second\", 100, 100), Relu(\"second\"), Affine(\"third\", 100, 2), Affine(\"last\", 2, 1), Sigmoid(\"last\")]\n",
    "model_nn = Model(layers)\n",
    "model_lr = Model([Affine(\"logits\", 784, 1), Sigmoid(\"sigmoid\")])"
   ]
  },
  {
   "cell_type": "code",
   "execution_count": 20,
   "id": "6eede77a",
   "metadata": {
    "execution": {
     "iopub.execute_input": "2021-09-25T00:21:09.361451Z",
     "iopub.status.busy": "2021-09-25T00:21:09.360789Z",
     "iopub.status.idle": "2021-09-25T00:21:09.376851Z",
     "shell.execute_reply": "2021-09-25T00:21:09.377490Z"
    },
    "papermill": {
     "duration": 0.055889,
     "end_time": "2021-09-25T00:21:09.377652",
     "exception": false,
     "start_time": "2021-09-25T00:21:09.321763",
     "status": "completed"
    },
    "tags": []
   },
   "outputs": [],
   "source": [
    "nn_learner = Learner(loss, model_nn, opt, config.num_epochs)\n",
    "acc_nn = ClfCallback(nn_learner, config.bs, training_data_x , testing_data_x, training_data_y, testing_data_y)\n",
    "nn_learner.set_callbacks([acc_nn])"
   ]
  },
  {
   "cell_type": "code",
   "execution_count": 21,
   "id": "877b6cc7",
   "metadata": {
    "execution": {
     "iopub.execute_input": "2021-09-25T00:21:09.456046Z",
     "iopub.status.busy": "2021-09-25T00:21:09.455351Z",
     "iopub.status.idle": "2021-09-25T00:21:09.469256Z",
     "shell.execute_reply": "2021-09-25T00:21:09.469881Z"
    },
    "papermill": {
     "duration": 0.055403,
     "end_time": "2021-09-25T00:21:09.470023",
     "exception": false,
     "start_time": "2021-09-25T00:21:09.414620",
     "status": "completed"
    },
    "tags": []
   },
   "outputs": [],
   "source": [
    "lr_learner = Learner(loss, model_lr, opt, config.num_epochs)\n",
    "acc_lr = ClfCallback(lr_learner, config.bs, training_data_x , testing_data_x, training_data_y, testing_data_y)\n",
    "lr_learner.set_callbacks([acc_lr])"
   ]
  },
  {
   "cell_type": "code",
   "execution_count": 22,
   "id": "d9b133c3",
   "metadata": {
    "execution": {
     "iopub.execute_input": "2021-09-25T00:21:09.546572Z",
     "iopub.status.busy": "2021-09-25T00:21:09.545938Z",
     "iopub.status.idle": "2021-09-25T00:23:32.937262Z",
     "shell.execute_reply": "2021-09-25T00:23:32.938144Z"
    },
    "papermill": {
     "duration": 143.431992,
     "end_time": "2021-09-25T00:23:32.938323",
     "exception": false,
     "start_time": "2021-09-25T00:21:09.506331",
     "status": "completed"
    },
    "tags": []
   },
   "outputs": [
    {
     "name": "stdout",
     "output_type": "stream",
     "text": [
      "Epoch 0, Loss 0.2337\n",
      "Training Accuracy: 0.7733, Testing Accuracy: 0.7918\n",
      "\n"
     ]
    },
    {
     "name": "stdout",
     "output_type": "stream",
     "text": [
      "Epoch 10, Loss 0.0861\n",
      "Training Accuracy: 0.9236, Testing Accuracy: 0.9345\n",
      "\n"
     ]
    },
    {
     "name": "stdout",
     "output_type": "stream",
     "text": [
      "Epoch 20, Loss 0.0538\n",
      "Training Accuracy: 0.9453, Testing Accuracy: 0.9551\n",
      "\n"
     ]
    },
    {
     "name": "stdout",
     "output_type": "stream",
     "text": [
      "Epoch 30, Loss 0.0426\n",
      "Training Accuracy: 0.9531, Testing Accuracy: 0.9597\n",
      "\n"
     ]
    },
    {
     "name": "stdout",
     "output_type": "stream",
     "text": [
      "Epoch 40, Loss 0.0371\n",
      "Training Accuracy: 0.9584, Testing Accuracy: 0.9672\n",
      "\n"
     ]
    },
    {
     "name": "stdout",
     "output_type": "stream",
     "text": [
      "Epoch 50, Loss 0.0337\n",
      "Training Accuracy: 0.9621, Testing Accuracy: 0.9672\n",
      "\n"
     ]
    },
    {
     "name": "stdout",
     "output_type": "stream",
     "text": [
      "Epoch 60, Loss 0.0314\n",
      "Training Accuracy: 0.9645, Testing Accuracy: 0.9672\n",
      "\n"
     ]
    },
    {
     "name": "stdout",
     "output_type": "stream",
     "text": [
      "Epoch 70, Loss 0.0296\n",
      "Training Accuracy: 0.9662, Testing Accuracy: 0.9698\n",
      "\n"
     ]
    },
    {
     "name": "stdout",
     "output_type": "stream",
     "text": [
      "Epoch 80, Loss 0.0282\n",
      "Training Accuracy: 0.9674, Testing Accuracy: 0.9698\n",
      "\n"
     ]
    },
    {
     "name": "stdout",
     "output_type": "stream",
     "text": [
      "Epoch 90, Loss 0.0271\n",
      "Training Accuracy: 0.9685, Testing Accuracy: 0.9703\n",
      "\n"
     ]
    },
    {
     "name": "stdout",
     "output_type": "stream",
     "text": [
      "Epoch 100, Loss 0.0261\n",
      "Training Accuracy: 0.9699, Testing Accuracy: 0.9713\n",
      "\n"
     ]
    },
    {
     "name": "stdout",
     "output_type": "stream",
     "text": [
      "Epoch 110, Loss 0.0252\n",
      "Training Accuracy: 0.9712, Testing Accuracy: 0.9713\n",
      "\n"
     ]
    },
    {
     "name": "stdout",
     "output_type": "stream",
     "text": [
      "Epoch 120, Loss 0.0244\n",
      "Training Accuracy: 0.9720, Testing Accuracy: 0.9713\n",
      "\n"
     ]
    },
    {
     "name": "stdout",
     "output_type": "stream",
     "text": [
      "Epoch 130, Loss 0.0237\n",
      "Training Accuracy: 0.9724, Testing Accuracy: 0.9723\n",
      "\n"
     ]
    },
    {
     "name": "stdout",
     "output_type": "stream",
     "text": [
      "Epoch 140, Loss 0.023\n",
      "Training Accuracy: 0.9737, Testing Accuracy: 0.9718\n",
      "\n"
     ]
    },
    {
     "name": "stdout",
     "output_type": "stream",
     "text": [
      "Epoch 150, Loss 0.0224\n",
      "Training Accuracy: 0.9749, Testing Accuracy: 0.9723\n",
      "\n"
     ]
    },
    {
     "name": "stdout",
     "output_type": "stream",
     "text": [
      "Epoch 160, Loss 0.0218\n",
      "Training Accuracy: 0.9752, Testing Accuracy: 0.9723\n",
      "\n"
     ]
    },
    {
     "name": "stdout",
     "output_type": "stream",
     "text": [
      "Epoch 170, Loss 0.0213\n",
      "Training Accuracy: 0.9764, Testing Accuracy: 0.9718\n",
      "\n"
     ]
    },
    {
     "name": "stdout",
     "output_type": "stream",
     "text": [
      "Epoch 180, Loss 0.0208\n",
      "Training Accuracy: 0.9769, Testing Accuracy: 0.9723\n",
      "\n"
     ]
    },
    {
     "name": "stdout",
     "output_type": "stream",
     "text": [
      "Epoch 190, Loss 0.0203\n",
      "Training Accuracy: 0.9771, Testing Accuracy: 0.9728\n",
      "\n"
     ]
    },
    {
     "name": "stdout",
     "output_type": "stream",
     "text": [
      "Epoch 200, Loss 0.0199\n",
      "Training Accuracy: 0.9775, Testing Accuracy: 0.9723\n",
      "\n"
     ]
    },
    {
     "name": "stdout",
     "output_type": "stream",
     "text": [
      "Epoch 210, Loss 0.0194\n",
      "Training Accuracy: 0.9783, Testing Accuracy: 0.9723\n",
      "\n"
     ]
    },
    {
     "name": "stdout",
     "output_type": "stream",
     "text": [
      "Epoch 220, Loss 0.019\n",
      "Training Accuracy: 0.9786, Testing Accuracy: 0.9733\n",
      "\n"
     ]
    },
    {
     "name": "stdout",
     "output_type": "stream",
     "text": [
      "Epoch 230, Loss 0.0186\n",
      "Training Accuracy: 0.9791, Testing Accuracy: 0.9733\n",
      "\n"
     ]
    },
    {
     "name": "stdout",
     "output_type": "stream",
     "text": [
      "Epoch 240, Loss 0.0182\n",
      "Training Accuracy: 0.9796, Testing Accuracy: 0.9743\n",
      "\n"
     ]
    },
    {
     "data": {
      "text/plain": [
       "0.007449031026372894"
      ]
     },
     "execution_count": 22,
     "metadata": {},
     "output_type": "execute_result"
    }
   ],
   "source": [
    "nn_learner.train_loop(dl)"
   ]
  },
  {
   "cell_type": "code",
   "execution_count": 23,
   "id": "e0163366",
   "metadata": {
    "execution": {
     "iopub.execute_input": "2021-09-25T00:23:33.042122Z",
     "iopub.status.busy": "2021-09-25T00:23:33.041469Z",
     "iopub.status.idle": "2021-09-25T00:23:53.092965Z",
     "shell.execute_reply": "2021-09-25T00:23:53.093878Z"
    },
    "papermill": {
     "duration": 20.110744,
     "end_time": "2021-09-25T00:23:53.094042",
     "exception": false,
     "start_time": "2021-09-25T00:23:32.983298",
     "status": "completed"
    },
    "tags": []
   },
   "outputs": [
    {
     "name": "stdout",
     "output_type": "stream",
     "text": [
      "Epoch 0, Loss 0.2521\n",
      "Training Accuracy: 0.6488, Testing Accuracy: 0.6356\n",
      "\n"
     ]
    },
    {
     "name": "stdout",
     "output_type": "stream",
     "text": [
      "Epoch 10, Loss 0.1038\n",
      "Training Accuracy: 0.9100, Testing Accuracy: 0.9229\n",
      "\n"
     ]
    },
    {
     "name": "stdout",
     "output_type": "stream",
     "text": [
      "Epoch 20, Loss 0.0793\n",
      "Training Accuracy: 0.9278, Testing Accuracy: 0.9420\n",
      "\n"
     ]
    },
    {
     "name": "stdout",
     "output_type": "stream",
     "text": [
      "Epoch 30, Loss 0.0681\n",
      "Training Accuracy: 0.9364, Testing Accuracy: 0.9501\n",
      "\n"
     ]
    },
    {
     "name": "stdout",
     "output_type": "stream",
     "text": [
      "Epoch 40, Loss 0.0614\n",
      "Training Accuracy: 0.9413, Testing Accuracy: 0.9551\n",
      "\n"
     ]
    },
    {
     "name": "stdout",
     "output_type": "stream",
     "text": [
      "Epoch 50, Loss 0.0569\n",
      "Training Accuracy: 0.9439, Testing Accuracy: 0.9577\n",
      "\n"
     ]
    },
    {
     "name": "stdout",
     "output_type": "stream",
     "text": [
      "Epoch 60, Loss 0.0536\n",
      "Training Accuracy: 0.9477, Testing Accuracy: 0.9582\n",
      "\n"
     ]
    },
    {
     "name": "stdout",
     "output_type": "stream",
     "text": [
      "Epoch 70, Loss 0.051\n",
      "Training Accuracy: 0.9493, Testing Accuracy: 0.9582\n",
      "\n"
     ]
    },
    {
     "name": "stdout",
     "output_type": "stream",
     "text": [
      "Epoch 80, Loss 0.049\n",
      "Training Accuracy: 0.9507, Testing Accuracy: 0.9607\n",
      "\n"
     ]
    },
    {
     "name": "stdout",
     "output_type": "stream",
     "text": [
      "Epoch 90, Loss 0.0473\n",
      "Training Accuracy: 0.9524, Testing Accuracy: 0.9622\n",
      "\n"
     ]
    },
    {
     "name": "stdout",
     "output_type": "stream",
     "text": [
      "Epoch 100, Loss 0.0459\n",
      "Training Accuracy: 0.9537, Testing Accuracy: 0.9632\n",
      "\n"
     ]
    },
    {
     "name": "stdout",
     "output_type": "stream",
     "text": [
      "Epoch 110, Loss 0.0447\n",
      "Training Accuracy: 0.9546, Testing Accuracy: 0.9642\n",
      "\n"
     ]
    },
    {
     "name": "stdout",
     "output_type": "stream",
     "text": [
      "Epoch 120, Loss 0.0437\n",
      "Training Accuracy: 0.9555, Testing Accuracy: 0.9657\n",
      "\n"
     ]
    },
    {
     "name": "stdout",
     "output_type": "stream",
     "text": [
      "Epoch 130, Loss 0.0427\n",
      "Training Accuracy: 0.9560, Testing Accuracy: 0.9652\n",
      "\n"
     ]
    },
    {
     "name": "stdout",
     "output_type": "stream",
     "text": [
      "Epoch 140, Loss 0.0419\n",
      "Training Accuracy: 0.9569, Testing Accuracy: 0.9657\n",
      "\n"
     ]
    },
    {
     "name": "stdout",
     "output_type": "stream",
     "text": [
      "Epoch 150, Loss 0.0412\n",
      "Training Accuracy: 0.9574, Testing Accuracy: 0.9657\n",
      "\n"
     ]
    },
    {
     "name": "stdout",
     "output_type": "stream",
     "text": [
      "Epoch 160, Loss 0.0405\n",
      "Training Accuracy: 0.9581, Testing Accuracy: 0.9662\n",
      "\n"
     ]
    },
    {
     "name": "stdout",
     "output_type": "stream",
     "text": [
      "Epoch 170, Loss 0.0399\n",
      "Training Accuracy: 0.9584, Testing Accuracy: 0.9662\n",
      "\n"
     ]
    },
    {
     "name": "stdout",
     "output_type": "stream",
     "text": [
      "Epoch 180, Loss 0.0394\n",
      "Training Accuracy: 0.9590, Testing Accuracy: 0.9657\n",
      "\n"
     ]
    },
    {
     "name": "stdout",
     "output_type": "stream",
     "text": [
      "Epoch 190, Loss 0.0389\n",
      "Training Accuracy: 0.9596, Testing Accuracy: 0.9657\n",
      "\n"
     ]
    },
    {
     "name": "stdout",
     "output_type": "stream",
     "text": [
      "Epoch 200, Loss 0.0384\n",
      "Training Accuracy: 0.9603, Testing Accuracy: 0.9667\n",
      "\n"
     ]
    },
    {
     "name": "stdout",
     "output_type": "stream",
     "text": [
      "Epoch 210, Loss 0.038\n",
      "Training Accuracy: 0.9609, Testing Accuracy: 0.9672\n",
      "\n"
     ]
    },
    {
     "name": "stdout",
     "output_type": "stream",
     "text": [
      "Epoch 220, Loss 0.0376\n",
      "Training Accuracy: 0.9613, Testing Accuracy: 0.9672\n",
      "\n"
     ]
    },
    {
     "name": "stdout",
     "output_type": "stream",
     "text": [
      "Epoch 230, Loss 0.0372\n",
      "Training Accuracy: 0.9614, Testing Accuracy: 0.9672\n",
      "\n"
     ]
    },
    {
     "name": "stdout",
     "output_type": "stream",
     "text": [
      "Epoch 240, Loss 0.0368\n",
      "Training Accuracy: 0.9617, Testing Accuracy: 0.9672\n",
      "\n"
     ]
    },
    {
     "data": {
      "text/plain": [
       "0.027003993920939343"
      ]
     },
     "execution_count": 23,
     "metadata": {},
     "output_type": "execute_result"
    }
   ],
   "source": [
    "lr_learner.train_loop(dl)"
   ]
  },
  {
   "cell_type": "code",
   "execution_count": 24,
   "id": "ca410940",
   "metadata": {
    "execution": {
     "iopub.execute_input": "2021-09-25T00:23:53.218600Z",
     "iopub.status.busy": "2021-09-25T00:23:53.217881Z",
     "iopub.status.idle": "2021-09-25T00:23:53.541397Z",
     "shell.execute_reply": "2021-09-25T00:23:53.540882Z"
    },
    "papermill": {
     "duration": 0.392745,
     "end_time": "2021-09-25T00:23:53.541539",
     "exception": false,
     "start_time": "2021-09-25T00:23:53.148794",
     "status": "completed"
    },
    "tags": []
   },
   "outputs": [
    {
     "data": {
      "text/plain": [
       "<matplotlib.legend.Legend at 0x7fda8d6279b0>"
      ]
     },
     "execution_count": 24,
     "metadata": {},
     "output_type": "execute_result"
    },
    {
     "data": {
      "image/png": "[encoded data removed]",
      "text/plain": [
       "<Figure size 1080x720 with 1 Axes>"
      ]
     },
     "metadata": {
      "needs_background": "light"
     },
     "output_type": "display_data"
    }
   ],
   "source": [
    "#comparing the results of NN and LR\n",
    "plt.figure(figsize=(15,10))\n",
    "\n",
    "# Neural Network plots\n",
    "plt.plot(acc_nn.accuracies, 'r-', label = \"Training Accuracies - NN\")\n",
    "plt.plot(acc_nn.test_accuracies, 'g-', label = \"Testing Accuracies - NN\")\n",
    "\n",
    "# Logistic Regression plots\n",
    "plt.plot(acc_lr.accuracies, 'k-', label = \"Training Accuracies - LR\")\n",
    "plt.plot(acc_lr.test_accuracies, 'b-', label = \"Testing Accuracies - LR\")\n",
    "plt.legend()"
   ]
  },
  {
   "cell_type": "markdown",
   "id": "80dfb35c",
   "metadata": {
    "papermill": {
     "duration": 0.052968,
     "end_time": "2021-09-25T00:23:53.649129",
     "exception": false,
     "start_time": "2021-09-25T00:23:53.596161",
     "status": "completed"
    },
    "tags": []
   },
   "source": [
    "#### Plotting the outputs of this layer of the NN.\n"
   ]
  },
  {
   "cell_type": "code",
   "execution_count": 25,
   "id": "45eb2ff5",
   "metadata": {
    "execution": {
     "iopub.execute_input": "2021-09-25T00:23:53.761551Z",
     "iopub.status.busy": "2021-09-25T00:23:53.760859Z",
     "iopub.status.idle": "2021-09-25T00:23:53.788527Z",
     "shell.execute_reply": "2021-09-25T00:23:53.789130Z"
    },
    "papermill": {
     "duration": 0.087207,
     "end_time": "2021-09-25T00:23:53.789306",
     "exception": false,
     "start_time": "2021-09-25T00:23:53.702099",
     "status": "completed"
    },
    "tags": []
   },
   "outputs": [],
   "source": [
    "new_model = Model(layers[:-2])\n",
    "testing_plot = new_model(testing_data_x)"
   ]
  },
  {
   "cell_type": "code",
   "execution_count": 26,
   "id": "4c0a5485",
   "metadata": {
    "execution": {
     "iopub.execute_input": "2021-09-25T00:23:53.913790Z",
     "iopub.status.busy": "2021-09-25T00:23:53.912665Z",
     "iopub.status.idle": "2021-09-25T00:23:54.165897Z",
     "shell.execute_reply": "2021-09-25T00:23:54.165336Z"
    },
    "papermill": {
     "duration": 0.317041,
     "end_time": "2021-09-25T00:23:54.166154",
     "exception": false,
     "start_time": "2021-09-25T00:23:53.849113",
     "status": "completed"
    },
    "tags": []
   },
   "outputs": [
    {
     "data": {
      "text/plain": [
       "Text(0.5, 1.0, 'Outputs')"
      ]
     },
     "execution_count": 26,
     "metadata": {},
     "output_type": "execute_result"
    },
    {
     "data": {
      "image/png": "[encoded data removed]",
      "text/plain": [
       "<Figure size 576x504 with 1 Axes>"
      ]
     },
     "metadata": {
      "needs_background": "light"
     },
     "output_type": "display_data"
    }
   ],
   "source": [
    "# Plotting the scatter plot of points and color coding by class\n",
    "plt.figure(figsize=(8,7))\n",
    "plt.scatter(testing_plot[:,0], testing_plot[:,1], alpha = 0.1, c = y_test.ravel());\n",
    "plt.title('Outputs')"
   ]
  },
  {
   "cell_type": "markdown",
   "id": "a74fcf8f",
   "metadata": {
    "papermill": {
     "duration": 0.077392,
     "end_time": "2021-09-25T00:23:54.303491",
     "exception": false,
     "start_time": "2021-09-25T00:23:54.226099",
     "status": "completed"
    },
    "tags": []
   },
   "source": [
    "Probability contours"
   ]
  },
  {
   "cell_type": "code",
   "execution_count": 27,
   "id": "d0afc8e3",
   "metadata": {
    "execution": {
     "iopub.execute_input": "2021-09-25T00:23:54.460632Z",
     "iopub.status.busy": "2021-09-25T00:23:54.458090Z",
     "iopub.status.idle": "2021-09-25T00:23:54.469600Z",
     "shell.execute_reply": "2021-09-25T00:23:54.470276Z"
    },
    "papermill": {
     "duration": 0.103878,
     "end_time": "2021-09-25T00:23:54.470427",
     "exception": false,
     "start_time": "2021-09-25T00:23:54.366549",
     "status": "completed"
    },
    "tags": []
   },
   "outputs": [],
   "source": [
    "model_prob = Model(layers[-2:]) "
   ]
  },
  {
   "cell_type": "code",
   "execution_count": 28,
   "id": "9b96e238",
   "metadata": {
    "execution": {
     "iopub.execute_input": "2021-09-25T00:23:54.603655Z",
     "iopub.status.busy": "2021-09-25T00:23:54.602060Z",
     "iopub.status.idle": "2021-09-25T00:23:54.618402Z",
     "shell.execute_reply": "2021-09-25T00:23:54.619061Z"
    },
    "papermill": {
     "duration": 0.089639,
     "end_time": "2021-09-25T00:23:54.619222",
     "exception": false,
     "start_time": "2021-09-25T00:23:54.529583",
     "status": "completed"
    },
    "tags": []
   },
   "outputs": [],
   "source": [
    "#creating the x and y ranges according to the above generated plot.\n",
    "x_range = np.linspace(-4, 1, 100) \n",
    "y_range = np.linspace(-6, 6, 100) \n",
    "x_grid, y_grid = np.meshgrid(x_range, y_range) # x_grid and y_grig are of size 100 X 100\n",
    "\n",
    "# converting x_grid and y_grid to continuous arrays\n",
    "x_gridflat = np.ravel(x_grid)\n",
    "y_gridflat = np.ravel(y_grid)\n",
    "\n",
    "# The last layer of the current model takes two columns as input. Hence transpose of np.vstack() is required.\n",
    "X = np.vstack((x_gridflat, y_gridflat)).T\n",
    "\n",
    "prob_contour = model_prob(X).reshape(100,100) "
   ]
  },
  {
   "cell_type": "code",
   "execution_count": 29,
   "id": "da72499a",
   "metadata": {
    "execution": {
     "iopub.execute_input": "2021-09-25T00:23:54.749561Z",
     "iopub.status.busy": "2021-09-25T00:23:54.748866Z",
     "iopub.status.idle": "2021-09-25T00:23:55.095115Z",
     "shell.execute_reply": "2021-09-25T00:23:55.094563Z"
    },
    "papermill": {
     "duration": 0.411245,
     "end_time": "2021-09-25T00:23:55.095258",
     "exception": false,
     "start_time": "2021-09-25T00:23:54.684013",
     "status": "completed"
    },
    "tags": []
   },
   "outputs": [
    {
     "data": {
      "image/png": "[encoded data removed]",
      "text/plain": [
       "<Figure size 720x648 with 1 Axes>"
      ]
     },
     "metadata": {
      "needs_background": "light"
     },
     "output_type": "display_data"
    }
   ],
   "source": [
    "plt.figure(figsize=(10,9))\n",
    "plt.scatter(testing_plot[:,0], testing_plot[:,1], alpha = 0.1, c = y_test.ravel())\n",
    "contours = plt.contour(x_grid,y_grid,prob_contour)\n",
    "plt.title('Probability Contours')\n",
    "plt.clabel(contours, inline = True );"
   ]
  },
  {
   "cell_type": "code",
   "execution_count": null,
   "id": "e81b4ac7",
   "metadata": {
    "papermill": {
     "duration": 0.058395,
     "end_time": "2021-09-25T00:23:55.213472",
     "exception": false,
     "start_time": "2021-09-25T00:23:55.155077",
     "status": "completed"
    },
    "tags": []
   },
   "outputs": [],
   "source": []
  }
 ],
 "metadata": {
  "kernelspec": {
   "display_name": "Python 3",
   "language": "python",
   "name": "python3"
  },
  "language_info": {
   "codemirror_mode": {
    "name": "ipython",
    "version": 3
   },
   "file_extension": ".py",
   "mimetype": "text/x-python",
   "name": "python",
   "nbconvert_exporter": "python",
   "pygments_lexer": "ipython3",
   "version": "3.6.15"
  },
  "papermill": {
   "default_parameters": {},
   "duration": 174.34214,
   "end_time": "2021-09-25T00:23:55.683059",
   "environment_variables": {},
   "exception": null,
   "input_path": "2020-08-11-part2.ipynb",
   "output_path": "2020-08-11-part2.ipynb",
   "parameters": {},
   "start_time": "2021-09-25T00:21:01.340919",
   "version": "2.3.3"
  }
 },
 "nbformat": 4,
 "nbformat_minor": 5
}