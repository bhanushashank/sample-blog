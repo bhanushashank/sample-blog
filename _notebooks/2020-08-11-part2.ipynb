{
 "cells": [
  {
   "cell_type": "markdown",
   "id": "98380cd3",
   "metadata": {
    "papermill": {
     "duration": 0.029088,
     "end_time": "2022-07-01T10:10:19.565252",
     "exception": false,
     "start_time": "2022-07-01T10:10:19.536164",
     "status": "completed"
    },
    "tags": []
   },
   "source": [
    "# Distinguish Your Own Digits (DYOD)"
   ]
  },
  {
   "cell_type": "markdown",
   "id": "ef31240d",
   "metadata": {
    "papermill": {
     "duration": 0.024222,
     "end_time": "2022-07-01T10:10:19.614256",
     "exception": false,
     "start_time": "2022-07-01T10:10:19.590034",
     "status": "completed"
    },
    "tags": []
   },
   "source": [
    "You are going to write a classifier that distinguishes between the number 3 and number 8."
   ]
  },
  {
   "cell_type": "code",
   "execution_count": 1,
   "id": "b15c8646",
   "metadata": {
    "execution": {
     "iopub.execute_input": "2022-07-01T10:10:19.672226Z",
     "iopub.status.busy": "2022-07-01T10:10:19.669983Z",
     "iopub.status.idle": "2022-07-01T10:10:19.682711Z",
     "shell.execute_reply": "2022-07-01T10:10:19.682225Z"
    },
    "papermill": {
     "duration": 0.044564,
     "end_time": "2022-07-01T10:10:19.682829",
     "exception": false,
     "start_time": "2022-07-01T10:10:19.638265",
     "status": "completed"
    },
    "tags": []
   },
   "outputs": [],
   "source": [
    "%load_ext autoreload\n",
    "%autoreload 2"
   ]
  },
  {
   "cell_type": "code",
   "execution_count": 2,
   "id": "22ef38dc",
   "metadata": {
    "execution": {
     "iopub.execute_input": "2022-07-01T10:10:19.737583Z",
     "iopub.status.busy": "2022-07-01T10:10:19.736150Z",
     "iopub.status.idle": "2022-07-01T10:10:20.256041Z",
     "shell.execute_reply": "2022-07-01T10:10:20.255566Z"
    },
    "papermill": {
     "duration": 0.549008,
     "end_time": "2022-07-01T10:10:20.256155",
     "exception": false,
     "start_time": "2022-07-01T10:10:19.707147",
     "status": "completed"
    },
    "tags": []
   },
   "outputs": [],
   "source": [
    "%matplotlib inline\n",
    "import numpy as np\n",
    "import matplotlib.pyplot as plt\n",
    "import pandas as pd"
   ]
  },
  {
   "cell_type": "markdown",
   "id": "ba036198",
   "metadata": {
    "papermill": {
     "duration": 0.024322,
     "end_time": "2022-07-01T10:10:20.304757",
     "exception": false,
     "start_time": "2022-07-01T10:10:20.280435",
     "status": "completed"
    },
    "tags": []
   },
   "source": [
    "From the command line run `pip install mnist`. This is a library that will help you bring down the mnist dataset. If you run this from a notebook, you need to put  `!pip install mnist` in a cell by itself."
   ]
  },
  {
   "cell_type": "code",
   "execution_count": 3,
   "id": "bb6ad8a1",
   "metadata": {
    "execution": {
     "iopub.execute_input": "2022-07-01T10:10:20.357288Z",
     "iopub.status.busy": "2022-07-01T10:10:20.356701Z",
     "iopub.status.idle": "2022-07-01T10:10:22.088453Z",
     "shell.execute_reply": "2022-07-01T10:10:22.087921Z"
    },
    "papermill": {
     "duration": 1.7595,
     "end_time": "2022-07-01T10:10:22.088566",
     "exception": false,
     "start_time": "2022-07-01T10:10:20.329066",
     "status": "completed"
    },
    "tags": []
   },
   "outputs": [
    {
     "name": "stdout",
     "output_type": "stream",
     "text": [
      "Collecting mnist\r\n"
     ]
    },
    {
     "name": "stdout",
     "output_type": "stream",
     "text": [
      "  Downloading mnist-0.2.2-py2.py3-none-any.whl (3.5 kB)\r\n",
      "Requirement already satisfied: numpy in /opt/hostedtoolcache/Python/3.6.15/x64/lib/python3.6/site-packages (from mnist) (1.19.5)\r\n"
     ]
    },
    {
     "name": "stdout",
     "output_type": "stream",
     "text": [
      "Installing collected packages: mnist\r\n",
      "Successfully installed mnist-0.2.2\r\n"
     ]
    }
   ],
   "source": [
    "!pip install mnist"
   ]
  },
  {
   "cell_type": "markdown",
   "id": "69df9c9a",
   "metadata": {
    "papermill": {
     "duration": 0.025214,
     "end_time": "2022-07-01T10:10:22.139060",
     "exception": false,
     "start_time": "2022-07-01T10:10:22.113846",
     "status": "completed"
    },
    "tags": []
   },
   "source": [
    "## Preparing the Data"
   ]
  },
  {
   "cell_type": "code",
   "execution_count": 4,
   "id": "7f69d806",
   "metadata": {
    "execution": {
     "iopub.execute_input": "2022-07-01T10:10:22.202150Z",
     "iopub.status.busy": "2022-07-01T10:10:22.198911Z",
     "iopub.status.idle": "2022-07-01T10:10:22.215106Z",
     "shell.execute_reply": "2022-07-01T10:10:22.214536Z"
    },
    "papermill": {
     "duration": 0.050329,
     "end_time": "2022-07-01T10:10:22.215218",
     "exception": false,
     "start_time": "2022-07-01T10:10:22.164889",
     "status": "completed"
    },
    "tags": []
   },
   "outputs": [],
   "source": [
    "import mnist"
   ]
  },
  {
   "cell_type": "code",
   "execution_count": 5,
   "id": "a411e44f",
   "metadata": {
    "execution": {
     "iopub.execute_input": "2022-07-01T10:10:22.273689Z",
     "iopub.status.busy": "2022-07-01T10:10:22.273139Z",
     "iopub.status.idle": "2022-07-01T10:10:22.863282Z",
     "shell.execute_reply": "2022-07-01T10:10:22.862778Z"
    },
    "papermill": {
     "duration": 0.619832,
     "end_time": "2022-07-01T10:10:22.863391",
     "exception": false,
     "start_time": "2022-07-01T10:10:22.243559",
     "status": "completed"
    },
    "tags": []
   },
   "outputs": [],
   "source": [
    "train_images = mnist.train_images()\n",
    "train_labels = mnist.train_labels()"
   ]
  },
  {
   "cell_type": "code",
   "execution_count": 6,
   "id": "dceab3a5",
   "metadata": {
    "execution": {
     "iopub.execute_input": "2022-07-01T10:10:22.918006Z",
     "iopub.status.busy": "2022-07-01T10:10:22.917447Z",
     "iopub.status.idle": "2022-07-01T10:10:22.932074Z",
     "shell.execute_reply": "2022-07-01T10:10:22.931615Z"
    },
    "papermill": {
     "duration": 0.043073,
     "end_time": "2022-07-01T10:10:22.932179",
     "exception": false,
     "start_time": "2022-07-01T10:10:22.889106",
     "status": "completed"
    },
    "tags": []
   },
   "outputs": [
    {
     "data": {
      "text/plain": [
       "((60000, 28, 28), (60000,))"
      ]
     },
     "execution_count": 6,
     "metadata": {},
     "output_type": "execute_result"
    }
   ],
   "source": [
    "train_images.shape, train_labels.shape"
   ]
  },
  {
   "cell_type": "code",
   "execution_count": 7,
   "id": "f50dc2bb",
   "metadata": {
    "execution": {
     "iopub.execute_input": "2022-07-01T10:10:22.986513Z",
     "iopub.status.busy": "2022-07-01T10:10:22.985970Z",
     "iopub.status.idle": "2022-07-01T10:10:23.157766Z",
     "shell.execute_reply": "2022-07-01T10:10:23.157264Z"
    },
    "papermill": {
     "duration": 0.20046,
     "end_time": "2022-07-01T10:10:23.157877",
     "exception": false,
     "start_time": "2022-07-01T10:10:22.957417",
     "status": "completed"
    },
    "tags": []
   },
   "outputs": [],
   "source": [
    "test_images = mnist.test_images()\n",
    "test_labels = mnist.test_labels()"
   ]
  },
  {
   "cell_type": "code",
   "execution_count": 8,
   "id": "fc38cf1b",
   "metadata": {
    "execution": {
     "iopub.execute_input": "2022-07-01T10:10:23.212517Z",
     "iopub.status.busy": "2022-07-01T10:10:23.211933Z",
     "iopub.status.idle": "2022-07-01T10:10:23.225058Z",
     "shell.execute_reply": "2022-07-01T10:10:23.224594Z"
    },
    "papermill": {
     "duration": 0.041876,
     "end_time": "2022-07-01T10:10:23.225164",
     "exception": false,
     "start_time": "2022-07-01T10:10:23.183288",
     "status": "completed"
    },
    "tags": []
   },
   "outputs": [
    {
     "data": {
      "text/plain": [
       "((10000, 28, 28), (10000,))"
      ]
     },
     "execution_count": 8,
     "metadata": {},
     "output_type": "execute_result"
    }
   ],
   "source": [
    "test_images.shape, test_labels.shape"
   ]
  },
  {
   "cell_type": "code",
   "execution_count": 9,
   "id": "f9ed8fe0",
   "metadata": {
    "execution": {
     "iopub.execute_input": "2022-07-01T10:10:23.280243Z",
     "iopub.status.busy": "2022-07-01T10:10:23.279693Z",
     "iopub.status.idle": "2022-07-01T10:10:23.417958Z",
     "shell.execute_reply": "2022-07-01T10:10:23.417473Z"
    },
    "papermill": {
     "duration": 0.167279,
     "end_time": "2022-07-01T10:10:23.418069",
     "exception": false,
     "start_time": "2022-07-01T10:10:23.250790",
     "status": "completed"
    },
    "tags": []
   },
   "outputs": [
    {
     "name": "stdout",
     "output_type": "stream",
     "text": [
      "2\n"
     ]
    },
    {
     "data": {
      "text/plain": [
       "<matplotlib.image.AxesImage at 0x7f151e97c550>"
      ]
     },
     "execution_count": 9,
     "metadata": {},
     "output_type": "execute_result"
    },
    {
     "data": {
      "image/png": "[encoded data removed]",
      "text/plain": [
       "<Figure size 432x288 with 1 Axes>"
      ]
     },
     "metadata": {
      "needs_background": "light"
     },
     "output_type": "display_data"
    }
   ],
   "source": [
    "image_index = 7776 # You may select anything up to 60,000\n",
    "print(train_labels[image_index]) \n",
    "plt.imshow(train_images[image_index], cmap='Greys')"
   ]
  },
  {
   "cell_type": "markdown",
   "id": "a8d2388d",
   "metadata": {
    "papermill": {
     "duration": 0.026635,
     "end_time": "2022-07-01T10:10:23.471579",
     "exception": false,
     "start_time": "2022-07-01T10:10:23.444944",
     "status": "completed"
    },
    "tags": []
   },
   "source": [
    "## Filter data to get 3 and 8 out"
   ]
  },
  {
   "cell_type": "code",
   "execution_count": 10,
   "id": "776f7fc7",
   "metadata": {
    "execution": {
     "iopub.execute_input": "2022-07-01T10:10:23.529277Z",
     "iopub.status.busy": "2022-07-01T10:10:23.528684Z",
     "iopub.status.idle": "2022-07-01T10:10:23.545295Z",
     "shell.execute_reply": "2022-07-01T10:10:23.544825Z"
    },
    "papermill": {
     "duration": 0.047172,
     "end_time": "2022-07-01T10:10:23.545400",
     "exception": false,
     "start_time": "2022-07-01T10:10:23.498228",
     "status": "completed"
    },
    "tags": []
   },
   "outputs": [],
   "source": [
    "train_filter = np.where((train_labels == 3 ) | (train_labels == 8))\n",
    "test_filter = np.where((test_labels == 3) | (test_labels == 8))\n",
    "X_train, y_train = train_images[train_filter], train_labels[train_filter]\n",
    "X_test, y_test = test_images[test_filter], test_labels[test_filter]"
   ]
  },
  {
   "cell_type": "markdown",
   "id": "948f0b7e",
   "metadata": {
    "papermill": {
     "duration": 0.026513,
     "end_time": "2022-07-01T10:10:23.598674",
     "exception": false,
     "start_time": "2022-07-01T10:10:23.572161",
     "status": "completed"
    },
    "tags": []
   },
   "source": [
    "We normalize the pizel values in the 0 to 1 range"
   ]
  },
  {
   "cell_type": "code",
   "execution_count": 11,
   "id": "ee4c2166",
   "metadata": {
    "execution": {
     "iopub.execute_input": "2022-07-01T10:10:23.655695Z",
     "iopub.status.busy": "2022-07-01T10:10:23.655139Z",
     "iopub.status.idle": "2022-07-01T10:10:23.697278Z",
     "shell.execute_reply": "2022-07-01T10:10:23.696820Z"
    },
    "papermill": {
     "duration": 0.072204,
     "end_time": "2022-07-01T10:10:23.697389",
     "exception": false,
     "start_time": "2022-07-01T10:10:23.625185",
     "status": "completed"
    },
    "tags": []
   },
   "outputs": [],
   "source": [
    "X_train = X_train/255.\n",
    "X_test = X_test/255."
   ]
  },
  {
   "cell_type": "markdown",
   "id": "ddcf4fab",
   "metadata": {
    "papermill": {
     "duration": 0.026506,
     "end_time": "2022-07-01T10:10:23.750682",
     "exception": false,
     "start_time": "2022-07-01T10:10:23.724176",
     "status": "completed"
    },
    "tags": []
   },
   "source": [
    "And setup the labels as 1 (when the digit is 3) and 0 (when the digit is 8)"
   ]
  },
  {
   "cell_type": "code",
   "execution_count": 12,
   "id": "7dc908f2",
   "metadata": {
    "execution": {
     "iopub.execute_input": "2022-07-01T10:10:23.807528Z",
     "iopub.status.busy": "2022-07-01T10:10:23.806973Z",
     "iopub.status.idle": "2022-07-01T10:10:23.818838Z",
     "shell.execute_reply": "2022-07-01T10:10:23.818363Z"
    },
    "papermill": {
     "duration": 0.041717,
     "end_time": "2022-07-01T10:10:23.818943",
     "exception": false,
     "start_time": "2022-07-01T10:10:23.777226",
     "status": "completed"
    },
    "tags": []
   },
   "outputs": [],
   "source": [
    "y_train = 1*(y_train==3)\n",
    "y_test = 1*(y_test==3)"
   ]
  },
  {
   "cell_type": "code",
   "execution_count": 13,
   "id": "01e4e969",
   "metadata": {
    "execution": {
     "iopub.execute_input": "2022-07-01T10:10:23.876366Z",
     "iopub.status.busy": "2022-07-01T10:10:23.875777Z",
     "iopub.status.idle": "2022-07-01T10:10:23.888980Z",
     "shell.execute_reply": "2022-07-01T10:10:23.888525Z"
    },
    "papermill": {
     "duration": 0.043426,
     "end_time": "2022-07-01T10:10:23.889109",
     "exception": false,
     "start_time": "2022-07-01T10:10:23.845683",
     "status": "completed"
    },
    "tags": []
   },
   "outputs": [
    {
     "data": {
      "text/plain": [
       "((11982, 28, 28), (1984, 28, 28))"
      ]
     },
     "execution_count": 13,
     "metadata": {},
     "output_type": "execute_result"
    }
   ],
   "source": [
    "X_train.shape, X_test.shape"
   ]
  },
  {
   "cell_type": "markdown",
   "id": "5ccf3f85",
   "metadata": {
    "papermill": {
     "duration": 0.026846,
     "end_time": "2022-07-01T10:10:23.943263",
     "exception": false,
     "start_time": "2022-07-01T10:10:23.916417",
     "status": "completed"
    },
    "tags": []
   },
   "source": [
    "We reshape the data to flatten the image pixels into a set of features or co-variates:"
   ]
  },
  {
   "cell_type": "code",
   "execution_count": 14,
   "id": "5286a4a3",
   "metadata": {
    "execution": {
     "iopub.execute_input": "2022-07-01T10:10:24.001089Z",
     "iopub.status.busy": "2022-07-01T10:10:24.000512Z",
     "iopub.status.idle": "2022-07-01T10:10:24.013667Z",
     "shell.execute_reply": "2022-07-01T10:10:24.014120Z"
    },
    "papermill": {
     "duration": 0.043937,
     "end_time": "2022-07-01T10:10:24.014240",
     "exception": false,
     "start_time": "2022-07-01T10:10:23.970303",
     "status": "completed"
    },
    "tags": []
   },
   "outputs": [
    {
     "data": {
      "text/plain": [
       "((11982, 784), (1984, 784))"
      ]
     },
     "execution_count": 14,
     "metadata": {},
     "output_type": "execute_result"
    }
   ],
   "source": [
    "X_train = X_train.reshape(X_train.shape[0], -1)\n",
    "X_test = X_test.reshape(X_test.shape[0], -1)\n",
    "X_train.shape, X_test.shape"
   ]
  },
  {
   "cell_type": "code",
   "execution_count": 15,
   "id": "73c5f88a",
   "metadata": {
    "execution": {
     "iopub.execute_input": "2022-07-01T10:10:24.072814Z",
     "iopub.status.busy": "2022-07-01T10:10:24.072219Z",
     "iopub.status.idle": "2022-07-01T10:10:24.090641Z",
     "shell.execute_reply": "2022-07-01T10:10:24.090177Z"
    },
    "papermill": {
     "duration": 0.049376,
     "end_time": "2022-07-01T10:10:24.090750",
     "exception": false,
     "start_time": "2022-07-01T10:10:24.041374",
     "status": "completed"
    },
    "tags": []
   },
   "outputs": [],
   "source": [
    "#Impoting functions from 'Kudzu'\n",
    "from kudzu.model import Model\n",
    "from kudzu.train import Learner\n",
    "from kudzu.optim import GD\n",
    "from kudzu.data import Data, Sampler,Dataloader\n",
    "\n",
    "from kudzu.callbacks import AccCallback\n",
    "from kudzu.callbacks import ClfCallback\n",
    "\n",
    "from kudzu.loss import MSE\n",
    "\n",
    "from kudzu.layer import Sigmoid,Relu\n",
    "from kudzu.layer import Affine"
   ]
  },
  {
   "cell_type": "markdown",
   "id": "bc01172a",
   "metadata": {
    "papermill": {
     "duration": 0.027163,
     "end_time": "2022-07-01T10:10:24.145367",
     "exception": false,
     "start_time": "2022-07-01T10:10:24.118204",
     "status": "completed"
    },
    "tags": []
   },
   "source": [
    "### Let us create a `Config` class, to store important parameters. \n",
    "This class essentially plays the role of a dictionary."
   ]
  },
  {
   "cell_type": "code",
   "execution_count": 16,
   "id": "978281aa",
   "metadata": {
    "execution": {
     "iopub.execute_input": "2022-07-01T10:10:24.203384Z",
     "iopub.status.busy": "2022-07-01T10:10:24.202818Z",
     "iopub.status.idle": "2022-07-01T10:10:24.215301Z",
     "shell.execute_reply": "2022-07-01T10:10:24.214843Z"
    },
    "papermill": {
     "duration": 0.042864,
     "end_time": "2022-07-01T10:10:24.215404",
     "exception": false,
     "start_time": "2022-07-01T10:10:24.172540",
     "status": "completed"
    },
    "tags": []
   },
   "outputs": [],
   "source": [
    "class Config:\n",
    "    pass\n",
    "config = Config()\n",
    "config.lr = 0.001\n",
    "config.num_epochs = 250\n",
    "config.bs = 50"
   ]
  },
  {
   "cell_type": "markdown",
   "id": "1385fa59",
   "metadata": {
    "papermill": {
     "duration": 0.027102,
     "end_time": "2022-07-01T10:10:24.269871",
     "exception": false,
     "start_time": "2022-07-01T10:10:24.242769",
     "status": "completed"
    },
    "tags": []
   },
   "source": [
    "### Running Models with the Training data\n",
    "Details about the network layers:\n",
    "- A first affine layer has 784 inputs and does 100 affine transforms. These are followed by a Relu\n",
    "- A second affine layer has 100 inputs from the 100 activations of the past layer, and does 100 affine transforms. These are followed by a Relu\n",
    "- A third affine layer has 100 activations and does 2 affine transformations to create an embedding for visualization. There is no non-linearity here.\n",
    "- A final \"logistic regression\" which has an affine transform from 2 inputs to 1 output, which is squeezed through a sigmoid.\n"
   ]
  },
  {
   "cell_type": "code",
   "execution_count": 17,
   "id": "2b9c66db",
   "metadata": {
    "execution": {
     "iopub.execute_input": "2022-07-01T10:10:24.328151Z",
     "iopub.status.busy": "2022-07-01T10:10:24.327590Z",
     "iopub.status.idle": "2022-07-01T10:10:24.340047Z",
     "shell.execute_reply": "2022-07-01T10:10:24.339591Z"
    },
    "papermill": {
     "duration": 0.043109,
     "end_time": "2022-07-01T10:10:24.340149",
     "exception": false,
     "start_time": "2022-07-01T10:10:24.297040",
     "status": "completed"
    },
    "tags": []
   },
   "outputs": [],
   "source": [
    "data = Data(X_train, y_train.reshape(-1,1))\n",
    "sampler = Sampler(data, config.bs, shuffle=True)\n",
    "\n",
    "dl = Dataloader(data, sampler)\n",
    "\n",
    "opt = GD(config.lr)\n",
    "loss = MSE()"
   ]
  },
  {
   "cell_type": "code",
   "execution_count": 18,
   "id": "b275e4c2",
   "metadata": {
    "execution": {
     "iopub.execute_input": "2022-07-01T10:10:24.398473Z",
     "iopub.status.busy": "2022-07-01T10:10:24.397900Z",
     "iopub.status.idle": "2022-07-01T10:10:24.409628Z",
     "shell.execute_reply": "2022-07-01T10:10:24.409080Z"
    },
    "papermill": {
     "duration": 0.042275,
     "end_time": "2022-07-01T10:10:24.409730",
     "exception": false,
     "start_time": "2022-07-01T10:10:24.367455",
     "status": "completed"
    },
    "tags": []
   },
   "outputs": [],
   "source": [
    "training_data_x = X_train\n",
    "testing_data_x = X_test\n",
    "training_data_y = y_train.reshape(-1,1)\n",
    "testing_data_y = y_test.reshape(-1,1)"
   ]
  },
  {
   "cell_type": "code",
   "execution_count": 19,
   "id": "76951160",
   "metadata": {
    "execution": {
     "iopub.execute_input": "2022-07-01T10:10:24.468223Z",
     "iopub.status.busy": "2022-07-01T10:10:24.467651Z",
     "iopub.status.idle": "2022-07-01T10:10:24.484312Z",
     "shell.execute_reply": "2022-07-01T10:10:24.483832Z"
    },
    "papermill": {
     "duration": 0.047518,
     "end_time": "2022-07-01T10:10:24.484419",
     "exception": false,
     "start_time": "2022-07-01T10:10:24.436901",
     "status": "completed"
    },
    "tags": []
   },
   "outputs": [
    {
     "name": "stdout",
     "output_type": "stream",
     "text": [
      "xavier\n",
      "xavier\n",
      "xavier\n",
      "xavier\n",
      "xavier\n"
     ]
    }
   ],
   "source": [
    "layers = [Affine(\"first\", 784, 100), Relu(\"first\"), Affine(\"second\", 100, 100), Relu(\"second\"), Affine(\"third\", 100, 2), Affine(\"last\", 2, 1), Sigmoid(\"last\")]\n",
    "model_nn = Model(layers)\n",
    "model_lr = Model([Affine(\"logits\", 784, 1), Sigmoid(\"sigmoid\")])"
   ]
  },
  {
   "cell_type": "code",
   "execution_count": 20,
   "id": "6eede77a",
   "metadata": {
    "execution": {
     "iopub.execute_input": "2022-07-01T10:10:24.543271Z",
     "iopub.status.busy": "2022-07-01T10:10:24.542710Z",
     "iopub.status.idle": "2022-07-01T10:10:24.554973Z",
     "shell.execute_reply": "2022-07-01T10:10:24.554432Z"
    },
    "papermill": {
     "duration": 0.043028,
     "end_time": "2022-07-01T10:10:24.555077",
     "exception": false,
     "start_time": "2022-07-01T10:10:24.512049",
     "status": "completed"
    },
    "tags": []
   },
   "outputs": [],
   "source": [
    "nn_learner = Learner(loss, model_nn, opt, config.num_epochs)\n",
    "acc_nn = ClfCallback(nn_learner, config.bs, training_data_x , testing_data_x, training_data_y, testing_data_y)\n",
    "nn_learner.set_callbacks([acc_nn])"
   ]
  },
  {
   "cell_type": "code",
   "execution_count": 21,
   "id": "877b6cc7",
   "metadata": {
    "execution": {
     "iopub.execute_input": "2022-07-01T10:10:24.614073Z",
     "iopub.status.busy": "2022-07-01T10:10:24.613511Z",
     "iopub.status.idle": "2022-07-01T10:10:24.625630Z",
     "shell.execute_reply": "2022-07-01T10:10:24.625178Z"
    },
    "papermill": {
     "duration": 0.043066,
     "end_time": "2022-07-01T10:10:24.625733",
     "exception": false,
     "start_time": "2022-07-01T10:10:24.582667",
     "status": "completed"
    },
    "tags": []
   },
   "outputs": [],
   "source": [
    "lr_learner = Learner(loss, model_lr, opt, config.num_epochs)\n",
    "acc_lr = ClfCallback(lr_learner, config.bs, training_data_x , testing_data_x, training_data_y, testing_data_y)\n",
    "lr_learner.set_callbacks([acc_lr])"
   ]
  },
  {
   "cell_type": "code",
   "execution_count": 22,
   "id": "d9b133c3",
   "metadata": {
    "execution": {
     "iopub.execute_input": "2022-07-01T10:10:24.684344Z",
     "iopub.status.busy": "2022-07-01T10:10:24.683750Z",
     "iopub.status.idle": "2022-07-01T10:13:21.458357Z",
     "shell.execute_reply": "2022-07-01T10:13:21.458809Z"
    },
    "papermill": {
     "duration": 176.805504,
     "end_time": "2022-07-01T10:13:21.458935",
     "exception": false,
     "start_time": "2022-07-01T10:10:24.653431",
     "status": "completed"
    },
    "tags": []
   },
   "outputs": [
    {
     "name": "stdout",
     "output_type": "stream",
     "text": [
      "Epoch 0, Loss 0.2392\n",
      "Training Accuracy: 0.6789, Testing Accuracy: 0.6689\n",
      "\n"
     ]
    },
    {
     "name": "stdout",
     "output_type": "stream",
     "text": [
      "Epoch 10, Loss 0.1458\n",
      "Training Accuracy: 0.8934, Testing Accuracy: 0.9073\n",
      "\n"
     ]
    },
    {
     "name": "stdout",
     "output_type": "stream",
     "text": [
      "Epoch 20, Loss 0.0741\n",
      "Training Accuracy: 0.9278, Testing Accuracy: 0.9425\n",
      "\n"
     ]
    },
    {
     "name": "stdout",
     "output_type": "stream",
     "text": [
      "Epoch 30, Loss 0.0519\n",
      "Training Accuracy: 0.9443, Testing Accuracy: 0.9582\n",
      "\n"
     ]
    },
    {
     "name": "stdout",
     "output_type": "stream",
     "text": [
      "Epoch 40, Loss 0.0426\n",
      "Training Accuracy: 0.9513, Testing Accuracy: 0.9642\n",
      "\n"
     ]
    },
    {
     "name": "stdout",
     "output_type": "stream",
     "text": [
      "Epoch 50, Loss 0.0376\n",
      "Training Accuracy: 0.9563, Testing Accuracy: 0.9677\n",
      "\n"
     ]
    },
    {
     "name": "stdout",
     "output_type": "stream",
     "text": [
      "Epoch 60, Loss 0.0345\n",
      "Training Accuracy: 0.9604, Testing Accuracy: 0.9688\n",
      "\n"
     ]
    },
    {
     "name": "stdout",
     "output_type": "stream",
     "text": [
      "Epoch 70, Loss 0.0323\n",
      "Training Accuracy: 0.9622, Testing Accuracy: 0.9713\n",
      "\n"
     ]
    },
    {
     "name": "stdout",
     "output_type": "stream",
     "text": [
      "Epoch 80, Loss 0.0307\n",
      "Training Accuracy: 0.9640, Testing Accuracy: 0.9698\n",
      "\n"
     ]
    },
    {
     "name": "stdout",
     "output_type": "stream",
     "text": [
      "Epoch 90, Loss 0.0293\n",
      "Training Accuracy: 0.9657, Testing Accuracy: 0.9708\n",
      "\n"
     ]
    },
    {
     "name": "stdout",
     "output_type": "stream",
     "text": [
      "Epoch 100, Loss 0.0282\n",
      "Training Accuracy: 0.9670, Testing Accuracy: 0.9728\n",
      "\n"
     ]
    },
    {
     "name": "stdout",
     "output_type": "stream",
     "text": [
      "Epoch 110, Loss 0.0273\n",
      "Training Accuracy: 0.9677, Testing Accuracy: 0.9728\n",
      "\n"
     ]
    },
    {
     "name": "stdout",
     "output_type": "stream",
     "text": [
      "Epoch 120, Loss 0.0264\n",
      "Training Accuracy: 0.9687, Testing Accuracy: 0.9733\n",
      "\n"
     ]
    },
    {
     "name": "stdout",
     "output_type": "stream",
     "text": [
      "Epoch 130, Loss 0.0257\n",
      "Training Accuracy: 0.9696, Testing Accuracy: 0.9728\n",
      "\n"
     ]
    },
    {
     "name": "stdout",
     "output_type": "stream",
     "text": [
      "Epoch 140, Loss 0.025\n",
      "Training Accuracy: 0.9702, Testing Accuracy: 0.9733\n",
      "\n"
     ]
    },
    {
     "name": "stdout",
     "output_type": "stream",
     "text": [
      "Epoch 150, Loss 0.0244\n",
      "Training Accuracy: 0.9714, Testing Accuracy: 0.9723\n",
      "\n"
     ]
    },
    {
     "name": "stdout",
     "output_type": "stream",
     "text": [
      "Epoch 160, Loss 0.0238\n",
      "Training Accuracy: 0.9719, Testing Accuracy: 0.9733\n",
      "\n"
     ]
    },
    {
     "name": "stdout",
     "output_type": "stream",
     "text": [
      "Epoch 170, Loss 0.0232\n",
      "Training Accuracy: 0.9725, Testing Accuracy: 0.9733\n",
      "\n"
     ]
    },
    {
     "name": "stdout",
     "output_type": "stream",
     "text": [
      "Epoch 180, Loss 0.0227\n",
      "Training Accuracy: 0.9734, Testing Accuracy: 0.9728\n",
      "\n"
     ]
    },
    {
     "name": "stdout",
     "output_type": "stream",
     "text": [
      "Epoch 190, Loss 0.0222\n",
      "Training Accuracy: 0.9743, Testing Accuracy: 0.9743\n",
      "\n"
     ]
    },
    {
     "name": "stdout",
     "output_type": "stream",
     "text": [
      "Epoch 200, Loss 0.0218\n",
      "Training Accuracy: 0.9750, Testing Accuracy: 0.9738\n",
      "\n"
     ]
    },
    {
     "name": "stdout",
     "output_type": "stream",
     "text": [
      "Epoch 210, Loss 0.0213\n",
      "Training Accuracy: 0.9754, Testing Accuracy: 0.9743\n",
      "\n"
     ]
    },
    {
     "name": "stdout",
     "output_type": "stream",
     "text": [
      "Epoch 220, Loss 0.0209\n",
      "Training Accuracy: 0.9760, Testing Accuracy: 0.9743\n",
      "\n"
     ]
    },
    {
     "name": "stdout",
     "output_type": "stream",
     "text": [
      "Epoch 230, Loss 0.0205\n",
      "Training Accuracy: 0.9764, Testing Accuracy: 0.9743\n",
      "\n"
     ]
    },
    {
     "name": "stdout",
     "output_type": "stream",
     "text": [
      "Epoch 240, Loss 0.0201\n",
      "Training Accuracy: 0.9775, Testing Accuracy: 0.9733\n",
      "\n"
     ]
    },
    {
     "data": {
      "text/plain": [
       "0.038249659627874244"
      ]
     },
     "execution_count": 22,
     "metadata": {},
     "output_type": "execute_result"
    }
   ],
   "source": [
    "nn_learner.train_loop(dl)"
   ]
  },
  {
   "cell_type": "code",
   "execution_count": 23,
   "id": "e0163366",
   "metadata": {
    "execution": {
     "iopub.execute_input": "2022-07-01T10:13:21.532192Z",
     "iopub.status.busy": "2022-07-01T10:13:21.531601Z",
     "iopub.status.idle": "2022-07-01T10:13:33.743086Z",
     "shell.execute_reply": "2022-07-01T10:13:33.743885Z"
    },
    "papermill": {
     "duration": 12.250578,
     "end_time": "2022-07-01T10:13:33.744016",
     "exception": false,
     "start_time": "2022-07-01T10:13:21.493438",
     "status": "completed"
    },
    "tags": []
   },
   "outputs": [
    {
     "name": "stdout",
     "output_type": "stream",
     "text": [
      "Epoch 0, Loss 0.2122\n",
      "Training Accuracy: 0.7676, Testing Accuracy: 0.7576\n",
      "\n"
     ]
    },
    {
     "name": "stdout",
     "output_type": "stream",
     "text": [
      "Epoch 10, Loss 0.1007\n",
      "Training Accuracy: 0.9096, Testing Accuracy: 0.9209\n",
      "\n"
     ]
    },
    {
     "name": "stdout",
     "output_type": "stream",
     "text": [
      "Epoch 20, Loss 0.0787\n",
      "Training Accuracy: 0.9260, Testing Accuracy: 0.9335\n",
      "\n"
     ]
    },
    {
     "name": "stdout",
     "output_type": "stream",
     "text": [
      "Epoch 30, Loss 0.0682\n",
      "Training Accuracy: 0.9345, Testing Accuracy: 0.9420\n",
      "\n"
     ]
    },
    {
     "name": "stdout",
     "output_type": "stream",
     "text": [
      "Epoch 40, Loss 0.0618\n",
      "Training Accuracy: 0.9403, Testing Accuracy: 0.9491\n",
      "\n"
     ]
    },
    {
     "name": "stdout",
     "output_type": "stream",
     "text": [
      "Epoch 50, Loss 0.0574\n",
      "Training Accuracy: 0.9443, Testing Accuracy: 0.9536\n",
      "\n"
     ]
    },
    {
     "name": "stdout",
     "output_type": "stream",
     "text": [
      "Epoch 60, Loss 0.0541\n",
      "Training Accuracy: 0.9468, Testing Accuracy: 0.9556\n",
      "\n"
     ]
    },
    {
     "name": "stdout",
     "output_type": "stream",
     "text": [
      "Epoch 70, Loss 0.0516\n",
      "Training Accuracy: 0.9489, Testing Accuracy: 0.9587\n",
      "\n"
     ]
    },
    {
     "name": "stdout",
     "output_type": "stream",
     "text": [
      "Epoch 80, Loss 0.0495\n",
      "Training Accuracy: 0.9503, Testing Accuracy: 0.9592\n",
      "\n"
     ]
    },
    {
     "name": "stdout",
     "output_type": "stream",
     "text": [
      "Epoch 90, Loss 0.0479\n",
      "Training Accuracy: 0.9518, Testing Accuracy: 0.9592\n",
      "\n"
     ]
    },
    {
     "name": "stdout",
     "output_type": "stream",
     "text": [
      "Epoch 100, Loss 0.0464\n",
      "Training Accuracy: 0.9531, Testing Accuracy: 0.9597\n",
      "\n"
     ]
    },
    {
     "name": "stdout",
     "output_type": "stream",
     "text": [
      "Epoch 110, Loss 0.0452\n",
      "Training Accuracy: 0.9542, Testing Accuracy: 0.9617\n",
      "\n"
     ]
    },
    {
     "name": "stdout",
     "output_type": "stream",
     "text": [
      "Epoch 120, Loss 0.0441\n",
      "Training Accuracy: 0.9547, Testing Accuracy: 0.9642\n",
      "\n"
     ]
    },
    {
     "name": "stdout",
     "output_type": "stream",
     "text": [
      "Epoch 130, Loss 0.0432\n",
      "Training Accuracy: 0.9553, Testing Accuracy: 0.9647\n",
      "\n"
     ]
    },
    {
     "name": "stdout",
     "output_type": "stream",
     "text": [
      "Epoch 140, Loss 0.0424\n",
      "Training Accuracy: 0.9559, Testing Accuracy: 0.9657\n",
      "\n"
     ]
    },
    {
     "name": "stdout",
     "output_type": "stream",
     "text": [
      "Epoch 150, Loss 0.0416\n",
      "Training Accuracy: 0.9567, Testing Accuracy: 0.9657\n",
      "\n"
     ]
    },
    {
     "name": "stdout",
     "output_type": "stream",
     "text": [
      "Epoch 160, Loss 0.0409\n",
      "Training Accuracy: 0.9574, Testing Accuracy: 0.9657\n",
      "\n"
     ]
    },
    {
     "name": "stdout",
     "output_type": "stream",
     "text": [
      "Epoch 170, Loss 0.0403\n",
      "Training Accuracy: 0.9580, Testing Accuracy: 0.9657\n",
      "\n"
     ]
    },
    {
     "name": "stdout",
     "output_type": "stream",
     "text": [
      "Epoch 180, Loss 0.0397\n",
      "Training Accuracy: 0.9584, Testing Accuracy: 0.9667\n",
      "\n"
     ]
    },
    {
     "name": "stdout",
     "output_type": "stream",
     "text": [
      "Epoch 190, Loss 0.0392\n",
      "Training Accuracy: 0.9589, Testing Accuracy: 0.9677\n",
      "\n"
     ]
    },
    {
     "name": "stdout",
     "output_type": "stream",
     "text": [
      "Epoch 200, Loss 0.0387\n",
      "Training Accuracy: 0.9594, Testing Accuracy: 0.9677\n",
      "\n"
     ]
    },
    {
     "name": "stdout",
     "output_type": "stream",
     "text": [
      "Epoch 210, Loss 0.0383\n",
      "Training Accuracy: 0.9597, Testing Accuracy: 0.9682\n",
      "\n"
     ]
    },
    {
     "name": "stdout",
     "output_type": "stream",
     "text": [
      "Epoch 220, Loss 0.0379\n",
      "Training Accuracy: 0.9599, Testing Accuracy: 0.9682\n",
      "\n"
     ]
    },
    {
     "name": "stdout",
     "output_type": "stream",
     "text": [
      "Epoch 230, Loss 0.0375\n",
      "Training Accuracy: 0.9602, Testing Accuracy: 0.9677\n",
      "\n"
     ]
    },
    {
     "name": "stdout",
     "output_type": "stream",
     "text": [
      "Epoch 240, Loss 0.0371\n",
      "Training Accuracy: 0.9607, Testing Accuracy: 0.9682\n",
      "\n"
     ]
    },
    {
     "data": {
      "text/plain": [
       "0.0353837796347078"
      ]
     },
     "execution_count": 23,
     "metadata": {},
     "output_type": "execute_result"
    }
   ],
   "source": [
    "lr_learner.train_loop(dl)"
   ]
  },
  {
   "cell_type": "code",
   "execution_count": 24,
   "id": "ca410940",
   "metadata": {
    "execution": {
     "iopub.execute_input": "2022-07-01T10:13:33.837758Z",
     "iopub.status.busy": "2022-07-01T10:13:33.837187Z",
     "iopub.status.idle": "2022-07-01T10:13:34.063050Z",
     "shell.execute_reply": "2022-07-01T10:13:34.063479Z"
    },
    "papermill": {
     "duration": 0.277858,
     "end_time": "2022-07-01T10:13:34.063611",
     "exception": false,
     "start_time": "2022-07-01T10:13:33.785753",
     "status": "completed"
    },
    "tags": []
   },
   "outputs": [
    {
     "data": {
      "text/plain": [
       "<matplotlib.legend.Legend at 0x7f151e4dac50>"
      ]
     },
     "execution_count": 24,
     "metadata": {},
     "output_type": "execute_result"
    },
    {
     "data": {
      "image/png": "[encoded data removed]",
      "text/plain": [
       "<Figure size 1080x720 with 1 Axes>"
      ]
     },
     "metadata": {
      "needs_background": "light"
     },
     "output_type": "display_data"
    }
   ],
   "source": [
    "#comparing the results of NN and LR\n",
    "plt.figure(figsize=(15,10))\n",
    "\n",
    "# Neural Network plots\n",
    "plt.plot(acc_nn.accuracies, 'r-', label = \"Training Accuracies - NN\")\n",
    "plt.plot(acc_nn.test_accuracies, 'g-', label = \"Testing Accuracies - NN\")\n",
    "\n",
    "# Logistic Regression plots\n",
    "plt.plot(acc_lr.accuracies, 'k-', label = \"Training Accuracies - LR\")\n",
    "plt.plot(acc_lr.test_accuracies, 'b-', label = \"Testing Accuracies - LR\")\n",
    "plt.legend()"
   ]
  },
  {
   "cell_type": "markdown",
   "id": "80dfb35c",
   "metadata": {
    "papermill": {
     "duration": 0.042194,
     "end_time": "2022-07-01T10:13:34.148414",
     "exception": false,
     "start_time": "2022-07-01T10:13:34.106220",
     "status": "completed"
    },
    "tags": []
   },
   "source": [
    "#### Plotting the outputs of this layer of the NN.\n"
   ]
  },
  {
   "cell_type": "code",
   "execution_count": 25,
   "id": "45eb2ff5",
   "metadata": {
    "execution": {
     "iopub.execute_input": "2022-07-01T10:13:34.236602Z",
     "iopub.status.busy": "2022-07-01T10:13:34.236003Z",
     "iopub.status.idle": "2022-07-01T10:13:34.272167Z",
     "shell.execute_reply": "2022-07-01T10:13:34.271708Z"
    },
    "papermill": {
     "duration": 0.081656,
     "end_time": "2022-07-01T10:13:34.272278",
     "exception": false,
     "start_time": "2022-07-01T10:13:34.190622",
     "status": "completed"
    },
    "tags": []
   },
   "outputs": [],
   "source": [
    "new_model = Model(layers[:-2])\n",
    "testing_plot = new_model(testing_data_x)"
   ]
  },
  {
   "cell_type": "code",
   "execution_count": 26,
   "id": "4c0a5485",
   "metadata": {
    "execution": {
     "iopub.execute_input": "2022-07-01T10:13:34.365749Z",
     "iopub.status.busy": "2022-07-01T10:13:34.363265Z",
     "iopub.status.idle": "2022-07-01T10:13:34.566864Z",
     "shell.execute_reply": "2022-07-01T10:13:34.567289Z"
    },
    "papermill": {
     "duration": 0.251213,
     "end_time": "2022-07-01T10:13:34.567412",
     "exception": false,
     "start_time": "2022-07-01T10:13:34.316199",
     "status": "completed"
    },
    "tags": []
   },
   "outputs": [
    {
     "data": {
      "text/plain": [
       "Text(0.5, 1.0, 'Outputs')"
      ]
     },
     "execution_count": 26,
     "metadata": {},
     "output_type": "execute_result"
    },
    {
     "data": {
      "image/png": "[encoded data removed]",
      "text/plain": [
       "<Figure size 576x504 with 1 Axes>"
      ]
     },
     "metadata": {
      "needs_background": "light"
     },
     "output_type": "display_data"
    }
   ],
   "source": [
    "# Plotting the scatter plot of points and color coding by class\n",
    "plt.figure(figsize=(8,7))\n",
    "plt.scatter(testing_plot[:,0], testing_plot[:,1], alpha = 0.1, c = y_test.ravel());\n",
    "plt.title('Outputs')"
   ]
  },
  {
   "cell_type": "markdown",
   "id": "a74fcf8f",
   "metadata": {
    "papermill": {
     "duration": 0.044335,
     "end_time": "2022-07-01T10:13:34.656512",
     "exception": false,
     "start_time": "2022-07-01T10:13:34.612177",
     "status": "completed"
    },
    "tags": []
   },
   "source": [
    "Probability contours"
   ]
  },
  {
   "cell_type": "code",
   "execution_count": 27,
   "id": "d0afc8e3",
   "metadata": {
    "execution": {
     "iopub.execute_input": "2022-07-01T10:13:34.773112Z",
     "iopub.status.busy": "2022-07-01T10:13:34.772530Z",
     "iopub.status.idle": "2022-07-01T10:13:34.784566Z",
     "shell.execute_reply": "2022-07-01T10:13:34.784094Z"
    },
    "papermill": {
     "duration": 0.083613,
     "end_time": "2022-07-01T10:13:34.784670",
     "exception": false,
     "start_time": "2022-07-01T10:13:34.701057",
     "status": "completed"
    },
    "tags": []
   },
   "outputs": [],
   "source": [
    "model_prob = Model(layers[-2:]) "
   ]
  },
  {
   "cell_type": "code",
   "execution_count": 28,
   "id": "9b96e238",
   "metadata": {
    "execution": {
     "iopub.execute_input": "2022-07-01T10:13:34.878395Z",
     "iopub.status.busy": "2022-07-01T10:13:34.877812Z",
     "iopub.status.idle": "2022-07-01T10:13:34.890582Z",
     "shell.execute_reply": "2022-07-01T10:13:34.891017Z"
    },
    "papermill": {
     "duration": 0.061686,
     "end_time": "2022-07-01T10:13:34.891144",
     "exception": false,
     "start_time": "2022-07-01T10:13:34.829458",
     "status": "completed"
    },
    "tags": []
   },
   "outputs": [],
   "source": [
    "#creating the x and y ranges according to the above generated plot.\n",
    "x_range = np.linspace(-4, 1, 100) \n",
    "y_range = np.linspace(-6, 6, 100) \n",
    "x_grid, y_grid = np.meshgrid(x_range, y_range) # x_grid and y_grig are of size 100 X 100\n",
    "\n",
    "# converting x_grid and y_grid to continuous arrays\n",
    "x_gridflat = np.ravel(x_grid)\n",
    "y_gridflat = np.ravel(y_grid)\n",
    "\n",
    "# The last layer of the current model takes two columns as input. Hence transpose of np.vstack() is required.\n",
    "X = np.vstack((x_gridflat, y_gridflat)).T\n",
    "\n",
    "prob_contour = model_prob(X).reshape(100,100) "
   ]
  },
  {
   "cell_type": "code",
   "execution_count": 29,
   "id": "da72499a",
   "metadata": {
    "execution": {
     "iopub.execute_input": "2022-07-01T10:13:34.986361Z",
     "iopub.status.busy": "2022-07-01T10:13:34.985812Z",
     "iopub.status.idle": "2022-07-01T10:13:35.245985Z",
     "shell.execute_reply": "2022-07-01T10:13:35.245240Z"
    },
    "papermill": {
     "duration": 0.309661,
     "end_time": "2022-07-01T10:13:35.246096",
     "exception": false,
     "start_time": "2022-07-01T10:13:34.936435",
     "status": "completed"
    },
    "tags": []
   },
   "outputs": [
    {
     "data": {
      "image/png": "[encoded data removed]",
      "text/plain": [
       "<Figure size 720x648 with 1 Axes>"
      ]
     },
     "metadata": {
      "needs_background": "light"
     },
     "output_type": "display_data"
    }
   ],
   "source": [
    "plt.figure(figsize=(10,9))\n",
    "plt.scatter(testing_plot[:,0], testing_plot[:,1], alpha = 0.1, c = y_test.ravel())\n",
    "contours = plt.contour(x_grid,y_grid,prob_contour)\n",
    "plt.title('Probability Contours')\n",
    "plt.clabel(contours, inline = True );"
   ]
  },
  {
   "cell_type": "code",
   "execution_count": null,
   "id": "e81b4ac7",
   "metadata": {
    "papermill": {
     "duration": 0.047144,
     "end_time": "2022-07-01T10:13:35.341221",
     "exception": false,
     "start_time": "2022-07-01T10:13:35.294077",
     "status": "completed"
    },
    "tags": []
   },
   "outputs": [],
   "source": []
  }
 ],
 "metadata": {
  "kernelspec": {
   "display_name": "Python 3",
   "language": "python",
   "name": "python3"
  },
  "language_info": {
   "codemirror_mode": {
    "name": "ipython",
    "version": 3
   },
   "file_extension": ".py",
   "mimetype": "text/x-python",
   "name": "python",
   "nbconvert_exporter": "python",
   "pygments_lexer": "ipython3",
   "version": "3.6.15"
  },
  "papermill": {
   "default_parameters": {},
   "duration": 197.100333,
   "end_time": "2022-07-01T10:13:35.705782",
   "environment_variables": {},
   "exception": null,
   "input_path": "2020-08-11-part2.ipynb",
   "output_path": "2020-08-11-part2.ipynb",
   "parameters": {},
   "start_time": "2022-07-01T10:10:18.605449",
   "version": "2.3.3"
  }
 },
 "nbformat": 4,
 "nbformat_minor": 5
}