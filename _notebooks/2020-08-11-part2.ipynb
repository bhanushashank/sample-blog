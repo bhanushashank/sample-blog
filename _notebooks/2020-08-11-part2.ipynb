{
 "cells": [
  {
   "cell_type": "markdown",
   "id": "98380cd3",
   "metadata": {
    "papermill": {
     "duration": 0.029396,
     "end_time": "2022-11-25T00:38:47.350923",
     "exception": false,
     "start_time": "2022-11-25T00:38:47.321527",
     "status": "completed"
    },
    "tags": []
   },
   "source": [
    "# Distinguish Your Own Digits (DYOD)"
   ]
  },
  {
   "cell_type": "markdown",
   "id": "ef31240d",
   "metadata": {
    "papermill": {
     "duration": 0.023652,
     "end_time": "2022-11-25T00:38:47.399096",
     "exception": false,
     "start_time": "2022-11-25T00:38:47.375444",
     "status": "completed"
    },
    "tags": []
   },
   "source": [
    "You are going to write a classifier that distinguishes between the number 3 and number 8."
   ]
  },
  {
   "cell_type": "code",
   "execution_count": 1,
   "id": "b15c8646",
   "metadata": {
    "execution": {
     "iopub.execute_input": "2022-11-25T00:38:47.456741Z",
     "iopub.status.busy": "2022-11-25T00:38:47.456118Z",
     "iopub.status.idle": "2022-11-25T00:38:47.466906Z",
     "shell.execute_reply": "2022-11-25T00:38:47.466436Z"
    },
    "papermill": {
     "duration": 0.044413,
     "end_time": "2022-11-25T00:38:47.467035",
     "exception": false,
     "start_time": "2022-11-25T00:38:47.422622",
     "status": "completed"
    },
    "tags": []
   },
   "outputs": [],
   "source": [
    "%load_ext autoreload\n",
    "%autoreload 2"
   ]
  },
  {
   "cell_type": "code",
   "execution_count": 2,
   "id": "22ef38dc",
   "metadata": {
    "execution": {
     "iopub.execute_input": "2022-11-25T00:38:47.519424Z",
     "iopub.status.busy": "2022-11-25T00:38:47.518778Z",
     "iopub.status.idle": "2022-11-25T00:38:48.054550Z",
     "shell.execute_reply": "2022-11-25T00:38:48.055303Z"
    },
    "papermill": {
     "duration": 0.564634,
     "end_time": "2022-11-25T00:38:48.055459",
     "exception": false,
     "start_time": "2022-11-25T00:38:47.490825",
     "status": "completed"
    },
    "tags": []
   },
   "outputs": [],
   "source": [
    "%matplotlib inline\n",
    "import numpy as np\n",
    "import matplotlib.pyplot as plt\n",
    "import pandas as pd"
   ]
  },
  {
   "cell_type": "markdown",
   "id": "ba036198",
   "metadata": {
    "papermill": {
     "duration": 0.023717,
     "end_time": "2022-11-25T00:38:48.103355",
     "exception": false,
     "start_time": "2022-11-25T00:38:48.079638",
     "status": "completed"
    },
    "tags": []
   },
   "source": [
    "From the command line run `pip install mnist`. This is a library that will help you bring down the mnist dataset. If you run this from a notebook, you need to put  `!pip install mnist` in a cell by itself."
   ]
  },
  {
   "cell_type": "code",
   "execution_count": 3,
   "id": "bb6ad8a1",
   "metadata": {
    "execution": {
     "iopub.execute_input": "2022-11-25T00:38:48.155562Z",
     "iopub.status.busy": "2022-11-25T00:38:48.154982Z",
     "iopub.status.idle": "2022-11-25T00:38:49.903553Z",
     "shell.execute_reply": "2022-11-25T00:38:49.902961Z"
    },
    "papermill": {
     "duration": 1.776495,
     "end_time": "2022-11-25T00:38:49.903693",
     "exception": false,
     "start_time": "2022-11-25T00:38:48.127198",
     "status": "completed"
    },
    "tags": []
   },
   "outputs": [
    {
     "name": "stdout",
     "output_type": "stream",
     "text": [
      "Collecting mnist\r\n"
     ]
    },
    {
     "name": "stdout",
     "output_type": "stream",
     "text": [
      "  Downloading mnist-0.2.2-py2.py3-none-any.whl (3.5 kB)\r\n"
     ]
    },
    {
     "name": "stdout",
     "output_type": "stream",
     "text": [
      "Requirement already satisfied: numpy in /opt/hostedtoolcache/Python/3.6.15/x64/lib/python3.6/site-packages (from mnist) (1.19.5)\r\n"
     ]
    },
    {
     "name": "stdout",
     "output_type": "stream",
     "text": [
      "Installing collected packages: mnist\r\n",
      "Successfully installed mnist-0.2.2\r\n"
     ]
    }
   ],
   "source": [
    "!pip install mnist"
   ]
  },
  {
   "cell_type": "markdown",
   "id": "69df9c9a",
   "metadata": {
    "papermill": {
     "duration": 0.02512,
     "end_time": "2022-11-25T00:38:49.954199",
     "exception": false,
     "start_time": "2022-11-25T00:38:49.929079",
     "status": "completed"
    },
    "tags": []
   },
   "source": [
    "## Preparing the Data"
   ]
  },
  {
   "cell_type": "code",
   "execution_count": 4,
   "id": "7f69d806",
   "metadata": {
    "execution": {
     "iopub.execute_input": "2022-11-25T00:38:50.008194Z",
     "iopub.status.busy": "2022-11-25T00:38:50.007606Z",
     "iopub.status.idle": "2022-11-25T00:38:50.023233Z",
     "shell.execute_reply": "2022-11-25T00:38:50.022734Z"
    },
    "papermill": {
     "duration": 0.044309,
     "end_time": "2022-11-25T00:38:50.023349",
     "exception": false,
     "start_time": "2022-11-25T00:38:49.979040",
     "status": "completed"
    },
    "tags": []
   },
   "outputs": [],
   "source": [
    "import mnist"
   ]
  },
  {
   "cell_type": "code",
   "execution_count": 5,
   "id": "a411e44f",
   "metadata": {
    "execution": {
     "iopub.execute_input": "2022-11-25T00:38:50.077371Z",
     "iopub.status.busy": "2022-11-25T00:38:50.076760Z",
     "iopub.status.idle": "2022-11-25T00:38:51.268730Z",
     "shell.execute_reply": "2022-11-25T00:38:51.268194Z"
    },
    "papermill": {
     "duration": 1.220462,
     "end_time": "2022-11-25T00:38:51.268849",
     "exception": false,
     "start_time": "2022-11-25T00:38:50.048387",
     "status": "completed"
    },
    "tags": []
   },
   "outputs": [],
   "source": [
    "train_images = mnist.train_images()\n",
    "train_labels = mnist.train_labels()"
   ]
  },
  {
   "cell_type": "code",
   "execution_count": 6,
   "id": "dceab3a5",
   "metadata": {
    "execution": {
     "iopub.execute_input": "2022-11-25T00:38:51.322388Z",
     "iopub.status.busy": "2022-11-25T00:38:51.321799Z",
     "iopub.status.idle": "2022-11-25T00:38:51.336938Z",
     "shell.execute_reply": "2022-11-25T00:38:51.336464Z"
    },
    "papermill": {
     "duration": 0.043198,
     "end_time": "2022-11-25T00:38:51.337069",
     "exception": false,
     "start_time": "2022-11-25T00:38:51.293871",
     "status": "completed"
    },
    "tags": []
   },
   "outputs": [
    {
     "data": {
      "text/plain": [
       "((60000, 28, 28), (60000,))"
      ]
     },
     "execution_count": 6,
     "metadata": {},
     "output_type": "execute_result"
    }
   ],
   "source": [
    "train_images.shape, train_labels.shape"
   ]
  },
  {
   "cell_type": "code",
   "execution_count": 7,
   "id": "f50dc2bb",
   "metadata": {
    "execution": {
     "iopub.execute_input": "2022-11-25T00:38:51.393965Z",
     "iopub.status.busy": "2022-11-25T00:38:51.393377Z",
     "iopub.status.idle": "2022-11-25T00:38:51.629543Z",
     "shell.execute_reply": "2022-11-25T00:38:51.628905Z"
    },
    "papermill": {
     "duration": 0.267505,
     "end_time": "2022-11-25T00:38:51.629680",
     "exception": false,
     "start_time": "2022-11-25T00:38:51.362175",
     "status": "completed"
    },
    "tags": []
   },
   "outputs": [],
   "source": [
    "test_images = mnist.test_images()\n",
    "test_labels = mnist.test_labels()"
   ]
  },
  {
   "cell_type": "code",
   "execution_count": 8,
   "id": "fc38cf1b",
   "metadata": {
    "execution": {
     "iopub.execute_input": "2022-11-25T00:38:51.690103Z",
     "iopub.status.busy": "2022-11-25T00:38:51.685564Z",
     "iopub.status.idle": "2022-11-25T00:38:51.698791Z",
     "shell.execute_reply": "2022-11-25T00:38:51.698217Z"
    },
    "papermill": {
     "duration": 0.043014,
     "end_time": "2022-11-25T00:38:51.698901",
     "exception": false,
     "start_time": "2022-11-25T00:38:51.655887",
     "status": "completed"
    },
    "tags": []
   },
   "outputs": [
    {
     "data": {
      "text/plain": [
       "((10000, 28, 28), (10000,))"
      ]
     },
     "execution_count": 8,
     "metadata": {},
     "output_type": "execute_result"
    }
   ],
   "source": [
    "test_images.shape, test_labels.shape"
   ]
  },
  {
   "cell_type": "code",
   "execution_count": 9,
   "id": "f9ed8fe0",
   "metadata": {
    "execution": {
     "iopub.execute_input": "2022-11-25T00:38:51.754432Z",
     "iopub.status.busy": "2022-11-25T00:38:51.753858Z",
     "iopub.status.idle": "2022-11-25T00:38:51.890028Z",
     "shell.execute_reply": "2022-11-25T00:38:51.890543Z"
    },
    "papermill": {
     "duration": 0.166389,
     "end_time": "2022-11-25T00:38:51.890693",
     "exception": false,
     "start_time": "2022-11-25T00:38:51.724304",
     "status": "completed"
    },
    "tags": []
   },
   "outputs": [
    {
     "name": "stdout",
     "output_type": "stream",
     "text": [
      "2\n"
     ]
    },
    {
     "data": {
      "text/plain": [
       "<matplotlib.image.AxesImage at 0x7f13c275ed68>"
      ]
     },
     "execution_count": 9,
     "metadata": {},
     "output_type": "execute_result"
    },
    {
     "data": {
      "image/png": "[encoded data removed]",
      "text/plain": [
       "<Figure size 432x288 with 1 Axes>"
      ]
     },
     "metadata": {
      "needs_background": "light"
     },
     "output_type": "display_data"
    }
   ],
   "source": [
    "image_index = 7776 # You may select anything up to 60,000\n",
    "print(train_labels[image_index]) \n",
    "plt.imshow(train_images[image_index], cmap='Greys')"
   ]
  },
  {
   "cell_type": "markdown",
   "id": "a8d2388d",
   "metadata": {
    "papermill": {
     "duration": 0.026353,
     "end_time": "2022-11-25T00:38:51.944356",
     "exception": false,
     "start_time": "2022-11-25T00:38:51.918003",
     "status": "completed"
    },
    "tags": []
   },
   "source": [
    "## Filter data to get 3 and 8 out"
   ]
  },
  {
   "cell_type": "code",
   "execution_count": 10,
   "id": "776f7fc7",
   "metadata": {
    "execution": {
     "iopub.execute_input": "2022-11-25T00:38:52.005169Z",
     "iopub.status.busy": "2022-11-25T00:38:52.004495Z",
     "iopub.status.idle": "2022-11-25T00:38:52.018292Z",
     "shell.execute_reply": "2022-11-25T00:38:52.017803Z"
    },
    "papermill": {
     "duration": 0.047677,
     "end_time": "2022-11-25T00:38:52.018404",
     "exception": false,
     "start_time": "2022-11-25T00:38:51.970727",
     "status": "completed"
    },
    "tags": []
   },
   "outputs": [],
   "source": [
    "train_filter = np.where((train_labels == 3 ) | (train_labels == 8))\n",
    "test_filter = np.where((test_labels == 3) | (test_labels == 8))\n",
    "X_train, y_train = train_images[train_filter], train_labels[train_filter]\n",
    "X_test, y_test = test_images[test_filter], test_labels[test_filter]"
   ]
  },
  {
   "cell_type": "markdown",
   "id": "948f0b7e",
   "metadata": {
    "papermill": {
     "duration": 0.026232,
     "end_time": "2022-11-25T00:38:52.071074",
     "exception": false,
     "start_time": "2022-11-25T00:38:52.044842",
     "status": "completed"
    },
    "tags": []
   },
   "source": [
    "We normalize the pizel values in the 0 to 1 range"
   ]
  },
  {
   "cell_type": "code",
   "execution_count": 11,
   "id": "ee4c2166",
   "metadata": {
    "execution": {
     "iopub.execute_input": "2022-11-25T00:38:52.126664Z",
     "iopub.status.busy": "2022-11-25T00:38:52.126081Z",
     "iopub.status.idle": "2022-11-25T00:38:52.171033Z",
     "shell.execute_reply": "2022-11-25T00:38:52.170447Z"
    },
    "papermill": {
     "duration": 0.073927,
     "end_time": "2022-11-25T00:38:52.171171",
     "exception": false,
     "start_time": "2022-11-25T00:38:52.097244",
     "status": "completed"
    },
    "tags": []
   },
   "outputs": [],
   "source": [
    "X_train = X_train/255.\n",
    "X_test = X_test/255."
   ]
  },
  {
   "cell_type": "markdown",
   "id": "ddcf4fab",
   "metadata": {
    "papermill": {
     "duration": 0.026272,
     "end_time": "2022-11-25T00:38:52.224513",
     "exception": false,
     "start_time": "2022-11-25T00:38:52.198241",
     "status": "completed"
    },
    "tags": []
   },
   "source": [
    "And setup the labels as 1 (when the digit is 3) and 0 (when the digit is 8)"
   ]
  },
  {
   "cell_type": "code",
   "execution_count": 12,
   "id": "7dc908f2",
   "metadata": {
    "execution": {
     "iopub.execute_input": "2022-11-25T00:38:52.286760Z",
     "iopub.status.busy": "2022-11-25T00:38:52.286170Z",
     "iopub.status.idle": "2022-11-25T00:38:52.294870Z",
     "shell.execute_reply": "2022-11-25T00:38:52.294387Z"
    },
    "papermill": {
     "duration": 0.044154,
     "end_time": "2022-11-25T00:38:52.294982",
     "exception": false,
     "start_time": "2022-11-25T00:38:52.250828",
     "status": "completed"
    },
    "tags": []
   },
   "outputs": [],
   "source": [
    "y_train = 1*(y_train==3)\n",
    "y_test = 1*(y_test==3)"
   ]
  },
  {
   "cell_type": "code",
   "execution_count": 13,
   "id": "01e4e969",
   "metadata": {
    "execution": {
     "iopub.execute_input": "2022-11-25T00:38:52.350931Z",
     "iopub.status.busy": "2022-11-25T00:38:52.350358Z",
     "iopub.status.idle": "2022-11-25T00:38:52.365550Z",
     "shell.execute_reply": "2022-11-25T00:38:52.364940Z"
    },
    "papermill": {
     "duration": 0.044286,
     "end_time": "2022-11-25T00:38:52.365667",
     "exception": false,
     "start_time": "2022-11-25T00:38:52.321381",
     "status": "completed"
    },
    "tags": []
   },
   "outputs": [
    {
     "data": {
      "text/plain": [
       "((11982, 28, 28), (1984, 28, 28))"
      ]
     },
     "execution_count": 13,
     "metadata": {},
     "output_type": "execute_result"
    }
   ],
   "source": [
    "X_train.shape, X_test.shape"
   ]
  },
  {
   "cell_type": "markdown",
   "id": "5ccf3f85",
   "metadata": {
    "papermill": {
     "duration": 0.028023,
     "end_time": "2022-11-25T00:38:52.420559",
     "exception": false,
     "start_time": "2022-11-25T00:38:52.392536",
     "status": "completed"
    },
    "tags": []
   },
   "source": [
    "We reshape the data to flatten the image pixels into a set of features or co-variates:"
   ]
  },
  {
   "cell_type": "code",
   "execution_count": 14,
   "id": "5286a4a3",
   "metadata": {
    "execution": {
     "iopub.execute_input": "2022-11-25T00:38:52.478632Z",
     "iopub.status.busy": "2022-11-25T00:38:52.478037Z",
     "iopub.status.idle": "2022-11-25T00:38:52.492097Z",
     "shell.execute_reply": "2022-11-25T00:38:52.491507Z"
    },
    "papermill": {
     "duration": 0.044686,
     "end_time": "2022-11-25T00:38:52.492212",
     "exception": false,
     "start_time": "2022-11-25T00:38:52.447526",
     "status": "completed"
    },
    "tags": []
   },
   "outputs": [
    {
     "data": {
      "text/plain": [
       "((11982, 784), (1984, 784))"
      ]
     },
     "execution_count": 14,
     "metadata": {},
     "output_type": "execute_result"
    }
   ],
   "source": [
    "X_train = X_train.reshape(X_train.shape[0], -1)\n",
    "X_test = X_test.reshape(X_test.shape[0], -1)\n",
    "X_train.shape, X_test.shape"
   ]
  },
  {
   "cell_type": "code",
   "execution_count": 15,
   "id": "73c5f88a",
   "metadata": {
    "execution": {
     "iopub.execute_input": "2022-11-25T00:38:52.550948Z",
     "iopub.status.busy": "2022-11-25T00:38:52.550362Z",
     "iopub.status.idle": "2022-11-25T00:38:52.569252Z",
     "shell.execute_reply": "2022-11-25T00:38:52.568725Z"
    },
    "papermill": {
     "duration": 0.050097,
     "end_time": "2022-11-25T00:38:52.569371",
     "exception": false,
     "start_time": "2022-11-25T00:38:52.519274",
     "status": "completed"
    },
    "tags": []
   },
   "outputs": [],
   "source": [
    "#Impoting functions from 'Kudzu'\n",
    "from kudzu.model import Model\n",
    "from kudzu.train import Learner\n",
    "from kudzu.optim import GD\n",
    "from kudzu.data import Data, Sampler,Dataloader\n",
    "\n",
    "from kudzu.callbacks import AccCallback\n",
    "from kudzu.callbacks import ClfCallback\n",
    "\n",
    "from kudzu.loss import MSE\n",
    "\n",
    "from kudzu.layer import Sigmoid,Relu\n",
    "from kudzu.layer import Affine"
   ]
  },
  {
   "cell_type": "markdown",
   "id": "bc01172a",
   "metadata": {
    "papermill": {
     "duration": 0.026795,
     "end_time": "2022-11-25T00:38:52.623075",
     "exception": false,
     "start_time": "2022-11-25T00:38:52.596280",
     "status": "completed"
    },
    "tags": []
   },
   "source": [
    "### Let us create a `Config` class, to store important parameters. \n",
    "This class essentially plays the role of a dictionary."
   ]
  },
  {
   "cell_type": "code",
   "execution_count": 16,
   "id": "978281aa",
   "metadata": {
    "execution": {
     "iopub.execute_input": "2022-11-25T00:38:52.681369Z",
     "iopub.status.busy": "2022-11-25T00:38:52.680751Z",
     "iopub.status.idle": "2022-11-25T00:38:52.692882Z",
     "shell.execute_reply": "2022-11-25T00:38:52.693396Z"
    },
    "papermill": {
     "duration": 0.043749,
     "end_time": "2022-11-25T00:38:52.693530",
     "exception": false,
     "start_time": "2022-11-25T00:38:52.649781",
     "status": "completed"
    },
    "tags": []
   },
   "outputs": [],
   "source": [
    "class Config:\n",
    "    pass\n",
    "config = Config()\n",
    "config.lr = 0.001\n",
    "config.num_epochs = 250\n",
    "config.bs = 50"
   ]
  },
  {
   "cell_type": "markdown",
   "id": "1385fa59",
   "metadata": {
    "papermill": {
     "duration": 0.026768,
     "end_time": "2022-11-25T00:38:52.747164",
     "exception": false,
     "start_time": "2022-11-25T00:38:52.720396",
     "status": "completed"
    },
    "tags": []
   },
   "source": [
    "### Running Models with the Training data\n",
    "Details about the network layers:\n",
    "- A first affine layer has 784 inputs and does 100 affine transforms. These are followed by a Relu\n",
    "- A second affine layer has 100 inputs from the 100 activations of the past layer, and does 100 affine transforms. These are followed by a Relu\n",
    "- A third affine layer has 100 activations and does 2 affine transformations to create an embedding for visualization. There is no non-linearity here.\n",
    "- A final \"logistic regression\" which has an affine transform from 2 inputs to 1 output, which is squeezed through a sigmoid.\n"
   ]
  },
  {
   "cell_type": "code",
   "execution_count": 17,
   "id": "2b9c66db",
   "metadata": {
    "execution": {
     "iopub.execute_input": "2022-11-25T00:38:52.805976Z",
     "iopub.status.busy": "2022-11-25T00:38:52.805377Z",
     "iopub.status.idle": "2022-11-25T00:38:52.817473Z",
     "shell.execute_reply": "2022-11-25T00:38:52.816959Z"
    },
    "papermill": {
     "duration": 0.043567,
     "end_time": "2022-11-25T00:38:52.817586",
     "exception": false,
     "start_time": "2022-11-25T00:38:52.774019",
     "status": "completed"
    },
    "tags": []
   },
   "outputs": [],
   "source": [
    "data = Data(X_train, y_train.reshape(-1,1))\n",
    "sampler = Sampler(data, config.bs, shuffle=True)\n",
    "\n",
    "dl = Dataloader(data, sampler)\n",
    "\n",
    "opt = GD(config.lr)\n",
    "loss = MSE()"
   ]
  },
  {
   "cell_type": "code",
   "execution_count": 18,
   "id": "b275e4c2",
   "metadata": {
    "execution": {
     "iopub.execute_input": "2022-11-25T00:38:52.876720Z",
     "iopub.status.busy": "2022-11-25T00:38:52.876133Z",
     "iopub.status.idle": "2022-11-25T00:38:52.887182Z",
     "shell.execute_reply": "2022-11-25T00:38:52.886597Z"
    },
    "papermill": {
     "duration": 0.042962,
     "end_time": "2022-11-25T00:38:52.887295",
     "exception": false,
     "start_time": "2022-11-25T00:38:52.844333",
     "status": "completed"
    },
    "tags": []
   },
   "outputs": [],
   "source": [
    "training_data_x = X_train\n",
    "testing_data_x = X_test\n",
    "training_data_y = y_train.reshape(-1,1)\n",
    "testing_data_y = y_test.reshape(-1,1)"
   ]
  },
  {
   "cell_type": "code",
   "execution_count": 19,
   "id": "76951160",
   "metadata": {
    "execution": {
     "iopub.execute_input": "2022-11-25T00:38:52.946215Z",
     "iopub.status.busy": "2022-11-25T00:38:52.945628Z",
     "iopub.status.idle": "2022-11-25T00:38:52.961856Z",
     "shell.execute_reply": "2022-11-25T00:38:52.961368Z"
    },
    "papermill": {
     "duration": 0.047877,
     "end_time": "2022-11-25T00:38:52.961971",
     "exception": false,
     "start_time": "2022-11-25T00:38:52.914094",
     "status": "completed"
    },
    "tags": []
   },
   "outputs": [
    {
     "name": "stdout",
     "output_type": "stream",
     "text": [
      "xavier\n",
      "xavier\n",
      "xavier\n",
      "xavier\n",
      "xavier\n"
     ]
    }
   ],
   "source": [
    "layers = [Affine(\"first\", 784, 100), Relu(\"first\"), Affine(\"second\", 100, 100), Relu(\"second\"), Affine(\"third\", 100, 2), Affine(\"last\", 2, 1), Sigmoid(\"last\")]\n",
    "model_nn = Model(layers)\n",
    "model_lr = Model([Affine(\"logits\", 784, 1), Sigmoid(\"sigmoid\")])"
   ]
  },
  {
   "cell_type": "code",
   "execution_count": 20,
   "id": "6eede77a",
   "metadata": {
    "execution": {
     "iopub.execute_input": "2022-11-25T00:38:53.020517Z",
     "iopub.status.busy": "2022-11-25T00:38:53.019913Z",
     "iopub.status.idle": "2022-11-25T00:38:53.033783Z",
     "shell.execute_reply": "2022-11-25T00:38:53.034243Z"
    },
    "papermill": {
     "duration": 0.044927,
     "end_time": "2022-11-25T00:38:53.034376",
     "exception": false,
     "start_time": "2022-11-25T00:38:52.989449",
     "status": "completed"
    },
    "tags": []
   },
   "outputs": [],
   "source": [
    "nn_learner = Learner(loss, model_nn, opt, config.num_epochs)\n",
    "acc_nn = ClfCallback(nn_learner, config.bs, training_data_x , testing_data_x, training_data_y, testing_data_y)\n",
    "nn_learner.set_callbacks([acc_nn])"
   ]
  },
  {
   "cell_type": "code",
   "execution_count": 21,
   "id": "877b6cc7",
   "metadata": {
    "execution": {
     "iopub.execute_input": "2022-11-25T00:38:53.102073Z",
     "iopub.status.busy": "2022-11-25T00:38:53.101427Z",
     "iopub.status.idle": "2022-11-25T00:38:53.108746Z",
     "shell.execute_reply": "2022-11-25T00:38:53.108267Z"
    },
    "papermill": {
     "duration": 0.047107,
     "end_time": "2022-11-25T00:38:53.108861",
     "exception": false,
     "start_time": "2022-11-25T00:38:53.061754",
     "status": "completed"
    },
    "tags": []
   },
   "outputs": [],
   "source": [
    "lr_learner = Learner(loss, model_lr, opt, config.num_epochs)\n",
    "acc_lr = ClfCallback(lr_learner, config.bs, training_data_x , testing_data_x, training_data_y, testing_data_y)\n",
    "lr_learner.set_callbacks([acc_lr])"
   ]
  },
  {
   "cell_type": "code",
   "execution_count": 22,
   "id": "d9b133c3",
   "metadata": {
    "execution": {
     "iopub.execute_input": "2022-11-25T00:38:53.166826Z",
     "iopub.status.busy": "2022-11-25T00:38:53.166257Z",
     "iopub.status.idle": "2022-11-25T00:40:08.086113Z",
     "shell.execute_reply": "2022-11-25T00:40:08.086951Z"
    },
    "papermill": {
     "duration": 74.950959,
     "end_time": "2022-11-25T00:40:08.087097",
     "exception": false,
     "start_time": "2022-11-25T00:38:53.136138",
     "status": "completed"
    },
    "tags": []
   },
   "outputs": [
    {
     "name": "stdout",
     "output_type": "stream",
     "text": [
      "Epoch 0, Loss 0.237\n",
      "Training Accuracy: 0.7296, Testing Accuracy: 0.7424\n",
      "\n"
     ]
    },
    {
     "name": "stdout",
     "output_type": "stream",
     "text": [
      "Epoch 10, Loss 0.1292\n",
      "Training Accuracy: 0.9009, Testing Accuracy: 0.9078\n",
      "\n"
     ]
    },
    {
     "name": "stdout",
     "output_type": "stream",
     "text": [
      "Epoch 20, Loss 0.0716\n",
      "Training Accuracy: 0.9279, Testing Accuracy: 0.9360\n",
      "\n"
     ]
    },
    {
     "name": "stdout",
     "output_type": "stream",
     "text": [
      "Epoch 30, Loss 0.0525\n",
      "Training Accuracy: 0.9430, Testing Accuracy: 0.9546\n",
      "\n"
     ]
    },
    {
     "name": "stdout",
     "output_type": "stream",
     "text": [
      "Epoch 40, Loss 0.0436\n",
      "Training Accuracy: 0.9519, Testing Accuracy: 0.9597\n",
      "\n"
     ]
    },
    {
     "name": "stdout",
     "output_type": "stream",
     "text": [
      "Epoch 50, Loss 0.0385\n",
      "Training Accuracy: 0.9568, Testing Accuracy: 0.9657\n",
      "\n"
     ]
    },
    {
     "name": "stdout",
     "output_type": "stream",
     "text": [
      "Epoch 60, Loss 0.0351\n",
      "Training Accuracy: 0.9599, Testing Accuracy: 0.9672\n",
      "\n"
     ]
    },
    {
     "name": "stdout",
     "output_type": "stream",
     "text": [
      "Epoch 70, Loss 0.0328\n",
      "Training Accuracy: 0.9623, Testing Accuracy: 0.9682\n",
      "\n"
     ]
    },
    {
     "name": "stdout",
     "output_type": "stream",
     "text": [
      "Epoch 80, Loss 0.031\n",
      "Training Accuracy: 0.9634, Testing Accuracy: 0.9682\n",
      "\n"
     ]
    },
    {
     "name": "stdout",
     "output_type": "stream",
     "text": [
      "Epoch 90, Loss 0.0295\n",
      "Training Accuracy: 0.9651, Testing Accuracy: 0.9688\n",
      "\n"
     ]
    },
    {
     "name": "stdout",
     "output_type": "stream",
     "text": [
      "Epoch 100, Loss 0.0284\n",
      "Training Accuracy: 0.9668, Testing Accuracy: 0.9698\n",
      "\n"
     ]
    },
    {
     "name": "stdout",
     "output_type": "stream",
     "text": [
      "Epoch 110, Loss 0.0273\n",
      "Training Accuracy: 0.9676, Testing Accuracy: 0.9708\n",
      "\n"
     ]
    },
    {
     "name": "stdout",
     "output_type": "stream",
     "text": [
      "Epoch 120, Loss 0.0265\n",
      "Training Accuracy: 0.9685, Testing Accuracy: 0.9713\n",
      "\n"
     ]
    },
    {
     "name": "stdout",
     "output_type": "stream",
     "text": [
      "Epoch 130, Loss 0.0257\n",
      "Training Accuracy: 0.9693, Testing Accuracy: 0.9708\n",
      "\n"
     ]
    },
    {
     "name": "stdout",
     "output_type": "stream",
     "text": [
      "Epoch 140, Loss 0.025\n",
      "Training Accuracy: 0.9702, Testing Accuracy: 0.9713\n",
      "\n"
     ]
    },
    {
     "name": "stdout",
     "output_type": "stream",
     "text": [
      "Epoch 150, Loss 0.0244\n",
      "Training Accuracy: 0.9711, Testing Accuracy: 0.9718\n",
      "\n"
     ]
    },
    {
     "name": "stdout",
     "output_type": "stream",
     "text": [
      "Epoch 160, Loss 0.0238\n",
      "Training Accuracy: 0.9716, Testing Accuracy: 0.9708\n",
      "\n"
     ]
    },
    {
     "name": "stdout",
     "output_type": "stream",
     "text": [
      "Epoch 170, Loss 0.0232\n",
      "Training Accuracy: 0.9726, Testing Accuracy: 0.9718\n",
      "\n"
     ]
    },
    {
     "name": "stdout",
     "output_type": "stream",
     "text": [
      "Epoch 180, Loss 0.0227\n",
      "Training Accuracy: 0.9731, Testing Accuracy: 0.9718\n",
      "\n"
     ]
    },
    {
     "name": "stdout",
     "output_type": "stream",
     "text": [
      "Epoch 190, Loss 0.0223\n",
      "Training Accuracy: 0.9739, Testing Accuracy: 0.9713\n",
      "\n"
     ]
    },
    {
     "name": "stdout",
     "output_type": "stream",
     "text": [
      "Epoch 200, Loss 0.0218\n",
      "Training Accuracy: 0.9745, Testing Accuracy: 0.9718\n",
      "\n"
     ]
    },
    {
     "name": "stdout",
     "output_type": "stream",
     "text": [
      "Epoch 210, Loss 0.0214\n",
      "Training Accuracy: 0.9748, Testing Accuracy: 0.9718\n",
      "\n"
     ]
    },
    {
     "name": "stdout",
     "output_type": "stream",
     "text": [
      "Epoch 220, Loss 0.021\n",
      "Training Accuracy: 0.9753, Testing Accuracy: 0.9718\n",
      "\n"
     ]
    },
    {
     "name": "stdout",
     "output_type": "stream",
     "text": [
      "Epoch 230, Loss 0.0206\n",
      "Training Accuracy: 0.9759, Testing Accuracy: 0.9723\n",
      "\n"
     ]
    },
    {
     "name": "stdout",
     "output_type": "stream",
     "text": [
      "Epoch 240, Loss 0.0202\n",
      "Training Accuracy: 0.9762, Testing Accuracy: 0.9733\n",
      "\n"
     ]
    },
    {
     "data": {
      "text/plain": [
       "0.025555382920694227"
      ]
     },
     "execution_count": 22,
     "metadata": {},
     "output_type": "execute_result"
    }
   ],
   "source": [
    "nn_learner.train_loop(dl)"
   ]
  },
  {
   "cell_type": "code",
   "execution_count": 23,
   "id": "e0163366",
   "metadata": {
    "execution": {
     "iopub.execute_input": "2022-11-25T00:40:08.167446Z",
     "iopub.status.busy": "2022-11-25T00:40:08.166812Z",
     "iopub.status.idle": "2022-11-25T00:40:21.253179Z",
     "shell.execute_reply": "2022-11-25T00:40:21.254065Z"
    },
    "papermill": {
     "duration": 13.132553,
     "end_time": "2022-11-25T00:40:21.254213",
     "exception": false,
     "start_time": "2022-11-25T00:40:08.121660",
     "status": "completed"
    },
    "tags": []
   },
   "outputs": [
    {
     "name": "stdout",
     "output_type": "stream",
     "text": [
      "Epoch 0, Loss 0.208\n",
      "Training Accuracy: 0.7846, Testing Accuracy: 0.8125\n",
      "\n"
     ]
    },
    {
     "name": "stdout",
     "output_type": "stream",
     "text": [
      "Epoch 10, Loss 0.0988\n",
      "Training Accuracy: 0.9109, Testing Accuracy: 0.9269\n",
      "\n"
     ]
    },
    {
     "name": "stdout",
     "output_type": "stream",
     "text": [
      "Epoch 20, Loss 0.0777\n",
      "Training Accuracy: 0.9267, Testing Accuracy: 0.9415\n",
      "\n"
     ]
    },
    {
     "name": "stdout",
     "output_type": "stream",
     "text": [
      "Epoch 30, Loss 0.0676\n",
      "Training Accuracy: 0.9338, Testing Accuracy: 0.9486\n",
      "\n"
     ]
    },
    {
     "name": "stdout",
     "output_type": "stream",
     "text": [
      "Epoch 40, Loss 0.0614\n",
      "Training Accuracy: 0.9390, Testing Accuracy: 0.9531\n",
      "\n"
     ]
    },
    {
     "name": "stdout",
     "output_type": "stream",
     "text": [
      "Epoch 50, Loss 0.0571\n",
      "Training Accuracy: 0.9419, Testing Accuracy: 0.9551\n",
      "\n"
     ]
    },
    {
     "name": "stdout",
     "output_type": "stream",
     "text": [
      "Epoch 60, Loss 0.0539\n",
      "Training Accuracy: 0.9442, Testing Accuracy: 0.9561\n",
      "\n"
     ]
    },
    {
     "name": "stdout",
     "output_type": "stream",
     "text": [
      "Epoch 70, Loss 0.0514\n",
      "Training Accuracy: 0.9472, Testing Accuracy: 0.9567\n",
      "\n"
     ]
    },
    {
     "name": "stdout",
     "output_type": "stream",
     "text": [
      "Epoch 80, Loss 0.0494\n",
      "Training Accuracy: 0.9491, Testing Accuracy: 0.9592\n",
      "\n"
     ]
    },
    {
     "name": "stdout",
     "output_type": "stream",
     "text": [
      "Epoch 90, Loss 0.0477\n",
      "Training Accuracy: 0.9504, Testing Accuracy: 0.9612\n",
      "\n"
     ]
    },
    {
     "name": "stdout",
     "output_type": "stream",
     "text": [
      "Epoch 100, Loss 0.0463\n",
      "Training Accuracy: 0.9513, Testing Accuracy: 0.9617\n",
      "\n"
     ]
    },
    {
     "name": "stdout",
     "output_type": "stream",
     "text": [
      "Epoch 110, Loss 0.0451\n",
      "Training Accuracy: 0.9528, Testing Accuracy: 0.9637\n",
      "\n"
     ]
    },
    {
     "name": "stdout",
     "output_type": "stream",
     "text": [
      "Epoch 120, Loss 0.044\n",
      "Training Accuracy: 0.9544, Testing Accuracy: 0.9642\n",
      "\n"
     ]
    },
    {
     "name": "stdout",
     "output_type": "stream",
     "text": [
      "Epoch 130, Loss 0.0431\n",
      "Training Accuracy: 0.9550, Testing Accuracy: 0.9632\n",
      "\n"
     ]
    },
    {
     "name": "stdout",
     "output_type": "stream",
     "text": [
      "Epoch 140, Loss 0.0422\n",
      "Training Accuracy: 0.9553, Testing Accuracy: 0.9647\n",
      "\n"
     ]
    },
    {
     "name": "stdout",
     "output_type": "stream",
     "text": [
      "Epoch 150, Loss 0.0415\n",
      "Training Accuracy: 0.9558, Testing Accuracy: 0.9657\n",
      "\n"
     ]
    },
    {
     "name": "stdout",
     "output_type": "stream",
     "text": [
      "Epoch 160, Loss 0.0408\n",
      "Training Accuracy: 0.9568, Testing Accuracy: 0.9657\n",
      "\n"
     ]
    },
    {
     "name": "stdout",
     "output_type": "stream",
     "text": [
      "Epoch 170, Loss 0.0402\n",
      "Training Accuracy: 0.9577, Testing Accuracy: 0.9657\n",
      "\n"
     ]
    },
    {
     "name": "stdout",
     "output_type": "stream",
     "text": [
      "Epoch 180, Loss 0.0396\n",
      "Training Accuracy: 0.9579, Testing Accuracy: 0.9662\n",
      "\n"
     ]
    },
    {
     "name": "stdout",
     "output_type": "stream",
     "text": [
      "Epoch 190, Loss 0.0391\n",
      "Training Accuracy: 0.9583, Testing Accuracy: 0.9667\n",
      "\n"
     ]
    },
    {
     "name": "stdout",
     "output_type": "stream",
     "text": [
      "Epoch 200, Loss 0.0386\n",
      "Training Accuracy: 0.9584, Testing Accuracy: 0.9672\n",
      "\n"
     ]
    },
    {
     "name": "stdout",
     "output_type": "stream",
     "text": [
      "Epoch 210, Loss 0.0382\n",
      "Training Accuracy: 0.9588, Testing Accuracy: 0.9672\n",
      "\n"
     ]
    },
    {
     "name": "stdout",
     "output_type": "stream",
     "text": [
      "Epoch 220, Loss 0.0378\n",
      "Training Accuracy: 0.9593, Testing Accuracy: 0.9677\n",
      "\n"
     ]
    },
    {
     "name": "stdout",
     "output_type": "stream",
     "text": [
      "Epoch 230, Loss 0.0374\n",
      "Training Accuracy: 0.9595, Testing Accuracy: 0.9677\n",
      "\n"
     ]
    },
    {
     "name": "stdout",
     "output_type": "stream",
     "text": [
      "Epoch 240, Loss 0.037\n",
      "Training Accuracy: 0.9598, Testing Accuracy: 0.9677\n",
      "\n"
     ]
    },
    {
     "data": {
      "text/plain": [
       "0.05752133136505879"
      ]
     },
     "execution_count": 23,
     "metadata": {},
     "output_type": "execute_result"
    }
   ],
   "source": [
    "lr_learner.train_loop(dl)"
   ]
  },
  {
   "cell_type": "code",
   "execution_count": 24,
   "id": "ca410940",
   "metadata": {
    "execution": {
     "iopub.execute_input": "2022-11-25T00:40:21.350405Z",
     "iopub.status.busy": "2022-11-25T00:40:21.349794Z",
     "iopub.status.idle": "2022-11-25T00:40:21.564124Z",
     "shell.execute_reply": "2022-11-25T00:40:21.563623Z"
    },
    "papermill": {
     "duration": 0.268996,
     "end_time": "2022-11-25T00:40:21.564244",
     "exception": false,
     "start_time": "2022-11-25T00:40:21.295248",
     "status": "completed"
    },
    "tags": []
   },
   "outputs": [
    {
     "data": {
      "text/plain": [
       "<matplotlib.legend.Legend at 0x7f13b5b1e438>"
      ]
     },
     "execution_count": 24,
     "metadata": {},
     "output_type": "execute_result"
    },
    {
     "data": {
      "image/png": "[encoded data removed]",
      "text/plain": [
       "<Figure size 1080x720 with 1 Axes>"
      ]
     },
     "metadata": {
      "needs_background": "light"
     },
     "output_type": "display_data"
    }
   ],
   "source": [
    "#comparing the results of NN and LR\n",
    "plt.figure(figsize=(15,10))\n",
    "\n",
    "# Neural Network plots\n",
    "plt.plot(acc_nn.accuracies, 'r-', label = \"Training Accuracies - NN\")\n",
    "plt.plot(acc_nn.test_accuracies, 'g-', label = \"Testing Accuracies - NN\")\n",
    "\n",
    "# Logistic Regression plots\n",
    "plt.plot(acc_lr.accuracies, 'k-', label = \"Training Accuracies - LR\")\n",
    "plt.plot(acc_lr.test_accuracies, 'b-', label = \"Testing Accuracies - LR\")\n",
    "plt.legend()"
   ]
  },
  {
   "cell_type": "markdown",
   "id": "80dfb35c",
   "metadata": {
    "papermill": {
     "duration": 0.041834,
     "end_time": "2022-11-25T00:40:21.648342",
     "exception": false,
     "start_time": "2022-11-25T00:40:21.606508",
     "status": "completed"
    },
    "tags": []
   },
   "source": [
    "#### Plotting the outputs of this layer of the NN.\n"
   ]
  },
  {
   "cell_type": "code",
   "execution_count": 25,
   "id": "45eb2ff5",
   "metadata": {
    "execution": {
     "iopub.execute_input": "2022-11-25T00:40:21.738609Z",
     "iopub.status.busy": "2022-11-25T00:40:21.737997Z",
     "iopub.status.idle": "2022-11-25T00:40:21.757995Z",
     "shell.execute_reply": "2022-11-25T00:40:21.757508Z"
    },
    "papermill": {
     "duration": 0.068095,
     "end_time": "2022-11-25T00:40:21.758119",
     "exception": false,
     "start_time": "2022-11-25T00:40:21.690024",
     "status": "completed"
    },
    "tags": []
   },
   "outputs": [],
   "source": [
    "new_model = Model(layers[:-2])\n",
    "testing_plot = new_model(testing_data_x)"
   ]
  },
  {
   "cell_type": "code",
   "execution_count": 26,
   "id": "4c0a5485",
   "metadata": {
    "execution": {
     "iopub.execute_input": "2022-11-25T00:40:21.858405Z",
     "iopub.status.busy": "2022-11-25T00:40:21.857815Z",
     "iopub.status.idle": "2022-11-25T00:40:22.053863Z",
     "shell.execute_reply": "2022-11-25T00:40:22.052875Z"
    },
    "papermill": {
     "duration": 0.25285,
     "end_time": "2022-11-25T00:40:22.054006",
     "exception": false,
     "start_time": "2022-11-25T00:40:21.801156",
     "status": "completed"
    },
    "tags": []
   },
   "outputs": [
    {
     "data": {
      "text/plain": [
       "Text(0.5, 1.0, 'Outputs')"
      ]
     },
     "execution_count": 26,
     "metadata": {},
     "output_type": "execute_result"
    },
    {
     "data": {
      "image/png": "[encoded data removed]",
      "text/plain": [
       "<Figure size 576x504 with 1 Axes>"
      ]
     },
     "metadata": {
      "needs_background": "light"
     },
     "output_type": "display_data"
    }
   ],
   "source": [
    "# Plotting the scatter plot of points and color coding by class\n",
    "plt.figure(figsize=(8,7))\n",
    "plt.scatter(testing_plot[:,0], testing_plot[:,1], alpha = 0.1, c = y_test.ravel());\n",
    "plt.title('Outputs')"
   ]
  },
  {
   "cell_type": "markdown",
   "id": "a74fcf8f",
   "metadata": {
    "papermill": {
     "duration": 0.043697,
     "end_time": "2022-11-25T00:40:22.141904",
     "exception": false,
     "start_time": "2022-11-25T00:40:22.098207",
     "status": "completed"
    },
    "tags": []
   },
   "source": [
    "Probability contours"
   ]
  },
  {
   "cell_type": "code",
   "execution_count": 27,
   "id": "d0afc8e3",
   "metadata": {
    "execution": {
     "iopub.execute_input": "2022-11-25T00:40:22.260183Z",
     "iopub.status.busy": "2022-11-25T00:40:22.259596Z",
     "iopub.status.idle": "2022-11-25T00:40:22.271591Z",
     "shell.execute_reply": "2022-11-25T00:40:22.272146Z"
    },
    "papermill": {
     "duration": 0.086345,
     "end_time": "2022-11-25T00:40:22.272278",
     "exception": false,
     "start_time": "2022-11-25T00:40:22.185933",
     "status": "completed"
    },
    "tags": []
   },
   "outputs": [],
   "source": [
    "model_prob = Model(layers[-2:]) "
   ]
  },
  {
   "cell_type": "code",
   "execution_count": 28,
   "id": "9b96e238",
   "metadata": {
    "execution": {
     "iopub.execute_input": "2022-11-25T00:40:22.366808Z",
     "iopub.status.busy": "2022-11-25T00:40:22.366213Z",
     "iopub.status.idle": "2022-11-25T00:40:22.378774Z",
     "shell.execute_reply": "2022-11-25T00:40:22.379205Z"
    },
    "papermill": {
     "duration": 0.062724,
     "end_time": "2022-11-25T00:40:22.379341",
     "exception": false,
     "start_time": "2022-11-25T00:40:22.316617",
     "status": "completed"
    },
    "tags": []
   },
   "outputs": [],
   "source": [
    "#creating the x and y ranges according to the above generated plot.\n",
    "x_range = np.linspace(-4, 1, 100) \n",
    "y_range = np.linspace(-6, 6, 100) \n",
    "x_grid, y_grid = np.meshgrid(x_range, y_range) # x_grid and y_grig are of size 100 X 100\n",
    "\n",
    "# converting x_grid and y_grid to continuous arrays\n",
    "x_gridflat = np.ravel(x_grid)\n",
    "y_gridflat = np.ravel(y_grid)\n",
    "\n",
    "# The last layer of the current model takes two columns as input. Hence transpose of np.vstack() is required.\n",
    "X = np.vstack((x_gridflat, y_gridflat)).T\n",
    "\n",
    "prob_contour = model_prob(X).reshape(100,100) "
   ]
  },
  {
   "cell_type": "code",
   "execution_count": 29,
   "id": "da72499a",
   "metadata": {
    "execution": {
     "iopub.execute_input": "2022-11-25T00:40:22.478579Z",
     "iopub.status.busy": "2022-11-25T00:40:22.477984Z",
     "iopub.status.idle": "2022-11-25T00:40:22.720321Z",
     "shell.execute_reply": "2022-11-25T00:40:22.719485Z"
    },
    "papermill": {
     "duration": 0.296105,
     "end_time": "2022-11-25T00:40:22.720451",
     "exception": false,
     "start_time": "2022-11-25T00:40:22.424346",
     "status": "completed"
    },
    "tags": []
   },
   "outputs": [
    {
     "data": {
      "image/png": "[encoded data removed]",
      "text/plain": [
       "<Figure size 720x648 with 1 Axes>"
      ]
     },
     "metadata": {
      "needs_background": "light"
     },
     "output_type": "display_data"
    }
   ],
   "source": [
    "plt.figure(figsize=(10,9))\n",
    "plt.scatter(testing_plot[:,0], testing_plot[:,1], alpha = 0.1, c = y_test.ravel())\n",
    "contours = plt.contour(x_grid,y_grid,prob_contour)\n",
    "plt.title('Probability Contours')\n",
    "plt.clabel(contours, inline = True );"
   ]
  },
  {
   "cell_type": "code",
   "execution_count": null,
   "id": "e81b4ac7",
   "metadata": {
    "papermill": {
     "duration": 0.046612,
     "end_time": "2022-11-25T00:40:22.814286",
     "exception": false,
     "start_time": "2022-11-25T00:40:22.767674",
     "status": "completed"
    },
    "tags": []
   },
   "outputs": [],
   "source": []
  }
 ],
 "metadata": {
  "kernelspec": {
   "display_name": "Python 3",
   "language": "python",
   "name": "python3"
  },
  "language_info": {
   "codemirror_mode": {
    "name": "ipython",
    "version": 3
   },
   "file_extension": ".py",
   "mimetype": "text/x-python",
   "name": "python",
   "nbconvert_exporter": "python",
   "pygments_lexer": "ipython3",
   "version": "3.6.15"
  },
  "papermill": {
   "default_parameters": {},
   "duration": 96.903857,
   "end_time": "2022-11-25T00:40:23.279394",
   "environment_variables": {},
   "exception": null,
   "input_path": "2020-08-11-part2.ipynb",
   "output_path": "2020-08-11-part2.ipynb",
   "parameters": {},
   "start_time": "2022-11-25T00:38:46.375537",
   "version": "2.3.3"
  }
 },
 "nbformat": 4,
 "nbformat_minor": 5
}