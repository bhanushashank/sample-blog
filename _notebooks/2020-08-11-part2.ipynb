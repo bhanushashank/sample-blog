{
 "cells": [
  {
   "cell_type": "markdown",
   "id": "98380cd3",
   "metadata": {
    "papermill": {
     "duration": 0.029727,
     "end_time": "2022-10-29T20:10:25.558537",
     "exception": false,
     "start_time": "2022-10-29T20:10:25.528810",
     "status": "completed"
    },
    "tags": []
   },
   "source": [
    "# Distinguish Your Own Digits (DYOD)"
   ]
  },
  {
   "cell_type": "markdown",
   "id": "ef31240d",
   "metadata": {
    "papermill": {
     "duration": 0.023757,
     "end_time": "2022-10-29T20:10:25.606830",
     "exception": false,
     "start_time": "2022-10-29T20:10:25.583073",
     "status": "completed"
    },
    "tags": []
   },
   "source": [
    "You are going to write a classifier that distinguishes between the number 3 and number 8."
   ]
  },
  {
   "cell_type": "code",
   "execution_count": 1,
   "id": "b15c8646",
   "metadata": {
    "execution": {
     "iopub.execute_input": "2022-10-29T20:10:25.664471Z",
     "iopub.status.busy": "2022-10-29T20:10:25.663866Z",
     "iopub.status.idle": "2022-10-29T20:10:25.674634Z",
     "shell.execute_reply": "2022-10-29T20:10:25.674147Z"
    },
    "papermill": {
     "duration": 0.044328,
     "end_time": "2022-10-29T20:10:25.674756",
     "exception": false,
     "start_time": "2022-10-29T20:10:25.630428",
     "status": "completed"
    },
    "tags": []
   },
   "outputs": [],
   "source": [
    "%load_ext autoreload\n",
    "%autoreload 2"
   ]
  },
  {
   "cell_type": "code",
   "execution_count": 2,
   "id": "22ef38dc",
   "metadata": {
    "execution": {
     "iopub.execute_input": "2022-10-29T20:10:25.726098Z",
     "iopub.status.busy": "2022-10-29T20:10:25.725512Z",
     "iopub.status.idle": "2022-10-29T20:10:26.251079Z",
     "shell.execute_reply": "2022-10-29T20:10:26.250481Z"
    },
    "papermill": {
     "duration": 0.55278,
     "end_time": "2022-10-29T20:10:26.251218",
     "exception": false,
     "start_time": "2022-10-29T20:10:25.698438",
     "status": "completed"
    },
    "tags": []
   },
   "outputs": [],
   "source": [
    "%matplotlib inline\n",
    "import numpy as np\n",
    "import matplotlib.pyplot as plt\n",
    "import pandas as pd"
   ]
  },
  {
   "cell_type": "markdown",
   "id": "ba036198",
   "metadata": {
    "papermill": {
     "duration": 0.023682,
     "end_time": "2022-10-29T20:10:26.299285",
     "exception": false,
     "start_time": "2022-10-29T20:10:26.275603",
     "status": "completed"
    },
    "tags": []
   },
   "source": [
    "From the command line run `pip install mnist`. This is a library that will help you bring down the mnist dataset. If you run this from a notebook, you need to put  `!pip install mnist` in a cell by itself."
   ]
  },
  {
   "cell_type": "code",
   "execution_count": 3,
   "id": "bb6ad8a1",
   "metadata": {
    "execution": {
     "iopub.execute_input": "2022-10-29T20:10:26.351222Z",
     "iopub.status.busy": "2022-10-29T20:10:26.350589Z",
     "iopub.status.idle": "2022-10-29T20:10:28.037133Z",
     "shell.execute_reply": "2022-10-29T20:10:28.036557Z"
    },
    "papermill": {
     "duration": 1.714124,
     "end_time": "2022-10-29T20:10:28.037268",
     "exception": false,
     "start_time": "2022-10-29T20:10:26.323144",
     "status": "completed"
    },
    "tags": []
   },
   "outputs": [
    {
     "name": "stdout",
     "output_type": "stream",
     "text": [
      "Collecting mnist\r\n"
     ]
    },
    {
     "name": "stdout",
     "output_type": "stream",
     "text": [
      "  Downloading mnist-0.2.2-py2.py3-none-any.whl (3.5 kB)\r\n",
      "Requirement already satisfied: numpy in /opt/hostedtoolcache/Python/3.6.15/x64/lib/python3.6/site-packages (from mnist) (1.19.5)\r\n"
     ]
    },
    {
     "name": "stdout",
     "output_type": "stream",
     "text": [
      "Installing collected packages: mnist\r\n"
     ]
    },
    {
     "name": "stdout",
     "output_type": "stream",
     "text": [
      "Successfully installed mnist-0.2.2\r\n"
     ]
    }
   ],
   "source": [
    "!pip install mnist"
   ]
  },
  {
   "cell_type": "markdown",
   "id": "69df9c9a",
   "metadata": {
    "papermill": {
     "duration": 0.024946,
     "end_time": "2022-10-29T20:10:28.088096",
     "exception": false,
     "start_time": "2022-10-29T20:10:28.063150",
     "status": "completed"
    },
    "tags": []
   },
   "source": [
    "## Preparing the Data"
   ]
  },
  {
   "cell_type": "code",
   "execution_count": 4,
   "id": "7f69d806",
   "metadata": {
    "execution": {
     "iopub.execute_input": "2022-10-29T20:10:28.141730Z",
     "iopub.status.busy": "2022-10-29T20:10:28.141150Z",
     "iopub.status.idle": "2022-10-29T20:10:28.156478Z",
     "shell.execute_reply": "2022-10-29T20:10:28.156005Z"
    },
    "papermill": {
     "duration": 0.043712,
     "end_time": "2022-10-29T20:10:28.156585",
     "exception": false,
     "start_time": "2022-10-29T20:10:28.112873",
     "status": "completed"
    },
    "tags": []
   },
   "outputs": [],
   "source": [
    "import mnist"
   ]
  },
  {
   "cell_type": "code",
   "execution_count": 5,
   "id": "a411e44f",
   "metadata": {
    "execution": {
     "iopub.execute_input": "2022-10-29T20:10:28.209799Z",
     "iopub.status.busy": "2022-10-29T20:10:28.209225Z",
     "iopub.status.idle": "2022-10-29T20:10:28.881626Z",
     "shell.execute_reply": "2022-10-29T20:10:28.881036Z"
    },
    "papermill": {
     "duration": 0.70043,
     "end_time": "2022-10-29T20:10:28.881755",
     "exception": false,
     "start_time": "2022-10-29T20:10:28.181325",
     "status": "completed"
    },
    "tags": []
   },
   "outputs": [],
   "source": [
    "train_images = mnist.train_images()\n",
    "train_labels = mnist.train_labels()"
   ]
  },
  {
   "cell_type": "code",
   "execution_count": 6,
   "id": "dceab3a5",
   "metadata": {
    "execution": {
     "iopub.execute_input": "2022-10-29T20:10:28.939299Z",
     "iopub.status.busy": "2022-10-29T20:10:28.938673Z",
     "iopub.status.idle": "2022-10-29T20:10:28.951129Z",
     "shell.execute_reply": "2022-10-29T20:10:28.951671Z"
    },
    "papermill": {
     "duration": 0.04435,
     "end_time": "2022-10-29T20:10:28.951795",
     "exception": false,
     "start_time": "2022-10-29T20:10:28.907445",
     "status": "completed"
    },
    "tags": []
   },
   "outputs": [
    {
     "data": {
      "text/plain": [
       "((60000, 28, 28), (60000,))"
      ]
     },
     "execution_count": 6,
     "metadata": {},
     "output_type": "execute_result"
    }
   ],
   "source": [
    "train_images.shape, train_labels.shape"
   ]
  },
  {
   "cell_type": "code",
   "execution_count": 7,
   "id": "f50dc2bb",
   "metadata": {
    "execution": {
     "iopub.execute_input": "2022-10-29T20:10:29.005550Z",
     "iopub.status.busy": "2022-10-29T20:10:29.004980Z",
     "iopub.status.idle": "2022-10-29T20:10:29.348892Z",
     "shell.execute_reply": "2022-10-29T20:10:29.348293Z"
    },
    "papermill": {
     "duration": 0.372286,
     "end_time": "2022-10-29T20:10:29.349020",
     "exception": false,
     "start_time": "2022-10-29T20:10:28.976734",
     "status": "completed"
    },
    "tags": []
   },
   "outputs": [],
   "source": [
    "test_images = mnist.test_images()\n",
    "test_labels = mnist.test_labels()"
   ]
  },
  {
   "cell_type": "code",
   "execution_count": 8,
   "id": "fc38cf1b",
   "metadata": {
    "execution": {
     "iopub.execute_input": "2022-10-29T20:10:29.404045Z",
     "iopub.status.busy": "2022-10-29T20:10:29.403463Z",
     "iopub.status.idle": "2022-10-29T20:10:29.417045Z",
     "shell.execute_reply": "2022-10-29T20:10:29.416574Z"
    },
    "papermill": {
     "duration": 0.041919,
     "end_time": "2022-10-29T20:10:29.417151",
     "exception": false,
     "start_time": "2022-10-29T20:10:29.375232",
     "status": "completed"
    },
    "tags": []
   },
   "outputs": [
    {
     "data": {
      "text/plain": [
       "((10000, 28, 28), (10000,))"
      ]
     },
     "execution_count": 8,
     "metadata": {},
     "output_type": "execute_result"
    }
   ],
   "source": [
    "test_images.shape, test_labels.shape"
   ]
  },
  {
   "cell_type": "code",
   "execution_count": 9,
   "id": "f9ed8fe0",
   "metadata": {
    "execution": {
     "iopub.execute_input": "2022-10-29T20:10:29.471827Z",
     "iopub.status.busy": "2022-10-29T20:10:29.471241Z",
     "iopub.status.idle": "2022-10-29T20:10:29.610360Z",
     "shell.execute_reply": "2022-10-29T20:10:29.609888Z"
    },
    "papermill": {
     "duration": 0.168119,
     "end_time": "2022-10-29T20:10:29.610481",
     "exception": false,
     "start_time": "2022-10-29T20:10:29.442362",
     "status": "completed"
    },
    "tags": []
   },
   "outputs": [
    {
     "name": "stdout",
     "output_type": "stream",
     "text": [
      "2\n"
     ]
    },
    {
     "data": {
      "text/plain": [
       "<matplotlib.image.AxesImage at 0x7f22745f9d30>"
      ]
     },
     "execution_count": 9,
     "metadata": {},
     "output_type": "execute_result"
    },
    {
     "data": {
      "image/png": "[encoded data removed]",
      "text/plain": [
       "<Figure size 432x288 with 1 Axes>"
      ]
     },
     "metadata": {
      "needs_background": "light"
     },
     "output_type": "display_data"
    }
   ],
   "source": [
    "image_index = 7776 # You may select anything up to 60,000\n",
    "print(train_labels[image_index]) \n",
    "plt.imshow(train_images[image_index], cmap='Greys')"
   ]
  },
  {
   "cell_type": "markdown",
   "id": "a8d2388d",
   "metadata": {
    "papermill": {
     "duration": 0.027002,
     "end_time": "2022-10-29T20:10:29.664310",
     "exception": false,
     "start_time": "2022-10-29T20:10:29.637308",
     "status": "completed"
    },
    "tags": []
   },
   "source": [
    "## Filter data to get 3 and 8 out"
   ]
  },
  {
   "cell_type": "code",
   "execution_count": 10,
   "id": "776f7fc7",
   "metadata": {
    "execution": {
     "iopub.execute_input": "2022-10-29T20:10:29.723198Z",
     "iopub.status.busy": "2022-10-29T20:10:29.722555Z",
     "iopub.status.idle": "2022-10-29T20:10:29.740031Z",
     "shell.execute_reply": "2022-10-29T20:10:29.739542Z"
    },
    "papermill": {
     "duration": 0.049377,
     "end_time": "2022-10-29T20:10:29.740145",
     "exception": false,
     "start_time": "2022-10-29T20:10:29.690768",
     "status": "completed"
    },
    "tags": []
   },
   "outputs": [],
   "source": [
    "train_filter = np.where((train_labels == 3 ) | (train_labels == 8))\n",
    "test_filter = np.where((test_labels == 3) | (test_labels == 8))\n",
    "X_train, y_train = train_images[train_filter], train_labels[train_filter]\n",
    "X_test, y_test = test_images[test_filter], test_labels[test_filter]"
   ]
  },
  {
   "cell_type": "markdown",
   "id": "948f0b7e",
   "metadata": {
    "papermill": {
     "duration": 0.02672,
     "end_time": "2022-10-29T20:10:29.793468",
     "exception": false,
     "start_time": "2022-10-29T20:10:29.766748",
     "status": "completed"
    },
    "tags": []
   },
   "source": [
    "We normalize the pizel values in the 0 to 1 range"
   ]
  },
  {
   "cell_type": "code",
   "execution_count": 11,
   "id": "ee4c2166",
   "metadata": {
    "execution": {
     "iopub.execute_input": "2022-10-29T20:10:29.850190Z",
     "iopub.status.busy": "2022-10-29T20:10:29.849602Z",
     "iopub.status.idle": "2022-10-29T20:10:29.897115Z",
     "shell.execute_reply": "2022-10-29T20:10:29.896556Z"
    },
    "papermill": {
     "duration": 0.077414,
     "end_time": "2022-10-29T20:10:29.897254",
     "exception": false,
     "start_time": "2022-10-29T20:10:29.819840",
     "status": "completed"
    },
    "tags": []
   },
   "outputs": [],
   "source": [
    "X_train = X_train/255.\n",
    "X_test = X_test/255."
   ]
  },
  {
   "cell_type": "markdown",
   "id": "ddcf4fab",
   "metadata": {
    "papermill": {
     "duration": 0.026855,
     "end_time": "2022-10-29T20:10:29.951543",
     "exception": false,
     "start_time": "2022-10-29T20:10:29.924688",
     "status": "completed"
    },
    "tags": []
   },
   "source": [
    "And setup the labels as 1 (when the digit is 3) and 0 (when the digit is 8)"
   ]
  },
  {
   "cell_type": "code",
   "execution_count": 12,
   "id": "7dc908f2",
   "metadata": {
    "execution": {
     "iopub.execute_input": "2022-10-29T20:10:30.020800Z",
     "iopub.status.busy": "2022-10-29T20:10:30.020185Z",
     "iopub.status.idle": "2022-10-29T20:10:30.027357Z",
     "shell.execute_reply": "2022-10-29T20:10:30.026542Z"
    },
    "papermill": {
     "duration": 0.049214,
     "end_time": "2022-10-29T20:10:30.027473",
     "exception": false,
     "start_time": "2022-10-29T20:10:29.978259",
     "status": "completed"
    },
    "tags": []
   },
   "outputs": [],
   "source": [
    "y_train = 1*(y_train==3)\n",
    "y_test = 1*(y_test==3)"
   ]
  },
  {
   "cell_type": "code",
   "execution_count": 13,
   "id": "01e4e969",
   "metadata": {
    "execution": {
     "iopub.execute_input": "2022-10-29T20:10:30.098662Z",
     "iopub.status.busy": "2022-10-29T20:10:30.096004Z",
     "iopub.status.idle": "2022-10-29T20:10:30.101837Z",
     "shell.execute_reply": "2022-10-29T20:10:30.102266Z"
    },
    "papermill": {
     "duration": 0.048324,
     "end_time": "2022-10-29T20:10:30.102401",
     "exception": false,
     "start_time": "2022-10-29T20:10:30.054077",
     "status": "completed"
    },
    "tags": []
   },
   "outputs": [
    {
     "data": {
      "text/plain": [
       "((11982, 28, 28), (1984, 28, 28))"
      ]
     },
     "execution_count": 13,
     "metadata": {},
     "output_type": "execute_result"
    }
   ],
   "source": [
    "X_train.shape, X_test.shape"
   ]
  },
  {
   "cell_type": "markdown",
   "id": "5ccf3f85",
   "metadata": {
    "papermill": {
     "duration": 0.026555,
     "end_time": "2022-10-29T20:10:30.155614",
     "exception": false,
     "start_time": "2022-10-29T20:10:30.129059",
     "status": "completed"
    },
    "tags": []
   },
   "source": [
    "We reshape the data to flatten the image pixels into a set of features or co-variates:"
   ]
  },
  {
   "cell_type": "code",
   "execution_count": 14,
   "id": "5286a4a3",
   "metadata": {
    "execution": {
     "iopub.execute_input": "2022-10-29T20:10:30.224130Z",
     "iopub.status.busy": "2022-10-29T20:10:30.215679Z",
     "iopub.status.idle": "2022-10-29T20:10:30.227288Z",
     "shell.execute_reply": "2022-10-29T20:10:30.227718Z"
    },
    "papermill": {
     "duration": 0.045426,
     "end_time": "2022-10-29T20:10:30.227846",
     "exception": false,
     "start_time": "2022-10-29T20:10:30.182420",
     "status": "completed"
    },
    "tags": []
   },
   "outputs": [
    {
     "data": {
      "text/plain": [
       "((11982, 784), (1984, 784))"
      ]
     },
     "execution_count": 14,
     "metadata": {},
     "output_type": "execute_result"
    }
   ],
   "source": [
    "X_train = X_train.reshape(X_train.shape[0], -1)\n",
    "X_test = X_test.reshape(X_test.shape[0], -1)\n",
    "X_train.shape, X_test.shape"
   ]
  },
  {
   "cell_type": "code",
   "execution_count": 15,
   "id": "73c5f88a",
   "metadata": {
    "execution": {
     "iopub.execute_input": "2022-10-29T20:10:30.299938Z",
     "iopub.status.busy": "2022-10-29T20:10:30.294747Z",
     "iopub.status.idle": "2022-10-29T20:10:30.309299Z",
     "shell.execute_reply": "2022-10-29T20:10:30.308824Z"
    },
    "papermill": {
     "duration": 0.054821,
     "end_time": "2022-10-29T20:10:30.309406",
     "exception": false,
     "start_time": "2022-10-29T20:10:30.254585",
     "status": "completed"
    },
    "tags": []
   },
   "outputs": [],
   "source": [
    "#Impoting functions from 'Kudzu'\n",
    "from kudzu.model import Model\n",
    "from kudzu.train import Learner\n",
    "from kudzu.optim import GD\n",
    "from kudzu.data import Data, Sampler,Dataloader\n",
    "\n",
    "from kudzu.callbacks import AccCallback\n",
    "from kudzu.callbacks import ClfCallback\n",
    "\n",
    "from kudzu.loss import MSE\n",
    "\n",
    "from kudzu.layer import Sigmoid,Relu\n",
    "from kudzu.layer import Affine"
   ]
  },
  {
   "cell_type": "markdown",
   "id": "bc01172a",
   "metadata": {
    "papermill": {
     "duration": 0.026988,
     "end_time": "2022-10-29T20:10:30.363431",
     "exception": false,
     "start_time": "2022-10-29T20:10:30.336443",
     "status": "completed"
    },
    "tags": []
   },
   "source": [
    "### Let us create a `Config` class, to store important parameters. \n",
    "This class essentially plays the role of a dictionary."
   ]
  },
  {
   "cell_type": "code",
   "execution_count": 16,
   "id": "978281aa",
   "metadata": {
    "execution": {
     "iopub.execute_input": "2022-10-29T20:10:30.421262Z",
     "iopub.status.busy": "2022-10-29T20:10:30.420666Z",
     "iopub.status.idle": "2022-10-29T20:10:30.434210Z",
     "shell.execute_reply": "2022-10-29T20:10:30.433748Z"
    },
    "papermill": {
     "duration": 0.044146,
     "end_time": "2022-10-29T20:10:30.434330",
     "exception": false,
     "start_time": "2022-10-29T20:10:30.390184",
     "status": "completed"
    },
    "tags": []
   },
   "outputs": [],
   "source": [
    "class Config:\n",
    "    pass\n",
    "config = Config()\n",
    "config.lr = 0.001\n",
    "config.num_epochs = 250\n",
    "config.bs = 50"
   ]
  },
  {
   "cell_type": "markdown",
   "id": "1385fa59",
   "metadata": {
    "papermill": {
     "duration": 0.027017,
     "end_time": "2022-10-29T20:10:30.488796",
     "exception": false,
     "start_time": "2022-10-29T20:10:30.461779",
     "status": "completed"
    },
    "tags": []
   },
   "source": [
    "### Running Models with the Training data\n",
    "Details about the network layers:\n",
    "- A first affine layer has 784 inputs and does 100 affine transforms. These are followed by a Relu\n",
    "- A second affine layer has 100 inputs from the 100 activations of the past layer, and does 100 affine transforms. These are followed by a Relu\n",
    "- A third affine layer has 100 activations and does 2 affine transformations to create an embedding for visualization. There is no non-linearity here.\n",
    "- A final \"logistic regression\" which has an affine transform from 2 inputs to 1 output, which is squeezed through a sigmoid.\n"
   ]
  },
  {
   "cell_type": "code",
   "execution_count": 17,
   "id": "2b9c66db",
   "metadata": {
    "execution": {
     "iopub.execute_input": "2022-10-29T20:10:30.549469Z",
     "iopub.status.busy": "2022-10-29T20:10:30.548885Z",
     "iopub.status.idle": "2022-10-29T20:10:30.561692Z",
     "shell.execute_reply": "2022-10-29T20:10:30.561219Z"
    },
    "papermill": {
     "duration": 0.04368,
     "end_time": "2022-10-29T20:10:30.561799",
     "exception": false,
     "start_time": "2022-10-29T20:10:30.518119",
     "status": "completed"
    },
    "tags": []
   },
   "outputs": [],
   "source": [
    "data = Data(X_train, y_train.reshape(-1,1))\n",
    "sampler = Sampler(data, config.bs, shuffle=True)\n",
    "\n",
    "dl = Dataloader(data, sampler)\n",
    "\n",
    "opt = GD(config.lr)\n",
    "loss = MSE()"
   ]
  },
  {
   "cell_type": "code",
   "execution_count": 18,
   "id": "b275e4c2",
   "metadata": {
    "execution": {
     "iopub.execute_input": "2022-10-29T20:10:30.618914Z",
     "iopub.status.busy": "2022-10-29T20:10:30.618288Z",
     "iopub.status.idle": "2022-10-29T20:10:30.630915Z",
     "shell.execute_reply": "2022-10-29T20:10:30.630421Z"
    },
    "papermill": {
     "duration": 0.042408,
     "end_time": "2022-10-29T20:10:30.631025",
     "exception": false,
     "start_time": "2022-10-29T20:10:30.588617",
     "status": "completed"
    },
    "tags": []
   },
   "outputs": [],
   "source": [
    "training_data_x = X_train\n",
    "testing_data_x = X_test\n",
    "training_data_y = y_train.reshape(-1,1)\n",
    "testing_data_y = y_test.reshape(-1,1)"
   ]
  },
  {
   "cell_type": "code",
   "execution_count": 19,
   "id": "76951160",
   "metadata": {
    "execution": {
     "iopub.execute_input": "2022-10-29T20:10:30.692171Z",
     "iopub.status.busy": "2022-10-29T20:10:30.691491Z",
     "iopub.status.idle": "2022-10-29T20:10:30.705490Z",
     "shell.execute_reply": "2022-10-29T20:10:30.705963Z"
    },
    "papermill": {
     "duration": 0.048312,
     "end_time": "2022-10-29T20:10:30.706084",
     "exception": false,
     "start_time": "2022-10-29T20:10:30.657772",
     "status": "completed"
    },
    "tags": []
   },
   "outputs": [
    {
     "name": "stdout",
     "output_type": "stream",
     "text": [
      "xavier\n",
      "xavier\n",
      "xavier\n",
      "xavier\n",
      "xavier\n"
     ]
    }
   ],
   "source": [
    "layers = [Affine(\"first\", 784, 100), Relu(\"first\"), Affine(\"second\", 100, 100), Relu(\"second\"), Affine(\"third\", 100, 2), Affine(\"last\", 2, 1), Sigmoid(\"last\")]\n",
    "model_nn = Model(layers)\n",
    "model_lr = Model([Affine(\"logits\", 784, 1), Sigmoid(\"sigmoid\")])"
   ]
  },
  {
   "cell_type": "code",
   "execution_count": 20,
   "id": "6eede77a",
   "metadata": {
    "execution": {
     "iopub.execute_input": "2022-10-29T20:10:30.765981Z",
     "iopub.status.busy": "2022-10-29T20:10:30.765396Z",
     "iopub.status.idle": "2022-10-29T20:10:30.777628Z",
     "shell.execute_reply": "2022-10-29T20:10:30.778046Z"
    },
    "papermill": {
     "duration": 0.044874,
     "end_time": "2022-10-29T20:10:30.778169",
     "exception": false,
     "start_time": "2022-10-29T20:10:30.733295",
     "status": "completed"
    },
    "tags": []
   },
   "outputs": [],
   "source": [
    "nn_learner = Learner(loss, model_nn, opt, config.num_epochs)\n",
    "acc_nn = ClfCallback(nn_learner, config.bs, training_data_x , testing_data_x, training_data_y, testing_data_y)\n",
    "nn_learner.set_callbacks([acc_nn])"
   ]
  },
  {
   "cell_type": "code",
   "execution_count": 21,
   "id": "877b6cc7",
   "metadata": {
    "execution": {
     "iopub.execute_input": "2022-10-29T20:10:30.835894Z",
     "iopub.status.busy": "2022-10-29T20:10:30.835321Z",
     "iopub.status.idle": "2022-10-29T20:10:30.847124Z",
     "shell.execute_reply": "2022-10-29T20:10:30.847598Z"
    },
    "papermill": {
     "duration": 0.042453,
     "end_time": "2022-10-29T20:10:30.847714",
     "exception": false,
     "start_time": "2022-10-29T20:10:30.805261",
     "status": "completed"
    },
    "tags": []
   },
   "outputs": [],
   "source": [
    "lr_learner = Learner(loss, model_lr, opt, config.num_epochs)\n",
    "acc_lr = ClfCallback(lr_learner, config.bs, training_data_x , testing_data_x, training_data_y, testing_data_y)\n",
    "lr_learner.set_callbacks([acc_lr])"
   ]
  },
  {
   "cell_type": "code",
   "execution_count": 22,
   "id": "d9b133c3",
   "metadata": {
    "execution": {
     "iopub.execute_input": "2022-10-29T20:10:30.905525Z",
     "iopub.status.busy": "2022-10-29T20:10:30.904960Z",
     "iopub.status.idle": "2022-10-29T20:11:44.710529Z",
     "shell.execute_reply": "2022-10-29T20:11:44.711387Z"
    },
    "papermill": {
     "duration": 73.836584,
     "end_time": "2022-10-29T20:11:44.711529",
     "exception": false,
     "start_time": "2022-10-29T20:10:30.874945",
     "status": "completed"
    },
    "tags": []
   },
   "outputs": [
    {
     "name": "stdout",
     "output_type": "stream",
     "text": [
      "Epoch 0, Loss 0.2475\n",
      "Training Accuracy: 0.5215, Testing Accuracy: 0.5161\n",
      "\n"
     ]
    },
    {
     "name": "stdout",
     "output_type": "stream",
     "text": [
      "Epoch 10, Loss 0.1737\n",
      "Training Accuracy: 0.8914, Testing Accuracy: 0.9017\n",
      "\n"
     ]
    },
    {
     "name": "stdout",
     "output_type": "stream",
     "text": [
      "Epoch 20, Loss 0.0841\n",
      "Training Accuracy: 0.9266, Testing Accuracy: 0.9375\n",
      "\n"
     ]
    },
    {
     "name": "stdout",
     "output_type": "stream",
     "text": [
      "Epoch 30, Loss 0.0553\n",
      "Training Accuracy: 0.9450, Testing Accuracy: 0.9526\n",
      "\n"
     ]
    },
    {
     "name": "stdout",
     "output_type": "stream",
     "text": [
      "Epoch 40, Loss 0.0442\n",
      "Training Accuracy: 0.9524, Testing Accuracy: 0.9597\n",
      "\n"
     ]
    },
    {
     "name": "stdout",
     "output_type": "stream",
     "text": [
      "Epoch 50, Loss 0.0384\n",
      "Training Accuracy: 0.9583, Testing Accuracy: 0.9637\n",
      "\n"
     ]
    },
    {
     "name": "stdout",
     "output_type": "stream",
     "text": [
      "Epoch 60, Loss 0.0349\n",
      "Training Accuracy: 0.9609, Testing Accuracy: 0.9662\n",
      "\n"
     ]
    },
    {
     "name": "stdout",
     "output_type": "stream",
     "text": [
      "Epoch 70, Loss 0.0324\n",
      "Training Accuracy: 0.9629, Testing Accuracy: 0.9682\n",
      "\n"
     ]
    },
    {
     "name": "stdout",
     "output_type": "stream",
     "text": [
      "Epoch 80, Loss 0.0306\n",
      "Training Accuracy: 0.9649, Testing Accuracy: 0.9698\n",
      "\n"
     ]
    },
    {
     "name": "stdout",
     "output_type": "stream",
     "text": [
      "Epoch 90, Loss 0.0291\n",
      "Training Accuracy: 0.9664, Testing Accuracy: 0.9728\n",
      "\n"
     ]
    },
    {
     "name": "stdout",
     "output_type": "stream",
     "text": [
      "Epoch 100, Loss 0.0279\n",
      "Training Accuracy: 0.9676, Testing Accuracy: 0.9743\n",
      "\n"
     ]
    },
    {
     "name": "stdout",
     "output_type": "stream",
     "text": [
      "Epoch 110, Loss 0.0268\n",
      "Training Accuracy: 0.9687, Testing Accuracy: 0.9743\n",
      "\n"
     ]
    },
    {
     "name": "stdout",
     "output_type": "stream",
     "text": [
      "Epoch 120, Loss 0.0259\n",
      "Training Accuracy: 0.9693, Testing Accuracy: 0.9753\n",
      "\n"
     ]
    },
    {
     "name": "stdout",
     "output_type": "stream",
     "text": [
      "Epoch 130, Loss 0.0251\n",
      "Training Accuracy: 0.9700, Testing Accuracy: 0.9763\n",
      "\n"
     ]
    },
    {
     "name": "stdout",
     "output_type": "stream",
     "text": [
      "Epoch 140, Loss 0.0243\n",
      "Training Accuracy: 0.9705, Testing Accuracy: 0.9768\n",
      "\n"
     ]
    },
    {
     "name": "stdout",
     "output_type": "stream",
     "text": [
      "Epoch 150, Loss 0.0236\n",
      "Training Accuracy: 0.9716, Testing Accuracy: 0.9763\n",
      "\n"
     ]
    },
    {
     "name": "stdout",
     "output_type": "stream",
     "text": [
      "Epoch 160, Loss 0.023\n",
      "Training Accuracy: 0.9728, Testing Accuracy: 0.9753\n",
      "\n"
     ]
    },
    {
     "name": "stdout",
     "output_type": "stream",
     "text": [
      "Epoch 170, Loss 0.0224\n",
      "Training Accuracy: 0.9737, Testing Accuracy: 0.9758\n",
      "\n"
     ]
    },
    {
     "name": "stdout",
     "output_type": "stream",
     "text": [
      "Epoch 180, Loss 0.0219\n",
      "Training Accuracy: 0.9744, Testing Accuracy: 0.9753\n",
      "\n"
     ]
    },
    {
     "name": "stdout",
     "output_type": "stream",
     "text": [
      "Epoch 190, Loss 0.0214\n",
      "Training Accuracy: 0.9749, Testing Accuracy: 0.9758\n",
      "\n"
     ]
    },
    {
     "name": "stdout",
     "output_type": "stream",
     "text": [
      "Epoch 200, Loss 0.0209\n",
      "Training Accuracy: 0.9755, Testing Accuracy: 0.9758\n",
      "\n"
     ]
    },
    {
     "name": "stdout",
     "output_type": "stream",
     "text": [
      "Epoch 210, Loss 0.0204\n",
      "Training Accuracy: 0.9760, Testing Accuracy: 0.9758\n",
      "\n"
     ]
    },
    {
     "name": "stdout",
     "output_type": "stream",
     "text": [
      "Epoch 220, Loss 0.02\n",
      "Training Accuracy: 0.9769, Testing Accuracy: 0.9758\n",
      "\n"
     ]
    },
    {
     "name": "stdout",
     "output_type": "stream",
     "text": [
      "Epoch 230, Loss 0.0196\n",
      "Training Accuracy: 0.9774, Testing Accuracy: 0.9758\n",
      "\n"
     ]
    },
    {
     "name": "stdout",
     "output_type": "stream",
     "text": [
      "Epoch 240, Loss 0.0192\n",
      "Training Accuracy: 0.9779, Testing Accuracy: 0.9758\n",
      "\n"
     ]
    },
    {
     "data": {
      "text/plain": [
       "0.0029802932290387183"
      ]
     },
     "execution_count": 22,
     "metadata": {},
     "output_type": "execute_result"
    }
   ],
   "source": [
    "nn_learner.train_loop(dl)"
   ]
  },
  {
   "cell_type": "code",
   "execution_count": 23,
   "id": "e0163366",
   "metadata": {
    "execution": {
     "iopub.execute_input": "2022-10-29T20:11:44.792982Z",
     "iopub.status.busy": "2022-10-29T20:11:44.792385Z",
     "iopub.status.idle": "2022-10-29T20:11:58.021958Z",
     "shell.execute_reply": "2022-10-29T20:11:58.022809Z"
    },
    "papermill": {
     "duration": 13.276842,
     "end_time": "2022-10-29T20:11:58.022970",
     "exception": false,
     "start_time": "2022-10-29T20:11:44.746128",
     "status": "completed"
    },
    "tags": []
   },
   "outputs": [
    {
     "name": "stdout",
     "output_type": "stream",
     "text": [
      "Epoch 0, Loss 0.2543\n",
      "Training Accuracy: 0.6464, Testing Accuracy: 0.6915\n",
      "\n"
     ]
    },
    {
     "name": "stdout",
     "output_type": "stream",
     "text": [
      "Epoch 10, Loss 0.1055\n",
      "Training Accuracy: 0.9032, Testing Accuracy: 0.9173\n",
      "\n"
     ]
    },
    {
     "name": "stdout",
     "output_type": "stream",
     "text": [
      "Epoch 20, Loss 0.0808\n",
      "Training Accuracy: 0.9232, Testing Accuracy: 0.9370\n",
      "\n"
     ]
    },
    {
     "name": "stdout",
     "output_type": "stream",
     "text": [
      "Epoch 30, Loss 0.0693\n",
      "Training Accuracy: 0.9331, Testing Accuracy: 0.9456\n",
      "\n"
     ]
    },
    {
     "name": "stdout",
     "output_type": "stream",
     "text": [
      "Epoch 40, Loss 0.0625\n",
      "Training Accuracy: 0.9392, Testing Accuracy: 0.9491\n",
      "\n"
     ]
    },
    {
     "name": "stdout",
     "output_type": "stream",
     "text": [
      "Epoch 50, Loss 0.0578\n",
      "Training Accuracy: 0.9427, Testing Accuracy: 0.9526\n",
      "\n"
     ]
    },
    {
     "name": "stdout",
     "output_type": "stream",
     "text": [
      "Epoch 60, Loss 0.0543\n",
      "Training Accuracy: 0.9461, Testing Accuracy: 0.9577\n",
      "\n"
     ]
    },
    {
     "name": "stdout",
     "output_type": "stream",
     "text": [
      "Epoch 70, Loss 0.0517\n",
      "Training Accuracy: 0.9489, Testing Accuracy: 0.9577\n",
      "\n"
     ]
    },
    {
     "name": "stdout",
     "output_type": "stream",
     "text": [
      "Epoch 80, Loss 0.0495\n",
      "Training Accuracy: 0.9504, Testing Accuracy: 0.9607\n",
      "\n"
     ]
    },
    {
     "name": "stdout",
     "output_type": "stream",
     "text": [
      "Epoch 90, Loss 0.0478\n",
      "Training Accuracy: 0.9519, Testing Accuracy: 0.9607\n",
      "\n"
     ]
    },
    {
     "name": "stdout",
     "output_type": "stream",
     "text": [
      "Epoch 100, Loss 0.0463\n",
      "Training Accuracy: 0.9535, Testing Accuracy: 0.9617\n",
      "\n"
     ]
    },
    {
     "name": "stdout",
     "output_type": "stream",
     "text": [
      "Epoch 110, Loss 0.0451\n",
      "Training Accuracy: 0.9546, Testing Accuracy: 0.9627\n",
      "\n"
     ]
    },
    {
     "name": "stdout",
     "output_type": "stream",
     "text": [
      "Epoch 120, Loss 0.044\n",
      "Training Accuracy: 0.9561, Testing Accuracy: 0.9632\n",
      "\n"
     ]
    },
    {
     "name": "stdout",
     "output_type": "stream",
     "text": [
      "Epoch 130, Loss 0.043\n",
      "Training Accuracy: 0.9567, Testing Accuracy: 0.9637\n",
      "\n"
     ]
    },
    {
     "name": "stdout",
     "output_type": "stream",
     "text": [
      "Epoch 140, Loss 0.0422\n",
      "Training Accuracy: 0.9573, Testing Accuracy: 0.9637\n",
      "\n"
     ]
    },
    {
     "name": "stdout",
     "output_type": "stream",
     "text": [
      "Epoch 150, Loss 0.0414\n",
      "Training Accuracy: 0.9578, Testing Accuracy: 0.9637\n",
      "\n"
     ]
    },
    {
     "name": "stdout",
     "output_type": "stream",
     "text": [
      "Epoch 160, Loss 0.0407\n",
      "Training Accuracy: 0.9585, Testing Accuracy: 0.9637\n",
      "\n"
     ]
    },
    {
     "name": "stdout",
     "output_type": "stream",
     "text": [
      "Epoch 170, Loss 0.0401\n",
      "Training Accuracy: 0.9592, Testing Accuracy: 0.9657\n",
      "\n"
     ]
    },
    {
     "name": "stdout",
     "output_type": "stream",
     "text": [
      "Epoch 180, Loss 0.0395\n",
      "Training Accuracy: 0.9601, Testing Accuracy: 0.9652\n",
      "\n"
     ]
    },
    {
     "name": "stdout",
     "output_type": "stream",
     "text": [
      "Epoch 190, Loss 0.039\n",
      "Training Accuracy: 0.9604, Testing Accuracy: 0.9652\n",
      "\n"
     ]
    },
    {
     "name": "stdout",
     "output_type": "stream",
     "text": [
      "Epoch 200, Loss 0.0385\n",
      "Training Accuracy: 0.9608, Testing Accuracy: 0.9652\n",
      "\n"
     ]
    },
    {
     "name": "stdout",
     "output_type": "stream",
     "text": [
      "Epoch 210, Loss 0.038\n",
      "Training Accuracy: 0.9610, Testing Accuracy: 0.9652\n",
      "\n"
     ]
    },
    {
     "name": "stdout",
     "output_type": "stream",
     "text": [
      "Epoch 220, Loss 0.0376\n",
      "Training Accuracy: 0.9612, Testing Accuracy: 0.9652\n",
      "\n"
     ]
    },
    {
     "name": "stdout",
     "output_type": "stream",
     "text": [
      "Epoch 230, Loss 0.0372\n",
      "Training Accuracy: 0.9613, Testing Accuracy: 0.9657\n",
      "\n"
     ]
    },
    {
     "name": "stdout",
     "output_type": "stream",
     "text": [
      "Epoch 240, Loss 0.0369\n",
      "Training Accuracy: 0.9613, Testing Accuracy: 0.9657\n",
      "\n"
     ]
    },
    {
     "data": {
      "text/plain": [
       "0.023293578135797757"
      ]
     },
     "execution_count": 23,
     "metadata": {},
     "output_type": "execute_result"
    }
   ],
   "source": [
    "lr_learner.train_loop(dl)"
   ]
  },
  {
   "cell_type": "code",
   "execution_count": 24,
   "id": "ca410940",
   "metadata": {
    "execution": {
     "iopub.execute_input": "2022-10-29T20:11:58.120377Z",
     "iopub.status.busy": "2022-10-29T20:11:58.119776Z",
     "iopub.status.idle": "2022-10-29T20:11:58.337929Z",
     "shell.execute_reply": "2022-10-29T20:11:58.338450Z"
    },
    "papermill": {
     "duration": 0.274208,
     "end_time": "2022-10-29T20:11:58.338602",
     "exception": false,
     "start_time": "2022-10-29T20:11:58.064394",
     "status": "completed"
    },
    "tags": []
   },
   "outputs": [
    {
     "data": {
      "text/plain": [
       "<matplotlib.legend.Legend at 0x7f22741692e8>"
      ]
     },
     "execution_count": 24,
     "metadata": {},
     "output_type": "execute_result"
    },
    {
     "data": {
      "image/png": "[encoded data removed]",
      "text/plain": [
       "<Figure size 1080x720 with 1 Axes>"
      ]
     },
     "metadata": {
      "needs_background": "light"
     },
     "output_type": "display_data"
    }
   ],
   "source": [
    "#comparing the results of NN and LR\n",
    "plt.figure(figsize=(15,10))\n",
    "\n",
    "# Neural Network plots\n",
    "plt.plot(acc_nn.accuracies, 'r-', label = \"Training Accuracies - NN\")\n",
    "plt.plot(acc_nn.test_accuracies, 'g-', label = \"Testing Accuracies - NN\")\n",
    "\n",
    "# Logistic Regression plots\n",
    "plt.plot(acc_lr.accuracies, 'k-', label = \"Training Accuracies - LR\")\n",
    "plt.plot(acc_lr.test_accuracies, 'b-', label = \"Testing Accuracies - LR\")\n",
    "plt.legend()"
   ]
  },
  {
   "cell_type": "markdown",
   "id": "80dfb35c",
   "metadata": {
    "papermill": {
     "duration": 0.042372,
     "end_time": "2022-10-29T20:11:58.423627",
     "exception": false,
     "start_time": "2022-10-29T20:11:58.381255",
     "status": "completed"
    },
    "tags": []
   },
   "source": [
    "#### Plotting the outputs of this layer of the NN.\n"
   ]
  },
  {
   "cell_type": "code",
   "execution_count": 25,
   "id": "45eb2ff5",
   "metadata": {
    "execution": {
     "iopub.execute_input": "2022-10-29T20:11:58.518675Z",
     "iopub.status.busy": "2022-10-29T20:11:58.510464Z",
     "iopub.status.idle": "2022-10-29T20:11:58.533603Z",
     "shell.execute_reply": "2022-10-29T20:11:58.533142Z"
    },
    "papermill": {
     "duration": 0.068337,
     "end_time": "2022-10-29T20:11:58.533721",
     "exception": false,
     "start_time": "2022-10-29T20:11:58.465384",
     "status": "completed"
    },
    "tags": []
   },
   "outputs": [],
   "source": [
    "new_model = Model(layers[:-2])\n",
    "testing_plot = new_model(testing_data_x)"
   ]
  },
  {
   "cell_type": "code",
   "execution_count": 26,
   "id": "4c0a5485",
   "metadata": {
    "execution": {
     "iopub.execute_input": "2022-10-29T20:11:58.621806Z",
     "iopub.status.busy": "2022-10-29T20:11:58.621225Z",
     "iopub.status.idle": "2022-10-29T20:11:58.841544Z",
     "shell.execute_reply": "2022-10-29T20:11:58.840744Z"
    },
    "papermill": {
     "duration": 0.265895,
     "end_time": "2022-10-29T20:11:58.841666",
     "exception": false,
     "start_time": "2022-10-29T20:11:58.575771",
     "status": "completed"
    },
    "tags": []
   },
   "outputs": [
    {
     "data": {
      "text/plain": [
       "Text(0.5, 1.0, 'Outputs')"
      ]
     },
     "execution_count": 26,
     "metadata": {},
     "output_type": "execute_result"
    },
    {
     "data": {
      "image/png": "[encoded data removed]",
      "text/plain": [
       "<Figure size 576x504 with 1 Axes>"
      ]
     },
     "metadata": {
      "needs_background": "light"
     },
     "output_type": "display_data"
    }
   ],
   "source": [
    "# Plotting the scatter plot of points and color coding by class\n",
    "plt.figure(figsize=(8,7))\n",
    "plt.scatter(testing_plot[:,0], testing_plot[:,1], alpha = 0.1, c = y_test.ravel());\n",
    "plt.title('Outputs')"
   ]
  },
  {
   "cell_type": "markdown",
   "id": "a74fcf8f",
   "metadata": {
    "papermill": {
     "duration": 0.045324,
     "end_time": "2022-10-29T20:11:58.933238",
     "exception": false,
     "start_time": "2022-10-29T20:11:58.887914",
     "status": "completed"
    },
    "tags": []
   },
   "source": [
    "Probability contours"
   ]
  },
  {
   "cell_type": "code",
   "execution_count": 27,
   "id": "d0afc8e3",
   "metadata": {
    "execution": {
     "iopub.execute_input": "2022-10-29T20:11:59.053122Z",
     "iopub.status.busy": "2022-10-29T20:11:59.052543Z",
     "iopub.status.idle": "2022-10-29T20:11:59.064595Z",
     "shell.execute_reply": "2022-10-29T20:11:59.064128Z"
    },
    "papermill": {
     "duration": 0.085735,
     "end_time": "2022-10-29T20:11:59.064700",
     "exception": false,
     "start_time": "2022-10-29T20:11:58.978965",
     "status": "completed"
    },
    "tags": []
   },
   "outputs": [],
   "source": [
    "model_prob = Model(layers[-2:]) "
   ]
  },
  {
   "cell_type": "code",
   "execution_count": 28,
   "id": "9b96e238",
   "metadata": {
    "execution": {
     "iopub.execute_input": "2022-10-29T20:11:59.159654Z",
     "iopub.status.busy": "2022-10-29T20:11:59.159060Z",
     "iopub.status.idle": "2022-10-29T20:11:59.174494Z",
     "shell.execute_reply": "2022-10-29T20:11:59.174940Z"
    },
    "papermill": {
     "duration": 0.065201,
     "end_time": "2022-10-29T20:11:59.175073",
     "exception": false,
     "start_time": "2022-10-29T20:11:59.109872",
     "status": "completed"
    },
    "tags": []
   },
   "outputs": [],
   "source": [
    "#creating the x and y ranges according to the above generated plot.\n",
    "x_range = np.linspace(-4, 1, 100) \n",
    "y_range = np.linspace(-6, 6, 100) \n",
    "x_grid, y_grid = np.meshgrid(x_range, y_range) # x_grid and y_grig are of size 100 X 100\n",
    "\n",
    "# converting x_grid and y_grid to continuous arrays\n",
    "x_gridflat = np.ravel(x_grid)\n",
    "y_gridflat = np.ravel(y_grid)\n",
    "\n",
    "# The last layer of the current model takes two columns as input. Hence transpose of np.vstack() is required.\n",
    "X = np.vstack((x_gridflat, y_gridflat)).T\n",
    "\n",
    "prob_contour = model_prob(X).reshape(100,100) "
   ]
  },
  {
   "cell_type": "code",
   "execution_count": 29,
   "id": "da72499a",
   "metadata": {
    "execution": {
     "iopub.execute_input": "2022-10-29T20:11:59.276311Z",
     "iopub.status.busy": "2022-10-29T20:11:59.275707Z",
     "iopub.status.idle": "2022-10-29T20:11:59.521875Z",
     "shell.execute_reply": "2022-10-29T20:11:59.522312Z"
    },
    "papermill": {
     "duration": 0.301129,
     "end_time": "2022-10-29T20:11:59.522450",
     "exception": false,
     "start_time": "2022-10-29T20:11:59.221321",
     "status": "completed"
    },
    "tags": []
   },
   "outputs": [
    {
     "data": {
      "image/png": "[encoded data removed]",
      "text/plain": [
       "<Figure size 720x648 with 1 Axes>"
      ]
     },
     "metadata": {
      "needs_background": "light"
     },
     "output_type": "display_data"
    }
   ],
   "source": [
    "plt.figure(figsize=(10,9))\n",
    "plt.scatter(testing_plot[:,0], testing_plot[:,1], alpha = 0.1, c = y_test.ravel())\n",
    "contours = plt.contour(x_grid,y_grid,prob_contour)\n",
    "plt.title('Probability Contours')\n",
    "plt.clabel(contours, inline = True );"
   ]
  },
  {
   "cell_type": "code",
   "execution_count": null,
   "id": "e81b4ac7",
   "metadata": {
    "papermill": {
     "duration": 0.04731,
     "end_time": "2022-10-29T20:11:59.617681",
     "exception": false,
     "start_time": "2022-10-29T20:11:59.570371",
     "status": "completed"
    },
    "tags": []
   },
   "outputs": [],
   "source": []
  }
 ],
 "metadata": {
  "kernelspec": {
   "display_name": "Python 3",
   "language": "python",
   "name": "python3"
  },
  "language_info": {
   "codemirror_mode": {
    "name": "ipython",
    "version": 3
   },
   "file_extension": ".py",
   "mimetype": "text/x-python",
   "name": "python",
   "nbconvert_exporter": "python",
   "pygments_lexer": "ipython3",
   "version": "3.6.15"
  },
  "papermill": {
   "default_parameters": {},
   "duration": 95.488883,
   "end_time": "2022-10-29T20:12:00.083522",
   "environment_variables": {},
   "exception": null,
   "input_path": "2020-08-11-part2.ipynb",
   "output_path": "2020-08-11-part2.ipynb",
   "parameters": {},
   "start_time": "2022-10-29T20:10:24.594639",
   "version": "2.3.3"
  }
 },
 "nbformat": 4,
 "nbformat_minor": 5
}