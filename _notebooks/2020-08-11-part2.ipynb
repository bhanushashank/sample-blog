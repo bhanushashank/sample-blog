{
 "cells": [
  {
   "cell_type": "markdown",
   "id": "98380cd3",
   "metadata": {
    "papermill": {
     "duration": 0.029346,
     "end_time": "2022-10-17T00:59:14.149091",
     "exception": false,
     "start_time": "2022-10-17T00:59:14.119745",
     "status": "completed"
    },
    "tags": []
   },
   "source": [
    "# Distinguish Your Own Digits (DYOD)"
   ]
  },
  {
   "cell_type": "markdown",
   "id": "ef31240d",
   "metadata": {
    "papermill": {
     "duration": 0.024013,
     "end_time": "2022-10-17T00:59:14.197429",
     "exception": false,
     "start_time": "2022-10-17T00:59:14.173416",
     "status": "completed"
    },
    "tags": []
   },
   "source": [
    "You are going to write a classifier that distinguishes between the number 3 and number 8."
   ]
  },
  {
   "cell_type": "code",
   "execution_count": 1,
   "id": "b15c8646",
   "metadata": {
    "execution": {
     "iopub.execute_input": "2022-10-17T00:59:14.254633Z",
     "iopub.status.busy": "2022-10-17T00:59:14.254015Z",
     "iopub.status.idle": "2022-10-17T00:59:14.264371Z",
     "shell.execute_reply": "2022-10-17T00:59:14.264849Z"
    },
    "papermill": {
     "duration": 0.044105,
     "end_time": "2022-10-17T00:59:14.264990",
     "exception": false,
     "start_time": "2022-10-17T00:59:14.220885",
     "status": "completed"
    },
    "tags": []
   },
   "outputs": [],
   "source": [
    "%load_ext autoreload\n",
    "%autoreload 2"
   ]
  },
  {
   "cell_type": "code",
   "execution_count": 2,
   "id": "22ef38dc",
   "metadata": {
    "execution": {
     "iopub.execute_input": "2022-10-17T00:59:14.315787Z",
     "iopub.status.busy": "2022-10-17T00:59:14.315203Z",
     "iopub.status.idle": "2022-10-17T00:59:14.835339Z",
     "shell.execute_reply": "2022-10-17T00:59:14.834733Z"
    },
    "papermill": {
     "duration": 0.546923,
     "end_time": "2022-10-17T00:59:14.835482",
     "exception": false,
     "start_time": "2022-10-17T00:59:14.288559",
     "status": "completed"
    },
    "tags": []
   },
   "outputs": [],
   "source": [
    "%matplotlib inline\n",
    "import numpy as np\n",
    "import matplotlib.pyplot as plt\n",
    "import pandas as pd"
   ]
  },
  {
   "cell_type": "markdown",
   "id": "ba036198",
   "metadata": {
    "papermill": {
     "duration": 0.023562,
     "end_time": "2022-10-17T00:59:14.883185",
     "exception": false,
     "start_time": "2022-10-17T00:59:14.859623",
     "status": "completed"
    },
    "tags": []
   },
   "source": [
    "From the command line run `pip install mnist`. This is a library that will help you bring down the mnist dataset. If you run this from a notebook, you need to put  `!pip install mnist` in a cell by itself."
   ]
  },
  {
   "cell_type": "code",
   "execution_count": 3,
   "id": "bb6ad8a1",
   "metadata": {
    "execution": {
     "iopub.execute_input": "2022-10-17T00:59:14.934476Z",
     "iopub.status.busy": "2022-10-17T00:59:14.933868Z",
     "iopub.status.idle": "2022-10-17T00:59:16.572193Z",
     "shell.execute_reply": "2022-10-17T00:59:16.571584Z"
    },
    "papermill": {
     "duration": 1.665488,
     "end_time": "2022-10-17T00:59:16.572325",
     "exception": false,
     "start_time": "2022-10-17T00:59:14.906837",
     "status": "completed"
    },
    "tags": []
   },
   "outputs": [
    {
     "name": "stdout",
     "output_type": "stream",
     "text": [
      "Collecting mnist\r\n"
     ]
    },
    {
     "name": "stdout",
     "output_type": "stream",
     "text": [
      "  Downloading mnist-0.2.2-py2.py3-none-any.whl (3.5 kB)\r\n",
      "Requirement already satisfied: numpy in /opt/hostedtoolcache/Python/3.6.15/x64/lib/python3.6/site-packages (from mnist) (1.19.5)\r\n"
     ]
    },
    {
     "name": "stdout",
     "output_type": "stream",
     "text": [
      "Installing collected packages: mnist\r\n",
      "Successfully installed mnist-0.2.2\r\n"
     ]
    }
   ],
   "source": [
    "!pip install mnist"
   ]
  },
  {
   "cell_type": "markdown",
   "id": "69df9c9a",
   "metadata": {
    "papermill": {
     "duration": 0.02451,
     "end_time": "2022-10-17T00:59:16.621593",
     "exception": false,
     "start_time": "2022-10-17T00:59:16.597083",
     "status": "completed"
    },
    "tags": []
   },
   "source": [
    "## Preparing the Data"
   ]
  },
  {
   "cell_type": "code",
   "execution_count": 4,
   "id": "7f69d806",
   "metadata": {
    "execution": {
     "iopub.execute_input": "2022-10-17T00:59:16.674020Z",
     "iopub.status.busy": "2022-10-17T00:59:16.673440Z",
     "iopub.status.idle": "2022-10-17T00:59:16.688693Z",
     "shell.execute_reply": "2022-10-17T00:59:16.688221Z"
    },
    "papermill": {
     "duration": 0.042962,
     "end_time": "2022-10-17T00:59:16.688802",
     "exception": false,
     "start_time": "2022-10-17T00:59:16.645840",
     "status": "completed"
    },
    "tags": []
   },
   "outputs": [],
   "source": [
    "import mnist"
   ]
  },
  {
   "cell_type": "code",
   "execution_count": 5,
   "id": "a411e44f",
   "metadata": {
    "execution": {
     "iopub.execute_input": "2022-10-17T00:59:16.757149Z",
     "iopub.status.busy": "2022-10-17T00:59:16.751102Z",
     "iopub.status.idle": "2022-10-17T00:59:17.338706Z",
     "shell.execute_reply": "2022-10-17T00:59:17.338072Z"
    },
    "papermill": {
     "duration": 0.625607,
     "end_time": "2022-10-17T00:59:17.338845",
     "exception": false,
     "start_time": "2022-10-17T00:59:16.713238",
     "status": "completed"
    },
    "tags": []
   },
   "outputs": [],
   "source": [
    "train_images = mnist.train_images()\n",
    "train_labels = mnist.train_labels()"
   ]
  },
  {
   "cell_type": "code",
   "execution_count": 6,
   "id": "dceab3a5",
   "metadata": {
    "execution": {
     "iopub.execute_input": "2022-10-17T00:59:17.392007Z",
     "iopub.status.busy": "2022-10-17T00:59:17.391436Z",
     "iopub.status.idle": "2022-10-17T00:59:17.407196Z",
     "shell.execute_reply": "2022-10-17T00:59:17.406721Z"
    },
    "papermill": {
     "duration": 0.043594,
     "end_time": "2022-10-17T00:59:17.407300",
     "exception": false,
     "start_time": "2022-10-17T00:59:17.363706",
     "status": "completed"
    },
    "tags": []
   },
   "outputs": [
    {
     "data": {
      "text/plain": [
       "((60000, 28, 28), (60000,))"
      ]
     },
     "execution_count": 6,
     "metadata": {},
     "output_type": "execute_result"
    }
   ],
   "source": [
    "train_images.shape, train_labels.shape"
   ]
  },
  {
   "cell_type": "code",
   "execution_count": 7,
   "id": "f50dc2bb",
   "metadata": {
    "execution": {
     "iopub.execute_input": "2022-10-17T00:59:17.461283Z",
     "iopub.status.busy": "2022-10-17T00:59:17.460715Z",
     "iopub.status.idle": "2022-10-17T00:59:17.638519Z",
     "shell.execute_reply": "2022-10-17T00:59:17.637239Z"
    },
    "papermill": {
     "duration": 0.206722,
     "end_time": "2022-10-17T00:59:17.638655",
     "exception": false,
     "start_time": "2022-10-17T00:59:17.431933",
     "status": "completed"
    },
    "tags": []
   },
   "outputs": [],
   "source": [
    "test_images = mnist.test_images()\n",
    "test_labels = mnist.test_labels()"
   ]
  },
  {
   "cell_type": "code",
   "execution_count": 8,
   "id": "fc38cf1b",
   "metadata": {
    "execution": {
     "iopub.execute_input": "2022-10-17T00:59:17.695509Z",
     "iopub.status.busy": "2022-10-17T00:59:17.691996Z",
     "iopub.status.idle": "2022-10-17T00:59:17.704554Z",
     "shell.execute_reply": "2022-10-17T00:59:17.705095Z"
    },
    "papermill": {
     "duration": 0.041504,
     "end_time": "2022-10-17T00:59:17.705215",
     "exception": false,
     "start_time": "2022-10-17T00:59:17.663711",
     "status": "completed"
    },
    "tags": []
   },
   "outputs": [
    {
     "data": {
      "text/plain": [
       "((10000, 28, 28), (10000,))"
      ]
     },
     "execution_count": 8,
     "metadata": {},
     "output_type": "execute_result"
    }
   ],
   "source": [
    "test_images.shape, test_labels.shape"
   ]
  },
  {
   "cell_type": "code",
   "execution_count": 9,
   "id": "f9ed8fe0",
   "metadata": {
    "execution": {
     "iopub.execute_input": "2022-10-17T00:59:17.758315Z",
     "iopub.status.busy": "2022-10-17T00:59:17.757752Z",
     "iopub.status.idle": "2022-10-17T00:59:17.893116Z",
     "shell.execute_reply": "2022-10-17T00:59:17.893628Z"
    },
    "papermill": {
     "duration": 0.16365,
     "end_time": "2022-10-17T00:59:17.893774",
     "exception": false,
     "start_time": "2022-10-17T00:59:17.730124",
     "status": "completed"
    },
    "tags": []
   },
   "outputs": [
    {
     "name": "stdout",
     "output_type": "stream",
     "text": [
      "2\n"
     ]
    },
    {
     "data": {
      "text/plain": [
       "<matplotlib.image.AxesImage at 0x7fa646996d68>"
      ]
     },
     "execution_count": 9,
     "metadata": {},
     "output_type": "execute_result"
    },
    {
     "data": {
      "image/png": "[encoded data removed]",
      "text/plain": [
       "<Figure size 432x288 with 1 Axes>"
      ]
     },
     "metadata": {
      "needs_background": "light"
     },
     "output_type": "display_data"
    }
   ],
   "source": [
    "image_index = 7776 # You may select anything up to 60,000\n",
    "print(train_labels[image_index]) \n",
    "plt.imshow(train_images[image_index], cmap='Greys')"
   ]
  },
  {
   "cell_type": "markdown",
   "id": "a8d2388d",
   "metadata": {
    "papermill": {
     "duration": 0.026171,
     "end_time": "2022-10-17T00:59:17.946928",
     "exception": false,
     "start_time": "2022-10-17T00:59:17.920757",
     "status": "completed"
    },
    "tags": []
   },
   "source": [
    "## Filter data to get 3 and 8 out"
   ]
  },
  {
   "cell_type": "code",
   "execution_count": 10,
   "id": "776f7fc7",
   "metadata": {
    "execution": {
     "iopub.execute_input": "2022-10-17T00:59:18.003768Z",
     "iopub.status.busy": "2022-10-17T00:59:18.003179Z",
     "iopub.status.idle": "2022-10-17T00:59:18.021731Z",
     "shell.execute_reply": "2022-10-17T00:59:18.022189Z"
    },
    "papermill": {
     "duration": 0.049327,
     "end_time": "2022-10-17T00:59:18.022325",
     "exception": false,
     "start_time": "2022-10-17T00:59:17.972998",
     "status": "completed"
    },
    "tags": []
   },
   "outputs": [],
   "source": [
    "train_filter = np.where((train_labels == 3 ) | (train_labels == 8))\n",
    "test_filter = np.where((test_labels == 3) | (test_labels == 8))\n",
    "X_train, y_train = train_images[train_filter], train_labels[train_filter]\n",
    "X_test, y_test = test_images[test_filter], test_labels[test_filter]"
   ]
  },
  {
   "cell_type": "markdown",
   "id": "948f0b7e",
   "metadata": {
    "papermill": {
     "duration": 0.026189,
     "end_time": "2022-10-17T00:59:18.074856",
     "exception": false,
     "start_time": "2022-10-17T00:59:18.048667",
     "status": "completed"
    },
    "tags": []
   },
   "source": [
    "We normalize the pizel values in the 0 to 1 range"
   ]
  },
  {
   "cell_type": "code",
   "execution_count": 11,
   "id": "ee4c2166",
   "metadata": {
    "execution": {
     "iopub.execute_input": "2022-10-17T00:59:18.130981Z",
     "iopub.status.busy": "2022-10-17T00:59:18.130357Z",
     "iopub.status.idle": "2022-10-17T00:59:18.178701Z",
     "shell.execute_reply": "2022-10-17T00:59:18.178091Z"
    },
    "papermill": {
     "duration": 0.077934,
     "end_time": "2022-10-17T00:59:18.178840",
     "exception": false,
     "start_time": "2022-10-17T00:59:18.100906",
     "status": "completed"
    },
    "tags": []
   },
   "outputs": [],
   "source": [
    "X_train = X_train/255.\n",
    "X_test = X_test/255."
   ]
  },
  {
   "cell_type": "markdown",
   "id": "ddcf4fab",
   "metadata": {
    "papermill": {
     "duration": 0.026243,
     "end_time": "2022-10-17T00:59:18.232324",
     "exception": false,
     "start_time": "2022-10-17T00:59:18.206081",
     "status": "completed"
    },
    "tags": []
   },
   "source": [
    "And setup the labels as 1 (when the digit is 3) and 0 (when the digit is 8)"
   ]
  },
  {
   "cell_type": "code",
   "execution_count": 12,
   "id": "7dc908f2",
   "metadata": {
    "execution": {
     "iopub.execute_input": "2022-10-17T00:59:18.288804Z",
     "iopub.status.busy": "2022-10-17T00:59:18.288198Z",
     "iopub.status.idle": "2022-10-17T00:59:18.300855Z",
     "shell.execute_reply": "2022-10-17T00:59:18.300199Z"
    },
    "papermill": {
     "duration": 0.042681,
     "end_time": "2022-10-17T00:59:18.300973",
     "exception": false,
     "start_time": "2022-10-17T00:59:18.258292",
     "status": "completed"
    },
    "tags": []
   },
   "outputs": [],
   "source": [
    "y_train = 1*(y_train==3)\n",
    "y_test = 1*(y_test==3)"
   ]
  },
  {
   "cell_type": "code",
   "execution_count": 13,
   "id": "01e4e969",
   "metadata": {
    "execution": {
     "iopub.execute_input": "2022-10-17T00:59:18.356718Z",
     "iopub.status.busy": "2022-10-17T00:59:18.356154Z",
     "iopub.status.idle": "2022-10-17T00:59:18.369343Z",
     "shell.execute_reply": "2022-10-17T00:59:18.369822Z"
    },
    "papermill": {
     "duration": 0.042872,
     "end_time": "2022-10-17T00:59:18.369943",
     "exception": false,
     "start_time": "2022-10-17T00:59:18.327071",
     "status": "completed"
    },
    "tags": []
   },
   "outputs": [
    {
     "data": {
      "text/plain": [
       "((11982, 28, 28), (1984, 28, 28))"
      ]
     },
     "execution_count": 13,
     "metadata": {},
     "output_type": "execute_result"
    }
   ],
   "source": [
    "X_train.shape, X_test.shape"
   ]
  },
  {
   "cell_type": "markdown",
   "id": "5ccf3f85",
   "metadata": {
    "papermill": {
     "duration": 0.026097,
     "end_time": "2022-10-17T00:59:18.422086",
     "exception": false,
     "start_time": "2022-10-17T00:59:18.395989",
     "status": "completed"
    },
    "tags": []
   },
   "source": [
    "We reshape the data to flatten the image pixels into a set of features or co-variates:"
   ]
  },
  {
   "cell_type": "code",
   "execution_count": 14,
   "id": "5286a4a3",
   "metadata": {
    "execution": {
     "iopub.execute_input": "2022-10-17T00:59:18.478911Z",
     "iopub.status.busy": "2022-10-17T00:59:18.478296Z",
     "iopub.status.idle": "2022-10-17T00:59:18.491955Z",
     "shell.execute_reply": "2022-10-17T00:59:18.491486Z"
    },
    "papermill": {
     "duration": 0.04375,
     "end_time": "2022-10-17T00:59:18.492061",
     "exception": false,
     "start_time": "2022-10-17T00:59:18.448311",
     "status": "completed"
    },
    "tags": []
   },
   "outputs": [
    {
     "data": {
      "text/plain": [
       "((11982, 784), (1984, 784))"
      ]
     },
     "execution_count": 14,
     "metadata": {},
     "output_type": "execute_result"
    }
   ],
   "source": [
    "X_train = X_train.reshape(X_train.shape[0], -1)\n",
    "X_test = X_test.reshape(X_test.shape[0], -1)\n",
    "X_train.shape, X_test.shape"
   ]
  },
  {
   "cell_type": "code",
   "execution_count": 15,
   "id": "73c5f88a",
   "metadata": {
    "execution": {
     "iopub.execute_input": "2022-10-17T00:59:18.549134Z",
     "iopub.status.busy": "2022-10-17T00:59:18.548560Z",
     "iopub.status.idle": "2022-10-17T00:59:18.567013Z",
     "shell.execute_reply": "2022-10-17T00:59:18.567481Z"
    },
    "papermill": {
     "duration": 0.049065,
     "end_time": "2022-10-17T00:59:18.567601",
     "exception": false,
     "start_time": "2022-10-17T00:59:18.518536",
     "status": "completed"
    },
    "tags": []
   },
   "outputs": [],
   "source": [
    "#Impoting functions from 'Kudzu'\n",
    "from kudzu.model import Model\n",
    "from kudzu.train import Learner\n",
    "from kudzu.optim import GD\n",
    "from kudzu.data import Data, Sampler,Dataloader\n",
    "\n",
    "from kudzu.callbacks import AccCallback\n",
    "from kudzu.callbacks import ClfCallback\n",
    "\n",
    "from kudzu.loss import MSE\n",
    "\n",
    "from kudzu.layer import Sigmoid,Relu\n",
    "from kudzu.layer import Affine"
   ]
  },
  {
   "cell_type": "markdown",
   "id": "bc01172a",
   "metadata": {
    "papermill": {
     "duration": 0.026418,
     "end_time": "2022-10-17T00:59:18.620633",
     "exception": false,
     "start_time": "2022-10-17T00:59:18.594215",
     "status": "completed"
    },
    "tags": []
   },
   "source": [
    "### Let us create a `Config` class, to store important parameters. \n",
    "This class essentially plays the role of a dictionary."
   ]
  },
  {
   "cell_type": "code",
   "execution_count": 16,
   "id": "978281aa",
   "metadata": {
    "execution": {
     "iopub.execute_input": "2022-10-17T00:59:18.692275Z",
     "iopub.status.busy": "2022-10-17T00:59:18.691673Z",
     "iopub.status.idle": "2022-10-17T00:59:18.695357Z",
     "shell.execute_reply": "2022-10-17T00:59:18.695807Z"
    },
    "papermill": {
     "duration": 0.048896,
     "end_time": "2022-10-17T00:59:18.695931",
     "exception": false,
     "start_time": "2022-10-17T00:59:18.647035",
     "status": "completed"
    },
    "tags": []
   },
   "outputs": [],
   "source": [
    "class Config:\n",
    "    pass\n",
    "config = Config()\n",
    "config.lr = 0.001\n",
    "config.num_epochs = 250\n",
    "config.bs = 50"
   ]
  },
  {
   "cell_type": "markdown",
   "id": "1385fa59",
   "metadata": {
    "papermill": {
     "duration": 0.026418,
     "end_time": "2022-10-17T00:59:18.749087",
     "exception": false,
     "start_time": "2022-10-17T00:59:18.722669",
     "status": "completed"
    },
    "tags": []
   },
   "source": [
    "### Running Models with the Training data\n",
    "Details about the network layers:\n",
    "- A first affine layer has 784 inputs and does 100 affine transforms. These are followed by a Relu\n",
    "- A second affine layer has 100 inputs from the 100 activations of the past layer, and does 100 affine transforms. These are followed by a Relu\n",
    "- A third affine layer has 100 activations and does 2 affine transformations to create an embedding for visualization. There is no non-linearity here.\n",
    "- A final \"logistic regression\" which has an affine transform from 2 inputs to 1 output, which is squeezed through a sigmoid.\n"
   ]
  },
  {
   "cell_type": "code",
   "execution_count": 17,
   "id": "2b9c66db",
   "metadata": {
    "execution": {
     "iopub.execute_input": "2022-10-17T00:59:18.822017Z",
     "iopub.status.busy": "2022-10-17T00:59:18.819459Z",
     "iopub.status.idle": "2022-10-17T00:59:18.824889Z",
     "shell.execute_reply": "2022-10-17T00:59:18.824038Z"
    },
    "papermill": {
     "duration": 0.049424,
     "end_time": "2022-10-17T00:59:18.825002",
     "exception": false,
     "start_time": "2022-10-17T00:59:18.775578",
     "status": "completed"
    },
    "tags": []
   },
   "outputs": [],
   "source": [
    "data = Data(X_train, y_train.reshape(-1,1))\n",
    "sampler = Sampler(data, config.bs, shuffle=True)\n",
    "\n",
    "dl = Dataloader(data, sampler)\n",
    "\n",
    "opt = GD(config.lr)\n",
    "loss = MSE()"
   ]
  },
  {
   "cell_type": "code",
   "execution_count": 18,
   "id": "b275e4c2",
   "metadata": {
    "execution": {
     "iopub.execute_input": "2022-10-17T00:59:18.883188Z",
     "iopub.status.busy": "2022-10-17T00:59:18.881734Z",
     "iopub.status.idle": "2022-10-17T00:59:18.894393Z",
     "shell.execute_reply": "2022-10-17T00:59:18.894897Z"
    },
    "papermill": {
     "duration": 0.042793,
     "end_time": "2022-10-17T00:59:18.895019",
     "exception": false,
     "start_time": "2022-10-17T00:59:18.852226",
     "status": "completed"
    },
    "tags": []
   },
   "outputs": [],
   "source": [
    "training_data_x = X_train\n",
    "testing_data_x = X_test\n",
    "training_data_y = y_train.reshape(-1,1)\n",
    "testing_data_y = y_test.reshape(-1,1)"
   ]
  },
  {
   "cell_type": "code",
   "execution_count": 19,
   "id": "76951160",
   "metadata": {
    "execution": {
     "iopub.execute_input": "2022-10-17T00:59:18.964379Z",
     "iopub.status.busy": "2022-10-17T00:59:18.951717Z",
     "iopub.status.idle": "2022-10-17T00:59:18.971394Z",
     "shell.execute_reply": "2022-10-17T00:59:18.971873Z"
    },
    "papermill": {
     "duration": 0.050522,
     "end_time": "2022-10-17T00:59:18.971998",
     "exception": false,
     "start_time": "2022-10-17T00:59:18.921476",
     "status": "completed"
    },
    "tags": []
   },
   "outputs": [
    {
     "name": "stdout",
     "output_type": "stream",
     "text": [
      "xavier\n",
      "xavier\n",
      "xavier\n",
      "xavier\n",
      "xavier\n"
     ]
    }
   ],
   "source": [
    "layers = [Affine(\"first\", 784, 100), Relu(\"first\"), Affine(\"second\", 100, 100), Relu(\"second\"), Affine(\"third\", 100, 2), Affine(\"last\", 2, 1), Sigmoid(\"last\")]\n",
    "model_nn = Model(layers)\n",
    "model_lr = Model([Affine(\"logits\", 784, 1), Sigmoid(\"sigmoid\")])"
   ]
  },
  {
   "cell_type": "code",
   "execution_count": 20,
   "id": "6eede77a",
   "metadata": {
    "execution": {
     "iopub.execute_input": "2022-10-17T00:59:19.039865Z",
     "iopub.status.busy": "2022-10-17T00:59:19.039286Z",
     "iopub.status.idle": "2022-10-17T00:59:19.045882Z",
     "shell.execute_reply": "2022-10-17T00:59:19.044800Z"
    },
    "papermill": {
     "duration": 0.047088,
     "end_time": "2022-10-17T00:59:19.045991",
     "exception": false,
     "start_time": "2022-10-17T00:59:18.998903",
     "status": "completed"
    },
    "tags": []
   },
   "outputs": [],
   "source": [
    "nn_learner = Learner(loss, model_nn, opt, config.num_epochs)\n",
    "acc_nn = ClfCallback(nn_learner, config.bs, training_data_x , testing_data_x, training_data_y, testing_data_y)\n",
    "nn_learner.set_callbacks([acc_nn])"
   ]
  },
  {
   "cell_type": "code",
   "execution_count": 21,
   "id": "877b6cc7",
   "metadata": {
    "execution": {
     "iopub.execute_input": "2022-10-17T00:59:19.103384Z",
     "iopub.status.busy": "2022-10-17T00:59:19.102812Z",
     "iopub.status.idle": "2022-10-17T00:59:19.114833Z",
     "shell.execute_reply": "2022-10-17T00:59:19.115255Z"
    },
    "papermill": {
     "duration": 0.042684,
     "end_time": "2022-10-17T00:59:19.115376",
     "exception": false,
     "start_time": "2022-10-17T00:59:19.072692",
     "status": "completed"
    },
    "tags": []
   },
   "outputs": [],
   "source": [
    "lr_learner = Learner(loss, model_lr, opt, config.num_epochs)\n",
    "acc_lr = ClfCallback(lr_learner, config.bs, training_data_x , testing_data_x, training_data_y, testing_data_y)\n",
    "lr_learner.set_callbacks([acc_lr])"
   ]
  },
  {
   "cell_type": "code",
   "execution_count": 22,
   "id": "d9b133c3",
   "metadata": {
    "execution": {
     "iopub.execute_input": "2022-10-17T00:59:19.178504Z",
     "iopub.status.busy": "2022-10-17T00:59:19.177894Z",
     "iopub.status.idle": "2022-10-17T01:00:34.898390Z",
     "shell.execute_reply": "2022-10-17T01:00:34.899251Z"
    },
    "papermill": {
     "duration": 75.757267,
     "end_time": "2022-10-17T01:00:34.899401",
     "exception": false,
     "start_time": "2022-10-17T00:59:19.142134",
     "status": "completed"
    },
    "tags": []
   },
   "outputs": [
    {
     "name": "stdout",
     "output_type": "stream",
     "text": [
      "Epoch 0, Loss 0.2039\n",
      "Training Accuracy: 0.8133, Testing Accuracy: 0.8216\n",
      "\n"
     ]
    },
    {
     "name": "stdout",
     "output_type": "stream",
     "text": [
      "Epoch 10, Loss 0.0616\n",
      "Training Accuracy: 0.9365, Testing Accuracy: 0.9496\n",
      "\n"
     ]
    },
    {
     "name": "stdout",
     "output_type": "stream",
     "text": [
      "Epoch 20, Loss 0.0436\n",
      "Training Accuracy: 0.9528, Testing Accuracy: 0.9652\n",
      "\n"
     ]
    },
    {
     "name": "stdout",
     "output_type": "stream",
     "text": [
      "Epoch 30, Loss 0.0362\n",
      "Training Accuracy: 0.9604, Testing Accuracy: 0.9672\n",
      "\n"
     ]
    },
    {
     "name": "stdout",
     "output_type": "stream",
     "text": [
      "Epoch 40, Loss 0.0321\n",
      "Training Accuracy: 0.9644, Testing Accuracy: 0.9703\n",
      "\n"
     ]
    },
    {
     "name": "stdout",
     "output_type": "stream",
     "text": [
      "Epoch 50, Loss 0.0294\n",
      "Training Accuracy: 0.9673, Testing Accuracy: 0.9693\n",
      "\n"
     ]
    },
    {
     "name": "stdout",
     "output_type": "stream",
     "text": [
      "Epoch 60, Loss 0.0274\n",
      "Training Accuracy: 0.9697, Testing Accuracy: 0.9713\n",
      "\n"
     ]
    },
    {
     "name": "stdout",
     "output_type": "stream",
     "text": [
      "Epoch 70, Loss 0.0258\n",
      "Training Accuracy: 0.9719, Testing Accuracy: 0.9728\n",
      "\n"
     ]
    },
    {
     "name": "stdout",
     "output_type": "stream",
     "text": [
      "Epoch 80, Loss 0.0245\n",
      "Training Accuracy: 0.9730, Testing Accuracy: 0.9728\n",
      "\n"
     ]
    },
    {
     "name": "stdout",
     "output_type": "stream",
     "text": [
      "Epoch 90, Loss 0.0234\n",
      "Training Accuracy: 0.9743, Testing Accuracy: 0.9723\n",
      "\n"
     ]
    },
    {
     "name": "stdout",
     "output_type": "stream",
     "text": [
      "Epoch 100, Loss 0.0224\n",
      "Training Accuracy: 0.9747, Testing Accuracy: 0.9728\n",
      "\n"
     ]
    },
    {
     "name": "stdout",
     "output_type": "stream",
     "text": [
      "Epoch 110, Loss 0.0216\n",
      "Training Accuracy: 0.9755, Testing Accuracy: 0.9733\n",
      "\n"
     ]
    },
    {
     "name": "stdout",
     "output_type": "stream",
     "text": [
      "Epoch 120, Loss 0.0208\n",
      "Training Accuracy: 0.9765, Testing Accuracy: 0.9738\n",
      "\n"
     ]
    },
    {
     "name": "stdout",
     "output_type": "stream",
     "text": [
      "Epoch 130, Loss 0.0201\n",
      "Training Accuracy: 0.9778, Testing Accuracy: 0.9743\n",
      "\n"
     ]
    },
    {
     "name": "stdout",
     "output_type": "stream",
     "text": [
      "Epoch 140, Loss 0.0194\n",
      "Training Accuracy: 0.9781, Testing Accuracy: 0.9743\n",
      "\n"
     ]
    },
    {
     "name": "stdout",
     "output_type": "stream",
     "text": [
      "Epoch 150, Loss 0.0188\n",
      "Training Accuracy: 0.9786, Testing Accuracy: 0.9748\n",
      "\n"
     ]
    },
    {
     "name": "stdout",
     "output_type": "stream",
     "text": [
      "Epoch 160, Loss 0.0182\n",
      "Training Accuracy: 0.9791, Testing Accuracy: 0.9753\n",
      "\n"
     ]
    },
    {
     "name": "stdout",
     "output_type": "stream",
     "text": [
      "Epoch 170, Loss 0.0177\n",
      "Training Accuracy: 0.9799, Testing Accuracy: 0.9753\n",
      "\n"
     ]
    },
    {
     "name": "stdout",
     "output_type": "stream",
     "text": [
      "Epoch 180, Loss 0.0171\n",
      "Training Accuracy: 0.9806, Testing Accuracy: 0.9753\n",
      "\n"
     ]
    },
    {
     "name": "stdout",
     "output_type": "stream",
     "text": [
      "Epoch 190, Loss 0.0166\n",
      "Training Accuracy: 0.9812, Testing Accuracy: 0.9753\n",
      "\n"
     ]
    },
    {
     "name": "stdout",
     "output_type": "stream",
     "text": [
      "Epoch 200, Loss 0.0162\n",
      "Training Accuracy: 0.9818, Testing Accuracy: 0.9753\n",
      "\n"
     ]
    },
    {
     "name": "stdout",
     "output_type": "stream",
     "text": [
      "Epoch 210, Loss 0.0157\n",
      "Training Accuracy: 0.9821, Testing Accuracy: 0.9758\n",
      "\n"
     ]
    },
    {
     "name": "stdout",
     "output_type": "stream",
     "text": [
      "Epoch 220, Loss 0.0153\n",
      "Training Accuracy: 0.9826, Testing Accuracy: 0.9758\n",
      "\n"
     ]
    },
    {
     "name": "stdout",
     "output_type": "stream",
     "text": [
      "Epoch 230, Loss 0.0149\n",
      "Training Accuracy: 0.9836, Testing Accuracy: 0.9768\n",
      "\n"
     ]
    },
    {
     "name": "stdout",
     "output_type": "stream",
     "text": [
      "Epoch 240, Loss 0.0145\n",
      "Training Accuracy: 0.9843, Testing Accuracy: 0.9773\n",
      "\n"
     ]
    },
    {
     "data": {
      "text/plain": [
       "0.0224182326314357"
      ]
     },
     "execution_count": 22,
     "metadata": {},
     "output_type": "execute_result"
    }
   ],
   "source": [
    "nn_learner.train_loop(dl)"
   ]
  },
  {
   "cell_type": "code",
   "execution_count": 23,
   "id": "e0163366",
   "metadata": {
    "execution": {
     "iopub.execute_input": "2022-10-17T01:00:34.984450Z",
     "iopub.status.busy": "2022-10-17T01:00:34.983860Z",
     "iopub.status.idle": "2022-10-17T01:00:48.254211Z",
     "shell.execute_reply": "2022-10-17T01:00:48.255060Z"
    },
    "papermill": {
     "duration": 13.320313,
     "end_time": "2022-10-17T01:00:48.255210",
     "exception": false,
     "start_time": "2022-10-17T01:00:34.934897",
     "status": "completed"
    },
    "tags": []
   },
   "outputs": [
    {
     "name": "stdout",
     "output_type": "stream",
     "text": [
      "Epoch 0, Loss 0.2474\n",
      "Training Accuracy: 0.6947, Testing Accuracy: 0.7147\n",
      "\n"
     ]
    },
    {
     "name": "stdout",
     "output_type": "stream",
     "text": [
      "Epoch 10, Loss 0.103\n",
      "Training Accuracy: 0.9100, Testing Accuracy: 0.9178\n",
      "\n"
     ]
    },
    {
     "name": "stdout",
     "output_type": "stream",
     "text": [
      "Epoch 20, Loss 0.0796\n",
      "Training Accuracy: 0.9256, Testing Accuracy: 0.9375\n",
      "\n"
     ]
    },
    {
     "name": "stdout",
     "output_type": "stream",
     "text": [
      "Epoch 30, Loss 0.0688\n",
      "Training Accuracy: 0.9339, Testing Accuracy: 0.9425\n",
      "\n"
     ]
    },
    {
     "name": "stdout",
     "output_type": "stream",
     "text": [
      "Epoch 40, Loss 0.0622\n",
      "Training Accuracy: 0.9387, Testing Accuracy: 0.9496\n",
      "\n"
     ]
    },
    {
     "name": "stdout",
     "output_type": "stream",
     "text": [
      "Epoch 50, Loss 0.0577\n",
      "Training Accuracy: 0.9422, Testing Accuracy: 0.9511\n",
      "\n"
     ]
    },
    {
     "name": "stdout",
     "output_type": "stream",
     "text": [
      "Epoch 60, Loss 0.0543\n",
      "Training Accuracy: 0.9461, Testing Accuracy: 0.9536\n",
      "\n"
     ]
    },
    {
     "name": "stdout",
     "output_type": "stream",
     "text": [
      "Epoch 70, Loss 0.0517\n",
      "Training Accuracy: 0.9477, Testing Accuracy: 0.9561\n",
      "\n"
     ]
    },
    {
     "name": "stdout",
     "output_type": "stream",
     "text": [
      "Epoch 80, Loss 0.0496\n",
      "Training Accuracy: 0.9499, Testing Accuracy: 0.9582\n",
      "\n"
     ]
    },
    {
     "name": "stdout",
     "output_type": "stream",
     "text": [
      "Epoch 90, Loss 0.0479\n",
      "Training Accuracy: 0.9514, Testing Accuracy: 0.9592\n",
      "\n"
     ]
    },
    {
     "name": "stdout",
     "output_type": "stream",
     "text": [
      "Epoch 100, Loss 0.0465\n",
      "Training Accuracy: 0.9531, Testing Accuracy: 0.9607\n",
      "\n"
     ]
    },
    {
     "name": "stdout",
     "output_type": "stream",
     "text": [
      "Epoch 110, Loss 0.0452\n",
      "Training Accuracy: 0.9541, Testing Accuracy: 0.9612\n",
      "\n"
     ]
    },
    {
     "name": "stdout",
     "output_type": "stream",
     "text": [
      "Epoch 120, Loss 0.0441\n",
      "Training Accuracy: 0.9551, Testing Accuracy: 0.9627\n",
      "\n"
     ]
    },
    {
     "name": "stdout",
     "output_type": "stream",
     "text": [
      "Epoch 130, Loss 0.0432\n",
      "Training Accuracy: 0.9552, Testing Accuracy: 0.9632\n",
      "\n"
     ]
    },
    {
     "name": "stdout",
     "output_type": "stream",
     "text": [
      "Epoch 140, Loss 0.0423\n",
      "Training Accuracy: 0.9563, Testing Accuracy: 0.9637\n",
      "\n"
     ]
    },
    {
     "name": "stdout",
     "output_type": "stream",
     "text": [
      "Epoch 150, Loss 0.0416\n",
      "Training Accuracy: 0.9566, Testing Accuracy: 0.9637\n",
      "\n"
     ]
    },
    {
     "name": "stdout",
     "output_type": "stream",
     "text": [
      "Epoch 160, Loss 0.0409\n",
      "Training Accuracy: 0.9570, Testing Accuracy: 0.9647\n",
      "\n"
     ]
    },
    {
     "name": "stdout",
     "output_type": "stream",
     "text": [
      "Epoch 170, Loss 0.0403\n",
      "Training Accuracy: 0.9574, Testing Accuracy: 0.9652\n",
      "\n"
     ]
    },
    {
     "name": "stdout",
     "output_type": "stream",
     "text": [
      "Epoch 180, Loss 0.0397\n",
      "Training Accuracy: 0.9579, Testing Accuracy: 0.9662\n",
      "\n"
     ]
    },
    {
     "name": "stdout",
     "output_type": "stream",
     "text": [
      "Epoch 190, Loss 0.0392\n",
      "Training Accuracy: 0.9584, Testing Accuracy: 0.9667\n",
      "\n"
     ]
    },
    {
     "name": "stdout",
     "output_type": "stream",
     "text": [
      "Epoch 200, Loss 0.0387\n",
      "Training Accuracy: 0.9587, Testing Accuracy: 0.9667\n",
      "\n"
     ]
    },
    {
     "name": "stdout",
     "output_type": "stream",
     "text": [
      "Epoch 210, Loss 0.0382\n",
      "Training Accuracy: 0.9589, Testing Accuracy: 0.9677\n",
      "\n"
     ]
    },
    {
     "name": "stdout",
     "output_type": "stream",
     "text": [
      "Epoch 220, Loss 0.0378\n",
      "Training Accuracy: 0.9592, Testing Accuracy: 0.9677\n",
      "\n"
     ]
    },
    {
     "name": "stdout",
     "output_type": "stream",
     "text": [
      "Epoch 230, Loss 0.0374\n",
      "Training Accuracy: 0.9595, Testing Accuracy: 0.9672\n",
      "\n"
     ]
    },
    {
     "name": "stdout",
     "output_type": "stream",
     "text": [
      "Epoch 240, Loss 0.0371\n",
      "Training Accuracy: 0.9602, Testing Accuracy: 0.9672\n",
      "\n"
     ]
    },
    {
     "data": {
      "text/plain": [
       "0.03974220489908803"
      ]
     },
     "execution_count": 23,
     "metadata": {},
     "output_type": "execute_result"
    }
   ],
   "source": [
    "lr_learner.train_loop(dl)"
   ]
  },
  {
   "cell_type": "code",
   "execution_count": 24,
   "id": "ca410940",
   "metadata": {
    "execution": {
     "iopub.execute_input": "2022-10-17T01:00:48.347808Z",
     "iopub.status.busy": "2022-10-17T01:00:48.347223Z",
     "iopub.status.idle": "2022-10-17T01:00:48.569341Z",
     "shell.execute_reply": "2022-10-17T01:00:48.568794Z"
    },
    "papermill": {
     "duration": 0.273295,
     "end_time": "2022-10-17T01:00:48.569503",
     "exception": false,
     "start_time": "2022-10-17T01:00:48.296208",
     "status": "completed"
    },
    "tags": []
   },
   "outputs": [
    {
     "data": {
      "text/plain": [
       "<matplotlib.legend.Legend at 0x7fa646505358>"
      ]
     },
     "execution_count": 24,
     "metadata": {},
     "output_type": "execute_result"
    },
    {
     "data": {
      "image/png": "[encoded data removed]",
      "text/plain": [
       "<Figure size 1080x720 with 1 Axes>"
      ]
     },
     "metadata": {
      "needs_background": "light"
     },
     "output_type": "display_data"
    }
   ],
   "source": [
    "#comparing the results of NN and LR\n",
    "plt.figure(figsize=(15,10))\n",
    "\n",
    "# Neural Network plots\n",
    "plt.plot(acc_nn.accuracies, 'r-', label = \"Training Accuracies - NN\")\n",
    "plt.plot(acc_nn.test_accuracies, 'g-', label = \"Testing Accuracies - NN\")\n",
    "\n",
    "# Logistic Regression plots\n",
    "plt.plot(acc_lr.accuracies, 'k-', label = \"Training Accuracies - LR\")\n",
    "plt.plot(acc_lr.test_accuracies, 'b-', label = \"Testing Accuracies - LR\")\n",
    "plt.legend()"
   ]
  },
  {
   "cell_type": "markdown",
   "id": "80dfb35c",
   "metadata": {
    "papermill": {
     "duration": 0.041642,
     "end_time": "2022-10-17T01:00:48.654037",
     "exception": false,
     "start_time": "2022-10-17T01:00:48.612395",
     "status": "completed"
    },
    "tags": []
   },
   "source": [
    "#### Plotting the outputs of this layer of the NN.\n"
   ]
  },
  {
   "cell_type": "code",
   "execution_count": 25,
   "id": "45eb2ff5",
   "metadata": {
    "execution": {
     "iopub.execute_input": "2022-10-17T01:00:48.741103Z",
     "iopub.status.busy": "2022-10-17T01:00:48.740515Z",
     "iopub.status.idle": "2022-10-17T01:00:48.760250Z",
     "shell.execute_reply": "2022-10-17T01:00:48.760700Z"
    },
    "papermill": {
     "duration": 0.06531,
     "end_time": "2022-10-17T01:00:48.760832",
     "exception": false,
     "start_time": "2022-10-17T01:00:48.695522",
     "status": "completed"
    },
    "tags": []
   },
   "outputs": [],
   "source": [
    "new_model = Model(layers[:-2])\n",
    "testing_plot = new_model(testing_data_x)"
   ]
  },
  {
   "cell_type": "code",
   "execution_count": 26,
   "id": "4c0a5485",
   "metadata": {
    "execution": {
     "iopub.execute_input": "2022-10-17T01:00:48.859618Z",
     "iopub.status.busy": "2022-10-17T01:00:48.859039Z",
     "iopub.status.idle": "2022-10-17T01:00:49.081523Z",
     "shell.execute_reply": "2022-10-17T01:00:49.080886Z"
    },
    "papermill": {
     "duration": 0.277196,
     "end_time": "2022-10-17T01:00:49.081645",
     "exception": false,
     "start_time": "2022-10-17T01:00:48.804449",
     "status": "completed"
    },
    "tags": []
   },
   "outputs": [
    {
     "data": {
      "text/plain": [
       "Text(0.5, 1.0, 'Outputs')"
      ]
     },
     "execution_count": 26,
     "metadata": {},
     "output_type": "execute_result"
    },
    {
     "data": {
      "image/png": "[encoded data removed]",
      "text/plain": [
       "<Figure size 576x504 with 1 Axes>"
      ]
     },
     "metadata": {
      "needs_background": "light"
     },
     "output_type": "display_data"
    }
   ],
   "source": [
    "# Plotting the scatter plot of points and color coding by class\n",
    "plt.figure(figsize=(8,7))\n",
    "plt.scatter(testing_plot[:,0], testing_plot[:,1], alpha = 0.1, c = y_test.ravel());\n",
    "plt.title('Outputs')"
   ]
  },
  {
   "cell_type": "markdown",
   "id": "a74fcf8f",
   "metadata": {
    "papermill": {
     "duration": 0.044899,
     "end_time": "2022-10-17T01:00:49.171756",
     "exception": false,
     "start_time": "2022-10-17T01:00:49.126857",
     "status": "completed"
    },
    "tags": []
   },
   "source": [
    "Probability contours"
   ]
  },
  {
   "cell_type": "code",
   "execution_count": 27,
   "id": "d0afc8e3",
   "metadata": {
    "execution": {
     "iopub.execute_input": "2022-10-17T01:00:49.265629Z",
     "iopub.status.busy": "2022-10-17T01:00:49.265050Z",
     "iopub.status.idle": "2022-10-17T01:00:49.276562Z",
     "shell.execute_reply": "2022-10-17T01:00:49.277034Z"
    },
    "papermill": {
     "duration": 0.060402,
     "end_time": "2022-10-17T01:00:49.277161",
     "exception": false,
     "start_time": "2022-10-17T01:00:49.216759",
     "status": "completed"
    },
    "tags": []
   },
   "outputs": [],
   "source": [
    "model_prob = Model(layers[-2:]) "
   ]
  },
  {
   "cell_type": "code",
   "execution_count": 28,
   "id": "9b96e238",
   "metadata": {
    "execution": {
     "iopub.execute_input": "2022-10-17T01:00:49.371139Z",
     "iopub.status.busy": "2022-10-17T01:00:49.370554Z",
     "iopub.status.idle": "2022-10-17T01:00:49.383935Z",
     "shell.execute_reply": "2022-10-17T01:00:49.384362Z"
    },
    "papermill": {
     "duration": 0.06259,
     "end_time": "2022-10-17T01:00:49.384490",
     "exception": false,
     "start_time": "2022-10-17T01:00:49.321900",
     "status": "completed"
    },
    "tags": []
   },
   "outputs": [],
   "source": [
    "#creating the x and y ranges according to the above generated plot.\n",
    "x_range = np.linspace(-4, 1, 100) \n",
    "y_range = np.linspace(-6, 6, 100) \n",
    "x_grid, y_grid = np.meshgrid(x_range, y_range) # x_grid and y_grig are of size 100 X 100\n",
    "\n",
    "# converting x_grid and y_grid to continuous arrays\n",
    "x_gridflat = np.ravel(x_grid)\n",
    "y_gridflat = np.ravel(y_grid)\n",
    "\n",
    "# The last layer of the current model takes two columns as input. Hence transpose of np.vstack() is required.\n",
    "X = np.vstack((x_gridflat, y_gridflat)).T\n",
    "\n",
    "prob_contour = model_prob(X).reshape(100,100) "
   ]
  },
  {
   "cell_type": "code",
   "execution_count": 29,
   "id": "da72499a",
   "metadata": {
    "execution": {
     "iopub.execute_input": "2022-10-17T01:00:49.510301Z",
     "iopub.status.busy": "2022-10-17T01:00:49.509667Z",
     "iopub.status.idle": "2022-10-17T01:00:49.753447Z",
     "shell.execute_reply": "2022-10-17T01:00:49.752330Z"
    },
    "papermill": {
     "duration": 0.29801,
     "end_time": "2022-10-17T01:00:49.753574",
     "exception": false,
     "start_time": "2022-10-17T01:00:49.455564",
     "status": "completed"
    },
    "tags": []
   },
   "outputs": [
    {
     "data": {
      "image/png": "[encoded data removed]",
      "text/plain": [
       "<Figure size 720x648 with 1 Axes>"
      ]
     },
     "metadata": {
      "needs_background": "light"
     },
     "output_type": "display_data"
    }
   ],
   "source": [
    "plt.figure(figsize=(10,9))\n",
    "plt.scatter(testing_plot[:,0], testing_plot[:,1], alpha = 0.1, c = y_test.ravel())\n",
    "contours = plt.contour(x_grid,y_grid,prob_contour)\n",
    "plt.title('Probability Contours')\n",
    "plt.clabel(contours, inline = True );"
   ]
  },
  {
   "cell_type": "code",
   "execution_count": null,
   "id": "e81b4ac7",
   "metadata": {
    "papermill": {
     "duration": 0.047224,
     "end_time": "2022-10-17T01:00:49.848753",
     "exception": false,
     "start_time": "2022-10-17T01:00:49.801529",
     "status": "completed"
    },
    "tags": []
   },
   "outputs": [],
   "source": []
  }
 ],
 "metadata": {
  "kernelspec": {
   "display_name": "Python 3",
   "language": "python",
   "name": "python3"
  },
  "language_info": {
   "codemirror_mode": {
    "name": "ipython",
    "version": 3
   },
   "file_extension": ".py",
   "mimetype": "text/x-python",
   "name": "python",
   "nbconvert_exporter": "python",
   "pygments_lexer": "ipython3",
   "version": "3.6.15"
  },
  "papermill": {
   "default_parameters": {},
   "duration": 97.127913,
   "end_time": "2022-10-17T01:00:50.314198",
   "environment_variables": {},
   "exception": null,
   "input_path": "2020-08-11-part2.ipynb",
   "output_path": "2020-08-11-part2.ipynb",
   "parameters": {},
   "start_time": "2022-10-17T00:59:13.186285",
   "version": "2.3.3"
  }
 },
 "nbformat": 4,
 "nbformat_minor": 5
}