{
 "cells": [
  {
   "cell_type": "markdown",
   "id": "98380cd3",
   "metadata": {
    "papermill": {
     "duration": 0.028361,
     "end_time": "2022-02-23T10:08:49.912424",
     "exception": false,
     "start_time": "2022-02-23T10:08:49.884063",
     "status": "completed"
    },
    "tags": []
   },
   "source": [
    "# Distinguish Your Own Digits (DYOD)"
   ]
  },
  {
   "cell_type": "markdown",
   "id": "ef31240d",
   "metadata": {
    "papermill": {
     "duration": 0.025396,
     "end_time": "2022-02-23T10:08:49.962425",
     "exception": false,
     "start_time": "2022-02-23T10:08:49.937029",
     "status": "completed"
    },
    "tags": []
   },
   "source": [
    "You are going to write a classifier that distinguishes between the number 3 and number 8."
   ]
  },
  {
   "cell_type": "code",
   "execution_count": 1,
   "id": "b15c8646",
   "metadata": {
    "execution": {
     "iopub.execute_input": "2022-02-23T10:08:50.021391Z",
     "iopub.status.busy": "2022-02-23T10:08:50.020802Z",
     "iopub.status.idle": "2022-02-23T10:08:50.031316Z",
     "shell.execute_reply": "2022-02-23T10:08:50.031709Z"
    },
    "papermill": {
     "duration": 0.045646,
     "end_time": "2022-02-23T10:08:50.031877",
     "exception": false,
     "start_time": "2022-02-23T10:08:49.986231",
     "status": "completed"
    },
    "tags": []
   },
   "outputs": [],
   "source": [
    "%load_ext autoreload\n",
    "%autoreload 2"
   ]
  },
  {
   "cell_type": "code",
   "execution_count": 2,
   "id": "22ef38dc",
   "metadata": {
    "execution": {
     "iopub.execute_input": "2022-02-23T10:08:50.084537Z",
     "iopub.status.busy": "2022-02-23T10:08:50.083990Z",
     "iopub.status.idle": "2022-02-23T10:08:50.690300Z",
     "shell.execute_reply": "2022-02-23T10:08:50.689687Z"
    },
    "papermill": {
     "duration": 0.634546,
     "end_time": "2022-02-23T10:08:50.690424",
     "exception": false,
     "start_time": "2022-02-23T10:08:50.055878",
     "status": "completed"
    },
    "tags": []
   },
   "outputs": [],
   "source": [
    "%matplotlib inline\n",
    "import numpy as np\n",
    "import matplotlib.pyplot as plt\n",
    "import pandas as pd"
   ]
  },
  {
   "cell_type": "markdown",
   "id": "ba036198",
   "metadata": {
    "papermill": {
     "duration": 0.023712,
     "end_time": "2022-02-23T10:08:50.738122",
     "exception": false,
     "start_time": "2022-02-23T10:08:50.714410",
     "status": "completed"
    },
    "tags": []
   },
   "source": [
    "From the command line run `pip install mnist`. This is a library that will help you bring down the mnist dataset. If you run this from a notebook, you need to put  `!pip install mnist` in a cell by itself."
   ]
  },
  {
   "cell_type": "code",
   "execution_count": 3,
   "id": "bb6ad8a1",
   "metadata": {
    "execution": {
     "iopub.execute_input": "2022-02-23T10:08:50.802791Z",
     "iopub.status.busy": "2022-02-23T10:08:50.798127Z",
     "iopub.status.idle": "2022-02-23T10:08:52.446830Z",
     "shell.execute_reply": "2022-02-23T10:08:52.447317Z"
    },
    "papermill": {
     "duration": 1.685519,
     "end_time": "2022-02-23T10:08:52.447490",
     "exception": false,
     "start_time": "2022-02-23T10:08:50.761971",
     "status": "completed"
    },
    "tags": []
   },
   "outputs": [
    {
     "name": "stdout",
     "output_type": "stream",
     "text": [
      "Collecting mnist\r\n"
     ]
    },
    {
     "name": "stdout",
     "output_type": "stream",
     "text": [
      "  Downloading mnist-0.2.2-py2.py3-none-any.whl (3.5 kB)\r\n",
      "Requirement already satisfied: numpy in /opt/hostedtoolcache/Python/3.6.15/x64/lib/python3.6/site-packages (from mnist) (1.19.5)\r\n"
     ]
    },
    {
     "name": "stdout",
     "output_type": "stream",
     "text": [
      "Installing collected packages: mnist\r\n"
     ]
    },
    {
     "name": "stdout",
     "output_type": "stream",
     "text": [
      "Successfully installed mnist-0.2.2\r\n"
     ]
    }
   ],
   "source": [
    "!pip install mnist"
   ]
  },
  {
   "cell_type": "markdown",
   "id": "69df9c9a",
   "metadata": {
    "papermill": {
     "duration": 0.025665,
     "end_time": "2022-02-23T10:08:52.498670",
     "exception": false,
     "start_time": "2022-02-23T10:08:52.473005",
     "status": "completed"
    },
    "tags": []
   },
   "source": [
    "## Preparing the Data"
   ]
  },
  {
   "cell_type": "code",
   "execution_count": 4,
   "id": "7f69d806",
   "metadata": {
    "execution": {
     "iopub.execute_input": "2022-02-23T10:08:52.562446Z",
     "iopub.status.busy": "2022-02-23T10:08:52.556603Z",
     "iopub.status.idle": "2022-02-23T10:08:52.568775Z",
     "shell.execute_reply": "2022-02-23T10:08:52.568334Z"
    },
    "papermill": {
     "duration": 0.045249,
     "end_time": "2022-02-23T10:08:52.568891",
     "exception": false,
     "start_time": "2022-02-23T10:08:52.523642",
     "status": "completed"
    },
    "tags": []
   },
   "outputs": [],
   "source": [
    "import mnist"
   ]
  },
  {
   "cell_type": "code",
   "execution_count": 5,
   "id": "a411e44f",
   "metadata": {
    "execution": {
     "iopub.execute_input": "2022-02-23T10:08:52.633874Z",
     "iopub.status.busy": "2022-02-23T10:08:52.633314Z",
     "iopub.status.idle": "2022-02-23T10:08:53.129523Z",
     "shell.execute_reply": "2022-02-23T10:08:53.128947Z"
    },
    "papermill": {
     "duration": 0.535594,
     "end_time": "2022-02-23T10:08:53.129671",
     "exception": false,
     "start_time": "2022-02-23T10:08:52.594077",
     "status": "completed"
    },
    "tags": []
   },
   "outputs": [],
   "source": [
    "train_images = mnist.train_images()\n",
    "train_labels = mnist.train_labels()"
   ]
  },
  {
   "cell_type": "code",
   "execution_count": 6,
   "id": "dceab3a5",
   "metadata": {
    "execution": {
     "iopub.execute_input": "2022-02-23T10:08:53.194854Z",
     "iopub.status.busy": "2022-02-23T10:08:53.194298Z",
     "iopub.status.idle": "2022-02-23T10:08:53.205753Z",
     "shell.execute_reply": "2022-02-23T10:08:53.205301Z"
    },
    "papermill": {
     "duration": 0.050254,
     "end_time": "2022-02-23T10:08:53.205870",
     "exception": false,
     "start_time": "2022-02-23T10:08:53.155616",
     "status": "completed"
    },
    "tags": []
   },
   "outputs": [
    {
     "data": {
      "text/plain": [
       "((60000, 28, 28), (60000,))"
      ]
     },
     "execution_count": 6,
     "metadata": {},
     "output_type": "execute_result"
    }
   ],
   "source": [
    "train_images.shape, train_labels.shape"
   ]
  },
  {
   "cell_type": "code",
   "execution_count": 7,
   "id": "f50dc2bb",
   "metadata": {
    "execution": {
     "iopub.execute_input": "2022-02-23T10:08:53.270182Z",
     "iopub.status.busy": "2022-02-23T10:08:53.265886Z",
     "iopub.status.idle": "2022-02-23T10:08:53.374922Z",
     "shell.execute_reply": "2022-02-23T10:08:53.375410Z"
    },
    "papermill": {
     "duration": 0.144136,
     "end_time": "2022-02-23T10:08:53.375579",
     "exception": false,
     "start_time": "2022-02-23T10:08:53.231443",
     "status": "completed"
    },
    "tags": []
   },
   "outputs": [],
   "source": [
    "test_images = mnist.test_images()\n",
    "test_labels = mnist.test_labels()"
   ]
  },
  {
   "cell_type": "code",
   "execution_count": 8,
   "id": "fc38cf1b",
   "metadata": {
    "execution": {
     "iopub.execute_input": "2022-02-23T10:08:53.431458Z",
     "iopub.status.busy": "2022-02-23T10:08:53.430937Z",
     "iopub.status.idle": "2022-02-23T10:08:53.444056Z",
     "shell.execute_reply": "2022-02-23T10:08:53.443637Z"
    },
    "papermill": {
     "duration": 0.042538,
     "end_time": "2022-02-23T10:08:53.444171",
     "exception": false,
     "start_time": "2022-02-23T10:08:53.401633",
     "status": "completed"
    },
    "tags": []
   },
   "outputs": [
    {
     "data": {
      "text/plain": [
       "((10000, 28, 28), (10000,))"
      ]
     },
     "execution_count": 8,
     "metadata": {},
     "output_type": "execute_result"
    }
   ],
   "source": [
    "test_images.shape, test_labels.shape"
   ]
  },
  {
   "cell_type": "code",
   "execution_count": 9,
   "id": "f9ed8fe0",
   "metadata": {
    "execution": {
     "iopub.execute_input": "2022-02-23T10:08:53.499422Z",
     "iopub.status.busy": "2022-02-23T10:08:53.498910Z",
     "iopub.status.idle": "2022-02-23T10:08:53.636232Z",
     "shell.execute_reply": "2022-02-23T10:08:53.636647Z"
    },
    "papermill": {
     "duration": 0.166874,
     "end_time": "2022-02-23T10:08:53.636793",
     "exception": false,
     "start_time": "2022-02-23T10:08:53.469919",
     "status": "completed"
    },
    "tags": []
   },
   "outputs": [
    {
     "name": "stdout",
     "output_type": "stream",
     "text": [
      "2\n"
     ]
    },
    {
     "data": {
      "text/plain": [
       "<matplotlib.image.AxesImage at 0x7f2d9081e550>"
      ]
     },
     "execution_count": 9,
     "metadata": {},
     "output_type": "execute_result"
    },
    {
     "data": {
      "image/png": "[encoded data removed]",
      "text/plain": [
       "<Figure size 432x288 with 1 Axes>"
      ]
     },
     "metadata": {
      "needs_background": "light"
     },
     "output_type": "display_data"
    }
   ],
   "source": [
    "image_index = 7776 # You may select anything up to 60,000\n",
    "print(train_labels[image_index]) \n",
    "plt.imshow(train_images[image_index], cmap='Greys')"
   ]
  },
  {
   "cell_type": "markdown",
   "id": "a8d2388d",
   "metadata": {
    "papermill": {
     "duration": 0.0271,
     "end_time": "2022-02-23T10:08:53.691001",
     "exception": false,
     "start_time": "2022-02-23T10:08:53.663901",
     "status": "completed"
    },
    "tags": []
   },
   "source": [
    "## Filter data to get 3 and 8 out"
   ]
  },
  {
   "cell_type": "code",
   "execution_count": 10,
   "id": "776f7fc7",
   "metadata": {
    "execution": {
     "iopub.execute_input": "2022-02-23T10:08:53.753692Z",
     "iopub.status.busy": "2022-02-23T10:08:53.753094Z",
     "iopub.status.idle": "2022-02-23T10:08:53.769773Z",
     "shell.execute_reply": "2022-02-23T10:08:53.769258Z"
    },
    "papermill": {
     "duration": 0.052202,
     "end_time": "2022-02-23T10:08:53.769909",
     "exception": false,
     "start_time": "2022-02-23T10:08:53.717707",
     "status": "completed"
    },
    "tags": []
   },
   "outputs": [],
   "source": [
    "train_filter = np.where((train_labels == 3 ) | (train_labels == 8))\n",
    "test_filter = np.where((test_labels == 3) | (test_labels == 8))\n",
    "X_train, y_train = train_images[train_filter], train_labels[train_filter]\n",
    "X_test, y_test = test_images[test_filter], test_labels[test_filter]"
   ]
  },
  {
   "cell_type": "markdown",
   "id": "948f0b7e",
   "metadata": {
    "papermill": {
     "duration": 0.026673,
     "end_time": "2022-02-23T10:08:53.824251",
     "exception": false,
     "start_time": "2022-02-23T10:08:53.797578",
     "status": "completed"
    },
    "tags": []
   },
   "source": [
    "We normalize the pizel values in the 0 to 1 range"
   ]
  },
  {
   "cell_type": "code",
   "execution_count": 11,
   "id": "ee4c2166",
   "metadata": {
    "execution": {
     "iopub.execute_input": "2022-02-23T10:08:53.881255Z",
     "iopub.status.busy": "2022-02-23T10:08:53.880746Z",
     "iopub.status.idle": "2022-02-23T10:08:53.929698Z",
     "shell.execute_reply": "2022-02-23T10:08:53.930181Z"
    },
    "papermill": {
     "duration": 0.079488,
     "end_time": "2022-02-23T10:08:53.930335",
     "exception": false,
     "start_time": "2022-02-23T10:08:53.850847",
     "status": "completed"
    },
    "tags": []
   },
   "outputs": [],
   "source": [
    "X_train = X_train/255.\n",
    "X_test = X_test/255."
   ]
  },
  {
   "cell_type": "markdown",
   "id": "ddcf4fab",
   "metadata": {
    "papermill": {
     "duration": 0.02666,
     "end_time": "2022-02-23T10:08:53.983965",
     "exception": false,
     "start_time": "2022-02-23T10:08:53.957305",
     "status": "completed"
    },
    "tags": []
   },
   "source": [
    "And setup the labels as 1 (when the digit is 3) and 0 (when the digit is 8)"
   ]
  },
  {
   "cell_type": "code",
   "execution_count": 12,
   "id": "7dc908f2",
   "metadata": {
    "execution": {
     "iopub.execute_input": "2022-02-23T10:08:54.055985Z",
     "iopub.status.busy": "2022-02-23T10:08:54.053984Z",
     "iopub.status.idle": "2022-02-23T10:08:54.058621Z",
     "shell.execute_reply": "2022-02-23T10:08:54.059026Z"
    },
    "papermill": {
     "duration": 0.048524,
     "end_time": "2022-02-23T10:08:54.059159",
     "exception": false,
     "start_time": "2022-02-23T10:08:54.010635",
     "status": "completed"
    },
    "tags": []
   },
   "outputs": [],
   "source": [
    "y_train = 1*(y_train==3)\n",
    "y_test = 1*(y_test==3)"
   ]
  },
  {
   "cell_type": "code",
   "execution_count": 13,
   "id": "01e4e969",
   "metadata": {
    "execution": {
     "iopub.execute_input": "2022-02-23T10:08:54.130908Z",
     "iopub.status.busy": "2022-02-23T10:08:54.130368Z",
     "iopub.status.idle": "2022-02-23T10:08:54.133356Z",
     "shell.execute_reply": "2022-02-23T10:08:54.133780Z"
    },
    "papermill": {
     "duration": 0.047868,
     "end_time": "2022-02-23T10:08:54.133919",
     "exception": false,
     "start_time": "2022-02-23T10:08:54.086051",
     "status": "completed"
    },
    "tags": []
   },
   "outputs": [
    {
     "data": {
      "text/plain": [
       "((11982, 28, 28), (1984, 28, 28))"
      ]
     },
     "execution_count": 13,
     "metadata": {},
     "output_type": "execute_result"
    }
   ],
   "source": [
    "X_train.shape, X_test.shape"
   ]
  },
  {
   "cell_type": "markdown",
   "id": "5ccf3f85",
   "metadata": {
    "papermill": {
     "duration": 0.026738,
     "end_time": "2022-02-23T10:08:54.187440",
     "exception": false,
     "start_time": "2022-02-23T10:08:54.160702",
     "status": "completed"
    },
    "tags": []
   },
   "source": [
    "We reshape the data to flatten the image pixels into a set of features or co-variates:"
   ]
  },
  {
   "cell_type": "code",
   "execution_count": 14,
   "id": "5286a4a3",
   "metadata": {
    "execution": {
     "iopub.execute_input": "2022-02-23T10:08:54.252561Z",
     "iopub.status.busy": "2022-02-23T10:08:54.244966Z",
     "iopub.status.idle": "2022-02-23T10:08:54.263308Z",
     "shell.execute_reply": "2022-02-23T10:08:54.263698Z"
    },
    "papermill": {
     "duration": 0.049423,
     "end_time": "2022-02-23T10:08:54.263836",
     "exception": false,
     "start_time": "2022-02-23T10:08:54.214413",
     "status": "completed"
    },
    "tags": []
   },
   "outputs": [
    {
     "data": {
      "text/plain": [
       "((11982, 784), (1984, 784))"
      ]
     },
     "execution_count": 14,
     "metadata": {},
     "output_type": "execute_result"
    }
   ],
   "source": [
    "X_train = X_train.reshape(X_train.shape[0], -1)\n",
    "X_test = X_test.reshape(X_test.shape[0], -1)\n",
    "X_train.shape, X_test.shape"
   ]
  },
  {
   "cell_type": "code",
   "execution_count": 15,
   "id": "73c5f88a",
   "metadata": {
    "execution": {
     "iopub.execute_input": "2022-02-23T10:08:54.322650Z",
     "iopub.status.busy": "2022-02-23T10:08:54.322134Z",
     "iopub.status.idle": "2022-02-23T10:08:54.341698Z",
     "shell.execute_reply": "2022-02-23T10:08:54.342135Z"
    },
    "papermill": {
     "duration": 0.051223,
     "end_time": "2022-02-23T10:08:54.342288",
     "exception": false,
     "start_time": "2022-02-23T10:08:54.291065",
     "status": "completed"
    },
    "tags": []
   },
   "outputs": [],
   "source": [
    "#Impoting functions from 'Kudzu'\n",
    "from kudzu.model import Model\n",
    "from kudzu.train import Learner\n",
    "from kudzu.optim import GD\n",
    "from kudzu.data import Data, Sampler,Dataloader\n",
    "\n",
    "from kudzu.callbacks import AccCallback\n",
    "from kudzu.callbacks import ClfCallback\n",
    "\n",
    "from kudzu.loss import MSE\n",
    "\n",
    "from kudzu.layer import Sigmoid,Relu\n",
    "from kudzu.layer import Affine"
   ]
  },
  {
   "cell_type": "markdown",
   "id": "bc01172a",
   "metadata": {
    "papermill": {
     "duration": 0.02727,
     "end_time": "2022-02-23T10:08:54.397653",
     "exception": false,
     "start_time": "2022-02-23T10:08:54.370383",
     "status": "completed"
    },
    "tags": []
   },
   "source": [
    "### Let us create a `Config` class, to store important parameters. \n",
    "This class essentially plays the role of a dictionary."
   ]
  },
  {
   "cell_type": "code",
   "execution_count": 16,
   "id": "978281aa",
   "metadata": {
    "execution": {
     "iopub.execute_input": "2022-02-23T10:08:54.462174Z",
     "iopub.status.busy": "2022-02-23T10:08:54.461578Z",
     "iopub.status.idle": "2022-02-23T10:08:54.471617Z",
     "shell.execute_reply": "2022-02-23T10:08:54.471175Z"
    },
    "papermill": {
     "duration": 0.046831,
     "end_time": "2022-02-23T10:08:54.471744",
     "exception": false,
     "start_time": "2022-02-23T10:08:54.424913",
     "status": "completed"
    },
    "tags": []
   },
   "outputs": [],
   "source": [
    "class Config:\n",
    "    pass\n",
    "config = Config()\n",
    "config.lr = 0.001\n",
    "config.num_epochs = 250\n",
    "config.bs = 50"
   ]
  },
  {
   "cell_type": "markdown",
   "id": "1385fa59",
   "metadata": {
    "papermill": {
     "duration": 0.027243,
     "end_time": "2022-02-23T10:08:54.526576",
     "exception": false,
     "start_time": "2022-02-23T10:08:54.499333",
     "status": "completed"
    },
    "tags": []
   },
   "source": [
    "### Running Models with the Training data\n",
    "Details about the network layers:\n",
    "- A first affine layer has 784 inputs and does 100 affine transforms. These are followed by a Relu\n",
    "- A second affine layer has 100 inputs from the 100 activations of the past layer, and does 100 affine transforms. These are followed by a Relu\n",
    "- A third affine layer has 100 activations and does 2 affine transformations to create an embedding for visualization. There is no non-linearity here.\n",
    "- A final \"logistic regression\" which has an affine transform from 2 inputs to 1 output, which is squeezed through a sigmoid.\n"
   ]
  },
  {
   "cell_type": "code",
   "execution_count": 17,
   "id": "2b9c66db",
   "metadata": {
    "execution": {
     "iopub.execute_input": "2022-02-23T10:08:54.586738Z",
     "iopub.status.busy": "2022-02-23T10:08:54.586200Z",
     "iopub.status.idle": "2022-02-23T10:08:54.599374Z",
     "shell.execute_reply": "2022-02-23T10:08:54.598920Z"
    },
    "papermill": {
     "duration": 0.045623,
     "end_time": "2022-02-23T10:08:54.599488",
     "exception": false,
     "start_time": "2022-02-23T10:08:54.553865",
     "status": "completed"
    },
    "tags": []
   },
   "outputs": [],
   "source": [
    "data = Data(X_train, y_train.reshape(-1,1))\n",
    "sampler = Sampler(data, config.bs, shuffle=True)\n",
    "\n",
    "dl = Dataloader(data, sampler)\n",
    "\n",
    "opt = GD(config.lr)\n",
    "loss = MSE()"
   ]
  },
  {
   "cell_type": "code",
   "execution_count": 18,
   "id": "b275e4c2",
   "metadata": {
    "execution": {
     "iopub.execute_input": "2022-02-23T10:08:54.658761Z",
     "iopub.status.busy": "2022-02-23T10:08:54.658204Z",
     "iopub.status.idle": "2022-02-23T10:08:54.671013Z",
     "shell.execute_reply": "2022-02-23T10:08:54.670599Z"
    },
    "papermill": {
     "duration": 0.044236,
     "end_time": "2022-02-23T10:08:54.671123",
     "exception": false,
     "start_time": "2022-02-23T10:08:54.626887",
     "status": "completed"
    },
    "tags": []
   },
   "outputs": [],
   "source": [
    "training_data_x = X_train\n",
    "testing_data_x = X_test\n",
    "training_data_y = y_train.reshape(-1,1)\n",
    "testing_data_y = y_test.reshape(-1,1)"
   ]
  },
  {
   "cell_type": "code",
   "execution_count": 19,
   "id": "76951160",
   "metadata": {
    "execution": {
     "iopub.execute_input": "2022-02-23T10:08:54.738229Z",
     "iopub.status.busy": "2022-02-23T10:08:54.734999Z",
     "iopub.status.idle": "2022-02-23T10:08:54.748090Z",
     "shell.execute_reply": "2022-02-23T10:08:54.747646Z"
    },
    "papermill": {
     "duration": 0.049935,
     "end_time": "2022-02-23T10:08:54.748201",
     "exception": false,
     "start_time": "2022-02-23T10:08:54.698266",
     "status": "completed"
    },
    "tags": []
   },
   "outputs": [
    {
     "name": "stdout",
     "output_type": "stream",
     "text": [
      "xavier\n",
      "xavier\n",
      "xavier\n",
      "xavier\n",
      "xavier\n"
     ]
    }
   ],
   "source": [
    "layers = [Affine(\"first\", 784, 100), Relu(\"first\"), Affine(\"second\", 100, 100), Relu(\"second\"), Affine(\"third\", 100, 2), Affine(\"last\", 2, 1), Sigmoid(\"last\")]\n",
    "model_nn = Model(layers)\n",
    "model_lr = Model([Affine(\"logits\", 784, 1), Sigmoid(\"sigmoid\")])"
   ]
  },
  {
   "cell_type": "code",
   "execution_count": 20,
   "id": "6eede77a",
   "metadata": {
    "execution": {
     "iopub.execute_input": "2022-02-23T10:08:54.808255Z",
     "iopub.status.busy": "2022-02-23T10:08:54.807730Z",
     "iopub.status.idle": "2022-02-23T10:08:54.820019Z",
     "shell.execute_reply": "2022-02-23T10:08:54.820417Z"
    },
    "papermill": {
     "duration": 0.044928,
     "end_time": "2022-02-23T10:08:54.820561",
     "exception": false,
     "start_time": "2022-02-23T10:08:54.775633",
     "status": "completed"
    },
    "tags": []
   },
   "outputs": [],
   "source": [
    "nn_learner = Learner(loss, model_nn, opt, config.num_epochs)\n",
    "acc_nn = ClfCallback(nn_learner, config.bs, training_data_x , testing_data_x, training_data_y, testing_data_y)\n",
    "nn_learner.set_callbacks([acc_nn])"
   ]
  },
  {
   "cell_type": "code",
   "execution_count": 21,
   "id": "877b6cc7",
   "metadata": {
    "execution": {
     "iopub.execute_input": "2022-02-23T10:08:54.881008Z",
     "iopub.status.busy": "2022-02-23T10:08:54.880490Z",
     "iopub.status.idle": "2022-02-23T10:08:54.892427Z",
     "shell.execute_reply": "2022-02-23T10:08:54.892860Z"
    },
    "papermill": {
     "duration": 0.044746,
     "end_time": "2022-02-23T10:08:54.892998",
     "exception": false,
     "start_time": "2022-02-23T10:08:54.848252",
     "status": "completed"
    },
    "tags": []
   },
   "outputs": [],
   "source": [
    "lr_learner = Learner(loss, model_lr, opt, config.num_epochs)\n",
    "acc_lr = ClfCallback(lr_learner, config.bs, training_data_x , testing_data_x, training_data_y, testing_data_y)\n",
    "lr_learner.set_callbacks([acc_lr])"
   ]
  },
  {
   "cell_type": "code",
   "execution_count": 22,
   "id": "d9b133c3",
   "metadata": {
    "execution": {
     "iopub.execute_input": "2022-02-23T10:08:54.965169Z",
     "iopub.status.busy": "2022-02-23T10:08:54.962153Z",
     "iopub.status.idle": "2022-02-23T10:10:12.418826Z",
     "shell.execute_reply": "2022-02-23T10:10:12.419569Z"
    },
    "papermill": {
     "duration": 77.499254,
     "end_time": "2022-02-23T10:10:12.419726",
     "exception": false,
     "start_time": "2022-02-23T10:08:54.920472",
     "status": "completed"
    },
    "tags": []
   },
   "outputs": [
    {
     "name": "stdout",
     "output_type": "stream",
     "text": [
      "Epoch 0, Loss 0.2451\n",
      "Training Accuracy: 0.7081, Testing Accuracy: 0.7137\n",
      "\n"
     ]
    },
    {
     "name": "stdout",
     "output_type": "stream",
     "text": [
      "Epoch 10, Loss 0.074\n",
      "Training Accuracy: 0.9345, Testing Accuracy: 0.9446\n",
      "\n"
     ]
    },
    {
     "name": "stdout",
     "output_type": "stream",
     "text": [
      "Epoch 20, Loss 0.0489\n",
      "Training Accuracy: 0.9480, Testing Accuracy: 0.9642\n",
      "\n"
     ]
    },
    {
     "name": "stdout",
     "output_type": "stream",
     "text": [
      "Epoch 30, Loss 0.0403\n",
      "Training Accuracy: 0.9558, Testing Accuracy: 0.9662\n",
      "\n"
     ]
    },
    {
     "name": "stdout",
     "output_type": "stream",
     "text": [
      "Epoch 40, Loss 0.0358\n",
      "Training Accuracy: 0.9597, Testing Accuracy: 0.9677\n",
      "\n"
     ]
    },
    {
     "name": "stdout",
     "output_type": "stream",
     "text": [
      "Epoch 50, Loss 0.0329\n",
      "Training Accuracy: 0.9621, Testing Accuracy: 0.9703\n",
      "\n"
     ]
    },
    {
     "name": "stdout",
     "output_type": "stream",
     "text": [
      "Epoch 60, Loss 0.0307\n",
      "Training Accuracy: 0.9644, Testing Accuracy: 0.9728\n",
      "\n"
     ]
    },
    {
     "name": "stdout",
     "output_type": "stream",
     "text": [
      "Epoch 70, Loss 0.0291\n",
      "Training Accuracy: 0.9664, Testing Accuracy: 0.9738\n",
      "\n"
     ]
    },
    {
     "name": "stdout",
     "output_type": "stream",
     "text": [
      "Epoch 80, Loss 0.0278\n",
      "Training Accuracy: 0.9679, Testing Accuracy: 0.9738\n",
      "\n"
     ]
    },
    {
     "name": "stdout",
     "output_type": "stream",
     "text": [
      "Epoch 90, Loss 0.0267\n",
      "Training Accuracy: 0.9688, Testing Accuracy: 0.9733\n",
      "\n"
     ]
    },
    {
     "name": "stdout",
     "output_type": "stream",
     "text": [
      "Epoch 100, Loss 0.0257\n",
      "Training Accuracy: 0.9705, Testing Accuracy: 0.9743\n",
      "\n"
     ]
    },
    {
     "name": "stdout",
     "output_type": "stream",
     "text": [
      "Epoch 110, Loss 0.0249\n",
      "Training Accuracy: 0.9719, Testing Accuracy: 0.9748\n",
      "\n"
     ]
    },
    {
     "name": "stdout",
     "output_type": "stream",
     "text": [
      "Epoch 120, Loss 0.0242\n",
      "Training Accuracy: 0.9725, Testing Accuracy: 0.9738\n",
      "\n"
     ]
    },
    {
     "name": "stdout",
     "output_type": "stream",
     "text": [
      "Epoch 130, Loss 0.0235\n",
      "Training Accuracy: 0.9732, Testing Accuracy: 0.9743\n",
      "\n"
     ]
    },
    {
     "name": "stdout",
     "output_type": "stream",
     "text": [
      "Epoch 140, Loss 0.0228\n",
      "Training Accuracy: 0.9737, Testing Accuracy: 0.9743\n",
      "\n"
     ]
    },
    {
     "name": "stdout",
     "output_type": "stream",
     "text": [
      "Epoch 150, Loss 0.0223\n",
      "Training Accuracy: 0.9744, Testing Accuracy: 0.9738\n",
      "\n"
     ]
    },
    {
     "name": "stdout",
     "output_type": "stream",
     "text": [
      "Epoch 160, Loss 0.0217\n",
      "Training Accuracy: 0.9751, Testing Accuracy: 0.9738\n",
      "\n"
     ]
    },
    {
     "name": "stdout",
     "output_type": "stream",
     "text": [
      "Epoch 170, Loss 0.0212\n",
      "Training Accuracy: 0.9755, Testing Accuracy: 0.9738\n",
      "\n"
     ]
    },
    {
     "name": "stdout",
     "output_type": "stream",
     "text": [
      "Epoch 180, Loss 0.0207\n",
      "Training Accuracy: 0.9764, Testing Accuracy: 0.9738\n",
      "\n"
     ]
    },
    {
     "name": "stdout",
     "output_type": "stream",
     "text": [
      "Epoch 190, Loss 0.0203\n",
      "Training Accuracy: 0.9773, Testing Accuracy: 0.9743\n",
      "\n"
     ]
    },
    {
     "name": "stdout",
     "output_type": "stream",
     "text": [
      "Epoch 200, Loss 0.0199\n",
      "Training Accuracy: 0.9781, Testing Accuracy: 0.9743\n",
      "\n"
     ]
    },
    {
     "name": "stdout",
     "output_type": "stream",
     "text": [
      "Epoch 210, Loss 0.0195\n",
      "Training Accuracy: 0.9783, Testing Accuracy: 0.9743\n",
      "\n"
     ]
    },
    {
     "name": "stdout",
     "output_type": "stream",
     "text": [
      "Epoch 220, Loss 0.0191\n",
      "Training Accuracy: 0.9788, Testing Accuracy: 0.9748\n",
      "\n"
     ]
    },
    {
     "name": "stdout",
     "output_type": "stream",
     "text": [
      "Epoch 230, Loss 0.0187\n",
      "Training Accuracy: 0.9788, Testing Accuracy: 0.9753\n",
      "\n"
     ]
    },
    {
     "name": "stdout",
     "output_type": "stream",
     "text": [
      "Epoch 240, Loss 0.0184\n",
      "Training Accuracy: 0.9796, Testing Accuracy: 0.9753\n",
      "\n"
     ]
    },
    {
     "data": {
      "text/plain": [
       "0.0025170587345973382"
      ]
     },
     "execution_count": 22,
     "metadata": {},
     "output_type": "execute_result"
    }
   ],
   "source": [
    "nn_learner.train_loop(dl)"
   ]
  },
  {
   "cell_type": "code",
   "execution_count": 23,
   "id": "e0163366",
   "metadata": {
    "execution": {
     "iopub.execute_input": "2022-02-23T10:10:12.502589Z",
     "iopub.status.busy": "2022-02-23T10:10:12.502035Z",
     "iopub.status.idle": "2022-02-23T10:10:26.419764Z",
     "shell.execute_reply": "2022-02-23T10:10:26.420519Z"
    },
    "papermill": {
     "duration": 13.965927,
     "end_time": "2022-02-23T10:10:26.420674",
     "exception": false,
     "start_time": "2022-02-23T10:10:12.454747",
     "status": "completed"
    },
    "tags": []
   },
   "outputs": [
    {
     "name": "stdout",
     "output_type": "stream",
     "text": [
      "Epoch 0, Loss 0.2423\n",
      "Training Accuracy: 0.6892, Testing Accuracy: 0.6880\n",
      "\n"
     ]
    },
    {
     "name": "stdout",
     "output_type": "stream",
     "text": [
      "Epoch 10, Loss 0.1007\n",
      "Training Accuracy: 0.9156, Testing Accuracy: 0.9294\n",
      "\n"
     ]
    },
    {
     "name": "stdout",
     "output_type": "stream",
     "text": [
      "Epoch 20, Loss 0.0775\n",
      "Training Accuracy: 0.9322, Testing Accuracy: 0.9425\n",
      "\n"
     ]
    },
    {
     "name": "stdout",
     "output_type": "stream",
     "text": [
      "Epoch 30, Loss 0.0669\n",
      "Training Accuracy: 0.9400, Testing Accuracy: 0.9476\n",
      "\n"
     ]
    },
    {
     "name": "stdout",
     "output_type": "stream",
     "text": [
      "Epoch 40, Loss 0.0606\n",
      "Training Accuracy: 0.9440, Testing Accuracy: 0.9521\n",
      "\n"
     ]
    },
    {
     "name": "stdout",
     "output_type": "stream",
     "text": [
      "Epoch 50, Loss 0.0563\n",
      "Training Accuracy: 0.9466, Testing Accuracy: 0.9561\n",
      "\n"
     ]
    },
    {
     "name": "stdout",
     "output_type": "stream",
     "text": [
      "Epoch 60, Loss 0.0532\n",
      "Training Accuracy: 0.9487, Testing Accuracy: 0.9561\n",
      "\n"
     ]
    },
    {
     "name": "stdout",
     "output_type": "stream",
     "text": [
      "Epoch 70, Loss 0.0507\n",
      "Training Accuracy: 0.9513, Testing Accuracy: 0.9587\n",
      "\n"
     ]
    },
    {
     "name": "stdout",
     "output_type": "stream",
     "text": [
      "Epoch 80, Loss 0.0488\n",
      "Training Accuracy: 0.9528, Testing Accuracy: 0.9602\n",
      "\n"
     ]
    },
    {
     "name": "stdout",
     "output_type": "stream",
     "text": [
      "Epoch 90, Loss 0.0471\n",
      "Training Accuracy: 0.9542, Testing Accuracy: 0.9602\n",
      "\n"
     ]
    },
    {
     "name": "stdout",
     "output_type": "stream",
     "text": [
      "Epoch 100, Loss 0.0458\n",
      "Training Accuracy: 0.9548, Testing Accuracy: 0.9607\n",
      "\n"
     ]
    },
    {
     "name": "stdout",
     "output_type": "stream",
     "text": [
      "Epoch 110, Loss 0.0446\n",
      "Training Accuracy: 0.9552, Testing Accuracy: 0.9632\n",
      "\n"
     ]
    },
    {
     "name": "stdout",
     "output_type": "stream",
     "text": [
      "Epoch 120, Loss 0.0436\n",
      "Training Accuracy: 0.9556, Testing Accuracy: 0.9642\n",
      "\n"
     ]
    },
    {
     "name": "stdout",
     "output_type": "stream",
     "text": [
      "Epoch 130, Loss 0.0427\n",
      "Training Accuracy: 0.9564, Testing Accuracy: 0.9642\n",
      "\n"
     ]
    },
    {
     "name": "stdout",
     "output_type": "stream",
     "text": [
      "Epoch 140, Loss 0.0419\n",
      "Training Accuracy: 0.9575, Testing Accuracy: 0.9647\n",
      "\n"
     ]
    },
    {
     "name": "stdout",
     "output_type": "stream",
     "text": [
      "Epoch 150, Loss 0.0412\n",
      "Training Accuracy: 0.9577, Testing Accuracy: 0.9647\n",
      "\n"
     ]
    },
    {
     "name": "stdout",
     "output_type": "stream",
     "text": [
      "Epoch 160, Loss 0.0405\n",
      "Training Accuracy: 0.9579, Testing Accuracy: 0.9647\n",
      "\n"
     ]
    },
    {
     "name": "stdout",
     "output_type": "stream",
     "text": [
      "Epoch 170, Loss 0.0399\n",
      "Training Accuracy: 0.9583, Testing Accuracy: 0.9652\n",
      "\n"
     ]
    },
    {
     "name": "stdout",
     "output_type": "stream",
     "text": [
      "Epoch 180, Loss 0.0394\n",
      "Training Accuracy: 0.9587, Testing Accuracy: 0.9652\n",
      "\n"
     ]
    },
    {
     "name": "stdout",
     "output_type": "stream",
     "text": [
      "Epoch 190, Loss 0.0389\n",
      "Training Accuracy: 0.9589, Testing Accuracy: 0.9652\n",
      "\n"
     ]
    },
    {
     "name": "stdout",
     "output_type": "stream",
     "text": [
      "Epoch 200, Loss 0.0384\n",
      "Training Accuracy: 0.9590, Testing Accuracy: 0.9647\n",
      "\n"
     ]
    },
    {
     "name": "stdout",
     "output_type": "stream",
     "text": [
      "Epoch 210, Loss 0.038\n",
      "Training Accuracy: 0.9593, Testing Accuracy: 0.9647\n",
      "\n"
     ]
    },
    {
     "name": "stdout",
     "output_type": "stream",
     "text": [
      "Epoch 220, Loss 0.0376\n",
      "Training Accuracy: 0.9595, Testing Accuracy: 0.9652\n",
      "\n"
     ]
    },
    {
     "name": "stdout",
     "output_type": "stream",
     "text": [
      "Epoch 230, Loss 0.0372\n",
      "Training Accuracy: 0.9599, Testing Accuracy: 0.9657\n",
      "\n"
     ]
    },
    {
     "name": "stdout",
     "output_type": "stream",
     "text": [
      "Epoch 240, Loss 0.0369\n",
      "Training Accuracy: 0.9601, Testing Accuracy: 0.9657\n",
      "\n"
     ]
    },
    {
     "data": {
      "text/plain": [
       "0.0478939208143671"
      ]
     },
     "execution_count": 23,
     "metadata": {},
     "output_type": "execute_result"
    }
   ],
   "source": [
    "lr_learner.train_loop(dl)"
   ]
  },
  {
   "cell_type": "code",
   "execution_count": 24,
   "id": "ca410940",
   "metadata": {
    "execution": {
     "iopub.execute_input": "2022-02-23T10:10:26.511076Z",
     "iopub.status.busy": "2022-02-23T10:10:26.510549Z",
     "iopub.status.idle": "2022-02-23T10:10:26.739658Z",
     "shell.execute_reply": "2022-02-23T10:10:26.740167Z"
    },
    "papermill": {
     "duration": 0.278118,
     "end_time": "2022-02-23T10:10:26.740327",
     "exception": false,
     "start_time": "2022-02-23T10:10:26.462209",
     "status": "completed"
    },
    "tags": []
   },
   "outputs": [
    {
     "data": {
      "text/plain": [
       "<matplotlib.legend.Legend at 0x7f2d903fac88>"
      ]
     },
     "execution_count": 24,
     "metadata": {},
     "output_type": "execute_result"
    },
    {
     "data": {
      "image/png": "[encoded data removed]",
      "text/plain": [
       "<Figure size 1080x720 with 1 Axes>"
      ]
     },
     "metadata": {
      "needs_background": "light"
     },
     "output_type": "display_data"
    }
   ],
   "source": [
    "#comparing the results of NN and LR\n",
    "plt.figure(figsize=(15,10))\n",
    "\n",
    "# Neural Network plots\n",
    "plt.plot(acc_nn.accuracies, 'r-', label = \"Training Accuracies - NN\")\n",
    "plt.plot(acc_nn.test_accuracies, 'g-', label = \"Testing Accuracies - NN\")\n",
    "\n",
    "# Logistic Regression plots\n",
    "plt.plot(acc_lr.accuracies, 'k-', label = \"Training Accuracies - LR\")\n",
    "plt.plot(acc_lr.test_accuracies, 'b-', label = \"Testing Accuracies - LR\")\n",
    "plt.legend()"
   ]
  },
  {
   "cell_type": "markdown",
   "id": "80dfb35c",
   "metadata": {
    "papermill": {
     "duration": 0.042475,
     "end_time": "2022-02-23T10:10:26.826275",
     "exception": false,
     "start_time": "2022-02-23T10:10:26.783800",
     "status": "completed"
    },
    "tags": []
   },
   "source": [
    "#### Plotting the outputs of this layer of the NN.\n"
   ]
  },
  {
   "cell_type": "code",
   "execution_count": 25,
   "id": "45eb2ff5",
   "metadata": {
    "execution": {
     "iopub.execute_input": "2022-02-23T10:10:26.926875Z",
     "iopub.status.busy": "2022-02-23T10:10:26.926291Z",
     "iopub.status.idle": "2022-02-23T10:10:26.941765Z",
     "shell.execute_reply": "2022-02-23T10:10:26.942205Z"
    },
    "papermill": {
     "duration": 0.073429,
     "end_time": "2022-02-23T10:10:26.942348",
     "exception": false,
     "start_time": "2022-02-23T10:10:26.868919",
     "status": "completed"
    },
    "tags": []
   },
   "outputs": [],
   "source": [
    "new_model = Model(layers[:-2])\n",
    "testing_plot = new_model(testing_data_x)"
   ]
  },
  {
   "cell_type": "code",
   "execution_count": 26,
   "id": "4c0a5485",
   "metadata": {
    "execution": {
     "iopub.execute_input": "2022-02-23T10:10:27.038913Z",
     "iopub.status.busy": "2022-02-23T10:10:27.038383Z",
     "iopub.status.idle": "2022-02-23T10:10:27.231190Z",
     "shell.execute_reply": "2022-02-23T10:10:27.231595Z"
    },
    "papermill": {
     "duration": 0.246043,
     "end_time": "2022-02-23T10:10:27.231752",
     "exception": false,
     "start_time": "2022-02-23T10:10:26.985709",
     "status": "completed"
    },
    "tags": []
   },
   "outputs": [
    {
     "data": {
      "text/plain": [
       "Text(0.5, 1.0, 'Outputs')"
      ]
     },
     "execution_count": 26,
     "metadata": {},
     "output_type": "execute_result"
    },
    {
     "data": {
      "image/png": "[encoded data removed]",
      "text/plain": [
       "<Figure size 576x504 with 1 Axes>"
      ]
     },
     "metadata": {
      "needs_background": "light"
     },
     "output_type": "display_data"
    }
   ],
   "source": [
    "# Plotting the scatter plot of points and color coding by class\n",
    "plt.figure(figsize=(8,7))\n",
    "plt.scatter(testing_plot[:,0], testing_plot[:,1], alpha = 0.1, c = y_test.ravel());\n",
    "plt.title('Outputs')"
   ]
  },
  {
   "cell_type": "markdown",
   "id": "a74fcf8f",
   "metadata": {
    "papermill": {
     "duration": 0.04479,
     "end_time": "2022-02-23T10:10:27.321524",
     "exception": false,
     "start_time": "2022-02-23T10:10:27.276734",
     "status": "completed"
    },
    "tags": []
   },
   "source": [
    "Probability contours"
   ]
  },
  {
   "cell_type": "code",
   "execution_count": 27,
   "id": "d0afc8e3",
   "metadata": {
    "execution": {
     "iopub.execute_input": "2022-02-23T10:10:27.417024Z",
     "iopub.status.busy": "2022-02-23T10:10:27.416492Z",
     "iopub.status.idle": "2022-02-23T10:10:27.427655Z",
     "shell.execute_reply": "2022-02-23T10:10:27.427177Z"
    },
    "papermill": {
     "duration": 0.061477,
     "end_time": "2022-02-23T10:10:27.427775",
     "exception": false,
     "start_time": "2022-02-23T10:10:27.366298",
     "status": "completed"
    },
    "tags": []
   },
   "outputs": [],
   "source": [
    "model_prob = Model(layers[-2:]) "
   ]
  },
  {
   "cell_type": "code",
   "execution_count": 28,
   "id": "9b96e238",
   "metadata": {
    "execution": {
     "iopub.execute_input": "2022-02-23T10:10:27.554918Z",
     "iopub.status.busy": "2022-02-23T10:10:27.554299Z",
     "iopub.status.idle": "2022-02-23T10:10:27.567347Z",
     "shell.execute_reply": "2022-02-23T10:10:27.567748Z"
    },
    "papermill": {
     "duration": 0.06345,
     "end_time": "2022-02-23T10:10:27.567898",
     "exception": false,
     "start_time": "2022-02-23T10:10:27.504448",
     "status": "completed"
    },
    "tags": []
   },
   "outputs": [],
   "source": [
    "#creating the x and y ranges according to the above generated plot.\n",
    "x_range = np.linspace(-4, 1, 100) \n",
    "y_range = np.linspace(-6, 6, 100) \n",
    "x_grid, y_grid = np.meshgrid(x_range, y_range) # x_grid and y_grig are of size 100 X 100\n",
    "\n",
    "# converting x_grid and y_grid to continuous arrays\n",
    "x_gridflat = np.ravel(x_grid)\n",
    "y_gridflat = np.ravel(y_grid)\n",
    "\n",
    "# The last layer of the current model takes two columns as input. Hence transpose of np.vstack() is required.\n",
    "X = np.vstack((x_gridflat, y_gridflat)).T\n",
    "\n",
    "prob_contour = model_prob(X).reshape(100,100) "
   ]
  },
  {
   "cell_type": "code",
   "execution_count": 29,
   "id": "da72499a",
   "metadata": {
    "execution": {
     "iopub.execute_input": "2022-02-23T10:10:27.668927Z",
     "iopub.status.busy": "2022-02-23T10:10:27.668384Z",
     "iopub.status.idle": "2022-02-23T10:10:27.912842Z",
     "shell.execute_reply": "2022-02-23T10:10:27.911976Z"
    },
    "papermill": {
     "duration": 0.299454,
     "end_time": "2022-02-23T10:10:27.912980",
     "exception": false,
     "start_time": "2022-02-23T10:10:27.613526",
     "status": "completed"
    },
    "tags": []
   },
   "outputs": [
    {
     "data": {
      "image/png": "[encoded data removed]",
      "text/plain": [
       "<Figure size 720x648 with 1 Axes>"
      ]
     },
     "metadata": {
      "needs_background": "light"
     },
     "output_type": "display_data"
    }
   ],
   "source": [
    "plt.figure(figsize=(10,9))\n",
    "plt.scatter(testing_plot[:,0], testing_plot[:,1], alpha = 0.1, c = y_test.ravel())\n",
    "contours = plt.contour(x_grid,y_grid,prob_contour)\n",
    "plt.title('Probability Contours')\n",
    "plt.clabel(contours, inline = True );"
   ]
  },
  {
   "cell_type": "code",
   "execution_count": null,
   "id": "e81b4ac7",
   "metadata": {
    "papermill": {
     "duration": 0.047461,
     "end_time": "2022-02-23T10:10:28.008766",
     "exception": false,
     "start_time": "2022-02-23T10:10:27.961305",
     "status": "completed"
    },
    "tags": []
   },
   "outputs": [],
   "source": []
  }
 ],
 "metadata": {
  "kernelspec": {
   "display_name": "Python 3",
   "language": "python",
   "name": "python3"
  },
  "language_info": {
   "codemirror_mode": {
    "name": "ipython",
    "version": 3
   },
   "file_extension": ".py",
   "mimetype": "text/x-python",
   "name": "python",
   "nbconvert_exporter": "python",
   "pygments_lexer": "ipython3",
   "version": "3.6.15"
  },
  "papermill": {
   "default_parameters": {},
   "duration": 99.530333,
   "end_time": "2022-02-23T10:10:28.477968",
   "environment_variables": {},
   "exception": null,
   "input_path": "2020-08-11-part2.ipynb",
   "output_path": "2020-08-11-part2.ipynb",
   "parameters": {},
   "start_time": "2022-02-23T10:08:48.947635",
   "version": "2.3.3"
  }
 },
 "nbformat": 4,
 "nbformat_minor": 5
}