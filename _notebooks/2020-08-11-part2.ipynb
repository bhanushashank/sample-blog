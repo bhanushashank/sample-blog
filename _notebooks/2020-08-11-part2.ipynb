{
 "cells": [
  {
   "cell_type": "markdown",
   "id": "98380cd3",
   "metadata": {
    "papermill": {
     "duration": 0.032686,
     "end_time": "2021-10-20T00:22:50.729677",
     "exception": false,
     "start_time": "2021-10-20T00:22:50.696991",
     "status": "completed"
    },
    "tags": []
   },
   "source": [
    "# Distinguish Your Own Digits (DYOD)"
   ]
  },
  {
   "cell_type": "markdown",
   "id": "ef31240d",
   "metadata": {
    "papermill": {
     "duration": 0.029466,
     "end_time": "2021-10-20T00:22:50.788852",
     "exception": false,
     "start_time": "2021-10-20T00:22:50.759386",
     "status": "completed"
    },
    "tags": []
   },
   "source": [
    "You are going to write a classifier that distinguishes between the number 3 and number 8."
   ]
  },
  {
   "cell_type": "code",
   "execution_count": 1,
   "id": "b15c8646",
   "metadata": {
    "execution": {
     "iopub.execute_input": "2021-10-20T00:22:50.869457Z",
     "iopub.status.busy": "2021-10-20T00:22:50.866252Z",
     "iopub.status.idle": "2021-10-20T00:22:50.881361Z",
     "shell.execute_reply": "2021-10-20T00:22:50.880606Z"
    },
    "papermill": {
     "duration": 0.060777,
     "end_time": "2021-10-20T00:22:50.881533",
     "exception": false,
     "start_time": "2021-10-20T00:22:50.820756",
     "status": "completed"
    },
    "tags": []
   },
   "outputs": [],
   "source": [
    "%load_ext autoreload\n",
    "%autoreload 2"
   ]
  },
  {
   "cell_type": "code",
   "execution_count": 2,
   "id": "22ef38dc",
   "metadata": {
    "execution": {
     "iopub.execute_input": "2021-10-20T00:22:50.951626Z",
     "iopub.status.busy": "2021-10-20T00:22:50.950922Z",
     "iopub.status.idle": "2021-10-20T00:22:51.573714Z",
     "shell.execute_reply": "2021-10-20T00:22:51.573103Z"
    },
    "papermill": {
     "duration": 0.660461,
     "end_time": "2021-10-20T00:22:51.573867",
     "exception": false,
     "start_time": "2021-10-20T00:22:50.913406",
     "status": "completed"
    },
    "tags": []
   },
   "outputs": [],
   "source": [
    "%matplotlib inline\n",
    "import numpy as np\n",
    "import matplotlib.pyplot as plt\n",
    "import pandas as pd"
   ]
  },
  {
   "cell_type": "markdown",
   "id": "ba036198",
   "metadata": {
    "papermill": {
     "duration": 0.030786,
     "end_time": "2021-10-20T00:22:51.635006",
     "exception": false,
     "start_time": "2021-10-20T00:22:51.604220",
     "status": "completed"
    },
    "tags": []
   },
   "source": [
    "From the command line run `pip install mnist`. This is a library that will help you bring down the mnist dataset. If you run this from a notebook, you need to put  `!pip install mnist` in a cell by itself."
   ]
  },
  {
   "cell_type": "code",
   "execution_count": 3,
   "id": "bb6ad8a1",
   "metadata": {
    "execution": {
     "iopub.execute_input": "2021-10-20T00:22:51.702666Z",
     "iopub.status.busy": "2021-10-20T00:22:51.701920Z",
     "iopub.status.idle": "2021-10-20T00:22:53.662548Z",
     "shell.execute_reply": "2021-10-20T00:22:53.661940Z"
    },
    "papermill": {
     "duration": 1.997546,
     "end_time": "2021-10-20T00:22:53.662699",
     "exception": false,
     "start_time": "2021-10-20T00:22:51.665153",
     "status": "completed"
    },
    "tags": []
   },
   "outputs": [
    {
     "name": "stdout",
     "output_type": "stream",
     "text": [
      "Collecting mnist\r\n"
     ]
    },
    {
     "name": "stdout",
     "output_type": "stream",
     "text": [
      "  Downloading mnist-0.2.2-py2.py3-none-any.whl (3.5 kB)\r\n",
      "Requirement already satisfied: numpy in /opt/hostedtoolcache/Python/3.6.15/x64/lib/python3.6/site-packages (from mnist) (1.19.5)\r\n"
     ]
    },
    {
     "name": "stdout",
     "output_type": "stream",
     "text": [
      "Installing collected packages: mnist\r\n",
      "Successfully installed mnist-0.2.2\r\n"
     ]
    },
    {
     "name": "stdout",
     "output_type": "stream",
     "text": [
      "\u001b[33mWARNING: You are using pip version 21.2.4; however, version 21.3 is available.\r\n",
      "You should consider upgrading via the '/opt/hostedtoolcache/Python/3.6.15/x64/bin/python -m pip install --upgrade pip' command.\u001b[0m\r\n"
     ]
    }
   ],
   "source": [
    "!pip install mnist"
   ]
  },
  {
   "cell_type": "markdown",
   "id": "69df9c9a",
   "metadata": {
    "papermill": {
     "duration": 0.031332,
     "end_time": "2021-10-20T00:22:53.724862",
     "exception": false,
     "start_time": "2021-10-20T00:22:53.693530",
     "status": "completed"
    },
    "tags": []
   },
   "source": [
    "## Preparing the Data"
   ]
  },
  {
   "cell_type": "code",
   "execution_count": 4,
   "id": "7f69d806",
   "metadata": {
    "execution": {
     "iopub.execute_input": "2021-10-20T00:22:53.791757Z",
     "iopub.status.busy": "2021-10-20T00:22:53.791063Z",
     "iopub.status.idle": "2021-10-20T00:22:53.806010Z",
     "shell.execute_reply": "2021-10-20T00:22:53.806548Z"
    },
    "papermill": {
     "duration": 0.051451,
     "end_time": "2021-10-20T00:22:53.806705",
     "exception": false,
     "start_time": "2021-10-20T00:22:53.755254",
     "status": "completed"
    },
    "tags": []
   },
   "outputs": [],
   "source": [
    "import mnist"
   ]
  },
  {
   "cell_type": "code",
   "execution_count": 5,
   "id": "a411e44f",
   "metadata": {
    "execution": {
     "iopub.execute_input": "2021-10-20T00:22:53.872296Z",
     "iopub.status.busy": "2021-10-20T00:22:53.871663Z",
     "iopub.status.idle": "2021-10-20T00:22:54.460449Z",
     "shell.execute_reply": "2021-10-20T00:22:54.460960Z"
    },
    "papermill": {
     "duration": 0.623466,
     "end_time": "2021-10-20T00:22:54.461139",
     "exception": false,
     "start_time": "2021-10-20T00:22:53.837673",
     "status": "completed"
    },
    "tags": []
   },
   "outputs": [],
   "source": [
    "train_images = mnist.train_images()\n",
    "train_labels = mnist.train_labels()"
   ]
  },
  {
   "cell_type": "code",
   "execution_count": 6,
   "id": "dceab3a5",
   "metadata": {
    "execution": {
     "iopub.execute_input": "2021-10-20T00:22:54.538544Z",
     "iopub.status.busy": "2021-10-20T00:22:54.537886Z",
     "iopub.status.idle": "2021-10-20T00:22:54.552536Z",
     "shell.execute_reply": "2021-10-20T00:22:54.553049Z"
    },
    "papermill": {
     "duration": 0.052375,
     "end_time": "2021-10-20T00:22:54.553195",
     "exception": false,
     "start_time": "2021-10-20T00:22:54.500820",
     "status": "completed"
    },
    "tags": []
   },
   "outputs": [
    {
     "data": {
      "text/plain": [
       "((60000, 28, 28), (60000,))"
      ]
     },
     "execution_count": 6,
     "metadata": {},
     "output_type": "execute_result"
    }
   ],
   "source": [
    "train_images.shape, train_labels.shape"
   ]
  },
  {
   "cell_type": "code",
   "execution_count": 7,
   "id": "f50dc2bb",
   "metadata": {
    "execution": {
     "iopub.execute_input": "2021-10-20T00:22:54.623724Z",
     "iopub.status.busy": "2021-10-20T00:22:54.623027Z",
     "iopub.status.idle": "2021-10-20T00:22:54.945726Z",
     "shell.execute_reply": "2021-10-20T00:22:54.945156Z"
    },
    "papermill": {
     "duration": 0.362131,
     "end_time": "2021-10-20T00:22:54.945885",
     "exception": false,
     "start_time": "2021-10-20T00:22:54.583754",
     "status": "completed"
    },
    "tags": []
   },
   "outputs": [],
   "source": [
    "test_images = mnist.test_images()\n",
    "test_labels = mnist.test_labels()"
   ]
  },
  {
   "cell_type": "code",
   "execution_count": 8,
   "id": "fc38cf1b",
   "metadata": {
    "execution": {
     "iopub.execute_input": "2021-10-20T00:22:55.020752Z",
     "iopub.status.busy": "2021-10-20T00:22:55.020074Z",
     "iopub.status.idle": "2021-10-20T00:22:55.030087Z",
     "shell.execute_reply": "2021-10-20T00:22:55.029393Z"
    },
    "papermill": {
     "duration": 0.051847,
     "end_time": "2021-10-20T00:22:55.030976",
     "exception": false,
     "start_time": "2021-10-20T00:22:54.979129",
     "status": "completed"
    },
    "tags": []
   },
   "outputs": [
    {
     "data": {
      "text/plain": [
       "((10000, 28, 28), (10000,))"
      ]
     },
     "execution_count": 8,
     "metadata": {},
     "output_type": "execute_result"
    }
   ],
   "source": [
    "test_images.shape, test_labels.shape"
   ]
  },
  {
   "cell_type": "code",
   "execution_count": 9,
   "id": "f9ed8fe0",
   "metadata": {
    "execution": {
     "iopub.execute_input": "2021-10-20T00:22:55.115187Z",
     "iopub.status.busy": "2021-10-20T00:22:55.114536Z",
     "iopub.status.idle": "2021-10-20T00:22:55.296238Z",
     "shell.execute_reply": "2021-10-20T00:22:55.296784Z"
    },
    "papermill": {
     "duration": 0.226035,
     "end_time": "2021-10-20T00:22:55.296957",
     "exception": false,
     "start_time": "2021-10-20T00:22:55.070922",
     "status": "completed"
    },
    "tags": []
   },
   "outputs": [
    {
     "name": "stdout",
     "output_type": "stream",
     "text": [
      "2\n"
     ]
    },
    {
     "data": {
      "text/plain": [
       "<matplotlib.image.AxesImage at 0x7f8109d3e8d0>"
      ]
     },
     "execution_count": 9,
     "metadata": {},
     "output_type": "execute_result"
    },
    {
     "data": {
      "image/png": "[encoded data removed]",
      "text/plain": [
       "<Figure size 432x288 with 1 Axes>"
      ]
     },
     "metadata": {
      "needs_background": "light"
     },
     "output_type": "display_data"
    }
   ],
   "source": [
    "image_index = 7776 # You may select anything up to 60,000\n",
    "print(train_labels[image_index]) \n",
    "plt.imshow(train_images[image_index], cmap='Greys')"
   ]
  },
  {
   "cell_type": "markdown",
   "id": "a8d2388d",
   "metadata": {
    "papermill": {
     "duration": 0.032709,
     "end_time": "2021-10-20T00:22:55.363327",
     "exception": false,
     "start_time": "2021-10-20T00:22:55.330618",
     "status": "completed"
    },
    "tags": []
   },
   "source": [
    "## Filter data to get 3 and 8 out"
   ]
  },
  {
   "cell_type": "code",
   "execution_count": 10,
   "id": "776f7fc7",
   "metadata": {
    "execution": {
     "iopub.execute_input": "2021-10-20T00:22:55.437874Z",
     "iopub.status.busy": "2021-10-20T00:22:55.437193Z",
     "iopub.status.idle": "2021-10-20T00:22:55.457241Z",
     "shell.execute_reply": "2021-10-20T00:22:55.456669Z"
    },
    "papermill": {
     "duration": 0.05927,
     "end_time": "2021-10-20T00:22:55.457396",
     "exception": false,
     "start_time": "2021-10-20T00:22:55.398126",
     "status": "completed"
    },
    "tags": []
   },
   "outputs": [],
   "source": [
    "train_filter = np.where((train_labels == 3 ) | (train_labels == 8))\n",
    "test_filter = np.where((test_labels == 3) | (test_labels == 8))\n",
    "X_train, y_train = train_images[train_filter], train_labels[train_filter]\n",
    "X_test, y_test = test_images[test_filter], test_labels[test_filter]"
   ]
  },
  {
   "cell_type": "markdown",
   "id": "948f0b7e",
   "metadata": {
    "papermill": {
     "duration": 0.039011,
     "end_time": "2021-10-20T00:22:55.530724",
     "exception": false,
     "start_time": "2021-10-20T00:22:55.491713",
     "status": "completed"
    },
    "tags": []
   },
   "source": [
    "We normalize the pizel values in the 0 to 1 range"
   ]
  },
  {
   "cell_type": "code",
   "execution_count": 11,
   "id": "ee4c2166",
   "metadata": {
    "execution": {
     "iopub.execute_input": "2021-10-20T00:22:55.602354Z",
     "iopub.status.busy": "2021-10-20T00:22:55.601690Z",
     "iopub.status.idle": "2021-10-20T00:22:55.663117Z",
     "shell.execute_reply": "2021-10-20T00:22:55.662534Z"
    },
    "papermill": {
     "duration": 0.099044,
     "end_time": "2021-10-20T00:22:55.663281",
     "exception": false,
     "start_time": "2021-10-20T00:22:55.564237",
     "status": "completed"
    },
    "tags": []
   },
   "outputs": [],
   "source": [
    "X_train = X_train/255.\n",
    "X_test = X_test/255."
   ]
  },
  {
   "cell_type": "markdown",
   "id": "ddcf4fab",
   "metadata": {
    "papermill": {
     "duration": 0.033862,
     "end_time": "2021-10-20T00:22:55.730780",
     "exception": false,
     "start_time": "2021-10-20T00:22:55.696918",
     "status": "completed"
    },
    "tags": []
   },
   "source": [
    "And setup the labels as 1 (when the digit is 3) and 0 (when the digit is 8)"
   ]
  },
  {
   "cell_type": "code",
   "execution_count": 12,
   "id": "7dc908f2",
   "metadata": {
    "execution": {
     "iopub.execute_input": "2021-10-20T00:22:55.803260Z",
     "iopub.status.busy": "2021-10-20T00:22:55.802597Z",
     "iopub.status.idle": "2021-10-20T00:22:55.815756Z",
     "shell.execute_reply": "2021-10-20T00:22:55.816317Z"
    },
    "papermill": {
     "duration": 0.052033,
     "end_time": "2021-10-20T00:22:55.816493",
     "exception": false,
     "start_time": "2021-10-20T00:22:55.764460",
     "status": "completed"
    },
    "tags": []
   },
   "outputs": [],
   "source": [
    "y_train = 1*(y_train==3)\n",
    "y_test = 1*(y_test==3)"
   ]
  },
  {
   "cell_type": "code",
   "execution_count": 13,
   "id": "01e4e969",
   "metadata": {
    "execution": {
     "iopub.execute_input": "2021-10-20T00:22:55.896425Z",
     "iopub.status.busy": "2021-10-20T00:22:55.895766Z",
     "iopub.status.idle": "2021-10-20T00:22:55.922254Z",
     "shell.execute_reply": "2021-10-20T00:22:55.921687Z"
    },
    "papermill": {
     "duration": 0.066772,
     "end_time": "2021-10-20T00:22:55.922399",
     "exception": false,
     "start_time": "2021-10-20T00:22:55.855627",
     "status": "completed"
    },
    "tags": []
   },
   "outputs": [
    {
     "data": {
      "text/plain": [
       "((11982, 28, 28), (1984, 28, 28))"
      ]
     },
     "execution_count": 13,
     "metadata": {},
     "output_type": "execute_result"
    }
   ],
   "source": [
    "X_train.shape, X_test.shape"
   ]
  },
  {
   "cell_type": "markdown",
   "id": "5ccf3f85",
   "metadata": {
    "papermill": {
     "duration": 0.036744,
     "end_time": "2021-10-20T00:22:55.995155",
     "exception": false,
     "start_time": "2021-10-20T00:22:55.958411",
     "status": "completed"
    },
    "tags": []
   },
   "source": [
    "We reshape the data to flatten the image pixels into a set of features or co-variates:"
   ]
  },
  {
   "cell_type": "code",
   "execution_count": 14,
   "id": "5286a4a3",
   "metadata": {
    "execution": {
     "iopub.execute_input": "2021-10-20T00:22:56.074922Z",
     "iopub.status.busy": "2021-10-20T00:22:56.074208Z",
     "iopub.status.idle": "2021-10-20T00:22:56.089558Z",
     "shell.execute_reply": "2021-10-20T00:22:56.090185Z"
    },
    "papermill": {
     "duration": 0.054969,
     "end_time": "2021-10-20T00:22:56.090344",
     "exception": false,
     "start_time": "2021-10-20T00:22:56.035375",
     "status": "completed"
    },
    "tags": []
   },
   "outputs": [
    {
     "data": {
      "text/plain": [
       "((11982, 784), (1984, 784))"
      ]
     },
     "execution_count": 14,
     "metadata": {},
     "output_type": "execute_result"
    }
   ],
   "source": [
    "X_train = X_train.reshape(X_train.shape[0], -1)\n",
    "X_test = X_test.reshape(X_test.shape[0], -1)\n",
    "X_train.shape, X_test.shape"
   ]
  },
  {
   "cell_type": "code",
   "execution_count": 15,
   "id": "73c5f88a",
   "metadata": {
    "execution": {
     "iopub.execute_input": "2021-10-20T00:22:56.185087Z",
     "iopub.status.busy": "2021-10-20T00:22:56.176559Z",
     "iopub.status.idle": "2021-10-20T00:22:56.190227Z",
     "shell.execute_reply": "2021-10-20T00:22:56.190770Z"
    },
    "papermill": {
     "duration": 0.065844,
     "end_time": "2021-10-20T00:22:56.190946",
     "exception": false,
     "start_time": "2021-10-20T00:22:56.125102",
     "status": "completed"
    },
    "tags": []
   },
   "outputs": [],
   "source": [
    "#Impoting functions from 'Kudzu'\n",
    "from kudzu.model import Model\n",
    "from kudzu.train import Learner\n",
    "from kudzu.optim import GD\n",
    "from kudzu.data import Data, Sampler,Dataloader\n",
    "\n",
    "from kudzu.callbacks import AccCallback\n",
    "from kudzu.callbacks import ClfCallback\n",
    "\n",
    "from kudzu.loss import MSE\n",
    "\n",
    "from kudzu.layer import Sigmoid,Relu\n",
    "from kudzu.layer import Affine"
   ]
  },
  {
   "cell_type": "markdown",
   "id": "bc01172a",
   "metadata": {
    "papermill": {
     "duration": 0.033997,
     "end_time": "2021-10-20T00:22:56.258990",
     "exception": false,
     "start_time": "2021-10-20T00:22:56.224993",
     "status": "completed"
    },
    "tags": []
   },
   "source": [
    "### Let us create a `Config` class, to store important parameters. \n",
    "This class essentially plays the role of a dictionary."
   ]
  },
  {
   "cell_type": "code",
   "execution_count": 16,
   "id": "978281aa",
   "metadata": {
    "execution": {
     "iopub.execute_input": "2021-10-20T00:22:56.336445Z",
     "iopub.status.busy": "2021-10-20T00:22:56.335698Z",
     "iopub.status.idle": "2021-10-20T00:22:56.348770Z",
     "shell.execute_reply": "2021-10-20T00:22:56.348230Z"
    },
    "papermill": {
     "duration": 0.053112,
     "end_time": "2021-10-20T00:22:56.348913",
     "exception": false,
     "start_time": "2021-10-20T00:22:56.295801",
     "status": "completed"
    },
    "tags": []
   },
   "outputs": [],
   "source": [
    "class Config:\n",
    "    pass\n",
    "config = Config()\n",
    "config.lr = 0.001\n",
    "config.num_epochs = 250\n",
    "config.bs = 50"
   ]
  },
  {
   "cell_type": "markdown",
   "id": "1385fa59",
   "metadata": {
    "papermill": {
     "duration": 0.033854,
     "end_time": "2021-10-20T00:22:56.416878",
     "exception": false,
     "start_time": "2021-10-20T00:22:56.383024",
     "status": "completed"
    },
    "tags": []
   },
   "source": [
    "### Running Models with the Training data\n",
    "Details about the network layers:\n",
    "- A first affine layer has 784 inputs and does 100 affine transforms. These are followed by a Relu\n",
    "- A second affine layer has 100 inputs from the 100 activations of the past layer, and does 100 affine transforms. These are followed by a Relu\n",
    "- A third affine layer has 100 activations and does 2 affine transformations to create an embedding for visualization. There is no non-linearity here.\n",
    "- A final \"logistic regression\" which has an affine transform from 2 inputs to 1 output, which is squeezed through a sigmoid.\n"
   ]
  },
  {
   "cell_type": "code",
   "execution_count": 17,
   "id": "2b9c66db",
   "metadata": {
    "execution": {
     "iopub.execute_input": "2021-10-20T00:22:56.493239Z",
     "iopub.status.busy": "2021-10-20T00:22:56.492561Z",
     "iopub.status.idle": "2021-10-20T00:22:56.504497Z",
     "shell.execute_reply": "2021-10-20T00:22:56.505084Z"
    },
    "papermill": {
     "duration": 0.053679,
     "end_time": "2021-10-20T00:22:56.505259",
     "exception": false,
     "start_time": "2021-10-20T00:22:56.451580",
     "status": "completed"
    },
    "tags": []
   },
   "outputs": [],
   "source": [
    "data = Data(X_train, y_train.reshape(-1,1))\n",
    "sampler = Sampler(data, config.bs, shuffle=True)\n",
    "\n",
    "dl = Dataloader(data, sampler)\n",
    "\n",
    "opt = GD(config.lr)\n",
    "loss = MSE()"
   ]
  },
  {
   "cell_type": "code",
   "execution_count": 18,
   "id": "b275e4c2",
   "metadata": {
    "execution": {
     "iopub.execute_input": "2021-10-20T00:22:56.592560Z",
     "iopub.status.busy": "2021-10-20T00:22:56.582090Z",
     "iopub.status.idle": "2021-10-20T00:22:56.594735Z",
     "shell.execute_reply": "2021-10-20T00:22:56.595309Z"
    },
    "papermill": {
     "duration": 0.056036,
     "end_time": "2021-10-20T00:22:56.595482",
     "exception": false,
     "start_time": "2021-10-20T00:22:56.539446",
     "status": "completed"
    },
    "tags": []
   },
   "outputs": [],
   "source": [
    "training_data_x = X_train\n",
    "testing_data_x = X_test\n",
    "training_data_y = y_train.reshape(-1,1)\n",
    "testing_data_y = y_test.reshape(-1,1)"
   ]
  },
  {
   "cell_type": "code",
   "execution_count": 19,
   "id": "76951160",
   "metadata": {
    "execution": {
     "iopub.execute_input": "2021-10-20T00:22:56.669404Z",
     "iopub.status.busy": "2021-10-20T00:22:56.668703Z",
     "iopub.status.idle": "2021-10-20T00:22:56.687296Z",
     "shell.execute_reply": "2021-10-20T00:22:56.687883Z"
    },
    "papermill": {
     "duration": 0.058155,
     "end_time": "2021-10-20T00:22:56.688059",
     "exception": false,
     "start_time": "2021-10-20T00:22:56.629904",
     "status": "completed"
    },
    "tags": []
   },
   "outputs": [
    {
     "name": "stdout",
     "output_type": "stream",
     "text": [
      "xavier\n",
      "xavier\n",
      "xavier\n",
      "xavier\n",
      "xavier\n"
     ]
    }
   ],
   "source": [
    "layers = [Affine(\"first\", 784, 100), Relu(\"first\"), Affine(\"second\", 100, 100), Relu(\"second\"), Affine(\"third\", 100, 2), Affine(\"last\", 2, 1), Sigmoid(\"last\")]\n",
    "model_nn = Model(layers)\n",
    "model_lr = Model([Affine(\"logits\", 784, 1), Sigmoid(\"sigmoid\")])"
   ]
  },
  {
   "cell_type": "code",
   "execution_count": 20,
   "id": "6eede77a",
   "metadata": {
    "execution": {
     "iopub.execute_input": "2021-10-20T00:22:56.761502Z",
     "iopub.status.busy": "2021-10-20T00:22:56.760835Z",
     "iopub.status.idle": "2021-10-20T00:22:56.773726Z",
     "shell.execute_reply": "2021-10-20T00:22:56.774307Z"
    },
    "papermill": {
     "duration": 0.051241,
     "end_time": "2021-10-20T00:22:56.774471",
     "exception": false,
     "start_time": "2021-10-20T00:22:56.723230",
     "status": "completed"
    },
    "tags": []
   },
   "outputs": [],
   "source": [
    "nn_learner = Learner(loss, model_nn, opt, config.num_epochs)\n",
    "acc_nn = ClfCallback(nn_learner, config.bs, training_data_x , testing_data_x, training_data_y, testing_data_y)\n",
    "nn_learner.set_callbacks([acc_nn])"
   ]
  },
  {
   "cell_type": "code",
   "execution_count": 21,
   "id": "877b6cc7",
   "metadata": {
    "execution": {
     "iopub.execute_input": "2021-10-20T00:22:56.846978Z",
     "iopub.status.busy": "2021-10-20T00:22:56.846307Z",
     "iopub.status.idle": "2021-10-20T00:22:56.859244Z",
     "shell.execute_reply": "2021-10-20T00:22:56.859848Z"
    },
    "papermill": {
     "duration": 0.050964,
     "end_time": "2021-10-20T00:22:56.860007",
     "exception": false,
     "start_time": "2021-10-20T00:22:56.809043",
     "status": "completed"
    },
    "tags": []
   },
   "outputs": [],
   "source": [
    "lr_learner = Learner(loss, model_lr, opt, config.num_epochs)\n",
    "acc_lr = ClfCallback(lr_learner, config.bs, training_data_x , testing_data_x, training_data_y, testing_data_y)\n",
    "lr_learner.set_callbacks([acc_lr])"
   ]
  },
  {
   "cell_type": "code",
   "execution_count": 22,
   "id": "d9b133c3",
   "metadata": {
    "execution": {
     "iopub.execute_input": "2021-10-20T00:22:56.934873Z",
     "iopub.status.busy": "2021-10-20T00:22:56.934204Z",
     "iopub.status.idle": "2021-10-20T00:25:00.957176Z",
     "shell.execute_reply": "2021-10-20T00:25:00.958034Z"
    },
    "papermill": {
     "duration": 124.06395,
     "end_time": "2021-10-20T00:25:00.958206",
     "exception": false,
     "start_time": "2021-10-20T00:22:56.894256",
     "status": "completed"
    },
    "tags": []
   },
   "outputs": [
    {
     "name": "stdout",
     "output_type": "stream",
     "text": [
      "Epoch 0, Loss 0.247\n",
      "Training Accuracy: 0.5672, Testing Accuracy: 0.5771\n",
      "\n"
     ]
    },
    {
     "name": "stdout",
     "output_type": "stream",
     "text": [
      "Epoch 10, Loss 0.1369\n",
      "Training Accuracy: 0.8990, Testing Accuracy: 0.9073\n",
      "\n"
     ]
    },
    {
     "name": "stdout",
     "output_type": "stream",
     "text": [
      "Epoch 20, Loss 0.0699\n",
      "Training Accuracy: 0.9306, Testing Accuracy: 0.9400\n",
      "\n"
     ]
    },
    {
     "name": "stdout",
     "output_type": "stream",
     "text": [
      "Epoch 30, Loss 0.0502\n",
      "Training Accuracy: 0.9462, Testing Accuracy: 0.9526\n",
      "\n"
     ]
    },
    {
     "name": "stdout",
     "output_type": "stream",
     "text": [
      "Epoch 40, Loss 0.0418\n",
      "Training Accuracy: 0.9539, Testing Accuracy: 0.9597\n",
      "\n"
     ]
    },
    {
     "name": "stdout",
     "output_type": "stream",
     "text": [
      "Epoch 50, Loss 0.0371\n",
      "Training Accuracy: 0.9575, Testing Accuracy: 0.9647\n",
      "\n"
     ]
    },
    {
     "name": "stdout",
     "output_type": "stream",
     "text": [
      "Epoch 60, Loss 0.0342\n",
      "Training Accuracy: 0.9599, Testing Accuracy: 0.9662\n",
      "\n"
     ]
    },
    {
     "name": "stdout",
     "output_type": "stream",
     "text": [
      "Epoch 70, Loss 0.0321\n",
      "Training Accuracy: 0.9629, Testing Accuracy: 0.9667\n",
      "\n"
     ]
    },
    {
     "name": "stdout",
     "output_type": "stream",
     "text": [
      "Epoch 80, Loss 0.0305\n",
      "Training Accuracy: 0.9649, Testing Accuracy: 0.9672\n",
      "\n"
     ]
    },
    {
     "name": "stdout",
     "output_type": "stream",
     "text": [
      "Epoch 90, Loss 0.0292\n",
      "Training Accuracy: 0.9660, Testing Accuracy: 0.9677\n",
      "\n"
     ]
    },
    {
     "name": "stdout",
     "output_type": "stream",
     "text": [
      "Epoch 100, Loss 0.0282\n",
      "Training Accuracy: 0.9670, Testing Accuracy: 0.9677\n",
      "\n"
     ]
    },
    {
     "name": "stdout",
     "output_type": "stream",
     "text": [
      "Epoch 110, Loss 0.0273\n",
      "Training Accuracy: 0.9675, Testing Accuracy: 0.9688\n",
      "\n"
     ]
    },
    {
     "name": "stdout",
     "output_type": "stream",
     "text": [
      "Epoch 120, Loss 0.0265\n",
      "Training Accuracy: 0.9686, Testing Accuracy: 0.9682\n",
      "\n"
     ]
    },
    {
     "name": "stdout",
     "output_type": "stream",
     "text": [
      "Epoch 130, Loss 0.0258\n",
      "Training Accuracy: 0.9696, Testing Accuracy: 0.9693\n",
      "\n"
     ]
    },
    {
     "name": "stdout",
     "output_type": "stream",
     "text": [
      "Epoch 140, Loss 0.0252\n",
      "Training Accuracy: 0.9704, Testing Accuracy: 0.9693\n",
      "\n"
     ]
    },
    {
     "name": "stdout",
     "output_type": "stream",
     "text": [
      "Epoch 150, Loss 0.0246\n",
      "Training Accuracy: 0.9715, Testing Accuracy: 0.9693\n",
      "\n"
     ]
    },
    {
     "name": "stdout",
     "output_type": "stream",
     "text": [
      "Epoch 160, Loss 0.0241\n",
      "Training Accuracy: 0.9721, Testing Accuracy: 0.9698\n",
      "\n"
     ]
    },
    {
     "name": "stdout",
     "output_type": "stream",
     "text": [
      "Epoch 170, Loss 0.0236\n",
      "Training Accuracy: 0.9727, Testing Accuracy: 0.9708\n",
      "\n"
     ]
    },
    {
     "name": "stdout",
     "output_type": "stream",
     "text": [
      "Epoch 180, Loss 0.0231\n",
      "Training Accuracy: 0.9732, Testing Accuracy: 0.9698\n",
      "\n"
     ]
    },
    {
     "name": "stdout",
     "output_type": "stream",
     "text": [
      "Epoch 190, Loss 0.0226\n",
      "Training Accuracy: 0.9738, Testing Accuracy: 0.9698\n",
      "\n"
     ]
    },
    {
     "name": "stdout",
     "output_type": "stream",
     "text": [
      "Epoch 200, Loss 0.0222\n",
      "Training Accuracy: 0.9742, Testing Accuracy: 0.9703\n",
      "\n"
     ]
    },
    {
     "name": "stdout",
     "output_type": "stream",
     "text": [
      "Epoch 210, Loss 0.0218\n",
      "Training Accuracy: 0.9748, Testing Accuracy: 0.9708\n",
      "\n"
     ]
    },
    {
     "name": "stdout",
     "output_type": "stream",
     "text": [
      "Epoch 220, Loss 0.0214\n",
      "Training Accuracy: 0.9752, Testing Accuracy: 0.9708\n",
      "\n"
     ]
    },
    {
     "name": "stdout",
     "output_type": "stream",
     "text": [
      "Epoch 230, Loss 0.021\n",
      "Training Accuracy: 0.9756, Testing Accuracy: 0.9708\n",
      "\n"
     ]
    },
    {
     "name": "stdout",
     "output_type": "stream",
     "text": [
      "Epoch 240, Loss 0.0207\n",
      "Training Accuracy: 0.9760, Testing Accuracy: 0.9708\n",
      "\n"
     ]
    },
    {
     "data": {
      "text/plain": [
       "0.00462055231884244"
      ]
     },
     "execution_count": 22,
     "metadata": {},
     "output_type": "execute_result"
    }
   ],
   "source": [
    "nn_learner.train_loop(dl)"
   ]
  },
  {
   "cell_type": "code",
   "execution_count": 23,
   "id": "e0163366",
   "metadata": {
    "execution": {
     "iopub.execute_input": "2021-10-20T00:25:01.060722Z",
     "iopub.status.busy": "2021-10-20T00:25:01.060039Z",
     "iopub.status.idle": "2021-10-20T00:25:19.225189Z",
     "shell.execute_reply": "2021-10-20T00:25:19.226232Z"
    },
    "papermill": {
     "duration": 18.224331,
     "end_time": "2021-10-20T00:25:19.226406",
     "exception": false,
     "start_time": "2021-10-20T00:25:01.002075",
     "status": "completed"
    },
    "tags": []
   },
   "outputs": [
    {
     "name": "stdout",
     "output_type": "stream",
     "text": [
      "Epoch 0, Loss 0.2578\n",
      "Training Accuracy: 0.6117, Testing Accuracy: 0.6411\n",
      "\n"
     ]
    },
    {
     "name": "stdout",
     "output_type": "stream",
     "text": [
      "Epoch 10, Loss 0.1046\n",
      "Training Accuracy: 0.9056, Testing Accuracy: 0.9209\n",
      "\n"
     ]
    },
    {
     "name": "stdout",
     "output_type": "stream",
     "text": [
      "Epoch 20, Loss 0.0796\n",
      "Training Accuracy: 0.9277, Testing Accuracy: 0.9360\n",
      "\n"
     ]
    },
    {
     "name": "stdout",
     "output_type": "stream",
     "text": [
      "Epoch 30, Loss 0.0683\n",
      "Training Accuracy: 0.9359, Testing Accuracy: 0.9441\n",
      "\n"
     ]
    },
    {
     "name": "stdout",
     "output_type": "stream",
     "text": [
      "Epoch 40, Loss 0.0615\n",
      "Training Accuracy: 0.9417, Testing Accuracy: 0.9526\n",
      "\n"
     ]
    },
    {
     "name": "stdout",
     "output_type": "stream",
     "text": [
      "Epoch 50, Loss 0.057\n",
      "Training Accuracy: 0.9452, Testing Accuracy: 0.9551\n",
      "\n"
     ]
    },
    {
     "name": "stdout",
     "output_type": "stream",
     "text": [
      "Epoch 60, Loss 0.0536\n",
      "Training Accuracy: 0.9478, Testing Accuracy: 0.9582\n",
      "\n"
     ]
    },
    {
     "name": "stdout",
     "output_type": "stream",
     "text": [
      "Epoch 70, Loss 0.0511\n",
      "Training Accuracy: 0.9493, Testing Accuracy: 0.9582\n",
      "\n"
     ]
    },
    {
     "name": "stdout",
     "output_type": "stream",
     "text": [
      "Epoch 80, Loss 0.049\n",
      "Training Accuracy: 0.9507, Testing Accuracy: 0.9597\n",
      "\n"
     ]
    },
    {
     "name": "stdout",
     "output_type": "stream",
     "text": [
      "Epoch 90, Loss 0.0473\n",
      "Training Accuracy: 0.9524, Testing Accuracy: 0.9592\n",
      "\n"
     ]
    },
    {
     "name": "stdout",
     "output_type": "stream",
     "text": [
      "Epoch 100, Loss 0.0459\n",
      "Training Accuracy: 0.9538, Testing Accuracy: 0.9592\n",
      "\n"
     ]
    },
    {
     "name": "stdout",
     "output_type": "stream",
     "text": [
      "Epoch 110, Loss 0.0447\n",
      "Training Accuracy: 0.9550, Testing Accuracy: 0.9602\n",
      "\n"
     ]
    },
    {
     "name": "stdout",
     "output_type": "stream",
     "text": [
      "Epoch 120, Loss 0.0436\n",
      "Training Accuracy: 0.9562, Testing Accuracy: 0.9602\n",
      "\n"
     ]
    },
    {
     "name": "stdout",
     "output_type": "stream",
     "text": [
      "Epoch 130, Loss 0.0427\n",
      "Training Accuracy: 0.9564, Testing Accuracy: 0.9617\n",
      "\n"
     ]
    },
    {
     "name": "stdout",
     "output_type": "stream",
     "text": [
      "Epoch 140, Loss 0.0419\n",
      "Training Accuracy: 0.9571, Testing Accuracy: 0.9632\n",
      "\n"
     ]
    },
    {
     "name": "stdout",
     "output_type": "stream",
     "text": [
      "Epoch 150, Loss 0.0412\n",
      "Training Accuracy: 0.9581, Testing Accuracy: 0.9632\n",
      "\n"
     ]
    },
    {
     "name": "stdout",
     "output_type": "stream",
     "text": [
      "Epoch 160, Loss 0.0405\n",
      "Training Accuracy: 0.9582, Testing Accuracy: 0.9632\n",
      "\n"
     ]
    },
    {
     "name": "stdout",
     "output_type": "stream",
     "text": [
      "Epoch 170, Loss 0.0399\n",
      "Training Accuracy: 0.9588, Testing Accuracy: 0.9637\n",
      "\n"
     ]
    },
    {
     "name": "stdout",
     "output_type": "stream",
     "text": [
      "Epoch 180, Loss 0.0393\n",
      "Training Accuracy: 0.9591, Testing Accuracy: 0.9632\n",
      "\n"
     ]
    },
    {
     "name": "stdout",
     "output_type": "stream",
     "text": [
      "Epoch 190, Loss 0.0388\n",
      "Training Accuracy: 0.9595, Testing Accuracy: 0.9637\n",
      "\n"
     ]
    },
    {
     "name": "stdout",
     "output_type": "stream",
     "text": [
      "Epoch 200, Loss 0.0383\n",
      "Training Accuracy: 0.9600, Testing Accuracy: 0.9637\n",
      "\n"
     ]
    },
    {
     "name": "stdout",
     "output_type": "stream",
     "text": [
      "Epoch 210, Loss 0.0379\n",
      "Training Accuracy: 0.9604, Testing Accuracy: 0.9642\n",
      "\n"
     ]
    },
    {
     "name": "stdout",
     "output_type": "stream",
     "text": [
      "Epoch 220, Loss 0.0375\n",
      "Training Accuracy: 0.9604, Testing Accuracy: 0.9657\n",
      "\n"
     ]
    },
    {
     "name": "stdout",
     "output_type": "stream",
     "text": [
      "Epoch 230, Loss 0.0371\n",
      "Training Accuracy: 0.9606, Testing Accuracy: 0.9657\n",
      "\n"
     ]
    },
    {
     "name": "stdout",
     "output_type": "stream",
     "text": [
      "Epoch 240, Loss 0.0368\n",
      "Training Accuracy: 0.9609, Testing Accuracy: 0.9657\n",
      "\n"
     ]
    },
    {
     "data": {
      "text/plain": [
       "0.053967142405063936"
      ]
     },
     "execution_count": 23,
     "metadata": {},
     "output_type": "execute_result"
    }
   ],
   "source": [
    "lr_learner.train_loop(dl)"
   ]
  },
  {
   "cell_type": "code",
   "execution_count": 24,
   "id": "ca410940",
   "metadata": {
    "execution": {
     "iopub.execute_input": "2021-10-20T00:25:19.336309Z",
     "iopub.status.busy": "2021-10-20T00:25:19.335635Z",
     "iopub.status.idle": "2021-10-20T00:25:19.619968Z",
     "shell.execute_reply": "2021-10-20T00:25:19.620524Z"
    },
    "papermill": {
     "duration": 0.341197,
     "end_time": "2021-10-20T00:25:19.620697",
     "exception": false,
     "start_time": "2021-10-20T00:25:19.279500",
     "status": "completed"
    },
    "tags": []
   },
   "outputs": [
    {
     "data": {
      "text/plain": [
       "<matplotlib.legend.Legend at 0x7f81098a1dd8>"
      ]
     },
     "execution_count": 24,
     "metadata": {},
     "output_type": "execute_result"
    },
    {
     "data": {
      "image/png": "[encoded data removed]",
      "text/plain": [
       "<Figure size 1080x720 with 1 Axes>"
      ]
     },
     "metadata": {
      "needs_background": "light"
     },
     "output_type": "display_data"
    }
   ],
   "source": [
    "#comparing the results of NN and LR\n",
    "plt.figure(figsize=(15,10))\n",
    "\n",
    "# Neural Network plots\n",
    "plt.plot(acc_nn.accuracies, 'r-', label = \"Training Accuracies - NN\")\n",
    "plt.plot(acc_nn.test_accuracies, 'g-', label = \"Testing Accuracies - NN\")\n",
    "\n",
    "# Logistic Regression plots\n",
    "plt.plot(acc_lr.accuracies, 'k-', label = \"Training Accuracies - LR\")\n",
    "plt.plot(acc_lr.test_accuracies, 'b-', label = \"Testing Accuracies - LR\")\n",
    "plt.legend()"
   ]
  },
  {
   "cell_type": "markdown",
   "id": "80dfb35c",
   "metadata": {
    "papermill": {
     "duration": 0.052659,
     "end_time": "2021-10-20T00:25:19.726724",
     "exception": false,
     "start_time": "2021-10-20T00:25:19.674065",
     "status": "completed"
    },
    "tags": []
   },
   "source": [
    "#### Plotting the outputs of this layer of the NN.\n"
   ]
  },
  {
   "cell_type": "code",
   "execution_count": 25,
   "id": "45eb2ff5",
   "metadata": {
    "execution": {
     "iopub.execute_input": "2021-10-20T00:25:19.844643Z",
     "iopub.status.busy": "2021-10-20T00:25:19.843976Z",
     "iopub.status.idle": "2021-10-20T00:25:19.871711Z",
     "shell.execute_reply": "2021-10-20T00:25:19.872278Z"
    },
    "papermill": {
     "duration": 0.086629,
     "end_time": "2021-10-20T00:25:19.872452",
     "exception": false,
     "start_time": "2021-10-20T00:25:19.785823",
     "status": "completed"
    },
    "tags": []
   },
   "outputs": [],
   "source": [
    "new_model = Model(layers[:-2])\n",
    "testing_plot = new_model(testing_data_x)"
   ]
  },
  {
   "cell_type": "code",
   "execution_count": 26,
   "id": "4c0a5485",
   "metadata": {
    "execution": {
     "iopub.execute_input": "2021-10-20T00:25:20.000047Z",
     "iopub.status.busy": "2021-10-20T00:25:19.999362Z",
     "iopub.status.idle": "2021-10-20T00:25:20.293044Z",
     "shell.execute_reply": "2021-10-20T00:25:20.293554Z"
    },
    "papermill": {
     "duration": 0.358665,
     "end_time": "2021-10-20T00:25:20.293726",
     "exception": false,
     "start_time": "2021-10-20T00:25:19.935061",
     "status": "completed"
    },
    "tags": []
   },
   "outputs": [
    {
     "data": {
      "text/plain": [
       "Text(0.5, 1.0, 'Outputs')"
      ]
     },
     "execution_count": 26,
     "metadata": {},
     "output_type": "execute_result"
    },
    {
     "data": {
      "image/png": "[encoded data removed]",
      "text/plain": [
       "<Figure size 576x504 with 1 Axes>"
      ]
     },
     "metadata": {
      "needs_background": "light"
     },
     "output_type": "display_data"
    }
   ],
   "source": [
    "# Plotting the scatter plot of points and color coding by class\n",
    "plt.figure(figsize=(8,7))\n",
    "plt.scatter(testing_plot[:,0], testing_plot[:,1], alpha = 0.1, c = y_test.ravel());\n",
    "plt.title('Outputs')"
   ]
  },
  {
   "cell_type": "markdown",
   "id": "a74fcf8f",
   "metadata": {
    "papermill": {
     "duration": 0.056083,
     "end_time": "2021-10-20T00:25:20.407526",
     "exception": false,
     "start_time": "2021-10-20T00:25:20.351443",
     "status": "completed"
    },
    "tags": []
   },
   "source": [
    "Probability contours"
   ]
  },
  {
   "cell_type": "code",
   "execution_count": 27,
   "id": "d0afc8e3",
   "metadata": {
    "execution": {
     "iopub.execute_input": "2021-10-20T00:25:20.551449Z",
     "iopub.status.busy": "2021-10-20T00:25:20.550802Z",
     "iopub.status.idle": "2021-10-20T00:25:20.563420Z",
     "shell.execute_reply": "2021-10-20T00:25:20.564009Z"
    },
    "papermill": {
     "duration": 0.099769,
     "end_time": "2021-10-20T00:25:20.564165",
     "exception": false,
     "start_time": "2021-10-20T00:25:20.464396",
     "status": "completed"
    },
    "tags": []
   },
   "outputs": [],
   "source": [
    "model_prob = Model(layers[-2:]) "
   ]
  },
  {
   "cell_type": "code",
   "execution_count": 28,
   "id": "9b96e238",
   "metadata": {
    "execution": {
     "iopub.execute_input": "2021-10-20T00:25:20.681326Z",
     "iopub.status.busy": "2021-10-20T00:25:20.680656Z",
     "iopub.status.idle": "2021-10-20T00:25:20.693218Z",
     "shell.execute_reply": "2021-10-20T00:25:20.693745Z"
    },
    "papermill": {
     "duration": 0.075486,
     "end_time": "2021-10-20T00:25:20.693903",
     "exception": false,
     "start_time": "2021-10-20T00:25:20.618417",
     "status": "completed"
    },
    "tags": []
   },
   "outputs": [],
   "source": [
    "#creating the x and y ranges according to the above generated plot.\n",
    "x_range = np.linspace(-4, 1, 100) \n",
    "y_range = np.linspace(-6, 6, 100) \n",
    "x_grid, y_grid = np.meshgrid(x_range, y_range) # x_grid and y_grig are of size 100 X 100\n",
    "\n",
    "# converting x_grid and y_grid to continuous arrays\n",
    "x_gridflat = np.ravel(x_grid)\n",
    "y_gridflat = np.ravel(y_grid)\n",
    "\n",
    "# The last layer of the current model takes two columns as input. Hence transpose of np.vstack() is required.\n",
    "X = np.vstack((x_gridflat, y_gridflat)).T\n",
    "\n",
    "prob_contour = model_prob(X).reshape(100,100) "
   ]
  },
  {
   "cell_type": "code",
   "execution_count": 29,
   "id": "da72499a",
   "metadata": {
    "execution": {
     "iopub.execute_input": "2021-10-20T00:25:20.825019Z",
     "iopub.status.busy": "2021-10-20T00:25:20.824360Z",
     "iopub.status.idle": "2021-10-20T00:25:21.157775Z",
     "shell.execute_reply": "2021-10-20T00:25:21.158654Z"
    },
    "papermill": {
     "duration": 0.401744,
     "end_time": "2021-10-20T00:25:21.158841",
     "exception": false,
     "start_time": "2021-10-20T00:25:20.757097",
     "status": "completed"
    },
    "tags": []
   },
   "outputs": [
    {
     "data": {
      "image/png": "[encoded data removed]",
      "text/plain": [
       "<Figure size 720x648 with 1 Axes>"
      ]
     },
     "metadata": {
      "needs_background": "light"
     },
     "output_type": "display_data"
    }
   ],
   "source": [
    "plt.figure(figsize=(10,9))\n",
    "plt.scatter(testing_plot[:,0], testing_plot[:,1], alpha = 0.1, c = y_test.ravel())\n",
    "contours = plt.contour(x_grid,y_grid,prob_contour)\n",
    "plt.title('Probability Contours')\n",
    "plt.clabel(contours, inline = True );"
   ]
  },
  {
   "cell_type": "code",
   "execution_count": null,
   "id": "e81b4ac7",
   "metadata": {
    "papermill": {
     "duration": 0.056293,
     "end_time": "2021-10-20T00:25:21.272114",
     "exception": false,
     "start_time": "2021-10-20T00:25:21.215821",
     "status": "completed"
    },
    "tags": []
   },
   "outputs": [],
   "source": []
  }
 ],
 "metadata": {
  "kernelspec": {
   "display_name": "Python 3",
   "language": "python",
   "name": "python3"
  },
  "language_info": {
   "codemirror_mode": {
    "name": "ipython",
    "version": 3
   },
   "file_extension": ".py",
   "mimetype": "text/x-python",
   "name": "python",
   "nbconvert_exporter": "python",
   "pygments_lexer": "ipython3",
   "version": "3.6.15"
  },
  "papermill": {
   "default_parameters": {},
   "duration": 152.135054,
   "end_time": "2021-10-20T00:25:21.738598",
   "environment_variables": {},
   "exception": null,
   "input_path": "2020-08-11-part2.ipynb",
   "output_path": "2020-08-11-part2.ipynb",
   "parameters": {},
   "start_time": "2021-10-20T00:22:49.603544",
   "version": "2.3.3"
  }
 },
 "nbformat": 4,
 "nbformat_minor": 5
}