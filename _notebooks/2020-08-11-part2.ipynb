{
 "cells": [
  {
   "cell_type": "markdown",
   "id": "98380cd3",
   "metadata": {
    "papermill": {
     "duration": 0.030956,
     "end_time": "2022-08-28T00:44:55.353696",
     "exception": false,
     "start_time": "2022-08-28T00:44:55.322740",
     "status": "completed"
    },
    "tags": []
   },
   "source": [
    "# Distinguish Your Own Digits (DYOD)"
   ]
  },
  {
   "cell_type": "markdown",
   "id": "ef31240d",
   "metadata": {
    "papermill": {
     "duration": 0.024192,
     "end_time": "2022-08-28T00:44:55.402640",
     "exception": false,
     "start_time": "2022-08-28T00:44:55.378448",
     "status": "completed"
    },
    "tags": []
   },
   "source": [
    "You are going to write a classifier that distinguishes between the number 3 and number 8."
   ]
  },
  {
   "cell_type": "code",
   "execution_count": 1,
   "id": "b15c8646",
   "metadata": {
    "execution": {
     "iopub.execute_input": "2022-08-28T00:44:55.460711Z",
     "iopub.status.busy": "2022-08-28T00:44:55.460076Z",
     "iopub.status.idle": "2022-08-28T00:44:55.472806Z",
     "shell.execute_reply": "2022-08-28T00:44:55.472315Z"
    },
    "papermill": {
     "duration": 0.04632,
     "end_time": "2022-08-28T00:44:55.472944",
     "exception": false,
     "start_time": "2022-08-28T00:44:55.426624",
     "status": "completed"
    },
    "tags": []
   },
   "outputs": [],
   "source": [
    "%load_ext autoreload\n",
    "%autoreload 2"
   ]
  },
  {
   "cell_type": "code",
   "execution_count": 2,
   "id": "22ef38dc",
   "metadata": {
    "execution": {
     "iopub.execute_input": "2022-08-28T00:44:55.526293Z",
     "iopub.status.busy": "2022-08-28T00:44:55.525668Z",
     "iopub.status.idle": "2022-08-28T00:44:56.067738Z",
     "shell.execute_reply": "2022-08-28T00:44:56.066752Z"
    },
    "papermill": {
     "duration": 0.570637,
     "end_time": "2022-08-28T00:44:56.067885",
     "exception": false,
     "start_time": "2022-08-28T00:44:55.497248",
     "status": "completed"
    },
    "tags": []
   },
   "outputs": [],
   "source": [
    "%matplotlib inline\n",
    "import numpy as np\n",
    "import matplotlib.pyplot as plt\n",
    "import pandas as pd"
   ]
  },
  {
   "cell_type": "markdown",
   "id": "ba036198",
   "metadata": {
    "papermill": {
     "duration": 0.024041,
     "end_time": "2022-08-28T00:44:56.116530",
     "exception": false,
     "start_time": "2022-08-28T00:44:56.092489",
     "status": "completed"
    },
    "tags": []
   },
   "source": [
    "From the command line run `pip install mnist`. This is a library that will help you bring down the mnist dataset. If you run this from a notebook, you need to put  `!pip install mnist` in a cell by itself."
   ]
  },
  {
   "cell_type": "code",
   "execution_count": 3,
   "id": "bb6ad8a1",
   "metadata": {
    "execution": {
     "iopub.execute_input": "2022-08-28T00:44:56.170279Z",
     "iopub.status.busy": "2022-08-28T00:44:56.169677Z",
     "iopub.status.idle": "2022-08-28T00:44:57.725989Z",
     "shell.execute_reply": "2022-08-28T00:44:57.725368Z"
    },
    "papermill": {
     "duration": 1.585567,
     "end_time": "2022-08-28T00:44:57.726133",
     "exception": false,
     "start_time": "2022-08-28T00:44:56.140566",
     "status": "completed"
    },
    "tags": []
   },
   "outputs": [
    {
     "name": "stdout",
     "output_type": "stream",
     "text": [
      "Collecting mnist\r\n"
     ]
    },
    {
     "name": "stdout",
     "output_type": "stream",
     "text": [
      "  Downloading mnist-0.2.2-py2.py3-none-any.whl (3.5 kB)\r\n",
      "Requirement already satisfied: numpy in /opt/hostedtoolcache/Python/3.6.15/x64/lib/python3.6/site-packages (from mnist) (1.19.5)\r\n"
     ]
    },
    {
     "name": "stdout",
     "output_type": "stream",
     "text": [
      "Installing collected packages: mnist\r\n",
      "Successfully installed mnist-0.2.2\r\n"
     ]
    }
   ],
   "source": [
    "!pip install mnist"
   ]
  },
  {
   "cell_type": "markdown",
   "id": "69df9c9a",
   "metadata": {
    "papermill": {
     "duration": 0.025129,
     "end_time": "2022-08-28T00:44:57.776601",
     "exception": false,
     "start_time": "2022-08-28T00:44:57.751472",
     "status": "completed"
    },
    "tags": []
   },
   "source": [
    "## Preparing the Data"
   ]
  },
  {
   "cell_type": "code",
   "execution_count": 4,
   "id": "7f69d806",
   "metadata": {
    "execution": {
     "iopub.execute_input": "2022-08-28T00:44:57.836103Z",
     "iopub.status.busy": "2022-08-28T00:44:57.835477Z",
     "iopub.status.idle": "2022-08-28T00:44:57.846666Z",
     "shell.execute_reply": "2022-08-28T00:44:57.846179Z"
    },
    "papermill": {
     "duration": 0.045391,
     "end_time": "2022-08-28T00:44:57.846786",
     "exception": false,
     "start_time": "2022-08-28T00:44:57.801395",
     "status": "completed"
    },
    "tags": []
   },
   "outputs": [],
   "source": [
    "import mnist"
   ]
  },
  {
   "cell_type": "code",
   "execution_count": 5,
   "id": "a411e44f",
   "metadata": {
    "execution": {
     "iopub.execute_input": "2022-08-28T00:44:57.900989Z",
     "iopub.status.busy": "2022-08-28T00:44:57.900396Z",
     "iopub.status.idle": "2022-08-28T00:44:58.417782Z",
     "shell.execute_reply": "2022-08-28T00:44:58.417096Z"
    },
    "papermill": {
     "duration": 0.546123,
     "end_time": "2022-08-28T00:44:58.417937",
     "exception": false,
     "start_time": "2022-08-28T00:44:57.871814",
     "status": "completed"
    },
    "tags": []
   },
   "outputs": [],
   "source": [
    "train_images = mnist.train_images()\n",
    "train_labels = mnist.train_labels()"
   ]
  },
  {
   "cell_type": "code",
   "execution_count": 6,
   "id": "dceab3a5",
   "metadata": {
    "execution": {
     "iopub.execute_input": "2022-08-28T00:44:58.472546Z",
     "iopub.status.busy": "2022-08-28T00:44:58.471938Z",
     "iopub.status.idle": "2022-08-28T00:44:58.487141Z",
     "shell.execute_reply": "2022-08-28T00:44:58.486665Z"
    },
    "papermill": {
     "duration": 0.043803,
     "end_time": "2022-08-28T00:44:58.487263",
     "exception": false,
     "start_time": "2022-08-28T00:44:58.443460",
     "status": "completed"
    },
    "tags": []
   },
   "outputs": [
    {
     "data": {
      "text/plain": [
       "((60000, 28, 28), (60000,))"
      ]
     },
     "execution_count": 6,
     "metadata": {},
     "output_type": "execute_result"
    }
   ],
   "source": [
    "train_images.shape, train_labels.shape"
   ]
  },
  {
   "cell_type": "code",
   "execution_count": 7,
   "id": "f50dc2bb",
   "metadata": {
    "execution": {
     "iopub.execute_input": "2022-08-28T00:44:58.541575Z",
     "iopub.status.busy": "2022-08-28T00:44:58.540939Z",
     "iopub.status.idle": "2022-08-28T00:44:58.730924Z",
     "shell.execute_reply": "2022-08-28T00:44:58.730279Z"
    },
    "papermill": {
     "duration": 0.218704,
     "end_time": "2022-08-28T00:44:58.731064",
     "exception": false,
     "start_time": "2022-08-28T00:44:58.512360",
     "status": "completed"
    },
    "tags": []
   },
   "outputs": [],
   "source": [
    "test_images = mnist.test_images()\n",
    "test_labels = mnist.test_labels()"
   ]
  },
  {
   "cell_type": "code",
   "execution_count": 8,
   "id": "fc38cf1b",
   "metadata": {
    "execution": {
     "iopub.execute_input": "2022-08-28T00:44:58.801246Z",
     "iopub.status.busy": "2022-08-28T00:44:58.798466Z",
     "iopub.status.idle": "2022-08-28T00:44:58.804432Z",
     "shell.execute_reply": "2022-08-28T00:44:58.804858Z"
    },
    "papermill": {
     "duration": 0.0475,
     "end_time": "2022-08-28T00:44:58.805001",
     "exception": false,
     "start_time": "2022-08-28T00:44:58.757501",
     "status": "completed"
    },
    "tags": []
   },
   "outputs": [
    {
     "data": {
      "text/plain": [
       "((10000, 28, 28), (10000,))"
      ]
     },
     "execution_count": 8,
     "metadata": {},
     "output_type": "execute_result"
    }
   ],
   "source": [
    "test_images.shape, test_labels.shape"
   ]
  },
  {
   "cell_type": "code",
   "execution_count": 9,
   "id": "f9ed8fe0",
   "metadata": {
    "execution": {
     "iopub.execute_input": "2022-08-28T00:44:58.859582Z",
     "iopub.status.busy": "2022-08-28T00:44:58.859008Z",
     "iopub.status.idle": "2022-08-28T00:44:58.998236Z",
     "shell.execute_reply": "2022-08-28T00:44:58.997672Z"
    },
    "papermill": {
     "duration": 0.167955,
     "end_time": "2022-08-28T00:44:58.998387",
     "exception": false,
     "start_time": "2022-08-28T00:44:58.830432",
     "status": "completed"
    },
    "tags": []
   },
   "outputs": [
    {
     "name": "stdout",
     "output_type": "stream",
     "text": [
      "2\n"
     ]
    },
    {
     "data": {
      "text/plain": [
       "<matplotlib.image.AxesImage at 0x7fba25871a20>"
      ]
     },
     "execution_count": 9,
     "metadata": {},
     "output_type": "execute_result"
    },
    {
     "data": {
      "image/png": "[encoded data removed]",
      "text/plain": [
       "<Figure size 432x288 with 1 Axes>"
      ]
     },
     "metadata": {
      "needs_background": "light"
     },
     "output_type": "display_data"
    }
   ],
   "source": [
    "image_index = 7776 # You may select anything up to 60,000\n",
    "print(train_labels[image_index]) \n",
    "plt.imshow(train_images[image_index], cmap='Greys')"
   ]
  },
  {
   "cell_type": "markdown",
   "id": "a8d2388d",
   "metadata": {
    "papermill": {
     "duration": 0.026518,
     "end_time": "2022-08-28T00:44:59.052344",
     "exception": false,
     "start_time": "2022-08-28T00:44:59.025826",
     "status": "completed"
    },
    "tags": []
   },
   "source": [
    "## Filter data to get 3 and 8 out"
   ]
  },
  {
   "cell_type": "code",
   "execution_count": 10,
   "id": "776f7fc7",
   "metadata": {
    "execution": {
     "iopub.execute_input": "2022-08-28T00:44:59.122177Z",
     "iopub.status.busy": "2022-08-28T00:44:59.110287Z",
     "iopub.status.idle": "2022-08-28T00:44:59.133045Z",
     "shell.execute_reply": "2022-08-28T00:44:59.133539Z"
    },
    "papermill": {
     "duration": 0.05473,
     "end_time": "2022-08-28T00:44:59.133692",
     "exception": false,
     "start_time": "2022-08-28T00:44:59.078962",
     "status": "completed"
    },
    "tags": []
   },
   "outputs": [],
   "source": [
    "train_filter = np.where((train_labels == 3 ) | (train_labels == 8))\n",
    "test_filter = np.where((test_labels == 3) | (test_labels == 8))\n",
    "X_train, y_train = train_images[train_filter], train_labels[train_filter]\n",
    "X_test, y_test = test_images[test_filter], test_labels[test_filter]"
   ]
  },
  {
   "cell_type": "markdown",
   "id": "948f0b7e",
   "metadata": {
    "papermill": {
     "duration": 0.026488,
     "end_time": "2022-08-28T00:44:59.186908",
     "exception": false,
     "start_time": "2022-08-28T00:44:59.160420",
     "status": "completed"
    },
    "tags": []
   },
   "source": [
    "We normalize the pizel values in the 0 to 1 range"
   ]
  },
  {
   "cell_type": "code",
   "execution_count": 11,
   "id": "ee4c2166",
   "metadata": {
    "execution": {
     "iopub.execute_input": "2022-08-28T00:44:59.254099Z",
     "iopub.status.busy": "2022-08-28T00:44:59.246077Z",
     "iopub.status.idle": "2022-08-28T00:44:59.292985Z",
     "shell.execute_reply": "2022-08-28T00:44:59.292387Z"
    },
    "papermill": {
     "duration": 0.079615,
     "end_time": "2022-08-28T00:44:59.293126",
     "exception": false,
     "start_time": "2022-08-28T00:44:59.213511",
     "status": "completed"
    },
    "tags": []
   },
   "outputs": [],
   "source": [
    "X_train = X_train/255.\n",
    "X_test = X_test/255."
   ]
  },
  {
   "cell_type": "markdown",
   "id": "ddcf4fab",
   "metadata": {
    "papermill": {
     "duration": 0.026742,
     "end_time": "2022-08-28T00:44:59.347465",
     "exception": false,
     "start_time": "2022-08-28T00:44:59.320723",
     "status": "completed"
    },
    "tags": []
   },
   "source": [
    "And setup the labels as 1 (when the digit is 3) and 0 (when the digit is 8)"
   ]
  },
  {
   "cell_type": "code",
   "execution_count": 12,
   "id": "7dc908f2",
   "metadata": {
    "execution": {
     "iopub.execute_input": "2022-08-28T00:44:59.412682Z",
     "iopub.status.busy": "2022-08-28T00:44:59.412066Z",
     "iopub.status.idle": "2022-08-28T00:44:59.419501Z",
     "shell.execute_reply": "2022-08-28T00:44:59.419953Z"
    },
    "papermill": {
     "duration": 0.046017,
     "end_time": "2022-08-28T00:44:59.420087",
     "exception": false,
     "start_time": "2022-08-28T00:44:59.374070",
     "status": "completed"
    },
    "tags": []
   },
   "outputs": [],
   "source": [
    "y_train = 1*(y_train==3)\n",
    "y_test = 1*(y_test==3)"
   ]
  },
  {
   "cell_type": "code",
   "execution_count": 13,
   "id": "01e4e969",
   "metadata": {
    "execution": {
     "iopub.execute_input": "2022-08-28T00:44:59.485160Z",
     "iopub.status.busy": "2022-08-28T00:44:59.476059Z",
     "iopub.status.idle": "2022-08-28T00:44:59.493366Z",
     "shell.execute_reply": "2022-08-28T00:44:59.492541Z"
    },
    "papermill": {
     "duration": 0.046822,
     "end_time": "2022-08-28T00:44:59.493488",
     "exception": false,
     "start_time": "2022-08-28T00:44:59.446666",
     "status": "completed"
    },
    "tags": []
   },
   "outputs": [
    {
     "data": {
      "text/plain": [
       "((11982, 28, 28), (1984, 28, 28))"
      ]
     },
     "execution_count": 13,
     "metadata": {},
     "output_type": "execute_result"
    }
   ],
   "source": [
    "X_train.shape, X_test.shape"
   ]
  },
  {
   "cell_type": "markdown",
   "id": "5ccf3f85",
   "metadata": {
    "papermill": {
     "duration": 0.026731,
     "end_time": "2022-08-28T00:44:59.546946",
     "exception": false,
     "start_time": "2022-08-28T00:44:59.520215",
     "status": "completed"
    },
    "tags": []
   },
   "source": [
    "We reshape the data to flatten the image pixels into a set of features or co-variates:"
   ]
  },
  {
   "cell_type": "code",
   "execution_count": 14,
   "id": "5286a4a3",
   "metadata": {
    "execution": {
     "iopub.execute_input": "2022-08-28T00:44:59.607540Z",
     "iopub.status.busy": "2022-08-28T00:44:59.604633Z",
     "iopub.status.idle": "2022-08-28T00:44:59.619336Z",
     "shell.execute_reply": "2022-08-28T00:44:59.618864Z"
    },
    "papermill": {
     "duration": 0.045563,
     "end_time": "2022-08-28T00:44:59.619452",
     "exception": false,
     "start_time": "2022-08-28T00:44:59.573889",
     "status": "completed"
    },
    "tags": []
   },
   "outputs": [
    {
     "data": {
      "text/plain": [
       "((11982, 784), (1984, 784))"
      ]
     },
     "execution_count": 14,
     "metadata": {},
     "output_type": "execute_result"
    }
   ],
   "source": [
    "X_train = X_train.reshape(X_train.shape[0], -1)\n",
    "X_test = X_test.reshape(X_test.shape[0], -1)\n",
    "X_train.shape, X_test.shape"
   ]
  },
  {
   "cell_type": "code",
   "execution_count": 15,
   "id": "73c5f88a",
   "metadata": {
    "execution": {
     "iopub.execute_input": "2022-08-28T00:44:59.678204Z",
     "iopub.status.busy": "2022-08-28T00:44:59.677600Z",
     "iopub.status.idle": "2022-08-28T00:44:59.696324Z",
     "shell.execute_reply": "2022-08-28T00:44:59.695845Z"
    },
    "papermill": {
     "duration": 0.050091,
     "end_time": "2022-08-28T00:44:59.696436",
     "exception": false,
     "start_time": "2022-08-28T00:44:59.646345",
     "status": "completed"
    },
    "tags": []
   },
   "outputs": [],
   "source": [
    "#Impoting functions from 'Kudzu'\n",
    "from kudzu.model import Model\n",
    "from kudzu.train import Learner\n",
    "from kudzu.optim import GD\n",
    "from kudzu.data import Data, Sampler,Dataloader\n",
    "\n",
    "from kudzu.callbacks import AccCallback\n",
    "from kudzu.callbacks import ClfCallback\n",
    "\n",
    "from kudzu.loss import MSE\n",
    "\n",
    "from kudzu.layer import Sigmoid,Relu\n",
    "from kudzu.layer import Affine"
   ]
  },
  {
   "cell_type": "markdown",
   "id": "bc01172a",
   "metadata": {
    "papermill": {
     "duration": 0.027418,
     "end_time": "2022-08-28T00:44:59.750979",
     "exception": false,
     "start_time": "2022-08-28T00:44:59.723561",
     "status": "completed"
    },
    "tags": []
   },
   "source": [
    "### Let us create a `Config` class, to store important parameters. \n",
    "This class essentially plays the role of a dictionary."
   ]
  },
  {
   "cell_type": "code",
   "execution_count": 16,
   "id": "978281aa",
   "metadata": {
    "execution": {
     "iopub.execute_input": "2022-08-28T00:44:59.809589Z",
     "iopub.status.busy": "2022-08-28T00:44:59.808944Z",
     "iopub.status.idle": "2022-08-28T00:44:59.821788Z",
     "shell.execute_reply": "2022-08-28T00:44:59.821288Z"
    },
    "papermill": {
     "duration": 0.043854,
     "end_time": "2022-08-28T00:44:59.821910",
     "exception": false,
     "start_time": "2022-08-28T00:44:59.778056",
     "status": "completed"
    },
    "tags": []
   },
   "outputs": [],
   "source": [
    "class Config:\n",
    "    pass\n",
    "config = Config()\n",
    "config.lr = 0.001\n",
    "config.num_epochs = 250\n",
    "config.bs = 50"
   ]
  },
  {
   "cell_type": "markdown",
   "id": "1385fa59",
   "metadata": {
    "papermill": {
     "duration": 0.02673,
     "end_time": "2022-08-28T00:44:59.875769",
     "exception": false,
     "start_time": "2022-08-28T00:44:59.849039",
     "status": "completed"
    },
    "tags": []
   },
   "source": [
    "### Running Models with the Training data\n",
    "Details about the network layers:\n",
    "- A first affine layer has 784 inputs and does 100 affine transforms. These are followed by a Relu\n",
    "- A second affine layer has 100 inputs from the 100 activations of the past layer, and does 100 affine transforms. These are followed by a Relu\n",
    "- A third affine layer has 100 activations and does 2 affine transformations to create an embedding for visualization. There is no non-linearity here.\n",
    "- A final \"logistic regression\" which has an affine transform from 2 inputs to 1 output, which is squeezed through a sigmoid.\n"
   ]
  },
  {
   "cell_type": "code",
   "execution_count": 17,
   "id": "2b9c66db",
   "metadata": {
    "execution": {
     "iopub.execute_input": "2022-08-28T00:44:59.933806Z",
     "iopub.status.busy": "2022-08-28T00:44:59.933190Z",
     "iopub.status.idle": "2022-08-28T00:44:59.946830Z",
     "shell.execute_reply": "2022-08-28T00:44:59.946353Z"
    },
    "papermill": {
     "duration": 0.044397,
     "end_time": "2022-08-28T00:44:59.946943",
     "exception": false,
     "start_time": "2022-08-28T00:44:59.902546",
     "status": "completed"
    },
    "tags": []
   },
   "outputs": [],
   "source": [
    "data = Data(X_train, y_train.reshape(-1,1))\n",
    "sampler = Sampler(data, config.bs, shuffle=True)\n",
    "\n",
    "dl = Dataloader(data, sampler)\n",
    "\n",
    "opt = GD(config.lr)\n",
    "loss = MSE()"
   ]
  },
  {
   "cell_type": "code",
   "execution_count": 18,
   "id": "b275e4c2",
   "metadata": {
    "execution": {
     "iopub.execute_input": "2022-08-28T00:45:00.018248Z",
     "iopub.status.busy": "2022-08-28T00:45:00.015047Z",
     "iopub.status.idle": "2022-08-28T00:45:00.021882Z",
     "shell.execute_reply": "2022-08-28T00:45:00.022345Z"
    },
    "papermill": {
     "duration": 0.048504,
     "end_time": "2022-08-28T00:45:00.022491",
     "exception": false,
     "start_time": "2022-08-28T00:44:59.973987",
     "status": "completed"
    },
    "tags": []
   },
   "outputs": [],
   "source": [
    "training_data_x = X_train\n",
    "testing_data_x = X_test\n",
    "training_data_y = y_train.reshape(-1,1)\n",
    "testing_data_y = y_test.reshape(-1,1)"
   ]
  },
  {
   "cell_type": "code",
   "execution_count": 19,
   "id": "76951160",
   "metadata": {
    "execution": {
     "iopub.execute_input": "2022-08-28T00:45:00.091101Z",
     "iopub.status.busy": "2022-08-28T00:45:00.087964Z",
     "iopub.status.idle": "2022-08-28T00:45:00.102533Z",
     "shell.execute_reply": "2022-08-28T00:45:00.101729Z"
    },
    "papermill": {
     "duration": 0.052825,
     "end_time": "2022-08-28T00:45:00.102659",
     "exception": false,
     "start_time": "2022-08-28T00:45:00.049834",
     "status": "completed"
    },
    "tags": []
   },
   "outputs": [
    {
     "name": "stdout",
     "output_type": "stream",
     "text": [
      "xavier\n",
      "xavier\n",
      "xavier\n",
      "xavier\n",
      "xavier\n"
     ]
    }
   ],
   "source": [
    "layers = [Affine(\"first\", 784, 100), Relu(\"first\"), Affine(\"second\", 100, 100), Relu(\"second\"), Affine(\"third\", 100, 2), Affine(\"last\", 2, 1), Sigmoid(\"last\")]\n",
    "model_nn = Model(layers)\n",
    "model_lr = Model([Affine(\"logits\", 784, 1), Sigmoid(\"sigmoid\")])"
   ]
  },
  {
   "cell_type": "code",
   "execution_count": 20,
   "id": "6eede77a",
   "metadata": {
    "execution": {
     "iopub.execute_input": "2022-08-28T00:45:00.165109Z",
     "iopub.status.busy": "2022-08-28T00:45:00.164502Z",
     "iopub.status.idle": "2022-08-28T00:45:00.175541Z",
     "shell.execute_reply": "2022-08-28T00:45:00.175047Z"
    },
    "papermill": {
     "duration": 0.04553,
     "end_time": "2022-08-28T00:45:00.175662",
     "exception": false,
     "start_time": "2022-08-28T00:45:00.130132",
     "status": "completed"
    },
    "tags": []
   },
   "outputs": [],
   "source": [
    "nn_learner = Learner(loss, model_nn, opt, config.num_epochs)\n",
    "acc_nn = ClfCallback(nn_learner, config.bs, training_data_x , testing_data_x, training_data_y, testing_data_y)\n",
    "nn_learner.set_callbacks([acc_nn])"
   ]
  },
  {
   "cell_type": "code",
   "execution_count": 21,
   "id": "877b6cc7",
   "metadata": {
    "execution": {
     "iopub.execute_input": "2022-08-28T00:45:00.239582Z",
     "iopub.status.busy": "2022-08-28T00:45:00.237401Z",
     "iopub.status.idle": "2022-08-28T00:45:00.248993Z",
     "shell.execute_reply": "2022-08-28T00:45:00.249448Z"
    },
    "papermill": {
     "duration": 0.04646,
     "end_time": "2022-08-28T00:45:00.249595",
     "exception": false,
     "start_time": "2022-08-28T00:45:00.203135",
     "status": "completed"
    },
    "tags": []
   },
   "outputs": [],
   "source": [
    "lr_learner = Learner(loss, model_lr, opt, config.num_epochs)\n",
    "acc_lr = ClfCallback(lr_learner, config.bs, training_data_x , testing_data_x, training_data_y, testing_data_y)\n",
    "lr_learner.set_callbacks([acc_lr])"
   ]
  },
  {
   "cell_type": "code",
   "execution_count": 22,
   "id": "d9b133c3",
   "metadata": {
    "execution": {
     "iopub.execute_input": "2022-08-28T00:45:00.308753Z",
     "iopub.status.busy": "2022-08-28T00:45:00.308158Z",
     "iopub.status.idle": "2022-08-28T00:46:17.860018Z",
     "shell.execute_reply": "2022-08-28T00:46:17.860869Z"
    },
    "papermill": {
     "duration": 77.58391,
     "end_time": "2022-08-28T00:46:17.861030",
     "exception": false,
     "start_time": "2022-08-28T00:45:00.277120",
     "status": "completed"
    },
    "tags": []
   },
   "outputs": [
    {
     "name": "stdout",
     "output_type": "stream",
     "text": [
      "Epoch 0, Loss 0.2318\n",
      "Training Accuracy: 0.7721, Testing Accuracy: 0.7893\n",
      "\n"
     ]
    },
    {
     "name": "stdout",
     "output_type": "stream",
     "text": [
      "Epoch 10, Loss 0.0701\n",
      "Training Accuracy: 0.9312, Testing Accuracy: 0.9466\n",
      "\n"
     ]
    },
    {
     "name": "stdout",
     "output_type": "stream",
     "text": [
      "Epoch 20, Loss 0.0474\n",
      "Training Accuracy: 0.9487, Testing Accuracy: 0.9582\n",
      "\n"
     ]
    },
    {
     "name": "stdout",
     "output_type": "stream",
     "text": [
      "Epoch 30, Loss 0.0388\n",
      "Training Accuracy: 0.9564, Testing Accuracy: 0.9662\n",
      "\n"
     ]
    },
    {
     "name": "stdout",
     "output_type": "stream",
     "text": [
      "Epoch 40, Loss 0.0342\n",
      "Training Accuracy: 0.9614, Testing Accuracy: 0.9708\n",
      "\n"
     ]
    },
    {
     "name": "stdout",
     "output_type": "stream",
     "text": [
      "Epoch 50, Loss 0.0313\n",
      "Training Accuracy: 0.9644, Testing Accuracy: 0.9723\n",
      "\n"
     ]
    },
    {
     "name": "stdout",
     "output_type": "stream",
     "text": [
      "Epoch 60, Loss 0.0292\n",
      "Training Accuracy: 0.9665, Testing Accuracy: 0.9728\n",
      "\n"
     ]
    },
    {
     "name": "stdout",
     "output_type": "stream",
     "text": [
      "Epoch 70, Loss 0.0277\n",
      "Training Accuracy: 0.9689, Testing Accuracy: 0.9733\n",
      "\n"
     ]
    },
    {
     "name": "stdout",
     "output_type": "stream",
     "text": [
      "Epoch 80, Loss 0.0264\n",
      "Training Accuracy: 0.9702, Testing Accuracy: 0.9738\n",
      "\n"
     ]
    },
    {
     "name": "stdout",
     "output_type": "stream",
     "text": [
      "Epoch 90, Loss 0.0254\n",
      "Training Accuracy: 0.9712, Testing Accuracy: 0.9723\n",
      "\n"
     ]
    },
    {
     "name": "stdout",
     "output_type": "stream",
     "text": [
      "Epoch 100, Loss 0.0245\n",
      "Training Accuracy: 0.9720, Testing Accuracy: 0.9743\n",
      "\n"
     ]
    },
    {
     "name": "stdout",
     "output_type": "stream",
     "text": [
      "Epoch 110, Loss 0.0237\n",
      "Training Accuracy: 0.9726, Testing Accuracy: 0.9743\n",
      "\n"
     ]
    },
    {
     "name": "stdout",
     "output_type": "stream",
     "text": [
      "Epoch 120, Loss 0.023\n",
      "Training Accuracy: 0.9740, Testing Accuracy: 0.9743\n",
      "\n"
     ]
    },
    {
     "name": "stdout",
     "output_type": "stream",
     "text": [
      "Epoch 130, Loss 0.0224\n",
      "Training Accuracy: 0.9746, Testing Accuracy: 0.9748\n",
      "\n"
     ]
    },
    {
     "name": "stdout",
     "output_type": "stream",
     "text": [
      "Epoch 140, Loss 0.0218\n",
      "Training Accuracy: 0.9755, Testing Accuracy: 0.9753\n",
      "\n"
     ]
    },
    {
     "name": "stdout",
     "output_type": "stream",
     "text": [
      "Epoch 150, Loss 0.0213\n",
      "Training Accuracy: 0.9760, Testing Accuracy: 0.9748\n",
      "\n"
     ]
    },
    {
     "name": "stdout",
     "output_type": "stream",
     "text": [
      "Epoch 160, Loss 0.0208\n",
      "Training Accuracy: 0.9765, Testing Accuracy: 0.9753\n",
      "\n"
     ]
    },
    {
     "name": "stdout",
     "output_type": "stream",
     "text": [
      "Epoch 170, Loss 0.0203\n",
      "Training Accuracy: 0.9769, Testing Accuracy: 0.9758\n",
      "\n"
     ]
    },
    {
     "name": "stdout",
     "output_type": "stream",
     "text": [
      "Epoch 180, Loss 0.0198\n",
      "Training Accuracy: 0.9774, Testing Accuracy: 0.9763\n",
      "\n"
     ]
    },
    {
     "name": "stdout",
     "output_type": "stream",
     "text": [
      "Epoch 190, Loss 0.0194\n",
      "Training Accuracy: 0.9785, Testing Accuracy: 0.9763\n",
      "\n"
     ]
    },
    {
     "name": "stdout",
     "output_type": "stream",
     "text": [
      "Epoch 200, Loss 0.019\n",
      "Training Accuracy: 0.9794, Testing Accuracy: 0.9763\n",
      "\n"
     ]
    },
    {
     "name": "stdout",
     "output_type": "stream",
     "text": [
      "Epoch 210, Loss 0.0186\n",
      "Training Accuracy: 0.9796, Testing Accuracy: 0.9753\n",
      "\n"
     ]
    },
    {
     "name": "stdout",
     "output_type": "stream",
     "text": [
      "Epoch 220, Loss 0.0182\n",
      "Training Accuracy: 0.9804, Testing Accuracy: 0.9758\n",
      "\n"
     ]
    },
    {
     "name": "stdout",
     "output_type": "stream",
     "text": [
      "Epoch 230, Loss 0.0178\n",
      "Training Accuracy: 0.9810, Testing Accuracy: 0.9773\n",
      "\n"
     ]
    },
    {
     "name": "stdout",
     "output_type": "stream",
     "text": [
      "Epoch 240, Loss 0.0174\n",
      "Training Accuracy: 0.9812, Testing Accuracy: 0.9763\n",
      "\n"
     ]
    },
    {
     "data": {
      "text/plain": [
       "0.006745445505774216"
      ]
     },
     "execution_count": 22,
     "metadata": {},
     "output_type": "execute_result"
    }
   ],
   "source": [
    "nn_learner.train_loop(dl)"
   ]
  },
  {
   "cell_type": "code",
   "execution_count": 23,
   "id": "e0163366",
   "metadata": {
    "execution": {
     "iopub.execute_input": "2022-08-28T00:46:17.944592Z",
     "iopub.status.busy": "2022-08-28T00:46:17.943993Z",
     "iopub.status.idle": "2022-08-28T00:46:32.003935Z",
     "shell.execute_reply": "2022-08-28T00:46:32.004764Z"
    },
    "papermill": {
     "duration": 14.108595,
     "end_time": "2022-08-28T00:46:32.004923",
     "exception": false,
     "start_time": "2022-08-28T00:46:17.896328",
     "status": "completed"
    },
    "tags": []
   },
   "outputs": [
    {
     "name": "stdout",
     "output_type": "stream",
     "text": [
      "Epoch 0, Loss 0.2137\n",
      "Training Accuracy: 0.7773, Testing Accuracy: 0.7994\n",
      "\n"
     ]
    },
    {
     "name": "stdout",
     "output_type": "stream",
     "text": [
      "Epoch 10, Loss 0.1019\n",
      "Training Accuracy: 0.9075, Testing Accuracy: 0.9234\n",
      "\n"
     ]
    },
    {
     "name": "stdout",
     "output_type": "stream",
     "text": [
      "Epoch 20, Loss 0.0791\n",
      "Training Accuracy: 0.9285, Testing Accuracy: 0.9410\n",
      "\n"
     ]
    },
    {
     "name": "stdout",
     "output_type": "stream",
     "text": [
      "Epoch 30, Loss 0.0684\n",
      "Training Accuracy: 0.9367, Testing Accuracy: 0.9511\n",
      "\n"
     ]
    },
    {
     "name": "stdout",
     "output_type": "stream",
     "text": [
      "Epoch 40, Loss 0.0618\n",
      "Training Accuracy: 0.9409, Testing Accuracy: 0.9546\n",
      "\n"
     ]
    },
    {
     "name": "stdout",
     "output_type": "stream",
     "text": [
      "Epoch 50, Loss 0.0574\n",
      "Training Accuracy: 0.9442, Testing Accuracy: 0.9567\n",
      "\n"
     ]
    },
    {
     "name": "stdout",
     "output_type": "stream",
     "text": [
      "Epoch 60, Loss 0.0541\n",
      "Training Accuracy: 0.9468, Testing Accuracy: 0.9587\n",
      "\n"
     ]
    },
    {
     "name": "stdout",
     "output_type": "stream",
     "text": [
      "Epoch 70, Loss 0.0515\n",
      "Training Accuracy: 0.9483, Testing Accuracy: 0.9592\n",
      "\n"
     ]
    },
    {
     "name": "stdout",
     "output_type": "stream",
     "text": [
      "Epoch 80, Loss 0.0495\n",
      "Training Accuracy: 0.9497, Testing Accuracy: 0.9587\n",
      "\n"
     ]
    },
    {
     "name": "stdout",
     "output_type": "stream",
     "text": [
      "Epoch 90, Loss 0.0478\n",
      "Training Accuracy: 0.9514, Testing Accuracy: 0.9607\n",
      "\n"
     ]
    },
    {
     "name": "stdout",
     "output_type": "stream",
     "text": [
      "Epoch 100, Loss 0.0464\n",
      "Training Accuracy: 0.9529, Testing Accuracy: 0.9602\n",
      "\n"
     ]
    },
    {
     "name": "stdout",
     "output_type": "stream",
     "text": [
      "Epoch 110, Loss 0.0452\n",
      "Training Accuracy: 0.9539, Testing Accuracy: 0.9622\n",
      "\n"
     ]
    },
    {
     "name": "stdout",
     "output_type": "stream",
     "text": [
      "Epoch 120, Loss 0.0441\n",
      "Training Accuracy: 0.9543, Testing Accuracy: 0.9632\n",
      "\n"
     ]
    },
    {
     "name": "stdout",
     "output_type": "stream",
     "text": [
      "Epoch 130, Loss 0.0432\n",
      "Training Accuracy: 0.9553, Testing Accuracy: 0.9637\n",
      "\n"
     ]
    },
    {
     "name": "stdout",
     "output_type": "stream",
     "text": [
      "Epoch 140, Loss 0.0423\n",
      "Training Accuracy: 0.9564, Testing Accuracy: 0.9637\n",
      "\n"
     ]
    },
    {
     "name": "stdout",
     "output_type": "stream",
     "text": [
      "Epoch 150, Loss 0.0416\n",
      "Training Accuracy: 0.9569, Testing Accuracy: 0.9647\n",
      "\n"
     ]
    },
    {
     "name": "stdout",
     "output_type": "stream",
     "text": [
      "Epoch 160, Loss 0.0409\n",
      "Training Accuracy: 0.9574, Testing Accuracy: 0.9652\n",
      "\n"
     ]
    },
    {
     "name": "stdout",
     "output_type": "stream",
     "text": [
      "Epoch 170, Loss 0.0403\n",
      "Training Accuracy: 0.9581, Testing Accuracy: 0.9657\n",
      "\n"
     ]
    },
    {
     "name": "stdout",
     "output_type": "stream",
     "text": [
      "Epoch 180, Loss 0.0397\n",
      "Training Accuracy: 0.9585, Testing Accuracy: 0.9662\n",
      "\n"
     ]
    },
    {
     "name": "stdout",
     "output_type": "stream",
     "text": [
      "Epoch 190, Loss 0.0392\n",
      "Training Accuracy: 0.9590, Testing Accuracy: 0.9667\n",
      "\n"
     ]
    },
    {
     "name": "stdout",
     "output_type": "stream",
     "text": [
      "Epoch 200, Loss 0.0387\n",
      "Training Accuracy: 0.9595, Testing Accuracy: 0.9672\n",
      "\n"
     ]
    },
    {
     "name": "stdout",
     "output_type": "stream",
     "text": [
      "Epoch 210, Loss 0.0383\n",
      "Training Accuracy: 0.9598, Testing Accuracy: 0.9672\n",
      "\n"
     ]
    },
    {
     "name": "stdout",
     "output_type": "stream",
     "text": [
      "Epoch 220, Loss 0.0378\n",
      "Training Accuracy: 0.9601, Testing Accuracy: 0.9672\n",
      "\n"
     ]
    },
    {
     "name": "stdout",
     "output_type": "stream",
     "text": [
      "Epoch 230, Loss 0.0374\n",
      "Training Accuracy: 0.9606, Testing Accuracy: 0.9682\n",
      "\n"
     ]
    },
    {
     "name": "stdout",
     "output_type": "stream",
     "text": [
      "Epoch 240, Loss 0.0371\n",
      "Training Accuracy: 0.9610, Testing Accuracy: 0.9677\n",
      "\n"
     ]
    },
    {
     "data": {
      "text/plain": [
       "0.045472669219524"
      ]
     },
     "execution_count": 23,
     "metadata": {},
     "output_type": "execute_result"
    }
   ],
   "source": [
    "lr_learner.train_loop(dl)"
   ]
  },
  {
   "cell_type": "code",
   "execution_count": 24,
   "id": "ca410940",
   "metadata": {
    "execution": {
     "iopub.execute_input": "2022-08-28T00:46:32.098230Z",
     "iopub.status.busy": "2022-08-28T00:46:32.097594Z",
     "iopub.status.idle": "2022-08-28T00:46:32.315867Z",
     "shell.execute_reply": "2022-08-28T00:46:32.316326Z"
    },
    "papermill": {
     "duration": 0.269515,
     "end_time": "2022-08-28T00:46:32.316485",
     "exception": false,
     "start_time": "2022-08-28T00:46:32.046970",
     "status": "completed"
    },
    "tags": []
   },
   "outputs": [
    {
     "data": {
      "text/plain": [
       "<matplotlib.legend.Legend at 0x7fba253d1e80>"
      ]
     },
     "execution_count": 24,
     "metadata": {},
     "output_type": "execute_result"
    },
    {
     "data": {
      "image/png": "[encoded data removed]",
      "text/plain": [
       "<Figure size 1080x720 with 1 Axes>"
      ]
     },
     "metadata": {
      "needs_background": "light"
     },
     "output_type": "display_data"
    }
   ],
   "source": [
    "#comparing the results of NN and LR\n",
    "plt.figure(figsize=(15,10))\n",
    "\n",
    "# Neural Network plots\n",
    "plt.plot(acc_nn.accuracies, 'r-', label = \"Training Accuracies - NN\")\n",
    "plt.plot(acc_nn.test_accuracies, 'g-', label = \"Testing Accuracies - NN\")\n",
    "\n",
    "# Logistic Regression plots\n",
    "plt.plot(acc_lr.accuracies, 'k-', label = \"Training Accuracies - LR\")\n",
    "plt.plot(acc_lr.test_accuracies, 'b-', label = \"Testing Accuracies - LR\")\n",
    "plt.legend()"
   ]
  },
  {
   "cell_type": "markdown",
   "id": "80dfb35c",
   "metadata": {
    "papermill": {
     "duration": 0.042181,
     "end_time": "2022-08-28T00:46:32.401339",
     "exception": false,
     "start_time": "2022-08-28T00:46:32.359158",
     "status": "completed"
    },
    "tags": []
   },
   "source": [
    "#### Plotting the outputs of this layer of the NN.\n"
   ]
  },
  {
   "cell_type": "code",
   "execution_count": 25,
   "id": "45eb2ff5",
   "metadata": {
    "execution": {
     "iopub.execute_input": "2022-08-28T00:46:32.491869Z",
     "iopub.status.busy": "2022-08-28T00:46:32.489767Z",
     "iopub.status.idle": "2022-08-28T00:46:32.511575Z",
     "shell.execute_reply": "2022-08-28T00:46:32.511084Z"
    },
    "papermill": {
     "duration": 0.06808,
     "end_time": "2022-08-28T00:46:32.511695",
     "exception": false,
     "start_time": "2022-08-28T00:46:32.443615",
     "status": "completed"
    },
    "tags": []
   },
   "outputs": [],
   "source": [
    "new_model = Model(layers[:-2])\n",
    "testing_plot = new_model(testing_data_x)"
   ]
  },
  {
   "cell_type": "code",
   "execution_count": 26,
   "id": "4c0a5485",
   "metadata": {
    "execution": {
     "iopub.execute_input": "2022-08-28T00:46:32.608535Z",
     "iopub.status.busy": "2022-08-28T00:46:32.607893Z",
     "iopub.status.idle": "2022-08-28T00:46:32.788099Z",
     "shell.execute_reply": "2022-08-28T00:46:32.787350Z"
    },
    "papermill": {
     "duration": 0.233077,
     "end_time": "2022-08-28T00:46:32.788230",
     "exception": false,
     "start_time": "2022-08-28T00:46:32.555153",
     "status": "completed"
    },
    "tags": []
   },
   "outputs": [
    {
     "data": {
      "text/plain": [
       "Text(0.5, 1.0, 'Outputs')"
      ]
     },
     "execution_count": 26,
     "metadata": {},
     "output_type": "execute_result"
    },
    {
     "data": {
      "image/png": "[encoded data removed]",
      "text/plain": [
       "<Figure size 576x504 with 1 Axes>"
      ]
     },
     "metadata": {
      "needs_background": "light"
     },
     "output_type": "display_data"
    }
   ],
   "source": [
    "# Plotting the scatter plot of points and color coding by class\n",
    "plt.figure(figsize=(8,7))\n",
    "plt.scatter(testing_plot[:,0], testing_plot[:,1], alpha = 0.1, c = y_test.ravel());\n",
    "plt.title('Outputs')"
   ]
  },
  {
   "cell_type": "markdown",
   "id": "a74fcf8f",
   "metadata": {
    "papermill": {
     "duration": 0.04428,
     "end_time": "2022-08-28T00:46:32.877054",
     "exception": false,
     "start_time": "2022-08-28T00:46:32.832774",
     "status": "completed"
    },
    "tags": []
   },
   "source": [
    "Probability contours"
   ]
  },
  {
   "cell_type": "code",
   "execution_count": 27,
   "id": "d0afc8e3",
   "metadata": {
    "execution": {
     "iopub.execute_input": "2022-08-28T00:46:32.971531Z",
     "iopub.status.busy": "2022-08-28T00:46:32.970427Z",
     "iopub.status.idle": "2022-08-28T00:46:32.983030Z",
     "shell.execute_reply": "2022-08-28T00:46:32.982548Z"
    },
    "papermill": {
     "duration": 0.061532,
     "end_time": "2022-08-28T00:46:32.983147",
     "exception": false,
     "start_time": "2022-08-28T00:46:32.921615",
     "status": "completed"
    },
    "tags": []
   },
   "outputs": [],
   "source": [
    "model_prob = Model(layers[-2:]) "
   ]
  },
  {
   "cell_type": "code",
   "execution_count": 28,
   "id": "9b96e238",
   "metadata": {
    "execution": {
     "iopub.execute_input": "2022-08-28T00:46:33.079492Z",
     "iopub.status.busy": "2022-08-28T00:46:33.078852Z",
     "iopub.status.idle": "2022-08-28T00:46:33.092197Z",
     "shell.execute_reply": "2022-08-28T00:46:33.092644Z"
    },
    "papermill": {
     "duration": 0.064995,
     "end_time": "2022-08-28T00:46:33.092796",
     "exception": false,
     "start_time": "2022-08-28T00:46:33.027801",
     "status": "completed"
    },
    "tags": []
   },
   "outputs": [],
   "source": [
    "#creating the x and y ranges according to the above generated plot.\n",
    "x_range = np.linspace(-4, 1, 100) \n",
    "y_range = np.linspace(-6, 6, 100) \n",
    "x_grid, y_grid = np.meshgrid(x_range, y_range) # x_grid and y_grig are of size 100 X 100\n",
    "\n",
    "# converting x_grid and y_grid to continuous arrays\n",
    "x_gridflat = np.ravel(x_grid)\n",
    "y_gridflat = np.ravel(y_grid)\n",
    "\n",
    "# The last layer of the current model takes two columns as input. Hence transpose of np.vstack() is required.\n",
    "X = np.vstack((x_gridflat, y_gridflat)).T\n",
    "\n",
    "prob_contour = model_prob(X).reshape(100,100) "
   ]
  },
  {
   "cell_type": "code",
   "execution_count": 29,
   "id": "da72499a",
   "metadata": {
    "execution": {
     "iopub.execute_input": "2022-08-28T00:46:33.224383Z",
     "iopub.status.busy": "2022-08-28T00:46:33.223755Z",
     "iopub.status.idle": "2022-08-28T00:46:33.474629Z",
     "shell.execute_reply": "2022-08-28T00:46:33.475112Z"
    },
    "papermill": {
     "duration": 0.300779,
     "end_time": "2022-08-28T00:46:33.475273",
     "exception": false,
     "start_time": "2022-08-28T00:46:33.174494",
     "status": "completed"
    },
    "tags": []
   },
   "outputs": [
    {
     "data": {
      "image/png": "[encoded data removed]",
      "text/plain": [
       "<Figure size 720x648 with 1 Axes>"
      ]
     },
     "metadata": {
      "needs_background": "light"
     },
     "output_type": "display_data"
    }
   ],
   "source": [
    "plt.figure(figsize=(10,9))\n",
    "plt.scatter(testing_plot[:,0], testing_plot[:,1], alpha = 0.1, c = y_test.ravel())\n",
    "contours = plt.contour(x_grid,y_grid,prob_contour)\n",
    "plt.title('Probability Contours')\n",
    "plt.clabel(contours, inline = True );"
   ]
  },
  {
   "cell_type": "code",
   "execution_count": null,
   "id": "e81b4ac7",
   "metadata": {
    "papermill": {
     "duration": 0.047251,
     "end_time": "2022-08-28T00:46:33.570434",
     "exception": false,
     "start_time": "2022-08-28T00:46:33.523183",
     "status": "completed"
    },
    "tags": []
   },
   "outputs": [],
   "source": []
  }
 ],
 "metadata": {
  "kernelspec": {
   "display_name": "Python 3",
   "language": "python",
   "name": "python3"
  },
  "language_info": {
   "codemirror_mode": {
    "name": "ipython",
    "version": 3
   },
   "file_extension": ".py",
   "mimetype": "text/x-python",
   "name": "python",
   "nbconvert_exporter": "python",
   "pygments_lexer": "ipython3",
   "version": "3.6.15"
  },
  "papermill": {
   "default_parameters": {},
   "duration": 99.663089,
   "end_time": "2022-08-28T00:46:34.037212",
   "environment_variables": {},
   "exception": null,
   "input_path": "2020-08-11-part2.ipynb",
   "output_path": "2020-08-11-part2.ipynb",
   "parameters": {},
   "start_time": "2022-08-28T00:44:54.374123",
   "version": "2.3.3"
  }
 },
 "nbformat": 4,
 "nbformat_minor": 5
}