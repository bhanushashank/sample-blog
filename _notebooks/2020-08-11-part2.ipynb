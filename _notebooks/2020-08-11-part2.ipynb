{
 "cells": [
  {
   "cell_type": "markdown",
   "id": "98380cd3",
   "metadata": {
    "papermill": {
     "duration": 0.031553,
     "end_time": "2021-08-26T20:06:56.656561",
     "exception": false,
     "start_time": "2021-08-26T20:06:56.625008",
     "status": "completed"
    },
    "tags": []
   },
   "source": [
    "# Distinguish Your Own Digits (DYOD)"
   ]
  },
  {
   "cell_type": "markdown",
   "id": "ef31240d",
   "metadata": {
    "papermill": {
     "duration": 0.026067,
     "end_time": "2021-08-26T20:06:56.717168",
     "exception": false,
     "start_time": "2021-08-26T20:06:56.691101",
     "status": "completed"
    },
    "tags": []
   },
   "source": [
    "You are going to write a classifier that distinguishes between the number 3 and number 8."
   ]
  },
  {
   "cell_type": "code",
   "execution_count": 1,
   "id": "b15c8646",
   "metadata": {
    "execution": {
     "iopub.execute_input": "2021-08-26T20:06:56.782347Z",
     "iopub.status.busy": "2021-08-26T20:06:56.781814Z",
     "iopub.status.idle": "2021-08-26T20:06:56.792411Z",
     "shell.execute_reply": "2021-08-26T20:06:56.791861Z"
    },
    "papermill": {
     "duration": 0.049219,
     "end_time": "2021-08-26T20:06:56.792553",
     "exception": false,
     "start_time": "2021-08-26T20:06:56.743334",
     "status": "completed"
    },
    "tags": []
   },
   "outputs": [],
   "source": [
    "%load_ext autoreload\n",
    "%autoreload 2"
   ]
  },
  {
   "cell_type": "code",
   "execution_count": 2,
   "id": "22ef38dc",
   "metadata": {
    "execution": {
     "iopub.execute_input": "2021-08-26T20:06:56.844081Z",
     "iopub.status.busy": "2021-08-26T20:06:56.843603Z",
     "iopub.status.idle": "2021-08-26T20:06:57.384201Z",
     "shell.execute_reply": "2021-08-26T20:06:57.384610Z"
    },
    "papermill": {
     "duration": 0.569407,
     "end_time": "2021-08-26T20:06:57.384758",
     "exception": false,
     "start_time": "2021-08-26T20:06:56.815351",
     "status": "completed"
    },
    "tags": []
   },
   "outputs": [],
   "source": [
    "%matplotlib inline\n",
    "import numpy as np\n",
    "import matplotlib.pyplot as plt\n",
    "import pandas as pd"
   ]
  },
  {
   "cell_type": "markdown",
   "id": "ba036198",
   "metadata": {
    "papermill": {
     "duration": 0.022647,
     "end_time": "2021-08-26T20:06:57.429432",
     "exception": false,
     "start_time": "2021-08-26T20:06:57.406785",
     "status": "completed"
    },
    "tags": []
   },
   "source": [
    "From the command line run `pip install mnist`. This is a library that will help you bring down the mnist dataset. If you run this from a notebook, you need to put  `!pip install mnist` in a cell by itself."
   ]
  },
  {
   "cell_type": "code",
   "execution_count": 3,
   "id": "bb6ad8a1",
   "metadata": {
    "execution": {
     "iopub.execute_input": "2021-08-26T20:06:57.475974Z",
     "iopub.status.busy": "2021-08-26T20:06:57.475512Z",
     "iopub.status.idle": "2021-08-26T20:06:59.156972Z",
     "shell.execute_reply": "2021-08-26T20:06:59.156463Z"
    },
    "papermill": {
     "duration": 1.706561,
     "end_time": "2021-08-26T20:06:59.157122",
     "exception": false,
     "start_time": "2021-08-26T20:06:57.450561",
     "status": "completed"
    },
    "tags": []
   },
   "outputs": [
    {
     "name": "stdout",
     "output_type": "stream",
     "text": [
      "Collecting mnist\r\n"
     ]
    },
    {
     "name": "stdout",
     "output_type": "stream",
     "text": [
      "  Downloading mnist-0.2.2-py2.py3-none-any.whl (3.5 kB)\r\n",
      "Requirement already satisfied: numpy in /opt/hostedtoolcache/Python/3.6.14/x64/lib/python3.6/site-packages (from mnist) (1.19.5)\r\n"
     ]
    },
    {
     "name": "stdout",
     "output_type": "stream",
     "text": [
      "Installing collected packages: mnist\r\n"
     ]
    },
    {
     "name": "stdout",
     "output_type": "stream",
     "text": [
      "Successfully installed mnist-0.2.2\r\n"
     ]
    }
   ],
   "source": [
    "!pip install mnist"
   ]
  },
  {
   "cell_type": "markdown",
   "id": "69df9c9a",
   "metadata": {
    "papermill": {
     "duration": 0.025407,
     "end_time": "2021-08-26T20:06:59.208287",
     "exception": false,
     "start_time": "2021-08-26T20:06:59.182880",
     "status": "completed"
    },
    "tags": []
   },
   "source": [
    "## Preparing the Data"
   ]
  },
  {
   "cell_type": "code",
   "execution_count": 4,
   "id": "7f69d806",
   "metadata": {
    "execution": {
     "iopub.execute_input": "2021-08-26T20:06:59.276975Z",
     "iopub.status.busy": "2021-08-26T20:06:59.270226Z",
     "iopub.status.idle": "2021-08-26T20:06:59.280545Z",
     "shell.execute_reply": "2021-08-26T20:06:59.280099Z"
    },
    "papermill": {
     "duration": 0.04716,
     "end_time": "2021-08-26T20:06:59.280667",
     "exception": false,
     "start_time": "2021-08-26T20:06:59.233507",
     "status": "completed"
    },
    "tags": []
   },
   "outputs": [],
   "source": [
    "import mnist"
   ]
  },
  {
   "cell_type": "code",
   "execution_count": 5,
   "id": "a411e44f",
   "metadata": {
    "execution": {
     "iopub.execute_input": "2021-08-26T20:06:59.343083Z",
     "iopub.status.busy": "2021-08-26T20:06:59.337915Z",
     "iopub.status.idle": "2021-08-26T20:07:00.036445Z",
     "shell.execute_reply": "2021-08-26T20:07:00.035976Z"
    },
    "papermill": {
     "duration": 0.730626,
     "end_time": "2021-08-26T20:07:00.036573",
     "exception": false,
     "start_time": "2021-08-26T20:06:59.305947",
     "status": "completed"
    },
    "tags": []
   },
   "outputs": [],
   "source": [
    "train_images = mnist.train_images()\n",
    "train_labels = mnist.train_labels()"
   ]
  },
  {
   "cell_type": "code",
   "execution_count": 6,
   "id": "dceab3a5",
   "metadata": {
    "execution": {
     "iopub.execute_input": "2021-08-26T20:07:00.098584Z",
     "iopub.status.busy": "2021-08-26T20:07:00.098038Z",
     "iopub.status.idle": "2021-08-26T20:07:00.107912Z",
     "shell.execute_reply": "2021-08-26T20:07:00.108324Z"
    },
    "papermill": {
     "duration": 0.046441,
     "end_time": "2021-08-26T20:07:00.108467",
     "exception": false,
     "start_time": "2021-08-26T20:07:00.062026",
     "status": "completed"
    },
    "tags": []
   },
   "outputs": [
    {
     "data": {
      "text/plain": [
       "((60000, 28, 28), (60000,))"
      ]
     },
     "execution_count": 6,
     "metadata": {},
     "output_type": "execute_result"
    }
   ],
   "source": [
    "train_images.shape, train_labels.shape"
   ]
  },
  {
   "cell_type": "code",
   "execution_count": 7,
   "id": "f50dc2bb",
   "metadata": {
    "execution": {
     "iopub.execute_input": "2021-08-26T20:07:00.170150Z",
     "iopub.status.busy": "2021-08-26T20:07:00.166463Z",
     "iopub.status.idle": "2021-08-26T20:07:00.408239Z",
     "shell.execute_reply": "2021-08-26T20:07:00.408716Z"
    },
    "papermill": {
     "duration": 0.275012,
     "end_time": "2021-08-26T20:07:00.408884",
     "exception": false,
     "start_time": "2021-08-26T20:07:00.133872",
     "status": "completed"
    },
    "tags": []
   },
   "outputs": [],
   "source": [
    "test_images = mnist.test_images()\n",
    "test_labels = mnist.test_labels()"
   ]
  },
  {
   "cell_type": "code",
   "execution_count": 8,
   "id": "fc38cf1b",
   "metadata": {
    "execution": {
     "iopub.execute_input": "2021-08-26T20:07:00.466426Z",
     "iopub.status.busy": "2021-08-26T20:07:00.465895Z",
     "iopub.status.idle": "2021-08-26T20:07:00.477867Z",
     "shell.execute_reply": "2021-08-26T20:07:00.477420Z"
    },
    "papermill": {
     "duration": 0.042611,
     "end_time": "2021-08-26T20:07:00.477987",
     "exception": false,
     "start_time": "2021-08-26T20:07:00.435376",
     "status": "completed"
    },
    "tags": []
   },
   "outputs": [
    {
     "data": {
      "text/plain": [
       "((10000, 28, 28), (10000,))"
      ]
     },
     "execution_count": 8,
     "metadata": {},
     "output_type": "execute_result"
    }
   ],
   "source": [
    "test_images.shape, test_labels.shape"
   ]
  },
  {
   "cell_type": "code",
   "execution_count": 9,
   "id": "f9ed8fe0",
   "metadata": {
    "execution": {
     "iopub.execute_input": "2021-08-26T20:07:00.537365Z",
     "iopub.status.busy": "2021-08-26T20:07:00.536800Z",
     "iopub.status.idle": "2021-08-26T20:07:00.674412Z",
     "shell.execute_reply": "2021-08-26T20:07:00.673921Z"
    },
    "papermill": {
     "duration": 0.170879,
     "end_time": "2021-08-26T20:07:00.674548",
     "exception": false,
     "start_time": "2021-08-26T20:07:00.503669",
     "status": "completed"
    },
    "tags": []
   },
   "outputs": [
    {
     "name": "stdout",
     "output_type": "stream",
     "text": [
      "2\n"
     ]
    },
    {
     "data": {
      "text/plain": [
       "<matplotlib.image.AxesImage at 0x7fc2831dd908>"
      ]
     },
     "execution_count": 9,
     "metadata": {},
     "output_type": "execute_result"
    },
    {
     "data": {
      "image/png": "[encoded data removed]",
      "text/plain": [
       "<Figure size 432x288 with 1 Axes>"
      ]
     },
     "metadata": {
      "needs_background": "light"
     },
     "output_type": "display_data"
    }
   ],
   "source": [
    "image_index = 7776 # You may select anything up to 60,000\n",
    "print(train_labels[image_index]) \n",
    "plt.imshow(train_images[image_index], cmap='Greys')"
   ]
  },
  {
   "cell_type": "markdown",
   "id": "a8d2388d",
   "metadata": {
    "papermill": {
     "duration": 0.026975,
     "end_time": "2021-08-26T20:07:00.729042",
     "exception": false,
     "start_time": "2021-08-26T20:07:00.702067",
     "status": "completed"
    },
    "tags": []
   },
   "source": [
    "## Filter data to get 3 and 8 out"
   ]
  },
  {
   "cell_type": "code",
   "execution_count": 10,
   "id": "776f7fc7",
   "metadata": {
    "execution": {
     "iopub.execute_input": "2021-08-26T20:07:00.789179Z",
     "iopub.status.busy": "2021-08-26T20:07:00.788588Z",
     "iopub.status.idle": "2021-08-26T20:07:00.804951Z",
     "shell.execute_reply": "2021-08-26T20:07:00.804496Z"
    },
    "papermill": {
     "duration": 0.049099,
     "end_time": "2021-08-26T20:07:00.805105",
     "exception": false,
     "start_time": "2021-08-26T20:07:00.756006",
     "status": "completed"
    },
    "tags": []
   },
   "outputs": [],
   "source": [
    "train_filter = np.where((train_labels == 3 ) | (train_labels == 8))\n",
    "test_filter = np.where((test_labels == 3) | (test_labels == 8))\n",
    "X_train, y_train = train_images[train_filter], train_labels[train_filter]\n",
    "X_test, y_test = test_images[test_filter], test_labels[test_filter]"
   ]
  },
  {
   "cell_type": "markdown",
   "id": "948f0b7e",
   "metadata": {
    "papermill": {
     "duration": 0.026758,
     "end_time": "2021-08-26T20:07:00.858824",
     "exception": false,
     "start_time": "2021-08-26T20:07:00.832066",
     "status": "completed"
    },
    "tags": []
   },
   "source": [
    "We normalize the pizel values in the 0 to 1 range"
   ]
  },
  {
   "cell_type": "code",
   "execution_count": 11,
   "id": "ee4c2166",
   "metadata": {
    "execution": {
     "iopub.execute_input": "2021-08-26T20:07:00.925955Z",
     "iopub.status.busy": "2021-08-26T20:07:00.923871Z",
     "iopub.status.idle": "2021-08-26T20:07:00.968235Z",
     "shell.execute_reply": "2021-08-26T20:07:00.967745Z"
    },
    "papermill": {
     "duration": 0.082196,
     "end_time": "2021-08-26T20:07:00.968355",
     "exception": false,
     "start_time": "2021-08-26T20:07:00.886159",
     "status": "completed"
    },
    "tags": []
   },
   "outputs": [],
   "source": [
    "X_train = X_train/255.\n",
    "X_test = X_test/255."
   ]
  },
  {
   "cell_type": "markdown",
   "id": "ddcf4fab",
   "metadata": {
    "papermill": {
     "duration": 0.0267,
     "end_time": "2021-08-26T20:07:01.022218",
     "exception": false,
     "start_time": "2021-08-26T20:07:00.995518",
     "status": "completed"
    },
    "tags": []
   },
   "source": [
    "And setup the labels as 1 (when the digit is 3) and 0 (when the digit is 8)"
   ]
  },
  {
   "cell_type": "code",
   "execution_count": 12,
   "id": "7dc908f2",
   "metadata": {
    "execution": {
     "iopub.execute_input": "2021-08-26T20:07:01.088294Z",
     "iopub.status.busy": "2021-08-26T20:07:01.087441Z",
     "iopub.status.idle": "2021-08-26T20:07:01.094859Z",
     "shell.execute_reply": "2021-08-26T20:07:01.094437Z"
    },
    "papermill": {
     "duration": 0.046174,
     "end_time": "2021-08-26T20:07:01.094983",
     "exception": false,
     "start_time": "2021-08-26T20:07:01.048809",
     "status": "completed"
    },
    "tags": []
   },
   "outputs": [],
   "source": [
    "y_train = 1*(y_train==3)\n",
    "y_test = 1*(y_test==3)"
   ]
  },
  {
   "cell_type": "code",
   "execution_count": 13,
   "id": "01e4e969",
   "metadata": {
    "execution": {
     "iopub.execute_input": "2021-08-26T20:07:01.154398Z",
     "iopub.status.busy": "2021-08-26T20:07:01.153874Z",
     "iopub.status.idle": "2021-08-26T20:07:01.165488Z",
     "shell.execute_reply": "2021-08-26T20:07:01.165896Z"
    },
    "papermill": {
     "duration": 0.044219,
     "end_time": "2021-08-26T20:07:01.166038",
     "exception": false,
     "start_time": "2021-08-26T20:07:01.121819",
     "status": "completed"
    },
    "tags": []
   },
   "outputs": [
    {
     "data": {
      "text/plain": [
       "((11982, 28, 28), (1984, 28, 28))"
      ]
     },
     "execution_count": 13,
     "metadata": {},
     "output_type": "execute_result"
    }
   ],
   "source": [
    "X_train.shape, X_test.shape"
   ]
  },
  {
   "cell_type": "markdown",
   "id": "5ccf3f85",
   "metadata": {
    "papermill": {
     "duration": 0.026754,
     "end_time": "2021-08-26T20:07:01.219665",
     "exception": false,
     "start_time": "2021-08-26T20:07:01.192911",
     "status": "completed"
    },
    "tags": []
   },
   "source": [
    "We reshape the data to flatten the image pixels into a set of features or co-variates:"
   ]
  },
  {
   "cell_type": "code",
   "execution_count": 14,
   "id": "5286a4a3",
   "metadata": {
    "execution": {
     "iopub.execute_input": "2021-08-26T20:07:01.277696Z",
     "iopub.status.busy": "2021-08-26T20:07:01.277162Z",
     "iopub.status.idle": "2021-08-26T20:07:01.290577Z",
     "shell.execute_reply": "2021-08-26T20:07:01.291010Z"
    },
    "papermill": {
     "duration": 0.044372,
     "end_time": "2021-08-26T20:07:01.291144",
     "exception": false,
     "start_time": "2021-08-26T20:07:01.246772",
     "status": "completed"
    },
    "tags": []
   },
   "outputs": [
    {
     "data": {
      "text/plain": [
       "((11982, 784), (1984, 784))"
      ]
     },
     "execution_count": 14,
     "metadata": {},
     "output_type": "execute_result"
    }
   ],
   "source": [
    "X_train = X_train.reshape(X_train.shape[0], -1)\n",
    "X_test = X_test.reshape(X_test.shape[0], -1)\n",
    "X_train.shape, X_test.shape"
   ]
  },
  {
   "cell_type": "code",
   "execution_count": 15,
   "id": "73c5f88a",
   "metadata": {
    "execution": {
     "iopub.execute_input": "2021-08-26T20:07:01.350652Z",
     "iopub.status.busy": "2021-08-26T20:07:01.350129Z",
     "iopub.status.idle": "2021-08-26T20:07:01.368276Z",
     "shell.execute_reply": "2021-08-26T20:07:01.367847Z"
    },
    "papermill": {
     "duration": 0.050109,
     "end_time": "2021-08-26T20:07:01.368399",
     "exception": false,
     "start_time": "2021-08-26T20:07:01.318290",
     "status": "completed"
    },
    "tags": []
   },
   "outputs": [],
   "source": [
    "#Impoting functions from 'Kudzu'\n",
    "from kudzu.model import Model\n",
    "from kudzu.train import Learner\n",
    "from kudzu.optim import GD\n",
    "from kudzu.data import Data, Sampler,Dataloader\n",
    "\n",
    "from kudzu.callbacks import AccCallback\n",
    "from kudzu.callbacks import ClfCallback\n",
    "\n",
    "from kudzu.loss import MSE\n",
    "\n",
    "from kudzu.layer import Sigmoid,Relu\n",
    "from kudzu.layer import Affine"
   ]
  },
  {
   "cell_type": "markdown",
   "id": "bc01172a",
   "metadata": {
    "papermill": {
     "duration": 0.027073,
     "end_time": "2021-08-26T20:07:01.422793",
     "exception": false,
     "start_time": "2021-08-26T20:07:01.395720",
     "status": "completed"
    },
    "tags": []
   },
   "source": [
    "### Let us create a `Config` class, to store important parameters. \n",
    "This class essentially plays the role of a dictionary."
   ]
  },
  {
   "cell_type": "code",
   "execution_count": 16,
   "id": "978281aa",
   "metadata": {
    "execution": {
     "iopub.execute_input": "2021-08-26T20:07:01.482445Z",
     "iopub.status.busy": "2021-08-26T20:07:01.481889Z",
     "iopub.status.idle": "2021-08-26T20:07:01.494314Z",
     "shell.execute_reply": "2021-08-26T20:07:01.493864Z"
    },
    "papermill": {
     "duration": 0.044506,
     "end_time": "2021-08-26T20:07:01.494423",
     "exception": false,
     "start_time": "2021-08-26T20:07:01.449917",
     "status": "completed"
    },
    "tags": []
   },
   "outputs": [],
   "source": [
    "class Config:\n",
    "    pass\n",
    "config = Config()\n",
    "config.lr = 0.001\n",
    "config.num_epochs = 250\n",
    "config.bs = 50"
   ]
  },
  {
   "cell_type": "markdown",
   "id": "1385fa59",
   "metadata": {
    "papermill": {
     "duration": 0.02406,
     "end_time": "2021-08-26T20:07:01.542761",
     "exception": false,
     "start_time": "2021-08-26T20:07:01.518701",
     "status": "completed"
    },
    "tags": []
   },
   "source": [
    "### Running Models with the Training data\n",
    "Details about the network layers:\n",
    "- A first affine layer has 784 inputs and does 100 affine transforms. These are followed by a Relu\n",
    "- A second affine layer has 100 inputs from the 100 activations of the past layer, and does 100 affine transforms. These are followed by a Relu\n",
    "- A third affine layer has 100 activations and does 2 affine transformations to create an embedding for visualization. There is no non-linearity here.\n",
    "- A final \"logistic regression\" which has an affine transform from 2 inputs to 1 output, which is squeezed through a sigmoid.\n"
   ]
  },
  {
   "cell_type": "code",
   "execution_count": 17,
   "id": "2b9c66db",
   "metadata": {
    "execution": {
     "iopub.execute_input": "2021-08-26T20:07:01.606201Z",
     "iopub.status.busy": "2021-08-26T20:07:01.600106Z",
     "iopub.status.idle": "2021-08-26T20:07:01.608633Z",
     "shell.execute_reply": "2021-08-26T20:07:01.608997Z"
    },
    "papermill": {
     "duration": 0.042439,
     "end_time": "2021-08-26T20:07:01.609151",
     "exception": false,
     "start_time": "2021-08-26T20:07:01.566712",
     "status": "completed"
    },
    "tags": []
   },
   "outputs": [],
   "source": [
    "data = Data(X_train, y_train.reshape(-1,1))\n",
    "sampler = Sampler(data, config.bs, shuffle=True)\n",
    "\n",
    "dl = Dataloader(data, sampler)\n",
    "\n",
    "opt = GD(config.lr)\n",
    "loss = MSE()"
   ]
  },
  {
   "cell_type": "code",
   "execution_count": 18,
   "id": "b275e4c2",
   "metadata": {
    "execution": {
     "iopub.execute_input": "2021-08-26T20:07:01.660952Z",
     "iopub.status.busy": "2021-08-26T20:07:01.660501Z",
     "iopub.status.idle": "2021-08-26T20:07:01.673326Z",
     "shell.execute_reply": "2021-08-26T20:07:01.673710Z"
    },
    "papermill": {
     "duration": 0.040367,
     "end_time": "2021-08-26T20:07:01.673831",
     "exception": false,
     "start_time": "2021-08-26T20:07:01.633464",
     "status": "completed"
    },
    "tags": []
   },
   "outputs": [],
   "source": [
    "training_data_x = X_train\n",
    "testing_data_x = X_test\n",
    "training_data_y = y_train.reshape(-1,1)\n",
    "testing_data_y = y_test.reshape(-1,1)"
   ]
  },
  {
   "cell_type": "code",
   "execution_count": 19,
   "id": "76951160",
   "metadata": {
    "execution": {
     "iopub.execute_input": "2021-08-26T20:07:01.740499Z",
     "iopub.status.busy": "2021-08-26T20:07:01.737062Z",
     "iopub.status.idle": "2021-08-26T20:07:01.743230Z",
     "shell.execute_reply": "2021-08-26T20:07:01.742847Z"
    },
    "papermill": {
     "duration": 0.045776,
     "end_time": "2021-08-26T20:07:01.743332",
     "exception": false,
     "start_time": "2021-08-26T20:07:01.697556",
     "status": "completed"
    },
    "tags": []
   },
   "outputs": [
    {
     "name": "stdout",
     "output_type": "stream",
     "text": [
      "xavier\n",
      "xavier\n",
      "xavier\n",
      "xavier\n",
      "xavier\n"
     ]
    }
   ],
   "source": [
    "layers = [Affine(\"first\", 784, 100), Relu(\"first\"), Affine(\"second\", 100, 100), Relu(\"second\"), Affine(\"third\", 100, 2), Affine(\"last\", 2, 1), Sigmoid(\"last\")]\n",
    "model_nn = Model(layers)\n",
    "model_lr = Model([Affine(\"logits\", 784, 1), Sigmoid(\"sigmoid\")])"
   ]
  },
  {
   "cell_type": "code",
   "execution_count": 20,
   "id": "6eede77a",
   "metadata": {
    "execution": {
     "iopub.execute_input": "2021-08-26T20:07:01.795769Z",
     "iopub.status.busy": "2021-08-26T20:07:01.794976Z",
     "iopub.status.idle": "2021-08-26T20:07:01.807407Z",
     "shell.execute_reply": "2021-08-26T20:07:01.807838Z"
    },
    "papermill": {
     "duration": 0.040365,
     "end_time": "2021-08-26T20:07:01.807954",
     "exception": false,
     "start_time": "2021-08-26T20:07:01.767589",
     "status": "completed"
    },
    "tags": []
   },
   "outputs": [],
   "source": [
    "nn_learner = Learner(loss, model_nn, opt, config.num_epochs)\n",
    "acc_nn = ClfCallback(nn_learner, config.bs, training_data_x , testing_data_x, training_data_y, testing_data_y)\n",
    "nn_learner.set_callbacks([acc_nn])"
   ]
  },
  {
   "cell_type": "code",
   "execution_count": 21,
   "id": "877b6cc7",
   "metadata": {
    "execution": {
     "iopub.execute_input": "2021-08-26T20:07:01.860692Z",
     "iopub.status.busy": "2021-08-26T20:07:01.860241Z",
     "iopub.status.idle": "2021-08-26T20:07:01.872186Z",
     "shell.execute_reply": "2021-08-26T20:07:01.872555Z"
    },
    "papermill": {
     "duration": 0.040582,
     "end_time": "2021-08-26T20:07:01.872681",
     "exception": false,
     "start_time": "2021-08-26T20:07:01.832099",
     "status": "completed"
    },
    "tags": []
   },
   "outputs": [],
   "source": [
    "lr_learner = Learner(loss, model_lr, opt, config.num_epochs)\n",
    "acc_lr = ClfCallback(lr_learner, config.bs, training_data_x , testing_data_x, training_data_y, testing_data_y)\n",
    "lr_learner.set_callbacks([acc_lr])"
   ]
  },
  {
   "cell_type": "code",
   "execution_count": 22,
   "id": "d9b133c3",
   "metadata": {
    "execution": {
     "iopub.execute_input": "2021-08-26T20:07:01.934428Z",
     "iopub.status.busy": "2021-08-26T20:07:01.933945Z",
     "iopub.status.idle": "2021-08-26T20:08:20.386333Z",
     "shell.execute_reply": "2021-08-26T20:08:20.387060Z"
    },
    "papermill": {
     "duration": 78.489899,
     "end_time": "2021-08-26T20:08:20.387205",
     "exception": false,
     "start_time": "2021-08-26T20:07:01.897306",
     "status": "completed"
    },
    "tags": []
   },
   "outputs": [
    {
     "name": "stdout",
     "output_type": "stream",
     "text": [
      "Epoch 0, Loss 0.2341\n",
      "Training Accuracy: 0.7157, Testing Accuracy: 0.7172\n",
      "\n"
     ]
    },
    {
     "name": "stdout",
     "output_type": "stream",
     "text": [
      "Epoch 10, Loss 0.063\n",
      "Training Accuracy: 0.9367, Testing Accuracy: 0.9461\n",
      "\n"
     ]
    },
    {
     "name": "stdout",
     "output_type": "stream",
     "text": [
      "Epoch 20, Loss 0.0428\n",
      "Training Accuracy: 0.9534, Testing Accuracy: 0.9647\n",
      "\n"
     ]
    },
    {
     "name": "stdout",
     "output_type": "stream",
     "text": [
      "Epoch 30, Loss 0.0356\n",
      "Training Accuracy: 0.9609, Testing Accuracy: 0.9688\n",
      "\n"
     ]
    },
    {
     "name": "stdout",
     "output_type": "stream",
     "text": [
      "Epoch 40, Loss 0.0318\n",
      "Training Accuracy: 0.9650, Testing Accuracy: 0.9728\n",
      "\n"
     ]
    },
    {
     "name": "stdout",
     "output_type": "stream",
     "text": [
      "Epoch 50, Loss 0.0293\n",
      "Training Accuracy: 0.9671, Testing Accuracy: 0.9743\n",
      "\n"
     ]
    },
    {
     "name": "stdout",
     "output_type": "stream",
     "text": [
      "Epoch 60, Loss 0.0275\n",
      "Training Accuracy: 0.9696, Testing Accuracy: 0.9743\n",
      "\n"
     ]
    },
    {
     "name": "stdout",
     "output_type": "stream",
     "text": [
      "Epoch 70, Loss 0.026\n",
      "Training Accuracy: 0.9709, Testing Accuracy: 0.9733\n",
      "\n"
     ]
    },
    {
     "name": "stdout",
     "output_type": "stream",
     "text": [
      "Epoch 80, Loss 0.0248\n",
      "Training Accuracy: 0.9720, Testing Accuracy: 0.9738\n",
      "\n"
     ]
    },
    {
     "name": "stdout",
     "output_type": "stream",
     "text": [
      "Epoch 90, Loss 0.0238\n",
      "Training Accuracy: 0.9738, Testing Accuracy: 0.9748\n",
      "\n"
     ]
    },
    {
     "name": "stdout",
     "output_type": "stream",
     "text": [
      "Epoch 100, Loss 0.0229\n",
      "Training Accuracy: 0.9750, Testing Accuracy: 0.9753\n",
      "\n"
     ]
    },
    {
     "name": "stdout",
     "output_type": "stream",
     "text": [
      "Epoch 110, Loss 0.0221\n",
      "Training Accuracy: 0.9757, Testing Accuracy: 0.9753\n",
      "\n"
     ]
    },
    {
     "name": "stdout",
     "output_type": "stream",
     "text": [
      "Epoch 120, Loss 0.0213\n",
      "Training Accuracy: 0.9766, Testing Accuracy: 0.9753\n",
      "\n"
     ]
    },
    {
     "name": "stdout",
     "output_type": "stream",
     "text": [
      "Epoch 130, Loss 0.0207\n",
      "Training Accuracy: 0.9772, Testing Accuracy: 0.9763\n",
      "\n"
     ]
    },
    {
     "name": "stdout",
     "output_type": "stream",
     "text": [
      "Epoch 140, Loss 0.0201\n",
      "Training Accuracy: 0.9785, Testing Accuracy: 0.9758\n",
      "\n"
     ]
    },
    {
     "name": "stdout",
     "output_type": "stream",
     "text": [
      "Epoch 150, Loss 0.0195\n",
      "Training Accuracy: 0.9791, Testing Accuracy: 0.9773\n",
      "\n"
     ]
    },
    {
     "name": "stdout",
     "output_type": "stream",
     "text": [
      "Epoch 160, Loss 0.0189\n",
      "Training Accuracy: 0.9798, Testing Accuracy: 0.9778\n",
      "\n"
     ]
    },
    {
     "name": "stdout",
     "output_type": "stream",
     "text": [
      "Epoch 170, Loss 0.0184\n",
      "Training Accuracy: 0.9804, Testing Accuracy: 0.9778\n",
      "\n"
     ]
    },
    {
     "name": "stdout",
     "output_type": "stream",
     "text": [
      "Epoch 180, Loss 0.0179\n",
      "Training Accuracy: 0.9810, Testing Accuracy: 0.9788\n",
      "\n"
     ]
    },
    {
     "name": "stdout",
     "output_type": "stream",
     "text": [
      "Epoch 190, Loss 0.0175\n",
      "Training Accuracy: 0.9816, Testing Accuracy: 0.9788\n",
      "\n"
     ]
    },
    {
     "name": "stdout",
     "output_type": "stream",
     "text": [
      "Epoch 200, Loss 0.017\n",
      "Training Accuracy: 0.9825, Testing Accuracy: 0.9788\n",
      "\n"
     ]
    },
    {
     "name": "stdout",
     "output_type": "stream",
     "text": [
      "Epoch 210, Loss 0.0166\n",
      "Training Accuracy: 0.9829, Testing Accuracy: 0.9793\n",
      "\n"
     ]
    },
    {
     "name": "stdout",
     "output_type": "stream",
     "text": [
      "Epoch 220, Loss 0.0162\n",
      "Training Accuracy: 0.9832, Testing Accuracy: 0.9793\n",
      "\n"
     ]
    },
    {
     "name": "stdout",
     "output_type": "stream",
     "text": [
      "Epoch 230, Loss 0.0158\n",
      "Training Accuracy: 0.9836, Testing Accuracy: 0.9798\n",
      "\n"
     ]
    },
    {
     "name": "stdout",
     "output_type": "stream",
     "text": [
      "Epoch 240, Loss 0.0154\n",
      "Training Accuracy: 0.9839, Testing Accuracy: 0.9798\n",
      "\n"
     ]
    },
    {
     "data": {
      "text/plain": [
       "0.010949028279653323"
      ]
     },
     "execution_count": 22,
     "metadata": {},
     "output_type": "execute_result"
    }
   ],
   "source": [
    "nn_learner.train_loop(dl)"
   ]
  },
  {
   "cell_type": "code",
   "execution_count": 23,
   "id": "e0163366",
   "metadata": {
    "execution": {
     "iopub.execute_input": "2021-08-26T20:08:20.469741Z",
     "iopub.status.busy": "2021-08-26T20:08:20.469180Z",
     "iopub.status.idle": "2021-08-26T20:08:34.992314Z",
     "shell.execute_reply": "2021-08-26T20:08:34.993023Z"
    },
    "papermill": {
     "duration": 14.570748,
     "end_time": "2021-08-26T20:08:34.993191",
     "exception": false,
     "start_time": "2021-08-26T20:08:20.422443",
     "status": "completed"
    },
    "tags": []
   },
   "outputs": [
    {
     "name": "stdout",
     "output_type": "stream",
     "text": [
      "Epoch 0, Loss 0.254\n",
      "Training Accuracy: 0.6225, Testing Accuracy: 0.6260\n",
      "\n"
     ]
    },
    {
     "name": "stdout",
     "output_type": "stream",
     "text": [
      "Epoch 10, Loss 0.1092\n",
      "Training Accuracy: 0.8924, Testing Accuracy: 0.9047\n",
      "\n"
     ]
    },
    {
     "name": "stdout",
     "output_type": "stream",
     "text": [
      "Epoch 20, Loss 0.0828\n",
      "Training Accuracy: 0.9179, Testing Accuracy: 0.9340\n",
      "\n"
     ]
    },
    {
     "name": "stdout",
     "output_type": "stream",
     "text": [
      "Epoch 30, Loss 0.0706\n",
      "Training Accuracy: 0.9311, Testing Accuracy: 0.9415\n",
      "\n"
     ]
    },
    {
     "name": "stdout",
     "output_type": "stream",
     "text": [
      "Epoch 40, Loss 0.0633\n",
      "Training Accuracy: 0.9388, Testing Accuracy: 0.9461\n",
      "\n"
     ]
    },
    {
     "name": "stdout",
     "output_type": "stream",
     "text": [
      "Epoch 50, Loss 0.0584\n",
      "Training Accuracy: 0.9427, Testing Accuracy: 0.9511\n",
      "\n"
     ]
    },
    {
     "name": "stdout",
     "output_type": "stream",
     "text": [
      "Epoch 60, Loss 0.0549\n",
      "Training Accuracy: 0.9458, Testing Accuracy: 0.9546\n",
      "\n"
     ]
    },
    {
     "name": "stdout",
     "output_type": "stream",
     "text": [
      "Epoch 70, Loss 0.0522\n",
      "Training Accuracy: 0.9485, Testing Accuracy: 0.9556\n",
      "\n"
     ]
    },
    {
     "name": "stdout",
     "output_type": "stream",
     "text": [
      "Epoch 80, Loss 0.0501\n",
      "Training Accuracy: 0.9497, Testing Accuracy: 0.9587\n",
      "\n"
     ]
    },
    {
     "name": "stdout",
     "output_type": "stream",
     "text": [
      "Epoch 90, Loss 0.0483\n",
      "Training Accuracy: 0.9508, Testing Accuracy: 0.9592\n",
      "\n"
     ]
    },
    {
     "name": "stdout",
     "output_type": "stream",
     "text": [
      "Epoch 100, Loss 0.0468\n",
      "Training Accuracy: 0.9518, Testing Accuracy: 0.9602\n",
      "\n"
     ]
    },
    {
     "name": "stdout",
     "output_type": "stream",
     "text": [
      "Epoch 110, Loss 0.0456\n",
      "Training Accuracy: 0.9532, Testing Accuracy: 0.9607\n",
      "\n"
     ]
    },
    {
     "name": "stdout",
     "output_type": "stream",
     "text": [
      "Epoch 120, Loss 0.0445\n",
      "Training Accuracy: 0.9540, Testing Accuracy: 0.9602\n",
      "\n"
     ]
    },
    {
     "name": "stdout",
     "output_type": "stream",
     "text": [
      "Epoch 130, Loss 0.0435\n",
      "Training Accuracy: 0.9548, Testing Accuracy: 0.9612\n",
      "\n"
     ]
    },
    {
     "name": "stdout",
     "output_type": "stream",
     "text": [
      "Epoch 140, Loss 0.0427\n",
      "Training Accuracy: 0.9555, Testing Accuracy: 0.9617\n",
      "\n"
     ]
    },
    {
     "name": "stdout",
     "output_type": "stream",
     "text": [
      "Epoch 150, Loss 0.0419\n",
      "Training Accuracy: 0.9565, Testing Accuracy: 0.9627\n",
      "\n"
     ]
    },
    {
     "name": "stdout",
     "output_type": "stream",
     "text": [
      "Epoch 160, Loss 0.0412\n",
      "Training Accuracy: 0.9572, Testing Accuracy: 0.9622\n",
      "\n"
     ]
    },
    {
     "name": "stdout",
     "output_type": "stream",
     "text": [
      "Epoch 170, Loss 0.0406\n",
      "Training Accuracy: 0.9580, Testing Accuracy: 0.9627\n",
      "\n"
     ]
    },
    {
     "name": "stdout",
     "output_type": "stream",
     "text": [
      "Epoch 180, Loss 0.04\n",
      "Training Accuracy: 0.9580, Testing Accuracy: 0.9632\n",
      "\n"
     ]
    },
    {
     "name": "stdout",
     "output_type": "stream",
     "text": [
      "Epoch 190, Loss 0.0395\n",
      "Training Accuracy: 0.9586, Testing Accuracy: 0.9637\n",
      "\n"
     ]
    },
    {
     "name": "stdout",
     "output_type": "stream",
     "text": [
      "Epoch 200, Loss 0.039\n",
      "Training Accuracy: 0.9589, Testing Accuracy: 0.9642\n",
      "\n"
     ]
    },
    {
     "name": "stdout",
     "output_type": "stream",
     "text": [
      "Epoch 210, Loss 0.0386\n",
      "Training Accuracy: 0.9591, Testing Accuracy: 0.9642\n",
      "\n"
     ]
    },
    {
     "name": "stdout",
     "output_type": "stream",
     "text": [
      "Epoch 220, Loss 0.0382\n",
      "Training Accuracy: 0.9593, Testing Accuracy: 0.9647\n",
      "\n"
     ]
    },
    {
     "name": "stdout",
     "output_type": "stream",
     "text": [
      "Epoch 230, Loss 0.0378\n",
      "Training Accuracy: 0.9595, Testing Accuracy: 0.9652\n",
      "\n"
     ]
    },
    {
     "name": "stdout",
     "output_type": "stream",
     "text": [
      "Epoch 240, Loss 0.0374\n",
      "Training Accuracy: 0.9598, Testing Accuracy: 0.9652\n",
      "\n"
     ]
    },
    {
     "data": {
      "text/plain": [
       "0.06370599587420964"
      ]
     },
     "execution_count": 23,
     "metadata": {},
     "output_type": "execute_result"
    }
   ],
   "source": [
    "lr_learner.train_loop(dl)"
   ]
  },
  {
   "cell_type": "code",
   "execution_count": 24,
   "id": "ca410940",
   "metadata": {
    "execution": {
     "iopub.execute_input": "2021-08-26T20:08:35.090557Z",
     "iopub.status.busy": "2021-08-26T20:08:35.090018Z",
     "iopub.status.idle": "2021-08-26T20:08:35.302133Z",
     "shell.execute_reply": "2021-08-26T20:08:35.301732Z"
    },
    "papermill": {
     "duration": 0.266815,
     "end_time": "2021-08-26T20:08:35.302239",
     "exception": false,
     "start_time": "2021-08-26T20:08:35.035424",
     "status": "completed"
    },
    "tags": []
   },
   "outputs": [
    {
     "data": {
      "text/plain": [
       "<matplotlib.legend.Legend at 0x7fc2759b69e8>"
      ]
     },
     "execution_count": 24,
     "metadata": {},
     "output_type": "execute_result"
    },
    {
     "data": {
      "image/png": "[encoded data removed]",
      "text/plain": [
       "<Figure size 1080x720 with 1 Axes>"
      ]
     },
     "metadata": {
      "needs_background": "light"
     },
     "output_type": "display_data"
    }
   ],
   "source": [
    "#comparing the results of NN and LR\n",
    "plt.figure(figsize=(15,10))\n",
    "\n",
    "# Neural Network plots\n",
    "plt.plot(acc_nn.accuracies, 'r-', label = \"Training Accuracies - NN\")\n",
    "plt.plot(acc_nn.test_accuracies, 'g-', label = \"Testing Accuracies - NN\")\n",
    "\n",
    "# Logistic Regression plots\n",
    "plt.plot(acc_lr.accuracies, 'k-', label = \"Training Accuracies - LR\")\n",
    "plt.plot(acc_lr.test_accuracies, 'b-', label = \"Testing Accuracies - LR\")\n",
    "plt.legend()"
   ]
  },
  {
   "cell_type": "markdown",
   "id": "80dfb35c",
   "metadata": {
    "papermill": {
     "duration": 0.037559,
     "end_time": "2021-08-26T20:08:35.377389",
     "exception": false,
     "start_time": "2021-08-26T20:08:35.339830",
     "status": "completed"
    },
    "tags": []
   },
   "source": [
    "#### Plotting the outputs of this layer of the NN.\n"
   ]
  },
  {
   "cell_type": "code",
   "execution_count": 25,
   "id": "45eb2ff5",
   "metadata": {
    "execution": {
     "iopub.execute_input": "2021-08-26T20:08:35.462383Z",
     "iopub.status.busy": "2021-08-26T20:08:35.461899Z",
     "iopub.status.idle": "2021-08-26T20:08:35.478044Z",
     "shell.execute_reply": "2021-08-26T20:08:35.478443Z"
    },
    "papermill": {
     "duration": 0.063937,
     "end_time": "2021-08-26T20:08:35.478580",
     "exception": false,
     "start_time": "2021-08-26T20:08:35.414643",
     "status": "completed"
    },
    "tags": []
   },
   "outputs": [],
   "source": [
    "new_model = Model(layers[:-2])\n",
    "testing_plot = new_model(testing_data_x)"
   ]
  },
  {
   "cell_type": "code",
   "execution_count": 26,
   "id": "4c0a5485",
   "metadata": {
    "execution": {
     "iopub.execute_input": "2021-08-26T20:08:35.562819Z",
     "iopub.status.busy": "2021-08-26T20:08:35.562343Z",
     "iopub.status.idle": "2021-08-26T20:08:35.767738Z",
     "shell.execute_reply": "2021-08-26T20:08:35.768098Z"
    },
    "papermill": {
     "duration": 0.247807,
     "end_time": "2021-08-26T20:08:35.768232",
     "exception": false,
     "start_time": "2021-08-26T20:08:35.520425",
     "status": "completed"
    },
    "tags": []
   },
   "outputs": [
    {
     "data": {
      "text/plain": [
       "Text(0.5, 1.0, 'Outputs')"
      ]
     },
     "execution_count": 26,
     "metadata": {},
     "output_type": "execute_result"
    },
    {
     "data": {
      "image/png": "[encoded data removed]",
      "text/plain": [
       "<Figure size 576x504 with 1 Axes>"
      ]
     },
     "metadata": {
      "needs_background": "light"
     },
     "output_type": "display_data"
    }
   ],
   "source": [
    "# Plotting the scatter plot of points and color coding by class\n",
    "plt.figure(figsize=(8,7))\n",
    "plt.scatter(testing_plot[:,0], testing_plot[:,1], alpha = 0.1, c = y_test.ravel());\n",
    "plt.title('Outputs')"
   ]
  },
  {
   "cell_type": "markdown",
   "id": "a74fcf8f",
   "metadata": {
    "papermill": {
     "duration": 0.039394,
     "end_time": "2021-08-26T20:08:35.847281",
     "exception": false,
     "start_time": "2021-08-26T20:08:35.807887",
     "status": "completed"
    },
    "tags": []
   },
   "source": [
    "Probability contours"
   ]
  },
  {
   "cell_type": "code",
   "execution_count": 27,
   "id": "d0afc8e3",
   "metadata": {
    "execution": {
     "iopub.execute_input": "2021-08-26T20:08:35.936278Z",
     "iopub.status.busy": "2021-08-26T20:08:35.935345Z",
     "iopub.status.idle": "2021-08-26T20:08:35.943475Z",
     "shell.execute_reply": "2021-08-26T20:08:35.943858Z"
    },
    "papermill": {
     "duration": 0.057393,
     "end_time": "2021-08-26T20:08:35.943985",
     "exception": false,
     "start_time": "2021-08-26T20:08:35.886592",
     "status": "completed"
    },
    "tags": []
   },
   "outputs": [],
   "source": [
    "model_prob = Model(layers[-2:]) "
   ]
  },
  {
   "cell_type": "code",
   "execution_count": 28,
   "id": "9b96e238",
   "metadata": {
    "execution": {
     "iopub.execute_input": "2021-08-26T20:08:36.032952Z",
     "iopub.status.busy": "2021-08-26T20:08:36.032440Z",
     "iopub.status.idle": "2021-08-26T20:08:36.042873Z",
     "shell.execute_reply": "2021-08-26T20:08:36.043214Z"
    },
    "papermill": {
     "duration": 0.060058,
     "end_time": "2021-08-26T20:08:36.043352",
     "exception": false,
     "start_time": "2021-08-26T20:08:35.983294",
     "status": "completed"
    },
    "tags": []
   },
   "outputs": [],
   "source": [
    "#creating the x and y ranges according to the above generated plot.\n",
    "x_range = np.linspace(-4, 1, 100) \n",
    "y_range = np.linspace(-6, 6, 100) \n",
    "x_grid, y_grid = np.meshgrid(x_range, y_range) # x_grid and y_grig are of size 100 X 100\n",
    "\n",
    "# converting x_grid and y_grid to continuous arrays\n",
    "x_gridflat = np.ravel(x_grid)\n",
    "y_gridflat = np.ravel(y_grid)\n",
    "\n",
    "# The last layer of the current model takes two columns as input. Hence transpose of np.vstack() is required.\n",
    "X = np.vstack((x_gridflat, y_gridflat)).T\n",
    "\n",
    "prob_contour = model_prob(X).reshape(100,100) "
   ]
  },
  {
   "cell_type": "code",
   "execution_count": 29,
   "id": "da72499a",
   "metadata": {
    "execution": {
     "iopub.execute_input": "2021-08-26T20:08:36.169307Z",
     "iopub.status.busy": "2021-08-26T20:08:36.168822Z",
     "iopub.status.idle": "2021-08-26T20:08:36.412097Z",
     "shell.execute_reply": "2021-08-26T20:08:36.411608Z"
    },
    "papermill": {
     "duration": 0.32148,
     "end_time": "2021-08-26T20:08:36.412231",
     "exception": false,
     "start_time": "2021-08-26T20:08:36.090751",
     "status": "completed"
    },
    "tags": []
   },
   "outputs": [
    {
     "data": {
      "image/png": "[encoded data removed]",
      "text/plain": [
       "<Figure size 720x648 with 1 Axes>"
      ]
     },
     "metadata": {
      "needs_background": "light"
     },
     "output_type": "display_data"
    }
   ],
   "source": [
    "plt.figure(figsize=(10,9))\n",
    "plt.scatter(testing_plot[:,0], testing_plot[:,1], alpha = 0.1, c = y_test.ravel())\n",
    "contours = plt.contour(x_grid,y_grid,prob_contour)\n",
    "plt.title('Probability Contours')\n",
    "plt.clabel(contours, inline = True );"
   ]
  },
  {
   "cell_type": "code",
   "execution_count": null,
   "id": "e81b4ac7",
   "metadata": {
    "papermill": {
     "duration": 0.042092,
     "end_time": "2021-08-26T20:08:36.497247",
     "exception": false,
     "start_time": "2021-08-26T20:08:36.455155",
     "status": "completed"
    },
    "tags": []
   },
   "outputs": [],
   "source": []
  }
 ],
 "metadata": {
  "kernelspec": {
   "display_name": "Python 3",
   "language": "python",
   "name": "python3"
  },
  "language_info": {
   "codemirror_mode": {
    "name": "ipython",
    "version": 3
   },
   "file_extension": ".py",
   "mimetype": "text/x-python",
   "name": "python",
   "nbconvert_exporter": "python",
   "pygments_lexer": "ipython3",
   "version": "3.6.14"
  },
  "papermill": {
   "default_parameters": {},
   "duration": 101.334889,
   "end_time": "2021-08-26T20:08:36.946626",
   "environment_variables": {},
   "exception": null,
   "input_path": "2020-08-11-part2.ipynb",
   "output_path": "2020-08-11-part2.ipynb",
   "parameters": {},
   "start_time": "2021-08-26T20:06:55.611737",
   "version": "2.3.3"
  }
 },
 "nbformat": 4,
 "nbformat_minor": 5
}