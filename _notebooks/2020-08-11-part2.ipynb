{
 "cells": [
  {
   "cell_type": "markdown",
   "id": "98380cd3",
   "metadata": {
    "papermill": {
     "duration": 0.029213,
     "end_time": "2022-09-28T00:54:45.465917",
     "exception": false,
     "start_time": "2022-09-28T00:54:45.436704",
     "status": "completed"
    },
    "tags": []
   },
   "source": [
    "# Distinguish Your Own Digits (DYOD)"
   ]
  },
  {
   "cell_type": "markdown",
   "id": "ef31240d",
   "metadata": {
    "papermill": {
     "duration": 0.023244,
     "end_time": "2022-09-28T00:54:45.513227",
     "exception": false,
     "start_time": "2022-09-28T00:54:45.489983",
     "status": "completed"
    },
    "tags": []
   },
   "source": [
    "You are going to write a classifier that distinguishes between the number 3 and number 8."
   ]
  },
  {
   "cell_type": "code",
   "execution_count": 1,
   "id": "b15c8646",
   "metadata": {
    "execution": {
     "iopub.execute_input": "2022-09-28T00:54:45.570120Z",
     "iopub.status.busy": "2022-09-28T00:54:45.569471Z",
     "iopub.status.idle": "2022-09-28T00:54:45.580808Z",
     "shell.execute_reply": "2022-09-28T00:54:45.580313Z"
    },
    "papermill": {
     "duration": 0.04455,
     "end_time": "2022-09-28T00:54:45.580932",
     "exception": false,
     "start_time": "2022-09-28T00:54:45.536382",
     "status": "completed"
    },
    "tags": []
   },
   "outputs": [],
   "source": [
    "%load_ext autoreload\n",
    "%autoreload 2"
   ]
  },
  {
   "cell_type": "code",
   "execution_count": 2,
   "id": "22ef38dc",
   "metadata": {
    "execution": {
     "iopub.execute_input": "2022-09-28T00:54:45.632449Z",
     "iopub.status.busy": "2022-09-28T00:54:45.631870Z",
     "iopub.status.idle": "2022-09-28T00:54:46.161553Z",
     "shell.execute_reply": "2022-09-28T00:54:46.162067Z"
    },
    "papermill": {
     "duration": 0.557912,
     "end_time": "2022-09-28T00:54:46.162233",
     "exception": false,
     "start_time": "2022-09-28T00:54:45.604321",
     "status": "completed"
    },
    "tags": []
   },
   "outputs": [],
   "source": [
    "%matplotlib inline\n",
    "import numpy as np\n",
    "import matplotlib.pyplot as plt\n",
    "import pandas as pd"
   ]
  },
  {
   "cell_type": "markdown",
   "id": "ba036198",
   "metadata": {
    "papermill": {
     "duration": 0.023316,
     "end_time": "2022-09-28T00:54:46.209056",
     "exception": false,
     "start_time": "2022-09-28T00:54:46.185740",
     "status": "completed"
    },
    "tags": []
   },
   "source": [
    "From the command line run `pip install mnist`. This is a library that will help you bring down the mnist dataset. If you run this from a notebook, you need to put  `!pip install mnist` in a cell by itself."
   ]
  },
  {
   "cell_type": "code",
   "execution_count": 3,
   "id": "bb6ad8a1",
   "metadata": {
    "execution": {
     "iopub.execute_input": "2022-09-28T00:54:46.260994Z",
     "iopub.status.busy": "2022-09-28T00:54:46.260409Z",
     "iopub.status.idle": "2022-09-28T00:54:47.829307Z",
     "shell.execute_reply": "2022-09-28T00:54:47.828702Z"
    },
    "papermill": {
     "duration": 1.596921,
     "end_time": "2022-09-28T00:54:47.829447",
     "exception": false,
     "start_time": "2022-09-28T00:54:46.232526",
     "status": "completed"
    },
    "tags": []
   },
   "outputs": [
    {
     "name": "stdout",
     "output_type": "stream",
     "text": [
      "Collecting mnist\r\n"
     ]
    },
    {
     "name": "stdout",
     "output_type": "stream",
     "text": [
      "  Downloading mnist-0.2.2-py2.py3-none-any.whl (3.5 kB)\r\n",
      "Requirement already satisfied: numpy in /opt/hostedtoolcache/Python/3.6.15/x64/lib/python3.6/site-packages (from mnist) (1.19.5)\r\n"
     ]
    },
    {
     "name": "stdout",
     "output_type": "stream",
     "text": [
      "Installing collected packages: mnist\r\n"
     ]
    },
    {
     "name": "stdout",
     "output_type": "stream",
     "text": [
      "Successfully installed mnist-0.2.2\r\n"
     ]
    }
   ],
   "source": [
    "!pip install mnist"
   ]
  },
  {
   "cell_type": "markdown",
   "id": "69df9c9a",
   "metadata": {
    "papermill": {
     "duration": 0.024619,
     "end_time": "2022-09-28T00:54:47.881302",
     "exception": false,
     "start_time": "2022-09-28T00:54:47.856683",
     "status": "completed"
    },
    "tags": []
   },
   "source": [
    "## Preparing the Data"
   ]
  },
  {
   "cell_type": "code",
   "execution_count": 4,
   "id": "7f69d806",
   "metadata": {
    "execution": {
     "iopub.execute_input": "2022-09-28T00:54:47.933895Z",
     "iopub.status.busy": "2022-09-28T00:54:47.933283Z",
     "iopub.status.idle": "2022-09-28T00:54:47.948056Z",
     "shell.execute_reply": "2022-09-28T00:54:47.947589Z"
    },
    "papermill": {
     "duration": 0.042599,
     "end_time": "2022-09-28T00:54:47.948162",
     "exception": false,
     "start_time": "2022-09-28T00:54:47.905563",
     "status": "completed"
    },
    "tags": []
   },
   "outputs": [],
   "source": [
    "import mnist"
   ]
  },
  {
   "cell_type": "code",
   "execution_count": 5,
   "id": "a411e44f",
   "metadata": {
    "execution": {
     "iopub.execute_input": "2022-09-28T00:54:48.000208Z",
     "iopub.status.busy": "2022-09-28T00:54:47.999636Z",
     "iopub.status.idle": "2022-09-28T00:54:48.632718Z",
     "shell.execute_reply": "2022-09-28T00:54:48.632089Z"
    },
    "papermill": {
     "duration": 0.660327,
     "end_time": "2022-09-28T00:54:48.632856",
     "exception": false,
     "start_time": "2022-09-28T00:54:47.972529",
     "status": "completed"
    },
    "tags": []
   },
   "outputs": [],
   "source": [
    "train_images = mnist.train_images()\n",
    "train_labels = mnist.train_labels()"
   ]
  },
  {
   "cell_type": "code",
   "execution_count": 6,
   "id": "dceab3a5",
   "metadata": {
    "execution": {
     "iopub.execute_input": "2022-09-28T00:54:48.688796Z",
     "iopub.status.busy": "2022-09-28T00:54:48.688210Z",
     "iopub.status.idle": "2022-09-28T00:54:48.700884Z",
     "shell.execute_reply": "2022-09-28T00:54:48.701357Z"
    },
    "papermill": {
     "duration": 0.043431,
     "end_time": "2022-09-28T00:54:48.701479",
     "exception": false,
     "start_time": "2022-09-28T00:54:48.658048",
     "status": "completed"
    },
    "tags": []
   },
   "outputs": [
    {
     "data": {
      "text/plain": [
       "((60000, 28, 28), (60000,))"
      ]
     },
     "execution_count": 6,
     "metadata": {},
     "output_type": "execute_result"
    }
   ],
   "source": [
    "train_images.shape, train_labels.shape"
   ]
  },
  {
   "cell_type": "code",
   "execution_count": 7,
   "id": "f50dc2bb",
   "metadata": {
    "execution": {
     "iopub.execute_input": "2022-09-28T00:54:48.764733Z",
     "iopub.status.busy": "2022-09-28T00:54:48.758320Z",
     "iopub.status.idle": "2022-09-28T00:54:48.977541Z",
     "shell.execute_reply": "2022-09-28T00:54:48.976926Z"
    },
    "papermill": {
     "duration": 0.2515,
     "end_time": "2022-09-28T00:54:48.977679",
     "exception": false,
     "start_time": "2022-09-28T00:54:48.726179",
     "status": "completed"
    },
    "tags": []
   },
   "outputs": [],
   "source": [
    "test_images = mnist.test_images()\n",
    "test_labels = mnist.test_labels()"
   ]
  },
  {
   "cell_type": "code",
   "execution_count": 8,
   "id": "fc38cf1b",
   "metadata": {
    "execution": {
     "iopub.execute_input": "2022-09-28T00:54:49.031696Z",
     "iopub.status.busy": "2022-09-28T00:54:49.031114Z",
     "iopub.status.idle": "2022-09-28T00:54:49.044759Z",
     "shell.execute_reply": "2022-09-28T00:54:49.044277Z"
    },
    "papermill": {
     "duration": 0.041707,
     "end_time": "2022-09-28T00:54:49.044869",
     "exception": false,
     "start_time": "2022-09-28T00:54:49.003162",
     "status": "completed"
    },
    "tags": []
   },
   "outputs": [
    {
     "data": {
      "text/plain": [
       "((10000, 28, 28), (10000,))"
      ]
     },
     "execution_count": 8,
     "metadata": {},
     "output_type": "execute_result"
    }
   ],
   "source": [
    "test_images.shape, test_labels.shape"
   ]
  },
  {
   "cell_type": "code",
   "execution_count": 9,
   "id": "f9ed8fe0",
   "metadata": {
    "execution": {
     "iopub.execute_input": "2022-09-28T00:54:49.110488Z",
     "iopub.status.busy": "2022-09-28T00:54:49.107481Z",
     "iopub.status.idle": "2022-09-28T00:54:49.239785Z",
     "shell.execute_reply": "2022-09-28T00:54:49.239298Z"
    },
    "papermill": {
     "duration": 0.169903,
     "end_time": "2022-09-28T00:54:49.239904",
     "exception": false,
     "start_time": "2022-09-28T00:54:49.070001",
     "status": "completed"
    },
    "tags": []
   },
   "outputs": [
    {
     "name": "stdout",
     "output_type": "stream",
     "text": [
      "2\n"
     ]
    },
    {
     "data": {
      "text/plain": [
       "<matplotlib.image.AxesImage at 0x7f1d0592cda0>"
      ]
     },
     "execution_count": 9,
     "metadata": {},
     "output_type": "execute_result"
    },
    {
     "data": {
      "image/png": "[encoded data removed]",
      "text/plain": [
       "<Figure size 432x288 with 1 Axes>"
      ]
     },
     "metadata": {
      "needs_background": "light"
     },
     "output_type": "display_data"
    }
   ],
   "source": [
    "image_index = 7776 # You may select anything up to 60,000\n",
    "print(train_labels[image_index]) \n",
    "plt.imshow(train_images[image_index], cmap='Greys')"
   ]
  },
  {
   "cell_type": "markdown",
   "id": "a8d2388d",
   "metadata": {
    "papermill": {
     "duration": 0.026647,
     "end_time": "2022-09-28T00:54:49.292952",
     "exception": false,
     "start_time": "2022-09-28T00:54:49.266305",
     "status": "completed"
    },
    "tags": []
   },
   "source": [
    "## Filter data to get 3 and 8 out"
   ]
  },
  {
   "cell_type": "code",
   "execution_count": 10,
   "id": "776f7fc7",
   "metadata": {
    "execution": {
     "iopub.execute_input": "2022-09-28T00:54:49.354615Z",
     "iopub.status.busy": "2022-09-28T00:54:49.349935Z",
     "iopub.status.idle": "2022-09-28T00:54:49.369844Z",
     "shell.execute_reply": "2022-09-28T00:54:49.369325Z"
    },
    "papermill": {
     "duration": 0.050729,
     "end_time": "2022-09-28T00:54:49.369967",
     "exception": false,
     "start_time": "2022-09-28T00:54:49.319238",
     "status": "completed"
    },
    "tags": []
   },
   "outputs": [],
   "source": [
    "train_filter = np.where((train_labels == 3 ) | (train_labels == 8))\n",
    "test_filter = np.where((test_labels == 3) | (test_labels == 8))\n",
    "X_train, y_train = train_images[train_filter], train_labels[train_filter]\n",
    "X_test, y_test = test_images[test_filter], test_labels[test_filter]"
   ]
  },
  {
   "cell_type": "markdown",
   "id": "948f0b7e",
   "metadata": {
    "papermill": {
     "duration": 0.025999,
     "end_time": "2022-09-28T00:54:49.423142",
     "exception": false,
     "start_time": "2022-09-28T00:54:49.397143",
     "status": "completed"
    },
    "tags": []
   },
   "source": [
    "We normalize the pizel values in the 0 to 1 range"
   ]
  },
  {
   "cell_type": "code",
   "execution_count": 11,
   "id": "ee4c2166",
   "metadata": {
    "execution": {
     "iopub.execute_input": "2022-09-28T00:54:49.478583Z",
     "iopub.status.busy": "2022-09-28T00:54:49.477984Z",
     "iopub.status.idle": "2022-09-28T00:54:49.526606Z",
     "shell.execute_reply": "2022-09-28T00:54:49.526025Z"
    },
    "papermill": {
     "duration": 0.077765,
     "end_time": "2022-09-28T00:54:49.526748",
     "exception": false,
     "start_time": "2022-09-28T00:54:49.448983",
     "status": "completed"
    },
    "tags": []
   },
   "outputs": [],
   "source": [
    "X_train = X_train/255.\n",
    "X_test = X_test/255."
   ]
  },
  {
   "cell_type": "markdown",
   "id": "ddcf4fab",
   "metadata": {
    "papermill": {
     "duration": 0.026429,
     "end_time": "2022-09-28T00:54:49.580039",
     "exception": false,
     "start_time": "2022-09-28T00:54:49.553610",
     "status": "completed"
    },
    "tags": []
   },
   "source": [
    "And setup the labels as 1 (when the digit is 3) and 0 (when the digit is 8)"
   ]
  },
  {
   "cell_type": "code",
   "execution_count": 12,
   "id": "7dc908f2",
   "metadata": {
    "execution": {
     "iopub.execute_input": "2022-09-28T00:54:49.643385Z",
     "iopub.status.busy": "2022-09-28T00:54:49.642781Z",
     "iopub.status.idle": "2022-09-28T00:54:49.652896Z",
     "shell.execute_reply": "2022-09-28T00:54:49.652007Z"
    },
    "papermill": {
     "duration": 0.046942,
     "end_time": "2022-09-28T00:54:49.653009",
     "exception": false,
     "start_time": "2022-09-28T00:54:49.606067",
     "status": "completed"
    },
    "tags": []
   },
   "outputs": [],
   "source": [
    "y_train = 1*(y_train==3)\n",
    "y_test = 1*(y_test==3)"
   ]
  },
  {
   "cell_type": "code",
   "execution_count": 13,
   "id": "01e4e969",
   "metadata": {
    "execution": {
     "iopub.execute_input": "2022-09-28T00:54:49.714625Z",
     "iopub.status.busy": "2022-09-28T00:54:49.708051Z",
     "iopub.status.idle": "2022-09-28T00:54:49.724243Z",
     "shell.execute_reply": "2022-09-28T00:54:49.724699Z"
    },
    "papermill": {
     "duration": 0.045712,
     "end_time": "2022-09-28T00:54:49.724818",
     "exception": false,
     "start_time": "2022-09-28T00:54:49.679106",
     "status": "completed"
    },
    "tags": []
   },
   "outputs": [
    {
     "data": {
      "text/plain": [
       "((11982, 28, 28), (1984, 28, 28))"
      ]
     },
     "execution_count": 13,
     "metadata": {},
     "output_type": "execute_result"
    }
   ],
   "source": [
    "X_train.shape, X_test.shape"
   ]
  },
  {
   "cell_type": "markdown",
   "id": "5ccf3f85",
   "metadata": {
    "papermill": {
     "duration": 0.026353,
     "end_time": "2022-09-28T00:54:49.777417",
     "exception": false,
     "start_time": "2022-09-28T00:54:49.751064",
     "status": "completed"
    },
    "tags": []
   },
   "source": [
    "We reshape the data to flatten the image pixels into a set of features or co-variates:"
   ]
  },
  {
   "cell_type": "code",
   "execution_count": 14,
   "id": "5286a4a3",
   "metadata": {
    "execution": {
     "iopub.execute_input": "2022-09-28T00:54:49.848104Z",
     "iopub.status.busy": "2022-09-28T00:54:49.841897Z",
     "iopub.status.idle": "2022-09-28T00:54:49.851414Z",
     "shell.execute_reply": "2022-09-28T00:54:49.851845Z"
    },
    "papermill": {
     "duration": 0.047934,
     "end_time": "2022-09-28T00:54:49.851992",
     "exception": false,
     "start_time": "2022-09-28T00:54:49.804058",
     "status": "completed"
    },
    "tags": []
   },
   "outputs": [
    {
     "data": {
      "text/plain": [
       "((11982, 784), (1984, 784))"
      ]
     },
     "execution_count": 14,
     "metadata": {},
     "output_type": "execute_result"
    }
   ],
   "source": [
    "X_train = X_train.reshape(X_train.shape[0], -1)\n",
    "X_test = X_test.reshape(X_test.shape[0], -1)\n",
    "X_train.shape, X_test.shape"
   ]
  },
  {
   "cell_type": "code",
   "execution_count": 15,
   "id": "73c5f88a",
   "metadata": {
    "execution": {
     "iopub.execute_input": "2022-09-28T00:54:49.916361Z",
     "iopub.status.busy": "2022-09-28T00:54:49.915766Z",
     "iopub.status.idle": "2022-09-28T00:54:49.933211Z",
     "shell.execute_reply": "2022-09-28T00:54:49.932733Z"
    },
    "papermill": {
     "duration": 0.054207,
     "end_time": "2022-09-28T00:54:49.933323",
     "exception": false,
     "start_time": "2022-09-28T00:54:49.879116",
     "status": "completed"
    },
    "tags": []
   },
   "outputs": [],
   "source": [
    "#Impoting functions from 'Kudzu'\n",
    "from kudzu.model import Model\n",
    "from kudzu.train import Learner\n",
    "from kudzu.optim import GD\n",
    "from kudzu.data import Data, Sampler,Dataloader\n",
    "\n",
    "from kudzu.callbacks import AccCallback\n",
    "from kudzu.callbacks import ClfCallback\n",
    "\n",
    "from kudzu.loss import MSE\n",
    "\n",
    "from kudzu.layer import Sigmoid,Relu\n",
    "from kudzu.layer import Affine"
   ]
  },
  {
   "cell_type": "markdown",
   "id": "bc01172a",
   "metadata": {
    "papermill": {
     "duration": 0.026368,
     "end_time": "2022-09-28T00:54:49.986244",
     "exception": false,
     "start_time": "2022-09-28T00:54:49.959876",
     "status": "completed"
    },
    "tags": []
   },
   "source": [
    "### Let us create a `Config` class, to store important parameters. \n",
    "This class essentially plays the role of a dictionary."
   ]
  },
  {
   "cell_type": "code",
   "execution_count": 16,
   "id": "978281aa",
   "metadata": {
    "execution": {
     "iopub.execute_input": "2022-09-28T00:54:50.042851Z",
     "iopub.status.busy": "2022-09-28T00:54:50.042268Z",
     "iopub.status.idle": "2022-09-28T00:54:50.055306Z",
     "shell.execute_reply": "2022-09-28T00:54:50.055785Z"
    },
    "papermill": {
     "duration": 0.043312,
     "end_time": "2022-09-28T00:54:50.055911",
     "exception": false,
     "start_time": "2022-09-28T00:54:50.012599",
     "status": "completed"
    },
    "tags": []
   },
   "outputs": [],
   "source": [
    "class Config:\n",
    "    pass\n",
    "config = Config()\n",
    "config.lr = 0.001\n",
    "config.num_epochs = 250\n",
    "config.bs = 50"
   ]
  },
  {
   "cell_type": "markdown",
   "id": "1385fa59",
   "metadata": {
    "papermill": {
     "duration": 0.026496,
     "end_time": "2022-09-28T00:54:50.109469",
     "exception": false,
     "start_time": "2022-09-28T00:54:50.082973",
     "status": "completed"
    },
    "tags": []
   },
   "source": [
    "### Running Models with the Training data\n",
    "Details about the network layers:\n",
    "- A first affine layer has 784 inputs and does 100 affine transforms. These are followed by a Relu\n",
    "- A second affine layer has 100 inputs from the 100 activations of the past layer, and does 100 affine transforms. These are followed by a Relu\n",
    "- A third affine layer has 100 activations and does 2 affine transformations to create an embedding for visualization. There is no non-linearity here.\n",
    "- A final \"logistic regression\" which has an affine transform from 2 inputs to 1 output, which is squeezed through a sigmoid.\n"
   ]
  },
  {
   "cell_type": "code",
   "execution_count": 17,
   "id": "2b9c66db",
   "metadata": {
    "execution": {
     "iopub.execute_input": "2022-09-28T00:54:50.168499Z",
     "iopub.status.busy": "2022-09-28T00:54:50.167917Z",
     "iopub.status.idle": "2022-09-28T00:54:50.180726Z",
     "shell.execute_reply": "2022-09-28T00:54:50.180158Z"
    },
    "papermill": {
     "duration": 0.043075,
     "end_time": "2022-09-28T00:54:50.180837",
     "exception": false,
     "start_time": "2022-09-28T00:54:50.137762",
     "status": "completed"
    },
    "tags": []
   },
   "outputs": [],
   "source": [
    "data = Data(X_train, y_train.reshape(-1,1))\n",
    "sampler = Sampler(data, config.bs, shuffle=True)\n",
    "\n",
    "dl = Dataloader(data, sampler)\n",
    "\n",
    "opt = GD(config.lr)\n",
    "loss = MSE()"
   ]
  },
  {
   "cell_type": "code",
   "execution_count": 18,
   "id": "b275e4c2",
   "metadata": {
    "execution": {
     "iopub.execute_input": "2022-09-28T00:54:50.237312Z",
     "iopub.status.busy": "2022-09-28T00:54:50.236739Z",
     "iopub.status.idle": "2022-09-28T00:54:50.248930Z",
     "shell.execute_reply": "2022-09-28T00:54:50.248352Z"
    },
    "papermill": {
     "duration": 0.04173,
     "end_time": "2022-09-28T00:54:50.249036",
     "exception": false,
     "start_time": "2022-09-28T00:54:50.207306",
     "status": "completed"
    },
    "tags": []
   },
   "outputs": [],
   "source": [
    "training_data_x = X_train\n",
    "testing_data_x = X_test\n",
    "training_data_y = y_train.reshape(-1,1)\n",
    "testing_data_y = y_test.reshape(-1,1)"
   ]
  },
  {
   "cell_type": "code",
   "execution_count": 19,
   "id": "76951160",
   "metadata": {
    "execution": {
     "iopub.execute_input": "2022-09-28T00:54:50.312418Z",
     "iopub.status.busy": "2022-09-28T00:54:50.311824Z",
     "iopub.status.idle": "2022-09-28T00:54:50.323913Z",
     "shell.execute_reply": "2022-09-28T00:54:50.323163Z"
    },
    "papermill": {
     "duration": 0.048644,
     "end_time": "2022-09-28T00:54:50.324018",
     "exception": false,
     "start_time": "2022-09-28T00:54:50.275374",
     "status": "completed"
    },
    "tags": []
   },
   "outputs": [
    {
     "name": "stdout",
     "output_type": "stream",
     "text": [
      "xavier\n",
      "xavier\n",
      "xavier\n",
      "xavier\n",
      "xavier\n"
     ]
    }
   ],
   "source": [
    "layers = [Affine(\"first\", 784, 100), Relu(\"first\"), Affine(\"second\", 100, 100), Relu(\"second\"), Affine(\"third\", 100, 2), Affine(\"last\", 2, 1), Sigmoid(\"last\")]\n",
    "model_nn = Model(layers)\n",
    "model_lr = Model([Affine(\"logits\", 784, 1), Sigmoid(\"sigmoid\")])"
   ]
  },
  {
   "cell_type": "code",
   "execution_count": 20,
   "id": "6eede77a",
   "metadata": {
    "execution": {
     "iopub.execute_input": "2022-09-28T00:54:50.383035Z",
     "iopub.status.busy": "2022-09-28T00:54:50.382460Z",
     "iopub.status.idle": "2022-09-28T00:54:50.393961Z",
     "shell.execute_reply": "2022-09-28T00:54:50.393357Z"
    },
    "papermill": {
     "duration": 0.043079,
     "end_time": "2022-09-28T00:54:50.394069",
     "exception": false,
     "start_time": "2022-09-28T00:54:50.350990",
     "status": "completed"
    },
    "tags": []
   },
   "outputs": [],
   "source": [
    "nn_learner = Learner(loss, model_nn, opt, config.num_epochs)\n",
    "acc_nn = ClfCallback(nn_learner, config.bs, training_data_x , testing_data_x, training_data_y, testing_data_y)\n",
    "nn_learner.set_callbacks([acc_nn])"
   ]
  },
  {
   "cell_type": "code",
   "execution_count": 21,
   "id": "877b6cc7",
   "metadata": {
    "execution": {
     "iopub.execute_input": "2022-09-28T00:54:50.453563Z",
     "iopub.status.busy": "2022-09-28T00:54:50.452965Z",
     "iopub.status.idle": "2022-09-28T00:54:50.464150Z",
     "shell.execute_reply": "2022-09-28T00:54:50.463687Z"
    },
    "papermill": {
     "duration": 0.042553,
     "end_time": "2022-09-28T00:54:50.464251",
     "exception": false,
     "start_time": "2022-09-28T00:54:50.421698",
     "status": "completed"
    },
    "tags": []
   },
   "outputs": [],
   "source": [
    "lr_learner = Learner(loss, model_lr, opt, config.num_epochs)\n",
    "acc_lr = ClfCallback(lr_learner, config.bs, training_data_x , testing_data_x, training_data_y, testing_data_y)\n",
    "lr_learner.set_callbacks([acc_lr])"
   ]
  },
  {
   "cell_type": "code",
   "execution_count": 22,
   "id": "d9b133c3",
   "metadata": {
    "execution": {
     "iopub.execute_input": "2022-09-28T00:54:50.524546Z",
     "iopub.status.busy": "2022-09-28T00:54:50.521428Z",
     "iopub.status.idle": "2022-09-28T00:56:07.068613Z",
     "shell.execute_reply": "2022-09-28T00:56:07.069478Z"
    },
    "papermill": {
     "duration": 76.578578,
     "end_time": "2022-09-28T00:56:07.069628",
     "exception": false,
     "start_time": "2022-09-28T00:54:50.491050",
     "status": "completed"
    },
    "tags": []
   },
   "outputs": [
    {
     "name": "stdout",
     "output_type": "stream",
     "text": [
      "Epoch 0, Loss 0.1924\n",
      "Training Accuracy: 0.8498, Testing Accuracy: 0.8634\n",
      "\n"
     ]
    },
    {
     "name": "stdout",
     "output_type": "stream",
     "text": [
      "Epoch 10, Loss 0.0601\n",
      "Training Accuracy: 0.9377, Testing Accuracy: 0.9516\n",
      "\n"
     ]
    },
    {
     "name": "stdout",
     "output_type": "stream",
     "text": [
      "Epoch 20, Loss 0.0429\n",
      "Training Accuracy: 0.9525, Testing Accuracy: 0.9632\n",
      "\n"
     ]
    },
    {
     "name": "stdout",
     "output_type": "stream",
     "text": [
      "Epoch 30, Loss 0.036\n",
      "Training Accuracy: 0.9585, Testing Accuracy: 0.9652\n",
      "\n"
     ]
    },
    {
     "name": "stdout",
     "output_type": "stream",
     "text": [
      "Epoch 40, Loss 0.032\n",
      "Training Accuracy: 0.9629, Testing Accuracy: 0.9698\n",
      "\n"
     ]
    },
    {
     "name": "stdout",
     "output_type": "stream",
     "text": [
      "Epoch 50, Loss 0.0294\n",
      "Training Accuracy: 0.9657, Testing Accuracy: 0.9703\n",
      "\n"
     ]
    },
    {
     "name": "stdout",
     "output_type": "stream",
     "text": [
      "Epoch 60, Loss 0.0274\n",
      "Training Accuracy: 0.9678, Testing Accuracy: 0.9718\n",
      "\n"
     ]
    },
    {
     "name": "stdout",
     "output_type": "stream",
     "text": [
      "Epoch 70, Loss 0.0259\n",
      "Training Accuracy: 0.9699, Testing Accuracy: 0.9718\n",
      "\n"
     ]
    },
    {
     "name": "stdout",
     "output_type": "stream",
     "text": [
      "Epoch 80, Loss 0.0246\n",
      "Training Accuracy: 0.9716, Testing Accuracy: 0.9728\n",
      "\n"
     ]
    },
    {
     "name": "stdout",
     "output_type": "stream",
     "text": [
      "Epoch 90, Loss 0.0235\n",
      "Training Accuracy: 0.9733, Testing Accuracy: 0.9718\n",
      "\n"
     ]
    },
    {
     "name": "stdout",
     "output_type": "stream",
     "text": [
      "Epoch 100, Loss 0.0226\n",
      "Training Accuracy: 0.9744, Testing Accuracy: 0.9733\n",
      "\n"
     ]
    },
    {
     "name": "stdout",
     "output_type": "stream",
     "text": [
      "Epoch 110, Loss 0.0217\n",
      "Training Accuracy: 0.9758, Testing Accuracy: 0.9743\n",
      "\n"
     ]
    },
    {
     "name": "stdout",
     "output_type": "stream",
     "text": [
      "Epoch 120, Loss 0.0209\n",
      "Training Accuracy: 0.9765, Testing Accuracy: 0.9743\n",
      "\n"
     ]
    },
    {
     "name": "stdout",
     "output_type": "stream",
     "text": [
      "Epoch 130, Loss 0.0202\n",
      "Training Accuracy: 0.9771, Testing Accuracy: 0.9743\n",
      "\n"
     ]
    },
    {
     "name": "stdout",
     "output_type": "stream",
     "text": [
      "Epoch 140, Loss 0.0195\n",
      "Training Accuracy: 0.9783, Testing Accuracy: 0.9748\n",
      "\n"
     ]
    },
    {
     "name": "stdout",
     "output_type": "stream",
     "text": [
      "Epoch 150, Loss 0.0189\n",
      "Training Accuracy: 0.9788, Testing Accuracy: 0.9753\n",
      "\n"
     ]
    },
    {
     "name": "stdout",
     "output_type": "stream",
     "text": [
      "Epoch 160, Loss 0.0183\n",
      "Training Accuracy: 0.9793, Testing Accuracy: 0.9753\n",
      "\n"
     ]
    },
    {
     "name": "stdout",
     "output_type": "stream",
     "text": [
      "Epoch 170, Loss 0.0178\n",
      "Training Accuracy: 0.9806, Testing Accuracy: 0.9748\n",
      "\n"
     ]
    },
    {
     "name": "stdout",
     "output_type": "stream",
     "text": [
      "Epoch 180, Loss 0.0173\n",
      "Training Accuracy: 0.9815, Testing Accuracy: 0.9753\n",
      "\n"
     ]
    },
    {
     "name": "stdout",
     "output_type": "stream",
     "text": [
      "Epoch 190, Loss 0.0168\n",
      "Training Accuracy: 0.9819, Testing Accuracy: 0.9758\n",
      "\n"
     ]
    },
    {
     "name": "stdout",
     "output_type": "stream",
     "text": [
      "Epoch 200, Loss 0.0164\n",
      "Training Accuracy: 0.9826, Testing Accuracy: 0.9768\n",
      "\n"
     ]
    },
    {
     "name": "stdout",
     "output_type": "stream",
     "text": [
      "Epoch 210, Loss 0.0159\n",
      "Training Accuracy: 0.9831, Testing Accuracy: 0.9768\n",
      "\n"
     ]
    },
    {
     "name": "stdout",
     "output_type": "stream",
     "text": [
      "Epoch 220, Loss 0.0155\n",
      "Training Accuracy: 0.9840, Testing Accuracy: 0.9768\n",
      "\n"
     ]
    },
    {
     "name": "stdout",
     "output_type": "stream",
     "text": [
      "Epoch 230, Loss 0.0151\n",
      "Training Accuracy: 0.9846, Testing Accuracy: 0.9773\n",
      "\n"
     ]
    },
    {
     "name": "stdout",
     "output_type": "stream",
     "text": [
      "Epoch 240, Loss 0.0148\n",
      "Training Accuracy: 0.9847, Testing Accuracy: 0.9778\n",
      "\n"
     ]
    },
    {
     "data": {
      "text/plain": [
       "0.027384928676975107"
      ]
     },
     "execution_count": 22,
     "metadata": {},
     "output_type": "execute_result"
    }
   ],
   "source": [
    "nn_learner.train_loop(dl)"
   ]
  },
  {
   "cell_type": "code",
   "execution_count": 23,
   "id": "e0163366",
   "metadata": {
    "execution": {
     "iopub.execute_input": "2022-09-28T00:56:07.147742Z",
     "iopub.status.busy": "2022-09-28T00:56:07.147148Z",
     "iopub.status.idle": "2022-09-28T00:56:20.748313Z",
     "shell.execute_reply": "2022-09-28T00:56:20.749169Z"
    },
    "papermill": {
     "duration": 13.645403,
     "end_time": "2022-09-28T00:56:20.749320",
     "exception": false,
     "start_time": "2022-09-28T00:56:07.103917",
     "status": "completed"
    },
    "tags": []
   },
   "outputs": [
    {
     "name": "stdout",
     "output_type": "stream",
     "text": [
      "Epoch 0, Loss 0.2462\n",
      "Training Accuracy: 0.6529, Testing Accuracy: 0.6512\n",
      "\n"
     ]
    },
    {
     "name": "stdout",
     "output_type": "stream",
     "text": [
      "Epoch 10, Loss 0.1015\n",
      "Training Accuracy: 0.9124, Testing Accuracy: 0.9269\n",
      "\n"
     ]
    },
    {
     "name": "stdout",
     "output_type": "stream",
     "text": [
      "Epoch 20, Loss 0.0782\n",
      "Training Accuracy: 0.9283, Testing Accuracy: 0.9370\n",
      "\n"
     ]
    },
    {
     "name": "stdout",
     "output_type": "stream",
     "text": [
      "Epoch 30, Loss 0.0676\n",
      "Training Accuracy: 0.9355, Testing Accuracy: 0.9430\n",
      "\n"
     ]
    },
    {
     "name": "stdout",
     "output_type": "stream",
     "text": [
      "Epoch 40, Loss 0.0613\n",
      "Training Accuracy: 0.9407, Testing Accuracy: 0.9506\n",
      "\n"
     ]
    },
    {
     "name": "stdout",
     "output_type": "stream",
     "text": [
      "Epoch 50, Loss 0.057\n",
      "Training Accuracy: 0.9448, Testing Accuracy: 0.9541\n",
      "\n"
     ]
    },
    {
     "name": "stdout",
     "output_type": "stream",
     "text": [
      "Epoch 60, Loss 0.0538\n",
      "Training Accuracy: 0.9470, Testing Accuracy: 0.9551\n",
      "\n"
     ]
    },
    {
     "name": "stdout",
     "output_type": "stream",
     "text": [
      "Epoch 70, Loss 0.0513\n",
      "Training Accuracy: 0.9479, Testing Accuracy: 0.9556\n",
      "\n"
     ]
    },
    {
     "name": "stdout",
     "output_type": "stream",
     "text": [
      "Epoch 80, Loss 0.0493\n",
      "Training Accuracy: 0.9494, Testing Accuracy: 0.9582\n",
      "\n"
     ]
    },
    {
     "name": "stdout",
     "output_type": "stream",
     "text": [
      "Epoch 90, Loss 0.0477\n",
      "Training Accuracy: 0.9513, Testing Accuracy: 0.9607\n",
      "\n"
     ]
    },
    {
     "name": "stdout",
     "output_type": "stream",
     "text": [
      "Epoch 100, Loss 0.0463\n",
      "Training Accuracy: 0.9526, Testing Accuracy: 0.9617\n",
      "\n"
     ]
    },
    {
     "name": "stdout",
     "output_type": "stream",
     "text": [
      "Epoch 110, Loss 0.0451\n",
      "Training Accuracy: 0.9531, Testing Accuracy: 0.9617\n",
      "\n"
     ]
    },
    {
     "name": "stdout",
     "output_type": "stream",
     "text": [
      "Epoch 120, Loss 0.044\n",
      "Training Accuracy: 0.9541, Testing Accuracy: 0.9622\n",
      "\n"
     ]
    },
    {
     "name": "stdout",
     "output_type": "stream",
     "text": [
      "Epoch 130, Loss 0.0431\n",
      "Training Accuracy: 0.9544, Testing Accuracy: 0.9632\n",
      "\n"
     ]
    },
    {
     "name": "stdout",
     "output_type": "stream",
     "text": [
      "Epoch 140, Loss 0.0423\n",
      "Training Accuracy: 0.9555, Testing Accuracy: 0.9637\n",
      "\n"
     ]
    },
    {
     "name": "stdout",
     "output_type": "stream",
     "text": [
      "Epoch 150, Loss 0.0415\n",
      "Training Accuracy: 0.9563, Testing Accuracy: 0.9642\n",
      "\n"
     ]
    },
    {
     "name": "stdout",
     "output_type": "stream",
     "text": [
      "Epoch 160, Loss 0.0409\n",
      "Training Accuracy: 0.9566, Testing Accuracy: 0.9647\n",
      "\n"
     ]
    },
    {
     "name": "stdout",
     "output_type": "stream",
     "text": [
      "Epoch 170, Loss 0.0402\n",
      "Training Accuracy: 0.9570, Testing Accuracy: 0.9647\n",
      "\n"
     ]
    },
    {
     "name": "stdout",
     "output_type": "stream",
     "text": [
      "Epoch 180, Loss 0.0397\n",
      "Training Accuracy: 0.9574, Testing Accuracy: 0.9647\n",
      "\n"
     ]
    },
    {
     "name": "stdout",
     "output_type": "stream",
     "text": [
      "Epoch 190, Loss 0.0392\n",
      "Training Accuracy: 0.9579, Testing Accuracy: 0.9647\n",
      "\n"
     ]
    },
    {
     "name": "stdout",
     "output_type": "stream",
     "text": [
      "Epoch 200, Loss 0.0387\n",
      "Training Accuracy: 0.9589, Testing Accuracy: 0.9647\n",
      "\n"
     ]
    },
    {
     "name": "stdout",
     "output_type": "stream",
     "text": [
      "Epoch 210, Loss 0.0382\n",
      "Training Accuracy: 0.9593, Testing Accuracy: 0.9652\n",
      "\n"
     ]
    },
    {
     "name": "stdout",
     "output_type": "stream",
     "text": [
      "Epoch 220, Loss 0.0378\n",
      "Training Accuracy: 0.9598, Testing Accuracy: 0.9657\n",
      "\n"
     ]
    },
    {
     "name": "stdout",
     "output_type": "stream",
     "text": [
      "Epoch 230, Loss 0.0374\n",
      "Training Accuracy: 0.9600, Testing Accuracy: 0.9657\n",
      "\n"
     ]
    },
    {
     "name": "stdout",
     "output_type": "stream",
     "text": [
      "Epoch 240, Loss 0.0371\n",
      "Training Accuracy: 0.9603, Testing Accuracy: 0.9662\n",
      "\n"
     ]
    },
    {
     "data": {
      "text/plain": [
       "0.023471263445194023"
      ]
     },
     "execution_count": 23,
     "metadata": {},
     "output_type": "execute_result"
    }
   ],
   "source": [
    "lr_learner.train_loop(dl)"
   ]
  },
  {
   "cell_type": "code",
   "execution_count": 24,
   "id": "ca410940",
   "metadata": {
    "execution": {
     "iopub.execute_input": "2022-09-28T00:56:20.839325Z",
     "iopub.status.busy": "2022-09-28T00:56:20.838733Z",
     "iopub.status.idle": "2022-09-28T00:56:21.073130Z",
     "shell.execute_reply": "2022-09-28T00:56:21.072635Z"
    },
    "papermill": {
     "duration": 0.282677,
     "end_time": "2022-09-28T00:56:21.073253",
     "exception": false,
     "start_time": "2022-09-28T00:56:20.790576",
     "status": "completed"
    },
    "tags": []
   },
   "outputs": [
    {
     "data": {
      "text/plain": [
       "<matplotlib.legend.Legend at 0x7f1d0549a358>"
      ]
     },
     "execution_count": 24,
     "metadata": {},
     "output_type": "execute_result"
    },
    {
     "data": {
      "image/png": "[encoded data removed]",
      "text/plain": [
       "<Figure size 1080x720 with 1 Axes>"
      ]
     },
     "metadata": {
      "needs_background": "light"
     },
     "output_type": "display_data"
    }
   ],
   "source": [
    "#comparing the results of NN and LR\n",
    "plt.figure(figsize=(15,10))\n",
    "\n",
    "# Neural Network plots\n",
    "plt.plot(acc_nn.accuracies, 'r-', label = \"Training Accuracies - NN\")\n",
    "plt.plot(acc_nn.test_accuracies, 'g-', label = \"Testing Accuracies - NN\")\n",
    "\n",
    "# Logistic Regression plots\n",
    "plt.plot(acc_lr.accuracies, 'k-', label = \"Training Accuracies - LR\")\n",
    "plt.plot(acc_lr.test_accuracies, 'b-', label = \"Testing Accuracies - LR\")\n",
    "plt.legend()"
   ]
  },
  {
   "cell_type": "markdown",
   "id": "80dfb35c",
   "metadata": {
    "papermill": {
     "duration": 0.04141,
     "end_time": "2022-09-28T00:56:21.156497",
     "exception": false,
     "start_time": "2022-09-28T00:56:21.115087",
     "status": "completed"
    },
    "tags": []
   },
   "source": [
    "#### Plotting the outputs of this layer of the NN.\n"
   ]
  },
  {
   "cell_type": "code",
   "execution_count": 25,
   "id": "45eb2ff5",
   "metadata": {
    "execution": {
     "iopub.execute_input": "2022-09-28T00:56:21.246975Z",
     "iopub.status.busy": "2022-09-28T00:56:21.246384Z",
     "iopub.status.idle": "2022-09-28T00:56:21.267004Z",
     "shell.execute_reply": "2022-09-28T00:56:21.266520Z"
    },
    "papermill": {
     "duration": 0.065505,
     "end_time": "2022-09-28T00:56:21.267117",
     "exception": false,
     "start_time": "2022-09-28T00:56:21.201612",
     "status": "completed"
    },
    "tags": []
   },
   "outputs": [],
   "source": [
    "new_model = Model(layers[:-2])\n",
    "testing_plot = new_model(testing_data_x)"
   ]
  },
  {
   "cell_type": "code",
   "execution_count": 26,
   "id": "4c0a5485",
   "metadata": {
    "execution": {
     "iopub.execute_input": "2022-09-28T00:56:21.358257Z",
     "iopub.status.busy": "2022-09-28T00:56:21.357637Z",
     "iopub.status.idle": "2022-09-28T00:56:21.553518Z",
     "shell.execute_reply": "2022-09-28T00:56:21.553055Z"
    },
    "papermill": {
     "duration": 0.242768,
     "end_time": "2022-09-28T00:56:21.553640",
     "exception": false,
     "start_time": "2022-09-28T00:56:21.310872",
     "status": "completed"
    },
    "tags": []
   },
   "outputs": [
    {
     "data": {
      "text/plain": [
       "Text(0.5, 1.0, 'Outputs')"
      ]
     },
     "execution_count": 26,
     "metadata": {},
     "output_type": "execute_result"
    },
    {
     "data": {
      "image/png": "[encoded data removed]",
      "text/plain": [
       "<Figure size 576x504 with 1 Axes>"
      ]
     },
     "metadata": {
      "needs_background": "light"
     },
     "output_type": "display_data"
    }
   ],
   "source": [
    "# Plotting the scatter plot of points and color coding by class\n",
    "plt.figure(figsize=(8,7))\n",
    "plt.scatter(testing_plot[:,0], testing_plot[:,1], alpha = 0.1, c = y_test.ravel());\n",
    "plt.title('Outputs')"
   ]
  },
  {
   "cell_type": "markdown",
   "id": "a74fcf8f",
   "metadata": {
    "papermill": {
     "duration": 0.044675,
     "end_time": "2022-09-28T00:56:21.642778",
     "exception": false,
     "start_time": "2022-09-28T00:56:21.598103",
     "status": "completed"
    },
    "tags": []
   },
   "source": [
    "Probability contours"
   ]
  },
  {
   "cell_type": "code",
   "execution_count": 27,
   "id": "d0afc8e3",
   "metadata": {
    "execution": {
     "iopub.execute_input": "2022-09-28T00:56:21.762936Z",
     "iopub.status.busy": "2022-09-28T00:56:21.762259Z",
     "iopub.status.idle": "2022-09-28T00:56:21.774845Z",
     "shell.execute_reply": "2022-09-28T00:56:21.774371Z"
    },
    "papermill": {
     "duration": 0.088299,
     "end_time": "2022-09-28T00:56:21.774953",
     "exception": false,
     "start_time": "2022-09-28T00:56:21.686654",
     "status": "completed"
    },
    "tags": []
   },
   "outputs": [],
   "source": [
    "model_prob = Model(layers[-2:]) "
   ]
  },
  {
   "cell_type": "code",
   "execution_count": 28,
   "id": "9b96e238",
   "metadata": {
    "execution": {
     "iopub.execute_input": "2022-09-28T00:56:21.867340Z",
     "iopub.status.busy": "2022-09-28T00:56:21.866747Z",
     "iopub.status.idle": "2022-09-28T00:56:21.879944Z",
     "shell.execute_reply": "2022-09-28T00:56:21.880373Z"
    },
    "papermill": {
     "duration": 0.061456,
     "end_time": "2022-09-28T00:56:21.880502",
     "exception": false,
     "start_time": "2022-09-28T00:56:21.819046",
     "status": "completed"
    },
    "tags": []
   },
   "outputs": [],
   "source": [
    "#creating the x and y ranges according to the above generated plot.\n",
    "x_range = np.linspace(-4, 1, 100) \n",
    "y_range = np.linspace(-6, 6, 100) \n",
    "x_grid, y_grid = np.meshgrid(x_range, y_range) # x_grid and y_grig are of size 100 X 100\n",
    "\n",
    "# converting x_grid and y_grid to continuous arrays\n",
    "x_gridflat = np.ravel(x_grid)\n",
    "y_gridflat = np.ravel(y_grid)\n",
    "\n",
    "# The last layer of the current model takes two columns as input. Hence transpose of np.vstack() is required.\n",
    "X = np.vstack((x_gridflat, y_gridflat)).T\n",
    "\n",
    "prob_contour = model_prob(X).reshape(100,100) "
   ]
  },
  {
   "cell_type": "code",
   "execution_count": 29,
   "id": "da72499a",
   "metadata": {
    "execution": {
     "iopub.execute_input": "2022-09-28T00:56:21.981422Z",
     "iopub.status.busy": "2022-09-28T00:56:21.980853Z",
     "iopub.status.idle": "2022-09-28T00:56:22.224379Z",
     "shell.execute_reply": "2022-09-28T00:56:22.224898Z"
    },
    "papermill": {
     "duration": 0.299926,
     "end_time": "2022-09-28T00:56:22.225055",
     "exception": false,
     "start_time": "2022-09-28T00:56:21.925129",
     "status": "completed"
    },
    "tags": []
   },
   "outputs": [
    {
     "data": {
      "image/png": "[encoded data removed]",
      "text/plain": [
       "<Figure size 720x648 with 1 Axes>"
      ]
     },
     "metadata": {
      "needs_background": "light"
     },
     "output_type": "display_data"
    }
   ],
   "source": [
    "plt.figure(figsize=(10,9))\n",
    "plt.scatter(testing_plot[:,0], testing_plot[:,1], alpha = 0.1, c = y_test.ravel())\n",
    "contours = plt.contour(x_grid,y_grid,prob_contour)\n",
    "plt.title('Probability Contours')\n",
    "plt.clabel(contours, inline = True );"
   ]
  },
  {
   "cell_type": "code",
   "execution_count": null,
   "id": "e81b4ac7",
   "metadata": {
    "papermill": {
     "duration": 0.047742,
     "end_time": "2022-09-28T00:56:22.321420",
     "exception": false,
     "start_time": "2022-09-28T00:56:22.273678",
     "status": "completed"
    },
    "tags": []
   },
   "outputs": [],
   "source": []
  }
 ],
 "metadata": {
  "kernelspec": {
   "display_name": "Python 3",
   "language": "python",
   "name": "python3"
  },
  "language_info": {
   "codemirror_mode": {
    "name": "ipython",
    "version": 3
   },
   "file_extension": ".py",
   "mimetype": "text/x-python",
   "name": "python",
   "nbconvert_exporter": "python",
   "pygments_lexer": "ipython3",
   "version": "3.6.15"
  },
  "papermill": {
   "default_parameters": {},
   "duration": 98.289496,
   "end_time": "2022-09-28T00:56:22.788492",
   "environment_variables": {},
   "exception": null,
   "input_path": "2020-08-11-part2.ipynb",
   "output_path": "2020-08-11-part2.ipynb",
   "parameters": {},
   "start_time": "2022-09-28T00:54:44.498996",
   "version": "2.3.3"
  }
 },
 "nbformat": 4,
 "nbformat_minor": 5
}