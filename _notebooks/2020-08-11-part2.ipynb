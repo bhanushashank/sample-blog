{
 "cells": [
  {
   "cell_type": "markdown",
   "id": "98380cd3",
   "metadata": {
    "papermill": {
     "duration": 0.03571,
     "end_time": "2022-06-29T00:37:41.637481",
     "exception": false,
     "start_time": "2022-06-29T00:37:41.601771",
     "status": "completed"
    },
    "tags": []
   },
   "source": [
    "# Distinguish Your Own Digits (DYOD)"
   ]
  },
  {
   "cell_type": "markdown",
   "id": "ef31240d",
   "metadata": {
    "papermill": {
     "duration": 0.024613,
     "end_time": "2022-06-29T00:37:41.688352",
     "exception": false,
     "start_time": "2022-06-29T00:37:41.663739",
     "status": "completed"
    },
    "tags": []
   },
   "source": [
    "You are going to write a classifier that distinguishes between the number 3 and number 8."
   ]
  },
  {
   "cell_type": "code",
   "execution_count": 1,
   "id": "b15c8646",
   "metadata": {
    "execution": {
     "iopub.execute_input": "2022-06-29T00:37:41.750171Z",
     "iopub.status.busy": "2022-06-29T00:37:41.749409Z",
     "iopub.status.idle": "2022-06-29T00:37:41.762733Z",
     "shell.execute_reply": "2022-06-29T00:37:41.762171Z"
    },
    "papermill": {
     "duration": 0.050162,
     "end_time": "2022-06-29T00:37:41.762906",
     "exception": false,
     "start_time": "2022-06-29T00:37:41.712744",
     "status": "completed"
    },
    "tags": []
   },
   "outputs": [],
   "source": [
    "%load_ext autoreload\n",
    "%autoreload 2"
   ]
  },
  {
   "cell_type": "code",
   "execution_count": 2,
   "id": "22ef38dc",
   "metadata": {
    "execution": {
     "iopub.execute_input": "2022-06-29T00:37:41.821037Z",
     "iopub.status.busy": "2022-06-29T00:37:41.820362Z",
     "iopub.status.idle": "2022-06-29T00:37:42.495736Z",
     "shell.execute_reply": "2022-06-29T00:37:42.495029Z"
    },
    "papermill": {
     "duration": 0.708291,
     "end_time": "2022-06-29T00:37:42.495892",
     "exception": false,
     "start_time": "2022-06-29T00:37:41.787601",
     "status": "completed"
    },
    "tags": []
   },
   "outputs": [],
   "source": [
    "%matplotlib inline\n",
    "import numpy as np\n",
    "import matplotlib.pyplot as plt\n",
    "import pandas as pd"
   ]
  },
  {
   "cell_type": "markdown",
   "id": "ba036198",
   "metadata": {
    "papermill": {
     "duration": 0.025109,
     "end_time": "2022-06-29T00:37:42.545711",
     "exception": false,
     "start_time": "2022-06-29T00:37:42.520602",
     "status": "completed"
    },
    "tags": []
   },
   "source": [
    "From the command line run `pip install mnist`. This is a library that will help you bring down the mnist dataset. If you run this from a notebook, you need to put  `!pip install mnist` in a cell by itself."
   ]
  },
  {
   "cell_type": "code",
   "execution_count": 3,
   "id": "bb6ad8a1",
   "metadata": {
    "execution": {
     "iopub.execute_input": "2022-06-29T00:37:42.603161Z",
     "iopub.status.busy": "2022-06-29T00:37:42.602453Z",
     "iopub.status.idle": "2022-06-29T00:37:45.354565Z",
     "shell.execute_reply": "2022-06-29T00:37:45.353919Z"
    },
    "papermill": {
     "duration": 2.781668,
     "end_time": "2022-06-29T00:37:45.354724",
     "exception": false,
     "start_time": "2022-06-29T00:37:42.573056",
     "status": "completed"
    },
    "tags": []
   },
   "outputs": [
    {
     "name": "stdout",
     "output_type": "stream",
     "text": [
      "Collecting mnist\r\n"
     ]
    },
    {
     "name": "stdout",
     "output_type": "stream",
     "text": [
      "  Downloading mnist-0.2.2-py2.py3-none-any.whl (3.5 kB)\r\n",
      "Requirement already satisfied: numpy in /opt/hostedtoolcache/Python/3.6.15/x64/lib/python3.6/site-packages (from mnist) (1.19.5)\r\n"
     ]
    },
    {
     "name": "stdout",
     "output_type": "stream",
     "text": [
      "Installing collected packages: mnist\r\n"
     ]
    },
    {
     "name": "stdout",
     "output_type": "stream",
     "text": [
      "Successfully installed mnist-0.2.2\r\n"
     ]
    }
   ],
   "source": [
    "!pip install mnist"
   ]
  },
  {
   "cell_type": "markdown",
   "id": "69df9c9a",
   "metadata": {
    "papermill": {
     "duration": 0.025546,
     "end_time": "2022-06-29T00:37:45.406203",
     "exception": false,
     "start_time": "2022-06-29T00:37:45.380657",
     "status": "completed"
    },
    "tags": []
   },
   "source": [
    "## Preparing the Data"
   ]
  },
  {
   "cell_type": "code",
   "execution_count": 4,
   "id": "7f69d806",
   "metadata": {
    "execution": {
     "iopub.execute_input": "2022-06-29T00:37:45.481001Z",
     "iopub.status.busy": "2022-06-29T00:37:45.468492Z",
     "iopub.status.idle": "2022-06-29T00:37:45.485886Z",
     "shell.execute_reply": "2022-06-29T00:37:45.485295Z"
    },
    "papermill": {
     "duration": 0.054308,
     "end_time": "2022-06-29T00:37:45.486053",
     "exception": false,
     "start_time": "2022-06-29T00:37:45.431745",
     "status": "completed"
    },
    "tags": []
   },
   "outputs": [],
   "source": [
    "import mnist"
   ]
  },
  {
   "cell_type": "code",
   "execution_count": 5,
   "id": "a411e44f",
   "metadata": {
    "execution": {
     "iopub.execute_input": "2022-06-29T00:37:45.544938Z",
     "iopub.status.busy": "2022-06-29T00:37:45.544238Z",
     "iopub.status.idle": "2022-06-29T00:37:46.153616Z",
     "shell.execute_reply": "2022-06-29T00:37:46.154200Z"
    },
    "papermill": {
     "duration": 0.642423,
     "end_time": "2022-06-29T00:37:46.154411",
     "exception": false,
     "start_time": "2022-06-29T00:37:45.511988",
     "status": "completed"
    },
    "tags": []
   },
   "outputs": [],
   "source": [
    "train_images = mnist.train_images()\n",
    "train_labels = mnist.train_labels()"
   ]
  },
  {
   "cell_type": "code",
   "execution_count": 6,
   "id": "dceab3a5",
   "metadata": {
    "execution": {
     "iopub.execute_input": "2022-06-29T00:37:46.224077Z",
     "iopub.status.busy": "2022-06-29T00:37:46.223332Z",
     "iopub.status.idle": "2022-06-29T00:37:46.234516Z",
     "shell.execute_reply": "2022-06-29T00:37:46.234978Z"
    },
    "papermill": {
     "duration": 0.054626,
     "end_time": "2022-06-29T00:37:46.235166",
     "exception": false,
     "start_time": "2022-06-29T00:37:46.180540",
     "status": "completed"
    },
    "tags": []
   },
   "outputs": [
    {
     "data": {
      "text/plain": [
       "((60000, 28, 28), (60000,))"
      ]
     },
     "execution_count": 6,
     "metadata": {},
     "output_type": "execute_result"
    }
   ],
   "source": [
    "train_images.shape, train_labels.shape"
   ]
  },
  {
   "cell_type": "code",
   "execution_count": 7,
   "id": "f50dc2bb",
   "metadata": {
    "execution": {
     "iopub.execute_input": "2022-06-29T00:37:46.292527Z",
     "iopub.status.busy": "2022-06-29T00:37:46.291901Z",
     "iopub.status.idle": "2022-06-29T00:37:46.468243Z",
     "shell.execute_reply": "2022-06-29T00:37:46.467624Z"
    },
    "papermill": {
     "duration": 0.207509,
     "end_time": "2022-06-29T00:37:46.468406",
     "exception": false,
     "start_time": "2022-06-29T00:37:46.260897",
     "status": "completed"
    },
    "tags": []
   },
   "outputs": [],
   "source": [
    "test_images = mnist.test_images()\n",
    "test_labels = mnist.test_labels()"
   ]
  },
  {
   "cell_type": "code",
   "execution_count": 8,
   "id": "fc38cf1b",
   "metadata": {
    "execution": {
     "iopub.execute_input": "2022-06-29T00:37:46.540512Z",
     "iopub.status.busy": "2022-06-29T00:37:46.534440Z",
     "iopub.status.idle": "2022-06-29T00:37:46.550154Z",
     "shell.execute_reply": "2022-06-29T00:37:46.549639Z"
    },
    "papermill": {
     "duration": 0.055503,
     "end_time": "2022-06-29T00:37:46.550305",
     "exception": false,
     "start_time": "2022-06-29T00:37:46.494802",
     "status": "completed"
    },
    "tags": []
   },
   "outputs": [
    {
     "data": {
      "text/plain": [
       "((10000, 28, 28), (10000,))"
      ]
     },
     "execution_count": 8,
     "metadata": {},
     "output_type": "execute_result"
    }
   ],
   "source": [
    "test_images.shape, test_labels.shape"
   ]
  },
  {
   "cell_type": "code",
   "execution_count": 9,
   "id": "f9ed8fe0",
   "metadata": {
    "execution": {
     "iopub.execute_input": "2022-06-29T00:37:46.610543Z",
     "iopub.status.busy": "2022-06-29T00:37:46.609806Z",
     "iopub.status.idle": "2022-06-29T00:37:46.770427Z",
     "shell.execute_reply": "2022-06-29T00:37:46.769837Z"
    },
    "papermill": {
     "duration": 0.193999,
     "end_time": "2022-06-29T00:37:46.770589",
     "exception": false,
     "start_time": "2022-06-29T00:37:46.576590",
     "status": "completed"
    },
    "tags": []
   },
   "outputs": [
    {
     "name": "stdout",
     "output_type": "stream",
     "text": [
      "2\n"
     ]
    },
    {
     "data": {
      "text/plain": [
       "<matplotlib.image.AxesImage at 0x7fd67c37b080>"
      ]
     },
     "execution_count": 9,
     "metadata": {},
     "output_type": "execute_result"
    },
    {
     "data": {
      "image/png": "[encoded data removed]",
      "text/plain": [
       "<Figure size 432x288 with 1 Axes>"
      ]
     },
     "metadata": {
      "needs_background": "light"
     },
     "output_type": "display_data"
    }
   ],
   "source": [
    "image_index = 7776 # You may select anything up to 60,000\n",
    "print(train_labels[image_index]) \n",
    "plt.imshow(train_images[image_index], cmap='Greys')"
   ]
  },
  {
   "cell_type": "markdown",
   "id": "a8d2388d",
   "metadata": {
    "papermill": {
     "duration": 0.027699,
     "end_time": "2022-06-29T00:37:46.826096",
     "exception": false,
     "start_time": "2022-06-29T00:37:46.798397",
     "status": "completed"
    },
    "tags": []
   },
   "source": [
    "## Filter data to get 3 and 8 out"
   ]
  },
  {
   "cell_type": "code",
   "execution_count": 10,
   "id": "776f7fc7",
   "metadata": {
    "execution": {
     "iopub.execute_input": "2022-06-29T00:37:46.893686Z",
     "iopub.status.busy": "2022-06-29T00:37:46.886430Z",
     "iopub.status.idle": "2022-06-29T00:37:46.909925Z",
     "shell.execute_reply": "2022-06-29T00:37:46.908888Z"
    },
    "papermill": {
     "duration": 0.056483,
     "end_time": "2022-06-29T00:37:46.910098",
     "exception": false,
     "start_time": "2022-06-29T00:37:46.853615",
     "status": "completed"
    },
    "tags": []
   },
   "outputs": [],
   "source": [
    "train_filter = np.where((train_labels == 3 ) | (train_labels == 8))\n",
    "test_filter = np.where((test_labels == 3) | (test_labels == 8))\n",
    "X_train, y_train = train_images[train_filter], train_labels[train_filter]\n",
    "X_test, y_test = test_images[test_filter], test_labels[test_filter]"
   ]
  },
  {
   "cell_type": "markdown",
   "id": "948f0b7e",
   "metadata": {
    "papermill": {
     "duration": 0.028432,
     "end_time": "2022-06-29T00:37:46.966288",
     "exception": false,
     "start_time": "2022-06-29T00:37:46.937856",
     "status": "completed"
    },
    "tags": []
   },
   "source": [
    "We normalize the pizel values in the 0 to 1 range"
   ]
  },
  {
   "cell_type": "code",
   "execution_count": 11,
   "id": "ee4c2166",
   "metadata": {
    "execution": {
     "iopub.execute_input": "2022-06-29T00:37:47.028692Z",
     "iopub.status.busy": "2022-06-29T00:37:47.027959Z",
     "iopub.status.idle": "2022-06-29T00:37:47.090054Z",
     "shell.execute_reply": "2022-06-29T00:37:47.090632Z"
    },
    "papermill": {
     "duration": 0.097262,
     "end_time": "2022-06-29T00:37:47.090847",
     "exception": false,
     "start_time": "2022-06-29T00:37:46.993585",
     "status": "completed"
    },
    "tags": []
   },
   "outputs": [],
   "source": [
    "X_train = X_train/255.\n",
    "X_test = X_test/255."
   ]
  },
  {
   "cell_type": "markdown",
   "id": "ddcf4fab",
   "metadata": {
    "papermill": {
     "duration": 0.027463,
     "end_time": "2022-06-29T00:37:47.146303",
     "exception": false,
     "start_time": "2022-06-29T00:37:47.118840",
     "status": "completed"
    },
    "tags": []
   },
   "source": [
    "And setup the labels as 1 (when the digit is 3) and 0 (when the digit is 8)"
   ]
  },
  {
   "cell_type": "code",
   "execution_count": 12,
   "id": "7dc908f2",
   "metadata": {
    "execution": {
     "iopub.execute_input": "2022-06-29T00:37:47.230732Z",
     "iopub.status.busy": "2022-06-29T00:37:47.220574Z",
     "iopub.status.idle": "2022-06-29T00:37:47.234232Z",
     "shell.execute_reply": "2022-06-29T00:37:47.234821Z"
    },
    "papermill": {
     "duration": 0.059277,
     "end_time": "2022-06-29T00:37:47.235038",
     "exception": false,
     "start_time": "2022-06-29T00:37:47.175761",
     "status": "completed"
    },
    "tags": []
   },
   "outputs": [],
   "source": [
    "y_train = 1*(y_train==3)\n",
    "y_test = 1*(y_test==3)"
   ]
  },
  {
   "cell_type": "code",
   "execution_count": 13,
   "id": "01e4e969",
   "metadata": {
    "execution": {
     "iopub.execute_input": "2022-06-29T00:37:47.315278Z",
     "iopub.status.busy": "2022-06-29T00:37:47.304074Z",
     "iopub.status.idle": "2022-06-29T00:37:47.322588Z",
     "shell.execute_reply": "2022-06-29T00:37:47.321974Z"
    },
    "papermill": {
     "duration": 0.058128,
     "end_time": "2022-06-29T00:37:47.322766",
     "exception": false,
     "start_time": "2022-06-29T00:37:47.264638",
     "status": "completed"
    },
    "tags": []
   },
   "outputs": [
    {
     "data": {
      "text/plain": [
       "((11982, 28, 28), (1984, 28, 28))"
      ]
     },
     "execution_count": 13,
     "metadata": {},
     "output_type": "execute_result"
    }
   ],
   "source": [
    "X_train.shape, X_test.shape"
   ]
  },
  {
   "cell_type": "markdown",
   "id": "5ccf3f85",
   "metadata": {
    "papermill": {
     "duration": 0.027657,
     "end_time": "2022-06-29T00:37:47.379992",
     "exception": false,
     "start_time": "2022-06-29T00:37:47.352335",
     "status": "completed"
    },
    "tags": []
   },
   "source": [
    "We reshape the data to flatten the image pixels into a set of features or co-variates:"
   ]
  },
  {
   "cell_type": "code",
   "execution_count": 14,
   "id": "5286a4a3",
   "metadata": {
    "execution": {
     "iopub.execute_input": "2022-06-29T00:37:47.444573Z",
     "iopub.status.busy": "2022-06-29T00:37:47.443864Z",
     "iopub.status.idle": "2022-06-29T00:37:47.458893Z",
     "shell.execute_reply": "2022-06-29T00:37:47.458373Z"
    },
    "papermill": {
     "duration": 0.051069,
     "end_time": "2022-06-29T00:37:47.459042",
     "exception": false,
     "start_time": "2022-06-29T00:37:47.407973",
     "status": "completed"
    },
    "tags": []
   },
   "outputs": [
    {
     "data": {
      "text/plain": [
       "((11982, 784), (1984, 784))"
      ]
     },
     "execution_count": 14,
     "metadata": {},
     "output_type": "execute_result"
    }
   ],
   "source": [
    "X_train = X_train.reshape(X_train.shape[0], -1)\n",
    "X_test = X_test.reshape(X_test.shape[0], -1)\n",
    "X_train.shape, X_test.shape"
   ]
  },
  {
   "cell_type": "code",
   "execution_count": 15,
   "id": "73c5f88a",
   "metadata": {
    "execution": {
     "iopub.execute_input": "2022-06-29T00:37:47.529634Z",
     "iopub.status.busy": "2022-06-29T00:37:47.528928Z",
     "iopub.status.idle": "2022-06-29T00:37:47.546010Z",
     "shell.execute_reply": "2022-06-29T00:37:47.545481Z"
    },
    "papermill": {
     "duration": 0.058699,
     "end_time": "2022-06-29T00:37:47.546164",
     "exception": false,
     "start_time": "2022-06-29T00:37:47.487465",
     "status": "completed"
    },
    "tags": []
   },
   "outputs": [],
   "source": [
    "#Impoting functions from 'Kudzu'\n",
    "from kudzu.model import Model\n",
    "from kudzu.train import Learner\n",
    "from kudzu.optim import GD\n",
    "from kudzu.data import Data, Sampler,Dataloader\n",
    "\n",
    "from kudzu.callbacks import AccCallback\n",
    "from kudzu.callbacks import ClfCallback\n",
    "\n",
    "from kudzu.loss import MSE\n",
    "\n",
    "from kudzu.layer import Sigmoid,Relu\n",
    "from kudzu.layer import Affine"
   ]
  },
  {
   "cell_type": "markdown",
   "id": "bc01172a",
   "metadata": {
    "papermill": {
     "duration": 0.02814,
     "end_time": "2022-06-29T00:37:47.602288",
     "exception": false,
     "start_time": "2022-06-29T00:37:47.574148",
     "status": "completed"
    },
    "tags": []
   },
   "source": [
    "### Let us create a `Config` class, to store important parameters. \n",
    "This class essentially plays the role of a dictionary."
   ]
  },
  {
   "cell_type": "code",
   "execution_count": 16,
   "id": "978281aa",
   "metadata": {
    "execution": {
     "iopub.execute_input": "2022-06-29T00:37:47.666060Z",
     "iopub.status.busy": "2022-06-29T00:37:47.665274Z",
     "iopub.status.idle": "2022-06-29T00:37:47.680410Z",
     "shell.execute_reply": "2022-06-29T00:37:47.680932Z"
    },
    "papermill": {
     "duration": 0.051006,
     "end_time": "2022-06-29T00:37:47.681135",
     "exception": false,
     "start_time": "2022-06-29T00:37:47.630129",
     "status": "completed"
    },
    "tags": []
   },
   "outputs": [],
   "source": [
    "class Config:\n",
    "    pass\n",
    "config = Config()\n",
    "config.lr = 0.001\n",
    "config.num_epochs = 250\n",
    "config.bs = 50"
   ]
  },
  {
   "cell_type": "markdown",
   "id": "1385fa59",
   "metadata": {
    "papermill": {
     "duration": 0.028092,
     "end_time": "2022-06-29T00:37:47.737685",
     "exception": false,
     "start_time": "2022-06-29T00:37:47.709593",
     "status": "completed"
    },
    "tags": []
   },
   "source": [
    "### Running Models with the Training data\n",
    "Details about the network layers:\n",
    "- A first affine layer has 784 inputs and does 100 affine transforms. These are followed by a Relu\n",
    "- A second affine layer has 100 inputs from the 100 activations of the past layer, and does 100 affine transforms. These are followed by a Relu\n",
    "- A third affine layer has 100 activations and does 2 affine transformations to create an embedding for visualization. There is no non-linearity here.\n",
    "- A final \"logistic regression\" which has an affine transform from 2 inputs to 1 output, which is squeezed through a sigmoid.\n"
   ]
  },
  {
   "cell_type": "code",
   "execution_count": 17,
   "id": "2b9c66db",
   "metadata": {
    "execution": {
     "iopub.execute_input": "2022-06-29T00:37:47.803945Z",
     "iopub.status.busy": "2022-06-29T00:37:47.803187Z",
     "iopub.status.idle": "2022-06-29T00:37:47.816352Z",
     "shell.execute_reply": "2022-06-29T00:37:47.815795Z"
    },
    "papermill": {
     "duration": 0.050505,
     "end_time": "2022-06-29T00:37:47.816496",
     "exception": false,
     "start_time": "2022-06-29T00:37:47.765991",
     "status": "completed"
    },
    "tags": []
   },
   "outputs": [],
   "source": [
    "data = Data(X_train, y_train.reshape(-1,1))\n",
    "sampler = Sampler(data, config.bs, shuffle=True)\n",
    "\n",
    "dl = Dataloader(data, sampler)\n",
    "\n",
    "opt = GD(config.lr)\n",
    "loss = MSE()"
   ]
  },
  {
   "cell_type": "code",
   "execution_count": 18,
   "id": "b275e4c2",
   "metadata": {
    "execution": {
     "iopub.execute_input": "2022-06-29T00:37:47.878582Z",
     "iopub.status.busy": "2022-06-29T00:37:47.877907Z",
     "iopub.status.idle": "2022-06-29T00:37:47.892504Z",
     "shell.execute_reply": "2022-06-29T00:37:47.891987Z"
    },
    "papermill": {
     "duration": 0.048084,
     "end_time": "2022-06-29T00:37:47.892654",
     "exception": false,
     "start_time": "2022-06-29T00:37:47.844570",
     "status": "completed"
    },
    "tags": []
   },
   "outputs": [],
   "source": [
    "training_data_x = X_train\n",
    "testing_data_x = X_test\n",
    "training_data_y = y_train.reshape(-1,1)\n",
    "testing_data_y = y_test.reshape(-1,1)"
   ]
  },
  {
   "cell_type": "code",
   "execution_count": 19,
   "id": "76951160",
   "metadata": {
    "execution": {
     "iopub.execute_input": "2022-06-29T00:37:47.960161Z",
     "iopub.status.busy": "2022-06-29T00:37:47.959382Z",
     "iopub.status.idle": "2022-06-29T00:37:47.977099Z",
     "shell.execute_reply": "2022-06-29T00:37:47.976522Z"
    },
    "papermill": {
     "duration": 0.0568,
     "end_time": "2022-06-29T00:37:47.977251",
     "exception": false,
     "start_time": "2022-06-29T00:37:47.920451",
     "status": "completed"
    },
    "tags": []
   },
   "outputs": [
    {
     "name": "stdout",
     "output_type": "stream",
     "text": [
      "xavier\n",
      "xavier\n",
      "xavier\n",
      "xavier\n",
      "xavier\n"
     ]
    }
   ],
   "source": [
    "layers = [Affine(\"first\", 784, 100), Relu(\"first\"), Affine(\"second\", 100, 100), Relu(\"second\"), Affine(\"third\", 100, 2), Affine(\"last\", 2, 1), Sigmoid(\"last\")]\n",
    "model_nn = Model(layers)\n",
    "model_lr = Model([Affine(\"logits\", 784, 1), Sigmoid(\"sigmoid\")])"
   ]
  },
  {
   "cell_type": "code",
   "execution_count": 20,
   "id": "6eede77a",
   "metadata": {
    "execution": {
     "iopub.execute_input": "2022-06-29T00:37:48.054123Z",
     "iopub.status.busy": "2022-06-29T00:37:48.045706Z",
     "iopub.status.idle": "2022-06-29T00:37:48.059716Z",
     "shell.execute_reply": "2022-06-29T00:37:48.060287Z"
    },
    "papermill": {
     "duration": 0.054415,
     "end_time": "2022-06-29T00:37:48.060475",
     "exception": false,
     "start_time": "2022-06-29T00:37:48.006060",
     "status": "completed"
    },
    "tags": []
   },
   "outputs": [],
   "source": [
    "nn_learner = Learner(loss, model_nn, opt, config.num_epochs)\n",
    "acc_nn = ClfCallback(nn_learner, config.bs, training_data_x , testing_data_x, training_data_y, testing_data_y)\n",
    "nn_learner.set_callbacks([acc_nn])"
   ]
  },
  {
   "cell_type": "code",
   "execution_count": 21,
   "id": "877b6cc7",
   "metadata": {
    "execution": {
     "iopub.execute_input": "2022-06-29T00:37:48.133859Z",
     "iopub.status.busy": "2022-06-29T00:37:48.125301Z",
     "iopub.status.idle": "2022-06-29T00:37:48.139754Z",
     "shell.execute_reply": "2022-06-29T00:37:48.139141Z"
    },
    "papermill": {
     "duration": 0.050983,
     "end_time": "2022-06-29T00:37:48.139910",
     "exception": false,
     "start_time": "2022-06-29T00:37:48.088927",
     "status": "completed"
    },
    "tags": []
   },
   "outputs": [],
   "source": [
    "lr_learner = Learner(loss, model_lr, opt, config.num_epochs)\n",
    "acc_lr = ClfCallback(lr_learner, config.bs, training_data_x , testing_data_x, training_data_y, testing_data_y)\n",
    "lr_learner.set_callbacks([acc_lr])"
   ]
  },
  {
   "cell_type": "code",
   "execution_count": 22,
   "id": "d9b133c3",
   "metadata": {
    "execution": {
     "iopub.execute_input": "2022-06-29T00:37:48.214973Z",
     "iopub.status.busy": "2022-06-29T00:37:48.205314Z",
     "iopub.status.idle": "2022-06-29T00:39:26.928745Z",
     "shell.execute_reply": "2022-06-29T00:39:26.929865Z"
    },
    "papermill": {
     "duration": 98.761584,
     "end_time": "2022-06-29T00:39:26.930070",
     "exception": false,
     "start_time": "2022-06-29T00:37:48.168486",
     "status": "completed"
    },
    "tags": []
   },
   "outputs": [
    {
     "name": "stdout",
     "output_type": "stream",
     "text": [
      "Epoch 0, Loss 0.2542\n",
      "Training Accuracy: 0.5114, Testing Accuracy: 0.5066\n",
      "\n"
     ]
    },
    {
     "name": "stdout",
     "output_type": "stream",
     "text": [
      "Epoch 10, Loss 0.1502\n",
      "Training Accuracy: 0.8980, Testing Accuracy: 0.9093\n",
      "\n"
     ]
    },
    {
     "name": "stdout",
     "output_type": "stream",
     "text": [
      "Epoch 20, Loss 0.0757\n",
      "Training Accuracy: 0.9294, Testing Accuracy: 0.9395\n",
      "\n"
     ]
    },
    {
     "name": "stdout",
     "output_type": "stream",
     "text": [
      "Epoch 30, Loss 0.053\n",
      "Training Accuracy: 0.9438, Testing Accuracy: 0.9546\n",
      "\n"
     ]
    },
    {
     "name": "stdout",
     "output_type": "stream",
     "text": [
      "Epoch 40, Loss 0.0431\n",
      "Training Accuracy: 0.9516, Testing Accuracy: 0.9632\n",
      "\n"
     ]
    },
    {
     "name": "stdout",
     "output_type": "stream",
     "text": [
      "Epoch 50, Loss 0.0376\n",
      "Training Accuracy: 0.9578, Testing Accuracy: 0.9667\n",
      "\n"
     ]
    },
    {
     "name": "stdout",
     "output_type": "stream",
     "text": [
      "Epoch 60, Loss 0.0342\n",
      "Training Accuracy: 0.9612, Testing Accuracy: 0.9682\n",
      "\n"
     ]
    },
    {
     "name": "stdout",
     "output_type": "stream",
     "text": [
      "Epoch 70, Loss 0.0317\n",
      "Training Accuracy: 0.9641, Testing Accuracy: 0.9693\n",
      "\n"
     ]
    },
    {
     "name": "stdout",
     "output_type": "stream",
     "text": [
      "Epoch 80, Loss 0.0299\n",
      "Training Accuracy: 0.9660, Testing Accuracy: 0.9708\n",
      "\n"
     ]
    },
    {
     "name": "stdout",
     "output_type": "stream",
     "text": [
      "Epoch 90, Loss 0.0285\n",
      "Training Accuracy: 0.9675, Testing Accuracy: 0.9713\n",
      "\n"
     ]
    },
    {
     "name": "stdout",
     "output_type": "stream",
     "text": [
      "Epoch 100, Loss 0.0272\n",
      "Training Accuracy: 0.9685, Testing Accuracy: 0.9718\n",
      "\n"
     ]
    },
    {
     "name": "stdout",
     "output_type": "stream",
     "text": [
      "Epoch 110, Loss 0.0262\n",
      "Training Accuracy: 0.9692, Testing Accuracy: 0.9733\n",
      "\n"
     ]
    },
    {
     "name": "stdout",
     "output_type": "stream",
     "text": [
      "Epoch 120, Loss 0.0253\n",
      "Training Accuracy: 0.9701, Testing Accuracy: 0.9733\n",
      "\n"
     ]
    },
    {
     "name": "stdout",
     "output_type": "stream",
     "text": [
      "Epoch 130, Loss 0.0245\n",
      "Training Accuracy: 0.9715, Testing Accuracy: 0.9738\n",
      "\n"
     ]
    },
    {
     "name": "stdout",
     "output_type": "stream",
     "text": [
      "Epoch 140, Loss 0.0238\n",
      "Training Accuracy: 0.9722, Testing Accuracy: 0.9733\n",
      "\n"
     ]
    },
    {
     "name": "stdout",
     "output_type": "stream",
     "text": [
      "Epoch 150, Loss 0.0232\n",
      "Training Accuracy: 0.9733, Testing Accuracy: 0.9738\n",
      "\n"
     ]
    },
    {
     "name": "stdout",
     "output_type": "stream",
     "text": [
      "Epoch 160, Loss 0.0226\n",
      "Training Accuracy: 0.9744, Testing Accuracy: 0.9738\n",
      "\n"
     ]
    },
    {
     "name": "stdout",
     "output_type": "stream",
     "text": [
      "Epoch 170, Loss 0.022\n",
      "Training Accuracy: 0.9749, Testing Accuracy: 0.9738\n",
      "\n"
     ]
    },
    {
     "name": "stdout",
     "output_type": "stream",
     "text": [
      "Epoch 180, Loss 0.0215\n",
      "Training Accuracy: 0.9755, Testing Accuracy: 0.9743\n",
      "\n"
     ]
    },
    {
     "name": "stdout",
     "output_type": "stream",
     "text": [
      "Epoch 190, Loss 0.021\n",
      "Training Accuracy: 0.9757, Testing Accuracy: 0.9748\n",
      "\n"
     ]
    },
    {
     "name": "stdout",
     "output_type": "stream",
     "text": [
      "Epoch 200, Loss 0.0206\n",
      "Training Accuracy: 0.9762, Testing Accuracy: 0.9753\n",
      "\n"
     ]
    },
    {
     "name": "stdout",
     "output_type": "stream",
     "text": [
      "Epoch 210, Loss 0.0201\n",
      "Training Accuracy: 0.9768, Testing Accuracy: 0.9753\n",
      "\n"
     ]
    },
    {
     "name": "stdout",
     "output_type": "stream",
     "text": [
      "Epoch 220, Loss 0.0197\n",
      "Training Accuracy: 0.9774, Testing Accuracy: 0.9753\n",
      "\n"
     ]
    },
    {
     "name": "stdout",
     "output_type": "stream",
     "text": [
      "Epoch 230, Loss 0.0193\n",
      "Training Accuracy: 0.9779, Testing Accuracy: 0.9758\n",
      "\n"
     ]
    },
    {
     "name": "stdout",
     "output_type": "stream",
     "text": [
      "Epoch 240, Loss 0.0189\n",
      "Training Accuracy: 0.9788, Testing Accuracy: 0.9758\n",
      "\n"
     ]
    },
    {
     "data": {
      "text/plain": [
       "0.0033982690300634315"
      ]
     },
     "execution_count": 22,
     "metadata": {},
     "output_type": "execute_result"
    }
   ],
   "source": [
    "nn_learner.train_loop(dl)"
   ]
  },
  {
   "cell_type": "code",
   "execution_count": 23,
   "id": "e0163366",
   "metadata": {
    "execution": {
     "iopub.execute_input": "2022-06-29T00:39:27.018509Z",
     "iopub.status.busy": "2022-06-29T00:39:27.017818Z",
     "iopub.status.idle": "2022-06-29T00:39:44.216630Z",
     "shell.execute_reply": "2022-06-29T00:39:44.217934Z"
    },
    "papermill": {
     "duration": 17.251934,
     "end_time": "2022-06-29T00:39:44.218160",
     "exception": false,
     "start_time": "2022-06-29T00:39:26.966226",
     "status": "completed"
    },
    "tags": []
   },
   "outputs": [
    {
     "name": "stdout",
     "output_type": "stream",
     "text": [
      "Epoch 0, Loss 0.2719\n",
      "Training Accuracy: 0.5738, Testing Accuracy: 0.5998\n",
      "\n"
     ]
    },
    {
     "name": "stdout",
     "output_type": "stream",
     "text": [
      "Epoch 10, Loss 0.1009\n",
      "Training Accuracy: 0.9226, Testing Accuracy: 0.9365\n",
      "\n"
     ]
    },
    {
     "name": "stdout",
     "output_type": "stream",
     "text": [
      "Epoch 20, Loss 0.0772\n",
      "Training Accuracy: 0.9336, Testing Accuracy: 0.9481\n",
      "\n"
     ]
    },
    {
     "name": "stdout",
     "output_type": "stream",
     "text": [
      "Epoch 30, Loss 0.0668\n",
      "Training Accuracy: 0.9387, Testing Accuracy: 0.9501\n",
      "\n"
     ]
    },
    {
     "name": "stdout",
     "output_type": "stream",
     "text": [
      "Epoch 40, Loss 0.0605\n",
      "Training Accuracy: 0.9434, Testing Accuracy: 0.9546\n",
      "\n"
     ]
    },
    {
     "name": "stdout",
     "output_type": "stream",
     "text": [
      "Epoch 50, Loss 0.0562\n",
      "Training Accuracy: 0.9463, Testing Accuracy: 0.9577\n",
      "\n"
     ]
    },
    {
     "name": "stdout",
     "output_type": "stream",
     "text": [
      "Epoch 60, Loss 0.0531\n",
      "Training Accuracy: 0.9488, Testing Accuracy: 0.9592\n",
      "\n"
     ]
    },
    {
     "name": "stdout",
     "output_type": "stream",
     "text": [
      "Epoch 70, Loss 0.0506\n",
      "Training Accuracy: 0.9501, Testing Accuracy: 0.9597\n",
      "\n"
     ]
    },
    {
     "name": "stdout",
     "output_type": "stream",
     "text": [
      "Epoch 80, Loss 0.0487\n",
      "Training Accuracy: 0.9520, Testing Accuracy: 0.9617\n",
      "\n"
     ]
    },
    {
     "name": "stdout",
     "output_type": "stream",
     "text": [
      "Epoch 90, Loss 0.047\n",
      "Training Accuracy: 0.9536, Testing Accuracy: 0.9632\n",
      "\n"
     ]
    },
    {
     "name": "stdout",
     "output_type": "stream",
     "text": [
      "Epoch 100, Loss 0.0457\n",
      "Training Accuracy: 0.9546, Testing Accuracy: 0.9637\n",
      "\n"
     ]
    },
    {
     "name": "stdout",
     "output_type": "stream",
     "text": [
      "Epoch 110, Loss 0.0445\n",
      "Training Accuracy: 0.9558, Testing Accuracy: 0.9642\n",
      "\n"
     ]
    },
    {
     "name": "stdout",
     "output_type": "stream",
     "text": [
      "Epoch 120, Loss 0.0435\n",
      "Training Accuracy: 0.9564, Testing Accuracy: 0.9647\n",
      "\n"
     ]
    },
    {
     "name": "stdout",
     "output_type": "stream",
     "text": [
      "Epoch 130, Loss 0.0425\n",
      "Training Accuracy: 0.9573, Testing Accuracy: 0.9652\n",
      "\n"
     ]
    },
    {
     "name": "stdout",
     "output_type": "stream",
     "text": [
      "Epoch 140, Loss 0.0417\n",
      "Training Accuracy: 0.9578, Testing Accuracy: 0.9657\n",
      "\n"
     ]
    },
    {
     "name": "stdout",
     "output_type": "stream",
     "text": [
      "Epoch 150, Loss 0.041\n",
      "Training Accuracy: 0.9582, Testing Accuracy: 0.9662\n",
      "\n"
     ]
    },
    {
     "name": "stdout",
     "output_type": "stream",
     "text": [
      "Epoch 160, Loss 0.0404\n",
      "Training Accuracy: 0.9588, Testing Accuracy: 0.9667\n",
      "\n"
     ]
    },
    {
     "name": "stdout",
     "output_type": "stream",
     "text": [
      "Epoch 170, Loss 0.0398\n",
      "Training Accuracy: 0.9590, Testing Accuracy: 0.9672\n",
      "\n"
     ]
    },
    {
     "name": "stdout",
     "output_type": "stream",
     "text": [
      "Epoch 180, Loss 0.0392\n",
      "Training Accuracy: 0.9593, Testing Accuracy: 0.9672\n",
      "\n"
     ]
    },
    {
     "name": "stdout",
     "output_type": "stream",
     "text": [
      "Epoch 190, Loss 0.0387\n",
      "Training Accuracy: 0.9599, Testing Accuracy: 0.9677\n",
      "\n"
     ]
    },
    {
     "name": "stdout",
     "output_type": "stream",
     "text": [
      "Epoch 200, Loss 0.0382\n",
      "Training Accuracy: 0.9603, Testing Accuracy: 0.9682\n",
      "\n"
     ]
    },
    {
     "name": "stdout",
     "output_type": "stream",
     "text": [
      "Epoch 210, Loss 0.0378\n",
      "Training Accuracy: 0.9606, Testing Accuracy: 0.9677\n",
      "\n"
     ]
    },
    {
     "name": "stdout",
     "output_type": "stream",
     "text": [
      "Epoch 220, Loss 0.0374\n",
      "Training Accuracy: 0.9608, Testing Accuracy: 0.9688\n",
      "\n"
     ]
    },
    {
     "name": "stdout",
     "output_type": "stream",
     "text": [
      "Epoch 230, Loss 0.037\n",
      "Training Accuracy: 0.9613, Testing Accuracy: 0.9688\n",
      "\n"
     ]
    },
    {
     "name": "stdout",
     "output_type": "stream",
     "text": [
      "Epoch 240, Loss 0.0367\n",
      "Training Accuracy: 0.9614, Testing Accuracy: 0.9688\n",
      "\n"
     ]
    },
    {
     "data": {
      "text/plain": [
       "0.016114031029447543"
      ]
     },
     "execution_count": 23,
     "metadata": {},
     "output_type": "execute_result"
    }
   ],
   "source": [
    "lr_learner.train_loop(dl)"
   ]
  },
  {
   "cell_type": "code",
   "execution_count": 24,
   "id": "ca410940",
   "metadata": {
    "execution": {
     "iopub.execute_input": "2022-06-29T00:39:44.328537Z",
     "iopub.status.busy": "2022-06-29T00:39:44.323628Z",
     "iopub.status.idle": "2022-06-29T00:39:44.582667Z",
     "shell.execute_reply": "2022-06-29T00:39:44.583788Z"
    },
    "papermill": {
     "duration": 0.317952,
     "end_time": "2022-06-29T00:39:44.584020",
     "exception": false,
     "start_time": "2022-06-29T00:39:44.266068",
     "status": "completed"
    },
    "tags": []
   },
   "outputs": [
    {
     "data": {
      "text/plain": [
       "<matplotlib.legend.Legend at 0x7fd66c7b6b00>"
      ]
     },
     "execution_count": 24,
     "metadata": {},
     "output_type": "execute_result"
    },
    {
     "data": {
      "image/png": "[encoded data removed]",
      "text/plain": [
       "<Figure size 1080x720 with 1 Axes>"
      ]
     },
     "metadata": {
      "needs_background": "light"
     },
     "output_type": "display_data"
    }
   ],
   "source": [
    "#comparing the results of NN and LR\n",
    "plt.figure(figsize=(15,10))\n",
    "\n",
    "# Neural Network plots\n",
    "plt.plot(acc_nn.accuracies, 'r-', label = \"Training Accuracies - NN\")\n",
    "plt.plot(acc_nn.test_accuracies, 'g-', label = \"Testing Accuracies - NN\")\n",
    "\n",
    "# Logistic Regression plots\n",
    "plt.plot(acc_lr.accuracies, 'k-', label = \"Training Accuracies - LR\")\n",
    "plt.plot(acc_lr.test_accuracies, 'b-', label = \"Testing Accuracies - LR\")\n",
    "plt.legend()"
   ]
  },
  {
   "cell_type": "markdown",
   "id": "80dfb35c",
   "metadata": {
    "papermill": {
     "duration": 0.043173,
     "end_time": "2022-06-29T00:39:44.671005",
     "exception": false,
     "start_time": "2022-06-29T00:39:44.627832",
     "status": "completed"
    },
    "tags": []
   },
   "source": [
    "#### Plotting the outputs of this layer of the NN.\n"
   ]
  },
  {
   "cell_type": "code",
   "execution_count": 25,
   "id": "45eb2ff5",
   "metadata": {
    "execution": {
     "iopub.execute_input": "2022-06-29T00:39:44.776371Z",
     "iopub.status.busy": "2022-06-29T00:39:44.772527Z",
     "iopub.status.idle": "2022-06-29T00:39:44.795151Z",
     "shell.execute_reply": "2022-06-29T00:39:44.795768Z"
    },
    "papermill": {
     "duration": 0.081643,
     "end_time": "2022-06-29T00:39:44.795963",
     "exception": false,
     "start_time": "2022-06-29T00:39:44.714320",
     "status": "completed"
    },
    "tags": []
   },
   "outputs": [],
   "source": [
    "new_model = Model(layers[:-2])\n",
    "testing_plot = new_model(testing_data_x)"
   ]
  },
  {
   "cell_type": "code",
   "execution_count": 26,
   "id": "4c0a5485",
   "metadata": {
    "execution": {
     "iopub.execute_input": "2022-06-29T00:39:44.889586Z",
     "iopub.status.busy": "2022-06-29T00:39:44.888911Z",
     "iopub.status.idle": "2022-06-29T00:39:45.138285Z",
     "shell.execute_reply": "2022-06-29T00:39:45.138817Z"
    },
    "papermill": {
     "duration": 0.298546,
     "end_time": "2022-06-29T00:39:45.139007",
     "exception": false,
     "start_time": "2022-06-29T00:39:44.840461",
     "status": "completed"
    },
    "tags": []
   },
   "outputs": [
    {
     "data": {
      "text/plain": [
       "Text(0.5, 1.0, 'Outputs')"
      ]
     },
     "execution_count": 26,
     "metadata": {},
     "output_type": "execute_result"
    },
    {
     "data": {
      "image/png": "[encoded data removed]",
      "text/plain": [
       "<Figure size 576x504 with 1 Axes>"
      ]
     },
     "metadata": {
      "needs_background": "light"
     },
     "output_type": "display_data"
    }
   ],
   "source": [
    "# Plotting the scatter plot of points and color coding by class\n",
    "plt.figure(figsize=(8,7))\n",
    "plt.scatter(testing_plot[:,0], testing_plot[:,1], alpha = 0.1, c = y_test.ravel());\n",
    "plt.title('Outputs')"
   ]
  },
  {
   "cell_type": "markdown",
   "id": "a74fcf8f",
   "metadata": {
    "papermill": {
     "duration": 0.046872,
     "end_time": "2022-06-29T00:39:45.232937",
     "exception": false,
     "start_time": "2022-06-29T00:39:45.186065",
     "status": "completed"
    },
    "tags": []
   },
   "source": [
    "Probability contours"
   ]
  },
  {
   "cell_type": "code",
   "execution_count": 27,
   "id": "d0afc8e3",
   "metadata": {
    "execution": {
     "iopub.execute_input": "2022-06-29T00:39:45.396246Z",
     "iopub.status.busy": "2022-06-29T00:39:45.395463Z",
     "iopub.status.idle": "2022-06-29T00:39:45.411210Z",
     "shell.execute_reply": "2022-06-29T00:39:45.411793Z"
    },
    "papermill": {
     "duration": 0.069902,
     "end_time": "2022-06-29T00:39:45.411997",
     "exception": false,
     "start_time": "2022-06-29T00:39:45.342095",
     "status": "completed"
    },
    "tags": []
   },
   "outputs": [],
   "source": [
    "model_prob = Model(layers[-2:]) "
   ]
  },
  {
   "cell_type": "code",
   "execution_count": 28,
   "id": "9b96e238",
   "metadata": {
    "execution": {
     "iopub.execute_input": "2022-06-29T00:39:45.530544Z",
     "iopub.status.busy": "2022-06-29T00:39:45.528389Z",
     "iopub.status.idle": "2022-06-29T00:39:45.533624Z",
     "shell.execute_reply": "2022-06-29T00:39:45.534210Z"
    },
    "papermill": {
     "duration": 0.075323,
     "end_time": "2022-06-29T00:39:45.534387",
     "exception": false,
     "start_time": "2022-06-29T00:39:45.459064",
     "status": "completed"
    },
    "tags": []
   },
   "outputs": [],
   "source": [
    "#creating the x and y ranges according to the above generated plot.\n",
    "x_range = np.linspace(-4, 1, 100) \n",
    "y_range = np.linspace(-6, 6, 100) \n",
    "x_grid, y_grid = np.meshgrid(x_range, y_range) # x_grid and y_grig are of size 100 X 100\n",
    "\n",
    "# converting x_grid and y_grid to continuous arrays\n",
    "x_gridflat = np.ravel(x_grid)\n",
    "y_gridflat = np.ravel(y_grid)\n",
    "\n",
    "# The last layer of the current model takes two columns as input. Hence transpose of np.vstack() is required.\n",
    "X = np.vstack((x_gridflat, y_gridflat)).T\n",
    "\n",
    "prob_contour = model_prob(X).reshape(100,100) "
   ]
  },
  {
   "cell_type": "code",
   "execution_count": 29,
   "id": "da72499a",
   "metadata": {
    "execution": {
     "iopub.execute_input": "2022-06-29T00:39:45.643015Z",
     "iopub.status.busy": "2022-06-29T00:39:45.642294Z",
     "iopub.status.idle": "2022-06-29T00:39:45.900872Z",
     "shell.execute_reply": "2022-06-29T00:39:45.901409Z"
    },
    "papermill": {
     "duration": 0.318132,
     "end_time": "2022-06-29T00:39:45.901588",
     "exception": false,
     "start_time": "2022-06-29T00:39:45.583456",
     "status": "completed"
    },
    "tags": []
   },
   "outputs": [
    {
     "data": {
      "image/png": "[encoded data removed]",
      "text/plain": [
       "<Figure size 720x648 with 1 Axes>"
      ]
     },
     "metadata": {
      "needs_background": "light"
     },
     "output_type": "display_data"
    }
   ],
   "source": [
    "plt.figure(figsize=(10,9))\n",
    "plt.scatter(testing_plot[:,0], testing_plot[:,1], alpha = 0.1, c = y_test.ravel())\n",
    "contours = plt.contour(x_grid,y_grid,prob_contour)\n",
    "plt.title('Probability Contours')\n",
    "plt.clabel(contours, inline = True );"
   ]
  },
  {
   "cell_type": "code",
   "execution_count": null,
   "id": "e81b4ac7",
   "metadata": {
    "papermill": {
     "duration": 0.049216,
     "end_time": "2022-06-29T00:39:46.000192",
     "exception": false,
     "start_time": "2022-06-29T00:39:45.950976",
     "status": "completed"
    },
    "tags": []
   },
   "outputs": [],
   "source": []
  }
 ],
 "metadata": {
  "kernelspec": {
   "display_name": "Python 3",
   "language": "python",
   "name": "python3"
  },
  "language_info": {
   "codemirror_mode": {
    "name": "ipython",
    "version": 3
   },
   "file_extension": ".py",
   "mimetype": "text/x-python",
   "name": "python",
   "nbconvert_exporter": "python",
   "pygments_lexer": "ipython3",
   "version": "3.6.15"
  },
  "papermill": {
   "default_parameters": {},
   "duration": 126.385667,
   "end_time": "2022-06-29T00:39:46.672858",
   "environment_variables": {},
   "exception": null,
   "input_path": "2020-08-11-part2.ipynb",
   "output_path": "2020-08-11-part2.ipynb",
   "parameters": {},
   "start_time": "2022-06-29T00:37:40.287191",
   "version": "2.3.3"
  }
 },
 "nbformat": 4,
 "nbformat_minor": 5
}