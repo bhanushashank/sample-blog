{
 "cells": [
  {
   "cell_type": "markdown",
   "id": "98380cd3",
   "metadata": {
    "papermill": {
     "duration": 0.034084,
     "end_time": "2022-10-24T20:12:24.695909",
     "exception": false,
     "start_time": "2022-10-24T20:12:24.661825",
     "status": "completed"
    },
    "tags": []
   },
   "source": [
    "# Distinguish Your Own Digits (DYOD)"
   ]
  },
  {
   "cell_type": "markdown",
   "id": "ef31240d",
   "metadata": {
    "papermill": {
     "duration": 0.02601,
     "end_time": "2022-10-24T20:12:24.747878",
     "exception": false,
     "start_time": "2022-10-24T20:12:24.721868",
     "status": "completed"
    },
    "tags": []
   },
   "source": [
    "You are going to write a classifier that distinguishes between the number 3 and number 8."
   ]
  },
  {
   "cell_type": "code",
   "execution_count": 1,
   "id": "b15c8646",
   "metadata": {
    "execution": {
     "iopub.execute_input": "2022-10-24T20:12:24.809039Z",
     "iopub.status.busy": "2022-10-24T20:12:24.808386Z",
     "iopub.status.idle": "2022-10-24T20:12:24.820155Z",
     "shell.execute_reply": "2022-10-24T20:12:24.819629Z"
    },
    "papermill": {
     "duration": 0.046394,
     "end_time": "2022-10-24T20:12:24.820308",
     "exception": false,
     "start_time": "2022-10-24T20:12:24.773914",
     "status": "completed"
    },
    "tags": []
   },
   "outputs": [],
   "source": [
    "%load_ext autoreload\n",
    "%autoreload 2"
   ]
  },
  {
   "cell_type": "code",
   "execution_count": 2,
   "id": "22ef38dc",
   "metadata": {
    "execution": {
     "iopub.execute_input": "2022-10-24T20:12:24.883827Z",
     "iopub.status.busy": "2022-10-24T20:12:24.878206Z",
     "iopub.status.idle": "2022-10-24T20:12:25.452580Z",
     "shell.execute_reply": "2022-10-24T20:12:25.451665Z"
    },
    "papermill": {
     "duration": 0.608222,
     "end_time": "2022-10-24T20:12:25.452727",
     "exception": false,
     "start_time": "2022-10-24T20:12:24.844505",
     "status": "completed"
    },
    "tags": []
   },
   "outputs": [],
   "source": [
    "%matplotlib inline\n",
    "import numpy as np\n",
    "import matplotlib.pyplot as plt\n",
    "import pandas as pd"
   ]
  },
  {
   "cell_type": "markdown",
   "id": "ba036198",
   "metadata": {
    "papermill": {
     "duration": 0.024203,
     "end_time": "2022-10-24T20:12:25.502564",
     "exception": false,
     "start_time": "2022-10-24T20:12:25.478361",
     "status": "completed"
    },
    "tags": []
   },
   "source": [
    "From the command line run `pip install mnist`. This is a library that will help you bring down the mnist dataset. If you run this from a notebook, you need to put  `!pip install mnist` in a cell by itself."
   ]
  },
  {
   "cell_type": "code",
   "execution_count": 3,
   "id": "bb6ad8a1",
   "metadata": {
    "execution": {
     "iopub.execute_input": "2022-10-24T20:12:25.560164Z",
     "iopub.status.busy": "2022-10-24T20:12:25.554396Z",
     "iopub.status.idle": "2022-10-24T20:12:27.310897Z",
     "shell.execute_reply": "2022-10-24T20:12:27.311490Z"
    },
    "papermill": {
     "duration": 1.785129,
     "end_time": "2022-10-24T20:12:27.311653",
     "exception": false,
     "start_time": "2022-10-24T20:12:25.526524",
     "status": "completed"
    },
    "tags": []
   },
   "outputs": [
    {
     "name": "stdout",
     "output_type": "stream",
     "text": [
      "Collecting mnist\r\n"
     ]
    },
    {
     "name": "stdout",
     "output_type": "stream",
     "text": [
      "  Downloading mnist-0.2.2-py2.py3-none-any.whl (3.5 kB)\r\n",
      "Requirement already satisfied: numpy in /opt/hostedtoolcache/Python/3.6.15/x64/lib/python3.6/site-packages (from mnist) (1.19.5)\r\n"
     ]
    },
    {
     "name": "stdout",
     "output_type": "stream",
     "text": [
      "Installing collected packages: mnist\r\n",
      "Successfully installed mnist-0.2.2\r\n"
     ]
    }
   ],
   "source": [
    "!pip install mnist"
   ]
  },
  {
   "cell_type": "markdown",
   "id": "69df9c9a",
   "metadata": {
    "papermill": {
     "duration": 0.024724,
     "end_time": "2022-10-24T20:12:27.361678",
     "exception": false,
     "start_time": "2022-10-24T20:12:27.336954",
     "status": "completed"
    },
    "tags": []
   },
   "source": [
    "## Preparing the Data"
   ]
  },
  {
   "cell_type": "code",
   "execution_count": 4,
   "id": "7f69d806",
   "metadata": {
    "execution": {
     "iopub.execute_input": "2022-10-24T20:12:27.416195Z",
     "iopub.status.busy": "2022-10-24T20:12:27.415444Z",
     "iopub.status.idle": "2022-10-24T20:12:27.430942Z",
     "shell.execute_reply": "2022-10-24T20:12:27.430387Z"
    },
    "papermill": {
     "duration": 0.044488,
     "end_time": "2022-10-24T20:12:27.431082",
     "exception": false,
     "start_time": "2022-10-24T20:12:27.386594",
     "status": "completed"
    },
    "tags": []
   },
   "outputs": [],
   "source": [
    "import mnist"
   ]
  },
  {
   "cell_type": "code",
   "execution_count": 5,
   "id": "a411e44f",
   "metadata": {
    "execution": {
     "iopub.execute_input": "2022-10-24T20:12:27.487149Z",
     "iopub.status.busy": "2022-10-24T20:12:27.486494Z",
     "iopub.status.idle": "2022-10-24T20:12:28.044121Z",
     "shell.execute_reply": "2022-10-24T20:12:28.043524Z"
    },
    "papermill": {
     "duration": 0.588122,
     "end_time": "2022-10-24T20:12:28.044269",
     "exception": false,
     "start_time": "2022-10-24T20:12:27.456147",
     "status": "completed"
    },
    "tags": []
   },
   "outputs": [],
   "source": [
    "train_images = mnist.train_images()\n",
    "train_labels = mnist.train_labels()"
   ]
  },
  {
   "cell_type": "code",
   "execution_count": 6,
   "id": "dceab3a5",
   "metadata": {
    "execution": {
     "iopub.execute_input": "2022-10-24T20:12:28.098822Z",
     "iopub.status.busy": "2022-10-24T20:12:28.098177Z",
     "iopub.status.idle": "2022-10-24T20:12:28.113808Z",
     "shell.execute_reply": "2022-10-24T20:12:28.114292Z"
    },
    "papermill": {
     "duration": 0.044801,
     "end_time": "2022-10-24T20:12:28.114436",
     "exception": false,
     "start_time": "2022-10-24T20:12:28.069635",
     "status": "completed"
    },
    "tags": []
   },
   "outputs": [
    {
     "data": {
      "text/plain": [
       "((60000, 28, 28), (60000,))"
      ]
     },
     "execution_count": 6,
     "metadata": {},
     "output_type": "execute_result"
    }
   ],
   "source": [
    "train_images.shape, train_labels.shape"
   ]
  },
  {
   "cell_type": "code",
   "execution_count": 7,
   "id": "f50dc2bb",
   "metadata": {
    "execution": {
     "iopub.execute_input": "2022-10-24T20:12:28.177841Z",
     "iopub.status.busy": "2022-10-24T20:12:28.172468Z",
     "iopub.status.idle": "2022-10-24T20:12:28.379000Z",
     "shell.execute_reply": "2022-10-24T20:12:28.379578Z"
    },
    "papermill": {
     "duration": 0.240134,
     "end_time": "2022-10-24T20:12:28.379743",
     "exception": false,
     "start_time": "2022-10-24T20:12:28.139609",
     "status": "completed"
    },
    "tags": []
   },
   "outputs": [],
   "source": [
    "test_images = mnist.test_images()\n",
    "test_labels = mnist.test_labels()"
   ]
  },
  {
   "cell_type": "code",
   "execution_count": 8,
   "id": "fc38cf1b",
   "metadata": {
    "execution": {
     "iopub.execute_input": "2022-10-24T20:12:28.434939Z",
     "iopub.status.busy": "2022-10-24T20:12:28.434206Z",
     "iopub.status.idle": "2022-10-24T20:12:28.448024Z",
     "shell.execute_reply": "2022-10-24T20:12:28.447528Z"
    },
    "papermill": {
     "duration": 0.043119,
     "end_time": "2022-10-24T20:12:28.448153",
     "exception": false,
     "start_time": "2022-10-24T20:12:28.405034",
     "status": "completed"
    },
    "tags": []
   },
   "outputs": [
    {
     "data": {
      "text/plain": [
       "((10000, 28, 28), (10000,))"
      ]
     },
     "execution_count": 8,
     "metadata": {},
     "output_type": "execute_result"
    }
   ],
   "source": [
    "test_images.shape, test_labels.shape"
   ]
  },
  {
   "cell_type": "code",
   "execution_count": 9,
   "id": "f9ed8fe0",
   "metadata": {
    "execution": {
     "iopub.execute_input": "2022-10-24T20:12:28.503679Z",
     "iopub.status.busy": "2022-10-24T20:12:28.503043Z",
     "iopub.status.idle": "2022-10-24T20:12:28.647903Z",
     "shell.execute_reply": "2022-10-24T20:12:28.648434Z"
    },
    "papermill": {
     "duration": 0.174973,
     "end_time": "2022-10-24T20:12:28.648594",
     "exception": false,
     "start_time": "2022-10-24T20:12:28.473621",
     "status": "completed"
    },
    "tags": []
   },
   "outputs": [
    {
     "name": "stdout",
     "output_type": "stream",
     "text": [
      "2\n"
     ]
    },
    {
     "data": {
      "text/plain": [
       "<matplotlib.image.AxesImage at 0x7fcbd9e82c88>"
      ]
     },
     "execution_count": 9,
     "metadata": {},
     "output_type": "execute_result"
    },
    {
     "data": {
      "image/png": "[encoded data removed]",
      "text/plain": [
       "<Figure size 432x288 with 1 Axes>"
      ]
     },
     "metadata": {
      "needs_background": "light"
     },
     "output_type": "display_data"
    }
   ],
   "source": [
    "image_index = 7776 # You may select anything up to 60,000\n",
    "print(train_labels[image_index]) \n",
    "plt.imshow(train_images[image_index], cmap='Greys')"
   ]
  },
  {
   "cell_type": "markdown",
   "id": "a8d2388d",
   "metadata": {
    "papermill": {
     "duration": 0.02718,
     "end_time": "2022-10-24T20:12:28.703473",
     "exception": false,
     "start_time": "2022-10-24T20:12:28.676293",
     "status": "completed"
    },
    "tags": []
   },
   "source": [
    "## Filter data to get 3 and 8 out"
   ]
  },
  {
   "cell_type": "code",
   "execution_count": 10,
   "id": "776f7fc7",
   "metadata": {
    "execution": {
     "iopub.execute_input": "2022-10-24T20:12:28.762582Z",
     "iopub.status.busy": "2022-10-24T20:12:28.761959Z",
     "iopub.status.idle": "2022-10-24T20:12:28.782476Z",
     "shell.execute_reply": "2022-10-24T20:12:28.781924Z"
    },
    "papermill": {
     "duration": 0.052454,
     "end_time": "2022-10-24T20:12:28.782602",
     "exception": false,
     "start_time": "2022-10-24T20:12:28.730148",
     "status": "completed"
    },
    "tags": []
   },
   "outputs": [],
   "source": [
    "train_filter = np.where((train_labels == 3 ) | (train_labels == 8))\n",
    "test_filter = np.where((test_labels == 3) | (test_labels == 8))\n",
    "X_train, y_train = train_images[train_filter], train_labels[train_filter]\n",
    "X_test, y_test = test_images[test_filter], test_labels[test_filter]"
   ]
  },
  {
   "cell_type": "markdown",
   "id": "948f0b7e",
   "metadata": {
    "papermill": {
     "duration": 0.026429,
     "end_time": "2022-10-24T20:12:28.835774",
     "exception": false,
     "start_time": "2022-10-24T20:12:28.809345",
     "status": "completed"
    },
    "tags": []
   },
   "source": [
    "We normalize the pizel values in the 0 to 1 range"
   ]
  },
  {
   "cell_type": "code",
   "execution_count": 11,
   "id": "ee4c2166",
   "metadata": {
    "execution": {
     "iopub.execute_input": "2022-10-24T20:12:28.896261Z",
     "iopub.status.busy": "2022-10-24T20:12:28.895618Z",
     "iopub.status.idle": "2022-10-24T20:12:28.945948Z",
     "shell.execute_reply": "2022-10-24T20:12:28.945371Z"
    },
    "papermill": {
     "duration": 0.083998,
     "end_time": "2022-10-24T20:12:28.946097",
     "exception": false,
     "start_time": "2022-10-24T20:12:28.862099",
     "status": "completed"
    },
    "tags": []
   },
   "outputs": [],
   "source": [
    "X_train = X_train/255.\n",
    "X_test = X_test/255."
   ]
  },
  {
   "cell_type": "markdown",
   "id": "ddcf4fab",
   "metadata": {
    "papermill": {
     "duration": 0.026667,
     "end_time": "2022-10-24T20:12:29.000285",
     "exception": false,
     "start_time": "2022-10-24T20:12:28.973618",
     "status": "completed"
    },
    "tags": []
   },
   "source": [
    "And setup the labels as 1 (when the digit is 3) and 0 (when the digit is 8)"
   ]
  },
  {
   "cell_type": "code",
   "execution_count": 12,
   "id": "7dc908f2",
   "metadata": {
    "execution": {
     "iopub.execute_input": "2022-10-24T20:12:29.059268Z",
     "iopub.status.busy": "2022-10-24T20:12:29.058598Z",
     "iopub.status.idle": "2022-10-24T20:12:29.072352Z",
     "shell.execute_reply": "2022-10-24T20:12:29.071863Z"
    },
    "papermill": {
     "duration": 0.045516,
     "end_time": "2022-10-24T20:12:29.072478",
     "exception": false,
     "start_time": "2022-10-24T20:12:29.026962",
     "status": "completed"
    },
    "tags": []
   },
   "outputs": [],
   "source": [
    "y_train = 1*(y_train==3)\n",
    "y_test = 1*(y_test==3)"
   ]
  },
  {
   "cell_type": "code",
   "execution_count": 13,
   "id": "01e4e969",
   "metadata": {
    "execution": {
     "iopub.execute_input": "2022-10-24T20:12:29.130338Z",
     "iopub.status.busy": "2022-10-24T20:12:29.129721Z",
     "iopub.status.idle": "2022-10-24T20:12:29.147549Z",
     "shell.execute_reply": "2022-10-24T20:12:29.147068Z"
    },
    "papermill": {
     "duration": 0.0484,
     "end_time": "2022-10-24T20:12:29.147677",
     "exception": false,
     "start_time": "2022-10-24T20:12:29.099277",
     "status": "completed"
    },
    "tags": []
   },
   "outputs": [
    {
     "data": {
      "text/plain": [
       "((11982, 28, 28), (1984, 28, 28))"
      ]
     },
     "execution_count": 13,
     "metadata": {},
     "output_type": "execute_result"
    }
   ],
   "source": [
    "X_train.shape, X_test.shape"
   ]
  },
  {
   "cell_type": "markdown",
   "id": "5ccf3f85",
   "metadata": {
    "papermill": {
     "duration": 0.026801,
     "end_time": "2022-10-24T20:12:29.201321",
     "exception": false,
     "start_time": "2022-10-24T20:12:29.174520",
     "status": "completed"
    },
    "tags": []
   },
   "source": [
    "We reshape the data to flatten the image pixels into a set of features or co-variates:"
   ]
  },
  {
   "cell_type": "code",
   "execution_count": 14,
   "id": "5286a4a3",
   "metadata": {
    "execution": {
     "iopub.execute_input": "2022-10-24T20:12:29.261223Z",
     "iopub.status.busy": "2022-10-24T20:12:29.260587Z",
     "iopub.status.idle": "2022-10-24T20:12:29.274406Z",
     "shell.execute_reply": "2022-10-24T20:12:29.274925Z"
    },
    "papermill": {
     "duration": 0.046878,
     "end_time": "2022-10-24T20:12:29.275077",
     "exception": false,
     "start_time": "2022-10-24T20:12:29.228199",
     "status": "completed"
    },
    "tags": []
   },
   "outputs": [
    {
     "data": {
      "text/plain": [
       "((11982, 784), (1984, 784))"
      ]
     },
     "execution_count": 14,
     "metadata": {},
     "output_type": "execute_result"
    }
   ],
   "source": [
    "X_train = X_train.reshape(X_train.shape[0], -1)\n",
    "X_test = X_test.reshape(X_test.shape[0], -1)\n",
    "X_train.shape, X_test.shape"
   ]
  },
  {
   "cell_type": "code",
   "execution_count": 15,
   "id": "73c5f88a",
   "metadata": {
    "execution": {
     "iopub.execute_input": "2022-10-24T20:12:29.337054Z",
     "iopub.status.busy": "2022-10-24T20:12:29.336392Z",
     "iopub.status.idle": "2022-10-24T20:12:29.355324Z",
     "shell.execute_reply": "2022-10-24T20:12:29.354780Z"
    },
    "papermill": {
     "duration": 0.053257,
     "end_time": "2022-10-24T20:12:29.355460",
     "exception": false,
     "start_time": "2022-10-24T20:12:29.302203",
     "status": "completed"
    },
    "tags": []
   },
   "outputs": [],
   "source": [
    "#Impoting functions from 'Kudzu'\n",
    "from kudzu.model import Model\n",
    "from kudzu.train import Learner\n",
    "from kudzu.optim import GD\n",
    "from kudzu.data import Data, Sampler,Dataloader\n",
    "\n",
    "from kudzu.callbacks import AccCallback\n",
    "from kudzu.callbacks import ClfCallback\n",
    "\n",
    "from kudzu.loss import MSE\n",
    "\n",
    "from kudzu.layer import Sigmoid,Relu\n",
    "from kudzu.layer import Affine"
   ]
  },
  {
   "cell_type": "markdown",
   "id": "bc01172a",
   "metadata": {
    "papermill": {
     "duration": 0.027052,
     "end_time": "2022-10-24T20:12:29.410189",
     "exception": false,
     "start_time": "2022-10-24T20:12:29.383137",
     "status": "completed"
    },
    "tags": []
   },
   "source": [
    "### Let us create a `Config` class, to store important parameters. \n",
    "This class essentially plays the role of a dictionary."
   ]
  },
  {
   "cell_type": "code",
   "execution_count": 16,
   "id": "978281aa",
   "metadata": {
    "execution": {
     "iopub.execute_input": "2022-10-24T20:12:29.477608Z",
     "iopub.status.busy": "2022-10-24T20:12:29.476934Z",
     "iopub.status.idle": "2022-10-24T20:12:29.485216Z",
     "shell.execute_reply": "2022-10-24T20:12:29.484673Z"
    },
    "papermill": {
     "duration": 0.048143,
     "end_time": "2022-10-24T20:12:29.485350",
     "exception": false,
     "start_time": "2022-10-24T20:12:29.437207",
     "status": "completed"
    },
    "tags": []
   },
   "outputs": [],
   "source": [
    "class Config:\n",
    "    pass\n",
    "config = Config()\n",
    "config.lr = 0.001\n",
    "config.num_epochs = 250\n",
    "config.bs = 50"
   ]
  },
  {
   "cell_type": "markdown",
   "id": "1385fa59",
   "metadata": {
    "papermill": {
     "duration": 0.027227,
     "end_time": "2022-10-24T20:12:29.540168",
     "exception": false,
     "start_time": "2022-10-24T20:12:29.512941",
     "status": "completed"
    },
    "tags": []
   },
   "source": [
    "### Running Models with the Training data\n",
    "Details about the network layers:\n",
    "- A first affine layer has 784 inputs and does 100 affine transforms. These are followed by a Relu\n",
    "- A second affine layer has 100 inputs from the 100 activations of the past layer, and does 100 affine transforms. These are followed by a Relu\n",
    "- A third affine layer has 100 activations and does 2 affine transformations to create an embedding for visualization. There is no non-linearity here.\n",
    "- A final \"logistic regression\" which has an affine transform from 2 inputs to 1 output, which is squeezed through a sigmoid.\n"
   ]
  },
  {
   "cell_type": "code",
   "execution_count": 17,
   "id": "2b9c66db",
   "metadata": {
    "execution": {
     "iopub.execute_input": "2022-10-24T20:12:29.599493Z",
     "iopub.status.busy": "2022-10-24T20:12:29.598818Z",
     "iopub.status.idle": "2022-10-24T20:12:29.612498Z",
     "shell.execute_reply": "2022-10-24T20:12:29.613010Z"
    },
    "papermill": {
     "duration": 0.045716,
     "end_time": "2022-10-24T20:12:29.613165",
     "exception": false,
     "start_time": "2022-10-24T20:12:29.567449",
     "status": "completed"
    },
    "tags": []
   },
   "outputs": [],
   "source": [
    "data = Data(X_train, y_train.reshape(-1,1))\n",
    "sampler = Sampler(data, config.bs, shuffle=True)\n",
    "\n",
    "dl = Dataloader(data, sampler)\n",
    "\n",
    "opt = GD(config.lr)\n",
    "loss = MSE()"
   ]
  },
  {
   "cell_type": "code",
   "execution_count": 18,
   "id": "b275e4c2",
   "metadata": {
    "execution": {
     "iopub.execute_input": "2022-10-24T20:12:29.676881Z",
     "iopub.status.busy": "2022-10-24T20:12:29.676029Z",
     "iopub.status.idle": "2022-10-24T20:12:29.687058Z",
     "shell.execute_reply": "2022-10-24T20:12:29.686494Z"
    },
    "papermill": {
     "duration": 0.04672,
     "end_time": "2022-10-24T20:12:29.687196",
     "exception": false,
     "start_time": "2022-10-24T20:12:29.640476",
     "status": "completed"
    },
    "tags": []
   },
   "outputs": [],
   "source": [
    "training_data_x = X_train\n",
    "testing_data_x = X_test\n",
    "training_data_y = y_train.reshape(-1,1)\n",
    "testing_data_y = y_test.reshape(-1,1)"
   ]
  },
  {
   "cell_type": "code",
   "execution_count": 19,
   "id": "76951160",
   "metadata": {
    "execution": {
     "iopub.execute_input": "2022-10-24T20:12:29.747926Z",
     "iopub.status.busy": "2022-10-24T20:12:29.747227Z",
     "iopub.status.idle": "2022-10-24T20:12:29.764034Z",
     "shell.execute_reply": "2022-10-24T20:12:29.764500Z"
    },
    "papermill": {
     "duration": 0.049676,
     "end_time": "2022-10-24T20:12:29.764649",
     "exception": false,
     "start_time": "2022-10-24T20:12:29.714973",
     "status": "completed"
    },
    "tags": []
   },
   "outputs": [
    {
     "name": "stdout",
     "output_type": "stream",
     "text": [
      "xavier\n",
      "xavier\n",
      "xavier\n",
      "xavier\n",
      "xavier\n"
     ]
    }
   ],
   "source": [
    "layers = [Affine(\"first\", 784, 100), Relu(\"first\"), Affine(\"second\", 100, 100), Relu(\"second\"), Affine(\"third\", 100, 2), Affine(\"last\", 2, 1), Sigmoid(\"last\")]\n",
    "model_nn = Model(layers)\n",
    "model_lr = Model([Affine(\"logits\", 784, 1), Sigmoid(\"sigmoid\")])"
   ]
  },
  {
   "cell_type": "code",
   "execution_count": 20,
   "id": "6eede77a",
   "metadata": {
    "execution": {
     "iopub.execute_input": "2022-10-24T20:12:29.825286Z",
     "iopub.status.busy": "2022-10-24T20:12:29.824682Z",
     "iopub.status.idle": "2022-10-24T20:12:29.837919Z",
     "shell.execute_reply": "2022-10-24T20:12:29.837397Z"
    },
    "papermill": {
     "duration": 0.045807,
     "end_time": "2022-10-24T20:12:29.838044",
     "exception": false,
     "start_time": "2022-10-24T20:12:29.792237",
     "status": "completed"
    },
    "tags": []
   },
   "outputs": [],
   "source": [
    "nn_learner = Learner(loss, model_nn, opt, config.num_epochs)\n",
    "acc_nn = ClfCallback(nn_learner, config.bs, training_data_x , testing_data_x, training_data_y, testing_data_y)\n",
    "nn_learner.set_callbacks([acc_nn])"
   ]
  },
  {
   "cell_type": "code",
   "execution_count": 21,
   "id": "877b6cc7",
   "metadata": {
    "execution": {
     "iopub.execute_input": "2022-10-24T20:12:29.898456Z",
     "iopub.status.busy": "2022-10-24T20:12:29.897771Z",
     "iopub.status.idle": "2022-10-24T20:12:29.910825Z",
     "shell.execute_reply": "2022-10-24T20:12:29.910275Z"
    },
    "papermill": {
     "duration": 0.045216,
     "end_time": "2022-10-24T20:12:29.910968",
     "exception": false,
     "start_time": "2022-10-24T20:12:29.865752",
     "status": "completed"
    },
    "tags": []
   },
   "outputs": [],
   "source": [
    "lr_learner = Learner(loss, model_lr, opt, config.num_epochs)\n",
    "acc_lr = ClfCallback(lr_learner, config.bs, training_data_x , testing_data_x, training_data_y, testing_data_y)\n",
    "lr_learner.set_callbacks([acc_lr])"
   ]
  },
  {
   "cell_type": "code",
   "execution_count": 22,
   "id": "d9b133c3",
   "metadata": {
    "execution": {
     "iopub.execute_input": "2022-10-24T20:12:29.970129Z",
     "iopub.status.busy": "2022-10-24T20:12:29.969520Z",
     "iopub.status.idle": "2022-10-24T20:13:58.451464Z",
     "shell.execute_reply": "2022-10-24T20:13:58.452498Z"
    },
    "papermill": {
     "duration": 88.514143,
     "end_time": "2022-10-24T20:13:58.452667",
     "exception": false,
     "start_time": "2022-10-24T20:12:29.938524",
     "status": "completed"
    },
    "tags": []
   },
   "outputs": [
    {
     "name": "stdout",
     "output_type": "stream",
     "text": [
      "Epoch 0, Loss 0.2445\n",
      "Training Accuracy: 0.6404, Testing Accuracy: 0.6280\n",
      "\n"
     ]
    },
    {
     "name": "stdout",
     "output_type": "stream",
     "text": [
      "Epoch 10, Loss 0.1479\n",
      "Training Accuracy: 0.8813, Testing Accuracy: 0.8881\n",
      "\n"
     ]
    },
    {
     "name": "stdout",
     "output_type": "stream",
     "text": [
      "Epoch 20, Loss 0.0781\n",
      "Training Accuracy: 0.9225, Testing Accuracy: 0.9289\n",
      "\n"
     ]
    },
    {
     "name": "stdout",
     "output_type": "stream",
     "text": [
      "Epoch 30, Loss 0.0544\n",
      "Training Accuracy: 0.9413, Testing Accuracy: 0.9541\n",
      "\n"
     ]
    },
    {
     "name": "stdout",
     "output_type": "stream",
     "text": [
      "Epoch 40, Loss 0.0439\n",
      "Training Accuracy: 0.9522, Testing Accuracy: 0.9612\n",
      "\n"
     ]
    },
    {
     "name": "stdout",
     "output_type": "stream",
     "text": [
      "Epoch 50, Loss 0.0384\n",
      "Training Accuracy: 0.9570, Testing Accuracy: 0.9647\n",
      "\n"
     ]
    },
    {
     "name": "stdout",
     "output_type": "stream",
     "text": [
      "Epoch 60, Loss 0.0349\n",
      "Training Accuracy: 0.9600, Testing Accuracy: 0.9672\n",
      "\n"
     ]
    },
    {
     "name": "stdout",
     "output_type": "stream",
     "text": [
      "Epoch 70, Loss 0.0326\n",
      "Training Accuracy: 0.9621, Testing Accuracy: 0.9677\n",
      "\n"
     ]
    },
    {
     "name": "stdout",
     "output_type": "stream",
     "text": [
      "Epoch 80, Loss 0.0309\n",
      "Training Accuracy: 0.9634, Testing Accuracy: 0.9672\n",
      "\n"
     ]
    },
    {
     "name": "stdout",
     "output_type": "stream",
     "text": [
      "Epoch 90, Loss 0.0295\n",
      "Training Accuracy: 0.9657, Testing Accuracy: 0.9677\n",
      "\n"
     ]
    },
    {
     "name": "stdout",
     "output_type": "stream",
     "text": [
      "Epoch 100, Loss 0.0284\n",
      "Training Accuracy: 0.9670, Testing Accuracy: 0.9672\n",
      "\n"
     ]
    },
    {
     "name": "stdout",
     "output_type": "stream",
     "text": [
      "Epoch 110, Loss 0.0274\n",
      "Training Accuracy: 0.9681, Testing Accuracy: 0.9677\n",
      "\n"
     ]
    },
    {
     "name": "stdout",
     "output_type": "stream",
     "text": [
      "Epoch 120, Loss 0.0266\n",
      "Training Accuracy: 0.9689, Testing Accuracy: 0.9672\n",
      "\n"
     ]
    },
    {
     "name": "stdout",
     "output_type": "stream",
     "text": [
      "Epoch 130, Loss 0.0258\n",
      "Training Accuracy: 0.9694, Testing Accuracy: 0.9682\n",
      "\n"
     ]
    },
    {
     "name": "stdout",
     "output_type": "stream",
     "text": [
      "Epoch 140, Loss 0.0252\n",
      "Training Accuracy: 0.9702, Testing Accuracy: 0.9682\n",
      "\n"
     ]
    },
    {
     "name": "stdout",
     "output_type": "stream",
     "text": [
      "Epoch 150, Loss 0.0246\n",
      "Training Accuracy: 0.9711, Testing Accuracy: 0.9682\n",
      "\n"
     ]
    },
    {
     "name": "stdout",
     "output_type": "stream",
     "text": [
      "Epoch 160, Loss 0.024\n",
      "Training Accuracy: 0.9722, Testing Accuracy: 0.9682\n",
      "\n"
     ]
    },
    {
     "name": "stdout",
     "output_type": "stream",
     "text": [
      "Epoch 170, Loss 0.0235\n",
      "Training Accuracy: 0.9734, Testing Accuracy: 0.9688\n",
      "\n"
     ]
    },
    {
     "name": "stdout",
     "output_type": "stream",
     "text": [
      "Epoch 180, Loss 0.023\n",
      "Training Accuracy: 0.9737, Testing Accuracy: 0.9693\n",
      "\n"
     ]
    },
    {
     "name": "stdout",
     "output_type": "stream",
     "text": [
      "Epoch 190, Loss 0.0226\n",
      "Training Accuracy: 0.9742, Testing Accuracy: 0.9693\n",
      "\n"
     ]
    },
    {
     "name": "stdout",
     "output_type": "stream",
     "text": [
      "Epoch 200, Loss 0.0222\n",
      "Training Accuracy: 0.9745, Testing Accuracy: 0.9698\n",
      "\n"
     ]
    },
    {
     "name": "stdout",
     "output_type": "stream",
     "text": [
      "Epoch 210, Loss 0.0218\n",
      "Training Accuracy: 0.9751, Testing Accuracy: 0.9703\n",
      "\n"
     ]
    },
    {
     "name": "stdout",
     "output_type": "stream",
     "text": [
      "Epoch 220, Loss 0.0214\n",
      "Training Accuracy: 0.9755, Testing Accuracy: 0.9693\n",
      "\n"
     ]
    },
    {
     "name": "stdout",
     "output_type": "stream",
     "text": [
      "Epoch 230, Loss 0.021\n",
      "Training Accuracy: 0.9759, Testing Accuracy: 0.9698\n",
      "\n"
     ]
    },
    {
     "name": "stdout",
     "output_type": "stream",
     "text": [
      "Epoch 240, Loss 0.0207\n",
      "Training Accuracy: 0.9763, Testing Accuracy: 0.9698\n",
      "\n"
     ]
    },
    {
     "data": {
      "text/plain": [
       "0.023260813003486862"
      ]
     },
     "execution_count": 22,
     "metadata": {},
     "output_type": "execute_result"
    }
   ],
   "source": [
    "nn_learner.train_loop(dl)"
   ]
  },
  {
   "cell_type": "code",
   "execution_count": 23,
   "id": "e0163366",
   "metadata": {
    "execution": {
     "iopub.execute_input": "2022-10-24T20:13:58.532555Z",
     "iopub.status.busy": "2022-10-24T20:13:58.531907Z",
     "iopub.status.idle": "2022-10-24T20:14:14.563086Z",
     "shell.execute_reply": "2022-10-24T20:14:14.563977Z"
    },
    "papermill": {
     "duration": 16.075764,
     "end_time": "2022-10-24T20:14:14.564133",
     "exception": false,
     "start_time": "2022-10-24T20:13:58.488369",
     "status": "completed"
    },
    "tags": []
   },
   "outputs": [
    {
     "name": "stdout",
     "output_type": "stream",
     "text": [
      "Epoch 0, Loss 0.2443\n",
      "Training Accuracy: 0.6739, Testing Accuracy: 0.6638\n",
      "\n"
     ]
    },
    {
     "name": "stdout",
     "output_type": "stream",
     "text": [
      "Epoch 10, Loss 0.1068\n",
      "Training Accuracy: 0.8993, Testing Accuracy: 0.9088\n",
      "\n"
     ]
    },
    {
     "name": "stdout",
     "output_type": "stream",
     "text": [
      "Epoch 20, Loss 0.082\n",
      "Training Accuracy: 0.9226, Testing Accuracy: 0.9345\n",
      "\n"
     ]
    },
    {
     "name": "stdout",
     "output_type": "stream",
     "text": [
      "Epoch 30, Loss 0.0704\n",
      "Training Accuracy: 0.9330, Testing Accuracy: 0.9435\n",
      "\n"
     ]
    },
    {
     "name": "stdout",
     "output_type": "stream",
     "text": [
      "Epoch 40, Loss 0.0634\n",
      "Training Accuracy: 0.9391, Testing Accuracy: 0.9476\n",
      "\n"
     ]
    },
    {
     "name": "stdout",
     "output_type": "stream",
     "text": [
      "Epoch 50, Loss 0.0586\n",
      "Training Accuracy: 0.9431, Testing Accuracy: 0.9511\n",
      "\n"
     ]
    },
    {
     "name": "stdout",
     "output_type": "stream",
     "text": [
      "Epoch 60, Loss 0.055\n",
      "Training Accuracy: 0.9456, Testing Accuracy: 0.9531\n",
      "\n"
     ]
    },
    {
     "name": "stdout",
     "output_type": "stream",
     "text": [
      "Epoch 70, Loss 0.0523\n",
      "Training Accuracy: 0.9475, Testing Accuracy: 0.9556\n",
      "\n"
     ]
    },
    {
     "name": "stdout",
     "output_type": "stream",
     "text": [
      "Epoch 80, Loss 0.0501\n",
      "Training Accuracy: 0.9493, Testing Accuracy: 0.9577\n",
      "\n"
     ]
    },
    {
     "name": "stdout",
     "output_type": "stream",
     "text": [
      "Epoch 90, Loss 0.0483\n",
      "Training Accuracy: 0.9514, Testing Accuracy: 0.9587\n",
      "\n"
     ]
    },
    {
     "name": "stdout",
     "output_type": "stream",
     "text": [
      "Epoch 100, Loss 0.0468\n",
      "Training Accuracy: 0.9527, Testing Accuracy: 0.9607\n",
      "\n"
     ]
    },
    {
     "name": "stdout",
     "output_type": "stream",
     "text": [
      "Epoch 110, Loss 0.0455\n",
      "Training Accuracy: 0.9539, Testing Accuracy: 0.9612\n",
      "\n"
     ]
    },
    {
     "name": "stdout",
     "output_type": "stream",
     "text": [
      "Epoch 120, Loss 0.0444\n",
      "Training Accuracy: 0.9551, Testing Accuracy: 0.9617\n",
      "\n"
     ]
    },
    {
     "name": "stdout",
     "output_type": "stream",
     "text": [
      "Epoch 130, Loss 0.0434\n",
      "Training Accuracy: 0.9557, Testing Accuracy: 0.9632\n",
      "\n"
     ]
    },
    {
     "name": "stdout",
     "output_type": "stream",
     "text": [
      "Epoch 140, Loss 0.0426\n",
      "Training Accuracy: 0.9564, Testing Accuracy: 0.9632\n",
      "\n"
     ]
    },
    {
     "name": "stdout",
     "output_type": "stream",
     "text": [
      "Epoch 150, Loss 0.0418\n",
      "Training Accuracy: 0.9573, Testing Accuracy: 0.9642\n",
      "\n"
     ]
    },
    {
     "name": "stdout",
     "output_type": "stream",
     "text": [
      "Epoch 160, Loss 0.0411\n",
      "Training Accuracy: 0.9584, Testing Accuracy: 0.9647\n",
      "\n"
     ]
    },
    {
     "name": "stdout",
     "output_type": "stream",
     "text": [
      "Epoch 170, Loss 0.0404\n",
      "Training Accuracy: 0.9589, Testing Accuracy: 0.9652\n",
      "\n"
     ]
    },
    {
     "name": "stdout",
     "output_type": "stream",
     "text": [
      "Epoch 180, Loss 0.0398\n",
      "Training Accuracy: 0.9591, Testing Accuracy: 0.9657\n",
      "\n"
     ]
    },
    {
     "name": "stdout",
     "output_type": "stream",
     "text": [
      "Epoch 190, Loss 0.0393\n",
      "Training Accuracy: 0.9599, Testing Accuracy: 0.9667\n",
      "\n"
     ]
    },
    {
     "name": "stdout",
     "output_type": "stream",
     "text": [
      "Epoch 200, Loss 0.0388\n",
      "Training Accuracy: 0.9599, Testing Accuracy: 0.9667\n",
      "\n"
     ]
    },
    {
     "name": "stdout",
     "output_type": "stream",
     "text": [
      "Epoch 210, Loss 0.0383\n",
      "Training Accuracy: 0.9604, Testing Accuracy: 0.9672\n",
      "\n"
     ]
    },
    {
     "name": "stdout",
     "output_type": "stream",
     "text": [
      "Epoch 220, Loss 0.0379\n",
      "Training Accuracy: 0.9608, Testing Accuracy: 0.9672\n",
      "\n"
     ]
    },
    {
     "name": "stdout",
     "output_type": "stream",
     "text": [
      "Epoch 230, Loss 0.0375\n",
      "Training Accuracy: 0.9612, Testing Accuracy: 0.9672\n",
      "\n"
     ]
    },
    {
     "name": "stdout",
     "output_type": "stream",
     "text": [
      "Epoch 240, Loss 0.0371\n",
      "Training Accuracy: 0.9614, Testing Accuracy: 0.9677\n",
      "\n"
     ]
    },
    {
     "data": {
      "text/plain": [
       "0.040978017633034776"
      ]
     },
     "execution_count": 23,
     "metadata": {},
     "output_type": "execute_result"
    }
   ],
   "source": [
    "lr_learner.train_loop(dl)"
   ]
  },
  {
   "cell_type": "code",
   "execution_count": 24,
   "id": "ca410940",
   "metadata": {
    "execution": {
     "iopub.execute_input": "2022-10-24T20:14:14.656829Z",
     "iopub.status.busy": "2022-10-24T20:14:14.656152Z",
     "iopub.status.idle": "2022-10-24T20:14:14.896788Z",
     "shell.execute_reply": "2022-10-24T20:14:14.896238Z"
    },
    "papermill": {
     "duration": 0.290775,
     "end_time": "2022-10-24T20:14:14.896918",
     "exception": false,
     "start_time": "2022-10-24T20:14:14.606143",
     "status": "completed"
    },
    "tags": []
   },
   "outputs": [
    {
     "data": {
      "text/plain": [
       "<matplotlib.legend.Legend at 0x7fcbd99f12e8>"
      ]
     },
     "execution_count": 24,
     "metadata": {},
     "output_type": "execute_result"
    },
    {
     "data": {
      "image/png": "[encoded data removed]",
      "text/plain": [
       "<Figure size 1080x720 with 1 Axes>"
      ]
     },
     "metadata": {
      "needs_background": "light"
     },
     "output_type": "display_data"
    }
   ],
   "source": [
    "#comparing the results of NN and LR\n",
    "plt.figure(figsize=(15,10))\n",
    "\n",
    "# Neural Network plots\n",
    "plt.plot(acc_nn.accuracies, 'r-', label = \"Training Accuracies - NN\")\n",
    "plt.plot(acc_nn.test_accuracies, 'g-', label = \"Testing Accuracies - NN\")\n",
    "\n",
    "# Logistic Regression plots\n",
    "plt.plot(acc_lr.accuracies, 'k-', label = \"Training Accuracies - LR\")\n",
    "plt.plot(acc_lr.test_accuracies, 'b-', label = \"Testing Accuracies - LR\")\n",
    "plt.legend()"
   ]
  },
  {
   "cell_type": "markdown",
   "id": "80dfb35c",
   "metadata": {
    "papermill": {
     "duration": 0.042248,
     "end_time": "2022-10-24T20:14:14.981790",
     "exception": false,
     "start_time": "2022-10-24T20:14:14.939542",
     "status": "completed"
    },
    "tags": []
   },
   "source": [
    "#### Plotting the outputs of this layer of the NN.\n"
   ]
  },
  {
   "cell_type": "code",
   "execution_count": 25,
   "id": "45eb2ff5",
   "metadata": {
    "execution": {
     "iopub.execute_input": "2022-10-24T20:14:15.075161Z",
     "iopub.status.busy": "2022-10-24T20:14:15.070033Z",
     "iopub.status.idle": "2022-10-24T20:14:15.094881Z",
     "shell.execute_reply": "2022-10-24T20:14:15.095426Z"
    },
    "papermill": {
     "duration": 0.071371,
     "end_time": "2022-10-24T20:14:15.095588",
     "exception": false,
     "start_time": "2022-10-24T20:14:15.024217",
     "status": "completed"
    },
    "tags": []
   },
   "outputs": [],
   "source": [
    "new_model = Model(layers[:-2])\n",
    "testing_plot = new_model(testing_data_x)"
   ]
  },
  {
   "cell_type": "code",
   "execution_count": 26,
   "id": "4c0a5485",
   "metadata": {
    "execution": {
     "iopub.execute_input": "2022-10-24T20:14:15.187728Z",
     "iopub.status.busy": "2022-10-24T20:14:15.186537Z",
     "iopub.status.idle": "2022-10-24T20:14:15.392774Z",
     "shell.execute_reply": "2022-10-24T20:14:15.393243Z"
    },
    "papermill": {
     "duration": 0.25506,
     "end_time": "2022-10-24T20:14:15.393392",
     "exception": false,
     "start_time": "2022-10-24T20:14:15.138332",
     "status": "completed"
    },
    "tags": []
   },
   "outputs": [
    {
     "data": {
      "text/plain": [
       "Text(0.5, 1.0, 'Outputs')"
      ]
     },
     "execution_count": 26,
     "metadata": {},
     "output_type": "execute_result"
    },
    {
     "data": {
      "image/png": "[encoded data removed]",
      "text/plain": [
       "<Figure size 576x504 with 1 Axes>"
      ]
     },
     "metadata": {
      "needs_background": "light"
     },
     "output_type": "display_data"
    }
   ],
   "source": [
    "# Plotting the scatter plot of points and color coding by class\n",
    "plt.figure(figsize=(8,7))\n",
    "plt.scatter(testing_plot[:,0], testing_plot[:,1], alpha = 0.1, c = y_test.ravel());\n",
    "plt.title('Outputs')"
   ]
  },
  {
   "cell_type": "markdown",
   "id": "a74fcf8f",
   "metadata": {
    "papermill": {
     "duration": 0.044691,
     "end_time": "2022-10-24T20:14:15.482895",
     "exception": false,
     "start_time": "2022-10-24T20:14:15.438204",
     "status": "completed"
    },
    "tags": []
   },
   "source": [
    "Probability contours"
   ]
  },
  {
   "cell_type": "code",
   "execution_count": 27,
   "id": "d0afc8e3",
   "metadata": {
    "execution": {
     "iopub.execute_input": "2022-10-24T20:14:15.577740Z",
     "iopub.status.busy": "2022-10-24T20:14:15.577135Z",
     "iopub.status.idle": "2022-10-24T20:14:15.589671Z",
     "shell.execute_reply": "2022-10-24T20:14:15.589178Z"
    },
    "papermill": {
     "duration": 0.062148,
     "end_time": "2022-10-24T20:14:15.589792",
     "exception": false,
     "start_time": "2022-10-24T20:14:15.527644",
     "status": "completed"
    },
    "tags": []
   },
   "outputs": [],
   "source": [
    "model_prob = Model(layers[-2:]) "
   ]
  },
  {
   "cell_type": "code",
   "execution_count": 28,
   "id": "9b96e238",
   "metadata": {
    "execution": {
     "iopub.execute_input": "2022-10-24T20:14:15.723700Z",
     "iopub.status.busy": "2022-10-24T20:14:15.723041Z",
     "iopub.status.idle": "2022-10-24T20:14:15.736493Z",
     "shell.execute_reply": "2022-10-24T20:14:15.736962Z"
    },
    "papermill": {
     "duration": 0.10215,
     "end_time": "2022-10-24T20:14:15.737121",
     "exception": false,
     "start_time": "2022-10-24T20:14:15.634971",
     "status": "completed"
    },
    "tags": []
   },
   "outputs": [],
   "source": [
    "#creating the x and y ranges according to the above generated plot.\n",
    "x_range = np.linspace(-4, 1, 100) \n",
    "y_range = np.linspace(-6, 6, 100) \n",
    "x_grid, y_grid = np.meshgrid(x_range, y_range) # x_grid and y_grig are of size 100 X 100\n",
    "\n",
    "# converting x_grid and y_grid to continuous arrays\n",
    "x_gridflat = np.ravel(x_grid)\n",
    "y_gridflat = np.ravel(y_grid)\n",
    "\n",
    "# The last layer of the current model takes two columns as input. Hence transpose of np.vstack() is required.\n",
    "X = np.vstack((x_gridflat, y_gridflat)).T\n",
    "\n",
    "prob_contour = model_prob(X).reshape(100,100) "
   ]
  },
  {
   "cell_type": "code",
   "execution_count": 29,
   "id": "da72499a",
   "metadata": {
    "execution": {
     "iopub.execute_input": "2022-10-24T20:14:15.837108Z",
     "iopub.status.busy": "2022-10-24T20:14:15.836470Z",
     "iopub.status.idle": "2022-10-24T20:14:16.089759Z",
     "shell.execute_reply": "2022-10-24T20:14:16.090198Z"
    },
    "papermill": {
     "duration": 0.307439,
     "end_time": "2022-10-24T20:14:16.090348",
     "exception": false,
     "start_time": "2022-10-24T20:14:15.782909",
     "status": "completed"
    },
    "tags": []
   },
   "outputs": [
    {
     "data": {
      "image/png": "[encoded data removed]",
      "text/plain": [
       "<Figure size 720x648 with 1 Axes>"
      ]
     },
     "metadata": {
      "needs_background": "light"
     },
     "output_type": "display_data"
    }
   ],
   "source": [
    "plt.figure(figsize=(10,9))\n",
    "plt.scatter(testing_plot[:,0], testing_plot[:,1], alpha = 0.1, c = y_test.ravel())\n",
    "contours = plt.contour(x_grid,y_grid,prob_contour)\n",
    "plt.title('Probability Contours')\n",
    "plt.clabel(contours, inline = True );"
   ]
  },
  {
   "cell_type": "code",
   "execution_count": null,
   "id": "e81b4ac7",
   "metadata": {
    "papermill": {
     "duration": 0.04729,
     "end_time": "2022-10-24T20:14:16.186069",
     "exception": false,
     "start_time": "2022-10-24T20:14:16.138779",
     "status": "completed"
    },
    "tags": []
   },
   "outputs": [],
   "source": []
  }
 ],
 "metadata": {
  "kernelspec": {
   "display_name": "Python 3",
   "language": "python",
   "name": "python3"
  },
  "language_info": {
   "codemirror_mode": {
    "name": "ipython",
    "version": 3
   },
   "file_extension": ".py",
   "mimetype": "text/x-python",
   "name": "python",
   "nbconvert_exporter": "python",
   "pygments_lexer": "ipython3",
   "version": "3.6.15"
  },
  "papermill": {
   "default_parameters": {},
   "duration": 113.355236,
   "end_time": "2022-10-24T20:14:16.754287",
   "environment_variables": {},
   "exception": null,
   "input_path": "2020-08-11-part2.ipynb",
   "output_path": "2020-08-11-part2.ipynb",
   "parameters": {},
   "start_time": "2022-10-24T20:12:23.399051",
   "version": "2.3.3"
  }
 },
 "nbformat": 4,
 "nbformat_minor": 5
}