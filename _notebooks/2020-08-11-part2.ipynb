{
 "cells": [
  {
   "cell_type": "markdown",
   "id": "98380cd3",
   "metadata": {
    "papermill": {
     "duration": 0.039563,
     "end_time": "2022-07-25T00:42:03.702967",
     "exception": false,
     "start_time": "2022-07-25T00:42:03.663404",
     "status": "completed"
    },
    "tags": []
   },
   "source": [
    "# Distinguish Your Own Digits (DYOD)"
   ]
  },
  {
   "cell_type": "markdown",
   "id": "ef31240d",
   "metadata": {
    "papermill": {
     "duration": 0.027422,
     "end_time": "2022-07-25T00:42:03.757591",
     "exception": false,
     "start_time": "2022-07-25T00:42:03.730169",
     "status": "completed"
    },
    "tags": []
   },
   "source": [
    "You are going to write a classifier that distinguishes between the number 3 and number 8."
   ]
  },
  {
   "cell_type": "code",
   "execution_count": 1,
   "id": "b15c8646",
   "metadata": {
    "execution": {
     "iopub.execute_input": "2022-07-25T00:42:03.827700Z",
     "iopub.status.busy": "2022-07-25T00:42:03.826956Z",
     "iopub.status.idle": "2022-07-25T00:42:03.839676Z",
     "shell.execute_reply": "2022-07-25T00:42:03.840206Z"
    },
    "papermill": {
     "duration": 0.053928,
     "end_time": "2022-07-25T00:42:03.840394",
     "exception": false,
     "start_time": "2022-07-25T00:42:03.786466",
     "status": "completed"
    },
    "tags": []
   },
   "outputs": [],
   "source": [
    "%load_ext autoreload\n",
    "%autoreload 2"
   ]
  },
  {
   "cell_type": "code",
   "execution_count": 2,
   "id": "22ef38dc",
   "metadata": {
    "execution": {
     "iopub.execute_input": "2022-07-25T00:42:03.900792Z",
     "iopub.status.busy": "2022-07-25T00:42:03.900054Z",
     "iopub.status.idle": "2022-07-25T00:42:04.547932Z",
     "shell.execute_reply": "2022-07-25T00:42:04.546943Z"
    },
    "papermill": {
     "duration": 0.680607,
     "end_time": "2022-07-25T00:42:04.548168",
     "exception": false,
     "start_time": "2022-07-25T00:42:03.867561",
     "status": "completed"
    },
    "tags": []
   },
   "outputs": [],
   "source": [
    "%matplotlib inline\n",
    "import numpy as np\n",
    "import matplotlib.pyplot as plt\n",
    "import pandas as pd"
   ]
  },
  {
   "cell_type": "markdown",
   "id": "ba036198",
   "metadata": {
    "papermill": {
     "duration": 0.027006,
     "end_time": "2022-07-25T00:42:04.606214",
     "exception": false,
     "start_time": "2022-07-25T00:42:04.579208",
     "status": "completed"
    },
    "tags": []
   },
   "source": [
    "From the command line run `pip install mnist`. This is a library that will help you bring down the mnist dataset. If you run this from a notebook, you need to put  `!pip install mnist` in a cell by itself."
   ]
  },
  {
   "cell_type": "code",
   "execution_count": 3,
   "id": "bb6ad8a1",
   "metadata": {
    "execution": {
     "iopub.execute_input": "2022-07-25T00:42:04.663136Z",
     "iopub.status.busy": "2022-07-25T00:42:04.662439Z",
     "iopub.status.idle": "2022-07-25T00:42:07.504285Z",
     "shell.execute_reply": "2022-07-25T00:42:07.503648Z"
    },
    "papermill": {
     "duration": 2.87205,
     "end_time": "2022-07-25T00:42:07.504430",
     "exception": false,
     "start_time": "2022-07-25T00:42:04.632380",
     "status": "completed"
    },
    "tags": []
   },
   "outputs": [
    {
     "name": "stdout",
     "output_type": "stream",
     "text": [
      "Collecting mnist\r\n"
     ]
    },
    {
     "name": "stdout",
     "output_type": "stream",
     "text": [
      "  Downloading mnist-0.2.2-py2.py3-none-any.whl (3.5 kB)\r\n",
      "Requirement already satisfied: numpy in /opt/hostedtoolcache/Python/3.6.15/x64/lib/python3.6/site-packages (from mnist) (1.19.5)\r\n"
     ]
    },
    {
     "name": "stdout",
     "output_type": "stream",
     "text": [
      "Installing collected packages: mnist\r\n"
     ]
    },
    {
     "name": "stdout",
     "output_type": "stream",
     "text": [
      "Successfully installed mnist-0.2.2\r\n"
     ]
    }
   ],
   "source": [
    "!pip install mnist"
   ]
  },
  {
   "cell_type": "markdown",
   "id": "69df9c9a",
   "metadata": {
    "papermill": {
     "duration": 0.028628,
     "end_time": "2022-07-25T00:42:07.561352",
     "exception": false,
     "start_time": "2022-07-25T00:42:07.532724",
     "status": "completed"
    },
    "tags": []
   },
   "source": [
    "## Preparing the Data"
   ]
  },
  {
   "cell_type": "code",
   "execution_count": 4,
   "id": "7f69d806",
   "metadata": {
    "execution": {
     "iopub.execute_input": "2022-07-25T00:42:07.637236Z",
     "iopub.status.busy": "2022-07-25T00:42:07.628475Z",
     "iopub.status.idle": "2022-07-25T00:42:07.651845Z",
     "shell.execute_reply": "2022-07-25T00:42:07.652598Z"
    },
    "papermill": {
     "duration": 0.058885,
     "end_time": "2022-07-25T00:42:07.652784",
     "exception": false,
     "start_time": "2022-07-25T00:42:07.593899",
     "status": "completed"
    },
    "tags": []
   },
   "outputs": [],
   "source": [
    "import mnist"
   ]
  },
  {
   "cell_type": "code",
   "execution_count": 5,
   "id": "a411e44f",
   "metadata": {
    "execution": {
     "iopub.execute_input": "2022-07-25T00:42:07.716330Z",
     "iopub.status.busy": "2022-07-25T00:42:07.715638Z",
     "iopub.status.idle": "2022-07-25T00:42:08.402257Z",
     "shell.execute_reply": "2022-07-25T00:42:08.401499Z"
    },
    "papermill": {
     "duration": 0.719343,
     "end_time": "2022-07-25T00:42:08.402411",
     "exception": false,
     "start_time": "2022-07-25T00:42:07.683068",
     "status": "completed"
    },
    "tags": []
   },
   "outputs": [],
   "source": [
    "train_images = mnist.train_images()\n",
    "train_labels = mnist.train_labels()"
   ]
  },
  {
   "cell_type": "code",
   "execution_count": 6,
   "id": "dceab3a5",
   "metadata": {
    "execution": {
     "iopub.execute_input": "2022-07-25T00:42:08.471451Z",
     "iopub.status.busy": "2022-07-25T00:42:08.470700Z",
     "iopub.status.idle": "2022-07-25T00:42:08.490399Z",
     "shell.execute_reply": "2022-07-25T00:42:08.490923Z"
    },
    "papermill": {
     "duration": 0.058844,
     "end_time": "2022-07-25T00:42:08.491098",
     "exception": false,
     "start_time": "2022-07-25T00:42:08.432254",
     "status": "completed"
    },
    "tags": []
   },
   "outputs": [
    {
     "data": {
      "text/plain": [
       "((60000, 28, 28), (60000,))"
      ]
     },
     "execution_count": 6,
     "metadata": {},
     "output_type": "execute_result"
    }
   ],
   "source": [
    "train_images.shape, train_labels.shape"
   ]
  },
  {
   "cell_type": "code",
   "execution_count": 7,
   "id": "f50dc2bb",
   "metadata": {
    "execution": {
     "iopub.execute_input": "2022-07-25T00:42:08.557108Z",
     "iopub.status.busy": "2022-07-25T00:42:08.556380Z",
     "iopub.status.idle": "2022-07-25T00:42:08.779822Z",
     "shell.execute_reply": "2022-07-25T00:42:08.780780Z"
    },
    "papermill": {
     "duration": 0.260934,
     "end_time": "2022-07-25T00:42:08.781015",
     "exception": false,
     "start_time": "2022-07-25T00:42:08.520081",
     "status": "completed"
    },
    "tags": []
   },
   "outputs": [],
   "source": [
    "test_images = mnist.test_images()\n",
    "test_labels = mnist.test_labels()"
   ]
  },
  {
   "cell_type": "code",
   "execution_count": 8,
   "id": "fc38cf1b",
   "metadata": {
    "execution": {
     "iopub.execute_input": "2022-07-25T00:42:08.844669Z",
     "iopub.status.busy": "2022-07-25T00:42:08.843952Z",
     "iopub.status.idle": "2022-07-25T00:42:08.860063Z",
     "shell.execute_reply": "2022-07-25T00:42:08.860740Z"
    },
    "papermill": {
     "duration": 0.050379,
     "end_time": "2022-07-25T00:42:08.860902",
     "exception": false,
     "start_time": "2022-07-25T00:42:08.810523",
     "status": "completed"
    },
    "tags": []
   },
   "outputs": [
    {
     "data": {
      "text/plain": [
       "((10000, 28, 28), (10000,))"
      ]
     },
     "execution_count": 8,
     "metadata": {},
     "output_type": "execute_result"
    }
   ],
   "source": [
    "test_images.shape, test_labels.shape"
   ]
  },
  {
   "cell_type": "code",
   "execution_count": 9,
   "id": "f9ed8fe0",
   "metadata": {
    "execution": {
     "iopub.execute_input": "2022-07-25T00:42:08.923682Z",
     "iopub.status.busy": "2022-07-25T00:42:08.922978Z",
     "iopub.status.idle": "2022-07-25T00:42:09.097099Z",
     "shell.execute_reply": "2022-07-25T00:42:09.097667Z"
    },
    "papermill": {
     "duration": 0.208483,
     "end_time": "2022-07-25T00:42:09.097858",
     "exception": false,
     "start_time": "2022-07-25T00:42:08.889375",
     "status": "completed"
    },
    "tags": []
   },
   "outputs": [
    {
     "name": "stdout",
     "output_type": "stream",
     "text": [
      "2\n"
     ]
    },
    {
     "data": {
      "text/plain": [
       "<matplotlib.image.AxesImage at 0x7fb0b5aa64e0>"
      ]
     },
     "execution_count": 9,
     "metadata": {},
     "output_type": "execute_result"
    },
    {
     "data": {
      "image/png": "[encoded data removed]",
      "text/plain": [
       "<Figure size 432x288 with 1 Axes>"
      ]
     },
     "metadata": {
      "needs_background": "light"
     },
     "output_type": "display_data"
    }
   ],
   "source": [
    "image_index = 7776 # You may select anything up to 60,000\n",
    "print(train_labels[image_index]) \n",
    "plt.imshow(train_images[image_index], cmap='Greys')"
   ]
  },
  {
   "cell_type": "markdown",
   "id": "a8d2388d",
   "metadata": {
    "papermill": {
     "duration": 0.030581,
     "end_time": "2022-07-25T00:42:09.158594",
     "exception": false,
     "start_time": "2022-07-25T00:42:09.128013",
     "status": "completed"
    },
    "tags": []
   },
   "source": [
    "## Filter data to get 3 and 8 out"
   ]
  },
  {
   "cell_type": "code",
   "execution_count": 10,
   "id": "776f7fc7",
   "metadata": {
    "execution": {
     "iopub.execute_input": "2022-07-25T00:42:09.226435Z",
     "iopub.status.busy": "2022-07-25T00:42:09.225663Z",
     "iopub.status.idle": "2022-07-25T00:42:09.253129Z",
     "shell.execute_reply": "2022-07-25T00:42:09.252516Z"
    },
    "papermill": {
     "duration": 0.063865,
     "end_time": "2022-07-25T00:42:09.253297",
     "exception": false,
     "start_time": "2022-07-25T00:42:09.189432",
     "status": "completed"
    },
    "tags": []
   },
   "outputs": [],
   "source": [
    "train_filter = np.where((train_labels == 3 ) | (train_labels == 8))\n",
    "test_filter = np.where((test_labels == 3) | (test_labels == 8))\n",
    "X_train, y_train = train_images[train_filter], train_labels[train_filter]\n",
    "X_test, y_test = test_images[test_filter], test_labels[test_filter]"
   ]
  },
  {
   "cell_type": "markdown",
   "id": "948f0b7e",
   "metadata": {
    "papermill": {
     "duration": 0.032387,
     "end_time": "2022-07-25T00:42:09.318481",
     "exception": false,
     "start_time": "2022-07-25T00:42:09.286094",
     "status": "completed"
    },
    "tags": []
   },
   "source": [
    "We normalize the pizel values in the 0 to 1 range"
   ]
  },
  {
   "cell_type": "code",
   "execution_count": 11,
   "id": "ee4c2166",
   "metadata": {
    "execution": {
     "iopub.execute_input": "2022-07-25T00:42:09.384740Z",
     "iopub.status.busy": "2022-07-25T00:42:09.383801Z",
     "iopub.status.idle": "2022-07-25T00:42:09.471415Z",
     "shell.execute_reply": "2022-07-25T00:42:09.471982Z"
    },
    "papermill": {
     "duration": 0.122781,
     "end_time": "2022-07-25T00:42:09.472168",
     "exception": false,
     "start_time": "2022-07-25T00:42:09.349387",
     "status": "completed"
    },
    "tags": []
   },
   "outputs": [],
   "source": [
    "X_train = X_train/255.\n",
    "X_test = X_test/255."
   ]
  },
  {
   "cell_type": "markdown",
   "id": "ddcf4fab",
   "metadata": {
    "papermill": {
     "duration": 0.03047,
     "end_time": "2022-07-25T00:42:09.533665",
     "exception": false,
     "start_time": "2022-07-25T00:42:09.503195",
     "status": "completed"
    },
    "tags": []
   },
   "source": [
    "And setup the labels as 1 (when the digit is 3) and 0 (when the digit is 8)"
   ]
  },
  {
   "cell_type": "code",
   "execution_count": 12,
   "id": "7dc908f2",
   "metadata": {
    "execution": {
     "iopub.execute_input": "2022-07-25T00:42:09.600203Z",
     "iopub.status.busy": "2022-07-25T00:42:09.598220Z",
     "iopub.status.idle": "2022-07-25T00:42:09.614147Z",
     "shell.execute_reply": "2022-07-25T00:42:09.614716Z"
    },
    "papermill": {
     "duration": 0.051061,
     "end_time": "2022-07-25T00:42:09.614884",
     "exception": false,
     "start_time": "2022-07-25T00:42:09.563823",
     "status": "completed"
    },
    "tags": []
   },
   "outputs": [],
   "source": [
    "y_train = 1*(y_train==3)\n",
    "y_test = 1*(y_test==3)"
   ]
  },
  {
   "cell_type": "code",
   "execution_count": 13,
   "id": "01e4e969",
   "metadata": {
    "execution": {
     "iopub.execute_input": "2022-07-25T00:42:09.680017Z",
     "iopub.status.busy": "2022-07-25T00:42:09.679300Z",
     "iopub.status.idle": "2022-07-25T00:42:09.698316Z",
     "shell.execute_reply": "2022-07-25T00:42:09.698979Z"
    },
    "papermill": {
     "duration": 0.053416,
     "end_time": "2022-07-25T00:42:09.699145",
     "exception": false,
     "start_time": "2022-07-25T00:42:09.645729",
     "status": "completed"
    },
    "tags": []
   },
   "outputs": [
    {
     "data": {
      "text/plain": [
       "((11982, 28, 28), (1984, 28, 28))"
      ]
     },
     "execution_count": 13,
     "metadata": {},
     "output_type": "execute_result"
    }
   ],
   "source": [
    "X_train.shape, X_test.shape"
   ]
  },
  {
   "cell_type": "markdown",
   "id": "5ccf3f85",
   "metadata": {
    "papermill": {
     "duration": 0.030411,
     "end_time": "2022-07-25T00:42:09.759891",
     "exception": false,
     "start_time": "2022-07-25T00:42:09.729480",
     "status": "completed"
    },
    "tags": []
   },
   "source": [
    "We reshape the data to flatten the image pixels into a set of features or co-variates:"
   ]
  },
  {
   "cell_type": "code",
   "execution_count": 14,
   "id": "5286a4a3",
   "metadata": {
    "execution": {
     "iopub.execute_input": "2022-07-25T00:42:09.830361Z",
     "iopub.status.busy": "2022-07-25T00:42:09.829520Z",
     "iopub.status.idle": "2022-07-25T00:42:09.848280Z",
     "shell.execute_reply": "2022-07-25T00:42:09.849001Z"
    },
    "papermill": {
     "duration": 0.056219,
     "end_time": "2022-07-25T00:42:09.849181",
     "exception": false,
     "start_time": "2022-07-25T00:42:09.792962",
     "status": "completed"
    },
    "tags": []
   },
   "outputs": [
    {
     "data": {
      "text/plain": [
       "((11982, 784), (1984, 784))"
      ]
     },
     "execution_count": 14,
     "metadata": {},
     "output_type": "execute_result"
    }
   ],
   "source": [
    "X_train = X_train.reshape(X_train.shape[0], -1)\n",
    "X_test = X_test.reshape(X_test.shape[0], -1)\n",
    "X_train.shape, X_test.shape"
   ]
  },
  {
   "cell_type": "code",
   "execution_count": 15,
   "id": "73c5f88a",
   "metadata": {
    "execution": {
     "iopub.execute_input": "2022-07-25T00:42:09.919744Z",
     "iopub.status.busy": "2022-07-25T00:42:09.919023Z",
     "iopub.status.idle": "2022-07-25T00:42:09.949603Z",
     "shell.execute_reply": "2022-07-25T00:42:09.948843Z"
    },
    "papermill": {
     "duration": 0.067514,
     "end_time": "2022-07-25T00:42:09.949810",
     "exception": false,
     "start_time": "2022-07-25T00:42:09.882296",
     "status": "completed"
    },
    "tags": []
   },
   "outputs": [],
   "source": [
    "#Impoting functions from 'Kudzu'\n",
    "from kudzu.model import Model\n",
    "from kudzu.train import Learner\n",
    "from kudzu.optim import GD\n",
    "from kudzu.data import Data, Sampler,Dataloader\n",
    "\n",
    "from kudzu.callbacks import AccCallback\n",
    "from kudzu.callbacks import ClfCallback\n",
    "\n",
    "from kudzu.loss import MSE\n",
    "\n",
    "from kudzu.layer import Sigmoid,Relu\n",
    "from kudzu.layer import Affine"
   ]
  },
  {
   "cell_type": "markdown",
   "id": "bc01172a",
   "metadata": {
    "papermill": {
     "duration": 0.030587,
     "end_time": "2022-07-25T00:42:10.012897",
     "exception": false,
     "start_time": "2022-07-25T00:42:09.982310",
     "status": "completed"
    },
    "tags": []
   },
   "source": [
    "### Let us create a `Config` class, to store important parameters. \n",
    "This class essentially plays the role of a dictionary."
   ]
  },
  {
   "cell_type": "code",
   "execution_count": 16,
   "id": "978281aa",
   "metadata": {
    "execution": {
     "iopub.execute_input": "2022-07-25T00:42:10.079675Z",
     "iopub.status.busy": "2022-07-25T00:42:10.078994Z",
     "iopub.status.idle": "2022-07-25T00:42:10.097116Z",
     "shell.execute_reply": "2022-07-25T00:42:10.096516Z"
    },
    "papermill": {
     "duration": 0.054234,
     "end_time": "2022-07-25T00:42:10.097242",
     "exception": false,
     "start_time": "2022-07-25T00:42:10.043008",
     "status": "completed"
    },
    "tags": []
   },
   "outputs": [],
   "source": [
    "class Config:\n",
    "    pass\n",
    "config = Config()\n",
    "config.lr = 0.001\n",
    "config.num_epochs = 250\n",
    "config.bs = 50"
   ]
  },
  {
   "cell_type": "markdown",
   "id": "1385fa59",
   "metadata": {
    "papermill": {
     "duration": 0.033297,
     "end_time": "2022-07-25T00:42:10.161294",
     "exception": false,
     "start_time": "2022-07-25T00:42:10.127997",
     "status": "completed"
    },
    "tags": []
   },
   "source": [
    "### Running Models with the Training data\n",
    "Details about the network layers:\n",
    "- A first affine layer has 784 inputs and does 100 affine transforms. These are followed by a Relu\n",
    "- A second affine layer has 100 inputs from the 100 activations of the past layer, and does 100 affine transforms. These are followed by a Relu\n",
    "- A third affine layer has 100 activations and does 2 affine transformations to create an embedding for visualization. There is no non-linearity here.\n",
    "- A final \"logistic regression\" which has an affine transform from 2 inputs to 1 output, which is squeezed through a sigmoid.\n"
   ]
  },
  {
   "cell_type": "code",
   "execution_count": 17,
   "id": "2b9c66db",
   "metadata": {
    "execution": {
     "iopub.execute_input": "2022-07-25T00:42:10.233057Z",
     "iopub.status.busy": "2022-07-25T00:42:10.232324Z",
     "iopub.status.idle": "2022-07-25T00:42:10.251097Z",
     "shell.execute_reply": "2022-07-25T00:42:10.250457Z"
    },
    "papermill": {
     "duration": 0.055803,
     "end_time": "2022-07-25T00:42:10.251244",
     "exception": false,
     "start_time": "2022-07-25T00:42:10.195441",
     "status": "completed"
    },
    "tags": []
   },
   "outputs": [],
   "source": [
    "data = Data(X_train, y_train.reshape(-1,1))\n",
    "sampler = Sampler(data, config.bs, shuffle=True)\n",
    "\n",
    "dl = Dataloader(data, sampler)\n",
    "\n",
    "opt = GD(config.lr)\n",
    "loss = MSE()"
   ]
  },
  {
   "cell_type": "code",
   "execution_count": 18,
   "id": "b275e4c2",
   "metadata": {
    "execution": {
     "iopub.execute_input": "2022-07-25T00:42:10.318932Z",
     "iopub.status.busy": "2022-07-25T00:42:10.318284Z",
     "iopub.status.idle": "2022-07-25T00:42:10.334405Z",
     "shell.execute_reply": "2022-07-25T00:42:10.335058Z"
    },
    "papermill": {
     "duration": 0.052547,
     "end_time": "2022-07-25T00:42:10.335210",
     "exception": false,
     "start_time": "2022-07-25T00:42:10.282663",
     "status": "completed"
    },
    "tags": []
   },
   "outputs": [],
   "source": [
    "training_data_x = X_train\n",
    "testing_data_x = X_test\n",
    "training_data_y = y_train.reshape(-1,1)\n",
    "testing_data_y = y_test.reshape(-1,1)"
   ]
  },
  {
   "cell_type": "code",
   "execution_count": 19,
   "id": "76951160",
   "metadata": {
    "execution": {
     "iopub.execute_input": "2022-07-25T00:42:10.400718Z",
     "iopub.status.busy": "2022-07-25T00:42:10.397916Z",
     "iopub.status.idle": "2022-07-25T00:42:10.420197Z",
     "shell.execute_reply": "2022-07-25T00:42:10.420818Z"
    },
    "papermill": {
     "duration": 0.056333,
     "end_time": "2022-07-25T00:42:10.420961",
     "exception": false,
     "start_time": "2022-07-25T00:42:10.364628",
     "status": "completed"
    },
    "tags": []
   },
   "outputs": [
    {
     "name": "stdout",
     "output_type": "stream",
     "text": [
      "xavier\n",
      "xavier\n",
      "xavier\n",
      "xavier\n",
      "xavier\n"
     ]
    }
   ],
   "source": [
    "layers = [Affine(\"first\", 784, 100), Relu(\"first\"), Affine(\"second\", 100, 100), Relu(\"second\"), Affine(\"third\", 100, 2), Affine(\"last\", 2, 1), Sigmoid(\"last\")]\n",
    "model_nn = Model(layers)\n",
    "model_lr = Model([Affine(\"logits\", 784, 1), Sigmoid(\"sigmoid\")])"
   ]
  },
  {
   "cell_type": "code",
   "execution_count": 20,
   "id": "6eede77a",
   "metadata": {
    "execution": {
     "iopub.execute_input": "2022-07-25T00:42:10.486289Z",
     "iopub.status.busy": "2022-07-25T00:42:10.485563Z",
     "iopub.status.idle": "2022-07-25T00:42:10.500816Z",
     "shell.execute_reply": "2022-07-25T00:42:10.501383Z"
    },
    "papermill": {
     "duration": 0.050264,
     "end_time": "2022-07-25T00:42:10.501531",
     "exception": false,
     "start_time": "2022-07-25T00:42:10.451267",
     "status": "completed"
    },
    "tags": []
   },
   "outputs": [],
   "source": [
    "nn_learner = Learner(loss, model_nn, opt, config.num_epochs)\n",
    "acc_nn = ClfCallback(nn_learner, config.bs, training_data_x , testing_data_x, training_data_y, testing_data_y)\n",
    "nn_learner.set_callbacks([acc_nn])"
   ]
  },
  {
   "cell_type": "code",
   "execution_count": 21,
   "id": "877b6cc7",
   "metadata": {
    "execution": {
     "iopub.execute_input": "2022-07-25T00:42:10.567520Z",
     "iopub.status.busy": "2022-07-25T00:42:10.566849Z",
     "iopub.status.idle": "2022-07-25T00:42:10.582596Z",
     "shell.execute_reply": "2022-07-25T00:42:10.583176Z"
    },
    "papermill": {
     "duration": 0.052055,
     "end_time": "2022-07-25T00:42:10.583328",
     "exception": false,
     "start_time": "2022-07-25T00:42:10.531273",
     "status": "completed"
    },
    "tags": []
   },
   "outputs": [],
   "source": [
    "lr_learner = Learner(loss, model_lr, opt, config.num_epochs)\n",
    "acc_lr = ClfCallback(lr_learner, config.bs, training_data_x , testing_data_x, training_data_y, testing_data_y)\n",
    "lr_learner.set_callbacks([acc_lr])"
   ]
  },
  {
   "cell_type": "code",
   "execution_count": 22,
   "id": "d9b133c3",
   "metadata": {
    "execution": {
     "iopub.execute_input": "2022-07-25T00:42:10.650157Z",
     "iopub.status.busy": "2022-07-25T00:42:10.649427Z",
     "iopub.status.idle": "2022-07-25T00:43:42.783177Z",
     "shell.execute_reply": "2022-07-25T00:43:42.784221Z"
    },
    "papermill": {
     "duration": 92.169582,
     "end_time": "2022-07-25T00:43:42.784390",
     "exception": false,
     "start_time": "2022-07-25T00:42:10.614808",
     "status": "completed"
    },
    "tags": []
   },
   "outputs": [
    {
     "name": "stdout",
     "output_type": "stream",
     "text": [
      "Epoch 0, Loss 0.2374\n",
      "Training Accuracy: 0.7001, Testing Accuracy: 0.7198\n",
      "\n"
     ]
    },
    {
     "name": "stdout",
     "output_type": "stream",
     "text": [
      "Epoch 10, Loss 0.085\n",
      "Training Accuracy: 0.9155, Testing Accuracy: 0.9325\n",
      "\n"
     ]
    },
    {
     "name": "stdout",
     "output_type": "stream",
     "text": [
      "Epoch 20, Loss 0.054\n",
      "Training Accuracy: 0.9416, Testing Accuracy: 0.9546\n",
      "\n"
     ]
    },
    {
     "name": "stdout",
     "output_type": "stream",
     "text": [
      "Epoch 30, Loss 0.0432\n",
      "Training Accuracy: 0.9515, Testing Accuracy: 0.9622\n",
      "\n"
     ]
    },
    {
     "name": "stdout",
     "output_type": "stream",
     "text": [
      "Epoch 40, Loss 0.0376\n",
      "Training Accuracy: 0.9576, Testing Accuracy: 0.9662\n",
      "\n"
     ]
    },
    {
     "name": "stdout",
     "output_type": "stream",
     "text": [
      "Epoch 50, Loss 0.0341\n",
      "Training Accuracy: 0.9611, Testing Accuracy: 0.9698\n",
      "\n"
     ]
    },
    {
     "name": "stdout",
     "output_type": "stream",
     "text": [
      "Epoch 60, Loss 0.0316\n",
      "Training Accuracy: 0.9634, Testing Accuracy: 0.9708\n",
      "\n"
     ]
    },
    {
     "name": "stdout",
     "output_type": "stream",
     "text": [
      "Epoch 70, Loss 0.0298\n",
      "Training Accuracy: 0.9656, Testing Accuracy: 0.9723\n",
      "\n"
     ]
    },
    {
     "name": "stdout",
     "output_type": "stream",
     "text": [
      "Epoch 80, Loss 0.0283\n",
      "Training Accuracy: 0.9672, Testing Accuracy: 0.9733\n",
      "\n"
     ]
    },
    {
     "name": "stdout",
     "output_type": "stream",
     "text": [
      "Epoch 90, Loss 0.0271\n",
      "Training Accuracy: 0.9685, Testing Accuracy: 0.9738\n",
      "\n"
     ]
    },
    {
     "name": "stdout",
     "output_type": "stream",
     "text": [
      "Epoch 100, Loss 0.026\n",
      "Training Accuracy: 0.9700, Testing Accuracy: 0.9753\n",
      "\n"
     ]
    },
    {
     "name": "stdout",
     "output_type": "stream",
     "text": [
      "Epoch 110, Loss 0.0251\n",
      "Training Accuracy: 0.9714, Testing Accuracy: 0.9738\n",
      "\n"
     ]
    },
    {
     "name": "stdout",
     "output_type": "stream",
     "text": [
      "Epoch 120, Loss 0.0243\n",
      "Training Accuracy: 0.9722, Testing Accuracy: 0.9743\n",
      "\n"
     ]
    },
    {
     "name": "stdout",
     "output_type": "stream",
     "text": [
      "Epoch 130, Loss 0.0235\n",
      "Training Accuracy: 0.9731, Testing Accuracy: 0.9753\n",
      "\n"
     ]
    },
    {
     "name": "stdout",
     "output_type": "stream",
     "text": [
      "Epoch 140, Loss 0.0229\n",
      "Training Accuracy: 0.9742, Testing Accuracy: 0.9748\n",
      "\n"
     ]
    },
    {
     "name": "stdout",
     "output_type": "stream",
     "text": [
      "Epoch 150, Loss 0.0223\n",
      "Training Accuracy: 0.9748, Testing Accuracy: 0.9753\n",
      "\n"
     ]
    },
    {
     "name": "stdout",
     "output_type": "stream",
     "text": [
      "Epoch 160, Loss 0.0217\n",
      "Training Accuracy: 0.9756, Testing Accuracy: 0.9748\n",
      "\n"
     ]
    },
    {
     "name": "stdout",
     "output_type": "stream",
     "text": [
      "Epoch 170, Loss 0.0212\n",
      "Training Accuracy: 0.9760, Testing Accuracy: 0.9748\n",
      "\n"
     ]
    },
    {
     "name": "stdout",
     "output_type": "stream",
     "text": [
      "Epoch 180, Loss 0.0207\n",
      "Training Accuracy: 0.9765, Testing Accuracy: 0.9743\n",
      "\n"
     ]
    },
    {
     "name": "stdout",
     "output_type": "stream",
     "text": [
      "Epoch 190, Loss 0.0203\n",
      "Training Accuracy: 0.9771, Testing Accuracy: 0.9743\n",
      "\n"
     ]
    },
    {
     "name": "stdout",
     "output_type": "stream",
     "text": [
      "Epoch 200, Loss 0.0198\n",
      "Training Accuracy: 0.9777, Testing Accuracy: 0.9743\n",
      "\n"
     ]
    },
    {
     "name": "stdout",
     "output_type": "stream",
     "text": [
      "Epoch 210, Loss 0.0194\n",
      "Training Accuracy: 0.9781, Testing Accuracy: 0.9753\n",
      "\n"
     ]
    },
    {
     "name": "stdout",
     "output_type": "stream",
     "text": [
      "Epoch 220, Loss 0.019\n",
      "Training Accuracy: 0.9783, Testing Accuracy: 0.9753\n",
      "\n"
     ]
    },
    {
     "name": "stdout",
     "output_type": "stream",
     "text": [
      "Epoch 230, Loss 0.0187\n",
      "Training Accuracy: 0.9789, Testing Accuracy: 0.9758\n",
      "\n"
     ]
    },
    {
     "name": "stdout",
     "output_type": "stream",
     "text": [
      "Epoch 240, Loss 0.0183\n",
      "Training Accuracy: 0.9793, Testing Accuracy: 0.9758\n",
      "\n"
     ]
    },
    {
     "data": {
      "text/plain": [
       "0.006287392887326362"
      ]
     },
     "execution_count": 22,
     "metadata": {},
     "output_type": "execute_result"
    }
   ],
   "source": [
    "nn_learner.train_loop(dl)"
   ]
  },
  {
   "cell_type": "code",
   "execution_count": 23,
   "id": "e0163366",
   "metadata": {
    "execution": {
     "iopub.execute_input": "2022-07-25T00:43:42.879718Z",
     "iopub.status.busy": "2022-07-25T00:43:42.878532Z",
     "iopub.status.idle": "2022-07-25T00:43:58.878328Z",
     "shell.execute_reply": "2022-07-25T00:43:58.879381Z"
    },
    "papermill": {
     "duration": 16.056376,
     "end_time": "2022-07-25T00:43:58.879568",
     "exception": false,
     "start_time": "2022-07-25T00:43:42.823192",
     "status": "completed"
    },
    "tags": []
   },
   "outputs": [
    {
     "name": "stdout",
     "output_type": "stream",
     "text": [
      "Epoch 0, Loss 0.2118\n",
      "Training Accuracy: 0.7971, Testing Accuracy: 0.8185\n",
      "\n"
     ]
    },
    {
     "name": "stdout",
     "output_type": "stream",
     "text": [
      "Epoch 10, Loss 0.0989\n",
      "Training Accuracy: 0.9132, Testing Accuracy: 0.9229\n",
      "\n"
     ]
    },
    {
     "name": "stdout",
     "output_type": "stream",
     "text": [
      "Epoch 20, Loss 0.0776\n",
      "Training Accuracy: 0.9274, Testing Accuracy: 0.9405\n",
      "\n"
     ]
    },
    {
     "name": "stdout",
     "output_type": "stream",
     "text": [
      "Epoch 30, Loss 0.0675\n",
      "Training Accuracy: 0.9352, Testing Accuracy: 0.9486\n",
      "\n"
     ]
    },
    {
     "name": "stdout",
     "output_type": "stream",
     "text": [
      "Epoch 40, Loss 0.0613\n",
      "Training Accuracy: 0.9391, Testing Accuracy: 0.9541\n",
      "\n"
     ]
    },
    {
     "name": "stdout",
     "output_type": "stream",
     "text": [
      "Epoch 50, Loss 0.057\n",
      "Training Accuracy: 0.9425, Testing Accuracy: 0.9592\n",
      "\n"
     ]
    },
    {
     "name": "stdout",
     "output_type": "stream",
     "text": [
      "Epoch 60, Loss 0.0538\n",
      "Training Accuracy: 0.9449, Testing Accuracy: 0.9607\n",
      "\n"
     ]
    },
    {
     "name": "stdout",
     "output_type": "stream",
     "text": [
      "Epoch 70, Loss 0.0513\n",
      "Training Accuracy: 0.9471, Testing Accuracy: 0.9597\n",
      "\n"
     ]
    },
    {
     "name": "stdout",
     "output_type": "stream",
     "text": [
      "Epoch 80, Loss 0.0493\n",
      "Training Accuracy: 0.9492, Testing Accuracy: 0.9597\n",
      "\n"
     ]
    },
    {
     "name": "stdout",
     "output_type": "stream",
     "text": [
      "Epoch 90, Loss 0.0476\n",
      "Training Accuracy: 0.9506, Testing Accuracy: 0.9612\n",
      "\n"
     ]
    },
    {
     "name": "stdout",
     "output_type": "stream",
     "text": [
      "Epoch 100, Loss 0.0462\n",
      "Training Accuracy: 0.9515, Testing Accuracy: 0.9622\n",
      "\n"
     ]
    },
    {
     "name": "stdout",
     "output_type": "stream",
     "text": [
      "Epoch 110, Loss 0.045\n",
      "Training Accuracy: 0.9530, Testing Accuracy: 0.9617\n",
      "\n"
     ]
    },
    {
     "name": "stdout",
     "output_type": "stream",
     "text": [
      "Epoch 120, Loss 0.044\n",
      "Training Accuracy: 0.9541, Testing Accuracy: 0.9627\n",
      "\n"
     ]
    },
    {
     "name": "stdout",
     "output_type": "stream",
     "text": [
      "Epoch 130, Loss 0.043\n",
      "Training Accuracy: 0.9543, Testing Accuracy: 0.9632\n",
      "\n"
     ]
    },
    {
     "name": "stdout",
     "output_type": "stream",
     "text": [
      "Epoch 140, Loss 0.0422\n",
      "Training Accuracy: 0.9554, Testing Accuracy: 0.9632\n",
      "\n"
     ]
    },
    {
     "name": "stdout",
     "output_type": "stream",
     "text": [
      "Epoch 150, Loss 0.0415\n",
      "Training Accuracy: 0.9560, Testing Accuracy: 0.9637\n",
      "\n"
     ]
    },
    {
     "name": "stdout",
     "output_type": "stream",
     "text": [
      "Epoch 160, Loss 0.0408\n",
      "Training Accuracy: 0.9564, Testing Accuracy: 0.9637\n",
      "\n"
     ]
    },
    {
     "name": "stdout",
     "output_type": "stream",
     "text": [
      "Epoch 170, Loss 0.0402\n",
      "Training Accuracy: 0.9569, Testing Accuracy: 0.9642\n",
      "\n"
     ]
    },
    {
     "name": "stdout",
     "output_type": "stream",
     "text": [
      "Epoch 180, Loss 0.0396\n",
      "Training Accuracy: 0.9578, Testing Accuracy: 0.9647\n",
      "\n"
     ]
    },
    {
     "name": "stdout",
     "output_type": "stream",
     "text": [
      "Epoch 190, Loss 0.0391\n",
      "Training Accuracy: 0.9584, Testing Accuracy: 0.9647\n",
      "\n"
     ]
    },
    {
     "name": "stdout",
     "output_type": "stream",
     "text": [
      "Epoch 200, Loss 0.0386\n",
      "Training Accuracy: 0.9584, Testing Accuracy: 0.9652\n",
      "\n"
     ]
    },
    {
     "name": "stdout",
     "output_type": "stream",
     "text": [
      "Epoch 210, Loss 0.0382\n",
      "Training Accuracy: 0.9585, Testing Accuracy: 0.9657\n",
      "\n"
     ]
    },
    {
     "name": "stdout",
     "output_type": "stream",
     "text": [
      "Epoch 220, Loss 0.0377\n",
      "Training Accuracy: 0.9591, Testing Accuracy: 0.9662\n",
      "\n"
     ]
    },
    {
     "name": "stdout",
     "output_type": "stream",
     "text": [
      "Epoch 230, Loss 0.0373\n",
      "Training Accuracy: 0.9595, Testing Accuracy: 0.9662\n",
      "\n"
     ]
    },
    {
     "name": "stdout",
     "output_type": "stream",
     "text": [
      "Epoch 240, Loss 0.037\n",
      "Training Accuracy: 0.9603, Testing Accuracy: 0.9662\n",
      "\n"
     ]
    },
    {
     "data": {
      "text/plain": [
       "0.01651023846545745"
      ]
     },
     "execution_count": 23,
     "metadata": {},
     "output_type": "execute_result"
    }
   ],
   "source": [
    "lr_learner.train_loop(dl)"
   ]
  },
  {
   "cell_type": "code",
   "execution_count": 24,
   "id": "ca410940",
   "metadata": {
    "execution": {
     "iopub.execute_input": "2022-07-25T00:43:58.982526Z",
     "iopub.status.busy": "2022-07-25T00:43:58.981765Z",
     "iopub.status.idle": "2022-07-25T00:43:59.269450Z",
     "shell.execute_reply": "2022-07-25T00:43:59.268870Z"
    },
    "papermill": {
     "duration": 0.340487,
     "end_time": "2022-07-25T00:43:59.269588",
     "exception": false,
     "start_time": "2022-07-25T00:43:58.929101",
     "status": "completed"
    },
    "tags": []
   },
   "outputs": [
    {
     "data": {
      "text/plain": [
       "<matplotlib.legend.Legend at 0x7fb0b5602c18>"
      ]
     },
     "execution_count": 24,
     "metadata": {},
     "output_type": "execute_result"
    },
    {
     "data": {
      "image/png": "[encoded data removed]",
      "text/plain": [
       "<Figure size 1080x720 with 1 Axes>"
      ]
     },
     "metadata": {
      "needs_background": "light"
     },
     "output_type": "display_data"
    }
   ],
   "source": [
    "#comparing the results of NN and LR\n",
    "plt.figure(figsize=(15,10))\n",
    "\n",
    "# Neural Network plots\n",
    "plt.plot(acc_nn.accuracies, 'r-', label = \"Training Accuracies - NN\")\n",
    "plt.plot(acc_nn.test_accuracies, 'g-', label = \"Testing Accuracies - NN\")\n",
    "\n",
    "# Logistic Regression plots\n",
    "plt.plot(acc_lr.accuracies, 'k-', label = \"Training Accuracies - LR\")\n",
    "plt.plot(acc_lr.test_accuracies, 'b-', label = \"Testing Accuracies - LR\")\n",
    "plt.legend()"
   ]
  },
  {
   "cell_type": "markdown",
   "id": "80dfb35c",
   "metadata": {
    "papermill": {
     "duration": 0.04662,
     "end_time": "2022-07-25T00:43:59.369719",
     "exception": false,
     "start_time": "2022-07-25T00:43:59.323099",
     "status": "completed"
    },
    "tags": []
   },
   "source": [
    "#### Plotting the outputs of this layer of the NN.\n"
   ]
  },
  {
   "cell_type": "code",
   "execution_count": 25,
   "id": "45eb2ff5",
   "metadata": {
    "execution": {
     "iopub.execute_input": "2022-07-25T00:43:59.470739Z",
     "iopub.status.busy": "2022-07-25T00:43:59.469353Z",
     "iopub.status.idle": "2022-07-25T00:43:59.499488Z",
     "shell.execute_reply": "2022-07-25T00:43:59.498921Z"
    },
    "papermill": {
     "duration": 0.082587,
     "end_time": "2022-07-25T00:43:59.499631",
     "exception": false,
     "start_time": "2022-07-25T00:43:59.417044",
     "status": "completed"
    },
    "tags": []
   },
   "outputs": [],
   "source": [
    "new_model = Model(layers[:-2])\n",
    "testing_plot = new_model(testing_data_x)"
   ]
  },
  {
   "cell_type": "code",
   "execution_count": 26,
   "id": "4c0a5485",
   "metadata": {
    "execution": {
     "iopub.execute_input": "2022-07-25T00:43:59.601413Z",
     "iopub.status.busy": "2022-07-25T00:43:59.600688Z",
     "iopub.status.idle": "2022-07-25T00:43:59.859580Z",
     "shell.execute_reply": "2022-07-25T00:43:59.860096Z"
    },
    "papermill": {
     "duration": 0.312533,
     "end_time": "2022-07-25T00:43:59.860268",
     "exception": false,
     "start_time": "2022-07-25T00:43:59.547735",
     "status": "completed"
    },
    "tags": []
   },
   "outputs": [
    {
     "data": {
      "text/plain": [
       "Text(0.5, 1.0, 'Outputs')"
      ]
     },
     "execution_count": 26,
     "metadata": {},
     "output_type": "execute_result"
    },
    {
     "data": {
      "image/png": "[encoded data removed]",
      "text/plain": [
       "<Figure size 576x504 with 1 Axes>"
      ]
     },
     "metadata": {
      "needs_background": "light"
     },
     "output_type": "display_data"
    }
   ],
   "source": [
    "# Plotting the scatter plot of points and color coding by class\n",
    "plt.figure(figsize=(8,7))\n",
    "plt.scatter(testing_plot[:,0], testing_plot[:,1], alpha = 0.1, c = y_test.ravel());\n",
    "plt.title('Outputs')"
   ]
  },
  {
   "cell_type": "markdown",
   "id": "a74fcf8f",
   "metadata": {
    "papermill": {
     "duration": 0.050721,
     "end_time": "2022-07-25T00:43:59.966513",
     "exception": false,
     "start_time": "2022-07-25T00:43:59.915792",
     "status": "completed"
    },
    "tags": []
   },
   "source": [
    "Probability contours"
   ]
  },
  {
   "cell_type": "code",
   "execution_count": 27,
   "id": "d0afc8e3",
   "metadata": {
    "execution": {
     "iopub.execute_input": "2022-07-25T00:44:00.115260Z",
     "iopub.status.busy": "2022-07-25T00:44:00.114486Z",
     "iopub.status.idle": "2022-07-25T00:44:00.126261Z",
     "shell.execute_reply": "2022-07-25T00:44:00.125594Z"
    },
    "papermill": {
     "duration": 0.074456,
     "end_time": "2022-07-25T00:44:00.126407",
     "exception": false,
     "start_time": "2022-07-25T00:44:00.051951",
     "status": "completed"
    },
    "tags": []
   },
   "outputs": [],
   "source": [
    "model_prob = Model(layers[-2:]) "
   ]
  },
  {
   "cell_type": "code",
   "execution_count": 28,
   "id": "9b96e238",
   "metadata": {
    "execution": {
     "iopub.execute_input": "2022-07-25T00:44:00.235809Z",
     "iopub.status.busy": "2022-07-25T00:44:00.235041Z",
     "iopub.status.idle": "2022-07-25T00:44:00.253783Z",
     "shell.execute_reply": "2022-07-25T00:44:00.254337Z"
    },
    "papermill": {
     "duration": 0.077127,
     "end_time": "2022-07-25T00:44:00.254515",
     "exception": false,
     "start_time": "2022-07-25T00:44:00.177388",
     "status": "completed"
    },
    "tags": []
   },
   "outputs": [],
   "source": [
    "#creating the x and y ranges according to the above generated plot.\n",
    "x_range = np.linspace(-4, 1, 100) \n",
    "y_range = np.linspace(-6, 6, 100) \n",
    "x_grid, y_grid = np.meshgrid(x_range, y_range) # x_grid and y_grig are of size 100 X 100\n",
    "\n",
    "# converting x_grid and y_grid to continuous arrays\n",
    "x_gridflat = np.ravel(x_grid)\n",
    "y_gridflat = np.ravel(y_grid)\n",
    "\n",
    "# The last layer of the current model takes two columns as input. Hence transpose of np.vstack() is required.\n",
    "X = np.vstack((x_gridflat, y_gridflat)).T\n",
    "\n",
    "prob_contour = model_prob(X).reshape(100,100) "
   ]
  },
  {
   "cell_type": "code",
   "execution_count": 29,
   "id": "da72499a",
   "metadata": {
    "execution": {
     "iopub.execute_input": "2022-07-25T00:44:00.363222Z",
     "iopub.status.busy": "2022-07-25T00:44:00.362469Z",
     "iopub.status.idle": "2022-07-25T00:44:00.667353Z",
     "shell.execute_reply": "2022-07-25T00:44:00.667918Z"
    },
    "papermill": {
     "duration": 0.362364,
     "end_time": "2022-07-25T00:44:00.668090",
     "exception": false,
     "start_time": "2022-07-25T00:44:00.305726",
     "status": "completed"
    },
    "tags": []
   },
   "outputs": [
    {
     "data": {
      "image/png": "[encoded data removed]",
      "text/plain": [
       "<Figure size 720x648 with 1 Axes>"
      ]
     },
     "metadata": {
      "needs_background": "light"
     },
     "output_type": "display_data"
    }
   ],
   "source": [
    "plt.figure(figsize=(10,9))\n",
    "plt.scatter(testing_plot[:,0], testing_plot[:,1], alpha = 0.1, c = y_test.ravel())\n",
    "contours = plt.contour(x_grid,y_grid,prob_contour)\n",
    "plt.title('Probability Contours')\n",
    "plt.clabel(contours, inline = True );"
   ]
  },
  {
   "cell_type": "code",
   "execution_count": null,
   "id": "e81b4ac7",
   "metadata": {
    "papermill": {
     "duration": 0.054073,
     "end_time": "2022-07-25T00:44:00.776413",
     "exception": false,
     "start_time": "2022-07-25T00:44:00.722340",
     "status": "completed"
    },
    "tags": []
   },
   "outputs": [],
   "source": []
  }
 ],
 "metadata": {
  "kernelspec": {
   "display_name": "Python 3",
   "language": "python",
   "name": "python3"
  },
  "language_info": {
   "codemirror_mode": {
    "name": "ipython",
    "version": 3
   },
   "file_extension": ".py",
   "mimetype": "text/x-python",
   "name": "python",
   "nbconvert_exporter": "python",
   "pygments_lexer": "ipython3",
   "version": "3.6.15"
  },
  "papermill": {
   "default_parameters": {},
   "duration": 118.765965,
   "end_time": "2022-07-25T00:44:01.254279",
   "environment_variables": {},
   "exception": null,
   "input_path": "2020-08-11-part2.ipynb",
   "output_path": "2020-08-11-part2.ipynb",
   "parameters": {},
   "start_time": "2022-07-25T00:42:02.488314",
   "version": "2.3.3"
  }
 },
 "nbformat": 4,
 "nbformat_minor": 5
}