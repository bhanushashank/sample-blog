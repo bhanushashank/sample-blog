{
 "cells": [
  {
   "cell_type": "markdown",
   "id": "98380cd3",
   "metadata": {
    "papermill": {
     "duration": 0.03893,
     "end_time": "2022-06-24T20:10:46.751866",
     "exception": false,
     "start_time": "2022-06-24T20:10:46.712936",
     "status": "completed"
    },
    "tags": []
   },
   "source": [
    "# Distinguish Your Own Digits (DYOD)"
   ]
  },
  {
   "cell_type": "markdown",
   "id": "ef31240d",
   "metadata": {
    "papermill": {
     "duration": 0.031784,
     "end_time": "2022-06-24T20:10:46.817666",
     "exception": false,
     "start_time": "2022-06-24T20:10:46.785882",
     "status": "completed"
    },
    "tags": []
   },
   "source": [
    "You are going to write a classifier that distinguishes between the number 3 and number 8."
   ]
  },
  {
   "cell_type": "code",
   "execution_count": 1,
   "id": "b15c8646",
   "metadata": {
    "execution": {
     "iopub.execute_input": "2022-06-24T20:10:46.895923Z",
     "iopub.status.busy": "2022-06-24T20:10:46.895113Z",
     "iopub.status.idle": "2022-06-24T20:10:46.908776Z",
     "shell.execute_reply": "2022-06-24T20:10:46.908103Z"
    },
    "papermill": {
     "duration": 0.058709,
     "end_time": "2022-06-24T20:10:46.908946",
     "exception": false,
     "start_time": "2022-06-24T20:10:46.850237",
     "status": "completed"
    },
    "tags": []
   },
   "outputs": [],
   "source": [
    "%load_ext autoreload\n",
    "%autoreload 2"
   ]
  },
  {
   "cell_type": "code",
   "execution_count": 2,
   "id": "22ef38dc",
   "metadata": {
    "execution": {
     "iopub.execute_input": "2022-06-24T20:10:46.980319Z",
     "iopub.status.busy": "2022-06-24T20:10:46.978354Z",
     "iopub.status.idle": "2022-06-24T20:10:47.677311Z",
     "shell.execute_reply": "2022-06-24T20:10:47.676165Z"
    },
    "papermill": {
     "duration": 0.737085,
     "end_time": "2022-06-24T20:10:47.677466",
     "exception": false,
     "start_time": "2022-06-24T20:10:46.940381",
     "status": "completed"
    },
    "tags": []
   },
   "outputs": [],
   "source": [
    "%matplotlib inline\n",
    "import numpy as np\n",
    "import matplotlib.pyplot as plt\n",
    "import pandas as pd"
   ]
  },
  {
   "cell_type": "markdown",
   "id": "ba036198",
   "metadata": {
    "papermill": {
     "duration": 0.031531,
     "end_time": "2022-06-24T20:10:47.741075",
     "exception": false,
     "start_time": "2022-06-24T20:10:47.709544",
     "status": "completed"
    },
    "tags": []
   },
   "source": [
    "From the command line run `pip install mnist`. This is a library that will help you bring down the mnist dataset. If you run this from a notebook, you need to put  `!pip install mnist` in a cell by itself."
   ]
  },
  {
   "cell_type": "code",
   "execution_count": 3,
   "id": "bb6ad8a1",
   "metadata": {
    "execution": {
     "iopub.execute_input": "2022-06-24T20:10:47.812579Z",
     "iopub.status.busy": "2022-06-24T20:10:47.809569Z",
     "iopub.status.idle": "2022-06-24T20:10:50.064757Z",
     "shell.execute_reply": "2022-06-24T20:10:50.065772Z"
    },
    "papermill": {
     "duration": 2.293228,
     "end_time": "2022-06-24T20:10:50.065950",
     "exception": false,
     "start_time": "2022-06-24T20:10:47.772722",
     "status": "completed"
    },
    "tags": []
   },
   "outputs": [
    {
     "name": "stdout",
     "output_type": "stream",
     "text": [
      "Collecting mnist\r\n"
     ]
    },
    {
     "name": "stdout",
     "output_type": "stream",
     "text": [
      "  Downloading mnist-0.2.2-py2.py3-none-any.whl (3.5 kB)\r\n",
      "Requirement already satisfied: numpy in /opt/hostedtoolcache/Python/3.6.15/x64/lib/python3.6/site-packages (from mnist) (1.19.5)\r\n"
     ]
    },
    {
     "name": "stdout",
     "output_type": "stream",
     "text": [
      "Installing collected packages: mnist\r\n"
     ]
    },
    {
     "name": "stdout",
     "output_type": "stream",
     "text": [
      "Successfully installed mnist-0.2.2\r\n"
     ]
    }
   ],
   "source": [
    "!pip install mnist"
   ]
  },
  {
   "cell_type": "markdown",
   "id": "69df9c9a",
   "metadata": {
    "papermill": {
     "duration": 0.037894,
     "end_time": "2022-06-24T20:10:50.138204",
     "exception": false,
     "start_time": "2022-06-24T20:10:50.100310",
     "status": "completed"
    },
    "tags": []
   },
   "source": [
    "## Preparing the Data"
   ]
  },
  {
   "cell_type": "code",
   "execution_count": 4,
   "id": "7f69d806",
   "metadata": {
    "execution": {
     "iopub.execute_input": "2022-06-24T20:10:50.221044Z",
     "iopub.status.busy": "2022-06-24T20:10:50.211270Z",
     "iopub.status.idle": "2022-06-24T20:10:50.231551Z",
     "shell.execute_reply": "2022-06-24T20:10:50.232313Z"
    },
    "papermill": {
     "duration": 0.060366,
     "end_time": "2022-06-24T20:10:50.232487",
     "exception": false,
     "start_time": "2022-06-24T20:10:50.172121",
     "status": "completed"
    },
    "tags": []
   },
   "outputs": [],
   "source": [
    "import mnist"
   ]
  },
  {
   "cell_type": "code",
   "execution_count": 5,
   "id": "a411e44f",
   "metadata": {
    "execution": {
     "iopub.execute_input": "2022-06-24T20:10:50.305283Z",
     "iopub.status.busy": "2022-06-24T20:10:50.304428Z",
     "iopub.status.idle": "2022-06-24T20:10:51.204232Z",
     "shell.execute_reply": "2022-06-24T20:10:51.204919Z"
    },
    "papermill": {
     "duration": 0.938439,
     "end_time": "2022-06-24T20:10:51.205107",
     "exception": false,
     "start_time": "2022-06-24T20:10:50.266668",
     "status": "completed"
    },
    "tags": []
   },
   "outputs": [],
   "source": [
    "train_images = mnist.train_images()\n",
    "train_labels = mnist.train_labels()"
   ]
  },
  {
   "cell_type": "code",
   "execution_count": 6,
   "id": "dceab3a5",
   "metadata": {
    "execution": {
     "iopub.execute_input": "2022-06-24T20:10:51.277672Z",
     "iopub.status.busy": "2022-06-24T20:10:51.276902Z",
     "iopub.status.idle": "2022-06-24T20:10:51.294041Z",
     "shell.execute_reply": "2022-06-24T20:10:51.294795Z"
    },
    "papermill": {
     "duration": 0.055333,
     "end_time": "2022-06-24T20:10:51.294964",
     "exception": false,
     "start_time": "2022-06-24T20:10:51.239631",
     "status": "completed"
    },
    "tags": []
   },
   "outputs": [
    {
     "data": {
      "text/plain": [
       "((60000, 28, 28), (60000,))"
      ]
     },
     "execution_count": 6,
     "metadata": {},
     "output_type": "execute_result"
    }
   ],
   "source": [
    "train_images.shape, train_labels.shape"
   ]
  },
  {
   "cell_type": "code",
   "execution_count": 7,
   "id": "f50dc2bb",
   "metadata": {
    "execution": {
     "iopub.execute_input": "2022-06-24T20:10:51.371147Z",
     "iopub.status.busy": "2022-06-24T20:10:51.370373Z",
     "iopub.status.idle": "2022-06-24T20:10:51.572975Z",
     "shell.execute_reply": "2022-06-24T20:10:51.572099Z"
    },
    "papermill": {
     "duration": 0.244801,
     "end_time": "2022-06-24T20:10:51.573135",
     "exception": false,
     "start_time": "2022-06-24T20:10:51.328334",
     "status": "completed"
    },
    "tags": []
   },
   "outputs": [],
   "source": [
    "test_images = mnist.test_images()\n",
    "test_labels = mnist.test_labels()"
   ]
  },
  {
   "cell_type": "code",
   "execution_count": 8,
   "id": "fc38cf1b",
   "metadata": {
    "execution": {
     "iopub.execute_input": "2022-06-24T20:10:51.650691Z",
     "iopub.status.busy": "2022-06-24T20:10:51.649850Z",
     "iopub.status.idle": "2022-06-24T20:10:51.665795Z",
     "shell.execute_reply": "2022-06-24T20:10:51.664947Z"
    },
    "papermill": {
     "duration": 0.057371,
     "end_time": "2022-06-24T20:10:51.665952",
     "exception": false,
     "start_time": "2022-06-24T20:10:51.608581",
     "status": "completed"
    },
    "tags": []
   },
   "outputs": [
    {
     "data": {
      "text/plain": [
       "((10000, 28, 28), (10000,))"
      ]
     },
     "execution_count": 8,
     "metadata": {},
     "output_type": "execute_result"
    }
   ],
   "source": [
    "test_images.shape, test_labels.shape"
   ]
  },
  {
   "cell_type": "code",
   "execution_count": 9,
   "id": "f9ed8fe0",
   "metadata": {
    "execution": {
     "iopub.execute_input": "2022-06-24T20:10:51.745595Z",
     "iopub.status.busy": "2022-06-24T20:10:51.744771Z",
     "iopub.status.idle": "2022-06-24T20:10:51.949800Z",
     "shell.execute_reply": "2022-06-24T20:10:51.949154Z"
    },
    "papermill": {
     "duration": 0.249202,
     "end_time": "2022-06-24T20:10:51.949953",
     "exception": false,
     "start_time": "2022-06-24T20:10:51.700751",
     "status": "completed"
    },
    "tags": []
   },
   "outputs": [
    {
     "name": "stdout",
     "output_type": "stream",
     "text": [
      "2\n"
     ]
    },
    {
     "data": {
      "text/plain": [
       "<matplotlib.image.AxesImage at 0x7f658988b358>"
      ]
     },
     "execution_count": 9,
     "metadata": {},
     "output_type": "execute_result"
    },
    {
     "data": {
      "image/png": "[encoded data removed]",
      "text/plain": [
       "<Figure size 432x288 with 1 Axes>"
      ]
     },
     "metadata": {
      "needs_background": "light"
     },
     "output_type": "display_data"
    }
   ],
   "source": [
    "image_index = 7776 # You may select anything up to 60,000\n",
    "print(train_labels[image_index]) \n",
    "plt.imshow(train_images[image_index], cmap='Greys')"
   ]
  },
  {
   "cell_type": "markdown",
   "id": "a8d2388d",
   "metadata": {
    "papermill": {
     "duration": 0.035169,
     "end_time": "2022-06-24T20:10:52.020596",
     "exception": false,
     "start_time": "2022-06-24T20:10:51.985427",
     "status": "completed"
    },
    "tags": []
   },
   "source": [
    "## Filter data to get 3 and 8 out"
   ]
  },
  {
   "cell_type": "code",
   "execution_count": 10,
   "id": "776f7fc7",
   "metadata": {
    "execution": {
     "iopub.execute_input": "2022-06-24T20:10:52.106301Z",
     "iopub.status.busy": "2022-06-24T20:10:52.105516Z",
     "iopub.status.idle": "2022-06-24T20:10:52.129116Z",
     "shell.execute_reply": "2022-06-24T20:10:52.128415Z"
    },
    "papermill": {
     "duration": 0.073512,
     "end_time": "2022-06-24T20:10:52.129290",
     "exception": false,
     "start_time": "2022-06-24T20:10:52.055778",
     "status": "completed"
    },
    "tags": []
   },
   "outputs": [],
   "source": [
    "train_filter = np.where((train_labels == 3 ) | (train_labels == 8))\n",
    "test_filter = np.where((test_labels == 3) | (test_labels == 8))\n",
    "X_train, y_train = train_images[train_filter], train_labels[train_filter]\n",
    "X_test, y_test = test_images[test_filter], test_labels[test_filter]"
   ]
  },
  {
   "cell_type": "markdown",
   "id": "948f0b7e",
   "metadata": {
    "papermill": {
     "duration": 0.037294,
     "end_time": "2022-06-24T20:10:52.203636",
     "exception": false,
     "start_time": "2022-06-24T20:10:52.166342",
     "status": "completed"
    },
    "tags": []
   },
   "source": [
    "We normalize the pizel values in the 0 to 1 range"
   ]
  },
  {
   "cell_type": "code",
   "execution_count": 11,
   "id": "ee4c2166",
   "metadata": {
    "execution": {
     "iopub.execute_input": "2022-06-24T20:10:52.283031Z",
     "iopub.status.busy": "2022-06-24T20:10:52.282255Z",
     "iopub.status.idle": "2022-06-24T20:10:52.353480Z",
     "shell.execute_reply": "2022-06-24T20:10:52.354066Z"
    },
    "papermill": {
     "duration": 0.114641,
     "end_time": "2022-06-24T20:10:52.354245",
     "exception": false,
     "start_time": "2022-06-24T20:10:52.239604",
     "status": "completed"
    },
    "tags": []
   },
   "outputs": [],
   "source": [
    "X_train = X_train/255.\n",
    "X_test = X_test/255."
   ]
  },
  {
   "cell_type": "markdown",
   "id": "ddcf4fab",
   "metadata": {
    "papermill": {
     "duration": 0.035723,
     "end_time": "2022-06-24T20:10:52.427283",
     "exception": false,
     "start_time": "2022-06-24T20:10:52.391560",
     "status": "completed"
    },
    "tags": []
   },
   "source": [
    "And setup the labels as 1 (when the digit is 3) and 0 (when the digit is 8)"
   ]
  },
  {
   "cell_type": "code",
   "execution_count": 12,
   "id": "7dc908f2",
   "metadata": {
    "execution": {
     "iopub.execute_input": "2022-06-24T20:10:52.508054Z",
     "iopub.status.busy": "2022-06-24T20:10:52.507281Z",
     "iopub.status.idle": "2022-06-24T20:10:52.522258Z",
     "shell.execute_reply": "2022-06-24T20:10:52.521465Z"
    },
    "papermill": {
     "duration": 0.058691,
     "end_time": "2022-06-24T20:10:52.522417",
     "exception": false,
     "start_time": "2022-06-24T20:10:52.463726",
     "status": "completed"
    },
    "tags": []
   },
   "outputs": [],
   "source": [
    "y_train = 1*(y_train==3)\n",
    "y_test = 1*(y_test==3)"
   ]
  },
  {
   "cell_type": "code",
   "execution_count": 13,
   "id": "01e4e969",
   "metadata": {
    "execution": {
     "iopub.execute_input": "2022-06-24T20:10:52.606500Z",
     "iopub.status.busy": "2022-06-24T20:10:52.605715Z",
     "iopub.status.idle": "2022-06-24T20:10:52.620164Z",
     "shell.execute_reply": "2022-06-24T20:10:52.620794Z"
    },
    "papermill": {
     "duration": 0.062031,
     "end_time": "2022-06-24T20:10:52.620965",
     "exception": false,
     "start_time": "2022-06-24T20:10:52.558934",
     "status": "completed"
    },
    "tags": []
   },
   "outputs": [
    {
     "data": {
      "text/plain": [
       "((11982, 28, 28), (1984, 28, 28))"
      ]
     },
     "execution_count": 13,
     "metadata": {},
     "output_type": "execute_result"
    }
   ],
   "source": [
    "X_train.shape, X_test.shape"
   ]
  },
  {
   "cell_type": "markdown",
   "id": "5ccf3f85",
   "metadata": {
    "papermill": {
     "duration": 0.048238,
     "end_time": "2022-06-24T20:10:52.705625",
     "exception": false,
     "start_time": "2022-06-24T20:10:52.657387",
     "status": "completed"
    },
    "tags": []
   },
   "source": [
    "We reshape the data to flatten the image pixels into a set of features or co-variates:"
   ]
  },
  {
   "cell_type": "code",
   "execution_count": 14,
   "id": "5286a4a3",
   "metadata": {
    "execution": {
     "iopub.execute_input": "2022-06-24T20:10:52.786515Z",
     "iopub.status.busy": "2022-06-24T20:10:52.785746Z",
     "iopub.status.idle": "2022-06-24T20:10:52.802434Z",
     "shell.execute_reply": "2022-06-24T20:10:52.801687Z"
    },
    "papermill": {
     "duration": 0.057804,
     "end_time": "2022-06-24T20:10:52.802580",
     "exception": false,
     "start_time": "2022-06-24T20:10:52.744776",
     "status": "completed"
    },
    "tags": []
   },
   "outputs": [
    {
     "data": {
      "text/plain": [
       "((11982, 784), (1984, 784))"
      ]
     },
     "execution_count": 14,
     "metadata": {},
     "output_type": "execute_result"
    }
   ],
   "source": [
    "X_train = X_train.reshape(X_train.shape[0], -1)\n",
    "X_test = X_test.reshape(X_test.shape[0], -1)\n",
    "X_train.shape, X_test.shape"
   ]
  },
  {
   "cell_type": "code",
   "execution_count": 15,
   "id": "73c5f88a",
   "metadata": {
    "execution": {
     "iopub.execute_input": "2022-06-24T20:10:52.881088Z",
     "iopub.status.busy": "2022-06-24T20:10:52.880320Z",
     "iopub.status.idle": "2022-06-24T20:10:52.905016Z",
     "shell.execute_reply": "2022-06-24T20:10:52.904318Z"
    },
    "papermill": {
     "duration": 0.067317,
     "end_time": "2022-06-24T20:10:52.905175",
     "exception": false,
     "start_time": "2022-06-24T20:10:52.837858",
     "status": "completed"
    },
    "tags": []
   },
   "outputs": [],
   "source": [
    "#Impoting functions from 'Kudzu'\n",
    "from kudzu.model import Model\n",
    "from kudzu.train import Learner\n",
    "from kudzu.optim import GD\n",
    "from kudzu.data import Data, Sampler,Dataloader\n",
    "\n",
    "from kudzu.callbacks import AccCallback\n",
    "from kudzu.callbacks import ClfCallback\n",
    "\n",
    "from kudzu.loss import MSE\n",
    "\n",
    "from kudzu.layer import Sigmoid,Relu\n",
    "from kudzu.layer import Affine"
   ]
  },
  {
   "cell_type": "markdown",
   "id": "bc01172a",
   "metadata": {
    "papermill": {
     "duration": 0.037929,
     "end_time": "2022-06-24T20:10:52.980048",
     "exception": false,
     "start_time": "2022-06-24T20:10:52.942119",
     "status": "completed"
    },
    "tags": []
   },
   "source": [
    "### Let us create a `Config` class, to store important parameters. \n",
    "This class essentially plays the role of a dictionary."
   ]
  },
  {
   "cell_type": "code",
   "execution_count": 16,
   "id": "978281aa",
   "metadata": {
    "execution": {
     "iopub.execute_input": "2022-06-24T20:10:53.061488Z",
     "iopub.status.busy": "2022-06-24T20:10:53.060690Z",
     "iopub.status.idle": "2022-06-24T20:10:53.086969Z",
     "shell.execute_reply": "2022-06-24T20:10:53.086135Z"
    },
    "papermill": {
     "duration": 0.0702,
     "end_time": "2022-06-24T20:10:53.087120",
     "exception": false,
     "start_time": "2022-06-24T20:10:53.016920",
     "status": "completed"
    },
    "tags": []
   },
   "outputs": [],
   "source": [
    "class Config:\n",
    "    pass\n",
    "config = Config()\n",
    "config.lr = 0.001\n",
    "config.num_epochs = 250\n",
    "config.bs = 50"
   ]
  },
  {
   "cell_type": "markdown",
   "id": "1385fa59",
   "metadata": {
    "papermill": {
     "duration": 0.037669,
     "end_time": "2022-06-24T20:10:53.163591",
     "exception": false,
     "start_time": "2022-06-24T20:10:53.125922",
     "status": "completed"
    },
    "tags": []
   },
   "source": [
    "### Running Models with the Training data\n",
    "Details about the network layers:\n",
    "- A first affine layer has 784 inputs and does 100 affine transforms. These are followed by a Relu\n",
    "- A second affine layer has 100 inputs from the 100 activations of the past layer, and does 100 affine transforms. These are followed by a Relu\n",
    "- A third affine layer has 100 activations and does 2 affine transformations to create an embedding for visualization. There is no non-linearity here.\n",
    "- A final \"logistic regression\" which has an affine transform from 2 inputs to 1 output, which is squeezed through a sigmoid.\n"
   ]
  },
  {
   "cell_type": "code",
   "execution_count": 17,
   "id": "2b9c66db",
   "metadata": {
    "execution": {
     "iopub.execute_input": "2022-06-24T20:10:53.243741Z",
     "iopub.status.busy": "2022-06-24T20:10:53.242944Z",
     "iopub.status.idle": "2022-06-24T20:10:53.259647Z",
     "shell.execute_reply": "2022-06-24T20:10:53.258898Z"
    },
    "papermill": {
     "duration": 0.058332,
     "end_time": "2022-06-24T20:10:53.259804",
     "exception": false,
     "start_time": "2022-06-24T20:10:53.201472",
     "status": "completed"
    },
    "tags": []
   },
   "outputs": [],
   "source": [
    "data = Data(X_train, y_train.reshape(-1,1))\n",
    "sampler = Sampler(data, config.bs, shuffle=True)\n",
    "\n",
    "dl = Dataloader(data, sampler)\n",
    "\n",
    "opt = GD(config.lr)\n",
    "loss = MSE()"
   ]
  },
  {
   "cell_type": "code",
   "execution_count": 18,
   "id": "b275e4c2",
   "metadata": {
    "execution": {
     "iopub.execute_input": "2022-06-24T20:10:53.342289Z",
     "iopub.status.busy": "2022-06-24T20:10:53.341520Z",
     "iopub.status.idle": "2022-06-24T20:10:53.357744Z",
     "shell.execute_reply": "2022-06-24T20:10:53.357022Z"
    },
    "papermill": {
     "duration": 0.061226,
     "end_time": "2022-06-24T20:10:53.357952",
     "exception": false,
     "start_time": "2022-06-24T20:10:53.296726",
     "status": "completed"
    },
    "tags": []
   },
   "outputs": [],
   "source": [
    "training_data_x = X_train\n",
    "testing_data_x = X_test\n",
    "training_data_y = y_train.reshape(-1,1)\n",
    "testing_data_y = y_test.reshape(-1,1)"
   ]
  },
  {
   "cell_type": "code",
   "execution_count": 19,
   "id": "76951160",
   "metadata": {
    "execution": {
     "iopub.execute_input": "2022-06-24T20:10:53.443302Z",
     "iopub.status.busy": "2022-06-24T20:10:53.442363Z",
     "iopub.status.idle": "2022-06-24T20:10:53.468028Z",
     "shell.execute_reply": "2022-06-24T20:10:53.466506Z"
    },
    "papermill": {
     "duration": 0.069903,
     "end_time": "2022-06-24T20:10:53.468304",
     "exception": false,
     "start_time": "2022-06-24T20:10:53.398401",
     "status": "completed"
    },
    "tags": []
   },
   "outputs": [
    {
     "name": "stdout",
     "output_type": "stream",
     "text": [
      "xavier\n",
      "xavier\n",
      "xavier\n",
      "xavier\n",
      "xavier\n"
     ]
    }
   ],
   "source": [
    "layers = [Affine(\"first\", 784, 100), Relu(\"first\"), Affine(\"second\", 100, 100), Relu(\"second\"), Affine(\"third\", 100, 2), Affine(\"last\", 2, 1), Sigmoid(\"last\")]\n",
    "model_nn = Model(layers)\n",
    "model_lr = Model([Affine(\"logits\", 784, 1), Sigmoid(\"sigmoid\")])"
   ]
  },
  {
   "cell_type": "code",
   "execution_count": 20,
   "id": "6eede77a",
   "metadata": {
    "execution": {
     "iopub.execute_input": "2022-06-24T20:10:53.549705Z",
     "iopub.status.busy": "2022-06-24T20:10:53.548928Z",
     "iopub.status.idle": "2022-06-24T20:10:53.568747Z",
     "shell.execute_reply": "2022-06-24T20:10:53.567934Z"
    },
    "papermill": {
     "duration": 0.062077,
     "end_time": "2022-06-24T20:10:53.568902",
     "exception": false,
     "start_time": "2022-06-24T20:10:53.506825",
     "status": "completed"
    },
    "tags": []
   },
   "outputs": [],
   "source": [
    "nn_learner = Learner(loss, model_nn, opt, config.num_epochs)\n",
    "acc_nn = ClfCallback(nn_learner, config.bs, training_data_x , testing_data_x, training_data_y, testing_data_y)\n",
    "nn_learner.set_callbacks([acc_nn])"
   ]
  },
  {
   "cell_type": "code",
   "execution_count": 21,
   "id": "877b6cc7",
   "metadata": {
    "execution": {
     "iopub.execute_input": "2022-06-24T20:10:53.650190Z",
     "iopub.status.busy": "2022-06-24T20:10:53.649403Z",
     "iopub.status.idle": "2022-06-24T20:10:53.665156Z",
     "shell.execute_reply": "2022-06-24T20:10:53.664409Z"
    },
    "papermill": {
     "duration": 0.058305,
     "end_time": "2022-06-24T20:10:53.665332",
     "exception": false,
     "start_time": "2022-06-24T20:10:53.607027",
     "status": "completed"
    },
    "tags": []
   },
   "outputs": [],
   "source": [
    "lr_learner = Learner(loss, model_lr, opt, config.num_epochs)\n",
    "acc_lr = ClfCallback(lr_learner, config.bs, training_data_x , testing_data_x, training_data_y, testing_data_y)\n",
    "lr_learner.set_callbacks([acc_lr])"
   ]
  },
  {
   "cell_type": "code",
   "execution_count": 22,
   "id": "d9b133c3",
   "metadata": {
    "execution": {
     "iopub.execute_input": "2022-06-24T20:10:53.746711Z",
     "iopub.status.busy": "2022-06-24T20:10:53.745775Z",
     "iopub.status.idle": "2022-06-24T20:13:18.227087Z",
     "shell.execute_reply": "2022-06-24T20:13:18.228067Z"
    },
    "papermill": {
     "duration": 144.525129,
     "end_time": "2022-06-24T20:13:18.228251",
     "exception": false,
     "start_time": "2022-06-24T20:10:53.703122",
     "status": "completed"
    },
    "tags": []
   },
   "outputs": [
    {
     "name": "stdout",
     "output_type": "stream",
     "text": [
      "Epoch 0, Loss 0.2417\n",
      "Training Accuracy: 0.7127, Testing Accuracy: 0.7122\n",
      "\n"
     ]
    },
    {
     "name": "stdout",
     "output_type": "stream",
     "text": [
      "Epoch 10, Loss 0.0873\n",
      "Training Accuracy: 0.9196, Testing Accuracy: 0.9365\n",
      "\n"
     ]
    },
    {
     "name": "stdout",
     "output_type": "stream",
     "text": [
      "Epoch 20, Loss 0.0539\n",
      "Training Accuracy: 0.9449, Testing Accuracy: 0.9546\n",
      "\n"
     ]
    },
    {
     "name": "stdout",
     "output_type": "stream",
     "text": [
      "Epoch 30, Loss 0.0423\n",
      "Training Accuracy: 0.9553, Testing Accuracy: 0.9652\n",
      "\n"
     ]
    },
    {
     "name": "stdout",
     "output_type": "stream",
     "text": [
      "Epoch 40, Loss 0.0367\n",
      "Training Accuracy: 0.9608, Testing Accuracy: 0.9682\n",
      "\n"
     ]
    },
    {
     "name": "stdout",
     "output_type": "stream",
     "text": [
      "Epoch 50, Loss 0.0334\n",
      "Training Accuracy: 0.9639, Testing Accuracy: 0.9703\n",
      "\n"
     ]
    },
    {
     "name": "stdout",
     "output_type": "stream",
     "text": [
      "Epoch 60, Loss 0.0312\n",
      "Training Accuracy: 0.9657, Testing Accuracy: 0.9703\n",
      "\n"
     ]
    },
    {
     "name": "stdout",
     "output_type": "stream",
     "text": [
      "Epoch 70, Loss 0.0295\n",
      "Training Accuracy: 0.9673, Testing Accuracy: 0.9693\n",
      "\n"
     ]
    },
    {
     "name": "stdout",
     "output_type": "stream",
     "text": [
      "Epoch 80, Loss 0.0282\n",
      "Training Accuracy: 0.9686, Testing Accuracy: 0.9703\n",
      "\n"
     ]
    },
    {
     "name": "stdout",
     "output_type": "stream",
     "text": [
      "Epoch 90, Loss 0.0271\n",
      "Training Accuracy: 0.9698, Testing Accuracy: 0.9693\n",
      "\n"
     ]
    },
    {
     "name": "stdout",
     "output_type": "stream",
     "text": [
      "Epoch 100, Loss 0.0262\n",
      "Training Accuracy: 0.9705, Testing Accuracy: 0.9713\n",
      "\n"
     ]
    },
    {
     "name": "stdout",
     "output_type": "stream",
     "text": [
      "Epoch 110, Loss 0.0254\n",
      "Training Accuracy: 0.9717, Testing Accuracy: 0.9708\n",
      "\n"
     ]
    },
    {
     "name": "stdout",
     "output_type": "stream",
     "text": [
      "Epoch 120, Loss 0.0247\n",
      "Training Accuracy: 0.9722, Testing Accuracy: 0.9713\n",
      "\n"
     ]
    },
    {
     "name": "stdout",
     "output_type": "stream",
     "text": [
      "Epoch 130, Loss 0.0241\n",
      "Training Accuracy: 0.9729, Testing Accuracy: 0.9713\n",
      "\n"
     ]
    },
    {
     "name": "stdout",
     "output_type": "stream",
     "text": [
      "Epoch 140, Loss 0.0235\n",
      "Training Accuracy: 0.9735, Testing Accuracy: 0.9733\n",
      "\n"
     ]
    },
    {
     "name": "stdout",
     "output_type": "stream",
     "text": [
      "Epoch 150, Loss 0.023\n",
      "Training Accuracy: 0.9745, Testing Accuracy: 0.9733\n",
      "\n"
     ]
    },
    {
     "name": "stdout",
     "output_type": "stream",
     "text": [
      "Epoch 160, Loss 0.0225\n",
      "Training Accuracy: 0.9752, Testing Accuracy: 0.9738\n",
      "\n"
     ]
    },
    {
     "name": "stdout",
     "output_type": "stream",
     "text": [
      "Epoch 170, Loss 0.022\n",
      "Training Accuracy: 0.9755, Testing Accuracy: 0.9738\n",
      "\n"
     ]
    },
    {
     "name": "stdout",
     "output_type": "stream",
     "text": [
      "Epoch 180, Loss 0.0216\n",
      "Training Accuracy: 0.9764, Testing Accuracy: 0.9748\n",
      "\n"
     ]
    },
    {
     "name": "stdout",
     "output_type": "stream",
     "text": [
      "Epoch 190, Loss 0.0212\n",
      "Training Accuracy: 0.9767, Testing Accuracy: 0.9753\n",
      "\n"
     ]
    },
    {
     "name": "stdout",
     "output_type": "stream",
     "text": [
      "Epoch 200, Loss 0.0208\n",
      "Training Accuracy: 0.9772, Testing Accuracy: 0.9753\n",
      "\n"
     ]
    },
    {
     "name": "stdout",
     "output_type": "stream",
     "text": [
      "Epoch 210, Loss 0.0204\n",
      "Training Accuracy: 0.9773, Testing Accuracy: 0.9763\n",
      "\n"
     ]
    },
    {
     "name": "stdout",
     "output_type": "stream",
     "text": [
      "Epoch 220, Loss 0.02\n",
      "Training Accuracy: 0.9777, Testing Accuracy: 0.9753\n",
      "\n"
     ]
    },
    {
     "name": "stdout",
     "output_type": "stream",
     "text": [
      "Epoch 230, Loss 0.0197\n",
      "Training Accuracy: 0.9783, Testing Accuracy: 0.9758\n",
      "\n"
     ]
    },
    {
     "name": "stdout",
     "output_type": "stream",
     "text": [
      "Epoch 240, Loss 0.0193\n",
      "Training Accuracy: 0.9785, Testing Accuracy: 0.9763\n",
      "\n"
     ]
    },
    {
     "data": {
      "text/plain": [
       "0.031746186664898195"
      ]
     },
     "execution_count": 22,
     "metadata": {},
     "output_type": "execute_result"
    }
   ],
   "source": [
    "nn_learner.train_loop(dl)"
   ]
  },
  {
   "cell_type": "code",
   "execution_count": 23,
   "id": "e0163366",
   "metadata": {
    "execution": {
     "iopub.execute_input": "2022-06-24T20:13:18.334214Z",
     "iopub.status.busy": "2022-06-24T20:13:18.333424Z",
     "iopub.status.idle": "2022-06-24T20:13:38.980486Z",
     "shell.execute_reply": "2022-06-24T20:13:38.981431Z"
    },
    "papermill": {
     "duration": 20.704706,
     "end_time": "2022-06-24T20:13:38.981616",
     "exception": false,
     "start_time": "2022-06-24T20:13:18.276910",
     "status": "completed"
    },
    "tags": []
   },
   "outputs": [
    {
     "name": "stdout",
     "output_type": "stream",
     "text": [
      "Epoch 0, Loss 0.2212\n",
      "Training Accuracy: 0.7429, Testing Accuracy: 0.7455\n",
      "\n"
     ]
    },
    {
     "name": "stdout",
     "output_type": "stream",
     "text": [
      "Epoch 10, Loss 0.1008\n",
      "Training Accuracy: 0.9119, Testing Accuracy: 0.9204\n",
      "\n"
     ]
    },
    {
     "name": "stdout",
     "output_type": "stream",
     "text": [
      "Epoch 20, Loss 0.0777\n",
      "Training Accuracy: 0.9311, Testing Accuracy: 0.9420\n",
      "\n"
     ]
    },
    {
     "name": "stdout",
     "output_type": "stream",
     "text": [
      "Epoch 30, Loss 0.067\n",
      "Training Accuracy: 0.9381, Testing Accuracy: 0.9486\n",
      "\n"
     ]
    },
    {
     "name": "stdout",
     "output_type": "stream",
     "text": [
      "Epoch 40, Loss 0.0606\n",
      "Training Accuracy: 0.9434, Testing Accuracy: 0.9526\n",
      "\n"
     ]
    },
    {
     "name": "stdout",
     "output_type": "stream",
     "text": [
      "Epoch 50, Loss 0.0562\n",
      "Training Accuracy: 0.9465, Testing Accuracy: 0.9567\n",
      "\n"
     ]
    },
    {
     "name": "stdout",
     "output_type": "stream",
     "text": [
      "Epoch 60, Loss 0.053\n",
      "Training Accuracy: 0.9491, Testing Accuracy: 0.9597\n",
      "\n"
     ]
    },
    {
     "name": "stdout",
     "output_type": "stream",
     "text": [
      "Epoch 70, Loss 0.0505\n",
      "Training Accuracy: 0.9505, Testing Accuracy: 0.9617\n",
      "\n"
     ]
    },
    {
     "name": "stdout",
     "output_type": "stream",
     "text": [
      "Epoch 80, Loss 0.0485\n",
      "Training Accuracy: 0.9517, Testing Accuracy: 0.9627\n",
      "\n"
     ]
    },
    {
     "name": "stdout",
     "output_type": "stream",
     "text": [
      "Epoch 90, Loss 0.0469\n",
      "Training Accuracy: 0.9528, Testing Accuracy: 0.9627\n",
      "\n"
     ]
    },
    {
     "name": "stdout",
     "output_type": "stream",
     "text": [
      "Epoch 100, Loss 0.0455\n",
      "Training Accuracy: 0.9538, Testing Accuracy: 0.9617\n",
      "\n"
     ]
    },
    {
     "name": "stdout",
     "output_type": "stream",
     "text": [
      "Epoch 110, Loss 0.0443\n",
      "Training Accuracy: 0.9551, Testing Accuracy: 0.9617\n",
      "\n"
     ]
    },
    {
     "name": "stdout",
     "output_type": "stream",
     "text": [
      "Epoch 120, Loss 0.0433\n",
      "Training Accuracy: 0.9563, Testing Accuracy: 0.9622\n",
      "\n"
     ]
    },
    {
     "name": "stdout",
     "output_type": "stream",
     "text": [
      "Epoch 130, Loss 0.0424\n",
      "Training Accuracy: 0.9570, Testing Accuracy: 0.9637\n",
      "\n"
     ]
    },
    {
     "name": "stdout",
     "output_type": "stream",
     "text": [
      "Epoch 140, Loss 0.0416\n",
      "Training Accuracy: 0.9579, Testing Accuracy: 0.9647\n",
      "\n"
     ]
    },
    {
     "name": "stdout",
     "output_type": "stream",
     "text": [
      "Epoch 150, Loss 0.0409\n",
      "Training Accuracy: 0.9580, Testing Accuracy: 0.9652\n",
      "\n"
     ]
    },
    {
     "name": "stdout",
     "output_type": "stream",
     "text": [
      "Epoch 160, Loss 0.0402\n",
      "Training Accuracy: 0.9580, Testing Accuracy: 0.9652\n",
      "\n"
     ]
    },
    {
     "name": "stdout",
     "output_type": "stream",
     "text": [
      "Epoch 170, Loss 0.0396\n",
      "Training Accuracy: 0.9582, Testing Accuracy: 0.9662\n",
      "\n"
     ]
    },
    {
     "name": "stdout",
     "output_type": "stream",
     "text": [
      "Epoch 180, Loss 0.0391\n",
      "Training Accuracy: 0.9584, Testing Accuracy: 0.9672\n",
      "\n"
     ]
    },
    {
     "name": "stdout",
     "output_type": "stream",
     "text": [
      "Epoch 190, Loss 0.0386\n",
      "Training Accuracy: 0.9591, Testing Accuracy: 0.9672\n",
      "\n"
     ]
    },
    {
     "name": "stdout",
     "output_type": "stream",
     "text": [
      "Epoch 200, Loss 0.0381\n",
      "Training Accuracy: 0.9594, Testing Accuracy: 0.9677\n",
      "\n"
     ]
    },
    {
     "name": "stdout",
     "output_type": "stream",
     "text": [
      "Epoch 210, Loss 0.0377\n",
      "Training Accuracy: 0.9598, Testing Accuracy: 0.9682\n",
      "\n"
     ]
    },
    {
     "name": "stdout",
     "output_type": "stream",
     "text": [
      "Epoch 220, Loss 0.0373\n",
      "Training Accuracy: 0.9603, Testing Accuracy: 0.9682\n",
      "\n"
     ]
    },
    {
     "name": "stdout",
     "output_type": "stream",
     "text": [
      "Epoch 230, Loss 0.0369\n",
      "Training Accuracy: 0.9607, Testing Accuracy: 0.9677\n",
      "\n"
     ]
    },
    {
     "name": "stdout",
     "output_type": "stream",
     "text": [
      "Epoch 240, Loss 0.0366\n",
      "Training Accuracy: 0.9610, Testing Accuracy: 0.9672\n",
      "\n"
     ]
    },
    {
     "data": {
      "text/plain": [
       "0.04994241153327705"
      ]
     },
     "execution_count": 23,
     "metadata": {},
     "output_type": "execute_result"
    }
   ],
   "source": [
    "lr_learner.train_loop(dl)"
   ]
  },
  {
   "cell_type": "code",
   "execution_count": 24,
   "id": "ca410940",
   "metadata": {
    "execution": {
     "iopub.execute_input": "2022-06-24T20:13:39.109000Z",
     "iopub.status.busy": "2022-06-24T20:13:39.107529Z",
     "iopub.status.idle": "2022-06-24T20:13:39.442572Z",
     "shell.execute_reply": "2022-06-24T20:13:39.443170Z"
    },
    "papermill": {
     "duration": 0.401781,
     "end_time": "2022-06-24T20:13:39.443353",
     "exception": false,
     "start_time": "2022-06-24T20:13:39.041572",
     "status": "completed"
    },
    "tags": []
   },
   "outputs": [
    {
     "data": {
      "text/plain": [
       "<matplotlib.legend.Legend at 0x7f65893eaa20>"
      ]
     },
     "execution_count": 24,
     "metadata": {},
     "output_type": "execute_result"
    },
    {
     "data": {
      "image/png": "[encoded data removed]",
      "text/plain": [
       "<Figure size 1080x720 with 1 Axes>"
      ]
     },
     "metadata": {
      "needs_background": "light"
     },
     "output_type": "display_data"
    }
   ],
   "source": [
    "#comparing the results of NN and LR\n",
    "plt.figure(figsize=(15,10))\n",
    "\n",
    "# Neural Network plots\n",
    "plt.plot(acc_nn.accuracies, 'r-', label = \"Training Accuracies - NN\")\n",
    "plt.plot(acc_nn.test_accuracies, 'g-', label = \"Testing Accuracies - NN\")\n",
    "\n",
    "# Logistic Regression plots\n",
    "plt.plot(acc_lr.accuracies, 'k-', label = \"Training Accuracies - LR\")\n",
    "plt.plot(acc_lr.test_accuracies, 'b-', label = \"Testing Accuracies - LR\")\n",
    "plt.legend()"
   ]
  },
  {
   "cell_type": "markdown",
   "id": "80dfb35c",
   "metadata": {
    "papermill": {
     "duration": 0.058148,
     "end_time": "2022-06-24T20:13:39.564818",
     "exception": false,
     "start_time": "2022-06-24T20:13:39.506670",
     "status": "completed"
    },
    "tags": []
   },
   "source": [
    "#### Plotting the outputs of this layer of the NN.\n"
   ]
  },
  {
   "cell_type": "code",
   "execution_count": 25,
   "id": "45eb2ff5",
   "metadata": {
    "execution": {
     "iopub.execute_input": "2022-06-24T20:13:39.693775Z",
     "iopub.status.busy": "2022-06-24T20:13:39.692892Z",
     "iopub.status.idle": "2022-06-24T20:13:39.722923Z",
     "shell.execute_reply": "2022-06-24T20:13:39.722172Z"
    },
    "papermill": {
     "duration": 0.097989,
     "end_time": "2022-06-24T20:13:39.723108",
     "exception": false,
     "start_time": "2022-06-24T20:13:39.625119",
     "status": "completed"
    },
    "tags": []
   },
   "outputs": [],
   "source": [
    "new_model = Model(layers[:-2])\n",
    "testing_plot = new_model(testing_data_x)"
   ]
  },
  {
   "cell_type": "code",
   "execution_count": 26,
   "id": "4c0a5485",
   "metadata": {
    "execution": {
     "iopub.execute_input": "2022-06-24T20:13:39.843873Z",
     "iopub.status.busy": "2022-06-24T20:13:39.843036Z",
     "iopub.status.idle": "2022-06-24T20:13:40.118919Z",
     "shell.execute_reply": "2022-06-24T20:13:40.119528Z"
    },
    "papermill": {
     "duration": 0.340031,
     "end_time": "2022-06-24T20:13:40.119694",
     "exception": false,
     "start_time": "2022-06-24T20:13:39.779663",
     "status": "completed"
    },
    "tags": []
   },
   "outputs": [
    {
     "data": {
      "text/plain": [
       "Text(0.5, 1.0, 'Outputs')"
      ]
     },
     "execution_count": 26,
     "metadata": {},
     "output_type": "execute_result"
    },
    {
     "data": {
      "image/png": "[encoded data removed]",
      "text/plain": [
       "<Figure size 576x504 with 1 Axes>"
      ]
     },
     "metadata": {
      "needs_background": "light"
     },
     "output_type": "display_data"
    }
   ],
   "source": [
    "# Plotting the scatter plot of points and color coding by class\n",
    "plt.figure(figsize=(8,7))\n",
    "plt.scatter(testing_plot[:,0], testing_plot[:,1], alpha = 0.1, c = y_test.ravel());\n",
    "plt.title('Outputs')"
   ]
  },
  {
   "cell_type": "markdown",
   "id": "a74fcf8f",
   "metadata": {
    "papermill": {
     "duration": 0.08875,
     "end_time": "2022-06-24T20:13:40.267817",
     "exception": false,
     "start_time": "2022-06-24T20:13:40.179067",
     "status": "completed"
    },
    "tags": []
   },
   "source": [
    "Probability contours"
   ]
  },
  {
   "cell_type": "code",
   "execution_count": 27,
   "id": "d0afc8e3",
   "metadata": {
    "execution": {
     "iopub.execute_input": "2022-06-24T20:13:40.397395Z",
     "iopub.status.busy": "2022-06-24T20:13:40.394659Z",
     "iopub.status.idle": "2022-06-24T20:13:40.411142Z",
     "shell.execute_reply": "2022-06-24T20:13:40.410474Z"
    },
    "papermill": {
     "duration": 0.082967,
     "end_time": "2022-06-24T20:13:40.411359",
     "exception": false,
     "start_time": "2022-06-24T20:13:40.328392",
     "status": "completed"
    },
    "tags": []
   },
   "outputs": [],
   "source": [
    "model_prob = Model(layers[-2:]) "
   ]
  },
  {
   "cell_type": "code",
   "execution_count": 28,
   "id": "9b96e238",
   "metadata": {
    "execution": {
     "iopub.execute_input": "2022-06-24T20:13:40.542109Z",
     "iopub.status.busy": "2022-06-24T20:13:40.540915Z",
     "iopub.status.idle": "2022-06-24T20:13:40.555303Z",
     "shell.execute_reply": "2022-06-24T20:13:40.554682Z"
    },
    "papermill": {
     "duration": 0.084582,
     "end_time": "2022-06-24T20:13:40.555488",
     "exception": false,
     "start_time": "2022-06-24T20:13:40.470906",
     "status": "completed"
    },
    "tags": []
   },
   "outputs": [],
   "source": [
    "#creating the x and y ranges according to the above generated plot.\n",
    "x_range = np.linspace(-4, 1, 100) \n",
    "y_range = np.linspace(-6, 6, 100) \n",
    "x_grid, y_grid = np.meshgrid(x_range, y_range) # x_grid and y_grig are of size 100 X 100\n",
    "\n",
    "# converting x_grid and y_grid to continuous arrays\n",
    "x_gridflat = np.ravel(x_grid)\n",
    "y_gridflat = np.ravel(y_grid)\n",
    "\n",
    "# The last layer of the current model takes two columns as input. Hence transpose of np.vstack() is required.\n",
    "X = np.vstack((x_gridflat, y_gridflat)).T\n",
    "\n",
    "prob_contour = model_prob(X).reshape(100,100) "
   ]
  },
  {
   "cell_type": "code",
   "execution_count": 29,
   "id": "da72499a",
   "metadata": {
    "execution": {
     "iopub.execute_input": "2022-06-24T20:13:40.679833Z",
     "iopub.status.busy": "2022-06-24T20:13:40.678913Z",
     "iopub.status.idle": "2022-06-24T20:13:41.035318Z",
     "shell.execute_reply": "2022-06-24T20:13:41.034508Z"
    },
    "papermill": {
     "duration": 0.420078,
     "end_time": "2022-06-24T20:13:41.035532",
     "exception": false,
     "start_time": "2022-06-24T20:13:40.615454",
     "status": "completed"
    },
    "tags": []
   },
   "outputs": [
    {
     "data": {
      "image/png": "[encoded data removed]",
      "text/plain": [
       "<Figure size 720x648 with 1 Axes>"
      ]
     },
     "metadata": {
      "needs_background": "light"
     },
     "output_type": "display_data"
    }
   ],
   "source": [
    "plt.figure(figsize=(10,9))\n",
    "plt.scatter(testing_plot[:,0], testing_plot[:,1], alpha = 0.1, c = y_test.ravel())\n",
    "contours = plt.contour(x_grid,y_grid,prob_contour)\n",
    "plt.title('Probability Contours')\n",
    "plt.clabel(contours, inline = True );"
   ]
  },
  {
   "cell_type": "code",
   "execution_count": null,
   "id": "e81b4ac7",
   "metadata": {
    "papermill": {
     "duration": 0.061337,
     "end_time": "2022-06-24T20:13:41.158045",
     "exception": false,
     "start_time": "2022-06-24T20:13:41.096708",
     "status": "completed"
    },
    "tags": []
   },
   "outputs": [],
   "source": []
  }
 ],
 "metadata": {
  "kernelspec": {
   "display_name": "Python 3",
   "language": "python",
   "name": "python3"
  },
  "language_info": {
   "codemirror_mode": {
    "name": "ipython",
    "version": 3
   },
   "file_extension": ".py",
   "mimetype": "text/x-python",
   "name": "python",
   "nbconvert_exporter": "python",
   "pygments_lexer": "ipython3",
   "version": "3.6.15"
  },
  "papermill": {
   "default_parameters": {},
   "duration": 176.185345,
   "end_time": "2022-06-24T20:13:41.650754",
   "environment_variables": {},
   "exception": null,
   "input_path": "2020-08-11-part2.ipynb",
   "output_path": "2020-08-11-part2.ipynb",
   "parameters": {},
   "start_time": "2022-06-24T20:10:45.465409",
   "version": "2.3.3"
  }
 },
 "nbformat": 4,
 "nbformat_minor": 5
}