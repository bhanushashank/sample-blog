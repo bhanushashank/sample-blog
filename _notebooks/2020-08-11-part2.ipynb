{
 "cells": [
  {
   "cell_type": "markdown",
   "id": "98380cd3",
   "metadata": {
    "papermill": {
     "duration": 0.037398,
     "end_time": "2022-11-10T20:12:11.005773",
     "exception": false,
     "start_time": "2022-11-10T20:12:10.968375",
     "status": "completed"
    },
    "tags": []
   },
   "source": [
    "# Distinguish Your Own Digits (DYOD)"
   ]
  },
  {
   "cell_type": "markdown",
   "id": "ef31240d",
   "metadata": {
    "papermill": {
     "duration": 0.032551,
     "end_time": "2022-11-10T20:12:11.069268",
     "exception": false,
     "start_time": "2022-11-10T20:12:11.036717",
     "status": "completed"
    },
    "tags": []
   },
   "source": [
    "You are going to write a classifier that distinguishes between the number 3 and number 8."
   ]
  },
  {
   "cell_type": "code",
   "execution_count": 1,
   "id": "b15c8646",
   "metadata": {
    "execution": {
     "iopub.execute_input": "2022-11-10T20:12:11.148967Z",
     "iopub.status.busy": "2022-11-10T20:12:11.148196Z",
     "iopub.status.idle": "2022-11-10T20:12:11.162767Z",
     "shell.execute_reply": "2022-11-10T20:12:11.162088Z"
    },
    "papermill": {
     "duration": 0.062634,
     "end_time": "2022-11-10T20:12:11.162943",
     "exception": false,
     "start_time": "2022-11-10T20:12:11.100309",
     "status": "completed"
    },
    "tags": []
   },
   "outputs": [],
   "source": [
    "%load_ext autoreload\n",
    "%autoreload 2"
   ]
  },
  {
   "cell_type": "code",
   "execution_count": 2,
   "id": "22ef38dc",
   "metadata": {
    "execution": {
     "iopub.execute_input": "2022-11-10T20:12:11.235795Z",
     "iopub.status.busy": "2022-11-10T20:12:11.235018Z",
     "iopub.status.idle": "2022-11-10T20:12:11.949698Z",
     "shell.execute_reply": "2022-11-10T20:12:11.948654Z"
    },
    "papermill": {
     "duration": 0.755389,
     "end_time": "2022-11-10T20:12:11.949836",
     "exception": false,
     "start_time": "2022-11-10T20:12:11.194447",
     "status": "completed"
    },
    "tags": []
   },
   "outputs": [],
   "source": [
    "%matplotlib inline\n",
    "import numpy as np\n",
    "import matplotlib.pyplot as plt\n",
    "import pandas as pd"
   ]
  },
  {
   "cell_type": "markdown",
   "id": "ba036198",
   "metadata": {
    "papermill": {
     "duration": 0.030629,
     "end_time": "2022-11-10T20:12:12.009165",
     "exception": false,
     "start_time": "2022-11-10T20:12:11.978536",
     "status": "completed"
    },
    "tags": []
   },
   "source": [
    "From the command line run `pip install mnist`. This is a library that will help you bring down the mnist dataset. If you run this from a notebook, you need to put  `!pip install mnist` in a cell by itself."
   ]
  },
  {
   "cell_type": "code",
   "execution_count": 3,
   "id": "bb6ad8a1",
   "metadata": {
    "execution": {
     "iopub.execute_input": "2022-11-10T20:12:12.076792Z",
     "iopub.status.busy": "2022-11-10T20:12:12.076069Z",
     "iopub.status.idle": "2022-11-10T20:12:14.080751Z",
     "shell.execute_reply": "2022-11-10T20:12:14.079176Z"
    },
    "papermill": {
     "duration": 2.040057,
     "end_time": "2022-11-10T20:12:14.080943",
     "exception": false,
     "start_time": "2022-11-10T20:12:12.040886",
     "status": "completed"
    },
    "tags": []
   },
   "outputs": [
    {
     "name": "stdout",
     "output_type": "stream",
     "text": [
      "Collecting mnist\r\n"
     ]
    },
    {
     "name": "stdout",
     "output_type": "stream",
     "text": [
      "  Downloading mnist-0.2.2-py2.py3-none-any.whl (3.5 kB)\r\n",
      "Requirement already satisfied: numpy in /opt/hostedtoolcache/Python/3.6.15/x64/lib/python3.6/site-packages (from mnist) (1.19.5)\r\n"
     ]
    },
    {
     "name": "stdout",
     "output_type": "stream",
     "text": [
      "Installing collected packages: mnist\r\n"
     ]
    },
    {
     "name": "stdout",
     "output_type": "stream",
     "text": [
      "Successfully installed mnist-0.2.2\r\n"
     ]
    }
   ],
   "source": [
    "!pip install mnist"
   ]
  },
  {
   "cell_type": "markdown",
   "id": "69df9c9a",
   "metadata": {
    "papermill": {
     "duration": 0.037709,
     "end_time": "2022-11-10T20:12:14.148291",
     "exception": false,
     "start_time": "2022-11-10T20:12:14.110582",
     "status": "completed"
    },
    "tags": []
   },
   "source": [
    "## Preparing the Data"
   ]
  },
  {
   "cell_type": "code",
   "execution_count": 4,
   "id": "7f69d806",
   "metadata": {
    "execution": {
     "iopub.execute_input": "2022-11-10T20:12:14.216882Z",
     "iopub.status.busy": "2022-11-10T20:12:14.212716Z",
     "iopub.status.idle": "2022-11-10T20:12:14.232340Z",
     "shell.execute_reply": "2022-11-10T20:12:14.230997Z"
    },
    "papermill": {
     "duration": 0.055177,
     "end_time": "2022-11-10T20:12:14.232520",
     "exception": false,
     "start_time": "2022-11-10T20:12:14.177343",
     "status": "completed"
    },
    "tags": []
   },
   "outputs": [],
   "source": [
    "import mnist"
   ]
  },
  {
   "cell_type": "code",
   "execution_count": 5,
   "id": "a411e44f",
   "metadata": {
    "execution": {
     "iopub.execute_input": "2022-11-10T20:12:14.297703Z",
     "iopub.status.busy": "2022-11-10T20:12:14.296675Z",
     "iopub.status.idle": "2022-11-10T20:12:15.021765Z",
     "shell.execute_reply": "2022-11-10T20:12:15.020413Z"
    },
    "papermill": {
     "duration": 0.759182,
     "end_time": "2022-11-10T20:12:15.021907",
     "exception": false,
     "start_time": "2022-11-10T20:12:14.262725",
     "status": "completed"
    },
    "tags": []
   },
   "outputs": [],
   "source": [
    "train_images = mnist.train_images()\n",
    "train_labels = mnist.train_labels()"
   ]
  },
  {
   "cell_type": "code",
   "execution_count": 6,
   "id": "dceab3a5",
   "metadata": {
    "execution": {
     "iopub.execute_input": "2022-11-10T20:12:15.091927Z",
     "iopub.status.busy": "2022-11-10T20:12:15.090946Z",
     "iopub.status.idle": "2022-11-10T20:12:15.108878Z",
     "shell.execute_reply": "2022-11-10T20:12:15.108309Z"
    },
    "papermill": {
     "duration": 0.056998,
     "end_time": "2022-11-10T20:12:15.109040",
     "exception": false,
     "start_time": "2022-11-10T20:12:15.052042",
     "status": "completed"
    },
    "tags": []
   },
   "outputs": [
    {
     "data": {
      "text/plain": [
       "((60000, 28, 28), (60000,))"
      ]
     },
     "execution_count": 6,
     "metadata": {},
     "output_type": "execute_result"
    }
   ],
   "source": [
    "train_images.shape, train_labels.shape"
   ]
  },
  {
   "cell_type": "code",
   "execution_count": 7,
   "id": "f50dc2bb",
   "metadata": {
    "execution": {
     "iopub.execute_input": "2022-11-10T20:12:15.178539Z",
     "iopub.status.busy": "2022-11-10T20:12:15.177616Z",
     "iopub.status.idle": "2022-11-10T20:12:15.331249Z",
     "shell.execute_reply": "2022-11-10T20:12:15.331860Z"
    },
    "papermill": {
     "duration": 0.191052,
     "end_time": "2022-11-10T20:12:15.332060",
     "exception": false,
     "start_time": "2022-11-10T20:12:15.141008",
     "status": "completed"
    },
    "tags": []
   },
   "outputs": [],
   "source": [
    "test_images = mnist.test_images()\n",
    "test_labels = mnist.test_labels()"
   ]
  },
  {
   "cell_type": "code",
   "execution_count": 8,
   "id": "fc38cf1b",
   "metadata": {
    "execution": {
     "iopub.execute_input": "2022-11-10T20:12:15.407558Z",
     "iopub.status.busy": "2022-11-10T20:12:15.406722Z",
     "iopub.status.idle": "2022-11-10T20:12:15.427437Z",
     "shell.execute_reply": "2022-11-10T20:12:15.426716Z"
    },
    "papermill": {
     "duration": 0.062571,
     "end_time": "2022-11-10T20:12:15.427656",
     "exception": false,
     "start_time": "2022-11-10T20:12:15.365085",
     "status": "completed"
    },
    "tags": []
   },
   "outputs": [
    {
     "data": {
      "text/plain": [
       "((10000, 28, 28), (10000,))"
      ]
     },
     "execution_count": 8,
     "metadata": {},
     "output_type": "execute_result"
    }
   ],
   "source": [
    "test_images.shape, test_labels.shape"
   ]
  },
  {
   "cell_type": "code",
   "execution_count": 9,
   "id": "f9ed8fe0",
   "metadata": {
    "execution": {
     "iopub.execute_input": "2022-11-10T20:12:15.508382Z",
     "iopub.status.busy": "2022-11-10T20:12:15.507654Z",
     "iopub.status.idle": "2022-11-10T20:12:15.713682Z",
     "shell.execute_reply": "2022-11-10T20:12:15.714655Z"
    },
    "papermill": {
     "duration": 0.250508,
     "end_time": "2022-11-10T20:12:15.714817",
     "exception": false,
     "start_time": "2022-11-10T20:12:15.464309",
     "status": "completed"
    },
    "tags": []
   },
   "outputs": [
    {
     "name": "stdout",
     "output_type": "stream",
     "text": [
      "2\n"
     ]
    },
    {
     "data": {
      "text/plain": [
       "<matplotlib.image.AxesImage at 0x7fa9d9fc4e10>"
      ]
     },
     "execution_count": 9,
     "metadata": {},
     "output_type": "execute_result"
    },
    {
     "data": {
      "image/png": "[encoded data removed]",
      "text/plain": [
       "<Figure size 432x288 with 1 Axes>"
      ]
     },
     "metadata": {
      "needs_background": "light"
     },
     "output_type": "display_data"
    }
   ],
   "source": [
    "image_index = 7776 # You may select anything up to 60,000\n",
    "print(train_labels[image_index]) \n",
    "plt.imshow(train_images[image_index], cmap='Greys')"
   ]
  },
  {
   "cell_type": "markdown",
   "id": "a8d2388d",
   "metadata": {
    "papermill": {
     "duration": 0.034402,
     "end_time": "2022-11-10T20:12:15.785170",
     "exception": false,
     "start_time": "2022-11-10T20:12:15.750768",
     "status": "completed"
    },
    "tags": []
   },
   "source": [
    "## Filter data to get 3 and 8 out"
   ]
  },
  {
   "cell_type": "code",
   "execution_count": 10,
   "id": "776f7fc7",
   "metadata": {
    "execution": {
     "iopub.execute_input": "2022-11-10T20:12:15.864534Z",
     "iopub.status.busy": "2022-11-10T20:12:15.860907Z",
     "iopub.status.idle": "2022-11-10T20:12:15.885778Z",
     "shell.execute_reply": "2022-11-10T20:12:15.885161Z"
    },
    "papermill": {
     "duration": 0.066691,
     "end_time": "2022-11-10T20:12:15.885928",
     "exception": false,
     "start_time": "2022-11-10T20:12:15.819237",
     "status": "completed"
    },
    "tags": []
   },
   "outputs": [],
   "source": [
    "train_filter = np.where((train_labels == 3 ) | (train_labels == 8))\n",
    "test_filter = np.where((test_labels == 3) | (test_labels == 8))\n",
    "X_train, y_train = train_images[train_filter], train_labels[train_filter]\n",
    "X_test, y_test = test_images[test_filter], test_labels[test_filter]"
   ]
  },
  {
   "cell_type": "markdown",
   "id": "948f0b7e",
   "metadata": {
    "papermill": {
     "duration": 0.035277,
     "end_time": "2022-11-10T20:12:15.956395",
     "exception": false,
     "start_time": "2022-11-10T20:12:15.921118",
     "status": "completed"
    },
    "tags": []
   },
   "source": [
    "We normalize the pizel values in the 0 to 1 range"
   ]
  },
  {
   "cell_type": "code",
   "execution_count": 11,
   "id": "ee4c2166",
   "metadata": {
    "execution": {
     "iopub.execute_input": "2022-11-10T20:12:16.036203Z",
     "iopub.status.busy": "2022-11-10T20:12:16.035407Z",
     "iopub.status.idle": "2022-11-10T20:12:16.105019Z",
     "shell.execute_reply": "2022-11-10T20:12:16.104275Z"
    },
    "papermill": {
     "duration": 0.115031,
     "end_time": "2022-11-10T20:12:16.105165",
     "exception": false,
     "start_time": "2022-11-10T20:12:15.990134",
     "status": "completed"
    },
    "tags": []
   },
   "outputs": [],
   "source": [
    "X_train = X_train/255.\n",
    "X_test = X_test/255."
   ]
  },
  {
   "cell_type": "markdown",
   "id": "ddcf4fab",
   "metadata": {
    "papermill": {
     "duration": 0.040523,
     "end_time": "2022-11-10T20:12:16.184240",
     "exception": false,
     "start_time": "2022-11-10T20:12:16.143717",
     "status": "completed"
    },
    "tags": []
   },
   "source": [
    "And setup the labels as 1 (when the digit is 3) and 0 (when the digit is 8)"
   ]
  },
  {
   "cell_type": "code",
   "execution_count": 12,
   "id": "7dc908f2",
   "metadata": {
    "execution": {
     "iopub.execute_input": "2022-11-10T20:12:16.260571Z",
     "iopub.status.busy": "2022-11-10T20:12:16.259739Z",
     "iopub.status.idle": "2022-11-10T20:12:16.274407Z",
     "shell.execute_reply": "2022-11-10T20:12:16.273591Z"
    },
    "papermill": {
     "duration": 0.054745,
     "end_time": "2022-11-10T20:12:16.274575",
     "exception": false,
     "start_time": "2022-11-10T20:12:16.219830",
     "status": "completed"
    },
    "tags": []
   },
   "outputs": [],
   "source": [
    "y_train = 1*(y_train==3)\n",
    "y_test = 1*(y_test==3)"
   ]
  },
  {
   "cell_type": "code",
   "execution_count": 13,
   "id": "01e4e969",
   "metadata": {
    "execution": {
     "iopub.execute_input": "2022-11-10T20:12:16.349262Z",
     "iopub.status.busy": "2022-11-10T20:12:16.348517Z",
     "iopub.status.idle": "2022-11-10T20:12:16.365214Z",
     "shell.execute_reply": "2022-11-10T20:12:16.364650Z"
    },
    "papermill": {
     "duration": 0.056175,
     "end_time": "2022-11-10T20:12:16.365340",
     "exception": false,
     "start_time": "2022-11-10T20:12:16.309165",
     "status": "completed"
    },
    "tags": []
   },
   "outputs": [
    {
     "data": {
      "text/plain": [
       "((11982, 28, 28), (1984, 28, 28))"
      ]
     },
     "execution_count": 13,
     "metadata": {},
     "output_type": "execute_result"
    }
   ],
   "source": [
    "X_train.shape, X_test.shape"
   ]
  },
  {
   "cell_type": "markdown",
   "id": "5ccf3f85",
   "metadata": {
    "papermill": {
     "duration": 0.034933,
     "end_time": "2022-11-10T20:12:16.437031",
     "exception": false,
     "start_time": "2022-11-10T20:12:16.402098",
     "status": "completed"
    },
    "tags": []
   },
   "source": [
    "We reshape the data to flatten the image pixels into a set of features or co-variates:"
   ]
  },
  {
   "cell_type": "code",
   "execution_count": 14,
   "id": "5286a4a3",
   "metadata": {
    "execution": {
     "iopub.execute_input": "2022-11-10T20:12:16.518027Z",
     "iopub.status.busy": "2022-11-10T20:12:16.517231Z",
     "iopub.status.idle": "2022-11-10T20:12:16.533353Z",
     "shell.execute_reply": "2022-11-10T20:12:16.533928Z"
    },
    "papermill": {
     "duration": 0.060542,
     "end_time": "2022-11-10T20:12:16.534074",
     "exception": false,
     "start_time": "2022-11-10T20:12:16.473532",
     "status": "completed"
    },
    "tags": []
   },
   "outputs": [
    {
     "data": {
      "text/plain": [
       "((11982, 784), (1984, 784))"
      ]
     },
     "execution_count": 14,
     "metadata": {},
     "output_type": "execute_result"
    }
   ],
   "source": [
    "X_train = X_train.reshape(X_train.shape[0], -1)\n",
    "X_test = X_test.reshape(X_test.shape[0], -1)\n",
    "X_train.shape, X_test.shape"
   ]
  },
  {
   "cell_type": "code",
   "execution_count": 15,
   "id": "73c5f88a",
   "metadata": {
    "execution": {
     "iopub.execute_input": "2022-11-10T20:12:16.609109Z",
     "iopub.status.busy": "2022-11-10T20:12:16.608367Z",
     "iopub.status.idle": "2022-11-10T20:12:16.633664Z",
     "shell.execute_reply": "2022-11-10T20:12:16.633048Z"
    },
    "papermill": {
     "duration": 0.064725,
     "end_time": "2022-11-10T20:12:16.633844",
     "exception": false,
     "start_time": "2022-11-10T20:12:16.569119",
     "status": "completed"
    },
    "tags": []
   },
   "outputs": [],
   "source": [
    "#Impoting functions from 'Kudzu'\n",
    "from kudzu.model import Model\n",
    "from kudzu.train import Learner\n",
    "from kudzu.optim import GD\n",
    "from kudzu.data import Data, Sampler,Dataloader\n",
    "\n",
    "from kudzu.callbacks import AccCallback\n",
    "from kudzu.callbacks import ClfCallback\n",
    "\n",
    "from kudzu.loss import MSE\n",
    "\n",
    "from kudzu.layer import Sigmoid,Relu\n",
    "from kudzu.layer import Affine"
   ]
  },
  {
   "cell_type": "markdown",
   "id": "bc01172a",
   "metadata": {
    "papermill": {
     "duration": 0.035957,
     "end_time": "2022-11-10T20:12:16.704268",
     "exception": false,
     "start_time": "2022-11-10T20:12:16.668311",
     "status": "completed"
    },
    "tags": []
   },
   "source": [
    "### Let us create a `Config` class, to store important parameters. \n",
    "This class essentially plays the role of a dictionary."
   ]
  },
  {
   "cell_type": "code",
   "execution_count": 16,
   "id": "978281aa",
   "metadata": {
    "execution": {
     "iopub.execute_input": "2022-11-10T20:12:16.781188Z",
     "iopub.status.busy": "2022-11-10T20:12:16.780352Z",
     "iopub.status.idle": "2022-11-10T20:12:16.794028Z",
     "shell.execute_reply": "2022-11-10T20:12:16.793472Z"
    },
    "papermill": {
     "duration": 0.054935,
     "end_time": "2022-11-10T20:12:16.794155",
     "exception": false,
     "start_time": "2022-11-10T20:12:16.739220",
     "status": "completed"
    },
    "tags": []
   },
   "outputs": [],
   "source": [
    "class Config:\n",
    "    pass\n",
    "config = Config()\n",
    "config.lr = 0.001\n",
    "config.num_epochs = 250\n",
    "config.bs = 50"
   ]
  },
  {
   "cell_type": "markdown",
   "id": "1385fa59",
   "metadata": {
    "papermill": {
     "duration": 0.033641,
     "end_time": "2022-11-10T20:12:16.862231",
     "exception": false,
     "start_time": "2022-11-10T20:12:16.828590",
     "status": "completed"
    },
    "tags": []
   },
   "source": [
    "### Running Models with the Training data\n",
    "Details about the network layers:\n",
    "- A first affine layer has 784 inputs and does 100 affine transforms. These are followed by a Relu\n",
    "- A second affine layer has 100 inputs from the 100 activations of the past layer, and does 100 affine transforms. These are followed by a Relu\n",
    "- A third affine layer has 100 activations and does 2 affine transformations to create an embedding for visualization. There is no non-linearity here.\n",
    "- A final \"logistic regression\" which has an affine transform from 2 inputs to 1 output, which is squeezed through a sigmoid.\n"
   ]
  },
  {
   "cell_type": "code",
   "execution_count": 17,
   "id": "2b9c66db",
   "metadata": {
    "execution": {
     "iopub.execute_input": "2022-11-10T20:12:16.937168Z",
     "iopub.status.busy": "2022-11-10T20:12:16.936349Z",
     "iopub.status.idle": "2022-11-10T20:12:16.951170Z",
     "shell.execute_reply": "2022-11-10T20:12:16.951814Z"
    },
    "papermill": {
     "duration": 0.054344,
     "end_time": "2022-11-10T20:12:16.951960",
     "exception": false,
     "start_time": "2022-11-10T20:12:16.897616",
     "status": "completed"
    },
    "tags": []
   },
   "outputs": [],
   "source": [
    "data = Data(X_train, y_train.reshape(-1,1))\n",
    "sampler = Sampler(data, config.bs, shuffle=True)\n",
    "\n",
    "dl = Dataloader(data, sampler)\n",
    "\n",
    "opt = GD(config.lr)\n",
    "loss = MSE()"
   ]
  },
  {
   "cell_type": "code",
   "execution_count": 18,
   "id": "b275e4c2",
   "metadata": {
    "execution": {
     "iopub.execute_input": "2022-11-10T20:12:17.032749Z",
     "iopub.status.busy": "2022-11-10T20:12:17.031752Z",
     "iopub.status.idle": "2022-11-10T20:12:17.046510Z",
     "shell.execute_reply": "2022-11-10T20:12:17.045919Z"
    },
    "papermill": {
     "duration": 0.058178,
     "end_time": "2022-11-10T20:12:17.046654",
     "exception": false,
     "start_time": "2022-11-10T20:12:16.988476",
     "status": "completed"
    },
    "tags": []
   },
   "outputs": [],
   "source": [
    "training_data_x = X_train\n",
    "testing_data_x = X_test\n",
    "training_data_y = y_train.reshape(-1,1)\n",
    "testing_data_y = y_test.reshape(-1,1)"
   ]
  },
  {
   "cell_type": "code",
   "execution_count": 19,
   "id": "76951160",
   "metadata": {
    "execution": {
     "iopub.execute_input": "2022-11-10T20:12:17.122980Z",
     "iopub.status.busy": "2022-11-10T20:12:17.122219Z",
     "iopub.status.idle": "2022-11-10T20:12:17.141468Z",
     "shell.execute_reply": "2022-11-10T20:12:17.140895Z"
    },
    "papermill": {
     "duration": 0.05873,
     "end_time": "2022-11-10T20:12:17.141619",
     "exception": false,
     "start_time": "2022-11-10T20:12:17.082889",
     "status": "completed"
    },
    "tags": []
   },
   "outputs": [
    {
     "name": "stdout",
     "output_type": "stream",
     "text": [
      "xavier\n",
      "xavier\n",
      "xavier\n",
      "xavier\n",
      "xavier\n"
     ]
    }
   ],
   "source": [
    "layers = [Affine(\"first\", 784, 100), Relu(\"first\"), Affine(\"second\", 100, 100), Relu(\"second\"), Affine(\"third\", 100, 2), Affine(\"last\", 2, 1), Sigmoid(\"last\")]\n",
    "model_nn = Model(layers)\n",
    "model_lr = Model([Affine(\"logits\", 784, 1), Sigmoid(\"sigmoid\")])"
   ]
  },
  {
   "cell_type": "code",
   "execution_count": 20,
   "id": "6eede77a",
   "metadata": {
    "execution": {
     "iopub.execute_input": "2022-11-10T20:12:17.218549Z",
     "iopub.status.busy": "2022-11-10T20:12:17.217789Z",
     "iopub.status.idle": "2022-11-10T20:12:17.232976Z",
     "shell.execute_reply": "2022-11-10T20:12:17.233511Z"
    },
    "papermill": {
     "duration": 0.055958,
     "end_time": "2022-11-10T20:12:17.233668",
     "exception": false,
     "start_time": "2022-11-10T20:12:17.177710",
     "status": "completed"
    },
    "tags": []
   },
   "outputs": [],
   "source": [
    "nn_learner = Learner(loss, model_nn, opt, config.num_epochs)\n",
    "acc_nn = ClfCallback(nn_learner, config.bs, training_data_x , testing_data_x, training_data_y, testing_data_y)\n",
    "nn_learner.set_callbacks([acc_nn])"
   ]
  },
  {
   "cell_type": "code",
   "execution_count": 21,
   "id": "877b6cc7",
   "metadata": {
    "execution": {
     "iopub.execute_input": "2022-11-10T20:12:17.310183Z",
     "iopub.status.busy": "2022-11-10T20:12:17.309470Z",
     "iopub.status.idle": "2022-11-10T20:12:17.322882Z",
     "shell.execute_reply": "2022-11-10T20:12:17.323459Z"
    },
    "papermill": {
     "duration": 0.055296,
     "end_time": "2022-11-10T20:12:17.323627",
     "exception": false,
     "start_time": "2022-11-10T20:12:17.268331",
     "status": "completed"
    },
    "tags": []
   },
   "outputs": [],
   "source": [
    "lr_learner = Learner(loss, model_lr, opt, config.num_epochs)\n",
    "acc_lr = ClfCallback(lr_learner, config.bs, training_data_x , testing_data_x, training_data_y, testing_data_y)\n",
    "lr_learner.set_callbacks([acc_lr])"
   ]
  },
  {
   "cell_type": "code",
   "execution_count": 22,
   "id": "d9b133c3",
   "metadata": {
    "execution": {
     "iopub.execute_input": "2022-11-10T20:12:17.398541Z",
     "iopub.status.busy": "2022-11-10T20:12:17.397821Z",
     "iopub.status.idle": "2022-11-10T20:14:48.078030Z",
     "shell.execute_reply": "2022-11-10T20:14:48.078940Z"
    },
    "papermill": {
     "duration": 150.719429,
     "end_time": "2022-11-10T20:14:48.079086",
     "exception": false,
     "start_time": "2022-11-10T20:12:17.359657",
     "status": "completed"
    },
    "tags": []
   },
   "outputs": [
    {
     "name": "stdout",
     "output_type": "stream",
     "text": [
      "Epoch 0, Loss 0.2137\n",
      "Training Accuracy: 0.8065, Testing Accuracy: 0.8019\n",
      "\n"
     ]
    },
    {
     "name": "stdout",
     "output_type": "stream",
     "text": [
      "Epoch 10, Loss 0.0607\n",
      "Training Accuracy: 0.9421, Testing Accuracy: 0.9491\n",
      "\n"
     ]
    },
    {
     "name": "stdout",
     "output_type": "stream",
     "text": [
      "Epoch 20, Loss 0.0423\n",
      "Training Accuracy: 0.9549, Testing Accuracy: 0.9607\n",
      "\n"
     ]
    },
    {
     "name": "stdout",
     "output_type": "stream",
     "text": [
      "Epoch 30, Loss 0.0355\n",
      "Training Accuracy: 0.9604, Testing Accuracy: 0.9657\n",
      "\n"
     ]
    },
    {
     "name": "stdout",
     "output_type": "stream",
     "text": [
      "Epoch 40, Loss 0.0318\n",
      "Training Accuracy: 0.9640, Testing Accuracy: 0.9688\n",
      "\n"
     ]
    },
    {
     "name": "stdout",
     "output_type": "stream",
     "text": [
      "Epoch 50, Loss 0.0294\n",
      "Training Accuracy: 0.9664, Testing Accuracy: 0.9698\n",
      "\n"
     ]
    },
    {
     "name": "stdout",
     "output_type": "stream",
     "text": [
      "Epoch 60, Loss 0.0275\n",
      "Training Accuracy: 0.9680, Testing Accuracy: 0.9708\n",
      "\n"
     ]
    },
    {
     "name": "stdout",
     "output_type": "stream",
     "text": [
      "Epoch 70, Loss 0.0261\n",
      "Training Accuracy: 0.9701, Testing Accuracy: 0.9718\n",
      "\n"
     ]
    },
    {
     "name": "stdout",
     "output_type": "stream",
     "text": [
      "Epoch 80, Loss 0.0249\n",
      "Training Accuracy: 0.9721, Testing Accuracy: 0.9723\n",
      "\n"
     ]
    },
    {
     "name": "stdout",
     "output_type": "stream",
     "text": [
      "Epoch 90, Loss 0.0238\n",
      "Training Accuracy: 0.9730, Testing Accuracy: 0.9738\n",
      "\n"
     ]
    },
    {
     "name": "stdout",
     "output_type": "stream",
     "text": [
      "Epoch 100, Loss 0.0229\n",
      "Training Accuracy: 0.9735, Testing Accuracy: 0.9743\n",
      "\n"
     ]
    },
    {
     "name": "stdout",
     "output_type": "stream",
     "text": [
      "Epoch 110, Loss 0.0221\n",
      "Training Accuracy: 0.9745, Testing Accuracy: 0.9738\n",
      "\n"
     ]
    },
    {
     "name": "stdout",
     "output_type": "stream",
     "text": [
      "Epoch 120, Loss 0.0213\n",
      "Training Accuracy: 0.9755, Testing Accuracy: 0.9738\n",
      "\n"
     ]
    },
    {
     "name": "stdout",
     "output_type": "stream",
     "text": [
      "Epoch 130, Loss 0.0206\n",
      "Training Accuracy: 0.9769, Testing Accuracy: 0.9743\n",
      "\n"
     ]
    },
    {
     "name": "stdout",
     "output_type": "stream",
     "text": [
      "Epoch 140, Loss 0.02\n",
      "Training Accuracy: 0.9774, Testing Accuracy: 0.9748\n",
      "\n"
     ]
    },
    {
     "name": "stdout",
     "output_type": "stream",
     "text": [
      "Epoch 150, Loss 0.0195\n",
      "Training Accuracy: 0.9786, Testing Accuracy: 0.9748\n",
      "\n"
     ]
    },
    {
     "name": "stdout",
     "output_type": "stream",
     "text": [
      "Epoch 160, Loss 0.0189\n",
      "Training Accuracy: 0.9791, Testing Accuracy: 0.9748\n",
      "\n"
     ]
    },
    {
     "name": "stdout",
     "output_type": "stream",
     "text": [
      "Epoch 170, Loss 0.0184\n",
      "Training Accuracy: 0.9799, Testing Accuracy: 0.9748\n",
      "\n"
     ]
    },
    {
     "name": "stdout",
     "output_type": "stream",
     "text": [
      "Epoch 180, Loss 0.0179\n",
      "Training Accuracy: 0.9801, Testing Accuracy: 0.9748\n",
      "\n"
     ]
    },
    {
     "name": "stdout",
     "output_type": "stream",
     "text": [
      "Epoch 190, Loss 0.0174\n",
      "Training Accuracy: 0.9809, Testing Accuracy: 0.9753\n",
      "\n"
     ]
    },
    {
     "name": "stdout",
     "output_type": "stream",
     "text": [
      "Epoch 200, Loss 0.017\n",
      "Training Accuracy: 0.9813, Testing Accuracy: 0.9758\n",
      "\n"
     ]
    },
    {
     "name": "stdout",
     "output_type": "stream",
     "text": [
      "Epoch 210, Loss 0.0166\n",
      "Training Accuracy: 0.9818, Testing Accuracy: 0.9758\n",
      "\n"
     ]
    },
    {
     "name": "stdout",
     "output_type": "stream",
     "text": [
      "Epoch 220, Loss 0.0162\n",
      "Training Accuracy: 0.9826, Testing Accuracy: 0.9763\n",
      "\n"
     ]
    },
    {
     "name": "stdout",
     "output_type": "stream",
     "text": [
      "Epoch 230, Loss 0.0158\n",
      "Training Accuracy: 0.9831, Testing Accuracy: 0.9763\n",
      "\n"
     ]
    },
    {
     "name": "stdout",
     "output_type": "stream",
     "text": [
      "Epoch 240, Loss 0.0154\n",
      "Training Accuracy: 0.9834, Testing Accuracy: 0.9768\n",
      "\n"
     ]
    },
    {
     "data": {
      "text/plain": [
       "0.03145797496975762"
      ]
     },
     "execution_count": 22,
     "metadata": {},
     "output_type": "execute_result"
    }
   ],
   "source": [
    "nn_learner.train_loop(dl)"
   ]
  },
  {
   "cell_type": "code",
   "execution_count": 23,
   "id": "e0163366",
   "metadata": {
    "execution": {
     "iopub.execute_input": "2022-11-10T20:14:48.175056Z",
     "iopub.status.busy": "2022-11-10T20:14:48.173838Z",
     "iopub.status.idle": "2022-11-10T20:15:10.389441Z",
     "shell.execute_reply": "2022-11-10T20:15:10.390705Z"
    },
    "papermill": {
     "duration": 22.268893,
     "end_time": "2022-11-10T20:15:10.391110",
     "exception": false,
     "start_time": "2022-11-10T20:14:48.122217",
     "status": "completed"
    },
    "tags": []
   },
   "outputs": [
    {
     "name": "stdout",
     "output_type": "stream",
     "text": [
      "Epoch 0, Loss 0.2295\n",
      "Training Accuracy: 0.7007, Testing Accuracy: 0.6648\n",
      "\n"
     ]
    },
    {
     "name": "stdout",
     "output_type": "stream",
     "text": [
      "Epoch 10, Loss 0.1033\n",
      "Training Accuracy: 0.9068, Testing Accuracy: 0.9128\n",
      "\n"
     ]
    },
    {
     "name": "stdout",
     "output_type": "stream",
     "text": [
      "Epoch 20, Loss 0.0794\n",
      "Training Accuracy: 0.9266, Testing Accuracy: 0.9325\n",
      "\n"
     ]
    },
    {
     "name": "stdout",
     "output_type": "stream",
     "text": [
      "Epoch 30, Loss 0.0684\n",
      "Training Accuracy: 0.9361, Testing Accuracy: 0.9451\n",
      "\n"
     ]
    },
    {
     "name": "stdout",
     "output_type": "stream",
     "text": [
      "Epoch 40, Loss 0.0617\n",
      "Training Accuracy: 0.9430, Testing Accuracy: 0.9491\n",
      "\n"
     ]
    },
    {
     "name": "stdout",
     "output_type": "stream",
     "text": [
      "Epoch 50, Loss 0.0572\n",
      "Training Accuracy: 0.9453, Testing Accuracy: 0.9516\n",
      "\n"
     ]
    },
    {
     "name": "stdout",
     "output_type": "stream",
     "text": [
      "Epoch 60, Loss 0.0539\n",
      "Training Accuracy: 0.9480, Testing Accuracy: 0.9546\n",
      "\n"
     ]
    },
    {
     "name": "stdout",
     "output_type": "stream",
     "text": [
      "Epoch 70, Loss 0.0513\n",
      "Training Accuracy: 0.9502, Testing Accuracy: 0.9567\n",
      "\n"
     ]
    },
    {
     "name": "stdout",
     "output_type": "stream",
     "text": [
      "Epoch 80, Loss 0.0492\n",
      "Training Accuracy: 0.9514, Testing Accuracy: 0.9592\n",
      "\n"
     ]
    },
    {
     "name": "stdout",
     "output_type": "stream",
     "text": [
      "Epoch 90, Loss 0.0475\n",
      "Training Accuracy: 0.9528, Testing Accuracy: 0.9602\n",
      "\n"
     ]
    },
    {
     "name": "stdout",
     "output_type": "stream",
     "text": [
      "Epoch 100, Loss 0.0461\n",
      "Training Accuracy: 0.9541, Testing Accuracy: 0.9622\n",
      "\n"
     ]
    },
    {
     "name": "stdout",
     "output_type": "stream",
     "text": [
      "Epoch 110, Loss 0.0449\n",
      "Training Accuracy: 0.9551, Testing Accuracy: 0.9632\n",
      "\n"
     ]
    },
    {
     "name": "stdout",
     "output_type": "stream",
     "text": [
      "Epoch 120, Loss 0.0438\n",
      "Training Accuracy: 0.9559, Testing Accuracy: 0.9642\n",
      "\n"
     ]
    },
    {
     "name": "stdout",
     "output_type": "stream",
     "text": [
      "Epoch 130, Loss 0.0429\n",
      "Training Accuracy: 0.9566, Testing Accuracy: 0.9647\n",
      "\n"
     ]
    },
    {
     "name": "stdout",
     "output_type": "stream",
     "text": [
      "Epoch 140, Loss 0.0421\n",
      "Training Accuracy: 0.9574, Testing Accuracy: 0.9657\n",
      "\n"
     ]
    },
    {
     "name": "stdout",
     "output_type": "stream",
     "text": [
      "Epoch 150, Loss 0.0413\n",
      "Training Accuracy: 0.9580, Testing Accuracy: 0.9657\n",
      "\n"
     ]
    },
    {
     "name": "stdout",
     "output_type": "stream",
     "text": [
      "Epoch 160, Loss 0.0406\n",
      "Training Accuracy: 0.9582, Testing Accuracy: 0.9662\n",
      "\n"
     ]
    },
    {
     "name": "stdout",
     "output_type": "stream",
     "text": [
      "Epoch 170, Loss 0.04\n",
      "Training Accuracy: 0.9584, Testing Accuracy: 0.9662\n",
      "\n"
     ]
    },
    {
     "name": "stdout",
     "output_type": "stream",
     "text": [
      "Epoch 180, Loss 0.0395\n",
      "Training Accuracy: 0.9589, Testing Accuracy: 0.9667\n",
      "\n"
     ]
    },
    {
     "name": "stdout",
     "output_type": "stream",
     "text": [
      "Epoch 190, Loss 0.039\n",
      "Training Accuracy: 0.9594, Testing Accuracy: 0.9667\n",
      "\n"
     ]
    },
    {
     "name": "stdout",
     "output_type": "stream",
     "text": [
      "Epoch 200, Loss 0.0385\n",
      "Training Accuracy: 0.9599, Testing Accuracy: 0.9667\n",
      "\n"
     ]
    },
    {
     "name": "stdout",
     "output_type": "stream",
     "text": [
      "Epoch 210, Loss 0.038\n",
      "Training Accuracy: 0.9602, Testing Accuracy: 0.9667\n",
      "\n"
     ]
    },
    {
     "name": "stdout",
     "output_type": "stream",
     "text": [
      "Epoch 220, Loss 0.0376\n",
      "Training Accuracy: 0.9604, Testing Accuracy: 0.9672\n",
      "\n"
     ]
    },
    {
     "name": "stdout",
     "output_type": "stream",
     "text": [
      "Epoch 230, Loss 0.0372\n",
      "Training Accuracy: 0.9606, Testing Accuracy: 0.9667\n",
      "\n"
     ]
    },
    {
     "name": "stdout",
     "output_type": "stream",
     "text": [
      "Epoch 240, Loss 0.0369\n",
      "Training Accuracy: 0.9606, Testing Accuracy: 0.9667\n",
      "\n"
     ]
    },
    {
     "data": {
      "text/plain": [
       "0.03773353306560901"
      ]
     },
     "execution_count": 23,
     "metadata": {},
     "output_type": "execute_result"
    }
   ],
   "source": [
    "lr_learner.train_loop(dl)"
   ]
  },
  {
   "cell_type": "code",
   "execution_count": 24,
   "id": "ca410940",
   "metadata": {
    "execution": {
     "iopub.execute_input": "2022-11-10T20:15:10.510135Z",
     "iopub.status.busy": "2022-11-10T20:15:10.509426Z",
     "iopub.status.idle": "2022-11-10T20:15:10.849931Z",
     "shell.execute_reply": "2022-11-10T20:15:10.850476Z"
    },
    "papermill": {
     "duration": 0.401803,
     "end_time": "2022-11-10T20:15:10.850632",
     "exception": false,
     "start_time": "2022-11-10T20:15:10.448829",
     "status": "completed"
    },
    "tags": []
   },
   "outputs": [
    {
     "data": {
      "text/plain": [
       "<matplotlib.legend.Legend at 0x7fa9d9b33550>"
      ]
     },
     "execution_count": 24,
     "metadata": {},
     "output_type": "execute_result"
    },
    {
     "data": {
      "image/png": "[encoded data removed]",
      "text/plain": [
       "<Figure size 1080x720 with 1 Axes>"
      ]
     },
     "metadata": {
      "needs_background": "light"
     },
     "output_type": "display_data"
    }
   ],
   "source": [
    "#comparing the results of NN and LR\n",
    "plt.figure(figsize=(15,10))\n",
    "\n",
    "# Neural Network plots\n",
    "plt.plot(acc_nn.accuracies, 'r-', label = \"Training Accuracies - NN\")\n",
    "plt.plot(acc_nn.test_accuracies, 'g-', label = \"Testing Accuracies - NN\")\n",
    "\n",
    "# Logistic Regression plots\n",
    "plt.plot(acc_lr.accuracies, 'k-', label = \"Training Accuracies - LR\")\n",
    "plt.plot(acc_lr.test_accuracies, 'b-', label = \"Testing Accuracies - LR\")\n",
    "plt.legend()"
   ]
  },
  {
   "cell_type": "markdown",
   "id": "80dfb35c",
   "metadata": {
    "papermill": {
     "duration": 0.060233,
     "end_time": "2022-11-10T20:15:10.972462",
     "exception": false,
     "start_time": "2022-11-10T20:15:10.912229",
     "status": "completed"
    },
    "tags": []
   },
   "source": [
    "#### Plotting the outputs of this layer of the NN.\n"
   ]
  },
  {
   "cell_type": "code",
   "execution_count": 25,
   "id": "45eb2ff5",
   "metadata": {
    "execution": {
     "iopub.execute_input": "2022-11-10T20:15:11.092882Z",
     "iopub.status.busy": "2022-11-10T20:15:11.092193Z",
     "iopub.status.idle": "2022-11-10T20:15:11.120318Z",
     "shell.execute_reply": "2022-11-10T20:15:11.119752Z"
    },
    "papermill": {
     "duration": 0.088768,
     "end_time": "2022-11-10T20:15:11.120449",
     "exception": false,
     "start_time": "2022-11-10T20:15:11.031681",
     "status": "completed"
    },
    "tags": []
   },
   "outputs": [],
   "source": [
    "new_model = Model(layers[:-2])\n",
    "testing_plot = new_model(testing_data_x)"
   ]
  },
  {
   "cell_type": "code",
   "execution_count": 26,
   "id": "4c0a5485",
   "metadata": {
    "execution": {
     "iopub.execute_input": "2022-11-10T20:15:11.234537Z",
     "iopub.status.busy": "2022-11-10T20:15:11.233510Z",
     "iopub.status.idle": "2022-11-10T20:15:11.474596Z",
     "shell.execute_reply": "2022-11-10T20:15:11.475846Z"
    },
    "papermill": {
     "duration": 0.301996,
     "end_time": "2022-11-10T20:15:11.476025",
     "exception": false,
     "start_time": "2022-11-10T20:15:11.174029",
     "status": "completed"
    },
    "tags": []
   },
   "outputs": [
    {
     "data": {
      "text/plain": [
       "Text(0.5, 1.0, 'Outputs')"
      ]
     },
     "execution_count": 26,
     "metadata": {},
     "output_type": "execute_result"
    },
    {
     "data": {
      "image/png": "[encoded data removed]",
      "text/plain": [
       "<Figure size 576x504 with 1 Axes>"
      ]
     },
     "metadata": {
      "needs_background": "light"
     },
     "output_type": "display_data"
    }
   ],
   "source": [
    "# Plotting the scatter plot of points and color coding by class\n",
    "plt.figure(figsize=(8,7))\n",
    "plt.scatter(testing_plot[:,0], testing_plot[:,1], alpha = 0.1, c = y_test.ravel());\n",
    "plt.title('Outputs')"
   ]
  },
  {
   "cell_type": "markdown",
   "id": "a74fcf8f",
   "metadata": {
    "papermill": {
     "duration": 0.054741,
     "end_time": "2022-11-10T20:15:11.608409",
     "exception": false,
     "start_time": "2022-11-10T20:15:11.553668",
     "status": "completed"
    },
    "tags": []
   },
   "source": [
    "Probability contours"
   ]
  },
  {
   "cell_type": "code",
   "execution_count": 27,
   "id": "d0afc8e3",
   "metadata": {
    "execution": {
     "iopub.execute_input": "2022-11-10T20:15:11.723416Z",
     "iopub.status.busy": "2022-11-10T20:15:11.722276Z",
     "iopub.status.idle": "2022-11-10T20:15:11.738932Z",
     "shell.execute_reply": "2022-11-10T20:15:11.738410Z"
    },
    "papermill": {
     "duration": 0.077374,
     "end_time": "2022-11-10T20:15:11.739057",
     "exception": false,
     "start_time": "2022-11-10T20:15:11.661683",
     "status": "completed"
    },
    "tags": []
   },
   "outputs": [],
   "source": [
    "model_prob = Model(layers[-2:]) "
   ]
  },
  {
   "cell_type": "code",
   "execution_count": 28,
   "id": "9b96e238",
   "metadata": {
    "execution": {
     "iopub.execute_input": "2022-11-10T20:15:11.860102Z",
     "iopub.status.busy": "2022-11-10T20:15:11.859358Z",
     "iopub.status.idle": "2022-11-10T20:15:11.874863Z",
     "shell.execute_reply": "2022-11-10T20:15:11.874308Z"
    },
    "papermill": {
     "duration": 0.078681,
     "end_time": "2022-11-10T20:15:11.875034",
     "exception": false,
     "start_time": "2022-11-10T20:15:11.796353",
     "status": "completed"
    },
    "tags": []
   },
   "outputs": [],
   "source": [
    "#creating the x and y ranges according to the above generated plot.\n",
    "x_range = np.linspace(-4, 1, 100) \n",
    "y_range = np.linspace(-6, 6, 100) \n",
    "x_grid, y_grid = np.meshgrid(x_range, y_range) # x_grid and y_grig are of size 100 X 100\n",
    "\n",
    "# converting x_grid and y_grid to continuous arrays\n",
    "x_gridflat = np.ravel(x_grid)\n",
    "y_gridflat = np.ravel(y_grid)\n",
    "\n",
    "# The last layer of the current model takes two columns as input. Hence transpose of np.vstack() is required.\n",
    "X = np.vstack((x_gridflat, y_gridflat)).T\n",
    "\n",
    "prob_contour = model_prob(X).reshape(100,100) "
   ]
  },
  {
   "cell_type": "code",
   "execution_count": 29,
   "id": "da72499a",
   "metadata": {
    "execution": {
     "iopub.execute_input": "2022-11-10T20:15:11.992735Z",
     "iopub.status.busy": "2022-11-10T20:15:11.992077Z",
     "iopub.status.idle": "2022-11-10T20:15:12.317051Z",
     "shell.execute_reply": "2022-11-10T20:15:12.317644Z"
    },
    "papermill": {
     "duration": 0.386001,
     "end_time": "2022-11-10T20:15:12.317823",
     "exception": false,
     "start_time": "2022-11-10T20:15:11.931822",
     "status": "completed"
    },
    "tags": []
   },
   "outputs": [
    {
     "data": {
      "image/png": "[encoded data removed]",
      "text/plain": [
       "<Figure size 720x648 with 1 Axes>"
      ]
     },
     "metadata": {
      "needs_background": "light"
     },
     "output_type": "display_data"
    }
   ],
   "source": [
    "plt.figure(figsize=(10,9))\n",
    "plt.scatter(testing_plot[:,0], testing_plot[:,1], alpha = 0.1, c = y_test.ravel())\n",
    "contours = plt.contour(x_grid,y_grid,prob_contour)\n",
    "plt.title('Probability Contours')\n",
    "plt.clabel(contours, inline = True );"
   ]
  },
  {
   "cell_type": "code",
   "execution_count": null,
   "id": "e81b4ac7",
   "metadata": {
    "papermill": {
     "duration": 0.056492,
     "end_time": "2022-11-10T20:15:12.433575",
     "exception": false,
     "start_time": "2022-11-10T20:15:12.377083",
     "status": "completed"
    },
    "tags": []
   },
   "outputs": [],
   "source": []
  }
 ],
 "metadata": {
  "kernelspec": {
   "display_name": "Python 3",
   "language": "python",
   "name": "python3"
  },
  "language_info": {
   "codemirror_mode": {
    "name": "ipython",
    "version": 3
   },
   "file_extension": ".py",
   "mimetype": "text/x-python",
   "name": "python",
   "nbconvert_exporter": "python",
   "pygments_lexer": "ipython3",
   "version": "3.6.15"
  },
  "papermill": {
   "default_parameters": {},
   "duration": 183.1866,
   "end_time": "2022-11-10T20:15:12.915431",
   "environment_variables": {},
   "exception": null,
   "input_path": "2020-08-11-part2.ipynb",
   "output_path": "2020-08-11-part2.ipynb",
   "parameters": {},
   "start_time": "2022-11-10T20:12:09.728831",
   "version": "2.3.3"
  }
 },
 "nbformat": 4,
 "nbformat_minor": 5
}