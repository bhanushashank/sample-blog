{
 "cells": [
  {
   "cell_type": "markdown",
   "id": "98380cd3",
   "metadata": {
    "papermill": {
     "duration": 0.027775,
     "end_time": "2021-12-23T10:08:21.853796",
     "exception": false,
     "start_time": "2021-12-23T10:08:21.826021",
     "status": "completed"
    },
    "tags": []
   },
   "source": [
    "# Distinguish Your Own Digits (DYOD)"
   ]
  },
  {
   "cell_type": "markdown",
   "id": "ef31240d",
   "metadata": {
    "papermill": {
     "duration": 0.023648,
     "end_time": "2021-12-23T10:08:21.901869",
     "exception": false,
     "start_time": "2021-12-23T10:08:21.878221",
     "status": "completed"
    },
    "tags": []
   },
   "source": [
    "You are going to write a classifier that distinguishes between the number 3 and number 8."
   ]
  },
  {
   "cell_type": "code",
   "execution_count": 1,
   "id": "b15c8646",
   "metadata": {
    "execution": {
     "iopub.execute_input": "2021-12-23T10:08:21.961753Z",
     "iopub.status.busy": "2021-12-23T10:08:21.961203Z",
     "iopub.status.idle": "2021-12-23T10:08:21.972070Z",
     "shell.execute_reply": "2021-12-23T10:08:21.971622Z"
    },
    "papermill": {
     "duration": 0.046616,
     "end_time": "2021-12-23T10:08:21.972205",
     "exception": false,
     "start_time": "2021-12-23T10:08:21.925589",
     "status": "completed"
    },
    "tags": []
   },
   "outputs": [],
   "source": [
    "%load_ext autoreload\n",
    "%autoreload 2"
   ]
  },
  {
   "cell_type": "code",
   "execution_count": 2,
   "id": "22ef38dc",
   "metadata": {
    "execution": {
     "iopub.execute_input": "2021-12-23T10:08:22.041960Z",
     "iopub.status.busy": "2021-12-23T10:08:22.033509Z",
     "iopub.status.idle": "2021-12-23T10:08:22.612016Z",
     "shell.execute_reply": "2021-12-23T10:08:22.612507Z"
    },
    "papermill": {
     "duration": 0.616617,
     "end_time": "2021-12-23T10:08:22.612716",
     "exception": false,
     "start_time": "2021-12-23T10:08:21.996099",
     "status": "completed"
    },
    "tags": []
   },
   "outputs": [],
   "source": [
    "%matplotlib inline\n",
    "import numpy as np\n",
    "import matplotlib.pyplot as plt\n",
    "import pandas as pd"
   ]
  },
  {
   "cell_type": "markdown",
   "id": "ba036198",
   "metadata": {
    "papermill": {
     "duration": 0.023699,
     "end_time": "2021-12-23T10:08:22.661437",
     "exception": false,
     "start_time": "2021-12-23T10:08:22.637738",
     "status": "completed"
    },
    "tags": []
   },
   "source": [
    "From the command line run `pip install mnist`. This is a library that will help you bring down the mnist dataset. If you run this from a notebook, you need to put  `!pip install mnist` in a cell by itself."
   ]
  },
  {
   "cell_type": "code",
   "execution_count": 3,
   "id": "bb6ad8a1",
   "metadata": {
    "execution": {
     "iopub.execute_input": "2021-12-23T10:08:22.712523Z",
     "iopub.status.busy": "2021-12-23T10:08:22.712012Z",
     "iopub.status.idle": "2021-12-23T10:08:25.120664Z",
     "shell.execute_reply": "2021-12-23T10:08:25.119724Z"
    },
    "papermill": {
     "duration": 2.435823,
     "end_time": "2021-12-23T10:08:25.120833",
     "exception": false,
     "start_time": "2021-12-23T10:08:22.685010",
     "status": "completed"
    },
    "tags": []
   },
   "outputs": [
    {
     "name": "stdout",
     "output_type": "stream",
     "text": [
      "Collecting mnist\r\n"
     ]
    },
    {
     "name": "stdout",
     "output_type": "stream",
     "text": [
      "  Downloading mnist-0.2.2-py2.py3-none-any.whl (3.5 kB)\r\n",
      "Requirement already satisfied: numpy in /opt/hostedtoolcache/Python/3.6.15/x64/lib/python3.6/site-packages (from mnist) (1.19.5)\r\n"
     ]
    },
    {
     "name": "stdout",
     "output_type": "stream",
     "text": [
      "Installing collected packages: mnist\r\n"
     ]
    },
    {
     "name": "stdout",
     "output_type": "stream",
     "text": [
      "Successfully installed mnist-0.2.2\r\n"
     ]
    }
   ],
   "source": [
    "!pip install mnist"
   ]
  },
  {
   "cell_type": "markdown",
   "id": "69df9c9a",
   "metadata": {
    "papermill": {
     "duration": 0.025087,
     "end_time": "2021-12-23T10:08:25.171686",
     "exception": false,
     "start_time": "2021-12-23T10:08:25.146599",
     "status": "completed"
    },
    "tags": []
   },
   "source": [
    "## Preparing the Data"
   ]
  },
  {
   "cell_type": "code",
   "execution_count": 4,
   "id": "7f69d806",
   "metadata": {
    "execution": {
     "iopub.execute_input": "2021-12-23T10:08:25.228332Z",
     "iopub.status.busy": "2021-12-23T10:08:25.227813Z",
     "iopub.status.idle": "2021-12-23T10:08:25.240104Z",
     "shell.execute_reply": "2021-12-23T10:08:25.239666Z"
    },
    "papermill": {
     "duration": 0.043887,
     "end_time": "2021-12-23T10:08:25.240223",
     "exception": false,
     "start_time": "2021-12-23T10:08:25.196336",
     "status": "completed"
    },
    "tags": []
   },
   "outputs": [],
   "source": [
    "import mnist"
   ]
  },
  {
   "cell_type": "code",
   "execution_count": 5,
   "id": "a411e44f",
   "metadata": {
    "execution": {
     "iopub.execute_input": "2021-12-23T10:08:25.293433Z",
     "iopub.status.busy": "2021-12-23T10:08:25.292913Z",
     "iopub.status.idle": "2021-12-23T10:08:25.822051Z",
     "shell.execute_reply": "2021-12-23T10:08:25.821521Z"
    },
    "papermill": {
     "duration": 0.556697,
     "end_time": "2021-12-23T10:08:25.822197",
     "exception": false,
     "start_time": "2021-12-23T10:08:25.265500",
     "status": "completed"
    },
    "tags": []
   },
   "outputs": [],
   "source": [
    "train_images = mnist.train_images()\n",
    "train_labels = mnist.train_labels()"
   ]
  },
  {
   "cell_type": "code",
   "execution_count": 6,
   "id": "dceab3a5",
   "metadata": {
    "execution": {
     "iopub.execute_input": "2021-12-23T10:08:25.886396Z",
     "iopub.status.busy": "2021-12-23T10:08:25.885584Z",
     "iopub.status.idle": "2021-12-23T10:08:25.895385Z",
     "shell.execute_reply": "2021-12-23T10:08:25.894946Z"
    },
    "papermill": {
     "duration": 0.047565,
     "end_time": "2021-12-23T10:08:25.895493",
     "exception": false,
     "start_time": "2021-12-23T10:08:25.847928",
     "status": "completed"
    },
    "tags": []
   },
   "outputs": [
    {
     "data": {
      "text/plain": [
       "((60000, 28, 28), (60000,))"
      ]
     },
     "execution_count": 6,
     "metadata": {},
     "output_type": "execute_result"
    }
   ],
   "source": [
    "train_images.shape, train_labels.shape"
   ]
  },
  {
   "cell_type": "code",
   "execution_count": 7,
   "id": "f50dc2bb",
   "metadata": {
    "execution": {
     "iopub.execute_input": "2021-12-23T10:08:25.953940Z",
     "iopub.status.busy": "2021-12-23T10:08:25.953431Z",
     "iopub.status.idle": "2021-12-23T10:08:26.099406Z",
     "shell.execute_reply": "2021-12-23T10:08:26.098868Z"
    },
    "papermill": {
     "duration": 0.17915,
     "end_time": "2021-12-23T10:08:26.099546",
     "exception": false,
     "start_time": "2021-12-23T10:08:25.920396",
     "status": "completed"
    },
    "tags": []
   },
   "outputs": [],
   "source": [
    "test_images = mnist.test_images()\n",
    "test_labels = mnist.test_labels()"
   ]
  },
  {
   "cell_type": "code",
   "execution_count": 8,
   "id": "fc38cf1b",
   "metadata": {
    "execution": {
     "iopub.execute_input": "2021-12-23T10:08:26.154260Z",
     "iopub.status.busy": "2021-12-23T10:08:26.153736Z",
     "iopub.status.idle": "2021-12-23T10:08:26.166094Z",
     "shell.execute_reply": "2021-12-23T10:08:26.166578Z"
    },
    "papermill": {
     "duration": 0.041571,
     "end_time": "2021-12-23T10:08:26.166704",
     "exception": false,
     "start_time": "2021-12-23T10:08:26.125133",
     "status": "completed"
    },
    "tags": []
   },
   "outputs": [
    {
     "data": {
      "text/plain": [
       "((10000, 28, 28), (10000,))"
      ]
     },
     "execution_count": 8,
     "metadata": {},
     "output_type": "execute_result"
    }
   ],
   "source": [
    "test_images.shape, test_labels.shape"
   ]
  },
  {
   "cell_type": "code",
   "execution_count": 9,
   "id": "f9ed8fe0",
   "metadata": {
    "execution": {
     "iopub.execute_input": "2021-12-23T10:08:26.248056Z",
     "iopub.status.busy": "2021-12-23T10:08:26.234313Z",
     "iopub.status.idle": "2021-12-23T10:08:26.363292Z",
     "shell.execute_reply": "2021-12-23T10:08:26.362833Z"
    },
    "papermill": {
     "duration": 0.171329,
     "end_time": "2021-12-23T10:08:26.363414",
     "exception": false,
     "start_time": "2021-12-23T10:08:26.192085",
     "status": "completed"
    },
    "tags": []
   },
   "outputs": [
    {
     "name": "stdout",
     "output_type": "stream",
     "text": [
      "2\n"
     ]
    },
    {
     "data": {
      "text/plain": [
       "<matplotlib.image.AxesImage at 0x7f31970355f8>"
      ]
     },
     "execution_count": 9,
     "metadata": {},
     "output_type": "execute_result"
    },
    {
     "data": {
      "image/png": "[encoded data removed]",
      "text/plain": [
       "<Figure size 432x288 with 1 Axes>"
      ]
     },
     "metadata": {
      "needs_background": "light"
     },
     "output_type": "display_data"
    }
   ],
   "source": [
    "image_index = 7776 # You may select anything up to 60,000\n",
    "print(train_labels[image_index]) \n",
    "plt.imshow(train_images[image_index], cmap='Greys')"
   ]
  },
  {
   "cell_type": "markdown",
   "id": "a8d2388d",
   "metadata": {
    "papermill": {
     "duration": 0.027169,
     "end_time": "2021-12-23T10:08:26.417368",
     "exception": false,
     "start_time": "2021-12-23T10:08:26.390199",
     "status": "completed"
    },
    "tags": []
   },
   "source": [
    "## Filter data to get 3 and 8 out"
   ]
  },
  {
   "cell_type": "code",
   "execution_count": 10,
   "id": "776f7fc7",
   "metadata": {
    "execution": {
     "iopub.execute_input": "2021-12-23T10:08:26.482519Z",
     "iopub.status.busy": "2021-12-23T10:08:26.474670Z",
     "iopub.status.idle": "2021-12-23T10:08:26.495482Z",
     "shell.execute_reply": "2021-12-23T10:08:26.495884Z"
    },
    "papermill": {
     "duration": 0.052009,
     "end_time": "2021-12-23T10:08:26.496029",
     "exception": false,
     "start_time": "2021-12-23T10:08:26.444020",
     "status": "completed"
    },
    "tags": []
   },
   "outputs": [],
   "source": [
    "train_filter = np.where((train_labels == 3 ) | (train_labels == 8))\n",
    "test_filter = np.where((test_labels == 3) | (test_labels == 8))\n",
    "X_train, y_train = train_images[train_filter], train_labels[train_filter]\n",
    "X_test, y_test = test_images[test_filter], test_labels[test_filter]"
   ]
  },
  {
   "cell_type": "markdown",
   "id": "948f0b7e",
   "metadata": {
    "papermill": {
     "duration": 0.026459,
     "end_time": "2021-12-23T10:08:26.549087",
     "exception": false,
     "start_time": "2021-12-23T10:08:26.522628",
     "status": "completed"
    },
    "tags": []
   },
   "source": [
    "We normalize the pizel values in the 0 to 1 range"
   ]
  },
  {
   "cell_type": "code",
   "execution_count": 11,
   "id": "ee4c2166",
   "metadata": {
    "execution": {
     "iopub.execute_input": "2021-12-23T10:08:26.611411Z",
     "iopub.status.busy": "2021-12-23T10:08:26.610884Z",
     "iopub.status.idle": "2021-12-23T10:08:26.655224Z",
     "shell.execute_reply": "2021-12-23T10:08:26.654761Z"
    },
    "papermill": {
     "duration": 0.079647,
     "end_time": "2021-12-23T10:08:26.655354",
     "exception": false,
     "start_time": "2021-12-23T10:08:26.575707",
     "status": "completed"
    },
    "tags": []
   },
   "outputs": [],
   "source": [
    "X_train = X_train/255.\n",
    "X_test = X_test/255."
   ]
  },
  {
   "cell_type": "markdown",
   "id": "ddcf4fab",
   "metadata": {
    "papermill": {
     "duration": 0.026483,
     "end_time": "2021-12-23T10:08:26.709981",
     "exception": false,
     "start_time": "2021-12-23T10:08:26.683498",
     "status": "completed"
    },
    "tags": []
   },
   "source": [
    "And setup the labels as 1 (when the digit is 3) and 0 (when the digit is 8)"
   ]
  },
  {
   "cell_type": "code",
   "execution_count": 12,
   "id": "7dc908f2",
   "metadata": {
    "execution": {
     "iopub.execute_input": "2021-12-23T10:08:26.767211Z",
     "iopub.status.busy": "2021-12-23T10:08:26.766684Z",
     "iopub.status.idle": "2021-12-23T10:08:26.778903Z",
     "shell.execute_reply": "2021-12-23T10:08:26.778485Z"
    },
    "papermill": {
     "duration": 0.042798,
     "end_time": "2021-12-23T10:08:26.779013",
     "exception": false,
     "start_time": "2021-12-23T10:08:26.736215",
     "status": "completed"
    },
    "tags": []
   },
   "outputs": [],
   "source": [
    "y_train = 1*(y_train==3)\n",
    "y_test = 1*(y_test==3)"
   ]
  },
  {
   "cell_type": "code",
   "execution_count": 13,
   "id": "01e4e969",
   "metadata": {
    "execution": {
     "iopub.execute_input": "2021-12-23T10:08:26.849777Z",
     "iopub.status.busy": "2021-12-23T10:08:26.845441Z",
     "iopub.status.idle": "2021-12-23T10:08:26.852904Z",
     "shell.execute_reply": "2021-12-23T10:08:26.852439Z"
    },
    "papermill": {
     "duration": 0.047548,
     "end_time": "2021-12-23T10:08:26.853018",
     "exception": false,
     "start_time": "2021-12-23T10:08:26.805470",
     "status": "completed"
    },
    "tags": []
   },
   "outputs": [
    {
     "data": {
      "text/plain": [
       "((11982, 28, 28), (1984, 28, 28))"
      ]
     },
     "execution_count": 13,
     "metadata": {},
     "output_type": "execute_result"
    }
   ],
   "source": [
    "X_train.shape, X_test.shape"
   ]
  },
  {
   "cell_type": "markdown",
   "id": "5ccf3f85",
   "metadata": {
    "papermill": {
     "duration": 0.026526,
     "end_time": "2021-12-23T10:08:26.906426",
     "exception": false,
     "start_time": "2021-12-23T10:08:26.879900",
     "status": "completed"
    },
    "tags": []
   },
   "source": [
    "We reshape the data to flatten the image pixels into a set of features or co-variates:"
   ]
  },
  {
   "cell_type": "code",
   "execution_count": 14,
   "id": "5286a4a3",
   "metadata": {
    "execution": {
     "iopub.execute_input": "2021-12-23T10:08:26.965828Z",
     "iopub.status.busy": "2021-12-23T10:08:26.963192Z",
     "iopub.status.idle": "2021-12-23T10:08:26.977144Z",
     "shell.execute_reply": "2021-12-23T10:08:26.976605Z"
    },
    "papermill": {
     "duration": 0.044013,
     "end_time": "2021-12-23T10:08:26.977257",
     "exception": false,
     "start_time": "2021-12-23T10:08:26.933244",
     "status": "completed"
    },
    "tags": []
   },
   "outputs": [
    {
     "data": {
      "text/plain": [
       "((11982, 784), (1984, 784))"
      ]
     },
     "execution_count": 14,
     "metadata": {},
     "output_type": "execute_result"
    }
   ],
   "source": [
    "X_train = X_train.reshape(X_train.shape[0], -1)\n",
    "X_test = X_test.reshape(X_test.shape[0], -1)\n",
    "X_train.shape, X_test.shape"
   ]
  },
  {
   "cell_type": "code",
   "execution_count": 15,
   "id": "73c5f88a",
   "metadata": {
    "execution": {
     "iopub.execute_input": "2021-12-23T10:08:27.049574Z",
     "iopub.status.busy": "2021-12-23T10:08:27.045528Z",
     "iopub.status.idle": "2021-12-23T10:08:27.058340Z",
     "shell.execute_reply": "2021-12-23T10:08:27.057896Z"
    },
    "papermill": {
     "duration": 0.054451,
     "end_time": "2021-12-23T10:08:27.058455",
     "exception": false,
     "start_time": "2021-12-23T10:08:27.004004",
     "status": "completed"
    },
    "tags": []
   },
   "outputs": [],
   "source": [
    "#Impoting functions from 'Kudzu'\n",
    "from kudzu.model import Model\n",
    "from kudzu.train import Learner\n",
    "from kudzu.optim import GD\n",
    "from kudzu.data import Data, Sampler,Dataloader\n",
    "\n",
    "from kudzu.callbacks import AccCallback\n",
    "from kudzu.callbacks import ClfCallback\n",
    "\n",
    "from kudzu.loss import MSE\n",
    "\n",
    "from kudzu.layer import Sigmoid,Relu\n",
    "from kudzu.layer import Affine"
   ]
  },
  {
   "cell_type": "markdown",
   "id": "bc01172a",
   "metadata": {
    "papermill": {
     "duration": 0.026633,
     "end_time": "2021-12-23T10:08:27.111947",
     "exception": false,
     "start_time": "2021-12-23T10:08:27.085314",
     "status": "completed"
    },
    "tags": []
   },
   "source": [
    "### Let us create a `Config` class, to store important parameters. \n",
    "This class essentially plays the role of a dictionary."
   ]
  },
  {
   "cell_type": "code",
   "execution_count": 16,
   "id": "978281aa",
   "metadata": {
    "execution": {
     "iopub.execute_input": "2021-12-23T10:08:27.181425Z",
     "iopub.status.busy": "2021-12-23T10:08:27.170874Z",
     "iopub.status.idle": "2021-12-23T10:08:27.186339Z",
     "shell.execute_reply": "2021-12-23T10:08:27.186753Z"
    },
    "papermill": {
     "duration": 0.048306,
     "end_time": "2021-12-23T10:08:27.186881",
     "exception": false,
     "start_time": "2021-12-23T10:08:27.138575",
     "status": "completed"
    },
    "tags": []
   },
   "outputs": [],
   "source": [
    "class Config:\n",
    "    pass\n",
    "config = Config()\n",
    "config.lr = 0.001\n",
    "config.num_epochs = 250\n",
    "config.bs = 50"
   ]
  },
  {
   "cell_type": "markdown",
   "id": "1385fa59",
   "metadata": {
    "papermill": {
     "duration": 0.0266,
     "end_time": "2021-12-23T10:08:27.240759",
     "exception": false,
     "start_time": "2021-12-23T10:08:27.214159",
     "status": "completed"
    },
    "tags": []
   },
   "source": [
    "### Running Models with the Training data\n",
    "Details about the network layers:\n",
    "- A first affine layer has 784 inputs and does 100 affine transforms. These are followed by a Relu\n",
    "- A second affine layer has 100 inputs from the 100 activations of the past layer, and does 100 affine transforms. These are followed by a Relu\n",
    "- A third affine layer has 100 activations and does 2 affine transformations to create an embedding for visualization. There is no non-linearity here.\n",
    "- A final \"logistic regression\" which has an affine transform from 2 inputs to 1 output, which is squeezed through a sigmoid.\n"
   ]
  },
  {
   "cell_type": "code",
   "execution_count": 17,
   "id": "2b9c66db",
   "metadata": {
    "execution": {
     "iopub.execute_input": "2021-12-23T10:08:27.309499Z",
     "iopub.status.busy": "2021-12-23T10:08:27.300383Z",
     "iopub.status.idle": "2021-12-23T10:08:27.314979Z",
     "shell.execute_reply": "2021-12-23T10:08:27.314568Z"
    },
    "papermill": {
     "duration": 0.047584,
     "end_time": "2021-12-23T10:08:27.315088",
     "exception": false,
     "start_time": "2021-12-23T10:08:27.267504",
     "status": "completed"
    },
    "tags": []
   },
   "outputs": [],
   "source": [
    "data = Data(X_train, y_train.reshape(-1,1))\n",
    "sampler = Sampler(data, config.bs, shuffle=True)\n",
    "\n",
    "dl = Dataloader(data, sampler)\n",
    "\n",
    "opt = GD(config.lr)\n",
    "loss = MSE()"
   ]
  },
  {
   "cell_type": "code",
   "execution_count": 18,
   "id": "b275e4c2",
   "metadata": {
    "execution": {
     "iopub.execute_input": "2021-12-23T10:08:27.382593Z",
     "iopub.status.busy": "2021-12-23T10:08:27.382079Z",
     "iopub.status.idle": "2021-12-23T10:08:27.388819Z",
     "shell.execute_reply": "2021-12-23T10:08:27.388384Z"
    },
    "papermill": {
     "duration": 0.047082,
     "end_time": "2021-12-23T10:08:27.388932",
     "exception": false,
     "start_time": "2021-12-23T10:08:27.341850",
     "status": "completed"
    },
    "tags": []
   },
   "outputs": [],
   "source": [
    "training_data_x = X_train\n",
    "testing_data_x = X_test\n",
    "training_data_y = y_train.reshape(-1,1)\n",
    "testing_data_y = y_test.reshape(-1,1)"
   ]
  },
  {
   "cell_type": "code",
   "execution_count": 19,
   "id": "76951160",
   "metadata": {
    "execution": {
     "iopub.execute_input": "2021-12-23T10:08:27.446402Z",
     "iopub.status.busy": "2021-12-23T10:08:27.445885Z",
     "iopub.status.idle": "2021-12-23T10:08:27.461954Z",
     "shell.execute_reply": "2021-12-23T10:08:27.461512Z"
    },
    "papermill": {
     "duration": 0.04658,
     "end_time": "2021-12-23T10:08:27.462064",
     "exception": false,
     "start_time": "2021-12-23T10:08:27.415484",
     "status": "completed"
    },
    "tags": []
   },
   "outputs": [
    {
     "name": "stdout",
     "output_type": "stream",
     "text": [
      "xavier\n",
      "xavier\n",
      "xavier\n",
      "xavier\n",
      "xavier\n"
     ]
    }
   ],
   "source": [
    "layers = [Affine(\"first\", 784, 100), Relu(\"first\"), Affine(\"second\", 100, 100), Relu(\"second\"), Affine(\"third\", 100, 2), Affine(\"last\", 2, 1), Sigmoid(\"last\")]\n",
    "model_nn = Model(layers)\n",
    "model_lr = Model([Affine(\"logits\", 784, 1), Sigmoid(\"sigmoid\")])"
   ]
  },
  {
   "cell_type": "code",
   "execution_count": 20,
   "id": "6eede77a",
   "metadata": {
    "execution": {
     "iopub.execute_input": "2021-12-23T10:08:27.524032Z",
     "iopub.status.busy": "2021-12-23T10:08:27.523514Z",
     "iopub.status.idle": "2021-12-23T10:08:27.532837Z",
     "shell.execute_reply": "2021-12-23T10:08:27.532381Z"
    },
    "papermill": {
     "duration": 0.043856,
     "end_time": "2021-12-23T10:08:27.532945",
     "exception": false,
     "start_time": "2021-12-23T10:08:27.489089",
     "status": "completed"
    },
    "tags": []
   },
   "outputs": [],
   "source": [
    "nn_learner = Learner(loss, model_nn, opt, config.num_epochs)\n",
    "acc_nn = ClfCallback(nn_learner, config.bs, training_data_x , testing_data_x, training_data_y, testing_data_y)\n",
    "nn_learner.set_callbacks([acc_nn])"
   ]
  },
  {
   "cell_type": "code",
   "execution_count": 21,
   "id": "877b6cc7",
   "metadata": {
    "execution": {
     "iopub.execute_input": "2021-12-23T10:08:27.592929Z",
     "iopub.status.busy": "2021-12-23T10:08:27.592343Z",
     "iopub.status.idle": "2021-12-23T10:08:27.603425Z",
     "shell.execute_reply": "2021-12-23T10:08:27.602961Z"
    },
    "papermill": {
     "duration": 0.043597,
     "end_time": "2021-12-23T10:08:27.603535",
     "exception": false,
     "start_time": "2021-12-23T10:08:27.559938",
     "status": "completed"
    },
    "tags": []
   },
   "outputs": [],
   "source": [
    "lr_learner = Learner(loss, model_lr, opt, config.num_epochs)\n",
    "acc_lr = ClfCallback(lr_learner, config.bs, training_data_x , testing_data_x, training_data_y, testing_data_y)\n",
    "lr_learner.set_callbacks([acc_lr])"
   ]
  },
  {
   "cell_type": "code",
   "execution_count": 22,
   "id": "d9b133c3",
   "metadata": {
    "execution": {
     "iopub.execute_input": "2021-12-23T10:08:27.661850Z",
     "iopub.status.busy": "2021-12-23T10:08:27.661330Z",
     "iopub.status.idle": "2021-12-23T10:09:43.282318Z",
     "shell.execute_reply": "2021-12-23T10:09:43.283071Z"
    },
    "papermill": {
     "duration": 75.652456,
     "end_time": "2021-12-23T10:09:43.283224",
     "exception": false,
     "start_time": "2021-12-23T10:08:27.630768",
     "status": "completed"
    },
    "tags": []
   },
   "outputs": [
    {
     "name": "stdout",
     "output_type": "stream",
     "text": [
      "Epoch 0, Loss 0.237\n",
      "Training Accuracy: 0.7122, Testing Accuracy: 0.7046\n",
      "\n"
     ]
    },
    {
     "name": "stdout",
     "output_type": "stream",
     "text": [
      "Epoch 10, Loss 0.1425\n",
      "Training Accuracy: 0.8965, Testing Accuracy: 0.9037\n",
      "\n"
     ]
    },
    {
     "name": "stdout",
     "output_type": "stream",
     "text": [
      "Epoch 20, Loss 0.0737\n",
      "Training Accuracy: 0.9284, Testing Accuracy: 0.9360\n",
      "\n"
     ]
    },
    {
     "name": "stdout",
     "output_type": "stream",
     "text": [
      "Epoch 30, Loss 0.0528\n",
      "Training Accuracy: 0.9442, Testing Accuracy: 0.9501\n",
      "\n"
     ]
    },
    {
     "name": "stdout",
     "output_type": "stream",
     "text": [
      "Epoch 40, Loss 0.0439\n",
      "Training Accuracy: 0.9502, Testing Accuracy: 0.9567\n",
      "\n"
     ]
    },
    {
     "name": "stdout",
     "output_type": "stream",
     "text": [
      "Epoch 50, Loss 0.0389\n",
      "Training Accuracy: 0.9551, Testing Accuracy: 0.9622\n",
      "\n"
     ]
    },
    {
     "name": "stdout",
     "output_type": "stream",
     "text": [
      "Epoch 60, Loss 0.0357\n",
      "Training Accuracy: 0.9587, Testing Accuracy: 0.9642\n",
      "\n"
     ]
    },
    {
     "name": "stdout",
     "output_type": "stream",
     "text": [
      "Epoch 70, Loss 0.0334\n",
      "Training Accuracy: 0.9609, Testing Accuracy: 0.9652\n",
      "\n"
     ]
    },
    {
     "name": "stdout",
     "output_type": "stream",
     "text": [
      "Epoch 80, Loss 0.0316\n",
      "Training Accuracy: 0.9631, Testing Accuracy: 0.9647\n",
      "\n"
     ]
    },
    {
     "name": "stdout",
     "output_type": "stream",
     "text": [
      "Epoch 90, Loss 0.0302\n",
      "Training Accuracy: 0.9649, Testing Accuracy: 0.9667\n",
      "\n"
     ]
    },
    {
     "name": "stdout",
     "output_type": "stream",
     "text": [
      "Epoch 100, Loss 0.029\n",
      "Training Accuracy: 0.9664, Testing Accuracy: 0.9672\n",
      "\n"
     ]
    },
    {
     "name": "stdout",
     "output_type": "stream",
     "text": [
      "Epoch 110, Loss 0.0279\n",
      "Training Accuracy: 0.9672, Testing Accuracy: 0.9677\n",
      "\n"
     ]
    },
    {
     "name": "stdout",
     "output_type": "stream",
     "text": [
      "Epoch 120, Loss 0.027\n",
      "Training Accuracy: 0.9680, Testing Accuracy: 0.9677\n",
      "\n"
     ]
    },
    {
     "name": "stdout",
     "output_type": "stream",
     "text": [
      "Epoch 130, Loss 0.0262\n",
      "Training Accuracy: 0.9689, Testing Accuracy: 0.9677\n",
      "\n"
     ]
    },
    {
     "name": "stdout",
     "output_type": "stream",
     "text": [
      "Epoch 140, Loss 0.0255\n",
      "Training Accuracy: 0.9702, Testing Accuracy: 0.9677\n",
      "\n"
     ]
    },
    {
     "name": "stdout",
     "output_type": "stream",
     "text": [
      "Epoch 150, Loss 0.0248\n",
      "Training Accuracy: 0.9709, Testing Accuracy: 0.9657\n",
      "\n"
     ]
    },
    {
     "name": "stdout",
     "output_type": "stream",
     "text": [
      "Epoch 160, Loss 0.0241\n",
      "Training Accuracy: 0.9717, Testing Accuracy: 0.9667\n",
      "\n"
     ]
    },
    {
     "name": "stdout",
     "output_type": "stream",
     "text": [
      "Epoch 170, Loss 0.0236\n",
      "Training Accuracy: 0.9725, Testing Accuracy: 0.9667\n",
      "\n"
     ]
    },
    {
     "name": "stdout",
     "output_type": "stream",
     "text": [
      "Epoch 180, Loss 0.023\n",
      "Training Accuracy: 0.9734, Testing Accuracy: 0.9667\n",
      "\n"
     ]
    },
    {
     "name": "stdout",
     "output_type": "stream",
     "text": [
      "Epoch 190, Loss 0.0225\n",
      "Training Accuracy: 0.9740, Testing Accuracy: 0.9677\n",
      "\n"
     ]
    },
    {
     "name": "stdout",
     "output_type": "stream",
     "text": [
      "Epoch 200, Loss 0.0221\n",
      "Training Accuracy: 0.9744, Testing Accuracy: 0.9693\n",
      "\n"
     ]
    },
    {
     "name": "stdout",
     "output_type": "stream",
     "text": [
      "Epoch 210, Loss 0.0216\n",
      "Training Accuracy: 0.9753, Testing Accuracy: 0.9698\n",
      "\n"
     ]
    },
    {
     "name": "stdout",
     "output_type": "stream",
     "text": [
      "Epoch 220, Loss 0.0212\n",
      "Training Accuracy: 0.9755, Testing Accuracy: 0.9708\n",
      "\n"
     ]
    },
    {
     "name": "stdout",
     "output_type": "stream",
     "text": [
      "Epoch 230, Loss 0.0208\n",
      "Training Accuracy: 0.9763, Testing Accuracy: 0.9708\n",
      "\n"
     ]
    },
    {
     "name": "stdout",
     "output_type": "stream",
     "text": [
      "Epoch 240, Loss 0.0204\n",
      "Training Accuracy: 0.9770, Testing Accuracy: 0.9718\n",
      "\n"
     ]
    },
    {
     "data": {
      "text/plain": [
       "0.0044323287303076764"
      ]
     },
     "execution_count": 22,
     "metadata": {},
     "output_type": "execute_result"
    }
   ],
   "source": [
    "nn_learner.train_loop(dl)"
   ]
  },
  {
   "cell_type": "code",
   "execution_count": 23,
   "id": "e0163366",
   "metadata": {
    "execution": {
     "iopub.execute_input": "2021-12-23T10:09:43.361951Z",
     "iopub.status.busy": "2021-12-23T10:09:43.361436Z",
     "iopub.status.idle": "2021-12-23T10:09:56.697728Z",
     "shell.execute_reply": "2021-12-23T10:09:56.698465Z"
    },
    "papermill": {
     "duration": 13.380561,
     "end_time": "2021-12-23T10:09:56.698626",
     "exception": false,
     "start_time": "2021-12-23T10:09:43.318065",
     "status": "completed"
    },
    "tags": []
   },
   "outputs": [
    {
     "name": "stdout",
     "output_type": "stream",
     "text": [
      "Epoch 0, Loss 0.2355\n",
      "Training Accuracy: 0.6928, Testing Accuracy: 0.7147\n",
      "\n"
     ]
    },
    {
     "name": "stdout",
     "output_type": "stream",
     "text": [
      "Epoch 10, Loss 0.1012\n",
      "Training Accuracy: 0.9127, Testing Accuracy: 0.9204\n",
      "\n"
     ]
    },
    {
     "name": "stdout",
     "output_type": "stream",
     "text": [
      "Epoch 20, Loss 0.078\n",
      "Training Accuracy: 0.9295, Testing Accuracy: 0.9380\n",
      "\n"
     ]
    },
    {
     "name": "stdout",
     "output_type": "stream",
     "text": [
      "Epoch 30, Loss 0.0673\n",
      "Training Accuracy: 0.9369, Testing Accuracy: 0.9451\n",
      "\n"
     ]
    },
    {
     "name": "stdout",
     "output_type": "stream",
     "text": [
      "Epoch 40, Loss 0.0609\n",
      "Training Accuracy: 0.9419, Testing Accuracy: 0.9496\n",
      "\n"
     ]
    },
    {
     "name": "stdout",
     "output_type": "stream",
     "text": [
      "Epoch 50, Loss 0.0565\n",
      "Training Accuracy: 0.9456, Testing Accuracy: 0.9572\n",
      "\n"
     ]
    },
    {
     "name": "stdout",
     "output_type": "stream",
     "text": [
      "Epoch 60, Loss 0.0533\n",
      "Training Accuracy: 0.9488, Testing Accuracy: 0.9582\n",
      "\n"
     ]
    },
    {
     "name": "stdout",
     "output_type": "stream",
     "text": [
      "Epoch 70, Loss 0.0508\n",
      "Training Accuracy: 0.9508, Testing Accuracy: 0.9582\n",
      "\n"
     ]
    },
    {
     "name": "stdout",
     "output_type": "stream",
     "text": [
      "Epoch 80, Loss 0.0488\n",
      "Training Accuracy: 0.9525, Testing Accuracy: 0.9582\n",
      "\n"
     ]
    },
    {
     "name": "stdout",
     "output_type": "stream",
     "text": [
      "Epoch 90, Loss 0.0471\n",
      "Training Accuracy: 0.9538, Testing Accuracy: 0.9577\n",
      "\n"
     ]
    },
    {
     "name": "stdout",
     "output_type": "stream",
     "text": [
      "Epoch 100, Loss 0.0458\n",
      "Training Accuracy: 0.9550, Testing Accuracy: 0.9602\n",
      "\n"
     ]
    },
    {
     "name": "stdout",
     "output_type": "stream",
     "text": [
      "Epoch 110, Loss 0.0446\n",
      "Training Accuracy: 0.9553, Testing Accuracy: 0.9617\n",
      "\n"
     ]
    },
    {
     "name": "stdout",
     "output_type": "stream",
     "text": [
      "Epoch 120, Loss 0.0435\n",
      "Training Accuracy: 0.9563, Testing Accuracy: 0.9622\n",
      "\n"
     ]
    },
    {
     "name": "stdout",
     "output_type": "stream",
     "text": [
      "Epoch 130, Loss 0.0426\n",
      "Training Accuracy: 0.9566, Testing Accuracy: 0.9632\n",
      "\n"
     ]
    },
    {
     "name": "stdout",
     "output_type": "stream",
     "text": [
      "Epoch 140, Loss 0.0418\n",
      "Training Accuracy: 0.9574, Testing Accuracy: 0.9632\n",
      "\n"
     ]
    },
    {
     "name": "stdout",
     "output_type": "stream",
     "text": [
      "Epoch 150, Loss 0.0411\n",
      "Training Accuracy: 0.9578, Testing Accuracy: 0.9632\n",
      "\n"
     ]
    },
    {
     "name": "stdout",
     "output_type": "stream",
     "text": [
      "Epoch 160, Loss 0.0404\n",
      "Training Accuracy: 0.9585, Testing Accuracy: 0.9632\n",
      "\n"
     ]
    },
    {
     "name": "stdout",
     "output_type": "stream",
     "text": [
      "Epoch 170, Loss 0.0398\n",
      "Training Accuracy: 0.9591, Testing Accuracy: 0.9642\n",
      "\n"
     ]
    },
    {
     "name": "stdout",
     "output_type": "stream",
     "text": [
      "Epoch 180, Loss 0.0393\n",
      "Training Accuracy: 0.9595, Testing Accuracy: 0.9647\n",
      "\n"
     ]
    },
    {
     "name": "stdout",
     "output_type": "stream",
     "text": [
      "Epoch 190, Loss 0.0388\n",
      "Training Accuracy: 0.9601, Testing Accuracy: 0.9657\n",
      "\n"
     ]
    },
    {
     "name": "stdout",
     "output_type": "stream",
     "text": [
      "Epoch 200, Loss 0.0383\n",
      "Training Accuracy: 0.9604, Testing Accuracy: 0.9662\n",
      "\n"
     ]
    },
    {
     "name": "stdout",
     "output_type": "stream",
     "text": [
      "Epoch 210, Loss 0.0379\n",
      "Training Accuracy: 0.9605, Testing Accuracy: 0.9662\n",
      "\n"
     ]
    },
    {
     "name": "stdout",
     "output_type": "stream",
     "text": [
      "Epoch 220, Loss 0.0375\n",
      "Training Accuracy: 0.9605, Testing Accuracy: 0.9667\n",
      "\n"
     ]
    },
    {
     "name": "stdout",
     "output_type": "stream",
     "text": [
      "Epoch 230, Loss 0.0371\n",
      "Training Accuracy: 0.9608, Testing Accuracy: 0.9662\n",
      "\n"
     ]
    },
    {
     "name": "stdout",
     "output_type": "stream",
     "text": [
      "Epoch 240, Loss 0.0367\n",
      "Training Accuracy: 0.9611, Testing Accuracy: 0.9662\n",
      "\n"
     ]
    },
    {
     "data": {
      "text/plain": [
       "0.024466895487242315"
      ]
     },
     "execution_count": 23,
     "metadata": {},
     "output_type": "execute_result"
    }
   ],
   "source": [
    "lr_learner.train_loop(dl)"
   ]
  },
  {
   "cell_type": "code",
   "execution_count": 24,
   "id": "ca410940",
   "metadata": {
    "execution": {
     "iopub.execute_input": "2021-12-23T10:09:56.793962Z",
     "iopub.status.busy": "2021-12-23T10:09:56.793440Z",
     "iopub.status.idle": "2021-12-23T10:09:57.011728Z",
     "shell.execute_reply": "2021-12-23T10:09:57.011276Z"
    },
    "papermill": {
     "duration": 0.271902,
     "end_time": "2021-12-23T10:09:57.011848",
     "exception": false,
     "start_time": "2021-12-23T10:09:56.739946",
     "status": "completed"
    },
    "tags": []
   },
   "outputs": [
    {
     "data": {
      "text/plain": [
       "<matplotlib.legend.Legend at 0x7f3196c0fc88>"
      ]
     },
     "execution_count": 24,
     "metadata": {},
     "output_type": "execute_result"
    },
    {
     "data": {
      "image/png": "[encoded data removed]",
      "text/plain": [
       "<Figure size 1080x720 with 1 Axes>"
      ]
     },
     "metadata": {
      "needs_background": "light"
     },
     "output_type": "display_data"
    }
   ],
   "source": [
    "#comparing the results of NN and LR\n",
    "plt.figure(figsize=(15,10))\n",
    "\n",
    "# Neural Network plots\n",
    "plt.plot(acc_nn.accuracies, 'r-', label = \"Training Accuracies - NN\")\n",
    "plt.plot(acc_nn.test_accuracies, 'g-', label = \"Testing Accuracies - NN\")\n",
    "\n",
    "# Logistic Regression plots\n",
    "plt.plot(acc_lr.accuracies, 'k-', label = \"Training Accuracies - LR\")\n",
    "plt.plot(acc_lr.test_accuracies, 'b-', label = \"Testing Accuracies - LR\")\n",
    "plt.legend()"
   ]
  },
  {
   "cell_type": "markdown",
   "id": "80dfb35c",
   "metadata": {
    "papermill": {
     "duration": 0.042226,
     "end_time": "2021-12-23T10:09:57.096264",
     "exception": false,
     "start_time": "2021-12-23T10:09:57.054038",
     "status": "completed"
    },
    "tags": []
   },
   "source": [
    "#### Plotting the outputs of this layer of the NN.\n"
   ]
  },
  {
   "cell_type": "code",
   "execution_count": 25,
   "id": "45eb2ff5",
   "metadata": {
    "execution": {
     "iopub.execute_input": "2021-12-23T10:09:57.183905Z",
     "iopub.status.busy": "2021-12-23T10:09:57.183371Z",
     "iopub.status.idle": "2021-12-23T10:09:57.203411Z",
     "shell.execute_reply": "2021-12-23T10:09:57.202954Z"
    },
    "papermill": {
     "duration": 0.065451,
     "end_time": "2021-12-23T10:09:57.203523",
     "exception": false,
     "start_time": "2021-12-23T10:09:57.138072",
     "status": "completed"
    },
    "tags": []
   },
   "outputs": [],
   "source": [
    "new_model = Model(layers[:-2])\n",
    "testing_plot = new_model(testing_data_x)"
   ]
  },
  {
   "cell_type": "code",
   "execution_count": 26,
   "id": "4c0a5485",
   "metadata": {
    "execution": {
     "iopub.execute_input": "2021-12-23T10:09:57.295103Z",
     "iopub.status.busy": "2021-12-23T10:09:57.293041Z",
     "iopub.status.idle": "2021-12-23T10:09:57.483446Z",
     "shell.execute_reply": "2021-12-23T10:09:57.483855Z"
    },
    "papermill": {
     "duration": 0.238111,
     "end_time": "2021-12-23T10:09:57.484002",
     "exception": false,
     "start_time": "2021-12-23T10:09:57.245891",
     "status": "completed"
    },
    "tags": []
   },
   "outputs": [
    {
     "data": {
      "text/plain": [
       "Text(0.5, 1.0, 'Outputs')"
      ]
     },
     "execution_count": 26,
     "metadata": {},
     "output_type": "execute_result"
    },
    {
     "data": {
      "image/png": "[encoded data removed]",
      "text/plain": [
       "<Figure size 576x504 with 1 Axes>"
      ]
     },
     "metadata": {
      "needs_background": "light"
     },
     "output_type": "display_data"
    }
   ],
   "source": [
    "# Plotting the scatter plot of points and color coding by class\n",
    "plt.figure(figsize=(8,7))\n",
    "plt.scatter(testing_plot[:,0], testing_plot[:,1], alpha = 0.1, c = y_test.ravel());\n",
    "plt.title('Outputs')"
   ]
  },
  {
   "cell_type": "markdown",
   "id": "a74fcf8f",
   "metadata": {
    "papermill": {
     "duration": 0.043893,
     "end_time": "2021-12-23T10:09:57.571982",
     "exception": false,
     "start_time": "2021-12-23T10:09:57.528089",
     "status": "completed"
    },
    "tags": []
   },
   "source": [
    "Probability contours"
   ]
  },
  {
   "cell_type": "code",
   "execution_count": 27,
   "id": "d0afc8e3",
   "metadata": {
    "execution": {
     "iopub.execute_input": "2021-12-23T10:09:57.665074Z",
     "iopub.status.busy": "2021-12-23T10:09:57.664485Z",
     "iopub.status.idle": "2021-12-23T10:09:57.676946Z",
     "shell.execute_reply": "2021-12-23T10:09:57.677362Z"
    },
    "papermill": {
     "duration": 0.061454,
     "end_time": "2021-12-23T10:09:57.677497",
     "exception": false,
     "start_time": "2021-12-23T10:09:57.616043",
     "status": "completed"
    },
    "tags": []
   },
   "outputs": [],
   "source": [
    "model_prob = Model(layers[-2:]) "
   ]
  },
  {
   "cell_type": "code",
   "execution_count": 28,
   "id": "9b96e238",
   "metadata": {
    "execution": {
     "iopub.execute_input": "2021-12-23T10:09:57.798137Z",
     "iopub.status.busy": "2021-12-23T10:09:57.797617Z",
     "iopub.status.idle": "2021-12-23T10:09:57.813140Z",
     "shell.execute_reply": "2021-12-23T10:09:57.813525Z"
    },
    "papermill": {
     "duration": 0.091862,
     "end_time": "2021-12-23T10:09:57.813648",
     "exception": false,
     "start_time": "2021-12-23T10:09:57.721786",
     "status": "completed"
    },
    "tags": []
   },
   "outputs": [],
   "source": [
    "#creating the x and y ranges according to the above generated plot.\n",
    "x_range = np.linspace(-4, 1, 100) \n",
    "y_range = np.linspace(-6, 6, 100) \n",
    "x_grid, y_grid = np.meshgrid(x_range, y_range) # x_grid and y_grig are of size 100 X 100\n",
    "\n",
    "# converting x_grid and y_grid to continuous arrays\n",
    "x_gridflat = np.ravel(x_grid)\n",
    "y_gridflat = np.ravel(y_grid)\n",
    "\n",
    "# The last layer of the current model takes two columns as input. Hence transpose of np.vstack() is required.\n",
    "X = np.vstack((x_gridflat, y_gridflat)).T\n",
    "\n",
    "prob_contour = model_prob(X).reshape(100,100) "
   ]
  },
  {
   "cell_type": "code",
   "execution_count": 29,
   "id": "da72499a",
   "metadata": {
    "execution": {
     "iopub.execute_input": "2021-12-23T10:09:57.911172Z",
     "iopub.status.busy": "2021-12-23T10:09:57.910643Z",
     "iopub.status.idle": "2021-12-23T10:09:58.149925Z",
     "shell.execute_reply": "2021-12-23T10:09:58.150344Z"
    },
    "papermill": {
     "duration": 0.288115,
     "end_time": "2021-12-23T10:09:58.150482",
     "exception": false,
     "start_time": "2021-12-23T10:09:57.862367",
     "status": "completed"
    },
    "tags": []
   },
   "outputs": [
    {
     "data": {
      "image/png": "[encoded data removed]",
      "text/plain": [
       "<Figure size 720x648 with 1 Axes>"
      ]
     },
     "metadata": {
      "needs_background": "light"
     },
     "output_type": "display_data"
    }
   ],
   "source": [
    "plt.figure(figsize=(10,9))\n",
    "plt.scatter(testing_plot[:,0], testing_plot[:,1], alpha = 0.1, c = y_test.ravel())\n",
    "contours = plt.contour(x_grid,y_grid,prob_contour)\n",
    "plt.title('Probability Contours')\n",
    "plt.clabel(contours, inline = True );"
   ]
  },
  {
   "cell_type": "code",
   "execution_count": null,
   "id": "e81b4ac7",
   "metadata": {
    "papermill": {
     "duration": 0.0464,
     "end_time": "2021-12-23T10:09:58.243975",
     "exception": false,
     "start_time": "2021-12-23T10:09:58.197575",
     "status": "completed"
    },
    "tags": []
   },
   "outputs": [],
   "source": []
  }
 ],
 "metadata": {
  "kernelspec": {
   "display_name": "Python 3",
   "language": "python",
   "name": "python3"
  },
  "language_info": {
   "codemirror_mode": {
    "name": "ipython",
    "version": 3
   },
   "file_extension": ".py",
   "mimetype": "text/x-python",
   "name": "python",
   "nbconvert_exporter": "python",
   "pygments_lexer": "ipython3",
   "version": "3.6.15"
  },
  "papermill": {
   "default_parameters": {},
   "duration": 97.81164,
   "end_time": "2021-12-23T10:09:58.699486",
   "environment_variables": {},
   "exception": null,
   "input_path": "2020-08-11-part2.ipynb",
   "output_path": "2020-08-11-part2.ipynb",
   "parameters": {},
   "start_time": "2021-12-23T10:08:20.887846",
   "version": "2.3.3"
  }
 },
 "nbformat": 4,
 "nbformat_minor": 5
}