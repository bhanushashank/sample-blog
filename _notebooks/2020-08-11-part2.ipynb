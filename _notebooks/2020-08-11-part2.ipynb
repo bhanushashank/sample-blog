{
 "cells": [
  {
   "cell_type": "markdown",
   "id": "98380cd3",
   "metadata": {
    "papermill": {
     "duration": 0.029942,
     "end_time": "2022-08-30T00:49:25.061277",
     "exception": false,
     "start_time": "2022-08-30T00:49:25.031335",
     "status": "completed"
    },
    "tags": []
   },
   "source": [
    "# Distinguish Your Own Digits (DYOD)"
   ]
  },
  {
   "cell_type": "markdown",
   "id": "ef31240d",
   "metadata": {
    "papermill": {
     "duration": 0.024286,
     "end_time": "2022-08-30T00:49:25.110189",
     "exception": false,
     "start_time": "2022-08-30T00:49:25.085903",
     "status": "completed"
    },
    "tags": []
   },
   "source": [
    "You are going to write a classifier that distinguishes between the number 3 and number 8."
   ]
  },
  {
   "cell_type": "code",
   "execution_count": 1,
   "id": "b15c8646",
   "metadata": {
    "execution": {
     "iopub.execute_input": "2022-08-30T00:49:25.168435Z",
     "iopub.status.busy": "2022-08-30T00:49:25.167803Z",
     "iopub.status.idle": "2022-08-30T00:49:25.178779Z",
     "shell.execute_reply": "2022-08-30T00:49:25.178282Z"
    },
    "papermill": {
     "duration": 0.044792,
     "end_time": "2022-08-30T00:49:25.178910",
     "exception": false,
     "start_time": "2022-08-30T00:49:25.134118",
     "status": "completed"
    },
    "tags": []
   },
   "outputs": [],
   "source": [
    "%load_ext autoreload\n",
    "%autoreload 2"
   ]
  },
  {
   "cell_type": "code",
   "execution_count": 2,
   "id": "22ef38dc",
   "metadata": {
    "execution": {
     "iopub.execute_input": "2022-08-30T00:49:25.232175Z",
     "iopub.status.busy": "2022-08-30T00:49:25.231554Z",
     "iopub.status.idle": "2022-08-30T00:49:25.775844Z",
     "shell.execute_reply": "2022-08-30T00:49:25.775210Z"
    },
    "papermill": {
     "duration": 0.573177,
     "end_time": "2022-08-30T00:49:25.775998",
     "exception": false,
     "start_time": "2022-08-30T00:49:25.202821",
     "status": "completed"
    },
    "tags": []
   },
   "outputs": [],
   "source": [
    "%matplotlib inline\n",
    "import numpy as np\n",
    "import matplotlib.pyplot as plt\n",
    "import pandas as pd"
   ]
  },
  {
   "cell_type": "markdown",
   "id": "ba036198",
   "metadata": {
    "papermill": {
     "duration": 0.023792,
     "end_time": "2022-08-30T00:49:25.824421",
     "exception": false,
     "start_time": "2022-08-30T00:49:25.800629",
     "status": "completed"
    },
    "tags": []
   },
   "source": [
    "From the command line run `pip install mnist`. This is a library that will help you bring down the mnist dataset. If you run this from a notebook, you need to put  `!pip install mnist` in a cell by itself."
   ]
  },
  {
   "cell_type": "code",
   "execution_count": 3,
   "id": "bb6ad8a1",
   "metadata": {
    "execution": {
     "iopub.execute_input": "2022-08-30T00:49:25.877310Z",
     "iopub.status.busy": "2022-08-30T00:49:25.876725Z",
     "iopub.status.idle": "2022-08-30T00:49:27.634828Z",
     "shell.execute_reply": "2022-08-30T00:49:27.634213Z"
    },
    "papermill": {
     "duration": 1.786673,
     "end_time": "2022-08-30T00:49:27.634967",
     "exception": false,
     "start_time": "2022-08-30T00:49:25.848294",
     "status": "completed"
    },
    "tags": []
   },
   "outputs": [
    {
     "name": "stdout",
     "output_type": "stream",
     "text": [
      "Collecting mnist\r\n"
     ]
    },
    {
     "name": "stdout",
     "output_type": "stream",
     "text": [
      "  Downloading mnist-0.2.2-py2.py3-none-any.whl (3.5 kB)\r\n"
     ]
    },
    {
     "name": "stdout",
     "output_type": "stream",
     "text": [
      "Requirement already satisfied: numpy in /opt/hostedtoolcache/Python/3.6.15/x64/lib/python3.6/site-packages (from mnist) (1.19.5)\r\n"
     ]
    },
    {
     "name": "stdout",
     "output_type": "stream",
     "text": [
      "Installing collected packages: mnist\r\n",
      "Successfully installed mnist-0.2.2\r\n"
     ]
    }
   ],
   "source": [
    "!pip install mnist"
   ]
  },
  {
   "cell_type": "markdown",
   "id": "69df9c9a",
   "metadata": {
    "papermill": {
     "duration": 0.024772,
     "end_time": "2022-08-30T00:49:27.685036",
     "exception": false,
     "start_time": "2022-08-30T00:49:27.660264",
     "status": "completed"
    },
    "tags": []
   },
   "source": [
    "## Preparing the Data"
   ]
  },
  {
   "cell_type": "code",
   "execution_count": 4,
   "id": "7f69d806",
   "metadata": {
    "execution": {
     "iopub.execute_input": "2022-08-30T00:49:27.752270Z",
     "iopub.status.busy": "2022-08-30T00:49:27.750034Z",
     "iopub.status.idle": "2022-08-30T00:49:27.756890Z",
     "shell.execute_reply": "2022-08-30T00:49:27.757336Z"
    },
    "papermill": {
     "duration": 0.047827,
     "end_time": "2022-08-30T00:49:27.757465",
     "exception": false,
     "start_time": "2022-08-30T00:49:27.709638",
     "status": "completed"
    },
    "tags": []
   },
   "outputs": [],
   "source": [
    "import mnist"
   ]
  },
  {
   "cell_type": "code",
   "execution_count": 5,
   "id": "a411e44f",
   "metadata": {
    "execution": {
     "iopub.execute_input": "2022-08-30T00:49:27.812719Z",
     "iopub.status.busy": "2022-08-30T00:49:27.809757Z",
     "iopub.status.idle": "2022-08-30T00:49:28.466237Z",
     "shell.execute_reply": "2022-08-30T00:49:28.465722Z"
    },
    "papermill": {
     "duration": 0.68429,
     "end_time": "2022-08-30T00:49:28.466368",
     "exception": false,
     "start_time": "2022-08-30T00:49:27.782078",
     "status": "completed"
    },
    "tags": []
   },
   "outputs": [],
   "source": [
    "train_images = mnist.train_images()\n",
    "train_labels = mnist.train_labels()"
   ]
  },
  {
   "cell_type": "code",
   "execution_count": 6,
   "id": "dceab3a5",
   "metadata": {
    "execution": {
     "iopub.execute_input": "2022-08-30T00:49:28.532226Z",
     "iopub.status.busy": "2022-08-30T00:49:28.520333Z",
     "iopub.status.idle": "2022-08-30T00:49:28.539284Z",
     "shell.execute_reply": "2022-08-30T00:49:28.539756Z"
    },
    "papermill": {
     "duration": 0.047974,
     "end_time": "2022-08-30T00:49:28.539896",
     "exception": false,
     "start_time": "2022-08-30T00:49:28.491922",
     "status": "completed"
    },
    "tags": []
   },
   "outputs": [
    {
     "data": {
      "text/plain": [
       "((60000, 28, 28), (60000,))"
      ]
     },
     "execution_count": 6,
     "metadata": {},
     "output_type": "execute_result"
    }
   ],
   "source": [
    "train_images.shape, train_labels.shape"
   ]
  },
  {
   "cell_type": "code",
   "execution_count": 7,
   "id": "f50dc2bb",
   "metadata": {
    "execution": {
     "iopub.execute_input": "2022-08-30T00:49:28.601014Z",
     "iopub.status.busy": "2022-08-30T00:49:28.600413Z",
     "iopub.status.idle": "2022-08-30T00:49:28.829642Z",
     "shell.execute_reply": "2022-08-30T00:49:28.828620Z"
    },
    "papermill": {
     "duration": 0.264954,
     "end_time": "2022-08-30T00:49:28.829793",
     "exception": false,
     "start_time": "2022-08-30T00:49:28.564839",
     "status": "completed"
    },
    "tags": []
   },
   "outputs": [],
   "source": [
    "test_images = mnist.test_images()\n",
    "test_labels = mnist.test_labels()"
   ]
  },
  {
   "cell_type": "code",
   "execution_count": 8,
   "id": "fc38cf1b",
   "metadata": {
    "execution": {
     "iopub.execute_input": "2022-08-30T00:49:28.885192Z",
     "iopub.status.busy": "2022-08-30T00:49:28.884600Z",
     "iopub.status.idle": "2022-08-30T00:49:28.898443Z",
     "shell.execute_reply": "2022-08-30T00:49:28.898986Z"
    },
    "papermill": {
     "duration": 0.043743,
     "end_time": "2022-08-30T00:49:28.899122",
     "exception": false,
     "start_time": "2022-08-30T00:49:28.855379",
     "status": "completed"
    },
    "tags": []
   },
   "outputs": [
    {
     "data": {
      "text/plain": [
       "((10000, 28, 28), (10000,))"
      ]
     },
     "execution_count": 8,
     "metadata": {},
     "output_type": "execute_result"
    }
   ],
   "source": [
    "test_images.shape, test_labels.shape"
   ]
  },
  {
   "cell_type": "code",
   "execution_count": 9,
   "id": "f9ed8fe0",
   "metadata": {
    "execution": {
     "iopub.execute_input": "2022-08-30T00:49:28.953493Z",
     "iopub.status.busy": "2022-08-30T00:49:28.952924Z",
     "iopub.status.idle": "2022-08-30T00:49:29.090420Z",
     "shell.execute_reply": "2022-08-30T00:49:29.090915Z"
    },
    "papermill": {
     "duration": 0.16672,
     "end_time": "2022-08-30T00:49:29.091062",
     "exception": false,
     "start_time": "2022-08-30T00:49:28.924342",
     "status": "completed"
    },
    "tags": []
   },
   "outputs": [
    {
     "name": "stdout",
     "output_type": "stream",
     "text": [
      "2\n"
     ]
    },
    {
     "data": {
      "text/plain": [
       "<matplotlib.image.AxesImage at 0x7fb5bda97978>"
      ]
     },
     "execution_count": 9,
     "metadata": {},
     "output_type": "execute_result"
    },
    {
     "data": {
      "image/png": "[encoded data removed]",
      "text/plain": [
       "<Figure size 432x288 with 1 Axes>"
      ]
     },
     "metadata": {
      "needs_background": "light"
     },
     "output_type": "display_data"
    }
   ],
   "source": [
    "image_index = 7776 # You may select anything up to 60,000\n",
    "print(train_labels[image_index]) \n",
    "plt.imshow(train_images[image_index], cmap='Greys')"
   ]
  },
  {
   "cell_type": "markdown",
   "id": "a8d2388d",
   "metadata": {
    "papermill": {
     "duration": 0.026366,
     "end_time": "2022-08-30T00:49:29.144415",
     "exception": false,
     "start_time": "2022-08-30T00:49:29.118049",
     "status": "completed"
    },
    "tags": []
   },
   "source": [
    "## Filter data to get 3 and 8 out"
   ]
  },
  {
   "cell_type": "code",
   "execution_count": 10,
   "id": "776f7fc7",
   "metadata": {
    "execution": {
     "iopub.execute_input": "2022-08-30T00:49:29.216398Z",
     "iopub.status.busy": "2022-08-30T00:49:29.212539Z",
     "iopub.status.idle": "2022-08-30T00:49:29.224476Z",
     "shell.execute_reply": "2022-08-30T00:49:29.224000Z"
    },
    "papermill": {
     "duration": 0.053709,
     "end_time": "2022-08-30T00:49:29.224590",
     "exception": false,
     "start_time": "2022-08-30T00:49:29.170881",
     "status": "completed"
    },
    "tags": []
   },
   "outputs": [],
   "source": [
    "train_filter = np.where((train_labels == 3 ) | (train_labels == 8))\n",
    "test_filter = np.where((test_labels == 3) | (test_labels == 8))\n",
    "X_train, y_train = train_images[train_filter], train_labels[train_filter]\n",
    "X_test, y_test = test_images[test_filter], test_labels[test_filter]"
   ]
  },
  {
   "cell_type": "markdown",
   "id": "948f0b7e",
   "metadata": {
    "papermill": {
     "duration": 0.02632,
     "end_time": "2022-08-30T00:49:29.277383",
     "exception": false,
     "start_time": "2022-08-30T00:49:29.251063",
     "status": "completed"
    },
    "tags": []
   },
   "source": [
    "We normalize the pizel values in the 0 to 1 range"
   ]
  },
  {
   "cell_type": "code",
   "execution_count": 11,
   "id": "ee4c2166",
   "metadata": {
    "execution": {
     "iopub.execute_input": "2022-08-30T00:49:29.344871Z",
     "iopub.status.busy": "2022-08-30T00:49:29.336379Z",
     "iopub.status.idle": "2022-08-30T00:49:29.383260Z",
     "shell.execute_reply": "2022-08-30T00:49:29.382736Z"
    },
    "papermill": {
     "duration": 0.079647,
     "end_time": "2022-08-30T00:49:29.383384",
     "exception": false,
     "start_time": "2022-08-30T00:49:29.303737",
     "status": "completed"
    },
    "tags": []
   },
   "outputs": [],
   "source": [
    "X_train = X_train/255.\n",
    "X_test = X_test/255."
   ]
  },
  {
   "cell_type": "markdown",
   "id": "ddcf4fab",
   "metadata": {
    "papermill": {
     "duration": 0.026542,
     "end_time": "2022-08-30T00:49:29.436626",
     "exception": false,
     "start_time": "2022-08-30T00:49:29.410084",
     "status": "completed"
    },
    "tags": []
   },
   "source": [
    "And setup the labels as 1 (when the digit is 3) and 0 (when the digit is 8)"
   ]
  },
  {
   "cell_type": "code",
   "execution_count": 12,
   "id": "7dc908f2",
   "metadata": {
    "execution": {
     "iopub.execute_input": "2022-08-30T00:49:29.505581Z",
     "iopub.status.busy": "2022-08-30T00:49:29.504408Z",
     "iopub.status.idle": "2022-08-30T00:49:29.508566Z",
     "shell.execute_reply": "2022-08-30T00:49:29.507779Z"
    },
    "papermill": {
     "duration": 0.045903,
     "end_time": "2022-08-30T00:49:29.508689",
     "exception": false,
     "start_time": "2022-08-30T00:49:29.462786",
     "status": "completed"
    },
    "tags": []
   },
   "outputs": [],
   "source": [
    "y_train = 1*(y_train==3)\n",
    "y_test = 1*(y_test==3)"
   ]
  },
  {
   "cell_type": "code",
   "execution_count": 13,
   "id": "01e4e969",
   "metadata": {
    "execution": {
     "iopub.execute_input": "2022-08-30T00:49:29.570871Z",
     "iopub.status.busy": "2022-08-30T00:49:29.565090Z",
     "iopub.status.idle": "2022-08-30T00:49:29.580764Z",
     "shell.execute_reply": "2022-08-30T00:49:29.581187Z"
    },
    "papermill": {
     "duration": 0.046018,
     "end_time": "2022-08-30T00:49:29.581321",
     "exception": false,
     "start_time": "2022-08-30T00:49:29.535303",
     "status": "completed"
    },
    "tags": []
   },
   "outputs": [
    {
     "data": {
      "text/plain": [
       "((11982, 28, 28), (1984, 28, 28))"
      ]
     },
     "execution_count": 13,
     "metadata": {},
     "output_type": "execute_result"
    }
   ],
   "source": [
    "X_train.shape, X_test.shape"
   ]
  },
  {
   "cell_type": "markdown",
   "id": "5ccf3f85",
   "metadata": {
    "papermill": {
     "duration": 0.026601,
     "end_time": "2022-08-30T00:49:29.634702",
     "exception": false,
     "start_time": "2022-08-30T00:49:29.608101",
     "status": "completed"
    },
    "tags": []
   },
   "source": [
    "We reshape the data to flatten the image pixels into a set of features or co-variates:"
   ]
  },
  {
   "cell_type": "code",
   "execution_count": 14,
   "id": "5286a4a3",
   "metadata": {
    "execution": {
     "iopub.execute_input": "2022-08-30T00:49:29.706170Z",
     "iopub.status.busy": "2022-08-30T00:49:29.700365Z",
     "iopub.status.idle": "2022-08-30T00:49:29.711743Z",
     "shell.execute_reply": "2022-08-30T00:49:29.711247Z"
    },
    "papermill": {
     "duration": 0.050299,
     "end_time": "2022-08-30T00:49:29.711863",
     "exception": false,
     "start_time": "2022-08-30T00:49:29.661564",
     "status": "completed"
    },
    "tags": []
   },
   "outputs": [
    {
     "data": {
      "text/plain": [
       "((11982, 784), (1984, 784))"
      ]
     },
     "execution_count": 14,
     "metadata": {},
     "output_type": "execute_result"
    }
   ],
   "source": [
    "X_train = X_train.reshape(X_train.shape[0], -1)\n",
    "X_test = X_test.reshape(X_test.shape[0], -1)\n",
    "X_train.shape, X_test.shape"
   ]
  },
  {
   "cell_type": "code",
   "execution_count": 15,
   "id": "73c5f88a",
   "metadata": {
    "execution": {
     "iopub.execute_input": "2022-08-30T00:49:29.770331Z",
     "iopub.status.busy": "2022-08-30T00:49:29.769741Z",
     "iopub.status.idle": "2022-08-30T00:49:29.788856Z",
     "shell.execute_reply": "2022-08-30T00:49:29.788376Z"
    },
    "papermill": {
     "duration": 0.05024,
     "end_time": "2022-08-30T00:49:29.788972",
     "exception": false,
     "start_time": "2022-08-30T00:49:29.738732",
     "status": "completed"
    },
    "tags": []
   },
   "outputs": [],
   "source": [
    "#Impoting functions from 'Kudzu'\n",
    "from kudzu.model import Model\n",
    "from kudzu.train import Learner\n",
    "from kudzu.optim import GD\n",
    "from kudzu.data import Data, Sampler,Dataloader\n",
    "\n",
    "from kudzu.callbacks import AccCallback\n",
    "from kudzu.callbacks import ClfCallback\n",
    "\n",
    "from kudzu.loss import MSE\n",
    "\n",
    "from kudzu.layer import Sigmoid,Relu\n",
    "from kudzu.layer import Affine"
   ]
  },
  {
   "cell_type": "markdown",
   "id": "bc01172a",
   "metadata": {
    "papermill": {
     "duration": 0.026843,
     "end_time": "2022-08-30T00:49:29.842892",
     "exception": false,
     "start_time": "2022-08-30T00:49:29.816049",
     "status": "completed"
    },
    "tags": []
   },
   "source": [
    "### Let us create a `Config` class, to store important parameters. \n",
    "This class essentially plays the role of a dictionary."
   ]
  },
  {
   "cell_type": "code",
   "execution_count": 16,
   "id": "978281aa",
   "metadata": {
    "execution": {
     "iopub.execute_input": "2022-08-30T00:49:29.901096Z",
     "iopub.status.busy": "2022-08-30T00:49:29.900497Z",
     "iopub.status.idle": "2022-08-30T00:49:29.913524Z",
     "shell.execute_reply": "2022-08-30T00:49:29.913048Z"
    },
    "papermill": {
     "duration": 0.043899,
     "end_time": "2022-08-30T00:49:29.913640",
     "exception": false,
     "start_time": "2022-08-30T00:49:29.869741",
     "status": "completed"
    },
    "tags": []
   },
   "outputs": [],
   "source": [
    "class Config:\n",
    "    pass\n",
    "config = Config()\n",
    "config.lr = 0.001\n",
    "config.num_epochs = 250\n",
    "config.bs = 50"
   ]
  },
  {
   "cell_type": "markdown",
   "id": "1385fa59",
   "metadata": {
    "papermill": {
     "duration": 0.02681,
     "end_time": "2022-08-30T00:49:29.967359",
     "exception": false,
     "start_time": "2022-08-30T00:49:29.940549",
     "status": "completed"
    },
    "tags": []
   },
   "source": [
    "### Running Models with the Training data\n",
    "Details about the network layers:\n",
    "- A first affine layer has 784 inputs and does 100 affine transforms. These are followed by a Relu\n",
    "- A second affine layer has 100 inputs from the 100 activations of the past layer, and does 100 affine transforms. These are followed by a Relu\n",
    "- A third affine layer has 100 activations and does 2 affine transformations to create an embedding for visualization. There is no non-linearity here.\n",
    "- A final \"logistic regression\" which has an affine transform from 2 inputs to 1 output, which is squeezed through a sigmoid.\n"
   ]
  },
  {
   "cell_type": "code",
   "execution_count": 17,
   "id": "2b9c66db",
   "metadata": {
    "execution": {
     "iopub.execute_input": "2022-08-30T00:49:30.026223Z",
     "iopub.status.busy": "2022-08-30T00:49:30.025584Z",
     "iopub.status.idle": "2022-08-30T00:49:30.038475Z",
     "shell.execute_reply": "2022-08-30T00:49:30.037995Z"
    },
    "papermill": {
     "duration": 0.044293,
     "end_time": "2022-08-30T00:49:30.038588",
     "exception": false,
     "start_time": "2022-08-30T00:49:29.994295",
     "status": "completed"
    },
    "tags": []
   },
   "outputs": [],
   "source": [
    "data = Data(X_train, y_train.reshape(-1,1))\n",
    "sampler = Sampler(data, config.bs, shuffle=True)\n",
    "\n",
    "dl = Dataloader(data, sampler)\n",
    "\n",
    "opt = GD(config.lr)\n",
    "loss = MSE()"
   ]
  },
  {
   "cell_type": "code",
   "execution_count": 18,
   "id": "b275e4c2",
   "metadata": {
    "execution": {
     "iopub.execute_input": "2022-08-30T00:49:30.097919Z",
     "iopub.status.busy": "2022-08-30T00:49:30.097162Z",
     "iopub.status.idle": "2022-08-30T00:49:30.109894Z",
     "shell.execute_reply": "2022-08-30T00:49:30.109419Z"
    },
    "papermill": {
     "duration": 0.044251,
     "end_time": "2022-08-30T00:49:30.110007",
     "exception": false,
     "start_time": "2022-08-30T00:49:30.065756",
     "status": "completed"
    },
    "tags": []
   },
   "outputs": [],
   "source": [
    "training_data_x = X_train\n",
    "testing_data_x = X_test\n",
    "training_data_y = y_train.reshape(-1,1)\n",
    "testing_data_y = y_test.reshape(-1,1)"
   ]
  },
  {
   "cell_type": "code",
   "execution_count": 19,
   "id": "76951160",
   "metadata": {
    "execution": {
     "iopub.execute_input": "2022-08-30T00:49:30.168959Z",
     "iopub.status.busy": "2022-08-30T00:49:30.168357Z",
     "iopub.status.idle": "2022-08-30T00:49:30.184794Z",
     "shell.execute_reply": "2022-08-30T00:49:30.185268Z"
    },
    "papermill": {
     "duration": 0.048591,
     "end_time": "2022-08-30T00:49:30.185404",
     "exception": false,
     "start_time": "2022-08-30T00:49:30.136813",
     "status": "completed"
    },
    "tags": []
   },
   "outputs": [
    {
     "name": "stdout",
     "output_type": "stream",
     "text": [
      "xavier\n",
      "xavier\n",
      "xavier\n",
      "xavier\n",
      "xavier\n"
     ]
    }
   ],
   "source": [
    "layers = [Affine(\"first\", 784, 100), Relu(\"first\"), Affine(\"second\", 100, 100), Relu(\"second\"), Affine(\"third\", 100, 2), Affine(\"last\", 2, 1), Sigmoid(\"last\")]\n",
    "model_nn = Model(layers)\n",
    "model_lr = Model([Affine(\"logits\", 784, 1), Sigmoid(\"sigmoid\")])"
   ]
  },
  {
   "cell_type": "code",
   "execution_count": 20,
   "id": "6eede77a",
   "metadata": {
    "execution": {
     "iopub.execute_input": "2022-08-30T00:49:30.244364Z",
     "iopub.status.busy": "2022-08-30T00:49:30.243775Z",
     "iopub.status.idle": "2022-08-30T00:49:30.256719Z",
     "shell.execute_reply": "2022-08-30T00:49:30.257189Z"
    },
    "papermill": {
     "duration": 0.044717,
     "end_time": "2022-08-30T00:49:30.257324",
     "exception": false,
     "start_time": "2022-08-30T00:49:30.212607",
     "status": "completed"
    },
    "tags": []
   },
   "outputs": [],
   "source": [
    "nn_learner = Learner(loss, model_nn, opt, config.num_epochs)\n",
    "acc_nn = ClfCallback(nn_learner, config.bs, training_data_x , testing_data_x, training_data_y, testing_data_y)\n",
    "nn_learner.set_callbacks([acc_nn])"
   ]
  },
  {
   "cell_type": "code",
   "execution_count": 21,
   "id": "877b6cc7",
   "metadata": {
    "execution": {
     "iopub.execute_input": "2022-08-30T00:49:30.316175Z",
     "iopub.status.busy": "2022-08-30T00:49:30.315577Z",
     "iopub.status.idle": "2022-08-30T00:49:30.328346Z",
     "shell.execute_reply": "2022-08-30T00:49:30.328790Z"
    },
    "papermill": {
     "duration": 0.044371,
     "end_time": "2022-08-30T00:49:30.328921",
     "exception": false,
     "start_time": "2022-08-30T00:49:30.284550",
     "status": "completed"
    },
    "tags": []
   },
   "outputs": [],
   "source": [
    "lr_learner = Learner(loss, model_lr, opt, config.num_epochs)\n",
    "acc_lr = ClfCallback(lr_learner, config.bs, training_data_x , testing_data_x, training_data_y, testing_data_y)\n",
    "lr_learner.set_callbacks([acc_lr])"
   ]
  },
  {
   "cell_type": "code",
   "execution_count": 22,
   "id": "d9b133c3",
   "metadata": {
    "execution": {
     "iopub.execute_input": "2022-08-30T00:49:30.399189Z",
     "iopub.status.busy": "2022-08-30T00:49:30.391995Z",
     "iopub.status.idle": "2022-08-30T00:50:46.690184Z",
     "shell.execute_reply": "2022-08-30T00:50:46.691021Z"
    },
    "papermill": {
     "duration": 76.33503,
     "end_time": "2022-08-30T00:50:46.691185",
     "exception": false,
     "start_time": "2022-08-30T00:49:30.356155",
     "status": "completed"
    },
    "tags": []
   },
   "outputs": [
    {
     "name": "stdout",
     "output_type": "stream",
     "text": [
      "Epoch 0, Loss 0.2247\n",
      "Training Accuracy: 0.7369, Testing Accuracy: 0.7581\n",
      "\n"
     ]
    },
    {
     "name": "stdout",
     "output_type": "stream",
     "text": [
      "Epoch 10, Loss 0.0773\n",
      "Training Accuracy: 0.9268, Testing Accuracy: 0.9370\n",
      "\n"
     ]
    },
    {
     "name": "stdout",
     "output_type": "stream",
     "text": [
      "Epoch 20, Loss 0.0496\n",
      "Training Accuracy: 0.9495, Testing Accuracy: 0.9536\n",
      "\n"
     ]
    },
    {
     "name": "stdout",
     "output_type": "stream",
     "text": [
      "Epoch 30, Loss 0.0398\n",
      "Training Accuracy: 0.9561, Testing Accuracy: 0.9612\n",
      "\n"
     ]
    },
    {
     "name": "stdout",
     "output_type": "stream",
     "text": [
      "Epoch 40, Loss 0.0349\n",
      "Training Accuracy: 0.9614, Testing Accuracy: 0.9642\n",
      "\n"
     ]
    },
    {
     "name": "stdout",
     "output_type": "stream",
     "text": [
      "Epoch 50, Loss 0.0319\n",
      "Training Accuracy: 0.9637, Testing Accuracy: 0.9657\n",
      "\n"
     ]
    },
    {
     "name": "stdout",
     "output_type": "stream",
     "text": [
      "Epoch 60, Loss 0.0298\n",
      "Training Accuracy: 0.9659, Testing Accuracy: 0.9667\n",
      "\n"
     ]
    },
    {
     "name": "stdout",
     "output_type": "stream",
     "text": [
      "Epoch 70, Loss 0.0281\n",
      "Training Accuracy: 0.9683, Testing Accuracy: 0.9677\n",
      "\n"
     ]
    },
    {
     "name": "stdout",
     "output_type": "stream",
     "text": [
      "Epoch 80, Loss 0.0269\n",
      "Training Accuracy: 0.9702, Testing Accuracy: 0.9688\n",
      "\n"
     ]
    },
    {
     "name": "stdout",
     "output_type": "stream",
     "text": [
      "Epoch 90, Loss 0.0258\n",
      "Training Accuracy: 0.9710, Testing Accuracy: 0.9703\n",
      "\n"
     ]
    },
    {
     "name": "stdout",
     "output_type": "stream",
     "text": [
      "Epoch 100, Loss 0.0249\n",
      "Training Accuracy: 0.9715, Testing Accuracy: 0.9708\n",
      "\n"
     ]
    },
    {
     "name": "stdout",
     "output_type": "stream",
     "text": [
      "Epoch 110, Loss 0.0241\n",
      "Training Accuracy: 0.9720, Testing Accuracy: 0.9718\n",
      "\n"
     ]
    },
    {
     "name": "stdout",
     "output_type": "stream",
     "text": [
      "Epoch 120, Loss 0.0234\n",
      "Training Accuracy: 0.9733, Testing Accuracy: 0.9728\n",
      "\n"
     ]
    },
    {
     "name": "stdout",
     "output_type": "stream",
     "text": [
      "Epoch 130, Loss 0.0227\n",
      "Training Accuracy: 0.9740, Testing Accuracy: 0.9723\n",
      "\n"
     ]
    },
    {
     "name": "stdout",
     "output_type": "stream",
     "text": [
      "Epoch 140, Loss 0.0221\n",
      "Training Accuracy: 0.9746, Testing Accuracy: 0.9733\n",
      "\n"
     ]
    },
    {
     "name": "stdout",
     "output_type": "stream",
     "text": [
      "Epoch 150, Loss 0.0216\n",
      "Training Accuracy: 0.9752, Testing Accuracy: 0.9733\n",
      "\n"
     ]
    },
    {
     "name": "stdout",
     "output_type": "stream",
     "text": [
      "Epoch 160, Loss 0.0211\n",
      "Training Accuracy: 0.9759, Testing Accuracy: 0.9738\n",
      "\n"
     ]
    },
    {
     "name": "stdout",
     "output_type": "stream",
     "text": [
      "Epoch 170, Loss 0.0206\n",
      "Training Accuracy: 0.9766, Testing Accuracy: 0.9738\n",
      "\n"
     ]
    },
    {
     "name": "stdout",
     "output_type": "stream",
     "text": [
      "Epoch 180, Loss 0.0202\n",
      "Training Accuracy: 0.9772, Testing Accuracy: 0.9738\n",
      "\n"
     ]
    },
    {
     "name": "stdout",
     "output_type": "stream",
     "text": [
      "Epoch 190, Loss 0.0197\n",
      "Training Accuracy: 0.9782, Testing Accuracy: 0.9738\n",
      "\n"
     ]
    },
    {
     "name": "stdout",
     "output_type": "stream",
     "text": [
      "Epoch 200, Loss 0.0193\n",
      "Training Accuracy: 0.9785, Testing Accuracy: 0.9738\n",
      "\n"
     ]
    },
    {
     "name": "stdout",
     "output_type": "stream",
     "text": [
      "Epoch 210, Loss 0.0189\n",
      "Training Accuracy: 0.9790, Testing Accuracy: 0.9743\n",
      "\n"
     ]
    },
    {
     "name": "stdout",
     "output_type": "stream",
     "text": [
      "Epoch 220, Loss 0.0186\n",
      "Training Accuracy: 0.9793, Testing Accuracy: 0.9748\n",
      "\n"
     ]
    },
    {
     "name": "stdout",
     "output_type": "stream",
     "text": [
      "Epoch 230, Loss 0.0182\n",
      "Training Accuracy: 0.9794, Testing Accuracy: 0.9753\n",
      "\n"
     ]
    },
    {
     "name": "stdout",
     "output_type": "stream",
     "text": [
      "Epoch 240, Loss 0.0178\n",
      "Training Accuracy: 0.9800, Testing Accuracy: 0.9758\n",
      "\n"
     ]
    },
    {
     "data": {
      "text/plain": [
       "0.015282416914408282"
      ]
     },
     "execution_count": 22,
     "metadata": {},
     "output_type": "execute_result"
    }
   ],
   "source": [
    "nn_learner.train_loop(dl)"
   ]
  },
  {
   "cell_type": "code",
   "execution_count": 23,
   "id": "e0163366",
   "metadata": {
    "execution": {
     "iopub.execute_input": "2022-08-30T00:50:46.772564Z",
     "iopub.status.busy": "2022-08-30T00:50:46.771975Z",
     "iopub.status.idle": "2022-08-30T00:51:00.770732Z",
     "shell.execute_reply": "2022-08-30T00:51:00.771591Z"
    },
    "papermill": {
     "duration": 14.046121,
     "end_time": "2022-08-30T00:51:00.771747",
     "exception": false,
     "start_time": "2022-08-30T00:50:46.725626",
     "status": "completed"
    },
    "tags": []
   },
   "outputs": [
    {
     "name": "stdout",
     "output_type": "stream",
     "text": [
      "Epoch 0, Loss 0.2413\n",
      "Training Accuracy: 0.6668, Testing Accuracy: 0.6835\n",
      "\n"
     ]
    },
    {
     "name": "stdout",
     "output_type": "stream",
     "text": [
      "Epoch 10, Loss 0.1041\n",
      "Training Accuracy: 0.9087, Testing Accuracy: 0.9199\n",
      "\n"
     ]
    },
    {
     "name": "stdout",
     "output_type": "stream",
     "text": [
      "Epoch 20, Loss 0.079\n",
      "Training Accuracy: 0.9306, Testing Accuracy: 0.9420\n",
      "\n"
     ]
    },
    {
     "name": "stdout",
     "output_type": "stream",
     "text": [
      "Epoch 30, Loss 0.0677\n",
      "Training Accuracy: 0.9380, Testing Accuracy: 0.9491\n",
      "\n"
     ]
    },
    {
     "name": "stdout",
     "output_type": "stream",
     "text": [
      "Epoch 40, Loss 0.0611\n",
      "Training Accuracy: 0.9438, Testing Accuracy: 0.9536\n",
      "\n"
     ]
    },
    {
     "name": "stdout",
     "output_type": "stream",
     "text": [
      "Epoch 50, Loss 0.0566\n",
      "Training Accuracy: 0.9464, Testing Accuracy: 0.9572\n",
      "\n"
     ]
    },
    {
     "name": "stdout",
     "output_type": "stream",
     "text": [
      "Epoch 60, Loss 0.0533\n",
      "Training Accuracy: 0.9483, Testing Accuracy: 0.9597\n",
      "\n"
     ]
    },
    {
     "name": "stdout",
     "output_type": "stream",
     "text": [
      "Epoch 70, Loss 0.0508\n",
      "Training Accuracy: 0.9497, Testing Accuracy: 0.9617\n",
      "\n"
     ]
    },
    {
     "name": "stdout",
     "output_type": "stream",
     "text": [
      "Epoch 80, Loss 0.0488\n",
      "Training Accuracy: 0.9514, Testing Accuracy: 0.9637\n",
      "\n"
     ]
    },
    {
     "name": "stdout",
     "output_type": "stream",
     "text": [
      "Epoch 90, Loss 0.0471\n",
      "Training Accuracy: 0.9533, Testing Accuracy: 0.9637\n",
      "\n"
     ]
    },
    {
     "name": "stdout",
     "output_type": "stream",
     "text": [
      "Epoch 100, Loss 0.0457\n",
      "Training Accuracy: 0.9539, Testing Accuracy: 0.9652\n",
      "\n"
     ]
    },
    {
     "name": "stdout",
     "output_type": "stream",
     "text": [
      "Epoch 110, Loss 0.0445\n",
      "Training Accuracy: 0.9546, Testing Accuracy: 0.9657\n",
      "\n"
     ]
    },
    {
     "name": "stdout",
     "output_type": "stream",
     "text": [
      "Epoch 120, Loss 0.0435\n",
      "Training Accuracy: 0.9552, Testing Accuracy: 0.9652\n",
      "\n"
     ]
    },
    {
     "name": "stdout",
     "output_type": "stream",
     "text": [
      "Epoch 130, Loss 0.0426\n",
      "Training Accuracy: 0.9559, Testing Accuracy: 0.9657\n",
      "\n"
     ]
    },
    {
     "name": "stdout",
     "output_type": "stream",
     "text": [
      "Epoch 140, Loss 0.0418\n",
      "Training Accuracy: 0.9564, Testing Accuracy: 0.9652\n",
      "\n"
     ]
    },
    {
     "name": "stdout",
     "output_type": "stream",
     "text": [
      "Epoch 150, Loss 0.0411\n",
      "Training Accuracy: 0.9568, Testing Accuracy: 0.9657\n",
      "\n"
     ]
    },
    {
     "name": "stdout",
     "output_type": "stream",
     "text": [
      "Epoch 160, Loss 0.0404\n",
      "Training Accuracy: 0.9575, Testing Accuracy: 0.9652\n",
      "\n"
     ]
    },
    {
     "name": "stdout",
     "output_type": "stream",
     "text": [
      "Epoch 170, Loss 0.0398\n",
      "Training Accuracy: 0.9579, Testing Accuracy: 0.9652\n",
      "\n"
     ]
    },
    {
     "name": "stdout",
     "output_type": "stream",
     "text": [
      "Epoch 180, Loss 0.0393\n",
      "Training Accuracy: 0.9583, Testing Accuracy: 0.9652\n",
      "\n"
     ]
    },
    {
     "name": "stdout",
     "output_type": "stream",
     "text": [
      "Epoch 190, Loss 0.0388\n",
      "Training Accuracy: 0.9584, Testing Accuracy: 0.9652\n",
      "\n"
     ]
    },
    {
     "name": "stdout",
     "output_type": "stream",
     "text": [
      "Epoch 200, Loss 0.0383\n",
      "Training Accuracy: 0.9589, Testing Accuracy: 0.9652\n",
      "\n"
     ]
    },
    {
     "name": "stdout",
     "output_type": "stream",
     "text": [
      "Epoch 210, Loss 0.0379\n",
      "Training Accuracy: 0.9593, Testing Accuracy: 0.9652\n",
      "\n"
     ]
    },
    {
     "name": "stdout",
     "output_type": "stream",
     "text": [
      "Epoch 220, Loss 0.0375\n",
      "Training Accuracy: 0.9597, Testing Accuracy: 0.9657\n",
      "\n"
     ]
    },
    {
     "name": "stdout",
     "output_type": "stream",
     "text": [
      "Epoch 230, Loss 0.0371\n",
      "Training Accuracy: 0.9600, Testing Accuracy: 0.9657\n",
      "\n"
     ]
    },
    {
     "name": "stdout",
     "output_type": "stream",
     "text": [
      "Epoch 240, Loss 0.0367\n",
      "Training Accuracy: 0.9604, Testing Accuracy: 0.9657\n",
      "\n"
     ]
    },
    {
     "data": {
      "text/plain": [
       "0.06704676634203217"
      ]
     },
     "execution_count": 23,
     "metadata": {},
     "output_type": "execute_result"
    }
   ],
   "source": [
    "lr_learner.train_loop(dl)"
   ]
  },
  {
   "cell_type": "code",
   "execution_count": 24,
   "id": "ca410940",
   "metadata": {
    "execution": {
     "iopub.execute_input": "2022-08-30T00:51:00.869191Z",
     "iopub.status.busy": "2022-08-30T00:51:00.868573Z",
     "iopub.status.idle": "2022-08-30T00:51:01.093869Z",
     "shell.execute_reply": "2022-08-30T00:51:01.093373Z"
    },
    "papermill": {
     "duration": 0.279798,
     "end_time": "2022-08-30T00:51:01.093994",
     "exception": false,
     "start_time": "2022-08-30T00:51:00.814196",
     "status": "completed"
    },
    "tags": []
   },
   "outputs": [
    {
     "data": {
      "text/plain": [
       "<matplotlib.legend.Legend at 0x7fb5bd5f7f98>"
      ]
     },
     "execution_count": 24,
     "metadata": {},
     "output_type": "execute_result"
    },
    {
     "data": {
      "image/png": "[encoded data removed]",
      "text/plain": [
       "<Figure size 1080x720 with 1 Axes>"
      ]
     },
     "metadata": {
      "needs_background": "light"
     },
     "output_type": "display_data"
    }
   ],
   "source": [
    "#comparing the results of NN and LR\n",
    "plt.figure(figsize=(15,10))\n",
    "\n",
    "# Neural Network plots\n",
    "plt.plot(acc_nn.accuracies, 'r-', label = \"Training Accuracies - NN\")\n",
    "plt.plot(acc_nn.test_accuracies, 'g-', label = \"Testing Accuracies - NN\")\n",
    "\n",
    "# Logistic Regression plots\n",
    "plt.plot(acc_lr.accuracies, 'k-', label = \"Training Accuracies - LR\")\n",
    "plt.plot(acc_lr.test_accuracies, 'b-', label = \"Testing Accuracies - LR\")\n",
    "plt.legend()"
   ]
  },
  {
   "cell_type": "markdown",
   "id": "80dfb35c",
   "metadata": {
    "papermill": {
     "duration": 0.041977,
     "end_time": "2022-08-30T00:51:01.180051",
     "exception": false,
     "start_time": "2022-08-30T00:51:01.138074",
     "status": "completed"
    },
    "tags": []
   },
   "source": [
    "#### Plotting the outputs of this layer of the NN.\n"
   ]
  },
  {
   "cell_type": "code",
   "execution_count": 25,
   "id": "45eb2ff5",
   "metadata": {
    "execution": {
     "iopub.execute_input": "2022-08-30T00:51:01.268472Z",
     "iopub.status.busy": "2022-08-30T00:51:01.267865Z",
     "iopub.status.idle": "2022-08-30T00:51:01.289065Z",
     "shell.execute_reply": "2022-08-30T00:51:01.289892Z"
    },
    "papermill": {
     "duration": 0.068041,
     "end_time": "2022-08-30T00:51:01.290058",
     "exception": false,
     "start_time": "2022-08-30T00:51:01.222017",
     "status": "completed"
    },
    "tags": []
   },
   "outputs": [],
   "source": [
    "new_model = Model(layers[:-2])\n",
    "testing_plot = new_model(testing_data_x)"
   ]
  },
  {
   "cell_type": "code",
   "execution_count": 26,
   "id": "4c0a5485",
   "metadata": {
    "execution": {
     "iopub.execute_input": "2022-08-30T00:51:01.388973Z",
     "iopub.status.busy": "2022-08-30T00:51:01.388359Z",
     "iopub.status.idle": "2022-08-30T00:51:01.567080Z",
     "shell.execute_reply": "2022-08-30T00:51:01.566581Z"
    },
    "papermill": {
     "duration": 0.234188,
     "end_time": "2022-08-30T00:51:01.567205",
     "exception": false,
     "start_time": "2022-08-30T00:51:01.333017",
     "status": "completed"
    },
    "tags": []
   },
   "outputs": [
    {
     "data": {
      "text/plain": [
       "Text(0.5, 1.0, 'Outputs')"
      ]
     },
     "execution_count": 26,
     "metadata": {},
     "output_type": "execute_result"
    },
    {
     "data": {
      "image/png": "[encoded data removed]",
      "text/plain": [
       "<Figure size 576x504 with 1 Axes>"
      ]
     },
     "metadata": {
      "needs_background": "light"
     },
     "output_type": "display_data"
    }
   ],
   "source": [
    "# Plotting the scatter plot of points and color coding by class\n",
    "plt.figure(figsize=(8,7))\n",
    "plt.scatter(testing_plot[:,0], testing_plot[:,1], alpha = 0.1, c = y_test.ravel());\n",
    "plt.title('Outputs')"
   ]
  },
  {
   "cell_type": "markdown",
   "id": "a74fcf8f",
   "metadata": {
    "papermill": {
     "duration": 0.044022,
     "end_time": "2022-08-30T00:51:01.655735",
     "exception": false,
     "start_time": "2022-08-30T00:51:01.611713",
     "status": "completed"
    },
    "tags": []
   },
   "source": [
    "Probability contours"
   ]
  },
  {
   "cell_type": "code",
   "execution_count": 27,
   "id": "d0afc8e3",
   "metadata": {
    "execution": {
     "iopub.execute_input": "2022-08-30T00:51:01.781216Z",
     "iopub.status.busy": "2022-08-30T00:51:01.780567Z",
     "iopub.status.idle": "2022-08-30T00:51:01.789284Z",
     "shell.execute_reply": "2022-08-30T00:51:01.789710Z"
    },
    "papermill": {
     "duration": 0.089673,
     "end_time": "2022-08-30T00:51:01.789840",
     "exception": false,
     "start_time": "2022-08-30T00:51:01.700167",
     "status": "completed"
    },
    "tags": []
   },
   "outputs": [],
   "source": [
    "model_prob = Model(layers[-2:]) "
   ]
  },
  {
   "cell_type": "code",
   "execution_count": 28,
   "id": "9b96e238",
   "metadata": {
    "execution": {
     "iopub.execute_input": "2022-08-30T00:51:01.882694Z",
     "iopub.status.busy": "2022-08-30T00:51:01.882100Z",
     "iopub.status.idle": "2022-08-30T00:51:01.896660Z",
     "shell.execute_reply": "2022-08-30T00:51:01.896201Z"
    },
    "papermill": {
     "duration": 0.063011,
     "end_time": "2022-08-30T00:51:01.896779",
     "exception": false,
     "start_time": "2022-08-30T00:51:01.833768",
     "status": "completed"
    },
    "tags": []
   },
   "outputs": [],
   "source": [
    "#creating the x and y ranges according to the above generated plot.\n",
    "x_range = np.linspace(-4, 1, 100) \n",
    "y_range = np.linspace(-6, 6, 100) \n",
    "x_grid, y_grid = np.meshgrid(x_range, y_range) # x_grid and y_grig are of size 100 X 100\n",
    "\n",
    "# converting x_grid and y_grid to continuous arrays\n",
    "x_gridflat = np.ravel(x_grid)\n",
    "y_gridflat = np.ravel(y_grid)\n",
    "\n",
    "# The last layer of the current model takes two columns as input. Hence transpose of np.vstack() is required.\n",
    "X = np.vstack((x_gridflat, y_gridflat)).T\n",
    "\n",
    "prob_contour = model_prob(X).reshape(100,100) "
   ]
  },
  {
   "cell_type": "code",
   "execution_count": 29,
   "id": "da72499a",
   "metadata": {
    "execution": {
     "iopub.execute_input": "2022-08-30T00:51:01.996914Z",
     "iopub.status.busy": "2022-08-30T00:51:01.996306Z",
     "iopub.status.idle": "2022-08-30T00:51:02.230480Z",
     "shell.execute_reply": "2022-08-30T00:51:02.229988Z"
    },
    "papermill": {
     "duration": 0.289523,
     "end_time": "2022-08-30T00:51:02.230607",
     "exception": false,
     "start_time": "2022-08-30T00:51:01.941084",
     "status": "completed"
    },
    "tags": []
   },
   "outputs": [
    {
     "data": {
      "image/png": "[encoded data removed]",
      "text/plain": [
       "<Figure size 720x648 with 1 Axes>"
      ]
     },
     "metadata": {
      "needs_background": "light"
     },
     "output_type": "display_data"
    }
   ],
   "source": [
    "plt.figure(figsize=(10,9))\n",
    "plt.scatter(testing_plot[:,0], testing_plot[:,1], alpha = 0.1, c = y_test.ravel())\n",
    "contours = plt.contour(x_grid,y_grid,prob_contour)\n",
    "plt.title('Probability Contours')\n",
    "plt.clabel(contours, inline = True );"
   ]
  },
  {
   "cell_type": "code",
   "execution_count": null,
   "id": "e81b4ac7",
   "metadata": {
    "papermill": {
     "duration": 0.047143,
     "end_time": "2022-08-30T00:51:02.325515",
     "exception": false,
     "start_time": "2022-08-30T00:51:02.278372",
     "status": "completed"
    },
    "tags": []
   },
   "outputs": [],
   "source": []
  }
 ],
 "metadata": {
  "kernelspec": {
   "display_name": "Python 3",
   "language": "python",
   "name": "python3"
  },
  "language_info": {
   "codemirror_mode": {
    "name": "ipython",
    "version": 3
   },
   "file_extension": ".py",
   "mimetype": "text/x-python",
   "name": "python",
   "nbconvert_exporter": "python",
   "pygments_lexer": "ipython3",
   "version": "3.6.15"
  },
  "papermill": {
   "default_parameters": {},
   "duration": 98.700432,
   "end_time": "2022-08-30T00:51:02.792090",
   "environment_variables": {},
   "exception": null,
   "input_path": "2020-08-11-part2.ipynb",
   "output_path": "2020-08-11-part2.ipynb",
   "parameters": {},
   "start_time": "2022-08-30T00:49:24.091658",
   "version": "2.3.3"
  }
 },
 "nbformat": 4,
 "nbformat_minor": 5
}