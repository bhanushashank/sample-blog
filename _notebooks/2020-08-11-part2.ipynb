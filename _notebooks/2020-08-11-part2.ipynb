{
 "cells": [
  {
   "cell_type": "markdown",
   "id": "98380cd3",
   "metadata": {
    "papermill": {
     "duration": 0.026019,
     "end_time": "2022-07-19T20:10:31.438151",
     "exception": false,
     "start_time": "2022-07-19T20:10:31.412132",
     "status": "completed"
    },
    "tags": []
   },
   "source": [
    "# Distinguish Your Own Digits (DYOD)"
   ]
  },
  {
   "cell_type": "markdown",
   "id": "ef31240d",
   "metadata": {
    "papermill": {
     "duration": 0.020806,
     "end_time": "2022-07-19T20:10:31.482508",
     "exception": false,
     "start_time": "2022-07-19T20:10:31.461702",
     "status": "completed"
    },
    "tags": []
   },
   "source": [
    "You are going to write a classifier that distinguishes between the number 3 and number 8."
   ]
  },
  {
   "cell_type": "code",
   "execution_count": 1,
   "id": "b15c8646",
   "metadata": {
    "execution": {
     "iopub.execute_input": "2022-07-19T20:10:31.533201Z",
     "iopub.status.busy": "2022-07-19T20:10:31.532629Z",
     "iopub.status.idle": "2022-07-19T20:10:31.543391Z",
     "shell.execute_reply": "2022-07-19T20:10:31.543790Z"
    },
    "papermill": {
     "duration": 0.040873,
     "end_time": "2022-07-19T20:10:31.543942",
     "exception": false,
     "start_time": "2022-07-19T20:10:31.503069",
     "status": "completed"
    },
    "tags": []
   },
   "outputs": [],
   "source": [
    "%load_ext autoreload\n",
    "%autoreload 2"
   ]
  },
  {
   "cell_type": "code",
   "execution_count": 2,
   "id": "22ef38dc",
   "metadata": {
    "execution": {
     "iopub.execute_input": "2022-07-19T20:10:31.588789Z",
     "iopub.status.busy": "2022-07-19T20:10:31.588203Z",
     "iopub.status.idle": "2022-07-19T20:10:32.088594Z",
     "shell.execute_reply": "2022-07-19T20:10:32.087994Z"
    },
    "papermill": {
     "duration": 0.524284,
     "end_time": "2022-07-19T20:10:32.088741",
     "exception": false,
     "start_time": "2022-07-19T20:10:31.564457",
     "status": "completed"
    },
    "tags": []
   },
   "outputs": [],
   "source": [
    "%matplotlib inline\n",
    "import numpy as np\n",
    "import matplotlib.pyplot as plt\n",
    "import pandas as pd"
   ]
  },
  {
   "cell_type": "markdown",
   "id": "ba036198",
   "metadata": {
    "papermill": {
     "duration": 0.025734,
     "end_time": "2022-07-19T20:10:32.143636",
     "exception": false,
     "start_time": "2022-07-19T20:10:32.117902",
     "status": "completed"
    },
    "tags": []
   },
   "source": [
    "From the command line run `pip install mnist`. This is a library that will help you bring down the mnist dataset. If you run this from a notebook, you need to put  `!pip install mnist` in a cell by itself."
   ]
  },
  {
   "cell_type": "code",
   "execution_count": 3,
   "id": "bb6ad8a1",
   "metadata": {
    "execution": {
     "iopub.execute_input": "2022-07-19T20:10:32.199820Z",
     "iopub.status.busy": "2022-07-19T20:10:32.199202Z",
     "iopub.status.idle": "2022-07-19T20:10:34.019551Z",
     "shell.execute_reply": "2022-07-19T20:10:34.020066Z"
    },
    "papermill": {
     "duration": 1.851372,
     "end_time": "2022-07-19T20:10:34.020228",
     "exception": false,
     "start_time": "2022-07-19T20:10:32.168856",
     "status": "completed"
    },
    "tags": []
   },
   "outputs": [
    {
     "name": "stdout",
     "output_type": "stream",
     "text": [
      "Collecting mnist\r\n"
     ]
    },
    {
     "name": "stdout",
     "output_type": "stream",
     "text": [
      "  Downloading mnist-0.2.2-py2.py3-none-any.whl (3.5 kB)\r\n",
      "Requirement already satisfied: numpy in /opt/hostedtoolcache/Python/3.6.15/x64/lib/python3.6/site-packages (from mnist) (1.19.5)\r\n"
     ]
    },
    {
     "name": "stdout",
     "output_type": "stream",
     "text": [
      "Installing collected packages: mnist\r\n"
     ]
    },
    {
     "name": "stdout",
     "output_type": "stream",
     "text": [
      "Successfully installed mnist-0.2.2\r\n"
     ]
    }
   ],
   "source": [
    "!pip install mnist"
   ]
  },
  {
   "cell_type": "markdown",
   "id": "69df9c9a",
   "metadata": {
    "papermill": {
     "duration": 0.025102,
     "end_time": "2022-07-19T20:10:34.070325",
     "exception": false,
     "start_time": "2022-07-19T20:10:34.045223",
     "status": "completed"
    },
    "tags": []
   },
   "source": [
    "## Preparing the Data"
   ]
  },
  {
   "cell_type": "code",
   "execution_count": 4,
   "id": "7f69d806",
   "metadata": {
    "execution": {
     "iopub.execute_input": "2022-07-19T20:10:34.124817Z",
     "iopub.status.busy": "2022-07-19T20:10:34.123850Z",
     "iopub.status.idle": "2022-07-19T20:10:34.141185Z",
     "shell.execute_reply": "2022-07-19T20:10:34.140684Z"
    },
    "papermill": {
     "duration": 0.046606,
     "end_time": "2022-07-19T20:10:34.141308",
     "exception": false,
     "start_time": "2022-07-19T20:10:34.094702",
     "status": "completed"
    },
    "tags": []
   },
   "outputs": [],
   "source": [
    "import mnist"
   ]
  },
  {
   "cell_type": "code",
   "execution_count": 5,
   "id": "a411e44f",
   "metadata": {
    "execution": {
     "iopub.execute_input": "2022-07-19T20:10:34.195359Z",
     "iopub.status.busy": "2022-07-19T20:10:34.194754Z",
     "iopub.status.idle": "2022-07-19T20:10:34.848105Z",
     "shell.execute_reply": "2022-07-19T20:10:34.848618Z"
    },
    "papermill": {
     "duration": 0.682661,
     "end_time": "2022-07-19T20:10:34.848787",
     "exception": false,
     "start_time": "2022-07-19T20:10:34.166126",
     "status": "completed"
    },
    "tags": []
   },
   "outputs": [],
   "source": [
    "train_images = mnist.train_images()\n",
    "train_labels = mnist.train_labels()"
   ]
  },
  {
   "cell_type": "code",
   "execution_count": 6,
   "id": "dceab3a5",
   "metadata": {
    "execution": {
     "iopub.execute_input": "2022-07-19T20:10:34.897061Z",
     "iopub.status.busy": "2022-07-19T20:10:34.896265Z",
     "iopub.status.idle": "2022-07-19T20:10:34.911872Z",
     "shell.execute_reply": "2022-07-19T20:10:34.911379Z"
    },
    "papermill": {
     "duration": 0.041238,
     "end_time": "2022-07-19T20:10:34.911993",
     "exception": false,
     "start_time": "2022-07-19T20:10:34.870755",
     "status": "completed"
    },
    "tags": []
   },
   "outputs": [
    {
     "data": {
      "text/plain": [
       "((60000, 28, 28), (60000,))"
      ]
     },
     "execution_count": 6,
     "metadata": {},
     "output_type": "execute_result"
    }
   ],
   "source": [
    "train_images.shape, train_labels.shape"
   ]
  },
  {
   "cell_type": "code",
   "execution_count": 7,
   "id": "f50dc2bb",
   "metadata": {
    "execution": {
     "iopub.execute_input": "2022-07-19T20:10:34.966507Z",
     "iopub.status.busy": "2022-07-19T20:10:34.965889Z",
     "iopub.status.idle": "2022-07-19T20:10:35.208213Z",
     "shell.execute_reply": "2022-07-19T20:10:35.206791Z"
    },
    "papermill": {
     "duration": 0.271612,
     "end_time": "2022-07-19T20:10:35.208399",
     "exception": false,
     "start_time": "2022-07-19T20:10:34.936787",
     "status": "completed"
    },
    "tags": []
   },
   "outputs": [],
   "source": [
    "test_images = mnist.test_images()\n",
    "test_labels = mnist.test_labels()"
   ]
  },
  {
   "cell_type": "code",
   "execution_count": 8,
   "id": "fc38cf1b",
   "metadata": {
    "execution": {
     "iopub.execute_input": "2022-07-19T20:10:35.257480Z",
     "iopub.status.busy": "2022-07-19T20:10:35.256924Z",
     "iopub.status.idle": "2022-07-19T20:10:35.271164Z",
     "shell.execute_reply": "2022-07-19T20:10:35.271682Z"
    },
    "papermill": {
     "duration": 0.041008,
     "end_time": "2022-07-19T20:10:35.271816",
     "exception": false,
     "start_time": "2022-07-19T20:10:35.230808",
     "status": "completed"
    },
    "tags": []
   },
   "outputs": [
    {
     "data": {
      "text/plain": [
       "((10000, 28, 28), (10000,))"
      ]
     },
     "execution_count": 8,
     "metadata": {},
     "output_type": "execute_result"
    }
   ],
   "source": [
    "test_images.shape, test_labels.shape"
   ]
  },
  {
   "cell_type": "code",
   "execution_count": 9,
   "id": "f9ed8fe0",
   "metadata": {
    "execution": {
     "iopub.execute_input": "2022-07-19T20:10:35.319799Z",
     "iopub.status.busy": "2022-07-19T20:10:35.319247Z",
     "iopub.status.idle": "2022-07-19T20:10:35.458856Z",
     "shell.execute_reply": "2022-07-19T20:10:35.459318Z"
    },
    "papermill": {
     "duration": 0.165615,
     "end_time": "2022-07-19T20:10:35.459469",
     "exception": false,
     "start_time": "2022-07-19T20:10:35.293854",
     "status": "completed"
    },
    "tags": []
   },
   "outputs": [
    {
     "name": "stdout",
     "output_type": "stream",
     "text": [
      "2\n"
     ]
    },
    {
     "data": {
      "text/plain": [
       "<matplotlib.image.AxesImage at 0x7f487c5f74a8>"
      ]
     },
     "execution_count": 9,
     "metadata": {},
     "output_type": "execute_result"
    },
    {
     "data": {
      "image/png": "[encoded data removed]",
      "text/plain": [
       "<Figure size 432x288 with 1 Axes>"
      ]
     },
     "metadata": {
      "needs_background": "light"
     },
     "output_type": "display_data"
    }
   ],
   "source": [
    "image_index = 7776 # You may select anything up to 60,000\n",
    "print(train_labels[image_index]) \n",
    "plt.imshow(train_images[image_index], cmap='Greys')"
   ]
  },
  {
   "cell_type": "markdown",
   "id": "a8d2388d",
   "metadata": {
    "papermill": {
     "duration": 0.023974,
     "end_time": "2022-07-19T20:10:35.506866",
     "exception": false,
     "start_time": "2022-07-19T20:10:35.482892",
     "status": "completed"
    },
    "tags": []
   },
   "source": [
    "## Filter data to get 3 and 8 out"
   ]
  },
  {
   "cell_type": "code",
   "execution_count": 10,
   "id": "776f7fc7",
   "metadata": {
    "execution": {
     "iopub.execute_input": "2022-07-19T20:10:35.558088Z",
     "iopub.status.busy": "2022-07-19T20:10:35.557509Z",
     "iopub.status.idle": "2022-07-19T20:10:35.578772Z",
     "shell.execute_reply": "2022-07-19T20:10:35.579205Z"
    },
    "papermill": {
     "duration": 0.049423,
     "end_time": "2022-07-19T20:10:35.579348",
     "exception": false,
     "start_time": "2022-07-19T20:10:35.529925",
     "status": "completed"
    },
    "tags": []
   },
   "outputs": [],
   "source": [
    "train_filter = np.where((train_labels == 3 ) | (train_labels == 8))\n",
    "test_filter = np.where((test_labels == 3) | (test_labels == 8))\n",
    "X_train, y_train = train_images[train_filter], train_labels[train_filter]\n",
    "X_test, y_test = test_images[test_filter], test_labels[test_filter]"
   ]
  },
  {
   "cell_type": "markdown",
   "id": "948f0b7e",
   "metadata": {
    "papermill": {
     "duration": 0.023656,
     "end_time": "2022-07-19T20:10:35.626420",
     "exception": false,
     "start_time": "2022-07-19T20:10:35.602764",
     "status": "completed"
    },
    "tags": []
   },
   "source": [
    "We normalize the pizel values in the 0 to 1 range"
   ]
  },
  {
   "cell_type": "code",
   "execution_count": 11,
   "id": "ee4c2166",
   "metadata": {
    "execution": {
     "iopub.execute_input": "2022-07-19T20:10:35.676455Z",
     "iopub.status.busy": "2022-07-19T20:10:35.675883Z",
     "iopub.status.idle": "2022-07-19T20:10:35.723595Z",
     "shell.execute_reply": "2022-07-19T20:10:35.724127Z"
    },
    "papermill": {
     "duration": 0.074967,
     "end_time": "2022-07-19T20:10:35.724348",
     "exception": false,
     "start_time": "2022-07-19T20:10:35.649381",
     "status": "completed"
    },
    "tags": []
   },
   "outputs": [],
   "source": [
    "X_train = X_train/255.\n",
    "X_test = X_test/255."
   ]
  },
  {
   "cell_type": "markdown",
   "id": "ddcf4fab",
   "metadata": {
    "papermill": {
     "duration": 0.024308,
     "end_time": "2022-07-19T20:10:35.772569",
     "exception": false,
     "start_time": "2022-07-19T20:10:35.748261",
     "status": "completed"
    },
    "tags": []
   },
   "source": [
    "And setup the labels as 1 (when the digit is 3) and 0 (when the digit is 8)"
   ]
  },
  {
   "cell_type": "code",
   "execution_count": 12,
   "id": "7dc908f2",
   "metadata": {
    "execution": {
     "iopub.execute_input": "2022-07-19T20:10:35.823983Z",
     "iopub.status.busy": "2022-07-19T20:10:35.823403Z",
     "iopub.status.idle": "2022-07-19T20:10:35.836818Z",
     "shell.execute_reply": "2022-07-19T20:10:35.836374Z"
    },
    "papermill": {
     "duration": 0.041387,
     "end_time": "2022-07-19T20:10:35.836928",
     "exception": false,
     "start_time": "2022-07-19T20:10:35.795541",
     "status": "completed"
    },
    "tags": []
   },
   "outputs": [],
   "source": [
    "y_train = 1*(y_train==3)\n",
    "y_test = 1*(y_test==3)"
   ]
  },
  {
   "cell_type": "code",
   "execution_count": 13,
   "id": "01e4e969",
   "metadata": {
    "execution": {
     "iopub.execute_input": "2022-07-19T20:10:35.887208Z",
     "iopub.status.busy": "2022-07-19T20:10:35.886672Z",
     "iopub.status.idle": "2022-07-19T20:10:35.903643Z",
     "shell.execute_reply": "2022-07-19T20:10:35.904084Z"
    },
    "papermill": {
     "duration": 0.044277,
     "end_time": "2022-07-19T20:10:35.904209",
     "exception": false,
     "start_time": "2022-07-19T20:10:35.859932",
     "status": "completed"
    },
    "tags": []
   },
   "outputs": [
    {
     "data": {
      "text/plain": [
       "((11982, 28, 28), (1984, 28, 28))"
      ]
     },
     "execution_count": 13,
     "metadata": {},
     "output_type": "execute_result"
    }
   ],
   "source": [
    "X_train.shape, X_test.shape"
   ]
  },
  {
   "cell_type": "markdown",
   "id": "5ccf3f85",
   "metadata": {
    "papermill": {
     "duration": 0.023124,
     "end_time": "2022-07-19T20:10:35.950498",
     "exception": false,
     "start_time": "2022-07-19T20:10:35.927374",
     "status": "completed"
    },
    "tags": []
   },
   "source": [
    "We reshape the data to flatten the image pixels into a set of features or co-variates:"
   ]
  },
  {
   "cell_type": "code",
   "execution_count": 14,
   "id": "5286a4a3",
   "metadata": {
    "execution": {
     "iopub.execute_input": "2022-07-19T20:10:36.003666Z",
     "iopub.status.busy": "2022-07-19T20:10:36.003116Z",
     "iopub.status.idle": "2022-07-19T20:10:36.019217Z",
     "shell.execute_reply": "2022-07-19T20:10:36.018688Z"
    },
    "papermill": {
     "duration": 0.045561,
     "end_time": "2022-07-19T20:10:36.019326",
     "exception": false,
     "start_time": "2022-07-19T20:10:35.973765",
     "status": "completed"
    },
    "tags": []
   },
   "outputs": [
    {
     "data": {
      "text/plain": [
       "((11982, 784), (1984, 784))"
      ]
     },
     "execution_count": 14,
     "metadata": {},
     "output_type": "execute_result"
    }
   ],
   "source": [
    "X_train = X_train.reshape(X_train.shape[0], -1)\n",
    "X_test = X_test.reshape(X_test.shape[0], -1)\n",
    "X_train.shape, X_test.shape"
   ]
  },
  {
   "cell_type": "code",
   "execution_count": 15,
   "id": "73c5f88a",
   "metadata": {
    "execution": {
     "iopub.execute_input": "2022-07-19T20:10:36.070671Z",
     "iopub.status.busy": "2022-07-19T20:10:36.070129Z",
     "iopub.status.idle": "2022-07-19T20:10:36.091099Z",
     "shell.execute_reply": "2022-07-19T20:10:36.091539Z"
    },
    "papermill": {
     "duration": 0.049017,
     "end_time": "2022-07-19T20:10:36.091669",
     "exception": false,
     "start_time": "2022-07-19T20:10:36.042652",
     "status": "completed"
    },
    "tags": []
   },
   "outputs": [],
   "source": [
    "#Impoting functions from 'Kudzu'\n",
    "from kudzu.model import Model\n",
    "from kudzu.train import Learner\n",
    "from kudzu.optim import GD\n",
    "from kudzu.data import Data, Sampler,Dataloader\n",
    "\n",
    "from kudzu.callbacks import AccCallback\n",
    "from kudzu.callbacks import ClfCallback\n",
    "\n",
    "from kudzu.loss import MSE\n",
    "\n",
    "from kudzu.layer import Sigmoid,Relu\n",
    "from kudzu.layer import Affine"
   ]
  },
  {
   "cell_type": "markdown",
   "id": "bc01172a",
   "metadata": {
    "papermill": {
     "duration": 0.023641,
     "end_time": "2022-07-19T20:10:36.139064",
     "exception": false,
     "start_time": "2022-07-19T20:10:36.115423",
     "status": "completed"
    },
    "tags": []
   },
   "source": [
    "### Let us create a `Config` class, to store important parameters. \n",
    "This class essentially plays the role of a dictionary."
   ]
  },
  {
   "cell_type": "code",
   "execution_count": 16,
   "id": "978281aa",
   "metadata": {
    "execution": {
     "iopub.execute_input": "2022-07-19T20:10:36.192261Z",
     "iopub.status.busy": "2022-07-19T20:10:36.191706Z",
     "iopub.status.idle": "2022-07-19T20:10:36.205919Z",
     "shell.execute_reply": "2022-07-19T20:10:36.206311Z"
    },
    "papermill": {
     "duration": 0.042338,
     "end_time": "2022-07-19T20:10:36.206447",
     "exception": false,
     "start_time": "2022-07-19T20:10:36.164109",
     "status": "completed"
    },
    "tags": []
   },
   "outputs": [],
   "source": [
    "class Config:\n",
    "    pass\n",
    "config = Config()\n",
    "config.lr = 0.001\n",
    "config.num_epochs = 250\n",
    "config.bs = 50"
   ]
  },
  {
   "cell_type": "markdown",
   "id": "1385fa59",
   "metadata": {
    "papermill": {
     "duration": 0.023371,
     "end_time": "2022-07-19T20:10:36.253374",
     "exception": false,
     "start_time": "2022-07-19T20:10:36.230003",
     "status": "completed"
    },
    "tags": []
   },
   "source": [
    "### Running Models with the Training data\n",
    "Details about the network layers:\n",
    "- A first affine layer has 784 inputs and does 100 affine transforms. These are followed by a Relu\n",
    "- A second affine layer has 100 inputs from the 100 activations of the past layer, and does 100 affine transforms. These are followed by a Relu\n",
    "- A third affine layer has 100 activations and does 2 affine transformations to create an embedding for visualization. There is no non-linearity here.\n",
    "- A final \"logistic regression\" which has an affine transform from 2 inputs to 1 output, which is squeezed through a sigmoid.\n"
   ]
  },
  {
   "cell_type": "code",
   "execution_count": 17,
   "id": "2b9c66db",
   "metadata": {
    "execution": {
     "iopub.execute_input": "2022-07-19T20:10:36.304697Z",
     "iopub.status.busy": "2022-07-19T20:10:36.304106Z",
     "iopub.status.idle": "2022-07-19T20:10:36.318525Z",
     "shell.execute_reply": "2022-07-19T20:10:36.318968Z"
    },
    "papermill": {
     "duration": 0.042364,
     "end_time": "2022-07-19T20:10:36.319099",
     "exception": false,
     "start_time": "2022-07-19T20:10:36.276735",
     "status": "completed"
    },
    "tags": []
   },
   "outputs": [],
   "source": [
    "data = Data(X_train, y_train.reshape(-1,1))\n",
    "sampler = Sampler(data, config.bs, shuffle=True)\n",
    "\n",
    "dl = Dataloader(data, sampler)\n",
    "\n",
    "opt = GD(config.lr)\n",
    "loss = MSE()"
   ]
  },
  {
   "cell_type": "code",
   "execution_count": 18,
   "id": "b275e4c2",
   "metadata": {
    "execution": {
     "iopub.execute_input": "2022-07-19T20:10:36.370987Z",
     "iopub.status.busy": "2022-07-19T20:10:36.370444Z",
     "iopub.status.idle": "2022-07-19T20:10:36.384058Z",
     "shell.execute_reply": "2022-07-19T20:10:36.384522Z"
    },
    "papermill": {
     "duration": 0.041838,
     "end_time": "2022-07-19T20:10:36.384658",
     "exception": false,
     "start_time": "2022-07-19T20:10:36.342820",
     "status": "completed"
    },
    "tags": []
   },
   "outputs": [],
   "source": [
    "training_data_x = X_train\n",
    "testing_data_x = X_test\n",
    "training_data_y = y_train.reshape(-1,1)\n",
    "testing_data_y = y_test.reshape(-1,1)"
   ]
  },
  {
   "cell_type": "code",
   "execution_count": 19,
   "id": "76951160",
   "metadata": {
    "execution": {
     "iopub.execute_input": "2022-07-19T20:10:36.436249Z",
     "iopub.status.busy": "2022-07-19T20:10:36.435699Z",
     "iopub.status.idle": "2022-07-19T20:10:36.455291Z",
     "shell.execute_reply": "2022-07-19T20:10:36.455732Z"
    },
    "papermill": {
     "duration": 0.047801,
     "end_time": "2022-07-19T20:10:36.455866",
     "exception": false,
     "start_time": "2022-07-19T20:10:36.408065",
     "status": "completed"
    },
    "tags": []
   },
   "outputs": [
    {
     "name": "stdout",
     "output_type": "stream",
     "text": [
      "xavier\n",
      "xavier\n",
      "xavier\n",
      "xavier\n",
      "xavier\n"
     ]
    }
   ],
   "source": [
    "layers = [Affine(\"first\", 784, 100), Relu(\"first\"), Affine(\"second\", 100, 100), Relu(\"second\"), Affine(\"third\", 100, 2), Affine(\"last\", 2, 1), Sigmoid(\"last\")]\n",
    "model_nn = Model(layers)\n",
    "model_lr = Model([Affine(\"logits\", 784, 1), Sigmoid(\"sigmoid\")])"
   ]
  },
  {
   "cell_type": "code",
   "execution_count": 20,
   "id": "6eede77a",
   "metadata": {
    "execution": {
     "iopub.execute_input": "2022-07-19T20:10:36.508133Z",
     "iopub.status.busy": "2022-07-19T20:10:36.507588Z",
     "iopub.status.idle": "2022-07-19T20:10:36.521014Z",
     "shell.execute_reply": "2022-07-19T20:10:36.520571Z"
    },
    "papermill": {
     "duration": 0.041137,
     "end_time": "2022-07-19T20:10:36.521129",
     "exception": false,
     "start_time": "2022-07-19T20:10:36.479992",
     "status": "completed"
    },
    "tags": []
   },
   "outputs": [],
   "source": [
    "nn_learner = Learner(loss, model_nn, opt, config.num_epochs)\n",
    "acc_nn = ClfCallback(nn_learner, config.bs, training_data_x , testing_data_x, training_data_y, testing_data_y)\n",
    "nn_learner.set_callbacks([acc_nn])"
   ]
  },
  {
   "cell_type": "code",
   "execution_count": 21,
   "id": "877b6cc7",
   "metadata": {
    "execution": {
     "iopub.execute_input": "2022-07-19T20:10:36.573101Z",
     "iopub.status.busy": "2022-07-19T20:10:36.572547Z",
     "iopub.status.idle": "2022-07-19T20:10:36.586224Z",
     "shell.execute_reply": "2022-07-19T20:10:36.586664Z"
    },
    "papermill": {
     "duration": 0.041979,
     "end_time": "2022-07-19T20:10:36.586799",
     "exception": false,
     "start_time": "2022-07-19T20:10:36.544820",
     "status": "completed"
    },
    "tags": []
   },
   "outputs": [],
   "source": [
    "lr_learner = Learner(loss, model_lr, opt, config.num_epochs)\n",
    "acc_lr = ClfCallback(lr_learner, config.bs, training_data_x , testing_data_x, training_data_y, testing_data_y)\n",
    "lr_learner.set_callbacks([acc_lr])"
   ]
  },
  {
   "cell_type": "code",
   "execution_count": 22,
   "id": "d9b133c3",
   "metadata": {
    "execution": {
     "iopub.execute_input": "2022-07-19T20:10:36.637596Z",
     "iopub.status.busy": "2022-07-19T20:10:36.637070Z",
     "iopub.status.idle": "2022-07-19T20:11:54.230243Z",
     "shell.execute_reply": "2022-07-19T20:11:54.231099Z"
    },
    "papermill": {
     "duration": 77.620759,
     "end_time": "2022-07-19T20:11:54.231251",
     "exception": false,
     "start_time": "2022-07-19T20:10:36.610492",
     "status": "completed"
    },
    "tags": []
   },
   "outputs": [
    {
     "name": "stdout",
     "output_type": "stream",
     "text": [
      "Epoch 0, Loss 0.2462\n",
      "Training Accuracy: 0.6273, Testing Accuracy: 0.6436\n",
      "\n"
     ]
    },
    {
     "name": "stdout",
     "output_type": "stream",
     "text": [
      "Epoch 10, Loss 0.1634\n",
      "Training Accuracy: 0.8971, Testing Accuracy: 0.9012\n",
      "\n"
     ]
    },
    {
     "name": "stdout",
     "output_type": "stream",
     "text": [
      "Epoch 20, Loss 0.0767\n",
      "Training Accuracy: 0.9288, Testing Accuracy: 0.9365\n",
      "\n"
     ]
    },
    {
     "name": "stdout",
     "output_type": "stream",
     "text": [
      "Epoch 30, Loss 0.052\n",
      "Training Accuracy: 0.9449, Testing Accuracy: 0.9567\n",
      "\n"
     ]
    },
    {
     "name": "stdout",
     "output_type": "stream",
     "text": [
      "Epoch 40, Loss 0.0426\n",
      "Training Accuracy: 0.9534, Testing Accuracy: 0.9622\n",
      "\n"
     ]
    },
    {
     "name": "stdout",
     "output_type": "stream",
     "text": [
      "Epoch 50, Loss 0.0377\n",
      "Training Accuracy: 0.9576, Testing Accuracy: 0.9667\n",
      "\n"
     ]
    },
    {
     "name": "stdout",
     "output_type": "stream",
     "text": [
      "Epoch 60, Loss 0.0346\n",
      "Training Accuracy: 0.9595, Testing Accuracy: 0.9672\n",
      "\n"
     ]
    },
    {
     "name": "stdout",
     "output_type": "stream",
     "text": [
      "Epoch 70, Loss 0.0325\n",
      "Training Accuracy: 0.9625, Testing Accuracy: 0.9677\n",
      "\n"
     ]
    },
    {
     "name": "stdout",
     "output_type": "stream",
     "text": [
      "Epoch 80, Loss 0.0308\n",
      "Training Accuracy: 0.9645, Testing Accuracy: 0.9667\n",
      "\n"
     ]
    },
    {
     "name": "stdout",
     "output_type": "stream",
     "text": [
      "Epoch 90, Loss 0.0295\n",
      "Training Accuracy: 0.9659, Testing Accuracy: 0.9693\n",
      "\n"
     ]
    },
    {
     "name": "stdout",
     "output_type": "stream",
     "text": [
      "Epoch 100, Loss 0.0284\n",
      "Training Accuracy: 0.9670, Testing Accuracy: 0.9698\n",
      "\n"
     ]
    },
    {
     "name": "stdout",
     "output_type": "stream",
     "text": [
      "Epoch 110, Loss 0.0274\n",
      "Training Accuracy: 0.9677, Testing Accuracy: 0.9688\n",
      "\n"
     ]
    },
    {
     "name": "stdout",
     "output_type": "stream",
     "text": [
      "Epoch 120, Loss 0.0266\n",
      "Training Accuracy: 0.9690, Testing Accuracy: 0.9693\n",
      "\n"
     ]
    },
    {
     "name": "stdout",
     "output_type": "stream",
     "text": [
      "Epoch 130, Loss 0.0259\n",
      "Training Accuracy: 0.9701, Testing Accuracy: 0.9703\n",
      "\n"
     ]
    },
    {
     "name": "stdout",
     "output_type": "stream",
     "text": [
      "Epoch 140, Loss 0.0252\n",
      "Training Accuracy: 0.9707, Testing Accuracy: 0.9693\n",
      "\n"
     ]
    },
    {
     "name": "stdout",
     "output_type": "stream",
     "text": [
      "Epoch 150, Loss 0.0246\n",
      "Training Accuracy: 0.9717, Testing Accuracy: 0.9693\n",
      "\n"
     ]
    },
    {
     "name": "stdout",
     "output_type": "stream",
     "text": [
      "Epoch 160, Loss 0.0241\n",
      "Training Accuracy: 0.9721, Testing Accuracy: 0.9693\n",
      "\n"
     ]
    },
    {
     "name": "stdout",
     "output_type": "stream",
     "text": [
      "Epoch 170, Loss 0.0236\n",
      "Training Accuracy: 0.9726, Testing Accuracy: 0.9693\n",
      "\n"
     ]
    },
    {
     "name": "stdout",
     "output_type": "stream",
     "text": [
      "Epoch 180, Loss 0.0231\n",
      "Training Accuracy: 0.9730, Testing Accuracy: 0.9713\n",
      "\n"
     ]
    },
    {
     "name": "stdout",
     "output_type": "stream",
     "text": [
      "Epoch 190, Loss 0.0227\n",
      "Training Accuracy: 0.9735, Testing Accuracy: 0.9713\n",
      "\n"
     ]
    },
    {
     "name": "stdout",
     "output_type": "stream",
     "text": [
      "Epoch 200, Loss 0.0223\n",
      "Training Accuracy: 0.9740, Testing Accuracy: 0.9723\n",
      "\n"
     ]
    },
    {
     "name": "stdout",
     "output_type": "stream",
     "text": [
      "Epoch 210, Loss 0.0219\n",
      "Training Accuracy: 0.9745, Testing Accuracy: 0.9723\n",
      "\n"
     ]
    },
    {
     "name": "stdout",
     "output_type": "stream",
     "text": [
      "Epoch 220, Loss 0.0215\n",
      "Training Accuracy: 0.9750, Testing Accuracy: 0.9718\n",
      "\n"
     ]
    },
    {
     "name": "stdout",
     "output_type": "stream",
     "text": [
      "Epoch 230, Loss 0.0211\n",
      "Training Accuracy: 0.9756, Testing Accuracy: 0.9733\n",
      "\n"
     ]
    },
    {
     "name": "stdout",
     "output_type": "stream",
     "text": [
      "Epoch 240, Loss 0.0208\n",
      "Training Accuracy: 0.9760, Testing Accuracy: 0.9733\n",
      "\n"
     ]
    },
    {
     "data": {
      "text/plain": [
       "0.015254485375290363"
      ]
     },
     "execution_count": 22,
     "metadata": {},
     "output_type": "execute_result"
    }
   ],
   "source": [
    "nn_learner.train_loop(dl)"
   ]
  },
  {
   "cell_type": "code",
   "execution_count": 23,
   "id": "e0163366",
   "metadata": {
    "execution": {
     "iopub.execute_input": "2022-07-19T20:11:54.301612Z",
     "iopub.status.busy": "2022-07-19T20:11:54.301048Z",
     "iopub.status.idle": "2022-07-19T20:12:08.049519Z",
     "shell.execute_reply": "2022-07-19T20:12:08.050315Z"
    },
    "papermill": {
     "duration": 13.788622,
     "end_time": "2022-07-19T20:12:08.050471",
     "exception": false,
     "start_time": "2022-07-19T20:11:54.261849",
     "status": "completed"
    },
    "tags": []
   },
   "outputs": [
    {
     "name": "stdout",
     "output_type": "stream",
     "text": [
      "Epoch 0, Loss 0.2259\n",
      "Training Accuracy: 0.7556, Testing Accuracy: 0.7399\n",
      "\n"
     ]
    },
    {
     "name": "stdout",
     "output_type": "stream",
     "text": [
      "Epoch 10, Loss 0.1009\n",
      "Training Accuracy: 0.9098, Testing Accuracy: 0.9178\n",
      "\n"
     ]
    },
    {
     "name": "stdout",
     "output_type": "stream",
     "text": [
      "Epoch 20, Loss 0.0783\n",
      "Training Accuracy: 0.9279, Testing Accuracy: 0.9345\n",
      "\n"
     ]
    },
    {
     "name": "stdout",
     "output_type": "stream",
     "text": [
      "Epoch 30, Loss 0.0678\n",
      "Training Accuracy: 0.9357, Testing Accuracy: 0.9446\n",
      "\n"
     ]
    },
    {
     "name": "stdout",
     "output_type": "stream",
     "text": [
      "Epoch 40, Loss 0.0613\n",
      "Training Accuracy: 0.9402, Testing Accuracy: 0.9506\n",
      "\n"
     ]
    },
    {
     "name": "stdout",
     "output_type": "stream",
     "text": [
      "Epoch 50, Loss 0.0569\n",
      "Training Accuracy: 0.9450, Testing Accuracy: 0.9536\n",
      "\n"
     ]
    },
    {
     "name": "stdout",
     "output_type": "stream",
     "text": [
      "Epoch 60, Loss 0.0536\n",
      "Training Accuracy: 0.9479, Testing Accuracy: 0.9567\n",
      "\n"
     ]
    },
    {
     "name": "stdout",
     "output_type": "stream",
     "text": [
      "Epoch 70, Loss 0.0511\n",
      "Training Accuracy: 0.9501, Testing Accuracy: 0.9572\n",
      "\n"
     ]
    },
    {
     "name": "stdout",
     "output_type": "stream",
     "text": [
      "Epoch 80, Loss 0.0491\n",
      "Training Accuracy: 0.9503, Testing Accuracy: 0.9577\n",
      "\n"
     ]
    },
    {
     "name": "stdout",
     "output_type": "stream",
     "text": [
      "Epoch 90, Loss 0.0474\n",
      "Training Accuracy: 0.9515, Testing Accuracy: 0.9617\n",
      "\n"
     ]
    },
    {
     "name": "stdout",
     "output_type": "stream",
     "text": [
      "Epoch 100, Loss 0.046\n",
      "Training Accuracy: 0.9522, Testing Accuracy: 0.9622\n",
      "\n"
     ]
    },
    {
     "name": "stdout",
     "output_type": "stream",
     "text": [
      "Epoch 110, Loss 0.0448\n",
      "Training Accuracy: 0.9534, Testing Accuracy: 0.9632\n",
      "\n"
     ]
    },
    {
     "name": "stdout",
     "output_type": "stream",
     "text": [
      "Epoch 120, Loss 0.0437\n",
      "Training Accuracy: 0.9539, Testing Accuracy: 0.9632\n",
      "\n"
     ]
    },
    {
     "name": "stdout",
     "output_type": "stream",
     "text": [
      "Epoch 130, Loss 0.0428\n",
      "Training Accuracy: 0.9548, Testing Accuracy: 0.9647\n",
      "\n"
     ]
    },
    {
     "name": "stdout",
     "output_type": "stream",
     "text": [
      "Epoch 140, Loss 0.042\n",
      "Training Accuracy: 0.9557, Testing Accuracy: 0.9647\n",
      "\n"
     ]
    },
    {
     "name": "stdout",
     "output_type": "stream",
     "text": [
      "Epoch 150, Loss 0.0412\n",
      "Training Accuracy: 0.9566, Testing Accuracy: 0.9647\n",
      "\n"
     ]
    },
    {
     "name": "stdout",
     "output_type": "stream",
     "text": [
      "Epoch 160, Loss 0.0406\n",
      "Training Accuracy: 0.9572, Testing Accuracy: 0.9642\n",
      "\n"
     ]
    },
    {
     "name": "stdout",
     "output_type": "stream",
     "text": [
      "Epoch 170, Loss 0.04\n",
      "Training Accuracy: 0.9578, Testing Accuracy: 0.9657\n",
      "\n"
     ]
    },
    {
     "name": "stdout",
     "output_type": "stream",
     "text": [
      "Epoch 180, Loss 0.0394\n",
      "Training Accuracy: 0.9585, Testing Accuracy: 0.9672\n",
      "\n"
     ]
    },
    {
     "name": "stdout",
     "output_type": "stream",
     "text": [
      "Epoch 190, Loss 0.0389\n",
      "Training Accuracy: 0.9593, Testing Accuracy: 0.9672\n",
      "\n"
     ]
    },
    {
     "name": "stdout",
     "output_type": "stream",
     "text": [
      "Epoch 200, Loss 0.0384\n",
      "Training Accuracy: 0.9596, Testing Accuracy: 0.9672\n",
      "\n"
     ]
    },
    {
     "name": "stdout",
     "output_type": "stream",
     "text": [
      "Epoch 210, Loss 0.038\n",
      "Training Accuracy: 0.9599, Testing Accuracy: 0.9672\n",
      "\n"
     ]
    },
    {
     "name": "stdout",
     "output_type": "stream",
     "text": [
      "Epoch 220, Loss 0.0376\n",
      "Training Accuracy: 0.9602, Testing Accuracy: 0.9672\n",
      "\n"
     ]
    },
    {
     "name": "stdout",
     "output_type": "stream",
     "text": [
      "Epoch 230, Loss 0.0372\n",
      "Training Accuracy: 0.9606, Testing Accuracy: 0.9677\n",
      "\n"
     ]
    },
    {
     "name": "stdout",
     "output_type": "stream",
     "text": [
      "Epoch 240, Loss 0.0368\n",
      "Training Accuracy: 0.9611, Testing Accuracy: 0.9688\n",
      "\n"
     ]
    },
    {
     "data": {
      "text/plain": [
       "0.01894599327390894"
      ]
     },
     "execution_count": 23,
     "metadata": {},
     "output_type": "execute_result"
    }
   ],
   "source": [
    "lr_learner.train_loop(dl)"
   ]
  },
  {
   "cell_type": "code",
   "execution_count": 24,
   "id": "ca410940",
   "metadata": {
    "execution": {
     "iopub.execute_input": "2022-07-19T20:12:08.133643Z",
     "iopub.status.busy": "2022-07-19T20:12:08.133056Z",
     "iopub.status.idle": "2022-07-19T20:12:08.351126Z",
     "shell.execute_reply": "2022-07-19T20:12:08.351560Z"
    },
    "papermill": {
     "duration": 0.265129,
     "end_time": "2022-07-19T20:12:08.351721",
     "exception": false,
     "start_time": "2022-07-19T20:12:08.086592",
     "status": "completed"
    },
    "tags": []
   },
   "outputs": [
    {
     "data": {
      "text/plain": [
       "<matplotlib.legend.Legend at 0x7f487c156b70>"
      ]
     },
     "execution_count": 24,
     "metadata": {},
     "output_type": "execute_result"
    },
    {
     "data": {
      "image/png": "[encoded data removed]",
      "text/plain": [
       "<Figure size 1080x720 with 1 Axes>"
      ]
     },
     "metadata": {
      "needs_background": "light"
     },
     "output_type": "display_data"
    }
   ],
   "source": [
    "#comparing the results of NN and LR\n",
    "plt.figure(figsize=(15,10))\n",
    "\n",
    "# Neural Network plots\n",
    "plt.plot(acc_nn.accuracies, 'r-', label = \"Training Accuracies - NN\")\n",
    "plt.plot(acc_nn.test_accuracies, 'g-', label = \"Testing Accuracies - NN\")\n",
    "\n",
    "# Logistic Regression plots\n",
    "plt.plot(acc_lr.accuracies, 'k-', label = \"Training Accuracies - LR\")\n",
    "plt.plot(acc_lr.test_accuracies, 'b-', label = \"Testing Accuracies - LR\")\n",
    "plt.legend()"
   ]
  },
  {
   "cell_type": "markdown",
   "id": "80dfb35c",
   "metadata": {
    "papermill": {
     "duration": 0.036613,
     "end_time": "2022-07-19T20:12:08.425377",
     "exception": false,
     "start_time": "2022-07-19T20:12:08.388764",
     "status": "completed"
    },
    "tags": []
   },
   "source": [
    "#### Plotting the outputs of this layer of the NN.\n"
   ]
  },
  {
   "cell_type": "code",
   "execution_count": 25,
   "id": "45eb2ff5",
   "metadata": {
    "execution": {
     "iopub.execute_input": "2022-07-19T20:12:08.506890Z",
     "iopub.status.busy": "2022-07-19T20:12:08.506309Z",
     "iopub.status.idle": "2022-07-19T20:12:08.529260Z",
     "shell.execute_reply": "2022-07-19T20:12:08.528660Z"
    },
    "papermill": {
     "duration": 0.0672,
     "end_time": "2022-07-19T20:12:08.529385",
     "exception": false,
     "start_time": "2022-07-19T20:12:08.462185",
     "status": "completed"
    },
    "tags": []
   },
   "outputs": [],
   "source": [
    "new_model = Model(layers[:-2])\n",
    "testing_plot = new_model(testing_data_x)"
   ]
  },
  {
   "cell_type": "code",
   "execution_count": 26,
   "id": "4c0a5485",
   "metadata": {
    "execution": {
     "iopub.execute_input": "2022-07-19T20:12:08.608715Z",
     "iopub.status.busy": "2022-07-19T20:12:08.608105Z",
     "iopub.status.idle": "2022-07-19T20:12:08.799799Z",
     "shell.execute_reply": "2022-07-19T20:12:08.799233Z"
    },
    "papermill": {
     "duration": 0.233071,
     "end_time": "2022-07-19T20:12:08.799939",
     "exception": false,
     "start_time": "2022-07-19T20:12:08.566868",
     "status": "completed"
    },
    "tags": []
   },
   "outputs": [
    {
     "data": {
      "text/plain": [
       "Text(0.5, 1.0, 'Outputs')"
      ]
     },
     "execution_count": 26,
     "metadata": {},
     "output_type": "execute_result"
    },
    {
     "data": {
      "image/png": "[encoded data removed]",
      "text/plain": [
       "<Figure size 576x504 with 1 Axes>"
      ]
     },
     "metadata": {
      "needs_background": "light"
     },
     "output_type": "display_data"
    }
   ],
   "source": [
    "# Plotting the scatter plot of points and color coding by class\n",
    "plt.figure(figsize=(8,7))\n",
    "plt.scatter(testing_plot[:,0], testing_plot[:,1], alpha = 0.1, c = y_test.ravel());\n",
    "plt.title('Outputs')"
   ]
  },
  {
   "cell_type": "markdown",
   "id": "a74fcf8f",
   "metadata": {
    "papermill": {
     "duration": 0.038359,
     "end_time": "2022-07-19T20:12:08.878192",
     "exception": false,
     "start_time": "2022-07-19T20:12:08.839833",
     "status": "completed"
    },
    "tags": []
   },
   "source": [
    "Probability contours"
   ]
  },
  {
   "cell_type": "code",
   "execution_count": 27,
   "id": "d0afc8e3",
   "metadata": {
    "execution": {
     "iopub.execute_input": "2022-07-19T20:12:08.995142Z",
     "iopub.status.busy": "2022-07-19T20:12:08.994489Z",
     "iopub.status.idle": "2022-07-19T20:12:09.007751Z",
     "shell.execute_reply": "2022-07-19T20:12:09.007226Z"
    },
    "papermill": {
     "duration": 0.09106,
     "end_time": "2022-07-19T20:12:09.007873",
     "exception": false,
     "start_time": "2022-07-19T20:12:08.916813",
     "status": "completed"
    },
    "tags": []
   },
   "outputs": [],
   "source": [
    "model_prob = Model(layers[-2:]) "
   ]
  },
  {
   "cell_type": "code",
   "execution_count": 28,
   "id": "9b96e238",
   "metadata": {
    "execution": {
     "iopub.execute_input": "2022-07-19T20:12:09.101408Z",
     "iopub.status.busy": "2022-07-19T20:12:09.100817Z",
     "iopub.status.idle": "2022-07-19T20:12:09.116552Z",
     "shell.execute_reply": "2022-07-19T20:12:09.116044Z"
    },
    "papermill": {
     "duration": 0.064924,
     "end_time": "2022-07-19T20:12:09.116681",
     "exception": false,
     "start_time": "2022-07-19T20:12:09.051757",
     "status": "completed"
    },
    "tags": []
   },
   "outputs": [],
   "source": [
    "#creating the x and y ranges according to the above generated plot.\n",
    "x_range = np.linspace(-4, 1, 100) \n",
    "y_range = np.linspace(-6, 6, 100) \n",
    "x_grid, y_grid = np.meshgrid(x_range, y_range) # x_grid and y_grig are of size 100 X 100\n",
    "\n",
    "# converting x_grid and y_grid to continuous arrays\n",
    "x_gridflat = np.ravel(x_grid)\n",
    "y_gridflat = np.ravel(y_grid)\n",
    "\n",
    "# The last layer of the current model takes two columns as input. Hence transpose of np.vstack() is required.\n",
    "X = np.vstack((x_gridflat, y_gridflat)).T\n",
    "\n",
    "prob_contour = model_prob(X).reshape(100,100) "
   ]
  },
  {
   "cell_type": "code",
   "execution_count": 29,
   "id": "da72499a",
   "metadata": {
    "execution": {
     "iopub.execute_input": "2022-07-19T20:12:09.209624Z",
     "iopub.status.busy": "2022-07-19T20:12:09.209069Z",
     "iopub.status.idle": "2022-07-19T20:12:09.435365Z",
     "shell.execute_reply": "2022-07-19T20:12:09.435840Z"
    },
    "papermill": {
     "duration": 0.278766,
     "end_time": "2022-07-19T20:12:09.435993",
     "exception": false,
     "start_time": "2022-07-19T20:12:09.157227",
     "status": "completed"
    },
    "tags": []
   },
   "outputs": [
    {
     "data": {
      "image/png": "[encoded data removed]",
      "text/plain": [
       "<Figure size 720x648 with 1 Axes>"
      ]
     },
     "metadata": {
      "needs_background": "light"
     },
     "output_type": "display_data"
    }
   ],
   "source": [
    "plt.figure(figsize=(10,9))\n",
    "plt.scatter(testing_plot[:,0], testing_plot[:,1], alpha = 0.1, c = y_test.ravel())\n",
    "contours = plt.contour(x_grid,y_grid,prob_contour)\n",
    "plt.title('Probability Contours')\n",
    "plt.clabel(contours, inline = True );"
   ]
  },
  {
   "cell_type": "code",
   "execution_count": null,
   "id": "e81b4ac7",
   "metadata": {
    "papermill": {
     "duration": 0.04597,
     "end_time": "2022-07-19T20:12:09.528445",
     "exception": false,
     "start_time": "2022-07-19T20:12:09.482475",
     "status": "completed"
    },
    "tags": []
   },
   "outputs": [],
   "source": []
  }
 ],
 "metadata": {
  "kernelspec": {
   "display_name": "Python 3",
   "language": "python",
   "name": "python3"
  },
  "language_info": {
   "codemirror_mode": {
    "name": "ipython",
    "version": 3
   },
   "file_extension": ".py",
   "mimetype": "text/x-python",
   "name": "python",
   "nbconvert_exporter": "python",
   "pygments_lexer": "ipython3",
   "version": "3.6.15"
  },
  "papermill": {
   "default_parameters": {},
   "duration": 99.524817,
   "end_time": "2022-07-19T20:12:09.994720",
   "environment_variables": {},
   "exception": null,
   "input_path": "2020-08-11-part2.ipynb",
   "output_path": "2020-08-11-part2.ipynb",
   "parameters": {},
   "start_time": "2022-07-19T20:10:30.469903",
   "version": "2.3.3"
  }
 },
 "nbformat": 4,
 "nbformat_minor": 5
}