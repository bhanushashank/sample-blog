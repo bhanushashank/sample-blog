{
 "cells": [
  {
   "cell_type": "markdown",
   "id": "98380cd3",
   "metadata": {
    "papermill": {
     "duration": 0.035764,
     "end_time": "2022-10-10T00:56:23.085690",
     "exception": false,
     "start_time": "2022-10-10T00:56:23.049926",
     "status": "completed"
    },
    "tags": []
   },
   "source": [
    "# Distinguish Your Own Digits (DYOD)"
   ]
  },
  {
   "cell_type": "markdown",
   "id": "ef31240d",
   "metadata": {
    "papermill": {
     "duration": 0.031233,
     "end_time": "2022-10-10T00:56:23.151790",
     "exception": false,
     "start_time": "2022-10-10T00:56:23.120557",
     "status": "completed"
    },
    "tags": []
   },
   "source": [
    "You are going to write a classifier that distinguishes between the number 3 and number 8."
   ]
  },
  {
   "cell_type": "code",
   "execution_count": 1,
   "id": "b15c8646",
   "metadata": {
    "execution": {
     "iopub.execute_input": "2022-10-10T00:56:23.228456Z",
     "iopub.status.busy": "2022-10-10T00:56:23.227671Z",
     "iopub.status.idle": "2022-10-10T00:56:23.240650Z",
     "shell.execute_reply": "2022-10-10T00:56:23.239968Z"
    },
    "papermill": {
     "duration": 0.057095,
     "end_time": "2022-10-10T00:56:23.240841",
     "exception": false,
     "start_time": "2022-10-10T00:56:23.183746",
     "status": "completed"
    },
    "tags": []
   },
   "outputs": [],
   "source": [
    "%load_ext autoreload\n",
    "%autoreload 2"
   ]
  },
  {
   "cell_type": "code",
   "execution_count": 2,
   "id": "22ef38dc",
   "metadata": {
    "execution": {
     "iopub.execute_input": "2022-10-10T00:56:23.306253Z",
     "iopub.status.busy": "2022-10-10T00:56:23.305540Z",
     "iopub.status.idle": "2022-10-10T00:56:23.980201Z",
     "shell.execute_reply": "2022-10-10T00:56:23.979144Z"
    },
    "papermill": {
     "duration": 0.70926,
     "end_time": "2022-10-10T00:56:23.980355",
     "exception": false,
     "start_time": "2022-10-10T00:56:23.271095",
     "status": "completed"
    },
    "tags": []
   },
   "outputs": [],
   "source": [
    "%matplotlib inline\n",
    "import numpy as np\n",
    "import matplotlib.pyplot as plt\n",
    "import pandas as pd"
   ]
  },
  {
   "cell_type": "markdown",
   "id": "ba036198",
   "metadata": {
    "papermill": {
     "duration": 0.031139,
     "end_time": "2022-10-10T00:56:24.042451",
     "exception": false,
     "start_time": "2022-10-10T00:56:24.011312",
     "status": "completed"
    },
    "tags": []
   },
   "source": [
    "From the command line run `pip install mnist`. This is a library that will help you bring down the mnist dataset. If you run this from a notebook, you need to put  `!pip install mnist` in a cell by itself."
   ]
  },
  {
   "cell_type": "code",
   "execution_count": 3,
   "id": "bb6ad8a1",
   "metadata": {
    "execution": {
     "iopub.execute_input": "2022-10-10T00:56:24.116784Z",
     "iopub.status.busy": "2022-10-10T00:56:24.115997Z",
     "iopub.status.idle": "2022-10-10T00:56:26.120074Z",
     "shell.execute_reply": "2022-10-10T00:56:26.119030Z"
    },
    "papermill": {
     "duration": 2.043378,
     "end_time": "2022-10-10T00:56:26.120222",
     "exception": false,
     "start_time": "2022-10-10T00:56:24.076844",
     "status": "completed"
    },
    "tags": []
   },
   "outputs": [
    {
     "name": "stdout",
     "output_type": "stream",
     "text": [
      "Collecting mnist\r\n",
      "  Downloading mnist-0.2.2-py2.py3-none-any.whl (3.5 kB)\r\n",
      "Requirement already satisfied: numpy in /opt/hostedtoolcache/Python/3.6.15/x64/lib/python3.6/site-packages (from mnist) (1.19.5)\r\n"
     ]
    },
    {
     "name": "stdout",
     "output_type": "stream",
     "text": [
      "Installing collected packages: mnist\r\n"
     ]
    },
    {
     "name": "stdout",
     "output_type": "stream",
     "text": [
      "Successfully installed mnist-0.2.2\r\n"
     ]
    }
   ],
   "source": [
    "!pip install mnist"
   ]
  },
  {
   "cell_type": "markdown",
   "id": "69df9c9a",
   "metadata": {
    "papermill": {
     "duration": 0.033355,
     "end_time": "2022-10-10T00:56:26.186649",
     "exception": false,
     "start_time": "2022-10-10T00:56:26.153294",
     "status": "completed"
    },
    "tags": []
   },
   "source": [
    "## Preparing the Data"
   ]
  },
  {
   "cell_type": "code",
   "execution_count": 4,
   "id": "7f69d806",
   "metadata": {
    "execution": {
     "iopub.execute_input": "2022-10-10T00:56:26.258374Z",
     "iopub.status.busy": "2022-10-10T00:56:26.255870Z",
     "iopub.status.idle": "2022-10-10T00:56:26.274253Z",
     "shell.execute_reply": "2022-10-10T00:56:26.273601Z"
    },
    "papermill": {
     "duration": 0.055265,
     "end_time": "2022-10-10T00:56:26.274406",
     "exception": false,
     "start_time": "2022-10-10T00:56:26.219141",
     "status": "completed"
    },
    "tags": []
   },
   "outputs": [],
   "source": [
    "import mnist"
   ]
  },
  {
   "cell_type": "code",
   "execution_count": 5,
   "id": "a411e44f",
   "metadata": {
    "execution": {
     "iopub.execute_input": "2022-10-10T00:56:26.350315Z",
     "iopub.status.busy": "2022-10-10T00:56:26.348469Z",
     "iopub.status.idle": "2022-10-10T00:56:26.913665Z",
     "shell.execute_reply": "2022-10-10T00:56:26.912941Z"
    },
    "papermill": {
     "duration": 0.606407,
     "end_time": "2022-10-10T00:56:26.913859",
     "exception": false,
     "start_time": "2022-10-10T00:56:26.307452",
     "status": "completed"
    },
    "tags": []
   },
   "outputs": [],
   "source": [
    "train_images = mnist.train_images()\n",
    "train_labels = mnist.train_labels()"
   ]
  },
  {
   "cell_type": "code",
   "execution_count": 6,
   "id": "dceab3a5",
   "metadata": {
    "execution": {
     "iopub.execute_input": "2022-10-10T00:56:26.985849Z",
     "iopub.status.busy": "2022-10-10T00:56:26.985008Z",
     "iopub.status.idle": "2022-10-10T00:56:27.021175Z",
     "shell.execute_reply": "2022-10-10T00:56:27.021852Z"
    },
    "papermill": {
     "duration": 0.075748,
     "end_time": "2022-10-10T00:56:27.022047",
     "exception": false,
     "start_time": "2022-10-10T00:56:26.946299",
     "status": "completed"
    },
    "tags": []
   },
   "outputs": [
    {
     "data": {
      "text/plain": [
       "((60000, 28, 28), (60000,))"
      ]
     },
     "execution_count": 6,
     "metadata": {},
     "output_type": "execute_result"
    }
   ],
   "source": [
    "train_images.shape, train_labels.shape"
   ]
  },
  {
   "cell_type": "code",
   "execution_count": 7,
   "id": "f50dc2bb",
   "metadata": {
    "execution": {
     "iopub.execute_input": "2022-10-10T00:56:27.102305Z",
     "iopub.status.busy": "2022-10-10T00:56:27.100372Z",
     "iopub.status.idle": "2022-10-10T00:56:27.232457Z",
     "shell.execute_reply": "2022-10-10T00:56:27.231849Z"
    },
    "papermill": {
     "duration": 0.169775,
     "end_time": "2022-10-10T00:56:27.232606",
     "exception": false,
     "start_time": "2022-10-10T00:56:27.062831",
     "status": "completed"
    },
    "tags": []
   },
   "outputs": [],
   "source": [
    "test_images = mnist.test_images()\n",
    "test_labels = mnist.test_labels()"
   ]
  },
  {
   "cell_type": "code",
   "execution_count": 8,
   "id": "fc38cf1b",
   "metadata": {
    "execution": {
     "iopub.execute_input": "2022-10-10T00:56:27.307513Z",
     "iopub.status.busy": "2022-10-10T00:56:27.302384Z",
     "iopub.status.idle": "2022-10-10T00:56:27.320329Z",
     "shell.execute_reply": "2022-10-10T00:56:27.321095Z"
    },
    "papermill": {
     "duration": 0.0564,
     "end_time": "2022-10-10T00:56:27.321282",
     "exception": false,
     "start_time": "2022-10-10T00:56:27.264882",
     "status": "completed"
    },
    "tags": []
   },
   "outputs": [
    {
     "data": {
      "text/plain": [
       "((10000, 28, 28), (10000,))"
      ]
     },
     "execution_count": 8,
     "metadata": {},
     "output_type": "execute_result"
    }
   ],
   "source": [
    "test_images.shape, test_labels.shape"
   ]
  },
  {
   "cell_type": "code",
   "execution_count": 9,
   "id": "f9ed8fe0",
   "metadata": {
    "execution": {
     "iopub.execute_input": "2022-10-10T00:56:27.394230Z",
     "iopub.status.busy": "2022-10-10T00:56:27.389842Z",
     "iopub.status.idle": "2022-10-10T00:56:27.583814Z",
     "shell.execute_reply": "2022-10-10T00:56:27.585119Z"
    },
    "papermill": {
     "duration": 0.232106,
     "end_time": "2022-10-10T00:56:27.585390",
     "exception": false,
     "start_time": "2022-10-10T00:56:27.353284",
     "status": "completed"
    },
    "tags": []
   },
   "outputs": [
    {
     "name": "stdout",
     "output_type": "stream",
     "text": [
      "2\n"
     ]
    },
    {
     "data": {
      "text/plain": [
       "<matplotlib.image.AxesImage at 0x7f7d9c9a7cf8>"
      ]
     },
     "execution_count": 9,
     "metadata": {},
     "output_type": "execute_result"
    },
    {
     "data": {
      "image/png": "[encoded data removed]",
      "text/plain": [
       "<Figure size 432x288 with 1 Axes>"
      ]
     },
     "metadata": {
      "needs_background": "light"
     },
     "output_type": "display_data"
    }
   ],
   "source": [
    "image_index = 7776 # You may select anything up to 60,000\n",
    "print(train_labels[image_index]) \n",
    "plt.imshow(train_images[image_index], cmap='Greys')"
   ]
  },
  {
   "cell_type": "markdown",
   "id": "a8d2388d",
   "metadata": {
    "papermill": {
     "duration": 0.032797,
     "end_time": "2022-10-10T00:56:27.650909",
     "exception": false,
     "start_time": "2022-10-10T00:56:27.618112",
     "status": "completed"
    },
    "tags": []
   },
   "source": [
    "## Filter data to get 3 and 8 out"
   ]
  },
  {
   "cell_type": "code",
   "execution_count": 10,
   "id": "776f7fc7",
   "metadata": {
    "execution": {
     "iopub.execute_input": "2022-10-10T00:56:27.722575Z",
     "iopub.status.busy": "2022-10-10T00:56:27.721890Z",
     "iopub.status.idle": "2022-10-10T00:56:27.743705Z",
     "shell.execute_reply": "2022-10-10T00:56:27.743067Z"
    },
    "papermill": {
     "duration": 0.060385,
     "end_time": "2022-10-10T00:56:27.743853",
     "exception": false,
     "start_time": "2022-10-10T00:56:27.683468",
     "status": "completed"
    },
    "tags": []
   },
   "outputs": [],
   "source": [
    "train_filter = np.where((train_labels == 3 ) | (train_labels == 8))\n",
    "test_filter = np.where((test_labels == 3) | (test_labels == 8))\n",
    "X_train, y_train = train_images[train_filter], train_labels[train_filter]\n",
    "X_test, y_test = test_images[test_filter], test_labels[test_filter]"
   ]
  },
  {
   "cell_type": "markdown",
   "id": "948f0b7e",
   "metadata": {
    "papermill": {
     "duration": 0.041177,
     "end_time": "2022-10-10T00:56:27.824720",
     "exception": false,
     "start_time": "2022-10-10T00:56:27.783543",
     "status": "completed"
    },
    "tags": []
   },
   "source": [
    "We normalize the pizel values in the 0 to 1 range"
   ]
  },
  {
   "cell_type": "code",
   "execution_count": 11,
   "id": "ee4c2166",
   "metadata": {
    "execution": {
     "iopub.execute_input": "2022-10-10T00:56:27.906086Z",
     "iopub.status.busy": "2022-10-10T00:56:27.900065Z",
     "iopub.status.idle": "2022-10-10T00:56:27.965573Z",
     "shell.execute_reply": "2022-10-10T00:56:27.964888Z"
    },
    "papermill": {
     "duration": 0.10866,
     "end_time": "2022-10-10T00:56:27.965726",
     "exception": false,
     "start_time": "2022-10-10T00:56:27.857066",
     "status": "completed"
    },
    "tags": []
   },
   "outputs": [],
   "source": [
    "X_train = X_train/255.\n",
    "X_test = X_test/255."
   ]
  },
  {
   "cell_type": "markdown",
   "id": "ddcf4fab",
   "metadata": {
    "papermill": {
     "duration": 0.035779,
     "end_time": "2022-10-10T00:56:28.036724",
     "exception": false,
     "start_time": "2022-10-10T00:56:28.000945",
     "status": "completed"
    },
    "tags": []
   },
   "source": [
    "And setup the labels as 1 (when the digit is 3) and 0 (when the digit is 8)"
   ]
  },
  {
   "cell_type": "code",
   "execution_count": 12,
   "id": "7dc908f2",
   "metadata": {
    "execution": {
     "iopub.execute_input": "2022-10-10T00:56:28.119593Z",
     "iopub.status.busy": "2022-10-10T00:56:28.118845Z",
     "iopub.status.idle": "2022-10-10T00:56:28.132755Z",
     "shell.execute_reply": "2022-10-10T00:56:28.132117Z"
    },
    "papermill": {
     "duration": 0.057006,
     "end_time": "2022-10-10T00:56:28.132906",
     "exception": false,
     "start_time": "2022-10-10T00:56:28.075900",
     "status": "completed"
    },
    "tags": []
   },
   "outputs": [],
   "source": [
    "y_train = 1*(y_train==3)\n",
    "y_test = 1*(y_test==3)"
   ]
  },
  {
   "cell_type": "code",
   "execution_count": 13,
   "id": "01e4e969",
   "metadata": {
    "execution": {
     "iopub.execute_input": "2022-10-10T00:56:28.217050Z",
     "iopub.status.busy": "2022-10-10T00:56:28.216284Z",
     "iopub.status.idle": "2022-10-10T00:56:28.232349Z",
     "shell.execute_reply": "2022-10-10T00:56:28.233328Z"
    },
    "papermill": {
     "duration": 0.065015,
     "end_time": "2022-10-10T00:56:28.233860",
     "exception": false,
     "start_time": "2022-10-10T00:56:28.168845",
     "status": "completed"
    },
    "tags": []
   },
   "outputs": [
    {
     "data": {
      "text/plain": [
       "((11982, 28, 28), (1984, 28, 28))"
      ]
     },
     "execution_count": 13,
     "metadata": {},
     "output_type": "execute_result"
    }
   ],
   "source": [
    "X_train.shape, X_test.shape"
   ]
  },
  {
   "cell_type": "markdown",
   "id": "5ccf3f85",
   "metadata": {
    "papermill": {
     "duration": 0.034929,
     "end_time": "2022-10-10T00:56:28.302912",
     "exception": false,
     "start_time": "2022-10-10T00:56:28.267983",
     "status": "completed"
    },
    "tags": []
   },
   "source": [
    "We reshape the data to flatten the image pixels into a set of features or co-variates:"
   ]
  },
  {
   "cell_type": "code",
   "execution_count": 14,
   "id": "5286a4a3",
   "metadata": {
    "execution": {
     "iopub.execute_input": "2022-10-10T00:56:28.391473Z",
     "iopub.status.busy": "2022-10-10T00:56:28.383216Z",
     "iopub.status.idle": "2022-10-10T00:56:28.399957Z",
     "shell.execute_reply": "2022-10-10T00:56:28.399277Z"
    },
    "papermill": {
     "duration": 0.062208,
     "end_time": "2022-10-10T00:56:28.400082",
     "exception": false,
     "start_time": "2022-10-10T00:56:28.337874",
     "status": "completed"
    },
    "tags": []
   },
   "outputs": [
    {
     "data": {
      "text/plain": [
       "((11982, 784), (1984, 784))"
      ]
     },
     "execution_count": 14,
     "metadata": {},
     "output_type": "execute_result"
    }
   ],
   "source": [
    "X_train = X_train.reshape(X_train.shape[0], -1)\n",
    "X_test = X_test.reshape(X_test.shape[0], -1)\n",
    "X_train.shape, X_test.shape"
   ]
  },
  {
   "cell_type": "code",
   "execution_count": 15,
   "id": "73c5f88a",
   "metadata": {
    "execution": {
     "iopub.execute_input": "2022-10-10T00:56:28.476510Z",
     "iopub.status.busy": "2022-10-10T00:56:28.475717Z",
     "iopub.status.idle": "2022-10-10T00:56:28.502516Z",
     "shell.execute_reply": "2022-10-10T00:56:28.501802Z"
    },
    "papermill": {
     "duration": 0.068927,
     "end_time": "2022-10-10T00:56:28.502662",
     "exception": false,
     "start_time": "2022-10-10T00:56:28.433735",
     "status": "completed"
    },
    "tags": []
   },
   "outputs": [],
   "source": [
    "#Impoting functions from 'Kudzu'\n",
    "from kudzu.model import Model\n",
    "from kudzu.train import Learner\n",
    "from kudzu.optim import GD\n",
    "from kudzu.data import Data, Sampler,Dataloader\n",
    "\n",
    "from kudzu.callbacks import AccCallback\n",
    "from kudzu.callbacks import ClfCallback\n",
    "\n",
    "from kudzu.loss import MSE\n",
    "\n",
    "from kudzu.layer import Sigmoid,Relu\n",
    "from kudzu.layer import Affine"
   ]
  },
  {
   "cell_type": "markdown",
   "id": "bc01172a",
   "metadata": {
    "papermill": {
     "duration": 0.034421,
     "end_time": "2022-10-10T00:56:28.572485",
     "exception": false,
     "start_time": "2022-10-10T00:56:28.538064",
     "status": "completed"
    },
    "tags": []
   },
   "source": [
    "### Let us create a `Config` class, to store important parameters. \n",
    "This class essentially plays the role of a dictionary."
   ]
  },
  {
   "cell_type": "code",
   "execution_count": 16,
   "id": "978281aa",
   "metadata": {
    "execution": {
     "iopub.execute_input": "2022-10-10T00:56:28.651399Z",
     "iopub.status.busy": "2022-10-10T00:56:28.650693Z",
     "iopub.status.idle": "2022-10-10T00:56:28.663148Z",
     "shell.execute_reply": "2022-10-10T00:56:28.662602Z"
    },
    "papermill": {
     "duration": 0.054369,
     "end_time": "2022-10-10T00:56:28.663268",
     "exception": false,
     "start_time": "2022-10-10T00:56:28.608899",
     "status": "completed"
    },
    "tags": []
   },
   "outputs": [],
   "source": [
    "class Config:\n",
    "    pass\n",
    "config = Config()\n",
    "config.lr = 0.001\n",
    "config.num_epochs = 250\n",
    "config.bs = 50"
   ]
  },
  {
   "cell_type": "markdown",
   "id": "1385fa59",
   "metadata": {
    "papermill": {
     "duration": 0.033611,
     "end_time": "2022-10-10T00:56:28.730492",
     "exception": false,
     "start_time": "2022-10-10T00:56:28.696881",
     "status": "completed"
    },
    "tags": []
   },
   "source": [
    "### Running Models with the Training data\n",
    "Details about the network layers:\n",
    "- A first affine layer has 784 inputs and does 100 affine transforms. These are followed by a Relu\n",
    "- A second affine layer has 100 inputs from the 100 activations of the past layer, and does 100 affine transforms. These are followed by a Relu\n",
    "- A third affine layer has 100 activations and does 2 affine transformations to create an embedding for visualization. There is no non-linearity here.\n",
    "- A final \"logistic regression\" which has an affine transform from 2 inputs to 1 output, which is squeezed through a sigmoid.\n"
   ]
  },
  {
   "cell_type": "code",
   "execution_count": 17,
   "id": "2b9c66db",
   "metadata": {
    "execution": {
     "iopub.execute_input": "2022-10-10T00:56:28.807826Z",
     "iopub.status.busy": "2022-10-10T00:56:28.807015Z",
     "iopub.status.idle": "2022-10-10T00:56:28.819620Z",
     "shell.execute_reply": "2022-10-10T00:56:28.819051Z"
    },
    "papermill": {
     "duration": 0.055472,
     "end_time": "2022-10-10T00:56:28.819750",
     "exception": false,
     "start_time": "2022-10-10T00:56:28.764278",
     "status": "completed"
    },
    "tags": []
   },
   "outputs": [],
   "source": [
    "data = Data(X_train, y_train.reshape(-1,1))\n",
    "sampler = Sampler(data, config.bs, shuffle=True)\n",
    "\n",
    "dl = Dataloader(data, sampler)\n",
    "\n",
    "opt = GD(config.lr)\n",
    "loss = MSE()"
   ]
  },
  {
   "cell_type": "code",
   "execution_count": 18,
   "id": "b275e4c2",
   "metadata": {
    "execution": {
     "iopub.execute_input": "2022-10-10T00:56:28.890674Z",
     "iopub.status.busy": "2022-10-10T00:56:28.889906Z",
     "iopub.status.idle": "2022-10-10T00:56:28.904868Z",
     "shell.execute_reply": "2022-10-10T00:56:28.904202Z"
    },
    "papermill": {
     "duration": 0.052656,
     "end_time": "2022-10-10T00:56:28.904998",
     "exception": false,
     "start_time": "2022-10-10T00:56:28.852342",
     "status": "completed"
    },
    "tags": []
   },
   "outputs": [],
   "source": [
    "training_data_x = X_train\n",
    "testing_data_x = X_test\n",
    "training_data_y = y_train.reshape(-1,1)\n",
    "testing_data_y = y_test.reshape(-1,1)"
   ]
  },
  {
   "cell_type": "code",
   "execution_count": 19,
   "id": "76951160",
   "metadata": {
    "execution": {
     "iopub.execute_input": "2022-10-10T00:56:28.978508Z",
     "iopub.status.busy": "2022-10-10T00:56:28.977763Z",
     "iopub.status.idle": "2022-10-10T00:56:28.998747Z",
     "shell.execute_reply": "2022-10-10T00:56:28.998193Z"
    },
    "papermill": {
     "duration": 0.060031,
     "end_time": "2022-10-10T00:56:28.998897",
     "exception": false,
     "start_time": "2022-10-10T00:56:28.938866",
     "status": "completed"
    },
    "tags": []
   },
   "outputs": [
    {
     "name": "stdout",
     "output_type": "stream",
     "text": [
      "xavier\n",
      "xavier\n",
      "xavier\n",
      "xavier\n",
      "xavier\n"
     ]
    }
   ],
   "source": [
    "layers = [Affine(\"first\", 784, 100), Relu(\"first\"), Affine(\"second\", 100, 100), Relu(\"second\"), Affine(\"third\", 100, 2), Affine(\"last\", 2, 1), Sigmoid(\"last\")]\n",
    "model_nn = Model(layers)\n",
    "model_lr = Model([Affine(\"logits\", 784, 1), Sigmoid(\"sigmoid\")])"
   ]
  },
  {
   "cell_type": "code",
   "execution_count": 20,
   "id": "6eede77a",
   "metadata": {
    "execution": {
     "iopub.execute_input": "2022-10-10T00:56:29.083482Z",
     "iopub.status.busy": "2022-10-10T00:56:29.082700Z",
     "iopub.status.idle": "2022-10-10T00:56:29.097755Z",
     "shell.execute_reply": "2022-10-10T00:56:29.097071Z"
    },
    "papermill": {
     "duration": 0.061995,
     "end_time": "2022-10-10T00:56:29.097917",
     "exception": false,
     "start_time": "2022-10-10T00:56:29.035922",
     "status": "completed"
    },
    "tags": []
   },
   "outputs": [],
   "source": [
    "nn_learner = Learner(loss, model_nn, opt, config.num_epochs)\n",
    "acc_nn = ClfCallback(nn_learner, config.bs, training_data_x , testing_data_x, training_data_y, testing_data_y)\n",
    "nn_learner.set_callbacks([acc_nn])"
   ]
  },
  {
   "cell_type": "code",
   "execution_count": 21,
   "id": "877b6cc7",
   "metadata": {
    "execution": {
     "iopub.execute_input": "2022-10-10T00:56:29.178633Z",
     "iopub.status.busy": "2022-10-10T00:56:29.177612Z",
     "iopub.status.idle": "2022-10-10T00:56:29.194748Z",
     "shell.execute_reply": "2022-10-10T00:56:29.195358Z"
    },
    "papermill": {
     "duration": 0.062179,
     "end_time": "2022-10-10T00:56:29.195520",
     "exception": false,
     "start_time": "2022-10-10T00:56:29.133341",
     "status": "completed"
    },
    "tags": []
   },
   "outputs": [],
   "source": [
    "lr_learner = Learner(loss, model_lr, opt, config.num_epochs)\n",
    "acc_lr = ClfCallback(lr_learner, config.bs, training_data_x , testing_data_x, training_data_y, testing_data_y)\n",
    "lr_learner.set_callbacks([acc_lr])"
   ]
  },
  {
   "cell_type": "code",
   "execution_count": 22,
   "id": "d9b133c3",
   "metadata": {
    "execution": {
     "iopub.execute_input": "2022-10-10T00:56:29.272218Z",
     "iopub.status.busy": "2022-10-10T00:56:29.271433Z",
     "iopub.status.idle": "2022-10-10T00:58:42.505290Z",
     "shell.execute_reply": "2022-10-10T00:58:42.506068Z"
    },
    "papermill": {
     "duration": 133.275891,
     "end_time": "2022-10-10T00:58:42.506227",
     "exception": false,
     "start_time": "2022-10-10T00:56:29.230336",
     "status": "completed"
    },
    "tags": []
   },
   "outputs": [
    {
     "name": "stdout",
     "output_type": "stream",
     "text": [
      "Epoch 0, Loss 0.2459\n",
      "Training Accuracy: 0.7004, Testing Accuracy: 0.7339\n",
      "\n"
     ]
    },
    {
     "name": "stdout",
     "output_type": "stream",
     "text": [
      "Epoch 10, Loss 0.0743\n",
      "Training Accuracy: 0.9262, Testing Accuracy: 0.9335\n",
      "\n"
     ]
    },
    {
     "name": "stdout",
     "output_type": "stream",
     "text": [
      "Epoch 20, Loss 0.0495\n",
      "Training Accuracy: 0.9464, Testing Accuracy: 0.9556\n",
      "\n"
     ]
    },
    {
     "name": "stdout",
     "output_type": "stream",
     "text": [
      "Epoch 30, Loss 0.0401\n",
      "Training Accuracy: 0.9559, Testing Accuracy: 0.9647\n",
      "\n"
     ]
    },
    {
     "name": "stdout",
     "output_type": "stream",
     "text": [
      "Epoch 40, Loss 0.0351\n",
      "Training Accuracy: 0.9610, Testing Accuracy: 0.9698\n",
      "\n"
     ]
    },
    {
     "name": "stdout",
     "output_type": "stream",
     "text": [
      "Epoch 50, Loss 0.032\n",
      "Training Accuracy: 0.9633, Testing Accuracy: 0.9718\n",
      "\n"
     ]
    },
    {
     "name": "stdout",
     "output_type": "stream",
     "text": [
      "Epoch 60, Loss 0.0297\n",
      "Training Accuracy: 0.9653, Testing Accuracy: 0.9718\n",
      "\n"
     ]
    },
    {
     "name": "stdout",
     "output_type": "stream",
     "text": [
      "Epoch 70, Loss 0.0281\n",
      "Training Accuracy: 0.9676, Testing Accuracy: 0.9718\n",
      "\n"
     ]
    },
    {
     "name": "stdout",
     "output_type": "stream",
     "text": [
      "Epoch 80, Loss 0.0267\n",
      "Training Accuracy: 0.9696, Testing Accuracy: 0.9723\n",
      "\n"
     ]
    },
    {
     "name": "stdout",
     "output_type": "stream",
     "text": [
      "Epoch 90, Loss 0.0256\n",
      "Training Accuracy: 0.9704, Testing Accuracy: 0.9733\n",
      "\n"
     ]
    },
    {
     "name": "stdout",
     "output_type": "stream",
     "text": [
      "Epoch 100, Loss 0.0246\n",
      "Training Accuracy: 0.9710, Testing Accuracy: 0.9748\n",
      "\n"
     ]
    },
    {
     "name": "stdout",
     "output_type": "stream",
     "text": [
      "Epoch 110, Loss 0.0238\n",
      "Training Accuracy: 0.9726, Testing Accuracy: 0.9743\n",
      "\n"
     ]
    },
    {
     "name": "stdout",
     "output_type": "stream",
     "text": [
      "Epoch 120, Loss 0.0231\n",
      "Training Accuracy: 0.9735, Testing Accuracy: 0.9748\n",
      "\n"
     ]
    },
    {
     "name": "stdout",
     "output_type": "stream",
     "text": [
      "Epoch 130, Loss 0.0224\n",
      "Training Accuracy: 0.9746, Testing Accuracy: 0.9753\n",
      "\n"
     ]
    },
    {
     "name": "stdout",
     "output_type": "stream",
     "text": [
      "Epoch 140, Loss 0.0218\n",
      "Training Accuracy: 0.9750, Testing Accuracy: 0.9763\n",
      "\n"
     ]
    },
    {
     "name": "stdout",
     "output_type": "stream",
     "text": [
      "Epoch 150, Loss 0.0212\n",
      "Training Accuracy: 0.9759, Testing Accuracy: 0.9768\n",
      "\n"
     ]
    },
    {
     "name": "stdout",
     "output_type": "stream",
     "text": [
      "Epoch 160, Loss 0.0207\n",
      "Training Accuracy: 0.9766, Testing Accuracy: 0.9773\n",
      "\n"
     ]
    },
    {
     "name": "stdout",
     "output_type": "stream",
     "text": [
      "Epoch 170, Loss 0.0202\n",
      "Training Accuracy: 0.9771, Testing Accuracy: 0.9773\n",
      "\n"
     ]
    },
    {
     "name": "stdout",
     "output_type": "stream",
     "text": [
      "Epoch 180, Loss 0.0198\n",
      "Training Accuracy: 0.9776, Testing Accuracy: 0.9768\n",
      "\n"
     ]
    },
    {
     "name": "stdout",
     "output_type": "stream",
     "text": [
      "Epoch 190, Loss 0.0193\n",
      "Training Accuracy: 0.9778, Testing Accuracy: 0.9783\n",
      "\n"
     ]
    },
    {
     "name": "stdout",
     "output_type": "stream",
     "text": [
      "Epoch 200, Loss 0.0189\n",
      "Training Accuracy: 0.9783, Testing Accuracy: 0.9788\n",
      "\n"
     ]
    },
    {
     "name": "stdout",
     "output_type": "stream",
     "text": [
      "Epoch 210, Loss 0.0185\n",
      "Training Accuracy: 0.9791, Testing Accuracy: 0.9793\n",
      "\n"
     ]
    },
    {
     "name": "stdout",
     "output_type": "stream",
     "text": [
      "Epoch 220, Loss 0.0181\n",
      "Training Accuracy: 0.9800, Testing Accuracy: 0.9788\n",
      "\n"
     ]
    },
    {
     "name": "stdout",
     "output_type": "stream",
     "text": [
      "Epoch 230, Loss 0.0177\n",
      "Training Accuracy: 0.9804, Testing Accuracy: 0.9783\n",
      "\n"
     ]
    },
    {
     "name": "stdout",
     "output_type": "stream",
     "text": [
      "Epoch 240, Loss 0.0173\n",
      "Training Accuracy: 0.9813, Testing Accuracy: 0.9788\n",
      "\n"
     ]
    },
    {
     "data": {
      "text/plain": [
       "0.03148597387586154"
      ]
     },
     "execution_count": 22,
     "metadata": {},
     "output_type": "execute_result"
    }
   ],
   "source": [
    "nn_learner.train_loop(dl)"
   ]
  },
  {
   "cell_type": "code",
   "execution_count": 23,
   "id": "e0163366",
   "metadata": {
    "execution": {
     "iopub.execute_input": "2022-10-10T00:58:42.603294Z",
     "iopub.status.busy": "2022-10-10T00:58:42.602447Z",
     "iopub.status.idle": "2022-10-10T00:59:02.558835Z",
     "shell.execute_reply": "2022-10-10T00:59:02.559921Z"
    },
    "papermill": {
     "duration": 20.009715,
     "end_time": "2022-10-10T00:59:02.560088",
     "exception": false,
     "start_time": "2022-10-10T00:58:42.550373",
     "status": "completed"
    },
    "tags": []
   },
   "outputs": [
    {
     "name": "stdout",
     "output_type": "stream",
     "text": [
      "Epoch 0, Loss 0.2455\n",
      "Training Accuracy: 0.6763, Testing Accuracy: 0.6825\n",
      "\n"
     ]
    },
    {
     "name": "stdout",
     "output_type": "stream",
     "text": [
      "Epoch 10, Loss 0.1038\n",
      "Training Accuracy: 0.9099, Testing Accuracy: 0.9158\n",
      "\n"
     ]
    },
    {
     "name": "stdout",
     "output_type": "stream",
     "text": [
      "Epoch 20, Loss 0.0792\n",
      "Training Accuracy: 0.9277, Testing Accuracy: 0.9350\n",
      "\n"
     ]
    },
    {
     "name": "stdout",
     "output_type": "stream",
     "text": [
      "Epoch 30, Loss 0.068\n",
      "Training Accuracy: 0.9375, Testing Accuracy: 0.9435\n",
      "\n"
     ]
    },
    {
     "name": "stdout",
     "output_type": "stream",
     "text": [
      "Epoch 40, Loss 0.0614\n",
      "Training Accuracy: 0.9423, Testing Accuracy: 0.9531\n",
      "\n"
     ]
    },
    {
     "name": "stdout",
     "output_type": "stream",
     "text": [
      "Epoch 50, Loss 0.0569\n",
      "Training Accuracy: 0.9459, Testing Accuracy: 0.9536\n",
      "\n"
     ]
    },
    {
     "name": "stdout",
     "output_type": "stream",
     "text": [
      "Epoch 60, Loss 0.0536\n",
      "Training Accuracy: 0.9489, Testing Accuracy: 0.9577\n",
      "\n"
     ]
    },
    {
     "name": "stdout",
     "output_type": "stream",
     "text": [
      "Epoch 70, Loss 0.0511\n",
      "Training Accuracy: 0.9507, Testing Accuracy: 0.9587\n",
      "\n"
     ]
    },
    {
     "name": "stdout",
     "output_type": "stream",
     "text": [
      "Epoch 80, Loss 0.049\n",
      "Training Accuracy: 0.9527, Testing Accuracy: 0.9607\n",
      "\n"
     ]
    },
    {
     "name": "stdout",
     "output_type": "stream",
     "text": [
      "Epoch 90, Loss 0.0474\n",
      "Training Accuracy: 0.9541, Testing Accuracy: 0.9632\n",
      "\n"
     ]
    },
    {
     "name": "stdout",
     "output_type": "stream",
     "text": [
      "Epoch 100, Loss 0.046\n",
      "Training Accuracy: 0.9546, Testing Accuracy: 0.9637\n",
      "\n"
     ]
    },
    {
     "name": "stdout",
     "output_type": "stream",
     "text": [
      "Epoch 110, Loss 0.0448\n",
      "Training Accuracy: 0.9551, Testing Accuracy: 0.9642\n",
      "\n"
     ]
    },
    {
     "name": "stdout",
     "output_type": "stream",
     "text": [
      "Epoch 120, Loss 0.0437\n",
      "Training Accuracy: 0.9559, Testing Accuracy: 0.9642\n",
      "\n"
     ]
    },
    {
     "name": "stdout",
     "output_type": "stream",
     "text": [
      "Epoch 130, Loss 0.0428\n",
      "Training Accuracy: 0.9564, Testing Accuracy: 0.9647\n",
      "\n"
     ]
    },
    {
     "name": "stdout",
     "output_type": "stream",
     "text": [
      "Epoch 140, Loss 0.042\n",
      "Training Accuracy: 0.9571, Testing Accuracy: 0.9652\n",
      "\n"
     ]
    },
    {
     "name": "stdout",
     "output_type": "stream",
     "text": [
      "Epoch 150, Loss 0.0412\n",
      "Training Accuracy: 0.9575, Testing Accuracy: 0.9667\n",
      "\n"
     ]
    },
    {
     "name": "stdout",
     "output_type": "stream",
     "text": [
      "Epoch 160, Loss 0.0406\n",
      "Training Accuracy: 0.9577, Testing Accuracy: 0.9672\n",
      "\n"
     ]
    },
    {
     "name": "stdout",
     "output_type": "stream",
     "text": [
      "Epoch 170, Loss 0.04\n",
      "Training Accuracy: 0.9582, Testing Accuracy: 0.9672\n",
      "\n"
     ]
    },
    {
     "name": "stdout",
     "output_type": "stream",
     "text": [
      "Epoch 180, Loss 0.0394\n",
      "Training Accuracy: 0.9586, Testing Accuracy: 0.9677\n",
      "\n"
     ]
    },
    {
     "name": "stdout",
     "output_type": "stream",
     "text": [
      "Epoch 190, Loss 0.0389\n",
      "Training Accuracy: 0.9588, Testing Accuracy: 0.9693\n",
      "\n"
     ]
    },
    {
     "name": "stdout",
     "output_type": "stream",
     "text": [
      "Epoch 200, Loss 0.0384\n",
      "Training Accuracy: 0.9592, Testing Accuracy: 0.9693\n",
      "\n"
     ]
    },
    {
     "name": "stdout",
     "output_type": "stream",
     "text": [
      "Epoch 210, Loss 0.038\n",
      "Training Accuracy: 0.9594, Testing Accuracy: 0.9693\n",
      "\n"
     ]
    },
    {
     "name": "stdout",
     "output_type": "stream",
     "text": [
      "Epoch 220, Loss 0.0376\n",
      "Training Accuracy: 0.9599, Testing Accuracy: 0.9693\n",
      "\n"
     ]
    },
    {
     "name": "stdout",
     "output_type": "stream",
     "text": [
      "Epoch 230, Loss 0.0372\n",
      "Training Accuracy: 0.9602, Testing Accuracy: 0.9693\n",
      "\n"
     ]
    },
    {
     "name": "stdout",
     "output_type": "stream",
     "text": [
      "Epoch 240, Loss 0.0369\n",
      "Training Accuracy: 0.9605, Testing Accuracy: 0.9693\n",
      "\n"
     ]
    },
    {
     "data": {
      "text/plain": [
       "0.010347719990695095"
      ]
     },
     "execution_count": 23,
     "metadata": {},
     "output_type": "execute_result"
    }
   ],
   "source": [
    "lr_learner.train_loop(dl)"
   ]
  },
  {
   "cell_type": "code",
   "execution_count": 24,
   "id": "ca410940",
   "metadata": {
    "execution": {
     "iopub.execute_input": "2022-10-10T00:59:02.671364Z",
     "iopub.status.busy": "2022-10-10T00:59:02.670560Z",
     "iopub.status.idle": "2022-10-10T00:59:02.989069Z",
     "shell.execute_reply": "2022-10-10T00:59:02.989770Z"
    },
    "papermill": {
     "duration": 0.37534,
     "end_time": "2022-10-10T00:59:02.989950",
     "exception": false,
     "start_time": "2022-10-10T00:59:02.614610",
     "status": "completed"
    },
    "tags": []
   },
   "outputs": [
    {
     "data": {
      "text/plain": [
       "<matplotlib.legend.Legend at 0x7f7d9c517438>"
      ]
     },
     "execution_count": 24,
     "metadata": {},
     "output_type": "execute_result"
    },
    {
     "data": {
      "image/png": "[encoded data removed]",
      "text/plain": [
       "<Figure size 1080x720 with 1 Axes>"
      ]
     },
     "metadata": {
      "needs_background": "light"
     },
     "output_type": "display_data"
    }
   ],
   "source": [
    "#comparing the results of NN and LR\n",
    "plt.figure(figsize=(15,10))\n",
    "\n",
    "# Neural Network plots\n",
    "plt.plot(acc_nn.accuracies, 'r-', label = \"Training Accuracies - NN\")\n",
    "plt.plot(acc_nn.test_accuracies, 'g-', label = \"Testing Accuracies - NN\")\n",
    "\n",
    "# Logistic Regression plots\n",
    "plt.plot(acc_lr.accuracies, 'k-', label = \"Training Accuracies - LR\")\n",
    "plt.plot(acc_lr.test_accuracies, 'b-', label = \"Testing Accuracies - LR\")\n",
    "plt.legend()"
   ]
  },
  {
   "cell_type": "markdown",
   "id": "80dfb35c",
   "metadata": {
    "papermill": {
     "duration": 0.055794,
     "end_time": "2022-10-10T00:59:03.109896",
     "exception": false,
     "start_time": "2022-10-10T00:59:03.054102",
     "status": "completed"
    },
    "tags": []
   },
   "source": [
    "#### Plotting the outputs of this layer of the NN.\n"
   ]
  },
  {
   "cell_type": "code",
   "execution_count": 25,
   "id": "45eb2ff5",
   "metadata": {
    "execution": {
     "iopub.execute_input": "2022-10-10T00:59:03.223609Z",
     "iopub.status.busy": "2022-10-10T00:59:03.222857Z",
     "iopub.status.idle": "2022-10-10T00:59:03.254289Z",
     "shell.execute_reply": "2022-10-10T00:59:03.253424Z"
    },
    "papermill": {
     "duration": 0.090179,
     "end_time": "2022-10-10T00:59:03.254668",
     "exception": false,
     "start_time": "2022-10-10T00:59:03.164489",
     "status": "completed"
    },
    "tags": []
   },
   "outputs": [],
   "source": [
    "new_model = Model(layers[:-2])\n",
    "testing_plot = new_model(testing_data_x)"
   ]
  },
  {
   "cell_type": "code",
   "execution_count": 26,
   "id": "4c0a5485",
   "metadata": {
    "execution": {
     "iopub.execute_input": "2022-10-10T00:59:03.378457Z",
     "iopub.status.busy": "2022-10-10T00:59:03.377449Z",
     "iopub.status.idle": "2022-10-10T00:59:03.659159Z",
     "shell.execute_reply": "2022-10-10T00:59:03.658528Z"
    },
    "papermill": {
     "duration": 0.343685,
     "end_time": "2022-10-10T00:59:03.659307",
     "exception": false,
     "start_time": "2022-10-10T00:59:03.315622",
     "status": "completed"
    },
    "tags": []
   },
   "outputs": [
    {
     "data": {
      "text/plain": [
       "Text(0.5, 1.0, 'Outputs')"
      ]
     },
     "execution_count": 26,
     "metadata": {},
     "output_type": "execute_result"
    },
    {
     "data": {
      "image/png": "[encoded data removed]",
      "text/plain": [
       "<Figure size 576x504 with 1 Axes>"
      ]
     },
     "metadata": {
      "needs_background": "light"
     },
     "output_type": "display_data"
    }
   ],
   "source": [
    "# Plotting the scatter plot of points and color coding by class\n",
    "plt.figure(figsize=(8,7))\n",
    "plt.scatter(testing_plot[:,0], testing_plot[:,1], alpha = 0.1, c = y_test.ravel());\n",
    "plt.title('Outputs')"
   ]
  },
  {
   "cell_type": "markdown",
   "id": "a74fcf8f",
   "metadata": {
    "papermill": {
     "duration": 0.053734,
     "end_time": "2022-10-10T00:59:03.782384",
     "exception": false,
     "start_time": "2022-10-10T00:59:03.728650",
     "status": "completed"
    },
    "tags": []
   },
   "source": [
    "Probability contours"
   ]
  },
  {
   "cell_type": "code",
   "execution_count": 27,
   "id": "d0afc8e3",
   "metadata": {
    "execution": {
     "iopub.execute_input": "2022-10-10T00:59:03.933488Z",
     "iopub.status.busy": "2022-10-10T00:59:03.930734Z",
     "iopub.status.idle": "2022-10-10T00:59:03.947397Z",
     "shell.execute_reply": "2022-10-10T00:59:03.946706Z"
    },
    "papermill": {
     "duration": 0.108678,
     "end_time": "2022-10-10T00:59:03.947582",
     "exception": false,
     "start_time": "2022-10-10T00:59:03.838904",
     "status": "completed"
    },
    "tags": []
   },
   "outputs": [],
   "source": [
    "model_prob = Model(layers[-2:]) "
   ]
  },
  {
   "cell_type": "code",
   "execution_count": 28,
   "id": "9b96e238",
   "metadata": {
    "execution": {
     "iopub.execute_input": "2022-10-10T00:59:04.071861Z",
     "iopub.status.busy": "2022-10-10T00:59:04.070427Z",
     "iopub.status.idle": "2022-10-10T00:59:04.086449Z",
     "shell.execute_reply": "2022-10-10T00:59:04.087154Z"
    },
    "papermill": {
     "duration": 0.083355,
     "end_time": "2022-10-10T00:59:04.087339",
     "exception": false,
     "start_time": "2022-10-10T00:59:04.003984",
     "status": "completed"
    },
    "tags": []
   },
   "outputs": [],
   "source": [
    "#creating the x and y ranges according to the above generated plot.\n",
    "x_range = np.linspace(-4, 1, 100) \n",
    "y_range = np.linspace(-6, 6, 100) \n",
    "x_grid, y_grid = np.meshgrid(x_range, y_range) # x_grid and y_grig are of size 100 X 100\n",
    "\n",
    "# converting x_grid and y_grid to continuous arrays\n",
    "x_gridflat = np.ravel(x_grid)\n",
    "y_gridflat = np.ravel(y_grid)\n",
    "\n",
    "# The last layer of the current model takes two columns as input. Hence transpose of np.vstack() is required.\n",
    "X = np.vstack((x_gridflat, y_gridflat)).T\n",
    "\n",
    "prob_contour = model_prob(X).reshape(100,100) "
   ]
  },
  {
   "cell_type": "code",
   "execution_count": 29,
   "id": "da72499a",
   "metadata": {
    "execution": {
     "iopub.execute_input": "2022-10-10T00:59:04.209581Z",
     "iopub.status.busy": "2022-10-10T00:59:04.208634Z",
     "iopub.status.idle": "2022-10-10T00:59:04.539956Z",
     "shell.execute_reply": "2022-10-10T00:59:04.539218Z"
    },
    "papermill": {
     "duration": 0.394291,
     "end_time": "2022-10-10T00:59:04.540152",
     "exception": false,
     "start_time": "2022-10-10T00:59:04.145861",
     "status": "completed"
    },
    "tags": []
   },
   "outputs": [
    {
     "data": {
      "image/png": "[encoded data removed]",
      "text/plain": [
       "<Figure size 720x648 with 1 Axes>"
      ]
     },
     "metadata": {
      "needs_background": "light"
     },
     "output_type": "display_data"
    }
   ],
   "source": [
    "plt.figure(figsize=(10,9))\n",
    "plt.scatter(testing_plot[:,0], testing_plot[:,1], alpha = 0.1, c = y_test.ravel())\n",
    "contours = plt.contour(x_grid,y_grid,prob_contour)\n",
    "plt.title('Probability Contours')\n",
    "plt.clabel(contours, inline = True );"
   ]
  },
  {
   "cell_type": "code",
   "execution_count": null,
   "id": "e81b4ac7",
   "metadata": {
    "papermill": {
     "duration": 0.080437,
     "end_time": "2022-10-10T00:59:04.678451",
     "exception": false,
     "start_time": "2022-10-10T00:59:04.598014",
     "status": "completed"
    },
    "tags": []
   },
   "outputs": [],
   "source": []
  }
 ],
 "metadata": {
  "kernelspec": {
   "display_name": "Python 3",
   "language": "python",
   "name": "python3"
  },
  "language_info": {
   "codemirror_mode": {
    "name": "ipython",
    "version": 3
   },
   "file_extension": ".py",
   "mimetype": "text/x-python",
   "name": "python",
   "nbconvert_exporter": "python",
   "pygments_lexer": "ipython3",
   "version": "3.6.15"
  },
  "papermill": {
   "default_parameters": {},
   "duration": 163.465554,
   "end_time": "2022-10-10T00:59:05.159645",
   "environment_variables": {},
   "exception": null,
   "input_path": "2020-08-11-part2.ipynb",
   "output_path": "2020-08-11-part2.ipynb",
   "parameters": {},
   "start_time": "2022-10-10T00:56:21.694091",
   "version": "2.3.3"
  }
 },
 "nbformat": 4,
 "nbformat_minor": 5
}