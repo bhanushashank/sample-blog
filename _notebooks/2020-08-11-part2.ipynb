{
 "cells": [
  {
   "cell_type": "markdown",
   "id": "98380cd3",
   "metadata": {
    "papermill": {
     "duration": 0.031813,
     "end_time": "2022-09-12T10:12:39.353540",
     "exception": false,
     "start_time": "2022-09-12T10:12:39.321727",
     "status": "completed"
    },
    "tags": []
   },
   "source": [
    "# Distinguish Your Own Digits (DYOD)"
   ]
  },
  {
   "cell_type": "markdown",
   "id": "ef31240d",
   "metadata": {
    "papermill": {
     "duration": 0.026625,
     "end_time": "2022-09-12T10:12:39.407339",
     "exception": false,
     "start_time": "2022-09-12T10:12:39.380714",
     "status": "completed"
    },
    "tags": []
   },
   "source": [
    "You are going to write a classifier that distinguishes between the number 3 and number 8."
   ]
  },
  {
   "cell_type": "code",
   "execution_count": 1,
   "id": "b15c8646",
   "metadata": {
    "execution": {
     "iopub.execute_input": "2022-09-12T10:12:39.474300Z",
     "iopub.status.busy": "2022-09-12T10:12:39.473522Z",
     "iopub.status.idle": "2022-09-12T10:12:39.486004Z",
     "shell.execute_reply": "2022-09-12T10:12:39.485411Z"
    },
    "papermill": {
     "duration": 0.052794,
     "end_time": "2022-09-12T10:12:39.486149",
     "exception": false,
     "start_time": "2022-09-12T10:12:39.433355",
     "status": "completed"
    },
    "tags": []
   },
   "outputs": [],
   "source": [
    "%load_ext autoreload\n",
    "%autoreload 2"
   ]
  },
  {
   "cell_type": "code",
   "execution_count": 2,
   "id": "22ef38dc",
   "metadata": {
    "execution": {
     "iopub.execute_input": "2022-09-12T10:12:39.545406Z",
     "iopub.status.busy": "2022-09-12T10:12:39.544670Z",
     "iopub.status.idle": "2022-09-12T10:12:40.150582Z",
     "shell.execute_reply": "2022-09-12T10:12:40.149884Z"
    },
    "papermill": {
     "duration": 0.637725,
     "end_time": "2022-09-12T10:12:40.150711",
     "exception": false,
     "start_time": "2022-09-12T10:12:39.512986",
     "status": "completed"
    },
    "tags": []
   },
   "outputs": [],
   "source": [
    "%matplotlib inline\n",
    "import numpy as np\n",
    "import matplotlib.pyplot as plt\n",
    "import pandas as pd"
   ]
  },
  {
   "cell_type": "markdown",
   "id": "ba036198",
   "metadata": {
    "papermill": {
     "duration": 0.026133,
     "end_time": "2022-09-12T10:12:40.203423",
     "exception": false,
     "start_time": "2022-09-12T10:12:40.177290",
     "status": "completed"
    },
    "tags": []
   },
   "source": [
    "From the command line run `pip install mnist`. This is a library that will help you bring down the mnist dataset. If you run this from a notebook, you need to put  `!pip install mnist` in a cell by itself."
   ]
  },
  {
   "cell_type": "code",
   "execution_count": 3,
   "id": "bb6ad8a1",
   "metadata": {
    "execution": {
     "iopub.execute_input": "2022-09-12T10:12:40.261571Z",
     "iopub.status.busy": "2022-09-12T10:12:40.260888Z",
     "iopub.status.idle": "2022-09-12T10:12:43.022252Z",
     "shell.execute_reply": "2022-09-12T10:12:43.021601Z"
    },
    "papermill": {
     "duration": 2.793291,
     "end_time": "2022-09-12T10:12:43.022392",
     "exception": false,
     "start_time": "2022-09-12T10:12:40.229101",
     "status": "completed"
    },
    "tags": []
   },
   "outputs": [
    {
     "name": "stdout",
     "output_type": "stream",
     "text": [
      "Collecting mnist\r\n"
     ]
    },
    {
     "name": "stdout",
     "output_type": "stream",
     "text": [
      "  Downloading mnist-0.2.2-py2.py3-none-any.whl (3.5 kB)\r\n"
     ]
    },
    {
     "name": "stdout",
     "output_type": "stream",
     "text": [
      "Requirement already satisfied: numpy in /opt/hostedtoolcache/Python/3.6.15/x64/lib/python3.6/site-packages (from mnist) (1.19.5)\r\n"
     ]
    },
    {
     "name": "stdout",
     "output_type": "stream",
     "text": [
      "Installing collected packages: mnist\r\n",
      "Successfully installed mnist-0.2.2\r\n"
     ]
    }
   ],
   "source": [
    "!pip install mnist"
   ]
  },
  {
   "cell_type": "markdown",
   "id": "69df9c9a",
   "metadata": {
    "papermill": {
     "duration": 0.032371,
     "end_time": "2022-09-12T10:12:43.083346",
     "exception": false,
     "start_time": "2022-09-12T10:12:43.050975",
     "status": "completed"
    },
    "tags": []
   },
   "source": [
    "## Preparing the Data"
   ]
  },
  {
   "cell_type": "code",
   "execution_count": 4,
   "id": "7f69d806",
   "metadata": {
    "execution": {
     "iopub.execute_input": "2022-09-12T10:12:43.148544Z",
     "iopub.status.busy": "2022-09-12T10:12:43.146948Z",
     "iopub.status.idle": "2022-09-12T10:12:43.165210Z",
     "shell.execute_reply": "2022-09-12T10:12:43.164672Z"
    },
    "papermill": {
     "duration": 0.052514,
     "end_time": "2022-09-12T10:12:43.165332",
     "exception": false,
     "start_time": "2022-09-12T10:12:43.112818",
     "status": "completed"
    },
    "tags": []
   },
   "outputs": [],
   "source": [
    "import mnist"
   ]
  },
  {
   "cell_type": "code",
   "execution_count": 5,
   "id": "a411e44f",
   "metadata": {
    "execution": {
     "iopub.execute_input": "2022-09-12T10:12:43.229840Z",
     "iopub.status.busy": "2022-09-12T10:12:43.229143Z",
     "iopub.status.idle": "2022-09-12T10:12:44.267227Z",
     "shell.execute_reply": "2022-09-12T10:12:44.266182Z"
    },
    "papermill": {
     "duration": 1.0733,
     "end_time": "2022-09-12T10:12:44.267399",
     "exception": false,
     "start_time": "2022-09-12T10:12:43.194099",
     "status": "completed"
    },
    "tags": []
   },
   "outputs": [],
   "source": [
    "train_images = mnist.train_images()\n",
    "train_labels = mnist.train_labels()"
   ]
  },
  {
   "cell_type": "code",
   "execution_count": 6,
   "id": "dceab3a5",
   "metadata": {
    "execution": {
     "iopub.execute_input": "2022-09-12T10:12:44.332086Z",
     "iopub.status.busy": "2022-09-12T10:12:44.331352Z",
     "iopub.status.idle": "2022-09-12T10:12:44.350391Z",
     "shell.execute_reply": "2022-09-12T10:12:44.350918Z"
    },
    "papermill": {
     "duration": 0.054354,
     "end_time": "2022-09-12T10:12:44.351068",
     "exception": false,
     "start_time": "2022-09-12T10:12:44.296714",
     "status": "completed"
    },
    "tags": []
   },
   "outputs": [
    {
     "data": {
      "text/plain": [
       "((60000, 28, 28), (60000,))"
      ]
     },
     "execution_count": 6,
     "metadata": {},
     "output_type": "execute_result"
    }
   ],
   "source": [
    "train_images.shape, train_labels.shape"
   ]
  },
  {
   "cell_type": "code",
   "execution_count": 7,
   "id": "f50dc2bb",
   "metadata": {
    "execution": {
     "iopub.execute_input": "2022-09-12T10:12:44.422077Z",
     "iopub.status.busy": "2022-09-12T10:12:44.421336Z",
     "iopub.status.idle": "2022-09-12T10:12:44.563278Z",
     "shell.execute_reply": "2022-09-12T10:12:44.562677Z"
    },
    "papermill": {
     "duration": 0.183637,
     "end_time": "2022-09-12T10:12:44.563422",
     "exception": false,
     "start_time": "2022-09-12T10:12:44.379785",
     "status": "completed"
    },
    "tags": []
   },
   "outputs": [],
   "source": [
    "test_images = mnist.test_images()\n",
    "test_labels = mnist.test_labels()"
   ]
  },
  {
   "cell_type": "code",
   "execution_count": 8,
   "id": "fc38cf1b",
   "metadata": {
    "execution": {
     "iopub.execute_input": "2022-09-12T10:12:44.628713Z",
     "iopub.status.busy": "2022-09-12T10:12:44.627460Z",
     "iopub.status.idle": "2022-09-12T10:12:44.645891Z",
     "shell.execute_reply": "2022-09-12T10:12:44.647032Z"
    },
    "papermill": {
     "duration": 0.053783,
     "end_time": "2022-09-12T10:12:44.647200",
     "exception": false,
     "start_time": "2022-09-12T10:12:44.593417",
     "status": "completed"
    },
    "tags": []
   },
   "outputs": [
    {
     "data": {
      "text/plain": [
       "((10000, 28, 28), (10000,))"
      ]
     },
     "execution_count": 8,
     "metadata": {},
     "output_type": "execute_result"
    }
   ],
   "source": [
    "test_images.shape, test_labels.shape"
   ]
  },
  {
   "cell_type": "code",
   "execution_count": 9,
   "id": "f9ed8fe0",
   "metadata": {
    "execution": {
     "iopub.execute_input": "2022-09-12T10:12:44.711950Z",
     "iopub.status.busy": "2022-09-12T10:12:44.711262Z",
     "iopub.status.idle": "2022-09-12T10:12:44.876225Z",
     "shell.execute_reply": "2022-09-12T10:12:44.876795Z"
    },
    "papermill": {
     "duration": 0.200208,
     "end_time": "2022-09-12T10:12:44.876953",
     "exception": false,
     "start_time": "2022-09-12T10:12:44.676745",
     "status": "completed"
    },
    "tags": []
   },
   "outputs": [
    {
     "name": "stdout",
     "output_type": "stream",
     "text": [
      "2\n"
     ]
    },
    {
     "data": {
      "text/plain": [
       "<matplotlib.image.AxesImage at 0x7fcebba29c50>"
      ]
     },
     "execution_count": 9,
     "metadata": {},
     "output_type": "execute_result"
    },
    {
     "data": {
      "image/png": "[encoded data removed]",
      "text/plain": [
       "<Figure size 432x288 with 1 Axes>"
      ]
     },
     "metadata": {
      "needs_background": "light"
     },
     "output_type": "display_data"
    }
   ],
   "source": [
    "image_index = 7776 # You may select anything up to 60,000\n",
    "print(train_labels[image_index]) \n",
    "plt.imshow(train_images[image_index], cmap='Greys')"
   ]
  },
  {
   "cell_type": "markdown",
   "id": "a8d2388d",
   "metadata": {
    "papermill": {
     "duration": 0.034274,
     "end_time": "2022-09-12T10:12:44.944077",
     "exception": false,
     "start_time": "2022-09-12T10:12:44.909803",
     "status": "completed"
    },
    "tags": []
   },
   "source": [
    "## Filter data to get 3 and 8 out"
   ]
  },
  {
   "cell_type": "code",
   "execution_count": 10,
   "id": "776f7fc7",
   "metadata": {
    "execution": {
     "iopub.execute_input": "2022-09-12T10:12:45.017097Z",
     "iopub.status.busy": "2022-09-12T10:12:45.016282Z",
     "iopub.status.idle": "2022-09-12T10:12:45.035466Z",
     "shell.execute_reply": "2022-09-12T10:12:45.034862Z"
    },
    "papermill": {
     "duration": 0.060828,
     "end_time": "2022-09-12T10:12:45.035594",
     "exception": false,
     "start_time": "2022-09-12T10:12:44.974766",
     "status": "completed"
    },
    "tags": []
   },
   "outputs": [],
   "source": [
    "train_filter = np.where((train_labels == 3 ) | (train_labels == 8))\n",
    "test_filter = np.where((test_labels == 3) | (test_labels == 8))\n",
    "X_train, y_train = train_images[train_filter], train_labels[train_filter]\n",
    "X_test, y_test = test_images[test_filter], test_labels[test_filter]"
   ]
  },
  {
   "cell_type": "markdown",
   "id": "948f0b7e",
   "metadata": {
    "papermill": {
     "duration": 0.031247,
     "end_time": "2022-09-12T10:12:45.098901",
     "exception": false,
     "start_time": "2022-09-12T10:12:45.067654",
     "status": "completed"
    },
    "tags": []
   },
   "source": [
    "We normalize the pizel values in the 0 to 1 range"
   ]
  },
  {
   "cell_type": "code",
   "execution_count": 11,
   "id": "ee4c2166",
   "metadata": {
    "execution": {
     "iopub.execute_input": "2022-09-12T10:12:45.166424Z",
     "iopub.status.busy": "2022-09-12T10:12:45.165681Z",
     "iopub.status.idle": "2022-09-12T10:12:45.222826Z",
     "shell.execute_reply": "2022-09-12T10:12:45.223379Z"
    },
    "papermill": {
     "duration": 0.092886,
     "end_time": "2022-09-12T10:12:45.223540",
     "exception": false,
     "start_time": "2022-09-12T10:12:45.130654",
     "status": "completed"
    },
    "tags": []
   },
   "outputs": [],
   "source": [
    "X_train = X_train/255.\n",
    "X_test = X_test/255."
   ]
  },
  {
   "cell_type": "markdown",
   "id": "ddcf4fab",
   "metadata": {
    "papermill": {
     "duration": 0.030703,
     "end_time": "2022-09-12T10:12:45.285608",
     "exception": false,
     "start_time": "2022-09-12T10:12:45.254905",
     "status": "completed"
    },
    "tags": []
   },
   "source": [
    "And setup the labels as 1 (when the digit is 3) and 0 (when the digit is 8)"
   ]
  },
  {
   "cell_type": "code",
   "execution_count": 12,
   "id": "7dc908f2",
   "metadata": {
    "execution": {
     "iopub.execute_input": "2022-09-12T10:12:45.352959Z",
     "iopub.status.busy": "2022-09-12T10:12:45.352145Z",
     "iopub.status.idle": "2022-09-12T10:12:45.367541Z",
     "shell.execute_reply": "2022-09-12T10:12:45.368137Z"
    },
    "papermill": {
     "duration": 0.052945,
     "end_time": "2022-09-12T10:12:45.368293",
     "exception": false,
     "start_time": "2022-09-12T10:12:45.315348",
     "status": "completed"
    },
    "tags": []
   },
   "outputs": [],
   "source": [
    "y_train = 1*(y_train==3)\n",
    "y_test = 1*(y_test==3)"
   ]
  },
  {
   "cell_type": "code",
   "execution_count": 13,
   "id": "01e4e969",
   "metadata": {
    "execution": {
     "iopub.execute_input": "2022-09-12T10:12:45.437562Z",
     "iopub.status.busy": "2022-09-12T10:12:45.436928Z",
     "iopub.status.idle": "2022-09-12T10:12:45.452965Z",
     "shell.execute_reply": "2022-09-12T10:12:45.453591Z"
    },
    "papermill": {
     "duration": 0.054413,
     "end_time": "2022-09-12T10:12:45.453729",
     "exception": false,
     "start_time": "2022-09-12T10:12:45.399316",
     "status": "completed"
    },
    "tags": []
   },
   "outputs": [
    {
     "data": {
      "text/plain": [
       "((11982, 28, 28), (1984, 28, 28))"
      ]
     },
     "execution_count": 13,
     "metadata": {},
     "output_type": "execute_result"
    }
   ],
   "source": [
    "X_train.shape, X_test.shape"
   ]
  },
  {
   "cell_type": "markdown",
   "id": "5ccf3f85",
   "metadata": {
    "papermill": {
     "duration": 0.030533,
     "end_time": "2022-09-12T10:12:45.516147",
     "exception": false,
     "start_time": "2022-09-12T10:12:45.485614",
     "status": "completed"
    },
    "tags": []
   },
   "source": [
    "We reshape the data to flatten the image pixels into a set of features or co-variates:"
   ]
  },
  {
   "cell_type": "code",
   "execution_count": 14,
   "id": "5286a4a3",
   "metadata": {
    "execution": {
     "iopub.execute_input": "2022-09-12T10:12:45.582632Z",
     "iopub.status.busy": "2022-09-12T10:12:45.581920Z",
     "iopub.status.idle": "2022-09-12T10:12:45.598231Z",
     "shell.execute_reply": "2022-09-12T10:12:45.598764Z"
    },
    "papermill": {
     "duration": 0.05257,
     "end_time": "2022-09-12T10:12:45.598914",
     "exception": false,
     "start_time": "2022-09-12T10:12:45.546344",
     "status": "completed"
    },
    "tags": []
   },
   "outputs": [
    {
     "data": {
      "text/plain": [
       "((11982, 784), (1984, 784))"
      ]
     },
     "execution_count": 14,
     "metadata": {},
     "output_type": "execute_result"
    }
   ],
   "source": [
    "X_train = X_train.reshape(X_train.shape[0], -1)\n",
    "X_test = X_test.reshape(X_test.shape[0], -1)\n",
    "X_train.shape, X_test.shape"
   ]
  },
  {
   "cell_type": "code",
   "execution_count": 15,
   "id": "73c5f88a",
   "metadata": {
    "execution": {
     "iopub.execute_input": "2022-09-12T10:12:45.674902Z",
     "iopub.status.busy": "2022-09-12T10:12:45.674256Z",
     "iopub.status.idle": "2022-09-12T10:12:45.696095Z",
     "shell.execute_reply": "2022-09-12T10:12:45.695504Z"
    },
    "papermill": {
     "duration": 0.063495,
     "end_time": "2022-09-12T10:12:45.696483",
     "exception": false,
     "start_time": "2022-09-12T10:12:45.632988",
     "status": "completed"
    },
    "tags": []
   },
   "outputs": [],
   "source": [
    "#Impoting functions from 'Kudzu'\n",
    "from kudzu.model import Model\n",
    "from kudzu.train import Learner\n",
    "from kudzu.optim import GD\n",
    "from kudzu.data import Data, Sampler,Dataloader\n",
    "\n",
    "from kudzu.callbacks import AccCallback\n",
    "from kudzu.callbacks import ClfCallback\n",
    "\n",
    "from kudzu.loss import MSE\n",
    "\n",
    "from kudzu.layer import Sigmoid,Relu\n",
    "from kudzu.layer import Affine"
   ]
  },
  {
   "cell_type": "markdown",
   "id": "bc01172a",
   "metadata": {
    "papermill": {
     "duration": 0.041423,
     "end_time": "2022-09-12T10:12:45.771556",
     "exception": false,
     "start_time": "2022-09-12T10:12:45.730133",
     "status": "completed"
    },
    "tags": []
   },
   "source": [
    "### Let us create a `Config` class, to store important parameters. \n",
    "This class essentially plays the role of a dictionary."
   ]
  },
  {
   "cell_type": "code",
   "execution_count": 16,
   "id": "978281aa",
   "metadata": {
    "execution": {
     "iopub.execute_input": "2022-09-12T10:12:45.841944Z",
     "iopub.status.busy": "2022-09-12T10:12:45.841088Z",
     "iopub.status.idle": "2022-09-12T10:12:45.855644Z",
     "shell.execute_reply": "2022-09-12T10:12:45.855032Z"
    },
    "papermill": {
     "duration": 0.051481,
     "end_time": "2022-09-12T10:12:45.855777",
     "exception": false,
     "start_time": "2022-09-12T10:12:45.804296",
     "status": "completed"
    },
    "tags": []
   },
   "outputs": [],
   "source": [
    "class Config:\n",
    "    pass\n",
    "config = Config()\n",
    "config.lr = 0.001\n",
    "config.num_epochs = 250\n",
    "config.bs = 50"
   ]
  },
  {
   "cell_type": "markdown",
   "id": "1385fa59",
   "metadata": {
    "papermill": {
     "duration": 0.032309,
     "end_time": "2022-09-12T10:12:45.919487",
     "exception": false,
     "start_time": "2022-09-12T10:12:45.887178",
     "status": "completed"
    },
    "tags": []
   },
   "source": [
    "### Running Models with the Training data\n",
    "Details about the network layers:\n",
    "- A first affine layer has 784 inputs and does 100 affine transforms. These are followed by a Relu\n",
    "- A second affine layer has 100 inputs from the 100 activations of the past layer, and does 100 affine transforms. These are followed by a Relu\n",
    "- A third affine layer has 100 activations and does 2 affine transformations to create an embedding for visualization. There is no non-linearity here.\n",
    "- A final \"logistic regression\" which has an affine transform from 2 inputs to 1 output, which is squeezed through a sigmoid.\n"
   ]
  },
  {
   "cell_type": "code",
   "execution_count": 17,
   "id": "2b9c66db",
   "metadata": {
    "execution": {
     "iopub.execute_input": "2022-09-12T10:12:45.988700Z",
     "iopub.status.busy": "2022-09-12T10:12:45.987834Z",
     "iopub.status.idle": "2022-09-12T10:12:46.002781Z",
     "shell.execute_reply": "2022-09-12T10:12:46.002251Z"
    },
    "papermill": {
     "duration": 0.050875,
     "end_time": "2022-09-12T10:12:46.002898",
     "exception": false,
     "start_time": "2022-09-12T10:12:45.952023",
     "status": "completed"
    },
    "tags": []
   },
   "outputs": [],
   "source": [
    "data = Data(X_train, y_train.reshape(-1,1))\n",
    "sampler = Sampler(data, config.bs, shuffle=True)\n",
    "\n",
    "dl = Dataloader(data, sampler)\n",
    "\n",
    "opt = GD(config.lr)\n",
    "loss = MSE()"
   ]
  },
  {
   "cell_type": "code",
   "execution_count": 18,
   "id": "b275e4c2",
   "metadata": {
    "execution": {
     "iopub.execute_input": "2022-09-12T10:12:46.069205Z",
     "iopub.status.busy": "2022-09-12T10:12:46.068554Z",
     "iopub.status.idle": "2022-09-12T10:12:46.082912Z",
     "shell.execute_reply": "2022-09-12T10:12:46.082142Z"
    },
    "papermill": {
     "duration": 0.049231,
     "end_time": "2022-09-12T10:12:46.083045",
     "exception": false,
     "start_time": "2022-09-12T10:12:46.033814",
     "status": "completed"
    },
    "tags": []
   },
   "outputs": [],
   "source": [
    "training_data_x = X_train\n",
    "testing_data_x = X_test\n",
    "training_data_y = y_train.reshape(-1,1)\n",
    "testing_data_y = y_test.reshape(-1,1)"
   ]
  },
  {
   "cell_type": "code",
   "execution_count": 19,
   "id": "76951160",
   "metadata": {
    "execution": {
     "iopub.execute_input": "2022-09-12T10:12:46.149659Z",
     "iopub.status.busy": "2022-09-12T10:12:46.148889Z",
     "iopub.status.idle": "2022-09-12T10:12:46.168654Z",
     "shell.execute_reply": "2022-09-12T10:12:46.169182Z"
    },
    "papermill": {
     "duration": 0.055082,
     "end_time": "2022-09-12T10:12:46.169327",
     "exception": false,
     "start_time": "2022-09-12T10:12:46.114245",
     "status": "completed"
    },
    "tags": []
   },
   "outputs": [
    {
     "name": "stdout",
     "output_type": "stream",
     "text": [
      "xavier\n",
      "xavier\n",
      "xavier\n",
      "xavier\n",
      "xavier\n"
     ]
    }
   ],
   "source": [
    "layers = [Affine(\"first\", 784, 100), Relu(\"first\"), Affine(\"second\", 100, 100), Relu(\"second\"), Affine(\"third\", 100, 2), Affine(\"last\", 2, 1), Sigmoid(\"last\")]\n",
    "model_nn = Model(layers)\n",
    "model_lr = Model([Affine(\"logits\", 784, 1), Sigmoid(\"sigmoid\")])"
   ]
  },
  {
   "cell_type": "code",
   "execution_count": 20,
   "id": "6eede77a",
   "metadata": {
    "execution": {
     "iopub.execute_input": "2022-09-12T10:12:46.241498Z",
     "iopub.status.busy": "2022-09-12T10:12:46.240658Z",
     "iopub.status.idle": "2022-09-12T10:12:46.257008Z",
     "shell.execute_reply": "2022-09-12T10:12:46.255600Z"
    },
    "papermill": {
     "duration": 0.052177,
     "end_time": "2022-09-12T10:12:46.257496",
     "exception": false,
     "start_time": "2022-09-12T10:12:46.205319",
     "status": "completed"
    },
    "tags": []
   },
   "outputs": [],
   "source": [
    "nn_learner = Learner(loss, model_nn, opt, config.num_epochs)\n",
    "acc_nn = ClfCallback(nn_learner, config.bs, training_data_x , testing_data_x, training_data_y, testing_data_y)\n",
    "nn_learner.set_callbacks([acc_nn])"
   ]
  },
  {
   "cell_type": "code",
   "execution_count": 21,
   "id": "877b6cc7",
   "metadata": {
    "execution": {
     "iopub.execute_input": "2022-09-12T10:12:46.328545Z",
     "iopub.status.busy": "2022-09-12T10:12:46.327808Z",
     "iopub.status.idle": "2022-09-12T10:12:46.341909Z",
     "shell.execute_reply": "2022-09-12T10:12:46.341151Z"
    },
    "papermill": {
     "duration": 0.049593,
     "end_time": "2022-09-12T10:12:46.342039",
     "exception": false,
     "start_time": "2022-09-12T10:12:46.292446",
     "status": "completed"
    },
    "tags": []
   },
   "outputs": [],
   "source": [
    "lr_learner = Learner(loss, model_lr, opt, config.num_epochs)\n",
    "acc_lr = ClfCallback(lr_learner, config.bs, training_data_x , testing_data_x, training_data_y, testing_data_y)\n",
    "lr_learner.set_callbacks([acc_lr])"
   ]
  },
  {
   "cell_type": "code",
   "execution_count": 22,
   "id": "d9b133c3",
   "metadata": {
    "execution": {
     "iopub.execute_input": "2022-09-12T10:12:46.412568Z",
     "iopub.status.busy": "2022-09-12T10:12:46.411841Z",
     "iopub.status.idle": "2022-09-12T10:14:15.209364Z",
     "shell.execute_reply": "2022-09-12T10:14:15.210503Z"
    },
    "papermill": {
     "duration": 88.835737,
     "end_time": "2022-09-12T10:14:15.210680",
     "exception": false,
     "start_time": "2022-09-12T10:12:46.374943",
     "status": "completed"
    },
    "tags": []
   },
   "outputs": [
    {
     "name": "stdout",
     "output_type": "stream",
     "text": [
      "Epoch 0, Loss 0.2525\n",
      "Training Accuracy: 0.4402, Testing Accuracy: 0.4375\n",
      "\n"
     ]
    },
    {
     "name": "stdout",
     "output_type": "stream",
     "text": [
      "Epoch 10, Loss 0.2394\n",
      "Training Accuracy: 0.7980, Testing Accuracy: 0.8236\n",
      "\n"
     ]
    },
    {
     "name": "stdout",
     "output_type": "stream",
     "text": [
      "Epoch 20, Loss 0.196\n",
      "Training Accuracy: 0.8783, Testing Accuracy: 0.8972\n",
      "\n"
     ]
    },
    {
     "name": "stdout",
     "output_type": "stream",
     "text": [
      "Epoch 30, Loss 0.1018\n",
      "Training Accuracy: 0.9084, Testing Accuracy: 0.9229\n",
      "\n"
     ]
    },
    {
     "name": "stdout",
     "output_type": "stream",
     "text": [
      "Epoch 40, Loss 0.0634\n",
      "Training Accuracy: 0.9331, Testing Accuracy: 0.9471\n",
      "\n"
     ]
    },
    {
     "name": "stdout",
     "output_type": "stream",
     "text": [
      "Epoch 50, Loss 0.0488\n",
      "Training Accuracy: 0.9464, Testing Accuracy: 0.9567\n",
      "\n"
     ]
    },
    {
     "name": "stdout",
     "output_type": "stream",
     "text": [
      "Epoch 60, Loss 0.0416\n",
      "Training Accuracy: 0.9523, Testing Accuracy: 0.9622\n",
      "\n"
     ]
    },
    {
     "name": "stdout",
     "output_type": "stream",
     "text": [
      "Epoch 70, Loss 0.0373\n",
      "Training Accuracy: 0.9563, Testing Accuracy: 0.9647\n",
      "\n"
     ]
    },
    {
     "name": "stdout",
     "output_type": "stream",
     "text": [
      "Epoch 80, Loss 0.0345\n",
      "Training Accuracy: 0.9596, Testing Accuracy: 0.9677\n",
      "\n"
     ]
    },
    {
     "name": "stdout",
     "output_type": "stream",
     "text": [
      "Epoch 90, Loss 0.0325\n",
      "Training Accuracy: 0.9614, Testing Accuracy: 0.9713\n",
      "\n"
     ]
    },
    {
     "name": "stdout",
     "output_type": "stream",
     "text": [
      "Epoch 100, Loss 0.0309\n",
      "Training Accuracy: 0.9629, Testing Accuracy: 0.9713\n",
      "\n"
     ]
    },
    {
     "name": "stdout",
     "output_type": "stream",
     "text": [
      "Epoch 110, Loss 0.0296\n",
      "Training Accuracy: 0.9643, Testing Accuracy: 0.9713\n",
      "\n"
     ]
    },
    {
     "name": "stdout",
     "output_type": "stream",
     "text": [
      "Epoch 120, Loss 0.0286\n",
      "Training Accuracy: 0.9660, Testing Accuracy: 0.9718\n",
      "\n"
     ]
    },
    {
     "name": "stdout",
     "output_type": "stream",
     "text": [
      "Epoch 130, Loss 0.0276\n",
      "Training Accuracy: 0.9672, Testing Accuracy: 0.9718\n",
      "\n"
     ]
    },
    {
     "name": "stdout",
     "output_type": "stream",
     "text": [
      "Epoch 140, Loss 0.0268\n",
      "Training Accuracy: 0.9680, Testing Accuracy: 0.9718\n",
      "\n"
     ]
    },
    {
     "name": "stdout",
     "output_type": "stream",
     "text": [
      "Epoch 150, Loss 0.0261\n",
      "Training Accuracy: 0.9690, Testing Accuracy: 0.9733\n",
      "\n"
     ]
    },
    {
     "name": "stdout",
     "output_type": "stream",
     "text": [
      "Epoch 160, Loss 0.0255\n",
      "Training Accuracy: 0.9699, Testing Accuracy: 0.9728\n",
      "\n"
     ]
    },
    {
     "name": "stdout",
     "output_type": "stream",
     "text": [
      "Epoch 170, Loss 0.0249\n",
      "Training Accuracy: 0.9704, Testing Accuracy: 0.9738\n",
      "\n"
     ]
    },
    {
     "name": "stdout",
     "output_type": "stream",
     "text": [
      "Epoch 180, Loss 0.0243\n",
      "Training Accuracy: 0.9710, Testing Accuracy: 0.9733\n",
      "\n"
     ]
    },
    {
     "name": "stdout",
     "output_type": "stream",
     "text": [
      "Epoch 190, Loss 0.0238\n",
      "Training Accuracy: 0.9715, Testing Accuracy: 0.9733\n",
      "\n"
     ]
    },
    {
     "name": "stdout",
     "output_type": "stream",
     "text": [
      "Epoch 200, Loss 0.0234\n",
      "Training Accuracy: 0.9719, Testing Accuracy: 0.9738\n",
      "\n"
     ]
    },
    {
     "name": "stdout",
     "output_type": "stream",
     "text": [
      "Epoch 210, Loss 0.0229\n",
      "Training Accuracy: 0.9729, Testing Accuracy: 0.9733\n",
      "\n"
     ]
    },
    {
     "name": "stdout",
     "output_type": "stream",
     "text": [
      "Epoch 220, Loss 0.0225\n",
      "Training Accuracy: 0.9735, Testing Accuracy: 0.9733\n",
      "\n"
     ]
    },
    {
     "name": "stdout",
     "output_type": "stream",
     "text": [
      "Epoch 230, Loss 0.0221\n",
      "Training Accuracy: 0.9742, Testing Accuracy: 0.9733\n",
      "\n"
     ]
    },
    {
     "name": "stdout",
     "output_type": "stream",
     "text": [
      "Epoch 240, Loss 0.0217\n",
      "Training Accuracy: 0.9747, Testing Accuracy: 0.9743\n",
      "\n"
     ]
    },
    {
     "data": {
      "text/plain": [
       "0.03506277656945214"
      ]
     },
     "execution_count": 22,
     "metadata": {},
     "output_type": "execute_result"
    }
   ],
   "source": [
    "nn_learner.train_loop(dl)"
   ]
  },
  {
   "cell_type": "code",
   "execution_count": 23,
   "id": "e0163366",
   "metadata": {
    "execution": {
     "iopub.execute_input": "2022-09-12T10:14:15.302106Z",
     "iopub.status.busy": "2022-09-12T10:14:15.301235Z",
     "iopub.status.idle": "2022-09-12T10:14:31.290087Z",
     "shell.execute_reply": "2022-09-12T10:14:31.291084Z"
    },
    "papermill": {
     "duration": 16.040351,
     "end_time": "2022-09-12T10:14:31.291256",
     "exception": false,
     "start_time": "2022-09-12T10:14:15.250905",
     "status": "completed"
    },
    "tags": []
   },
   "outputs": [
    {
     "name": "stdout",
     "output_type": "stream",
     "text": [
      "Epoch 0, Loss 0.2294\n",
      "Training Accuracy: 0.7320, Testing Accuracy: 0.7490\n",
      "\n"
     ]
    },
    {
     "name": "stdout",
     "output_type": "stream",
     "text": [
      "Epoch 10, Loss 0.1021\n",
      "Training Accuracy: 0.9110, Testing Accuracy: 0.9239\n",
      "\n"
     ]
    },
    {
     "name": "stdout",
     "output_type": "stream",
     "text": [
      "Epoch 20, Loss 0.0788\n",
      "Training Accuracy: 0.9283, Testing Accuracy: 0.9425\n",
      "\n"
     ]
    },
    {
     "name": "stdout",
     "output_type": "stream",
     "text": [
      "Epoch 30, Loss 0.0681\n",
      "Training Accuracy: 0.9361, Testing Accuracy: 0.9521\n",
      "\n"
     ]
    },
    {
     "name": "stdout",
     "output_type": "stream",
     "text": [
      "Epoch 40, Loss 0.0616\n",
      "Training Accuracy: 0.9412, Testing Accuracy: 0.9556\n",
      "\n"
     ]
    },
    {
     "name": "stdout",
     "output_type": "stream",
     "text": [
      "Epoch 50, Loss 0.0571\n",
      "Training Accuracy: 0.9445, Testing Accuracy: 0.9561\n",
      "\n"
     ]
    },
    {
     "name": "stdout",
     "output_type": "stream",
     "text": [
      "Epoch 60, Loss 0.0538\n",
      "Training Accuracy: 0.9471, Testing Accuracy: 0.9602\n",
      "\n"
     ]
    },
    {
     "name": "stdout",
     "output_type": "stream",
     "text": [
      "Epoch 70, Loss 0.0513\n",
      "Training Accuracy: 0.9491, Testing Accuracy: 0.9612\n",
      "\n"
     ]
    },
    {
     "name": "stdout",
     "output_type": "stream",
     "text": [
      "Epoch 80, Loss 0.0493\n",
      "Training Accuracy: 0.9506, Testing Accuracy: 0.9617\n",
      "\n"
     ]
    },
    {
     "name": "stdout",
     "output_type": "stream",
     "text": [
      "Epoch 90, Loss 0.0476\n",
      "Training Accuracy: 0.9515, Testing Accuracy: 0.9632\n",
      "\n"
     ]
    },
    {
     "name": "stdout",
     "output_type": "stream",
     "text": [
      "Epoch 100, Loss 0.0461\n",
      "Training Accuracy: 0.9528, Testing Accuracy: 0.9632\n",
      "\n"
     ]
    },
    {
     "name": "stdout",
     "output_type": "stream",
     "text": [
      "Epoch 110, Loss 0.0449\n",
      "Training Accuracy: 0.9535, Testing Accuracy: 0.9647\n",
      "\n"
     ]
    },
    {
     "name": "stdout",
     "output_type": "stream",
     "text": [
      "Epoch 120, Loss 0.0439\n",
      "Training Accuracy: 0.9544, Testing Accuracy: 0.9657\n",
      "\n"
     ]
    },
    {
     "name": "stdout",
     "output_type": "stream",
     "text": [
      "Epoch 130, Loss 0.0429\n",
      "Training Accuracy: 0.9552, Testing Accuracy: 0.9662\n",
      "\n"
     ]
    },
    {
     "name": "stdout",
     "output_type": "stream",
     "text": [
      "Epoch 140, Loss 0.0421\n",
      "Training Accuracy: 0.9555, Testing Accuracy: 0.9677\n",
      "\n"
     ]
    },
    {
     "name": "stdout",
     "output_type": "stream",
     "text": [
      "Epoch 150, Loss 0.0413\n",
      "Training Accuracy: 0.9564, Testing Accuracy: 0.9677\n",
      "\n"
     ]
    },
    {
     "name": "stdout",
     "output_type": "stream",
     "text": [
      "Epoch 160, Loss 0.0406\n",
      "Training Accuracy: 0.9572, Testing Accuracy: 0.9677\n",
      "\n"
     ]
    },
    {
     "name": "stdout",
     "output_type": "stream",
     "text": [
      "Epoch 170, Loss 0.04\n",
      "Training Accuracy: 0.9575, Testing Accuracy: 0.9672\n",
      "\n"
     ]
    },
    {
     "name": "stdout",
     "output_type": "stream",
     "text": [
      "Epoch 180, Loss 0.0395\n",
      "Training Accuracy: 0.9581, Testing Accuracy: 0.9677\n",
      "\n"
     ]
    },
    {
     "name": "stdout",
     "output_type": "stream",
     "text": [
      "Epoch 190, Loss 0.0389\n",
      "Training Accuracy: 0.9587, Testing Accuracy: 0.9677\n",
      "\n"
     ]
    },
    {
     "name": "stdout",
     "output_type": "stream",
     "text": [
      "Epoch 200, Loss 0.0385\n",
      "Training Accuracy: 0.9589, Testing Accuracy: 0.9677\n",
      "\n"
     ]
    },
    {
     "name": "stdout",
     "output_type": "stream",
     "text": [
      "Epoch 210, Loss 0.038\n",
      "Training Accuracy: 0.9599, Testing Accuracy: 0.9677\n",
      "\n"
     ]
    },
    {
     "name": "stdout",
     "output_type": "stream",
     "text": [
      "Epoch 220, Loss 0.0376\n",
      "Training Accuracy: 0.9602, Testing Accuracy: 0.9677\n",
      "\n"
     ]
    },
    {
     "name": "stdout",
     "output_type": "stream",
     "text": [
      "Epoch 230, Loss 0.0372\n",
      "Training Accuracy: 0.9605, Testing Accuracy: 0.9677\n",
      "\n"
     ]
    },
    {
     "name": "stdout",
     "output_type": "stream",
     "text": [
      "Epoch 240, Loss 0.0368\n",
      "Training Accuracy: 0.9609, Testing Accuracy: 0.9677\n",
      "\n"
     ]
    },
    {
     "data": {
      "text/plain": [
       "0.054475018194516764"
      ]
     },
     "execution_count": 23,
     "metadata": {},
     "output_type": "execute_result"
    }
   ],
   "source": [
    "lr_learner.train_loop(dl)"
   ]
  },
  {
   "cell_type": "code",
   "execution_count": 24,
   "id": "ca410940",
   "metadata": {
    "execution": {
     "iopub.execute_input": "2022-09-12T10:14:31.401765Z",
     "iopub.status.busy": "2022-09-12T10:14:31.401026Z",
     "iopub.status.idle": "2022-09-12T10:14:31.663407Z",
     "shell.execute_reply": "2022-09-12T10:14:31.662240Z"
    },
    "papermill": {
     "duration": 0.324835,
     "end_time": "2022-09-12T10:14:31.663554",
     "exception": false,
     "start_time": "2022-09-12T10:14:31.338719",
     "status": "completed"
    },
    "tags": []
   },
   "outputs": [
    {
     "data": {
      "text/plain": [
       "<matplotlib.legend.Legend at 0x7fcebb5992e8>"
      ]
     },
     "execution_count": 24,
     "metadata": {},
     "output_type": "execute_result"
    },
    {
     "data": {
      "image/png": "[encoded data removed]",
      "text/plain": [
       "<Figure size 1080x720 with 1 Axes>"
      ]
     },
     "metadata": {
      "needs_background": "light"
     },
     "output_type": "display_data"
    }
   ],
   "source": [
    "#comparing the results of NN and LR\n",
    "plt.figure(figsize=(15,10))\n",
    "\n",
    "# Neural Network plots\n",
    "plt.plot(acc_nn.accuracies, 'r-', label = \"Training Accuracies - NN\")\n",
    "plt.plot(acc_nn.test_accuracies, 'g-', label = \"Testing Accuracies - NN\")\n",
    "\n",
    "# Logistic Regression plots\n",
    "plt.plot(acc_lr.accuracies, 'k-', label = \"Training Accuracies - LR\")\n",
    "plt.plot(acc_lr.test_accuracies, 'b-', label = \"Testing Accuracies - LR\")\n",
    "plt.legend()"
   ]
  },
  {
   "cell_type": "markdown",
   "id": "80dfb35c",
   "metadata": {
    "papermill": {
     "duration": 0.047245,
     "end_time": "2022-09-12T10:14:31.757243",
     "exception": false,
     "start_time": "2022-09-12T10:14:31.709998",
     "status": "completed"
    },
    "tags": []
   },
   "source": [
    "#### Plotting the outputs of this layer of the NN.\n"
   ]
  },
  {
   "cell_type": "code",
   "execution_count": 25,
   "id": "45eb2ff5",
   "metadata": {
    "execution": {
     "iopub.execute_input": "2022-09-12T10:14:31.859074Z",
     "iopub.status.busy": "2022-09-12T10:14:31.857668Z",
     "iopub.status.idle": "2022-09-12T10:14:31.880841Z",
     "shell.execute_reply": "2022-09-12T10:14:31.881759Z"
    },
    "papermill": {
     "duration": 0.076898,
     "end_time": "2022-09-12T10:14:31.881931",
     "exception": false,
     "start_time": "2022-09-12T10:14:31.805033",
     "status": "completed"
    },
    "tags": []
   },
   "outputs": [],
   "source": [
    "new_model = Model(layers[:-2])\n",
    "testing_plot = new_model(testing_data_x)"
   ]
  },
  {
   "cell_type": "code",
   "execution_count": 26,
   "id": "4c0a5485",
   "metadata": {
    "execution": {
     "iopub.execute_input": "2022-09-12T10:14:31.984589Z",
     "iopub.status.busy": "2022-09-12T10:14:31.983818Z",
     "iopub.status.idle": "2022-09-12T10:14:32.200947Z",
     "shell.execute_reply": "2022-09-12T10:14:32.199918Z"
    },
    "papermill": {
     "duration": 0.271049,
     "end_time": "2022-09-12T10:14:32.201111",
     "exception": false,
     "start_time": "2022-09-12T10:14:31.930062",
     "status": "completed"
    },
    "tags": []
   },
   "outputs": [
    {
     "data": {
      "text/plain": [
       "Text(0.5, 1.0, 'Outputs')"
      ]
     },
     "execution_count": 26,
     "metadata": {},
     "output_type": "execute_result"
    },
    {
     "data": {
      "image/png": "[encoded data removed]",
      "text/plain": [
       "<Figure size 576x504 with 1 Axes>"
      ]
     },
     "metadata": {
      "needs_background": "light"
     },
     "output_type": "display_data"
    }
   ],
   "source": [
    "# Plotting the scatter plot of points and color coding by class\n",
    "plt.figure(figsize=(8,7))\n",
    "plt.scatter(testing_plot[:,0], testing_plot[:,1], alpha = 0.1, c = y_test.ravel());\n",
    "plt.title('Outputs')"
   ]
  },
  {
   "cell_type": "markdown",
   "id": "a74fcf8f",
   "metadata": {
    "papermill": {
     "duration": 0.051848,
     "end_time": "2022-09-12T10:14:32.306233",
     "exception": false,
     "start_time": "2022-09-12T10:14:32.254385",
     "status": "completed"
    },
    "tags": []
   },
   "source": [
    "Probability contours"
   ]
  },
  {
   "cell_type": "code",
   "execution_count": 27,
   "id": "d0afc8e3",
   "metadata": {
    "execution": {
     "iopub.execute_input": "2022-09-12T10:14:32.450014Z",
     "iopub.status.busy": "2022-09-12T10:14:32.449319Z",
     "iopub.status.idle": "2022-09-12T10:14:32.464221Z",
     "shell.execute_reply": "2022-09-12T10:14:32.463627Z"
    },
    "papermill": {
     "duration": 0.072945,
     "end_time": "2022-09-12T10:14:32.464362",
     "exception": false,
     "start_time": "2022-09-12T10:14:32.391417",
     "status": "completed"
    },
    "tags": []
   },
   "outputs": [],
   "source": [
    "model_prob = Model(layers[-2:]) "
   ]
  },
  {
   "cell_type": "code",
   "execution_count": 28,
   "id": "9b96e238",
   "metadata": {
    "execution": {
     "iopub.execute_input": "2022-09-12T10:14:32.580866Z",
     "iopub.status.busy": "2022-09-12T10:14:32.580078Z",
     "iopub.status.idle": "2022-09-12T10:14:32.596037Z",
     "shell.execute_reply": "2022-09-12T10:14:32.596606Z"
    },
    "papermill": {
     "duration": 0.082159,
     "end_time": "2022-09-12T10:14:32.596774",
     "exception": false,
     "start_time": "2022-09-12T10:14:32.514615",
     "status": "completed"
    },
    "tags": []
   },
   "outputs": [],
   "source": [
    "#creating the x and y ranges according to the above generated plot.\n",
    "x_range = np.linspace(-4, 1, 100) \n",
    "y_range = np.linspace(-6, 6, 100) \n",
    "x_grid, y_grid = np.meshgrid(x_range, y_range) # x_grid and y_grig are of size 100 X 100\n",
    "\n",
    "# converting x_grid and y_grid to continuous arrays\n",
    "x_gridflat = np.ravel(x_grid)\n",
    "y_gridflat = np.ravel(y_grid)\n",
    "\n",
    "# The last layer of the current model takes two columns as input. Hence transpose of np.vstack() is required.\n",
    "X = np.vstack((x_gridflat, y_gridflat)).T\n",
    "\n",
    "prob_contour = model_prob(X).reshape(100,100) "
   ]
  },
  {
   "cell_type": "code",
   "execution_count": 29,
   "id": "da72499a",
   "metadata": {
    "execution": {
     "iopub.execute_input": "2022-09-12T10:14:32.715694Z",
     "iopub.status.busy": "2022-09-12T10:14:32.714486Z",
     "iopub.status.idle": "2022-09-12T10:14:32.992416Z",
     "shell.execute_reply": "2022-09-12T10:14:32.991726Z"
    },
    "papermill": {
     "duration": 0.342659,
     "end_time": "2022-09-12T10:14:32.992562",
     "exception": false,
     "start_time": "2022-09-12T10:14:32.649903",
     "status": "completed"
    },
    "tags": []
   },
   "outputs": [
    {
     "data": {
      "image/png": "[encoded data removed]",
      "text/plain": [
       "<Figure size 720x648 with 1 Axes>"
      ]
     },
     "metadata": {
      "needs_background": "light"
     },
     "output_type": "display_data"
    }
   ],
   "source": [
    "plt.figure(figsize=(10,9))\n",
    "plt.scatter(testing_plot[:,0], testing_plot[:,1], alpha = 0.1, c = y_test.ravel())\n",
    "contours = plt.contour(x_grid,y_grid,prob_contour)\n",
    "plt.title('Probability Contours')\n",
    "plt.clabel(contours, inline = True );"
   ]
  },
  {
   "cell_type": "code",
   "execution_count": null,
   "id": "e81b4ac7",
   "metadata": {
    "papermill": {
     "duration": 0.05962,
     "end_time": "2022-09-12T10:14:33.109402",
     "exception": false,
     "start_time": "2022-09-12T10:14:33.049782",
     "status": "completed"
    },
    "tags": []
   },
   "outputs": [],
   "source": []
  }
 ],
 "metadata": {
  "kernelspec": {
   "display_name": "Python 3",
   "language": "python",
   "name": "python3"
  },
  "language_info": {
   "codemirror_mode": {
    "name": "ipython",
    "version": 3
   },
   "file_extension": ".py",
   "mimetype": "text/x-python",
   "name": "python",
   "nbconvert_exporter": "python",
   "pygments_lexer": "ipython3",
   "version": "3.6.15"
  },
  "papermill": {
   "default_parameters": {},
   "duration": 115.581175,
   "end_time": "2022-09-12T10:14:33.586836",
   "environment_variables": {},
   "exception": null,
   "input_path": "2020-08-11-part2.ipynb",
   "output_path": "2020-08-11-part2.ipynb",
   "parameters": {},
   "start_time": "2022-09-12T10:12:38.005661",
   "version": "2.3.3"
  }
 },
 "nbformat": 4,
 "nbformat_minor": 5
}