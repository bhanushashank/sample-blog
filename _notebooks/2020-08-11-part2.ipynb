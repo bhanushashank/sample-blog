{
 "cells": [
  {
   "cell_type": "markdown",
   "id": "98380cd3",
   "metadata": {
    "papermill": {
     "duration": 0.030248,
     "end_time": "2022-07-15T20:09:46.550613",
     "exception": false,
     "start_time": "2022-07-15T20:09:46.520365",
     "status": "completed"
    },
    "tags": []
   },
   "source": [
    "# Distinguish Your Own Digits (DYOD)"
   ]
  },
  {
   "cell_type": "markdown",
   "id": "ef31240d",
   "metadata": {
    "papermill": {
     "duration": 0.024596,
     "end_time": "2022-07-15T20:09:46.599618",
     "exception": false,
     "start_time": "2022-07-15T20:09:46.575022",
     "status": "completed"
    },
    "tags": []
   },
   "source": [
    "You are going to write a classifier that distinguishes between the number 3 and number 8."
   ]
  },
  {
   "cell_type": "code",
   "execution_count": 1,
   "id": "b15c8646",
   "metadata": {
    "execution": {
     "iopub.execute_input": "2022-07-15T20:09:46.657608Z",
     "iopub.status.busy": "2022-07-15T20:09:46.656948Z",
     "iopub.status.idle": "2022-07-15T20:09:46.668285Z",
     "shell.execute_reply": "2022-07-15T20:09:46.667776Z"
    },
    "papermill": {
     "duration": 0.045181,
     "end_time": "2022-07-15T20:09:46.668420",
     "exception": false,
     "start_time": "2022-07-15T20:09:46.623239",
     "status": "completed"
    },
    "tags": []
   },
   "outputs": [],
   "source": [
    "%load_ext autoreload\n",
    "%autoreload 2"
   ]
  },
  {
   "cell_type": "code",
   "execution_count": 2,
   "id": "22ef38dc",
   "metadata": {
    "execution": {
     "iopub.execute_input": "2022-07-15T20:09:46.721636Z",
     "iopub.status.busy": "2022-07-15T20:09:46.721012Z",
     "iopub.status.idle": "2022-07-15T20:09:47.277814Z",
     "shell.execute_reply": "2022-07-15T20:09:47.277232Z"
    },
    "papermill": {
     "duration": 0.585643,
     "end_time": "2022-07-15T20:09:47.277953",
     "exception": false,
     "start_time": "2022-07-15T20:09:46.692310",
     "status": "completed"
    },
    "tags": []
   },
   "outputs": [],
   "source": [
    "%matplotlib inline\n",
    "import numpy as np\n",
    "import matplotlib.pyplot as plt\n",
    "import pandas as pd"
   ]
  },
  {
   "cell_type": "markdown",
   "id": "ba036198",
   "metadata": {
    "papermill": {
     "duration": 0.023749,
     "end_time": "2022-07-15T20:09:47.325491",
     "exception": false,
     "start_time": "2022-07-15T20:09:47.301742",
     "status": "completed"
    },
    "tags": []
   },
   "source": [
    "From the command line run `pip install mnist`. This is a library that will help you bring down the mnist dataset. If you run this from a notebook, you need to put  `!pip install mnist` in a cell by itself."
   ]
  },
  {
   "cell_type": "code",
   "execution_count": 3,
   "id": "bb6ad8a1",
   "metadata": {
    "execution": {
     "iopub.execute_input": "2022-07-15T20:09:47.377918Z",
     "iopub.status.busy": "2022-07-15T20:09:47.377272Z",
     "iopub.status.idle": "2022-07-15T20:09:49.030764Z",
     "shell.execute_reply": "2022-07-15T20:09:49.030139Z"
    },
    "papermill": {
     "duration": 1.681583,
     "end_time": "2022-07-15T20:09:49.030907",
     "exception": false,
     "start_time": "2022-07-15T20:09:47.349324",
     "status": "completed"
    },
    "tags": []
   },
   "outputs": [
    {
     "name": "stdout",
     "output_type": "stream",
     "text": [
      "Collecting mnist\r\n"
     ]
    },
    {
     "name": "stdout",
     "output_type": "stream",
     "text": [
      "  Downloading mnist-0.2.2-py2.py3-none-any.whl (3.5 kB)\r\n",
      "Requirement already satisfied: numpy in /opt/hostedtoolcache/Python/3.6.15/x64/lib/python3.6/site-packages (from mnist) (1.19.5)\r\n"
     ]
    },
    {
     "name": "stdout",
     "output_type": "stream",
     "text": [
      "Installing collected packages: mnist\r\n",
      "Successfully installed mnist-0.2.2\r\n"
     ]
    }
   ],
   "source": [
    "!pip install mnist"
   ]
  },
  {
   "cell_type": "markdown",
   "id": "69df9c9a",
   "metadata": {
    "papermill": {
     "duration": 0.024623,
     "end_time": "2022-07-15T20:09:49.080453",
     "exception": false,
     "start_time": "2022-07-15T20:09:49.055830",
     "status": "completed"
    },
    "tags": []
   },
   "source": [
    "## Preparing the Data"
   ]
  },
  {
   "cell_type": "code",
   "execution_count": 4,
   "id": "7f69d806",
   "metadata": {
    "execution": {
     "iopub.execute_input": "2022-07-15T20:09:49.138117Z",
     "iopub.status.busy": "2022-07-15T20:09:49.133224Z",
     "iopub.status.idle": "2022-07-15T20:09:49.148378Z",
     "shell.execute_reply": "2022-07-15T20:09:49.147862Z"
    },
    "papermill": {
     "duration": 0.04353,
     "end_time": "2022-07-15T20:09:49.148507",
     "exception": false,
     "start_time": "2022-07-15T20:09:49.104977",
     "status": "completed"
    },
    "tags": []
   },
   "outputs": [],
   "source": [
    "import mnist"
   ]
  },
  {
   "cell_type": "code",
   "execution_count": 5,
   "id": "a411e44f",
   "metadata": {
    "execution": {
     "iopub.execute_input": "2022-07-15T20:09:49.202774Z",
     "iopub.status.busy": "2022-07-15T20:09:49.202173Z",
     "iopub.status.idle": "2022-07-15T20:09:49.779435Z",
     "shell.execute_reply": "2022-07-15T20:09:49.778918Z"
    },
    "papermill": {
     "duration": 0.606004,
     "end_time": "2022-07-15T20:09:49.779573",
     "exception": false,
     "start_time": "2022-07-15T20:09:49.173569",
     "status": "completed"
    },
    "tags": []
   },
   "outputs": [],
   "source": [
    "train_images = mnist.train_images()\n",
    "train_labels = mnist.train_labels()"
   ]
  },
  {
   "cell_type": "code",
   "execution_count": 6,
   "id": "dceab3a5",
   "metadata": {
    "execution": {
     "iopub.execute_input": "2022-07-15T20:09:49.833627Z",
     "iopub.status.busy": "2022-07-15T20:09:49.832965Z",
     "iopub.status.idle": "2022-07-15T20:09:49.848833Z",
     "shell.execute_reply": "2022-07-15T20:09:49.849342Z"
    },
    "papermill": {
     "duration": 0.045245,
     "end_time": "2022-07-15T20:09:49.849493",
     "exception": false,
     "start_time": "2022-07-15T20:09:49.804248",
     "status": "completed"
    },
    "tags": []
   },
   "outputs": [
    {
     "data": {
      "text/plain": [
       "((60000, 28, 28), (60000,))"
      ]
     },
     "execution_count": 6,
     "metadata": {},
     "output_type": "execute_result"
    }
   ],
   "source": [
    "train_images.shape, train_labels.shape"
   ]
  },
  {
   "cell_type": "code",
   "execution_count": 7,
   "id": "f50dc2bb",
   "metadata": {
    "execution": {
     "iopub.execute_input": "2022-07-15T20:09:49.917716Z",
     "iopub.status.busy": "2022-07-15T20:09:49.914646Z",
     "iopub.status.idle": "2022-07-15T20:09:50.040415Z",
     "shell.execute_reply": "2022-07-15T20:09:50.039793Z"
    },
    "papermill": {
     "duration": 0.165617,
     "end_time": "2022-07-15T20:09:50.040561",
     "exception": false,
     "start_time": "2022-07-15T20:09:49.874944",
     "status": "completed"
    },
    "tags": []
   },
   "outputs": [],
   "source": [
    "test_images = mnist.test_images()\n",
    "test_labels = mnist.test_labels()"
   ]
  },
  {
   "cell_type": "code",
   "execution_count": 8,
   "id": "fc38cf1b",
   "metadata": {
    "execution": {
     "iopub.execute_input": "2022-07-15T20:09:50.098804Z",
     "iopub.status.busy": "2022-07-15T20:09:50.098200Z",
     "iopub.status.idle": "2022-07-15T20:09:50.109719Z",
     "shell.execute_reply": "2022-07-15T20:09:50.109103Z"
    },
    "papermill": {
     "duration": 0.04399,
     "end_time": "2022-07-15T20:09:50.109839",
     "exception": false,
     "start_time": "2022-07-15T20:09:50.065849",
     "status": "completed"
    },
    "tags": []
   },
   "outputs": [
    {
     "data": {
      "text/plain": [
       "((10000, 28, 28), (10000,))"
      ]
     },
     "execution_count": 8,
     "metadata": {},
     "output_type": "execute_result"
    }
   ],
   "source": [
    "test_images.shape, test_labels.shape"
   ]
  },
  {
   "cell_type": "code",
   "execution_count": 9,
   "id": "f9ed8fe0",
   "metadata": {
    "execution": {
     "iopub.execute_input": "2022-07-15T20:09:50.164218Z",
     "iopub.status.busy": "2022-07-15T20:09:50.163619Z",
     "iopub.status.idle": "2022-07-15T20:09:50.303979Z",
     "shell.execute_reply": "2022-07-15T20:09:50.303463Z"
    },
    "papermill": {
     "duration": 0.169393,
     "end_time": "2022-07-15T20:09:50.304108",
     "exception": false,
     "start_time": "2022-07-15T20:09:50.134715",
     "status": "completed"
    },
    "tags": []
   },
   "outputs": [
    {
     "name": "stdout",
     "output_type": "stream",
     "text": [
      "2\n"
     ]
    },
    {
     "data": {
      "text/plain": [
       "<matplotlib.image.AxesImage at 0x7fdb0eeb74a8>"
      ]
     },
     "execution_count": 9,
     "metadata": {},
     "output_type": "execute_result"
    },
    {
     "data": {
      "image/png": "[encoded data removed]",
      "text/plain": [
       "<Figure size 432x288 with 1 Axes>"
      ]
     },
     "metadata": {
      "needs_background": "light"
     },
     "output_type": "display_data"
    }
   ],
   "source": [
    "image_index = 7776 # You may select anything up to 60,000\n",
    "print(train_labels[image_index]) \n",
    "plt.imshow(train_images[image_index], cmap='Greys')"
   ]
  },
  {
   "cell_type": "markdown",
   "id": "a8d2388d",
   "metadata": {
    "papermill": {
     "duration": 0.026384,
     "end_time": "2022-07-15T20:09:50.357673",
     "exception": false,
     "start_time": "2022-07-15T20:09:50.331289",
     "status": "completed"
    },
    "tags": []
   },
   "source": [
    "## Filter data to get 3 and 8 out"
   ]
  },
  {
   "cell_type": "code",
   "execution_count": 10,
   "id": "776f7fc7",
   "metadata": {
    "execution": {
     "iopub.execute_input": "2022-07-15T20:09:50.418606Z",
     "iopub.status.busy": "2022-07-15T20:09:50.415841Z",
     "iopub.status.idle": "2022-07-15T20:09:50.436103Z",
     "shell.execute_reply": "2022-07-15T20:09:50.435367Z"
    },
    "papermill": {
     "duration": 0.052408,
     "end_time": "2022-07-15T20:09:50.436245",
     "exception": false,
     "start_time": "2022-07-15T20:09:50.383837",
     "status": "completed"
    },
    "tags": []
   },
   "outputs": [],
   "source": [
    "train_filter = np.where((train_labels == 3 ) | (train_labels == 8))\n",
    "test_filter = np.where((test_labels == 3) | (test_labels == 8))\n",
    "X_train, y_train = train_images[train_filter], train_labels[train_filter]\n",
    "X_test, y_test = test_images[test_filter], test_labels[test_filter]"
   ]
  },
  {
   "cell_type": "markdown",
   "id": "948f0b7e",
   "metadata": {
    "papermill": {
     "duration": 0.026658,
     "end_time": "2022-07-15T20:09:50.490385",
     "exception": false,
     "start_time": "2022-07-15T20:09:50.463727",
     "status": "completed"
    },
    "tags": []
   },
   "source": [
    "We normalize the pizel values in the 0 to 1 range"
   ]
  },
  {
   "cell_type": "code",
   "execution_count": 11,
   "id": "ee4c2166",
   "metadata": {
    "execution": {
     "iopub.execute_input": "2022-07-15T20:09:50.558275Z",
     "iopub.status.busy": "2022-07-15T20:09:50.549892Z",
     "iopub.status.idle": "2022-07-15T20:09:50.596531Z",
     "shell.execute_reply": "2022-07-15T20:09:50.595943Z"
    },
    "papermill": {
     "duration": 0.079948,
     "end_time": "2022-07-15T20:09:50.596665",
     "exception": false,
     "start_time": "2022-07-15T20:09:50.516717",
     "status": "completed"
    },
    "tags": []
   },
   "outputs": [],
   "source": [
    "X_train = X_train/255.\n",
    "X_test = X_test/255."
   ]
  },
  {
   "cell_type": "markdown",
   "id": "ddcf4fab",
   "metadata": {
    "papermill": {
     "duration": 0.026829,
     "end_time": "2022-07-15T20:09:50.649924",
     "exception": false,
     "start_time": "2022-07-15T20:09:50.623095",
     "status": "completed"
    },
    "tags": []
   },
   "source": [
    "And setup the labels as 1 (when the digit is 3) and 0 (when the digit is 8)"
   ]
  },
  {
   "cell_type": "code",
   "execution_count": 12,
   "id": "7dc908f2",
   "metadata": {
    "execution": {
     "iopub.execute_input": "2022-07-15T20:09:50.706596Z",
     "iopub.status.busy": "2022-07-15T20:09:50.705997Z",
     "iopub.status.idle": "2022-07-15T20:09:50.718771Z",
     "shell.execute_reply": "2022-07-15T20:09:50.719225Z"
    },
    "papermill": {
     "duration": 0.043292,
     "end_time": "2022-07-15T20:09:50.719375",
     "exception": false,
     "start_time": "2022-07-15T20:09:50.676083",
     "status": "completed"
    },
    "tags": []
   },
   "outputs": [],
   "source": [
    "y_train = 1*(y_train==3)\n",
    "y_test = 1*(y_test==3)"
   ]
  },
  {
   "cell_type": "code",
   "execution_count": 13,
   "id": "01e4e969",
   "metadata": {
    "execution": {
     "iopub.execute_input": "2022-07-15T20:09:50.778967Z",
     "iopub.status.busy": "2022-07-15T20:09:50.778350Z",
     "iopub.status.idle": "2022-07-15T20:09:50.790852Z",
     "shell.execute_reply": "2022-07-15T20:09:50.791335Z"
    },
    "papermill": {
     "duration": 0.045841,
     "end_time": "2022-07-15T20:09:50.791481",
     "exception": false,
     "start_time": "2022-07-15T20:09:50.745640",
     "status": "completed"
    },
    "tags": []
   },
   "outputs": [
    {
     "data": {
      "text/plain": [
       "((11982, 28, 28), (1984, 28, 28))"
      ]
     },
     "execution_count": 13,
     "metadata": {},
     "output_type": "execute_result"
    }
   ],
   "source": [
    "X_train.shape, X_test.shape"
   ]
  },
  {
   "cell_type": "markdown",
   "id": "5ccf3f85",
   "metadata": {
    "papermill": {
     "duration": 0.026319,
     "end_time": "2022-07-15T20:09:50.844358",
     "exception": false,
     "start_time": "2022-07-15T20:09:50.818039",
     "status": "completed"
    },
    "tags": []
   },
   "source": [
    "We reshape the data to flatten the image pixels into a set of features or co-variates:"
   ]
  },
  {
   "cell_type": "code",
   "execution_count": 14,
   "id": "5286a4a3",
   "metadata": {
    "execution": {
     "iopub.execute_input": "2022-07-15T20:09:50.905052Z",
     "iopub.status.busy": "2022-07-15T20:09:50.904430Z",
     "iopub.status.idle": "2022-07-15T20:09:50.918275Z",
     "shell.execute_reply": "2022-07-15T20:09:50.918979Z"
    },
    "papermill": {
     "duration": 0.047872,
     "end_time": "2022-07-15T20:09:50.919131",
     "exception": false,
     "start_time": "2022-07-15T20:09:50.871259",
     "status": "completed"
    },
    "tags": []
   },
   "outputs": [
    {
     "data": {
      "text/plain": [
       "((11982, 784), (1984, 784))"
      ]
     },
     "execution_count": 14,
     "metadata": {},
     "output_type": "execute_result"
    }
   ],
   "source": [
    "X_train = X_train.reshape(X_train.shape[0], -1)\n",
    "X_test = X_test.reshape(X_test.shape[0], -1)\n",
    "X_train.shape, X_test.shape"
   ]
  },
  {
   "cell_type": "code",
   "execution_count": 15,
   "id": "73c5f88a",
   "metadata": {
    "execution": {
     "iopub.execute_input": "2022-07-15T20:09:50.979137Z",
     "iopub.status.busy": "2022-07-15T20:09:50.978531Z",
     "iopub.status.idle": "2022-07-15T20:09:50.996591Z",
     "shell.execute_reply": "2022-07-15T20:09:50.996117Z"
    },
    "papermill": {
     "duration": 0.050762,
     "end_time": "2022-07-15T20:09:50.996721",
     "exception": false,
     "start_time": "2022-07-15T20:09:50.945959",
     "status": "completed"
    },
    "tags": []
   },
   "outputs": [],
   "source": [
    "#Impoting functions from 'Kudzu'\n",
    "from kudzu.model import Model\n",
    "from kudzu.train import Learner\n",
    "from kudzu.optim import GD\n",
    "from kudzu.data import Data, Sampler,Dataloader\n",
    "\n",
    "from kudzu.callbacks import AccCallback\n",
    "from kudzu.callbacks import ClfCallback\n",
    "\n",
    "from kudzu.loss import MSE\n",
    "\n",
    "from kudzu.layer import Sigmoid,Relu\n",
    "from kudzu.layer import Affine"
   ]
  },
  {
   "cell_type": "markdown",
   "id": "bc01172a",
   "metadata": {
    "papermill": {
     "duration": 0.026853,
     "end_time": "2022-07-15T20:09:51.050596",
     "exception": false,
     "start_time": "2022-07-15T20:09:51.023743",
     "status": "completed"
    },
    "tags": []
   },
   "source": [
    "### Let us create a `Config` class, to store important parameters. \n",
    "This class essentially plays the role of a dictionary."
   ]
  },
  {
   "cell_type": "code",
   "execution_count": 16,
   "id": "978281aa",
   "metadata": {
    "execution": {
     "iopub.execute_input": "2022-07-15T20:09:51.124171Z",
     "iopub.status.busy": "2022-07-15T20:09:51.123526Z",
     "iopub.status.idle": "2022-07-15T20:09:51.127368Z",
     "shell.execute_reply": "2022-07-15T20:09:51.127822Z"
    },
    "papermill": {
     "duration": 0.050635,
     "end_time": "2022-07-15T20:09:51.127965",
     "exception": false,
     "start_time": "2022-07-15T20:09:51.077330",
     "status": "completed"
    },
    "tags": []
   },
   "outputs": [],
   "source": [
    "class Config:\n",
    "    pass\n",
    "config = Config()\n",
    "config.lr = 0.001\n",
    "config.num_epochs = 250\n",
    "config.bs = 50"
   ]
  },
  {
   "cell_type": "markdown",
   "id": "1385fa59",
   "metadata": {
    "papermill": {
     "duration": 0.026708,
     "end_time": "2022-07-15T20:09:51.181740",
     "exception": false,
     "start_time": "2022-07-15T20:09:51.155032",
     "status": "completed"
    },
    "tags": []
   },
   "source": [
    "### Running Models with the Training data\n",
    "Details about the network layers:\n",
    "- A first affine layer has 784 inputs and does 100 affine transforms. These are followed by a Relu\n",
    "- A second affine layer has 100 inputs from the 100 activations of the past layer, and does 100 affine transforms. These are followed by a Relu\n",
    "- A third affine layer has 100 activations and does 2 affine transformations to create an embedding for visualization. There is no non-linearity here.\n",
    "- A final \"logistic regression\" which has an affine transform from 2 inputs to 1 output, which is squeezed through a sigmoid.\n"
   ]
  },
  {
   "cell_type": "code",
   "execution_count": 17,
   "id": "2b9c66db",
   "metadata": {
    "execution": {
     "iopub.execute_input": "2022-07-15T20:09:51.242223Z",
     "iopub.status.busy": "2022-07-15T20:09:51.239232Z",
     "iopub.status.idle": "2022-07-15T20:09:51.252930Z",
     "shell.execute_reply": "2022-07-15T20:09:51.252423Z"
    },
    "papermill": {
     "duration": 0.044629,
     "end_time": "2022-07-15T20:09:51.253056",
     "exception": false,
     "start_time": "2022-07-15T20:09:51.208427",
     "status": "completed"
    },
    "tags": []
   },
   "outputs": [],
   "source": [
    "data = Data(X_train, y_train.reshape(-1,1))\n",
    "sampler = Sampler(data, config.bs, shuffle=True)\n",
    "\n",
    "dl = Dataloader(data, sampler)\n",
    "\n",
    "opt = GD(config.lr)\n",
    "loss = MSE()"
   ]
  },
  {
   "cell_type": "code",
   "execution_count": 18,
   "id": "b275e4c2",
   "metadata": {
    "execution": {
     "iopub.execute_input": "2022-07-15T20:09:51.312889Z",
     "iopub.status.busy": "2022-07-15T20:09:51.312294Z",
     "iopub.status.idle": "2022-07-15T20:09:51.326940Z",
     "shell.execute_reply": "2022-07-15T20:09:51.326445Z"
    },
    "papermill": {
     "duration": 0.04679,
     "end_time": "2022-07-15T20:09:51.327064",
     "exception": false,
     "start_time": "2022-07-15T20:09:51.280274",
     "status": "completed"
    },
    "tags": []
   },
   "outputs": [],
   "source": [
    "training_data_x = X_train\n",
    "testing_data_x = X_test\n",
    "training_data_y = y_train.reshape(-1,1)\n",
    "testing_data_y = y_test.reshape(-1,1)"
   ]
  },
  {
   "cell_type": "code",
   "execution_count": 19,
   "id": "76951160",
   "metadata": {
    "execution": {
     "iopub.execute_input": "2022-07-15T20:09:51.398735Z",
     "iopub.status.busy": "2022-07-15T20:09:51.394237Z",
     "iopub.status.idle": "2022-07-15T20:09:51.405303Z",
     "shell.execute_reply": "2022-07-15T20:09:51.404712Z"
    },
    "papermill": {
     "duration": 0.051673,
     "end_time": "2022-07-15T20:09:51.405432",
     "exception": false,
     "start_time": "2022-07-15T20:09:51.353759",
     "status": "completed"
    },
    "tags": []
   },
   "outputs": [
    {
     "name": "stdout",
     "output_type": "stream",
     "text": [
      "xavier\n",
      "xavier\n",
      "xavier\n",
      "xavier\n",
      "xavier\n"
     ]
    }
   ],
   "source": [
    "layers = [Affine(\"first\", 784, 100), Relu(\"first\"), Affine(\"second\", 100, 100), Relu(\"second\"), Affine(\"third\", 100, 2), Affine(\"last\", 2, 1), Sigmoid(\"last\")]\n",
    "model_nn = Model(layers)\n",
    "model_lr = Model([Affine(\"logits\", 784, 1), Sigmoid(\"sigmoid\")])"
   ]
  },
  {
   "cell_type": "code",
   "execution_count": 20,
   "id": "6eede77a",
   "metadata": {
    "execution": {
     "iopub.execute_input": "2022-07-15T20:09:51.478999Z",
     "iopub.status.busy": "2022-07-15T20:09:51.478361Z",
     "iopub.status.idle": "2022-07-15T20:09:51.483639Z",
     "shell.execute_reply": "2022-07-15T20:09:51.484426Z"
    },
    "papermill": {
     "duration": 0.051961,
     "end_time": "2022-07-15T20:09:51.484587",
     "exception": false,
     "start_time": "2022-07-15T20:09:51.432626",
     "status": "completed"
    },
    "tags": []
   },
   "outputs": [],
   "source": [
    "nn_learner = Learner(loss, model_nn, opt, config.num_epochs)\n",
    "acc_nn = ClfCallback(nn_learner, config.bs, training_data_x , testing_data_x, training_data_y, testing_data_y)\n",
    "nn_learner.set_callbacks([acc_nn])"
   ]
  },
  {
   "cell_type": "code",
   "execution_count": 21,
   "id": "877b6cc7",
   "metadata": {
    "execution": {
     "iopub.execute_input": "2022-07-15T20:09:51.557791Z",
     "iopub.status.busy": "2022-07-15T20:09:51.554280Z",
     "iopub.status.idle": "2022-07-15T20:09:51.560124Z",
     "shell.execute_reply": "2022-07-15T20:09:51.560555Z"
    },
    "papermill": {
     "duration": 0.048873,
     "end_time": "2022-07-15T20:09:51.560705",
     "exception": false,
     "start_time": "2022-07-15T20:09:51.511832",
     "status": "completed"
    },
    "tags": []
   },
   "outputs": [],
   "source": [
    "lr_learner = Learner(loss, model_lr, opt, config.num_epochs)\n",
    "acc_lr = ClfCallback(lr_learner, config.bs, training_data_x , testing_data_x, training_data_y, testing_data_y)\n",
    "lr_learner.set_callbacks([acc_lr])"
   ]
  },
  {
   "cell_type": "code",
   "execution_count": 22,
   "id": "d9b133c3",
   "metadata": {
    "execution": {
     "iopub.execute_input": "2022-07-15T20:09:51.619847Z",
     "iopub.status.busy": "2022-07-15T20:09:51.619253Z",
     "iopub.status.idle": "2022-07-15T20:11:09.135745Z",
     "shell.execute_reply": "2022-07-15T20:11:09.136617Z"
    },
    "papermill": {
     "duration": 77.548446,
     "end_time": "2022-07-15T20:11:09.136784",
     "exception": false,
     "start_time": "2022-07-15T20:09:51.588338",
     "status": "completed"
    },
    "tags": []
   },
   "outputs": [
    {
     "name": "stdout",
     "output_type": "stream",
     "text": [
      "Epoch 0, Loss 0.2059\n",
      "Training Accuracy: 0.8059, Testing Accuracy: 0.8286\n",
      "\n"
     ]
    },
    {
     "name": "stdout",
     "output_type": "stream",
     "text": [
      "Epoch 10, Loss 0.0506\n",
      "Training Accuracy: 0.9488, Testing Accuracy: 0.9556\n",
      "\n"
     ]
    },
    {
     "name": "stdout",
     "output_type": "stream",
     "text": [
      "Epoch 20, Loss 0.037\n",
      "Training Accuracy: 0.9598, Testing Accuracy: 0.9642\n",
      "\n"
     ]
    },
    {
     "name": "stdout",
     "output_type": "stream",
     "text": [
      "Epoch 30, Loss 0.0316\n",
      "Training Accuracy: 0.9648, Testing Accuracy: 0.9672\n",
      "\n"
     ]
    },
    {
     "name": "stdout",
     "output_type": "stream",
     "text": [
      "Epoch 40, Loss 0.0284\n",
      "Training Accuracy: 0.9680, Testing Accuracy: 0.9698\n",
      "\n"
     ]
    },
    {
     "name": "stdout",
     "output_type": "stream",
     "text": [
      "Epoch 50, Loss 0.0262\n",
      "Training Accuracy: 0.9696, Testing Accuracy: 0.9713\n",
      "\n"
     ]
    },
    {
     "name": "stdout",
     "output_type": "stream",
     "text": [
      "Epoch 60, Loss 0.0246\n",
      "Training Accuracy: 0.9720, Testing Accuracy: 0.9713\n",
      "\n"
     ]
    },
    {
     "name": "stdout",
     "output_type": "stream",
     "text": [
      "Epoch 70, Loss 0.0233\n",
      "Training Accuracy: 0.9735, Testing Accuracy: 0.9718\n",
      "\n"
     ]
    },
    {
     "name": "stdout",
     "output_type": "stream",
     "text": [
      "Epoch 80, Loss 0.0222\n",
      "Training Accuracy: 0.9748, Testing Accuracy: 0.9733\n",
      "\n"
     ]
    },
    {
     "name": "stdout",
     "output_type": "stream",
     "text": [
      "Epoch 90, Loss 0.0213\n",
      "Training Accuracy: 0.9762, Testing Accuracy: 0.9738\n",
      "\n"
     ]
    },
    {
     "name": "stdout",
     "output_type": "stream",
     "text": [
      "Epoch 100, Loss 0.0205\n",
      "Training Accuracy: 0.9771, Testing Accuracy: 0.9738\n",
      "\n"
     ]
    },
    {
     "name": "stdout",
     "output_type": "stream",
     "text": [
      "Epoch 110, Loss 0.0198\n",
      "Training Accuracy: 0.9778, Testing Accuracy: 0.9743\n",
      "\n"
     ]
    },
    {
     "name": "stdout",
     "output_type": "stream",
     "text": [
      "Epoch 120, Loss 0.0191\n",
      "Training Accuracy: 0.9786, Testing Accuracy: 0.9743\n",
      "\n"
     ]
    },
    {
     "name": "stdout",
     "output_type": "stream",
     "text": [
      "Epoch 130, Loss 0.0185\n",
      "Training Accuracy: 0.9792, Testing Accuracy: 0.9748\n",
      "\n"
     ]
    },
    {
     "name": "stdout",
     "output_type": "stream",
     "text": [
      "Epoch 140, Loss 0.0179\n",
      "Training Accuracy: 0.9800, Testing Accuracy: 0.9763\n",
      "\n"
     ]
    },
    {
     "name": "stdout",
     "output_type": "stream",
     "text": [
      "Epoch 150, Loss 0.0174\n",
      "Training Accuracy: 0.9806, Testing Accuracy: 0.9763\n",
      "\n"
     ]
    },
    {
     "name": "stdout",
     "output_type": "stream",
     "text": [
      "Epoch 160, Loss 0.0169\n",
      "Training Accuracy: 0.9810, Testing Accuracy: 0.9768\n",
      "\n"
     ]
    },
    {
     "name": "stdout",
     "output_type": "stream",
     "text": [
      "Epoch 170, Loss 0.0164\n",
      "Training Accuracy: 0.9822, Testing Accuracy: 0.9763\n",
      "\n"
     ]
    },
    {
     "name": "stdout",
     "output_type": "stream",
     "text": [
      "Epoch 180, Loss 0.016\n",
      "Training Accuracy: 0.9825, Testing Accuracy: 0.9778\n",
      "\n"
     ]
    },
    {
     "name": "stdout",
     "output_type": "stream",
     "text": [
      "Epoch 190, Loss 0.0156\n",
      "Training Accuracy: 0.9829, Testing Accuracy: 0.9783\n",
      "\n"
     ]
    },
    {
     "name": "stdout",
     "output_type": "stream",
     "text": [
      "Epoch 200, Loss 0.0151\n",
      "Training Accuracy: 0.9831, Testing Accuracy: 0.9783\n",
      "\n"
     ]
    },
    {
     "name": "stdout",
     "output_type": "stream",
     "text": [
      "Epoch 210, Loss 0.0147\n",
      "Training Accuracy: 0.9836, Testing Accuracy: 0.9783\n",
      "\n"
     ]
    },
    {
     "name": "stdout",
     "output_type": "stream",
     "text": [
      "Epoch 220, Loss 0.0143\n",
      "Training Accuracy: 0.9840, Testing Accuracy: 0.9798\n",
      "\n"
     ]
    },
    {
     "name": "stdout",
     "output_type": "stream",
     "text": [
      "Epoch 230, Loss 0.014\n",
      "Training Accuracy: 0.9841, Testing Accuracy: 0.9798\n",
      "\n"
     ]
    },
    {
     "name": "stdout",
     "output_type": "stream",
     "text": [
      "Epoch 240, Loss 0.0136\n",
      "Training Accuracy: 0.9849, Testing Accuracy: 0.9803\n",
      "\n"
     ]
    },
    {
     "data": {
      "text/plain": [
       "0.03180362879798856"
      ]
     },
     "execution_count": 22,
     "metadata": {},
     "output_type": "execute_result"
    }
   ],
   "source": [
    "nn_learner.train_loop(dl)"
   ]
  },
  {
   "cell_type": "code",
   "execution_count": 23,
   "id": "e0163366",
   "metadata": {
    "execution": {
     "iopub.execute_input": "2022-07-15T20:11:09.218944Z",
     "iopub.status.busy": "2022-07-15T20:11:09.218334Z",
     "iopub.status.idle": "2022-07-15T20:11:23.508249Z",
     "shell.execute_reply": "2022-07-15T20:11:23.509099Z"
    },
    "papermill": {
     "duration": 14.33699,
     "end_time": "2022-07-15T20:11:23.509260",
     "exception": false,
     "start_time": "2022-07-15T20:11:09.172270",
     "status": "completed"
    },
    "tags": []
   },
   "outputs": [
    {
     "name": "stdout",
     "output_type": "stream",
     "text": [
      "Epoch 0, Loss 0.2412\n",
      "Training Accuracy: 0.6911, Testing Accuracy: 0.6900\n",
      "\n"
     ]
    },
    {
     "name": "stdout",
     "output_type": "stream",
     "text": [
      "Epoch 10, Loss 0.1042\n",
      "Training Accuracy: 0.9053, Testing Accuracy: 0.9168\n",
      "\n"
     ]
    },
    {
     "name": "stdout",
     "output_type": "stream",
     "text": [
      "Epoch 20, Loss 0.0798\n",
      "Training Accuracy: 0.9268, Testing Accuracy: 0.9425\n",
      "\n"
     ]
    },
    {
     "name": "stdout",
     "output_type": "stream",
     "text": [
      "Epoch 30, Loss 0.0684\n",
      "Training Accuracy: 0.9366, Testing Accuracy: 0.9491\n",
      "\n"
     ]
    },
    {
     "name": "stdout",
     "output_type": "stream",
     "text": [
      "Epoch 40, Loss 0.0617\n",
      "Training Accuracy: 0.9418, Testing Accuracy: 0.9521\n",
      "\n"
     ]
    },
    {
     "name": "stdout",
     "output_type": "stream",
     "text": [
      "Epoch 50, Loss 0.0571\n",
      "Training Accuracy: 0.9448, Testing Accuracy: 0.9546\n",
      "\n"
     ]
    },
    {
     "name": "stdout",
     "output_type": "stream",
     "text": [
      "Epoch 60, Loss 0.0537\n",
      "Training Accuracy: 0.9479, Testing Accuracy: 0.9597\n",
      "\n"
     ]
    },
    {
     "name": "stdout",
     "output_type": "stream",
     "text": [
      "Epoch 70, Loss 0.0511\n",
      "Training Accuracy: 0.9498, Testing Accuracy: 0.9587\n",
      "\n"
     ]
    },
    {
     "name": "stdout",
     "output_type": "stream",
     "text": [
      "Epoch 80, Loss 0.049\n",
      "Training Accuracy: 0.9511, Testing Accuracy: 0.9592\n",
      "\n"
     ]
    },
    {
     "name": "stdout",
     "output_type": "stream",
     "text": [
      "Epoch 90, Loss 0.0473\n",
      "Training Accuracy: 0.9530, Testing Accuracy: 0.9597\n",
      "\n"
     ]
    },
    {
     "name": "stdout",
     "output_type": "stream",
     "text": [
      "Epoch 100, Loss 0.0459\n",
      "Training Accuracy: 0.9541, Testing Accuracy: 0.9612\n",
      "\n"
     ]
    },
    {
     "name": "stdout",
     "output_type": "stream",
     "text": [
      "Epoch 110, Loss 0.0447\n",
      "Training Accuracy: 0.9548, Testing Accuracy: 0.9642\n",
      "\n"
     ]
    },
    {
     "name": "stdout",
     "output_type": "stream",
     "text": [
      "Epoch 120, Loss 0.0436\n",
      "Training Accuracy: 0.9559, Testing Accuracy: 0.9652\n",
      "\n"
     ]
    },
    {
     "name": "stdout",
     "output_type": "stream",
     "text": [
      "Epoch 130, Loss 0.0427\n",
      "Training Accuracy: 0.9567, Testing Accuracy: 0.9662\n",
      "\n"
     ]
    },
    {
     "name": "stdout",
     "output_type": "stream",
     "text": [
      "Epoch 140, Loss 0.0419\n",
      "Training Accuracy: 0.9573, Testing Accuracy: 0.9667\n",
      "\n"
     ]
    },
    {
     "name": "stdout",
     "output_type": "stream",
     "text": [
      "Epoch 150, Loss 0.0411\n",
      "Training Accuracy: 0.9578, Testing Accuracy: 0.9667\n",
      "\n"
     ]
    },
    {
     "name": "stdout",
     "output_type": "stream",
     "text": [
      "Epoch 160, Loss 0.0405\n",
      "Training Accuracy: 0.9584, Testing Accuracy: 0.9672\n",
      "\n"
     ]
    },
    {
     "name": "stdout",
     "output_type": "stream",
     "text": [
      "Epoch 170, Loss 0.0399\n",
      "Training Accuracy: 0.9588, Testing Accuracy: 0.9672\n",
      "\n"
     ]
    },
    {
     "name": "stdout",
     "output_type": "stream",
     "text": [
      "Epoch 180, Loss 0.0393\n",
      "Training Accuracy: 0.9591, Testing Accuracy: 0.9677\n",
      "\n"
     ]
    },
    {
     "name": "stdout",
     "output_type": "stream",
     "text": [
      "Epoch 190, Loss 0.0388\n",
      "Training Accuracy: 0.9594, Testing Accuracy: 0.9672\n",
      "\n"
     ]
    },
    {
     "name": "stdout",
     "output_type": "stream",
     "text": [
      "Epoch 200, Loss 0.0383\n",
      "Training Accuracy: 0.9599, Testing Accuracy: 0.9667\n",
      "\n"
     ]
    },
    {
     "name": "stdout",
     "output_type": "stream",
     "text": [
      "Epoch 210, Loss 0.0379\n",
      "Training Accuracy: 0.9604, Testing Accuracy: 0.9667\n",
      "\n"
     ]
    },
    {
     "name": "stdout",
     "output_type": "stream",
     "text": [
      "Epoch 220, Loss 0.0375\n",
      "Training Accuracy: 0.9607, Testing Accuracy: 0.9667\n",
      "\n"
     ]
    },
    {
     "name": "stdout",
     "output_type": "stream",
     "text": [
      "Epoch 230, Loss 0.0371\n",
      "Training Accuracy: 0.9609, Testing Accuracy: 0.9667\n",
      "\n"
     ]
    },
    {
     "name": "stdout",
     "output_type": "stream",
     "text": [
      "Epoch 240, Loss 0.0367\n",
      "Training Accuracy: 0.9614, Testing Accuracy: 0.9672\n",
      "\n"
     ]
    },
    {
     "data": {
      "text/plain": [
       "0.07197992954230154"
      ]
     },
     "execution_count": 23,
     "metadata": {},
     "output_type": "execute_result"
    }
   ],
   "source": [
    "lr_learner.train_loop(dl)"
   ]
  },
  {
   "cell_type": "code",
   "execution_count": 24,
   "id": "ca410940",
   "metadata": {
    "execution": {
     "iopub.execute_input": "2022-07-15T20:11:23.602982Z",
     "iopub.status.busy": "2022-07-15T20:11:23.602355Z",
     "iopub.status.idle": "2022-07-15T20:11:23.834109Z",
     "shell.execute_reply": "2022-07-15T20:11:23.834592Z"
    },
    "papermill": {
     "duration": 0.283222,
     "end_time": "2022-07-15T20:11:23.834741",
     "exception": false,
     "start_time": "2022-07-15T20:11:23.551519",
     "status": "completed"
    },
    "tags": []
   },
   "outputs": [
    {
     "data": {
      "text/plain": [
       "<matplotlib.legend.Legend at 0x7fdb0ea16b70>"
      ]
     },
     "execution_count": 24,
     "metadata": {},
     "output_type": "execute_result"
    },
    {
     "data": {
      "image/png": "[encoded data removed]",
      "text/plain": [
       "<Figure size 1080x720 with 1 Axes>"
      ]
     },
     "metadata": {
      "needs_background": "light"
     },
     "output_type": "display_data"
    }
   ],
   "source": [
    "#comparing the results of NN and LR\n",
    "plt.figure(figsize=(15,10))\n",
    "\n",
    "# Neural Network plots\n",
    "plt.plot(acc_nn.accuracies, 'r-', label = \"Training Accuracies - NN\")\n",
    "plt.plot(acc_nn.test_accuracies, 'g-', label = \"Testing Accuracies - NN\")\n",
    "\n",
    "# Logistic Regression plots\n",
    "plt.plot(acc_lr.accuracies, 'k-', label = \"Training Accuracies - LR\")\n",
    "plt.plot(acc_lr.test_accuracies, 'b-', label = \"Testing Accuracies - LR\")\n",
    "plt.legend()"
   ]
  },
  {
   "cell_type": "markdown",
   "id": "80dfb35c",
   "metadata": {
    "papermill": {
     "duration": 0.041627,
     "end_time": "2022-07-15T20:11:23.918384",
     "exception": false,
     "start_time": "2022-07-15T20:11:23.876757",
     "status": "completed"
    },
    "tags": []
   },
   "source": [
    "#### Plotting the outputs of this layer of the NN.\n"
   ]
  },
  {
   "cell_type": "code",
   "execution_count": 25,
   "id": "45eb2ff5",
   "metadata": {
    "execution": {
     "iopub.execute_input": "2022-07-15T20:11:24.008950Z",
     "iopub.status.busy": "2022-07-15T20:11:24.008319Z",
     "iopub.status.idle": "2022-07-15T20:11:24.033049Z",
     "shell.execute_reply": "2022-07-15T20:11:24.033578Z"
    },
    "papermill": {
     "duration": 0.073129,
     "end_time": "2022-07-15T20:11:24.033734",
     "exception": false,
     "start_time": "2022-07-15T20:11:23.960605",
     "status": "completed"
    },
    "tags": []
   },
   "outputs": [],
   "source": [
    "new_model = Model(layers[:-2])\n",
    "testing_plot = new_model(testing_data_x)"
   ]
  },
  {
   "cell_type": "code",
   "execution_count": 26,
   "id": "4c0a5485",
   "metadata": {
    "execution": {
     "iopub.execute_input": "2022-07-15T20:11:24.126468Z",
     "iopub.status.busy": "2022-07-15T20:11:24.124897Z",
     "iopub.status.idle": "2022-07-15T20:11:24.332509Z",
     "shell.execute_reply": "2022-07-15T20:11:24.331907Z"
    },
    "papermill": {
     "duration": 0.255928,
     "end_time": "2022-07-15T20:11:24.332638",
     "exception": false,
     "start_time": "2022-07-15T20:11:24.076710",
     "status": "completed"
    },
    "tags": []
   },
   "outputs": [
    {
     "data": {
      "text/plain": [
       "Text(0.5, 1.0, 'Outputs')"
      ]
     },
     "execution_count": 26,
     "metadata": {},
     "output_type": "execute_result"
    },
    {
     "data": {
      "image/png": "[encoded data removed]",
      "text/plain": [
       "<Figure size 576x504 with 1 Axes>"
      ]
     },
     "metadata": {
      "needs_background": "light"
     },
     "output_type": "display_data"
    }
   ],
   "source": [
    "# Plotting the scatter plot of points and color coding by class\n",
    "plt.figure(figsize=(8,7))\n",
    "plt.scatter(testing_plot[:,0], testing_plot[:,1], alpha = 0.1, c = y_test.ravel());\n",
    "plt.title('Outputs')"
   ]
  },
  {
   "cell_type": "markdown",
   "id": "a74fcf8f",
   "metadata": {
    "papermill": {
     "duration": 0.045374,
     "end_time": "2022-07-15T20:11:24.422569",
     "exception": false,
     "start_time": "2022-07-15T20:11:24.377195",
     "status": "completed"
    },
    "tags": []
   },
   "source": [
    "Probability contours"
   ]
  },
  {
   "cell_type": "code",
   "execution_count": 27,
   "id": "d0afc8e3",
   "metadata": {
    "execution": {
     "iopub.execute_input": "2022-07-15T20:11:24.517016Z",
     "iopub.status.busy": "2022-07-15T20:11:24.516393Z",
     "iopub.status.idle": "2022-07-15T20:11:24.532638Z",
     "shell.execute_reply": "2022-07-15T20:11:24.533108Z"
    },
    "papermill": {
     "duration": 0.065864,
     "end_time": "2022-07-15T20:11:24.533260",
     "exception": false,
     "start_time": "2022-07-15T20:11:24.467396",
     "status": "completed"
    },
    "tags": []
   },
   "outputs": [],
   "source": [
    "model_prob = Model(layers[-2:]) "
   ]
  },
  {
   "cell_type": "code",
   "execution_count": 28,
   "id": "9b96e238",
   "metadata": {
    "execution": {
     "iopub.execute_input": "2022-07-15T20:11:24.642138Z",
     "iopub.status.busy": "2022-07-15T20:11:24.629869Z",
     "iopub.status.idle": "2022-07-15T20:11:24.653088Z",
     "shell.execute_reply": "2022-07-15T20:11:24.652006Z"
    },
    "papermill": {
     "duration": 0.07561,
     "end_time": "2022-07-15T20:11:24.653218",
     "exception": false,
     "start_time": "2022-07-15T20:11:24.577608",
     "status": "completed"
    },
    "tags": []
   },
   "outputs": [],
   "source": [
    "#creating the x and y ranges according to the above generated plot.\n",
    "x_range = np.linspace(-4, 1, 100) \n",
    "y_range = np.linspace(-6, 6, 100) \n",
    "x_grid, y_grid = np.meshgrid(x_range, y_range) # x_grid and y_grig are of size 100 X 100\n",
    "\n",
    "# converting x_grid and y_grid to continuous arrays\n",
    "x_gridflat = np.ravel(x_grid)\n",
    "y_gridflat = np.ravel(y_grid)\n",
    "\n",
    "# The last layer of the current model takes two columns as input. Hence transpose of np.vstack() is required.\n",
    "X = np.vstack((x_gridflat, y_gridflat)).T\n",
    "\n",
    "prob_contour = model_prob(X).reshape(100,100) "
   ]
  },
  {
   "cell_type": "code",
   "execution_count": 29,
   "id": "da72499a",
   "metadata": {
    "execution": {
     "iopub.execute_input": "2022-07-15T20:11:24.780341Z",
     "iopub.status.busy": "2022-07-15T20:11:24.779646Z",
     "iopub.status.idle": "2022-07-15T20:11:25.031796Z",
     "shell.execute_reply": "2022-07-15T20:11:25.031309Z"
    },
    "papermill": {
     "duration": 0.300994,
     "end_time": "2022-07-15T20:11:25.031932",
     "exception": false,
     "start_time": "2022-07-15T20:11:24.730938",
     "status": "completed"
    },
    "tags": []
   },
   "outputs": [
    {
     "data": {
      "image/png": "[encoded data removed]",
      "text/plain": [
       "<Figure size 720x648 with 1 Axes>"
      ]
     },
     "metadata": {
      "needs_background": "light"
     },
     "output_type": "display_data"
    }
   ],
   "source": [
    "plt.figure(figsize=(10,9))\n",
    "plt.scatter(testing_plot[:,0], testing_plot[:,1], alpha = 0.1, c = y_test.ravel())\n",
    "contours = plt.contour(x_grid,y_grid,prob_contour)\n",
    "plt.title('Probability Contours')\n",
    "plt.clabel(contours, inline = True );"
   ]
  },
  {
   "cell_type": "code",
   "execution_count": null,
   "id": "e81b4ac7",
   "metadata": {
    "papermill": {
     "duration": 0.046974,
     "end_time": "2022-07-15T20:11:25.126787",
     "exception": false,
     "start_time": "2022-07-15T20:11:25.079813",
     "status": "completed"
    },
    "tags": []
   },
   "outputs": [],
   "source": []
  }
 ],
 "metadata": {
  "kernelspec": {
   "display_name": "Python 3",
   "language": "python",
   "name": "python3"
  },
  "language_info": {
   "codemirror_mode": {
    "name": "ipython",
    "version": 3
   },
   "file_extension": ".py",
   "mimetype": "text/x-python",
   "name": "python",
   "nbconvert_exporter": "python",
   "pygments_lexer": "ipython3",
   "version": "3.6.15"
  },
  "papermill": {
   "default_parameters": {},
   "duration": 100.020645,
   "end_time": "2022-07-15T20:11:25.593056",
   "environment_variables": {},
   "exception": null,
   "input_path": "2020-08-11-part2.ipynb",
   "output_path": "2020-08-11-part2.ipynb",
   "parameters": {},
   "start_time": "2022-07-15T20:09:45.572411",
   "version": "2.3.3"
  }
 },
 "nbformat": 4,
 "nbformat_minor": 5
}