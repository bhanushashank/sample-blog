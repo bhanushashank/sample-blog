{
 "cells": [
  {
   "cell_type": "markdown",
   "id": "98380cd3",
   "metadata": {
    "papermill": {
     "duration": 0.043288,
     "end_time": "2022-10-13T10:12:31.418832",
     "exception": false,
     "start_time": "2022-10-13T10:12:31.375544",
     "status": "completed"
    },
    "tags": []
   },
   "source": [
    "# Distinguish Your Own Digits (DYOD)"
   ]
  },
  {
   "cell_type": "markdown",
   "id": "ef31240d",
   "metadata": {
    "papermill": {
     "duration": 0.02412,
     "end_time": "2022-10-13T10:12:31.468294",
     "exception": false,
     "start_time": "2022-10-13T10:12:31.444174",
     "status": "completed"
    },
    "tags": []
   },
   "source": [
    "You are going to write a classifier that distinguishes between the number 3 and number 8."
   ]
  },
  {
   "cell_type": "code",
   "execution_count": 1,
   "id": "b15c8646",
   "metadata": {
    "execution": {
     "iopub.execute_input": "2022-10-13T10:12:31.526329Z",
     "iopub.status.busy": "2022-10-13T10:12:31.524172Z",
     "iopub.status.idle": "2022-10-13T10:12:31.536630Z",
     "shell.execute_reply": "2022-10-13T10:12:31.536167Z"
    },
    "papermill": {
     "duration": 0.044616,
     "end_time": "2022-10-13T10:12:31.536742",
     "exception": false,
     "start_time": "2022-10-13T10:12:31.492126",
     "status": "completed"
    },
    "tags": []
   },
   "outputs": [],
   "source": [
    "%load_ext autoreload\n",
    "%autoreload 2"
   ]
  },
  {
   "cell_type": "code",
   "execution_count": 2,
   "id": "22ef38dc",
   "metadata": {
    "execution": {
     "iopub.execute_input": "2022-10-13T10:12:31.588300Z",
     "iopub.status.busy": "2022-10-13T10:12:31.587737Z",
     "iopub.status.idle": "2022-10-13T10:12:32.085383Z",
     "shell.execute_reply": "2022-10-13T10:12:32.084439Z"
    },
    "papermill": {
     "duration": 0.524839,
     "end_time": "2022-10-13T10:12:32.085500",
     "exception": false,
     "start_time": "2022-10-13T10:12:31.560661",
     "status": "completed"
    },
    "tags": []
   },
   "outputs": [],
   "source": [
    "%matplotlib inline\n",
    "import numpy as np\n",
    "import matplotlib.pyplot as plt\n",
    "import pandas as pd"
   ]
  },
  {
   "cell_type": "markdown",
   "id": "ba036198",
   "metadata": {
    "papermill": {
     "duration": 0.023948,
     "end_time": "2022-10-13T10:12:32.133373",
     "exception": false,
     "start_time": "2022-10-13T10:12:32.109425",
     "status": "completed"
    },
    "tags": []
   },
   "source": [
    "From the command line run `pip install mnist`. This is a library that will help you bring down the mnist dataset. If you run this from a notebook, you need to put  `!pip install mnist` in a cell by itself."
   ]
  },
  {
   "cell_type": "code",
   "execution_count": 3,
   "id": "bb6ad8a1",
   "metadata": {
    "execution": {
     "iopub.execute_input": "2022-10-13T10:12:32.188958Z",
     "iopub.status.busy": "2022-10-13T10:12:32.188392Z",
     "iopub.status.idle": "2022-10-13T10:12:33.777945Z",
     "shell.execute_reply": "2022-10-13T10:12:33.777449Z"
    },
    "papermill": {
     "duration": 1.620733,
     "end_time": "2022-10-13T10:12:33.778053",
     "exception": false,
     "start_time": "2022-10-13T10:12:32.157320",
     "status": "completed"
    },
    "tags": []
   },
   "outputs": [
    {
     "name": "stdout",
     "output_type": "stream",
     "text": [
      "Collecting mnist\r\n"
     ]
    },
    {
     "name": "stdout",
     "output_type": "stream",
     "text": [
      "  Downloading mnist-0.2.2-py2.py3-none-any.whl (3.5 kB)\r\n",
      "Requirement already satisfied: numpy in /opt/hostedtoolcache/Python/3.6.15/x64/lib/python3.6/site-packages (from mnist) (1.19.5)\r\n"
     ]
    },
    {
     "name": "stdout",
     "output_type": "stream",
     "text": [
      "Installing collected packages: mnist\r\n"
     ]
    },
    {
     "name": "stdout",
     "output_type": "stream",
     "text": [
      "Successfully installed mnist-0.2.2\r\n"
     ]
    }
   ],
   "source": [
    "!pip install mnist"
   ]
  },
  {
   "cell_type": "markdown",
   "id": "69df9c9a",
   "metadata": {
    "papermill": {
     "duration": 0.025244,
     "end_time": "2022-10-13T10:12:33.828528",
     "exception": false,
     "start_time": "2022-10-13T10:12:33.803284",
     "status": "completed"
    },
    "tags": []
   },
   "source": [
    "## Preparing the Data"
   ]
  },
  {
   "cell_type": "code",
   "execution_count": 4,
   "id": "7f69d806",
   "metadata": {
    "execution": {
     "iopub.execute_input": "2022-10-13T10:12:33.882449Z",
     "iopub.status.busy": "2022-10-13T10:12:33.881897Z",
     "iopub.status.idle": "2022-10-13T10:12:33.895858Z",
     "shell.execute_reply": "2022-10-13T10:12:33.895323Z"
    },
    "papermill": {
     "duration": 0.042398,
     "end_time": "2022-10-13T10:12:33.895956",
     "exception": false,
     "start_time": "2022-10-13T10:12:33.853558",
     "status": "completed"
    },
    "tags": []
   },
   "outputs": [],
   "source": [
    "import mnist"
   ]
  },
  {
   "cell_type": "code",
   "execution_count": 5,
   "id": "a411e44f",
   "metadata": {
    "execution": {
     "iopub.execute_input": "2022-10-13T10:12:33.949065Z",
     "iopub.status.busy": "2022-10-13T10:12:33.948524Z",
     "iopub.status.idle": "2022-10-13T10:12:34.528559Z",
     "shell.execute_reply": "2022-10-13T10:12:34.529002Z"
    },
    "papermill": {
     "duration": 0.608248,
     "end_time": "2022-10-13T10:12:34.529134",
     "exception": false,
     "start_time": "2022-10-13T10:12:33.920886",
     "status": "completed"
    },
    "tags": []
   },
   "outputs": [],
   "source": [
    "train_images = mnist.train_images()\n",
    "train_labels = mnist.train_labels()"
   ]
  },
  {
   "cell_type": "code",
   "execution_count": 6,
   "id": "dceab3a5",
   "metadata": {
    "execution": {
     "iopub.execute_input": "2022-10-13T10:12:34.583348Z",
     "iopub.status.busy": "2022-10-13T10:12:34.582768Z",
     "iopub.status.idle": "2022-10-13T10:12:34.596444Z",
     "shell.execute_reply": "2022-10-13T10:12:34.596897Z"
    },
    "papermill": {
     "duration": 0.042498,
     "end_time": "2022-10-13T10:12:34.597011",
     "exception": false,
     "start_time": "2022-10-13T10:12:34.554513",
     "status": "completed"
    },
    "tags": []
   },
   "outputs": [
    {
     "data": {
      "text/plain": [
       "((60000, 28, 28), (60000,))"
      ]
     },
     "execution_count": 6,
     "metadata": {},
     "output_type": "execute_result"
    }
   ],
   "source": [
    "train_images.shape, train_labels.shape"
   ]
  },
  {
   "cell_type": "code",
   "execution_count": 7,
   "id": "f50dc2bb",
   "metadata": {
    "execution": {
     "iopub.execute_input": "2022-10-13T10:12:34.650790Z",
     "iopub.status.busy": "2022-10-13T10:12:34.650251Z",
     "iopub.status.idle": "2022-10-13T10:12:34.839329Z",
     "shell.execute_reply": "2022-10-13T10:12:34.838811Z"
    },
    "papermill": {
     "duration": 0.217205,
     "end_time": "2022-10-13T10:12:34.839440",
     "exception": false,
     "start_time": "2022-10-13T10:12:34.622235",
     "status": "completed"
    },
    "tags": []
   },
   "outputs": [],
   "source": [
    "test_images = mnist.test_images()\n",
    "test_labels = mnist.test_labels()"
   ]
  },
  {
   "cell_type": "code",
   "execution_count": 8,
   "id": "fc38cf1b",
   "metadata": {
    "execution": {
     "iopub.execute_input": "2022-10-13T10:12:34.894048Z",
     "iopub.status.busy": "2022-10-13T10:12:34.893495Z",
     "iopub.status.idle": "2022-10-13T10:12:34.905965Z",
     "shell.execute_reply": "2022-10-13T10:12:34.905517Z"
    },
    "papermill": {
     "duration": 0.040895,
     "end_time": "2022-10-13T10:12:34.906063",
     "exception": false,
     "start_time": "2022-10-13T10:12:34.865168",
     "status": "completed"
    },
    "tags": []
   },
   "outputs": [
    {
     "data": {
      "text/plain": [
       "((10000, 28, 28), (10000,))"
      ]
     },
     "execution_count": 8,
     "metadata": {},
     "output_type": "execute_result"
    }
   ],
   "source": [
    "test_images.shape, test_labels.shape"
   ]
  },
  {
   "cell_type": "code",
   "execution_count": 9,
   "id": "f9ed8fe0",
   "metadata": {
    "execution": {
     "iopub.execute_input": "2022-10-13T10:12:34.960886Z",
     "iopub.status.busy": "2022-10-13T10:12:34.960349Z",
     "iopub.status.idle": "2022-10-13T10:12:35.091801Z",
     "shell.execute_reply": "2022-10-13T10:12:35.092244Z"
    },
    "papermill": {
     "duration": 0.160592,
     "end_time": "2022-10-13T10:12:35.092368",
     "exception": false,
     "start_time": "2022-10-13T10:12:34.931776",
     "status": "completed"
    },
    "tags": []
   },
   "outputs": [
    {
     "name": "stdout",
     "output_type": "stream",
     "text": [
      "2\n"
     ]
    },
    {
     "data": {
      "text/plain": [
       "<matplotlib.image.AxesImage at 0x7f46dfd01cc0>"
      ]
     },
     "execution_count": 9,
     "metadata": {},
     "output_type": "execute_result"
    },
    {
     "data": {
      "image/png": "[encoded data removed]",
      "text/plain": [
       "<Figure size 432x288 with 1 Axes>"
      ]
     },
     "metadata": {
      "needs_background": "light"
     },
     "output_type": "display_data"
    }
   ],
   "source": [
    "image_index = 7776 # You may select anything up to 60,000\n",
    "print(train_labels[image_index]) \n",
    "plt.imshow(train_images[image_index], cmap='Greys')"
   ]
  },
  {
   "cell_type": "markdown",
   "id": "a8d2388d",
   "metadata": {
    "papermill": {
     "duration": 0.026886,
     "end_time": "2022-10-13T10:12:35.146486",
     "exception": false,
     "start_time": "2022-10-13T10:12:35.119600",
     "status": "completed"
    },
    "tags": []
   },
   "source": [
    "## Filter data to get 3 and 8 out"
   ]
  },
  {
   "cell_type": "code",
   "execution_count": 10,
   "id": "776f7fc7",
   "metadata": {
    "execution": {
     "iopub.execute_input": "2022-10-13T10:12:35.204059Z",
     "iopub.status.busy": "2022-10-13T10:12:35.203483Z",
     "iopub.status.idle": "2022-10-13T10:12:35.219705Z",
     "shell.execute_reply": "2022-10-13T10:12:35.219222Z"
    },
    "papermill": {
     "duration": 0.04658,
     "end_time": "2022-10-13T10:12:35.219805",
     "exception": false,
     "start_time": "2022-10-13T10:12:35.173225",
     "status": "completed"
    },
    "tags": []
   },
   "outputs": [],
   "source": [
    "train_filter = np.where((train_labels == 3 ) | (train_labels == 8))\n",
    "test_filter = np.where((test_labels == 3) | (test_labels == 8))\n",
    "X_train, y_train = train_images[train_filter], train_labels[train_filter]\n",
    "X_test, y_test = test_images[test_filter], test_labels[test_filter]"
   ]
  },
  {
   "cell_type": "markdown",
   "id": "948f0b7e",
   "metadata": {
    "papermill": {
     "duration": 0.026605,
     "end_time": "2022-10-13T10:12:35.273071",
     "exception": false,
     "start_time": "2022-10-13T10:12:35.246466",
     "status": "completed"
    },
    "tags": []
   },
   "source": [
    "We normalize the pizel values in the 0 to 1 range"
   ]
  },
  {
   "cell_type": "code",
   "execution_count": 11,
   "id": "ee4c2166",
   "metadata": {
    "execution": {
     "iopub.execute_input": "2022-10-13T10:12:35.329580Z",
     "iopub.status.busy": "2022-10-13T10:12:35.329030Z",
     "iopub.status.idle": "2022-10-13T10:12:35.368706Z",
     "shell.execute_reply": "2022-10-13T10:12:35.368232Z"
    },
    "papermill": {
     "duration": 0.069271,
     "end_time": "2022-10-13T10:12:35.368811",
     "exception": false,
     "start_time": "2022-10-13T10:12:35.299540",
     "status": "completed"
    },
    "tags": []
   },
   "outputs": [],
   "source": [
    "X_train = X_train/255.\n",
    "X_test = X_test/255."
   ]
  },
  {
   "cell_type": "markdown",
   "id": "ddcf4fab",
   "metadata": {
    "papermill": {
     "duration": 0.026706,
     "end_time": "2022-10-13T10:12:35.422451",
     "exception": false,
     "start_time": "2022-10-13T10:12:35.395745",
     "status": "completed"
    },
    "tags": []
   },
   "source": [
    "And setup the labels as 1 (when the digit is 3) and 0 (when the digit is 8)"
   ]
  },
  {
   "cell_type": "code",
   "execution_count": 12,
   "id": "7dc908f2",
   "metadata": {
    "execution": {
     "iopub.execute_input": "2022-10-13T10:12:35.479479Z",
     "iopub.status.busy": "2022-10-13T10:12:35.478917Z",
     "iopub.status.idle": "2022-10-13T10:12:35.490792Z",
     "shell.execute_reply": "2022-10-13T10:12:35.490341Z"
    },
    "papermill": {
     "duration": 0.041743,
     "end_time": "2022-10-13T10:12:35.490891",
     "exception": false,
     "start_time": "2022-10-13T10:12:35.449148",
     "status": "completed"
    },
    "tags": []
   },
   "outputs": [],
   "source": [
    "y_train = 1*(y_train==3)\n",
    "y_test = 1*(y_test==3)"
   ]
  },
  {
   "cell_type": "code",
   "execution_count": 13,
   "id": "01e4e969",
   "metadata": {
    "execution": {
     "iopub.execute_input": "2022-10-13T10:12:35.547485Z",
     "iopub.status.busy": "2022-10-13T10:12:35.546909Z",
     "iopub.status.idle": "2022-10-13T10:12:35.559644Z",
     "shell.execute_reply": "2022-10-13T10:12:35.560100Z"
    },
    "papermill": {
     "duration": 0.0426,
     "end_time": "2022-10-13T10:12:35.560215",
     "exception": false,
     "start_time": "2022-10-13T10:12:35.517615",
     "status": "completed"
    },
    "tags": []
   },
   "outputs": [
    {
     "data": {
      "text/plain": [
       "((11982, 28, 28), (1984, 28, 28))"
      ]
     },
     "execution_count": 13,
     "metadata": {},
     "output_type": "execute_result"
    }
   ],
   "source": [
    "X_train.shape, X_test.shape"
   ]
  },
  {
   "cell_type": "markdown",
   "id": "5ccf3f85",
   "metadata": {
    "papermill": {
     "duration": 0.026879,
     "end_time": "2022-10-13T10:12:35.613895",
     "exception": false,
     "start_time": "2022-10-13T10:12:35.587016",
     "status": "completed"
    },
    "tags": []
   },
   "source": [
    "We reshape the data to flatten the image pixels into a set of features or co-variates:"
   ]
  },
  {
   "cell_type": "code",
   "execution_count": 14,
   "id": "5286a4a3",
   "metadata": {
    "execution": {
     "iopub.execute_input": "2022-10-13T10:12:35.671121Z",
     "iopub.status.busy": "2022-10-13T10:12:35.670564Z",
     "iopub.status.idle": "2022-10-13T10:12:35.683453Z",
     "shell.execute_reply": "2022-10-13T10:12:35.683890Z"
    },
    "papermill": {
     "duration": 0.043219,
     "end_time": "2022-10-13T10:12:35.684002",
     "exception": false,
     "start_time": "2022-10-13T10:12:35.640783",
     "status": "completed"
    },
    "tags": []
   },
   "outputs": [
    {
     "data": {
      "text/plain": [
       "((11982, 784), (1984, 784))"
      ]
     },
     "execution_count": 14,
     "metadata": {},
     "output_type": "execute_result"
    }
   ],
   "source": [
    "X_train = X_train.reshape(X_train.shape[0], -1)\n",
    "X_test = X_test.reshape(X_test.shape[0], -1)\n",
    "X_train.shape, X_test.shape"
   ]
  },
  {
   "cell_type": "code",
   "execution_count": 15,
   "id": "73c5f88a",
   "metadata": {
    "execution": {
     "iopub.execute_input": "2022-10-13T10:12:35.742249Z",
     "iopub.status.busy": "2022-10-13T10:12:35.741682Z",
     "iopub.status.idle": "2022-10-13T10:12:35.759349Z",
     "shell.execute_reply": "2022-10-13T10:12:35.759785Z"
    },
    "papermill": {
     "duration": 0.048759,
     "end_time": "2022-10-13T10:12:35.759898",
     "exception": false,
     "start_time": "2022-10-13T10:12:35.711139",
     "status": "completed"
    },
    "tags": []
   },
   "outputs": [],
   "source": [
    "#Impoting functions from 'Kudzu'\n",
    "from kudzu.model import Model\n",
    "from kudzu.train import Learner\n",
    "from kudzu.optim import GD\n",
    "from kudzu.data import Data, Sampler,Dataloader\n",
    "\n",
    "from kudzu.callbacks import AccCallback\n",
    "from kudzu.callbacks import ClfCallback\n",
    "\n",
    "from kudzu.loss import MSE\n",
    "\n",
    "from kudzu.layer import Sigmoid,Relu\n",
    "from kudzu.layer import Affine"
   ]
  },
  {
   "cell_type": "markdown",
   "id": "bc01172a",
   "metadata": {
    "papermill": {
     "duration": 0.026975,
     "end_time": "2022-10-13T10:12:35.814058",
     "exception": false,
     "start_time": "2022-10-13T10:12:35.787083",
     "status": "completed"
    },
    "tags": []
   },
   "source": [
    "### Let us create a `Config` class, to store important parameters. \n",
    "This class essentially plays the role of a dictionary."
   ]
  },
  {
   "cell_type": "code",
   "execution_count": 16,
   "id": "978281aa",
   "metadata": {
    "execution": {
     "iopub.execute_input": "2022-10-13T10:12:35.872673Z",
     "iopub.status.busy": "2022-10-13T10:12:35.872111Z",
     "iopub.status.idle": "2022-10-13T10:12:35.883371Z",
     "shell.execute_reply": "2022-10-13T10:12:35.883808Z"
    },
    "papermill": {
     "duration": 0.042686,
     "end_time": "2022-10-13T10:12:35.883925",
     "exception": false,
     "start_time": "2022-10-13T10:12:35.841239",
     "status": "completed"
    },
    "tags": []
   },
   "outputs": [],
   "source": [
    "class Config:\n",
    "    pass\n",
    "config = Config()\n",
    "config.lr = 0.001\n",
    "config.num_epochs = 250\n",
    "config.bs = 50"
   ]
  },
  {
   "cell_type": "markdown",
   "id": "1385fa59",
   "metadata": {
    "papermill": {
     "duration": 0.027187,
     "end_time": "2022-10-13T10:12:35.938363",
     "exception": false,
     "start_time": "2022-10-13T10:12:35.911176",
     "status": "completed"
    },
    "tags": []
   },
   "source": [
    "### Running Models with the Training data\n",
    "Details about the network layers:\n",
    "- A first affine layer has 784 inputs and does 100 affine transforms. These are followed by a Relu\n",
    "- A second affine layer has 100 inputs from the 100 activations of the past layer, and does 100 affine transforms. These are followed by a Relu\n",
    "- A third affine layer has 100 activations and does 2 affine transformations to create an embedding for visualization. There is no non-linearity here.\n",
    "- A final \"logistic regression\" which has an affine transform from 2 inputs to 1 output, which is squeezed through a sigmoid.\n"
   ]
  },
  {
   "cell_type": "code",
   "execution_count": 17,
   "id": "2b9c66db",
   "metadata": {
    "execution": {
     "iopub.execute_input": "2022-10-13T10:12:35.996685Z",
     "iopub.status.busy": "2022-10-13T10:12:35.996134Z",
     "iopub.status.idle": "2022-10-13T10:12:36.007885Z",
     "shell.execute_reply": "2022-10-13T10:12:36.008419Z"
    },
    "papermill": {
     "duration": 0.04297,
     "end_time": "2022-10-13T10:12:36.008536",
     "exception": false,
     "start_time": "2022-10-13T10:12:35.965566",
     "status": "completed"
    },
    "tags": []
   },
   "outputs": [],
   "source": [
    "data = Data(X_train, y_train.reshape(-1,1))\n",
    "sampler = Sampler(data, config.bs, shuffle=True)\n",
    "\n",
    "dl = Dataloader(data, sampler)\n",
    "\n",
    "opt = GD(config.lr)\n",
    "loss = MSE()"
   ]
  },
  {
   "cell_type": "code",
   "execution_count": 18,
   "id": "b275e4c2",
   "metadata": {
    "execution": {
     "iopub.execute_input": "2022-10-13T10:12:36.066782Z",
     "iopub.status.busy": "2022-10-13T10:12:36.066225Z",
     "iopub.status.idle": "2022-10-13T10:12:36.078054Z",
     "shell.execute_reply": "2022-10-13T10:12:36.077499Z"
    },
    "papermill": {
     "duration": 0.042395,
     "end_time": "2022-10-13T10:12:36.078157",
     "exception": false,
     "start_time": "2022-10-13T10:12:36.035762",
     "status": "completed"
    },
    "tags": []
   },
   "outputs": [],
   "source": [
    "training_data_x = X_train\n",
    "testing_data_x = X_test\n",
    "training_data_y = y_train.reshape(-1,1)\n",
    "testing_data_y = y_test.reshape(-1,1)"
   ]
  },
  {
   "cell_type": "code",
   "execution_count": 19,
   "id": "76951160",
   "metadata": {
    "execution": {
     "iopub.execute_input": "2022-10-13T10:12:36.136539Z",
     "iopub.status.busy": "2022-10-13T10:12:36.135992Z",
     "iopub.status.idle": "2022-10-13T10:12:36.152314Z",
     "shell.execute_reply": "2022-10-13T10:12:36.151853Z"
    },
    "papermill": {
     "duration": 0.047184,
     "end_time": "2022-10-13T10:12:36.152414",
     "exception": false,
     "start_time": "2022-10-13T10:12:36.105230",
     "status": "completed"
    },
    "tags": []
   },
   "outputs": [
    {
     "name": "stdout",
     "output_type": "stream",
     "text": [
      "xavier\n",
      "xavier\n",
      "xavier\n",
      "xavier\n",
      "xavier\n"
     ]
    }
   ],
   "source": [
    "layers = [Affine(\"first\", 784, 100), Relu(\"first\"), Affine(\"second\", 100, 100), Relu(\"second\"), Affine(\"third\", 100, 2), Affine(\"last\", 2, 1), Sigmoid(\"last\")]\n",
    "model_nn = Model(layers)\n",
    "model_lr = Model([Affine(\"logits\", 784, 1), Sigmoid(\"sigmoid\")])"
   ]
  },
  {
   "cell_type": "code",
   "execution_count": 20,
   "id": "6eede77a",
   "metadata": {
    "execution": {
     "iopub.execute_input": "2022-10-13T10:12:36.214378Z",
     "iopub.status.busy": "2022-10-13T10:12:36.211989Z",
     "iopub.status.idle": "2022-10-13T10:12:36.223802Z",
     "shell.execute_reply": "2022-10-13T10:12:36.224207Z"
    },
    "papermill": {
     "duration": 0.044294,
     "end_time": "2022-10-13T10:12:36.224323",
     "exception": false,
     "start_time": "2022-10-13T10:12:36.180029",
     "status": "completed"
    },
    "tags": []
   },
   "outputs": [],
   "source": [
    "nn_learner = Learner(loss, model_nn, opt, config.num_epochs)\n",
    "acc_nn = ClfCallback(nn_learner, config.bs, training_data_x , testing_data_x, training_data_y, testing_data_y)\n",
    "nn_learner.set_callbacks([acc_nn])"
   ]
  },
  {
   "cell_type": "code",
   "execution_count": 21,
   "id": "877b6cc7",
   "metadata": {
    "execution": {
     "iopub.execute_input": "2022-10-13T10:12:36.286705Z",
     "iopub.status.busy": "2022-10-13T10:12:36.284281Z",
     "iopub.status.idle": "2022-10-13T10:12:36.296571Z",
     "shell.execute_reply": "2022-10-13T10:12:36.296016Z"
    },
    "papermill": {
     "duration": 0.044807,
     "end_time": "2022-10-13T10:12:36.296672",
     "exception": false,
     "start_time": "2022-10-13T10:12:36.251865",
     "status": "completed"
    },
    "tags": []
   },
   "outputs": [],
   "source": [
    "lr_learner = Learner(loss, model_lr, opt, config.num_epochs)\n",
    "acc_lr = ClfCallback(lr_learner, config.bs, training_data_x , testing_data_x, training_data_y, testing_data_y)\n",
    "lr_learner.set_callbacks([acc_lr])"
   ]
  },
  {
   "cell_type": "code",
   "execution_count": 22,
   "id": "d9b133c3",
   "metadata": {
    "execution": {
     "iopub.execute_input": "2022-10-13T10:12:36.357437Z",
     "iopub.status.busy": "2022-10-13T10:12:36.356324Z",
     "iopub.status.idle": "2022-10-13T10:15:31.380751Z",
     "shell.execute_reply": "2022-10-13T10:15:31.381212Z"
    },
    "papermill": {
     "duration": 175.056857,
     "end_time": "2022-10-13T10:15:31.381338",
     "exception": false,
     "start_time": "2022-10-13T10:12:36.324481",
     "status": "completed"
    },
    "tags": []
   },
   "outputs": [
    {
     "name": "stdout",
     "output_type": "stream",
     "text": [
      "Epoch 0, Loss 0.2592\n",
      "Training Accuracy: 0.5794, Testing Accuracy: 0.5711\n",
      "\n"
     ]
    },
    {
     "name": "stdout",
     "output_type": "stream",
     "text": [
      "Epoch 10, Loss 0.09\n",
      "Training Accuracy: 0.9102, Testing Accuracy: 0.9138\n",
      "\n"
     ]
    },
    {
     "name": "stdout",
     "output_type": "stream",
     "text": [
      "Epoch 20, Loss 0.0556\n",
      "Training Accuracy: 0.9407, Testing Accuracy: 0.9466\n",
      "\n"
     ]
    },
    {
     "name": "stdout",
     "output_type": "stream",
     "text": [
      "Epoch 30, Loss 0.0435\n",
      "Training Accuracy: 0.9525, Testing Accuracy: 0.9567\n",
      "\n"
     ]
    },
    {
     "name": "stdout",
     "output_type": "stream",
     "text": [
      "Epoch 40, Loss 0.0377\n",
      "Training Accuracy: 0.9584, Testing Accuracy: 0.9627\n",
      "\n"
     ]
    },
    {
     "name": "stdout",
     "output_type": "stream",
     "text": [
      "Epoch 50, Loss 0.0342\n",
      "Training Accuracy: 0.9618, Testing Accuracy: 0.9657\n",
      "\n"
     ]
    },
    {
     "name": "stdout",
     "output_type": "stream",
     "text": [
      "Epoch 60, Loss 0.0317\n",
      "Training Accuracy: 0.9639, Testing Accuracy: 0.9672\n",
      "\n"
     ]
    },
    {
     "name": "stdout",
     "output_type": "stream",
     "text": [
      "Epoch 70, Loss 0.0299\n",
      "Training Accuracy: 0.9655, Testing Accuracy: 0.9688\n",
      "\n"
     ]
    },
    {
     "name": "stdout",
     "output_type": "stream",
     "text": [
      "Epoch 80, Loss 0.0284\n",
      "Training Accuracy: 0.9666, Testing Accuracy: 0.9698\n",
      "\n"
     ]
    },
    {
     "name": "stdout",
     "output_type": "stream",
     "text": [
      "Epoch 90, Loss 0.0272\n",
      "Training Accuracy: 0.9681, Testing Accuracy: 0.9713\n",
      "\n"
     ]
    },
    {
     "name": "stdout",
     "output_type": "stream",
     "text": [
      "Epoch 100, Loss 0.0262\n",
      "Training Accuracy: 0.9700, Testing Accuracy: 0.9708\n",
      "\n"
     ]
    },
    {
     "name": "stdout",
     "output_type": "stream",
     "text": [
      "Epoch 110, Loss 0.0253\n",
      "Training Accuracy: 0.9713, Testing Accuracy: 0.9713\n",
      "\n"
     ]
    },
    {
     "name": "stdout",
     "output_type": "stream",
     "text": [
      "Epoch 120, Loss 0.0245\n",
      "Training Accuracy: 0.9720, Testing Accuracy: 0.9718\n",
      "\n"
     ]
    },
    {
     "name": "stdout",
     "output_type": "stream",
     "text": [
      "Epoch 130, Loss 0.0238\n",
      "Training Accuracy: 0.9732, Testing Accuracy: 0.9738\n",
      "\n"
     ]
    },
    {
     "name": "stdout",
     "output_type": "stream",
     "text": [
      "Epoch 140, Loss 0.0231\n",
      "Training Accuracy: 0.9740, Testing Accuracy: 0.9743\n",
      "\n"
     ]
    },
    {
     "name": "stdout",
     "output_type": "stream",
     "text": [
      "Epoch 150, Loss 0.0225\n",
      "Training Accuracy: 0.9745, Testing Accuracy: 0.9738\n",
      "\n"
     ]
    },
    {
     "name": "stdout",
     "output_type": "stream",
     "text": [
      "Epoch 160, Loss 0.0219\n",
      "Training Accuracy: 0.9752, Testing Accuracy: 0.9743\n",
      "\n"
     ]
    },
    {
     "name": "stdout",
     "output_type": "stream",
     "text": [
      "Epoch 170, Loss 0.0214\n",
      "Training Accuracy: 0.9760, Testing Accuracy: 0.9733\n",
      "\n"
     ]
    },
    {
     "name": "stdout",
     "output_type": "stream",
     "text": [
      "Epoch 180, Loss 0.0209\n",
      "Training Accuracy: 0.9765, Testing Accuracy: 0.9733\n",
      "\n"
     ]
    },
    {
     "name": "stdout",
     "output_type": "stream",
     "text": [
      "Epoch 190, Loss 0.0204\n",
      "Training Accuracy: 0.9771, Testing Accuracy: 0.9738\n",
      "\n"
     ]
    },
    {
     "name": "stdout",
     "output_type": "stream",
     "text": [
      "Epoch 200, Loss 0.02\n",
      "Training Accuracy: 0.9777, Testing Accuracy: 0.9743\n",
      "\n"
     ]
    },
    {
     "name": "stdout",
     "output_type": "stream",
     "text": [
      "Epoch 210, Loss 0.0196\n",
      "Training Accuracy: 0.9784, Testing Accuracy: 0.9748\n",
      "\n"
     ]
    },
    {
     "name": "stdout",
     "output_type": "stream",
     "text": [
      "Epoch 220, Loss 0.0192\n",
      "Training Accuracy: 0.9789, Testing Accuracy: 0.9748\n",
      "\n"
     ]
    },
    {
     "name": "stdout",
     "output_type": "stream",
     "text": [
      "Epoch 230, Loss 0.0188\n",
      "Training Accuracy: 0.9791, Testing Accuracy: 0.9748\n",
      "\n"
     ]
    },
    {
     "name": "stdout",
     "output_type": "stream",
     "text": [
      "Epoch 240, Loss 0.0184\n",
      "Training Accuracy: 0.9794, Testing Accuracy: 0.9758\n",
      "\n"
     ]
    },
    {
     "data": {
      "text/plain": [
       "0.0010592614239290318"
      ]
     },
     "execution_count": 22,
     "metadata": {},
     "output_type": "execute_result"
    }
   ],
   "source": [
    "nn_learner.train_loop(dl)"
   ]
  },
  {
   "cell_type": "code",
   "execution_count": 23,
   "id": "e0163366",
   "metadata": {
    "execution": {
     "iopub.execute_input": "2022-10-13T10:15:31.456629Z",
     "iopub.status.busy": "2022-10-13T10:15:31.454986Z",
     "iopub.status.idle": "2022-10-13T10:15:43.403078Z",
     "shell.execute_reply": "2022-10-13T10:15:43.403635Z"
    },
    "papermill": {
     "duration": 11.987582,
     "end_time": "2022-10-13T10:15:43.403762",
     "exception": false,
     "start_time": "2022-10-13T10:15:31.416180",
     "status": "completed"
    },
    "tags": []
   },
   "outputs": [
    {
     "name": "stdout",
     "output_type": "stream",
     "text": [
      "Epoch 0, Loss 0.2531\n",
      "Training Accuracy: 0.6306, Testing Accuracy: 0.6104\n",
      "\n"
     ]
    },
    {
     "name": "stdout",
     "output_type": "stream",
     "text": [
      "Epoch 10, Loss 0.1019\n",
      "Training Accuracy: 0.9182, Testing Accuracy: 0.9294\n",
      "\n"
     ]
    },
    {
     "name": "stdout",
     "output_type": "stream",
     "text": [
      "Epoch 20, Loss 0.078\n",
      "Training Accuracy: 0.9326, Testing Accuracy: 0.9405\n",
      "\n"
     ]
    },
    {
     "name": "stdout",
     "output_type": "stream",
     "text": [
      "Epoch 30, Loss 0.0674\n",
      "Training Accuracy: 0.9383, Testing Accuracy: 0.9491\n",
      "\n"
     ]
    },
    {
     "name": "stdout",
     "output_type": "stream",
     "text": [
      "Epoch 40, Loss 0.061\n",
      "Training Accuracy: 0.9426, Testing Accuracy: 0.9516\n",
      "\n"
     ]
    },
    {
     "name": "stdout",
     "output_type": "stream",
     "text": [
      "Epoch 50, Loss 0.0566\n",
      "Training Accuracy: 0.9458, Testing Accuracy: 0.9551\n",
      "\n"
     ]
    },
    {
     "name": "stdout",
     "output_type": "stream",
     "text": [
      "Epoch 60, Loss 0.0534\n",
      "Training Accuracy: 0.9467, Testing Accuracy: 0.9572\n",
      "\n"
     ]
    },
    {
     "name": "stdout",
     "output_type": "stream",
     "text": [
      "Epoch 70, Loss 0.051\n",
      "Training Accuracy: 0.9488, Testing Accuracy: 0.9582\n",
      "\n"
     ]
    },
    {
     "name": "stdout",
     "output_type": "stream",
     "text": [
      "Epoch 80, Loss 0.049\n",
      "Training Accuracy: 0.9505, Testing Accuracy: 0.9587\n",
      "\n"
     ]
    },
    {
     "name": "stdout",
     "output_type": "stream",
     "text": [
      "Epoch 90, Loss 0.0473\n",
      "Training Accuracy: 0.9516, Testing Accuracy: 0.9592\n",
      "\n"
     ]
    },
    {
     "name": "stdout",
     "output_type": "stream",
     "text": [
      "Epoch 100, Loss 0.046\n",
      "Training Accuracy: 0.9532, Testing Accuracy: 0.9597\n",
      "\n"
     ]
    },
    {
     "name": "stdout",
     "output_type": "stream",
     "text": [
      "Epoch 110, Loss 0.0448\n",
      "Training Accuracy: 0.9539, Testing Accuracy: 0.9602\n",
      "\n"
     ]
    },
    {
     "name": "stdout",
     "output_type": "stream",
     "text": [
      "Epoch 120, Loss 0.0437\n",
      "Training Accuracy: 0.9549, Testing Accuracy: 0.9612\n",
      "\n"
     ]
    },
    {
     "name": "stdout",
     "output_type": "stream",
     "text": [
      "Epoch 130, Loss 0.0428\n",
      "Training Accuracy: 0.9559, Testing Accuracy: 0.9617\n",
      "\n"
     ]
    },
    {
     "name": "stdout",
     "output_type": "stream",
     "text": [
      "Epoch 140, Loss 0.042\n",
      "Training Accuracy: 0.9565, Testing Accuracy: 0.9627\n",
      "\n"
     ]
    },
    {
     "name": "stdout",
     "output_type": "stream",
     "text": [
      "Epoch 150, Loss 0.0413\n",
      "Training Accuracy: 0.9574, Testing Accuracy: 0.9637\n",
      "\n"
     ]
    },
    {
     "name": "stdout",
     "output_type": "stream",
     "text": [
      "Epoch 160, Loss 0.0406\n",
      "Training Accuracy: 0.9579, Testing Accuracy: 0.9642\n",
      "\n"
     ]
    },
    {
     "name": "stdout",
     "output_type": "stream",
     "text": [
      "Epoch 170, Loss 0.04\n",
      "Training Accuracy: 0.9583, Testing Accuracy: 0.9662\n",
      "\n"
     ]
    },
    {
     "name": "stdout",
     "output_type": "stream",
     "text": [
      "Epoch 180, Loss 0.0394\n",
      "Training Accuracy: 0.9582, Testing Accuracy: 0.9662\n",
      "\n"
     ]
    },
    {
     "name": "stdout",
     "output_type": "stream",
     "text": [
      "Epoch 190, Loss 0.0389\n",
      "Training Accuracy: 0.9587, Testing Accuracy: 0.9657\n",
      "\n"
     ]
    },
    {
     "name": "stdout",
     "output_type": "stream",
     "text": [
      "Epoch 200, Loss 0.0385\n",
      "Training Accuracy: 0.9590, Testing Accuracy: 0.9662\n",
      "\n"
     ]
    },
    {
     "name": "stdout",
     "output_type": "stream",
     "text": [
      "Epoch 210, Loss 0.038\n",
      "Training Accuracy: 0.9592, Testing Accuracy: 0.9657\n",
      "\n"
     ]
    },
    {
     "name": "stdout",
     "output_type": "stream",
     "text": [
      "Epoch 220, Loss 0.0376\n",
      "Training Accuracy: 0.9595, Testing Accuracy: 0.9662\n",
      "\n"
     ]
    },
    {
     "name": "stdout",
     "output_type": "stream",
     "text": [
      "Epoch 230, Loss 0.0372\n",
      "Training Accuracy: 0.9599, Testing Accuracy: 0.9657\n",
      "\n"
     ]
    },
    {
     "name": "stdout",
     "output_type": "stream",
     "text": [
      "Epoch 240, Loss 0.0369\n",
      "Training Accuracy: 0.9601, Testing Accuracy: 0.9657\n",
      "\n"
     ]
    },
    {
     "data": {
      "text/plain": [
       "0.030919465309375917"
      ]
     },
     "execution_count": 23,
     "metadata": {},
     "output_type": "execute_result"
    }
   ],
   "source": [
    "lr_learner.train_loop(dl)"
   ]
  },
  {
   "cell_type": "code",
   "execution_count": 24,
   "id": "ca410940",
   "metadata": {
    "execution": {
     "iopub.execute_input": "2022-10-13T10:15:43.494942Z",
     "iopub.status.busy": "2022-10-13T10:15:43.494347Z",
     "iopub.status.idle": "2022-10-13T10:15:43.732532Z",
     "shell.execute_reply": "2022-10-13T10:15:43.732966Z"
    },
    "papermill": {
     "duration": 0.287678,
     "end_time": "2022-10-13T10:15:43.733099",
     "exception": false,
     "start_time": "2022-10-13T10:15:43.445421",
     "status": "completed"
    },
    "tags": []
   },
   "outputs": [
    {
     "data": {
      "text/plain": [
       "<matplotlib.legend.Legend at 0x7f46df86f2e8>"
      ]
     },
     "execution_count": 24,
     "metadata": {},
     "output_type": "execute_result"
    },
    {
     "data": {
      "image/png": "[encoded data removed]",
      "text/plain": [
       "<Figure size 1080x720 with 1 Axes>"
      ]
     },
     "metadata": {
      "needs_background": "light"
     },
     "output_type": "display_data"
    }
   ],
   "source": [
    "#comparing the results of NN and LR\n",
    "plt.figure(figsize=(15,10))\n",
    "\n",
    "# Neural Network plots\n",
    "plt.plot(acc_nn.accuracies, 'r-', label = \"Training Accuracies - NN\")\n",
    "plt.plot(acc_nn.test_accuracies, 'g-', label = \"Testing Accuracies - NN\")\n",
    "\n",
    "# Logistic Regression plots\n",
    "plt.plot(acc_lr.accuracies, 'k-', label = \"Training Accuracies - LR\")\n",
    "plt.plot(acc_lr.test_accuracies, 'b-', label = \"Testing Accuracies - LR\")\n",
    "plt.legend()"
   ]
  },
  {
   "cell_type": "markdown",
   "id": "80dfb35c",
   "metadata": {
    "papermill": {
     "duration": 0.043162,
     "end_time": "2022-10-13T10:15:43.818918",
     "exception": false,
     "start_time": "2022-10-13T10:15:43.775756",
     "status": "completed"
    },
    "tags": []
   },
   "source": [
    "#### Plotting the outputs of this layer of the NN.\n"
   ]
  },
  {
   "cell_type": "code",
   "execution_count": 25,
   "id": "45eb2ff5",
   "metadata": {
    "execution": {
     "iopub.execute_input": "2022-10-13T10:15:43.910213Z",
     "iopub.status.busy": "2022-10-13T10:15:43.909073Z",
     "iopub.status.idle": "2022-10-13T10:15:43.945509Z",
     "shell.execute_reply": "2022-10-13T10:15:43.944758Z"
    },
    "papermill": {
     "duration": 0.084037,
     "end_time": "2022-10-13T10:15:43.945619",
     "exception": false,
     "start_time": "2022-10-13T10:15:43.861582",
     "status": "completed"
    },
    "tags": []
   },
   "outputs": [],
   "source": [
    "new_model = Model(layers[:-2])\n",
    "testing_plot = new_model(testing_data_x)"
   ]
  },
  {
   "cell_type": "code",
   "execution_count": 26,
   "id": "4c0a5485",
   "metadata": {
    "execution": {
     "iopub.execute_input": "2022-10-13T10:15:44.038974Z",
     "iopub.status.busy": "2022-10-13T10:15:44.038414Z",
     "iopub.status.idle": "2022-10-13T10:15:44.228497Z",
     "shell.execute_reply": "2022-10-13T10:15:44.228038Z"
    },
    "papermill": {
     "duration": 0.239763,
     "end_time": "2022-10-13T10:15:44.228598",
     "exception": false,
     "start_time": "2022-10-13T10:15:43.988835",
     "status": "completed"
    },
    "tags": []
   },
   "outputs": [
    {
     "data": {
      "text/plain": [
       "Text(0.5, 1.0, 'Outputs')"
      ]
     },
     "execution_count": 26,
     "metadata": {},
     "output_type": "execute_result"
    },
    {
     "data": {
      "image/png": "[encoded data removed]",
      "text/plain": [
       "<Figure size 576x504 with 1 Axes>"
      ]
     },
     "metadata": {
      "needs_background": "light"
     },
     "output_type": "display_data"
    }
   ],
   "source": [
    "# Plotting the scatter plot of points and color coding by class\n",
    "plt.figure(figsize=(8,7))\n",
    "plt.scatter(testing_plot[:,0], testing_plot[:,1], alpha = 0.1, c = y_test.ravel());\n",
    "plt.title('Outputs')"
   ]
  },
  {
   "cell_type": "markdown",
   "id": "a74fcf8f",
   "metadata": {
    "papermill": {
     "duration": 0.044719,
     "end_time": "2022-10-13T10:15:44.340266",
     "exception": false,
     "start_time": "2022-10-13T10:15:44.295547",
     "status": "completed"
    },
    "tags": []
   },
   "source": [
    "Probability contours"
   ]
  },
  {
   "cell_type": "code",
   "execution_count": 27,
   "id": "d0afc8e3",
   "metadata": {
    "execution": {
     "iopub.execute_input": "2022-10-13T10:15:44.434380Z",
     "iopub.status.busy": "2022-10-13T10:15:44.433813Z",
     "iopub.status.idle": "2022-10-13T10:15:44.445397Z",
     "shell.execute_reply": "2022-10-13T10:15:44.444945Z"
    },
    "papermill": {
     "duration": 0.059685,
     "end_time": "2022-10-13T10:15:44.445497",
     "exception": false,
     "start_time": "2022-10-13T10:15:44.385812",
     "status": "completed"
    },
    "tags": []
   },
   "outputs": [],
   "source": [
    "model_prob = Model(layers[-2:]) "
   ]
  },
  {
   "cell_type": "code",
   "execution_count": 28,
   "id": "9b96e238",
   "metadata": {
    "execution": {
     "iopub.execute_input": "2022-10-13T10:15:44.539322Z",
     "iopub.status.busy": "2022-10-13T10:15:44.538744Z",
     "iopub.status.idle": "2022-10-13T10:15:44.552049Z",
     "shell.execute_reply": "2022-10-13T10:15:44.552483Z"
    },
    "papermill": {
     "duration": 0.062416,
     "end_time": "2022-10-13T10:15:44.552606",
     "exception": false,
     "start_time": "2022-10-13T10:15:44.490190",
     "status": "completed"
    },
    "tags": []
   },
   "outputs": [],
   "source": [
    "#creating the x and y ranges according to the above generated plot.\n",
    "x_range = np.linspace(-4, 1, 100) \n",
    "y_range = np.linspace(-6, 6, 100) \n",
    "x_grid, y_grid = np.meshgrid(x_range, y_range) # x_grid and y_grig are of size 100 X 100\n",
    "\n",
    "# converting x_grid and y_grid to continuous arrays\n",
    "x_gridflat = np.ravel(x_grid)\n",
    "y_gridflat = np.ravel(y_grid)\n",
    "\n",
    "# The last layer of the current model takes two columns as input. Hence transpose of np.vstack() is required.\n",
    "X = np.vstack((x_gridflat, y_gridflat)).T\n",
    "\n",
    "prob_contour = model_prob(X).reshape(100,100) "
   ]
  },
  {
   "cell_type": "code",
   "execution_count": 29,
   "id": "da72499a",
   "metadata": {
    "execution": {
     "iopub.execute_input": "2022-10-13T10:15:44.648504Z",
     "iopub.status.busy": "2022-10-13T10:15:44.647950Z",
     "iopub.status.idle": "2022-10-13T10:15:44.881542Z",
     "shell.execute_reply": "2022-10-13T10:15:44.882088Z"
    },
    "papermill": {
     "duration": 0.284944,
     "end_time": "2022-10-13T10:15:44.882212",
     "exception": false,
     "start_time": "2022-10-13T10:15:44.597268",
     "status": "completed"
    },
    "tags": []
   },
   "outputs": [
    {
     "data": {
      "image/png": "[encoded data removed]",
      "text/plain": [
       "<Figure size 720x648 with 1 Axes>"
      ]
     },
     "metadata": {
      "needs_background": "light"
     },
     "output_type": "display_data"
    }
   ],
   "source": [
    "plt.figure(figsize=(10,9))\n",
    "plt.scatter(testing_plot[:,0], testing_plot[:,1], alpha = 0.1, c = y_test.ravel())\n",
    "contours = plt.contour(x_grid,y_grid,prob_contour)\n",
    "plt.title('Probability Contours')\n",
    "plt.clabel(contours, inline = True );"
   ]
  },
  {
   "cell_type": "code",
   "execution_count": null,
   "id": "e81b4ac7",
   "metadata": {
    "papermill": {
     "duration": 0.046986,
     "end_time": "2022-10-13T10:15:44.976996",
     "exception": false,
     "start_time": "2022-10-13T10:15:44.930010",
     "status": "completed"
    },
    "tags": []
   },
   "outputs": [],
   "source": []
  }
 ],
 "metadata": {
  "kernelspec": {
   "display_name": "Python 3",
   "language": "python",
   "name": "python3"
  },
  "language_info": {
   "codemirror_mode": {
    "name": "ipython",
    "version": 3
   },
   "file_extension": ".py",
   "mimetype": "text/x-python",
   "name": "python",
   "nbconvert_exporter": "python",
   "pygments_lexer": "ipython3",
   "version": "3.6.15"
  },
  "papermill": {
   "default_parameters": {},
   "duration": 194.904504,
   "end_time": "2022-10-13T10:15:45.341535",
   "environment_variables": {},
   "exception": null,
   "input_path": "2020-08-11-part2.ipynb",
   "output_path": "2020-08-11-part2.ipynb",
   "parameters": {},
   "start_time": "2022-10-13T10:12:30.437031",
   "version": "2.3.3"
  }
 },
 "nbformat": 4,
 "nbformat_minor": 5
}