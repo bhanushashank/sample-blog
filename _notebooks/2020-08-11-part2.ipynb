{
 "cells": [
  {
   "cell_type": "markdown",
   "id": "98380cd3",
   "metadata": {
    "papermill": {
     "duration": 0.035306,
     "end_time": "2022-03-19T10:09:58.214816",
     "exception": false,
     "start_time": "2022-03-19T10:09:58.179510",
     "status": "completed"
    },
    "tags": []
   },
   "source": [
    "# Distinguish Your Own Digits (DYOD)"
   ]
  },
  {
   "cell_type": "markdown",
   "id": "ef31240d",
   "metadata": {
    "papermill": {
     "duration": 0.032086,
     "end_time": "2022-03-19T10:09:58.276211",
     "exception": false,
     "start_time": "2022-03-19T10:09:58.244125",
     "status": "completed"
    },
    "tags": []
   },
   "source": [
    "You are going to write a classifier that distinguishes between the number 3 and number 8."
   ]
  },
  {
   "cell_type": "code",
   "execution_count": 1,
   "id": "b15c8646",
   "metadata": {
    "execution": {
     "iopub.execute_input": "2022-03-19T10:09:58.343048Z",
     "iopub.status.busy": "2022-03-19T10:09:58.342410Z",
     "iopub.status.idle": "2022-03-19T10:09:58.353501Z",
     "shell.execute_reply": "2022-03-19T10:09:58.352989Z"
    },
    "papermill": {
     "duration": 0.048993,
     "end_time": "2022-03-19T10:09:58.353639",
     "exception": false,
     "start_time": "2022-03-19T10:09:58.304646",
     "status": "completed"
    },
    "tags": []
   },
   "outputs": [],
   "source": [
    "%load_ext autoreload\n",
    "%autoreload 2"
   ]
  },
  {
   "cell_type": "code",
   "execution_count": 2,
   "id": "22ef38dc",
   "metadata": {
    "execution": {
     "iopub.execute_input": "2022-03-19T10:09:58.417360Z",
     "iopub.status.busy": "2022-03-19T10:09:58.416689Z",
     "iopub.status.idle": "2022-03-19T10:09:59.042764Z",
     "shell.execute_reply": "2022-03-19T10:09:59.042239Z"
    },
    "papermill": {
     "duration": 0.661846,
     "end_time": "2022-03-19T10:09:59.042902",
     "exception": false,
     "start_time": "2022-03-19T10:09:58.381056",
     "status": "completed"
    },
    "tags": []
   },
   "outputs": [],
   "source": [
    "%matplotlib inline\n",
    "import numpy as np\n",
    "import matplotlib.pyplot as plt\n",
    "import pandas as pd"
   ]
  },
  {
   "cell_type": "markdown",
   "id": "ba036198",
   "metadata": {
    "papermill": {
     "duration": 0.029135,
     "end_time": "2022-03-19T10:09:59.100204",
     "exception": false,
     "start_time": "2022-03-19T10:09:59.071069",
     "status": "completed"
    },
    "tags": []
   },
   "source": [
    "From the command line run `pip install mnist`. This is a library that will help you bring down the mnist dataset. If you run this from a notebook, you need to put  `!pip install mnist` in a cell by itself."
   ]
  },
  {
   "cell_type": "code",
   "execution_count": 3,
   "id": "bb6ad8a1",
   "metadata": {
    "execution": {
     "iopub.execute_input": "2022-03-19T10:09:59.158372Z",
     "iopub.status.busy": "2022-03-19T10:09:59.157744Z",
     "iopub.status.idle": "2022-03-19T10:10:01.106791Z",
     "shell.execute_reply": "2022-03-19T10:10:01.106273Z"
    },
    "papermill": {
     "duration": 1.980064,
     "end_time": "2022-03-19T10:10:01.106931",
     "exception": false,
     "start_time": "2022-03-19T10:09:59.126867",
     "status": "completed"
    },
    "tags": []
   },
   "outputs": [
    {
     "name": "stdout",
     "output_type": "stream",
     "text": [
      "Collecting mnist\r\n"
     ]
    },
    {
     "name": "stdout",
     "output_type": "stream",
     "text": [
      "  Downloading mnist-0.2.2-py2.py3-none-any.whl (3.5 kB)\r\n",
      "Requirement already satisfied: numpy in /opt/hostedtoolcache/Python/3.6.15/x64/lib/python3.6/site-packages (from mnist) (1.19.5)\r\n"
     ]
    },
    {
     "name": "stdout",
     "output_type": "stream",
     "text": [
      "Installing collected packages: mnist\r\n"
     ]
    },
    {
     "name": "stdout",
     "output_type": "stream",
     "text": [
      "Successfully installed mnist-0.2.2\r\n"
     ]
    }
   ],
   "source": [
    "!pip install mnist"
   ]
  },
  {
   "cell_type": "markdown",
   "id": "69df9c9a",
   "metadata": {
    "papermill": {
     "duration": 0.029586,
     "end_time": "2022-03-19T10:10:01.165746",
     "exception": false,
     "start_time": "2022-03-19T10:10:01.136160",
     "status": "completed"
    },
    "tags": []
   },
   "source": [
    "## Preparing the Data"
   ]
  },
  {
   "cell_type": "code",
   "execution_count": 4,
   "id": "7f69d806",
   "metadata": {
    "execution": {
     "iopub.execute_input": "2022-03-19T10:10:01.232423Z",
     "iopub.status.busy": "2022-03-19T10:10:01.231834Z",
     "iopub.status.idle": "2022-03-19T10:10:01.243402Z",
     "shell.execute_reply": "2022-03-19T10:10:01.242899Z"
    },
    "papermill": {
     "duration": 0.048147,
     "end_time": "2022-03-19T10:10:01.243519",
     "exception": false,
     "start_time": "2022-03-19T10:10:01.195372",
     "status": "completed"
    },
    "tags": []
   },
   "outputs": [],
   "source": [
    "import mnist"
   ]
  },
  {
   "cell_type": "code",
   "execution_count": 5,
   "id": "a411e44f",
   "metadata": {
    "execution": {
     "iopub.execute_input": "2022-03-19T10:10:01.319875Z",
     "iopub.status.busy": "2022-03-19T10:10:01.315583Z",
     "iopub.status.idle": "2022-03-19T10:10:01.893216Z",
     "shell.execute_reply": "2022-03-19T10:10:01.892178Z"
    },
    "papermill": {
     "duration": 0.621378,
     "end_time": "2022-03-19T10:10:01.893381",
     "exception": false,
     "start_time": "2022-03-19T10:10:01.272003",
     "status": "completed"
    },
    "tags": []
   },
   "outputs": [],
   "source": [
    "train_images = mnist.train_images()\n",
    "train_labels = mnist.train_labels()"
   ]
  },
  {
   "cell_type": "code",
   "execution_count": 6,
   "id": "dceab3a5",
   "metadata": {
    "execution": {
     "iopub.execute_input": "2022-03-19T10:10:01.958641Z",
     "iopub.status.busy": "2022-03-19T10:10:01.956888Z",
     "iopub.status.idle": "2022-03-19T10:10:01.972367Z",
     "shell.execute_reply": "2022-03-19T10:10:01.971818Z"
    },
    "papermill": {
     "duration": 0.048531,
     "end_time": "2022-03-19T10:10:01.972508",
     "exception": false,
     "start_time": "2022-03-19T10:10:01.923977",
     "status": "completed"
    },
    "tags": []
   },
   "outputs": [
    {
     "data": {
      "text/plain": [
       "((60000, 28, 28), (60000,))"
      ]
     },
     "execution_count": 6,
     "metadata": {},
     "output_type": "execute_result"
    }
   ],
   "source": [
    "train_images.shape, train_labels.shape"
   ]
  },
  {
   "cell_type": "code",
   "execution_count": 7,
   "id": "f50dc2bb",
   "metadata": {
    "execution": {
     "iopub.execute_input": "2022-03-19T10:10:02.038750Z",
     "iopub.status.busy": "2022-03-19T10:10:02.038136Z",
     "iopub.status.idle": "2022-03-19T10:10:02.205541Z",
     "shell.execute_reply": "2022-03-19T10:10:02.204989Z"
    },
    "papermill": {
     "duration": 0.202907,
     "end_time": "2022-03-19T10:10:02.205679",
     "exception": false,
     "start_time": "2022-03-19T10:10:02.002772",
     "status": "completed"
    },
    "tags": []
   },
   "outputs": [],
   "source": [
    "test_images = mnist.test_images()\n",
    "test_labels = mnist.test_labels()"
   ]
  },
  {
   "cell_type": "code",
   "execution_count": 8,
   "id": "fc38cf1b",
   "metadata": {
    "execution": {
     "iopub.execute_input": "2022-03-19T10:10:02.267394Z",
     "iopub.status.busy": "2022-03-19T10:10:02.266792Z",
     "iopub.status.idle": "2022-03-19T10:10:02.282042Z",
     "shell.execute_reply": "2022-03-19T10:10:02.281506Z"
    },
    "papermill": {
     "duration": 0.046224,
     "end_time": "2022-03-19T10:10:02.282161",
     "exception": false,
     "start_time": "2022-03-19T10:10:02.235937",
     "status": "completed"
    },
    "tags": []
   },
   "outputs": [
    {
     "data": {
      "text/plain": [
       "((10000, 28, 28), (10000,))"
      ]
     },
     "execution_count": 8,
     "metadata": {},
     "output_type": "execute_result"
    }
   ],
   "source": [
    "test_images.shape, test_labels.shape"
   ]
  },
  {
   "cell_type": "code",
   "execution_count": 9,
   "id": "f9ed8fe0",
   "metadata": {
    "execution": {
     "iopub.execute_input": "2022-03-19T10:10:02.343718Z",
     "iopub.status.busy": "2022-03-19T10:10:02.343018Z",
     "iopub.status.idle": "2022-03-19T10:10:02.510969Z",
     "shell.execute_reply": "2022-03-19T10:10:02.511497Z"
    },
    "papermill": {
     "duration": 0.200296,
     "end_time": "2022-03-19T10:10:02.511653",
     "exception": false,
     "start_time": "2022-03-19T10:10:02.311357",
     "status": "completed"
    },
    "tags": []
   },
   "outputs": [
    {
     "name": "stdout",
     "output_type": "stream",
     "text": [
      "2\n"
     ]
    },
    {
     "data": {
      "text/plain": [
       "<matplotlib.image.AxesImage at 0x7f45d53efa58>"
      ]
     },
     "execution_count": 9,
     "metadata": {},
     "output_type": "execute_result"
    },
    {
     "data": {
      "image/png": "[encoded data removed]",
      "text/plain": [
       "<Figure size 432x288 with 1 Axes>"
      ]
     },
     "metadata": {
      "needs_background": "light"
     },
     "output_type": "display_data"
    }
   ],
   "source": [
    "image_index = 7776 # You may select anything up to 60,000\n",
    "print(train_labels[image_index]) \n",
    "plt.imshow(train_images[image_index], cmap='Greys')"
   ]
  },
  {
   "cell_type": "markdown",
   "id": "a8d2388d",
   "metadata": {
    "papermill": {
     "duration": 0.030663,
     "end_time": "2022-03-19T10:10:02.573560",
     "exception": false,
     "start_time": "2022-03-19T10:10:02.542897",
     "status": "completed"
    },
    "tags": []
   },
   "source": [
    "## Filter data to get 3 and 8 out"
   ]
  },
  {
   "cell_type": "code",
   "execution_count": 10,
   "id": "776f7fc7",
   "metadata": {
    "execution": {
     "iopub.execute_input": "2022-03-19T10:10:02.641223Z",
     "iopub.status.busy": "2022-03-19T10:10:02.640591Z",
     "iopub.status.idle": "2022-03-19T10:10:02.659703Z",
     "shell.execute_reply": "2022-03-19T10:10:02.659205Z"
    },
    "papermill": {
     "duration": 0.05545,
     "end_time": "2022-03-19T10:10:02.659836",
     "exception": false,
     "start_time": "2022-03-19T10:10:02.604386",
     "status": "completed"
    },
    "tags": []
   },
   "outputs": [],
   "source": [
    "train_filter = np.where((train_labels == 3 ) | (train_labels == 8))\n",
    "test_filter = np.where((test_labels == 3) | (test_labels == 8))\n",
    "X_train, y_train = train_images[train_filter], train_labels[train_filter]\n",
    "X_test, y_test = test_images[test_filter], test_labels[test_filter]"
   ]
  },
  {
   "cell_type": "markdown",
   "id": "948f0b7e",
   "metadata": {
    "papermill": {
     "duration": 0.031456,
     "end_time": "2022-03-19T10:10:02.723188",
     "exception": false,
     "start_time": "2022-03-19T10:10:02.691732",
     "status": "completed"
    },
    "tags": []
   },
   "source": [
    "We normalize the pizel values in the 0 to 1 range"
   ]
  },
  {
   "cell_type": "code",
   "execution_count": 11,
   "id": "ee4c2166",
   "metadata": {
    "execution": {
     "iopub.execute_input": "2022-03-19T10:10:02.791363Z",
     "iopub.status.busy": "2022-03-19T10:10:02.790676Z",
     "iopub.status.idle": "2022-03-19T10:10:02.845467Z",
     "shell.execute_reply": "2022-03-19T10:10:02.844954Z"
    },
    "papermill": {
     "duration": 0.093041,
     "end_time": "2022-03-19T10:10:02.845604",
     "exception": false,
     "start_time": "2022-03-19T10:10:02.752563",
     "status": "completed"
    },
    "tags": []
   },
   "outputs": [],
   "source": [
    "X_train = X_train/255.\n",
    "X_test = X_test/255."
   ]
  },
  {
   "cell_type": "markdown",
   "id": "ddcf4fab",
   "metadata": {
    "papermill": {
     "duration": 0.032126,
     "end_time": "2022-03-19T10:10:02.908642",
     "exception": false,
     "start_time": "2022-03-19T10:10:02.876516",
     "status": "completed"
    },
    "tags": []
   },
   "source": [
    "And setup the labels as 1 (when the digit is 3) and 0 (when the digit is 8)"
   ]
  },
  {
   "cell_type": "code",
   "execution_count": 12,
   "id": "7dc908f2",
   "metadata": {
    "execution": {
     "iopub.execute_input": "2022-03-19T10:10:02.979911Z",
     "iopub.status.busy": "2022-03-19T10:10:02.979278Z",
     "iopub.status.idle": "2022-03-19T10:10:02.988258Z",
     "shell.execute_reply": "2022-03-19T10:10:02.988826Z"
    },
    "papermill": {
     "duration": 0.049893,
     "end_time": "2022-03-19T10:10:02.988959",
     "exception": false,
     "start_time": "2022-03-19T10:10:02.939066",
     "status": "completed"
    },
    "tags": []
   },
   "outputs": [],
   "source": [
    "y_train = 1*(y_train==3)\n",
    "y_test = 1*(y_test==3)"
   ]
  },
  {
   "cell_type": "code",
   "execution_count": 13,
   "id": "01e4e969",
   "metadata": {
    "execution": {
     "iopub.execute_input": "2022-03-19T10:10:03.070427Z",
     "iopub.status.busy": "2022-03-19T10:10:03.057485Z",
     "iopub.status.idle": "2022-03-19T10:10:03.073351Z",
     "shell.execute_reply": "2022-03-19T10:10:03.073807Z"
    },
    "papermill": {
     "duration": 0.053474,
     "end_time": "2022-03-19T10:10:03.073940",
     "exception": false,
     "start_time": "2022-03-19T10:10:03.020466",
     "status": "completed"
    },
    "tags": []
   },
   "outputs": [
    {
     "data": {
      "text/plain": [
       "((11982, 28, 28), (1984, 28, 28))"
      ]
     },
     "execution_count": 13,
     "metadata": {},
     "output_type": "execute_result"
    }
   ],
   "source": [
    "X_train.shape, X_test.shape"
   ]
  },
  {
   "cell_type": "markdown",
   "id": "5ccf3f85",
   "metadata": {
    "papermill": {
     "duration": 0.029872,
     "end_time": "2022-03-19T10:10:03.134953",
     "exception": false,
     "start_time": "2022-03-19T10:10:03.105081",
     "status": "completed"
    },
    "tags": []
   },
   "source": [
    "We reshape the data to flatten the image pixels into a set of features or co-variates:"
   ]
  },
  {
   "cell_type": "code",
   "execution_count": 14,
   "id": "5286a4a3",
   "metadata": {
    "execution": {
     "iopub.execute_input": "2022-03-19T10:10:03.209661Z",
     "iopub.status.busy": "2022-03-19T10:10:03.201363Z",
     "iopub.status.idle": "2022-03-19T10:10:03.218330Z",
     "shell.execute_reply": "2022-03-19T10:10:03.217864Z"
    },
    "papermill": {
     "duration": 0.054172,
     "end_time": "2022-03-19T10:10:03.218472",
     "exception": false,
     "start_time": "2022-03-19T10:10:03.164300",
     "status": "completed"
    },
    "tags": []
   },
   "outputs": [
    {
     "data": {
      "text/plain": [
       "((11982, 784), (1984, 784))"
      ]
     },
     "execution_count": 14,
     "metadata": {},
     "output_type": "execute_result"
    }
   ],
   "source": [
    "X_train = X_train.reshape(X_train.shape[0], -1)\n",
    "X_test = X_test.reshape(X_test.shape[0], -1)\n",
    "X_train.shape, X_test.shape"
   ]
  },
  {
   "cell_type": "code",
   "execution_count": 15,
   "id": "73c5f88a",
   "metadata": {
    "execution": {
     "iopub.execute_input": "2022-03-19T10:10:03.289159Z",
     "iopub.status.busy": "2022-03-19T10:10:03.288496Z",
     "iopub.status.idle": "2022-03-19T10:10:03.306938Z",
     "shell.execute_reply": "2022-03-19T10:10:03.307453Z"
    },
    "papermill": {
     "duration": 0.057529,
     "end_time": "2022-03-19T10:10:03.307608",
     "exception": false,
     "start_time": "2022-03-19T10:10:03.250079",
     "status": "completed"
    },
    "tags": []
   },
   "outputs": [],
   "source": [
    "#Impoting functions from 'Kudzu'\n",
    "from kudzu.model import Model\n",
    "from kudzu.train import Learner\n",
    "from kudzu.optim import GD\n",
    "from kudzu.data import Data, Sampler,Dataloader\n",
    "\n",
    "from kudzu.callbacks import AccCallback\n",
    "from kudzu.callbacks import ClfCallback\n",
    "\n",
    "from kudzu.loss import MSE\n",
    "\n",
    "from kudzu.layer import Sigmoid,Relu\n",
    "from kudzu.layer import Affine"
   ]
  },
  {
   "cell_type": "markdown",
   "id": "bc01172a",
   "metadata": {
    "papermill": {
     "duration": 0.030463,
     "end_time": "2022-03-19T10:10:03.371871",
     "exception": false,
     "start_time": "2022-03-19T10:10:03.341408",
     "status": "completed"
    },
    "tags": []
   },
   "source": [
    "### Let us create a `Config` class, to store important parameters. \n",
    "This class essentially plays the role of a dictionary."
   ]
  },
  {
   "cell_type": "code",
   "execution_count": 16,
   "id": "978281aa",
   "metadata": {
    "execution": {
     "iopub.execute_input": "2022-03-19T10:10:03.442130Z",
     "iopub.status.busy": "2022-03-19T10:10:03.441362Z",
     "iopub.status.idle": "2022-03-19T10:10:03.452094Z",
     "shell.execute_reply": "2022-03-19T10:10:03.451580Z"
    },
    "papermill": {
     "duration": 0.050372,
     "end_time": "2022-03-19T10:10:03.452212",
     "exception": false,
     "start_time": "2022-03-19T10:10:03.401840",
     "status": "completed"
    },
    "tags": []
   },
   "outputs": [],
   "source": [
    "class Config:\n",
    "    pass\n",
    "config = Config()\n",
    "config.lr = 0.001\n",
    "config.num_epochs = 250\n",
    "config.bs = 50"
   ]
  },
  {
   "cell_type": "markdown",
   "id": "1385fa59",
   "metadata": {
    "papermill": {
     "duration": 0.030749,
     "end_time": "2022-03-19T10:10:03.514758",
     "exception": false,
     "start_time": "2022-03-19T10:10:03.484009",
     "status": "completed"
    },
    "tags": []
   },
   "source": [
    "### Running Models with the Training data\n",
    "Details about the network layers:\n",
    "- A first affine layer has 784 inputs and does 100 affine transforms. These are followed by a Relu\n",
    "- A second affine layer has 100 inputs from the 100 activations of the past layer, and does 100 affine transforms. These are followed by a Relu\n",
    "- A third affine layer has 100 activations and does 2 affine transformations to create an embedding for visualization. There is no non-linearity here.\n",
    "- A final \"logistic regression\" which has an affine transform from 2 inputs to 1 output, which is squeezed through a sigmoid.\n"
   ]
  },
  {
   "cell_type": "code",
   "execution_count": 17,
   "id": "2b9c66db",
   "metadata": {
    "execution": {
     "iopub.execute_input": "2022-03-19T10:10:03.583624Z",
     "iopub.status.busy": "2022-03-19T10:10:03.582968Z",
     "iopub.status.idle": "2022-03-19T10:10:03.596246Z",
     "shell.execute_reply": "2022-03-19T10:10:03.595741Z"
    },
    "papermill": {
     "duration": 0.050053,
     "end_time": "2022-03-19T10:10:03.596367",
     "exception": false,
     "start_time": "2022-03-19T10:10:03.546314",
     "status": "completed"
    },
    "tags": []
   },
   "outputs": [],
   "source": [
    "data = Data(X_train, y_train.reshape(-1,1))\n",
    "sampler = Sampler(data, config.bs, shuffle=True)\n",
    "\n",
    "dl = Dataloader(data, sampler)\n",
    "\n",
    "opt = GD(config.lr)\n",
    "loss = MSE()"
   ]
  },
  {
   "cell_type": "code",
   "execution_count": 18,
   "id": "b275e4c2",
   "metadata": {
    "execution": {
     "iopub.execute_input": "2022-03-19T10:10:03.669786Z",
     "iopub.status.busy": "2022-03-19T10:10:03.669134Z",
     "iopub.status.idle": "2022-03-19T10:10:03.683186Z",
     "shell.execute_reply": "2022-03-19T10:10:03.682570Z"
    },
    "papermill": {
     "duration": 0.054633,
     "end_time": "2022-03-19T10:10:03.683316",
     "exception": false,
     "start_time": "2022-03-19T10:10:03.628683",
     "status": "completed"
    },
    "tags": []
   },
   "outputs": [],
   "source": [
    "training_data_x = X_train\n",
    "testing_data_x = X_test\n",
    "training_data_y = y_train.reshape(-1,1)\n",
    "testing_data_y = y_test.reshape(-1,1)"
   ]
  },
  {
   "cell_type": "code",
   "execution_count": 19,
   "id": "76951160",
   "metadata": {
    "execution": {
     "iopub.execute_input": "2022-03-19T10:10:03.750633Z",
     "iopub.status.busy": "2022-03-19T10:10:03.750036Z",
     "iopub.status.idle": "2022-03-19T10:10:03.765087Z",
     "shell.execute_reply": "2022-03-19T10:10:03.764586Z"
    },
    "papermill": {
     "duration": 0.050817,
     "end_time": "2022-03-19T10:10:03.765202",
     "exception": false,
     "start_time": "2022-03-19T10:10:03.714385",
     "status": "completed"
    },
    "tags": []
   },
   "outputs": [
    {
     "name": "stdout",
     "output_type": "stream",
     "text": [
      "xavier\n",
      "xavier\n",
      "xavier\n",
      "xavier\n",
      "xavier\n"
     ]
    }
   ],
   "source": [
    "layers = [Affine(\"first\", 784, 100), Relu(\"first\"), Affine(\"second\", 100, 100), Relu(\"second\"), Affine(\"third\", 100, 2), Affine(\"last\", 2, 1), Sigmoid(\"last\")]\n",
    "model_nn = Model(layers)\n",
    "model_lr = Model([Affine(\"logits\", 784, 1), Sigmoid(\"sigmoid\")])"
   ]
  },
  {
   "cell_type": "code",
   "execution_count": 20,
   "id": "6eede77a",
   "metadata": {
    "execution": {
     "iopub.execute_input": "2022-03-19T10:10:03.834630Z",
     "iopub.status.busy": "2022-03-19T10:10:03.833994Z",
     "iopub.status.idle": "2022-03-19T10:10:03.846342Z",
     "shell.execute_reply": "2022-03-19T10:10:03.845846Z"
    },
    "papermill": {
     "duration": 0.049342,
     "end_time": "2022-03-19T10:10:03.846461",
     "exception": false,
     "start_time": "2022-03-19T10:10:03.797119",
     "status": "completed"
    },
    "tags": []
   },
   "outputs": [],
   "source": [
    "nn_learner = Learner(loss, model_nn, opt, config.num_epochs)\n",
    "acc_nn = ClfCallback(nn_learner, config.bs, training_data_x , testing_data_x, training_data_y, testing_data_y)\n",
    "nn_learner.set_callbacks([acc_nn])"
   ]
  },
  {
   "cell_type": "code",
   "execution_count": 21,
   "id": "877b6cc7",
   "metadata": {
    "execution": {
     "iopub.execute_input": "2022-03-19T10:10:03.913324Z",
     "iopub.status.busy": "2022-03-19T10:10:03.912382Z",
     "iopub.status.idle": "2022-03-19T10:10:03.924739Z",
     "shell.execute_reply": "2022-03-19T10:10:03.925275Z"
    },
    "papermill": {
     "duration": 0.047651,
     "end_time": "2022-03-19T10:10:03.925416",
     "exception": false,
     "start_time": "2022-03-19T10:10:03.877765",
     "status": "completed"
    },
    "tags": []
   },
   "outputs": [],
   "source": [
    "lr_learner = Learner(loss, model_lr, opt, config.num_epochs)\n",
    "acc_lr = ClfCallback(lr_learner, config.bs, training_data_x , testing_data_x, training_data_y, testing_data_y)\n",
    "lr_learner.set_callbacks([acc_lr])"
   ]
  },
  {
   "cell_type": "code",
   "execution_count": 22,
   "id": "d9b133c3",
   "metadata": {
    "execution": {
     "iopub.execute_input": "2022-03-19T10:10:03.995715Z",
     "iopub.status.busy": "2022-03-19T10:10:03.995121Z",
     "iopub.status.idle": "2022-03-19T10:12:06.789414Z",
     "shell.execute_reply": "2022-03-19T10:12:06.789922Z"
    },
    "papermill": {
     "duration": 122.83381,
     "end_time": "2022-03-19T10:12:06.790097",
     "exception": false,
     "start_time": "2022-03-19T10:10:03.956287",
     "status": "completed"
    },
    "tags": []
   },
   "outputs": [
    {
     "name": "stdout",
     "output_type": "stream",
     "text": [
      "Epoch 0, Loss 0.2481\n",
      "Training Accuracy: 0.6404, Testing Accuracy: 0.6447\n",
      "\n"
     ]
    },
    {
     "name": "stdout",
     "output_type": "stream",
     "text": [
      "Epoch 10, Loss 0.0982\n",
      "Training Accuracy: 0.9182, Testing Accuracy: 0.9320\n",
      "\n"
     ]
    },
    {
     "name": "stdout",
     "output_type": "stream",
     "text": [
      "Epoch 20, Loss 0.0575\n",
      "Training Accuracy: 0.9403, Testing Accuracy: 0.9556\n",
      "\n"
     ]
    },
    {
     "name": "stdout",
     "output_type": "stream",
     "text": [
      "Epoch 30, Loss 0.0447\n",
      "Training Accuracy: 0.9489, Testing Accuracy: 0.9607\n",
      "\n"
     ]
    },
    {
     "name": "stdout",
     "output_type": "stream",
     "text": [
      "Epoch 40, Loss 0.0385\n",
      "Training Accuracy: 0.9553, Testing Accuracy: 0.9657\n",
      "\n"
     ]
    },
    {
     "name": "stdout",
     "output_type": "stream",
     "text": [
      "Epoch 50, Loss 0.0348\n",
      "Training Accuracy: 0.9597, Testing Accuracy: 0.9693\n",
      "\n"
     ]
    },
    {
     "name": "stdout",
     "output_type": "stream",
     "text": [
      "Epoch 60, Loss 0.0322\n",
      "Training Accuracy: 0.9620, Testing Accuracy: 0.9708\n",
      "\n"
     ]
    },
    {
     "name": "stdout",
     "output_type": "stream",
     "text": [
      "Epoch 70, Loss 0.0302\n",
      "Training Accuracy: 0.9642, Testing Accuracy: 0.9718\n",
      "\n"
     ]
    },
    {
     "name": "stdout",
     "output_type": "stream",
     "text": [
      "Epoch 80, Loss 0.0287\n",
      "Training Accuracy: 0.9663, Testing Accuracy: 0.9718\n",
      "\n"
     ]
    },
    {
     "name": "stdout",
     "output_type": "stream",
     "text": [
      "Epoch 90, Loss 0.0273\n",
      "Training Accuracy: 0.9681, Testing Accuracy: 0.9718\n",
      "\n"
     ]
    },
    {
     "name": "stdout",
     "output_type": "stream",
     "text": [
      "Epoch 100, Loss 0.0262\n",
      "Training Accuracy: 0.9696, Testing Accuracy: 0.9703\n",
      "\n"
     ]
    },
    {
     "name": "stdout",
     "output_type": "stream",
     "text": [
      "Epoch 110, Loss 0.0253\n",
      "Training Accuracy: 0.9710, Testing Accuracy: 0.9713\n",
      "\n"
     ]
    },
    {
     "name": "stdout",
     "output_type": "stream",
     "text": [
      "Epoch 120, Loss 0.0244\n",
      "Training Accuracy: 0.9718, Testing Accuracy: 0.9708\n",
      "\n"
     ]
    },
    {
     "name": "stdout",
     "output_type": "stream",
     "text": [
      "Epoch 130, Loss 0.0237\n",
      "Training Accuracy: 0.9724, Testing Accuracy: 0.9708\n",
      "\n"
     ]
    },
    {
     "name": "stdout",
     "output_type": "stream",
     "text": [
      "Epoch 140, Loss 0.0229\n",
      "Training Accuracy: 0.9735, Testing Accuracy: 0.9703\n",
      "\n"
     ]
    },
    {
     "name": "stdout",
     "output_type": "stream",
     "text": [
      "Epoch 150, Loss 0.0223\n",
      "Training Accuracy: 0.9740, Testing Accuracy: 0.9713\n",
      "\n"
     ]
    },
    {
     "name": "stdout",
     "output_type": "stream",
     "text": [
      "Epoch 160, Loss 0.0217\n",
      "Training Accuracy: 0.9750, Testing Accuracy: 0.9718\n",
      "\n"
     ]
    },
    {
     "name": "stdout",
     "output_type": "stream",
     "text": [
      "Epoch 170, Loss 0.0212\n",
      "Training Accuracy: 0.9750, Testing Accuracy: 0.9713\n",
      "\n"
     ]
    },
    {
     "name": "stdout",
     "output_type": "stream",
     "text": [
      "Epoch 180, Loss 0.0206\n",
      "Training Accuracy: 0.9762, Testing Accuracy: 0.9713\n",
      "\n"
     ]
    },
    {
     "name": "stdout",
     "output_type": "stream",
     "text": [
      "Epoch 190, Loss 0.0202\n",
      "Training Accuracy: 0.9770, Testing Accuracy: 0.9728\n",
      "\n"
     ]
    },
    {
     "name": "stdout",
     "output_type": "stream",
     "text": [
      "Epoch 200, Loss 0.0197\n",
      "Training Accuracy: 0.9776, Testing Accuracy: 0.9733\n",
      "\n"
     ]
    },
    {
     "name": "stdout",
     "output_type": "stream",
     "text": [
      "Epoch 210, Loss 0.0193\n",
      "Training Accuracy: 0.9784, Testing Accuracy: 0.9733\n",
      "\n"
     ]
    },
    {
     "name": "stdout",
     "output_type": "stream",
     "text": [
      "Epoch 220, Loss 0.0189\n",
      "Training Accuracy: 0.9789, Testing Accuracy: 0.9738\n",
      "\n"
     ]
    },
    {
     "name": "stdout",
     "output_type": "stream",
     "text": [
      "Epoch 230, Loss 0.0185\n",
      "Training Accuracy: 0.9793, Testing Accuracy: 0.9728\n",
      "\n"
     ]
    },
    {
     "name": "stdout",
     "output_type": "stream",
     "text": [
      "Epoch 240, Loss 0.0181\n",
      "Training Accuracy: 0.9798, Testing Accuracy: 0.9733\n",
      "\n"
     ]
    },
    {
     "data": {
      "text/plain": [
       "0.01600862156005095"
      ]
     },
     "execution_count": 22,
     "metadata": {},
     "output_type": "execute_result"
    }
   ],
   "source": [
    "nn_learner.train_loop(dl)"
   ]
  },
  {
   "cell_type": "code",
   "execution_count": 23,
   "id": "e0163366",
   "metadata": {
    "execution": {
     "iopub.execute_input": "2022-03-19T10:12:06.888213Z",
     "iopub.status.busy": "2022-03-19T10:12:06.887181Z",
     "iopub.status.idle": "2022-03-19T10:12:24.587898Z",
     "shell.execute_reply": "2022-03-19T10:12:24.588812Z"
    },
    "papermill": {
     "duration": 17.755596,
     "end_time": "2022-03-19T10:12:24.588974",
     "exception": false,
     "start_time": "2022-03-19T10:12:06.833378",
     "status": "completed"
    },
    "tags": []
   },
   "outputs": [
    {
     "name": "stdout",
     "output_type": "stream",
     "text": [
      "Epoch 0, Loss 0.2541\n",
      "Training Accuracy: 0.6651, Testing Accuracy: 0.6820\n",
      "\n"
     ]
    },
    {
     "name": "stdout",
     "output_type": "stream",
     "text": [
      "Epoch 10, Loss 0.0992\n",
      "Training Accuracy: 0.9152, Testing Accuracy: 0.9264\n",
      "\n"
     ]
    },
    {
     "name": "stdout",
     "output_type": "stream",
     "text": [
      "Epoch 20, Loss 0.0775\n",
      "Training Accuracy: 0.9289, Testing Accuracy: 0.9435\n",
      "\n"
     ]
    },
    {
     "name": "stdout",
     "output_type": "stream",
     "text": [
      "Epoch 30, Loss 0.0673\n",
      "Training Accuracy: 0.9367, Testing Accuracy: 0.9521\n",
      "\n"
     ]
    },
    {
     "name": "stdout",
     "output_type": "stream",
     "text": [
      "Epoch 40, Loss 0.0611\n",
      "Training Accuracy: 0.9413, Testing Accuracy: 0.9546\n",
      "\n"
     ]
    },
    {
     "name": "stdout",
     "output_type": "stream",
     "text": [
      "Epoch 50, Loss 0.0568\n",
      "Training Accuracy: 0.9437, Testing Accuracy: 0.9577\n",
      "\n"
     ]
    },
    {
     "name": "stdout",
     "output_type": "stream",
     "text": [
      "Epoch 60, Loss 0.0536\n",
      "Training Accuracy: 0.9460, Testing Accuracy: 0.9577\n",
      "\n"
     ]
    },
    {
     "name": "stdout",
     "output_type": "stream",
     "text": [
      "Epoch 70, Loss 0.0511\n",
      "Training Accuracy: 0.9479, Testing Accuracy: 0.9582\n",
      "\n"
     ]
    },
    {
     "name": "stdout",
     "output_type": "stream",
     "text": [
      "Epoch 80, Loss 0.0492\n",
      "Training Accuracy: 0.9493, Testing Accuracy: 0.9602\n",
      "\n"
     ]
    },
    {
     "name": "stdout",
     "output_type": "stream",
     "text": [
      "Epoch 90, Loss 0.0475\n",
      "Training Accuracy: 0.9506, Testing Accuracy: 0.9602\n",
      "\n"
     ]
    },
    {
     "name": "stdout",
     "output_type": "stream",
     "text": [
      "Epoch 100, Loss 0.0461\n",
      "Training Accuracy: 0.9519, Testing Accuracy: 0.9602\n",
      "\n"
     ]
    },
    {
     "name": "stdout",
     "output_type": "stream",
     "text": [
      "Epoch 110, Loss 0.0449\n",
      "Training Accuracy: 0.9533, Testing Accuracy: 0.9612\n",
      "\n"
     ]
    },
    {
     "name": "stdout",
     "output_type": "stream",
     "text": [
      "Epoch 120, Loss 0.0439\n",
      "Training Accuracy: 0.9541, Testing Accuracy: 0.9627\n",
      "\n"
     ]
    },
    {
     "name": "stdout",
     "output_type": "stream",
     "text": [
      "Epoch 130, Loss 0.0429\n",
      "Training Accuracy: 0.9545, Testing Accuracy: 0.9632\n",
      "\n"
     ]
    },
    {
     "name": "stdout",
     "output_type": "stream",
     "text": [
      "Epoch 140, Loss 0.0421\n",
      "Training Accuracy: 0.9552, Testing Accuracy: 0.9642\n",
      "\n"
     ]
    },
    {
     "name": "stdout",
     "output_type": "stream",
     "text": [
      "Epoch 150, Loss 0.0414\n",
      "Training Accuracy: 0.9564, Testing Accuracy: 0.9647\n",
      "\n"
     ]
    },
    {
     "name": "stdout",
     "output_type": "stream",
     "text": [
      "Epoch 160, Loss 0.0407\n",
      "Training Accuracy: 0.9568, Testing Accuracy: 0.9652\n",
      "\n"
     ]
    },
    {
     "name": "stdout",
     "output_type": "stream",
     "text": [
      "Epoch 170, Loss 0.0401\n",
      "Training Accuracy: 0.9574, Testing Accuracy: 0.9652\n",
      "\n"
     ]
    },
    {
     "name": "stdout",
     "output_type": "stream",
     "text": [
      "Epoch 180, Loss 0.0395\n",
      "Training Accuracy: 0.9583, Testing Accuracy: 0.9662\n",
      "\n"
     ]
    },
    {
     "name": "stdout",
     "output_type": "stream",
     "text": [
      "Epoch 190, Loss 0.039\n",
      "Training Accuracy: 0.9587, Testing Accuracy: 0.9652\n",
      "\n"
     ]
    },
    {
     "name": "stdout",
     "output_type": "stream",
     "text": [
      "Epoch 200, Loss 0.0385\n",
      "Training Accuracy: 0.9594, Testing Accuracy: 0.9657\n",
      "\n"
     ]
    },
    {
     "name": "stdout",
     "output_type": "stream",
     "text": [
      "Epoch 210, Loss 0.0381\n",
      "Training Accuracy: 0.9597, Testing Accuracy: 0.9657\n",
      "\n"
     ]
    },
    {
     "name": "stdout",
     "output_type": "stream",
     "text": [
      "Epoch 220, Loss 0.0377\n",
      "Training Accuracy: 0.9599, Testing Accuracy: 0.9652\n",
      "\n"
     ]
    },
    {
     "name": "stdout",
     "output_type": "stream",
     "text": [
      "Epoch 230, Loss 0.0373\n",
      "Training Accuracy: 0.9604, Testing Accuracy: 0.9657\n",
      "\n"
     ]
    },
    {
     "name": "stdout",
     "output_type": "stream",
     "text": [
      "Epoch 240, Loss 0.0369\n",
      "Training Accuracy: 0.9611, Testing Accuracy: 0.9657\n",
      "\n"
     ]
    },
    {
     "data": {
      "text/plain": [
       "0.025022544382024316"
      ]
     },
     "execution_count": 23,
     "metadata": {},
     "output_type": "execute_result"
    }
   ],
   "source": [
    "lr_learner.train_loop(dl)"
   ]
  },
  {
   "cell_type": "code",
   "execution_count": 24,
   "id": "ca410940",
   "metadata": {
    "execution": {
     "iopub.execute_input": "2022-03-19T10:12:24.697992Z",
     "iopub.status.busy": "2022-03-19T10:12:24.697370Z",
     "iopub.status.idle": "2022-03-19T10:12:24.982272Z",
     "shell.execute_reply": "2022-03-19T10:12:24.983020Z"
    },
    "papermill": {
     "duration": 0.342181,
     "end_time": "2022-03-19T10:12:24.983176",
     "exception": false,
     "start_time": "2022-03-19T10:12:24.640995",
     "status": "completed"
    },
    "tags": []
   },
   "outputs": [
    {
     "data": {
      "text/plain": [
       "<matplotlib.legend.Legend at 0x7f45d4f5bc88>"
      ]
     },
     "execution_count": 24,
     "metadata": {},
     "output_type": "execute_result"
    },
    {
     "data": {
      "image/png": "[encoded data removed]",
      "text/plain": [
       "<Figure size 1080x720 with 1 Axes>"
      ]
     },
     "metadata": {
      "needs_background": "light"
     },
     "output_type": "display_data"
    }
   ],
   "source": [
    "#comparing the results of NN and LR\n",
    "plt.figure(figsize=(15,10))\n",
    "\n",
    "# Neural Network plots\n",
    "plt.plot(acc_nn.accuracies, 'r-', label = \"Training Accuracies - NN\")\n",
    "plt.plot(acc_nn.test_accuracies, 'g-', label = \"Testing Accuracies - NN\")\n",
    "\n",
    "# Logistic Regression plots\n",
    "plt.plot(acc_lr.accuracies, 'k-', label = \"Training Accuracies - LR\")\n",
    "plt.plot(acc_lr.test_accuracies, 'b-', label = \"Testing Accuracies - LR\")\n",
    "plt.legend()"
   ]
  },
  {
   "cell_type": "markdown",
   "id": "80dfb35c",
   "metadata": {
    "papermill": {
     "duration": 0.061063,
     "end_time": "2022-03-19T10:12:25.094397",
     "exception": false,
     "start_time": "2022-03-19T10:12:25.033334",
     "status": "completed"
    },
    "tags": []
   },
   "source": [
    "#### Plotting the outputs of this layer of the NN.\n"
   ]
  },
  {
   "cell_type": "code",
   "execution_count": 25,
   "id": "45eb2ff5",
   "metadata": {
    "execution": {
     "iopub.execute_input": "2022-03-19T10:12:25.200194Z",
     "iopub.status.busy": "2022-03-19T10:12:25.194438Z",
     "iopub.status.idle": "2022-03-19T10:12:25.219166Z",
     "shell.execute_reply": "2022-03-19T10:12:25.220073Z"
    },
    "papermill": {
     "duration": 0.076956,
     "end_time": "2022-03-19T10:12:25.220248",
     "exception": false,
     "start_time": "2022-03-19T10:12:25.143292",
     "status": "completed"
    },
    "tags": []
   },
   "outputs": [],
   "source": [
    "new_model = Model(layers[:-2])\n",
    "testing_plot = new_model(testing_data_x)"
   ]
  },
  {
   "cell_type": "code",
   "execution_count": 26,
   "id": "4c0a5485",
   "metadata": {
    "execution": {
     "iopub.execute_input": "2022-03-19T10:12:25.326054Z",
     "iopub.status.busy": "2022-03-19T10:12:25.325442Z",
     "iopub.status.idle": "2022-03-19T10:12:25.581551Z",
     "shell.execute_reply": "2022-03-19T10:12:25.582124Z"
    },
    "papermill": {
     "duration": 0.311897,
     "end_time": "2022-03-19T10:12:25.582300",
     "exception": false,
     "start_time": "2022-03-19T10:12:25.270403",
     "status": "completed"
    },
    "tags": []
   },
   "outputs": [
    {
     "data": {
      "text/plain": [
       "Text(0.5, 1.0, 'Outputs')"
      ]
     },
     "execution_count": 26,
     "metadata": {},
     "output_type": "execute_result"
    },
    {
     "data": {
      "image/png": "[encoded data removed]",
      "text/plain": [
       "<Figure size 576x504 with 1 Axes>"
      ]
     },
     "metadata": {
      "needs_background": "light"
     },
     "output_type": "display_data"
    }
   ],
   "source": [
    "# Plotting the scatter plot of points and color coding by class\n",
    "plt.figure(figsize=(8,7))\n",
    "plt.scatter(testing_plot[:,0], testing_plot[:,1], alpha = 0.1, c = y_test.ravel());\n",
    "plt.title('Outputs')"
   ]
  },
  {
   "cell_type": "markdown",
   "id": "a74fcf8f",
   "metadata": {
    "papermill": {
     "duration": 0.052008,
     "end_time": "2022-03-19T10:12:25.688492",
     "exception": false,
     "start_time": "2022-03-19T10:12:25.636484",
     "status": "completed"
    },
    "tags": []
   },
   "source": [
    "Probability contours"
   ]
  },
  {
   "cell_type": "code",
   "execution_count": 27,
   "id": "d0afc8e3",
   "metadata": {
    "execution": {
     "iopub.execute_input": "2022-03-19T10:12:25.825867Z",
     "iopub.status.busy": "2022-03-19T10:12:25.820864Z",
     "iopub.status.idle": "2022-03-19T10:12:25.833877Z",
     "shell.execute_reply": "2022-03-19T10:12:25.834399Z"
    },
    "papermill": {
     "duration": 0.072509,
     "end_time": "2022-03-19T10:12:25.834565",
     "exception": false,
     "start_time": "2022-03-19T10:12:25.762056",
     "status": "completed"
    },
    "tags": []
   },
   "outputs": [],
   "source": [
    "model_prob = Model(layers[-2:]) "
   ]
  },
  {
   "cell_type": "code",
   "execution_count": 28,
   "id": "9b96e238",
   "metadata": {
    "execution": {
     "iopub.execute_input": "2022-03-19T10:12:25.966755Z",
     "iopub.status.busy": "2022-03-19T10:12:25.964775Z",
     "iopub.status.idle": "2022-03-19T10:12:25.969293Z",
     "shell.execute_reply": "2022-03-19T10:12:25.969854Z"
    },
    "papermill": {
     "duration": 0.078294,
     "end_time": "2022-03-19T10:12:25.969991",
     "exception": false,
     "start_time": "2022-03-19T10:12:25.891697",
     "status": "completed"
    },
    "tags": []
   },
   "outputs": [],
   "source": [
    "#creating the x and y ranges according to the above generated plot.\n",
    "x_range = np.linspace(-4, 1, 100) \n",
    "y_range = np.linspace(-6, 6, 100) \n",
    "x_grid, y_grid = np.meshgrid(x_range, y_range) # x_grid and y_grig are of size 100 X 100\n",
    "\n",
    "# converting x_grid and y_grid to continuous arrays\n",
    "x_gridflat = np.ravel(x_grid)\n",
    "y_gridflat = np.ravel(y_grid)\n",
    "\n",
    "# The last layer of the current model takes two columns as input. Hence transpose of np.vstack() is required.\n",
    "X = np.vstack((x_gridflat, y_gridflat)).T\n",
    "\n",
    "prob_contour = model_prob(X).reshape(100,100) "
   ]
  },
  {
   "cell_type": "code",
   "execution_count": 29,
   "id": "da72499a",
   "metadata": {
    "execution": {
     "iopub.execute_input": "2022-03-19T10:12:26.092935Z",
     "iopub.status.busy": "2022-03-19T10:12:26.091601Z",
     "iopub.status.idle": "2022-03-19T10:12:26.403168Z",
     "shell.execute_reply": "2022-03-19T10:12:26.402645Z"
    },
    "papermill": {
     "duration": 0.380085,
     "end_time": "2022-03-19T10:12:26.403327",
     "exception": false,
     "start_time": "2022-03-19T10:12:26.023242",
     "status": "completed"
    },
    "tags": []
   },
   "outputs": [
    {
     "data": {
      "image/png": "[encoded data removed]",
      "text/plain": [
       "<Figure size 720x648 with 1 Axes>"
      ]
     },
     "metadata": {
      "needs_background": "light"
     },
     "output_type": "display_data"
    }
   ],
   "source": [
    "plt.figure(figsize=(10,9))\n",
    "plt.scatter(testing_plot[:,0], testing_plot[:,1], alpha = 0.1, c = y_test.ravel())\n",
    "contours = plt.contour(x_grid,y_grid,prob_contour)\n",
    "plt.title('Probability Contours')\n",
    "plt.clabel(contours, inline = True );"
   ]
  },
  {
   "cell_type": "code",
   "execution_count": null,
   "id": "e81b4ac7",
   "metadata": {
    "papermill": {
     "duration": 0.052857,
     "end_time": "2022-03-19T10:12:26.510240",
     "exception": false,
     "start_time": "2022-03-19T10:12:26.457383",
     "status": "completed"
    },
    "tags": []
   },
   "outputs": [],
   "source": []
  }
 ],
 "metadata": {
  "kernelspec": {
   "display_name": "Python 3",
   "language": "python",
   "name": "python3"
  },
  "language_info": {
   "codemirror_mode": {
    "name": "ipython",
    "version": 3
   },
   "file_extension": ".py",
   "mimetype": "text/x-python",
   "name": "python",
   "nbconvert_exporter": "python",
   "pygments_lexer": "ipython3",
   "version": "3.6.15"
  },
  "papermill": {
   "default_parameters": {},
   "duration": 150.08874,
   "end_time": "2022-03-19T10:12:26.985764",
   "environment_variables": {},
   "exception": null,
   "input_path": "2020-08-11-part2.ipynb",
   "output_path": "2020-08-11-part2.ipynb",
   "parameters": {},
   "start_time": "2022-03-19T10:09:56.897024",
   "version": "2.3.3"
  }
 },
 "nbformat": 4,
 "nbformat_minor": 5
}