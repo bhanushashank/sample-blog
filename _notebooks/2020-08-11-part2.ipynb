{
 "cells": [
  {
   "cell_type": "markdown",
   "id": "98380cd3",
   "metadata": {
    "papermill": {
     "duration": 0.035776,
     "end_time": "2021-11-06T00:21:43.561323",
     "exception": false,
     "start_time": "2021-11-06T00:21:43.525547",
     "status": "completed"
    },
    "tags": []
   },
   "source": [
    "# Distinguish Your Own Digits (DYOD)"
   ]
  },
  {
   "cell_type": "markdown",
   "id": "ef31240d",
   "metadata": {
    "papermill": {
     "duration": 0.030455,
     "end_time": "2021-11-06T00:21:43.622150",
     "exception": false,
     "start_time": "2021-11-06T00:21:43.591695",
     "status": "completed"
    },
    "tags": []
   },
   "source": [
    "You are going to write a classifier that distinguishes between the number 3 and number 8."
   ]
  },
  {
   "cell_type": "code",
   "execution_count": 1,
   "id": "b15c8646",
   "metadata": {
    "execution": {
     "iopub.execute_input": "2021-11-06T00:21:43.699293Z",
     "iopub.status.busy": "2021-11-06T00:21:43.698599Z",
     "iopub.status.idle": "2021-11-06T00:21:43.711759Z",
     "shell.execute_reply": "2021-11-06T00:21:43.711190Z"
    },
    "papermill": {
     "duration": 0.056427,
     "end_time": "2021-11-06T00:21:43.711945",
     "exception": false,
     "start_time": "2021-11-06T00:21:43.655518",
     "status": "completed"
    },
    "tags": []
   },
   "outputs": [],
   "source": [
    "%load_ext autoreload\n",
    "%autoreload 2"
   ]
  },
  {
   "cell_type": "code",
   "execution_count": 2,
   "id": "22ef38dc",
   "metadata": {
    "execution": {
     "iopub.execute_input": "2021-11-06T00:21:43.780392Z",
     "iopub.status.busy": "2021-11-06T00:21:43.779709Z",
     "iopub.status.idle": "2021-11-06T00:21:44.404008Z",
     "shell.execute_reply": "2021-11-06T00:21:44.403426Z"
    },
    "papermill": {
     "duration": 0.660819,
     "end_time": "2021-11-06T00:21:44.404174",
     "exception": false,
     "start_time": "2021-11-06T00:21:43.743355",
     "status": "completed"
    },
    "tags": []
   },
   "outputs": [],
   "source": [
    "%matplotlib inline\n",
    "import numpy as np\n",
    "import matplotlib.pyplot as plt\n",
    "import pandas as pd"
   ]
  },
  {
   "cell_type": "markdown",
   "id": "ba036198",
   "metadata": {
    "papermill": {
     "duration": 0.034309,
     "end_time": "2021-11-06T00:21:44.469721",
     "exception": false,
     "start_time": "2021-11-06T00:21:44.435412",
     "status": "completed"
    },
    "tags": []
   },
   "source": [
    "From the command line run `pip install mnist`. This is a library that will help you bring down the mnist dataset. If you run this from a notebook, you need to put  `!pip install mnist` in a cell by itself."
   ]
  },
  {
   "cell_type": "code",
   "execution_count": 3,
   "id": "bb6ad8a1",
   "metadata": {
    "execution": {
     "iopub.execute_input": "2021-11-06T00:21:44.537310Z",
     "iopub.status.busy": "2021-11-06T00:21:44.536633Z",
     "iopub.status.idle": "2021-11-06T00:21:46.573200Z",
     "shell.execute_reply": "2021-11-06T00:21:46.572597Z"
    },
    "papermill": {
     "duration": 2.073289,
     "end_time": "2021-11-06T00:21:46.573338",
     "exception": false,
     "start_time": "2021-11-06T00:21:44.500049",
     "status": "completed"
    },
    "tags": []
   },
   "outputs": [
    {
     "name": "stdout",
     "output_type": "stream",
     "text": [
      "Collecting mnist\r\n"
     ]
    },
    {
     "name": "stdout",
     "output_type": "stream",
     "text": [
      "  Downloading mnist-0.2.2-py2.py3-none-any.whl (3.5 kB)\r\n",
      "Requirement already satisfied: numpy in /opt/hostedtoolcache/Python/3.6.15/x64/lib/python3.6/site-packages (from mnist) (1.19.5)\r\n"
     ]
    },
    {
     "name": "stdout",
     "output_type": "stream",
     "text": [
      "Installing collected packages: mnist\r\n"
     ]
    },
    {
     "name": "stdout",
     "output_type": "stream",
     "text": [
      "Successfully installed mnist-0.2.2\r\n"
     ]
    }
   ],
   "source": [
    "!pip install mnist"
   ]
  },
  {
   "cell_type": "markdown",
   "id": "69df9c9a",
   "metadata": {
    "papermill": {
     "duration": 0.033689,
     "end_time": "2021-11-06T00:21:46.638609",
     "exception": false,
     "start_time": "2021-11-06T00:21:46.604920",
     "status": "completed"
    },
    "tags": []
   },
   "source": [
    "## Preparing the Data"
   ]
  },
  {
   "cell_type": "code",
   "execution_count": 4,
   "id": "7f69d806",
   "metadata": {
    "execution": {
     "iopub.execute_input": "2021-11-06T00:21:46.723230Z",
     "iopub.status.busy": "2021-11-06T00:21:46.715091Z",
     "iopub.status.idle": "2021-11-06T00:21:46.727676Z",
     "shell.execute_reply": "2021-11-06T00:21:46.728130Z"
    },
    "papermill": {
     "duration": 0.05836,
     "end_time": "2021-11-06T00:21:46.728267",
     "exception": false,
     "start_time": "2021-11-06T00:21:46.669907",
     "status": "completed"
    },
    "tags": []
   },
   "outputs": [],
   "source": [
    "import mnist"
   ]
  },
  {
   "cell_type": "code",
   "execution_count": 5,
   "id": "a411e44f",
   "metadata": {
    "execution": {
     "iopub.execute_input": "2021-11-06T00:21:46.798787Z",
     "iopub.status.busy": "2021-11-06T00:21:46.795860Z",
     "iopub.status.idle": "2021-11-06T00:21:47.479415Z",
     "shell.execute_reply": "2021-11-06T00:21:47.478801Z"
    },
    "papermill": {
     "duration": 0.719008,
     "end_time": "2021-11-06T00:21:47.479570",
     "exception": false,
     "start_time": "2021-11-06T00:21:46.760562",
     "status": "completed"
    },
    "tags": []
   },
   "outputs": [],
   "source": [
    "train_images = mnist.train_images()\n",
    "train_labels = mnist.train_labels()"
   ]
  },
  {
   "cell_type": "code",
   "execution_count": 6,
   "id": "dceab3a5",
   "metadata": {
    "execution": {
     "iopub.execute_input": "2021-11-06T00:21:47.547951Z",
     "iopub.status.busy": "2021-11-06T00:21:47.547244Z",
     "iopub.status.idle": "2021-11-06T00:21:47.563662Z",
     "shell.execute_reply": "2021-11-06T00:21:47.562983Z"
    },
    "papermill": {
     "duration": 0.051454,
     "end_time": "2021-11-06T00:21:47.563792",
     "exception": false,
     "start_time": "2021-11-06T00:21:47.512338",
     "status": "completed"
    },
    "tags": []
   },
   "outputs": [
    {
     "data": {
      "text/plain": [
       "((60000, 28, 28), (60000,))"
      ]
     },
     "execution_count": 6,
     "metadata": {},
     "output_type": "execute_result"
    }
   ],
   "source": [
    "train_images.shape, train_labels.shape"
   ]
  },
  {
   "cell_type": "code",
   "execution_count": 7,
   "id": "f50dc2bb",
   "metadata": {
    "execution": {
     "iopub.execute_input": "2021-11-06T00:21:47.634194Z",
     "iopub.status.busy": "2021-11-06T00:21:47.633435Z",
     "iopub.status.idle": "2021-11-06T00:21:49.527373Z",
     "shell.execute_reply": "2021-11-06T00:21:49.527896Z"
    },
    "papermill": {
     "duration": 1.931601,
     "end_time": "2021-11-06T00:21:49.528088",
     "exception": false,
     "start_time": "2021-11-06T00:21:47.596487",
     "status": "completed"
    },
    "tags": []
   },
   "outputs": [],
   "source": [
    "test_images = mnist.test_images()\n",
    "test_labels = mnist.test_labels()"
   ]
  },
  {
   "cell_type": "code",
   "execution_count": 8,
   "id": "fc38cf1b",
   "metadata": {
    "execution": {
     "iopub.execute_input": "2021-11-06T00:21:49.593323Z",
     "iopub.status.busy": "2021-11-06T00:21:49.592678Z",
     "iopub.status.idle": "2021-11-06T00:21:49.613211Z",
     "shell.execute_reply": "2021-11-06T00:21:49.612640Z"
    },
    "papermill": {
     "duration": 0.054444,
     "end_time": "2021-11-06T00:21:49.613369",
     "exception": false,
     "start_time": "2021-11-06T00:21:49.558925",
     "status": "completed"
    },
    "tags": []
   },
   "outputs": [
    {
     "data": {
      "text/plain": [
       "((10000, 28, 28), (10000,))"
      ]
     },
     "execution_count": 8,
     "metadata": {},
     "output_type": "execute_result"
    }
   ],
   "source": [
    "test_images.shape, test_labels.shape"
   ]
  },
  {
   "cell_type": "code",
   "execution_count": 9,
   "id": "f9ed8fe0",
   "metadata": {
    "execution": {
     "iopub.execute_input": "2021-11-06T00:21:49.684182Z",
     "iopub.status.busy": "2021-11-06T00:21:49.683511Z",
     "iopub.status.idle": "2021-11-06T00:21:49.867698Z",
     "shell.execute_reply": "2021-11-06T00:21:49.867172Z"
    },
    "papermill": {
     "duration": 0.221985,
     "end_time": "2021-11-06T00:21:49.867834",
     "exception": false,
     "start_time": "2021-11-06T00:21:49.645849",
     "status": "completed"
    },
    "tags": []
   },
   "outputs": [
    {
     "name": "stdout",
     "output_type": "stream",
     "text": [
      "2\n"
     ]
    },
    {
     "data": {
      "text/plain": [
       "<matplotlib.image.AxesImage at 0x7f909312a668>"
      ]
     },
     "execution_count": 9,
     "metadata": {},
     "output_type": "execute_result"
    },
    {
     "data": {
      "image/png": "[encoded data removed]",
      "text/plain": [
       "<Figure size 432x288 with 1 Axes>"
      ]
     },
     "metadata": {
      "needs_background": "light"
     },
     "output_type": "display_data"
    }
   ],
   "source": [
    "image_index = 7776 # You may select anything up to 60,000\n",
    "print(train_labels[image_index]) \n",
    "plt.imshow(train_images[image_index], cmap='Greys')"
   ]
  },
  {
   "cell_type": "markdown",
   "id": "a8d2388d",
   "metadata": {
    "papermill": {
     "duration": 0.032603,
     "end_time": "2021-11-06T00:21:49.933168",
     "exception": false,
     "start_time": "2021-11-06T00:21:49.900565",
     "status": "completed"
    },
    "tags": []
   },
   "source": [
    "## Filter data to get 3 and 8 out"
   ]
  },
  {
   "cell_type": "code",
   "execution_count": 10,
   "id": "776f7fc7",
   "metadata": {
    "execution": {
     "iopub.execute_input": "2021-11-06T00:21:50.002604Z",
     "iopub.status.busy": "2021-11-06T00:21:50.001534Z",
     "iopub.status.idle": "2021-11-06T00:21:50.023818Z",
     "shell.execute_reply": "2021-11-06T00:21:50.023173Z"
    },
    "papermill": {
     "duration": 0.058424,
     "end_time": "2021-11-06T00:21:50.023971",
     "exception": false,
     "start_time": "2021-11-06T00:21:49.965547",
     "status": "completed"
    },
    "tags": []
   },
   "outputs": [],
   "source": [
    "train_filter = np.where((train_labels == 3 ) | (train_labels == 8))\n",
    "test_filter = np.where((test_labels == 3) | (test_labels == 8))\n",
    "X_train, y_train = train_images[train_filter], train_labels[train_filter]\n",
    "X_test, y_test = test_images[test_filter], test_labels[test_filter]"
   ]
  },
  {
   "cell_type": "markdown",
   "id": "948f0b7e",
   "metadata": {
    "papermill": {
     "duration": 0.033609,
     "end_time": "2021-11-06T00:21:50.094753",
     "exception": false,
     "start_time": "2021-11-06T00:21:50.061144",
     "status": "completed"
    },
    "tags": []
   },
   "source": [
    "We normalize the pizel values in the 0 to 1 range"
   ]
  },
  {
   "cell_type": "code",
   "execution_count": 11,
   "id": "ee4c2166",
   "metadata": {
    "execution": {
     "iopub.execute_input": "2021-11-06T00:21:50.183169Z",
     "iopub.status.busy": "2021-11-06T00:21:50.176895Z",
     "iopub.status.idle": "2021-11-06T00:21:50.246256Z",
     "shell.execute_reply": "2021-11-06T00:21:50.245598Z"
    },
    "papermill": {
     "duration": 0.111279,
     "end_time": "2021-11-06T00:21:50.246408",
     "exception": false,
     "start_time": "2021-11-06T00:21:50.135129",
     "status": "completed"
    },
    "tags": []
   },
   "outputs": [],
   "source": [
    "X_train = X_train/255.\n",
    "X_test = X_test/255."
   ]
  },
  {
   "cell_type": "markdown",
   "id": "ddcf4fab",
   "metadata": {
    "papermill": {
     "duration": 0.0333,
     "end_time": "2021-11-06T00:21:50.313465",
     "exception": false,
     "start_time": "2021-11-06T00:21:50.280165",
     "status": "completed"
    },
    "tags": []
   },
   "source": [
    "And setup the labels as 1 (when the digit is 3) and 0 (when the digit is 8)"
   ]
  },
  {
   "cell_type": "code",
   "execution_count": 12,
   "id": "7dc908f2",
   "metadata": {
    "execution": {
     "iopub.execute_input": "2021-11-06T00:21:50.387507Z",
     "iopub.status.busy": "2021-11-06T00:21:50.382712Z",
     "iopub.status.idle": "2021-11-06T00:21:50.396811Z",
     "shell.execute_reply": "2021-11-06T00:21:50.397330Z"
    },
    "papermill": {
     "duration": 0.049718,
     "end_time": "2021-11-06T00:21:50.397478",
     "exception": false,
     "start_time": "2021-11-06T00:21:50.347760",
     "status": "completed"
    },
    "tags": []
   },
   "outputs": [],
   "source": [
    "y_train = 1*(y_train==3)\n",
    "y_test = 1*(y_test==3)"
   ]
  },
  {
   "cell_type": "code",
   "execution_count": 13,
   "id": "01e4e969",
   "metadata": {
    "execution": {
     "iopub.execute_input": "2021-11-06T00:21:50.471758Z",
     "iopub.status.busy": "2021-11-06T00:21:50.469477Z",
     "iopub.status.idle": "2021-11-06T00:21:50.484170Z",
     "shell.execute_reply": "2021-11-06T00:21:50.484744Z"
    },
    "papermill": {
     "duration": 0.052635,
     "end_time": "2021-11-06T00:21:50.484897",
     "exception": false,
     "start_time": "2021-11-06T00:21:50.432262",
     "status": "completed"
    },
    "tags": []
   },
   "outputs": [
    {
     "data": {
      "text/plain": [
       "((11982, 28, 28), (1984, 28, 28))"
      ]
     },
     "execution_count": 13,
     "metadata": {},
     "output_type": "execute_result"
    }
   ],
   "source": [
    "X_train.shape, X_test.shape"
   ]
  },
  {
   "cell_type": "markdown",
   "id": "5ccf3f85",
   "metadata": {
    "papermill": {
     "duration": 0.035236,
     "end_time": "2021-11-06T00:21:50.558936",
     "exception": false,
     "start_time": "2021-11-06T00:21:50.523700",
     "status": "completed"
    },
    "tags": []
   },
   "source": [
    "We reshape the data to flatten the image pixels into a set of features or co-variates:"
   ]
  },
  {
   "cell_type": "code",
   "execution_count": 14,
   "id": "5286a4a3",
   "metadata": {
    "execution": {
     "iopub.execute_input": "2021-11-06T00:21:50.631609Z",
     "iopub.status.busy": "2021-11-06T00:21:50.630770Z",
     "iopub.status.idle": "2021-11-06T00:21:50.646140Z",
     "shell.execute_reply": "2021-11-06T00:21:50.646677Z"
    },
    "papermill": {
     "duration": 0.054851,
     "end_time": "2021-11-06T00:21:50.646849",
     "exception": false,
     "start_time": "2021-11-06T00:21:50.591998",
     "status": "completed"
    },
    "tags": []
   },
   "outputs": [
    {
     "data": {
      "text/plain": [
       "((11982, 784), (1984, 784))"
      ]
     },
     "execution_count": 14,
     "metadata": {},
     "output_type": "execute_result"
    }
   ],
   "source": [
    "X_train = X_train.reshape(X_train.shape[0], -1)\n",
    "X_test = X_test.reshape(X_test.shape[0], -1)\n",
    "X_train.shape, X_test.shape"
   ]
  },
  {
   "cell_type": "code",
   "execution_count": 15,
   "id": "73c5f88a",
   "metadata": {
    "execution": {
     "iopub.execute_input": "2021-11-06T00:21:50.723962Z",
     "iopub.status.busy": "2021-11-06T00:21:50.723256Z",
     "iopub.status.idle": "2021-11-06T00:21:50.745183Z",
     "shell.execute_reply": "2021-11-06T00:21:50.746157Z"
    },
    "papermill": {
     "duration": 0.065127,
     "end_time": "2021-11-06T00:21:50.746314",
     "exception": false,
     "start_time": "2021-11-06T00:21:50.681187",
     "status": "completed"
    },
    "tags": []
   },
   "outputs": [],
   "source": [
    "#Impoting functions from 'Kudzu'\n",
    "from kudzu.model import Model\n",
    "from kudzu.train import Learner\n",
    "from kudzu.optim import GD\n",
    "from kudzu.data import Data, Sampler,Dataloader\n",
    "\n",
    "from kudzu.callbacks import AccCallback\n",
    "from kudzu.callbacks import ClfCallback\n",
    "\n",
    "from kudzu.loss import MSE\n",
    "\n",
    "from kudzu.layer import Sigmoid,Relu\n",
    "from kudzu.layer import Affine"
   ]
  },
  {
   "cell_type": "markdown",
   "id": "bc01172a",
   "metadata": {
    "papermill": {
     "duration": 0.035333,
     "end_time": "2021-11-06T00:21:50.817298",
     "exception": false,
     "start_time": "2021-11-06T00:21:50.781965",
     "status": "completed"
    },
    "tags": []
   },
   "source": [
    "### Let us create a `Config` class, to store important parameters. \n",
    "This class essentially plays the role of a dictionary."
   ]
  },
  {
   "cell_type": "code",
   "execution_count": 16,
   "id": "978281aa",
   "metadata": {
    "execution": {
     "iopub.execute_input": "2021-11-06T00:21:50.892474Z",
     "iopub.status.busy": "2021-11-06T00:21:50.891686Z",
     "iopub.status.idle": "2021-11-06T00:21:50.906163Z",
     "shell.execute_reply": "2021-11-06T00:21:50.905503Z"
    },
    "papermill": {
     "duration": 0.053665,
     "end_time": "2021-11-06T00:21:50.906338",
     "exception": false,
     "start_time": "2021-11-06T00:21:50.852673",
     "status": "completed"
    },
    "tags": []
   },
   "outputs": [],
   "source": [
    "class Config:\n",
    "    pass\n",
    "config = Config()\n",
    "config.lr = 0.001\n",
    "config.num_epochs = 250\n",
    "config.bs = 50"
   ]
  },
  {
   "cell_type": "markdown",
   "id": "1385fa59",
   "metadata": {
    "papermill": {
     "duration": 0.032584,
     "end_time": "2021-11-06T00:21:50.973189",
     "exception": false,
     "start_time": "2021-11-06T00:21:50.940605",
     "status": "completed"
    },
    "tags": []
   },
   "source": [
    "### Running Models with the Training data\n",
    "Details about the network layers:\n",
    "- A first affine layer has 784 inputs and does 100 affine transforms. These are followed by a Relu\n",
    "- A second affine layer has 100 inputs from the 100 activations of the past layer, and does 100 affine transforms. These are followed by a Relu\n",
    "- A third affine layer has 100 activations and does 2 affine transformations to create an embedding for visualization. There is no non-linearity here.\n",
    "- A final \"logistic regression\" which has an affine transform from 2 inputs to 1 output, which is squeezed through a sigmoid.\n"
   ]
  },
  {
   "cell_type": "code",
   "execution_count": 17,
   "id": "2b9c66db",
   "metadata": {
    "execution": {
     "iopub.execute_input": "2021-11-06T00:21:51.049144Z",
     "iopub.status.busy": "2021-11-06T00:21:51.048478Z",
     "iopub.status.idle": "2021-11-06T00:21:51.061522Z",
     "shell.execute_reply": "2021-11-06T00:21:51.062255Z"
    },
    "papermill": {
     "duration": 0.054245,
     "end_time": "2021-11-06T00:21:51.062422",
     "exception": false,
     "start_time": "2021-11-06T00:21:51.008177",
     "status": "completed"
    },
    "tags": []
   },
   "outputs": [],
   "source": [
    "data = Data(X_train, y_train.reshape(-1,1))\n",
    "sampler = Sampler(data, config.bs, shuffle=True)\n",
    "\n",
    "dl = Dataloader(data, sampler)\n",
    "\n",
    "opt = GD(config.lr)\n",
    "loss = MSE()"
   ]
  },
  {
   "cell_type": "code",
   "execution_count": 18,
   "id": "b275e4c2",
   "metadata": {
    "execution": {
     "iopub.execute_input": "2021-11-06T00:21:51.134654Z",
     "iopub.status.busy": "2021-11-06T00:21:51.134011Z",
     "iopub.status.idle": "2021-11-06T00:21:51.147591Z",
     "shell.execute_reply": "2021-11-06T00:21:51.148089Z"
    },
    "papermill": {
     "duration": 0.051722,
     "end_time": "2021-11-06T00:21:51.148238",
     "exception": false,
     "start_time": "2021-11-06T00:21:51.096516",
     "status": "completed"
    },
    "tags": []
   },
   "outputs": [],
   "source": [
    "training_data_x = X_train\n",
    "testing_data_x = X_test\n",
    "training_data_y = y_train.reshape(-1,1)\n",
    "testing_data_y = y_test.reshape(-1,1)"
   ]
  },
  {
   "cell_type": "code",
   "execution_count": 19,
   "id": "76951160",
   "metadata": {
    "execution": {
     "iopub.execute_input": "2021-11-06T00:21:51.224895Z",
     "iopub.status.busy": "2021-11-06T00:21:51.224205Z",
     "iopub.status.idle": "2021-11-06T00:21:51.239951Z",
     "shell.execute_reply": "2021-11-06T00:21:51.240514Z"
    },
    "papermill": {
     "duration": 0.059139,
     "end_time": "2021-11-06T00:21:51.240671",
     "exception": false,
     "start_time": "2021-11-06T00:21:51.181532",
     "status": "completed"
    },
    "tags": []
   },
   "outputs": [
    {
     "name": "stdout",
     "output_type": "stream",
     "text": [
      "xavier\n",
      "xavier\n",
      "xavier\n",
      "xavier\n",
      "xavier\n"
     ]
    }
   ],
   "source": [
    "layers = [Affine(\"first\", 784, 100), Relu(\"first\"), Affine(\"second\", 100, 100), Relu(\"second\"), Affine(\"third\", 100, 2), Affine(\"last\", 2, 1), Sigmoid(\"last\")]\n",
    "model_nn = Model(layers)\n",
    "model_lr = Model([Affine(\"logits\", 784, 1), Sigmoid(\"sigmoid\")])"
   ]
  },
  {
   "cell_type": "code",
   "execution_count": 20,
   "id": "6eede77a",
   "metadata": {
    "execution": {
     "iopub.execute_input": "2021-11-06T00:21:51.312714Z",
     "iopub.status.busy": "2021-11-06T00:21:51.312002Z",
     "iopub.status.idle": "2021-11-06T00:21:51.326171Z",
     "shell.execute_reply": "2021-11-06T00:21:51.325559Z"
    },
    "papermill": {
     "duration": 0.051581,
     "end_time": "2021-11-06T00:21:51.326328",
     "exception": false,
     "start_time": "2021-11-06T00:21:51.274747",
     "status": "completed"
    },
    "tags": []
   },
   "outputs": [],
   "source": [
    "nn_learner = Learner(loss, model_nn, opt, config.num_epochs)\n",
    "acc_nn = ClfCallback(nn_learner, config.bs, training_data_x , testing_data_x, training_data_y, testing_data_y)\n",
    "nn_learner.set_callbacks([acc_nn])"
   ]
  },
  {
   "cell_type": "code",
   "execution_count": 21,
   "id": "877b6cc7",
   "metadata": {
    "execution": {
     "iopub.execute_input": "2021-11-06T00:21:51.400815Z",
     "iopub.status.busy": "2021-11-06T00:21:51.400180Z",
     "iopub.status.idle": "2021-11-06T00:21:51.412480Z",
     "shell.execute_reply": "2021-11-06T00:21:51.411938Z"
    },
    "papermill": {
     "duration": 0.050626,
     "end_time": "2021-11-06T00:21:51.412617",
     "exception": false,
     "start_time": "2021-11-06T00:21:51.361991",
     "status": "completed"
    },
    "tags": []
   },
   "outputs": [],
   "source": [
    "lr_learner = Learner(loss, model_lr, opt, config.num_epochs)\n",
    "acc_lr = ClfCallback(lr_learner, config.bs, training_data_x , testing_data_x, training_data_y, testing_data_y)\n",
    "lr_learner.set_callbacks([acc_lr])"
   ]
  },
  {
   "cell_type": "code",
   "execution_count": 22,
   "id": "d9b133c3",
   "metadata": {
    "execution": {
     "iopub.execute_input": "2021-11-06T00:21:51.485465Z",
     "iopub.status.busy": "2021-11-06T00:21:51.484678Z",
     "iopub.status.idle": "2021-11-06T00:23:58.045295Z",
     "shell.execute_reply": "2021-11-06T00:23:58.046269Z"
    },
    "papermill": {
     "duration": 126.59971,
     "end_time": "2021-11-06T00:23:58.046435",
     "exception": false,
     "start_time": "2021-11-06T00:21:51.446725",
     "status": "completed"
    },
    "tags": []
   },
   "outputs": [
    {
     "name": "stdout",
     "output_type": "stream",
     "text": [
      "Epoch 0, Loss 0.2194\n",
      "Training Accuracy: 0.7942, Testing Accuracy: 0.8090\n",
      "\n"
     ]
    },
    {
     "name": "stdout",
     "output_type": "stream",
     "text": [
      "Epoch 10, Loss 0.0663\n",
      "Training Accuracy: 0.9316, Testing Accuracy: 0.9435\n",
      "\n"
     ]
    },
    {
     "name": "stdout",
     "output_type": "stream",
     "text": [
      "Epoch 20, Loss 0.0455\n",
      "Training Accuracy: 0.9484, Testing Accuracy: 0.9617\n",
      "\n"
     ]
    },
    {
     "name": "stdout",
     "output_type": "stream",
     "text": [
      "Epoch 30, Loss 0.038\n",
      "Training Accuracy: 0.9569, Testing Accuracy: 0.9672\n",
      "\n"
     ]
    },
    {
     "name": "stdout",
     "output_type": "stream",
     "text": [
      "Epoch 40, Loss 0.0339\n",
      "Training Accuracy: 0.9607, Testing Accuracy: 0.9672\n",
      "\n"
     ]
    },
    {
     "name": "stdout",
     "output_type": "stream",
     "text": [
      "Epoch 50, Loss 0.0312\n",
      "Training Accuracy: 0.9634, Testing Accuracy: 0.9677\n",
      "\n"
     ]
    },
    {
     "name": "stdout",
     "output_type": "stream",
     "text": [
      "Epoch 60, Loss 0.0293\n",
      "Training Accuracy: 0.9657, Testing Accuracy: 0.9698\n",
      "\n"
     ]
    },
    {
     "name": "stdout",
     "output_type": "stream",
     "text": [
      "Epoch 70, Loss 0.0277\n",
      "Training Accuracy: 0.9669, Testing Accuracy: 0.9698\n",
      "\n"
     ]
    },
    {
     "name": "stdout",
     "output_type": "stream",
     "text": [
      "Epoch 80, Loss 0.0265\n",
      "Training Accuracy: 0.9681, Testing Accuracy: 0.9693\n",
      "\n"
     ]
    },
    {
     "name": "stdout",
     "output_type": "stream",
     "text": [
      "Epoch 90, Loss 0.0255\n",
      "Training Accuracy: 0.9696, Testing Accuracy: 0.9688\n",
      "\n"
     ]
    },
    {
     "name": "stdout",
     "output_type": "stream",
     "text": [
      "Epoch 100, Loss 0.0246\n",
      "Training Accuracy: 0.9703, Testing Accuracy: 0.9688\n",
      "\n"
     ]
    },
    {
     "name": "stdout",
     "output_type": "stream",
     "text": [
      "Epoch 110, Loss 0.0238\n",
      "Training Accuracy: 0.9720, Testing Accuracy: 0.9693\n",
      "\n"
     ]
    },
    {
     "name": "stdout",
     "output_type": "stream",
     "text": [
      "Epoch 120, Loss 0.0231\n",
      "Training Accuracy: 0.9728, Testing Accuracy: 0.9698\n",
      "\n"
     ]
    },
    {
     "name": "stdout",
     "output_type": "stream",
     "text": [
      "Epoch 130, Loss 0.0224\n",
      "Training Accuracy: 0.9738, Testing Accuracy: 0.9703\n",
      "\n"
     ]
    },
    {
     "name": "stdout",
     "output_type": "stream",
     "text": [
      "Epoch 140, Loss 0.0218\n",
      "Training Accuracy: 0.9746, Testing Accuracy: 0.9708\n",
      "\n"
     ]
    },
    {
     "name": "stdout",
     "output_type": "stream",
     "text": [
      "Epoch 150, Loss 0.0213\n",
      "Training Accuracy: 0.9758, Testing Accuracy: 0.9723\n",
      "\n"
     ]
    },
    {
     "name": "stdout",
     "output_type": "stream",
     "text": [
      "Epoch 160, Loss 0.0207\n",
      "Training Accuracy: 0.9764, Testing Accuracy: 0.9723\n",
      "\n"
     ]
    },
    {
     "name": "stdout",
     "output_type": "stream",
     "text": [
      "Epoch 170, Loss 0.0202\n",
      "Training Accuracy: 0.9770, Testing Accuracy: 0.9723\n",
      "\n"
     ]
    },
    {
     "name": "stdout",
     "output_type": "stream",
     "text": [
      "Epoch 180, Loss 0.0198\n",
      "Training Accuracy: 0.9778, Testing Accuracy: 0.9733\n",
      "\n"
     ]
    },
    {
     "name": "stdout",
     "output_type": "stream",
     "text": [
      "Epoch 190, Loss 0.0193\n",
      "Training Accuracy: 0.9786, Testing Accuracy: 0.9738\n",
      "\n"
     ]
    },
    {
     "name": "stdout",
     "output_type": "stream",
     "text": [
      "Epoch 200, Loss 0.0189\n",
      "Training Accuracy: 0.9791, Testing Accuracy: 0.9743\n",
      "\n"
     ]
    },
    {
     "name": "stdout",
     "output_type": "stream",
     "text": [
      "Epoch 210, Loss 0.0184\n",
      "Training Accuracy: 0.9798, Testing Accuracy: 0.9753\n",
      "\n"
     ]
    },
    {
     "name": "stdout",
     "output_type": "stream",
     "text": [
      "Epoch 220, Loss 0.018\n",
      "Training Accuracy: 0.9802, Testing Accuracy: 0.9753\n",
      "\n"
     ]
    },
    {
     "name": "stdout",
     "output_type": "stream",
     "text": [
      "Epoch 230, Loss 0.0176\n",
      "Training Accuracy: 0.9806, Testing Accuracy: 0.9758\n",
      "\n"
     ]
    },
    {
     "name": "stdout",
     "output_type": "stream",
     "text": [
      "Epoch 240, Loss 0.0172\n",
      "Training Accuracy: 0.9808, Testing Accuracy: 0.9758\n",
      "\n"
     ]
    },
    {
     "data": {
      "text/plain": [
       "0.0037259113255797395"
      ]
     },
     "execution_count": 22,
     "metadata": {},
     "output_type": "execute_result"
    }
   ],
   "source": [
    "nn_learner.train_loop(dl)"
   ]
  },
  {
   "cell_type": "code",
   "execution_count": 23,
   "id": "e0163366",
   "metadata": {
    "execution": {
     "iopub.execute_input": "2021-11-06T00:23:58.151779Z",
     "iopub.status.busy": "2021-11-06T00:23:58.151061Z",
     "iopub.status.idle": "2021-11-06T00:24:16.240895Z",
     "shell.execute_reply": "2021-11-06T00:24:16.241813Z"
    },
    "papermill": {
     "duration": 18.145273,
     "end_time": "2021-11-06T00:24:16.241987",
     "exception": false,
     "start_time": "2021-11-06T00:23:58.096714",
     "status": "completed"
    },
    "tags": []
   },
   "outputs": [
    {
     "name": "stdout",
     "output_type": "stream",
     "text": [
      "Epoch 0, Loss 0.1815\n",
      "Training Accuracy: 0.8324, Testing Accuracy: 0.8382\n",
      "\n"
     ]
    },
    {
     "name": "stdout",
     "output_type": "stream",
     "text": [
      "Epoch 10, Loss 0.0964\n",
      "Training Accuracy: 0.9135, Testing Accuracy: 0.9304\n",
      "\n"
     ]
    },
    {
     "name": "stdout",
     "output_type": "stream",
     "text": [
      "Epoch 20, Loss 0.0763\n",
      "Training Accuracy: 0.9306, Testing Accuracy: 0.9446\n",
      "\n"
     ]
    },
    {
     "name": "stdout",
     "output_type": "stream",
     "text": [
      "Epoch 30, Loss 0.0664\n",
      "Training Accuracy: 0.9375, Testing Accuracy: 0.9521\n",
      "\n"
     ]
    },
    {
     "name": "stdout",
     "output_type": "stream",
     "text": [
      "Epoch 40, Loss 0.0603\n",
      "Training Accuracy: 0.9417, Testing Accuracy: 0.9531\n",
      "\n"
     ]
    },
    {
     "name": "stdout",
     "output_type": "stream",
     "text": [
      "Epoch 50, Loss 0.056\n",
      "Training Accuracy: 0.9455, Testing Accuracy: 0.9561\n",
      "\n"
     ]
    },
    {
     "name": "stdout",
     "output_type": "stream",
     "text": [
      "Epoch 60, Loss 0.0529\n",
      "Training Accuracy: 0.9473, Testing Accuracy: 0.9597\n",
      "\n"
     ]
    },
    {
     "name": "stdout",
     "output_type": "stream",
     "text": [
      "Epoch 70, Loss 0.0505\n",
      "Training Accuracy: 0.9495, Testing Accuracy: 0.9612\n",
      "\n"
     ]
    },
    {
     "name": "stdout",
     "output_type": "stream",
     "text": [
      "Epoch 80, Loss 0.0486\n",
      "Training Accuracy: 0.9506, Testing Accuracy: 0.9622\n",
      "\n"
     ]
    },
    {
     "name": "stdout",
     "output_type": "stream",
     "text": [
      "Epoch 90, Loss 0.047\n",
      "Training Accuracy: 0.9528, Testing Accuracy: 0.9632\n",
      "\n"
     ]
    },
    {
     "name": "stdout",
     "output_type": "stream",
     "text": [
      "Epoch 100, Loss 0.0456\n",
      "Training Accuracy: 0.9536, Testing Accuracy: 0.9637\n",
      "\n"
     ]
    },
    {
     "name": "stdout",
     "output_type": "stream",
     "text": [
      "Epoch 110, Loss 0.0444\n",
      "Training Accuracy: 0.9548, Testing Accuracy: 0.9627\n",
      "\n"
     ]
    },
    {
     "name": "stdout",
     "output_type": "stream",
     "text": [
      "Epoch 120, Loss 0.0434\n",
      "Training Accuracy: 0.9554, Testing Accuracy: 0.9637\n",
      "\n"
     ]
    },
    {
     "name": "stdout",
     "output_type": "stream",
     "text": [
      "Epoch 130, Loss 0.0425\n",
      "Training Accuracy: 0.9564, Testing Accuracy: 0.9642\n",
      "\n"
     ]
    },
    {
     "name": "stdout",
     "output_type": "stream",
     "text": [
      "Epoch 140, Loss 0.0417\n",
      "Training Accuracy: 0.9567, Testing Accuracy: 0.9647\n",
      "\n"
     ]
    },
    {
     "name": "stdout",
     "output_type": "stream",
     "text": [
      "Epoch 150, Loss 0.041\n",
      "Training Accuracy: 0.9570, Testing Accuracy: 0.9652\n",
      "\n"
     ]
    },
    {
     "name": "stdout",
     "output_type": "stream",
     "text": [
      "Epoch 160, Loss 0.0403\n",
      "Training Accuracy: 0.9577, Testing Accuracy: 0.9657\n",
      "\n"
     ]
    },
    {
     "name": "stdout",
     "output_type": "stream",
     "text": [
      "Epoch 170, Loss 0.0397\n",
      "Training Accuracy: 0.9582, Testing Accuracy: 0.9662\n",
      "\n"
     ]
    },
    {
     "name": "stdout",
     "output_type": "stream",
     "text": [
      "Epoch 180, Loss 0.0392\n",
      "Training Accuracy: 0.9589, Testing Accuracy: 0.9662\n",
      "\n"
     ]
    },
    {
     "name": "stdout",
     "output_type": "stream",
     "text": [
      "Epoch 190, Loss 0.0387\n",
      "Training Accuracy: 0.9594, Testing Accuracy: 0.9662\n",
      "\n"
     ]
    },
    {
     "name": "stdout",
     "output_type": "stream",
     "text": [
      "Epoch 200, Loss 0.0382\n",
      "Training Accuracy: 0.9597, Testing Accuracy: 0.9662\n",
      "\n"
     ]
    },
    {
     "name": "stdout",
     "output_type": "stream",
     "text": [
      "Epoch 210, Loss 0.0378\n",
      "Training Accuracy: 0.9598, Testing Accuracy: 0.9672\n",
      "\n"
     ]
    },
    {
     "name": "stdout",
     "output_type": "stream",
     "text": [
      "Epoch 220, Loss 0.0374\n",
      "Training Accuracy: 0.9601, Testing Accuracy: 0.9672\n",
      "\n"
     ]
    },
    {
     "name": "stdout",
     "output_type": "stream",
     "text": [
      "Epoch 230, Loss 0.037\n",
      "Training Accuracy: 0.9602, Testing Accuracy: 0.9667\n",
      "\n"
     ]
    },
    {
     "name": "stdout",
     "output_type": "stream",
     "text": [
      "Epoch 240, Loss 0.0367\n",
      "Training Accuracy: 0.9604, Testing Accuracy: 0.9667\n",
      "\n"
     ]
    },
    {
     "data": {
      "text/plain": [
       "0.019926404952226726"
      ]
     },
     "execution_count": 23,
     "metadata": {},
     "output_type": "execute_result"
    }
   ],
   "source": [
    "lr_learner.train_loop(dl)"
   ]
  },
  {
   "cell_type": "code",
   "execution_count": 24,
   "id": "ca410940",
   "metadata": {
    "execution": {
     "iopub.execute_input": "2021-11-06T00:24:16.358254Z",
     "iopub.status.busy": "2021-11-06T00:24:16.355583Z",
     "iopub.status.idle": "2021-11-06T00:24:16.672369Z",
     "shell.execute_reply": "2021-11-06T00:24:16.671797Z"
    },
    "papermill": {
     "duration": 0.377323,
     "end_time": "2021-11-06T00:24:16.672549",
     "exception": false,
     "start_time": "2021-11-06T00:24:16.295226",
     "status": "completed"
    },
    "tags": []
   },
   "outputs": [
    {
     "data": {
      "text/plain": [
       "<matplotlib.legend.Legend at 0x7f9092c9a780>"
      ]
     },
     "execution_count": 24,
     "metadata": {},
     "output_type": "execute_result"
    },
    {
     "data": {
      "image/png": "[encoded data removed]",
      "text/plain": [
       "<Figure size 1080x720 with 1 Axes>"
      ]
     },
     "metadata": {
      "needs_background": "light"
     },
     "output_type": "display_data"
    }
   ],
   "source": [
    "#comparing the results of NN and LR\n",
    "plt.figure(figsize=(15,10))\n",
    "\n",
    "# Neural Network plots\n",
    "plt.plot(acc_nn.accuracies, 'r-', label = \"Training Accuracies - NN\")\n",
    "plt.plot(acc_nn.test_accuracies, 'g-', label = \"Testing Accuracies - NN\")\n",
    "\n",
    "# Logistic Regression plots\n",
    "plt.plot(acc_lr.accuracies, 'k-', label = \"Training Accuracies - LR\")\n",
    "plt.plot(acc_lr.test_accuracies, 'b-', label = \"Testing Accuracies - LR\")\n",
    "plt.legend()"
   ]
  },
  {
   "cell_type": "markdown",
   "id": "80dfb35c",
   "metadata": {
    "papermill": {
     "duration": 0.052618,
     "end_time": "2021-11-06T00:24:16.780897",
     "exception": false,
     "start_time": "2021-11-06T00:24:16.728279",
     "status": "completed"
    },
    "tags": []
   },
   "source": [
    "#### Plotting the outputs of this layer of the NN.\n"
   ]
  },
  {
   "cell_type": "code",
   "execution_count": 25,
   "id": "45eb2ff5",
   "metadata": {
    "execution": {
     "iopub.execute_input": "2021-11-06T00:24:16.893940Z",
     "iopub.status.busy": "2021-11-06T00:24:16.889610Z",
     "iopub.status.idle": "2021-11-06T00:24:16.917971Z",
     "shell.execute_reply": "2021-11-06T00:24:16.918479Z"
    },
    "papermill": {
     "duration": 0.084564,
     "end_time": "2021-11-06T00:24:16.918637",
     "exception": false,
     "start_time": "2021-11-06T00:24:16.834073",
     "status": "completed"
    },
    "tags": []
   },
   "outputs": [],
   "source": [
    "new_model = Model(layers[:-2])\n",
    "testing_plot = new_model(testing_data_x)"
   ]
  },
  {
   "cell_type": "code",
   "execution_count": 26,
   "id": "4c0a5485",
   "metadata": {
    "execution": {
     "iopub.execute_input": "2021-11-06T00:24:17.042967Z",
     "iopub.status.busy": "2021-11-06T00:24:17.042222Z",
     "iopub.status.idle": "2021-11-06T00:24:17.318955Z",
     "shell.execute_reply": "2021-11-06T00:24:17.319449Z"
    },
    "papermill": {
     "duration": 0.34558,
     "end_time": "2021-11-06T00:24:17.319610",
     "exception": false,
     "start_time": "2021-11-06T00:24:16.974030",
     "status": "completed"
    },
    "tags": []
   },
   "outputs": [
    {
     "data": {
      "text/plain": [
       "Text(0.5, 1.0, 'Outputs')"
      ]
     },
     "execution_count": 26,
     "metadata": {},
     "output_type": "execute_result"
    },
    {
     "data": {
      "image/png": "[encoded data removed]",
      "text/plain": [
       "<Figure size 576x504 with 1 Axes>"
      ]
     },
     "metadata": {
      "needs_background": "light"
     },
     "output_type": "display_data"
    }
   ],
   "source": [
    "# Plotting the scatter plot of points and color coding by class\n",
    "plt.figure(figsize=(8,7))\n",
    "plt.scatter(testing_plot[:,0], testing_plot[:,1], alpha = 0.1, c = y_test.ravel());\n",
    "plt.title('Outputs')"
   ]
  },
  {
   "cell_type": "markdown",
   "id": "a74fcf8f",
   "metadata": {
    "papermill": {
     "duration": 0.059775,
     "end_time": "2021-11-06T00:24:17.434348",
     "exception": false,
     "start_time": "2021-11-06T00:24:17.374573",
     "status": "completed"
    },
    "tags": []
   },
   "source": [
    "Probability contours"
   ]
  },
  {
   "cell_type": "code",
   "execution_count": 27,
   "id": "d0afc8e3",
   "metadata": {
    "execution": {
     "iopub.execute_input": "2021-11-06T00:24:17.550963Z",
     "iopub.status.busy": "2021-11-06T00:24:17.549349Z",
     "iopub.status.idle": "2021-11-06T00:24:17.565652Z",
     "shell.execute_reply": "2021-11-06T00:24:17.565118Z"
    },
    "papermill": {
     "duration": 0.076912,
     "end_time": "2021-11-06T00:24:17.565840",
     "exception": false,
     "start_time": "2021-11-06T00:24:17.488928",
     "status": "completed"
    },
    "tags": []
   },
   "outputs": [],
   "source": [
    "model_prob = Model(layers[-2:]) "
   ]
  },
  {
   "cell_type": "code",
   "execution_count": 28,
   "id": "9b96e238",
   "metadata": {
    "execution": {
     "iopub.execute_input": "2021-11-06T00:24:17.723489Z",
     "iopub.status.busy": "2021-11-06T00:24:17.722813Z",
     "iopub.status.idle": "2021-11-06T00:24:17.737148Z",
     "shell.execute_reply": "2021-11-06T00:24:17.737779Z"
    },
    "papermill": {
     "duration": 0.107683,
     "end_time": "2021-11-06T00:24:17.738052",
     "exception": false,
     "start_time": "2021-11-06T00:24:17.630369",
     "status": "completed"
    },
    "tags": []
   },
   "outputs": [],
   "source": [
    "#creating the x and y ranges according to the above generated plot.\n",
    "x_range = np.linspace(-4, 1, 100) \n",
    "y_range = np.linspace(-6, 6, 100) \n",
    "x_grid, y_grid = np.meshgrid(x_range, y_range) # x_grid and y_grig are of size 100 X 100\n",
    "\n",
    "# converting x_grid and y_grid to continuous arrays\n",
    "x_gridflat = np.ravel(x_grid)\n",
    "y_gridflat = np.ravel(y_grid)\n",
    "\n",
    "# The last layer of the current model takes two columns as input. Hence transpose of np.vstack() is required.\n",
    "X = np.vstack((x_gridflat, y_gridflat)).T\n",
    "\n",
    "prob_contour = model_prob(X).reshape(100,100) "
   ]
  },
  {
   "cell_type": "code",
   "execution_count": 29,
   "id": "da72499a",
   "metadata": {
    "execution": {
     "iopub.execute_input": "2021-11-06T00:24:17.859235Z",
     "iopub.status.busy": "2021-11-06T00:24:17.858353Z",
     "iopub.status.idle": "2021-11-06T00:24:18.164911Z",
     "shell.execute_reply": "2021-11-06T00:24:18.165404Z"
    },
    "papermill": {
     "duration": 0.370774,
     "end_time": "2021-11-06T00:24:18.165595",
     "exception": false,
     "start_time": "2021-11-06T00:24:17.794821",
     "status": "completed"
    },
    "tags": []
   },
   "outputs": [
    {
     "data": {
      "image/png": "[encoded data removed]",
      "text/plain": [
       "<Figure size 720x648 with 1 Axes>"
      ]
     },
     "metadata": {
      "needs_background": "light"
     },
     "output_type": "display_data"
    }
   ],
   "source": [
    "plt.figure(figsize=(10,9))\n",
    "plt.scatter(testing_plot[:,0], testing_plot[:,1], alpha = 0.1, c = y_test.ravel())\n",
    "contours = plt.contour(x_grid,y_grid,prob_contour)\n",
    "plt.title('Probability Contours')\n",
    "plt.clabel(contours, inline = True );"
   ]
  },
  {
   "cell_type": "code",
   "execution_count": null,
   "id": "e81b4ac7",
   "metadata": {
    "papermill": {
     "duration": 0.059313,
     "end_time": "2021-11-06T00:24:18.284917",
     "exception": false,
     "start_time": "2021-11-06T00:24:18.225604",
     "status": "completed"
    },
    "tags": []
   },
   "outputs": [],
   "source": []
  }
 ],
 "metadata": {
  "kernelspec": {
   "display_name": "Python 3",
   "language": "python",
   "name": "python3"
  },
  "language_info": {
   "codemirror_mode": {
    "name": "ipython",
    "version": 3
   },
   "file_extension": ".py",
   "mimetype": "text/x-python",
   "name": "python",
   "nbconvert_exporter": "python",
   "pygments_lexer": "ipython3",
   "version": "3.6.15"
  },
  "papermill": {
   "default_parameters": {},
   "duration": 156.363905,
   "end_time": "2021-11-06T00:24:18.751597",
   "environment_variables": {},
   "exception": null,
   "input_path": "2020-08-11-part2.ipynb",
   "output_path": "2020-08-11-part2.ipynb",
   "parameters": {},
   "start_time": "2021-11-06T00:21:42.387692",
   "version": "2.3.3"
  }
 },
 "nbformat": 4,
 "nbformat_minor": 5
}