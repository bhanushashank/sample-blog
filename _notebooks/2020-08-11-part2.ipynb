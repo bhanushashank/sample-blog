{
 "cells": [
  {
   "cell_type": "markdown",
   "id": "98380cd3",
   "metadata": {
    "papermill": {
     "duration": 0.031985,
     "end_time": "2021-09-16T00:39:00.729882",
     "exception": false,
     "start_time": "2021-09-16T00:39:00.697897",
     "status": "completed"
    },
    "tags": []
   },
   "source": [
    "# Distinguish Your Own Digits (DYOD)"
   ]
  },
  {
   "cell_type": "markdown",
   "id": "ef31240d",
   "metadata": {
    "papermill": {
     "duration": 0.031566,
     "end_time": "2021-09-16T00:39:00.788996",
     "exception": false,
     "start_time": "2021-09-16T00:39:00.757430",
     "status": "completed"
    },
    "tags": []
   },
   "source": [
    "You are going to write a classifier that distinguishes between the number 3 and number 8."
   ]
  },
  {
   "cell_type": "code",
   "execution_count": 1,
   "id": "b15c8646",
   "metadata": {
    "execution": {
     "iopub.execute_input": "2021-09-16T00:39:00.863766Z",
     "iopub.status.busy": "2021-09-16T00:39:00.863101Z",
     "iopub.status.idle": "2021-09-16T00:39:00.873686Z",
     "shell.execute_reply": "2021-09-16T00:39:00.874171Z"
    },
    "papermill": {
     "duration": 0.053052,
     "end_time": "2021-09-16T00:39:00.874324",
     "exception": false,
     "start_time": "2021-09-16T00:39:00.821272",
     "status": "completed"
    },
    "tags": []
   },
   "outputs": [],
   "source": [
    "%load_ext autoreload\n",
    "%autoreload 2"
   ]
  },
  {
   "cell_type": "code",
   "execution_count": 2,
   "id": "22ef38dc",
   "metadata": {
    "execution": {
     "iopub.execute_input": "2021-09-16T00:39:00.935292Z",
     "iopub.status.busy": "2021-09-16T00:39:00.934448Z",
     "iopub.status.idle": "2021-09-16T00:39:01.484913Z",
     "shell.execute_reply": "2021-09-16T00:39:01.484391Z"
    },
    "papermill": {
     "duration": 0.584567,
     "end_time": "2021-09-16T00:39:01.485042",
     "exception": false,
     "start_time": "2021-09-16T00:39:00.900475",
     "status": "completed"
    },
    "tags": []
   },
   "outputs": [],
   "source": [
    "%matplotlib inline\n",
    "import numpy as np\n",
    "import matplotlib.pyplot as plt\n",
    "import pandas as pd"
   ]
  },
  {
   "cell_type": "markdown",
   "id": "ba036198",
   "metadata": {
    "papermill": {
     "duration": 0.027845,
     "end_time": "2021-09-16T00:39:01.542587",
     "exception": false,
     "start_time": "2021-09-16T00:39:01.514742",
     "status": "completed"
    },
    "tags": []
   },
   "source": [
    "From the command line run `pip install mnist`. This is a library that will help you bring down the mnist dataset. If you run this from a notebook, you need to put  `!pip install mnist` in a cell by itself."
   ]
  },
  {
   "cell_type": "code",
   "execution_count": 3,
   "id": "bb6ad8a1",
   "metadata": {
    "execution": {
     "iopub.execute_input": "2021-09-16T00:39:01.600217Z",
     "iopub.status.busy": "2021-09-16T00:39:01.599558Z",
     "iopub.status.idle": "2021-09-16T00:39:03.452747Z",
     "shell.execute_reply": "2021-09-16T00:39:03.451563Z"
    },
    "papermill": {
     "duration": 1.883637,
     "end_time": "2021-09-16T00:39:03.452885",
     "exception": false,
     "start_time": "2021-09-16T00:39:01.569248",
     "status": "completed"
    },
    "tags": []
   },
   "outputs": [
    {
     "name": "stdout",
     "output_type": "stream",
     "text": [
      "Collecting mnist\r\n"
     ]
    },
    {
     "name": "stdout",
     "output_type": "stream",
     "text": [
      "  Downloading mnist-0.2.2-py2.py3-none-any.whl (3.5 kB)\r\n",
      "Requirement already satisfied: numpy in /opt/hostedtoolcache/Python/3.6.14/x64/lib/python3.6/site-packages (from mnist) (1.19.5)\r\n"
     ]
    },
    {
     "name": "stdout",
     "output_type": "stream",
     "text": [
      "Installing collected packages: mnist\r\n"
     ]
    },
    {
     "name": "stdout",
     "output_type": "stream",
     "text": [
      "Successfully installed mnist-0.2.2\r\n"
     ]
    }
   ],
   "source": [
    "!pip install mnist"
   ]
  },
  {
   "cell_type": "markdown",
   "id": "69df9c9a",
   "metadata": {
    "papermill": {
     "duration": 0.032744,
     "end_time": "2021-09-16T00:39:03.516768",
     "exception": false,
     "start_time": "2021-09-16T00:39:03.484024",
     "status": "completed"
    },
    "tags": []
   },
   "source": [
    "## Preparing the Data"
   ]
  },
  {
   "cell_type": "code",
   "execution_count": 4,
   "id": "7f69d806",
   "metadata": {
    "execution": {
     "iopub.execute_input": "2021-09-16T00:39:03.585425Z",
     "iopub.status.busy": "2021-09-16T00:39:03.584748Z",
     "iopub.status.idle": "2021-09-16T00:39:03.599171Z",
     "shell.execute_reply": "2021-09-16T00:39:03.599928Z"
    },
    "papermill": {
     "duration": 0.052047,
     "end_time": "2021-09-16T00:39:03.600068",
     "exception": false,
     "start_time": "2021-09-16T00:39:03.548021",
     "status": "completed"
    },
    "tags": []
   },
   "outputs": [],
   "source": [
    "import mnist"
   ]
  },
  {
   "cell_type": "code",
   "execution_count": 5,
   "id": "a411e44f",
   "metadata": {
    "execution": {
     "iopub.execute_input": "2021-09-16T00:39:03.663177Z",
     "iopub.status.busy": "2021-09-16T00:39:03.662357Z",
     "iopub.status.idle": "2021-09-16T00:39:04.342616Z",
     "shell.execute_reply": "2021-09-16T00:39:04.343119Z"
    },
    "papermill": {
     "duration": 0.713757,
     "end_time": "2021-09-16T00:39:04.343274",
     "exception": false,
     "start_time": "2021-09-16T00:39:03.629517",
     "status": "completed"
    },
    "tags": []
   },
   "outputs": [],
   "source": [
    "train_images = mnist.train_images()\n",
    "train_labels = mnist.train_labels()"
   ]
  },
  {
   "cell_type": "code",
   "execution_count": 6,
   "id": "dceab3a5",
   "metadata": {
    "execution": {
     "iopub.execute_input": "2021-09-16T00:39:04.409007Z",
     "iopub.status.busy": "2021-09-16T00:39:04.408194Z",
     "iopub.status.idle": "2021-09-16T00:39:04.424356Z",
     "shell.execute_reply": "2021-09-16T00:39:04.423784Z"
    },
    "papermill": {
     "duration": 0.05086,
     "end_time": "2021-09-16T00:39:04.424547",
     "exception": false,
     "start_time": "2021-09-16T00:39:04.373687",
     "status": "completed"
    },
    "tags": []
   },
   "outputs": [
    {
     "data": {
      "text/plain": [
       "((60000, 28, 28), (60000,))"
      ]
     },
     "execution_count": 6,
     "metadata": {},
     "output_type": "execute_result"
    }
   ],
   "source": [
    "train_images.shape, train_labels.shape"
   ]
  },
  {
   "cell_type": "code",
   "execution_count": 7,
   "id": "f50dc2bb",
   "metadata": {
    "execution": {
     "iopub.execute_input": "2021-09-16T00:39:04.490336Z",
     "iopub.status.busy": "2021-09-16T00:39:04.489740Z",
     "iopub.status.idle": "2021-09-16T00:39:04.681009Z",
     "shell.execute_reply": "2021-09-16T00:39:04.679833Z"
    },
    "papermill": {
     "duration": 0.227023,
     "end_time": "2021-09-16T00:39:04.681144",
     "exception": false,
     "start_time": "2021-09-16T00:39:04.454121",
     "status": "completed"
    },
    "tags": []
   },
   "outputs": [],
   "source": [
    "test_images = mnist.test_images()\n",
    "test_labels = mnist.test_labels()"
   ]
  },
  {
   "cell_type": "code",
   "execution_count": 8,
   "id": "fc38cf1b",
   "metadata": {
    "execution": {
     "iopub.execute_input": "2021-09-16T00:39:04.749236Z",
     "iopub.status.busy": "2021-09-16T00:39:04.744119Z",
     "iopub.status.idle": "2021-09-16T00:39:04.757019Z",
     "shell.execute_reply": "2021-09-16T00:39:04.757557Z"
    },
    "papermill": {
     "duration": 0.046528,
     "end_time": "2021-09-16T00:39:04.757680",
     "exception": false,
     "start_time": "2021-09-16T00:39:04.711152",
     "status": "completed"
    },
    "tags": []
   },
   "outputs": [
    {
     "data": {
      "text/plain": [
       "((10000, 28, 28), (10000,))"
      ]
     },
     "execution_count": 8,
     "metadata": {},
     "output_type": "execute_result"
    }
   ],
   "source": [
    "test_images.shape, test_labels.shape"
   ]
  },
  {
   "cell_type": "code",
   "execution_count": 9,
   "id": "f9ed8fe0",
   "metadata": {
    "execution": {
     "iopub.execute_input": "2021-09-16T00:39:04.824878Z",
     "iopub.status.busy": "2021-09-16T00:39:04.824297Z",
     "iopub.status.idle": "2021-09-16T00:39:05.014616Z",
     "shell.execute_reply": "2021-09-16T00:39:05.014075Z"
    },
    "papermill": {
     "duration": 0.224606,
     "end_time": "2021-09-16T00:39:05.014817",
     "exception": false,
     "start_time": "2021-09-16T00:39:04.790211",
     "status": "completed"
    },
    "tags": []
   },
   "outputs": [
    {
     "name": "stdout",
     "output_type": "stream",
     "text": [
      "2\n"
     ]
    },
    {
     "data": {
      "text/plain": [
       "<matplotlib.image.AxesImage at 0x7fe6eebf3e80>"
      ]
     },
     "execution_count": 9,
     "metadata": {},
     "output_type": "execute_result"
    },
    {
     "data": {
      "image/png": "[encoded data removed]",
      "text/plain": [
       "<Figure size 432x288 with 1 Axes>"
      ]
     },
     "metadata": {
      "needs_background": "light"
     },
     "output_type": "display_data"
    }
   ],
   "source": [
    "image_index = 7776 # You may select anything up to 60,000\n",
    "print(train_labels[image_index]) \n",
    "plt.imshow(train_images[image_index], cmap='Greys')"
   ]
  },
  {
   "cell_type": "markdown",
   "id": "a8d2388d",
   "metadata": {
    "papermill": {
     "duration": 0.032964,
     "end_time": "2021-09-16T00:39:05.082921",
     "exception": false,
     "start_time": "2021-09-16T00:39:05.049957",
     "status": "completed"
    },
    "tags": []
   },
   "source": [
    "## Filter data to get 3 and 8 out"
   ]
  },
  {
   "cell_type": "code",
   "execution_count": 10,
   "id": "776f7fc7",
   "metadata": {
    "execution": {
     "iopub.execute_input": "2021-09-16T00:39:05.152918Z",
     "iopub.status.busy": "2021-09-16T00:39:05.152315Z",
     "iopub.status.idle": "2021-09-16T00:39:05.170823Z",
     "shell.execute_reply": "2021-09-16T00:39:05.170294Z"
    },
    "papermill": {
     "duration": 0.055747,
     "end_time": "2021-09-16T00:39:05.170976",
     "exception": false,
     "start_time": "2021-09-16T00:39:05.115229",
     "status": "completed"
    },
    "tags": []
   },
   "outputs": [],
   "source": [
    "train_filter = np.where((train_labels == 3 ) | (train_labels == 8))\n",
    "test_filter = np.where((test_labels == 3) | (test_labels == 8))\n",
    "X_train, y_train = train_images[train_filter], train_labels[train_filter]\n",
    "X_test, y_test = test_images[test_filter], test_labels[test_filter]"
   ]
  },
  {
   "cell_type": "markdown",
   "id": "948f0b7e",
   "metadata": {
    "papermill": {
     "duration": 0.028512,
     "end_time": "2021-09-16T00:39:05.229093",
     "exception": false,
     "start_time": "2021-09-16T00:39:05.200581",
     "status": "completed"
    },
    "tags": []
   },
   "source": [
    "We normalize the pizel values in the 0 to 1 range"
   ]
  },
  {
   "cell_type": "code",
   "execution_count": 11,
   "id": "ee4c2166",
   "metadata": {
    "execution": {
     "iopub.execute_input": "2021-09-16T00:39:05.292488Z",
     "iopub.status.busy": "2021-09-16T00:39:05.291743Z",
     "iopub.status.idle": "2021-09-16T00:39:05.350659Z",
     "shell.execute_reply": "2021-09-16T00:39:05.349989Z"
    },
    "papermill": {
     "duration": 0.094249,
     "end_time": "2021-09-16T00:39:05.350824",
     "exception": false,
     "start_time": "2021-09-16T00:39:05.256575",
     "status": "completed"
    },
    "tags": []
   },
   "outputs": [],
   "source": [
    "X_train = X_train/255.\n",
    "X_test = X_test/255."
   ]
  },
  {
   "cell_type": "markdown",
   "id": "ddcf4fab",
   "metadata": {
    "papermill": {
     "duration": 0.032647,
     "end_time": "2021-09-16T00:39:05.417242",
     "exception": false,
     "start_time": "2021-09-16T00:39:05.384595",
     "status": "completed"
    },
    "tags": []
   },
   "source": [
    "And setup the labels as 1 (when the digit is 3) and 0 (when the digit is 8)"
   ]
  },
  {
   "cell_type": "code",
   "execution_count": 12,
   "id": "7dc908f2",
   "metadata": {
    "execution": {
     "iopub.execute_input": "2021-09-16T00:39:05.496687Z",
     "iopub.status.busy": "2021-09-16T00:39:05.496043Z",
     "iopub.status.idle": "2021-09-16T00:39:05.505660Z",
     "shell.execute_reply": "2021-09-16T00:39:05.505046Z"
    },
    "papermill": {
     "duration": 0.054423,
     "end_time": "2021-09-16T00:39:05.505781",
     "exception": false,
     "start_time": "2021-09-16T00:39:05.451358",
     "status": "completed"
    },
    "tags": []
   },
   "outputs": [],
   "source": [
    "y_train = 1*(y_train==3)\n",
    "y_test = 1*(y_test==3)"
   ]
  },
  {
   "cell_type": "code",
   "execution_count": 13,
   "id": "01e4e969",
   "metadata": {
    "execution": {
     "iopub.execute_input": "2021-09-16T00:39:05.573989Z",
     "iopub.status.busy": "2021-09-16T00:39:05.573435Z",
     "iopub.status.idle": "2021-09-16T00:39:05.589809Z",
     "shell.execute_reply": "2021-09-16T00:39:05.589286Z"
    },
    "papermill": {
     "duration": 0.052694,
     "end_time": "2021-09-16T00:39:05.589939",
     "exception": false,
     "start_time": "2021-09-16T00:39:05.537245",
     "status": "completed"
    },
    "tags": []
   },
   "outputs": [
    {
     "data": {
      "text/plain": [
       "((11982, 28, 28), (1984, 28, 28))"
      ]
     },
     "execution_count": 13,
     "metadata": {},
     "output_type": "execute_result"
    }
   ],
   "source": [
    "X_train.shape, X_test.shape"
   ]
  },
  {
   "cell_type": "markdown",
   "id": "5ccf3f85",
   "metadata": {
    "papermill": {
     "duration": 0.035756,
     "end_time": "2021-09-16T00:39:05.664253",
     "exception": false,
     "start_time": "2021-09-16T00:39:05.628497",
     "status": "completed"
    },
    "tags": []
   },
   "source": [
    "We reshape the data to flatten the image pixels into a set of features or co-variates:"
   ]
  },
  {
   "cell_type": "code",
   "execution_count": 14,
   "id": "5286a4a3",
   "metadata": {
    "execution": {
     "iopub.execute_input": "2021-09-16T00:39:05.743060Z",
     "iopub.status.busy": "2021-09-16T00:39:05.742378Z",
     "iopub.status.idle": "2021-09-16T00:39:05.758638Z",
     "shell.execute_reply": "2021-09-16T00:39:05.757944Z"
    },
    "papermill": {
     "duration": 0.056938,
     "end_time": "2021-09-16T00:39:05.758793",
     "exception": false,
     "start_time": "2021-09-16T00:39:05.701855",
     "status": "completed"
    },
    "tags": []
   },
   "outputs": [
    {
     "data": {
      "text/plain": [
       "((11982, 784), (1984, 784))"
      ]
     },
     "execution_count": 14,
     "metadata": {},
     "output_type": "execute_result"
    }
   ],
   "source": [
    "X_train = X_train.reshape(X_train.shape[0], -1)\n",
    "X_test = X_test.reshape(X_test.shape[0], -1)\n",
    "X_train.shape, X_test.shape"
   ]
  },
  {
   "cell_type": "code",
   "execution_count": 15,
   "id": "73c5f88a",
   "metadata": {
    "execution": {
     "iopub.execute_input": "2021-09-16T00:39:05.832119Z",
     "iopub.status.busy": "2021-09-16T00:39:05.831561Z",
     "iopub.status.idle": "2021-09-16T00:39:05.852803Z",
     "shell.execute_reply": "2021-09-16T00:39:05.852084Z"
    },
    "papermill": {
     "duration": 0.060634,
     "end_time": "2021-09-16T00:39:05.852926",
     "exception": false,
     "start_time": "2021-09-16T00:39:05.792292",
     "status": "completed"
    },
    "tags": []
   },
   "outputs": [],
   "source": [
    "#Impoting functions from 'Kudzu'\n",
    "from kudzu.model import Model\n",
    "from kudzu.train import Learner\n",
    "from kudzu.optim import GD\n",
    "from kudzu.data import Data, Sampler,Dataloader\n",
    "\n",
    "from kudzu.callbacks import AccCallback\n",
    "from kudzu.callbacks import ClfCallback\n",
    "\n",
    "from kudzu.loss import MSE\n",
    "\n",
    "from kudzu.layer import Sigmoid,Relu\n",
    "from kudzu.layer import Affine"
   ]
  },
  {
   "cell_type": "markdown",
   "id": "bc01172a",
   "metadata": {
    "papermill": {
     "duration": 0.03408,
     "end_time": "2021-09-16T00:39:05.920662",
     "exception": false,
     "start_time": "2021-09-16T00:39:05.886582",
     "status": "completed"
    },
    "tags": []
   },
   "source": [
    "### Let us create a `Config` class, to store important parameters. \n",
    "This class essentially plays the role of a dictionary."
   ]
  },
  {
   "cell_type": "code",
   "execution_count": 16,
   "id": "978281aa",
   "metadata": {
    "execution": {
     "iopub.execute_input": "2021-09-16T00:39:06.008374Z",
     "iopub.status.busy": "2021-09-16T00:39:06.007700Z",
     "iopub.status.idle": "2021-09-16T00:39:06.025807Z",
     "shell.execute_reply": "2021-09-16T00:39:06.024901Z"
    },
    "papermill": {
     "duration": 0.06537,
     "end_time": "2021-09-16T00:39:06.025942",
     "exception": false,
     "start_time": "2021-09-16T00:39:05.960572",
     "status": "completed"
    },
    "tags": []
   },
   "outputs": [],
   "source": [
    "class Config:\n",
    "    pass\n",
    "config = Config()\n",
    "config.lr = 0.001\n",
    "config.num_epochs = 250\n",
    "config.bs = 50"
   ]
  },
  {
   "cell_type": "markdown",
   "id": "1385fa59",
   "metadata": {
    "papermill": {
     "duration": 0.033931,
     "end_time": "2021-09-16T00:39:06.109056",
     "exception": false,
     "start_time": "2021-09-16T00:39:06.075125",
     "status": "completed"
    },
    "tags": []
   },
   "source": [
    "### Running Models with the Training data\n",
    "Details about the network layers:\n",
    "- A first affine layer has 784 inputs and does 100 affine transforms. These are followed by a Relu\n",
    "- A second affine layer has 100 inputs from the 100 activations of the past layer, and does 100 affine transforms. These are followed by a Relu\n",
    "- A third affine layer has 100 activations and does 2 affine transformations to create an embedding for visualization. There is no non-linearity here.\n",
    "- A final \"logistic regression\" which has an affine transform from 2 inputs to 1 output, which is squeezed through a sigmoid.\n"
   ]
  },
  {
   "cell_type": "code",
   "execution_count": 17,
   "id": "2b9c66db",
   "metadata": {
    "execution": {
     "iopub.execute_input": "2021-09-16T00:39:06.180113Z",
     "iopub.status.busy": "2021-09-16T00:39:06.179482Z",
     "iopub.status.idle": "2021-09-16T00:39:06.193029Z",
     "shell.execute_reply": "2021-09-16T00:39:06.192501Z"
    },
    "papermill": {
     "duration": 0.051265,
     "end_time": "2021-09-16T00:39:06.193152",
     "exception": false,
     "start_time": "2021-09-16T00:39:06.141887",
     "status": "completed"
    },
    "tags": []
   },
   "outputs": [],
   "source": [
    "data = Data(X_train, y_train.reshape(-1,1))\n",
    "sampler = Sampler(data, config.bs, shuffle=True)\n",
    "\n",
    "dl = Dataloader(data, sampler)\n",
    "\n",
    "opt = GD(config.lr)\n",
    "loss = MSE()"
   ]
  },
  {
   "cell_type": "code",
   "execution_count": 18,
   "id": "b275e4c2",
   "metadata": {
    "execution": {
     "iopub.execute_input": "2021-09-16T00:39:06.281175Z",
     "iopub.status.busy": "2021-09-16T00:39:06.280520Z",
     "iopub.status.idle": "2021-09-16T00:39:06.294157Z",
     "shell.execute_reply": "2021-09-16T00:39:06.293669Z"
    },
    "papermill": {
     "duration": 0.05853,
     "end_time": "2021-09-16T00:39:06.294300",
     "exception": false,
     "start_time": "2021-09-16T00:39:06.235770",
     "status": "completed"
    },
    "tags": []
   },
   "outputs": [],
   "source": [
    "training_data_x = X_train\n",
    "testing_data_x = X_test\n",
    "training_data_y = y_train.reshape(-1,1)\n",
    "testing_data_y = y_test.reshape(-1,1)"
   ]
  },
  {
   "cell_type": "code",
   "execution_count": 19,
   "id": "76951160",
   "metadata": {
    "execution": {
     "iopub.execute_input": "2021-09-16T00:39:06.368230Z",
     "iopub.status.busy": "2021-09-16T00:39:06.367365Z",
     "iopub.status.idle": "2021-09-16T00:39:06.385682Z",
     "shell.execute_reply": "2021-09-16T00:39:06.385025Z"
    },
    "papermill": {
     "duration": 0.056044,
     "end_time": "2021-09-16T00:39:06.385808",
     "exception": false,
     "start_time": "2021-09-16T00:39:06.329764",
     "status": "completed"
    },
    "tags": []
   },
   "outputs": [
    {
     "name": "stdout",
     "output_type": "stream",
     "text": [
      "xavier\n",
      "xavier\n",
      "xavier\n",
      "xavier\n",
      "xavier\n"
     ]
    }
   ],
   "source": [
    "layers = [Affine(\"first\", 784, 100), Relu(\"first\"), Affine(\"second\", 100, 100), Relu(\"second\"), Affine(\"third\", 100, 2), Affine(\"last\", 2, 1), Sigmoid(\"last\")]\n",
    "model_nn = Model(layers)\n",
    "model_lr = Model([Affine(\"logits\", 784, 1), Sigmoid(\"sigmoid\")])"
   ]
  },
  {
   "cell_type": "code",
   "execution_count": 20,
   "id": "6eede77a",
   "metadata": {
    "execution": {
     "iopub.execute_input": "2021-09-16T00:39:06.466511Z",
     "iopub.status.busy": "2021-09-16T00:39:06.465474Z",
     "iopub.status.idle": "2021-09-16T00:39:06.476869Z",
     "shell.execute_reply": "2021-09-16T00:39:06.477488Z"
    },
    "papermill": {
     "duration": 0.054028,
     "end_time": "2021-09-16T00:39:06.477651",
     "exception": false,
     "start_time": "2021-09-16T00:39:06.423623",
     "status": "completed"
    },
    "tags": []
   },
   "outputs": [],
   "source": [
    "nn_learner = Learner(loss, model_nn, opt, config.num_epochs)\n",
    "acc_nn = ClfCallback(nn_learner, config.bs, training_data_x , testing_data_x, training_data_y, testing_data_y)\n",
    "nn_learner.set_callbacks([acc_nn])"
   ]
  },
  {
   "cell_type": "code",
   "execution_count": 21,
   "id": "877b6cc7",
   "metadata": {
    "execution": {
     "iopub.execute_input": "2021-09-16T00:39:06.555444Z",
     "iopub.status.busy": "2021-09-16T00:39:06.554784Z",
     "iopub.status.idle": "2021-09-16T00:39:06.569093Z",
     "shell.execute_reply": "2021-09-16T00:39:06.568541Z"
    },
    "papermill": {
     "duration": 0.054614,
     "end_time": "2021-09-16T00:39:06.569221",
     "exception": false,
     "start_time": "2021-09-16T00:39:06.514607",
     "status": "completed"
    },
    "tags": []
   },
   "outputs": [],
   "source": [
    "lr_learner = Learner(loss, model_lr, opt, config.num_epochs)\n",
    "acc_lr = ClfCallback(lr_learner, config.bs, training_data_x , testing_data_x, training_data_y, testing_data_y)\n",
    "lr_learner.set_callbacks([acc_lr])"
   ]
  },
  {
   "cell_type": "code",
   "execution_count": 22,
   "id": "d9b133c3",
   "metadata": {
    "execution": {
     "iopub.execute_input": "2021-09-16T00:39:06.646869Z",
     "iopub.status.busy": "2021-09-16T00:39:06.646201Z",
     "iopub.status.idle": "2021-09-16T00:41:26.027252Z",
     "shell.execute_reply": "2021-09-16T00:41:26.028093Z"
    },
    "papermill": {
     "duration": 139.41975,
     "end_time": "2021-09-16T00:41:26.028332",
     "exception": false,
     "start_time": "2021-09-16T00:39:06.608582",
     "status": "completed"
    },
    "tags": []
   },
   "outputs": [
    {
     "name": "stdout",
     "output_type": "stream",
     "text": [
      "Epoch 0, Loss 0.2487\n",
      "Training Accuracy: 0.5989, Testing Accuracy: 0.6326\n",
      "\n"
     ]
    },
    {
     "name": "stdout",
     "output_type": "stream",
     "text": [
      "Epoch 10, Loss 0.1221\n",
      "Training Accuracy: 0.9091, Testing Accuracy: 0.9239\n",
      "\n"
     ]
    },
    {
     "name": "stdout",
     "output_type": "stream",
     "text": [
      "Epoch 20, Loss 0.0661\n",
      "Training Accuracy: 0.9339, Testing Accuracy: 0.9471\n",
      "\n"
     ]
    },
    {
     "name": "stdout",
     "output_type": "stream",
     "text": [
      "Epoch 30, Loss 0.0492\n",
      "Training Accuracy: 0.9472, Testing Accuracy: 0.9582\n",
      "\n"
     ]
    },
    {
     "name": "stdout",
     "output_type": "stream",
     "text": [
      "Epoch 40, Loss 0.0416\n",
      "Training Accuracy: 0.9530, Testing Accuracy: 0.9627\n",
      "\n"
     ]
    },
    {
     "name": "stdout",
     "output_type": "stream",
     "text": [
      "Epoch 50, Loss 0.0373\n",
      "Training Accuracy: 0.9576, Testing Accuracy: 0.9647\n",
      "\n"
     ]
    },
    {
     "name": "stdout",
     "output_type": "stream",
     "text": [
      "Epoch 60, Loss 0.0345\n",
      "Training Accuracy: 0.9602, Testing Accuracy: 0.9662\n",
      "\n"
     ]
    },
    {
     "name": "stdout",
     "output_type": "stream",
     "text": [
      "Epoch 70, Loss 0.0324\n",
      "Training Accuracy: 0.9619, Testing Accuracy: 0.9677\n",
      "\n"
     ]
    },
    {
     "name": "stdout",
     "output_type": "stream",
     "text": [
      "Epoch 80, Loss 0.0309\n",
      "Training Accuracy: 0.9632, Testing Accuracy: 0.9682\n",
      "\n"
     ]
    },
    {
     "name": "stdout",
     "output_type": "stream",
     "text": [
      "Epoch 90, Loss 0.0296\n",
      "Training Accuracy: 0.9642, Testing Accuracy: 0.9693\n",
      "\n"
     ]
    },
    {
     "name": "stdout",
     "output_type": "stream",
     "text": [
      "Epoch 100, Loss 0.0285\n",
      "Training Accuracy: 0.9659, Testing Accuracy: 0.9698\n",
      "\n"
     ]
    },
    {
     "name": "stdout",
     "output_type": "stream",
     "text": [
      "Epoch 110, Loss 0.0276\n",
      "Training Accuracy: 0.9672, Testing Accuracy: 0.9703\n",
      "\n"
     ]
    },
    {
     "name": "stdout",
     "output_type": "stream",
     "text": [
      "Epoch 120, Loss 0.0268\n",
      "Training Accuracy: 0.9685, Testing Accuracy: 0.9713\n",
      "\n"
     ]
    },
    {
     "name": "stdout",
     "output_type": "stream",
     "text": [
      "Epoch 130, Loss 0.0261\n",
      "Training Accuracy: 0.9695, Testing Accuracy: 0.9728\n",
      "\n"
     ]
    },
    {
     "name": "stdout",
     "output_type": "stream",
     "text": [
      "Epoch 140, Loss 0.0254\n",
      "Training Accuracy: 0.9700, Testing Accuracy: 0.9723\n",
      "\n"
     ]
    },
    {
     "name": "stdout",
     "output_type": "stream",
     "text": [
      "Epoch 150, Loss 0.0248\n",
      "Training Accuracy: 0.9707, Testing Accuracy: 0.9718\n",
      "\n"
     ]
    },
    {
     "name": "stdout",
     "output_type": "stream",
     "text": [
      "Epoch 160, Loss 0.0243\n",
      "Training Accuracy: 0.9714, Testing Accuracy: 0.9718\n",
      "\n"
     ]
    },
    {
     "name": "stdout",
     "output_type": "stream",
     "text": [
      "Epoch 170, Loss 0.0238\n",
      "Training Accuracy: 0.9724, Testing Accuracy: 0.9718\n",
      "\n"
     ]
    },
    {
     "name": "stdout",
     "output_type": "stream",
     "text": [
      "Epoch 180, Loss 0.0233\n",
      "Training Accuracy: 0.9732, Testing Accuracy: 0.9718\n",
      "\n"
     ]
    },
    {
     "name": "stdout",
     "output_type": "stream",
     "text": [
      "Epoch 190, Loss 0.0228\n",
      "Training Accuracy: 0.9740, Testing Accuracy: 0.9723\n",
      "\n"
     ]
    },
    {
     "name": "stdout",
     "output_type": "stream",
     "text": [
      "Epoch 200, Loss 0.0224\n",
      "Training Accuracy: 0.9741, Testing Accuracy: 0.9723\n",
      "\n"
     ]
    },
    {
     "name": "stdout",
     "output_type": "stream",
     "text": [
      "Epoch 210, Loss 0.022\n",
      "Training Accuracy: 0.9751, Testing Accuracy: 0.9728\n",
      "\n"
     ]
    },
    {
     "name": "stdout",
     "output_type": "stream",
     "text": [
      "Epoch 220, Loss 0.0216\n",
      "Training Accuracy: 0.9755, Testing Accuracy: 0.9723\n",
      "\n"
     ]
    },
    {
     "name": "stdout",
     "output_type": "stream",
     "text": [
      "Epoch 230, Loss 0.0212\n",
      "Training Accuracy: 0.9762, Testing Accuracy: 0.9728\n",
      "\n"
     ]
    },
    {
     "name": "stdout",
     "output_type": "stream",
     "text": [
      "Epoch 240, Loss 0.0209\n",
      "Training Accuracy: 0.9766, Testing Accuracy: 0.9728\n",
      "\n"
     ]
    },
    {
     "data": {
      "text/plain": [
       "0.013058456903662403"
      ]
     },
     "execution_count": 22,
     "metadata": {},
     "output_type": "execute_result"
    }
   ],
   "source": [
    "nn_learner.train_loop(dl)"
   ]
  },
  {
   "cell_type": "code",
   "execution_count": 23,
   "id": "e0163366",
   "metadata": {
    "execution": {
     "iopub.execute_input": "2021-09-16T00:41:26.122697Z",
     "iopub.status.busy": "2021-09-16T00:41:26.121908Z",
     "iopub.status.idle": "2021-09-16T00:41:45.932507Z",
     "shell.execute_reply": "2021-09-16T00:41:45.933344Z"
    },
    "papermill": {
     "duration": 19.864549,
     "end_time": "2021-09-16T00:41:45.933506",
     "exception": false,
     "start_time": "2021-09-16T00:41:26.068957",
     "status": "completed"
    },
    "tags": []
   },
   "outputs": [
    {
     "name": "stdout",
     "output_type": "stream",
     "text": [
      "Epoch 0, Loss 0.2517\n",
      "Training Accuracy: 0.6607, Testing Accuracy: 0.6759\n",
      "\n"
     ]
    },
    {
     "name": "stdout",
     "output_type": "stream",
     "text": [
      "Epoch 10, Loss 0.0994\n",
      "Training Accuracy: 0.9188, Testing Accuracy: 0.9264\n",
      "\n"
     ]
    },
    {
     "name": "stdout",
     "output_type": "stream",
     "text": [
      "Epoch 20, Loss 0.0767\n",
      "Training Accuracy: 0.9302, Testing Accuracy: 0.9425\n",
      "\n"
     ]
    },
    {
     "name": "stdout",
     "output_type": "stream",
     "text": [
      "Epoch 30, Loss 0.0664\n",
      "Training Accuracy: 0.9383, Testing Accuracy: 0.9466\n",
      "\n"
     ]
    },
    {
     "name": "stdout",
     "output_type": "stream",
     "text": [
      "Epoch 40, Loss 0.0602\n",
      "Training Accuracy: 0.9428, Testing Accuracy: 0.9521\n",
      "\n"
     ]
    },
    {
     "name": "stdout",
     "output_type": "stream",
     "text": [
      "Epoch 50, Loss 0.0559\n",
      "Training Accuracy: 0.9466, Testing Accuracy: 0.9582\n",
      "\n"
     ]
    },
    {
     "name": "stdout",
     "output_type": "stream",
     "text": [
      "Epoch 60, Loss 0.0528\n",
      "Training Accuracy: 0.9488, Testing Accuracy: 0.9602\n",
      "\n"
     ]
    },
    {
     "name": "stdout",
     "output_type": "stream",
     "text": [
      "Epoch 70, Loss 0.0504\n",
      "Training Accuracy: 0.9502, Testing Accuracy: 0.9617\n",
      "\n"
     ]
    },
    {
     "name": "stdout",
     "output_type": "stream",
     "text": [
      "Epoch 80, Loss 0.0485\n",
      "Training Accuracy: 0.9521, Testing Accuracy: 0.9622\n",
      "\n"
     ]
    },
    {
     "name": "stdout",
     "output_type": "stream",
     "text": [
      "Epoch 90, Loss 0.0469\n",
      "Training Accuracy: 0.9538, Testing Accuracy: 0.9637\n",
      "\n"
     ]
    },
    {
     "name": "stdout",
     "output_type": "stream",
     "text": [
      "Epoch 100, Loss 0.0455\n",
      "Training Accuracy: 0.9547, Testing Accuracy: 0.9647\n",
      "\n"
     ]
    },
    {
     "name": "stdout",
     "output_type": "stream",
     "text": [
      "Epoch 110, Loss 0.0444\n",
      "Training Accuracy: 0.9553, Testing Accuracy: 0.9652\n",
      "\n"
     ]
    },
    {
     "name": "stdout",
     "output_type": "stream",
     "text": [
      "Epoch 120, Loss 0.0433\n",
      "Training Accuracy: 0.9559, Testing Accuracy: 0.9652\n",
      "\n"
     ]
    },
    {
     "name": "stdout",
     "output_type": "stream",
     "text": [
      "Epoch 130, Loss 0.0425\n",
      "Training Accuracy: 0.9567, Testing Accuracy: 0.9662\n",
      "\n"
     ]
    },
    {
     "name": "stdout",
     "output_type": "stream",
     "text": [
      "Epoch 140, Loss 0.0417\n",
      "Training Accuracy: 0.9570, Testing Accuracy: 0.9667\n",
      "\n"
     ]
    },
    {
     "name": "stdout",
     "output_type": "stream",
     "text": [
      "Epoch 150, Loss 0.041\n",
      "Training Accuracy: 0.9574, Testing Accuracy: 0.9682\n",
      "\n"
     ]
    },
    {
     "name": "stdout",
     "output_type": "stream",
     "text": [
      "Epoch 160, Loss 0.0403\n",
      "Training Accuracy: 0.9581, Testing Accuracy: 0.9682\n",
      "\n"
     ]
    },
    {
     "name": "stdout",
     "output_type": "stream",
     "text": [
      "Epoch 170, Loss 0.0397\n",
      "Training Accuracy: 0.9584, Testing Accuracy: 0.9677\n",
      "\n"
     ]
    },
    {
     "name": "stdout",
     "output_type": "stream",
     "text": [
      "Epoch 180, Loss 0.0392\n",
      "Training Accuracy: 0.9588, Testing Accuracy: 0.9682\n",
      "\n"
     ]
    },
    {
     "name": "stdout",
     "output_type": "stream",
     "text": [
      "Epoch 190, Loss 0.0387\n",
      "Training Accuracy: 0.9591, Testing Accuracy: 0.9688\n",
      "\n"
     ]
    },
    {
     "name": "stdout",
     "output_type": "stream",
     "text": [
      "Epoch 200, Loss 0.0382\n",
      "Training Accuracy: 0.9595, Testing Accuracy: 0.9682\n",
      "\n"
     ]
    },
    {
     "name": "stdout",
     "output_type": "stream",
     "text": [
      "Epoch 210, Loss 0.0378\n",
      "Training Accuracy: 0.9597, Testing Accuracy: 0.9677\n",
      "\n"
     ]
    },
    {
     "name": "stdout",
     "output_type": "stream",
     "text": [
      "Epoch 220, Loss 0.0374\n",
      "Training Accuracy: 0.9599, Testing Accuracy: 0.9677\n",
      "\n"
     ]
    },
    {
     "name": "stdout",
     "output_type": "stream",
     "text": [
      "Epoch 230, Loss 0.0371\n",
      "Training Accuracy: 0.9603, Testing Accuracy: 0.9682\n",
      "\n"
     ]
    },
    {
     "name": "stdout",
     "output_type": "stream",
     "text": [
      "Epoch 240, Loss 0.0367\n",
      "Training Accuracy: 0.9604, Testing Accuracy: 0.9682\n",
      "\n"
     ]
    },
    {
     "data": {
      "text/plain": [
       "0.06215491803502389"
      ]
     },
     "execution_count": 23,
     "metadata": {},
     "output_type": "execute_result"
    }
   ],
   "source": [
    "lr_learner.train_loop(dl)"
   ]
  },
  {
   "cell_type": "code",
   "execution_count": 24,
   "id": "ca410940",
   "metadata": {
    "execution": {
     "iopub.execute_input": "2021-09-16T00:41:46.046068Z",
     "iopub.status.busy": "2021-09-16T00:41:46.045054Z",
     "iopub.status.idle": "2021-09-16T00:41:46.350542Z",
     "shell.execute_reply": "2021-09-16T00:41:46.349919Z"
    },
    "papermill": {
     "duration": 0.364491,
     "end_time": "2021-09-16T00:41:46.350702",
     "exception": false,
     "start_time": "2021-09-16T00:41:45.986211",
     "status": "completed"
    },
    "tags": []
   },
   "outputs": [
    {
     "data": {
      "text/plain": [
       "<matplotlib.legend.Legend at 0x7fe6e2026f60>"
      ]
     },
     "execution_count": 24,
     "metadata": {},
     "output_type": "execute_result"
    },
    {
     "data": {
      "image/png": "[encoded data removed]",
      "text/plain": [
       "<Figure size 1080x720 with 1 Axes>"
      ]
     },
     "metadata": {
      "needs_background": "light"
     },
     "output_type": "display_data"
    }
   ],
   "source": [
    "#comparing the results of NN and LR\n",
    "plt.figure(figsize=(15,10))\n",
    "\n",
    "# Neural Network plots\n",
    "plt.plot(acc_nn.accuracies, 'r-', label = \"Training Accuracies - NN\")\n",
    "plt.plot(acc_nn.test_accuracies, 'g-', label = \"Testing Accuracies - NN\")\n",
    "\n",
    "# Logistic Regression plots\n",
    "plt.plot(acc_lr.accuracies, 'k-', label = \"Training Accuracies - LR\")\n",
    "plt.plot(acc_lr.test_accuracies, 'b-', label = \"Testing Accuracies - LR\")\n",
    "plt.legend()"
   ]
  },
  {
   "cell_type": "markdown",
   "id": "80dfb35c",
   "metadata": {
    "papermill": {
     "duration": 0.048382,
     "end_time": "2021-09-16T00:41:46.448826",
     "exception": false,
     "start_time": "2021-09-16T00:41:46.400444",
     "status": "completed"
    },
    "tags": []
   },
   "source": [
    "#### Plotting the outputs of this layer of the NN.\n"
   ]
  },
  {
   "cell_type": "code",
   "execution_count": 25,
   "id": "45eb2ff5",
   "metadata": {
    "execution": {
     "iopub.execute_input": "2021-09-16T00:41:46.557297Z",
     "iopub.status.busy": "2021-09-16T00:41:46.556728Z",
     "iopub.status.idle": "2021-09-16T00:41:46.581464Z",
     "shell.execute_reply": "2021-09-16T00:41:46.582231Z"
    },
    "papermill": {
     "duration": 0.080897,
     "end_time": "2021-09-16T00:41:46.582397",
     "exception": false,
     "start_time": "2021-09-16T00:41:46.501500",
     "status": "completed"
    },
    "tags": []
   },
   "outputs": [],
   "source": [
    "new_model = Model(layers[:-2])\n",
    "testing_plot = new_model(testing_data_x)"
   ]
  },
  {
   "cell_type": "code",
   "execution_count": 26,
   "id": "4c0a5485",
   "metadata": {
    "execution": {
     "iopub.execute_input": "2021-09-16T00:41:46.684566Z",
     "iopub.status.busy": "2021-09-16T00:41:46.683951Z",
     "iopub.status.idle": "2021-09-16T00:41:46.945531Z",
     "shell.execute_reply": "2021-09-16T00:41:46.944886Z"
    },
    "papermill": {
     "duration": 0.314194,
     "end_time": "2021-09-16T00:41:46.945711",
     "exception": false,
     "start_time": "2021-09-16T00:41:46.631517",
     "status": "completed"
    },
    "tags": []
   },
   "outputs": [
    {
     "data": {
      "text/plain": [
       "Text(0.5, 1.0, 'Outputs')"
      ]
     },
     "execution_count": 26,
     "metadata": {},
     "output_type": "execute_result"
    },
    {
     "data": {
      "image/png": "[encoded data removed]",
      "text/plain": [
       "<Figure size 576x504 with 1 Axes>"
      ]
     },
     "metadata": {
      "needs_background": "light"
     },
     "output_type": "display_data"
    }
   ],
   "source": [
    "# Plotting the scatter plot of points and color coding by class\n",
    "plt.figure(figsize=(8,7))\n",
    "plt.scatter(testing_plot[:,0], testing_plot[:,1], alpha = 0.1, c = y_test.ravel());\n",
    "plt.title('Outputs')"
   ]
  },
  {
   "cell_type": "markdown",
   "id": "a74fcf8f",
   "metadata": {
    "papermill": {
     "duration": 0.04879,
     "end_time": "2021-09-16T00:41:47.046933",
     "exception": false,
     "start_time": "2021-09-16T00:41:46.998143",
     "status": "completed"
    },
    "tags": []
   },
   "source": [
    "Probability contours"
   ]
  },
  {
   "cell_type": "code",
   "execution_count": 27,
   "id": "d0afc8e3",
   "metadata": {
    "execution": {
     "iopub.execute_input": "2021-09-16T00:41:47.151249Z",
     "iopub.status.busy": "2021-09-16T00:41:47.150209Z",
     "iopub.status.idle": "2021-09-16T00:41:47.163398Z",
     "shell.execute_reply": "2021-09-16T00:41:47.163910Z"
    },
    "papermill": {
     "duration": 0.06629,
     "end_time": "2021-09-16T00:41:47.164028",
     "exception": false,
     "start_time": "2021-09-16T00:41:47.097738",
     "status": "completed"
    },
    "tags": []
   },
   "outputs": [],
   "source": [
    "model_prob = Model(layers[-2:]) "
   ]
  },
  {
   "cell_type": "code",
   "execution_count": 28,
   "id": "9b96e238",
   "metadata": {
    "execution": {
     "iopub.execute_input": "2021-09-16T00:41:47.285793Z",
     "iopub.status.busy": "2021-09-16T00:41:47.285253Z",
     "iopub.status.idle": "2021-09-16T00:41:47.300048Z",
     "shell.execute_reply": "2021-09-16T00:41:47.300550Z"
    },
    "papermill": {
     "duration": 0.087136,
     "end_time": "2021-09-16T00:41:47.300691",
     "exception": false,
     "start_time": "2021-09-16T00:41:47.213555",
     "status": "completed"
    },
    "tags": []
   },
   "outputs": [],
   "source": [
    "#creating the x and y ranges according to the above generated plot.\n",
    "x_range = np.linspace(-4, 1, 100) \n",
    "y_range = np.linspace(-6, 6, 100) \n",
    "x_grid, y_grid = np.meshgrid(x_range, y_range) # x_grid and y_grig are of size 100 X 100\n",
    "\n",
    "# converting x_grid and y_grid to continuous arrays\n",
    "x_gridflat = np.ravel(x_grid)\n",
    "y_gridflat = np.ravel(y_grid)\n",
    "\n",
    "# The last layer of the current model takes two columns as input. Hence transpose of np.vstack() is required.\n",
    "X = np.vstack((x_gridflat, y_gridflat)).T\n",
    "\n",
    "prob_contour = model_prob(X).reshape(100,100) "
   ]
  },
  {
   "cell_type": "code",
   "execution_count": 29,
   "id": "da72499a",
   "metadata": {
    "execution": {
     "iopub.execute_input": "2021-09-16T00:41:47.416312Z",
     "iopub.status.busy": "2021-09-16T00:41:47.414561Z",
     "iopub.status.idle": "2021-09-16T00:41:47.726984Z",
     "shell.execute_reply": "2021-09-16T00:41:47.725912Z"
    },
    "papermill": {
     "duration": 0.371634,
     "end_time": "2021-09-16T00:41:47.727102",
     "exception": false,
     "start_time": "2021-09-16T00:41:47.355468",
     "status": "completed"
    },
    "tags": []
   },
   "outputs": [
    {
     "data": {
      "image/png": "[encoded data removed]",
      "text/plain": [
       "<Figure size 720x648 with 1 Axes>"
      ]
     },
     "metadata": {
      "needs_background": "light"
     },
     "output_type": "display_data"
    }
   ],
   "source": [
    "plt.figure(figsize=(10,9))\n",
    "plt.scatter(testing_plot[:,0], testing_plot[:,1], alpha = 0.1, c = y_test.ravel())\n",
    "contours = plt.contour(x_grid,y_grid,prob_contour)\n",
    "plt.title('Probability Contours')\n",
    "plt.clabel(contours, inline = True );"
   ]
  },
  {
   "cell_type": "code",
   "execution_count": null,
   "id": "e81b4ac7",
   "metadata": {
    "papermill": {
     "duration": 0.049453,
     "end_time": "2021-09-16T00:41:47.826355",
     "exception": false,
     "start_time": "2021-09-16T00:41:47.776902",
     "status": "completed"
    },
    "tags": []
   },
   "outputs": [],
   "source": []
  }
 ],
 "metadata": {
  "kernelspec": {
   "display_name": "Python 3",
   "language": "python",
   "name": "python3"
  },
  "language_info": {
   "codemirror_mode": {
    "name": "ipython",
    "version": 3
   },
   "file_extension": ".py",
   "mimetype": "text/x-python",
   "name": "python",
   "nbconvert_exporter": "python",
   "pygments_lexer": "ipython3",
   "version": "3.6.14"
  },
  "papermill": {
   "default_parameters": {},
   "duration": 168.548885,
   "end_time": "2021-09-16T00:41:48.187482",
   "environment_variables": {},
   "exception": null,
   "input_path": "2020-08-11-part2.ipynb",
   "output_path": "2020-08-11-part2.ipynb",
   "parameters": {},
   "start_time": "2021-09-16T00:38:59.638597",
   "version": "2.3.3"
  }
 },
 "nbformat": 4,
 "nbformat_minor": 5
}