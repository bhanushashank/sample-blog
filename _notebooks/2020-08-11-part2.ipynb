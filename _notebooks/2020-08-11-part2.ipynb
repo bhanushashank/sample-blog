{
 "cells": [
  {
   "cell_type": "markdown",
   "id": "98380cd3",
   "metadata": {
    "papermill": {
     "duration": 0.028337,
     "end_time": "2021-11-09T10:07:57.063104",
     "exception": false,
     "start_time": "2021-11-09T10:07:57.034767",
     "status": "completed"
    },
    "tags": []
   },
   "source": [
    "# Distinguish Your Own Digits (DYOD)"
   ]
  },
  {
   "cell_type": "markdown",
   "id": "ef31240d",
   "metadata": {
    "papermill": {
     "duration": 0.025201,
     "end_time": "2021-11-09T10:07:57.112939",
     "exception": false,
     "start_time": "2021-11-09T10:07:57.087738",
     "status": "completed"
    },
    "tags": []
   },
   "source": [
    "You are going to write a classifier that distinguishes between the number 3 and number 8."
   ]
  },
  {
   "cell_type": "code",
   "execution_count": 1,
   "id": "b15c8646",
   "metadata": {
    "execution": {
     "iopub.execute_input": "2021-11-09T10:07:57.170274Z",
     "iopub.status.busy": "2021-11-09T10:07:57.169755Z",
     "iopub.status.idle": "2021-11-09T10:07:57.179312Z",
     "shell.execute_reply": "2021-11-09T10:07:57.179760Z"
    },
    "papermill": {
     "duration": 0.043179,
     "end_time": "2021-11-09T10:07:57.179902",
     "exception": false,
     "start_time": "2021-11-09T10:07:57.136723",
     "status": "completed"
    },
    "tags": []
   },
   "outputs": [],
   "source": [
    "%load_ext autoreload\n",
    "%autoreload 2"
   ]
  },
  {
   "cell_type": "code",
   "execution_count": 2,
   "id": "22ef38dc",
   "metadata": {
    "execution": {
     "iopub.execute_input": "2021-11-09T10:07:57.236283Z",
     "iopub.status.busy": "2021-11-09T10:07:57.235767Z",
     "iopub.status.idle": "2021-11-09T10:07:57.727326Z",
     "shell.execute_reply": "2021-11-09T10:07:57.727866Z"
    },
    "papermill": {
     "duration": 0.524312,
     "end_time": "2021-11-09T10:07:57.728031",
     "exception": false,
     "start_time": "2021-11-09T10:07:57.203719",
     "status": "completed"
    },
    "tags": []
   },
   "outputs": [],
   "source": [
    "%matplotlib inline\n",
    "import numpy as np\n",
    "import matplotlib.pyplot as plt\n",
    "import pandas as pd"
   ]
  },
  {
   "cell_type": "markdown",
   "id": "ba036198",
   "metadata": {
    "papermill": {
     "duration": 0.023912,
     "end_time": "2021-11-09T10:07:57.776328",
     "exception": false,
     "start_time": "2021-11-09T10:07:57.752416",
     "status": "completed"
    },
    "tags": []
   },
   "source": [
    "From the command line run `pip install mnist`. This is a library that will help you bring down the mnist dataset. If you run this from a notebook, you need to put  `!pip install mnist` in a cell by itself."
   ]
  },
  {
   "cell_type": "code",
   "execution_count": 3,
   "id": "bb6ad8a1",
   "metadata": {
    "execution": {
     "iopub.execute_input": "2021-11-09T10:07:57.829105Z",
     "iopub.status.busy": "2021-11-09T10:07:57.828560Z",
     "iopub.status.idle": "2021-11-09T10:08:00.260187Z",
     "shell.execute_reply": "2021-11-09T10:08:00.259704Z"
    },
    "papermill": {
     "duration": 2.460035,
     "end_time": "2021-11-09T10:08:00.260310",
     "exception": false,
     "start_time": "2021-11-09T10:07:57.800275",
     "status": "completed"
    },
    "tags": []
   },
   "outputs": [
    {
     "name": "stdout",
     "output_type": "stream",
     "text": [
      "Collecting mnist\r\n"
     ]
    },
    {
     "name": "stdout",
     "output_type": "stream",
     "text": [
      "  Downloading mnist-0.2.2-py2.py3-none-any.whl (3.5 kB)\r\n",
      "Requirement already satisfied: numpy in /opt/hostedtoolcache/Python/3.6.15/x64/lib/python3.6/site-packages (from mnist) (1.19.5)\r\n"
     ]
    },
    {
     "name": "stdout",
     "output_type": "stream",
     "text": [
      "Installing collected packages: mnist\r\n",
      "Successfully installed mnist-0.2.2\r\n"
     ]
    }
   ],
   "source": [
    "!pip install mnist"
   ]
  },
  {
   "cell_type": "markdown",
   "id": "69df9c9a",
   "metadata": {
    "papermill": {
     "duration": 0.024612,
     "end_time": "2021-11-09T10:08:00.309964",
     "exception": false,
     "start_time": "2021-11-09T10:08:00.285352",
     "status": "completed"
    },
    "tags": []
   },
   "source": [
    "## Preparing the Data"
   ]
  },
  {
   "cell_type": "code",
   "execution_count": 4,
   "id": "7f69d806",
   "metadata": {
    "execution": {
     "iopub.execute_input": "2021-11-09T10:08:00.363076Z",
     "iopub.status.busy": "2021-11-09T10:08:00.362569Z",
     "iopub.status.idle": "2021-11-09T10:08:00.376306Z",
     "shell.execute_reply": "2021-11-09T10:08:00.375869Z"
    },
    "papermill": {
     "duration": 0.041871,
     "end_time": "2021-11-09T10:08:00.376411",
     "exception": false,
     "start_time": "2021-11-09T10:08:00.334540",
     "status": "completed"
    },
    "tags": []
   },
   "outputs": [],
   "source": [
    "import mnist"
   ]
  },
  {
   "cell_type": "code",
   "execution_count": 5,
   "id": "a411e44f",
   "metadata": {
    "execution": {
     "iopub.execute_input": "2021-11-09T10:08:00.429418Z",
     "iopub.status.busy": "2021-11-09T10:08:00.428904Z",
     "iopub.status.idle": "2021-11-09T10:08:00.897687Z",
     "shell.execute_reply": "2021-11-09T10:08:00.897161Z"
    },
    "papermill": {
     "duration": 0.496748,
     "end_time": "2021-11-09T10:08:00.897829",
     "exception": false,
     "start_time": "2021-11-09T10:08:00.401081",
     "status": "completed"
    },
    "tags": []
   },
   "outputs": [],
   "source": [
    "train_images = mnist.train_images()\n",
    "train_labels = mnist.train_labels()"
   ]
  },
  {
   "cell_type": "code",
   "execution_count": 6,
   "id": "dceab3a5",
   "metadata": {
    "execution": {
     "iopub.execute_input": "2021-11-09T10:08:00.951439Z",
     "iopub.status.busy": "2021-11-09T10:08:00.950910Z",
     "iopub.status.idle": "2021-11-09T10:08:00.964787Z",
     "shell.execute_reply": "2021-11-09T10:08:00.964358Z"
    },
    "papermill": {
     "duration": 0.041841,
     "end_time": "2021-11-09T10:08:00.964888",
     "exception": false,
     "start_time": "2021-11-09T10:08:00.923047",
     "status": "completed"
    },
    "tags": []
   },
   "outputs": [
    {
     "data": {
      "text/plain": [
       "((60000, 28, 28), (60000,))"
      ]
     },
     "execution_count": 6,
     "metadata": {},
     "output_type": "execute_result"
    }
   ],
   "source": [
    "train_images.shape, train_labels.shape"
   ]
  },
  {
   "cell_type": "code",
   "execution_count": 7,
   "id": "f50dc2bb",
   "metadata": {
    "execution": {
     "iopub.execute_input": "2021-11-09T10:08:01.017307Z",
     "iopub.status.busy": "2021-11-09T10:08:01.016813Z",
     "iopub.status.idle": "2021-11-09T10:08:01.140446Z",
     "shell.execute_reply": "2021-11-09T10:08:01.139902Z"
    },
    "papermill": {
     "duration": 0.151013,
     "end_time": "2021-11-09T10:08:01.140588",
     "exception": false,
     "start_time": "2021-11-09T10:08:00.989575",
     "status": "completed"
    },
    "tags": []
   },
   "outputs": [],
   "source": [
    "test_images = mnist.test_images()\n",
    "test_labels = mnist.test_labels()"
   ]
  },
  {
   "cell_type": "code",
   "execution_count": 8,
   "id": "fc38cf1b",
   "metadata": {
    "execution": {
     "iopub.execute_input": "2021-11-09T10:08:01.194503Z",
     "iopub.status.busy": "2021-11-09T10:08:01.193873Z",
     "iopub.status.idle": "2021-11-09T10:08:01.207214Z",
     "shell.execute_reply": "2021-11-09T10:08:01.206805Z"
    },
    "papermill": {
     "duration": 0.040871,
     "end_time": "2021-11-09T10:08:01.207324",
     "exception": false,
     "start_time": "2021-11-09T10:08:01.166453",
     "status": "completed"
    },
    "tags": []
   },
   "outputs": [
    {
     "data": {
      "text/plain": [
       "((10000, 28, 28), (10000,))"
      ]
     },
     "execution_count": 8,
     "metadata": {},
     "output_type": "execute_result"
    }
   ],
   "source": [
    "test_images.shape, test_labels.shape"
   ]
  },
  {
   "cell_type": "code",
   "execution_count": 9,
   "id": "f9ed8fe0",
   "metadata": {
    "execution": {
     "iopub.execute_input": "2021-11-09T10:08:01.287023Z",
     "iopub.status.busy": "2021-11-09T10:08:01.271326Z",
     "iopub.status.idle": "2021-11-09T10:08:01.401151Z",
     "shell.execute_reply": "2021-11-09T10:08:01.400703Z"
    },
    "papermill": {
     "duration": 0.168857,
     "end_time": "2021-11-09T10:08:01.401270",
     "exception": false,
     "start_time": "2021-11-09T10:08:01.232413",
     "status": "completed"
    },
    "tags": []
   },
   "outputs": [
    {
     "name": "stdout",
     "output_type": "stream",
     "text": [
      "2\n"
     ]
    },
    {
     "data": {
      "text/plain": [
       "<matplotlib.image.AxesImage at 0x7f5e76dda128>"
      ]
     },
     "execution_count": 9,
     "metadata": {},
     "output_type": "execute_result"
    },
    {
     "data": {
      "image/png": "[encoded data removed]",
      "text/plain": [
       "<Figure size 432x288 with 1 Axes>"
      ]
     },
     "metadata": {
      "needs_background": "light"
     },
     "output_type": "display_data"
    }
   ],
   "source": [
    "image_index = 7776 # You may select anything up to 60,000\n",
    "print(train_labels[image_index]) \n",
    "plt.imshow(train_images[image_index], cmap='Greys')"
   ]
  },
  {
   "cell_type": "markdown",
   "id": "a8d2388d",
   "metadata": {
    "papermill": {
     "duration": 0.026344,
     "end_time": "2021-11-09T10:08:01.454131",
     "exception": false,
     "start_time": "2021-11-09T10:08:01.427787",
     "status": "completed"
    },
    "tags": []
   },
   "source": [
    "## Filter data to get 3 and 8 out"
   ]
  },
  {
   "cell_type": "code",
   "execution_count": 10,
   "id": "776f7fc7",
   "metadata": {
    "execution": {
     "iopub.execute_input": "2021-11-09T10:08:01.516534Z",
     "iopub.status.busy": "2021-11-09T10:08:01.510057Z",
     "iopub.status.idle": "2021-11-09T10:08:01.528510Z",
     "shell.execute_reply": "2021-11-09T10:08:01.528895Z"
    },
    "papermill": {
     "duration": 0.048671,
     "end_time": "2021-11-09T10:08:01.529026",
     "exception": false,
     "start_time": "2021-11-09T10:08:01.480355",
     "status": "completed"
    },
    "tags": []
   },
   "outputs": [],
   "source": [
    "train_filter = np.where((train_labels == 3 ) | (train_labels == 8))\n",
    "test_filter = np.where((test_labels == 3) | (test_labels == 8))\n",
    "X_train, y_train = train_images[train_filter], train_labels[train_filter]\n",
    "X_test, y_test = test_images[test_filter], test_labels[test_filter]"
   ]
  },
  {
   "cell_type": "markdown",
   "id": "948f0b7e",
   "metadata": {
    "papermill": {
     "duration": 0.026166,
     "end_time": "2021-11-09T10:08:01.581611",
     "exception": false,
     "start_time": "2021-11-09T10:08:01.555445",
     "status": "completed"
    },
    "tags": []
   },
   "source": [
    "We normalize the pizel values in the 0 to 1 range"
   ]
  },
  {
   "cell_type": "code",
   "execution_count": 11,
   "id": "ee4c2166",
   "metadata": {
    "execution": {
     "iopub.execute_input": "2021-11-09T10:08:01.637084Z",
     "iopub.status.busy": "2021-11-09T10:08:01.636579Z",
     "iopub.status.idle": "2021-11-09T10:08:01.683744Z",
     "shell.execute_reply": "2021-11-09T10:08:01.684213Z"
    },
    "papermill": {
     "duration": 0.076723,
     "end_time": "2021-11-09T10:08:01.684438",
     "exception": false,
     "start_time": "2021-11-09T10:08:01.607715",
     "status": "completed"
    },
    "tags": []
   },
   "outputs": [],
   "source": [
    "X_train = X_train/255.\n",
    "X_test = X_test/255."
   ]
  },
  {
   "cell_type": "markdown",
   "id": "ddcf4fab",
   "metadata": {
    "papermill": {
     "duration": 0.026109,
     "end_time": "2021-11-09T10:08:01.737266",
     "exception": false,
     "start_time": "2021-11-09T10:08:01.711157",
     "status": "completed"
    },
    "tags": []
   },
   "source": [
    "And setup the labels as 1 (when the digit is 3) and 0 (when the digit is 8)"
   ]
  },
  {
   "cell_type": "code",
   "execution_count": 12,
   "id": "7dc908f2",
   "metadata": {
    "execution": {
     "iopub.execute_input": "2021-11-09T10:08:01.793051Z",
     "iopub.status.busy": "2021-11-09T10:08:01.792546Z",
     "iopub.status.idle": "2021-11-09T10:08:01.804386Z",
     "shell.execute_reply": "2021-11-09T10:08:01.803972Z"
    },
    "papermill": {
     "duration": 0.041063,
     "end_time": "2021-11-09T10:08:01.804496",
     "exception": false,
     "start_time": "2021-11-09T10:08:01.763433",
     "status": "completed"
    },
    "tags": []
   },
   "outputs": [],
   "source": [
    "y_train = 1*(y_train==3)\n",
    "y_test = 1*(y_test==3)"
   ]
  },
  {
   "cell_type": "code",
   "execution_count": 13,
   "id": "01e4e969",
   "metadata": {
    "execution": {
     "iopub.execute_input": "2021-11-09T10:08:01.859899Z",
     "iopub.status.busy": "2021-11-09T10:08:01.859357Z",
     "iopub.status.idle": "2021-11-09T10:08:01.872397Z",
     "shell.execute_reply": "2021-11-09T10:08:01.871993Z"
    },
    "papermill": {
     "duration": 0.041807,
     "end_time": "2021-11-09T10:08:01.872501",
     "exception": false,
     "start_time": "2021-11-09T10:08:01.830694",
     "status": "completed"
    },
    "tags": []
   },
   "outputs": [
    {
     "data": {
      "text/plain": [
       "((11982, 28, 28), (1984, 28, 28))"
      ]
     },
     "execution_count": 13,
     "metadata": {},
     "output_type": "execute_result"
    }
   ],
   "source": [
    "X_train.shape, X_test.shape"
   ]
  },
  {
   "cell_type": "markdown",
   "id": "5ccf3f85",
   "metadata": {
    "papermill": {
     "duration": 0.026409,
     "end_time": "2021-11-09T10:08:01.925354",
     "exception": false,
     "start_time": "2021-11-09T10:08:01.898945",
     "status": "completed"
    },
    "tags": []
   },
   "source": [
    "We reshape the data to flatten the image pixels into a set of features or co-variates:"
   ]
  },
  {
   "cell_type": "code",
   "execution_count": 14,
   "id": "5286a4a3",
   "metadata": {
    "execution": {
     "iopub.execute_input": "2021-11-09T10:08:01.981863Z",
     "iopub.status.busy": "2021-11-09T10:08:01.981363Z",
     "iopub.status.idle": "2021-11-09T10:08:01.994685Z",
     "shell.execute_reply": "2021-11-09T10:08:01.994285Z"
    },
    "papermill": {
     "duration": 0.04272,
     "end_time": "2021-11-09T10:08:01.994786",
     "exception": false,
     "start_time": "2021-11-09T10:08:01.952066",
     "status": "completed"
    },
    "tags": []
   },
   "outputs": [
    {
     "data": {
      "text/plain": [
       "((11982, 784), (1984, 784))"
      ]
     },
     "execution_count": 14,
     "metadata": {},
     "output_type": "execute_result"
    }
   ],
   "source": [
    "X_train = X_train.reshape(X_train.shape[0], -1)\n",
    "X_test = X_test.reshape(X_test.shape[0], -1)\n",
    "X_train.shape, X_test.shape"
   ]
  },
  {
   "cell_type": "code",
   "execution_count": 15,
   "id": "73c5f88a",
   "metadata": {
    "execution": {
     "iopub.execute_input": "2021-11-09T10:08:02.052242Z",
     "iopub.status.busy": "2021-11-09T10:08:02.051725Z",
     "iopub.status.idle": "2021-11-09T10:08:02.069913Z",
     "shell.execute_reply": "2021-11-09T10:08:02.070348Z"
    },
    "papermill": {
     "duration": 0.049122,
     "end_time": "2021-11-09T10:08:02.070482",
     "exception": false,
     "start_time": "2021-11-09T10:08:02.021360",
     "status": "completed"
    },
    "tags": []
   },
   "outputs": [],
   "source": [
    "#Impoting functions from 'Kudzu'\n",
    "from kudzu.model import Model\n",
    "from kudzu.train import Learner\n",
    "from kudzu.optim import GD\n",
    "from kudzu.data import Data, Sampler,Dataloader\n",
    "\n",
    "from kudzu.callbacks import AccCallback\n",
    "from kudzu.callbacks import ClfCallback\n",
    "\n",
    "from kudzu.loss import MSE\n",
    "\n",
    "from kudzu.layer import Sigmoid,Relu\n",
    "from kudzu.layer import Affine"
   ]
  },
  {
   "cell_type": "markdown",
   "id": "bc01172a",
   "metadata": {
    "papermill": {
     "duration": 0.026656,
     "end_time": "2021-11-09T10:08:02.124928",
     "exception": false,
     "start_time": "2021-11-09T10:08:02.098272",
     "status": "completed"
    },
    "tags": []
   },
   "source": [
    "### Let us create a `Config` class, to store important parameters. \n",
    "This class essentially plays the role of a dictionary."
   ]
  },
  {
   "cell_type": "code",
   "execution_count": 16,
   "id": "978281aa",
   "metadata": {
    "execution": {
     "iopub.execute_input": "2021-11-09T10:08:02.181782Z",
     "iopub.status.busy": "2021-11-09T10:08:02.181272Z",
     "iopub.status.idle": "2021-11-09T10:08:02.192125Z",
     "shell.execute_reply": "2021-11-09T10:08:02.191693Z"
    },
    "papermill": {
     "duration": 0.040815,
     "end_time": "2021-11-09T10:08:02.192226",
     "exception": false,
     "start_time": "2021-11-09T10:08:02.151411",
     "status": "completed"
    },
    "tags": []
   },
   "outputs": [],
   "source": [
    "class Config:\n",
    "    pass\n",
    "config = Config()\n",
    "config.lr = 0.001\n",
    "config.num_epochs = 250\n",
    "config.bs = 50"
   ]
  },
  {
   "cell_type": "markdown",
   "id": "1385fa59",
   "metadata": {
    "papermill": {
     "duration": 0.026477,
     "end_time": "2021-11-09T10:08:02.245578",
     "exception": false,
     "start_time": "2021-11-09T10:08:02.219101",
     "status": "completed"
    },
    "tags": []
   },
   "source": [
    "### Running Models with the Training data\n",
    "Details about the network layers:\n",
    "- A first affine layer has 784 inputs and does 100 affine transforms. These are followed by a Relu\n",
    "- A second affine layer has 100 inputs from the 100 activations of the past layer, and does 100 affine transforms. These are followed by a Relu\n",
    "- A third affine layer has 100 activations and does 2 affine transformations to create an embedding for visualization. There is no non-linearity here.\n",
    "- A final \"logistic regression\" which has an affine transform from 2 inputs to 1 output, which is squeezed through a sigmoid.\n"
   ]
  },
  {
   "cell_type": "code",
   "execution_count": 17,
   "id": "2b9c66db",
   "metadata": {
    "execution": {
     "iopub.execute_input": "2021-11-09T10:08:02.302336Z",
     "iopub.status.busy": "2021-11-09T10:08:02.301829Z",
     "iopub.status.idle": "2021-11-09T10:08:02.313188Z",
     "shell.execute_reply": "2021-11-09T10:08:02.312784Z"
    },
    "papermill": {
     "duration": 0.04102,
     "end_time": "2021-11-09T10:08:02.313291",
     "exception": false,
     "start_time": "2021-11-09T10:08:02.272271",
     "status": "completed"
    },
    "tags": []
   },
   "outputs": [],
   "source": [
    "data = Data(X_train, y_train.reshape(-1,1))\n",
    "sampler = Sampler(data, config.bs, shuffle=True)\n",
    "\n",
    "dl = Dataloader(data, sampler)\n",
    "\n",
    "opt = GD(config.lr)\n",
    "loss = MSE()"
   ]
  },
  {
   "cell_type": "code",
   "execution_count": 18,
   "id": "b275e4c2",
   "metadata": {
    "execution": {
     "iopub.execute_input": "2021-11-09T10:08:02.374895Z",
     "iopub.status.busy": "2021-11-09T10:08:02.374389Z",
     "iopub.status.idle": "2021-11-09T10:08:02.382839Z",
     "shell.execute_reply": "2021-11-09T10:08:02.382409Z"
    },
    "papermill": {
     "duration": 0.042975,
     "end_time": "2021-11-09T10:08:02.382938",
     "exception": false,
     "start_time": "2021-11-09T10:08:02.339963",
     "status": "completed"
    },
    "tags": []
   },
   "outputs": [],
   "source": [
    "training_data_x = X_train\n",
    "testing_data_x = X_test\n",
    "training_data_y = y_train.reshape(-1,1)\n",
    "testing_data_y = y_test.reshape(-1,1)"
   ]
  },
  {
   "cell_type": "code",
   "execution_count": 19,
   "id": "76951160",
   "metadata": {
    "execution": {
     "iopub.execute_input": "2021-11-09T10:08:02.444809Z",
     "iopub.status.busy": "2021-11-09T10:08:02.444293Z",
     "iopub.status.idle": "2021-11-09T10:08:02.456733Z",
     "shell.execute_reply": "2021-11-09T10:08:02.456326Z"
    },
    "papermill": {
     "duration": 0.047394,
     "end_time": "2021-11-09T10:08:02.456841",
     "exception": false,
     "start_time": "2021-11-09T10:08:02.409447",
     "status": "completed"
    },
    "tags": []
   },
   "outputs": [
    {
     "name": "stdout",
     "output_type": "stream",
     "text": [
      "xavier\n",
      "xavier\n",
      "xavier\n",
      "xavier\n",
      "xavier\n"
     ]
    }
   ],
   "source": [
    "layers = [Affine(\"first\", 784, 100), Relu(\"first\"), Affine(\"second\", 100, 100), Relu(\"second\"), Affine(\"third\", 100, 2), Affine(\"last\", 2, 1), Sigmoid(\"last\")]\n",
    "model_nn = Model(layers)\n",
    "model_lr = Model([Affine(\"logits\", 784, 1), Sigmoid(\"sigmoid\")])"
   ]
  },
  {
   "cell_type": "code",
   "execution_count": 20,
   "id": "6eede77a",
   "metadata": {
    "execution": {
     "iopub.execute_input": "2021-11-09T10:08:02.514719Z",
     "iopub.status.busy": "2021-11-09T10:08:02.514215Z",
     "iopub.status.idle": "2021-11-09T10:08:02.526537Z",
     "shell.execute_reply": "2021-11-09T10:08:02.526063Z"
    },
    "papermill": {
     "duration": 0.042587,
     "end_time": "2021-11-09T10:08:02.526652",
     "exception": false,
     "start_time": "2021-11-09T10:08:02.484065",
     "status": "completed"
    },
    "tags": []
   },
   "outputs": [],
   "source": [
    "nn_learner = Learner(loss, model_nn, opt, config.num_epochs)\n",
    "acc_nn = ClfCallback(nn_learner, config.bs, training_data_x , testing_data_x, training_data_y, testing_data_y)\n",
    "nn_learner.set_callbacks([acc_nn])"
   ]
  },
  {
   "cell_type": "code",
   "execution_count": 21,
   "id": "877b6cc7",
   "metadata": {
    "execution": {
     "iopub.execute_input": "2021-11-09T10:08:02.585592Z",
     "iopub.status.busy": "2021-11-09T10:08:02.585093Z",
     "iopub.status.idle": "2021-11-09T10:08:02.595876Z",
     "shell.execute_reply": "2021-11-09T10:08:02.595463Z"
    },
    "papermill": {
     "duration": 0.041427,
     "end_time": "2021-11-09T10:08:02.595981",
     "exception": false,
     "start_time": "2021-11-09T10:08:02.554554",
     "status": "completed"
    },
    "tags": []
   },
   "outputs": [],
   "source": [
    "lr_learner = Learner(loss, model_lr, opt, config.num_epochs)\n",
    "acc_lr = ClfCallback(lr_learner, config.bs, training_data_x , testing_data_x, training_data_y, testing_data_y)\n",
    "lr_learner.set_callbacks([acc_lr])"
   ]
  },
  {
   "cell_type": "code",
   "execution_count": 22,
   "id": "d9b133c3",
   "metadata": {
    "execution": {
     "iopub.execute_input": "2021-11-09T10:08:02.657867Z",
     "iopub.status.busy": "2021-11-09T10:08:02.657354Z",
     "iopub.status.idle": "2021-11-09T10:09:21.172901Z",
     "shell.execute_reply": "2021-11-09T10:09:21.173671Z"
    },
    "papermill": {
     "duration": 78.5509,
     "end_time": "2021-11-09T10:09:21.173818",
     "exception": false,
     "start_time": "2021-11-09T10:08:02.622918",
     "status": "completed"
    },
    "tags": []
   },
   "outputs": [
    {
     "name": "stdout",
     "output_type": "stream",
     "text": [
      "Epoch 0, Loss 0.2475\n",
      "Training Accuracy: 0.5905, Testing Accuracy: 0.5948\n",
      "\n"
     ]
    },
    {
     "name": "stdout",
     "output_type": "stream",
     "text": [
      "Epoch 10, Loss 0.1952\n",
      "Training Accuracy: 0.8496, Testing Accuracy: 0.8528\n",
      "\n"
     ]
    },
    {
     "name": "stdout",
     "output_type": "stream",
     "text": [
      "Epoch 20, Loss 0.1009\n",
      "Training Accuracy: 0.9010, Testing Accuracy: 0.9062\n",
      "\n"
     ]
    },
    {
     "name": "stdout",
     "output_type": "stream",
     "text": [
      "Epoch 30, Loss 0.0638\n",
      "Training Accuracy: 0.9324, Testing Accuracy: 0.9370\n",
      "\n"
     ]
    },
    {
     "name": "stdout",
     "output_type": "stream",
     "text": [
      "Epoch 40, Loss 0.0494\n",
      "Training Accuracy: 0.9444, Testing Accuracy: 0.9577\n",
      "\n"
     ]
    },
    {
     "name": "stdout",
     "output_type": "stream",
     "text": [
      "Epoch 50, Loss 0.0421\n",
      "Training Accuracy: 0.9512, Testing Accuracy: 0.9642\n",
      "\n"
     ]
    },
    {
     "name": "stdout",
     "output_type": "stream",
     "text": [
      "Epoch 60, Loss 0.0377\n",
      "Training Accuracy: 0.9554, Testing Accuracy: 0.9637\n",
      "\n"
     ]
    },
    {
     "name": "stdout",
     "output_type": "stream",
     "text": [
      "Epoch 70, Loss 0.0347\n",
      "Training Accuracy: 0.9585, Testing Accuracy: 0.9662\n",
      "\n"
     ]
    },
    {
     "name": "stdout",
     "output_type": "stream",
     "text": [
      "Epoch 80, Loss 0.0326\n",
      "Training Accuracy: 0.9614, Testing Accuracy: 0.9672\n",
      "\n"
     ]
    },
    {
     "name": "stdout",
     "output_type": "stream",
     "text": [
      "Epoch 90, Loss 0.0309\n",
      "Training Accuracy: 0.9629, Testing Accuracy: 0.9677\n",
      "\n"
     ]
    },
    {
     "name": "stdout",
     "output_type": "stream",
     "text": [
      "Epoch 100, Loss 0.0295\n",
      "Training Accuracy: 0.9654, Testing Accuracy: 0.9672\n",
      "\n"
     ]
    },
    {
     "name": "stdout",
     "output_type": "stream",
     "text": [
      "Epoch 110, Loss 0.0284\n",
      "Training Accuracy: 0.9663, Testing Accuracy: 0.9682\n",
      "\n"
     ]
    },
    {
     "name": "stdout",
     "output_type": "stream",
     "text": [
      "Epoch 120, Loss 0.0274\n",
      "Training Accuracy: 0.9677, Testing Accuracy: 0.9693\n",
      "\n"
     ]
    },
    {
     "name": "stdout",
     "output_type": "stream",
     "text": [
      "Epoch 130, Loss 0.0266\n",
      "Training Accuracy: 0.9698, Testing Accuracy: 0.9688\n",
      "\n"
     ]
    },
    {
     "name": "stdout",
     "output_type": "stream",
     "text": [
      "Epoch 140, Loss 0.0259\n",
      "Training Accuracy: 0.9700, Testing Accuracy: 0.9688\n",
      "\n"
     ]
    },
    {
     "name": "stdout",
     "output_type": "stream",
     "text": [
      "Epoch 150, Loss 0.0252\n",
      "Training Accuracy: 0.9710, Testing Accuracy: 0.9693\n",
      "\n"
     ]
    },
    {
     "name": "stdout",
     "output_type": "stream",
     "text": [
      "Epoch 160, Loss 0.0246\n",
      "Training Accuracy: 0.9715, Testing Accuracy: 0.9688\n",
      "\n"
     ]
    },
    {
     "name": "stdout",
     "output_type": "stream",
     "text": [
      "Epoch 170, Loss 0.0241\n",
      "Training Accuracy: 0.9728, Testing Accuracy: 0.9688\n",
      "\n"
     ]
    },
    {
     "name": "stdout",
     "output_type": "stream",
     "text": [
      "Epoch 180, Loss 0.0235\n",
      "Training Accuracy: 0.9732, Testing Accuracy: 0.9693\n",
      "\n"
     ]
    },
    {
     "name": "stdout",
     "output_type": "stream",
     "text": [
      "Epoch 190, Loss 0.0231\n",
      "Training Accuracy: 0.9742, Testing Accuracy: 0.9698\n",
      "\n"
     ]
    },
    {
     "name": "stdout",
     "output_type": "stream",
     "text": [
      "Epoch 200, Loss 0.0226\n",
      "Training Accuracy: 0.9747, Testing Accuracy: 0.9693\n",
      "\n"
     ]
    },
    {
     "name": "stdout",
     "output_type": "stream",
     "text": [
      "Epoch 210, Loss 0.0222\n",
      "Training Accuracy: 0.9750, Testing Accuracy: 0.9688\n",
      "\n"
     ]
    },
    {
     "name": "stdout",
     "output_type": "stream",
     "text": [
      "Epoch 220, Loss 0.0218\n",
      "Training Accuracy: 0.9755, Testing Accuracy: 0.9682\n",
      "\n"
     ]
    },
    {
     "name": "stdout",
     "output_type": "stream",
     "text": [
      "Epoch 230, Loss 0.0214\n",
      "Training Accuracy: 0.9761, Testing Accuracy: 0.9688\n",
      "\n"
     ]
    },
    {
     "name": "stdout",
     "output_type": "stream",
     "text": [
      "Epoch 240, Loss 0.021\n",
      "Training Accuracy: 0.9770, Testing Accuracy: 0.9703\n",
      "\n"
     ]
    },
    {
     "data": {
      "text/plain": [
       "0.006777707916040443"
      ]
     },
     "execution_count": 22,
     "metadata": {},
     "output_type": "execute_result"
    }
   ],
   "source": [
    "nn_learner.train_loop(dl)"
   ]
  },
  {
   "cell_type": "code",
   "execution_count": 23,
   "id": "e0163366",
   "metadata": {
    "execution": {
     "iopub.execute_input": "2021-11-09T10:09:21.255865Z",
     "iopub.status.busy": "2021-11-09T10:09:21.251171Z",
     "iopub.status.idle": "2021-11-09T10:09:35.948317Z",
     "shell.execute_reply": "2021-11-09T10:09:35.949062Z"
    },
    "papermill": {
     "duration": 14.740313,
     "end_time": "2021-11-09T10:09:35.949209",
     "exception": false,
     "start_time": "2021-11-09T10:09:21.208896",
     "status": "completed"
    },
    "tags": []
   },
   "outputs": [
    {
     "name": "stdout",
     "output_type": "stream",
     "text": [
      "Epoch 0, Loss 0.2655\n",
      "Training Accuracy: 0.5835, Testing Accuracy: 0.6089\n",
      "\n"
     ]
    },
    {
     "name": "stdout",
     "output_type": "stream",
     "text": [
      "Epoch 10, Loss 0.1042\n",
      "Training Accuracy: 0.9104, Testing Accuracy: 0.9234\n",
      "\n"
     ]
    },
    {
     "name": "stdout",
     "output_type": "stream",
     "text": [
      "Epoch 20, Loss 0.0792\n",
      "Training Accuracy: 0.9277, Testing Accuracy: 0.9375\n",
      "\n"
     ]
    },
    {
     "name": "stdout",
     "output_type": "stream",
     "text": [
      "Epoch 30, Loss 0.0679\n",
      "Training Accuracy: 0.9357, Testing Accuracy: 0.9461\n",
      "\n"
     ]
    },
    {
     "name": "stdout",
     "output_type": "stream",
     "text": [
      "Epoch 40, Loss 0.0613\n",
      "Training Accuracy: 0.9422, Testing Accuracy: 0.9516\n",
      "\n"
     ]
    },
    {
     "name": "stdout",
     "output_type": "stream",
     "text": [
      "Epoch 50, Loss 0.0568\n",
      "Training Accuracy: 0.9457, Testing Accuracy: 0.9551\n",
      "\n"
     ]
    },
    {
     "name": "stdout",
     "output_type": "stream",
     "text": [
      "Epoch 60, Loss 0.0535\n",
      "Training Accuracy: 0.9475, Testing Accuracy: 0.9561\n",
      "\n"
     ]
    },
    {
     "name": "stdout",
     "output_type": "stream",
     "text": [
      "Epoch 70, Loss 0.051\n",
      "Training Accuracy: 0.9492, Testing Accuracy: 0.9582\n",
      "\n"
     ]
    },
    {
     "name": "stdout",
     "output_type": "stream",
     "text": [
      "Epoch 80, Loss 0.049\n",
      "Training Accuracy: 0.9508, Testing Accuracy: 0.9597\n",
      "\n"
     ]
    },
    {
     "name": "stdout",
     "output_type": "stream",
     "text": [
      "Epoch 90, Loss 0.0473\n",
      "Training Accuracy: 0.9519, Testing Accuracy: 0.9607\n",
      "\n"
     ]
    },
    {
     "name": "stdout",
     "output_type": "stream",
     "text": [
      "Epoch 100, Loss 0.046\n",
      "Training Accuracy: 0.9528, Testing Accuracy: 0.9602\n",
      "\n"
     ]
    },
    {
     "name": "stdout",
     "output_type": "stream",
     "text": [
      "Epoch 110, Loss 0.0448\n",
      "Training Accuracy: 0.9534, Testing Accuracy: 0.9612\n",
      "\n"
     ]
    },
    {
     "name": "stdout",
     "output_type": "stream",
     "text": [
      "Epoch 120, Loss 0.0437\n",
      "Training Accuracy: 0.9541, Testing Accuracy: 0.9617\n",
      "\n"
     ]
    },
    {
     "name": "stdout",
     "output_type": "stream",
     "text": [
      "Epoch 130, Loss 0.0428\n",
      "Training Accuracy: 0.9550, Testing Accuracy: 0.9627\n",
      "\n"
     ]
    },
    {
     "name": "stdout",
     "output_type": "stream",
     "text": [
      "Epoch 140, Loss 0.042\n",
      "Training Accuracy: 0.9562, Testing Accuracy: 0.9632\n",
      "\n"
     ]
    },
    {
     "name": "stdout",
     "output_type": "stream",
     "text": [
      "Epoch 150, Loss 0.0413\n",
      "Training Accuracy: 0.9566, Testing Accuracy: 0.9642\n",
      "\n"
     ]
    },
    {
     "name": "stdout",
     "output_type": "stream",
     "text": [
      "Epoch 160, Loss 0.0406\n",
      "Training Accuracy: 0.9569, Testing Accuracy: 0.9642\n",
      "\n"
     ]
    },
    {
     "name": "stdout",
     "output_type": "stream",
     "text": [
      "Epoch 170, Loss 0.04\n",
      "Training Accuracy: 0.9577, Testing Accuracy: 0.9657\n",
      "\n"
     ]
    },
    {
     "name": "stdout",
     "output_type": "stream",
     "text": [
      "Epoch 180, Loss 0.0395\n",
      "Training Accuracy: 0.9581, Testing Accuracy: 0.9662\n",
      "\n"
     ]
    },
    {
     "name": "stdout",
     "output_type": "stream",
     "text": [
      "Epoch 190, Loss 0.0389\n",
      "Training Accuracy: 0.9585, Testing Accuracy: 0.9662\n",
      "\n"
     ]
    },
    {
     "name": "stdout",
     "output_type": "stream",
     "text": [
      "Epoch 200, Loss 0.0385\n",
      "Training Accuracy: 0.9589, Testing Accuracy: 0.9662\n",
      "\n"
     ]
    },
    {
     "name": "stdout",
     "output_type": "stream",
     "text": [
      "Epoch 210, Loss 0.038\n",
      "Training Accuracy: 0.9589, Testing Accuracy: 0.9672\n",
      "\n"
     ]
    },
    {
     "name": "stdout",
     "output_type": "stream",
     "text": [
      "Epoch 220, Loss 0.0376\n",
      "Training Accuracy: 0.9594, Testing Accuracy: 0.9677\n",
      "\n"
     ]
    },
    {
     "name": "stdout",
     "output_type": "stream",
     "text": [
      "Epoch 230, Loss 0.0373\n",
      "Training Accuracy: 0.9597, Testing Accuracy: 0.9677\n",
      "\n"
     ]
    },
    {
     "name": "stdout",
     "output_type": "stream",
     "text": [
      "Epoch 240, Loss 0.0369\n",
      "Training Accuracy: 0.9599, Testing Accuracy: 0.9677\n",
      "\n"
     ]
    },
    {
     "data": {
      "text/plain": [
       "0.023284827470278435"
      ]
     },
     "execution_count": 23,
     "metadata": {},
     "output_type": "execute_result"
    }
   ],
   "source": [
    "lr_learner.train_loop(dl)"
   ]
  },
  {
   "cell_type": "code",
   "execution_count": 24,
   "id": "ca410940",
   "metadata": {
    "execution": {
     "iopub.execute_input": "2021-11-09T10:09:36.041422Z",
     "iopub.status.busy": "2021-11-09T10:09:36.040872Z",
     "iopub.status.idle": "2021-11-09T10:09:36.279927Z",
     "shell.execute_reply": "2021-11-09T10:09:36.281090Z"
    },
    "papermill": {
     "duration": 0.290283,
     "end_time": "2021-11-09T10:09:36.281299",
     "exception": false,
     "start_time": "2021-11-09T10:09:35.991016",
     "status": "completed"
    },
    "tags": []
   },
   "outputs": [
    {
     "data": {
      "text/plain": [
       "<matplotlib.legend.Legend at 0x7f5e7693d6d8>"
      ]
     },
     "execution_count": 24,
     "metadata": {},
     "output_type": "execute_result"
    },
    {
     "data": {
      "image/png": "[encoded data removed]",
      "text/plain": [
       "<Figure size 1080x720 with 1 Axes>"
      ]
     },
     "metadata": {
      "needs_background": "light"
     },
     "output_type": "display_data"
    }
   ],
   "source": [
    "#comparing the results of NN and LR\n",
    "plt.figure(figsize=(15,10))\n",
    "\n",
    "# Neural Network plots\n",
    "plt.plot(acc_nn.accuracies, 'r-', label = \"Training Accuracies - NN\")\n",
    "plt.plot(acc_nn.test_accuracies, 'g-', label = \"Testing Accuracies - NN\")\n",
    "\n",
    "# Logistic Regression plots\n",
    "plt.plot(acc_lr.accuracies, 'k-', label = \"Training Accuracies - LR\")\n",
    "plt.plot(acc_lr.test_accuracies, 'b-', label = \"Testing Accuracies - LR\")\n",
    "plt.legend()"
   ]
  },
  {
   "cell_type": "markdown",
   "id": "80dfb35c",
   "metadata": {
    "papermill": {
     "duration": 0.042542,
     "end_time": "2021-11-09T10:09:36.376932",
     "exception": false,
     "start_time": "2021-11-09T10:09:36.334390",
     "status": "completed"
    },
    "tags": []
   },
   "source": [
    "#### Plotting the outputs of this layer of the NN.\n"
   ]
  },
  {
   "cell_type": "code",
   "execution_count": 25,
   "id": "45eb2ff5",
   "metadata": {
    "execution": {
     "iopub.execute_input": "2021-11-09T10:09:36.470537Z",
     "iopub.status.busy": "2021-11-09T10:09:36.467368Z",
     "iopub.status.idle": "2021-11-09T10:09:36.487459Z",
     "shell.execute_reply": "2021-11-09T10:09:36.487875Z"
    },
    "papermill": {
     "duration": 0.0678,
     "end_time": "2021-11-09T10:09:36.488025",
     "exception": false,
     "start_time": "2021-11-09T10:09:36.420225",
     "status": "completed"
    },
    "tags": []
   },
   "outputs": [],
   "source": [
    "new_model = Model(layers[:-2])\n",
    "testing_plot = new_model(testing_data_x)"
   ]
  },
  {
   "cell_type": "code",
   "execution_count": 26,
   "id": "4c0a5485",
   "metadata": {
    "execution": {
     "iopub.execute_input": "2021-11-09T10:09:36.580098Z",
     "iopub.status.busy": "2021-11-09T10:09:36.577985Z",
     "iopub.status.idle": "2021-11-09T10:09:36.770506Z",
     "shell.execute_reply": "2021-11-09T10:09:36.770066Z"
    },
    "papermill": {
     "duration": 0.239924,
     "end_time": "2021-11-09T10:09:36.770630",
     "exception": false,
     "start_time": "2021-11-09T10:09:36.530706",
     "status": "completed"
    },
    "tags": []
   },
   "outputs": [
    {
     "data": {
      "text/plain": [
       "Text(0.5, 1.0, 'Outputs')"
      ]
     },
     "execution_count": 26,
     "metadata": {},
     "output_type": "execute_result"
    },
    {
     "data": {
      "image/png": "[encoded data removed]",
      "text/plain": [
       "<Figure size 576x504 with 1 Axes>"
      ]
     },
     "metadata": {
      "needs_background": "light"
     },
     "output_type": "display_data"
    }
   ],
   "source": [
    "# Plotting the scatter plot of points and color coding by class\n",
    "plt.figure(figsize=(8,7))\n",
    "plt.scatter(testing_plot[:,0], testing_plot[:,1], alpha = 0.1, c = y_test.ravel());\n",
    "plt.title('Outputs')"
   ]
  },
  {
   "cell_type": "markdown",
   "id": "a74fcf8f",
   "metadata": {
    "papermill": {
     "duration": 0.044181,
     "end_time": "2021-11-09T10:09:36.858849",
     "exception": false,
     "start_time": "2021-11-09T10:09:36.814668",
     "status": "completed"
    },
    "tags": []
   },
   "source": [
    "Probability contours"
   ]
  },
  {
   "cell_type": "code",
   "execution_count": 27,
   "id": "d0afc8e3",
   "metadata": {
    "execution": {
     "iopub.execute_input": "2021-11-09T10:09:36.961021Z",
     "iopub.status.busy": "2021-11-09T10:09:36.956366Z",
     "iopub.status.idle": "2021-11-09T10:09:36.966918Z",
     "shell.execute_reply": "2021-11-09T10:09:36.966166Z"
    },
    "papermill": {
     "duration": 0.064012,
     "end_time": "2021-11-09T10:09:36.967045",
     "exception": false,
     "start_time": "2021-11-09T10:09:36.903033",
     "status": "completed"
    },
    "tags": []
   },
   "outputs": [],
   "source": [
    "model_prob = Model(layers[-2:]) "
   ]
  },
  {
   "cell_type": "code",
   "execution_count": 28,
   "id": "9b96e238",
   "metadata": {
    "execution": {
     "iopub.execute_input": "2021-11-09T10:09:37.064009Z",
     "iopub.status.busy": "2021-11-09T10:09:37.062127Z",
     "iopub.status.idle": "2021-11-09T10:09:37.076813Z",
     "shell.execute_reply": "2021-11-09T10:09:37.076345Z"
    },
    "papermill": {
     "duration": 0.065386,
     "end_time": "2021-11-09T10:09:37.076934",
     "exception": false,
     "start_time": "2021-11-09T10:09:37.011548",
     "status": "completed"
    },
    "tags": []
   },
   "outputs": [],
   "source": [
    "#creating the x and y ranges according to the above generated plot.\n",
    "x_range = np.linspace(-4, 1, 100) \n",
    "y_range = np.linspace(-6, 6, 100) \n",
    "x_grid, y_grid = np.meshgrid(x_range, y_range) # x_grid and y_grig are of size 100 X 100\n",
    "\n",
    "# converting x_grid and y_grid to continuous arrays\n",
    "x_gridflat = np.ravel(x_grid)\n",
    "y_gridflat = np.ravel(y_grid)\n",
    "\n",
    "# The last layer of the current model takes two columns as input. Hence transpose of np.vstack() is required.\n",
    "X = np.vstack((x_gridflat, y_gridflat)).T\n",
    "\n",
    "prob_contour = model_prob(X).reshape(100,100) "
   ]
  },
  {
   "cell_type": "code",
   "execution_count": 29,
   "id": "da72499a",
   "metadata": {
    "execution": {
     "iopub.execute_input": "2021-11-09T10:09:37.205906Z",
     "iopub.status.busy": "2021-11-09T10:09:37.203821Z",
     "iopub.status.idle": "2021-11-09T10:09:37.446607Z",
     "shell.execute_reply": "2021-11-09T10:09:37.447020Z"
    },
    "papermill": {
     "duration": 0.325283,
     "end_time": "2021-11-09T10:09:37.447156",
     "exception": false,
     "start_time": "2021-11-09T10:09:37.121873",
     "status": "completed"
    },
    "tags": []
   },
   "outputs": [
    {
     "data": {
      "image/png": "[encoded data removed]",
      "text/plain": [
       "<Figure size 720x648 with 1 Axes>"
      ]
     },
     "metadata": {
      "needs_background": "light"
     },
     "output_type": "display_data"
    }
   ],
   "source": [
    "plt.figure(figsize=(10,9))\n",
    "plt.scatter(testing_plot[:,0], testing_plot[:,1], alpha = 0.1, c = y_test.ravel())\n",
    "contours = plt.contour(x_grid,y_grid,prob_contour)\n",
    "plt.title('Probability Contours')\n",
    "plt.clabel(contours, inline = True );"
   ]
  },
  {
   "cell_type": "code",
   "execution_count": null,
   "id": "e81b4ac7",
   "metadata": {
    "papermill": {
     "duration": 0.046192,
     "end_time": "2021-11-09T10:09:37.539972",
     "exception": false,
     "start_time": "2021-11-09T10:09:37.493780",
     "status": "completed"
    },
    "tags": []
   },
   "outputs": [],
   "source": []
  }
 ],
 "metadata": {
  "kernelspec": {
   "display_name": "Python 3",
   "language": "python",
   "name": "python3"
  },
  "language_info": {
   "codemirror_mode": {
    "name": "ipython",
    "version": 3
   },
   "file_extension": ".py",
   "mimetype": "text/x-python",
   "name": "python",
   "nbconvert_exporter": "python",
   "pygments_lexer": "ipython3",
   "version": "3.6.15"
  },
  "papermill": {
   "default_parameters": {},
   "duration": 101.921512,
   "end_time": "2021-11-09T10:09:37.994365",
   "environment_variables": {},
   "exception": null,
   "input_path": "2020-08-11-part2.ipynb",
   "output_path": "2020-08-11-part2.ipynb",
   "parameters": {},
   "start_time": "2021-11-09T10:07:56.072853",
   "version": "2.3.3"
  }
 },
 "nbformat": 4,
 "nbformat_minor": 5
}