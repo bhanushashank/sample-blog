{
 "cells": [
  {
   "cell_type": "markdown",
   "id": "98380cd3",
   "metadata": {
    "papermill": {
     "duration": 0.02767,
     "end_time": "2021-11-28T20:07:08.403316",
     "exception": false,
     "start_time": "2021-11-28T20:07:08.375646",
     "status": "completed"
    },
    "tags": []
   },
   "source": [
    "# Distinguish Your Own Digits (DYOD)"
   ]
  },
  {
   "cell_type": "markdown",
   "id": "ef31240d",
   "metadata": {
    "papermill": {
     "duration": 0.021317,
     "end_time": "2021-11-28T20:07:08.446811",
     "exception": false,
     "start_time": "2021-11-28T20:07:08.425494",
     "status": "completed"
    },
    "tags": []
   },
   "source": [
    "You are going to write a classifier that distinguishes between the number 3 and number 8."
   ]
  },
  {
   "cell_type": "code",
   "execution_count": 1,
   "id": "b15c8646",
   "metadata": {
    "execution": {
     "iopub.execute_input": "2021-11-28T20:07:08.502196Z",
     "iopub.status.busy": "2021-11-28T20:07:08.501709Z",
     "iopub.status.idle": "2021-11-28T20:07:08.511902Z",
     "shell.execute_reply": "2021-11-28T20:07:08.512347Z"
    },
    "papermill": {
     "duration": 0.044468,
     "end_time": "2021-11-28T20:07:08.512500",
     "exception": false,
     "start_time": "2021-11-28T20:07:08.468032",
     "status": "completed"
    },
    "tags": []
   },
   "outputs": [],
   "source": [
    "%load_ext autoreload\n",
    "%autoreload 2"
   ]
  },
  {
   "cell_type": "code",
   "execution_count": 2,
   "id": "22ef38dc",
   "metadata": {
    "execution": {
     "iopub.execute_input": "2021-11-28T20:07:08.568791Z",
     "iopub.status.busy": "2021-11-28T20:07:08.568317Z",
     "iopub.status.idle": "2021-11-28T20:07:09.157460Z",
     "shell.execute_reply": "2021-11-28T20:07:09.156935Z"
    },
    "papermill": {
     "duration": 0.623685,
     "end_time": "2021-11-28T20:07:09.157600",
     "exception": false,
     "start_time": "2021-11-28T20:07:08.533915",
     "status": "completed"
    },
    "tags": []
   },
   "outputs": [],
   "source": [
    "%matplotlib inline\n",
    "import numpy as np\n",
    "import matplotlib.pyplot as plt\n",
    "import pandas as pd"
   ]
  },
  {
   "cell_type": "markdown",
   "id": "ba036198",
   "metadata": {
    "papermill": {
     "duration": 0.021538,
     "end_time": "2021-11-28T20:07:09.201016",
     "exception": false,
     "start_time": "2021-11-28T20:07:09.179478",
     "status": "completed"
    },
    "tags": []
   },
   "source": [
    "From the command line run `pip install mnist`. This is a library that will help you bring down the mnist dataset. If you run this from a notebook, you need to put  `!pip install mnist` in a cell by itself."
   ]
  },
  {
   "cell_type": "code",
   "execution_count": 3,
   "id": "bb6ad8a1",
   "metadata": {
    "execution": {
     "iopub.execute_input": "2021-11-28T20:07:09.248345Z",
     "iopub.status.busy": "2021-11-28T20:07:09.247882Z",
     "iopub.status.idle": "2021-11-28T20:07:10.910047Z",
     "shell.execute_reply": "2021-11-28T20:07:10.910537Z"
    },
    "papermill": {
     "duration": 1.688513,
     "end_time": "2021-11-28T20:07:10.910716",
     "exception": false,
     "start_time": "2021-11-28T20:07:09.222203",
     "status": "completed"
    },
    "tags": []
   },
   "outputs": [
    {
     "name": "stdout",
     "output_type": "stream",
     "text": [
      "Collecting mnist\r\n"
     ]
    },
    {
     "name": "stdout",
     "output_type": "stream",
     "text": [
      "  Downloading mnist-0.2.2-py2.py3-none-any.whl (3.5 kB)\r\n",
      "Requirement already satisfied: numpy in /opt/hostedtoolcache/Python/3.6.15/x64/lib/python3.6/site-packages (from mnist) (1.19.5)\r\n"
     ]
    },
    {
     "name": "stdout",
     "output_type": "stream",
     "text": [
      "Installing collected packages: mnist\r\n",
      "Successfully installed mnist-0.2.2\r\n"
     ]
    }
   ],
   "source": [
    "!pip install mnist"
   ]
  },
  {
   "cell_type": "markdown",
   "id": "69df9c9a",
   "metadata": {
    "papermill": {
     "duration": 0.025131,
     "end_time": "2021-11-28T20:07:10.961601",
     "exception": false,
     "start_time": "2021-11-28T20:07:10.936470",
     "status": "completed"
    },
    "tags": []
   },
   "source": [
    "## Preparing the Data"
   ]
  },
  {
   "cell_type": "code",
   "execution_count": 4,
   "id": "7f69d806",
   "metadata": {
    "execution": {
     "iopub.execute_input": "2021-11-28T20:07:11.019562Z",
     "iopub.status.busy": "2021-11-28T20:07:11.018995Z",
     "iopub.status.idle": "2021-11-28T20:07:11.031885Z",
     "shell.execute_reply": "2021-11-28T20:07:11.032321Z"
    },
    "papermill": {
     "duration": 0.045985,
     "end_time": "2021-11-28T20:07:11.032472",
     "exception": false,
     "start_time": "2021-11-28T20:07:10.986487",
     "status": "completed"
    },
    "tags": []
   },
   "outputs": [],
   "source": [
    "import mnist"
   ]
  },
  {
   "cell_type": "code",
   "execution_count": 5,
   "id": "a411e44f",
   "metadata": {
    "execution": {
     "iopub.execute_input": "2021-11-28T20:07:11.085861Z",
     "iopub.status.busy": "2021-11-28T20:07:11.085358Z",
     "iopub.status.idle": "2021-11-28T20:07:11.688855Z",
     "shell.execute_reply": "2021-11-28T20:07:11.689425Z"
    },
    "papermill": {
     "duration": 0.632047,
     "end_time": "2021-11-28T20:07:11.689651",
     "exception": false,
     "start_time": "2021-11-28T20:07:11.057604",
     "status": "completed"
    },
    "tags": []
   },
   "outputs": [],
   "source": [
    "train_images = mnist.train_images()\n",
    "train_labels = mnist.train_labels()"
   ]
  },
  {
   "cell_type": "code",
   "execution_count": 6,
   "id": "dceab3a5",
   "metadata": {
    "execution": {
     "iopub.execute_input": "2021-11-28T20:07:11.750146Z",
     "iopub.status.busy": "2021-11-28T20:07:11.749610Z",
     "iopub.status.idle": "2021-11-28T20:07:11.762890Z",
     "shell.execute_reply": "2021-11-28T20:07:11.762464Z"
    },
    "papermill": {
     "duration": 0.047374,
     "end_time": "2021-11-28T20:07:11.763023",
     "exception": false,
     "start_time": "2021-11-28T20:07:11.715649",
     "status": "completed"
    },
    "tags": []
   },
   "outputs": [
    {
     "data": {
      "text/plain": [
       "((60000, 28, 28), (60000,))"
      ]
     },
     "execution_count": 6,
     "metadata": {},
     "output_type": "execute_result"
    }
   ],
   "source": [
    "train_images.shape, train_labels.shape"
   ]
  },
  {
   "cell_type": "code",
   "execution_count": 7,
   "id": "f50dc2bb",
   "metadata": {
    "execution": {
     "iopub.execute_input": "2021-11-28T20:07:11.819058Z",
     "iopub.status.busy": "2021-11-28T20:07:11.818542Z",
     "iopub.status.idle": "2021-11-28T20:07:11.989944Z",
     "shell.execute_reply": "2021-11-28T20:07:11.990503Z"
    },
    "papermill": {
     "duration": 0.202305,
     "end_time": "2021-11-28T20:07:11.990703",
     "exception": false,
     "start_time": "2021-11-28T20:07:11.788398",
     "status": "completed"
    },
    "tags": []
   },
   "outputs": [],
   "source": [
    "test_images = mnist.test_images()\n",
    "test_labels = mnist.test_labels()"
   ]
  },
  {
   "cell_type": "code",
   "execution_count": 8,
   "id": "fc38cf1b",
   "metadata": {
    "execution": {
     "iopub.execute_input": "2021-11-28T20:07:12.056385Z",
     "iopub.status.busy": "2021-11-28T20:07:12.052082Z",
     "iopub.status.idle": "2021-11-28T20:07:12.062529Z",
     "shell.execute_reply": "2021-11-28T20:07:12.062079Z"
    },
    "papermill": {
     "duration": 0.045525,
     "end_time": "2021-11-28T20:07:12.062664",
     "exception": false,
     "start_time": "2021-11-28T20:07:12.017139",
     "status": "completed"
    },
    "tags": []
   },
   "outputs": [
    {
     "data": {
      "text/plain": [
       "((10000, 28, 28), (10000,))"
      ]
     },
     "execution_count": 8,
     "metadata": {},
     "output_type": "execute_result"
    }
   ],
   "source": [
    "test_images.shape, test_labels.shape"
   ]
  },
  {
   "cell_type": "code",
   "execution_count": 9,
   "id": "f9ed8fe0",
   "metadata": {
    "execution": {
     "iopub.execute_input": "2021-11-28T20:07:12.121548Z",
     "iopub.status.busy": "2021-11-28T20:07:12.121043Z",
     "iopub.status.idle": "2021-11-28T20:07:12.253945Z",
     "shell.execute_reply": "2021-11-28T20:07:12.254316Z"
    },
    "papermill": {
     "duration": 0.1663,
     "end_time": "2021-11-28T20:07:12.254502",
     "exception": false,
     "start_time": "2021-11-28T20:07:12.088202",
     "status": "completed"
    },
    "tags": []
   },
   "outputs": [
    {
     "name": "stdout",
     "output_type": "stream",
     "text": [
      "2\n"
     ]
    },
    {
     "data": {
      "text/plain": [
       "<matplotlib.image.AxesImage at 0x7ff09eafb4e0>"
      ]
     },
     "execution_count": 9,
     "metadata": {},
     "output_type": "execute_result"
    },
    {
     "data": {
      "image/png": "[encoded data removed]",
      "text/plain": [
       "<Figure size 432x288 with 1 Axes>"
      ]
     },
     "metadata": {
      "needs_background": "light"
     },
     "output_type": "display_data"
    }
   ],
   "source": [
    "image_index = 7776 # You may select anything up to 60,000\n",
    "print(train_labels[image_index]) \n",
    "plt.imshow(train_images[image_index], cmap='Greys')"
   ]
  },
  {
   "cell_type": "markdown",
   "id": "a8d2388d",
   "metadata": {
    "papermill": {
     "duration": 0.024475,
     "end_time": "2021-11-28T20:07:12.303173",
     "exception": false,
     "start_time": "2021-11-28T20:07:12.278698",
     "status": "completed"
    },
    "tags": []
   },
   "source": [
    "## Filter data to get 3 and 8 out"
   ]
  },
  {
   "cell_type": "code",
   "execution_count": 10,
   "id": "776f7fc7",
   "metadata": {
    "execution": {
     "iopub.execute_input": "2021-11-28T20:07:12.359152Z",
     "iopub.status.busy": "2021-11-28T20:07:12.358645Z",
     "iopub.status.idle": "2021-11-28T20:07:12.380380Z",
     "shell.execute_reply": "2021-11-28T20:07:12.379893Z"
    },
    "papermill": {
     "duration": 0.053602,
     "end_time": "2021-11-28T20:07:12.380533",
     "exception": false,
     "start_time": "2021-11-28T20:07:12.326931",
     "status": "completed"
    },
    "tags": []
   },
   "outputs": [],
   "source": [
    "train_filter = np.where((train_labels == 3 ) | (train_labels == 8))\n",
    "test_filter = np.where((test_labels == 3) | (test_labels == 8))\n",
    "X_train, y_train = train_images[train_filter], train_labels[train_filter]\n",
    "X_test, y_test = test_images[test_filter], test_labels[test_filter]"
   ]
  },
  {
   "cell_type": "markdown",
   "id": "948f0b7e",
   "metadata": {
    "papermill": {
     "duration": 0.023874,
     "end_time": "2021-11-28T20:07:12.428590",
     "exception": false,
     "start_time": "2021-11-28T20:07:12.404716",
     "status": "completed"
    },
    "tags": []
   },
   "source": [
    "We normalize the pizel values in the 0 to 1 range"
   ]
  },
  {
   "cell_type": "code",
   "execution_count": 11,
   "id": "ee4c2166",
   "metadata": {
    "execution": {
     "iopub.execute_input": "2021-11-28T20:07:12.485287Z",
     "iopub.status.busy": "2021-11-28T20:07:12.484796Z",
     "iopub.status.idle": "2021-11-28T20:07:12.549624Z",
     "shell.execute_reply": "2021-11-28T20:07:12.549027Z"
    },
    "papermill": {
     "duration": 0.0975,
     "end_time": "2021-11-28T20:07:12.549804",
     "exception": false,
     "start_time": "2021-11-28T20:07:12.452304",
     "status": "completed"
    },
    "tags": []
   },
   "outputs": [],
   "source": [
    "X_train = X_train/255.\n",
    "X_test = X_test/255."
   ]
  },
  {
   "cell_type": "markdown",
   "id": "ddcf4fab",
   "metadata": {
    "papermill": {
     "duration": 0.024488,
     "end_time": "2021-11-28T20:07:12.600279",
     "exception": false,
     "start_time": "2021-11-28T20:07:12.575791",
     "status": "completed"
    },
    "tags": []
   },
   "source": [
    "And setup the labels as 1 (when the digit is 3) and 0 (when the digit is 8)"
   ]
  },
  {
   "cell_type": "code",
   "execution_count": 12,
   "id": "7dc908f2",
   "metadata": {
    "execution": {
     "iopub.execute_input": "2021-11-28T20:07:12.662524Z",
     "iopub.status.busy": "2021-11-28T20:07:12.662014Z",
     "iopub.status.idle": "2021-11-28T20:07:12.669739Z",
     "shell.execute_reply": "2021-11-28T20:07:12.670110Z"
    },
    "papermill": {
     "duration": 0.046241,
     "end_time": "2021-11-28T20:07:12.670261",
     "exception": false,
     "start_time": "2021-11-28T20:07:12.624020",
     "status": "completed"
    },
    "tags": []
   },
   "outputs": [],
   "source": [
    "y_train = 1*(y_train==3)\n",
    "y_test = 1*(y_test==3)"
   ]
  },
  {
   "cell_type": "code",
   "execution_count": 13,
   "id": "01e4e969",
   "metadata": {
    "execution": {
     "iopub.execute_input": "2021-11-28T20:07:12.725871Z",
     "iopub.status.busy": "2021-11-28T20:07:12.722087Z",
     "iopub.status.idle": "2021-11-28T20:07:12.737081Z",
     "shell.execute_reply": "2021-11-28T20:07:12.736696Z"
    },
    "papermill": {
     "duration": 0.042627,
     "end_time": "2021-11-28T20:07:12.737184",
     "exception": false,
     "start_time": "2021-11-28T20:07:12.694557",
     "status": "completed"
    },
    "tags": []
   },
   "outputs": [
    {
     "data": {
      "text/plain": [
       "((11982, 28, 28), (1984, 28, 28))"
      ]
     },
     "execution_count": 13,
     "metadata": {},
     "output_type": "execute_result"
    }
   ],
   "source": [
    "X_train.shape, X_test.shape"
   ]
  },
  {
   "cell_type": "markdown",
   "id": "5ccf3f85",
   "metadata": {
    "papermill": {
     "duration": 0.023712,
     "end_time": "2021-11-28T20:07:12.784430",
     "exception": false,
     "start_time": "2021-11-28T20:07:12.760718",
     "status": "completed"
    },
    "tags": []
   },
   "source": [
    "We reshape the data to flatten the image pixels into a set of features or co-variates:"
   ]
  },
  {
   "cell_type": "code",
   "execution_count": 14,
   "id": "5286a4a3",
   "metadata": {
    "execution": {
     "iopub.execute_input": "2021-11-28T20:07:12.838538Z",
     "iopub.status.busy": "2021-11-28T20:07:12.838070Z",
     "iopub.status.idle": "2021-11-28T20:07:12.851503Z",
     "shell.execute_reply": "2021-11-28T20:07:12.851954Z"
    },
    "papermill": {
     "duration": 0.043871,
     "end_time": "2021-11-28T20:07:12.852094",
     "exception": false,
     "start_time": "2021-11-28T20:07:12.808223",
     "status": "completed"
    },
    "tags": []
   },
   "outputs": [
    {
     "data": {
      "text/plain": [
       "((11982, 784), (1984, 784))"
      ]
     },
     "execution_count": 14,
     "metadata": {},
     "output_type": "execute_result"
    }
   ],
   "source": [
    "X_train = X_train.reshape(X_train.shape[0], -1)\n",
    "X_test = X_test.reshape(X_test.shape[0], -1)\n",
    "X_train.shape, X_test.shape"
   ]
  },
  {
   "cell_type": "code",
   "execution_count": 15,
   "id": "73c5f88a",
   "metadata": {
    "execution": {
     "iopub.execute_input": "2021-11-28T20:07:12.908470Z",
     "iopub.status.busy": "2021-11-28T20:07:12.908001Z",
     "iopub.status.idle": "2021-11-28T20:07:12.926391Z",
     "shell.execute_reply": "2021-11-28T20:07:12.926790Z"
    },
    "papermill": {
     "duration": 0.050611,
     "end_time": "2021-11-28T20:07:12.926953",
     "exception": false,
     "start_time": "2021-11-28T20:07:12.876342",
     "status": "completed"
    },
    "tags": []
   },
   "outputs": [],
   "source": [
    "#Impoting functions from 'Kudzu'\n",
    "from kudzu.model import Model\n",
    "from kudzu.train import Learner\n",
    "from kudzu.optim import GD\n",
    "from kudzu.data import Data, Sampler,Dataloader\n",
    "\n",
    "from kudzu.callbacks import AccCallback\n",
    "from kudzu.callbacks import ClfCallback\n",
    "\n",
    "from kudzu.loss import MSE\n",
    "\n",
    "from kudzu.layer import Sigmoid,Relu\n",
    "from kudzu.layer import Affine"
   ]
  },
  {
   "cell_type": "markdown",
   "id": "bc01172a",
   "metadata": {
    "papermill": {
     "duration": 0.024364,
     "end_time": "2021-11-28T20:07:12.976246",
     "exception": false,
     "start_time": "2021-11-28T20:07:12.951882",
     "status": "completed"
    },
    "tags": []
   },
   "source": [
    "### Let us create a `Config` class, to store important parameters. \n",
    "This class essentially plays the role of a dictionary."
   ]
  },
  {
   "cell_type": "code",
   "execution_count": 16,
   "id": "978281aa",
   "metadata": {
    "execution": {
     "iopub.execute_input": "2021-11-28T20:07:13.043542Z",
     "iopub.status.busy": "2021-11-28T20:07:13.035864Z",
     "iopub.status.idle": "2021-11-28T20:07:13.045428Z",
     "shell.execute_reply": "2021-11-28T20:07:13.045778Z"
    },
    "papermill": {
     "duration": 0.045653,
     "end_time": "2021-11-28T20:07:13.045929",
     "exception": false,
     "start_time": "2021-11-28T20:07:13.000276",
     "status": "completed"
    },
    "tags": []
   },
   "outputs": [],
   "source": [
    "class Config:\n",
    "    pass\n",
    "config = Config()\n",
    "config.lr = 0.001\n",
    "config.num_epochs = 250\n",
    "config.bs = 50"
   ]
  },
  {
   "cell_type": "markdown",
   "id": "1385fa59",
   "metadata": {
    "papermill": {
     "duration": 0.024379,
     "end_time": "2021-11-28T20:07:13.094645",
     "exception": false,
     "start_time": "2021-11-28T20:07:13.070266",
     "status": "completed"
    },
    "tags": []
   },
   "source": [
    "### Running Models with the Training data\n",
    "Details about the network layers:\n",
    "- A first affine layer has 784 inputs and does 100 affine transforms. These are followed by a Relu\n",
    "- A second affine layer has 100 inputs from the 100 activations of the past layer, and does 100 affine transforms. These are followed by a Relu\n",
    "- A third affine layer has 100 activations and does 2 affine transformations to create an embedding for visualization. There is no non-linearity here.\n",
    "- A final \"logistic regression\" which has an affine transform from 2 inputs to 1 output, which is squeezed through a sigmoid.\n"
   ]
  },
  {
   "cell_type": "code",
   "execution_count": 17,
   "id": "2b9c66db",
   "metadata": {
    "execution": {
     "iopub.execute_input": "2021-11-28T20:07:13.148572Z",
     "iopub.status.busy": "2021-11-28T20:07:13.148076Z",
     "iopub.status.idle": "2021-11-28T20:07:13.162157Z",
     "shell.execute_reply": "2021-11-28T20:07:13.161760Z"
    },
    "papermill": {
     "duration": 0.043538,
     "end_time": "2021-11-28T20:07:13.162294",
     "exception": false,
     "start_time": "2021-11-28T20:07:13.118756",
     "status": "completed"
    },
    "tags": []
   },
   "outputs": [],
   "source": [
    "data = Data(X_train, y_train.reshape(-1,1))\n",
    "sampler = Sampler(data, config.bs, shuffle=True)\n",
    "\n",
    "dl = Dataloader(data, sampler)\n",
    "\n",
    "opt = GD(config.lr)\n",
    "loss = MSE()"
   ]
  },
  {
   "cell_type": "code",
   "execution_count": 18,
   "id": "b275e4c2",
   "metadata": {
    "execution": {
     "iopub.execute_input": "2021-11-28T20:07:13.215456Z",
     "iopub.status.busy": "2021-11-28T20:07:13.214964Z",
     "iopub.status.idle": "2021-11-28T20:07:13.228153Z",
     "shell.execute_reply": "2021-11-28T20:07:13.227781Z"
    },
    "papermill": {
     "duration": 0.041338,
     "end_time": "2021-11-28T20:07:13.228271",
     "exception": false,
     "start_time": "2021-11-28T20:07:13.186933",
     "status": "completed"
    },
    "tags": []
   },
   "outputs": [],
   "source": [
    "training_data_x = X_train\n",
    "testing_data_x = X_test\n",
    "training_data_y = y_train.reshape(-1,1)\n",
    "testing_data_y = y_test.reshape(-1,1)"
   ]
  },
  {
   "cell_type": "code",
   "execution_count": 19,
   "id": "76951160",
   "metadata": {
    "execution": {
     "iopub.execute_input": "2021-11-28T20:07:13.280631Z",
     "iopub.status.busy": "2021-11-28T20:07:13.280176Z",
     "iopub.status.idle": "2021-11-28T20:07:13.297401Z",
     "shell.execute_reply": "2021-11-28T20:07:13.297029Z"
    },
    "papermill": {
     "duration": 0.045469,
     "end_time": "2021-11-28T20:07:13.297509",
     "exception": false,
     "start_time": "2021-11-28T20:07:13.252040",
     "status": "completed"
    },
    "tags": []
   },
   "outputs": [
    {
     "name": "stdout",
     "output_type": "stream",
     "text": [
      "xavier\n",
      "xavier\n",
      "xavier\n",
      "xavier\n",
      "xavier\n"
     ]
    }
   ],
   "source": [
    "layers = [Affine(\"first\", 784, 100), Relu(\"first\"), Affine(\"second\", 100, 100), Relu(\"second\"), Affine(\"third\", 100, 2), Affine(\"last\", 2, 1), Sigmoid(\"last\")]\n",
    "model_nn = Model(layers)\n",
    "model_lr = Model([Affine(\"logits\", 784, 1), Sigmoid(\"sigmoid\")])"
   ]
  },
  {
   "cell_type": "code",
   "execution_count": 20,
   "id": "6eede77a",
   "metadata": {
    "execution": {
     "iopub.execute_input": "2021-11-28T20:07:13.351247Z",
     "iopub.status.busy": "2021-11-28T20:07:13.350770Z",
     "iopub.status.idle": "2021-11-28T20:07:13.363637Z",
     "shell.execute_reply": "2021-11-28T20:07:13.363261Z"
    },
    "papermill": {
     "duration": 0.041823,
     "end_time": "2021-11-28T20:07:13.363747",
     "exception": false,
     "start_time": "2021-11-28T20:07:13.321924",
     "status": "completed"
    },
    "tags": []
   },
   "outputs": [],
   "source": [
    "nn_learner = Learner(loss, model_nn, opt, config.num_epochs)\n",
    "acc_nn = ClfCallback(nn_learner, config.bs, training_data_x , testing_data_x, training_data_y, testing_data_y)\n",
    "nn_learner.set_callbacks([acc_nn])"
   ]
  },
  {
   "cell_type": "code",
   "execution_count": 21,
   "id": "877b6cc7",
   "metadata": {
    "execution": {
     "iopub.execute_input": "2021-11-28T20:07:13.416544Z",
     "iopub.status.busy": "2021-11-28T20:07:13.416084Z",
     "iopub.status.idle": "2021-11-28T20:07:13.429859Z",
     "shell.execute_reply": "2021-11-28T20:07:13.429481Z"
    },
    "papermill": {
     "duration": 0.042062,
     "end_time": "2021-11-28T20:07:13.429963",
     "exception": false,
     "start_time": "2021-11-28T20:07:13.387901",
     "status": "completed"
    },
    "tags": []
   },
   "outputs": [],
   "source": [
    "lr_learner = Learner(loss, model_lr, opt, config.num_epochs)\n",
    "acc_lr = ClfCallback(lr_learner, config.bs, training_data_x , testing_data_x, training_data_y, testing_data_y)\n",
    "lr_learner.set_callbacks([acc_lr])"
   ]
  },
  {
   "cell_type": "code",
   "execution_count": 22,
   "id": "d9b133c3",
   "metadata": {
    "execution": {
     "iopub.execute_input": "2021-11-28T20:07:13.481117Z",
     "iopub.status.busy": "2021-11-28T20:07:13.480643Z",
     "iopub.status.idle": "2021-11-28T20:08:34.357852Z",
     "shell.execute_reply": "2021-11-28T20:08:34.358666Z"
    },
    "papermill": {
     "duration": 80.904937,
     "end_time": "2021-11-28T20:08:34.358853",
     "exception": false,
     "start_time": "2021-11-28T20:07:13.453916",
     "status": "completed"
    },
    "tags": []
   },
   "outputs": [
    {
     "name": "stdout",
     "output_type": "stream",
     "text": [
      "Epoch 0, Loss 0.2298\n",
      "Training Accuracy: 0.7538, Testing Accuracy: 0.7606\n",
      "\n"
     ]
    },
    {
     "name": "stdout",
     "output_type": "stream",
     "text": [
      "Epoch 10, Loss 0.0966\n",
      "Training Accuracy: 0.9115, Testing Accuracy: 0.9178\n",
      "\n"
     ]
    },
    {
     "name": "stdout",
     "output_type": "stream",
     "text": [
      "Epoch 20, Loss 0.0604\n",
      "Training Accuracy: 0.9357, Testing Accuracy: 0.9481\n",
      "\n"
     ]
    },
    {
     "name": "stdout",
     "output_type": "stream",
     "text": [
      "Epoch 30, Loss 0.0469\n",
      "Training Accuracy: 0.9488, Testing Accuracy: 0.9587\n",
      "\n"
     ]
    },
    {
     "name": "stdout",
     "output_type": "stream",
     "text": [
      "Epoch 40, Loss 0.04\n",
      "Training Accuracy: 0.9543, Testing Accuracy: 0.9612\n",
      "\n"
     ]
    },
    {
     "name": "stdout",
     "output_type": "stream",
     "text": [
      "Epoch 50, Loss 0.0358\n",
      "Training Accuracy: 0.9581, Testing Accuracy: 0.9647\n",
      "\n"
     ]
    },
    {
     "name": "stdout",
     "output_type": "stream",
     "text": [
      "Epoch 60, Loss 0.0329\n",
      "Training Accuracy: 0.9624, Testing Accuracy: 0.9662\n",
      "\n"
     ]
    },
    {
     "name": "stdout",
     "output_type": "stream",
     "text": [
      "Epoch 70, Loss 0.0309\n",
      "Training Accuracy: 0.9642, Testing Accuracy: 0.9682\n",
      "\n"
     ]
    },
    {
     "name": "stdout",
     "output_type": "stream",
     "text": [
      "Epoch 80, Loss 0.0292\n",
      "Training Accuracy: 0.9663, Testing Accuracy: 0.9698\n",
      "\n"
     ]
    },
    {
     "name": "stdout",
     "output_type": "stream",
     "text": [
      "Epoch 90, Loss 0.0279\n",
      "Training Accuracy: 0.9680, Testing Accuracy: 0.9698\n",
      "\n"
     ]
    },
    {
     "name": "stdout",
     "output_type": "stream",
     "text": [
      "Epoch 100, Loss 0.0268\n",
      "Training Accuracy: 0.9695, Testing Accuracy: 0.9703\n",
      "\n"
     ]
    },
    {
     "name": "stdout",
     "output_type": "stream",
     "text": [
      "Epoch 110, Loss 0.0259\n",
      "Training Accuracy: 0.9705, Testing Accuracy: 0.9713\n",
      "\n"
     ]
    },
    {
     "name": "stdout",
     "output_type": "stream",
     "text": [
      "Epoch 120, Loss 0.0251\n",
      "Training Accuracy: 0.9712, Testing Accuracy: 0.9718\n",
      "\n"
     ]
    },
    {
     "name": "stdout",
     "output_type": "stream",
     "text": [
      "Epoch 130, Loss 0.0243\n",
      "Training Accuracy: 0.9722, Testing Accuracy: 0.9718\n",
      "\n"
     ]
    },
    {
     "name": "stdout",
     "output_type": "stream",
     "text": [
      "Epoch 140, Loss 0.0237\n",
      "Training Accuracy: 0.9727, Testing Accuracy: 0.9713\n",
      "\n"
     ]
    },
    {
     "name": "stdout",
     "output_type": "stream",
     "text": [
      "Epoch 150, Loss 0.0231\n",
      "Training Accuracy: 0.9733, Testing Accuracy: 0.9713\n",
      "\n"
     ]
    },
    {
     "name": "stdout",
     "output_type": "stream",
     "text": [
      "Epoch 160, Loss 0.0226\n",
      "Training Accuracy: 0.9740, Testing Accuracy: 0.9713\n",
      "\n"
     ]
    },
    {
     "name": "stdout",
     "output_type": "stream",
     "text": [
      "Epoch 170, Loss 0.0221\n",
      "Training Accuracy: 0.9745, Testing Accuracy: 0.9718\n",
      "\n"
     ]
    },
    {
     "name": "stdout",
     "output_type": "stream",
     "text": [
      "Epoch 180, Loss 0.0216\n",
      "Training Accuracy: 0.9752, Testing Accuracy: 0.9713\n",
      "\n"
     ]
    },
    {
     "name": "stdout",
     "output_type": "stream",
     "text": [
      "Epoch 190, Loss 0.0212\n",
      "Training Accuracy: 0.9753, Testing Accuracy: 0.9718\n",
      "\n"
     ]
    },
    {
     "name": "stdout",
     "output_type": "stream",
     "text": [
      "Epoch 200, Loss 0.0208\n",
      "Training Accuracy: 0.9762, Testing Accuracy: 0.9723\n",
      "\n"
     ]
    },
    {
     "name": "stdout",
     "output_type": "stream",
     "text": [
      "Epoch 210, Loss 0.0204\n",
      "Training Accuracy: 0.9770, Testing Accuracy: 0.9723\n",
      "\n"
     ]
    },
    {
     "name": "stdout",
     "output_type": "stream",
     "text": [
      "Epoch 220, Loss 0.02\n",
      "Training Accuracy: 0.9774, Testing Accuracy: 0.9723\n",
      "\n"
     ]
    },
    {
     "name": "stdout",
     "output_type": "stream",
     "text": [
      "Epoch 230, Loss 0.0196\n",
      "Training Accuracy: 0.9781, Testing Accuracy: 0.9728\n",
      "\n"
     ]
    },
    {
     "name": "stdout",
     "output_type": "stream",
     "text": [
      "Epoch 240, Loss 0.0193\n",
      "Training Accuracy: 0.9783, Testing Accuracy: 0.9728\n",
      "\n"
     ]
    },
    {
     "data": {
      "text/plain": [
       "0.0053271042518501874"
      ]
     },
     "execution_count": 22,
     "metadata": {},
     "output_type": "execute_result"
    }
   ],
   "source": [
    "nn_learner.train_loop(dl)"
   ]
  },
  {
   "cell_type": "code",
   "execution_count": 23,
   "id": "e0163366",
   "metadata": {
    "execution": {
     "iopub.execute_input": "2021-11-28T20:08:34.437257Z",
     "iopub.status.busy": "2021-11-28T20:08:34.436731Z",
     "iopub.status.idle": "2021-11-28T20:08:49.301273Z",
     "shell.execute_reply": "2021-11-28T20:08:49.302046Z"
    },
    "papermill": {
     "duration": 14.908378,
     "end_time": "2021-11-28T20:08:49.302234",
     "exception": false,
     "start_time": "2021-11-28T20:08:34.393856",
     "status": "completed"
    },
    "tags": []
   },
   "outputs": [
    {
     "name": "stdout",
     "output_type": "stream",
     "text": [
      "Epoch 0, Loss 0.1906\n",
      "Training Accuracy: 0.8286, Testing Accuracy: 0.8286\n",
      "\n"
     ]
    },
    {
     "name": "stdout",
     "output_type": "stream",
     "text": [
      "Epoch 10, Loss 0.0963\n",
      "Training Accuracy: 0.9195, Testing Accuracy: 0.9284\n",
      "\n"
     ]
    },
    {
     "name": "stdout",
     "output_type": "stream",
     "text": [
      "Epoch 20, Loss 0.0759\n",
      "Training Accuracy: 0.9331, Testing Accuracy: 0.9461\n",
      "\n"
     ]
    },
    {
     "name": "stdout",
     "output_type": "stream",
     "text": [
      "Epoch 30, Loss 0.0661\n",
      "Training Accuracy: 0.9378, Testing Accuracy: 0.9496\n",
      "\n"
     ]
    },
    {
     "name": "stdout",
     "output_type": "stream",
     "text": [
      "Epoch 40, Loss 0.0601\n",
      "Training Accuracy: 0.9418, Testing Accuracy: 0.9577\n",
      "\n"
     ]
    },
    {
     "name": "stdout",
     "output_type": "stream",
     "text": [
      "Epoch 50, Loss 0.056\n",
      "Training Accuracy: 0.9454, Testing Accuracy: 0.9597\n",
      "\n"
     ]
    },
    {
     "name": "stdout",
     "output_type": "stream",
     "text": [
      "Epoch 60, Loss 0.0529\n",
      "Training Accuracy: 0.9480, Testing Accuracy: 0.9602\n",
      "\n"
     ]
    },
    {
     "name": "stdout",
     "output_type": "stream",
     "text": [
      "Epoch 70, Loss 0.0505\n",
      "Training Accuracy: 0.9499, Testing Accuracy: 0.9622\n",
      "\n"
     ]
    },
    {
     "name": "stdout",
     "output_type": "stream",
     "text": [
      "Epoch 80, Loss 0.0486\n",
      "Training Accuracy: 0.9516, Testing Accuracy: 0.9632\n",
      "\n"
     ]
    },
    {
     "name": "stdout",
     "output_type": "stream",
     "text": [
      "Epoch 90, Loss 0.047\n",
      "Training Accuracy: 0.9523, Testing Accuracy: 0.9637\n",
      "\n"
     ]
    },
    {
     "name": "stdout",
     "output_type": "stream",
     "text": [
      "Epoch 100, Loss 0.0457\n",
      "Training Accuracy: 0.9532, Testing Accuracy: 0.9647\n",
      "\n"
     ]
    },
    {
     "name": "stdout",
     "output_type": "stream",
     "text": [
      "Epoch 110, Loss 0.0445\n",
      "Training Accuracy: 0.9540, Testing Accuracy: 0.9652\n",
      "\n"
     ]
    },
    {
     "name": "stdout",
     "output_type": "stream",
     "text": [
      "Epoch 120, Loss 0.0435\n",
      "Training Accuracy: 0.9548, Testing Accuracy: 0.9647\n",
      "\n"
     ]
    },
    {
     "name": "stdout",
     "output_type": "stream",
     "text": [
      "Epoch 130, Loss 0.0426\n",
      "Training Accuracy: 0.9555, Testing Accuracy: 0.9652\n",
      "\n"
     ]
    },
    {
     "name": "stdout",
     "output_type": "stream",
     "text": [
      "Epoch 140, Loss 0.0418\n",
      "Training Accuracy: 0.9561, Testing Accuracy: 0.9657\n",
      "\n"
     ]
    },
    {
     "name": "stdout",
     "output_type": "stream",
     "text": [
      "Epoch 150, Loss 0.0411\n",
      "Training Accuracy: 0.9568, Testing Accuracy: 0.9657\n",
      "\n"
     ]
    },
    {
     "name": "stdout",
     "output_type": "stream",
     "text": [
      "Epoch 160, Loss 0.0405\n",
      "Training Accuracy: 0.9578, Testing Accuracy: 0.9657\n",
      "\n"
     ]
    },
    {
     "name": "stdout",
     "output_type": "stream",
     "text": [
      "Epoch 170, Loss 0.0399\n",
      "Training Accuracy: 0.9583, Testing Accuracy: 0.9662\n",
      "\n"
     ]
    },
    {
     "name": "stdout",
     "output_type": "stream",
     "text": [
      "Epoch 180, Loss 0.0393\n",
      "Training Accuracy: 0.9587, Testing Accuracy: 0.9662\n",
      "\n"
     ]
    },
    {
     "name": "stdout",
     "output_type": "stream",
     "text": [
      "Epoch 190, Loss 0.0388\n",
      "Training Accuracy: 0.9589, Testing Accuracy: 0.9662\n",
      "\n"
     ]
    },
    {
     "name": "stdout",
     "output_type": "stream",
     "text": [
      "Epoch 200, Loss 0.0384\n",
      "Training Accuracy: 0.9595, Testing Accuracy: 0.9667\n",
      "\n"
     ]
    },
    {
     "name": "stdout",
     "output_type": "stream",
     "text": [
      "Epoch 210, Loss 0.038\n",
      "Training Accuracy: 0.9600, Testing Accuracy: 0.9667\n",
      "\n"
     ]
    },
    {
     "name": "stdout",
     "output_type": "stream",
     "text": [
      "Epoch 220, Loss 0.0376\n",
      "Training Accuracy: 0.9604, Testing Accuracy: 0.9667\n",
      "\n"
     ]
    },
    {
     "name": "stdout",
     "output_type": "stream",
     "text": [
      "Epoch 230, Loss 0.0372\n",
      "Training Accuracy: 0.9606, Testing Accuracy: 0.9667\n",
      "\n"
     ]
    },
    {
     "name": "stdout",
     "output_type": "stream",
     "text": [
      "Epoch 240, Loss 0.0368\n",
      "Training Accuracy: 0.9608, Testing Accuracy: 0.9672\n",
      "\n"
     ]
    },
    {
     "data": {
      "text/plain": [
       "0.022964948264983444"
      ]
     },
     "execution_count": 23,
     "metadata": {},
     "output_type": "execute_result"
    }
   ],
   "source": [
    "lr_learner.train_loop(dl)"
   ]
  },
  {
   "cell_type": "code",
   "execution_count": 24,
   "id": "ca410940",
   "metadata": {
    "execution": {
     "iopub.execute_input": "2021-11-28T20:08:49.395828Z",
     "iopub.status.busy": "2021-11-28T20:08:49.395257Z",
     "iopub.status.idle": "2021-11-28T20:08:49.621892Z",
     "shell.execute_reply": "2021-11-28T20:08:49.622318Z"
    },
    "papermill": {
     "duration": 0.277055,
     "end_time": "2021-11-28T20:08:49.622494",
     "exception": false,
     "start_time": "2021-11-28T20:08:49.345439",
     "status": "completed"
    },
    "tags": []
   },
   "outputs": [
    {
     "data": {
      "text/plain": [
       "<matplotlib.legend.Legend at 0x7ff09e6d4be0>"
      ]
     },
     "execution_count": 24,
     "metadata": {},
     "output_type": "execute_result"
    },
    {
     "data": {
      "image/png": "[encoded data removed]",
      "text/plain": [
       "<Figure size 1080x720 with 1 Axes>"
      ]
     },
     "metadata": {
      "needs_background": "light"
     },
     "output_type": "display_data"
    }
   ],
   "source": [
    "#comparing the results of NN and LR\n",
    "plt.figure(figsize=(15,10))\n",
    "\n",
    "# Neural Network plots\n",
    "plt.plot(acc_nn.accuracies, 'r-', label = \"Training Accuracies - NN\")\n",
    "plt.plot(acc_nn.test_accuracies, 'g-', label = \"Testing Accuracies - NN\")\n",
    "\n",
    "# Logistic Regression plots\n",
    "plt.plot(acc_lr.accuracies, 'k-', label = \"Training Accuracies - LR\")\n",
    "plt.plot(acc_lr.test_accuracies, 'b-', label = \"Testing Accuracies - LR\")\n",
    "plt.legend()"
   ]
  },
  {
   "cell_type": "markdown",
   "id": "80dfb35c",
   "metadata": {
    "papermill": {
     "duration": 0.042319,
     "end_time": "2021-11-28T20:08:49.707769",
     "exception": false,
     "start_time": "2021-11-28T20:08:49.665450",
     "status": "completed"
    },
    "tags": []
   },
   "source": [
    "#### Plotting the outputs of this layer of the NN.\n"
   ]
  },
  {
   "cell_type": "code",
   "execution_count": 25,
   "id": "45eb2ff5",
   "metadata": {
    "execution": {
     "iopub.execute_input": "2021-11-28T20:08:49.801556Z",
     "iopub.status.busy": "2021-11-28T20:08:49.800999Z",
     "iopub.status.idle": "2021-11-28T20:08:49.820457Z",
     "shell.execute_reply": "2021-11-28T20:08:49.819982Z"
    },
    "papermill": {
     "duration": 0.070558,
     "end_time": "2021-11-28T20:08:49.820593",
     "exception": false,
     "start_time": "2021-11-28T20:08:49.750035",
     "status": "completed"
    },
    "tags": []
   },
   "outputs": [],
   "source": [
    "new_model = Model(layers[:-2])\n",
    "testing_plot = new_model(testing_data_x)"
   ]
  },
  {
   "cell_type": "code",
   "execution_count": 26,
   "id": "4c0a5485",
   "metadata": {
    "execution": {
     "iopub.execute_input": "2021-11-28T20:08:49.911944Z",
     "iopub.status.busy": "2021-11-28T20:08:49.911421Z",
     "iopub.status.idle": "2021-11-28T20:08:50.092788Z",
     "shell.execute_reply": "2021-11-28T20:08:50.091784Z"
    },
    "papermill": {
     "duration": 0.228526,
     "end_time": "2021-11-28T20:08:50.092928",
     "exception": false,
     "start_time": "2021-11-28T20:08:49.864402",
     "status": "completed"
    },
    "tags": []
   },
   "outputs": [
    {
     "data": {
      "text/plain": [
       "Text(0.5, 1.0, 'Outputs')"
      ]
     },
     "execution_count": 26,
     "metadata": {},
     "output_type": "execute_result"
    },
    {
     "data": {
      "image/png": "[encoded data removed]",
      "text/plain": [
       "<Figure size 576x504 with 1 Axes>"
      ]
     },
     "metadata": {
      "needs_background": "light"
     },
     "output_type": "display_data"
    }
   ],
   "source": [
    "# Plotting the scatter plot of points and color coding by class\n",
    "plt.figure(figsize=(8,7))\n",
    "plt.scatter(testing_plot[:,0], testing_plot[:,1], alpha = 0.1, c = y_test.ravel());\n",
    "plt.title('Outputs')"
   ]
  },
  {
   "cell_type": "markdown",
   "id": "a74fcf8f",
   "metadata": {
    "papermill": {
     "duration": 0.039245,
     "end_time": "2021-11-28T20:08:50.172234",
     "exception": false,
     "start_time": "2021-11-28T20:08:50.132989",
     "status": "completed"
    },
    "tags": []
   },
   "source": [
    "Probability contours"
   ]
  },
  {
   "cell_type": "code",
   "execution_count": 27,
   "id": "d0afc8e3",
   "metadata": {
    "execution": {
     "iopub.execute_input": "2021-11-28T20:08:50.260373Z",
     "iopub.status.busy": "2021-11-28T20:08:50.259904Z",
     "iopub.status.idle": "2021-11-28T20:08:50.270514Z",
     "shell.execute_reply": "2021-11-28T20:08:50.270129Z"
    },
    "papermill": {
     "duration": 0.058091,
     "end_time": "2021-11-28T20:08:50.270638",
     "exception": false,
     "start_time": "2021-11-28T20:08:50.212547",
     "status": "completed"
    },
    "tags": []
   },
   "outputs": [],
   "source": [
    "model_prob = Model(layers[-2:]) "
   ]
  },
  {
   "cell_type": "code",
   "execution_count": 28,
   "id": "9b96e238",
   "metadata": {
    "execution": {
     "iopub.execute_input": "2021-11-28T20:08:50.354345Z",
     "iopub.status.busy": "2021-11-28T20:08:50.353872Z",
     "iopub.status.idle": "2021-11-28T20:08:50.367403Z",
     "shell.execute_reply": "2021-11-28T20:08:50.367803Z"
    },
    "papermill": {
     "duration": 0.058392,
     "end_time": "2021-11-28T20:08:50.367951",
     "exception": false,
     "start_time": "2021-11-28T20:08:50.309559",
     "status": "completed"
    },
    "tags": []
   },
   "outputs": [],
   "source": [
    "#creating the x and y ranges according to the above generated plot.\n",
    "x_range = np.linspace(-4, 1, 100) \n",
    "y_range = np.linspace(-6, 6, 100) \n",
    "x_grid, y_grid = np.meshgrid(x_range, y_range) # x_grid and y_grig are of size 100 X 100\n",
    "\n",
    "# converting x_grid and y_grid to continuous arrays\n",
    "x_gridflat = np.ravel(x_grid)\n",
    "y_gridflat = np.ravel(y_grid)\n",
    "\n",
    "# The last layer of the current model takes two columns as input. Hence transpose of np.vstack() is required.\n",
    "X = np.vstack((x_gridflat, y_gridflat)).T\n",
    "\n",
    "prob_contour = model_prob(X).reshape(100,100) "
   ]
  },
  {
   "cell_type": "code",
   "execution_count": 29,
   "id": "da72499a",
   "metadata": {
    "execution": {
     "iopub.execute_input": "2021-11-28T20:08:50.469099Z",
     "iopub.status.busy": "2021-11-28T20:08:50.468580Z",
     "iopub.status.idle": "2021-11-28T20:08:50.713278Z",
     "shell.execute_reply": "2021-11-28T20:08:50.713796Z"
    },
    "papermill": {
     "duration": 0.299536,
     "end_time": "2021-11-28T20:08:50.713971",
     "exception": false,
     "start_time": "2021-11-28T20:08:50.414435",
     "status": "completed"
    },
    "tags": []
   },
   "outputs": [
    {
     "data": {
      "image/png": "[encoded data removed]",
      "text/plain": [
       "<Figure size 720x648 with 1 Axes>"
      ]
     },
     "metadata": {
      "needs_background": "light"
     },
     "output_type": "display_data"
    }
   ],
   "source": [
    "plt.figure(figsize=(10,9))\n",
    "plt.scatter(testing_plot[:,0], testing_plot[:,1], alpha = 0.1, c = y_test.ravel())\n",
    "contours = plt.contour(x_grid,y_grid,prob_contour)\n",
    "plt.title('Probability Contours')\n",
    "plt.clabel(contours, inline = True );"
   ]
  },
  {
   "cell_type": "code",
   "execution_count": null,
   "id": "e81b4ac7",
   "metadata": {
    "papermill": {
     "duration": 0.042126,
     "end_time": "2021-11-28T20:08:50.835887",
     "exception": false,
     "start_time": "2021-11-28T20:08:50.793761",
     "status": "completed"
    },
    "tags": []
   },
   "outputs": [],
   "source": []
  }
 ],
 "metadata": {
  "kernelspec": {
   "display_name": "Python 3",
   "language": "python",
   "name": "python3"
  },
  "language_info": {
   "codemirror_mode": {
    "name": "ipython",
    "version": 3
   },
   "file_extension": ".py",
   "mimetype": "text/x-python",
   "name": "python",
   "nbconvert_exporter": "python",
   "pygments_lexer": "ipython3",
   "version": "3.6.15"
  },
  "papermill": {
   "default_parameters": {},
   "duration": 104.116732,
   "end_time": "2021-11-28T20:08:51.386508",
   "environment_variables": {},
   "exception": null,
   "input_path": "2020-08-11-part2.ipynb",
   "output_path": "2020-08-11-part2.ipynb",
   "parameters": {},
   "start_time": "2021-11-28T20:07:07.269776",
   "version": "2.3.3"
  }
 },
 "nbformat": 4,
 "nbformat_minor": 5
}