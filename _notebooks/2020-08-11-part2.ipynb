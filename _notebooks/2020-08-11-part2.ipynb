{
 "cells": [
  {
   "cell_type": "markdown",
   "id": "98380cd3",
   "metadata": {
    "papermill": {
     "duration": 0.030215,
     "end_time": "2022-06-02T00:44:35.389446",
     "exception": false,
     "start_time": "2022-06-02T00:44:35.359231",
     "status": "completed"
    },
    "tags": []
   },
   "source": [
    "# Distinguish Your Own Digits (DYOD)"
   ]
  },
  {
   "cell_type": "markdown",
   "id": "ef31240d",
   "metadata": {
    "papermill": {
     "duration": 0.023961,
     "end_time": "2022-06-02T00:44:35.437874",
     "exception": false,
     "start_time": "2022-06-02T00:44:35.413913",
     "status": "completed"
    },
    "tags": []
   },
   "source": [
    "You are going to write a classifier that distinguishes between the number 3 and number 8."
   ]
  },
  {
   "cell_type": "code",
   "execution_count": 1,
   "id": "b15c8646",
   "metadata": {
    "execution": {
     "iopub.execute_input": "2022-06-02T00:44:35.497670Z",
     "iopub.status.busy": "2022-06-02T00:44:35.497044Z",
     "iopub.status.idle": "2022-06-02T00:44:35.507924Z",
     "shell.execute_reply": "2022-06-02T00:44:35.508351Z"
    },
    "papermill": {
     "duration": 0.04681,
     "end_time": "2022-06-02T00:44:35.508507",
     "exception": false,
     "start_time": "2022-06-02T00:44:35.461697",
     "status": "completed"
    },
    "tags": []
   },
   "outputs": [],
   "source": [
    "%load_ext autoreload\n",
    "%autoreload 2"
   ]
  },
  {
   "cell_type": "code",
   "execution_count": 2,
   "id": "22ef38dc",
   "metadata": {
    "execution": {
     "iopub.execute_input": "2022-06-02T00:44:35.577106Z",
     "iopub.status.busy": "2022-06-02T00:44:35.570804Z",
     "iopub.status.idle": "2022-06-02T00:44:36.114213Z",
     "shell.execute_reply": "2022-06-02T00:44:36.113201Z"
    },
    "papermill": {
     "duration": 0.581874,
     "end_time": "2022-06-02T00:44:36.114361",
     "exception": false,
     "start_time": "2022-06-02T00:44:35.532487",
     "status": "completed"
    },
    "tags": []
   },
   "outputs": [],
   "source": [
    "%matplotlib inline\n",
    "import numpy as np\n",
    "import matplotlib.pyplot as plt\n",
    "import pandas as pd"
   ]
  },
  {
   "cell_type": "markdown",
   "id": "ba036198",
   "metadata": {
    "papermill": {
     "duration": 0.02387,
     "end_time": "2022-06-02T00:44:36.162320",
     "exception": false,
     "start_time": "2022-06-02T00:44:36.138450",
     "status": "completed"
    },
    "tags": []
   },
   "source": [
    "From the command line run `pip install mnist`. This is a library that will help you bring down the mnist dataset. If you run this from a notebook, you need to put  `!pip install mnist` in a cell by itself."
   ]
  },
  {
   "cell_type": "code",
   "execution_count": 3,
   "id": "bb6ad8a1",
   "metadata": {
    "execution": {
     "iopub.execute_input": "2022-06-02T00:44:36.222545Z",
     "iopub.status.busy": "2022-06-02T00:44:36.216077Z",
     "iopub.status.idle": "2022-06-02T00:44:38.068940Z",
     "shell.execute_reply": "2022-06-02T00:44:38.067920Z"
    },
    "papermill": {
     "duration": 1.882929,
     "end_time": "2022-06-02T00:44:38.069094",
     "exception": false,
     "start_time": "2022-06-02T00:44:36.186165",
     "status": "completed"
    },
    "tags": []
   },
   "outputs": [
    {
     "name": "stdout",
     "output_type": "stream",
     "text": [
      "Collecting mnist\r\n"
     ]
    },
    {
     "name": "stdout",
     "output_type": "stream",
     "text": [
      "  Downloading mnist-0.2.2-py2.py3-none-any.whl (3.5 kB)\r\n",
      "Requirement already satisfied: numpy in /opt/hostedtoolcache/Python/3.6.15/x64/lib/python3.6/site-packages (from mnist) (1.19.5)\r\n"
     ]
    },
    {
     "name": "stdout",
     "output_type": "stream",
     "text": [
      "Installing collected packages: mnist\r\n",
      "Successfully installed mnist-0.2.2\r\n"
     ]
    }
   ],
   "source": [
    "!pip install mnist"
   ]
  },
  {
   "cell_type": "markdown",
   "id": "69df9c9a",
   "metadata": {
    "papermill": {
     "duration": 0.024612,
     "end_time": "2022-06-02T00:44:38.118612",
     "exception": false,
     "start_time": "2022-06-02T00:44:38.094000",
     "status": "completed"
    },
    "tags": []
   },
   "source": [
    "## Preparing the Data"
   ]
  },
  {
   "cell_type": "code",
   "execution_count": 4,
   "id": "7f69d806",
   "metadata": {
    "execution": {
     "iopub.execute_input": "2022-06-02T00:44:38.174499Z",
     "iopub.status.busy": "2022-06-02T00:44:38.171455Z",
     "iopub.status.idle": "2022-06-02T00:44:38.186487Z",
     "shell.execute_reply": "2022-06-02T00:44:38.186010Z"
    },
    "papermill": {
     "duration": 0.04352,
     "end_time": "2022-06-02T00:44:38.186604",
     "exception": false,
     "start_time": "2022-06-02T00:44:38.143084",
     "status": "completed"
    },
    "tags": []
   },
   "outputs": [],
   "source": [
    "import mnist"
   ]
  },
  {
   "cell_type": "code",
   "execution_count": 5,
   "id": "a411e44f",
   "metadata": {
    "execution": {
     "iopub.execute_input": "2022-06-02T00:44:38.242900Z",
     "iopub.status.busy": "2022-06-02T00:44:38.242320Z",
     "iopub.status.idle": "2022-06-02T00:44:38.970440Z",
     "shell.execute_reply": "2022-06-02T00:44:38.969756Z"
    },
    "papermill": {
     "duration": 0.759239,
     "end_time": "2022-06-02T00:44:38.970574",
     "exception": false,
     "start_time": "2022-06-02T00:44:38.211335",
     "status": "completed"
    },
    "tags": []
   },
   "outputs": [],
   "source": [
    "train_images = mnist.train_images()\n",
    "train_labels = mnist.train_labels()"
   ]
  },
  {
   "cell_type": "code",
   "execution_count": 6,
   "id": "dceab3a5",
   "metadata": {
    "execution": {
     "iopub.execute_input": "2022-06-02T00:44:39.024516Z",
     "iopub.status.busy": "2022-06-02T00:44:39.023934Z",
     "iopub.status.idle": "2022-06-02T00:44:39.039096Z",
     "shell.execute_reply": "2022-06-02T00:44:39.039571Z"
    },
    "papermill": {
     "duration": 0.044261,
     "end_time": "2022-06-02T00:44:39.039711",
     "exception": false,
     "start_time": "2022-06-02T00:44:38.995450",
     "status": "completed"
    },
    "tags": []
   },
   "outputs": [
    {
     "data": {
      "text/plain": [
       "((60000, 28, 28), (60000,))"
      ]
     },
     "execution_count": 6,
     "metadata": {},
     "output_type": "execute_result"
    }
   ],
   "source": [
    "train_images.shape, train_labels.shape"
   ]
  },
  {
   "cell_type": "code",
   "execution_count": 7,
   "id": "f50dc2bb",
   "metadata": {
    "execution": {
     "iopub.execute_input": "2022-06-02T00:44:39.102390Z",
     "iopub.status.busy": "2022-06-02T00:44:39.098359Z",
     "iopub.status.idle": "2022-06-02T00:44:39.465663Z",
     "shell.execute_reply": "2022-06-02T00:44:39.465044Z"
    },
    "papermill": {
     "duration": 0.40137,
     "end_time": "2022-06-02T00:44:39.465809",
     "exception": false,
     "start_time": "2022-06-02T00:44:39.064439",
     "status": "completed"
    },
    "tags": []
   },
   "outputs": [],
   "source": [
    "test_images = mnist.test_images()\n",
    "test_labels = mnist.test_labels()"
   ]
  },
  {
   "cell_type": "code",
   "execution_count": 8,
   "id": "fc38cf1b",
   "metadata": {
    "execution": {
     "iopub.execute_input": "2022-06-02T00:44:39.522149Z",
     "iopub.status.busy": "2022-06-02T00:44:39.521520Z",
     "iopub.status.idle": "2022-06-02T00:44:39.535188Z",
     "shell.execute_reply": "2022-06-02T00:44:39.534716Z"
    },
    "papermill": {
     "duration": 0.044291,
     "end_time": "2022-06-02T00:44:39.535303",
     "exception": false,
     "start_time": "2022-06-02T00:44:39.491012",
     "status": "completed"
    },
    "tags": []
   },
   "outputs": [
    {
     "data": {
      "text/plain": [
       "((10000, 28, 28), (10000,))"
      ]
     },
     "execution_count": 8,
     "metadata": {},
     "output_type": "execute_result"
    }
   ],
   "source": [
    "test_images.shape, test_labels.shape"
   ]
  },
  {
   "cell_type": "code",
   "execution_count": 9,
   "id": "f9ed8fe0",
   "metadata": {
    "execution": {
     "iopub.execute_input": "2022-06-02T00:44:39.589717Z",
     "iopub.status.busy": "2022-06-02T00:44:39.589117Z",
     "iopub.status.idle": "2022-06-02T00:44:39.727973Z",
     "shell.execute_reply": "2022-06-02T00:44:39.728814Z"
    },
    "papermill": {
     "duration": 0.168462,
     "end_time": "2022-06-02T00:44:39.728977",
     "exception": false,
     "start_time": "2022-06-02T00:44:39.560515",
     "status": "completed"
    },
    "tags": []
   },
   "outputs": [
    {
     "name": "stdout",
     "output_type": "stream",
     "text": [
      "2\n"
     ]
    },
    {
     "data": {
      "text/plain": [
       "<matplotlib.image.AxesImage at 0x7f3c0f9cce80>"
      ]
     },
     "execution_count": 9,
     "metadata": {},
     "output_type": "execute_result"
    },
    {
     "data": {
      "image/png": "[encoded data removed]",
      "text/plain": [
       "<Figure size 432x288 with 1 Axes>"
      ]
     },
     "metadata": {
      "needs_background": "light"
     },
     "output_type": "display_data"
    }
   ],
   "source": [
    "image_index = 7776 # You may select anything up to 60,000\n",
    "print(train_labels[image_index]) \n",
    "plt.imshow(train_images[image_index], cmap='Greys')"
   ]
  },
  {
   "cell_type": "markdown",
   "id": "a8d2388d",
   "metadata": {
    "papermill": {
     "duration": 0.026165,
     "end_time": "2022-06-02T00:44:39.781655",
     "exception": false,
     "start_time": "2022-06-02T00:44:39.755490",
     "status": "completed"
    },
    "tags": []
   },
   "source": [
    "## Filter data to get 3 and 8 out"
   ]
  },
  {
   "cell_type": "code",
   "execution_count": 10,
   "id": "776f7fc7",
   "metadata": {
    "execution": {
     "iopub.execute_input": "2022-06-02T00:44:39.848993Z",
     "iopub.status.busy": "2022-06-02T00:44:39.848398Z",
     "iopub.status.idle": "2022-06-02T00:44:39.860942Z",
     "shell.execute_reply": "2022-06-02T00:44:39.860456Z"
    },
    "papermill": {
     "duration": 0.053259,
     "end_time": "2022-06-02T00:44:39.861061",
     "exception": false,
     "start_time": "2022-06-02T00:44:39.807802",
     "status": "completed"
    },
    "tags": []
   },
   "outputs": [],
   "source": [
    "train_filter = np.where((train_labels == 3 ) | (train_labels == 8))\n",
    "test_filter = np.where((test_labels == 3) | (test_labels == 8))\n",
    "X_train, y_train = train_images[train_filter], train_labels[train_filter]\n",
    "X_test, y_test = test_images[test_filter], test_labels[test_filter]"
   ]
  },
  {
   "cell_type": "markdown",
   "id": "948f0b7e",
   "metadata": {
    "papermill": {
     "duration": 0.026026,
     "end_time": "2022-06-02T00:44:39.913431",
     "exception": false,
     "start_time": "2022-06-02T00:44:39.887405",
     "status": "completed"
    },
    "tags": []
   },
   "source": [
    "We normalize the pizel values in the 0 to 1 range"
   ]
  },
  {
   "cell_type": "code",
   "execution_count": 11,
   "id": "ee4c2166",
   "metadata": {
    "execution": {
     "iopub.execute_input": "2022-06-02T00:44:39.986525Z",
     "iopub.status.busy": "2022-06-02T00:44:39.981896Z",
     "iopub.status.idle": "2022-06-02T00:44:40.022875Z",
     "shell.execute_reply": "2022-06-02T00:44:40.022347Z"
    },
    "papermill": {
     "duration": 0.083661,
     "end_time": "2022-06-02T00:44:40.023005",
     "exception": false,
     "start_time": "2022-06-02T00:44:39.939344",
     "status": "completed"
    },
    "tags": []
   },
   "outputs": [],
   "source": [
    "X_train = X_train/255.\n",
    "X_test = X_test/255."
   ]
  },
  {
   "cell_type": "markdown",
   "id": "ddcf4fab",
   "metadata": {
    "papermill": {
     "duration": 0.026348,
     "end_time": "2022-06-02T00:44:40.075911",
     "exception": false,
     "start_time": "2022-06-02T00:44:40.049563",
     "status": "completed"
    },
    "tags": []
   },
   "source": [
    "And setup the labels as 1 (when the digit is 3) and 0 (when the digit is 8)"
   ]
  },
  {
   "cell_type": "code",
   "execution_count": 12,
   "id": "7dc908f2",
   "metadata": {
    "execution": {
     "iopub.execute_input": "2022-06-02T00:44:40.134071Z",
     "iopub.status.busy": "2022-06-02T00:44:40.133465Z",
     "iopub.status.idle": "2022-06-02T00:44:40.145041Z",
     "shell.execute_reply": "2022-06-02T00:44:40.144570Z"
    },
    "papermill": {
     "duration": 0.043058,
     "end_time": "2022-06-02T00:44:40.145151",
     "exception": false,
     "start_time": "2022-06-02T00:44:40.102093",
     "status": "completed"
    },
    "tags": []
   },
   "outputs": [],
   "source": [
    "y_train = 1*(y_train==3)\n",
    "y_test = 1*(y_test==3)"
   ]
  },
  {
   "cell_type": "code",
   "execution_count": 13,
   "id": "01e4e969",
   "metadata": {
    "execution": {
     "iopub.execute_input": "2022-06-02T00:44:40.201029Z",
     "iopub.status.busy": "2022-06-02T00:44:40.200466Z",
     "iopub.status.idle": "2022-06-02T00:44:40.214882Z",
     "shell.execute_reply": "2022-06-02T00:44:40.214415Z"
    },
    "papermill": {
     "duration": 0.043683,
     "end_time": "2022-06-02T00:44:40.214993",
     "exception": false,
     "start_time": "2022-06-02T00:44:40.171310",
     "status": "completed"
    },
    "tags": []
   },
   "outputs": [
    {
     "data": {
      "text/plain": [
       "((11982, 28, 28), (1984, 28, 28))"
      ]
     },
     "execution_count": 13,
     "metadata": {},
     "output_type": "execute_result"
    }
   ],
   "source": [
    "X_train.shape, X_test.shape"
   ]
  },
  {
   "cell_type": "markdown",
   "id": "5ccf3f85",
   "metadata": {
    "papermill": {
     "duration": 0.02625,
     "end_time": "2022-06-02T00:44:40.267492",
     "exception": false,
     "start_time": "2022-06-02T00:44:40.241242",
     "status": "completed"
    },
    "tags": []
   },
   "source": [
    "We reshape the data to flatten the image pixels into a set of features or co-variates:"
   ]
  },
  {
   "cell_type": "code",
   "execution_count": 14,
   "id": "5286a4a3",
   "metadata": {
    "execution": {
     "iopub.execute_input": "2022-06-02T00:44:40.324313Z",
     "iopub.status.busy": "2022-06-02T00:44:40.323739Z",
     "iopub.status.idle": "2022-06-02T00:44:40.338420Z",
     "shell.execute_reply": "2022-06-02T00:44:40.337922Z"
    },
    "papermill": {
     "duration": 0.044647,
     "end_time": "2022-06-02T00:44:40.338534",
     "exception": false,
     "start_time": "2022-06-02T00:44:40.293887",
     "status": "completed"
    },
    "tags": []
   },
   "outputs": [
    {
     "data": {
      "text/plain": [
       "((11982, 784), (1984, 784))"
      ]
     },
     "execution_count": 14,
     "metadata": {},
     "output_type": "execute_result"
    }
   ],
   "source": [
    "X_train = X_train.reshape(X_train.shape[0], -1)\n",
    "X_test = X_test.reshape(X_test.shape[0], -1)\n",
    "X_train.shape, X_test.shape"
   ]
  },
  {
   "cell_type": "code",
   "execution_count": 15,
   "id": "73c5f88a",
   "metadata": {
    "execution": {
     "iopub.execute_input": "2022-06-02T00:44:40.399241Z",
     "iopub.status.busy": "2022-06-02T00:44:40.398672Z",
     "iopub.status.idle": "2022-06-02T00:44:40.415606Z",
     "shell.execute_reply": "2022-06-02T00:44:40.416053Z"
    },
    "papermill": {
     "duration": 0.051182,
     "end_time": "2022-06-02T00:44:40.416185",
     "exception": false,
     "start_time": "2022-06-02T00:44:40.365003",
     "status": "completed"
    },
    "tags": []
   },
   "outputs": [],
   "source": [
    "#Impoting functions from 'Kudzu'\n",
    "from kudzu.model import Model\n",
    "from kudzu.train import Learner\n",
    "from kudzu.optim import GD\n",
    "from kudzu.data import Data, Sampler,Dataloader\n",
    "\n",
    "from kudzu.callbacks import AccCallback\n",
    "from kudzu.callbacks import ClfCallback\n",
    "\n",
    "from kudzu.loss import MSE\n",
    "\n",
    "from kudzu.layer import Sigmoid,Relu\n",
    "from kudzu.layer import Affine"
   ]
  },
  {
   "cell_type": "markdown",
   "id": "bc01172a",
   "metadata": {
    "papermill": {
     "duration": 0.026619,
     "end_time": "2022-06-02T00:44:40.469520",
     "exception": false,
     "start_time": "2022-06-02T00:44:40.442901",
     "status": "completed"
    },
    "tags": []
   },
   "source": [
    "### Let us create a `Config` class, to store important parameters. \n",
    "This class essentially plays the role of a dictionary."
   ]
  },
  {
   "cell_type": "code",
   "execution_count": 16,
   "id": "978281aa",
   "metadata": {
    "execution": {
     "iopub.execute_input": "2022-06-02T00:44:40.530687Z",
     "iopub.status.busy": "2022-06-02T00:44:40.530082Z",
     "iopub.status.idle": "2022-06-02T00:44:40.540562Z",
     "shell.execute_reply": "2022-06-02T00:44:40.541012Z"
    },
    "papermill": {
     "duration": 0.044366,
     "end_time": "2022-06-02T00:44:40.541148",
     "exception": false,
     "start_time": "2022-06-02T00:44:40.496782",
     "status": "completed"
    },
    "tags": []
   },
   "outputs": [],
   "source": [
    "class Config:\n",
    "    pass\n",
    "config = Config()\n",
    "config.lr = 0.001\n",
    "config.num_epochs = 250\n",
    "config.bs = 50"
   ]
  },
  {
   "cell_type": "markdown",
   "id": "1385fa59",
   "metadata": {
    "papermill": {
     "duration": 0.026761,
     "end_time": "2022-06-02T00:44:40.594817",
     "exception": false,
     "start_time": "2022-06-02T00:44:40.568056",
     "status": "completed"
    },
    "tags": []
   },
   "source": [
    "### Running Models with the Training data\n",
    "Details about the network layers:\n",
    "- A first affine layer has 784 inputs and does 100 affine transforms. These are followed by a Relu\n",
    "- A second affine layer has 100 inputs from the 100 activations of the past layer, and does 100 affine transforms. These are followed by a Relu\n",
    "- A third affine layer has 100 activations and does 2 affine transformations to create an embedding for visualization. There is no non-linearity here.\n",
    "- A final \"logistic regression\" which has an affine transform from 2 inputs to 1 output, which is squeezed through a sigmoid.\n"
   ]
  },
  {
   "cell_type": "code",
   "execution_count": 17,
   "id": "2b9c66db",
   "metadata": {
    "execution": {
     "iopub.execute_input": "2022-06-02T00:44:40.659135Z",
     "iopub.status.busy": "2022-06-02T00:44:40.658544Z",
     "iopub.status.idle": "2022-06-02T00:44:40.667317Z",
     "shell.execute_reply": "2022-06-02T00:44:40.667770Z"
    },
    "papermill": {
     "duration": 0.045998,
     "end_time": "2022-06-02T00:44:40.667910",
     "exception": false,
     "start_time": "2022-06-02T00:44:40.621912",
     "status": "completed"
    },
    "tags": []
   },
   "outputs": [],
   "source": [
    "data = Data(X_train, y_train.reshape(-1,1))\n",
    "sampler = Sampler(data, config.bs, shuffle=True)\n",
    "\n",
    "dl = Dataloader(data, sampler)\n",
    "\n",
    "opt = GD(config.lr)\n",
    "loss = MSE()"
   ]
  },
  {
   "cell_type": "code",
   "execution_count": 18,
   "id": "b275e4c2",
   "metadata": {
    "execution": {
     "iopub.execute_input": "2022-06-02T00:44:40.726336Z",
     "iopub.status.busy": "2022-06-02T00:44:40.725755Z",
     "iopub.status.idle": "2022-06-02T00:44:40.738711Z",
     "shell.execute_reply": "2022-06-02T00:44:40.739154Z"
    },
    "papermill": {
     "duration": 0.043576,
     "end_time": "2022-06-02T00:44:40.739282",
     "exception": false,
     "start_time": "2022-06-02T00:44:40.695706",
     "status": "completed"
    },
    "tags": []
   },
   "outputs": [],
   "source": [
    "training_data_x = X_train\n",
    "testing_data_x = X_test\n",
    "training_data_y = y_train.reshape(-1,1)\n",
    "testing_data_y = y_test.reshape(-1,1)"
   ]
  },
  {
   "cell_type": "code",
   "execution_count": 19,
   "id": "76951160",
   "metadata": {
    "execution": {
     "iopub.execute_input": "2022-06-02T00:44:40.796844Z",
     "iopub.status.busy": "2022-06-02T00:44:40.796268Z",
     "iopub.status.idle": "2022-06-02T00:44:40.812732Z",
     "shell.execute_reply": "2022-06-02T00:44:40.812165Z"
    },
    "papermill": {
     "duration": 0.047097,
     "end_time": "2022-06-02T00:44:40.812843",
     "exception": false,
     "start_time": "2022-06-02T00:44:40.765746",
     "status": "completed"
    },
    "tags": []
   },
   "outputs": [
    {
     "name": "stdout",
     "output_type": "stream",
     "text": [
      "xavier\n",
      "xavier\n",
      "xavier\n",
      "xavier\n",
      "xavier\n"
     ]
    }
   ],
   "source": [
    "layers = [Affine(\"first\", 784, 100), Relu(\"first\"), Affine(\"second\", 100, 100), Relu(\"second\"), Affine(\"third\", 100, 2), Affine(\"last\", 2, 1), Sigmoid(\"last\")]\n",
    "model_nn = Model(layers)\n",
    "model_lr = Model([Affine(\"logits\", 784, 1), Sigmoid(\"sigmoid\")])"
   ]
  },
  {
   "cell_type": "code",
   "execution_count": 20,
   "id": "6eede77a",
   "metadata": {
    "execution": {
     "iopub.execute_input": "2022-06-02T00:44:40.879282Z",
     "iopub.status.busy": "2022-06-02T00:44:40.873754Z",
     "iopub.status.idle": "2022-06-02T00:44:40.884768Z",
     "shell.execute_reply": "2022-06-02T00:44:40.885213Z"
    },
    "papermill": {
     "duration": 0.045554,
     "end_time": "2022-06-02T00:44:40.885342",
     "exception": false,
     "start_time": "2022-06-02T00:44:40.839788",
     "status": "completed"
    },
    "tags": []
   },
   "outputs": [],
   "source": [
    "nn_learner = Learner(loss, model_nn, opt, config.num_epochs)\n",
    "acc_nn = ClfCallback(nn_learner, config.bs, training_data_x , testing_data_x, training_data_y, testing_data_y)\n",
    "nn_learner.set_callbacks([acc_nn])"
   ]
  },
  {
   "cell_type": "code",
   "execution_count": 21,
   "id": "877b6cc7",
   "metadata": {
    "execution": {
     "iopub.execute_input": "2022-06-02T00:44:40.954766Z",
     "iopub.status.busy": "2022-06-02T00:44:40.942290Z",
     "iopub.status.idle": "2022-06-02T00:44:40.958153Z",
     "shell.execute_reply": "2022-06-02T00:44:40.958602Z"
    },
    "papermill": {
     "duration": 0.046617,
     "end_time": "2022-06-02T00:44:40.958732",
     "exception": false,
     "start_time": "2022-06-02T00:44:40.912115",
     "status": "completed"
    },
    "tags": []
   },
   "outputs": [],
   "source": [
    "lr_learner = Learner(loss, model_lr, opt, config.num_epochs)\n",
    "acc_lr = ClfCallback(lr_learner, config.bs, training_data_x , testing_data_x, training_data_y, testing_data_y)\n",
    "lr_learner.set_callbacks([acc_lr])"
   ]
  },
  {
   "cell_type": "code",
   "execution_count": 22,
   "id": "d9b133c3",
   "metadata": {
    "execution": {
     "iopub.execute_input": "2022-06-02T00:44:41.026440Z",
     "iopub.status.busy": "2022-06-02T00:44:41.019861Z",
     "iopub.status.idle": "2022-06-02T00:46:01.101243Z",
     "shell.execute_reply": "2022-06-02T00:46:01.102116Z"
    },
    "papermill": {
     "duration": 80.116399,
     "end_time": "2022-06-02T00:46:01.102273",
     "exception": false,
     "start_time": "2022-06-02T00:44:40.985874",
     "status": "completed"
    },
    "tags": []
   },
   "outputs": [
    {
     "name": "stdout",
     "output_type": "stream",
     "text": [
      "Epoch 0, Loss 0.2445\n",
      "Training Accuracy: 0.5724, Testing Accuracy: 0.5882\n",
      "\n"
     ]
    },
    {
     "name": "stdout",
     "output_type": "stream",
     "text": [
      "Epoch 10, Loss 0.1502\n",
      "Training Accuracy: 0.8908, Testing Accuracy: 0.8997\n",
      "\n"
     ]
    },
    {
     "name": "stdout",
     "output_type": "stream",
     "text": [
      "Epoch 20, Loss 0.076\n",
      "Training Accuracy: 0.9251, Testing Accuracy: 0.9345\n",
      "\n"
     ]
    },
    {
     "name": "stdout",
     "output_type": "stream",
     "text": [
      "Epoch 30, Loss 0.0527\n",
      "Training Accuracy: 0.9442, Testing Accuracy: 0.9551\n",
      "\n"
     ]
    },
    {
     "name": "stdout",
     "output_type": "stream",
     "text": [
      "Epoch 40, Loss 0.0427\n",
      "Training Accuracy: 0.9535, Testing Accuracy: 0.9637\n",
      "\n"
     ]
    },
    {
     "name": "stdout",
     "output_type": "stream",
     "text": [
      "Epoch 50, Loss 0.0374\n",
      "Training Accuracy: 0.9583, Testing Accuracy: 0.9667\n",
      "\n"
     ]
    },
    {
     "name": "stdout",
     "output_type": "stream",
     "text": [
      "Epoch 60, Loss 0.0341\n",
      "Training Accuracy: 0.9601, Testing Accuracy: 0.9688\n",
      "\n"
     ]
    },
    {
     "name": "stdout",
     "output_type": "stream",
     "text": [
      "Epoch 70, Loss 0.0318\n",
      "Training Accuracy: 0.9627, Testing Accuracy: 0.9693\n",
      "\n"
     ]
    },
    {
     "name": "stdout",
     "output_type": "stream",
     "text": [
      "Epoch 80, Loss 0.0301\n",
      "Training Accuracy: 0.9644, Testing Accuracy: 0.9693\n",
      "\n"
     ]
    },
    {
     "name": "stdout",
     "output_type": "stream",
     "text": [
      "Epoch 90, Loss 0.0287\n",
      "Training Accuracy: 0.9658, Testing Accuracy: 0.9693\n",
      "\n"
     ]
    },
    {
     "name": "stdout",
     "output_type": "stream",
     "text": [
      "Epoch 100, Loss 0.0275\n",
      "Training Accuracy: 0.9675, Testing Accuracy: 0.9703\n",
      "\n"
     ]
    },
    {
     "name": "stdout",
     "output_type": "stream",
     "text": [
      "Epoch 110, Loss 0.0265\n",
      "Training Accuracy: 0.9687, Testing Accuracy: 0.9703\n",
      "\n"
     ]
    },
    {
     "name": "stdout",
     "output_type": "stream",
     "text": [
      "Epoch 120, Loss 0.0256\n",
      "Training Accuracy: 0.9701, Testing Accuracy: 0.9713\n",
      "\n"
     ]
    },
    {
     "name": "stdout",
     "output_type": "stream",
     "text": [
      "Epoch 130, Loss 0.0248\n",
      "Training Accuracy: 0.9710, Testing Accuracy: 0.9718\n",
      "\n"
     ]
    },
    {
     "name": "stdout",
     "output_type": "stream",
     "text": [
      "Epoch 140, Loss 0.0241\n",
      "Training Accuracy: 0.9713, Testing Accuracy: 0.9708\n",
      "\n"
     ]
    },
    {
     "name": "stdout",
     "output_type": "stream",
     "text": [
      "Epoch 150, Loss 0.0235\n",
      "Training Accuracy: 0.9729, Testing Accuracy: 0.9703\n",
      "\n"
     ]
    },
    {
     "name": "stdout",
     "output_type": "stream",
     "text": [
      "Epoch 160, Loss 0.0228\n",
      "Training Accuracy: 0.9738, Testing Accuracy: 0.9693\n",
      "\n"
     ]
    },
    {
     "name": "stdout",
     "output_type": "stream",
     "text": [
      "Epoch 170, Loss 0.0223\n",
      "Training Accuracy: 0.9745, Testing Accuracy: 0.9703\n",
      "\n"
     ]
    },
    {
     "name": "stdout",
     "output_type": "stream",
     "text": [
      "Epoch 180, Loss 0.0217\n",
      "Training Accuracy: 0.9751, Testing Accuracy: 0.9703\n",
      "\n"
     ]
    },
    {
     "name": "stdout",
     "output_type": "stream",
     "text": [
      "Epoch 190, Loss 0.0212\n",
      "Training Accuracy: 0.9760, Testing Accuracy: 0.9703\n",
      "\n"
     ]
    },
    {
     "name": "stdout",
     "output_type": "stream",
     "text": [
      "Epoch 200, Loss 0.0207\n",
      "Training Accuracy: 0.9766, Testing Accuracy: 0.9708\n",
      "\n"
     ]
    },
    {
     "name": "stdout",
     "output_type": "stream",
     "text": [
      "Epoch 210, Loss 0.0203\n",
      "Training Accuracy: 0.9773, Testing Accuracy: 0.9708\n",
      "\n"
     ]
    },
    {
     "name": "stdout",
     "output_type": "stream",
     "text": [
      "Epoch 220, Loss 0.0199\n",
      "Training Accuracy: 0.9772, Testing Accuracy: 0.9708\n",
      "\n"
     ]
    },
    {
     "name": "stdout",
     "output_type": "stream",
     "text": [
      "Epoch 230, Loss 0.0194\n",
      "Training Accuracy: 0.9781, Testing Accuracy: 0.9713\n",
      "\n"
     ]
    },
    {
     "name": "stdout",
     "output_type": "stream",
     "text": [
      "Epoch 240, Loss 0.0191\n",
      "Training Accuracy: 0.9785, Testing Accuracy: 0.9718\n",
      "\n"
     ]
    },
    {
     "data": {
      "text/plain": [
       "0.00788315581298527"
      ]
     },
     "execution_count": 22,
     "metadata": {},
     "output_type": "execute_result"
    }
   ],
   "source": [
    "nn_learner.train_loop(dl)"
   ]
  },
  {
   "cell_type": "code",
   "execution_count": 23,
   "id": "e0163366",
   "metadata": {
    "execution": {
     "iopub.execute_input": "2022-06-02T00:46:01.186109Z",
     "iopub.status.busy": "2022-06-02T00:46:01.185464Z",
     "iopub.status.idle": "2022-06-02T00:46:15.428312Z",
     "shell.execute_reply": "2022-06-02T00:46:15.429179Z"
    },
    "papermill": {
     "duration": 14.291999,
     "end_time": "2022-06-02T00:46:15.429340",
     "exception": false,
     "start_time": "2022-06-02T00:46:01.137341",
     "status": "completed"
    },
    "tags": []
   },
   "outputs": [
    {
     "name": "stdout",
     "output_type": "stream",
     "text": [
      "Epoch 0, Loss 0.2221\n",
      "Training Accuracy: 0.7552, Testing Accuracy: 0.7878\n",
      "\n"
     ]
    },
    {
     "name": "stdout",
     "output_type": "stream",
     "text": [
      "Epoch 10, Loss 0.101\n",
      "Training Accuracy: 0.9120, Testing Accuracy: 0.9224\n",
      "\n"
     ]
    },
    {
     "name": "stdout",
     "output_type": "stream",
     "text": [
      "Epoch 20, Loss 0.0782\n",
      "Training Accuracy: 0.9291, Testing Accuracy: 0.9435\n",
      "\n"
     ]
    },
    {
     "name": "stdout",
     "output_type": "stream",
     "text": [
      "Epoch 30, Loss 0.0675\n",
      "Training Accuracy: 0.9365, Testing Accuracy: 0.9496\n",
      "\n"
     ]
    },
    {
     "name": "stdout",
     "output_type": "stream",
     "text": [
      "Epoch 40, Loss 0.061\n",
      "Training Accuracy: 0.9409, Testing Accuracy: 0.9531\n",
      "\n"
     ]
    },
    {
     "name": "stdout",
     "output_type": "stream",
     "text": [
      "Epoch 50, Loss 0.0565\n",
      "Training Accuracy: 0.9448, Testing Accuracy: 0.9577\n",
      "\n"
     ]
    },
    {
     "name": "stdout",
     "output_type": "stream",
     "text": [
      "Epoch 60, Loss 0.0533\n",
      "Training Accuracy: 0.9477, Testing Accuracy: 0.9582\n",
      "\n"
     ]
    },
    {
     "name": "stdout",
     "output_type": "stream",
     "text": [
      "Epoch 70, Loss 0.0508\n",
      "Training Accuracy: 0.9493, Testing Accuracy: 0.9602\n",
      "\n"
     ]
    },
    {
     "name": "stdout",
     "output_type": "stream",
     "text": [
      "Epoch 80, Loss 0.0488\n",
      "Training Accuracy: 0.9503, Testing Accuracy: 0.9602\n",
      "\n"
     ]
    },
    {
     "name": "stdout",
     "output_type": "stream",
     "text": [
      "Epoch 90, Loss 0.0471\n",
      "Training Accuracy: 0.9520, Testing Accuracy: 0.9607\n",
      "\n"
     ]
    },
    {
     "name": "stdout",
     "output_type": "stream",
     "text": [
      "Epoch 100, Loss 0.0457\n",
      "Training Accuracy: 0.9543, Testing Accuracy: 0.9607\n",
      "\n"
     ]
    },
    {
     "name": "stdout",
     "output_type": "stream",
     "text": [
      "Epoch 110, Loss 0.0445\n",
      "Training Accuracy: 0.9550, Testing Accuracy: 0.9622\n",
      "\n"
     ]
    },
    {
     "name": "stdout",
     "output_type": "stream",
     "text": [
      "Epoch 120, Loss 0.0435\n",
      "Training Accuracy: 0.9557, Testing Accuracy: 0.9627\n",
      "\n"
     ]
    },
    {
     "name": "stdout",
     "output_type": "stream",
     "text": [
      "Epoch 130, Loss 0.0426\n",
      "Training Accuracy: 0.9560, Testing Accuracy: 0.9647\n",
      "\n"
     ]
    },
    {
     "name": "stdout",
     "output_type": "stream",
     "text": [
      "Epoch 140, Loss 0.0418\n",
      "Training Accuracy: 0.9565, Testing Accuracy: 0.9642\n",
      "\n"
     ]
    },
    {
     "name": "stdout",
     "output_type": "stream",
     "text": [
      "Epoch 150, Loss 0.0411\n",
      "Training Accuracy: 0.9566, Testing Accuracy: 0.9642\n",
      "\n"
     ]
    },
    {
     "name": "stdout",
     "output_type": "stream",
     "text": [
      "Epoch 160, Loss 0.0404\n",
      "Training Accuracy: 0.9569, Testing Accuracy: 0.9647\n",
      "\n"
     ]
    },
    {
     "name": "stdout",
     "output_type": "stream",
     "text": [
      "Epoch 170, Loss 0.0398\n",
      "Training Accuracy: 0.9576, Testing Accuracy: 0.9647\n",
      "\n"
     ]
    },
    {
     "name": "stdout",
     "output_type": "stream",
     "text": [
      "Epoch 180, Loss 0.0393\n",
      "Training Accuracy: 0.9580, Testing Accuracy: 0.9652\n",
      "\n"
     ]
    },
    {
     "name": "stdout",
     "output_type": "stream",
     "text": [
      "Epoch 190, Loss 0.0387\n",
      "Training Accuracy: 0.9586, Testing Accuracy: 0.9652\n",
      "\n"
     ]
    },
    {
     "name": "stdout",
     "output_type": "stream",
     "text": [
      "Epoch 200, Loss 0.0383\n",
      "Training Accuracy: 0.9589, Testing Accuracy: 0.9662\n",
      "\n"
     ]
    },
    {
     "name": "stdout",
     "output_type": "stream",
     "text": [
      "Epoch 210, Loss 0.0378\n",
      "Training Accuracy: 0.9594, Testing Accuracy: 0.9667\n",
      "\n"
     ]
    },
    {
     "name": "stdout",
     "output_type": "stream",
     "text": [
      "Epoch 220, Loss 0.0374\n",
      "Training Accuracy: 0.9597, Testing Accuracy: 0.9667\n",
      "\n"
     ]
    },
    {
     "name": "stdout",
     "output_type": "stream",
     "text": [
      "Epoch 230, Loss 0.0371\n",
      "Training Accuracy: 0.9599, Testing Accuracy: 0.9662\n",
      "\n"
     ]
    },
    {
     "name": "stdout",
     "output_type": "stream",
     "text": [
      "Epoch 240, Loss 0.0367\n",
      "Training Accuracy: 0.9602, Testing Accuracy: 0.9662\n",
      "\n"
     ]
    },
    {
     "data": {
      "text/plain": [
       "0.05351355762299437"
      ]
     },
     "execution_count": 23,
     "metadata": {},
     "output_type": "execute_result"
    }
   ],
   "source": [
    "lr_learner.train_loop(dl)"
   ]
  },
  {
   "cell_type": "code",
   "execution_count": 24,
   "id": "ca410940",
   "metadata": {
    "execution": {
     "iopub.execute_input": "2022-06-02T00:46:15.527166Z",
     "iopub.status.busy": "2022-06-02T00:46:15.526552Z",
     "iopub.status.idle": "2022-06-02T00:46:15.755360Z",
     "shell.execute_reply": "2022-06-02T00:46:15.754864Z"
    },
    "papermill": {
     "duration": 0.284566,
     "end_time": "2022-06-02T00:46:15.755489",
     "exception": false,
     "start_time": "2022-06-02T00:46:15.470923",
     "status": "completed"
    },
    "tags": []
   },
   "outputs": [
    {
     "data": {
      "text/plain": [
       "<matplotlib.legend.Legend at 0x7f3c0f53e4a8>"
      ]
     },
     "execution_count": 24,
     "metadata": {},
     "output_type": "execute_result"
    },
    {
     "data": {
      "image/png": "[encoded data removed]",
      "text/plain": [
       "<Figure size 1080x720 with 1 Axes>"
      ]
     },
     "metadata": {
      "needs_background": "light"
     },
     "output_type": "display_data"
    }
   ],
   "source": [
    "#comparing the results of NN and LR\n",
    "plt.figure(figsize=(15,10))\n",
    "\n",
    "# Neural Network plots\n",
    "plt.plot(acc_nn.accuracies, 'r-', label = \"Training Accuracies - NN\")\n",
    "plt.plot(acc_nn.test_accuracies, 'g-', label = \"Testing Accuracies - NN\")\n",
    "\n",
    "# Logistic Regression plots\n",
    "plt.plot(acc_lr.accuracies, 'k-', label = \"Training Accuracies - LR\")\n",
    "plt.plot(acc_lr.test_accuracies, 'b-', label = \"Testing Accuracies - LR\")\n",
    "plt.legend()"
   ]
  },
  {
   "cell_type": "markdown",
   "id": "80dfb35c",
   "metadata": {
    "papermill": {
     "duration": 0.042472,
     "end_time": "2022-06-02T00:46:15.842003",
     "exception": false,
     "start_time": "2022-06-02T00:46:15.799531",
     "status": "completed"
    },
    "tags": []
   },
   "source": [
    "#### Plotting the outputs of this layer of the NN.\n"
   ]
  },
  {
   "cell_type": "code",
   "execution_count": 25,
   "id": "45eb2ff5",
   "metadata": {
    "execution": {
     "iopub.execute_input": "2022-06-02T00:46:15.937649Z",
     "iopub.status.busy": "2022-06-02T00:46:15.936553Z",
     "iopub.status.idle": "2022-06-02T00:46:15.954996Z",
     "shell.execute_reply": "2022-06-02T00:46:15.954490Z"
    },
    "papermill": {
     "duration": 0.069028,
     "end_time": "2022-06-02T00:46:15.955120",
     "exception": false,
     "start_time": "2022-06-02T00:46:15.886092",
     "status": "completed"
    },
    "tags": []
   },
   "outputs": [],
   "source": [
    "new_model = Model(layers[:-2])\n",
    "testing_plot = new_model(testing_data_x)"
   ]
  },
  {
   "cell_type": "code",
   "execution_count": 26,
   "id": "4c0a5485",
   "metadata": {
    "execution": {
     "iopub.execute_input": "2022-06-02T00:46:16.046390Z",
     "iopub.status.busy": "2022-06-02T00:46:16.045783Z",
     "iopub.status.idle": "2022-06-02T00:46:16.248472Z",
     "shell.execute_reply": "2022-06-02T00:46:16.248000Z"
    },
    "papermill": {
     "duration": 0.249726,
     "end_time": "2022-06-02T00:46:16.248600",
     "exception": false,
     "start_time": "2022-06-02T00:46:15.998874",
     "status": "completed"
    },
    "tags": []
   },
   "outputs": [
    {
     "data": {
      "text/plain": [
       "Text(0.5, 1.0, 'Outputs')"
      ]
     },
     "execution_count": 26,
     "metadata": {},
     "output_type": "execute_result"
    },
    {
     "data": {
      "image/png": "[encoded data removed]",
      "text/plain": [
       "<Figure size 576x504 with 1 Axes>"
      ]
     },
     "metadata": {
      "needs_background": "light"
     },
     "output_type": "display_data"
    }
   ],
   "source": [
    "# Plotting the scatter plot of points and color coding by class\n",
    "plt.figure(figsize=(8,7))\n",
    "plt.scatter(testing_plot[:,0], testing_plot[:,1], alpha = 0.1, c = y_test.ravel());\n",
    "plt.title('Outputs')"
   ]
  },
  {
   "cell_type": "markdown",
   "id": "a74fcf8f",
   "metadata": {
    "papermill": {
     "duration": 0.043709,
     "end_time": "2022-06-02T00:46:16.336432",
     "exception": false,
     "start_time": "2022-06-02T00:46:16.292723",
     "status": "completed"
    },
    "tags": []
   },
   "source": [
    "Probability contours"
   ]
  },
  {
   "cell_type": "code",
   "execution_count": 27,
   "id": "d0afc8e3",
   "metadata": {
    "execution": {
     "iopub.execute_input": "2022-06-02T00:46:16.430386Z",
     "iopub.status.busy": "2022-06-02T00:46:16.429733Z",
     "iopub.status.idle": "2022-06-02T00:46:16.441899Z",
     "shell.execute_reply": "2022-06-02T00:46:16.441388Z"
    },
    "papermill": {
     "duration": 0.061762,
     "end_time": "2022-06-02T00:46:16.442024",
     "exception": false,
     "start_time": "2022-06-02T00:46:16.380262",
     "status": "completed"
    },
    "tags": []
   },
   "outputs": [],
   "source": [
    "model_prob = Model(layers[-2:]) "
   ]
  },
  {
   "cell_type": "code",
   "execution_count": 28,
   "id": "9b96e238",
   "metadata": {
    "execution": {
     "iopub.execute_input": "2022-06-02T00:46:16.534661Z",
     "iopub.status.busy": "2022-06-02T00:46:16.534080Z",
     "iopub.status.idle": "2022-06-02T00:46:16.549882Z",
     "shell.execute_reply": "2022-06-02T00:46:16.550308Z"
    },
    "papermill": {
     "duration": 0.064721,
     "end_time": "2022-06-02T00:46:16.550446",
     "exception": false,
     "start_time": "2022-06-02T00:46:16.485725",
     "status": "completed"
    },
    "tags": []
   },
   "outputs": [],
   "source": [
    "#creating the x and y ranges according to the above generated plot.\n",
    "x_range = np.linspace(-4, 1, 100) \n",
    "y_range = np.linspace(-6, 6, 100) \n",
    "x_grid, y_grid = np.meshgrid(x_range, y_range) # x_grid and y_grig are of size 100 X 100\n",
    "\n",
    "# converting x_grid and y_grid to continuous arrays\n",
    "x_gridflat = np.ravel(x_grid)\n",
    "y_gridflat = np.ravel(y_grid)\n",
    "\n",
    "# The last layer of the current model takes two columns as input. Hence transpose of np.vstack() is required.\n",
    "X = np.vstack((x_gridflat, y_gridflat)).T\n",
    "\n",
    "prob_contour = model_prob(X).reshape(100,100) "
   ]
  },
  {
   "cell_type": "code",
   "execution_count": 29,
   "id": "da72499a",
   "metadata": {
    "execution": {
     "iopub.execute_input": "2022-06-02T00:46:16.683086Z",
     "iopub.status.busy": "2022-06-02T00:46:16.682406Z",
     "iopub.status.idle": "2022-06-02T00:46:16.928878Z",
     "shell.execute_reply": "2022-06-02T00:46:16.929331Z"
    },
    "papermill": {
     "duration": 0.300305,
     "end_time": "2022-06-02T00:46:16.929479",
     "exception": false,
     "start_time": "2022-06-02T00:46:16.629174",
     "status": "completed"
    },
    "tags": []
   },
   "outputs": [
    {
     "data": {
      "image/png": "[encoded data removed]",
      "text/plain": [
       "<Figure size 720x648 with 1 Axes>"
      ]
     },
     "metadata": {
      "needs_background": "light"
     },
     "output_type": "display_data"
    }
   ],
   "source": [
    "plt.figure(figsize=(10,9))\n",
    "plt.scatter(testing_plot[:,0], testing_plot[:,1], alpha = 0.1, c = y_test.ravel())\n",
    "contours = plt.contour(x_grid,y_grid,prob_contour)\n",
    "plt.title('Probability Contours')\n",
    "plt.clabel(contours, inline = True );"
   ]
  },
  {
   "cell_type": "code",
   "execution_count": null,
   "id": "e81b4ac7",
   "metadata": {
    "papermill": {
     "duration": 0.046271,
     "end_time": "2022-06-02T00:46:17.022878",
     "exception": false,
     "start_time": "2022-06-02T00:46:16.976607",
     "status": "completed"
    },
    "tags": []
   },
   "outputs": [],
   "source": []
  }
 ],
 "metadata": {
  "kernelspec": {
   "display_name": "Python 3",
   "language": "python",
   "name": "python3"
  },
  "language_info": {
   "codemirror_mode": {
    "name": "ipython",
    "version": 3
   },
   "file_extension": ".py",
   "mimetype": "text/x-python",
   "name": "python",
   "nbconvert_exporter": "python",
   "pygments_lexer": "ipython3",
   "version": "3.6.15"
  },
  "papermill": {
   "default_parameters": {},
   "duration": 103.085515,
   "end_time": "2022-06-02T00:46:17.487794",
   "environment_variables": {},
   "exception": null,
   "input_path": "2020-08-11-part2.ipynb",
   "output_path": "2020-08-11-part2.ipynb",
   "parameters": {},
   "start_time": "2022-06-02T00:44:34.402279",
   "version": "2.3.3"
  }
 },
 "nbformat": 4,
 "nbformat_minor": 5
}