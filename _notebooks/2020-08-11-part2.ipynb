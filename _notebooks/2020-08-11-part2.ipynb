{
 "cells": [
  {
   "cell_type": "markdown",
   "id": "98380cd3",
   "metadata": {
    "papermill": {
     "duration": 0.028851,
     "end_time": "2022-09-10T00:46:21.128853",
     "exception": false,
     "start_time": "2022-09-10T00:46:21.100002",
     "status": "completed"
    },
    "tags": []
   },
   "source": [
    "# Distinguish Your Own Digits (DYOD)"
   ]
  },
  {
   "cell_type": "markdown",
   "id": "ef31240d",
   "metadata": {
    "papermill": {
     "duration": 0.023938,
     "end_time": "2022-09-10T00:46:21.177356",
     "exception": false,
     "start_time": "2022-09-10T00:46:21.153418",
     "status": "completed"
    },
    "tags": []
   },
   "source": [
    "You are going to write a classifier that distinguishes between the number 3 and number 8."
   ]
  },
  {
   "cell_type": "code",
   "execution_count": 1,
   "id": "b15c8646",
   "metadata": {
    "execution": {
     "iopub.execute_input": "2022-09-10T00:46:21.235504Z",
     "iopub.status.busy": "2022-09-10T00:46:21.234933Z",
     "iopub.status.idle": "2022-09-10T00:46:21.244892Z",
     "shell.execute_reply": "2022-09-10T00:46:21.244360Z"
    },
    "papermill": {
     "duration": 0.04376,
     "end_time": "2022-09-10T00:46:21.244999",
     "exception": false,
     "start_time": "2022-09-10T00:46:21.201239",
     "status": "completed"
    },
    "tags": []
   },
   "outputs": [],
   "source": [
    "%load_ext autoreload\n",
    "%autoreload 2"
   ]
  },
  {
   "cell_type": "code",
   "execution_count": 2,
   "id": "22ef38dc",
   "metadata": {
    "execution": {
     "iopub.execute_input": "2022-09-10T00:46:21.296457Z",
     "iopub.status.busy": "2022-09-10T00:46:21.295907Z",
     "iopub.status.idle": "2022-09-10T00:46:21.794210Z",
     "shell.execute_reply": "2022-09-10T00:46:21.793718Z"
    },
    "papermill": {
     "duration": 0.525296,
     "end_time": "2022-09-10T00:46:21.794326",
     "exception": false,
     "start_time": "2022-09-10T00:46:21.269030",
     "status": "completed"
    },
    "tags": []
   },
   "outputs": [],
   "source": [
    "%matplotlib inline\n",
    "import numpy as np\n",
    "import matplotlib.pyplot as plt\n",
    "import pandas as pd"
   ]
  },
  {
   "cell_type": "markdown",
   "id": "ba036198",
   "metadata": {
    "papermill": {
     "duration": 0.023996,
     "end_time": "2022-09-10T00:46:21.842340",
     "exception": false,
     "start_time": "2022-09-10T00:46:21.818344",
     "status": "completed"
    },
    "tags": []
   },
   "source": [
    "From the command line run `pip install mnist`. This is a library that will help you bring down the mnist dataset. If you run this from a notebook, you need to put  `!pip install mnist` in a cell by itself."
   ]
  },
  {
   "cell_type": "code",
   "execution_count": 3,
   "id": "bb6ad8a1",
   "metadata": {
    "execution": {
     "iopub.execute_input": "2022-09-10T00:46:21.894064Z",
     "iopub.status.busy": "2022-09-10T00:46:21.893465Z",
     "iopub.status.idle": "2022-09-10T00:46:23.435433Z",
     "shell.execute_reply": "2022-09-10T00:46:23.434681Z"
    },
    "papermill": {
     "duration": 1.569202,
     "end_time": "2022-09-10T00:46:23.435544",
     "exception": false,
     "start_time": "2022-09-10T00:46:21.866342",
     "status": "completed"
    },
    "tags": []
   },
   "outputs": [
    {
     "name": "stdout",
     "output_type": "stream",
     "text": [
      "Collecting mnist\r\n",
      "  Downloading mnist-0.2.2-py2.py3-none-any.whl (3.5 kB)\r\n",
      "Requirement already satisfied: numpy in /opt/hostedtoolcache/Python/3.6.15/x64/lib/python3.6/site-packages (from mnist) (1.19.5)\r\n"
     ]
    },
    {
     "name": "stdout",
     "output_type": "stream",
     "text": [
      "Installing collected packages: mnist\r\n"
     ]
    },
    {
     "name": "stdout",
     "output_type": "stream",
     "text": [
      "Successfully installed mnist-0.2.2\r\n"
     ]
    }
   ],
   "source": [
    "!pip install mnist"
   ]
  },
  {
   "cell_type": "markdown",
   "id": "69df9c9a",
   "metadata": {
    "papermill": {
     "duration": 0.024789,
     "end_time": "2022-09-10T00:46:23.485656",
     "exception": false,
     "start_time": "2022-09-10T00:46:23.460867",
     "status": "completed"
    },
    "tags": []
   },
   "source": [
    "## Preparing the Data"
   ]
  },
  {
   "cell_type": "code",
   "execution_count": 4,
   "id": "7f69d806",
   "metadata": {
    "execution": {
     "iopub.execute_input": "2022-09-10T00:46:23.538453Z",
     "iopub.status.busy": "2022-09-10T00:46:23.537907Z",
     "iopub.status.idle": "2022-09-10T00:46:23.551788Z",
     "shell.execute_reply": "2022-09-10T00:46:23.551330Z"
    },
    "papermill": {
     "duration": 0.041603,
     "end_time": "2022-09-10T00:46:23.551901",
     "exception": false,
     "start_time": "2022-09-10T00:46:23.510298",
     "status": "completed"
    },
    "tags": []
   },
   "outputs": [],
   "source": [
    "import mnist"
   ]
  },
  {
   "cell_type": "code",
   "execution_count": 5,
   "id": "a411e44f",
   "metadata": {
    "execution": {
     "iopub.execute_input": "2022-09-10T00:46:23.604404Z",
     "iopub.status.busy": "2022-09-10T00:46:23.603849Z",
     "iopub.status.idle": "2022-09-10T00:46:24.143205Z",
     "shell.execute_reply": "2022-09-10T00:46:24.142700Z"
    },
    "papermill": {
     "duration": 0.56672,
     "end_time": "2022-09-10T00:46:24.143333",
     "exception": false,
     "start_time": "2022-09-10T00:46:23.576613",
     "status": "completed"
    },
    "tags": []
   },
   "outputs": [],
   "source": [
    "train_images = mnist.train_images()\n",
    "train_labels = mnist.train_labels()"
   ]
  },
  {
   "cell_type": "code",
   "execution_count": 6,
   "id": "dceab3a5",
   "metadata": {
    "execution": {
     "iopub.execute_input": "2022-09-10T00:46:24.197162Z",
     "iopub.status.busy": "2022-09-10T00:46:24.196589Z",
     "iopub.status.idle": "2022-09-10T00:46:24.210262Z",
     "shell.execute_reply": "2022-09-10T00:46:24.210715Z"
    },
    "papermill": {
     "duration": 0.042461,
     "end_time": "2022-09-10T00:46:24.210830",
     "exception": false,
     "start_time": "2022-09-10T00:46:24.168369",
     "status": "completed"
    },
    "tags": []
   },
   "outputs": [
    {
     "data": {
      "text/plain": [
       "((60000, 28, 28), (60000,))"
      ]
     },
     "execution_count": 6,
     "metadata": {},
     "output_type": "execute_result"
    }
   ],
   "source": [
    "train_images.shape, train_labels.shape"
   ]
  },
  {
   "cell_type": "code",
   "execution_count": 7,
   "id": "f50dc2bb",
   "metadata": {
    "execution": {
     "iopub.execute_input": "2022-09-10T00:46:24.263957Z",
     "iopub.status.busy": "2022-09-10T00:46:24.263391Z",
     "iopub.status.idle": "2022-09-10T00:46:24.369417Z",
     "shell.execute_reply": "2022-09-10T00:46:24.368918Z"
    },
    "papermill": {
     "duration": 0.133702,
     "end_time": "2022-09-10T00:46:24.369525",
     "exception": false,
     "start_time": "2022-09-10T00:46:24.235823",
     "status": "completed"
    },
    "tags": []
   },
   "outputs": [],
   "source": [
    "test_images = mnist.test_images()\n",
    "test_labels = mnist.test_labels()"
   ]
  },
  {
   "cell_type": "code",
   "execution_count": 8,
   "id": "fc38cf1b",
   "metadata": {
    "execution": {
     "iopub.execute_input": "2022-09-10T00:46:24.423373Z",
     "iopub.status.busy": "2022-09-10T00:46:24.422825Z",
     "iopub.status.idle": "2022-09-10T00:46:24.435626Z",
     "shell.execute_reply": "2022-09-10T00:46:24.435176Z"
    },
    "papermill": {
     "duration": 0.040785,
     "end_time": "2022-09-10T00:46:24.435722",
     "exception": false,
     "start_time": "2022-09-10T00:46:24.394937",
     "status": "completed"
    },
    "tags": []
   },
   "outputs": [
    {
     "data": {
      "text/plain": [
       "((10000, 28, 28), (10000,))"
      ]
     },
     "execution_count": 8,
     "metadata": {},
     "output_type": "execute_result"
    }
   ],
   "source": [
    "test_images.shape, test_labels.shape"
   ]
  },
  {
   "cell_type": "code",
   "execution_count": 9,
   "id": "f9ed8fe0",
   "metadata": {
    "execution": {
     "iopub.execute_input": "2022-09-10T00:46:24.489731Z",
     "iopub.status.busy": "2022-09-10T00:46:24.489182Z",
     "iopub.status.idle": "2022-09-10T00:46:24.619354Z",
     "shell.execute_reply": "2022-09-10T00:46:24.619790Z"
    },
    "papermill": {
     "duration": 0.158762,
     "end_time": "2022-09-10T00:46:24.619935",
     "exception": false,
     "start_time": "2022-09-10T00:46:24.461173",
     "status": "completed"
    },
    "tags": []
   },
   "outputs": [
    {
     "name": "stdout",
     "output_type": "stream",
     "text": [
      "2\n"
     ]
    },
    {
     "data": {
      "text/plain": [
       "<matplotlib.image.AxesImage at 0x7ff10ab17c50>"
      ]
     },
     "execution_count": 9,
     "metadata": {},
     "output_type": "execute_result"
    },
    {
     "data": {
      "image/png": "[encoded data removed]",
      "text/plain": [
       "<Figure size 432x288 with 1 Axes>"
      ]
     },
     "metadata": {
      "needs_background": "light"
     },
     "output_type": "display_data"
    }
   ],
   "source": [
    "image_index = 7776 # You may select anything up to 60,000\n",
    "print(train_labels[image_index]) \n",
    "plt.imshow(train_images[image_index], cmap='Greys')"
   ]
  },
  {
   "cell_type": "markdown",
   "id": "a8d2388d",
   "metadata": {
    "papermill": {
     "duration": 0.026714,
     "end_time": "2022-09-10T00:46:24.673173",
     "exception": false,
     "start_time": "2022-09-10T00:46:24.646459",
     "status": "completed"
    },
    "tags": []
   },
   "source": [
    "## Filter data to get 3 and 8 out"
   ]
  },
  {
   "cell_type": "code",
   "execution_count": 10,
   "id": "776f7fc7",
   "metadata": {
    "execution": {
     "iopub.execute_input": "2022-09-10T00:46:24.729609Z",
     "iopub.status.busy": "2022-09-10T00:46:24.729046Z",
     "iopub.status.idle": "2022-09-10T00:46:24.743129Z",
     "shell.execute_reply": "2022-09-10T00:46:24.743580Z"
    },
    "papermill": {
     "duration": 0.044274,
     "end_time": "2022-09-10T00:46:24.743693",
     "exception": false,
     "start_time": "2022-09-10T00:46:24.699419",
     "status": "completed"
    },
    "tags": []
   },
   "outputs": [],
   "source": [
    "train_filter = np.where((train_labels == 3 ) | (train_labels == 8))\n",
    "test_filter = np.where((test_labels == 3) | (test_labels == 8))\n",
    "X_train, y_train = train_images[train_filter], train_labels[train_filter]\n",
    "X_test, y_test = test_images[test_filter], test_labels[test_filter]"
   ]
  },
  {
   "cell_type": "markdown",
   "id": "948f0b7e",
   "metadata": {
    "papermill": {
     "duration": 0.026291,
     "end_time": "2022-09-10T00:46:24.796477",
     "exception": false,
     "start_time": "2022-09-10T00:46:24.770186",
     "status": "completed"
    },
    "tags": []
   },
   "source": [
    "We normalize the pizel values in the 0 to 1 range"
   ]
  },
  {
   "cell_type": "code",
   "execution_count": 11,
   "id": "ee4c2166",
   "metadata": {
    "execution": {
     "iopub.execute_input": "2022-09-10T00:46:24.852455Z",
     "iopub.status.busy": "2022-09-10T00:46:24.851897Z",
     "iopub.status.idle": "2022-09-10T00:46:24.892256Z",
     "shell.execute_reply": "2022-09-10T00:46:24.891773Z"
    },
    "papermill": {
     "duration": 0.069545,
     "end_time": "2022-09-10T00:46:24.892360",
     "exception": false,
     "start_time": "2022-09-10T00:46:24.822815",
     "status": "completed"
    },
    "tags": []
   },
   "outputs": [],
   "source": [
    "X_train = X_train/255.\n",
    "X_test = X_test/255."
   ]
  },
  {
   "cell_type": "markdown",
   "id": "ddcf4fab",
   "metadata": {
    "papermill": {
     "duration": 0.026371,
     "end_time": "2022-09-10T00:46:24.945485",
     "exception": false,
     "start_time": "2022-09-10T00:46:24.919114",
     "status": "completed"
    },
    "tags": []
   },
   "source": [
    "And setup the labels as 1 (when the digit is 3) and 0 (when the digit is 8)"
   ]
  },
  {
   "cell_type": "code",
   "execution_count": 12,
   "id": "7dc908f2",
   "metadata": {
    "execution": {
     "iopub.execute_input": "2022-09-10T00:46:25.001663Z",
     "iopub.status.busy": "2022-09-10T00:46:25.001127Z",
     "iopub.status.idle": "2022-09-10T00:46:25.012886Z",
     "shell.execute_reply": "2022-09-10T00:46:25.013297Z"
    },
    "papermill": {
     "duration": 0.04154,
     "end_time": "2022-09-10T00:46:25.013411",
     "exception": false,
     "start_time": "2022-09-10T00:46:24.971871",
     "status": "completed"
    },
    "tags": []
   },
   "outputs": [],
   "source": [
    "y_train = 1*(y_train==3)\n",
    "y_test = 1*(y_test==3)"
   ]
  },
  {
   "cell_type": "code",
   "execution_count": 13,
   "id": "01e4e969",
   "metadata": {
    "execution": {
     "iopub.execute_input": "2022-09-10T00:46:25.069201Z",
     "iopub.status.busy": "2022-09-10T00:46:25.068645Z",
     "iopub.status.idle": "2022-09-10T00:46:25.081536Z",
     "shell.execute_reply": "2022-09-10T00:46:25.081090Z"
    },
    "papermill": {
     "duration": 0.041721,
     "end_time": "2022-09-10T00:46:25.081629",
     "exception": false,
     "start_time": "2022-09-10T00:46:25.039908",
     "status": "completed"
    },
    "tags": []
   },
   "outputs": [
    {
     "data": {
      "text/plain": [
       "((11982, 28, 28), (1984, 28, 28))"
      ]
     },
     "execution_count": 13,
     "metadata": {},
     "output_type": "execute_result"
    }
   ],
   "source": [
    "X_train.shape, X_test.shape"
   ]
  },
  {
   "cell_type": "markdown",
   "id": "5ccf3f85",
   "metadata": {
    "papermill": {
     "duration": 0.026462,
     "end_time": "2022-09-10T00:46:25.134622",
     "exception": false,
     "start_time": "2022-09-10T00:46:25.108160",
     "status": "completed"
    },
    "tags": []
   },
   "source": [
    "We reshape the data to flatten the image pixels into a set of features or co-variates:"
   ]
  },
  {
   "cell_type": "code",
   "execution_count": 14,
   "id": "5286a4a3",
   "metadata": {
    "execution": {
     "iopub.execute_input": "2022-09-10T00:46:25.191472Z",
     "iopub.status.busy": "2022-09-10T00:46:25.190927Z",
     "iopub.status.idle": "2022-09-10T00:46:25.203796Z",
     "shell.execute_reply": "2022-09-10T00:46:25.204252Z"
    },
    "papermill": {
     "duration": 0.042903,
     "end_time": "2022-09-10T00:46:25.204362",
     "exception": false,
     "start_time": "2022-09-10T00:46:25.161459",
     "status": "completed"
    },
    "tags": []
   },
   "outputs": [
    {
     "data": {
      "text/plain": [
       "((11982, 784), (1984, 784))"
      ]
     },
     "execution_count": 14,
     "metadata": {},
     "output_type": "execute_result"
    }
   ],
   "source": [
    "X_train = X_train.reshape(X_train.shape[0], -1)\n",
    "X_test = X_test.reshape(X_test.shape[0], -1)\n",
    "X_train.shape, X_test.shape"
   ]
  },
  {
   "cell_type": "code",
   "execution_count": 15,
   "id": "73c5f88a",
   "metadata": {
    "execution": {
     "iopub.execute_input": "2022-09-10T00:46:25.261830Z",
     "iopub.status.busy": "2022-09-10T00:46:25.261280Z",
     "iopub.status.idle": "2022-09-10T00:46:25.278798Z",
     "shell.execute_reply": "2022-09-10T00:46:25.279254Z"
    },
    "papermill": {
     "duration": 0.048038,
     "end_time": "2022-09-10T00:46:25.279362",
     "exception": false,
     "start_time": "2022-09-10T00:46:25.231324",
     "status": "completed"
    },
    "tags": []
   },
   "outputs": [],
   "source": [
    "#Impoting functions from 'Kudzu'\n",
    "from kudzu.model import Model\n",
    "from kudzu.train import Learner\n",
    "from kudzu.optim import GD\n",
    "from kudzu.data import Data, Sampler,Dataloader\n",
    "\n",
    "from kudzu.callbacks import AccCallback\n",
    "from kudzu.callbacks import ClfCallback\n",
    "\n",
    "from kudzu.loss import MSE\n",
    "\n",
    "from kudzu.layer import Sigmoid,Relu\n",
    "from kudzu.layer import Affine"
   ]
  },
  {
   "cell_type": "markdown",
   "id": "bc01172a",
   "metadata": {
    "papermill": {
     "duration": 0.026799,
     "end_time": "2022-09-10T00:46:25.333217",
     "exception": false,
     "start_time": "2022-09-10T00:46:25.306418",
     "status": "completed"
    },
    "tags": []
   },
   "source": [
    "### Let us create a `Config` class, to store important parameters. \n",
    "This class essentially plays the role of a dictionary."
   ]
  },
  {
   "cell_type": "code",
   "execution_count": 16,
   "id": "978281aa",
   "metadata": {
    "execution": {
     "iopub.execute_input": "2022-09-10T00:46:25.390867Z",
     "iopub.status.busy": "2022-09-10T00:46:25.390306Z",
     "iopub.status.idle": "2022-09-10T00:46:25.402232Z",
     "shell.execute_reply": "2022-09-10T00:46:25.401783Z"
    },
    "papermill": {
     "duration": 0.042052,
     "end_time": "2022-09-10T00:46:25.402329",
     "exception": false,
     "start_time": "2022-09-10T00:46:25.360277",
     "status": "completed"
    },
    "tags": []
   },
   "outputs": [],
   "source": [
    "class Config:\n",
    "    pass\n",
    "config = Config()\n",
    "config.lr = 0.001\n",
    "config.num_epochs = 250\n",
    "config.bs = 50"
   ]
  },
  {
   "cell_type": "markdown",
   "id": "1385fa59",
   "metadata": {
    "papermill": {
     "duration": 0.026813,
     "end_time": "2022-09-10T00:46:25.456173",
     "exception": false,
     "start_time": "2022-09-10T00:46:25.429360",
     "status": "completed"
    },
    "tags": []
   },
   "source": [
    "### Running Models with the Training data\n",
    "Details about the network layers:\n",
    "- A first affine layer has 784 inputs and does 100 affine transforms. These are followed by a Relu\n",
    "- A second affine layer has 100 inputs from the 100 activations of the past layer, and does 100 affine transforms. These are followed by a Relu\n",
    "- A third affine layer has 100 activations and does 2 affine transformations to create an embedding for visualization. There is no non-linearity here.\n",
    "- A final \"logistic regression\" which has an affine transform from 2 inputs to 1 output, which is squeezed through a sigmoid.\n"
   ]
  },
  {
   "cell_type": "code",
   "execution_count": 17,
   "id": "2b9c66db",
   "metadata": {
    "execution": {
     "iopub.execute_input": "2022-09-10T00:46:25.514145Z",
     "iopub.status.busy": "2022-09-10T00:46:25.513596Z",
     "iopub.status.idle": "2022-09-10T00:46:25.525755Z",
     "shell.execute_reply": "2022-09-10T00:46:25.525310Z"
    },
    "papermill": {
     "duration": 0.042386,
     "end_time": "2022-09-10T00:46:25.525850",
     "exception": false,
     "start_time": "2022-09-10T00:46:25.483464",
     "status": "completed"
    },
    "tags": []
   },
   "outputs": [],
   "source": [
    "data = Data(X_train, y_train.reshape(-1,1))\n",
    "sampler = Sampler(data, config.bs, shuffle=True)\n",
    "\n",
    "dl = Dataloader(data, sampler)\n",
    "\n",
    "opt = GD(config.lr)\n",
    "loss = MSE()"
   ]
  },
  {
   "cell_type": "code",
   "execution_count": 18,
   "id": "b275e4c2",
   "metadata": {
    "execution": {
     "iopub.execute_input": "2022-09-10T00:46:25.583076Z",
     "iopub.status.busy": "2022-09-10T00:46:25.582525Z",
     "iopub.status.idle": "2022-09-10T00:46:25.594176Z",
     "shell.execute_reply": "2022-09-10T00:46:25.593742Z"
    },
    "papermill": {
     "duration": 0.041312,
     "end_time": "2022-09-10T00:46:25.594271",
     "exception": false,
     "start_time": "2022-09-10T00:46:25.552959",
     "status": "completed"
    },
    "tags": []
   },
   "outputs": [],
   "source": [
    "training_data_x = X_train\n",
    "testing_data_x = X_test\n",
    "training_data_y = y_train.reshape(-1,1)\n",
    "testing_data_y = y_test.reshape(-1,1)"
   ]
  },
  {
   "cell_type": "code",
   "execution_count": 19,
   "id": "76951160",
   "metadata": {
    "execution": {
     "iopub.execute_input": "2022-09-10T00:46:25.651467Z",
     "iopub.status.busy": "2022-09-10T00:46:25.650923Z",
     "iopub.status.idle": "2022-09-10T00:46:25.666847Z",
     "shell.execute_reply": "2022-09-10T00:46:25.666418Z"
    },
    "papermill": {
     "duration": 0.045818,
     "end_time": "2022-09-10T00:46:25.666942",
     "exception": false,
     "start_time": "2022-09-10T00:46:25.621124",
     "status": "completed"
    },
    "tags": []
   },
   "outputs": [
    {
     "name": "stdout",
     "output_type": "stream",
     "text": [
      "xavier\n",
      "xavier\n",
      "xavier\n",
      "xavier\n",
      "xavier\n"
     ]
    }
   ],
   "source": [
    "layers = [Affine(\"first\", 784, 100), Relu(\"first\"), Affine(\"second\", 100, 100), Relu(\"second\"), Affine(\"third\", 100, 2), Affine(\"last\", 2, 1), Sigmoid(\"last\")]\n",
    "model_nn = Model(layers)\n",
    "model_lr = Model([Affine(\"logits\", 784, 1), Sigmoid(\"sigmoid\")])"
   ]
  },
  {
   "cell_type": "code",
   "execution_count": 20,
   "id": "6eede77a",
   "metadata": {
    "execution": {
     "iopub.execute_input": "2022-09-10T00:46:25.724586Z",
     "iopub.status.busy": "2022-09-10T00:46:25.724032Z",
     "iopub.status.idle": "2022-09-10T00:46:25.735692Z",
     "shell.execute_reply": "2022-09-10T00:46:25.735246Z"
    },
    "papermill": {
     "duration": 0.041636,
     "end_time": "2022-09-10T00:46:25.735783",
     "exception": false,
     "start_time": "2022-09-10T00:46:25.694147",
     "status": "completed"
    },
    "tags": []
   },
   "outputs": [],
   "source": [
    "nn_learner = Learner(loss, model_nn, opt, config.num_epochs)\n",
    "acc_nn = ClfCallback(nn_learner, config.bs, training_data_x , testing_data_x, training_data_y, testing_data_y)\n",
    "nn_learner.set_callbacks([acc_nn])"
   ]
  },
  {
   "cell_type": "code",
   "execution_count": 21,
   "id": "877b6cc7",
   "metadata": {
    "execution": {
     "iopub.execute_input": "2022-09-10T00:46:25.793457Z",
     "iopub.status.busy": "2022-09-10T00:46:25.792915Z",
     "iopub.status.idle": "2022-09-10T00:46:25.804156Z",
     "shell.execute_reply": "2022-09-10T00:46:25.803690Z"
    },
    "papermill": {
     "duration": 0.041217,
     "end_time": "2022-09-10T00:46:25.804248",
     "exception": false,
     "start_time": "2022-09-10T00:46:25.763031",
     "status": "completed"
    },
    "tags": []
   },
   "outputs": [],
   "source": [
    "lr_learner = Learner(loss, model_lr, opt, config.num_epochs)\n",
    "acc_lr = ClfCallback(lr_learner, config.bs, training_data_x , testing_data_x, training_data_y, testing_data_y)\n",
    "lr_learner.set_callbacks([acc_lr])"
   ]
  },
  {
   "cell_type": "code",
   "execution_count": 22,
   "id": "d9b133c3",
   "metadata": {
    "execution": {
     "iopub.execute_input": "2022-09-10T00:46:25.861766Z",
     "iopub.status.busy": "2022-09-10T00:46:25.861217Z",
     "iopub.status.idle": "2022-09-10T00:49:19.726803Z",
     "shell.execute_reply": "2022-09-10T00:49:19.727262Z"
    },
    "papermill": {
     "duration": 173.895964,
     "end_time": "2022-09-10T00:49:19.727387",
     "exception": false,
     "start_time": "2022-09-10T00:46:25.831423",
     "status": "completed"
    },
    "tags": []
   },
   "outputs": [
    {
     "name": "stdout",
     "output_type": "stream",
     "text": [
      "Epoch 0, Loss 0.2388\n",
      "Training Accuracy: 0.7101, Testing Accuracy: 0.6941\n",
      "\n"
     ]
    },
    {
     "name": "stdout",
     "output_type": "stream",
     "text": [
      "Epoch 10, Loss 0.0797\n",
      "Training Accuracy: 0.9241, Testing Accuracy: 0.9315\n",
      "\n"
     ]
    },
    {
     "name": "stdout",
     "output_type": "stream",
     "text": [
      "Epoch 20, Loss 0.0501\n",
      "Training Accuracy: 0.9477, Testing Accuracy: 0.9572\n",
      "\n"
     ]
    },
    {
     "name": "stdout",
     "output_type": "stream",
     "text": [
      "Epoch 30, Loss 0.0403\n",
      "Training Accuracy: 0.9568, Testing Accuracy: 0.9647\n",
      "\n"
     ]
    },
    {
     "name": "stdout",
     "output_type": "stream",
     "text": [
      "Epoch 40, Loss 0.0354\n",
      "Training Accuracy: 0.9605, Testing Accuracy: 0.9642\n",
      "\n"
     ]
    },
    {
     "name": "stdout",
     "output_type": "stream",
     "text": [
      "Epoch 50, Loss 0.0324\n",
      "Training Accuracy: 0.9634, Testing Accuracy: 0.9647\n",
      "\n"
     ]
    },
    {
     "name": "stdout",
     "output_type": "stream",
     "text": [
      "Epoch 60, Loss 0.0302\n",
      "Training Accuracy: 0.9658, Testing Accuracy: 0.9647\n",
      "\n"
     ]
    },
    {
     "name": "stdout",
     "output_type": "stream",
     "text": [
      "Epoch 70, Loss 0.0285\n",
      "Training Accuracy: 0.9670, Testing Accuracy: 0.9672\n",
      "\n"
     ]
    },
    {
     "name": "stdout",
     "output_type": "stream",
     "text": [
      "Epoch 80, Loss 0.0271\n",
      "Training Accuracy: 0.9692, Testing Accuracy: 0.9672\n",
      "\n"
     ]
    },
    {
     "name": "stdout",
     "output_type": "stream",
     "text": [
      "Epoch 90, Loss 0.0259\n",
      "Training Accuracy: 0.9711, Testing Accuracy: 0.9677\n",
      "\n"
     ]
    },
    {
     "name": "stdout",
     "output_type": "stream",
     "text": [
      "Epoch 100, Loss 0.0249\n",
      "Training Accuracy: 0.9723, Testing Accuracy: 0.9688\n",
      "\n"
     ]
    },
    {
     "name": "stdout",
     "output_type": "stream",
     "text": [
      "Epoch 110, Loss 0.024\n",
      "Training Accuracy: 0.9736, Testing Accuracy: 0.9693\n",
      "\n"
     ]
    },
    {
     "name": "stdout",
     "output_type": "stream",
     "text": [
      "Epoch 120, Loss 0.0232\n",
      "Training Accuracy: 0.9744, Testing Accuracy: 0.9698\n",
      "\n"
     ]
    },
    {
     "name": "stdout",
     "output_type": "stream",
     "text": [
      "Epoch 130, Loss 0.0225\n",
      "Training Accuracy: 0.9758, Testing Accuracy: 0.9708\n",
      "\n"
     ]
    },
    {
     "name": "stdout",
     "output_type": "stream",
     "text": [
      "Epoch 140, Loss 0.0219\n",
      "Training Accuracy: 0.9763, Testing Accuracy: 0.9703\n",
      "\n"
     ]
    },
    {
     "name": "stdout",
     "output_type": "stream",
     "text": [
      "Epoch 150, Loss 0.0213\n",
      "Training Accuracy: 0.9770, Testing Accuracy: 0.9703\n",
      "\n"
     ]
    },
    {
     "name": "stdout",
     "output_type": "stream",
     "text": [
      "Epoch 160, Loss 0.0207\n",
      "Training Accuracy: 0.9775, Testing Accuracy: 0.9713\n",
      "\n"
     ]
    },
    {
     "name": "stdout",
     "output_type": "stream",
     "text": [
      "Epoch 170, Loss 0.0202\n",
      "Training Accuracy: 0.9781, Testing Accuracy: 0.9713\n",
      "\n"
     ]
    },
    {
     "name": "stdout",
     "output_type": "stream",
     "text": [
      "Epoch 180, Loss 0.0197\n",
      "Training Accuracy: 0.9785, Testing Accuracy: 0.9718\n",
      "\n"
     ]
    },
    {
     "name": "stdout",
     "output_type": "stream",
     "text": [
      "Epoch 190, Loss 0.0192\n",
      "Training Accuracy: 0.9789, Testing Accuracy: 0.9728\n",
      "\n"
     ]
    },
    {
     "name": "stdout",
     "output_type": "stream",
     "text": [
      "Epoch 200, Loss 0.0187\n",
      "Training Accuracy: 0.9796, Testing Accuracy: 0.9743\n",
      "\n"
     ]
    },
    {
     "name": "stdout",
     "output_type": "stream",
     "text": [
      "Epoch 210, Loss 0.0183\n",
      "Training Accuracy: 0.9802, Testing Accuracy: 0.9743\n",
      "\n"
     ]
    },
    {
     "name": "stdout",
     "output_type": "stream",
     "text": [
      "Epoch 220, Loss 0.0179\n",
      "Training Accuracy: 0.9804, Testing Accuracy: 0.9753\n",
      "\n"
     ]
    },
    {
     "name": "stdout",
     "output_type": "stream",
     "text": [
      "Epoch 230, Loss 0.0174\n",
      "Training Accuracy: 0.9811, Testing Accuracy: 0.9758\n",
      "\n"
     ]
    },
    {
     "name": "stdout",
     "output_type": "stream",
     "text": [
      "Epoch 240, Loss 0.017\n",
      "Training Accuracy: 0.9816, Testing Accuracy: 0.9758\n",
      "\n"
     ]
    },
    {
     "data": {
      "text/plain": [
       "0.007997735898324776"
      ]
     },
     "execution_count": 22,
     "metadata": {},
     "output_type": "execute_result"
    }
   ],
   "source": [
    "nn_learner.train_loop(dl)"
   ]
  },
  {
   "cell_type": "code",
   "execution_count": 23,
   "id": "e0163366",
   "metadata": {
    "execution": {
     "iopub.execute_input": "2022-09-10T00:49:19.802566Z",
     "iopub.status.busy": "2022-09-10T00:49:19.800032Z",
     "iopub.status.idle": "2022-09-10T00:49:31.800832Z",
     "shell.execute_reply": "2022-09-10T00:49:31.801555Z"
    },
    "papermill": {
     "duration": 12.039769,
     "end_time": "2022-09-10T00:49:31.801693",
     "exception": false,
     "start_time": "2022-09-10T00:49:19.761924",
     "status": "completed"
    },
    "tags": []
   },
   "outputs": [
    {
     "name": "stdout",
     "output_type": "stream",
     "text": [
      "Epoch 0, Loss 0.2377\n",
      "Training Accuracy: 0.6788, Testing Accuracy: 0.7127\n",
      "\n"
     ]
    },
    {
     "name": "stdout",
     "output_type": "stream",
     "text": [
      "Epoch 10, Loss 0.1067\n",
      "Training Accuracy: 0.9004, Testing Accuracy: 0.9138\n",
      "\n"
     ]
    },
    {
     "name": "stdout",
     "output_type": "stream",
     "text": [
      "Epoch 20, Loss 0.0812\n",
      "Training Accuracy: 0.9242, Testing Accuracy: 0.9360\n",
      "\n"
     ]
    },
    {
     "name": "stdout",
     "output_type": "stream",
     "text": [
      "Epoch 30, Loss 0.0695\n",
      "Training Accuracy: 0.9344, Testing Accuracy: 0.9481\n",
      "\n"
     ]
    },
    {
     "name": "stdout",
     "output_type": "stream",
     "text": [
      "Epoch 40, Loss 0.0624\n",
      "Training Accuracy: 0.9412, Testing Accuracy: 0.9516\n",
      "\n"
     ]
    },
    {
     "name": "stdout",
     "output_type": "stream",
     "text": [
      "Epoch 50, Loss 0.0577\n",
      "Training Accuracy: 0.9440, Testing Accuracy: 0.9551\n",
      "\n"
     ]
    },
    {
     "name": "stdout",
     "output_type": "stream",
     "text": [
      "Epoch 60, Loss 0.0543\n",
      "Training Accuracy: 0.9466, Testing Accuracy: 0.9572\n",
      "\n"
     ]
    },
    {
     "name": "stdout",
     "output_type": "stream",
     "text": [
      "Epoch 70, Loss 0.0516\n",
      "Training Accuracy: 0.9487, Testing Accuracy: 0.9592\n",
      "\n"
     ]
    },
    {
     "name": "stdout",
     "output_type": "stream",
     "text": [
      "Epoch 80, Loss 0.0495\n",
      "Training Accuracy: 0.9501, Testing Accuracy: 0.9612\n",
      "\n"
     ]
    },
    {
     "name": "stdout",
     "output_type": "stream",
     "text": [
      "Epoch 90, Loss 0.0478\n",
      "Training Accuracy: 0.9513, Testing Accuracy: 0.9622\n",
      "\n"
     ]
    },
    {
     "name": "stdout",
     "output_type": "stream",
     "text": [
      "Epoch 100, Loss 0.0463\n",
      "Training Accuracy: 0.9523, Testing Accuracy: 0.9622\n",
      "\n"
     ]
    },
    {
     "name": "stdout",
     "output_type": "stream",
     "text": [
      "Epoch 110, Loss 0.0451\n",
      "Training Accuracy: 0.9532, Testing Accuracy: 0.9632\n",
      "\n"
     ]
    },
    {
     "name": "stdout",
     "output_type": "stream",
     "text": [
      "Epoch 120, Loss 0.044\n",
      "Training Accuracy: 0.9541, Testing Accuracy: 0.9637\n",
      "\n"
     ]
    },
    {
     "name": "stdout",
     "output_type": "stream",
     "text": [
      "Epoch 130, Loss 0.0431\n",
      "Training Accuracy: 0.9554, Testing Accuracy: 0.9637\n",
      "\n"
     ]
    },
    {
     "name": "stdout",
     "output_type": "stream",
     "text": [
      "Epoch 140, Loss 0.0422\n",
      "Training Accuracy: 0.9558, Testing Accuracy: 0.9642\n",
      "\n"
     ]
    },
    {
     "name": "stdout",
     "output_type": "stream",
     "text": [
      "Epoch 150, Loss 0.0415\n",
      "Training Accuracy: 0.9564, Testing Accuracy: 0.9642\n",
      "\n"
     ]
    },
    {
     "name": "stdout",
     "output_type": "stream",
     "text": [
      "Epoch 160, Loss 0.0408\n",
      "Training Accuracy: 0.9572, Testing Accuracy: 0.9642\n",
      "\n"
     ]
    },
    {
     "name": "stdout",
     "output_type": "stream",
     "text": [
      "Epoch 170, Loss 0.0402\n",
      "Training Accuracy: 0.9575, Testing Accuracy: 0.9642\n",
      "\n"
     ]
    },
    {
     "name": "stdout",
     "output_type": "stream",
     "text": [
      "Epoch 180, Loss 0.0396\n",
      "Training Accuracy: 0.9579, Testing Accuracy: 0.9652\n",
      "\n"
     ]
    },
    {
     "name": "stdout",
     "output_type": "stream",
     "text": [
      "Epoch 190, Loss 0.0391\n",
      "Training Accuracy: 0.9584, Testing Accuracy: 0.9652\n",
      "\n"
     ]
    },
    {
     "name": "stdout",
     "output_type": "stream",
     "text": [
      "Epoch 200, Loss 0.0386\n",
      "Training Accuracy: 0.9588, Testing Accuracy: 0.9657\n",
      "\n"
     ]
    },
    {
     "name": "stdout",
     "output_type": "stream",
     "text": [
      "Epoch 210, Loss 0.0382\n",
      "Training Accuracy: 0.9594, Testing Accuracy: 0.9662\n",
      "\n"
     ]
    },
    {
     "name": "stdout",
     "output_type": "stream",
     "text": [
      "Epoch 220, Loss 0.0377\n",
      "Training Accuracy: 0.9597, Testing Accuracy: 0.9662\n",
      "\n"
     ]
    },
    {
     "name": "stdout",
     "output_type": "stream",
     "text": [
      "Epoch 230, Loss 0.0373\n",
      "Training Accuracy: 0.9601, Testing Accuracy: 0.9672\n",
      "\n"
     ]
    },
    {
     "name": "stdout",
     "output_type": "stream",
     "text": [
      "Epoch 240, Loss 0.037\n",
      "Training Accuracy: 0.9604, Testing Accuracy: 0.9672\n",
      "\n"
     ]
    },
    {
     "data": {
      "text/plain": [
       "0.05893531694996275"
      ]
     },
     "execution_count": 23,
     "metadata": {},
     "output_type": "execute_result"
    }
   ],
   "source": [
    "lr_learner.train_loop(dl)"
   ]
  },
  {
   "cell_type": "code",
   "execution_count": 24,
   "id": "ca410940",
   "metadata": {
    "execution": {
     "iopub.execute_input": "2022-09-10T00:49:31.895759Z",
     "iopub.status.busy": "2022-09-10T00:49:31.894314Z",
     "iopub.status.idle": "2022-09-10T00:49:32.117715Z",
     "shell.execute_reply": "2022-09-10T00:49:32.117232Z"
    },
    "papermill": {
     "duration": 0.27395,
     "end_time": "2022-09-10T00:49:32.117821",
     "exception": false,
     "start_time": "2022-09-10T00:49:31.843871",
     "status": "completed"
    },
    "tags": []
   },
   "outputs": [
    {
     "data": {
      "text/plain": [
       "<matplotlib.legend.Legend at 0x7ff0fd2e6d68>"
      ]
     },
     "execution_count": 24,
     "metadata": {},
     "output_type": "execute_result"
    },
    {
     "data": {
      "image/png": "[encoded data removed]",
      "text/plain": [
       "<Figure size 1080x720 with 1 Axes>"
      ]
     },
     "metadata": {
      "needs_background": "light"
     },
     "output_type": "display_data"
    }
   ],
   "source": [
    "#comparing the results of NN and LR\n",
    "plt.figure(figsize=(15,10))\n",
    "\n",
    "# Neural Network plots\n",
    "plt.plot(acc_nn.accuracies, 'r-', label = \"Training Accuracies - NN\")\n",
    "plt.plot(acc_nn.test_accuracies, 'g-', label = \"Testing Accuracies - NN\")\n",
    "\n",
    "# Logistic Regression plots\n",
    "plt.plot(acc_lr.accuracies, 'k-', label = \"Training Accuracies - LR\")\n",
    "plt.plot(acc_lr.test_accuracies, 'b-', label = \"Testing Accuracies - LR\")\n",
    "plt.legend()"
   ]
  },
  {
   "cell_type": "markdown",
   "id": "80dfb35c",
   "metadata": {
    "papermill": {
     "duration": 0.042286,
     "end_time": "2022-09-10T00:49:32.202652",
     "exception": false,
     "start_time": "2022-09-10T00:49:32.160366",
     "status": "completed"
    },
    "tags": []
   },
   "source": [
    "#### Plotting the outputs of this layer of the NN.\n"
   ]
  },
  {
   "cell_type": "code",
   "execution_count": 25,
   "id": "45eb2ff5",
   "metadata": {
    "execution": {
     "iopub.execute_input": "2022-09-10T00:49:32.293266Z",
     "iopub.status.busy": "2022-09-10T00:49:32.291880Z",
     "iopub.status.idle": "2022-09-10T00:49:32.327181Z",
     "shell.execute_reply": "2022-09-10T00:49:32.328006Z"
    },
    "papermill": {
     "duration": 0.083194,
     "end_time": "2022-09-10T00:49:32.328145",
     "exception": false,
     "start_time": "2022-09-10T00:49:32.244951",
     "status": "completed"
    },
    "tags": []
   },
   "outputs": [],
   "source": [
    "new_model = Model(layers[:-2])\n",
    "testing_plot = new_model(testing_data_x)"
   ]
  },
  {
   "cell_type": "code",
   "execution_count": 26,
   "id": "4c0a5485",
   "metadata": {
    "execution": {
     "iopub.execute_input": "2022-09-10T00:49:32.421662Z",
     "iopub.status.busy": "2022-09-10T00:49:32.421143Z",
     "iopub.status.idle": "2022-09-10T00:49:32.598794Z",
     "shell.execute_reply": "2022-09-10T00:49:32.598337Z"
    },
    "papermill": {
     "duration": 0.226758,
     "end_time": "2022-09-10T00:49:32.598903",
     "exception": false,
     "start_time": "2022-09-10T00:49:32.372145",
     "status": "completed"
    },
    "tags": []
   },
   "outputs": [
    {
     "data": {
      "text/plain": [
       "Text(0.5, 1.0, 'Outputs')"
      ]
     },
     "execution_count": 26,
     "metadata": {},
     "output_type": "execute_result"
    },
    {
     "data": {
      "image/png": "[encoded data removed]",
      "text/plain": [
       "<Figure size 576x504 with 1 Axes>"
      ]
     },
     "metadata": {
      "needs_background": "light"
     },
     "output_type": "display_data"
    }
   ],
   "source": [
    "# Plotting the scatter plot of points and color coding by class\n",
    "plt.figure(figsize=(8,7))\n",
    "plt.scatter(testing_plot[:,0], testing_plot[:,1], alpha = 0.1, c = y_test.ravel());\n",
    "plt.title('Outputs')"
   ]
  },
  {
   "cell_type": "markdown",
   "id": "a74fcf8f",
   "metadata": {
    "papermill": {
     "duration": 0.043967,
     "end_time": "2022-09-10T00:49:32.687965",
     "exception": false,
     "start_time": "2022-09-10T00:49:32.643998",
     "status": "completed"
    },
    "tags": []
   },
   "source": [
    "Probability contours"
   ]
  },
  {
   "cell_type": "code",
   "execution_count": 27,
   "id": "d0afc8e3",
   "metadata": {
    "execution": {
     "iopub.execute_input": "2022-09-10T00:49:32.802878Z",
     "iopub.status.busy": "2022-09-10T00:49:32.802294Z",
     "iopub.status.idle": "2022-09-10T00:49:32.813990Z",
     "shell.execute_reply": "2022-09-10T00:49:32.813537Z"
    },
    "papermill": {
     "duration": 0.081608,
     "end_time": "2022-09-10T00:49:32.814088",
     "exception": false,
     "start_time": "2022-09-10T00:49:32.732480",
     "status": "completed"
    },
    "tags": []
   },
   "outputs": [],
   "source": [
    "model_prob = Model(layers[-2:]) "
   ]
  },
  {
   "cell_type": "code",
   "execution_count": 28,
   "id": "9b96e238",
   "metadata": {
    "execution": {
     "iopub.execute_input": "2022-09-10T00:49:32.907037Z",
     "iopub.status.busy": "2022-09-10T00:49:32.906480Z",
     "iopub.status.idle": "2022-09-10T00:49:32.920241Z",
     "shell.execute_reply": "2022-09-10T00:49:32.920646Z"
    },
    "papermill": {
     "duration": 0.062549,
     "end_time": "2022-09-10T00:49:32.920761",
     "exception": false,
     "start_time": "2022-09-10T00:49:32.858212",
     "status": "completed"
    },
    "tags": []
   },
   "outputs": [],
   "source": [
    "#creating the x and y ranges according to the above generated plot.\n",
    "x_range = np.linspace(-4, 1, 100) \n",
    "y_range = np.linspace(-6, 6, 100) \n",
    "x_grid, y_grid = np.meshgrid(x_range, y_range) # x_grid and y_grig are of size 100 X 100\n",
    "\n",
    "# converting x_grid and y_grid to continuous arrays\n",
    "x_gridflat = np.ravel(x_grid)\n",
    "y_gridflat = np.ravel(y_grid)\n",
    "\n",
    "# The last layer of the current model takes two columns as input. Hence transpose of np.vstack() is required.\n",
    "X = np.vstack((x_gridflat, y_gridflat)).T\n",
    "\n",
    "prob_contour = model_prob(X).reshape(100,100) "
   ]
  },
  {
   "cell_type": "code",
   "execution_count": 29,
   "id": "da72499a",
   "metadata": {
    "execution": {
     "iopub.execute_input": "2022-09-10T00:49:33.021048Z",
     "iopub.status.busy": "2022-09-10T00:49:33.020486Z",
     "iopub.status.idle": "2022-09-10T00:49:33.256947Z",
     "shell.execute_reply": "2022-09-10T00:49:33.256206Z"
    },
    "papermill": {
     "duration": 0.2877,
     "end_time": "2022-09-10T00:49:33.257059",
     "exception": false,
     "start_time": "2022-09-10T00:49:32.969359",
     "status": "completed"
    },
    "tags": []
   },
   "outputs": [
    {
     "data": {
      "image/png": "[encoded data removed]",
      "text/plain": [
       "<Figure size 720x648 with 1 Axes>"
      ]
     },
     "metadata": {
      "needs_background": "light"
     },
     "output_type": "display_data"
    }
   ],
   "source": [
    "plt.figure(figsize=(10,9))\n",
    "plt.scatter(testing_plot[:,0], testing_plot[:,1], alpha = 0.1, c = y_test.ravel())\n",
    "contours = plt.contour(x_grid,y_grid,prob_contour)\n",
    "plt.title('Probability Contours')\n",
    "plt.clabel(contours, inline = True );"
   ]
  },
  {
   "cell_type": "code",
   "execution_count": null,
   "id": "e81b4ac7",
   "metadata": {
    "papermill": {
     "duration": 0.046654,
     "end_time": "2022-09-10T00:49:33.350835",
     "exception": false,
     "start_time": "2022-09-10T00:49:33.304181",
     "status": "completed"
    },
    "tags": []
   },
   "outputs": [],
   "source": []
  }
 ],
 "metadata": {
  "kernelspec": {
   "display_name": "Python 3",
   "language": "python",
   "name": "python3"
  },
  "language_info": {
   "codemirror_mode": {
    "name": "ipython",
    "version": 3
   },
   "file_extension": ".py",
   "mimetype": "text/x-python",
   "name": "python",
   "nbconvert_exporter": "python",
   "pygments_lexer": "ipython3",
   "version": "3.6.15"
  },
  "papermill": {
   "default_parameters": {},
   "duration": 193.528785,
   "end_time": "2022-09-10T00:49:33.715887",
   "environment_variables": {},
   "exception": null,
   "input_path": "2020-08-11-part2.ipynb",
   "output_path": "2020-08-11-part2.ipynb",
   "parameters": {},
   "start_time": "2022-09-10T00:46:20.187102",
   "version": "2.3.3"
  }
 },
 "nbformat": 4,
 "nbformat_minor": 5
}