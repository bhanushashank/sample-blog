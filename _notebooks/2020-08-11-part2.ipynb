{
 "cells": [
  {
   "cell_type": "markdown",
   "id": "98380cd3",
   "metadata": {
    "papermill": {
     "duration": 0.027795,
     "end_time": "2022-04-27T10:10:33.483523",
     "exception": false,
     "start_time": "2022-04-27T10:10:33.455728",
     "status": "completed"
    },
    "tags": []
   },
   "source": [
    "# Distinguish Your Own Digits (DYOD)"
   ]
  },
  {
   "cell_type": "markdown",
   "id": "ef31240d",
   "metadata": {
    "papermill": {
     "duration": 0.025297,
     "end_time": "2022-04-27T10:10:33.533433",
     "exception": false,
     "start_time": "2022-04-27T10:10:33.508136",
     "status": "completed"
    },
    "tags": []
   },
   "source": [
    "You are going to write a classifier that distinguishes between the number 3 and number 8."
   ]
  },
  {
   "cell_type": "code",
   "execution_count": 1,
   "id": "b15c8646",
   "metadata": {
    "execution": {
     "iopub.execute_input": "2022-04-27T10:10:33.592106Z",
     "iopub.status.busy": "2022-04-27T10:10:33.591475Z",
     "iopub.status.idle": "2022-04-27T10:10:33.602103Z",
     "shell.execute_reply": "2022-04-27T10:10:33.601646Z"
    },
    "papermill": {
     "duration": 0.044953,
     "end_time": "2022-04-27T10:10:33.602238",
     "exception": false,
     "start_time": "2022-04-27T10:10:33.557285",
     "status": "completed"
    },
    "tags": []
   },
   "outputs": [],
   "source": [
    "%load_ext autoreload\n",
    "%autoreload 2"
   ]
  },
  {
   "cell_type": "code",
   "execution_count": 2,
   "id": "22ef38dc",
   "metadata": {
    "execution": {
     "iopub.execute_input": "2022-04-27T10:10:33.654338Z",
     "iopub.status.busy": "2022-04-27T10:10:33.653781Z",
     "iopub.status.idle": "2022-04-27T10:10:34.181363Z",
     "shell.execute_reply": "2022-04-27T10:10:34.181836Z"
    },
    "papermill": {
     "duration": 0.555757,
     "end_time": "2022-04-27T10:10:34.182032",
     "exception": false,
     "start_time": "2022-04-27T10:10:33.626275",
     "status": "completed"
    },
    "tags": []
   },
   "outputs": [],
   "source": [
    "%matplotlib inline\n",
    "import numpy as np\n",
    "import matplotlib.pyplot as plt\n",
    "import pandas as pd"
   ]
  },
  {
   "cell_type": "markdown",
   "id": "ba036198",
   "metadata": {
    "papermill": {
     "duration": 0.023901,
     "end_time": "2022-04-27T10:10:34.230542",
     "exception": false,
     "start_time": "2022-04-27T10:10:34.206641",
     "status": "completed"
    },
    "tags": []
   },
   "source": [
    "From the command line run `pip install mnist`. This is a library that will help you bring down the mnist dataset. If you run this from a notebook, you need to put  `!pip install mnist` in a cell by itself."
   ]
  },
  {
   "cell_type": "code",
   "execution_count": 3,
   "id": "bb6ad8a1",
   "metadata": {
    "execution": {
     "iopub.execute_input": "2022-04-27T10:10:34.313703Z",
     "iopub.status.busy": "2022-04-27T10:10:34.310698Z",
     "iopub.status.idle": "2022-04-27T10:10:35.918571Z",
     "shell.execute_reply": "2022-04-27T10:10:35.917593Z"
    },
    "papermill": {
     "duration": 1.664145,
     "end_time": "2022-04-27T10:10:35.918721",
     "exception": false,
     "start_time": "2022-04-27T10:10:34.254576",
     "status": "completed"
    },
    "tags": []
   },
   "outputs": [
    {
     "name": "stdout",
     "output_type": "stream",
     "text": [
      "Collecting mnist\r\n",
      "  Downloading mnist-0.2.2-py2.py3-none-any.whl (3.5 kB)\r\n"
     ]
    },
    {
     "name": "stdout",
     "output_type": "stream",
     "text": [
      "Requirement already satisfied: numpy in /opt/hostedtoolcache/Python/3.6.15/x64/lib/python3.6/site-packages (from mnist) (1.19.5)\r\n"
     ]
    },
    {
     "name": "stdout",
     "output_type": "stream",
     "text": [
      "Installing collected packages: mnist\r\n"
     ]
    },
    {
     "name": "stdout",
     "output_type": "stream",
     "text": [
      "Successfully installed mnist-0.2.2\r\n"
     ]
    }
   ],
   "source": [
    "!pip install mnist"
   ]
  },
  {
   "cell_type": "markdown",
   "id": "69df9c9a",
   "metadata": {
    "papermill": {
     "duration": 0.024856,
     "end_time": "2022-04-27T10:10:35.969088",
     "exception": false,
     "start_time": "2022-04-27T10:10:35.944232",
     "status": "completed"
    },
    "tags": []
   },
   "source": [
    "## Preparing the Data"
   ]
  },
  {
   "cell_type": "code",
   "execution_count": 4,
   "id": "7f69d806",
   "metadata": {
    "execution": {
     "iopub.execute_input": "2022-04-27T10:10:36.034498Z",
     "iopub.status.busy": "2022-04-27T10:10:36.021684Z",
     "iopub.status.idle": "2022-04-27T10:10:36.038769Z",
     "shell.execute_reply": "2022-04-27T10:10:36.038315Z"
    },
    "papermill": {
     "duration": 0.045072,
     "end_time": "2022-04-27T10:10:36.038872",
     "exception": false,
     "start_time": "2022-04-27T10:10:35.993800",
     "status": "completed"
    },
    "tags": []
   },
   "outputs": [],
   "source": [
    "import mnist"
   ]
  },
  {
   "cell_type": "code",
   "execution_count": 5,
   "id": "a411e44f",
   "metadata": {
    "execution": {
     "iopub.execute_input": "2022-04-27T10:10:36.098678Z",
     "iopub.status.busy": "2022-04-27T10:10:36.098137Z",
     "iopub.status.idle": "2022-04-27T10:10:36.625122Z",
     "shell.execute_reply": "2022-04-27T10:10:36.624598Z"
    },
    "papermill": {
     "duration": 0.561429,
     "end_time": "2022-04-27T10:10:36.625259",
     "exception": false,
     "start_time": "2022-04-27T10:10:36.063830",
     "status": "completed"
    },
    "tags": []
   },
   "outputs": [],
   "source": [
    "train_images = mnist.train_images()\n",
    "train_labels = mnist.train_labels()"
   ]
  },
  {
   "cell_type": "code",
   "execution_count": 6,
   "id": "dceab3a5",
   "metadata": {
    "execution": {
     "iopub.execute_input": "2022-04-27T10:10:36.689837Z",
     "iopub.status.busy": "2022-04-27T10:10:36.685964Z",
     "iopub.status.idle": "2022-04-27T10:10:36.699081Z",
     "shell.execute_reply": "2022-04-27T10:10:36.698650Z"
    },
    "papermill": {
     "duration": 0.047587,
     "end_time": "2022-04-27T10:10:36.699190",
     "exception": false,
     "start_time": "2022-04-27T10:10:36.651603",
     "status": "completed"
    },
    "tags": []
   },
   "outputs": [
    {
     "data": {
      "text/plain": [
       "((60000, 28, 28), (60000,))"
      ]
     },
     "execution_count": 6,
     "metadata": {},
     "output_type": "execute_result"
    }
   ],
   "source": [
    "train_images.shape, train_labels.shape"
   ]
  },
  {
   "cell_type": "code",
   "execution_count": 7,
   "id": "f50dc2bb",
   "metadata": {
    "execution": {
     "iopub.execute_input": "2022-04-27T10:10:36.752933Z",
     "iopub.status.busy": "2022-04-27T10:10:36.752430Z",
     "iopub.status.idle": "2022-04-27T10:10:36.861766Z",
     "shell.execute_reply": "2022-04-27T10:10:36.861252Z"
    },
    "papermill": {
     "duration": 0.137536,
     "end_time": "2022-04-27T10:10:36.861928",
     "exception": false,
     "start_time": "2022-04-27T10:10:36.724392",
     "status": "completed"
    },
    "tags": []
   },
   "outputs": [],
   "source": [
    "test_images = mnist.test_images()\n",
    "test_labels = mnist.test_labels()"
   ]
  },
  {
   "cell_type": "code",
   "execution_count": 8,
   "id": "fc38cf1b",
   "metadata": {
    "execution": {
     "iopub.execute_input": "2022-04-27T10:10:36.916943Z",
     "iopub.status.busy": "2022-04-27T10:10:36.916429Z",
     "iopub.status.idle": "2022-04-27T10:10:36.930014Z",
     "shell.execute_reply": "2022-04-27T10:10:36.929524Z"
    },
    "papermill": {
     "duration": 0.042128,
     "end_time": "2022-04-27T10:10:36.930132",
     "exception": false,
     "start_time": "2022-04-27T10:10:36.888004",
     "status": "completed"
    },
    "tags": []
   },
   "outputs": [
    {
     "data": {
      "text/plain": [
       "((10000, 28, 28), (10000,))"
      ]
     },
     "execution_count": 8,
     "metadata": {},
     "output_type": "execute_result"
    }
   ],
   "source": [
    "test_images.shape, test_labels.shape"
   ]
  },
  {
   "cell_type": "code",
   "execution_count": 9,
   "id": "f9ed8fe0",
   "metadata": {
    "execution": {
     "iopub.execute_input": "2022-04-27T10:10:36.989488Z",
     "iopub.status.busy": "2022-04-27T10:10:36.988980Z",
     "iopub.status.idle": "2022-04-27T10:10:37.120964Z",
     "shell.execute_reply": "2022-04-27T10:10:37.121425Z"
    },
    "papermill": {
     "duration": 0.166084,
     "end_time": "2022-04-27T10:10:37.121561",
     "exception": false,
     "start_time": "2022-04-27T10:10:36.955477",
     "status": "completed"
    },
    "tags": []
   },
   "outputs": [
    {
     "name": "stdout",
     "output_type": "stream",
     "text": [
      "2\n"
     ]
    },
    {
     "data": {
      "text/plain": [
       "<matplotlib.image.AxesImage at 0x7f37430803c8>"
      ]
     },
     "execution_count": 9,
     "metadata": {},
     "output_type": "execute_result"
    },
    {
     "data": {
      "image/png": "[encoded data removed]",
      "text/plain": [
       "<Figure size 432x288 with 1 Axes>"
      ]
     },
     "metadata": {
      "needs_background": "light"
     },
     "output_type": "display_data"
    }
   ],
   "source": [
    "image_index = 7776 # You may select anything up to 60,000\n",
    "print(train_labels[image_index]) \n",
    "plt.imshow(train_images[image_index], cmap='Greys')"
   ]
  },
  {
   "cell_type": "markdown",
   "id": "a8d2388d",
   "metadata": {
    "papermill": {
     "duration": 0.026577,
     "end_time": "2022-04-27T10:10:37.174880",
     "exception": false,
     "start_time": "2022-04-27T10:10:37.148303",
     "status": "completed"
    },
    "tags": []
   },
   "source": [
    "## Filter data to get 3 and 8 out"
   ]
  },
  {
   "cell_type": "code",
   "execution_count": 10,
   "id": "776f7fc7",
   "metadata": {
    "execution": {
     "iopub.execute_input": "2022-04-27T10:10:37.235148Z",
     "iopub.status.busy": "2022-04-27T10:10:37.234619Z",
     "iopub.status.idle": "2022-04-27T10:10:37.250934Z",
     "shell.execute_reply": "2022-04-27T10:10:37.250511Z"
    },
    "papermill": {
     "duration": 0.049591,
     "end_time": "2022-04-27T10:10:37.251051",
     "exception": false,
     "start_time": "2022-04-27T10:10:37.201460",
     "status": "completed"
    },
    "tags": []
   },
   "outputs": [],
   "source": [
    "train_filter = np.where((train_labels == 3 ) | (train_labels == 8))\n",
    "test_filter = np.where((test_labels == 3) | (test_labels == 8))\n",
    "X_train, y_train = train_images[train_filter], train_labels[train_filter]\n",
    "X_test, y_test = test_images[test_filter], test_labels[test_filter]"
   ]
  },
  {
   "cell_type": "markdown",
   "id": "948f0b7e",
   "metadata": {
    "papermill": {
     "duration": 0.026443,
     "end_time": "2022-04-27T10:10:37.304277",
     "exception": false,
     "start_time": "2022-04-27T10:10:37.277834",
     "status": "completed"
    },
    "tags": []
   },
   "source": [
    "We normalize the pizel values in the 0 to 1 range"
   ]
  },
  {
   "cell_type": "code",
   "execution_count": 11,
   "id": "ee4c2166",
   "metadata": {
    "execution": {
     "iopub.execute_input": "2022-04-27T10:10:37.360595Z",
     "iopub.status.busy": "2022-04-27T10:10:37.360086Z",
     "iopub.status.idle": "2022-04-27T10:10:37.407313Z",
     "shell.execute_reply": "2022-04-27T10:10:37.406872Z"
    },
    "papermill": {
     "duration": 0.076698,
     "end_time": "2022-04-27T10:10:37.407436",
     "exception": false,
     "start_time": "2022-04-27T10:10:37.330738",
     "status": "completed"
    },
    "tags": []
   },
   "outputs": [],
   "source": [
    "X_train = X_train/255.\n",
    "X_test = X_test/255."
   ]
  },
  {
   "cell_type": "markdown",
   "id": "ddcf4fab",
   "metadata": {
    "papermill": {
     "duration": 0.026459,
     "end_time": "2022-04-27T10:10:37.460826",
     "exception": false,
     "start_time": "2022-04-27T10:10:37.434367",
     "status": "completed"
    },
    "tags": []
   },
   "source": [
    "And setup the labels as 1 (when the digit is 3) and 0 (when the digit is 8)"
   ]
  },
  {
   "cell_type": "code",
   "execution_count": 12,
   "id": "7dc908f2",
   "metadata": {
    "execution": {
     "iopub.execute_input": "2022-04-27T10:10:37.519284Z",
     "iopub.status.busy": "2022-04-27T10:10:37.518767Z",
     "iopub.status.idle": "2022-04-27T10:10:37.529649Z",
     "shell.execute_reply": "2022-04-27T10:10:37.529205Z"
    },
    "papermill": {
     "duration": 0.042284,
     "end_time": "2022-04-27T10:10:37.529762",
     "exception": false,
     "start_time": "2022-04-27T10:10:37.487478",
     "status": "completed"
    },
    "tags": []
   },
   "outputs": [],
   "source": [
    "y_train = 1*(y_train==3)\n",
    "y_test = 1*(y_test==3)"
   ]
  },
  {
   "cell_type": "code",
   "execution_count": 13,
   "id": "01e4e969",
   "metadata": {
    "execution": {
     "iopub.execute_input": "2022-04-27T10:10:37.600000Z",
     "iopub.status.busy": "2022-04-27T10:10:37.599467Z",
     "iopub.status.idle": "2022-04-27T10:10:37.606609Z",
     "shell.execute_reply": "2022-04-27T10:10:37.606194Z"
    },
    "papermill": {
     "duration": 0.050332,
     "end_time": "2022-04-27T10:10:37.606724",
     "exception": false,
     "start_time": "2022-04-27T10:10:37.556392",
     "status": "completed"
    },
    "tags": []
   },
   "outputs": [
    {
     "data": {
      "text/plain": [
       "((11982, 28, 28), (1984, 28, 28))"
      ]
     },
     "execution_count": 13,
     "metadata": {},
     "output_type": "execute_result"
    }
   ],
   "source": [
    "X_train.shape, X_test.shape"
   ]
  },
  {
   "cell_type": "markdown",
   "id": "5ccf3f85",
   "metadata": {
    "papermill": {
     "duration": 0.026846,
     "end_time": "2022-04-27T10:10:37.660418",
     "exception": false,
     "start_time": "2022-04-27T10:10:37.633572",
     "status": "completed"
    },
    "tags": []
   },
   "source": [
    "We reshape the data to flatten the image pixels into a set of features or co-variates:"
   ]
  },
  {
   "cell_type": "code",
   "execution_count": 14,
   "id": "5286a4a3",
   "metadata": {
    "execution": {
     "iopub.execute_input": "2022-04-27T10:10:37.732254Z",
     "iopub.status.busy": "2022-04-27T10:10:37.731566Z",
     "iopub.status.idle": "2022-04-27T10:10:37.734500Z",
     "shell.execute_reply": "2022-04-27T10:10:37.734056Z"
    },
    "papermill": {
     "duration": 0.047176,
     "end_time": "2022-04-27T10:10:37.734610",
     "exception": false,
     "start_time": "2022-04-27T10:10:37.687434",
     "status": "completed"
    },
    "tags": []
   },
   "outputs": [
    {
     "data": {
      "text/plain": [
       "((11982, 784), (1984, 784))"
      ]
     },
     "execution_count": 14,
     "metadata": {},
     "output_type": "execute_result"
    }
   ],
   "source": [
    "X_train = X_train.reshape(X_train.shape[0], -1)\n",
    "X_test = X_test.reshape(X_test.shape[0], -1)\n",
    "X_train.shape, X_test.shape"
   ]
  },
  {
   "cell_type": "code",
   "execution_count": 15,
   "id": "73c5f88a",
   "metadata": {
    "execution": {
     "iopub.execute_input": "2022-04-27T10:10:37.811019Z",
     "iopub.status.busy": "2022-04-27T10:10:37.802844Z",
     "iopub.status.idle": "2022-04-27T10:10:37.816308Z",
     "shell.execute_reply": "2022-04-27T10:10:37.815619Z"
    },
    "papermill": {
     "duration": 0.054637,
     "end_time": "2022-04-27T10:10:37.816430",
     "exception": false,
     "start_time": "2022-04-27T10:10:37.761793",
     "status": "completed"
    },
    "tags": []
   },
   "outputs": [],
   "source": [
    "#Impoting functions from 'Kudzu'\n",
    "from kudzu.model import Model\n",
    "from kudzu.train import Learner\n",
    "from kudzu.optim import GD\n",
    "from kudzu.data import Data, Sampler,Dataloader\n",
    "\n",
    "from kudzu.callbacks import AccCallback\n",
    "from kudzu.callbacks import ClfCallback\n",
    "\n",
    "from kudzu.loss import MSE\n",
    "\n",
    "from kudzu.layer import Sigmoid,Relu\n",
    "from kudzu.layer import Affine"
   ]
  },
  {
   "cell_type": "markdown",
   "id": "bc01172a",
   "metadata": {
    "papermill": {
     "duration": 0.027352,
     "end_time": "2022-04-27T10:10:37.871176",
     "exception": false,
     "start_time": "2022-04-27T10:10:37.843824",
     "status": "completed"
    },
    "tags": []
   },
   "source": [
    "### Let us create a `Config` class, to store important parameters. \n",
    "This class essentially plays the role of a dictionary."
   ]
  },
  {
   "cell_type": "code",
   "execution_count": 16,
   "id": "978281aa",
   "metadata": {
    "execution": {
     "iopub.execute_input": "2022-04-27T10:10:37.934360Z",
     "iopub.status.busy": "2022-04-27T10:10:37.933795Z",
     "iopub.status.idle": "2022-04-27T10:10:37.943067Z",
     "shell.execute_reply": "2022-04-27T10:10:37.942658Z"
    },
    "papermill": {
     "duration": 0.044943,
     "end_time": "2022-04-27T10:10:37.943180",
     "exception": false,
     "start_time": "2022-04-27T10:10:37.898237",
     "status": "completed"
    },
    "tags": []
   },
   "outputs": [],
   "source": [
    "class Config:\n",
    "    pass\n",
    "config = Config()\n",
    "config.lr = 0.001\n",
    "config.num_epochs = 250\n",
    "config.bs = 50"
   ]
  },
  {
   "cell_type": "markdown",
   "id": "1385fa59",
   "metadata": {
    "papermill": {
     "duration": 0.026957,
     "end_time": "2022-04-27T10:10:37.997214",
     "exception": false,
     "start_time": "2022-04-27T10:10:37.970257",
     "status": "completed"
    },
    "tags": []
   },
   "source": [
    "### Running Models with the Training data\n",
    "Details about the network layers:\n",
    "- A first affine layer has 784 inputs and does 100 affine transforms. These are followed by a Relu\n",
    "- A second affine layer has 100 inputs from the 100 activations of the past layer, and does 100 affine transforms. These are followed by a Relu\n",
    "- A third affine layer has 100 activations and does 2 affine transformations to create an embedding for visualization. There is no non-linearity here.\n",
    "- A final \"logistic regression\" which has an affine transform from 2 inputs to 1 output, which is squeezed through a sigmoid.\n"
   ]
  },
  {
   "cell_type": "code",
   "execution_count": 17,
   "id": "2b9c66db",
   "metadata": {
    "execution": {
     "iopub.execute_input": "2022-04-27T10:10:38.055351Z",
     "iopub.status.busy": "2022-04-27T10:10:38.054833Z",
     "iopub.status.idle": "2022-04-27T10:10:38.067648Z",
     "shell.execute_reply": "2022-04-27T10:10:38.067214Z"
    },
    "papermill": {
     "duration": 0.043599,
     "end_time": "2022-04-27T10:10:38.067752",
     "exception": false,
     "start_time": "2022-04-27T10:10:38.024153",
     "status": "completed"
    },
    "tags": []
   },
   "outputs": [],
   "source": [
    "data = Data(X_train, y_train.reshape(-1,1))\n",
    "sampler = Sampler(data, config.bs, shuffle=True)\n",
    "\n",
    "dl = Dataloader(data, sampler)\n",
    "\n",
    "opt = GD(config.lr)\n",
    "loss = MSE()"
   ]
  },
  {
   "cell_type": "code",
   "execution_count": 18,
   "id": "b275e4c2",
   "metadata": {
    "execution": {
     "iopub.execute_input": "2022-04-27T10:10:38.126359Z",
     "iopub.status.busy": "2022-04-27T10:10:38.125795Z",
     "iopub.status.idle": "2022-04-27T10:10:38.136262Z",
     "shell.execute_reply": "2022-04-27T10:10:38.136675Z"
    },
    "papermill": {
     "duration": 0.042121,
     "end_time": "2022-04-27T10:10:38.136798",
     "exception": false,
     "start_time": "2022-04-27T10:10:38.094677",
     "status": "completed"
    },
    "tags": []
   },
   "outputs": [],
   "source": [
    "training_data_x = X_train\n",
    "testing_data_x = X_test\n",
    "training_data_y = y_train.reshape(-1,1)\n",
    "testing_data_y = y_test.reshape(-1,1)"
   ]
  },
  {
   "cell_type": "code",
   "execution_count": 19,
   "id": "76951160",
   "metadata": {
    "execution": {
     "iopub.execute_input": "2022-04-27T10:10:38.194405Z",
     "iopub.status.busy": "2022-04-27T10:10:38.193849Z",
     "iopub.status.idle": "2022-04-27T10:10:38.209767Z",
     "shell.execute_reply": "2022-04-27T10:10:38.209357Z"
    },
    "papermill": {
     "duration": 0.046199,
     "end_time": "2022-04-27T10:10:38.209895",
     "exception": false,
     "start_time": "2022-04-27T10:10:38.163696",
     "status": "completed"
    },
    "tags": []
   },
   "outputs": [
    {
     "name": "stdout",
     "output_type": "stream",
     "text": [
      "xavier\n",
      "xavier\n",
      "xavier\n",
      "xavier\n",
      "xavier\n"
     ]
    }
   ],
   "source": [
    "layers = [Affine(\"first\", 784, 100), Relu(\"first\"), Affine(\"second\", 100, 100), Relu(\"second\"), Affine(\"third\", 100, 2), Affine(\"last\", 2, 1), Sigmoid(\"last\")]\n",
    "model_nn = Model(layers)\n",
    "model_lr = Model([Affine(\"logits\", 784, 1), Sigmoid(\"sigmoid\")])"
   ]
  },
  {
   "cell_type": "code",
   "execution_count": 20,
   "id": "6eede77a",
   "metadata": {
    "execution": {
     "iopub.execute_input": "2022-04-27T10:10:38.268160Z",
     "iopub.status.busy": "2022-04-27T10:10:38.267633Z",
     "iopub.status.idle": "2022-04-27T10:10:38.279926Z",
     "shell.execute_reply": "2022-04-27T10:10:38.279475Z"
    },
    "papermill": {
     "duration": 0.042854,
     "end_time": "2022-04-27T10:10:38.280038",
     "exception": false,
     "start_time": "2022-04-27T10:10:38.237184",
     "status": "completed"
    },
    "tags": []
   },
   "outputs": [],
   "source": [
    "nn_learner = Learner(loss, model_nn, opt, config.num_epochs)\n",
    "acc_nn = ClfCallback(nn_learner, config.bs, training_data_x , testing_data_x, training_data_y, testing_data_y)\n",
    "nn_learner.set_callbacks([acc_nn])"
   ]
  },
  {
   "cell_type": "code",
   "execution_count": 21,
   "id": "877b6cc7",
   "metadata": {
    "execution": {
     "iopub.execute_input": "2022-04-27T10:10:38.339297Z",
     "iopub.status.busy": "2022-04-27T10:10:38.338744Z",
     "iopub.status.idle": "2022-04-27T10:10:38.350399Z",
     "shell.execute_reply": "2022-04-27T10:10:38.349951Z"
    },
    "papermill": {
     "duration": 0.042938,
     "end_time": "2022-04-27T10:10:38.350511",
     "exception": false,
     "start_time": "2022-04-27T10:10:38.307573",
     "status": "completed"
    },
    "tags": []
   },
   "outputs": [],
   "source": [
    "lr_learner = Learner(loss, model_lr, opt, config.num_epochs)\n",
    "acc_lr = ClfCallback(lr_learner, config.bs, training_data_x , testing_data_x, training_data_y, testing_data_y)\n",
    "lr_learner.set_callbacks([acc_lr])"
   ]
  },
  {
   "cell_type": "code",
   "execution_count": 22,
   "id": "d9b133c3",
   "metadata": {
    "execution": {
     "iopub.execute_input": "2022-04-27T10:10:38.411063Z",
     "iopub.status.busy": "2022-04-27T10:10:38.410558Z",
     "iopub.status.idle": "2022-04-27T10:11:51.404474Z",
     "shell.execute_reply": "2022-04-27T10:11:51.404967Z"
    },
    "papermill": {
     "duration": 73.027301,
     "end_time": "2022-04-27T10:11:51.405104",
     "exception": false,
     "start_time": "2022-04-27T10:10:38.377803",
     "status": "completed"
    },
    "tags": []
   },
   "outputs": [
    {
     "name": "stdout",
     "output_type": "stream",
     "text": [
      "Epoch 0, Loss 0.2499\n",
      "Training Accuracy: 0.5859, Testing Accuracy: 0.5575\n",
      "\n"
     ]
    },
    {
     "name": "stdout",
     "output_type": "stream",
     "text": [
      "Epoch 10, Loss 0.0935\n",
      "Training Accuracy: 0.9169, Testing Accuracy: 0.9209\n",
      "\n"
     ]
    },
    {
     "name": "stdout",
     "output_type": "stream",
     "text": [
      "Epoch 20, Loss 0.0577\n",
      "Training Accuracy: 0.9403, Testing Accuracy: 0.9471\n",
      "\n"
     ]
    },
    {
     "name": "stdout",
     "output_type": "stream",
     "text": [
      "Epoch 30, Loss 0.0452\n",
      "Training Accuracy: 0.9503, Testing Accuracy: 0.9546\n",
      "\n"
     ]
    },
    {
     "name": "stdout",
     "output_type": "stream",
     "text": [
      "Epoch 40, Loss 0.039\n",
      "Training Accuracy: 0.9570, Testing Accuracy: 0.9587\n",
      "\n"
     ]
    },
    {
     "name": "stdout",
     "output_type": "stream",
     "text": [
      "Epoch 50, Loss 0.0352\n",
      "Training Accuracy: 0.9592, Testing Accuracy: 0.9617\n",
      "\n"
     ]
    },
    {
     "name": "stdout",
     "output_type": "stream",
     "text": [
      "Epoch 60, Loss 0.0326\n",
      "Training Accuracy: 0.9616, Testing Accuracy: 0.9657\n",
      "\n"
     ]
    },
    {
     "name": "stdout",
     "output_type": "stream",
     "text": [
      "Epoch 70, Loss 0.0307\n",
      "Training Accuracy: 0.9641, Testing Accuracy: 0.9667\n",
      "\n"
     ]
    },
    {
     "name": "stdout",
     "output_type": "stream",
     "text": [
      "Epoch 80, Loss 0.0292\n",
      "Training Accuracy: 0.9656, Testing Accuracy: 0.9677\n",
      "\n"
     ]
    },
    {
     "name": "stdout",
     "output_type": "stream",
     "text": [
      "Epoch 90, Loss 0.0279\n",
      "Training Accuracy: 0.9664, Testing Accuracy: 0.9693\n",
      "\n"
     ]
    },
    {
     "name": "stdout",
     "output_type": "stream",
     "text": [
      "Epoch 100, Loss 0.0268\n",
      "Training Accuracy: 0.9675, Testing Accuracy: 0.9698\n",
      "\n"
     ]
    },
    {
     "name": "stdout",
     "output_type": "stream",
     "text": [
      "Epoch 110, Loss 0.0259\n",
      "Training Accuracy: 0.9688, Testing Accuracy: 0.9703\n",
      "\n"
     ]
    },
    {
     "name": "stdout",
     "output_type": "stream",
     "text": [
      "Epoch 120, Loss 0.0251\n",
      "Training Accuracy: 0.9696, Testing Accuracy: 0.9703\n",
      "\n"
     ]
    },
    {
     "name": "stdout",
     "output_type": "stream",
     "text": [
      "Epoch 130, Loss 0.0244\n",
      "Training Accuracy: 0.9708, Testing Accuracy: 0.9708\n",
      "\n"
     ]
    },
    {
     "name": "stdout",
     "output_type": "stream",
     "text": [
      "Epoch 140, Loss 0.0237\n",
      "Training Accuracy: 0.9713, Testing Accuracy: 0.9718\n",
      "\n"
     ]
    },
    {
     "name": "stdout",
     "output_type": "stream",
     "text": [
      "Epoch 150, Loss 0.0231\n",
      "Training Accuracy: 0.9721, Testing Accuracy: 0.9723\n",
      "\n"
     ]
    },
    {
     "name": "stdout",
     "output_type": "stream",
     "text": [
      "Epoch 160, Loss 0.0225\n",
      "Training Accuracy: 0.9728, Testing Accuracy: 0.9728\n",
      "\n"
     ]
    },
    {
     "name": "stdout",
     "output_type": "stream",
     "text": [
      "Epoch 170, Loss 0.022\n",
      "Training Accuracy: 0.9732, Testing Accuracy: 0.9728\n",
      "\n"
     ]
    },
    {
     "name": "stdout",
     "output_type": "stream",
     "text": [
      "Epoch 180, Loss 0.0215\n",
      "Training Accuracy: 0.9740, Testing Accuracy: 0.9718\n",
      "\n"
     ]
    },
    {
     "name": "stdout",
     "output_type": "stream",
     "text": [
      "Epoch 190, Loss 0.021\n",
      "Training Accuracy: 0.9750, Testing Accuracy: 0.9733\n",
      "\n"
     ]
    },
    {
     "name": "stdout",
     "output_type": "stream",
     "text": [
      "Epoch 200, Loss 0.0206\n",
      "Training Accuracy: 0.9760, Testing Accuracy: 0.9733\n",
      "\n"
     ]
    },
    {
     "name": "stdout",
     "output_type": "stream",
     "text": [
      "Epoch 210, Loss 0.0202\n",
      "Training Accuracy: 0.9767, Testing Accuracy: 0.9733\n",
      "\n"
     ]
    },
    {
     "name": "stdout",
     "output_type": "stream",
     "text": [
      "Epoch 220, Loss 0.0198\n",
      "Training Accuracy: 0.9776, Testing Accuracy: 0.9733\n",
      "\n"
     ]
    },
    {
     "name": "stdout",
     "output_type": "stream",
     "text": [
      "Epoch 230, Loss 0.0194\n",
      "Training Accuracy: 0.9781, Testing Accuracy: 0.9733\n",
      "\n"
     ]
    },
    {
     "name": "stdout",
     "output_type": "stream",
     "text": [
      "Epoch 240, Loss 0.0191\n",
      "Training Accuracy: 0.9787, Testing Accuracy: 0.9738\n",
      "\n"
     ]
    },
    {
     "data": {
      "text/plain": [
       "0.005731533423559223"
      ]
     },
     "execution_count": 22,
     "metadata": {},
     "output_type": "execute_result"
    }
   ],
   "source": [
    "nn_learner.train_loop(dl)"
   ]
  },
  {
   "cell_type": "code",
   "execution_count": 23,
   "id": "e0163366",
   "metadata": {
    "execution": {
     "iopub.execute_input": "2022-04-27T10:11:51.482912Z",
     "iopub.status.busy": "2022-04-27T10:11:51.482377Z",
     "iopub.status.idle": "2022-04-27T10:12:04.515344Z",
     "shell.execute_reply": "2022-04-27T10:12:04.516078Z"
    },
    "papermill": {
     "duration": 13.075845,
     "end_time": "2022-04-27T10:12:04.516227",
     "exception": false,
     "start_time": "2022-04-27T10:11:51.440382",
     "status": "completed"
    },
    "tags": []
   },
   "outputs": [
    {
     "name": "stdout",
     "output_type": "stream",
     "text": [
      "Epoch 0, Loss 0.248\n",
      "Training Accuracy: 0.6583, Testing Accuracy: 0.6830\n",
      "\n"
     ]
    },
    {
     "name": "stdout",
     "output_type": "stream",
     "text": [
      "Epoch 10, Loss 0.1041\n",
      "Training Accuracy: 0.9120, Testing Accuracy: 0.9289\n",
      "\n"
     ]
    },
    {
     "name": "stdout",
     "output_type": "stream",
     "text": [
      "Epoch 20, Loss 0.0793\n",
      "Training Accuracy: 0.9303, Testing Accuracy: 0.9435\n",
      "\n"
     ]
    },
    {
     "name": "stdout",
     "output_type": "stream",
     "text": [
      "Epoch 30, Loss 0.0681\n",
      "Training Accuracy: 0.9374, Testing Accuracy: 0.9511\n",
      "\n"
     ]
    },
    {
     "name": "stdout",
     "output_type": "stream",
     "text": [
      "Epoch 40, Loss 0.0614\n",
      "Training Accuracy: 0.9427, Testing Accuracy: 0.9531\n",
      "\n"
     ]
    },
    {
     "name": "stdout",
     "output_type": "stream",
     "text": [
      "Epoch 50, Loss 0.0568\n",
      "Training Accuracy: 0.9459, Testing Accuracy: 0.9551\n",
      "\n"
     ]
    },
    {
     "name": "stdout",
     "output_type": "stream",
     "text": [
      "Epoch 60, Loss 0.0535\n",
      "Training Accuracy: 0.9478, Testing Accuracy: 0.9577\n",
      "\n"
     ]
    },
    {
     "name": "stdout",
     "output_type": "stream",
     "text": [
      "Epoch 70, Loss 0.0509\n",
      "Training Accuracy: 0.9498, Testing Accuracy: 0.9597\n",
      "\n"
     ]
    },
    {
     "name": "stdout",
     "output_type": "stream",
     "text": [
      "Epoch 80, Loss 0.0489\n",
      "Training Accuracy: 0.9518, Testing Accuracy: 0.9617\n",
      "\n"
     ]
    },
    {
     "name": "stdout",
     "output_type": "stream",
     "text": [
      "Epoch 90, Loss 0.0472\n",
      "Training Accuracy: 0.9525, Testing Accuracy: 0.9627\n",
      "\n"
     ]
    },
    {
     "name": "stdout",
     "output_type": "stream",
     "text": [
      "Epoch 100, Loss 0.0458\n",
      "Training Accuracy: 0.9539, Testing Accuracy: 0.9637\n",
      "\n"
     ]
    },
    {
     "name": "stdout",
     "output_type": "stream",
     "text": [
      "Epoch 110, Loss 0.0446\n",
      "Training Accuracy: 0.9548, Testing Accuracy: 0.9642\n",
      "\n"
     ]
    },
    {
     "name": "stdout",
     "output_type": "stream",
     "text": [
      "Epoch 120, Loss 0.0435\n",
      "Training Accuracy: 0.9553, Testing Accuracy: 0.9642\n",
      "\n"
     ]
    },
    {
     "name": "stdout",
     "output_type": "stream",
     "text": [
      "Epoch 130, Loss 0.0426\n",
      "Training Accuracy: 0.9559, Testing Accuracy: 0.9652\n",
      "\n"
     ]
    },
    {
     "name": "stdout",
     "output_type": "stream",
     "text": [
      "Epoch 140, Loss 0.0418\n",
      "Training Accuracy: 0.9564, Testing Accuracy: 0.9657\n",
      "\n"
     ]
    },
    {
     "name": "stdout",
     "output_type": "stream",
     "text": [
      "Epoch 150, Loss 0.0411\n",
      "Training Accuracy: 0.9570, Testing Accuracy: 0.9662\n",
      "\n"
     ]
    },
    {
     "name": "stdout",
     "output_type": "stream",
     "text": [
      "Epoch 160, Loss 0.0404\n",
      "Training Accuracy: 0.9578, Testing Accuracy: 0.9667\n",
      "\n"
     ]
    },
    {
     "name": "stdout",
     "output_type": "stream",
     "text": [
      "Epoch 170, Loss 0.0398\n",
      "Training Accuracy: 0.9579, Testing Accuracy: 0.9667\n",
      "\n"
     ]
    },
    {
     "name": "stdout",
     "output_type": "stream",
     "text": [
      "Epoch 180, Loss 0.0392\n",
      "Training Accuracy: 0.9588, Testing Accuracy: 0.9667\n",
      "\n"
     ]
    },
    {
     "name": "stdout",
     "output_type": "stream",
     "text": [
      "Epoch 190, Loss 0.0387\n",
      "Training Accuracy: 0.9589, Testing Accuracy: 0.9667\n",
      "\n"
     ]
    },
    {
     "name": "stdout",
     "output_type": "stream",
     "text": [
      "Epoch 200, Loss 0.0382\n",
      "Training Accuracy: 0.9594, Testing Accuracy: 0.9667\n",
      "\n"
     ]
    },
    {
     "name": "stdout",
     "output_type": "stream",
     "text": [
      "Epoch 210, Loss 0.0378\n",
      "Training Accuracy: 0.9598, Testing Accuracy: 0.9667\n",
      "\n"
     ]
    },
    {
     "name": "stdout",
     "output_type": "stream",
     "text": [
      "Epoch 220, Loss 0.0374\n",
      "Training Accuracy: 0.9603, Testing Accuracy: 0.9672\n",
      "\n"
     ]
    },
    {
     "name": "stdout",
     "output_type": "stream",
     "text": [
      "Epoch 230, Loss 0.037\n",
      "Training Accuracy: 0.9606, Testing Accuracy: 0.9672\n",
      "\n"
     ]
    },
    {
     "name": "stdout",
     "output_type": "stream",
     "text": [
      "Epoch 240, Loss 0.0367\n",
      "Training Accuracy: 0.9609, Testing Accuracy: 0.9672\n",
      "\n"
     ]
    },
    {
     "data": {
      "text/plain": [
       "0.04022983079759072"
      ]
     },
     "execution_count": 23,
     "metadata": {},
     "output_type": "execute_result"
    }
   ],
   "source": [
    "lr_learner.train_loop(dl)"
   ]
  },
  {
   "cell_type": "code",
   "execution_count": 24,
   "id": "ca410940",
   "metadata": {
    "execution": {
     "iopub.execute_input": "2022-04-27T10:12:04.607732Z",
     "iopub.status.busy": "2022-04-27T10:12:04.607196Z",
     "iopub.status.idle": "2022-04-27T10:12:04.823987Z",
     "shell.execute_reply": "2022-04-27T10:12:04.823532Z"
    },
    "papermill": {
     "duration": 0.266212,
     "end_time": "2022-04-27T10:12:04.824106",
     "exception": false,
     "start_time": "2022-04-27T10:12:04.557894",
     "status": "completed"
    },
    "tags": []
   },
   "outputs": [
    {
     "data": {
      "text/plain": [
       "<matplotlib.legend.Legend at 0x7f3742c5cb70>"
      ]
     },
     "execution_count": 24,
     "metadata": {},
     "output_type": "execute_result"
    },
    {
     "data": {
      "image/png": "[encoded data removed]",
      "text/plain": [
       "<Figure size 1080x720 with 1 Axes>"
      ]
     },
     "metadata": {
      "needs_background": "light"
     },
     "output_type": "display_data"
    }
   ],
   "source": [
    "#comparing the results of NN and LR\n",
    "plt.figure(figsize=(15,10))\n",
    "\n",
    "# Neural Network plots\n",
    "plt.plot(acc_nn.accuracies, 'r-', label = \"Training Accuracies - NN\")\n",
    "plt.plot(acc_nn.test_accuracies, 'g-', label = \"Testing Accuracies - NN\")\n",
    "\n",
    "# Logistic Regression plots\n",
    "plt.plot(acc_lr.accuracies, 'k-', label = \"Training Accuracies - LR\")\n",
    "plt.plot(acc_lr.test_accuracies, 'b-', label = \"Testing Accuracies - LR\")\n",
    "plt.legend()"
   ]
  },
  {
   "cell_type": "markdown",
   "id": "80dfb35c",
   "metadata": {
    "papermill": {
     "duration": 0.041825,
     "end_time": "2022-04-27T10:12:04.908782",
     "exception": false,
     "start_time": "2022-04-27T10:12:04.866957",
     "status": "completed"
    },
    "tags": []
   },
   "source": [
    "#### Plotting the outputs of this layer of the NN.\n"
   ]
  },
  {
   "cell_type": "code",
   "execution_count": 25,
   "id": "45eb2ff5",
   "metadata": {
    "execution": {
     "iopub.execute_input": "2022-04-27T10:12:04.997812Z",
     "iopub.status.busy": "2022-04-27T10:12:04.997266Z",
     "iopub.status.idle": "2022-04-27T10:12:05.015421Z",
     "shell.execute_reply": "2022-04-27T10:12:05.015838Z"
    },
    "papermill": {
     "duration": 0.065146,
     "end_time": "2022-04-27T10:12:05.015976",
     "exception": false,
     "start_time": "2022-04-27T10:12:04.950830",
     "status": "completed"
    },
    "tags": []
   },
   "outputs": [],
   "source": [
    "new_model = Model(layers[:-2])\n",
    "testing_plot = new_model(testing_data_x)"
   ]
  },
  {
   "cell_type": "code",
   "execution_count": 26,
   "id": "4c0a5485",
   "metadata": {
    "execution": {
     "iopub.execute_input": "2022-04-27T10:12:05.110446Z",
     "iopub.status.busy": "2022-04-27T10:12:05.105166Z",
     "iopub.status.idle": "2022-04-27T10:12:05.307971Z",
     "shell.execute_reply": "2022-04-27T10:12:05.307483Z"
    },
    "papermill": {
     "duration": 0.249786,
     "end_time": "2022-04-27T10:12:05.308107",
     "exception": false,
     "start_time": "2022-04-27T10:12:05.058321",
     "status": "completed"
    },
    "tags": []
   },
   "outputs": [
    {
     "data": {
      "text/plain": [
       "Text(0.5, 1.0, 'Outputs')"
      ]
     },
     "execution_count": 26,
     "metadata": {},
     "output_type": "execute_result"
    },
    {
     "data": {
      "image/png": "[encoded data removed]",
      "text/plain": [
       "<Figure size 576x504 with 1 Axes>"
      ]
     },
     "metadata": {
      "needs_background": "light"
     },
     "output_type": "display_data"
    }
   ],
   "source": [
    "# Plotting the scatter plot of points and color coding by class\n",
    "plt.figure(figsize=(8,7))\n",
    "plt.scatter(testing_plot[:,0], testing_plot[:,1], alpha = 0.1, c = y_test.ravel());\n",
    "plt.title('Outputs')"
   ]
  },
  {
   "cell_type": "markdown",
   "id": "a74fcf8f",
   "metadata": {
    "papermill": {
     "duration": 0.04413,
     "end_time": "2022-04-27T10:12:05.397139",
     "exception": false,
     "start_time": "2022-04-27T10:12:05.353009",
     "status": "completed"
    },
    "tags": []
   },
   "source": [
    "Probability contours"
   ]
  },
  {
   "cell_type": "code",
   "execution_count": 27,
   "id": "d0afc8e3",
   "metadata": {
    "execution": {
     "iopub.execute_input": "2022-04-27T10:12:05.491911Z",
     "iopub.status.busy": "2022-04-27T10:12:05.491380Z",
     "iopub.status.idle": "2022-04-27T10:12:05.502381Z",
     "shell.execute_reply": "2022-04-27T10:12:05.501937Z"
    },
    "papermill": {
     "duration": 0.061029,
     "end_time": "2022-04-27T10:12:05.502495",
     "exception": false,
     "start_time": "2022-04-27T10:12:05.441466",
     "status": "completed"
    },
    "tags": []
   },
   "outputs": [],
   "source": [
    "model_prob = Model(layers[-2:]) "
   ]
  },
  {
   "cell_type": "code",
   "execution_count": 28,
   "id": "9b96e238",
   "metadata": {
    "execution": {
     "iopub.execute_input": "2022-04-27T10:12:05.627312Z",
     "iopub.status.busy": "2022-04-27T10:12:05.626756Z",
     "iopub.status.idle": "2022-04-27T10:12:05.637575Z",
     "shell.execute_reply": "2022-04-27T10:12:05.638331Z"
    },
    "papermill": {
     "duration": 0.065343,
     "end_time": "2022-04-27T10:12:05.638469",
     "exception": false,
     "start_time": "2022-04-27T10:12:05.573126",
     "status": "completed"
    },
    "tags": []
   },
   "outputs": [],
   "source": [
    "#creating the x and y ranges according to the above generated plot.\n",
    "x_range = np.linspace(-4, 1, 100) \n",
    "y_range = np.linspace(-6, 6, 100) \n",
    "x_grid, y_grid = np.meshgrid(x_range, y_range) # x_grid and y_grig are of size 100 X 100\n",
    "\n",
    "# converting x_grid and y_grid to continuous arrays\n",
    "x_gridflat = np.ravel(x_grid)\n",
    "y_gridflat = np.ravel(y_grid)\n",
    "\n",
    "# The last layer of the current model takes two columns as input. Hence transpose of np.vstack() is required.\n",
    "X = np.vstack((x_gridflat, y_gridflat)).T\n",
    "\n",
    "prob_contour = model_prob(X).reshape(100,100) "
   ]
  },
  {
   "cell_type": "code",
   "execution_count": 29,
   "id": "da72499a",
   "metadata": {
    "execution": {
     "iopub.execute_input": "2022-04-27T10:12:05.739186Z",
     "iopub.status.busy": "2022-04-27T10:12:05.738667Z",
     "iopub.status.idle": "2022-04-27T10:12:05.980787Z",
     "shell.execute_reply": "2022-04-27T10:12:05.980334Z"
    },
    "papermill": {
     "duration": 0.297354,
     "end_time": "2022-04-27T10:12:05.980906",
     "exception": false,
     "start_time": "2022-04-27T10:12:05.683552",
     "status": "completed"
    },
    "tags": []
   },
   "outputs": [
    {
     "data": {
      "image/png": "[encoded data removed]",
      "text/plain": [
       "<Figure size 720x648 with 1 Axes>"
      ]
     },
     "metadata": {
      "needs_background": "light"
     },
     "output_type": "display_data"
    }
   ],
   "source": [
    "plt.figure(figsize=(10,9))\n",
    "plt.scatter(testing_plot[:,0], testing_plot[:,1], alpha = 0.1, c = y_test.ravel())\n",
    "contours = plt.contour(x_grid,y_grid,prob_contour)\n",
    "plt.title('Probability Contours')\n",
    "plt.clabel(contours, inline = True );"
   ]
  },
  {
   "cell_type": "code",
   "execution_count": null,
   "id": "e81b4ac7",
   "metadata": {
    "papermill": {
     "duration": 0.046492,
     "end_time": "2022-04-27T10:12:06.074338",
     "exception": false,
     "start_time": "2022-04-27T10:12:06.027846",
     "status": "completed"
    },
    "tags": []
   },
   "outputs": [],
   "source": []
  }
 ],
 "metadata": {
  "kernelspec": {
   "display_name": "Python 3",
   "language": "python",
   "name": "python3"
  },
  "language_info": {
   "codemirror_mode": {
    "name": "ipython",
    "version": 3
   },
   "file_extension": ".py",
   "mimetype": "text/x-python",
   "name": "python",
   "nbconvert_exporter": "python",
   "pygments_lexer": "ipython3",
   "version": "3.6.15"
  },
  "papermill": {
   "default_parameters": {},
   "duration": 94.004214,
   "end_time": "2022-04-27T10:12:06.539556",
   "environment_variables": {},
   "exception": null,
   "input_path": "2020-08-11-part2.ipynb",
   "output_path": "2020-08-11-part2.ipynb",
   "parameters": {},
   "start_time": "2022-04-27T10:10:32.535342",
   "version": "2.3.3"
  }
 },
 "nbformat": 4,
 "nbformat_minor": 5
}