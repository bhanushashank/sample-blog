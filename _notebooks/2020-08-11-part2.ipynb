{
 "cells": [
  {
   "cell_type": "markdown",
   "id": "98380cd3",
   "metadata": {
    "papermill": {
     "duration": 0.028463,
     "end_time": "2021-12-29T20:08:57.051932",
     "exception": false,
     "start_time": "2021-12-29T20:08:57.023469",
     "status": "completed"
    },
    "tags": []
   },
   "source": [
    "# Distinguish Your Own Digits (DYOD)"
   ]
  },
  {
   "cell_type": "markdown",
   "id": "ef31240d",
   "metadata": {
    "papermill": {
     "duration": 0.023776,
     "end_time": "2021-12-29T20:08:57.100118",
     "exception": false,
     "start_time": "2021-12-29T20:08:57.076342",
     "status": "completed"
    },
    "tags": []
   },
   "source": [
    "You are going to write a classifier that distinguishes between the number 3 and number 8."
   ]
  },
  {
   "cell_type": "code",
   "execution_count": 1,
   "id": "b15c8646",
   "metadata": {
    "execution": {
     "iopub.execute_input": "2021-12-29T20:08:57.158472Z",
     "iopub.status.busy": "2021-12-29T20:08:57.157938Z",
     "iopub.status.idle": "2021-12-29T20:08:57.167590Z",
     "shell.execute_reply": "2021-12-29T20:08:57.168009Z"
    },
    "papermill": {
     "duration": 0.044436,
     "end_time": "2021-12-29T20:08:57.168165",
     "exception": false,
     "start_time": "2021-12-29T20:08:57.123729",
     "status": "completed"
    },
    "tags": []
   },
   "outputs": [],
   "source": [
    "%load_ext autoreload\n",
    "%autoreload 2"
   ]
  },
  {
   "cell_type": "code",
   "execution_count": 2,
   "id": "22ef38dc",
   "metadata": {
    "execution": {
     "iopub.execute_input": "2021-12-29T20:08:57.219706Z",
     "iopub.status.busy": "2021-12-29T20:08:57.219191Z",
     "iopub.status.idle": "2021-12-29T20:08:57.785810Z",
     "shell.execute_reply": "2021-12-29T20:08:57.785225Z"
    },
    "papermill": {
     "duration": 0.593981,
     "end_time": "2021-12-29T20:08:57.785953",
     "exception": false,
     "start_time": "2021-12-29T20:08:57.191972",
     "status": "completed"
    },
    "tags": []
   },
   "outputs": [],
   "source": [
    "%matplotlib inline\n",
    "import numpy as np\n",
    "import matplotlib.pyplot as plt\n",
    "import pandas as pd"
   ]
  },
  {
   "cell_type": "markdown",
   "id": "ba036198",
   "metadata": {
    "papermill": {
     "duration": 0.023958,
     "end_time": "2021-12-29T20:08:57.833772",
     "exception": false,
     "start_time": "2021-12-29T20:08:57.809814",
     "status": "completed"
    },
    "tags": []
   },
   "source": [
    "From the command line run `pip install mnist`. This is a library that will help you bring down the mnist dataset. If you run this from a notebook, you need to put  `!pip install mnist` in a cell by itself."
   ]
  },
  {
   "cell_type": "code",
   "execution_count": 3,
   "id": "bb6ad8a1",
   "metadata": {
    "execution": {
     "iopub.execute_input": "2021-12-29T20:08:57.885888Z",
     "iopub.status.busy": "2021-12-29T20:08:57.885360Z",
     "iopub.status.idle": "2021-12-29T20:08:59.617906Z",
     "shell.execute_reply": "2021-12-29T20:08:59.617367Z"
    },
    "papermill": {
     "duration": 1.760158,
     "end_time": "2021-12-29T20:08:59.618046",
     "exception": false,
     "start_time": "2021-12-29T20:08:57.857888",
     "status": "completed"
    },
    "tags": []
   },
   "outputs": [
    {
     "name": "stdout",
     "output_type": "stream",
     "text": [
      "Collecting mnist\r\n"
     ]
    },
    {
     "name": "stdout",
     "output_type": "stream",
     "text": [
      "  Downloading mnist-0.2.2-py2.py3-none-any.whl (3.5 kB)\r\n",
      "Requirement already satisfied: numpy in /opt/hostedtoolcache/Python/3.6.15/x64/lib/python3.6/site-packages (from mnist) (1.19.5)\r\n"
     ]
    },
    {
     "name": "stdout",
     "output_type": "stream",
     "text": [
      "Installing collected packages: mnist\r\n",
      "Successfully installed mnist-0.2.2\r\n"
     ]
    }
   ],
   "source": [
    "!pip install mnist"
   ]
  },
  {
   "cell_type": "markdown",
   "id": "69df9c9a",
   "metadata": {
    "papermill": {
     "duration": 0.024674,
     "end_time": "2021-12-29T20:08:59.668023",
     "exception": false,
     "start_time": "2021-12-29T20:08:59.643349",
     "status": "completed"
    },
    "tags": []
   },
   "source": [
    "## Preparing the Data"
   ]
  },
  {
   "cell_type": "code",
   "execution_count": 4,
   "id": "7f69d806",
   "metadata": {
    "execution": {
     "iopub.execute_input": "2021-12-29T20:08:59.720872Z",
     "iopub.status.busy": "2021-12-29T20:08:59.720364Z",
     "iopub.status.idle": "2021-12-29T20:08:59.734395Z",
     "shell.execute_reply": "2021-12-29T20:08:59.733983Z"
    },
    "papermill": {
     "duration": 0.042039,
     "end_time": "2021-12-29T20:08:59.734505",
     "exception": false,
     "start_time": "2021-12-29T20:08:59.692466",
     "status": "completed"
    },
    "tags": []
   },
   "outputs": [],
   "source": [
    "import mnist"
   ]
  },
  {
   "cell_type": "code",
   "execution_count": 5,
   "id": "a411e44f",
   "metadata": {
    "execution": {
     "iopub.execute_input": "2021-12-29T20:08:59.790550Z",
     "iopub.status.busy": "2021-12-29T20:08:59.790041Z",
     "iopub.status.idle": "2021-12-29T20:09:00.412525Z",
     "shell.execute_reply": "2021-12-29T20:09:00.411998Z"
    },
    "papermill": {
     "duration": 0.653508,
     "end_time": "2021-12-29T20:09:00.412666",
     "exception": false,
     "start_time": "2021-12-29T20:08:59.759158",
     "status": "completed"
    },
    "tags": []
   },
   "outputs": [],
   "source": [
    "train_images = mnist.train_images()\n",
    "train_labels = mnist.train_labels()"
   ]
  },
  {
   "cell_type": "code",
   "execution_count": 6,
   "id": "dceab3a5",
   "metadata": {
    "execution": {
     "iopub.execute_input": "2021-12-29T20:09:00.471562Z",
     "iopub.status.busy": "2021-12-29T20:09:00.468947Z",
     "iopub.status.idle": "2021-12-29T20:09:00.481849Z",
     "shell.execute_reply": "2021-12-29T20:09:00.482258Z"
    },
    "papermill": {
     "duration": 0.044489,
     "end_time": "2021-12-29T20:09:00.482385",
     "exception": false,
     "start_time": "2021-12-29T20:09:00.437896",
     "status": "completed"
    },
    "tags": []
   },
   "outputs": [
    {
     "data": {
      "text/plain": [
       "((60000, 28, 28), (60000,))"
      ]
     },
     "execution_count": 6,
     "metadata": {},
     "output_type": "execute_result"
    }
   ],
   "source": [
    "train_images.shape, train_labels.shape"
   ]
  },
  {
   "cell_type": "code",
   "execution_count": 7,
   "id": "f50dc2bb",
   "metadata": {
    "execution": {
     "iopub.execute_input": "2021-12-29T20:09:00.545998Z",
     "iopub.status.busy": "2021-12-29T20:09:00.535183Z",
     "iopub.status.idle": "2021-12-29T20:09:00.744182Z",
     "shell.execute_reply": "2021-12-29T20:09:00.743620Z"
    },
    "papermill": {
     "duration": 0.237182,
     "end_time": "2021-12-29T20:09:00.744315",
     "exception": false,
     "start_time": "2021-12-29T20:09:00.507133",
     "status": "completed"
    },
    "tags": []
   },
   "outputs": [],
   "source": [
    "test_images = mnist.test_images()\n",
    "test_labels = mnist.test_labels()"
   ]
  },
  {
   "cell_type": "code",
   "execution_count": 8,
   "id": "fc38cf1b",
   "metadata": {
    "execution": {
     "iopub.execute_input": "2021-12-29T20:09:00.798175Z",
     "iopub.status.busy": "2021-12-29T20:09:00.797655Z",
     "iopub.status.idle": "2021-12-29T20:09:00.810378Z",
     "shell.execute_reply": "2021-12-29T20:09:00.810864Z"
    },
    "papermill": {
     "duration": 0.040834,
     "end_time": "2021-12-29T20:09:00.810991",
     "exception": false,
     "start_time": "2021-12-29T20:09:00.770157",
     "status": "completed"
    },
    "tags": []
   },
   "outputs": [
    {
     "data": {
      "text/plain": [
       "((10000, 28, 28), (10000,))"
      ]
     },
     "execution_count": 8,
     "metadata": {},
     "output_type": "execute_result"
    }
   ],
   "source": [
    "test_images.shape, test_labels.shape"
   ]
  },
  {
   "cell_type": "code",
   "execution_count": 9,
   "id": "f9ed8fe0",
   "metadata": {
    "execution": {
     "iopub.execute_input": "2021-12-29T20:09:00.867097Z",
     "iopub.status.busy": "2021-12-29T20:09:00.866586Z",
     "iopub.status.idle": "2021-12-29T20:09:01.004909Z",
     "shell.execute_reply": "2021-12-29T20:09:01.005680Z"
    },
    "papermill": {
     "duration": 0.169989,
     "end_time": "2021-12-29T20:09:01.005829",
     "exception": false,
     "start_time": "2021-12-29T20:09:00.835840",
     "status": "completed"
    },
    "tags": []
   },
   "outputs": [
    {
     "name": "stdout",
     "output_type": "stream",
     "text": [
      "2\n"
     ]
    },
    {
     "data": {
      "text/plain": [
       "<matplotlib.image.AxesImage at 0x7f742cd0f518>"
      ]
     },
     "execution_count": 9,
     "metadata": {},
     "output_type": "execute_result"
    },
    {
     "data": {
      "image/png": "[encoded data removed]",
      "text/plain": [
       "<Figure size 432x288 with 1 Axes>"
      ]
     },
     "metadata": {
      "needs_background": "light"
     },
     "output_type": "display_data"
    }
   ],
   "source": [
    "image_index = 7776 # You may select anything up to 60,000\n",
    "print(train_labels[image_index]) \n",
    "plt.imshow(train_images[image_index], cmap='Greys')"
   ]
  },
  {
   "cell_type": "markdown",
   "id": "a8d2388d",
   "metadata": {
    "papermill": {
     "duration": 0.026826,
     "end_time": "2021-12-29T20:09:01.060364",
     "exception": false,
     "start_time": "2021-12-29T20:09:01.033538",
     "status": "completed"
    },
    "tags": []
   },
   "source": [
    "## Filter data to get 3 and 8 out"
   ]
  },
  {
   "cell_type": "code",
   "execution_count": 10,
   "id": "776f7fc7",
   "metadata": {
    "execution": {
     "iopub.execute_input": "2021-12-29T20:09:01.126752Z",
     "iopub.status.busy": "2021-12-29T20:09:01.126215Z",
     "iopub.status.idle": "2021-12-29T20:09:01.134637Z",
     "shell.execute_reply": "2021-12-29T20:09:01.135383Z"
    },
    "papermill": {
     "duration": 0.048671,
     "end_time": "2021-12-29T20:09:01.135522",
     "exception": false,
     "start_time": "2021-12-29T20:09:01.086851",
     "status": "completed"
    },
    "tags": []
   },
   "outputs": [],
   "source": [
    "train_filter = np.where((train_labels == 3 ) | (train_labels == 8))\n",
    "test_filter = np.where((test_labels == 3) | (test_labels == 8))\n",
    "X_train, y_train = train_images[train_filter], train_labels[train_filter]\n",
    "X_test, y_test = test_images[test_filter], test_labels[test_filter]"
   ]
  },
  {
   "cell_type": "markdown",
   "id": "948f0b7e",
   "metadata": {
    "papermill": {
     "duration": 0.026087,
     "end_time": "2021-12-29T20:09:01.188994",
     "exception": false,
     "start_time": "2021-12-29T20:09:01.162907",
     "status": "completed"
    },
    "tags": []
   },
   "source": [
    "We normalize the pizel values in the 0 to 1 range"
   ]
  },
  {
   "cell_type": "code",
   "execution_count": 11,
   "id": "ee4c2166",
   "metadata": {
    "execution": {
     "iopub.execute_input": "2021-12-29T20:09:01.255051Z",
     "iopub.status.busy": "2021-12-29T20:09:01.254523Z",
     "iopub.status.idle": "2021-12-29T20:09:01.291044Z",
     "shell.execute_reply": "2021-12-29T20:09:01.291931Z"
    },
    "papermill": {
     "duration": 0.076866,
     "end_time": "2021-12-29T20:09:01.292087",
     "exception": false,
     "start_time": "2021-12-29T20:09:01.215221",
     "status": "completed"
    },
    "tags": []
   },
   "outputs": [],
   "source": [
    "X_train = X_train/255.\n",
    "X_test = X_test/255."
   ]
  },
  {
   "cell_type": "markdown",
   "id": "ddcf4fab",
   "metadata": {
    "papermill": {
     "duration": 0.029783,
     "end_time": "2021-12-29T20:09:01.348787",
     "exception": false,
     "start_time": "2021-12-29T20:09:01.319004",
     "status": "completed"
    },
    "tags": []
   },
   "source": [
    "And setup the labels as 1 (when the digit is 3) and 0 (when the digit is 8)"
   ]
  },
  {
   "cell_type": "code",
   "execution_count": 12,
   "id": "7dc908f2",
   "metadata": {
    "execution": {
     "iopub.execute_input": "2021-12-29T20:09:01.406563Z",
     "iopub.status.busy": "2021-12-29T20:09:01.406035Z",
     "iopub.status.idle": "2021-12-29T20:09:01.416698Z",
     "shell.execute_reply": "2021-12-29T20:09:01.416253Z"
    },
    "papermill": {
     "duration": 0.041752,
     "end_time": "2021-12-29T20:09:01.416806",
     "exception": false,
     "start_time": "2021-12-29T20:09:01.375054",
     "status": "completed"
    },
    "tags": []
   },
   "outputs": [],
   "source": [
    "y_train = 1*(y_train==3)\n",
    "y_test = 1*(y_test==3)"
   ]
  },
  {
   "cell_type": "code",
   "execution_count": 13,
   "id": "01e4e969",
   "metadata": {
    "execution": {
     "iopub.execute_input": "2021-12-29T20:09:01.473854Z",
     "iopub.status.busy": "2021-12-29T20:09:01.473336Z",
     "iopub.status.idle": "2021-12-29T20:09:01.486259Z",
     "shell.execute_reply": "2021-12-29T20:09:01.485824Z"
    },
    "papermill": {
     "duration": 0.043493,
     "end_time": "2021-12-29T20:09:01.486369",
     "exception": false,
     "start_time": "2021-12-29T20:09:01.442876",
     "status": "completed"
    },
    "tags": []
   },
   "outputs": [
    {
     "data": {
      "text/plain": [
       "((11982, 28, 28), (1984, 28, 28))"
      ]
     },
     "execution_count": 13,
     "metadata": {},
     "output_type": "execute_result"
    }
   ],
   "source": [
    "X_train.shape, X_test.shape"
   ]
  },
  {
   "cell_type": "markdown",
   "id": "5ccf3f85",
   "metadata": {
    "papermill": {
     "duration": 0.026631,
     "end_time": "2021-12-29T20:09:01.539467",
     "exception": false,
     "start_time": "2021-12-29T20:09:01.512836",
     "status": "completed"
    },
    "tags": []
   },
   "source": [
    "We reshape the data to flatten the image pixels into a set of features or co-variates:"
   ]
  },
  {
   "cell_type": "code",
   "execution_count": 14,
   "id": "5286a4a3",
   "metadata": {
    "execution": {
     "iopub.execute_input": "2021-12-29T20:09:01.603182Z",
     "iopub.status.busy": "2021-12-29T20:09:01.599848Z",
     "iopub.status.idle": "2021-12-29T20:09:01.613143Z",
     "shell.execute_reply": "2021-12-29T20:09:01.612701Z"
    },
    "papermill": {
     "duration": 0.0471,
     "end_time": "2021-12-29T20:09:01.613253",
     "exception": false,
     "start_time": "2021-12-29T20:09:01.566153",
     "status": "completed"
    },
    "tags": []
   },
   "outputs": [
    {
     "data": {
      "text/plain": [
       "((11982, 784), (1984, 784))"
      ]
     },
     "execution_count": 14,
     "metadata": {},
     "output_type": "execute_result"
    }
   ],
   "source": [
    "X_train = X_train.reshape(X_train.shape[0], -1)\n",
    "X_test = X_test.reshape(X_test.shape[0], -1)\n",
    "X_train.shape, X_test.shape"
   ]
  },
  {
   "cell_type": "code",
   "execution_count": 15,
   "id": "73c5f88a",
   "metadata": {
    "execution": {
     "iopub.execute_input": "2021-12-29T20:09:01.670770Z",
     "iopub.status.busy": "2021-12-29T20:09:01.670248Z",
     "iopub.status.idle": "2021-12-29T20:09:01.689342Z",
     "shell.execute_reply": "2021-12-29T20:09:01.688902Z"
    },
    "papermill": {
     "duration": 0.049594,
     "end_time": "2021-12-29T20:09:01.689459",
     "exception": false,
     "start_time": "2021-12-29T20:09:01.639865",
     "status": "completed"
    },
    "tags": []
   },
   "outputs": [],
   "source": [
    "#Impoting functions from 'Kudzu'\n",
    "from kudzu.model import Model\n",
    "from kudzu.train import Learner\n",
    "from kudzu.optim import GD\n",
    "from kudzu.data import Data, Sampler,Dataloader\n",
    "\n",
    "from kudzu.callbacks import AccCallback\n",
    "from kudzu.callbacks import ClfCallback\n",
    "\n",
    "from kudzu.loss import MSE\n",
    "\n",
    "from kudzu.layer import Sigmoid,Relu\n",
    "from kudzu.layer import Affine"
   ]
  },
  {
   "cell_type": "markdown",
   "id": "bc01172a",
   "metadata": {
    "papermill": {
     "duration": 0.026664,
     "end_time": "2021-12-29T20:09:01.742756",
     "exception": false,
     "start_time": "2021-12-29T20:09:01.716092",
     "status": "completed"
    },
    "tags": []
   },
   "source": [
    "### Let us create a `Config` class, to store important parameters. \n",
    "This class essentially plays the role of a dictionary."
   ]
  },
  {
   "cell_type": "code",
   "execution_count": 16,
   "id": "978281aa",
   "metadata": {
    "execution": {
     "iopub.execute_input": "2021-12-29T20:09:01.799853Z",
     "iopub.status.busy": "2021-12-29T20:09:01.799331Z",
     "iopub.status.idle": "2021-12-29T20:09:01.811339Z",
     "shell.execute_reply": "2021-12-29T20:09:01.810902Z"
    },
    "papermill": {
     "duration": 0.042078,
     "end_time": "2021-12-29T20:09:01.811450",
     "exception": false,
     "start_time": "2021-12-29T20:09:01.769372",
     "status": "completed"
    },
    "tags": []
   },
   "outputs": [],
   "source": [
    "class Config:\n",
    "    pass\n",
    "config = Config()\n",
    "config.lr = 0.001\n",
    "config.num_epochs = 250\n",
    "config.bs = 50"
   ]
  },
  {
   "cell_type": "markdown",
   "id": "1385fa59",
   "metadata": {
    "papermill": {
     "duration": 0.026643,
     "end_time": "2021-12-29T20:09:01.864835",
     "exception": false,
     "start_time": "2021-12-29T20:09:01.838192",
     "status": "completed"
    },
    "tags": []
   },
   "source": [
    "### Running Models with the Training data\n",
    "Details about the network layers:\n",
    "- A first affine layer has 784 inputs and does 100 affine transforms. These are followed by a Relu\n",
    "- A second affine layer has 100 inputs from the 100 activations of the past layer, and does 100 affine transforms. These are followed by a Relu\n",
    "- A third affine layer has 100 activations and does 2 affine transformations to create an embedding for visualization. There is no non-linearity here.\n",
    "- A final \"logistic regression\" which has an affine transform from 2 inputs to 1 output, which is squeezed through a sigmoid.\n"
   ]
  },
  {
   "cell_type": "code",
   "execution_count": 17,
   "id": "2b9c66db",
   "metadata": {
    "execution": {
     "iopub.execute_input": "2021-12-29T20:09:01.922388Z",
     "iopub.status.busy": "2021-12-29T20:09:01.921866Z",
     "iopub.status.idle": "2021-12-29T20:09:01.933809Z",
     "shell.execute_reply": "2021-12-29T20:09:01.933358Z"
    },
    "papermill": {
     "duration": 0.042381,
     "end_time": "2021-12-29T20:09:01.933923",
     "exception": false,
     "start_time": "2021-12-29T20:09:01.891542",
     "status": "completed"
    },
    "tags": []
   },
   "outputs": [],
   "source": [
    "data = Data(X_train, y_train.reshape(-1,1))\n",
    "sampler = Sampler(data, config.bs, shuffle=True)\n",
    "\n",
    "dl = Dataloader(data, sampler)\n",
    "\n",
    "opt = GD(config.lr)\n",
    "loss = MSE()"
   ]
  },
  {
   "cell_type": "code",
   "execution_count": 18,
   "id": "b275e4c2",
   "metadata": {
    "execution": {
     "iopub.execute_input": "2021-12-29T20:09:02.003142Z",
     "iopub.status.busy": "2021-12-29T20:09:02.002594Z",
     "iopub.status.idle": "2021-12-29T20:09:02.009008Z",
     "shell.execute_reply": "2021-12-29T20:09:02.009425Z"
    },
    "papermill": {
     "duration": 0.048752,
     "end_time": "2021-12-29T20:09:02.009567",
     "exception": false,
     "start_time": "2021-12-29T20:09:01.960815",
     "status": "completed"
    },
    "tags": []
   },
   "outputs": [],
   "source": [
    "training_data_x = X_train\n",
    "testing_data_x = X_test\n",
    "training_data_y = y_train.reshape(-1,1)\n",
    "testing_data_y = y_test.reshape(-1,1)"
   ]
  },
  {
   "cell_type": "code",
   "execution_count": 19,
   "id": "76951160",
   "metadata": {
    "execution": {
     "iopub.execute_input": "2021-12-29T20:09:02.070158Z",
     "iopub.status.busy": "2021-12-29T20:09:02.067762Z",
     "iopub.status.idle": "2021-12-29T20:09:02.082309Z",
     "shell.execute_reply": "2021-12-29T20:09:02.081859Z"
    },
    "papermill": {
     "duration": 0.045916,
     "end_time": "2021-12-29T20:09:02.082427",
     "exception": false,
     "start_time": "2021-12-29T20:09:02.036511",
     "status": "completed"
    },
    "tags": []
   },
   "outputs": [
    {
     "name": "stdout",
     "output_type": "stream",
     "text": [
      "xavier\n",
      "xavier\n",
      "xavier\n",
      "xavier\n",
      "xavier\n"
     ]
    }
   ],
   "source": [
    "layers = [Affine(\"first\", 784, 100), Relu(\"first\"), Affine(\"second\", 100, 100), Relu(\"second\"), Affine(\"third\", 100, 2), Affine(\"last\", 2, 1), Sigmoid(\"last\")]\n",
    "model_nn = Model(layers)\n",
    "model_lr = Model([Affine(\"logits\", 784, 1), Sigmoid(\"sigmoid\")])"
   ]
  },
  {
   "cell_type": "code",
   "execution_count": 20,
   "id": "6eede77a",
   "metadata": {
    "execution": {
     "iopub.execute_input": "2021-12-29T20:09:02.146042Z",
     "iopub.status.busy": "2021-12-29T20:09:02.139966Z",
     "iopub.status.idle": "2021-12-29T20:09:02.154523Z",
     "shell.execute_reply": "2021-12-29T20:09:02.154079Z"
    },
    "papermill": {
     "duration": 0.04502,
     "end_time": "2021-12-29T20:09:02.154640",
     "exception": false,
     "start_time": "2021-12-29T20:09:02.109620",
     "status": "completed"
    },
    "tags": []
   },
   "outputs": [],
   "source": [
    "nn_learner = Learner(loss, model_nn, opt, config.num_epochs)\n",
    "acc_nn = ClfCallback(nn_learner, config.bs, training_data_x , testing_data_x, training_data_y, testing_data_y)\n",
    "nn_learner.set_callbacks([acc_nn])"
   ]
  },
  {
   "cell_type": "code",
   "execution_count": 21,
   "id": "877b6cc7",
   "metadata": {
    "execution": {
     "iopub.execute_input": "2021-12-29T20:09:02.214621Z",
     "iopub.status.busy": "2021-12-29T20:09:02.212501Z",
     "iopub.status.idle": "2021-12-29T20:09:02.225349Z",
     "shell.execute_reply": "2021-12-29T20:09:02.224904Z"
    },
    "papermill": {
     "duration": 0.043825,
     "end_time": "2021-12-29T20:09:02.225469",
     "exception": false,
     "start_time": "2021-12-29T20:09:02.181644",
     "status": "completed"
    },
    "tags": []
   },
   "outputs": [],
   "source": [
    "lr_learner = Learner(loss, model_lr, opt, config.num_epochs)\n",
    "acc_lr = ClfCallback(lr_learner, config.bs, training_data_x , testing_data_x, training_data_y, testing_data_y)\n",
    "lr_learner.set_callbacks([acc_lr])"
   ]
  },
  {
   "cell_type": "code",
   "execution_count": 22,
   "id": "d9b133c3",
   "metadata": {
    "execution": {
     "iopub.execute_input": "2021-12-29T20:09:02.282790Z",
     "iopub.status.busy": "2021-12-29T20:09:02.282285Z",
     "iopub.status.idle": "2021-12-29T20:10:16.288842Z",
     "shell.execute_reply": "2021-12-29T20:10:16.289624Z"
    },
    "papermill": {
     "duration": 74.037342,
     "end_time": "2021-12-29T20:10:16.289773",
     "exception": false,
     "start_time": "2021-12-29T20:09:02.252431",
     "status": "completed"
    },
    "tags": []
   },
   "outputs": [
    {
     "name": "stdout",
     "output_type": "stream",
     "text": [
      "Epoch 0, Loss 0.2531\n",
      "Training Accuracy: 0.4529, Testing Accuracy: 0.4350\n",
      "\n"
     ]
    },
    {
     "name": "stdout",
     "output_type": "stream",
     "text": [
      "Epoch 10, Loss 0.2345\n",
      "Training Accuracy: 0.7688, Testing Accuracy: 0.7540\n",
      "\n"
     ]
    },
    {
     "name": "stdout",
     "output_type": "stream",
     "text": [
      "Epoch 20, Loss 0.1661\n",
      "Training Accuracy: 0.8736, Testing Accuracy: 0.8886\n",
      "\n"
     ]
    },
    {
     "name": "stdout",
     "output_type": "stream",
     "text": [
      "Epoch 30, Loss 0.0862\n",
      "Training Accuracy: 0.9119, Testing Accuracy: 0.9224\n",
      "\n"
     ]
    },
    {
     "name": "stdout",
     "output_type": "stream",
     "text": [
      "Epoch 40, Loss 0.059\n",
      "Training Accuracy: 0.9359, Testing Accuracy: 0.9430\n",
      "\n"
     ]
    },
    {
     "name": "stdout",
     "output_type": "stream",
     "text": [
      "Epoch 50, Loss 0.047\n",
      "Training Accuracy: 0.9468, Testing Accuracy: 0.9546\n",
      "\n"
     ]
    },
    {
     "name": "stdout",
     "output_type": "stream",
     "text": [
      "Epoch 60, Loss 0.0407\n",
      "Training Accuracy: 0.9526, Testing Accuracy: 0.9597\n",
      "\n"
     ]
    },
    {
     "name": "stdout",
     "output_type": "stream",
     "text": [
      "Epoch 70, Loss 0.0368\n",
      "Training Accuracy: 0.9564, Testing Accuracy: 0.9617\n",
      "\n"
     ]
    },
    {
     "name": "stdout",
     "output_type": "stream",
     "text": [
      "Epoch 80, Loss 0.0342\n",
      "Training Accuracy: 0.9599, Testing Accuracy: 0.9642\n",
      "\n"
     ]
    },
    {
     "name": "stdout",
     "output_type": "stream",
     "text": [
      "Epoch 90, Loss 0.0323\n",
      "Training Accuracy: 0.9614, Testing Accuracy: 0.9647\n",
      "\n"
     ]
    },
    {
     "name": "stdout",
     "output_type": "stream",
     "text": [
      "Epoch 100, Loss 0.0307\n",
      "Training Accuracy: 0.9640, Testing Accuracy: 0.9672\n",
      "\n"
     ]
    },
    {
     "name": "stdout",
     "output_type": "stream",
     "text": [
      "Epoch 110, Loss 0.0295\n",
      "Training Accuracy: 0.9654, Testing Accuracy: 0.9667\n",
      "\n"
     ]
    },
    {
     "name": "stdout",
     "output_type": "stream",
     "text": [
      "Epoch 120, Loss 0.0284\n",
      "Training Accuracy: 0.9661, Testing Accuracy: 0.9682\n",
      "\n"
     ]
    },
    {
     "name": "stdout",
     "output_type": "stream",
     "text": [
      "Epoch 130, Loss 0.0274\n",
      "Training Accuracy: 0.9671, Testing Accuracy: 0.9682\n",
      "\n"
     ]
    },
    {
     "name": "stdout",
     "output_type": "stream",
     "text": [
      "Epoch 140, Loss 0.0266\n",
      "Training Accuracy: 0.9680, Testing Accuracy: 0.9688\n",
      "\n"
     ]
    },
    {
     "name": "stdout",
     "output_type": "stream",
     "text": [
      "Epoch 150, Loss 0.0259\n",
      "Training Accuracy: 0.9689, Testing Accuracy: 0.9693\n",
      "\n"
     ]
    },
    {
     "name": "stdout",
     "output_type": "stream",
     "text": [
      "Epoch 160, Loss 0.0252\n",
      "Training Accuracy: 0.9694, Testing Accuracy: 0.9708\n",
      "\n"
     ]
    },
    {
     "name": "stdout",
     "output_type": "stream",
     "text": [
      "Epoch 170, Loss 0.0246\n",
      "Training Accuracy: 0.9711, Testing Accuracy: 0.9713\n",
      "\n"
     ]
    },
    {
     "name": "stdout",
     "output_type": "stream",
     "text": [
      "Epoch 180, Loss 0.024\n",
      "Training Accuracy: 0.9714, Testing Accuracy: 0.9703\n",
      "\n"
     ]
    },
    {
     "name": "stdout",
     "output_type": "stream",
     "text": [
      "Epoch 190, Loss 0.0235\n",
      "Training Accuracy: 0.9723, Testing Accuracy: 0.9703\n",
      "\n"
     ]
    },
    {
     "name": "stdout",
     "output_type": "stream",
     "text": [
      "Epoch 200, Loss 0.0229\n",
      "Training Accuracy: 0.9726, Testing Accuracy: 0.9713\n",
      "\n"
     ]
    },
    {
     "name": "stdout",
     "output_type": "stream",
     "text": [
      "Epoch 210, Loss 0.0224\n",
      "Training Accuracy: 0.9734, Testing Accuracy: 0.9718\n",
      "\n"
     ]
    },
    {
     "name": "stdout",
     "output_type": "stream",
     "text": [
      "Epoch 220, Loss 0.022\n",
      "Training Accuracy: 0.9740, Testing Accuracy: 0.9728\n",
      "\n"
     ]
    },
    {
     "name": "stdout",
     "output_type": "stream",
     "text": [
      "Epoch 230, Loss 0.0215\n",
      "Training Accuracy: 0.9749, Testing Accuracy: 0.9728\n",
      "\n"
     ]
    },
    {
     "name": "stdout",
     "output_type": "stream",
     "text": [
      "Epoch 240, Loss 0.0211\n",
      "Training Accuracy: 0.9751, Testing Accuracy: 0.9733\n",
      "\n"
     ]
    },
    {
     "data": {
      "text/plain": [
       "0.039454642829976225"
      ]
     },
     "execution_count": 22,
     "metadata": {},
     "output_type": "execute_result"
    }
   ],
   "source": [
    "nn_learner.train_loop(dl)"
   ]
  },
  {
   "cell_type": "code",
   "execution_count": 23,
   "id": "e0163366",
   "metadata": {
    "execution": {
     "iopub.execute_input": "2021-12-29T20:10:16.367132Z",
     "iopub.status.busy": "2021-12-29T20:10:16.366601Z",
     "iopub.status.idle": "2021-12-29T20:10:29.724487Z",
     "shell.execute_reply": "2021-12-29T20:10:29.725227Z"
    },
    "papermill": {
     "duration": 13.400855,
     "end_time": "2021-12-29T20:10:29.725396",
     "exception": false,
     "start_time": "2021-12-29T20:10:16.324541",
     "status": "completed"
    },
    "tags": []
   },
   "outputs": [
    {
     "name": "stdout",
     "output_type": "stream",
     "text": [
      "Epoch 0, Loss 0.2224\n",
      "Training Accuracy: 0.7320, Testing Accuracy: 0.7490\n",
      "\n"
     ]
    },
    {
     "name": "stdout",
     "output_type": "stream",
     "text": [
      "Epoch 10, Loss 0.108\n",
      "Training Accuracy: 0.8877, Testing Accuracy: 0.8982\n",
      "\n"
     ]
    },
    {
     "name": "stdout",
     "output_type": "stream",
     "text": [
      "Epoch 20, Loss 0.0833\n",
      "Training Accuracy: 0.9143, Testing Accuracy: 0.9269\n",
      "\n"
     ]
    },
    {
     "name": "stdout",
     "output_type": "stream",
     "text": [
      "Epoch 30, Loss 0.0713\n",
      "Training Accuracy: 0.9279, Testing Accuracy: 0.9400\n",
      "\n"
     ]
    },
    {
     "name": "stdout",
     "output_type": "stream",
     "text": [
      "Epoch 40, Loss 0.064\n",
      "Training Accuracy: 0.9366, Testing Accuracy: 0.9481\n",
      "\n"
     ]
    },
    {
     "name": "stdout",
     "output_type": "stream",
     "text": [
      "Epoch 50, Loss 0.059\n",
      "Training Accuracy: 0.9417, Testing Accuracy: 0.9541\n",
      "\n"
     ]
    },
    {
     "name": "stdout",
     "output_type": "stream",
     "text": [
      "Epoch 60, Loss 0.0554\n",
      "Training Accuracy: 0.9448, Testing Accuracy: 0.9561\n",
      "\n"
     ]
    },
    {
     "name": "stdout",
     "output_type": "stream",
     "text": [
      "Epoch 70, Loss 0.0526\n",
      "Training Accuracy: 0.9469, Testing Accuracy: 0.9612\n",
      "\n"
     ]
    },
    {
     "name": "stdout",
     "output_type": "stream",
     "text": [
      "Epoch 80, Loss 0.0503\n",
      "Training Accuracy: 0.9485, Testing Accuracy: 0.9617\n",
      "\n"
     ]
    },
    {
     "name": "stdout",
     "output_type": "stream",
     "text": [
      "Epoch 90, Loss 0.0485\n",
      "Training Accuracy: 0.9497, Testing Accuracy: 0.9642\n",
      "\n"
     ]
    },
    {
     "name": "stdout",
     "output_type": "stream",
     "text": [
      "Epoch 100, Loss 0.047\n",
      "Training Accuracy: 0.9506, Testing Accuracy: 0.9657\n",
      "\n"
     ]
    },
    {
     "name": "stdout",
     "output_type": "stream",
     "text": [
      "Epoch 110, Loss 0.0456\n",
      "Training Accuracy: 0.9518, Testing Accuracy: 0.9657\n",
      "\n"
     ]
    },
    {
     "name": "stdout",
     "output_type": "stream",
     "text": [
      "Epoch 120, Loss 0.0445\n",
      "Training Accuracy: 0.9526, Testing Accuracy: 0.9662\n",
      "\n"
     ]
    },
    {
     "name": "stdout",
     "output_type": "stream",
     "text": [
      "Epoch 130, Loss 0.0435\n",
      "Training Accuracy: 0.9541, Testing Accuracy: 0.9667\n",
      "\n"
     ]
    },
    {
     "name": "stdout",
     "output_type": "stream",
     "text": [
      "Epoch 140, Loss 0.0426\n",
      "Training Accuracy: 0.9552, Testing Accuracy: 0.9667\n",
      "\n"
     ]
    },
    {
     "name": "stdout",
     "output_type": "stream",
     "text": [
      "Epoch 150, Loss 0.0418\n",
      "Training Accuracy: 0.9560, Testing Accuracy: 0.9672\n",
      "\n"
     ]
    },
    {
     "name": "stdout",
     "output_type": "stream",
     "text": [
      "Epoch 160, Loss 0.0411\n",
      "Training Accuracy: 0.9568, Testing Accuracy: 0.9672\n",
      "\n"
     ]
    },
    {
     "name": "stdout",
     "output_type": "stream",
     "text": [
      "Epoch 170, Loss 0.0405\n",
      "Training Accuracy: 0.9572, Testing Accuracy: 0.9677\n",
      "\n"
     ]
    },
    {
     "name": "stdout",
     "output_type": "stream",
     "text": [
      "Epoch 180, Loss 0.0399\n",
      "Training Accuracy: 0.9584, Testing Accuracy: 0.9672\n",
      "\n"
     ]
    },
    {
     "name": "stdout",
     "output_type": "stream",
     "text": [
      "Epoch 190, Loss 0.0393\n",
      "Training Accuracy: 0.9589, Testing Accuracy: 0.9682\n",
      "\n"
     ]
    },
    {
     "name": "stdout",
     "output_type": "stream",
     "text": [
      "Epoch 200, Loss 0.0388\n",
      "Training Accuracy: 0.9596, Testing Accuracy: 0.9682\n",
      "\n"
     ]
    },
    {
     "name": "stdout",
     "output_type": "stream",
     "text": [
      "Epoch 210, Loss 0.0384\n",
      "Training Accuracy: 0.9597, Testing Accuracy: 0.9688\n",
      "\n"
     ]
    },
    {
     "name": "stdout",
     "output_type": "stream",
     "text": [
      "Epoch 220, Loss 0.0379\n",
      "Training Accuracy: 0.9600, Testing Accuracy: 0.9688\n",
      "\n"
     ]
    },
    {
     "name": "stdout",
     "output_type": "stream",
     "text": [
      "Epoch 230, Loss 0.0375\n",
      "Training Accuracy: 0.9603, Testing Accuracy: 0.9688\n",
      "\n"
     ]
    },
    {
     "name": "stdout",
     "output_type": "stream",
     "text": [
      "Epoch 240, Loss 0.0372\n",
      "Training Accuracy: 0.9606, Testing Accuracy: 0.9682\n",
      "\n"
     ]
    },
    {
     "data": {
      "text/plain": [
       "0.028583417205784133"
      ]
     },
     "execution_count": 23,
     "metadata": {},
     "output_type": "execute_result"
    }
   ],
   "source": [
    "lr_learner.train_loop(dl)"
   ]
  },
  {
   "cell_type": "code",
   "execution_count": 24,
   "id": "ca410940",
   "metadata": {
    "execution": {
     "iopub.execute_input": "2021-12-29T20:10:29.818634Z",
     "iopub.status.busy": "2021-12-29T20:10:29.818103Z",
     "iopub.status.idle": "2021-12-29T20:10:30.038160Z",
     "shell.execute_reply": "2021-12-29T20:10:30.037698Z"
    },
    "papermill": {
     "duration": 0.271798,
     "end_time": "2021-12-29T20:10:30.038279",
     "exception": false,
     "start_time": "2021-12-29T20:10:29.766481",
     "status": "completed"
    },
    "tags": []
   },
   "outputs": [
    {
     "data": {
      "text/plain": [
       "<matplotlib.legend.Legend at 0x7f742c8ebcc0>"
      ]
     },
     "execution_count": 24,
     "metadata": {},
     "output_type": "execute_result"
    },
    {
     "data": {
      "image/png": "[encoded data removed]",
      "text/plain": [
       "<Figure size 1080x720 with 1 Axes>"
      ]
     },
     "metadata": {
      "needs_background": "light"
     },
     "output_type": "display_data"
    }
   ],
   "source": [
    "#comparing the results of NN and LR\n",
    "plt.figure(figsize=(15,10))\n",
    "\n",
    "# Neural Network plots\n",
    "plt.plot(acc_nn.accuracies, 'r-', label = \"Training Accuracies - NN\")\n",
    "plt.plot(acc_nn.test_accuracies, 'g-', label = \"Testing Accuracies - NN\")\n",
    "\n",
    "# Logistic Regression plots\n",
    "plt.plot(acc_lr.accuracies, 'k-', label = \"Training Accuracies - LR\")\n",
    "plt.plot(acc_lr.test_accuracies, 'b-', label = \"Testing Accuracies - LR\")\n",
    "plt.legend()"
   ]
  },
  {
   "cell_type": "markdown",
   "id": "80dfb35c",
   "metadata": {
    "papermill": {
     "duration": 0.041825,
     "end_time": "2021-12-29T20:10:30.122148",
     "exception": false,
     "start_time": "2021-12-29T20:10:30.080323",
     "status": "completed"
    },
    "tags": []
   },
   "source": [
    "#### Plotting the outputs of this layer of the NN.\n"
   ]
  },
  {
   "cell_type": "code",
   "execution_count": 25,
   "id": "45eb2ff5",
   "metadata": {
    "execution": {
     "iopub.execute_input": "2021-12-29T20:10:30.211582Z",
     "iopub.status.busy": "2021-12-29T20:10:30.209793Z",
     "iopub.status.idle": "2021-12-29T20:10:30.228763Z",
     "shell.execute_reply": "2021-12-29T20:10:30.228301Z"
    },
    "papermill": {
     "duration": 0.065072,
     "end_time": "2021-12-29T20:10:30.228879",
     "exception": false,
     "start_time": "2021-12-29T20:10:30.163807",
     "status": "completed"
    },
    "tags": []
   },
   "outputs": [],
   "source": [
    "new_model = Model(layers[:-2])\n",
    "testing_plot = new_model(testing_data_x)"
   ]
  },
  {
   "cell_type": "code",
   "execution_count": 26,
   "id": "4c0a5485",
   "metadata": {
    "execution": {
     "iopub.execute_input": "2021-12-29T20:10:30.327770Z",
     "iopub.status.busy": "2021-12-29T20:10:30.324270Z",
     "iopub.status.idle": "2021-12-29T20:10:30.511974Z",
     "shell.execute_reply": "2021-12-29T20:10:30.511590Z"
    },
    "papermill": {
     "duration": 0.240903,
     "end_time": "2021-12-29T20:10:30.512085",
     "exception": false,
     "start_time": "2021-12-29T20:10:30.271182",
     "status": "completed"
    },
    "tags": []
   },
   "outputs": [
    {
     "data": {
      "text/plain": [
       "Text(0.5, 1.0, 'Outputs')"
      ]
     },
     "execution_count": 26,
     "metadata": {},
     "output_type": "execute_result"
    },
    {
     "data": {
      "image/png": "[encoded data removed]",
      "text/plain": [
       "<Figure size 576x504 with 1 Axes>"
      ]
     },
     "metadata": {
      "needs_background": "light"
     },
     "output_type": "display_data"
    }
   ],
   "source": [
    "# Plotting the scatter plot of points and color coding by class\n",
    "plt.figure(figsize=(8,7))\n",
    "plt.scatter(testing_plot[:,0], testing_plot[:,1], alpha = 0.1, c = y_test.ravel());\n",
    "plt.title('Outputs')"
   ]
  },
  {
   "cell_type": "markdown",
   "id": "a74fcf8f",
   "metadata": {
    "papermill": {
     "duration": 0.039384,
     "end_time": "2021-12-29T20:10:30.591099",
     "exception": false,
     "start_time": "2021-12-29T20:10:30.551715",
     "status": "completed"
    },
    "tags": []
   },
   "source": [
    "Probability contours"
   ]
  },
  {
   "cell_type": "code",
   "execution_count": 27,
   "id": "d0afc8e3",
   "metadata": {
    "execution": {
     "iopub.execute_input": "2021-12-29T20:10:30.673854Z",
     "iopub.status.busy": "2021-12-29T20:10:30.673210Z",
     "iopub.status.idle": "2021-12-29T20:10:30.683862Z",
     "shell.execute_reply": "2021-12-29T20:10:30.683435Z"
    },
    "papermill": {
     "duration": 0.053528,
     "end_time": "2021-12-29T20:10:30.683975",
     "exception": false,
     "start_time": "2021-12-29T20:10:30.630447",
     "status": "completed"
    },
    "tags": []
   },
   "outputs": [],
   "source": [
    "model_prob = Model(layers[-2:]) "
   ]
  },
  {
   "cell_type": "code",
   "execution_count": 28,
   "id": "9b96e238",
   "metadata": {
    "execution": {
     "iopub.execute_input": "2021-12-29T20:10:30.780518Z",
     "iopub.status.busy": "2021-12-29T20:10:30.779993Z",
     "iopub.status.idle": "2021-12-29T20:10:30.790617Z",
     "shell.execute_reply": "2021-12-29T20:10:30.790971Z"
    },
    "papermill": {
     "duration": 0.06256,
     "end_time": "2021-12-29T20:10:30.791092",
     "exception": false,
     "start_time": "2021-12-29T20:10:30.728532",
     "status": "completed"
    },
    "tags": []
   },
   "outputs": [],
   "source": [
    "#creating the x and y ranges according to the above generated plot.\n",
    "x_range = np.linspace(-4, 1, 100) \n",
    "y_range = np.linspace(-6, 6, 100) \n",
    "x_grid, y_grid = np.meshgrid(x_range, y_range) # x_grid and y_grig are of size 100 X 100\n",
    "\n",
    "# converting x_grid and y_grid to continuous arrays\n",
    "x_gridflat = np.ravel(x_grid)\n",
    "y_gridflat = np.ravel(y_grid)\n",
    "\n",
    "# The last layer of the current model takes two columns as input. Hence transpose of np.vstack() is required.\n",
    "X = np.vstack((x_gridflat, y_gridflat)).T\n",
    "\n",
    "prob_contour = model_prob(X).reshape(100,100) "
   ]
  },
  {
   "cell_type": "code",
   "execution_count": 29,
   "id": "da72499a",
   "metadata": {
    "execution": {
     "iopub.execute_input": "2021-12-29T20:10:30.882504Z",
     "iopub.status.busy": "2021-12-29T20:10:30.882047Z",
     "iopub.status.idle": "2021-12-29T20:10:31.099041Z",
     "shell.execute_reply": "2021-12-29T20:10:31.098607Z"
    },
    "papermill": {
     "duration": 0.268143,
     "end_time": "2021-12-29T20:10:31.099162",
     "exception": false,
     "start_time": "2021-12-29T20:10:30.831019",
     "status": "completed"
    },
    "tags": []
   },
   "outputs": [
    {
     "data": {
      "image/png": "[encoded data removed]",
      "text/plain": [
       "<Figure size 720x648 with 1 Axes>"
      ]
     },
     "metadata": {
      "needs_background": "light"
     },
     "output_type": "display_data"
    }
   ],
   "source": [
    "plt.figure(figsize=(10,9))\n",
    "plt.scatter(testing_plot[:,0], testing_plot[:,1], alpha = 0.1, c = y_test.ravel())\n",
    "contours = plt.contour(x_grid,y_grid,prob_contour)\n",
    "plt.title('Probability Contours')\n",
    "plt.clabel(contours, inline = True );"
   ]
  },
  {
   "cell_type": "code",
   "execution_count": null,
   "id": "e81b4ac7",
   "metadata": {
    "papermill": {
     "duration": 0.046857,
     "end_time": "2021-12-29T20:10:31.218396",
     "exception": false,
     "start_time": "2021-12-29T20:10:31.171539",
     "status": "completed"
    },
    "tags": []
   },
   "outputs": [],
   "source": []
  }
 ],
 "metadata": {
  "kernelspec": {
   "display_name": "Python 3",
   "language": "python",
   "name": "python3"
  },
  "language_info": {
   "codemirror_mode": {
    "name": "ipython",
    "version": 3
   },
   "file_extension": ".py",
   "mimetype": "text/x-python",
   "name": "python",
   "nbconvert_exporter": "python",
   "pygments_lexer": "ipython3",
   "version": "3.6.15"
  },
  "papermill": {
   "default_parameters": {},
   "duration": 95.567215,
   "end_time": "2021-12-29T20:10:31.673913",
   "environment_variables": {},
   "exception": null,
   "input_path": "2020-08-11-part2.ipynb",
   "output_path": "2020-08-11-part2.ipynb",
   "parameters": {},
   "start_time": "2021-12-29T20:08:56.106698",
   "version": "2.3.3"
  }
 },
 "nbformat": 4,
 "nbformat_minor": 5
}