{
 "cells": [
  {
   "cell_type": "markdown",
   "id": "98380cd3",
   "metadata": {
    "papermill": {
     "duration": 0.026879,
     "end_time": "2021-09-10T00:22:16.578680",
     "exception": false,
     "start_time": "2021-09-10T00:22:16.551801",
     "status": "completed"
    },
    "tags": []
   },
   "source": [
    "# Distinguish Your Own Digits (DYOD)"
   ]
  },
  {
   "cell_type": "markdown",
   "id": "ef31240d",
   "metadata": {
    "papermill": {
     "duration": 0.021263,
     "end_time": "2021-09-10T00:22:16.621532",
     "exception": false,
     "start_time": "2021-09-10T00:22:16.600269",
     "status": "completed"
    },
    "tags": []
   },
   "source": [
    "You are going to write a classifier that distinguishes between the number 3 and number 8."
   ]
  },
  {
   "cell_type": "code",
   "execution_count": 1,
   "id": "b15c8646",
   "metadata": {
    "execution": {
     "iopub.execute_input": "2021-09-10T00:22:16.674536Z",
     "iopub.status.busy": "2021-09-10T00:22:16.674071Z",
     "iopub.status.idle": "2021-09-10T00:22:16.684416Z",
     "shell.execute_reply": "2021-09-10T00:22:16.684038Z"
    },
    "papermill": {
     "duration": 0.04196,
     "end_time": "2021-09-10T00:22:16.684532",
     "exception": false,
     "start_time": "2021-09-10T00:22:16.642572",
     "status": "completed"
    },
    "tags": []
   },
   "outputs": [],
   "source": [
    "%load_ext autoreload\n",
    "%autoreload 2"
   ]
  },
  {
   "cell_type": "code",
   "execution_count": 2,
   "id": "22ef38dc",
   "metadata": {
    "execution": {
     "iopub.execute_input": "2021-09-10T00:22:16.730328Z",
     "iopub.status.busy": "2021-09-10T00:22:16.729872Z",
     "iopub.status.idle": "2021-09-10T00:22:17.258793Z",
     "shell.execute_reply": "2021-09-10T00:22:17.258278Z"
    },
    "papermill": {
     "duration": 0.553288,
     "end_time": "2021-09-10T00:22:17.258925",
     "exception": false,
     "start_time": "2021-09-10T00:22:16.705637",
     "status": "completed"
    },
    "tags": []
   },
   "outputs": [],
   "source": [
    "%matplotlib inline\n",
    "import numpy as np\n",
    "import matplotlib.pyplot as plt\n",
    "import pandas as pd"
   ]
  },
  {
   "cell_type": "markdown",
   "id": "ba036198",
   "metadata": {
    "papermill": {
     "duration": 0.022019,
     "end_time": "2021-09-10T00:22:17.302580",
     "exception": false,
     "start_time": "2021-09-10T00:22:17.280561",
     "status": "completed"
    },
    "tags": []
   },
   "source": [
    "From the command line run `pip install mnist`. This is a library that will help you bring down the mnist dataset. If you run this from a notebook, you need to put  `!pip install mnist` in a cell by itself."
   ]
  },
  {
   "cell_type": "code",
   "execution_count": 3,
   "id": "bb6ad8a1",
   "metadata": {
    "execution": {
     "iopub.execute_input": "2021-09-10T00:22:17.358867Z",
     "iopub.status.busy": "2021-09-10T00:22:17.358411Z",
     "iopub.status.idle": "2021-09-10T00:22:19.031246Z",
     "shell.execute_reply": "2021-09-10T00:22:19.031980Z"
    },
    "papermill": {
     "duration": 1.708526,
     "end_time": "2021-09-10T00:22:19.032141",
     "exception": false,
     "start_time": "2021-09-10T00:22:17.323615",
     "status": "completed"
    },
    "tags": []
   },
   "outputs": [
    {
     "name": "stdout",
     "output_type": "stream",
     "text": [
      "Collecting mnist\r\n"
     ]
    },
    {
     "name": "stdout",
     "output_type": "stream",
     "text": [
      "  Downloading mnist-0.2.2-py2.py3-none-any.whl (3.5 kB)\r\n",
      "Requirement already satisfied: numpy in /opt/hostedtoolcache/Python/3.6.14/x64/lib/python3.6/site-packages (from mnist) (1.19.5)\r\n"
     ]
    },
    {
     "name": "stdout",
     "output_type": "stream",
     "text": [
      "Installing collected packages: mnist\r\n",
      "Successfully installed mnist-0.2.2\r\n"
     ]
    }
   ],
   "source": [
    "!pip install mnist"
   ]
  },
  {
   "cell_type": "markdown",
   "id": "69df9c9a",
   "metadata": {
    "papermill": {
     "duration": 0.024927,
     "end_time": "2021-09-10T00:22:19.082032",
     "exception": false,
     "start_time": "2021-09-10T00:22:19.057105",
     "status": "completed"
    },
    "tags": []
   },
   "source": [
    "## Preparing the Data"
   ]
  },
  {
   "cell_type": "code",
   "execution_count": 4,
   "id": "7f69d806",
   "metadata": {
    "execution": {
     "iopub.execute_input": "2021-09-10T00:22:19.135873Z",
     "iopub.status.busy": "2021-09-10T00:22:19.135038Z",
     "iopub.status.idle": "2021-09-10T00:22:19.148520Z",
     "shell.execute_reply": "2021-09-10T00:22:19.148060Z"
    },
    "papermill": {
     "duration": 0.04191,
     "end_time": "2021-09-10T00:22:19.148638",
     "exception": false,
     "start_time": "2021-09-10T00:22:19.106728",
     "status": "completed"
    },
    "tags": []
   },
   "outputs": [],
   "source": [
    "import mnist"
   ]
  },
  {
   "cell_type": "code",
   "execution_count": 5,
   "id": "a411e44f",
   "metadata": {
    "execution": {
     "iopub.execute_input": "2021-09-10T00:22:19.202392Z",
     "iopub.status.busy": "2021-09-10T00:22:19.201881Z",
     "iopub.status.idle": "2021-09-10T00:22:19.773656Z",
     "shell.execute_reply": "2021-09-10T00:22:19.773111Z"
    },
    "papermill": {
     "duration": 0.600261,
     "end_time": "2021-09-10T00:22:19.773790",
     "exception": false,
     "start_time": "2021-09-10T00:22:19.173529",
     "status": "completed"
    },
    "tags": []
   },
   "outputs": [],
   "source": [
    "train_images = mnist.train_images()\n",
    "train_labels = mnist.train_labels()"
   ]
  },
  {
   "cell_type": "code",
   "execution_count": 6,
   "id": "dceab3a5",
   "metadata": {
    "execution": {
     "iopub.execute_input": "2021-09-10T00:22:19.828592Z",
     "iopub.status.busy": "2021-09-10T00:22:19.828083Z",
     "iopub.status.idle": "2021-09-10T00:22:19.842351Z",
     "shell.execute_reply": "2021-09-10T00:22:19.841925Z"
    },
    "papermill": {
     "duration": 0.042904,
     "end_time": "2021-09-10T00:22:19.842462",
     "exception": false,
     "start_time": "2021-09-10T00:22:19.799558",
     "status": "completed"
    },
    "tags": []
   },
   "outputs": [
    {
     "data": {
      "text/plain": [
       "((60000, 28, 28), (60000,))"
      ]
     },
     "execution_count": 6,
     "metadata": {},
     "output_type": "execute_result"
    }
   ],
   "source": [
    "train_images.shape, train_labels.shape"
   ]
  },
  {
   "cell_type": "code",
   "execution_count": 7,
   "id": "f50dc2bb",
   "metadata": {
    "execution": {
     "iopub.execute_input": "2021-09-10T00:22:19.896182Z",
     "iopub.status.busy": "2021-09-10T00:22:19.895680Z",
     "iopub.status.idle": "2021-09-10T00:22:20.093662Z",
     "shell.execute_reply": "2021-09-10T00:22:20.093124Z"
    },
    "papermill": {
     "duration": 0.22649,
     "end_time": "2021-09-10T00:22:20.093793",
     "exception": false,
     "start_time": "2021-09-10T00:22:19.867303",
     "status": "completed"
    },
    "tags": []
   },
   "outputs": [],
   "source": [
    "test_images = mnist.test_images()\n",
    "test_labels = mnist.test_labels()"
   ]
  },
  {
   "cell_type": "code",
   "execution_count": 8,
   "id": "fc38cf1b",
   "metadata": {
    "execution": {
     "iopub.execute_input": "2021-09-10T00:22:20.146898Z",
     "iopub.status.busy": "2021-09-10T00:22:20.146394Z",
     "iopub.status.idle": "2021-09-10T00:22:20.159971Z",
     "shell.execute_reply": "2021-09-10T00:22:20.160445Z"
    },
    "papermill": {
     "duration": 0.04132,
     "end_time": "2021-09-10T00:22:20.160578",
     "exception": false,
     "start_time": "2021-09-10T00:22:20.119258",
     "status": "completed"
    },
    "tags": []
   },
   "outputs": [
    {
     "data": {
      "text/plain": [
       "((10000, 28, 28), (10000,))"
      ]
     },
     "execution_count": 8,
     "metadata": {},
     "output_type": "execute_result"
    }
   ],
   "source": [
    "test_images.shape, test_labels.shape"
   ]
  },
  {
   "cell_type": "code",
   "execution_count": 9,
   "id": "f9ed8fe0",
   "metadata": {
    "execution": {
     "iopub.execute_input": "2021-09-10T00:22:20.223845Z",
     "iopub.status.busy": "2021-09-10T00:22:20.220984Z",
     "iopub.status.idle": "2021-09-10T00:22:20.354573Z",
     "shell.execute_reply": "2021-09-10T00:22:20.354989Z"
    },
    "papermill": {
     "duration": 0.169286,
     "end_time": "2021-09-10T00:22:20.355154",
     "exception": false,
     "start_time": "2021-09-10T00:22:20.185868",
     "status": "completed"
    },
    "tags": []
   },
   "outputs": [
    {
     "name": "stdout",
     "output_type": "stream",
     "text": [
      "2\n"
     ]
    },
    {
     "data": {
      "text/plain": [
       "<matplotlib.image.AxesImage at 0x7f34ae672e80>"
      ]
     },
     "execution_count": 9,
     "metadata": {},
     "output_type": "execute_result"
    },
    {
     "data": {
      "image/png": "[encoded data removed]",
      "text/plain": [
       "<Figure size 432x288 with 1 Axes>"
      ]
     },
     "metadata": {
      "needs_background": "light"
     },
     "output_type": "display_data"
    }
   ],
   "source": [
    "image_index = 7776 # You may select anything up to 60,000\n",
    "print(train_labels[image_index]) \n",
    "plt.imshow(train_images[image_index], cmap='Greys')"
   ]
  },
  {
   "cell_type": "markdown",
   "id": "a8d2388d",
   "metadata": {
    "papermill": {
     "duration": 0.026262,
     "end_time": "2021-09-10T00:22:20.407778",
     "exception": false,
     "start_time": "2021-09-10T00:22:20.381516",
     "status": "completed"
    },
    "tags": []
   },
   "source": [
    "## Filter data to get 3 and 8 out"
   ]
  },
  {
   "cell_type": "code",
   "execution_count": 10,
   "id": "776f7fc7",
   "metadata": {
    "execution": {
     "iopub.execute_input": "2021-09-10T00:22:20.473127Z",
     "iopub.status.busy": "2021-09-10T00:22:20.464144Z",
     "iopub.status.idle": "2021-09-10T00:22:20.485943Z",
     "shell.execute_reply": "2021-09-10T00:22:20.485501Z"
    },
    "papermill": {
     "duration": 0.052024,
     "end_time": "2021-09-10T00:22:20.486061",
     "exception": false,
     "start_time": "2021-09-10T00:22:20.434037",
     "status": "completed"
    },
    "tags": []
   },
   "outputs": [],
   "source": [
    "train_filter = np.where((train_labels == 3 ) | (train_labels == 8))\n",
    "test_filter = np.where((test_labels == 3) | (test_labels == 8))\n",
    "X_train, y_train = train_images[train_filter], train_labels[train_filter]\n",
    "X_test, y_test = test_images[test_filter], test_labels[test_filter]"
   ]
  },
  {
   "cell_type": "markdown",
   "id": "948f0b7e",
   "metadata": {
    "papermill": {
     "duration": 0.025994,
     "end_time": "2021-09-10T00:22:20.538341",
     "exception": false,
     "start_time": "2021-09-10T00:22:20.512347",
     "status": "completed"
    },
    "tags": []
   },
   "source": [
    "We normalize the pizel values in the 0 to 1 range"
   ]
  },
  {
   "cell_type": "code",
   "execution_count": 11,
   "id": "ee4c2166",
   "metadata": {
    "execution": {
     "iopub.execute_input": "2021-09-10T00:22:20.606113Z",
     "iopub.status.busy": "2021-09-10T00:22:20.602802Z",
     "iopub.status.idle": "2021-09-10T00:22:20.644868Z",
     "shell.execute_reply": "2021-09-10T00:22:20.644366Z"
    },
    "papermill": {
     "duration": 0.080668,
     "end_time": "2021-09-10T00:22:20.644994",
     "exception": false,
     "start_time": "2021-09-10T00:22:20.564326",
     "status": "completed"
    },
    "tags": []
   },
   "outputs": [],
   "source": [
    "X_train = X_train/255.\n",
    "X_test = X_test/255."
   ]
  },
  {
   "cell_type": "markdown",
   "id": "ddcf4fab",
   "metadata": {
    "papermill": {
     "duration": 0.02605,
     "end_time": "2021-09-10T00:22:20.697543",
     "exception": false,
     "start_time": "2021-09-10T00:22:20.671493",
     "status": "completed"
    },
    "tags": []
   },
   "source": [
    "And setup the labels as 1 (when the digit is 3) and 0 (when the digit is 8)"
   ]
  },
  {
   "cell_type": "code",
   "execution_count": 12,
   "id": "7dc908f2",
   "metadata": {
    "execution": {
     "iopub.execute_input": "2021-09-10T00:22:20.754370Z",
     "iopub.status.busy": "2021-09-10T00:22:20.753865Z",
     "iopub.status.idle": "2021-09-10T00:22:20.765192Z",
     "shell.execute_reply": "2021-09-10T00:22:20.764764Z"
    },
    "papermill": {
     "duration": 0.041579,
     "end_time": "2021-09-10T00:22:20.765299",
     "exception": false,
     "start_time": "2021-09-10T00:22:20.723720",
     "status": "completed"
    },
    "tags": []
   },
   "outputs": [],
   "source": [
    "y_train = 1*(y_train==3)\n",
    "y_test = 1*(y_test==3)"
   ]
  },
  {
   "cell_type": "code",
   "execution_count": 13,
   "id": "01e4e969",
   "metadata": {
    "execution": {
     "iopub.execute_input": "2021-09-10T00:22:20.830155Z",
     "iopub.status.busy": "2021-09-10T00:22:20.827815Z",
     "iopub.status.idle": "2021-09-10T00:22:20.836459Z",
     "shell.execute_reply": "2021-09-10T00:22:20.836055Z"
    },
    "papermill": {
     "duration": 0.045234,
     "end_time": "2021-09-10T00:22:20.836573",
     "exception": false,
     "start_time": "2021-09-10T00:22:20.791339",
     "status": "completed"
    },
    "tags": []
   },
   "outputs": [
    {
     "data": {
      "text/plain": [
       "((11982, 28, 28), (1984, 28, 28))"
      ]
     },
     "execution_count": 13,
     "metadata": {},
     "output_type": "execute_result"
    }
   ],
   "source": [
    "X_train.shape, X_test.shape"
   ]
  },
  {
   "cell_type": "markdown",
   "id": "5ccf3f85",
   "metadata": {
    "papermill": {
     "duration": 0.026263,
     "end_time": "2021-09-10T00:22:20.889291",
     "exception": false,
     "start_time": "2021-09-10T00:22:20.863028",
     "status": "completed"
    },
    "tags": []
   },
   "source": [
    "We reshape the data to flatten the image pixels into a set of features or co-variates:"
   ]
  },
  {
   "cell_type": "code",
   "execution_count": 14,
   "id": "5286a4a3",
   "metadata": {
    "execution": {
     "iopub.execute_input": "2021-09-10T00:22:20.946003Z",
     "iopub.status.busy": "2021-09-10T00:22:20.945501Z",
     "iopub.status.idle": "2021-09-10T00:22:20.958393Z",
     "shell.execute_reply": "2021-09-10T00:22:20.958821Z"
    },
    "papermill": {
     "duration": 0.043288,
     "end_time": "2021-09-10T00:22:20.958945",
     "exception": false,
     "start_time": "2021-09-10T00:22:20.915657",
     "status": "completed"
    },
    "tags": []
   },
   "outputs": [
    {
     "data": {
      "text/plain": [
       "((11982, 784), (1984, 784))"
      ]
     },
     "execution_count": 14,
     "metadata": {},
     "output_type": "execute_result"
    }
   ],
   "source": [
    "X_train = X_train.reshape(X_train.shape[0], -1)\n",
    "X_test = X_test.reshape(X_test.shape[0], -1)\n",
    "X_train.shape, X_test.shape"
   ]
  },
  {
   "cell_type": "code",
   "execution_count": 15,
   "id": "73c5f88a",
   "metadata": {
    "execution": {
     "iopub.execute_input": "2021-09-10T00:22:21.024009Z",
     "iopub.status.busy": "2021-09-10T00:22:21.020733Z",
     "iopub.status.idle": "2021-09-10T00:22:21.036012Z",
     "shell.execute_reply": "2021-09-10T00:22:21.035606Z"
    },
    "papermill": {
     "duration": 0.050509,
     "end_time": "2021-09-10T00:22:21.036122",
     "exception": false,
     "start_time": "2021-09-10T00:22:20.985613",
     "status": "completed"
    },
    "tags": []
   },
   "outputs": [],
   "source": [
    "#Impoting functions from 'Kudzu'\n",
    "from kudzu.model import Model\n",
    "from kudzu.train import Learner\n",
    "from kudzu.optim import GD\n",
    "from kudzu.data import Data, Sampler,Dataloader\n",
    "\n",
    "from kudzu.callbacks import AccCallback\n",
    "from kudzu.callbacks import ClfCallback\n",
    "\n",
    "from kudzu.loss import MSE\n",
    "\n",
    "from kudzu.layer import Sigmoid,Relu\n",
    "from kudzu.layer import Affine"
   ]
  },
  {
   "cell_type": "markdown",
   "id": "bc01172a",
   "metadata": {
    "papermill": {
     "duration": 0.026597,
     "end_time": "2021-09-10T00:22:21.089434",
     "exception": false,
     "start_time": "2021-09-10T00:22:21.062837",
     "status": "completed"
    },
    "tags": []
   },
   "source": [
    "### Let us create a `Config` class, to store important parameters. \n",
    "This class essentially plays the role of a dictionary."
   ]
  },
  {
   "cell_type": "code",
   "execution_count": 16,
   "id": "978281aa",
   "metadata": {
    "execution": {
     "iopub.execute_input": "2021-09-10T00:22:21.147473Z",
     "iopub.status.busy": "2021-09-10T00:22:21.146930Z",
     "iopub.status.idle": "2021-09-10T00:22:21.157871Z",
     "shell.execute_reply": "2021-09-10T00:22:21.158297Z"
    },
    "papermill": {
     "duration": 0.042386,
     "end_time": "2021-09-10T00:22:21.158423",
     "exception": false,
     "start_time": "2021-09-10T00:22:21.116037",
     "status": "completed"
    },
    "tags": []
   },
   "outputs": [],
   "source": [
    "class Config:\n",
    "    pass\n",
    "config = Config()\n",
    "config.lr = 0.001\n",
    "config.num_epochs = 250\n",
    "config.bs = 50"
   ]
  },
  {
   "cell_type": "markdown",
   "id": "1385fa59",
   "metadata": {
    "papermill": {
     "duration": 0.026734,
     "end_time": "2021-09-10T00:22:21.211980",
     "exception": false,
     "start_time": "2021-09-10T00:22:21.185246",
     "status": "completed"
    },
    "tags": []
   },
   "source": [
    "### Running Models with the Training data\n",
    "Details about the network layers:\n",
    "- A first affine layer has 784 inputs and does 100 affine transforms. These are followed by a Relu\n",
    "- A second affine layer has 100 inputs from the 100 activations of the past layer, and does 100 affine transforms. These are followed by a Relu\n",
    "- A third affine layer has 100 activations and does 2 affine transformations to create an embedding for visualization. There is no non-linearity here.\n",
    "- A final \"logistic regression\" which has an affine transform from 2 inputs to 1 output, which is squeezed through a sigmoid.\n"
   ]
  },
  {
   "cell_type": "code",
   "execution_count": 17,
   "id": "2b9c66db",
   "metadata": {
    "execution": {
     "iopub.execute_input": "2021-09-10T00:22:21.269427Z",
     "iopub.status.busy": "2021-09-10T00:22:21.268900Z",
     "iopub.status.idle": "2021-09-10T00:22:21.281388Z",
     "shell.execute_reply": "2021-09-10T00:22:21.281800Z"
    },
    "papermill": {
     "duration": 0.04328,
     "end_time": "2021-09-10T00:22:21.281930",
     "exception": false,
     "start_time": "2021-09-10T00:22:21.238650",
     "status": "completed"
    },
    "tags": []
   },
   "outputs": [],
   "source": [
    "data = Data(X_train, y_train.reshape(-1,1))\n",
    "sampler = Sampler(data, config.bs, shuffle=True)\n",
    "\n",
    "dl = Dataloader(data, sampler)\n",
    "\n",
    "opt = GD(config.lr)\n",
    "loss = MSE()"
   ]
  },
  {
   "cell_type": "code",
   "execution_count": 18,
   "id": "b275e4c2",
   "metadata": {
    "execution": {
     "iopub.execute_input": "2021-09-10T00:22:21.346417Z",
     "iopub.status.busy": "2021-09-10T00:22:21.345886Z",
     "iopub.status.idle": "2021-09-10T00:22:21.353101Z",
     "shell.execute_reply": "2021-09-10T00:22:21.353479Z"
    },
    "papermill": {
     "duration": 0.044725,
     "end_time": "2021-09-10T00:22:21.353612",
     "exception": false,
     "start_time": "2021-09-10T00:22:21.308887",
     "status": "completed"
    },
    "tags": []
   },
   "outputs": [],
   "source": [
    "training_data_x = X_train\n",
    "testing_data_x = X_test\n",
    "training_data_y = y_train.reshape(-1,1)\n",
    "testing_data_y = y_test.reshape(-1,1)"
   ]
  },
  {
   "cell_type": "code",
   "execution_count": 19,
   "id": "76951160",
   "metadata": {
    "execution": {
     "iopub.execute_input": "2021-09-10T00:22:21.416610Z",
     "iopub.status.busy": "2021-09-10T00:22:21.410889Z",
     "iopub.status.idle": "2021-09-10T00:22:21.428928Z",
     "shell.execute_reply": "2021-09-10T00:22:21.428259Z"
    },
    "papermill": {
     "duration": 0.048695,
     "end_time": "2021-09-10T00:22:21.429046",
     "exception": false,
     "start_time": "2021-09-10T00:22:21.380351",
     "status": "completed"
    },
    "tags": []
   },
   "outputs": [
    {
     "name": "stdout",
     "output_type": "stream",
     "text": [
      "xavier\n",
      "xavier\n",
      "xavier\n",
      "xavier\n",
      "xavier\n"
     ]
    }
   ],
   "source": [
    "layers = [Affine(\"first\", 784, 100), Relu(\"first\"), Affine(\"second\", 100, 100), Relu(\"second\"), Affine(\"third\", 100, 2), Affine(\"last\", 2, 1), Sigmoid(\"last\")]\n",
    "model_nn = Model(layers)\n",
    "model_lr = Model([Affine(\"logits\", 784, 1), Sigmoid(\"sigmoid\")])"
   ]
  },
  {
   "cell_type": "code",
   "execution_count": 20,
   "id": "6eede77a",
   "metadata": {
    "execution": {
     "iopub.execute_input": "2021-09-10T00:22:21.487143Z",
     "iopub.status.busy": "2021-09-10T00:22:21.486623Z",
     "iopub.status.idle": "2021-09-10T00:22:21.498014Z",
     "shell.execute_reply": "2021-09-10T00:22:21.497590Z"
    },
    "papermill": {
     "duration": 0.04193,
     "end_time": "2021-09-10T00:22:21.498122",
     "exception": false,
     "start_time": "2021-09-10T00:22:21.456192",
     "status": "completed"
    },
    "tags": []
   },
   "outputs": [],
   "source": [
    "nn_learner = Learner(loss, model_nn, opt, config.num_epochs)\n",
    "acc_nn = ClfCallback(nn_learner, config.bs, training_data_x , testing_data_x, training_data_y, testing_data_y)\n",
    "nn_learner.set_callbacks([acc_nn])"
   ]
  },
  {
   "cell_type": "code",
   "execution_count": 21,
   "id": "877b6cc7",
   "metadata": {
    "execution": {
     "iopub.execute_input": "2021-09-10T00:22:21.558349Z",
     "iopub.status.busy": "2021-09-10T00:22:21.557844Z",
     "iopub.status.idle": "2021-09-10T00:22:21.567986Z",
     "shell.execute_reply": "2021-09-10T00:22:21.567576Z"
    },
    "papermill": {
     "duration": 0.043017,
     "end_time": "2021-09-10T00:22:21.568098",
     "exception": false,
     "start_time": "2021-09-10T00:22:21.525081",
     "status": "completed"
    },
    "tags": []
   },
   "outputs": [],
   "source": [
    "lr_learner = Learner(loss, model_lr, opt, config.num_epochs)\n",
    "acc_lr = ClfCallback(lr_learner, config.bs, training_data_x , testing_data_x, training_data_y, testing_data_y)\n",
    "lr_learner.set_callbacks([acc_lr])"
   ]
  },
  {
   "cell_type": "code",
   "execution_count": 22,
   "id": "d9b133c3",
   "metadata": {
    "execution": {
     "iopub.execute_input": "2021-09-10T00:22:21.625384Z",
     "iopub.status.busy": "2021-09-10T00:22:21.624885Z",
     "iopub.status.idle": "2021-09-10T00:23:39.812145Z",
     "shell.execute_reply": "2021-09-10T00:23:39.812863Z"
    },
    "papermill": {
     "duration": 78.217811,
     "end_time": "2021-09-10T00:23:39.813013",
     "exception": false,
     "start_time": "2021-09-10T00:22:21.595202",
     "status": "completed"
    },
    "tags": []
   },
   "outputs": [
    {
     "name": "stdout",
     "output_type": "stream",
     "text": [
      "Epoch 0, Loss 0.2533\n",
      "Training Accuracy: 0.5021, Testing Accuracy: 0.5192\n",
      "\n"
     ]
    },
    {
     "name": "stdout",
     "output_type": "stream",
     "text": [
      "Epoch 10, Loss 0.1856\n",
      "Training Accuracy: 0.8729, Testing Accuracy: 0.8790\n",
      "\n"
     ]
    },
    {
     "name": "stdout",
     "output_type": "stream",
     "text": [
      "Epoch 20, Loss 0.0914\n",
      "Training Accuracy: 0.9119, Testing Accuracy: 0.9219\n",
      "\n"
     ]
    },
    {
     "name": "stdout",
     "output_type": "stream",
     "text": [
      "Epoch 30, Loss 0.0594\n",
      "Training Accuracy: 0.9370, Testing Accuracy: 0.9486\n",
      "\n"
     ]
    },
    {
     "name": "stdout",
     "output_type": "stream",
     "text": [
      "Epoch 40, Loss 0.0467\n",
      "Training Accuracy: 0.9479, Testing Accuracy: 0.9587\n",
      "\n"
     ]
    },
    {
     "name": "stdout",
     "output_type": "stream",
     "text": [
      "Epoch 50, Loss 0.0403\n",
      "Training Accuracy: 0.9534, Testing Accuracy: 0.9627\n",
      "\n"
     ]
    },
    {
     "name": "stdout",
     "output_type": "stream",
     "text": [
      "Epoch 60, Loss 0.0364\n",
      "Training Accuracy: 0.9566, Testing Accuracy: 0.9662\n",
      "\n"
     ]
    },
    {
     "name": "stdout",
     "output_type": "stream",
     "text": [
      "Epoch 70, Loss 0.0337\n",
      "Training Accuracy: 0.9597, Testing Accuracy: 0.9667\n",
      "\n"
     ]
    },
    {
     "name": "stdout",
     "output_type": "stream",
     "text": [
      "Epoch 80, Loss 0.0317\n",
      "Training Accuracy: 0.9622, Testing Accuracy: 0.9657\n",
      "\n"
     ]
    },
    {
     "name": "stdout",
     "output_type": "stream",
     "text": [
      "Epoch 90, Loss 0.0301\n",
      "Training Accuracy: 0.9641, Testing Accuracy: 0.9672\n",
      "\n"
     ]
    },
    {
     "name": "stdout",
     "output_type": "stream",
     "text": [
      "Epoch 100, Loss 0.0288\n",
      "Training Accuracy: 0.9664, Testing Accuracy: 0.9677\n",
      "\n"
     ]
    },
    {
     "name": "stdout",
     "output_type": "stream",
     "text": [
      "Epoch 110, Loss 0.0277\n",
      "Training Accuracy: 0.9677, Testing Accuracy: 0.9667\n",
      "\n"
     ]
    },
    {
     "name": "stdout",
     "output_type": "stream",
     "text": [
      "Epoch 120, Loss 0.0267\n",
      "Training Accuracy: 0.9690, Testing Accuracy: 0.9677\n",
      "\n"
     ]
    },
    {
     "name": "stdout",
     "output_type": "stream",
     "text": [
      "Epoch 130, Loss 0.0258\n",
      "Training Accuracy: 0.9700, Testing Accuracy: 0.9682\n",
      "\n"
     ]
    },
    {
     "name": "stdout",
     "output_type": "stream",
     "text": [
      "Epoch 140, Loss 0.0251\n",
      "Training Accuracy: 0.9707, Testing Accuracy: 0.9688\n",
      "\n"
     ]
    },
    {
     "name": "stdout",
     "output_type": "stream",
     "text": [
      "Epoch 150, Loss 0.0244\n",
      "Training Accuracy: 0.9719, Testing Accuracy: 0.9693\n",
      "\n"
     ]
    },
    {
     "name": "stdout",
     "output_type": "stream",
     "text": [
      "Epoch 160, Loss 0.0237\n",
      "Training Accuracy: 0.9726, Testing Accuracy: 0.9693\n",
      "\n"
     ]
    },
    {
     "name": "stdout",
     "output_type": "stream",
     "text": [
      "Epoch 170, Loss 0.0231\n",
      "Training Accuracy: 0.9733, Testing Accuracy: 0.9698\n",
      "\n"
     ]
    },
    {
     "name": "stdout",
     "output_type": "stream",
     "text": [
      "Epoch 180, Loss 0.0226\n",
      "Training Accuracy: 0.9746, Testing Accuracy: 0.9698\n",
      "\n"
     ]
    },
    {
     "name": "stdout",
     "output_type": "stream",
     "text": [
      "Epoch 190, Loss 0.0221\n",
      "Training Accuracy: 0.9752, Testing Accuracy: 0.9703\n",
      "\n"
     ]
    },
    {
     "name": "stdout",
     "output_type": "stream",
     "text": [
      "Epoch 200, Loss 0.0216\n",
      "Training Accuracy: 0.9755, Testing Accuracy: 0.9703\n",
      "\n"
     ]
    },
    {
     "name": "stdout",
     "output_type": "stream",
     "text": [
      "Epoch 210, Loss 0.0212\n",
      "Training Accuracy: 0.9761, Testing Accuracy: 0.9703\n",
      "\n"
     ]
    },
    {
     "name": "stdout",
     "output_type": "stream",
     "text": [
      "Epoch 220, Loss 0.0208\n",
      "Training Accuracy: 0.9765, Testing Accuracy: 0.9708\n",
      "\n"
     ]
    },
    {
     "name": "stdout",
     "output_type": "stream",
     "text": [
      "Epoch 230, Loss 0.0203\n",
      "Training Accuracy: 0.9771, Testing Accuracy: 0.9708\n",
      "\n"
     ]
    },
    {
     "name": "stdout",
     "output_type": "stream",
     "text": [
      "Epoch 240, Loss 0.02\n",
      "Training Accuracy: 0.9780, Testing Accuracy: 0.9708\n",
      "\n"
     ]
    },
    {
     "data": {
      "text/plain": [
       "0.06793671421797645"
      ]
     },
     "execution_count": 22,
     "metadata": {},
     "output_type": "execute_result"
    }
   ],
   "source": [
    "nn_learner.train_loop(dl)"
   ]
  },
  {
   "cell_type": "code",
   "execution_count": 23,
   "id": "e0163366",
   "metadata": {
    "execution": {
     "iopub.execute_input": "2021-09-10T00:23:39.893828Z",
     "iopub.status.busy": "2021-09-10T00:23:39.893320Z",
     "iopub.status.idle": "2021-09-10T00:23:53.850022Z",
     "shell.execute_reply": "2021-09-10T00:23:53.850730Z"
    },
    "papermill": {
     "duration": 14.003628,
     "end_time": "2021-09-10T00:23:53.850884",
     "exception": false,
     "start_time": "2021-09-10T00:23:39.847256",
     "status": "completed"
    },
    "tags": []
   },
   "outputs": [
    {
     "name": "stdout",
     "output_type": "stream",
     "text": [
      "Epoch 0, Loss 0.233\n",
      "Training Accuracy: 0.7049, Testing Accuracy: 0.6920\n",
      "\n"
     ]
    },
    {
     "name": "stdout",
     "output_type": "stream",
     "text": [
      "Epoch 10, Loss 0.1017\n",
      "Training Accuracy: 0.9083, Testing Accuracy: 0.9204\n",
      "\n"
     ]
    },
    {
     "name": "stdout",
     "output_type": "stream",
     "text": [
      "Epoch 20, Loss 0.0782\n",
      "Training Accuracy: 0.9263, Testing Accuracy: 0.9441\n",
      "\n"
     ]
    },
    {
     "name": "stdout",
     "output_type": "stream",
     "text": [
      "Epoch 30, Loss 0.0674\n",
      "Training Accuracy: 0.9367, Testing Accuracy: 0.9486\n",
      "\n"
     ]
    },
    {
     "name": "stdout",
     "output_type": "stream",
     "text": [
      "Epoch 40, Loss 0.0609\n",
      "Training Accuracy: 0.9412, Testing Accuracy: 0.9536\n",
      "\n"
     ]
    },
    {
     "name": "stdout",
     "output_type": "stream",
     "text": [
      "Epoch 50, Loss 0.0565\n",
      "Training Accuracy: 0.9453, Testing Accuracy: 0.9582\n",
      "\n"
     ]
    },
    {
     "name": "stdout",
     "output_type": "stream",
     "text": [
      "Epoch 60, Loss 0.0532\n",
      "Training Accuracy: 0.9483, Testing Accuracy: 0.9592\n",
      "\n"
     ]
    },
    {
     "name": "stdout",
     "output_type": "stream",
     "text": [
      "Epoch 70, Loss 0.0507\n",
      "Training Accuracy: 0.9499, Testing Accuracy: 0.9627\n",
      "\n"
     ]
    },
    {
     "name": "stdout",
     "output_type": "stream",
     "text": [
      "Epoch 80, Loss 0.0487\n",
      "Training Accuracy: 0.9512, Testing Accuracy: 0.9642\n",
      "\n"
     ]
    },
    {
     "name": "stdout",
     "output_type": "stream",
     "text": [
      "Epoch 90, Loss 0.0471\n",
      "Training Accuracy: 0.9518, Testing Accuracy: 0.9642\n",
      "\n"
     ]
    },
    {
     "name": "stdout",
     "output_type": "stream",
     "text": [
      "Epoch 100, Loss 0.0457\n",
      "Training Accuracy: 0.9530, Testing Accuracy: 0.9657\n",
      "\n"
     ]
    },
    {
     "name": "stdout",
     "output_type": "stream",
     "text": [
      "Epoch 110, Loss 0.0445\n",
      "Training Accuracy: 0.9539, Testing Accuracy: 0.9652\n",
      "\n"
     ]
    },
    {
     "name": "stdout",
     "output_type": "stream",
     "text": [
      "Epoch 120, Loss 0.0435\n",
      "Training Accuracy: 0.9549, Testing Accuracy: 0.9662\n",
      "\n"
     ]
    },
    {
     "name": "stdout",
     "output_type": "stream",
     "text": [
      "Epoch 130, Loss 0.0426\n",
      "Training Accuracy: 0.9558, Testing Accuracy: 0.9657\n",
      "\n"
     ]
    },
    {
     "name": "stdout",
     "output_type": "stream",
     "text": [
      "Epoch 140, Loss 0.0418\n",
      "Training Accuracy: 0.9561, Testing Accuracy: 0.9662\n",
      "\n"
     ]
    },
    {
     "name": "stdout",
     "output_type": "stream",
     "text": [
      "Epoch 150, Loss 0.041\n",
      "Training Accuracy: 0.9570, Testing Accuracy: 0.9657\n",
      "\n"
     ]
    },
    {
     "name": "stdout",
     "output_type": "stream",
     "text": [
      "Epoch 160, Loss 0.0404\n",
      "Training Accuracy: 0.9574, Testing Accuracy: 0.9657\n",
      "\n"
     ]
    },
    {
     "name": "stdout",
     "output_type": "stream",
     "text": [
      "Epoch 170, Loss 0.0398\n",
      "Training Accuracy: 0.9582, Testing Accuracy: 0.9657\n",
      "\n"
     ]
    },
    {
     "name": "stdout",
     "output_type": "stream",
     "text": [
      "Epoch 180, Loss 0.0392\n",
      "Training Accuracy: 0.9581, Testing Accuracy: 0.9662\n",
      "\n"
     ]
    },
    {
     "name": "stdout",
     "output_type": "stream",
     "text": [
      "Epoch 190, Loss 0.0387\n",
      "Training Accuracy: 0.9585, Testing Accuracy: 0.9662\n",
      "\n"
     ]
    },
    {
     "name": "stdout",
     "output_type": "stream",
     "text": [
      "Epoch 200, Loss 0.0383\n",
      "Training Accuracy: 0.9589, Testing Accuracy: 0.9662\n",
      "\n"
     ]
    },
    {
     "name": "stdout",
     "output_type": "stream",
     "text": [
      "Epoch 210, Loss 0.0378\n",
      "Training Accuracy: 0.9592, Testing Accuracy: 0.9667\n",
      "\n"
     ]
    },
    {
     "name": "stdout",
     "output_type": "stream",
     "text": [
      "Epoch 220, Loss 0.0374\n",
      "Training Accuracy: 0.9593, Testing Accuracy: 0.9662\n",
      "\n"
     ]
    },
    {
     "name": "stdout",
     "output_type": "stream",
     "text": [
      "Epoch 230, Loss 0.037\n",
      "Training Accuracy: 0.9596, Testing Accuracy: 0.9662\n",
      "\n"
     ]
    },
    {
     "name": "stdout",
     "output_type": "stream",
     "text": [
      "Epoch 240, Loss 0.0367\n",
      "Training Accuracy: 0.9599, Testing Accuracy: 0.9662\n",
      "\n"
     ]
    },
    {
     "data": {
      "text/plain": [
       "0.03322364813512476"
      ]
     },
     "execution_count": 23,
     "metadata": {},
     "output_type": "execute_result"
    }
   ],
   "source": [
    "lr_learner.train_loop(dl)"
   ]
  },
  {
   "cell_type": "code",
   "execution_count": 24,
   "id": "ca410940",
   "metadata": {
    "execution": {
     "iopub.execute_input": "2021-09-10T00:23:53.944498Z",
     "iopub.status.busy": "2021-09-10T00:23:53.943985Z",
     "iopub.status.idle": "2021-09-10T00:23:54.166056Z",
     "shell.execute_reply": "2021-09-10T00:23:54.165551Z"
    },
    "papermill": {
     "duration": 0.273822,
     "end_time": "2021-09-10T00:23:54.166185",
     "exception": false,
     "start_time": "2021-09-10T00:23:53.892363",
     "status": "completed"
    },
    "tags": []
   },
   "outputs": [
    {
     "data": {
      "text/plain": [
       "<matplotlib.legend.Legend at 0x7f34ae253e80>"
      ]
     },
     "execution_count": 24,
     "metadata": {},
     "output_type": "execute_result"
    },
    {
     "data": {
      "image/png": "[encoded data removed]",
      "text/plain": [
       "<Figure size 1080x720 with 1 Axes>"
      ]
     },
     "metadata": {
      "needs_background": "light"
     },
     "output_type": "display_data"
    }
   ],
   "source": [
    "#comparing the results of NN and LR\n",
    "plt.figure(figsize=(15,10))\n",
    "\n",
    "# Neural Network plots\n",
    "plt.plot(acc_nn.accuracies, 'r-', label = \"Training Accuracies - NN\")\n",
    "plt.plot(acc_nn.test_accuracies, 'g-', label = \"Testing Accuracies - NN\")\n",
    "\n",
    "# Logistic Regression plots\n",
    "plt.plot(acc_lr.accuracies, 'k-', label = \"Training Accuracies - LR\")\n",
    "plt.plot(acc_lr.test_accuracies, 'b-', label = \"Testing Accuracies - LR\")\n",
    "plt.legend()"
   ]
  },
  {
   "cell_type": "markdown",
   "id": "80dfb35c",
   "metadata": {
    "papermill": {
     "duration": 0.041854,
     "end_time": "2021-09-10T00:23:54.250226",
     "exception": false,
     "start_time": "2021-09-10T00:23:54.208372",
     "status": "completed"
    },
    "tags": []
   },
   "source": [
    "#### Plotting the outputs of this layer of the NN.\n"
   ]
  },
  {
   "cell_type": "code",
   "execution_count": 25,
   "id": "45eb2ff5",
   "metadata": {
    "execution": {
     "iopub.execute_input": "2021-09-10T00:23:54.340477Z",
     "iopub.status.busy": "2021-09-10T00:23:54.339952Z",
     "iopub.status.idle": "2021-09-10T00:23:54.358432Z",
     "shell.execute_reply": "2021-09-10T00:23:54.357973Z"
    },
    "papermill": {
     "duration": 0.066716,
     "end_time": "2021-09-10T00:23:54.358555",
     "exception": false,
     "start_time": "2021-09-10T00:23:54.291839",
     "status": "completed"
    },
    "tags": []
   },
   "outputs": [],
   "source": [
    "new_model = Model(layers[:-2])\n",
    "testing_plot = new_model(testing_data_x)"
   ]
  },
  {
   "cell_type": "code",
   "execution_count": 26,
   "id": "4c0a5485",
   "metadata": {
    "execution": {
     "iopub.execute_input": "2021-09-10T00:23:54.459451Z",
     "iopub.status.busy": "2021-09-10T00:23:54.458889Z",
     "iopub.status.idle": "2021-09-10T00:23:54.662769Z",
     "shell.execute_reply": "2021-09-10T00:23:54.663188Z"
    },
    "papermill": {
     "duration": 0.252894,
     "end_time": "2021-09-10T00:23:54.663339",
     "exception": false,
     "start_time": "2021-09-10T00:23:54.410445",
     "status": "completed"
    },
    "tags": []
   },
   "outputs": [
    {
     "data": {
      "text/plain": [
       "Text(0.5, 1.0, 'Outputs')"
      ]
     },
     "execution_count": 26,
     "metadata": {},
     "output_type": "execute_result"
    },
    {
     "data": {
      "image/png": "[encoded data removed]",
      "text/plain": [
       "<Figure size 576x504 with 1 Axes>"
      ]
     },
     "metadata": {
      "needs_background": "light"
     },
     "output_type": "display_data"
    }
   ],
   "source": [
    "# Plotting the scatter plot of points and color coding by class\n",
    "plt.figure(figsize=(8,7))\n",
    "plt.scatter(testing_plot[:,0], testing_plot[:,1], alpha = 0.1, c = y_test.ravel());\n",
    "plt.title('Outputs')"
   ]
  },
  {
   "cell_type": "markdown",
   "id": "a74fcf8f",
   "metadata": {
    "papermill": {
     "duration": 0.043885,
     "end_time": "2021-09-10T00:23:54.751561",
     "exception": false,
     "start_time": "2021-09-10T00:23:54.707676",
     "status": "completed"
    },
    "tags": []
   },
   "source": [
    "Probability contours"
   ]
  },
  {
   "cell_type": "code",
   "execution_count": 27,
   "id": "d0afc8e3",
   "metadata": {
    "execution": {
     "iopub.execute_input": "2021-09-10T00:23:54.848487Z",
     "iopub.status.busy": "2021-09-10T00:23:54.847881Z",
     "iopub.status.idle": "2021-09-10T00:23:54.854730Z",
     "shell.execute_reply": "2021-09-10T00:23:54.854349Z"
    },
    "papermill": {
     "duration": 0.058666,
     "end_time": "2021-09-10T00:23:54.854840",
     "exception": false,
     "start_time": "2021-09-10T00:23:54.796174",
     "status": "completed"
    },
    "tags": []
   },
   "outputs": [],
   "source": [
    "model_prob = Model(layers[-2:]) "
   ]
  },
  {
   "cell_type": "code",
   "execution_count": 28,
   "id": "9b96e238",
   "metadata": {
    "execution": {
     "iopub.execute_input": "2021-09-10T00:23:54.937208Z",
     "iopub.status.busy": "2021-09-10T00:23:54.936458Z",
     "iopub.status.idle": "2021-09-10T00:23:54.949560Z",
     "shell.execute_reply": "2021-09-10T00:23:54.948911Z"
    },
    "papermill": {
     "duration": 0.055883,
     "end_time": "2021-09-10T00:23:54.949669",
     "exception": false,
     "start_time": "2021-09-10T00:23:54.893786",
     "status": "completed"
    },
    "tags": []
   },
   "outputs": [],
   "source": [
    "#creating the x and y ranges according to the above generated plot.\n",
    "x_range = np.linspace(-4, 1, 100) \n",
    "y_range = np.linspace(-6, 6, 100) \n",
    "x_grid, y_grid = np.meshgrid(x_range, y_range) # x_grid and y_grig are of size 100 X 100\n",
    "\n",
    "# converting x_grid and y_grid to continuous arrays\n",
    "x_gridflat = np.ravel(x_grid)\n",
    "y_gridflat = np.ravel(y_grid)\n",
    "\n",
    "# The last layer of the current model takes two columns as input. Hence transpose of np.vstack() is required.\n",
    "X = np.vstack((x_gridflat, y_gridflat)).T\n",
    "\n",
    "prob_contour = model_prob(X).reshape(100,100) "
   ]
  },
  {
   "cell_type": "code",
   "execution_count": 29,
   "id": "da72499a",
   "metadata": {
    "execution": {
     "iopub.execute_input": "2021-09-10T00:23:55.031970Z",
     "iopub.status.busy": "2021-09-10T00:23:55.031519Z",
     "iopub.status.idle": "2021-09-10T00:23:55.263793Z",
     "shell.execute_reply": "2021-09-10T00:23:55.263392Z"
    },
    "papermill": {
     "duration": 0.274631,
     "end_time": "2021-09-10T00:23:55.263900",
     "exception": false,
     "start_time": "2021-09-10T00:23:54.989269",
     "status": "completed"
    },
    "tags": []
   },
   "outputs": [
    {
     "data": {
      "image/png": "[encoded data removed]",
      "text/plain": [
       "<Figure size 720x648 with 1 Axes>"
      ]
     },
     "metadata": {
      "needs_background": "light"
     },
     "output_type": "display_data"
    }
   ],
   "source": [
    "plt.figure(figsize=(10,9))\n",
    "plt.scatter(testing_plot[:,0], testing_plot[:,1], alpha = 0.1, c = y_test.ravel())\n",
    "contours = plt.contour(x_grid,y_grid,prob_contour)\n",
    "plt.title('Probability Contours')\n",
    "plt.clabel(contours, inline = True );"
   ]
  },
  {
   "cell_type": "code",
   "execution_count": null,
   "id": "e81b4ac7",
   "metadata": {
    "papermill": {
     "duration": 0.04726,
     "end_time": "2021-09-10T00:23:55.357864",
     "exception": false,
     "start_time": "2021-09-10T00:23:55.310604",
     "status": "completed"
    },
    "tags": []
   },
   "outputs": [],
   "source": []
  }
 ],
 "metadata": {
  "kernelspec": {
   "display_name": "Python 3",
   "language": "python",
   "name": "python3"
  },
  "language_info": {
   "codemirror_mode": {
    "name": "ipython",
    "version": 3
   },
   "file_extension": ".py",
   "mimetype": "text/x-python",
   "name": "python",
   "nbconvert_exporter": "python",
   "pygments_lexer": "ipython3",
   "version": "3.6.14"
  },
  "papermill": {
   "default_parameters": {},
   "duration": 100.372877,
   "end_time": "2021-09-10T00:23:55.845374",
   "environment_variables": {},
   "exception": null,
   "input_path": "2020-08-11-part2.ipynb",
   "output_path": "2020-08-11-part2.ipynb",
   "parameters": {},
   "start_time": "2021-09-10T00:22:15.472497",
   "version": "2.3.3"
  }
 },
 "nbformat": 4,
 "nbformat_minor": 5
}