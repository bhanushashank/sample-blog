{
 "cells": [
  {
   "cell_type": "markdown",
   "id": "98380cd3",
   "metadata": {
    "papermill": {
     "duration": 0.033218,
     "end_time": "2021-11-15T10:07:49.234169",
     "exception": false,
     "start_time": "2021-11-15T10:07:49.200951",
     "status": "completed"
    },
    "tags": []
   },
   "source": [
    "# Distinguish Your Own Digits (DYOD)"
   ]
  },
  {
   "cell_type": "markdown",
   "id": "ef31240d",
   "metadata": {
    "papermill": {
     "duration": 0.030143,
     "end_time": "2021-11-15T10:07:49.292012",
     "exception": false,
     "start_time": "2021-11-15T10:07:49.261869",
     "status": "completed"
    },
    "tags": []
   },
   "source": [
    "You are going to write a classifier that distinguishes between the number 3 and number 8."
   ]
  },
  {
   "cell_type": "code",
   "execution_count": 1,
   "id": "b15c8646",
   "metadata": {
    "execution": {
     "iopub.execute_input": "2021-11-15T10:07:49.363529Z",
     "iopub.status.busy": "2021-11-15T10:07:49.362929Z",
     "iopub.status.idle": "2021-11-15T10:07:49.373034Z",
     "shell.execute_reply": "2021-11-15T10:07:49.373558Z"
    },
    "papermill": {
     "duration": 0.051438,
     "end_time": "2021-11-15T10:07:49.373783",
     "exception": false,
     "start_time": "2021-11-15T10:07:49.322345",
     "status": "completed"
    },
    "tags": []
   },
   "outputs": [],
   "source": [
    "%load_ext autoreload\n",
    "%autoreload 2"
   ]
  },
  {
   "cell_type": "code",
   "execution_count": 2,
   "id": "22ef38dc",
   "metadata": {
    "execution": {
     "iopub.execute_input": "2021-11-15T10:07:49.431570Z",
     "iopub.status.busy": "2021-11-15T10:07:49.431009Z",
     "iopub.status.idle": "2021-11-15T10:07:49.960610Z",
     "shell.execute_reply": "2021-11-15T10:07:49.960098Z"
    },
    "papermill": {
     "duration": 0.559388,
     "end_time": "2021-11-15T10:07:49.960743",
     "exception": false,
     "start_time": "2021-11-15T10:07:49.401355",
     "status": "completed"
    },
    "tags": []
   },
   "outputs": [],
   "source": [
    "%matplotlib inline\n",
    "import numpy as np\n",
    "import matplotlib.pyplot as plt\n",
    "import pandas as pd"
   ]
  },
  {
   "cell_type": "markdown",
   "id": "ba036198",
   "metadata": {
    "papermill": {
     "duration": 0.027314,
     "end_time": "2021-11-15T10:07:50.017775",
     "exception": false,
     "start_time": "2021-11-15T10:07:49.990461",
     "status": "completed"
    },
    "tags": []
   },
   "source": [
    "From the command line run `pip install mnist`. This is a library that will help you bring down the mnist dataset. If you run this from a notebook, you need to put  `!pip install mnist` in a cell by itself."
   ]
  },
  {
   "cell_type": "code",
   "execution_count": 3,
   "id": "bb6ad8a1",
   "metadata": {
    "execution": {
     "iopub.execute_input": "2021-11-15T10:07:50.071663Z",
     "iopub.status.busy": "2021-11-15T10:07:50.071029Z",
     "iopub.status.idle": "2021-11-15T10:07:51.822082Z",
     "shell.execute_reply": "2021-11-15T10:07:51.820849Z"
    },
    "papermill": {
     "duration": 1.780257,
     "end_time": "2021-11-15T10:07:51.822238",
     "exception": false,
     "start_time": "2021-11-15T10:07:50.041981",
     "status": "completed"
    },
    "tags": []
   },
   "outputs": [
    {
     "name": "stdout",
     "output_type": "stream",
     "text": [
      "Collecting mnist\r\n"
     ]
    },
    {
     "name": "stdout",
     "output_type": "stream",
     "text": [
      "  Downloading mnist-0.2.2-py2.py3-none-any.whl (3.5 kB)\r\n"
     ]
    },
    {
     "name": "stdout",
     "output_type": "stream",
     "text": [
      "Requirement already satisfied: numpy in /opt/hostedtoolcache/Python/3.6.15/x64/lib/python3.6/site-packages (from mnist) (1.19.5)\r\n"
     ]
    },
    {
     "name": "stdout",
     "output_type": "stream",
     "text": [
      "Installing collected packages: mnist\r\n"
     ]
    },
    {
     "name": "stdout",
     "output_type": "stream",
     "text": [
      "Successfully installed mnist-0.2.2\r\n"
     ]
    }
   ],
   "source": [
    "!pip install mnist"
   ]
  },
  {
   "cell_type": "markdown",
   "id": "69df9c9a",
   "metadata": {
    "papermill": {
     "duration": 0.026627,
     "end_time": "2021-11-15T10:07:51.875332",
     "exception": false,
     "start_time": "2021-11-15T10:07:51.848705",
     "status": "completed"
    },
    "tags": []
   },
   "source": [
    "## Preparing the Data"
   ]
  },
  {
   "cell_type": "code",
   "execution_count": 4,
   "id": "7f69d806",
   "metadata": {
    "execution": {
     "iopub.execute_input": "2021-11-15T10:07:51.942535Z",
     "iopub.status.busy": "2021-11-15T10:07:51.941069Z",
     "iopub.status.idle": "2021-11-15T10:07:51.955409Z",
     "shell.execute_reply": "2021-11-15T10:07:51.955952Z"
    },
    "papermill": {
     "duration": 0.053106,
     "end_time": "2021-11-15T10:07:51.956241",
     "exception": false,
     "start_time": "2021-11-15T10:07:51.903135",
     "status": "completed"
    },
    "tags": []
   },
   "outputs": [],
   "source": [
    "import mnist"
   ]
  },
  {
   "cell_type": "code",
   "execution_count": 5,
   "id": "a411e44f",
   "metadata": {
    "execution": {
     "iopub.execute_input": "2021-11-15T10:07:52.024175Z",
     "iopub.status.busy": "2021-11-15T10:07:52.023561Z",
     "iopub.status.idle": "2021-11-15T10:07:52.564641Z",
     "shell.execute_reply": "2021-11-15T10:07:52.564104Z"
    },
    "papermill": {
     "duration": 0.578381,
     "end_time": "2021-11-15T10:07:52.564775",
     "exception": false,
     "start_time": "2021-11-15T10:07:51.986394",
     "status": "completed"
    },
    "tags": []
   },
   "outputs": [],
   "source": [
    "train_images = mnist.train_images()\n",
    "train_labels = mnist.train_labels()"
   ]
  },
  {
   "cell_type": "code",
   "execution_count": 6,
   "id": "dceab3a5",
   "metadata": {
    "execution": {
     "iopub.execute_input": "2021-11-15T10:07:52.623064Z",
     "iopub.status.busy": "2021-11-15T10:07:52.622480Z",
     "iopub.status.idle": "2021-11-15T10:07:52.637428Z",
     "shell.execute_reply": "2021-11-15T10:07:52.637958Z"
    },
    "papermill": {
     "duration": 0.045284,
     "end_time": "2021-11-15T10:07:52.638100",
     "exception": false,
     "start_time": "2021-11-15T10:07:52.592816",
     "status": "completed"
    },
    "tags": []
   },
   "outputs": [
    {
     "data": {
      "text/plain": [
       "((60000, 28, 28), (60000,))"
      ]
     },
     "execution_count": 6,
     "metadata": {},
     "output_type": "execute_result"
    }
   ],
   "source": [
    "train_images.shape, train_labels.shape"
   ]
  },
  {
   "cell_type": "code",
   "execution_count": 7,
   "id": "f50dc2bb",
   "metadata": {
    "execution": {
     "iopub.execute_input": "2021-11-15T10:07:52.707065Z",
     "iopub.status.busy": "2021-11-15T10:07:52.706338Z",
     "iopub.status.idle": "2021-11-15T10:07:52.859260Z",
     "shell.execute_reply": "2021-11-15T10:07:52.858636Z"
    },
    "papermill": {
     "duration": 0.192968,
     "end_time": "2021-11-15T10:07:52.859453",
     "exception": false,
     "start_time": "2021-11-15T10:07:52.666485",
     "status": "completed"
    },
    "tags": []
   },
   "outputs": [],
   "source": [
    "test_images = mnist.test_images()\n",
    "test_labels = mnist.test_labels()"
   ]
  },
  {
   "cell_type": "code",
   "execution_count": 8,
   "id": "fc38cf1b",
   "metadata": {
    "execution": {
     "iopub.execute_input": "2021-11-15T10:07:52.933364Z",
     "iopub.status.busy": "2021-11-15T10:07:52.931095Z",
     "iopub.status.idle": "2021-11-15T10:07:52.936179Z",
     "shell.execute_reply": "2021-11-15T10:07:52.936953Z"
    },
    "papermill": {
     "duration": 0.049558,
     "end_time": "2021-11-15T10:07:52.937109",
     "exception": false,
     "start_time": "2021-11-15T10:07:52.887551",
     "status": "completed"
    },
    "tags": []
   },
   "outputs": [
    {
     "data": {
      "text/plain": [
       "((10000, 28, 28), (10000,))"
      ]
     },
     "execution_count": 8,
     "metadata": {},
     "output_type": "execute_result"
    }
   ],
   "source": [
    "test_images.shape, test_labels.shape"
   ]
  },
  {
   "cell_type": "code",
   "execution_count": 9,
   "id": "f9ed8fe0",
   "metadata": {
    "execution": {
     "iopub.execute_input": "2021-11-15T10:07:53.001342Z",
     "iopub.status.busy": "2021-11-15T10:07:52.997069Z",
     "iopub.status.idle": "2021-11-15T10:07:53.168198Z",
     "shell.execute_reply": "2021-11-15T10:07:53.168758Z"
    },
    "papermill": {
     "duration": 0.200389,
     "end_time": "2021-11-15T10:07:53.168909",
     "exception": false,
     "start_time": "2021-11-15T10:07:52.968520",
     "status": "completed"
    },
    "tags": []
   },
   "outputs": [
    {
     "name": "stdout",
     "output_type": "stream",
     "text": [
      "2\n"
     ]
    },
    {
     "data": {
      "text/plain": [
       "<matplotlib.image.AxesImage at 0x7f5f3fa63128>"
      ]
     },
     "execution_count": 9,
     "metadata": {},
     "output_type": "execute_result"
    },
    {
     "data": {
      "image/png": "[encoded data removed]",
      "text/plain": [
       "<Figure size 432x288 with 1 Axes>"
      ]
     },
     "metadata": {
      "needs_background": "light"
     },
     "output_type": "display_data"
    }
   ],
   "source": [
    "image_index = 7776 # You may select anything up to 60,000\n",
    "print(train_labels[image_index]) \n",
    "plt.imshow(train_images[image_index], cmap='Greys')"
   ]
  },
  {
   "cell_type": "markdown",
   "id": "a8d2388d",
   "metadata": {
    "papermill": {
     "duration": 0.031537,
     "end_time": "2021-11-15T10:07:53.230571",
     "exception": false,
     "start_time": "2021-11-15T10:07:53.199034",
     "status": "completed"
    },
    "tags": []
   },
   "source": [
    "## Filter data to get 3 and 8 out"
   ]
  },
  {
   "cell_type": "code",
   "execution_count": 10,
   "id": "776f7fc7",
   "metadata": {
    "execution": {
     "iopub.execute_input": "2021-11-15T10:07:53.294897Z",
     "iopub.status.busy": "2021-11-15T10:07:53.294299Z",
     "iopub.status.idle": "2021-11-15T10:07:53.313995Z",
     "shell.execute_reply": "2021-11-15T10:07:53.313490Z"
    },
    "papermill": {
     "duration": 0.05271,
     "end_time": "2021-11-15T10:07:53.314123",
     "exception": false,
     "start_time": "2021-11-15T10:07:53.261413",
     "status": "completed"
    },
    "tags": []
   },
   "outputs": [],
   "source": [
    "train_filter = np.where((train_labels == 3 ) | (train_labels == 8))\n",
    "test_filter = np.where((test_labels == 3) | (test_labels == 8))\n",
    "X_train, y_train = train_images[train_filter], train_labels[train_filter]\n",
    "X_test, y_test = test_images[test_filter], test_labels[test_filter]"
   ]
  },
  {
   "cell_type": "markdown",
   "id": "948f0b7e",
   "metadata": {
    "papermill": {
     "duration": 0.028098,
     "end_time": "2021-11-15T10:07:53.375376",
     "exception": false,
     "start_time": "2021-11-15T10:07:53.347278",
     "status": "completed"
    },
    "tags": []
   },
   "source": [
    "We normalize the pizel values in the 0 to 1 range"
   ]
  },
  {
   "cell_type": "code",
   "execution_count": 11,
   "id": "ee4c2166",
   "metadata": {
    "execution": {
     "iopub.execute_input": "2021-11-15T10:07:53.440989Z",
     "iopub.status.busy": "2021-11-15T10:07:53.440379Z",
     "iopub.status.idle": "2021-11-15T10:07:53.497868Z",
     "shell.execute_reply": "2021-11-15T10:07:53.497352Z"
    },
    "papermill": {
     "duration": 0.09441,
     "end_time": "2021-11-15T10:07:53.498005",
     "exception": false,
     "start_time": "2021-11-15T10:07:53.403595",
     "status": "completed"
    },
    "tags": []
   },
   "outputs": [],
   "source": [
    "X_train = X_train/255.\n",
    "X_test = X_test/255."
   ]
  },
  {
   "cell_type": "markdown",
   "id": "ddcf4fab",
   "metadata": {
    "papermill": {
     "duration": 0.029589,
     "end_time": "2021-11-15T10:07:53.559002",
     "exception": false,
     "start_time": "2021-11-15T10:07:53.529413",
     "status": "completed"
    },
    "tags": []
   },
   "source": [
    "And setup the labels as 1 (when the digit is 3) and 0 (when the digit is 8)"
   ]
  },
  {
   "cell_type": "code",
   "execution_count": 12,
   "id": "7dc908f2",
   "metadata": {
    "execution": {
     "iopub.execute_input": "2021-11-15T10:07:53.620493Z",
     "iopub.status.busy": "2021-11-15T10:07:53.619943Z",
     "iopub.status.idle": "2021-11-15T10:07:53.631349Z",
     "shell.execute_reply": "2021-11-15T10:07:53.631961Z"
    },
    "papermill": {
     "duration": 0.043462,
     "end_time": "2021-11-15T10:07:53.632094",
     "exception": false,
     "start_time": "2021-11-15T10:07:53.588632",
     "status": "completed"
    },
    "tags": []
   },
   "outputs": [],
   "source": [
    "y_train = 1*(y_train==3)\n",
    "y_test = 1*(y_test==3)"
   ]
  },
  {
   "cell_type": "code",
   "execution_count": 13,
   "id": "01e4e969",
   "metadata": {
    "execution": {
     "iopub.execute_input": "2021-11-15T10:07:53.694547Z",
     "iopub.status.busy": "2021-11-15T10:07:53.693881Z",
     "iopub.status.idle": "2021-11-15T10:07:53.707286Z",
     "shell.execute_reply": "2021-11-15T10:07:53.707752Z"
    },
    "papermill": {
     "duration": 0.047242,
     "end_time": "2021-11-15T10:07:53.707879",
     "exception": false,
     "start_time": "2021-11-15T10:07:53.660637",
     "status": "completed"
    },
    "tags": []
   },
   "outputs": [
    {
     "data": {
      "text/plain": [
       "((11982, 28, 28), (1984, 28, 28))"
      ]
     },
     "execution_count": 13,
     "metadata": {},
     "output_type": "execute_result"
    }
   ],
   "source": [
    "X_train.shape, X_test.shape"
   ]
  },
  {
   "cell_type": "markdown",
   "id": "5ccf3f85",
   "metadata": {
    "papermill": {
     "duration": 0.027675,
     "end_time": "2021-11-15T10:07:53.765278",
     "exception": false,
     "start_time": "2021-11-15T10:07:53.737603",
     "status": "completed"
    },
    "tags": []
   },
   "source": [
    "We reshape the data to flatten the image pixels into a set of features or co-variates:"
   ]
  },
  {
   "cell_type": "code",
   "execution_count": 14,
   "id": "5286a4a3",
   "metadata": {
    "execution": {
     "iopub.execute_input": "2021-11-15T10:07:53.833429Z",
     "iopub.status.busy": "2021-11-15T10:07:53.832855Z",
     "iopub.status.idle": "2021-11-15T10:07:53.846176Z",
     "shell.execute_reply": "2021-11-15T10:07:53.845711Z"
    },
    "papermill": {
     "duration": 0.050469,
     "end_time": "2021-11-15T10:07:53.846290",
     "exception": false,
     "start_time": "2021-11-15T10:07:53.795821",
     "status": "completed"
    },
    "tags": []
   },
   "outputs": [
    {
     "data": {
      "text/plain": [
       "((11982, 784), (1984, 784))"
      ]
     },
     "execution_count": 14,
     "metadata": {},
     "output_type": "execute_result"
    }
   ],
   "source": [
    "X_train = X_train.reshape(X_train.shape[0], -1)\n",
    "X_test = X_test.reshape(X_test.shape[0], -1)\n",
    "X_train.shape, X_test.shape"
   ]
  },
  {
   "cell_type": "code",
   "execution_count": 15,
   "id": "73c5f88a",
   "metadata": {
    "execution": {
     "iopub.execute_input": "2021-11-15T10:07:53.917802Z",
     "iopub.status.busy": "2021-11-15T10:07:53.916869Z",
     "iopub.status.idle": "2021-11-15T10:07:53.934691Z",
     "shell.execute_reply": "2021-11-15T10:07:53.935374Z"
    },
    "papermill": {
     "duration": 0.059614,
     "end_time": "2021-11-15T10:07:53.935507",
     "exception": false,
     "start_time": "2021-11-15T10:07:53.875893",
     "status": "completed"
    },
    "tags": []
   },
   "outputs": [],
   "source": [
    "#Impoting functions from 'Kudzu'\n",
    "from kudzu.model import Model\n",
    "from kudzu.train import Learner\n",
    "from kudzu.optim import GD\n",
    "from kudzu.data import Data, Sampler,Dataloader\n",
    "\n",
    "from kudzu.callbacks import AccCallback\n",
    "from kudzu.callbacks import ClfCallback\n",
    "\n",
    "from kudzu.loss import MSE\n",
    "\n",
    "from kudzu.layer import Sigmoid,Relu\n",
    "from kudzu.layer import Affine"
   ]
  },
  {
   "cell_type": "markdown",
   "id": "bc01172a",
   "metadata": {
    "papermill": {
     "duration": 0.032531,
     "end_time": "2021-11-15T10:07:53.999804",
     "exception": false,
     "start_time": "2021-11-15T10:07:53.967273",
     "status": "completed"
    },
    "tags": []
   },
   "source": [
    "### Let us create a `Config` class, to store important parameters. \n",
    "This class essentially plays the role of a dictionary."
   ]
  },
  {
   "cell_type": "code",
   "execution_count": 16,
   "id": "978281aa",
   "metadata": {
    "execution": {
     "iopub.execute_input": "2021-11-15T10:07:54.071115Z",
     "iopub.status.busy": "2021-11-15T10:07:54.070500Z",
     "iopub.status.idle": "2021-11-15T10:07:54.083153Z",
     "shell.execute_reply": "2021-11-15T10:07:54.082696Z"
    },
    "papermill": {
     "duration": 0.051516,
     "end_time": "2021-11-15T10:07:54.083265",
     "exception": false,
     "start_time": "2021-11-15T10:07:54.031749",
     "status": "completed"
    },
    "tags": []
   },
   "outputs": [],
   "source": [
    "class Config:\n",
    "    pass\n",
    "config = Config()\n",
    "config.lr = 0.001\n",
    "config.num_epochs = 250\n",
    "config.bs = 50"
   ]
  },
  {
   "cell_type": "markdown",
   "id": "1385fa59",
   "metadata": {
    "papermill": {
     "duration": 0.029388,
     "end_time": "2021-11-15T10:07:54.141294",
     "exception": false,
     "start_time": "2021-11-15T10:07:54.111906",
     "status": "completed"
    },
    "tags": []
   },
   "source": [
    "### Running Models with the Training data\n",
    "Details about the network layers:\n",
    "- A first affine layer has 784 inputs and does 100 affine transforms. These are followed by a Relu\n",
    "- A second affine layer has 100 inputs from the 100 activations of the past layer, and does 100 affine transforms. These are followed by a Relu\n",
    "- A third affine layer has 100 activations and does 2 affine transformations to create an embedding for visualization. There is no non-linearity here.\n",
    "- A final \"logistic regression\" which has an affine transform from 2 inputs to 1 output, which is squeezed through a sigmoid.\n"
   ]
  },
  {
   "cell_type": "code",
   "execution_count": 17,
   "id": "2b9c66db",
   "metadata": {
    "execution": {
     "iopub.execute_input": "2021-11-15T10:07:54.201595Z",
     "iopub.status.busy": "2021-11-15T10:07:54.201047Z",
     "iopub.status.idle": "2021-11-15T10:07:54.212461Z",
     "shell.execute_reply": "2021-11-15T10:07:54.212016Z"
    },
    "papermill": {
     "duration": 0.04393,
     "end_time": "2021-11-15T10:07:54.212563",
     "exception": false,
     "start_time": "2021-11-15T10:07:54.168633",
     "status": "completed"
    },
    "tags": []
   },
   "outputs": [],
   "source": [
    "data = Data(X_train, y_train.reshape(-1,1))\n",
    "sampler = Sampler(data, config.bs, shuffle=True)\n",
    "\n",
    "dl = Dataloader(data, sampler)\n",
    "\n",
    "opt = GD(config.lr)\n",
    "loss = MSE()"
   ]
  },
  {
   "cell_type": "code",
   "execution_count": 18,
   "id": "b275e4c2",
   "metadata": {
    "execution": {
     "iopub.execute_input": "2021-11-15T10:07:54.274848Z",
     "iopub.status.busy": "2021-11-15T10:07:54.274287Z",
     "iopub.status.idle": "2021-11-15T10:07:54.285112Z",
     "shell.execute_reply": "2021-11-15T10:07:54.284654Z"
    },
    "papermill": {
     "duration": 0.044807,
     "end_time": "2021-11-15T10:07:54.285218",
     "exception": false,
     "start_time": "2021-11-15T10:07:54.240411",
     "status": "completed"
    },
    "tags": []
   },
   "outputs": [],
   "source": [
    "training_data_x = X_train\n",
    "testing_data_x = X_test\n",
    "training_data_y = y_train.reshape(-1,1)\n",
    "testing_data_y = y_test.reshape(-1,1)"
   ]
  },
  {
   "cell_type": "code",
   "execution_count": 19,
   "id": "76951160",
   "metadata": {
    "execution": {
     "iopub.execute_input": "2021-11-15T10:07:54.355129Z",
     "iopub.status.busy": "2021-11-15T10:07:54.354417Z",
     "iopub.status.idle": "2021-11-15T10:07:54.369961Z",
     "shell.execute_reply": "2021-11-15T10:07:54.369449Z"
    },
    "papermill": {
     "duration": 0.056382,
     "end_time": "2021-11-15T10:07:54.370086",
     "exception": false,
     "start_time": "2021-11-15T10:07:54.313704",
     "status": "completed"
    },
    "tags": []
   },
   "outputs": [
    {
     "name": "stdout",
     "output_type": "stream",
     "text": [
      "xavier\n",
      "xavier\n",
      "xavier\n",
      "xavier\n",
      "xavier\n"
     ]
    }
   ],
   "source": [
    "layers = [Affine(\"first\", 784, 100), Relu(\"first\"), Affine(\"second\", 100, 100), Relu(\"second\"), Affine(\"third\", 100, 2), Affine(\"last\", 2, 1), Sigmoid(\"last\")]\n",
    "model_nn = Model(layers)\n",
    "model_lr = Model([Affine(\"logits\", 784, 1), Sigmoid(\"sigmoid\")])"
   ]
  },
  {
   "cell_type": "code",
   "execution_count": 20,
   "id": "6eede77a",
   "metadata": {
    "execution": {
     "iopub.execute_input": "2021-11-15T10:07:54.433414Z",
     "iopub.status.busy": "2021-11-15T10:07:54.432667Z",
     "iopub.status.idle": "2021-11-15T10:07:54.442970Z",
     "shell.execute_reply": "2021-11-15T10:07:54.443598Z"
    },
    "papermill": {
     "duration": 0.042541,
     "end_time": "2021-11-15T10:07:54.443821",
     "exception": false,
     "start_time": "2021-11-15T10:07:54.401280",
     "status": "completed"
    },
    "tags": []
   },
   "outputs": [],
   "source": [
    "nn_learner = Learner(loss, model_nn, opt, config.num_epochs)\n",
    "acc_nn = ClfCallback(nn_learner, config.bs, training_data_x , testing_data_x, training_data_y, testing_data_y)\n",
    "nn_learner.set_callbacks([acc_nn])"
   ]
  },
  {
   "cell_type": "code",
   "execution_count": 21,
   "id": "877b6cc7",
   "metadata": {
    "execution": {
     "iopub.execute_input": "2021-11-15T10:07:54.506487Z",
     "iopub.status.busy": "2021-11-15T10:07:54.505861Z",
     "iopub.status.idle": "2021-11-15T10:07:54.516794Z",
     "shell.execute_reply": "2021-11-15T10:07:54.516316Z"
    },
    "papermill": {
     "duration": 0.043805,
     "end_time": "2021-11-15T10:07:54.516906",
     "exception": false,
     "start_time": "2021-11-15T10:07:54.473101",
     "status": "completed"
    },
    "tags": []
   },
   "outputs": [],
   "source": [
    "lr_learner = Learner(loss, model_lr, opt, config.num_epochs)\n",
    "acc_lr = ClfCallback(lr_learner, config.bs, training_data_x , testing_data_x, training_data_y, testing_data_y)\n",
    "lr_learner.set_callbacks([acc_lr])"
   ]
  },
  {
   "cell_type": "code",
   "execution_count": 22,
   "id": "d9b133c3",
   "metadata": {
    "execution": {
     "iopub.execute_input": "2021-11-15T10:07:54.578407Z",
     "iopub.status.busy": "2021-11-15T10:07:54.577808Z",
     "iopub.status.idle": "2021-11-15T10:10:11.019734Z",
     "shell.execute_reply": "2021-11-15T10:10:11.020491Z"
    },
    "papermill": {
     "duration": 136.475363,
     "end_time": "2021-11-15T10:10:11.020643",
     "exception": false,
     "start_time": "2021-11-15T10:07:54.545280",
     "status": "completed"
    },
    "tags": []
   },
   "outputs": [
    {
     "name": "stdout",
     "output_type": "stream",
     "text": [
      "Epoch 0, Loss 0.2415\n",
      "Training Accuracy: 0.6777, Testing Accuracy: 0.6618\n",
      "\n"
     ]
    },
    {
     "name": "stdout",
     "output_type": "stream",
     "text": [
      "Epoch 10, Loss 0.1017\n",
      "Training Accuracy: 0.9072, Testing Accuracy: 0.9143\n",
      "\n"
     ]
    },
    {
     "name": "stdout",
     "output_type": "stream",
     "text": [
      "Epoch 20, Loss 0.0608\n",
      "Training Accuracy: 0.9383, Testing Accuracy: 0.9461\n",
      "\n"
     ]
    },
    {
     "name": "stdout",
     "output_type": "stream",
     "text": [
      "Epoch 30, Loss 0.0467\n",
      "Training Accuracy: 0.9513, Testing Accuracy: 0.9612\n",
      "\n"
     ]
    },
    {
     "name": "stdout",
     "output_type": "stream",
     "text": [
      "Epoch 40, Loss 0.0398\n",
      "Training Accuracy: 0.9561, Testing Accuracy: 0.9642\n",
      "\n"
     ]
    },
    {
     "name": "stdout",
     "output_type": "stream",
     "text": [
      "Epoch 50, Loss 0.0356\n",
      "Training Accuracy: 0.9602, Testing Accuracy: 0.9662\n",
      "\n"
     ]
    },
    {
     "name": "stdout",
     "output_type": "stream",
     "text": [
      "Epoch 60, Loss 0.0328\n",
      "Training Accuracy: 0.9626, Testing Accuracy: 0.9688\n",
      "\n"
     ]
    },
    {
     "name": "stdout",
     "output_type": "stream",
     "text": [
      "Epoch 70, Loss 0.0307\n",
      "Training Accuracy: 0.9643, Testing Accuracy: 0.9698\n",
      "\n"
     ]
    },
    {
     "name": "stdout",
     "output_type": "stream",
     "text": [
      "Epoch 80, Loss 0.029\n",
      "Training Accuracy: 0.9659, Testing Accuracy: 0.9713\n",
      "\n"
     ]
    },
    {
     "name": "stdout",
     "output_type": "stream",
     "text": [
      "Epoch 90, Loss 0.0277\n",
      "Training Accuracy: 0.9674, Testing Accuracy: 0.9723\n",
      "\n"
     ]
    },
    {
     "name": "stdout",
     "output_type": "stream",
     "text": [
      "Epoch 100, Loss 0.0265\n",
      "Training Accuracy: 0.9684, Testing Accuracy: 0.9733\n",
      "\n"
     ]
    },
    {
     "name": "stdout",
     "output_type": "stream",
     "text": [
      "Epoch 110, Loss 0.0256\n",
      "Training Accuracy: 0.9695, Testing Accuracy: 0.9738\n",
      "\n"
     ]
    },
    {
     "name": "stdout",
     "output_type": "stream",
     "text": [
      "Epoch 120, Loss 0.0247\n",
      "Training Accuracy: 0.9705, Testing Accuracy: 0.9728\n",
      "\n"
     ]
    },
    {
     "name": "stdout",
     "output_type": "stream",
     "text": [
      "Epoch 130, Loss 0.024\n",
      "Training Accuracy: 0.9717, Testing Accuracy: 0.9723\n",
      "\n"
     ]
    },
    {
     "name": "stdout",
     "output_type": "stream",
     "text": [
      "Epoch 140, Loss 0.0233\n",
      "Training Accuracy: 0.9727, Testing Accuracy: 0.9728\n",
      "\n"
     ]
    },
    {
     "name": "stdout",
     "output_type": "stream",
     "text": [
      "Epoch 150, Loss 0.0227\n",
      "Training Accuracy: 0.9730, Testing Accuracy: 0.9733\n",
      "\n"
     ]
    },
    {
     "name": "stdout",
     "output_type": "stream",
     "text": [
      "Epoch 160, Loss 0.0222\n",
      "Training Accuracy: 0.9739, Testing Accuracy: 0.9733\n",
      "\n"
     ]
    },
    {
     "name": "stdout",
     "output_type": "stream",
     "text": [
      "Epoch 170, Loss 0.0217\n",
      "Training Accuracy: 0.9753, Testing Accuracy: 0.9733\n",
      "\n"
     ]
    },
    {
     "name": "stdout",
     "output_type": "stream",
     "text": [
      "Epoch 180, Loss 0.0212\n",
      "Training Accuracy: 0.9758, Testing Accuracy: 0.9728\n",
      "\n"
     ]
    },
    {
     "name": "stdout",
     "output_type": "stream",
     "text": [
      "Epoch 190, Loss 0.0207\n",
      "Training Accuracy: 0.9762, Testing Accuracy: 0.9723\n",
      "\n"
     ]
    },
    {
     "name": "stdout",
     "output_type": "stream",
     "text": [
      "Epoch 200, Loss 0.0203\n",
      "Training Accuracy: 0.9770, Testing Accuracy: 0.9733\n",
      "\n"
     ]
    },
    {
     "name": "stdout",
     "output_type": "stream",
     "text": [
      "Epoch 210, Loss 0.0199\n",
      "Training Accuracy: 0.9773, Testing Accuracy: 0.9733\n",
      "\n"
     ]
    },
    {
     "name": "stdout",
     "output_type": "stream",
     "text": [
      "Epoch 220, Loss 0.0195\n",
      "Training Accuracy: 0.9775, Testing Accuracy: 0.9733\n",
      "\n"
     ]
    },
    {
     "name": "stdout",
     "output_type": "stream",
     "text": [
      "Epoch 230, Loss 0.0191\n",
      "Training Accuracy: 0.9784, Testing Accuracy: 0.9733\n",
      "\n"
     ]
    },
    {
     "name": "stdout",
     "output_type": "stream",
     "text": [
      "Epoch 240, Loss 0.0188\n",
      "Training Accuracy: 0.9789, Testing Accuracy: 0.9738\n",
      "\n"
     ]
    },
    {
     "data": {
      "text/plain": [
       "0.010774493976319133"
      ]
     },
     "execution_count": 22,
     "metadata": {},
     "output_type": "execute_result"
    }
   ],
   "source": [
    "nn_learner.train_loop(dl)"
   ]
  },
  {
   "cell_type": "code",
   "execution_count": 23,
   "id": "e0163366",
   "metadata": {
    "execution": {
     "iopub.execute_input": "2021-11-15T10:10:11.107189Z",
     "iopub.status.busy": "2021-11-15T10:10:11.106564Z",
     "iopub.status.idle": "2021-11-15T10:10:30.878309Z",
     "shell.execute_reply": "2021-11-15T10:10:30.879148Z"
    },
    "papermill": {
     "duration": 19.819987,
     "end_time": "2021-11-15T10:10:30.879308",
     "exception": false,
     "start_time": "2021-11-15T10:10:11.059321",
     "status": "completed"
    },
    "tags": []
   },
   "outputs": [
    {
     "name": "stdout",
     "output_type": "stream",
     "text": [
      "Epoch 0, Loss 0.2378\n",
      "Training Accuracy: 0.6915, Testing Accuracy: 0.6820\n",
      "\n"
     ]
    },
    {
     "name": "stdout",
     "output_type": "stream",
     "text": [
      "Epoch 10, Loss 0.1056\n",
      "Training Accuracy: 0.8997, Testing Accuracy: 0.9037\n",
      "\n"
     ]
    },
    {
     "name": "stdout",
     "output_type": "stream",
     "text": [
      "Epoch 20, Loss 0.0813\n",
      "Training Accuracy: 0.9224, Testing Accuracy: 0.9309\n",
      "\n"
     ]
    },
    {
     "name": "stdout",
     "output_type": "stream",
     "text": [
      "Epoch 30, Loss 0.0698\n",
      "Training Accuracy: 0.9338, Testing Accuracy: 0.9466\n",
      "\n"
     ]
    },
    {
     "name": "stdout",
     "output_type": "stream",
     "text": [
      "Epoch 40, Loss 0.0628\n",
      "Training Accuracy: 0.9396, Testing Accuracy: 0.9491\n",
      "\n"
     ]
    },
    {
     "name": "stdout",
     "output_type": "stream",
     "text": [
      "Epoch 50, Loss 0.0581\n",
      "Training Accuracy: 0.9437, Testing Accuracy: 0.9516\n",
      "\n"
     ]
    },
    {
     "name": "stdout",
     "output_type": "stream",
     "text": [
      "Epoch 60, Loss 0.0546\n",
      "Training Accuracy: 0.9458, Testing Accuracy: 0.9561\n",
      "\n"
     ]
    },
    {
     "name": "stdout",
     "output_type": "stream",
     "text": [
      "Epoch 70, Loss 0.0519\n",
      "Training Accuracy: 0.9478, Testing Accuracy: 0.9572\n",
      "\n"
     ]
    },
    {
     "name": "stdout",
     "output_type": "stream",
     "text": [
      "Epoch 80, Loss 0.0498\n",
      "Training Accuracy: 0.9496, Testing Accuracy: 0.9587\n",
      "\n"
     ]
    },
    {
     "name": "stdout",
     "output_type": "stream",
     "text": [
      "Epoch 90, Loss 0.048\n",
      "Training Accuracy: 0.9512, Testing Accuracy: 0.9602\n",
      "\n"
     ]
    },
    {
     "name": "stdout",
     "output_type": "stream",
     "text": [
      "Epoch 100, Loss 0.0465\n",
      "Training Accuracy: 0.9524, Testing Accuracy: 0.9622\n",
      "\n"
     ]
    },
    {
     "name": "stdout",
     "output_type": "stream",
     "text": [
      "Epoch 110, Loss 0.0452\n",
      "Training Accuracy: 0.9539, Testing Accuracy: 0.9617\n",
      "\n"
     ]
    },
    {
     "name": "stdout",
     "output_type": "stream",
     "text": [
      "Epoch 120, Loss 0.0441\n",
      "Training Accuracy: 0.9553, Testing Accuracy: 0.9632\n",
      "\n"
     ]
    },
    {
     "name": "stdout",
     "output_type": "stream",
     "text": [
      "Epoch 130, Loss 0.0432\n",
      "Training Accuracy: 0.9559, Testing Accuracy: 0.9647\n",
      "\n"
     ]
    },
    {
     "name": "stdout",
     "output_type": "stream",
     "text": [
      "Epoch 140, Loss 0.0423\n",
      "Training Accuracy: 0.9563, Testing Accuracy: 0.9652\n",
      "\n"
     ]
    },
    {
     "name": "stdout",
     "output_type": "stream",
     "text": [
      "Epoch 150, Loss 0.0416\n",
      "Training Accuracy: 0.9569, Testing Accuracy: 0.9652\n",
      "\n"
     ]
    },
    {
     "name": "stdout",
     "output_type": "stream",
     "text": [
      "Epoch 160, Loss 0.0409\n",
      "Training Accuracy: 0.9570, Testing Accuracy: 0.9657\n",
      "\n"
     ]
    },
    {
     "name": "stdout",
     "output_type": "stream",
     "text": [
      "Epoch 170, Loss 0.0402\n",
      "Training Accuracy: 0.9576, Testing Accuracy: 0.9657\n",
      "\n"
     ]
    },
    {
     "name": "stdout",
     "output_type": "stream",
     "text": [
      "Epoch 180, Loss 0.0397\n",
      "Training Accuracy: 0.9580, Testing Accuracy: 0.9657\n",
      "\n"
     ]
    },
    {
     "name": "stdout",
     "output_type": "stream",
     "text": [
      "Epoch 190, Loss 0.0391\n",
      "Training Accuracy: 0.9592, Testing Accuracy: 0.9657\n",
      "\n"
     ]
    },
    {
     "name": "stdout",
     "output_type": "stream",
     "text": [
      "Epoch 200, Loss 0.0386\n",
      "Training Accuracy: 0.9598, Testing Accuracy: 0.9657\n",
      "\n"
     ]
    },
    {
     "name": "stdout",
     "output_type": "stream",
     "text": [
      "Epoch 210, Loss 0.0382\n",
      "Training Accuracy: 0.9602, Testing Accuracy: 0.9657\n",
      "\n"
     ]
    },
    {
     "name": "stdout",
     "output_type": "stream",
     "text": [
      "Epoch 220, Loss 0.0378\n",
      "Training Accuracy: 0.9609, Testing Accuracy: 0.9657\n",
      "\n"
     ]
    },
    {
     "name": "stdout",
     "output_type": "stream",
     "text": [
      "Epoch 230, Loss 0.0374\n",
      "Training Accuracy: 0.9615, Testing Accuracy: 0.9662\n",
      "\n"
     ]
    },
    {
     "name": "stdout",
     "output_type": "stream",
     "text": [
      "Epoch 240, Loss 0.037\n",
      "Training Accuracy: 0.9618, Testing Accuracy: 0.9662\n",
      "\n"
     ]
    },
    {
     "data": {
      "text/plain": [
       "0.06524958539878949"
      ]
     },
     "execution_count": 23,
     "metadata": {},
     "output_type": "execute_result"
    }
   ],
   "source": [
    "lr_learner.train_loop(dl)"
   ]
  },
  {
   "cell_type": "code",
   "execution_count": 24,
   "id": "ca410940",
   "metadata": {
    "execution": {
     "iopub.execute_input": "2021-11-15T10:10:30.979346Z",
     "iopub.status.busy": "2021-11-15T10:10:30.978796Z",
     "iopub.status.idle": "2021-11-15T10:10:31.252932Z",
     "shell.execute_reply": "2021-11-15T10:10:31.253366Z"
    },
    "papermill": {
     "duration": 0.328805,
     "end_time": "2021-11-15T10:10:31.253510",
     "exception": false,
     "start_time": "2021-11-15T10:10:30.924705",
     "status": "completed"
    },
    "tags": []
   },
   "outputs": [
    {
     "data": {
      "text/plain": [
       "<matplotlib.legend.Legend at 0x7f5f3f5c6860>"
      ]
     },
     "execution_count": 24,
     "metadata": {},
     "output_type": "execute_result"
    },
    {
     "data": {
      "image/png": "[encoded data removed]",
      "text/plain": [
       "<Figure size 1080x720 with 1 Axes>"
      ]
     },
     "metadata": {
      "needs_background": "light"
     },
     "output_type": "display_data"
    }
   ],
   "source": [
    "#comparing the results of NN and LR\n",
    "plt.figure(figsize=(15,10))\n",
    "\n",
    "# Neural Network plots\n",
    "plt.plot(acc_nn.accuracies, 'r-', label = \"Training Accuracies - NN\")\n",
    "plt.plot(acc_nn.test_accuracies, 'g-', label = \"Testing Accuracies - NN\")\n",
    "\n",
    "# Logistic Regression plots\n",
    "plt.plot(acc_lr.accuracies, 'k-', label = \"Training Accuracies - LR\")\n",
    "plt.plot(acc_lr.test_accuracies, 'b-', label = \"Testing Accuracies - LR\")\n",
    "plt.legend()"
   ]
  },
  {
   "cell_type": "markdown",
   "id": "80dfb35c",
   "metadata": {
    "papermill": {
     "duration": 0.042858,
     "end_time": "2021-11-15T10:10:31.341234",
     "exception": false,
     "start_time": "2021-11-15T10:10:31.298376",
     "status": "completed"
    },
    "tags": []
   },
   "source": [
    "#### Plotting the outputs of this layer of the NN.\n"
   ]
  },
  {
   "cell_type": "code",
   "execution_count": 25,
   "id": "45eb2ff5",
   "metadata": {
    "execution": {
     "iopub.execute_input": "2021-11-15T10:10:31.435365Z",
     "iopub.status.busy": "2021-11-15T10:10:31.434379Z",
     "iopub.status.idle": "2021-11-15T10:10:31.462960Z",
     "shell.execute_reply": "2021-11-15T10:10:31.462443Z"
    },
    "papermill": {
     "duration": 0.076178,
     "end_time": "2021-11-15T10:10:31.463090",
     "exception": false,
     "start_time": "2021-11-15T10:10:31.386912",
     "status": "completed"
    },
    "tags": []
   },
   "outputs": [],
   "source": [
    "new_model = Model(layers[:-2])\n",
    "testing_plot = new_model(testing_data_x)"
   ]
  },
  {
   "cell_type": "code",
   "execution_count": 26,
   "id": "4c0a5485",
   "metadata": {
    "execution": {
     "iopub.execute_input": "2021-11-15T10:10:31.561753Z",
     "iopub.status.busy": "2021-11-15T10:10:31.561181Z",
     "iopub.status.idle": "2021-11-15T10:10:31.793475Z",
     "shell.execute_reply": "2021-11-15T10:10:31.792790Z"
    },
    "papermill": {
     "duration": 0.280573,
     "end_time": "2021-11-15T10:10:31.793605",
     "exception": false,
     "start_time": "2021-11-15T10:10:31.513032",
     "status": "completed"
    },
    "tags": []
   },
   "outputs": [
    {
     "data": {
      "text/plain": [
       "Text(0.5, 1.0, 'Outputs')"
      ]
     },
     "execution_count": 26,
     "metadata": {},
     "output_type": "execute_result"
    },
    {
     "data": {
      "image/png": "[encoded data removed]",
      "text/plain": [
       "<Figure size 576x504 with 1 Axes>"
      ]
     },
     "metadata": {
      "needs_background": "light"
     },
     "output_type": "display_data"
    }
   ],
   "source": [
    "# Plotting the scatter plot of points and color coding by class\n",
    "plt.figure(figsize=(8,7))\n",
    "plt.scatter(testing_plot[:,0], testing_plot[:,1], alpha = 0.1, c = y_test.ravel());\n",
    "plt.title('Outputs')"
   ]
  },
  {
   "cell_type": "markdown",
   "id": "a74fcf8f",
   "metadata": {
    "papermill": {
     "duration": 0.046039,
     "end_time": "2021-11-15T10:10:31.888353",
     "exception": false,
     "start_time": "2021-11-15T10:10:31.842314",
     "status": "completed"
    },
    "tags": []
   },
   "source": [
    "Probability contours"
   ]
  },
  {
   "cell_type": "code",
   "execution_count": 27,
   "id": "d0afc8e3",
   "metadata": {
    "execution": {
     "iopub.execute_input": "2021-11-15T10:10:32.006651Z",
     "iopub.status.busy": "2021-11-15T10:10:32.006085Z",
     "iopub.status.idle": "2021-11-15T10:10:32.017127Z",
     "shell.execute_reply": "2021-11-15T10:10:32.016675Z"
    },
    "papermill": {
     "duration": 0.062238,
     "end_time": "2021-11-15T10:10:32.017237",
     "exception": false,
     "start_time": "2021-11-15T10:10:31.954999",
     "status": "completed"
    },
    "tags": []
   },
   "outputs": [],
   "source": [
    "model_prob = Model(layers[-2:]) "
   ]
  },
  {
   "cell_type": "code",
   "execution_count": 28,
   "id": "9b96e238",
   "metadata": {
    "execution": {
     "iopub.execute_input": "2021-11-15T10:10:32.120108Z",
     "iopub.status.busy": "2021-11-15T10:10:32.119309Z",
     "iopub.status.idle": "2021-11-15T10:10:32.134290Z",
     "shell.execute_reply": "2021-11-15T10:10:32.134748Z"
    },
    "papermill": {
     "duration": 0.073524,
     "end_time": "2021-11-15T10:10:32.134885",
     "exception": false,
     "start_time": "2021-11-15T10:10:32.061361",
     "status": "completed"
    },
    "tags": []
   },
   "outputs": [],
   "source": [
    "#creating the x and y ranges according to the above generated plot.\n",
    "x_range = np.linspace(-4, 1, 100) \n",
    "y_range = np.linspace(-6, 6, 100) \n",
    "x_grid, y_grid = np.meshgrid(x_range, y_range) # x_grid and y_grig are of size 100 X 100\n",
    "\n",
    "# converting x_grid and y_grid to continuous arrays\n",
    "x_gridflat = np.ravel(x_grid)\n",
    "y_gridflat = np.ravel(y_grid)\n",
    "\n",
    "# The last layer of the current model takes two columns as input. Hence transpose of np.vstack() is required.\n",
    "X = np.vstack((x_gridflat, y_gridflat)).T\n",
    "\n",
    "prob_contour = model_prob(X).reshape(100,100) "
   ]
  },
  {
   "cell_type": "code",
   "execution_count": 29,
   "id": "da72499a",
   "metadata": {
    "execution": {
     "iopub.execute_input": "2021-11-15T10:10:32.247603Z",
     "iopub.status.busy": "2021-11-15T10:10:32.246970Z",
     "iopub.status.idle": "2021-11-15T10:10:32.540524Z",
     "shell.execute_reply": "2021-11-15T10:10:32.541100Z"
    },
    "papermill": {
     "duration": 0.357857,
     "end_time": "2021-11-15T10:10:32.541289",
     "exception": false,
     "start_time": "2021-11-15T10:10:32.183432",
     "status": "completed"
    },
    "tags": []
   },
   "outputs": [
    {
     "data": {
      "image/png": "[encoded data removed]",
      "text/plain": [
       "<Figure size 720x648 with 1 Axes>"
      ]
     },
     "metadata": {
      "needs_background": "light"
     },
     "output_type": "display_data"
    }
   ],
   "source": [
    "plt.figure(figsize=(10,9))\n",
    "plt.scatter(testing_plot[:,0], testing_plot[:,1], alpha = 0.1, c = y_test.ravel())\n",
    "contours = plt.contour(x_grid,y_grid,prob_contour)\n",
    "plt.title('Probability Contours')\n",
    "plt.clabel(contours, inline = True );"
   ]
  },
  {
   "cell_type": "code",
   "execution_count": null,
   "id": "e81b4ac7",
   "metadata": {
    "papermill": {
     "duration": 0.052594,
     "end_time": "2021-11-15T10:10:32.647166",
     "exception": false,
     "start_time": "2021-11-15T10:10:32.594572",
     "status": "completed"
    },
    "tags": []
   },
   "outputs": [],
   "source": []
  }
 ],
 "metadata": {
  "kernelspec": {
   "display_name": "Python 3",
   "language": "python",
   "name": "python3"
  },
  "language_info": {
   "codemirror_mode": {
    "name": "ipython",
    "version": 3
   },
   "file_extension": ".py",
   "mimetype": "text/x-python",
   "name": "python",
   "nbconvert_exporter": "python",
   "pygments_lexer": "ipython3",
   "version": "3.6.15"
  },
  "papermill": {
   "default_parameters": {},
   "duration": 164.849537,
   "end_time": "2021-11-15T10:10:33.004909",
   "environment_variables": {},
   "exception": null,
   "input_path": "2020-08-11-part2.ipynb",
   "output_path": "2020-08-11-part2.ipynb",
   "parameters": {},
   "start_time": "2021-11-15T10:07:48.155372",
   "version": "2.3.3"
  }
 },
 "nbformat": 4,
 "nbformat_minor": 5
}