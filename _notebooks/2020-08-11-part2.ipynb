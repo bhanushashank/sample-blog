{
 "cells": [
  {
   "cell_type": "markdown",
   "id": "98380cd3",
   "metadata": {
    "papermill": {
     "duration": 0.038341,
     "end_time": "2021-11-05T20:08:24.982443",
     "exception": false,
     "start_time": "2021-11-05T20:08:24.944102",
     "status": "completed"
    },
    "tags": []
   },
   "source": [
    "# Distinguish Your Own Digits (DYOD)"
   ]
  },
  {
   "cell_type": "markdown",
   "id": "ef31240d",
   "metadata": {
    "papermill": {
     "duration": 0.03359,
     "end_time": "2021-11-05T20:08:25.051487",
     "exception": false,
     "start_time": "2021-11-05T20:08:25.017897",
     "status": "completed"
    },
    "tags": []
   },
   "source": [
    "You are going to write a classifier that distinguishes between the number 3 and number 8."
   ]
  },
  {
   "cell_type": "code",
   "execution_count": 1,
   "id": "b15c8646",
   "metadata": {
    "execution": {
     "iopub.execute_input": "2021-11-05T20:08:25.134421Z",
     "iopub.status.busy": "2021-11-05T20:08:25.132904Z",
     "iopub.status.idle": "2021-11-05T20:08:25.147282Z",
     "shell.execute_reply": "2021-11-05T20:08:25.146515Z"
    },
    "papermill": {
     "duration": 0.060999,
     "end_time": "2021-11-05T20:08:25.147462",
     "exception": false,
     "start_time": "2021-11-05T20:08:25.086463",
     "status": "completed"
    },
    "tags": []
   },
   "outputs": [],
   "source": [
    "%load_ext autoreload\n",
    "%autoreload 2"
   ]
  },
  {
   "cell_type": "code",
   "execution_count": 2,
   "id": "22ef38dc",
   "metadata": {
    "execution": {
     "iopub.execute_input": "2021-11-05T20:08:25.222584Z",
     "iopub.status.busy": "2021-11-05T20:08:25.221866Z",
     "iopub.status.idle": "2021-11-05T20:08:25.960209Z",
     "shell.execute_reply": "2021-11-05T20:08:25.959587Z"
    },
    "papermill": {
     "duration": 0.778478,
     "end_time": "2021-11-05T20:08:25.960459",
     "exception": false,
     "start_time": "2021-11-05T20:08:25.181981",
     "status": "completed"
    },
    "tags": []
   },
   "outputs": [],
   "source": [
    "%matplotlib inline\n",
    "import numpy as np\n",
    "import matplotlib.pyplot as plt\n",
    "import pandas as pd"
   ]
  },
  {
   "cell_type": "markdown",
   "id": "ba036198",
   "metadata": {
    "papermill": {
     "duration": 0.034173,
     "end_time": "2021-11-05T20:08:26.031380",
     "exception": false,
     "start_time": "2021-11-05T20:08:25.997207",
     "status": "completed"
    },
    "tags": []
   },
   "source": [
    "From the command line run `pip install mnist`. This is a library that will help you bring down the mnist dataset. If you run this from a notebook, you need to put  `!pip install mnist` in a cell by itself."
   ]
  },
  {
   "cell_type": "code",
   "execution_count": 3,
   "id": "bb6ad8a1",
   "metadata": {
    "execution": {
     "iopub.execute_input": "2021-11-05T20:08:26.107097Z",
     "iopub.status.busy": "2021-11-05T20:08:26.106331Z",
     "iopub.status.idle": "2021-11-05T20:08:28.462871Z",
     "shell.execute_reply": "2021-11-05T20:08:28.462098Z"
    },
    "papermill": {
     "duration": 2.396749,
     "end_time": "2021-11-05T20:08:28.463035",
     "exception": false,
     "start_time": "2021-11-05T20:08:26.066286",
     "status": "completed"
    },
    "tags": []
   },
   "outputs": [
    {
     "name": "stdout",
     "output_type": "stream",
     "text": [
      "Collecting mnist\r\n"
     ]
    },
    {
     "name": "stdout",
     "output_type": "stream",
     "text": [
      "  Downloading mnist-0.2.2-py2.py3-none-any.whl (3.5 kB)\r\n",
      "Requirement already satisfied: numpy in /opt/hostedtoolcache/Python/3.6.15/x64/lib/python3.6/site-packages (from mnist) (1.19.5)\r\n"
     ]
    },
    {
     "name": "stdout",
     "output_type": "stream",
     "text": [
      "Installing collected packages: mnist\r\n"
     ]
    },
    {
     "name": "stdout",
     "output_type": "stream",
     "text": [
      "Successfully installed mnist-0.2.2\r\n"
     ]
    }
   ],
   "source": [
    "!pip install mnist"
   ]
  },
  {
   "cell_type": "markdown",
   "id": "69df9c9a",
   "metadata": {
    "papermill": {
     "duration": 0.034074,
     "end_time": "2021-11-05T20:08:28.533014",
     "exception": false,
     "start_time": "2021-11-05T20:08:28.498940",
     "status": "completed"
    },
    "tags": []
   },
   "source": [
    "## Preparing the Data"
   ]
  },
  {
   "cell_type": "code",
   "execution_count": 4,
   "id": "7f69d806",
   "metadata": {
    "execution": {
     "iopub.execute_input": "2021-11-05T20:08:28.616327Z",
     "iopub.status.busy": "2021-11-05T20:08:28.611378Z",
     "iopub.status.idle": "2021-11-05T20:08:28.628324Z",
     "shell.execute_reply": "2021-11-05T20:08:28.627628Z"
    },
    "papermill": {
     "duration": 0.060188,
     "end_time": "2021-11-05T20:08:28.628485",
     "exception": false,
     "start_time": "2021-11-05T20:08:28.568297",
     "status": "completed"
    },
    "tags": []
   },
   "outputs": [],
   "source": [
    "import mnist"
   ]
  },
  {
   "cell_type": "code",
   "execution_count": 5,
   "id": "a411e44f",
   "metadata": {
    "execution": {
     "iopub.execute_input": "2021-11-05T20:08:28.704546Z",
     "iopub.status.busy": "2021-11-05T20:08:28.703834Z",
     "iopub.status.idle": "2021-11-05T20:08:29.659895Z",
     "shell.execute_reply": "2021-11-05T20:08:29.659177Z"
    },
    "papermill": {
     "duration": 0.995405,
     "end_time": "2021-11-05T20:08:29.660058",
     "exception": false,
     "start_time": "2021-11-05T20:08:28.664653",
     "status": "completed"
    },
    "tags": []
   },
   "outputs": [],
   "source": [
    "train_images = mnist.train_images()\n",
    "train_labels = mnist.train_labels()"
   ]
  },
  {
   "cell_type": "code",
   "execution_count": 6,
   "id": "dceab3a5",
   "metadata": {
    "execution": {
     "iopub.execute_input": "2021-11-05T20:08:29.734266Z",
     "iopub.status.busy": "2021-11-05T20:08:29.733570Z",
     "iopub.status.idle": "2021-11-05T20:08:29.752200Z",
     "shell.execute_reply": "2021-11-05T20:08:29.751400Z"
    },
    "papermill": {
     "duration": 0.057812,
     "end_time": "2021-11-05T20:08:29.752381",
     "exception": false,
     "start_time": "2021-11-05T20:08:29.694569",
     "status": "completed"
    },
    "tags": []
   },
   "outputs": [
    {
     "data": {
      "text/plain": [
       "((60000, 28, 28), (60000,))"
      ]
     },
     "execution_count": 6,
     "metadata": {},
     "output_type": "execute_result"
    }
   ],
   "source": [
    "train_images.shape, train_labels.shape"
   ]
  },
  {
   "cell_type": "code",
   "execution_count": 7,
   "id": "f50dc2bb",
   "metadata": {
    "execution": {
     "iopub.execute_input": "2021-11-05T20:08:29.830180Z",
     "iopub.status.busy": "2021-11-05T20:08:29.829416Z",
     "iopub.status.idle": "2021-11-05T20:08:30.043959Z",
     "shell.execute_reply": "2021-11-05T20:08:30.043349Z"
    },
    "papermill": {
     "duration": 0.255703,
     "end_time": "2021-11-05T20:08:30.044122",
     "exception": false,
     "start_time": "2021-11-05T20:08:29.788419",
     "status": "completed"
    },
    "tags": []
   },
   "outputs": [],
   "source": [
    "test_images = mnist.test_images()\n",
    "test_labels = mnist.test_labels()"
   ]
  },
  {
   "cell_type": "code",
   "execution_count": 8,
   "id": "fc38cf1b",
   "metadata": {
    "execution": {
     "iopub.execute_input": "2021-11-05T20:08:30.123224Z",
     "iopub.status.busy": "2021-11-05T20:08:30.122351Z",
     "iopub.status.idle": "2021-11-05T20:08:30.142851Z",
     "shell.execute_reply": "2021-11-05T20:08:30.142096Z"
    },
    "papermill": {
     "duration": 0.062628,
     "end_time": "2021-11-05T20:08:30.143027",
     "exception": false,
     "start_time": "2021-11-05T20:08:30.080399",
     "status": "completed"
    },
    "tags": []
   },
   "outputs": [
    {
     "data": {
      "text/plain": [
       "((10000, 28, 28), (10000,))"
      ]
     },
     "execution_count": 8,
     "metadata": {},
     "output_type": "execute_result"
    }
   ],
   "source": [
    "test_images.shape, test_labels.shape"
   ]
  },
  {
   "cell_type": "code",
   "execution_count": 9,
   "id": "f9ed8fe0",
   "metadata": {
    "execution": {
     "iopub.execute_input": "2021-11-05T20:08:30.220323Z",
     "iopub.status.busy": "2021-11-05T20:08:30.219625Z",
     "iopub.status.idle": "2021-11-05T20:08:30.422333Z",
     "shell.execute_reply": "2021-11-05T20:08:30.422922Z"
    },
    "papermill": {
     "duration": 0.243703,
     "end_time": "2021-11-05T20:08:30.423147",
     "exception": false,
     "start_time": "2021-11-05T20:08:30.179444",
     "status": "completed"
    },
    "tags": []
   },
   "outputs": [
    {
     "name": "stdout",
     "output_type": "stream",
     "text": [
      "2\n"
     ]
    },
    {
     "data": {
      "text/plain": [
       "<matplotlib.image.AxesImage at 0x7fa73ebad0f0>"
      ]
     },
     "execution_count": 9,
     "metadata": {},
     "output_type": "execute_result"
    },
    {
     "data": {
      "image/png": "[encoded data removed]",
      "text/plain": [
       "<Figure size 432x288 with 1 Axes>"
      ]
     },
     "metadata": {
      "needs_background": "light"
     },
     "output_type": "display_data"
    }
   ],
   "source": [
    "image_index = 7776 # You may select anything up to 60,000\n",
    "print(train_labels[image_index]) \n",
    "plt.imshow(train_images[image_index], cmap='Greys')"
   ]
  },
  {
   "cell_type": "markdown",
   "id": "a8d2388d",
   "metadata": {
    "papermill": {
     "duration": 0.037103,
     "end_time": "2021-11-05T20:08:30.497363",
     "exception": false,
     "start_time": "2021-11-05T20:08:30.460260",
     "status": "completed"
    },
    "tags": []
   },
   "source": [
    "## Filter data to get 3 and 8 out"
   ]
  },
  {
   "cell_type": "code",
   "execution_count": 10,
   "id": "776f7fc7",
   "metadata": {
    "execution": {
     "iopub.execute_input": "2021-11-05T20:08:30.582281Z",
     "iopub.status.busy": "2021-11-05T20:08:30.581523Z",
     "iopub.status.idle": "2021-11-05T20:08:30.602808Z",
     "shell.execute_reply": "2021-11-05T20:08:30.602182Z"
    },
    "papermill": {
     "duration": 0.067649,
     "end_time": "2021-11-05T20:08:30.602970",
     "exception": false,
     "start_time": "2021-11-05T20:08:30.535321",
     "status": "completed"
    },
    "tags": []
   },
   "outputs": [],
   "source": [
    "train_filter = np.where((train_labels == 3 ) | (train_labels == 8))\n",
    "test_filter = np.where((test_labels == 3) | (test_labels == 8))\n",
    "X_train, y_train = train_images[train_filter], train_labels[train_filter]\n",
    "X_test, y_test = test_images[test_filter], test_labels[test_filter]"
   ]
  },
  {
   "cell_type": "markdown",
   "id": "948f0b7e",
   "metadata": {
    "papermill": {
     "duration": 0.040456,
     "end_time": "2021-11-05T20:08:30.681262",
     "exception": false,
     "start_time": "2021-11-05T20:08:30.640806",
     "status": "completed"
    },
    "tags": []
   },
   "source": [
    "We normalize the pizel values in the 0 to 1 range"
   ]
  },
  {
   "cell_type": "code",
   "execution_count": 11,
   "id": "ee4c2166",
   "metadata": {
    "execution": {
     "iopub.execute_input": "2021-11-05T20:08:30.759778Z",
     "iopub.status.busy": "2021-11-05T20:08:30.759099Z",
     "iopub.status.idle": "2021-11-05T20:08:30.826964Z",
     "shell.execute_reply": "2021-11-05T20:08:30.826287Z"
    },
    "papermill": {
     "duration": 0.109609,
     "end_time": "2021-11-05T20:08:30.827148",
     "exception": false,
     "start_time": "2021-11-05T20:08:30.717539",
     "status": "completed"
    },
    "tags": []
   },
   "outputs": [],
   "source": [
    "X_train = X_train/255.\n",
    "X_test = X_test/255."
   ]
  },
  {
   "cell_type": "markdown",
   "id": "ddcf4fab",
   "metadata": {
    "papermill": {
     "duration": 0.036196,
     "end_time": "2021-11-05T20:08:30.899424",
     "exception": false,
     "start_time": "2021-11-05T20:08:30.863228",
     "status": "completed"
    },
    "tags": []
   },
   "source": [
    "And setup the labels as 1 (when the digit is 3) and 0 (when the digit is 8)"
   ]
  },
  {
   "cell_type": "code",
   "execution_count": 12,
   "id": "7dc908f2",
   "metadata": {
    "execution": {
     "iopub.execute_input": "2021-11-05T20:08:30.980384Z",
     "iopub.status.busy": "2021-11-05T20:08:30.979636Z",
     "iopub.status.idle": "2021-11-05T20:08:30.996588Z",
     "shell.execute_reply": "2021-11-05T20:08:30.997223Z"
    },
    "papermill": {
     "duration": 0.060983,
     "end_time": "2021-11-05T20:08:30.997431",
     "exception": false,
     "start_time": "2021-11-05T20:08:30.936448",
     "status": "completed"
    },
    "tags": []
   },
   "outputs": [],
   "source": [
    "y_train = 1*(y_train==3)\n",
    "y_test = 1*(y_test==3)"
   ]
  },
  {
   "cell_type": "code",
   "execution_count": 13,
   "id": "01e4e969",
   "metadata": {
    "execution": {
     "iopub.execute_input": "2021-11-05T20:08:31.080069Z",
     "iopub.status.busy": "2021-11-05T20:08:31.079293Z",
     "iopub.status.idle": "2021-11-05T20:08:31.094560Z",
     "shell.execute_reply": "2021-11-05T20:08:31.093937Z"
    },
    "papermill": {
     "duration": 0.061038,
     "end_time": "2021-11-05T20:08:31.094737",
     "exception": false,
     "start_time": "2021-11-05T20:08:31.033699",
     "status": "completed"
    },
    "tags": []
   },
   "outputs": [
    {
     "data": {
      "text/plain": [
       "((11982, 28, 28), (1984, 28, 28))"
      ]
     },
     "execution_count": 13,
     "metadata": {},
     "output_type": "execute_result"
    }
   ],
   "source": [
    "X_train.shape, X_test.shape"
   ]
  },
  {
   "cell_type": "markdown",
   "id": "5ccf3f85",
   "metadata": {
    "papermill": {
     "duration": 0.037826,
     "end_time": "2021-11-05T20:08:31.169496",
     "exception": false,
     "start_time": "2021-11-05T20:08:31.131670",
     "status": "completed"
    },
    "tags": []
   },
   "source": [
    "We reshape the data to flatten the image pixels into a set of features or co-variates:"
   ]
  },
  {
   "cell_type": "code",
   "execution_count": 14,
   "id": "5286a4a3",
   "metadata": {
    "execution": {
     "iopub.execute_input": "2021-11-05T20:08:31.249892Z",
     "iopub.status.busy": "2021-11-05T20:08:31.249174Z",
     "iopub.status.idle": "2021-11-05T20:08:31.266089Z",
     "shell.execute_reply": "2021-11-05T20:08:31.265366Z"
    },
    "papermill": {
     "duration": 0.059267,
     "end_time": "2021-11-05T20:08:31.266245",
     "exception": false,
     "start_time": "2021-11-05T20:08:31.206978",
     "status": "completed"
    },
    "tags": []
   },
   "outputs": [
    {
     "data": {
      "text/plain": [
       "((11982, 784), (1984, 784))"
      ]
     },
     "execution_count": 14,
     "metadata": {},
     "output_type": "execute_result"
    }
   ],
   "source": [
    "X_train = X_train.reshape(X_train.shape[0], -1)\n",
    "X_test = X_test.reshape(X_test.shape[0], -1)\n",
    "X_train.shape, X_test.shape"
   ]
  },
  {
   "cell_type": "code",
   "execution_count": 15,
   "id": "73c5f88a",
   "metadata": {
    "execution": {
     "iopub.execute_input": "2021-11-05T20:08:31.347449Z",
     "iopub.status.busy": "2021-11-05T20:08:31.346609Z",
     "iopub.status.idle": "2021-11-05T20:08:31.370487Z",
     "shell.execute_reply": "2021-11-05T20:08:31.371159Z"
    },
    "papermill": {
     "duration": 0.068175,
     "end_time": "2021-11-05T20:08:31.371368",
     "exception": false,
     "start_time": "2021-11-05T20:08:31.303193",
     "status": "completed"
    },
    "tags": []
   },
   "outputs": [],
   "source": [
    "#Impoting functions from 'Kudzu'\n",
    "from kudzu.model import Model\n",
    "from kudzu.train import Learner\n",
    "from kudzu.optim import GD\n",
    "from kudzu.data import Data, Sampler,Dataloader\n",
    "\n",
    "from kudzu.callbacks import AccCallback\n",
    "from kudzu.callbacks import ClfCallback\n",
    "\n",
    "from kudzu.loss import MSE\n",
    "\n",
    "from kudzu.layer import Sigmoid,Relu\n",
    "from kudzu.layer import Affine"
   ]
  },
  {
   "cell_type": "markdown",
   "id": "bc01172a",
   "metadata": {
    "papermill": {
     "duration": 0.038902,
     "end_time": "2021-11-05T20:08:31.448478",
     "exception": false,
     "start_time": "2021-11-05T20:08:31.409576",
     "status": "completed"
    },
    "tags": []
   },
   "source": [
    "### Let us create a `Config` class, to store important parameters. \n",
    "This class essentially plays the role of a dictionary."
   ]
  },
  {
   "cell_type": "code",
   "execution_count": 16,
   "id": "978281aa",
   "metadata": {
    "execution": {
     "iopub.execute_input": "2021-11-05T20:08:31.530291Z",
     "iopub.status.busy": "2021-11-05T20:08:31.529201Z",
     "iopub.status.idle": "2021-11-05T20:08:31.547664Z",
     "shell.execute_reply": "2021-11-05T20:08:31.546291Z"
    },
    "papermill": {
     "duration": 0.060908,
     "end_time": "2021-11-05T20:08:31.547834",
     "exception": false,
     "start_time": "2021-11-05T20:08:31.486926",
     "status": "completed"
    },
    "tags": []
   },
   "outputs": [],
   "source": [
    "class Config:\n",
    "    pass\n",
    "config = Config()\n",
    "config.lr = 0.001\n",
    "config.num_epochs = 250\n",
    "config.bs = 50"
   ]
  },
  {
   "cell_type": "markdown",
   "id": "1385fa59",
   "metadata": {
    "papermill": {
     "duration": 0.038025,
     "end_time": "2021-11-05T20:08:31.623441",
     "exception": false,
     "start_time": "2021-11-05T20:08:31.585416",
     "status": "completed"
    },
    "tags": []
   },
   "source": [
    "### Running Models with the Training data\n",
    "Details about the network layers:\n",
    "- A first affine layer has 784 inputs and does 100 affine transforms. These are followed by a Relu\n",
    "- A second affine layer has 100 inputs from the 100 activations of the past layer, and does 100 affine transforms. These are followed by a Relu\n",
    "- A third affine layer has 100 activations and does 2 affine transformations to create an embedding for visualization. There is no non-linearity here.\n",
    "- A final \"logistic regression\" which has an affine transform from 2 inputs to 1 output, which is squeezed through a sigmoid.\n"
   ]
  },
  {
   "cell_type": "code",
   "execution_count": 17,
   "id": "2b9c66db",
   "metadata": {
    "execution": {
     "iopub.execute_input": "2021-11-05T20:08:31.705791Z",
     "iopub.status.busy": "2021-11-05T20:08:31.705011Z",
     "iopub.status.idle": "2021-11-05T20:08:31.721389Z",
     "shell.execute_reply": "2021-11-05T20:08:31.720696Z"
    },
    "papermill": {
     "duration": 0.059621,
     "end_time": "2021-11-05T20:08:31.721584",
     "exception": false,
     "start_time": "2021-11-05T20:08:31.661963",
     "status": "completed"
    },
    "tags": []
   },
   "outputs": [],
   "source": [
    "data = Data(X_train, y_train.reshape(-1,1))\n",
    "sampler = Sampler(data, config.bs, shuffle=True)\n",
    "\n",
    "dl = Dataloader(data, sampler)\n",
    "\n",
    "opt = GD(config.lr)\n",
    "loss = MSE()"
   ]
  },
  {
   "cell_type": "code",
   "execution_count": 18,
   "id": "b275e4c2",
   "metadata": {
    "execution": {
     "iopub.execute_input": "2021-11-05T20:08:31.804199Z",
     "iopub.status.busy": "2021-11-05T20:08:31.803466Z",
     "iopub.status.idle": "2021-11-05T20:08:31.819154Z",
     "shell.execute_reply": "2021-11-05T20:08:31.818416Z"
    },
    "papermill": {
     "duration": 0.059077,
     "end_time": "2021-11-05T20:08:31.819894",
     "exception": false,
     "start_time": "2021-11-05T20:08:31.760817",
     "status": "completed"
    },
    "tags": []
   },
   "outputs": [],
   "source": [
    "training_data_x = X_train\n",
    "testing_data_x = X_test\n",
    "training_data_y = y_train.reshape(-1,1)\n",
    "testing_data_y = y_test.reshape(-1,1)"
   ]
  },
  {
   "cell_type": "code",
   "execution_count": 19,
   "id": "76951160",
   "metadata": {
    "execution": {
     "iopub.execute_input": "2021-11-05T20:08:31.901362Z",
     "iopub.status.busy": "2021-11-05T20:08:31.900589Z",
     "iopub.status.idle": "2021-11-05T20:08:31.920049Z",
     "shell.execute_reply": "2021-11-05T20:08:31.920881Z"
    },
    "papermill": {
     "duration": 0.064014,
     "end_time": "2021-11-05T20:08:31.921077",
     "exception": false,
     "start_time": "2021-11-05T20:08:31.857063",
     "status": "completed"
    },
    "tags": []
   },
   "outputs": [
    {
     "name": "stdout",
     "output_type": "stream",
     "text": [
      "xavier\n",
      "xavier\n",
      "xavier\n",
      "xavier\n",
      "xavier\n"
     ]
    }
   ],
   "source": [
    "layers = [Affine(\"first\", 784, 100), Relu(\"first\"), Affine(\"second\", 100, 100), Relu(\"second\"), Affine(\"third\", 100, 2), Affine(\"last\", 2, 1), Sigmoid(\"last\")]\n",
    "model_nn = Model(layers)\n",
    "model_lr = Model([Affine(\"logits\", 784, 1), Sigmoid(\"sigmoid\")])"
   ]
  },
  {
   "cell_type": "code",
   "execution_count": 20,
   "id": "6eede77a",
   "metadata": {
    "execution": {
     "iopub.execute_input": "2021-11-05T20:08:32.013033Z",
     "iopub.status.busy": "2021-11-05T20:08:32.009520Z",
     "iopub.status.idle": "2021-11-05T20:08:32.022675Z",
     "shell.execute_reply": "2021-11-05T20:08:32.021979Z"
    },
    "papermill": {
     "duration": 0.063857,
     "end_time": "2021-11-05T20:08:32.022891",
     "exception": false,
     "start_time": "2021-11-05T20:08:31.959034",
     "status": "completed"
    },
    "tags": []
   },
   "outputs": [],
   "source": [
    "nn_learner = Learner(loss, model_nn, opt, config.num_epochs)\n",
    "acc_nn = ClfCallback(nn_learner, config.bs, training_data_x , testing_data_x, training_data_y, testing_data_y)\n",
    "nn_learner.set_callbacks([acc_nn])"
   ]
  },
  {
   "cell_type": "code",
   "execution_count": 21,
   "id": "877b6cc7",
   "metadata": {
    "execution": {
     "iopub.execute_input": "2021-11-05T20:08:32.117262Z",
     "iopub.status.busy": "2021-11-05T20:08:32.111679Z",
     "iopub.status.idle": "2021-11-05T20:08:32.125177Z",
     "shell.execute_reply": "2021-11-05T20:08:32.124555Z"
    },
    "papermill": {
     "duration": 0.063744,
     "end_time": "2021-11-05T20:08:32.125335",
     "exception": false,
     "start_time": "2021-11-05T20:08:32.061591",
     "status": "completed"
    },
    "tags": []
   },
   "outputs": [],
   "source": [
    "lr_learner = Learner(loss, model_lr, opt, config.num_epochs)\n",
    "acc_lr = ClfCallback(lr_learner, config.bs, training_data_x , testing_data_x, training_data_y, testing_data_y)\n",
    "lr_learner.set_callbacks([acc_lr])"
   ]
  },
  {
   "cell_type": "code",
   "execution_count": 22,
   "id": "d9b133c3",
   "metadata": {
    "execution": {
     "iopub.execute_input": "2021-11-05T20:08:32.206808Z",
     "iopub.status.busy": "2021-11-05T20:08:32.206066Z",
     "iopub.status.idle": "2021-11-05T20:10:58.367042Z",
     "shell.execute_reply": "2021-11-05T20:10:58.368187Z"
    },
    "papermill": {
     "duration": 146.204829,
     "end_time": "2021-11-05T20:10:58.368432",
     "exception": false,
     "start_time": "2021-11-05T20:08:32.163603",
     "status": "completed"
    },
    "tags": []
   },
   "outputs": [
    {
     "name": "stdout",
     "output_type": "stream",
     "text": [
      "Epoch 0, Loss 0.2457\n",
      "Training Accuracy: 0.6290, Testing Accuracy: 0.6285\n",
      "\n"
     ]
    },
    {
     "name": "stdout",
     "output_type": "stream",
     "text": [
      "Epoch 10, Loss 0.201\n",
      "Training Accuracy: 0.8443, Testing Accuracy: 0.8508\n",
      "\n"
     ]
    },
    {
     "name": "stdout",
     "output_type": "stream",
     "text": [
      "Epoch 20, Loss 0.1079\n",
      "Training Accuracy: 0.8980, Testing Accuracy: 0.9047\n",
      "\n"
     ]
    },
    {
     "name": "stdout",
     "output_type": "stream",
     "text": [
      "Epoch 30, Loss 0.0677\n",
      "Training Accuracy: 0.9266, Testing Accuracy: 0.9370\n",
      "\n"
     ]
    },
    {
     "name": "stdout",
     "output_type": "stream",
     "text": [
      "Epoch 40, Loss 0.0515\n",
      "Training Accuracy: 0.9400, Testing Accuracy: 0.9556\n",
      "\n"
     ]
    },
    {
     "name": "stdout",
     "output_type": "stream",
     "text": [
      "Epoch 50, Loss 0.0433\n",
      "Training Accuracy: 0.9498, Testing Accuracy: 0.9612\n",
      "\n"
     ]
    },
    {
     "name": "stdout",
     "output_type": "stream",
     "text": [
      "Epoch 60, Loss 0.0385\n",
      "Training Accuracy: 0.9559, Testing Accuracy: 0.9627\n",
      "\n"
     ]
    },
    {
     "name": "stdout",
     "output_type": "stream",
     "text": [
      "Epoch 70, Loss 0.0353\n",
      "Training Accuracy: 0.9591, Testing Accuracy: 0.9647\n",
      "\n"
     ]
    },
    {
     "name": "stdout",
     "output_type": "stream",
     "text": [
      "Epoch 80, Loss 0.033\n",
      "Training Accuracy: 0.9610, Testing Accuracy: 0.9657\n",
      "\n"
     ]
    },
    {
     "name": "stdout",
     "output_type": "stream",
     "text": [
      "Epoch 90, Loss 0.0312\n",
      "Training Accuracy: 0.9628, Testing Accuracy: 0.9667\n",
      "\n"
     ]
    },
    {
     "name": "stdout",
     "output_type": "stream",
     "text": [
      "Epoch 100, Loss 0.0298\n",
      "Training Accuracy: 0.9639, Testing Accuracy: 0.9682\n",
      "\n"
     ]
    },
    {
     "name": "stdout",
     "output_type": "stream",
     "text": [
      "Epoch 110, Loss 0.0286\n",
      "Training Accuracy: 0.9645, Testing Accuracy: 0.9688\n",
      "\n"
     ]
    },
    {
     "name": "stdout",
     "output_type": "stream",
     "text": [
      "Epoch 120, Loss 0.0276\n",
      "Training Accuracy: 0.9654, Testing Accuracy: 0.9688\n",
      "\n"
     ]
    },
    {
     "name": "stdout",
     "output_type": "stream",
     "text": [
      "Epoch 130, Loss 0.0266\n",
      "Training Accuracy: 0.9666, Testing Accuracy: 0.9698\n",
      "\n"
     ]
    },
    {
     "name": "stdout",
     "output_type": "stream",
     "text": [
      "Epoch 140, Loss 0.0258\n",
      "Training Accuracy: 0.9681, Testing Accuracy: 0.9698\n",
      "\n"
     ]
    },
    {
     "name": "stdout",
     "output_type": "stream",
     "text": [
      "Epoch 150, Loss 0.0251\n",
      "Training Accuracy: 0.9692, Testing Accuracy: 0.9708\n",
      "\n"
     ]
    },
    {
     "name": "stdout",
     "output_type": "stream",
     "text": [
      "Epoch 160, Loss 0.0245\n",
      "Training Accuracy: 0.9702, Testing Accuracy: 0.9703\n",
      "\n"
     ]
    },
    {
     "name": "stdout",
     "output_type": "stream",
     "text": [
      "Epoch 170, Loss 0.0238\n",
      "Training Accuracy: 0.9710, Testing Accuracy: 0.9713\n",
      "\n"
     ]
    },
    {
     "name": "stdout",
     "output_type": "stream",
     "text": [
      "Epoch 180, Loss 0.0233\n",
      "Training Accuracy: 0.9717, Testing Accuracy: 0.9713\n",
      "\n"
     ]
    },
    {
     "name": "stdout",
     "output_type": "stream",
     "text": [
      "Epoch 190, Loss 0.0227\n",
      "Training Accuracy: 0.9729, Testing Accuracy: 0.9723\n",
      "\n"
     ]
    },
    {
     "name": "stdout",
     "output_type": "stream",
     "text": [
      "Epoch 200, Loss 0.0222\n",
      "Training Accuracy: 0.9739, Testing Accuracy: 0.9718\n",
      "\n"
     ]
    },
    {
     "name": "stdout",
     "output_type": "stream",
     "text": [
      "Epoch 210, Loss 0.0217\n",
      "Training Accuracy: 0.9748, Testing Accuracy: 0.9718\n",
      "\n"
     ]
    },
    {
     "name": "stdout",
     "output_type": "stream",
     "text": [
      "Epoch 220, Loss 0.0213\n",
      "Training Accuracy: 0.9755, Testing Accuracy: 0.9718\n",
      "\n"
     ]
    },
    {
     "name": "stdout",
     "output_type": "stream",
     "text": [
      "Epoch 230, Loss 0.0208\n",
      "Training Accuracy: 0.9761, Testing Accuracy: 0.9723\n",
      "\n"
     ]
    },
    {
     "name": "stdout",
     "output_type": "stream",
     "text": [
      "Epoch 240, Loss 0.0204\n",
      "Training Accuracy: 0.9772, Testing Accuracy: 0.9718\n",
      "\n"
     ]
    },
    {
     "data": {
      "text/plain": [
       "0.02956046536701292"
      ]
     },
     "execution_count": 22,
     "metadata": {},
     "output_type": "execute_result"
    }
   ],
   "source": [
    "nn_learner.train_loop(dl)"
   ]
  },
  {
   "cell_type": "code",
   "execution_count": 23,
   "id": "e0163366",
   "metadata": {
    "execution": {
     "iopub.execute_input": "2021-11-05T20:10:58.480153Z",
     "iopub.status.busy": "2021-11-05T20:10:58.479429Z",
     "iopub.status.idle": "2021-11-05T20:11:19.524633Z",
     "shell.execute_reply": "2021-11-05T20:11:19.525616Z"
    },
    "papermill": {
     "duration": 21.1079,
     "end_time": "2021-11-05T20:11:19.525797",
     "exception": false,
     "start_time": "2021-11-05T20:10:58.417897",
     "status": "completed"
    },
    "tags": []
   },
   "outputs": [
    {
     "name": "stdout",
     "output_type": "stream",
     "text": [
      "Epoch 0, Loss 0.2514\n",
      "Training Accuracy: 0.6279, Testing Accuracy: 0.6225\n",
      "\n"
     ]
    },
    {
     "name": "stdout",
     "output_type": "stream",
     "text": [
      "Epoch 10, Loss 0.1072\n",
      "Training Accuracy: 0.8998, Testing Accuracy: 0.9073\n",
      "\n"
     ]
    },
    {
     "name": "stdout",
     "output_type": "stream",
     "text": [
      "Epoch 20, Loss 0.0809\n",
      "Training Accuracy: 0.9246, Testing Accuracy: 0.9340\n",
      "\n"
     ]
    },
    {
     "name": "stdout",
     "output_type": "stream",
     "text": [
      "Epoch 30, Loss 0.0691\n",
      "Training Accuracy: 0.9355, Testing Accuracy: 0.9425\n",
      "\n"
     ]
    },
    {
     "name": "stdout",
     "output_type": "stream",
     "text": [
      "Epoch 40, Loss 0.0621\n",
      "Training Accuracy: 0.9422, Testing Accuracy: 0.9511\n",
      "\n"
     ]
    },
    {
     "name": "stdout",
     "output_type": "stream",
     "text": [
      "Epoch 50, Loss 0.0575\n",
      "Training Accuracy: 0.9448, Testing Accuracy: 0.9541\n",
      "\n"
     ]
    },
    {
     "name": "stdout",
     "output_type": "stream",
     "text": [
      "Epoch 60, Loss 0.0541\n",
      "Training Accuracy: 0.9468, Testing Accuracy: 0.9551\n",
      "\n"
     ]
    },
    {
     "name": "stdout",
     "output_type": "stream",
     "text": [
      "Epoch 70, Loss 0.0515\n",
      "Training Accuracy: 0.9488, Testing Accuracy: 0.9577\n",
      "\n"
     ]
    },
    {
     "name": "stdout",
     "output_type": "stream",
     "text": [
      "Epoch 80, Loss 0.0494\n",
      "Training Accuracy: 0.9504, Testing Accuracy: 0.9607\n",
      "\n"
     ]
    },
    {
     "name": "stdout",
     "output_type": "stream",
     "text": [
      "Epoch 90, Loss 0.0477\n",
      "Training Accuracy: 0.9527, Testing Accuracy: 0.9602\n",
      "\n"
     ]
    },
    {
     "name": "stdout",
     "output_type": "stream",
     "text": [
      "Epoch 100, Loss 0.0463\n",
      "Training Accuracy: 0.9538, Testing Accuracy: 0.9617\n",
      "\n"
     ]
    },
    {
     "name": "stdout",
     "output_type": "stream",
     "text": [
      "Epoch 110, Loss 0.0451\n",
      "Training Accuracy: 0.9551, Testing Accuracy: 0.9617\n",
      "\n"
     ]
    },
    {
     "name": "stdout",
     "output_type": "stream",
     "text": [
      "Epoch 120, Loss 0.044\n",
      "Training Accuracy: 0.9557, Testing Accuracy: 0.9632\n",
      "\n"
     ]
    },
    {
     "name": "stdout",
     "output_type": "stream",
     "text": [
      "Epoch 130, Loss 0.0431\n",
      "Training Accuracy: 0.9559, Testing Accuracy: 0.9637\n",
      "\n"
     ]
    },
    {
     "name": "stdout",
     "output_type": "stream",
     "text": [
      "Epoch 140, Loss 0.0422\n",
      "Training Accuracy: 0.9566, Testing Accuracy: 0.9637\n",
      "\n"
     ]
    },
    {
     "name": "stdout",
     "output_type": "stream",
     "text": [
      "Epoch 150, Loss 0.0415\n",
      "Training Accuracy: 0.9572, Testing Accuracy: 0.9642\n",
      "\n"
     ]
    },
    {
     "name": "stdout",
     "output_type": "stream",
     "text": [
      "Epoch 160, Loss 0.0408\n",
      "Training Accuracy: 0.9574, Testing Accuracy: 0.9652\n",
      "\n"
     ]
    },
    {
     "name": "stdout",
     "output_type": "stream",
     "text": [
      "Epoch 170, Loss 0.0402\n",
      "Training Accuracy: 0.9579, Testing Accuracy: 0.9657\n",
      "\n"
     ]
    },
    {
     "name": "stdout",
     "output_type": "stream",
     "text": [
      "Epoch 180, Loss 0.0396\n",
      "Training Accuracy: 0.9581, Testing Accuracy: 0.9657\n",
      "\n"
     ]
    },
    {
     "name": "stdout",
     "output_type": "stream",
     "text": [
      "Epoch 190, Loss 0.0391\n",
      "Training Accuracy: 0.9586, Testing Accuracy: 0.9652\n",
      "\n"
     ]
    },
    {
     "name": "stdout",
     "output_type": "stream",
     "text": [
      "Epoch 200, Loss 0.0387\n",
      "Training Accuracy: 0.9591, Testing Accuracy: 0.9652\n",
      "\n"
     ]
    },
    {
     "name": "stdout",
     "output_type": "stream",
     "text": [
      "Epoch 210, Loss 0.0382\n",
      "Training Accuracy: 0.9592, Testing Accuracy: 0.9662\n",
      "\n"
     ]
    },
    {
     "name": "stdout",
     "output_type": "stream",
     "text": [
      "Epoch 220, Loss 0.0378\n",
      "Training Accuracy: 0.9592, Testing Accuracy: 0.9662\n",
      "\n"
     ]
    },
    {
     "name": "stdout",
     "output_type": "stream",
     "text": [
      "Epoch 230, Loss 0.0374\n",
      "Training Accuracy: 0.9594, Testing Accuracy: 0.9667\n",
      "\n"
     ]
    },
    {
     "name": "stdout",
     "output_type": "stream",
     "text": [
      "Epoch 240, Loss 0.0371\n",
      "Training Accuracy: 0.9599, Testing Accuracy: 0.9667\n",
      "\n"
     ]
    },
    {
     "data": {
      "text/plain": [
       "0.05219144064883266"
      ]
     },
     "execution_count": 23,
     "metadata": {},
     "output_type": "execute_result"
    }
   ],
   "source": [
    "lr_learner.train_loop(dl)"
   ]
  },
  {
   "cell_type": "code",
   "execution_count": 24,
   "id": "ca410940",
   "metadata": {
    "execution": {
     "iopub.execute_input": "2021-11-05T20:11:19.645135Z",
     "iopub.status.busy": "2021-11-05T20:11:19.643781Z",
     "iopub.status.idle": "2021-11-05T20:11:19.971110Z",
     "shell.execute_reply": "2021-11-05T20:11:19.970424Z"
    },
    "papermill": {
     "duration": 0.38978,
     "end_time": "2021-11-05T20:11:19.971265",
     "exception": false,
     "start_time": "2021-11-05T20:11:19.581485",
     "status": "completed"
    },
    "tags": []
   },
   "outputs": [
    {
     "data": {
      "text/plain": [
       "<matplotlib.legend.Legend at 0x7fa73e710780>"
      ]
     },
     "execution_count": 24,
     "metadata": {},
     "output_type": "execute_result"
    },
    {
     "data": {
      "image/png": "[encoded data removed]",
      "text/plain": [
       "<Figure size 1080x720 with 1 Axes>"
      ]
     },
     "metadata": {
      "needs_background": "light"
     },
     "output_type": "display_data"
    }
   ],
   "source": [
    "#comparing the results of NN and LR\n",
    "plt.figure(figsize=(15,10))\n",
    "\n",
    "# Neural Network plots\n",
    "plt.plot(acc_nn.accuracies, 'r-', label = \"Training Accuracies - NN\")\n",
    "plt.plot(acc_nn.test_accuracies, 'g-', label = \"Testing Accuracies - NN\")\n",
    "\n",
    "# Logistic Regression plots\n",
    "plt.plot(acc_lr.accuracies, 'k-', label = \"Training Accuracies - LR\")\n",
    "plt.plot(acc_lr.test_accuracies, 'b-', label = \"Testing Accuracies - LR\")\n",
    "plt.legend()"
   ]
  },
  {
   "cell_type": "markdown",
   "id": "80dfb35c",
   "metadata": {
    "papermill": {
     "duration": 0.056495,
     "end_time": "2021-11-05T20:11:20.084660",
     "exception": false,
     "start_time": "2021-11-05T20:11:20.028165",
     "status": "completed"
    },
    "tags": []
   },
   "source": [
    "#### Plotting the outputs of this layer of the NN.\n"
   ]
  },
  {
   "cell_type": "code",
   "execution_count": 25,
   "id": "45eb2ff5",
   "metadata": {
    "execution": {
     "iopub.execute_input": "2021-11-05T20:11:20.203478Z",
     "iopub.status.busy": "2021-11-05T20:11:20.202551Z",
     "iopub.status.idle": "2021-11-05T20:11:20.231702Z",
     "shell.execute_reply": "2021-11-05T20:11:20.232603Z"
    },
    "papermill": {
     "duration": 0.090978,
     "end_time": "2021-11-05T20:11:20.232778",
     "exception": false,
     "start_time": "2021-11-05T20:11:20.141800",
     "status": "completed"
    },
    "tags": []
   },
   "outputs": [],
   "source": [
    "new_model = Model(layers[:-2])\n",
    "testing_plot = new_model(testing_data_x)"
   ]
  },
  {
   "cell_type": "code",
   "execution_count": 26,
   "id": "4c0a5485",
   "metadata": {
    "execution": {
     "iopub.execute_input": "2021-11-05T20:11:20.354043Z",
     "iopub.status.busy": "2021-11-05T20:11:20.353345Z",
     "iopub.status.idle": "2021-11-05T20:11:20.625266Z",
     "shell.execute_reply": "2021-11-05T20:11:20.624597Z"
    },
    "papermill": {
     "duration": 0.335418,
     "end_time": "2021-11-05T20:11:20.625414",
     "exception": false,
     "start_time": "2021-11-05T20:11:20.289996",
     "status": "completed"
    },
    "tags": []
   },
   "outputs": [
    {
     "data": {
      "text/plain": [
       "Text(0.5, 1.0, 'Outputs')"
      ]
     },
     "execution_count": 26,
     "metadata": {},
     "output_type": "execute_result"
    },
    {
     "data": {
      "image/png": "[encoded data removed]",
      "text/plain": [
       "<Figure size 576x504 with 1 Axes>"
      ]
     },
     "metadata": {
      "needs_background": "light"
     },
     "output_type": "display_data"
    }
   ],
   "source": [
    "# Plotting the scatter plot of points and color coding by class\n",
    "plt.figure(figsize=(8,7))\n",
    "plt.scatter(testing_plot[:,0], testing_plot[:,1], alpha = 0.1, c = y_test.ravel());\n",
    "plt.title('Outputs')"
   ]
  },
  {
   "cell_type": "markdown",
   "id": "a74fcf8f",
   "metadata": {
    "papermill": {
     "duration": 0.057484,
     "end_time": "2021-11-05T20:11:20.741382",
     "exception": false,
     "start_time": "2021-11-05T20:11:20.683898",
     "status": "completed"
    },
    "tags": []
   },
   "source": [
    "Probability contours"
   ]
  },
  {
   "cell_type": "code",
   "execution_count": 27,
   "id": "d0afc8e3",
   "metadata": {
    "execution": {
     "iopub.execute_input": "2021-11-05T20:11:20.865304Z",
     "iopub.status.busy": "2021-11-05T20:11:20.863045Z",
     "iopub.status.idle": "2021-11-05T20:11:20.878643Z",
     "shell.execute_reply": "2021-11-05T20:11:20.878001Z"
    },
    "papermill": {
     "duration": 0.077755,
     "end_time": "2021-11-05T20:11:20.878824",
     "exception": false,
     "start_time": "2021-11-05T20:11:20.801069",
     "status": "completed"
    },
    "tags": []
   },
   "outputs": [],
   "source": [
    "model_prob = Model(layers[-2:]) "
   ]
  },
  {
   "cell_type": "code",
   "execution_count": 28,
   "id": "9b96e238",
   "metadata": {
    "execution": {
     "iopub.execute_input": "2021-11-05T20:11:21.030198Z",
     "iopub.status.busy": "2021-11-05T20:11:21.027157Z",
     "iopub.status.idle": "2021-11-05T20:11:21.046371Z",
     "shell.execute_reply": "2021-11-05T20:11:21.045690Z"
    },
    "papermill": {
     "duration": 0.109858,
     "end_time": "2021-11-05T20:11:21.046502",
     "exception": false,
     "start_time": "2021-11-05T20:11:20.936644",
     "status": "completed"
    },
    "tags": []
   },
   "outputs": [],
   "source": [
    "#creating the x and y ranges according to the above generated plot.\n",
    "x_range = np.linspace(-4, 1, 100) \n",
    "y_range = np.linspace(-6, 6, 100) \n",
    "x_grid, y_grid = np.meshgrid(x_range, y_range) # x_grid and y_grig are of size 100 X 100\n",
    "\n",
    "# converting x_grid and y_grid to continuous arrays\n",
    "x_gridflat = np.ravel(x_grid)\n",
    "y_gridflat = np.ravel(y_grid)\n",
    "\n",
    "# The last layer of the current model takes two columns as input. Hence transpose of np.vstack() is required.\n",
    "X = np.vstack((x_gridflat, y_gridflat)).T\n",
    "\n",
    "prob_contour = model_prob(X).reshape(100,100) "
   ]
  },
  {
   "cell_type": "code",
   "execution_count": 29,
   "id": "da72499a",
   "metadata": {
    "execution": {
     "iopub.execute_input": "2021-11-05T20:11:21.176534Z",
     "iopub.status.busy": "2021-11-05T20:11:21.175721Z",
     "iopub.status.idle": "2021-11-05T20:11:21.516645Z",
     "shell.execute_reply": "2021-11-05T20:11:21.517205Z"
    },
    "papermill": {
     "duration": 0.409745,
     "end_time": "2021-11-05T20:11:21.517384",
     "exception": false,
     "start_time": "2021-11-05T20:11:21.107639",
     "status": "completed"
    },
    "tags": []
   },
   "outputs": [
    {
     "data": {
      "image/png": "[encoded data removed]",
      "text/plain": [
       "<Figure size 720x648 with 1 Axes>"
      ]
     },
     "metadata": {
      "needs_background": "light"
     },
     "output_type": "display_data"
    }
   ],
   "source": [
    "plt.figure(figsize=(10,9))\n",
    "plt.scatter(testing_plot[:,0], testing_plot[:,1], alpha = 0.1, c = y_test.ravel())\n",
    "contours = plt.contour(x_grid,y_grid,prob_contour)\n",
    "plt.title('Probability Contours')\n",
    "plt.clabel(contours, inline = True );"
   ]
  },
  {
   "cell_type": "code",
   "execution_count": null,
   "id": "e81b4ac7",
   "metadata": {
    "papermill": {
     "duration": 0.060888,
     "end_time": "2021-11-05T20:11:21.639858",
     "exception": false,
     "start_time": "2021-11-05T20:11:21.578970",
     "status": "completed"
    },
    "tags": []
   },
   "outputs": [],
   "source": []
  }
 ],
 "metadata": {
  "kernelspec": {
   "display_name": "Python 3",
   "language": "python",
   "name": "python3"
  },
  "language_info": {
   "codemirror_mode": {
    "name": "ipython",
    "version": 3
   },
   "file_extension": ".py",
   "mimetype": "text/x-python",
   "name": "python",
   "nbconvert_exporter": "python",
   "pygments_lexer": "ipython3",
   "version": "3.6.15"
  },
  "papermill": {
   "default_parameters": {},
   "duration": 178.428994,
   "end_time": "2021-11-05T20:11:22.111070",
   "environment_variables": {},
   "exception": null,
   "input_path": "2020-08-11-part2.ipynb",
   "output_path": "2020-08-11-part2.ipynb",
   "parameters": {},
   "start_time": "2021-11-05T20:08:23.682076",
   "version": "2.3.3"
  }
 },
 "nbformat": 4,
 "nbformat_minor": 5
}