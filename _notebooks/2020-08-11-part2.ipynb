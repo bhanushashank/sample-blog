{
 "cells": [
  {
   "cell_type": "markdown",
   "id": "98380cd3",
   "metadata": {
    "papermill": {
     "duration": 0.030234,
     "end_time": "2022-03-07T20:09:16.191871",
     "exception": false,
     "start_time": "2022-03-07T20:09:16.161637",
     "status": "completed"
    },
    "tags": []
   },
   "source": [
    "# Distinguish Your Own Digits (DYOD)"
   ]
  },
  {
   "cell_type": "markdown",
   "id": "ef31240d",
   "metadata": {
    "papermill": {
     "duration": 0.023905,
     "end_time": "2022-03-07T20:09:16.238031",
     "exception": false,
     "start_time": "2022-03-07T20:09:16.214126",
     "status": "completed"
    },
    "tags": []
   },
   "source": [
    "You are going to write a classifier that distinguishes between the number 3 and number 8."
   ]
  },
  {
   "cell_type": "code",
   "execution_count": 1,
   "id": "b15c8646",
   "metadata": {
    "execution": {
     "iopub.execute_input": "2022-03-07T20:09:16.296047Z",
     "iopub.status.busy": "2022-03-07T20:09:16.295536Z",
     "iopub.status.idle": "2022-03-07T20:09:16.305753Z",
     "shell.execute_reply": "2022-03-07T20:09:16.305328Z"
    },
    "papermill": {
     "duration": 0.046644,
     "end_time": "2022-03-07T20:09:16.305864",
     "exception": false,
     "start_time": "2022-03-07T20:09:16.259220",
     "status": "completed"
    },
    "tags": []
   },
   "outputs": [],
   "source": [
    "%load_ext autoreload\n",
    "%autoreload 2"
   ]
  },
  {
   "cell_type": "code",
   "execution_count": 2,
   "id": "22ef38dc",
   "metadata": {
    "execution": {
     "iopub.execute_input": "2022-03-07T20:09:16.351898Z",
     "iopub.status.busy": "2022-03-07T20:09:16.351369Z",
     "iopub.status.idle": "2022-03-07T20:09:16.937139Z",
     "shell.execute_reply": "2022-03-07T20:09:16.935624Z"
    },
    "papermill": {
     "duration": 0.610617,
     "end_time": "2022-03-07T20:09:16.937375",
     "exception": false,
     "start_time": "2022-03-07T20:09:16.326758",
     "status": "completed"
    },
    "tags": []
   },
   "outputs": [],
   "source": [
    "%matplotlib inline\n",
    "import numpy as np\n",
    "import matplotlib.pyplot as plt\n",
    "import pandas as pd"
   ]
  },
  {
   "cell_type": "markdown",
   "id": "ba036198",
   "metadata": {
    "papermill": {
     "duration": 0.021777,
     "end_time": "2022-03-07T20:09:16.981715",
     "exception": false,
     "start_time": "2022-03-07T20:09:16.959938",
     "status": "completed"
    },
    "tags": []
   },
   "source": [
    "From the command line run `pip install mnist`. This is a library that will help you bring down the mnist dataset. If you run this from a notebook, you need to put  `!pip install mnist` in a cell by itself."
   ]
  },
  {
   "cell_type": "code",
   "execution_count": 3,
   "id": "bb6ad8a1",
   "metadata": {
    "execution": {
     "iopub.execute_input": "2022-03-07T20:09:17.028126Z",
     "iopub.status.busy": "2022-03-07T20:09:17.027575Z",
     "iopub.status.idle": "2022-03-07T20:09:18.644202Z",
     "shell.execute_reply": "2022-03-07T20:09:18.643692Z"
    },
    "papermill": {
     "duration": 1.641309,
     "end_time": "2022-03-07T20:09:18.644339",
     "exception": false,
     "start_time": "2022-03-07T20:09:17.003030",
     "status": "completed"
    },
    "tags": []
   },
   "outputs": [
    {
     "name": "stdout",
     "output_type": "stream",
     "text": [
      "Collecting mnist\r\n"
     ]
    },
    {
     "name": "stdout",
     "output_type": "stream",
     "text": [
      "  Downloading mnist-0.2.2-py2.py3-none-any.whl (3.5 kB)\r\n",
      "Requirement already satisfied: numpy in /opt/hostedtoolcache/Python/3.6.15/x64/lib/python3.6/site-packages (from mnist) (1.19.5)\r\n"
     ]
    },
    {
     "name": "stdout",
     "output_type": "stream",
     "text": [
      "Installing collected packages: mnist\r\n",
      "Successfully installed mnist-0.2.2\r\n"
     ]
    }
   ],
   "source": [
    "!pip install mnist"
   ]
  },
  {
   "cell_type": "markdown",
   "id": "69df9c9a",
   "metadata": {
    "papermill": {
     "duration": 0.021958,
     "end_time": "2022-03-07T20:09:18.690178",
     "exception": false,
     "start_time": "2022-03-07T20:09:18.668220",
     "status": "completed"
    },
    "tags": []
   },
   "source": [
    "## Preparing the Data"
   ]
  },
  {
   "cell_type": "code",
   "execution_count": 4,
   "id": "7f69d806",
   "metadata": {
    "execution": {
     "iopub.execute_input": "2022-03-07T20:09:18.738186Z",
     "iopub.status.busy": "2022-03-07T20:09:18.737758Z",
     "iopub.status.idle": "2022-03-07T20:09:18.753317Z",
     "shell.execute_reply": "2022-03-07T20:09:18.752911Z"
    },
    "papermill": {
     "duration": 0.041772,
     "end_time": "2022-03-07T20:09:18.753417",
     "exception": false,
     "start_time": "2022-03-07T20:09:18.711645",
     "status": "completed"
    },
    "tags": []
   },
   "outputs": [],
   "source": [
    "import mnist"
   ]
  },
  {
   "cell_type": "code",
   "execution_count": 5,
   "id": "a411e44f",
   "metadata": {
    "execution": {
     "iopub.execute_input": "2022-03-07T20:09:18.801220Z",
     "iopub.status.busy": "2022-03-07T20:09:18.800674Z",
     "iopub.status.idle": "2022-03-07T20:09:19.295384Z",
     "shell.execute_reply": "2022-03-07T20:09:19.294762Z"
    },
    "papermill": {
     "duration": 0.520232,
     "end_time": "2022-03-07T20:09:19.295593",
     "exception": false,
     "start_time": "2022-03-07T20:09:18.775361",
     "status": "completed"
    },
    "tags": []
   },
   "outputs": [],
   "source": [
    "train_images = mnist.train_images()\n",
    "train_labels = mnist.train_labels()"
   ]
  },
  {
   "cell_type": "code",
   "execution_count": 6,
   "id": "dceab3a5",
   "metadata": {
    "execution": {
     "iopub.execute_input": "2022-03-07T20:09:19.351395Z",
     "iopub.status.busy": "2022-03-07T20:09:19.350957Z",
     "iopub.status.idle": "2022-03-07T20:09:19.363804Z",
     "shell.execute_reply": "2022-03-07T20:09:19.364195Z"
    },
    "papermill": {
     "duration": 0.041,
     "end_time": "2022-03-07T20:09:19.364307",
     "exception": false,
     "start_time": "2022-03-07T20:09:19.323307",
     "status": "completed"
    },
    "tags": []
   },
   "outputs": [
    {
     "data": {
      "text/plain": [
       "((60000, 28, 28), (60000,))"
      ]
     },
     "execution_count": 6,
     "metadata": {},
     "output_type": "execute_result"
    }
   ],
   "source": [
    "train_images.shape, train_labels.shape"
   ]
  },
  {
   "cell_type": "code",
   "execution_count": 7,
   "id": "f50dc2bb",
   "metadata": {
    "execution": {
     "iopub.execute_input": "2022-03-07T20:09:19.412880Z",
     "iopub.status.busy": "2022-03-07T20:09:19.412347Z",
     "iopub.status.idle": "2022-03-07T20:09:19.540522Z",
     "shell.execute_reply": "2022-03-07T20:09:19.540044Z"
    },
    "papermill": {
     "duration": 0.154322,
     "end_time": "2022-03-07T20:09:19.540638",
     "exception": false,
     "start_time": "2022-03-07T20:09:19.386316",
     "status": "completed"
    },
    "tags": []
   },
   "outputs": [],
   "source": [
    "test_images = mnist.test_images()\n",
    "test_labels = mnist.test_labels()"
   ]
  },
  {
   "cell_type": "code",
   "execution_count": 8,
   "id": "fc38cf1b",
   "metadata": {
    "execution": {
     "iopub.execute_input": "2022-03-07T20:09:19.594635Z",
     "iopub.status.busy": "2022-03-07T20:09:19.594173Z",
     "iopub.status.idle": "2022-03-07T20:09:19.604515Z",
     "shell.execute_reply": "2022-03-07T20:09:19.604900Z"
    },
    "papermill": {
     "duration": 0.039865,
     "end_time": "2022-03-07T20:09:19.605016",
     "exception": false,
     "start_time": "2022-03-07T20:09:19.565151",
     "status": "completed"
    },
    "tags": []
   },
   "outputs": [
    {
     "data": {
      "text/plain": [
       "((10000, 28, 28), (10000,))"
      ]
     },
     "execution_count": 8,
     "metadata": {},
     "output_type": "execute_result"
    }
   ],
   "source": [
    "test_images.shape, test_labels.shape"
   ]
  },
  {
   "cell_type": "code",
   "execution_count": 9,
   "id": "f9ed8fe0",
   "metadata": {
    "execution": {
     "iopub.execute_input": "2022-03-07T20:09:19.652197Z",
     "iopub.status.busy": "2022-03-07T20:09:19.651747Z",
     "iopub.status.idle": "2022-03-07T20:09:19.787688Z",
     "shell.execute_reply": "2022-03-07T20:09:19.787292Z"
    },
    "papermill": {
     "duration": 0.160938,
     "end_time": "2022-03-07T20:09:19.787793",
     "exception": false,
     "start_time": "2022-03-07T20:09:19.626855",
     "status": "completed"
    },
    "tags": []
   },
   "outputs": [
    {
     "name": "stdout",
     "output_type": "stream",
     "text": [
      "2\n"
     ]
    },
    {
     "data": {
      "text/plain": [
       "<matplotlib.image.AxesImage at 0x7fb8727f65c0>"
      ]
     },
     "execution_count": 9,
     "metadata": {},
     "output_type": "execute_result"
    },
    {
     "data": {
      "image/png": "[encoded data removed]",
      "text/plain": [
       "<Figure size 432x288 with 1 Axes>"
      ]
     },
     "metadata": {
      "needs_background": "light"
     },
     "output_type": "display_data"
    }
   ],
   "source": [
    "image_index = 7776 # You may select anything up to 60,000\n",
    "print(train_labels[image_index]) \n",
    "plt.imshow(train_images[image_index], cmap='Greys')"
   ]
  },
  {
   "cell_type": "markdown",
   "id": "a8d2388d",
   "metadata": {
    "papermill": {
     "duration": 0.024076,
     "end_time": "2022-03-07T20:09:19.835160",
     "exception": false,
     "start_time": "2022-03-07T20:09:19.811084",
     "status": "completed"
    },
    "tags": []
   },
   "source": [
    "## Filter data to get 3 and 8 out"
   ]
  },
  {
   "cell_type": "code",
   "execution_count": 10,
   "id": "776f7fc7",
   "metadata": {
    "execution": {
     "iopub.execute_input": "2022-03-07T20:09:19.885700Z",
     "iopub.status.busy": "2022-03-07T20:09:19.885267Z",
     "iopub.status.idle": "2022-03-07T20:09:19.903419Z",
     "shell.execute_reply": "2022-03-07T20:09:19.902641Z"
    },
    "papermill": {
     "duration": 0.044793,
     "end_time": "2022-03-07T20:09:19.903531",
     "exception": false,
     "start_time": "2022-03-07T20:09:19.858738",
     "status": "completed"
    },
    "tags": []
   },
   "outputs": [],
   "source": [
    "train_filter = np.where((train_labels == 3 ) | (train_labels == 8))\n",
    "test_filter = np.where((test_labels == 3) | (test_labels == 8))\n",
    "X_train, y_train = train_images[train_filter], train_labels[train_filter]\n",
    "X_test, y_test = test_images[test_filter], test_labels[test_filter]"
   ]
  },
  {
   "cell_type": "markdown",
   "id": "948f0b7e",
   "metadata": {
    "papermill": {
     "duration": 0.022991,
     "end_time": "2022-03-07T20:09:19.949488",
     "exception": false,
     "start_time": "2022-03-07T20:09:19.926497",
     "status": "completed"
    },
    "tags": []
   },
   "source": [
    "We normalize the pizel values in the 0 to 1 range"
   ]
  },
  {
   "cell_type": "code",
   "execution_count": 11,
   "id": "ee4c2166",
   "metadata": {
    "execution": {
     "iopub.execute_input": "2022-03-07T20:09:20.000595Z",
     "iopub.status.busy": "2022-03-07T20:09:19.997662Z",
     "iopub.status.idle": "2022-03-07T20:09:20.047419Z",
     "shell.execute_reply": "2022-03-07T20:09:20.048334Z"
    },
    "papermill": {
     "duration": 0.076379,
     "end_time": "2022-03-07T20:09:20.048598",
     "exception": false,
     "start_time": "2022-03-07T20:09:19.972219",
     "status": "completed"
    },
    "tags": []
   },
   "outputs": [],
   "source": [
    "X_train = X_train/255.\n",
    "X_test = X_test/255."
   ]
  },
  {
   "cell_type": "markdown",
   "id": "ddcf4fab",
   "metadata": {
    "papermill": {
     "duration": 0.024434,
     "end_time": "2022-03-07T20:09:20.100456",
     "exception": false,
     "start_time": "2022-03-07T20:09:20.076022",
     "status": "completed"
    },
    "tags": []
   },
   "source": [
    "And setup the labels as 1 (when the digit is 3) and 0 (when the digit is 8)"
   ]
  },
  {
   "cell_type": "code",
   "execution_count": 12,
   "id": "7dc908f2",
   "metadata": {
    "execution": {
     "iopub.execute_input": "2022-03-07T20:09:20.151520Z",
     "iopub.status.busy": "2022-03-07T20:09:20.150469Z",
     "iopub.status.idle": "2022-03-07T20:09:20.163705Z",
     "shell.execute_reply": "2022-03-07T20:09:20.163348Z"
    },
    "papermill": {
     "duration": 0.040128,
     "end_time": "2022-03-07T20:09:20.163800",
     "exception": false,
     "start_time": "2022-03-07T20:09:20.123672",
     "status": "completed"
    },
    "tags": []
   },
   "outputs": [],
   "source": [
    "y_train = 1*(y_train==3)\n",
    "y_test = 1*(y_test==3)"
   ]
  },
  {
   "cell_type": "code",
   "execution_count": 13,
   "id": "01e4e969",
   "metadata": {
    "execution": {
     "iopub.execute_input": "2022-03-07T20:09:20.212500Z",
     "iopub.status.busy": "2022-03-07T20:09:20.211979Z",
     "iopub.status.idle": "2022-03-07T20:09:20.224013Z",
     "shell.execute_reply": "2022-03-07T20:09:20.224346Z"
    },
    "papermill": {
     "duration": 0.038425,
     "end_time": "2022-03-07T20:09:20.224442",
     "exception": false,
     "start_time": "2022-03-07T20:09:20.186017",
     "status": "completed"
    },
    "tags": []
   },
   "outputs": [
    {
     "data": {
      "text/plain": [
       "((11982, 28, 28), (1984, 28, 28))"
      ]
     },
     "execution_count": 13,
     "metadata": {},
     "output_type": "execute_result"
    }
   ],
   "source": [
    "X_train.shape, X_test.shape"
   ]
  },
  {
   "cell_type": "markdown",
   "id": "5ccf3f85",
   "metadata": {
    "papermill": {
     "duration": 0.02447,
     "end_time": "2022-03-07T20:09:20.272714",
     "exception": false,
     "start_time": "2022-03-07T20:09:20.248244",
     "status": "completed"
    },
    "tags": []
   },
   "source": [
    "We reshape the data to flatten the image pixels into a set of features or co-variates:"
   ]
  },
  {
   "cell_type": "code",
   "execution_count": 14,
   "id": "5286a4a3",
   "metadata": {
    "execution": {
     "iopub.execute_input": "2022-03-07T20:09:20.326299Z",
     "iopub.status.busy": "2022-03-07T20:09:20.325879Z",
     "iopub.status.idle": "2022-03-07T20:09:20.337286Z",
     "shell.execute_reply": "2022-03-07T20:09:20.337695Z"
    },
    "papermill": {
     "duration": 0.039606,
     "end_time": "2022-03-07T20:09:20.337820",
     "exception": false,
     "start_time": "2022-03-07T20:09:20.298214",
     "status": "completed"
    },
    "tags": []
   },
   "outputs": [
    {
     "data": {
      "text/plain": [
       "((11982, 784), (1984, 784))"
      ]
     },
     "execution_count": 14,
     "metadata": {},
     "output_type": "execute_result"
    }
   ],
   "source": [
    "X_train = X_train.reshape(X_train.shape[0], -1)\n",
    "X_test = X_test.reshape(X_test.shape[0], -1)\n",
    "X_train.shape, X_test.shape"
   ]
  },
  {
   "cell_type": "code",
   "execution_count": 15,
   "id": "73c5f88a",
   "metadata": {
    "execution": {
     "iopub.execute_input": "2022-03-07T20:09:20.390464Z",
     "iopub.status.busy": "2022-03-07T20:09:20.389328Z",
     "iopub.status.idle": "2022-03-07T20:09:20.407176Z",
     "shell.execute_reply": "2022-03-07T20:09:20.406415Z"
    },
    "papermill": {
     "duration": 0.044995,
     "end_time": "2022-03-07T20:09:20.407266",
     "exception": false,
     "start_time": "2022-03-07T20:09:20.362271",
     "status": "completed"
    },
    "tags": []
   },
   "outputs": [],
   "source": [
    "#Impoting functions from 'Kudzu'\n",
    "from kudzu.model import Model\n",
    "from kudzu.train import Learner\n",
    "from kudzu.optim import GD\n",
    "from kudzu.data import Data, Sampler,Dataloader\n",
    "\n",
    "from kudzu.callbacks import AccCallback\n",
    "from kudzu.callbacks import ClfCallback\n",
    "\n",
    "from kudzu.loss import MSE\n",
    "\n",
    "from kudzu.layer import Sigmoid,Relu\n",
    "from kudzu.layer import Affine"
   ]
  },
  {
   "cell_type": "markdown",
   "id": "bc01172a",
   "metadata": {
    "papermill": {
     "duration": 0.024123,
     "end_time": "2022-03-07T20:09:20.455078",
     "exception": false,
     "start_time": "2022-03-07T20:09:20.430955",
     "status": "completed"
    },
    "tags": []
   },
   "source": [
    "### Let us create a `Config` class, to store important parameters. \n",
    "This class essentially plays the role of a dictionary."
   ]
  },
  {
   "cell_type": "code",
   "execution_count": 16,
   "id": "978281aa",
   "metadata": {
    "execution": {
     "iopub.execute_input": "2022-03-07T20:09:20.506871Z",
     "iopub.status.busy": "2022-03-07T20:09:20.506360Z",
     "iopub.status.idle": "2022-03-07T20:09:20.517367Z",
     "shell.execute_reply": "2022-03-07T20:09:20.516985Z"
    },
    "papermill": {
     "duration": 0.038574,
     "end_time": "2022-03-07T20:09:20.517463",
     "exception": false,
     "start_time": "2022-03-07T20:09:20.478889",
     "status": "completed"
    },
    "tags": []
   },
   "outputs": [],
   "source": [
    "class Config:\n",
    "    pass\n",
    "config = Config()\n",
    "config.lr = 0.001\n",
    "config.num_epochs = 250\n",
    "config.bs = 50"
   ]
  },
  {
   "cell_type": "markdown",
   "id": "1385fa59",
   "metadata": {
    "papermill": {
     "duration": 0.024103,
     "end_time": "2022-03-07T20:09:20.564849",
     "exception": false,
     "start_time": "2022-03-07T20:09:20.540746",
     "status": "completed"
    },
    "tags": []
   },
   "source": [
    "### Running Models with the Training data\n",
    "Details about the network layers:\n",
    "- A first affine layer has 784 inputs and does 100 affine transforms. These are followed by a Relu\n",
    "- A second affine layer has 100 inputs from the 100 activations of the past layer, and does 100 affine transforms. These are followed by a Relu\n",
    "- A third affine layer has 100 activations and does 2 affine transformations to create an embedding for visualization. There is no non-linearity here.\n",
    "- A final \"logistic regression\" which has an affine transform from 2 inputs to 1 output, which is squeezed through a sigmoid.\n"
   ]
  },
  {
   "cell_type": "code",
   "execution_count": 17,
   "id": "2b9c66db",
   "metadata": {
    "execution": {
     "iopub.execute_input": "2022-03-07T20:09:20.619287Z",
     "iopub.status.busy": "2022-03-07T20:09:20.618802Z",
     "iopub.status.idle": "2022-03-07T20:09:20.631177Z",
     "shell.execute_reply": "2022-03-07T20:09:20.630625Z"
    },
    "papermill": {
     "duration": 0.040632,
     "end_time": "2022-03-07T20:09:20.631265",
     "exception": false,
     "start_time": "2022-03-07T20:09:20.590633",
     "status": "completed"
    },
    "tags": []
   },
   "outputs": [],
   "source": [
    "data = Data(X_train, y_train.reshape(-1,1))\n",
    "sampler = Sampler(data, config.bs, shuffle=True)\n",
    "\n",
    "dl = Dataloader(data, sampler)\n",
    "\n",
    "opt = GD(config.lr)\n",
    "loss = MSE()"
   ]
  },
  {
   "cell_type": "code",
   "execution_count": 18,
   "id": "b275e4c2",
   "metadata": {
    "execution": {
     "iopub.execute_input": "2022-03-07T20:09:20.689722Z",
     "iopub.status.busy": "2022-03-07T20:09:20.688706Z",
     "iopub.status.idle": "2022-03-07T20:09:20.697140Z",
     "shell.execute_reply": "2022-03-07T20:09:20.697558Z"
    },
    "papermill": {
     "duration": 0.040829,
     "end_time": "2022-03-07T20:09:20.697707",
     "exception": false,
     "start_time": "2022-03-07T20:09:20.656878",
     "status": "completed"
    },
    "tags": []
   },
   "outputs": [],
   "source": [
    "training_data_x = X_train\n",
    "testing_data_x = X_test\n",
    "training_data_y = y_train.reshape(-1,1)\n",
    "testing_data_y = y_test.reshape(-1,1)"
   ]
  },
  {
   "cell_type": "code",
   "execution_count": 19,
   "id": "76951160",
   "metadata": {
    "execution": {
     "iopub.execute_input": "2022-03-07T20:09:20.755359Z",
     "iopub.status.busy": "2022-03-07T20:09:20.754923Z",
     "iopub.status.idle": "2022-03-07T20:09:20.768760Z",
     "shell.execute_reply": "2022-03-07T20:09:20.769258Z"
    },
    "papermill": {
     "duration": 0.04495,
     "end_time": "2022-03-07T20:09:20.769386",
     "exception": false,
     "start_time": "2022-03-07T20:09:20.724436",
     "status": "completed"
    },
    "tags": []
   },
   "outputs": [
    {
     "name": "stdout",
     "output_type": "stream",
     "text": [
      "xavier\n",
      "xavier\n",
      "xavier\n",
      "xavier\n",
      "xavier\n"
     ]
    }
   ],
   "source": [
    "layers = [Affine(\"first\", 784, 100), Relu(\"first\"), Affine(\"second\", 100, 100), Relu(\"second\"), Affine(\"third\", 100, 2), Affine(\"last\", 2, 1), Sigmoid(\"last\")]\n",
    "model_nn = Model(layers)\n",
    "model_lr = Model([Affine(\"logits\", 784, 1), Sigmoid(\"sigmoid\")])"
   ]
  },
  {
   "cell_type": "code",
   "execution_count": 20,
   "id": "6eede77a",
   "metadata": {
    "execution": {
     "iopub.execute_input": "2022-03-07T20:09:20.827806Z",
     "iopub.status.busy": "2022-03-07T20:09:20.827225Z",
     "iopub.status.idle": "2022-03-07T20:09:20.838912Z",
     "shell.execute_reply": "2022-03-07T20:09:20.838570Z"
    },
    "papermill": {
     "duration": 0.045599,
     "end_time": "2022-03-07T20:09:20.839029",
     "exception": false,
     "start_time": "2022-03-07T20:09:20.793430",
     "status": "completed"
    },
    "tags": []
   },
   "outputs": [],
   "source": [
    "nn_learner = Learner(loss, model_nn, opt, config.num_epochs)\n",
    "acc_nn = ClfCallback(nn_learner, config.bs, training_data_x , testing_data_x, training_data_y, testing_data_y)\n",
    "nn_learner.set_callbacks([acc_nn])"
   ]
  },
  {
   "cell_type": "code",
   "execution_count": 21,
   "id": "877b6cc7",
   "metadata": {
    "execution": {
     "iopub.execute_input": "2022-03-07T20:09:20.889366Z",
     "iopub.status.busy": "2022-03-07T20:09:20.888868Z",
     "iopub.status.idle": "2022-03-07T20:09:20.901286Z",
     "shell.execute_reply": "2022-03-07T20:09:20.900823Z"
    },
    "papermill": {
     "duration": 0.038903,
     "end_time": "2022-03-07T20:09:20.901405",
     "exception": false,
     "start_time": "2022-03-07T20:09:20.862502",
     "status": "completed"
    },
    "tags": []
   },
   "outputs": [],
   "source": [
    "lr_learner = Learner(loss, model_lr, opt, config.num_epochs)\n",
    "acc_lr = ClfCallback(lr_learner, config.bs, training_data_x , testing_data_x, training_data_y, testing_data_y)\n",
    "lr_learner.set_callbacks([acc_lr])"
   ]
  },
  {
   "cell_type": "code",
   "execution_count": 22,
   "id": "d9b133c3",
   "metadata": {
    "execution": {
     "iopub.execute_input": "2022-03-07T20:09:20.951995Z",
     "iopub.status.busy": "2022-03-07T20:09:20.951363Z",
     "iopub.status.idle": "2022-03-07T20:10:36.176529Z",
     "shell.execute_reply": "2022-03-07T20:10:36.177072Z"
    },
    "papermill": {
     "duration": 75.2522,
     "end_time": "2022-03-07T20:10:36.177219",
     "exception": false,
     "start_time": "2022-03-07T20:09:20.925019",
     "status": "completed"
    },
    "tags": []
   },
   "outputs": [
    {
     "name": "stdout",
     "output_type": "stream",
     "text": [
      "Epoch 0, Loss 0.2241\n",
      "Training Accuracy: 0.7843, Testing Accuracy: 0.8165\n",
      "\n"
     ]
    },
    {
     "name": "stdout",
     "output_type": "stream",
     "text": [
      "Epoch 10, Loss 0.0893\n",
      "Training Accuracy: 0.9182, Testing Accuracy: 0.9340\n",
      "\n"
     ]
    },
    {
     "name": "stdout",
     "output_type": "stream",
     "text": [
      "Epoch 20, Loss 0.0579\n",
      "Training Accuracy: 0.9392, Testing Accuracy: 0.9496\n",
      "\n"
     ]
    },
    {
     "name": "stdout",
     "output_type": "stream",
     "text": [
      "Epoch 30, Loss 0.046\n",
      "Training Accuracy: 0.9503, Testing Accuracy: 0.9567\n",
      "\n"
     ]
    },
    {
     "name": "stdout",
     "output_type": "stream",
     "text": [
      "Epoch 40, Loss 0.0399\n",
      "Training Accuracy: 0.9553, Testing Accuracy: 0.9602\n",
      "\n"
     ]
    },
    {
     "name": "stdout",
     "output_type": "stream",
     "text": [
      "Epoch 50, Loss 0.0362\n",
      "Training Accuracy: 0.9590, Testing Accuracy: 0.9632\n",
      "\n"
     ]
    },
    {
     "name": "stdout",
     "output_type": "stream",
     "text": [
      "Epoch 60, Loss 0.0336\n",
      "Training Accuracy: 0.9614, Testing Accuracy: 0.9652\n",
      "\n"
     ]
    },
    {
     "name": "stdout",
     "output_type": "stream",
     "text": [
      "Epoch 70, Loss 0.0317\n",
      "Training Accuracy: 0.9639, Testing Accuracy: 0.9672\n",
      "\n"
     ]
    },
    {
     "name": "stdout",
     "output_type": "stream",
     "text": [
      "Epoch 80, Loss 0.0302\n",
      "Training Accuracy: 0.9654, Testing Accuracy: 0.9693\n",
      "\n"
     ]
    },
    {
     "name": "stdout",
     "output_type": "stream",
     "text": [
      "Epoch 90, Loss 0.0289\n",
      "Training Accuracy: 0.9671, Testing Accuracy: 0.9688\n",
      "\n"
     ]
    },
    {
     "name": "stdout",
     "output_type": "stream",
     "text": [
      "Epoch 100, Loss 0.0279\n",
      "Training Accuracy: 0.9679, Testing Accuracy: 0.9693\n",
      "\n"
     ]
    },
    {
     "name": "stdout",
     "output_type": "stream",
     "text": [
      "Epoch 110, Loss 0.027\n",
      "Training Accuracy: 0.9691, Testing Accuracy: 0.9693\n",
      "\n"
     ]
    },
    {
     "name": "stdout",
     "output_type": "stream",
     "text": [
      "Epoch 120, Loss 0.0262\n",
      "Training Accuracy: 0.9700, Testing Accuracy: 0.9688\n",
      "\n"
     ]
    },
    {
     "name": "stdout",
     "output_type": "stream",
     "text": [
      "Epoch 130, Loss 0.0254\n",
      "Training Accuracy: 0.9705, Testing Accuracy: 0.9688\n",
      "\n"
     ]
    },
    {
     "name": "stdout",
     "output_type": "stream",
     "text": [
      "Epoch 140, Loss 0.0248\n",
      "Training Accuracy: 0.9710, Testing Accuracy: 0.9677\n",
      "\n"
     ]
    },
    {
     "name": "stdout",
     "output_type": "stream",
     "text": [
      "Epoch 150, Loss 0.0242\n",
      "Training Accuracy: 0.9715, Testing Accuracy: 0.9688\n",
      "\n"
     ]
    },
    {
     "name": "stdout",
     "output_type": "stream",
     "text": [
      "Epoch 160, Loss 0.0237\n",
      "Training Accuracy: 0.9725, Testing Accuracy: 0.9693\n",
      "\n"
     ]
    },
    {
     "name": "stdout",
     "output_type": "stream",
     "text": [
      "Epoch 170, Loss 0.0232\n",
      "Training Accuracy: 0.9735, Testing Accuracy: 0.9688\n",
      "\n"
     ]
    },
    {
     "name": "stdout",
     "output_type": "stream",
     "text": [
      "Epoch 180, Loss 0.0227\n",
      "Training Accuracy: 0.9738, Testing Accuracy: 0.9693\n",
      "\n"
     ]
    },
    {
     "name": "stdout",
     "output_type": "stream",
     "text": [
      "Epoch 190, Loss 0.0222\n",
      "Training Accuracy: 0.9744, Testing Accuracy: 0.9688\n",
      "\n"
     ]
    },
    {
     "name": "stdout",
     "output_type": "stream",
     "text": [
      "Epoch 200, Loss 0.0218\n",
      "Training Accuracy: 0.9753, Testing Accuracy: 0.9693\n",
      "\n"
     ]
    },
    {
     "name": "stdout",
     "output_type": "stream",
     "text": [
      "Epoch 210, Loss 0.0214\n",
      "Training Accuracy: 0.9757, Testing Accuracy: 0.9693\n",
      "\n"
     ]
    },
    {
     "name": "stdout",
     "output_type": "stream",
     "text": [
      "Epoch 220, Loss 0.021\n",
      "Training Accuracy: 0.9765, Testing Accuracy: 0.9693\n",
      "\n"
     ]
    },
    {
     "name": "stdout",
     "output_type": "stream",
     "text": [
      "Epoch 230, Loss 0.0206\n",
      "Training Accuracy: 0.9767, Testing Accuracy: 0.9713\n",
      "\n"
     ]
    },
    {
     "name": "stdout",
     "output_type": "stream",
     "text": [
      "Epoch 240, Loss 0.0203\n",
      "Training Accuracy: 0.9774, Testing Accuracy: 0.9698\n",
      "\n"
     ]
    },
    {
     "data": {
      "text/plain": [
       "0.006624174462904189"
      ]
     },
     "execution_count": 22,
     "metadata": {},
     "output_type": "execute_result"
    }
   ],
   "source": [
    "nn_learner.train_loop(dl)"
   ]
  },
  {
   "cell_type": "code",
   "execution_count": 23,
   "id": "e0163366",
   "metadata": {
    "execution": {
     "iopub.execute_input": "2022-03-07T20:10:36.252653Z",
     "iopub.status.busy": "2022-03-07T20:10:36.252227Z",
     "iopub.status.idle": "2022-03-07T20:10:49.411692Z",
     "shell.execute_reply": "2022-03-07T20:10:49.412459Z"
    },
    "papermill": {
     "duration": 13.200176,
     "end_time": "2022-03-07T20:10:49.412619",
     "exception": false,
     "start_time": "2022-03-07T20:10:36.212443",
     "status": "completed"
    },
    "tags": []
   },
   "outputs": [
    {
     "name": "stdout",
     "output_type": "stream",
     "text": [
      "Epoch 0, Loss 0.2437\n",
      "Training Accuracy: 0.6676, Testing Accuracy: 0.6714\n",
      "\n"
     ]
    },
    {
     "name": "stdout",
     "output_type": "stream",
     "text": [
      "Epoch 10, Loss 0.1028\n",
      "Training Accuracy: 0.9148, Testing Accuracy: 0.9279\n",
      "\n"
     ]
    },
    {
     "name": "stdout",
     "output_type": "stream",
     "text": [
      "Epoch 20, Loss 0.0786\n",
      "Training Accuracy: 0.9296, Testing Accuracy: 0.9466\n",
      "\n"
     ]
    },
    {
     "name": "stdout",
     "output_type": "stream",
     "text": [
      "Epoch 30, Loss 0.0676\n",
      "Training Accuracy: 0.9372, Testing Accuracy: 0.9541\n",
      "\n"
     ]
    },
    {
     "name": "stdout",
     "output_type": "stream",
     "text": [
      "Epoch 40, Loss 0.061\n",
      "Training Accuracy: 0.9425, Testing Accuracy: 0.9577\n",
      "\n"
     ]
    },
    {
     "name": "stdout",
     "output_type": "stream",
     "text": [
      "Epoch 50, Loss 0.0565\n",
      "Training Accuracy: 0.9456, Testing Accuracy: 0.9582\n",
      "\n"
     ]
    },
    {
     "name": "stdout",
     "output_type": "stream",
     "text": [
      "Epoch 60, Loss 0.0533\n",
      "Training Accuracy: 0.9480, Testing Accuracy: 0.9607\n",
      "\n"
     ]
    },
    {
     "name": "stdout",
     "output_type": "stream",
     "text": [
      "Epoch 70, Loss 0.0508\n",
      "Training Accuracy: 0.9499, Testing Accuracy: 0.9617\n",
      "\n"
     ]
    },
    {
     "name": "stdout",
     "output_type": "stream",
     "text": [
      "Epoch 80, Loss 0.0487\n",
      "Training Accuracy: 0.9517, Testing Accuracy: 0.9627\n",
      "\n"
     ]
    },
    {
     "name": "stdout",
     "output_type": "stream",
     "text": [
      "Epoch 90, Loss 0.0471\n",
      "Training Accuracy: 0.9531, Testing Accuracy: 0.9632\n",
      "\n"
     ]
    },
    {
     "name": "stdout",
     "output_type": "stream",
     "text": [
      "Epoch 100, Loss 0.0457\n",
      "Training Accuracy: 0.9541, Testing Accuracy: 0.9652\n",
      "\n"
     ]
    },
    {
     "name": "stdout",
     "output_type": "stream",
     "text": [
      "Epoch 110, Loss 0.0445\n",
      "Training Accuracy: 0.9545, Testing Accuracy: 0.9652\n",
      "\n"
     ]
    },
    {
     "name": "stdout",
     "output_type": "stream",
     "text": [
      "Epoch 120, Loss 0.0434\n",
      "Training Accuracy: 0.9558, Testing Accuracy: 0.9652\n",
      "\n"
     ]
    },
    {
     "name": "stdout",
     "output_type": "stream",
     "text": [
      "Epoch 130, Loss 0.0425\n",
      "Training Accuracy: 0.9558, Testing Accuracy: 0.9657\n",
      "\n"
     ]
    },
    {
     "name": "stdout",
     "output_type": "stream",
     "text": [
      "Epoch 140, Loss 0.0417\n",
      "Training Accuracy: 0.9562, Testing Accuracy: 0.9662\n",
      "\n"
     ]
    },
    {
     "name": "stdout",
     "output_type": "stream",
     "text": [
      "Epoch 150, Loss 0.041\n",
      "Training Accuracy: 0.9575, Testing Accuracy: 0.9662\n",
      "\n"
     ]
    },
    {
     "name": "stdout",
     "output_type": "stream",
     "text": [
      "Epoch 160, Loss 0.0403\n",
      "Training Accuracy: 0.9579, Testing Accuracy: 0.9662\n",
      "\n"
     ]
    },
    {
     "name": "stdout",
     "output_type": "stream",
     "text": [
      "Epoch 170, Loss 0.0397\n",
      "Training Accuracy: 0.9586, Testing Accuracy: 0.9662\n",
      "\n"
     ]
    },
    {
     "name": "stdout",
     "output_type": "stream",
     "text": [
      "Epoch 180, Loss 0.0392\n",
      "Training Accuracy: 0.9589, Testing Accuracy: 0.9662\n",
      "\n"
     ]
    },
    {
     "name": "stdout",
     "output_type": "stream",
     "text": [
      "Epoch 190, Loss 0.0387\n",
      "Training Accuracy: 0.9592, Testing Accuracy: 0.9667\n",
      "\n"
     ]
    },
    {
     "name": "stdout",
     "output_type": "stream",
     "text": [
      "Epoch 200, Loss 0.0382\n",
      "Training Accuracy: 0.9595, Testing Accuracy: 0.9667\n",
      "\n"
     ]
    },
    {
     "name": "stdout",
     "output_type": "stream",
     "text": [
      "Epoch 210, Loss 0.0378\n",
      "Training Accuracy: 0.9599, Testing Accuracy: 0.9667\n",
      "\n"
     ]
    },
    {
     "name": "stdout",
     "output_type": "stream",
     "text": [
      "Epoch 220, Loss 0.0374\n",
      "Training Accuracy: 0.9600, Testing Accuracy: 0.9662\n",
      "\n"
     ]
    },
    {
     "name": "stdout",
     "output_type": "stream",
     "text": [
      "Epoch 230, Loss 0.037\n",
      "Training Accuracy: 0.9599, Testing Accuracy: 0.9672\n",
      "\n"
     ]
    },
    {
     "name": "stdout",
     "output_type": "stream",
     "text": [
      "Epoch 240, Loss 0.0366\n",
      "Training Accuracy: 0.9601, Testing Accuracy: 0.9677\n",
      "\n"
     ]
    },
    {
     "data": {
      "text/plain": [
       "0.02037905395691835"
      ]
     },
     "execution_count": 23,
     "metadata": {},
     "output_type": "execute_result"
    }
   ],
   "source": [
    "lr_learner.train_loop(dl)"
   ]
  },
  {
   "cell_type": "code",
   "execution_count": 24,
   "id": "ca410940",
   "metadata": {
    "execution": {
     "iopub.execute_input": "2022-03-07T20:10:49.500702Z",
     "iopub.status.busy": "2022-03-07T20:10:49.500198Z",
     "iopub.status.idle": "2022-03-07T20:10:49.704241Z",
     "shell.execute_reply": "2022-03-07T20:10:49.704662Z"
    },
    "papermill": {
     "duration": 0.252524,
     "end_time": "2022-03-07T20:10:49.704842",
     "exception": false,
     "start_time": "2022-03-07T20:10:49.452318",
     "status": "completed"
    },
    "tags": []
   },
   "outputs": [
    {
     "data": {
      "text/plain": [
       "<matplotlib.legend.Legend at 0x7fb8723d3d30>"
      ]
     },
     "execution_count": 24,
     "metadata": {},
     "output_type": "execute_result"
    },
    {
     "data": {
      "image/png": "[encoded data removed]",
      "text/plain": [
       "<Figure size 1080x720 with 1 Axes>"
      ]
     },
     "metadata": {
      "needs_background": "light"
     },
     "output_type": "display_data"
    }
   ],
   "source": [
    "#comparing the results of NN and LR\n",
    "plt.figure(figsize=(15,10))\n",
    "\n",
    "# Neural Network plots\n",
    "plt.plot(acc_nn.accuracies, 'r-', label = \"Training Accuracies - NN\")\n",
    "plt.plot(acc_nn.test_accuracies, 'g-', label = \"Testing Accuracies - NN\")\n",
    "\n",
    "# Logistic Regression plots\n",
    "plt.plot(acc_lr.accuracies, 'k-', label = \"Training Accuracies - LR\")\n",
    "plt.plot(acc_lr.test_accuracies, 'b-', label = \"Testing Accuracies - LR\")\n",
    "plt.legend()"
   ]
  },
  {
   "cell_type": "markdown",
   "id": "80dfb35c",
   "metadata": {
    "papermill": {
     "duration": 0.040315,
     "end_time": "2022-03-07T20:10:49.784999",
     "exception": false,
     "start_time": "2022-03-07T20:10:49.744684",
     "status": "completed"
    },
    "tags": []
   },
   "source": [
    "#### Plotting the outputs of this layer of the NN.\n"
   ]
  },
  {
   "cell_type": "code",
   "execution_count": 25,
   "id": "45eb2ff5",
   "metadata": {
    "execution": {
     "iopub.execute_input": "2022-03-07T20:10:49.865258Z",
     "iopub.status.busy": "2022-03-07T20:10:49.864766Z",
     "iopub.status.idle": "2022-03-07T20:10:49.884016Z",
     "shell.execute_reply": "2022-03-07T20:10:49.884354Z"
    },
    "papermill": {
     "duration": 0.060099,
     "end_time": "2022-03-07T20:10:49.884464",
     "exception": false,
     "start_time": "2022-03-07T20:10:49.824365",
     "status": "completed"
    },
    "tags": []
   },
   "outputs": [],
   "source": [
    "new_model = Model(layers[:-2])\n",
    "testing_plot = new_model(testing_data_x)"
   ]
  },
  {
   "cell_type": "code",
   "execution_count": 26,
   "id": "4c0a5485",
   "metadata": {
    "execution": {
     "iopub.execute_input": "2022-03-07T20:10:49.974246Z",
     "iopub.status.busy": "2022-03-07T20:10:49.967794Z",
     "iopub.status.idle": "2022-03-07T20:10:50.154790Z",
     "shell.execute_reply": "2022-03-07T20:10:50.155644Z"
    },
    "papermill": {
     "duration": 0.233645,
     "end_time": "2022-03-07T20:10:50.155886",
     "exception": false,
     "start_time": "2022-03-07T20:10:49.922241",
     "status": "completed"
    },
    "tags": []
   },
   "outputs": [
    {
     "data": {
      "text/plain": [
       "Text(0.5, 1.0, 'Outputs')"
      ]
     },
     "execution_count": 26,
     "metadata": {},
     "output_type": "execute_result"
    },
    {
     "data": {
      "image/png": "[encoded data removed]",
      "text/plain": [
       "<Figure size 576x504 with 1 Axes>"
      ]
     },
     "metadata": {
      "needs_background": "light"
     },
     "output_type": "display_data"
    }
   ],
   "source": [
    "# Plotting the scatter plot of points and color coding by class\n",
    "plt.figure(figsize=(8,7))\n",
    "plt.scatter(testing_plot[:,0], testing_plot[:,1], alpha = 0.1, c = y_test.ravel());\n",
    "plt.title('Outputs')"
   ]
  },
  {
   "cell_type": "markdown",
   "id": "a74fcf8f",
   "metadata": {
    "papermill": {
     "duration": 0.040342,
     "end_time": "2022-03-07T20:10:50.236103",
     "exception": false,
     "start_time": "2022-03-07T20:10:50.195761",
     "status": "completed"
    },
    "tags": []
   },
   "source": [
    "Probability contours"
   ]
  },
  {
   "cell_type": "code",
   "execution_count": 27,
   "id": "d0afc8e3",
   "metadata": {
    "execution": {
     "iopub.execute_input": "2022-03-07T20:10:50.317305Z",
     "iopub.status.busy": "2022-03-07T20:10:50.316706Z",
     "iopub.status.idle": "2022-03-07T20:10:50.330190Z",
     "shell.execute_reply": "2022-03-07T20:10:50.329770Z"
    },
    "papermill": {
     "duration": 0.055675,
     "end_time": "2022-03-07T20:10:50.330284",
     "exception": false,
     "start_time": "2022-03-07T20:10:50.274609",
     "status": "completed"
    },
    "tags": []
   },
   "outputs": [],
   "source": [
    "model_prob = Model(layers[-2:]) "
   ]
  },
  {
   "cell_type": "code",
   "execution_count": 28,
   "id": "9b96e238",
   "metadata": {
    "execution": {
     "iopub.execute_input": "2022-03-07T20:10:50.420607Z",
     "iopub.status.busy": "2022-03-07T20:10:50.419300Z",
     "iopub.status.idle": "2022-03-07T20:10:50.430477Z",
     "shell.execute_reply": "2022-03-07T20:10:50.429935Z"
    },
    "papermill": {
     "duration": 0.061998,
     "end_time": "2022-03-07T20:10:50.430577",
     "exception": false,
     "start_time": "2022-03-07T20:10:50.368579",
     "status": "completed"
    },
    "tags": []
   },
   "outputs": [],
   "source": [
    "#creating the x and y ranges according to the above generated plot.\n",
    "x_range = np.linspace(-4, 1, 100) \n",
    "y_range = np.linspace(-6, 6, 100) \n",
    "x_grid, y_grid = np.meshgrid(x_range, y_range) # x_grid and y_grig are of size 100 X 100\n",
    "\n",
    "# converting x_grid and y_grid to continuous arrays\n",
    "x_gridflat = np.ravel(x_grid)\n",
    "y_gridflat = np.ravel(y_grid)\n",
    "\n",
    "# The last layer of the current model takes two columns as input. Hence transpose of np.vstack() is required.\n",
    "X = np.vstack((x_gridflat, y_gridflat)).T\n",
    "\n",
    "prob_contour = model_prob(X).reshape(100,100) "
   ]
  },
  {
   "cell_type": "code",
   "execution_count": 29,
   "id": "da72499a",
   "metadata": {
    "execution": {
     "iopub.execute_input": "2022-03-07T20:10:50.540409Z",
     "iopub.status.busy": "2022-03-07T20:10:50.539813Z",
     "iopub.status.idle": "2022-03-07T20:10:50.783023Z",
     "shell.execute_reply": "2022-03-07T20:10:50.783901Z"
    },
    "papermill": {
     "duration": 0.312141,
     "end_time": "2022-03-07T20:10:50.784149",
     "exception": false,
     "start_time": "2022-03-07T20:10:50.472008",
     "status": "completed"
    },
    "tags": []
   },
   "outputs": [
    {
     "data": {
      "image/png": "[encoded data removed]",
      "text/plain": [
       "<Figure size 720x648 with 1 Axes>"
      ]
     },
     "metadata": {
      "needs_background": "light"
     },
     "output_type": "display_data"
    }
   ],
   "source": [
    "plt.figure(figsize=(10,9))\n",
    "plt.scatter(testing_plot[:,0], testing_plot[:,1], alpha = 0.1, c = y_test.ravel())\n",
    "contours = plt.contour(x_grid,y_grid,prob_contour)\n",
    "plt.title('Probability Contours')\n",
    "plt.clabel(contours, inline = True );"
   ]
  },
  {
   "cell_type": "code",
   "execution_count": null,
   "id": "e81b4ac7",
   "metadata": {
    "papermill": {
     "duration": 0.041216,
     "end_time": "2022-03-07T20:10:50.867979",
     "exception": false,
     "start_time": "2022-03-07T20:10:50.826763",
     "status": "completed"
    },
    "tags": []
   },
   "outputs": [],
   "source": []
  }
 ],
 "metadata": {
  "kernelspec": {
   "display_name": "Python 3",
   "language": "python",
   "name": "python3"
  },
  "language_info": {
   "codemirror_mode": {
    "name": "ipython",
    "version": 3
   },
   "file_extension": ".py",
   "mimetype": "text/x-python",
   "name": "python",
   "nbconvert_exporter": "python",
   "pygments_lexer": "ipython3",
   "version": "3.6.15"
  },
  "papermill": {
   "default_parameters": {},
   "duration": 96.26941,
   "end_time": "2022-03-07T20:10:51.329423",
   "environment_variables": {},
   "exception": null,
   "input_path": "2020-08-11-part2.ipynb",
   "output_path": "2020-08-11-part2.ipynb",
   "parameters": {},
   "start_time": "2022-03-07T20:09:15.060013",
   "version": "2.3.3"
  }
 },
 "nbformat": 4,
 "nbformat_minor": 5
}