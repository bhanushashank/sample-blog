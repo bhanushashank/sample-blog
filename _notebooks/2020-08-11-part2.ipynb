{
 "cells": [
  {
   "cell_type": "markdown",
   "id": "98380cd3",
   "metadata": {
    "papermill": {
     "duration": 0.030553,
     "end_time": "2022-10-30T10:10:31.551177",
     "exception": false,
     "start_time": "2022-10-30T10:10:31.520624",
     "status": "completed"
    },
    "tags": []
   },
   "source": [
    "# Distinguish Your Own Digits (DYOD)"
   ]
  },
  {
   "cell_type": "markdown",
   "id": "ef31240d",
   "metadata": {
    "papermill": {
     "duration": 0.023597,
     "end_time": "2022-10-30T10:10:31.599559",
     "exception": false,
     "start_time": "2022-10-30T10:10:31.575962",
     "status": "completed"
    },
    "tags": []
   },
   "source": [
    "You are going to write a classifier that distinguishes between the number 3 and number 8."
   ]
  },
  {
   "cell_type": "code",
   "execution_count": 1,
   "id": "b15c8646",
   "metadata": {
    "execution": {
     "iopub.execute_input": "2022-10-30T10:10:31.670533Z",
     "iopub.status.busy": "2022-10-30T10:10:31.657861Z",
     "iopub.status.idle": "2022-10-30T10:10:31.673623Z",
     "shell.execute_reply": "2022-10-30T10:10:31.673131Z"
    },
    "papermill": {
     "duration": 0.050595,
     "end_time": "2022-10-30T10:10:31.673770",
     "exception": false,
     "start_time": "2022-10-30T10:10:31.623175",
     "status": "completed"
    },
    "tags": []
   },
   "outputs": [],
   "source": [
    "%load_ext autoreload\n",
    "%autoreload 2"
   ]
  },
  {
   "cell_type": "code",
   "execution_count": 2,
   "id": "22ef38dc",
   "metadata": {
    "execution": {
     "iopub.execute_input": "2022-10-30T10:10:31.727188Z",
     "iopub.status.busy": "2022-10-30T10:10:31.726530Z",
     "iopub.status.idle": "2022-10-30T10:10:32.284645Z",
     "shell.execute_reply": "2022-10-30T10:10:32.284105Z"
    },
    "papermill": {
     "duration": 0.586972,
     "end_time": "2022-10-30T10:10:32.284783",
     "exception": false,
     "start_time": "2022-10-30T10:10:31.697811",
     "status": "completed"
    },
    "tags": []
   },
   "outputs": [],
   "source": [
    "%matplotlib inline\n",
    "import numpy as np\n",
    "import matplotlib.pyplot as plt\n",
    "import pandas as pd"
   ]
  },
  {
   "cell_type": "markdown",
   "id": "ba036198",
   "metadata": {
    "papermill": {
     "duration": 0.023774,
     "end_time": "2022-10-30T10:10:32.332535",
     "exception": false,
     "start_time": "2022-10-30T10:10:32.308761",
     "status": "completed"
    },
    "tags": []
   },
   "source": [
    "From the command line run `pip install mnist`. This is a library that will help you bring down the mnist dataset. If you run this from a notebook, you need to put  `!pip install mnist` in a cell by itself."
   ]
  },
  {
   "cell_type": "code",
   "execution_count": 3,
   "id": "bb6ad8a1",
   "metadata": {
    "execution": {
     "iopub.execute_input": "2022-10-30T10:10:32.384651Z",
     "iopub.status.busy": "2022-10-30T10:10:32.384030Z",
     "iopub.status.idle": "2022-10-30T10:10:34.069438Z",
     "shell.execute_reply": "2022-10-30T10:10:34.068846Z"
    },
    "papermill": {
     "duration": 1.713391,
     "end_time": "2022-10-30T10:10:34.069566",
     "exception": false,
     "start_time": "2022-10-30T10:10:32.356175",
     "status": "completed"
    },
    "tags": []
   },
   "outputs": [
    {
     "name": "stdout",
     "output_type": "stream",
     "text": [
      "Collecting mnist\r\n"
     ]
    },
    {
     "name": "stdout",
     "output_type": "stream",
     "text": [
      "  Downloading mnist-0.2.2-py2.py3-none-any.whl (3.5 kB)\r\n",
      "Requirement already satisfied: numpy in /opt/hostedtoolcache/Python/3.6.15/x64/lib/python3.6/site-packages (from mnist) (1.19.5)\r\n"
     ]
    },
    {
     "name": "stdout",
     "output_type": "stream",
     "text": [
      "Installing collected packages: mnist\r\n"
     ]
    },
    {
     "name": "stdout",
     "output_type": "stream",
     "text": [
      "Successfully installed mnist-0.2.2\r\n"
     ]
    }
   ],
   "source": [
    "!pip install mnist"
   ]
  },
  {
   "cell_type": "markdown",
   "id": "69df9c9a",
   "metadata": {
    "papermill": {
     "duration": 0.025087,
     "end_time": "2022-10-30T10:10:34.119605",
     "exception": false,
     "start_time": "2022-10-30T10:10:34.094518",
     "status": "completed"
    },
    "tags": []
   },
   "source": [
    "## Preparing the Data"
   ]
  },
  {
   "cell_type": "code",
   "execution_count": 4,
   "id": "7f69d806",
   "metadata": {
    "execution": {
     "iopub.execute_input": "2022-10-30T10:10:34.174248Z",
     "iopub.status.busy": "2022-10-30T10:10:34.173631Z",
     "iopub.status.idle": "2022-10-30T10:10:34.190227Z",
     "shell.execute_reply": "2022-10-30T10:10:34.189712Z"
    },
    "papermill": {
     "duration": 0.045536,
     "end_time": "2022-10-30T10:10:34.190352",
     "exception": false,
     "start_time": "2022-10-30T10:10:34.144816",
     "status": "completed"
    },
    "tags": []
   },
   "outputs": [],
   "source": [
    "import mnist"
   ]
  },
  {
   "cell_type": "code",
   "execution_count": 5,
   "id": "a411e44f",
   "metadata": {
    "execution": {
     "iopub.execute_input": "2022-10-30T10:10:34.248655Z",
     "iopub.status.busy": "2022-10-30T10:10:34.248024Z",
     "iopub.status.idle": "2022-10-30T10:10:34.752543Z",
     "shell.execute_reply": "2022-10-30T10:10:34.751932Z"
    },
    "papermill": {
     "duration": 0.537408,
     "end_time": "2022-10-30T10:10:34.752688",
     "exception": false,
     "start_time": "2022-10-30T10:10:34.215280",
     "status": "completed"
    },
    "tags": []
   },
   "outputs": [],
   "source": [
    "train_images = mnist.train_images()\n",
    "train_labels = mnist.train_labels()"
   ]
  },
  {
   "cell_type": "code",
   "execution_count": 6,
   "id": "dceab3a5",
   "metadata": {
    "execution": {
     "iopub.execute_input": "2022-10-30T10:10:34.813828Z",
     "iopub.status.busy": "2022-10-30T10:10:34.813186Z",
     "iopub.status.idle": "2022-10-30T10:10:34.826561Z",
     "shell.execute_reply": "2022-10-30T10:10:34.826060Z"
    },
    "papermill": {
     "duration": 0.048416,
     "end_time": "2022-10-30T10:10:34.826682",
     "exception": false,
     "start_time": "2022-10-30T10:10:34.778266",
     "status": "completed"
    },
    "tags": []
   },
   "outputs": [
    {
     "data": {
      "text/plain": [
       "((60000, 28, 28), (60000,))"
      ]
     },
     "execution_count": 6,
     "metadata": {},
     "output_type": "execute_result"
    }
   ],
   "source": [
    "train_images.shape, train_labels.shape"
   ]
  },
  {
   "cell_type": "code",
   "execution_count": 7,
   "id": "f50dc2bb",
   "metadata": {
    "execution": {
     "iopub.execute_input": "2022-10-30T10:10:34.892102Z",
     "iopub.status.busy": "2022-10-30T10:10:34.885847Z",
     "iopub.status.idle": "2022-10-30T10:10:34.998431Z",
     "shell.execute_reply": "2022-10-30T10:10:34.997789Z"
    },
    "papermill": {
     "duration": 0.146964,
     "end_time": "2022-10-30T10:10:34.998573",
     "exception": false,
     "start_time": "2022-10-30T10:10:34.851609",
     "status": "completed"
    },
    "tags": []
   },
   "outputs": [],
   "source": [
    "test_images = mnist.test_images()\n",
    "test_labels = mnist.test_labels()"
   ]
  },
  {
   "cell_type": "code",
   "execution_count": 8,
   "id": "fc38cf1b",
   "metadata": {
    "execution": {
     "iopub.execute_input": "2022-10-30T10:10:35.054448Z",
     "iopub.status.busy": "2022-10-30T10:10:35.053850Z",
     "iopub.status.idle": "2022-10-30T10:10:35.067738Z",
     "shell.execute_reply": "2022-10-30T10:10:35.067237Z"
    },
    "papermill": {
     "duration": 0.043631,
     "end_time": "2022-10-30T10:10:35.067859",
     "exception": false,
     "start_time": "2022-10-30T10:10:35.024228",
     "status": "completed"
    },
    "tags": []
   },
   "outputs": [
    {
     "data": {
      "text/plain": [
       "((10000, 28, 28), (10000,))"
      ]
     },
     "execution_count": 8,
     "metadata": {},
     "output_type": "execute_result"
    }
   ],
   "source": [
    "test_images.shape, test_labels.shape"
   ]
  },
  {
   "cell_type": "code",
   "execution_count": 9,
   "id": "f9ed8fe0",
   "metadata": {
    "execution": {
     "iopub.execute_input": "2022-10-30T10:10:35.124587Z",
     "iopub.status.busy": "2022-10-30T10:10:35.123971Z",
     "iopub.status.idle": "2022-10-30T10:10:35.261636Z",
     "shell.execute_reply": "2022-10-30T10:10:35.262157Z"
    },
    "papermill": {
     "duration": 0.169189,
     "end_time": "2022-10-30T10:10:35.262319",
     "exception": false,
     "start_time": "2022-10-30T10:10:35.093130",
     "status": "completed"
    },
    "tags": []
   },
   "outputs": [
    {
     "name": "stdout",
     "output_type": "stream",
     "text": [
      "2\n"
     ]
    },
    {
     "data": {
      "text/plain": [
       "<matplotlib.image.AxesImage at 0x7f6bce063c88>"
      ]
     },
     "execution_count": 9,
     "metadata": {},
     "output_type": "execute_result"
    },
    {
     "data": {
      "image/png": "[encoded data removed]",
      "text/plain": [
       "<Figure size 432x288 with 1 Axes>"
      ]
     },
     "metadata": {
      "needs_background": "light"
     },
     "output_type": "display_data"
    }
   ],
   "source": [
    "image_index = 7776 # You may select anything up to 60,000\n",
    "print(train_labels[image_index]) \n",
    "plt.imshow(train_images[image_index], cmap='Greys')"
   ]
  },
  {
   "cell_type": "markdown",
   "id": "a8d2388d",
   "metadata": {
    "papermill": {
     "duration": 0.026359,
     "end_time": "2022-10-30T10:10:35.315599",
     "exception": false,
     "start_time": "2022-10-30T10:10:35.289240",
     "status": "completed"
    },
    "tags": []
   },
   "source": [
    "## Filter data to get 3 and 8 out"
   ]
  },
  {
   "cell_type": "code",
   "execution_count": 10,
   "id": "776f7fc7",
   "metadata": {
    "execution": {
     "iopub.execute_input": "2022-10-30T10:10:35.387994Z",
     "iopub.status.busy": "2022-10-30T10:10:35.383956Z",
     "iopub.status.idle": "2022-10-30T10:10:35.396444Z",
     "shell.execute_reply": "2022-10-30T10:10:35.396910Z"
    },
    "papermill": {
     "duration": 0.055534,
     "end_time": "2022-10-30T10:10:35.397059",
     "exception": false,
     "start_time": "2022-10-30T10:10:35.341525",
     "status": "completed"
    },
    "tags": []
   },
   "outputs": [],
   "source": [
    "train_filter = np.where((train_labels == 3 ) | (train_labels == 8))\n",
    "test_filter = np.where((test_labels == 3) | (test_labels == 8))\n",
    "X_train, y_train = train_images[train_filter], train_labels[train_filter]\n",
    "X_test, y_test = test_images[test_filter], test_labels[test_filter]"
   ]
  },
  {
   "cell_type": "markdown",
   "id": "948f0b7e",
   "metadata": {
    "papermill": {
     "duration": 0.026669,
     "end_time": "2022-10-30T10:10:35.450121",
     "exception": false,
     "start_time": "2022-10-30T10:10:35.423452",
     "status": "completed"
    },
    "tags": []
   },
   "source": [
    "We normalize the pizel values in the 0 to 1 range"
   ]
  },
  {
   "cell_type": "code",
   "execution_count": 11,
   "id": "ee4c2166",
   "metadata": {
    "execution": {
     "iopub.execute_input": "2022-10-30T10:10:35.511386Z",
     "iopub.status.busy": "2022-10-30T10:10:35.506129Z",
     "iopub.status.idle": "2022-10-30T10:10:35.556930Z",
     "shell.execute_reply": "2022-10-30T10:10:35.557467Z"
    },
    "papermill": {
     "duration": 0.081273,
     "end_time": "2022-10-30T10:10:35.557644",
     "exception": false,
     "start_time": "2022-10-30T10:10:35.476371",
     "status": "completed"
    },
    "tags": []
   },
   "outputs": [],
   "source": [
    "X_train = X_train/255.\n",
    "X_test = X_test/255."
   ]
  },
  {
   "cell_type": "markdown",
   "id": "ddcf4fab",
   "metadata": {
    "papermill": {
     "duration": 0.026659,
     "end_time": "2022-10-30T10:10:35.612312",
     "exception": false,
     "start_time": "2022-10-30T10:10:35.585653",
     "status": "completed"
    },
    "tags": []
   },
   "source": [
    "And setup the labels as 1 (when the digit is 3) and 0 (when the digit is 8)"
   ]
  },
  {
   "cell_type": "code",
   "execution_count": 12,
   "id": "7dc908f2",
   "metadata": {
    "execution": {
     "iopub.execute_input": "2022-10-30T10:10:35.675871Z",
     "iopub.status.busy": "2022-10-30T10:10:35.668582Z",
     "iopub.status.idle": "2022-10-30T10:10:35.681663Z",
     "shell.execute_reply": "2022-10-30T10:10:35.682114Z"
    },
    "papermill": {
     "duration": 0.043709,
     "end_time": "2022-10-30T10:10:35.682253",
     "exception": false,
     "start_time": "2022-10-30T10:10:35.638544",
     "status": "completed"
    },
    "tags": []
   },
   "outputs": [],
   "source": [
    "y_train = 1*(y_train==3)\n",
    "y_test = 1*(y_test==3)"
   ]
  },
  {
   "cell_type": "code",
   "execution_count": 13,
   "id": "01e4e969",
   "metadata": {
    "execution": {
     "iopub.execute_input": "2022-10-30T10:10:35.751863Z",
     "iopub.status.busy": "2022-10-30T10:10:35.743641Z",
     "iopub.status.idle": "2022-10-30T10:10:35.755223Z",
     "shell.execute_reply": "2022-10-30T10:10:35.755661Z"
    },
    "papermill": {
     "duration": 0.046473,
     "end_time": "2022-10-30T10:10:35.755806",
     "exception": false,
     "start_time": "2022-10-30T10:10:35.709333",
     "status": "completed"
    },
    "tags": []
   },
   "outputs": [
    {
     "data": {
      "text/plain": [
       "((11982, 28, 28), (1984, 28, 28))"
      ]
     },
     "execution_count": 13,
     "metadata": {},
     "output_type": "execute_result"
    }
   ],
   "source": [
    "X_train.shape, X_test.shape"
   ]
  },
  {
   "cell_type": "markdown",
   "id": "5ccf3f85",
   "metadata": {
    "papermill": {
     "duration": 0.026327,
     "end_time": "2022-10-30T10:10:35.808426",
     "exception": false,
     "start_time": "2022-10-30T10:10:35.782099",
     "status": "completed"
    },
    "tags": []
   },
   "source": [
    "We reshape the data to flatten the image pixels into a set of features or co-variates:"
   ]
  },
  {
   "cell_type": "code",
   "execution_count": 14,
   "id": "5286a4a3",
   "metadata": {
    "execution": {
     "iopub.execute_input": "2022-10-30T10:10:35.876619Z",
     "iopub.status.busy": "2022-10-30T10:10:35.875992Z",
     "iopub.status.idle": "2022-10-30T10:10:35.887256Z",
     "shell.execute_reply": "2022-10-30T10:10:35.887714Z"
    },
    "papermill": {
     "duration": 0.052805,
     "end_time": "2022-10-30T10:10:35.887853",
     "exception": false,
     "start_time": "2022-10-30T10:10:35.835048",
     "status": "completed"
    },
    "tags": []
   },
   "outputs": [
    {
     "data": {
      "text/plain": [
       "((11982, 784), (1984, 784))"
      ]
     },
     "execution_count": 14,
     "metadata": {},
     "output_type": "execute_result"
    }
   ],
   "source": [
    "X_train = X_train.reshape(X_train.shape[0], -1)\n",
    "X_test = X_test.reshape(X_test.shape[0], -1)\n",
    "X_train.shape, X_test.shape"
   ]
  },
  {
   "cell_type": "code",
   "execution_count": 15,
   "id": "73c5f88a",
   "metadata": {
    "execution": {
     "iopub.execute_input": "2022-10-30T10:10:35.952214Z",
     "iopub.status.busy": "2022-10-30T10:10:35.947463Z",
     "iopub.status.idle": "2022-10-30T10:10:35.967578Z",
     "shell.execute_reply": "2022-10-30T10:10:35.967080Z"
    },
    "papermill": {
     "duration": 0.053275,
     "end_time": "2022-10-30T10:10:35.967699",
     "exception": false,
     "start_time": "2022-10-30T10:10:35.914424",
     "status": "completed"
    },
    "tags": []
   },
   "outputs": [],
   "source": [
    "#Impoting functions from 'Kudzu'\n",
    "from kudzu.model import Model\n",
    "from kudzu.train import Learner\n",
    "from kudzu.optim import GD\n",
    "from kudzu.data import Data, Sampler,Dataloader\n",
    "\n",
    "from kudzu.callbacks import AccCallback\n",
    "from kudzu.callbacks import ClfCallback\n",
    "\n",
    "from kudzu.loss import MSE\n",
    "\n",
    "from kudzu.layer import Sigmoid,Relu\n",
    "from kudzu.layer import Affine"
   ]
  },
  {
   "cell_type": "markdown",
   "id": "bc01172a",
   "metadata": {
    "papermill": {
     "duration": 0.026766,
     "end_time": "2022-10-30T10:10:36.021136",
     "exception": false,
     "start_time": "2022-10-30T10:10:35.994370",
     "status": "completed"
    },
    "tags": []
   },
   "source": [
    "### Let us create a `Config` class, to store important parameters. \n",
    "This class essentially plays the role of a dictionary."
   ]
  },
  {
   "cell_type": "code",
   "execution_count": 16,
   "id": "978281aa",
   "metadata": {
    "execution": {
     "iopub.execute_input": "2022-10-30T10:10:36.079198Z",
     "iopub.status.busy": "2022-10-30T10:10:36.078562Z",
     "iopub.status.idle": "2022-10-30T10:10:36.091597Z",
     "shell.execute_reply": "2022-10-30T10:10:36.091103Z"
    },
    "papermill": {
     "duration": 0.043908,
     "end_time": "2022-10-30T10:10:36.091715",
     "exception": false,
     "start_time": "2022-10-30T10:10:36.047807",
     "status": "completed"
    },
    "tags": []
   },
   "outputs": [],
   "source": [
    "class Config:\n",
    "    pass\n",
    "config = Config()\n",
    "config.lr = 0.001\n",
    "config.num_epochs = 250\n",
    "config.bs = 50"
   ]
  },
  {
   "cell_type": "markdown",
   "id": "1385fa59",
   "metadata": {
    "papermill": {
     "duration": 0.02688,
     "end_time": "2022-10-30T10:10:36.145589",
     "exception": false,
     "start_time": "2022-10-30T10:10:36.118709",
     "status": "completed"
    },
    "tags": []
   },
   "source": [
    "### Running Models with the Training data\n",
    "Details about the network layers:\n",
    "- A first affine layer has 784 inputs and does 100 affine transforms. These are followed by a Relu\n",
    "- A second affine layer has 100 inputs from the 100 activations of the past layer, and does 100 affine transforms. These are followed by a Relu\n",
    "- A third affine layer has 100 activations and does 2 affine transformations to create an embedding for visualization. There is no non-linearity here.\n",
    "- A final \"logistic regression\" which has an affine transform from 2 inputs to 1 output, which is squeezed through a sigmoid.\n"
   ]
  },
  {
   "cell_type": "code",
   "execution_count": 17,
   "id": "2b9c66db",
   "metadata": {
    "execution": {
     "iopub.execute_input": "2022-10-30T10:10:36.207811Z",
     "iopub.status.busy": "2022-10-30T10:10:36.207186Z",
     "iopub.status.idle": "2022-10-30T10:10:36.218698Z",
     "shell.execute_reply": "2022-10-30T10:10:36.218212Z"
    },
    "papermill": {
     "duration": 0.046532,
     "end_time": "2022-10-30T10:10:36.218816",
     "exception": false,
     "start_time": "2022-10-30T10:10:36.172284",
     "status": "completed"
    },
    "tags": []
   },
   "outputs": [],
   "source": [
    "data = Data(X_train, y_train.reshape(-1,1))\n",
    "sampler = Sampler(data, config.bs, shuffle=True)\n",
    "\n",
    "dl = Dataloader(data, sampler)\n",
    "\n",
    "opt = GD(config.lr)\n",
    "loss = MSE()"
   ]
  },
  {
   "cell_type": "code",
   "execution_count": 18,
   "id": "b275e4c2",
   "metadata": {
    "execution": {
     "iopub.execute_input": "2022-10-30T10:10:36.277616Z",
     "iopub.status.busy": "2022-10-30T10:10:36.277011Z",
     "iopub.status.idle": "2022-10-30T10:10:36.289605Z",
     "shell.execute_reply": "2022-10-30T10:10:36.289118Z"
    },
    "papermill": {
     "duration": 0.044083,
     "end_time": "2022-10-30T10:10:36.289723",
     "exception": false,
     "start_time": "2022-10-30T10:10:36.245640",
     "status": "completed"
    },
    "tags": []
   },
   "outputs": [],
   "source": [
    "training_data_x = X_train\n",
    "testing_data_x = X_test\n",
    "training_data_y = y_train.reshape(-1,1)\n",
    "testing_data_y = y_test.reshape(-1,1)"
   ]
  },
  {
   "cell_type": "code",
   "execution_count": 19,
   "id": "76951160",
   "metadata": {
    "execution": {
     "iopub.execute_input": "2022-10-30T10:10:36.352581Z",
     "iopub.status.busy": "2022-10-30T10:10:36.351958Z",
     "iopub.status.idle": "2022-10-30T10:10:36.366501Z",
     "shell.execute_reply": "2022-10-30T10:10:36.365924Z"
    },
    "papermill": {
     "duration": 0.050268,
     "end_time": "2022-10-30T10:10:36.366620",
     "exception": false,
     "start_time": "2022-10-30T10:10:36.316352",
     "status": "completed"
    },
    "tags": []
   },
   "outputs": [
    {
     "name": "stdout",
     "output_type": "stream",
     "text": [
      "xavier\n",
      "xavier\n",
      "xavier\n",
      "xavier\n",
      "xavier\n"
     ]
    }
   ],
   "source": [
    "layers = [Affine(\"first\", 784, 100), Relu(\"first\"), Affine(\"second\", 100, 100), Relu(\"second\"), Affine(\"third\", 100, 2), Affine(\"last\", 2, 1), Sigmoid(\"last\")]\n",
    "model_nn = Model(layers)\n",
    "model_lr = Model([Affine(\"logits\", 784, 1), Sigmoid(\"sigmoid\")])"
   ]
  },
  {
   "cell_type": "code",
   "execution_count": 20,
   "id": "6eede77a",
   "metadata": {
    "execution": {
     "iopub.execute_input": "2022-10-30T10:10:36.427195Z",
     "iopub.status.busy": "2022-10-30T10:10:36.426574Z",
     "iopub.status.idle": "2022-10-30T10:10:36.439122Z",
     "shell.execute_reply": "2022-10-30T10:10:36.438611Z"
    },
    "papermill": {
     "duration": 0.045485,
     "end_time": "2022-10-30T10:10:36.439244",
     "exception": false,
     "start_time": "2022-10-30T10:10:36.393759",
     "status": "completed"
    },
    "tags": []
   },
   "outputs": [],
   "source": [
    "nn_learner = Learner(loss, model_nn, opt, config.num_epochs)\n",
    "acc_nn = ClfCallback(nn_learner, config.bs, training_data_x , testing_data_x, training_data_y, testing_data_y)\n",
    "nn_learner.set_callbacks([acc_nn])"
   ]
  },
  {
   "cell_type": "code",
   "execution_count": 21,
   "id": "877b6cc7",
   "metadata": {
    "execution": {
     "iopub.execute_input": "2022-10-30T10:10:36.498138Z",
     "iopub.status.busy": "2022-10-30T10:10:36.497536Z",
     "iopub.status.idle": "2022-10-30T10:10:36.511035Z",
     "shell.execute_reply": "2022-10-30T10:10:36.510544Z"
    },
    "papermill": {
     "duration": 0.044625,
     "end_time": "2022-10-30T10:10:36.511171",
     "exception": false,
     "start_time": "2022-10-30T10:10:36.466546",
     "status": "completed"
    },
    "tags": []
   },
   "outputs": [],
   "source": [
    "lr_learner = Learner(loss, model_lr, opt, config.num_epochs)\n",
    "acc_lr = ClfCallback(lr_learner, config.bs, training_data_x , testing_data_x, training_data_y, testing_data_y)\n",
    "lr_learner.set_callbacks([acc_lr])"
   ]
  },
  {
   "cell_type": "code",
   "execution_count": 22,
   "id": "d9b133c3",
   "metadata": {
    "execution": {
     "iopub.execute_input": "2022-10-30T10:10:36.569977Z",
     "iopub.status.busy": "2022-10-30T10:10:36.569389Z",
     "iopub.status.idle": "2022-10-30T10:11:53.552931Z",
     "shell.execute_reply": "2022-10-30T10:11:53.553789Z"
    },
    "papermill": {
     "duration": 77.015413,
     "end_time": "2022-10-30T10:11:53.553956",
     "exception": false,
     "start_time": "2022-10-30T10:10:36.538543",
     "status": "completed"
    },
    "tags": []
   },
   "outputs": [
    {
     "name": "stdout",
     "output_type": "stream",
     "text": [
      "Epoch 0, Loss 0.2501\n",
      "Training Accuracy: 0.5946, Testing Accuracy: 0.5766\n",
      "\n"
     ]
    },
    {
     "name": "stdout",
     "output_type": "stream",
     "text": [
      "Epoch 10, Loss 0.1116\n",
      "Training Accuracy: 0.9073, Testing Accuracy: 0.9153\n",
      "\n"
     ]
    },
    {
     "name": "stdout",
     "output_type": "stream",
     "text": [
      "Epoch 20, Loss 0.0625\n",
      "Training Accuracy: 0.9370, Testing Accuracy: 0.9486\n",
      "\n"
     ]
    },
    {
     "name": "stdout",
     "output_type": "stream",
     "text": [
      "Epoch 30, Loss 0.0476\n",
      "Training Accuracy: 0.9491, Testing Accuracy: 0.9597\n",
      "\n"
     ]
    },
    {
     "name": "stdout",
     "output_type": "stream",
     "text": [
      "Epoch 40, Loss 0.0408\n",
      "Training Accuracy: 0.9554, Testing Accuracy: 0.9627\n",
      "\n"
     ]
    },
    {
     "name": "stdout",
     "output_type": "stream",
     "text": [
      "Epoch 50, Loss 0.0367\n",
      "Training Accuracy: 0.9594, Testing Accuracy: 0.9667\n",
      "\n"
     ]
    },
    {
     "name": "stdout",
     "output_type": "stream",
     "text": [
      "Epoch 60, Loss 0.034\n",
      "Training Accuracy: 0.9618, Testing Accuracy: 0.9672\n",
      "\n"
     ]
    },
    {
     "name": "stdout",
     "output_type": "stream",
     "text": [
      "Epoch 70, Loss 0.0321\n",
      "Training Accuracy: 0.9624, Testing Accuracy: 0.9698\n",
      "\n"
     ]
    },
    {
     "name": "stdout",
     "output_type": "stream",
     "text": [
      "Epoch 80, Loss 0.0305\n",
      "Training Accuracy: 0.9635, Testing Accuracy: 0.9703\n",
      "\n"
     ]
    },
    {
     "name": "stdout",
     "output_type": "stream",
     "text": [
      "Epoch 90, Loss 0.0293\n",
      "Training Accuracy: 0.9644, Testing Accuracy: 0.9698\n",
      "\n"
     ]
    },
    {
     "name": "stdout",
     "output_type": "stream",
     "text": [
      "Epoch 100, Loss 0.0282\n",
      "Training Accuracy: 0.9659, Testing Accuracy: 0.9698\n",
      "\n"
     ]
    },
    {
     "name": "stdout",
     "output_type": "stream",
     "text": [
      "Epoch 110, Loss 0.0273\n",
      "Training Accuracy: 0.9673, Testing Accuracy: 0.9698\n",
      "\n"
     ]
    },
    {
     "name": "stdout",
     "output_type": "stream",
     "text": [
      "Epoch 120, Loss 0.0265\n",
      "Training Accuracy: 0.9685, Testing Accuracy: 0.9698\n",
      "\n"
     ]
    },
    {
     "name": "stdout",
     "output_type": "stream",
     "text": [
      "Epoch 130, Loss 0.0258\n",
      "Training Accuracy: 0.9690, Testing Accuracy: 0.9698\n",
      "\n"
     ]
    },
    {
     "name": "stdout",
     "output_type": "stream",
     "text": [
      "Epoch 140, Loss 0.0252\n",
      "Training Accuracy: 0.9701, Testing Accuracy: 0.9703\n",
      "\n"
     ]
    },
    {
     "name": "stdout",
     "output_type": "stream",
     "text": [
      "Epoch 150, Loss 0.0246\n",
      "Training Accuracy: 0.9710, Testing Accuracy: 0.9718\n",
      "\n"
     ]
    },
    {
     "name": "stdout",
     "output_type": "stream",
     "text": [
      "Epoch 160, Loss 0.024\n",
      "Training Accuracy: 0.9717, Testing Accuracy: 0.9718\n",
      "\n"
     ]
    },
    {
     "name": "stdout",
     "output_type": "stream",
     "text": [
      "Epoch 170, Loss 0.0235\n",
      "Training Accuracy: 0.9722, Testing Accuracy: 0.9718\n",
      "\n"
     ]
    },
    {
     "name": "stdout",
     "output_type": "stream",
     "text": [
      "Epoch 180, Loss 0.023\n",
      "Training Accuracy: 0.9726, Testing Accuracy: 0.9723\n",
      "\n"
     ]
    },
    {
     "name": "stdout",
     "output_type": "stream",
     "text": [
      "Epoch 190, Loss 0.0225\n",
      "Training Accuracy: 0.9735, Testing Accuracy: 0.9733\n",
      "\n"
     ]
    },
    {
     "name": "stdout",
     "output_type": "stream",
     "text": [
      "Epoch 200, Loss 0.0221\n",
      "Training Accuracy: 0.9738, Testing Accuracy: 0.9733\n",
      "\n"
     ]
    },
    {
     "name": "stdout",
     "output_type": "stream",
     "text": [
      "Epoch 210, Loss 0.0217\n",
      "Training Accuracy: 0.9745, Testing Accuracy: 0.9738\n",
      "\n"
     ]
    },
    {
     "name": "stdout",
     "output_type": "stream",
     "text": [
      "Epoch 220, Loss 0.0213\n",
      "Training Accuracy: 0.9750, Testing Accuracy: 0.9723\n",
      "\n"
     ]
    },
    {
     "name": "stdout",
     "output_type": "stream",
     "text": [
      "Epoch 230, Loss 0.0209\n",
      "Training Accuracy: 0.9755, Testing Accuracy: 0.9723\n",
      "\n"
     ]
    },
    {
     "name": "stdout",
     "output_type": "stream",
     "text": [
      "Epoch 240, Loss 0.0206\n",
      "Training Accuracy: 0.9760, Testing Accuracy: 0.9728\n",
      "\n"
     ]
    },
    {
     "data": {
      "text/plain": [
       "0.017231456825503866"
      ]
     },
     "execution_count": 22,
     "metadata": {},
     "output_type": "execute_result"
    }
   ],
   "source": [
    "nn_learner.train_loop(dl)"
   ]
  },
  {
   "cell_type": "code",
   "execution_count": 23,
   "id": "e0163366",
   "metadata": {
    "execution": {
     "iopub.execute_input": "2022-10-30T10:11:53.632668Z",
     "iopub.status.busy": "2022-10-30T10:11:53.632060Z",
     "iopub.status.idle": "2022-10-30T10:12:07.825258Z",
     "shell.execute_reply": "2022-10-30T10:12:07.826105Z"
    },
    "papermill": {
     "duration": 14.237409,
     "end_time": "2022-10-30T10:12:07.826264",
     "exception": false,
     "start_time": "2022-10-30T10:11:53.588855",
     "status": "completed"
    },
    "tags": []
   },
   "outputs": [
    {
     "name": "stdout",
     "output_type": "stream",
     "text": [
      "Epoch 0, Loss 0.2393\n",
      "Training Accuracy: 0.7039, Testing Accuracy: 0.7213\n",
      "\n"
     ]
    },
    {
     "name": "stdout",
     "output_type": "stream",
     "text": [
      "Epoch 10, Loss 0.1025\n",
      "Training Accuracy: 0.9115, Testing Accuracy: 0.9274\n",
      "\n"
     ]
    },
    {
     "name": "stdout",
     "output_type": "stream",
     "text": [
      "Epoch 20, Loss 0.0789\n",
      "Training Accuracy: 0.9291, Testing Accuracy: 0.9390\n",
      "\n"
     ]
    },
    {
     "name": "stdout",
     "output_type": "stream",
     "text": [
      "Epoch 30, Loss 0.068\n",
      "Training Accuracy: 0.9369, Testing Accuracy: 0.9466\n",
      "\n"
     ]
    },
    {
     "name": "stdout",
     "output_type": "stream",
     "text": [
      "Epoch 40, Loss 0.0615\n",
      "Training Accuracy: 0.9418, Testing Accuracy: 0.9486\n",
      "\n"
     ]
    },
    {
     "name": "stdout",
     "output_type": "stream",
     "text": [
      "Epoch 50, Loss 0.057\n",
      "Training Accuracy: 0.9454, Testing Accuracy: 0.9516\n",
      "\n"
     ]
    },
    {
     "name": "stdout",
     "output_type": "stream",
     "text": [
      "Epoch 60, Loss 0.0537\n",
      "Training Accuracy: 0.9478, Testing Accuracy: 0.9531\n",
      "\n"
     ]
    },
    {
     "name": "stdout",
     "output_type": "stream",
     "text": [
      "Epoch 70, Loss 0.0512\n",
      "Training Accuracy: 0.9493, Testing Accuracy: 0.9572\n",
      "\n"
     ]
    },
    {
     "name": "stdout",
     "output_type": "stream",
     "text": [
      "Epoch 80, Loss 0.0492\n",
      "Training Accuracy: 0.9512, Testing Accuracy: 0.9602\n",
      "\n"
     ]
    },
    {
     "name": "stdout",
     "output_type": "stream",
     "text": [
      "Epoch 90, Loss 0.0475\n",
      "Training Accuracy: 0.9521, Testing Accuracy: 0.9607\n",
      "\n"
     ]
    },
    {
     "name": "stdout",
     "output_type": "stream",
     "text": [
      "Epoch 100, Loss 0.0461\n",
      "Training Accuracy: 0.9531, Testing Accuracy: 0.9622\n",
      "\n"
     ]
    },
    {
     "name": "stdout",
     "output_type": "stream",
     "text": [
      "Epoch 110, Loss 0.0448\n",
      "Training Accuracy: 0.9539, Testing Accuracy: 0.9637\n",
      "\n"
     ]
    },
    {
     "name": "stdout",
     "output_type": "stream",
     "text": [
      "Epoch 120, Loss 0.0438\n",
      "Training Accuracy: 0.9548, Testing Accuracy: 0.9637\n",
      "\n"
     ]
    },
    {
     "name": "stdout",
     "output_type": "stream",
     "text": [
      "Epoch 130, Loss 0.0429\n",
      "Training Accuracy: 0.9560, Testing Accuracy: 0.9637\n",
      "\n"
     ]
    },
    {
     "name": "stdout",
     "output_type": "stream",
     "text": [
      "Epoch 140, Loss 0.042\n",
      "Training Accuracy: 0.9569, Testing Accuracy: 0.9637\n",
      "\n"
     ]
    },
    {
     "name": "stdout",
     "output_type": "stream",
     "text": [
      "Epoch 150, Loss 0.0413\n",
      "Training Accuracy: 0.9577, Testing Accuracy: 0.9637\n",
      "\n"
     ]
    },
    {
     "name": "stdout",
     "output_type": "stream",
     "text": [
      "Epoch 160, Loss 0.0406\n",
      "Training Accuracy: 0.9588, Testing Accuracy: 0.9647\n",
      "\n"
     ]
    },
    {
     "name": "stdout",
     "output_type": "stream",
     "text": [
      "Epoch 170, Loss 0.04\n",
      "Training Accuracy: 0.9590, Testing Accuracy: 0.9647\n",
      "\n"
     ]
    },
    {
     "name": "stdout",
     "output_type": "stream",
     "text": [
      "Epoch 180, Loss 0.0394\n",
      "Training Accuracy: 0.9591, Testing Accuracy: 0.9652\n",
      "\n"
     ]
    },
    {
     "name": "stdout",
     "output_type": "stream",
     "text": [
      "Epoch 190, Loss 0.0389\n",
      "Training Accuracy: 0.9594, Testing Accuracy: 0.9652\n",
      "\n"
     ]
    },
    {
     "name": "stdout",
     "output_type": "stream",
     "text": [
      "Epoch 200, Loss 0.0384\n",
      "Training Accuracy: 0.9602, Testing Accuracy: 0.9647\n",
      "\n"
     ]
    },
    {
     "name": "stdout",
     "output_type": "stream",
     "text": [
      "Epoch 210, Loss 0.038\n",
      "Training Accuracy: 0.9606, Testing Accuracy: 0.9657\n",
      "\n"
     ]
    },
    {
     "name": "stdout",
     "output_type": "stream",
     "text": [
      "Epoch 220, Loss 0.0376\n",
      "Training Accuracy: 0.9607, Testing Accuracy: 0.9662\n",
      "\n"
     ]
    },
    {
     "name": "stdout",
     "output_type": "stream",
     "text": [
      "Epoch 230, Loss 0.0372\n",
      "Training Accuracy: 0.9613, Testing Accuracy: 0.9662\n",
      "\n"
     ]
    },
    {
     "name": "stdout",
     "output_type": "stream",
     "text": [
      "Epoch 240, Loss 0.0368\n",
      "Training Accuracy: 0.9615, Testing Accuracy: 0.9662\n",
      "\n"
     ]
    },
    {
     "data": {
      "text/plain": [
       "0.05082141106820691"
      ]
     },
     "execution_count": 23,
     "metadata": {},
     "output_type": "execute_result"
    }
   ],
   "source": [
    "lr_learner.train_loop(dl)"
   ]
  },
  {
   "cell_type": "code",
   "execution_count": 24,
   "id": "ca410940",
   "metadata": {
    "execution": {
     "iopub.execute_input": "2022-10-30T10:12:07.917306Z",
     "iopub.status.busy": "2022-10-30T10:12:07.916684Z",
     "iopub.status.idle": "2022-10-30T10:12:08.154599Z",
     "shell.execute_reply": "2022-10-30T10:12:08.154027Z"
    },
    "papermill": {
     "duration": 0.287128,
     "end_time": "2022-10-30T10:12:08.154735",
     "exception": false,
     "start_time": "2022-10-30T10:12:07.867607",
     "status": "completed"
    },
    "tags": []
   },
   "outputs": [
    {
     "data": {
      "text/plain": [
       "<matplotlib.legend.Legend at 0x7f6bcdc31da0>"
      ]
     },
     "execution_count": 24,
     "metadata": {},
     "output_type": "execute_result"
    },
    {
     "data": {
      "image/png": "[encoded data removed]",
      "text/plain": [
       "<Figure size 1080x720 with 1 Axes>"
      ]
     },
     "metadata": {
      "needs_background": "light"
     },
     "output_type": "display_data"
    }
   ],
   "source": [
    "#comparing the results of NN and LR\n",
    "plt.figure(figsize=(15,10))\n",
    "\n",
    "# Neural Network plots\n",
    "plt.plot(acc_nn.accuracies, 'r-', label = \"Training Accuracies - NN\")\n",
    "plt.plot(acc_nn.test_accuracies, 'g-', label = \"Testing Accuracies - NN\")\n",
    "\n",
    "# Logistic Regression plots\n",
    "plt.plot(acc_lr.accuracies, 'k-', label = \"Training Accuracies - LR\")\n",
    "plt.plot(acc_lr.test_accuracies, 'b-', label = \"Testing Accuracies - LR\")\n",
    "plt.legend()"
   ]
  },
  {
   "cell_type": "markdown",
   "id": "80dfb35c",
   "metadata": {
    "papermill": {
     "duration": 0.041581,
     "end_time": "2022-10-30T10:12:08.238377",
     "exception": false,
     "start_time": "2022-10-30T10:12:08.196796",
     "status": "completed"
    },
    "tags": []
   },
   "source": [
    "#### Plotting the outputs of this layer of the NN.\n"
   ]
  },
  {
   "cell_type": "code",
   "execution_count": 25,
   "id": "45eb2ff5",
   "metadata": {
    "execution": {
     "iopub.execute_input": "2022-10-30T10:12:08.331364Z",
     "iopub.status.busy": "2022-10-30T10:12:08.330720Z",
     "iopub.status.idle": "2022-10-30T10:12:08.352577Z",
     "shell.execute_reply": "2022-10-30T10:12:08.352079Z"
    },
    "papermill": {
     "duration": 0.072626,
     "end_time": "2022-10-30T10:12:08.352698",
     "exception": false,
     "start_time": "2022-10-30T10:12:08.280072",
     "status": "completed"
    },
    "tags": []
   },
   "outputs": [],
   "source": [
    "new_model = Model(layers[:-2])\n",
    "testing_plot = new_model(testing_data_x)"
   ]
  },
  {
   "cell_type": "code",
   "execution_count": 26,
   "id": "4c0a5485",
   "metadata": {
    "execution": {
     "iopub.execute_input": "2022-10-30T10:12:08.442487Z",
     "iopub.status.busy": "2022-10-30T10:12:08.441886Z",
     "iopub.status.idle": "2022-10-30T10:12:08.650449Z",
     "shell.execute_reply": "2022-10-30T10:12:08.649965Z"
    },
    "papermill": {
     "duration": 0.254535,
     "end_time": "2022-10-30T10:12:08.650576",
     "exception": false,
     "start_time": "2022-10-30T10:12:08.396041",
     "status": "completed"
    },
    "tags": []
   },
   "outputs": [
    {
     "data": {
      "text/plain": [
       "Text(0.5, 1.0, 'Outputs')"
      ]
     },
     "execution_count": 26,
     "metadata": {},
     "output_type": "execute_result"
    },
    {
     "data": {
      "image/png": "[encoded data removed]",
      "text/plain": [
       "<Figure size 576x504 with 1 Axes>"
      ]
     },
     "metadata": {
      "needs_background": "light"
     },
     "output_type": "display_data"
    }
   ],
   "source": [
    "# Plotting the scatter plot of points and color coding by class\n",
    "plt.figure(figsize=(8,7))\n",
    "plt.scatter(testing_plot[:,0], testing_plot[:,1], alpha = 0.1, c = y_test.ravel());\n",
    "plt.title('Outputs')"
   ]
  },
  {
   "cell_type": "markdown",
   "id": "a74fcf8f",
   "metadata": {
    "papermill": {
     "duration": 0.043988,
     "end_time": "2022-10-30T10:12:08.738900",
     "exception": false,
     "start_time": "2022-10-30T10:12:08.694912",
     "status": "completed"
    },
    "tags": []
   },
   "source": [
    "Probability contours"
   ]
  },
  {
   "cell_type": "code",
   "execution_count": 27,
   "id": "d0afc8e3",
   "metadata": {
    "execution": {
     "iopub.execute_input": "2022-10-30T10:12:08.881347Z",
     "iopub.status.busy": "2022-10-30T10:12:08.880370Z",
     "iopub.status.idle": "2022-10-30T10:12:08.887364Z",
     "shell.execute_reply": "2022-10-30T10:12:08.886158Z"
    },
    "papermill": {
     "duration": 0.104043,
     "end_time": "2022-10-30T10:12:08.887486",
     "exception": false,
     "start_time": "2022-10-30T10:12:08.783443",
     "status": "completed"
    },
    "tags": []
   },
   "outputs": [],
   "source": [
    "model_prob = Model(layers[-2:]) "
   ]
  },
  {
   "cell_type": "code",
   "execution_count": 28,
   "id": "9b96e238",
   "metadata": {
    "execution": {
     "iopub.execute_input": "2022-10-30T10:12:08.994554Z",
     "iopub.status.busy": "2022-10-30T10:12:08.993903Z",
     "iopub.status.idle": "2022-10-30T10:12:09.000703Z",
     "shell.execute_reply": "2022-10-30T10:12:09.000136Z"
    },
    "papermill": {
     "duration": 0.069349,
     "end_time": "2022-10-30T10:12:09.000828",
     "exception": false,
     "start_time": "2022-10-30T10:12:08.931479",
     "status": "completed"
    },
    "tags": []
   },
   "outputs": [],
   "source": [
    "#creating the x and y ranges according to the above generated plot.\n",
    "x_range = np.linspace(-4, 1, 100) \n",
    "y_range = np.linspace(-6, 6, 100) \n",
    "x_grid, y_grid = np.meshgrid(x_range, y_range) # x_grid and y_grig are of size 100 X 100\n",
    "\n",
    "# converting x_grid and y_grid to continuous arrays\n",
    "x_gridflat = np.ravel(x_grid)\n",
    "y_gridflat = np.ravel(y_grid)\n",
    "\n",
    "# The last layer of the current model takes two columns as input. Hence transpose of np.vstack() is required.\n",
    "X = np.vstack((x_gridflat, y_gridflat)).T\n",
    "\n",
    "prob_contour = model_prob(X).reshape(100,100) "
   ]
  },
  {
   "cell_type": "code",
   "execution_count": 29,
   "id": "da72499a",
   "metadata": {
    "execution": {
     "iopub.execute_input": "2022-10-30T10:12:09.099532Z",
     "iopub.status.busy": "2022-10-30T10:12:09.098832Z",
     "iopub.status.idle": "2022-10-30T10:12:09.340210Z",
     "shell.execute_reply": "2022-10-30T10:12:09.341550Z"
    },
    "papermill": {
     "duration": 0.296237,
     "end_time": "2022-10-30T10:12:09.341711",
     "exception": false,
     "start_time": "2022-10-30T10:12:09.045474",
     "status": "completed"
    },
    "tags": []
   },
   "outputs": [
    {
     "data": {
      "image/png": "[encoded data removed]",
      "text/plain": [
       "<Figure size 720x648 with 1 Axes>"
      ]
     },
     "metadata": {
      "needs_background": "light"
     },
     "output_type": "display_data"
    }
   ],
   "source": [
    "plt.figure(figsize=(10,9))\n",
    "plt.scatter(testing_plot[:,0], testing_plot[:,1], alpha = 0.1, c = y_test.ravel())\n",
    "contours = plt.contour(x_grid,y_grid,prob_contour)\n",
    "plt.title('Probability Contours')\n",
    "plt.clabel(contours, inline = True );"
   ]
  },
  {
   "cell_type": "code",
   "execution_count": null,
   "id": "e81b4ac7",
   "metadata": {
    "papermill": {
     "duration": 0.046763,
     "end_time": "2022-10-30T10:12:09.435585",
     "exception": false,
     "start_time": "2022-10-30T10:12:09.388822",
     "status": "completed"
    },
    "tags": []
   },
   "outputs": [],
   "source": []
  }
 ],
 "metadata": {
  "kernelspec": {
   "display_name": "Python 3",
   "language": "python",
   "name": "python3"
  },
  "language_info": {
   "codemirror_mode": {
    "name": "ipython",
    "version": 3
   },
   "file_extension": ".py",
   "mimetype": "text/x-python",
   "name": "python",
   "nbconvert_exporter": "python",
   "pygments_lexer": "ipython3",
   "version": "3.6.15"
  },
  "papermill": {
   "default_parameters": {},
   "duration": 99.637929,
   "end_time": "2022-10-30T10:12:09.901377",
   "environment_variables": {},
   "exception": null,
   "input_path": "2020-08-11-part2.ipynb",
   "output_path": "2020-08-11-part2.ipynb",
   "parameters": {},
   "start_time": "2022-10-30T10:10:30.263448",
   "version": "2.3.3"
  }
 },
 "nbformat": 4,
 "nbformat_minor": 5
}