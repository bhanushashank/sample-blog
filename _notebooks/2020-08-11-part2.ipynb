{
 "cells": [
  {
   "cell_type": "markdown",
   "id": "98380cd3",
   "metadata": {
    "papermill": {
     "duration": 0.028833,
     "end_time": "2021-12-06T20:08:43.686952",
     "exception": false,
     "start_time": "2021-12-06T20:08:43.658119",
     "status": "completed"
    },
    "tags": []
   },
   "source": [
    "# Distinguish Your Own Digits (DYOD)"
   ]
  },
  {
   "cell_type": "markdown",
   "id": "ef31240d",
   "metadata": {
    "papermill": {
     "duration": 0.02395,
     "end_time": "2021-12-06T20:08:43.737994",
     "exception": false,
     "start_time": "2021-12-06T20:08:43.714044",
     "status": "completed"
    },
    "tags": []
   },
   "source": [
    "You are going to write a classifier that distinguishes between the number 3 and number 8."
   ]
  },
  {
   "cell_type": "code",
   "execution_count": 1,
   "id": "b15c8646",
   "metadata": {
    "execution": {
     "iopub.execute_input": "2021-12-06T20:08:43.797802Z",
     "iopub.status.busy": "2021-12-06T20:08:43.797251Z",
     "iopub.status.idle": "2021-12-06T20:08:43.807342Z",
     "shell.execute_reply": "2021-12-06T20:08:43.807754Z"
    },
    "papermill": {
     "duration": 0.046041,
     "end_time": "2021-12-06T20:08:43.807919",
     "exception": false,
     "start_time": "2021-12-06T20:08:43.761878",
     "status": "completed"
    },
    "tags": []
   },
   "outputs": [],
   "source": [
    "%load_ext autoreload\n",
    "%autoreload 2"
   ]
  },
  {
   "cell_type": "code",
   "execution_count": 2,
   "id": "22ef38dc",
   "metadata": {
    "execution": {
     "iopub.execute_input": "2021-12-06T20:08:43.861548Z",
     "iopub.status.busy": "2021-12-06T20:08:43.861022Z",
     "iopub.status.idle": "2021-12-06T20:08:44.466609Z",
     "shell.execute_reply": "2021-12-06T20:08:44.466073Z"
    },
    "papermill": {
     "duration": 0.634664,
     "end_time": "2021-12-06T20:08:44.466752",
     "exception": false,
     "start_time": "2021-12-06T20:08:43.832088",
     "status": "completed"
    },
    "tags": []
   },
   "outputs": [],
   "source": [
    "%matplotlib inline\n",
    "import numpy as np\n",
    "import matplotlib.pyplot as plt\n",
    "import pandas as pd"
   ]
  },
  {
   "cell_type": "markdown",
   "id": "ba036198",
   "metadata": {
    "papermill": {
     "duration": 0.024077,
     "end_time": "2021-12-06T20:08:44.515454",
     "exception": false,
     "start_time": "2021-12-06T20:08:44.491377",
     "status": "completed"
    },
    "tags": []
   },
   "source": [
    "From the command line run `pip install mnist`. This is a library that will help you bring down the mnist dataset. If you run this from a notebook, you need to put  `!pip install mnist` in a cell by itself."
   ]
  },
  {
   "cell_type": "code",
   "execution_count": 3,
   "id": "bb6ad8a1",
   "metadata": {
    "execution": {
     "iopub.execute_input": "2021-12-06T20:08:44.578192Z",
     "iopub.status.busy": "2021-12-06T20:08:44.573850Z",
     "iopub.status.idle": "2021-12-06T20:08:46.245485Z",
     "shell.execute_reply": "2021-12-06T20:08:46.244329Z"
    },
    "papermill": {
     "duration": 1.705915,
     "end_time": "2021-12-06T20:08:46.245621",
     "exception": false,
     "start_time": "2021-12-06T20:08:44.539706",
     "status": "completed"
    },
    "tags": []
   },
   "outputs": [
    {
     "name": "stdout",
     "output_type": "stream",
     "text": [
      "Collecting mnist\r\n",
      "  Downloading mnist-0.2.2-py2.py3-none-any.whl (3.5 kB)\r\n",
      "Requirement already satisfied: numpy in /opt/hostedtoolcache/Python/3.6.15/x64/lib/python3.6/site-packages (from mnist) (1.19.5)\r\n"
     ]
    },
    {
     "name": "stdout",
     "output_type": "stream",
     "text": [
      "Installing collected packages: mnist\r\n"
     ]
    },
    {
     "name": "stdout",
     "output_type": "stream",
     "text": [
      "Successfully installed mnist-0.2.2\r\n"
     ]
    }
   ],
   "source": [
    "!pip install mnist"
   ]
  },
  {
   "cell_type": "markdown",
   "id": "69df9c9a",
   "metadata": {
    "papermill": {
     "duration": 0.025143,
     "end_time": "2021-12-06T20:08:46.295954",
     "exception": false,
     "start_time": "2021-12-06T20:08:46.270811",
     "status": "completed"
    },
    "tags": []
   },
   "source": [
    "## Preparing the Data"
   ]
  },
  {
   "cell_type": "code",
   "execution_count": 4,
   "id": "7f69d806",
   "metadata": {
    "execution": {
     "iopub.execute_input": "2021-12-06T20:08:46.350791Z",
     "iopub.status.busy": "2021-12-06T20:08:46.350269Z",
     "iopub.status.idle": "2021-12-06T20:08:46.365418Z",
     "shell.execute_reply": "2021-12-06T20:08:46.364982Z"
    },
    "papermill": {
     "duration": 0.044443,
     "end_time": "2021-12-06T20:08:46.365543",
     "exception": false,
     "start_time": "2021-12-06T20:08:46.321100",
     "status": "completed"
    },
    "tags": []
   },
   "outputs": [],
   "source": [
    "import mnist"
   ]
  },
  {
   "cell_type": "code",
   "execution_count": 5,
   "id": "a411e44f",
   "metadata": {
    "execution": {
     "iopub.execute_input": "2021-12-06T20:08:46.423351Z",
     "iopub.status.busy": "2021-12-06T20:08:46.422815Z",
     "iopub.status.idle": "2021-12-06T20:08:46.923181Z",
     "shell.execute_reply": "2021-12-06T20:08:46.922666Z"
    },
    "papermill": {
     "duration": 0.532509,
     "end_time": "2021-12-06T20:08:46.923313",
     "exception": false,
     "start_time": "2021-12-06T20:08:46.390804",
     "status": "completed"
    },
    "tags": []
   },
   "outputs": [],
   "source": [
    "train_images = mnist.train_images()\n",
    "train_labels = mnist.train_labels()"
   ]
  },
  {
   "cell_type": "code",
   "execution_count": 6,
   "id": "dceab3a5",
   "metadata": {
    "execution": {
     "iopub.execute_input": "2021-12-06T20:08:46.977933Z",
     "iopub.status.busy": "2021-12-06T20:08:46.977407Z",
     "iopub.status.idle": "2021-12-06T20:08:46.992227Z",
     "shell.execute_reply": "2021-12-06T20:08:46.991799Z"
    },
    "papermill": {
     "duration": 0.043844,
     "end_time": "2021-12-06T20:08:46.992357",
     "exception": false,
     "start_time": "2021-12-06T20:08:46.948513",
     "status": "completed"
    },
    "tags": []
   },
   "outputs": [
    {
     "data": {
      "text/plain": [
       "((60000, 28, 28), (60000,))"
      ]
     },
     "execution_count": 6,
     "metadata": {},
     "output_type": "execute_result"
    }
   ],
   "source": [
    "train_images.shape, train_labels.shape"
   ]
  },
  {
   "cell_type": "code",
   "execution_count": 7,
   "id": "f50dc2bb",
   "metadata": {
    "execution": {
     "iopub.execute_input": "2021-12-06T20:08:47.047943Z",
     "iopub.status.busy": "2021-12-06T20:08:47.047384Z",
     "iopub.status.idle": "2021-12-06T20:08:47.156315Z",
     "shell.execute_reply": "2021-12-06T20:08:47.155773Z"
    },
    "papermill": {
     "duration": 0.138355,
     "end_time": "2021-12-06T20:08:47.156460",
     "exception": false,
     "start_time": "2021-12-06T20:08:47.018105",
     "status": "completed"
    },
    "tags": []
   },
   "outputs": [],
   "source": [
    "test_images = mnist.test_images()\n",
    "test_labels = mnist.test_labels()"
   ]
  },
  {
   "cell_type": "code",
   "execution_count": 8,
   "id": "fc38cf1b",
   "metadata": {
    "execution": {
     "iopub.execute_input": "2021-12-06T20:08:47.211663Z",
     "iopub.status.busy": "2021-12-06T20:08:47.211100Z",
     "iopub.status.idle": "2021-12-06T20:08:47.224067Z",
     "shell.execute_reply": "2021-12-06T20:08:47.224554Z"
    },
    "papermill": {
     "duration": 0.042332,
     "end_time": "2021-12-06T20:08:47.224699",
     "exception": false,
     "start_time": "2021-12-06T20:08:47.182367",
     "status": "completed"
    },
    "tags": []
   },
   "outputs": [
    {
     "data": {
      "text/plain": [
       "((10000, 28, 28), (10000,))"
      ]
     },
     "execution_count": 8,
     "metadata": {},
     "output_type": "execute_result"
    }
   ],
   "source": [
    "test_images.shape, test_labels.shape"
   ]
  },
  {
   "cell_type": "code",
   "execution_count": 9,
   "id": "f9ed8fe0",
   "metadata": {
    "execution": {
     "iopub.execute_input": "2021-12-06T20:08:47.284312Z",
     "iopub.status.busy": "2021-12-06T20:08:47.283764Z",
     "iopub.status.idle": "2021-12-06T20:08:47.424104Z",
     "shell.execute_reply": "2021-12-06T20:08:47.423659Z"
    },
    "papermill": {
     "duration": 0.174025,
     "end_time": "2021-12-06T20:08:47.424233",
     "exception": false,
     "start_time": "2021-12-06T20:08:47.250208",
     "status": "completed"
    },
    "tags": []
   },
   "outputs": [
    {
     "name": "stdout",
     "output_type": "stream",
     "text": [
      "2\n"
     ]
    },
    {
     "data": {
      "text/plain": [
       "<matplotlib.image.AxesImage at 0x7fa5a1f7e470>"
      ]
     },
     "execution_count": 9,
     "metadata": {},
     "output_type": "execute_result"
    },
    {
     "data": {
      "image/png": "[encoded data removed]",
      "text/plain": [
       "<Figure size 432x288 with 1 Axes>"
      ]
     },
     "metadata": {
      "needs_background": "light"
     },
     "output_type": "display_data"
    }
   ],
   "source": [
    "image_index = 7776 # You may select anything up to 60,000\n",
    "print(train_labels[image_index]) \n",
    "plt.imshow(train_images[image_index], cmap='Greys')"
   ]
  },
  {
   "cell_type": "markdown",
   "id": "a8d2388d",
   "metadata": {
    "papermill": {
     "duration": 0.026615,
     "end_time": "2021-12-06T20:08:47.477759",
     "exception": false,
     "start_time": "2021-12-06T20:08:47.451144",
     "status": "completed"
    },
    "tags": []
   },
   "source": [
    "## Filter data to get 3 and 8 out"
   ]
  },
  {
   "cell_type": "code",
   "execution_count": 10,
   "id": "776f7fc7",
   "metadata": {
    "execution": {
     "iopub.execute_input": "2021-12-06T20:08:47.535478Z",
     "iopub.status.busy": "2021-12-06T20:08:47.534922Z",
     "iopub.status.idle": "2021-12-06T20:08:47.551456Z",
     "shell.execute_reply": "2021-12-06T20:08:47.551018Z"
    },
    "papermill": {
     "duration": 0.047346,
     "end_time": "2021-12-06T20:08:47.551604",
     "exception": false,
     "start_time": "2021-12-06T20:08:47.504258",
     "status": "completed"
    },
    "tags": []
   },
   "outputs": [],
   "source": [
    "train_filter = np.where((train_labels == 3 ) | (train_labels == 8))\n",
    "test_filter = np.where((test_labels == 3) | (test_labels == 8))\n",
    "X_train, y_train = train_images[train_filter], train_labels[train_filter]\n",
    "X_test, y_test = test_images[test_filter], test_labels[test_filter]"
   ]
  },
  {
   "cell_type": "markdown",
   "id": "948f0b7e",
   "metadata": {
    "papermill": {
     "duration": 0.026559,
     "end_time": "2021-12-06T20:08:47.604933",
     "exception": false,
     "start_time": "2021-12-06T20:08:47.578374",
     "status": "completed"
    },
    "tags": []
   },
   "source": [
    "We normalize the pizel values in the 0 to 1 range"
   ]
  },
  {
   "cell_type": "code",
   "execution_count": 11,
   "id": "ee4c2166",
   "metadata": {
    "execution": {
     "iopub.execute_input": "2021-12-06T20:08:47.662164Z",
     "iopub.status.busy": "2021-12-06T20:08:47.661624Z",
     "iopub.status.idle": "2021-12-06T20:08:47.711883Z",
     "shell.execute_reply": "2021-12-06T20:08:47.711358Z"
    },
    "papermill": {
     "duration": 0.080535,
     "end_time": "2021-12-06T20:08:47.712027",
     "exception": false,
     "start_time": "2021-12-06T20:08:47.631492",
     "status": "completed"
    },
    "tags": []
   },
   "outputs": [],
   "source": [
    "X_train = X_train/255.\n",
    "X_test = X_test/255."
   ]
  },
  {
   "cell_type": "markdown",
   "id": "ddcf4fab",
   "metadata": {
    "papermill": {
     "duration": 0.026714,
     "end_time": "2021-12-06T20:08:47.766445",
     "exception": false,
     "start_time": "2021-12-06T20:08:47.739731",
     "status": "completed"
    },
    "tags": []
   },
   "source": [
    "And setup the labels as 1 (when the digit is 3) and 0 (when the digit is 8)"
   ]
  },
  {
   "cell_type": "code",
   "execution_count": 12,
   "id": "7dc908f2",
   "metadata": {
    "execution": {
     "iopub.execute_input": "2021-12-06T20:08:47.823946Z",
     "iopub.status.busy": "2021-12-06T20:08:47.823370Z",
     "iopub.status.idle": "2021-12-06T20:08:47.834803Z",
     "shell.execute_reply": "2021-12-06T20:08:47.835247Z"
    },
    "papermill": {
     "duration": 0.042228,
     "end_time": "2021-12-06T20:08:47.835385",
     "exception": false,
     "start_time": "2021-12-06T20:08:47.793157",
     "status": "completed"
    },
    "tags": []
   },
   "outputs": [],
   "source": [
    "y_train = 1*(y_train==3)\n",
    "y_test = 1*(y_test==3)"
   ]
  },
  {
   "cell_type": "code",
   "execution_count": 13,
   "id": "01e4e969",
   "metadata": {
    "execution": {
     "iopub.execute_input": "2021-12-06T20:08:47.895297Z",
     "iopub.status.busy": "2021-12-06T20:08:47.894763Z",
     "iopub.status.idle": "2021-12-06T20:08:47.906614Z",
     "shell.execute_reply": "2021-12-06T20:08:47.906192Z"
    },
    "papermill": {
     "duration": 0.044659,
     "end_time": "2021-12-06T20:08:47.906737",
     "exception": false,
     "start_time": "2021-12-06T20:08:47.862078",
     "status": "completed"
    },
    "tags": []
   },
   "outputs": [
    {
     "data": {
      "text/plain": [
       "((11982, 28, 28), (1984, 28, 28))"
      ]
     },
     "execution_count": 13,
     "metadata": {},
     "output_type": "execute_result"
    }
   ],
   "source": [
    "X_train.shape, X_test.shape"
   ]
  },
  {
   "cell_type": "markdown",
   "id": "5ccf3f85",
   "metadata": {
    "papermill": {
     "duration": 0.026942,
     "end_time": "2021-12-06T20:08:47.960765",
     "exception": false,
     "start_time": "2021-12-06T20:08:47.933823",
     "status": "completed"
    },
    "tags": []
   },
   "source": [
    "We reshape the data to flatten the image pixels into a set of features or co-variates:"
   ]
  },
  {
   "cell_type": "code",
   "execution_count": 14,
   "id": "5286a4a3",
   "metadata": {
    "execution": {
     "iopub.execute_input": "2021-12-06T20:08:48.018727Z",
     "iopub.status.busy": "2021-12-06T20:08:48.018187Z",
     "iopub.status.idle": "2021-12-06T20:08:48.032293Z",
     "shell.execute_reply": "2021-12-06T20:08:48.031862Z"
    },
    "papermill": {
     "duration": 0.044706,
     "end_time": "2021-12-06T20:08:48.032419",
     "exception": false,
     "start_time": "2021-12-06T20:08:47.987713",
     "status": "completed"
    },
    "tags": []
   },
   "outputs": [
    {
     "data": {
      "text/plain": [
       "((11982, 784), (1984, 784))"
      ]
     },
     "execution_count": 14,
     "metadata": {},
     "output_type": "execute_result"
    }
   ],
   "source": [
    "X_train = X_train.reshape(X_train.shape[0], -1)\n",
    "X_test = X_test.reshape(X_test.shape[0], -1)\n",
    "X_train.shape, X_test.shape"
   ]
  },
  {
   "cell_type": "code",
   "execution_count": 15,
   "id": "73c5f88a",
   "metadata": {
    "execution": {
     "iopub.execute_input": "2021-12-06T20:08:48.091727Z",
     "iopub.status.busy": "2021-12-06T20:08:48.091151Z",
     "iopub.status.idle": "2021-12-06T20:08:48.111481Z",
     "shell.execute_reply": "2021-12-06T20:08:48.110957Z"
    },
    "papermill": {
     "duration": 0.05187,
     "end_time": "2021-12-06T20:08:48.111654",
     "exception": false,
     "start_time": "2021-12-06T20:08:48.059784",
     "status": "completed"
    },
    "tags": []
   },
   "outputs": [],
   "source": [
    "#Impoting functions from 'Kudzu'\n",
    "from kudzu.model import Model\n",
    "from kudzu.train import Learner\n",
    "from kudzu.optim import GD\n",
    "from kudzu.data import Data, Sampler,Dataloader\n",
    "\n",
    "from kudzu.callbacks import AccCallback\n",
    "from kudzu.callbacks import ClfCallback\n",
    "\n",
    "from kudzu.loss import MSE\n",
    "\n",
    "from kudzu.layer import Sigmoid,Relu\n",
    "from kudzu.layer import Affine"
   ]
  },
  {
   "cell_type": "markdown",
   "id": "bc01172a",
   "metadata": {
    "papermill": {
     "duration": 0.027238,
     "end_time": "2021-12-06T20:08:48.167034",
     "exception": false,
     "start_time": "2021-12-06T20:08:48.139796",
     "status": "completed"
    },
    "tags": []
   },
   "source": [
    "### Let us create a `Config` class, to store important parameters. \n",
    "This class essentially plays the role of a dictionary."
   ]
  },
  {
   "cell_type": "code",
   "execution_count": 16,
   "id": "978281aa",
   "metadata": {
    "execution": {
     "iopub.execute_input": "2021-12-06T20:08:48.237441Z",
     "iopub.status.busy": "2021-12-06T20:08:48.230625Z",
     "iopub.status.idle": "2021-12-06T20:08:48.239391Z",
     "shell.execute_reply": "2021-12-06T20:08:48.239833Z"
    },
    "papermill": {
     "duration": 0.04592,
     "end_time": "2021-12-06T20:08:48.239984",
     "exception": false,
     "start_time": "2021-12-06T20:08:48.194064",
     "status": "completed"
    },
    "tags": []
   },
   "outputs": [],
   "source": [
    "class Config:\n",
    "    pass\n",
    "config = Config()\n",
    "config.lr = 0.001\n",
    "config.num_epochs = 250\n",
    "config.bs = 50"
   ]
  },
  {
   "cell_type": "markdown",
   "id": "1385fa59",
   "metadata": {
    "papermill": {
     "duration": 0.027036,
     "end_time": "2021-12-06T20:08:48.294370",
     "exception": false,
     "start_time": "2021-12-06T20:08:48.267334",
     "status": "completed"
    },
    "tags": []
   },
   "source": [
    "### Running Models with the Training data\n",
    "Details about the network layers:\n",
    "- A first affine layer has 784 inputs and does 100 affine transforms. These are followed by a Relu\n",
    "- A second affine layer has 100 inputs from the 100 activations of the past layer, and does 100 affine transforms. These are followed by a Relu\n",
    "- A third affine layer has 100 activations and does 2 affine transformations to create an embedding for visualization. There is no non-linearity here.\n",
    "- A final \"logistic regression\" which has an affine transform from 2 inputs to 1 output, which is squeezed through a sigmoid.\n"
   ]
  },
  {
   "cell_type": "code",
   "execution_count": 17,
   "id": "2b9c66db",
   "metadata": {
    "execution": {
     "iopub.execute_input": "2021-12-06T20:08:48.356507Z",
     "iopub.status.busy": "2021-12-06T20:08:48.352654Z",
     "iopub.status.idle": "2021-12-06T20:08:48.365316Z",
     "shell.execute_reply": "2021-12-06T20:08:48.364862Z"
    },
    "papermill": {
     "duration": 0.044016,
     "end_time": "2021-12-06T20:08:48.365444",
     "exception": false,
     "start_time": "2021-12-06T20:08:48.321428",
     "status": "completed"
    },
    "tags": []
   },
   "outputs": [],
   "source": [
    "data = Data(X_train, y_train.reshape(-1,1))\n",
    "sampler = Sampler(data, config.bs, shuffle=True)\n",
    "\n",
    "dl = Dataloader(data, sampler)\n",
    "\n",
    "opt = GD(config.lr)\n",
    "loss = MSE()"
   ]
  },
  {
   "cell_type": "code",
   "execution_count": 18,
   "id": "b275e4c2",
   "metadata": {
    "execution": {
     "iopub.execute_input": "2021-12-06T20:08:48.424272Z",
     "iopub.status.busy": "2021-12-06T20:08:48.423708Z",
     "iopub.status.idle": "2021-12-06T20:08:48.438587Z",
     "shell.execute_reply": "2021-12-06T20:08:48.438146Z"
    },
    "papermill": {
     "duration": 0.045871,
     "end_time": "2021-12-06T20:08:48.438711",
     "exception": false,
     "start_time": "2021-12-06T20:08:48.392840",
     "status": "completed"
    },
    "tags": []
   },
   "outputs": [],
   "source": [
    "training_data_x = X_train\n",
    "testing_data_x = X_test\n",
    "training_data_y = y_train.reshape(-1,1)\n",
    "testing_data_y = y_test.reshape(-1,1)"
   ]
  },
  {
   "cell_type": "code",
   "execution_count": 19,
   "id": "76951160",
   "metadata": {
    "execution": {
     "iopub.execute_input": "2021-12-06T20:08:48.498339Z",
     "iopub.status.busy": "2021-12-06T20:08:48.497772Z",
     "iopub.status.idle": "2021-12-06T20:08:48.514914Z",
     "shell.execute_reply": "2021-12-06T20:08:48.515338Z"
    },
    "papermill": {
     "duration": 0.049536,
     "end_time": "2021-12-06T20:08:48.515485",
     "exception": false,
     "start_time": "2021-12-06T20:08:48.465949",
     "status": "completed"
    },
    "tags": []
   },
   "outputs": [
    {
     "name": "stdout",
     "output_type": "stream",
     "text": [
      "xavier\n",
      "xavier\n",
      "xavier\n",
      "xavier\n",
      "xavier\n"
     ]
    }
   ],
   "source": [
    "layers = [Affine(\"first\", 784, 100), Relu(\"first\"), Affine(\"second\", 100, 100), Relu(\"second\"), Affine(\"third\", 100, 2), Affine(\"last\", 2, 1), Sigmoid(\"last\")]\n",
    "model_nn = Model(layers)\n",
    "model_lr = Model([Affine(\"logits\", 784, 1), Sigmoid(\"sigmoid\")])"
   ]
  },
  {
   "cell_type": "code",
   "execution_count": 20,
   "id": "6eede77a",
   "metadata": {
    "execution": {
     "iopub.execute_input": "2021-12-06T20:08:48.576620Z",
     "iopub.status.busy": "2021-12-06T20:08:48.576053Z",
     "iopub.status.idle": "2021-12-06T20:08:48.588384Z",
     "shell.execute_reply": "2021-12-06T20:08:48.587926Z"
    },
    "papermill": {
     "duration": 0.045402,
     "end_time": "2021-12-06T20:08:48.588516",
     "exception": false,
     "start_time": "2021-12-06T20:08:48.543114",
     "status": "completed"
    },
    "tags": []
   },
   "outputs": [],
   "source": [
    "nn_learner = Learner(loss, model_nn, opt, config.num_epochs)\n",
    "acc_nn = ClfCallback(nn_learner, config.bs, training_data_x , testing_data_x, training_data_y, testing_data_y)\n",
    "nn_learner.set_callbacks([acc_nn])"
   ]
  },
  {
   "cell_type": "code",
   "execution_count": 21,
   "id": "877b6cc7",
   "metadata": {
    "execution": {
     "iopub.execute_input": "2021-12-06T20:08:48.648108Z",
     "iopub.status.busy": "2021-12-06T20:08:48.647558Z",
     "iopub.status.idle": "2021-12-06T20:08:48.660151Z",
     "shell.execute_reply": "2021-12-06T20:08:48.660584Z"
    },
    "papermill": {
     "duration": 0.044557,
     "end_time": "2021-12-06T20:08:48.660732",
     "exception": false,
     "start_time": "2021-12-06T20:08:48.616175",
     "status": "completed"
    },
    "tags": []
   },
   "outputs": [],
   "source": [
    "lr_learner = Learner(loss, model_lr, opt, config.num_epochs)\n",
    "acc_lr = ClfCallback(lr_learner, config.bs, training_data_x , testing_data_x, training_data_y, testing_data_y)\n",
    "lr_learner.set_callbacks([acc_lr])"
   ]
  },
  {
   "cell_type": "code",
   "execution_count": 22,
   "id": "d9b133c3",
   "metadata": {
    "execution": {
     "iopub.execute_input": "2021-12-06T20:08:48.720886Z",
     "iopub.status.busy": "2021-12-06T20:08:48.720363Z",
     "iopub.status.idle": "2021-12-06T20:10:09.421748Z",
     "shell.execute_reply": "2021-12-06T20:10:09.422550Z"
    },
    "papermill": {
     "duration": 80.734336,
     "end_time": "2021-12-06T20:10:09.422706",
     "exception": false,
     "start_time": "2021-12-06T20:08:48.688370",
     "status": "completed"
    },
    "tags": []
   },
   "outputs": [
    {
     "name": "stdout",
     "output_type": "stream",
     "text": [
      "Epoch 0, Loss 0.237\n",
      "Training Accuracy: 0.7522, Testing Accuracy: 0.7686\n",
      "\n"
     ]
    },
    {
     "name": "stdout",
     "output_type": "stream",
     "text": [
      "Epoch 10, Loss 0.0694\n",
      "Training Accuracy: 0.9324, Testing Accuracy: 0.9400\n",
      "\n"
     ]
    },
    {
     "name": "stdout",
     "output_type": "stream",
     "text": [
      "Epoch 20, Loss 0.046\n",
      "Training Accuracy: 0.9514, Testing Accuracy: 0.9577\n",
      "\n"
     ]
    },
    {
     "name": "stdout",
     "output_type": "stream",
     "text": [
      "Epoch 30, Loss 0.0375\n",
      "Training Accuracy: 0.9588, Testing Accuracy: 0.9667\n",
      "\n"
     ]
    },
    {
     "name": "stdout",
     "output_type": "stream",
     "text": [
      "Epoch 40, Loss 0.033\n",
      "Training Accuracy: 0.9624, Testing Accuracy: 0.9693\n",
      "\n"
     ]
    },
    {
     "name": "stdout",
     "output_type": "stream",
     "text": [
      "Epoch 50, Loss 0.0302\n",
      "Training Accuracy: 0.9652, Testing Accuracy: 0.9713\n",
      "\n"
     ]
    },
    {
     "name": "stdout",
     "output_type": "stream",
     "text": [
      "Epoch 60, Loss 0.0282\n",
      "Training Accuracy: 0.9680, Testing Accuracy: 0.9728\n",
      "\n"
     ]
    },
    {
     "name": "stdout",
     "output_type": "stream",
     "text": [
      "Epoch 70, Loss 0.0267\n",
      "Training Accuracy: 0.9695, Testing Accuracy: 0.9738\n",
      "\n"
     ]
    },
    {
     "name": "stdout",
     "output_type": "stream",
     "text": [
      "Epoch 80, Loss 0.0255\n",
      "Training Accuracy: 0.9711, Testing Accuracy: 0.9743\n",
      "\n"
     ]
    },
    {
     "name": "stdout",
     "output_type": "stream",
     "text": [
      "Epoch 90, Loss 0.0245\n",
      "Training Accuracy: 0.9724, Testing Accuracy: 0.9753\n",
      "\n"
     ]
    },
    {
     "name": "stdout",
     "output_type": "stream",
     "text": [
      "Epoch 100, Loss 0.0237\n",
      "Training Accuracy: 0.9736, Testing Accuracy: 0.9763\n",
      "\n"
     ]
    },
    {
     "name": "stdout",
     "output_type": "stream",
     "text": [
      "Epoch 110, Loss 0.0229\n",
      "Training Accuracy: 0.9741, Testing Accuracy: 0.9763\n",
      "\n"
     ]
    },
    {
     "name": "stdout",
     "output_type": "stream",
     "text": [
      "Epoch 120, Loss 0.0222\n",
      "Training Accuracy: 0.9752, Testing Accuracy: 0.9768\n",
      "\n"
     ]
    },
    {
     "name": "stdout",
     "output_type": "stream",
     "text": [
      "Epoch 130, Loss 0.0216\n",
      "Training Accuracy: 0.9759, Testing Accuracy: 0.9773\n",
      "\n"
     ]
    },
    {
     "name": "stdout",
     "output_type": "stream",
     "text": [
      "Epoch 140, Loss 0.0211\n",
      "Training Accuracy: 0.9765, Testing Accuracy: 0.9768\n",
      "\n"
     ]
    },
    {
     "name": "stdout",
     "output_type": "stream",
     "text": [
      "Epoch 150, Loss 0.0205\n",
      "Training Accuracy: 0.9773, Testing Accuracy: 0.9768\n",
      "\n"
     ]
    },
    {
     "name": "stdout",
     "output_type": "stream",
     "text": [
      "Epoch 160, Loss 0.02\n",
      "Training Accuracy: 0.9777, Testing Accuracy: 0.9773\n",
      "\n"
     ]
    },
    {
     "name": "stdout",
     "output_type": "stream",
     "text": [
      "Epoch 170, Loss 0.0196\n",
      "Training Accuracy: 0.9783, Testing Accuracy: 0.9773\n",
      "\n"
     ]
    },
    {
     "name": "stdout",
     "output_type": "stream",
     "text": [
      "Epoch 180, Loss 0.0191\n",
      "Training Accuracy: 0.9789, Testing Accuracy: 0.9783\n",
      "\n"
     ]
    },
    {
     "name": "stdout",
     "output_type": "stream",
     "text": [
      "Epoch 190, Loss 0.0187\n",
      "Training Accuracy: 0.9794, Testing Accuracy: 0.9778\n",
      "\n"
     ]
    },
    {
     "name": "stdout",
     "output_type": "stream",
     "text": [
      "Epoch 200, Loss 0.0183\n",
      "Training Accuracy: 0.9797, Testing Accuracy: 0.9783\n",
      "\n"
     ]
    },
    {
     "name": "stdout",
     "output_type": "stream",
     "text": [
      "Epoch 210, Loss 0.0178\n",
      "Training Accuracy: 0.9800, Testing Accuracy: 0.9778\n",
      "\n"
     ]
    },
    {
     "name": "stdout",
     "output_type": "stream",
     "text": [
      "Epoch 220, Loss 0.0175\n",
      "Training Accuracy: 0.9807, Testing Accuracy: 0.9778\n",
      "\n"
     ]
    },
    {
     "name": "stdout",
     "output_type": "stream",
     "text": [
      "Epoch 230, Loss 0.0171\n",
      "Training Accuracy: 0.9807, Testing Accuracy: 0.9778\n",
      "\n"
     ]
    },
    {
     "name": "stdout",
     "output_type": "stream",
     "text": [
      "Epoch 240, Loss 0.0167\n",
      "Training Accuracy: 0.9814, Testing Accuracy: 0.9778\n",
      "\n"
     ]
    },
    {
     "data": {
      "text/plain": [
       "0.012482111969914732"
      ]
     },
     "execution_count": 22,
     "metadata": {},
     "output_type": "execute_result"
    }
   ],
   "source": [
    "nn_learner.train_loop(dl)"
   ]
  },
  {
   "cell_type": "code",
   "execution_count": 23,
   "id": "e0163366",
   "metadata": {
    "execution": {
     "iopub.execute_input": "2021-12-06T20:10:09.500286Z",
     "iopub.status.busy": "2021-12-06T20:10:09.499754Z",
     "iopub.status.idle": "2021-12-06T20:10:23.588054Z",
     "shell.execute_reply": "2021-12-06T20:10:23.588789Z"
    },
    "papermill": {
     "duration": 14.131468,
     "end_time": "2021-12-06T20:10:23.588943",
     "exception": false,
     "start_time": "2021-12-06T20:10:09.457475",
     "status": "completed"
    },
    "tags": []
   },
   "outputs": [
    {
     "name": "stdout",
     "output_type": "stream",
     "text": [
      "Epoch 0, Loss 0.246\n",
      "Training Accuracy: 0.6446, Testing Accuracy: 0.6280\n",
      "\n"
     ]
    },
    {
     "name": "stdout",
     "output_type": "stream",
     "text": [
      "Epoch 10, Loss 0.1023\n",
      "Training Accuracy: 0.9154, Testing Accuracy: 0.9244\n",
      "\n"
     ]
    },
    {
     "name": "stdout",
     "output_type": "stream",
     "text": [
      "Epoch 20, Loss 0.0779\n",
      "Training Accuracy: 0.9318, Testing Accuracy: 0.9415\n",
      "\n"
     ]
    },
    {
     "name": "stdout",
     "output_type": "stream",
     "text": [
      "Epoch 30, Loss 0.0671\n",
      "Training Accuracy: 0.9386, Testing Accuracy: 0.9491\n",
      "\n"
     ]
    },
    {
     "name": "stdout",
     "output_type": "stream",
     "text": [
      "Epoch 40, Loss 0.0607\n",
      "Training Accuracy: 0.9427, Testing Accuracy: 0.9516\n",
      "\n"
     ]
    },
    {
     "name": "stdout",
     "output_type": "stream",
     "text": [
      "Epoch 50, Loss 0.0564\n",
      "Training Accuracy: 0.9459, Testing Accuracy: 0.9536\n",
      "\n"
     ]
    },
    {
     "name": "stdout",
     "output_type": "stream",
     "text": [
      "Epoch 60, Loss 0.0532\n",
      "Training Accuracy: 0.9481, Testing Accuracy: 0.9556\n",
      "\n"
     ]
    },
    {
     "name": "stdout",
     "output_type": "stream",
     "text": [
      "Epoch 70, Loss 0.0508\n",
      "Training Accuracy: 0.9497, Testing Accuracy: 0.9592\n",
      "\n"
     ]
    },
    {
     "name": "stdout",
     "output_type": "stream",
     "text": [
      "Epoch 80, Loss 0.0488\n",
      "Training Accuracy: 0.9508, Testing Accuracy: 0.9612\n",
      "\n"
     ]
    },
    {
     "name": "stdout",
     "output_type": "stream",
     "text": [
      "Epoch 90, Loss 0.0472\n",
      "Training Accuracy: 0.9526, Testing Accuracy: 0.9617\n",
      "\n"
     ]
    },
    {
     "name": "stdout",
     "output_type": "stream",
     "text": [
      "Epoch 100, Loss 0.0458\n",
      "Training Accuracy: 0.9535, Testing Accuracy: 0.9622\n",
      "\n"
     ]
    },
    {
     "name": "stdout",
     "output_type": "stream",
     "text": [
      "Epoch 110, Loss 0.0446\n",
      "Training Accuracy: 0.9545, Testing Accuracy: 0.9627\n",
      "\n"
     ]
    },
    {
     "name": "stdout",
     "output_type": "stream",
     "text": [
      "Epoch 120, Loss 0.0436\n",
      "Training Accuracy: 0.9550, Testing Accuracy: 0.9627\n",
      "\n"
     ]
    },
    {
     "name": "stdout",
     "output_type": "stream",
     "text": [
      "Epoch 130, Loss 0.0427\n",
      "Training Accuracy: 0.9557, Testing Accuracy: 0.9637\n",
      "\n"
     ]
    },
    {
     "name": "stdout",
     "output_type": "stream",
     "text": [
      "Epoch 140, Loss 0.0419\n",
      "Training Accuracy: 0.9559, Testing Accuracy: 0.9647\n",
      "\n"
     ]
    },
    {
     "name": "stdout",
     "output_type": "stream",
     "text": [
      "Epoch 150, Loss 0.0412\n",
      "Training Accuracy: 0.9564, Testing Accuracy: 0.9647\n",
      "\n"
     ]
    },
    {
     "name": "stdout",
     "output_type": "stream",
     "text": [
      "Epoch 160, Loss 0.0405\n",
      "Training Accuracy: 0.9572, Testing Accuracy: 0.9647\n",
      "\n"
     ]
    },
    {
     "name": "stdout",
     "output_type": "stream",
     "text": [
      "Epoch 170, Loss 0.0399\n",
      "Training Accuracy: 0.9577, Testing Accuracy: 0.9657\n",
      "\n"
     ]
    },
    {
     "name": "stdout",
     "output_type": "stream",
     "text": [
      "Epoch 180, Loss 0.0394\n",
      "Training Accuracy: 0.9583, Testing Accuracy: 0.9657\n",
      "\n"
     ]
    },
    {
     "name": "stdout",
     "output_type": "stream",
     "text": [
      "Epoch 190, Loss 0.0389\n",
      "Training Accuracy: 0.9585, Testing Accuracy: 0.9662\n",
      "\n"
     ]
    },
    {
     "name": "stdout",
     "output_type": "stream",
     "text": [
      "Epoch 200, Loss 0.0384\n",
      "Training Accuracy: 0.9593, Testing Accuracy: 0.9672\n",
      "\n"
     ]
    },
    {
     "name": "stdout",
     "output_type": "stream",
     "text": [
      "Epoch 210, Loss 0.038\n",
      "Training Accuracy: 0.9594, Testing Accuracy: 0.9677\n",
      "\n"
     ]
    },
    {
     "name": "stdout",
     "output_type": "stream",
     "text": [
      "Epoch 220, Loss 0.0376\n",
      "Training Accuracy: 0.9597, Testing Accuracy: 0.9677\n",
      "\n"
     ]
    },
    {
     "name": "stdout",
     "output_type": "stream",
     "text": [
      "Epoch 230, Loss 0.0372\n",
      "Training Accuracy: 0.9600, Testing Accuracy: 0.9677\n",
      "\n"
     ]
    },
    {
     "name": "stdout",
     "output_type": "stream",
     "text": [
      "Epoch 240, Loss 0.0368\n",
      "Training Accuracy: 0.9604, Testing Accuracy: 0.9682\n",
      "\n"
     ]
    },
    {
     "data": {
      "text/plain": [
       "0.04147112191258651"
      ]
     },
     "execution_count": 23,
     "metadata": {},
     "output_type": "execute_result"
    }
   ],
   "source": [
    "lr_learner.train_loop(dl)"
   ]
  },
  {
   "cell_type": "code",
   "execution_count": 24,
   "id": "ca410940",
   "metadata": {
    "execution": {
     "iopub.execute_input": "2021-12-06T20:10:23.680853Z",
     "iopub.status.busy": "2021-12-06T20:10:23.680320Z",
     "iopub.status.idle": "2021-12-06T20:10:23.910112Z",
     "shell.execute_reply": "2021-12-06T20:10:23.910532Z"
    },
    "papermill": {
     "duration": 0.279992,
     "end_time": "2021-12-06T20:10:23.910688",
     "exception": false,
     "start_time": "2021-12-06T20:10:23.630696",
     "status": "completed"
    },
    "tags": []
   },
   "outputs": [
    {
     "data": {
      "text/plain": [
       "<matplotlib.legend.Legend at 0x7fa5947eacc0>"
      ]
     },
     "execution_count": 24,
     "metadata": {},
     "output_type": "execute_result"
    },
    {
     "data": {
      "image/png": "[encoded data removed]",
      "text/plain": [
       "<Figure size 1080x720 with 1 Axes>"
      ]
     },
     "metadata": {
      "needs_background": "light"
     },
     "output_type": "display_data"
    }
   ],
   "source": [
    "#comparing the results of NN and LR\n",
    "plt.figure(figsize=(15,10))\n",
    "\n",
    "# Neural Network plots\n",
    "plt.plot(acc_nn.accuracies, 'r-', label = \"Training Accuracies - NN\")\n",
    "plt.plot(acc_nn.test_accuracies, 'g-', label = \"Testing Accuracies - NN\")\n",
    "\n",
    "# Logistic Regression plots\n",
    "plt.plot(acc_lr.accuracies, 'k-', label = \"Training Accuracies - LR\")\n",
    "plt.plot(acc_lr.test_accuracies, 'b-', label = \"Testing Accuracies - LR\")\n",
    "plt.legend()"
   ]
  },
  {
   "cell_type": "markdown",
   "id": "80dfb35c",
   "metadata": {
    "papermill": {
     "duration": 0.044625,
     "end_time": "2021-12-06T20:10:23.997609",
     "exception": false,
     "start_time": "2021-12-06T20:10:23.952984",
     "status": "completed"
    },
    "tags": []
   },
   "source": [
    "#### Plotting the outputs of this layer of the NN.\n"
   ]
  },
  {
   "cell_type": "code",
   "execution_count": 25,
   "id": "45eb2ff5",
   "metadata": {
    "execution": {
     "iopub.execute_input": "2021-12-06T20:10:24.086621Z",
     "iopub.status.busy": "2021-12-06T20:10:24.086064Z",
     "iopub.status.idle": "2021-12-06T20:10:24.106338Z",
     "shell.execute_reply": "2021-12-06T20:10:24.106743Z"
    },
    "papermill": {
     "duration": 0.067434,
     "end_time": "2021-12-06T20:10:24.106898",
     "exception": false,
     "start_time": "2021-12-06T20:10:24.039464",
     "status": "completed"
    },
    "tags": []
   },
   "outputs": [],
   "source": [
    "new_model = Model(layers[:-2])\n",
    "testing_plot = new_model(testing_data_x)"
   ]
  },
  {
   "cell_type": "code",
   "execution_count": 26,
   "id": "4c0a5485",
   "metadata": {
    "execution": {
     "iopub.execute_input": "2021-12-06T20:10:24.198807Z",
     "iopub.status.busy": "2021-12-06T20:10:24.196658Z",
     "iopub.status.idle": "2021-12-06T20:10:24.402671Z",
     "shell.execute_reply": "2021-12-06T20:10:24.401851Z"
    },
    "papermill": {
     "duration": 0.253339,
     "end_time": "2021-12-06T20:10:24.402806",
     "exception": false,
     "start_time": "2021-12-06T20:10:24.149467",
     "status": "completed"
    },
    "tags": []
   },
   "outputs": [
    {
     "data": {
      "text/plain": [
       "Text(0.5, 1.0, 'Outputs')"
      ]
     },
     "execution_count": 26,
     "metadata": {},
     "output_type": "execute_result"
    },
    {
     "data": {
      "image/png": "[encoded data removed]",
      "text/plain": [
       "<Figure size 576x504 with 1 Axes>"
      ]
     },
     "metadata": {
      "needs_background": "light"
     },
     "output_type": "display_data"
    }
   ],
   "source": [
    "# Plotting the scatter plot of points and color coding by class\n",
    "plt.figure(figsize=(8,7))\n",
    "plt.scatter(testing_plot[:,0], testing_plot[:,1], alpha = 0.1, c = y_test.ravel());\n",
    "plt.title('Outputs')"
   ]
  },
  {
   "cell_type": "markdown",
   "id": "a74fcf8f",
   "metadata": {
    "papermill": {
     "duration": 0.044249,
     "end_time": "2021-12-06T20:10:24.492871",
     "exception": false,
     "start_time": "2021-12-06T20:10:24.448622",
     "status": "completed"
    },
    "tags": []
   },
   "source": [
    "Probability contours"
   ]
  },
  {
   "cell_type": "code",
   "execution_count": 27,
   "id": "d0afc8e3",
   "metadata": {
    "execution": {
     "iopub.execute_input": "2021-12-06T20:10:24.585926Z",
     "iopub.status.busy": "2021-12-06T20:10:24.585315Z",
     "iopub.status.idle": "2021-12-06T20:10:24.596808Z",
     "shell.execute_reply": "2021-12-06T20:10:24.597207Z"
    },
    "papermill": {
     "duration": 0.060185,
     "end_time": "2021-12-06T20:10:24.597354",
     "exception": false,
     "start_time": "2021-12-06T20:10:24.537169",
     "status": "completed"
    },
    "tags": []
   },
   "outputs": [],
   "source": [
    "model_prob = Model(layers[-2:]) "
   ]
  },
  {
   "cell_type": "code",
   "execution_count": 28,
   "id": "9b96e238",
   "metadata": {
    "execution": {
     "iopub.execute_input": "2021-12-06T20:10:24.700381Z",
     "iopub.status.busy": "2021-12-06T20:10:24.694713Z",
     "iopub.status.idle": "2021-12-06T20:10:24.707221Z",
     "shell.execute_reply": "2021-12-06T20:10:24.707629Z"
    },
    "papermill": {
     "duration": 0.065858,
     "end_time": "2021-12-06T20:10:24.707774",
     "exception": false,
     "start_time": "2021-12-06T20:10:24.641916",
     "status": "completed"
    },
    "tags": []
   },
   "outputs": [],
   "source": [
    "#creating the x and y ranges according to the above generated plot.\n",
    "x_range = np.linspace(-4, 1, 100) \n",
    "y_range = np.linspace(-6, 6, 100) \n",
    "x_grid, y_grid = np.meshgrid(x_range, y_range) # x_grid and y_grig are of size 100 X 100\n",
    "\n",
    "# converting x_grid and y_grid to continuous arrays\n",
    "x_gridflat = np.ravel(x_grid)\n",
    "y_gridflat = np.ravel(y_grid)\n",
    "\n",
    "# The last layer of the current model takes two columns as input. Hence transpose of np.vstack() is required.\n",
    "X = np.vstack((x_gridflat, y_gridflat)).T\n",
    "\n",
    "prob_contour = model_prob(X).reshape(100,100) "
   ]
  },
  {
   "cell_type": "code",
   "execution_count": 29,
   "id": "da72499a",
   "metadata": {
    "execution": {
     "iopub.execute_input": "2021-12-06T20:10:24.832154Z",
     "iopub.status.busy": "2021-12-06T20:10:24.831634Z",
     "iopub.status.idle": "2021-12-06T20:10:25.090153Z",
     "shell.execute_reply": "2021-12-06T20:10:25.089641Z"
    },
    "papermill": {
     "duration": 0.337879,
     "end_time": "2021-12-06T20:10:25.090299",
     "exception": false,
     "start_time": "2021-12-06T20:10:24.752420",
     "status": "completed"
    },
    "tags": []
   },
   "outputs": [
    {
     "data": {
      "image/png": "[encoded data removed]",
      "text/plain": [
       "<Figure size 720x648 with 1 Axes>"
      ]
     },
     "metadata": {
      "needs_background": "light"
     },
     "output_type": "display_data"
    }
   ],
   "source": [
    "plt.figure(figsize=(10,9))\n",
    "plt.scatter(testing_plot[:,0], testing_plot[:,1], alpha = 0.1, c = y_test.ravel())\n",
    "contours = plt.contour(x_grid,y_grid,prob_contour)\n",
    "plt.title('Probability Contours')\n",
    "plt.clabel(contours, inline = True );"
   ]
  },
  {
   "cell_type": "code",
   "execution_count": null,
   "id": "e81b4ac7",
   "metadata": {
    "papermill": {
     "duration": 0.046599,
     "end_time": "2021-12-06T20:10:25.184477",
     "exception": false,
     "start_time": "2021-12-06T20:10:25.137878",
     "status": "completed"
    },
    "tags": []
   },
   "outputs": [],
   "source": []
  }
 ],
 "metadata": {
  "kernelspec": {
   "display_name": "Python 3",
   "language": "python",
   "name": "python3"
  },
  "language_info": {
   "codemirror_mode": {
    "name": "ipython",
    "version": 3
   },
   "file_extension": ".py",
   "mimetype": "text/x-python",
   "name": "python",
   "nbconvert_exporter": "python",
   "pygments_lexer": "ipython3",
   "version": "3.6.15"
  },
  "papermill": {
   "default_parameters": {},
   "duration": 102.933116,
   "end_time": "2021-12-06T20:10:25.640148",
   "environment_variables": {},
   "exception": null,
   "input_path": "2020-08-11-part2.ipynb",
   "output_path": "2020-08-11-part2.ipynb",
   "parameters": {},
   "start_time": "2021-12-06T20:08:42.707032",
   "version": "2.3.3"
  }
 },
 "nbformat": 4,
 "nbformat_minor": 5
}