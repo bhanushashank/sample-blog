{
 "cells": [
  {
   "cell_type": "markdown",
   "id": "98380cd3",
   "metadata": {
    "papermill": {
     "duration": 0.025857,
     "end_time": "2022-06-13T10:15:04.513199",
     "exception": false,
     "start_time": "2022-06-13T10:15:04.487342",
     "status": "completed"
    },
    "tags": []
   },
   "source": [
    "# Distinguish Your Own Digits (DYOD)"
   ]
  },
  {
   "cell_type": "markdown",
   "id": "ef31240d",
   "metadata": {
    "papermill": {
     "duration": 0.0208,
     "end_time": "2022-06-13T10:15:04.555498",
     "exception": false,
     "start_time": "2022-06-13T10:15:04.534698",
     "status": "completed"
    },
    "tags": []
   },
   "source": [
    "You are going to write a classifier that distinguishes between the number 3 and number 8."
   ]
  },
  {
   "cell_type": "code",
   "execution_count": 1,
   "id": "b15c8646",
   "metadata": {
    "execution": {
     "iopub.execute_input": "2022-06-13T10:15:04.608109Z",
     "iopub.status.busy": "2022-06-13T10:15:04.607578Z",
     "iopub.status.idle": "2022-06-13T10:15:04.617611Z",
     "shell.execute_reply": "2022-06-13T10:15:04.618030Z"
    },
    "papermill": {
     "duration": 0.041853,
     "end_time": "2022-06-13T10:15:04.618161",
     "exception": false,
     "start_time": "2022-06-13T10:15:04.576308",
     "status": "completed"
    },
    "tags": []
   },
   "outputs": [],
   "source": [
    "%load_ext autoreload\n",
    "%autoreload 2"
   ]
  },
  {
   "cell_type": "code",
   "execution_count": 2,
   "id": "22ef38dc",
   "metadata": {
    "execution": {
     "iopub.execute_input": "2022-06-13T10:15:04.673065Z",
     "iopub.status.busy": "2022-06-13T10:15:04.672487Z",
     "iopub.status.idle": "2022-06-13T10:15:05.128477Z",
     "shell.execute_reply": "2022-06-13T10:15:05.127567Z"
    },
    "papermill": {
     "duration": 0.489596,
     "end_time": "2022-06-13T10:15:05.128605",
     "exception": false,
     "start_time": "2022-06-13T10:15:04.639009",
     "status": "completed"
    },
    "tags": []
   },
   "outputs": [],
   "source": [
    "%matplotlib inline\n",
    "import numpy as np\n",
    "import matplotlib.pyplot as plt\n",
    "import pandas as pd"
   ]
  },
  {
   "cell_type": "markdown",
   "id": "ba036198",
   "metadata": {
    "papermill": {
     "duration": 0.021025,
     "end_time": "2022-06-13T10:15:05.170647",
     "exception": false,
     "start_time": "2022-06-13T10:15:05.149622",
     "status": "completed"
    },
    "tags": []
   },
   "source": [
    "From the command line run `pip install mnist`. This is a library that will help you bring down the mnist dataset. If you run this from a notebook, you need to put  `!pip install mnist` in a cell by itself."
   ]
  },
  {
   "cell_type": "code",
   "execution_count": 3,
   "id": "bb6ad8a1",
   "metadata": {
    "execution": {
     "iopub.execute_input": "2022-06-13T10:15:05.216560Z",
     "iopub.status.busy": "2022-06-13T10:15:05.215898Z",
     "iopub.status.idle": "2022-06-13T10:15:06.728903Z",
     "shell.execute_reply": "2022-06-13T10:15:06.728101Z"
    },
    "papermill": {
     "duration": 1.537406,
     "end_time": "2022-06-13T10:15:06.729026",
     "exception": false,
     "start_time": "2022-06-13T10:15:05.191620",
     "status": "completed"
    },
    "tags": []
   },
   "outputs": [
    {
     "name": "stdout",
     "output_type": "stream",
     "text": [
      "Collecting mnist\r\n"
     ]
    },
    {
     "name": "stdout",
     "output_type": "stream",
     "text": [
      "  Downloading mnist-0.2.2-py2.py3-none-any.whl (3.5 kB)\r\n",
      "Requirement already satisfied: numpy in /opt/hostedtoolcache/Python/3.6.15/x64/lib/python3.6/site-packages (from mnist) (1.19.5)\r\n"
     ]
    },
    {
     "name": "stdout",
     "output_type": "stream",
     "text": [
      "Installing collected packages: mnist\r\n",
      "Successfully installed mnist-0.2.2\r\n"
     ]
    }
   ],
   "source": [
    "!pip install mnist"
   ]
  },
  {
   "cell_type": "markdown",
   "id": "69df9c9a",
   "metadata": {
    "papermill": {
     "duration": 0.021525,
     "end_time": "2022-06-13T10:15:06.772528",
     "exception": false,
     "start_time": "2022-06-13T10:15:06.751003",
     "status": "completed"
    },
    "tags": []
   },
   "source": [
    "## Preparing the Data"
   ]
  },
  {
   "cell_type": "code",
   "execution_count": 4,
   "id": "7f69d806",
   "metadata": {
    "execution": {
     "iopub.execute_input": "2022-06-13T10:15:06.819006Z",
     "iopub.status.busy": "2022-06-13T10:15:06.818459Z",
     "iopub.status.idle": "2022-06-13T10:15:06.834053Z",
     "shell.execute_reply": "2022-06-13T10:15:06.833634Z"
    },
    "papermill": {
     "duration": 0.040259,
     "end_time": "2022-06-13T10:15:06.834148",
     "exception": false,
     "start_time": "2022-06-13T10:15:06.793889",
     "status": "completed"
    },
    "tags": []
   },
   "outputs": [],
   "source": [
    "import mnist"
   ]
  },
  {
   "cell_type": "code",
   "execution_count": 5,
   "id": "a411e44f",
   "metadata": {
    "execution": {
     "iopub.execute_input": "2022-06-13T10:15:06.880611Z",
     "iopub.status.busy": "2022-06-13T10:15:06.880108Z",
     "iopub.status.idle": "2022-06-13T10:15:07.375518Z",
     "shell.execute_reply": "2022-06-13T10:15:07.374927Z"
    },
    "papermill": {
     "duration": 0.519576,
     "end_time": "2022-06-13T10:15:07.375658",
     "exception": false,
     "start_time": "2022-06-13T10:15:06.856082",
     "status": "completed"
    },
    "tags": []
   },
   "outputs": [],
   "source": [
    "train_images = mnist.train_images()\n",
    "train_labels = mnist.train_labels()"
   ]
  },
  {
   "cell_type": "code",
   "execution_count": 6,
   "id": "dceab3a5",
   "metadata": {
    "execution": {
     "iopub.execute_input": "2022-06-13T10:15:07.422312Z",
     "iopub.status.busy": "2022-06-13T10:15:07.421804Z",
     "iopub.status.idle": "2022-06-13T10:15:07.436906Z",
     "shell.execute_reply": "2022-06-13T10:15:07.436494Z"
    },
    "papermill": {
     "duration": 0.039445,
     "end_time": "2022-06-13T10:15:07.436997",
     "exception": false,
     "start_time": "2022-06-13T10:15:07.397552",
     "status": "completed"
    },
    "tags": []
   },
   "outputs": [
    {
     "data": {
      "text/plain": [
       "((60000, 28, 28), (60000,))"
      ]
     },
     "execution_count": 6,
     "metadata": {},
     "output_type": "execute_result"
    }
   ],
   "source": [
    "train_images.shape, train_labels.shape"
   ]
  },
  {
   "cell_type": "code",
   "execution_count": 7,
   "id": "f50dc2bb",
   "metadata": {
    "execution": {
     "iopub.execute_input": "2022-06-13T10:15:07.488173Z",
     "iopub.status.busy": "2022-06-13T10:15:07.487523Z",
     "iopub.status.idle": "2022-06-13T10:15:07.630976Z",
     "shell.execute_reply": "2022-06-13T10:15:07.630418Z"
    },
    "papermill": {
     "duration": 0.172417,
     "end_time": "2022-06-13T10:15:07.631101",
     "exception": false,
     "start_time": "2022-06-13T10:15:07.458684",
     "status": "completed"
    },
    "tags": []
   },
   "outputs": [],
   "source": [
    "test_images = mnist.test_images()\n",
    "test_labels = mnist.test_labels()"
   ]
  },
  {
   "cell_type": "code",
   "execution_count": 8,
   "id": "fc38cf1b",
   "metadata": {
    "execution": {
     "iopub.execute_input": "2022-06-13T10:15:07.684733Z",
     "iopub.status.busy": "2022-06-13T10:15:07.684158Z",
     "iopub.status.idle": "2022-06-13T10:15:07.697809Z",
     "shell.execute_reply": "2022-06-13T10:15:07.697343Z"
    },
    "papermill": {
     "duration": 0.041791,
     "end_time": "2022-06-13T10:15:07.697915",
     "exception": false,
     "start_time": "2022-06-13T10:15:07.656124",
     "status": "completed"
    },
    "tags": []
   },
   "outputs": [
    {
     "data": {
      "text/plain": [
       "((10000, 28, 28), (10000,))"
      ]
     },
     "execution_count": 8,
     "metadata": {},
     "output_type": "execute_result"
    }
   ],
   "source": [
    "test_images.shape, test_labels.shape"
   ]
  },
  {
   "cell_type": "code",
   "execution_count": 9,
   "id": "f9ed8fe0",
   "metadata": {
    "execution": {
     "iopub.execute_input": "2022-06-13T10:15:07.751645Z",
     "iopub.status.busy": "2022-06-13T10:15:07.751077Z",
     "iopub.status.idle": "2022-06-13T10:15:07.873961Z",
     "shell.execute_reply": "2022-06-13T10:15:07.874400Z"
    },
    "papermill": {
     "duration": 0.151698,
     "end_time": "2022-06-13T10:15:07.874531",
     "exception": false,
     "start_time": "2022-06-13T10:15:07.722833",
     "status": "completed"
    },
    "tags": []
   },
   "outputs": [
    {
     "name": "stdout",
     "output_type": "stream",
     "text": [
      "2\n"
     ]
    },
    {
     "data": {
      "text/plain": [
       "<matplotlib.image.AxesImage at 0x7f4a82fc0358>"
      ]
     },
     "execution_count": 9,
     "metadata": {},
     "output_type": "execute_result"
    },
    {
     "data": {
      "image/png": "[encoded data removed]",
      "text/plain": [
       "<Figure size 432x288 with 1 Axes>"
      ]
     },
     "metadata": {
      "needs_background": "light"
     },
     "output_type": "display_data"
    }
   ],
   "source": [
    "image_index = 7776 # You may select anything up to 60,000\n",
    "print(train_labels[image_index]) \n",
    "plt.imshow(train_images[image_index], cmap='Greys')"
   ]
  },
  {
   "cell_type": "markdown",
   "id": "a8d2388d",
   "metadata": {
    "papermill": {
     "duration": 0.02623,
     "end_time": "2022-06-13T10:15:07.926907",
     "exception": false,
     "start_time": "2022-06-13T10:15:07.900677",
     "status": "completed"
    },
    "tags": []
   },
   "source": [
    "## Filter data to get 3 and 8 out"
   ]
  },
  {
   "cell_type": "code",
   "execution_count": 10,
   "id": "776f7fc7",
   "metadata": {
    "execution": {
     "iopub.execute_input": "2022-06-13T10:15:07.990943Z",
     "iopub.status.busy": "2022-06-13T10:15:07.990334Z",
     "iopub.status.idle": "2022-06-13T10:15:08.002133Z",
     "shell.execute_reply": "2022-06-13T10:15:08.001664Z"
    },
    "papermill": {
     "duration": 0.049419,
     "end_time": "2022-06-13T10:15:08.002237",
     "exception": false,
     "start_time": "2022-06-13T10:15:07.952818",
     "status": "completed"
    },
    "tags": []
   },
   "outputs": [],
   "source": [
    "train_filter = np.where((train_labels == 3 ) | (train_labels == 8))\n",
    "test_filter = np.where((test_labels == 3) | (test_labels == 8))\n",
    "X_train, y_train = train_images[train_filter], train_labels[train_filter]\n",
    "X_test, y_test = test_images[test_filter], test_labels[test_filter]"
   ]
  },
  {
   "cell_type": "markdown",
   "id": "948f0b7e",
   "metadata": {
    "papermill": {
     "duration": 0.025774,
     "end_time": "2022-06-13T10:15:08.054028",
     "exception": false,
     "start_time": "2022-06-13T10:15:08.028254",
     "status": "completed"
    },
    "tags": []
   },
   "source": [
    "We normalize the pizel values in the 0 to 1 range"
   ]
  },
  {
   "cell_type": "code",
   "execution_count": 11,
   "id": "ee4c2166",
   "metadata": {
    "execution": {
     "iopub.execute_input": "2022-06-13T10:15:08.108907Z",
     "iopub.status.busy": "2022-06-13T10:15:08.108342Z",
     "iopub.status.idle": "2022-06-13T10:15:08.153767Z",
     "shell.execute_reply": "2022-06-13T10:15:08.153071Z"
    },
    "papermill": {
     "duration": 0.074092,
     "end_time": "2022-06-13T10:15:08.153899",
     "exception": false,
     "start_time": "2022-06-13T10:15:08.079807",
     "status": "completed"
    },
    "tags": []
   },
   "outputs": [],
   "source": [
    "X_train = X_train/255.\n",
    "X_test = X_test/255."
   ]
  },
  {
   "cell_type": "markdown",
   "id": "ddcf4fab",
   "metadata": {
    "papermill": {
     "duration": 0.026476,
     "end_time": "2022-06-13T10:15:08.207234",
     "exception": false,
     "start_time": "2022-06-13T10:15:08.180758",
     "status": "completed"
    },
    "tags": []
   },
   "source": [
    "And setup the labels as 1 (when the digit is 3) and 0 (when the digit is 8)"
   ]
  },
  {
   "cell_type": "code",
   "execution_count": 12,
   "id": "7dc908f2",
   "metadata": {
    "execution": {
     "iopub.execute_input": "2022-06-13T10:15:08.264405Z",
     "iopub.status.busy": "2022-06-13T10:15:08.263825Z",
     "iopub.status.idle": "2022-06-13T10:15:08.276166Z",
     "shell.execute_reply": "2022-06-13T10:15:08.275691Z"
    },
    "papermill": {
     "duration": 0.042821,
     "end_time": "2022-06-13T10:15:08.276279",
     "exception": false,
     "start_time": "2022-06-13T10:15:08.233458",
     "status": "completed"
    },
    "tags": []
   },
   "outputs": [],
   "source": [
    "y_train = 1*(y_train==3)\n",
    "y_test = 1*(y_test==3)"
   ]
  },
  {
   "cell_type": "code",
   "execution_count": 13,
   "id": "01e4e969",
   "metadata": {
    "execution": {
     "iopub.execute_input": "2022-06-13T10:15:08.338380Z",
     "iopub.status.busy": "2022-06-13T10:15:08.337769Z",
     "iopub.status.idle": "2022-06-13T10:15:08.347147Z",
     "shell.execute_reply": "2022-06-13T10:15:08.346539Z"
    },
    "papermill": {
     "duration": 0.044586,
     "end_time": "2022-06-13T10:15:08.347264",
     "exception": false,
     "start_time": "2022-06-13T10:15:08.302678",
     "status": "completed"
    },
    "tags": []
   },
   "outputs": [
    {
     "data": {
      "text/plain": [
       "((11982, 28, 28), (1984, 28, 28))"
      ]
     },
     "execution_count": 13,
     "metadata": {},
     "output_type": "execute_result"
    }
   ],
   "source": [
    "X_train.shape, X_test.shape"
   ]
  },
  {
   "cell_type": "markdown",
   "id": "5ccf3f85",
   "metadata": {
    "papermill": {
     "duration": 0.026583,
     "end_time": "2022-06-13T10:15:08.400323",
     "exception": false,
     "start_time": "2022-06-13T10:15:08.373740",
     "status": "completed"
    },
    "tags": []
   },
   "source": [
    "We reshape the data to flatten the image pixels into a set of features or co-variates:"
   ]
  },
  {
   "cell_type": "code",
   "execution_count": 14,
   "id": "5286a4a3",
   "metadata": {
    "execution": {
     "iopub.execute_input": "2022-06-13T10:15:08.460999Z",
     "iopub.status.busy": "2022-06-13T10:15:08.457610Z",
     "iopub.status.idle": "2022-06-13T10:15:08.473322Z",
     "shell.execute_reply": "2022-06-13T10:15:08.472815Z"
    },
    "papermill": {
     "duration": 0.046186,
     "end_time": "2022-06-13T10:15:08.473443",
     "exception": false,
     "start_time": "2022-06-13T10:15:08.427257",
     "status": "completed"
    },
    "tags": []
   },
   "outputs": [
    {
     "data": {
      "text/plain": [
       "((11982, 784), (1984, 784))"
      ]
     },
     "execution_count": 14,
     "metadata": {},
     "output_type": "execute_result"
    }
   ],
   "source": [
    "X_train = X_train.reshape(X_train.shape[0], -1)\n",
    "X_test = X_test.reshape(X_test.shape[0], -1)\n",
    "X_train.shape, X_test.shape"
   ]
  },
  {
   "cell_type": "code",
   "execution_count": 15,
   "id": "73c5f88a",
   "metadata": {
    "execution": {
     "iopub.execute_input": "2022-06-13T10:15:08.532168Z",
     "iopub.status.busy": "2022-06-13T10:15:08.531566Z",
     "iopub.status.idle": "2022-06-13T10:15:08.550188Z",
     "shell.execute_reply": "2022-06-13T10:15:08.549696Z"
    },
    "papermill": {
     "duration": 0.049781,
     "end_time": "2022-06-13T10:15:08.550314",
     "exception": false,
     "start_time": "2022-06-13T10:15:08.500533",
     "status": "completed"
    },
    "tags": []
   },
   "outputs": [],
   "source": [
    "#Impoting functions from 'Kudzu'\n",
    "from kudzu.model import Model\n",
    "from kudzu.train import Learner\n",
    "from kudzu.optim import GD\n",
    "from kudzu.data import Data, Sampler,Dataloader\n",
    "\n",
    "from kudzu.callbacks import AccCallback\n",
    "from kudzu.callbacks import ClfCallback\n",
    "\n",
    "from kudzu.loss import MSE\n",
    "\n",
    "from kudzu.layer import Sigmoid,Relu\n",
    "from kudzu.layer import Affine"
   ]
  },
  {
   "cell_type": "markdown",
   "id": "bc01172a",
   "metadata": {
    "papermill": {
     "duration": 0.02679,
     "end_time": "2022-06-13T10:15:08.604131",
     "exception": false,
     "start_time": "2022-06-13T10:15:08.577341",
     "status": "completed"
    },
    "tags": []
   },
   "source": [
    "### Let us create a `Config` class, to store important parameters. \n",
    "This class essentially plays the role of a dictionary."
   ]
  },
  {
   "cell_type": "code",
   "execution_count": 16,
   "id": "978281aa",
   "metadata": {
    "execution": {
     "iopub.execute_input": "2022-06-13T10:15:08.663872Z",
     "iopub.status.busy": "2022-06-13T10:15:08.663274Z",
     "iopub.status.idle": "2022-06-13T10:15:08.674775Z",
     "shell.execute_reply": "2022-06-13T10:15:08.674276Z"
    },
    "papermill": {
     "duration": 0.043963,
     "end_time": "2022-06-13T10:15:08.674893",
     "exception": false,
     "start_time": "2022-06-13T10:15:08.630930",
     "status": "completed"
    },
    "tags": []
   },
   "outputs": [],
   "source": [
    "class Config:\n",
    "    pass\n",
    "config = Config()\n",
    "config.lr = 0.001\n",
    "config.num_epochs = 250\n",
    "config.bs = 50"
   ]
  },
  {
   "cell_type": "markdown",
   "id": "1385fa59",
   "metadata": {
    "papermill": {
     "duration": 0.026644,
     "end_time": "2022-06-13T10:15:08.728452",
     "exception": false,
     "start_time": "2022-06-13T10:15:08.701808",
     "status": "completed"
    },
    "tags": []
   },
   "source": [
    "### Running Models with the Training data\n",
    "Details about the network layers:\n",
    "- A first affine layer has 784 inputs and does 100 affine transforms. These are followed by a Relu\n",
    "- A second affine layer has 100 inputs from the 100 activations of the past layer, and does 100 affine transforms. These are followed by a Relu\n",
    "- A third affine layer has 100 activations and does 2 affine transformations to create an embedding for visualization. There is no non-linearity here.\n",
    "- A final \"logistic regression\" which has an affine transform from 2 inputs to 1 output, which is squeezed through a sigmoid.\n"
   ]
  },
  {
   "cell_type": "code",
   "execution_count": 17,
   "id": "2b9c66db",
   "metadata": {
    "execution": {
     "iopub.execute_input": "2022-06-13T10:15:08.787795Z",
     "iopub.status.busy": "2022-06-13T10:15:08.787210Z",
     "iopub.status.idle": "2022-06-13T10:15:08.799726Z",
     "shell.execute_reply": "2022-06-13T10:15:08.799247Z"
    },
    "papermill": {
     "duration": 0.043227,
     "end_time": "2022-06-13T10:15:08.799840",
     "exception": false,
     "start_time": "2022-06-13T10:15:08.756613",
     "status": "completed"
    },
    "tags": []
   },
   "outputs": [],
   "source": [
    "data = Data(X_train, y_train.reshape(-1,1))\n",
    "sampler = Sampler(data, config.bs, shuffle=True)\n",
    "\n",
    "dl = Dataloader(data, sampler)\n",
    "\n",
    "opt = GD(config.lr)\n",
    "loss = MSE()"
   ]
  },
  {
   "cell_type": "code",
   "execution_count": 18,
   "id": "b275e4c2",
   "metadata": {
    "execution": {
     "iopub.execute_input": "2022-06-13T10:15:08.858342Z",
     "iopub.status.busy": "2022-06-13T10:15:08.857565Z",
     "iopub.status.idle": "2022-06-13T10:15:08.870022Z",
     "shell.execute_reply": "2022-06-13T10:15:08.869540Z"
    },
    "papermill": {
     "duration": 0.043399,
     "end_time": "2022-06-13T10:15:08.870133",
     "exception": false,
     "start_time": "2022-06-13T10:15:08.826734",
     "status": "completed"
    },
    "tags": []
   },
   "outputs": [],
   "source": [
    "training_data_x = X_train\n",
    "testing_data_x = X_test\n",
    "training_data_y = y_train.reshape(-1,1)\n",
    "testing_data_y = y_test.reshape(-1,1)"
   ]
  },
  {
   "cell_type": "code",
   "execution_count": 19,
   "id": "76951160",
   "metadata": {
    "execution": {
     "iopub.execute_input": "2022-06-13T10:15:08.922138Z",
     "iopub.status.busy": "2022-06-13T10:15:08.921609Z",
     "iopub.status.idle": "2022-06-13T10:15:08.937578Z",
     "shell.execute_reply": "2022-06-13T10:15:08.938072Z"
    },
    "papermill": {
     "duration": 0.044176,
     "end_time": "2022-06-13T10:15:08.938195",
     "exception": false,
     "start_time": "2022-06-13T10:15:08.894019",
     "status": "completed"
    },
    "tags": []
   },
   "outputs": [
    {
     "name": "stdout",
     "output_type": "stream",
     "text": [
      "xavier\n",
      "xavier\n",
      "xavier\n",
      "xavier\n",
      "xavier\n"
     ]
    }
   ],
   "source": [
    "layers = [Affine(\"first\", 784, 100), Relu(\"first\"), Affine(\"second\", 100, 100), Relu(\"second\"), Affine(\"third\", 100, 2), Affine(\"last\", 2, 1), Sigmoid(\"last\")]\n",
    "model_nn = Model(layers)\n",
    "model_lr = Model([Affine(\"logits\", 784, 1), Sigmoid(\"sigmoid\")])"
   ]
  },
  {
   "cell_type": "code",
   "execution_count": 20,
   "id": "6eede77a",
   "metadata": {
    "execution": {
     "iopub.execute_input": "2022-06-13T10:15:08.990946Z",
     "iopub.status.busy": "2022-06-13T10:15:08.990340Z",
     "iopub.status.idle": "2022-06-13T10:15:09.003279Z",
     "shell.execute_reply": "2022-06-13T10:15:09.002852Z"
    },
    "papermill": {
     "duration": 0.040827,
     "end_time": "2022-06-13T10:15:09.003391",
     "exception": false,
     "start_time": "2022-06-13T10:15:08.962564",
     "status": "completed"
    },
    "tags": []
   },
   "outputs": [],
   "source": [
    "nn_learner = Learner(loss, model_nn, opt, config.num_epochs)\n",
    "acc_nn = ClfCallback(nn_learner, config.bs, training_data_x , testing_data_x, training_data_y, testing_data_y)\n",
    "nn_learner.set_callbacks([acc_nn])"
   ]
  },
  {
   "cell_type": "code",
   "execution_count": 21,
   "id": "877b6cc7",
   "metadata": {
    "execution": {
     "iopub.execute_input": "2022-06-13T10:15:09.056404Z",
     "iopub.status.busy": "2022-06-13T10:15:09.055869Z",
     "iopub.status.idle": "2022-06-13T10:15:09.067156Z",
     "shell.execute_reply": "2022-06-13T10:15:09.067638Z"
    },
    "papermill": {
     "duration": 0.040368,
     "end_time": "2022-06-13T10:15:09.067763",
     "exception": false,
     "start_time": "2022-06-13T10:15:09.027395",
     "status": "completed"
    },
    "tags": []
   },
   "outputs": [],
   "source": [
    "lr_learner = Learner(loss, model_lr, opt, config.num_epochs)\n",
    "acc_lr = ClfCallback(lr_learner, config.bs, training_data_x , testing_data_x, training_data_y, testing_data_y)\n",
    "lr_learner.set_callbacks([acc_lr])"
   ]
  },
  {
   "cell_type": "code",
   "execution_count": 22,
   "id": "d9b133c3",
   "metadata": {
    "execution": {
     "iopub.execute_input": "2022-06-13T10:15:09.119118Z",
     "iopub.status.busy": "2022-06-13T10:15:09.118565Z",
     "iopub.status.idle": "2022-06-13T10:16:28.400079Z",
     "shell.execute_reply": "2022-06-13T10:16:28.400933Z"
    },
    "papermill": {
     "duration": 79.309397,
     "end_time": "2022-06-13T10:16:28.401080",
     "exception": false,
     "start_time": "2022-06-13T10:15:09.091683",
     "status": "completed"
    },
    "tags": []
   },
   "outputs": [
    {
     "name": "stdout",
     "output_type": "stream",
     "text": [
      "Epoch 0, Loss 0.2379\n",
      "Training Accuracy: 0.7093, Testing Accuracy: 0.7082\n",
      "\n"
     ]
    },
    {
     "name": "stdout",
     "output_type": "stream",
     "text": [
      "Epoch 10, Loss 0.0729\n",
      "Training Accuracy: 0.9289, Testing Accuracy: 0.9476\n",
      "\n"
     ]
    },
    {
     "name": "stdout",
     "output_type": "stream",
     "text": [
      "Epoch 20, Loss 0.0475\n",
      "Training Accuracy: 0.9501, Testing Accuracy: 0.9597\n",
      "\n"
     ]
    },
    {
     "name": "stdout",
     "output_type": "stream",
     "text": [
      "Epoch 30, Loss 0.0387\n",
      "Training Accuracy: 0.9585, Testing Accuracy: 0.9662\n",
      "\n"
     ]
    },
    {
     "name": "stdout",
     "output_type": "stream",
     "text": [
      "Epoch 40, Loss 0.0341\n",
      "Training Accuracy: 0.9631, Testing Accuracy: 0.9693\n",
      "\n"
     ]
    },
    {
     "name": "stdout",
     "output_type": "stream",
     "text": [
      "Epoch 50, Loss 0.0312\n",
      "Training Accuracy: 0.9653, Testing Accuracy: 0.9703\n",
      "\n"
     ]
    },
    {
     "name": "stdout",
     "output_type": "stream",
     "text": [
      "Epoch 60, Loss 0.0291\n",
      "Training Accuracy: 0.9673, Testing Accuracy: 0.9703\n",
      "\n"
     ]
    },
    {
     "name": "stdout",
     "output_type": "stream",
     "text": [
      "Epoch 70, Loss 0.0275\n",
      "Training Accuracy: 0.9686, Testing Accuracy: 0.9703\n",
      "\n"
     ]
    },
    {
     "name": "stdout",
     "output_type": "stream",
     "text": [
      "Epoch 80, Loss 0.0263\n",
      "Training Accuracy: 0.9710, Testing Accuracy: 0.9708\n",
      "\n"
     ]
    },
    {
     "name": "stdout",
     "output_type": "stream",
     "text": [
      "Epoch 90, Loss 0.0252\n",
      "Training Accuracy: 0.9721, Testing Accuracy: 0.9703\n",
      "\n"
     ]
    },
    {
     "name": "stdout",
     "output_type": "stream",
     "text": [
      "Epoch 100, Loss 0.0243\n",
      "Training Accuracy: 0.9731, Testing Accuracy: 0.9713\n",
      "\n"
     ]
    },
    {
     "name": "stdout",
     "output_type": "stream",
     "text": [
      "Epoch 110, Loss 0.0235\n",
      "Training Accuracy: 0.9735, Testing Accuracy: 0.9713\n",
      "\n"
     ]
    },
    {
     "name": "stdout",
     "output_type": "stream",
     "text": [
      "Epoch 120, Loss 0.0228\n",
      "Training Accuracy: 0.9740, Testing Accuracy: 0.9733\n",
      "\n"
     ]
    },
    {
     "name": "stdout",
     "output_type": "stream",
     "text": [
      "Epoch 130, Loss 0.0222\n",
      "Training Accuracy: 0.9745, Testing Accuracy: 0.9733\n",
      "\n"
     ]
    },
    {
     "name": "stdout",
     "output_type": "stream",
     "text": [
      "Epoch 140, Loss 0.0216\n",
      "Training Accuracy: 0.9747, Testing Accuracy: 0.9733\n",
      "\n"
     ]
    },
    {
     "name": "stdout",
     "output_type": "stream",
     "text": [
      "Epoch 150, Loss 0.021\n",
      "Training Accuracy: 0.9757, Testing Accuracy: 0.9738\n",
      "\n"
     ]
    },
    {
     "name": "stdout",
     "output_type": "stream",
     "text": [
      "Epoch 160, Loss 0.0205\n",
      "Training Accuracy: 0.9761, Testing Accuracy: 0.9738\n",
      "\n"
     ]
    },
    {
     "name": "stdout",
     "output_type": "stream",
     "text": [
      "Epoch 170, Loss 0.02\n",
      "Training Accuracy: 0.9765, Testing Accuracy: 0.9738\n",
      "\n"
     ]
    },
    {
     "name": "stdout",
     "output_type": "stream",
     "text": [
      "Epoch 180, Loss 0.0195\n",
      "Training Accuracy: 0.9771, Testing Accuracy: 0.9733\n",
      "\n"
     ]
    },
    {
     "name": "stdout",
     "output_type": "stream",
     "text": [
      "Epoch 190, Loss 0.0191\n",
      "Training Accuracy: 0.9781, Testing Accuracy: 0.9743\n",
      "\n"
     ]
    },
    {
     "name": "stdout",
     "output_type": "stream",
     "text": [
      "Epoch 200, Loss 0.0187\n",
      "Training Accuracy: 0.9789, Testing Accuracy: 0.9748\n",
      "\n"
     ]
    },
    {
     "name": "stdout",
     "output_type": "stream",
     "text": [
      "Epoch 210, Loss 0.0182\n",
      "Training Accuracy: 0.9790, Testing Accuracy: 0.9753\n",
      "\n"
     ]
    },
    {
     "name": "stdout",
     "output_type": "stream",
     "text": [
      "Epoch 220, Loss 0.0179\n",
      "Training Accuracy: 0.9796, Testing Accuracy: 0.9758\n",
      "\n"
     ]
    },
    {
     "name": "stdout",
     "output_type": "stream",
     "text": [
      "Epoch 230, Loss 0.0175\n",
      "Training Accuracy: 0.9801, Testing Accuracy: 0.9758\n",
      "\n"
     ]
    },
    {
     "name": "stdout",
     "output_type": "stream",
     "text": [
      "Epoch 240, Loss 0.0171\n",
      "Training Accuracy: 0.9803, Testing Accuracy: 0.9763\n",
      "\n"
     ]
    },
    {
     "data": {
      "text/plain": [
       "0.002314410894535129"
      ]
     },
     "execution_count": 22,
     "metadata": {},
     "output_type": "execute_result"
    }
   ],
   "source": [
    "nn_learner.train_loop(dl)"
   ]
  },
  {
   "cell_type": "code",
   "execution_count": 23,
   "id": "e0163366",
   "metadata": {
    "execution": {
     "iopub.execute_input": "2022-06-13T10:16:28.481734Z",
     "iopub.status.busy": "2022-06-13T10:16:28.481065Z",
     "iopub.status.idle": "2022-06-13T10:16:41.269630Z",
     "shell.execute_reply": "2022-06-13T10:16:41.270452Z"
    },
    "papermill": {
     "duration": 12.834815,
     "end_time": "2022-06-13T10:16:41.270598",
     "exception": false,
     "start_time": "2022-06-13T10:16:28.435783",
     "status": "completed"
    },
    "tags": []
   },
   "outputs": [
    {
     "name": "stdout",
     "output_type": "stream",
     "text": [
      "Epoch 0, Loss 0.2634\n",
      "Training Accuracy: 0.5994, Testing Accuracy: 0.5842\n",
      "\n"
     ]
    },
    {
     "name": "stdout",
     "output_type": "stream",
     "text": [
      "Epoch 10, Loss 0.1048\n",
      "Training Accuracy: 0.9058, Testing Accuracy: 0.9214\n",
      "\n"
     ]
    },
    {
     "name": "stdout",
     "output_type": "stream",
     "text": [
      "Epoch 20, Loss 0.0803\n",
      "Training Accuracy: 0.9229, Testing Accuracy: 0.9370\n",
      "\n"
     ]
    },
    {
     "name": "stdout",
     "output_type": "stream",
     "text": [
      "Epoch 30, Loss 0.0692\n",
      "Training Accuracy: 0.9338, Testing Accuracy: 0.9476\n",
      "\n"
     ]
    },
    {
     "name": "stdout",
     "output_type": "stream",
     "text": [
      "Epoch 40, Loss 0.0625\n",
      "Training Accuracy: 0.9386, Testing Accuracy: 0.9521\n",
      "\n"
     ]
    },
    {
     "name": "stdout",
     "output_type": "stream",
     "text": [
      "Epoch 50, Loss 0.0579\n",
      "Training Accuracy: 0.9417, Testing Accuracy: 0.9551\n",
      "\n"
     ]
    },
    {
     "name": "stdout",
     "output_type": "stream",
     "text": [
      "Epoch 60, Loss 0.0545\n",
      "Training Accuracy: 0.9442, Testing Accuracy: 0.9577\n",
      "\n"
     ]
    },
    {
     "name": "stdout",
     "output_type": "stream",
     "text": [
      "Epoch 70, Loss 0.0519\n",
      "Training Accuracy: 0.9472, Testing Accuracy: 0.9572\n",
      "\n"
     ]
    },
    {
     "name": "stdout",
     "output_type": "stream",
     "text": [
      "Epoch 80, Loss 0.0498\n",
      "Training Accuracy: 0.9488, Testing Accuracy: 0.9577\n",
      "\n"
     ]
    },
    {
     "name": "stdout",
     "output_type": "stream",
     "text": [
      "Epoch 90, Loss 0.0481\n",
      "Training Accuracy: 0.9497, Testing Accuracy: 0.9577\n",
      "\n"
     ]
    },
    {
     "name": "stdout",
     "output_type": "stream",
     "text": [
      "Epoch 100, Loss 0.0466\n",
      "Training Accuracy: 0.9518, Testing Accuracy: 0.9597\n",
      "\n"
     ]
    },
    {
     "name": "stdout",
     "output_type": "stream",
     "text": [
      "Epoch 110, Loss 0.0453\n",
      "Training Accuracy: 0.9528, Testing Accuracy: 0.9607\n",
      "\n"
     ]
    },
    {
     "name": "stdout",
     "output_type": "stream",
     "text": [
      "Epoch 120, Loss 0.0442\n",
      "Training Accuracy: 0.9543, Testing Accuracy: 0.9622\n",
      "\n"
     ]
    },
    {
     "name": "stdout",
     "output_type": "stream",
     "text": [
      "Epoch 130, Loss 0.0433\n",
      "Training Accuracy: 0.9553, Testing Accuracy: 0.9642\n",
      "\n"
     ]
    },
    {
     "name": "stdout",
     "output_type": "stream",
     "text": [
      "Epoch 140, Loss 0.0424\n",
      "Training Accuracy: 0.9560, Testing Accuracy: 0.9647\n",
      "\n"
     ]
    },
    {
     "name": "stdout",
     "output_type": "stream",
     "text": [
      "Epoch 150, Loss 0.0417\n",
      "Training Accuracy: 0.9565, Testing Accuracy: 0.9657\n",
      "\n"
     ]
    },
    {
     "name": "stdout",
     "output_type": "stream",
     "text": [
      "Epoch 160, Loss 0.041\n",
      "Training Accuracy: 0.9572, Testing Accuracy: 0.9657\n",
      "\n"
     ]
    },
    {
     "name": "stdout",
     "output_type": "stream",
     "text": [
      "Epoch 170, Loss 0.0404\n",
      "Training Accuracy: 0.9576, Testing Accuracy: 0.9667\n",
      "\n"
     ]
    },
    {
     "name": "stdout",
     "output_type": "stream",
     "text": [
      "Epoch 180, Loss 0.0398\n",
      "Training Accuracy: 0.9579, Testing Accuracy: 0.9667\n",
      "\n"
     ]
    },
    {
     "name": "stdout",
     "output_type": "stream",
     "text": [
      "Epoch 190, Loss 0.0392\n",
      "Training Accuracy: 0.9580, Testing Accuracy: 0.9662\n",
      "\n"
     ]
    },
    {
     "name": "stdout",
     "output_type": "stream",
     "text": [
      "Epoch 200, Loss 0.0388\n",
      "Training Accuracy: 0.9585, Testing Accuracy: 0.9672\n",
      "\n"
     ]
    },
    {
     "name": "stdout",
     "output_type": "stream",
     "text": [
      "Epoch 210, Loss 0.0383\n",
      "Training Accuracy: 0.9588, Testing Accuracy: 0.9672\n",
      "\n"
     ]
    },
    {
     "name": "stdout",
     "output_type": "stream",
     "text": [
      "Epoch 220, Loss 0.0379\n",
      "Training Accuracy: 0.9593, Testing Accuracy: 0.9672\n",
      "\n"
     ]
    },
    {
     "name": "stdout",
     "output_type": "stream",
     "text": [
      "Epoch 230, Loss 0.0375\n",
      "Training Accuracy: 0.9595, Testing Accuracy: 0.9677\n",
      "\n"
     ]
    },
    {
     "name": "stdout",
     "output_type": "stream",
     "text": [
      "Epoch 240, Loss 0.0371\n",
      "Training Accuracy: 0.9598, Testing Accuracy: 0.9672\n",
      "\n"
     ]
    },
    {
     "data": {
      "text/plain": [
       "0.02543571164770517"
      ]
     },
     "execution_count": 23,
     "metadata": {},
     "output_type": "execute_result"
    }
   ],
   "source": [
    "lr_learner.train_loop(dl)"
   ]
  },
  {
   "cell_type": "code",
   "execution_count": 24,
   "id": "ca410940",
   "metadata": {
    "execution": {
     "iopub.execute_input": "2022-06-13T10:16:41.364097Z",
     "iopub.status.busy": "2022-06-13T10:16:41.363520Z",
     "iopub.status.idle": "2022-06-13T10:16:41.598999Z",
     "shell.execute_reply": "2022-06-13T10:16:41.599766Z"
    },
    "papermill": {
     "duration": 0.288381,
     "end_time": "2022-06-13T10:16:41.599900",
     "exception": false,
     "start_time": "2022-06-13T10:16:41.311519",
     "status": "completed"
    },
    "tags": []
   },
   "outputs": [
    {
     "data": {
      "text/plain": [
       "<matplotlib.legend.Legend at 0x7f4a82b209b0>"
      ]
     },
     "execution_count": 24,
     "metadata": {},
     "output_type": "execute_result"
    },
    {
     "data": {
      "image/png": "[encoded data removed]",
      "text/plain": [
       "<Figure size 1080x720 with 1 Axes>"
      ]
     },
     "metadata": {
      "needs_background": "light"
     },
     "output_type": "display_data"
    }
   ],
   "source": [
    "#comparing the results of NN and LR\n",
    "plt.figure(figsize=(15,10))\n",
    "\n",
    "# Neural Network plots\n",
    "plt.plot(acc_nn.accuracies, 'r-', label = \"Training Accuracies - NN\")\n",
    "plt.plot(acc_nn.test_accuracies, 'g-', label = \"Testing Accuracies - NN\")\n",
    "\n",
    "# Logistic Regression plots\n",
    "plt.plot(acc_lr.accuracies, 'k-', label = \"Training Accuracies - LR\")\n",
    "plt.plot(acc_lr.test_accuracies, 'b-', label = \"Testing Accuracies - LR\")\n",
    "plt.legend()"
   ]
  },
  {
   "cell_type": "markdown",
   "id": "80dfb35c",
   "metadata": {
    "papermill": {
     "duration": 0.036772,
     "end_time": "2022-06-13T10:16:41.673831",
     "exception": false,
     "start_time": "2022-06-13T10:16:41.637059",
     "status": "completed"
    },
    "tags": []
   },
   "source": [
    "#### Plotting the outputs of this layer of the NN.\n"
   ]
  },
  {
   "cell_type": "code",
   "execution_count": 25,
   "id": "45eb2ff5",
   "metadata": {
    "execution": {
     "iopub.execute_input": "2022-06-13T10:16:41.752090Z",
     "iopub.status.busy": "2022-06-13T10:16:41.751546Z",
     "iopub.status.idle": "2022-06-13T10:16:41.770665Z",
     "shell.execute_reply": "2022-06-13T10:16:41.770228Z"
    },
    "papermill": {
     "duration": 0.060433,
     "end_time": "2022-06-13T10:16:41.770784",
     "exception": false,
     "start_time": "2022-06-13T10:16:41.710351",
     "status": "completed"
    },
    "tags": []
   },
   "outputs": [],
   "source": [
    "new_model = Model(layers[:-2])\n",
    "testing_plot = new_model(testing_data_x)"
   ]
  },
  {
   "cell_type": "code",
   "execution_count": 26,
   "id": "4c0a5485",
   "metadata": {
    "execution": {
     "iopub.execute_input": "2022-06-13T10:16:41.853870Z",
     "iopub.status.busy": "2022-06-13T10:16:41.852184Z",
     "iopub.status.idle": "2022-06-13T10:16:42.046108Z",
     "shell.execute_reply": "2022-06-13T10:16:42.045602Z"
    },
    "papermill": {
     "duration": 0.238467,
     "end_time": "2022-06-13T10:16:42.046232",
     "exception": false,
     "start_time": "2022-06-13T10:16:41.807765",
     "status": "completed"
    },
    "tags": []
   },
   "outputs": [
    {
     "data": {
      "text/plain": [
       "Text(0.5, 1.0, 'Outputs')"
      ]
     },
     "execution_count": 26,
     "metadata": {},
     "output_type": "execute_result"
    },
    {
     "data": {
      "image/png": "[encoded data removed]",
      "text/plain": [
       "<Figure size 576x504 with 1 Axes>"
      ]
     },
     "metadata": {
      "needs_background": "light"
     },
     "output_type": "display_data"
    }
   ],
   "source": [
    "# Plotting the scatter plot of points and color coding by class\n",
    "plt.figure(figsize=(8,7))\n",
    "plt.scatter(testing_plot[:,0], testing_plot[:,1], alpha = 0.1, c = y_test.ravel());\n",
    "plt.title('Outputs')"
   ]
  },
  {
   "cell_type": "markdown",
   "id": "a74fcf8f",
   "metadata": {
    "papermill": {
     "duration": 0.044464,
     "end_time": "2022-06-13T10:16:42.135330",
     "exception": false,
     "start_time": "2022-06-13T10:16:42.090866",
     "status": "completed"
    },
    "tags": []
   },
   "source": [
    "Probability contours"
   ]
  },
  {
   "cell_type": "code",
   "execution_count": 27,
   "id": "d0afc8e3",
   "metadata": {
    "execution": {
     "iopub.execute_input": "2022-06-13T10:16:42.230257Z",
     "iopub.status.busy": "2022-06-13T10:16:42.229680Z",
     "iopub.status.idle": "2022-06-13T10:16:42.244047Z",
     "shell.execute_reply": "2022-06-13T10:16:42.244490Z"
    },
    "papermill": {
     "duration": 0.064696,
     "end_time": "2022-06-13T10:16:42.244611",
     "exception": false,
     "start_time": "2022-06-13T10:16:42.179915",
     "status": "completed"
    },
    "tags": []
   },
   "outputs": [],
   "source": [
    "model_prob = Model(layers[-2:]) "
   ]
  },
  {
   "cell_type": "code",
   "execution_count": 28,
   "id": "9b96e238",
   "metadata": {
    "execution": {
     "iopub.execute_input": "2022-06-13T10:16:42.347424Z",
     "iopub.status.busy": "2022-06-13T10:16:42.346668Z",
     "iopub.status.idle": "2022-06-13T10:16:42.356049Z",
     "shell.execute_reply": "2022-06-13T10:16:42.356413Z"
    },
    "papermill": {
     "duration": 0.067534,
     "end_time": "2022-06-13T10:16:42.356522",
     "exception": false,
     "start_time": "2022-06-13T10:16:42.288988",
     "status": "completed"
    },
    "tags": []
   },
   "outputs": [],
   "source": [
    "#creating the x and y ranges according to the above generated plot.\n",
    "x_range = np.linspace(-4, 1, 100) \n",
    "y_range = np.linspace(-6, 6, 100) \n",
    "x_grid, y_grid = np.meshgrid(x_range, y_range) # x_grid and y_grig are of size 100 X 100\n",
    "\n",
    "# converting x_grid and y_grid to continuous arrays\n",
    "x_gridflat = np.ravel(x_grid)\n",
    "y_gridflat = np.ravel(y_grid)\n",
    "\n",
    "# The last layer of the current model takes two columns as input. Hence transpose of np.vstack() is required.\n",
    "X = np.vstack((x_gridflat, y_gridflat)).T\n",
    "\n",
    "prob_contour = model_prob(X).reshape(100,100) "
   ]
  },
  {
   "cell_type": "code",
   "execution_count": 29,
   "id": "da72499a",
   "metadata": {
    "execution": {
     "iopub.execute_input": "2022-06-13T10:16:42.473710Z",
     "iopub.status.busy": "2022-06-13T10:16:42.473105Z",
     "iopub.status.idle": "2022-06-13T10:16:42.694308Z",
     "shell.execute_reply": "2022-06-13T10:16:42.693825Z"
    },
    "papermill": {
     "duration": 0.274113,
     "end_time": "2022-06-13T10:16:42.694426",
     "exception": false,
     "start_time": "2022-06-13T10:16:42.420313",
     "status": "completed"
    },
    "tags": []
   },
   "outputs": [
    {
     "data": {
      "image/png": "[encoded data removed]",
      "text/plain": [
       "<Figure size 720x648 with 1 Axes>"
      ]
     },
     "metadata": {
      "needs_background": "light"
     },
     "output_type": "display_data"
    }
   ],
   "source": [
    "plt.figure(figsize=(10,9))\n",
    "plt.scatter(testing_plot[:,0], testing_plot[:,1], alpha = 0.1, c = y_test.ravel())\n",
    "contours = plt.contour(x_grid,y_grid,prob_contour)\n",
    "plt.title('Probability Contours')\n",
    "plt.clabel(contours, inline = True );"
   ]
  },
  {
   "cell_type": "code",
   "execution_count": null,
   "id": "e81b4ac7",
   "metadata": {
    "papermill": {
     "duration": 0.047186,
     "end_time": "2022-06-13T10:16:42.793480",
     "exception": false,
     "start_time": "2022-06-13T10:16:42.746294",
     "status": "completed"
    },
    "tags": []
   },
   "outputs": [],
   "source": []
  }
 ],
 "metadata": {
  "kernelspec": {
   "display_name": "Python 3",
   "language": "python",
   "name": "python3"
  },
  "language_info": {
   "codemirror_mode": {
    "name": "ipython",
    "version": 3
   },
   "file_extension": ".py",
   "mimetype": "text/x-python",
   "name": "python",
   "nbconvert_exporter": "python",
   "pygments_lexer": "ipython3",
   "version": "3.6.15"
  },
  "papermill": {
   "default_parameters": {},
   "duration": 99.6708,
   "end_time": "2022-06-13T10:16:43.264363",
   "environment_variables": {},
   "exception": null,
   "input_path": "2020-08-11-part2.ipynb",
   "output_path": "2020-08-11-part2.ipynb",
   "parameters": {},
   "start_time": "2022-06-13T10:15:03.593563",
   "version": "2.3.3"
  }
 },
 "nbformat": 4,
 "nbformat_minor": 5
}