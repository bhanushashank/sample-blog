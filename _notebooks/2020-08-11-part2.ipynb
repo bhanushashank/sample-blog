{
 "cells": [
  {
   "cell_type": "markdown",
   "id": "98380cd3",
   "metadata": {
    "papermill": {
     "duration": 0.028599,
     "end_time": "2021-09-15T20:08:03.656257",
     "exception": false,
     "start_time": "2021-09-15T20:08:03.627658",
     "status": "completed"
    },
    "tags": []
   },
   "source": [
    "# Distinguish Your Own Digits (DYOD)"
   ]
  },
  {
   "cell_type": "markdown",
   "id": "ef31240d",
   "metadata": {
    "papermill": {
     "duration": 0.024115,
     "end_time": "2021-09-15T20:08:03.705329",
     "exception": false,
     "start_time": "2021-09-15T20:08:03.681214",
     "status": "completed"
    },
    "tags": []
   },
   "source": [
    "You are going to write a classifier that distinguishes between the number 3 and number 8."
   ]
  },
  {
   "cell_type": "code",
   "execution_count": 1,
   "id": "b15c8646",
   "metadata": {
    "execution": {
     "iopub.execute_input": "2021-09-15T20:08:03.763149Z",
     "iopub.status.busy": "2021-09-15T20:08:03.762602Z",
     "iopub.status.idle": "2021-09-15T20:08:03.772141Z",
     "shell.execute_reply": "2021-09-15T20:08:03.771689Z"
    },
    "papermill": {
     "duration": 0.042734,
     "end_time": "2021-09-15T20:08:03.772271",
     "exception": false,
     "start_time": "2021-09-15T20:08:03.729537",
     "status": "completed"
    },
    "tags": []
   },
   "outputs": [],
   "source": [
    "%load_ext autoreload\n",
    "%autoreload 2"
   ]
  },
  {
   "cell_type": "code",
   "execution_count": 2,
   "id": "22ef38dc",
   "metadata": {
    "execution": {
     "iopub.execute_input": "2021-09-15T20:08:03.829390Z",
     "iopub.status.busy": "2021-09-15T20:08:03.828850Z",
     "iopub.status.idle": "2021-09-15T20:08:04.308000Z",
     "shell.execute_reply": "2021-09-15T20:08:04.308622Z"
    },
    "papermill": {
     "duration": 0.512364,
     "end_time": "2021-09-15T20:08:04.308814",
     "exception": false,
     "start_time": "2021-09-15T20:08:03.796450",
     "status": "completed"
    },
    "tags": []
   },
   "outputs": [],
   "source": [
    "%matplotlib inline\n",
    "import numpy as np\n",
    "import matplotlib.pyplot as plt\n",
    "import pandas as pd"
   ]
  },
  {
   "cell_type": "markdown",
   "id": "ba036198",
   "metadata": {
    "papermill": {
     "duration": 0.025194,
     "end_time": "2021-09-15T20:08:04.358217",
     "exception": false,
     "start_time": "2021-09-15T20:08:04.333023",
     "status": "completed"
    },
    "tags": []
   },
   "source": [
    "From the command line run `pip install mnist`. This is a library that will help you bring down the mnist dataset. If you run this from a notebook, you need to put  `!pip install mnist` in a cell by itself."
   ]
  },
  {
   "cell_type": "code",
   "execution_count": 3,
   "id": "bb6ad8a1",
   "metadata": {
    "execution": {
     "iopub.execute_input": "2021-09-15T20:08:04.411664Z",
     "iopub.status.busy": "2021-09-15T20:08:04.411134Z",
     "iopub.status.idle": "2021-09-15T20:08:06.013217Z",
     "shell.execute_reply": "2021-09-15T20:08:06.013711Z"
    },
    "papermill": {
     "duration": 1.631437,
     "end_time": "2021-09-15T20:08:06.013876",
     "exception": false,
     "start_time": "2021-09-15T20:08:04.382439",
     "status": "completed"
    },
    "tags": []
   },
   "outputs": [
    {
     "name": "stdout",
     "output_type": "stream",
     "text": [
      "Collecting mnist\r\n"
     ]
    },
    {
     "name": "stdout",
     "output_type": "stream",
     "text": [
      "  Downloading mnist-0.2.2-py2.py3-none-any.whl (3.5 kB)\r\n",
      "Requirement already satisfied: numpy in /opt/hostedtoolcache/Python/3.6.14/x64/lib/python3.6/site-packages (from mnist) (1.19.5)\r\n"
     ]
    },
    {
     "name": "stdout",
     "output_type": "stream",
     "text": [
      "Installing collected packages: mnist\r\n"
     ]
    },
    {
     "name": "stdout",
     "output_type": "stream",
     "text": [
      "Successfully installed mnist-0.2.2\r\n"
     ]
    }
   ],
   "source": [
    "!pip install mnist"
   ]
  },
  {
   "cell_type": "markdown",
   "id": "69df9c9a",
   "metadata": {
    "papermill": {
     "duration": 0.022567,
     "end_time": "2021-09-15T20:08:06.059057",
     "exception": false,
     "start_time": "2021-09-15T20:08:06.036490",
     "status": "completed"
    },
    "tags": []
   },
   "source": [
    "## Preparing the Data"
   ]
  },
  {
   "cell_type": "code",
   "execution_count": 4,
   "id": "7f69d806",
   "metadata": {
    "execution": {
     "iopub.execute_input": "2021-09-15T20:08:06.122752Z",
     "iopub.status.busy": "2021-09-15T20:08:06.107494Z",
     "iopub.status.idle": "2021-09-15T20:08:06.126727Z",
     "shell.execute_reply": "2021-09-15T20:08:06.126343Z"
    },
    "papermill": {
     "duration": 0.045443,
     "end_time": "2021-09-15T20:08:06.126840",
     "exception": false,
     "start_time": "2021-09-15T20:08:06.081397",
     "status": "completed"
    },
    "tags": []
   },
   "outputs": [],
   "source": [
    "import mnist"
   ]
  },
  {
   "cell_type": "code",
   "execution_count": 5,
   "id": "a411e44f",
   "metadata": {
    "execution": {
     "iopub.execute_input": "2021-09-15T20:08:06.178477Z",
     "iopub.status.busy": "2021-09-15T20:08:06.177984Z",
     "iopub.status.idle": "2021-09-15T20:08:06.646824Z",
     "shell.execute_reply": "2021-09-15T20:08:06.646378Z"
    },
    "papermill": {
     "duration": 0.497425,
     "end_time": "2021-09-15T20:08:06.646947",
     "exception": false,
     "start_time": "2021-09-15T20:08:06.149522",
     "status": "completed"
    },
    "tags": []
   },
   "outputs": [],
   "source": [
    "train_images = mnist.train_images()\n",
    "train_labels = mnist.train_labels()"
   ]
  },
  {
   "cell_type": "code",
   "execution_count": 6,
   "id": "dceab3a5",
   "metadata": {
    "execution": {
     "iopub.execute_input": "2021-09-15T20:08:06.696638Z",
     "iopub.status.busy": "2021-09-15T20:08:06.696115Z",
     "iopub.status.idle": "2021-09-15T20:08:06.709942Z",
     "shell.execute_reply": "2021-09-15T20:08:06.709567Z"
    },
    "papermill": {
     "duration": 0.040303,
     "end_time": "2021-09-15T20:08:06.710053",
     "exception": false,
     "start_time": "2021-09-15T20:08:06.669750",
     "status": "completed"
    },
    "tags": []
   },
   "outputs": [
    {
     "data": {
      "text/plain": [
       "((60000, 28, 28), (60000,))"
      ]
     },
     "execution_count": 6,
     "metadata": {},
     "output_type": "execute_result"
    }
   ],
   "source": [
    "train_images.shape, train_labels.shape"
   ]
  },
  {
   "cell_type": "code",
   "execution_count": 7,
   "id": "f50dc2bb",
   "metadata": {
    "execution": {
     "iopub.execute_input": "2021-09-15T20:08:06.759917Z",
     "iopub.status.busy": "2021-09-15T20:08:06.759440Z",
     "iopub.status.idle": "2021-09-15T20:08:06.880360Z",
     "shell.execute_reply": "2021-09-15T20:08:06.880881Z"
    },
    "papermill": {
     "duration": 0.148298,
     "end_time": "2021-09-15T20:08:06.881055",
     "exception": false,
     "start_time": "2021-09-15T20:08:06.732757",
     "status": "completed"
    },
    "tags": []
   },
   "outputs": [],
   "source": [
    "test_images = mnist.test_images()\n",
    "test_labels = mnist.test_labels()"
   ]
  },
  {
   "cell_type": "code",
   "execution_count": 8,
   "id": "fc38cf1b",
   "metadata": {
    "execution": {
     "iopub.execute_input": "2021-09-15T20:08:06.933522Z",
     "iopub.status.busy": "2021-09-15T20:08:06.933048Z",
     "iopub.status.idle": "2021-09-15T20:08:06.943949Z",
     "shell.execute_reply": "2021-09-15T20:08:06.943549Z"
    },
    "papermill": {
     "duration": 0.040005,
     "end_time": "2021-09-15T20:08:06.944055",
     "exception": false,
     "start_time": "2021-09-15T20:08:06.904050",
     "status": "completed"
    },
    "tags": []
   },
   "outputs": [
    {
     "data": {
      "text/plain": [
       "((10000, 28, 28), (10000,))"
      ]
     },
     "execution_count": 8,
     "metadata": {},
     "output_type": "execute_result"
    }
   ],
   "source": [
    "test_images.shape, test_labels.shape"
   ]
  },
  {
   "cell_type": "code",
   "execution_count": 9,
   "id": "f9ed8fe0",
   "metadata": {
    "execution": {
     "iopub.execute_input": "2021-09-15T20:08:06.997377Z",
     "iopub.status.busy": "2021-09-15T20:08:06.996855Z",
     "iopub.status.idle": "2021-09-15T20:08:07.140216Z",
     "shell.execute_reply": "2021-09-15T20:08:07.140672Z"
    },
    "papermill": {
     "duration": 0.173925,
     "end_time": "2021-09-15T20:08:07.140826",
     "exception": false,
     "start_time": "2021-09-15T20:08:06.966901",
     "status": "completed"
    },
    "tags": []
   },
   "outputs": [
    {
     "name": "stdout",
     "output_type": "stream",
     "text": [
      "2\n"
     ]
    },
    {
     "data": {
      "text/plain": [
       "<matplotlib.image.AxesImage at 0x7f1bbb260e80>"
      ]
     },
     "execution_count": 9,
     "metadata": {},
     "output_type": "execute_result"
    },
    {
     "data": {
      "image/png": "[encoded data removed]",
      "text/plain": [
       "<Figure size 432x288 with 1 Axes>"
      ]
     },
     "metadata": {
      "needs_background": "light"
     },
     "output_type": "display_data"
    }
   ],
   "source": [
    "image_index = 7776 # You may select anything up to 60,000\n",
    "print(train_labels[image_index]) \n",
    "plt.imshow(train_images[image_index], cmap='Greys')"
   ]
  },
  {
   "cell_type": "markdown",
   "id": "a8d2388d",
   "metadata": {
    "papermill": {
     "duration": 0.024145,
     "end_time": "2021-09-15T20:08:07.190291",
     "exception": false,
     "start_time": "2021-09-15T20:08:07.166146",
     "status": "completed"
    },
    "tags": []
   },
   "source": [
    "## Filter data to get 3 and 8 out"
   ]
  },
  {
   "cell_type": "code",
   "execution_count": 10,
   "id": "776f7fc7",
   "metadata": {
    "execution": {
     "iopub.execute_input": "2021-09-15T20:08:07.244740Z",
     "iopub.status.busy": "2021-09-15T20:08:07.244218Z",
     "iopub.status.idle": "2021-09-15T20:08:07.261418Z",
     "shell.execute_reply": "2021-09-15T20:08:07.261014Z"
    },
    "papermill": {
     "duration": 0.045035,
     "end_time": "2021-09-15T20:08:07.261535",
     "exception": false,
     "start_time": "2021-09-15T20:08:07.216500",
     "status": "completed"
    },
    "tags": []
   },
   "outputs": [],
   "source": [
    "train_filter = np.where((train_labels == 3 ) | (train_labels == 8))\n",
    "test_filter = np.where((test_labels == 3) | (test_labels == 8))\n",
    "X_train, y_train = train_images[train_filter], train_labels[train_filter]\n",
    "X_test, y_test = test_images[test_filter], test_labels[test_filter]"
   ]
  },
  {
   "cell_type": "markdown",
   "id": "948f0b7e",
   "metadata": {
    "papermill": {
     "duration": 0.02419,
     "end_time": "2021-09-15T20:08:07.309738",
     "exception": false,
     "start_time": "2021-09-15T20:08:07.285548",
     "status": "completed"
    },
    "tags": []
   },
   "source": [
    "We normalize the pizel values in the 0 to 1 range"
   ]
  },
  {
   "cell_type": "code",
   "execution_count": 11,
   "id": "ee4c2166",
   "metadata": {
    "execution": {
     "iopub.execute_input": "2021-09-15T20:08:07.361534Z",
     "iopub.status.busy": "2021-09-15T20:08:07.361046Z",
     "iopub.status.idle": "2021-09-15T20:08:07.405444Z",
     "shell.execute_reply": "2021-09-15T20:08:07.404891Z"
    },
    "papermill": {
     "duration": 0.072075,
     "end_time": "2021-09-15T20:08:07.405579",
     "exception": false,
     "start_time": "2021-09-15T20:08:07.333504",
     "status": "completed"
    },
    "tags": []
   },
   "outputs": [],
   "source": [
    "X_train = X_train/255.\n",
    "X_test = X_test/255."
   ]
  },
  {
   "cell_type": "markdown",
   "id": "ddcf4fab",
   "metadata": {
    "papermill": {
     "duration": 0.023803,
     "end_time": "2021-09-15T20:08:07.455307",
     "exception": false,
     "start_time": "2021-09-15T20:08:07.431504",
     "status": "completed"
    },
    "tags": []
   },
   "source": [
    "And setup the labels as 1 (when the digit is 3) and 0 (when the digit is 8)"
   ]
  },
  {
   "cell_type": "code",
   "execution_count": 12,
   "id": "7dc908f2",
   "metadata": {
    "execution": {
     "iopub.execute_input": "2021-09-15T20:08:07.505695Z",
     "iopub.status.busy": "2021-09-15T20:08:07.505211Z",
     "iopub.status.idle": "2021-09-15T20:08:07.517817Z",
     "shell.execute_reply": "2021-09-15T20:08:07.517416Z"
    },
    "papermill": {
     "duration": 0.038826,
     "end_time": "2021-09-15T20:08:07.517921",
     "exception": false,
     "start_time": "2021-09-15T20:08:07.479095",
     "status": "completed"
    },
    "tags": []
   },
   "outputs": [],
   "source": [
    "y_train = 1*(y_train==3)\n",
    "y_test = 1*(y_test==3)"
   ]
  },
  {
   "cell_type": "code",
   "execution_count": 13,
   "id": "01e4e969",
   "metadata": {
    "execution": {
     "iopub.execute_input": "2021-09-15T20:08:07.568797Z",
     "iopub.status.busy": "2021-09-15T20:08:07.568273Z",
     "iopub.status.idle": "2021-09-15T20:08:07.581841Z",
     "shell.execute_reply": "2021-09-15T20:08:07.582243Z"
    },
    "papermill": {
     "duration": 0.04074,
     "end_time": "2021-09-15T20:08:07.582375",
     "exception": false,
     "start_time": "2021-09-15T20:08:07.541635",
     "status": "completed"
    },
    "tags": []
   },
   "outputs": [
    {
     "data": {
      "text/plain": [
       "((11982, 28, 28), (1984, 28, 28))"
      ]
     },
     "execution_count": 13,
     "metadata": {},
     "output_type": "execute_result"
    }
   ],
   "source": [
    "X_train.shape, X_test.shape"
   ]
  },
  {
   "cell_type": "markdown",
   "id": "5ccf3f85",
   "metadata": {
    "papermill": {
     "duration": 0.023959,
     "end_time": "2021-09-15T20:08:07.630360",
     "exception": false,
     "start_time": "2021-09-15T20:08:07.606401",
     "status": "completed"
    },
    "tags": []
   },
   "source": [
    "We reshape the data to flatten the image pixels into a set of features or co-variates:"
   ]
  },
  {
   "cell_type": "code",
   "execution_count": 14,
   "id": "5286a4a3",
   "metadata": {
    "execution": {
     "iopub.execute_input": "2021-09-15T20:08:07.682623Z",
     "iopub.status.busy": "2021-09-15T20:08:07.681766Z",
     "iopub.status.idle": "2021-09-15T20:08:07.696686Z",
     "shell.execute_reply": "2021-09-15T20:08:07.697051Z"
    },
    "papermill": {
     "duration": 0.042811,
     "end_time": "2021-09-15T20:08:07.697193",
     "exception": false,
     "start_time": "2021-09-15T20:08:07.654382",
     "status": "completed"
    },
    "tags": []
   },
   "outputs": [
    {
     "data": {
      "text/plain": [
       "((11982, 784), (1984, 784))"
      ]
     },
     "execution_count": 14,
     "metadata": {},
     "output_type": "execute_result"
    }
   ],
   "source": [
    "X_train = X_train.reshape(X_train.shape[0], -1)\n",
    "X_test = X_test.reshape(X_test.shape[0], -1)\n",
    "X_train.shape, X_test.shape"
   ]
  },
  {
   "cell_type": "code",
   "execution_count": 15,
   "id": "73c5f88a",
   "metadata": {
    "execution": {
     "iopub.execute_input": "2021-09-15T20:08:07.749964Z",
     "iopub.status.busy": "2021-09-15T20:08:07.749477Z",
     "iopub.status.idle": "2021-09-15T20:08:07.768306Z",
     "shell.execute_reply": "2021-09-15T20:08:07.767900Z"
    },
    "papermill": {
     "duration": 0.046969,
     "end_time": "2021-09-15T20:08:07.768422",
     "exception": false,
     "start_time": "2021-09-15T20:08:07.721453",
     "status": "completed"
    },
    "tags": []
   },
   "outputs": [],
   "source": [
    "#Impoting functions from 'Kudzu'\n",
    "from kudzu.model import Model\n",
    "from kudzu.train import Learner\n",
    "from kudzu.optim import GD\n",
    "from kudzu.data import Data, Sampler,Dataloader\n",
    "\n",
    "from kudzu.callbacks import AccCallback\n",
    "from kudzu.callbacks import ClfCallback\n",
    "\n",
    "from kudzu.loss import MSE\n",
    "\n",
    "from kudzu.layer import Sigmoid,Relu\n",
    "from kudzu.layer import Affine"
   ]
  },
  {
   "cell_type": "markdown",
   "id": "bc01172a",
   "metadata": {
    "papermill": {
     "duration": 0.024381,
     "end_time": "2021-09-15T20:08:07.817133",
     "exception": false,
     "start_time": "2021-09-15T20:08:07.792752",
     "status": "completed"
    },
    "tags": []
   },
   "source": [
    "### Let us create a `Config` class, to store important parameters. \n",
    "This class essentially plays the role of a dictionary."
   ]
  },
  {
   "cell_type": "code",
   "execution_count": 16,
   "id": "978281aa",
   "metadata": {
    "execution": {
     "iopub.execute_input": "2021-09-15T20:08:07.870905Z",
     "iopub.status.busy": "2021-09-15T20:08:07.870421Z",
     "iopub.status.idle": "2021-09-15T20:08:07.882402Z",
     "shell.execute_reply": "2021-09-15T20:08:07.882016Z"
    },
    "papermill": {
     "duration": 0.041402,
     "end_time": "2021-09-15T20:08:07.882512",
     "exception": false,
     "start_time": "2021-09-15T20:08:07.841110",
     "status": "completed"
    },
    "tags": []
   },
   "outputs": [],
   "source": [
    "class Config:\n",
    "    pass\n",
    "config = Config()\n",
    "config.lr = 0.001\n",
    "config.num_epochs = 250\n",
    "config.bs = 50"
   ]
  },
  {
   "cell_type": "markdown",
   "id": "1385fa59",
   "metadata": {
    "papermill": {
     "duration": 0.024089,
     "end_time": "2021-09-15T20:08:07.930913",
     "exception": false,
     "start_time": "2021-09-15T20:08:07.906824",
     "status": "completed"
    },
    "tags": []
   },
   "source": [
    "### Running Models with the Training data\n",
    "Details about the network layers:\n",
    "- A first affine layer has 784 inputs and does 100 affine transforms. These are followed by a Relu\n",
    "- A second affine layer has 100 inputs from the 100 activations of the past layer, and does 100 affine transforms. These are followed by a Relu\n",
    "- A third affine layer has 100 activations and does 2 affine transformations to create an embedding for visualization. There is no non-linearity here.\n",
    "- A final \"logistic regression\" which has an affine transform from 2 inputs to 1 output, which is squeezed through a sigmoid.\n"
   ]
  },
  {
   "cell_type": "code",
   "execution_count": 17,
   "id": "2b9c66db",
   "metadata": {
    "execution": {
     "iopub.execute_input": "2021-09-15T20:08:07.986340Z",
     "iopub.status.busy": "2021-09-15T20:08:07.985854Z",
     "iopub.status.idle": "2021-09-15T20:08:07.996599Z",
     "shell.execute_reply": "2021-09-15T20:08:07.996976Z"
    },
    "papermill": {
     "duration": 0.042049,
     "end_time": "2021-09-15T20:08:07.997106",
     "exception": false,
     "start_time": "2021-09-15T20:08:07.955057",
     "status": "completed"
    },
    "tags": []
   },
   "outputs": [],
   "source": [
    "data = Data(X_train, y_train.reshape(-1,1))\n",
    "sampler = Sampler(data, config.bs, shuffle=True)\n",
    "\n",
    "dl = Dataloader(data, sampler)\n",
    "\n",
    "opt = GD(config.lr)\n",
    "loss = MSE()"
   ]
  },
  {
   "cell_type": "code",
   "execution_count": 18,
   "id": "b275e4c2",
   "metadata": {
    "execution": {
     "iopub.execute_input": "2021-09-15T20:08:08.052353Z",
     "iopub.status.busy": "2021-09-15T20:08:08.051845Z",
     "iopub.status.idle": "2021-09-15T20:08:08.062480Z",
     "shell.execute_reply": "2021-09-15T20:08:08.062100Z"
    },
    "papermill": {
     "duration": 0.040698,
     "end_time": "2021-09-15T20:08:08.062590",
     "exception": false,
     "start_time": "2021-09-15T20:08:08.021892",
     "status": "completed"
    },
    "tags": []
   },
   "outputs": [],
   "source": [
    "training_data_x = X_train\n",
    "testing_data_x = X_test\n",
    "training_data_y = y_train.reshape(-1,1)\n",
    "testing_data_y = y_test.reshape(-1,1)"
   ]
  },
  {
   "cell_type": "code",
   "execution_count": 19,
   "id": "76951160",
   "metadata": {
    "execution": {
     "iopub.execute_input": "2021-09-15T20:08:08.122538Z",
     "iopub.status.busy": "2021-09-15T20:08:08.122046Z",
     "iopub.status.idle": "2021-09-15T20:08:08.133827Z",
     "shell.execute_reply": "2021-09-15T20:08:08.134183Z"
    },
    "papermill": {
     "duration": 0.04754,
     "end_time": "2021-09-15T20:08:08.134320",
     "exception": false,
     "start_time": "2021-09-15T20:08:08.086780",
     "status": "completed"
    },
    "tags": []
   },
   "outputs": [
    {
     "name": "stdout",
     "output_type": "stream",
     "text": [
      "xavier\n",
      "xavier\n",
      "xavier\n",
      "xavier\n",
      "xavier\n"
     ]
    }
   ],
   "source": [
    "layers = [Affine(\"first\", 784, 100), Relu(\"first\"), Affine(\"second\", 100, 100), Relu(\"second\"), Affine(\"third\", 100, 2), Affine(\"last\", 2, 1), Sigmoid(\"last\")]\n",
    "model_nn = Model(layers)\n",
    "model_lr = Model([Affine(\"logits\", 784, 1), Sigmoid(\"sigmoid\")])"
   ]
  },
  {
   "cell_type": "code",
   "execution_count": 20,
   "id": "6eede77a",
   "metadata": {
    "execution": {
     "iopub.execute_input": "2021-09-15T20:08:08.188999Z",
     "iopub.status.busy": "2021-09-15T20:08:08.187237Z",
     "iopub.status.idle": "2021-09-15T20:08:08.200045Z",
     "shell.execute_reply": "2021-09-15T20:08:08.200451Z"
    },
    "papermill": {
     "duration": 0.041501,
     "end_time": "2021-09-15T20:08:08.200586",
     "exception": false,
     "start_time": "2021-09-15T20:08:08.159085",
     "status": "completed"
    },
    "tags": []
   },
   "outputs": [],
   "source": [
    "nn_learner = Learner(loss, model_nn, opt, config.num_epochs)\n",
    "acc_nn = ClfCallback(nn_learner, config.bs, training_data_x , testing_data_x, training_data_y, testing_data_y)\n",
    "nn_learner.set_callbacks([acc_nn])"
   ]
  },
  {
   "cell_type": "code",
   "execution_count": 21,
   "id": "877b6cc7",
   "metadata": {
    "execution": {
     "iopub.execute_input": "2021-09-15T20:08:08.265572Z",
     "iopub.status.busy": "2021-09-15T20:08:08.253442Z",
     "iopub.status.idle": "2021-09-15T20:08:08.270078Z",
     "shell.execute_reply": "2021-09-15T20:08:08.269684Z"
    },
    "papermill": {
     "duration": 0.044978,
     "end_time": "2021-09-15T20:08:08.270195",
     "exception": false,
     "start_time": "2021-09-15T20:08:08.225217",
     "status": "completed"
    },
    "tags": []
   },
   "outputs": [],
   "source": [
    "lr_learner = Learner(loss, model_lr, opt, config.num_epochs)\n",
    "acc_lr = ClfCallback(lr_learner, config.bs, training_data_x , testing_data_x, training_data_y, testing_data_y)\n",
    "lr_learner.set_callbacks([acc_lr])"
   ]
  },
  {
   "cell_type": "code",
   "execution_count": 22,
   "id": "d9b133c3",
   "metadata": {
    "execution": {
     "iopub.execute_input": "2021-09-15T20:08:08.332753Z",
     "iopub.status.busy": "2021-09-15T20:08:08.332209Z",
     "iopub.status.idle": "2021-09-15T20:09:27.807827Z",
     "shell.execute_reply": "2021-09-15T20:09:27.808603Z"
    },
    "papermill": {
     "duration": 79.513886,
     "end_time": "2021-09-15T20:09:27.808762",
     "exception": false,
     "start_time": "2021-09-15T20:08:08.294876",
     "status": "completed"
    },
    "tags": []
   },
   "outputs": [
    {
     "name": "stdout",
     "output_type": "stream",
     "text": [
      "Epoch 0, Loss 0.2522\n",
      "Training Accuracy: 0.5468, Testing Accuracy: 0.5428\n",
      "\n"
     ]
    },
    {
     "name": "stdout",
     "output_type": "stream",
     "text": [
      "Epoch 10, Loss 0.1676\n",
      "Training Accuracy: 0.8840, Testing Accuracy: 0.8957\n",
      "\n"
     ]
    },
    {
     "name": "stdout",
     "output_type": "stream",
     "text": [
      "Epoch 20, Loss 0.0838\n",
      "Training Accuracy: 0.9199, Testing Accuracy: 0.9304\n",
      "\n"
     ]
    },
    {
     "name": "stdout",
     "output_type": "stream",
     "text": [
      "Epoch 30, Loss 0.0578\n",
      "Training Accuracy: 0.9365, Testing Accuracy: 0.9491\n",
      "\n"
     ]
    },
    {
     "name": "stdout",
     "output_type": "stream",
     "text": [
      "Epoch 40, Loss 0.0469\n",
      "Training Accuracy: 0.9461, Testing Accuracy: 0.9577\n",
      "\n"
     ]
    },
    {
     "name": "stdout",
     "output_type": "stream",
     "text": [
      "Epoch 50, Loss 0.041\n",
      "Training Accuracy: 0.9528, Testing Accuracy: 0.9622\n",
      "\n"
     ]
    },
    {
     "name": "stdout",
     "output_type": "stream",
     "text": [
      "Epoch 60, Loss 0.0373\n",
      "Training Accuracy: 0.9560, Testing Accuracy: 0.9652\n",
      "\n"
     ]
    },
    {
     "name": "stdout",
     "output_type": "stream",
     "text": [
      "Epoch 70, Loss 0.0347\n",
      "Training Accuracy: 0.9584, Testing Accuracy: 0.9677\n",
      "\n"
     ]
    },
    {
     "name": "stdout",
     "output_type": "stream",
     "text": [
      "Epoch 80, Loss 0.0327\n",
      "Training Accuracy: 0.9621, Testing Accuracy: 0.9682\n",
      "\n"
     ]
    },
    {
     "name": "stdout",
     "output_type": "stream",
     "text": [
      "Epoch 90, Loss 0.0311\n",
      "Training Accuracy: 0.9640, Testing Accuracy: 0.9677\n",
      "\n"
     ]
    },
    {
     "name": "stdout",
     "output_type": "stream",
     "text": [
      "Epoch 100, Loss 0.0298\n",
      "Training Accuracy: 0.9655, Testing Accuracy: 0.9677\n",
      "\n"
     ]
    },
    {
     "name": "stdout",
     "output_type": "stream",
     "text": [
      "Epoch 110, Loss 0.0287\n",
      "Training Accuracy: 0.9669, Testing Accuracy: 0.9688\n",
      "\n"
     ]
    },
    {
     "name": "stdout",
     "output_type": "stream",
     "text": [
      "Epoch 120, Loss 0.0277\n",
      "Training Accuracy: 0.9678, Testing Accuracy: 0.9688\n",
      "\n"
     ]
    },
    {
     "name": "stdout",
     "output_type": "stream",
     "text": [
      "Epoch 130, Loss 0.0269\n",
      "Training Accuracy: 0.9692, Testing Accuracy: 0.9698\n",
      "\n"
     ]
    },
    {
     "name": "stdout",
     "output_type": "stream",
     "text": [
      "Epoch 140, Loss 0.0261\n",
      "Training Accuracy: 0.9700, Testing Accuracy: 0.9693\n",
      "\n"
     ]
    },
    {
     "name": "stdout",
     "output_type": "stream",
     "text": [
      "Epoch 150, Loss 0.0254\n",
      "Training Accuracy: 0.9709, Testing Accuracy: 0.9693\n",
      "\n"
     ]
    },
    {
     "name": "stdout",
     "output_type": "stream",
     "text": [
      "Epoch 160, Loss 0.0248\n",
      "Training Accuracy: 0.9712, Testing Accuracy: 0.9698\n",
      "\n"
     ]
    },
    {
     "name": "stdout",
     "output_type": "stream",
     "text": [
      "Epoch 170, Loss 0.0242\n",
      "Training Accuracy: 0.9717, Testing Accuracy: 0.9693\n",
      "\n"
     ]
    },
    {
     "name": "stdout",
     "output_type": "stream",
     "text": [
      "Epoch 180, Loss 0.0237\n",
      "Training Accuracy: 0.9725, Testing Accuracy: 0.9693\n",
      "\n"
     ]
    },
    {
     "name": "stdout",
     "output_type": "stream",
     "text": [
      "Epoch 190, Loss 0.0232\n",
      "Training Accuracy: 0.9728, Testing Accuracy: 0.9682\n",
      "\n"
     ]
    },
    {
     "name": "stdout",
     "output_type": "stream",
     "text": [
      "Epoch 200, Loss 0.0228\n",
      "Training Accuracy: 0.9738, Testing Accuracy: 0.9688\n",
      "\n"
     ]
    },
    {
     "name": "stdout",
     "output_type": "stream",
     "text": [
      "Epoch 210, Loss 0.0223\n",
      "Training Accuracy: 0.9742, Testing Accuracy: 0.9703\n",
      "\n"
     ]
    },
    {
     "name": "stdout",
     "output_type": "stream",
     "text": [
      "Epoch 220, Loss 0.0219\n",
      "Training Accuracy: 0.9748, Testing Accuracy: 0.9713\n",
      "\n"
     ]
    },
    {
     "name": "stdout",
     "output_type": "stream",
     "text": [
      "Epoch 230, Loss 0.0215\n",
      "Training Accuracy: 0.9752, Testing Accuracy: 0.9723\n",
      "\n"
     ]
    },
    {
     "name": "stdout",
     "output_type": "stream",
     "text": [
      "Epoch 240, Loss 0.0212\n",
      "Training Accuracy: 0.9760, Testing Accuracy: 0.9723\n",
      "\n"
     ]
    },
    {
     "data": {
      "text/plain": [
       "0.021493245276137073"
      ]
     },
     "execution_count": 22,
     "metadata": {},
     "output_type": "execute_result"
    }
   ],
   "source": [
    "nn_learner.train_loop(dl)"
   ]
  },
  {
   "cell_type": "code",
   "execution_count": 23,
   "id": "e0163366",
   "metadata": {
    "execution": {
     "iopub.execute_input": "2021-09-15T20:09:27.891507Z",
     "iopub.status.busy": "2021-09-15T20:09:27.890972Z",
     "iopub.status.idle": "2021-09-15T20:09:42.057209Z",
     "shell.execute_reply": "2021-09-15T20:09:42.057966Z"
    },
    "papermill": {
     "duration": 14.214131,
     "end_time": "2021-09-15T20:09:42.058119",
     "exception": false,
     "start_time": "2021-09-15T20:09:27.843988",
     "status": "completed"
    },
    "tags": []
   },
   "outputs": [
    {
     "name": "stdout",
     "output_type": "stream",
     "text": [
      "Epoch 0, Loss 0.2301\n",
      "Training Accuracy: 0.7215, Testing Accuracy: 0.7072\n",
      "\n"
     ]
    },
    {
     "name": "stdout",
     "output_type": "stream",
     "text": [
      "Epoch 10, Loss 0.1019\n",
      "Training Accuracy: 0.9093, Testing Accuracy: 0.9153\n",
      "\n"
     ]
    },
    {
     "name": "stdout",
     "output_type": "stream",
     "text": [
      "Epoch 20, Loss 0.0792\n",
      "Training Accuracy: 0.9269, Testing Accuracy: 0.9360\n",
      "\n"
     ]
    },
    {
     "name": "stdout",
     "output_type": "stream",
     "text": [
      "Epoch 30, Loss 0.0685\n",
      "Training Accuracy: 0.9354, Testing Accuracy: 0.9456\n",
      "\n"
     ]
    },
    {
     "name": "stdout",
     "output_type": "stream",
     "text": [
      "Epoch 40, Loss 0.062\n",
      "Training Accuracy: 0.9405, Testing Accuracy: 0.9496\n",
      "\n"
     ]
    },
    {
     "name": "stdout",
     "output_type": "stream",
     "text": [
      "Epoch 50, Loss 0.0575\n",
      "Training Accuracy: 0.9440, Testing Accuracy: 0.9536\n",
      "\n"
     ]
    },
    {
     "name": "stdout",
     "output_type": "stream",
     "text": [
      "Epoch 60, Loss 0.0542\n",
      "Training Accuracy: 0.9461, Testing Accuracy: 0.9572\n",
      "\n"
     ]
    },
    {
     "name": "stdout",
     "output_type": "stream",
     "text": [
      "Epoch 70, Loss 0.0516\n",
      "Training Accuracy: 0.9482, Testing Accuracy: 0.9587\n",
      "\n"
     ]
    },
    {
     "name": "stdout",
     "output_type": "stream",
     "text": [
      "Epoch 80, Loss 0.0495\n",
      "Training Accuracy: 0.9498, Testing Accuracy: 0.9602\n",
      "\n"
     ]
    },
    {
     "name": "stdout",
     "output_type": "stream",
     "text": [
      "Epoch 90, Loss 0.0478\n",
      "Training Accuracy: 0.9509, Testing Accuracy: 0.9612\n",
      "\n"
     ]
    },
    {
     "name": "stdout",
     "output_type": "stream",
     "text": [
      "Epoch 100, Loss 0.0464\n",
      "Training Accuracy: 0.9526, Testing Accuracy: 0.9617\n",
      "\n"
     ]
    },
    {
     "name": "stdout",
     "output_type": "stream",
     "text": [
      "Epoch 110, Loss 0.0451\n",
      "Training Accuracy: 0.9538, Testing Accuracy: 0.9617\n",
      "\n"
     ]
    },
    {
     "name": "stdout",
     "output_type": "stream",
     "text": [
      "Epoch 120, Loss 0.044\n",
      "Training Accuracy: 0.9545, Testing Accuracy: 0.9622\n",
      "\n"
     ]
    },
    {
     "name": "stdout",
     "output_type": "stream",
     "text": [
      "Epoch 130, Loss 0.0431\n",
      "Training Accuracy: 0.9551, Testing Accuracy: 0.9632\n",
      "\n"
     ]
    },
    {
     "name": "stdout",
     "output_type": "stream",
     "text": [
      "Epoch 140, Loss 0.0422\n",
      "Training Accuracy: 0.9553, Testing Accuracy: 0.9637\n",
      "\n"
     ]
    },
    {
     "name": "stdout",
     "output_type": "stream",
     "text": [
      "Epoch 150, Loss 0.0415\n",
      "Training Accuracy: 0.9559, Testing Accuracy: 0.9642\n",
      "\n"
     ]
    },
    {
     "name": "stdout",
     "output_type": "stream",
     "text": [
      "Epoch 160, Loss 0.0408\n",
      "Training Accuracy: 0.9565, Testing Accuracy: 0.9647\n",
      "\n"
     ]
    },
    {
     "name": "stdout",
     "output_type": "stream",
     "text": [
      "Epoch 170, Loss 0.0401\n",
      "Training Accuracy: 0.9569, Testing Accuracy: 0.9647\n",
      "\n"
     ]
    },
    {
     "name": "stdout",
     "output_type": "stream",
     "text": [
      "Epoch 180, Loss 0.0396\n",
      "Training Accuracy: 0.9572, Testing Accuracy: 0.9657\n",
      "\n"
     ]
    },
    {
     "name": "stdout",
     "output_type": "stream",
     "text": [
      "Epoch 190, Loss 0.039\n",
      "Training Accuracy: 0.9579, Testing Accuracy: 0.9662\n",
      "\n"
     ]
    },
    {
     "name": "stdout",
     "output_type": "stream",
     "text": [
      "Epoch 200, Loss 0.0385\n",
      "Training Accuracy: 0.9584, Testing Accuracy: 0.9667\n",
      "\n"
     ]
    },
    {
     "name": "stdout",
     "output_type": "stream",
     "text": [
      "Epoch 210, Loss 0.0381\n",
      "Training Accuracy: 0.9589, Testing Accuracy: 0.9667\n",
      "\n"
     ]
    },
    {
     "name": "stdout",
     "output_type": "stream",
     "text": [
      "Epoch 220, Loss 0.0377\n",
      "Training Accuracy: 0.9594, Testing Accuracy: 0.9672\n",
      "\n"
     ]
    },
    {
     "name": "stdout",
     "output_type": "stream",
     "text": [
      "Epoch 230, Loss 0.0373\n",
      "Training Accuracy: 0.9599, Testing Accuracy: 0.9672\n",
      "\n"
     ]
    },
    {
     "name": "stdout",
     "output_type": "stream",
     "text": [
      "Epoch 240, Loss 0.0369\n",
      "Training Accuracy: 0.9602, Testing Accuracy: 0.9672\n",
      "\n"
     ]
    },
    {
     "data": {
      "text/plain": [
       "0.04254283995380353"
      ]
     },
     "execution_count": 23,
     "metadata": {},
     "output_type": "execute_result"
    }
   ],
   "source": [
    "lr_learner.train_loop(dl)"
   ]
  },
  {
   "cell_type": "code",
   "execution_count": 24,
   "id": "ca410940",
   "metadata": {
    "execution": {
     "iopub.execute_input": "2021-09-15T20:09:42.150264Z",
     "iopub.status.busy": "2021-09-15T20:09:42.149706Z",
     "iopub.status.idle": "2021-09-15T20:09:42.368242Z",
     "shell.execute_reply": "2021-09-15T20:09:42.368672Z"
    },
    "papermill": {
     "duration": 0.268839,
     "end_time": "2021-09-15T20:09:42.368814",
     "exception": false,
     "start_time": "2021-09-15T20:09:42.099975",
     "status": "completed"
    },
    "tags": []
   },
   "outputs": [
    {
     "data": {
      "text/plain": [
       "<matplotlib.legend.Legend at 0x7f1bae692f98>"
      ]
     },
     "execution_count": 24,
     "metadata": {},
     "output_type": "execute_result"
    },
    {
     "data": {
      "image/png": "[encoded data removed]",
      "text/plain": [
       "<Figure size 1080x720 with 1 Axes>"
      ]
     },
     "metadata": {
      "needs_background": "light"
     },
     "output_type": "display_data"
    }
   ],
   "source": [
    "#comparing the results of NN and LR\n",
    "plt.figure(figsize=(15,10))\n",
    "\n",
    "# Neural Network plots\n",
    "plt.plot(acc_nn.accuracies, 'r-', label = \"Training Accuracies - NN\")\n",
    "plt.plot(acc_nn.test_accuracies, 'g-', label = \"Testing Accuracies - NN\")\n",
    "\n",
    "# Logistic Regression plots\n",
    "plt.plot(acc_lr.accuracies, 'k-', label = \"Training Accuracies - LR\")\n",
    "plt.plot(acc_lr.test_accuracies, 'b-', label = \"Testing Accuracies - LR\")\n",
    "plt.legend()"
   ]
  },
  {
   "cell_type": "markdown",
   "id": "80dfb35c",
   "metadata": {
    "papermill": {
     "duration": 0.037877,
     "end_time": "2021-09-15T20:09:42.444519",
     "exception": false,
     "start_time": "2021-09-15T20:09:42.406642",
     "status": "completed"
    },
    "tags": []
   },
   "source": [
    "#### Plotting the outputs of this layer of the NN.\n"
   ]
  },
  {
   "cell_type": "code",
   "execution_count": 25,
   "id": "45eb2ff5",
   "metadata": {
    "execution": {
     "iopub.execute_input": "2021-09-15T20:09:42.532066Z",
     "iopub.status.busy": "2021-09-15T20:09:42.529922Z",
     "iopub.status.idle": "2021-09-15T20:09:42.548812Z",
     "shell.execute_reply": "2021-09-15T20:09:42.549237Z"
    },
    "papermill": {
     "duration": 0.067558,
     "end_time": "2021-09-15T20:09:42.549375",
     "exception": false,
     "start_time": "2021-09-15T20:09:42.481817",
     "status": "completed"
    },
    "tags": []
   },
   "outputs": [],
   "source": [
    "new_model = Model(layers[:-2])\n",
    "testing_plot = new_model(testing_data_x)"
   ]
  },
  {
   "cell_type": "code",
   "execution_count": 26,
   "id": "4c0a5485",
   "metadata": {
    "execution": {
     "iopub.execute_input": "2021-09-15T20:09:42.640367Z",
     "iopub.status.busy": "2021-09-15T20:09:42.639813Z",
     "iopub.status.idle": "2021-09-15T20:09:42.834633Z",
     "shell.execute_reply": "2021-09-15T20:09:42.835034Z"
    },
    "papermill": {
     "duration": 0.243227,
     "end_time": "2021-09-15T20:09:42.835183",
     "exception": false,
     "start_time": "2021-09-15T20:09:42.591956",
     "status": "completed"
    },
    "tags": []
   },
   "outputs": [
    {
     "data": {
      "text/plain": [
       "Text(0.5, 1.0, 'Outputs')"
      ]
     },
     "execution_count": 26,
     "metadata": {},
     "output_type": "execute_result"
    },
    {
     "data": {
      "image/png": "[encoded data removed]",
      "text/plain": [
       "<Figure size 576x504 with 1 Axes>"
      ]
     },
     "metadata": {
      "needs_background": "light"
     },
     "output_type": "display_data"
    }
   ],
   "source": [
    "# Plotting the scatter plot of points and color coding by class\n",
    "plt.figure(figsize=(8,7))\n",
    "plt.scatter(testing_plot[:,0], testing_plot[:,1], alpha = 0.1, c = y_test.ravel());\n",
    "plt.title('Outputs')"
   ]
  },
  {
   "cell_type": "markdown",
   "id": "a74fcf8f",
   "metadata": {
    "papermill": {
     "duration": 0.044668,
     "end_time": "2021-09-15T20:09:42.924220",
     "exception": false,
     "start_time": "2021-09-15T20:09:42.879552",
     "status": "completed"
    },
    "tags": []
   },
   "source": [
    "Probability contours"
   ]
  },
  {
   "cell_type": "code",
   "execution_count": 27,
   "id": "d0afc8e3",
   "metadata": {
    "execution": {
     "iopub.execute_input": "2021-09-15T20:09:43.017942Z",
     "iopub.status.busy": "2021-09-15T20:09:43.017407Z",
     "iopub.status.idle": "2021-09-15T20:09:43.028331Z",
     "shell.execute_reply": "2021-09-15T20:09:43.027851Z"
    },
    "papermill": {
     "duration": 0.059801,
     "end_time": "2021-09-15T20:09:43.028454",
     "exception": false,
     "start_time": "2021-09-15T20:09:42.968653",
     "status": "completed"
    },
    "tags": []
   },
   "outputs": [],
   "source": [
    "model_prob = Model(layers[-2:]) "
   ]
  },
  {
   "cell_type": "code",
   "execution_count": 28,
   "id": "9b96e238",
   "metadata": {
    "execution": {
     "iopub.execute_input": "2021-09-15T20:09:43.122352Z",
     "iopub.status.busy": "2021-09-15T20:09:43.121779Z",
     "iopub.status.idle": "2021-09-15T20:09:43.135803Z",
     "shell.execute_reply": "2021-09-15T20:09:43.136215Z"
    },
    "papermill": {
     "duration": 0.063373,
     "end_time": "2021-09-15T20:09:43.136393",
     "exception": false,
     "start_time": "2021-09-15T20:09:43.073020",
     "status": "completed"
    },
    "tags": []
   },
   "outputs": [],
   "source": [
    "#creating the x and y ranges according to the above generated plot.\n",
    "x_range = np.linspace(-4, 1, 100) \n",
    "y_range = np.linspace(-6, 6, 100) \n",
    "x_grid, y_grid = np.meshgrid(x_range, y_range) # x_grid and y_grig are of size 100 X 100\n",
    "\n",
    "# converting x_grid and y_grid to continuous arrays\n",
    "x_gridflat = np.ravel(x_grid)\n",
    "y_gridflat = np.ravel(y_grid)\n",
    "\n",
    "# The last layer of the current model takes two columns as input. Hence transpose of np.vstack() is required.\n",
    "X = np.vstack((x_gridflat, y_gridflat)).T\n",
    "\n",
    "prob_contour = model_prob(X).reshape(100,100) "
   ]
  },
  {
   "cell_type": "code",
   "execution_count": 29,
   "id": "da72499a",
   "metadata": {
    "execution": {
     "iopub.execute_input": "2021-09-15T20:09:43.263658Z",
     "iopub.status.busy": "2021-09-15T20:09:43.263173Z",
     "iopub.status.idle": "2021-09-15T20:09:43.511820Z",
     "shell.execute_reply": "2021-09-15T20:09:43.512190Z"
    },
    "papermill": {
     "duration": 0.327035,
     "end_time": "2021-09-15T20:09:43.512348",
     "exception": false,
     "start_time": "2021-09-15T20:09:43.185313",
     "status": "completed"
    },
    "tags": []
   },
   "outputs": [
    {
     "data": {
      "image/png": "[encoded data removed]",
      "text/plain": [
       "<Figure size 720x648 with 1 Axes>"
      ]
     },
     "metadata": {
      "needs_background": "light"
     },
     "output_type": "display_data"
    }
   ],
   "source": [
    "plt.figure(figsize=(10,9))\n",
    "plt.scatter(testing_plot[:,0], testing_plot[:,1], alpha = 0.1, c = y_test.ravel())\n",
    "contours = plt.contour(x_grid,y_grid,prob_contour)\n",
    "plt.title('Probability Contours')\n",
    "plt.clabel(contours, inline = True );"
   ]
  },
  {
   "cell_type": "code",
   "execution_count": null,
   "id": "e81b4ac7",
   "metadata": {
    "papermill": {
     "duration": 0.041417,
     "end_time": "2021-09-15T20:09:43.595578",
     "exception": false,
     "start_time": "2021-09-15T20:09:43.554161",
     "status": "completed"
    },
    "tags": []
   },
   "outputs": [],
   "source": []
  }
 ],
 "metadata": {
  "kernelspec": {
   "display_name": "Python 3",
   "language": "python",
   "name": "python3"
  },
  "language_info": {
   "codemirror_mode": {
    "name": "ipython",
    "version": 3
   },
   "file_extension": ".py",
   "mimetype": "text/x-python",
   "name": "python",
   "nbconvert_exporter": "python",
   "pygments_lexer": "ipython3",
   "version": "3.6.14"
  },
  "papermill": {
   "default_parameters": {},
   "duration": 101.45869,
   "end_time": "2021-09-15T20:09:44.045255",
   "environment_variables": {},
   "exception": null,
   "input_path": "2020-08-11-part2.ipynb",
   "output_path": "2020-08-11-part2.ipynb",
   "parameters": {},
   "start_time": "2021-09-15T20:08:02.586565",
   "version": "2.3.3"
  }
 },
 "nbformat": 4,
 "nbformat_minor": 5
}