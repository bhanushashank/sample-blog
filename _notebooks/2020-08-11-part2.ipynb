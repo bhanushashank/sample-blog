{
 "cells": [
  {
   "cell_type": "markdown",
   "id": "98380cd3",
   "metadata": {
    "papermill": {
     "duration": 0.028911,
     "end_time": "2022-01-24T20:07:48.274898",
     "exception": false,
     "start_time": "2022-01-24T20:07:48.245987",
     "status": "completed"
    },
    "tags": []
   },
   "source": [
    "# Distinguish Your Own Digits (DYOD)"
   ]
  },
  {
   "cell_type": "markdown",
   "id": "ef31240d",
   "metadata": {
    "papermill": {
     "duration": 0.024079,
     "end_time": "2022-01-24T20:07:48.323721",
     "exception": false,
     "start_time": "2022-01-24T20:07:48.299642",
     "status": "completed"
    },
    "tags": []
   },
   "source": [
    "You are going to write a classifier that distinguishes between the number 3 and number 8."
   ]
  },
  {
   "cell_type": "code",
   "execution_count": 1,
   "id": "b15c8646",
   "metadata": {
    "execution": {
     "iopub.execute_input": "2022-01-24T20:07:48.383540Z",
     "iopub.status.busy": "2022-01-24T20:07:48.383003Z",
     "iopub.status.idle": "2022-01-24T20:07:48.393550Z",
     "shell.execute_reply": "2022-01-24T20:07:48.393107Z"
    },
    "papermill": {
     "duration": 0.046087,
     "end_time": "2022-01-24T20:07:48.393688",
     "exception": false,
     "start_time": "2022-01-24T20:07:48.347601",
     "status": "completed"
    },
    "tags": []
   },
   "outputs": [],
   "source": [
    "%load_ext autoreload\n",
    "%autoreload 2"
   ]
  },
  {
   "cell_type": "code",
   "execution_count": 2,
   "id": "22ef38dc",
   "metadata": {
    "execution": {
     "iopub.execute_input": "2022-01-24T20:07:48.448330Z",
     "iopub.status.busy": "2022-01-24T20:07:48.447801Z",
     "iopub.status.idle": "2022-01-24T20:07:49.068043Z",
     "shell.execute_reply": "2022-01-24T20:07:49.067098Z"
    },
    "papermill": {
     "duration": 0.650198,
     "end_time": "2022-01-24T20:07:49.068181",
     "exception": false,
     "start_time": "2022-01-24T20:07:48.417983",
     "status": "completed"
    },
    "tags": []
   },
   "outputs": [],
   "source": [
    "%matplotlib inline\n",
    "import numpy as np\n",
    "import matplotlib.pyplot as plt\n",
    "import pandas as pd"
   ]
  },
  {
   "cell_type": "markdown",
   "id": "ba036198",
   "metadata": {
    "papermill": {
     "duration": 0.023978,
     "end_time": "2022-01-24T20:07:49.116429",
     "exception": false,
     "start_time": "2022-01-24T20:07:49.092451",
     "status": "completed"
    },
    "tags": []
   },
   "source": [
    "From the command line run `pip install mnist`. This is a library that will help you bring down the mnist dataset. If you run this from a notebook, you need to put  `!pip install mnist` in a cell by itself."
   ]
  },
  {
   "cell_type": "code",
   "execution_count": 3,
   "id": "bb6ad8a1",
   "metadata": {
    "execution": {
     "iopub.execute_input": "2022-01-24T20:07:49.169182Z",
     "iopub.status.busy": "2022-01-24T20:07:49.168524Z",
     "iopub.status.idle": "2022-01-24T20:07:51.070961Z",
     "shell.execute_reply": "2022-01-24T20:07:51.070406Z"
    },
    "papermill": {
     "duration": 1.930676,
     "end_time": "2022-01-24T20:07:51.071098",
     "exception": false,
     "start_time": "2022-01-24T20:07:49.140422",
     "status": "completed"
    },
    "tags": []
   },
   "outputs": [
    {
     "name": "stdout",
     "output_type": "stream",
     "text": [
      "Collecting mnist\r\n"
     ]
    },
    {
     "name": "stdout",
     "output_type": "stream",
     "text": [
      "  Downloading mnist-0.2.2-py2.py3-none-any.whl (3.5 kB)\r\n",
      "Requirement already satisfied: numpy in /opt/hostedtoolcache/Python/3.6.15/x64/lib/python3.6/site-packages (from mnist) (1.19.5)\r\n"
     ]
    },
    {
     "name": "stdout",
     "output_type": "stream",
     "text": [
      "Installing collected packages: mnist\r\n"
     ]
    },
    {
     "name": "stdout",
     "output_type": "stream",
     "text": [
      "Successfully installed mnist-0.2.2\r\n"
     ]
    }
   ],
   "source": [
    "!pip install mnist"
   ]
  },
  {
   "cell_type": "markdown",
   "id": "69df9c9a",
   "metadata": {
    "papermill": {
     "duration": 0.025218,
     "end_time": "2022-01-24T20:07:51.121777",
     "exception": false,
     "start_time": "2022-01-24T20:07:51.096559",
     "status": "completed"
    },
    "tags": []
   },
   "source": [
    "## Preparing the Data"
   ]
  },
  {
   "cell_type": "code",
   "execution_count": 4,
   "id": "7f69d806",
   "metadata": {
    "execution": {
     "iopub.execute_input": "2022-01-24T20:07:51.175589Z",
     "iopub.status.busy": "2022-01-24T20:07:51.175079Z",
     "iopub.status.idle": "2022-01-24T20:07:51.190815Z",
     "shell.execute_reply": "2022-01-24T20:07:51.190372Z"
    },
    "papermill": {
     "duration": 0.04412,
     "end_time": "2022-01-24T20:07:51.190929",
     "exception": false,
     "start_time": "2022-01-24T20:07:51.146809",
     "status": "completed"
    },
    "tags": []
   },
   "outputs": [],
   "source": [
    "import mnist"
   ]
  },
  {
   "cell_type": "code",
   "execution_count": 5,
   "id": "a411e44f",
   "metadata": {
    "execution": {
     "iopub.execute_input": "2022-01-24T20:07:51.244752Z",
     "iopub.status.busy": "2022-01-24T20:07:51.244231Z",
     "iopub.status.idle": "2022-01-24T20:07:51.959223Z",
     "shell.execute_reply": "2022-01-24T20:07:51.958731Z"
    },
    "papermill": {
     "duration": 0.743443,
     "end_time": "2022-01-24T20:07:51.959353",
     "exception": false,
     "start_time": "2022-01-24T20:07:51.215910",
     "status": "completed"
    },
    "tags": []
   },
   "outputs": [],
   "source": [
    "train_images = mnist.train_images()\n",
    "train_labels = mnist.train_labels()"
   ]
  },
  {
   "cell_type": "code",
   "execution_count": 6,
   "id": "dceab3a5",
   "metadata": {
    "execution": {
     "iopub.execute_input": "2022-01-24T20:07:52.017719Z",
     "iopub.status.busy": "2022-01-24T20:07:52.016863Z",
     "iopub.status.idle": "2022-01-24T20:07:52.031532Z",
     "shell.execute_reply": "2022-01-24T20:07:52.031105Z"
    },
    "papermill": {
     "duration": 0.045364,
     "end_time": "2022-01-24T20:07:52.031654",
     "exception": false,
     "start_time": "2022-01-24T20:07:51.986290",
     "status": "completed"
    },
    "tags": []
   },
   "outputs": [
    {
     "data": {
      "text/plain": [
       "((60000, 28, 28), (60000,))"
      ]
     },
     "execution_count": 6,
     "metadata": {},
     "output_type": "execute_result"
    }
   ],
   "source": [
    "train_images.shape, train_labels.shape"
   ]
  },
  {
   "cell_type": "code",
   "execution_count": 7,
   "id": "f50dc2bb",
   "metadata": {
    "execution": {
     "iopub.execute_input": "2022-01-24T20:07:52.093618Z",
     "iopub.status.busy": "2022-01-24T20:07:52.093021Z",
     "iopub.status.idle": "2022-01-24T20:07:52.343584Z",
     "shell.execute_reply": "2022-01-24T20:07:52.344093Z"
    },
    "papermill": {
     "duration": 0.287277,
     "end_time": "2022-01-24T20:07:52.344256",
     "exception": false,
     "start_time": "2022-01-24T20:07:52.056979",
     "status": "completed"
    },
    "tags": []
   },
   "outputs": [],
   "source": [
    "test_images = mnist.test_images()\n",
    "test_labels = mnist.test_labels()"
   ]
  },
  {
   "cell_type": "code",
   "execution_count": 8,
   "id": "fc38cf1b",
   "metadata": {
    "execution": {
     "iopub.execute_input": "2022-01-24T20:07:52.400499Z",
     "iopub.status.busy": "2022-01-24T20:07:52.399977Z",
     "iopub.status.idle": "2022-01-24T20:07:52.413519Z",
     "shell.execute_reply": "2022-01-24T20:07:52.413987Z"
    },
    "papermill": {
     "duration": 0.044052,
     "end_time": "2022-01-24T20:07:52.414140",
     "exception": false,
     "start_time": "2022-01-24T20:07:52.370088",
     "status": "completed"
    },
    "tags": []
   },
   "outputs": [
    {
     "data": {
      "text/plain": [
       "((10000, 28, 28), (10000,))"
      ]
     },
     "execution_count": 8,
     "metadata": {},
     "output_type": "execute_result"
    }
   ],
   "source": [
    "test_images.shape, test_labels.shape"
   ]
  },
  {
   "cell_type": "code",
   "execution_count": 9,
   "id": "f9ed8fe0",
   "metadata": {
    "execution": {
     "iopub.execute_input": "2022-01-24T20:07:52.481012Z",
     "iopub.status.busy": "2022-01-24T20:07:52.480291Z",
     "iopub.status.idle": "2022-01-24T20:07:52.622537Z",
     "shell.execute_reply": "2022-01-24T20:07:52.622071Z"
    },
    "papermill": {
     "duration": 0.178321,
     "end_time": "2022-01-24T20:07:52.622666",
     "exception": false,
     "start_time": "2022-01-24T20:07:52.444345",
     "status": "completed"
    },
    "tags": []
   },
   "outputs": [
    {
     "name": "stdout",
     "output_type": "stream",
     "text": [
      "2\n"
     ]
    },
    {
     "data": {
      "text/plain": [
       "<matplotlib.image.AxesImage at 0x7f8d5ecc9a58>"
      ]
     },
     "execution_count": 9,
     "metadata": {},
     "output_type": "execute_result"
    },
    {
     "data": {
      "image/png": "[encoded data removed]",
      "text/plain": [
       "<Figure size 432x288 with 1 Axes>"
      ]
     },
     "metadata": {
      "needs_background": "light"
     },
     "output_type": "display_data"
    }
   ],
   "source": [
    "image_index = 7776 # You may select anything up to 60,000\n",
    "print(train_labels[image_index]) \n",
    "plt.imshow(train_images[image_index], cmap='Greys')"
   ]
  },
  {
   "cell_type": "markdown",
   "id": "a8d2388d",
   "metadata": {
    "papermill": {
     "duration": 0.027843,
     "end_time": "2022-01-24T20:07:52.677373",
     "exception": false,
     "start_time": "2022-01-24T20:07:52.649530",
     "status": "completed"
    },
    "tags": []
   },
   "source": [
    "## Filter data to get 3 and 8 out"
   ]
  },
  {
   "cell_type": "code",
   "execution_count": 10,
   "id": "776f7fc7",
   "metadata": {
    "execution": {
     "iopub.execute_input": "2022-01-24T20:07:52.741721Z",
     "iopub.status.busy": "2022-01-24T20:07:52.735186Z",
     "iopub.status.idle": "2022-01-24T20:07:52.756331Z",
     "shell.execute_reply": "2022-01-24T20:07:52.755872Z"
    },
    "papermill": {
     "duration": 0.052376,
     "end_time": "2022-01-24T20:07:52.756458",
     "exception": false,
     "start_time": "2022-01-24T20:07:52.704082",
     "status": "completed"
    },
    "tags": []
   },
   "outputs": [],
   "source": [
    "train_filter = np.where((train_labels == 3 ) | (train_labels == 8))\n",
    "test_filter = np.where((test_labels == 3) | (test_labels == 8))\n",
    "X_train, y_train = train_images[train_filter], train_labels[train_filter]\n",
    "X_test, y_test = test_images[test_filter], test_labels[test_filter]"
   ]
  },
  {
   "cell_type": "markdown",
   "id": "948f0b7e",
   "metadata": {
    "papermill": {
     "duration": 0.026566,
     "end_time": "2022-01-24T20:07:52.809839",
     "exception": false,
     "start_time": "2022-01-24T20:07:52.783273",
     "status": "completed"
    },
    "tags": []
   },
   "source": [
    "We normalize the pizel values in the 0 to 1 range"
   ]
  },
  {
   "cell_type": "code",
   "execution_count": 11,
   "id": "ee4c2166",
   "metadata": {
    "execution": {
     "iopub.execute_input": "2022-01-24T20:07:52.870308Z",
     "iopub.status.busy": "2022-01-24T20:07:52.869766Z",
     "iopub.status.idle": "2022-01-24T20:07:52.916336Z",
     "shell.execute_reply": "2022-01-24T20:07:52.915774Z"
    },
    "papermill": {
     "duration": 0.080056,
     "end_time": "2022-01-24T20:07:52.916479",
     "exception": false,
     "start_time": "2022-01-24T20:07:52.836423",
     "status": "completed"
    },
    "tags": []
   },
   "outputs": [],
   "source": [
    "X_train = X_train/255.\n",
    "X_test = X_test/255."
   ]
  },
  {
   "cell_type": "markdown",
   "id": "ddcf4fab",
   "metadata": {
    "papermill": {
     "duration": 0.023587,
     "end_time": "2022-01-24T20:07:52.964080",
     "exception": false,
     "start_time": "2022-01-24T20:07:52.940493",
     "status": "completed"
    },
    "tags": []
   },
   "source": [
    "And setup the labels as 1 (when the digit is 3) and 0 (when the digit is 8)"
   ]
  },
  {
   "cell_type": "code",
   "execution_count": 12,
   "id": "7dc908f2",
   "metadata": {
    "execution": {
     "iopub.execute_input": "2022-01-24T20:07:53.015442Z",
     "iopub.status.busy": "2022-01-24T20:07:53.014959Z",
     "iopub.status.idle": "2022-01-24T20:07:53.027153Z",
     "shell.execute_reply": "2022-01-24T20:07:53.027522Z"
    },
    "papermill": {
     "duration": 0.039957,
     "end_time": "2022-01-24T20:07:53.027654",
     "exception": false,
     "start_time": "2022-01-24T20:07:52.987697",
     "status": "completed"
    },
    "tags": []
   },
   "outputs": [],
   "source": [
    "y_train = 1*(y_train==3)\n",
    "y_test = 1*(y_test==3)"
   ]
  },
  {
   "cell_type": "code",
   "execution_count": 13,
   "id": "01e4e969",
   "metadata": {
    "execution": {
     "iopub.execute_input": "2022-01-24T20:07:53.094086Z",
     "iopub.status.busy": "2022-01-24T20:07:53.091652Z",
     "iopub.status.idle": "2022-01-24T20:07:53.098799Z",
     "shell.execute_reply": "2022-01-24T20:07:53.098405Z"
    },
    "papermill": {
     "duration": 0.047242,
     "end_time": "2022-01-24T20:07:53.098906",
     "exception": false,
     "start_time": "2022-01-24T20:07:53.051664",
     "status": "completed"
    },
    "tags": []
   },
   "outputs": [
    {
     "data": {
      "text/plain": [
       "((11982, 28, 28), (1984, 28, 28))"
      ]
     },
     "execution_count": 13,
     "metadata": {},
     "output_type": "execute_result"
    }
   ],
   "source": [
    "X_train.shape, X_test.shape"
   ]
  },
  {
   "cell_type": "markdown",
   "id": "5ccf3f85",
   "metadata": {
    "papermill": {
     "duration": 0.023885,
     "end_time": "2022-01-24T20:07:53.146618",
     "exception": false,
     "start_time": "2022-01-24T20:07:53.122733",
     "status": "completed"
    },
    "tags": []
   },
   "source": [
    "We reshape the data to flatten the image pixels into a set of features or co-variates:"
   ]
  },
  {
   "cell_type": "code",
   "execution_count": 14,
   "id": "5286a4a3",
   "metadata": {
    "execution": {
     "iopub.execute_input": "2022-01-24T20:07:53.198148Z",
     "iopub.status.busy": "2022-01-24T20:07:53.197686Z",
     "iopub.status.idle": "2022-01-24T20:07:53.212333Z",
     "shell.execute_reply": "2022-01-24T20:07:53.211913Z"
    },
    "papermill": {
     "duration": 0.041818,
     "end_time": "2022-01-24T20:07:53.212435",
     "exception": false,
     "start_time": "2022-01-24T20:07:53.170617",
     "status": "completed"
    },
    "tags": []
   },
   "outputs": [
    {
     "data": {
      "text/plain": [
       "((11982, 784), (1984, 784))"
      ]
     },
     "execution_count": 14,
     "metadata": {},
     "output_type": "execute_result"
    }
   ],
   "source": [
    "X_train = X_train.reshape(X_train.shape[0], -1)\n",
    "X_test = X_test.reshape(X_test.shape[0], -1)\n",
    "X_train.shape, X_test.shape"
   ]
  },
  {
   "cell_type": "code",
   "execution_count": 15,
   "id": "73c5f88a",
   "metadata": {
    "execution": {
     "iopub.execute_input": "2022-01-24T20:07:53.265203Z",
     "iopub.status.busy": "2022-01-24T20:07:53.264688Z",
     "iopub.status.idle": "2022-01-24T20:07:53.283151Z",
     "shell.execute_reply": "2022-01-24T20:07:53.282772Z"
    },
    "papermill": {
     "duration": 0.046791,
     "end_time": "2022-01-24T20:07:53.283263",
     "exception": false,
     "start_time": "2022-01-24T20:07:53.236472",
     "status": "completed"
    },
    "tags": []
   },
   "outputs": [],
   "source": [
    "#Impoting functions from 'Kudzu'\n",
    "from kudzu.model import Model\n",
    "from kudzu.train import Learner\n",
    "from kudzu.optim import GD\n",
    "from kudzu.data import Data, Sampler,Dataloader\n",
    "\n",
    "from kudzu.callbacks import AccCallback\n",
    "from kudzu.callbacks import ClfCallback\n",
    "\n",
    "from kudzu.loss import MSE\n",
    "\n",
    "from kudzu.layer import Sigmoid,Relu\n",
    "from kudzu.layer import Affine"
   ]
  },
  {
   "cell_type": "markdown",
   "id": "bc01172a",
   "metadata": {
    "papermill": {
     "duration": 0.02403,
     "end_time": "2022-01-24T20:07:53.331669",
     "exception": false,
     "start_time": "2022-01-24T20:07:53.307639",
     "status": "completed"
    },
    "tags": []
   },
   "source": [
    "### Let us create a `Config` class, to store important parameters. \n",
    "This class essentially plays the role of a dictionary."
   ]
  },
  {
   "cell_type": "code",
   "execution_count": 16,
   "id": "978281aa",
   "metadata": {
    "execution": {
     "iopub.execute_input": "2022-01-24T20:07:53.383731Z",
     "iopub.status.busy": "2022-01-24T20:07:53.383269Z",
     "iopub.status.idle": "2022-01-24T20:07:53.395834Z",
     "shell.execute_reply": "2022-01-24T20:07:53.395452Z"
    },
    "papermill": {
     "duration": 0.04032,
     "end_time": "2022-01-24T20:07:53.395942",
     "exception": false,
     "start_time": "2022-01-24T20:07:53.355622",
     "status": "completed"
    },
    "tags": []
   },
   "outputs": [],
   "source": [
    "class Config:\n",
    "    pass\n",
    "config = Config()\n",
    "config.lr = 0.001\n",
    "config.num_epochs = 250\n",
    "config.bs = 50"
   ]
  },
  {
   "cell_type": "markdown",
   "id": "1385fa59",
   "metadata": {
    "papermill": {
     "duration": 0.024037,
     "end_time": "2022-01-24T20:07:53.444059",
     "exception": false,
     "start_time": "2022-01-24T20:07:53.420022",
     "status": "completed"
    },
    "tags": []
   },
   "source": [
    "### Running Models with the Training data\n",
    "Details about the network layers:\n",
    "- A first affine layer has 784 inputs and does 100 affine transforms. These are followed by a Relu\n",
    "- A second affine layer has 100 inputs from the 100 activations of the past layer, and does 100 affine transforms. These are followed by a Relu\n",
    "- A third affine layer has 100 activations and does 2 affine transformations to create an embedding for visualization. There is no non-linearity here.\n",
    "- A final \"logistic regression\" which has an affine transform from 2 inputs to 1 output, which is squeezed through a sigmoid.\n"
   ]
  },
  {
   "cell_type": "code",
   "execution_count": 17,
   "id": "2b9c66db",
   "metadata": {
    "execution": {
     "iopub.execute_input": "2022-01-24T20:07:53.510329Z",
     "iopub.status.busy": "2022-01-24T20:07:53.509818Z",
     "iopub.status.idle": "2022-01-24T20:07:53.515130Z",
     "shell.execute_reply": "2022-01-24T20:07:53.515499Z"
    },
    "papermill": {
     "duration": 0.047523,
     "end_time": "2022-01-24T20:07:53.515624",
     "exception": false,
     "start_time": "2022-01-24T20:07:53.468101",
     "status": "completed"
    },
    "tags": []
   },
   "outputs": [],
   "source": [
    "data = Data(X_train, y_train.reshape(-1,1))\n",
    "sampler = Sampler(data, config.bs, shuffle=True)\n",
    "\n",
    "dl = Dataloader(data, sampler)\n",
    "\n",
    "opt = GD(config.lr)\n",
    "loss = MSE()"
   ]
  },
  {
   "cell_type": "code",
   "execution_count": 18,
   "id": "b275e4c2",
   "metadata": {
    "execution": {
     "iopub.execute_input": "2022-01-24T20:07:53.573653Z",
     "iopub.status.busy": "2022-01-24T20:07:53.567419Z",
     "iopub.status.idle": "2022-01-24T20:07:53.581341Z",
     "shell.execute_reply": "2022-01-24T20:07:53.580913Z"
    },
    "papermill": {
     "duration": 0.041639,
     "end_time": "2022-01-24T20:07:53.581450",
     "exception": false,
     "start_time": "2022-01-24T20:07:53.539811",
     "status": "completed"
    },
    "tags": []
   },
   "outputs": [],
   "source": [
    "training_data_x = X_train\n",
    "testing_data_x = X_test\n",
    "training_data_y = y_train.reshape(-1,1)\n",
    "testing_data_y = y_test.reshape(-1,1)"
   ]
  },
  {
   "cell_type": "code",
   "execution_count": 19,
   "id": "76951160",
   "metadata": {
    "execution": {
     "iopub.execute_input": "2022-01-24T20:07:53.635112Z",
     "iopub.status.busy": "2022-01-24T20:07:53.634625Z",
     "iopub.status.idle": "2022-01-24T20:07:53.651280Z",
     "shell.execute_reply": "2022-01-24T20:07:53.650905Z"
    },
    "papermill": {
     "duration": 0.045863,
     "end_time": "2022-01-24T20:07:53.651394",
     "exception": false,
     "start_time": "2022-01-24T20:07:53.605531",
     "status": "completed"
    },
    "tags": []
   },
   "outputs": [
    {
     "name": "stdout",
     "output_type": "stream",
     "text": [
      "xavier\n",
      "xavier\n",
      "xavier\n",
      "xavier\n",
      "xavier\n"
     ]
    }
   ],
   "source": [
    "layers = [Affine(\"first\", 784, 100), Relu(\"first\"), Affine(\"second\", 100, 100), Relu(\"second\"), Affine(\"third\", 100, 2), Affine(\"last\", 2, 1), Sigmoid(\"last\")]\n",
    "model_nn = Model(layers)\n",
    "model_lr = Model([Affine(\"logits\", 784, 1), Sigmoid(\"sigmoid\")])"
   ]
  },
  {
   "cell_type": "code",
   "execution_count": 20,
   "id": "6eede77a",
   "metadata": {
    "execution": {
     "iopub.execute_input": "2022-01-24T20:07:53.706262Z",
     "iopub.status.busy": "2022-01-24T20:07:53.705746Z",
     "iopub.status.idle": "2022-01-24T20:07:53.718738Z",
     "shell.execute_reply": "2022-01-24T20:07:53.718342Z"
    },
    "papermill": {
     "duration": 0.043044,
     "end_time": "2022-01-24T20:07:53.718854",
     "exception": false,
     "start_time": "2022-01-24T20:07:53.675810",
     "status": "completed"
    },
    "tags": []
   },
   "outputs": [],
   "source": [
    "nn_learner = Learner(loss, model_nn, opt, config.num_epochs)\n",
    "acc_nn = ClfCallback(nn_learner, config.bs, training_data_x , testing_data_x, training_data_y, testing_data_y)\n",
    "nn_learner.set_callbacks([acc_nn])"
   ]
  },
  {
   "cell_type": "code",
   "execution_count": 21,
   "id": "877b6cc7",
   "metadata": {
    "execution": {
     "iopub.execute_input": "2022-01-24T20:07:53.787111Z",
     "iopub.status.busy": "2022-01-24T20:07:53.785846Z",
     "iopub.status.idle": "2022-01-24T20:07:53.789440Z",
     "shell.execute_reply": "2022-01-24T20:07:53.789033Z"
    },
    "papermill": {
     "duration": 0.046262,
     "end_time": "2022-01-24T20:07:53.789550",
     "exception": false,
     "start_time": "2022-01-24T20:07:53.743288",
     "status": "completed"
    },
    "tags": []
   },
   "outputs": [],
   "source": [
    "lr_learner = Learner(loss, model_lr, opt, config.num_epochs)\n",
    "acc_lr = ClfCallback(lr_learner, config.bs, training_data_x , testing_data_x, training_data_y, testing_data_y)\n",
    "lr_learner.set_callbacks([acc_lr])"
   ]
  },
  {
   "cell_type": "code",
   "execution_count": 22,
   "id": "d9b133c3",
   "metadata": {
    "execution": {
     "iopub.execute_input": "2022-01-24T20:07:53.847011Z",
     "iopub.status.busy": "2022-01-24T20:07:53.841923Z",
     "iopub.status.idle": "2022-01-24T20:09:13.112375Z",
     "shell.execute_reply": "2022-01-24T20:09:13.113167Z"
    },
    "papermill": {
     "duration": 79.299355,
     "end_time": "2022-01-24T20:09:13.113325",
     "exception": false,
     "start_time": "2022-01-24T20:07:53.813970",
     "status": "completed"
    },
    "tags": []
   },
   "outputs": [
    {
     "name": "stdout",
     "output_type": "stream",
     "text": [
      "Epoch 0, Loss 0.2492\n",
      "Training Accuracy: 0.5627, Testing Accuracy: 0.5428\n",
      "\n"
     ]
    },
    {
     "name": "stdout",
     "output_type": "stream",
     "text": [
      "Epoch 10, Loss 0.2043\n",
      "Training Accuracy: 0.8505, Testing Accuracy: 0.8558\n",
      "\n"
     ]
    },
    {
     "name": "stdout",
     "output_type": "stream",
     "text": [
      "Epoch 20, Loss 0.1066\n",
      "Training Accuracy: 0.9040, Testing Accuracy: 0.9189\n",
      "\n"
     ]
    },
    {
     "name": "stdout",
     "output_type": "stream",
     "text": [
      "Epoch 30, Loss 0.0639\n",
      "Training Accuracy: 0.9326, Testing Accuracy: 0.9415\n",
      "\n"
     ]
    },
    {
     "name": "stdout",
     "output_type": "stream",
     "text": [
      "Epoch 40, Loss 0.0487\n",
      "Training Accuracy: 0.9468, Testing Accuracy: 0.9531\n",
      "\n"
     ]
    },
    {
     "name": "stdout",
     "output_type": "stream",
     "text": [
      "Epoch 50, Loss 0.0412\n",
      "Training Accuracy: 0.9548, Testing Accuracy: 0.9612\n",
      "\n"
     ]
    },
    {
     "name": "stdout",
     "output_type": "stream",
     "text": [
      "Epoch 60, Loss 0.0369\n",
      "Training Accuracy: 0.9589, Testing Accuracy: 0.9662\n",
      "\n"
     ]
    },
    {
     "name": "stdout",
     "output_type": "stream",
     "text": [
      "Epoch 70, Loss 0.034\n",
      "Training Accuracy: 0.9615, Testing Accuracy: 0.9672\n",
      "\n"
     ]
    },
    {
     "name": "stdout",
     "output_type": "stream",
     "text": [
      "Epoch 80, Loss 0.032\n",
      "Training Accuracy: 0.9626, Testing Accuracy: 0.9688\n",
      "\n"
     ]
    },
    {
     "name": "stdout",
     "output_type": "stream",
     "text": [
      "Epoch 90, Loss 0.0304\n",
      "Training Accuracy: 0.9647, Testing Accuracy: 0.9682\n",
      "\n"
     ]
    },
    {
     "name": "stdout",
     "output_type": "stream",
     "text": [
      "Epoch 100, Loss 0.0291\n",
      "Training Accuracy: 0.9658, Testing Accuracy: 0.9677\n",
      "\n"
     ]
    },
    {
     "name": "stdout",
     "output_type": "stream",
     "text": [
      "Epoch 110, Loss 0.028\n",
      "Training Accuracy: 0.9670, Testing Accuracy: 0.9667\n",
      "\n"
     ]
    },
    {
     "name": "stdout",
     "output_type": "stream",
     "text": [
      "Epoch 120, Loss 0.0271\n",
      "Training Accuracy: 0.9685, Testing Accuracy: 0.9688\n",
      "\n"
     ]
    },
    {
     "name": "stdout",
     "output_type": "stream",
     "text": [
      "Epoch 130, Loss 0.0262\n",
      "Training Accuracy: 0.9690, Testing Accuracy: 0.9698\n",
      "\n"
     ]
    },
    {
     "name": "stdout",
     "output_type": "stream",
     "text": [
      "Epoch 140, Loss 0.0255\n",
      "Training Accuracy: 0.9699, Testing Accuracy: 0.9698\n",
      "\n"
     ]
    },
    {
     "name": "stdout",
     "output_type": "stream",
     "text": [
      "Epoch 150, Loss 0.0248\n",
      "Training Accuracy: 0.9708, Testing Accuracy: 0.9688\n",
      "\n"
     ]
    },
    {
     "name": "stdout",
     "output_type": "stream",
     "text": [
      "Epoch 160, Loss 0.0241\n",
      "Training Accuracy: 0.9713, Testing Accuracy: 0.9693\n",
      "\n"
     ]
    },
    {
     "name": "stdout",
     "output_type": "stream",
     "text": [
      "Epoch 170, Loss 0.0235\n",
      "Training Accuracy: 0.9723, Testing Accuracy: 0.9698\n",
      "\n"
     ]
    },
    {
     "name": "stdout",
     "output_type": "stream",
     "text": [
      "Epoch 180, Loss 0.023\n",
      "Training Accuracy: 0.9732, Testing Accuracy: 0.9698\n",
      "\n"
     ]
    },
    {
     "name": "stdout",
     "output_type": "stream",
     "text": [
      "Epoch 190, Loss 0.0225\n",
      "Training Accuracy: 0.9743, Testing Accuracy: 0.9713\n",
      "\n"
     ]
    },
    {
     "name": "stdout",
     "output_type": "stream",
     "text": [
      "Epoch 200, Loss 0.022\n",
      "Training Accuracy: 0.9749, Testing Accuracy: 0.9713\n",
      "\n"
     ]
    },
    {
     "name": "stdout",
     "output_type": "stream",
     "text": [
      "Epoch 210, Loss 0.0215\n",
      "Training Accuracy: 0.9752, Testing Accuracy: 0.9713\n",
      "\n"
     ]
    },
    {
     "name": "stdout",
     "output_type": "stream",
     "text": [
      "Epoch 220, Loss 0.0211\n",
      "Training Accuracy: 0.9761, Testing Accuracy: 0.9718\n",
      "\n"
     ]
    },
    {
     "name": "stdout",
     "output_type": "stream",
     "text": [
      "Epoch 230, Loss 0.0207\n",
      "Training Accuracy: 0.9765, Testing Accuracy: 0.9718\n",
      "\n"
     ]
    },
    {
     "name": "stdout",
     "output_type": "stream",
     "text": [
      "Epoch 240, Loss 0.0203\n",
      "Training Accuracy: 0.9766, Testing Accuracy: 0.9718\n",
      "\n"
     ]
    },
    {
     "data": {
      "text/plain": [
       "0.01623732105643963"
      ]
     },
     "execution_count": 22,
     "metadata": {},
     "output_type": "execute_result"
    }
   ],
   "source": [
    "nn_learner.train_loop(dl)"
   ]
  },
  {
   "cell_type": "code",
   "execution_count": 23,
   "id": "e0163366",
   "metadata": {
    "execution": {
     "iopub.execute_input": "2022-01-24T20:09:13.190479Z",
     "iopub.status.busy": "2022-01-24T20:09:13.189932Z",
     "iopub.status.idle": "2022-01-24T20:09:27.721337Z",
     "shell.execute_reply": "2022-01-24T20:09:27.722061Z"
    },
    "papermill": {
     "duration": 14.574252,
     "end_time": "2022-01-24T20:09:27.722218",
     "exception": false,
     "start_time": "2022-01-24T20:09:13.147966",
     "status": "completed"
    },
    "tags": []
   },
   "outputs": [
    {
     "name": "stdout",
     "output_type": "stream",
     "text": [
      "Epoch 0, Loss 0.2409\n",
      "Training Accuracy: 0.6957, Testing Accuracy: 0.6930\n",
      "\n"
     ]
    },
    {
     "name": "stdout",
     "output_type": "stream",
     "text": [
      "Epoch 10, Loss 0.1039\n",
      "Training Accuracy: 0.9084, Testing Accuracy: 0.9153\n",
      "\n"
     ]
    },
    {
     "name": "stdout",
     "output_type": "stream",
     "text": [
      "Epoch 20, Loss 0.0793\n",
      "Training Accuracy: 0.9281, Testing Accuracy: 0.9370\n",
      "\n"
     ]
    },
    {
     "name": "stdout",
     "output_type": "stream",
     "text": [
      "Epoch 30, Loss 0.0681\n",
      "Training Accuracy: 0.9368, Testing Accuracy: 0.9481\n",
      "\n"
     ]
    },
    {
     "name": "stdout",
     "output_type": "stream",
     "text": [
      "Epoch 40, Loss 0.0614\n",
      "Training Accuracy: 0.9421, Testing Accuracy: 0.9511\n",
      "\n"
     ]
    },
    {
     "name": "stdout",
     "output_type": "stream",
     "text": [
      "Epoch 50, Loss 0.0568\n",
      "Training Accuracy: 0.9456, Testing Accuracy: 0.9567\n",
      "\n"
     ]
    },
    {
     "name": "stdout",
     "output_type": "stream",
     "text": [
      "Epoch 60, Loss 0.0535\n",
      "Training Accuracy: 0.9484, Testing Accuracy: 0.9572\n",
      "\n"
     ]
    },
    {
     "name": "stdout",
     "output_type": "stream",
     "text": [
      "Epoch 70, Loss 0.051\n",
      "Training Accuracy: 0.9501, Testing Accuracy: 0.9582\n",
      "\n"
     ]
    },
    {
     "name": "stdout",
     "output_type": "stream",
     "text": [
      "Epoch 80, Loss 0.049\n",
      "Training Accuracy: 0.9508, Testing Accuracy: 0.9602\n",
      "\n"
     ]
    },
    {
     "name": "stdout",
     "output_type": "stream",
     "text": [
      "Epoch 90, Loss 0.0473\n",
      "Training Accuracy: 0.9523, Testing Accuracy: 0.9607\n",
      "\n"
     ]
    },
    {
     "name": "stdout",
     "output_type": "stream",
     "text": [
      "Epoch 100, Loss 0.0459\n",
      "Training Accuracy: 0.9531, Testing Accuracy: 0.9612\n",
      "\n"
     ]
    },
    {
     "name": "stdout",
     "output_type": "stream",
     "text": [
      "Epoch 110, Loss 0.0447\n",
      "Training Accuracy: 0.9543, Testing Accuracy: 0.9627\n",
      "\n"
     ]
    },
    {
     "name": "stdout",
     "output_type": "stream",
     "text": [
      "Epoch 120, Loss 0.0437\n",
      "Training Accuracy: 0.9554, Testing Accuracy: 0.9632\n",
      "\n"
     ]
    },
    {
     "name": "stdout",
     "output_type": "stream",
     "text": [
      "Epoch 130, Loss 0.0427\n",
      "Training Accuracy: 0.9563, Testing Accuracy: 0.9642\n",
      "\n"
     ]
    },
    {
     "name": "stdout",
     "output_type": "stream",
     "text": [
      "Epoch 140, Loss 0.0419\n",
      "Training Accuracy: 0.9569, Testing Accuracy: 0.9657\n",
      "\n"
     ]
    },
    {
     "name": "stdout",
     "output_type": "stream",
     "text": [
      "Epoch 150, Loss 0.0412\n",
      "Training Accuracy: 0.9580, Testing Accuracy: 0.9662\n",
      "\n"
     ]
    },
    {
     "name": "stdout",
     "output_type": "stream",
     "text": [
      "Epoch 160, Loss 0.0405\n",
      "Training Accuracy: 0.9588, Testing Accuracy: 0.9662\n",
      "\n"
     ]
    },
    {
     "name": "stdout",
     "output_type": "stream",
     "text": [
      "Epoch 170, Loss 0.0399\n",
      "Training Accuracy: 0.9597, Testing Accuracy: 0.9662\n",
      "\n"
     ]
    },
    {
     "name": "stdout",
     "output_type": "stream",
     "text": [
      "Epoch 180, Loss 0.0394\n",
      "Training Accuracy: 0.9603, Testing Accuracy: 0.9672\n",
      "\n"
     ]
    },
    {
     "name": "stdout",
     "output_type": "stream",
     "text": [
      "Epoch 190, Loss 0.0389\n",
      "Training Accuracy: 0.9605, Testing Accuracy: 0.9672\n",
      "\n"
     ]
    },
    {
     "name": "stdout",
     "output_type": "stream",
     "text": [
      "Epoch 200, Loss 0.0384\n",
      "Training Accuracy: 0.9607, Testing Accuracy: 0.9677\n",
      "\n"
     ]
    },
    {
     "name": "stdout",
     "output_type": "stream",
     "text": [
      "Epoch 210, Loss 0.038\n",
      "Training Accuracy: 0.9609, Testing Accuracy: 0.9677\n",
      "\n"
     ]
    },
    {
     "name": "stdout",
     "output_type": "stream",
     "text": [
      "Epoch 220, Loss 0.0376\n",
      "Training Accuracy: 0.9609, Testing Accuracy: 0.9672\n",
      "\n"
     ]
    },
    {
     "name": "stdout",
     "output_type": "stream",
     "text": [
      "Epoch 230, Loss 0.0372\n",
      "Training Accuracy: 0.9611, Testing Accuracy: 0.9677\n",
      "\n"
     ]
    },
    {
     "name": "stdout",
     "output_type": "stream",
     "text": [
      "Epoch 240, Loss 0.0368\n",
      "Training Accuracy: 0.9612, Testing Accuracy: 0.9682\n",
      "\n"
     ]
    },
    {
     "data": {
      "text/plain": [
       "0.06804878141474133"
      ]
     },
     "execution_count": 23,
     "metadata": {},
     "output_type": "execute_result"
    }
   ],
   "source": [
    "lr_learner.train_loop(dl)"
   ]
  },
  {
   "cell_type": "code",
   "execution_count": 24,
   "id": "ca410940",
   "metadata": {
    "execution": {
     "iopub.execute_input": "2022-01-24T20:09:27.818496Z",
     "iopub.status.busy": "2022-01-24T20:09:27.817911Z",
     "iopub.status.idle": "2022-01-24T20:09:28.036202Z",
     "shell.execute_reply": "2022-01-24T20:09:28.036630Z"
    },
    "papermill": {
     "duration": 0.27272,
     "end_time": "2022-01-24T20:09:28.036794",
     "exception": false,
     "start_time": "2022-01-24T20:09:27.764074",
     "status": "completed"
    },
    "tags": []
   },
   "outputs": [
    {
     "data": {
      "text/plain": [
       "<matplotlib.legend.Legend at 0x7f8d5e822fd0>"
      ]
     },
     "execution_count": 24,
     "metadata": {},
     "output_type": "execute_result"
    },
    {
     "data": {
      "image/png": "[encoded data removed]",
      "text/plain": [
       "<Figure size 1080x720 with 1 Axes>"
      ]
     },
     "metadata": {
      "needs_background": "light"
     },
     "output_type": "display_data"
    }
   ],
   "source": [
    "#comparing the results of NN and LR\n",
    "plt.figure(figsize=(15,10))\n",
    "\n",
    "# Neural Network plots\n",
    "plt.plot(acc_nn.accuracies, 'r-', label = \"Training Accuracies - NN\")\n",
    "plt.plot(acc_nn.test_accuracies, 'g-', label = \"Testing Accuracies - NN\")\n",
    "\n",
    "# Logistic Regression plots\n",
    "plt.plot(acc_lr.accuracies, 'k-', label = \"Training Accuracies - LR\")\n",
    "plt.plot(acc_lr.test_accuracies, 'b-', label = \"Testing Accuracies - LR\")\n",
    "plt.legend()"
   ]
  },
  {
   "cell_type": "markdown",
   "id": "80dfb35c",
   "metadata": {
    "papermill": {
     "duration": 0.04283,
     "end_time": "2022-01-24T20:09:28.122887",
     "exception": false,
     "start_time": "2022-01-24T20:09:28.080057",
     "status": "completed"
    },
    "tags": []
   },
   "source": [
    "#### Plotting the outputs of this layer of the NN.\n"
   ]
  },
  {
   "cell_type": "code",
   "execution_count": 25,
   "id": "45eb2ff5",
   "metadata": {
    "execution": {
     "iopub.execute_input": "2022-01-24T20:09:28.214584Z",
     "iopub.status.busy": "2022-01-24T20:09:28.213150Z",
     "iopub.status.idle": "2022-01-24T20:09:28.232524Z",
     "shell.execute_reply": "2022-01-24T20:09:28.232995Z"
    },
    "papermill": {
     "duration": 0.06787,
     "end_time": "2022-01-24T20:09:28.233145",
     "exception": false,
     "start_time": "2022-01-24T20:09:28.165275",
     "status": "completed"
    },
    "tags": []
   },
   "outputs": [],
   "source": [
    "new_model = Model(layers[:-2])\n",
    "testing_plot = new_model(testing_data_x)"
   ]
  },
  {
   "cell_type": "code",
   "execution_count": 26,
   "id": "4c0a5485",
   "metadata": {
    "execution": {
     "iopub.execute_input": "2022-01-24T20:09:28.327298Z",
     "iopub.status.busy": "2022-01-24T20:09:28.326353Z",
     "iopub.status.idle": "2022-01-24T20:09:28.503537Z",
     "shell.execute_reply": "2022-01-24T20:09:28.503989Z"
    },
    "papermill": {
     "duration": 0.22818,
     "end_time": "2022-01-24T20:09:28.504153",
     "exception": false,
     "start_time": "2022-01-24T20:09:28.275973",
     "status": "completed"
    },
    "tags": []
   },
   "outputs": [
    {
     "data": {
      "text/plain": [
       "Text(0.5, 1.0, 'Outputs')"
      ]
     },
     "execution_count": 26,
     "metadata": {},
     "output_type": "execute_result"
    },
    {
     "data": {
      "image/png": "[encoded data removed]",
      "text/plain": [
       "<Figure size 576x504 with 1 Axes>"
      ]
     },
     "metadata": {
      "needs_background": "light"
     },
     "output_type": "display_data"
    }
   ],
   "source": [
    "# Plotting the scatter plot of points and color coding by class\n",
    "plt.figure(figsize=(8,7))\n",
    "plt.scatter(testing_plot[:,0], testing_plot[:,1], alpha = 0.1, c = y_test.ravel());\n",
    "plt.title('Outputs')"
   ]
  },
  {
   "cell_type": "markdown",
   "id": "a74fcf8f",
   "metadata": {
    "papermill": {
     "duration": 0.044708,
     "end_time": "2022-01-24T20:09:28.594143",
     "exception": false,
     "start_time": "2022-01-24T20:09:28.549435",
     "status": "completed"
    },
    "tags": []
   },
   "source": [
    "Probability contours"
   ]
  },
  {
   "cell_type": "code",
   "execution_count": 27,
   "id": "d0afc8e3",
   "metadata": {
    "execution": {
     "iopub.execute_input": "2022-01-24T20:09:28.688052Z",
     "iopub.status.busy": "2022-01-24T20:09:28.687518Z",
     "iopub.status.idle": "2022-01-24T20:09:28.698893Z",
     "shell.execute_reply": "2022-01-24T20:09:28.698445Z"
    },
    "papermill": {
     "duration": 0.060273,
     "end_time": "2022-01-24T20:09:28.699007",
     "exception": false,
     "start_time": "2022-01-24T20:09:28.638734",
     "status": "completed"
    },
    "tags": []
   },
   "outputs": [],
   "source": [
    "model_prob = Model(layers[-2:]) "
   ]
  },
  {
   "cell_type": "code",
   "execution_count": 28,
   "id": "9b96e238",
   "metadata": {
    "execution": {
     "iopub.execute_input": "2022-01-24T20:09:28.831814Z",
     "iopub.status.busy": "2022-01-24T20:09:28.829976Z",
     "iopub.status.idle": "2022-01-24T20:09:28.846130Z",
     "shell.execute_reply": "2022-01-24T20:09:28.845644Z"
    },
    "papermill": {
     "duration": 0.102479,
     "end_time": "2022-01-24T20:09:28.846263",
     "exception": false,
     "start_time": "2022-01-24T20:09:28.743784",
     "status": "completed"
    },
    "tags": []
   },
   "outputs": [],
   "source": [
    "#creating the x and y ranges according to the above generated plot.\n",
    "x_range = np.linspace(-4, 1, 100) \n",
    "y_range = np.linspace(-6, 6, 100) \n",
    "x_grid, y_grid = np.meshgrid(x_range, y_range) # x_grid and y_grig are of size 100 X 100\n",
    "\n",
    "# converting x_grid and y_grid to continuous arrays\n",
    "x_gridflat = np.ravel(x_grid)\n",
    "y_gridflat = np.ravel(y_grid)\n",
    "\n",
    "# The last layer of the current model takes two columns as input. Hence transpose of np.vstack() is required.\n",
    "X = np.vstack((x_gridflat, y_gridflat)).T\n",
    "\n",
    "prob_contour = model_prob(X).reshape(100,100) "
   ]
  },
  {
   "cell_type": "code",
   "execution_count": 29,
   "id": "da72499a",
   "metadata": {
    "execution": {
     "iopub.execute_input": "2022-01-24T20:09:28.940209Z",
     "iopub.status.busy": "2022-01-24T20:09:28.939680Z",
     "iopub.status.idle": "2022-01-24T20:09:29.171288Z",
     "shell.execute_reply": "2022-01-24T20:09:29.170841Z"
    },
    "papermill": {
     "duration": 0.280071,
     "end_time": "2022-01-24T20:09:29.171401",
     "exception": false,
     "start_time": "2022-01-24T20:09:28.891330",
     "status": "completed"
    },
    "tags": []
   },
   "outputs": [
    {
     "data": {
      "image/png": "[encoded data removed]",
      "text/plain": [
       "<Figure size 720x648 with 1 Axes>"
      ]
     },
     "metadata": {
      "needs_background": "light"
     },
     "output_type": "display_data"
    }
   ],
   "source": [
    "plt.figure(figsize=(10,9))\n",
    "plt.scatter(testing_plot[:,0], testing_plot[:,1], alpha = 0.1, c = y_test.ravel())\n",
    "contours = plt.contour(x_grid,y_grid,prob_contour)\n",
    "plt.title('Probability Contours')\n",
    "plt.clabel(contours, inline = True );"
   ]
  },
  {
   "cell_type": "code",
   "execution_count": null,
   "id": "e81b4ac7",
   "metadata": {
    "papermill": {
     "duration": 0.041269,
     "end_time": "2022-01-24T20:09:29.254620",
     "exception": false,
     "start_time": "2022-01-24T20:09:29.213351",
     "status": "completed"
    },
    "tags": []
   },
   "outputs": [],
   "source": []
  }
 ],
 "metadata": {
  "kernelspec": {
   "display_name": "Python 3",
   "language": "python",
   "name": "python3"
  },
  "language_info": {
   "codemirror_mode": {
    "name": "ipython",
    "version": 3
   },
   "file_extension": ".py",
   "mimetype": "text/x-python",
   "name": "python",
   "nbconvert_exporter": "python",
   "pygments_lexer": "ipython3",
   "version": "3.6.15"
  },
  "papermill": {
   "default_parameters": {},
   "duration": 102.615757,
   "end_time": "2022-01-24T20:09:29.815263",
   "environment_variables": {},
   "exception": null,
   "input_path": "2020-08-11-part2.ipynb",
   "output_path": "2020-08-11-part2.ipynb",
   "parameters": {},
   "start_time": "2022-01-24T20:07:47.199506",
   "version": "2.3.3"
  }
 },
 "nbformat": 4,
 "nbformat_minor": 5
}