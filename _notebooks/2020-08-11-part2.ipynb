{
 "cells": [
  {
   "cell_type": "markdown",
   "id": "98380cd3",
   "metadata": {
    "papermill": {
     "duration": 0.035592,
     "end_time": "2021-09-04T20:06:58.169986",
     "exception": false,
     "start_time": "2021-09-04T20:06:58.134394",
     "status": "completed"
    },
    "tags": []
   },
   "source": [
    "# Distinguish Your Own Digits (DYOD)"
   ]
  },
  {
   "cell_type": "markdown",
   "id": "ef31240d",
   "metadata": {
    "papermill": {
     "duration": 0.027081,
     "end_time": "2021-09-04T20:06:58.224905",
     "exception": false,
     "start_time": "2021-09-04T20:06:58.197824",
     "status": "completed"
    },
    "tags": []
   },
   "source": [
    "You are going to write a classifier that distinguishes between the number 3 and number 8."
   ]
  },
  {
   "cell_type": "code",
   "execution_count": 1,
   "id": "b15c8646",
   "metadata": {
    "execution": {
     "iopub.execute_input": "2021-09-04T20:06:58.291891Z",
     "iopub.status.busy": "2021-09-04T20:06:58.291272Z",
     "iopub.status.idle": "2021-09-04T20:06:58.302842Z",
     "shell.execute_reply": "2021-09-04T20:06:58.302329Z"
    },
    "papermill": {
     "duration": 0.051786,
     "end_time": "2021-09-04T20:06:58.302979",
     "exception": false,
     "start_time": "2021-09-04T20:06:58.251193",
     "status": "completed"
    },
    "tags": []
   },
   "outputs": [],
   "source": [
    "%load_ext autoreload\n",
    "%autoreload 2"
   ]
  },
  {
   "cell_type": "code",
   "execution_count": 2,
   "id": "22ef38dc",
   "metadata": {
    "execution": {
     "iopub.execute_input": "2021-09-04T20:06:58.364033Z",
     "iopub.status.busy": "2021-09-04T20:06:58.363417Z",
     "iopub.status.idle": "2021-09-04T20:06:58.945547Z",
     "shell.execute_reply": "2021-09-04T20:06:58.945021Z"
    },
    "papermill": {
     "duration": 0.61659,
     "end_time": "2021-09-04T20:06:58.945686",
     "exception": false,
     "start_time": "2021-09-04T20:06:58.329096",
     "status": "completed"
    },
    "tags": []
   },
   "outputs": [],
   "source": [
    "%matplotlib inline\n",
    "import numpy as np\n",
    "import matplotlib.pyplot as plt\n",
    "import pandas as pd"
   ]
  },
  {
   "cell_type": "markdown",
   "id": "ba036198",
   "metadata": {
    "papermill": {
     "duration": 0.031849,
     "end_time": "2021-09-04T20:06:59.007124",
     "exception": false,
     "start_time": "2021-09-04T20:06:58.975275",
     "status": "completed"
    },
    "tags": []
   },
   "source": [
    "From the command line run `pip install mnist`. This is a library that will help you bring down the mnist dataset. If you run this from a notebook, you need to put  `!pip install mnist` in a cell by itself."
   ]
  },
  {
   "cell_type": "code",
   "execution_count": 3,
   "id": "bb6ad8a1",
   "metadata": {
    "execution": {
     "iopub.execute_input": "2021-09-04T20:06:59.072596Z",
     "iopub.status.busy": "2021-09-04T20:06:59.071983Z",
     "iopub.status.idle": "2021-09-04T20:07:01.038017Z",
     "shell.execute_reply": "2021-09-04T20:07:01.037359Z"
    },
    "papermill": {
     "duration": 1.99722,
     "end_time": "2021-09-04T20:07:01.038164",
     "exception": false,
     "start_time": "2021-09-04T20:06:59.040944",
     "status": "completed"
    },
    "tags": []
   },
   "outputs": [
    {
     "name": "stdout",
     "output_type": "stream",
     "text": [
      "Collecting mnist\r\n"
     ]
    },
    {
     "name": "stdout",
     "output_type": "stream",
     "text": [
      "  Downloading mnist-0.2.2-py2.py3-none-any.whl (3.5 kB)\r\n",
      "Requirement already satisfied: numpy in /opt/hostedtoolcache/Python/3.6.14/x64/lib/python3.6/site-packages (from mnist) (1.19.5)\r\n"
     ]
    },
    {
     "name": "stdout",
     "output_type": "stream",
     "text": [
      "Installing collected packages: mnist\r\n"
     ]
    },
    {
     "name": "stdout",
     "output_type": "stream",
     "text": [
      "Successfully installed mnist-0.2.2\r\n"
     ]
    }
   ],
   "source": [
    "!pip install mnist"
   ]
  },
  {
   "cell_type": "markdown",
   "id": "69df9c9a",
   "metadata": {
    "papermill": {
     "duration": 0.033873,
     "end_time": "2021-09-04T20:07:01.102143",
     "exception": false,
     "start_time": "2021-09-04T20:07:01.068270",
     "status": "completed"
    },
    "tags": []
   },
   "source": [
    "## Preparing the Data"
   ]
  },
  {
   "cell_type": "code",
   "execution_count": 4,
   "id": "7f69d806",
   "metadata": {
    "execution": {
     "iopub.execute_input": "2021-09-04T20:07:01.162923Z",
     "iopub.status.busy": "2021-09-04T20:07:01.162316Z",
     "iopub.status.idle": "2021-09-04T20:07:01.176681Z",
     "shell.execute_reply": "2021-09-04T20:07:01.177207Z"
    },
    "papermill": {
     "duration": 0.047394,
     "end_time": "2021-09-04T20:07:01.177347",
     "exception": false,
     "start_time": "2021-09-04T20:07:01.129953",
     "status": "completed"
    },
    "tags": []
   },
   "outputs": [],
   "source": [
    "import mnist"
   ]
  },
  {
   "cell_type": "code",
   "execution_count": 5,
   "id": "a411e44f",
   "metadata": {
    "execution": {
     "iopub.execute_input": "2021-09-04T20:07:01.244560Z",
     "iopub.status.busy": "2021-09-04T20:07:01.243935Z",
     "iopub.status.idle": "2021-09-04T20:07:02.005084Z",
     "shell.execute_reply": "2021-09-04T20:07:02.005732Z"
    },
    "papermill": {
     "duration": 0.799524,
     "end_time": "2021-09-04T20:07:02.005938",
     "exception": false,
     "start_time": "2021-09-04T20:07:01.206414",
     "status": "completed"
    },
    "tags": []
   },
   "outputs": [],
   "source": [
    "train_images = mnist.train_images()\n",
    "train_labels = mnist.train_labels()"
   ]
  },
  {
   "cell_type": "code",
   "execution_count": 6,
   "id": "dceab3a5",
   "metadata": {
    "execution": {
     "iopub.execute_input": "2021-09-04T20:07:02.072259Z",
     "iopub.status.busy": "2021-09-04T20:07:02.071674Z",
     "iopub.status.idle": "2021-09-04T20:07:02.088045Z",
     "shell.execute_reply": "2021-09-04T20:07:02.087544Z"
    },
    "papermill": {
     "duration": 0.05117,
     "end_time": "2021-09-04T20:07:02.088168",
     "exception": false,
     "start_time": "2021-09-04T20:07:02.036998",
     "status": "completed"
    },
    "tags": []
   },
   "outputs": [
    {
     "data": {
      "text/plain": [
       "((60000, 28, 28), (60000,))"
      ]
     },
     "execution_count": 6,
     "metadata": {},
     "output_type": "execute_result"
    }
   ],
   "source": [
    "train_images.shape, train_labels.shape"
   ]
  },
  {
   "cell_type": "code",
   "execution_count": 7,
   "id": "f50dc2bb",
   "metadata": {
    "execution": {
     "iopub.execute_input": "2021-09-04T20:07:02.149554Z",
     "iopub.status.busy": "2021-09-04T20:07:02.148970Z",
     "iopub.status.idle": "2021-09-04T20:07:02.432490Z",
     "shell.execute_reply": "2021-09-04T20:07:02.432990Z"
    },
    "papermill": {
     "duration": 0.31648,
     "end_time": "2021-09-04T20:07:02.433142",
     "exception": false,
     "start_time": "2021-09-04T20:07:02.116662",
     "status": "completed"
    },
    "tags": []
   },
   "outputs": [],
   "source": [
    "test_images = mnist.test_images()\n",
    "test_labels = mnist.test_labels()"
   ]
  },
  {
   "cell_type": "code",
   "execution_count": 8,
   "id": "fc38cf1b",
   "metadata": {
    "execution": {
     "iopub.execute_input": "2021-09-04T20:07:02.499871Z",
     "iopub.status.busy": "2021-09-04T20:07:02.499259Z",
     "iopub.status.idle": "2021-09-04T20:07:02.513182Z",
     "shell.execute_reply": "2021-09-04T20:07:02.512696Z"
    },
    "papermill": {
     "duration": 0.05125,
     "end_time": "2021-09-04T20:07:02.513311",
     "exception": false,
     "start_time": "2021-09-04T20:07:02.462061",
     "status": "completed"
    },
    "tags": []
   },
   "outputs": [
    {
     "data": {
      "text/plain": [
       "((10000, 28, 28), (10000,))"
      ]
     },
     "execution_count": 8,
     "metadata": {},
     "output_type": "execute_result"
    }
   ],
   "source": [
    "test_images.shape, test_labels.shape"
   ]
  },
  {
   "cell_type": "code",
   "execution_count": 9,
   "id": "f9ed8fe0",
   "metadata": {
    "execution": {
     "iopub.execute_input": "2021-09-04T20:07:02.575864Z",
     "iopub.status.busy": "2021-09-04T20:07:02.575253Z",
     "iopub.status.idle": "2021-09-04T20:07:02.747693Z",
     "shell.execute_reply": "2021-09-04T20:07:02.747161Z"
    },
    "papermill": {
     "duration": 0.205671,
     "end_time": "2021-09-04T20:07:02.747822",
     "exception": false,
     "start_time": "2021-09-04T20:07:02.542151",
     "status": "completed"
    },
    "tags": []
   },
   "outputs": [
    {
     "name": "stdout",
     "output_type": "stream",
     "text": [
      "2\n"
     ]
    },
    {
     "data": {
      "text/plain": [
       "<matplotlib.image.AxesImage at 0x7f63e7665da0>"
      ]
     },
     "execution_count": 9,
     "metadata": {},
     "output_type": "execute_result"
    },
    {
     "data": {
      "image/png": "[encoded data removed]",
      "text/plain": [
       "<Figure size 432x288 with 1 Axes>"
      ]
     },
     "metadata": {
      "needs_background": "light"
     },
     "output_type": "display_data"
    }
   ],
   "source": [
    "image_index = 7776 # You may select anything up to 60,000\n",
    "print(train_labels[image_index]) \n",
    "plt.imshow(train_images[image_index], cmap='Greys')"
   ]
  },
  {
   "cell_type": "markdown",
   "id": "a8d2388d",
   "metadata": {
    "papermill": {
     "duration": 0.030461,
     "end_time": "2021-09-04T20:07:02.808428",
     "exception": false,
     "start_time": "2021-09-04T20:07:02.777967",
     "status": "completed"
    },
    "tags": []
   },
   "source": [
    "## Filter data to get 3 and 8 out"
   ]
  },
  {
   "cell_type": "code",
   "execution_count": 10,
   "id": "776f7fc7",
   "metadata": {
    "execution": {
     "iopub.execute_input": "2021-09-04T20:07:02.881489Z",
     "iopub.status.busy": "2021-09-04T20:07:02.880876Z",
     "iopub.status.idle": "2021-09-04T20:07:02.897096Z",
     "shell.execute_reply": "2021-09-04T20:07:02.896602Z"
    },
    "papermill": {
     "duration": 0.059162,
     "end_time": "2021-09-04T20:07:02.897226",
     "exception": false,
     "start_time": "2021-09-04T20:07:02.838064",
     "status": "completed"
    },
    "tags": []
   },
   "outputs": [],
   "source": [
    "train_filter = np.where((train_labels == 3 ) | (train_labels == 8))\n",
    "test_filter = np.where((test_labels == 3) | (test_labels == 8))\n",
    "X_train, y_train = train_images[train_filter], train_labels[train_filter]\n",
    "X_test, y_test = test_images[test_filter], test_labels[test_filter]"
   ]
  },
  {
   "cell_type": "markdown",
   "id": "948f0b7e",
   "metadata": {
    "papermill": {
     "duration": 0.030218,
     "end_time": "2021-09-04T20:07:02.957676",
     "exception": false,
     "start_time": "2021-09-04T20:07:02.927458",
     "status": "completed"
    },
    "tags": []
   },
   "source": [
    "We normalize the pizel values in the 0 to 1 range"
   ]
  },
  {
   "cell_type": "code",
   "execution_count": 11,
   "id": "ee4c2166",
   "metadata": {
    "execution": {
     "iopub.execute_input": "2021-09-04T20:07:03.022729Z",
     "iopub.status.busy": "2021-09-04T20:07:03.022119Z",
     "iopub.status.idle": "2021-09-04T20:07:03.074365Z",
     "shell.execute_reply": "2021-09-04T20:07:03.074834Z"
    },
    "papermill": {
     "duration": 0.087225,
     "end_time": "2021-09-04T20:07:03.075010",
     "exception": false,
     "start_time": "2021-09-04T20:07:02.987785",
     "status": "completed"
    },
    "tags": []
   },
   "outputs": [],
   "source": [
    "X_train = X_train/255.\n",
    "X_test = X_test/255."
   ]
  },
  {
   "cell_type": "markdown",
   "id": "ddcf4fab",
   "metadata": {
    "papermill": {
     "duration": 0.030312,
     "end_time": "2021-09-04T20:07:03.135659",
     "exception": false,
     "start_time": "2021-09-04T20:07:03.105347",
     "status": "completed"
    },
    "tags": []
   },
   "source": [
    "And setup the labels as 1 (when the digit is 3) and 0 (when the digit is 8)"
   ]
  },
  {
   "cell_type": "code",
   "execution_count": 12,
   "id": "7dc908f2",
   "metadata": {
    "execution": {
     "iopub.execute_input": "2021-09-04T20:07:03.200120Z",
     "iopub.status.busy": "2021-09-04T20:07:03.199509Z",
     "iopub.status.idle": "2021-09-04T20:07:03.213799Z",
     "shell.execute_reply": "2021-09-04T20:07:03.213309Z"
    },
    "papermill": {
     "duration": 0.048046,
     "end_time": "2021-09-04T20:07:03.213931",
     "exception": false,
     "start_time": "2021-09-04T20:07:03.165885",
     "status": "completed"
    },
    "tags": []
   },
   "outputs": [],
   "source": [
    "y_train = 1*(y_train==3)\n",
    "y_test = 1*(y_test==3)"
   ]
  },
  {
   "cell_type": "code",
   "execution_count": 13,
   "id": "01e4e969",
   "metadata": {
    "execution": {
     "iopub.execute_input": "2021-09-04T20:07:03.280635Z",
     "iopub.status.busy": "2021-09-04T20:07:03.280035Z",
     "iopub.status.idle": "2021-09-04T20:07:03.294326Z",
     "shell.execute_reply": "2021-09-04T20:07:03.293844Z"
    },
    "papermill": {
     "duration": 0.050328,
     "end_time": "2021-09-04T20:07:03.294455",
     "exception": false,
     "start_time": "2021-09-04T20:07:03.244127",
     "status": "completed"
    },
    "tags": []
   },
   "outputs": [
    {
     "data": {
      "text/plain": [
       "((11982, 28, 28), (1984, 28, 28))"
      ]
     },
     "execution_count": 13,
     "metadata": {},
     "output_type": "execute_result"
    }
   ],
   "source": [
    "X_train.shape, X_test.shape"
   ]
  },
  {
   "cell_type": "markdown",
   "id": "5ccf3f85",
   "metadata": {
    "papermill": {
     "duration": 0.030425,
     "end_time": "2021-09-04T20:07:03.355035",
     "exception": false,
     "start_time": "2021-09-04T20:07:03.324610",
     "status": "completed"
    },
    "tags": []
   },
   "source": [
    "We reshape the data to flatten the image pixels into a set of features or co-variates:"
   ]
  },
  {
   "cell_type": "code",
   "execution_count": 14,
   "id": "5286a4a3",
   "metadata": {
    "execution": {
     "iopub.execute_input": "2021-09-04T20:07:03.421940Z",
     "iopub.status.busy": "2021-09-04T20:07:03.421347Z",
     "iopub.status.idle": "2021-09-04T20:07:03.439655Z",
     "shell.execute_reply": "2021-09-04T20:07:03.439173Z"
    },
    "papermill": {
     "duration": 0.05362,
     "end_time": "2021-09-04T20:07:03.439783",
     "exception": false,
     "start_time": "2021-09-04T20:07:03.386163",
     "status": "completed"
    },
    "tags": []
   },
   "outputs": [
    {
     "data": {
      "text/plain": [
       "((11982, 784), (1984, 784))"
      ]
     },
     "execution_count": 14,
     "metadata": {},
     "output_type": "execute_result"
    }
   ],
   "source": [
    "X_train = X_train.reshape(X_train.shape[0], -1)\n",
    "X_test = X_test.reshape(X_test.shape[0], -1)\n",
    "X_train.shape, X_test.shape"
   ]
  },
  {
   "cell_type": "code",
   "execution_count": 15,
   "id": "73c5f88a",
   "metadata": {
    "execution": {
     "iopub.execute_input": "2021-09-04T20:07:03.507668Z",
     "iopub.status.busy": "2021-09-04T20:07:03.507054Z",
     "iopub.status.idle": "2021-09-04T20:07:03.528038Z",
     "shell.execute_reply": "2021-09-04T20:07:03.528568Z"
    },
    "papermill": {
     "duration": 0.058433,
     "end_time": "2021-09-04T20:07:03.528725",
     "exception": false,
     "start_time": "2021-09-04T20:07:03.470292",
     "status": "completed"
    },
    "tags": []
   },
   "outputs": [],
   "source": [
    "#Impoting functions from 'Kudzu'\n",
    "from kudzu.model import Model\n",
    "from kudzu.train import Learner\n",
    "from kudzu.optim import GD\n",
    "from kudzu.data import Data, Sampler,Dataloader\n",
    "\n",
    "from kudzu.callbacks import AccCallback\n",
    "from kudzu.callbacks import ClfCallback\n",
    "\n",
    "from kudzu.loss import MSE\n",
    "\n",
    "from kudzu.layer import Sigmoid,Relu\n",
    "from kudzu.layer import Affine"
   ]
  },
  {
   "cell_type": "markdown",
   "id": "bc01172a",
   "metadata": {
    "papermill": {
     "duration": 0.030666,
     "end_time": "2021-09-04T20:07:03.590144",
     "exception": false,
     "start_time": "2021-09-04T20:07:03.559478",
     "status": "completed"
    },
    "tags": []
   },
   "source": [
    "### Let us create a `Config` class, to store important parameters. \n",
    "This class essentially plays the role of a dictionary."
   ]
  },
  {
   "cell_type": "code",
   "execution_count": 16,
   "id": "978281aa",
   "metadata": {
    "execution": {
     "iopub.execute_input": "2021-09-04T20:07:03.660524Z",
     "iopub.status.busy": "2021-09-04T20:07:03.659903Z",
     "iopub.status.idle": "2021-09-04T20:07:03.672248Z",
     "shell.execute_reply": "2021-09-04T20:07:03.671761Z"
    },
    "papermill": {
     "duration": 0.0517,
     "end_time": "2021-09-04T20:07:03.672378",
     "exception": false,
     "start_time": "2021-09-04T20:07:03.620678",
     "status": "completed"
    },
    "tags": []
   },
   "outputs": [],
   "source": [
    "class Config:\n",
    "    pass\n",
    "config = Config()\n",
    "config.lr = 0.001\n",
    "config.num_epochs = 250\n",
    "config.bs = 50"
   ]
  },
  {
   "cell_type": "markdown",
   "id": "1385fa59",
   "metadata": {
    "papermill": {
     "duration": 0.030617,
     "end_time": "2021-09-04T20:07:03.733801",
     "exception": false,
     "start_time": "2021-09-04T20:07:03.703184",
     "status": "completed"
    },
    "tags": []
   },
   "source": [
    "### Running Models with the Training data\n",
    "Details about the network layers:\n",
    "- A first affine layer has 784 inputs and does 100 affine transforms. These are followed by a Relu\n",
    "- A second affine layer has 100 inputs from the 100 activations of the past layer, and does 100 affine transforms. These are followed by a Relu\n",
    "- A third affine layer has 100 activations and does 2 affine transformations to create an embedding for visualization. There is no non-linearity here.\n",
    "- A final \"logistic regression\" which has an affine transform from 2 inputs to 1 output, which is squeezed through a sigmoid.\n"
   ]
  },
  {
   "cell_type": "code",
   "execution_count": 17,
   "id": "2b9c66db",
   "metadata": {
    "execution": {
     "iopub.execute_input": "2021-09-04T20:07:03.799587Z",
     "iopub.status.busy": "2021-09-04T20:07:03.798955Z",
     "iopub.status.idle": "2021-09-04T20:07:03.812615Z",
     "shell.execute_reply": "2021-09-04T20:07:03.813105Z"
    },
    "papermill": {
     "duration": 0.048696,
     "end_time": "2021-09-04T20:07:03.813249",
     "exception": false,
     "start_time": "2021-09-04T20:07:03.764553",
     "status": "completed"
    },
    "tags": []
   },
   "outputs": [],
   "source": [
    "data = Data(X_train, y_train.reshape(-1,1))\n",
    "sampler = Sampler(data, config.bs, shuffle=True)\n",
    "\n",
    "dl = Dataloader(data, sampler)\n",
    "\n",
    "opt = GD(config.lr)\n",
    "loss = MSE()"
   ]
  },
  {
   "cell_type": "code",
   "execution_count": 18,
   "id": "b275e4c2",
   "metadata": {
    "execution": {
     "iopub.execute_input": "2021-09-04T20:07:03.895689Z",
     "iopub.status.busy": "2021-09-04T20:07:03.894981Z",
     "iopub.status.idle": "2021-09-04T20:07:03.905566Z",
     "shell.execute_reply": "2021-09-04T20:07:03.905065Z"
    },
    "papermill": {
     "duration": 0.057122,
     "end_time": "2021-09-04T20:07:03.905704",
     "exception": false,
     "start_time": "2021-09-04T20:07:03.848582",
     "status": "completed"
    },
    "tags": []
   },
   "outputs": [],
   "source": [
    "training_data_x = X_train\n",
    "testing_data_x = X_test\n",
    "training_data_y = y_train.reshape(-1,1)\n",
    "testing_data_y = y_test.reshape(-1,1)"
   ]
  },
  {
   "cell_type": "code",
   "execution_count": 19,
   "id": "76951160",
   "metadata": {
    "execution": {
     "iopub.execute_input": "2021-09-04T20:07:03.974691Z",
     "iopub.status.busy": "2021-09-04T20:07:03.974090Z",
     "iopub.status.idle": "2021-09-04T20:07:03.991831Z",
     "shell.execute_reply": "2021-09-04T20:07:03.992281Z"
    },
    "papermill": {
     "duration": 0.056092,
     "end_time": "2021-09-04T20:07:03.992433",
     "exception": false,
     "start_time": "2021-09-04T20:07:03.936341",
     "status": "completed"
    },
    "tags": []
   },
   "outputs": [
    {
     "name": "stdout",
     "output_type": "stream",
     "text": [
      "xavier\n",
      "xavier\n",
      "xavier\n",
      "xavier\n",
      "xavier\n"
     ]
    }
   ],
   "source": [
    "layers = [Affine(\"first\", 784, 100), Relu(\"first\"), Affine(\"second\", 100, 100), Relu(\"second\"), Affine(\"third\", 100, 2), Affine(\"last\", 2, 1), Sigmoid(\"last\")]\n",
    "model_nn = Model(layers)\n",
    "model_lr = Model([Affine(\"logits\", 784, 1), Sigmoid(\"sigmoid\")])"
   ]
  },
  {
   "cell_type": "code",
   "execution_count": 20,
   "id": "6eede77a",
   "metadata": {
    "execution": {
     "iopub.execute_input": "2021-09-04T20:07:04.059272Z",
     "iopub.status.busy": "2021-09-04T20:07:04.058666Z",
     "iopub.status.idle": "2021-09-04T20:07:04.072637Z",
     "shell.execute_reply": "2021-09-04T20:07:04.072162Z"
    },
    "papermill": {
     "duration": 0.049206,
     "end_time": "2021-09-04T20:07:04.072760",
     "exception": false,
     "start_time": "2021-09-04T20:07:04.023554",
     "status": "completed"
    },
    "tags": []
   },
   "outputs": [],
   "source": [
    "nn_learner = Learner(loss, model_nn, opt, config.num_epochs)\n",
    "acc_nn = ClfCallback(nn_learner, config.bs, training_data_x , testing_data_x, training_data_y, testing_data_y)\n",
    "nn_learner.set_callbacks([acc_nn])"
   ]
  },
  {
   "cell_type": "code",
   "execution_count": 21,
   "id": "877b6cc7",
   "metadata": {
    "execution": {
     "iopub.execute_input": "2021-09-04T20:07:04.139768Z",
     "iopub.status.busy": "2021-09-04T20:07:04.139168Z",
     "iopub.status.idle": "2021-09-04T20:07:04.152476Z",
     "shell.execute_reply": "2021-09-04T20:07:04.151983Z"
    },
    "papermill": {
     "duration": 0.048997,
     "end_time": "2021-09-04T20:07:04.152604",
     "exception": false,
     "start_time": "2021-09-04T20:07:04.103607",
     "status": "completed"
    },
    "tags": []
   },
   "outputs": [],
   "source": [
    "lr_learner = Learner(loss, model_lr, opt, config.num_epochs)\n",
    "acc_lr = ClfCallback(lr_learner, config.bs, training_data_x , testing_data_x, training_data_y, testing_data_y)\n",
    "lr_learner.set_callbacks([acc_lr])"
   ]
  },
  {
   "cell_type": "code",
   "execution_count": 22,
   "id": "d9b133c3",
   "metadata": {
    "execution": {
     "iopub.execute_input": "2021-09-04T20:07:04.219037Z",
     "iopub.status.busy": "2021-09-04T20:07:04.218414Z",
     "iopub.status.idle": "2021-09-04T20:08:34.028507Z",
     "shell.execute_reply": "2021-09-04T20:08:34.029330Z"
    },
    "papermill": {
     "duration": 89.845912,
     "end_time": "2021-09-04T20:08:34.029491",
     "exception": false,
     "start_time": "2021-09-04T20:07:04.183579",
     "status": "completed"
    },
    "tags": []
   },
   "outputs": [
    {
     "name": "stdout",
     "output_type": "stream",
     "text": [
      "Epoch 0, Loss 0.2527\n",
      "Training Accuracy: 0.4751, Testing Accuracy: 0.4723\n",
      "\n"
     ]
    },
    {
     "name": "stdout",
     "output_type": "stream",
     "text": [
      "Epoch 10, Loss 0.202\n",
      "Training Accuracy: 0.8902, Testing Accuracy: 0.9037\n",
      "\n"
     ]
    },
    {
     "name": "stdout",
     "output_type": "stream",
     "text": [
      "Epoch 20, Loss 0.0935\n",
      "Training Accuracy: 0.9190, Testing Accuracy: 0.9299\n",
      "\n"
     ]
    },
    {
     "name": "stdout",
     "output_type": "stream",
     "text": [
      "Epoch 30, Loss 0.0593\n",
      "Training Accuracy: 0.9371, Testing Accuracy: 0.9491\n",
      "\n"
     ]
    },
    {
     "name": "stdout",
     "output_type": "stream",
     "text": [
      "Epoch 40, Loss 0.0471\n",
      "Training Accuracy: 0.9462, Testing Accuracy: 0.9602\n",
      "\n"
     ]
    },
    {
     "name": "stdout",
     "output_type": "stream",
     "text": [
      "Epoch 50, Loss 0.0409\n",
      "Training Accuracy: 0.9514, Testing Accuracy: 0.9657\n",
      "\n"
     ]
    },
    {
     "name": "stdout",
     "output_type": "stream",
     "text": [
      "Epoch 60, Loss 0.037\n",
      "Training Accuracy: 0.9564, Testing Accuracy: 0.9688\n",
      "\n"
     ]
    },
    {
     "name": "stdout",
     "output_type": "stream",
     "text": [
      "Epoch 70, Loss 0.0344\n",
      "Training Accuracy: 0.9607, Testing Accuracy: 0.9688\n",
      "\n"
     ]
    },
    {
     "name": "stdout",
     "output_type": "stream",
     "text": [
      "Epoch 80, Loss 0.0324\n",
      "Training Accuracy: 0.9623, Testing Accuracy: 0.9698\n",
      "\n"
     ]
    },
    {
     "name": "stdout",
     "output_type": "stream",
     "text": [
      "Epoch 90, Loss 0.0308\n",
      "Training Accuracy: 0.9643, Testing Accuracy: 0.9703\n",
      "\n"
     ]
    },
    {
     "name": "stdout",
     "output_type": "stream",
     "text": [
      "Epoch 100, Loss 0.0296\n",
      "Training Accuracy: 0.9652, Testing Accuracy: 0.9703\n",
      "\n"
     ]
    },
    {
     "name": "stdout",
     "output_type": "stream",
     "text": [
      "Epoch 110, Loss 0.0285\n",
      "Training Accuracy: 0.9666, Testing Accuracy: 0.9703\n",
      "\n"
     ]
    },
    {
     "name": "stdout",
     "output_type": "stream",
     "text": [
      "Epoch 120, Loss 0.0276\n",
      "Training Accuracy: 0.9676, Testing Accuracy: 0.9703\n",
      "\n"
     ]
    },
    {
     "name": "stdout",
     "output_type": "stream",
     "text": [
      "Epoch 130, Loss 0.0268\n",
      "Training Accuracy: 0.9685, Testing Accuracy: 0.9713\n",
      "\n"
     ]
    },
    {
     "name": "stdout",
     "output_type": "stream",
     "text": [
      "Epoch 140, Loss 0.0261\n",
      "Training Accuracy: 0.9695, Testing Accuracy: 0.9718\n",
      "\n"
     ]
    },
    {
     "name": "stdout",
     "output_type": "stream",
     "text": [
      "Epoch 150, Loss 0.0254\n",
      "Training Accuracy: 0.9700, Testing Accuracy: 0.9723\n",
      "\n"
     ]
    },
    {
     "name": "stdout",
     "output_type": "stream",
     "text": [
      "Epoch 160, Loss 0.0248\n",
      "Training Accuracy: 0.9707, Testing Accuracy: 0.9723\n",
      "\n"
     ]
    },
    {
     "name": "stdout",
     "output_type": "stream",
     "text": [
      "Epoch 170, Loss 0.0243\n",
      "Training Accuracy: 0.9713, Testing Accuracy: 0.9713\n",
      "\n"
     ]
    },
    {
     "name": "stdout",
     "output_type": "stream",
     "text": [
      "Epoch 180, Loss 0.0237\n",
      "Training Accuracy: 0.9719, Testing Accuracy: 0.9708\n",
      "\n"
     ]
    },
    {
     "name": "stdout",
     "output_type": "stream",
     "text": [
      "Epoch 190, Loss 0.0232\n",
      "Training Accuracy: 0.9722, Testing Accuracy: 0.9703\n",
      "\n"
     ]
    },
    {
     "name": "stdout",
     "output_type": "stream",
     "text": [
      "Epoch 200, Loss 0.0228\n",
      "Training Accuracy: 0.9730, Testing Accuracy: 0.9708\n",
      "\n"
     ]
    },
    {
     "name": "stdout",
     "output_type": "stream",
     "text": [
      "Epoch 210, Loss 0.0223\n",
      "Training Accuracy: 0.9736, Testing Accuracy: 0.9713\n",
      "\n"
     ]
    },
    {
     "name": "stdout",
     "output_type": "stream",
     "text": [
      "Epoch 220, Loss 0.0219\n",
      "Training Accuracy: 0.9742, Testing Accuracy: 0.9713\n",
      "\n"
     ]
    },
    {
     "name": "stdout",
     "output_type": "stream",
     "text": [
      "Epoch 230, Loss 0.0215\n",
      "Training Accuracy: 0.9750, Testing Accuracy: 0.9708\n",
      "\n"
     ]
    },
    {
     "name": "stdout",
     "output_type": "stream",
     "text": [
      "Epoch 240, Loss 0.0211\n",
      "Training Accuracy: 0.9756, Testing Accuracy: 0.9708\n",
      "\n"
     ]
    },
    {
     "data": {
      "text/plain": [
       "0.025305028320304932"
      ]
     },
     "execution_count": 22,
     "metadata": {},
     "output_type": "execute_result"
    }
   ],
   "source": [
    "nn_learner.train_loop(dl)"
   ]
  },
  {
   "cell_type": "code",
   "execution_count": 23,
   "id": "e0163366",
   "metadata": {
    "execution": {
     "iopub.execute_input": "2021-09-04T20:08:34.120586Z",
     "iopub.status.busy": "2021-09-04T20:08:34.119982Z",
     "iopub.status.idle": "2021-09-04T20:08:50.099021Z",
     "shell.execute_reply": "2021-09-04T20:08:50.099832Z"
    },
    "papermill": {
     "duration": 16.031008,
     "end_time": "2021-09-04T20:08:50.099992",
     "exception": false,
     "start_time": "2021-09-04T20:08:34.068984",
     "status": "completed"
    },
    "tags": []
   },
   "outputs": [
    {
     "name": "stdout",
     "output_type": "stream",
     "text": [
      "Epoch 0, Loss 0.2494\n",
      "Training Accuracy: 0.6437, Testing Accuracy: 0.6195\n",
      "\n"
     ]
    },
    {
     "name": "stdout",
     "output_type": "stream",
     "text": [
      "Epoch 10, Loss 0.1063\n",
      "Training Accuracy: 0.9008, Testing Accuracy: 0.9042\n",
      "\n"
     ]
    },
    {
     "name": "stdout",
     "output_type": "stream",
     "text": [
      "Epoch 20, Loss 0.0807\n",
      "Training Accuracy: 0.9241, Testing Accuracy: 0.9304\n",
      "\n"
     ]
    },
    {
     "name": "stdout",
     "output_type": "stream",
     "text": [
      "Epoch 30, Loss 0.0691\n",
      "Training Accuracy: 0.9357, Testing Accuracy: 0.9410\n",
      "\n"
     ]
    },
    {
     "name": "stdout",
     "output_type": "stream",
     "text": [
      "Epoch 40, Loss 0.0622\n",
      "Training Accuracy: 0.9410, Testing Accuracy: 0.9501\n",
      "\n"
     ]
    },
    {
     "name": "stdout",
     "output_type": "stream",
     "text": [
      "Epoch 50, Loss 0.0575\n",
      "Training Accuracy: 0.9443, Testing Accuracy: 0.9526\n",
      "\n"
     ]
    },
    {
     "name": "stdout",
     "output_type": "stream",
     "text": [
      "Epoch 60, Loss 0.0541\n",
      "Training Accuracy: 0.9469, Testing Accuracy: 0.9541\n",
      "\n"
     ]
    },
    {
     "name": "stdout",
     "output_type": "stream",
     "text": [
      "Epoch 70, Loss 0.0515\n",
      "Training Accuracy: 0.9495, Testing Accuracy: 0.9572\n",
      "\n"
     ]
    },
    {
     "name": "stdout",
     "output_type": "stream",
     "text": [
      "Epoch 80, Loss 0.0494\n",
      "Training Accuracy: 0.9515, Testing Accuracy: 0.9577\n",
      "\n"
     ]
    },
    {
     "name": "stdout",
     "output_type": "stream",
     "text": [
      "Epoch 90, Loss 0.0476\n",
      "Training Accuracy: 0.9525, Testing Accuracy: 0.9587\n",
      "\n"
     ]
    },
    {
     "name": "stdout",
     "output_type": "stream",
     "text": [
      "Epoch 100, Loss 0.0462\n",
      "Training Accuracy: 0.9533, Testing Accuracy: 0.9607\n",
      "\n"
     ]
    },
    {
     "name": "stdout",
     "output_type": "stream",
     "text": [
      "Epoch 110, Loss 0.0449\n",
      "Training Accuracy: 0.9543, Testing Accuracy: 0.9617\n",
      "\n"
     ]
    },
    {
     "name": "stdout",
     "output_type": "stream",
     "text": [
      "Epoch 120, Loss 0.0439\n",
      "Training Accuracy: 0.9553, Testing Accuracy: 0.9637\n",
      "\n"
     ]
    },
    {
     "name": "stdout",
     "output_type": "stream",
     "text": [
      "Epoch 130, Loss 0.0429\n",
      "Training Accuracy: 0.9566, Testing Accuracy: 0.9642\n",
      "\n"
     ]
    },
    {
     "name": "stdout",
     "output_type": "stream",
     "text": [
      "Epoch 140, Loss 0.0421\n",
      "Training Accuracy: 0.9575, Testing Accuracy: 0.9642\n",
      "\n"
     ]
    },
    {
     "name": "stdout",
     "output_type": "stream",
     "text": [
      "Epoch 150, Loss 0.0413\n",
      "Training Accuracy: 0.9582, Testing Accuracy: 0.9652\n",
      "\n"
     ]
    },
    {
     "name": "stdout",
     "output_type": "stream",
     "text": [
      "Epoch 160, Loss 0.0406\n",
      "Training Accuracy: 0.9587, Testing Accuracy: 0.9652\n",
      "\n"
     ]
    },
    {
     "name": "stdout",
     "output_type": "stream",
     "text": [
      "Epoch 170, Loss 0.04\n",
      "Training Accuracy: 0.9589, Testing Accuracy: 0.9657\n",
      "\n"
     ]
    },
    {
     "name": "stdout",
     "output_type": "stream",
     "text": [
      "Epoch 180, Loss 0.0394\n",
      "Training Accuracy: 0.9593, Testing Accuracy: 0.9662\n",
      "\n"
     ]
    },
    {
     "name": "stdout",
     "output_type": "stream",
     "text": [
      "Epoch 190, Loss 0.0389\n",
      "Training Accuracy: 0.9595, Testing Accuracy: 0.9667\n",
      "\n"
     ]
    },
    {
     "name": "stdout",
     "output_type": "stream",
     "text": [
      "Epoch 200, Loss 0.0384\n",
      "Training Accuracy: 0.9602, Testing Accuracy: 0.9667\n",
      "\n"
     ]
    },
    {
     "name": "stdout",
     "output_type": "stream",
     "text": [
      "Epoch 210, Loss 0.038\n",
      "Training Accuracy: 0.9606, Testing Accuracy: 0.9667\n",
      "\n"
     ]
    },
    {
     "name": "stdout",
     "output_type": "stream",
     "text": [
      "Epoch 220, Loss 0.0376\n",
      "Training Accuracy: 0.9607, Testing Accuracy: 0.9672\n",
      "\n"
     ]
    },
    {
     "name": "stdout",
     "output_type": "stream",
     "text": [
      "Epoch 230, Loss 0.0372\n",
      "Training Accuracy: 0.9611, Testing Accuracy: 0.9677\n",
      "\n"
     ]
    },
    {
     "name": "stdout",
     "output_type": "stream",
     "text": [
      "Epoch 240, Loss 0.0368\n",
      "Training Accuracy: 0.9612, Testing Accuracy: 0.9677\n",
      "\n"
     ]
    },
    {
     "data": {
      "text/plain": [
       "0.012775550611655855"
      ]
     },
     "execution_count": 23,
     "metadata": {},
     "output_type": "execute_result"
    }
   ],
   "source": [
    "lr_learner.train_loop(dl)"
   ]
  },
  {
   "cell_type": "code",
   "execution_count": 24,
   "id": "ca410940",
   "metadata": {
    "execution": {
     "iopub.execute_input": "2021-09-04T20:08:50.208639Z",
     "iopub.status.busy": "2021-09-04T20:08:50.208022Z",
     "iopub.status.idle": "2021-09-04T20:08:50.461023Z",
     "shell.execute_reply": "2021-09-04T20:08:50.461682Z"
    },
    "papermill": {
     "duration": 0.314661,
     "end_time": "2021-09-04T20:08:50.461890",
     "exception": false,
     "start_time": "2021-09-04T20:08:50.147229",
     "status": "completed"
    },
    "tags": []
   },
   "outputs": [
    {
     "data": {
      "text/plain": [
       "<matplotlib.legend.Legend at 0x7f63e7244e48>"
      ]
     },
     "execution_count": 24,
     "metadata": {},
     "output_type": "execute_result"
    },
    {
     "data": {
      "image/png": "[encoded data removed]",
      "text/plain": [
       "<Figure size 1080x720 with 1 Axes>"
      ]
     },
     "metadata": {
      "needs_background": "light"
     },
     "output_type": "display_data"
    }
   ],
   "source": [
    "#comparing the results of NN and LR\n",
    "plt.figure(figsize=(15,10))\n",
    "\n",
    "# Neural Network plots\n",
    "plt.plot(acc_nn.accuracies, 'r-', label = \"Training Accuracies - NN\")\n",
    "plt.plot(acc_nn.test_accuracies, 'g-', label = \"Testing Accuracies - NN\")\n",
    "\n",
    "# Logistic Regression plots\n",
    "plt.plot(acc_lr.accuracies, 'k-', label = \"Training Accuracies - LR\")\n",
    "plt.plot(acc_lr.test_accuracies, 'b-', label = \"Testing Accuracies - LR\")\n",
    "plt.legend()"
   ]
  },
  {
   "cell_type": "markdown",
   "id": "80dfb35c",
   "metadata": {
    "papermill": {
     "duration": 0.047736,
     "end_time": "2021-09-04T20:08:50.558207",
     "exception": false,
     "start_time": "2021-09-04T20:08:50.510471",
     "status": "completed"
    },
    "tags": []
   },
   "source": [
    "#### Plotting the outputs of this layer of the NN.\n"
   ]
  },
  {
   "cell_type": "code",
   "execution_count": 25,
   "id": "45eb2ff5",
   "metadata": {
    "execution": {
     "iopub.execute_input": "2021-09-04T20:08:50.663693Z",
     "iopub.status.busy": "2021-09-04T20:08:50.656313Z",
     "iopub.status.idle": "2021-09-04T20:08:50.679893Z",
     "shell.execute_reply": "2021-09-04T20:08:50.680413Z"
    },
    "papermill": {
     "duration": 0.075142,
     "end_time": "2021-09-04T20:08:50.680567",
     "exception": false,
     "start_time": "2021-09-04T20:08:50.605425",
     "status": "completed"
    },
    "tags": []
   },
   "outputs": [],
   "source": [
    "new_model = Model(layers[:-2])\n",
    "testing_plot = new_model(testing_data_x)"
   ]
  },
  {
   "cell_type": "code",
   "execution_count": 26,
   "id": "4c0a5485",
   "metadata": {
    "execution": {
     "iopub.execute_input": "2021-09-04T20:08:50.797095Z",
     "iopub.status.busy": "2021-09-04T20:08:50.796487Z",
     "iopub.status.idle": "2021-09-04T20:08:51.014836Z",
     "shell.execute_reply": "2021-09-04T20:08:51.014291Z"
    },
    "papermill": {
     "duration": 0.276334,
     "end_time": "2021-09-04T20:08:51.014971",
     "exception": false,
     "start_time": "2021-09-04T20:08:50.738637",
     "status": "completed"
    },
    "tags": []
   },
   "outputs": [
    {
     "data": {
      "text/plain": [
       "Text(0.5, 1.0, 'Outputs')"
      ]
     },
     "execution_count": 26,
     "metadata": {},
     "output_type": "execute_result"
    },
    {
     "data": {
      "image/png": "[encoded data removed]",
      "text/plain": [
       "<Figure size 576x504 with 1 Axes>"
      ]
     },
     "metadata": {
      "needs_background": "light"
     },
     "output_type": "display_data"
    }
   ],
   "source": [
    "# Plotting the scatter plot of points and color coding by class\n",
    "plt.figure(figsize=(8,7))\n",
    "plt.scatter(testing_plot[:,0], testing_plot[:,1], alpha = 0.1, c = y_test.ravel());\n",
    "plt.title('Outputs')"
   ]
  },
  {
   "cell_type": "markdown",
   "id": "a74fcf8f",
   "metadata": {
    "papermill": {
     "duration": 0.050746,
     "end_time": "2021-09-04T20:08:51.116752",
     "exception": false,
     "start_time": "2021-09-04T20:08:51.066006",
     "status": "completed"
    },
    "tags": []
   },
   "source": [
    "Probability contours"
   ]
  },
  {
   "cell_type": "code",
   "execution_count": 27,
   "id": "d0afc8e3",
   "metadata": {
    "execution": {
     "iopub.execute_input": "2021-09-04T20:08:51.223968Z",
     "iopub.status.busy": "2021-09-04T20:08:51.223360Z",
     "iopub.status.idle": "2021-09-04T20:08:51.236035Z",
     "shell.execute_reply": "2021-09-04T20:08:51.235560Z"
    },
    "papermill": {
     "duration": 0.069106,
     "end_time": "2021-09-04T20:08:51.236160",
     "exception": false,
     "start_time": "2021-09-04T20:08:51.167054",
     "status": "completed"
    },
    "tags": []
   },
   "outputs": [],
   "source": [
    "model_prob = Model(layers[-2:]) "
   ]
  },
  {
   "cell_type": "code",
   "execution_count": 28,
   "id": "9b96e238",
   "metadata": {
    "execution": {
     "iopub.execute_input": "2021-09-04T20:08:51.341195Z",
     "iopub.status.busy": "2021-09-04T20:08:51.340101Z",
     "iopub.status.idle": "2021-09-04T20:08:51.355925Z",
     "shell.execute_reply": "2021-09-04T20:08:51.356495Z"
    },
    "papermill": {
     "duration": 0.071129,
     "end_time": "2021-09-04T20:08:51.356647",
     "exception": false,
     "start_time": "2021-09-04T20:08:51.285518",
     "status": "completed"
    },
    "tags": []
   },
   "outputs": [],
   "source": [
    "#creating the x and y ranges according to the above generated plot.\n",
    "x_range = np.linspace(-4, 1, 100) \n",
    "y_range = np.linspace(-6, 6, 100) \n",
    "x_grid, y_grid = np.meshgrid(x_range, y_range) # x_grid and y_grig are of size 100 X 100\n",
    "\n",
    "# converting x_grid and y_grid to continuous arrays\n",
    "x_gridflat = np.ravel(x_grid)\n",
    "y_gridflat = np.ravel(y_grid)\n",
    "\n",
    "# The last layer of the current model takes two columns as input. Hence transpose of np.vstack() is required.\n",
    "X = np.vstack((x_gridflat, y_gridflat)).T\n",
    "\n",
    "prob_contour = model_prob(X).reshape(100,100) "
   ]
  },
  {
   "cell_type": "code",
   "execution_count": 29,
   "id": "da72499a",
   "metadata": {
    "execution": {
     "iopub.execute_input": "2021-09-04T20:08:51.500367Z",
     "iopub.status.busy": "2021-09-04T20:08:51.499771Z",
     "iopub.status.idle": "2021-09-04T20:08:51.782472Z",
     "shell.execute_reply": "2021-09-04T20:08:51.781864Z"
    },
    "papermill": {
     "duration": 0.34456,
     "end_time": "2021-09-04T20:08:51.782602",
     "exception": false,
     "start_time": "2021-09-04T20:08:51.438042",
     "status": "completed"
    },
    "tags": []
   },
   "outputs": [
    {
     "data": {
      "image/png": "[encoded data removed]",
      "text/plain": [
       "<Figure size 720x648 with 1 Axes>"
      ]
     },
     "metadata": {
      "needs_background": "light"
     },
     "output_type": "display_data"
    }
   ],
   "source": [
    "plt.figure(figsize=(10,9))\n",
    "plt.scatter(testing_plot[:,0], testing_plot[:,1], alpha = 0.1, c = y_test.ravel())\n",
    "contours = plt.contour(x_grid,y_grid,prob_contour)\n",
    "plt.title('Probability Contours')\n",
    "plt.clabel(contours, inline = True );"
   ]
  },
  {
   "cell_type": "code",
   "execution_count": null,
   "id": "e81b4ac7",
   "metadata": {
    "papermill": {
     "duration": 0.053561,
     "end_time": "2021-09-04T20:08:51.889857",
     "exception": false,
     "start_time": "2021-09-04T20:08:51.836296",
     "status": "completed"
    },
    "tags": []
   },
   "outputs": [],
   "source": []
  }
 ],
 "metadata": {
  "kernelspec": {
   "display_name": "Python 3",
   "language": "python",
   "name": "python3"
  },
  "language_info": {
   "codemirror_mode": {
    "name": "ipython",
    "version": 3
   },
   "file_extension": ".py",
   "mimetype": "text/x-python",
   "name": "python",
   "nbconvert_exporter": "python",
   "pygments_lexer": "ipython3",
   "version": "3.6.14"
  },
  "papermill": {
   "default_parameters": {},
   "duration": 115.290632,
   "end_time": "2021-09-04T20:08:52.352321",
   "environment_variables": {},
   "exception": null,
   "input_path": "2020-08-11-part2.ipynb",
   "output_path": "2020-08-11-part2.ipynb",
   "parameters": {},
   "start_time": "2021-09-04T20:06:57.061689",
   "version": "2.3.3"
  }
 },
 "nbformat": 4,
 "nbformat_minor": 5
}