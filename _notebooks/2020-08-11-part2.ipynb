{
 "cells": [
  {
   "cell_type": "markdown",
   "id": "98380cd3",
   "metadata": {
    "papermill": {
     "duration": 0.03641,
     "end_time": "2021-12-01T00:24:37.556207",
     "exception": false,
     "start_time": "2021-12-01T00:24:37.519797",
     "status": "completed"
    },
    "tags": []
   },
   "source": [
    "# Distinguish Your Own Digits (DYOD)"
   ]
  },
  {
   "cell_type": "markdown",
   "id": "ef31240d",
   "metadata": {
    "papermill": {
     "duration": 0.028232,
     "end_time": "2021-12-01T00:24:37.613905",
     "exception": false,
     "start_time": "2021-12-01T00:24:37.585673",
     "status": "completed"
    },
    "tags": []
   },
   "source": [
    "You are going to write a classifier that distinguishes between the number 3 and number 8."
   ]
  },
  {
   "cell_type": "code",
   "execution_count": 1,
   "id": "b15c8646",
   "metadata": {
    "execution": {
     "iopub.execute_input": "2021-12-01T00:24:37.683385Z",
     "iopub.status.busy": "2021-12-01T00:24:37.682710Z",
     "iopub.status.idle": "2021-12-01T00:24:37.694667Z",
     "shell.execute_reply": "2021-12-01T00:24:37.694111Z"
    },
    "papermill": {
     "duration": 0.053131,
     "end_time": "2021-12-01T00:24:37.694824",
     "exception": false,
     "start_time": "2021-12-01T00:24:37.641693",
     "status": "completed"
    },
    "tags": []
   },
   "outputs": [],
   "source": [
    "%load_ext autoreload\n",
    "%autoreload 2"
   ]
  },
  {
   "cell_type": "code",
   "execution_count": 2,
   "id": "22ef38dc",
   "metadata": {
    "execution": {
     "iopub.execute_input": "2021-12-01T00:24:37.759248Z",
     "iopub.status.busy": "2021-12-01T00:24:37.758607Z",
     "iopub.status.idle": "2021-12-01T00:24:38.497242Z",
     "shell.execute_reply": "2021-12-01T00:24:38.496651Z"
    },
    "papermill": {
     "duration": 0.774541,
     "end_time": "2021-12-01T00:24:38.497376",
     "exception": false,
     "start_time": "2021-12-01T00:24:37.722835",
     "status": "completed"
    },
    "tags": []
   },
   "outputs": [],
   "source": [
    "%matplotlib inline\n",
    "import numpy as np\n",
    "import matplotlib.pyplot as plt\n",
    "import pandas as pd"
   ]
  },
  {
   "cell_type": "markdown",
   "id": "ba036198",
   "metadata": {
    "papermill": {
     "duration": 0.028938,
     "end_time": "2021-12-01T00:24:38.554810",
     "exception": false,
     "start_time": "2021-12-01T00:24:38.525872",
     "status": "completed"
    },
    "tags": []
   },
   "source": [
    "From the command line run `pip install mnist`. This is a library that will help you bring down the mnist dataset. If you run this from a notebook, you need to put  `!pip install mnist` in a cell by itself."
   ]
  },
  {
   "cell_type": "code",
   "execution_count": 3,
   "id": "bb6ad8a1",
   "metadata": {
    "execution": {
     "iopub.execute_input": "2021-12-01T00:24:38.623956Z",
     "iopub.status.busy": "2021-12-01T00:24:38.623295Z",
     "iopub.status.idle": "2021-12-01T00:24:40.621235Z",
     "shell.execute_reply": "2021-12-01T00:24:40.620586Z"
    },
    "papermill": {
     "duration": 2.03828,
     "end_time": "2021-12-01T00:24:40.621366",
     "exception": false,
     "start_time": "2021-12-01T00:24:38.583086",
     "status": "completed"
    },
    "tags": []
   },
   "outputs": [
    {
     "name": "stdout",
     "output_type": "stream",
     "text": [
      "Collecting mnist\r\n"
     ]
    },
    {
     "name": "stdout",
     "output_type": "stream",
     "text": [
      "  Downloading mnist-0.2.2-py2.py3-none-any.whl (3.5 kB)\r\n",
      "Requirement already satisfied: numpy in /opt/hostedtoolcache/Python/3.6.15/x64/lib/python3.6/site-packages (from mnist) (1.19.5)\r\n"
     ]
    },
    {
     "name": "stdout",
     "output_type": "stream",
     "text": [
      "Installing collected packages: mnist\r\n"
     ]
    },
    {
     "name": "stdout",
     "output_type": "stream",
     "text": [
      "Successfully installed mnist-0.2.2\r\n"
     ]
    }
   ],
   "source": [
    "!pip install mnist"
   ]
  },
  {
   "cell_type": "markdown",
   "id": "69df9c9a",
   "metadata": {
    "papermill": {
     "duration": 0.029002,
     "end_time": "2021-12-01T00:24:40.679512",
     "exception": false,
     "start_time": "2021-12-01T00:24:40.650510",
     "status": "completed"
    },
    "tags": []
   },
   "source": [
    "## Preparing the Data"
   ]
  },
  {
   "cell_type": "code",
   "execution_count": 4,
   "id": "7f69d806",
   "metadata": {
    "execution": {
     "iopub.execute_input": "2021-12-01T00:24:40.743099Z",
     "iopub.status.busy": "2021-12-01T00:24:40.742493Z",
     "iopub.status.idle": "2021-12-01T00:24:40.759598Z",
     "shell.execute_reply": "2021-12-01T00:24:40.760281Z"
    },
    "papermill": {
     "duration": 0.051833,
     "end_time": "2021-12-01T00:24:40.760442",
     "exception": false,
     "start_time": "2021-12-01T00:24:40.708609",
     "status": "completed"
    },
    "tags": []
   },
   "outputs": [],
   "source": [
    "import mnist"
   ]
  },
  {
   "cell_type": "code",
   "execution_count": 5,
   "id": "a411e44f",
   "metadata": {
    "execution": {
     "iopub.execute_input": "2021-12-01T00:24:40.822142Z",
     "iopub.status.busy": "2021-12-01T00:24:40.821520Z",
     "iopub.status.idle": "2021-12-01T00:24:41.356181Z",
     "shell.execute_reply": "2021-12-01T00:24:41.355640Z"
    },
    "papermill": {
     "duration": 0.566739,
     "end_time": "2021-12-01T00:24:41.356322",
     "exception": false,
     "start_time": "2021-12-01T00:24:40.789583",
     "status": "completed"
    },
    "tags": []
   },
   "outputs": [],
   "source": [
    "train_images = mnist.train_images()\n",
    "train_labels = mnist.train_labels()"
   ]
  },
  {
   "cell_type": "code",
   "execution_count": 6,
   "id": "dceab3a5",
   "metadata": {
    "execution": {
     "iopub.execute_input": "2021-12-01T00:24:41.418837Z",
     "iopub.status.busy": "2021-12-01T00:24:41.418218Z",
     "iopub.status.idle": "2021-12-01T00:24:41.436853Z",
     "shell.execute_reply": "2021-12-01T00:24:41.437356Z"
    },
    "papermill": {
     "duration": 0.052082,
     "end_time": "2021-12-01T00:24:41.437490",
     "exception": false,
     "start_time": "2021-12-01T00:24:41.385408",
     "status": "completed"
    },
    "tags": []
   },
   "outputs": [
    {
     "data": {
      "text/plain": [
       "((60000, 28, 28), (60000,))"
      ]
     },
     "execution_count": 6,
     "metadata": {},
     "output_type": "execute_result"
    }
   ],
   "source": [
    "train_images.shape, train_labels.shape"
   ]
  },
  {
   "cell_type": "code",
   "execution_count": 7,
   "id": "f50dc2bb",
   "metadata": {
    "execution": {
     "iopub.execute_input": "2021-12-01T00:24:41.500610Z",
     "iopub.status.busy": "2021-12-01T00:24:41.500014Z",
     "iopub.status.idle": "2021-12-01T00:24:41.643006Z",
     "shell.execute_reply": "2021-12-01T00:24:41.641926Z"
    },
    "papermill": {
     "duration": 0.176677,
     "end_time": "2021-12-01T00:24:41.643157",
     "exception": false,
     "start_time": "2021-12-01T00:24:41.466480",
     "status": "completed"
    },
    "tags": []
   },
   "outputs": [],
   "source": [
    "test_images = mnist.test_images()\n",
    "test_labels = mnist.test_labels()"
   ]
  },
  {
   "cell_type": "code",
   "execution_count": 8,
   "id": "fc38cf1b",
   "metadata": {
    "execution": {
     "iopub.execute_input": "2021-12-01T00:24:41.708467Z",
     "iopub.status.busy": "2021-12-01T00:24:41.707851Z",
     "iopub.status.idle": "2021-12-01T00:24:41.722511Z",
     "shell.execute_reply": "2021-12-01T00:24:41.721763Z"
    },
    "papermill": {
     "duration": 0.048548,
     "end_time": "2021-12-01T00:24:41.722700",
     "exception": false,
     "start_time": "2021-12-01T00:24:41.674152",
     "status": "completed"
    },
    "tags": []
   },
   "outputs": [
    {
     "data": {
      "text/plain": [
       "((10000, 28, 28), (10000,))"
      ]
     },
     "execution_count": 8,
     "metadata": {},
     "output_type": "execute_result"
    }
   ],
   "source": [
    "test_images.shape, test_labels.shape"
   ]
  },
  {
   "cell_type": "code",
   "execution_count": 9,
   "id": "f9ed8fe0",
   "metadata": {
    "execution": {
     "iopub.execute_input": "2021-12-01T00:24:41.787897Z",
     "iopub.status.busy": "2021-12-01T00:24:41.787282Z",
     "iopub.status.idle": "2021-12-01T00:24:41.957175Z",
     "shell.execute_reply": "2021-12-01T00:24:41.957666Z"
    },
    "papermill": {
     "duration": 0.204083,
     "end_time": "2021-12-01T00:24:41.957827",
     "exception": false,
     "start_time": "2021-12-01T00:24:41.753744",
     "status": "completed"
    },
    "tags": []
   },
   "outputs": [
    {
     "name": "stdout",
     "output_type": "stream",
     "text": [
      "2\n"
     ]
    },
    {
     "data": {
      "text/plain": [
       "<matplotlib.image.AxesImage at 0x7fd75a2b94a8>"
      ]
     },
     "execution_count": 9,
     "metadata": {},
     "output_type": "execute_result"
    },
    {
     "data": {
      "image/png": "[encoded data removed]",
      "text/plain": [
       "<Figure size 432x288 with 1 Axes>"
      ]
     },
     "metadata": {
      "needs_background": "light"
     },
     "output_type": "display_data"
    }
   ],
   "source": [
    "image_index = 7776 # You may select anything up to 60,000\n",
    "print(train_labels[image_index]) \n",
    "plt.imshow(train_images[image_index], cmap='Greys')"
   ]
  },
  {
   "cell_type": "markdown",
   "id": "a8d2388d",
   "metadata": {
    "papermill": {
     "duration": 0.031126,
     "end_time": "2021-12-01T00:24:42.020043",
     "exception": false,
     "start_time": "2021-12-01T00:24:41.988917",
     "status": "completed"
    },
    "tags": []
   },
   "source": [
    "## Filter data to get 3 and 8 out"
   ]
  },
  {
   "cell_type": "code",
   "execution_count": 10,
   "id": "776f7fc7",
   "metadata": {
    "execution": {
     "iopub.execute_input": "2021-12-01T00:24:42.087263Z",
     "iopub.status.busy": "2021-12-01T00:24:42.086645Z",
     "iopub.status.idle": "2021-12-01T00:24:42.107761Z",
     "shell.execute_reply": "2021-12-01T00:24:42.107240Z"
    },
    "papermill": {
     "duration": 0.057013,
     "end_time": "2021-12-01T00:24:42.107897",
     "exception": false,
     "start_time": "2021-12-01T00:24:42.050884",
     "status": "completed"
    },
    "tags": []
   },
   "outputs": [],
   "source": [
    "train_filter = np.where((train_labels == 3 ) | (train_labels == 8))\n",
    "test_filter = np.where((test_labels == 3) | (test_labels == 8))\n",
    "X_train, y_train = train_images[train_filter], train_labels[train_filter]\n",
    "X_test, y_test = test_images[test_filter], test_labels[test_filter]"
   ]
  },
  {
   "cell_type": "markdown",
   "id": "948f0b7e",
   "metadata": {
    "papermill": {
     "duration": 0.030873,
     "end_time": "2021-12-01T00:24:42.169635",
     "exception": false,
     "start_time": "2021-12-01T00:24:42.138762",
     "status": "completed"
    },
    "tags": []
   },
   "source": [
    "We normalize the pizel values in the 0 to 1 range"
   ]
  },
  {
   "cell_type": "code",
   "execution_count": 11,
   "id": "ee4c2166",
   "metadata": {
    "execution": {
     "iopub.execute_input": "2021-12-01T00:24:42.236313Z",
     "iopub.status.busy": "2021-12-01T00:24:42.235680Z",
     "iopub.status.idle": "2021-12-01T00:24:42.294451Z",
     "shell.execute_reply": "2021-12-01T00:24:42.293868Z"
    },
    "papermill": {
     "duration": 0.094008,
     "end_time": "2021-12-01T00:24:42.294596",
     "exception": false,
     "start_time": "2021-12-01T00:24:42.200588",
     "status": "completed"
    },
    "tags": []
   },
   "outputs": [],
   "source": [
    "X_train = X_train/255.\n",
    "X_test = X_test/255."
   ]
  },
  {
   "cell_type": "markdown",
   "id": "ddcf4fab",
   "metadata": {
    "papermill": {
     "duration": 0.030748,
     "end_time": "2021-12-01T00:24:42.357454",
     "exception": false,
     "start_time": "2021-12-01T00:24:42.326706",
     "status": "completed"
    },
    "tags": []
   },
   "source": [
    "And setup the labels as 1 (when the digit is 3) and 0 (when the digit is 8)"
   ]
  },
  {
   "cell_type": "code",
   "execution_count": 12,
   "id": "7dc908f2",
   "metadata": {
    "execution": {
     "iopub.execute_input": "2021-12-01T00:24:42.426045Z",
     "iopub.status.busy": "2021-12-01T00:24:42.425439Z",
     "iopub.status.idle": "2021-12-01T00:24:42.440515Z",
     "shell.execute_reply": "2021-12-01T00:24:42.439989Z"
    },
    "papermill": {
     "duration": 0.050621,
     "end_time": "2021-12-01T00:24:42.440673",
     "exception": false,
     "start_time": "2021-12-01T00:24:42.390052",
     "status": "completed"
    },
    "tags": []
   },
   "outputs": [],
   "source": [
    "y_train = 1*(y_train==3)\n",
    "y_test = 1*(y_test==3)"
   ]
  },
  {
   "cell_type": "code",
   "execution_count": 13,
   "id": "01e4e969",
   "metadata": {
    "execution": {
     "iopub.execute_input": "2021-12-01T00:24:42.506780Z",
     "iopub.status.busy": "2021-12-01T00:24:42.506159Z",
     "iopub.status.idle": "2021-12-01T00:24:42.520797Z",
     "shell.execute_reply": "2021-12-01T00:24:42.521270Z"
    },
    "papermill": {
     "duration": 0.050099,
     "end_time": "2021-12-01T00:24:42.521417",
     "exception": false,
     "start_time": "2021-12-01T00:24:42.471318",
     "status": "completed"
    },
    "tags": []
   },
   "outputs": [
    {
     "data": {
      "text/plain": [
       "((11982, 28, 28), (1984, 28, 28))"
      ]
     },
     "execution_count": 13,
     "metadata": {},
     "output_type": "execute_result"
    }
   ],
   "source": [
    "X_train.shape, X_test.shape"
   ]
  },
  {
   "cell_type": "markdown",
   "id": "5ccf3f85",
   "metadata": {
    "papermill": {
     "duration": 0.034487,
     "end_time": "2021-12-01T00:24:42.586689",
     "exception": false,
     "start_time": "2021-12-01T00:24:42.552202",
     "status": "completed"
    },
    "tags": []
   },
   "source": [
    "We reshape the data to flatten the image pixels into a set of features or co-variates:"
   ]
  },
  {
   "cell_type": "code",
   "execution_count": 14,
   "id": "5286a4a3",
   "metadata": {
    "execution": {
     "iopub.execute_input": "2021-12-01T00:24:42.653949Z",
     "iopub.status.busy": "2021-12-01T00:24:42.652810Z",
     "iopub.status.idle": "2021-12-01T00:24:42.669611Z",
     "shell.execute_reply": "2021-12-01T00:24:42.669098Z"
    },
    "papermill": {
     "duration": 0.051858,
     "end_time": "2021-12-01T00:24:42.669735",
     "exception": false,
     "start_time": "2021-12-01T00:24:42.617877",
     "status": "completed"
    },
    "tags": []
   },
   "outputs": [
    {
     "data": {
      "text/plain": [
       "((11982, 784), (1984, 784))"
      ]
     },
     "execution_count": 14,
     "metadata": {},
     "output_type": "execute_result"
    }
   ],
   "source": [
    "X_train = X_train.reshape(X_train.shape[0], -1)\n",
    "X_test = X_test.reshape(X_test.shape[0], -1)\n",
    "X_train.shape, X_test.shape"
   ]
  },
  {
   "cell_type": "code",
   "execution_count": 15,
   "id": "73c5f88a",
   "metadata": {
    "execution": {
     "iopub.execute_input": "2021-12-01T00:24:42.737538Z",
     "iopub.status.busy": "2021-12-01T00:24:42.736929Z",
     "iopub.status.idle": "2021-12-01T00:24:42.761424Z",
     "shell.execute_reply": "2021-12-01T00:24:42.760934Z"
    },
    "papermill": {
     "duration": 0.060519,
     "end_time": "2021-12-01T00:24:42.761551",
     "exception": false,
     "start_time": "2021-12-01T00:24:42.701032",
     "status": "completed"
    },
    "tags": []
   },
   "outputs": [],
   "source": [
    "#Impoting functions from 'Kudzu'\n",
    "from kudzu.model import Model\n",
    "from kudzu.train import Learner\n",
    "from kudzu.optim import GD\n",
    "from kudzu.data import Data, Sampler,Dataloader\n",
    "\n",
    "from kudzu.callbacks import AccCallback\n",
    "from kudzu.callbacks import ClfCallback\n",
    "\n",
    "from kudzu.loss import MSE\n",
    "\n",
    "from kudzu.layer import Sigmoid,Relu\n",
    "from kudzu.layer import Affine"
   ]
  },
  {
   "cell_type": "markdown",
   "id": "bc01172a",
   "metadata": {
    "papermill": {
     "duration": 0.03098,
     "end_time": "2021-12-01T00:24:42.823872",
     "exception": false,
     "start_time": "2021-12-01T00:24:42.792892",
     "status": "completed"
    },
    "tags": []
   },
   "source": [
    "### Let us create a `Config` class, to store important parameters. \n",
    "This class essentially plays the role of a dictionary."
   ]
  },
  {
   "cell_type": "code",
   "execution_count": 16,
   "id": "978281aa",
   "metadata": {
    "execution": {
     "iopub.execute_input": "2021-12-01T00:24:42.890756Z",
     "iopub.status.busy": "2021-12-01T00:24:42.890101Z",
     "iopub.status.idle": "2021-12-01T00:24:42.905135Z",
     "shell.execute_reply": "2021-12-01T00:24:42.904654Z"
    },
    "papermill": {
     "duration": 0.050366,
     "end_time": "2021-12-01T00:24:42.905259",
     "exception": false,
     "start_time": "2021-12-01T00:24:42.854893",
     "status": "completed"
    },
    "tags": []
   },
   "outputs": [],
   "source": [
    "class Config:\n",
    "    pass\n",
    "config = Config()\n",
    "config.lr = 0.001\n",
    "config.num_epochs = 250\n",
    "config.bs = 50"
   ]
  },
  {
   "cell_type": "markdown",
   "id": "1385fa59",
   "metadata": {
    "papermill": {
     "duration": 0.031038,
     "end_time": "2021-12-01T00:24:42.967935",
     "exception": false,
     "start_time": "2021-12-01T00:24:42.936897",
     "status": "completed"
    },
    "tags": []
   },
   "source": [
    "### Running Models with the Training data\n",
    "Details about the network layers:\n",
    "- A first affine layer has 784 inputs and does 100 affine transforms. These are followed by a Relu\n",
    "- A second affine layer has 100 inputs from the 100 activations of the past layer, and does 100 affine transforms. These are followed by a Relu\n",
    "- A third affine layer has 100 activations and does 2 affine transformations to create an embedding for visualization. There is no non-linearity here.\n",
    "- A final \"logistic regression\" which has an affine transform from 2 inputs to 1 output, which is squeezed through a sigmoid.\n"
   ]
  },
  {
   "cell_type": "code",
   "execution_count": 17,
   "id": "2b9c66db",
   "metadata": {
    "execution": {
     "iopub.execute_input": "2021-12-01T00:24:43.036117Z",
     "iopub.status.busy": "2021-12-01T00:24:43.035391Z",
     "iopub.status.idle": "2021-12-01T00:24:43.049272Z",
     "shell.execute_reply": "2021-12-01T00:24:43.048634Z"
    },
    "papermill": {
     "duration": 0.050413,
     "end_time": "2021-12-01T00:24:43.049408",
     "exception": false,
     "start_time": "2021-12-01T00:24:42.998995",
     "status": "completed"
    },
    "tags": []
   },
   "outputs": [],
   "source": [
    "data = Data(X_train, y_train.reshape(-1,1))\n",
    "sampler = Sampler(data, config.bs, shuffle=True)\n",
    "\n",
    "dl = Dataloader(data, sampler)\n",
    "\n",
    "opt = GD(config.lr)\n",
    "loss = MSE()"
   ]
  },
  {
   "cell_type": "code",
   "execution_count": 18,
   "id": "b275e4c2",
   "metadata": {
    "execution": {
     "iopub.execute_input": "2021-12-01T00:24:43.123699Z",
     "iopub.status.busy": "2021-12-01T00:24:43.123048Z",
     "iopub.status.idle": "2021-12-01T00:24:43.137235Z",
     "shell.execute_reply": "2021-12-01T00:24:43.136709Z"
    },
    "papermill": {
     "duration": 0.053316,
     "end_time": "2021-12-01T00:24:43.137402",
     "exception": false,
     "start_time": "2021-12-01T00:24:43.084086",
     "status": "completed"
    },
    "tags": []
   },
   "outputs": [],
   "source": [
    "training_data_x = X_train\n",
    "testing_data_x = X_test\n",
    "training_data_y = y_train.reshape(-1,1)\n",
    "testing_data_y = y_test.reshape(-1,1)"
   ]
  },
  {
   "cell_type": "code",
   "execution_count": 19,
   "id": "76951160",
   "metadata": {
    "execution": {
     "iopub.execute_input": "2021-12-01T00:24:43.206376Z",
     "iopub.status.busy": "2021-12-01T00:24:43.205741Z",
     "iopub.status.idle": "2021-12-01T00:24:43.223935Z",
     "shell.execute_reply": "2021-12-01T00:24:43.223426Z"
    },
    "papermill": {
     "duration": 0.054716,
     "end_time": "2021-12-01T00:24:43.224058",
     "exception": false,
     "start_time": "2021-12-01T00:24:43.169342",
     "status": "completed"
    },
    "tags": []
   },
   "outputs": [
    {
     "name": "stdout",
     "output_type": "stream",
     "text": [
      "xavier\n",
      "xavier\n",
      "xavier\n",
      "xavier\n",
      "xavier\n"
     ]
    }
   ],
   "source": [
    "layers = [Affine(\"first\", 784, 100), Relu(\"first\"), Affine(\"second\", 100, 100), Relu(\"second\"), Affine(\"third\", 100, 2), Affine(\"last\", 2, 1), Sigmoid(\"last\")]\n",
    "model_nn = Model(layers)\n",
    "model_lr = Model([Affine(\"logits\", 784, 1), Sigmoid(\"sigmoid\")])"
   ]
  },
  {
   "cell_type": "code",
   "execution_count": 20,
   "id": "6eede77a",
   "metadata": {
    "execution": {
     "iopub.execute_input": "2021-12-01T00:24:43.294616Z",
     "iopub.status.busy": "2021-12-01T00:24:43.293966Z",
     "iopub.status.idle": "2021-12-01T00:24:43.306608Z",
     "shell.execute_reply": "2021-12-01T00:24:43.306027Z"
    },
    "papermill": {
     "duration": 0.050733,
     "end_time": "2021-12-01T00:24:43.306733",
     "exception": false,
     "start_time": "2021-12-01T00:24:43.256000",
     "status": "completed"
    },
    "tags": []
   },
   "outputs": [],
   "source": [
    "nn_learner = Learner(loss, model_nn, opt, config.num_epochs)\n",
    "acc_nn = ClfCallback(nn_learner, config.bs, training_data_x , testing_data_x, training_data_y, testing_data_y)\n",
    "nn_learner.set_callbacks([acc_nn])"
   ]
  },
  {
   "cell_type": "code",
   "execution_count": 21,
   "id": "877b6cc7",
   "metadata": {
    "execution": {
     "iopub.execute_input": "2021-12-01T00:24:43.376485Z",
     "iopub.status.busy": "2021-12-01T00:24:43.375611Z",
     "iopub.status.idle": "2021-12-01T00:24:43.389574Z",
     "shell.execute_reply": "2021-12-01T00:24:43.389078Z"
    },
    "papermill": {
     "duration": 0.050899,
     "end_time": "2021-12-01T00:24:43.389703",
     "exception": false,
     "start_time": "2021-12-01T00:24:43.338804",
     "status": "completed"
    },
    "tags": []
   },
   "outputs": [],
   "source": [
    "lr_learner = Learner(loss, model_lr, opt, config.num_epochs)\n",
    "acc_lr = ClfCallback(lr_learner, config.bs, training_data_x , testing_data_x, training_data_y, testing_data_y)\n",
    "lr_learner.set_callbacks([acc_lr])"
   ]
  },
  {
   "cell_type": "code",
   "execution_count": 22,
   "id": "d9b133c3",
   "metadata": {
    "execution": {
     "iopub.execute_input": "2021-12-01T00:24:43.459012Z",
     "iopub.status.busy": "2021-12-01T00:24:43.458412Z",
     "iopub.status.idle": "2021-12-01T00:26:19.633679Z",
     "shell.execute_reply": "2021-12-01T00:26:19.634556Z"
    },
    "papermill": {
     "duration": 96.212295,
     "end_time": "2021-12-01T00:26:19.634727",
     "exception": false,
     "start_time": "2021-12-01T00:24:43.422432",
     "status": "completed"
    },
    "tags": []
   },
   "outputs": [
    {
     "name": "stdout",
     "output_type": "stream",
     "text": [
      "Epoch 0, Loss 0.2163\n",
      "Training Accuracy: 0.8165, Testing Accuracy: 0.8201\n",
      "\n"
     ]
    },
    {
     "name": "stdout",
     "output_type": "stream",
     "text": [
      "Epoch 10, Loss 0.0611\n",
      "Training Accuracy: 0.9407, Testing Accuracy: 0.9491\n",
      "\n"
     ]
    },
    {
     "name": "stdout",
     "output_type": "stream",
     "text": [
      "Epoch 20, Loss 0.0434\n",
      "Training Accuracy: 0.9538, Testing Accuracy: 0.9592\n",
      "\n"
     ]
    },
    {
     "name": "stdout",
     "output_type": "stream",
     "text": [
      "Epoch 30, Loss 0.0363\n",
      "Training Accuracy: 0.9593, Testing Accuracy: 0.9657\n",
      "\n"
     ]
    },
    {
     "name": "stdout",
     "output_type": "stream",
     "text": [
      "Epoch 40, Loss 0.0322\n",
      "Training Accuracy: 0.9640, Testing Accuracy: 0.9688\n",
      "\n"
     ]
    },
    {
     "name": "stdout",
     "output_type": "stream",
     "text": [
      "Epoch 50, Loss 0.0295\n",
      "Training Accuracy: 0.9665, Testing Accuracy: 0.9708\n",
      "\n"
     ]
    },
    {
     "name": "stdout",
     "output_type": "stream",
     "text": [
      "Epoch 60, Loss 0.0274\n",
      "Training Accuracy: 0.9679, Testing Accuracy: 0.9728\n",
      "\n"
     ]
    },
    {
     "name": "stdout",
     "output_type": "stream",
     "text": [
      "Epoch 70, Loss 0.0258\n",
      "Training Accuracy: 0.9695, Testing Accuracy: 0.9748\n",
      "\n"
     ]
    },
    {
     "name": "stdout",
     "output_type": "stream",
     "text": [
      "Epoch 80, Loss 0.0245\n",
      "Training Accuracy: 0.9709, Testing Accuracy: 0.9743\n",
      "\n"
     ]
    },
    {
     "name": "stdout",
     "output_type": "stream",
     "text": [
      "Epoch 90, Loss 0.0234\n",
      "Training Accuracy: 0.9728, Testing Accuracy: 0.9748\n",
      "\n"
     ]
    },
    {
     "name": "stdout",
     "output_type": "stream",
     "text": [
      "Epoch 100, Loss 0.0224\n",
      "Training Accuracy: 0.9738, Testing Accuracy: 0.9748\n",
      "\n"
     ]
    },
    {
     "name": "stdout",
     "output_type": "stream",
     "text": [
      "Epoch 110, Loss 0.0216\n",
      "Training Accuracy: 0.9745, Testing Accuracy: 0.9758\n",
      "\n"
     ]
    },
    {
     "name": "stdout",
     "output_type": "stream",
     "text": [
      "Epoch 120, Loss 0.0208\n",
      "Training Accuracy: 0.9757, Testing Accuracy: 0.9768\n",
      "\n"
     ]
    },
    {
     "name": "stdout",
     "output_type": "stream",
     "text": [
      "Epoch 130, Loss 0.02\n",
      "Training Accuracy: 0.9766, Testing Accuracy: 0.9773\n",
      "\n"
     ]
    },
    {
     "name": "stdout",
     "output_type": "stream",
     "text": [
      "Epoch 140, Loss 0.0194\n",
      "Training Accuracy: 0.9781, Testing Accuracy: 0.9768\n",
      "\n"
     ]
    },
    {
     "name": "stdout",
     "output_type": "stream",
     "text": [
      "Epoch 150, Loss 0.0187\n",
      "Training Accuracy: 0.9786, Testing Accuracy: 0.9778\n",
      "\n"
     ]
    },
    {
     "name": "stdout",
     "output_type": "stream",
     "text": [
      "Epoch 160, Loss 0.0181\n",
      "Training Accuracy: 0.9794, Testing Accuracy: 0.9778\n",
      "\n"
     ]
    },
    {
     "name": "stdout",
     "output_type": "stream",
     "text": [
      "Epoch 170, Loss 0.0175\n",
      "Training Accuracy: 0.9801, Testing Accuracy: 0.9783\n",
      "\n"
     ]
    },
    {
     "name": "stdout",
     "output_type": "stream",
     "text": [
      "Epoch 180, Loss 0.017\n",
      "Training Accuracy: 0.9808, Testing Accuracy: 0.9783\n",
      "\n"
     ]
    },
    {
     "name": "stdout",
     "output_type": "stream",
     "text": [
      "Epoch 190, Loss 0.0165\n",
      "Training Accuracy: 0.9813, Testing Accuracy: 0.9783\n",
      "\n"
     ]
    },
    {
     "name": "stdout",
     "output_type": "stream",
     "text": [
      "Epoch 200, Loss 0.016\n",
      "Training Accuracy: 0.9816, Testing Accuracy: 0.9783\n",
      "\n"
     ]
    },
    {
     "name": "stdout",
     "output_type": "stream",
     "text": [
      "Epoch 210, Loss 0.0156\n",
      "Training Accuracy: 0.9826, Testing Accuracy: 0.9788\n",
      "\n"
     ]
    },
    {
     "name": "stdout",
     "output_type": "stream",
     "text": [
      "Epoch 220, Loss 0.0151\n",
      "Training Accuracy: 0.9831, Testing Accuracy: 0.9788\n",
      "\n"
     ]
    },
    {
     "name": "stdout",
     "output_type": "stream",
     "text": [
      "Epoch 230, Loss 0.0147\n",
      "Training Accuracy: 0.9837, Testing Accuracy: 0.9788\n",
      "\n"
     ]
    },
    {
     "name": "stdout",
     "output_type": "stream",
     "text": [
      "Epoch 240, Loss 0.0143\n",
      "Training Accuracy: 0.9845, Testing Accuracy: 0.9788\n",
      "\n"
     ]
    },
    {
     "data": {
      "text/plain": [
       "0.0018620984956751988"
      ]
     },
     "execution_count": 22,
     "metadata": {},
     "output_type": "execute_result"
    }
   ],
   "source": [
    "nn_learner.train_loop(dl)"
   ]
  },
  {
   "cell_type": "code",
   "execution_count": 23,
   "id": "e0163366",
   "metadata": {
    "execution": {
     "iopub.execute_input": "2021-12-01T00:26:19.727824Z",
     "iopub.status.busy": "2021-12-01T00:26:19.727211Z",
     "iopub.status.idle": "2021-12-01T00:26:36.632997Z",
     "shell.execute_reply": "2021-12-01T00:26:36.633837Z"
    },
    "papermill": {
     "duration": 16.959158,
     "end_time": "2021-12-01T00:26:36.633997",
     "exception": false,
     "start_time": "2021-12-01T00:26:19.674839",
     "status": "completed"
    },
    "tags": []
   },
   "outputs": [
    {
     "name": "stdout",
     "output_type": "stream",
     "text": [
      "Epoch 0, Loss 0.2477\n",
      "Training Accuracy: 0.6454, Testing Accuracy: 0.6542\n",
      "\n"
     ]
    },
    {
     "name": "stdout",
     "output_type": "stream",
     "text": [
      "Epoch 10, Loss 0.1084\n",
      "Training Accuracy: 0.8950, Testing Accuracy: 0.9103\n",
      "\n"
     ]
    },
    {
     "name": "stdout",
     "output_type": "stream",
     "text": [
      "Epoch 20, Loss 0.0819\n",
      "Training Accuracy: 0.9210, Testing Accuracy: 0.9385\n",
      "\n"
     ]
    },
    {
     "name": "stdout",
     "output_type": "stream",
     "text": [
      "Epoch 30, Loss 0.0698\n",
      "Training Accuracy: 0.9332, Testing Accuracy: 0.9471\n",
      "\n"
     ]
    },
    {
     "name": "stdout",
     "output_type": "stream",
     "text": [
      "Epoch 40, Loss 0.0626\n",
      "Training Accuracy: 0.9390, Testing Accuracy: 0.9511\n",
      "\n"
     ]
    },
    {
     "name": "stdout",
     "output_type": "stream",
     "text": [
      "Epoch 50, Loss 0.0578\n",
      "Training Accuracy: 0.9428, Testing Accuracy: 0.9541\n",
      "\n"
     ]
    },
    {
     "name": "stdout",
     "output_type": "stream",
     "text": [
      "Epoch 60, Loss 0.0543\n",
      "Training Accuracy: 0.9451, Testing Accuracy: 0.9556\n",
      "\n"
     ]
    },
    {
     "name": "stdout",
     "output_type": "stream",
     "text": [
      "Epoch 70, Loss 0.0516\n",
      "Training Accuracy: 0.9479, Testing Accuracy: 0.9582\n",
      "\n"
     ]
    },
    {
     "name": "stdout",
     "output_type": "stream",
     "text": [
      "Epoch 80, Loss 0.0495\n",
      "Training Accuracy: 0.9498, Testing Accuracy: 0.9587\n",
      "\n"
     ]
    },
    {
     "name": "stdout",
     "output_type": "stream",
     "text": [
      "Epoch 90, Loss 0.0477\n",
      "Training Accuracy: 0.9512, Testing Accuracy: 0.9617\n",
      "\n"
     ]
    },
    {
     "name": "stdout",
     "output_type": "stream",
     "text": [
      "Epoch 100, Loss 0.0463\n",
      "Training Accuracy: 0.9531, Testing Accuracy: 0.9627\n",
      "\n"
     ]
    },
    {
     "name": "stdout",
     "output_type": "stream",
     "text": [
      "Epoch 110, Loss 0.045\n",
      "Training Accuracy: 0.9538, Testing Accuracy: 0.9637\n",
      "\n"
     ]
    },
    {
     "name": "stdout",
     "output_type": "stream",
     "text": [
      "Epoch 120, Loss 0.0439\n",
      "Training Accuracy: 0.9551, Testing Accuracy: 0.9642\n",
      "\n"
     ]
    },
    {
     "name": "stdout",
     "output_type": "stream",
     "text": [
      "Epoch 130, Loss 0.043\n",
      "Training Accuracy: 0.9558, Testing Accuracy: 0.9642\n",
      "\n"
     ]
    },
    {
     "name": "stdout",
     "output_type": "stream",
     "text": [
      "Epoch 140, Loss 0.0421\n",
      "Training Accuracy: 0.9565, Testing Accuracy: 0.9642\n",
      "\n"
     ]
    },
    {
     "name": "stdout",
     "output_type": "stream",
     "text": [
      "Epoch 150, Loss 0.0414\n",
      "Training Accuracy: 0.9574, Testing Accuracy: 0.9657\n",
      "\n"
     ]
    },
    {
     "name": "stdout",
     "output_type": "stream",
     "text": [
      "Epoch 160, Loss 0.0407\n",
      "Training Accuracy: 0.9585, Testing Accuracy: 0.9662\n",
      "\n"
     ]
    },
    {
     "name": "stdout",
     "output_type": "stream",
     "text": [
      "Epoch 170, Loss 0.04\n",
      "Training Accuracy: 0.9587, Testing Accuracy: 0.9667\n",
      "\n"
     ]
    },
    {
     "name": "stdout",
     "output_type": "stream",
     "text": [
      "Epoch 180, Loss 0.0395\n",
      "Training Accuracy: 0.9593, Testing Accuracy: 0.9672\n",
      "\n"
     ]
    },
    {
     "name": "stdout",
     "output_type": "stream",
     "text": [
      "Epoch 190, Loss 0.039\n",
      "Training Accuracy: 0.9594, Testing Accuracy: 0.9677\n",
      "\n"
     ]
    },
    {
     "name": "stdout",
     "output_type": "stream",
     "text": [
      "Epoch 200, Loss 0.0385\n",
      "Training Accuracy: 0.9595, Testing Accuracy: 0.9677\n",
      "\n"
     ]
    },
    {
     "name": "stdout",
     "output_type": "stream",
     "text": [
      "Epoch 210, Loss 0.038\n",
      "Training Accuracy: 0.9600, Testing Accuracy: 0.9672\n",
      "\n"
     ]
    },
    {
     "name": "stdout",
     "output_type": "stream",
     "text": [
      "Epoch 220, Loss 0.0376\n",
      "Training Accuracy: 0.9602, Testing Accuracy: 0.9672\n",
      "\n"
     ]
    },
    {
     "name": "stdout",
     "output_type": "stream",
     "text": [
      "Epoch 230, Loss 0.0372\n",
      "Training Accuracy: 0.9609, Testing Accuracy: 0.9672\n",
      "\n"
     ]
    },
    {
     "name": "stdout",
     "output_type": "stream",
     "text": [
      "Epoch 240, Loss 0.0369\n",
      "Training Accuracy: 0.9612, Testing Accuracy: 0.9672\n",
      "\n"
     ]
    },
    {
     "data": {
      "text/plain": [
       "0.016479756076456503"
      ]
     },
     "execution_count": 23,
     "metadata": {},
     "output_type": "execute_result"
    }
   ],
   "source": [
    "lr_learner.train_loop(dl)"
   ]
  },
  {
   "cell_type": "code",
   "execution_count": 24,
   "id": "ca410940",
   "metadata": {
    "execution": {
     "iopub.execute_input": "2021-12-01T00:26:36.743662Z",
     "iopub.status.busy": "2021-12-01T00:26:36.743059Z",
     "iopub.status.idle": "2021-12-01T00:26:37.008901Z",
     "shell.execute_reply": "2021-12-01T00:26:37.008373Z"
    },
    "papermill": {
     "duration": 0.325697,
     "end_time": "2021-12-01T00:26:37.009037",
     "exception": false,
     "start_time": "2021-12-01T00:26:36.683340",
     "status": "completed"
    },
    "tags": []
   },
   "outputs": [
    {
     "data": {
      "text/plain": [
       "<matplotlib.legend.Legend at 0x7fd759e94c18>"
      ]
     },
     "execution_count": 24,
     "metadata": {},
     "output_type": "execute_result"
    },
    {
     "data": {
      "image/png": "[encoded data removed]",
      "text/plain": [
       "<Figure size 1080x720 with 1 Axes>"
      ]
     },
     "metadata": {
      "needs_background": "light"
     },
     "output_type": "display_data"
    }
   ],
   "source": [
    "#comparing the results of NN and LR\n",
    "plt.figure(figsize=(15,10))\n",
    "\n",
    "# Neural Network plots\n",
    "plt.plot(acc_nn.accuracies, 'r-', label = \"Training Accuracies - NN\")\n",
    "plt.plot(acc_nn.test_accuracies, 'g-', label = \"Testing Accuracies - NN\")\n",
    "\n",
    "# Logistic Regression plots\n",
    "plt.plot(acc_lr.accuracies, 'k-', label = \"Training Accuracies - LR\")\n",
    "plt.plot(acc_lr.test_accuracies, 'b-', label = \"Testing Accuracies - LR\")\n",
    "plt.legend()"
   ]
  },
  {
   "cell_type": "markdown",
   "id": "80dfb35c",
   "metadata": {
    "papermill": {
     "duration": 0.048988,
     "end_time": "2021-12-01T00:26:37.106204",
     "exception": false,
     "start_time": "2021-12-01T00:26:37.057216",
     "status": "completed"
    },
    "tags": []
   },
   "source": [
    "#### Plotting the outputs of this layer of the NN.\n"
   ]
  },
  {
   "cell_type": "code",
   "execution_count": 25,
   "id": "45eb2ff5",
   "metadata": {
    "execution": {
     "iopub.execute_input": "2021-12-01T00:26:37.212216Z",
     "iopub.status.busy": "2021-12-01T00:26:37.211590Z",
     "iopub.status.idle": "2021-12-01T00:26:37.239490Z",
     "shell.execute_reply": "2021-12-01T00:26:37.240003Z"
    },
    "papermill": {
     "duration": 0.085818,
     "end_time": "2021-12-01T00:26:37.240159",
     "exception": false,
     "start_time": "2021-12-01T00:26:37.154341",
     "status": "completed"
    },
    "tags": []
   },
   "outputs": [],
   "source": [
    "new_model = Model(layers[:-2])\n",
    "testing_plot = new_model(testing_data_x)"
   ]
  },
  {
   "cell_type": "code",
   "execution_count": 26,
   "id": "4c0a5485",
   "metadata": {
    "execution": {
     "iopub.execute_input": "2021-12-01T00:26:37.352109Z",
     "iopub.status.busy": "2021-12-01T00:26:37.351059Z",
     "iopub.status.idle": "2021-12-01T00:26:37.577572Z",
     "shell.execute_reply": "2021-12-01T00:26:37.576623Z"
    },
    "papermill": {
     "duration": 0.287852,
     "end_time": "2021-12-01T00:26:37.577720",
     "exception": false,
     "start_time": "2021-12-01T00:26:37.289868",
     "status": "completed"
    },
    "tags": []
   },
   "outputs": [
    {
     "data": {
      "text/plain": [
       "Text(0.5, 1.0, 'Outputs')"
      ]
     },
     "execution_count": 26,
     "metadata": {},
     "output_type": "execute_result"
    },
    {
     "data": {
      "image/png": "[encoded data removed]",
      "text/plain": [
       "<Figure size 576x504 with 1 Axes>"
      ]
     },
     "metadata": {
      "needs_background": "light"
     },
     "output_type": "display_data"
    }
   ],
   "source": [
    "# Plotting the scatter plot of points and color coding by class\n",
    "plt.figure(figsize=(8,7))\n",
    "plt.scatter(testing_plot[:,0], testing_plot[:,1], alpha = 0.1, c = y_test.ravel());\n",
    "plt.title('Outputs')"
   ]
  },
  {
   "cell_type": "markdown",
   "id": "a74fcf8f",
   "metadata": {
    "papermill": {
     "duration": 0.052503,
     "end_time": "2021-12-01T00:26:37.682911",
     "exception": false,
     "start_time": "2021-12-01T00:26:37.630408",
     "status": "completed"
    },
    "tags": []
   },
   "source": [
    "Probability contours"
   ]
  },
  {
   "cell_type": "code",
   "execution_count": 27,
   "id": "d0afc8e3",
   "metadata": {
    "execution": {
     "iopub.execute_input": "2021-12-01T00:26:37.792526Z",
     "iopub.status.busy": "2021-12-01T00:26:37.791459Z",
     "iopub.status.idle": "2021-12-01T00:26:37.804839Z",
     "shell.execute_reply": "2021-12-01T00:26:37.805454Z"
    },
    "papermill": {
     "duration": 0.070652,
     "end_time": "2021-12-01T00:26:37.805602",
     "exception": false,
     "start_time": "2021-12-01T00:26:37.734950",
     "status": "completed"
    },
    "tags": []
   },
   "outputs": [],
   "source": [
    "model_prob = Model(layers[-2:]) "
   ]
  },
  {
   "cell_type": "code",
   "execution_count": 28,
   "id": "9b96e238",
   "metadata": {
    "execution": {
     "iopub.execute_input": "2021-12-01T00:26:37.951930Z",
     "iopub.status.busy": "2021-12-01T00:26:37.951317Z",
     "iopub.status.idle": "2021-12-01T00:26:37.964326Z",
     "shell.execute_reply": "2021-12-01T00:26:37.963835Z"
    },
    "papermill": {
     "duration": 0.076295,
     "end_time": "2021-12-01T00:26:37.964453",
     "exception": false,
     "start_time": "2021-12-01T00:26:37.888158",
     "status": "completed"
    },
    "tags": []
   },
   "outputs": [],
   "source": [
    "#creating the x and y ranges according to the above generated plot.\n",
    "x_range = np.linspace(-4, 1, 100) \n",
    "y_range = np.linspace(-6, 6, 100) \n",
    "x_grid, y_grid = np.meshgrid(x_range, y_range) # x_grid and y_grig are of size 100 X 100\n",
    "\n",
    "# converting x_grid and y_grid to continuous arrays\n",
    "x_gridflat = np.ravel(x_grid)\n",
    "y_gridflat = np.ravel(y_grid)\n",
    "\n",
    "# The last layer of the current model takes two columns as input. Hence transpose of np.vstack() is required.\n",
    "X = np.vstack((x_gridflat, y_gridflat)).T\n",
    "\n",
    "prob_contour = model_prob(X).reshape(100,100) "
   ]
  },
  {
   "cell_type": "code",
   "execution_count": 29,
   "id": "da72499a",
   "metadata": {
    "execution": {
     "iopub.execute_input": "2021-12-01T00:26:38.080287Z",
     "iopub.status.busy": "2021-12-01T00:26:38.079550Z",
     "iopub.status.idle": "2021-12-01T00:26:38.364504Z",
     "shell.execute_reply": "2021-12-01T00:26:38.363962Z"
    },
    "papermill": {
     "duration": 0.347496,
     "end_time": "2021-12-01T00:26:38.364637",
     "exception": false,
     "start_time": "2021-12-01T00:26:38.017141",
     "status": "completed"
    },
    "tags": []
   },
   "outputs": [
    {
     "data": {
      "image/png": "[encoded data removed]",
      "text/plain": [
       "<Figure size 720x648 with 1 Axes>"
      ]
     },
     "metadata": {
      "needs_background": "light"
     },
     "output_type": "display_data"
    }
   ],
   "source": [
    "plt.figure(figsize=(10,9))\n",
    "plt.scatter(testing_plot[:,0], testing_plot[:,1], alpha = 0.1, c = y_test.ravel())\n",
    "contours = plt.contour(x_grid,y_grid,prob_contour)\n",
    "plt.title('Probability Contours')\n",
    "plt.clabel(contours, inline = True );"
   ]
  },
  {
   "cell_type": "code",
   "execution_count": null,
   "id": "e81b4ac7",
   "metadata": {
    "papermill": {
     "duration": 0.056233,
     "end_time": "2021-12-01T00:26:38.478237",
     "exception": false,
     "start_time": "2021-12-01T00:26:38.422004",
     "status": "completed"
    },
    "tags": []
   },
   "outputs": [],
   "source": []
  }
 ],
 "metadata": {
  "kernelspec": {
   "display_name": "Python 3",
   "language": "python",
   "name": "python3"
  },
  "language_info": {
   "codemirror_mode": {
    "name": "ipython",
    "version": 3
   },
   "file_extension": ".py",
   "mimetype": "text/x-python",
   "name": "python",
   "nbconvert_exporter": "python",
   "pygments_lexer": "ipython3",
   "version": "3.6.15"
  },
  "papermill": {
   "default_parameters": {},
   "duration": 122.73101,
   "end_time": "2021-12-01T00:26:38.942851",
   "environment_variables": {},
   "exception": null,
   "input_path": "2020-08-11-part2.ipynb",
   "output_path": "2020-08-11-part2.ipynb",
   "parameters": {},
   "start_time": "2021-12-01T00:24:36.211841",
   "version": "2.3.3"
  }
 },
 "nbformat": 4,
 "nbformat_minor": 5
}