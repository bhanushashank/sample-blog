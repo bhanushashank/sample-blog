{
 "cells": [
  {
   "cell_type": "markdown",
   "id": "98380cd3",
   "metadata": {
    "papermill": {
     "duration": 0.029288,
     "end_time": "2022-09-08T00:43:27.935487",
     "exception": false,
     "start_time": "2022-09-08T00:43:27.906199",
     "status": "completed"
    },
    "tags": []
   },
   "source": [
    "# Distinguish Your Own Digits (DYOD)"
   ]
  },
  {
   "cell_type": "markdown",
   "id": "ef31240d",
   "metadata": {
    "papermill": {
     "duration": 0.023551,
     "end_time": "2022-09-08T00:43:27.983249",
     "exception": false,
     "start_time": "2022-09-08T00:43:27.959698",
     "status": "completed"
    },
    "tags": []
   },
   "source": [
    "You are going to write a classifier that distinguishes between the number 3 and number 8."
   ]
  },
  {
   "cell_type": "code",
   "execution_count": 1,
   "id": "b15c8646",
   "metadata": {
    "execution": {
     "iopub.execute_input": "2022-09-08T00:43:28.040200Z",
     "iopub.status.busy": "2022-09-08T00:43:28.039609Z",
     "iopub.status.idle": "2022-09-08T00:43:28.050347Z",
     "shell.execute_reply": "2022-09-08T00:43:28.049759Z"
    },
    "papermill": {
     "duration": 0.04382,
     "end_time": "2022-09-08T00:43:28.050466",
     "exception": false,
     "start_time": "2022-09-08T00:43:28.006646",
     "status": "completed"
    },
    "tags": []
   },
   "outputs": [],
   "source": [
    "%load_ext autoreload\n",
    "%autoreload 2"
   ]
  },
  {
   "cell_type": "code",
   "execution_count": 2,
   "id": "22ef38dc",
   "metadata": {
    "execution": {
     "iopub.execute_input": "2022-09-08T00:43:28.101606Z",
     "iopub.status.busy": "2022-09-08T00:43:28.101031Z",
     "iopub.status.idle": "2022-09-08T00:43:28.626392Z",
     "shell.execute_reply": "2022-09-08T00:43:28.625793Z"
    },
    "papermill": {
     "duration": 0.552457,
     "end_time": "2022-09-08T00:43:28.626530",
     "exception": false,
     "start_time": "2022-09-08T00:43:28.074073",
     "status": "completed"
    },
    "tags": []
   },
   "outputs": [],
   "source": [
    "%matplotlib inline\n",
    "import numpy as np\n",
    "import matplotlib.pyplot as plt\n",
    "import pandas as pd"
   ]
  },
  {
   "cell_type": "markdown",
   "id": "ba036198",
   "metadata": {
    "papermill": {
     "duration": 0.023581,
     "end_time": "2022-09-08T00:43:28.674460",
     "exception": false,
     "start_time": "2022-09-08T00:43:28.650879",
     "status": "completed"
    },
    "tags": []
   },
   "source": [
    "From the command line run `pip install mnist`. This is a library that will help you bring down the mnist dataset. If you run this from a notebook, you need to put  `!pip install mnist` in a cell by itself."
   ]
  },
  {
   "cell_type": "code",
   "execution_count": 3,
   "id": "bb6ad8a1",
   "metadata": {
    "execution": {
     "iopub.execute_input": "2022-09-08T00:43:28.725864Z",
     "iopub.status.busy": "2022-09-08T00:43:28.725289Z",
     "iopub.status.idle": "2022-09-08T00:43:30.304461Z",
     "shell.execute_reply": "2022-09-08T00:43:30.303134Z"
    },
    "papermill": {
     "duration": 1.606427,
     "end_time": "2022-09-08T00:43:30.304613",
     "exception": false,
     "start_time": "2022-09-08T00:43:28.698186",
     "status": "completed"
    },
    "tags": []
   },
   "outputs": [
    {
     "name": "stdout",
     "output_type": "stream",
     "text": [
      "Collecting mnist\r\n",
      "  Downloading mnist-0.2.2-py2.py3-none-any.whl (3.5 kB)\r\n",
      "Requirement already satisfied: numpy in /opt/hostedtoolcache/Python/3.6.15/x64/lib/python3.6/site-packages (from mnist) (1.19.5)\r\n"
     ]
    },
    {
     "name": "stdout",
     "output_type": "stream",
     "text": [
      "Installing collected packages: mnist\r\n"
     ]
    },
    {
     "name": "stdout",
     "output_type": "stream",
     "text": [
      "Successfully installed mnist-0.2.2\r\n"
     ]
    }
   ],
   "source": [
    "!pip install mnist"
   ]
  },
  {
   "cell_type": "markdown",
   "id": "69df9c9a",
   "metadata": {
    "papermill": {
     "duration": 0.024273,
     "end_time": "2022-09-08T00:43:30.354163",
     "exception": false,
     "start_time": "2022-09-08T00:43:30.329890",
     "status": "completed"
    },
    "tags": []
   },
   "source": [
    "## Preparing the Data"
   ]
  },
  {
   "cell_type": "code",
   "execution_count": 4,
   "id": "7f69d806",
   "metadata": {
    "execution": {
     "iopub.execute_input": "2022-09-08T00:43:30.406473Z",
     "iopub.status.busy": "2022-09-08T00:43:30.405897Z",
     "iopub.status.idle": "2022-09-08T00:43:30.421387Z",
     "shell.execute_reply": "2022-09-08T00:43:30.421831Z"
    },
    "papermill": {
     "duration": 0.043563,
     "end_time": "2022-09-08T00:43:30.421952",
     "exception": false,
     "start_time": "2022-09-08T00:43:30.378389",
     "status": "completed"
    },
    "tags": []
   },
   "outputs": [],
   "source": [
    "import mnist"
   ]
  },
  {
   "cell_type": "code",
   "execution_count": 5,
   "id": "a411e44f",
   "metadata": {
    "execution": {
     "iopub.execute_input": "2022-09-08T00:43:30.473565Z",
     "iopub.status.busy": "2022-09-08T00:43:30.472997Z",
     "iopub.status.idle": "2022-09-08T00:43:31.038660Z",
     "shell.execute_reply": "2022-09-08T00:43:31.038079Z"
    },
    "papermill": {
     "duration": 0.592646,
     "end_time": "2022-09-08T00:43:31.038799",
     "exception": false,
     "start_time": "2022-09-08T00:43:30.446153",
     "status": "completed"
    },
    "tags": []
   },
   "outputs": [],
   "source": [
    "train_images = mnist.train_images()\n",
    "train_labels = mnist.train_labels()"
   ]
  },
  {
   "cell_type": "code",
   "execution_count": 6,
   "id": "dceab3a5",
   "metadata": {
    "execution": {
     "iopub.execute_input": "2022-09-08T00:43:31.091354Z",
     "iopub.status.busy": "2022-09-08T00:43:31.090776Z",
     "iopub.status.idle": "2022-09-08T00:43:31.105676Z",
     "shell.execute_reply": "2022-09-08T00:43:31.105112Z"
    },
    "papermill": {
     "duration": 0.042254,
     "end_time": "2022-09-08T00:43:31.105779",
     "exception": false,
     "start_time": "2022-09-08T00:43:31.063525",
     "status": "completed"
    },
    "tags": []
   },
   "outputs": [
    {
     "data": {
      "text/plain": [
       "((60000, 28, 28), (60000,))"
      ]
     },
     "execution_count": 6,
     "metadata": {},
     "output_type": "execute_result"
    }
   ],
   "source": [
    "train_images.shape, train_labels.shape"
   ]
  },
  {
   "cell_type": "code",
   "execution_count": 7,
   "id": "f50dc2bb",
   "metadata": {
    "execution": {
     "iopub.execute_input": "2022-09-08T00:43:31.159772Z",
     "iopub.status.busy": "2022-09-08T00:43:31.159210Z",
     "iopub.status.idle": "2022-09-08T00:43:31.306898Z",
     "shell.execute_reply": "2022-09-08T00:43:31.306395Z"
    },
    "papermill": {
     "duration": 0.176761,
     "end_time": "2022-09-08T00:43:31.307023",
     "exception": false,
     "start_time": "2022-09-08T00:43:31.130262",
     "status": "completed"
    },
    "tags": []
   },
   "outputs": [],
   "source": [
    "test_images = mnist.test_images()\n",
    "test_labels = mnist.test_labels()"
   ]
  },
  {
   "cell_type": "code",
   "execution_count": 8,
   "id": "fc38cf1b",
   "metadata": {
    "execution": {
     "iopub.execute_input": "2022-09-08T00:43:31.361616Z",
     "iopub.status.busy": "2022-09-08T00:43:31.361037Z",
     "iopub.status.idle": "2022-09-08T00:43:31.373997Z",
     "shell.execute_reply": "2022-09-08T00:43:31.374547Z"
    },
    "papermill": {
     "duration": 0.042623,
     "end_time": "2022-09-08T00:43:31.374673",
     "exception": false,
     "start_time": "2022-09-08T00:43:31.332050",
     "status": "completed"
    },
    "tags": []
   },
   "outputs": [
    {
     "data": {
      "text/plain": [
       "((10000, 28, 28), (10000,))"
      ]
     },
     "execution_count": 8,
     "metadata": {},
     "output_type": "execute_result"
    }
   ],
   "source": [
    "test_images.shape, test_labels.shape"
   ]
  },
  {
   "cell_type": "code",
   "execution_count": 9,
   "id": "f9ed8fe0",
   "metadata": {
    "execution": {
     "iopub.execute_input": "2022-09-08T00:43:31.453359Z",
     "iopub.status.busy": "2022-09-08T00:43:31.437182Z",
     "iopub.status.idle": "2022-09-08T00:43:31.568121Z",
     "shell.execute_reply": "2022-09-08T00:43:31.567367Z"
    },
    "papermill": {
     "duration": 0.168816,
     "end_time": "2022-09-08T00:43:31.568238",
     "exception": false,
     "start_time": "2022-09-08T00:43:31.399422",
     "status": "completed"
    },
    "tags": []
   },
   "outputs": [
    {
     "name": "stdout",
     "output_type": "stream",
     "text": [
      "2\n"
     ]
    },
    {
     "data": {
      "text/plain": [
       "<matplotlib.image.AxesImage at 0x7f50dec02d68>"
      ]
     },
     "execution_count": 9,
     "metadata": {},
     "output_type": "execute_result"
    },
    {
     "data": {
      "image/png": "[encoded data removed]",
      "text/plain": [
       "<Figure size 432x288 with 1 Axes>"
      ]
     },
     "metadata": {
      "needs_background": "light"
     },
     "output_type": "display_data"
    }
   ],
   "source": [
    "image_index = 7776 # You may select anything up to 60,000\n",
    "print(train_labels[image_index]) \n",
    "plt.imshow(train_images[image_index], cmap='Greys')"
   ]
  },
  {
   "cell_type": "markdown",
   "id": "a8d2388d",
   "metadata": {
    "papermill": {
     "duration": 0.026044,
     "end_time": "2022-09-08T00:43:31.620670",
     "exception": false,
     "start_time": "2022-09-08T00:43:31.594626",
     "status": "completed"
    },
    "tags": []
   },
   "source": [
    "## Filter data to get 3 and 8 out"
   ]
  },
  {
   "cell_type": "code",
   "execution_count": 10,
   "id": "776f7fc7",
   "metadata": {
    "execution": {
     "iopub.execute_input": "2022-09-08T00:43:31.676684Z",
     "iopub.status.busy": "2022-09-08T00:43:31.676076Z",
     "iopub.status.idle": "2022-09-08T00:43:31.695277Z",
     "shell.execute_reply": "2022-09-08T00:43:31.694632Z"
    },
    "papermill": {
     "duration": 0.048787,
     "end_time": "2022-09-08T00:43:31.695396",
     "exception": false,
     "start_time": "2022-09-08T00:43:31.646609",
     "status": "completed"
    },
    "tags": []
   },
   "outputs": [],
   "source": [
    "train_filter = np.where((train_labels == 3 ) | (train_labels == 8))\n",
    "test_filter = np.where((test_labels == 3) | (test_labels == 8))\n",
    "X_train, y_train = train_images[train_filter], train_labels[train_filter]\n",
    "X_test, y_test = test_images[test_filter], test_labels[test_filter]"
   ]
  },
  {
   "cell_type": "markdown",
   "id": "948f0b7e",
   "metadata": {
    "papermill": {
     "duration": 0.025894,
     "end_time": "2022-09-08T00:43:31.748134",
     "exception": false,
     "start_time": "2022-09-08T00:43:31.722240",
     "status": "completed"
    },
    "tags": []
   },
   "source": [
    "We normalize the pizel values in the 0 to 1 range"
   ]
  },
  {
   "cell_type": "code",
   "execution_count": 11,
   "id": "ee4c2166",
   "metadata": {
    "execution": {
     "iopub.execute_input": "2022-09-08T00:43:31.805566Z",
     "iopub.status.busy": "2022-09-08T00:43:31.804986Z",
     "iopub.status.idle": "2022-09-08T00:43:31.851902Z",
     "shell.execute_reply": "2022-09-08T00:43:31.851330Z"
    },
    "papermill": {
     "duration": 0.078016,
     "end_time": "2022-09-08T00:43:31.852040",
     "exception": false,
     "start_time": "2022-09-08T00:43:31.774024",
     "status": "completed"
    },
    "tags": []
   },
   "outputs": [],
   "source": [
    "X_train = X_train/255.\n",
    "X_test = X_test/255."
   ]
  },
  {
   "cell_type": "markdown",
   "id": "ddcf4fab",
   "metadata": {
    "papermill": {
     "duration": 0.026116,
     "end_time": "2022-09-08T00:43:31.905799",
     "exception": false,
     "start_time": "2022-09-08T00:43:31.879683",
     "status": "completed"
    },
    "tags": []
   },
   "source": [
    "And setup the labels as 1 (when the digit is 3) and 0 (when the digit is 8)"
   ]
  },
  {
   "cell_type": "code",
   "execution_count": 12,
   "id": "7dc908f2",
   "metadata": {
    "execution": {
     "iopub.execute_input": "2022-09-08T00:43:31.961386Z",
     "iopub.status.busy": "2022-09-08T00:43:31.960800Z",
     "iopub.status.idle": "2022-09-08T00:43:31.974614Z",
     "shell.execute_reply": "2022-09-08T00:43:31.974049Z"
    },
    "papermill": {
     "duration": 0.042962,
     "end_time": "2022-09-08T00:43:31.974718",
     "exception": false,
     "start_time": "2022-09-08T00:43:31.931756",
     "status": "completed"
    },
    "tags": []
   },
   "outputs": [],
   "source": [
    "y_train = 1*(y_train==3)\n",
    "y_test = 1*(y_test==3)"
   ]
  },
  {
   "cell_type": "code",
   "execution_count": 13,
   "id": "01e4e969",
   "metadata": {
    "execution": {
     "iopub.execute_input": "2022-09-08T00:43:32.030623Z",
     "iopub.status.busy": "2022-09-08T00:43:32.030060Z",
     "iopub.status.idle": "2022-09-08T00:43:32.044096Z",
     "shell.execute_reply": "2022-09-08T00:43:32.044605Z"
    },
    "papermill": {
     "duration": 0.043606,
     "end_time": "2022-09-08T00:43:32.044730",
     "exception": false,
     "start_time": "2022-09-08T00:43:32.001124",
     "status": "completed"
    },
    "tags": []
   },
   "outputs": [
    {
     "data": {
      "text/plain": [
       "((11982, 28, 28), (1984, 28, 28))"
      ]
     },
     "execution_count": 13,
     "metadata": {},
     "output_type": "execute_result"
    }
   ],
   "source": [
    "X_train.shape, X_test.shape"
   ]
  },
  {
   "cell_type": "markdown",
   "id": "5ccf3f85",
   "metadata": {
    "papermill": {
     "duration": 0.026063,
     "end_time": "2022-09-08T00:43:32.096891",
     "exception": false,
     "start_time": "2022-09-08T00:43:32.070828",
     "status": "completed"
    },
    "tags": []
   },
   "source": [
    "We reshape the data to flatten the image pixels into a set of features or co-variates:"
   ]
  },
  {
   "cell_type": "code",
   "execution_count": 14,
   "id": "5286a4a3",
   "metadata": {
    "execution": {
     "iopub.execute_input": "2022-09-08T00:43:32.153934Z",
     "iopub.status.busy": "2022-09-08T00:43:32.153365Z",
     "iopub.status.idle": "2022-09-08T00:43:32.166917Z",
     "shell.execute_reply": "2022-09-08T00:43:32.167393Z"
    },
    "papermill": {
     "duration": 0.044347,
     "end_time": "2022-09-08T00:43:32.167509",
     "exception": false,
     "start_time": "2022-09-08T00:43:32.123162",
     "status": "completed"
    },
    "tags": []
   },
   "outputs": [
    {
     "data": {
      "text/plain": [
       "((11982, 784), (1984, 784))"
      ]
     },
     "execution_count": 14,
     "metadata": {},
     "output_type": "execute_result"
    }
   ],
   "source": [
    "X_train = X_train.reshape(X_train.shape[0], -1)\n",
    "X_test = X_test.reshape(X_test.shape[0], -1)\n",
    "X_train.shape, X_test.shape"
   ]
  },
  {
   "cell_type": "code",
   "execution_count": 15,
   "id": "73c5f88a",
   "metadata": {
    "execution": {
     "iopub.execute_input": "2022-09-08T00:43:32.237436Z",
     "iopub.status.busy": "2022-09-08T00:43:32.233382Z",
     "iopub.status.idle": "2022-09-08T00:43:32.246364Z",
     "shell.execute_reply": "2022-09-08T00:43:32.246820Z"
    },
    "papermill": {
     "duration": 0.053116,
     "end_time": "2022-09-08T00:43:32.246938",
     "exception": false,
     "start_time": "2022-09-08T00:43:32.193822",
     "status": "completed"
    },
    "tags": []
   },
   "outputs": [],
   "source": [
    "#Impoting functions from 'Kudzu'\n",
    "from kudzu.model import Model\n",
    "from kudzu.train import Learner\n",
    "from kudzu.optim import GD\n",
    "from kudzu.data import Data, Sampler,Dataloader\n",
    "\n",
    "from kudzu.callbacks import AccCallback\n",
    "from kudzu.callbacks import ClfCallback\n",
    "\n",
    "from kudzu.loss import MSE\n",
    "\n",
    "from kudzu.layer import Sigmoid,Relu\n",
    "from kudzu.layer import Affine"
   ]
  },
  {
   "cell_type": "markdown",
   "id": "bc01172a",
   "metadata": {
    "papermill": {
     "duration": 0.026346,
     "end_time": "2022-09-08T00:43:32.300347",
     "exception": false,
     "start_time": "2022-09-08T00:43:32.274001",
     "status": "completed"
    },
    "tags": []
   },
   "source": [
    "### Let us create a `Config` class, to store important parameters. \n",
    "This class essentially plays the role of a dictionary."
   ]
  },
  {
   "cell_type": "code",
   "execution_count": 16,
   "id": "978281aa",
   "metadata": {
    "execution": {
     "iopub.execute_input": "2022-09-08T00:43:32.357177Z",
     "iopub.status.busy": "2022-09-08T00:43:32.356579Z",
     "iopub.status.idle": "2022-09-08T00:43:32.370382Z",
     "shell.execute_reply": "2022-09-08T00:43:32.369908Z"
    },
    "papermill": {
     "duration": 0.043787,
     "end_time": "2022-09-08T00:43:32.370522",
     "exception": false,
     "start_time": "2022-09-08T00:43:32.326735",
     "status": "completed"
    },
    "tags": []
   },
   "outputs": [],
   "source": [
    "class Config:\n",
    "    pass\n",
    "config = Config()\n",
    "config.lr = 0.001\n",
    "config.num_epochs = 250\n",
    "config.bs = 50"
   ]
  },
  {
   "cell_type": "markdown",
   "id": "1385fa59",
   "metadata": {
    "papermill": {
     "duration": 0.026402,
     "end_time": "2022-09-08T00:43:32.423596",
     "exception": false,
     "start_time": "2022-09-08T00:43:32.397194",
     "status": "completed"
    },
    "tags": []
   },
   "source": [
    "### Running Models with the Training data\n",
    "Details about the network layers:\n",
    "- A first affine layer has 784 inputs and does 100 affine transforms. These are followed by a Relu\n",
    "- A second affine layer has 100 inputs from the 100 activations of the past layer, and does 100 affine transforms. These are followed by a Relu\n",
    "- A third affine layer has 100 activations and does 2 affine transformations to create an embedding for visualization. There is no non-linearity here.\n",
    "- A final \"logistic regression\" which has an affine transform from 2 inputs to 1 output, which is squeezed through a sigmoid.\n"
   ]
  },
  {
   "cell_type": "code",
   "execution_count": 17,
   "id": "2b9c66db",
   "metadata": {
    "execution": {
     "iopub.execute_input": "2022-09-08T00:43:32.481601Z",
     "iopub.status.busy": "2022-09-08T00:43:32.481002Z",
     "iopub.status.idle": "2022-09-08T00:43:32.493638Z",
     "shell.execute_reply": "2022-09-08T00:43:32.494107Z"
    },
    "papermill": {
     "duration": 0.043388,
     "end_time": "2022-09-08T00:43:32.494233",
     "exception": false,
     "start_time": "2022-09-08T00:43:32.450845",
     "status": "completed"
    },
    "tags": []
   },
   "outputs": [],
   "source": [
    "data = Data(X_train, y_train.reshape(-1,1))\n",
    "sampler = Sampler(data, config.bs, shuffle=True)\n",
    "\n",
    "dl = Dataloader(data, sampler)\n",
    "\n",
    "opt = GD(config.lr)\n",
    "loss = MSE()"
   ]
  },
  {
   "cell_type": "code",
   "execution_count": 18,
   "id": "b275e4c2",
   "metadata": {
    "execution": {
     "iopub.execute_input": "2022-09-08T00:43:32.550685Z",
     "iopub.status.busy": "2022-09-08T00:43:32.550118Z",
     "iopub.status.idle": "2022-09-08T00:43:32.563127Z",
     "shell.execute_reply": "2022-09-08T00:43:32.562661Z"
    },
    "papermill": {
     "duration": 0.042518,
     "end_time": "2022-09-08T00:43:32.563233",
     "exception": false,
     "start_time": "2022-09-08T00:43:32.520715",
     "status": "completed"
    },
    "tags": []
   },
   "outputs": [],
   "source": [
    "training_data_x = X_train\n",
    "testing_data_x = X_test\n",
    "training_data_y = y_train.reshape(-1,1)\n",
    "testing_data_y = y_test.reshape(-1,1)"
   ]
  },
  {
   "cell_type": "code",
   "execution_count": 19,
   "id": "76951160",
   "metadata": {
    "execution": {
     "iopub.execute_input": "2022-09-08T00:43:32.633444Z",
     "iopub.status.busy": "2022-09-08T00:43:32.629534Z",
     "iopub.status.idle": "2022-09-08T00:43:32.639077Z",
     "shell.execute_reply": "2022-09-08T00:43:32.638608Z"
    },
    "papermill": {
     "duration": 0.049643,
     "end_time": "2022-09-08T00:43:32.639179",
     "exception": false,
     "start_time": "2022-09-08T00:43:32.589536",
     "status": "completed"
    },
    "tags": []
   },
   "outputs": [
    {
     "name": "stdout",
     "output_type": "stream",
     "text": [
      "xavier\n",
      "xavier\n",
      "xavier\n",
      "xavier\n",
      "xavier\n"
     ]
    }
   ],
   "source": [
    "layers = [Affine(\"first\", 784, 100), Relu(\"first\"), Affine(\"second\", 100, 100), Relu(\"second\"), Affine(\"third\", 100, 2), Affine(\"last\", 2, 1), Sigmoid(\"last\")]\n",
    "model_nn = Model(layers)\n",
    "model_lr = Model([Affine(\"logits\", 784, 1), Sigmoid(\"sigmoid\")])"
   ]
  },
  {
   "cell_type": "code",
   "execution_count": 20,
   "id": "6eede77a",
   "metadata": {
    "execution": {
     "iopub.execute_input": "2022-09-08T00:43:32.705079Z",
     "iopub.status.busy": "2022-09-08T00:43:32.704009Z",
     "iopub.status.idle": "2022-09-08T00:43:32.711975Z",
     "shell.execute_reply": "2022-09-08T00:43:32.710877Z"
    },
    "papermill": {
     "duration": 0.046088,
     "end_time": "2022-09-08T00:43:32.712079",
     "exception": false,
     "start_time": "2022-09-08T00:43:32.665991",
     "status": "completed"
    },
    "tags": []
   },
   "outputs": [],
   "source": [
    "nn_learner = Learner(loss, model_nn, opt, config.num_epochs)\n",
    "acc_nn = ClfCallback(nn_learner, config.bs, training_data_x , testing_data_x, training_data_y, testing_data_y)\n",
    "nn_learner.set_callbacks([acc_nn])"
   ]
  },
  {
   "cell_type": "code",
   "execution_count": 21,
   "id": "877b6cc7",
   "metadata": {
    "execution": {
     "iopub.execute_input": "2022-09-08T00:43:32.777239Z",
     "iopub.status.busy": "2022-09-08T00:43:32.773136Z",
     "iopub.status.idle": "2022-09-08T00:43:32.782291Z",
     "shell.execute_reply": "2022-09-08T00:43:32.781741Z"
    },
    "papermill": {
     "duration": 0.04357,
     "end_time": "2022-09-08T00:43:32.782393",
     "exception": false,
     "start_time": "2022-09-08T00:43:32.738823",
     "status": "completed"
    },
    "tags": []
   },
   "outputs": [],
   "source": [
    "lr_learner = Learner(loss, model_lr, opt, config.num_epochs)\n",
    "acc_lr = ClfCallback(lr_learner, config.bs, training_data_x , testing_data_x, training_data_y, testing_data_y)\n",
    "lr_learner.set_callbacks([acc_lr])"
   ]
  },
  {
   "cell_type": "code",
   "execution_count": 22,
   "id": "d9b133c3",
   "metadata": {
    "execution": {
     "iopub.execute_input": "2022-09-08T00:43:32.844042Z",
     "iopub.status.busy": "2022-09-08T00:43:32.838441Z",
     "iopub.status.idle": "2022-09-08T00:44:45.955745Z",
     "shell.execute_reply": "2022-09-08T00:44:45.956304Z"
    },
    "papermill": {
     "duration": 73.14734,
     "end_time": "2022-09-08T00:44:45.956460",
     "exception": false,
     "start_time": "2022-09-08T00:43:32.809120",
     "status": "completed"
    },
    "tags": []
   },
   "outputs": [
    {
     "name": "stdout",
     "output_type": "stream",
     "text": [
      "Epoch 0, Loss 0.2326\n",
      "Training Accuracy: 0.7669, Testing Accuracy: 0.7939\n",
      "\n"
     ]
    },
    {
     "name": "stdout",
     "output_type": "stream",
     "text": [
      "Epoch 10, Loss 0.0779\n",
      "Training Accuracy: 0.9259, Testing Accuracy: 0.9375\n",
      "\n"
     ]
    },
    {
     "name": "stdout",
     "output_type": "stream",
     "text": [
      "Epoch 20, Loss 0.0501\n",
      "Training Accuracy: 0.9478, Testing Accuracy: 0.9556\n",
      "\n"
     ]
    },
    {
     "name": "stdout",
     "output_type": "stream",
     "text": [
      "Epoch 30, Loss 0.04\n",
      "Training Accuracy: 0.9570, Testing Accuracy: 0.9597\n",
      "\n"
     ]
    },
    {
     "name": "stdout",
     "output_type": "stream",
     "text": [
      "Epoch 40, Loss 0.035\n",
      "Training Accuracy: 0.9619, Testing Accuracy: 0.9632\n",
      "\n"
     ]
    },
    {
     "name": "stdout",
     "output_type": "stream",
     "text": [
      "Epoch 50, Loss 0.0319\n",
      "Training Accuracy: 0.9639, Testing Accuracy: 0.9657\n",
      "\n"
     ]
    },
    {
     "name": "stdout",
     "output_type": "stream",
     "text": [
      "Epoch 60, Loss 0.0298\n",
      "Training Accuracy: 0.9660, Testing Accuracy: 0.9672\n",
      "\n"
     ]
    },
    {
     "name": "stdout",
     "output_type": "stream",
     "text": [
      "Epoch 70, Loss 0.0282\n",
      "Training Accuracy: 0.9674, Testing Accuracy: 0.9688\n",
      "\n"
     ]
    },
    {
     "name": "stdout",
     "output_type": "stream",
     "text": [
      "Epoch 80, Loss 0.027\n",
      "Training Accuracy: 0.9689, Testing Accuracy: 0.9693\n",
      "\n"
     ]
    },
    {
     "name": "stdout",
     "output_type": "stream",
     "text": [
      "Epoch 90, Loss 0.0259\n",
      "Training Accuracy: 0.9698, Testing Accuracy: 0.9703\n",
      "\n"
     ]
    },
    {
     "name": "stdout",
     "output_type": "stream",
     "text": [
      "Epoch 100, Loss 0.025\n",
      "Training Accuracy: 0.9709, Testing Accuracy: 0.9708\n",
      "\n"
     ]
    },
    {
     "name": "stdout",
     "output_type": "stream",
     "text": [
      "Epoch 110, Loss 0.0242\n",
      "Training Accuracy: 0.9719, Testing Accuracy: 0.9703\n",
      "\n"
     ]
    },
    {
     "name": "stdout",
     "output_type": "stream",
     "text": [
      "Epoch 120, Loss 0.0236\n",
      "Training Accuracy: 0.9725, Testing Accuracy: 0.9713\n",
      "\n"
     ]
    },
    {
     "name": "stdout",
     "output_type": "stream",
     "text": [
      "Epoch 130, Loss 0.023\n",
      "Training Accuracy: 0.9734, Testing Accuracy: 0.9703\n",
      "\n"
     ]
    },
    {
     "name": "stdout",
     "output_type": "stream",
     "text": [
      "Epoch 140, Loss 0.0224\n",
      "Training Accuracy: 0.9745, Testing Accuracy: 0.9703\n",
      "\n"
     ]
    },
    {
     "name": "stdout",
     "output_type": "stream",
     "text": [
      "Epoch 150, Loss 0.0219\n",
      "Training Accuracy: 0.9750, Testing Accuracy: 0.9703\n",
      "\n"
     ]
    },
    {
     "name": "stdout",
     "output_type": "stream",
     "text": [
      "Epoch 160, Loss 0.0214\n",
      "Training Accuracy: 0.9760, Testing Accuracy: 0.9708\n",
      "\n"
     ]
    },
    {
     "name": "stdout",
     "output_type": "stream",
     "text": [
      "Epoch 170, Loss 0.0209\n",
      "Training Accuracy: 0.9770, Testing Accuracy: 0.9713\n",
      "\n"
     ]
    },
    {
     "name": "stdout",
     "output_type": "stream",
     "text": [
      "Epoch 180, Loss 0.0205\n",
      "Training Accuracy: 0.9770, Testing Accuracy: 0.9718\n",
      "\n"
     ]
    },
    {
     "name": "stdout",
     "output_type": "stream",
     "text": [
      "Epoch 190, Loss 0.0201\n",
      "Training Accuracy: 0.9776, Testing Accuracy: 0.9713\n",
      "\n"
     ]
    },
    {
     "name": "stdout",
     "output_type": "stream",
     "text": [
      "Epoch 200, Loss 0.0197\n",
      "Training Accuracy: 0.9784, Testing Accuracy: 0.9713\n",
      "\n"
     ]
    },
    {
     "name": "stdout",
     "output_type": "stream",
     "text": [
      "Epoch 210, Loss 0.0194\n",
      "Training Accuracy: 0.9785, Testing Accuracy: 0.9718\n",
      "\n"
     ]
    },
    {
     "name": "stdout",
     "output_type": "stream",
     "text": [
      "Epoch 220, Loss 0.019\n",
      "Training Accuracy: 0.9790, Testing Accuracy: 0.9713\n",
      "\n"
     ]
    },
    {
     "name": "stdout",
     "output_type": "stream",
     "text": [
      "Epoch 230, Loss 0.0187\n",
      "Training Accuracy: 0.9791, Testing Accuracy: 0.9728\n",
      "\n"
     ]
    },
    {
     "name": "stdout",
     "output_type": "stream",
     "text": [
      "Epoch 240, Loss 0.0183\n",
      "Training Accuracy: 0.9797, Testing Accuracy: 0.9733\n",
      "\n"
     ]
    },
    {
     "data": {
      "text/plain": [
       "0.0017740189024298574"
      ]
     },
     "execution_count": 22,
     "metadata": {},
     "output_type": "execute_result"
    }
   ],
   "source": [
    "nn_learner.train_loop(dl)"
   ]
  },
  {
   "cell_type": "code",
   "execution_count": 23,
   "id": "e0163366",
   "metadata": {
    "execution": {
     "iopub.execute_input": "2022-09-08T00:44:46.037846Z",
     "iopub.status.busy": "2022-09-08T00:44:46.037246Z",
     "iopub.status.idle": "2022-09-08T00:44:59.008655Z",
     "shell.execute_reply": "2022-09-08T00:44:59.009519Z"
    },
    "papermill": {
     "duration": 13.019391,
     "end_time": "2022-09-08T00:44:59.009662",
     "exception": false,
     "start_time": "2022-09-08T00:44:45.990271",
     "status": "completed"
    },
    "tags": []
   },
   "outputs": [
    {
     "name": "stdout",
     "output_type": "stream",
     "text": [
      "Epoch 0, Loss 0.2503\n",
      "Training Accuracy: 0.6502, Testing Accuracy: 0.6482\n",
      "\n"
     ]
    },
    {
     "name": "stdout",
     "output_type": "stream",
     "text": [
      "Epoch 10, Loss 0.1045\n",
      "Training Accuracy: 0.9049, Testing Accuracy: 0.9083\n",
      "\n"
     ]
    },
    {
     "name": "stdout",
     "output_type": "stream",
     "text": [
      "Epoch 20, Loss 0.0802\n",
      "Training Accuracy: 0.9232, Testing Accuracy: 0.9299\n",
      "\n"
     ]
    },
    {
     "name": "stdout",
     "output_type": "stream",
     "text": [
      "Epoch 30, Loss 0.0689\n",
      "Training Accuracy: 0.9330, Testing Accuracy: 0.9461\n",
      "\n"
     ]
    },
    {
     "name": "stdout",
     "output_type": "stream",
     "text": [
      "Epoch 40, Loss 0.0621\n",
      "Training Accuracy: 0.9391, Testing Accuracy: 0.9496\n",
      "\n"
     ]
    },
    {
     "name": "stdout",
     "output_type": "stream",
     "text": [
      "Epoch 50, Loss 0.0575\n",
      "Training Accuracy: 0.9437, Testing Accuracy: 0.9546\n",
      "\n"
     ]
    },
    {
     "name": "stdout",
     "output_type": "stream",
     "text": [
      "Epoch 60, Loss 0.054\n",
      "Training Accuracy: 0.9460, Testing Accuracy: 0.9582\n",
      "\n"
     ]
    },
    {
     "name": "stdout",
     "output_type": "stream",
     "text": [
      "Epoch 70, Loss 0.0514\n",
      "Training Accuracy: 0.9486, Testing Accuracy: 0.9592\n",
      "\n"
     ]
    },
    {
     "name": "stdout",
     "output_type": "stream",
     "text": [
      "Epoch 80, Loss 0.0493\n",
      "Training Accuracy: 0.9502, Testing Accuracy: 0.9602\n",
      "\n"
     ]
    },
    {
     "name": "stdout",
     "output_type": "stream",
     "text": [
      "Epoch 90, Loss 0.0476\n",
      "Training Accuracy: 0.9515, Testing Accuracy: 0.9612\n",
      "\n"
     ]
    },
    {
     "name": "stdout",
     "output_type": "stream",
     "text": [
      "Epoch 100, Loss 0.0461\n",
      "Training Accuracy: 0.9529, Testing Accuracy: 0.9617\n",
      "\n"
     ]
    },
    {
     "name": "stdout",
     "output_type": "stream",
     "text": [
      "Epoch 110, Loss 0.0449\n",
      "Training Accuracy: 0.9540, Testing Accuracy: 0.9632\n",
      "\n"
     ]
    },
    {
     "name": "stdout",
     "output_type": "stream",
     "text": [
      "Epoch 120, Loss 0.0438\n",
      "Training Accuracy: 0.9550, Testing Accuracy: 0.9637\n",
      "\n"
     ]
    },
    {
     "name": "stdout",
     "output_type": "stream",
     "text": [
      "Epoch 130, Loss 0.0429\n",
      "Training Accuracy: 0.9564, Testing Accuracy: 0.9637\n",
      "\n"
     ]
    },
    {
     "name": "stdout",
     "output_type": "stream",
     "text": [
      "Epoch 140, Loss 0.042\n",
      "Training Accuracy: 0.9571, Testing Accuracy: 0.9632\n",
      "\n"
     ]
    },
    {
     "name": "stdout",
     "output_type": "stream",
     "text": [
      "Epoch 150, Loss 0.0413\n",
      "Training Accuracy: 0.9578, Testing Accuracy: 0.9632\n",
      "\n"
     ]
    },
    {
     "name": "stdout",
     "output_type": "stream",
     "text": [
      "Epoch 160, Loss 0.0406\n",
      "Training Accuracy: 0.9584, Testing Accuracy: 0.9637\n",
      "\n"
     ]
    },
    {
     "name": "stdout",
     "output_type": "stream",
     "text": [
      "Epoch 170, Loss 0.04\n",
      "Training Accuracy: 0.9589, Testing Accuracy: 0.9637\n",
      "\n"
     ]
    },
    {
     "name": "stdout",
     "output_type": "stream",
     "text": [
      "Epoch 180, Loss 0.0394\n",
      "Training Accuracy: 0.9594, Testing Accuracy: 0.9652\n",
      "\n"
     ]
    },
    {
     "name": "stdout",
     "output_type": "stream",
     "text": [
      "Epoch 190, Loss 0.0389\n",
      "Training Accuracy: 0.9597, Testing Accuracy: 0.9652\n",
      "\n"
     ]
    },
    {
     "name": "stdout",
     "output_type": "stream",
     "text": [
      "Epoch 200, Loss 0.0384\n",
      "Training Accuracy: 0.9600, Testing Accuracy: 0.9652\n",
      "\n"
     ]
    },
    {
     "name": "stdout",
     "output_type": "stream",
     "text": [
      "Epoch 210, Loss 0.038\n",
      "Training Accuracy: 0.9601, Testing Accuracy: 0.9657\n",
      "\n"
     ]
    },
    {
     "name": "stdout",
     "output_type": "stream",
     "text": [
      "Epoch 220, Loss 0.0376\n",
      "Training Accuracy: 0.9604, Testing Accuracy: 0.9657\n",
      "\n"
     ]
    },
    {
     "name": "stdout",
     "output_type": "stream",
     "text": [
      "Epoch 230, Loss 0.0372\n",
      "Training Accuracy: 0.9604, Testing Accuracy: 0.9657\n",
      "\n"
     ]
    },
    {
     "name": "stdout",
     "output_type": "stream",
     "text": [
      "Epoch 240, Loss 0.0368\n",
      "Training Accuracy: 0.9607, Testing Accuracy: 0.9662\n",
      "\n"
     ]
    },
    {
     "data": {
      "text/plain": [
       "0.01938211008793584"
      ]
     },
     "execution_count": 23,
     "metadata": {},
     "output_type": "execute_result"
    }
   ],
   "source": [
    "lr_learner.train_loop(dl)"
   ]
  },
  {
   "cell_type": "code",
   "execution_count": 24,
   "id": "ca410940",
   "metadata": {
    "execution": {
     "iopub.execute_input": "2022-09-08T00:44:59.105801Z",
     "iopub.status.busy": "2022-09-08T00:44:59.105200Z",
     "iopub.status.idle": "2022-09-08T00:44:59.327209Z",
     "shell.execute_reply": "2022-09-08T00:44:59.327669Z"
    },
    "papermill": {
     "duration": 0.276937,
     "end_time": "2022-09-08T00:44:59.327808",
     "exception": false,
     "start_time": "2022-09-08T00:44:59.050871",
     "status": "completed"
    },
    "tags": []
   },
   "outputs": [
    {
     "data": {
      "text/plain": [
       "<matplotlib.legend.Legend at 0x7f50de770438>"
      ]
     },
     "execution_count": 24,
     "metadata": {},
     "output_type": "execute_result"
    },
    {
     "data": {
      "image/png": "[encoded data removed]",
      "text/plain": [
       "<Figure size 1080x720 with 1 Axes>"
      ]
     },
     "metadata": {
      "needs_background": "light"
     },
     "output_type": "display_data"
    }
   ],
   "source": [
    "#comparing the results of NN and LR\n",
    "plt.figure(figsize=(15,10))\n",
    "\n",
    "# Neural Network plots\n",
    "plt.plot(acc_nn.accuracies, 'r-', label = \"Training Accuracies - NN\")\n",
    "plt.plot(acc_nn.test_accuracies, 'g-', label = \"Testing Accuracies - NN\")\n",
    "\n",
    "# Logistic Regression plots\n",
    "plt.plot(acc_lr.accuracies, 'k-', label = \"Training Accuracies - LR\")\n",
    "plt.plot(acc_lr.test_accuracies, 'b-', label = \"Testing Accuracies - LR\")\n",
    "plt.legend()"
   ]
  },
  {
   "cell_type": "markdown",
   "id": "80dfb35c",
   "metadata": {
    "papermill": {
     "duration": 0.041373,
     "end_time": "2022-09-08T00:44:59.411013",
     "exception": false,
     "start_time": "2022-09-08T00:44:59.369640",
     "status": "completed"
    },
    "tags": []
   },
   "source": [
    "#### Plotting the outputs of this layer of the NN.\n"
   ]
  },
  {
   "cell_type": "code",
   "execution_count": 25,
   "id": "45eb2ff5",
   "metadata": {
    "execution": {
     "iopub.execute_input": "2022-09-08T00:44:59.498677Z",
     "iopub.status.busy": "2022-09-08T00:44:59.498059Z",
     "iopub.status.idle": "2022-09-08T00:44:59.518780Z",
     "shell.execute_reply": "2022-09-08T00:44:59.518257Z"
    },
    "papermill": {
     "duration": 0.066523,
     "end_time": "2022-09-08T00:44:59.518895",
     "exception": false,
     "start_time": "2022-09-08T00:44:59.452372",
     "status": "completed"
    },
    "tags": []
   },
   "outputs": [],
   "source": [
    "new_model = Model(layers[:-2])\n",
    "testing_plot = new_model(testing_data_x)"
   ]
  },
  {
   "cell_type": "code",
   "execution_count": 26,
   "id": "4c0a5485",
   "metadata": {
    "execution": {
     "iopub.execute_input": "2022-09-08T00:44:59.612751Z",
     "iopub.status.busy": "2022-09-08T00:44:59.610692Z",
     "iopub.status.idle": "2022-09-08T00:44:59.823562Z",
     "shell.execute_reply": "2022-09-08T00:44:59.822966Z"
    },
    "papermill": {
     "duration": 0.261644,
     "end_time": "2022-09-08T00:44:59.823680",
     "exception": false,
     "start_time": "2022-09-08T00:44:59.562036",
     "status": "completed"
    },
    "tags": []
   },
   "outputs": [
    {
     "data": {
      "text/plain": [
       "Text(0.5, 1.0, 'Outputs')"
      ]
     },
     "execution_count": 26,
     "metadata": {},
     "output_type": "execute_result"
    },
    {
     "data": {
      "image/png": "[encoded data removed]",
      "text/plain": [
       "<Figure size 576x504 with 1 Axes>"
      ]
     },
     "metadata": {
      "needs_background": "light"
     },
     "output_type": "display_data"
    }
   ],
   "source": [
    "# Plotting the scatter plot of points and color coding by class\n",
    "plt.figure(figsize=(8,7))\n",
    "plt.scatter(testing_plot[:,0], testing_plot[:,1], alpha = 0.1, c = y_test.ravel());\n",
    "plt.title('Outputs')"
   ]
  },
  {
   "cell_type": "markdown",
   "id": "a74fcf8f",
   "metadata": {
    "papermill": {
     "duration": 0.04425,
     "end_time": "2022-09-08T00:44:59.912676",
     "exception": false,
     "start_time": "2022-09-08T00:44:59.868426",
     "status": "completed"
    },
    "tags": []
   },
   "source": [
    "Probability contours"
   ]
  },
  {
   "cell_type": "code",
   "execution_count": 27,
   "id": "d0afc8e3",
   "metadata": {
    "execution": {
     "iopub.execute_input": "2022-09-08T00:45:00.008575Z",
     "iopub.status.busy": "2022-09-08T00:45:00.007971Z",
     "iopub.status.idle": "2022-09-08T00:45:00.018599Z",
     "shell.execute_reply": "2022-09-08T00:45:00.019045Z"
    },
    "papermill": {
     "duration": 0.062082,
     "end_time": "2022-09-08T00:45:00.019169",
     "exception": false,
     "start_time": "2022-09-08T00:44:59.957087",
     "status": "completed"
    },
    "tags": []
   },
   "outputs": [],
   "source": [
    "model_prob = Model(layers[-2:]) "
   ]
  },
  {
   "cell_type": "code",
   "execution_count": 28,
   "id": "9b96e238",
   "metadata": {
    "execution": {
     "iopub.execute_input": "2022-09-08T00:45:00.116054Z",
     "iopub.status.busy": "2022-09-08T00:45:00.115441Z",
     "iopub.status.idle": "2022-09-08T00:45:00.128079Z",
     "shell.execute_reply": "2022-09-08T00:45:00.128954Z"
    },
    "papermill": {
     "duration": 0.065518,
     "end_time": "2022-09-08T00:45:00.129090",
     "exception": false,
     "start_time": "2022-09-08T00:45:00.063572",
     "status": "completed"
    },
    "tags": []
   },
   "outputs": [],
   "source": [
    "#creating the x and y ranges according to the above generated plot.\n",
    "x_range = np.linspace(-4, 1, 100) \n",
    "y_range = np.linspace(-6, 6, 100) \n",
    "x_grid, y_grid = np.meshgrid(x_range, y_range) # x_grid and y_grig are of size 100 X 100\n",
    "\n",
    "# converting x_grid and y_grid to continuous arrays\n",
    "x_gridflat = np.ravel(x_grid)\n",
    "y_gridflat = np.ravel(y_grid)\n",
    "\n",
    "# The last layer of the current model takes two columns as input. Hence transpose of np.vstack() is required.\n",
    "X = np.vstack((x_gridflat, y_gridflat)).T\n",
    "\n",
    "prob_contour = model_prob(X).reshape(100,100) "
   ]
  },
  {
   "cell_type": "code",
   "execution_count": 29,
   "id": "da72499a",
   "metadata": {
    "execution": {
     "iopub.execute_input": "2022-09-08T00:45:00.253070Z",
     "iopub.status.busy": "2022-09-08T00:45:00.252332Z",
     "iopub.status.idle": "2022-09-08T00:45:00.506722Z",
     "shell.execute_reply": "2022-09-08T00:45:00.506160Z"
    },
    "papermill": {
     "duration": 0.304435,
     "end_time": "2022-09-08T00:45:00.506855",
     "exception": false,
     "start_time": "2022-09-08T00:45:00.202420",
     "status": "completed"
    },
    "tags": []
   },
   "outputs": [
    {
     "data": {
      "image/png": "[encoded data removed]",
      "text/plain": [
       "<Figure size 720x648 with 1 Axes>"
      ]
     },
     "metadata": {
      "needs_background": "light"
     },
     "output_type": "display_data"
    }
   ],
   "source": [
    "plt.figure(figsize=(10,9))\n",
    "plt.scatter(testing_plot[:,0], testing_plot[:,1], alpha = 0.1, c = y_test.ravel())\n",
    "contours = plt.contour(x_grid,y_grid,prob_contour)\n",
    "plt.title('Probability Contours')\n",
    "plt.clabel(contours, inline = True );"
   ]
  },
  {
   "cell_type": "code",
   "execution_count": null,
   "id": "e81b4ac7",
   "metadata": {
    "papermill": {
     "duration": 0.047251,
     "end_time": "2022-09-08T00:45:00.602602",
     "exception": false,
     "start_time": "2022-09-08T00:45:00.555351",
     "status": "completed"
    },
    "tags": []
   },
   "outputs": [],
   "source": []
  }
 ],
 "metadata": {
  "kernelspec": {
   "display_name": "Python 3",
   "language": "python",
   "name": "python3"
  },
  "language_info": {
   "codemirror_mode": {
    "name": "ipython",
    "version": 3
   },
   "file_extension": ".py",
   "mimetype": "text/x-python",
   "name": "python",
   "nbconvert_exporter": "python",
   "pygments_lexer": "ipython3",
   "version": "3.6.15"
  },
  "papermill": {
   "default_parameters": {},
   "duration": 94.091296,
   "end_time": "2022-09-08T00:45:01.068586",
   "environment_variables": {},
   "exception": null,
   "input_path": "2020-08-11-part2.ipynb",
   "output_path": "2020-08-11-part2.ipynb",
   "parameters": {},
   "start_time": "2022-09-08T00:43:26.977290",
   "version": "2.3.3"
  }
 },
 "nbformat": 4,
 "nbformat_minor": 5
}