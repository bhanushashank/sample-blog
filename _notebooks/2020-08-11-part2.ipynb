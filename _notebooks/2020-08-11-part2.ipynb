{
 "cells": [
  {
   "cell_type": "markdown",
   "id": "98380cd3",
   "metadata": {
    "papermill": {
     "duration": 0.034399,
     "end_time": "2021-12-09T00:23:54.774162",
     "exception": false,
     "start_time": "2021-12-09T00:23:54.739763",
     "status": "completed"
    },
    "tags": []
   },
   "source": [
    "# Distinguish Your Own Digits (DYOD)"
   ]
  },
  {
   "cell_type": "markdown",
   "id": "ef31240d",
   "metadata": {
    "papermill": {
     "duration": 0.029631,
     "end_time": "2021-12-09T00:23:54.834542",
     "exception": false,
     "start_time": "2021-12-09T00:23:54.804911",
     "status": "completed"
    },
    "tags": []
   },
   "source": [
    "You are going to write a classifier that distinguishes between the number 3 and number 8."
   ]
  },
  {
   "cell_type": "code",
   "execution_count": 1,
   "id": "b15c8646",
   "metadata": {
    "execution": {
     "iopub.execute_input": "2021-12-09T00:23:54.908342Z",
     "iopub.status.busy": "2021-12-09T00:23:54.907662Z",
     "iopub.status.idle": "2021-12-09T00:23:54.919754Z",
     "shell.execute_reply": "2021-12-09T00:23:54.919068Z"
    },
    "papermill": {
     "duration": 0.055667,
     "end_time": "2021-12-09T00:23:54.919911",
     "exception": false,
     "start_time": "2021-12-09T00:23:54.864244",
     "status": "completed"
    },
    "tags": []
   },
   "outputs": [],
   "source": [
    "%load_ext autoreload\n",
    "%autoreload 2"
   ]
  },
  {
   "cell_type": "code",
   "execution_count": 2,
   "id": "22ef38dc",
   "metadata": {
    "execution": {
     "iopub.execute_input": "2021-12-09T00:23:54.994801Z",
     "iopub.status.busy": "2021-12-09T00:23:54.994106Z",
     "iopub.status.idle": "2021-12-09T00:23:55.683610Z",
     "shell.execute_reply": "2021-12-09T00:23:55.683022Z"
    },
    "papermill": {
     "duration": 0.733077,
     "end_time": "2021-12-09T00:23:55.683765",
     "exception": false,
     "start_time": "2021-12-09T00:23:54.950688",
     "status": "completed"
    },
    "tags": []
   },
   "outputs": [],
   "source": [
    "%matplotlib inline\n",
    "import numpy as np\n",
    "import matplotlib.pyplot as plt\n",
    "import pandas as pd"
   ]
  },
  {
   "cell_type": "markdown",
   "id": "ba036198",
   "metadata": {
    "papermill": {
     "duration": 0.032521,
     "end_time": "2021-12-09T00:23:55.747217",
     "exception": false,
     "start_time": "2021-12-09T00:23:55.714696",
     "status": "completed"
    },
    "tags": []
   },
   "source": [
    "From the command line run `pip install mnist`. This is a library that will help you bring down the mnist dataset. If you run this from a notebook, you need to put  `!pip install mnist` in a cell by itself."
   ]
  },
  {
   "cell_type": "code",
   "execution_count": 3,
   "id": "bb6ad8a1",
   "metadata": {
    "execution": {
     "iopub.execute_input": "2021-12-09T00:23:55.813268Z",
     "iopub.status.busy": "2021-12-09T00:23:55.812538Z",
     "iopub.status.idle": "2021-12-09T00:23:57.855286Z",
     "shell.execute_reply": "2021-12-09T00:23:57.854704Z"
    },
    "papermill": {
     "duration": 2.078487,
     "end_time": "2021-12-09T00:23:57.855442",
     "exception": false,
     "start_time": "2021-12-09T00:23:55.776955",
     "status": "completed"
    },
    "tags": []
   },
   "outputs": [
    {
     "name": "stdout",
     "output_type": "stream",
     "text": [
      "Collecting mnist\r\n"
     ]
    },
    {
     "name": "stdout",
     "output_type": "stream",
     "text": [
      "  Downloading mnist-0.2.2-py2.py3-none-any.whl (3.5 kB)\r\n",
      "Requirement already satisfied: numpy in /opt/hostedtoolcache/Python/3.6.15/x64/lib/python3.6/site-packages (from mnist) (1.19.5)\r\n"
     ]
    },
    {
     "name": "stdout",
     "output_type": "stream",
     "text": [
      "Installing collected packages: mnist\r\n"
     ]
    },
    {
     "name": "stdout",
     "output_type": "stream",
     "text": [
      "Successfully installed mnist-0.2.2\r\n"
     ]
    }
   ],
   "source": [
    "!pip install mnist"
   ]
  },
  {
   "cell_type": "markdown",
   "id": "69df9c9a",
   "metadata": {
    "papermill": {
     "duration": 0.030979,
     "end_time": "2021-12-09T00:23:57.918711",
     "exception": false,
     "start_time": "2021-12-09T00:23:57.887732",
     "status": "completed"
    },
    "tags": []
   },
   "source": [
    "## Preparing the Data"
   ]
  },
  {
   "cell_type": "code",
   "execution_count": 4,
   "id": "7f69d806",
   "metadata": {
    "execution": {
     "iopub.execute_input": "2021-12-09T00:23:58.011068Z",
     "iopub.status.busy": "2021-12-09T00:23:58.009841Z",
     "iopub.status.idle": "2021-12-09T00:23:58.013834Z",
     "shell.execute_reply": "2021-12-09T00:23:58.013270Z"
    },
    "papermill": {
     "duration": 0.061347,
     "end_time": "2021-12-09T00:23:58.013980",
     "exception": false,
     "start_time": "2021-12-09T00:23:57.952633",
     "status": "completed"
    },
    "tags": []
   },
   "outputs": [],
   "source": [
    "import mnist"
   ]
  },
  {
   "cell_type": "code",
   "execution_count": 5,
   "id": "a411e44f",
   "metadata": {
    "execution": {
     "iopub.execute_input": "2021-12-09T00:23:58.089198Z",
     "iopub.status.busy": "2021-12-09T00:23:58.088486Z",
     "iopub.status.idle": "2021-12-09T00:23:58.783884Z",
     "shell.execute_reply": "2021-12-09T00:23:58.783222Z"
    },
    "papermill": {
     "duration": 0.738441,
     "end_time": "2021-12-09T00:23:58.784082",
     "exception": false,
     "start_time": "2021-12-09T00:23:58.045641",
     "status": "completed"
    },
    "tags": []
   },
   "outputs": [],
   "source": [
    "train_images = mnist.train_images()\n",
    "train_labels = mnist.train_labels()"
   ]
  },
  {
   "cell_type": "code",
   "execution_count": 6,
   "id": "dceab3a5",
   "metadata": {
    "execution": {
     "iopub.execute_input": "2021-12-09T00:23:58.852940Z",
     "iopub.status.busy": "2021-12-09T00:23:58.852270Z",
     "iopub.status.idle": "2021-12-09T00:23:58.869274Z",
     "shell.execute_reply": "2021-12-09T00:23:58.868701Z"
    },
    "papermill": {
     "duration": 0.052543,
     "end_time": "2021-12-09T00:23:58.869417",
     "exception": false,
     "start_time": "2021-12-09T00:23:58.816874",
     "status": "completed"
    },
    "tags": []
   },
   "outputs": [
    {
     "data": {
      "text/plain": [
       "((60000, 28, 28), (60000,))"
      ]
     },
     "execution_count": 6,
     "metadata": {},
     "output_type": "execute_result"
    }
   ],
   "source": [
    "train_images.shape, train_labels.shape"
   ]
  },
  {
   "cell_type": "code",
   "execution_count": 7,
   "id": "f50dc2bb",
   "metadata": {
    "execution": {
     "iopub.execute_input": "2021-12-09T00:23:58.952602Z",
     "iopub.status.busy": "2021-12-09T00:23:58.951776Z",
     "iopub.status.idle": "2021-12-09T00:23:59.241911Z",
     "shell.execute_reply": "2021-12-09T00:23:59.241306Z"
    },
    "papermill": {
     "duration": 0.340226,
     "end_time": "2021-12-09T00:23:59.242063",
     "exception": false,
     "start_time": "2021-12-09T00:23:58.901837",
     "status": "completed"
    },
    "tags": []
   },
   "outputs": [],
   "source": [
    "test_images = mnist.test_images()\n",
    "test_labels = mnist.test_labels()"
   ]
  },
  {
   "cell_type": "code",
   "execution_count": 8,
   "id": "fc38cf1b",
   "metadata": {
    "execution": {
     "iopub.execute_input": "2021-12-09T00:23:59.319393Z",
     "iopub.status.busy": "2021-12-09T00:23:59.315010Z",
     "iopub.status.idle": "2021-12-09T00:23:59.330719Z",
     "shell.execute_reply": "2021-12-09T00:23:59.331338Z"
    },
    "papermill": {
     "duration": 0.055635,
     "end_time": "2021-12-09T00:23:59.331491",
     "exception": false,
     "start_time": "2021-12-09T00:23:59.275856",
     "status": "completed"
    },
    "tags": []
   },
   "outputs": [
    {
     "data": {
      "text/plain": [
       "((10000, 28, 28), (10000,))"
      ]
     },
     "execution_count": 8,
     "metadata": {},
     "output_type": "execute_result"
    }
   ],
   "source": [
    "test_images.shape, test_labels.shape"
   ]
  },
  {
   "cell_type": "code",
   "execution_count": 9,
   "id": "f9ed8fe0",
   "metadata": {
    "execution": {
     "iopub.execute_input": "2021-12-09T00:23:59.414384Z",
     "iopub.status.busy": "2021-12-09T00:23:59.405989Z",
     "iopub.status.idle": "2021-12-09T00:23:59.597403Z",
     "shell.execute_reply": "2021-12-09T00:23:59.598066Z"
    },
    "papermill": {
     "duration": 0.232106,
     "end_time": "2021-12-09T00:23:59.598241",
     "exception": false,
     "start_time": "2021-12-09T00:23:59.366135",
     "status": "completed"
    },
    "tags": []
   },
   "outputs": [
    {
     "name": "stdout",
     "output_type": "stream",
     "text": [
      "2\n"
     ]
    },
    {
     "data": {
      "text/plain": [
       "<matplotlib.image.AxesImage at 0x7ff311897a90>"
      ]
     },
     "execution_count": 9,
     "metadata": {},
     "output_type": "execute_result"
    },
    {
     "data": {
      "image/png": "[encoded data removed]",
      "text/plain": [
       "<Figure size 432x288 with 1 Axes>"
      ]
     },
     "metadata": {
      "needs_background": "light"
     },
     "output_type": "display_data"
    }
   ],
   "source": [
    "image_index = 7776 # You may select anything up to 60,000\n",
    "print(train_labels[image_index]) \n",
    "plt.imshow(train_images[image_index], cmap='Greys')"
   ]
  },
  {
   "cell_type": "markdown",
   "id": "a8d2388d",
   "metadata": {
    "papermill": {
     "duration": 0.033474,
     "end_time": "2021-12-09T00:23:59.666372",
     "exception": false,
     "start_time": "2021-12-09T00:23:59.632898",
     "status": "completed"
    },
    "tags": []
   },
   "source": [
    "## Filter data to get 3 and 8 out"
   ]
  },
  {
   "cell_type": "code",
   "execution_count": 10,
   "id": "776f7fc7",
   "metadata": {
    "execution": {
     "iopub.execute_input": "2021-12-09T00:23:59.739171Z",
     "iopub.status.busy": "2021-12-09T00:23:59.738500Z",
     "iopub.status.idle": "2021-12-09T00:23:59.761064Z",
     "shell.execute_reply": "2021-12-09T00:23:59.761738Z"
    },
    "papermill": {
     "duration": 0.062063,
     "end_time": "2021-12-09T00:23:59.761925",
     "exception": false,
     "start_time": "2021-12-09T00:23:59.699862",
     "status": "completed"
    },
    "tags": []
   },
   "outputs": [],
   "source": [
    "train_filter = np.where((train_labels == 3 ) | (train_labels == 8))\n",
    "test_filter = np.where((test_labels == 3) | (test_labels == 8))\n",
    "X_train, y_train = train_images[train_filter], train_labels[train_filter]\n",
    "X_test, y_test = test_images[test_filter], test_labels[test_filter]"
   ]
  },
  {
   "cell_type": "markdown",
   "id": "948f0b7e",
   "metadata": {
    "papermill": {
     "duration": 0.033678,
     "end_time": "2021-12-09T00:23:59.830109",
     "exception": false,
     "start_time": "2021-12-09T00:23:59.796431",
     "status": "completed"
    },
    "tags": []
   },
   "source": [
    "We normalize the pizel values in the 0 to 1 range"
   ]
  },
  {
   "cell_type": "code",
   "execution_count": 11,
   "id": "ee4c2166",
   "metadata": {
    "execution": {
     "iopub.execute_input": "2021-12-09T00:23:59.907850Z",
     "iopub.status.busy": "2021-12-09T00:23:59.906803Z",
     "iopub.status.idle": "2021-12-09T00:23:59.967018Z",
     "shell.execute_reply": "2021-12-09T00:23:59.966442Z"
    },
    "papermill": {
     "duration": 0.102342,
     "end_time": "2021-12-09T00:23:59.967173",
     "exception": false,
     "start_time": "2021-12-09T00:23:59.864831",
     "status": "completed"
    },
    "tags": []
   },
   "outputs": [],
   "source": [
    "X_train = X_train/255.\n",
    "X_test = X_test/255."
   ]
  },
  {
   "cell_type": "markdown",
   "id": "ddcf4fab",
   "metadata": {
    "papermill": {
     "duration": 0.035674,
     "end_time": "2021-12-09T00:24:00.037670",
     "exception": false,
     "start_time": "2021-12-09T00:24:00.001996",
     "status": "completed"
    },
    "tags": []
   },
   "source": [
    "And setup the labels as 1 (when the digit is 3) and 0 (when the digit is 8)"
   ]
  },
  {
   "cell_type": "code",
   "execution_count": 12,
   "id": "7dc908f2",
   "metadata": {
    "execution": {
     "iopub.execute_input": "2021-12-09T00:24:00.115238Z",
     "iopub.status.busy": "2021-12-09T00:24:00.114563Z",
     "iopub.status.idle": "2021-12-09T00:24:00.125542Z",
     "shell.execute_reply": "2021-12-09T00:24:00.126251Z"
    },
    "papermill": {
     "duration": 0.054537,
     "end_time": "2021-12-09T00:24:00.126423",
     "exception": false,
     "start_time": "2021-12-09T00:24:00.071886",
     "status": "completed"
    },
    "tags": []
   },
   "outputs": [],
   "source": [
    "y_train = 1*(y_train==3)\n",
    "y_test = 1*(y_test==3)"
   ]
  },
  {
   "cell_type": "code",
   "execution_count": 13,
   "id": "01e4e969",
   "metadata": {
    "execution": {
     "iopub.execute_input": "2021-12-09T00:24:00.200398Z",
     "iopub.status.busy": "2021-12-09T00:24:00.199728Z",
     "iopub.status.idle": "2021-12-09T00:24:00.213249Z",
     "shell.execute_reply": "2021-12-09T00:24:00.213930Z"
    },
    "papermill": {
     "duration": 0.054274,
     "end_time": "2021-12-09T00:24:00.214091",
     "exception": false,
     "start_time": "2021-12-09T00:24:00.159817",
     "status": "completed"
    },
    "tags": []
   },
   "outputs": [
    {
     "data": {
      "text/plain": [
       "((11982, 28, 28), (1984, 28, 28))"
      ]
     },
     "execution_count": 13,
     "metadata": {},
     "output_type": "execute_result"
    }
   ],
   "source": [
    "X_train.shape, X_test.shape"
   ]
  },
  {
   "cell_type": "markdown",
   "id": "5ccf3f85",
   "metadata": {
    "papermill": {
     "duration": 0.036165,
     "end_time": "2021-12-09T00:24:00.284639",
     "exception": false,
     "start_time": "2021-12-09T00:24:00.248474",
     "status": "completed"
    },
    "tags": []
   },
   "source": [
    "We reshape the data to flatten the image pixels into a set of features or co-variates:"
   ]
  },
  {
   "cell_type": "code",
   "execution_count": 14,
   "id": "5286a4a3",
   "metadata": {
    "execution": {
     "iopub.execute_input": "2021-12-09T00:24:00.362357Z",
     "iopub.status.busy": "2021-12-09T00:24:00.361686Z",
     "iopub.status.idle": "2021-12-09T00:24:00.373015Z",
     "shell.execute_reply": "2021-12-09T00:24:00.373607Z"
    },
    "papermill": {
     "duration": 0.055845,
     "end_time": "2021-12-09T00:24:00.373785",
     "exception": false,
     "start_time": "2021-12-09T00:24:00.317940",
     "status": "completed"
    },
    "tags": []
   },
   "outputs": [
    {
     "data": {
      "text/plain": [
       "((11982, 784), (1984, 784))"
      ]
     },
     "execution_count": 14,
     "metadata": {},
     "output_type": "execute_result"
    }
   ],
   "source": [
    "X_train = X_train.reshape(X_train.shape[0], -1)\n",
    "X_test = X_test.reshape(X_test.shape[0], -1)\n",
    "X_train.shape, X_test.shape"
   ]
  },
  {
   "cell_type": "code",
   "execution_count": 15,
   "id": "73c5f88a",
   "metadata": {
    "execution": {
     "iopub.execute_input": "2021-12-09T00:24:00.448125Z",
     "iopub.status.busy": "2021-12-09T00:24:00.446992Z",
     "iopub.status.idle": "2021-12-09T00:24:00.468928Z",
     "shell.execute_reply": "2021-12-09T00:24:00.469492Z"
    },
    "papermill": {
     "duration": 0.062396,
     "end_time": "2021-12-09T00:24:00.469675",
     "exception": false,
     "start_time": "2021-12-09T00:24:00.407279",
     "status": "completed"
    },
    "tags": []
   },
   "outputs": [],
   "source": [
    "#Impoting functions from 'Kudzu'\n",
    "from kudzu.model import Model\n",
    "from kudzu.train import Learner\n",
    "from kudzu.optim import GD\n",
    "from kudzu.data import Data, Sampler,Dataloader\n",
    "\n",
    "from kudzu.callbacks import AccCallback\n",
    "from kudzu.callbacks import ClfCallback\n",
    "\n",
    "from kudzu.loss import MSE\n",
    "\n",
    "from kudzu.layer import Sigmoid,Relu\n",
    "from kudzu.layer import Affine"
   ]
  },
  {
   "cell_type": "markdown",
   "id": "bc01172a",
   "metadata": {
    "papermill": {
     "duration": 0.033544,
     "end_time": "2021-12-09T00:24:00.550989",
     "exception": false,
     "start_time": "2021-12-09T00:24:00.517445",
     "status": "completed"
    },
    "tags": []
   },
   "source": [
    "### Let us create a `Config` class, to store important parameters. \n",
    "This class essentially plays the role of a dictionary."
   ]
  },
  {
   "cell_type": "code",
   "execution_count": 16,
   "id": "978281aa",
   "metadata": {
    "execution": {
     "iopub.execute_input": "2021-12-09T00:24:00.641075Z",
     "iopub.status.busy": "2021-12-09T00:24:00.639001Z",
     "iopub.status.idle": "2021-12-09T00:24:00.644538Z",
     "shell.execute_reply": "2021-12-09T00:24:00.643234Z"
    },
    "papermill": {
     "duration": 0.056745,
     "end_time": "2021-12-09T00:24:00.644690",
     "exception": false,
     "start_time": "2021-12-09T00:24:00.587945",
     "status": "completed"
    },
    "tags": []
   },
   "outputs": [],
   "source": [
    "class Config:\n",
    "    pass\n",
    "config = Config()\n",
    "config.lr = 0.001\n",
    "config.num_epochs = 250\n",
    "config.bs = 50"
   ]
  },
  {
   "cell_type": "markdown",
   "id": "1385fa59",
   "metadata": {
    "papermill": {
     "duration": 0.033601,
     "end_time": "2021-12-09T00:24:00.715299",
     "exception": false,
     "start_time": "2021-12-09T00:24:00.681698",
     "status": "completed"
    },
    "tags": []
   },
   "source": [
    "### Running Models with the Training data\n",
    "Details about the network layers:\n",
    "- A first affine layer has 784 inputs and does 100 affine transforms. These are followed by a Relu\n",
    "- A second affine layer has 100 inputs from the 100 activations of the past layer, and does 100 affine transforms. These are followed by a Relu\n",
    "- A third affine layer has 100 activations and does 2 affine transformations to create an embedding for visualization. There is no non-linearity here.\n",
    "- A final \"logistic regression\" which has an affine transform from 2 inputs to 1 output, which is squeezed through a sigmoid.\n"
   ]
  },
  {
   "cell_type": "code",
   "execution_count": 17,
   "id": "2b9c66db",
   "metadata": {
    "execution": {
     "iopub.execute_input": "2021-12-09T00:24:00.794720Z",
     "iopub.status.busy": "2021-12-09T00:24:00.794041Z",
     "iopub.status.idle": "2021-12-09T00:24:00.807518Z",
     "shell.execute_reply": "2021-12-09T00:24:00.806899Z"
    },
    "papermill": {
     "duration": 0.058192,
     "end_time": "2021-12-09T00:24:00.807663",
     "exception": false,
     "start_time": "2021-12-09T00:24:00.749471",
     "status": "completed"
    },
    "tags": []
   },
   "outputs": [],
   "source": [
    "data = Data(X_train, y_train.reshape(-1,1))\n",
    "sampler = Sampler(data, config.bs, shuffle=True)\n",
    "\n",
    "dl = Dataloader(data, sampler)\n",
    "\n",
    "opt = GD(config.lr)\n",
    "loss = MSE()"
   ]
  },
  {
   "cell_type": "code",
   "execution_count": 18,
   "id": "b275e4c2",
   "metadata": {
    "execution": {
     "iopub.execute_input": "2021-12-09T00:24:00.886616Z",
     "iopub.status.busy": "2021-12-09T00:24:00.885929Z",
     "iopub.status.idle": "2021-12-09T00:24:00.898350Z",
     "shell.execute_reply": "2021-12-09T00:24:00.897795Z"
    },
    "papermill": {
     "duration": 0.054734,
     "end_time": "2021-12-09T00:24:00.898505",
     "exception": false,
     "start_time": "2021-12-09T00:24:00.843771",
     "status": "completed"
    },
    "tags": []
   },
   "outputs": [],
   "source": [
    "training_data_x = X_train\n",
    "testing_data_x = X_test\n",
    "training_data_y = y_train.reshape(-1,1)\n",
    "testing_data_y = y_test.reshape(-1,1)"
   ]
  },
  {
   "cell_type": "code",
   "execution_count": 19,
   "id": "76951160",
   "metadata": {
    "execution": {
     "iopub.execute_input": "2021-12-09T00:24:00.989993Z",
     "iopub.status.busy": "2021-12-09T00:24:00.978684Z",
     "iopub.status.idle": "2021-12-09T00:24:00.995676Z",
     "shell.execute_reply": "2021-12-09T00:24:00.996228Z"
    },
    "papermill": {
     "duration": 0.063549,
     "end_time": "2021-12-09T00:24:00.996404",
     "exception": false,
     "start_time": "2021-12-09T00:24:00.932855",
     "status": "completed"
    },
    "tags": []
   },
   "outputs": [
    {
     "name": "stdout",
     "output_type": "stream",
     "text": [
      "xavier\n",
      "xavier\n",
      "xavier\n",
      "xavier\n",
      "xavier\n"
     ]
    }
   ],
   "source": [
    "layers = [Affine(\"first\", 784, 100), Relu(\"first\"), Affine(\"second\", 100, 100), Relu(\"second\"), Affine(\"third\", 100, 2), Affine(\"last\", 2, 1), Sigmoid(\"last\")]\n",
    "model_nn = Model(layers)\n",
    "model_lr = Model([Affine(\"logits\", 784, 1), Sigmoid(\"sigmoid\")])"
   ]
  },
  {
   "cell_type": "code",
   "execution_count": 20,
   "id": "6eede77a",
   "metadata": {
    "execution": {
     "iopub.execute_input": "2021-12-09T00:24:01.086596Z",
     "iopub.status.busy": "2021-12-09T00:24:01.082438Z",
     "iopub.status.idle": "2021-12-09T00:24:01.091201Z",
     "shell.execute_reply": "2021-12-09T00:24:01.090550Z"
    },
    "papermill": {
     "duration": 0.05921,
     "end_time": "2021-12-09T00:24:01.091349",
     "exception": false,
     "start_time": "2021-12-09T00:24:01.032139",
     "status": "completed"
    },
    "tags": []
   },
   "outputs": [],
   "source": [
    "nn_learner = Learner(loss, model_nn, opt, config.num_epochs)\n",
    "acc_nn = ClfCallback(nn_learner, config.bs, training_data_x , testing_data_x, training_data_y, testing_data_y)\n",
    "nn_learner.set_callbacks([acc_nn])"
   ]
  },
  {
   "cell_type": "code",
   "execution_count": 21,
   "id": "877b6cc7",
   "metadata": {
    "execution": {
     "iopub.execute_input": "2021-12-09T00:24:01.171378Z",
     "iopub.status.busy": "2021-12-09T00:24:01.170688Z",
     "iopub.status.idle": "2021-12-09T00:24:01.181814Z",
     "shell.execute_reply": "2021-12-09T00:24:01.182333Z"
    },
    "papermill": {
     "duration": 0.057156,
     "end_time": "2021-12-09T00:24:01.182509",
     "exception": false,
     "start_time": "2021-12-09T00:24:01.125353",
     "status": "completed"
    },
    "tags": []
   },
   "outputs": [],
   "source": [
    "lr_learner = Learner(loss, model_lr, opt, config.num_epochs)\n",
    "acc_lr = ClfCallback(lr_learner, config.bs, training_data_x , testing_data_x, training_data_y, testing_data_y)\n",
    "lr_learner.set_callbacks([acc_lr])"
   ]
  },
  {
   "cell_type": "code",
   "execution_count": 22,
   "id": "d9b133c3",
   "metadata": {
    "execution": {
     "iopub.execute_input": "2021-12-09T00:24:01.275357Z",
     "iopub.status.busy": "2021-12-09T00:24:01.274677Z",
     "iopub.status.idle": "2021-12-09T00:26:07.309357Z",
     "shell.execute_reply": "2021-12-09T00:26:07.310202Z"
    },
    "papermill": {
     "duration": 126.091593,
     "end_time": "2021-12-09T00:26:07.310379",
     "exception": false,
     "start_time": "2021-12-09T00:24:01.218786",
     "status": "completed"
    },
    "tags": []
   },
   "outputs": [
    {
     "name": "stdout",
     "output_type": "stream",
     "text": [
      "Epoch 0, Loss 0.2561\n",
      "Training Accuracy: 0.4899, Testing Accuracy: 0.4914\n",
      "\n"
     ]
    },
    {
     "name": "stdout",
     "output_type": "stream",
     "text": [
      "Epoch 10, Loss 0.1565\n",
      "Training Accuracy: 0.9055, Testing Accuracy: 0.9158\n",
      "\n"
     ]
    },
    {
     "name": "stdout",
     "output_type": "stream",
     "text": [
      "Epoch 20, Loss 0.0733\n",
      "Training Accuracy: 0.9352, Testing Accuracy: 0.9451\n",
      "\n"
     ]
    },
    {
     "name": "stdout",
     "output_type": "stream",
     "text": [
      "Epoch 30, Loss 0.0507\n",
      "Training Accuracy: 0.9488, Testing Accuracy: 0.9546\n",
      "\n"
     ]
    },
    {
     "name": "stdout",
     "output_type": "stream",
     "text": [
      "Epoch 40, Loss 0.042\n",
      "Training Accuracy: 0.9530, Testing Accuracy: 0.9622\n",
      "\n"
     ]
    },
    {
     "name": "stdout",
     "output_type": "stream",
     "text": [
      "Epoch 50, Loss 0.0373\n",
      "Training Accuracy: 0.9578, Testing Accuracy: 0.9637\n",
      "\n"
     ]
    },
    {
     "name": "stdout",
     "output_type": "stream",
     "text": [
      "Epoch 60, Loss 0.0343\n",
      "Training Accuracy: 0.9607, Testing Accuracy: 0.9657\n",
      "\n"
     ]
    },
    {
     "name": "stdout",
     "output_type": "stream",
     "text": [
      "Epoch 70, Loss 0.0322\n",
      "Training Accuracy: 0.9633, Testing Accuracy: 0.9693\n",
      "\n"
     ]
    },
    {
     "name": "stdout",
     "output_type": "stream",
     "text": [
      "Epoch 80, Loss 0.0305\n",
      "Training Accuracy: 0.9649, Testing Accuracy: 0.9698\n",
      "\n"
     ]
    },
    {
     "name": "stdout",
     "output_type": "stream",
     "text": [
      "Epoch 90, Loss 0.0292\n",
      "Training Accuracy: 0.9664, Testing Accuracy: 0.9693\n",
      "\n"
     ]
    },
    {
     "name": "stdout",
     "output_type": "stream",
     "text": [
      "Epoch 100, Loss 0.028\n",
      "Training Accuracy: 0.9672, Testing Accuracy: 0.9693\n",
      "\n"
     ]
    },
    {
     "name": "stdout",
     "output_type": "stream",
     "text": [
      "Epoch 110, Loss 0.0271\n",
      "Training Accuracy: 0.9680, Testing Accuracy: 0.9703\n",
      "\n"
     ]
    },
    {
     "name": "stdout",
     "output_type": "stream",
     "text": [
      "Epoch 120, Loss 0.0263\n",
      "Training Accuracy: 0.9690, Testing Accuracy: 0.9708\n",
      "\n"
     ]
    },
    {
     "name": "stdout",
     "output_type": "stream",
     "text": [
      "Epoch 130, Loss 0.0255\n",
      "Training Accuracy: 0.9697, Testing Accuracy: 0.9708\n",
      "\n"
     ]
    },
    {
     "name": "stdout",
     "output_type": "stream",
     "text": [
      "Epoch 140, Loss 0.0249\n",
      "Training Accuracy: 0.9702, Testing Accuracy: 0.9708\n",
      "\n"
     ]
    },
    {
     "name": "stdout",
     "output_type": "stream",
     "text": [
      "Epoch 150, Loss 0.0243\n",
      "Training Accuracy: 0.9711, Testing Accuracy: 0.9713\n",
      "\n"
     ]
    },
    {
     "name": "stdout",
     "output_type": "stream",
     "text": [
      "Epoch 160, Loss 0.0237\n",
      "Training Accuracy: 0.9720, Testing Accuracy: 0.9718\n",
      "\n"
     ]
    },
    {
     "name": "stdout",
     "output_type": "stream",
     "text": [
      "Epoch 170, Loss 0.0232\n",
      "Training Accuracy: 0.9729, Testing Accuracy: 0.9723\n",
      "\n"
     ]
    },
    {
     "name": "stdout",
     "output_type": "stream",
     "text": [
      "Epoch 180, Loss 0.0227\n",
      "Training Accuracy: 0.9733, Testing Accuracy: 0.9728\n",
      "\n"
     ]
    },
    {
     "name": "stdout",
     "output_type": "stream",
     "text": [
      "Epoch 190, Loss 0.0223\n",
      "Training Accuracy: 0.9738, Testing Accuracy: 0.9728\n",
      "\n"
     ]
    },
    {
     "name": "stdout",
     "output_type": "stream",
     "text": [
      "Epoch 200, Loss 0.0219\n",
      "Training Accuracy: 0.9744, Testing Accuracy: 0.9728\n",
      "\n"
     ]
    },
    {
     "name": "stdout",
     "output_type": "stream",
     "text": [
      "Epoch 210, Loss 0.0215\n",
      "Training Accuracy: 0.9750, Testing Accuracy: 0.9738\n",
      "\n"
     ]
    },
    {
     "name": "stdout",
     "output_type": "stream",
     "text": [
      "Epoch 220, Loss 0.0211\n",
      "Training Accuracy: 0.9758, Testing Accuracy: 0.9738\n",
      "\n"
     ]
    },
    {
     "name": "stdout",
     "output_type": "stream",
     "text": [
      "Epoch 230, Loss 0.0207\n",
      "Training Accuracy: 0.9765, Testing Accuracy: 0.9738\n",
      "\n"
     ]
    },
    {
     "name": "stdout",
     "output_type": "stream",
     "text": [
      "Epoch 240, Loss 0.0204\n",
      "Training Accuracy: 0.9769, Testing Accuracy: 0.9743\n",
      "\n"
     ]
    },
    {
     "data": {
      "text/plain": [
       "0.01622681643349163"
      ]
     },
     "execution_count": 22,
     "metadata": {},
     "output_type": "execute_result"
    }
   ],
   "source": [
    "nn_learner.train_loop(dl)"
   ]
  },
  {
   "cell_type": "code",
   "execution_count": 23,
   "id": "e0163366",
   "metadata": {
    "execution": {
     "iopub.execute_input": "2021-12-09T00:26:07.410518Z",
     "iopub.status.busy": "2021-12-09T00:26:07.409858Z",
     "iopub.status.idle": "2021-12-09T00:26:26.190310Z",
     "shell.execute_reply": "2021-12-09T00:26:26.190957Z"
    },
    "papermill": {
     "duration": 18.836546,
     "end_time": "2021-12-09T00:26:26.191131",
     "exception": false,
     "start_time": "2021-12-09T00:26:07.354585",
     "status": "completed"
    },
    "tags": []
   },
   "outputs": [
    {
     "name": "stdout",
     "output_type": "stream",
     "text": [
      "Epoch 0, Loss 0.2444\n",
      "Training Accuracy: 0.6762, Testing Accuracy: 0.6462\n",
      "\n"
     ]
    },
    {
     "name": "stdout",
     "output_type": "stream",
     "text": [
      "Epoch 10, Loss 0.1019\n",
      "Training Accuracy: 0.9130, Testing Accuracy: 0.9189\n",
      "\n"
     ]
    },
    {
     "name": "stdout",
     "output_type": "stream",
     "text": [
      "Epoch 20, Loss 0.0781\n",
      "Training Accuracy: 0.9311, Testing Accuracy: 0.9360\n",
      "\n"
     ]
    },
    {
     "name": "stdout",
     "output_type": "stream",
     "text": [
      "Epoch 30, Loss 0.0673\n",
      "Training Accuracy: 0.9385, Testing Accuracy: 0.9451\n",
      "\n"
     ]
    },
    {
     "name": "stdout",
     "output_type": "stream",
     "text": [
      "Epoch 40, Loss 0.0609\n",
      "Training Accuracy: 0.9422, Testing Accuracy: 0.9511\n",
      "\n"
     ]
    },
    {
     "name": "stdout",
     "output_type": "stream",
     "text": [
      "Epoch 50, Loss 0.0565\n",
      "Training Accuracy: 0.9467, Testing Accuracy: 0.9546\n",
      "\n"
     ]
    },
    {
     "name": "stdout",
     "output_type": "stream",
     "text": [
      "Epoch 60, Loss 0.0533\n",
      "Training Accuracy: 0.9484, Testing Accuracy: 0.9561\n",
      "\n"
     ]
    },
    {
     "name": "stdout",
     "output_type": "stream",
     "text": [
      "Epoch 70, Loss 0.0508\n",
      "Training Accuracy: 0.9508, Testing Accuracy: 0.9597\n",
      "\n"
     ]
    },
    {
     "name": "stdout",
     "output_type": "stream",
     "text": [
      "Epoch 80, Loss 0.0489\n",
      "Training Accuracy: 0.9514, Testing Accuracy: 0.9597\n",
      "\n"
     ]
    },
    {
     "name": "stdout",
     "output_type": "stream",
     "text": [
      "Epoch 90, Loss 0.0472\n",
      "Training Accuracy: 0.9524, Testing Accuracy: 0.9617\n",
      "\n"
     ]
    },
    {
     "name": "stdout",
     "output_type": "stream",
     "text": [
      "Epoch 100, Loss 0.0458\n",
      "Training Accuracy: 0.9534, Testing Accuracy: 0.9617\n",
      "\n"
     ]
    },
    {
     "name": "stdout",
     "output_type": "stream",
     "text": [
      "Epoch 110, Loss 0.0447\n",
      "Training Accuracy: 0.9546, Testing Accuracy: 0.9632\n",
      "\n"
     ]
    },
    {
     "name": "stdout",
     "output_type": "stream",
     "text": [
      "Epoch 120, Loss 0.0436\n",
      "Training Accuracy: 0.9556, Testing Accuracy: 0.9632\n",
      "\n"
     ]
    },
    {
     "name": "stdout",
     "output_type": "stream",
     "text": [
      "Epoch 130, Loss 0.0427\n",
      "Training Accuracy: 0.9562, Testing Accuracy: 0.9642\n",
      "\n"
     ]
    },
    {
     "name": "stdout",
     "output_type": "stream",
     "text": [
      "Epoch 140, Loss 0.0419\n",
      "Training Accuracy: 0.9569, Testing Accuracy: 0.9657\n",
      "\n"
     ]
    },
    {
     "name": "stdout",
     "output_type": "stream",
     "text": [
      "Epoch 150, Loss 0.0412\n",
      "Training Accuracy: 0.9571, Testing Accuracy: 0.9657\n",
      "\n"
     ]
    },
    {
     "name": "stdout",
     "output_type": "stream",
     "text": [
      "Epoch 160, Loss 0.0405\n",
      "Training Accuracy: 0.9576, Testing Accuracy: 0.9657\n",
      "\n"
     ]
    },
    {
     "name": "stdout",
     "output_type": "stream",
     "text": [
      "Epoch 170, Loss 0.0399\n",
      "Training Accuracy: 0.9579, Testing Accuracy: 0.9672\n",
      "\n"
     ]
    },
    {
     "name": "stdout",
     "output_type": "stream",
     "text": [
      "Epoch 180, Loss 0.0394\n",
      "Training Accuracy: 0.9584, Testing Accuracy: 0.9672\n",
      "\n"
     ]
    },
    {
     "name": "stdout",
     "output_type": "stream",
     "text": [
      "Epoch 190, Loss 0.0389\n",
      "Training Accuracy: 0.9588, Testing Accuracy: 0.9672\n",
      "\n"
     ]
    },
    {
     "name": "stdout",
     "output_type": "stream",
     "text": [
      "Epoch 200, Loss 0.0384\n",
      "Training Accuracy: 0.9589, Testing Accuracy: 0.9672\n",
      "\n"
     ]
    },
    {
     "name": "stdout",
     "output_type": "stream",
     "text": [
      "Epoch 210, Loss 0.038\n",
      "Training Accuracy: 0.9592, Testing Accuracy: 0.9672\n",
      "\n"
     ]
    },
    {
     "name": "stdout",
     "output_type": "stream",
     "text": [
      "Epoch 220, Loss 0.0376\n",
      "Training Accuracy: 0.9597, Testing Accuracy: 0.9677\n",
      "\n"
     ]
    },
    {
     "name": "stdout",
     "output_type": "stream",
     "text": [
      "Epoch 230, Loss 0.0372\n",
      "Training Accuracy: 0.9600, Testing Accuracy: 0.9677\n",
      "\n"
     ]
    },
    {
     "name": "stdout",
     "output_type": "stream",
     "text": [
      "Epoch 240, Loss 0.0368\n",
      "Training Accuracy: 0.9608, Testing Accuracy: 0.9682\n",
      "\n"
     ]
    },
    {
     "data": {
      "text/plain": [
       "0.025848396271858635"
      ]
     },
     "execution_count": 23,
     "metadata": {},
     "output_type": "execute_result"
    }
   ],
   "source": [
    "lr_learner.train_loop(dl)"
   ]
  },
  {
   "cell_type": "code",
   "execution_count": 24,
   "id": "ca410940",
   "metadata": {
    "execution": {
     "iopub.execute_input": "2021-12-09T00:26:26.301013Z",
     "iopub.status.busy": "2021-12-09T00:26:26.300245Z",
     "iopub.status.idle": "2021-12-09T00:26:26.601086Z",
     "shell.execute_reply": "2021-12-09T00:26:26.601630Z"
    },
    "papermill": {
     "duration": 0.358851,
     "end_time": "2021-12-09T00:26:26.601805",
     "exception": false,
     "start_time": "2021-12-09T00:26:26.242954",
     "status": "completed"
    },
    "tags": []
   },
   "outputs": [
    {
     "data": {
      "text/plain": [
       "<matplotlib.legend.Legend at 0x7ff311480c50>"
      ]
     },
     "execution_count": 24,
     "metadata": {},
     "output_type": "execute_result"
    },
    {
     "data": {
      "image/png": "[encoded data removed]",
      "text/plain": [
       "<Figure size 1080x720 with 1 Axes>"
      ]
     },
     "metadata": {
      "needs_background": "light"
     },
     "output_type": "display_data"
    }
   ],
   "source": [
    "#comparing the results of NN and LR\n",
    "plt.figure(figsize=(15,10))\n",
    "\n",
    "# Neural Network plots\n",
    "plt.plot(acc_nn.accuracies, 'r-', label = \"Training Accuracies - NN\")\n",
    "plt.plot(acc_nn.test_accuracies, 'g-', label = \"Testing Accuracies - NN\")\n",
    "\n",
    "# Logistic Regression plots\n",
    "plt.plot(acc_lr.accuracies, 'k-', label = \"Training Accuracies - LR\")\n",
    "plt.plot(acc_lr.test_accuracies, 'b-', label = \"Testing Accuracies - LR\")\n",
    "plt.legend()"
   ]
  },
  {
   "cell_type": "markdown",
   "id": "80dfb35c",
   "metadata": {
    "papermill": {
     "duration": 0.052895,
     "end_time": "2021-12-09T00:26:26.707587",
     "exception": false,
     "start_time": "2021-12-09T00:26:26.654692",
     "status": "completed"
    },
    "tags": []
   },
   "source": [
    "#### Plotting the outputs of this layer of the NN.\n"
   ]
  },
  {
   "cell_type": "code",
   "execution_count": 25,
   "id": "45eb2ff5",
   "metadata": {
    "execution": {
     "iopub.execute_input": "2021-12-09T00:26:26.822599Z",
     "iopub.status.busy": "2021-12-09T00:26:26.821925Z",
     "iopub.status.idle": "2021-12-09T00:26:26.846520Z",
     "shell.execute_reply": "2021-12-09T00:26:26.847107Z"
    },
    "papermill": {
     "duration": 0.087515,
     "end_time": "2021-12-09T00:26:26.847280",
     "exception": false,
     "start_time": "2021-12-09T00:26:26.759765",
     "status": "completed"
    },
    "tags": []
   },
   "outputs": [],
   "source": [
    "new_model = Model(layers[:-2])\n",
    "testing_plot = new_model(testing_data_x)"
   ]
  },
  {
   "cell_type": "code",
   "execution_count": 26,
   "id": "4c0a5485",
   "metadata": {
    "execution": {
     "iopub.execute_input": "2021-12-09T00:26:26.961930Z",
     "iopub.status.busy": "2021-12-09T00:26:26.961144Z",
     "iopub.status.idle": "2021-12-09T00:26:27.250963Z",
     "shell.execute_reply": "2021-12-09T00:26:27.251484Z"
    },
    "papermill": {
     "duration": 0.350311,
     "end_time": "2021-12-09T00:26:27.251663",
     "exception": false,
     "start_time": "2021-12-09T00:26:26.901352",
     "status": "completed"
    },
    "tags": []
   },
   "outputs": [
    {
     "data": {
      "text/plain": [
       "Text(0.5, 1.0, 'Outputs')"
      ]
     },
     "execution_count": 26,
     "metadata": {},
     "output_type": "execute_result"
    },
    {
     "data": {
      "image/png": "[encoded data removed]",
      "text/plain": [
       "<Figure size 576x504 with 1 Axes>"
      ]
     },
     "metadata": {
      "needs_background": "light"
     },
     "output_type": "display_data"
    }
   ],
   "source": [
    "# Plotting the scatter plot of points and color coding by class\n",
    "plt.figure(figsize=(8,7))\n",
    "plt.scatter(testing_plot[:,0], testing_plot[:,1], alpha = 0.1, c = y_test.ravel());\n",
    "plt.title('Outputs')"
   ]
  },
  {
   "cell_type": "markdown",
   "id": "a74fcf8f",
   "metadata": {
    "papermill": {
     "duration": 0.05559,
     "end_time": "2021-12-09T00:26:27.365044",
     "exception": false,
     "start_time": "2021-12-09T00:26:27.309454",
     "status": "completed"
    },
    "tags": []
   },
   "source": [
    "Probability contours"
   ]
  },
  {
   "cell_type": "code",
   "execution_count": 27,
   "id": "d0afc8e3",
   "metadata": {
    "execution": {
     "iopub.execute_input": "2021-12-09T00:26:27.509095Z",
     "iopub.status.busy": "2021-12-09T00:26:27.508388Z",
     "iopub.status.idle": "2021-12-09T00:26:27.520283Z",
     "shell.execute_reply": "2021-12-09T00:26:27.520787Z"
    },
    "papermill": {
     "duration": 0.099889,
     "end_time": "2021-12-09T00:26:27.520946",
     "exception": false,
     "start_time": "2021-12-09T00:26:27.421057",
     "status": "completed"
    },
    "tags": []
   },
   "outputs": [],
   "source": [
    "model_prob = Model(layers[-2:]) "
   ]
  },
  {
   "cell_type": "code",
   "execution_count": 28,
   "id": "9b96e238",
   "metadata": {
    "execution": {
     "iopub.execute_input": "2021-12-09T00:26:27.639759Z",
     "iopub.status.busy": "2021-12-09T00:26:27.638934Z",
     "iopub.status.idle": "2021-12-09T00:26:27.661816Z",
     "shell.execute_reply": "2021-12-09T00:26:27.662332Z"
    },
    "papermill": {
     "duration": 0.087027,
     "end_time": "2021-12-09T00:26:27.662497",
     "exception": false,
     "start_time": "2021-12-09T00:26:27.575470",
     "status": "completed"
    },
    "tags": []
   },
   "outputs": [],
   "source": [
    "#creating the x and y ranges according to the above generated plot.\n",
    "x_range = np.linspace(-4, 1, 100) \n",
    "y_range = np.linspace(-6, 6, 100) \n",
    "x_grid, y_grid = np.meshgrid(x_range, y_range) # x_grid and y_grig are of size 100 X 100\n",
    "\n",
    "# converting x_grid and y_grid to continuous arrays\n",
    "x_gridflat = np.ravel(x_grid)\n",
    "y_gridflat = np.ravel(y_grid)\n",
    "\n",
    "# The last layer of the current model takes two columns as input. Hence transpose of np.vstack() is required.\n",
    "X = np.vstack((x_gridflat, y_gridflat)).T\n",
    "\n",
    "prob_contour = model_prob(X).reshape(100,100) "
   ]
  },
  {
   "cell_type": "code",
   "execution_count": 29,
   "id": "da72499a",
   "metadata": {
    "execution": {
     "iopub.execute_input": "2021-12-09T00:26:27.786605Z",
     "iopub.status.busy": "2021-12-09T00:26:27.785930Z",
     "iopub.status.idle": "2021-12-09T00:26:28.108644Z",
     "shell.execute_reply": "2021-12-09T00:26:28.108086Z"
    },
    "papermill": {
     "duration": 0.389097,
     "end_time": "2021-12-09T00:26:28.108796",
     "exception": false,
     "start_time": "2021-12-09T00:26:27.719699",
     "status": "completed"
    },
    "tags": []
   },
   "outputs": [
    {
     "data": {
      "image/png": "[encoded data removed]",
      "text/plain": [
       "<Figure size 720x648 with 1 Axes>"
      ]
     },
     "metadata": {
      "needs_background": "light"
     },
     "output_type": "display_data"
    }
   ],
   "source": [
    "plt.figure(figsize=(10,9))\n",
    "plt.scatter(testing_plot[:,0], testing_plot[:,1], alpha = 0.1, c = y_test.ravel())\n",
    "contours = plt.contour(x_grid,y_grid,prob_contour)\n",
    "plt.title('Probability Contours')\n",
    "plt.clabel(contours, inline = True );"
   ]
  },
  {
   "cell_type": "code",
   "execution_count": null,
   "id": "e81b4ac7",
   "metadata": {
    "papermill": {
     "duration": 0.058403,
     "end_time": "2021-12-09T00:26:28.225826",
     "exception": false,
     "start_time": "2021-12-09T00:26:28.167423",
     "status": "completed"
    },
    "tags": []
   },
   "outputs": [],
   "source": []
  }
 ],
 "metadata": {
  "kernelspec": {
   "display_name": "Python 3",
   "language": "python",
   "name": "python3"
  },
  "language_info": {
   "codemirror_mode": {
    "name": "ipython",
    "version": 3
   },
   "file_extension": ".py",
   "mimetype": "text/x-python",
   "name": "python",
   "nbconvert_exporter": "python",
   "pygments_lexer": "ipython3",
   "version": "3.6.15"
  },
  "papermill": {
   "default_parameters": {},
   "duration": 155.260044,
   "end_time": "2021-12-09T00:26:28.692664",
   "environment_variables": {},
   "exception": null,
   "input_path": "2020-08-11-part2.ipynb",
   "output_path": "2020-08-11-part2.ipynb",
   "parameters": {},
   "start_time": "2021-12-09T00:23:53.432620",
   "version": "2.3.3"
  }
 },
 "nbformat": 4,
 "nbformat_minor": 5
}