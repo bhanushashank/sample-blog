{
 "cells": [
  {
   "cell_type": "markdown",
   "id": "98380cd3",
   "metadata": {
    "papermill": {
     "duration": 0.029609,
     "end_time": "2022-08-15T20:10:10.669880",
     "exception": false,
     "start_time": "2022-08-15T20:10:10.640271",
     "status": "completed"
    },
    "tags": []
   },
   "source": [
    "# Distinguish Your Own Digits (DYOD)"
   ]
  },
  {
   "cell_type": "markdown",
   "id": "ef31240d",
   "metadata": {
    "papermill": {
     "duration": 0.023645,
     "end_time": "2022-08-15T20:10:10.717905",
     "exception": false,
     "start_time": "2022-08-15T20:10:10.694260",
     "status": "completed"
    },
    "tags": []
   },
   "source": [
    "You are going to write a classifier that distinguishes between the number 3 and number 8."
   ]
  },
  {
   "cell_type": "code",
   "execution_count": 1,
   "id": "b15c8646",
   "metadata": {
    "execution": {
     "iopub.execute_input": "2022-08-15T20:10:10.776940Z",
     "iopub.status.busy": "2022-08-15T20:10:10.776336Z",
     "iopub.status.idle": "2022-08-15T20:10:10.787524Z",
     "shell.execute_reply": "2022-08-15T20:10:10.786933Z"
    },
    "papermill": {
     "duration": 0.045988,
     "end_time": "2022-08-15T20:10:10.787653",
     "exception": false,
     "start_time": "2022-08-15T20:10:10.741665",
     "status": "completed"
    },
    "tags": []
   },
   "outputs": [],
   "source": [
    "%load_ext autoreload\n",
    "%autoreload 2"
   ]
  },
  {
   "cell_type": "code",
   "execution_count": 2,
   "id": "22ef38dc",
   "metadata": {
    "execution": {
     "iopub.execute_input": "2022-08-15T20:10:10.845571Z",
     "iopub.status.busy": "2022-08-15T20:10:10.844870Z",
     "iopub.status.idle": "2022-08-15T20:10:11.391867Z",
     "shell.execute_reply": "2022-08-15T20:10:11.392388Z"
    },
    "papermill": {
     "duration": 0.580977,
     "end_time": "2022-08-15T20:10:11.392538",
     "exception": false,
     "start_time": "2022-08-15T20:10:10.811561",
     "status": "completed"
    },
    "tags": []
   },
   "outputs": [],
   "source": [
    "%matplotlib inline\n",
    "import numpy as np\n",
    "import matplotlib.pyplot as plt\n",
    "import pandas as pd"
   ]
  },
  {
   "cell_type": "markdown",
   "id": "ba036198",
   "metadata": {
    "papermill": {
     "duration": 0.023698,
     "end_time": "2022-08-15T20:10:11.440154",
     "exception": false,
     "start_time": "2022-08-15T20:10:11.416456",
     "status": "completed"
    },
    "tags": []
   },
   "source": [
    "From the command line run `pip install mnist`. This is a library that will help you bring down the mnist dataset. If you run this from a notebook, you need to put  `!pip install mnist` in a cell by itself."
   ]
  },
  {
   "cell_type": "code",
   "execution_count": 3,
   "id": "bb6ad8a1",
   "metadata": {
    "execution": {
     "iopub.execute_input": "2022-08-15T20:10:11.491906Z",
     "iopub.status.busy": "2022-08-15T20:10:11.491318Z",
     "iopub.status.idle": "2022-08-15T20:10:13.097334Z",
     "shell.execute_reply": "2022-08-15T20:10:13.096773Z"
    },
    "papermill": {
     "duration": 1.633359,
     "end_time": "2022-08-15T20:10:13.097465",
     "exception": false,
     "start_time": "2022-08-15T20:10:11.464106",
     "status": "completed"
    },
    "tags": []
   },
   "outputs": [
    {
     "name": "stdout",
     "output_type": "stream",
     "text": [
      "Collecting mnist\r\n",
      "  Downloading mnist-0.2.2-py2.py3-none-any.whl (3.5 kB)\r\n",
      "Requirement already satisfied: numpy in /opt/hostedtoolcache/Python/3.6.15/x64/lib/python3.6/site-packages (from mnist) (1.19.5)\r\n"
     ]
    },
    {
     "name": "stdout",
     "output_type": "stream",
     "text": [
      "Installing collected packages: mnist\r\n"
     ]
    },
    {
     "name": "stdout",
     "output_type": "stream",
     "text": [
      "Successfully installed mnist-0.2.2\r\n"
     ]
    }
   ],
   "source": [
    "!pip install mnist"
   ]
  },
  {
   "cell_type": "markdown",
   "id": "69df9c9a",
   "metadata": {
    "papermill": {
     "duration": 0.024583,
     "end_time": "2022-08-15T20:10:13.146924",
     "exception": false,
     "start_time": "2022-08-15T20:10:13.122341",
     "status": "completed"
    },
    "tags": []
   },
   "source": [
    "## Preparing the Data"
   ]
  },
  {
   "cell_type": "code",
   "execution_count": 4,
   "id": "7f69d806",
   "metadata": {
    "execution": {
     "iopub.execute_input": "2022-08-15T20:10:13.217106Z",
     "iopub.status.busy": "2022-08-15T20:10:13.214952Z",
     "iopub.status.idle": "2022-08-15T20:10:13.219455Z",
     "shell.execute_reply": "2022-08-15T20:10:13.219882Z"
    },
    "papermill": {
     "duration": 0.048745,
     "end_time": "2022-08-15T20:10:13.220020",
     "exception": false,
     "start_time": "2022-08-15T20:10:13.171275",
     "status": "completed"
    },
    "tags": []
   },
   "outputs": [],
   "source": [
    "import mnist"
   ]
  },
  {
   "cell_type": "code",
   "execution_count": 5,
   "id": "a411e44f",
   "metadata": {
    "execution": {
     "iopub.execute_input": "2022-08-15T20:10:13.282980Z",
     "iopub.status.busy": "2022-08-15T20:10:13.272051Z",
     "iopub.status.idle": "2022-08-15T20:10:13.896653Z",
     "shell.execute_reply": "2022-08-15T20:10:13.896072Z"
    },
    "papermill": {
     "duration": 0.652311,
     "end_time": "2022-08-15T20:10:13.896797",
     "exception": false,
     "start_time": "2022-08-15T20:10:13.244486",
     "status": "completed"
    },
    "tags": []
   },
   "outputs": [],
   "source": [
    "train_images = mnist.train_images()\n",
    "train_labels = mnist.train_labels()"
   ]
  },
  {
   "cell_type": "code",
   "execution_count": 6,
   "id": "dceab3a5",
   "metadata": {
    "execution": {
     "iopub.execute_input": "2022-08-15T20:10:13.957440Z",
     "iopub.status.busy": "2022-08-15T20:10:13.955637Z",
     "iopub.status.idle": "2022-08-15T20:10:13.968285Z",
     "shell.execute_reply": "2022-08-15T20:10:13.967713Z"
    },
    "papermill": {
     "duration": 0.0461,
     "end_time": "2022-08-15T20:10:13.968397",
     "exception": false,
     "start_time": "2022-08-15T20:10:13.922297",
     "status": "completed"
    },
    "tags": []
   },
   "outputs": [
    {
     "data": {
      "text/plain": [
       "((60000, 28, 28), (60000,))"
      ]
     },
     "execution_count": 6,
     "metadata": {},
     "output_type": "execute_result"
    }
   ],
   "source": [
    "train_images.shape, train_labels.shape"
   ]
  },
  {
   "cell_type": "code",
   "execution_count": 7,
   "id": "f50dc2bb",
   "metadata": {
    "execution": {
     "iopub.execute_input": "2022-08-15T20:10:14.030860Z",
     "iopub.status.busy": "2022-08-15T20:10:14.021289Z",
     "iopub.status.idle": "2022-08-15T20:10:14.193414Z",
     "shell.execute_reply": "2022-08-15T20:10:14.192789Z"
    },
    "papermill": {
     "duration": 0.200124,
     "end_time": "2022-08-15T20:10:14.193555",
     "exception": false,
     "start_time": "2022-08-15T20:10:13.993431",
     "status": "completed"
    },
    "tags": []
   },
   "outputs": [],
   "source": [
    "test_images = mnist.test_images()\n",
    "test_labels = mnist.test_labels()"
   ]
  },
  {
   "cell_type": "code",
   "execution_count": 8,
   "id": "fc38cf1b",
   "metadata": {
    "execution": {
     "iopub.execute_input": "2022-08-15T20:10:14.263684Z",
     "iopub.status.busy": "2022-08-15T20:10:14.259018Z",
     "iopub.status.idle": "2022-08-15T20:10:14.266976Z",
     "shell.execute_reply": "2022-08-15T20:10:14.267402Z"
    },
    "papermill": {
     "duration": 0.048467,
     "end_time": "2022-08-15T20:10:14.267539",
     "exception": false,
     "start_time": "2022-08-15T20:10:14.219072",
     "status": "completed"
    },
    "tags": []
   },
   "outputs": [
    {
     "data": {
      "text/plain": [
       "((10000, 28, 28), (10000,))"
      ]
     },
     "execution_count": 8,
     "metadata": {},
     "output_type": "execute_result"
    }
   ],
   "source": [
    "test_images.shape, test_labels.shape"
   ]
  },
  {
   "cell_type": "code",
   "execution_count": 9,
   "id": "f9ed8fe0",
   "metadata": {
    "execution": {
     "iopub.execute_input": "2022-08-15T20:10:14.331041Z",
     "iopub.status.busy": "2022-08-15T20:10:14.329864Z",
     "iopub.status.idle": "2022-08-15T20:10:14.464735Z",
     "shell.execute_reply": "2022-08-15T20:10:14.464245Z"
    },
    "papermill": {
     "duration": 0.172209,
     "end_time": "2022-08-15T20:10:14.464863",
     "exception": false,
     "start_time": "2022-08-15T20:10:14.292654",
     "status": "completed"
    },
    "tags": []
   },
   "outputs": [
    {
     "name": "stdout",
     "output_type": "stream",
     "text": [
      "2\n"
     ]
    },
    {
     "data": {
      "text/plain": [
       "<matplotlib.image.AxesImage at 0x7f9b0ff54978>"
      ]
     },
     "execution_count": 9,
     "metadata": {},
     "output_type": "execute_result"
    },
    {
     "data": {
      "image/png": "[encoded data removed]",
      "text/plain": [
       "<Figure size 432x288 with 1 Axes>"
      ]
     },
     "metadata": {
      "needs_background": "light"
     },
     "output_type": "display_data"
    }
   ],
   "source": [
    "image_index = 7776 # You may select anything up to 60,000\n",
    "print(train_labels[image_index]) \n",
    "plt.imshow(train_images[image_index], cmap='Greys')"
   ]
  },
  {
   "cell_type": "markdown",
   "id": "a8d2388d",
   "metadata": {
    "papermill": {
     "duration": 0.026472,
     "end_time": "2022-08-15T20:10:14.519912",
     "exception": false,
     "start_time": "2022-08-15T20:10:14.493440",
     "status": "completed"
    },
    "tags": []
   },
   "source": [
    "## Filter data to get 3 and 8 out"
   ]
  },
  {
   "cell_type": "code",
   "execution_count": 10,
   "id": "776f7fc7",
   "metadata": {
    "execution": {
     "iopub.execute_input": "2022-08-15T20:10:14.577816Z",
     "iopub.status.busy": "2022-08-15T20:10:14.577096Z",
     "iopub.status.idle": "2022-08-15T20:10:14.596687Z",
     "shell.execute_reply": "2022-08-15T20:10:14.596121Z"
    },
    "papermill": {
     "duration": 0.050805,
     "end_time": "2022-08-15T20:10:14.596816",
     "exception": false,
     "start_time": "2022-08-15T20:10:14.546011",
     "status": "completed"
    },
    "tags": []
   },
   "outputs": [],
   "source": [
    "train_filter = np.where((train_labels == 3 ) | (train_labels == 8))\n",
    "test_filter = np.where((test_labels == 3) | (test_labels == 8))\n",
    "X_train, y_train = train_images[train_filter], train_labels[train_filter]\n",
    "X_test, y_test = test_images[test_filter], test_labels[test_filter]"
   ]
  },
  {
   "cell_type": "markdown",
   "id": "948f0b7e",
   "metadata": {
    "papermill": {
     "duration": 0.02608,
     "end_time": "2022-08-15T20:10:14.650840",
     "exception": false,
     "start_time": "2022-08-15T20:10:14.624760",
     "status": "completed"
    },
    "tags": []
   },
   "source": [
    "We normalize the pizel values in the 0 to 1 range"
   ]
  },
  {
   "cell_type": "code",
   "execution_count": 11,
   "id": "ee4c2166",
   "metadata": {
    "execution": {
     "iopub.execute_input": "2022-08-15T20:10:14.719075Z",
     "iopub.status.busy": "2022-08-15T20:10:14.716044Z",
     "iopub.status.idle": "2022-08-15T20:10:14.760174Z",
     "shell.execute_reply": "2022-08-15T20:10:14.759129Z"
    },
    "papermill": {
     "duration": 0.083484,
     "end_time": "2022-08-15T20:10:14.760322",
     "exception": false,
     "start_time": "2022-08-15T20:10:14.676838",
     "status": "completed"
    },
    "tags": []
   },
   "outputs": [],
   "source": [
    "X_train = X_train/255.\n",
    "X_test = X_test/255."
   ]
  },
  {
   "cell_type": "markdown",
   "id": "ddcf4fab",
   "metadata": {
    "papermill": {
     "duration": 0.026197,
     "end_time": "2022-08-15T20:10:14.813074",
     "exception": false,
     "start_time": "2022-08-15T20:10:14.786877",
     "status": "completed"
    },
    "tags": []
   },
   "source": [
    "And setup the labels as 1 (when the digit is 3) and 0 (when the digit is 8)"
   ]
  },
  {
   "cell_type": "code",
   "execution_count": 12,
   "id": "7dc908f2",
   "metadata": {
    "execution": {
     "iopub.execute_input": "2022-08-15T20:10:14.869910Z",
     "iopub.status.busy": "2022-08-15T20:10:14.868847Z",
     "iopub.status.idle": "2022-08-15T20:10:14.880924Z",
     "shell.execute_reply": "2022-08-15T20:10:14.881650Z"
    },
    "papermill": {
     "duration": 0.042563,
     "end_time": "2022-08-15T20:10:14.881789",
     "exception": false,
     "start_time": "2022-08-15T20:10:14.839226",
     "status": "completed"
    },
    "tags": []
   },
   "outputs": [],
   "source": [
    "y_train = 1*(y_train==3)\n",
    "y_test = 1*(y_test==3)"
   ]
  },
  {
   "cell_type": "code",
   "execution_count": 13,
   "id": "01e4e969",
   "metadata": {
    "execution": {
     "iopub.execute_input": "2022-08-15T20:10:14.939074Z",
     "iopub.status.busy": "2022-08-15T20:10:14.938406Z",
     "iopub.status.idle": "2022-08-15T20:10:14.977136Z",
     "shell.execute_reply": "2022-08-15T20:10:14.976440Z"
    },
    "papermill": {
     "duration": 0.069274,
     "end_time": "2022-08-15T20:10:14.977268",
     "exception": false,
     "start_time": "2022-08-15T20:10:14.907994",
     "status": "completed"
    },
    "tags": []
   },
   "outputs": [
    {
     "data": {
      "text/plain": [
       "((11982, 28, 28), (1984, 28, 28))"
      ]
     },
     "execution_count": 13,
     "metadata": {},
     "output_type": "execute_result"
    }
   ],
   "source": [
    "X_train.shape, X_test.shape"
   ]
  },
  {
   "cell_type": "markdown",
   "id": "5ccf3f85",
   "metadata": {
    "papermill": {
     "duration": 0.026514,
     "end_time": "2022-08-15T20:10:15.031915",
     "exception": false,
     "start_time": "2022-08-15T20:10:15.005401",
     "status": "completed"
    },
    "tags": []
   },
   "source": [
    "We reshape the data to flatten the image pixels into a set of features or co-variates:"
   ]
  },
  {
   "cell_type": "code",
   "execution_count": 14,
   "id": "5286a4a3",
   "metadata": {
    "execution": {
     "iopub.execute_input": "2022-08-15T20:10:15.090483Z",
     "iopub.status.busy": "2022-08-15T20:10:15.089711Z",
     "iopub.status.idle": "2022-08-15T20:10:15.104179Z",
     "shell.execute_reply": "2022-08-15T20:10:15.104678Z"
    },
    "papermill": {
     "duration": 0.04621,
     "end_time": "2022-08-15T20:10:15.104820",
     "exception": false,
     "start_time": "2022-08-15T20:10:15.058610",
     "status": "completed"
    },
    "tags": []
   },
   "outputs": [
    {
     "data": {
      "text/plain": [
       "((11982, 784), (1984, 784))"
      ]
     },
     "execution_count": 14,
     "metadata": {},
     "output_type": "execute_result"
    }
   ],
   "source": [
    "X_train = X_train.reshape(X_train.shape[0], -1)\n",
    "X_test = X_test.reshape(X_test.shape[0], -1)\n",
    "X_train.shape, X_test.shape"
   ]
  },
  {
   "cell_type": "code",
   "execution_count": 15,
   "id": "73c5f88a",
   "metadata": {
    "execution": {
     "iopub.execute_input": "2022-08-15T20:10:15.165086Z",
     "iopub.status.busy": "2022-08-15T20:10:15.164468Z",
     "iopub.status.idle": "2022-08-15T20:10:15.184376Z",
     "shell.execute_reply": "2022-08-15T20:10:15.183884Z"
    },
    "papermill": {
     "duration": 0.052517,
     "end_time": "2022-08-15T20:10:15.184492",
     "exception": false,
     "start_time": "2022-08-15T20:10:15.131975",
     "status": "completed"
    },
    "tags": []
   },
   "outputs": [],
   "source": [
    "#Impoting functions from 'Kudzu'\n",
    "from kudzu.model import Model\n",
    "from kudzu.train import Learner\n",
    "from kudzu.optim import GD\n",
    "from kudzu.data import Data, Sampler,Dataloader\n",
    "\n",
    "from kudzu.callbacks import AccCallback\n",
    "from kudzu.callbacks import ClfCallback\n",
    "\n",
    "from kudzu.loss import MSE\n",
    "\n",
    "from kudzu.layer import Sigmoid,Relu\n",
    "from kudzu.layer import Affine"
   ]
  },
  {
   "cell_type": "markdown",
   "id": "bc01172a",
   "metadata": {
    "papermill": {
     "duration": 0.026547,
     "end_time": "2022-08-15T20:10:15.237995",
     "exception": false,
     "start_time": "2022-08-15T20:10:15.211448",
     "status": "completed"
    },
    "tags": []
   },
   "source": [
    "### Let us create a `Config` class, to store important parameters. \n",
    "This class essentially plays the role of a dictionary."
   ]
  },
  {
   "cell_type": "code",
   "execution_count": 16,
   "id": "978281aa",
   "metadata": {
    "execution": {
     "iopub.execute_input": "2022-08-15T20:10:15.297592Z",
     "iopub.status.busy": "2022-08-15T20:10:15.296992Z",
     "iopub.status.idle": "2022-08-15T20:10:15.308174Z",
     "shell.execute_reply": "2022-08-15T20:10:15.308627Z"
    },
    "papermill": {
     "duration": 0.044145,
     "end_time": "2022-08-15T20:10:15.308760",
     "exception": false,
     "start_time": "2022-08-15T20:10:15.264615",
     "status": "completed"
    },
    "tags": []
   },
   "outputs": [],
   "source": [
    "class Config:\n",
    "    pass\n",
    "config = Config()\n",
    "config.lr = 0.001\n",
    "config.num_epochs = 250\n",
    "config.bs = 50"
   ]
  },
  {
   "cell_type": "markdown",
   "id": "1385fa59",
   "metadata": {
    "papermill": {
     "duration": 0.026496,
     "end_time": "2022-08-15T20:10:15.361951",
     "exception": false,
     "start_time": "2022-08-15T20:10:15.335455",
     "status": "completed"
    },
    "tags": []
   },
   "source": [
    "### Running Models with the Training data\n",
    "Details about the network layers:\n",
    "- A first affine layer has 784 inputs and does 100 affine transforms. These are followed by a Relu\n",
    "- A second affine layer has 100 inputs from the 100 activations of the past layer, and does 100 affine transforms. These are followed by a Relu\n",
    "- A third affine layer has 100 activations and does 2 affine transformations to create an embedding for visualization. There is no non-linearity here.\n",
    "- A final \"logistic regression\" which has an affine transform from 2 inputs to 1 output, which is squeezed through a sigmoid.\n"
   ]
  },
  {
   "cell_type": "code",
   "execution_count": 17,
   "id": "2b9c66db",
   "metadata": {
    "execution": {
     "iopub.execute_input": "2022-08-15T20:10:15.426322Z",
     "iopub.status.busy": "2022-08-15T20:10:15.425677Z",
     "iopub.status.idle": "2022-08-15T20:10:15.434753Z",
     "shell.execute_reply": "2022-08-15T20:10:15.434172Z"
    },
    "papermill": {
     "duration": 0.046264,
     "end_time": "2022-08-15T20:10:15.434868",
     "exception": false,
     "start_time": "2022-08-15T20:10:15.388604",
     "status": "completed"
    },
    "tags": []
   },
   "outputs": [],
   "source": [
    "data = Data(X_train, y_train.reshape(-1,1))\n",
    "sampler = Sampler(data, config.bs, shuffle=True)\n",
    "\n",
    "dl = Dataloader(data, sampler)\n",
    "\n",
    "opt = GD(config.lr)\n",
    "loss = MSE()"
   ]
  },
  {
   "cell_type": "code",
   "execution_count": 18,
   "id": "b275e4c2",
   "metadata": {
    "execution": {
     "iopub.execute_input": "2022-08-15T20:10:15.495658Z",
     "iopub.status.busy": "2022-08-15T20:10:15.495059Z",
     "iopub.status.idle": "2022-08-15T20:10:15.506876Z",
     "shell.execute_reply": "2022-08-15T20:10:15.506395Z"
    },
    "papermill": {
     "duration": 0.045449,
     "end_time": "2022-08-15T20:10:15.506994",
     "exception": false,
     "start_time": "2022-08-15T20:10:15.461545",
     "status": "completed"
    },
    "tags": []
   },
   "outputs": [],
   "source": [
    "training_data_x = X_train\n",
    "testing_data_x = X_test\n",
    "training_data_y = y_train.reshape(-1,1)\n",
    "testing_data_y = y_test.reshape(-1,1)"
   ]
  },
  {
   "cell_type": "code",
   "execution_count": 19,
   "id": "76951160",
   "metadata": {
    "execution": {
     "iopub.execute_input": "2022-08-15T20:10:15.567913Z",
     "iopub.status.busy": "2022-08-15T20:10:15.567312Z",
     "iopub.status.idle": "2022-08-15T20:10:15.584226Z",
     "shell.execute_reply": "2022-08-15T20:10:15.584700Z"
    },
    "papermill": {
     "duration": 0.051178,
     "end_time": "2022-08-15T20:10:15.584832",
     "exception": false,
     "start_time": "2022-08-15T20:10:15.533654",
     "status": "completed"
    },
    "tags": []
   },
   "outputs": [
    {
     "name": "stdout",
     "output_type": "stream",
     "text": [
      "xavier\n",
      "xavier\n",
      "xavier\n",
      "xavier\n",
      "xavier\n"
     ]
    }
   ],
   "source": [
    "layers = [Affine(\"first\", 784, 100), Relu(\"first\"), Affine(\"second\", 100, 100), Relu(\"second\"), Affine(\"third\", 100, 2), Affine(\"last\", 2, 1), Sigmoid(\"last\")]\n",
    "model_nn = Model(layers)\n",
    "model_lr = Model([Affine(\"logits\", 784, 1), Sigmoid(\"sigmoid\")])"
   ]
  },
  {
   "cell_type": "code",
   "execution_count": 20,
   "id": "6eede77a",
   "metadata": {
    "execution": {
     "iopub.execute_input": "2022-08-15T20:10:15.642206Z",
     "iopub.status.busy": "2022-08-15T20:10:15.641600Z",
     "iopub.status.idle": "2022-08-15T20:10:15.655316Z",
     "shell.execute_reply": "2022-08-15T20:10:15.654844Z"
    },
    "papermill": {
     "duration": 0.043671,
     "end_time": "2022-08-15T20:10:15.655424",
     "exception": false,
     "start_time": "2022-08-15T20:10:15.611753",
     "status": "completed"
    },
    "tags": []
   },
   "outputs": [],
   "source": [
    "nn_learner = Learner(loss, model_nn, opt, config.num_epochs)\n",
    "acc_nn = ClfCallback(nn_learner, config.bs, training_data_x , testing_data_x, training_data_y, testing_data_y)\n",
    "nn_learner.set_callbacks([acc_nn])"
   ]
  },
  {
   "cell_type": "code",
   "execution_count": 21,
   "id": "877b6cc7",
   "metadata": {
    "execution": {
     "iopub.execute_input": "2022-08-15T20:10:15.715410Z",
     "iopub.status.busy": "2022-08-15T20:10:15.714831Z",
     "iopub.status.idle": "2022-08-15T20:10:15.727915Z",
     "shell.execute_reply": "2022-08-15T20:10:15.727443Z"
    },
    "papermill": {
     "duration": 0.044022,
     "end_time": "2022-08-15T20:10:15.728025",
     "exception": false,
     "start_time": "2022-08-15T20:10:15.684003",
     "status": "completed"
    },
    "tags": []
   },
   "outputs": [],
   "source": [
    "lr_learner = Learner(loss, model_lr, opt, config.num_epochs)\n",
    "acc_lr = ClfCallback(lr_learner, config.bs, training_data_x , testing_data_x, training_data_y, testing_data_y)\n",
    "lr_learner.set_callbacks([acc_lr])"
   ]
  },
  {
   "cell_type": "code",
   "execution_count": 22,
   "id": "d9b133c3",
   "metadata": {
    "execution": {
     "iopub.execute_input": "2022-08-15T20:10:15.785205Z",
     "iopub.status.busy": "2022-08-15T20:10:15.784625Z",
     "iopub.status.idle": "2022-08-15T20:11:32.156621Z",
     "shell.execute_reply": "2022-08-15T20:11:32.157474Z"
    },
    "papermill": {
     "duration": 76.402726,
     "end_time": "2022-08-15T20:11:32.157627",
     "exception": false,
     "start_time": "2022-08-15T20:10:15.754901",
     "status": "completed"
    },
    "tags": []
   },
   "outputs": [
    {
     "name": "stdout",
     "output_type": "stream",
     "text": [
      "Epoch 0, Loss 0.2487\n",
      "Training Accuracy: 0.6173, Testing Accuracy: 0.6079\n",
      "\n"
     ]
    },
    {
     "name": "stdout",
     "output_type": "stream",
     "text": [
      "Epoch 10, Loss 0.1516\n",
      "Training Accuracy: 0.9006, Testing Accuracy: 0.9108\n",
      "\n"
     ]
    },
    {
     "name": "stdout",
     "output_type": "stream",
     "text": [
      "Epoch 20, Loss 0.0766\n",
      "Training Accuracy: 0.9266, Testing Accuracy: 0.9400\n",
      "\n"
     ]
    },
    {
     "name": "stdout",
     "output_type": "stream",
     "text": [
      "Epoch 30, Loss 0.0534\n",
      "Training Accuracy: 0.9409, Testing Accuracy: 0.9546\n",
      "\n"
     ]
    },
    {
     "name": "stdout",
     "output_type": "stream",
     "text": [
      "Epoch 40, Loss 0.0436\n",
      "Training Accuracy: 0.9513, Testing Accuracy: 0.9637\n",
      "\n"
     ]
    },
    {
     "name": "stdout",
     "output_type": "stream",
     "text": [
      "Epoch 50, Loss 0.0383\n",
      "Training Accuracy: 0.9553, Testing Accuracy: 0.9657\n",
      "\n"
     ]
    },
    {
     "name": "stdout",
     "output_type": "stream",
     "text": [
      "Epoch 60, Loss 0.0348\n",
      "Training Accuracy: 0.9591, Testing Accuracy: 0.9672\n",
      "\n"
     ]
    },
    {
     "name": "stdout",
     "output_type": "stream",
     "text": [
      "Epoch 70, Loss 0.0324\n",
      "Training Accuracy: 0.9625, Testing Accuracy: 0.9677\n",
      "\n"
     ]
    },
    {
     "name": "stdout",
     "output_type": "stream",
     "text": [
      "Epoch 80, Loss 0.0306\n",
      "Training Accuracy: 0.9637, Testing Accuracy: 0.9688\n",
      "\n"
     ]
    },
    {
     "name": "stdout",
     "output_type": "stream",
     "text": [
      "Epoch 90, Loss 0.0291\n",
      "Training Accuracy: 0.9654, Testing Accuracy: 0.9703\n",
      "\n"
     ]
    },
    {
     "name": "stdout",
     "output_type": "stream",
     "text": [
      "Epoch 100, Loss 0.0279\n",
      "Training Accuracy: 0.9674, Testing Accuracy: 0.9698\n",
      "\n"
     ]
    },
    {
     "name": "stdout",
     "output_type": "stream",
     "text": [
      "Epoch 110, Loss 0.0269\n",
      "Training Accuracy: 0.9691, Testing Accuracy: 0.9698\n",
      "\n"
     ]
    },
    {
     "name": "stdout",
     "output_type": "stream",
     "text": [
      "Epoch 120, Loss 0.026\n",
      "Training Accuracy: 0.9697, Testing Accuracy: 0.9708\n",
      "\n"
     ]
    },
    {
     "name": "stdout",
     "output_type": "stream",
     "text": [
      "Epoch 130, Loss 0.0252\n",
      "Training Accuracy: 0.9707, Testing Accuracy: 0.9718\n",
      "\n"
     ]
    },
    {
     "name": "stdout",
     "output_type": "stream",
     "text": [
      "Epoch 140, Loss 0.0245\n",
      "Training Accuracy: 0.9715, Testing Accuracy: 0.9718\n",
      "\n"
     ]
    },
    {
     "name": "stdout",
     "output_type": "stream",
     "text": [
      "Epoch 150, Loss 0.0238\n",
      "Training Accuracy: 0.9723, Testing Accuracy: 0.9713\n",
      "\n"
     ]
    },
    {
     "name": "stdout",
     "output_type": "stream",
     "text": [
      "Epoch 160, Loss 0.0232\n",
      "Training Accuracy: 0.9730, Testing Accuracy: 0.9708\n",
      "\n"
     ]
    },
    {
     "name": "stdout",
     "output_type": "stream",
     "text": [
      "Epoch 170, Loss 0.0226\n",
      "Training Accuracy: 0.9736, Testing Accuracy: 0.9708\n",
      "\n"
     ]
    },
    {
     "name": "stdout",
     "output_type": "stream",
     "text": [
      "Epoch 180, Loss 0.0221\n",
      "Training Accuracy: 0.9745, Testing Accuracy: 0.9723\n",
      "\n"
     ]
    },
    {
     "name": "stdout",
     "output_type": "stream",
     "text": [
      "Epoch 190, Loss 0.0216\n",
      "Training Accuracy: 0.9750, Testing Accuracy: 0.9728\n",
      "\n"
     ]
    },
    {
     "name": "stdout",
     "output_type": "stream",
     "text": [
      "Epoch 200, Loss 0.0211\n",
      "Training Accuracy: 0.9760, Testing Accuracy: 0.9738\n",
      "\n"
     ]
    },
    {
     "name": "stdout",
     "output_type": "stream",
     "text": [
      "Epoch 210, Loss 0.0207\n",
      "Training Accuracy: 0.9765, Testing Accuracy: 0.9743\n",
      "\n"
     ]
    },
    {
     "name": "stdout",
     "output_type": "stream",
     "text": [
      "Epoch 220, Loss 0.0203\n",
      "Training Accuracy: 0.9770, Testing Accuracy: 0.9743\n",
      "\n"
     ]
    },
    {
     "name": "stdout",
     "output_type": "stream",
     "text": [
      "Epoch 230, Loss 0.0199\n",
      "Training Accuracy: 0.9773, Testing Accuracy: 0.9748\n",
      "\n"
     ]
    },
    {
     "name": "stdout",
     "output_type": "stream",
     "text": [
      "Epoch 240, Loss 0.0195\n",
      "Training Accuracy: 0.9776, Testing Accuracy: 0.9753\n",
      "\n"
     ]
    },
    {
     "data": {
      "text/plain": [
       "0.009559136034522608"
      ]
     },
     "execution_count": 22,
     "metadata": {},
     "output_type": "execute_result"
    }
   ],
   "source": [
    "nn_learner.train_loop(dl)"
   ]
  },
  {
   "cell_type": "code",
   "execution_count": 23,
   "id": "e0163366",
   "metadata": {
    "execution": {
     "iopub.execute_input": "2022-08-15T20:11:32.236107Z",
     "iopub.status.busy": "2022-08-15T20:11:32.235510Z",
     "iopub.status.idle": "2022-08-15T20:11:46.617059Z",
     "shell.execute_reply": "2022-08-15T20:11:46.617949Z"
    },
    "papermill": {
     "duration": 14.424736,
     "end_time": "2022-08-15T20:11:46.618122",
     "exception": false,
     "start_time": "2022-08-15T20:11:32.193386",
     "status": "completed"
    },
    "tags": []
   },
   "outputs": [
    {
     "name": "stdout",
     "output_type": "stream",
     "text": [
      "Epoch 0, Loss 0.2219\n",
      "Training Accuracy: 0.8006, Testing Accuracy: 0.8155\n",
      "\n"
     ]
    },
    {
     "name": "stdout",
     "output_type": "stream",
     "text": [
      "Epoch 10, Loss 0.0996\n",
      "Training Accuracy: 0.9196, Testing Accuracy: 0.9299\n",
      "\n"
     ]
    },
    {
     "name": "stdout",
     "output_type": "stream",
     "text": [
      "Epoch 20, Loss 0.0775\n",
      "Training Accuracy: 0.9329, Testing Accuracy: 0.9410\n",
      "\n"
     ]
    },
    {
     "name": "stdout",
     "output_type": "stream",
     "text": [
      "Epoch 30, Loss 0.0671\n",
      "Training Accuracy: 0.9386, Testing Accuracy: 0.9481\n",
      "\n"
     ]
    },
    {
     "name": "stdout",
     "output_type": "stream",
     "text": [
      "Epoch 40, Loss 0.0608\n",
      "Training Accuracy: 0.9422, Testing Accuracy: 0.9551\n",
      "\n"
     ]
    },
    {
     "name": "stdout",
     "output_type": "stream",
     "text": [
      "Epoch 50, Loss 0.0565\n",
      "Training Accuracy: 0.9464, Testing Accuracy: 0.9597\n",
      "\n"
     ]
    },
    {
     "name": "stdout",
     "output_type": "stream",
     "text": [
      "Epoch 60, Loss 0.0533\n",
      "Training Accuracy: 0.9481, Testing Accuracy: 0.9597\n",
      "\n"
     ]
    },
    {
     "name": "stdout",
     "output_type": "stream",
     "text": [
      "Epoch 70, Loss 0.0509\n",
      "Training Accuracy: 0.9503, Testing Accuracy: 0.9602\n",
      "\n"
     ]
    },
    {
     "name": "stdout",
     "output_type": "stream",
     "text": [
      "Epoch 80, Loss 0.0489\n",
      "Training Accuracy: 0.9516, Testing Accuracy: 0.9612\n",
      "\n"
     ]
    },
    {
     "name": "stdout",
     "output_type": "stream",
     "text": [
      "Epoch 90, Loss 0.0473\n",
      "Training Accuracy: 0.9523, Testing Accuracy: 0.9622\n",
      "\n"
     ]
    },
    {
     "name": "stdout",
     "output_type": "stream",
     "text": [
      "Epoch 100, Loss 0.0459\n",
      "Training Accuracy: 0.9533, Testing Accuracy: 0.9632\n",
      "\n"
     ]
    },
    {
     "name": "stdout",
     "output_type": "stream",
     "text": [
      "Epoch 110, Loss 0.0447\n",
      "Training Accuracy: 0.9545, Testing Accuracy: 0.9637\n",
      "\n"
     ]
    },
    {
     "name": "stdout",
     "output_type": "stream",
     "text": [
      "Epoch 120, Loss 0.0437\n",
      "Training Accuracy: 0.9551, Testing Accuracy: 0.9652\n",
      "\n"
     ]
    },
    {
     "name": "stdout",
     "output_type": "stream",
     "text": [
      "Epoch 130, Loss 0.0428\n",
      "Training Accuracy: 0.9554, Testing Accuracy: 0.9662\n",
      "\n"
     ]
    },
    {
     "name": "stdout",
     "output_type": "stream",
     "text": [
      "Epoch 140, Loss 0.0419\n",
      "Training Accuracy: 0.9561, Testing Accuracy: 0.9657\n",
      "\n"
     ]
    },
    {
     "name": "stdout",
     "output_type": "stream",
     "text": [
      "Epoch 150, Loss 0.0412\n",
      "Training Accuracy: 0.9570, Testing Accuracy: 0.9672\n",
      "\n"
     ]
    },
    {
     "name": "stdout",
     "output_type": "stream",
     "text": [
      "Epoch 160, Loss 0.0406\n",
      "Training Accuracy: 0.9574, Testing Accuracy: 0.9677\n",
      "\n"
     ]
    },
    {
     "name": "stdout",
     "output_type": "stream",
     "text": [
      "Epoch 170, Loss 0.04\n",
      "Training Accuracy: 0.9579, Testing Accuracy: 0.9677\n",
      "\n"
     ]
    },
    {
     "name": "stdout",
     "output_type": "stream",
     "text": [
      "Epoch 180, Loss 0.0394\n",
      "Training Accuracy: 0.9584, Testing Accuracy: 0.9672\n",
      "\n"
     ]
    },
    {
     "name": "stdout",
     "output_type": "stream",
     "text": [
      "Epoch 190, Loss 0.0389\n",
      "Training Accuracy: 0.9589, Testing Accuracy: 0.9667\n",
      "\n"
     ]
    },
    {
     "name": "stdout",
     "output_type": "stream",
     "text": [
      "Epoch 200, Loss 0.0384\n",
      "Training Accuracy: 0.9591, Testing Accuracy: 0.9667\n",
      "\n"
     ]
    },
    {
     "name": "stdout",
     "output_type": "stream",
     "text": [
      "Epoch 210, Loss 0.038\n",
      "Training Accuracy: 0.9593, Testing Accuracy: 0.9667\n",
      "\n"
     ]
    },
    {
     "name": "stdout",
     "output_type": "stream",
     "text": [
      "Epoch 220, Loss 0.0376\n",
      "Training Accuracy: 0.9595, Testing Accuracy: 0.9677\n",
      "\n"
     ]
    },
    {
     "name": "stdout",
     "output_type": "stream",
     "text": [
      "Epoch 230, Loss 0.0372\n",
      "Training Accuracy: 0.9599, Testing Accuracy: 0.9677\n",
      "\n"
     ]
    },
    {
     "name": "stdout",
     "output_type": "stream",
     "text": [
      "Epoch 240, Loss 0.0368\n",
      "Training Accuracy: 0.9602, Testing Accuracy: 0.9677\n",
      "\n"
     ]
    },
    {
     "data": {
      "text/plain": [
       "0.037380881696747637"
      ]
     },
     "execution_count": 23,
     "metadata": {},
     "output_type": "execute_result"
    }
   ],
   "source": [
    "lr_learner.train_loop(dl)"
   ]
  },
  {
   "cell_type": "code",
   "execution_count": 24,
   "id": "ca410940",
   "metadata": {
    "execution": {
     "iopub.execute_input": "2022-08-15T20:11:46.708014Z",
     "iopub.status.busy": "2022-08-15T20:11:46.707403Z",
     "iopub.status.idle": "2022-08-15T20:11:46.945115Z",
     "shell.execute_reply": "2022-08-15T20:11:46.945728Z"
    },
    "papermill": {
     "duration": 0.286766,
     "end_time": "2022-08-15T20:11:46.945877",
     "exception": false,
     "start_time": "2022-08-15T20:11:46.659111",
     "status": "completed"
    },
    "tags": []
   },
   "outputs": [
    {
     "data": {
      "text/plain": [
       "<matplotlib.legend.Legend at 0x7f9b0fad3f98>"
      ]
     },
     "execution_count": 24,
     "metadata": {},
     "output_type": "execute_result"
    },
    {
     "data": {
      "image/png": "[encoded data removed]",
      "text/plain": [
       "<Figure size 1080x720 with 1 Axes>"
      ]
     },
     "metadata": {
      "needs_background": "light"
     },
     "output_type": "display_data"
    }
   ],
   "source": [
    "#comparing the results of NN and LR\n",
    "plt.figure(figsize=(15,10))\n",
    "\n",
    "# Neural Network plots\n",
    "plt.plot(acc_nn.accuracies, 'r-', label = \"Training Accuracies - NN\")\n",
    "plt.plot(acc_nn.test_accuracies, 'g-', label = \"Testing Accuracies - NN\")\n",
    "\n",
    "# Logistic Regression plots\n",
    "plt.plot(acc_lr.accuracies, 'k-', label = \"Training Accuracies - LR\")\n",
    "plt.plot(acc_lr.test_accuracies, 'b-', label = \"Testing Accuracies - LR\")\n",
    "plt.legend()"
   ]
  },
  {
   "cell_type": "markdown",
   "id": "80dfb35c",
   "metadata": {
    "papermill": {
     "duration": 0.04141,
     "end_time": "2022-08-15T20:11:47.029431",
     "exception": false,
     "start_time": "2022-08-15T20:11:46.988021",
     "status": "completed"
    },
    "tags": []
   },
   "source": [
    "#### Plotting the outputs of this layer of the NN.\n"
   ]
  },
  {
   "cell_type": "code",
   "execution_count": 25,
   "id": "45eb2ff5",
   "metadata": {
    "execution": {
     "iopub.execute_input": "2022-08-15T20:11:47.117865Z",
     "iopub.status.busy": "2022-08-15T20:11:47.117187Z",
     "iopub.status.idle": "2022-08-15T20:11:47.140213Z",
     "shell.execute_reply": "2022-08-15T20:11:47.139718Z"
    },
    "papermill": {
     "duration": 0.06864,
     "end_time": "2022-08-15T20:11:47.140338",
     "exception": false,
     "start_time": "2022-08-15T20:11:47.071698",
     "status": "completed"
    },
    "tags": []
   },
   "outputs": [],
   "source": [
    "new_model = Model(layers[:-2])\n",
    "testing_plot = new_model(testing_data_x)"
   ]
  },
  {
   "cell_type": "code",
   "execution_count": 26,
   "id": "4c0a5485",
   "metadata": {
    "execution": {
     "iopub.execute_input": "2022-08-15T20:11:47.239501Z",
     "iopub.status.busy": "2022-08-15T20:11:47.238906Z",
     "iopub.status.idle": "2022-08-15T20:11:47.428999Z",
     "shell.execute_reply": "2022-08-15T20:11:47.429441Z"
    },
    "papermill": {
     "duration": 0.246437,
     "end_time": "2022-08-15T20:11:47.429592",
     "exception": false,
     "start_time": "2022-08-15T20:11:47.183155",
     "status": "completed"
    },
    "tags": []
   },
   "outputs": [
    {
     "data": {
      "text/plain": [
       "Text(0.5, 1.0, 'Outputs')"
      ]
     },
     "execution_count": 26,
     "metadata": {},
     "output_type": "execute_result"
    },
    {
     "data": {
      "image/png": "[encoded data removed]",
      "text/plain": [
       "<Figure size 576x504 with 1 Axes>"
      ]
     },
     "metadata": {
      "needs_background": "light"
     },
     "output_type": "display_data"
    }
   ],
   "source": [
    "# Plotting the scatter plot of points and color coding by class\n",
    "plt.figure(figsize=(8,7))\n",
    "plt.scatter(testing_plot[:,0], testing_plot[:,1], alpha = 0.1, c = y_test.ravel());\n",
    "plt.title('Outputs')"
   ]
  },
  {
   "cell_type": "markdown",
   "id": "a74fcf8f",
   "metadata": {
    "papermill": {
     "duration": 0.043611,
     "end_time": "2022-08-15T20:11:47.517315",
     "exception": false,
     "start_time": "2022-08-15T20:11:47.473704",
     "status": "completed"
    },
    "tags": []
   },
   "source": [
    "Probability contours"
   ]
  },
  {
   "cell_type": "code",
   "execution_count": 27,
   "id": "d0afc8e3",
   "metadata": {
    "execution": {
     "iopub.execute_input": "2022-08-15T20:11:47.612555Z",
     "iopub.status.busy": "2022-08-15T20:11:47.610878Z",
     "iopub.status.idle": "2022-08-15T20:11:47.624114Z",
     "shell.execute_reply": "2022-08-15T20:11:47.623643Z"
    },
    "papermill": {
     "duration": 0.063111,
     "end_time": "2022-08-15T20:11:47.624228",
     "exception": false,
     "start_time": "2022-08-15T20:11:47.561117",
     "status": "completed"
    },
    "tags": []
   },
   "outputs": [],
   "source": [
    "model_prob = Model(layers[-2:]) "
   ]
  },
  {
   "cell_type": "code",
   "execution_count": 28,
   "id": "9b96e238",
   "metadata": {
    "execution": {
     "iopub.execute_input": "2022-08-15T20:11:47.725504Z",
     "iopub.status.busy": "2022-08-15T20:11:47.724906Z",
     "iopub.status.idle": "2022-08-15T20:11:47.736118Z",
     "shell.execute_reply": "2022-08-15T20:11:47.735640Z"
    },
    "papermill": {
     "duration": 0.068174,
     "end_time": "2022-08-15T20:11:47.736230",
     "exception": false,
     "start_time": "2022-08-15T20:11:47.668056",
     "status": "completed"
    },
    "tags": []
   },
   "outputs": [],
   "source": [
    "#creating the x and y ranges according to the above generated plot.\n",
    "x_range = np.linspace(-4, 1, 100) \n",
    "y_range = np.linspace(-6, 6, 100) \n",
    "x_grid, y_grid = np.meshgrid(x_range, y_range) # x_grid and y_grig are of size 100 X 100\n",
    "\n",
    "# converting x_grid and y_grid to continuous arrays\n",
    "x_gridflat = np.ravel(x_grid)\n",
    "y_gridflat = np.ravel(y_grid)\n",
    "\n",
    "# The last layer of the current model takes two columns as input. Hence transpose of np.vstack() is required.\n",
    "X = np.vstack((x_gridflat, y_gridflat)).T\n",
    "\n",
    "prob_contour = model_prob(X).reshape(100,100) "
   ]
  },
  {
   "cell_type": "code",
   "execution_count": 29,
   "id": "da72499a",
   "metadata": {
    "execution": {
     "iopub.execute_input": "2022-08-15T20:11:47.867048Z",
     "iopub.status.busy": "2022-08-15T20:11:47.866373Z",
     "iopub.status.idle": "2022-08-15T20:11:48.113199Z",
     "shell.execute_reply": "2022-08-15T20:11:48.112701Z"
    },
    "papermill": {
     "duration": 0.298437,
     "end_time": "2022-08-15T20:11:48.113323",
     "exception": false,
     "start_time": "2022-08-15T20:11:47.814886",
     "status": "completed"
    },
    "tags": []
   },
   "outputs": [
    {
     "data": {
      "image/png": "[encoded data removed]",
      "text/plain": [
       "<Figure size 720x648 with 1 Axes>"
      ]
     },
     "metadata": {
      "needs_background": "light"
     },
     "output_type": "display_data"
    }
   ],
   "source": [
    "plt.figure(figsize=(10,9))\n",
    "plt.scatter(testing_plot[:,0], testing_plot[:,1], alpha = 0.1, c = y_test.ravel())\n",
    "contours = plt.contour(x_grid,y_grid,prob_contour)\n",
    "plt.title('Probability Contours')\n",
    "plt.clabel(contours, inline = True );"
   ]
  },
  {
   "cell_type": "code",
   "execution_count": null,
   "id": "e81b4ac7",
   "metadata": {
    "papermill": {
     "duration": 0.046287,
     "end_time": "2022-08-15T20:11:48.206540",
     "exception": false,
     "start_time": "2022-08-15T20:11:48.160253",
     "status": "completed"
    },
    "tags": []
   },
   "outputs": [],
   "source": []
  }
 ],
 "metadata": {
  "kernelspec": {
   "display_name": "Python 3",
   "language": "python",
   "name": "python3"
  },
  "language_info": {
   "codemirror_mode": {
    "name": "ipython",
    "version": 3
   },
   "file_extension": ".py",
   "mimetype": "text/x-python",
   "name": "python",
   "nbconvert_exporter": "python",
   "pygments_lexer": "ipython3",
   "version": "3.6.15"
  },
  "papermill": {
   "default_parameters": {},
   "duration": 98.980646,
   "end_time": "2022-08-15T20:11:48.672268",
   "environment_variables": {},
   "exception": null,
   "input_path": "2020-08-11-part2.ipynb",
   "output_path": "2020-08-11-part2.ipynb",
   "parameters": {},
   "start_time": "2022-08-15T20:10:09.691622",
   "version": "2.3.3"
  }
 },
 "nbformat": 4,
 "nbformat_minor": 5
}