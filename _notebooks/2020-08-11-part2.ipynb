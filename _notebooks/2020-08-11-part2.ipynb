{
 "cells": [
  {
   "cell_type": "markdown",
   "id": "98380cd3",
   "metadata": {
    "papermill": {
     "duration": 0.027817,
     "end_time": "2021-09-03T20:08:44.459667",
     "exception": false,
     "start_time": "2021-09-03T20:08:44.431850",
     "status": "completed"
    },
    "tags": []
   },
   "source": [
    "# Distinguish Your Own Digits (DYOD)"
   ]
  },
  {
   "cell_type": "markdown",
   "id": "ef31240d",
   "metadata": {
    "papermill": {
     "duration": 0.023423,
     "end_time": "2021-09-03T20:08:44.507338",
     "exception": false,
     "start_time": "2021-09-03T20:08:44.483915",
     "status": "completed"
    },
    "tags": []
   },
   "source": [
    "You are going to write a classifier that distinguishes between the number 3 and number 8."
   ]
  },
  {
   "cell_type": "code",
   "execution_count": 1,
   "id": "b15c8646",
   "metadata": {
    "execution": {
     "iopub.execute_input": "2021-09-03T20:08:44.565170Z",
     "iopub.status.busy": "2021-09-03T20:08:44.564657Z",
     "iopub.status.idle": "2021-09-03T20:08:44.574667Z",
     "shell.execute_reply": "2021-09-03T20:08:44.574242Z"
    },
    "papermill": {
     "duration": 0.043866,
     "end_time": "2021-09-03T20:08:44.574796",
     "exception": false,
     "start_time": "2021-09-03T20:08:44.530930",
     "status": "completed"
    },
    "tags": []
   },
   "outputs": [],
   "source": [
    "%load_ext autoreload\n",
    "%autoreload 2"
   ]
  },
  {
   "cell_type": "code",
   "execution_count": 2,
   "id": "22ef38dc",
   "metadata": {
    "execution": {
     "iopub.execute_input": "2021-09-03T20:08:44.631098Z",
     "iopub.status.busy": "2021-09-03T20:08:44.630588Z",
     "iopub.status.idle": "2021-09-03T20:08:45.152158Z",
     "shell.execute_reply": "2021-09-03T20:08:45.151672Z"
    },
    "papermill": {
     "duration": 0.553742,
     "end_time": "2021-09-03T20:08:45.152276",
     "exception": false,
     "start_time": "2021-09-03T20:08:44.598534",
     "status": "completed"
    },
    "tags": []
   },
   "outputs": [],
   "source": [
    "%matplotlib inline\n",
    "import numpy as np\n",
    "import matplotlib.pyplot as plt\n",
    "import pandas as pd"
   ]
  },
  {
   "cell_type": "markdown",
   "id": "ba036198",
   "metadata": {
    "papermill": {
     "duration": 0.024613,
     "end_time": "2021-09-03T20:08:45.200600",
     "exception": false,
     "start_time": "2021-09-03T20:08:45.175987",
     "status": "completed"
    },
    "tags": []
   },
   "source": [
    "From the command line run `pip install mnist`. This is a library that will help you bring down the mnist dataset. If you run this from a notebook, you need to put  `!pip install mnist` in a cell by itself."
   ]
  },
  {
   "cell_type": "code",
   "execution_count": 3,
   "id": "bb6ad8a1",
   "metadata": {
    "execution": {
     "iopub.execute_input": "2021-09-03T20:08:45.258513Z",
     "iopub.status.busy": "2021-09-03T20:08:45.257657Z",
     "iopub.status.idle": "2021-09-03T20:08:47.766263Z",
     "shell.execute_reply": "2021-09-03T20:08:47.765342Z"
    },
    "papermill": {
     "duration": 2.542106,
     "end_time": "2021-09-03T20:08:47.766396",
     "exception": false,
     "start_time": "2021-09-03T20:08:45.224290",
     "status": "completed"
    },
    "tags": []
   },
   "outputs": [
    {
     "name": "stdout",
     "output_type": "stream",
     "text": [
      "Collecting mnist\r\n"
     ]
    },
    {
     "name": "stdout",
     "output_type": "stream",
     "text": [
      "  Downloading mnist-0.2.2-py2.py3-none-any.whl (3.5 kB)\r\n",
      "Requirement already satisfied: numpy in /opt/hostedtoolcache/Python/3.6.14/x64/lib/python3.6/site-packages (from mnist) (1.19.5)\r\n"
     ]
    },
    {
     "name": "stdout",
     "output_type": "stream",
     "text": [
      "Installing collected packages: mnist\r\n",
      "Successfully installed mnist-0.2.2\r\n"
     ]
    }
   ],
   "source": [
    "!pip install mnist"
   ]
  },
  {
   "cell_type": "markdown",
   "id": "69df9c9a",
   "metadata": {
    "papermill": {
     "duration": 0.024632,
     "end_time": "2021-09-03T20:08:47.815872",
     "exception": false,
     "start_time": "2021-09-03T20:08:47.791240",
     "status": "completed"
    },
    "tags": []
   },
   "source": [
    "## Preparing the Data"
   ]
  },
  {
   "cell_type": "code",
   "execution_count": 4,
   "id": "7f69d806",
   "metadata": {
    "execution": {
     "iopub.execute_input": "2021-09-03T20:08:47.869468Z",
     "iopub.status.busy": "2021-09-03T20:08:47.868952Z",
     "iopub.status.idle": "2021-09-03T20:08:47.883334Z",
     "shell.execute_reply": "2021-09-03T20:08:47.882906Z"
    },
    "papermill": {
     "duration": 0.04309,
     "end_time": "2021-09-03T20:08:47.883455",
     "exception": false,
     "start_time": "2021-09-03T20:08:47.840365",
     "status": "completed"
    },
    "tags": []
   },
   "outputs": [],
   "source": [
    "import mnist"
   ]
  },
  {
   "cell_type": "code",
   "execution_count": 5,
   "id": "a411e44f",
   "metadata": {
    "execution": {
     "iopub.execute_input": "2021-09-03T20:08:47.936871Z",
     "iopub.status.busy": "2021-09-03T20:08:47.936361Z",
     "iopub.status.idle": "2021-09-03T20:08:48.472376Z",
     "shell.execute_reply": "2021-09-03T20:08:48.471875Z"
    },
    "papermill": {
     "duration": 0.564221,
     "end_time": "2021-09-03T20:08:48.472500",
     "exception": false,
     "start_time": "2021-09-03T20:08:47.908279",
     "status": "completed"
    },
    "tags": []
   },
   "outputs": [],
   "source": [
    "train_images = mnist.train_images()\n",
    "train_labels = mnist.train_labels()"
   ]
  },
  {
   "cell_type": "code",
   "execution_count": 6,
   "id": "dceab3a5",
   "metadata": {
    "execution": {
     "iopub.execute_input": "2021-09-03T20:08:48.527174Z",
     "iopub.status.busy": "2021-09-03T20:08:48.526645Z",
     "iopub.status.idle": "2021-09-03T20:08:48.541027Z",
     "shell.execute_reply": "2021-09-03T20:08:48.541415Z"
    },
    "papermill": {
     "duration": 0.04407,
     "end_time": "2021-09-03T20:08:48.541559",
     "exception": false,
     "start_time": "2021-09-03T20:08:48.497489",
     "status": "completed"
    },
    "tags": []
   },
   "outputs": [
    {
     "data": {
      "text/plain": [
       "((60000, 28, 28), (60000,))"
      ]
     },
     "execution_count": 6,
     "metadata": {},
     "output_type": "execute_result"
    }
   ],
   "source": [
    "train_images.shape, train_labels.shape"
   ]
  },
  {
   "cell_type": "code",
   "execution_count": 7,
   "id": "f50dc2bb",
   "metadata": {
    "execution": {
     "iopub.execute_input": "2021-09-03T20:08:48.595155Z",
     "iopub.status.busy": "2021-09-03T20:08:48.594645Z",
     "iopub.status.idle": "2021-09-03T20:08:48.761369Z",
     "shell.execute_reply": "2021-09-03T20:08:48.760854Z"
    },
    "papermill": {
     "duration": 0.195019,
     "end_time": "2021-09-03T20:08:48.761506",
     "exception": false,
     "start_time": "2021-09-03T20:08:48.566487",
     "status": "completed"
    },
    "tags": []
   },
   "outputs": [],
   "source": [
    "test_images = mnist.test_images()\n",
    "test_labels = mnist.test_labels()"
   ]
  },
  {
   "cell_type": "code",
   "execution_count": 8,
   "id": "fc38cf1b",
   "metadata": {
    "execution": {
     "iopub.execute_input": "2021-09-03T20:08:48.816360Z",
     "iopub.status.busy": "2021-09-03T20:08:48.815830Z",
     "iopub.status.idle": "2021-09-03T20:08:48.828256Z",
     "shell.execute_reply": "2021-09-03T20:08:48.827811Z"
    },
    "papermill": {
     "duration": 0.041244,
     "end_time": "2021-09-03T20:08:48.828374",
     "exception": false,
     "start_time": "2021-09-03T20:08:48.787130",
     "status": "completed"
    },
    "tags": []
   },
   "outputs": [
    {
     "data": {
      "text/plain": [
       "((10000, 28, 28), (10000,))"
      ]
     },
     "execution_count": 8,
     "metadata": {},
     "output_type": "execute_result"
    }
   ],
   "source": [
    "test_images.shape, test_labels.shape"
   ]
  },
  {
   "cell_type": "code",
   "execution_count": 9,
   "id": "f9ed8fe0",
   "metadata": {
    "execution": {
     "iopub.execute_input": "2021-09-03T20:08:48.910498Z",
     "iopub.status.busy": "2021-09-03T20:08:48.894744Z",
     "iopub.status.idle": "2021-09-03T20:08:49.026552Z",
     "shell.execute_reply": "2021-09-03T20:08:49.026087Z"
    },
    "papermill": {
     "duration": 0.173119,
     "end_time": "2021-09-03T20:08:49.026675",
     "exception": false,
     "start_time": "2021-09-03T20:08:48.853556",
     "status": "completed"
    },
    "tags": []
   },
   "outputs": [
    {
     "name": "stdout",
     "output_type": "stream",
     "text": [
      "2\n"
     ]
    },
    {
     "data": {
      "text/plain": [
       "<matplotlib.image.AxesImage at 0x7fa2f9451eb8>"
      ]
     },
     "execution_count": 9,
     "metadata": {},
     "output_type": "execute_result"
    },
    {
     "data": {
      "image/png": "[encoded data removed]",
      "text/plain": [
       "<Figure size 432x288 with 1 Axes>"
      ]
     },
     "metadata": {
      "needs_background": "light"
     },
     "output_type": "display_data"
    }
   ],
   "source": [
    "image_index = 7776 # You may select anything up to 60,000\n",
    "print(train_labels[image_index]) \n",
    "plt.imshow(train_images[image_index], cmap='Greys')"
   ]
  },
  {
   "cell_type": "markdown",
   "id": "a8d2388d",
   "metadata": {
    "papermill": {
     "duration": 0.026254,
     "end_time": "2021-09-03T20:08:49.079246",
     "exception": false,
     "start_time": "2021-09-03T20:08:49.052992",
     "status": "completed"
    },
    "tags": []
   },
   "source": [
    "## Filter data to get 3 and 8 out"
   ]
  },
  {
   "cell_type": "code",
   "execution_count": 10,
   "id": "776f7fc7",
   "metadata": {
    "execution": {
     "iopub.execute_input": "2021-09-03T20:08:49.136112Z",
     "iopub.status.busy": "2021-09-03T20:08:49.135045Z",
     "iopub.status.idle": "2021-09-03T20:08:49.152188Z",
     "shell.execute_reply": "2021-09-03T20:08:49.152597Z"
    },
    "papermill": {
     "duration": 0.047527,
     "end_time": "2021-09-03T20:08:49.152729",
     "exception": false,
     "start_time": "2021-09-03T20:08:49.105202",
     "status": "completed"
    },
    "tags": []
   },
   "outputs": [],
   "source": [
    "train_filter = np.where((train_labels == 3 ) | (train_labels == 8))\n",
    "test_filter = np.where((test_labels == 3) | (test_labels == 8))\n",
    "X_train, y_train = train_images[train_filter], train_labels[train_filter]\n",
    "X_test, y_test = test_images[test_filter], test_labels[test_filter]"
   ]
  },
  {
   "cell_type": "markdown",
   "id": "948f0b7e",
   "metadata": {
    "papermill": {
     "duration": 0.025904,
     "end_time": "2021-09-03T20:08:49.204799",
     "exception": false,
     "start_time": "2021-09-03T20:08:49.178895",
     "status": "completed"
    },
    "tags": []
   },
   "source": [
    "We normalize the pizel values in the 0 to 1 range"
   ]
  },
  {
   "cell_type": "code",
   "execution_count": 11,
   "id": "ee4c2166",
   "metadata": {
    "execution": {
     "iopub.execute_input": "2021-09-03T20:08:49.263211Z",
     "iopub.status.busy": "2021-09-03T20:08:49.262696Z",
     "iopub.status.idle": "2021-09-03T20:08:49.308395Z",
     "shell.execute_reply": "2021-09-03T20:08:49.308854Z"
    },
    "papermill": {
     "duration": 0.078342,
     "end_time": "2021-09-03T20:08:49.309017",
     "exception": false,
     "start_time": "2021-09-03T20:08:49.230675",
     "status": "completed"
    },
    "tags": []
   },
   "outputs": [],
   "source": [
    "X_train = X_train/255.\n",
    "X_test = X_test/255."
   ]
  },
  {
   "cell_type": "markdown",
   "id": "ddcf4fab",
   "metadata": {
    "papermill": {
     "duration": 0.026196,
     "end_time": "2021-09-03T20:08:49.362194",
     "exception": false,
     "start_time": "2021-09-03T20:08:49.335998",
     "status": "completed"
    },
    "tags": []
   },
   "source": [
    "And setup the labels as 1 (when the digit is 3) and 0 (when the digit is 8)"
   ]
  },
  {
   "cell_type": "code",
   "execution_count": 12,
   "id": "7dc908f2",
   "metadata": {
    "execution": {
     "iopub.execute_input": "2021-09-03T20:08:49.418063Z",
     "iopub.status.busy": "2021-09-03T20:08:49.417533Z",
     "iopub.status.idle": "2021-09-03T20:08:49.430468Z",
     "shell.execute_reply": "2021-09-03T20:08:49.430043Z"
    },
    "papermill": {
     "duration": 0.042337,
     "end_time": "2021-09-03T20:08:49.430588",
     "exception": false,
     "start_time": "2021-09-03T20:08:49.388251",
     "status": "completed"
    },
    "tags": []
   },
   "outputs": [],
   "source": [
    "y_train = 1*(y_train==3)\n",
    "y_test = 1*(y_test==3)"
   ]
  },
  {
   "cell_type": "code",
   "execution_count": 13,
   "id": "01e4e969",
   "metadata": {
    "execution": {
     "iopub.execute_input": "2021-09-03T20:08:49.488454Z",
     "iopub.status.busy": "2021-09-03T20:08:49.487930Z",
     "iopub.status.idle": "2021-09-03T20:08:49.499823Z",
     "shell.execute_reply": "2021-09-03T20:08:49.499410Z"
    },
    "papermill": {
     "duration": 0.043089,
     "end_time": "2021-09-03T20:08:49.499944",
     "exception": false,
     "start_time": "2021-09-03T20:08:49.456855",
     "status": "completed"
    },
    "tags": []
   },
   "outputs": [
    {
     "data": {
      "text/plain": [
       "((11982, 28, 28), (1984, 28, 28))"
      ]
     },
     "execution_count": 13,
     "metadata": {},
     "output_type": "execute_result"
    }
   ],
   "source": [
    "X_train.shape, X_test.shape"
   ]
  },
  {
   "cell_type": "markdown",
   "id": "5ccf3f85",
   "metadata": {
    "papermill": {
     "duration": 0.026814,
     "end_time": "2021-09-03T20:08:49.553126",
     "exception": false,
     "start_time": "2021-09-03T20:08:49.526312",
     "status": "completed"
    },
    "tags": []
   },
   "source": [
    "We reshape the data to flatten the image pixels into a set of features or co-variates:"
   ]
  },
  {
   "cell_type": "code",
   "execution_count": 14,
   "id": "5286a4a3",
   "metadata": {
    "execution": {
     "iopub.execute_input": "2021-09-03T20:08:49.618515Z",
     "iopub.status.busy": "2021-09-03T20:08:49.616793Z",
     "iopub.status.idle": "2021-09-03T20:08:49.626169Z",
     "shell.execute_reply": "2021-09-03T20:08:49.625636Z"
    },
    "papermill": {
     "duration": 0.046594,
     "end_time": "2021-09-03T20:08:49.626286",
     "exception": false,
     "start_time": "2021-09-03T20:08:49.579692",
     "status": "completed"
    },
    "tags": []
   },
   "outputs": [
    {
     "data": {
      "text/plain": [
       "((11982, 784), (1984, 784))"
      ]
     },
     "execution_count": 14,
     "metadata": {},
     "output_type": "execute_result"
    }
   ],
   "source": [
    "X_train = X_train.reshape(X_train.shape[0], -1)\n",
    "X_test = X_test.reshape(X_test.shape[0], -1)\n",
    "X_train.shape, X_test.shape"
   ]
  },
  {
   "cell_type": "code",
   "execution_count": 15,
   "id": "73c5f88a",
   "metadata": {
    "execution": {
     "iopub.execute_input": "2021-09-03T20:08:49.686608Z",
     "iopub.status.busy": "2021-09-03T20:08:49.683232Z",
     "iopub.status.idle": "2021-09-03T20:08:49.702477Z",
     "shell.execute_reply": "2021-09-03T20:08:49.702054Z"
    },
    "papermill": {
     "duration": 0.049676,
     "end_time": "2021-09-03T20:08:49.702595",
     "exception": false,
     "start_time": "2021-09-03T20:08:49.652919",
     "status": "completed"
    },
    "tags": []
   },
   "outputs": [],
   "source": [
    "#Impoting functions from 'Kudzu'\n",
    "from kudzu.model import Model\n",
    "from kudzu.train import Learner\n",
    "from kudzu.optim import GD\n",
    "from kudzu.data import Data, Sampler,Dataloader\n",
    "\n",
    "from kudzu.callbacks import AccCallback\n",
    "from kudzu.callbacks import ClfCallback\n",
    "\n",
    "from kudzu.loss import MSE\n",
    "\n",
    "from kudzu.layer import Sigmoid,Relu\n",
    "from kudzu.layer import Affine"
   ]
  },
  {
   "cell_type": "markdown",
   "id": "bc01172a",
   "metadata": {
    "papermill": {
     "duration": 0.026518,
     "end_time": "2021-09-03T20:08:49.755873",
     "exception": false,
     "start_time": "2021-09-03T20:08:49.729355",
     "status": "completed"
    },
    "tags": []
   },
   "source": [
    "### Let us create a `Config` class, to store important parameters. \n",
    "This class essentially plays the role of a dictionary."
   ]
  },
  {
   "cell_type": "code",
   "execution_count": 16,
   "id": "978281aa",
   "metadata": {
    "execution": {
     "iopub.execute_input": "2021-09-03T20:08:49.816381Z",
     "iopub.status.busy": "2021-09-03T20:08:49.815858Z",
     "iopub.status.idle": "2021-09-03T20:08:49.825503Z",
     "shell.execute_reply": "2021-09-03T20:08:49.825909Z"
    },
    "papermill": {
     "duration": 0.043626,
     "end_time": "2021-09-03T20:08:49.826047",
     "exception": false,
     "start_time": "2021-09-03T20:08:49.782421",
     "status": "completed"
    },
    "tags": []
   },
   "outputs": [],
   "source": [
    "class Config:\n",
    "    pass\n",
    "config = Config()\n",
    "config.lr = 0.001\n",
    "config.num_epochs = 250\n",
    "config.bs = 50"
   ]
  },
  {
   "cell_type": "markdown",
   "id": "1385fa59",
   "metadata": {
    "papermill": {
     "duration": 0.02674,
     "end_time": "2021-09-03T20:08:49.879502",
     "exception": false,
     "start_time": "2021-09-03T20:08:49.852762",
     "status": "completed"
    },
    "tags": []
   },
   "source": [
    "### Running Models with the Training data\n",
    "Details about the network layers:\n",
    "- A first affine layer has 784 inputs and does 100 affine transforms. These are followed by a Relu\n",
    "- A second affine layer has 100 inputs from the 100 activations of the past layer, and does 100 affine transforms. These are followed by a Relu\n",
    "- A third affine layer has 100 activations and does 2 affine transformations to create an embedding for visualization. There is no non-linearity here.\n",
    "- A final \"logistic regression\" which has an affine transform from 2 inputs to 1 output, which is squeezed through a sigmoid.\n"
   ]
  },
  {
   "cell_type": "code",
   "execution_count": 17,
   "id": "2b9c66db",
   "metadata": {
    "execution": {
     "iopub.execute_input": "2021-09-03T20:08:49.937703Z",
     "iopub.status.busy": "2021-09-03T20:08:49.937153Z",
     "iopub.status.idle": "2021-09-03T20:08:49.949431Z",
     "shell.execute_reply": "2021-09-03T20:08:49.949003Z"
    },
    "papermill": {
     "duration": 0.043351,
     "end_time": "2021-09-03T20:08:49.949554",
     "exception": false,
     "start_time": "2021-09-03T20:08:49.906203",
     "status": "completed"
    },
    "tags": []
   },
   "outputs": [],
   "source": [
    "data = Data(X_train, y_train.reshape(-1,1))\n",
    "sampler = Sampler(data, config.bs, shuffle=True)\n",
    "\n",
    "dl = Dataloader(data, sampler)\n",
    "\n",
    "opt = GD(config.lr)\n",
    "loss = MSE()"
   ]
  },
  {
   "cell_type": "code",
   "execution_count": 18,
   "id": "b275e4c2",
   "metadata": {
    "execution": {
     "iopub.execute_input": "2021-09-03T20:08:50.012001Z",
     "iopub.status.busy": "2021-09-03T20:08:50.011473Z",
     "iopub.status.idle": "2021-09-03T20:08:50.021091Z",
     "shell.execute_reply": "2021-09-03T20:08:50.020651Z"
    },
    "papermill": {
     "duration": 0.044867,
     "end_time": "2021-09-03T20:08:50.021215",
     "exception": false,
     "start_time": "2021-09-03T20:08:49.976348",
     "status": "completed"
    },
    "tags": []
   },
   "outputs": [],
   "source": [
    "training_data_x = X_train\n",
    "testing_data_x = X_test\n",
    "training_data_y = y_train.reshape(-1,1)\n",
    "testing_data_y = y_test.reshape(-1,1)"
   ]
  },
  {
   "cell_type": "code",
   "execution_count": 19,
   "id": "76951160",
   "metadata": {
    "execution": {
     "iopub.execute_input": "2021-09-03T20:08:50.078179Z",
     "iopub.status.busy": "2021-09-03T20:08:50.077611Z",
     "iopub.status.idle": "2021-09-03T20:08:50.096208Z",
     "shell.execute_reply": "2021-09-03T20:08:50.095790Z"
    },
    "papermill": {
     "duration": 0.048362,
     "end_time": "2021-09-03T20:08:50.096326",
     "exception": false,
     "start_time": "2021-09-03T20:08:50.047964",
     "status": "completed"
    },
    "tags": []
   },
   "outputs": [
    {
     "name": "stdout",
     "output_type": "stream",
     "text": [
      "xavier\n",
      "xavier\n",
      "xavier\n",
      "xavier\n",
      "xavier\n"
     ]
    }
   ],
   "source": [
    "layers = [Affine(\"first\", 784, 100), Relu(\"first\"), Affine(\"second\", 100, 100), Relu(\"second\"), Affine(\"third\", 100, 2), Affine(\"last\", 2, 1), Sigmoid(\"last\")]\n",
    "model_nn = Model(layers)\n",
    "model_lr = Model([Affine(\"logits\", 784, 1), Sigmoid(\"sigmoid\")])"
   ]
  },
  {
   "cell_type": "code",
   "execution_count": 20,
   "id": "6eede77a",
   "metadata": {
    "execution": {
     "iopub.execute_input": "2021-09-03T20:08:50.154127Z",
     "iopub.status.busy": "2021-09-03T20:08:50.153579Z",
     "iopub.status.idle": "2021-09-03T20:08:50.166478Z",
     "shell.execute_reply": "2021-09-03T20:08:50.166060Z"
    },
    "papermill": {
     "duration": 0.043198,
     "end_time": "2021-09-03T20:08:50.166597",
     "exception": false,
     "start_time": "2021-09-03T20:08:50.123399",
     "status": "completed"
    },
    "tags": []
   },
   "outputs": [],
   "source": [
    "nn_learner = Learner(loss, model_nn, opt, config.num_epochs)\n",
    "acc_nn = ClfCallback(nn_learner, config.bs, training_data_x , testing_data_x, training_data_y, testing_data_y)\n",
    "nn_learner.set_callbacks([acc_nn])"
   ]
  },
  {
   "cell_type": "code",
   "execution_count": 21,
   "id": "877b6cc7",
   "metadata": {
    "execution": {
     "iopub.execute_input": "2021-09-03T20:08:50.224655Z",
     "iopub.status.busy": "2021-09-03T20:08:50.224142Z",
     "iopub.status.idle": "2021-09-03T20:08:50.235569Z",
     "shell.execute_reply": "2021-09-03T20:08:50.235158Z"
    },
    "papermill": {
     "duration": 0.042146,
     "end_time": "2021-09-03T20:08:50.235681",
     "exception": false,
     "start_time": "2021-09-03T20:08:50.193535",
     "status": "completed"
    },
    "tags": []
   },
   "outputs": [],
   "source": [
    "lr_learner = Learner(loss, model_lr, opt, config.num_epochs)\n",
    "acc_lr = ClfCallback(lr_learner, config.bs, training_data_x , testing_data_x, training_data_y, testing_data_y)\n",
    "lr_learner.set_callbacks([acc_lr])"
   ]
  },
  {
   "cell_type": "code",
   "execution_count": 22,
   "id": "d9b133c3",
   "metadata": {
    "execution": {
     "iopub.execute_input": "2021-09-03T20:08:50.295198Z",
     "iopub.status.busy": "2021-09-03T20:08:50.294696Z",
     "iopub.status.idle": "2021-09-03T20:10:15.809066Z",
     "shell.execute_reply": "2021-09-03T20:10:15.809816Z"
    },
    "papermill": {
     "duration": 85.547373,
     "end_time": "2021-09-03T20:10:15.809994",
     "exception": false,
     "start_time": "2021-09-03T20:08:50.262621",
     "status": "completed"
    },
    "tags": []
   },
   "outputs": [
    {
     "name": "stdout",
     "output_type": "stream",
     "text": [
      "Epoch 0, Loss 0.2518\n",
      "Training Accuracy: 0.5073, Testing Accuracy: 0.4914\n",
      "\n"
     ]
    },
    {
     "name": "stdout",
     "output_type": "stream",
     "text": [
      "Epoch 10, Loss 0.1847\n",
      "Training Accuracy: 0.8795, Testing Accuracy: 0.8861\n",
      "\n"
     ]
    },
    {
     "name": "stdout",
     "output_type": "stream",
     "text": [
      "Epoch 20, Loss 0.0879\n",
      "Training Accuracy: 0.9193, Testing Accuracy: 0.9330\n",
      "\n"
     ]
    },
    {
     "name": "stdout",
     "output_type": "stream",
     "text": [
      "Epoch 30, Loss 0.0579\n",
      "Training Accuracy: 0.9383, Testing Accuracy: 0.9501\n",
      "\n"
     ]
    },
    {
     "name": "stdout",
     "output_type": "stream",
     "text": [
      "Epoch 40, Loss 0.0465\n",
      "Training Accuracy: 0.9461, Testing Accuracy: 0.9587\n",
      "\n"
     ]
    },
    {
     "name": "stdout",
     "output_type": "stream",
     "text": [
      "Epoch 50, Loss 0.0406\n",
      "Training Accuracy: 0.9518, Testing Accuracy: 0.9642\n",
      "\n"
     ]
    },
    {
     "name": "stdout",
     "output_type": "stream",
     "text": [
      "Epoch 60, Loss 0.037\n",
      "Training Accuracy: 0.9559, Testing Accuracy: 0.9672\n",
      "\n"
     ]
    },
    {
     "name": "stdout",
     "output_type": "stream",
     "text": [
      "Epoch 70, Loss 0.0344\n",
      "Training Accuracy: 0.9585, Testing Accuracy: 0.9677\n",
      "\n"
     ]
    },
    {
     "name": "stdout",
     "output_type": "stream",
     "text": [
      "Epoch 80, Loss 0.0325\n",
      "Training Accuracy: 0.9607, Testing Accuracy: 0.9713\n",
      "\n"
     ]
    },
    {
     "name": "stdout",
     "output_type": "stream",
     "text": [
      "Epoch 90, Loss 0.031\n",
      "Training Accuracy: 0.9630, Testing Accuracy: 0.9718\n",
      "\n"
     ]
    },
    {
     "name": "stdout",
     "output_type": "stream",
     "text": [
      "Epoch 100, Loss 0.0298\n",
      "Training Accuracy: 0.9648, Testing Accuracy: 0.9708\n",
      "\n"
     ]
    },
    {
     "name": "stdout",
     "output_type": "stream",
     "text": [
      "Epoch 110, Loss 0.0287\n",
      "Training Accuracy: 0.9660, Testing Accuracy: 0.9713\n",
      "\n"
     ]
    },
    {
     "name": "stdout",
     "output_type": "stream",
     "text": [
      "Epoch 120, Loss 0.0278\n",
      "Training Accuracy: 0.9670, Testing Accuracy: 0.9728\n",
      "\n"
     ]
    },
    {
     "name": "stdout",
     "output_type": "stream",
     "text": [
      "Epoch 130, Loss 0.0269\n",
      "Training Accuracy: 0.9685, Testing Accuracy: 0.9738\n",
      "\n"
     ]
    },
    {
     "name": "stdout",
     "output_type": "stream",
     "text": [
      "Epoch 140, Loss 0.0262\n",
      "Training Accuracy: 0.9695, Testing Accuracy: 0.9748\n",
      "\n"
     ]
    },
    {
     "name": "stdout",
     "output_type": "stream",
     "text": [
      "Epoch 150, Loss 0.0255\n",
      "Training Accuracy: 0.9700, Testing Accuracy: 0.9738\n",
      "\n"
     ]
    },
    {
     "name": "stdout",
     "output_type": "stream",
     "text": [
      "Epoch 160, Loss 0.0249\n",
      "Training Accuracy: 0.9709, Testing Accuracy: 0.9733\n",
      "\n"
     ]
    },
    {
     "name": "stdout",
     "output_type": "stream",
     "text": [
      "Epoch 170, Loss 0.0243\n",
      "Training Accuracy: 0.9710, Testing Accuracy: 0.9738\n",
      "\n"
     ]
    },
    {
     "name": "stdout",
     "output_type": "stream",
     "text": [
      "Epoch 180, Loss 0.0237\n",
      "Training Accuracy: 0.9720, Testing Accuracy: 0.9733\n",
      "\n"
     ]
    },
    {
     "name": "stdout",
     "output_type": "stream",
     "text": [
      "Epoch 190, Loss 0.0232\n",
      "Training Accuracy: 0.9728, Testing Accuracy: 0.9738\n",
      "\n"
     ]
    },
    {
     "name": "stdout",
     "output_type": "stream",
     "text": [
      "Epoch 200, Loss 0.0226\n",
      "Training Accuracy: 0.9735, Testing Accuracy: 0.9738\n",
      "\n"
     ]
    },
    {
     "name": "stdout",
     "output_type": "stream",
     "text": [
      "Epoch 210, Loss 0.0221\n",
      "Training Accuracy: 0.9741, Testing Accuracy: 0.9738\n",
      "\n"
     ]
    },
    {
     "name": "stdout",
     "output_type": "stream",
     "text": [
      "Epoch 220, Loss 0.0217\n",
      "Training Accuracy: 0.9748, Testing Accuracy: 0.9738\n",
      "\n"
     ]
    },
    {
     "name": "stdout",
     "output_type": "stream",
     "text": [
      "Epoch 230, Loss 0.0212\n",
      "Training Accuracy: 0.9752, Testing Accuracy: 0.9738\n",
      "\n"
     ]
    },
    {
     "name": "stdout",
     "output_type": "stream",
     "text": [
      "Epoch 240, Loss 0.0208\n",
      "Training Accuracy: 0.9760, Testing Accuracy: 0.9738\n",
      "\n"
     ]
    },
    {
     "data": {
      "text/plain": [
       "0.001985668720667291"
      ]
     },
     "execution_count": 22,
     "metadata": {},
     "output_type": "execute_result"
    }
   ],
   "source": [
    "nn_learner.train_loop(dl)"
   ]
  },
  {
   "cell_type": "code",
   "execution_count": 23,
   "id": "e0163366",
   "metadata": {
    "execution": {
     "iopub.execute_input": "2021-09-03T20:10:15.891459Z",
     "iopub.status.busy": "2021-09-03T20:10:15.890910Z",
     "iopub.status.idle": "2021-09-03T20:10:31.460184Z",
     "shell.execute_reply": "2021-09-03T20:10:31.460904Z"
    },
    "papermill": {
     "duration": 15.61624,
     "end_time": "2021-09-03T20:10:31.461056",
     "exception": false,
     "start_time": "2021-09-03T20:10:15.844816",
     "status": "completed"
    },
    "tags": []
   },
   "outputs": [
    {
     "name": "stdout",
     "output_type": "stream",
     "text": [
      "Epoch 0, Loss 0.2489\n",
      "Training Accuracy: 0.6519, Testing Accuracy: 0.6658\n",
      "\n"
     ]
    },
    {
     "name": "stdout",
     "output_type": "stream",
     "text": [
      "Epoch 10, Loss 0.1063\n",
      "Training Accuracy: 0.9000, Testing Accuracy: 0.9052\n",
      "\n"
     ]
    },
    {
     "name": "stdout",
     "output_type": "stream",
     "text": [
      "Epoch 20, Loss 0.0815\n",
      "Training Accuracy: 0.9228, Testing Accuracy: 0.9249\n",
      "\n"
     ]
    },
    {
     "name": "stdout",
     "output_type": "stream",
     "text": [
      "Epoch 30, Loss 0.0701\n",
      "Training Accuracy: 0.9330, Testing Accuracy: 0.9345\n",
      "\n"
     ]
    },
    {
     "name": "stdout",
     "output_type": "stream",
     "text": [
      "Epoch 40, Loss 0.0632\n",
      "Training Accuracy: 0.9379, Testing Accuracy: 0.9405\n",
      "\n"
     ]
    },
    {
     "name": "stdout",
     "output_type": "stream",
     "text": [
      "Epoch 50, Loss 0.0585\n",
      "Training Accuracy: 0.9415, Testing Accuracy: 0.9471\n",
      "\n"
     ]
    },
    {
     "name": "stdout",
     "output_type": "stream",
     "text": [
      "Epoch 60, Loss 0.0551\n",
      "Training Accuracy: 0.9434, Testing Accuracy: 0.9536\n",
      "\n"
     ]
    },
    {
     "name": "stdout",
     "output_type": "stream",
     "text": [
      "Epoch 70, Loss 0.0524\n",
      "Training Accuracy: 0.9453, Testing Accuracy: 0.9536\n",
      "\n"
     ]
    },
    {
     "name": "stdout",
     "output_type": "stream",
     "text": [
      "Epoch 80, Loss 0.0503\n",
      "Training Accuracy: 0.9473, Testing Accuracy: 0.9577\n",
      "\n"
     ]
    },
    {
     "name": "stdout",
     "output_type": "stream",
     "text": [
      "Epoch 90, Loss 0.0485\n",
      "Training Accuracy: 0.9488, Testing Accuracy: 0.9577\n",
      "\n"
     ]
    },
    {
     "name": "stdout",
     "output_type": "stream",
     "text": [
      "Epoch 100, Loss 0.047\n",
      "Training Accuracy: 0.9512, Testing Accuracy: 0.9577\n",
      "\n"
     ]
    },
    {
     "name": "stdout",
     "output_type": "stream",
     "text": [
      "Epoch 110, Loss 0.0458\n",
      "Training Accuracy: 0.9522, Testing Accuracy: 0.9587\n",
      "\n"
     ]
    },
    {
     "name": "stdout",
     "output_type": "stream",
     "text": [
      "Epoch 120, Loss 0.0446\n",
      "Training Accuracy: 0.9526, Testing Accuracy: 0.9612\n",
      "\n"
     ]
    },
    {
     "name": "stdout",
     "output_type": "stream",
     "text": [
      "Epoch 130, Loss 0.0437\n",
      "Training Accuracy: 0.9539, Testing Accuracy: 0.9627\n",
      "\n"
     ]
    },
    {
     "name": "stdout",
     "output_type": "stream",
     "text": [
      "Epoch 140, Loss 0.0428\n",
      "Training Accuracy: 0.9549, Testing Accuracy: 0.9637\n",
      "\n"
     ]
    },
    {
     "name": "stdout",
     "output_type": "stream",
     "text": [
      "Epoch 150, Loss 0.042\n",
      "Training Accuracy: 0.9557, Testing Accuracy: 0.9642\n",
      "\n"
     ]
    },
    {
     "name": "stdout",
     "output_type": "stream",
     "text": [
      "Epoch 160, Loss 0.0413\n",
      "Training Accuracy: 0.9562, Testing Accuracy: 0.9647\n",
      "\n"
     ]
    },
    {
     "name": "stdout",
     "output_type": "stream",
     "text": [
      "Epoch 170, Loss 0.0406\n",
      "Training Accuracy: 0.9568, Testing Accuracy: 0.9652\n",
      "\n"
     ]
    },
    {
     "name": "stdout",
     "output_type": "stream",
     "text": [
      "Epoch 180, Loss 0.0401\n",
      "Training Accuracy: 0.9573, Testing Accuracy: 0.9652\n",
      "\n"
     ]
    },
    {
     "name": "stdout",
     "output_type": "stream",
     "text": [
      "Epoch 190, Loss 0.0395\n",
      "Training Accuracy: 0.9581, Testing Accuracy: 0.9652\n",
      "\n"
     ]
    },
    {
     "name": "stdout",
     "output_type": "stream",
     "text": [
      "Epoch 200, Loss 0.039\n",
      "Training Accuracy: 0.9586, Testing Accuracy: 0.9652\n",
      "\n"
     ]
    },
    {
     "name": "stdout",
     "output_type": "stream",
     "text": [
      "Epoch 210, Loss 0.0385\n",
      "Training Accuracy: 0.9590, Testing Accuracy: 0.9652\n",
      "\n"
     ]
    },
    {
     "name": "stdout",
     "output_type": "stream",
     "text": [
      "Epoch 220, Loss 0.0381\n",
      "Training Accuracy: 0.9594, Testing Accuracy: 0.9662\n",
      "\n"
     ]
    },
    {
     "name": "stdout",
     "output_type": "stream",
     "text": [
      "Epoch 230, Loss 0.0377\n",
      "Training Accuracy: 0.9596, Testing Accuracy: 0.9672\n",
      "\n"
     ]
    },
    {
     "name": "stdout",
     "output_type": "stream",
     "text": [
      "Epoch 240, Loss 0.0373\n",
      "Training Accuracy: 0.9603, Testing Accuracy: 0.9672\n",
      "\n"
     ]
    },
    {
     "data": {
      "text/plain": [
       "0.035552186409073115"
      ]
     },
     "execution_count": 23,
     "metadata": {},
     "output_type": "execute_result"
    }
   ],
   "source": [
    "lr_learner.train_loop(dl)"
   ]
  },
  {
   "cell_type": "code",
   "execution_count": 24,
   "id": "ca410940",
   "metadata": {
    "execution": {
     "iopub.execute_input": "2021-09-03T20:10:31.551368Z",
     "iopub.status.busy": "2021-09-03T20:10:31.550827Z",
     "iopub.status.idle": "2021-09-03T20:10:31.780553Z",
     "shell.execute_reply": "2021-09-03T20:10:31.780067Z"
    },
    "papermill": {
     "duration": 0.278852,
     "end_time": "2021-09-03T20:10:31.780690",
     "exception": false,
     "start_time": "2021-09-03T20:10:31.501838",
     "status": "completed"
    },
    "tags": []
   },
   "outputs": [
    {
     "data": {
      "text/plain": [
       "<matplotlib.legend.Legend at 0x7fa2ebca5ef0>"
      ]
     },
     "execution_count": 24,
     "metadata": {},
     "output_type": "execute_result"
    },
    {
     "data": {
      "image/png": "[encoded data removed]",
      "text/plain": [
       "<Figure size 1080x720 with 1 Axes>"
      ]
     },
     "metadata": {
      "needs_background": "light"
     },
     "output_type": "display_data"
    }
   ],
   "source": [
    "#comparing the results of NN and LR\n",
    "plt.figure(figsize=(15,10))\n",
    "\n",
    "# Neural Network plots\n",
    "plt.plot(acc_nn.accuracies, 'r-', label = \"Training Accuracies - NN\")\n",
    "plt.plot(acc_nn.test_accuracies, 'g-', label = \"Testing Accuracies - NN\")\n",
    "\n",
    "# Logistic Regression plots\n",
    "plt.plot(acc_lr.accuracies, 'k-', label = \"Training Accuracies - LR\")\n",
    "plt.plot(acc_lr.test_accuracies, 'b-', label = \"Testing Accuracies - LR\")\n",
    "plt.legend()"
   ]
  },
  {
   "cell_type": "markdown",
   "id": "80dfb35c",
   "metadata": {
    "papermill": {
     "duration": 0.041816,
     "end_time": "2021-09-03T20:10:31.865269",
     "exception": false,
     "start_time": "2021-09-03T20:10:31.823453",
     "status": "completed"
    },
    "tags": []
   },
   "source": [
    "#### Plotting the outputs of this layer of the NN.\n"
   ]
  },
  {
   "cell_type": "code",
   "execution_count": 25,
   "id": "45eb2ff5",
   "metadata": {
    "execution": {
     "iopub.execute_input": "2021-09-03T20:10:31.955465Z",
     "iopub.status.busy": "2021-09-03T20:10:31.954929Z",
     "iopub.status.idle": "2021-09-03T20:10:31.974449Z",
     "shell.execute_reply": "2021-09-03T20:10:31.974875Z"
    },
    "papermill": {
     "duration": 0.06797,
     "end_time": "2021-09-03T20:10:31.975025",
     "exception": false,
     "start_time": "2021-09-03T20:10:31.907055",
     "status": "completed"
    },
    "tags": []
   },
   "outputs": [],
   "source": [
    "new_model = Model(layers[:-2])\n",
    "testing_plot = new_model(testing_data_x)"
   ]
  },
  {
   "cell_type": "code",
   "execution_count": 26,
   "id": "4c0a5485",
   "metadata": {
    "execution": {
     "iopub.execute_input": "2021-09-03T20:10:32.069756Z",
     "iopub.status.busy": "2021-09-03T20:10:32.069224Z",
     "iopub.status.idle": "2021-09-03T20:10:32.264313Z",
     "shell.execute_reply": "2021-09-03T20:10:32.264812Z"
    },
    "papermill": {
     "duration": 0.2416,
     "end_time": "2021-09-03T20:10:32.264954",
     "exception": false,
     "start_time": "2021-09-03T20:10:32.023354",
     "status": "completed"
    },
    "tags": []
   },
   "outputs": [
    {
     "data": {
      "text/plain": [
       "Text(0.5, 1.0, 'Outputs')"
      ]
     },
     "execution_count": 26,
     "metadata": {},
     "output_type": "execute_result"
    },
    {
     "data": {
      "image/png": "[encoded data removed]",
      "text/plain": [
       "<Figure size 576x504 with 1 Axes>"
      ]
     },
     "metadata": {
      "needs_background": "light"
     },
     "output_type": "display_data"
    }
   ],
   "source": [
    "# Plotting the scatter plot of points and color coding by class\n",
    "plt.figure(figsize=(8,7))\n",
    "plt.scatter(testing_plot[:,0], testing_plot[:,1], alpha = 0.1, c = y_test.ravel());\n",
    "plt.title('Outputs')"
   ]
  },
  {
   "cell_type": "markdown",
   "id": "a74fcf8f",
   "metadata": {
    "papermill": {
     "duration": 0.043932,
     "end_time": "2021-09-03T20:10:32.352811",
     "exception": false,
     "start_time": "2021-09-03T20:10:32.308879",
     "status": "completed"
    },
    "tags": []
   },
   "source": [
    "Probability contours"
   ]
  },
  {
   "cell_type": "code",
   "execution_count": 27,
   "id": "d0afc8e3",
   "metadata": {
    "execution": {
     "iopub.execute_input": "2021-09-03T20:10:32.457111Z",
     "iopub.status.busy": "2021-09-03T20:10:32.450672Z",
     "iopub.status.idle": "2021-09-03T20:10:32.460565Z",
     "shell.execute_reply": "2021-09-03T20:10:32.460134Z"
    },
    "papermill": {
     "duration": 0.063921,
     "end_time": "2021-09-03T20:10:32.460678",
     "exception": false,
     "start_time": "2021-09-03T20:10:32.396757",
     "status": "completed"
    },
    "tags": []
   },
   "outputs": [],
   "source": [
    "model_prob = Model(layers[-2:]) "
   ]
  },
  {
   "cell_type": "code",
   "execution_count": 28,
   "id": "9b96e238",
   "metadata": {
    "execution": {
     "iopub.execute_input": "2021-09-03T20:10:32.560439Z",
     "iopub.status.busy": "2021-09-03T20:10:32.559370Z",
     "iopub.status.idle": "2021-09-03T20:10:32.570869Z",
     "shell.execute_reply": "2021-09-03T20:10:32.571272Z"
    },
    "papermill": {
     "duration": 0.066829,
     "end_time": "2021-09-03T20:10:32.571418",
     "exception": false,
     "start_time": "2021-09-03T20:10:32.504589",
     "status": "completed"
    },
    "tags": []
   },
   "outputs": [],
   "source": [
    "#creating the x and y ranges according to the above generated plot.\n",
    "x_range = np.linspace(-4, 1, 100) \n",
    "y_range = np.linspace(-6, 6, 100) \n",
    "x_grid, y_grid = np.meshgrid(x_range, y_range) # x_grid and y_grig are of size 100 X 100\n",
    "\n",
    "# converting x_grid and y_grid to continuous arrays\n",
    "x_gridflat = np.ravel(x_grid)\n",
    "y_gridflat = np.ravel(y_grid)\n",
    "\n",
    "# The last layer of the current model takes two columns as input. Hence transpose of np.vstack() is required.\n",
    "X = np.vstack((x_gridflat, y_gridflat)).T\n",
    "\n",
    "prob_contour = model_prob(X).reshape(100,100) "
   ]
  },
  {
   "cell_type": "code",
   "execution_count": 29,
   "id": "da72499a",
   "metadata": {
    "execution": {
     "iopub.execute_input": "2021-09-03T20:10:32.674673Z",
     "iopub.status.busy": "2021-09-03T20:10:32.674124Z",
     "iopub.status.idle": "2021-09-03T20:10:32.921496Z",
     "shell.execute_reply": "2021-09-03T20:10:32.921048Z"
    },
    "papermill": {
     "duration": 0.295276,
     "end_time": "2021-09-03T20:10:32.921613",
     "exception": false,
     "start_time": "2021-09-03T20:10:32.626337",
     "status": "completed"
    },
    "tags": []
   },
   "outputs": [
    {
     "data": {
      "image/png": "[encoded data removed]",
      "text/plain": [
       "<Figure size 720x648 with 1 Axes>"
      ]
     },
     "metadata": {
      "needs_background": "light"
     },
     "output_type": "display_data"
    }
   ],
   "source": [
    "plt.figure(figsize=(10,9))\n",
    "plt.scatter(testing_plot[:,0], testing_plot[:,1], alpha = 0.1, c = y_test.ravel())\n",
    "contours = plt.contour(x_grid,y_grid,prob_contour)\n",
    "plt.title('Probability Contours')\n",
    "plt.clabel(contours, inline = True );"
   ]
  },
  {
   "cell_type": "code",
   "execution_count": null,
   "id": "e81b4ac7",
   "metadata": {
    "papermill": {
     "duration": 0.081776,
     "end_time": "2021-09-03T20:10:33.050929",
     "exception": false,
     "start_time": "2021-09-03T20:10:32.969153",
     "status": "completed"
    },
    "tags": []
   },
   "outputs": [],
   "source": []
  }
 ],
 "metadata": {
  "kernelspec": {
   "display_name": "Python 3",
   "language": "python",
   "name": "python3"
  },
  "language_info": {
   "codemirror_mode": {
    "name": "ipython",
    "version": 3
   },
   "file_extension": ".py",
   "mimetype": "text/x-python",
   "name": "python",
   "nbconvert_exporter": "python",
   "pygments_lexer": "ipython3",
   "version": "3.6.14"
  },
  "papermill": {
   "default_parameters": {},
   "duration": 110.251352,
   "end_time": "2021-09-03T20:10:33.505695",
   "environment_variables": {},
   "exception": null,
   "input_path": "2020-08-11-part2.ipynb",
   "output_path": "2020-08-11-part2.ipynb",
   "parameters": {},
   "start_time": "2021-09-03T20:08:43.254343",
   "version": "2.3.3"
  }
 },
 "nbformat": 4,
 "nbformat_minor": 5
}