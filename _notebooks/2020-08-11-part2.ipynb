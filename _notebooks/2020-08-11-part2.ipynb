{
 "cells": [
  {
   "cell_type": "markdown",
   "id": "98380cd3",
   "metadata": {
    "papermill": {
     "duration": 0.030163,
     "end_time": "2022-05-25T20:10:25.001652",
     "exception": false,
     "start_time": "2022-05-25T20:10:24.971489",
     "status": "completed"
    },
    "tags": []
   },
   "source": [
    "# Distinguish Your Own Digits (DYOD)"
   ]
  },
  {
   "cell_type": "markdown",
   "id": "ef31240d",
   "metadata": {
    "papermill": {
     "duration": 0.024436,
     "end_time": "2022-05-25T20:10:25.051525",
     "exception": false,
     "start_time": "2022-05-25T20:10:25.027089",
     "status": "completed"
    },
    "tags": []
   },
   "source": [
    "You are going to write a classifier that distinguishes between the number 3 and number 8."
   ]
  },
  {
   "cell_type": "code",
   "execution_count": 1,
   "id": "b15c8646",
   "metadata": {
    "execution": {
     "iopub.execute_input": "2022-05-25T20:10:25.111554Z",
     "iopub.status.busy": "2022-05-25T20:10:25.110940Z",
     "iopub.status.idle": "2022-05-25T20:10:25.122279Z",
     "shell.execute_reply": "2022-05-25T20:10:25.121672Z"
    },
    "papermill": {
     "duration": 0.046372,
     "end_time": "2022-05-25T20:10:25.122416",
     "exception": false,
     "start_time": "2022-05-25T20:10:25.076044",
     "status": "completed"
    },
    "tags": []
   },
   "outputs": [],
   "source": [
    "%load_ext autoreload\n",
    "%autoreload 2"
   ]
  },
  {
   "cell_type": "code",
   "execution_count": 2,
   "id": "22ef38dc",
   "metadata": {
    "execution": {
     "iopub.execute_input": "2022-05-25T20:10:25.189125Z",
     "iopub.status.busy": "2022-05-25T20:10:25.185745Z",
     "iopub.status.idle": "2022-05-25T20:10:25.747695Z",
     "shell.execute_reply": "2022-05-25T20:10:25.746621Z"
    },
    "papermill": {
     "duration": 0.601193,
     "end_time": "2022-05-25T20:10:25.747838",
     "exception": false,
     "start_time": "2022-05-25T20:10:25.146645",
     "status": "completed"
    },
    "tags": []
   },
   "outputs": [],
   "source": [
    "%matplotlib inline\n",
    "import numpy as np\n",
    "import matplotlib.pyplot as plt\n",
    "import pandas as pd"
   ]
  },
  {
   "cell_type": "markdown",
   "id": "ba036198",
   "metadata": {
    "papermill": {
     "duration": 0.024072,
     "end_time": "2022-05-25T20:10:25.796117",
     "exception": false,
     "start_time": "2022-05-25T20:10:25.772045",
     "status": "completed"
    },
    "tags": []
   },
   "source": [
    "From the command line run `pip install mnist`. This is a library that will help you bring down the mnist dataset. If you run this from a notebook, you need to put  `!pip install mnist` in a cell by itself."
   ]
  },
  {
   "cell_type": "code",
   "execution_count": 3,
   "id": "bb6ad8a1",
   "metadata": {
    "execution": {
     "iopub.execute_input": "2022-05-25T20:10:25.862026Z",
     "iopub.status.busy": "2022-05-25T20:10:25.854216Z",
     "iopub.status.idle": "2022-05-25T20:10:27.552877Z",
     "shell.execute_reply": "2022-05-25T20:10:27.552352Z"
    },
    "papermill": {
     "duration": 1.732758,
     "end_time": "2022-05-25T20:10:27.553013",
     "exception": false,
     "start_time": "2022-05-25T20:10:25.820255",
     "status": "completed"
    },
    "tags": []
   },
   "outputs": [
    {
     "name": "stdout",
     "output_type": "stream",
     "text": [
      "Collecting mnist\r\n",
      "  Downloading mnist-0.2.2-py2.py3-none-any.whl (3.5 kB)\r\n",
      "Requirement already satisfied: numpy in /opt/hostedtoolcache/Python/3.6.15/x64/lib/python3.6/site-packages (from mnist) (1.19.5)\r\n"
     ]
    },
    {
     "name": "stdout",
     "output_type": "stream",
     "text": [
      "Installing collected packages: mnist\r\n",
      "Successfully installed mnist-0.2.2\r\n"
     ]
    }
   ],
   "source": [
    "!pip install mnist"
   ]
  },
  {
   "cell_type": "markdown",
   "id": "69df9c9a",
   "metadata": {
    "papermill": {
     "duration": 0.025026,
     "end_time": "2022-05-25T20:10:27.602924",
     "exception": false,
     "start_time": "2022-05-25T20:10:27.577898",
     "status": "completed"
    },
    "tags": []
   },
   "source": [
    "## Preparing the Data"
   ]
  },
  {
   "cell_type": "code",
   "execution_count": 4,
   "id": "7f69d806",
   "metadata": {
    "execution": {
     "iopub.execute_input": "2022-05-25T20:10:27.674817Z",
     "iopub.status.busy": "2022-05-25T20:10:27.673738Z",
     "iopub.status.idle": "2022-05-25T20:10:27.677650Z",
     "shell.execute_reply": "2022-05-25T20:10:27.677169Z"
    },
    "papermill": {
     "duration": 0.050141,
     "end_time": "2022-05-25T20:10:27.677768",
     "exception": false,
     "start_time": "2022-05-25T20:10:27.627627",
     "status": "completed"
    },
    "tags": []
   },
   "outputs": [],
   "source": [
    "import mnist"
   ]
  },
  {
   "cell_type": "code",
   "execution_count": 5,
   "id": "a411e44f",
   "metadata": {
    "execution": {
     "iopub.execute_input": "2022-05-25T20:10:27.741573Z",
     "iopub.status.busy": "2022-05-25T20:10:27.740954Z",
     "iopub.status.idle": "2022-05-25T20:10:28.260911Z",
     "shell.execute_reply": "2022-05-25T20:10:28.260274Z"
    },
    "papermill": {
     "duration": 0.558307,
     "end_time": "2022-05-25T20:10:28.261051",
     "exception": false,
     "start_time": "2022-05-25T20:10:27.702744",
     "status": "completed"
    },
    "tags": []
   },
   "outputs": [],
   "source": [
    "train_images = mnist.train_images()\n",
    "train_labels = mnist.train_labels()"
   ]
  },
  {
   "cell_type": "code",
   "execution_count": 6,
   "id": "dceab3a5",
   "metadata": {
    "execution": {
     "iopub.execute_input": "2022-05-25T20:10:28.328963Z",
     "iopub.status.busy": "2022-05-25T20:10:28.315218Z",
     "iopub.status.idle": "2022-05-25T20:10:28.338045Z",
     "shell.execute_reply": "2022-05-25T20:10:28.337564Z"
    },
    "papermill": {
     "duration": 0.05175,
     "end_time": "2022-05-25T20:10:28.338163",
     "exception": false,
     "start_time": "2022-05-25T20:10:28.286413",
     "status": "completed"
    },
    "tags": []
   },
   "outputs": [
    {
     "data": {
      "text/plain": [
       "((60000, 28, 28), (60000,))"
      ]
     },
     "execution_count": 6,
     "metadata": {},
     "output_type": "execute_result"
    }
   ],
   "source": [
    "train_images.shape, train_labels.shape"
   ]
  },
  {
   "cell_type": "code",
   "execution_count": 7,
   "id": "f50dc2bb",
   "metadata": {
    "execution": {
     "iopub.execute_input": "2022-05-25T20:10:28.406691Z",
     "iopub.status.busy": "2022-05-25T20:10:28.403957Z",
     "iopub.status.idle": "2022-05-25T20:10:28.529263Z",
     "shell.execute_reply": "2022-05-25T20:10:28.528664Z"
    },
    "papermill": {
     "duration": 0.166398,
     "end_time": "2022-05-25T20:10:28.529398",
     "exception": false,
     "start_time": "2022-05-25T20:10:28.363000",
     "status": "completed"
    },
    "tags": []
   },
   "outputs": [],
   "source": [
    "test_images = mnist.test_images()\n",
    "test_labels = mnist.test_labels()"
   ]
  },
  {
   "cell_type": "code",
   "execution_count": 8,
   "id": "fc38cf1b",
   "metadata": {
    "execution": {
     "iopub.execute_input": "2022-05-25T20:10:28.586172Z",
     "iopub.status.busy": "2022-05-25T20:10:28.585580Z",
     "iopub.status.idle": "2022-05-25T20:10:28.598044Z",
     "shell.execute_reply": "2022-05-25T20:10:28.598600Z"
    },
    "papermill": {
     "duration": 0.044193,
     "end_time": "2022-05-25T20:10:28.598740",
     "exception": false,
     "start_time": "2022-05-25T20:10:28.554547",
     "status": "completed"
    },
    "tags": []
   },
   "outputs": [
    {
     "data": {
      "text/plain": [
       "((10000, 28, 28), (10000,))"
      ]
     },
     "execution_count": 8,
     "metadata": {},
     "output_type": "execute_result"
    }
   ],
   "source": [
    "test_images.shape, test_labels.shape"
   ]
  },
  {
   "cell_type": "code",
   "execution_count": 9,
   "id": "f9ed8fe0",
   "metadata": {
    "execution": {
     "iopub.execute_input": "2022-05-25T20:10:28.653328Z",
     "iopub.status.busy": "2022-05-25T20:10:28.652727Z",
     "iopub.status.idle": "2022-05-25T20:10:28.793863Z",
     "shell.execute_reply": "2022-05-25T20:10:28.794379Z"
    },
    "papermill": {
     "duration": 0.170729,
     "end_time": "2022-05-25T20:10:28.794537",
     "exception": false,
     "start_time": "2022-05-25T20:10:28.623808",
     "status": "completed"
    },
    "tags": []
   },
   "outputs": [
    {
     "name": "stdout",
     "output_type": "stream",
     "text": [
      "2\n"
     ]
    },
    {
     "data": {
      "text/plain": [
       "<matplotlib.image.AxesImage at 0x7f3333af9e48>"
      ]
     },
     "execution_count": 9,
     "metadata": {},
     "output_type": "execute_result"
    },
    {
     "data": {
      "image/png": "[encoded data removed]",
      "text/plain": [
       "<Figure size 432x288 with 1 Axes>"
      ]
     },
     "metadata": {
      "needs_background": "light"
     },
     "output_type": "display_data"
    }
   ],
   "source": [
    "image_index = 7776 # You may select anything up to 60,000\n",
    "print(train_labels[image_index]) \n",
    "plt.imshow(train_images[image_index], cmap='Greys')"
   ]
  },
  {
   "cell_type": "markdown",
   "id": "a8d2388d",
   "metadata": {
    "papermill": {
     "duration": 0.027559,
     "end_time": "2022-05-25T20:10:28.848827",
     "exception": false,
     "start_time": "2022-05-25T20:10:28.821268",
     "status": "completed"
    },
    "tags": []
   },
   "source": [
    "## Filter data to get 3 and 8 out"
   ]
  },
  {
   "cell_type": "code",
   "execution_count": 10,
   "id": "776f7fc7",
   "metadata": {
    "execution": {
     "iopub.execute_input": "2022-05-25T20:10:28.906783Z",
     "iopub.status.busy": "2022-05-25T20:10:28.906163Z",
     "iopub.status.idle": "2022-05-25T20:10:28.926677Z",
     "shell.execute_reply": "2022-05-25T20:10:28.926143Z"
    },
    "papermill": {
     "duration": 0.051643,
     "end_time": "2022-05-25T20:10:28.926812",
     "exception": false,
     "start_time": "2022-05-25T20:10:28.875169",
     "status": "completed"
    },
    "tags": []
   },
   "outputs": [],
   "source": [
    "train_filter = np.where((train_labels == 3 ) | (train_labels == 8))\n",
    "test_filter = np.where((test_labels == 3) | (test_labels == 8))\n",
    "X_train, y_train = train_images[train_filter], train_labels[train_filter]\n",
    "X_test, y_test = test_images[test_filter], test_labels[test_filter]"
   ]
  },
  {
   "cell_type": "markdown",
   "id": "948f0b7e",
   "metadata": {
    "papermill": {
     "duration": 0.026282,
     "end_time": "2022-05-25T20:10:28.979671",
     "exception": false,
     "start_time": "2022-05-25T20:10:28.953389",
     "status": "completed"
    },
    "tags": []
   },
   "source": [
    "We normalize the pizel values in the 0 to 1 range"
   ]
  },
  {
   "cell_type": "code",
   "execution_count": 11,
   "id": "ee4c2166",
   "metadata": {
    "execution": {
     "iopub.execute_input": "2022-05-25T20:10:29.036804Z",
     "iopub.status.busy": "2022-05-25T20:10:29.036185Z",
     "iopub.status.idle": "2022-05-25T20:10:29.086238Z",
     "shell.execute_reply": "2022-05-25T20:10:29.085658Z"
    },
    "papermill": {
     "duration": 0.080365,
     "end_time": "2022-05-25T20:10:29.086377",
     "exception": false,
     "start_time": "2022-05-25T20:10:29.006012",
     "status": "completed"
    },
    "tags": []
   },
   "outputs": [],
   "source": [
    "X_train = X_train/255.\n",
    "X_test = X_test/255."
   ]
  },
  {
   "cell_type": "markdown",
   "id": "ddcf4fab",
   "metadata": {
    "papermill": {
     "duration": 0.026245,
     "end_time": "2022-05-25T20:10:29.139712",
     "exception": false,
     "start_time": "2022-05-25T20:10:29.113467",
     "status": "completed"
    },
    "tags": []
   },
   "source": [
    "And setup the labels as 1 (when the digit is 3) and 0 (when the digit is 8)"
   ]
  },
  {
   "cell_type": "code",
   "execution_count": 12,
   "id": "7dc908f2",
   "metadata": {
    "execution": {
     "iopub.execute_input": "2022-05-25T20:10:29.196700Z",
     "iopub.status.busy": "2022-05-25T20:10:29.196088Z",
     "iopub.status.idle": "2022-05-25T20:10:29.209829Z",
     "shell.execute_reply": "2022-05-25T20:10:29.209338Z"
    },
    "papermill": {
     "duration": 0.044015,
     "end_time": "2022-05-25T20:10:29.209949",
     "exception": false,
     "start_time": "2022-05-25T20:10:29.165934",
     "status": "completed"
    },
    "tags": []
   },
   "outputs": [],
   "source": [
    "y_train = 1*(y_train==3)\n",
    "y_test = 1*(y_test==3)"
   ]
  },
  {
   "cell_type": "code",
   "execution_count": 13,
   "id": "01e4e969",
   "metadata": {
    "execution": {
     "iopub.execute_input": "2022-05-25T20:10:29.277074Z",
     "iopub.status.busy": "2022-05-25T20:10:29.273074Z",
     "iopub.status.idle": "2022-05-25T20:10:29.284345Z",
     "shell.execute_reply": "2022-05-25T20:10:29.283825Z"
    },
    "papermill": {
     "duration": 0.048067,
     "end_time": "2022-05-25T20:10:29.284472",
     "exception": false,
     "start_time": "2022-05-25T20:10:29.236405",
     "status": "completed"
    },
    "tags": []
   },
   "outputs": [
    {
     "data": {
      "text/plain": [
       "((11982, 28, 28), (1984, 28, 28))"
      ]
     },
     "execution_count": 13,
     "metadata": {},
     "output_type": "execute_result"
    }
   ],
   "source": [
    "X_train.shape, X_test.shape"
   ]
  },
  {
   "cell_type": "markdown",
   "id": "5ccf3f85",
   "metadata": {
    "papermill": {
     "duration": 0.026521,
     "end_time": "2022-05-25T20:10:29.337848",
     "exception": false,
     "start_time": "2022-05-25T20:10:29.311327",
     "status": "completed"
    },
    "tags": []
   },
   "source": [
    "We reshape the data to flatten the image pixels into a set of features or co-variates:"
   ]
  },
  {
   "cell_type": "code",
   "execution_count": 14,
   "id": "5286a4a3",
   "metadata": {
    "execution": {
     "iopub.execute_input": "2022-05-25T20:10:29.410467Z",
     "iopub.status.busy": "2022-05-25T20:10:29.405297Z",
     "iopub.status.idle": "2022-05-25T20:10:29.414069Z",
     "shell.execute_reply": "2022-05-25T20:10:29.413583Z"
    },
    "papermill": {
     "duration": 0.049425,
     "end_time": "2022-05-25T20:10:29.414195",
     "exception": false,
     "start_time": "2022-05-25T20:10:29.364770",
     "status": "completed"
    },
    "tags": []
   },
   "outputs": [
    {
     "data": {
      "text/plain": [
       "((11982, 784), (1984, 784))"
      ]
     },
     "execution_count": 14,
     "metadata": {},
     "output_type": "execute_result"
    }
   ],
   "source": [
    "X_train = X_train.reshape(X_train.shape[0], -1)\n",
    "X_test = X_test.reshape(X_test.shape[0], -1)\n",
    "X_train.shape, X_test.shape"
   ]
  },
  {
   "cell_type": "code",
   "execution_count": 15,
   "id": "73c5f88a",
   "metadata": {
    "execution": {
     "iopub.execute_input": "2022-05-25T20:10:29.472824Z",
     "iopub.status.busy": "2022-05-25T20:10:29.472188Z",
     "iopub.status.idle": "2022-05-25T20:10:29.492712Z",
     "shell.execute_reply": "2022-05-25T20:10:29.492125Z"
    },
    "papermill": {
     "duration": 0.051799,
     "end_time": "2022-05-25T20:10:29.492850",
     "exception": false,
     "start_time": "2022-05-25T20:10:29.441051",
     "status": "completed"
    },
    "tags": []
   },
   "outputs": [],
   "source": [
    "#Impoting functions from 'Kudzu'\n",
    "from kudzu.model import Model\n",
    "from kudzu.train import Learner\n",
    "from kudzu.optim import GD\n",
    "from kudzu.data import Data, Sampler,Dataloader\n",
    "\n",
    "from kudzu.callbacks import AccCallback\n",
    "from kudzu.callbacks import ClfCallback\n",
    "\n",
    "from kudzu.loss import MSE\n",
    "\n",
    "from kudzu.layer import Sigmoid,Relu\n",
    "from kudzu.layer import Affine"
   ]
  },
  {
   "cell_type": "markdown",
   "id": "bc01172a",
   "metadata": {
    "papermill": {
     "duration": 0.02699,
     "end_time": "2022-05-25T20:10:29.547319",
     "exception": false,
     "start_time": "2022-05-25T20:10:29.520329",
     "status": "completed"
    },
    "tags": []
   },
   "source": [
    "### Let us create a `Config` class, to store important parameters. \n",
    "This class essentially plays the role of a dictionary."
   ]
  },
  {
   "cell_type": "code",
   "execution_count": 16,
   "id": "978281aa",
   "metadata": {
    "execution": {
     "iopub.execute_input": "2022-05-25T20:10:29.607148Z",
     "iopub.status.busy": "2022-05-25T20:10:29.606538Z",
     "iopub.status.idle": "2022-05-25T20:10:29.619721Z",
     "shell.execute_reply": "2022-05-25T20:10:29.619219Z"
    },
    "papermill": {
     "duration": 0.045707,
     "end_time": "2022-05-25T20:10:29.619844",
     "exception": false,
     "start_time": "2022-05-25T20:10:29.574137",
     "status": "completed"
    },
    "tags": []
   },
   "outputs": [],
   "source": [
    "class Config:\n",
    "    pass\n",
    "config = Config()\n",
    "config.lr = 0.001\n",
    "config.num_epochs = 250\n",
    "config.bs = 50"
   ]
  },
  {
   "cell_type": "markdown",
   "id": "1385fa59",
   "metadata": {
    "papermill": {
     "duration": 0.027,
     "end_time": "2022-05-25T20:10:29.673878",
     "exception": false,
     "start_time": "2022-05-25T20:10:29.646878",
     "status": "completed"
    },
    "tags": []
   },
   "source": [
    "### Running Models with the Training data\n",
    "Details about the network layers:\n",
    "- A first affine layer has 784 inputs and does 100 affine transforms. These are followed by a Relu\n",
    "- A second affine layer has 100 inputs from the 100 activations of the past layer, and does 100 affine transforms. These are followed by a Relu\n",
    "- A third affine layer has 100 activations and does 2 affine transformations to create an embedding for visualization. There is no non-linearity here.\n",
    "- A final \"logistic regression\" which has an affine transform from 2 inputs to 1 output, which is squeezed through a sigmoid.\n"
   ]
  },
  {
   "cell_type": "code",
   "execution_count": 17,
   "id": "2b9c66db",
   "metadata": {
    "execution": {
     "iopub.execute_input": "2022-05-25T20:10:29.745268Z",
     "iopub.status.busy": "2022-05-25T20:10:29.741076Z",
     "iopub.status.idle": "2022-05-25T20:10:29.748692Z",
     "shell.execute_reply": "2022-05-25T20:10:29.748095Z"
    },
    "papermill": {
     "duration": 0.048053,
     "end_time": "2022-05-25T20:10:29.748810",
     "exception": false,
     "start_time": "2022-05-25T20:10:29.700757",
     "status": "completed"
    },
    "tags": []
   },
   "outputs": [],
   "source": [
    "data = Data(X_train, y_train.reshape(-1,1))\n",
    "sampler = Sampler(data, config.bs, shuffle=True)\n",
    "\n",
    "dl = Dataloader(data, sampler)\n",
    "\n",
    "opt = GD(config.lr)\n",
    "loss = MSE()"
   ]
  },
  {
   "cell_type": "code",
   "execution_count": 18,
   "id": "b275e4c2",
   "metadata": {
    "execution": {
     "iopub.execute_input": "2022-05-25T20:10:29.818094Z",
     "iopub.status.busy": "2022-05-25T20:10:29.808558Z",
     "iopub.status.idle": "2022-05-25T20:10:29.820442Z",
     "shell.execute_reply": "2022-05-25T20:10:29.820895Z"
    },
    "papermill": {
     "duration": 0.045126,
     "end_time": "2022-05-25T20:10:29.821044",
     "exception": false,
     "start_time": "2022-05-25T20:10:29.775918",
     "status": "completed"
    },
    "tags": []
   },
   "outputs": [],
   "source": [
    "training_data_x = X_train\n",
    "testing_data_x = X_test\n",
    "training_data_y = y_train.reshape(-1,1)\n",
    "testing_data_y = y_test.reshape(-1,1)"
   ]
  },
  {
   "cell_type": "code",
   "execution_count": 19,
   "id": "76951160",
   "metadata": {
    "execution": {
     "iopub.execute_input": "2022-05-25T20:10:29.881867Z",
     "iopub.status.busy": "2022-05-25T20:10:29.881144Z",
     "iopub.status.idle": "2022-05-25T20:10:29.896926Z",
     "shell.execute_reply": "2022-05-25T20:10:29.896427Z"
    },
    "papermill": {
     "duration": 0.049303,
     "end_time": "2022-05-25T20:10:29.897047",
     "exception": false,
     "start_time": "2022-05-25T20:10:29.847744",
     "status": "completed"
    },
    "tags": []
   },
   "outputs": [
    {
     "name": "stdout",
     "output_type": "stream",
     "text": [
      "xavier\n",
      "xavier\n",
      "xavier\n",
      "xavier\n",
      "xavier\n"
     ]
    }
   ],
   "source": [
    "layers = [Affine(\"first\", 784, 100), Relu(\"first\"), Affine(\"second\", 100, 100), Relu(\"second\"), Affine(\"third\", 100, 2), Affine(\"last\", 2, 1), Sigmoid(\"last\")]\n",
    "model_nn = Model(layers)\n",
    "model_lr = Model([Affine(\"logits\", 784, 1), Sigmoid(\"sigmoid\")])"
   ]
  },
  {
   "cell_type": "code",
   "execution_count": 20,
   "id": "6eede77a",
   "metadata": {
    "execution": {
     "iopub.execute_input": "2022-05-25T20:10:29.957648Z",
     "iopub.status.busy": "2022-05-25T20:10:29.957038Z",
     "iopub.status.idle": "2022-05-25T20:10:29.969512Z",
     "shell.execute_reply": "2022-05-25T20:10:29.968979Z"
    },
    "papermill": {
     "duration": 0.045314,
     "end_time": "2022-05-25T20:10:29.969647",
     "exception": false,
     "start_time": "2022-05-25T20:10:29.924333",
     "status": "completed"
    },
    "tags": []
   },
   "outputs": [],
   "source": [
    "nn_learner = Learner(loss, model_nn, opt, config.num_epochs)\n",
    "acc_nn = ClfCallback(nn_learner, config.bs, training_data_x , testing_data_x, training_data_y, testing_data_y)\n",
    "nn_learner.set_callbacks([acc_nn])"
   ]
  },
  {
   "cell_type": "code",
   "execution_count": 21,
   "id": "877b6cc7",
   "metadata": {
    "execution": {
     "iopub.execute_input": "2022-05-25T20:10:30.029021Z",
     "iopub.status.busy": "2022-05-25T20:10:30.028411Z",
     "iopub.status.idle": "2022-05-25T20:10:30.042663Z",
     "shell.execute_reply": "2022-05-25T20:10:30.042156Z"
    },
    "papermill": {
     "duration": 0.045581,
     "end_time": "2022-05-25T20:10:30.042790",
     "exception": false,
     "start_time": "2022-05-25T20:10:29.997209",
     "status": "completed"
    },
    "tags": []
   },
   "outputs": [],
   "source": [
    "lr_learner = Learner(loss, model_lr, opt, config.num_epochs)\n",
    "acc_lr = ClfCallback(lr_learner, config.bs, training_data_x , testing_data_x, training_data_y, testing_data_y)\n",
    "lr_learner.set_callbacks([acc_lr])"
   ]
  },
  {
   "cell_type": "code",
   "execution_count": 22,
   "id": "d9b133c3",
   "metadata": {
    "execution": {
     "iopub.execute_input": "2022-05-25T20:10:30.108243Z",
     "iopub.status.busy": "2022-05-25T20:10:30.107547Z",
     "iopub.status.idle": "2022-05-25T20:11:51.138643Z",
     "shell.execute_reply": "2022-05-25T20:11:51.139546Z"
    },
    "papermill": {
     "duration": 81.067094,
     "end_time": "2022-05-25T20:11:51.139703",
     "exception": false,
     "start_time": "2022-05-25T20:10:30.072609",
     "status": "completed"
    },
    "tags": []
   },
   "outputs": [
    {
     "name": "stdout",
     "output_type": "stream",
     "text": [
      "Epoch 0, Loss 0.2506\n",
      "Training Accuracy: 0.6107, Testing Accuracy: 0.6431\n",
      "\n"
     ]
    },
    {
     "name": "stdout",
     "output_type": "stream",
     "text": [
      "Epoch 10, Loss 0.0919\n",
      "Training Accuracy: 0.9104, Testing Accuracy: 0.9279\n",
      "\n"
     ]
    },
    {
     "name": "stdout",
     "output_type": "stream",
     "text": [
      "Epoch 20, Loss 0.0563\n",
      "Training Accuracy: 0.9409, Testing Accuracy: 0.9546\n",
      "\n"
     ]
    },
    {
     "name": "stdout",
     "output_type": "stream",
     "text": [
      "Epoch 30, Loss 0.0442\n",
      "Training Accuracy: 0.9501, Testing Accuracy: 0.9582\n",
      "\n"
     ]
    },
    {
     "name": "stdout",
     "output_type": "stream",
     "text": [
      "Epoch 40, Loss 0.0382\n",
      "Training Accuracy: 0.9568, Testing Accuracy: 0.9617\n",
      "\n"
     ]
    },
    {
     "name": "stdout",
     "output_type": "stream",
     "text": [
      "Epoch 50, Loss 0.0346\n",
      "Training Accuracy: 0.9613, Testing Accuracy: 0.9637\n",
      "\n"
     ]
    },
    {
     "name": "stdout",
     "output_type": "stream",
     "text": [
      "Epoch 60, Loss 0.0321\n",
      "Training Accuracy: 0.9639, Testing Accuracy: 0.9652\n",
      "\n"
     ]
    },
    {
     "name": "stdout",
     "output_type": "stream",
     "text": [
      "Epoch 70, Loss 0.0303\n",
      "Training Accuracy: 0.9653, Testing Accuracy: 0.9682\n",
      "\n"
     ]
    },
    {
     "name": "stdout",
     "output_type": "stream",
     "text": [
      "Epoch 80, Loss 0.0288\n",
      "Training Accuracy: 0.9674, Testing Accuracy: 0.9688\n",
      "\n"
     ]
    },
    {
     "name": "stdout",
     "output_type": "stream",
     "text": [
      "Epoch 90, Loss 0.0276\n",
      "Training Accuracy: 0.9686, Testing Accuracy: 0.9693\n",
      "\n"
     ]
    },
    {
     "name": "stdout",
     "output_type": "stream",
     "text": [
      "Epoch 100, Loss 0.0266\n",
      "Training Accuracy: 0.9694, Testing Accuracy: 0.9693\n",
      "\n"
     ]
    },
    {
     "name": "stdout",
     "output_type": "stream",
     "text": [
      "Epoch 110, Loss 0.0257\n",
      "Training Accuracy: 0.9709, Testing Accuracy: 0.9698\n",
      "\n"
     ]
    },
    {
     "name": "stdout",
     "output_type": "stream",
     "text": [
      "Epoch 120, Loss 0.0249\n",
      "Training Accuracy: 0.9715, Testing Accuracy: 0.9708\n",
      "\n"
     ]
    },
    {
     "name": "stdout",
     "output_type": "stream",
     "text": [
      "Epoch 130, Loss 0.0241\n",
      "Training Accuracy: 0.9723, Testing Accuracy: 0.9708\n",
      "\n"
     ]
    },
    {
     "name": "stdout",
     "output_type": "stream",
     "text": [
      "Epoch 140, Loss 0.0235\n",
      "Training Accuracy: 0.9734, Testing Accuracy: 0.9713\n",
      "\n"
     ]
    },
    {
     "name": "stdout",
     "output_type": "stream",
     "text": [
      "Epoch 150, Loss 0.0229\n",
      "Training Accuracy: 0.9740, Testing Accuracy: 0.9708\n",
      "\n"
     ]
    },
    {
     "name": "stdout",
     "output_type": "stream",
     "text": [
      "Epoch 160, Loss 0.0224\n",
      "Training Accuracy: 0.9745, Testing Accuracy: 0.9713\n",
      "\n"
     ]
    },
    {
     "name": "stdout",
     "output_type": "stream",
     "text": [
      "Epoch 170, Loss 0.0219\n",
      "Training Accuracy: 0.9754, Testing Accuracy: 0.9718\n",
      "\n"
     ]
    },
    {
     "name": "stdout",
     "output_type": "stream",
     "text": [
      "Epoch 180, Loss 0.0214\n",
      "Training Accuracy: 0.9756, Testing Accuracy: 0.9713\n",
      "\n"
     ]
    },
    {
     "name": "stdout",
     "output_type": "stream",
     "text": [
      "Epoch 190, Loss 0.0209\n",
      "Training Accuracy: 0.9760, Testing Accuracy: 0.9713\n",
      "\n"
     ]
    },
    {
     "name": "stdout",
     "output_type": "stream",
     "text": [
      "Epoch 200, Loss 0.0205\n",
      "Training Accuracy: 0.9763, Testing Accuracy: 0.9718\n",
      "\n"
     ]
    },
    {
     "name": "stdout",
     "output_type": "stream",
     "text": [
      "Epoch 210, Loss 0.0201\n",
      "Training Accuracy: 0.9771, Testing Accuracy: 0.9723\n",
      "\n"
     ]
    },
    {
     "name": "stdout",
     "output_type": "stream",
     "text": [
      "Epoch 220, Loss 0.0197\n",
      "Training Accuracy: 0.9778, Testing Accuracy: 0.9723\n",
      "\n"
     ]
    },
    {
     "name": "stdout",
     "output_type": "stream",
     "text": [
      "Epoch 230, Loss 0.0193\n",
      "Training Accuracy: 0.9786, Testing Accuracy: 0.9723\n",
      "\n"
     ]
    },
    {
     "name": "stdout",
     "output_type": "stream",
     "text": [
      "Epoch 240, Loss 0.0189\n",
      "Training Accuracy: 0.9791, Testing Accuracy: 0.9728\n",
      "\n"
     ]
    },
    {
     "data": {
      "text/plain": [
       "0.03273725222724665"
      ]
     },
     "execution_count": 22,
     "metadata": {},
     "output_type": "execute_result"
    }
   ],
   "source": [
    "nn_learner.train_loop(dl)"
   ]
  },
  {
   "cell_type": "code",
   "execution_count": 23,
   "id": "e0163366",
   "metadata": {
    "execution": {
     "iopub.execute_input": "2022-05-25T20:11:51.218455Z",
     "iopub.status.busy": "2022-05-25T20:11:51.217802Z",
     "iopub.status.idle": "2022-05-25T20:12:05.934043Z",
     "shell.execute_reply": "2022-05-25T20:12:05.934893Z"
    },
    "papermill": {
     "duration": 14.760092,
     "end_time": "2022-05-25T20:12:05.935052",
     "exception": false,
     "start_time": "2022-05-25T20:11:51.174960",
     "status": "completed"
    },
    "tags": []
   },
   "outputs": [
    {
     "name": "stdout",
     "output_type": "stream",
     "text": [
      "Epoch 0, Loss 0.2407\n",
      "Training Accuracy: 0.6635, Testing Accuracy: 0.7167\n",
      "\n"
     ]
    },
    {
     "name": "stdout",
     "output_type": "stream",
     "text": [
      "Epoch 10, Loss 0.1054\n",
      "Training Accuracy: 0.9038, Testing Accuracy: 0.9078\n",
      "\n"
     ]
    },
    {
     "name": "stdout",
     "output_type": "stream",
     "text": [
      "Epoch 20, Loss 0.0805\n",
      "Training Accuracy: 0.9265, Testing Accuracy: 0.9335\n",
      "\n"
     ]
    },
    {
     "name": "stdout",
     "output_type": "stream",
     "text": [
      "Epoch 30, Loss 0.0689\n",
      "Training Accuracy: 0.9358, Testing Accuracy: 0.9441\n",
      "\n"
     ]
    },
    {
     "name": "stdout",
     "output_type": "stream",
     "text": [
      "Epoch 40, Loss 0.062\n",
      "Training Accuracy: 0.9417, Testing Accuracy: 0.9501\n",
      "\n"
     ]
    },
    {
     "name": "stdout",
     "output_type": "stream",
     "text": [
      "Epoch 50, Loss 0.0573\n",
      "Training Accuracy: 0.9461, Testing Accuracy: 0.9526\n",
      "\n"
     ]
    },
    {
     "name": "stdout",
     "output_type": "stream",
     "text": [
      "Epoch 60, Loss 0.054\n",
      "Training Accuracy: 0.9484, Testing Accuracy: 0.9531\n",
      "\n"
     ]
    },
    {
     "name": "stdout",
     "output_type": "stream",
     "text": [
      "Epoch 70, Loss 0.0513\n",
      "Training Accuracy: 0.9513, Testing Accuracy: 0.9551\n",
      "\n"
     ]
    },
    {
     "name": "stdout",
     "output_type": "stream",
     "text": [
      "Epoch 80, Loss 0.0493\n",
      "Training Accuracy: 0.9527, Testing Accuracy: 0.9572\n",
      "\n"
     ]
    },
    {
     "name": "stdout",
     "output_type": "stream",
     "text": [
      "Epoch 90, Loss 0.0476\n",
      "Training Accuracy: 0.9542, Testing Accuracy: 0.9572\n",
      "\n"
     ]
    },
    {
     "name": "stdout",
     "output_type": "stream",
     "text": [
      "Epoch 100, Loss 0.0461\n",
      "Training Accuracy: 0.9545, Testing Accuracy: 0.9587\n",
      "\n"
     ]
    },
    {
     "name": "stdout",
     "output_type": "stream",
     "text": [
      "Epoch 110, Loss 0.0449\n",
      "Training Accuracy: 0.9554, Testing Accuracy: 0.9612\n",
      "\n"
     ]
    },
    {
     "name": "stdout",
     "output_type": "stream",
     "text": [
      "Epoch 120, Loss 0.0438\n",
      "Training Accuracy: 0.9564, Testing Accuracy: 0.9617\n",
      "\n"
     ]
    },
    {
     "name": "stdout",
     "output_type": "stream",
     "text": [
      "Epoch 130, Loss 0.0429\n",
      "Training Accuracy: 0.9567, Testing Accuracy: 0.9632\n",
      "\n"
     ]
    },
    {
     "name": "stdout",
     "output_type": "stream",
     "text": [
      "Epoch 140, Loss 0.0421\n",
      "Training Accuracy: 0.9569, Testing Accuracy: 0.9642\n",
      "\n"
     ]
    },
    {
     "name": "stdout",
     "output_type": "stream",
     "text": [
      "Epoch 150, Loss 0.0413\n",
      "Training Accuracy: 0.9579, Testing Accuracy: 0.9652\n",
      "\n"
     ]
    },
    {
     "name": "stdout",
     "output_type": "stream",
     "text": [
      "Epoch 160, Loss 0.0406\n",
      "Training Accuracy: 0.9582, Testing Accuracy: 0.9662\n",
      "\n"
     ]
    },
    {
     "name": "stdout",
     "output_type": "stream",
     "text": [
      "Epoch 170, Loss 0.04\n",
      "Training Accuracy: 0.9589, Testing Accuracy: 0.9662\n",
      "\n"
     ]
    },
    {
     "name": "stdout",
     "output_type": "stream",
     "text": [
      "Epoch 180, Loss 0.0395\n",
      "Training Accuracy: 0.9592, Testing Accuracy: 0.9662\n",
      "\n"
     ]
    },
    {
     "name": "stdout",
     "output_type": "stream",
     "text": [
      "Epoch 190, Loss 0.039\n",
      "Training Accuracy: 0.9598, Testing Accuracy: 0.9662\n",
      "\n"
     ]
    },
    {
     "name": "stdout",
     "output_type": "stream",
     "text": [
      "Epoch 200, Loss 0.0385\n",
      "Training Accuracy: 0.9599, Testing Accuracy: 0.9667\n",
      "\n"
     ]
    },
    {
     "name": "stdout",
     "output_type": "stream",
     "text": [
      "Epoch 210, Loss 0.038\n",
      "Training Accuracy: 0.9604, Testing Accuracy: 0.9667\n",
      "\n"
     ]
    },
    {
     "name": "stdout",
     "output_type": "stream",
     "text": [
      "Epoch 220, Loss 0.0376\n",
      "Training Accuracy: 0.9608, Testing Accuracy: 0.9672\n",
      "\n"
     ]
    },
    {
     "name": "stdout",
     "output_type": "stream",
     "text": [
      "Epoch 230, Loss 0.0372\n",
      "Training Accuracy: 0.9609, Testing Accuracy: 0.9672\n",
      "\n"
     ]
    },
    {
     "name": "stdout",
     "output_type": "stream",
     "text": [
      "Epoch 240, Loss 0.0369\n",
      "Training Accuracy: 0.9612, Testing Accuracy: 0.9672\n",
      "\n"
     ]
    },
    {
     "data": {
      "text/plain": [
       "0.01542885528003383"
      ]
     },
     "execution_count": 23,
     "metadata": {},
     "output_type": "execute_result"
    }
   ],
   "source": [
    "lr_learner.train_loop(dl)"
   ]
  },
  {
   "cell_type": "code",
   "execution_count": 24,
   "id": "ca410940",
   "metadata": {
    "execution": {
     "iopub.execute_input": "2022-05-25T20:12:06.026072Z",
     "iopub.status.busy": "2022-05-25T20:12:06.025460Z",
     "iopub.status.idle": "2022-05-25T20:12:06.265917Z",
     "shell.execute_reply": "2022-05-25T20:12:06.265023Z"
    },
    "papermill": {
     "duration": 0.289458,
     "end_time": "2022-05-25T20:12:06.266066",
     "exception": false,
     "start_time": "2022-05-25T20:12:05.976608",
     "status": "completed"
    },
    "tags": []
   },
   "outputs": [
    {
     "data": {
      "text/plain": [
       "<matplotlib.legend.Legend at 0x7f333366b4a8>"
      ]
     },
     "execution_count": 24,
     "metadata": {},
     "output_type": "execute_result"
    },
    {
     "data": {
      "image/png": "[encoded data removed]",
      "text/plain": [
       "<Figure size 1080x720 with 1 Axes>"
      ]
     },
     "metadata": {
      "needs_background": "light"
     },
     "output_type": "display_data"
    }
   ],
   "source": [
    "#comparing the results of NN and LR\n",
    "plt.figure(figsize=(15,10))\n",
    "\n",
    "# Neural Network plots\n",
    "plt.plot(acc_nn.accuracies, 'r-', label = \"Training Accuracies - NN\")\n",
    "plt.plot(acc_nn.test_accuracies, 'g-', label = \"Testing Accuracies - NN\")\n",
    "\n",
    "# Logistic Regression plots\n",
    "plt.plot(acc_lr.accuracies, 'k-', label = \"Training Accuracies - LR\")\n",
    "plt.plot(acc_lr.test_accuracies, 'b-', label = \"Testing Accuracies - LR\")\n",
    "plt.legend()"
   ]
  },
  {
   "cell_type": "markdown",
   "id": "80dfb35c",
   "metadata": {
    "papermill": {
     "duration": 0.041907,
     "end_time": "2022-05-25T20:12:06.350343",
     "exception": false,
     "start_time": "2022-05-25T20:12:06.308436",
     "status": "completed"
    },
    "tags": []
   },
   "source": [
    "#### Plotting the outputs of this layer of the NN.\n"
   ]
  },
  {
   "cell_type": "code",
   "execution_count": 25,
   "id": "45eb2ff5",
   "metadata": {
    "execution": {
     "iopub.execute_input": "2022-05-25T20:12:06.438871Z",
     "iopub.status.busy": "2022-05-25T20:12:06.438273Z",
     "iopub.status.idle": "2022-05-25T20:12:06.459919Z",
     "shell.execute_reply": "2022-05-25T20:12:06.459422Z"
    },
    "papermill": {
     "duration": 0.067687,
     "end_time": "2022-05-25T20:12:06.460068",
     "exception": false,
     "start_time": "2022-05-25T20:12:06.392381",
     "status": "completed"
    },
    "tags": []
   },
   "outputs": [],
   "source": [
    "new_model = Model(layers[:-2])\n",
    "testing_plot = new_model(testing_data_x)"
   ]
  },
  {
   "cell_type": "code",
   "execution_count": 26,
   "id": "4c0a5485",
   "metadata": {
    "execution": {
     "iopub.execute_input": "2022-05-25T20:12:06.550009Z",
     "iopub.status.busy": "2022-05-25T20:12:06.549396Z",
     "iopub.status.idle": "2022-05-25T20:12:06.747121Z",
     "shell.execute_reply": "2022-05-25T20:12:06.746650Z"
    },
    "papermill": {
     "duration": 0.244465,
     "end_time": "2022-05-25T20:12:06.747249",
     "exception": false,
     "start_time": "2022-05-25T20:12:06.502784",
     "status": "completed"
    },
    "tags": []
   },
   "outputs": [
    {
     "data": {
      "text/plain": [
       "Text(0.5, 1.0, 'Outputs')"
      ]
     },
     "execution_count": 26,
     "metadata": {},
     "output_type": "execute_result"
    },
    {
     "data": {
      "image/png": "[encoded data removed]",
      "text/plain": [
       "<Figure size 576x504 with 1 Axes>"
      ]
     },
     "metadata": {
      "needs_background": "light"
     },
     "output_type": "display_data"
    }
   ],
   "source": [
    "# Plotting the scatter plot of points and color coding by class\n",
    "plt.figure(figsize=(8,7))\n",
    "plt.scatter(testing_plot[:,0], testing_plot[:,1], alpha = 0.1, c = y_test.ravel());\n",
    "plt.title('Outputs')"
   ]
  },
  {
   "cell_type": "markdown",
   "id": "a74fcf8f",
   "metadata": {
    "papermill": {
     "duration": 0.043791,
     "end_time": "2022-05-25T20:12:06.835064",
     "exception": false,
     "start_time": "2022-05-25T20:12:06.791273",
     "status": "completed"
    },
    "tags": []
   },
   "source": [
    "Probability contours"
   ]
  },
  {
   "cell_type": "code",
   "execution_count": 27,
   "id": "d0afc8e3",
   "metadata": {
    "execution": {
     "iopub.execute_input": "2022-05-25T20:12:06.933432Z",
     "iopub.status.busy": "2022-05-25T20:12:06.932777Z",
     "iopub.status.idle": "2022-05-25T20:12:06.942083Z",
     "shell.execute_reply": "2022-05-25T20:12:06.942546Z"
    },
    "papermill": {
     "duration": 0.06346,
     "end_time": "2022-05-25T20:12:06.942691",
     "exception": false,
     "start_time": "2022-05-25T20:12:06.879231",
     "status": "completed"
    },
    "tags": []
   },
   "outputs": [],
   "source": [
    "model_prob = Model(layers[-2:]) "
   ]
  },
  {
   "cell_type": "code",
   "execution_count": 28,
   "id": "9b96e238",
   "metadata": {
    "execution": {
     "iopub.execute_input": "2022-05-25T20:12:07.036505Z",
     "iopub.status.busy": "2022-05-25T20:12:07.035868Z",
     "iopub.status.idle": "2022-05-25T20:12:07.051634Z",
     "shell.execute_reply": "2022-05-25T20:12:07.052085Z"
    },
    "papermill": {
     "duration": 0.065357,
     "end_time": "2022-05-25T20:12:07.052234",
     "exception": false,
     "start_time": "2022-05-25T20:12:06.986877",
     "status": "completed"
    },
    "tags": []
   },
   "outputs": [],
   "source": [
    "#creating the x and y ranges according to the above generated plot.\n",
    "x_range = np.linspace(-4, 1, 100) \n",
    "y_range = np.linspace(-6, 6, 100) \n",
    "x_grid, y_grid = np.meshgrid(x_range, y_range) # x_grid and y_grig are of size 100 X 100\n",
    "\n",
    "# converting x_grid and y_grid to continuous arrays\n",
    "x_gridflat = np.ravel(x_grid)\n",
    "y_gridflat = np.ravel(y_grid)\n",
    "\n",
    "# The last layer of the current model takes two columns as input. Hence transpose of np.vstack() is required.\n",
    "X = np.vstack((x_gridflat, y_gridflat)).T\n",
    "\n",
    "prob_contour = model_prob(X).reshape(100,100) "
   ]
  },
  {
   "cell_type": "code",
   "execution_count": 29,
   "id": "da72499a",
   "metadata": {
    "execution": {
     "iopub.execute_input": "2022-05-25T20:12:07.179247Z",
     "iopub.status.busy": "2022-05-25T20:12:07.178651Z",
     "iopub.status.idle": "2022-05-25T20:12:07.421524Z",
     "shell.execute_reply": "2022-05-25T20:12:07.421957Z"
    },
    "papermill": {
     "duration": 0.292087,
     "end_time": "2022-05-25T20:12:07.422108",
     "exception": false,
     "start_time": "2022-05-25T20:12:07.130021",
     "status": "completed"
    },
    "tags": []
   },
   "outputs": [
    {
     "data": {
      "image/png": "[encoded data removed]",
      "text/plain": [
       "<Figure size 720x648 with 1 Axes>"
      ]
     },
     "metadata": {
      "needs_background": "light"
     },
     "output_type": "display_data"
    }
   ],
   "source": [
    "plt.figure(figsize=(10,9))\n",
    "plt.scatter(testing_plot[:,0], testing_plot[:,1], alpha = 0.1, c = y_test.ravel())\n",
    "contours = plt.contour(x_grid,y_grid,prob_contour)\n",
    "plt.title('Probability Contours')\n",
    "plt.clabel(contours, inline = True );"
   ]
  },
  {
   "cell_type": "code",
   "execution_count": null,
   "id": "e81b4ac7",
   "metadata": {
    "papermill": {
     "duration": 0.046435,
     "end_time": "2022-05-25T20:12:07.515975",
     "exception": false,
     "start_time": "2022-05-25T20:12:07.469540",
     "status": "completed"
    },
    "tags": []
   },
   "outputs": [],
   "source": []
  }
 ],
 "metadata": {
  "kernelspec": {
   "display_name": "Python 3",
   "language": "python",
   "name": "python3"
  },
  "language_info": {
   "codemirror_mode": {
    "name": "ipython",
    "version": 3
   },
   "file_extension": ".py",
   "mimetype": "text/x-python",
   "name": "python",
   "nbconvert_exporter": "python",
   "pygments_lexer": "ipython3",
   "version": "3.6.15"
  },
  "papermill": {
   "default_parameters": {},
   "duration": 104.269779,
   "end_time": "2022-05-25T20:12:07.982110",
   "environment_variables": {},
   "exception": null,
   "input_path": "2020-08-11-part2.ipynb",
   "output_path": "2020-08-11-part2.ipynb",
   "parameters": {},
   "start_time": "2022-05-25T20:10:23.712331",
   "version": "2.3.3"
  }
 },
 "nbformat": 4,
 "nbformat_minor": 5
}