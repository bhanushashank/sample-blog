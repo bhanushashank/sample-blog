{
 "cells": [
  {
   "cell_type": "markdown",
   "id": "98380cd3",
   "metadata": {
    "papermill": {
     "duration": 0.029445,
     "end_time": "2022-06-12T10:08:33.978441",
     "exception": false,
     "start_time": "2022-06-12T10:08:33.948996",
     "status": "completed"
    },
    "tags": []
   },
   "source": [
    "# Distinguish Your Own Digits (DYOD)"
   ]
  },
  {
   "cell_type": "markdown",
   "id": "ef31240d",
   "metadata": {
    "papermill": {
     "duration": 0.024344,
     "end_time": "2022-06-12T10:08:34.028554",
     "exception": false,
     "start_time": "2022-06-12T10:08:34.004210",
     "status": "completed"
    },
    "tags": []
   },
   "source": [
    "You are going to write a classifier that distinguishes between the number 3 and number 8."
   ]
  },
  {
   "cell_type": "code",
   "execution_count": 1,
   "id": "b15c8646",
   "metadata": {
    "execution": {
     "iopub.execute_input": "2022-06-12T10:08:34.087895Z",
     "iopub.status.busy": "2022-06-12T10:08:34.087276Z",
     "iopub.status.idle": "2022-06-12T10:08:34.098530Z",
     "shell.execute_reply": "2022-06-12T10:08:34.098029Z"
    },
    "papermill": {
     "duration": 0.045787,
     "end_time": "2022-06-12T10:08:34.098666",
     "exception": false,
     "start_time": "2022-06-12T10:08:34.052879",
     "status": "completed"
    },
    "tags": []
   },
   "outputs": [],
   "source": [
    "%load_ext autoreload\n",
    "%autoreload 2"
   ]
  },
  {
   "cell_type": "code",
   "execution_count": 2,
   "id": "22ef38dc",
   "metadata": {
    "execution": {
     "iopub.execute_input": "2022-06-12T10:08:34.151580Z",
     "iopub.status.busy": "2022-06-12T10:08:34.150968Z",
     "iopub.status.idle": "2022-06-12T10:08:34.696609Z",
     "shell.execute_reply": "2022-06-12T10:08:34.696118Z"
    },
    "papermill": {
     "duration": 0.57367,
     "end_time": "2022-06-12T10:08:34.696732",
     "exception": false,
     "start_time": "2022-06-12T10:08:34.123062",
     "status": "completed"
    },
    "tags": []
   },
   "outputs": [],
   "source": [
    "%matplotlib inline\n",
    "import numpy as np\n",
    "import matplotlib.pyplot as plt\n",
    "import pandas as pd"
   ]
  },
  {
   "cell_type": "markdown",
   "id": "ba036198",
   "metadata": {
    "papermill": {
     "duration": 0.024436,
     "end_time": "2022-06-12T10:08:34.745503",
     "exception": false,
     "start_time": "2022-06-12T10:08:34.721067",
     "status": "completed"
    },
    "tags": []
   },
   "source": [
    "From the command line run `pip install mnist`. This is a library that will help you bring down the mnist dataset. If you run this from a notebook, you need to put  `!pip install mnist` in a cell by itself."
   ]
  },
  {
   "cell_type": "code",
   "execution_count": 3,
   "id": "bb6ad8a1",
   "metadata": {
    "execution": {
     "iopub.execute_input": "2022-06-12T10:08:34.797981Z",
     "iopub.status.busy": "2022-06-12T10:08:34.797290Z",
     "iopub.status.idle": "2022-06-12T10:08:36.629548Z",
     "shell.execute_reply": "2022-06-12T10:08:36.628975Z"
    },
    "papermill": {
     "duration": 1.859785,
     "end_time": "2022-06-12T10:08:36.629667",
     "exception": false,
     "start_time": "2022-06-12T10:08:34.769882",
     "status": "completed"
    },
    "tags": []
   },
   "outputs": [
    {
     "name": "stdout",
     "output_type": "stream",
     "text": [
      "Collecting mnist\r\n"
     ]
    },
    {
     "name": "stdout",
     "output_type": "stream",
     "text": [
      "  Downloading mnist-0.2.2-py2.py3-none-any.whl (3.5 kB)\r\n",
      "Requirement already satisfied: numpy in /opt/hostedtoolcache/Python/3.6.15/x64/lib/python3.6/site-packages (from mnist) (1.19.5)\r\n"
     ]
    },
    {
     "name": "stdout",
     "output_type": "stream",
     "text": [
      "Installing collected packages: mnist\r\n"
     ]
    },
    {
     "name": "stdout",
     "output_type": "stream",
     "text": [
      "Successfully installed mnist-0.2.2\r\n"
     ]
    }
   ],
   "source": [
    "!pip install mnist"
   ]
  },
  {
   "cell_type": "markdown",
   "id": "69df9c9a",
   "metadata": {
    "papermill": {
     "duration": 0.0256,
     "end_time": "2022-06-12T10:08:36.680907",
     "exception": false,
     "start_time": "2022-06-12T10:08:36.655307",
     "status": "completed"
    },
    "tags": []
   },
   "source": [
    "## Preparing the Data"
   ]
  },
  {
   "cell_type": "code",
   "execution_count": 4,
   "id": "7f69d806",
   "metadata": {
    "execution": {
     "iopub.execute_input": "2022-06-12T10:08:36.739165Z",
     "iopub.status.busy": "2022-06-12T10:08:36.738598Z",
     "iopub.status.idle": "2022-06-12T10:08:36.750999Z",
     "shell.execute_reply": "2022-06-12T10:08:36.750533Z"
    },
    "papermill": {
     "duration": 0.044813,
     "end_time": "2022-06-12T10:08:36.751117",
     "exception": false,
     "start_time": "2022-06-12T10:08:36.706304",
     "status": "completed"
    },
    "tags": []
   },
   "outputs": [],
   "source": [
    "import mnist"
   ]
  },
  {
   "cell_type": "code",
   "execution_count": 5,
   "id": "a411e44f",
   "metadata": {
    "execution": {
     "iopub.execute_input": "2022-06-12T10:08:36.806209Z",
     "iopub.status.busy": "2022-06-12T10:08:36.805606Z",
     "iopub.status.idle": "2022-06-12T10:08:37.507186Z",
     "shell.execute_reply": "2022-06-12T10:08:37.506663Z"
    },
    "papermill": {
     "duration": 0.730489,
     "end_time": "2022-06-12T10:08:37.507307",
     "exception": false,
     "start_time": "2022-06-12T10:08:36.776818",
     "status": "completed"
    },
    "tags": []
   },
   "outputs": [],
   "source": [
    "train_images = mnist.train_images()\n",
    "train_labels = mnist.train_labels()"
   ]
  },
  {
   "cell_type": "code",
   "execution_count": 6,
   "id": "dceab3a5",
   "metadata": {
    "execution": {
     "iopub.execute_input": "2022-06-12T10:08:37.562479Z",
     "iopub.status.busy": "2022-06-12T10:08:37.561876Z",
     "iopub.status.idle": "2022-06-12T10:08:37.577025Z",
     "shell.execute_reply": "2022-06-12T10:08:37.576441Z"
    },
    "papermill": {
     "duration": 0.044171,
     "end_time": "2022-06-12T10:08:37.577142",
     "exception": false,
     "start_time": "2022-06-12T10:08:37.532971",
     "status": "completed"
    },
    "tags": []
   },
   "outputs": [
    {
     "data": {
      "text/plain": [
       "((60000, 28, 28), (60000,))"
      ]
     },
     "execution_count": 6,
     "metadata": {},
     "output_type": "execute_result"
    }
   ],
   "source": [
    "train_images.shape, train_labels.shape"
   ]
  },
  {
   "cell_type": "code",
   "execution_count": 7,
   "id": "f50dc2bb",
   "metadata": {
    "execution": {
     "iopub.execute_input": "2022-06-12T10:08:37.632742Z",
     "iopub.status.busy": "2022-06-12T10:08:37.632141Z",
     "iopub.status.idle": "2022-06-12T10:08:37.897493Z",
     "shell.execute_reply": "2022-06-12T10:08:37.896928Z"
    },
    "papermill": {
     "duration": 0.294824,
     "end_time": "2022-06-12T10:08:37.897610",
     "exception": false,
     "start_time": "2022-06-12T10:08:37.602786",
     "status": "completed"
    },
    "tags": []
   },
   "outputs": [],
   "source": [
    "test_images = mnist.test_images()\n",
    "test_labels = mnist.test_labels()"
   ]
  },
  {
   "cell_type": "code",
   "execution_count": 8,
   "id": "fc38cf1b",
   "metadata": {
    "execution": {
     "iopub.execute_input": "2022-06-12T10:08:37.956386Z",
     "iopub.status.busy": "2022-06-12T10:08:37.954387Z",
     "iopub.status.idle": "2022-06-12T10:08:37.967794Z",
     "shell.execute_reply": "2022-06-12T10:08:37.967296Z"
    },
    "papermill": {
     "duration": 0.044295,
     "end_time": "2022-06-12T10:08:37.967907",
     "exception": false,
     "start_time": "2022-06-12T10:08:37.923612",
     "status": "completed"
    },
    "tags": []
   },
   "outputs": [
    {
     "data": {
      "text/plain": [
       "((10000, 28, 28), (10000,))"
      ]
     },
     "execution_count": 8,
     "metadata": {},
     "output_type": "execute_result"
    }
   ],
   "source": [
    "test_images.shape, test_labels.shape"
   ]
  },
  {
   "cell_type": "code",
   "execution_count": 9,
   "id": "f9ed8fe0",
   "metadata": {
    "execution": {
     "iopub.execute_input": "2022-06-12T10:08:38.027170Z",
     "iopub.status.busy": "2022-06-12T10:08:38.025403Z",
     "iopub.status.idle": "2022-06-12T10:08:38.168123Z",
     "shell.execute_reply": "2022-06-12T10:08:38.167394Z"
    },
    "papermill": {
     "duration": 0.174134,
     "end_time": "2022-06-12T10:08:38.168248",
     "exception": false,
     "start_time": "2022-06-12T10:08:37.994114",
     "status": "completed"
    },
    "tags": []
   },
   "outputs": [
    {
     "name": "stdout",
     "output_type": "stream",
     "text": [
      "2\n"
     ]
    },
    {
     "data": {
      "text/plain": [
       "<matplotlib.image.AxesImage at 0x7fbbce843358>"
      ]
     },
     "execution_count": 9,
     "metadata": {},
     "output_type": "execute_result"
    },
    {
     "data": {
      "image/png": "[encoded data removed]",
      "text/plain": [
       "<Figure size 432x288 with 1 Axes>"
      ]
     },
     "metadata": {
      "needs_background": "light"
     },
     "output_type": "display_data"
    }
   ],
   "source": [
    "image_index = 7776 # You may select anything up to 60,000\n",
    "print(train_labels[image_index]) \n",
    "plt.imshow(train_images[image_index], cmap='Greys')"
   ]
  },
  {
   "cell_type": "markdown",
   "id": "a8d2388d",
   "metadata": {
    "papermill": {
     "duration": 0.027023,
     "end_time": "2022-06-12T10:08:38.222627",
     "exception": false,
     "start_time": "2022-06-12T10:08:38.195604",
     "status": "completed"
    },
    "tags": []
   },
   "source": [
    "## Filter data to get 3 and 8 out"
   ]
  },
  {
   "cell_type": "code",
   "execution_count": 10,
   "id": "776f7fc7",
   "metadata": {
    "execution": {
     "iopub.execute_input": "2022-06-12T10:08:38.282217Z",
     "iopub.status.busy": "2022-06-12T10:08:38.280491Z",
     "iopub.status.idle": "2022-06-12T10:08:38.298856Z",
     "shell.execute_reply": "2022-06-12T10:08:38.298377Z"
    },
    "papermill": {
     "duration": 0.049241,
     "end_time": "2022-06-12T10:08:38.298967",
     "exception": false,
     "start_time": "2022-06-12T10:08:38.249726",
     "status": "completed"
    },
    "tags": []
   },
   "outputs": [],
   "source": [
    "train_filter = np.where((train_labels == 3 ) | (train_labels == 8))\n",
    "test_filter = np.where((test_labels == 3) | (test_labels == 8))\n",
    "X_train, y_train = train_images[train_filter], train_labels[train_filter]\n",
    "X_test, y_test = test_images[test_filter], test_labels[test_filter]"
   ]
  },
  {
   "cell_type": "markdown",
   "id": "948f0b7e",
   "metadata": {
    "papermill": {
     "duration": 0.027101,
     "end_time": "2022-06-12T10:08:38.353274",
     "exception": false,
     "start_time": "2022-06-12T10:08:38.326173",
     "status": "completed"
    },
    "tags": []
   },
   "source": [
    "We normalize the pizel values in the 0 to 1 range"
   ]
  },
  {
   "cell_type": "code",
   "execution_count": 11,
   "id": "ee4c2166",
   "metadata": {
    "execution": {
     "iopub.execute_input": "2022-06-12T10:08:38.411756Z",
     "iopub.status.busy": "2022-06-12T10:08:38.411134Z",
     "iopub.status.idle": "2022-06-12T10:08:38.453186Z",
     "shell.execute_reply": "2022-06-12T10:08:38.452697Z"
    },
    "papermill": {
     "duration": 0.072926,
     "end_time": "2022-06-12T10:08:38.453307",
     "exception": false,
     "start_time": "2022-06-12T10:08:38.380381",
     "status": "completed"
    },
    "tags": []
   },
   "outputs": [],
   "source": [
    "X_train = X_train/255.\n",
    "X_test = X_test/255."
   ]
  },
  {
   "cell_type": "markdown",
   "id": "ddcf4fab",
   "metadata": {
    "papermill": {
     "duration": 0.026922,
     "end_time": "2022-06-12T10:08:38.507371",
     "exception": false,
     "start_time": "2022-06-12T10:08:38.480449",
     "status": "completed"
    },
    "tags": []
   },
   "source": [
    "And setup the labels as 1 (when the digit is 3) and 0 (when the digit is 8)"
   ]
  },
  {
   "cell_type": "code",
   "execution_count": 12,
   "id": "7dc908f2",
   "metadata": {
    "execution": {
     "iopub.execute_input": "2022-06-12T10:08:38.565438Z",
     "iopub.status.busy": "2022-06-12T10:08:38.564804Z",
     "iopub.status.idle": "2022-06-12T10:08:38.577409Z",
     "shell.execute_reply": "2022-06-12T10:08:38.576894Z"
    },
    "papermill": {
     "duration": 0.043222,
     "end_time": "2022-06-12T10:08:38.577523",
     "exception": false,
     "start_time": "2022-06-12T10:08:38.534301",
     "status": "completed"
    },
    "tags": []
   },
   "outputs": [],
   "source": [
    "y_train = 1*(y_train==3)\n",
    "y_test = 1*(y_test==3)"
   ]
  },
  {
   "cell_type": "code",
   "execution_count": 13,
   "id": "01e4e969",
   "metadata": {
    "execution": {
     "iopub.execute_input": "2022-06-12T10:08:38.635895Z",
     "iopub.status.busy": "2022-06-12T10:08:38.635265Z",
     "iopub.status.idle": "2022-06-12T10:08:38.650126Z",
     "shell.execute_reply": "2022-06-12T10:08:38.649533Z"
    },
    "papermill": {
     "duration": 0.045804,
     "end_time": "2022-06-12T10:08:38.650239",
     "exception": false,
     "start_time": "2022-06-12T10:08:38.604435",
     "status": "completed"
    },
    "tags": []
   },
   "outputs": [
    {
     "data": {
      "text/plain": [
       "((11982, 28, 28), (1984, 28, 28))"
      ]
     },
     "execution_count": 13,
     "metadata": {},
     "output_type": "execute_result"
    }
   ],
   "source": [
    "X_train.shape, X_test.shape"
   ]
  },
  {
   "cell_type": "markdown",
   "id": "5ccf3f85",
   "metadata": {
    "papermill": {
     "duration": 0.027288,
     "end_time": "2022-06-12T10:08:38.704848",
     "exception": false,
     "start_time": "2022-06-12T10:08:38.677560",
     "status": "completed"
    },
    "tags": []
   },
   "source": [
    "We reshape the data to flatten the image pixels into a set of features or co-variates:"
   ]
  },
  {
   "cell_type": "code",
   "execution_count": 14,
   "id": "5286a4a3",
   "metadata": {
    "execution": {
     "iopub.execute_input": "2022-06-12T10:08:38.763944Z",
     "iopub.status.busy": "2022-06-12T10:08:38.763341Z",
     "iopub.status.idle": "2022-06-12T10:08:38.776775Z",
     "shell.execute_reply": "2022-06-12T10:08:38.777202Z"
    },
    "papermill": {
     "duration": 0.045062,
     "end_time": "2022-06-12T10:08:38.777330",
     "exception": false,
     "start_time": "2022-06-12T10:08:38.732268",
     "status": "completed"
    },
    "tags": []
   },
   "outputs": [
    {
     "data": {
      "text/plain": [
       "((11982, 784), (1984, 784))"
      ]
     },
     "execution_count": 14,
     "metadata": {},
     "output_type": "execute_result"
    }
   ],
   "source": [
    "X_train = X_train.reshape(X_train.shape[0], -1)\n",
    "X_test = X_test.reshape(X_test.shape[0], -1)\n",
    "X_train.shape, X_test.shape"
   ]
  },
  {
   "cell_type": "code",
   "execution_count": 15,
   "id": "73c5f88a",
   "metadata": {
    "execution": {
     "iopub.execute_input": "2022-06-12T10:08:38.837327Z",
     "iopub.status.busy": "2022-06-12T10:08:38.836725Z",
     "iopub.status.idle": "2022-06-12T10:08:38.855945Z",
     "shell.execute_reply": "2022-06-12T10:08:38.856402Z"
    },
    "papermill": {
     "duration": 0.051481,
     "end_time": "2022-06-12T10:08:38.856536",
     "exception": false,
     "start_time": "2022-06-12T10:08:38.805055",
     "status": "completed"
    },
    "tags": []
   },
   "outputs": [],
   "source": [
    "#Impoting functions from 'Kudzu'\n",
    "from kudzu.model import Model\n",
    "from kudzu.train import Learner\n",
    "from kudzu.optim import GD\n",
    "from kudzu.data import Data, Sampler,Dataloader\n",
    "\n",
    "from kudzu.callbacks import AccCallback\n",
    "from kudzu.callbacks import ClfCallback\n",
    "\n",
    "from kudzu.loss import MSE\n",
    "\n",
    "from kudzu.layer import Sigmoid,Relu\n",
    "from kudzu.layer import Affine"
   ]
  },
  {
   "cell_type": "markdown",
   "id": "bc01172a",
   "metadata": {
    "papermill": {
     "duration": 0.027504,
     "end_time": "2022-06-12T10:08:38.911876",
     "exception": false,
     "start_time": "2022-06-12T10:08:38.884372",
     "status": "completed"
    },
    "tags": []
   },
   "source": [
    "### Let us create a `Config` class, to store important parameters. \n",
    "This class essentially plays the role of a dictionary."
   ]
  },
  {
   "cell_type": "code",
   "execution_count": 16,
   "id": "978281aa",
   "metadata": {
    "execution": {
     "iopub.execute_input": "2022-06-12T10:08:38.970925Z",
     "iopub.status.busy": "2022-06-12T10:08:38.970345Z",
     "iopub.status.idle": "2022-06-12T10:08:38.982820Z",
     "shell.execute_reply": "2022-06-12T10:08:38.982358Z"
    },
    "papermill": {
     "duration": 0.043653,
     "end_time": "2022-06-12T10:08:38.982936",
     "exception": false,
     "start_time": "2022-06-12T10:08:38.939283",
     "status": "completed"
    },
    "tags": []
   },
   "outputs": [],
   "source": [
    "class Config:\n",
    "    pass\n",
    "config = Config()\n",
    "config.lr = 0.001\n",
    "config.num_epochs = 250\n",
    "config.bs = 50"
   ]
  },
  {
   "cell_type": "markdown",
   "id": "1385fa59",
   "metadata": {
    "papermill": {
     "duration": 0.027695,
     "end_time": "2022-06-12T10:08:39.039029",
     "exception": false,
     "start_time": "2022-06-12T10:08:39.011334",
     "status": "completed"
    },
    "tags": []
   },
   "source": [
    "### Running Models with the Training data\n",
    "Details about the network layers:\n",
    "- A first affine layer has 784 inputs and does 100 affine transforms. These are followed by a Relu\n",
    "- A second affine layer has 100 inputs from the 100 activations of the past layer, and does 100 affine transforms. These are followed by a Relu\n",
    "- A third affine layer has 100 activations and does 2 affine transformations to create an embedding for visualization. There is no non-linearity here.\n",
    "- A final \"logistic regression\" which has an affine transform from 2 inputs to 1 output, which is squeezed through a sigmoid.\n"
   ]
  },
  {
   "cell_type": "code",
   "execution_count": 17,
   "id": "2b9c66db",
   "metadata": {
    "execution": {
     "iopub.execute_input": "2022-06-12T10:08:39.098632Z",
     "iopub.status.busy": "2022-06-12T10:08:39.098029Z",
     "iopub.status.idle": "2022-06-12T10:08:39.112158Z",
     "shell.execute_reply": "2022-06-12T10:08:39.111644Z"
    },
    "papermill": {
     "duration": 0.045682,
     "end_time": "2022-06-12T10:08:39.112276",
     "exception": false,
     "start_time": "2022-06-12T10:08:39.066594",
     "status": "completed"
    },
    "tags": []
   },
   "outputs": [],
   "source": [
    "data = Data(X_train, y_train.reshape(-1,1))\n",
    "sampler = Sampler(data, config.bs, shuffle=True)\n",
    "\n",
    "dl = Dataloader(data, sampler)\n",
    "\n",
    "opt = GD(config.lr)\n",
    "loss = MSE()"
   ]
  },
  {
   "cell_type": "code",
   "execution_count": 18,
   "id": "b275e4c2",
   "metadata": {
    "execution": {
     "iopub.execute_input": "2022-06-12T10:08:39.171010Z",
     "iopub.status.busy": "2022-06-12T10:08:39.170407Z",
     "iopub.status.idle": "2022-06-12T10:08:39.183345Z",
     "shell.execute_reply": "2022-06-12T10:08:39.183797Z"
    },
    "papermill": {
     "duration": 0.044019,
     "end_time": "2022-06-12T10:08:39.183926",
     "exception": false,
     "start_time": "2022-06-12T10:08:39.139907",
     "status": "completed"
    },
    "tags": []
   },
   "outputs": [],
   "source": [
    "training_data_x = X_train\n",
    "testing_data_x = X_test\n",
    "training_data_y = y_train.reshape(-1,1)\n",
    "testing_data_y = y_test.reshape(-1,1)"
   ]
  },
  {
   "cell_type": "code",
   "execution_count": 19,
   "id": "76951160",
   "metadata": {
    "execution": {
     "iopub.execute_input": "2022-06-12T10:08:39.243313Z",
     "iopub.status.busy": "2022-06-12T10:08:39.242715Z",
     "iopub.status.idle": "2022-06-12T10:08:39.259773Z",
     "shell.execute_reply": "2022-06-12T10:08:39.259302Z"
    },
    "papermill": {
     "duration": 0.04851,
     "end_time": "2022-06-12T10:08:39.259886",
     "exception": false,
     "start_time": "2022-06-12T10:08:39.211376",
     "status": "completed"
    },
    "tags": []
   },
   "outputs": [
    {
     "name": "stdout",
     "output_type": "stream",
     "text": [
      "xavier\n",
      "xavier\n",
      "xavier\n",
      "xavier\n",
      "xavier\n"
     ]
    }
   ],
   "source": [
    "layers = [Affine(\"first\", 784, 100), Relu(\"first\"), Affine(\"second\", 100, 100), Relu(\"second\"), Affine(\"third\", 100, 2), Affine(\"last\", 2, 1), Sigmoid(\"last\")]\n",
    "model_nn = Model(layers)\n",
    "model_lr = Model([Affine(\"logits\", 784, 1), Sigmoid(\"sigmoid\")])"
   ]
  },
  {
   "cell_type": "code",
   "execution_count": 20,
   "id": "6eede77a",
   "metadata": {
    "execution": {
     "iopub.execute_input": "2022-06-12T10:08:39.320681Z",
     "iopub.status.busy": "2022-06-12T10:08:39.320074Z",
     "iopub.status.idle": "2022-06-12T10:08:39.332720Z",
     "shell.execute_reply": "2022-06-12T10:08:39.332262Z"
    },
    "papermill": {
     "duration": 0.044938,
     "end_time": "2022-06-12T10:08:39.332832",
     "exception": false,
     "start_time": "2022-06-12T10:08:39.287894",
     "status": "completed"
    },
    "tags": []
   },
   "outputs": [],
   "source": [
    "nn_learner = Learner(loss, model_nn, opt, config.num_epochs)\n",
    "acc_nn = ClfCallback(nn_learner, config.bs, training_data_x , testing_data_x, training_data_y, testing_data_y)\n",
    "nn_learner.set_callbacks([acc_nn])"
   ]
  },
  {
   "cell_type": "code",
   "execution_count": 21,
   "id": "877b6cc7",
   "metadata": {
    "execution": {
     "iopub.execute_input": "2022-06-12T10:08:39.394007Z",
     "iopub.status.busy": "2022-06-12T10:08:39.393422Z",
     "iopub.status.idle": "2022-06-12T10:08:39.405374Z",
     "shell.execute_reply": "2022-06-12T10:08:39.405810Z"
    },
    "papermill": {
     "duration": 0.044564,
     "end_time": "2022-06-12T10:08:39.405952",
     "exception": false,
     "start_time": "2022-06-12T10:08:39.361388",
     "status": "completed"
    },
    "tags": []
   },
   "outputs": [],
   "source": [
    "lr_learner = Learner(loss, model_lr, opt, config.num_epochs)\n",
    "acc_lr = ClfCallback(lr_learner, config.bs, training_data_x , testing_data_x, training_data_y, testing_data_y)\n",
    "lr_learner.set_callbacks([acc_lr])"
   ]
  },
  {
   "cell_type": "code",
   "execution_count": 22,
   "id": "d9b133c3",
   "metadata": {
    "execution": {
     "iopub.execute_input": "2022-06-12T10:08:39.466251Z",
     "iopub.status.busy": "2022-06-12T10:08:39.465622Z",
     "iopub.status.idle": "2022-06-12T10:11:42.516492Z",
     "shell.execute_reply": "2022-06-12T10:11:42.516958Z"
    },
    "papermill": {
     "duration": 183.083217,
     "end_time": "2022-06-12T10:11:42.517094",
     "exception": false,
     "start_time": "2022-06-12T10:08:39.433877",
     "status": "completed"
    },
    "tags": []
   },
   "outputs": [
    {
     "name": "stdout",
     "output_type": "stream",
     "text": [
      "Epoch 0, Loss 0.2525\n",
      "Training Accuracy: 0.7070, Testing Accuracy: 0.7102\n",
      "\n"
     ]
    },
    {
     "name": "stdout",
     "output_type": "stream",
     "text": [
      "Epoch 10, Loss 0.0694\n",
      "Training Accuracy: 0.9290, Testing Accuracy: 0.9390\n",
      "\n"
     ]
    },
    {
     "name": "stdout",
     "output_type": "stream",
     "text": [
      "Epoch 20, Loss 0.0482\n",
      "Training Accuracy: 0.9464, Testing Accuracy: 0.9546\n",
      "\n"
     ]
    },
    {
     "name": "stdout",
     "output_type": "stream",
     "text": [
      "Epoch 30, Loss 0.0397\n",
      "Training Accuracy: 0.9562, Testing Accuracy: 0.9612\n",
      "\n"
     ]
    },
    {
     "name": "stdout",
     "output_type": "stream",
     "text": [
      "Epoch 40, Loss 0.035\n",
      "Training Accuracy: 0.9604, Testing Accuracy: 0.9647\n",
      "\n"
     ]
    },
    {
     "name": "stdout",
     "output_type": "stream",
     "text": [
      "Epoch 50, Loss 0.032\n",
      "Training Accuracy: 0.9635, Testing Accuracy: 0.9662\n",
      "\n"
     ]
    },
    {
     "name": "stdout",
     "output_type": "stream",
     "text": [
      "Epoch 60, Loss 0.0299\n",
      "Training Accuracy: 0.9657, Testing Accuracy: 0.9672\n",
      "\n"
     ]
    },
    {
     "name": "stdout",
     "output_type": "stream",
     "text": [
      "Epoch 70, Loss 0.0283\n",
      "Training Accuracy: 0.9678, Testing Accuracy: 0.9688\n",
      "\n"
     ]
    },
    {
     "name": "stdout",
     "output_type": "stream",
     "text": [
      "Epoch 80, Loss 0.027\n",
      "Training Accuracy: 0.9691, Testing Accuracy: 0.9682\n",
      "\n"
     ]
    },
    {
     "name": "stdout",
     "output_type": "stream",
     "text": [
      "Epoch 90, Loss 0.0259\n",
      "Training Accuracy: 0.9704, Testing Accuracy: 0.9677\n",
      "\n"
     ]
    },
    {
     "name": "stdout",
     "output_type": "stream",
     "text": [
      "Epoch 100, Loss 0.025\n",
      "Training Accuracy: 0.9713, Testing Accuracy: 0.9688\n",
      "\n"
     ]
    },
    {
     "name": "stdout",
     "output_type": "stream",
     "text": [
      "Epoch 110, Loss 0.0242\n",
      "Training Accuracy: 0.9724, Testing Accuracy: 0.9693\n",
      "\n"
     ]
    },
    {
     "name": "stdout",
     "output_type": "stream",
     "text": [
      "Epoch 120, Loss 0.0235\n",
      "Training Accuracy: 0.9733, Testing Accuracy: 0.9688\n",
      "\n"
     ]
    },
    {
     "name": "stdout",
     "output_type": "stream",
     "text": [
      "Epoch 130, Loss 0.0229\n",
      "Training Accuracy: 0.9743, Testing Accuracy: 0.9682\n",
      "\n"
     ]
    },
    {
     "name": "stdout",
     "output_type": "stream",
     "text": [
      "Epoch 140, Loss 0.0223\n",
      "Training Accuracy: 0.9755, Testing Accuracy: 0.9688\n",
      "\n"
     ]
    },
    {
     "name": "stdout",
     "output_type": "stream",
     "text": [
      "Epoch 150, Loss 0.0217\n",
      "Training Accuracy: 0.9759, Testing Accuracy: 0.9698\n",
      "\n"
     ]
    },
    {
     "name": "stdout",
     "output_type": "stream",
     "text": [
      "Epoch 160, Loss 0.0212\n",
      "Training Accuracy: 0.9761, Testing Accuracy: 0.9703\n",
      "\n"
     ]
    },
    {
     "name": "stdout",
     "output_type": "stream",
     "text": [
      "Epoch 170, Loss 0.0208\n",
      "Training Accuracy: 0.9770, Testing Accuracy: 0.9703\n",
      "\n"
     ]
    },
    {
     "name": "stdout",
     "output_type": "stream",
     "text": [
      "Epoch 180, Loss 0.0203\n",
      "Training Accuracy: 0.9777, Testing Accuracy: 0.9713\n",
      "\n"
     ]
    },
    {
     "name": "stdout",
     "output_type": "stream",
     "text": [
      "Epoch 190, Loss 0.0199\n",
      "Training Accuracy: 0.9783, Testing Accuracy: 0.9728\n",
      "\n"
     ]
    },
    {
     "name": "stdout",
     "output_type": "stream",
     "text": [
      "Epoch 200, Loss 0.0195\n",
      "Training Accuracy: 0.9788, Testing Accuracy: 0.9733\n",
      "\n"
     ]
    },
    {
     "name": "stdout",
     "output_type": "stream",
     "text": [
      "Epoch 210, Loss 0.0191\n",
      "Training Accuracy: 0.9794, Testing Accuracy: 0.9733\n",
      "\n"
     ]
    },
    {
     "name": "stdout",
     "output_type": "stream",
     "text": [
      "Epoch 220, Loss 0.0187\n",
      "Training Accuracy: 0.9799, Testing Accuracy: 0.9738\n",
      "\n"
     ]
    },
    {
     "name": "stdout",
     "output_type": "stream",
     "text": [
      "Epoch 230, Loss 0.0183\n",
      "Training Accuracy: 0.9803, Testing Accuracy: 0.9743\n",
      "\n"
     ]
    },
    {
     "name": "stdout",
     "output_type": "stream",
     "text": [
      "Epoch 240, Loss 0.018\n",
      "Training Accuracy: 0.9807, Testing Accuracy: 0.9738\n",
      "\n"
     ]
    },
    {
     "data": {
      "text/plain": [
       "0.012380249759536123"
      ]
     },
     "execution_count": 22,
     "metadata": {},
     "output_type": "execute_result"
    }
   ],
   "source": [
    "nn_learner.train_loop(dl)"
   ]
  },
  {
   "cell_type": "code",
   "execution_count": 23,
   "id": "e0163366",
   "metadata": {
    "execution": {
     "iopub.execute_input": "2022-06-12T10:11:42.593991Z",
     "iopub.status.busy": "2022-06-12T10:11:42.592162Z",
     "iopub.status.idle": "2022-06-12T10:11:55.151854Z",
     "shell.execute_reply": "2022-06-12T10:11:55.152704Z"
    },
    "papermill": {
     "duration": 12.600964,
     "end_time": "2022-06-12T10:11:55.152854",
     "exception": false,
     "start_time": "2022-06-12T10:11:42.551890",
     "status": "completed"
    },
    "tags": []
   },
   "outputs": [
    {
     "name": "stdout",
     "output_type": "stream",
     "text": [
      "Epoch 0, Loss 0.2183\n",
      "Training Accuracy: 0.7353, Testing Accuracy: 0.7334\n",
      "\n"
     ]
    },
    {
     "name": "stdout",
     "output_type": "stream",
     "text": [
      "Epoch 10, Loss 0.1036\n",
      "Training Accuracy: 0.9073, Testing Accuracy: 0.9138\n",
      "\n"
     ]
    },
    {
     "name": "stdout",
     "output_type": "stream",
     "text": [
      "Epoch 20, Loss 0.0794\n",
      "Training Accuracy: 0.9293, Testing Accuracy: 0.9420\n",
      "\n"
     ]
    },
    {
     "name": "stdout",
     "output_type": "stream",
     "text": [
      "Epoch 30, Loss 0.0682\n",
      "Training Accuracy: 0.9377, Testing Accuracy: 0.9466\n",
      "\n"
     ]
    },
    {
     "name": "stdout",
     "output_type": "stream",
     "text": [
      "Epoch 40, Loss 0.0615\n",
      "Training Accuracy: 0.9422, Testing Accuracy: 0.9516\n",
      "\n"
     ]
    },
    {
     "name": "stdout",
     "output_type": "stream",
     "text": [
      "Epoch 50, Loss 0.057\n",
      "Training Accuracy: 0.9455, Testing Accuracy: 0.9531\n",
      "\n"
     ]
    },
    {
     "name": "stdout",
     "output_type": "stream",
     "text": [
      "Epoch 60, Loss 0.0537\n",
      "Training Accuracy: 0.9485, Testing Accuracy: 0.9572\n",
      "\n"
     ]
    },
    {
     "name": "stdout",
     "output_type": "stream",
     "text": [
      "Epoch 70, Loss 0.0511\n",
      "Training Accuracy: 0.9505, Testing Accuracy: 0.9592\n",
      "\n"
     ]
    },
    {
     "name": "stdout",
     "output_type": "stream",
     "text": [
      "Epoch 80, Loss 0.0491\n",
      "Training Accuracy: 0.9518, Testing Accuracy: 0.9592\n",
      "\n"
     ]
    },
    {
     "name": "stdout",
     "output_type": "stream",
     "text": [
      "Epoch 90, Loss 0.0474\n",
      "Training Accuracy: 0.9527, Testing Accuracy: 0.9607\n",
      "\n"
     ]
    },
    {
     "name": "stdout",
     "output_type": "stream",
     "text": [
      "Epoch 100, Loss 0.046\n",
      "Training Accuracy: 0.9542, Testing Accuracy: 0.9612\n",
      "\n"
     ]
    },
    {
     "name": "stdout",
     "output_type": "stream",
     "text": [
      "Epoch 110, Loss 0.0448\n",
      "Training Accuracy: 0.9550, Testing Accuracy: 0.9612\n",
      "\n"
     ]
    },
    {
     "name": "stdout",
     "output_type": "stream",
     "text": [
      "Epoch 120, Loss 0.0438\n",
      "Training Accuracy: 0.9559, Testing Accuracy: 0.9617\n",
      "\n"
     ]
    },
    {
     "name": "stdout",
     "output_type": "stream",
     "text": [
      "Epoch 130, Loss 0.0428\n",
      "Training Accuracy: 0.9566, Testing Accuracy: 0.9647\n",
      "\n"
     ]
    },
    {
     "name": "stdout",
     "output_type": "stream",
     "text": [
      "Epoch 140, Loss 0.042\n",
      "Training Accuracy: 0.9572, Testing Accuracy: 0.9652\n",
      "\n"
     ]
    },
    {
     "name": "stdout",
     "output_type": "stream",
     "text": [
      "Epoch 150, Loss 0.0413\n",
      "Training Accuracy: 0.9579, Testing Accuracy: 0.9652\n",
      "\n"
     ]
    },
    {
     "name": "stdout",
     "output_type": "stream",
     "text": [
      "Epoch 160, Loss 0.0406\n",
      "Training Accuracy: 0.9586, Testing Accuracy: 0.9657\n",
      "\n"
     ]
    },
    {
     "name": "stdout",
     "output_type": "stream",
     "text": [
      "Epoch 170, Loss 0.04\n",
      "Training Accuracy: 0.9590, Testing Accuracy: 0.9657\n",
      "\n"
     ]
    },
    {
     "name": "stdout",
     "output_type": "stream",
     "text": [
      "Epoch 180, Loss 0.0395\n",
      "Training Accuracy: 0.9592, Testing Accuracy: 0.9672\n",
      "\n"
     ]
    },
    {
     "name": "stdout",
     "output_type": "stream",
     "text": [
      "Epoch 190, Loss 0.039\n",
      "Training Accuracy: 0.9594, Testing Accuracy: 0.9677\n",
      "\n"
     ]
    },
    {
     "name": "stdout",
     "output_type": "stream",
     "text": [
      "Epoch 200, Loss 0.0385\n",
      "Training Accuracy: 0.9594, Testing Accuracy: 0.9677\n",
      "\n"
     ]
    },
    {
     "name": "stdout",
     "output_type": "stream",
     "text": [
      "Epoch 210, Loss 0.038\n",
      "Training Accuracy: 0.9599, Testing Accuracy: 0.9682\n",
      "\n"
     ]
    },
    {
     "name": "stdout",
     "output_type": "stream",
     "text": [
      "Epoch 220, Loss 0.0376\n",
      "Training Accuracy: 0.9600, Testing Accuracy: 0.9682\n",
      "\n"
     ]
    },
    {
     "name": "stdout",
     "output_type": "stream",
     "text": [
      "Epoch 230, Loss 0.0373\n",
      "Training Accuracy: 0.9603, Testing Accuracy: 0.9682\n",
      "\n"
     ]
    },
    {
     "name": "stdout",
     "output_type": "stream",
     "text": [
      "Epoch 240, Loss 0.0369\n",
      "Training Accuracy: 0.9608, Testing Accuracy: 0.9677\n",
      "\n"
     ]
    },
    {
     "data": {
      "text/plain": [
       "0.07967923563473461"
      ]
     },
     "execution_count": 23,
     "metadata": {},
     "output_type": "execute_result"
    }
   ],
   "source": [
    "lr_learner.train_loop(dl)"
   ]
  },
  {
   "cell_type": "code",
   "execution_count": 24,
   "id": "ca410940",
   "metadata": {
    "execution": {
     "iopub.execute_input": "2022-06-12T10:11:55.242851Z",
     "iopub.status.busy": "2022-06-12T10:11:55.242268Z",
     "iopub.status.idle": "2022-06-12T10:11:55.476155Z",
     "shell.execute_reply": "2022-06-12T10:11:55.476577Z"
    },
    "papermill": {
     "duration": 0.281967,
     "end_time": "2022-06-12T10:11:55.476709",
     "exception": false,
     "start_time": "2022-06-12T10:11:55.194742",
     "status": "completed"
    },
    "tags": []
   },
   "outputs": [
    {
     "data": {
      "text/plain": [
       "<matplotlib.legend.Legend at 0x7fbbce3a1b00>"
      ]
     },
     "execution_count": 24,
     "metadata": {},
     "output_type": "execute_result"
    },
    {
     "data": {
      "image/png": "[encoded data removed]",
      "text/plain": [
       "<Figure size 1080x720 with 1 Axes>"
      ]
     },
     "metadata": {
      "needs_background": "light"
     },
     "output_type": "display_data"
    }
   ],
   "source": [
    "#comparing the results of NN and LR\n",
    "plt.figure(figsize=(15,10))\n",
    "\n",
    "# Neural Network plots\n",
    "plt.plot(acc_nn.accuracies, 'r-', label = \"Training Accuracies - NN\")\n",
    "plt.plot(acc_nn.test_accuracies, 'g-', label = \"Testing Accuracies - NN\")\n",
    "\n",
    "# Logistic Regression plots\n",
    "plt.plot(acc_lr.accuracies, 'k-', label = \"Training Accuracies - LR\")\n",
    "plt.plot(acc_lr.test_accuracies, 'b-', label = \"Testing Accuracies - LR\")\n",
    "plt.legend()"
   ]
  },
  {
   "cell_type": "markdown",
   "id": "80dfb35c",
   "metadata": {
    "papermill": {
     "duration": 0.043093,
     "end_time": "2022-06-12T10:11:55.563050",
     "exception": false,
     "start_time": "2022-06-12T10:11:55.519957",
     "status": "completed"
    },
    "tags": []
   },
   "source": [
    "#### Plotting the outputs of this layer of the NN.\n"
   ]
  },
  {
   "cell_type": "code",
   "execution_count": 25,
   "id": "45eb2ff5",
   "metadata": {
    "execution": {
     "iopub.execute_input": "2022-06-12T10:11:55.653080Z",
     "iopub.status.busy": "2022-06-12T10:11:55.652452Z",
     "iopub.status.idle": "2022-06-12T10:11:55.688223Z",
     "shell.execute_reply": "2022-06-12T10:11:55.688935Z"
    },
    "papermill": {
     "duration": 0.082979,
     "end_time": "2022-06-12T10:11:55.689076",
     "exception": false,
     "start_time": "2022-06-12T10:11:55.606097",
     "status": "completed"
    },
    "tags": []
   },
   "outputs": [],
   "source": [
    "new_model = Model(layers[:-2])\n",
    "testing_plot = new_model(testing_data_x)"
   ]
  },
  {
   "cell_type": "code",
   "execution_count": 26,
   "id": "4c0a5485",
   "metadata": {
    "execution": {
     "iopub.execute_input": "2022-06-12T10:11:55.783474Z",
     "iopub.status.busy": "2022-06-12T10:11:55.782162Z",
     "iopub.status.idle": "2022-06-12T10:11:55.984652Z",
     "shell.execute_reply": "2022-06-12T10:11:55.984150Z"
    },
    "papermill": {
     "duration": 0.251932,
     "end_time": "2022-06-12T10:11:55.984764",
     "exception": false,
     "start_time": "2022-06-12T10:11:55.732832",
     "status": "completed"
    },
    "tags": []
   },
   "outputs": [
    {
     "data": {
      "text/plain": [
       "Text(0.5, 1.0, 'Outputs')"
      ]
     },
     "execution_count": 26,
     "metadata": {},
     "output_type": "execute_result"
    },
    {
     "data": {
      "image/png": "[encoded data removed]",
      "text/plain": [
       "<Figure size 576x504 with 1 Axes>"
      ]
     },
     "metadata": {
      "needs_background": "light"
     },
     "output_type": "display_data"
    }
   ],
   "source": [
    "# Plotting the scatter plot of points and color coding by class\n",
    "plt.figure(figsize=(8,7))\n",
    "plt.scatter(testing_plot[:,0], testing_plot[:,1], alpha = 0.1, c = y_test.ravel());\n",
    "plt.title('Outputs')"
   ]
  },
  {
   "cell_type": "markdown",
   "id": "a74fcf8f",
   "metadata": {
    "papermill": {
     "duration": 0.045884,
     "end_time": "2022-06-12T10:11:56.104644",
     "exception": false,
     "start_time": "2022-06-12T10:11:56.058760",
     "status": "completed"
    },
    "tags": []
   },
   "source": [
    "Probability contours"
   ]
  },
  {
   "cell_type": "code",
   "execution_count": 27,
   "id": "d0afc8e3",
   "metadata": {
    "execution": {
     "iopub.execute_input": "2022-06-12T10:11:56.201888Z",
     "iopub.status.busy": "2022-06-12T10:11:56.200230Z",
     "iopub.status.idle": "2022-06-12T10:11:56.212055Z",
     "shell.execute_reply": "2022-06-12T10:11:56.212511Z"
    },
    "papermill": {
     "duration": 0.062697,
     "end_time": "2022-06-12T10:11:56.212652",
     "exception": false,
     "start_time": "2022-06-12T10:11:56.149955",
     "status": "completed"
    },
    "tags": []
   },
   "outputs": [],
   "source": [
    "model_prob = Model(layers[-2:]) "
   ]
  },
  {
   "cell_type": "code",
   "execution_count": 28,
   "id": "9b96e238",
   "metadata": {
    "execution": {
     "iopub.execute_input": "2022-06-12T10:11:56.308628Z",
     "iopub.status.busy": "2022-06-12T10:11:56.308008Z",
     "iopub.status.idle": "2022-06-12T10:11:56.322224Z",
     "shell.execute_reply": "2022-06-12T10:11:56.323236Z"
    },
    "papermill": {
     "duration": 0.065582,
     "end_time": "2022-06-12T10:11:56.323380",
     "exception": false,
     "start_time": "2022-06-12T10:11:56.257798",
     "status": "completed"
    },
    "tags": []
   },
   "outputs": [],
   "source": [
    "#creating the x and y ranges according to the above generated plot.\n",
    "x_range = np.linspace(-4, 1, 100) \n",
    "y_range = np.linspace(-6, 6, 100) \n",
    "x_grid, y_grid = np.meshgrid(x_range, y_range) # x_grid and y_grig are of size 100 X 100\n",
    "\n",
    "# converting x_grid and y_grid to continuous arrays\n",
    "x_gridflat = np.ravel(x_grid)\n",
    "y_gridflat = np.ravel(y_grid)\n",
    "\n",
    "# The last layer of the current model takes two columns as input. Hence transpose of np.vstack() is required.\n",
    "X = np.vstack((x_gridflat, y_gridflat)).T\n",
    "\n",
    "prob_contour = model_prob(X).reshape(100,100) "
   ]
  },
  {
   "cell_type": "code",
   "execution_count": 29,
   "id": "da72499a",
   "metadata": {
    "execution": {
     "iopub.execute_input": "2022-06-12T10:11:56.422907Z",
     "iopub.status.busy": "2022-06-12T10:11:56.421277Z",
     "iopub.status.idle": "2022-06-12T10:11:56.664694Z",
     "shell.execute_reply": "2022-06-12T10:11:56.664190Z"
    },
    "papermill": {
     "duration": 0.295706,
     "end_time": "2022-06-12T10:11:56.664841",
     "exception": false,
     "start_time": "2022-06-12T10:11:56.369135",
     "status": "completed"
    },
    "tags": []
   },
   "outputs": [
    {
     "data": {
      "image/png": "[encoded data removed]",
      "text/plain": [
       "<Figure size 720x648 with 1 Axes>"
      ]
     },
     "metadata": {
      "needs_background": "light"
     },
     "output_type": "display_data"
    }
   ],
   "source": [
    "plt.figure(figsize=(10,9))\n",
    "plt.scatter(testing_plot[:,0], testing_plot[:,1], alpha = 0.1, c = y_test.ravel())\n",
    "contours = plt.contour(x_grid,y_grid,prob_contour)\n",
    "plt.title('Probability Contours')\n",
    "plt.clabel(contours, inline = True );"
   ]
  },
  {
   "cell_type": "code",
   "execution_count": null,
   "id": "e81b4ac7",
   "metadata": {
    "papermill": {
     "duration": 0.047473,
     "end_time": "2022-06-12T10:11:56.760731",
     "exception": false,
     "start_time": "2022-06-12T10:11:56.713258",
     "status": "completed"
    },
    "tags": []
   },
   "outputs": [],
   "source": []
  }
 ],
 "metadata": {
  "kernelspec": {
   "display_name": "Python 3",
   "language": "python",
   "name": "python3"
  },
  "language_info": {
   "codemirror_mode": {
    "name": "ipython",
    "version": 3
   },
   "file_extension": ".py",
   "mimetype": "text/x-python",
   "name": "python",
   "nbconvert_exporter": "python",
   "pygments_lexer": "ipython3",
   "version": "3.6.15"
  },
  "papermill": {
   "default_parameters": {},
   "duration": 204.53273,
   "end_time": "2022-06-12T10:11:57.226482",
   "environment_variables": {},
   "exception": null,
   "input_path": "2020-08-11-part2.ipynb",
   "output_path": "2020-08-11-part2.ipynb",
   "parameters": {},
   "start_time": "2022-06-12T10:08:32.693752",
   "version": "2.3.3"
  }
 },
 "nbformat": 4,
 "nbformat_minor": 5
}