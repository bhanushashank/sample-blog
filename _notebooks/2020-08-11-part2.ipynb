{
 "cells": [
  {
   "cell_type": "markdown",
   "id": "98380cd3",
   "metadata": {
    "papermill": {
     "duration": 0.029869,
     "end_time": "2022-09-02T10:11:26.125430",
     "exception": false,
     "start_time": "2022-09-02T10:11:26.095561",
     "status": "completed"
    },
    "tags": []
   },
   "source": [
    "# Distinguish Your Own Digits (DYOD)"
   ]
  },
  {
   "cell_type": "markdown",
   "id": "ef31240d",
   "metadata": {
    "papermill": {
     "duration": 0.024138,
     "end_time": "2022-09-02T10:11:26.174298",
     "exception": false,
     "start_time": "2022-09-02T10:11:26.150160",
     "status": "completed"
    },
    "tags": []
   },
   "source": [
    "You are going to write a classifier that distinguishes between the number 3 and number 8."
   ]
  },
  {
   "cell_type": "code",
   "execution_count": 1,
   "id": "b15c8646",
   "metadata": {
    "execution": {
     "iopub.execute_input": "2022-09-02T10:11:26.232314Z",
     "iopub.status.busy": "2022-09-02T10:11:26.231707Z",
     "iopub.status.idle": "2022-09-02T10:11:26.242576Z",
     "shell.execute_reply": "2022-09-02T10:11:26.242079Z"
    },
    "papermill": {
     "duration": 0.044654,
     "end_time": "2022-09-02T10:11:26.242702",
     "exception": false,
     "start_time": "2022-09-02T10:11:26.198048",
     "status": "completed"
    },
    "tags": []
   },
   "outputs": [],
   "source": [
    "%load_ext autoreload\n",
    "%autoreload 2"
   ]
  },
  {
   "cell_type": "code",
   "execution_count": 2,
   "id": "22ef38dc",
   "metadata": {
    "execution": {
     "iopub.execute_input": "2022-09-02T10:11:26.295153Z",
     "iopub.status.busy": "2022-09-02T10:11:26.294565Z",
     "iopub.status.idle": "2022-09-02T10:11:26.839673Z",
     "shell.execute_reply": "2022-09-02T10:11:26.839161Z"
    },
    "papermill": {
     "duration": 0.573016,
     "end_time": "2022-09-02T10:11:26.839800",
     "exception": false,
     "start_time": "2022-09-02T10:11:26.266784",
     "status": "completed"
    },
    "tags": []
   },
   "outputs": [],
   "source": [
    "%matplotlib inline\n",
    "import numpy as np\n",
    "import matplotlib.pyplot as plt\n",
    "import pandas as pd"
   ]
  },
  {
   "cell_type": "markdown",
   "id": "ba036198",
   "metadata": {
    "papermill": {
     "duration": 0.023989,
     "end_time": "2022-09-02T10:11:26.887810",
     "exception": false,
     "start_time": "2022-09-02T10:11:26.863821",
     "status": "completed"
    },
    "tags": []
   },
   "source": [
    "From the command line run `pip install mnist`. This is a library that will help you bring down the mnist dataset. If you run this from a notebook, you need to put  `!pip install mnist` in a cell by itself."
   ]
  },
  {
   "cell_type": "code",
   "execution_count": 3,
   "id": "bb6ad8a1",
   "metadata": {
    "execution": {
     "iopub.execute_input": "2022-09-02T10:11:26.940863Z",
     "iopub.status.busy": "2022-09-02T10:11:26.940236Z",
     "iopub.status.idle": "2022-09-02T10:11:29.399095Z",
     "shell.execute_reply": "2022-09-02T10:11:29.397498Z"
    },
    "papermill": {
     "duration": 2.487306,
     "end_time": "2022-09-02T10:11:29.399240",
     "exception": false,
     "start_time": "2022-09-02T10:11:26.911934",
     "status": "completed"
    },
    "tags": []
   },
   "outputs": [
    {
     "name": "stdout",
     "output_type": "stream",
     "text": [
      "Collecting mnist\r\n"
     ]
    },
    {
     "name": "stdout",
     "output_type": "stream",
     "text": [
      "  Downloading mnist-0.2.2-py2.py3-none-any.whl (3.5 kB)\r\n",
      "Requirement already satisfied: numpy in /opt/hostedtoolcache/Python/3.6.15/x64/lib/python3.6/site-packages (from mnist) (1.19.5)\r\n"
     ]
    },
    {
     "name": "stdout",
     "output_type": "stream",
     "text": [
      "Installing collected packages: mnist\r\n",
      "Successfully installed mnist-0.2.2\r\n"
     ]
    }
   ],
   "source": [
    "!pip install mnist"
   ]
  },
  {
   "cell_type": "markdown",
   "id": "69df9c9a",
   "metadata": {
    "papermill": {
     "duration": 0.025736,
     "end_time": "2022-09-02T10:11:29.449968",
     "exception": false,
     "start_time": "2022-09-02T10:11:29.424232",
     "status": "completed"
    },
    "tags": []
   },
   "source": [
    "## Preparing the Data"
   ]
  },
  {
   "cell_type": "code",
   "execution_count": 4,
   "id": "7f69d806",
   "metadata": {
    "execution": {
     "iopub.execute_input": "2022-09-02T10:11:29.519722Z",
     "iopub.status.busy": "2022-09-02T10:11:29.516150Z",
     "iopub.status.idle": "2022-09-02T10:11:29.522556Z",
     "shell.execute_reply": "2022-09-02T10:11:29.522073Z"
    },
    "papermill": {
     "duration": 0.048016,
     "end_time": "2022-09-02T10:11:29.522671",
     "exception": false,
     "start_time": "2022-09-02T10:11:29.474655",
     "status": "completed"
    },
    "tags": []
   },
   "outputs": [],
   "source": [
    "import mnist"
   ]
  },
  {
   "cell_type": "code",
   "execution_count": 5,
   "id": "a411e44f",
   "metadata": {
    "execution": {
     "iopub.execute_input": "2022-09-02T10:11:29.586195Z",
     "iopub.status.busy": "2022-09-02T10:11:29.585574Z",
     "iopub.status.idle": "2022-09-02T10:11:30.110066Z",
     "shell.execute_reply": "2022-09-02T10:11:30.110599Z"
    },
    "papermill": {
     "duration": 0.563208,
     "end_time": "2022-09-02T10:11:30.110765",
     "exception": false,
     "start_time": "2022-09-02T10:11:29.547557",
     "status": "completed"
    },
    "tags": []
   },
   "outputs": [],
   "source": [
    "train_images = mnist.train_images()\n",
    "train_labels = mnist.train_labels()"
   ]
  },
  {
   "cell_type": "code",
   "execution_count": 6,
   "id": "dceab3a5",
   "metadata": {
    "execution": {
     "iopub.execute_input": "2022-09-02T10:11:30.180172Z",
     "iopub.status.busy": "2022-09-02T10:11:30.164182Z",
     "iopub.status.idle": "2022-09-02T10:11:30.185366Z",
     "shell.execute_reply": "2022-09-02T10:11:30.185811Z"
    },
    "papermill": {
     "duration": 0.050046,
     "end_time": "2022-09-02T10:11:30.185945",
     "exception": false,
     "start_time": "2022-09-02T10:11:30.135899",
     "status": "completed"
    },
    "tags": []
   },
   "outputs": [
    {
     "data": {
      "text/plain": [
       "((60000, 28, 28), (60000,))"
      ]
     },
     "execution_count": 6,
     "metadata": {},
     "output_type": "execute_result"
    }
   ],
   "source": [
    "train_images.shape, train_labels.shape"
   ]
  },
  {
   "cell_type": "code",
   "execution_count": 7,
   "id": "f50dc2bb",
   "metadata": {
    "execution": {
     "iopub.execute_input": "2022-09-02T10:11:30.246437Z",
     "iopub.status.busy": "2022-09-02T10:11:30.238704Z",
     "iopub.status.idle": "2022-09-02T10:11:30.352211Z",
     "shell.execute_reply": "2022-09-02T10:11:30.351382Z"
    },
    "papermill": {
     "duration": 0.14159,
     "end_time": "2022-09-02T10:11:30.352342",
     "exception": false,
     "start_time": "2022-09-02T10:11:30.210752",
     "status": "completed"
    },
    "tags": []
   },
   "outputs": [],
   "source": [
    "test_images = mnist.test_images()\n",
    "test_labels = mnist.test_labels()"
   ]
  },
  {
   "cell_type": "code",
   "execution_count": 8,
   "id": "fc38cf1b",
   "metadata": {
    "execution": {
     "iopub.execute_input": "2022-09-02T10:11:30.410612Z",
     "iopub.status.busy": "2022-09-02T10:11:30.405996Z",
     "iopub.status.idle": "2022-09-02T10:11:30.420517Z",
     "shell.execute_reply": "2022-09-02T10:11:30.420968Z"
    },
    "papermill": {
     "duration": 0.043473,
     "end_time": "2022-09-02T10:11:30.421108",
     "exception": false,
     "start_time": "2022-09-02T10:11:30.377635",
     "status": "completed"
    },
    "tags": []
   },
   "outputs": [
    {
     "data": {
      "text/plain": [
       "((10000, 28, 28), (10000,))"
      ]
     },
     "execution_count": 8,
     "metadata": {},
     "output_type": "execute_result"
    }
   ],
   "source": [
    "test_images.shape, test_labels.shape"
   ]
  },
  {
   "cell_type": "code",
   "execution_count": 9,
   "id": "f9ed8fe0",
   "metadata": {
    "execution": {
     "iopub.execute_input": "2022-09-02T10:11:30.502282Z",
     "iopub.status.busy": "2022-09-02T10:11:30.501662Z",
     "iopub.status.idle": "2022-09-02T10:11:30.616886Z",
     "shell.execute_reply": "2022-09-02T10:11:30.617345Z"
    },
    "papermill": {
     "duration": 0.17077,
     "end_time": "2022-09-02T10:11:30.617491",
     "exception": false,
     "start_time": "2022-09-02T10:11:30.446721",
     "status": "completed"
    },
    "tags": []
   },
   "outputs": [
    {
     "name": "stdout",
     "output_type": "stream",
     "text": [
      "2\n"
     ]
    },
    {
     "data": {
      "text/plain": [
       "<matplotlib.image.AxesImage at 0x7fb313632da0>"
      ]
     },
     "execution_count": 9,
     "metadata": {},
     "output_type": "execute_result"
    },
    {
     "data": {
      "image/png": "[encoded data removed]",
      "text/plain": [
       "<Figure size 432x288 with 1 Axes>"
      ]
     },
     "metadata": {
      "needs_background": "light"
     },
     "output_type": "display_data"
    }
   ],
   "source": [
    "image_index = 7776 # You may select anything up to 60,000\n",
    "print(train_labels[image_index]) \n",
    "plt.imshow(train_images[image_index], cmap='Greys')"
   ]
  },
  {
   "cell_type": "markdown",
   "id": "a8d2388d",
   "metadata": {
    "papermill": {
     "duration": 0.026459,
     "end_time": "2022-09-02T10:11:30.670346",
     "exception": false,
     "start_time": "2022-09-02T10:11:30.643887",
     "status": "completed"
    },
    "tags": []
   },
   "source": [
    "## Filter data to get 3 and 8 out"
   ]
  },
  {
   "cell_type": "code",
   "execution_count": 10,
   "id": "776f7fc7",
   "metadata": {
    "execution": {
     "iopub.execute_input": "2022-09-02T10:11:30.727625Z",
     "iopub.status.busy": "2022-09-02T10:11:30.727014Z",
     "iopub.status.idle": "2022-09-02T10:11:30.745057Z",
     "shell.execute_reply": "2022-09-02T10:11:30.744534Z"
    },
    "papermill": {
     "duration": 0.048687,
     "end_time": "2022-09-02T10:11:30.745171",
     "exception": false,
     "start_time": "2022-09-02T10:11:30.696484",
     "status": "completed"
    },
    "tags": []
   },
   "outputs": [],
   "source": [
    "train_filter = np.where((train_labels == 3 ) | (train_labels == 8))\n",
    "test_filter = np.where((test_labels == 3) | (test_labels == 8))\n",
    "X_train, y_train = train_images[train_filter], train_labels[train_filter]\n",
    "X_test, y_test = test_images[test_filter], test_labels[test_filter]"
   ]
  },
  {
   "cell_type": "markdown",
   "id": "948f0b7e",
   "metadata": {
    "papermill": {
     "duration": 0.026629,
     "end_time": "2022-09-02T10:11:30.798323",
     "exception": false,
     "start_time": "2022-09-02T10:11:30.771694",
     "status": "completed"
    },
    "tags": []
   },
   "source": [
    "We normalize the pizel values in the 0 to 1 range"
   ]
  },
  {
   "cell_type": "code",
   "execution_count": 11,
   "id": "ee4c2166",
   "metadata": {
    "execution": {
     "iopub.execute_input": "2022-09-02T10:11:30.854787Z",
     "iopub.status.busy": "2022-09-02T10:11:30.854201Z",
     "iopub.status.idle": "2022-09-02T10:11:30.902716Z",
     "shell.execute_reply": "2022-09-02T10:11:30.902111Z"
    },
    "papermill": {
     "duration": 0.078329,
     "end_time": "2022-09-02T10:11:30.902853",
     "exception": false,
     "start_time": "2022-09-02T10:11:30.824524",
     "status": "completed"
    },
    "tags": []
   },
   "outputs": [],
   "source": [
    "X_train = X_train/255.\n",
    "X_test = X_test/255."
   ]
  },
  {
   "cell_type": "markdown",
   "id": "ddcf4fab",
   "metadata": {
    "papermill": {
     "duration": 0.026325,
     "end_time": "2022-09-02T10:11:30.956793",
     "exception": false,
     "start_time": "2022-09-02T10:11:30.930468",
     "status": "completed"
    },
    "tags": []
   },
   "source": [
    "And setup the labels as 1 (when the digit is 3) and 0 (when the digit is 8)"
   ]
  },
  {
   "cell_type": "code",
   "execution_count": 12,
   "id": "7dc908f2",
   "metadata": {
    "execution": {
     "iopub.execute_input": "2022-09-02T10:11:31.014130Z",
     "iopub.status.busy": "2022-09-02T10:11:31.013542Z",
     "iopub.status.idle": "2022-09-02T10:11:31.025111Z",
     "shell.execute_reply": "2022-09-02T10:11:31.025532Z"
    },
    "papermill": {
     "duration": 0.04244,
     "end_time": "2022-09-02T10:11:31.025668",
     "exception": false,
     "start_time": "2022-09-02T10:11:30.983228",
     "status": "completed"
    },
    "tags": []
   },
   "outputs": [],
   "source": [
    "y_train = 1*(y_train==3)\n",
    "y_test = 1*(y_test==3)"
   ]
  },
  {
   "cell_type": "code",
   "execution_count": 13,
   "id": "01e4e969",
   "metadata": {
    "execution": {
     "iopub.execute_input": "2022-09-02T10:11:31.083587Z",
     "iopub.status.busy": "2022-09-02T10:11:31.082512Z",
     "iopub.status.idle": "2022-09-02T10:11:31.097121Z",
     "shell.execute_reply": "2022-09-02T10:11:31.096515Z"
    },
    "papermill": {
     "duration": 0.045084,
     "end_time": "2022-09-02T10:11:31.097237",
     "exception": false,
     "start_time": "2022-09-02T10:11:31.052153",
     "status": "completed"
    },
    "tags": []
   },
   "outputs": [
    {
     "data": {
      "text/plain": [
       "((11982, 28, 28), (1984, 28, 28))"
      ]
     },
     "execution_count": 13,
     "metadata": {},
     "output_type": "execute_result"
    }
   ],
   "source": [
    "X_train.shape, X_test.shape"
   ]
  },
  {
   "cell_type": "markdown",
   "id": "5ccf3f85",
   "metadata": {
    "papermill": {
     "duration": 0.026624,
     "end_time": "2022-09-02T10:11:31.150431",
     "exception": false,
     "start_time": "2022-09-02T10:11:31.123807",
     "status": "completed"
    },
    "tags": []
   },
   "source": [
    "We reshape the data to flatten the image pixels into a set of features or co-variates:"
   ]
  },
  {
   "cell_type": "code",
   "execution_count": 14,
   "id": "5286a4a3",
   "metadata": {
    "execution": {
     "iopub.execute_input": "2022-09-02T10:11:31.208513Z",
     "iopub.status.busy": "2022-09-02T10:11:31.207917Z",
     "iopub.status.idle": "2022-09-02T10:11:31.221247Z",
     "shell.execute_reply": "2022-09-02T10:11:31.221693Z"
    },
    "papermill": {
     "duration": 0.0447,
     "end_time": "2022-09-02T10:11:31.221828",
     "exception": false,
     "start_time": "2022-09-02T10:11:31.177128",
     "status": "completed"
    },
    "tags": []
   },
   "outputs": [
    {
     "data": {
      "text/plain": [
       "((11982, 784), (1984, 784))"
      ]
     },
     "execution_count": 14,
     "metadata": {},
     "output_type": "execute_result"
    }
   ],
   "source": [
    "X_train = X_train.reshape(X_train.shape[0], -1)\n",
    "X_test = X_test.reshape(X_test.shape[0], -1)\n",
    "X_train.shape, X_test.shape"
   ]
  },
  {
   "cell_type": "code",
   "execution_count": 15,
   "id": "73c5f88a",
   "metadata": {
    "execution": {
     "iopub.execute_input": "2022-09-02T10:11:31.289554Z",
     "iopub.status.busy": "2022-09-02T10:11:31.285467Z",
     "iopub.status.idle": "2022-09-02T10:11:31.302183Z",
     "shell.execute_reply": "2022-09-02T10:11:31.301685Z"
    },
    "papermill": {
     "duration": 0.053513,
     "end_time": "2022-09-02T10:11:31.302301",
     "exception": false,
     "start_time": "2022-09-02T10:11:31.248788",
     "status": "completed"
    },
    "tags": []
   },
   "outputs": [],
   "source": [
    "#Impoting functions from 'Kudzu'\n",
    "from kudzu.model import Model\n",
    "from kudzu.train import Learner\n",
    "from kudzu.optim import GD\n",
    "from kudzu.data import Data, Sampler,Dataloader\n",
    "\n",
    "from kudzu.callbacks import AccCallback\n",
    "from kudzu.callbacks import ClfCallback\n",
    "\n",
    "from kudzu.loss import MSE\n",
    "\n",
    "from kudzu.layer import Sigmoid,Relu\n",
    "from kudzu.layer import Affine"
   ]
  },
  {
   "cell_type": "markdown",
   "id": "bc01172a",
   "metadata": {
    "papermill": {
     "duration": 0.026774,
     "end_time": "2022-09-02T10:11:31.356134",
     "exception": false,
     "start_time": "2022-09-02T10:11:31.329360",
     "status": "completed"
    },
    "tags": []
   },
   "source": [
    "### Let us create a `Config` class, to store important parameters. \n",
    "This class essentially plays the role of a dictionary."
   ]
  },
  {
   "cell_type": "code",
   "execution_count": 16,
   "id": "978281aa",
   "metadata": {
    "execution": {
     "iopub.execute_input": "2022-09-02T10:11:31.414114Z",
     "iopub.status.busy": "2022-09-02T10:11:31.413519Z",
     "iopub.status.idle": "2022-09-02T10:11:31.426984Z",
     "shell.execute_reply": "2022-09-02T10:11:31.426499Z"
    },
    "papermill": {
     "duration": 0.044122,
     "end_time": "2022-09-02T10:11:31.427099",
     "exception": false,
     "start_time": "2022-09-02T10:11:31.382977",
     "status": "completed"
    },
    "tags": []
   },
   "outputs": [],
   "source": [
    "class Config:\n",
    "    pass\n",
    "config = Config()\n",
    "config.lr = 0.001\n",
    "config.num_epochs = 250\n",
    "config.bs = 50"
   ]
  },
  {
   "cell_type": "markdown",
   "id": "1385fa59",
   "metadata": {
    "papermill": {
     "duration": 0.026836,
     "end_time": "2022-09-02T10:11:31.481344",
     "exception": false,
     "start_time": "2022-09-02T10:11:31.454508",
     "status": "completed"
    },
    "tags": []
   },
   "source": [
    "### Running Models with the Training data\n",
    "Details about the network layers:\n",
    "- A first affine layer has 784 inputs and does 100 affine transforms. These are followed by a Relu\n",
    "- A second affine layer has 100 inputs from the 100 activations of the past layer, and does 100 affine transforms. These are followed by a Relu\n",
    "- A third affine layer has 100 activations and does 2 affine transformations to create an embedding for visualization. There is no non-linearity here.\n",
    "- A final \"logistic regression\" which has an affine transform from 2 inputs to 1 output, which is squeezed through a sigmoid.\n"
   ]
  },
  {
   "cell_type": "code",
   "execution_count": 17,
   "id": "2b9c66db",
   "metadata": {
    "execution": {
     "iopub.execute_input": "2022-09-02T10:11:31.546204Z",
     "iopub.status.busy": "2022-09-02T10:11:31.545568Z",
     "iopub.status.idle": "2022-09-02T10:11:31.554430Z",
     "shell.execute_reply": "2022-09-02T10:11:31.554857Z"
    },
    "papermill": {
     "duration": 0.046721,
     "end_time": "2022-09-02T10:11:31.554997",
     "exception": false,
     "start_time": "2022-09-02T10:11:31.508276",
     "status": "completed"
    },
    "tags": []
   },
   "outputs": [],
   "source": [
    "data = Data(X_train, y_train.reshape(-1,1))\n",
    "sampler = Sampler(data, config.bs, shuffle=True)\n",
    "\n",
    "dl = Dataloader(data, sampler)\n",
    "\n",
    "opt = GD(config.lr)\n",
    "loss = MSE()"
   ]
  },
  {
   "cell_type": "code",
   "execution_count": 18,
   "id": "b275e4c2",
   "metadata": {
    "execution": {
     "iopub.execute_input": "2022-09-02T10:11:31.613389Z",
     "iopub.status.busy": "2022-09-02T10:11:31.612770Z",
     "iopub.status.idle": "2022-09-02T10:11:31.625175Z",
     "shell.execute_reply": "2022-09-02T10:11:31.625636Z"
    },
    "papermill": {
     "duration": 0.043773,
     "end_time": "2022-09-02T10:11:31.625774",
     "exception": false,
     "start_time": "2022-09-02T10:11:31.582001",
     "status": "completed"
    },
    "tags": []
   },
   "outputs": [],
   "source": [
    "training_data_x = X_train\n",
    "testing_data_x = X_test\n",
    "training_data_y = y_train.reshape(-1,1)\n",
    "testing_data_y = y_test.reshape(-1,1)"
   ]
  },
  {
   "cell_type": "code",
   "execution_count": 19,
   "id": "76951160",
   "metadata": {
    "execution": {
     "iopub.execute_input": "2022-09-02T10:11:31.693551Z",
     "iopub.status.busy": "2022-09-02T10:11:31.689537Z",
     "iopub.status.idle": "2022-09-02T10:11:31.702987Z",
     "shell.execute_reply": "2022-09-02T10:11:31.703436Z"
    },
    "papermill": {
     "duration": 0.050757,
     "end_time": "2022-09-02T10:11:31.703576",
     "exception": false,
     "start_time": "2022-09-02T10:11:31.652819",
     "status": "completed"
    },
    "tags": []
   },
   "outputs": [
    {
     "name": "stdout",
     "output_type": "stream",
     "text": [
      "xavier\n",
      "xavier\n",
      "xavier\n",
      "xavier\n",
      "xavier\n"
     ]
    }
   ],
   "source": [
    "layers = [Affine(\"first\", 784, 100), Relu(\"first\"), Affine(\"second\", 100, 100), Relu(\"second\"), Affine(\"third\", 100, 2), Affine(\"last\", 2, 1), Sigmoid(\"last\")]\n",
    "model_nn = Model(layers)\n",
    "model_lr = Model([Affine(\"logits\", 784, 1), Sigmoid(\"sigmoid\")])"
   ]
  },
  {
   "cell_type": "code",
   "execution_count": 20,
   "id": "6eede77a",
   "metadata": {
    "execution": {
     "iopub.execute_input": "2022-09-02T10:11:31.776213Z",
     "iopub.status.busy": "2022-09-02T10:11:31.773959Z",
     "iopub.status.idle": "2022-09-02T10:11:31.778503Z",
     "shell.execute_reply": "2022-09-02T10:11:31.778928Z"
    },
    "papermill": {
     "duration": 0.048001,
     "end_time": "2022-09-02T10:11:31.779067",
     "exception": false,
     "start_time": "2022-09-02T10:11:31.731066",
     "status": "completed"
    },
    "tags": []
   },
   "outputs": [],
   "source": [
    "nn_learner = Learner(loss, model_nn, opt, config.num_epochs)\n",
    "acc_nn = ClfCallback(nn_learner, config.bs, training_data_x , testing_data_x, training_data_y, testing_data_y)\n",
    "nn_learner.set_callbacks([acc_nn])"
   ]
  },
  {
   "cell_type": "code",
   "execution_count": 21,
   "id": "877b6cc7",
   "metadata": {
    "execution": {
     "iopub.execute_input": "2022-09-02T10:11:31.849408Z",
     "iopub.status.busy": "2022-09-02T10:11:31.837992Z",
     "iopub.status.idle": "2022-09-02T10:11:31.853642Z",
     "shell.execute_reply": "2022-09-02T10:11:31.854095Z"
    },
    "papermill": {
     "duration": 0.047885,
     "end_time": "2022-09-02T10:11:31.854231",
     "exception": false,
     "start_time": "2022-09-02T10:11:31.806346",
     "status": "completed"
    },
    "tags": []
   },
   "outputs": [],
   "source": [
    "lr_learner = Learner(loss, model_lr, opt, config.num_epochs)\n",
    "acc_lr = ClfCallback(lr_learner, config.bs, training_data_x , testing_data_x, training_data_y, testing_data_y)\n",
    "lr_learner.set_callbacks([acc_lr])"
   ]
  },
  {
   "cell_type": "code",
   "execution_count": 22,
   "id": "d9b133c3",
   "metadata": {
    "execution": {
     "iopub.execute_input": "2022-09-02T10:11:31.913366Z",
     "iopub.status.busy": "2022-09-02T10:11:31.912235Z",
     "iopub.status.idle": "2022-09-02T10:12:47.112187Z",
     "shell.execute_reply": "2022-09-02T10:12:47.113031Z"
    },
    "papermill": {
     "duration": 75.231467,
     "end_time": "2022-09-02T10:12:47.113181",
     "exception": false,
     "start_time": "2022-09-02T10:11:31.881714",
     "status": "completed"
    },
    "tags": []
   },
   "outputs": [
    {
     "name": "stdout",
     "output_type": "stream",
     "text": [
      "Epoch 0, Loss 0.2403\n",
      "Training Accuracy: 0.5476, Testing Accuracy: 0.5559\n",
      "\n"
     ]
    },
    {
     "name": "stdout",
     "output_type": "stream",
     "text": [
      "Epoch 10, Loss 0.1652\n",
      "Training Accuracy: 0.8890, Testing Accuracy: 0.8957\n",
      "\n"
     ]
    },
    {
     "name": "stdout",
     "output_type": "stream",
     "text": [
      "Epoch 20, Loss 0.0815\n",
      "Training Accuracy: 0.9214, Testing Accuracy: 0.9315\n",
      "\n"
     ]
    },
    {
     "name": "stdout",
     "output_type": "stream",
     "text": [
      "Epoch 30, Loss 0.056\n",
      "Training Accuracy: 0.9399, Testing Accuracy: 0.9511\n",
      "\n"
     ]
    },
    {
     "name": "stdout",
     "output_type": "stream",
     "text": [
      "Epoch 40, Loss 0.0451\n",
      "Training Accuracy: 0.9495, Testing Accuracy: 0.9577\n",
      "\n"
     ]
    },
    {
     "name": "stdout",
     "output_type": "stream",
     "text": [
      "Epoch 50, Loss 0.0394\n",
      "Training Accuracy: 0.9552, Testing Accuracy: 0.9642\n",
      "\n"
     ]
    },
    {
     "name": "stdout",
     "output_type": "stream",
     "text": [
      "Epoch 60, Loss 0.0358\n",
      "Training Accuracy: 0.9586, Testing Accuracy: 0.9657\n",
      "\n"
     ]
    },
    {
     "name": "stdout",
     "output_type": "stream",
     "text": [
      "Epoch 70, Loss 0.0333\n",
      "Training Accuracy: 0.9619, Testing Accuracy: 0.9698\n",
      "\n"
     ]
    },
    {
     "name": "stdout",
     "output_type": "stream",
     "text": [
      "Epoch 80, Loss 0.0314\n",
      "Training Accuracy: 0.9644, Testing Accuracy: 0.9713\n",
      "\n"
     ]
    },
    {
     "name": "stdout",
     "output_type": "stream",
     "text": [
      "Epoch 90, Loss 0.0299\n",
      "Training Accuracy: 0.9663, Testing Accuracy: 0.9718\n",
      "\n"
     ]
    },
    {
     "name": "stdout",
     "output_type": "stream",
     "text": [
      "Epoch 100, Loss 0.0287\n",
      "Training Accuracy: 0.9674, Testing Accuracy: 0.9713\n",
      "\n"
     ]
    },
    {
     "name": "stdout",
     "output_type": "stream",
     "text": [
      "Epoch 110, Loss 0.0277\n",
      "Training Accuracy: 0.9683, Testing Accuracy: 0.9708\n",
      "\n"
     ]
    },
    {
     "name": "stdout",
     "output_type": "stream",
     "text": [
      "Epoch 120, Loss 0.0269\n",
      "Training Accuracy: 0.9694, Testing Accuracy: 0.9708\n",
      "\n"
     ]
    },
    {
     "name": "stdout",
     "output_type": "stream",
     "text": [
      "Epoch 130, Loss 0.0261\n",
      "Training Accuracy: 0.9702, Testing Accuracy: 0.9723\n",
      "\n"
     ]
    },
    {
     "name": "stdout",
     "output_type": "stream",
     "text": [
      "Epoch 140, Loss 0.0254\n",
      "Training Accuracy: 0.9713, Testing Accuracy: 0.9723\n",
      "\n"
     ]
    },
    {
     "name": "stdout",
     "output_type": "stream",
     "text": [
      "Epoch 150, Loss 0.0248\n",
      "Training Accuracy: 0.9720, Testing Accuracy: 0.9728\n",
      "\n"
     ]
    },
    {
     "name": "stdout",
     "output_type": "stream",
     "text": [
      "Epoch 160, Loss 0.0242\n",
      "Training Accuracy: 0.9726, Testing Accuracy: 0.9728\n",
      "\n"
     ]
    },
    {
     "name": "stdout",
     "output_type": "stream",
     "text": [
      "Epoch 170, Loss 0.0237\n",
      "Training Accuracy: 0.9730, Testing Accuracy: 0.9728\n",
      "\n"
     ]
    },
    {
     "name": "stdout",
     "output_type": "stream",
     "text": [
      "Epoch 180, Loss 0.0232\n",
      "Training Accuracy: 0.9739, Testing Accuracy: 0.9733\n",
      "\n"
     ]
    },
    {
     "name": "stdout",
     "output_type": "stream",
     "text": [
      "Epoch 190, Loss 0.0228\n",
      "Training Accuracy: 0.9744, Testing Accuracy: 0.9733\n",
      "\n"
     ]
    },
    {
     "name": "stdout",
     "output_type": "stream",
     "text": [
      "Epoch 200, Loss 0.0224\n",
      "Training Accuracy: 0.9750, Testing Accuracy: 0.9733\n",
      "\n"
     ]
    },
    {
     "name": "stdout",
     "output_type": "stream",
     "text": [
      "Epoch 210, Loss 0.022\n",
      "Training Accuracy: 0.9751, Testing Accuracy: 0.9738\n",
      "\n"
     ]
    },
    {
     "name": "stdout",
     "output_type": "stream",
     "text": [
      "Epoch 220, Loss 0.0216\n",
      "Training Accuracy: 0.9755, Testing Accuracy: 0.9743\n",
      "\n"
     ]
    },
    {
     "name": "stdout",
     "output_type": "stream",
     "text": [
      "Epoch 230, Loss 0.0212\n",
      "Training Accuracy: 0.9757, Testing Accuracy: 0.9748\n",
      "\n"
     ]
    },
    {
     "name": "stdout",
     "output_type": "stream",
     "text": [
      "Epoch 240, Loss 0.0209\n",
      "Training Accuracy: 0.9760, Testing Accuracy: 0.9748\n",
      "\n"
     ]
    },
    {
     "data": {
      "text/plain": [
       "0.027481099065303886"
      ]
     },
     "execution_count": 22,
     "metadata": {},
     "output_type": "execute_result"
    }
   ],
   "source": [
    "nn_learner.train_loop(dl)"
   ]
  },
  {
   "cell_type": "code",
   "execution_count": 23,
   "id": "e0163366",
   "metadata": {
    "execution": {
     "iopub.execute_input": "2022-09-02T10:12:47.195562Z",
     "iopub.status.busy": "2022-09-02T10:12:47.194952Z",
     "iopub.status.idle": "2022-09-02T10:13:00.361874Z",
     "shell.execute_reply": "2022-09-02T10:13:00.362699Z"
    },
    "papermill": {
     "duration": 13.214701,
     "end_time": "2022-09-02T10:13:00.362854",
     "exception": false,
     "start_time": "2022-09-02T10:12:47.148153",
     "status": "completed"
    },
    "tags": []
   },
   "outputs": [
    {
     "name": "stdout",
     "output_type": "stream",
     "text": [
      "Epoch 0, Loss 0.2602\n",
      "Training Accuracy: 0.6099, Testing Accuracy: 0.6421\n",
      "\n"
     ]
    },
    {
     "name": "stdout",
     "output_type": "stream",
     "text": [
      "Epoch 10, Loss 0.1057\n",
      "Training Accuracy: 0.9029, Testing Accuracy: 0.9032\n",
      "\n"
     ]
    },
    {
     "name": "stdout",
     "output_type": "stream",
     "text": [
      "Epoch 20, Loss 0.081\n",
      "Training Accuracy: 0.9224, Testing Accuracy: 0.9279\n",
      "\n"
     ]
    },
    {
     "name": "stdout",
     "output_type": "stream",
     "text": [
      "Epoch 30, Loss 0.0696\n",
      "Training Accuracy: 0.9344, Testing Accuracy: 0.9410\n",
      "\n"
     ]
    },
    {
     "name": "stdout",
     "output_type": "stream",
     "text": [
      "Epoch 40, Loss 0.0627\n",
      "Training Accuracy: 0.9404, Testing Accuracy: 0.9456\n",
      "\n"
     ]
    },
    {
     "name": "stdout",
     "output_type": "stream",
     "text": [
      "Epoch 50, Loss 0.058\n",
      "Training Accuracy: 0.9437, Testing Accuracy: 0.9496\n",
      "\n"
     ]
    },
    {
     "name": "stdout",
     "output_type": "stream",
     "text": [
      "Epoch 60, Loss 0.0545\n",
      "Training Accuracy: 0.9459, Testing Accuracy: 0.9501\n",
      "\n"
     ]
    },
    {
     "name": "stdout",
     "output_type": "stream",
     "text": [
      "Epoch 70, Loss 0.0519\n",
      "Training Accuracy: 0.9473, Testing Accuracy: 0.9556\n",
      "\n"
     ]
    },
    {
     "name": "stdout",
     "output_type": "stream",
     "text": [
      "Epoch 80, Loss 0.0498\n",
      "Training Accuracy: 0.9485, Testing Accuracy: 0.9572\n",
      "\n"
     ]
    },
    {
     "name": "stdout",
     "output_type": "stream",
     "text": [
      "Epoch 90, Loss 0.048\n",
      "Training Accuracy: 0.9498, Testing Accuracy: 0.9582\n",
      "\n"
     ]
    },
    {
     "name": "stdout",
     "output_type": "stream",
     "text": [
      "Epoch 100, Loss 0.0465\n",
      "Training Accuracy: 0.9509, Testing Accuracy: 0.9592\n",
      "\n"
     ]
    },
    {
     "name": "stdout",
     "output_type": "stream",
     "text": [
      "Epoch 110, Loss 0.0453\n",
      "Training Accuracy: 0.9518, Testing Accuracy: 0.9597\n",
      "\n"
     ]
    },
    {
     "name": "stdout",
     "output_type": "stream",
     "text": [
      "Epoch 120, Loss 0.0442\n",
      "Training Accuracy: 0.9532, Testing Accuracy: 0.9602\n",
      "\n"
     ]
    },
    {
     "name": "stdout",
     "output_type": "stream",
     "text": [
      "Epoch 130, Loss 0.0432\n",
      "Training Accuracy: 0.9540, Testing Accuracy: 0.9607\n",
      "\n"
     ]
    },
    {
     "name": "stdout",
     "output_type": "stream",
     "text": [
      "Epoch 140, Loss 0.0424\n",
      "Training Accuracy: 0.9548, Testing Accuracy: 0.9617\n",
      "\n"
     ]
    },
    {
     "name": "stdout",
     "output_type": "stream",
     "text": [
      "Epoch 150, Loss 0.0416\n",
      "Training Accuracy: 0.9555, Testing Accuracy: 0.9617\n",
      "\n"
     ]
    },
    {
     "name": "stdout",
     "output_type": "stream",
     "text": [
      "Epoch 160, Loss 0.0409\n",
      "Training Accuracy: 0.9558, Testing Accuracy: 0.9622\n",
      "\n"
     ]
    },
    {
     "name": "stdout",
     "output_type": "stream",
     "text": [
      "Epoch 170, Loss 0.0403\n",
      "Training Accuracy: 0.9566, Testing Accuracy: 0.9627\n",
      "\n"
     ]
    },
    {
     "name": "stdout",
     "output_type": "stream",
     "text": [
      "Epoch 180, Loss 0.0397\n",
      "Training Accuracy: 0.9574, Testing Accuracy: 0.9632\n",
      "\n"
     ]
    },
    {
     "name": "stdout",
     "output_type": "stream",
     "text": [
      "Epoch 190, Loss 0.0392\n",
      "Training Accuracy: 0.9579, Testing Accuracy: 0.9637\n",
      "\n"
     ]
    },
    {
     "name": "stdout",
     "output_type": "stream",
     "text": [
      "Epoch 200, Loss 0.0387\n",
      "Training Accuracy: 0.9583, Testing Accuracy: 0.9637\n",
      "\n"
     ]
    },
    {
     "name": "stdout",
     "output_type": "stream",
     "text": [
      "Epoch 210, Loss 0.0382\n",
      "Training Accuracy: 0.9589, Testing Accuracy: 0.9647\n",
      "\n"
     ]
    },
    {
     "name": "stdout",
     "output_type": "stream",
     "text": [
      "Epoch 220, Loss 0.0378\n",
      "Training Accuracy: 0.9591, Testing Accuracy: 0.9652\n",
      "\n"
     ]
    },
    {
     "name": "stdout",
     "output_type": "stream",
     "text": [
      "Epoch 230, Loss 0.0374\n",
      "Training Accuracy: 0.9594, Testing Accuracy: 0.9647\n",
      "\n"
     ]
    },
    {
     "name": "stdout",
     "output_type": "stream",
     "text": [
      "Epoch 240, Loss 0.0371\n",
      "Training Accuracy: 0.9602, Testing Accuracy: 0.9652\n",
      "\n"
     ]
    },
    {
     "data": {
      "text/plain": [
       "0.0038094939936213425"
      ]
     },
     "execution_count": 23,
     "metadata": {},
     "output_type": "execute_result"
    }
   ],
   "source": [
    "lr_learner.train_loop(dl)"
   ]
  },
  {
   "cell_type": "code",
   "execution_count": 24,
   "id": "ca410940",
   "metadata": {
    "execution": {
     "iopub.execute_input": "2022-09-02T10:13:00.454670Z",
     "iopub.status.busy": "2022-09-02T10:13:00.454065Z",
     "iopub.status.idle": "2022-09-02T10:13:00.667988Z",
     "shell.execute_reply": "2022-09-02T10:13:00.667435Z"
    },
    "papermill": {
     "duration": 0.263352,
     "end_time": "2022-09-02T10:13:00.668117",
     "exception": false,
     "start_time": "2022-09-02T10:13:00.404765",
     "status": "completed"
    },
    "tags": []
   },
   "outputs": [
    {
     "data": {
      "text/plain": [
       "<matplotlib.legend.Legend at 0x7fb3131a1470>"
      ]
     },
     "execution_count": 24,
     "metadata": {},
     "output_type": "execute_result"
    },
    {
     "data": {
      "image/png": "[encoded data removed]",
      "text/plain": [
       "<Figure size 1080x720 with 1 Axes>"
      ]
     },
     "metadata": {
      "needs_background": "light"
     },
     "output_type": "display_data"
    }
   ],
   "source": [
    "#comparing the results of NN and LR\n",
    "plt.figure(figsize=(15,10))\n",
    "\n",
    "# Neural Network plots\n",
    "plt.plot(acc_nn.accuracies, 'r-', label = \"Training Accuracies - NN\")\n",
    "plt.plot(acc_nn.test_accuracies, 'g-', label = \"Testing Accuracies - NN\")\n",
    "\n",
    "# Logistic Regression plots\n",
    "plt.plot(acc_lr.accuracies, 'k-', label = \"Training Accuracies - LR\")\n",
    "plt.plot(acc_lr.test_accuracies, 'b-', label = \"Testing Accuracies - LR\")\n",
    "plt.legend()"
   ]
  },
  {
   "cell_type": "markdown",
   "id": "80dfb35c",
   "metadata": {
    "papermill": {
     "duration": 0.042034,
     "end_time": "2022-09-02T10:13:00.752648",
     "exception": false,
     "start_time": "2022-09-02T10:13:00.710614",
     "status": "completed"
    },
    "tags": []
   },
   "source": [
    "#### Plotting the outputs of this layer of the NN.\n"
   ]
  },
  {
   "cell_type": "code",
   "execution_count": 25,
   "id": "45eb2ff5",
   "metadata": {
    "execution": {
     "iopub.execute_input": "2022-09-02T10:13:00.840453Z",
     "iopub.status.busy": "2022-09-02T10:13:00.839855Z",
     "iopub.status.idle": "2022-09-02T10:13:00.860086Z",
     "shell.execute_reply": "2022-09-02T10:13:00.859588Z"
    },
    "papermill": {
     "duration": 0.065681,
     "end_time": "2022-09-02T10:13:00.860201",
     "exception": false,
     "start_time": "2022-09-02T10:13:00.794520",
     "status": "completed"
    },
    "tags": []
   },
   "outputs": [],
   "source": [
    "new_model = Model(layers[:-2])\n",
    "testing_plot = new_model(testing_data_x)"
   ]
  },
  {
   "cell_type": "code",
   "execution_count": 26,
   "id": "4c0a5485",
   "metadata": {
    "execution": {
     "iopub.execute_input": "2022-09-02T10:13:00.950391Z",
     "iopub.status.busy": "2022-09-02T10:13:00.949790Z",
     "iopub.status.idle": "2022-09-02T10:13:01.137385Z",
     "shell.execute_reply": "2022-09-02T10:13:01.136685Z"
    },
    "papermill": {
     "duration": 0.234743,
     "end_time": "2022-09-02T10:13:01.137515",
     "exception": false,
     "start_time": "2022-09-02T10:13:00.902772",
     "status": "completed"
    },
    "tags": []
   },
   "outputs": [
    {
     "data": {
      "text/plain": [
       "Text(0.5, 1.0, 'Outputs')"
      ]
     },
     "execution_count": 26,
     "metadata": {},
     "output_type": "execute_result"
    },
    {
     "data": {
      "image/png": "[encoded data removed]",
      "text/plain": [
       "<Figure size 576x504 with 1 Axes>"
      ]
     },
     "metadata": {
      "needs_background": "light"
     },
     "output_type": "display_data"
    }
   ],
   "source": [
    "# Plotting the scatter plot of points and color coding by class\n",
    "plt.figure(figsize=(8,7))\n",
    "plt.scatter(testing_plot[:,0], testing_plot[:,1], alpha = 0.1, c = y_test.ravel());\n",
    "plt.title('Outputs')"
   ]
  },
  {
   "cell_type": "markdown",
   "id": "a74fcf8f",
   "metadata": {
    "papermill": {
     "duration": 0.043281,
     "end_time": "2022-09-02T10:13:01.225372",
     "exception": false,
     "start_time": "2022-09-02T10:13:01.182091",
     "status": "completed"
    },
    "tags": []
   },
   "source": [
    "Probability contours"
   ]
  },
  {
   "cell_type": "code",
   "execution_count": 27,
   "id": "d0afc8e3",
   "metadata": {
    "execution": {
     "iopub.execute_input": "2022-09-02T10:13:01.323371Z",
     "iopub.status.busy": "2022-09-02T10:13:01.322780Z",
     "iopub.status.idle": "2022-09-02T10:13:01.331197Z",
     "shell.execute_reply": "2022-09-02T10:13:01.331638Z"
    },
    "papermill": {
     "duration": 0.062973,
     "end_time": "2022-09-02T10:13:01.331768",
     "exception": false,
     "start_time": "2022-09-02T10:13:01.268795",
     "status": "completed"
    },
    "tags": []
   },
   "outputs": [],
   "source": [
    "model_prob = Model(layers[-2:]) "
   ]
  },
  {
   "cell_type": "code",
   "execution_count": 28,
   "id": "9b96e238",
   "metadata": {
    "execution": {
     "iopub.execute_input": "2022-09-02T10:13:01.431635Z",
     "iopub.status.busy": "2022-09-02T10:13:01.422796Z",
     "iopub.status.idle": "2022-09-02T10:13:01.439606Z",
     "shell.execute_reply": "2022-09-02T10:13:01.439043Z"
    },
    "papermill": {
     "duration": 0.064483,
     "end_time": "2022-09-02T10:13:01.439715",
     "exception": false,
     "start_time": "2022-09-02T10:13:01.375232",
     "status": "completed"
    },
    "tags": []
   },
   "outputs": [],
   "source": [
    "#creating the x and y ranges according to the above generated plot.\n",
    "x_range = np.linspace(-4, 1, 100) \n",
    "y_range = np.linspace(-6, 6, 100) \n",
    "x_grid, y_grid = np.meshgrid(x_range, y_range) # x_grid and y_grig are of size 100 X 100\n",
    "\n",
    "# converting x_grid and y_grid to continuous arrays\n",
    "x_gridflat = np.ravel(x_grid)\n",
    "y_gridflat = np.ravel(y_grid)\n",
    "\n",
    "# The last layer of the current model takes two columns as input. Hence transpose of np.vstack() is required.\n",
    "X = np.vstack((x_gridflat, y_gridflat)).T\n",
    "\n",
    "prob_contour = model_prob(X).reshape(100,100) "
   ]
  },
  {
   "cell_type": "code",
   "execution_count": 29,
   "id": "da72499a",
   "metadata": {
    "execution": {
     "iopub.execute_input": "2022-09-02T10:13:01.581271Z",
     "iopub.status.busy": "2022-09-02T10:13:01.580664Z",
     "iopub.status.idle": "2022-09-02T10:13:01.823117Z",
     "shell.execute_reply": "2022-09-02T10:13:01.823560Z"
    },
    "papermill": {
     "duration": 0.297529,
     "end_time": "2022-09-02T10:13:01.823700",
     "exception": false,
     "start_time": "2022-09-02T10:13:01.526171",
     "status": "completed"
    },
    "tags": []
   },
   "outputs": [
    {
     "data": {
      "image/png": "[encoded data removed]",
      "text/plain": [
       "<Figure size 720x648 with 1 Axes>"
      ]
     },
     "metadata": {
      "needs_background": "light"
     },
     "output_type": "display_data"
    }
   ],
   "source": [
    "plt.figure(figsize=(10,9))\n",
    "plt.scatter(testing_plot[:,0], testing_plot[:,1], alpha = 0.1, c = y_test.ravel())\n",
    "contours = plt.contour(x_grid,y_grid,prob_contour)\n",
    "plt.title('Probability Contours')\n",
    "plt.clabel(contours, inline = True );"
   ]
  },
  {
   "cell_type": "code",
   "execution_count": null,
   "id": "e81b4ac7",
   "metadata": {
    "papermill": {
     "duration": 0.047827,
     "end_time": "2022-09-02T10:13:01.918173",
     "exception": false,
     "start_time": "2022-09-02T10:13:01.870346",
     "status": "completed"
    },
    "tags": []
   },
   "outputs": [],
   "source": []
  }
 ],
 "metadata": {
  "kernelspec": {
   "display_name": "Python 3",
   "language": "python",
   "name": "python3"
  },
  "language_info": {
   "codemirror_mode": {
    "name": "ipython",
    "version": 3
   },
   "file_extension": ".py",
   "mimetype": "text/x-python",
   "name": "python",
   "nbconvert_exporter": "python",
   "pygments_lexer": "ipython3",
   "version": "3.6.15"
  },
  "papermill": {
   "default_parameters": {},
   "duration": 97.238361,
   "end_time": "2022-09-02T10:13:02.382882",
   "environment_variables": {},
   "exception": null,
   "input_path": "2020-08-11-part2.ipynb",
   "output_path": "2020-08-11-part2.ipynb",
   "parameters": {},
   "start_time": "2022-09-02T10:11:25.144521",
   "version": "2.3.3"
  }
 },
 "nbformat": 4,
 "nbformat_minor": 5
}