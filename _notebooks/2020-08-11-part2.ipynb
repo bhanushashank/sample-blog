{
 "cells": [
  {
   "cell_type": "markdown",
   "id": "98380cd3",
   "metadata": {
    "papermill": {
     "duration": 0.030421,
     "end_time": "2022-10-19T10:38:27.456435",
     "exception": false,
     "start_time": "2022-10-19T10:38:27.426014",
     "status": "completed"
    },
    "tags": []
   },
   "source": [
    "# Distinguish Your Own Digits (DYOD)"
   ]
  },
  {
   "cell_type": "markdown",
   "id": "ef31240d",
   "metadata": {
    "papermill": {
     "duration": 0.023799,
     "end_time": "2022-10-19T10:38:27.504862",
     "exception": false,
     "start_time": "2022-10-19T10:38:27.481063",
     "status": "completed"
    },
    "tags": []
   },
   "source": [
    "You are going to write a classifier that distinguishes between the number 3 and number 8."
   ]
  },
  {
   "cell_type": "code",
   "execution_count": 1,
   "id": "b15c8646",
   "metadata": {
    "execution": {
     "iopub.execute_input": "2022-10-19T10:38:27.563203Z",
     "iopub.status.busy": "2022-10-19T10:38:27.562589Z",
     "iopub.status.idle": "2022-10-19T10:38:27.573644Z",
     "shell.execute_reply": "2022-10-19T10:38:27.573156Z"
    },
    "papermill": {
     "duration": 0.045219,
     "end_time": "2022-10-19T10:38:27.573769",
     "exception": false,
     "start_time": "2022-10-19T10:38:27.528550",
     "status": "completed"
    },
    "tags": []
   },
   "outputs": [],
   "source": [
    "%load_ext autoreload\n",
    "%autoreload 2"
   ]
  },
  {
   "cell_type": "code",
   "execution_count": 2,
   "id": "22ef38dc",
   "metadata": {
    "execution": {
     "iopub.execute_input": "2022-10-19T10:38:27.625255Z",
     "iopub.status.busy": "2022-10-19T10:38:27.624657Z",
     "iopub.status.idle": "2022-10-19T10:38:28.163330Z",
     "shell.execute_reply": "2022-10-19T10:38:28.163866Z"
    },
    "papermill": {
     "duration": 0.566444,
     "end_time": "2022-10-19T10:38:28.164028",
     "exception": false,
     "start_time": "2022-10-19T10:38:27.597584",
     "status": "completed"
    },
    "tags": []
   },
   "outputs": [],
   "source": [
    "%matplotlib inline\n",
    "import numpy as np\n",
    "import matplotlib.pyplot as plt\n",
    "import pandas as pd"
   ]
  },
  {
   "cell_type": "markdown",
   "id": "ba036198",
   "metadata": {
    "papermill": {
     "duration": 0.024108,
     "end_time": "2022-10-19T10:38:28.212916",
     "exception": false,
     "start_time": "2022-10-19T10:38:28.188808",
     "status": "completed"
    },
    "tags": []
   },
   "source": [
    "From the command line run `pip install mnist`. This is a library that will help you bring down the mnist dataset. If you run this from a notebook, you need to put  `!pip install mnist` in a cell by itself."
   ]
  },
  {
   "cell_type": "code",
   "execution_count": 3,
   "id": "bb6ad8a1",
   "metadata": {
    "execution": {
     "iopub.execute_input": "2022-10-19T10:38:28.265622Z",
     "iopub.status.busy": "2022-10-19T10:38:28.265038Z",
     "iopub.status.idle": "2022-10-19T10:38:30.717014Z",
     "shell.execute_reply": "2022-10-19T10:38:30.716357Z"
    },
    "papermill": {
     "duration": 2.480102,
     "end_time": "2022-10-19T10:38:30.717149",
     "exception": false,
     "start_time": "2022-10-19T10:38:28.237047",
     "status": "completed"
    },
    "tags": []
   },
   "outputs": [
    {
     "name": "stdout",
     "output_type": "stream",
     "text": [
      "Collecting mnist\r\n",
      "  Downloading mnist-0.2.2-py2.py3-none-any.whl (3.5 kB)\r\n",
      "Requirement already satisfied: numpy in /opt/hostedtoolcache/Python/3.6.15/x64/lib/python3.6/site-packages (from mnist) (1.19.5)\r\n"
     ]
    },
    {
     "name": "stdout",
     "output_type": "stream",
     "text": [
      "Installing collected packages: mnist\r\n",
      "Successfully installed mnist-0.2.2\r\n"
     ]
    }
   ],
   "source": [
    "!pip install mnist"
   ]
  },
  {
   "cell_type": "markdown",
   "id": "69df9c9a",
   "metadata": {
    "papermill": {
     "duration": 0.024729,
     "end_time": "2022-10-19T10:38:30.767074",
     "exception": false,
     "start_time": "2022-10-19T10:38:30.742345",
     "status": "completed"
    },
    "tags": []
   },
   "source": [
    "## Preparing the Data"
   ]
  },
  {
   "cell_type": "code",
   "execution_count": 4,
   "id": "7f69d806",
   "metadata": {
    "execution": {
     "iopub.execute_input": "2022-10-19T10:38:30.819817Z",
     "iopub.status.busy": "2022-10-19T10:38:30.819241Z",
     "iopub.status.idle": "2022-10-19T10:38:30.835425Z",
     "shell.execute_reply": "2022-10-19T10:38:30.834767Z"
    },
    "papermill": {
     "duration": 0.044274,
     "end_time": "2022-10-19T10:38:30.835550",
     "exception": false,
     "start_time": "2022-10-19T10:38:30.791276",
     "status": "completed"
    },
    "tags": []
   },
   "outputs": [],
   "source": [
    "import mnist"
   ]
  },
  {
   "cell_type": "code",
   "execution_count": 5,
   "id": "a411e44f",
   "metadata": {
    "execution": {
     "iopub.execute_input": "2022-10-19T10:38:30.888808Z",
     "iopub.status.busy": "2022-10-19T10:38:30.888198Z",
     "iopub.status.idle": "2022-10-19T10:38:31.399557Z",
     "shell.execute_reply": "2022-10-19T10:38:31.398981Z"
    },
    "papermill": {
     "duration": 0.5387,
     "end_time": "2022-10-19T10:38:31.399695",
     "exception": false,
     "start_time": "2022-10-19T10:38:30.860995",
     "status": "completed"
    },
    "tags": []
   },
   "outputs": [],
   "source": [
    "train_images = mnist.train_images()\n",
    "train_labels = mnist.train_labels()"
   ]
  },
  {
   "cell_type": "code",
   "execution_count": 6,
   "id": "dceab3a5",
   "metadata": {
    "execution": {
     "iopub.execute_input": "2022-10-19T10:38:31.453829Z",
     "iopub.status.busy": "2022-10-19T10:38:31.453241Z",
     "iopub.status.idle": "2022-10-19T10:38:31.467561Z",
     "shell.execute_reply": "2022-10-19T10:38:31.468102Z"
    },
    "papermill": {
     "duration": 0.043248,
     "end_time": "2022-10-19T10:38:31.468232",
     "exception": false,
     "start_time": "2022-10-19T10:38:31.424984",
     "status": "completed"
    },
    "tags": []
   },
   "outputs": [
    {
     "data": {
      "text/plain": [
       "((60000, 28, 28), (60000,))"
      ]
     },
     "execution_count": 6,
     "metadata": {},
     "output_type": "execute_result"
    }
   ],
   "source": [
    "train_images.shape, train_labels.shape"
   ]
  },
  {
   "cell_type": "code",
   "execution_count": 7,
   "id": "f50dc2bb",
   "metadata": {
    "execution": {
     "iopub.execute_input": "2022-10-19T10:38:31.521567Z",
     "iopub.status.busy": "2022-10-19T10:38:31.520981Z",
     "iopub.status.idle": "2022-10-19T10:38:31.660936Z",
     "shell.execute_reply": "2022-10-19T10:38:31.660359Z"
    },
    "papermill": {
     "duration": 0.168053,
     "end_time": "2022-10-19T10:38:31.661057",
     "exception": false,
     "start_time": "2022-10-19T10:38:31.493004",
     "status": "completed"
    },
    "tags": []
   },
   "outputs": [],
   "source": [
    "test_images = mnist.test_images()\n",
    "test_labels = mnist.test_labels()"
   ]
  },
  {
   "cell_type": "code",
   "execution_count": 8,
   "id": "fc38cf1b",
   "metadata": {
    "execution": {
     "iopub.execute_input": "2022-10-19T10:38:31.714874Z",
     "iopub.status.busy": "2022-10-19T10:38:31.714294Z",
     "iopub.status.idle": "2022-10-19T10:38:31.728483Z",
     "shell.execute_reply": "2022-10-19T10:38:31.727982Z"
    },
    "papermill": {
     "duration": 0.042487,
     "end_time": "2022-10-19T10:38:31.728599",
     "exception": false,
     "start_time": "2022-10-19T10:38:31.686112",
     "status": "completed"
    },
    "tags": []
   },
   "outputs": [
    {
     "data": {
      "text/plain": [
       "((10000, 28, 28), (10000,))"
      ]
     },
     "execution_count": 8,
     "metadata": {},
     "output_type": "execute_result"
    }
   ],
   "source": [
    "test_images.shape, test_labels.shape"
   ]
  },
  {
   "cell_type": "code",
   "execution_count": 9,
   "id": "f9ed8fe0",
   "metadata": {
    "execution": {
     "iopub.execute_input": "2022-10-19T10:38:31.782784Z",
     "iopub.status.busy": "2022-10-19T10:38:31.782208Z",
     "iopub.status.idle": "2022-10-19T10:38:31.923072Z",
     "shell.execute_reply": "2022-10-19T10:38:31.922336Z"
    },
    "papermill": {
     "duration": 0.169699,
     "end_time": "2022-10-19T10:38:31.923195",
     "exception": false,
     "start_time": "2022-10-19T10:38:31.753496",
     "status": "completed"
    },
    "tags": []
   },
   "outputs": [
    {
     "name": "stdout",
     "output_type": "stream",
     "text": [
      "2\n"
     ]
    },
    {
     "data": {
      "text/plain": [
       "<matplotlib.image.AxesImage at 0x7ff5b74d8d30>"
      ]
     },
     "execution_count": 9,
     "metadata": {},
     "output_type": "execute_result"
    },
    {
     "data": {
      "image/png": "[encoded data removed]",
      "text/plain": [
       "<Figure size 432x288 with 1 Axes>"
      ]
     },
     "metadata": {
      "needs_background": "light"
     },
     "output_type": "display_data"
    }
   ],
   "source": [
    "image_index = 7776 # You may select anything up to 60,000\n",
    "print(train_labels[image_index]) \n",
    "plt.imshow(train_images[image_index], cmap='Greys')"
   ]
  },
  {
   "cell_type": "markdown",
   "id": "a8d2388d",
   "metadata": {
    "papermill": {
     "duration": 0.026605,
     "end_time": "2022-10-19T10:38:31.976129",
     "exception": false,
     "start_time": "2022-10-19T10:38:31.949524",
     "status": "completed"
    },
    "tags": []
   },
   "source": [
    "## Filter data to get 3 and 8 out"
   ]
  },
  {
   "cell_type": "code",
   "execution_count": 10,
   "id": "776f7fc7",
   "metadata": {
    "execution": {
     "iopub.execute_input": "2022-10-19T10:38:32.041340Z",
     "iopub.status.busy": "2022-10-19T10:38:32.037371Z",
     "iopub.status.idle": "2022-10-19T10:38:32.053094Z",
     "shell.execute_reply": "2022-10-19T10:38:32.052305Z"
    },
    "papermill": {
     "duration": 0.05104,
     "end_time": "2022-10-19T10:38:32.053214",
     "exception": false,
     "start_time": "2022-10-19T10:38:32.002174",
     "status": "completed"
    },
    "tags": []
   },
   "outputs": [],
   "source": [
    "train_filter = np.where((train_labels == 3 ) | (train_labels == 8))\n",
    "test_filter = np.where((test_labels == 3) | (test_labels == 8))\n",
    "X_train, y_train = train_images[train_filter], train_labels[train_filter]\n",
    "X_test, y_test = test_images[test_filter], test_labels[test_filter]"
   ]
  },
  {
   "cell_type": "markdown",
   "id": "948f0b7e",
   "metadata": {
    "papermill": {
     "duration": 0.026183,
     "end_time": "2022-10-19T10:38:32.105900",
     "exception": false,
     "start_time": "2022-10-19T10:38:32.079717",
     "status": "completed"
    },
    "tags": []
   },
   "source": [
    "We normalize the pizel values in the 0 to 1 range"
   ]
  },
  {
   "cell_type": "code",
   "execution_count": 11,
   "id": "ee4c2166",
   "metadata": {
    "execution": {
     "iopub.execute_input": "2022-10-19T10:38:32.163468Z",
     "iopub.status.busy": "2022-10-19T10:38:32.162877Z",
     "iopub.status.idle": "2022-10-19T10:38:32.211375Z",
     "shell.execute_reply": "2022-10-19T10:38:32.210845Z"
    },
    "papermill": {
     "duration": 0.078916,
     "end_time": "2022-10-19T10:38:32.211493",
     "exception": false,
     "start_time": "2022-10-19T10:38:32.132577",
     "status": "completed"
    },
    "tags": []
   },
   "outputs": [],
   "source": [
    "X_train = X_train/255.\n",
    "X_test = X_test/255."
   ]
  },
  {
   "cell_type": "markdown",
   "id": "ddcf4fab",
   "metadata": {
    "papermill": {
     "duration": 0.026225,
     "end_time": "2022-10-19T10:38:32.264136",
     "exception": false,
     "start_time": "2022-10-19T10:38:32.237911",
     "status": "completed"
    },
    "tags": []
   },
   "source": [
    "And setup the labels as 1 (when the digit is 3) and 0 (when the digit is 8)"
   ]
  },
  {
   "cell_type": "code",
   "execution_count": 12,
   "id": "7dc908f2",
   "metadata": {
    "execution": {
     "iopub.execute_input": "2022-10-19T10:38:32.320345Z",
     "iopub.status.busy": "2022-10-19T10:38:32.319761Z",
     "iopub.status.idle": "2022-10-19T10:38:32.332373Z",
     "shell.execute_reply": "2022-10-19T10:38:32.331888Z"
    },
    "papermill": {
     "duration": 0.042321,
     "end_time": "2022-10-19T10:38:32.332510",
     "exception": false,
     "start_time": "2022-10-19T10:38:32.290189",
     "status": "completed"
    },
    "tags": []
   },
   "outputs": [],
   "source": [
    "y_train = 1*(y_train==3)\n",
    "y_test = 1*(y_test==3)"
   ]
  },
  {
   "cell_type": "code",
   "execution_count": 13,
   "id": "01e4e969",
   "metadata": {
    "execution": {
     "iopub.execute_input": "2022-10-19T10:38:32.388568Z",
     "iopub.status.busy": "2022-10-19T10:38:32.387952Z",
     "iopub.status.idle": "2022-10-19T10:38:32.401680Z",
     "shell.execute_reply": "2022-10-19T10:38:32.402160Z"
    },
    "papermill": {
     "duration": 0.04352,
     "end_time": "2022-10-19T10:38:32.402286",
     "exception": false,
     "start_time": "2022-10-19T10:38:32.358766",
     "status": "completed"
    },
    "tags": []
   },
   "outputs": [
    {
     "data": {
      "text/plain": [
       "((11982, 28, 28), (1984, 28, 28))"
      ]
     },
     "execution_count": 13,
     "metadata": {},
     "output_type": "execute_result"
    }
   ],
   "source": [
    "X_train.shape, X_test.shape"
   ]
  },
  {
   "cell_type": "markdown",
   "id": "5ccf3f85",
   "metadata": {
    "papermill": {
     "duration": 0.02621,
     "end_time": "2022-10-19T10:38:32.455192",
     "exception": false,
     "start_time": "2022-10-19T10:38:32.428982",
     "status": "completed"
    },
    "tags": []
   },
   "source": [
    "We reshape the data to flatten the image pixels into a set of features or co-variates:"
   ]
  },
  {
   "cell_type": "code",
   "execution_count": 14,
   "id": "5286a4a3",
   "metadata": {
    "execution": {
     "iopub.execute_input": "2022-10-19T10:38:32.512011Z",
     "iopub.status.busy": "2022-10-19T10:38:32.511419Z",
     "iopub.status.idle": "2022-10-19T10:38:32.526202Z",
     "shell.execute_reply": "2022-10-19T10:38:32.525727Z"
    },
    "papermill": {
     "duration": 0.044767,
     "end_time": "2022-10-19T10:38:32.526311",
     "exception": false,
     "start_time": "2022-10-19T10:38:32.481544",
     "status": "completed"
    },
    "tags": []
   },
   "outputs": [
    {
     "data": {
      "text/plain": [
       "((11982, 784), (1984, 784))"
      ]
     },
     "execution_count": 14,
     "metadata": {},
     "output_type": "execute_result"
    }
   ],
   "source": [
    "X_train = X_train.reshape(X_train.shape[0], -1)\n",
    "X_test = X_test.reshape(X_test.shape[0], -1)\n",
    "X_train.shape, X_test.shape"
   ]
  },
  {
   "cell_type": "code",
   "execution_count": 15,
   "id": "73c5f88a",
   "metadata": {
    "execution": {
     "iopub.execute_input": "2022-10-19T10:38:32.583965Z",
     "iopub.status.busy": "2022-10-19T10:38:32.583376Z",
     "iopub.status.idle": "2022-10-19T10:38:32.602396Z",
     "shell.execute_reply": "2022-10-19T10:38:32.601924Z"
    },
    "papermill": {
     "duration": 0.049658,
     "end_time": "2022-10-19T10:38:32.602510",
     "exception": false,
     "start_time": "2022-10-19T10:38:32.552852",
     "status": "completed"
    },
    "tags": []
   },
   "outputs": [],
   "source": [
    "#Impoting functions from 'Kudzu'\n",
    "from kudzu.model import Model\n",
    "from kudzu.train import Learner\n",
    "from kudzu.optim import GD\n",
    "from kudzu.data import Data, Sampler,Dataloader\n",
    "\n",
    "from kudzu.callbacks import AccCallback\n",
    "from kudzu.callbacks import ClfCallback\n",
    "\n",
    "from kudzu.loss import MSE\n",
    "\n",
    "from kudzu.layer import Sigmoid,Relu\n",
    "from kudzu.layer import Affine"
   ]
  },
  {
   "cell_type": "markdown",
   "id": "bc01172a",
   "metadata": {
    "papermill": {
     "duration": 0.026658,
     "end_time": "2022-10-19T10:38:32.655940",
     "exception": false,
     "start_time": "2022-10-19T10:38:32.629282",
     "status": "completed"
    },
    "tags": []
   },
   "source": [
    "### Let us create a `Config` class, to store important parameters. \n",
    "This class essentially plays the role of a dictionary."
   ]
  },
  {
   "cell_type": "code",
   "execution_count": 16,
   "id": "978281aa",
   "metadata": {
    "execution": {
     "iopub.execute_input": "2022-10-19T10:38:32.713560Z",
     "iopub.status.busy": "2022-10-19T10:38:32.712968Z",
     "iopub.status.idle": "2022-10-19T10:38:32.725511Z",
     "shell.execute_reply": "2022-10-19T10:38:32.725990Z"
    },
    "papermill": {
     "duration": 0.043657,
     "end_time": "2022-10-19T10:38:32.726116",
     "exception": false,
     "start_time": "2022-10-19T10:38:32.682459",
     "status": "completed"
    },
    "tags": []
   },
   "outputs": [],
   "source": [
    "class Config:\n",
    "    pass\n",
    "config = Config()\n",
    "config.lr = 0.001\n",
    "config.num_epochs = 250\n",
    "config.bs = 50"
   ]
  },
  {
   "cell_type": "markdown",
   "id": "1385fa59",
   "metadata": {
    "papermill": {
     "duration": 0.026911,
     "end_time": "2022-10-19T10:38:32.779562",
     "exception": false,
     "start_time": "2022-10-19T10:38:32.752651",
     "status": "completed"
    },
    "tags": []
   },
   "source": [
    "### Running Models with the Training data\n",
    "Details about the network layers:\n",
    "- A first affine layer has 784 inputs and does 100 affine transforms. These are followed by a Relu\n",
    "- A second affine layer has 100 inputs from the 100 activations of the past layer, and does 100 affine transforms. These are followed by a Relu\n",
    "- A third affine layer has 100 activations and does 2 affine transformations to create an embedding for visualization. There is no non-linearity here.\n",
    "- A final \"logistic regression\" which has an affine transform from 2 inputs to 1 output, which is squeezed through a sigmoid.\n"
   ]
  },
  {
   "cell_type": "code",
   "execution_count": 17,
   "id": "2b9c66db",
   "metadata": {
    "execution": {
     "iopub.execute_input": "2022-10-19T10:38:32.837068Z",
     "iopub.status.busy": "2022-10-19T10:38:32.836466Z",
     "iopub.status.idle": "2022-10-19T10:38:32.849403Z",
     "shell.execute_reply": "2022-10-19T10:38:32.848827Z"
    },
    "papermill": {
     "duration": 0.043481,
     "end_time": "2022-10-19T10:38:32.849512",
     "exception": false,
     "start_time": "2022-10-19T10:38:32.806031",
     "status": "completed"
    },
    "tags": []
   },
   "outputs": [],
   "source": [
    "data = Data(X_train, y_train.reshape(-1,1))\n",
    "sampler = Sampler(data, config.bs, shuffle=True)\n",
    "\n",
    "dl = Dataloader(data, sampler)\n",
    "\n",
    "opt = GD(config.lr)\n",
    "loss = MSE()"
   ]
  },
  {
   "cell_type": "code",
   "execution_count": 18,
   "id": "b275e4c2",
   "metadata": {
    "execution": {
     "iopub.execute_input": "2022-10-19T10:38:32.917395Z",
     "iopub.status.busy": "2022-10-19T10:38:32.914379Z",
     "iopub.status.idle": "2022-10-19T10:38:32.922507Z",
     "shell.execute_reply": "2022-10-19T10:38:32.922019Z"
    },
    "papermill": {
     "duration": 0.04632,
     "end_time": "2022-10-19T10:38:32.922619",
     "exception": false,
     "start_time": "2022-10-19T10:38:32.876299",
     "status": "completed"
    },
    "tags": []
   },
   "outputs": [],
   "source": [
    "training_data_x = X_train\n",
    "testing_data_x = X_test\n",
    "training_data_y = y_train.reshape(-1,1)\n",
    "testing_data_y = y_test.reshape(-1,1)"
   ]
  },
  {
   "cell_type": "code",
   "execution_count": 19,
   "id": "76951160",
   "metadata": {
    "execution": {
     "iopub.execute_input": "2022-10-19T10:38:32.985833Z",
     "iopub.status.busy": "2022-10-19T10:38:32.980429Z",
     "iopub.status.idle": "2022-10-19T10:38:32.997791Z",
     "shell.execute_reply": "2022-10-19T10:38:32.997278Z"
    },
    "papermill": {
     "duration": 0.048594,
     "end_time": "2022-10-19T10:38:32.997906",
     "exception": false,
     "start_time": "2022-10-19T10:38:32.949312",
     "status": "completed"
    },
    "tags": []
   },
   "outputs": [
    {
     "name": "stdout",
     "output_type": "stream",
     "text": [
      "xavier\n",
      "xavier\n",
      "xavier\n",
      "xavier\n",
      "xavier\n"
     ]
    }
   ],
   "source": [
    "layers = [Affine(\"first\", 784, 100), Relu(\"first\"), Affine(\"second\", 100, 100), Relu(\"second\"), Affine(\"third\", 100, 2), Affine(\"last\", 2, 1), Sigmoid(\"last\")]\n",
    "model_nn = Model(layers)\n",
    "model_lr = Model([Affine(\"logits\", 784, 1), Sigmoid(\"sigmoid\")])"
   ]
  },
  {
   "cell_type": "code",
   "execution_count": 20,
   "id": "6eede77a",
   "metadata": {
    "execution": {
     "iopub.execute_input": "2022-10-19T10:38:33.060112Z",
     "iopub.status.busy": "2022-10-19T10:38:33.055774Z",
     "iopub.status.idle": "2022-10-19T10:38:33.071981Z",
     "shell.execute_reply": "2022-10-19T10:38:33.071181Z"
    },
    "papermill": {
     "duration": 0.046982,
     "end_time": "2022-10-19T10:38:33.072103",
     "exception": false,
     "start_time": "2022-10-19T10:38:33.025121",
     "status": "completed"
    },
    "tags": []
   },
   "outputs": [],
   "source": [
    "nn_learner = Learner(loss, model_nn, opt, config.num_epochs)\n",
    "acc_nn = ClfCallback(nn_learner, config.bs, training_data_x , testing_data_x, training_data_y, testing_data_y)\n",
    "nn_learner.set_callbacks([acc_nn])"
   ]
  },
  {
   "cell_type": "code",
   "execution_count": 21,
   "id": "877b6cc7",
   "metadata": {
    "execution": {
     "iopub.execute_input": "2022-10-19T10:38:33.131396Z",
     "iopub.status.busy": "2022-10-19T10:38:33.130696Z",
     "iopub.status.idle": "2022-10-19T10:38:33.144738Z",
     "shell.execute_reply": "2022-10-19T10:38:33.144210Z"
    },
    "papermill": {
     "duration": 0.045715,
     "end_time": "2022-10-19T10:38:33.144855",
     "exception": false,
     "start_time": "2022-10-19T10:38:33.099140",
     "status": "completed"
    },
    "tags": []
   },
   "outputs": [],
   "source": [
    "lr_learner = Learner(loss, model_lr, opt, config.num_epochs)\n",
    "acc_lr = ClfCallback(lr_learner, config.bs, training_data_x , testing_data_x, training_data_y, testing_data_y)\n",
    "lr_learner.set_callbacks([acc_lr])"
   ]
  },
  {
   "cell_type": "code",
   "execution_count": 22,
   "id": "d9b133c3",
   "metadata": {
    "execution": {
     "iopub.execute_input": "2022-10-19T10:38:33.202000Z",
     "iopub.status.busy": "2022-10-19T10:38:33.201400Z",
     "iopub.status.idle": "2022-10-19T10:39:48.988844Z",
     "shell.execute_reply": "2022-10-19T10:39:48.989675Z"
    },
    "papermill": {
     "duration": 75.81789,
     "end_time": "2022-10-19T10:39:48.989817",
     "exception": false,
     "start_time": "2022-10-19T10:38:33.171927",
     "status": "completed"
    },
    "tags": []
   },
   "outputs": [
    {
     "name": "stdout",
     "output_type": "stream",
     "text": [
      "Epoch 0, Loss 0.2271\n",
      "Training Accuracy: 0.7583, Testing Accuracy: 0.7626\n",
      "\n"
     ]
    },
    {
     "name": "stdout",
     "output_type": "stream",
     "text": [
      "Epoch 10, Loss 0.0712\n",
      "Training Accuracy: 0.9259, Testing Accuracy: 0.9400\n",
      "\n"
     ]
    },
    {
     "name": "stdout",
     "output_type": "stream",
     "text": [
      "Epoch 20, Loss 0.049\n",
      "Training Accuracy: 0.9450, Testing Accuracy: 0.9617\n",
      "\n"
     ]
    },
    {
     "name": "stdout",
     "output_type": "stream",
     "text": [
      "Epoch 30, Loss 0.0403\n",
      "Training Accuracy: 0.9531, Testing Accuracy: 0.9662\n",
      "\n"
     ]
    },
    {
     "name": "stdout",
     "output_type": "stream",
     "text": [
      "Epoch 40, Loss 0.0357\n",
      "Training Accuracy: 0.9581, Testing Accuracy: 0.9677\n",
      "\n"
     ]
    },
    {
     "name": "stdout",
     "output_type": "stream",
     "text": [
      "Epoch 50, Loss 0.0326\n",
      "Training Accuracy: 0.9624, Testing Accuracy: 0.9682\n",
      "\n"
     ]
    },
    {
     "name": "stdout",
     "output_type": "stream",
     "text": [
      "Epoch 60, Loss 0.0304\n",
      "Training Accuracy: 0.9648, Testing Accuracy: 0.9688\n",
      "\n"
     ]
    },
    {
     "name": "stdout",
     "output_type": "stream",
     "text": [
      "Epoch 70, Loss 0.0286\n",
      "Training Accuracy: 0.9664, Testing Accuracy: 0.9688\n",
      "\n"
     ]
    },
    {
     "name": "stdout",
     "output_type": "stream",
     "text": [
      "Epoch 80, Loss 0.0272\n",
      "Training Accuracy: 0.9675, Testing Accuracy: 0.9723\n",
      "\n"
     ]
    },
    {
     "name": "stdout",
     "output_type": "stream",
     "text": [
      "Epoch 90, Loss 0.026\n",
      "Training Accuracy: 0.9694, Testing Accuracy: 0.9723\n",
      "\n"
     ]
    },
    {
     "name": "stdout",
     "output_type": "stream",
     "text": [
      "Epoch 100, Loss 0.025\n",
      "Training Accuracy: 0.9707, Testing Accuracy: 0.9728\n",
      "\n"
     ]
    },
    {
     "name": "stdout",
     "output_type": "stream",
     "text": [
      "Epoch 110, Loss 0.024\n",
      "Training Accuracy: 0.9718, Testing Accuracy: 0.9728\n",
      "\n"
     ]
    },
    {
     "name": "stdout",
     "output_type": "stream",
     "text": [
      "Epoch 120, Loss 0.0232\n",
      "Training Accuracy: 0.9725, Testing Accuracy: 0.9728\n",
      "\n"
     ]
    },
    {
     "name": "stdout",
     "output_type": "stream",
     "text": [
      "Epoch 130, Loss 0.0224\n",
      "Training Accuracy: 0.9738, Testing Accuracy: 0.9728\n",
      "\n"
     ]
    },
    {
     "name": "stdout",
     "output_type": "stream",
     "text": [
      "Epoch 140, Loss 0.0217\n",
      "Training Accuracy: 0.9749, Testing Accuracy: 0.9738\n",
      "\n"
     ]
    },
    {
     "name": "stdout",
     "output_type": "stream",
     "text": [
      "Epoch 150, Loss 0.0211\n",
      "Training Accuracy: 0.9755, Testing Accuracy: 0.9738\n",
      "\n"
     ]
    },
    {
     "name": "stdout",
     "output_type": "stream",
     "text": [
      "Epoch 160, Loss 0.0205\n",
      "Training Accuracy: 0.9764, Testing Accuracy: 0.9743\n",
      "\n"
     ]
    },
    {
     "name": "stdout",
     "output_type": "stream",
     "text": [
      "Epoch 170, Loss 0.0199\n",
      "Training Accuracy: 0.9778, Testing Accuracy: 0.9753\n",
      "\n"
     ]
    },
    {
     "name": "stdout",
     "output_type": "stream",
     "text": [
      "Epoch 180, Loss 0.0194\n",
      "Training Accuracy: 0.9783, Testing Accuracy: 0.9758\n",
      "\n"
     ]
    },
    {
     "name": "stdout",
     "output_type": "stream",
     "text": [
      "Epoch 190, Loss 0.0189\n",
      "Training Accuracy: 0.9791, Testing Accuracy: 0.9758\n",
      "\n"
     ]
    },
    {
     "name": "stdout",
     "output_type": "stream",
     "text": [
      "Epoch 200, Loss 0.0184\n",
      "Training Accuracy: 0.9797, Testing Accuracy: 0.9753\n",
      "\n"
     ]
    },
    {
     "name": "stdout",
     "output_type": "stream",
     "text": [
      "Epoch 210, Loss 0.0179\n",
      "Training Accuracy: 0.9802, Testing Accuracy: 0.9763\n",
      "\n"
     ]
    },
    {
     "name": "stdout",
     "output_type": "stream",
     "text": [
      "Epoch 220, Loss 0.0175\n",
      "Training Accuracy: 0.9811, Testing Accuracy: 0.9763\n",
      "\n"
     ]
    },
    {
     "name": "stdout",
     "output_type": "stream",
     "text": [
      "Epoch 230, Loss 0.0171\n",
      "Training Accuracy: 0.9816, Testing Accuracy: 0.9773\n",
      "\n"
     ]
    },
    {
     "name": "stdout",
     "output_type": "stream",
     "text": [
      "Epoch 240, Loss 0.0166\n",
      "Training Accuracy: 0.9825, Testing Accuracy: 0.9778\n",
      "\n"
     ]
    },
    {
     "data": {
      "text/plain": [
       "0.04033140252260696"
      ]
     },
     "execution_count": 22,
     "metadata": {},
     "output_type": "execute_result"
    }
   ],
   "source": [
    "nn_learner.train_loop(dl)"
   ]
  },
  {
   "cell_type": "code",
   "execution_count": 23,
   "id": "e0163366",
   "metadata": {
    "execution": {
     "iopub.execute_input": "2022-10-19T10:39:49.066322Z",
     "iopub.status.busy": "2022-10-19T10:39:49.065758Z",
     "iopub.status.idle": "2022-10-19T10:40:02.421090Z",
     "shell.execute_reply": "2022-10-19T10:40:02.421917Z"
    },
    "papermill": {
     "duration": 13.398508,
     "end_time": "2022-10-19T10:40:02.422060",
     "exception": false,
     "start_time": "2022-10-19T10:39:49.023552",
     "status": "completed"
    },
    "tags": []
   },
   "outputs": [
    {
     "name": "stdout",
     "output_type": "stream",
     "text": [
      "Epoch 0, Loss 0.2449\n",
      "Training Accuracy: 0.6721, Testing Accuracy: 0.6628\n",
      "\n"
     ]
    },
    {
     "name": "stdout",
     "output_type": "stream",
     "text": [
      "Epoch 10, Loss 0.1022\n",
      "Training Accuracy: 0.9140, Testing Accuracy: 0.9224\n",
      "\n"
     ]
    },
    {
     "name": "stdout",
     "output_type": "stream",
     "text": [
      "Epoch 20, Loss 0.0784\n",
      "Training Accuracy: 0.9293, Testing Accuracy: 0.9390\n",
      "\n"
     ]
    },
    {
     "name": "stdout",
     "output_type": "stream",
     "text": [
      "Epoch 30, Loss 0.0676\n",
      "Training Accuracy: 0.9378, Testing Accuracy: 0.9461\n",
      "\n"
     ]
    },
    {
     "name": "stdout",
     "output_type": "stream",
     "text": [
      "Epoch 40, Loss 0.0612\n",
      "Training Accuracy: 0.9425, Testing Accuracy: 0.9511\n",
      "\n"
     ]
    },
    {
     "name": "stdout",
     "output_type": "stream",
     "text": [
      "Epoch 50, Loss 0.0568\n",
      "Training Accuracy: 0.9447, Testing Accuracy: 0.9541\n",
      "\n"
     ]
    },
    {
     "name": "stdout",
     "output_type": "stream",
     "text": [
      "Epoch 60, Loss 0.0536\n",
      "Training Accuracy: 0.9464, Testing Accuracy: 0.9556\n",
      "\n"
     ]
    },
    {
     "name": "stdout",
     "output_type": "stream",
     "text": [
      "Epoch 70, Loss 0.0511\n",
      "Training Accuracy: 0.9479, Testing Accuracy: 0.9567\n",
      "\n"
     ]
    },
    {
     "name": "stdout",
     "output_type": "stream",
     "text": [
      "Epoch 80, Loss 0.0491\n",
      "Training Accuracy: 0.9503, Testing Accuracy: 0.9572\n",
      "\n"
     ]
    },
    {
     "name": "stdout",
     "output_type": "stream",
     "text": [
      "Epoch 90, Loss 0.0474\n",
      "Training Accuracy: 0.9518, Testing Accuracy: 0.9587\n",
      "\n"
     ]
    },
    {
     "name": "stdout",
     "output_type": "stream",
     "text": [
      "Epoch 100, Loss 0.046\n",
      "Training Accuracy: 0.9528, Testing Accuracy: 0.9607\n",
      "\n"
     ]
    },
    {
     "name": "stdout",
     "output_type": "stream",
     "text": [
      "Epoch 110, Loss 0.0448\n",
      "Training Accuracy: 0.9542, Testing Accuracy: 0.9602\n",
      "\n"
     ]
    },
    {
     "name": "stdout",
     "output_type": "stream",
     "text": [
      "Epoch 120, Loss 0.0438\n",
      "Training Accuracy: 0.9553, Testing Accuracy: 0.9617\n",
      "\n"
     ]
    },
    {
     "name": "stdout",
     "output_type": "stream",
     "text": [
      "Epoch 130, Loss 0.0428\n",
      "Training Accuracy: 0.9566, Testing Accuracy: 0.9617\n",
      "\n"
     ]
    },
    {
     "name": "stdout",
     "output_type": "stream",
     "text": [
      "Epoch 140, Loss 0.042\n",
      "Training Accuracy: 0.9569, Testing Accuracy: 0.9617\n",
      "\n"
     ]
    },
    {
     "name": "stdout",
     "output_type": "stream",
     "text": [
      "Epoch 150, Loss 0.0413\n",
      "Training Accuracy: 0.9579, Testing Accuracy: 0.9627\n",
      "\n"
     ]
    },
    {
     "name": "stdout",
     "output_type": "stream",
     "text": [
      "Epoch 160, Loss 0.0406\n",
      "Training Accuracy: 0.9583, Testing Accuracy: 0.9632\n",
      "\n"
     ]
    },
    {
     "name": "stdout",
     "output_type": "stream",
     "text": [
      "Epoch 170, Loss 0.04\n",
      "Training Accuracy: 0.9587, Testing Accuracy: 0.9627\n",
      "\n"
     ]
    },
    {
     "name": "stdout",
     "output_type": "stream",
     "text": [
      "Epoch 180, Loss 0.0394\n",
      "Training Accuracy: 0.9592, Testing Accuracy: 0.9622\n",
      "\n"
     ]
    },
    {
     "name": "stdout",
     "output_type": "stream",
     "text": [
      "Epoch 190, Loss 0.0389\n",
      "Training Accuracy: 0.9595, Testing Accuracy: 0.9622\n",
      "\n"
     ]
    },
    {
     "name": "stdout",
     "output_type": "stream",
     "text": [
      "Epoch 200, Loss 0.0385\n",
      "Training Accuracy: 0.9597, Testing Accuracy: 0.9627\n",
      "\n"
     ]
    },
    {
     "name": "stdout",
     "output_type": "stream",
     "text": [
      "Epoch 210, Loss 0.038\n",
      "Training Accuracy: 0.9596, Testing Accuracy: 0.9637\n",
      "\n"
     ]
    },
    {
     "name": "stdout",
     "output_type": "stream",
     "text": [
      "Epoch 220, Loss 0.0376\n",
      "Training Accuracy: 0.9597, Testing Accuracy: 0.9637\n",
      "\n"
     ]
    },
    {
     "name": "stdout",
     "output_type": "stream",
     "text": [
      "Epoch 230, Loss 0.0372\n",
      "Training Accuracy: 0.9600, Testing Accuracy: 0.9637\n",
      "\n"
     ]
    },
    {
     "name": "stdout",
     "output_type": "stream",
     "text": [
      "Epoch 240, Loss 0.0369\n",
      "Training Accuracy: 0.9604, Testing Accuracy: 0.9642\n",
      "\n"
     ]
    },
    {
     "data": {
      "text/plain": [
       "0.03852390398616397"
      ]
     },
     "execution_count": 23,
     "metadata": {},
     "output_type": "execute_result"
    }
   ],
   "source": [
    "lr_learner.train_loop(dl)"
   ]
  },
  {
   "cell_type": "code",
   "execution_count": 24,
   "id": "ca410940",
   "metadata": {
    "execution": {
     "iopub.execute_input": "2022-10-19T10:40:02.517988Z",
     "iopub.status.busy": "2022-10-19T10:40:02.517412Z",
     "iopub.status.idle": "2022-10-19T10:40:02.742549Z",
     "shell.execute_reply": "2022-10-19T10:40:02.742040Z"
    },
    "papermill": {
     "duration": 0.28003,
     "end_time": "2022-10-19T10:40:02.742676",
     "exception": false,
     "start_time": "2022-10-19T10:40:02.462646",
     "status": "completed"
    },
    "tags": []
   },
   "outputs": [
    {
     "data": {
      "text/plain": [
       "<matplotlib.legend.Legend at 0x7ff5b704a4a8>"
      ]
     },
     "execution_count": 24,
     "metadata": {},
     "output_type": "execute_result"
    },
    {
     "data": {
      "image/png": "[encoded data removed]",
      "text/plain": [
       "<Figure size 1080x720 with 1 Axes>"
      ]
     },
     "metadata": {
      "needs_background": "light"
     },
     "output_type": "display_data"
    }
   ],
   "source": [
    "#comparing the results of NN and LR\n",
    "plt.figure(figsize=(15,10))\n",
    "\n",
    "# Neural Network plots\n",
    "plt.plot(acc_nn.accuracies, 'r-', label = \"Training Accuracies - NN\")\n",
    "plt.plot(acc_nn.test_accuracies, 'g-', label = \"Testing Accuracies - NN\")\n",
    "\n",
    "# Logistic Regression plots\n",
    "plt.plot(acc_lr.accuracies, 'k-', label = \"Training Accuracies - LR\")\n",
    "plt.plot(acc_lr.test_accuracies, 'b-', label = \"Testing Accuracies - LR\")\n",
    "plt.legend()"
   ]
  },
  {
   "cell_type": "markdown",
   "id": "80dfb35c",
   "metadata": {
    "papermill": {
     "duration": 0.042068,
     "end_time": "2022-10-19T10:40:02.826765",
     "exception": false,
     "start_time": "2022-10-19T10:40:02.784697",
     "status": "completed"
    },
    "tags": []
   },
   "source": [
    "#### Plotting the outputs of this layer of the NN.\n"
   ]
  },
  {
   "cell_type": "code",
   "execution_count": 25,
   "id": "45eb2ff5",
   "metadata": {
    "execution": {
     "iopub.execute_input": "2022-10-19T10:40:02.914131Z",
     "iopub.status.busy": "2022-10-19T10:40:02.913077Z",
     "iopub.status.idle": "2022-10-19T10:40:02.933383Z",
     "shell.execute_reply": "2022-10-19T10:40:02.933830Z"
    },
    "papermill": {
     "duration": 0.065818,
     "end_time": "2022-10-19T10:40:02.933960",
     "exception": false,
     "start_time": "2022-10-19T10:40:02.868142",
     "status": "completed"
    },
    "tags": []
   },
   "outputs": [],
   "source": [
    "new_model = Model(layers[:-2])\n",
    "testing_plot = new_model(testing_data_x)"
   ]
  },
  {
   "cell_type": "code",
   "execution_count": 26,
   "id": "4c0a5485",
   "metadata": {
    "execution": {
     "iopub.execute_input": "2022-10-19T10:40:03.027499Z",
     "iopub.status.busy": "2022-10-19T10:40:03.025892Z",
     "iopub.status.idle": "2022-10-19T10:40:03.226137Z",
     "shell.execute_reply": "2022-10-19T10:40:03.226586Z"
    },
    "papermill": {
     "duration": 0.247165,
     "end_time": "2022-10-19T10:40:03.226719",
     "exception": false,
     "start_time": "2022-10-19T10:40:02.979554",
     "status": "completed"
    },
    "tags": []
   },
   "outputs": [
    {
     "data": {
      "text/plain": [
       "Text(0.5, 1.0, 'Outputs')"
      ]
     },
     "execution_count": 26,
     "metadata": {},
     "output_type": "execute_result"
    },
    {
     "data": {
      "image/png": "[encoded data removed]",
      "text/plain": [
       "<Figure size 576x504 with 1 Axes>"
      ]
     },
     "metadata": {
      "needs_background": "light"
     },
     "output_type": "display_data"
    }
   ],
   "source": [
    "# Plotting the scatter plot of points and color coding by class\n",
    "plt.figure(figsize=(8,7))\n",
    "plt.scatter(testing_plot[:,0], testing_plot[:,1], alpha = 0.1, c = y_test.ravel());\n",
    "plt.title('Outputs')"
   ]
  },
  {
   "cell_type": "markdown",
   "id": "a74fcf8f",
   "metadata": {
    "papermill": {
     "duration": 0.043422,
     "end_time": "2022-10-19T10:40:03.313879",
     "exception": false,
     "start_time": "2022-10-19T10:40:03.270457",
     "status": "completed"
    },
    "tags": []
   },
   "source": [
    "Probability contours"
   ]
  },
  {
   "cell_type": "code",
   "execution_count": 27,
   "id": "d0afc8e3",
   "metadata": {
    "execution": {
     "iopub.execute_input": "2022-10-19T10:40:03.410592Z",
     "iopub.status.busy": "2022-10-19T10:40:03.406826Z",
     "iopub.status.idle": "2022-10-19T10:40:03.419178Z",
     "shell.execute_reply": "2022-10-19T10:40:03.418684Z"
    },
    "papermill": {
     "duration": 0.061769,
     "end_time": "2022-10-19T10:40:03.419290",
     "exception": false,
     "start_time": "2022-10-19T10:40:03.357521",
     "status": "completed"
    },
    "tags": []
   },
   "outputs": [],
   "source": [
    "model_prob = Model(layers[-2:]) "
   ]
  },
  {
   "cell_type": "code",
   "execution_count": 28,
   "id": "9b96e238",
   "metadata": {
    "execution": {
     "iopub.execute_input": "2022-10-19T10:40:03.513012Z",
     "iopub.status.busy": "2022-10-19T10:40:03.511331Z",
     "iopub.status.idle": "2022-10-19T10:40:03.525619Z",
     "shell.execute_reply": "2022-10-19T10:40:03.525151Z"
    },
    "papermill": {
     "duration": 0.062662,
     "end_time": "2022-10-19T10:40:03.525736",
     "exception": false,
     "start_time": "2022-10-19T10:40:03.463074",
     "status": "completed"
    },
    "tags": []
   },
   "outputs": [],
   "source": [
    "#creating the x and y ranges according to the above generated plot.\n",
    "x_range = np.linspace(-4, 1, 100) \n",
    "y_range = np.linspace(-6, 6, 100) \n",
    "x_grid, y_grid = np.meshgrid(x_range, y_range) # x_grid and y_grig are of size 100 X 100\n",
    "\n",
    "# converting x_grid and y_grid to continuous arrays\n",
    "x_gridflat = np.ravel(x_grid)\n",
    "y_gridflat = np.ravel(y_grid)\n",
    "\n",
    "# The last layer of the current model takes two columns as input. Hence transpose of np.vstack() is required.\n",
    "X = np.vstack((x_gridflat, y_gridflat)).T\n",
    "\n",
    "prob_contour = model_prob(X).reshape(100,100) "
   ]
  },
  {
   "cell_type": "code",
   "execution_count": 29,
   "id": "da72499a",
   "metadata": {
    "execution": {
     "iopub.execute_input": "2022-10-19T10:40:03.645868Z",
     "iopub.status.busy": "2022-10-19T10:40:03.645194Z",
     "iopub.status.idle": "2022-10-19T10:40:03.882714Z",
     "shell.execute_reply": "2022-10-19T10:40:03.881584Z"
    },
    "papermill": {
     "duration": 0.28556,
     "end_time": "2022-10-19T10:40:03.882835",
     "exception": false,
     "start_time": "2022-10-19T10:40:03.597275",
     "status": "completed"
    },
    "tags": []
   },
   "outputs": [
    {
     "data": {
      "image/png": "[encoded data removed]",
      "text/plain": [
       "<Figure size 720x648 with 1 Axes>"
      ]
     },
     "metadata": {
      "needs_background": "light"
     },
     "output_type": "display_data"
    }
   ],
   "source": [
    "plt.figure(figsize=(10,9))\n",
    "plt.scatter(testing_plot[:,0], testing_plot[:,1], alpha = 0.1, c = y_test.ravel())\n",
    "contours = plt.contour(x_grid,y_grid,prob_contour)\n",
    "plt.title('Probability Contours')\n",
    "plt.clabel(contours, inline = True );"
   ]
  },
  {
   "cell_type": "code",
   "execution_count": null,
   "id": "e81b4ac7",
   "metadata": {
    "papermill": {
     "duration": 0.046545,
     "end_time": "2022-10-19T10:40:03.976231",
     "exception": false,
     "start_time": "2022-10-19T10:40:03.929686",
     "status": "completed"
    },
    "tags": []
   },
   "outputs": [],
   "source": []
  }
 ],
 "metadata": {
  "kernelspec": {
   "display_name": "Python 3",
   "language": "python",
   "name": "python3"
  },
  "language_info": {
   "codemirror_mode": {
    "name": "ipython",
    "version": 3
   },
   "file_extension": ".py",
   "mimetype": "text/x-python",
   "name": "python",
   "nbconvert_exporter": "python",
   "pygments_lexer": "ipython3",
   "version": "3.6.15"
  },
  "papermill": {
   "default_parameters": {},
   "duration": 97.960297,
   "end_time": "2022-10-19T10:40:04.441496",
   "environment_variables": {},
   "exception": null,
   "input_path": "2020-08-11-part2.ipynb",
   "output_path": "2020-08-11-part2.ipynb",
   "parameters": {},
   "start_time": "2022-10-19T10:38:26.481199",
   "version": "2.3.3"
  }
 },
 "nbformat": 4,
 "nbformat_minor": 5
}