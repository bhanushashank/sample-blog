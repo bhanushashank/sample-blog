{
 "cells": [
  {
   "cell_type": "markdown",
   "id": "98380cd3",
   "metadata": {
    "papermill": {
     "duration": 0.02784,
     "end_time": "2022-04-16T10:10:32.475654",
     "exception": false,
     "start_time": "2022-04-16T10:10:32.447814",
     "status": "completed"
    },
    "tags": []
   },
   "source": [
    "# Distinguish Your Own Digits (DYOD)"
   ]
  },
  {
   "cell_type": "markdown",
   "id": "ef31240d",
   "metadata": {
    "papermill": {
     "duration": 0.024857,
     "end_time": "2022-04-16T10:10:32.524590",
     "exception": false,
     "start_time": "2022-04-16T10:10:32.499733",
     "status": "completed"
    },
    "tags": []
   },
   "source": [
    "You are going to write a classifier that distinguishes between the number 3 and number 8."
   ]
  },
  {
   "cell_type": "code",
   "execution_count": 1,
   "id": "b15c8646",
   "metadata": {
    "execution": {
     "iopub.execute_input": "2022-04-16T10:10:32.581814Z",
     "iopub.status.busy": "2022-04-16T10:10:32.581271Z",
     "iopub.status.idle": "2022-04-16T10:10:32.592383Z",
     "shell.execute_reply": "2022-04-16T10:10:32.591956Z"
    },
    "papermill": {
     "duration": 0.044576,
     "end_time": "2022-04-16T10:10:32.592512",
     "exception": false,
     "start_time": "2022-04-16T10:10:32.547936",
     "status": "completed"
    },
    "tags": []
   },
   "outputs": [],
   "source": [
    "%load_ext autoreload\n",
    "%autoreload 2"
   ]
  },
  {
   "cell_type": "code",
   "execution_count": 2,
   "id": "22ef38dc",
   "metadata": {
    "execution": {
     "iopub.execute_input": "2022-04-16T10:10:32.644310Z",
     "iopub.status.busy": "2022-04-16T10:10:32.643796Z",
     "iopub.status.idle": "2022-04-16T10:10:33.176942Z",
     "shell.execute_reply": "2022-04-16T10:10:33.177432Z"
    },
    "papermill": {
     "duration": 0.561402,
     "end_time": "2022-04-16T10:10:33.177607",
     "exception": false,
     "start_time": "2022-04-16T10:10:32.616205",
     "status": "completed"
    },
    "tags": []
   },
   "outputs": [],
   "source": [
    "%matplotlib inline\n",
    "import numpy as np\n",
    "import matplotlib.pyplot as plt\n",
    "import pandas as pd"
   ]
  },
  {
   "cell_type": "markdown",
   "id": "ba036198",
   "metadata": {
    "papermill": {
     "duration": 0.023498,
     "end_time": "2022-04-16T10:10:33.225554",
     "exception": false,
     "start_time": "2022-04-16T10:10:33.202056",
     "status": "completed"
    },
    "tags": []
   },
   "source": [
    "From the command line run `pip install mnist`. This is a library that will help you bring down the mnist dataset. If you run this from a notebook, you need to put  `!pip install mnist` in a cell by itself."
   ]
  },
  {
   "cell_type": "code",
   "execution_count": 3,
   "id": "bb6ad8a1",
   "metadata": {
    "execution": {
     "iopub.execute_input": "2022-04-16T10:10:33.276687Z",
     "iopub.status.busy": "2022-04-16T10:10:33.276184Z",
     "iopub.status.idle": "2022-04-16T10:10:35.171274Z",
     "shell.execute_reply": "2022-04-16T10:10:35.170727Z"
    },
    "papermill": {
     "duration": 1.922176,
     "end_time": "2022-04-16T10:10:35.171410",
     "exception": false,
     "start_time": "2022-04-16T10:10:33.249234",
     "status": "completed"
    },
    "tags": []
   },
   "outputs": [
    {
     "name": "stdout",
     "output_type": "stream",
     "text": [
      "Collecting mnist\r\n"
     ]
    },
    {
     "name": "stdout",
     "output_type": "stream",
     "text": [
      "  Downloading mnist-0.2.2-py2.py3-none-any.whl (3.5 kB)\r\n",
      "Requirement already satisfied: numpy in /opt/hostedtoolcache/Python/3.6.15/x64/lib/python3.6/site-packages (from mnist) (1.19.5)\r\n"
     ]
    },
    {
     "name": "stdout",
     "output_type": "stream",
     "text": [
      "Installing collected packages: mnist\r\n",
      "Successfully installed mnist-0.2.2\r\n"
     ]
    }
   ],
   "source": [
    "!pip install mnist"
   ]
  },
  {
   "cell_type": "markdown",
   "id": "69df9c9a",
   "metadata": {
    "papermill": {
     "duration": 0.024411,
     "end_time": "2022-04-16T10:10:35.220571",
     "exception": false,
     "start_time": "2022-04-16T10:10:35.196160",
     "status": "completed"
    },
    "tags": []
   },
   "source": [
    "## Preparing the Data"
   ]
  },
  {
   "cell_type": "code",
   "execution_count": 4,
   "id": "7f69d806",
   "metadata": {
    "execution": {
     "iopub.execute_input": "2022-04-16T10:10:35.288130Z",
     "iopub.status.busy": "2022-04-16T10:10:35.287593Z",
     "iopub.status.idle": "2022-04-16T10:10:35.307441Z",
     "shell.execute_reply": "2022-04-16T10:10:35.306968Z"
    },
    "papermill": {
     "duration": 0.062637,
     "end_time": "2022-04-16T10:10:35.307558",
     "exception": false,
     "start_time": "2022-04-16T10:10:35.244921",
     "status": "completed"
    },
    "tags": []
   },
   "outputs": [],
   "source": [
    "import mnist"
   ]
  },
  {
   "cell_type": "code",
   "execution_count": 5,
   "id": "a411e44f",
   "metadata": {
    "execution": {
     "iopub.execute_input": "2022-04-16T10:10:35.372638Z",
     "iopub.status.busy": "2022-04-16T10:10:35.372129Z",
     "iopub.status.idle": "2022-04-16T10:10:35.889288Z",
     "shell.execute_reply": "2022-04-16T10:10:35.889729Z"
    },
    "papermill": {
     "duration": 0.557821,
     "end_time": "2022-04-16T10:10:35.889891",
     "exception": false,
     "start_time": "2022-04-16T10:10:35.332070",
     "status": "completed"
    },
    "tags": []
   },
   "outputs": [],
   "source": [
    "train_images = mnist.train_images()\n",
    "train_labels = mnist.train_labels()"
   ]
  },
  {
   "cell_type": "code",
   "execution_count": 6,
   "id": "dceab3a5",
   "metadata": {
    "execution": {
     "iopub.execute_input": "2022-04-16T10:10:35.960374Z",
     "iopub.status.busy": "2022-04-16T10:10:35.959586Z",
     "iopub.status.idle": "2022-04-16T10:10:35.965016Z",
     "shell.execute_reply": "2022-04-16T10:10:35.964588Z"
    },
    "papermill": {
     "duration": 0.050468,
     "end_time": "2022-04-16T10:10:35.965120",
     "exception": false,
     "start_time": "2022-04-16T10:10:35.914652",
     "status": "completed"
    },
    "tags": []
   },
   "outputs": [
    {
     "data": {
      "text/plain": [
       "((60000, 28, 28), (60000,))"
      ]
     },
     "execution_count": 6,
     "metadata": {},
     "output_type": "execute_result"
    }
   ],
   "source": [
    "train_images.shape, train_labels.shape"
   ]
  },
  {
   "cell_type": "code",
   "execution_count": 7,
   "id": "f50dc2bb",
   "metadata": {
    "execution": {
     "iopub.execute_input": "2022-04-16T10:10:36.032026Z",
     "iopub.status.busy": "2022-04-16T10:10:36.030918Z",
     "iopub.status.idle": "2022-04-16T10:10:36.159655Z",
     "shell.execute_reply": "2022-04-16T10:10:36.160135Z"
    },
    "papermill": {
     "duration": 0.170648,
     "end_time": "2022-04-16T10:10:36.160305",
     "exception": false,
     "start_time": "2022-04-16T10:10:35.989657",
     "status": "completed"
    },
    "tags": []
   },
   "outputs": [],
   "source": [
    "test_images = mnist.test_images()\n",
    "test_labels = mnist.test_labels()"
   ]
  },
  {
   "cell_type": "code",
   "execution_count": 8,
   "id": "fc38cf1b",
   "metadata": {
    "execution": {
     "iopub.execute_input": "2022-04-16T10:10:36.226273Z",
     "iopub.status.busy": "2022-04-16T10:10:36.219968Z",
     "iopub.status.idle": "2022-04-16T10:10:36.230951Z",
     "shell.execute_reply": "2022-04-16T10:10:36.230547Z"
    },
    "papermill": {
     "duration": 0.045522,
     "end_time": "2022-04-16T10:10:36.231060",
     "exception": false,
     "start_time": "2022-04-16T10:10:36.185538",
     "status": "completed"
    },
    "tags": []
   },
   "outputs": [
    {
     "data": {
      "text/plain": [
       "((10000, 28, 28), (10000,))"
      ]
     },
     "execution_count": 8,
     "metadata": {},
     "output_type": "execute_result"
    }
   ],
   "source": [
    "test_images.shape, test_labels.shape"
   ]
  },
  {
   "cell_type": "code",
   "execution_count": 9,
   "id": "f9ed8fe0",
   "metadata": {
    "execution": {
     "iopub.execute_input": "2022-04-16T10:10:36.309586Z",
     "iopub.status.busy": "2022-04-16T10:10:36.291857Z",
     "iopub.status.idle": "2022-04-16T10:10:36.424497Z",
     "shell.execute_reply": "2022-04-16T10:10:36.424015Z"
    },
    "papermill": {
     "duration": 0.168526,
     "end_time": "2022-04-16T10:10:36.424630",
     "exception": false,
     "start_time": "2022-04-16T10:10:36.256104",
     "status": "completed"
    },
    "tags": []
   },
   "outputs": [
    {
     "name": "stdout",
     "output_type": "stream",
     "text": [
      "2\n"
     ]
    },
    {
     "data": {
      "text/plain": [
       "<matplotlib.image.AxesImage at 0x7fa2a6bf9978>"
      ]
     },
     "execution_count": 9,
     "metadata": {},
     "output_type": "execute_result"
    },
    {
     "data": {
      "image/png": "[encoded data removed]",
      "text/plain": [
       "<Figure size 432x288 with 1 Axes>"
      ]
     },
     "metadata": {
      "needs_background": "light"
     },
     "output_type": "display_data"
    }
   ],
   "source": [
    "image_index = 7776 # You may select anything up to 60,000\n",
    "print(train_labels[image_index]) \n",
    "plt.imshow(train_images[image_index], cmap='Greys')"
   ]
  },
  {
   "cell_type": "markdown",
   "id": "a8d2388d",
   "metadata": {
    "papermill": {
     "duration": 0.025914,
     "end_time": "2022-04-16T10:10:36.477007",
     "exception": false,
     "start_time": "2022-04-16T10:10:36.451093",
     "status": "completed"
    },
    "tags": []
   },
   "source": [
    "## Filter data to get 3 and 8 out"
   ]
  },
  {
   "cell_type": "code",
   "execution_count": 10,
   "id": "776f7fc7",
   "metadata": {
    "execution": {
     "iopub.execute_input": "2022-04-16T10:10:36.544310Z",
     "iopub.status.busy": "2022-04-16T10:10:36.539861Z",
     "iopub.status.idle": "2022-04-16T10:10:36.554347Z",
     "shell.execute_reply": "2022-04-16T10:10:36.553933Z"
    },
    "papermill": {
     "duration": 0.051404,
     "end_time": "2022-04-16T10:10:36.554464",
     "exception": false,
     "start_time": "2022-04-16T10:10:36.503060",
     "status": "completed"
    },
    "tags": []
   },
   "outputs": [],
   "source": [
    "train_filter = np.where((train_labels == 3 ) | (train_labels == 8))\n",
    "test_filter = np.where((test_labels == 3) | (test_labels == 8))\n",
    "X_train, y_train = train_images[train_filter], train_labels[train_filter]\n",
    "X_test, y_test = test_images[test_filter], test_labels[test_filter]"
   ]
  },
  {
   "cell_type": "markdown",
   "id": "948f0b7e",
   "metadata": {
    "papermill": {
     "duration": 0.02592,
     "end_time": "2022-04-16T10:10:36.606515",
     "exception": false,
     "start_time": "2022-04-16T10:10:36.580595",
     "status": "completed"
    },
    "tags": []
   },
   "source": [
    "We normalize the pizel values in the 0 to 1 range"
   ]
  },
  {
   "cell_type": "code",
   "execution_count": 11,
   "id": "ee4c2166",
   "metadata": {
    "execution": {
     "iopub.execute_input": "2022-04-16T10:10:36.662223Z",
     "iopub.status.busy": "2022-04-16T10:10:36.661706Z",
     "iopub.status.idle": "2022-04-16T10:10:36.711728Z",
     "shell.execute_reply": "2022-04-16T10:10:36.711164Z"
    },
    "papermill": {
     "duration": 0.079408,
     "end_time": "2022-04-16T10:10:36.711871",
     "exception": false,
     "start_time": "2022-04-16T10:10:36.632463",
     "status": "completed"
    },
    "tags": []
   },
   "outputs": [],
   "source": [
    "X_train = X_train/255.\n",
    "X_test = X_test/255."
   ]
  },
  {
   "cell_type": "markdown",
   "id": "ddcf4fab",
   "metadata": {
    "papermill": {
     "duration": 0.026129,
     "end_time": "2022-04-16T10:10:36.765108",
     "exception": false,
     "start_time": "2022-04-16T10:10:36.738979",
     "status": "completed"
    },
    "tags": []
   },
   "source": [
    "And setup the labels as 1 (when the digit is 3) and 0 (when the digit is 8)"
   ]
  },
  {
   "cell_type": "code",
   "execution_count": 12,
   "id": "7dc908f2",
   "metadata": {
    "execution": {
     "iopub.execute_input": "2022-04-16T10:10:36.825000Z",
     "iopub.status.busy": "2022-04-16T10:10:36.824474Z",
     "iopub.status.idle": "2022-04-16T10:10:36.833953Z",
     "shell.execute_reply": "2022-04-16T10:10:36.834383Z"
    },
    "papermill": {
     "duration": 0.043405,
     "end_time": "2022-04-16T10:10:36.834510",
     "exception": false,
     "start_time": "2022-04-16T10:10:36.791105",
     "status": "completed"
    },
    "tags": []
   },
   "outputs": [],
   "source": [
    "y_train = 1*(y_train==3)\n",
    "y_test = 1*(y_test==3)"
   ]
  },
  {
   "cell_type": "code",
   "execution_count": 13,
   "id": "01e4e969",
   "metadata": {
    "execution": {
     "iopub.execute_input": "2022-04-16T10:10:36.890138Z",
     "iopub.status.busy": "2022-04-16T10:10:36.889554Z",
     "iopub.status.idle": "2022-04-16T10:10:36.902114Z",
     "shell.execute_reply": "2022-04-16T10:10:36.901702Z"
    },
    "papermill": {
     "duration": 0.042043,
     "end_time": "2022-04-16T10:10:36.902224",
     "exception": false,
     "start_time": "2022-04-16T10:10:36.860181",
     "status": "completed"
    },
    "tags": []
   },
   "outputs": [
    {
     "data": {
      "text/plain": [
       "((11982, 28, 28), (1984, 28, 28))"
      ]
     },
     "execution_count": 13,
     "metadata": {},
     "output_type": "execute_result"
    }
   ],
   "source": [
    "X_train.shape, X_test.shape"
   ]
  },
  {
   "cell_type": "markdown",
   "id": "5ccf3f85",
   "metadata": {
    "papermill": {
     "duration": 0.0259,
     "end_time": "2022-04-16T10:10:36.954099",
     "exception": false,
     "start_time": "2022-04-16T10:10:36.928199",
     "status": "completed"
    },
    "tags": []
   },
   "source": [
    "We reshape the data to flatten the image pixels into a set of features or co-variates:"
   ]
  },
  {
   "cell_type": "code",
   "execution_count": 14,
   "id": "5286a4a3",
   "metadata": {
    "execution": {
     "iopub.execute_input": "2022-04-16T10:10:37.011431Z",
     "iopub.status.busy": "2022-04-16T10:10:37.010862Z",
     "iopub.status.idle": "2022-04-16T10:10:37.023701Z",
     "shell.execute_reply": "2022-04-16T10:10:37.023289Z"
    },
    "papermill": {
     "duration": 0.043598,
     "end_time": "2022-04-16T10:10:37.023807",
     "exception": false,
     "start_time": "2022-04-16T10:10:36.980209",
     "status": "completed"
    },
    "tags": []
   },
   "outputs": [
    {
     "data": {
      "text/plain": [
       "((11982, 784), (1984, 784))"
      ]
     },
     "execution_count": 14,
     "metadata": {},
     "output_type": "execute_result"
    }
   ],
   "source": [
    "X_train = X_train.reshape(X_train.shape[0], -1)\n",
    "X_test = X_test.reshape(X_test.shape[0], -1)\n",
    "X_train.shape, X_test.shape"
   ]
  },
  {
   "cell_type": "code",
   "execution_count": 15,
   "id": "73c5f88a",
   "metadata": {
    "execution": {
     "iopub.execute_input": "2022-04-16T10:10:37.086507Z",
     "iopub.status.busy": "2022-04-16T10:10:37.086006Z",
     "iopub.status.idle": "2022-04-16T10:10:37.101918Z",
     "shell.execute_reply": "2022-04-16T10:10:37.101512Z"
    },
    "papermill": {
     "duration": 0.051882,
     "end_time": "2022-04-16T10:10:37.102021",
     "exception": false,
     "start_time": "2022-04-16T10:10:37.050139",
     "status": "completed"
    },
    "tags": []
   },
   "outputs": [],
   "source": [
    "#Impoting functions from 'Kudzu'\n",
    "from kudzu.model import Model\n",
    "from kudzu.train import Learner\n",
    "from kudzu.optim import GD\n",
    "from kudzu.data import Data, Sampler,Dataloader\n",
    "\n",
    "from kudzu.callbacks import AccCallback\n",
    "from kudzu.callbacks import ClfCallback\n",
    "\n",
    "from kudzu.loss import MSE\n",
    "\n",
    "from kudzu.layer import Sigmoid,Relu\n",
    "from kudzu.layer import Affine"
   ]
  },
  {
   "cell_type": "markdown",
   "id": "bc01172a",
   "metadata": {
    "papermill": {
     "duration": 0.026251,
     "end_time": "2022-04-16T10:10:37.154633",
     "exception": false,
     "start_time": "2022-04-16T10:10:37.128382",
     "status": "completed"
    },
    "tags": []
   },
   "source": [
    "### Let us create a `Config` class, to store important parameters. \n",
    "This class essentially plays the role of a dictionary."
   ]
  },
  {
   "cell_type": "code",
   "execution_count": 16,
   "id": "978281aa",
   "metadata": {
    "execution": {
     "iopub.execute_input": "2022-04-16T10:10:37.219913Z",
     "iopub.status.busy": "2022-04-16T10:10:37.217713Z",
     "iopub.status.idle": "2022-04-16T10:10:37.224906Z",
     "shell.execute_reply": "2022-04-16T10:10:37.224479Z"
    },
    "papermill": {
     "duration": 0.044162,
     "end_time": "2022-04-16T10:10:37.225003",
     "exception": false,
     "start_time": "2022-04-16T10:10:37.180841",
     "status": "completed"
    },
    "tags": []
   },
   "outputs": [],
   "source": [
    "class Config:\n",
    "    pass\n",
    "config = Config()\n",
    "config.lr = 0.001\n",
    "config.num_epochs = 250\n",
    "config.bs = 50"
   ]
  },
  {
   "cell_type": "markdown",
   "id": "1385fa59",
   "metadata": {
    "papermill": {
     "duration": 0.026194,
     "end_time": "2022-04-16T10:10:37.277600",
     "exception": false,
     "start_time": "2022-04-16T10:10:37.251406",
     "status": "completed"
    },
    "tags": []
   },
   "source": [
    "### Running Models with the Training data\n",
    "Details about the network layers:\n",
    "- A first affine layer has 784 inputs and does 100 affine transforms. These are followed by a Relu\n",
    "- A second affine layer has 100 inputs from the 100 activations of the past layer, and does 100 affine transforms. These are followed by a Relu\n",
    "- A third affine layer has 100 activations and does 2 affine transformations to create an embedding for visualization. There is no non-linearity here.\n",
    "- A final \"logistic regression\" which has an affine transform from 2 inputs to 1 output, which is squeezed through a sigmoid.\n"
   ]
  },
  {
   "cell_type": "code",
   "execution_count": 17,
   "id": "2b9c66db",
   "metadata": {
    "execution": {
     "iopub.execute_input": "2022-04-16T10:10:37.344305Z",
     "iopub.status.busy": "2022-04-16T10:10:37.335899Z",
     "iopub.status.idle": "2022-04-16T10:10:37.347332Z",
     "shell.execute_reply": "2022-04-16T10:10:37.347723Z"
    },
    "papermill": {
     "duration": 0.043884,
     "end_time": "2022-04-16T10:10:37.347846",
     "exception": false,
     "start_time": "2022-04-16T10:10:37.303962",
     "status": "completed"
    },
    "tags": []
   },
   "outputs": [],
   "source": [
    "data = Data(X_train, y_train.reshape(-1,1))\n",
    "sampler = Sampler(data, config.bs, shuffle=True)\n",
    "\n",
    "dl = Dataloader(data, sampler)\n",
    "\n",
    "opt = GD(config.lr)\n",
    "loss = MSE()"
   ]
  },
  {
   "cell_type": "code",
   "execution_count": 18,
   "id": "b275e4c2",
   "metadata": {
    "execution": {
     "iopub.execute_input": "2022-04-16T10:10:37.404129Z",
     "iopub.status.busy": "2022-04-16T10:10:37.403145Z",
     "iopub.status.idle": "2022-04-16T10:10:37.415076Z",
     "shell.execute_reply": "2022-04-16T10:10:37.414562Z"
    },
    "papermill": {
     "duration": 0.040945,
     "end_time": "2022-04-16T10:10:37.415177",
     "exception": false,
     "start_time": "2022-04-16T10:10:37.374232",
     "status": "completed"
    },
    "tags": []
   },
   "outputs": [],
   "source": [
    "training_data_x = X_train\n",
    "testing_data_x = X_test\n",
    "training_data_y = y_train.reshape(-1,1)\n",
    "testing_data_y = y_test.reshape(-1,1)"
   ]
  },
  {
   "cell_type": "code",
   "execution_count": 19,
   "id": "76951160",
   "metadata": {
    "execution": {
     "iopub.execute_input": "2022-04-16T10:10:37.471629Z",
     "iopub.status.busy": "2022-04-16T10:10:37.471082Z",
     "iopub.status.idle": "2022-04-16T10:10:37.485904Z",
     "shell.execute_reply": "2022-04-16T10:10:37.485493Z"
    },
    "papermill": {
     "duration": 0.044496,
     "end_time": "2022-04-16T10:10:37.486008",
     "exception": false,
     "start_time": "2022-04-16T10:10:37.441512",
     "status": "completed"
    },
    "tags": []
   },
   "outputs": [
    {
     "name": "stdout",
     "output_type": "stream",
     "text": [
      "xavier\n",
      "xavier\n",
      "xavier\n",
      "xavier\n",
      "xavier\n"
     ]
    }
   ],
   "source": [
    "layers = [Affine(\"first\", 784, 100), Relu(\"first\"), Affine(\"second\", 100, 100), Relu(\"second\"), Affine(\"third\", 100, 2), Affine(\"last\", 2, 1), Sigmoid(\"last\")]\n",
    "model_nn = Model(layers)\n",
    "model_lr = Model([Affine(\"logits\", 784, 1), Sigmoid(\"sigmoid\")])"
   ]
  },
  {
   "cell_type": "code",
   "execution_count": 20,
   "id": "6eede77a",
   "metadata": {
    "execution": {
     "iopub.execute_input": "2022-04-16T10:10:37.542709Z",
     "iopub.status.busy": "2022-04-16T10:10:37.542211Z",
     "iopub.status.idle": "2022-04-16T10:10:37.554017Z",
     "shell.execute_reply": "2022-04-16T10:10:37.553612Z"
    },
    "papermill": {
     "duration": 0.041451,
     "end_time": "2022-04-16T10:10:37.554118",
     "exception": false,
     "start_time": "2022-04-16T10:10:37.512667",
     "status": "completed"
    },
    "tags": []
   },
   "outputs": [],
   "source": [
    "nn_learner = Learner(loss, model_nn, opt, config.num_epochs)\n",
    "acc_nn = ClfCallback(nn_learner, config.bs, training_data_x , testing_data_x, training_data_y, testing_data_y)\n",
    "nn_learner.set_callbacks([acc_nn])"
   ]
  },
  {
   "cell_type": "code",
   "execution_count": 21,
   "id": "877b6cc7",
   "metadata": {
    "execution": {
     "iopub.execute_input": "2022-04-16T10:10:37.610420Z",
     "iopub.status.busy": "2022-04-16T10:10:37.609924Z",
     "iopub.status.idle": "2022-04-16T10:10:37.622057Z",
     "shell.execute_reply": "2022-04-16T10:10:37.621653Z"
    },
    "papermill": {
     "duration": 0.041474,
     "end_time": "2022-04-16T10:10:37.622160",
     "exception": false,
     "start_time": "2022-04-16T10:10:37.580686",
     "status": "completed"
    },
    "tags": []
   },
   "outputs": [],
   "source": [
    "lr_learner = Learner(loss, model_lr, opt, config.num_epochs)\n",
    "acc_lr = ClfCallback(lr_learner, config.bs, training_data_x , testing_data_x, training_data_y, testing_data_y)\n",
    "lr_learner.set_callbacks([acc_lr])"
   ]
  },
  {
   "cell_type": "code",
   "execution_count": 22,
   "id": "d9b133c3",
   "metadata": {
    "execution": {
     "iopub.execute_input": "2022-04-16T10:10:37.679908Z",
     "iopub.status.busy": "2022-04-16T10:10:37.679384Z",
     "iopub.status.idle": "2022-04-16T10:11:53.279089Z",
     "shell.execute_reply": "2022-04-16T10:11:53.279858Z"
    },
    "papermill": {
     "duration": 75.631127,
     "end_time": "2022-04-16T10:11:53.280013",
     "exception": false,
     "start_time": "2022-04-16T10:10:37.648886",
     "status": "completed"
    },
    "tags": []
   },
   "outputs": [
    {
     "name": "stdout",
     "output_type": "stream",
     "text": [
      "Epoch 0, Loss 0.221\n",
      "Training Accuracy: 0.8272, Testing Accuracy: 0.8216\n",
      "\n"
     ]
    },
    {
     "name": "stdout",
     "output_type": "stream",
     "text": [
      "Epoch 10, Loss 0.055\n",
      "Training Accuracy: 0.9420, Testing Accuracy: 0.9567\n",
      "\n"
     ]
    },
    {
     "name": "stdout",
     "output_type": "stream",
     "text": [
      "Epoch 20, Loss 0.0407\n",
      "Training Accuracy: 0.9529, Testing Accuracy: 0.9647\n",
      "\n"
     ]
    },
    {
     "name": "stdout",
     "output_type": "stream",
     "text": [
      "Epoch 30, Loss 0.0347\n",
      "Training Accuracy: 0.9595, Testing Accuracy: 0.9672\n",
      "\n"
     ]
    },
    {
     "name": "stdout",
     "output_type": "stream",
     "text": [
      "Epoch 40, Loss 0.0313\n",
      "Training Accuracy: 0.9644, Testing Accuracy: 0.9698\n",
      "\n"
     ]
    },
    {
     "name": "stdout",
     "output_type": "stream",
     "text": [
      "Epoch 50, Loss 0.029\n",
      "Training Accuracy: 0.9664, Testing Accuracy: 0.9718\n",
      "\n"
     ]
    },
    {
     "name": "stdout",
     "output_type": "stream",
     "text": [
      "Epoch 60, Loss 0.0273\n",
      "Training Accuracy: 0.9690, Testing Accuracy: 0.9713\n",
      "\n"
     ]
    },
    {
     "name": "stdout",
     "output_type": "stream",
     "text": [
      "Epoch 70, Loss 0.0259\n",
      "Training Accuracy: 0.9698, Testing Accuracy: 0.9713\n",
      "\n"
     ]
    },
    {
     "name": "stdout",
     "output_type": "stream",
     "text": [
      "Epoch 80, Loss 0.0248\n",
      "Training Accuracy: 0.9712, Testing Accuracy: 0.9708\n",
      "\n"
     ]
    },
    {
     "name": "stdout",
     "output_type": "stream",
     "text": [
      "Epoch 90, Loss 0.0239\n",
      "Training Accuracy: 0.9720, Testing Accuracy: 0.9713\n",
      "\n"
     ]
    },
    {
     "name": "stdout",
     "output_type": "stream",
     "text": [
      "Epoch 100, Loss 0.0231\n",
      "Training Accuracy: 0.9730, Testing Accuracy: 0.9718\n",
      "\n"
     ]
    },
    {
     "name": "stdout",
     "output_type": "stream",
     "text": [
      "Epoch 110, Loss 0.0224\n",
      "Training Accuracy: 0.9738, Testing Accuracy: 0.9718\n",
      "\n"
     ]
    },
    {
     "name": "stdout",
     "output_type": "stream",
     "text": [
      "Epoch 120, Loss 0.0217\n",
      "Training Accuracy: 0.9746, Testing Accuracy: 0.9718\n",
      "\n"
     ]
    },
    {
     "name": "stdout",
     "output_type": "stream",
     "text": [
      "Epoch 130, Loss 0.0211\n",
      "Training Accuracy: 0.9752, Testing Accuracy: 0.9728\n",
      "\n"
     ]
    },
    {
     "name": "stdout",
     "output_type": "stream",
     "text": [
      "Epoch 140, Loss 0.0206\n",
      "Training Accuracy: 0.9760, Testing Accuracy: 0.9733\n",
      "\n"
     ]
    },
    {
     "name": "stdout",
     "output_type": "stream",
     "text": [
      "Epoch 150, Loss 0.02\n",
      "Training Accuracy: 0.9770, Testing Accuracy: 0.9733\n",
      "\n"
     ]
    },
    {
     "name": "stdout",
     "output_type": "stream",
     "text": [
      "Epoch 160, Loss 0.0195\n",
      "Training Accuracy: 0.9775, Testing Accuracy: 0.9738\n",
      "\n"
     ]
    },
    {
     "name": "stdout",
     "output_type": "stream",
     "text": [
      "Epoch 170, Loss 0.0191\n",
      "Training Accuracy: 0.9781, Testing Accuracy: 0.9738\n",
      "\n"
     ]
    },
    {
     "name": "stdout",
     "output_type": "stream",
     "text": [
      "Epoch 180, Loss 0.0186\n",
      "Training Accuracy: 0.9786, Testing Accuracy: 0.9738\n",
      "\n"
     ]
    },
    {
     "name": "stdout",
     "output_type": "stream",
     "text": [
      "Epoch 190, Loss 0.0182\n",
      "Training Accuracy: 0.9794, Testing Accuracy: 0.9738\n",
      "\n"
     ]
    },
    {
     "name": "stdout",
     "output_type": "stream",
     "text": [
      "Epoch 200, Loss 0.0177\n",
      "Training Accuracy: 0.9802, Testing Accuracy: 0.9738\n",
      "\n"
     ]
    },
    {
     "name": "stdout",
     "output_type": "stream",
     "text": [
      "Epoch 210, Loss 0.0173\n",
      "Training Accuracy: 0.9808, Testing Accuracy: 0.9738\n",
      "\n"
     ]
    },
    {
     "name": "stdout",
     "output_type": "stream",
     "text": [
      "Epoch 220, Loss 0.017\n",
      "Training Accuracy: 0.9818, Testing Accuracy: 0.9743\n",
      "\n"
     ]
    },
    {
     "name": "stdout",
     "output_type": "stream",
     "text": [
      "Epoch 230, Loss 0.0166\n",
      "Training Accuracy: 0.9827, Testing Accuracy: 0.9748\n",
      "\n"
     ]
    },
    {
     "name": "stdout",
     "output_type": "stream",
     "text": [
      "Epoch 240, Loss 0.0162\n",
      "Training Accuracy: 0.9831, Testing Accuracy: 0.9738\n",
      "\n"
     ]
    },
    {
     "data": {
      "text/plain": [
       "0.0045210626298236595"
      ]
     },
     "execution_count": 22,
     "metadata": {},
     "output_type": "execute_result"
    }
   ],
   "source": [
    "nn_learner.train_loop(dl)"
   ]
  },
  {
   "cell_type": "code",
   "execution_count": 23,
   "id": "e0163366",
   "metadata": {
    "execution": {
     "iopub.execute_input": "2022-04-16T10:11:53.379673Z",
     "iopub.status.busy": "2022-04-16T10:11:53.379106Z",
     "iopub.status.idle": "2022-04-16T10:12:06.954506Z",
     "shell.execute_reply": "2022-04-16T10:12:06.955328Z"
    },
    "papermill": {
     "duration": 13.641386,
     "end_time": "2022-04-16T10:12:06.955485",
     "exception": false,
     "start_time": "2022-04-16T10:11:53.314099",
     "status": "completed"
    },
    "tags": []
   },
   "outputs": [
    {
     "name": "stdout",
     "output_type": "stream",
     "text": [
      "Epoch 0, Loss 0.2323\n",
      "Training Accuracy: 0.7380, Testing Accuracy: 0.7374\n",
      "\n"
     ]
    },
    {
     "name": "stdout",
     "output_type": "stream",
     "text": [
      "Epoch 10, Loss 0.101\n",
      "Training Accuracy: 0.9117, Testing Accuracy: 0.9219\n",
      "\n"
     ]
    },
    {
     "name": "stdout",
     "output_type": "stream",
     "text": [
      "Epoch 20, Loss 0.0783\n",
      "Training Accuracy: 0.9291, Testing Accuracy: 0.9385\n",
      "\n"
     ]
    },
    {
     "name": "stdout",
     "output_type": "stream",
     "text": [
      "Epoch 30, Loss 0.0678\n",
      "Training Accuracy: 0.9377, Testing Accuracy: 0.9481\n",
      "\n"
     ]
    },
    {
     "name": "stdout",
     "output_type": "stream",
     "text": [
      "Epoch 40, Loss 0.0613\n",
      "Training Accuracy: 0.9423, Testing Accuracy: 0.9536\n",
      "\n"
     ]
    },
    {
     "name": "stdout",
     "output_type": "stream",
     "text": [
      "Epoch 50, Loss 0.0569\n",
      "Training Accuracy: 0.9458, Testing Accuracy: 0.9592\n",
      "\n"
     ]
    },
    {
     "name": "stdout",
     "output_type": "stream",
     "text": [
      "Epoch 60, Loss 0.0537\n",
      "Training Accuracy: 0.9480, Testing Accuracy: 0.9607\n",
      "\n"
     ]
    },
    {
     "name": "stdout",
     "output_type": "stream",
     "text": [
      "Epoch 70, Loss 0.0511\n",
      "Training Accuracy: 0.9494, Testing Accuracy: 0.9602\n",
      "\n"
     ]
    },
    {
     "name": "stdout",
     "output_type": "stream",
     "text": [
      "Epoch 80, Loss 0.0491\n",
      "Training Accuracy: 0.9508, Testing Accuracy: 0.9607\n",
      "\n"
     ]
    },
    {
     "name": "stdout",
     "output_type": "stream",
     "text": [
      "Epoch 90, Loss 0.0474\n",
      "Training Accuracy: 0.9514, Testing Accuracy: 0.9607\n",
      "\n"
     ]
    },
    {
     "name": "stdout",
     "output_type": "stream",
     "text": [
      "Epoch 100, Loss 0.046\n",
      "Training Accuracy: 0.9529, Testing Accuracy: 0.9607\n",
      "\n"
     ]
    },
    {
     "name": "stdout",
     "output_type": "stream",
     "text": [
      "Epoch 110, Loss 0.0448\n",
      "Training Accuracy: 0.9537, Testing Accuracy: 0.9627\n",
      "\n"
     ]
    },
    {
     "name": "stdout",
     "output_type": "stream",
     "text": [
      "Epoch 120, Loss 0.0437\n",
      "Training Accuracy: 0.9549, Testing Accuracy: 0.9632\n",
      "\n"
     ]
    },
    {
     "name": "stdout",
     "output_type": "stream",
     "text": [
      "Epoch 130, Loss 0.0428\n",
      "Training Accuracy: 0.9555, Testing Accuracy: 0.9642\n",
      "\n"
     ]
    },
    {
     "name": "stdout",
     "output_type": "stream",
     "text": [
      "Epoch 140, Loss 0.042\n",
      "Training Accuracy: 0.9563, Testing Accuracy: 0.9652\n",
      "\n"
     ]
    },
    {
     "name": "stdout",
     "output_type": "stream",
     "text": [
      "Epoch 150, Loss 0.0412\n",
      "Training Accuracy: 0.9569, Testing Accuracy: 0.9652\n",
      "\n"
     ]
    },
    {
     "name": "stdout",
     "output_type": "stream",
     "text": [
      "Epoch 160, Loss 0.0406\n",
      "Training Accuracy: 0.9575, Testing Accuracy: 0.9652\n",
      "\n"
     ]
    },
    {
     "name": "stdout",
     "output_type": "stream",
     "text": [
      "Epoch 170, Loss 0.0399\n",
      "Training Accuracy: 0.9582, Testing Accuracy: 0.9657\n",
      "\n"
     ]
    },
    {
     "name": "stdout",
     "output_type": "stream",
     "text": [
      "Epoch 180, Loss 0.0394\n",
      "Training Accuracy: 0.9589, Testing Accuracy: 0.9672\n",
      "\n"
     ]
    },
    {
     "name": "stdout",
     "output_type": "stream",
     "text": [
      "Epoch 190, Loss 0.0389\n",
      "Training Accuracy: 0.9593, Testing Accuracy: 0.9672\n",
      "\n"
     ]
    },
    {
     "name": "stdout",
     "output_type": "stream",
     "text": [
      "Epoch 200, Loss 0.0384\n",
      "Training Accuracy: 0.9598, Testing Accuracy: 0.9672\n",
      "\n"
     ]
    },
    {
     "name": "stdout",
     "output_type": "stream",
     "text": [
      "Epoch 210, Loss 0.0379\n",
      "Training Accuracy: 0.9599, Testing Accuracy: 0.9672\n",
      "\n"
     ]
    },
    {
     "name": "stdout",
     "output_type": "stream",
     "text": [
      "Epoch 220, Loss 0.0375\n",
      "Training Accuracy: 0.9604, Testing Accuracy: 0.9672\n",
      "\n"
     ]
    },
    {
     "name": "stdout",
     "output_type": "stream",
     "text": [
      "Epoch 230, Loss 0.0371\n",
      "Training Accuracy: 0.9613, Testing Accuracy: 0.9677\n",
      "\n"
     ]
    },
    {
     "name": "stdout",
     "output_type": "stream",
     "text": [
      "Epoch 240, Loss 0.0368\n",
      "Training Accuracy: 0.9615, Testing Accuracy: 0.9677\n",
      "\n"
     ]
    },
    {
     "data": {
      "text/plain": [
       "0.03392018546612296"
      ]
     },
     "execution_count": 23,
     "metadata": {},
     "output_type": "execute_result"
    }
   ],
   "source": [
    "lr_learner.train_loop(dl)"
   ]
  },
  {
   "cell_type": "code",
   "execution_count": 24,
   "id": "ca410940",
   "metadata": {
    "execution": {
     "iopub.execute_input": "2022-04-16T10:12:07.040202Z",
     "iopub.status.busy": "2022-04-16T10:12:07.039679Z",
     "iopub.status.idle": "2022-04-16T10:12:07.263942Z",
     "shell.execute_reply": "2022-04-16T10:12:07.264397Z"
    },
    "papermill": {
     "duration": 0.268807,
     "end_time": "2022-04-16T10:12:07.264563",
     "exception": false,
     "start_time": "2022-04-16T10:12:06.995756",
     "status": "completed"
    },
    "tags": []
   },
   "outputs": [
    {
     "data": {
      "text/plain": [
       "<matplotlib.legend.Legend at 0x7fa2a67689e8>"
      ]
     },
     "execution_count": 24,
     "metadata": {},
     "output_type": "execute_result"
    },
    {
     "data": {
      "image/png": "[encoded data removed]",
      "text/plain": [
       "<Figure size 1080x720 with 1 Axes>"
      ]
     },
     "metadata": {
      "needs_background": "light"
     },
     "output_type": "display_data"
    }
   ],
   "source": [
    "#comparing the results of NN and LR\n",
    "plt.figure(figsize=(15,10))\n",
    "\n",
    "# Neural Network plots\n",
    "plt.plot(acc_nn.accuracies, 'r-', label = \"Training Accuracies - NN\")\n",
    "plt.plot(acc_nn.test_accuracies, 'g-', label = \"Testing Accuracies - NN\")\n",
    "\n",
    "# Logistic Regression plots\n",
    "plt.plot(acc_lr.accuracies, 'k-', label = \"Training Accuracies - LR\")\n",
    "plt.plot(acc_lr.test_accuracies, 'b-', label = \"Testing Accuracies - LR\")\n",
    "plt.legend()"
   ]
  },
  {
   "cell_type": "markdown",
   "id": "80dfb35c",
   "metadata": {
    "papermill": {
     "duration": 0.04136,
     "end_time": "2022-04-16T10:12:07.348220",
     "exception": false,
     "start_time": "2022-04-16T10:12:07.306860",
     "status": "completed"
    },
    "tags": []
   },
   "source": [
    "#### Plotting the outputs of this layer of the NN.\n"
   ]
  },
  {
   "cell_type": "code",
   "execution_count": 25,
   "id": "45eb2ff5",
   "metadata": {
    "execution": {
     "iopub.execute_input": "2022-04-16T10:12:07.444898Z",
     "iopub.status.busy": "2022-04-16T10:12:07.444082Z",
     "iopub.status.idle": "2022-04-16T10:12:07.458397Z",
     "shell.execute_reply": "2022-04-16T10:12:07.457947Z"
    },
    "papermill": {
     "duration": 0.069043,
     "end_time": "2022-04-16T10:12:07.458525",
     "exception": false,
     "start_time": "2022-04-16T10:12:07.389482",
     "status": "completed"
    },
    "tags": []
   },
   "outputs": [],
   "source": [
    "new_model = Model(layers[:-2])\n",
    "testing_plot = new_model(testing_data_x)"
   ]
  },
  {
   "cell_type": "code",
   "execution_count": 26,
   "id": "4c0a5485",
   "metadata": {
    "execution": {
     "iopub.execute_input": "2022-04-16T10:12:07.552518Z",
     "iopub.status.busy": "2022-04-16T10:12:07.551996Z",
     "iopub.status.idle": "2022-04-16T10:12:07.740418Z",
     "shell.execute_reply": "2022-04-16T10:12:07.739925Z"
    },
    "papermill": {
     "duration": 0.239983,
     "end_time": "2022-04-16T10:12:07.740554",
     "exception": false,
     "start_time": "2022-04-16T10:12:07.500571",
     "status": "completed"
    },
    "tags": []
   },
   "outputs": [
    {
     "data": {
      "text/plain": [
       "Text(0.5, 1.0, 'Outputs')"
      ]
     },
     "execution_count": 26,
     "metadata": {},
     "output_type": "execute_result"
    },
    {
     "data": {
      "image/png": "[encoded data removed]",
      "text/plain": [
       "<Figure size 576x504 with 1 Axes>"
      ]
     },
     "metadata": {
      "needs_background": "light"
     },
     "output_type": "display_data"
    }
   ],
   "source": [
    "# Plotting the scatter plot of points and color coding by class\n",
    "plt.figure(figsize=(8,7))\n",
    "plt.scatter(testing_plot[:,0], testing_plot[:,1], alpha = 0.1, c = y_test.ravel());\n",
    "plt.title('Outputs')"
   ]
  },
  {
   "cell_type": "markdown",
   "id": "a74fcf8f",
   "metadata": {
    "papermill": {
     "duration": 0.043727,
     "end_time": "2022-04-16T10:12:07.828776",
     "exception": false,
     "start_time": "2022-04-16T10:12:07.785049",
     "status": "completed"
    },
    "tags": []
   },
   "source": [
    "Probability contours"
   ]
  },
  {
   "cell_type": "code",
   "execution_count": 27,
   "id": "d0afc8e3",
   "metadata": {
    "execution": {
     "iopub.execute_input": "2022-04-16T10:12:07.921500Z",
     "iopub.status.busy": "2022-04-16T10:12:07.920931Z",
     "iopub.status.idle": "2022-04-16T10:12:07.933093Z",
     "shell.execute_reply": "2022-04-16T10:12:07.932675Z"
    },
    "papermill": {
     "duration": 0.06008,
     "end_time": "2022-04-16T10:12:07.933206",
     "exception": false,
     "start_time": "2022-04-16T10:12:07.873126",
     "status": "completed"
    },
    "tags": []
   },
   "outputs": [],
   "source": [
    "model_prob = Model(layers[-2:]) "
   ]
  },
  {
   "cell_type": "code",
   "execution_count": 28,
   "id": "9b96e238",
   "metadata": {
    "execution": {
     "iopub.execute_input": "2022-04-16T10:12:08.030728Z",
     "iopub.status.busy": "2022-04-16T10:12:08.029434Z",
     "iopub.status.idle": "2022-04-16T10:12:08.045213Z",
     "shell.execute_reply": "2022-04-16T10:12:08.045621Z"
    },
    "papermill": {
     "duration": 0.068924,
     "end_time": "2022-04-16T10:12:08.045745",
     "exception": false,
     "start_time": "2022-04-16T10:12:07.976821",
     "status": "completed"
    },
    "tags": []
   },
   "outputs": [],
   "source": [
    "#creating the x and y ranges according to the above generated plot.\n",
    "x_range = np.linspace(-4, 1, 100) \n",
    "y_range = np.linspace(-6, 6, 100) \n",
    "x_grid, y_grid = np.meshgrid(x_range, y_range) # x_grid and y_grig are of size 100 X 100\n",
    "\n",
    "# converting x_grid and y_grid to continuous arrays\n",
    "x_gridflat = np.ravel(x_grid)\n",
    "y_gridflat = np.ravel(y_grid)\n",
    "\n",
    "# The last layer of the current model takes two columns as input. Hence transpose of np.vstack() is required.\n",
    "X = np.vstack((x_gridflat, y_gridflat)).T\n",
    "\n",
    "prob_contour = model_prob(X).reshape(100,100) "
   ]
  },
  {
   "cell_type": "code",
   "execution_count": 29,
   "id": "da72499a",
   "metadata": {
    "execution": {
     "iopub.execute_input": "2022-04-16T10:12:08.176589Z",
     "iopub.status.busy": "2022-04-16T10:12:08.175993Z",
     "iopub.status.idle": "2022-04-16T10:12:08.412903Z",
     "shell.execute_reply": "2022-04-16T10:12:08.413308Z"
    },
    "papermill": {
     "duration": 0.31764,
     "end_time": "2022-04-16T10:12:08.413457",
     "exception": false,
     "start_time": "2022-04-16T10:12:08.095817",
     "status": "completed"
    },
    "tags": []
   },
   "outputs": [
    {
     "data": {
      "image/png": "[encoded data removed]",
      "text/plain": [
       "<Figure size 720x648 with 1 Axes>"
      ]
     },
     "metadata": {
      "needs_background": "light"
     },
     "output_type": "display_data"
    }
   ],
   "source": [
    "plt.figure(figsize=(10,9))\n",
    "plt.scatter(testing_plot[:,0], testing_plot[:,1], alpha = 0.1, c = y_test.ravel())\n",
    "contours = plt.contour(x_grid,y_grid,prob_contour)\n",
    "plt.title('Probability Contours')\n",
    "plt.clabel(contours, inline = True );"
   ]
  },
  {
   "cell_type": "code",
   "execution_count": null,
   "id": "e81b4ac7",
   "metadata": {
    "papermill": {
     "duration": 0.046356,
     "end_time": "2022-04-16T10:12:08.506959",
     "exception": false,
     "start_time": "2022-04-16T10:12:08.460603",
     "status": "completed"
    },
    "tags": []
   },
   "outputs": [],
   "source": []
  }
 ],
 "metadata": {
  "kernelspec": {
   "display_name": "Python 3",
   "language": "python",
   "name": "python3"
  },
  "language_info": {
   "codemirror_mode": {
    "name": "ipython",
    "version": 3
   },
   "file_extension": ".py",
   "mimetype": "text/x-python",
   "name": "python",
   "nbconvert_exporter": "python",
   "pygments_lexer": "ipython3",
   "version": "3.6.15"
  },
  "papermill": {
   "default_parameters": {},
   "duration": 97.449558,
   "end_time": "2022-04-16T10:12:08.971443",
   "environment_variables": {},
   "exception": null,
   "input_path": "2020-08-11-part2.ipynb",
   "output_path": "2020-08-11-part2.ipynb",
   "parameters": {},
   "start_time": "2022-04-16T10:10:31.521885",
   "version": "2.3.3"
  }
 },
 "nbformat": 4,
 "nbformat_minor": 5
}