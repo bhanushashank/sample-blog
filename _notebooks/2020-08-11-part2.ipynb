{
 "cells": [
  {
   "cell_type": "markdown",
   "id": "98380cd3",
   "metadata": {
    "papermill": {
     "duration": 0.034382,
     "end_time": "2022-02-24T00:28:59.249660",
     "exception": false,
     "start_time": "2022-02-24T00:28:59.215278",
     "status": "completed"
    },
    "tags": []
   },
   "source": [
    "# Distinguish Your Own Digits (DYOD)"
   ]
  },
  {
   "cell_type": "markdown",
   "id": "ef31240d",
   "metadata": {
    "papermill": {
     "duration": 0.027928,
     "end_time": "2022-02-24T00:28:59.305072",
     "exception": false,
     "start_time": "2022-02-24T00:28:59.277144",
     "status": "completed"
    },
    "tags": []
   },
   "source": [
    "You are going to write a classifier that distinguishes between the number 3 and number 8."
   ]
  },
  {
   "cell_type": "code",
   "execution_count": 1,
   "id": "b15c8646",
   "metadata": {
    "execution": {
     "iopub.execute_input": "2022-02-24T00:28:59.370337Z",
     "iopub.status.busy": "2022-02-24T00:28:59.369689Z",
     "iopub.status.idle": "2022-02-24T00:28:59.381366Z",
     "shell.execute_reply": "2022-02-24T00:28:59.380838Z"
    },
    "papermill": {
     "duration": 0.049832,
     "end_time": "2022-02-24T00:28:59.381505",
     "exception": false,
     "start_time": "2022-02-24T00:28:59.331673",
     "status": "completed"
    },
    "tags": []
   },
   "outputs": [],
   "source": [
    "%load_ext autoreload\n",
    "%autoreload 2"
   ]
  },
  {
   "cell_type": "code",
   "execution_count": 2,
   "id": "22ef38dc",
   "metadata": {
    "execution": {
     "iopub.execute_input": "2022-02-24T00:28:59.437471Z",
     "iopub.status.busy": "2022-02-24T00:28:59.436871Z",
     "iopub.status.idle": "2022-02-24T00:29:00.116073Z",
     "shell.execute_reply": "2022-02-24T00:29:00.116559Z"
    },
    "papermill": {
     "duration": 0.709414,
     "end_time": "2022-02-24T00:29:00.116751",
     "exception": false,
     "start_time": "2022-02-24T00:28:59.407337",
     "status": "completed"
    },
    "tags": []
   },
   "outputs": [],
   "source": [
    "%matplotlib inline\n",
    "import numpy as np\n",
    "import matplotlib.pyplot as plt\n",
    "import pandas as pd"
   ]
  },
  {
   "cell_type": "markdown",
   "id": "ba036198",
   "metadata": {
    "papermill": {
     "duration": 0.026591,
     "end_time": "2022-02-24T00:29:00.170691",
     "exception": false,
     "start_time": "2022-02-24T00:29:00.144100",
     "status": "completed"
    },
    "tags": []
   },
   "source": [
    "From the command line run `pip install mnist`. This is a library that will help you bring down the mnist dataset. If you run this from a notebook, you need to put  `!pip install mnist` in a cell by itself."
   ]
  },
  {
   "cell_type": "code",
   "execution_count": 3,
   "id": "bb6ad8a1",
   "metadata": {
    "execution": {
     "iopub.execute_input": "2022-02-24T00:29:00.227972Z",
     "iopub.status.busy": "2022-02-24T00:29:00.227372Z",
     "iopub.status.idle": "2022-02-24T00:29:02.117867Z",
     "shell.execute_reply": "2022-02-24T00:29:02.117299Z"
    },
    "papermill": {
     "duration": 1.921175,
     "end_time": "2022-02-24T00:29:02.118003",
     "exception": false,
     "start_time": "2022-02-24T00:29:00.196828",
     "status": "completed"
    },
    "tags": []
   },
   "outputs": [
    {
     "name": "stdout",
     "output_type": "stream",
     "text": [
      "Collecting mnist\r\n"
     ]
    },
    {
     "name": "stdout",
     "output_type": "stream",
     "text": [
      "  Downloading mnist-0.2.2-py2.py3-none-any.whl (3.5 kB)\r\n",
      "Requirement already satisfied: numpy in /opt/hostedtoolcache/Python/3.6.15/x64/lib/python3.6/site-packages (from mnist) (1.19.5)\r\n"
     ]
    },
    {
     "name": "stdout",
     "output_type": "stream",
     "text": [
      "Installing collected packages: mnist\r\n"
     ]
    },
    {
     "name": "stdout",
     "output_type": "stream",
     "text": [
      "Successfully installed mnist-0.2.2\r\n"
     ]
    }
   ],
   "source": [
    "!pip install mnist"
   ]
  },
  {
   "cell_type": "markdown",
   "id": "69df9c9a",
   "metadata": {
    "papermill": {
     "duration": 0.030195,
     "end_time": "2022-02-24T00:29:02.178440",
     "exception": false,
     "start_time": "2022-02-24T00:29:02.148245",
     "status": "completed"
    },
    "tags": []
   },
   "source": [
    "## Preparing the Data"
   ]
  },
  {
   "cell_type": "code",
   "execution_count": 4,
   "id": "7f69d806",
   "metadata": {
    "execution": {
     "iopub.execute_input": "2022-02-24T00:29:02.237900Z",
     "iopub.status.busy": "2022-02-24T00:29:02.237300Z",
     "iopub.status.idle": "2022-02-24T00:29:02.255477Z",
     "shell.execute_reply": "2022-02-24T00:29:02.254977Z"
    },
    "papermill": {
     "duration": 0.05011,
     "end_time": "2022-02-24T00:29:02.255607",
     "exception": false,
     "start_time": "2022-02-24T00:29:02.205497",
     "status": "completed"
    },
    "tags": []
   },
   "outputs": [],
   "source": [
    "import mnist"
   ]
  },
  {
   "cell_type": "code",
   "execution_count": 5,
   "id": "a411e44f",
   "metadata": {
    "execution": {
     "iopub.execute_input": "2022-02-24T00:29:02.316756Z",
     "iopub.status.busy": "2022-02-24T00:29:02.316129Z",
     "iopub.status.idle": "2022-02-24T00:29:02.997756Z",
     "shell.execute_reply": "2022-02-24T00:29:02.996569Z"
    },
    "papermill": {
     "duration": 0.713355,
     "end_time": "2022-02-24T00:29:02.997890",
     "exception": false,
     "start_time": "2022-02-24T00:29:02.284535",
     "status": "completed"
    },
    "tags": []
   },
   "outputs": [],
   "source": [
    "train_images = mnist.train_images()\n",
    "train_labels = mnist.train_labels()"
   ]
  },
  {
   "cell_type": "code",
   "execution_count": 6,
   "id": "dceab3a5",
   "metadata": {
    "execution": {
     "iopub.execute_input": "2022-02-24T00:29:03.059351Z",
     "iopub.status.busy": "2022-02-24T00:29:03.058297Z",
     "iopub.status.idle": "2022-02-24T00:29:03.073071Z",
     "shell.execute_reply": "2022-02-24T00:29:03.073588Z"
    },
    "papermill": {
     "duration": 0.047697,
     "end_time": "2022-02-24T00:29:03.073737",
     "exception": false,
     "start_time": "2022-02-24T00:29:03.026040",
     "status": "completed"
    },
    "tags": []
   },
   "outputs": [
    {
     "data": {
      "text/plain": [
       "((60000, 28, 28), (60000,))"
      ]
     },
     "execution_count": 6,
     "metadata": {},
     "output_type": "execute_result"
    }
   ],
   "source": [
    "train_images.shape, train_labels.shape"
   ]
  },
  {
   "cell_type": "code",
   "execution_count": 7,
   "id": "f50dc2bb",
   "metadata": {
    "execution": {
     "iopub.execute_input": "2022-02-24T00:29:03.134517Z",
     "iopub.status.busy": "2022-02-24T00:29:03.133874Z",
     "iopub.status.idle": "2022-02-24T00:29:03.271423Z",
     "shell.execute_reply": "2022-02-24T00:29:03.270888Z"
    },
    "papermill": {
     "duration": 0.169163,
     "end_time": "2022-02-24T00:29:03.271560",
     "exception": false,
     "start_time": "2022-02-24T00:29:03.102397",
     "status": "completed"
    },
    "tags": []
   },
   "outputs": [],
   "source": [
    "test_images = mnist.test_images()\n",
    "test_labels = mnist.test_labels()"
   ]
  },
  {
   "cell_type": "code",
   "execution_count": 8,
   "id": "fc38cf1b",
   "metadata": {
    "execution": {
     "iopub.execute_input": "2022-02-24T00:29:03.332888Z",
     "iopub.status.busy": "2022-02-24T00:29:03.331725Z",
     "iopub.status.idle": "2022-02-24T00:29:03.348279Z",
     "shell.execute_reply": "2022-02-24T00:29:03.347803Z"
    },
    "papermill": {
     "duration": 0.048307,
     "end_time": "2022-02-24T00:29:03.348395",
     "exception": false,
     "start_time": "2022-02-24T00:29:03.300088",
     "status": "completed"
    },
    "tags": []
   },
   "outputs": [
    {
     "data": {
      "text/plain": [
       "((10000, 28, 28), (10000,))"
      ]
     },
     "execution_count": 8,
     "metadata": {},
     "output_type": "execute_result"
    }
   ],
   "source": [
    "test_images.shape, test_labels.shape"
   ]
  },
  {
   "cell_type": "code",
   "execution_count": 9,
   "id": "f9ed8fe0",
   "metadata": {
    "execution": {
     "iopub.execute_input": "2022-02-24T00:29:03.408112Z",
     "iopub.status.busy": "2022-02-24T00:29:03.407556Z",
     "iopub.status.idle": "2022-02-24T00:29:03.560765Z",
     "shell.execute_reply": "2022-02-24T00:29:03.561229Z"
    },
    "papermill": {
     "duration": 0.185347,
     "end_time": "2022-02-24T00:29:03.561389",
     "exception": false,
     "start_time": "2022-02-24T00:29:03.376042",
     "status": "completed"
    },
    "tags": []
   },
   "outputs": [
    {
     "name": "stdout",
     "output_type": "stream",
     "text": [
      "2\n"
     ]
    },
    {
     "data": {
      "text/plain": [
       "<matplotlib.image.AxesImage at 0x7f8cdff625c0>"
      ]
     },
     "execution_count": 9,
     "metadata": {},
     "output_type": "execute_result"
    },
    {
     "data": {
      "image/png": "[encoded data removed]",
      "text/plain": [
       "<Figure size 432x288 with 1 Axes>"
      ]
     },
     "metadata": {
      "needs_background": "light"
     },
     "output_type": "display_data"
    }
   ],
   "source": [
    "image_index = 7776 # You may select anything up to 60,000\n",
    "print(train_labels[image_index]) \n",
    "plt.imshow(train_images[image_index], cmap='Greys')"
   ]
  },
  {
   "cell_type": "markdown",
   "id": "a8d2388d",
   "metadata": {
    "papermill": {
     "duration": 0.028876,
     "end_time": "2022-02-24T00:29:03.620101",
     "exception": false,
     "start_time": "2022-02-24T00:29:03.591225",
     "status": "completed"
    },
    "tags": []
   },
   "source": [
    "## Filter data to get 3 and 8 out"
   ]
  },
  {
   "cell_type": "code",
   "execution_count": 10,
   "id": "776f7fc7",
   "metadata": {
    "execution": {
     "iopub.execute_input": "2022-02-24T00:29:03.681602Z",
     "iopub.status.busy": "2022-02-24T00:29:03.680995Z",
     "iopub.status.idle": "2022-02-24T00:29:03.701192Z",
     "shell.execute_reply": "2022-02-24T00:29:03.700696Z"
    },
    "papermill": {
     "duration": 0.052628,
     "end_time": "2022-02-24T00:29:03.701323",
     "exception": false,
     "start_time": "2022-02-24T00:29:03.648695",
     "status": "completed"
    },
    "tags": []
   },
   "outputs": [],
   "source": [
    "train_filter = np.where((train_labels == 3 ) | (train_labels == 8))\n",
    "test_filter = np.where((test_labels == 3) | (test_labels == 8))\n",
    "X_train, y_train = train_images[train_filter], train_labels[train_filter]\n",
    "X_test, y_test = test_images[test_filter], test_labels[test_filter]"
   ]
  },
  {
   "cell_type": "markdown",
   "id": "948f0b7e",
   "metadata": {
    "papermill": {
     "duration": 0.028664,
     "end_time": "2022-02-24T00:29:03.758434",
     "exception": false,
     "start_time": "2022-02-24T00:29:03.729770",
     "status": "completed"
    },
    "tags": []
   },
   "source": [
    "We normalize the pizel values in the 0 to 1 range"
   ]
  },
  {
   "cell_type": "code",
   "execution_count": 11,
   "id": "ee4c2166",
   "metadata": {
    "execution": {
     "iopub.execute_input": "2022-02-24T00:29:03.821787Z",
     "iopub.status.busy": "2022-02-24T00:29:03.821234Z",
     "iopub.status.idle": "2022-02-24T00:29:03.875886Z",
     "shell.execute_reply": "2022-02-24T00:29:03.874938Z"
    },
    "papermill": {
     "duration": 0.088587,
     "end_time": "2022-02-24T00:29:03.876098",
     "exception": false,
     "start_time": "2022-02-24T00:29:03.787511",
     "status": "completed"
    },
    "tags": []
   },
   "outputs": [],
   "source": [
    "X_train = X_train/255.\n",
    "X_test = X_test/255."
   ]
  },
  {
   "cell_type": "markdown",
   "id": "ddcf4fab",
   "metadata": {
    "papermill": {
     "duration": 0.028929,
     "end_time": "2022-02-24T00:29:03.937563",
     "exception": false,
     "start_time": "2022-02-24T00:29:03.908634",
     "status": "completed"
    },
    "tags": []
   },
   "source": [
    "And setup the labels as 1 (when the digit is 3) and 0 (when the digit is 8)"
   ]
  },
  {
   "cell_type": "code",
   "execution_count": 12,
   "id": "7dc908f2",
   "metadata": {
    "execution": {
     "iopub.execute_input": "2022-02-24T00:29:04.003882Z",
     "iopub.status.busy": "2022-02-24T00:29:04.003273Z",
     "iopub.status.idle": "2022-02-24T00:29:04.014973Z",
     "shell.execute_reply": "2022-02-24T00:29:04.014488Z"
    },
    "papermill": {
     "duration": 0.048281,
     "end_time": "2022-02-24T00:29:04.015111",
     "exception": false,
     "start_time": "2022-02-24T00:29:03.966830",
     "status": "completed"
    },
    "tags": []
   },
   "outputs": [],
   "source": [
    "y_train = 1*(y_train==3)\n",
    "y_test = 1*(y_test==3)"
   ]
  },
  {
   "cell_type": "code",
   "execution_count": 13,
   "id": "01e4e969",
   "metadata": {
    "execution": {
     "iopub.execute_input": "2022-02-24T00:29:04.077670Z",
     "iopub.status.busy": "2022-02-24T00:29:04.077082Z",
     "iopub.status.idle": "2022-02-24T00:29:04.094653Z",
     "shell.execute_reply": "2022-02-24T00:29:04.094135Z"
    },
    "papermill": {
     "duration": 0.050946,
     "end_time": "2022-02-24T00:29:04.094775",
     "exception": false,
     "start_time": "2022-02-24T00:29:04.043829",
     "status": "completed"
    },
    "tags": []
   },
   "outputs": [
    {
     "data": {
      "text/plain": [
       "((11982, 28, 28), (1984, 28, 28))"
      ]
     },
     "execution_count": 13,
     "metadata": {},
     "output_type": "execute_result"
    }
   ],
   "source": [
    "X_train.shape, X_test.shape"
   ]
  },
  {
   "cell_type": "markdown",
   "id": "5ccf3f85",
   "metadata": {
    "papermill": {
     "duration": 0.02898,
     "end_time": "2022-02-24T00:29:04.154400",
     "exception": false,
     "start_time": "2022-02-24T00:29:04.125420",
     "status": "completed"
    },
    "tags": []
   },
   "source": [
    "We reshape the data to flatten the image pixels into a set of features or co-variates:"
   ]
  },
  {
   "cell_type": "code",
   "execution_count": 14,
   "id": "5286a4a3",
   "metadata": {
    "execution": {
     "iopub.execute_input": "2022-02-24T00:29:04.219643Z",
     "iopub.status.busy": "2022-02-24T00:29:04.219031Z",
     "iopub.status.idle": "2022-02-24T00:29:04.234187Z",
     "shell.execute_reply": "2022-02-24T00:29:04.233678Z"
    },
    "papermill": {
     "duration": 0.049888,
     "end_time": "2022-02-24T00:29:04.234317",
     "exception": false,
     "start_time": "2022-02-24T00:29:04.184429",
     "status": "completed"
    },
    "tags": []
   },
   "outputs": [
    {
     "data": {
      "text/plain": [
       "((11982, 784), (1984, 784))"
      ]
     },
     "execution_count": 14,
     "metadata": {},
     "output_type": "execute_result"
    }
   ],
   "source": [
    "X_train = X_train.reshape(X_train.shape[0], -1)\n",
    "X_test = X_test.reshape(X_test.shape[0], -1)\n",
    "X_train.shape, X_test.shape"
   ]
  },
  {
   "cell_type": "code",
   "execution_count": 15,
   "id": "73c5f88a",
   "metadata": {
    "execution": {
     "iopub.execute_input": "2022-02-24T00:29:04.299771Z",
     "iopub.status.busy": "2022-02-24T00:29:04.299217Z",
     "iopub.status.idle": "2022-02-24T00:29:04.321726Z",
     "shell.execute_reply": "2022-02-24T00:29:04.321124Z"
    },
    "papermill": {
     "duration": 0.056896,
     "end_time": "2022-02-24T00:29:04.321882",
     "exception": false,
     "start_time": "2022-02-24T00:29:04.264986",
     "status": "completed"
    },
    "tags": []
   },
   "outputs": [],
   "source": [
    "#Impoting functions from 'Kudzu'\n",
    "from kudzu.model import Model\n",
    "from kudzu.train import Learner\n",
    "from kudzu.optim import GD\n",
    "from kudzu.data import Data, Sampler,Dataloader\n",
    "\n",
    "from kudzu.callbacks import AccCallback\n",
    "from kudzu.callbacks import ClfCallback\n",
    "\n",
    "from kudzu.loss import MSE\n",
    "\n",
    "from kudzu.layer import Sigmoid,Relu\n",
    "from kudzu.layer import Affine"
   ]
  },
  {
   "cell_type": "markdown",
   "id": "bc01172a",
   "metadata": {
    "papermill": {
     "duration": 0.030159,
     "end_time": "2022-02-24T00:29:04.383460",
     "exception": false,
     "start_time": "2022-02-24T00:29:04.353301",
     "status": "completed"
    },
    "tags": []
   },
   "source": [
    "### Let us create a `Config` class, to store important parameters. \n",
    "This class essentially plays the role of a dictionary."
   ]
  },
  {
   "cell_type": "code",
   "execution_count": 16,
   "id": "978281aa",
   "metadata": {
    "execution": {
     "iopub.execute_input": "2022-02-24T00:29:04.450671Z",
     "iopub.status.busy": "2022-02-24T00:29:04.450026Z",
     "iopub.status.idle": "2022-02-24T00:29:04.462517Z",
     "shell.execute_reply": "2022-02-24T00:29:04.462001Z"
    },
    "papermill": {
     "duration": 0.048946,
     "end_time": "2022-02-24T00:29:04.462647",
     "exception": false,
     "start_time": "2022-02-24T00:29:04.413701",
     "status": "completed"
    },
    "tags": []
   },
   "outputs": [],
   "source": [
    "class Config:\n",
    "    pass\n",
    "config = Config()\n",
    "config.lr = 0.001\n",
    "config.num_epochs = 250\n",
    "config.bs = 50"
   ]
  },
  {
   "cell_type": "markdown",
   "id": "1385fa59",
   "metadata": {
    "papermill": {
     "duration": 0.030074,
     "end_time": "2022-02-24T00:29:04.522343",
     "exception": false,
     "start_time": "2022-02-24T00:29:04.492269",
     "status": "completed"
    },
    "tags": []
   },
   "source": [
    "### Running Models with the Training data\n",
    "Details about the network layers:\n",
    "- A first affine layer has 784 inputs and does 100 affine transforms. These are followed by a Relu\n",
    "- A second affine layer has 100 inputs from the 100 activations of the past layer, and does 100 affine transforms. These are followed by a Relu\n",
    "- A third affine layer has 100 activations and does 2 affine transformations to create an embedding for visualization. There is no non-linearity here.\n",
    "- A final \"logistic regression\" which has an affine transform from 2 inputs to 1 output, which is squeezed through a sigmoid.\n"
   ]
  },
  {
   "cell_type": "code",
   "execution_count": 17,
   "id": "2b9c66db",
   "metadata": {
    "execution": {
     "iopub.execute_input": "2022-02-24T00:29:04.591568Z",
     "iopub.status.busy": "2022-02-24T00:29:04.590954Z",
     "iopub.status.idle": "2022-02-24T00:29:04.602540Z",
     "shell.execute_reply": "2022-02-24T00:29:04.601989Z"
    },
    "papermill": {
     "duration": 0.050751,
     "end_time": "2022-02-24T00:29:04.602677",
     "exception": false,
     "start_time": "2022-02-24T00:29:04.551926",
     "status": "completed"
    },
    "tags": []
   },
   "outputs": [],
   "source": [
    "data = Data(X_train, y_train.reshape(-1,1))\n",
    "sampler = Sampler(data, config.bs, shuffle=True)\n",
    "\n",
    "dl = Dataloader(data, sampler)\n",
    "\n",
    "opt = GD(config.lr)\n",
    "loss = MSE()"
   ]
  },
  {
   "cell_type": "code",
   "execution_count": 18,
   "id": "b275e4c2",
   "metadata": {
    "execution": {
     "iopub.execute_input": "2022-02-24T00:29:04.668264Z",
     "iopub.status.busy": "2022-02-24T00:29:04.667669Z",
     "iopub.status.idle": "2022-02-24T00:29:04.682521Z",
     "shell.execute_reply": "2022-02-24T00:29:04.681950Z"
    },
    "papermill": {
     "duration": 0.050526,
     "end_time": "2022-02-24T00:29:04.682637",
     "exception": false,
     "start_time": "2022-02-24T00:29:04.632111",
     "status": "completed"
    },
    "tags": []
   },
   "outputs": [],
   "source": [
    "training_data_x = X_train\n",
    "testing_data_x = X_test\n",
    "training_data_y = y_train.reshape(-1,1)\n",
    "testing_data_y = y_test.reshape(-1,1)"
   ]
  },
  {
   "cell_type": "code",
   "execution_count": 19,
   "id": "76951160",
   "metadata": {
    "execution": {
     "iopub.execute_input": "2022-02-24T00:29:04.749963Z",
     "iopub.status.busy": "2022-02-24T00:29:04.749382Z",
     "iopub.status.idle": "2022-02-24T00:29:04.767232Z",
     "shell.execute_reply": "2022-02-24T00:29:04.766766Z"
    },
    "papermill": {
     "duration": 0.05519,
     "end_time": "2022-02-24T00:29:04.767360",
     "exception": false,
     "start_time": "2022-02-24T00:29:04.712170",
     "status": "completed"
    },
    "tags": []
   },
   "outputs": [
    {
     "name": "stdout",
     "output_type": "stream",
     "text": [
      "xavier\n",
      "xavier\n",
      "xavier\n",
      "xavier\n",
      "xavier\n"
     ]
    }
   ],
   "source": [
    "layers = [Affine(\"first\", 784, 100), Relu(\"first\"), Affine(\"second\", 100, 100), Relu(\"second\"), Affine(\"third\", 100, 2), Affine(\"last\", 2, 1), Sigmoid(\"last\")]\n",
    "model_nn = Model(layers)\n",
    "model_lr = Model([Affine(\"logits\", 784, 1), Sigmoid(\"sigmoid\")])"
   ]
  },
  {
   "cell_type": "code",
   "execution_count": 20,
   "id": "6eede77a",
   "metadata": {
    "execution": {
     "iopub.execute_input": "2022-02-24T00:29:04.835919Z",
     "iopub.status.busy": "2022-02-24T00:29:04.835315Z",
     "iopub.status.idle": "2022-02-24T00:29:04.848029Z",
     "shell.execute_reply": "2022-02-24T00:29:04.847537Z"
    },
    "papermill": {
     "duration": 0.050087,
     "end_time": "2022-02-24T00:29:04.848148",
     "exception": false,
     "start_time": "2022-02-24T00:29:04.798061",
     "status": "completed"
    },
    "tags": []
   },
   "outputs": [],
   "source": [
    "nn_learner = Learner(loss, model_nn, opt, config.num_epochs)\n",
    "acc_nn = ClfCallback(nn_learner, config.bs, training_data_x , testing_data_x, training_data_y, testing_data_y)\n",
    "nn_learner.set_callbacks([acc_nn])"
   ]
  },
  {
   "cell_type": "code",
   "execution_count": 21,
   "id": "877b6cc7",
   "metadata": {
    "execution": {
     "iopub.execute_input": "2022-02-24T00:29:04.916598Z",
     "iopub.status.busy": "2022-02-24T00:29:04.915956Z",
     "iopub.status.idle": "2022-02-24T00:29:04.928880Z",
     "shell.execute_reply": "2022-02-24T00:29:04.929329Z"
    },
    "papermill": {
     "duration": 0.048841,
     "end_time": "2022-02-24T00:29:04.929480",
     "exception": false,
     "start_time": "2022-02-24T00:29:04.880639",
     "status": "completed"
    },
    "tags": []
   },
   "outputs": [],
   "source": [
    "lr_learner = Learner(loss, model_lr, opt, config.num_epochs)\n",
    "acc_lr = ClfCallback(lr_learner, config.bs, training_data_x , testing_data_x, training_data_y, testing_data_y)\n",
    "lr_learner.set_callbacks([acc_lr])"
   ]
  },
  {
   "cell_type": "code",
   "execution_count": 22,
   "id": "d9b133c3",
   "metadata": {
    "execution": {
     "iopub.execute_input": "2022-02-24T00:29:04.999228Z",
     "iopub.status.busy": "2022-02-24T00:29:04.995352Z",
     "iopub.status.idle": "2022-02-24T00:30:32.373718Z",
     "shell.execute_reply": "2022-02-24T00:30:32.374646Z"
    },
    "papermill": {
     "duration": 87.414325,
     "end_time": "2022-02-24T00:30:32.374815",
     "exception": false,
     "start_time": "2022-02-24T00:29:04.960490",
     "status": "completed"
    },
    "tags": []
   },
   "outputs": [
    {
     "name": "stdout",
     "output_type": "stream",
     "text": [
      "Epoch 0, Loss 0.218\n",
      "Training Accuracy: 0.7801, Testing Accuracy: 0.7974\n",
      "\n"
     ]
    },
    {
     "name": "stdout",
     "output_type": "stream",
     "text": [
      "Epoch 10, Loss 0.0896\n",
      "Training Accuracy: 0.9103, Testing Accuracy: 0.9183\n",
      "\n"
     ]
    },
    {
     "name": "stdout",
     "output_type": "stream",
     "text": [
      "Epoch 20, Loss 0.0548\n",
      "Training Accuracy: 0.9429, Testing Accuracy: 0.9541\n",
      "\n"
     ]
    },
    {
     "name": "stdout",
     "output_type": "stream",
     "text": [
      "Epoch 30, Loss 0.0422\n",
      "Training Accuracy: 0.9541, Testing Accuracy: 0.9632\n",
      "\n"
     ]
    },
    {
     "name": "stdout",
     "output_type": "stream",
     "text": [
      "Epoch 40, Loss 0.0363\n",
      "Training Accuracy: 0.9592, Testing Accuracy: 0.9662\n",
      "\n"
     ]
    },
    {
     "name": "stdout",
     "output_type": "stream",
     "text": [
      "Epoch 50, Loss 0.0328\n",
      "Training Accuracy: 0.9619, Testing Accuracy: 0.9672\n",
      "\n"
     ]
    },
    {
     "name": "stdout",
     "output_type": "stream",
     "text": [
      "Epoch 60, Loss 0.0303\n",
      "Training Accuracy: 0.9646, Testing Accuracy: 0.9667\n",
      "\n"
     ]
    },
    {
     "name": "stdout",
     "output_type": "stream",
     "text": [
      "Epoch 70, Loss 0.0284\n",
      "Training Accuracy: 0.9668, Testing Accuracy: 0.9688\n",
      "\n"
     ]
    },
    {
     "name": "stdout",
     "output_type": "stream",
     "text": [
      "Epoch 80, Loss 0.0269\n",
      "Training Accuracy: 0.9678, Testing Accuracy: 0.9693\n",
      "\n"
     ]
    },
    {
     "name": "stdout",
     "output_type": "stream",
     "text": [
      "Epoch 90, Loss 0.0257\n",
      "Training Accuracy: 0.9699, Testing Accuracy: 0.9708\n",
      "\n"
     ]
    },
    {
     "name": "stdout",
     "output_type": "stream",
     "text": [
      "Epoch 100, Loss 0.0246\n",
      "Training Accuracy: 0.9716, Testing Accuracy: 0.9713\n",
      "\n"
     ]
    },
    {
     "name": "stdout",
     "output_type": "stream",
     "text": [
      "Epoch 110, Loss 0.0236\n",
      "Training Accuracy: 0.9727, Testing Accuracy: 0.9723\n",
      "\n"
     ]
    },
    {
     "name": "stdout",
     "output_type": "stream",
     "text": [
      "Epoch 120, Loss 0.0228\n",
      "Training Accuracy: 0.9741, Testing Accuracy: 0.9728\n",
      "\n"
     ]
    },
    {
     "name": "stdout",
     "output_type": "stream",
     "text": [
      "Epoch 130, Loss 0.0221\n",
      "Training Accuracy: 0.9749, Testing Accuracy: 0.9723\n",
      "\n"
     ]
    },
    {
     "name": "stdout",
     "output_type": "stream",
     "text": [
      "Epoch 140, Loss 0.0214\n",
      "Training Accuracy: 0.9756, Testing Accuracy: 0.9723\n",
      "\n"
     ]
    },
    {
     "name": "stdout",
     "output_type": "stream",
     "text": [
      "Epoch 150, Loss 0.0207\n",
      "Training Accuracy: 0.9764, Testing Accuracy: 0.9723\n",
      "\n"
     ]
    },
    {
     "name": "stdout",
     "output_type": "stream",
     "text": [
      "Epoch 160, Loss 0.0202\n",
      "Training Accuracy: 0.9770, Testing Accuracy: 0.9733\n",
      "\n"
     ]
    },
    {
     "name": "stdout",
     "output_type": "stream",
     "text": [
      "Epoch 170, Loss 0.0196\n",
      "Training Accuracy: 0.9777, Testing Accuracy: 0.9738\n",
      "\n"
     ]
    },
    {
     "name": "stdout",
     "output_type": "stream",
     "text": [
      "Epoch 180, Loss 0.0191\n",
      "Training Accuracy: 0.9786, Testing Accuracy: 0.9748\n",
      "\n"
     ]
    },
    {
     "name": "stdout",
     "output_type": "stream",
     "text": [
      "Epoch 190, Loss 0.0186\n",
      "Training Accuracy: 0.9791, Testing Accuracy: 0.9753\n",
      "\n"
     ]
    },
    {
     "name": "stdout",
     "output_type": "stream",
     "text": [
      "Epoch 200, Loss 0.0181\n",
      "Training Accuracy: 0.9800, Testing Accuracy: 0.9753\n",
      "\n"
     ]
    },
    {
     "name": "stdout",
     "output_type": "stream",
     "text": [
      "Epoch 210, Loss 0.0177\n",
      "Training Accuracy: 0.9810, Testing Accuracy: 0.9753\n",
      "\n"
     ]
    },
    {
     "name": "stdout",
     "output_type": "stream",
     "text": [
      "Epoch 220, Loss 0.0172\n",
      "Training Accuracy: 0.9816, Testing Accuracy: 0.9753\n",
      "\n"
     ]
    },
    {
     "name": "stdout",
     "output_type": "stream",
     "text": [
      "Epoch 230, Loss 0.0168\n",
      "Training Accuracy: 0.9823, Testing Accuracy: 0.9758\n",
      "\n"
     ]
    },
    {
     "name": "stdout",
     "output_type": "stream",
     "text": [
      "Epoch 240, Loss 0.0164\n",
      "Training Accuracy: 0.9827, Testing Accuracy: 0.9758\n",
      "\n"
     ]
    },
    {
     "data": {
      "text/plain": [
       "0.0009012829949230307"
      ]
     },
     "execution_count": 22,
     "metadata": {},
     "output_type": "execute_result"
    }
   ],
   "source": [
    "nn_learner.train_loop(dl)"
   ]
  },
  {
   "cell_type": "code",
   "execution_count": 23,
   "id": "e0163366",
   "metadata": {
    "execution": {
     "iopub.execute_input": "2022-02-24T00:30:32.467739Z",
     "iopub.status.busy": "2022-02-24T00:30:32.467124Z",
     "iopub.status.idle": "2022-02-24T00:30:48.147721Z",
     "shell.execute_reply": "2022-02-24T00:30:48.148573Z"
    },
    "papermill": {
     "duration": 15.733873,
     "end_time": "2022-02-24T00:30:48.148737",
     "exception": false,
     "start_time": "2022-02-24T00:30:32.414864",
     "status": "completed"
    },
    "tags": []
   },
   "outputs": [
    {
     "name": "stdout",
     "output_type": "stream",
     "text": [
      "Epoch 0, Loss 0.2462\n",
      "Training Accuracy: 0.6698, Testing Accuracy: 0.6915\n",
      "\n"
     ]
    },
    {
     "name": "stdout",
     "output_type": "stream",
     "text": [
      "Epoch 10, Loss 0.1044\n",
      "Training Accuracy: 0.9044, Testing Accuracy: 0.9133\n",
      "\n"
     ]
    },
    {
     "name": "stdout",
     "output_type": "stream",
     "text": [
      "Epoch 20, Loss 0.08\n",
      "Training Accuracy: 0.9225, Testing Accuracy: 0.9345\n",
      "\n"
     ]
    },
    {
     "name": "stdout",
     "output_type": "stream",
     "text": [
      "Epoch 30, Loss 0.0688\n",
      "Training Accuracy: 0.9340, Testing Accuracy: 0.9446\n",
      "\n"
     ]
    },
    {
     "name": "stdout",
     "output_type": "stream",
     "text": [
      "Epoch 40, Loss 0.0621\n",
      "Training Accuracy: 0.9397, Testing Accuracy: 0.9481\n",
      "\n"
     ]
    },
    {
     "name": "stdout",
     "output_type": "stream",
     "text": [
      "Epoch 50, Loss 0.0576\n",
      "Training Accuracy: 0.9426, Testing Accuracy: 0.9526\n",
      "\n"
     ]
    },
    {
     "name": "stdout",
     "output_type": "stream",
     "text": [
      "Epoch 60, Loss 0.0542\n",
      "Training Accuracy: 0.9464, Testing Accuracy: 0.9572\n",
      "\n"
     ]
    },
    {
     "name": "stdout",
     "output_type": "stream",
     "text": [
      "Epoch 70, Loss 0.0516\n",
      "Training Accuracy: 0.9478, Testing Accuracy: 0.9592\n",
      "\n"
     ]
    },
    {
     "name": "stdout",
     "output_type": "stream",
     "text": [
      "Epoch 80, Loss 0.0495\n",
      "Training Accuracy: 0.9502, Testing Accuracy: 0.9602\n",
      "\n"
     ]
    },
    {
     "name": "stdout",
     "output_type": "stream",
     "text": [
      "Epoch 90, Loss 0.0478\n",
      "Training Accuracy: 0.9519, Testing Accuracy: 0.9617\n",
      "\n"
     ]
    },
    {
     "name": "stdout",
     "output_type": "stream",
     "text": [
      "Epoch 100, Loss 0.0463\n",
      "Training Accuracy: 0.9533, Testing Accuracy: 0.9622\n",
      "\n"
     ]
    },
    {
     "name": "stdout",
     "output_type": "stream",
     "text": [
      "Epoch 110, Loss 0.0451\n",
      "Training Accuracy: 0.9545, Testing Accuracy: 0.9637\n",
      "\n"
     ]
    },
    {
     "name": "stdout",
     "output_type": "stream",
     "text": [
      "Epoch 120, Loss 0.044\n",
      "Training Accuracy: 0.9554, Testing Accuracy: 0.9642\n",
      "\n"
     ]
    },
    {
     "name": "stdout",
     "output_type": "stream",
     "text": [
      "Epoch 130, Loss 0.043\n",
      "Training Accuracy: 0.9565, Testing Accuracy: 0.9647\n",
      "\n"
     ]
    },
    {
     "name": "stdout",
     "output_type": "stream",
     "text": [
      "Epoch 140, Loss 0.0422\n",
      "Training Accuracy: 0.9570, Testing Accuracy: 0.9647\n",
      "\n"
     ]
    },
    {
     "name": "stdout",
     "output_type": "stream",
     "text": [
      "Epoch 150, Loss 0.0414\n",
      "Training Accuracy: 0.9575, Testing Accuracy: 0.9652\n",
      "\n"
     ]
    },
    {
     "name": "stdout",
     "output_type": "stream",
     "text": [
      "Epoch 160, Loss 0.0407\n",
      "Training Accuracy: 0.9580, Testing Accuracy: 0.9647\n",
      "\n"
     ]
    },
    {
     "name": "stdout",
     "output_type": "stream",
     "text": [
      "Epoch 170, Loss 0.0401\n",
      "Training Accuracy: 0.9583, Testing Accuracy: 0.9652\n",
      "\n"
     ]
    },
    {
     "name": "stdout",
     "output_type": "stream",
     "text": [
      "Epoch 180, Loss 0.0395\n",
      "Training Accuracy: 0.9589, Testing Accuracy: 0.9657\n",
      "\n"
     ]
    },
    {
     "name": "stdout",
     "output_type": "stream",
     "text": [
      "Epoch 190, Loss 0.0389\n",
      "Training Accuracy: 0.9594, Testing Accuracy: 0.9652\n",
      "\n"
     ]
    },
    {
     "name": "stdout",
     "output_type": "stream",
     "text": [
      "Epoch 200, Loss 0.0385\n",
      "Training Accuracy: 0.9600, Testing Accuracy: 0.9652\n",
      "\n"
     ]
    },
    {
     "name": "stdout",
     "output_type": "stream",
     "text": [
      "Epoch 210, Loss 0.038\n",
      "Training Accuracy: 0.9602, Testing Accuracy: 0.9652\n",
      "\n"
     ]
    },
    {
     "name": "stdout",
     "output_type": "stream",
     "text": [
      "Epoch 220, Loss 0.0376\n",
      "Training Accuracy: 0.9604, Testing Accuracy: 0.9657\n",
      "\n"
     ]
    },
    {
     "name": "stdout",
     "output_type": "stream",
     "text": [
      "Epoch 230, Loss 0.0372\n",
      "Training Accuracy: 0.9610, Testing Accuracy: 0.9657\n",
      "\n"
     ]
    },
    {
     "name": "stdout",
     "output_type": "stream",
     "text": [
      "Epoch 240, Loss 0.0368\n",
      "Training Accuracy: 0.9614, Testing Accuracy: 0.9657\n",
      "\n"
     ]
    },
    {
     "data": {
      "text/plain": [
       "0.0237983277875534"
      ]
     },
     "execution_count": 23,
     "metadata": {},
     "output_type": "execute_result"
    }
   ],
   "source": [
    "lr_learner.train_loop(dl)"
   ]
  },
  {
   "cell_type": "code",
   "execution_count": 24,
   "id": "ca410940",
   "metadata": {
    "execution": {
     "iopub.execute_input": "2022-02-24T00:30:48.251760Z",
     "iopub.status.busy": "2022-02-24T00:30:48.251135Z",
     "iopub.status.idle": "2022-02-24T00:30:48.513186Z",
     "shell.execute_reply": "2022-02-24T00:30:48.513682Z"
    },
    "papermill": {
     "duration": 0.31857,
     "end_time": "2022-02-24T00:30:48.513840",
     "exception": false,
     "start_time": "2022-02-24T00:30:48.195270",
     "status": "completed"
    },
    "tags": []
   },
   "outputs": [
    {
     "data": {
      "text/plain": [
       "<matplotlib.legend.Legend at 0x7f8cdfb3fcf8>"
      ]
     },
     "execution_count": 24,
     "metadata": {},
     "output_type": "execute_result"
    },
    {
     "data": {
      "image/png": "[encoded data removed]",
      "text/plain": [
       "<Figure size 1080x720 with 1 Axes>"
      ]
     },
     "metadata": {
      "needs_background": "light"
     },
     "output_type": "display_data"
    }
   ],
   "source": [
    "#comparing the results of NN and LR\n",
    "plt.figure(figsize=(15,10))\n",
    "\n",
    "# Neural Network plots\n",
    "plt.plot(acc_nn.accuracies, 'r-', label = \"Training Accuracies - NN\")\n",
    "plt.plot(acc_nn.test_accuracies, 'g-', label = \"Testing Accuracies - NN\")\n",
    "\n",
    "# Logistic Regression plots\n",
    "plt.plot(acc_lr.accuracies, 'k-', label = \"Training Accuracies - LR\")\n",
    "plt.plot(acc_lr.test_accuracies, 'b-', label = \"Testing Accuracies - LR\")\n",
    "plt.legend()"
   ]
  },
  {
   "cell_type": "markdown",
   "id": "80dfb35c",
   "metadata": {
    "papermill": {
     "duration": 0.047972,
     "end_time": "2022-02-24T00:30:48.610645",
     "exception": false,
     "start_time": "2022-02-24T00:30:48.562673",
     "status": "completed"
    },
    "tags": []
   },
   "source": [
    "#### Plotting the outputs of this layer of the NN.\n"
   ]
  },
  {
   "cell_type": "code",
   "execution_count": 25,
   "id": "45eb2ff5",
   "metadata": {
    "execution": {
     "iopub.execute_input": "2022-02-24T00:30:48.714138Z",
     "iopub.status.busy": "2022-02-24T00:30:48.713482Z",
     "iopub.status.idle": "2022-02-24T00:30:48.736683Z",
     "shell.execute_reply": "2022-02-24T00:30:48.737201Z"
    },
    "papermill": {
     "duration": 0.078665,
     "end_time": "2022-02-24T00:30:48.737362",
     "exception": false,
     "start_time": "2022-02-24T00:30:48.658697",
     "status": "completed"
    },
    "tags": []
   },
   "outputs": [],
   "source": [
    "new_model = Model(layers[:-2])\n",
    "testing_plot = new_model(testing_data_x)"
   ]
  },
  {
   "cell_type": "code",
   "execution_count": 26,
   "id": "4c0a5485",
   "metadata": {
    "execution": {
     "iopub.execute_input": "2022-02-24T00:30:48.844385Z",
     "iopub.status.busy": "2022-02-24T00:30:48.840001Z",
     "iopub.status.idle": "2022-02-24T00:30:49.089217Z",
     "shell.execute_reply": "2022-02-24T00:30:49.088721Z"
    },
    "papermill": {
     "duration": 0.303173,
     "end_time": "2022-02-24T00:30:49.089350",
     "exception": false,
     "start_time": "2022-02-24T00:30:48.786177",
     "status": "completed"
    },
    "tags": []
   },
   "outputs": [
    {
     "data": {
      "text/plain": [
       "Text(0.5, 1.0, 'Outputs')"
      ]
     },
     "execution_count": 26,
     "metadata": {},
     "output_type": "execute_result"
    },
    {
     "data": {
      "image/png": "[encoded data removed]",
      "text/plain": [
       "<Figure size 576x504 with 1 Axes>"
      ]
     },
     "metadata": {
      "needs_background": "light"
     },
     "output_type": "display_data"
    }
   ],
   "source": [
    "# Plotting the scatter plot of points and color coding by class\n",
    "plt.figure(figsize=(8,7))\n",
    "plt.scatter(testing_plot[:,0], testing_plot[:,1], alpha = 0.1, c = y_test.ravel());\n",
    "plt.title('Outputs')"
   ]
  },
  {
   "cell_type": "markdown",
   "id": "a74fcf8f",
   "metadata": {
    "papermill": {
     "duration": 0.051586,
     "end_time": "2022-02-24T00:30:49.193221",
     "exception": false,
     "start_time": "2022-02-24T00:30:49.141635",
     "status": "completed"
    },
    "tags": []
   },
   "source": [
    "Probability contours"
   ]
  },
  {
   "cell_type": "code",
   "execution_count": 27,
   "id": "d0afc8e3",
   "metadata": {
    "execution": {
     "iopub.execute_input": "2022-02-24T00:30:49.332490Z",
     "iopub.status.busy": "2022-02-24T00:30:49.331881Z",
     "iopub.status.idle": "2022-02-24T00:30:49.350262Z",
     "shell.execute_reply": "2022-02-24T00:30:49.349585Z"
    },
    "papermill": {
     "duration": 0.105559,
     "end_time": "2022-02-24T00:30:49.350435",
     "exception": false,
     "start_time": "2022-02-24T00:30:49.244876",
     "status": "completed"
    },
    "tags": []
   },
   "outputs": [],
   "source": [
    "model_prob = Model(layers[-2:]) "
   ]
  },
  {
   "cell_type": "code",
   "execution_count": 28,
   "id": "9b96e238",
   "metadata": {
    "execution": {
     "iopub.execute_input": "2022-02-24T00:30:49.461470Z",
     "iopub.status.busy": "2022-02-24T00:30:49.460832Z",
     "iopub.status.idle": "2022-02-24T00:30:49.478697Z",
     "shell.execute_reply": "2022-02-24T00:30:49.479145Z"
    },
    "papermill": {
     "duration": 0.075959,
     "end_time": "2022-02-24T00:30:49.479301",
     "exception": false,
     "start_time": "2022-02-24T00:30:49.403342",
     "status": "completed"
    },
    "tags": []
   },
   "outputs": [],
   "source": [
    "#creating the x and y ranges according to the above generated plot.\n",
    "x_range = np.linspace(-4, 1, 100) \n",
    "y_range = np.linspace(-6, 6, 100) \n",
    "x_grid, y_grid = np.meshgrid(x_range, y_range) # x_grid and y_grig are of size 100 X 100\n",
    "\n",
    "# converting x_grid and y_grid to continuous arrays\n",
    "x_gridflat = np.ravel(x_grid)\n",
    "y_gridflat = np.ravel(y_grid)\n",
    "\n",
    "# The last layer of the current model takes two columns as input. Hence transpose of np.vstack() is required.\n",
    "X = np.vstack((x_gridflat, y_gridflat)).T\n",
    "\n",
    "prob_contour = model_prob(X).reshape(100,100) "
   ]
  },
  {
   "cell_type": "code",
   "execution_count": 29,
   "id": "da72499a",
   "metadata": {
    "execution": {
     "iopub.execute_input": "2022-02-24T00:30:49.603781Z",
     "iopub.status.busy": "2022-02-24T00:30:49.603178Z",
     "iopub.status.idle": "2022-02-24T00:30:49.919303Z",
     "shell.execute_reply": "2022-02-24T00:30:49.919764Z"
    },
    "papermill": {
     "duration": 0.38007,
     "end_time": "2022-02-24T00:30:49.919922",
     "exception": false,
     "start_time": "2022-02-24T00:30:49.539852",
     "status": "completed"
    },
    "tags": []
   },
   "outputs": [
    {
     "data": {
      "image/png": "[encoded data removed]",
      "text/plain": [
       "<Figure size 720x648 with 1 Axes>"
      ]
     },
     "metadata": {
      "needs_background": "light"
     },
     "output_type": "display_data"
    }
   ],
   "source": [
    "plt.figure(figsize=(10,9))\n",
    "plt.scatter(testing_plot[:,0], testing_plot[:,1], alpha = 0.1, c = y_test.ravel())\n",
    "contours = plt.contour(x_grid,y_grid,prob_contour)\n",
    "plt.title('Probability Contours')\n",
    "plt.clabel(contours, inline = True );"
   ]
  },
  {
   "cell_type": "code",
   "execution_count": null,
   "id": "e81b4ac7",
   "metadata": {
    "papermill": {
     "duration": 0.054103,
     "end_time": "2022-02-24T00:30:50.029120",
     "exception": false,
     "start_time": "2022-02-24T00:30:49.975017",
     "status": "completed"
    },
    "tags": []
   },
   "outputs": [],
   "source": []
  }
 ],
 "metadata": {
  "kernelspec": {
   "display_name": "Python 3",
   "language": "python",
   "name": "python3"
  },
  "language_info": {
   "codemirror_mode": {
    "name": "ipython",
    "version": 3
   },
   "file_extension": ".py",
   "mimetype": "text/x-python",
   "name": "python",
   "nbconvert_exporter": "python",
   "pygments_lexer": "ipython3",
   "version": "3.6.15"
  },
  "papermill": {
   "default_parameters": {},
   "duration": 112.594404,
   "end_time": "2022-02-24T00:30:50.504025",
   "environment_variables": {},
   "exception": null,
   "input_path": "2020-08-11-part2.ipynb",
   "output_path": "2020-08-11-part2.ipynb",
   "parameters": {},
   "start_time": "2022-02-24T00:28:57.909621",
   "version": "2.3.3"
  }
 },
 "nbformat": 4,
 "nbformat_minor": 5
}