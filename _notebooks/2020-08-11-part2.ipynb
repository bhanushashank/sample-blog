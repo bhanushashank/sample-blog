{
 "cells": [
  {
   "cell_type": "markdown",
   "id": "98380cd3",
   "metadata": {
    "papermill": {
     "duration": 0.028636,
     "end_time": "2022-04-26T10:10:29.797040",
     "exception": false,
     "start_time": "2022-04-26T10:10:29.768404",
     "status": "completed"
    },
    "tags": []
   },
   "source": [
    "# Distinguish Your Own Digits (DYOD)"
   ]
  },
  {
   "cell_type": "markdown",
   "id": "ef31240d",
   "metadata": {
    "papermill": {
     "duration": 0.02559,
     "end_time": "2022-04-26T10:10:29.847349",
     "exception": false,
     "start_time": "2022-04-26T10:10:29.821759",
     "status": "completed"
    },
    "tags": []
   },
   "source": [
    "You are going to write a classifier that distinguishes between the number 3 and number 8."
   ]
  },
  {
   "cell_type": "code",
   "execution_count": 1,
   "id": "b15c8646",
   "metadata": {
    "execution": {
     "iopub.execute_input": "2022-04-26T10:10:29.906112Z",
     "iopub.status.busy": "2022-04-26T10:10:29.905586Z",
     "iopub.status.idle": "2022-04-26T10:10:29.915820Z",
     "shell.execute_reply": "2022-04-26T10:10:29.916211Z"
    },
    "papermill": {
     "duration": 0.045013,
     "end_time": "2022-04-26T10:10:29.916361",
     "exception": false,
     "start_time": "2022-04-26T10:10:29.871348",
     "status": "completed"
    },
    "tags": []
   },
   "outputs": [],
   "source": [
    "%load_ext autoreload\n",
    "%autoreload 2"
   ]
  },
  {
   "cell_type": "code",
   "execution_count": 2,
   "id": "22ef38dc",
   "metadata": {
    "execution": {
     "iopub.execute_input": "2022-04-26T10:10:29.969084Z",
     "iopub.status.busy": "2022-04-26T10:10:29.968567Z",
     "iopub.status.idle": "2022-04-26T10:10:30.498351Z",
     "shell.execute_reply": "2022-04-26T10:10:30.497818Z"
    },
    "papermill": {
     "duration": 0.558158,
     "end_time": "2022-04-26T10:10:30.498488",
     "exception": false,
     "start_time": "2022-04-26T10:10:29.940330",
     "status": "completed"
    },
    "tags": []
   },
   "outputs": [],
   "source": [
    "%matplotlib inline\n",
    "import numpy as np\n",
    "import matplotlib.pyplot as plt\n",
    "import pandas as pd"
   ]
  },
  {
   "cell_type": "markdown",
   "id": "ba036198",
   "metadata": {
    "papermill": {
     "duration": 0.024068,
     "end_time": "2022-04-26T10:10:30.547555",
     "exception": false,
     "start_time": "2022-04-26T10:10:30.523487",
     "status": "completed"
    },
    "tags": []
   },
   "source": [
    "From the command line run `pip install mnist`. This is a library that will help you bring down the mnist dataset. If you run this from a notebook, you need to put  `!pip install mnist` in a cell by itself."
   ]
  },
  {
   "cell_type": "code",
   "execution_count": 3,
   "id": "bb6ad8a1",
   "metadata": {
    "execution": {
     "iopub.execute_input": "2022-04-26T10:10:30.631627Z",
     "iopub.status.busy": "2022-04-26T10:10:30.627023Z",
     "iopub.status.idle": "2022-04-26T10:10:32.337685Z",
     "shell.execute_reply": "2022-04-26T10:10:32.337155Z"
    },
    "papermill": {
     "duration": 1.766199,
     "end_time": "2022-04-26T10:10:32.337820",
     "exception": false,
     "start_time": "2022-04-26T10:10:30.571621",
     "status": "completed"
    },
    "tags": []
   },
   "outputs": [
    {
     "name": "stdout",
     "output_type": "stream",
     "text": [
      "Collecting mnist\r\n"
     ]
    },
    {
     "name": "stdout",
     "output_type": "stream",
     "text": [
      "  Downloading mnist-0.2.2-py2.py3-none-any.whl (3.5 kB)\r\n",
      "Requirement already satisfied: numpy in /opt/hostedtoolcache/Python/3.6.15/x64/lib/python3.6/site-packages (from mnist) (1.19.5)\r\n"
     ]
    },
    {
     "name": "stdout",
     "output_type": "stream",
     "text": [
      "Installing collected packages: mnist\r\n"
     ]
    },
    {
     "name": "stdout",
     "output_type": "stream",
     "text": [
      "Successfully installed mnist-0.2.2\r\n"
     ]
    }
   ],
   "source": [
    "!pip install mnist"
   ]
  },
  {
   "cell_type": "markdown",
   "id": "69df9c9a",
   "metadata": {
    "papermill": {
     "duration": 0.025206,
     "end_time": "2022-04-26T10:10:32.389353",
     "exception": false,
     "start_time": "2022-04-26T10:10:32.364147",
     "status": "completed"
    },
    "tags": []
   },
   "source": [
    "## Preparing the Data"
   ]
  },
  {
   "cell_type": "code",
   "execution_count": 4,
   "id": "7f69d806",
   "metadata": {
    "execution": {
     "iopub.execute_input": "2022-04-26T10:10:32.452782Z",
     "iopub.status.busy": "2022-04-26T10:10:32.452264Z",
     "iopub.status.idle": "2022-04-26T10:10:32.461555Z",
     "shell.execute_reply": "2022-04-26T10:10:32.461959Z"
    },
    "papermill": {
     "duration": 0.04766,
     "end_time": "2022-04-26T10:10:32.462086",
     "exception": false,
     "start_time": "2022-04-26T10:10:32.414426",
     "status": "completed"
    },
    "tags": []
   },
   "outputs": [],
   "source": [
    "import mnist"
   ]
  },
  {
   "cell_type": "code",
   "execution_count": 5,
   "id": "a411e44f",
   "metadata": {
    "execution": {
     "iopub.execute_input": "2022-04-26T10:10:32.524114Z",
     "iopub.status.busy": "2022-04-26T10:10:32.515008Z",
     "iopub.status.idle": "2022-04-26T10:10:33.240205Z",
     "shell.execute_reply": "2022-04-26T10:10:33.240715Z"
    },
    "papermill": {
     "duration": 0.75363,
     "end_time": "2022-04-26T10:10:33.240871",
     "exception": false,
     "start_time": "2022-04-26T10:10:32.487241",
     "status": "completed"
    },
    "tags": []
   },
   "outputs": [],
   "source": [
    "train_images = mnist.train_images()\n",
    "train_labels = mnist.train_labels()"
   ]
  },
  {
   "cell_type": "code",
   "execution_count": 6,
   "id": "dceab3a5",
   "metadata": {
    "execution": {
     "iopub.execute_input": "2022-04-26T10:10:33.304932Z",
     "iopub.status.busy": "2022-04-26T10:10:33.304410Z",
     "iopub.status.idle": "2022-04-26T10:10:33.315880Z",
     "shell.execute_reply": "2022-04-26T10:10:33.315439Z"
    },
    "papermill": {
     "duration": 0.049477,
     "end_time": "2022-04-26T10:10:33.315996",
     "exception": false,
     "start_time": "2022-04-26T10:10:33.266519",
     "status": "completed"
    },
    "tags": []
   },
   "outputs": [
    {
     "data": {
      "text/plain": [
       "((60000, 28, 28), (60000,))"
      ]
     },
     "execution_count": 6,
     "metadata": {},
     "output_type": "execute_result"
    }
   ],
   "source": [
    "train_images.shape, train_labels.shape"
   ]
  },
  {
   "cell_type": "code",
   "execution_count": 7,
   "id": "f50dc2bb",
   "metadata": {
    "execution": {
     "iopub.execute_input": "2022-04-26T10:10:33.370202Z",
     "iopub.status.busy": "2022-04-26T10:10:33.369693Z",
     "iopub.status.idle": "2022-04-26T10:10:33.597619Z",
     "shell.execute_reply": "2022-04-26T10:10:33.598092Z"
    },
    "papermill": {
     "duration": 0.256912,
     "end_time": "2022-04-26T10:10:33.598252",
     "exception": false,
     "start_time": "2022-04-26T10:10:33.341340",
     "status": "completed"
    },
    "tags": []
   },
   "outputs": [],
   "source": [
    "test_images = mnist.test_images()\n",
    "test_labels = mnist.test_labels()"
   ]
  },
  {
   "cell_type": "code",
   "execution_count": 8,
   "id": "fc38cf1b",
   "metadata": {
    "execution": {
     "iopub.execute_input": "2022-04-26T10:10:33.656236Z",
     "iopub.status.busy": "2022-04-26T10:10:33.655707Z",
     "iopub.status.idle": "2022-04-26T10:10:33.667065Z",
     "shell.execute_reply": "2022-04-26T10:10:33.667508Z"
    },
    "papermill": {
     "duration": 0.043526,
     "end_time": "2022-04-26T10:10:33.667644",
     "exception": false,
     "start_time": "2022-04-26T10:10:33.624118",
     "status": "completed"
    },
    "tags": []
   },
   "outputs": [
    {
     "data": {
      "text/plain": [
       "((10000, 28, 28), (10000,))"
      ]
     },
     "execution_count": 8,
     "metadata": {},
     "output_type": "execute_result"
    }
   ],
   "source": [
    "test_images.shape, test_labels.shape"
   ]
  },
  {
   "cell_type": "code",
   "execution_count": 9,
   "id": "f9ed8fe0",
   "metadata": {
    "execution": {
     "iopub.execute_input": "2022-04-26T10:10:33.747042Z",
     "iopub.status.busy": "2022-04-26T10:10:33.732432Z",
     "iopub.status.idle": "2022-04-26T10:10:33.862136Z",
     "shell.execute_reply": "2022-04-26T10:10:33.862528Z"
    },
    "papermill": {
     "duration": 0.169453,
     "end_time": "2022-04-26T10:10:33.862670",
     "exception": false,
     "start_time": "2022-04-26T10:10:33.693217",
     "status": "completed"
    },
    "tags": []
   },
   "outputs": [
    {
     "name": "stdout",
     "output_type": "stream",
     "text": [
      "2\n"
     ]
    },
    {
     "data": {
      "text/plain": [
       "<matplotlib.image.AxesImage at 0x7f90a073c438>"
      ]
     },
     "execution_count": 9,
     "metadata": {},
     "output_type": "execute_result"
    },
    {
     "data": {
      "image/png": "[encoded data removed]",
      "text/plain": [
       "<Figure size 432x288 with 1 Axes>"
      ]
     },
     "metadata": {
      "needs_background": "light"
     },
     "output_type": "display_data"
    }
   ],
   "source": [
    "image_index = 7776 # You may select anything up to 60,000\n",
    "print(train_labels[image_index]) \n",
    "plt.imshow(train_images[image_index], cmap='Greys')"
   ]
  },
  {
   "cell_type": "markdown",
   "id": "a8d2388d",
   "metadata": {
    "papermill": {
     "duration": 0.026947,
     "end_time": "2022-04-26T10:10:33.916668",
     "exception": false,
     "start_time": "2022-04-26T10:10:33.889721",
     "status": "completed"
    },
    "tags": []
   },
   "source": [
    "## Filter data to get 3 and 8 out"
   ]
  },
  {
   "cell_type": "code",
   "execution_count": 10,
   "id": "776f7fc7",
   "metadata": {
    "execution": {
     "iopub.execute_input": "2022-04-26T10:10:33.984204Z",
     "iopub.status.busy": "2022-04-26T10:10:33.982944Z",
     "iopub.status.idle": "2022-04-26T10:10:33.994883Z",
     "shell.execute_reply": "2022-04-26T10:10:33.994447Z"
    },
    "papermill": {
     "duration": 0.051612,
     "end_time": "2022-04-26T10:10:33.994990",
     "exception": false,
     "start_time": "2022-04-26T10:10:33.943378",
     "status": "completed"
    },
    "tags": []
   },
   "outputs": [],
   "source": [
    "train_filter = np.where((train_labels == 3 ) | (train_labels == 8))\n",
    "test_filter = np.where((test_labels == 3) | (test_labels == 8))\n",
    "X_train, y_train = train_images[train_filter], train_labels[train_filter]\n",
    "X_test, y_test = test_images[test_filter], test_labels[test_filter]"
   ]
  },
  {
   "cell_type": "markdown",
   "id": "948f0b7e",
   "metadata": {
    "papermill": {
     "duration": 0.0266,
     "end_time": "2022-04-26T10:10:34.048342",
     "exception": false,
     "start_time": "2022-04-26T10:10:34.021742",
     "status": "completed"
    },
    "tags": []
   },
   "source": [
    "We normalize the pizel values in the 0 to 1 range"
   ]
  },
  {
   "cell_type": "code",
   "execution_count": 11,
   "id": "ee4c2166",
   "metadata": {
    "execution": {
     "iopub.execute_input": "2022-04-26T10:10:34.105226Z",
     "iopub.status.busy": "2022-04-26T10:10:34.104707Z",
     "iopub.status.idle": "2022-04-26T10:10:34.151961Z",
     "shell.execute_reply": "2022-04-26T10:10:34.152433Z"
    },
    "papermill": {
     "duration": 0.077535,
     "end_time": "2022-04-26T10:10:34.152591",
     "exception": false,
     "start_time": "2022-04-26T10:10:34.075056",
     "status": "completed"
    },
    "tags": []
   },
   "outputs": [],
   "source": [
    "X_train = X_train/255.\n",
    "X_test = X_test/255."
   ]
  },
  {
   "cell_type": "markdown",
   "id": "ddcf4fab",
   "metadata": {
    "papermill": {
     "duration": 0.026817,
     "end_time": "2022-04-26T10:10:34.207181",
     "exception": false,
     "start_time": "2022-04-26T10:10:34.180364",
     "status": "completed"
    },
    "tags": []
   },
   "source": [
    "And setup the labels as 1 (when the digit is 3) and 0 (when the digit is 8)"
   ]
  },
  {
   "cell_type": "code",
   "execution_count": 12,
   "id": "7dc908f2",
   "metadata": {
    "execution": {
     "iopub.execute_input": "2022-04-26T10:10:34.264818Z",
     "iopub.status.busy": "2022-04-26T10:10:34.264293Z",
     "iopub.status.idle": "2022-04-26T10:10:34.276902Z",
     "shell.execute_reply": "2022-04-26T10:10:34.276486Z"
    },
    "papermill": {
     "duration": 0.042949,
     "end_time": "2022-04-26T10:10:34.277015",
     "exception": false,
     "start_time": "2022-04-26T10:10:34.234066",
     "status": "completed"
    },
    "tags": []
   },
   "outputs": [],
   "source": [
    "y_train = 1*(y_train==3)\n",
    "y_test = 1*(y_test==3)"
   ]
  },
  {
   "cell_type": "code",
   "execution_count": 13,
   "id": "01e4e969",
   "metadata": {
    "execution": {
     "iopub.execute_input": "2022-04-26T10:10:34.346027Z",
     "iopub.status.busy": "2022-04-26T10:10:34.344349Z",
     "iopub.status.idle": "2022-04-26T10:10:34.349100Z",
     "shell.execute_reply": "2022-04-26T10:10:34.348575Z"
    },
    "papermill": {
     "duration": 0.045393,
     "end_time": "2022-04-26T10:10:34.349212",
     "exception": false,
     "start_time": "2022-04-26T10:10:34.303819",
     "status": "completed"
    },
    "tags": []
   },
   "outputs": [
    {
     "data": {
      "text/plain": [
       "((11982, 28, 28), (1984, 28, 28))"
      ]
     },
     "execution_count": 13,
     "metadata": {},
     "output_type": "execute_result"
    }
   ],
   "source": [
    "X_train.shape, X_test.shape"
   ]
  },
  {
   "cell_type": "markdown",
   "id": "5ccf3f85",
   "metadata": {
    "papermill": {
     "duration": 0.026833,
     "end_time": "2022-04-26T10:10:34.402869",
     "exception": false,
     "start_time": "2022-04-26T10:10:34.376036",
     "status": "completed"
    },
    "tags": []
   },
   "source": [
    "We reshape the data to flatten the image pixels into a set of features or co-variates:"
   ]
  },
  {
   "cell_type": "code",
   "execution_count": 14,
   "id": "5286a4a3",
   "metadata": {
    "execution": {
     "iopub.execute_input": "2022-04-26T10:10:34.464475Z",
     "iopub.status.busy": "2022-04-26T10:10:34.463866Z",
     "iopub.status.idle": "2022-04-26T10:10:34.477028Z",
     "shell.execute_reply": "2022-04-26T10:10:34.475960Z"
    },
    "papermill": {
     "duration": 0.047276,
     "end_time": "2022-04-26T10:10:34.477145",
     "exception": false,
     "start_time": "2022-04-26T10:10:34.429869",
     "status": "completed"
    },
    "tags": []
   },
   "outputs": [
    {
     "data": {
      "text/plain": [
       "((11982, 784), (1984, 784))"
      ]
     },
     "execution_count": 14,
     "metadata": {},
     "output_type": "execute_result"
    }
   ],
   "source": [
    "X_train = X_train.reshape(X_train.shape[0], -1)\n",
    "X_test = X_test.reshape(X_test.shape[0], -1)\n",
    "X_train.shape, X_test.shape"
   ]
  },
  {
   "cell_type": "code",
   "execution_count": 15,
   "id": "73c5f88a",
   "metadata": {
    "execution": {
     "iopub.execute_input": "2022-04-26T10:10:34.536207Z",
     "iopub.status.busy": "2022-04-26T10:10:34.535101Z",
     "iopub.status.idle": "2022-04-26T10:10:34.553682Z",
     "shell.execute_reply": "2022-04-26T10:10:34.553199Z"
    },
    "papermill": {
     "duration": 0.049317,
     "end_time": "2022-04-26T10:10:34.553806",
     "exception": false,
     "start_time": "2022-04-26T10:10:34.504489",
     "status": "completed"
    },
    "tags": []
   },
   "outputs": [],
   "source": [
    "#Impoting functions from 'Kudzu'\n",
    "from kudzu.model import Model\n",
    "from kudzu.train import Learner\n",
    "from kudzu.optim import GD\n",
    "from kudzu.data import Data, Sampler,Dataloader\n",
    "\n",
    "from kudzu.callbacks import AccCallback\n",
    "from kudzu.callbacks import ClfCallback\n",
    "\n",
    "from kudzu.loss import MSE\n",
    "\n",
    "from kudzu.layer import Sigmoid,Relu\n",
    "from kudzu.layer import Affine"
   ]
  },
  {
   "cell_type": "markdown",
   "id": "bc01172a",
   "metadata": {
    "papermill": {
     "duration": 0.027458,
     "end_time": "2022-04-26T10:10:34.609022",
     "exception": false,
     "start_time": "2022-04-26T10:10:34.581564",
     "status": "completed"
    },
    "tags": []
   },
   "source": [
    "### Let us create a `Config` class, to store important parameters. \n",
    "This class essentially plays the role of a dictionary."
   ]
  },
  {
   "cell_type": "code",
   "execution_count": 16,
   "id": "978281aa",
   "metadata": {
    "execution": {
     "iopub.execute_input": "2022-04-26T10:10:34.666906Z",
     "iopub.status.busy": "2022-04-26T10:10:34.666392Z",
     "iopub.status.idle": "2022-04-26T10:10:34.678670Z",
     "shell.execute_reply": "2022-04-26T10:10:34.678255Z"
    },
    "papermill": {
     "duration": 0.042626,
     "end_time": "2022-04-26T10:10:34.678781",
     "exception": false,
     "start_time": "2022-04-26T10:10:34.636155",
     "status": "completed"
    },
    "tags": []
   },
   "outputs": [],
   "source": [
    "class Config:\n",
    "    pass\n",
    "config = Config()\n",
    "config.lr = 0.001\n",
    "config.num_epochs = 250\n",
    "config.bs = 50"
   ]
  },
  {
   "cell_type": "markdown",
   "id": "1385fa59",
   "metadata": {
    "papermill": {
     "duration": 0.027276,
     "end_time": "2022-04-26T10:10:34.733484",
     "exception": false,
     "start_time": "2022-04-26T10:10:34.706208",
     "status": "completed"
    },
    "tags": []
   },
   "source": [
    "### Running Models with the Training data\n",
    "Details about the network layers:\n",
    "- A first affine layer has 784 inputs and does 100 affine transforms. These are followed by a Relu\n",
    "- A second affine layer has 100 inputs from the 100 activations of the past layer, and does 100 affine transforms. These are followed by a Relu\n",
    "- A third affine layer has 100 activations and does 2 affine transformations to create an embedding for visualization. There is no non-linearity here.\n",
    "- A final \"logistic regression\" which has an affine transform from 2 inputs to 1 output, which is squeezed through a sigmoid.\n"
   ]
  },
  {
   "cell_type": "code",
   "execution_count": 17,
   "id": "2b9c66db",
   "metadata": {
    "execution": {
     "iopub.execute_input": "2022-04-26T10:10:34.792102Z",
     "iopub.status.busy": "2022-04-26T10:10:34.791564Z",
     "iopub.status.idle": "2022-04-26T10:10:34.804033Z",
     "shell.execute_reply": "2022-04-26T10:10:34.803605Z"
    },
    "papermill": {
     "duration": 0.043348,
     "end_time": "2022-04-26T10:10:34.804148",
     "exception": false,
     "start_time": "2022-04-26T10:10:34.760800",
     "status": "completed"
    },
    "tags": []
   },
   "outputs": [],
   "source": [
    "data = Data(X_train, y_train.reshape(-1,1))\n",
    "sampler = Sampler(data, config.bs, shuffle=True)\n",
    "\n",
    "dl = Dataloader(data, sampler)\n",
    "\n",
    "opt = GD(config.lr)\n",
    "loss = MSE()"
   ]
  },
  {
   "cell_type": "code",
   "execution_count": 18,
   "id": "b275e4c2",
   "metadata": {
    "execution": {
     "iopub.execute_input": "2022-04-26T10:10:34.864230Z",
     "iopub.status.busy": "2022-04-26T10:10:34.863691Z",
     "iopub.status.idle": "2022-04-26T10:10:34.876039Z",
     "shell.execute_reply": "2022-04-26T10:10:34.875587Z"
    },
    "papermill": {
     "duration": 0.044322,
     "end_time": "2022-04-26T10:10:34.876162",
     "exception": false,
     "start_time": "2022-04-26T10:10:34.831840",
     "status": "completed"
    },
    "tags": []
   },
   "outputs": [],
   "source": [
    "training_data_x = X_train\n",
    "testing_data_x = X_test\n",
    "training_data_y = y_train.reshape(-1,1)\n",
    "testing_data_y = y_test.reshape(-1,1)"
   ]
  },
  {
   "cell_type": "code",
   "execution_count": 19,
   "id": "76951160",
   "metadata": {
    "execution": {
     "iopub.execute_input": "2022-04-26T10:10:34.948518Z",
     "iopub.status.busy": "2022-04-26T10:10:34.944337Z",
     "iopub.status.idle": "2022-04-26T10:10:34.954921Z",
     "shell.execute_reply": "2022-04-26T10:10:34.954486Z"
    },
    "papermill": {
     "duration": 0.051284,
     "end_time": "2022-04-26T10:10:34.955043",
     "exception": false,
     "start_time": "2022-04-26T10:10:34.903759",
     "status": "completed"
    },
    "tags": []
   },
   "outputs": [
    {
     "name": "stdout",
     "output_type": "stream",
     "text": [
      "xavier\n",
      "xavier\n",
      "xavier\n",
      "xavier\n",
      "xavier\n"
     ]
    }
   ],
   "source": [
    "layers = [Affine(\"first\", 784, 100), Relu(\"first\"), Affine(\"second\", 100, 100), Relu(\"second\"), Affine(\"third\", 100, 2), Affine(\"last\", 2, 1), Sigmoid(\"last\")]\n",
    "model_nn = Model(layers)\n",
    "model_lr = Model([Affine(\"logits\", 784, 1), Sigmoid(\"sigmoid\")])"
   ]
  },
  {
   "cell_type": "code",
   "execution_count": 20,
   "id": "6eede77a",
   "metadata": {
    "execution": {
     "iopub.execute_input": "2022-04-26T10:10:35.016704Z",
     "iopub.status.busy": "2022-04-26T10:10:35.016185Z",
     "iopub.status.idle": "2022-04-26T10:10:35.027358Z",
     "shell.execute_reply": "2022-04-26T10:10:35.026916Z"
    },
    "papermill": {
     "duration": 0.044581,
     "end_time": "2022-04-26T10:10:35.027486",
     "exception": false,
     "start_time": "2022-04-26T10:10:34.982905",
     "status": "completed"
    },
    "tags": []
   },
   "outputs": [],
   "source": [
    "nn_learner = Learner(loss, model_nn, opt, config.num_epochs)\n",
    "acc_nn = ClfCallback(nn_learner, config.bs, training_data_x , testing_data_x, training_data_y, testing_data_y)\n",
    "nn_learner.set_callbacks([acc_nn])"
   ]
  },
  {
   "cell_type": "code",
   "execution_count": 21,
   "id": "877b6cc7",
   "metadata": {
    "execution": {
     "iopub.execute_input": "2022-04-26T10:10:35.086713Z",
     "iopub.status.busy": "2022-04-26T10:10:35.086180Z",
     "iopub.status.idle": "2022-04-26T10:10:35.100324Z",
     "shell.execute_reply": "2022-04-26T10:10:35.099304Z"
    },
    "papermill": {
     "duration": 0.045491,
     "end_time": "2022-04-26T10:10:35.100443",
     "exception": false,
     "start_time": "2022-04-26T10:10:35.054952",
     "status": "completed"
    },
    "tags": []
   },
   "outputs": [],
   "source": [
    "lr_learner = Learner(loss, model_lr, opt, config.num_epochs)\n",
    "acc_lr = ClfCallback(lr_learner, config.bs, training_data_x , testing_data_x, training_data_y, testing_data_y)\n",
    "lr_learner.set_callbacks([acc_lr])"
   ]
  },
  {
   "cell_type": "code",
   "execution_count": 22,
   "id": "d9b133c3",
   "metadata": {
    "execution": {
     "iopub.execute_input": "2022-04-26T10:10:35.165669Z",
     "iopub.status.busy": "2022-04-26T10:10:35.162724Z",
     "iopub.status.idle": "2022-04-26T10:11:49.391828Z",
     "shell.execute_reply": "2022-04-26T10:11:49.392575Z"
    },
    "papermill": {
     "duration": 74.264436,
     "end_time": "2022-04-26T10:11:49.392721",
     "exception": false,
     "start_time": "2022-04-26T10:10:35.128285",
     "status": "completed"
    },
    "tags": []
   },
   "outputs": [
    {
     "name": "stdout",
     "output_type": "stream",
     "text": [
      "Epoch 0, Loss 0.2401\n",
      "Training Accuracy: 0.6944, Testing Accuracy: 0.6411\n",
      "\n"
     ]
    },
    {
     "name": "stdout",
     "output_type": "stream",
     "text": [
      "Epoch 10, Loss 0.0835\n",
      "Training Accuracy: 0.9244, Testing Accuracy: 0.9380\n",
      "\n"
     ]
    },
    {
     "name": "stdout",
     "output_type": "stream",
     "text": [
      "Epoch 20, Loss 0.0523\n",
      "Training Accuracy: 0.9472, Testing Accuracy: 0.9622\n",
      "\n"
     ]
    },
    {
     "name": "stdout",
     "output_type": "stream",
     "text": [
      "Epoch 30, Loss 0.0417\n",
      "Training Accuracy: 0.9558, Testing Accuracy: 0.9682\n",
      "\n"
     ]
    },
    {
     "name": "stdout",
     "output_type": "stream",
     "text": [
      "Epoch 40, Loss 0.0364\n",
      "Training Accuracy: 0.9608, Testing Accuracy: 0.9708\n",
      "\n"
     ]
    },
    {
     "name": "stdout",
     "output_type": "stream",
     "text": [
      "Epoch 50, Loss 0.0333\n",
      "Training Accuracy: 0.9639, Testing Accuracy: 0.9708\n",
      "\n"
     ]
    },
    {
     "name": "stdout",
     "output_type": "stream",
     "text": [
      "Epoch 60, Loss 0.0312\n",
      "Training Accuracy: 0.9654, Testing Accuracy: 0.9708\n",
      "\n"
     ]
    },
    {
     "name": "stdout",
     "output_type": "stream",
     "text": [
      "Epoch 70, Loss 0.0295\n",
      "Training Accuracy: 0.9671, Testing Accuracy: 0.9703\n",
      "\n"
     ]
    },
    {
     "name": "stdout",
     "output_type": "stream",
     "text": [
      "Epoch 80, Loss 0.0283\n",
      "Training Accuracy: 0.9685, Testing Accuracy: 0.9703\n",
      "\n"
     ]
    },
    {
     "name": "stdout",
     "output_type": "stream",
     "text": [
      "Epoch 90, Loss 0.0272\n",
      "Training Accuracy: 0.9695, Testing Accuracy: 0.9703\n",
      "\n"
     ]
    },
    {
     "name": "stdout",
     "output_type": "stream",
     "text": [
      "Epoch 100, Loss 0.0264\n",
      "Training Accuracy: 0.9709, Testing Accuracy: 0.9703\n",
      "\n"
     ]
    },
    {
     "name": "stdout",
     "output_type": "stream",
     "text": [
      "Epoch 110, Loss 0.0256\n",
      "Training Accuracy: 0.9718, Testing Accuracy: 0.9713\n",
      "\n"
     ]
    },
    {
     "name": "stdout",
     "output_type": "stream",
     "text": [
      "Epoch 120, Loss 0.0249\n",
      "Training Accuracy: 0.9716, Testing Accuracy: 0.9718\n",
      "\n"
     ]
    },
    {
     "name": "stdout",
     "output_type": "stream",
     "text": [
      "Epoch 130, Loss 0.0243\n",
      "Training Accuracy: 0.9723, Testing Accuracy: 0.9718\n",
      "\n"
     ]
    },
    {
     "name": "stdout",
     "output_type": "stream",
     "text": [
      "Epoch 140, Loss 0.0237\n",
      "Training Accuracy: 0.9730, Testing Accuracy: 0.9718\n",
      "\n"
     ]
    },
    {
     "name": "stdout",
     "output_type": "stream",
     "text": [
      "Epoch 150, Loss 0.0232\n",
      "Training Accuracy: 0.9733, Testing Accuracy: 0.9718\n",
      "\n"
     ]
    },
    {
     "name": "stdout",
     "output_type": "stream",
     "text": [
      "Epoch 160, Loss 0.0228\n",
      "Training Accuracy: 0.9737, Testing Accuracy: 0.9723\n",
      "\n"
     ]
    },
    {
     "name": "stdout",
     "output_type": "stream",
     "text": [
      "Epoch 170, Loss 0.0223\n",
      "Training Accuracy: 0.9747, Testing Accuracy: 0.9723\n",
      "\n"
     ]
    },
    {
     "name": "stdout",
     "output_type": "stream",
     "text": [
      "Epoch 180, Loss 0.0219\n",
      "Training Accuracy: 0.9749, Testing Accuracy: 0.9723\n",
      "\n"
     ]
    },
    {
     "name": "stdout",
     "output_type": "stream",
     "text": [
      "Epoch 190, Loss 0.0215\n",
      "Training Accuracy: 0.9754, Testing Accuracy: 0.9723\n",
      "\n"
     ]
    },
    {
     "name": "stdout",
     "output_type": "stream",
     "text": [
      "Epoch 200, Loss 0.0211\n",
      "Training Accuracy: 0.9757, Testing Accuracy: 0.9728\n",
      "\n"
     ]
    },
    {
     "name": "stdout",
     "output_type": "stream",
     "text": [
      "Epoch 210, Loss 0.0207\n",
      "Training Accuracy: 0.9761, Testing Accuracy: 0.9733\n",
      "\n"
     ]
    },
    {
     "name": "stdout",
     "output_type": "stream",
     "text": [
      "Epoch 220, Loss 0.0204\n",
      "Training Accuracy: 0.9767, Testing Accuracy: 0.9743\n",
      "\n"
     ]
    },
    {
     "name": "stdout",
     "output_type": "stream",
     "text": [
      "Epoch 230, Loss 0.02\n",
      "Training Accuracy: 0.9772, Testing Accuracy: 0.9743\n",
      "\n"
     ]
    },
    {
     "name": "stdout",
     "output_type": "stream",
     "text": [
      "Epoch 240, Loss 0.0197\n",
      "Training Accuracy: 0.9780, Testing Accuracy: 0.9743\n",
      "\n"
     ]
    },
    {
     "data": {
      "text/plain": [
       "0.06685232404851355"
      ]
     },
     "execution_count": 22,
     "metadata": {},
     "output_type": "execute_result"
    }
   ],
   "source": [
    "nn_learner.train_loop(dl)"
   ]
  },
  {
   "cell_type": "code",
   "execution_count": 23,
   "id": "e0163366",
   "metadata": {
    "execution": {
     "iopub.execute_input": "2022-04-26T10:11:49.484914Z",
     "iopub.status.busy": "2022-04-26T10:11:49.484383Z",
     "iopub.status.idle": "2022-04-26T10:12:02.996315Z",
     "shell.execute_reply": "2022-04-26T10:12:02.997054Z"
    },
    "papermill": {
     "duration": 13.569147,
     "end_time": "2022-04-26T10:12:02.997202",
     "exception": false,
     "start_time": "2022-04-26T10:11:49.428055",
     "status": "completed"
    },
    "tags": []
   },
   "outputs": [
    {
     "name": "stdout",
     "output_type": "stream",
     "text": [
      "Epoch 0, Loss 0.2381\n",
      "Training Accuracy: 0.6904, Testing Accuracy: 0.7097\n",
      "\n"
     ]
    },
    {
     "name": "stdout",
     "output_type": "stream",
     "text": [
      "Epoch 10, Loss 0.1022\n",
      "Training Accuracy: 0.9150, Testing Accuracy: 0.9239\n",
      "\n"
     ]
    },
    {
     "name": "stdout",
     "output_type": "stream",
     "text": [
      "Epoch 20, Loss 0.0781\n",
      "Training Accuracy: 0.9335, Testing Accuracy: 0.9410\n",
      "\n"
     ]
    },
    {
     "name": "stdout",
     "output_type": "stream",
     "text": [
      "Epoch 30, Loss 0.0673\n",
      "Training Accuracy: 0.9381, Testing Accuracy: 0.9486\n",
      "\n"
     ]
    },
    {
     "name": "stdout",
     "output_type": "stream",
     "text": [
      "Epoch 40, Loss 0.0609\n",
      "Training Accuracy: 0.9435, Testing Accuracy: 0.9536\n",
      "\n"
     ]
    },
    {
     "name": "stdout",
     "output_type": "stream",
     "text": [
      "Epoch 50, Loss 0.0566\n",
      "Training Accuracy: 0.9455, Testing Accuracy: 0.9567\n",
      "\n"
     ]
    },
    {
     "name": "stdout",
     "output_type": "stream",
     "text": [
      "Epoch 60, Loss 0.0534\n",
      "Training Accuracy: 0.9476, Testing Accuracy: 0.9587\n",
      "\n"
     ]
    },
    {
     "name": "stdout",
     "output_type": "stream",
     "text": [
      "Epoch 70, Loss 0.051\n",
      "Training Accuracy: 0.9492, Testing Accuracy: 0.9607\n",
      "\n"
     ]
    },
    {
     "name": "stdout",
     "output_type": "stream",
     "text": [
      "Epoch 80, Loss 0.049\n",
      "Training Accuracy: 0.9510, Testing Accuracy: 0.9612\n",
      "\n"
     ]
    },
    {
     "name": "stdout",
     "output_type": "stream",
     "text": [
      "Epoch 90, Loss 0.0473\n",
      "Training Accuracy: 0.9518, Testing Accuracy: 0.9627\n",
      "\n"
     ]
    },
    {
     "name": "stdout",
     "output_type": "stream",
     "text": [
      "Epoch 100, Loss 0.046\n",
      "Training Accuracy: 0.9534, Testing Accuracy: 0.9637\n",
      "\n"
     ]
    },
    {
     "name": "stdout",
     "output_type": "stream",
     "text": [
      "Epoch 110, Loss 0.0448\n",
      "Training Accuracy: 0.9543, Testing Accuracy: 0.9632\n",
      "\n"
     ]
    },
    {
     "name": "stdout",
     "output_type": "stream",
     "text": [
      "Epoch 120, Loss 0.0438\n",
      "Training Accuracy: 0.9553, Testing Accuracy: 0.9632\n",
      "\n"
     ]
    },
    {
     "name": "stdout",
     "output_type": "stream",
     "text": [
      "Epoch 130, Loss 0.0428\n",
      "Training Accuracy: 0.9564, Testing Accuracy: 0.9632\n",
      "\n"
     ]
    },
    {
     "name": "stdout",
     "output_type": "stream",
     "text": [
      "Epoch 140, Loss 0.042\n",
      "Training Accuracy: 0.9571, Testing Accuracy: 0.9642\n",
      "\n"
     ]
    },
    {
     "name": "stdout",
     "output_type": "stream",
     "text": [
      "Epoch 150, Loss 0.0413\n",
      "Training Accuracy: 0.9580, Testing Accuracy: 0.9642\n",
      "\n"
     ]
    },
    {
     "name": "stdout",
     "output_type": "stream",
     "text": [
      "Epoch 160, Loss 0.0406\n",
      "Training Accuracy: 0.9584, Testing Accuracy: 0.9642\n",
      "\n"
     ]
    },
    {
     "name": "stdout",
     "output_type": "stream",
     "text": [
      "Epoch 170, Loss 0.04\n",
      "Training Accuracy: 0.9588, Testing Accuracy: 0.9642\n",
      "\n"
     ]
    },
    {
     "name": "stdout",
     "output_type": "stream",
     "text": [
      "Epoch 180, Loss 0.0395\n",
      "Training Accuracy: 0.9592, Testing Accuracy: 0.9647\n",
      "\n"
     ]
    },
    {
     "name": "stdout",
     "output_type": "stream",
     "text": [
      "Epoch 190, Loss 0.039\n",
      "Training Accuracy: 0.9598, Testing Accuracy: 0.9647\n",
      "\n"
     ]
    },
    {
     "name": "stdout",
     "output_type": "stream",
     "text": [
      "Epoch 200, Loss 0.0385\n",
      "Training Accuracy: 0.9597, Testing Accuracy: 0.9657\n",
      "\n"
     ]
    },
    {
     "name": "stdout",
     "output_type": "stream",
     "text": [
      "Epoch 210, Loss 0.0381\n",
      "Training Accuracy: 0.9600, Testing Accuracy: 0.9657\n",
      "\n"
     ]
    },
    {
     "name": "stdout",
     "output_type": "stream",
     "text": [
      "Epoch 220, Loss 0.0377\n",
      "Training Accuracy: 0.9600, Testing Accuracy: 0.9662\n",
      "\n"
     ]
    },
    {
     "name": "stdout",
     "output_type": "stream",
     "text": [
      "Epoch 230, Loss 0.0373\n",
      "Training Accuracy: 0.9601, Testing Accuracy: 0.9662\n",
      "\n"
     ]
    },
    {
     "name": "stdout",
     "output_type": "stream",
     "text": [
      "Epoch 240, Loss 0.0369\n",
      "Training Accuracy: 0.9600, Testing Accuracy: 0.9662\n",
      "\n"
     ]
    },
    {
     "data": {
      "text/plain": [
       "0.041465819471052594"
      ]
     },
     "execution_count": 23,
     "metadata": {},
     "output_type": "execute_result"
    }
   ],
   "source": [
    "lr_learner.train_loop(dl)"
   ]
  },
  {
   "cell_type": "code",
   "execution_count": 24,
   "id": "ca410940",
   "metadata": {
    "execution": {
     "iopub.execute_input": "2022-04-26T10:12:03.095505Z",
     "iopub.status.busy": "2022-04-26T10:12:03.094938Z",
     "iopub.status.idle": "2022-04-26T10:12:03.326297Z",
     "shell.execute_reply": "2022-04-26T10:12:03.325743Z"
    },
    "papermill": {
     "duration": 0.286598,
     "end_time": "2022-04-26T10:12:03.326426",
     "exception": false,
     "start_time": "2022-04-26T10:12:03.039828",
     "status": "completed"
    },
    "tags": []
   },
   "outputs": [
    {
     "data": {
      "text/plain": [
       "<matplotlib.legend.Legend at 0x7f90a031bb00>"
      ]
     },
     "execution_count": 24,
     "metadata": {},
     "output_type": "execute_result"
    },
    {
     "data": {
      "image/png": "[encoded data removed]",
      "text/plain": [
       "<Figure size 1080x720 with 1 Axes>"
      ]
     },
     "metadata": {
      "needs_background": "light"
     },
     "output_type": "display_data"
    }
   ],
   "source": [
    "#comparing the results of NN and LR\n",
    "plt.figure(figsize=(15,10))\n",
    "\n",
    "# Neural Network plots\n",
    "plt.plot(acc_nn.accuracies, 'r-', label = \"Training Accuracies - NN\")\n",
    "plt.plot(acc_nn.test_accuracies, 'g-', label = \"Testing Accuracies - NN\")\n",
    "\n",
    "# Logistic Regression plots\n",
    "plt.plot(acc_lr.accuracies, 'k-', label = \"Training Accuracies - LR\")\n",
    "plt.plot(acc_lr.test_accuracies, 'b-', label = \"Testing Accuracies - LR\")\n",
    "plt.legend()"
   ]
  },
  {
   "cell_type": "markdown",
   "id": "80dfb35c",
   "metadata": {
    "papermill": {
     "duration": 0.042711,
     "end_time": "2022-04-26T10:12:03.412747",
     "exception": false,
     "start_time": "2022-04-26T10:12:03.370036",
     "status": "completed"
    },
    "tags": []
   },
   "source": [
    "#### Plotting the outputs of this layer of the NN.\n"
   ]
  },
  {
   "cell_type": "code",
   "execution_count": 25,
   "id": "45eb2ff5",
   "metadata": {
    "execution": {
     "iopub.execute_input": "2022-04-26T10:12:03.506900Z",
     "iopub.status.busy": "2022-04-26T10:12:03.504550Z",
     "iopub.status.idle": "2022-04-26T10:12:03.524725Z",
     "shell.execute_reply": "2022-04-26T10:12:03.525130Z"
    },
    "papermill": {
     "duration": 0.069553,
     "end_time": "2022-04-26T10:12:03.525273",
     "exception": false,
     "start_time": "2022-04-26T10:12:03.455720",
     "status": "completed"
    },
    "tags": []
   },
   "outputs": [],
   "source": [
    "new_model = Model(layers[:-2])\n",
    "testing_plot = new_model(testing_data_x)"
   ]
  },
  {
   "cell_type": "code",
   "execution_count": 26,
   "id": "4c0a5485",
   "metadata": {
    "execution": {
     "iopub.execute_input": "2022-04-26T10:12:03.620576Z",
     "iopub.status.busy": "2022-04-26T10:12:03.620057Z",
     "iopub.status.idle": "2022-04-26T10:12:03.809519Z",
     "shell.execute_reply": "2022-04-26T10:12:03.809088Z"
    },
    "papermill": {
     "duration": 0.239588,
     "end_time": "2022-04-26T10:12:03.809637",
     "exception": false,
     "start_time": "2022-04-26T10:12:03.570049",
     "status": "completed"
    },
    "tags": []
   },
   "outputs": [
    {
     "data": {
      "text/plain": [
       "Text(0.5, 1.0, 'Outputs')"
      ]
     },
     "execution_count": 26,
     "metadata": {},
     "output_type": "execute_result"
    },
    {
     "data": {
      "image/png": "[encoded data removed]",
      "text/plain": [
       "<Figure size 576x504 with 1 Axes>"
      ]
     },
     "metadata": {
      "needs_background": "light"
     },
     "output_type": "display_data"
    }
   ],
   "source": [
    "# Plotting the scatter plot of points and color coding by class\n",
    "plt.figure(figsize=(8,7))\n",
    "plt.scatter(testing_plot[:,0], testing_plot[:,1], alpha = 0.1, c = y_test.ravel());\n",
    "plt.title('Outputs')"
   ]
  },
  {
   "cell_type": "markdown",
   "id": "a74fcf8f",
   "metadata": {
    "papermill": {
     "duration": 0.044824,
     "end_time": "2022-04-26T10:12:03.899426",
     "exception": false,
     "start_time": "2022-04-26T10:12:03.854602",
     "status": "completed"
    },
    "tags": []
   },
   "source": [
    "Probability contours"
   ]
  },
  {
   "cell_type": "code",
   "execution_count": 27,
   "id": "d0afc8e3",
   "metadata": {
    "execution": {
     "iopub.execute_input": "2022-04-26T10:12:03.997777Z",
     "iopub.status.busy": "2022-04-26T10:12:03.994384Z",
     "iopub.status.idle": "2022-04-26T10:12:04.006654Z",
     "shell.execute_reply": "2022-04-26T10:12:04.006203Z"
    },
    "papermill": {
     "duration": 0.062369,
     "end_time": "2022-04-26T10:12:04.006766",
     "exception": false,
     "start_time": "2022-04-26T10:12:03.944397",
     "status": "completed"
    },
    "tags": []
   },
   "outputs": [],
   "source": [
    "model_prob = Model(layers[-2:]) "
   ]
  },
  {
   "cell_type": "code",
   "execution_count": 28,
   "id": "9b96e238",
   "metadata": {
    "execution": {
     "iopub.execute_input": "2022-04-26T10:12:04.140345Z",
     "iopub.status.busy": "2022-04-26T10:12:04.134835Z",
     "iopub.status.idle": "2022-04-26T10:12:04.150321Z",
     "shell.execute_reply": "2022-04-26T10:12:04.149817Z"
    },
    "papermill": {
     "duration": 0.069324,
     "end_time": "2022-04-26T10:12:04.150433",
     "exception": false,
     "start_time": "2022-04-26T10:12:04.081109",
     "status": "completed"
    },
    "tags": []
   },
   "outputs": [],
   "source": [
    "#creating the x and y ranges according to the above generated plot.\n",
    "x_range = np.linspace(-4, 1, 100) \n",
    "y_range = np.linspace(-6, 6, 100) \n",
    "x_grid, y_grid = np.meshgrid(x_range, y_range) # x_grid and y_grig are of size 100 X 100\n",
    "\n",
    "# converting x_grid and y_grid to continuous arrays\n",
    "x_gridflat = np.ravel(x_grid)\n",
    "y_gridflat = np.ravel(y_grid)\n",
    "\n",
    "# The last layer of the current model takes two columns as input. Hence transpose of np.vstack() is required.\n",
    "X = np.vstack((x_gridflat, y_gridflat)).T\n",
    "\n",
    "prob_contour = model_prob(X).reshape(100,100) "
   ]
  },
  {
   "cell_type": "code",
   "execution_count": 29,
   "id": "da72499a",
   "metadata": {
    "execution": {
     "iopub.execute_input": "2022-04-26T10:12:04.278349Z",
     "iopub.status.busy": "2022-04-26T10:12:04.277791Z",
     "iopub.status.idle": "2022-04-26T10:12:04.494389Z",
     "shell.execute_reply": "2022-04-26T10:12:04.493957Z"
    },
    "papermill": {
     "duration": 0.292879,
     "end_time": "2022-04-26T10:12:04.494507",
     "exception": false,
     "start_time": "2022-04-26T10:12:04.201628",
     "status": "completed"
    },
    "tags": []
   },
   "outputs": [
    {
     "data": {
      "image/png": "[encoded data removed]",
      "text/plain": [
       "<Figure size 720x648 with 1 Axes>"
      ]
     },
     "metadata": {
      "needs_background": "light"
     },
     "output_type": "display_data"
    }
   ],
   "source": [
    "plt.figure(figsize=(10,9))\n",
    "plt.scatter(testing_plot[:,0], testing_plot[:,1], alpha = 0.1, c = y_test.ravel())\n",
    "contours = plt.contour(x_grid,y_grid,prob_contour)\n",
    "plt.title('Probability Contours')\n",
    "plt.clabel(contours, inline = True );"
   ]
  },
  {
   "cell_type": "code",
   "execution_count": null,
   "id": "e81b4ac7",
   "metadata": {
    "papermill": {
     "duration": 0.047467,
     "end_time": "2022-04-26T10:12:04.590269",
     "exception": false,
     "start_time": "2022-04-26T10:12:04.542802",
     "status": "completed"
    },
    "tags": []
   },
   "outputs": [],
   "source": []
  }
 ],
 "metadata": {
  "kernelspec": {
   "display_name": "Python 3",
   "language": "python",
   "name": "python3"
  },
  "language_info": {
   "codemirror_mode": {
    "name": "ipython",
    "version": 3
   },
   "file_extension": ".py",
   "mimetype": "text/x-python",
   "name": "python",
   "nbconvert_exporter": "python",
   "pygments_lexer": "ipython3",
   "version": "3.6.15"
  },
  "papermill": {
   "default_parameters": {},
   "duration": 96.221415,
   "end_time": "2022-04-26T10:12:05.060448",
   "environment_variables": {},
   "exception": null,
   "input_path": "2020-08-11-part2.ipynb",
   "output_path": "2020-08-11-part2.ipynb",
   "parameters": {},
   "start_time": "2022-04-26T10:10:28.839033",
   "version": "2.3.3"
  }
 },
 "nbformat": 4,
 "nbformat_minor": 5
}