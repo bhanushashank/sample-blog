{
 "cells": [
  {
   "cell_type": "markdown",
   "id": "98380cd3",
   "metadata": {
    "papermill": {
     "duration": 0.03454,
     "end_time": "2021-10-15T20:08:17.125793",
     "exception": false,
     "start_time": "2021-10-15T20:08:17.091253",
     "status": "completed"
    },
    "tags": []
   },
   "source": [
    "# Distinguish Your Own Digits (DYOD)"
   ]
  },
  {
   "cell_type": "markdown",
   "id": "ef31240d",
   "metadata": {
    "papermill": {
     "duration": 0.029817,
     "end_time": "2021-10-15T20:08:17.185870",
     "exception": false,
     "start_time": "2021-10-15T20:08:17.156053",
     "status": "completed"
    },
    "tags": []
   },
   "source": [
    "You are going to write a classifier that distinguishes between the number 3 and number 8."
   ]
  },
  {
   "cell_type": "code",
   "execution_count": 1,
   "id": "b15c8646",
   "metadata": {
    "execution": {
     "iopub.execute_input": "2021-10-15T20:08:17.261426Z",
     "iopub.status.busy": "2021-10-15T20:08:17.260722Z",
     "iopub.status.idle": "2021-10-15T20:08:17.273229Z",
     "shell.execute_reply": "2021-10-15T20:08:17.272590Z"
    },
    "papermill": {
     "duration": 0.055377,
     "end_time": "2021-10-15T20:08:17.273428",
     "exception": false,
     "start_time": "2021-10-15T20:08:17.218051",
     "status": "completed"
    },
    "tags": []
   },
   "outputs": [],
   "source": [
    "%load_ext autoreload\n",
    "%autoreload 2"
   ]
  },
  {
   "cell_type": "code",
   "execution_count": 2,
   "id": "22ef38dc",
   "metadata": {
    "execution": {
     "iopub.execute_input": "2021-10-15T20:08:17.338762Z",
     "iopub.status.busy": "2021-10-15T20:08:17.338166Z",
     "iopub.status.idle": "2021-10-15T20:08:17.916072Z",
     "shell.execute_reply": "2021-10-15T20:08:17.915494Z"
    },
    "papermill": {
     "duration": 0.611065,
     "end_time": "2021-10-15T20:08:17.916212",
     "exception": false,
     "start_time": "2021-10-15T20:08:17.305147",
     "status": "completed"
    },
    "tags": []
   },
   "outputs": [],
   "source": [
    "%matplotlib inline\n",
    "import numpy as np\n",
    "import matplotlib.pyplot as plt\n",
    "import pandas as pd"
   ]
  },
  {
   "cell_type": "markdown",
   "id": "ba036198",
   "metadata": {
    "papermill": {
     "duration": 0.031203,
     "end_time": "2021-10-15T20:08:17.977777",
     "exception": false,
     "start_time": "2021-10-15T20:08:17.946574",
     "status": "completed"
    },
    "tags": []
   },
   "source": [
    "From the command line run `pip install mnist`. This is a library that will help you bring down the mnist dataset. If you run this from a notebook, you need to put  `!pip install mnist` in a cell by itself."
   ]
  },
  {
   "cell_type": "code",
   "execution_count": 3,
   "id": "bb6ad8a1",
   "metadata": {
    "execution": {
     "iopub.execute_input": "2021-10-15T20:08:18.038735Z",
     "iopub.status.busy": "2021-10-15T20:08:18.038148Z",
     "iopub.status.idle": "2021-10-15T20:08:20.008449Z",
     "shell.execute_reply": "2021-10-15T20:08:20.007865Z"
    },
    "papermill": {
     "duration": 2.003713,
     "end_time": "2021-10-15T20:08:20.008595",
     "exception": false,
     "start_time": "2021-10-15T20:08:18.004882",
     "status": "completed"
    },
    "tags": []
   },
   "outputs": [
    {
     "name": "stdout",
     "output_type": "stream",
     "text": [
      "Collecting mnist\r\n"
     ]
    },
    {
     "name": "stdout",
     "output_type": "stream",
     "text": [
      "  Downloading mnist-0.2.2-py2.py3-none-any.whl (3.5 kB)\r\n",
      "Requirement already satisfied: numpy in /opt/hostedtoolcache/Python/3.6.15/x64/lib/python3.6/site-packages (from mnist) (1.19.5)\r\n"
     ]
    },
    {
     "name": "stdout",
     "output_type": "stream",
     "text": [
      "Installing collected packages: mnist\r\n"
     ]
    },
    {
     "name": "stdout",
     "output_type": "stream",
     "text": [
      "Successfully installed mnist-0.2.2\r\n"
     ]
    },
    {
     "name": "stdout",
     "output_type": "stream",
     "text": [
      "\u001b[33mWARNING: You are using pip version 21.2.4; however, version 21.3 is available.\r\n",
      "You should consider upgrading via the '/opt/hostedtoolcache/Python/3.6.15/x64/bin/python -m pip install --upgrade pip' command.\u001b[0m\r\n"
     ]
    }
   ],
   "source": [
    "!pip install mnist"
   ]
  },
  {
   "cell_type": "markdown",
   "id": "69df9c9a",
   "metadata": {
    "papermill": {
     "duration": 0.036691,
     "end_time": "2021-10-15T20:08:20.077903",
     "exception": false,
     "start_time": "2021-10-15T20:08:20.041212",
     "status": "completed"
    },
    "tags": []
   },
   "source": [
    "## Preparing the Data"
   ]
  },
  {
   "cell_type": "code",
   "execution_count": 4,
   "id": "7f69d806",
   "metadata": {
    "execution": {
     "iopub.execute_input": "2021-10-15T20:08:20.151995Z",
     "iopub.status.busy": "2021-10-15T20:08:20.151349Z",
     "iopub.status.idle": "2021-10-15T20:08:20.167617Z",
     "shell.execute_reply": "2021-10-15T20:08:20.167039Z"
    },
    "papermill": {
     "duration": 0.05511,
     "end_time": "2021-10-15T20:08:20.167777",
     "exception": false,
     "start_time": "2021-10-15T20:08:20.112667",
     "status": "completed"
    },
    "tags": []
   },
   "outputs": [],
   "source": [
    "import mnist"
   ]
  },
  {
   "cell_type": "code",
   "execution_count": 5,
   "id": "a411e44f",
   "metadata": {
    "execution": {
     "iopub.execute_input": "2021-10-15T20:08:20.238126Z",
     "iopub.status.busy": "2021-10-15T20:08:20.237468Z",
     "iopub.status.idle": "2021-10-15T20:08:20.824396Z",
     "shell.execute_reply": "2021-10-15T20:08:20.824924Z"
    },
    "papermill": {
     "duration": 0.624799,
     "end_time": "2021-10-15T20:08:20.825103",
     "exception": false,
     "start_time": "2021-10-15T20:08:20.200304",
     "status": "completed"
    },
    "tags": []
   },
   "outputs": [],
   "source": [
    "train_images = mnist.train_images()\n",
    "train_labels = mnist.train_labels()"
   ]
  },
  {
   "cell_type": "code",
   "execution_count": 6,
   "id": "dceab3a5",
   "metadata": {
    "execution": {
     "iopub.execute_input": "2021-10-15T20:08:20.911920Z",
     "iopub.status.busy": "2021-10-15T20:08:20.903770Z",
     "iopub.status.idle": "2021-10-15T20:08:20.917905Z",
     "shell.execute_reply": "2021-10-15T20:08:20.918463Z"
    },
    "papermill": {
     "duration": 0.060411,
     "end_time": "2021-10-15T20:08:20.918633",
     "exception": false,
     "start_time": "2021-10-15T20:08:20.858222",
     "status": "completed"
    },
    "tags": []
   },
   "outputs": [
    {
     "data": {
      "text/plain": [
       "((60000, 28, 28), (60000,))"
      ]
     },
     "execution_count": 6,
     "metadata": {},
     "output_type": "execute_result"
    }
   ],
   "source": [
    "train_images.shape, train_labels.shape"
   ]
  },
  {
   "cell_type": "code",
   "execution_count": 7,
   "id": "f50dc2bb",
   "metadata": {
    "execution": {
     "iopub.execute_input": "2021-10-15T20:08:20.987975Z",
     "iopub.status.busy": "2021-10-15T20:08:20.987330Z",
     "iopub.status.idle": "2021-10-15T20:08:21.166718Z",
     "shell.execute_reply": "2021-10-15T20:08:21.166113Z"
    },
    "papermill": {
     "duration": 0.215934,
     "end_time": "2021-10-15T20:08:21.166869",
     "exception": false,
     "start_time": "2021-10-15T20:08:20.950935",
     "status": "completed"
    },
    "tags": []
   },
   "outputs": [],
   "source": [
    "test_images = mnist.test_images()\n",
    "test_labels = mnist.test_labels()"
   ]
  },
  {
   "cell_type": "code",
   "execution_count": 8,
   "id": "fc38cf1b",
   "metadata": {
    "execution": {
     "iopub.execute_input": "2021-10-15T20:08:21.236579Z",
     "iopub.status.busy": "2021-10-15T20:08:21.235954Z",
     "iopub.status.idle": "2021-10-15T20:08:21.252623Z",
     "shell.execute_reply": "2021-10-15T20:08:21.253470Z"
    },
    "papermill": {
     "duration": 0.054083,
     "end_time": "2021-10-15T20:08:21.253643",
     "exception": false,
     "start_time": "2021-10-15T20:08:21.199560",
     "status": "completed"
    },
    "tags": []
   },
   "outputs": [
    {
     "data": {
      "text/plain": [
       "((10000, 28, 28), (10000,))"
      ]
     },
     "execution_count": 8,
     "metadata": {},
     "output_type": "execute_result"
    }
   ],
   "source": [
    "test_images.shape, test_labels.shape"
   ]
  },
  {
   "cell_type": "code",
   "execution_count": 9,
   "id": "f9ed8fe0",
   "metadata": {
    "execution": {
     "iopub.execute_input": "2021-10-15T20:08:21.326316Z",
     "iopub.status.busy": "2021-10-15T20:08:21.325664Z",
     "iopub.status.idle": "2021-10-15T20:08:21.514198Z",
     "shell.execute_reply": "2021-10-15T20:08:21.513645Z"
    },
    "papermill": {
     "duration": 0.227809,
     "end_time": "2021-10-15T20:08:21.514327",
     "exception": false,
     "start_time": "2021-10-15T20:08:21.286518",
     "status": "completed"
    },
    "tags": []
   },
   "outputs": [
    {
     "name": "stdout",
     "output_type": "stream",
     "text": [
      "2\n"
     ]
    },
    {
     "data": {
      "text/plain": [
       "<matplotlib.image.AxesImage at 0x7f85d25bc9e8>"
      ]
     },
     "execution_count": 9,
     "metadata": {},
     "output_type": "execute_result"
    },
    {
     "data": {
      "image/png": "[encoded data removed]",
      "text/plain": [
       "<Figure size 432x288 with 1 Axes>"
      ]
     },
     "metadata": {
      "needs_background": "light"
     },
     "output_type": "display_data"
    }
   ],
   "source": [
    "image_index = 7776 # You may select anything up to 60,000\n",
    "print(train_labels[image_index]) \n",
    "plt.imshow(train_images[image_index], cmap='Greys')"
   ]
  },
  {
   "cell_type": "markdown",
   "id": "a8d2388d",
   "metadata": {
    "papermill": {
     "duration": 0.032274,
     "end_time": "2021-10-15T20:08:21.577972",
     "exception": false,
     "start_time": "2021-10-15T20:08:21.545698",
     "status": "completed"
    },
    "tags": []
   },
   "source": [
    "## Filter data to get 3 and 8 out"
   ]
  },
  {
   "cell_type": "code",
   "execution_count": 10,
   "id": "776f7fc7",
   "metadata": {
    "execution": {
     "iopub.execute_input": "2021-10-15T20:08:21.644769Z",
     "iopub.status.busy": "2021-10-15T20:08:21.644094Z",
     "iopub.status.idle": "2021-10-15T20:08:21.663431Z",
     "shell.execute_reply": "2021-10-15T20:08:21.662853Z"
    },
    "papermill": {
     "duration": 0.05447,
     "end_time": "2021-10-15T20:08:21.663585",
     "exception": false,
     "start_time": "2021-10-15T20:08:21.609115",
     "status": "completed"
    },
    "tags": []
   },
   "outputs": [],
   "source": [
    "train_filter = np.where((train_labels == 3 ) | (train_labels == 8))\n",
    "test_filter = np.where((test_labels == 3) | (test_labels == 8))\n",
    "X_train, y_train = train_images[train_filter], train_labels[train_filter]\n",
    "X_test, y_test = test_images[test_filter], test_labels[test_filter]"
   ]
  },
  {
   "cell_type": "markdown",
   "id": "948f0b7e",
   "metadata": {
    "papermill": {
     "duration": 0.034043,
     "end_time": "2021-10-15T20:08:21.733614",
     "exception": false,
     "start_time": "2021-10-15T20:08:21.699571",
     "status": "completed"
    },
    "tags": []
   },
   "source": [
    "We normalize the pizel values in the 0 to 1 range"
   ]
  },
  {
   "cell_type": "code",
   "execution_count": 11,
   "id": "ee4c2166",
   "metadata": {
    "execution": {
     "iopub.execute_input": "2021-10-15T20:08:21.804232Z",
     "iopub.status.busy": "2021-10-15T20:08:21.803585Z",
     "iopub.status.idle": "2021-10-15T20:08:21.864966Z",
     "shell.execute_reply": "2021-10-15T20:08:21.864364Z"
    },
    "papermill": {
     "duration": 0.097741,
     "end_time": "2021-10-15T20:08:21.865112",
     "exception": false,
     "start_time": "2021-10-15T20:08:21.767371",
     "status": "completed"
    },
    "tags": []
   },
   "outputs": [],
   "source": [
    "X_train = X_train/255.\n",
    "X_test = X_test/255."
   ]
  },
  {
   "cell_type": "markdown",
   "id": "ddcf4fab",
   "metadata": {
    "papermill": {
     "duration": 0.032608,
     "end_time": "2021-10-15T20:08:21.930735",
     "exception": false,
     "start_time": "2021-10-15T20:08:21.898127",
     "status": "completed"
    },
    "tags": []
   },
   "source": [
    "And setup the labels as 1 (when the digit is 3) and 0 (when the digit is 8)"
   ]
  },
  {
   "cell_type": "code",
   "execution_count": 12,
   "id": "7dc908f2",
   "metadata": {
    "execution": {
     "iopub.execute_input": "2021-10-15T20:08:22.006052Z",
     "iopub.status.busy": "2021-10-15T20:08:22.003581Z",
     "iopub.status.idle": "2021-10-15T20:08:22.013280Z",
     "shell.execute_reply": "2021-10-15T20:08:22.012808Z"
    },
    "papermill": {
     "duration": 0.050722,
     "end_time": "2021-10-15T20:08:22.013424",
     "exception": false,
     "start_time": "2021-10-15T20:08:21.962702",
     "status": "completed"
    },
    "tags": []
   },
   "outputs": [],
   "source": [
    "y_train = 1*(y_train==3)\n",
    "y_test = 1*(y_test==3)"
   ]
  },
  {
   "cell_type": "code",
   "execution_count": 13,
   "id": "01e4e969",
   "metadata": {
    "execution": {
     "iopub.execute_input": "2021-10-15T20:08:22.083937Z",
     "iopub.status.busy": "2021-10-15T20:08:22.083310Z",
     "iopub.status.idle": "2021-10-15T20:08:22.094816Z",
     "shell.execute_reply": "2021-10-15T20:08:22.095317Z"
    },
    "papermill": {
     "duration": 0.051098,
     "end_time": "2021-10-15T20:08:22.095452",
     "exception": false,
     "start_time": "2021-10-15T20:08:22.044354",
     "status": "completed"
    },
    "tags": []
   },
   "outputs": [
    {
     "data": {
      "text/plain": [
       "((11982, 28, 28), (1984, 28, 28))"
      ]
     },
     "execution_count": 13,
     "metadata": {},
     "output_type": "execute_result"
    }
   ],
   "source": [
    "X_train.shape, X_test.shape"
   ]
  },
  {
   "cell_type": "markdown",
   "id": "5ccf3f85",
   "metadata": {
    "papermill": {
     "duration": 0.031771,
     "end_time": "2021-10-15T20:08:22.158794",
     "exception": false,
     "start_time": "2021-10-15T20:08:22.127023",
     "status": "completed"
    },
    "tags": []
   },
   "source": [
    "We reshape the data to flatten the image pixels into a set of features or co-variates:"
   ]
  },
  {
   "cell_type": "code",
   "execution_count": 14,
   "id": "5286a4a3",
   "metadata": {
    "execution": {
     "iopub.execute_input": "2021-10-15T20:08:22.231051Z",
     "iopub.status.busy": "2021-10-15T20:08:22.230428Z",
     "iopub.status.idle": "2021-10-15T20:08:22.242560Z",
     "shell.execute_reply": "2021-10-15T20:08:22.243022Z"
    },
    "papermill": {
     "duration": 0.052985,
     "end_time": "2021-10-15T20:08:22.243204",
     "exception": false,
     "start_time": "2021-10-15T20:08:22.190219",
     "status": "completed"
    },
    "tags": []
   },
   "outputs": [
    {
     "data": {
      "text/plain": [
       "((11982, 784), (1984, 784))"
      ]
     },
     "execution_count": 14,
     "metadata": {},
     "output_type": "execute_result"
    }
   ],
   "source": [
    "X_train = X_train.reshape(X_train.shape[0], -1)\n",
    "X_test = X_test.reshape(X_test.shape[0], -1)\n",
    "X_train.shape, X_test.shape"
   ]
  },
  {
   "cell_type": "code",
   "execution_count": 15,
   "id": "73c5f88a",
   "metadata": {
    "execution": {
     "iopub.execute_input": "2021-10-15T20:08:22.320508Z",
     "iopub.status.busy": "2021-10-15T20:08:22.319840Z",
     "iopub.status.idle": "2021-10-15T20:08:22.336159Z",
     "shell.execute_reply": "2021-10-15T20:08:22.336657Z"
    },
    "papermill": {
     "duration": 0.060595,
     "end_time": "2021-10-15T20:08:22.336827",
     "exception": false,
     "start_time": "2021-10-15T20:08:22.276232",
     "status": "completed"
    },
    "tags": []
   },
   "outputs": [],
   "source": [
    "#Impoting functions from 'Kudzu'\n",
    "from kudzu.model import Model\n",
    "from kudzu.train import Learner\n",
    "from kudzu.optim import GD\n",
    "from kudzu.data import Data, Sampler,Dataloader\n",
    "\n",
    "from kudzu.callbacks import AccCallback\n",
    "from kudzu.callbacks import ClfCallback\n",
    "\n",
    "from kudzu.loss import MSE\n",
    "\n",
    "from kudzu.layer import Sigmoid,Relu\n",
    "from kudzu.layer import Affine"
   ]
  },
  {
   "cell_type": "markdown",
   "id": "bc01172a",
   "metadata": {
    "papermill": {
     "duration": 0.033486,
     "end_time": "2021-10-15T20:08:22.408330",
     "exception": false,
     "start_time": "2021-10-15T20:08:22.374844",
     "status": "completed"
    },
    "tags": []
   },
   "source": [
    "### Let us create a `Config` class, to store important parameters. \n",
    "This class essentially plays the role of a dictionary."
   ]
  },
  {
   "cell_type": "code",
   "execution_count": 16,
   "id": "978281aa",
   "metadata": {
    "execution": {
     "iopub.execute_input": "2021-10-15T20:08:22.479231Z",
     "iopub.status.busy": "2021-10-15T20:08:22.478547Z",
     "iopub.status.idle": "2021-10-15T20:08:22.492934Z",
     "shell.execute_reply": "2021-10-15T20:08:22.493616Z"
    },
    "papermill": {
     "duration": 0.053399,
     "end_time": "2021-10-15T20:08:22.493791",
     "exception": false,
     "start_time": "2021-10-15T20:08:22.440392",
     "status": "completed"
    },
    "tags": []
   },
   "outputs": [],
   "source": [
    "class Config:\n",
    "    pass\n",
    "config = Config()\n",
    "config.lr = 0.001\n",
    "config.num_epochs = 250\n",
    "config.bs = 50"
   ]
  },
  {
   "cell_type": "markdown",
   "id": "1385fa59",
   "metadata": {
    "papermill": {
     "duration": 0.032711,
     "end_time": "2021-10-15T20:08:22.559312",
     "exception": false,
     "start_time": "2021-10-15T20:08:22.526601",
     "status": "completed"
    },
    "tags": []
   },
   "source": [
    "### Running Models with the Training data\n",
    "Details about the network layers:\n",
    "- A first affine layer has 784 inputs and does 100 affine transforms. These are followed by a Relu\n",
    "- A second affine layer has 100 inputs from the 100 activations of the past layer, and does 100 affine transforms. These are followed by a Relu\n",
    "- A third affine layer has 100 activations and does 2 affine transformations to create an embedding for visualization. There is no non-linearity here.\n",
    "- A final \"logistic regression\" which has an affine transform from 2 inputs to 1 output, which is squeezed through a sigmoid.\n"
   ]
  },
  {
   "cell_type": "code",
   "execution_count": 17,
   "id": "2b9c66db",
   "metadata": {
    "execution": {
     "iopub.execute_input": "2021-10-15T20:08:22.627791Z",
     "iopub.status.busy": "2021-10-15T20:08:22.627187Z",
     "iopub.status.idle": "2021-10-15T20:08:22.640101Z",
     "shell.execute_reply": "2021-10-15T20:08:22.640646Z"
    },
    "papermill": {
     "duration": 0.049989,
     "end_time": "2021-10-15T20:08:22.640791",
     "exception": false,
     "start_time": "2021-10-15T20:08:22.590802",
     "status": "completed"
    },
    "tags": []
   },
   "outputs": [],
   "source": [
    "data = Data(X_train, y_train.reshape(-1,1))\n",
    "sampler = Sampler(data, config.bs, shuffle=True)\n",
    "\n",
    "dl = Dataloader(data, sampler)\n",
    "\n",
    "opt = GD(config.lr)\n",
    "loss = MSE()"
   ]
  },
  {
   "cell_type": "code",
   "execution_count": 18,
   "id": "b275e4c2",
   "metadata": {
    "execution": {
     "iopub.execute_input": "2021-10-15T20:08:22.712352Z",
     "iopub.status.busy": "2021-10-15T20:08:22.711688Z",
     "iopub.status.idle": "2021-10-15T20:08:22.724543Z",
     "shell.execute_reply": "2021-10-15T20:08:22.724035Z"
    },
    "papermill": {
     "duration": 0.05146,
     "end_time": "2021-10-15T20:08:22.724664",
     "exception": false,
     "start_time": "2021-10-15T20:08:22.673204",
     "status": "completed"
    },
    "tags": []
   },
   "outputs": [],
   "source": [
    "training_data_x = X_train\n",
    "testing_data_x = X_test\n",
    "training_data_y = y_train.reshape(-1,1)\n",
    "testing_data_y = y_test.reshape(-1,1)"
   ]
  },
  {
   "cell_type": "code",
   "execution_count": 19,
   "id": "76951160",
   "metadata": {
    "execution": {
     "iopub.execute_input": "2021-10-15T20:08:22.792950Z",
     "iopub.status.busy": "2021-10-15T20:08:22.792317Z",
     "iopub.status.idle": "2021-10-15T20:08:22.808873Z",
     "shell.execute_reply": "2021-10-15T20:08:22.809395Z"
    },
    "papermill": {
     "duration": 0.052983,
     "end_time": "2021-10-15T20:08:22.809536",
     "exception": false,
     "start_time": "2021-10-15T20:08:22.756553",
     "status": "completed"
    },
    "tags": []
   },
   "outputs": [
    {
     "name": "stdout",
     "output_type": "stream",
     "text": [
      "xavier\n",
      "xavier\n",
      "xavier\n",
      "xavier\n",
      "xavier\n"
     ]
    }
   ],
   "source": [
    "layers = [Affine(\"first\", 784, 100), Relu(\"first\"), Affine(\"second\", 100, 100), Relu(\"second\"), Affine(\"third\", 100, 2), Affine(\"last\", 2, 1), Sigmoid(\"last\")]\n",
    "model_nn = Model(layers)\n",
    "model_lr = Model([Affine(\"logits\", 784, 1), Sigmoid(\"sigmoid\")])"
   ]
  },
  {
   "cell_type": "code",
   "execution_count": 20,
   "id": "6eede77a",
   "metadata": {
    "execution": {
     "iopub.execute_input": "2021-10-15T20:08:22.879728Z",
     "iopub.status.busy": "2021-10-15T20:08:22.879021Z",
     "iopub.status.idle": "2021-10-15T20:08:22.892543Z",
     "shell.execute_reply": "2021-10-15T20:08:22.892027Z"
    },
    "papermill": {
     "duration": 0.050285,
     "end_time": "2021-10-15T20:08:22.892670",
     "exception": false,
     "start_time": "2021-10-15T20:08:22.842385",
     "status": "completed"
    },
    "tags": []
   },
   "outputs": [],
   "source": [
    "nn_learner = Learner(loss, model_nn, opt, config.num_epochs)\n",
    "acc_nn = ClfCallback(nn_learner, config.bs, training_data_x , testing_data_x, training_data_y, testing_data_y)\n",
    "nn_learner.set_callbacks([acc_nn])"
   ]
  },
  {
   "cell_type": "code",
   "execution_count": 21,
   "id": "877b6cc7",
   "metadata": {
    "execution": {
     "iopub.execute_input": "2021-10-15T20:08:22.963124Z",
     "iopub.status.busy": "2021-10-15T20:08:22.962422Z",
     "iopub.status.idle": "2021-10-15T20:08:22.975416Z",
     "shell.execute_reply": "2021-10-15T20:08:22.974836Z"
    },
    "papermill": {
     "duration": 0.049552,
     "end_time": "2021-10-15T20:08:22.975540",
     "exception": false,
     "start_time": "2021-10-15T20:08:22.925988",
     "status": "completed"
    },
    "tags": []
   },
   "outputs": [],
   "source": [
    "lr_learner = Learner(loss, model_lr, opt, config.num_epochs)\n",
    "acc_lr = ClfCallback(lr_learner, config.bs, training_data_x , testing_data_x, training_data_y, testing_data_y)\n",
    "lr_learner.set_callbacks([acc_lr])"
   ]
  },
  {
   "cell_type": "code",
   "execution_count": 22,
   "id": "d9b133c3",
   "metadata": {
    "execution": {
     "iopub.execute_input": "2021-10-15T20:08:23.049153Z",
     "iopub.status.busy": "2021-10-15T20:08:23.048488Z",
     "iopub.status.idle": "2021-10-15T20:10:28.082446Z",
     "shell.execute_reply": "2021-10-15T20:10:28.083424Z"
    },
    "papermill": {
     "duration": 125.073848,
     "end_time": "2021-10-15T20:10:28.083608",
     "exception": false,
     "start_time": "2021-10-15T20:08:23.009760",
     "status": "completed"
    },
    "tags": []
   },
   "outputs": [
    {
     "name": "stdout",
     "output_type": "stream",
     "text": [
      "Epoch 0, Loss 0.2502\n",
      "Training Accuracy: 0.4928, Testing Accuracy: 0.5015\n",
      "\n"
     ]
    },
    {
     "name": "stdout",
     "output_type": "stream",
     "text": [
      "Epoch 10, Loss 0.2295\n",
      "Training Accuracy: 0.8432, Testing Accuracy: 0.8609\n",
      "\n"
     ]
    },
    {
     "name": "stdout",
     "output_type": "stream",
     "text": [
      "Epoch 20, Loss 0.1632\n",
      "Training Accuracy: 0.8877, Testing Accuracy: 0.9002\n",
      "\n"
     ]
    },
    {
     "name": "stdout",
     "output_type": "stream",
     "text": [
      "Epoch 30, Loss 0.0852\n",
      "Training Accuracy: 0.9204, Testing Accuracy: 0.9299\n",
      "\n"
     ]
    },
    {
     "name": "stdout",
     "output_type": "stream",
     "text": [
      "Epoch 40, Loss 0.0585\n",
      "Training Accuracy: 0.9385, Testing Accuracy: 0.9491\n",
      "\n"
     ]
    },
    {
     "name": "stdout",
     "output_type": "stream",
     "text": [
      "Epoch 50, Loss 0.0472\n",
      "Training Accuracy: 0.9475, Testing Accuracy: 0.9587\n",
      "\n"
     ]
    },
    {
     "name": "stdout",
     "output_type": "stream",
     "text": [
      "Epoch 60, Loss 0.0411\n",
      "Training Accuracy: 0.9528, Testing Accuracy: 0.9607\n",
      "\n"
     ]
    },
    {
     "name": "stdout",
     "output_type": "stream",
     "text": [
      "Epoch 70, Loss 0.0373\n",
      "Training Accuracy: 0.9569, Testing Accuracy: 0.9637\n",
      "\n"
     ]
    },
    {
     "name": "stdout",
     "output_type": "stream",
     "text": [
      "Epoch 80, Loss 0.0347\n",
      "Training Accuracy: 0.9597, Testing Accuracy: 0.9652\n",
      "\n"
     ]
    },
    {
     "name": "stdout",
     "output_type": "stream",
     "text": [
      "Epoch 90, Loss 0.0327\n",
      "Training Accuracy: 0.9621, Testing Accuracy: 0.9677\n",
      "\n"
     ]
    },
    {
     "name": "stdout",
     "output_type": "stream",
     "text": [
      "Epoch 100, Loss 0.0311\n",
      "Training Accuracy: 0.9641, Testing Accuracy: 0.9677\n",
      "\n"
     ]
    },
    {
     "name": "stdout",
     "output_type": "stream",
     "text": [
      "Epoch 110, Loss 0.0298\n",
      "Training Accuracy: 0.9652, Testing Accuracy: 0.9677\n",
      "\n"
     ]
    },
    {
     "name": "stdout",
     "output_type": "stream",
     "text": [
      "Epoch 120, Loss 0.0287\n",
      "Training Accuracy: 0.9662, Testing Accuracy: 0.9688\n",
      "\n"
     ]
    },
    {
     "name": "stdout",
     "output_type": "stream",
     "text": [
      "Epoch 130, Loss 0.0278\n",
      "Training Accuracy: 0.9667, Testing Accuracy: 0.9688\n",
      "\n"
     ]
    },
    {
     "name": "stdout",
     "output_type": "stream",
     "text": [
      "Epoch 140, Loss 0.027\n",
      "Training Accuracy: 0.9673, Testing Accuracy: 0.9698\n",
      "\n"
     ]
    },
    {
     "name": "stdout",
     "output_type": "stream",
     "text": [
      "Epoch 150, Loss 0.0262\n",
      "Training Accuracy: 0.9688, Testing Accuracy: 0.9713\n",
      "\n"
     ]
    },
    {
     "name": "stdout",
     "output_type": "stream",
     "text": [
      "Epoch 160, Loss 0.0255\n",
      "Training Accuracy: 0.9700, Testing Accuracy: 0.9713\n",
      "\n"
     ]
    },
    {
     "name": "stdout",
     "output_type": "stream",
     "text": [
      "Epoch 170, Loss 0.0249\n",
      "Training Accuracy: 0.9710, Testing Accuracy: 0.9713\n",
      "\n"
     ]
    },
    {
     "name": "stdout",
     "output_type": "stream",
     "text": [
      "Epoch 180, Loss 0.0243\n",
      "Training Accuracy: 0.9720, Testing Accuracy: 0.9718\n",
      "\n"
     ]
    },
    {
     "name": "stdout",
     "output_type": "stream",
     "text": [
      "Epoch 190, Loss 0.0238\n",
      "Training Accuracy: 0.9726, Testing Accuracy: 0.9723\n",
      "\n"
     ]
    },
    {
     "name": "stdout",
     "output_type": "stream",
     "text": [
      "Epoch 200, Loss 0.0233\n",
      "Training Accuracy: 0.9738, Testing Accuracy: 0.9718\n",
      "\n"
     ]
    },
    {
     "name": "stdout",
     "output_type": "stream",
     "text": [
      "Epoch 210, Loss 0.0228\n",
      "Training Accuracy: 0.9742, Testing Accuracy: 0.9728\n",
      "\n"
     ]
    },
    {
     "name": "stdout",
     "output_type": "stream",
     "text": [
      "Epoch 220, Loss 0.0224\n",
      "Training Accuracy: 0.9745, Testing Accuracy: 0.9733\n",
      "\n"
     ]
    },
    {
     "name": "stdout",
     "output_type": "stream",
     "text": [
      "Epoch 230, Loss 0.022\n",
      "Training Accuracy: 0.9750, Testing Accuracy: 0.9743\n",
      "\n"
     ]
    },
    {
     "name": "stdout",
     "output_type": "stream",
     "text": [
      "Epoch 240, Loss 0.0216\n",
      "Training Accuracy: 0.9753, Testing Accuracy: 0.9738\n",
      "\n"
     ]
    },
    {
     "data": {
      "text/plain": [
       "0.01313900696118364"
      ]
     },
     "execution_count": 22,
     "metadata": {},
     "output_type": "execute_result"
    }
   ],
   "source": [
    "nn_learner.train_loop(dl)"
   ]
  },
  {
   "cell_type": "code",
   "execution_count": 23,
   "id": "e0163366",
   "metadata": {
    "execution": {
     "iopub.execute_input": "2021-10-15T20:10:28.183389Z",
     "iopub.status.busy": "2021-10-15T20:10:28.182694Z",
     "iopub.status.idle": "2021-10-15T20:10:46.346960Z",
     "shell.execute_reply": "2021-10-15T20:10:46.347840Z"
    },
    "papermill": {
     "duration": 18.216431,
     "end_time": "2021-10-15T20:10:46.348012",
     "exception": false,
     "start_time": "2021-10-15T20:10:28.131581",
     "status": "completed"
    },
    "tags": []
   },
   "outputs": [
    {
     "name": "stdout",
     "output_type": "stream",
     "text": [
      "Epoch 0, Loss 0.2541\n",
      "Training Accuracy: 0.6567, Testing Accuracy: 0.6719\n",
      "\n"
     ]
    },
    {
     "name": "stdout",
     "output_type": "stream",
     "text": [
      "Epoch 10, Loss 0.105\n",
      "Training Accuracy: 0.9048, Testing Accuracy: 0.9189\n",
      "\n"
     ]
    },
    {
     "name": "stdout",
     "output_type": "stream",
     "text": [
      "Epoch 20, Loss 0.0804\n",
      "Training Accuracy: 0.9241, Testing Accuracy: 0.9390\n",
      "\n"
     ]
    },
    {
     "name": "stdout",
     "output_type": "stream",
     "text": [
      "Epoch 30, Loss 0.0691\n",
      "Training Accuracy: 0.9348, Testing Accuracy: 0.9481\n",
      "\n"
     ]
    },
    {
     "name": "stdout",
     "output_type": "stream",
     "text": [
      "Epoch 40, Loss 0.0623\n",
      "Training Accuracy: 0.9412, Testing Accuracy: 0.9516\n",
      "\n"
     ]
    },
    {
     "name": "stdout",
     "output_type": "stream",
     "text": [
      "Epoch 50, Loss 0.0577\n",
      "Training Accuracy: 0.9445, Testing Accuracy: 0.9546\n",
      "\n"
     ]
    },
    {
     "name": "stdout",
     "output_type": "stream",
     "text": [
      "Epoch 60, Loss 0.0543\n",
      "Training Accuracy: 0.9468, Testing Accuracy: 0.9567\n",
      "\n"
     ]
    },
    {
     "name": "stdout",
     "output_type": "stream",
     "text": [
      "Epoch 70, Loss 0.0517\n",
      "Training Accuracy: 0.9486, Testing Accuracy: 0.9582\n",
      "\n"
     ]
    },
    {
     "name": "stdout",
     "output_type": "stream",
     "text": [
      "Epoch 80, Loss 0.0496\n",
      "Training Accuracy: 0.9506, Testing Accuracy: 0.9602\n",
      "\n"
     ]
    },
    {
     "name": "stdout",
     "output_type": "stream",
     "text": [
      "Epoch 90, Loss 0.0478\n",
      "Training Accuracy: 0.9516, Testing Accuracy: 0.9622\n",
      "\n"
     ]
    },
    {
     "name": "stdout",
     "output_type": "stream",
     "text": [
      "Epoch 100, Loss 0.0464\n",
      "Training Accuracy: 0.9534, Testing Accuracy: 0.9622\n",
      "\n"
     ]
    },
    {
     "name": "stdout",
     "output_type": "stream",
     "text": [
      "Epoch 110, Loss 0.0451\n",
      "Training Accuracy: 0.9544, Testing Accuracy: 0.9622\n",
      "\n"
     ]
    },
    {
     "name": "stdout",
     "output_type": "stream",
     "text": [
      "Epoch 120, Loss 0.044\n",
      "Training Accuracy: 0.9549, Testing Accuracy: 0.9632\n",
      "\n"
     ]
    },
    {
     "name": "stdout",
     "output_type": "stream",
     "text": [
      "Epoch 130, Loss 0.0431\n",
      "Training Accuracy: 0.9556, Testing Accuracy: 0.9632\n",
      "\n"
     ]
    },
    {
     "name": "stdout",
     "output_type": "stream",
     "text": [
      "Epoch 140, Loss 0.0422\n",
      "Training Accuracy: 0.9562, Testing Accuracy: 0.9637\n",
      "\n"
     ]
    },
    {
     "name": "stdout",
     "output_type": "stream",
     "text": [
      "Epoch 150, Loss 0.0415\n",
      "Training Accuracy: 0.9567, Testing Accuracy: 0.9642\n",
      "\n"
     ]
    },
    {
     "name": "stdout",
     "output_type": "stream",
     "text": [
      "Epoch 160, Loss 0.0408\n",
      "Training Accuracy: 0.9577, Testing Accuracy: 0.9652\n",
      "\n"
     ]
    },
    {
     "name": "stdout",
     "output_type": "stream",
     "text": [
      "Epoch 170, Loss 0.0402\n",
      "Training Accuracy: 0.9584, Testing Accuracy: 0.9652\n",
      "\n"
     ]
    },
    {
     "name": "stdout",
     "output_type": "stream",
     "text": [
      "Epoch 180, Loss 0.0396\n",
      "Training Accuracy: 0.9590, Testing Accuracy: 0.9657\n",
      "\n"
     ]
    },
    {
     "name": "stdout",
     "output_type": "stream",
     "text": [
      "Epoch 190, Loss 0.0391\n",
      "Training Accuracy: 0.9599, Testing Accuracy: 0.9662\n",
      "\n"
     ]
    },
    {
     "name": "stdout",
     "output_type": "stream",
     "text": [
      "Epoch 200, Loss 0.0386\n",
      "Training Accuracy: 0.9604, Testing Accuracy: 0.9662\n",
      "\n"
     ]
    },
    {
     "name": "stdout",
     "output_type": "stream",
     "text": [
      "Epoch 210, Loss 0.0381\n",
      "Training Accuracy: 0.9611, Testing Accuracy: 0.9662\n",
      "\n"
     ]
    },
    {
     "name": "stdout",
     "output_type": "stream",
     "text": [
      "Epoch 220, Loss 0.0377\n",
      "Training Accuracy: 0.9614, Testing Accuracy: 0.9662\n",
      "\n"
     ]
    },
    {
     "name": "stdout",
     "output_type": "stream",
     "text": [
      "Epoch 230, Loss 0.0373\n",
      "Training Accuracy: 0.9616, Testing Accuracy: 0.9672\n",
      "\n"
     ]
    },
    {
     "name": "stdout",
     "output_type": "stream",
     "text": [
      "Epoch 240, Loss 0.037\n",
      "Training Accuracy: 0.9619, Testing Accuracy: 0.9677\n",
      "\n"
     ]
    },
    {
     "data": {
      "text/plain": [
       "0.04443640210516447"
      ]
     },
     "execution_count": 23,
     "metadata": {},
     "output_type": "execute_result"
    }
   ],
   "source": [
    "lr_learner.train_loop(dl)"
   ]
  },
  {
   "cell_type": "code",
   "execution_count": 24,
   "id": "ca410940",
   "metadata": {
    "execution": {
     "iopub.execute_input": "2021-10-15T20:10:46.465910Z",
     "iopub.status.busy": "2021-10-15T20:10:46.460060Z",
     "iopub.status.idle": "2021-10-15T20:10:46.740092Z",
     "shell.execute_reply": "2021-10-15T20:10:46.740801Z"
    },
    "papermill": {
     "duration": 0.339931,
     "end_time": "2021-10-15T20:10:46.740959",
     "exception": false,
     "start_time": "2021-10-15T20:10:46.401028",
     "status": "completed"
    },
    "tags": []
   },
   "outputs": [
    {
     "data": {
      "text/plain": [
       "<matplotlib.legend.Legend at 0x7f85d2120e80>"
      ]
     },
     "execution_count": 24,
     "metadata": {},
     "output_type": "execute_result"
    },
    {
     "data": {
      "image/png": "[encoded data removed]",
      "text/plain": [
       "<Figure size 1080x720 with 1 Axes>"
      ]
     },
     "metadata": {
      "needs_background": "light"
     },
     "output_type": "display_data"
    }
   ],
   "source": [
    "#comparing the results of NN and LR\n",
    "plt.figure(figsize=(15,10))\n",
    "\n",
    "# Neural Network plots\n",
    "plt.plot(acc_nn.accuracies, 'r-', label = \"Training Accuracies - NN\")\n",
    "plt.plot(acc_nn.test_accuracies, 'g-', label = \"Testing Accuracies - NN\")\n",
    "\n",
    "# Logistic Regression plots\n",
    "plt.plot(acc_lr.accuracies, 'k-', label = \"Training Accuracies - LR\")\n",
    "plt.plot(acc_lr.test_accuracies, 'b-', label = \"Testing Accuracies - LR\")\n",
    "plt.legend()"
   ]
  },
  {
   "cell_type": "markdown",
   "id": "80dfb35c",
   "metadata": {
    "papermill": {
     "duration": 0.049499,
     "end_time": "2021-10-15T20:10:46.839640",
     "exception": false,
     "start_time": "2021-10-15T20:10:46.790141",
     "status": "completed"
    },
    "tags": []
   },
   "source": [
    "#### Plotting the outputs of this layer of the NN.\n"
   ]
  },
  {
   "cell_type": "code",
   "execution_count": 25,
   "id": "45eb2ff5",
   "metadata": {
    "execution": {
     "iopub.execute_input": "2021-10-15T20:10:46.951189Z",
     "iopub.status.busy": "2021-10-15T20:10:46.944817Z",
     "iopub.status.idle": "2021-10-15T20:10:46.968627Z",
     "shell.execute_reply": "2021-10-15T20:10:46.969548Z"
    },
    "papermill": {
     "duration": 0.081492,
     "end_time": "2021-10-15T20:10:46.969722",
     "exception": false,
     "start_time": "2021-10-15T20:10:46.888230",
     "status": "completed"
    },
    "tags": []
   },
   "outputs": [],
   "source": [
    "new_model = Model(layers[:-2])\n",
    "testing_plot = new_model(testing_data_x)"
   ]
  },
  {
   "cell_type": "code",
   "execution_count": 26,
   "id": "4c0a5485",
   "metadata": {
    "execution": {
     "iopub.execute_input": "2021-10-15T20:10:47.081517Z",
     "iopub.status.busy": "2021-10-15T20:10:47.080854Z",
     "iopub.status.idle": "2021-10-15T20:10:47.322660Z",
     "shell.execute_reply": "2021-10-15T20:10:47.323187Z"
    },
    "papermill": {
     "duration": 0.297137,
     "end_time": "2021-10-15T20:10:47.323360",
     "exception": false,
     "start_time": "2021-10-15T20:10:47.026223",
     "status": "completed"
    },
    "tags": []
   },
   "outputs": [
    {
     "data": {
      "text/plain": [
       "Text(0.5, 1.0, 'Outputs')"
      ]
     },
     "execution_count": 26,
     "metadata": {},
     "output_type": "execute_result"
    },
    {
     "data": {
      "image/png": "[encoded data removed]",
      "text/plain": [
       "<Figure size 576x504 with 1 Axes>"
      ]
     },
     "metadata": {
      "needs_background": "light"
     },
     "output_type": "display_data"
    }
   ],
   "source": [
    "# Plotting the scatter plot of points and color coding by class\n",
    "plt.figure(figsize=(8,7))\n",
    "plt.scatter(testing_plot[:,0], testing_plot[:,1], alpha = 0.1, c = y_test.ravel());\n",
    "plt.title('Outputs')"
   ]
  },
  {
   "cell_type": "markdown",
   "id": "a74fcf8f",
   "metadata": {
    "papermill": {
     "duration": 0.051806,
     "end_time": "2021-10-15T20:10:47.431925",
     "exception": false,
     "start_time": "2021-10-15T20:10:47.380119",
     "status": "completed"
    },
    "tags": []
   },
   "source": [
    "Probability contours"
   ]
  },
  {
   "cell_type": "code",
   "execution_count": 27,
   "id": "d0afc8e3",
   "metadata": {
    "execution": {
     "iopub.execute_input": "2021-10-15T20:10:47.564168Z",
     "iopub.status.busy": "2021-10-15T20:10:47.560528Z",
     "iopub.status.idle": "2021-10-15T20:10:47.575450Z",
     "shell.execute_reply": "2021-10-15T20:10:47.574946Z"
    },
    "papermill": {
     "duration": 0.09232,
     "end_time": "2021-10-15T20:10:47.575571",
     "exception": false,
     "start_time": "2021-10-15T20:10:47.483251",
     "status": "completed"
    },
    "tags": []
   },
   "outputs": [],
   "source": [
    "model_prob = Model(layers[-2:]) "
   ]
  },
  {
   "cell_type": "code",
   "execution_count": 28,
   "id": "9b96e238",
   "metadata": {
    "execution": {
     "iopub.execute_input": "2021-10-15T20:10:47.683748Z",
     "iopub.status.busy": "2021-10-15T20:10:47.680387Z",
     "iopub.status.idle": "2021-10-15T20:10:47.696330Z",
     "shell.execute_reply": "2021-10-15T20:10:47.695834Z"
    },
    "papermill": {
     "duration": 0.070142,
     "end_time": "2021-10-15T20:10:47.696447",
     "exception": false,
     "start_time": "2021-10-15T20:10:47.626305",
     "status": "completed"
    },
    "tags": []
   },
   "outputs": [],
   "source": [
    "#creating the x and y ranges according to the above generated plot.\n",
    "x_range = np.linspace(-4, 1, 100) \n",
    "y_range = np.linspace(-6, 6, 100) \n",
    "x_grid, y_grid = np.meshgrid(x_range, y_range) # x_grid and y_grig are of size 100 X 100\n",
    "\n",
    "# converting x_grid and y_grid to continuous arrays\n",
    "x_gridflat = np.ravel(x_grid)\n",
    "y_gridflat = np.ravel(y_grid)\n",
    "\n",
    "# The last layer of the current model takes two columns as input. Hence transpose of np.vstack() is required.\n",
    "X = np.vstack((x_gridflat, y_gridflat)).T\n",
    "\n",
    "prob_contour = model_prob(X).reshape(100,100) "
   ]
  },
  {
   "cell_type": "code",
   "execution_count": 29,
   "id": "da72499a",
   "metadata": {
    "execution": {
     "iopub.execute_input": "2021-10-15T20:10:47.810561Z",
     "iopub.status.busy": "2021-10-15T20:10:47.809915Z",
     "iopub.status.idle": "2021-10-15T20:10:48.120344Z",
     "shell.execute_reply": "2021-10-15T20:10:48.119750Z"
    },
    "papermill": {
     "duration": 0.366387,
     "end_time": "2021-10-15T20:10:48.120473",
     "exception": false,
     "start_time": "2021-10-15T20:10:47.754086",
     "status": "completed"
    },
    "tags": []
   },
   "outputs": [
    {
     "data": {
      "image/png": "[encoded data removed]",
      "text/plain": [
       "<Figure size 720x648 with 1 Axes>"
      ]
     },
     "metadata": {
      "needs_background": "light"
     },
     "output_type": "display_data"
    }
   ],
   "source": [
    "plt.figure(figsize=(10,9))\n",
    "plt.scatter(testing_plot[:,0], testing_plot[:,1], alpha = 0.1, c = y_test.ravel())\n",
    "contours = plt.contour(x_grid,y_grid,prob_contour)\n",
    "plt.title('Probability Contours')\n",
    "plt.clabel(contours, inline = True );"
   ]
  },
  {
   "cell_type": "code",
   "execution_count": null,
   "id": "e81b4ac7",
   "metadata": {
    "papermill": {
     "duration": 0.053899,
     "end_time": "2021-10-15T20:10:48.229284",
     "exception": false,
     "start_time": "2021-10-15T20:10:48.175385",
     "status": "completed"
    },
    "tags": []
   },
   "outputs": [],
   "source": []
  }
 ],
 "metadata": {
  "kernelspec": {
   "display_name": "Python 3",
   "language": "python",
   "name": "python3"
  },
  "language_info": {
   "codemirror_mode": {
    "name": "ipython",
    "version": 3
   },
   "file_extension": ".py",
   "mimetype": "text/x-python",
   "name": "python",
   "nbconvert_exporter": "python",
   "pygments_lexer": "ipython3",
   "version": "3.6.15"
  },
  "papermill": {
   "default_parameters": {},
   "duration": 152.677847,
   "end_time": "2021-10-15T20:10:48.692314",
   "environment_variables": {},
   "exception": null,
   "input_path": "2020-08-11-part2.ipynb",
   "output_path": "2020-08-11-part2.ipynb",
   "parameters": {},
   "start_time": "2021-10-15T20:08:16.014467",
   "version": "2.3.3"
  }
 },
 "nbformat": 4,
 "nbformat_minor": 5
}