{
 "cells": [
  {
   "cell_type": "markdown",
   "id": "98380cd3",
   "metadata": {
    "papermill": {
     "duration": 0.029402,
     "end_time": "2022-10-22T00:56:49.778407",
     "exception": false,
     "start_time": "2022-10-22T00:56:49.749005",
     "status": "completed"
    },
    "tags": []
   },
   "source": [
    "# Distinguish Your Own Digits (DYOD)"
   ]
  },
  {
   "cell_type": "markdown",
   "id": "ef31240d",
   "metadata": {
    "papermill": {
     "duration": 0.02394,
     "end_time": "2022-10-22T00:56:49.827152",
     "exception": false,
     "start_time": "2022-10-22T00:56:49.803212",
     "status": "completed"
    },
    "tags": []
   },
   "source": [
    "You are going to write a classifier that distinguishes between the number 3 and number 8."
   ]
  },
  {
   "cell_type": "code",
   "execution_count": 1,
   "id": "b15c8646",
   "metadata": {
    "execution": {
     "iopub.execute_input": "2022-10-22T00:56:49.889457Z",
     "iopub.status.busy": "2022-10-22T00:56:49.888878Z",
     "iopub.status.idle": "2022-10-22T00:56:49.899732Z",
     "shell.execute_reply": "2022-10-22T00:56:49.899266Z"
    },
    "papermill": {
     "duration": 0.044483,
     "end_time": "2022-10-22T00:56:49.899846",
     "exception": false,
     "start_time": "2022-10-22T00:56:49.855363",
     "status": "completed"
    },
    "tags": []
   },
   "outputs": [],
   "source": [
    "%load_ext autoreload\n",
    "%autoreload 2"
   ]
  },
  {
   "cell_type": "code",
   "execution_count": 2,
   "id": "22ef38dc",
   "metadata": {
    "execution": {
     "iopub.execute_input": "2022-10-22T00:56:49.951757Z",
     "iopub.status.busy": "2022-10-22T00:56:49.951179Z",
     "iopub.status.idle": "2022-10-22T00:56:50.448110Z",
     "shell.execute_reply": "2022-10-22T00:56:50.447629Z"
    },
    "papermill": {
     "duration": 0.52433,
     "end_time": "2022-10-22T00:56:50.448228",
     "exception": false,
     "start_time": "2022-10-22T00:56:49.923898",
     "status": "completed"
    },
    "tags": []
   },
   "outputs": [],
   "source": [
    "%matplotlib inline\n",
    "import numpy as np\n",
    "import matplotlib.pyplot as plt\n",
    "import pandas as pd"
   ]
  },
  {
   "cell_type": "markdown",
   "id": "ba036198",
   "metadata": {
    "papermill": {
     "duration": 0.024149,
     "end_time": "2022-10-22T00:56:50.498368",
     "exception": false,
     "start_time": "2022-10-22T00:56:50.474219",
     "status": "completed"
    },
    "tags": []
   },
   "source": [
    "From the command line run `pip install mnist`. This is a library that will help you bring down the mnist dataset. If you run this from a notebook, you need to put  `!pip install mnist` in a cell by itself."
   ]
  },
  {
   "cell_type": "code",
   "execution_count": 3,
   "id": "bb6ad8a1",
   "metadata": {
    "execution": {
     "iopub.execute_input": "2022-10-22T00:56:50.551941Z",
     "iopub.status.busy": "2022-10-22T00:56:50.550943Z",
     "iopub.status.idle": "2022-10-22T00:56:52.112813Z",
     "shell.execute_reply": "2022-10-22T00:56:52.112311Z"
    },
    "papermill": {
     "duration": 1.59038,
     "end_time": "2022-10-22T00:56:52.112929",
     "exception": false,
     "start_time": "2022-10-22T00:56:50.522549",
     "status": "completed"
    },
    "tags": []
   },
   "outputs": [
    {
     "name": "stdout",
     "output_type": "stream",
     "text": [
      "Collecting mnist\r\n"
     ]
    },
    {
     "name": "stdout",
     "output_type": "stream",
     "text": [
      "  Downloading mnist-0.2.2-py2.py3-none-any.whl (3.5 kB)\r\n",
      "Requirement already satisfied: numpy in /opt/hostedtoolcache/Python/3.6.15/x64/lib/python3.6/site-packages (from mnist) (1.19.5)\r\n"
     ]
    },
    {
     "name": "stdout",
     "output_type": "stream",
     "text": [
      "Installing collected packages: mnist\r\n"
     ]
    },
    {
     "name": "stdout",
     "output_type": "stream",
     "text": [
      "Successfully installed mnist-0.2.2\r\n"
     ]
    }
   ],
   "source": [
    "!pip install mnist"
   ]
  },
  {
   "cell_type": "markdown",
   "id": "69df9c9a",
   "metadata": {
    "papermill": {
     "duration": 0.025218,
     "end_time": "2022-10-22T00:56:52.167765",
     "exception": false,
     "start_time": "2022-10-22T00:56:52.142547",
     "status": "completed"
    },
    "tags": []
   },
   "source": [
    "## Preparing the Data"
   ]
  },
  {
   "cell_type": "code",
   "execution_count": 4,
   "id": "7f69d806",
   "metadata": {
    "execution": {
     "iopub.execute_input": "2022-10-22T00:56:52.221625Z",
     "iopub.status.busy": "2022-10-22T00:56:52.221064Z",
     "iopub.status.idle": "2022-10-22T00:56:52.234555Z",
     "shell.execute_reply": "2022-10-22T00:56:52.234975Z"
    },
    "papermill": {
     "duration": 0.042242,
     "end_time": "2022-10-22T00:56:52.235113",
     "exception": false,
     "start_time": "2022-10-22T00:56:52.192871",
     "status": "completed"
    },
    "tags": []
   },
   "outputs": [],
   "source": [
    "import mnist"
   ]
  },
  {
   "cell_type": "code",
   "execution_count": 5,
   "id": "a411e44f",
   "metadata": {
    "execution": {
     "iopub.execute_input": "2022-10-22T00:56:52.288422Z",
     "iopub.status.busy": "2022-10-22T00:56:52.287855Z",
     "iopub.status.idle": "2022-10-22T00:56:52.864996Z",
     "shell.execute_reply": "2022-10-22T00:56:52.864472Z"
    },
    "papermill": {
     "duration": 0.60484,
     "end_time": "2022-10-22T00:56:52.865108",
     "exception": false,
     "start_time": "2022-10-22T00:56:52.260268",
     "status": "completed"
    },
    "tags": []
   },
   "outputs": [],
   "source": [
    "train_images = mnist.train_images()\n",
    "train_labels = mnist.train_labels()"
   ]
  },
  {
   "cell_type": "code",
   "execution_count": 6,
   "id": "dceab3a5",
   "metadata": {
    "execution": {
     "iopub.execute_input": "2022-10-22T00:56:52.919218Z",
     "iopub.status.busy": "2022-10-22T00:56:52.918634Z",
     "iopub.status.idle": "2022-10-22T00:56:52.934759Z",
     "shell.execute_reply": "2022-10-22T00:56:52.935196Z"
    },
    "papermill": {
     "duration": 0.044795,
     "end_time": "2022-10-22T00:56:52.935315",
     "exception": false,
     "start_time": "2022-10-22T00:56:52.890520",
     "status": "completed"
    },
    "tags": []
   },
   "outputs": [
    {
     "data": {
      "text/plain": [
       "((60000, 28, 28), (60000,))"
      ]
     },
     "execution_count": 6,
     "metadata": {},
     "output_type": "execute_result"
    }
   ],
   "source": [
    "train_images.shape, train_labels.shape"
   ]
  },
  {
   "cell_type": "code",
   "execution_count": 7,
   "id": "f50dc2bb",
   "metadata": {
    "execution": {
     "iopub.execute_input": "2022-10-22T00:56:52.989604Z",
     "iopub.status.busy": "2022-10-22T00:56:52.989044Z",
     "iopub.status.idle": "2022-10-22T00:56:53.132926Z",
     "shell.execute_reply": "2022-10-22T00:56:53.131078Z"
    },
    "papermill": {
     "duration": 0.172293,
     "end_time": "2022-10-22T00:56:53.133045",
     "exception": false,
     "start_time": "2022-10-22T00:56:52.960752",
     "status": "completed"
    },
    "tags": []
   },
   "outputs": [],
   "source": [
    "test_images = mnist.test_images()\n",
    "test_labels = mnist.test_labels()"
   ]
  },
  {
   "cell_type": "code",
   "execution_count": 8,
   "id": "fc38cf1b",
   "metadata": {
    "execution": {
     "iopub.execute_input": "2022-10-22T00:56:53.191884Z",
     "iopub.status.busy": "2022-10-22T00:56:53.186908Z",
     "iopub.status.idle": "2022-10-22T00:56:53.199291Z",
     "shell.execute_reply": "2022-10-22T00:56:53.198734Z"
    },
    "papermill": {
     "duration": 0.040643,
     "end_time": "2022-10-22T00:56:53.199390",
     "exception": false,
     "start_time": "2022-10-22T00:56:53.158747",
     "status": "completed"
    },
    "tags": []
   },
   "outputs": [
    {
     "data": {
      "text/plain": [
       "((10000, 28, 28), (10000,))"
      ]
     },
     "execution_count": 8,
     "metadata": {},
     "output_type": "execute_result"
    }
   ],
   "source": [
    "test_images.shape, test_labels.shape"
   ]
  },
  {
   "cell_type": "code",
   "execution_count": 9,
   "id": "f9ed8fe0",
   "metadata": {
    "execution": {
     "iopub.execute_input": "2022-10-22T00:56:53.254299Z",
     "iopub.status.busy": "2022-10-22T00:56:53.253756Z",
     "iopub.status.idle": "2022-10-22T00:56:53.387728Z",
     "shell.execute_reply": "2022-10-22T00:56:53.388169Z"
    },
    "papermill": {
     "duration": 0.163203,
     "end_time": "2022-10-22T00:56:53.388294",
     "exception": false,
     "start_time": "2022-10-22T00:56:53.225091",
     "status": "completed"
    },
    "tags": []
   },
   "outputs": [
    {
     "name": "stdout",
     "output_type": "stream",
     "text": [
      "2\n"
     ]
    },
    {
     "data": {
      "text/plain": [
       "<matplotlib.image.AxesImage at 0x7fac7049e3c8>"
      ]
     },
     "execution_count": 9,
     "metadata": {},
     "output_type": "execute_result"
    },
    {
     "data": {
      "image/png": "[encoded data removed]",
      "text/plain": [
       "<Figure size 432x288 with 1 Axes>"
      ]
     },
     "metadata": {
      "needs_background": "light"
     },
     "output_type": "display_data"
    }
   ],
   "source": [
    "image_index = 7776 # You may select anything up to 60,000\n",
    "print(train_labels[image_index]) \n",
    "plt.imshow(train_images[image_index], cmap='Greys')"
   ]
  },
  {
   "cell_type": "markdown",
   "id": "a8d2388d",
   "metadata": {
    "papermill": {
     "duration": 0.026979,
     "end_time": "2022-10-22T00:56:53.442151",
     "exception": false,
     "start_time": "2022-10-22T00:56:53.415172",
     "status": "completed"
    },
    "tags": []
   },
   "source": [
    "## Filter data to get 3 and 8 out"
   ]
  },
  {
   "cell_type": "code",
   "execution_count": 10,
   "id": "776f7fc7",
   "metadata": {
    "execution": {
     "iopub.execute_input": "2022-10-22T00:56:53.499679Z",
     "iopub.status.busy": "2022-10-22T00:56:53.499110Z",
     "iopub.status.idle": "2022-10-22T00:56:53.513889Z",
     "shell.execute_reply": "2022-10-22T00:56:53.514550Z"
    },
    "papermill": {
     "duration": 0.045768,
     "end_time": "2022-10-22T00:56:53.514670",
     "exception": false,
     "start_time": "2022-10-22T00:56:53.468902",
     "status": "completed"
    },
    "tags": []
   },
   "outputs": [],
   "source": [
    "train_filter = np.where((train_labels == 3 ) | (train_labels == 8))\n",
    "test_filter = np.where((test_labels == 3) | (test_labels == 8))\n",
    "X_train, y_train = train_images[train_filter], train_labels[train_filter]\n",
    "X_test, y_test = test_images[test_filter], test_labels[test_filter]"
   ]
  },
  {
   "cell_type": "markdown",
   "id": "948f0b7e",
   "metadata": {
    "papermill": {
     "duration": 0.026826,
     "end_time": "2022-10-22T00:56:53.570980",
     "exception": false,
     "start_time": "2022-10-22T00:56:53.544154",
     "status": "completed"
    },
    "tags": []
   },
   "source": [
    "We normalize the pizel values in the 0 to 1 range"
   ]
  },
  {
   "cell_type": "code",
   "execution_count": 11,
   "id": "ee4c2166",
   "metadata": {
    "execution": {
     "iopub.execute_input": "2022-10-22T00:56:53.627535Z",
     "iopub.status.busy": "2022-10-22T00:56:53.626944Z",
     "iopub.status.idle": "2022-10-22T00:56:53.663677Z",
     "shell.execute_reply": "2022-10-22T00:56:53.663184Z"
    },
    "papermill": {
     "duration": 0.066147,
     "end_time": "2022-10-22T00:56:53.663788",
     "exception": false,
     "start_time": "2022-10-22T00:56:53.597641",
     "status": "completed"
    },
    "tags": []
   },
   "outputs": [],
   "source": [
    "X_train = X_train/255.\n",
    "X_test = X_test/255."
   ]
  },
  {
   "cell_type": "markdown",
   "id": "ddcf4fab",
   "metadata": {
    "papermill": {
     "duration": 0.026707,
     "end_time": "2022-10-22T00:56:53.717407",
     "exception": false,
     "start_time": "2022-10-22T00:56:53.690700",
     "status": "completed"
    },
    "tags": []
   },
   "source": [
    "And setup the labels as 1 (when the digit is 3) and 0 (when the digit is 8)"
   ]
  },
  {
   "cell_type": "code",
   "execution_count": 12,
   "id": "7dc908f2",
   "metadata": {
    "execution": {
     "iopub.execute_input": "2022-10-22T00:56:53.774072Z",
     "iopub.status.busy": "2022-10-22T00:56:53.773529Z",
     "iopub.status.idle": "2022-10-22T00:56:53.785130Z",
     "shell.execute_reply": "2022-10-22T00:56:53.784678Z"
    },
    "papermill": {
     "duration": 0.041125,
     "end_time": "2022-10-22T00:56:53.785231",
     "exception": false,
     "start_time": "2022-10-22T00:56:53.744106",
     "status": "completed"
    },
    "tags": []
   },
   "outputs": [],
   "source": [
    "y_train = 1*(y_train==3)\n",
    "y_test = 1*(y_test==3)"
   ]
  },
  {
   "cell_type": "code",
   "execution_count": 13,
   "id": "01e4e969",
   "metadata": {
    "execution": {
     "iopub.execute_input": "2022-10-22T00:56:53.841782Z",
     "iopub.status.busy": "2022-10-22T00:56:53.841240Z",
     "iopub.status.idle": "2022-10-22T00:56:53.853491Z",
     "shell.execute_reply": "2022-10-22T00:56:53.853914Z"
    },
    "papermill": {
     "duration": 0.042059,
     "end_time": "2022-10-22T00:56:53.854024",
     "exception": false,
     "start_time": "2022-10-22T00:56:53.811965",
     "status": "completed"
    },
    "tags": []
   },
   "outputs": [
    {
     "data": {
      "text/plain": [
       "((11982, 28, 28), (1984, 28, 28))"
      ]
     },
     "execution_count": 13,
     "metadata": {},
     "output_type": "execute_result"
    }
   ],
   "source": [
    "X_train.shape, X_test.shape"
   ]
  },
  {
   "cell_type": "markdown",
   "id": "5ccf3f85",
   "metadata": {
    "papermill": {
     "duration": 0.026766,
     "end_time": "2022-10-22T00:56:53.907611",
     "exception": false,
     "start_time": "2022-10-22T00:56:53.880845",
     "status": "completed"
    },
    "tags": []
   },
   "source": [
    "We reshape the data to flatten the image pixels into a set of features or co-variates:"
   ]
  },
  {
   "cell_type": "code",
   "execution_count": 14,
   "id": "5286a4a3",
   "metadata": {
    "execution": {
     "iopub.execute_input": "2022-10-22T00:56:53.964743Z",
     "iopub.status.busy": "2022-10-22T00:56:53.964195Z",
     "iopub.status.idle": "2022-10-22T00:56:53.976104Z",
     "shell.execute_reply": "2022-10-22T00:56:53.976524Z"
    },
    "papermill": {
     "duration": 0.042007,
     "end_time": "2022-10-22T00:56:53.976631",
     "exception": false,
     "start_time": "2022-10-22T00:56:53.934624",
     "status": "completed"
    },
    "tags": []
   },
   "outputs": [
    {
     "data": {
      "text/plain": [
       "((11982, 784), (1984, 784))"
      ]
     },
     "execution_count": 14,
     "metadata": {},
     "output_type": "execute_result"
    }
   ],
   "source": [
    "X_train = X_train.reshape(X_train.shape[0], -1)\n",
    "X_test = X_test.reshape(X_test.shape[0], -1)\n",
    "X_train.shape, X_test.shape"
   ]
  },
  {
   "cell_type": "code",
   "execution_count": 15,
   "id": "73c5f88a",
   "metadata": {
    "execution": {
     "iopub.execute_input": "2022-10-22T00:56:54.034593Z",
     "iopub.status.busy": "2022-10-22T00:56:54.034029Z",
     "iopub.status.idle": "2022-10-22T00:56:54.051177Z",
     "shell.execute_reply": "2022-10-22T00:56:54.050714Z"
    },
    "papermill": {
     "duration": 0.04744,
     "end_time": "2022-10-22T00:56:54.051272",
     "exception": false,
     "start_time": "2022-10-22T00:56:54.003832",
     "status": "completed"
    },
    "tags": []
   },
   "outputs": [],
   "source": [
    "#Impoting functions from 'Kudzu'\n",
    "from kudzu.model import Model\n",
    "from kudzu.train import Learner\n",
    "from kudzu.optim import GD\n",
    "from kudzu.data import Data, Sampler,Dataloader\n",
    "\n",
    "from kudzu.callbacks import AccCallback\n",
    "from kudzu.callbacks import ClfCallback\n",
    "\n",
    "from kudzu.loss import MSE\n",
    "\n",
    "from kudzu.layer import Sigmoid,Relu\n",
    "from kudzu.layer import Affine"
   ]
  },
  {
   "cell_type": "markdown",
   "id": "bc01172a",
   "metadata": {
    "papermill": {
     "duration": 0.027388,
     "end_time": "2022-10-22T00:56:54.106129",
     "exception": false,
     "start_time": "2022-10-22T00:56:54.078741",
     "status": "completed"
    },
    "tags": []
   },
   "source": [
    "### Let us create a `Config` class, to store important parameters. \n",
    "This class essentially plays the role of a dictionary."
   ]
  },
  {
   "cell_type": "code",
   "execution_count": 16,
   "id": "978281aa",
   "metadata": {
    "execution": {
     "iopub.execute_input": "2022-10-22T00:56:54.164387Z",
     "iopub.status.busy": "2022-10-22T00:56:54.163838Z",
     "iopub.status.idle": "2022-10-22T00:56:54.175247Z",
     "shell.execute_reply": "2022-10-22T00:56:54.175683Z"
    },
    "papermill": {
     "duration": 0.042396,
     "end_time": "2022-10-22T00:56:54.175798",
     "exception": false,
     "start_time": "2022-10-22T00:56:54.133402",
     "status": "completed"
    },
    "tags": []
   },
   "outputs": [],
   "source": [
    "class Config:\n",
    "    pass\n",
    "config = Config()\n",
    "config.lr = 0.001\n",
    "config.num_epochs = 250\n",
    "config.bs = 50"
   ]
  },
  {
   "cell_type": "markdown",
   "id": "1385fa59",
   "metadata": {
    "papermill": {
     "duration": 0.02711,
     "end_time": "2022-10-22T00:56:54.230151",
     "exception": false,
     "start_time": "2022-10-22T00:56:54.203041",
     "status": "completed"
    },
    "tags": []
   },
   "source": [
    "### Running Models with the Training data\n",
    "Details about the network layers:\n",
    "- A first affine layer has 784 inputs and does 100 affine transforms. These are followed by a Relu\n",
    "- A second affine layer has 100 inputs from the 100 activations of the past layer, and does 100 affine transforms. These are followed by a Relu\n",
    "- A third affine layer has 100 activations and does 2 affine transformations to create an embedding for visualization. There is no non-linearity here.\n",
    "- A final \"logistic regression\" which has an affine transform from 2 inputs to 1 output, which is squeezed through a sigmoid.\n"
   ]
  },
  {
   "cell_type": "code",
   "execution_count": 17,
   "id": "2b9c66db",
   "metadata": {
    "execution": {
     "iopub.execute_input": "2022-10-22T00:56:54.288428Z",
     "iopub.status.busy": "2022-10-22T00:56:54.287874Z",
     "iopub.status.idle": "2022-10-22T00:56:54.299948Z",
     "shell.execute_reply": "2022-10-22T00:56:54.300391Z"
    },
    "papermill": {
     "duration": 0.043154,
     "end_time": "2022-10-22T00:56:54.300504",
     "exception": false,
     "start_time": "2022-10-22T00:56:54.257350",
     "status": "completed"
    },
    "tags": []
   },
   "outputs": [],
   "source": [
    "data = Data(X_train, y_train.reshape(-1,1))\n",
    "sampler = Sampler(data, config.bs, shuffle=True)\n",
    "\n",
    "dl = Dataloader(data, sampler)\n",
    "\n",
    "opt = GD(config.lr)\n",
    "loss = MSE()"
   ]
  },
  {
   "cell_type": "code",
   "execution_count": 18,
   "id": "b275e4c2",
   "metadata": {
    "execution": {
     "iopub.execute_input": "2022-10-22T00:56:54.358340Z",
     "iopub.status.busy": "2022-10-22T00:56:54.357779Z",
     "iopub.status.idle": "2022-10-22T00:56:54.369786Z",
     "shell.execute_reply": "2022-10-22T00:56:54.369349Z"
    },
    "papermill": {
     "duration": 0.042163,
     "end_time": "2022-10-22T00:56:54.369883",
     "exception": false,
     "start_time": "2022-10-22T00:56:54.327720",
     "status": "completed"
    },
    "tags": []
   },
   "outputs": [],
   "source": [
    "training_data_x = X_train\n",
    "testing_data_x = X_test\n",
    "training_data_y = y_train.reshape(-1,1)\n",
    "testing_data_y = y_test.reshape(-1,1)"
   ]
  },
  {
   "cell_type": "code",
   "execution_count": 19,
   "id": "76951160",
   "metadata": {
    "execution": {
     "iopub.execute_input": "2022-10-22T00:56:54.427928Z",
     "iopub.status.busy": "2022-10-22T00:56:54.427360Z",
     "iopub.status.idle": "2022-10-22T00:56:54.442799Z",
     "shell.execute_reply": "2022-10-22T00:56:54.443267Z"
    },
    "papermill": {
     "duration": 0.046346,
     "end_time": "2022-10-22T00:56:54.443380",
     "exception": false,
     "start_time": "2022-10-22T00:56:54.397034",
     "status": "completed"
    },
    "tags": []
   },
   "outputs": [
    {
     "name": "stdout",
     "output_type": "stream",
     "text": [
      "xavier\n",
      "xavier\n",
      "xavier\n",
      "xavier\n",
      "xavier\n"
     ]
    }
   ],
   "source": [
    "layers = [Affine(\"first\", 784, 100), Relu(\"first\"), Affine(\"second\", 100, 100), Relu(\"second\"), Affine(\"third\", 100, 2), Affine(\"last\", 2, 1), Sigmoid(\"last\")]\n",
    "model_nn = Model(layers)\n",
    "model_lr = Model([Affine(\"logits\", 784, 1), Sigmoid(\"sigmoid\")])"
   ]
  },
  {
   "cell_type": "code",
   "execution_count": 20,
   "id": "6eede77a",
   "metadata": {
    "execution": {
     "iopub.execute_input": "2022-10-22T00:56:54.501912Z",
     "iopub.status.busy": "2022-10-22T00:56:54.501372Z",
     "iopub.status.idle": "2022-10-22T00:56:54.512530Z",
     "shell.execute_reply": "2022-10-22T00:56:54.512089Z"
    },
    "papermill": {
     "duration": 0.041735,
     "end_time": "2022-10-22T00:56:54.512625",
     "exception": false,
     "start_time": "2022-10-22T00:56:54.470890",
     "status": "completed"
    },
    "tags": []
   },
   "outputs": [],
   "source": [
    "nn_learner = Learner(loss, model_nn, opt, config.num_epochs)\n",
    "acc_nn = ClfCallback(nn_learner, config.bs, training_data_x , testing_data_x, training_data_y, testing_data_y)\n",
    "nn_learner.set_callbacks([acc_nn])"
   ]
  },
  {
   "cell_type": "code",
   "execution_count": 21,
   "id": "877b6cc7",
   "metadata": {
    "execution": {
     "iopub.execute_input": "2022-10-22T00:56:54.570716Z",
     "iopub.status.busy": "2022-10-22T00:56:54.570169Z",
     "iopub.status.idle": "2022-10-22T00:56:54.580501Z",
     "shell.execute_reply": "2022-10-22T00:56:54.580928Z"
    },
    "papermill": {
     "duration": 0.040867,
     "end_time": "2022-10-22T00:56:54.581037",
     "exception": false,
     "start_time": "2022-10-22T00:56:54.540170",
     "status": "completed"
    },
    "tags": []
   },
   "outputs": [],
   "source": [
    "lr_learner = Learner(loss, model_lr, opt, config.num_epochs)\n",
    "acc_lr = ClfCallback(lr_learner, config.bs, training_data_x , testing_data_x, training_data_y, testing_data_y)\n",
    "lr_learner.set_callbacks([acc_lr])"
   ]
  },
  {
   "cell_type": "code",
   "execution_count": 22,
   "id": "d9b133c3",
   "metadata": {
    "execution": {
     "iopub.execute_input": "2022-10-22T00:56:54.639145Z",
     "iopub.status.busy": "2022-10-22T00:56:54.638569Z",
     "iopub.status.idle": "2022-10-22T00:59:49.615260Z",
     "shell.execute_reply": "2022-10-22T00:59:49.615708Z"
    },
    "papermill": {
     "duration": 175.007224,
     "end_time": "2022-10-22T00:59:49.615838",
     "exception": false,
     "start_time": "2022-10-22T00:56:54.608614",
     "status": "completed"
    },
    "tags": []
   },
   "outputs": [
    {
     "name": "stdout",
     "output_type": "stream",
     "text": [
      "Epoch 0, Loss 0.2368\n",
      "Training Accuracy: 0.7334, Testing Accuracy: 0.7142\n",
      "\n"
     ]
    },
    {
     "name": "stdout",
     "output_type": "stream",
     "text": [
      "Epoch 10, Loss 0.1247\n",
      "Training Accuracy: 0.9069, Testing Accuracy: 0.9138\n",
      "\n"
     ]
    },
    {
     "name": "stdout",
     "output_type": "stream",
     "text": [
      "Epoch 20, Loss 0.0668\n",
      "Training Accuracy: 0.9368, Testing Accuracy: 0.9466\n",
      "\n"
     ]
    },
    {
     "name": "stdout",
     "output_type": "stream",
     "text": [
      "Epoch 30, Loss 0.0488\n",
      "Training Accuracy: 0.9497, Testing Accuracy: 0.9577\n",
      "\n"
     ]
    },
    {
     "name": "stdout",
     "output_type": "stream",
     "text": [
      "Epoch 40, Loss 0.0407\n",
      "Training Accuracy: 0.9563, Testing Accuracy: 0.9652\n",
      "\n"
     ]
    },
    {
     "name": "stdout",
     "output_type": "stream",
     "text": [
      "Epoch 50, Loss 0.0361\n",
      "Training Accuracy: 0.9599, Testing Accuracy: 0.9677\n",
      "\n"
     ]
    },
    {
     "name": "stdout",
     "output_type": "stream",
     "text": [
      "Epoch 60, Loss 0.0331\n",
      "Training Accuracy: 0.9636, Testing Accuracy: 0.9718\n",
      "\n"
     ]
    },
    {
     "name": "stdout",
     "output_type": "stream",
     "text": [
      "Epoch 70, Loss 0.0309\n",
      "Training Accuracy: 0.9659, Testing Accuracy: 0.9708\n",
      "\n"
     ]
    },
    {
     "name": "stdout",
     "output_type": "stream",
     "text": [
      "Epoch 80, Loss 0.0293\n",
      "Training Accuracy: 0.9674, Testing Accuracy: 0.9703\n",
      "\n"
     ]
    },
    {
     "name": "stdout",
     "output_type": "stream",
     "text": [
      "Epoch 90, Loss 0.028\n",
      "Training Accuracy: 0.9688, Testing Accuracy: 0.9708\n",
      "\n"
     ]
    },
    {
     "name": "stdout",
     "output_type": "stream",
     "text": [
      "Epoch 100, Loss 0.027\n",
      "Training Accuracy: 0.9702, Testing Accuracy: 0.9708\n",
      "\n"
     ]
    },
    {
     "name": "stdout",
     "output_type": "stream",
     "text": [
      "Epoch 110, Loss 0.0261\n",
      "Training Accuracy: 0.9710, Testing Accuracy: 0.9708\n",
      "\n"
     ]
    },
    {
     "name": "stdout",
     "output_type": "stream",
     "text": [
      "Epoch 120, Loss 0.0253\n",
      "Training Accuracy: 0.9715, Testing Accuracy: 0.9708\n",
      "\n"
     ]
    },
    {
     "name": "stdout",
     "output_type": "stream",
     "text": [
      "Epoch 130, Loss 0.0246\n",
      "Training Accuracy: 0.9718, Testing Accuracy: 0.9723\n",
      "\n"
     ]
    },
    {
     "name": "stdout",
     "output_type": "stream",
     "text": [
      "Epoch 140, Loss 0.024\n",
      "Training Accuracy: 0.9720, Testing Accuracy: 0.9713\n",
      "\n"
     ]
    },
    {
     "name": "stdout",
     "output_type": "stream",
     "text": [
      "Epoch 150, Loss 0.0234\n",
      "Training Accuracy: 0.9727, Testing Accuracy: 0.9713\n",
      "\n"
     ]
    },
    {
     "name": "stdout",
     "output_type": "stream",
     "text": [
      "Epoch 160, Loss 0.0229\n",
      "Training Accuracy: 0.9733, Testing Accuracy: 0.9728\n",
      "\n"
     ]
    },
    {
     "name": "stdout",
     "output_type": "stream",
     "text": [
      "Epoch 170, Loss 0.0224\n",
      "Training Accuracy: 0.9740, Testing Accuracy: 0.9733\n",
      "\n"
     ]
    },
    {
     "name": "stdout",
     "output_type": "stream",
     "text": [
      "Epoch 180, Loss 0.022\n",
      "Training Accuracy: 0.9746, Testing Accuracy: 0.9733\n",
      "\n"
     ]
    },
    {
     "name": "stdout",
     "output_type": "stream",
     "text": [
      "Epoch 190, Loss 0.0215\n",
      "Training Accuracy: 0.9755, Testing Accuracy: 0.9723\n",
      "\n"
     ]
    },
    {
     "name": "stdout",
     "output_type": "stream",
     "text": [
      "Epoch 200, Loss 0.0211\n",
      "Training Accuracy: 0.9760, Testing Accuracy: 0.9728\n",
      "\n"
     ]
    },
    {
     "name": "stdout",
     "output_type": "stream",
     "text": [
      "Epoch 210, Loss 0.0207\n",
      "Training Accuracy: 0.9766, Testing Accuracy: 0.9723\n",
      "\n"
     ]
    },
    {
     "name": "stdout",
     "output_type": "stream",
     "text": [
      "Epoch 220, Loss 0.0204\n",
      "Training Accuracy: 0.9770, Testing Accuracy: 0.9733\n",
      "\n"
     ]
    },
    {
     "name": "stdout",
     "output_type": "stream",
     "text": [
      "Epoch 230, Loss 0.02\n",
      "Training Accuracy: 0.9776, Testing Accuracy: 0.9728\n",
      "\n"
     ]
    },
    {
     "name": "stdout",
     "output_type": "stream",
     "text": [
      "Epoch 240, Loss 0.0197\n",
      "Training Accuracy: 0.9781, Testing Accuracy: 0.9728\n",
      "\n"
     ]
    },
    {
     "data": {
      "text/plain": [
       "0.017329366979284236"
      ]
     },
     "execution_count": 22,
     "metadata": {},
     "output_type": "execute_result"
    }
   ],
   "source": [
    "nn_learner.train_loop(dl)"
   ]
  },
  {
   "cell_type": "code",
   "execution_count": 23,
   "id": "e0163366",
   "metadata": {
    "execution": {
     "iopub.execute_input": "2022-10-22T00:59:49.691061Z",
     "iopub.status.busy": "2022-10-22T00:59:49.689699Z",
     "iopub.status.idle": "2022-10-22T01:00:01.710193Z",
     "shell.execute_reply": "2022-10-22T01:00:01.710991Z"
    },
    "papermill": {
     "duration": 12.060282,
     "end_time": "2022-10-22T01:00:01.711147",
     "exception": false,
     "start_time": "2022-10-22T00:59:49.650865",
     "status": "completed"
    },
    "tags": []
   },
   "outputs": [
    {
     "name": "stdout",
     "output_type": "stream",
     "text": [
      "Epoch 0, Loss 0.2402\n",
      "Training Accuracy: 0.6622, Testing Accuracy: 0.6683\n",
      "\n"
     ]
    },
    {
     "name": "stdout",
     "output_type": "stream",
     "text": [
      "Epoch 10, Loss 0.1074\n",
      "Training Accuracy: 0.8963, Testing Accuracy: 0.9108\n",
      "\n"
     ]
    },
    {
     "name": "stdout",
     "output_type": "stream",
     "text": [
      "Epoch 20, Loss 0.0813\n",
      "Training Accuracy: 0.9236, Testing Accuracy: 0.9340\n",
      "\n"
     ]
    },
    {
     "name": "stdout",
     "output_type": "stream",
     "text": [
      "Epoch 30, Loss 0.0694\n",
      "Training Accuracy: 0.9349, Testing Accuracy: 0.9446\n",
      "\n"
     ]
    },
    {
     "name": "stdout",
     "output_type": "stream",
     "text": [
      "Epoch 40, Loss 0.0624\n",
      "Training Accuracy: 0.9403, Testing Accuracy: 0.9461\n",
      "\n"
     ]
    },
    {
     "name": "stdout",
     "output_type": "stream",
     "text": [
      "Epoch 50, Loss 0.0576\n",
      "Training Accuracy: 0.9445, Testing Accuracy: 0.9486\n",
      "\n"
     ]
    },
    {
     "name": "stdout",
     "output_type": "stream",
     "text": [
      "Epoch 60, Loss 0.0541\n",
      "Training Accuracy: 0.9464, Testing Accuracy: 0.9526\n",
      "\n"
     ]
    },
    {
     "name": "stdout",
     "output_type": "stream",
     "text": [
      "Epoch 70, Loss 0.0515\n",
      "Training Accuracy: 0.9479, Testing Accuracy: 0.9556\n",
      "\n"
     ]
    },
    {
     "name": "stdout",
     "output_type": "stream",
     "text": [
      "Epoch 80, Loss 0.0494\n",
      "Training Accuracy: 0.9490, Testing Accuracy: 0.9572\n",
      "\n"
     ]
    },
    {
     "name": "stdout",
     "output_type": "stream",
     "text": [
      "Epoch 90, Loss 0.0477\n",
      "Training Accuracy: 0.9508, Testing Accuracy: 0.9577\n",
      "\n"
     ]
    },
    {
     "name": "stdout",
     "output_type": "stream",
     "text": [
      "Epoch 100, Loss 0.0462\n",
      "Training Accuracy: 0.9520, Testing Accuracy: 0.9592\n",
      "\n"
     ]
    },
    {
     "name": "stdout",
     "output_type": "stream",
     "text": [
      "Epoch 110, Loss 0.045\n",
      "Training Accuracy: 0.9532, Testing Accuracy: 0.9602\n",
      "\n"
     ]
    },
    {
     "name": "stdout",
     "output_type": "stream",
     "text": [
      "Epoch 120, Loss 0.0439\n",
      "Training Accuracy: 0.9539, Testing Accuracy: 0.9602\n",
      "\n"
     ]
    },
    {
     "name": "stdout",
     "output_type": "stream",
     "text": [
      "Epoch 130, Loss 0.043\n",
      "Training Accuracy: 0.9553, Testing Accuracy: 0.9607\n",
      "\n"
     ]
    },
    {
     "name": "stdout",
     "output_type": "stream",
     "text": [
      "Epoch 140, Loss 0.0421\n",
      "Training Accuracy: 0.9559, Testing Accuracy: 0.9607\n",
      "\n"
     ]
    },
    {
     "name": "stdout",
     "output_type": "stream",
     "text": [
      "Epoch 150, Loss 0.0414\n",
      "Training Accuracy: 0.9562, Testing Accuracy: 0.9622\n",
      "\n"
     ]
    },
    {
     "name": "stdout",
     "output_type": "stream",
     "text": [
      "Epoch 160, Loss 0.0407\n",
      "Training Accuracy: 0.9564, Testing Accuracy: 0.9627\n",
      "\n"
     ]
    },
    {
     "name": "stdout",
     "output_type": "stream",
     "text": [
      "Epoch 170, Loss 0.0401\n",
      "Training Accuracy: 0.9572, Testing Accuracy: 0.9632\n",
      "\n"
     ]
    },
    {
     "name": "stdout",
     "output_type": "stream",
     "text": [
      "Epoch 180, Loss 0.0395\n",
      "Training Accuracy: 0.9579, Testing Accuracy: 0.9637\n",
      "\n"
     ]
    },
    {
     "name": "stdout",
     "output_type": "stream",
     "text": [
      "Epoch 190, Loss 0.039\n",
      "Training Accuracy: 0.9584, Testing Accuracy: 0.9647\n",
      "\n"
     ]
    },
    {
     "name": "stdout",
     "output_type": "stream",
     "text": [
      "Epoch 200, Loss 0.0385\n",
      "Training Accuracy: 0.9591, Testing Accuracy: 0.9657\n",
      "\n"
     ]
    },
    {
     "name": "stdout",
     "output_type": "stream",
     "text": [
      "Epoch 210, Loss 0.0381\n",
      "Training Accuracy: 0.9594, Testing Accuracy: 0.9657\n",
      "\n"
     ]
    },
    {
     "name": "stdout",
     "output_type": "stream",
     "text": [
      "Epoch 220, Loss 0.0377\n",
      "Training Accuracy: 0.9598, Testing Accuracy: 0.9657\n",
      "\n"
     ]
    },
    {
     "name": "stdout",
     "output_type": "stream",
     "text": [
      "Epoch 230, Loss 0.0373\n",
      "Training Accuracy: 0.9599, Testing Accuracy: 0.9657\n",
      "\n"
     ]
    },
    {
     "name": "stdout",
     "output_type": "stream",
     "text": [
      "Epoch 240, Loss 0.0369\n",
      "Training Accuracy: 0.9601, Testing Accuracy: 0.9667\n",
      "\n"
     ]
    },
    {
     "data": {
      "text/plain": [
       "0.005766712876395387"
      ]
     },
     "execution_count": 23,
     "metadata": {},
     "output_type": "execute_result"
    }
   ],
   "source": [
    "lr_learner.train_loop(dl)"
   ]
  },
  {
   "cell_type": "code",
   "execution_count": 24,
   "id": "ca410940",
   "metadata": {
    "execution": {
     "iopub.execute_input": "2022-10-22T01:00:01.804260Z",
     "iopub.status.busy": "2022-10-22T01:00:01.803689Z",
     "iopub.status.idle": "2022-10-22T01:00:02.026791Z",
     "shell.execute_reply": "2022-10-22T01:00:02.027242Z"
    },
    "papermill": {
     "duration": 0.274542,
     "end_time": "2022-10-22T01:00:02.027368",
     "exception": false,
     "start_time": "2022-10-22T01:00:01.752826",
     "status": "completed"
    },
    "tags": []
   },
   "outputs": [
    {
     "data": {
      "text/plain": [
       "<matplotlib.legend.Legend at 0x7fac60b59518>"
      ]
     },
     "execution_count": 24,
     "metadata": {},
     "output_type": "execute_result"
    },
    {
     "data": {
      "image/png": "[encoded data removed]",
      "text/plain": [
       "<Figure size 1080x720 with 1 Axes>"
      ]
     },
     "metadata": {
      "needs_background": "light"
     },
     "output_type": "display_data"
    }
   ],
   "source": [
    "#comparing the results of NN and LR\n",
    "plt.figure(figsize=(15,10))\n",
    "\n",
    "# Neural Network plots\n",
    "plt.plot(acc_nn.accuracies, 'r-', label = \"Training Accuracies - NN\")\n",
    "plt.plot(acc_nn.test_accuracies, 'g-', label = \"Testing Accuracies - NN\")\n",
    "\n",
    "# Logistic Regression plots\n",
    "plt.plot(acc_lr.accuracies, 'k-', label = \"Training Accuracies - LR\")\n",
    "plt.plot(acc_lr.test_accuracies, 'b-', label = \"Testing Accuracies - LR\")\n",
    "plt.legend()"
   ]
  },
  {
   "cell_type": "markdown",
   "id": "80dfb35c",
   "metadata": {
    "papermill": {
     "duration": 0.042745,
     "end_time": "2022-10-22T01:00:02.113048",
     "exception": false,
     "start_time": "2022-10-22T01:00:02.070303",
     "status": "completed"
    },
    "tags": []
   },
   "source": [
    "#### Plotting the outputs of this layer of the NN.\n"
   ]
  },
  {
   "cell_type": "code",
   "execution_count": 25,
   "id": "45eb2ff5",
   "metadata": {
    "execution": {
     "iopub.execute_input": "2022-10-22T01:00:02.201687Z",
     "iopub.status.busy": "2022-10-22T01:00:02.201116Z",
     "iopub.status.idle": "2022-10-22T01:00:02.237857Z",
     "shell.execute_reply": "2022-10-22T01:00:02.237408Z"
    },
    "papermill": {
     "duration": 0.082411,
     "end_time": "2022-10-22T01:00:02.237965",
     "exception": false,
     "start_time": "2022-10-22T01:00:02.155554",
     "status": "completed"
    },
    "tags": []
   },
   "outputs": [],
   "source": [
    "new_model = Model(layers[:-2])\n",
    "testing_plot = new_model(testing_data_x)"
   ]
  },
  {
   "cell_type": "code",
   "execution_count": 26,
   "id": "4c0a5485",
   "metadata": {
    "execution": {
     "iopub.execute_input": "2022-10-22T01:00:02.331864Z",
     "iopub.status.busy": "2022-10-22T01:00:02.331299Z",
     "iopub.status.idle": "2022-10-22T01:00:02.518253Z",
     "shell.execute_reply": "2022-10-22T01:00:02.517778Z"
    },
    "papermill": {
     "duration": 0.236888,
     "end_time": "2022-10-22T01:00:02.518361",
     "exception": false,
     "start_time": "2022-10-22T01:00:02.281473",
     "status": "completed"
    },
    "tags": []
   },
   "outputs": [
    {
     "data": {
      "text/plain": [
       "Text(0.5, 1.0, 'Outputs')"
      ]
     },
     "execution_count": 26,
     "metadata": {},
     "output_type": "execute_result"
    },
    {
     "data": {
      "image/png": "[encoded data removed]",
      "text/plain": [
       "<Figure size 576x504 with 1 Axes>"
      ]
     },
     "metadata": {
      "needs_background": "light"
     },
     "output_type": "display_data"
    }
   ],
   "source": [
    "# Plotting the scatter plot of points and color coding by class\n",
    "plt.figure(figsize=(8,7))\n",
    "plt.scatter(testing_plot[:,0], testing_plot[:,1], alpha = 0.1, c = y_test.ravel());\n",
    "plt.title('Outputs')"
   ]
  },
  {
   "cell_type": "markdown",
   "id": "a74fcf8f",
   "metadata": {
    "papermill": {
     "duration": 0.045034,
     "end_time": "2022-10-22T01:00:02.629618",
     "exception": false,
     "start_time": "2022-10-22T01:00:02.584584",
     "status": "completed"
    },
    "tags": []
   },
   "source": [
    "Probability contours"
   ]
  },
  {
   "cell_type": "code",
   "execution_count": 27,
   "id": "d0afc8e3",
   "metadata": {
    "execution": {
     "iopub.execute_input": "2022-10-22T01:00:02.722885Z",
     "iopub.status.busy": "2022-10-22T01:00:02.722327Z",
     "iopub.status.idle": "2022-10-22T01:00:02.734340Z",
     "shell.execute_reply": "2022-10-22T01:00:02.733880Z"
    },
    "papermill": {
     "duration": 0.059886,
     "end_time": "2022-10-22T01:00:02.734443",
     "exception": false,
     "start_time": "2022-10-22T01:00:02.674557",
     "status": "completed"
    },
    "tags": []
   },
   "outputs": [],
   "source": [
    "model_prob = Model(layers[-2:]) "
   ]
  },
  {
   "cell_type": "code",
   "execution_count": 28,
   "id": "9b96e238",
   "metadata": {
    "execution": {
     "iopub.execute_input": "2022-10-22T01:00:02.828649Z",
     "iopub.status.busy": "2022-10-22T01:00:02.828100Z",
     "iopub.status.idle": "2022-10-22T01:00:02.839935Z",
     "shell.execute_reply": "2022-10-22T01:00:02.840370Z"
    },
    "papermill": {
     "duration": 0.060764,
     "end_time": "2022-10-22T01:00:02.840488",
     "exception": false,
     "start_time": "2022-10-22T01:00:02.779724",
     "status": "completed"
    },
    "tags": []
   },
   "outputs": [],
   "source": [
    "#creating the x and y ranges according to the above generated plot.\n",
    "x_range = np.linspace(-4, 1, 100) \n",
    "y_range = np.linspace(-6, 6, 100) \n",
    "x_grid, y_grid = np.meshgrid(x_range, y_range) # x_grid and y_grig are of size 100 X 100\n",
    "\n",
    "# converting x_grid and y_grid to continuous arrays\n",
    "x_gridflat = np.ravel(x_grid)\n",
    "y_gridflat = np.ravel(y_grid)\n",
    "\n",
    "# The last layer of the current model takes two columns as input. Hence transpose of np.vstack() is required.\n",
    "X = np.vstack((x_gridflat, y_gridflat)).T\n",
    "\n",
    "prob_contour = model_prob(X).reshape(100,100) "
   ]
  },
  {
   "cell_type": "code",
   "execution_count": 29,
   "id": "da72499a",
   "metadata": {
    "execution": {
     "iopub.execute_input": "2022-10-22T01:00:02.935857Z",
     "iopub.status.busy": "2022-10-22T01:00:02.933996Z",
     "iopub.status.idle": "2022-10-22T01:00:03.170001Z",
     "shell.execute_reply": "2022-10-22T01:00:03.169286Z"
    },
    "papermill": {
     "duration": 0.284328,
     "end_time": "2022-10-22T01:00:03.170116",
     "exception": false,
     "start_time": "2022-10-22T01:00:02.885788",
     "status": "completed"
    },
    "tags": []
   },
   "outputs": [
    {
     "data": {
      "image/png": "[encoded data removed]",
      "text/plain": [
       "<Figure size 720x648 with 1 Axes>"
      ]
     },
     "metadata": {
      "needs_background": "light"
     },
     "output_type": "display_data"
    }
   ],
   "source": [
    "plt.figure(figsize=(10,9))\n",
    "plt.scatter(testing_plot[:,0], testing_plot[:,1], alpha = 0.1, c = y_test.ravel())\n",
    "contours = plt.contour(x_grid,y_grid,prob_contour)\n",
    "plt.title('Probability Contours')\n",
    "plt.clabel(contours, inline = True );"
   ]
  },
  {
   "cell_type": "code",
   "execution_count": null,
   "id": "e81b4ac7",
   "metadata": {
    "papermill": {
     "duration": 0.047252,
     "end_time": "2022-10-22T01:00:03.265482",
     "exception": false,
     "start_time": "2022-10-22T01:00:03.218230",
     "status": "completed"
    },
    "tags": []
   },
   "outputs": [],
   "source": []
  }
 ],
 "metadata": {
  "kernelspec": {
   "display_name": "Python 3",
   "language": "python",
   "name": "python3"
  },
  "language_info": {
   "codemirror_mode": {
    "name": "ipython",
    "version": 3
   },
   "file_extension": ".py",
   "mimetype": "text/x-python",
   "name": "python",
   "nbconvert_exporter": "python",
   "pygments_lexer": "ipython3",
   "version": "3.6.15"
  },
  "papermill": {
   "default_parameters": {},
   "duration": 194.798704,
   "end_time": "2022-10-22T01:00:03.629218",
   "environment_variables": {},
   "exception": null,
   "input_path": "2020-08-11-part2.ipynb",
   "output_path": "2020-08-11-part2.ipynb",
   "parameters": {},
   "start_time": "2022-10-22T00:56:48.830514",
   "version": "2.3.3"
  }
 },
 "nbformat": 4,
 "nbformat_minor": 5
}