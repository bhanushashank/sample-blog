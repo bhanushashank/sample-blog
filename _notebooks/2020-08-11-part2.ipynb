{
 "cells": [
  {
   "cell_type": "markdown",
   "id": "98380cd3",
   "metadata": {
    "papermill": {
     "duration": 0.029846,
     "end_time": "2022-11-28T20:10:15.931760",
     "exception": false,
     "start_time": "2022-11-28T20:10:15.901914",
     "status": "completed"
    },
    "tags": []
   },
   "source": [
    "# Distinguish Your Own Digits (DYOD)"
   ]
  },
  {
   "cell_type": "markdown",
   "id": "ef31240d",
   "metadata": {
    "papermill": {
     "duration": 0.023546,
     "end_time": "2022-11-28T20:10:15.979453",
     "exception": false,
     "start_time": "2022-11-28T20:10:15.955907",
     "status": "completed"
    },
    "tags": []
   },
   "source": [
    "You are going to write a classifier that distinguishes between the number 3 and number 8."
   ]
  },
  {
   "cell_type": "code",
   "execution_count": 1,
   "id": "b15c8646",
   "metadata": {
    "execution": {
     "iopub.execute_input": "2022-11-28T20:10:16.037670Z",
     "iopub.status.busy": "2022-11-28T20:10:16.037029Z",
     "iopub.status.idle": "2022-11-28T20:10:16.048230Z",
     "shell.execute_reply": "2022-11-28T20:10:16.047733Z"
    },
    "papermill": {
     "duration": 0.045421,
     "end_time": "2022-11-28T20:10:16.048361",
     "exception": false,
     "start_time": "2022-11-28T20:10:16.002940",
     "status": "completed"
    },
    "tags": []
   },
   "outputs": [],
   "source": [
    "%load_ext autoreload\n",
    "%autoreload 2"
   ]
  },
  {
   "cell_type": "code",
   "execution_count": 2,
   "id": "22ef38dc",
   "metadata": {
    "execution": {
     "iopub.execute_input": "2022-11-28T20:10:16.100094Z",
     "iopub.status.busy": "2022-11-28T20:10:16.099501Z",
     "iopub.status.idle": "2022-11-28T20:10:16.641014Z",
     "shell.execute_reply": "2022-11-28T20:10:16.641541Z"
    },
    "papermill": {
     "duration": 0.569528,
     "end_time": "2022-11-28T20:10:16.641704",
     "exception": false,
     "start_time": "2022-11-28T20:10:16.072176",
     "status": "completed"
    },
    "tags": []
   },
   "outputs": [],
   "source": [
    "%matplotlib inline\n",
    "import numpy as np\n",
    "import matplotlib.pyplot as plt\n",
    "import pandas as pd"
   ]
  },
  {
   "cell_type": "markdown",
   "id": "ba036198",
   "metadata": {
    "papermill": {
     "duration": 0.02378,
     "end_time": "2022-11-28T20:10:16.689710",
     "exception": false,
     "start_time": "2022-11-28T20:10:16.665930",
     "status": "completed"
    },
    "tags": []
   },
   "source": [
    "From the command line run `pip install mnist`. This is a library that will help you bring down the mnist dataset. If you run this from a notebook, you need to put  `!pip install mnist` in a cell by itself."
   ]
  },
  {
   "cell_type": "code",
   "execution_count": 3,
   "id": "bb6ad8a1",
   "metadata": {
    "execution": {
     "iopub.execute_input": "2022-11-28T20:10:16.749812Z",
     "iopub.status.busy": "2022-11-28T20:10:16.749186Z",
     "iopub.status.idle": "2022-11-28T20:10:18.420447Z",
     "shell.execute_reply": "2022-11-28T20:10:18.419028Z"
    },
    "papermill": {
     "duration": 1.707128,
     "end_time": "2022-11-28T20:10:18.420584",
     "exception": false,
     "start_time": "2022-11-28T20:10:16.713456",
     "status": "completed"
    },
    "tags": []
   },
   "outputs": [
    {
     "name": "stdout",
     "output_type": "stream",
     "text": [
      "Collecting mnist\r\n"
     ]
    },
    {
     "name": "stdout",
     "output_type": "stream",
     "text": [
      "  Downloading mnist-0.2.2-py2.py3-none-any.whl (3.5 kB)\r\n",
      "Requirement already satisfied: numpy in /opt/hostedtoolcache/Python/3.6.15/x64/lib/python3.6/site-packages (from mnist) (1.19.5)\r\n"
     ]
    },
    {
     "name": "stdout",
     "output_type": "stream",
     "text": [
      "Installing collected packages: mnist\r\n",
      "Successfully installed mnist-0.2.2\r\n"
     ]
    }
   ],
   "source": [
    "!pip install mnist"
   ]
  },
  {
   "cell_type": "markdown",
   "id": "69df9c9a",
   "metadata": {
    "papermill": {
     "duration": 0.024395,
     "end_time": "2022-11-28T20:10:18.469661",
     "exception": false,
     "start_time": "2022-11-28T20:10:18.445266",
     "status": "completed"
    },
    "tags": []
   },
   "source": [
    "## Preparing the Data"
   ]
  },
  {
   "cell_type": "code",
   "execution_count": 4,
   "id": "7f69d806",
   "metadata": {
    "execution": {
     "iopub.execute_input": "2022-11-28T20:10:18.525970Z",
     "iopub.status.busy": "2022-11-28T20:10:18.524552Z",
     "iopub.status.idle": "2022-11-28T20:10:18.538778Z",
     "shell.execute_reply": "2022-11-28T20:10:18.538176Z"
    },
    "papermill": {
     "duration": 0.045001,
     "end_time": "2022-11-28T20:10:18.538901",
     "exception": false,
     "start_time": "2022-11-28T20:10:18.493900",
     "status": "completed"
    },
    "tags": []
   },
   "outputs": [],
   "source": [
    "import mnist"
   ]
  },
  {
   "cell_type": "code",
   "execution_count": 5,
   "id": "a411e44f",
   "metadata": {
    "execution": {
     "iopub.execute_input": "2022-11-28T20:10:18.596432Z",
     "iopub.status.busy": "2022-11-28T20:10:18.595821Z",
     "iopub.status.idle": "2022-11-28T20:10:20.980005Z",
     "shell.execute_reply": "2022-11-28T20:10:20.979422Z"
    },
    "papermill": {
     "duration": 2.416577,
     "end_time": "2022-11-28T20:10:20.980150",
     "exception": false,
     "start_time": "2022-11-28T20:10:18.563573",
     "status": "completed"
    },
    "tags": []
   },
   "outputs": [],
   "source": [
    "train_images = mnist.train_images()\n",
    "train_labels = mnist.train_labels()"
   ]
  },
  {
   "cell_type": "code",
   "execution_count": 6,
   "id": "dceab3a5",
   "metadata": {
    "execution": {
     "iopub.execute_input": "2022-11-28T20:10:21.034505Z",
     "iopub.status.busy": "2022-11-28T20:10:21.033911Z",
     "iopub.status.idle": "2022-11-28T20:10:21.048148Z",
     "shell.execute_reply": "2022-11-28T20:10:21.047673Z"
    },
    "papermill": {
     "duration": 0.043019,
     "end_time": "2022-11-28T20:10:21.048262",
     "exception": false,
     "start_time": "2022-11-28T20:10:21.005243",
     "status": "completed"
    },
    "tags": []
   },
   "outputs": [
    {
     "data": {
      "text/plain": [
       "((60000, 28, 28), (60000,))"
      ]
     },
     "execution_count": 6,
     "metadata": {},
     "output_type": "execute_result"
    }
   ],
   "source": [
    "train_images.shape, train_labels.shape"
   ]
  },
  {
   "cell_type": "code",
   "execution_count": 7,
   "id": "f50dc2bb",
   "metadata": {
    "execution": {
     "iopub.execute_input": "2022-11-28T20:10:21.101668Z",
     "iopub.status.busy": "2022-11-28T20:10:21.101031Z",
     "iopub.status.idle": "2022-11-28T20:10:21.739361Z",
     "shell.execute_reply": "2022-11-28T20:10:21.738721Z"
    },
    "papermill": {
     "duration": 0.666579,
     "end_time": "2022-11-28T20:10:21.739499",
     "exception": false,
     "start_time": "2022-11-28T20:10:21.072920",
     "status": "completed"
    },
    "tags": []
   },
   "outputs": [],
   "source": [
    "test_images = mnist.test_images()\n",
    "test_labels = mnist.test_labels()"
   ]
  },
  {
   "cell_type": "code",
   "execution_count": 8,
   "id": "fc38cf1b",
   "metadata": {
    "execution": {
     "iopub.execute_input": "2022-11-28T20:10:21.800593Z",
     "iopub.status.busy": "2022-11-28T20:10:21.800002Z",
     "iopub.status.idle": "2022-11-28T20:10:21.808177Z",
     "shell.execute_reply": "2022-11-28T20:10:21.808737Z"
    },
    "papermill": {
     "duration": 0.044412,
     "end_time": "2022-11-28T20:10:21.808871",
     "exception": false,
     "start_time": "2022-11-28T20:10:21.764459",
     "status": "completed"
    },
    "tags": []
   },
   "outputs": [
    {
     "data": {
      "text/plain": [
       "((10000, 28, 28), (10000,))"
      ]
     },
     "execution_count": 8,
     "metadata": {},
     "output_type": "execute_result"
    }
   ],
   "source": [
    "test_images.shape, test_labels.shape"
   ]
  },
  {
   "cell_type": "code",
   "execution_count": 9,
   "id": "f9ed8fe0",
   "metadata": {
    "execution": {
     "iopub.execute_input": "2022-11-28T20:10:21.862654Z",
     "iopub.status.busy": "2022-11-28T20:10:21.862049Z",
     "iopub.status.idle": "2022-11-28T20:10:21.999901Z",
     "shell.execute_reply": "2022-11-28T20:10:22.000363Z"
    },
    "papermill": {
     "duration": 0.166875,
     "end_time": "2022-11-28T20:10:22.000511",
     "exception": false,
     "start_time": "2022-11-28T20:10:21.833636",
     "status": "completed"
    },
    "tags": []
   },
   "outputs": [
    {
     "name": "stdout",
     "output_type": "stream",
     "text": [
      "2\n"
     ]
    },
    {
     "data": {
      "text/plain": [
       "<matplotlib.image.AxesImage at 0x7ff57c79fdd8>"
      ]
     },
     "execution_count": 9,
     "metadata": {},
     "output_type": "execute_result"
    },
    {
     "data": {
      "image/png": "[encoded data removed]",
      "text/plain": [
       "<Figure size 432x288 with 1 Axes>"
      ]
     },
     "metadata": {
      "needs_background": "light"
     },
     "output_type": "display_data"
    }
   ],
   "source": [
    "image_index = 7776 # You may select anything up to 60,000\n",
    "print(train_labels[image_index]) \n",
    "plt.imshow(train_images[image_index], cmap='Greys')"
   ]
  },
  {
   "cell_type": "markdown",
   "id": "a8d2388d",
   "metadata": {
    "papermill": {
     "duration": 0.026347,
     "end_time": "2022-11-28T20:10:22.053085",
     "exception": false,
     "start_time": "2022-11-28T20:10:22.026738",
     "status": "completed"
    },
    "tags": []
   },
   "source": [
    "## Filter data to get 3 and 8 out"
   ]
  },
  {
   "cell_type": "code",
   "execution_count": 10,
   "id": "776f7fc7",
   "metadata": {
    "execution": {
     "iopub.execute_input": "2022-11-28T20:10:22.110070Z",
     "iopub.status.busy": "2022-11-28T20:10:22.109443Z",
     "iopub.status.idle": "2022-11-28T20:10:22.127383Z",
     "shell.execute_reply": "2022-11-28T20:10:22.127941Z"
    },
    "papermill": {
     "duration": 0.048743,
     "end_time": "2022-11-28T20:10:22.128093",
     "exception": false,
     "start_time": "2022-11-28T20:10:22.079350",
     "status": "completed"
    },
    "tags": []
   },
   "outputs": [],
   "source": [
    "train_filter = np.where((train_labels == 3 ) | (train_labels == 8))\n",
    "test_filter = np.where((test_labels == 3) | (test_labels == 8))\n",
    "X_train, y_train = train_images[train_filter], train_labels[train_filter]\n",
    "X_test, y_test = test_images[test_filter], test_labels[test_filter]"
   ]
  },
  {
   "cell_type": "markdown",
   "id": "948f0b7e",
   "metadata": {
    "papermill": {
     "duration": 0.025876,
     "end_time": "2022-11-28T20:10:22.181282",
     "exception": false,
     "start_time": "2022-11-28T20:10:22.155406",
     "status": "completed"
    },
    "tags": []
   },
   "source": [
    "We normalize the pizel values in the 0 to 1 range"
   ]
  },
  {
   "cell_type": "code",
   "execution_count": 11,
   "id": "ee4c2166",
   "metadata": {
    "execution": {
     "iopub.execute_input": "2022-11-28T20:10:22.238019Z",
     "iopub.status.busy": "2022-11-28T20:10:22.237397Z",
     "iopub.status.idle": "2022-11-28T20:10:22.286703Z",
     "shell.execute_reply": "2022-11-28T20:10:22.286094Z"
    },
    "papermill": {
     "duration": 0.079745,
     "end_time": "2022-11-28T20:10:22.286846",
     "exception": false,
     "start_time": "2022-11-28T20:10:22.207101",
     "status": "completed"
    },
    "tags": []
   },
   "outputs": [],
   "source": [
    "X_train = X_train/255.\n",
    "X_test = X_test/255."
   ]
  },
  {
   "cell_type": "markdown",
   "id": "ddcf4fab",
   "metadata": {
    "papermill": {
     "duration": 0.02578,
     "end_time": "2022-11-28T20:10:22.339244",
     "exception": false,
     "start_time": "2022-11-28T20:10:22.313464",
     "status": "completed"
    },
    "tags": []
   },
   "source": [
    "And setup the labels as 1 (when the digit is 3) and 0 (when the digit is 8)"
   ]
  },
  {
   "cell_type": "code",
   "execution_count": 12,
   "id": "7dc908f2",
   "metadata": {
    "execution": {
     "iopub.execute_input": "2022-11-28T20:10:22.401615Z",
     "iopub.status.busy": "2022-11-28T20:10:22.400949Z",
     "iopub.status.idle": "2022-11-28T20:10:22.409760Z",
     "shell.execute_reply": "2022-11-28T20:10:22.410212Z"
    },
    "papermill": {
     "duration": 0.045321,
     "end_time": "2022-11-28T20:10:22.410360",
     "exception": false,
     "start_time": "2022-11-28T20:10:22.365039",
     "status": "completed"
    },
    "tags": []
   },
   "outputs": [],
   "source": [
    "y_train = 1*(y_train==3)\n",
    "y_test = 1*(y_test==3)"
   ]
  },
  {
   "cell_type": "code",
   "execution_count": 13,
   "id": "01e4e969",
   "metadata": {
    "execution": {
     "iopub.execute_input": "2022-11-28T20:10:22.466474Z",
     "iopub.status.busy": "2022-11-28T20:10:22.465891Z",
     "iopub.status.idle": "2022-11-28T20:10:22.480864Z",
     "shell.execute_reply": "2022-11-28T20:10:22.480287Z"
    },
    "papermill": {
     "duration": 0.044523,
     "end_time": "2022-11-28T20:10:22.480980",
     "exception": false,
     "start_time": "2022-11-28T20:10:22.436457",
     "status": "completed"
    },
    "tags": []
   },
   "outputs": [
    {
     "data": {
      "text/plain": [
       "((11982, 28, 28), (1984, 28, 28))"
      ]
     },
     "execution_count": 13,
     "metadata": {},
     "output_type": "execute_result"
    }
   ],
   "source": [
    "X_train.shape, X_test.shape"
   ]
  },
  {
   "cell_type": "markdown",
   "id": "5ccf3f85",
   "metadata": {
    "papermill": {
     "duration": 0.026396,
     "end_time": "2022-11-28T20:10:22.533604",
     "exception": false,
     "start_time": "2022-11-28T20:10:22.507208",
     "status": "completed"
    },
    "tags": []
   },
   "source": [
    "We reshape the data to flatten the image pixels into a set of features or co-variates:"
   ]
  },
  {
   "cell_type": "code",
   "execution_count": 14,
   "id": "5286a4a3",
   "metadata": {
    "execution": {
     "iopub.execute_input": "2022-11-28T20:10:22.594642Z",
     "iopub.status.busy": "2022-11-28T20:10:22.594045Z",
     "iopub.status.idle": "2022-11-28T20:10:22.606402Z",
     "shell.execute_reply": "2022-11-28T20:10:22.605925Z"
    },
    "papermill": {
     "duration": 0.046411,
     "end_time": "2022-11-28T20:10:22.606529",
     "exception": false,
     "start_time": "2022-11-28T20:10:22.560118",
     "status": "completed"
    },
    "tags": []
   },
   "outputs": [
    {
     "data": {
      "text/plain": [
       "((11982, 784), (1984, 784))"
      ]
     },
     "execution_count": 14,
     "metadata": {},
     "output_type": "execute_result"
    }
   ],
   "source": [
    "X_train = X_train.reshape(X_train.shape[0], -1)\n",
    "X_test = X_test.reshape(X_test.shape[0], -1)\n",
    "X_train.shape, X_test.shape"
   ]
  },
  {
   "cell_type": "code",
   "execution_count": 15,
   "id": "73c5f88a",
   "metadata": {
    "execution": {
     "iopub.execute_input": "2022-11-28T20:10:22.671066Z",
     "iopub.status.busy": "2022-11-28T20:10:22.670435Z",
     "iopub.status.idle": "2022-11-28T20:10:22.685968Z",
     "shell.execute_reply": "2022-11-28T20:10:22.685444Z"
    },
    "papermill": {
     "duration": 0.052985,
     "end_time": "2022-11-28T20:10:22.686090",
     "exception": false,
     "start_time": "2022-11-28T20:10:22.633105",
     "status": "completed"
    },
    "tags": []
   },
   "outputs": [],
   "source": [
    "#Impoting functions from 'Kudzu'\n",
    "from kudzu.model import Model\n",
    "from kudzu.train import Learner\n",
    "from kudzu.optim import GD\n",
    "from kudzu.data import Data, Sampler,Dataloader\n",
    "\n",
    "from kudzu.callbacks import AccCallback\n",
    "from kudzu.callbacks import ClfCallback\n",
    "\n",
    "from kudzu.loss import MSE\n",
    "\n",
    "from kudzu.layer import Sigmoid,Relu\n",
    "from kudzu.layer import Affine"
   ]
  },
  {
   "cell_type": "markdown",
   "id": "bc01172a",
   "metadata": {
    "papermill": {
     "duration": 0.026431,
     "end_time": "2022-11-28T20:10:22.739925",
     "exception": false,
     "start_time": "2022-11-28T20:10:22.713494",
     "status": "completed"
    },
    "tags": []
   },
   "source": [
    "### Let us create a `Config` class, to store important parameters. \n",
    "This class essentially plays the role of a dictionary."
   ]
  },
  {
   "cell_type": "code",
   "execution_count": 16,
   "id": "978281aa",
   "metadata": {
    "execution": {
     "iopub.execute_input": "2022-11-28T20:10:22.800537Z",
     "iopub.status.busy": "2022-11-28T20:10:22.799923Z",
     "iopub.status.idle": "2022-11-28T20:10:22.810393Z",
     "shell.execute_reply": "2022-11-28T20:10:22.810851Z"
    },
    "papermill": {
     "duration": 0.044474,
     "end_time": "2022-11-28T20:10:22.810994",
     "exception": false,
     "start_time": "2022-11-28T20:10:22.766520",
     "status": "completed"
    },
    "tags": []
   },
   "outputs": [],
   "source": [
    "class Config:\n",
    "    pass\n",
    "config = Config()\n",
    "config.lr = 0.001\n",
    "config.num_epochs = 250\n",
    "config.bs = 50"
   ]
  },
  {
   "cell_type": "markdown",
   "id": "1385fa59",
   "metadata": {
    "papermill": {
     "duration": 0.026594,
     "end_time": "2022-11-28T20:10:22.864194",
     "exception": false,
     "start_time": "2022-11-28T20:10:22.837600",
     "status": "completed"
    },
    "tags": []
   },
   "source": [
    "### Running Models with the Training data\n",
    "Details about the network layers:\n",
    "- A first affine layer has 784 inputs and does 100 affine transforms. These are followed by a Relu\n",
    "- A second affine layer has 100 inputs from the 100 activations of the past layer, and does 100 affine transforms. These are followed by a Relu\n",
    "- A third affine layer has 100 activations and does 2 affine transformations to create an embedding for visualization. There is no non-linearity here.\n",
    "- A final \"logistic regression\" which has an affine transform from 2 inputs to 1 output, which is squeezed through a sigmoid.\n"
   ]
  },
  {
   "cell_type": "code",
   "execution_count": 17,
   "id": "2b9c66db",
   "metadata": {
    "execution": {
     "iopub.execute_input": "2022-11-28T20:10:22.922750Z",
     "iopub.status.busy": "2022-11-28T20:10:22.922131Z",
     "iopub.status.idle": "2022-11-28T20:10:22.934898Z",
     "shell.execute_reply": "2022-11-28T20:10:22.934398Z"
    },
    "papermill": {
     "duration": 0.044226,
     "end_time": "2022-11-28T20:10:22.935018",
     "exception": false,
     "start_time": "2022-11-28T20:10:22.890792",
     "status": "completed"
    },
    "tags": []
   },
   "outputs": [],
   "source": [
    "data = Data(X_train, y_train.reshape(-1,1))\n",
    "sampler = Sampler(data, config.bs, shuffle=True)\n",
    "\n",
    "dl = Dataloader(data, sampler)\n",
    "\n",
    "opt = GD(config.lr)\n",
    "loss = MSE()"
   ]
  },
  {
   "cell_type": "code",
   "execution_count": 18,
   "id": "b275e4c2",
   "metadata": {
    "execution": {
     "iopub.execute_input": "2022-11-28T20:10:22.998397Z",
     "iopub.status.busy": "2022-11-28T20:10:22.997575Z",
     "iopub.status.idle": "2022-11-28T20:10:23.010142Z",
     "shell.execute_reply": "2022-11-28T20:10:23.009657Z"
    },
    "papermill": {
     "duration": 0.046117,
     "end_time": "2022-11-28T20:10:23.010264",
     "exception": false,
     "start_time": "2022-11-28T20:10:22.964147",
     "status": "completed"
    },
    "tags": []
   },
   "outputs": [],
   "source": [
    "training_data_x = X_train\n",
    "testing_data_x = X_test\n",
    "training_data_y = y_train.reshape(-1,1)\n",
    "testing_data_y = y_test.reshape(-1,1)"
   ]
  },
  {
   "cell_type": "code",
   "execution_count": 19,
   "id": "76951160",
   "metadata": {
    "execution": {
     "iopub.execute_input": "2022-11-28T20:10:23.069037Z",
     "iopub.status.busy": "2022-11-28T20:10:23.068178Z",
     "iopub.status.idle": "2022-11-28T20:10:23.085278Z",
     "shell.execute_reply": "2022-11-28T20:10:23.084695Z"
    },
    "papermill": {
     "duration": 0.0484,
     "end_time": "2022-11-28T20:10:23.085394",
     "exception": false,
     "start_time": "2022-11-28T20:10:23.036994",
     "status": "completed"
    },
    "tags": []
   },
   "outputs": [
    {
     "name": "stdout",
     "output_type": "stream",
     "text": [
      "xavier\n",
      "xavier\n",
      "xavier\n",
      "xavier\n",
      "xavier\n"
     ]
    }
   ],
   "source": [
    "layers = [Affine(\"first\", 784, 100), Relu(\"first\"), Affine(\"second\", 100, 100), Relu(\"second\"), Affine(\"third\", 100, 2), Affine(\"last\", 2, 1), Sigmoid(\"last\")]\n",
    "model_nn = Model(layers)\n",
    "model_lr = Model([Affine(\"logits\", 784, 1), Sigmoid(\"sigmoid\")])"
   ]
  },
  {
   "cell_type": "code",
   "execution_count": 20,
   "id": "6eede77a",
   "metadata": {
    "execution": {
     "iopub.execute_input": "2022-11-28T20:10:23.143207Z",
     "iopub.status.busy": "2022-11-28T20:10:23.142623Z",
     "iopub.status.idle": "2022-11-28T20:10:23.157936Z",
     "shell.execute_reply": "2022-11-28T20:10:23.158415Z"
    },
    "papermill": {
     "duration": 0.046389,
     "end_time": "2022-11-28T20:10:23.158542",
     "exception": false,
     "start_time": "2022-11-28T20:10:23.112153",
     "status": "completed"
    },
    "tags": []
   },
   "outputs": [],
   "source": [
    "nn_learner = Learner(loss, model_nn, opt, config.num_epochs)\n",
    "acc_nn = ClfCallback(nn_learner, config.bs, training_data_x , testing_data_x, training_data_y, testing_data_y)\n",
    "nn_learner.set_callbacks([acc_nn])"
   ]
  },
  {
   "cell_type": "code",
   "execution_count": 21,
   "id": "877b6cc7",
   "metadata": {
    "execution": {
     "iopub.execute_input": "2022-11-28T20:10:23.216164Z",
     "iopub.status.busy": "2022-11-28T20:10:23.215574Z",
     "iopub.status.idle": "2022-11-28T20:10:23.229340Z",
     "shell.execute_reply": "2022-11-28T20:10:23.229801Z"
    },
    "papermill": {
     "duration": 0.044819,
     "end_time": "2022-11-28T20:10:23.229934",
     "exception": false,
     "start_time": "2022-11-28T20:10:23.185115",
     "status": "completed"
    },
    "tags": []
   },
   "outputs": [],
   "source": [
    "lr_learner = Learner(loss, model_lr, opt, config.num_epochs)\n",
    "acc_lr = ClfCallback(lr_learner, config.bs, training_data_x , testing_data_x, training_data_y, testing_data_y)\n",
    "lr_learner.set_callbacks([acc_lr])"
   ]
  },
  {
   "cell_type": "code",
   "execution_count": 22,
   "id": "d9b133c3",
   "metadata": {
    "execution": {
     "iopub.execute_input": "2022-11-28T20:10:23.287350Z",
     "iopub.status.busy": "2022-11-28T20:10:23.286773Z",
     "iopub.status.idle": "2022-11-28T20:11:40.453291Z",
     "shell.execute_reply": "2022-11-28T20:11:40.454137Z"
    },
    "papermill": {
     "duration": 77.196987,
     "end_time": "2022-11-28T20:11:40.454296",
     "exception": false,
     "start_time": "2022-11-28T20:10:23.257309",
     "status": "completed"
    },
    "tags": []
   },
   "outputs": [
    {
     "name": "stdout",
     "output_type": "stream",
     "text": [
      "Epoch 0, Loss 0.2326\n",
      "Training Accuracy: 0.7497, Testing Accuracy: 0.7707\n",
      "\n"
     ]
    },
    {
     "name": "stdout",
     "output_type": "stream",
     "text": [
      "Epoch 10, Loss 0.0782\n",
      "Training Accuracy: 0.9241, Testing Accuracy: 0.9330\n",
      "\n"
     ]
    },
    {
     "name": "stdout",
     "output_type": "stream",
     "text": [
      "Epoch 20, Loss 0.0512\n",
      "Training Accuracy: 0.9460, Testing Accuracy: 0.9531\n",
      "\n"
     ]
    },
    {
     "name": "stdout",
     "output_type": "stream",
     "text": [
      "Epoch 30, Loss 0.0414\n",
      "Training Accuracy: 0.9546, Testing Accuracy: 0.9622\n",
      "\n"
     ]
    },
    {
     "name": "stdout",
     "output_type": "stream",
     "text": [
      "Epoch 40, Loss 0.0363\n",
      "Training Accuracy: 0.9589, Testing Accuracy: 0.9632\n",
      "\n"
     ]
    },
    {
     "name": "stdout",
     "output_type": "stream",
     "text": [
      "Epoch 50, Loss 0.0331\n",
      "Training Accuracy: 0.9618, Testing Accuracy: 0.9652\n",
      "\n"
     ]
    },
    {
     "name": "stdout",
     "output_type": "stream",
     "text": [
      "Epoch 60, Loss 0.0309\n",
      "Training Accuracy: 0.9640, Testing Accuracy: 0.9677\n",
      "\n"
     ]
    },
    {
     "name": "stdout",
     "output_type": "stream",
     "text": [
      "Epoch 70, Loss 0.0292\n",
      "Training Accuracy: 0.9657, Testing Accuracy: 0.9667\n",
      "\n"
     ]
    },
    {
     "name": "stdout",
     "output_type": "stream",
     "text": [
      "Epoch 80, Loss 0.0278\n",
      "Training Accuracy: 0.9667, Testing Accuracy: 0.9667\n",
      "\n"
     ]
    },
    {
     "name": "stdout",
     "output_type": "stream",
     "text": [
      "Epoch 90, Loss 0.0267\n",
      "Training Accuracy: 0.9682, Testing Accuracy: 0.9677\n",
      "\n"
     ]
    },
    {
     "name": "stdout",
     "output_type": "stream",
     "text": [
      "Epoch 100, Loss 0.0257\n",
      "Training Accuracy: 0.9700, Testing Accuracy: 0.9693\n",
      "\n"
     ]
    },
    {
     "name": "stdout",
     "output_type": "stream",
     "text": [
      "Epoch 110, Loss 0.0248\n",
      "Training Accuracy: 0.9710, Testing Accuracy: 0.9682\n",
      "\n"
     ]
    },
    {
     "name": "stdout",
     "output_type": "stream",
     "text": [
      "Epoch 120, Loss 0.024\n",
      "Training Accuracy: 0.9717, Testing Accuracy: 0.9693\n",
      "\n"
     ]
    },
    {
     "name": "stdout",
     "output_type": "stream",
     "text": [
      "Epoch 130, Loss 0.0233\n",
      "Training Accuracy: 0.9722, Testing Accuracy: 0.9693\n",
      "\n"
     ]
    },
    {
     "name": "stdout",
     "output_type": "stream",
     "text": [
      "Epoch 140, Loss 0.0227\n",
      "Training Accuracy: 0.9729, Testing Accuracy: 0.9713\n",
      "\n"
     ]
    },
    {
     "name": "stdout",
     "output_type": "stream",
     "text": [
      "Epoch 150, Loss 0.0221\n",
      "Training Accuracy: 0.9738, Testing Accuracy: 0.9703\n",
      "\n"
     ]
    },
    {
     "name": "stdout",
     "output_type": "stream",
     "text": [
      "Epoch 160, Loss 0.0215\n",
      "Training Accuracy: 0.9744, Testing Accuracy: 0.9713\n",
      "\n"
     ]
    },
    {
     "name": "stdout",
     "output_type": "stream",
     "text": [
      "Epoch 170, Loss 0.021\n",
      "Training Accuracy: 0.9754, Testing Accuracy: 0.9723\n",
      "\n"
     ]
    },
    {
     "name": "stdout",
     "output_type": "stream",
     "text": [
      "Epoch 180, Loss 0.0205\n",
      "Training Accuracy: 0.9760, Testing Accuracy: 0.9718\n",
      "\n"
     ]
    },
    {
     "name": "stdout",
     "output_type": "stream",
     "text": [
      "Epoch 190, Loss 0.02\n",
      "Training Accuracy: 0.9767, Testing Accuracy: 0.9728\n",
      "\n"
     ]
    },
    {
     "name": "stdout",
     "output_type": "stream",
     "text": [
      "Epoch 200, Loss 0.0196\n",
      "Training Accuracy: 0.9773, Testing Accuracy: 0.9723\n",
      "\n"
     ]
    },
    {
     "name": "stdout",
     "output_type": "stream",
     "text": [
      "Epoch 210, Loss 0.0191\n",
      "Training Accuracy: 0.9781, Testing Accuracy: 0.9733\n",
      "\n"
     ]
    },
    {
     "name": "stdout",
     "output_type": "stream",
     "text": [
      "Epoch 220, Loss 0.0187\n",
      "Training Accuracy: 0.9787, Testing Accuracy: 0.9743\n",
      "\n"
     ]
    },
    {
     "name": "stdout",
     "output_type": "stream",
     "text": [
      "Epoch 230, Loss 0.0183\n",
      "Training Accuracy: 0.9791, Testing Accuracy: 0.9758\n",
      "\n"
     ]
    },
    {
     "name": "stdout",
     "output_type": "stream",
     "text": [
      "Epoch 240, Loss 0.0179\n",
      "Training Accuracy: 0.9796, Testing Accuracy: 0.9753\n",
      "\n"
     ]
    },
    {
     "data": {
      "text/plain": [
       "0.002146242418391681"
      ]
     },
     "execution_count": 22,
     "metadata": {},
     "output_type": "execute_result"
    }
   ],
   "source": [
    "nn_learner.train_loop(dl)"
   ]
  },
  {
   "cell_type": "code",
   "execution_count": 23,
   "id": "e0163366",
   "metadata": {
    "execution": {
     "iopub.execute_input": "2022-11-28T20:11:40.531145Z",
     "iopub.status.busy": "2022-11-28T20:11:40.530546Z",
     "iopub.status.idle": "2022-11-28T20:11:54.360944Z",
     "shell.execute_reply": "2022-11-28T20:11:54.361851Z"
    },
    "papermill": {
     "duration": 13.873199,
     "end_time": "2022-11-28T20:11:54.362011",
     "exception": false,
     "start_time": "2022-11-28T20:11:40.488812",
     "status": "completed"
    },
    "tags": []
   },
   "outputs": [
    {
     "name": "stdout",
     "output_type": "stream",
     "text": [
      "Epoch 0, Loss 0.2404\n",
      "Training Accuracy: 0.6714, Testing Accuracy: 0.6683\n",
      "\n"
     ]
    },
    {
     "name": "stdout",
     "output_type": "stream",
     "text": [
      "Epoch 10, Loss 0.1044\n",
      "Training Accuracy: 0.9052, Testing Accuracy: 0.9178\n",
      "\n"
     ]
    },
    {
     "name": "stdout",
     "output_type": "stream",
     "text": [
      "Epoch 20, Loss 0.0801\n",
      "Training Accuracy: 0.9254, Testing Accuracy: 0.9390\n",
      "\n"
     ]
    },
    {
     "name": "stdout",
     "output_type": "stream",
     "text": [
      "Epoch 30, Loss 0.0688\n",
      "Training Accuracy: 0.9355, Testing Accuracy: 0.9481\n",
      "\n"
     ]
    },
    {
     "name": "stdout",
     "output_type": "stream",
     "text": [
      "Epoch 40, Loss 0.062\n",
      "Training Accuracy: 0.9402, Testing Accuracy: 0.9511\n",
      "\n"
     ]
    },
    {
     "name": "stdout",
     "output_type": "stream",
     "text": [
      "Epoch 50, Loss 0.0574\n",
      "Training Accuracy: 0.9441, Testing Accuracy: 0.9551\n",
      "\n"
     ]
    },
    {
     "name": "stdout",
     "output_type": "stream",
     "text": [
      "Epoch 60, Loss 0.054\n",
      "Training Accuracy: 0.9471, Testing Accuracy: 0.9582\n",
      "\n"
     ]
    },
    {
     "name": "stdout",
     "output_type": "stream",
     "text": [
      "Epoch 70, Loss 0.0514\n",
      "Training Accuracy: 0.9490, Testing Accuracy: 0.9607\n",
      "\n"
     ]
    },
    {
     "name": "stdout",
     "output_type": "stream",
     "text": [
      "Epoch 80, Loss 0.0493\n",
      "Training Accuracy: 0.9502, Testing Accuracy: 0.9617\n",
      "\n"
     ]
    },
    {
     "name": "stdout",
     "output_type": "stream",
     "text": [
      "Epoch 90, Loss 0.0475\n",
      "Training Accuracy: 0.9519, Testing Accuracy: 0.9627\n",
      "\n"
     ]
    },
    {
     "name": "stdout",
     "output_type": "stream",
     "text": [
      "Epoch 100, Loss 0.0461\n",
      "Training Accuracy: 0.9530, Testing Accuracy: 0.9632\n",
      "\n"
     ]
    },
    {
     "name": "stdout",
     "output_type": "stream",
     "text": [
      "Epoch 110, Loss 0.0448\n",
      "Training Accuracy: 0.9533, Testing Accuracy: 0.9637\n",
      "\n"
     ]
    },
    {
     "name": "stdout",
     "output_type": "stream",
     "text": [
      "Epoch 120, Loss 0.0438\n",
      "Training Accuracy: 0.9542, Testing Accuracy: 0.9652\n",
      "\n"
     ]
    },
    {
     "name": "stdout",
     "output_type": "stream",
     "text": [
      "Epoch 130, Loss 0.0428\n",
      "Training Accuracy: 0.9547, Testing Accuracy: 0.9652\n",
      "\n"
     ]
    },
    {
     "name": "stdout",
     "output_type": "stream",
     "text": [
      "Epoch 140, Loss 0.042\n",
      "Training Accuracy: 0.9552, Testing Accuracy: 0.9652\n",
      "\n"
     ]
    },
    {
     "name": "stdout",
     "output_type": "stream",
     "text": [
      "Epoch 150, Loss 0.0412\n",
      "Training Accuracy: 0.9558, Testing Accuracy: 0.9657\n",
      "\n"
     ]
    },
    {
     "name": "stdout",
     "output_type": "stream",
     "text": [
      "Epoch 160, Loss 0.0405\n",
      "Training Accuracy: 0.9563, Testing Accuracy: 0.9662\n",
      "\n"
     ]
    },
    {
     "name": "stdout",
     "output_type": "stream",
     "text": [
      "Epoch 170, Loss 0.0399\n",
      "Training Accuracy: 0.9568, Testing Accuracy: 0.9667\n",
      "\n"
     ]
    },
    {
     "name": "stdout",
     "output_type": "stream",
     "text": [
      "Epoch 180, Loss 0.0394\n",
      "Training Accuracy: 0.9574, Testing Accuracy: 0.9667\n",
      "\n"
     ]
    },
    {
     "name": "stdout",
     "output_type": "stream",
     "text": [
      "Epoch 190, Loss 0.0388\n",
      "Training Accuracy: 0.9581, Testing Accuracy: 0.9677\n",
      "\n"
     ]
    },
    {
     "name": "stdout",
     "output_type": "stream",
     "text": [
      "Epoch 200, Loss 0.0384\n",
      "Training Accuracy: 0.9586, Testing Accuracy: 0.9682\n",
      "\n"
     ]
    },
    {
     "name": "stdout",
     "output_type": "stream",
     "text": [
      "Epoch 210, Loss 0.0379\n",
      "Training Accuracy: 0.9588, Testing Accuracy: 0.9677\n",
      "\n"
     ]
    },
    {
     "name": "stdout",
     "output_type": "stream",
     "text": [
      "Epoch 220, Loss 0.0375\n",
      "Training Accuracy: 0.9594, Testing Accuracy: 0.9682\n",
      "\n"
     ]
    },
    {
     "name": "stdout",
     "output_type": "stream",
     "text": [
      "Epoch 230, Loss 0.0371\n",
      "Training Accuracy: 0.9596, Testing Accuracy: 0.9682\n",
      "\n"
     ]
    },
    {
     "name": "stdout",
     "output_type": "stream",
     "text": [
      "Epoch 240, Loss 0.0367\n",
      "Training Accuracy: 0.9599, Testing Accuracy: 0.9682\n",
      "\n"
     ]
    },
    {
     "data": {
      "text/plain": [
       "0.030776130308076095"
      ]
     },
     "execution_count": 23,
     "metadata": {},
     "output_type": "execute_result"
    }
   ],
   "source": [
    "lr_learner.train_loop(dl)"
   ]
  },
  {
   "cell_type": "code",
   "execution_count": 24,
   "id": "ca410940",
   "metadata": {
    "execution": {
     "iopub.execute_input": "2022-11-28T20:11:54.458456Z",
     "iopub.status.busy": "2022-11-28T20:11:54.457853Z",
     "iopub.status.idle": "2022-11-28T20:11:54.680357Z",
     "shell.execute_reply": "2022-11-28T20:11:54.679854Z"
    },
    "papermill": {
     "duration": 0.277548,
     "end_time": "2022-11-28T20:11:54.680482",
     "exception": false,
     "start_time": "2022-11-28T20:11:54.402934",
     "status": "completed"
    },
    "tags": []
   },
   "outputs": [
    {
     "data": {
      "text/plain": [
       "<matplotlib.legend.Legend at 0x7ff57c30d550>"
      ]
     },
     "execution_count": 24,
     "metadata": {},
     "output_type": "execute_result"
    },
    {
     "data": {
      "image/png": "[encoded data removed]",
      "text/plain": [
       "<Figure size 1080x720 with 1 Axes>"
      ]
     },
     "metadata": {
      "needs_background": "light"
     },
     "output_type": "display_data"
    }
   ],
   "source": [
    "#comparing the results of NN and LR\n",
    "plt.figure(figsize=(15,10))\n",
    "\n",
    "# Neural Network plots\n",
    "plt.plot(acc_nn.accuracies, 'r-', label = \"Training Accuracies - NN\")\n",
    "plt.plot(acc_nn.test_accuracies, 'g-', label = \"Testing Accuracies - NN\")\n",
    "\n",
    "# Logistic Regression plots\n",
    "plt.plot(acc_lr.accuracies, 'k-', label = \"Training Accuracies - LR\")\n",
    "plt.plot(acc_lr.test_accuracies, 'b-', label = \"Testing Accuracies - LR\")\n",
    "plt.legend()"
   ]
  },
  {
   "cell_type": "markdown",
   "id": "80dfb35c",
   "metadata": {
    "papermill": {
     "duration": 0.041551,
     "end_time": "2022-11-28T20:11:54.763661",
     "exception": false,
     "start_time": "2022-11-28T20:11:54.722110",
     "status": "completed"
    },
    "tags": []
   },
   "source": [
    "#### Plotting the outputs of this layer of the NN.\n"
   ]
  },
  {
   "cell_type": "code",
   "execution_count": 25,
   "id": "45eb2ff5",
   "metadata": {
    "execution": {
     "iopub.execute_input": "2022-11-28T20:11:54.850526Z",
     "iopub.status.busy": "2022-11-28T20:11:54.849922Z",
     "iopub.status.idle": "2022-11-28T20:11:54.870269Z",
     "shell.execute_reply": "2022-11-28T20:11:54.870734Z"
    },
    "papermill": {
     "duration": 0.066202,
     "end_time": "2022-11-28T20:11:54.870876",
     "exception": false,
     "start_time": "2022-11-28T20:11:54.804674",
     "status": "completed"
    },
    "tags": []
   },
   "outputs": [],
   "source": [
    "new_model = Model(layers[:-2])\n",
    "testing_plot = new_model(testing_data_x)"
   ]
  },
  {
   "cell_type": "code",
   "execution_count": 26,
   "id": "4c0a5485",
   "metadata": {
    "execution": {
     "iopub.execute_input": "2022-11-28T20:11:54.961438Z",
     "iopub.status.busy": "2022-11-28T20:11:54.960779Z",
     "iopub.status.idle": "2022-11-28T20:11:55.144859Z",
     "shell.execute_reply": "2022-11-28T20:11:55.143979Z"
    },
    "papermill": {
     "duration": 0.232495,
     "end_time": "2022-11-28T20:11:55.145001",
     "exception": false,
     "start_time": "2022-11-28T20:11:54.912506",
     "status": "completed"
    },
    "tags": []
   },
   "outputs": [
    {
     "data": {
      "text/plain": [
       "Text(0.5, 1.0, 'Outputs')"
      ]
     },
     "execution_count": 26,
     "metadata": {},
     "output_type": "execute_result"
    },
    {
     "data": {
      "image/png": "[encoded data removed]",
      "text/plain": [
       "<Figure size 576x504 with 1 Axes>"
      ]
     },
     "metadata": {
      "needs_background": "light"
     },
     "output_type": "display_data"
    }
   ],
   "source": [
    "# Plotting the scatter plot of points and color coding by class\n",
    "plt.figure(figsize=(8,7))\n",
    "plt.scatter(testing_plot[:,0], testing_plot[:,1], alpha = 0.1, c = y_test.ravel());\n",
    "plt.title('Outputs')"
   ]
  },
  {
   "cell_type": "markdown",
   "id": "a74fcf8f",
   "metadata": {
    "papermill": {
     "duration": 0.04361,
     "end_time": "2022-11-28T20:11:55.232508",
     "exception": false,
     "start_time": "2022-11-28T20:11:55.188898",
     "status": "completed"
    },
    "tags": []
   },
   "source": [
    "Probability contours"
   ]
  },
  {
   "cell_type": "code",
   "execution_count": 27,
   "id": "d0afc8e3",
   "metadata": {
    "execution": {
     "iopub.execute_input": "2022-11-28T20:11:55.329892Z",
     "iopub.status.busy": "2022-11-28T20:11:55.329162Z",
     "iopub.status.idle": "2022-11-28T20:11:55.340078Z",
     "shell.execute_reply": "2022-11-28T20:11:55.340500Z"
    },
    "papermill": {
     "duration": 0.060177,
     "end_time": "2022-11-28T20:11:55.340640",
     "exception": false,
     "start_time": "2022-11-28T20:11:55.280463",
     "status": "completed"
    },
    "tags": []
   },
   "outputs": [],
   "source": [
    "model_prob = Model(layers[-2:]) "
   ]
  },
  {
   "cell_type": "code",
   "execution_count": 28,
   "id": "9b96e238",
   "metadata": {
    "execution": {
     "iopub.execute_input": "2022-11-28T20:11:55.445719Z",
     "iopub.status.busy": "2022-11-28T20:11:55.445049Z",
     "iopub.status.idle": "2022-11-28T20:11:55.454522Z",
     "shell.execute_reply": "2022-11-28T20:11:55.455088Z"
    },
    "papermill": {
     "duration": 0.071437,
     "end_time": "2022-11-28T20:11:55.455230",
     "exception": false,
     "start_time": "2022-11-28T20:11:55.383793",
     "status": "completed"
    },
    "tags": []
   },
   "outputs": [],
   "source": [
    "#creating the x and y ranges according to the above generated plot.\n",
    "x_range = np.linspace(-4, 1, 100) \n",
    "y_range = np.linspace(-6, 6, 100) \n",
    "x_grid, y_grid = np.meshgrid(x_range, y_range) # x_grid and y_grig are of size 100 X 100\n",
    "\n",
    "# converting x_grid and y_grid to continuous arrays\n",
    "x_gridflat = np.ravel(x_grid)\n",
    "y_gridflat = np.ravel(y_grid)\n",
    "\n",
    "# The last layer of the current model takes two columns as input. Hence transpose of np.vstack() is required.\n",
    "X = np.vstack((x_gridflat, y_gridflat)).T\n",
    "\n",
    "prob_contour = model_prob(X).reshape(100,100) "
   ]
  },
  {
   "cell_type": "code",
   "execution_count": 29,
   "id": "da72499a",
   "metadata": {
    "execution": {
     "iopub.execute_input": "2022-11-28T20:11:55.599172Z",
     "iopub.status.busy": "2022-11-28T20:11:55.598571Z",
     "iopub.status.idle": "2022-11-28T20:11:55.831348Z",
     "shell.execute_reply": "2022-11-28T20:11:55.831809Z"
    },
    "papermill": {
     "duration": 0.292729,
     "end_time": "2022-11-28T20:11:55.831956",
     "exception": false,
     "start_time": "2022-11-28T20:11:55.539227",
     "status": "completed"
    },
    "tags": []
   },
   "outputs": [
    {
     "data": {
      "image/png": "[encoded data removed]",
      "text/plain": [
       "<Figure size 720x648 with 1 Axes>"
      ]
     },
     "metadata": {
      "needs_background": "light"
     },
     "output_type": "display_data"
    }
   ],
   "source": [
    "plt.figure(figsize=(10,9))\n",
    "plt.scatter(testing_plot[:,0], testing_plot[:,1], alpha = 0.1, c = y_test.ravel())\n",
    "contours = plt.contour(x_grid,y_grid,prob_contour)\n",
    "plt.title('Probability Contours')\n",
    "plt.clabel(contours, inline = True );"
   ]
  },
  {
   "cell_type": "code",
   "execution_count": null,
   "id": "e81b4ac7",
   "metadata": {
    "papermill": {
     "duration": 0.046292,
     "end_time": "2022-11-28T20:11:55.925217",
     "exception": false,
     "start_time": "2022-11-28T20:11:55.878925",
     "status": "completed"
    },
    "tags": []
   },
   "outputs": [],
   "source": []
  }
 ],
 "metadata": {
  "kernelspec": {
   "display_name": "Python 3",
   "language": "python",
   "name": "python3"
  },
  "language_info": {
   "codemirror_mode": {
    "name": "ipython",
    "version": 3
   },
   "file_extension": ".py",
   "mimetype": "text/x-python",
   "name": "python",
   "nbconvert_exporter": "python",
   "pygments_lexer": "ipython3",
   "version": "3.6.15"
  },
  "papermill": {
   "default_parameters": {},
   "duration": 101.434681,
   "end_time": "2022-11-28T20:11:56.390782",
   "environment_variables": {},
   "exception": null,
   "input_path": "2020-08-11-part2.ipynb",
   "output_path": "2020-08-11-part2.ipynb",
   "parameters": {},
   "start_time": "2022-11-28T20:10:14.956101",
   "version": "2.3.3"
  }
 },
 "nbformat": 4,
 "nbformat_minor": 5
}