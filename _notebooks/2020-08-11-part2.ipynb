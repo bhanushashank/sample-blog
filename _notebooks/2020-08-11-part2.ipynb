{
 "cells": [
  {
   "cell_type": "markdown",
   "id": "98380cd3",
   "metadata": {
    "papermill": {
     "duration": 0.035171,
     "end_time": "2022-07-22T20:10:50.443004",
     "exception": false,
     "start_time": "2022-07-22T20:10:50.407833",
     "status": "completed"
    },
    "tags": []
   },
   "source": [
    "# Distinguish Your Own Digits (DYOD)"
   ]
  },
  {
   "cell_type": "markdown",
   "id": "ef31240d",
   "metadata": {
    "papermill": {
     "duration": 0.025602,
     "end_time": "2022-07-22T20:10:50.493962",
     "exception": false,
     "start_time": "2022-07-22T20:10:50.468360",
     "status": "completed"
    },
    "tags": []
   },
   "source": [
    "You are going to write a classifier that distinguishes between the number 3 and number 8."
   ]
  },
  {
   "cell_type": "code",
   "execution_count": 1,
   "id": "b15c8646",
   "metadata": {
    "execution": {
     "iopub.execute_input": "2022-07-22T20:10:50.556562Z",
     "iopub.status.busy": "2022-07-22T20:10:50.555746Z",
     "iopub.status.idle": "2022-07-22T20:10:50.569501Z",
     "shell.execute_reply": "2022-07-22T20:10:50.568897Z"
    },
    "papermill": {
     "duration": 0.050908,
     "end_time": "2022-07-22T20:10:50.569651",
     "exception": false,
     "start_time": "2022-07-22T20:10:50.518743",
     "status": "completed"
    },
    "tags": []
   },
   "outputs": [],
   "source": [
    "%load_ext autoreload\n",
    "%autoreload 2"
   ]
  },
  {
   "cell_type": "code",
   "execution_count": 2,
   "id": "22ef38dc",
   "metadata": {
    "execution": {
     "iopub.execute_input": "2022-07-22T20:10:50.626177Z",
     "iopub.status.busy": "2022-07-22T20:10:50.625497Z",
     "iopub.status.idle": "2022-07-22T20:10:51.232465Z",
     "shell.execute_reply": "2022-07-22T20:10:51.231314Z"
    },
    "papermill": {
     "duration": 0.636522,
     "end_time": "2022-07-22T20:10:51.232618",
     "exception": false,
     "start_time": "2022-07-22T20:10:50.596096",
     "status": "completed"
    },
    "tags": []
   },
   "outputs": [],
   "source": [
    "%matplotlib inline\n",
    "import numpy as np\n",
    "import matplotlib.pyplot as plt\n",
    "import pandas as pd"
   ]
  },
  {
   "cell_type": "markdown",
   "id": "ba036198",
   "metadata": {
    "papermill": {
     "duration": 0.025945,
     "end_time": "2022-07-22T20:10:51.283598",
     "exception": false,
     "start_time": "2022-07-22T20:10:51.257653",
     "status": "completed"
    },
    "tags": []
   },
   "source": [
    "From the command line run `pip install mnist`. This is a library that will help you bring down the mnist dataset. If you run this from a notebook, you need to put  `!pip install mnist` in a cell by itself."
   ]
  },
  {
   "cell_type": "code",
   "execution_count": 3,
   "id": "bb6ad8a1",
   "metadata": {
    "execution": {
     "iopub.execute_input": "2022-07-22T20:10:51.338611Z",
     "iopub.status.busy": "2022-07-22T20:10:51.337934Z",
     "iopub.status.idle": "2022-07-22T20:10:53.168072Z",
     "shell.execute_reply": "2022-07-22T20:10:53.167132Z"
    },
    "papermill": {
     "duration": 1.85988,
     "end_time": "2022-07-22T20:10:53.168279",
     "exception": false,
     "start_time": "2022-07-22T20:10:51.308399",
     "status": "completed"
    },
    "tags": []
   },
   "outputs": [
    {
     "name": "stdout",
     "output_type": "stream",
     "text": [
      "Collecting mnist\r\n"
     ]
    },
    {
     "name": "stdout",
     "output_type": "stream",
     "text": [
      "  Downloading mnist-0.2.2-py2.py3-none-any.whl (3.5 kB)\r\n",
      "Requirement already satisfied: numpy in /opt/hostedtoolcache/Python/3.6.15/x64/lib/python3.6/site-packages (from mnist) (1.19.5)\r\n"
     ]
    },
    {
     "name": "stdout",
     "output_type": "stream",
     "text": [
      "Installing collected packages: mnist\r\n"
     ]
    },
    {
     "name": "stdout",
     "output_type": "stream",
     "text": [
      "Successfully installed mnist-0.2.2\r\n"
     ]
    }
   ],
   "source": [
    "!pip install mnist"
   ]
  },
  {
   "cell_type": "markdown",
   "id": "69df9c9a",
   "metadata": {
    "papermill": {
     "duration": 0.025131,
     "end_time": "2022-07-22T20:10:53.220917",
     "exception": false,
     "start_time": "2022-07-22T20:10:53.195786",
     "status": "completed"
    },
    "tags": []
   },
   "source": [
    "## Preparing the Data"
   ]
  },
  {
   "cell_type": "code",
   "execution_count": 4,
   "id": "7f69d806",
   "metadata": {
    "execution": {
     "iopub.execute_input": "2022-07-22T20:10:53.278027Z",
     "iopub.status.busy": "2022-07-22T20:10:53.277326Z",
     "iopub.status.idle": "2022-07-22T20:10:53.294411Z",
     "shell.execute_reply": "2022-07-22T20:10:53.295045Z"
    },
    "papermill": {
     "duration": 0.048369,
     "end_time": "2022-07-22T20:10:53.295200",
     "exception": false,
     "start_time": "2022-07-22T20:10:53.246831",
     "status": "completed"
    },
    "tags": []
   },
   "outputs": [],
   "source": [
    "import mnist"
   ]
  },
  {
   "cell_type": "code",
   "execution_count": 5,
   "id": "a411e44f",
   "metadata": {
    "execution": {
     "iopub.execute_input": "2022-07-22T20:10:53.353143Z",
     "iopub.status.busy": "2022-07-22T20:10:53.352445Z",
     "iopub.status.idle": "2022-07-22T20:10:54.002471Z",
     "shell.execute_reply": "2022-07-22T20:10:54.001870Z"
    },
    "papermill": {
     "duration": 0.681468,
     "end_time": "2022-07-22T20:10:54.002608",
     "exception": false,
     "start_time": "2022-07-22T20:10:53.321140",
     "status": "completed"
    },
    "tags": []
   },
   "outputs": [],
   "source": [
    "train_images = mnist.train_images()\n",
    "train_labels = mnist.train_labels()"
   ]
  },
  {
   "cell_type": "code",
   "execution_count": 6,
   "id": "dceab3a5",
   "metadata": {
    "execution": {
     "iopub.execute_input": "2022-07-22T20:10:54.060812Z",
     "iopub.status.busy": "2022-07-22T20:10:54.060089Z",
     "iopub.status.idle": "2022-07-22T20:10:54.078714Z",
     "shell.execute_reply": "2022-07-22T20:10:54.079191Z"
    },
    "papermill": {
     "duration": 0.051107,
     "end_time": "2022-07-22T20:10:54.079344",
     "exception": false,
     "start_time": "2022-07-22T20:10:54.028237",
     "status": "completed"
    },
    "tags": []
   },
   "outputs": [
    {
     "data": {
      "text/plain": [
       "((60000, 28, 28), (60000,))"
      ]
     },
     "execution_count": 6,
     "metadata": {},
     "output_type": "execute_result"
    }
   ],
   "source": [
    "train_images.shape, train_labels.shape"
   ]
  },
  {
   "cell_type": "code",
   "execution_count": 7,
   "id": "f50dc2bb",
   "metadata": {
    "execution": {
     "iopub.execute_input": "2022-07-22T20:10:54.142347Z",
     "iopub.status.busy": "2022-07-22T20:10:54.141614Z",
     "iopub.status.idle": "2022-07-22T20:10:54.355813Z",
     "shell.execute_reply": "2022-07-22T20:10:54.355162Z"
    },
    "papermill": {
     "duration": 0.247772,
     "end_time": "2022-07-22T20:10:54.355989",
     "exception": false,
     "start_time": "2022-07-22T20:10:54.108217",
     "status": "completed"
    },
    "tags": []
   },
   "outputs": [],
   "source": [
    "test_images = mnist.test_images()\n",
    "test_labels = mnist.test_labels()"
   ]
  },
  {
   "cell_type": "code",
   "execution_count": 8,
   "id": "fc38cf1b",
   "metadata": {
    "execution": {
     "iopub.execute_input": "2022-07-22T20:10:54.417766Z",
     "iopub.status.busy": "2022-07-22T20:10:54.417056Z",
     "iopub.status.idle": "2022-07-22T20:10:54.433589Z",
     "shell.execute_reply": "2022-07-22T20:10:54.433042Z"
    },
    "papermill": {
     "duration": 0.045989,
     "end_time": "2022-07-22T20:10:54.433747",
     "exception": false,
     "start_time": "2022-07-22T20:10:54.387758",
     "status": "completed"
    },
    "tags": []
   },
   "outputs": [
    {
     "data": {
      "text/plain": [
       "((10000, 28, 28), (10000,))"
      ]
     },
     "execution_count": 8,
     "metadata": {},
     "output_type": "execute_result"
    }
   ],
   "source": [
    "test_images.shape, test_labels.shape"
   ]
  },
  {
   "cell_type": "code",
   "execution_count": 9,
   "id": "f9ed8fe0",
   "metadata": {
    "execution": {
     "iopub.execute_input": "2022-07-22T20:10:54.491734Z",
     "iopub.status.busy": "2022-07-22T20:10:54.491048Z",
     "iopub.status.idle": "2022-07-22T20:10:54.652508Z",
     "shell.execute_reply": "2022-07-22T20:10:54.652007Z"
    },
    "papermill": {
     "duration": 0.191435,
     "end_time": "2022-07-22T20:10:54.652646",
     "exception": false,
     "start_time": "2022-07-22T20:10:54.461211",
     "status": "completed"
    },
    "tags": []
   },
   "outputs": [
    {
     "name": "stdout",
     "output_type": "stream",
     "text": [
      "2\n"
     ]
    },
    {
     "data": {
      "text/plain": [
       "<matplotlib.image.AxesImage at 0x7f99fae524a8>"
      ]
     },
     "execution_count": 9,
     "metadata": {},
     "output_type": "execute_result"
    },
    {
     "data": {
      "image/png": "[encoded data removed]",
      "text/plain": [
       "<Figure size 432x288 with 1 Axes>"
      ]
     },
     "metadata": {
      "needs_background": "light"
     },
     "output_type": "display_data"
    }
   ],
   "source": [
    "image_index = 7776 # You may select anything up to 60,000\n",
    "print(train_labels[image_index]) \n",
    "plt.imshow(train_images[image_index], cmap='Greys')"
   ]
  },
  {
   "cell_type": "markdown",
   "id": "a8d2388d",
   "metadata": {
    "papermill": {
     "duration": 0.025631,
     "end_time": "2022-07-22T20:10:54.706002",
     "exception": false,
     "start_time": "2022-07-22T20:10:54.680371",
     "status": "completed"
    },
    "tags": []
   },
   "source": [
    "## Filter data to get 3 and 8 out"
   ]
  },
  {
   "cell_type": "code",
   "execution_count": 10,
   "id": "776f7fc7",
   "metadata": {
    "execution": {
     "iopub.execute_input": "2022-07-22T20:10:54.768435Z",
     "iopub.status.busy": "2022-07-22T20:10:54.767681Z",
     "iopub.status.idle": "2022-07-22T20:10:54.791650Z",
     "shell.execute_reply": "2022-07-22T20:10:54.792218Z"
    },
    "papermill": {
     "duration": 0.058877,
     "end_time": "2022-07-22T20:10:54.792357",
     "exception": false,
     "start_time": "2022-07-22T20:10:54.733480",
     "status": "completed"
    },
    "tags": []
   },
   "outputs": [],
   "source": [
    "train_filter = np.where((train_labels == 3 ) | (train_labels == 8))\n",
    "test_filter = np.where((test_labels == 3) | (test_labels == 8))\n",
    "X_train, y_train = train_images[train_filter], train_labels[train_filter]\n",
    "X_test, y_test = test_images[test_filter], test_labels[test_filter]"
   ]
  },
  {
   "cell_type": "markdown",
   "id": "948f0b7e",
   "metadata": {
    "papermill": {
     "duration": 0.027661,
     "end_time": "2022-07-22T20:10:54.846151",
     "exception": false,
     "start_time": "2022-07-22T20:10:54.818490",
     "status": "completed"
    },
    "tags": []
   },
   "source": [
    "We normalize the pizel values in the 0 to 1 range"
   ]
  },
  {
   "cell_type": "code",
   "execution_count": 11,
   "id": "ee4c2166",
   "metadata": {
    "execution": {
     "iopub.execute_input": "2022-07-22T20:10:54.913170Z",
     "iopub.status.busy": "2022-07-22T20:10:54.912430Z",
     "iopub.status.idle": "2022-07-22T20:10:54.984299Z",
     "shell.execute_reply": "2022-07-22T20:10:54.984804Z"
    },
    "papermill": {
     "duration": 0.10601,
     "end_time": "2022-07-22T20:10:54.984982",
     "exception": false,
     "start_time": "2022-07-22T20:10:54.878972",
     "status": "completed"
    },
    "tags": []
   },
   "outputs": [],
   "source": [
    "X_train = X_train/255.\n",
    "X_test = X_test/255."
   ]
  },
  {
   "cell_type": "markdown",
   "id": "ddcf4fab",
   "metadata": {
    "papermill": {
     "duration": 0.029871,
     "end_time": "2022-07-22T20:10:55.043275",
     "exception": false,
     "start_time": "2022-07-22T20:10:55.013404",
     "status": "completed"
    },
    "tags": []
   },
   "source": [
    "And setup the labels as 1 (when the digit is 3) and 0 (when the digit is 8)"
   ]
  },
  {
   "cell_type": "code",
   "execution_count": 12,
   "id": "7dc908f2",
   "metadata": {
    "execution": {
     "iopub.execute_input": "2022-07-22T20:10:55.106718Z",
     "iopub.status.busy": "2022-07-22T20:10:55.105983Z",
     "iopub.status.idle": "2022-07-22T20:10:55.121308Z",
     "shell.execute_reply": "2022-07-22T20:10:55.120778Z"
    },
    "papermill": {
     "duration": 0.048474,
     "end_time": "2022-07-22T20:10:55.121438",
     "exception": false,
     "start_time": "2022-07-22T20:10:55.072964",
     "status": "completed"
    },
    "tags": []
   },
   "outputs": [],
   "source": [
    "y_train = 1*(y_train==3)\n",
    "y_test = 1*(y_test==3)"
   ]
  },
  {
   "cell_type": "code",
   "execution_count": 13,
   "id": "01e4e969",
   "metadata": {
    "execution": {
     "iopub.execute_input": "2022-07-22T20:10:55.187937Z",
     "iopub.status.busy": "2022-07-22T20:10:55.187383Z",
     "iopub.status.idle": "2022-07-22T20:10:55.201603Z",
     "shell.execute_reply": "2022-07-22T20:10:55.201108Z"
    },
    "papermill": {
     "duration": 0.052136,
     "end_time": "2022-07-22T20:10:55.201729",
     "exception": false,
     "start_time": "2022-07-22T20:10:55.149593",
     "status": "completed"
    },
    "tags": []
   },
   "outputs": [
    {
     "data": {
      "text/plain": [
       "((11982, 28, 28), (1984, 28, 28))"
      ]
     },
     "execution_count": 13,
     "metadata": {},
     "output_type": "execute_result"
    }
   ],
   "source": [
    "X_train.shape, X_test.shape"
   ]
  },
  {
   "cell_type": "markdown",
   "id": "5ccf3f85",
   "metadata": {
    "papermill": {
     "duration": 0.028402,
     "end_time": "2022-07-22T20:10:55.258078",
     "exception": false,
     "start_time": "2022-07-22T20:10:55.229676",
     "status": "completed"
    },
    "tags": []
   },
   "source": [
    "We reshape the data to flatten the image pixels into a set of features or co-variates:"
   ]
  },
  {
   "cell_type": "code",
   "execution_count": 14,
   "id": "5286a4a3",
   "metadata": {
    "execution": {
     "iopub.execute_input": "2022-07-22T20:10:55.322363Z",
     "iopub.status.busy": "2022-07-22T20:10:55.321823Z",
     "iopub.status.idle": "2022-07-22T20:10:55.339060Z",
     "shell.execute_reply": "2022-07-22T20:10:55.339558Z"
    },
    "papermill": {
     "duration": 0.04894,
     "end_time": "2022-07-22T20:10:55.339705",
     "exception": false,
     "start_time": "2022-07-22T20:10:55.290765",
     "status": "completed"
    },
    "tags": []
   },
   "outputs": [
    {
     "data": {
      "text/plain": [
       "((11982, 784), (1984, 784))"
      ]
     },
     "execution_count": 14,
     "metadata": {},
     "output_type": "execute_result"
    }
   ],
   "source": [
    "X_train = X_train.reshape(X_train.shape[0], -1)\n",
    "X_test = X_test.reshape(X_test.shape[0], -1)\n",
    "X_train.shape, X_test.shape"
   ]
  },
  {
   "cell_type": "code",
   "execution_count": 15,
   "id": "73c5f88a",
   "metadata": {
    "execution": {
     "iopub.execute_input": "2022-07-22T20:10:55.404212Z",
     "iopub.status.busy": "2022-07-22T20:10:55.403481Z",
     "iopub.status.idle": "2022-07-22T20:10:55.430307Z",
     "shell.execute_reply": "2022-07-22T20:10:55.431003Z"
    },
    "papermill": {
     "duration": 0.064791,
     "end_time": "2022-07-22T20:10:55.431207",
     "exception": false,
     "start_time": "2022-07-22T20:10:55.366416",
     "status": "completed"
    },
    "tags": []
   },
   "outputs": [],
   "source": [
    "#Impoting functions from 'Kudzu'\n",
    "from kudzu.model import Model\n",
    "from kudzu.train import Learner\n",
    "from kudzu.optim import GD\n",
    "from kudzu.data import Data, Sampler,Dataloader\n",
    "\n",
    "from kudzu.callbacks import AccCallback\n",
    "from kudzu.callbacks import ClfCallback\n",
    "\n",
    "from kudzu.loss import MSE\n",
    "\n",
    "from kudzu.layer import Sigmoid,Relu\n",
    "from kudzu.layer import Affine"
   ]
  },
  {
   "cell_type": "markdown",
   "id": "bc01172a",
   "metadata": {
    "papermill": {
     "duration": 0.030038,
     "end_time": "2022-07-22T20:10:55.488902",
     "exception": false,
     "start_time": "2022-07-22T20:10:55.458864",
     "status": "completed"
    },
    "tags": []
   },
   "source": [
    "### Let us create a `Config` class, to store important parameters. \n",
    "This class essentially plays the role of a dictionary."
   ]
  },
  {
   "cell_type": "code",
   "execution_count": 16,
   "id": "978281aa",
   "metadata": {
    "execution": {
     "iopub.execute_input": "2022-07-22T20:10:55.550151Z",
     "iopub.status.busy": "2022-07-22T20:10:55.549427Z",
     "iopub.status.idle": "2022-07-22T20:10:55.567757Z",
     "shell.execute_reply": "2022-07-22T20:10:55.568359Z"
    },
    "papermill": {
     "duration": 0.052347,
     "end_time": "2022-07-22T20:10:55.568521",
     "exception": false,
     "start_time": "2022-07-22T20:10:55.516174",
     "status": "completed"
    },
    "tags": []
   },
   "outputs": [],
   "source": [
    "class Config:\n",
    "    pass\n",
    "config = Config()\n",
    "config.lr = 0.001\n",
    "config.num_epochs = 250\n",
    "config.bs = 50"
   ]
  },
  {
   "cell_type": "markdown",
   "id": "1385fa59",
   "metadata": {
    "papermill": {
     "duration": 0.02985,
     "end_time": "2022-07-22T20:10:55.629236",
     "exception": false,
     "start_time": "2022-07-22T20:10:55.599386",
     "status": "completed"
    },
    "tags": []
   },
   "source": [
    "### Running Models with the Training data\n",
    "Details about the network layers:\n",
    "- A first affine layer has 784 inputs and does 100 affine transforms. These are followed by a Relu\n",
    "- A second affine layer has 100 inputs from the 100 activations of the past layer, and does 100 affine transforms. These are followed by a Relu\n",
    "- A third affine layer has 100 activations and does 2 affine transformations to create an embedding for visualization. There is no non-linearity here.\n",
    "- A final \"logistic regression\" which has an affine transform from 2 inputs to 1 output, which is squeezed through a sigmoid.\n"
   ]
  },
  {
   "cell_type": "code",
   "execution_count": 17,
   "id": "2b9c66db",
   "metadata": {
    "execution": {
     "iopub.execute_input": "2022-07-22T20:10:55.695458Z",
     "iopub.status.busy": "2022-07-22T20:10:55.694660Z",
     "iopub.status.idle": "2022-07-22T20:10:55.711068Z",
     "shell.execute_reply": "2022-07-22T20:10:55.710468Z"
    },
    "papermill": {
     "duration": 0.051847,
     "end_time": "2022-07-22T20:10:55.711209",
     "exception": false,
     "start_time": "2022-07-22T20:10:55.659362",
     "status": "completed"
    },
    "tags": []
   },
   "outputs": [],
   "source": [
    "data = Data(X_train, y_train.reshape(-1,1))\n",
    "sampler = Sampler(data, config.bs, shuffle=True)\n",
    "\n",
    "dl = Dataloader(data, sampler)\n",
    "\n",
    "opt = GD(config.lr)\n",
    "loss = MSE()"
   ]
  },
  {
   "cell_type": "code",
   "execution_count": 18,
   "id": "b275e4c2",
   "metadata": {
    "execution": {
     "iopub.execute_input": "2022-07-22T20:10:55.777407Z",
     "iopub.status.busy": "2022-07-22T20:10:55.776748Z",
     "iopub.status.idle": "2022-07-22T20:10:55.794297Z",
     "shell.execute_reply": "2022-07-22T20:10:55.794945Z"
    },
    "papermill": {
     "duration": 0.053715,
     "end_time": "2022-07-22T20:10:55.795092",
     "exception": false,
     "start_time": "2022-07-22T20:10:55.741377",
     "status": "completed"
    },
    "tags": []
   },
   "outputs": [],
   "source": [
    "training_data_x = X_train\n",
    "testing_data_x = X_test\n",
    "training_data_y = y_train.reshape(-1,1)\n",
    "testing_data_y = y_test.reshape(-1,1)"
   ]
  },
  {
   "cell_type": "code",
   "execution_count": 19,
   "id": "76951160",
   "metadata": {
    "execution": {
     "iopub.execute_input": "2022-07-22T20:10:55.857755Z",
     "iopub.status.busy": "2022-07-22T20:10:55.857055Z",
     "iopub.status.idle": "2022-07-22T20:10:55.879304Z",
     "shell.execute_reply": "2022-07-22T20:10:55.880041Z"
    },
    "papermill": {
     "duration": 0.058279,
     "end_time": "2022-07-22T20:10:55.880203",
     "exception": false,
     "start_time": "2022-07-22T20:10:55.821924",
     "status": "completed"
    },
    "tags": []
   },
   "outputs": [
    {
     "name": "stdout",
     "output_type": "stream",
     "text": [
      "xavier\n",
      "xavier\n",
      "xavier\n",
      "xavier\n",
      "xavier\n"
     ]
    }
   ],
   "source": [
    "layers = [Affine(\"first\", 784, 100), Relu(\"first\"), Affine(\"second\", 100, 100), Relu(\"second\"), Affine(\"third\", 100, 2), Affine(\"last\", 2, 1), Sigmoid(\"last\")]\n",
    "model_nn = Model(layers)\n",
    "model_lr = Model([Affine(\"logits\", 784, 1), Sigmoid(\"sigmoid\")])"
   ]
  },
  {
   "cell_type": "code",
   "execution_count": 20,
   "id": "6eede77a",
   "metadata": {
    "execution": {
     "iopub.execute_input": "2022-07-22T20:10:55.946620Z",
     "iopub.status.busy": "2022-07-22T20:10:55.945855Z",
     "iopub.status.idle": "2022-07-22T20:10:55.961009Z",
     "shell.execute_reply": "2022-07-22T20:10:55.961514Z"
    },
    "papermill": {
     "duration": 0.050802,
     "end_time": "2022-07-22T20:10:55.961665",
     "exception": false,
     "start_time": "2022-07-22T20:10:55.910863",
     "status": "completed"
    },
    "tags": []
   },
   "outputs": [],
   "source": [
    "nn_learner = Learner(loss, model_nn, opt, config.num_epochs)\n",
    "acc_nn = ClfCallback(nn_learner, config.bs, training_data_x , testing_data_x, training_data_y, testing_data_y)\n",
    "nn_learner.set_callbacks([acc_nn])"
   ]
  },
  {
   "cell_type": "code",
   "execution_count": 21,
   "id": "877b6cc7",
   "metadata": {
    "execution": {
     "iopub.execute_input": "2022-07-22T20:10:56.026896Z",
     "iopub.status.busy": "2022-07-22T20:10:56.026234Z",
     "iopub.status.idle": "2022-07-22T20:10:56.042377Z",
     "shell.execute_reply": "2022-07-22T20:10:56.041734Z"
    },
    "papermill": {
     "duration": 0.051204,
     "end_time": "2022-07-22T20:10:56.042500",
     "exception": false,
     "start_time": "2022-07-22T20:10:55.991296",
     "status": "completed"
    },
    "tags": []
   },
   "outputs": [],
   "source": [
    "lr_learner = Learner(loss, model_lr, opt, config.num_epochs)\n",
    "acc_lr = ClfCallback(lr_learner, config.bs, training_data_x , testing_data_x, training_data_y, testing_data_y)\n",
    "lr_learner.set_callbacks([acc_lr])"
   ]
  },
  {
   "cell_type": "code",
   "execution_count": 22,
   "id": "d9b133c3",
   "metadata": {
    "execution": {
     "iopub.execute_input": "2022-07-22T20:10:56.103568Z",
     "iopub.status.busy": "2022-07-22T20:10:56.102923Z",
     "iopub.status.idle": "2022-07-22T20:12:29.969824Z",
     "shell.execute_reply": "2022-07-22T20:12:29.970424Z"
    },
    "papermill": {
     "duration": 93.898937,
     "end_time": "2022-07-22T20:12:29.970602",
     "exception": false,
     "start_time": "2022-07-22T20:10:56.071665",
     "status": "completed"
    },
    "tags": []
   },
   "outputs": [
    {
     "name": "stdout",
     "output_type": "stream",
     "text": [
      "Epoch 0, Loss 0.2435\n",
      "Training Accuracy: 0.6573, Testing Accuracy: 0.6305\n",
      "\n"
     ]
    },
    {
     "name": "stdout",
     "output_type": "stream",
     "text": [
      "Epoch 10, Loss 0.1654\n",
      "Training Accuracy: 0.8768, Testing Accuracy: 0.8800\n",
      "\n"
     ]
    },
    {
     "name": "stdout",
     "output_type": "stream",
     "text": [
      "Epoch 20, Loss 0.0831\n",
      "Training Accuracy: 0.9130, Testing Accuracy: 0.9244\n",
      "\n"
     ]
    },
    {
     "name": "stdout",
     "output_type": "stream",
     "text": [
      "Epoch 30, Loss 0.0581\n",
      "Training Accuracy: 0.9326, Testing Accuracy: 0.9435\n",
      "\n"
     ]
    },
    {
     "name": "stdout",
     "output_type": "stream",
     "text": [
      "Epoch 40, Loss 0.0474\n",
      "Training Accuracy: 0.9449, Testing Accuracy: 0.9526\n",
      "\n"
     ]
    },
    {
     "name": "stdout",
     "output_type": "stream",
     "text": [
      "Epoch 50, Loss 0.0414\n",
      "Training Accuracy: 0.9506, Testing Accuracy: 0.9597\n",
      "\n"
     ]
    },
    {
     "name": "stdout",
     "output_type": "stream",
     "text": [
      "Epoch 60, Loss 0.0377\n",
      "Training Accuracy: 0.9556, Testing Accuracy: 0.9637\n",
      "\n"
     ]
    },
    {
     "name": "stdout",
     "output_type": "stream",
     "text": [
      "Epoch 70, Loss 0.035\n",
      "Training Accuracy: 0.9584, Testing Accuracy: 0.9642\n",
      "\n"
     ]
    },
    {
     "name": "stdout",
     "output_type": "stream",
     "text": [
      "Epoch 80, Loss 0.033\n",
      "Training Accuracy: 0.9609, Testing Accuracy: 0.9647\n",
      "\n"
     ]
    },
    {
     "name": "stdout",
     "output_type": "stream",
     "text": [
      "Epoch 90, Loss 0.0315\n",
      "Training Accuracy: 0.9615, Testing Accuracy: 0.9662\n",
      "\n"
     ]
    },
    {
     "name": "stdout",
     "output_type": "stream",
     "text": [
      "Epoch 100, Loss 0.0302\n",
      "Training Accuracy: 0.9630, Testing Accuracy: 0.9662\n",
      "\n"
     ]
    },
    {
     "name": "stdout",
     "output_type": "stream",
     "text": [
      "Epoch 110, Loss 0.0291\n",
      "Training Accuracy: 0.9648, Testing Accuracy: 0.9652\n",
      "\n"
     ]
    },
    {
     "name": "stdout",
     "output_type": "stream",
     "text": [
      "Epoch 120, Loss 0.0281\n",
      "Training Accuracy: 0.9662, Testing Accuracy: 0.9677\n",
      "\n"
     ]
    },
    {
     "name": "stdout",
     "output_type": "stream",
     "text": [
      "Epoch 130, Loss 0.0273\n",
      "Training Accuracy: 0.9675, Testing Accuracy: 0.9672\n",
      "\n"
     ]
    },
    {
     "name": "stdout",
     "output_type": "stream",
     "text": [
      "Epoch 140, Loss 0.0265\n",
      "Training Accuracy: 0.9687, Testing Accuracy: 0.9682\n",
      "\n"
     ]
    },
    {
     "name": "stdout",
     "output_type": "stream",
     "text": [
      "Epoch 150, Loss 0.0259\n",
      "Training Accuracy: 0.9697, Testing Accuracy: 0.9688\n",
      "\n"
     ]
    },
    {
     "name": "stdout",
     "output_type": "stream",
     "text": [
      "Epoch 160, Loss 0.0253\n",
      "Training Accuracy: 0.9705, Testing Accuracy: 0.9688\n",
      "\n"
     ]
    },
    {
     "name": "stdout",
     "output_type": "stream",
     "text": [
      "Epoch 170, Loss 0.0247\n",
      "Training Accuracy: 0.9716, Testing Accuracy: 0.9698\n",
      "\n"
     ]
    },
    {
     "name": "stdout",
     "output_type": "stream",
     "text": [
      "Epoch 180, Loss 0.0242\n",
      "Training Accuracy: 0.9723, Testing Accuracy: 0.9693\n",
      "\n"
     ]
    },
    {
     "name": "stdout",
     "output_type": "stream",
     "text": [
      "Epoch 190, Loss 0.0237\n",
      "Training Accuracy: 0.9730, Testing Accuracy: 0.9693\n",
      "\n"
     ]
    },
    {
     "name": "stdout",
     "output_type": "stream",
     "text": [
      "Epoch 200, Loss 0.0232\n",
      "Training Accuracy: 0.9733, Testing Accuracy: 0.9698\n",
      "\n"
     ]
    },
    {
     "name": "stdout",
     "output_type": "stream",
     "text": [
      "Epoch 210, Loss 0.0228\n",
      "Training Accuracy: 0.9737, Testing Accuracy: 0.9693\n",
      "\n"
     ]
    },
    {
     "name": "stdout",
     "output_type": "stream",
     "text": [
      "Epoch 220, Loss 0.0224\n",
      "Training Accuracy: 0.9744, Testing Accuracy: 0.9703\n",
      "\n"
     ]
    },
    {
     "name": "stdout",
     "output_type": "stream",
     "text": [
      "Epoch 230, Loss 0.022\n",
      "Training Accuracy: 0.9750, Testing Accuracy: 0.9703\n",
      "\n"
     ]
    },
    {
     "name": "stdout",
     "output_type": "stream",
     "text": [
      "Epoch 240, Loss 0.0216\n",
      "Training Accuracy: 0.9756, Testing Accuracy: 0.9708\n",
      "\n"
     ]
    },
    {
     "data": {
      "text/plain": [
       "0.09508158718266202"
      ]
     },
     "execution_count": 22,
     "metadata": {},
     "output_type": "execute_result"
    }
   ],
   "source": [
    "nn_learner.train_loop(dl)"
   ]
  },
  {
   "cell_type": "code",
   "execution_count": 23,
   "id": "e0163366",
   "metadata": {
    "execution": {
     "iopub.execute_input": "2022-07-22T20:12:30.056346Z",
     "iopub.status.busy": "2022-07-22T20:12:30.055514Z",
     "iopub.status.idle": "2022-07-22T20:12:46.431122Z",
     "shell.execute_reply": "2022-07-22T20:12:46.432173Z"
    },
    "papermill": {
     "duration": 16.421035,
     "end_time": "2022-07-22T20:12:46.432355",
     "exception": false,
     "start_time": "2022-07-22T20:12:30.011320",
     "status": "completed"
    },
    "tags": []
   },
   "outputs": [
    {
     "name": "stdout",
     "output_type": "stream",
     "text": [
      "Epoch 0, Loss 0.2375\n",
      "Training Accuracy: 0.6835, Testing Accuracy: 0.7127\n",
      "\n"
     ]
    },
    {
     "name": "stdout",
     "output_type": "stream",
     "text": [
      "Epoch 10, Loss 0.1057\n",
      "Training Accuracy: 0.9014, Testing Accuracy: 0.9138\n",
      "\n"
     ]
    },
    {
     "name": "stdout",
     "output_type": "stream",
     "text": [
      "Epoch 20, Loss 0.081\n",
      "Training Accuracy: 0.9236, Testing Accuracy: 0.9380\n",
      "\n"
     ]
    },
    {
     "name": "stdout",
     "output_type": "stream",
     "text": [
      "Epoch 30, Loss 0.0695\n",
      "Training Accuracy: 0.9331, Testing Accuracy: 0.9481\n",
      "\n"
     ]
    },
    {
     "name": "stdout",
     "output_type": "stream",
     "text": [
      "Epoch 40, Loss 0.0626\n",
      "Training Accuracy: 0.9397, Testing Accuracy: 0.9516\n",
      "\n"
     ]
    },
    {
     "name": "stdout",
     "output_type": "stream",
     "text": [
      "Epoch 50, Loss 0.0579\n",
      "Training Accuracy: 0.9440, Testing Accuracy: 0.9536\n",
      "\n"
     ]
    },
    {
     "name": "stdout",
     "output_type": "stream",
     "text": [
      "Epoch 60, Loss 0.0545\n",
      "Training Accuracy: 0.9464, Testing Accuracy: 0.9546\n",
      "\n"
     ]
    },
    {
     "name": "stdout",
     "output_type": "stream",
     "text": [
      "Epoch 70, Loss 0.0518\n",
      "Training Accuracy: 0.9488, Testing Accuracy: 0.9551\n",
      "\n"
     ]
    },
    {
     "name": "stdout",
     "output_type": "stream",
     "text": [
      "Epoch 80, Loss 0.0497\n",
      "Training Accuracy: 0.9499, Testing Accuracy: 0.9577\n",
      "\n"
     ]
    },
    {
     "name": "stdout",
     "output_type": "stream",
     "text": [
      "Epoch 90, Loss 0.0479\n",
      "Training Accuracy: 0.9514, Testing Accuracy: 0.9587\n",
      "\n"
     ]
    },
    {
     "name": "stdout",
     "output_type": "stream",
     "text": [
      "Epoch 100, Loss 0.0465\n",
      "Training Accuracy: 0.9526, Testing Accuracy: 0.9592\n",
      "\n"
     ]
    },
    {
     "name": "stdout",
     "output_type": "stream",
     "text": [
      "Epoch 110, Loss 0.0452\n",
      "Training Accuracy: 0.9532, Testing Accuracy: 0.9617\n",
      "\n"
     ]
    },
    {
     "name": "stdout",
     "output_type": "stream",
     "text": [
      "Epoch 120, Loss 0.0441\n",
      "Training Accuracy: 0.9541, Testing Accuracy: 0.9632\n",
      "\n"
     ]
    },
    {
     "name": "stdout",
     "output_type": "stream",
     "text": [
      "Epoch 130, Loss 0.0431\n",
      "Training Accuracy: 0.9550, Testing Accuracy: 0.9642\n",
      "\n"
     ]
    },
    {
     "name": "stdout",
     "output_type": "stream",
     "text": [
      "Epoch 140, Loss 0.0423\n",
      "Training Accuracy: 0.9559, Testing Accuracy: 0.9642\n",
      "\n"
     ]
    },
    {
     "name": "stdout",
     "output_type": "stream",
     "text": [
      "Epoch 150, Loss 0.0415\n",
      "Training Accuracy: 0.9564, Testing Accuracy: 0.9652\n",
      "\n"
     ]
    },
    {
     "name": "stdout",
     "output_type": "stream",
     "text": [
      "Epoch 160, Loss 0.0408\n",
      "Training Accuracy: 0.9568, Testing Accuracy: 0.9657\n",
      "\n"
     ]
    },
    {
     "name": "stdout",
     "output_type": "stream",
     "text": [
      "Epoch 170, Loss 0.0402\n",
      "Training Accuracy: 0.9573, Testing Accuracy: 0.9657\n",
      "\n"
     ]
    },
    {
     "name": "stdout",
     "output_type": "stream",
     "text": [
      "Epoch 180, Loss 0.0396\n",
      "Training Accuracy: 0.9578, Testing Accuracy: 0.9657\n",
      "\n"
     ]
    },
    {
     "name": "stdout",
     "output_type": "stream",
     "text": [
      "Epoch 190, Loss 0.0391\n",
      "Training Accuracy: 0.9583, Testing Accuracy: 0.9662\n",
      "\n"
     ]
    },
    {
     "name": "stdout",
     "output_type": "stream",
     "text": [
      "Epoch 200, Loss 0.0386\n",
      "Training Accuracy: 0.9588, Testing Accuracy: 0.9662\n",
      "\n"
     ]
    },
    {
     "name": "stdout",
     "output_type": "stream",
     "text": [
      "Epoch 210, Loss 0.0381\n",
      "Training Accuracy: 0.9592, Testing Accuracy: 0.9662\n",
      "\n"
     ]
    },
    {
     "name": "stdout",
     "output_type": "stream",
     "text": [
      "Epoch 220, Loss 0.0377\n",
      "Training Accuracy: 0.9595, Testing Accuracy: 0.9672\n",
      "\n"
     ]
    },
    {
     "name": "stdout",
     "output_type": "stream",
     "text": [
      "Epoch 230, Loss 0.0373\n",
      "Training Accuracy: 0.9600, Testing Accuracy: 0.9682\n",
      "\n"
     ]
    },
    {
     "name": "stdout",
     "output_type": "stream",
     "text": [
      "Epoch 240, Loss 0.0369\n",
      "Training Accuracy: 0.9600, Testing Accuracy: 0.9677\n",
      "\n"
     ]
    },
    {
     "data": {
      "text/plain": [
       "0.04354412596911403"
      ]
     },
     "execution_count": 23,
     "metadata": {},
     "output_type": "execute_result"
    }
   ],
   "source": [
    "lr_learner.train_loop(dl)"
   ]
  },
  {
   "cell_type": "code",
   "execution_count": 24,
   "id": "ca410940",
   "metadata": {
    "execution": {
     "iopub.execute_input": "2022-07-22T20:12:46.542070Z",
     "iopub.status.busy": "2022-07-22T20:12:46.541325Z",
     "iopub.status.idle": "2022-07-22T20:12:46.821045Z",
     "shell.execute_reply": "2022-07-22T20:12:46.821553Z"
    },
    "papermill": {
     "duration": 0.338751,
     "end_time": "2022-07-22T20:12:46.821716",
     "exception": false,
     "start_time": "2022-07-22T20:12:46.482965",
     "status": "completed"
    },
    "tags": []
   },
   "outputs": [
    {
     "data": {
      "text/plain": [
       "<matplotlib.legend.Legend at 0x7f99fa9b0b00>"
      ]
     },
     "execution_count": 24,
     "metadata": {},
     "output_type": "execute_result"
    },
    {
     "data": {
      "image/png": "[encoded data removed]",
      "text/plain": [
       "<Figure size 1080x720 with 1 Axes>"
      ]
     },
     "metadata": {
      "needs_background": "light"
     },
     "output_type": "display_data"
    }
   ],
   "source": [
    "#comparing the results of NN and LR\n",
    "plt.figure(figsize=(15,10))\n",
    "\n",
    "# Neural Network plots\n",
    "plt.plot(acc_nn.accuracies, 'r-', label = \"Training Accuracies - NN\")\n",
    "plt.plot(acc_nn.test_accuracies, 'g-', label = \"Testing Accuracies - NN\")\n",
    "\n",
    "# Logistic Regression plots\n",
    "plt.plot(acc_lr.accuracies, 'k-', label = \"Training Accuracies - LR\")\n",
    "plt.plot(acc_lr.test_accuracies, 'b-', label = \"Testing Accuracies - LR\")\n",
    "plt.legend()"
   ]
  },
  {
   "cell_type": "markdown",
   "id": "80dfb35c",
   "metadata": {
    "papermill": {
     "duration": 0.046808,
     "end_time": "2022-07-22T20:12:46.915193",
     "exception": false,
     "start_time": "2022-07-22T20:12:46.868385",
     "status": "completed"
    },
    "tags": []
   },
   "source": [
    "#### Plotting the outputs of this layer of the NN.\n"
   ]
  },
  {
   "cell_type": "code",
   "execution_count": 25,
   "id": "45eb2ff5",
   "metadata": {
    "execution": {
     "iopub.execute_input": "2022-07-22T20:12:47.016036Z",
     "iopub.status.busy": "2022-07-22T20:12:47.015255Z",
     "iopub.status.idle": "2022-07-22T20:12:47.052127Z",
     "shell.execute_reply": "2022-07-22T20:12:47.052734Z"
    },
    "papermill": {
     "duration": 0.089931,
     "end_time": "2022-07-22T20:12:47.052911",
     "exception": false,
     "start_time": "2022-07-22T20:12:46.962980",
     "status": "completed"
    },
    "tags": []
   },
   "outputs": [],
   "source": [
    "new_model = Model(layers[:-2])\n",
    "testing_plot = new_model(testing_data_x)"
   ]
  },
  {
   "cell_type": "code",
   "execution_count": 26,
   "id": "4c0a5485",
   "metadata": {
    "execution": {
     "iopub.execute_input": "2022-07-22T20:12:47.159142Z",
     "iopub.status.busy": "2022-07-22T20:12:47.158417Z",
     "iopub.status.idle": "2022-07-22T20:12:47.409943Z",
     "shell.execute_reply": "2022-07-22T20:12:47.409356Z"
    },
    "papermill": {
     "duration": 0.305106,
     "end_time": "2022-07-22T20:12:47.410083",
     "exception": false,
     "start_time": "2022-07-22T20:12:47.104977",
     "status": "completed"
    },
    "tags": []
   },
   "outputs": [
    {
     "data": {
      "text/plain": [
       "Text(0.5, 1.0, 'Outputs')"
      ]
     },
     "execution_count": 26,
     "metadata": {},
     "output_type": "execute_result"
    },
    {
     "data": {
      "image/png": "[encoded data removed]",
      "text/plain": [
       "<Figure size 576x504 with 1 Axes>"
      ]
     },
     "metadata": {
      "needs_background": "light"
     },
     "output_type": "display_data"
    }
   ],
   "source": [
    "# Plotting the scatter plot of points and color coding by class\n",
    "plt.figure(figsize=(8,7))\n",
    "plt.scatter(testing_plot[:,0], testing_plot[:,1], alpha = 0.1, c = y_test.ravel());\n",
    "plt.title('Outputs')"
   ]
  },
  {
   "cell_type": "markdown",
   "id": "a74fcf8f",
   "metadata": {
    "papermill": {
     "duration": 0.049574,
     "end_time": "2022-07-22T20:12:47.510161",
     "exception": false,
     "start_time": "2022-07-22T20:12:47.460587",
     "status": "completed"
    },
    "tags": []
   },
   "source": [
    "Probability contours"
   ]
  },
  {
   "cell_type": "code",
   "execution_count": 27,
   "id": "d0afc8e3",
   "metadata": {
    "execution": {
     "iopub.execute_input": "2022-07-22T20:12:47.648285Z",
     "iopub.status.busy": "2022-07-22T20:12:47.647484Z",
     "iopub.status.idle": "2022-07-22T20:12:47.664649Z",
     "shell.execute_reply": "2022-07-22T20:12:47.665796Z"
    },
    "papermill": {
     "duration": 0.072556,
     "end_time": "2022-07-22T20:12:47.665969",
     "exception": false,
     "start_time": "2022-07-22T20:12:47.593413",
     "status": "completed"
    },
    "tags": []
   },
   "outputs": [],
   "source": [
    "model_prob = Model(layers[-2:]) "
   ]
  },
  {
   "cell_type": "code",
   "execution_count": 28,
   "id": "9b96e238",
   "metadata": {
    "execution": {
     "iopub.execute_input": "2022-07-22T20:12:47.774876Z",
     "iopub.status.busy": "2022-07-22T20:12:47.774143Z",
     "iopub.status.idle": "2022-07-22T20:12:47.793900Z",
     "shell.execute_reply": "2022-07-22T20:12:47.794399Z"
    },
    "papermill": {
     "duration": 0.074234,
     "end_time": "2022-07-22T20:12:47.794560",
     "exception": false,
     "start_time": "2022-07-22T20:12:47.720326",
     "status": "completed"
    },
    "tags": []
   },
   "outputs": [],
   "source": [
    "#creating the x and y ranges according to the above generated plot.\n",
    "x_range = np.linspace(-4, 1, 100) \n",
    "y_range = np.linspace(-6, 6, 100) \n",
    "x_grid, y_grid = np.meshgrid(x_range, y_range) # x_grid and y_grig are of size 100 X 100\n",
    "\n",
    "# converting x_grid and y_grid to continuous arrays\n",
    "x_gridflat = np.ravel(x_grid)\n",
    "y_gridflat = np.ravel(y_grid)\n",
    "\n",
    "# The last layer of the current model takes two columns as input. Hence transpose of np.vstack() is required.\n",
    "X = np.vstack((x_gridflat, y_gridflat)).T\n",
    "\n",
    "prob_contour = model_prob(X).reshape(100,100) "
   ]
  },
  {
   "cell_type": "code",
   "execution_count": 29,
   "id": "da72499a",
   "metadata": {
    "execution": {
     "iopub.execute_input": "2022-07-22T20:12:47.905814Z",
     "iopub.status.busy": "2022-07-22T20:12:47.905094Z",
     "iopub.status.idle": "2022-07-22T20:12:48.216602Z",
     "shell.execute_reply": "2022-07-22T20:12:48.217143Z"
    },
    "papermill": {
     "duration": 0.372699,
     "end_time": "2022-07-22T20:12:48.217304",
     "exception": false,
     "start_time": "2022-07-22T20:12:47.844605",
     "status": "completed"
    },
    "tags": []
   },
   "outputs": [
    {
     "data": {
      "image/png": "[encoded data removed]",
      "text/plain": [
       "<Figure size 720x648 with 1 Axes>"
      ]
     },
     "metadata": {
      "needs_background": "light"
     },
     "output_type": "display_data"
    }
   ],
   "source": [
    "plt.figure(figsize=(10,9))\n",
    "plt.scatter(testing_plot[:,0], testing_plot[:,1], alpha = 0.1, c = y_test.ravel())\n",
    "contours = plt.contour(x_grid,y_grid,prob_contour)\n",
    "plt.title('Probability Contours')\n",
    "plt.clabel(contours, inline = True );"
   ]
  },
  {
   "cell_type": "code",
   "execution_count": null,
   "id": "e81b4ac7",
   "metadata": {
    "papermill": {
     "duration": 0.053238,
     "end_time": "2022-07-22T20:12:48.323968",
     "exception": false,
     "start_time": "2022-07-22T20:12:48.270730",
     "status": "completed"
    },
    "tags": []
   },
   "outputs": [],
   "source": []
  }
 ],
 "metadata": {
  "kernelspec": {
   "display_name": "Python 3",
   "language": "python",
   "name": "python3"
  },
  "language_info": {
   "codemirror_mode": {
    "name": "ipython",
    "version": 3
   },
   "file_extension": ".py",
   "mimetype": "text/x-python",
   "name": "python",
   "nbconvert_exporter": "python",
   "pygments_lexer": "ipython3",
   "version": "3.6.15"
  },
  "papermill": {
   "default_parameters": {},
   "duration": 119.701332,
   "end_time": "2022-07-22T20:12:48.799965",
   "environment_variables": {},
   "exception": null,
   "input_path": "2020-08-11-part2.ipynb",
   "output_path": "2020-08-11-part2.ipynb",
   "parameters": {},
   "start_time": "2022-07-22T20:10:49.098633",
   "version": "2.3.3"
  }
 },
 "nbformat": 4,
 "nbformat_minor": 5
}