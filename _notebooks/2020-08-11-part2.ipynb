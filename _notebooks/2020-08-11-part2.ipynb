{
 "cells": [
  {
   "cell_type": "markdown",
   "id": "98380cd3",
   "metadata": {
    "papermill": {
     "duration": 0.029838,
     "end_time": "2022-06-10T10:14:07.419859",
     "exception": false,
     "start_time": "2022-06-10T10:14:07.390021",
     "status": "completed"
    },
    "tags": []
   },
   "source": [
    "# Distinguish Your Own Digits (DYOD)"
   ]
  },
  {
   "cell_type": "markdown",
   "id": "ef31240d",
   "metadata": {
    "papermill": {
     "duration": 0.023537,
     "end_time": "2022-06-10T10:14:07.467332",
     "exception": false,
     "start_time": "2022-06-10T10:14:07.443795",
     "status": "completed"
    },
    "tags": []
   },
   "source": [
    "You are going to write a classifier that distinguishes between the number 3 and number 8."
   ]
  },
  {
   "cell_type": "code",
   "execution_count": 1,
   "id": "b15c8646",
   "metadata": {
    "execution": {
     "iopub.execute_input": "2022-06-10T10:14:07.524754Z",
     "iopub.status.busy": "2022-06-10T10:14:07.524158Z",
     "iopub.status.idle": "2022-06-10T10:14:07.534662Z",
     "shell.execute_reply": "2022-06-10T10:14:07.534172Z"
    },
    "papermill": {
     "duration": 0.044141,
     "end_time": "2022-06-10T10:14:07.534782",
     "exception": false,
     "start_time": "2022-06-10T10:14:07.490641",
     "status": "completed"
    },
    "tags": []
   },
   "outputs": [],
   "source": [
    "%load_ext autoreload\n",
    "%autoreload 2"
   ]
  },
  {
   "cell_type": "code",
   "execution_count": 2,
   "id": "22ef38dc",
   "metadata": {
    "execution": {
     "iopub.execute_input": "2022-06-10T10:14:07.586418Z",
     "iopub.status.busy": "2022-06-10T10:14:07.585844Z",
     "iopub.status.idle": "2022-06-10T10:14:08.096356Z",
     "shell.execute_reply": "2022-06-10T10:14:08.096899Z"
    },
    "papermill": {
     "duration": 0.539124,
     "end_time": "2022-06-10T10:14:08.097066",
     "exception": false,
     "start_time": "2022-06-10T10:14:07.557942",
     "status": "completed"
    },
    "tags": []
   },
   "outputs": [],
   "source": [
    "%matplotlib inline\n",
    "import numpy as np\n",
    "import matplotlib.pyplot as plt\n",
    "import pandas as pd"
   ]
  },
  {
   "cell_type": "markdown",
   "id": "ba036198",
   "metadata": {
    "papermill": {
     "duration": 0.023388,
     "end_time": "2022-06-10T10:14:08.144142",
     "exception": false,
     "start_time": "2022-06-10T10:14:08.120754",
     "status": "completed"
    },
    "tags": []
   },
   "source": [
    "From the command line run `pip install mnist`. This is a library that will help you bring down the mnist dataset. If you run this from a notebook, you need to put  `!pip install mnist` in a cell by itself."
   ]
  },
  {
   "cell_type": "code",
   "execution_count": 3,
   "id": "bb6ad8a1",
   "metadata": {
    "execution": {
     "iopub.execute_input": "2022-06-10T10:14:08.194886Z",
     "iopub.status.busy": "2022-06-10T10:14:08.194307Z",
     "iopub.status.idle": "2022-06-10T10:14:09.906097Z",
     "shell.execute_reply": "2022-06-10T10:14:09.905183Z"
    },
    "papermill": {
     "duration": 1.738693,
     "end_time": "2022-06-10T10:14:09.906235",
     "exception": false,
     "start_time": "2022-06-10T10:14:08.167542",
     "status": "completed"
    },
    "tags": []
   },
   "outputs": [
    {
     "name": "stdout",
     "output_type": "stream",
     "text": [
      "Collecting mnist\r\n"
     ]
    },
    {
     "name": "stdout",
     "output_type": "stream",
     "text": [
      "  Downloading mnist-0.2.2-py2.py3-none-any.whl (3.5 kB)\r\n"
     ]
    },
    {
     "name": "stdout",
     "output_type": "stream",
     "text": [
      "Requirement already satisfied: numpy in /opt/hostedtoolcache/Python/3.6.15/x64/lib/python3.6/site-packages (from mnist) (1.19.5)\r\n"
     ]
    },
    {
     "name": "stdout",
     "output_type": "stream",
     "text": [
      "Installing collected packages: mnist\r\n"
     ]
    },
    {
     "name": "stdout",
     "output_type": "stream",
     "text": [
      "Successfully installed mnist-0.2.2\r\n"
     ]
    }
   ],
   "source": [
    "!pip install mnist"
   ]
  },
  {
   "cell_type": "markdown",
   "id": "69df9c9a",
   "metadata": {
    "papermill": {
     "duration": 0.024934,
     "end_time": "2022-06-10T10:14:09.956994",
     "exception": false,
     "start_time": "2022-06-10T10:14:09.932060",
     "status": "completed"
    },
    "tags": []
   },
   "source": [
    "## Preparing the Data"
   ]
  },
  {
   "cell_type": "code",
   "execution_count": 4,
   "id": "7f69d806",
   "metadata": {
    "execution": {
     "iopub.execute_input": "2022-06-10T10:14:10.009900Z",
     "iopub.status.busy": "2022-06-10T10:14:10.009313Z",
     "iopub.status.idle": "2022-06-10T10:14:10.024846Z",
     "shell.execute_reply": "2022-06-10T10:14:10.024398Z"
    },
    "papermill": {
     "duration": 0.043461,
     "end_time": "2022-06-10T10:14:10.024954",
     "exception": false,
     "start_time": "2022-06-10T10:14:09.981493",
     "status": "completed"
    },
    "tags": []
   },
   "outputs": [],
   "source": [
    "import mnist"
   ]
  },
  {
   "cell_type": "code",
   "execution_count": 5,
   "id": "a411e44f",
   "metadata": {
    "execution": {
     "iopub.execute_input": "2022-06-10T10:14:10.078233Z",
     "iopub.status.busy": "2022-06-10T10:14:10.077655Z",
     "iopub.status.idle": "2022-06-10T10:14:10.718229Z",
     "shell.execute_reply": "2022-06-10T10:14:10.717656Z"
    },
    "papermill": {
     "duration": 0.668829,
     "end_time": "2022-06-10T10:14:10.718368",
     "exception": false,
     "start_time": "2022-06-10T10:14:10.049539",
     "status": "completed"
    },
    "tags": []
   },
   "outputs": [],
   "source": [
    "train_images = mnist.train_images()\n",
    "train_labels = mnist.train_labels()"
   ]
  },
  {
   "cell_type": "code",
   "execution_count": 6,
   "id": "dceab3a5",
   "metadata": {
    "execution": {
     "iopub.execute_input": "2022-06-10T10:14:10.772804Z",
     "iopub.status.busy": "2022-06-10T10:14:10.772224Z",
     "iopub.status.idle": "2022-06-10T10:14:10.786857Z",
     "shell.execute_reply": "2022-06-10T10:14:10.787328Z"
    },
    "papermill": {
     "duration": 0.04302,
     "end_time": "2022-06-10T10:14:10.787451",
     "exception": false,
     "start_time": "2022-06-10T10:14:10.744431",
     "status": "completed"
    },
    "tags": []
   },
   "outputs": [
    {
     "data": {
      "text/plain": [
       "((60000, 28, 28), (60000,))"
      ]
     },
     "execution_count": 6,
     "metadata": {},
     "output_type": "execute_result"
    }
   ],
   "source": [
    "train_images.shape, train_labels.shape"
   ]
  },
  {
   "cell_type": "code",
   "execution_count": 7,
   "id": "f50dc2bb",
   "metadata": {
    "execution": {
     "iopub.execute_input": "2022-06-10T10:14:10.842439Z",
     "iopub.status.busy": "2022-06-10T10:14:10.841863Z",
     "iopub.status.idle": "2022-06-10T10:14:11.058916Z",
     "shell.execute_reply": "2022-06-10T10:14:11.058318Z"
    },
    "papermill": {
     "duration": 0.246851,
     "end_time": "2022-06-10T10:14:11.059048",
     "exception": false,
     "start_time": "2022-06-10T10:14:10.812197",
     "status": "completed"
    },
    "tags": []
   },
   "outputs": [],
   "source": [
    "test_images = mnist.test_images()\n",
    "test_labels = mnist.test_labels()"
   ]
  },
  {
   "cell_type": "code",
   "execution_count": 8,
   "id": "fc38cf1b",
   "metadata": {
    "execution": {
     "iopub.execute_input": "2022-06-10T10:14:11.112809Z",
     "iopub.status.busy": "2022-06-10T10:14:11.112231Z",
     "iopub.status.idle": "2022-06-10T10:14:11.126325Z",
     "shell.execute_reply": "2022-06-10T10:14:11.125756Z"
    },
    "papermill": {
     "duration": 0.042129,
     "end_time": "2022-06-10T10:14:11.126433",
     "exception": false,
     "start_time": "2022-06-10T10:14:11.084304",
     "status": "completed"
    },
    "tags": []
   },
   "outputs": [
    {
     "data": {
      "text/plain": [
       "((10000, 28, 28), (10000,))"
      ]
     },
     "execution_count": 8,
     "metadata": {},
     "output_type": "execute_result"
    }
   ],
   "source": [
    "test_images.shape, test_labels.shape"
   ]
  },
  {
   "cell_type": "code",
   "execution_count": 9,
   "id": "f9ed8fe0",
   "metadata": {
    "execution": {
     "iopub.execute_input": "2022-06-10T10:14:11.180182Z",
     "iopub.status.busy": "2022-06-10T10:14:11.179620Z",
     "iopub.status.idle": "2022-06-10T10:14:11.315334Z",
     "shell.execute_reply": "2022-06-10T10:14:11.315782Z"
    },
    "papermill": {
     "duration": 0.164428,
     "end_time": "2022-06-10T10:14:11.315910",
     "exception": false,
     "start_time": "2022-06-10T10:14:11.151482",
     "status": "completed"
    },
    "tags": []
   },
   "outputs": [
    {
     "name": "stdout",
     "output_type": "stream",
     "text": [
      "2\n"
     ]
    },
    {
     "data": {
      "text/plain": [
       "<matplotlib.image.AxesImage at 0x7fd72b2df390>"
      ]
     },
     "execution_count": 9,
     "metadata": {},
     "output_type": "execute_result"
    },
    {
     "data": {
      "image/png": "[encoded data removed]",
      "text/plain": [
       "<Figure size 432x288 with 1 Axes>"
      ]
     },
     "metadata": {
      "needs_background": "light"
     },
     "output_type": "display_data"
    }
   ],
   "source": [
    "image_index = 7776 # You may select anything up to 60,000\n",
    "print(train_labels[image_index]) \n",
    "plt.imshow(train_images[image_index], cmap='Greys')"
   ]
  },
  {
   "cell_type": "markdown",
   "id": "a8d2388d",
   "metadata": {
    "papermill": {
     "duration": 0.026116,
     "end_time": "2022-06-10T10:14:11.368215",
     "exception": false,
     "start_time": "2022-06-10T10:14:11.342099",
     "status": "completed"
    },
    "tags": []
   },
   "source": [
    "## Filter data to get 3 and 8 out"
   ]
  },
  {
   "cell_type": "code",
   "execution_count": 10,
   "id": "776f7fc7",
   "metadata": {
    "execution": {
     "iopub.execute_input": "2022-06-10T10:14:11.424585Z",
     "iopub.status.busy": "2022-06-10T10:14:11.423993Z",
     "iopub.status.idle": "2022-06-10T10:14:11.441831Z",
     "shell.execute_reply": "2022-06-10T10:14:11.442303Z"
    },
    "papermill": {
     "duration": 0.048141,
     "end_time": "2022-06-10T10:14:11.442426",
     "exception": false,
     "start_time": "2022-06-10T10:14:11.394285",
     "status": "completed"
    },
    "tags": []
   },
   "outputs": [],
   "source": [
    "train_filter = np.where((train_labels == 3 ) | (train_labels == 8))\n",
    "test_filter = np.where((test_labels == 3) | (test_labels == 8))\n",
    "X_train, y_train = train_images[train_filter], train_labels[train_filter]\n",
    "X_test, y_test = test_images[test_filter], test_labels[test_filter]"
   ]
  },
  {
   "cell_type": "markdown",
   "id": "948f0b7e",
   "metadata": {
    "papermill": {
     "duration": 0.025964,
     "end_time": "2022-06-10T10:14:11.494456",
     "exception": false,
     "start_time": "2022-06-10T10:14:11.468492",
     "status": "completed"
    },
    "tags": []
   },
   "source": [
    "We normalize the pizel values in the 0 to 1 range"
   ]
  },
  {
   "cell_type": "code",
   "execution_count": 11,
   "id": "ee4c2166",
   "metadata": {
    "execution": {
     "iopub.execute_input": "2022-06-10T10:14:11.561952Z",
     "iopub.status.busy": "2022-06-10T10:14:11.553846Z",
     "iopub.status.idle": "2022-06-10T10:14:11.598172Z",
     "shell.execute_reply": "2022-06-10T10:14:11.597661Z"
    },
    "papermill": {
     "duration": 0.077871,
     "end_time": "2022-06-10T10:14:11.598291",
     "exception": false,
     "start_time": "2022-06-10T10:14:11.520420",
     "status": "completed"
    },
    "tags": []
   },
   "outputs": [],
   "source": [
    "X_train = X_train/255.\n",
    "X_test = X_test/255."
   ]
  },
  {
   "cell_type": "markdown",
   "id": "ddcf4fab",
   "metadata": {
    "papermill": {
     "duration": 0.026174,
     "end_time": "2022-06-10T10:14:11.650886",
     "exception": false,
     "start_time": "2022-06-10T10:14:11.624712",
     "status": "completed"
    },
    "tags": []
   },
   "source": [
    "And setup the labels as 1 (when the digit is 3) and 0 (when the digit is 8)"
   ]
  },
  {
   "cell_type": "code",
   "execution_count": 12,
   "id": "7dc908f2",
   "metadata": {
    "execution": {
     "iopub.execute_input": "2022-06-10T10:14:11.713860Z",
     "iopub.status.busy": "2022-06-10T10:14:11.706335Z",
     "iopub.status.idle": "2022-06-10T10:14:11.721411Z",
     "shell.execute_reply": "2022-06-10T10:14:11.720608Z"
    },
    "papermill": {
     "duration": 0.044397,
     "end_time": "2022-06-10T10:14:11.721526",
     "exception": false,
     "start_time": "2022-06-10T10:14:11.677129",
     "status": "completed"
    },
    "tags": []
   },
   "outputs": [],
   "source": [
    "y_train = 1*(y_train==3)\n",
    "y_test = 1*(y_test==3)"
   ]
  },
  {
   "cell_type": "code",
   "execution_count": 13,
   "id": "01e4e969",
   "metadata": {
    "execution": {
     "iopub.execute_input": "2022-06-10T10:14:11.777057Z",
     "iopub.status.busy": "2022-06-10T10:14:11.776491Z",
     "iopub.status.idle": "2022-06-10T10:14:11.790048Z",
     "shell.execute_reply": "2022-06-10T10:14:11.790516Z"
    },
    "papermill": {
     "duration": 0.04278,
     "end_time": "2022-06-10T10:14:11.790636",
     "exception": false,
     "start_time": "2022-06-10T10:14:11.747856",
     "status": "completed"
    },
    "tags": []
   },
   "outputs": [
    {
     "data": {
      "text/plain": [
       "((11982, 28, 28), (1984, 28, 28))"
      ]
     },
     "execution_count": 13,
     "metadata": {},
     "output_type": "execute_result"
    }
   ],
   "source": [
    "X_train.shape, X_test.shape"
   ]
  },
  {
   "cell_type": "markdown",
   "id": "5ccf3f85",
   "metadata": {
    "papermill": {
     "duration": 0.026197,
     "end_time": "2022-06-10T10:14:11.843147",
     "exception": false,
     "start_time": "2022-06-10T10:14:11.816950",
     "status": "completed"
    },
    "tags": []
   },
   "source": [
    "We reshape the data to flatten the image pixels into a set of features or co-variates:"
   ]
  },
  {
   "cell_type": "code",
   "execution_count": 14,
   "id": "5286a4a3",
   "metadata": {
    "execution": {
     "iopub.execute_input": "2022-06-10T10:14:11.899957Z",
     "iopub.status.busy": "2022-06-10T10:14:11.899378Z",
     "iopub.status.idle": "2022-06-10T10:14:11.913249Z",
     "shell.execute_reply": "2022-06-10T10:14:11.912756Z"
    },
    "papermill": {
     "duration": 0.043729,
     "end_time": "2022-06-10T10:14:11.913354",
     "exception": false,
     "start_time": "2022-06-10T10:14:11.869625",
     "status": "completed"
    },
    "tags": []
   },
   "outputs": [
    {
     "data": {
      "text/plain": [
       "((11982, 784), (1984, 784))"
      ]
     },
     "execution_count": 14,
     "metadata": {},
     "output_type": "execute_result"
    }
   ],
   "source": [
    "X_train = X_train.reshape(X_train.shape[0], -1)\n",
    "X_test = X_test.reshape(X_test.shape[0], -1)\n",
    "X_train.shape, X_test.shape"
   ]
  },
  {
   "cell_type": "code",
   "execution_count": 15,
   "id": "73c5f88a",
   "metadata": {
    "execution": {
     "iopub.execute_input": "2022-06-10T10:14:11.973749Z",
     "iopub.status.busy": "2022-06-10T10:14:11.973165Z",
     "iopub.status.idle": "2022-06-10T10:14:11.989239Z",
     "shell.execute_reply": "2022-06-10T10:14:11.989694Z"
    },
    "papermill": {
     "duration": 0.049823,
     "end_time": "2022-06-10T10:14:11.989812",
     "exception": false,
     "start_time": "2022-06-10T10:14:11.939989",
     "status": "completed"
    },
    "tags": []
   },
   "outputs": [],
   "source": [
    "#Impoting functions from 'Kudzu'\n",
    "from kudzu.model import Model\n",
    "from kudzu.train import Learner\n",
    "from kudzu.optim import GD\n",
    "from kudzu.data import Data, Sampler,Dataloader\n",
    "\n",
    "from kudzu.callbacks import AccCallback\n",
    "from kudzu.callbacks import ClfCallback\n",
    "\n",
    "from kudzu.loss import MSE\n",
    "\n",
    "from kudzu.layer import Sigmoid,Relu\n",
    "from kudzu.layer import Affine"
   ]
  },
  {
   "cell_type": "markdown",
   "id": "bc01172a",
   "metadata": {
    "papermill": {
     "duration": 0.026543,
     "end_time": "2022-06-10T10:14:12.042981",
     "exception": false,
     "start_time": "2022-06-10T10:14:12.016438",
     "status": "completed"
    },
    "tags": []
   },
   "source": [
    "### Let us create a `Config` class, to store important parameters. \n",
    "This class essentially plays the role of a dictionary."
   ]
  },
  {
   "cell_type": "code",
   "execution_count": 16,
   "id": "978281aa",
   "metadata": {
    "execution": {
     "iopub.execute_input": "2022-06-10T10:14:12.112588Z",
     "iopub.status.busy": "2022-06-10T10:14:12.109903Z",
     "iopub.status.idle": "2022-06-10T10:14:12.115112Z",
     "shell.execute_reply": "2022-06-10T10:14:12.114642Z"
    },
    "papermill": {
     "duration": 0.045727,
     "end_time": "2022-06-10T10:14:12.115211",
     "exception": false,
     "start_time": "2022-06-10T10:14:12.069484",
     "status": "completed"
    },
    "tags": []
   },
   "outputs": [],
   "source": [
    "class Config:\n",
    "    pass\n",
    "config = Config()\n",
    "config.lr = 0.001\n",
    "config.num_epochs = 250\n",
    "config.bs = 50"
   ]
  },
  {
   "cell_type": "markdown",
   "id": "1385fa59",
   "metadata": {
    "papermill": {
     "duration": 0.026502,
     "end_time": "2022-06-10T10:14:12.168352",
     "exception": false,
     "start_time": "2022-06-10T10:14:12.141850",
     "status": "completed"
    },
    "tags": []
   },
   "source": [
    "### Running Models with the Training data\n",
    "Details about the network layers:\n",
    "- A first affine layer has 784 inputs and does 100 affine transforms. These are followed by a Relu\n",
    "- A second affine layer has 100 inputs from the 100 activations of the past layer, and does 100 affine transforms. These are followed by a Relu\n",
    "- A third affine layer has 100 activations and does 2 affine transformations to create an embedding for visualization. There is no non-linearity here.\n",
    "- A final \"logistic regression\" which has an affine transform from 2 inputs to 1 output, which is squeezed through a sigmoid.\n"
   ]
  },
  {
   "cell_type": "code",
   "execution_count": 17,
   "id": "2b9c66db",
   "metadata": {
    "execution": {
     "iopub.execute_input": "2022-06-10T10:14:12.236284Z",
     "iopub.status.busy": "2022-06-10T10:14:12.235715Z",
     "iopub.status.idle": "2022-06-10T10:14:12.238836Z",
     "shell.execute_reply": "2022-06-10T10:14:12.238346Z"
    },
    "papermill": {
     "duration": 0.043931,
     "end_time": "2022-06-10T10:14:12.238937",
     "exception": false,
     "start_time": "2022-06-10T10:14:12.195006",
     "status": "completed"
    },
    "tags": []
   },
   "outputs": [],
   "source": [
    "data = Data(X_train, y_train.reshape(-1,1))\n",
    "sampler = Sampler(data, config.bs, shuffle=True)\n",
    "\n",
    "dl = Dataloader(data, sampler)\n",
    "\n",
    "opt = GD(config.lr)\n",
    "loss = MSE()"
   ]
  },
  {
   "cell_type": "code",
   "execution_count": 18,
   "id": "b275e4c2",
   "metadata": {
    "execution": {
     "iopub.execute_input": "2022-06-10T10:14:12.297269Z",
     "iopub.status.busy": "2022-06-10T10:14:12.295345Z",
     "iopub.status.idle": "2022-06-10T10:14:12.308044Z",
     "shell.execute_reply": "2022-06-10T10:14:12.307575Z"
    },
    "papermill": {
     "duration": 0.042651,
     "end_time": "2022-06-10T10:14:12.308145",
     "exception": false,
     "start_time": "2022-06-10T10:14:12.265494",
     "status": "completed"
    },
    "tags": []
   },
   "outputs": [],
   "source": [
    "training_data_x = X_train\n",
    "testing_data_x = X_test\n",
    "training_data_y = y_train.reshape(-1,1)\n",
    "testing_data_y = y_test.reshape(-1,1)"
   ]
  },
  {
   "cell_type": "code",
   "execution_count": 19,
   "id": "76951160",
   "metadata": {
    "execution": {
     "iopub.execute_input": "2022-06-10T10:14:12.364782Z",
     "iopub.status.busy": "2022-06-10T10:14:12.364205Z",
     "iopub.status.idle": "2022-06-10T10:14:12.379547Z",
     "shell.execute_reply": "2022-06-10T10:14:12.380017Z"
    },
    "papermill": {
     "duration": 0.045557,
     "end_time": "2022-06-10T10:14:12.380132",
     "exception": false,
     "start_time": "2022-06-10T10:14:12.334575",
     "status": "completed"
    },
    "tags": []
   },
   "outputs": [
    {
     "name": "stdout",
     "output_type": "stream",
     "text": [
      "xavier\n",
      "xavier\n",
      "xavier\n",
      "xavier\n",
      "xavier\n"
     ]
    }
   ],
   "source": [
    "layers = [Affine(\"first\", 784, 100), Relu(\"first\"), Affine(\"second\", 100, 100), Relu(\"second\"), Affine(\"third\", 100, 2), Affine(\"last\", 2, 1), Sigmoid(\"last\")]\n",
    "model_nn = Model(layers)\n",
    "model_lr = Model([Affine(\"logits\", 784, 1), Sigmoid(\"sigmoid\")])"
   ]
  },
  {
   "cell_type": "code",
   "execution_count": 20,
   "id": "6eede77a",
   "metadata": {
    "execution": {
     "iopub.execute_input": "2022-06-10T10:14:12.437565Z",
     "iopub.status.busy": "2022-06-10T10:14:12.436960Z",
     "iopub.status.idle": "2022-06-10T10:14:12.449103Z",
     "shell.execute_reply": "2022-06-10T10:14:12.449558Z"
    },
    "papermill": {
     "duration": 0.04262,
     "end_time": "2022-06-10T10:14:12.449677",
     "exception": false,
     "start_time": "2022-06-10T10:14:12.407057",
     "status": "completed"
    },
    "tags": []
   },
   "outputs": [],
   "source": [
    "nn_learner = Learner(loss, model_nn, opt, config.num_epochs)\n",
    "acc_nn = ClfCallback(nn_learner, config.bs, training_data_x , testing_data_x, training_data_y, testing_data_y)\n",
    "nn_learner.set_callbacks([acc_nn])"
   ]
  },
  {
   "cell_type": "code",
   "execution_count": 21,
   "id": "877b6cc7",
   "metadata": {
    "execution": {
     "iopub.execute_input": "2022-06-10T10:14:12.507025Z",
     "iopub.status.busy": "2022-06-10T10:14:12.506450Z",
     "iopub.status.idle": "2022-06-10T10:14:12.518276Z",
     "shell.execute_reply": "2022-06-10T10:14:12.518718Z"
    },
    "papermill": {
     "duration": 0.042437,
     "end_time": "2022-06-10T10:14:12.518835",
     "exception": false,
     "start_time": "2022-06-10T10:14:12.476398",
     "status": "completed"
    },
    "tags": []
   },
   "outputs": [],
   "source": [
    "lr_learner = Learner(loss, model_lr, opt, config.num_epochs)\n",
    "acc_lr = ClfCallback(lr_learner, config.bs, training_data_x , testing_data_x, training_data_y, testing_data_y)\n",
    "lr_learner.set_callbacks([acc_lr])"
   ]
  },
  {
   "cell_type": "code",
   "execution_count": 22,
   "id": "d9b133c3",
   "metadata": {
    "execution": {
     "iopub.execute_input": "2022-06-10T10:14:12.575759Z",
     "iopub.status.busy": "2022-06-10T10:14:12.575195Z",
     "iopub.status.idle": "2022-06-10T10:15:26.338202Z",
     "shell.execute_reply": "2022-06-10T10:15:26.338760Z"
    },
    "papermill": {
     "duration": 73.793207,
     "end_time": "2022-06-10T10:15:26.338898",
     "exception": false,
     "start_time": "2022-06-10T10:14:12.545691",
     "status": "completed"
    },
    "tags": []
   },
   "outputs": [
    {
     "name": "stdout",
     "output_type": "stream",
     "text": [
      "Epoch 0, Loss 0.2507\n",
      "Training Accuracy: 0.6299, Testing Accuracy: 0.6069\n",
      "\n"
     ]
    },
    {
     "name": "stdout",
     "output_type": "stream",
     "text": [
      "Epoch 10, Loss 0.0849\n",
      "Training Accuracy: 0.9175, Testing Accuracy: 0.9325\n",
      "\n"
     ]
    },
    {
     "name": "stdout",
     "output_type": "stream",
     "text": [
      "Epoch 20, Loss 0.0521\n",
      "Training Accuracy: 0.9459, Testing Accuracy: 0.9556\n",
      "\n"
     ]
    },
    {
     "name": "stdout",
     "output_type": "stream",
     "text": [
      "Epoch 30, Loss 0.0418\n",
      "Training Accuracy: 0.9525, Testing Accuracy: 0.9632\n",
      "\n"
     ]
    },
    {
     "name": "stdout",
     "output_type": "stream",
     "text": [
      "Epoch 40, Loss 0.0367\n",
      "Training Accuracy: 0.9574, Testing Accuracy: 0.9667\n",
      "\n"
     ]
    },
    {
     "name": "stdout",
     "output_type": "stream",
     "text": [
      "Epoch 50, Loss 0.0336\n",
      "Training Accuracy: 0.9610, Testing Accuracy: 0.9672\n",
      "\n"
     ]
    },
    {
     "name": "stdout",
     "output_type": "stream",
     "text": [
      "Epoch 60, Loss 0.0314\n",
      "Training Accuracy: 0.9632, Testing Accuracy: 0.9677\n",
      "\n"
     ]
    },
    {
     "name": "stdout",
     "output_type": "stream",
     "text": [
      "Epoch 70, Loss 0.0297\n",
      "Training Accuracy: 0.9659, Testing Accuracy: 0.9682\n",
      "\n"
     ]
    },
    {
     "name": "stdout",
     "output_type": "stream",
     "text": [
      "Epoch 80, Loss 0.0283\n",
      "Training Accuracy: 0.9673, Testing Accuracy: 0.9688\n",
      "\n"
     ]
    },
    {
     "name": "stdout",
     "output_type": "stream",
     "text": [
      "Epoch 90, Loss 0.0271\n",
      "Training Accuracy: 0.9687, Testing Accuracy: 0.9688\n",
      "\n"
     ]
    },
    {
     "name": "stdout",
     "output_type": "stream",
     "text": [
      "Epoch 100, Loss 0.0262\n",
      "Training Accuracy: 0.9698, Testing Accuracy: 0.9688\n",
      "\n"
     ]
    },
    {
     "name": "stdout",
     "output_type": "stream",
     "text": [
      "Epoch 110, Loss 0.0253\n",
      "Training Accuracy: 0.9711, Testing Accuracy: 0.9703\n",
      "\n"
     ]
    },
    {
     "name": "stdout",
     "output_type": "stream",
     "text": [
      "Epoch 120, Loss 0.0246\n",
      "Training Accuracy: 0.9725, Testing Accuracy: 0.9693\n",
      "\n"
     ]
    },
    {
     "name": "stdout",
     "output_type": "stream",
     "text": [
      "Epoch 130, Loss 0.0239\n",
      "Training Accuracy: 0.9733, Testing Accuracy: 0.9693\n",
      "\n"
     ]
    },
    {
     "name": "stdout",
     "output_type": "stream",
     "text": [
      "Epoch 140, Loss 0.0232\n",
      "Training Accuracy: 0.9742, Testing Accuracy: 0.9703\n",
      "\n"
     ]
    },
    {
     "name": "stdout",
     "output_type": "stream",
     "text": [
      "Epoch 150, Loss 0.0227\n",
      "Training Accuracy: 0.9744, Testing Accuracy: 0.9713\n",
      "\n"
     ]
    },
    {
     "name": "stdout",
     "output_type": "stream",
     "text": [
      "Epoch 160, Loss 0.0221\n",
      "Training Accuracy: 0.9748, Testing Accuracy: 0.9718\n",
      "\n"
     ]
    },
    {
     "name": "stdout",
     "output_type": "stream",
     "text": [
      "Epoch 170, Loss 0.0216\n",
      "Training Accuracy: 0.9753, Testing Accuracy: 0.9738\n",
      "\n"
     ]
    },
    {
     "name": "stdout",
     "output_type": "stream",
     "text": [
      "Epoch 180, Loss 0.0212\n",
      "Training Accuracy: 0.9760, Testing Accuracy: 0.9743\n",
      "\n"
     ]
    },
    {
     "name": "stdout",
     "output_type": "stream",
     "text": [
      "Epoch 190, Loss 0.0207\n",
      "Training Accuracy: 0.9765, Testing Accuracy: 0.9748\n",
      "\n"
     ]
    },
    {
     "name": "stdout",
     "output_type": "stream",
     "text": [
      "Epoch 200, Loss 0.0203\n",
      "Training Accuracy: 0.9766, Testing Accuracy: 0.9753\n",
      "\n"
     ]
    },
    {
     "name": "stdout",
     "output_type": "stream",
     "text": [
      "Epoch 210, Loss 0.0199\n",
      "Training Accuracy: 0.9775, Testing Accuracy: 0.9753\n",
      "\n"
     ]
    },
    {
     "name": "stdout",
     "output_type": "stream",
     "text": [
      "Epoch 220, Loss 0.0195\n",
      "Training Accuracy: 0.9784, Testing Accuracy: 0.9753\n",
      "\n"
     ]
    },
    {
     "name": "stdout",
     "output_type": "stream",
     "text": [
      "Epoch 230, Loss 0.0192\n",
      "Training Accuracy: 0.9791, Testing Accuracy: 0.9753\n",
      "\n"
     ]
    },
    {
     "name": "stdout",
     "output_type": "stream",
     "text": [
      "Epoch 240, Loss 0.0188\n",
      "Training Accuracy: 0.9794, Testing Accuracy: 0.9753\n",
      "\n"
     ]
    },
    {
     "data": {
      "text/plain": [
       "0.000492099614010154"
      ]
     },
     "execution_count": 22,
     "metadata": {},
     "output_type": "execute_result"
    }
   ],
   "source": [
    "nn_learner.train_loop(dl)"
   ]
  },
  {
   "cell_type": "code",
   "execution_count": 23,
   "id": "e0163366",
   "metadata": {
    "execution": {
     "iopub.execute_input": "2022-06-10T10:15:26.418434Z",
     "iopub.status.busy": "2022-06-10T10:15:26.417830Z",
     "iopub.status.idle": "2022-06-10T10:15:39.400463Z",
     "shell.execute_reply": "2022-06-10T10:15:39.401355Z"
    },
    "papermill": {
     "duration": 13.028212,
     "end_time": "2022-06-10T10:15:39.401505",
     "exception": false,
     "start_time": "2022-06-10T10:15:26.373293",
     "status": "completed"
    },
    "tags": []
   },
   "outputs": [
    {
     "name": "stdout",
     "output_type": "stream",
     "text": [
      "Epoch 0, Loss 0.2168\n",
      "Training Accuracy: 0.7313, Testing Accuracy: 0.7495\n",
      "\n"
     ]
    },
    {
     "name": "stdout",
     "output_type": "stream",
     "text": [
      "Epoch 10, Loss 0.1021\n",
      "Training Accuracy: 0.9109, Testing Accuracy: 0.9229\n",
      "\n"
     ]
    },
    {
     "name": "stdout",
     "output_type": "stream",
     "text": [
      "Epoch 20, Loss 0.0787\n",
      "Training Accuracy: 0.9291, Testing Accuracy: 0.9456\n",
      "\n"
     ]
    },
    {
     "name": "stdout",
     "output_type": "stream",
     "text": [
      "Epoch 30, Loss 0.0679\n",
      "Training Accuracy: 0.9378, Testing Accuracy: 0.9486\n",
      "\n"
     ]
    },
    {
     "name": "stdout",
     "output_type": "stream",
     "text": [
      "Epoch 40, Loss 0.0615\n",
      "Training Accuracy: 0.9423, Testing Accuracy: 0.9541\n",
      "\n"
     ]
    },
    {
     "name": "stdout",
     "output_type": "stream",
     "text": [
      "Epoch 50, Loss 0.057\n",
      "Training Accuracy: 0.9463, Testing Accuracy: 0.9556\n",
      "\n"
     ]
    },
    {
     "name": "stdout",
     "output_type": "stream",
     "text": [
      "Epoch 60, Loss 0.0538\n",
      "Training Accuracy: 0.9491, Testing Accuracy: 0.9577\n",
      "\n"
     ]
    },
    {
     "name": "stdout",
     "output_type": "stream",
     "text": [
      "Epoch 70, Loss 0.0513\n",
      "Training Accuracy: 0.9503, Testing Accuracy: 0.9587\n",
      "\n"
     ]
    },
    {
     "name": "stdout",
     "output_type": "stream",
     "text": [
      "Epoch 80, Loss 0.0492\n",
      "Training Accuracy: 0.9511, Testing Accuracy: 0.9597\n",
      "\n"
     ]
    },
    {
     "name": "stdout",
     "output_type": "stream",
     "text": [
      "Epoch 90, Loss 0.0476\n",
      "Training Accuracy: 0.9526, Testing Accuracy: 0.9617\n",
      "\n"
     ]
    },
    {
     "name": "stdout",
     "output_type": "stream",
     "text": [
      "Epoch 100, Loss 0.0461\n",
      "Training Accuracy: 0.9538, Testing Accuracy: 0.9627\n",
      "\n"
     ]
    },
    {
     "name": "stdout",
     "output_type": "stream",
     "text": [
      "Epoch 110, Loss 0.0449\n",
      "Training Accuracy: 0.9548, Testing Accuracy: 0.9637\n",
      "\n"
     ]
    },
    {
     "name": "stdout",
     "output_type": "stream",
     "text": [
      "Epoch 120, Loss 0.0439\n",
      "Training Accuracy: 0.9554, Testing Accuracy: 0.9647\n",
      "\n"
     ]
    },
    {
     "name": "stdout",
     "output_type": "stream",
     "text": [
      "Epoch 130, Loss 0.0429\n",
      "Training Accuracy: 0.9561, Testing Accuracy: 0.9657\n",
      "\n"
     ]
    },
    {
     "name": "stdout",
     "output_type": "stream",
     "text": [
      "Epoch 140, Loss 0.0421\n",
      "Training Accuracy: 0.9569, Testing Accuracy: 0.9657\n",
      "\n"
     ]
    },
    {
     "name": "stdout",
     "output_type": "stream",
     "text": [
      "Epoch 150, Loss 0.0414\n",
      "Training Accuracy: 0.9577, Testing Accuracy: 0.9662\n",
      "\n"
     ]
    },
    {
     "name": "stdout",
     "output_type": "stream",
     "text": [
      "Epoch 160, Loss 0.0407\n",
      "Training Accuracy: 0.9584, Testing Accuracy: 0.9657\n",
      "\n"
     ]
    },
    {
     "name": "stdout",
     "output_type": "stream",
     "text": [
      "Epoch 170, Loss 0.0401\n",
      "Training Accuracy: 0.9589, Testing Accuracy: 0.9662\n",
      "\n"
     ]
    },
    {
     "name": "stdout",
     "output_type": "stream",
     "text": [
      "Epoch 180, Loss 0.0395\n",
      "Training Accuracy: 0.9589, Testing Accuracy: 0.9662\n",
      "\n"
     ]
    },
    {
     "name": "stdout",
     "output_type": "stream",
     "text": [
      "Epoch 190, Loss 0.039\n",
      "Training Accuracy: 0.9592, Testing Accuracy: 0.9662\n",
      "\n"
     ]
    },
    {
     "name": "stdout",
     "output_type": "stream",
     "text": [
      "Epoch 200, Loss 0.0385\n",
      "Training Accuracy: 0.9594, Testing Accuracy: 0.9667\n",
      "\n"
     ]
    },
    {
     "name": "stdout",
     "output_type": "stream",
     "text": [
      "Epoch 210, Loss 0.0381\n",
      "Training Accuracy: 0.9598, Testing Accuracy: 0.9662\n",
      "\n"
     ]
    },
    {
     "name": "stdout",
     "output_type": "stream",
     "text": [
      "Epoch 220, Loss 0.0377\n",
      "Training Accuracy: 0.9603, Testing Accuracy: 0.9662\n",
      "\n"
     ]
    },
    {
     "name": "stdout",
     "output_type": "stream",
     "text": [
      "Epoch 230, Loss 0.0373\n",
      "Training Accuracy: 0.9605, Testing Accuracy: 0.9662\n",
      "\n"
     ]
    },
    {
     "name": "stdout",
     "output_type": "stream",
     "text": [
      "Epoch 240, Loss 0.0369\n",
      "Training Accuracy: 0.9609, Testing Accuracy: 0.9667\n",
      "\n"
     ]
    },
    {
     "data": {
      "text/plain": [
       "0.01621032455086374"
      ]
     },
     "execution_count": 23,
     "metadata": {},
     "output_type": "execute_result"
    }
   ],
   "source": [
    "lr_learner.train_loop(dl)"
   ]
  },
  {
   "cell_type": "code",
   "execution_count": 24,
   "id": "ca410940",
   "metadata": {
    "execution": {
     "iopub.execute_input": "2022-06-10T10:15:39.498511Z",
     "iopub.status.busy": "2022-06-10T10:15:39.497918Z",
     "iopub.status.idle": "2022-06-10T10:15:39.724537Z",
     "shell.execute_reply": "2022-06-10T10:15:39.723970Z"
    },
    "papermill": {
     "duration": 0.282078,
     "end_time": "2022-06-10T10:15:39.724668",
     "exception": false,
     "start_time": "2022-06-10T10:15:39.442590",
     "status": "completed"
    },
    "tags": []
   },
   "outputs": [
    {
     "data": {
      "text/plain": [
       "<matplotlib.legend.Legend at 0x7fd72ae3fa20>"
      ]
     },
     "execution_count": 24,
     "metadata": {},
     "output_type": "execute_result"
    },
    {
     "data": {
      "image/png": "[encoded data removed]",
      "text/plain": [
       "<Figure size 1080x720 with 1 Axes>"
      ]
     },
     "metadata": {
      "needs_background": "light"
     },
     "output_type": "display_data"
    }
   ],
   "source": [
    "#comparing the results of NN and LR\n",
    "plt.figure(figsize=(15,10))\n",
    "\n",
    "# Neural Network plots\n",
    "plt.plot(acc_nn.accuracies, 'r-', label = \"Training Accuracies - NN\")\n",
    "plt.plot(acc_nn.test_accuracies, 'g-', label = \"Testing Accuracies - NN\")\n",
    "\n",
    "# Logistic Regression plots\n",
    "plt.plot(acc_lr.accuracies, 'k-', label = \"Training Accuracies - LR\")\n",
    "plt.plot(acc_lr.test_accuracies, 'b-', label = \"Testing Accuracies - LR\")\n",
    "plt.legend()"
   ]
  },
  {
   "cell_type": "markdown",
   "id": "80dfb35c",
   "metadata": {
    "papermill": {
     "duration": 0.042196,
     "end_time": "2022-06-10T10:15:39.809553",
     "exception": false,
     "start_time": "2022-06-10T10:15:39.767357",
     "status": "completed"
    },
    "tags": []
   },
   "source": [
    "#### Plotting the outputs of this layer of the NN.\n"
   ]
  },
  {
   "cell_type": "code",
   "execution_count": 25,
   "id": "45eb2ff5",
   "metadata": {
    "execution": {
     "iopub.execute_input": "2022-06-10T10:15:39.906214Z",
     "iopub.status.busy": "2022-06-10T10:15:39.903348Z",
     "iopub.status.idle": "2022-06-10T10:15:39.920114Z",
     "shell.execute_reply": "2022-06-10T10:15:39.920566Z"
    },
    "papermill": {
     "duration": 0.069491,
     "end_time": "2022-06-10T10:15:39.920702",
     "exception": false,
     "start_time": "2022-06-10T10:15:39.851211",
     "status": "completed"
    },
    "tags": []
   },
   "outputs": [],
   "source": [
    "new_model = Model(layers[:-2])\n",
    "testing_plot = new_model(testing_data_x)"
   ]
  },
  {
   "cell_type": "code",
   "execution_count": 26,
   "id": "4c0a5485",
   "metadata": {
    "execution": {
     "iopub.execute_input": "2022-06-10T10:15:40.018720Z",
     "iopub.status.busy": "2022-06-10T10:15:40.018128Z",
     "iopub.status.idle": "2022-06-10T10:15:40.216383Z",
     "shell.execute_reply": "2022-06-10T10:15:40.215910Z"
    },
    "papermill": {
     "duration": 0.253683,
     "end_time": "2022-06-10T10:15:40.216504",
     "exception": false,
     "start_time": "2022-06-10T10:15:39.962821",
     "status": "completed"
    },
    "tags": []
   },
   "outputs": [
    {
     "data": {
      "text/plain": [
       "Text(0.5, 1.0, 'Outputs')"
      ]
     },
     "execution_count": 26,
     "metadata": {},
     "output_type": "execute_result"
    },
    {
     "data": {
      "image/png": "[encoded data removed]",
      "text/plain": [
       "<Figure size 576x504 with 1 Axes>"
      ]
     },
     "metadata": {
      "needs_background": "light"
     },
     "output_type": "display_data"
    }
   ],
   "source": [
    "# Plotting the scatter plot of points and color coding by class\n",
    "plt.figure(figsize=(8,7))\n",
    "plt.scatter(testing_plot[:,0], testing_plot[:,1], alpha = 0.1, c = y_test.ravel());\n",
    "plt.title('Outputs')"
   ]
  },
  {
   "cell_type": "markdown",
   "id": "a74fcf8f",
   "metadata": {
    "papermill": {
     "duration": 0.043971,
     "end_time": "2022-06-10T10:15:40.304670",
     "exception": false,
     "start_time": "2022-06-10T10:15:40.260699",
     "status": "completed"
    },
    "tags": []
   },
   "source": [
    "Probability contours"
   ]
  },
  {
   "cell_type": "code",
   "execution_count": 27,
   "id": "d0afc8e3",
   "metadata": {
    "execution": {
     "iopub.execute_input": "2022-06-10T10:15:40.423172Z",
     "iopub.status.busy": "2022-06-10T10:15:40.422478Z",
     "iopub.status.idle": "2022-06-10T10:15:40.434377Z",
     "shell.execute_reply": "2022-06-10T10:15:40.433861Z"
    },
    "papermill": {
     "duration": 0.08595,
     "end_time": "2022-06-10T10:15:40.434485",
     "exception": false,
     "start_time": "2022-06-10T10:15:40.348535",
     "status": "completed"
    },
    "tags": []
   },
   "outputs": [],
   "source": [
    "model_prob = Model(layers[-2:]) "
   ]
  },
  {
   "cell_type": "code",
   "execution_count": 28,
   "id": "9b96e238",
   "metadata": {
    "execution": {
     "iopub.execute_input": "2022-06-10T10:15:40.527395Z",
     "iopub.status.busy": "2022-06-10T10:15:40.526809Z",
     "iopub.status.idle": "2022-06-10T10:15:40.539857Z",
     "shell.execute_reply": "2022-06-10T10:15:40.540290Z"
    },
    "papermill": {
     "duration": 0.061909,
     "end_time": "2022-06-10T10:15:40.540423",
     "exception": false,
     "start_time": "2022-06-10T10:15:40.478514",
     "status": "completed"
    },
    "tags": []
   },
   "outputs": [],
   "source": [
    "#creating the x and y ranges according to the above generated plot.\n",
    "x_range = np.linspace(-4, 1, 100) \n",
    "y_range = np.linspace(-6, 6, 100) \n",
    "x_grid, y_grid = np.meshgrid(x_range, y_range) # x_grid and y_grig are of size 100 X 100\n",
    "\n",
    "# converting x_grid and y_grid to continuous arrays\n",
    "x_gridflat = np.ravel(x_grid)\n",
    "y_gridflat = np.ravel(y_grid)\n",
    "\n",
    "# The last layer of the current model takes two columns as input. Hence transpose of np.vstack() is required.\n",
    "X = np.vstack((x_gridflat, y_gridflat)).T\n",
    "\n",
    "prob_contour = model_prob(X).reshape(100,100) "
   ]
  },
  {
   "cell_type": "code",
   "execution_count": 29,
   "id": "da72499a",
   "metadata": {
    "execution": {
     "iopub.execute_input": "2022-06-10T10:15:40.641445Z",
     "iopub.status.busy": "2022-06-10T10:15:40.640824Z",
     "iopub.status.idle": "2022-06-10T10:15:40.883960Z",
     "shell.execute_reply": "2022-06-10T10:15:40.884393Z"
    },
    "papermill": {
     "duration": 0.299774,
     "end_time": "2022-06-10T10:15:40.884537",
     "exception": false,
     "start_time": "2022-06-10T10:15:40.584763",
     "status": "completed"
    },
    "tags": []
   },
   "outputs": [
    {
     "data": {
      "image/png": "[encoded data removed]",
      "text/plain": [
       "<Figure size 720x648 with 1 Axes>"
      ]
     },
     "metadata": {
      "needs_background": "light"
     },
     "output_type": "display_data"
    }
   ],
   "source": [
    "plt.figure(figsize=(10,9))\n",
    "plt.scatter(testing_plot[:,0], testing_plot[:,1], alpha = 0.1, c = y_test.ravel())\n",
    "contours = plt.contour(x_grid,y_grid,prob_contour)\n",
    "plt.title('Probability Contours')\n",
    "plt.clabel(contours, inline = True );"
   ]
  },
  {
   "cell_type": "code",
   "execution_count": null,
   "id": "e81b4ac7",
   "metadata": {
    "papermill": {
     "duration": 0.046814,
     "end_time": "2022-06-10T10:15:40.978597",
     "exception": false,
     "start_time": "2022-06-10T10:15:40.931783",
     "status": "completed"
    },
    "tags": []
   },
   "outputs": [],
   "source": []
  }
 ],
 "metadata": {
  "kernelspec": {
   "display_name": "Python 3",
   "language": "python",
   "name": "python3"
  },
  "language_info": {
   "codemirror_mode": {
    "name": "ipython",
    "version": 3
   },
   "file_extension": ".py",
   "mimetype": "text/x-python",
   "name": "python",
   "nbconvert_exporter": "python",
   "pygments_lexer": "ipython3",
   "version": "3.6.15"
  },
  "papermill": {
   "default_parameters": {},
   "duration": 94.98144,
   "end_time": "2022-06-10T10:15:41.444216",
   "environment_variables": {},
   "exception": null,
   "input_path": "2020-08-11-part2.ipynb",
   "output_path": "2020-08-11-part2.ipynb",
   "parameters": {},
   "start_time": "2022-06-10T10:14:06.462776",
   "version": "2.3.3"
  }
 },
 "nbformat": 4,
 "nbformat_minor": 5
}