{
 "cells": [
  {
   "cell_type": "markdown",
   "id": "98380cd3",
   "metadata": {
    "papermill": {
     "duration": 0.037111,
     "end_time": "2022-07-06T00:45:01.054805",
     "exception": false,
     "start_time": "2022-07-06T00:45:01.017694",
     "status": "completed"
    },
    "tags": []
   },
   "source": [
    "# Distinguish Your Own Digits (DYOD)"
   ]
  },
  {
   "cell_type": "markdown",
   "id": "ef31240d",
   "metadata": {
    "papermill": {
     "duration": 0.031237,
     "end_time": "2022-07-06T00:45:01.117315",
     "exception": false,
     "start_time": "2022-07-06T00:45:01.086078",
     "status": "completed"
    },
    "tags": []
   },
   "source": [
    "You are going to write a classifier that distinguishes between the number 3 and number 8."
   ]
  },
  {
   "cell_type": "code",
   "execution_count": 1,
   "id": "b15c8646",
   "metadata": {
    "execution": {
     "iopub.execute_input": "2022-07-06T00:45:01.193658Z",
     "iopub.status.busy": "2022-07-06T00:45:01.192899Z",
     "iopub.status.idle": "2022-07-06T00:45:01.209198Z",
     "shell.execute_reply": "2022-07-06T00:45:01.208422Z"
    },
    "papermill": {
     "duration": 0.061724,
     "end_time": "2022-07-06T00:45:01.209359",
     "exception": false,
     "start_time": "2022-07-06T00:45:01.147635",
     "status": "completed"
    },
    "tags": []
   },
   "outputs": [],
   "source": [
    "%load_ext autoreload\n",
    "%autoreload 2"
   ]
  },
  {
   "cell_type": "code",
   "execution_count": 2,
   "id": "22ef38dc",
   "metadata": {
    "execution": {
     "iopub.execute_input": "2022-07-06T00:45:01.278502Z",
     "iopub.status.busy": "2022-07-06T00:45:01.277759Z",
     "iopub.status.idle": "2022-07-06T00:45:01.972284Z",
     "shell.execute_reply": "2022-07-06T00:45:01.972860Z"
    },
    "papermill": {
     "duration": 0.73137,
     "end_time": "2022-07-06T00:45:01.973235",
     "exception": false,
     "start_time": "2022-07-06T00:45:01.241865",
     "status": "completed"
    },
    "tags": []
   },
   "outputs": [],
   "source": [
    "%matplotlib inline\n",
    "import numpy as np\n",
    "import matplotlib.pyplot as plt\n",
    "import pandas as pd"
   ]
  },
  {
   "cell_type": "markdown",
   "id": "ba036198",
   "metadata": {
    "papermill": {
     "duration": 0.031889,
     "end_time": "2022-07-06T00:45:02.043341",
     "exception": false,
     "start_time": "2022-07-06T00:45:02.011452",
     "status": "completed"
    },
    "tags": []
   },
   "source": [
    "From the command line run `pip install mnist`. This is a library that will help you bring down the mnist dataset. If you run this from a notebook, you need to put  `!pip install mnist` in a cell by itself."
   ]
  },
  {
   "cell_type": "code",
   "execution_count": 3,
   "id": "bb6ad8a1",
   "metadata": {
    "execution": {
     "iopub.execute_input": "2022-07-06T00:45:02.119484Z",
     "iopub.status.busy": "2022-07-06T00:45:02.116711Z",
     "iopub.status.idle": "2022-07-06T00:45:04.239091Z",
     "shell.execute_reply": "2022-07-06T00:45:04.237819Z"
    },
    "papermill": {
     "duration": 2.164595,
     "end_time": "2022-07-06T00:45:04.239246",
     "exception": false,
     "start_time": "2022-07-06T00:45:02.074651",
     "status": "completed"
    },
    "tags": []
   },
   "outputs": [
    {
     "name": "stdout",
     "output_type": "stream",
     "text": [
      "Collecting mnist\r\n",
      "  Downloading mnist-0.2.2-py2.py3-none-any.whl (3.5 kB)\r\n"
     ]
    },
    {
     "name": "stdout",
     "output_type": "stream",
     "text": [
      "Requirement already satisfied: numpy in /opt/hostedtoolcache/Python/3.6.15/x64/lib/python3.6/site-packages (from mnist) (1.19.5)\r\n"
     ]
    },
    {
     "name": "stdout",
     "output_type": "stream",
     "text": [
      "Installing collected packages: mnist\r\n"
     ]
    },
    {
     "name": "stdout",
     "output_type": "stream",
     "text": [
      "Successfully installed mnist-0.2.2\r\n"
     ]
    }
   ],
   "source": [
    "!pip install mnist"
   ]
  },
  {
   "cell_type": "markdown",
   "id": "69df9c9a",
   "metadata": {
    "papermill": {
     "duration": 0.033908,
     "end_time": "2022-07-06T00:45:04.304951",
     "exception": false,
     "start_time": "2022-07-06T00:45:04.271043",
     "status": "completed"
    },
    "tags": []
   },
   "source": [
    "## Preparing the Data"
   ]
  },
  {
   "cell_type": "code",
   "execution_count": 4,
   "id": "7f69d806",
   "metadata": {
    "execution": {
     "iopub.execute_input": "2022-07-06T00:45:04.377828Z",
     "iopub.status.busy": "2022-07-06T00:45:04.373735Z",
     "iopub.status.idle": "2022-07-06T00:45:04.393779Z",
     "shell.execute_reply": "2022-07-06T00:45:04.393146Z"
    },
    "papermill": {
     "duration": 0.057646,
     "end_time": "2022-07-06T00:45:04.393937",
     "exception": false,
     "start_time": "2022-07-06T00:45:04.336291",
     "status": "completed"
    },
    "tags": []
   },
   "outputs": [],
   "source": [
    "import mnist"
   ]
  },
  {
   "cell_type": "code",
   "execution_count": 5,
   "id": "a411e44f",
   "metadata": {
    "execution": {
     "iopub.execute_input": "2022-07-06T00:45:04.465020Z",
     "iopub.status.busy": "2022-07-06T00:45:04.464260Z",
     "iopub.status.idle": "2022-07-06T00:45:05.050306Z",
     "shell.execute_reply": "2022-07-06T00:45:05.049209Z"
    },
    "papermill": {
     "duration": 0.625147,
     "end_time": "2022-07-06T00:45:05.050466",
     "exception": false,
     "start_time": "2022-07-06T00:45:04.425319",
     "status": "completed"
    },
    "tags": []
   },
   "outputs": [],
   "source": [
    "train_images = mnist.train_images()\n",
    "train_labels = mnist.train_labels()"
   ]
  },
  {
   "cell_type": "code",
   "execution_count": 6,
   "id": "dceab3a5",
   "metadata": {
    "execution": {
     "iopub.execute_input": "2022-07-06T00:45:05.125334Z",
     "iopub.status.busy": "2022-07-06T00:45:05.124598Z",
     "iopub.status.idle": "2022-07-06T00:45:05.142074Z",
     "shell.execute_reply": "2022-07-06T00:45:05.141467Z"
    },
    "papermill": {
     "duration": 0.059048,
     "end_time": "2022-07-06T00:45:05.142215",
     "exception": false,
     "start_time": "2022-07-06T00:45:05.083167",
     "status": "completed"
    },
    "tags": []
   },
   "outputs": [
    {
     "data": {
      "text/plain": [
       "((60000, 28, 28), (60000,))"
      ]
     },
     "execution_count": 6,
     "metadata": {},
     "output_type": "execute_result"
    }
   ],
   "source": [
    "train_images.shape, train_labels.shape"
   ]
  },
  {
   "cell_type": "code",
   "execution_count": 7,
   "id": "f50dc2bb",
   "metadata": {
    "execution": {
     "iopub.execute_input": "2022-07-06T00:45:05.226199Z",
     "iopub.status.busy": "2022-07-06T00:45:05.218678Z",
     "iopub.status.idle": "2022-07-06T00:45:05.405045Z",
     "shell.execute_reply": "2022-07-06T00:45:05.405620Z"
    },
    "papermill": {
     "duration": 0.230469,
     "end_time": "2022-07-06T00:45:05.405799",
     "exception": false,
     "start_time": "2022-07-06T00:45:05.175330",
     "status": "completed"
    },
    "tags": []
   },
   "outputs": [],
   "source": [
    "test_images = mnist.test_images()\n",
    "test_labels = mnist.test_labels()"
   ]
  },
  {
   "cell_type": "code",
   "execution_count": 8,
   "id": "fc38cf1b",
   "metadata": {
    "execution": {
     "iopub.execute_input": "2022-07-06T00:45:05.491496Z",
     "iopub.status.busy": "2022-07-06T00:45:05.490027Z",
     "iopub.status.idle": "2022-07-06T00:45:05.498674Z",
     "shell.execute_reply": "2022-07-06T00:45:05.499407Z"
    },
    "papermill": {
     "duration": 0.0613,
     "end_time": "2022-07-06T00:45:05.499574",
     "exception": false,
     "start_time": "2022-07-06T00:45:05.438274",
     "status": "completed"
    },
    "tags": []
   },
   "outputs": [
    {
     "data": {
      "text/plain": [
       "((10000, 28, 28), (10000,))"
      ]
     },
     "execution_count": 8,
     "metadata": {},
     "output_type": "execute_result"
    }
   ],
   "source": [
    "test_images.shape, test_labels.shape"
   ]
  },
  {
   "cell_type": "code",
   "execution_count": 9,
   "id": "f9ed8fe0",
   "metadata": {
    "execution": {
     "iopub.execute_input": "2022-07-06T00:45:05.571106Z",
     "iopub.status.busy": "2022-07-06T00:45:05.569872Z",
     "iopub.status.idle": "2022-07-06T00:45:05.757177Z",
     "shell.execute_reply": "2022-07-06T00:45:05.757812Z"
    },
    "papermill": {
     "duration": 0.226691,
     "end_time": "2022-07-06T00:45:05.757987",
     "exception": false,
     "start_time": "2022-07-06T00:45:05.531296",
     "status": "completed"
    },
    "tags": []
   },
   "outputs": [
    {
     "name": "stdout",
     "output_type": "stream",
     "text": [
      "2\n"
     ]
    },
    {
     "data": {
      "text/plain": [
       "<matplotlib.image.AxesImage at 0x7fce751624e0>"
      ]
     },
     "execution_count": 9,
     "metadata": {},
     "output_type": "execute_result"
    },
    {
     "data": {
      "image/png": "[encoded data removed]",
      "text/plain": [
       "<Figure size 432x288 with 1 Axes>"
      ]
     },
     "metadata": {
      "needs_background": "light"
     },
     "output_type": "display_data"
    }
   ],
   "source": [
    "image_index = 7776 # You may select anything up to 60,000\n",
    "print(train_labels[image_index]) \n",
    "plt.imshow(train_images[image_index], cmap='Greys')"
   ]
  },
  {
   "cell_type": "markdown",
   "id": "a8d2388d",
   "metadata": {
    "papermill": {
     "duration": 0.033968,
     "end_time": "2022-07-06T00:45:05.827311",
     "exception": false,
     "start_time": "2022-07-06T00:45:05.793343",
     "status": "completed"
    },
    "tags": []
   },
   "source": [
    "## Filter data to get 3 and 8 out"
   ]
  },
  {
   "cell_type": "code",
   "execution_count": 10,
   "id": "776f7fc7",
   "metadata": {
    "execution": {
     "iopub.execute_input": "2022-07-06T00:45:05.902122Z",
     "iopub.status.busy": "2022-07-06T00:45:05.901353Z",
     "iopub.status.idle": "2022-07-06T00:45:05.922818Z",
     "shell.execute_reply": "2022-07-06T00:45:05.923442Z"
    },
    "papermill": {
     "duration": 0.061501,
     "end_time": "2022-07-06T00:45:05.923619",
     "exception": false,
     "start_time": "2022-07-06T00:45:05.862118",
     "status": "completed"
    },
    "tags": []
   },
   "outputs": [],
   "source": [
    "train_filter = np.where((train_labels == 3 ) | (train_labels == 8))\n",
    "test_filter = np.where((test_labels == 3) | (test_labels == 8))\n",
    "X_train, y_train = train_images[train_filter], train_labels[train_filter]\n",
    "X_test, y_test = test_images[test_filter], test_labels[test_filter]"
   ]
  },
  {
   "cell_type": "markdown",
   "id": "948f0b7e",
   "metadata": {
    "papermill": {
     "duration": 0.036707,
     "end_time": "2022-07-06T00:45:05.999907",
     "exception": false,
     "start_time": "2022-07-06T00:45:05.963200",
     "status": "completed"
    },
    "tags": []
   },
   "source": [
    "We normalize the pizel values in the 0 to 1 range"
   ]
  },
  {
   "cell_type": "code",
   "execution_count": 11,
   "id": "ee4c2166",
   "metadata": {
    "execution": {
     "iopub.execute_input": "2022-07-06T00:45:06.077533Z",
     "iopub.status.busy": "2022-07-06T00:45:06.076783Z",
     "iopub.status.idle": "2022-07-06T00:45:06.141681Z",
     "shell.execute_reply": "2022-07-06T00:45:06.142813Z"
    },
    "papermill": {
     "duration": 0.104853,
     "end_time": "2022-07-06T00:45:06.142997",
     "exception": false,
     "start_time": "2022-07-06T00:45:06.038144",
     "status": "completed"
    },
    "tags": []
   },
   "outputs": [],
   "source": [
    "X_train = X_train/255.\n",
    "X_test = X_test/255."
   ]
  },
  {
   "cell_type": "markdown",
   "id": "ddcf4fab",
   "metadata": {
    "papermill": {
     "duration": 0.035575,
     "end_time": "2022-07-06T00:45:06.213476",
     "exception": false,
     "start_time": "2022-07-06T00:45:06.177901",
     "status": "completed"
    },
    "tags": []
   },
   "source": [
    "And setup the labels as 1 (when the digit is 3) and 0 (when the digit is 8)"
   ]
  },
  {
   "cell_type": "code",
   "execution_count": 12,
   "id": "7dc908f2",
   "metadata": {
    "execution": {
     "iopub.execute_input": "2022-07-06T00:45:06.290453Z",
     "iopub.status.busy": "2022-07-06T00:45:06.289661Z",
     "iopub.status.idle": "2022-07-06T00:45:06.303783Z",
     "shell.execute_reply": "2022-07-06T00:45:06.303089Z"
    },
    "papermill": {
     "duration": 0.054597,
     "end_time": "2022-07-06T00:45:06.303933",
     "exception": false,
     "start_time": "2022-07-06T00:45:06.249336",
     "status": "completed"
    },
    "tags": []
   },
   "outputs": [],
   "source": [
    "y_train = 1*(y_train==3)\n",
    "y_test = 1*(y_test==3)"
   ]
  },
  {
   "cell_type": "code",
   "execution_count": 13,
   "id": "01e4e969",
   "metadata": {
    "execution": {
     "iopub.execute_input": "2022-07-06T00:45:06.385801Z",
     "iopub.status.busy": "2022-07-06T00:45:06.385065Z",
     "iopub.status.idle": "2022-07-06T00:45:06.401863Z",
     "shell.execute_reply": "2022-07-06T00:45:06.401240Z"
    },
    "papermill": {
     "duration": 0.059346,
     "end_time": "2022-07-06T00:45:06.402003",
     "exception": false,
     "start_time": "2022-07-06T00:45:06.342657",
     "status": "completed"
    },
    "tags": []
   },
   "outputs": [
    {
     "data": {
      "text/plain": [
       "((11982, 28, 28), (1984, 28, 28))"
      ]
     },
     "execution_count": 13,
     "metadata": {},
     "output_type": "execute_result"
    }
   ],
   "source": [
    "X_train.shape, X_test.shape"
   ]
  },
  {
   "cell_type": "markdown",
   "id": "5ccf3f85",
   "metadata": {
    "papermill": {
     "duration": 0.035881,
     "end_time": "2022-07-06T00:45:06.472380",
     "exception": false,
     "start_time": "2022-07-06T00:45:06.436499",
     "status": "completed"
    },
    "tags": []
   },
   "source": [
    "We reshape the data to flatten the image pixels into a set of features or co-variates:"
   ]
  },
  {
   "cell_type": "code",
   "execution_count": 14,
   "id": "5286a4a3",
   "metadata": {
    "execution": {
     "iopub.execute_input": "2022-07-06T00:45:06.549626Z",
     "iopub.status.busy": "2022-07-06T00:45:06.548874Z",
     "iopub.status.idle": "2022-07-06T00:45:06.564031Z",
     "shell.execute_reply": "2022-07-06T00:45:06.563428Z"
    },
    "papermill": {
     "duration": 0.056614,
     "end_time": "2022-07-06T00:45:06.564170",
     "exception": false,
     "start_time": "2022-07-06T00:45:06.507556",
     "status": "completed"
    },
    "tags": []
   },
   "outputs": [
    {
     "data": {
      "text/plain": [
       "((11982, 784), (1984, 784))"
      ]
     },
     "execution_count": 14,
     "metadata": {},
     "output_type": "execute_result"
    }
   ],
   "source": [
    "X_train = X_train.reshape(X_train.shape[0], -1)\n",
    "X_test = X_test.reshape(X_test.shape[0], -1)\n",
    "X_train.shape, X_test.shape"
   ]
  },
  {
   "cell_type": "code",
   "execution_count": 15,
   "id": "73c5f88a",
   "metadata": {
    "execution": {
     "iopub.execute_input": "2022-07-06T00:45:06.646036Z",
     "iopub.status.busy": "2022-07-06T00:45:06.645277Z",
     "iopub.status.idle": "2022-07-06T00:45:06.669684Z",
     "shell.execute_reply": "2022-07-06T00:45:06.670310Z"
    },
    "papermill": {
     "duration": 0.066969,
     "end_time": "2022-07-06T00:45:06.670464",
     "exception": false,
     "start_time": "2022-07-06T00:45:06.603495",
     "status": "completed"
    },
    "tags": []
   },
   "outputs": [],
   "source": [
    "#Impoting functions from 'Kudzu'\n",
    "from kudzu.model import Model\n",
    "from kudzu.train import Learner\n",
    "from kudzu.optim import GD\n",
    "from kudzu.data import Data, Sampler,Dataloader\n",
    "\n",
    "from kudzu.callbacks import AccCallback\n",
    "from kudzu.callbacks import ClfCallback\n",
    "\n",
    "from kudzu.loss import MSE\n",
    "\n",
    "from kudzu.layer import Sigmoid,Relu\n",
    "from kudzu.layer import Affine"
   ]
  },
  {
   "cell_type": "markdown",
   "id": "bc01172a",
   "metadata": {
    "papermill": {
     "duration": 0.035031,
     "end_time": "2022-07-06T00:45:06.741133",
     "exception": false,
     "start_time": "2022-07-06T00:45:06.706102",
     "status": "completed"
    },
    "tags": []
   },
   "source": [
    "### Let us create a `Config` class, to store important parameters. \n",
    "This class essentially plays the role of a dictionary."
   ]
  },
  {
   "cell_type": "code",
   "execution_count": 16,
   "id": "978281aa",
   "metadata": {
    "execution": {
     "iopub.execute_input": "2022-07-06T00:45:06.815852Z",
     "iopub.status.busy": "2022-07-06T00:45:06.815087Z",
     "iopub.status.idle": "2022-07-06T00:45:06.831385Z",
     "shell.execute_reply": "2022-07-06T00:45:06.830767Z"
    },
    "papermill": {
     "duration": 0.056694,
     "end_time": "2022-07-06T00:45:06.831532",
     "exception": false,
     "start_time": "2022-07-06T00:45:06.774838",
     "status": "completed"
    },
    "tags": []
   },
   "outputs": [],
   "source": [
    "class Config:\n",
    "    pass\n",
    "config = Config()\n",
    "config.lr = 0.001\n",
    "config.num_epochs = 250\n",
    "config.bs = 50"
   ]
  },
  {
   "cell_type": "markdown",
   "id": "1385fa59",
   "metadata": {
    "papermill": {
     "duration": 0.035166,
     "end_time": "2022-07-06T00:45:06.902853",
     "exception": false,
     "start_time": "2022-07-06T00:45:06.867687",
     "status": "completed"
    },
    "tags": []
   },
   "source": [
    "### Running Models with the Training data\n",
    "Details about the network layers:\n",
    "- A first affine layer has 784 inputs and does 100 affine transforms. These are followed by a Relu\n",
    "- A second affine layer has 100 inputs from the 100 activations of the past layer, and does 100 affine transforms. These are followed by a Relu\n",
    "- A third affine layer has 100 activations and does 2 affine transformations to create an embedding for visualization. There is no non-linearity here.\n",
    "- A final \"logistic regression\" which has an affine transform from 2 inputs to 1 output, which is squeezed through a sigmoid.\n"
   ]
  },
  {
   "cell_type": "code",
   "execution_count": 17,
   "id": "2b9c66db",
   "metadata": {
    "execution": {
     "iopub.execute_input": "2022-07-06T00:45:06.987518Z",
     "iopub.status.busy": "2022-07-06T00:45:06.984242Z",
     "iopub.status.idle": "2022-07-06T00:45:06.994141Z",
     "shell.execute_reply": "2022-07-06T00:45:06.994788Z"
    },
    "papermill": {
     "duration": 0.057356,
     "end_time": "2022-07-06T00:45:06.994948",
     "exception": false,
     "start_time": "2022-07-06T00:45:06.937592",
     "status": "completed"
    },
    "tags": []
   },
   "outputs": [],
   "source": [
    "data = Data(X_train, y_train.reshape(-1,1))\n",
    "sampler = Sampler(data, config.bs, shuffle=True)\n",
    "\n",
    "dl = Dataloader(data, sampler)\n",
    "\n",
    "opt = GD(config.lr)\n",
    "loss = MSE()"
   ]
  },
  {
   "cell_type": "code",
   "execution_count": 18,
   "id": "b275e4c2",
   "metadata": {
    "execution": {
     "iopub.execute_input": "2022-07-06T00:45:07.070259Z",
     "iopub.status.busy": "2022-07-06T00:45:07.069486Z",
     "iopub.status.idle": "2022-07-06T00:45:07.083783Z",
     "shell.execute_reply": "2022-07-06T00:45:07.084624Z"
    },
    "papermill": {
     "duration": 0.054694,
     "end_time": "2022-07-06T00:45:07.084815",
     "exception": false,
     "start_time": "2022-07-06T00:45:07.030121",
     "status": "completed"
    },
    "tags": []
   },
   "outputs": [],
   "source": [
    "training_data_x = X_train\n",
    "testing_data_x = X_test\n",
    "training_data_y = y_train.reshape(-1,1)\n",
    "testing_data_y = y_test.reshape(-1,1)"
   ]
  },
  {
   "cell_type": "code",
   "execution_count": 19,
   "id": "76951160",
   "metadata": {
    "execution": {
     "iopub.execute_input": "2022-07-06T00:45:07.171760Z",
     "iopub.status.busy": "2022-07-06T00:45:07.163664Z",
     "iopub.status.idle": "2022-07-06T00:45:07.181489Z",
     "shell.execute_reply": "2022-07-06T00:45:07.182101Z"
    },
    "papermill": {
     "duration": 0.060936,
     "end_time": "2022-07-06T00:45:07.182267",
     "exception": false,
     "start_time": "2022-07-06T00:45:07.121331",
     "status": "completed"
    },
    "tags": []
   },
   "outputs": [
    {
     "name": "stdout",
     "output_type": "stream",
     "text": [
      "xavier\n",
      "xavier\n",
      "xavier\n",
      "xavier\n",
      "xavier\n"
     ]
    }
   ],
   "source": [
    "layers = [Affine(\"first\", 784, 100), Relu(\"first\"), Affine(\"second\", 100, 100), Relu(\"second\"), Affine(\"third\", 100, 2), Affine(\"last\", 2, 1), Sigmoid(\"last\")]\n",
    "model_nn = Model(layers)\n",
    "model_lr = Model([Affine(\"logits\", 784, 1), Sigmoid(\"sigmoid\")])"
   ]
  },
  {
   "cell_type": "code",
   "execution_count": 20,
   "id": "6eede77a",
   "metadata": {
    "execution": {
     "iopub.execute_input": "2022-07-06T00:45:07.263643Z",
     "iopub.status.busy": "2022-07-06T00:45:07.262898Z",
     "iopub.status.idle": "2022-07-06T00:45:07.274734Z",
     "shell.execute_reply": "2022-07-06T00:45:07.275578Z"
    },
    "papermill": {
     "duration": 0.056821,
     "end_time": "2022-07-06T00:45:07.275743",
     "exception": false,
     "start_time": "2022-07-06T00:45:07.218922",
     "status": "completed"
    },
    "tags": []
   },
   "outputs": [],
   "source": [
    "nn_learner = Learner(loss, model_nn, opt, config.num_epochs)\n",
    "acc_nn = ClfCallback(nn_learner, config.bs, training_data_x , testing_data_x, training_data_y, testing_data_y)\n",
    "nn_learner.set_callbacks([acc_nn])"
   ]
  },
  {
   "cell_type": "code",
   "execution_count": 21,
   "id": "877b6cc7",
   "metadata": {
    "execution": {
     "iopub.execute_input": "2022-07-06T00:45:07.361718Z",
     "iopub.status.busy": "2022-07-06T00:45:07.360981Z",
     "iopub.status.idle": "2022-07-06T00:45:07.377288Z",
     "shell.execute_reply": "2022-07-06T00:45:07.376653Z"
    },
    "papermill": {
     "duration": 0.065197,
     "end_time": "2022-07-06T00:45:07.377433",
     "exception": false,
     "start_time": "2022-07-06T00:45:07.312236",
     "status": "completed"
    },
    "tags": []
   },
   "outputs": [],
   "source": [
    "lr_learner = Learner(loss, model_lr, opt, config.num_epochs)\n",
    "acc_lr = ClfCallback(lr_learner, config.bs, training_data_x , testing_data_x, training_data_y, testing_data_y)\n",
    "lr_learner.set_callbacks([acc_lr])"
   ]
  },
  {
   "cell_type": "code",
   "execution_count": 22,
   "id": "d9b133c3",
   "metadata": {
    "execution": {
     "iopub.execute_input": "2022-07-06T00:45:07.470309Z",
     "iopub.status.busy": "2022-07-06T00:45:07.467207Z",
     "iopub.status.idle": "2022-07-06T00:47:19.522219Z",
     "shell.execute_reply": "2022-07-06T00:47:19.523175Z"
    },
    "papermill": {
     "duration": 132.107278,
     "end_time": "2022-07-06T00:47:19.523359",
     "exception": false,
     "start_time": "2022-07-06T00:45:07.416081",
     "status": "completed"
    },
    "tags": []
   },
   "outputs": [
    {
     "name": "stdout",
     "output_type": "stream",
     "text": [
      "Epoch 0, Loss 0.2247\n",
      "Training Accuracy: 0.7660, Testing Accuracy: 0.7727\n",
      "\n"
     ]
    },
    {
     "name": "stdout",
     "output_type": "stream",
     "text": [
      "Epoch 10, Loss 0.0615\n",
      "Training Accuracy: 0.9425, Testing Accuracy: 0.9496\n",
      "\n"
     ]
    },
    {
     "name": "stdout",
     "output_type": "stream",
     "text": [
      "Epoch 20, Loss 0.0408\n",
      "Training Accuracy: 0.9574, Testing Accuracy: 0.9657\n",
      "\n"
     ]
    },
    {
     "name": "stdout",
     "output_type": "stream",
     "text": [
      "Epoch 30, Loss 0.0341\n",
      "Training Accuracy: 0.9634, Testing Accuracy: 0.9698\n",
      "\n"
     ]
    },
    {
     "name": "stdout",
     "output_type": "stream",
     "text": [
      "Epoch 40, Loss 0.0306\n",
      "Training Accuracy: 0.9655, Testing Accuracy: 0.9728\n",
      "\n"
     ]
    },
    {
     "name": "stdout",
     "output_type": "stream",
     "text": [
      "Epoch 50, Loss 0.0283\n",
      "Training Accuracy: 0.9670, Testing Accuracy: 0.9733\n",
      "\n"
     ]
    },
    {
     "name": "stdout",
     "output_type": "stream",
     "text": [
      "Epoch 60, Loss 0.0266\n",
      "Training Accuracy: 0.9687, Testing Accuracy: 0.9743\n",
      "\n"
     ]
    },
    {
     "name": "stdout",
     "output_type": "stream",
     "text": [
      "Epoch 70, Loss 0.0252\n",
      "Training Accuracy: 0.9698, Testing Accuracy: 0.9748\n",
      "\n"
     ]
    },
    {
     "name": "stdout",
     "output_type": "stream",
     "text": [
      "Epoch 80, Loss 0.024\n",
      "Training Accuracy: 0.9713, Testing Accuracy: 0.9748\n",
      "\n"
     ]
    },
    {
     "name": "stdout",
     "output_type": "stream",
     "text": [
      "Epoch 90, Loss 0.0231\n",
      "Training Accuracy: 0.9728, Testing Accuracy: 0.9753\n",
      "\n"
     ]
    },
    {
     "name": "stdout",
     "output_type": "stream",
     "text": [
      "Epoch 100, Loss 0.0222\n",
      "Training Accuracy: 0.9737, Testing Accuracy: 0.9763\n",
      "\n"
     ]
    },
    {
     "name": "stdout",
     "output_type": "stream",
     "text": [
      "Epoch 110, Loss 0.0214\n",
      "Training Accuracy: 0.9752, Testing Accuracy: 0.9758\n",
      "\n"
     ]
    },
    {
     "name": "stdout",
     "output_type": "stream",
     "text": [
      "Epoch 120, Loss 0.0206\n",
      "Training Accuracy: 0.9764, Testing Accuracy: 0.9763\n",
      "\n"
     ]
    },
    {
     "name": "stdout",
     "output_type": "stream",
     "text": [
      "Epoch 130, Loss 0.02\n",
      "Training Accuracy: 0.9774, Testing Accuracy: 0.9768\n",
      "\n"
     ]
    },
    {
     "name": "stdout",
     "output_type": "stream",
     "text": [
      "Epoch 140, Loss 0.0193\n",
      "Training Accuracy: 0.9786, Testing Accuracy: 0.9768\n",
      "\n"
     ]
    },
    {
     "name": "stdout",
     "output_type": "stream",
     "text": [
      "Epoch 150, Loss 0.0188\n",
      "Training Accuracy: 0.9793, Testing Accuracy: 0.9778\n",
      "\n"
     ]
    },
    {
     "name": "stdout",
     "output_type": "stream",
     "text": [
      "Epoch 160, Loss 0.0182\n",
      "Training Accuracy: 0.9801, Testing Accuracy: 0.9783\n",
      "\n"
     ]
    },
    {
     "name": "stdout",
     "output_type": "stream",
     "text": [
      "Epoch 170, Loss 0.0177\n",
      "Training Accuracy: 0.9808, Testing Accuracy: 0.9788\n",
      "\n"
     ]
    },
    {
     "name": "stdout",
     "output_type": "stream",
     "text": [
      "Epoch 180, Loss 0.0172\n",
      "Training Accuracy: 0.9811, Testing Accuracy: 0.9798\n",
      "\n"
     ]
    },
    {
     "name": "stdout",
     "output_type": "stream",
     "text": [
      "Epoch 190, Loss 0.0167\n",
      "Training Accuracy: 0.9816, Testing Accuracy: 0.9793\n",
      "\n"
     ]
    },
    {
     "name": "stdout",
     "output_type": "stream",
     "text": [
      "Epoch 200, Loss 0.0163\n",
      "Training Accuracy: 0.9819, Testing Accuracy: 0.9788\n",
      "\n"
     ]
    },
    {
     "name": "stdout",
     "output_type": "stream",
     "text": [
      "Epoch 210, Loss 0.0158\n",
      "Training Accuracy: 0.9826, Testing Accuracy: 0.9788\n",
      "\n"
     ]
    },
    {
     "name": "stdout",
     "output_type": "stream",
     "text": [
      "Epoch 220, Loss 0.0154\n",
      "Training Accuracy: 0.9832, Testing Accuracy: 0.9793\n",
      "\n"
     ]
    },
    {
     "name": "stdout",
     "output_type": "stream",
     "text": [
      "Epoch 230, Loss 0.015\n",
      "Training Accuracy: 0.9841, Testing Accuracy: 0.9793\n",
      "\n"
     ]
    },
    {
     "name": "stdout",
     "output_type": "stream",
     "text": [
      "Epoch 240, Loss 0.0145\n",
      "Training Accuracy: 0.9845, Testing Accuracy: 0.9798\n",
      "\n"
     ]
    },
    {
     "data": {
      "text/plain": [
       "0.027792243253670725"
      ]
     },
     "execution_count": 22,
     "metadata": {},
     "output_type": "execute_result"
    }
   ],
   "source": [
    "nn_learner.train_loop(dl)"
   ]
  },
  {
   "cell_type": "code",
   "execution_count": 23,
   "id": "e0163366",
   "metadata": {
    "execution": {
     "iopub.execute_input": "2022-07-06T00:47:19.628681Z",
     "iopub.status.busy": "2022-07-06T00:47:19.627907Z",
     "iopub.status.idle": "2022-07-06T00:47:39.695884Z",
     "shell.execute_reply": "2022-07-06T00:47:39.696620Z"
    },
    "papermill": {
     "duration": 20.128164,
     "end_time": "2022-07-06T00:47:39.696793",
     "exception": false,
     "start_time": "2022-07-06T00:47:19.568629",
     "status": "completed"
    },
    "tags": []
   },
   "outputs": [
    {
     "name": "stdout",
     "output_type": "stream",
     "text": [
      "Epoch 0, Loss 0.2387\n",
      "Training Accuracy: 0.6950, Testing Accuracy: 0.6764\n",
      "\n"
     ]
    },
    {
     "name": "stdout",
     "output_type": "stream",
     "text": [
      "Epoch 10, Loss 0.1041\n",
      "Training Accuracy: 0.9024, Testing Accuracy: 0.9128\n",
      "\n"
     ]
    },
    {
     "name": "stdout",
     "output_type": "stream",
     "text": [
      "Epoch 20, Loss 0.0801\n",
      "Training Accuracy: 0.9229, Testing Accuracy: 0.9375\n",
      "\n"
     ]
    },
    {
     "name": "stdout",
     "output_type": "stream",
     "text": [
      "Epoch 30, Loss 0.0689\n",
      "Training Accuracy: 0.9335, Testing Accuracy: 0.9461\n",
      "\n"
     ]
    },
    {
     "name": "stdout",
     "output_type": "stream",
     "text": [
      "Epoch 40, Loss 0.0622\n",
      "Training Accuracy: 0.9400, Testing Accuracy: 0.9511\n",
      "\n"
     ]
    },
    {
     "name": "stdout",
     "output_type": "stream",
     "text": [
      "Epoch 50, Loss 0.0576\n",
      "Training Accuracy: 0.9430, Testing Accuracy: 0.9567\n",
      "\n"
     ]
    },
    {
     "name": "stdout",
     "output_type": "stream",
     "text": [
      "Epoch 60, Loss 0.0542\n",
      "Training Accuracy: 0.9456, Testing Accuracy: 0.9587\n",
      "\n"
     ]
    },
    {
     "name": "stdout",
     "output_type": "stream",
     "text": [
      "Epoch 70, Loss 0.0516\n",
      "Training Accuracy: 0.9473, Testing Accuracy: 0.9597\n",
      "\n"
     ]
    },
    {
     "name": "stdout",
     "output_type": "stream",
     "text": [
      "Epoch 80, Loss 0.0495\n",
      "Training Accuracy: 0.9490, Testing Accuracy: 0.9632\n",
      "\n"
     ]
    },
    {
     "name": "stdout",
     "output_type": "stream",
     "text": [
      "Epoch 90, Loss 0.0478\n",
      "Training Accuracy: 0.9508, Testing Accuracy: 0.9642\n",
      "\n"
     ]
    },
    {
     "name": "stdout",
     "output_type": "stream",
     "text": [
      "Epoch 100, Loss 0.0463\n",
      "Training Accuracy: 0.9518, Testing Accuracy: 0.9647\n",
      "\n"
     ]
    },
    {
     "name": "stdout",
     "output_type": "stream",
     "text": [
      "Epoch 110, Loss 0.0451\n",
      "Training Accuracy: 0.9528, Testing Accuracy: 0.9652\n",
      "\n"
     ]
    },
    {
     "name": "stdout",
     "output_type": "stream",
     "text": [
      "Epoch 120, Loss 0.044\n",
      "Training Accuracy: 0.9539, Testing Accuracy: 0.9652\n",
      "\n"
     ]
    },
    {
     "name": "stdout",
     "output_type": "stream",
     "text": [
      "Epoch 130, Loss 0.043\n",
      "Training Accuracy: 0.9550, Testing Accuracy: 0.9662\n",
      "\n"
     ]
    },
    {
     "name": "stdout",
     "output_type": "stream",
     "text": [
      "Epoch 140, Loss 0.0422\n",
      "Training Accuracy: 0.9558, Testing Accuracy: 0.9662\n",
      "\n"
     ]
    },
    {
     "name": "stdout",
     "output_type": "stream",
     "text": [
      "Epoch 150, Loss 0.0414\n",
      "Training Accuracy: 0.9569, Testing Accuracy: 0.9657\n",
      "\n"
     ]
    },
    {
     "name": "stdout",
     "output_type": "stream",
     "text": [
      "Epoch 160, Loss 0.0407\n",
      "Training Accuracy: 0.9575, Testing Accuracy: 0.9657\n",
      "\n"
     ]
    },
    {
     "name": "stdout",
     "output_type": "stream",
     "text": [
      "Epoch 170, Loss 0.0401\n",
      "Training Accuracy: 0.9578, Testing Accuracy: 0.9667\n",
      "\n"
     ]
    },
    {
     "name": "stdout",
     "output_type": "stream",
     "text": [
      "Epoch 180, Loss 0.0395\n",
      "Training Accuracy: 0.9583, Testing Accuracy: 0.9667\n",
      "\n"
     ]
    },
    {
     "name": "stdout",
     "output_type": "stream",
     "text": [
      "Epoch 190, Loss 0.039\n",
      "Training Accuracy: 0.9593, Testing Accuracy: 0.9662\n",
      "\n"
     ]
    },
    {
     "name": "stdout",
     "output_type": "stream",
     "text": [
      "Epoch 200, Loss 0.0385\n",
      "Training Accuracy: 0.9598, Testing Accuracy: 0.9662\n",
      "\n"
     ]
    },
    {
     "name": "stdout",
     "output_type": "stream",
     "text": [
      "Epoch 210, Loss 0.0381\n",
      "Training Accuracy: 0.9601, Testing Accuracy: 0.9667\n",
      "\n"
     ]
    },
    {
     "name": "stdout",
     "output_type": "stream",
     "text": [
      "Epoch 220, Loss 0.0377\n",
      "Training Accuracy: 0.9606, Testing Accuracy: 0.9672\n",
      "\n"
     ]
    },
    {
     "name": "stdout",
     "output_type": "stream",
     "text": [
      "Epoch 230, Loss 0.0373\n",
      "Training Accuracy: 0.9611, Testing Accuracy: 0.9672\n",
      "\n"
     ]
    },
    {
     "name": "stdout",
     "output_type": "stream",
     "text": [
      "Epoch 240, Loss 0.0369\n",
      "Training Accuracy: 0.9614, Testing Accuracy: 0.9672\n",
      "\n"
     ]
    },
    {
     "data": {
      "text/plain": [
       "0.03552879451448995"
      ]
     },
     "execution_count": 23,
     "metadata": {},
     "output_type": "execute_result"
    }
   ],
   "source": [
    "lr_learner.train_loop(dl)"
   ]
  },
  {
   "cell_type": "code",
   "execution_count": 24,
   "id": "ca410940",
   "metadata": {
    "execution": {
     "iopub.execute_input": "2022-07-06T00:47:39.816229Z",
     "iopub.status.busy": "2022-07-06T00:47:39.813524Z",
     "iopub.status.idle": "2022-07-06T00:47:40.130753Z",
     "shell.execute_reply": "2022-07-06T00:47:40.129762Z"
    },
    "papermill": {
     "duration": 0.378131,
     "end_time": "2022-07-06T00:47:40.130898",
     "exception": false,
     "start_time": "2022-07-06T00:47:39.752767",
     "status": "completed"
    },
    "tags": []
   },
   "outputs": [
    {
     "data": {
      "text/plain": [
       "<matplotlib.legend.Legend at 0x7fce74cbfc50>"
      ]
     },
     "execution_count": 24,
     "metadata": {},
     "output_type": "execute_result"
    },
    {
     "data": {
      "image/png": "[encoded data removed]",
      "text/plain": [
       "<Figure size 1080x720 with 1 Axes>"
      ]
     },
     "metadata": {
      "needs_background": "light"
     },
     "output_type": "display_data"
    }
   ],
   "source": [
    "#comparing the results of NN and LR\n",
    "plt.figure(figsize=(15,10))\n",
    "\n",
    "# Neural Network plots\n",
    "plt.plot(acc_nn.accuracies, 'r-', label = \"Training Accuracies - NN\")\n",
    "plt.plot(acc_nn.test_accuracies, 'g-', label = \"Testing Accuracies - NN\")\n",
    "\n",
    "# Logistic Regression plots\n",
    "plt.plot(acc_lr.accuracies, 'k-', label = \"Training Accuracies - LR\")\n",
    "plt.plot(acc_lr.test_accuracies, 'b-', label = \"Testing Accuracies - LR\")\n",
    "plt.legend()"
   ]
  },
  {
   "cell_type": "markdown",
   "id": "80dfb35c",
   "metadata": {
    "papermill": {
     "duration": 0.054966,
     "end_time": "2022-07-06T00:47:40.239893",
     "exception": false,
     "start_time": "2022-07-06T00:47:40.184927",
     "status": "completed"
    },
    "tags": []
   },
   "source": [
    "#### Plotting the outputs of this layer of the NN.\n"
   ]
  },
  {
   "cell_type": "code",
   "execution_count": 25,
   "id": "45eb2ff5",
   "metadata": {
    "execution": {
     "iopub.execute_input": "2022-07-06T00:47:40.359706Z",
     "iopub.status.busy": "2022-07-06T00:47:40.358831Z",
     "iopub.status.idle": "2022-07-06T00:47:40.391813Z",
     "shell.execute_reply": "2022-07-06T00:47:40.391151Z"
    },
    "papermill": {
     "duration": 0.095133,
     "end_time": "2022-07-06T00:47:40.391963",
     "exception": false,
     "start_time": "2022-07-06T00:47:40.296830",
     "status": "completed"
    },
    "tags": []
   },
   "outputs": [],
   "source": [
    "new_model = Model(layers[:-2])\n",
    "testing_plot = new_model(testing_data_x)"
   ]
  },
  {
   "cell_type": "code",
   "execution_count": 26,
   "id": "4c0a5485",
   "metadata": {
    "execution": {
     "iopub.execute_input": "2022-07-06T00:47:40.508464Z",
     "iopub.status.busy": "2022-07-06T00:47:40.507718Z",
     "iopub.status.idle": "2022-07-06T00:47:40.784058Z",
     "shell.execute_reply": "2022-07-06T00:47:40.784651Z"
    },
    "papermill": {
     "duration": 0.339655,
     "end_time": "2022-07-06T00:47:40.784820",
     "exception": false,
     "start_time": "2022-07-06T00:47:40.445165",
     "status": "completed"
    },
    "tags": []
   },
   "outputs": [
    {
     "data": {
      "text/plain": [
       "Text(0.5, 1.0, 'Outputs')"
      ]
     },
     "execution_count": 26,
     "metadata": {},
     "output_type": "execute_result"
    },
    {
     "data": {
      "image/png": "[encoded data removed]",
      "text/plain": [
       "<Figure size 576x504 with 1 Axes>"
      ]
     },
     "metadata": {
      "needs_background": "light"
     },
     "output_type": "display_data"
    }
   ],
   "source": [
    "# Plotting the scatter plot of points and color coding by class\n",
    "plt.figure(figsize=(8,7))\n",
    "plt.scatter(testing_plot[:,0], testing_plot[:,1], alpha = 0.1, c = y_test.ravel());\n",
    "plt.title('Outputs')"
   ]
  },
  {
   "cell_type": "markdown",
   "id": "a74fcf8f",
   "metadata": {
    "papermill": {
     "duration": 0.091586,
     "end_time": "2022-07-06T00:47:40.932577",
     "exception": false,
     "start_time": "2022-07-06T00:47:40.840991",
     "status": "completed"
    },
    "tags": []
   },
   "source": [
    "Probability contours"
   ]
  },
  {
   "cell_type": "code",
   "execution_count": 27,
   "id": "d0afc8e3",
   "metadata": {
    "execution": {
     "iopub.execute_input": "2022-07-06T00:47:41.057407Z",
     "iopub.status.busy": "2022-07-06T00:47:41.056640Z",
     "iopub.status.idle": "2022-07-06T00:47:41.068406Z",
     "shell.execute_reply": "2022-07-06T00:47:41.069031Z"
    },
    "papermill": {
     "duration": 0.078161,
     "end_time": "2022-07-06T00:47:41.069204",
     "exception": false,
     "start_time": "2022-07-06T00:47:40.991043",
     "status": "completed"
    },
    "tags": []
   },
   "outputs": [],
   "source": [
    "model_prob = Model(layers[-2:]) "
   ]
  },
  {
   "cell_type": "code",
   "execution_count": 28,
   "id": "9b96e238",
   "metadata": {
    "execution": {
     "iopub.execute_input": "2022-07-06T00:47:41.194935Z",
     "iopub.status.busy": "2022-07-06T00:47:41.193681Z",
     "iopub.status.idle": "2022-07-06T00:47:41.211209Z",
     "shell.execute_reply": "2022-07-06T00:47:41.210601Z"
    },
    "papermill": {
     "duration": 0.083162,
     "end_time": "2022-07-06T00:47:41.211360",
     "exception": false,
     "start_time": "2022-07-06T00:47:41.128198",
     "status": "completed"
    },
    "tags": []
   },
   "outputs": [],
   "source": [
    "#creating the x and y ranges according to the above generated plot.\n",
    "x_range = np.linspace(-4, 1, 100) \n",
    "y_range = np.linspace(-6, 6, 100) \n",
    "x_grid, y_grid = np.meshgrid(x_range, y_range) # x_grid and y_grig are of size 100 X 100\n",
    "\n",
    "# converting x_grid and y_grid to continuous arrays\n",
    "x_gridflat = np.ravel(x_grid)\n",
    "y_gridflat = np.ravel(y_grid)\n",
    "\n",
    "# The last layer of the current model takes two columns as input. Hence transpose of np.vstack() is required.\n",
    "X = np.vstack((x_gridflat, y_gridflat)).T\n",
    "\n",
    "prob_contour = model_prob(X).reshape(100,100) "
   ]
  },
  {
   "cell_type": "code",
   "execution_count": 29,
   "id": "da72499a",
   "metadata": {
    "execution": {
     "iopub.execute_input": "2022-07-06T00:47:41.340175Z",
     "iopub.status.busy": "2022-07-06T00:47:41.339404Z",
     "iopub.status.idle": "2022-07-06T00:47:41.719684Z",
     "shell.execute_reply": "2022-07-06T00:47:41.718986Z"
    },
    "papermill": {
     "duration": 0.452452,
     "end_time": "2022-07-06T00:47:41.719830",
     "exception": false,
     "start_time": "2022-07-06T00:47:41.267378",
     "status": "completed"
    },
    "tags": []
   },
   "outputs": [
    {
     "data": {
      "image/png": "[encoded data removed]",
      "text/plain": [
       "<Figure size 720x648 with 1 Axes>"
      ]
     },
     "metadata": {
      "needs_background": "light"
     },
     "output_type": "display_data"
    }
   ],
   "source": [
    "plt.figure(figsize=(10,9))\n",
    "plt.scatter(testing_plot[:,0], testing_plot[:,1], alpha = 0.1, c = y_test.ravel())\n",
    "contours = plt.contour(x_grid,y_grid,prob_contour)\n",
    "plt.title('Probability Contours')\n",
    "plt.clabel(contours, inline = True );"
   ]
  },
  {
   "cell_type": "code",
   "execution_count": null,
   "id": "e81b4ac7",
   "metadata": {
    "papermill": {
     "duration": 0.0656,
     "end_time": "2022-07-06T00:47:41.854947",
     "exception": false,
     "start_time": "2022-07-06T00:47:41.789347",
     "status": "completed"
    },
    "tags": []
   },
   "outputs": [],
   "source": []
  }
 ],
 "metadata": {
  "kernelspec": {
   "display_name": "Python 3",
   "language": "python",
   "name": "python3"
  },
  "language_info": {
   "codemirror_mode": {
    "name": "ipython",
    "version": 3
   },
   "file_extension": ".py",
   "mimetype": "text/x-python",
   "name": "python",
   "nbconvert_exporter": "python",
   "pygments_lexer": "ipython3",
   "version": "3.6.15"
  },
  "papermill": {
   "default_parameters": {},
   "duration": 162.791741,
   "end_time": "2022-07-06T00:47:42.452390",
   "environment_variables": {},
   "exception": null,
   "input_path": "2020-08-11-part2.ipynb",
   "output_path": "2020-08-11-part2.ipynb",
   "parameters": {},
   "start_time": "2022-07-06T00:44:59.660649",
   "version": "2.3.3"
  }
 },
 "nbformat": 4,
 "nbformat_minor": 5
}