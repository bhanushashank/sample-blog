{
 "cells": [
  {
   "cell_type": "markdown",
   "id": "98380cd3",
   "metadata": {
    "papermill": {
     "duration": 0.033847,
     "end_time": "2022-01-12T10:09:47.913393",
     "exception": false,
     "start_time": "2022-01-12T10:09:47.879546",
     "status": "completed"
    },
    "tags": []
   },
   "source": [
    "# Distinguish Your Own Digits (DYOD)"
   ]
  },
  {
   "cell_type": "markdown",
   "id": "ef31240d",
   "metadata": {
    "papermill": {
     "duration": 0.025117,
     "end_time": "2022-01-12T10:09:47.964556",
     "exception": false,
     "start_time": "2022-01-12T10:09:47.939439",
     "status": "completed"
    },
    "tags": []
   },
   "source": [
    "You are going to write a classifier that distinguishes between the number 3 and number 8."
   ]
  },
  {
   "cell_type": "code",
   "execution_count": 1,
   "id": "b15c8646",
   "metadata": {
    "execution": {
     "iopub.execute_input": "2022-01-12T10:09:48.029901Z",
     "iopub.status.busy": "2022-01-12T10:09:48.029269Z",
     "iopub.status.idle": "2022-01-12T10:09:48.040757Z",
     "shell.execute_reply": "2022-01-12T10:09:48.041247Z"
    },
    "papermill": {
     "duration": 0.051477,
     "end_time": "2022-01-12T10:09:48.041426",
     "exception": false,
     "start_time": "2022-01-12T10:09:47.989949",
     "status": "completed"
    },
    "tags": []
   },
   "outputs": [],
   "source": [
    "%load_ext autoreload\n",
    "%autoreload 2"
   ]
  },
  {
   "cell_type": "code",
   "execution_count": 2,
   "id": "22ef38dc",
   "metadata": {
    "execution": {
     "iopub.execute_input": "2022-01-12T10:09:48.100310Z",
     "iopub.status.busy": "2022-01-12T10:09:48.099755Z",
     "iopub.status.idle": "2022-01-12T10:09:48.750110Z",
     "shell.execute_reply": "2022-01-12T10:09:48.750992Z"
    },
    "papermill": {
     "duration": 0.683303,
     "end_time": "2022-01-12T10:09:48.751240",
     "exception": false,
     "start_time": "2022-01-12T10:09:48.067937",
     "status": "completed"
    },
    "tags": []
   },
   "outputs": [],
   "source": [
    "%matplotlib inline\n",
    "import numpy as np\n",
    "import matplotlib.pyplot as plt\n",
    "import pandas as pd"
   ]
  },
  {
   "cell_type": "markdown",
   "id": "ba036198",
   "metadata": {
    "papermill": {
     "duration": 0.0271,
     "end_time": "2022-01-12T10:09:48.804767",
     "exception": false,
     "start_time": "2022-01-12T10:09:48.777667",
     "status": "completed"
    },
    "tags": []
   },
   "source": [
    "From the command line run `pip install mnist`. This is a library that will help you bring down the mnist dataset. If you run this from a notebook, you need to put  `!pip install mnist` in a cell by itself."
   ]
  },
  {
   "cell_type": "code",
   "execution_count": 3,
   "id": "bb6ad8a1",
   "metadata": {
    "execution": {
     "iopub.execute_input": "2022-01-12T10:09:48.860004Z",
     "iopub.status.busy": "2022-01-12T10:09:48.859447Z",
     "iopub.status.idle": "2022-01-12T10:09:50.711899Z",
     "shell.execute_reply": "2022-01-12T10:09:50.710624Z"
    },
    "papermill": {
     "duration": 1.881712,
     "end_time": "2022-01-12T10:09:50.712041",
     "exception": false,
     "start_time": "2022-01-12T10:09:48.830329",
     "status": "completed"
    },
    "tags": []
   },
   "outputs": [
    {
     "name": "stdout",
     "output_type": "stream",
     "text": [
      "Collecting mnist\r\n"
     ]
    },
    {
     "name": "stdout",
     "output_type": "stream",
     "text": [
      "  Downloading mnist-0.2.2-py2.py3-none-any.whl (3.5 kB)\r\n",
      "Requirement already satisfied: numpy in /opt/hostedtoolcache/Python/3.6.15/x64/lib/python3.6/site-packages (from mnist) (1.19.5)\r\n"
     ]
    },
    {
     "name": "stdout",
     "output_type": "stream",
     "text": [
      "Installing collected packages: mnist\r\n"
     ]
    },
    {
     "name": "stdout",
     "output_type": "stream",
     "text": [
      "Successfully installed mnist-0.2.2\r\n"
     ]
    }
   ],
   "source": [
    "!pip install mnist"
   ]
  },
  {
   "cell_type": "markdown",
   "id": "69df9c9a",
   "metadata": {
    "papermill": {
     "duration": 0.026761,
     "end_time": "2022-01-12T10:09:50.765772",
     "exception": false,
     "start_time": "2022-01-12T10:09:50.739011",
     "status": "completed"
    },
    "tags": []
   },
   "source": [
    "## Preparing the Data"
   ]
  },
  {
   "cell_type": "code",
   "execution_count": 4,
   "id": "7f69d806",
   "metadata": {
    "execution": {
     "iopub.execute_input": "2022-01-12T10:09:50.829741Z",
     "iopub.status.busy": "2022-01-12T10:09:50.825058Z",
     "iopub.status.idle": "2022-01-12T10:09:50.841976Z",
     "shell.execute_reply": "2022-01-12T10:09:50.841478Z"
    },
    "papermill": {
     "duration": 0.050084,
     "end_time": "2022-01-12T10:09:50.842089",
     "exception": false,
     "start_time": "2022-01-12T10:09:50.792005",
     "status": "completed"
    },
    "tags": []
   },
   "outputs": [],
   "source": [
    "import mnist"
   ]
  },
  {
   "cell_type": "code",
   "execution_count": 5,
   "id": "a411e44f",
   "metadata": {
    "execution": {
     "iopub.execute_input": "2022-01-12T10:09:50.899528Z",
     "iopub.status.busy": "2022-01-12T10:09:50.898957Z",
     "iopub.status.idle": "2022-01-12T10:09:51.663379Z",
     "shell.execute_reply": "2022-01-12T10:09:51.662824Z"
    },
    "papermill": {
     "duration": 0.794706,
     "end_time": "2022-01-12T10:09:51.663506",
     "exception": false,
     "start_time": "2022-01-12T10:09:50.868800",
     "status": "completed"
    },
    "tags": []
   },
   "outputs": [],
   "source": [
    "train_images = mnist.train_images()\n",
    "train_labels = mnist.train_labels()"
   ]
  },
  {
   "cell_type": "code",
   "execution_count": 6,
   "id": "dceab3a5",
   "metadata": {
    "execution": {
     "iopub.execute_input": "2022-01-12T10:09:51.721335Z",
     "iopub.status.busy": "2022-01-12T10:09:51.720599Z",
     "iopub.status.idle": "2022-01-12T10:09:51.737940Z",
     "shell.execute_reply": "2022-01-12T10:09:51.738353Z"
    },
    "papermill": {
     "duration": 0.048719,
     "end_time": "2022-01-12T10:09:51.738487",
     "exception": false,
     "start_time": "2022-01-12T10:09:51.689768",
     "status": "completed"
    },
    "tags": []
   },
   "outputs": [
    {
     "data": {
      "text/plain": [
       "((60000, 28, 28), (60000,))"
      ]
     },
     "execution_count": 6,
     "metadata": {},
     "output_type": "execute_result"
    }
   ],
   "source": [
    "train_images.shape, train_labels.shape"
   ]
  },
  {
   "cell_type": "code",
   "execution_count": 7,
   "id": "f50dc2bb",
   "metadata": {
    "execution": {
     "iopub.execute_input": "2022-01-12T10:09:51.795894Z",
     "iopub.status.busy": "2022-01-12T10:09:51.794717Z",
     "iopub.status.idle": "2022-01-12T10:09:52.130865Z",
     "shell.execute_reply": "2022-01-12T10:09:52.129756Z"
    },
    "papermill": {
     "duration": 0.36628,
     "end_time": "2022-01-12T10:09:52.131020",
     "exception": false,
     "start_time": "2022-01-12T10:09:51.764740",
     "status": "completed"
    },
    "tags": []
   },
   "outputs": [],
   "source": [
    "test_images = mnist.test_images()\n",
    "test_labels = mnist.test_labels()"
   ]
  },
  {
   "cell_type": "code",
   "execution_count": 8,
   "id": "fc38cf1b",
   "metadata": {
    "execution": {
     "iopub.execute_input": "2022-01-12T10:09:52.190551Z",
     "iopub.status.busy": "2022-01-12T10:09:52.189994Z",
     "iopub.status.idle": "2022-01-12T10:09:52.205266Z",
     "shell.execute_reply": "2022-01-12T10:09:52.204131Z"
    },
    "papermill": {
     "duration": 0.04583,
     "end_time": "2022-01-12T10:09:52.205399",
     "exception": false,
     "start_time": "2022-01-12T10:09:52.159569",
     "status": "completed"
    },
    "tags": []
   },
   "outputs": [
    {
     "data": {
      "text/plain": [
       "((10000, 28, 28), (10000,))"
      ]
     },
     "execution_count": 8,
     "metadata": {},
     "output_type": "execute_result"
    }
   ],
   "source": [
    "test_images.shape, test_labels.shape"
   ]
  },
  {
   "cell_type": "code",
   "execution_count": 9,
   "id": "f9ed8fe0",
   "metadata": {
    "execution": {
     "iopub.execute_input": "2022-01-12T10:09:52.270434Z",
     "iopub.status.busy": "2022-01-12T10:09:52.269747Z",
     "iopub.status.idle": "2022-01-12T10:09:52.432307Z",
     "shell.execute_reply": "2022-01-12T10:09:52.432736Z"
    },
    "papermill": {
     "duration": 0.200277,
     "end_time": "2022-01-12T10:09:52.432888",
     "exception": false,
     "start_time": "2022-01-12T10:09:52.232611",
     "status": "completed"
    },
    "tags": []
   },
   "outputs": [
    {
     "name": "stdout",
     "output_type": "stream",
     "text": [
      "2\n"
     ]
    },
    {
     "data": {
      "text/plain": [
       "<matplotlib.image.AxesImage at 0x7fdaf5ede320>"
      ]
     },
     "execution_count": 9,
     "metadata": {},
     "output_type": "execute_result"
    },
    {
     "data": {
      "image/png": "[encoded data removed]",
      "text/plain": [
       "<Figure size 432x288 with 1 Axes>"
      ]
     },
     "metadata": {
      "needs_background": "light"
     },
     "output_type": "display_data"
    }
   ],
   "source": [
    "image_index = 7776 # You may select anything up to 60,000\n",
    "print(train_labels[image_index]) \n",
    "plt.imshow(train_images[image_index], cmap='Greys')"
   ]
  },
  {
   "cell_type": "markdown",
   "id": "a8d2388d",
   "metadata": {
    "papermill": {
     "duration": 0.028002,
     "end_time": "2022-01-12T10:09:52.489485",
     "exception": false,
     "start_time": "2022-01-12T10:09:52.461483",
     "status": "completed"
    },
    "tags": []
   },
   "source": [
    "## Filter data to get 3 and 8 out"
   ]
  },
  {
   "cell_type": "code",
   "execution_count": 10,
   "id": "776f7fc7",
   "metadata": {
    "execution": {
     "iopub.execute_input": "2022-01-12T10:09:52.556536Z",
     "iopub.status.busy": "2022-01-12T10:09:52.555930Z",
     "iopub.status.idle": "2022-01-12T10:09:52.573482Z",
     "shell.execute_reply": "2022-01-12T10:09:52.573900Z"
    },
    "papermill": {
     "duration": 0.056568,
     "end_time": "2022-01-12T10:09:52.574039",
     "exception": false,
     "start_time": "2022-01-12T10:09:52.517471",
     "status": "completed"
    },
    "tags": []
   },
   "outputs": [],
   "source": [
    "train_filter = np.where((train_labels == 3 ) | (train_labels == 8))\n",
    "test_filter = np.where((test_labels == 3) | (test_labels == 8))\n",
    "X_train, y_train = train_images[train_filter], train_labels[train_filter]\n",
    "X_test, y_test = test_images[test_filter], test_labels[test_filter]"
   ]
  },
  {
   "cell_type": "markdown",
   "id": "948f0b7e",
   "metadata": {
    "papermill": {
     "duration": 0.02746,
     "end_time": "2022-01-12T10:09:52.629216",
     "exception": false,
     "start_time": "2022-01-12T10:09:52.601756",
     "status": "completed"
    },
    "tags": []
   },
   "source": [
    "We normalize the pizel values in the 0 to 1 range"
   ]
  },
  {
   "cell_type": "code",
   "execution_count": 11,
   "id": "ee4c2166",
   "metadata": {
    "execution": {
     "iopub.execute_input": "2022-01-12T10:09:52.689292Z",
     "iopub.status.busy": "2022-01-12T10:09:52.688651Z",
     "iopub.status.idle": "2022-01-12T10:09:52.743355Z",
     "shell.execute_reply": "2022-01-12T10:09:52.742440Z"
    },
    "papermill": {
     "duration": 0.086661,
     "end_time": "2022-01-12T10:09:52.743568",
     "exception": false,
     "start_time": "2022-01-12T10:09:52.656907",
     "status": "completed"
    },
    "tags": []
   },
   "outputs": [],
   "source": [
    "X_train = X_train/255.\n",
    "X_test = X_test/255."
   ]
  },
  {
   "cell_type": "markdown",
   "id": "ddcf4fab",
   "metadata": {
    "papermill": {
     "duration": 0.028267,
     "end_time": "2022-01-12T10:09:52.802502",
     "exception": false,
     "start_time": "2022-01-12T10:09:52.774235",
     "status": "completed"
    },
    "tags": []
   },
   "source": [
    "And setup the labels as 1 (when the digit is 3) and 0 (when the digit is 8)"
   ]
  },
  {
   "cell_type": "code",
   "execution_count": 12,
   "id": "7dc908f2",
   "metadata": {
    "execution": {
     "iopub.execute_input": "2022-01-12T10:09:52.863027Z",
     "iopub.status.busy": "2022-01-12T10:09:52.862468Z",
     "iopub.status.idle": "2022-01-12T10:09:52.876199Z",
     "shell.execute_reply": "2022-01-12T10:09:52.876681Z"
    },
    "papermill": {
     "duration": 0.046075,
     "end_time": "2022-01-12T10:09:52.876815",
     "exception": false,
     "start_time": "2022-01-12T10:09:52.830740",
     "status": "completed"
    },
    "tags": []
   },
   "outputs": [],
   "source": [
    "y_train = 1*(y_train==3)\n",
    "y_test = 1*(y_test==3)"
   ]
  },
  {
   "cell_type": "code",
   "execution_count": 13,
   "id": "01e4e969",
   "metadata": {
    "execution": {
     "iopub.execute_input": "2022-01-12T10:09:52.936216Z",
     "iopub.status.busy": "2022-01-12T10:09:52.935639Z",
     "iopub.status.idle": "2022-01-12T10:09:52.949523Z",
     "shell.execute_reply": "2022-01-12T10:09:52.949939Z"
    },
    "papermill": {
     "duration": 0.045768,
     "end_time": "2022-01-12T10:09:52.950072",
     "exception": false,
     "start_time": "2022-01-12T10:09:52.904304",
     "status": "completed"
    },
    "tags": []
   },
   "outputs": [
    {
     "data": {
      "text/plain": [
       "((11982, 28, 28), (1984, 28, 28))"
      ]
     },
     "execution_count": 13,
     "metadata": {},
     "output_type": "execute_result"
    }
   ],
   "source": [
    "X_train.shape, X_test.shape"
   ]
  },
  {
   "cell_type": "markdown",
   "id": "5ccf3f85",
   "metadata": {
    "papermill": {
     "duration": 0.028982,
     "end_time": "2022-01-12T10:09:53.007273",
     "exception": false,
     "start_time": "2022-01-12T10:09:52.978291",
     "status": "completed"
    },
    "tags": []
   },
   "source": [
    "We reshape the data to flatten the image pixels into a set of features or co-variates:"
   ]
  },
  {
   "cell_type": "code",
   "execution_count": 14,
   "id": "5286a4a3",
   "metadata": {
    "execution": {
     "iopub.execute_input": "2022-01-12T10:09:53.069198Z",
     "iopub.status.busy": "2022-01-12T10:09:53.068375Z",
     "iopub.status.idle": "2022-01-12T10:09:53.082631Z",
     "shell.execute_reply": "2022-01-12T10:09:53.083137Z"
    },
    "papermill": {
     "duration": 0.047679,
     "end_time": "2022-01-12T10:09:53.083273",
     "exception": false,
     "start_time": "2022-01-12T10:09:53.035594",
     "status": "completed"
    },
    "tags": []
   },
   "outputs": [
    {
     "data": {
      "text/plain": [
       "((11982, 784), (1984, 784))"
      ]
     },
     "execution_count": 14,
     "metadata": {},
     "output_type": "execute_result"
    }
   ],
   "source": [
    "X_train = X_train.reshape(X_train.shape[0], -1)\n",
    "X_test = X_test.reshape(X_test.shape[0], -1)\n",
    "X_train.shape, X_test.shape"
   ]
  },
  {
   "cell_type": "code",
   "execution_count": 15,
   "id": "73c5f88a",
   "metadata": {
    "execution": {
     "iopub.execute_input": "2022-01-12T10:09:53.143499Z",
     "iopub.status.busy": "2022-01-12T10:09:53.142883Z",
     "iopub.status.idle": "2022-01-12T10:09:53.165505Z",
     "shell.execute_reply": "2022-01-12T10:09:53.166098Z"
    },
    "papermill": {
     "duration": 0.054334,
     "end_time": "2022-01-12T10:09:53.166265",
     "exception": false,
     "start_time": "2022-01-12T10:09:53.111931",
     "status": "completed"
    },
    "tags": []
   },
   "outputs": [],
   "source": [
    "#Impoting functions from 'Kudzu'\n",
    "from kudzu.model import Model\n",
    "from kudzu.train import Learner\n",
    "from kudzu.optim import GD\n",
    "from kudzu.data import Data, Sampler,Dataloader\n",
    "\n",
    "from kudzu.callbacks import AccCallback\n",
    "from kudzu.callbacks import ClfCallback\n",
    "\n",
    "from kudzu.loss import MSE\n",
    "\n",
    "from kudzu.layer import Sigmoid,Relu\n",
    "from kudzu.layer import Affine"
   ]
  },
  {
   "cell_type": "markdown",
   "id": "bc01172a",
   "metadata": {
    "papermill": {
     "duration": 0.027515,
     "end_time": "2022-01-12T10:09:53.224373",
     "exception": false,
     "start_time": "2022-01-12T10:09:53.196858",
     "status": "completed"
    },
    "tags": []
   },
   "source": [
    "### Let us create a `Config` class, to store important parameters. \n",
    "This class essentially plays the role of a dictionary."
   ]
  },
  {
   "cell_type": "code",
   "execution_count": 16,
   "id": "978281aa",
   "metadata": {
    "execution": {
     "iopub.execute_input": "2022-01-12T10:09:53.286166Z",
     "iopub.status.busy": "2022-01-12T10:09:53.285596Z",
     "iopub.status.idle": "2022-01-12T10:09:53.299839Z",
     "shell.execute_reply": "2022-01-12T10:09:53.299109Z"
    },
    "papermill": {
     "duration": 0.047335,
     "end_time": "2022-01-12T10:09:53.299956",
     "exception": false,
     "start_time": "2022-01-12T10:09:53.252621",
     "status": "completed"
    },
    "tags": []
   },
   "outputs": [],
   "source": [
    "class Config:\n",
    "    pass\n",
    "config = Config()\n",
    "config.lr = 0.001\n",
    "config.num_epochs = 250\n",
    "config.bs = 50"
   ]
  },
  {
   "cell_type": "markdown",
   "id": "1385fa59",
   "metadata": {
    "papermill": {
     "duration": 0.028459,
     "end_time": "2022-01-12T10:09:53.357647",
     "exception": false,
     "start_time": "2022-01-12T10:09:53.329188",
     "status": "completed"
    },
    "tags": []
   },
   "source": [
    "### Running Models with the Training data\n",
    "Details about the network layers:\n",
    "- A first affine layer has 784 inputs and does 100 affine transforms. These are followed by a Relu\n",
    "- A second affine layer has 100 inputs from the 100 activations of the past layer, and does 100 affine transforms. These are followed by a Relu\n",
    "- A third affine layer has 100 activations and does 2 affine transformations to create an embedding for visualization. There is no non-linearity here.\n",
    "- A final \"logistic regression\" which has an affine transform from 2 inputs to 1 output, which is squeezed through a sigmoid.\n"
   ]
  },
  {
   "cell_type": "code",
   "execution_count": 17,
   "id": "2b9c66db",
   "metadata": {
    "execution": {
     "iopub.execute_input": "2022-01-12T10:09:53.423942Z",
     "iopub.status.busy": "2022-01-12T10:09:53.422618Z",
     "iopub.status.idle": "2022-01-12T10:09:53.437612Z",
     "shell.execute_reply": "2022-01-12T10:09:53.436541Z"
    },
    "papermill": {
     "duration": 0.049002,
     "end_time": "2022-01-12T10:09:53.437737",
     "exception": false,
     "start_time": "2022-01-12T10:09:53.388735",
     "status": "completed"
    },
    "tags": []
   },
   "outputs": [],
   "source": [
    "data = Data(X_train, y_train.reshape(-1,1))\n",
    "sampler = Sampler(data, config.bs, shuffle=True)\n",
    "\n",
    "dl = Dataloader(data, sampler)\n",
    "\n",
    "opt = GD(config.lr)\n",
    "loss = MSE()"
   ]
  },
  {
   "cell_type": "code",
   "execution_count": 18,
   "id": "b275e4c2",
   "metadata": {
    "execution": {
     "iopub.execute_input": "2022-01-12T10:09:53.501784Z",
     "iopub.status.busy": "2022-01-12T10:09:53.498969Z",
     "iopub.status.idle": "2022-01-12T10:09:53.512584Z",
     "shell.execute_reply": "2022-01-12T10:09:53.512138Z"
    },
    "papermill": {
     "duration": 0.046611,
     "end_time": "2022-01-12T10:09:53.512697",
     "exception": false,
     "start_time": "2022-01-12T10:09:53.466086",
     "status": "completed"
    },
    "tags": []
   },
   "outputs": [],
   "source": [
    "training_data_x = X_train\n",
    "testing_data_x = X_test\n",
    "training_data_y = y_train.reshape(-1,1)\n",
    "testing_data_y = y_test.reshape(-1,1)"
   ]
  },
  {
   "cell_type": "code",
   "execution_count": 19,
   "id": "76951160",
   "metadata": {
    "execution": {
     "iopub.execute_input": "2022-01-12T10:09:53.579008Z",
     "iopub.status.busy": "2022-01-12T10:09:53.578389Z",
     "iopub.status.idle": "2022-01-12T10:09:53.594428Z",
     "shell.execute_reply": "2022-01-12T10:09:53.593922Z"
    },
    "papermill": {
     "duration": 0.053742,
     "end_time": "2022-01-12T10:09:53.594547",
     "exception": false,
     "start_time": "2022-01-12T10:09:53.540805",
     "status": "completed"
    },
    "tags": []
   },
   "outputs": [
    {
     "name": "stdout",
     "output_type": "stream",
     "text": [
      "xavier\n",
      "xavier\n",
      "xavier\n",
      "xavier\n",
      "xavier\n"
     ]
    }
   ],
   "source": [
    "layers = [Affine(\"first\", 784, 100), Relu(\"first\"), Affine(\"second\", 100, 100), Relu(\"second\"), Affine(\"third\", 100, 2), Affine(\"last\", 2, 1), Sigmoid(\"last\")]\n",
    "model_nn = Model(layers)\n",
    "model_lr = Model([Affine(\"logits\", 784, 1), Sigmoid(\"sigmoid\")])"
   ]
  },
  {
   "cell_type": "code",
   "execution_count": 20,
   "id": "6eede77a",
   "metadata": {
    "execution": {
     "iopub.execute_input": "2022-01-12T10:09:53.658249Z",
     "iopub.status.busy": "2022-01-12T10:09:53.657699Z",
     "iopub.status.idle": "2022-01-12T10:09:53.671182Z",
     "shell.execute_reply": "2022-01-12T10:09:53.670704Z"
    },
    "papermill": {
     "duration": 0.047871,
     "end_time": "2022-01-12T10:09:53.671303",
     "exception": false,
     "start_time": "2022-01-12T10:09:53.623432",
     "status": "completed"
    },
    "tags": []
   },
   "outputs": [],
   "source": [
    "nn_learner = Learner(loss, model_nn, opt, config.num_epochs)\n",
    "acc_nn = ClfCallback(nn_learner, config.bs, training_data_x , testing_data_x, training_data_y, testing_data_y)\n",
    "nn_learner.set_callbacks([acc_nn])"
   ]
  },
  {
   "cell_type": "code",
   "execution_count": 21,
   "id": "877b6cc7",
   "metadata": {
    "execution": {
     "iopub.execute_input": "2022-01-12T10:09:53.734265Z",
     "iopub.status.busy": "2022-01-12T10:09:53.733679Z",
     "iopub.status.idle": "2022-01-12T10:09:53.747832Z",
     "shell.execute_reply": "2022-01-12T10:09:53.746853Z"
    },
    "papermill": {
     "duration": 0.046757,
     "end_time": "2022-01-12T10:09:53.747948",
     "exception": false,
     "start_time": "2022-01-12T10:09:53.701191",
     "status": "completed"
    },
    "tags": []
   },
   "outputs": [],
   "source": [
    "lr_learner = Learner(loss, model_lr, opt, config.num_epochs)\n",
    "acc_lr = ClfCallback(lr_learner, config.bs, training_data_x , testing_data_x, training_data_y, testing_data_y)\n",
    "lr_learner.set_callbacks([acc_lr])"
   ]
  },
  {
   "cell_type": "code",
   "execution_count": 22,
   "id": "d9b133c3",
   "metadata": {
    "execution": {
     "iopub.execute_input": "2022-01-12T10:09:53.814110Z",
     "iopub.status.busy": "2022-01-12T10:09:53.808799Z",
     "iopub.status.idle": "2022-01-12T10:11:18.560991Z",
     "shell.execute_reply": "2022-01-12T10:11:18.561777Z"
    },
    "papermill": {
     "duration": 84.784942,
     "end_time": "2022-01-12T10:11:18.561919",
     "exception": false,
     "start_time": "2022-01-12T10:09:53.776977",
     "status": "completed"
    },
    "tags": []
   },
   "outputs": [
    {
     "name": "stdout",
     "output_type": "stream",
     "text": [
      "Epoch 0, Loss 0.2383\n",
      "Training Accuracy: 0.6985, Testing Accuracy: 0.6905\n",
      "\n"
     ]
    },
    {
     "name": "stdout",
     "output_type": "stream",
     "text": [
      "Epoch 10, Loss 0.0906\n",
      "Training Accuracy: 0.9099, Testing Accuracy: 0.9189\n",
      "\n"
     ]
    },
    {
     "name": "stdout",
     "output_type": "stream",
     "text": [
      "Epoch 20, Loss 0.0552\n",
      "Training Accuracy: 0.9402, Testing Accuracy: 0.9486\n",
      "\n"
     ]
    },
    {
     "name": "stdout",
     "output_type": "stream",
     "text": [
      "Epoch 30, Loss 0.0429\n",
      "Training Accuracy: 0.9535, Testing Accuracy: 0.9597\n",
      "\n"
     ]
    },
    {
     "name": "stdout",
     "output_type": "stream",
     "text": [
      "Epoch 40, Loss 0.037\n",
      "Training Accuracy: 0.9584, Testing Accuracy: 0.9642\n",
      "\n"
     ]
    },
    {
     "name": "stdout",
     "output_type": "stream",
     "text": [
      "Epoch 50, Loss 0.0334\n",
      "Training Accuracy: 0.9615, Testing Accuracy: 0.9662\n",
      "\n"
     ]
    },
    {
     "name": "stdout",
     "output_type": "stream",
     "text": [
      "Epoch 60, Loss 0.031\n",
      "Training Accuracy: 0.9635, Testing Accuracy: 0.9667\n",
      "\n"
     ]
    },
    {
     "name": "stdout",
     "output_type": "stream",
     "text": [
      "Epoch 70, Loss 0.0291\n",
      "Training Accuracy: 0.9649, Testing Accuracy: 0.9693\n",
      "\n"
     ]
    },
    {
     "name": "stdout",
     "output_type": "stream",
     "text": [
      "Epoch 80, Loss 0.0277\n",
      "Training Accuracy: 0.9673, Testing Accuracy: 0.9698\n",
      "\n"
     ]
    },
    {
     "name": "stdout",
     "output_type": "stream",
     "text": [
      "Epoch 90, Loss 0.0265\n",
      "Training Accuracy: 0.9688, Testing Accuracy: 0.9703\n",
      "\n"
     ]
    },
    {
     "name": "stdout",
     "output_type": "stream",
     "text": [
      "Epoch 100, Loss 0.0255\n",
      "Training Accuracy: 0.9710, Testing Accuracy: 0.9703\n",
      "\n"
     ]
    },
    {
     "name": "stdout",
     "output_type": "stream",
     "text": [
      "Epoch 110, Loss 0.0246\n",
      "Training Accuracy: 0.9724, Testing Accuracy: 0.9713\n",
      "\n"
     ]
    },
    {
     "name": "stdout",
     "output_type": "stream",
     "text": [
      "Epoch 120, Loss 0.0238\n",
      "Training Accuracy: 0.9734, Testing Accuracy: 0.9718\n",
      "\n"
     ]
    },
    {
     "name": "stdout",
     "output_type": "stream",
     "text": [
      "Epoch 130, Loss 0.0231\n",
      "Training Accuracy: 0.9747, Testing Accuracy: 0.9718\n",
      "\n"
     ]
    },
    {
     "name": "stdout",
     "output_type": "stream",
     "text": [
      "Epoch 140, Loss 0.0224\n",
      "Training Accuracy: 0.9755, Testing Accuracy: 0.9718\n",
      "\n"
     ]
    },
    {
     "name": "stdout",
     "output_type": "stream",
     "text": [
      "Epoch 150, Loss 0.0218\n",
      "Training Accuracy: 0.9758, Testing Accuracy: 0.9718\n",
      "\n"
     ]
    },
    {
     "name": "stdout",
     "output_type": "stream",
     "text": [
      "Epoch 160, Loss 0.0212\n",
      "Training Accuracy: 0.9764, Testing Accuracy: 0.9723\n",
      "\n"
     ]
    },
    {
     "name": "stdout",
     "output_type": "stream",
     "text": [
      "Epoch 170, Loss 0.0207\n",
      "Training Accuracy: 0.9769, Testing Accuracy: 0.9728\n",
      "\n"
     ]
    },
    {
     "name": "stdout",
     "output_type": "stream",
     "text": [
      "Epoch 180, Loss 0.0201\n",
      "Training Accuracy: 0.9775, Testing Accuracy: 0.9728\n",
      "\n"
     ]
    },
    {
     "name": "stdout",
     "output_type": "stream",
     "text": [
      "Epoch 190, Loss 0.0197\n",
      "Training Accuracy: 0.9786, Testing Accuracy: 0.9743\n",
      "\n"
     ]
    },
    {
     "name": "stdout",
     "output_type": "stream",
     "text": [
      "Epoch 200, Loss 0.0192\n",
      "Training Accuracy: 0.9795, Testing Accuracy: 0.9758\n",
      "\n"
     ]
    },
    {
     "name": "stdout",
     "output_type": "stream",
     "text": [
      "Epoch 210, Loss 0.0188\n",
      "Training Accuracy: 0.9796, Testing Accuracy: 0.9758\n",
      "\n"
     ]
    },
    {
     "name": "stdout",
     "output_type": "stream",
     "text": [
      "Epoch 220, Loss 0.0183\n",
      "Training Accuracy: 0.9805, Testing Accuracy: 0.9768\n",
      "\n"
     ]
    },
    {
     "name": "stdout",
     "output_type": "stream",
     "text": [
      "Epoch 230, Loss 0.0179\n",
      "Training Accuracy: 0.9811, Testing Accuracy: 0.9783\n",
      "\n"
     ]
    },
    {
     "name": "stdout",
     "output_type": "stream",
     "text": [
      "Epoch 240, Loss 0.0175\n",
      "Training Accuracy: 0.9816, Testing Accuracy: 0.9783\n",
      "\n"
     ]
    },
    {
     "data": {
      "text/plain": [
       "0.018235976958165822"
      ]
     },
     "execution_count": 22,
     "metadata": {},
     "output_type": "execute_result"
    }
   ],
   "source": [
    "nn_learner.train_loop(dl)"
   ]
  },
  {
   "cell_type": "code",
   "execution_count": 23,
   "id": "e0163366",
   "metadata": {
    "execution": {
     "iopub.execute_input": "2022-01-12T10:11:18.644192Z",
     "iopub.status.busy": "2022-01-12T10:11:18.643694Z",
     "iopub.status.idle": "2022-01-12T10:11:33.163230Z",
     "shell.execute_reply": "2022-01-12T10:11:33.164045Z"
    },
    "papermill": {
     "duration": 14.56814,
     "end_time": "2022-01-12T10:11:33.164210",
     "exception": false,
     "start_time": "2022-01-12T10:11:18.596070",
     "status": "completed"
    },
    "tags": []
   },
   "outputs": [
    {
     "name": "stdout",
     "output_type": "stream",
     "text": [
      "Epoch 0, Loss 0.2312\n",
      "Training Accuracy: 0.7436, Testing Accuracy: 0.7354\n",
      "\n"
     ]
    },
    {
     "name": "stdout",
     "output_type": "stream",
     "text": [
      "Epoch 10, Loss 0.0974\n",
      "Training Accuracy: 0.9228, Testing Accuracy: 0.9294\n",
      "\n"
     ]
    },
    {
     "name": "stdout",
     "output_type": "stream",
     "text": [
      "Epoch 20, Loss 0.0757\n",
      "Training Accuracy: 0.9342, Testing Accuracy: 0.9405\n",
      "\n"
     ]
    },
    {
     "name": "stdout",
     "output_type": "stream",
     "text": [
      "Epoch 30, Loss 0.0657\n",
      "Training Accuracy: 0.9417, Testing Accuracy: 0.9491\n",
      "\n"
     ]
    },
    {
     "name": "stdout",
     "output_type": "stream",
     "text": [
      "Epoch 40, Loss 0.0597\n",
      "Training Accuracy: 0.9453, Testing Accuracy: 0.9551\n",
      "\n"
     ]
    },
    {
     "name": "stdout",
     "output_type": "stream",
     "text": [
      "Epoch 50, Loss 0.0556\n",
      "Training Accuracy: 0.9479, Testing Accuracy: 0.9582\n",
      "\n"
     ]
    },
    {
     "name": "stdout",
     "output_type": "stream",
     "text": [
      "Epoch 60, Loss 0.0525\n",
      "Training Accuracy: 0.9491, Testing Accuracy: 0.9607\n",
      "\n"
     ]
    },
    {
     "name": "stdout",
     "output_type": "stream",
     "text": [
      "Epoch 70, Loss 0.0501\n",
      "Training Accuracy: 0.9510, Testing Accuracy: 0.9607\n",
      "\n"
     ]
    },
    {
     "name": "stdout",
     "output_type": "stream",
     "text": [
      "Epoch 80, Loss 0.0482\n",
      "Training Accuracy: 0.9526, Testing Accuracy: 0.9617\n",
      "\n"
     ]
    },
    {
     "name": "stdout",
     "output_type": "stream",
     "text": [
      "Epoch 90, Loss 0.0466\n",
      "Training Accuracy: 0.9535, Testing Accuracy: 0.9632\n",
      "\n"
     ]
    },
    {
     "name": "stdout",
     "output_type": "stream",
     "text": [
      "Epoch 100, Loss 0.0453\n",
      "Training Accuracy: 0.9548, Testing Accuracy: 0.9637\n",
      "\n"
     ]
    },
    {
     "name": "stdout",
     "output_type": "stream",
     "text": [
      "Epoch 110, Loss 0.0442\n",
      "Training Accuracy: 0.9557, Testing Accuracy: 0.9637\n",
      "\n"
     ]
    },
    {
     "name": "stdout",
     "output_type": "stream",
     "text": [
      "Epoch 120, Loss 0.0432\n",
      "Training Accuracy: 0.9563, Testing Accuracy: 0.9647\n",
      "\n"
     ]
    },
    {
     "name": "stdout",
     "output_type": "stream",
     "text": [
      "Epoch 130, Loss 0.0423\n",
      "Training Accuracy: 0.9574, Testing Accuracy: 0.9642\n",
      "\n"
     ]
    },
    {
     "name": "stdout",
     "output_type": "stream",
     "text": [
      "Epoch 140, Loss 0.0415\n",
      "Training Accuracy: 0.9582, Testing Accuracy: 0.9652\n",
      "\n"
     ]
    },
    {
     "name": "stdout",
     "output_type": "stream",
     "text": [
      "Epoch 150, Loss 0.0408\n",
      "Training Accuracy: 0.9586, Testing Accuracy: 0.9657\n",
      "\n"
     ]
    },
    {
     "name": "stdout",
     "output_type": "stream",
     "text": [
      "Epoch 160, Loss 0.0401\n",
      "Training Accuracy: 0.9592, Testing Accuracy: 0.9662\n",
      "\n"
     ]
    },
    {
     "name": "stdout",
     "output_type": "stream",
     "text": [
      "Epoch 170, Loss 0.0396\n",
      "Training Accuracy: 0.9594, Testing Accuracy: 0.9662\n",
      "\n"
     ]
    },
    {
     "name": "stdout",
     "output_type": "stream",
     "text": [
      "Epoch 180, Loss 0.039\n",
      "Training Accuracy: 0.9596, Testing Accuracy: 0.9672\n",
      "\n"
     ]
    },
    {
     "name": "stdout",
     "output_type": "stream",
     "text": [
      "Epoch 190, Loss 0.0385\n",
      "Training Accuracy: 0.9599, Testing Accuracy: 0.9667\n",
      "\n"
     ]
    },
    {
     "name": "stdout",
     "output_type": "stream",
     "text": [
      "Epoch 200, Loss 0.0381\n",
      "Training Accuracy: 0.9600, Testing Accuracy: 0.9667\n",
      "\n"
     ]
    },
    {
     "name": "stdout",
     "output_type": "stream",
     "text": [
      "Epoch 210, Loss 0.0377\n",
      "Training Accuracy: 0.9601, Testing Accuracy: 0.9662\n",
      "\n"
     ]
    },
    {
     "name": "stdout",
     "output_type": "stream",
     "text": [
      "Epoch 220, Loss 0.0373\n",
      "Training Accuracy: 0.9602, Testing Accuracy: 0.9672\n",
      "\n"
     ]
    },
    {
     "name": "stdout",
     "output_type": "stream",
     "text": [
      "Epoch 230, Loss 0.0369\n",
      "Training Accuracy: 0.9605, Testing Accuracy: 0.9672\n",
      "\n"
     ]
    },
    {
     "name": "stdout",
     "output_type": "stream",
     "text": [
      "Epoch 240, Loss 0.0365\n",
      "Training Accuracy: 0.9604, Testing Accuracy: 0.9672\n",
      "\n"
     ]
    },
    {
     "data": {
      "text/plain": [
       "0.09143579760288917"
      ]
     },
     "execution_count": 23,
     "metadata": {},
     "output_type": "execute_result"
    }
   ],
   "source": [
    "lr_learner.train_loop(dl)"
   ]
  },
  {
   "cell_type": "code",
   "execution_count": 24,
   "id": "ca410940",
   "metadata": {
    "execution": {
     "iopub.execute_input": "2022-01-12T10:11:33.270246Z",
     "iopub.status.busy": "2022-01-12T10:11:33.269665Z",
     "iopub.status.idle": "2022-01-12T10:11:33.508488Z",
     "shell.execute_reply": "2022-01-12T10:11:33.507995Z"
    },
    "papermill": {
     "duration": 0.299778,
     "end_time": "2022-01-12T10:11:33.508612",
     "exception": false,
     "start_time": "2022-01-12T10:11:33.208834",
     "status": "completed"
    },
    "tags": []
   },
   "outputs": [
    {
     "data": {
      "text/plain": [
       "<matplotlib.legend.Legend at 0x7fdaf5a3eac8>"
      ]
     },
     "execution_count": 24,
     "metadata": {},
     "output_type": "execute_result"
    },
    {
     "data": {
      "image/png": "[encoded data removed]",
      "text/plain": [
       "<Figure size 1080x720 with 1 Axes>"
      ]
     },
     "metadata": {
      "needs_background": "light"
     },
     "output_type": "display_data"
    }
   ],
   "source": [
    "#comparing the results of NN and LR\n",
    "plt.figure(figsize=(15,10))\n",
    "\n",
    "# Neural Network plots\n",
    "plt.plot(acc_nn.accuracies, 'r-', label = \"Training Accuracies - NN\")\n",
    "plt.plot(acc_nn.test_accuracies, 'g-', label = \"Testing Accuracies - NN\")\n",
    "\n",
    "# Logistic Regression plots\n",
    "plt.plot(acc_lr.accuracies, 'k-', label = \"Training Accuracies - LR\")\n",
    "plt.plot(acc_lr.test_accuracies, 'b-', label = \"Testing Accuracies - LR\")\n",
    "plt.legend()"
   ]
  },
  {
   "cell_type": "markdown",
   "id": "80dfb35c",
   "metadata": {
    "papermill": {
     "duration": 0.044192,
     "end_time": "2022-01-12T10:11:33.599414",
     "exception": false,
     "start_time": "2022-01-12T10:11:33.555222",
     "status": "completed"
    },
    "tags": []
   },
   "source": [
    "#### Plotting the outputs of this layer of the NN.\n"
   ]
  },
  {
   "cell_type": "code",
   "execution_count": 25,
   "id": "45eb2ff5",
   "metadata": {
    "execution": {
     "iopub.execute_input": "2022-01-12T10:11:33.687739Z",
     "iopub.status.busy": "2022-01-12T10:11:33.687239Z",
     "iopub.status.idle": "2022-01-12T10:11:33.709459Z",
     "shell.execute_reply": "2022-01-12T10:11:33.708898Z"
    },
    "papermill": {
     "duration": 0.068706,
     "end_time": "2022-01-12T10:11:33.709587",
     "exception": false,
     "start_time": "2022-01-12T10:11:33.640881",
     "status": "completed"
    },
    "tags": []
   },
   "outputs": [],
   "source": [
    "new_model = Model(layers[:-2])\n",
    "testing_plot = new_model(testing_data_x)"
   ]
  },
  {
   "cell_type": "code",
   "execution_count": 26,
   "id": "4c0a5485",
   "metadata": {
    "execution": {
     "iopub.execute_input": "2022-01-12T10:11:33.812226Z",
     "iopub.status.busy": "2022-01-12T10:11:33.811605Z",
     "iopub.status.idle": "2022-01-12T10:11:34.008296Z",
     "shell.execute_reply": "2022-01-12T10:11:34.007801Z"
    },
    "papermill": {
     "duration": 0.25356,
     "end_time": "2022-01-12T10:11:34.008422",
     "exception": false,
     "start_time": "2022-01-12T10:11:33.754862",
     "status": "completed"
    },
    "tags": []
   },
   "outputs": [
    {
     "data": {
      "text/plain": [
       "Text(0.5, 1.0, 'Outputs')"
      ]
     },
     "execution_count": 26,
     "metadata": {},
     "output_type": "execute_result"
    },
    {
     "data": {
      "image/png": "[encoded data removed]",
      "text/plain": [
       "<Figure size 576x504 with 1 Axes>"
      ]
     },
     "metadata": {
      "needs_background": "light"
     },
     "output_type": "display_data"
    }
   ],
   "source": [
    "# Plotting the scatter plot of points and color coding by class\n",
    "plt.figure(figsize=(8,7))\n",
    "plt.scatter(testing_plot[:,0], testing_plot[:,1], alpha = 0.1, c = y_test.ravel());\n",
    "plt.title('Outputs')"
   ]
  },
  {
   "cell_type": "markdown",
   "id": "a74fcf8f",
   "metadata": {
    "papermill": {
     "duration": 0.048008,
     "end_time": "2022-01-12T10:11:34.103742",
     "exception": false,
     "start_time": "2022-01-12T10:11:34.055734",
     "status": "completed"
    },
    "tags": []
   },
   "source": [
    "Probability contours"
   ]
  },
  {
   "cell_type": "code",
   "execution_count": 27,
   "id": "d0afc8e3",
   "metadata": {
    "execution": {
     "iopub.execute_input": "2022-01-12T10:11:34.208666Z",
     "iopub.status.busy": "2022-01-12T10:11:34.208062Z",
     "iopub.status.idle": "2022-01-12T10:11:34.220637Z",
     "shell.execute_reply": "2022-01-12T10:11:34.220027Z"
    },
    "papermill": {
     "duration": 0.070269,
     "end_time": "2022-01-12T10:11:34.220761",
     "exception": false,
     "start_time": "2022-01-12T10:11:34.150492",
     "status": "completed"
    },
    "tags": []
   },
   "outputs": [],
   "source": [
    "model_prob = Model(layers[-2:]) "
   ]
  },
  {
   "cell_type": "code",
   "execution_count": 28,
   "id": "9b96e238",
   "metadata": {
    "execution": {
     "iopub.execute_input": "2022-01-12T10:11:34.343044Z",
     "iopub.status.busy": "2022-01-12T10:11:34.342481Z",
     "iopub.status.idle": "2022-01-12T10:11:34.356882Z",
     "shell.execute_reply": "2022-01-12T10:11:34.357357Z"
    },
    "papermill": {
     "duration": 0.063338,
     "end_time": "2022-01-12T10:11:34.357488",
     "exception": false,
     "start_time": "2022-01-12T10:11:34.294150",
     "status": "completed"
    },
    "tags": []
   },
   "outputs": [],
   "source": [
    "#creating the x and y ranges according to the above generated plot.\n",
    "x_range = np.linspace(-4, 1, 100) \n",
    "y_range = np.linspace(-6, 6, 100) \n",
    "x_grid, y_grid = np.meshgrid(x_range, y_range) # x_grid and y_grig are of size 100 X 100\n",
    "\n",
    "# converting x_grid and y_grid to continuous arrays\n",
    "x_gridflat = np.ravel(x_grid)\n",
    "y_gridflat = np.ravel(y_grid)\n",
    "\n",
    "# The last layer of the current model takes two columns as input. Hence transpose of np.vstack() is required.\n",
    "X = np.vstack((x_gridflat, y_gridflat)).T\n",
    "\n",
    "prob_contour = model_prob(X).reshape(100,100) "
   ]
  },
  {
   "cell_type": "code",
   "execution_count": 29,
   "id": "da72499a",
   "metadata": {
    "execution": {
     "iopub.execute_input": "2022-01-12T10:11:34.458535Z",
     "iopub.status.busy": "2022-01-12T10:11:34.457987Z",
     "iopub.status.idle": "2022-01-12T10:11:34.704077Z",
     "shell.execute_reply": "2022-01-12T10:11:34.703457Z"
    },
    "papermill": {
     "duration": 0.30111,
     "end_time": "2022-01-12T10:11:34.704207",
     "exception": false,
     "start_time": "2022-01-12T10:11:34.403097",
     "status": "completed"
    },
    "tags": []
   },
   "outputs": [
    {
     "data": {
      "image/png": "[encoded data removed]",
      "text/plain": [
       "<Figure size 720x648 with 1 Axes>"
      ]
     },
     "metadata": {
      "needs_background": "light"
     },
     "output_type": "display_data"
    }
   ],
   "source": [
    "plt.figure(figsize=(10,9))\n",
    "plt.scatter(testing_plot[:,0], testing_plot[:,1], alpha = 0.1, c = y_test.ravel())\n",
    "contours = plt.contour(x_grid,y_grid,prob_contour)\n",
    "plt.title('Probability Contours')\n",
    "plt.clabel(contours, inline = True );"
   ]
  },
  {
   "cell_type": "code",
   "execution_count": null,
   "id": "e81b4ac7",
   "metadata": {
    "papermill": {
     "duration": 0.051953,
     "end_time": "2022-01-12T10:11:34.808395",
     "exception": false,
     "start_time": "2022-01-12T10:11:34.756442",
     "status": "completed"
    },
    "tags": []
   },
   "outputs": [],
   "source": []
  }
 ],
 "metadata": {
  "kernelspec": {
   "display_name": "Python 3",
   "language": "python",
   "name": "python3"
  },
  "language_info": {
   "codemirror_mode": {
    "name": "ipython",
    "version": 3
   },
   "file_extension": ".py",
   "mimetype": "text/x-python",
   "name": "python",
   "nbconvert_exporter": "python",
   "pygments_lexer": "ipython3",
   "version": "3.6.15"
  },
  "papermill": {
   "default_parameters": {},
   "duration": 108.686371,
   "end_time": "2022-01-12T10:11:35.273961",
   "environment_variables": {},
   "exception": null,
   "input_path": "2020-08-11-part2.ipynb",
   "output_path": "2020-08-11-part2.ipynb",
   "parameters": {},
   "start_time": "2022-01-12T10:09:46.587590",
   "version": "2.3.3"
  }
 },
 "nbformat": 4,
 "nbformat_minor": 5
}