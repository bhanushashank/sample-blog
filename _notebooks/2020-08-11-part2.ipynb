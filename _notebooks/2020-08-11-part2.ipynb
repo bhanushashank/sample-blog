{
 "cells": [
  {
   "cell_type": "markdown",
   "id": "98380cd3",
   "metadata": {
    "papermill": {
     "duration": 0.02901,
     "end_time": "2022-09-12T00:42:33.970167",
     "exception": false,
     "start_time": "2022-09-12T00:42:33.941157",
     "status": "completed"
    },
    "tags": []
   },
   "source": [
    "# Distinguish Your Own Digits (DYOD)"
   ]
  },
  {
   "cell_type": "markdown",
   "id": "ef31240d",
   "metadata": {
    "papermill": {
     "duration": 0.024212,
     "end_time": "2022-09-12T00:42:34.019092",
     "exception": false,
     "start_time": "2022-09-12T00:42:33.994880",
     "status": "completed"
    },
    "tags": []
   },
   "source": [
    "You are going to write a classifier that distinguishes between the number 3 and number 8."
   ]
  },
  {
   "cell_type": "code",
   "execution_count": 1,
   "id": "b15c8646",
   "metadata": {
    "execution": {
     "iopub.execute_input": "2022-09-12T00:42:34.078623Z",
     "iopub.status.busy": "2022-09-12T00:42:34.077899Z",
     "iopub.status.idle": "2022-09-12T00:42:34.087022Z",
     "shell.execute_reply": "2022-09-12T00:42:34.086563Z"
    },
    "papermill": {
     "duration": 0.044152,
     "end_time": "2022-09-12T00:42:34.087132",
     "exception": false,
     "start_time": "2022-09-12T00:42:34.042980",
     "status": "completed"
    },
    "tags": []
   },
   "outputs": [],
   "source": [
    "%load_ext autoreload\n",
    "%autoreload 2"
   ]
  },
  {
   "cell_type": "code",
   "execution_count": 2,
   "id": "22ef38dc",
   "metadata": {
    "execution": {
     "iopub.execute_input": "2022-09-12T00:42:34.139807Z",
     "iopub.status.busy": "2022-09-12T00:42:34.139221Z",
     "iopub.status.idle": "2022-09-12T00:42:34.634386Z",
     "shell.execute_reply": "2022-09-12T00:42:34.633896Z"
    },
    "papermill": {
     "duration": 0.522731,
     "end_time": "2022-09-12T00:42:34.634498",
     "exception": false,
     "start_time": "2022-09-12T00:42:34.111767",
     "status": "completed"
    },
    "tags": []
   },
   "outputs": [],
   "source": [
    "%matplotlib inline\n",
    "import numpy as np\n",
    "import matplotlib.pyplot as plt\n",
    "import pandas as pd"
   ]
  },
  {
   "cell_type": "markdown",
   "id": "ba036198",
   "metadata": {
    "papermill": {
     "duration": 0.02404,
     "end_time": "2022-09-12T00:42:34.682745",
     "exception": false,
     "start_time": "2022-09-12T00:42:34.658705",
     "status": "completed"
    },
    "tags": []
   },
   "source": [
    "From the command line run `pip install mnist`. This is a library that will help you bring down the mnist dataset. If you run this from a notebook, you need to put  `!pip install mnist` in a cell by itself."
   ]
  },
  {
   "cell_type": "code",
   "execution_count": 3,
   "id": "bb6ad8a1",
   "metadata": {
    "execution": {
     "iopub.execute_input": "2022-09-12T00:42:34.735011Z",
     "iopub.status.busy": "2022-09-12T00:42:34.734415Z",
     "iopub.status.idle": "2022-09-12T00:42:36.356745Z",
     "shell.execute_reply": "2022-09-12T00:42:36.357193Z"
    },
    "papermill": {
     "duration": 1.650575,
     "end_time": "2022-09-12T00:42:36.357326",
     "exception": false,
     "start_time": "2022-09-12T00:42:34.706751",
     "status": "completed"
    },
    "tags": []
   },
   "outputs": [
    {
     "name": "stdout",
     "output_type": "stream",
     "text": [
      "Collecting mnist\r\n"
     ]
    },
    {
     "name": "stdout",
     "output_type": "stream",
     "text": [
      "  Downloading mnist-0.2.2-py2.py3-none-any.whl (3.5 kB)\r\n",
      "Requirement already satisfied: numpy in /opt/hostedtoolcache/Python/3.6.15/x64/lib/python3.6/site-packages (from mnist) (1.19.5)\r\n"
     ]
    },
    {
     "name": "stdout",
     "output_type": "stream",
     "text": [
      "Installing collected packages: mnist\r\n",
      "Successfully installed mnist-0.2.2\r\n"
     ]
    }
   ],
   "source": [
    "!pip install mnist"
   ]
  },
  {
   "cell_type": "markdown",
   "id": "69df9c9a",
   "metadata": {
    "papermill": {
     "duration": 0.024849,
     "end_time": "2022-09-12T00:42:36.407406",
     "exception": false,
     "start_time": "2022-09-12T00:42:36.382557",
     "status": "completed"
    },
    "tags": []
   },
   "source": [
    "## Preparing the Data"
   ]
  },
  {
   "cell_type": "code",
   "execution_count": 4,
   "id": "7f69d806",
   "metadata": {
    "execution": {
     "iopub.execute_input": "2022-09-12T00:42:36.461074Z",
     "iopub.status.busy": "2022-09-12T00:42:36.460512Z",
     "iopub.status.idle": "2022-09-12T00:42:36.474707Z",
     "shell.execute_reply": "2022-09-12T00:42:36.474257Z"
    },
    "papermill": {
     "duration": 0.042646,
     "end_time": "2022-09-12T00:42:36.474805",
     "exception": false,
     "start_time": "2022-09-12T00:42:36.432159",
     "status": "completed"
    },
    "tags": []
   },
   "outputs": [],
   "source": [
    "import mnist"
   ]
  },
  {
   "cell_type": "code",
   "execution_count": 5,
   "id": "a411e44f",
   "metadata": {
    "execution": {
     "iopub.execute_input": "2022-09-12T00:42:36.527546Z",
     "iopub.status.busy": "2022-09-12T00:42:36.526999Z",
     "iopub.status.idle": "2022-09-12T00:42:37.180218Z",
     "shell.execute_reply": "2022-09-12T00:42:37.179677Z"
    },
    "papermill": {
     "duration": 0.680669,
     "end_time": "2022-09-12T00:42:37.180331",
     "exception": false,
     "start_time": "2022-09-12T00:42:36.499662",
     "status": "completed"
    },
    "tags": []
   },
   "outputs": [],
   "source": [
    "train_images = mnist.train_images()\n",
    "train_labels = mnist.train_labels()"
   ]
  },
  {
   "cell_type": "code",
   "execution_count": 6,
   "id": "dceab3a5",
   "metadata": {
    "execution": {
     "iopub.execute_input": "2022-09-12T00:42:37.236206Z",
     "iopub.status.busy": "2022-09-12T00:42:37.234445Z",
     "iopub.status.idle": "2022-09-12T00:42:37.248604Z",
     "shell.execute_reply": "2022-09-12T00:42:37.248065Z"
    },
    "papermill": {
     "duration": 0.043314,
     "end_time": "2022-09-12T00:42:37.248701",
     "exception": false,
     "start_time": "2022-09-12T00:42:37.205387",
     "status": "completed"
    },
    "tags": []
   },
   "outputs": [
    {
     "data": {
      "text/plain": [
       "((60000, 28, 28), (60000,))"
      ]
     },
     "execution_count": 6,
     "metadata": {},
     "output_type": "execute_result"
    }
   ],
   "source": [
    "train_images.shape, train_labels.shape"
   ]
  },
  {
   "cell_type": "code",
   "execution_count": 7,
   "id": "f50dc2bb",
   "metadata": {
    "execution": {
     "iopub.execute_input": "2022-09-12T00:42:37.302031Z",
     "iopub.status.busy": "2022-09-12T00:42:37.301475Z",
     "iopub.status.idle": "2022-09-12T00:42:37.488697Z",
     "shell.execute_reply": "2022-09-12T00:42:37.488220Z"
    },
    "papermill": {
     "duration": 0.215142,
     "end_time": "2022-09-12T00:42:37.488811",
     "exception": false,
     "start_time": "2022-09-12T00:42:37.273669",
     "status": "completed"
    },
    "tags": []
   },
   "outputs": [],
   "source": [
    "test_images = mnist.test_images()\n",
    "test_labels = mnist.test_labels()"
   ]
  },
  {
   "cell_type": "code",
   "execution_count": 8,
   "id": "fc38cf1b",
   "metadata": {
    "execution": {
     "iopub.execute_input": "2022-09-12T00:42:37.542504Z",
     "iopub.status.busy": "2022-09-12T00:42:37.541959Z",
     "iopub.status.idle": "2022-09-12T00:42:37.555005Z",
     "shell.execute_reply": "2022-09-12T00:42:37.554562Z"
    },
    "papermill": {
     "duration": 0.040872,
     "end_time": "2022-09-12T00:42:37.555102",
     "exception": false,
     "start_time": "2022-09-12T00:42:37.514230",
     "status": "completed"
    },
    "tags": []
   },
   "outputs": [
    {
     "data": {
      "text/plain": [
       "((10000, 28, 28), (10000,))"
      ]
     },
     "execution_count": 8,
     "metadata": {},
     "output_type": "execute_result"
    }
   ],
   "source": [
    "test_images.shape, test_labels.shape"
   ]
  },
  {
   "cell_type": "code",
   "execution_count": 9,
   "id": "f9ed8fe0",
   "metadata": {
    "execution": {
     "iopub.execute_input": "2022-09-12T00:42:37.608784Z",
     "iopub.status.busy": "2022-09-12T00:42:37.608237Z",
     "iopub.status.idle": "2022-09-12T00:42:37.739437Z",
     "shell.execute_reply": "2022-09-12T00:42:37.739901Z"
    },
    "papermill": {
     "duration": 0.159729,
     "end_time": "2022-09-12T00:42:37.740023",
     "exception": false,
     "start_time": "2022-09-12T00:42:37.580294",
     "status": "completed"
    },
    "tags": []
   },
   "outputs": [
    {
     "name": "stdout",
     "output_type": "stream",
     "text": [
      "2\n"
     ]
    },
    {
     "data": {
      "text/plain": [
       "<matplotlib.image.AxesImage at 0x7ff19f6c8c50>"
      ]
     },
     "execution_count": 9,
     "metadata": {},
     "output_type": "execute_result"
    },
    {
     "data": {
      "image/png": "[encoded data removed]",
      "text/plain": [
       "<Figure size 432x288 with 1 Axes>"
      ]
     },
     "metadata": {
      "needs_background": "light"
     },
     "output_type": "display_data"
    }
   ],
   "source": [
    "image_index = 7776 # You may select anything up to 60,000\n",
    "print(train_labels[image_index]) \n",
    "plt.imshow(train_images[image_index], cmap='Greys')"
   ]
  },
  {
   "cell_type": "markdown",
   "id": "a8d2388d",
   "metadata": {
    "papermill": {
     "duration": 0.02672,
     "end_time": "2022-09-12T00:42:37.793584",
     "exception": false,
     "start_time": "2022-09-12T00:42:37.766864",
     "status": "completed"
    },
    "tags": []
   },
   "source": [
    "## Filter data to get 3 and 8 out"
   ]
  },
  {
   "cell_type": "code",
   "execution_count": 10,
   "id": "776f7fc7",
   "metadata": {
    "execution": {
     "iopub.execute_input": "2022-09-12T00:42:37.850498Z",
     "iopub.status.busy": "2022-09-12T00:42:37.849936Z",
     "iopub.status.idle": "2022-09-12T00:42:37.866801Z",
     "shell.execute_reply": "2022-09-12T00:42:37.866253Z"
    },
    "papermill": {
     "duration": 0.046846,
     "end_time": "2022-09-12T00:42:37.866901",
     "exception": false,
     "start_time": "2022-09-12T00:42:37.820055",
     "status": "completed"
    },
    "tags": []
   },
   "outputs": [],
   "source": [
    "train_filter = np.where((train_labels == 3 ) | (train_labels == 8))\n",
    "test_filter = np.where((test_labels == 3) | (test_labels == 8))\n",
    "X_train, y_train = train_images[train_filter], train_labels[train_filter]\n",
    "X_test, y_test = test_images[test_filter], test_labels[test_filter]"
   ]
  },
  {
   "cell_type": "markdown",
   "id": "948f0b7e",
   "metadata": {
    "papermill": {
     "duration": 0.026866,
     "end_time": "2022-09-12T00:42:37.920383",
     "exception": false,
     "start_time": "2022-09-12T00:42:37.893517",
     "status": "completed"
    },
    "tags": []
   },
   "source": [
    "We normalize the pizel values in the 0 to 1 range"
   ]
  },
  {
   "cell_type": "code",
   "execution_count": 11,
   "id": "ee4c2166",
   "metadata": {
    "execution": {
     "iopub.execute_input": "2022-09-12T00:42:37.976867Z",
     "iopub.status.busy": "2022-09-12T00:42:37.976303Z",
     "iopub.status.idle": "2022-09-12T00:42:38.015938Z",
     "shell.execute_reply": "2022-09-12T00:42:38.015453Z"
    },
    "papermill": {
     "duration": 0.069126,
     "end_time": "2022-09-12T00:42:38.016045",
     "exception": false,
     "start_time": "2022-09-12T00:42:37.946919",
     "status": "completed"
    },
    "tags": []
   },
   "outputs": [],
   "source": [
    "X_train = X_train/255.\n",
    "X_test = X_test/255."
   ]
  },
  {
   "cell_type": "markdown",
   "id": "ddcf4fab",
   "metadata": {
    "papermill": {
     "duration": 0.026748,
     "end_time": "2022-09-12T00:42:38.069706",
     "exception": false,
     "start_time": "2022-09-12T00:42:38.042958",
     "status": "completed"
    },
    "tags": []
   },
   "source": [
    "And setup the labels as 1 (when the digit is 3) and 0 (when the digit is 8)"
   ]
  },
  {
   "cell_type": "code",
   "execution_count": 12,
   "id": "7dc908f2",
   "metadata": {
    "execution": {
     "iopub.execute_input": "2022-09-12T00:42:38.126282Z",
     "iopub.status.busy": "2022-09-12T00:42:38.125705Z",
     "iopub.status.idle": "2022-09-12T00:42:38.137513Z",
     "shell.execute_reply": "2022-09-12T00:42:38.137080Z"
    },
    "papermill": {
     "duration": 0.041424,
     "end_time": "2022-09-12T00:42:38.137614",
     "exception": false,
     "start_time": "2022-09-12T00:42:38.096190",
     "status": "completed"
    },
    "tags": []
   },
   "outputs": [],
   "source": [
    "y_train = 1*(y_train==3)\n",
    "y_test = 1*(y_test==3)"
   ]
  },
  {
   "cell_type": "code",
   "execution_count": 13,
   "id": "01e4e969",
   "metadata": {
    "execution": {
     "iopub.execute_input": "2022-09-12T00:42:38.194216Z",
     "iopub.status.busy": "2022-09-12T00:42:38.193663Z",
     "iopub.status.idle": "2022-09-12T00:42:38.206556Z",
     "shell.execute_reply": "2022-09-12T00:42:38.206109Z"
    },
    "papermill": {
     "duration": 0.042393,
     "end_time": "2022-09-12T00:42:38.206653",
     "exception": false,
     "start_time": "2022-09-12T00:42:38.164260",
     "status": "completed"
    },
    "tags": []
   },
   "outputs": [
    {
     "data": {
      "text/plain": [
       "((11982, 28, 28), (1984, 28, 28))"
      ]
     },
     "execution_count": 13,
     "metadata": {},
     "output_type": "execute_result"
    }
   ],
   "source": [
    "X_train.shape, X_test.shape"
   ]
  },
  {
   "cell_type": "markdown",
   "id": "5ccf3f85",
   "metadata": {
    "papermill": {
     "duration": 0.02661,
     "end_time": "2022-09-12T00:42:38.259993",
     "exception": false,
     "start_time": "2022-09-12T00:42:38.233383",
     "status": "completed"
    },
    "tags": []
   },
   "source": [
    "We reshape the data to flatten the image pixels into a set of features or co-variates:"
   ]
  },
  {
   "cell_type": "code",
   "execution_count": 14,
   "id": "5286a4a3",
   "metadata": {
    "execution": {
     "iopub.execute_input": "2022-09-12T00:42:38.317344Z",
     "iopub.status.busy": "2022-09-12T00:42:38.316801Z",
     "iopub.status.idle": "2022-09-12T00:42:38.330194Z",
     "shell.execute_reply": "2022-09-12T00:42:38.329745Z"
    },
    "papermill": {
     "duration": 0.043403,
     "end_time": "2022-09-12T00:42:38.330290",
     "exception": false,
     "start_time": "2022-09-12T00:42:38.286887",
     "status": "completed"
    },
    "tags": []
   },
   "outputs": [
    {
     "data": {
      "text/plain": [
       "((11982, 784), (1984, 784))"
      ]
     },
     "execution_count": 14,
     "metadata": {},
     "output_type": "execute_result"
    }
   ],
   "source": [
    "X_train = X_train.reshape(X_train.shape[0], -1)\n",
    "X_test = X_test.reshape(X_test.shape[0], -1)\n",
    "X_train.shape, X_test.shape"
   ]
  },
  {
   "cell_type": "code",
   "execution_count": 15,
   "id": "73c5f88a",
   "metadata": {
    "execution": {
     "iopub.execute_input": "2022-09-12T00:42:38.387637Z",
     "iopub.status.busy": "2022-09-12T00:42:38.387067Z",
     "iopub.status.idle": "2022-09-12T00:42:38.404426Z",
     "shell.execute_reply": "2022-09-12T00:42:38.404862Z"
    },
    "papermill": {
     "duration": 0.047882,
     "end_time": "2022-09-12T00:42:38.404971",
     "exception": false,
     "start_time": "2022-09-12T00:42:38.357089",
     "status": "completed"
    },
    "tags": []
   },
   "outputs": [],
   "source": [
    "#Impoting functions from 'Kudzu'\n",
    "from kudzu.model import Model\n",
    "from kudzu.train import Learner\n",
    "from kudzu.optim import GD\n",
    "from kudzu.data import Data, Sampler,Dataloader\n",
    "\n",
    "from kudzu.callbacks import AccCallback\n",
    "from kudzu.callbacks import ClfCallback\n",
    "\n",
    "from kudzu.loss import MSE\n",
    "\n",
    "from kudzu.layer import Sigmoid,Relu\n",
    "from kudzu.layer import Affine"
   ]
  },
  {
   "cell_type": "markdown",
   "id": "bc01172a",
   "metadata": {
    "papermill": {
     "duration": 0.027065,
     "end_time": "2022-09-12T00:42:38.458974",
     "exception": false,
     "start_time": "2022-09-12T00:42:38.431909",
     "status": "completed"
    },
    "tags": []
   },
   "source": [
    "### Let us create a `Config` class, to store important parameters. \n",
    "This class essentially plays the role of a dictionary."
   ]
  },
  {
   "cell_type": "code",
   "execution_count": 16,
   "id": "978281aa",
   "metadata": {
    "execution": {
     "iopub.execute_input": "2022-09-12T00:42:38.516978Z",
     "iopub.status.busy": "2022-09-12T00:42:38.516417Z",
     "iopub.status.idle": "2022-09-12T00:42:38.527938Z",
     "shell.execute_reply": "2022-09-12T00:42:38.528390Z"
    },
    "papermill": {
     "duration": 0.042631,
     "end_time": "2022-09-12T00:42:38.528507",
     "exception": false,
     "start_time": "2022-09-12T00:42:38.485876",
     "status": "completed"
    },
    "tags": []
   },
   "outputs": [],
   "source": [
    "class Config:\n",
    "    pass\n",
    "config = Config()\n",
    "config.lr = 0.001\n",
    "config.num_epochs = 250\n",
    "config.bs = 50"
   ]
  },
  {
   "cell_type": "markdown",
   "id": "1385fa59",
   "metadata": {
    "papermill": {
     "duration": 0.026955,
     "end_time": "2022-09-12T00:42:38.582541",
     "exception": false,
     "start_time": "2022-09-12T00:42:38.555586",
     "status": "completed"
    },
    "tags": []
   },
   "source": [
    "### Running Models with the Training data\n",
    "Details about the network layers:\n",
    "- A first affine layer has 784 inputs and does 100 affine transforms. These are followed by a Relu\n",
    "- A second affine layer has 100 inputs from the 100 activations of the past layer, and does 100 affine transforms. These are followed by a Relu\n",
    "- A third affine layer has 100 activations and does 2 affine transformations to create an embedding for visualization. There is no non-linearity here.\n",
    "- A final \"logistic regression\" which has an affine transform from 2 inputs to 1 output, which is squeezed through a sigmoid.\n"
   ]
  },
  {
   "cell_type": "code",
   "execution_count": 17,
   "id": "2b9c66db",
   "metadata": {
    "execution": {
     "iopub.execute_input": "2022-09-12T00:42:38.641094Z",
     "iopub.status.busy": "2022-09-12T00:42:38.640541Z",
     "iopub.status.idle": "2022-09-12T00:42:38.652872Z",
     "shell.execute_reply": "2022-09-12T00:42:38.652408Z"
    },
    "papermill": {
     "duration": 0.043252,
     "end_time": "2022-09-12T00:42:38.652975",
     "exception": false,
     "start_time": "2022-09-12T00:42:38.609723",
     "status": "completed"
    },
    "tags": []
   },
   "outputs": [],
   "source": [
    "data = Data(X_train, y_train.reshape(-1,1))\n",
    "sampler = Sampler(data, config.bs, shuffle=True)\n",
    "\n",
    "dl = Dataloader(data, sampler)\n",
    "\n",
    "opt = GD(config.lr)\n",
    "loss = MSE()"
   ]
  },
  {
   "cell_type": "code",
   "execution_count": 18,
   "id": "b275e4c2",
   "metadata": {
    "execution": {
     "iopub.execute_input": "2022-09-12T00:42:38.711347Z",
     "iopub.status.busy": "2022-09-12T00:42:38.710783Z",
     "iopub.status.idle": "2022-09-12T00:42:38.722730Z",
     "shell.execute_reply": "2022-09-12T00:42:38.722269Z"
    },
    "papermill": {
     "duration": 0.042472,
     "end_time": "2022-09-12T00:42:38.722832",
     "exception": false,
     "start_time": "2022-09-12T00:42:38.680360",
     "status": "completed"
    },
    "tags": []
   },
   "outputs": [],
   "source": [
    "training_data_x = X_train\n",
    "testing_data_x = X_test\n",
    "training_data_y = y_train.reshape(-1,1)\n",
    "testing_data_y = y_test.reshape(-1,1)"
   ]
  },
  {
   "cell_type": "code",
   "execution_count": 19,
   "id": "76951160",
   "metadata": {
    "execution": {
     "iopub.execute_input": "2022-09-12T00:42:38.780964Z",
     "iopub.status.busy": "2022-09-12T00:42:38.780400Z",
     "iopub.status.idle": "2022-09-12T00:42:38.796691Z",
     "shell.execute_reply": "2022-09-12T00:42:38.796164Z"
    },
    "papermill": {
     "duration": 0.047016,
     "end_time": "2022-09-12T00:42:38.796788",
     "exception": false,
     "start_time": "2022-09-12T00:42:38.749772",
     "status": "completed"
    },
    "tags": []
   },
   "outputs": [
    {
     "name": "stdout",
     "output_type": "stream",
     "text": [
      "xavier\n",
      "xavier\n",
      "xavier\n",
      "xavier\n",
      "xavier\n"
     ]
    }
   ],
   "source": [
    "layers = [Affine(\"first\", 784, 100), Relu(\"first\"), Affine(\"second\", 100, 100), Relu(\"second\"), Affine(\"third\", 100, 2), Affine(\"last\", 2, 1), Sigmoid(\"last\")]\n",
    "model_nn = Model(layers)\n",
    "model_lr = Model([Affine(\"logits\", 784, 1), Sigmoid(\"sigmoid\")])"
   ]
  },
  {
   "cell_type": "code",
   "execution_count": 20,
   "id": "6eede77a",
   "metadata": {
    "execution": {
     "iopub.execute_input": "2022-09-12T00:42:38.854843Z",
     "iopub.status.busy": "2022-09-12T00:42:38.854301Z",
     "iopub.status.idle": "2022-09-12T00:42:38.865917Z",
     "shell.execute_reply": "2022-09-12T00:42:38.865385Z"
    },
    "papermill": {
     "duration": 0.041805,
     "end_time": "2022-09-12T00:42:38.866013",
     "exception": false,
     "start_time": "2022-09-12T00:42:38.824208",
     "status": "completed"
    },
    "tags": []
   },
   "outputs": [],
   "source": [
    "nn_learner = Learner(loss, model_nn, opt, config.num_epochs)\n",
    "acc_nn = ClfCallback(nn_learner, config.bs, training_data_x , testing_data_x, training_data_y, testing_data_y)\n",
    "nn_learner.set_callbacks([acc_nn])"
   ]
  },
  {
   "cell_type": "code",
   "execution_count": 21,
   "id": "877b6cc7",
   "metadata": {
    "execution": {
     "iopub.execute_input": "2022-09-12T00:42:38.924277Z",
     "iopub.status.busy": "2022-09-12T00:42:38.923674Z",
     "iopub.status.idle": "2022-09-12T00:42:38.935030Z",
     "shell.execute_reply": "2022-09-12T00:42:38.935429Z"
    },
    "papermill": {
     "duration": 0.042358,
     "end_time": "2022-09-12T00:42:38.935546",
     "exception": false,
     "start_time": "2022-09-12T00:42:38.893188",
     "status": "completed"
    },
    "tags": []
   },
   "outputs": [],
   "source": [
    "lr_learner = Learner(loss, model_lr, opt, config.num_epochs)\n",
    "acc_lr = ClfCallback(lr_learner, config.bs, training_data_x , testing_data_x, training_data_y, testing_data_y)\n",
    "lr_learner.set_callbacks([acc_lr])"
   ]
  },
  {
   "cell_type": "code",
   "execution_count": 22,
   "id": "d9b133c3",
   "metadata": {
    "execution": {
     "iopub.execute_input": "2022-09-12T00:42:38.993356Z",
     "iopub.status.busy": "2022-09-12T00:42:38.992805Z",
     "iopub.status.idle": "2022-09-12T00:45:33.318252Z",
     "shell.execute_reply": "2022-09-12T00:45:33.318709Z"
    },
    "papermill": {
     "duration": 174.355928,
     "end_time": "2022-09-12T00:45:33.318835",
     "exception": false,
     "start_time": "2022-09-12T00:42:38.962907",
     "status": "completed"
    },
    "tags": []
   },
   "outputs": [
    {
     "name": "stdout",
     "output_type": "stream",
     "text": [
      "Epoch 0, Loss 0.2329\n",
      "Training Accuracy: 0.7055, Testing Accuracy: 0.7419\n",
      "\n"
     ]
    },
    {
     "name": "stdout",
     "output_type": "stream",
     "text": [
      "Epoch 10, Loss 0.0862\n",
      "Training Accuracy: 0.9179, Testing Accuracy: 0.9330\n",
      "\n"
     ]
    },
    {
     "name": "stdout",
     "output_type": "stream",
     "text": [
      "Epoch 20, Loss 0.0542\n",
      "Training Accuracy: 0.9424, Testing Accuracy: 0.9526\n",
      "\n"
     ]
    },
    {
     "name": "stdout",
     "output_type": "stream",
     "text": [
      "Epoch 30, Loss 0.0432\n",
      "Training Accuracy: 0.9516, Testing Accuracy: 0.9602\n",
      "\n"
     ]
    },
    {
     "name": "stdout",
     "output_type": "stream",
     "text": [
      "Epoch 40, Loss 0.0378\n",
      "Training Accuracy: 0.9574, Testing Accuracy: 0.9652\n",
      "\n"
     ]
    },
    {
     "name": "stdout",
     "output_type": "stream",
     "text": [
      "Epoch 50, Loss 0.0343\n",
      "Training Accuracy: 0.9606, Testing Accuracy: 0.9677\n",
      "\n"
     ]
    },
    {
     "name": "stdout",
     "output_type": "stream",
     "text": [
      "Epoch 60, Loss 0.0319\n",
      "Training Accuracy: 0.9627, Testing Accuracy: 0.9693\n",
      "\n"
     ]
    },
    {
     "name": "stdout",
     "output_type": "stream",
     "text": [
      "Epoch 70, Loss 0.0301\n",
      "Training Accuracy: 0.9647, Testing Accuracy: 0.9693\n",
      "\n"
     ]
    },
    {
     "name": "stdout",
     "output_type": "stream",
     "text": [
      "Epoch 80, Loss 0.0286\n",
      "Training Accuracy: 0.9662, Testing Accuracy: 0.9688\n",
      "\n"
     ]
    },
    {
     "name": "stdout",
     "output_type": "stream",
     "text": [
      "Epoch 90, Loss 0.0273\n",
      "Training Accuracy: 0.9682, Testing Accuracy: 0.9693\n",
      "\n"
     ]
    },
    {
     "name": "stdout",
     "output_type": "stream",
     "text": [
      "Epoch 100, Loss 0.0262\n",
      "Training Accuracy: 0.9690, Testing Accuracy: 0.9703\n",
      "\n"
     ]
    },
    {
     "name": "stdout",
     "output_type": "stream",
     "text": [
      "Epoch 110, Loss 0.0253\n",
      "Training Accuracy: 0.9705, Testing Accuracy: 0.9703\n",
      "\n"
     ]
    },
    {
     "name": "stdout",
     "output_type": "stream",
     "text": [
      "Epoch 120, Loss 0.0245\n",
      "Training Accuracy: 0.9718, Testing Accuracy: 0.9708\n",
      "\n"
     ]
    },
    {
     "name": "stdout",
     "output_type": "stream",
     "text": [
      "Epoch 130, Loss 0.0237\n",
      "Training Accuracy: 0.9728, Testing Accuracy: 0.9713\n",
      "\n"
     ]
    },
    {
     "name": "stdout",
     "output_type": "stream",
     "text": [
      "Epoch 140, Loss 0.023\n",
      "Training Accuracy: 0.9737, Testing Accuracy: 0.9713\n",
      "\n"
     ]
    },
    {
     "name": "stdout",
     "output_type": "stream",
     "text": [
      "Epoch 150, Loss 0.0224\n",
      "Training Accuracy: 0.9740, Testing Accuracy: 0.9723\n",
      "\n"
     ]
    },
    {
     "name": "stdout",
     "output_type": "stream",
     "text": [
      "Epoch 160, Loss 0.0218\n",
      "Training Accuracy: 0.9750, Testing Accuracy: 0.9728\n",
      "\n"
     ]
    },
    {
     "name": "stdout",
     "output_type": "stream",
     "text": [
      "Epoch 170, Loss 0.0212\n",
      "Training Accuracy: 0.9758, Testing Accuracy: 0.9728\n",
      "\n"
     ]
    },
    {
     "name": "stdout",
     "output_type": "stream",
     "text": [
      "Epoch 180, Loss 0.0207\n",
      "Training Accuracy: 0.9764, Testing Accuracy: 0.9728\n",
      "\n"
     ]
    },
    {
     "name": "stdout",
     "output_type": "stream",
     "text": [
      "Epoch 190, Loss 0.0202\n",
      "Training Accuracy: 0.9770, Testing Accuracy: 0.9738\n",
      "\n"
     ]
    },
    {
     "name": "stdout",
     "output_type": "stream",
     "text": [
      "Epoch 200, Loss 0.0198\n",
      "Training Accuracy: 0.9779, Testing Accuracy: 0.9748\n",
      "\n"
     ]
    },
    {
     "name": "stdout",
     "output_type": "stream",
     "text": [
      "Epoch 210, Loss 0.0193\n",
      "Training Accuracy: 0.9784, Testing Accuracy: 0.9748\n",
      "\n"
     ]
    },
    {
     "name": "stdout",
     "output_type": "stream",
     "text": [
      "Epoch 220, Loss 0.0189\n",
      "Training Accuracy: 0.9792, Testing Accuracy: 0.9748\n",
      "\n"
     ]
    },
    {
     "name": "stdout",
     "output_type": "stream",
     "text": [
      "Epoch 230, Loss 0.0184\n",
      "Training Accuracy: 0.9796, Testing Accuracy: 0.9743\n",
      "\n"
     ]
    },
    {
     "name": "stdout",
     "output_type": "stream",
     "text": [
      "Epoch 240, Loss 0.018\n",
      "Training Accuracy: 0.9798, Testing Accuracy: 0.9743\n",
      "\n"
     ]
    },
    {
     "data": {
      "text/plain": [
       "0.017577412731120234"
      ]
     },
     "execution_count": 22,
     "metadata": {},
     "output_type": "execute_result"
    }
   ],
   "source": [
    "nn_learner.train_loop(dl)"
   ]
  },
  {
   "cell_type": "code",
   "execution_count": 23,
   "id": "e0163366",
   "metadata": {
    "execution": {
     "iopub.execute_input": "2022-09-12T00:45:33.394298Z",
     "iopub.status.busy": "2022-09-12T00:45:33.392629Z",
     "iopub.status.idle": "2022-09-12T00:45:45.402366Z",
     "shell.execute_reply": "2022-09-12T00:45:45.403147Z"
    },
    "papermill": {
     "duration": 12.050135,
     "end_time": "2022-09-12T00:45:45.403275",
     "exception": false,
     "start_time": "2022-09-12T00:45:33.353140",
     "status": "completed"
    },
    "tags": []
   },
   "outputs": [
    {
     "name": "stdout",
     "output_type": "stream",
     "text": [
      "Epoch 0, Loss 0.2369\n",
      "Training Accuracy: 0.6877, Testing Accuracy: 0.6966\n",
      "\n"
     ]
    },
    {
     "name": "stdout",
     "output_type": "stream",
     "text": [
      "Epoch 10, Loss 0.1039\n",
      "Training Accuracy: 0.9078, Testing Accuracy: 0.9194\n",
      "\n"
     ]
    },
    {
     "name": "stdout",
     "output_type": "stream",
     "text": [
      "Epoch 20, Loss 0.0795\n",
      "Training Accuracy: 0.9261, Testing Accuracy: 0.9405\n",
      "\n"
     ]
    },
    {
     "name": "stdout",
     "output_type": "stream",
     "text": [
      "Epoch 30, Loss 0.0684\n",
      "Training Accuracy: 0.9362, Testing Accuracy: 0.9486\n",
      "\n"
     ]
    },
    {
     "name": "stdout",
     "output_type": "stream",
     "text": [
      "Epoch 40, Loss 0.0618\n",
      "Training Accuracy: 0.9421, Testing Accuracy: 0.9531\n",
      "\n"
     ]
    },
    {
     "name": "stdout",
     "output_type": "stream",
     "text": [
      "Epoch 50, Loss 0.0573\n",
      "Training Accuracy: 0.9447, Testing Accuracy: 0.9536\n",
      "\n"
     ]
    },
    {
     "name": "stdout",
     "output_type": "stream",
     "text": [
      "Epoch 60, Loss 0.054\n",
      "Training Accuracy: 0.9472, Testing Accuracy: 0.9556\n",
      "\n"
     ]
    },
    {
     "name": "stdout",
     "output_type": "stream",
     "text": [
      "Epoch 70, Loss 0.0514\n",
      "Training Accuracy: 0.9490, Testing Accuracy: 0.9577\n",
      "\n"
     ]
    },
    {
     "name": "stdout",
     "output_type": "stream",
     "text": [
      "Epoch 80, Loss 0.0494\n",
      "Training Accuracy: 0.9513, Testing Accuracy: 0.9597\n",
      "\n"
     ]
    },
    {
     "name": "stdout",
     "output_type": "stream",
     "text": [
      "Epoch 90, Loss 0.0477\n",
      "Training Accuracy: 0.9526, Testing Accuracy: 0.9607\n",
      "\n"
     ]
    },
    {
     "name": "stdout",
     "output_type": "stream",
     "text": [
      "Epoch 100, Loss 0.0463\n",
      "Training Accuracy: 0.9534, Testing Accuracy: 0.9622\n",
      "\n"
     ]
    },
    {
     "name": "stdout",
     "output_type": "stream",
     "text": [
      "Epoch 110, Loss 0.0451\n",
      "Training Accuracy: 0.9541, Testing Accuracy: 0.9642\n",
      "\n"
     ]
    },
    {
     "name": "stdout",
     "output_type": "stream",
     "text": [
      "Epoch 120, Loss 0.044\n",
      "Training Accuracy: 0.9549, Testing Accuracy: 0.9642\n",
      "\n"
     ]
    },
    {
     "name": "stdout",
     "output_type": "stream",
     "text": [
      "Epoch 130, Loss 0.0431\n",
      "Training Accuracy: 0.9552, Testing Accuracy: 0.9647\n",
      "\n"
     ]
    },
    {
     "name": "stdout",
     "output_type": "stream",
     "text": [
      "Epoch 140, Loss 0.0422\n",
      "Training Accuracy: 0.9565, Testing Accuracy: 0.9662\n",
      "\n"
     ]
    },
    {
     "name": "stdout",
     "output_type": "stream",
     "text": [
      "Epoch 150, Loss 0.0415\n",
      "Training Accuracy: 0.9569, Testing Accuracy: 0.9662\n",
      "\n"
     ]
    },
    {
     "name": "stdout",
     "output_type": "stream",
     "text": [
      "Epoch 160, Loss 0.0408\n",
      "Training Accuracy: 0.9571, Testing Accuracy: 0.9662\n",
      "\n"
     ]
    },
    {
     "name": "stdout",
     "output_type": "stream",
     "text": [
      "Epoch 170, Loss 0.0402\n",
      "Training Accuracy: 0.9576, Testing Accuracy: 0.9672\n",
      "\n"
     ]
    },
    {
     "name": "stdout",
     "output_type": "stream",
     "text": [
      "Epoch 180, Loss 0.0396\n",
      "Training Accuracy: 0.9580, Testing Accuracy: 0.9672\n",
      "\n"
     ]
    },
    {
     "name": "stdout",
     "output_type": "stream",
     "text": [
      "Epoch 190, Loss 0.0391\n",
      "Training Accuracy: 0.9583, Testing Accuracy: 0.9672\n",
      "\n"
     ]
    },
    {
     "name": "stdout",
     "output_type": "stream",
     "text": [
      "Epoch 200, Loss 0.0386\n",
      "Training Accuracy: 0.9588, Testing Accuracy: 0.9677\n",
      "\n"
     ]
    },
    {
     "name": "stdout",
     "output_type": "stream",
     "text": [
      "Epoch 210, Loss 0.0382\n",
      "Training Accuracy: 0.9592, Testing Accuracy: 0.9677\n",
      "\n"
     ]
    },
    {
     "name": "stdout",
     "output_type": "stream",
     "text": [
      "Epoch 220, Loss 0.0378\n",
      "Training Accuracy: 0.9594, Testing Accuracy: 0.9677\n",
      "\n"
     ]
    },
    {
     "name": "stdout",
     "output_type": "stream",
     "text": [
      "Epoch 230, Loss 0.0374\n",
      "Training Accuracy: 0.9599, Testing Accuracy: 0.9677\n",
      "\n"
     ]
    },
    {
     "name": "stdout",
     "output_type": "stream",
     "text": [
      "Epoch 240, Loss 0.037\n",
      "Training Accuracy: 0.9601, Testing Accuracy: 0.9682\n",
      "\n"
     ]
    },
    {
     "data": {
      "text/plain": [
       "0.030541096108115028"
      ]
     },
     "execution_count": 23,
     "metadata": {},
     "output_type": "execute_result"
    }
   ],
   "source": [
    "lr_learner.train_loop(dl)"
   ]
  },
  {
   "cell_type": "code",
   "execution_count": 24,
   "id": "ca410940",
   "metadata": {
    "execution": {
     "iopub.execute_input": "2022-09-12T00:45:45.497126Z",
     "iopub.status.busy": "2022-09-12T00:45:45.496559Z",
     "iopub.status.idle": "2022-09-12T00:45:45.715466Z",
     "shell.execute_reply": "2022-09-12T00:45:45.715934Z"
    },
    "papermill": {
     "duration": 0.271299,
     "end_time": "2022-09-12T00:45:45.716066",
     "exception": false,
     "start_time": "2022-09-12T00:45:45.444767",
     "status": "completed"
    },
    "tags": []
   },
   "outputs": [
    {
     "data": {
      "text/plain": [
       "<matplotlib.legend.Legend at 0x7ff19f226fd0>"
      ]
     },
     "execution_count": 24,
     "metadata": {},
     "output_type": "execute_result"
    },
    {
     "data": {
      "image/png": "[encoded data removed]",
      "text/plain": [
       "<Figure size 1080x720 with 1 Axes>"
      ]
     },
     "metadata": {
      "needs_background": "light"
     },
     "output_type": "display_data"
    }
   ],
   "source": [
    "#comparing the results of NN and LR\n",
    "plt.figure(figsize=(15,10))\n",
    "\n",
    "# Neural Network plots\n",
    "plt.plot(acc_nn.accuracies, 'r-', label = \"Training Accuracies - NN\")\n",
    "plt.plot(acc_nn.test_accuracies, 'g-', label = \"Testing Accuracies - NN\")\n",
    "\n",
    "# Logistic Regression plots\n",
    "plt.plot(acc_lr.accuracies, 'k-', label = \"Training Accuracies - LR\")\n",
    "plt.plot(acc_lr.test_accuracies, 'b-', label = \"Testing Accuracies - LR\")\n",
    "plt.legend()"
   ]
  },
  {
   "cell_type": "markdown",
   "id": "80dfb35c",
   "metadata": {
    "papermill": {
     "duration": 0.042705,
     "end_time": "2022-09-12T00:45:45.801396",
     "exception": false,
     "start_time": "2022-09-12T00:45:45.758691",
     "status": "completed"
    },
    "tags": []
   },
   "source": [
    "#### Plotting the outputs of this layer of the NN.\n"
   ]
  },
  {
   "cell_type": "code",
   "execution_count": 25,
   "id": "45eb2ff5",
   "metadata": {
    "execution": {
     "iopub.execute_input": "2022-09-12T00:45:45.892014Z",
     "iopub.status.busy": "2022-09-12T00:45:45.890498Z",
     "iopub.status.idle": "2022-09-12T00:45:45.926251Z",
     "shell.execute_reply": "2022-09-12T00:45:45.925778Z"
    },
    "papermill": {
     "duration": 0.082739,
     "end_time": "2022-09-12T00:45:45.926354",
     "exception": false,
     "start_time": "2022-09-12T00:45:45.843615",
     "status": "completed"
    },
    "tags": []
   },
   "outputs": [],
   "source": [
    "new_model = Model(layers[:-2])\n",
    "testing_plot = new_model(testing_data_x)"
   ]
  },
  {
   "cell_type": "code",
   "execution_count": 26,
   "id": "4c0a5485",
   "metadata": {
    "execution": {
     "iopub.execute_input": "2022-09-12T00:45:46.020190Z",
     "iopub.status.busy": "2022-09-12T00:45:46.019388Z",
     "iopub.status.idle": "2022-09-12T00:45:46.214598Z",
     "shell.execute_reply": "2022-09-12T00:45:46.215035Z"
    },
    "papermill": {
     "duration": 0.246351,
     "end_time": "2022-09-12T00:45:46.215166",
     "exception": false,
     "start_time": "2022-09-12T00:45:45.968815",
     "status": "completed"
    },
    "tags": []
   },
   "outputs": [
    {
     "data": {
      "text/plain": [
       "Text(0.5, 1.0, 'Outputs')"
      ]
     },
     "execution_count": 26,
     "metadata": {},
     "output_type": "execute_result"
    },
    {
     "data": {
      "image/png": "[encoded data removed]",
      "text/plain": [
       "<Figure size 576x504 with 1 Axes>"
      ]
     },
     "metadata": {
      "needs_background": "light"
     },
     "output_type": "display_data"
    }
   ],
   "source": [
    "# Plotting the scatter plot of points and color coding by class\n",
    "plt.figure(figsize=(8,7))\n",
    "plt.scatter(testing_plot[:,0], testing_plot[:,1], alpha = 0.1, c = y_test.ravel());\n",
    "plt.title('Outputs')"
   ]
  },
  {
   "cell_type": "markdown",
   "id": "a74fcf8f",
   "metadata": {
    "papermill": {
     "duration": 0.044278,
     "end_time": "2022-09-12T00:45:46.304045",
     "exception": false,
     "start_time": "2022-09-12T00:45:46.259767",
     "status": "completed"
    },
    "tags": []
   },
   "source": [
    "Probability contours"
   ]
  },
  {
   "cell_type": "code",
   "execution_count": 27,
   "id": "d0afc8e3",
   "metadata": {
    "execution": {
     "iopub.execute_input": "2022-09-12T00:45:46.420492Z",
     "iopub.status.busy": "2022-09-12T00:45:46.418113Z",
     "iopub.status.idle": "2022-09-12T00:45:46.429464Z",
     "shell.execute_reply": "2022-09-12T00:45:46.429903Z"
    },
    "papermill": {
     "duration": 0.081457,
     "end_time": "2022-09-12T00:45:46.430016",
     "exception": false,
     "start_time": "2022-09-12T00:45:46.348559",
     "status": "completed"
    },
    "tags": []
   },
   "outputs": [],
   "source": [
    "model_prob = Model(layers[-2:]) "
   ]
  },
  {
   "cell_type": "code",
   "execution_count": 28,
   "id": "9b96e238",
   "metadata": {
    "execution": {
     "iopub.execute_input": "2022-09-12T00:45:46.523300Z",
     "iopub.status.busy": "2022-09-12T00:45:46.522723Z",
     "iopub.status.idle": "2022-09-12T00:45:46.536470Z",
     "shell.execute_reply": "2022-09-12T00:45:46.539010Z"
    },
    "papermill": {
     "duration": 0.064647,
     "end_time": "2022-09-12T00:45:46.539128",
     "exception": false,
     "start_time": "2022-09-12T00:45:46.474481",
     "status": "completed"
    },
    "tags": []
   },
   "outputs": [],
   "source": [
    "#creating the x and y ranges according to the above generated plot.\n",
    "x_range = np.linspace(-4, 1, 100) \n",
    "y_range = np.linspace(-6, 6, 100) \n",
    "x_grid, y_grid = np.meshgrid(x_range, y_range) # x_grid and y_grig are of size 100 X 100\n",
    "\n",
    "# converting x_grid and y_grid to continuous arrays\n",
    "x_gridflat = np.ravel(x_grid)\n",
    "y_gridflat = np.ravel(y_grid)\n",
    "\n",
    "# The last layer of the current model takes two columns as input. Hence transpose of np.vstack() is required.\n",
    "X = np.vstack((x_gridflat, y_gridflat)).T\n",
    "\n",
    "prob_contour = model_prob(X).reshape(100,100) "
   ]
  },
  {
   "cell_type": "code",
   "execution_count": 29,
   "id": "da72499a",
   "metadata": {
    "execution": {
     "iopub.execute_input": "2022-09-12T00:45:46.632037Z",
     "iopub.status.busy": "2022-09-12T00:45:46.631434Z",
     "iopub.status.idle": "2022-09-12T00:45:46.876268Z",
     "shell.execute_reply": "2022-09-12T00:45:46.876718Z"
    },
    "papermill": {
     "duration": 0.293036,
     "end_time": "2022-09-12T00:45:46.876843",
     "exception": false,
     "start_time": "2022-09-12T00:45:46.583807",
     "status": "completed"
    },
    "tags": []
   },
   "outputs": [
    {
     "data": {
      "image/png": "[encoded data removed]",
      "text/plain": [
       "<Figure size 720x648 with 1 Axes>"
      ]
     },
     "metadata": {
      "needs_background": "light"
     },
     "output_type": "display_data"
    }
   ],
   "source": [
    "plt.figure(figsize=(10,9))\n",
    "plt.scatter(testing_plot[:,0], testing_plot[:,1], alpha = 0.1, c = y_test.ravel())\n",
    "contours = plt.contour(x_grid,y_grid,prob_contour)\n",
    "plt.title('Probability Contours')\n",
    "plt.clabel(contours, inline = True );"
   ]
  },
  {
   "cell_type": "code",
   "execution_count": null,
   "id": "e81b4ac7",
   "metadata": {
    "papermill": {
     "duration": 0.046249,
     "end_time": "2022-09-12T00:45:46.970120",
     "exception": false,
     "start_time": "2022-09-12T00:45:46.923871",
     "status": "completed"
    },
    "tags": []
   },
   "outputs": [],
   "source": []
  }
 ],
 "metadata": {
  "kernelspec": {
   "display_name": "Python 3",
   "language": "python",
   "name": "python3"
  },
  "language_info": {
   "codemirror_mode": {
    "name": "ipython",
    "version": 3
   },
   "file_extension": ".py",
   "mimetype": "text/x-python",
   "name": "python",
   "nbconvert_exporter": "python",
   "pygments_lexer": "ipython3",
   "version": "3.6.15"
  },
  "papermill": {
   "default_parameters": {},
   "duration": 194.303121,
   "end_time": "2022-09-12T00:45:47.333606",
   "environment_variables": {},
   "exception": null,
   "input_path": "2020-08-11-part2.ipynb",
   "output_path": "2020-08-11-part2.ipynb",
   "parameters": {},
   "start_time": "2022-09-12T00:42:33.030485",
   "version": "2.3.3"
  }
 },
 "nbformat": 4,
 "nbformat_minor": 5
}