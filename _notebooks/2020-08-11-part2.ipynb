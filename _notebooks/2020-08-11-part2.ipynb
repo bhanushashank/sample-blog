{
 "cells": [
  {
   "cell_type": "markdown",
   "id": "98380cd3",
   "metadata": {
    "papermill": {
     "duration": 0.029992,
     "end_time": "2022-07-29T10:09:59.684929",
     "exception": false,
     "start_time": "2022-07-29T10:09:59.654937",
     "status": "completed"
    },
    "tags": []
   },
   "source": [
    "# Distinguish Your Own Digits (DYOD)"
   ]
  },
  {
   "cell_type": "markdown",
   "id": "ef31240d",
   "metadata": {
    "papermill": {
     "duration": 0.024711,
     "end_time": "2022-07-29T10:09:59.734750",
     "exception": false,
     "start_time": "2022-07-29T10:09:59.710039",
     "status": "completed"
    },
    "tags": []
   },
   "source": [
    "You are going to write a classifier that distinguishes between the number 3 and number 8."
   ]
  },
  {
   "cell_type": "code",
   "execution_count": 1,
   "id": "b15c8646",
   "metadata": {
    "execution": {
     "iopub.execute_input": "2022-07-29T10:09:59.794174Z",
     "iopub.status.busy": "2022-07-29T10:09:59.793530Z",
     "iopub.status.idle": "2022-07-29T10:09:59.804513Z",
     "shell.execute_reply": "2022-07-29T10:09:59.803937Z"
    },
    "papermill": {
     "duration": 0.045379,
     "end_time": "2022-07-29T10:09:59.804634",
     "exception": false,
     "start_time": "2022-07-29T10:09:59.759255",
     "status": "completed"
    },
    "tags": []
   },
   "outputs": [],
   "source": [
    "%load_ext autoreload\n",
    "%autoreload 2"
   ]
  },
  {
   "cell_type": "code",
   "execution_count": 2,
   "id": "22ef38dc",
   "metadata": {
    "execution": {
     "iopub.execute_input": "2022-07-29T10:09:59.857740Z",
     "iopub.status.busy": "2022-07-29T10:09:59.857124Z",
     "iopub.status.idle": "2022-07-29T10:10:00.379752Z",
     "shell.execute_reply": "2022-07-29T10:10:00.378772Z"
    },
    "papermill": {
     "duration": 0.550678,
     "end_time": "2022-07-29T10:10:00.379879",
     "exception": false,
     "start_time": "2022-07-29T10:09:59.829201",
     "status": "completed"
    },
    "tags": []
   },
   "outputs": [],
   "source": [
    "%matplotlib inline\n",
    "import numpy as np\n",
    "import matplotlib.pyplot as plt\n",
    "import pandas as pd"
   ]
  },
  {
   "cell_type": "markdown",
   "id": "ba036198",
   "metadata": {
    "papermill": {
     "duration": 0.024375,
     "end_time": "2022-07-29T10:10:00.428803",
     "exception": false,
     "start_time": "2022-07-29T10:10:00.404428",
     "status": "completed"
    },
    "tags": []
   },
   "source": [
    "From the command line run `pip install mnist`. This is a library that will help you bring down the mnist dataset. If you run this from a notebook, you need to put  `!pip install mnist` in a cell by itself."
   ]
  },
  {
   "cell_type": "code",
   "execution_count": 3,
   "id": "bb6ad8a1",
   "metadata": {
    "execution": {
     "iopub.execute_input": "2022-07-29T10:10:00.486315Z",
     "iopub.status.busy": "2022-07-29T10:10:00.481026Z",
     "iopub.status.idle": "2022-07-29T10:10:02.122344Z",
     "shell.execute_reply": "2022-07-29T10:10:02.121836Z"
    },
    "papermill": {
     "duration": 1.669247,
     "end_time": "2022-07-29T10:10:02.122454",
     "exception": false,
     "start_time": "2022-07-29T10:10:00.453207",
     "status": "completed"
    },
    "tags": []
   },
   "outputs": [
    {
     "name": "stdout",
     "output_type": "stream",
     "text": [
      "Collecting mnist\r\n"
     ]
    },
    {
     "name": "stdout",
     "output_type": "stream",
     "text": [
      "  Downloading mnist-0.2.2-py2.py3-none-any.whl (3.5 kB)\r\n",
      "Requirement already satisfied: numpy in /opt/hostedtoolcache/Python/3.6.15/x64/lib/python3.6/site-packages (from mnist) (1.19.5)\r\n"
     ]
    },
    {
     "name": "stdout",
     "output_type": "stream",
     "text": [
      "Installing collected packages: mnist\r\n",
      "Successfully installed mnist-0.2.2\r\n"
     ]
    }
   ],
   "source": [
    "!pip install mnist"
   ]
  },
  {
   "cell_type": "markdown",
   "id": "69df9c9a",
   "metadata": {
    "papermill": {
     "duration": 0.025106,
     "end_time": "2022-07-29T10:10:02.172867",
     "exception": false,
     "start_time": "2022-07-29T10:10:02.147761",
     "status": "completed"
    },
    "tags": []
   },
   "source": [
    "## Preparing the Data"
   ]
  },
  {
   "cell_type": "code",
   "execution_count": 4,
   "id": "7f69d806",
   "metadata": {
    "execution": {
     "iopub.execute_input": "2022-07-29T10:10:02.226911Z",
     "iopub.status.busy": "2022-07-29T10:10:02.226350Z",
     "iopub.status.idle": "2022-07-29T10:10:02.239999Z",
     "shell.execute_reply": "2022-07-29T10:10:02.240511Z"
    },
    "papermill": {
     "duration": 0.042742,
     "end_time": "2022-07-29T10:10:02.240630",
     "exception": false,
     "start_time": "2022-07-29T10:10:02.197888",
     "status": "completed"
    },
    "tags": []
   },
   "outputs": [],
   "source": [
    "import mnist"
   ]
  },
  {
   "cell_type": "code",
   "execution_count": 5,
   "id": "a411e44f",
   "metadata": {
    "execution": {
     "iopub.execute_input": "2022-07-29T10:10:02.294277Z",
     "iopub.status.busy": "2022-07-29T10:10:02.293707Z",
     "iopub.status.idle": "2022-07-29T10:10:02.941283Z",
     "shell.execute_reply": "2022-07-29T10:10:02.940754Z"
    },
    "papermill": {
     "duration": 0.675626,
     "end_time": "2022-07-29T10:10:02.941396",
     "exception": false,
     "start_time": "2022-07-29T10:10:02.265770",
     "status": "completed"
    },
    "tags": []
   },
   "outputs": [],
   "source": [
    "train_images = mnist.train_images()\n",
    "train_labels = mnist.train_labels()"
   ]
  },
  {
   "cell_type": "code",
   "execution_count": 6,
   "id": "dceab3a5",
   "metadata": {
    "execution": {
     "iopub.execute_input": "2022-07-29T10:10:02.996074Z",
     "iopub.status.busy": "2022-07-29T10:10:02.995498Z",
     "iopub.status.idle": "2022-07-29T10:10:03.009374Z",
     "shell.execute_reply": "2022-07-29T10:10:03.009831Z"
    },
    "papermill": {
     "duration": 0.043115,
     "end_time": "2022-07-29T10:10:03.009953",
     "exception": false,
     "start_time": "2022-07-29T10:10:02.966838",
     "status": "completed"
    },
    "tags": []
   },
   "outputs": [
    {
     "data": {
      "text/plain": [
       "((60000, 28, 28), (60000,))"
      ]
     },
     "execution_count": 6,
     "metadata": {},
     "output_type": "execute_result"
    }
   ],
   "source": [
    "train_images.shape, train_labels.shape"
   ]
  },
  {
   "cell_type": "code",
   "execution_count": 7,
   "id": "f50dc2bb",
   "metadata": {
    "execution": {
     "iopub.execute_input": "2022-07-29T10:10:03.064519Z",
     "iopub.status.busy": "2022-07-29T10:10:03.063946Z",
     "iopub.status.idle": "2022-07-29T10:10:03.290270Z",
     "shell.execute_reply": "2022-07-29T10:10:03.289744Z"
    },
    "papermill": {
     "duration": 0.255156,
     "end_time": "2022-07-29T10:10:03.290379",
     "exception": false,
     "start_time": "2022-07-29T10:10:03.035223",
     "status": "completed"
    },
    "tags": []
   },
   "outputs": [],
   "source": [
    "test_images = mnist.test_images()\n",
    "test_labels = mnist.test_labels()"
   ]
  },
  {
   "cell_type": "code",
   "execution_count": 8,
   "id": "fc38cf1b",
   "metadata": {
    "execution": {
     "iopub.execute_input": "2022-07-29T10:10:03.344364Z",
     "iopub.status.busy": "2022-07-29T10:10:03.343806Z",
     "iopub.status.idle": "2022-07-29T10:10:03.357047Z",
     "shell.execute_reply": "2022-07-29T10:10:03.356494Z"
    },
    "papermill": {
     "duration": 0.041227,
     "end_time": "2022-07-29T10:10:03.357149",
     "exception": false,
     "start_time": "2022-07-29T10:10:03.315922",
     "status": "completed"
    },
    "tags": []
   },
   "outputs": [
    {
     "data": {
      "text/plain": [
       "((10000, 28, 28), (10000,))"
      ]
     },
     "execution_count": 8,
     "metadata": {},
     "output_type": "execute_result"
    }
   ],
   "source": [
    "test_images.shape, test_labels.shape"
   ]
  },
  {
   "cell_type": "code",
   "execution_count": 9,
   "id": "f9ed8fe0",
   "metadata": {
    "execution": {
     "iopub.execute_input": "2022-07-29T10:10:03.412932Z",
     "iopub.status.busy": "2022-07-29T10:10:03.411937Z",
     "iopub.status.idle": "2022-07-29T10:10:03.547049Z",
     "shell.execute_reply": "2022-07-29T10:10:03.547489Z"
    },
    "papermill": {
     "duration": 0.164753,
     "end_time": "2022-07-29T10:10:03.547614",
     "exception": false,
     "start_time": "2022-07-29T10:10:03.382861",
     "status": "completed"
    },
    "tags": []
   },
   "outputs": [
    {
     "name": "stdout",
     "output_type": "stream",
     "text": [
      "2\n"
     ]
    },
    {
     "data": {
      "text/plain": [
       "<matplotlib.image.AxesImage at 0x7fec212be470>"
      ]
     },
     "execution_count": 9,
     "metadata": {},
     "output_type": "execute_result"
    },
    {
     "data": {
      "image/png": "[encoded data removed]",
      "text/plain": [
       "<Figure size 432x288 with 1 Axes>"
      ]
     },
     "metadata": {
      "needs_background": "light"
     },
     "output_type": "display_data"
    }
   ],
   "source": [
    "image_index = 7776 # You may select anything up to 60,000\n",
    "print(train_labels[image_index]) \n",
    "plt.imshow(train_images[image_index], cmap='Greys')"
   ]
  },
  {
   "cell_type": "markdown",
   "id": "a8d2388d",
   "metadata": {
    "papermill": {
     "duration": 0.026947,
     "end_time": "2022-07-29T10:10:03.601571",
     "exception": false,
     "start_time": "2022-07-29T10:10:03.574624",
     "status": "completed"
    },
    "tags": []
   },
   "source": [
    "## Filter data to get 3 and 8 out"
   ]
  },
  {
   "cell_type": "code",
   "execution_count": 10,
   "id": "776f7fc7",
   "metadata": {
    "execution": {
     "iopub.execute_input": "2022-07-29T10:10:03.659326Z",
     "iopub.status.busy": "2022-07-29T10:10:03.658762Z",
     "iopub.status.idle": "2022-07-29T10:10:03.673460Z",
     "shell.execute_reply": "2022-07-29T10:10:03.673928Z"
    },
    "papermill": {
     "duration": 0.045743,
     "end_time": "2022-07-29T10:10:03.674048",
     "exception": false,
     "start_time": "2022-07-29T10:10:03.628305",
     "status": "completed"
    },
    "tags": []
   },
   "outputs": [],
   "source": [
    "train_filter = np.where((train_labels == 3 ) | (train_labels == 8))\n",
    "test_filter = np.where((test_labels == 3) | (test_labels == 8))\n",
    "X_train, y_train = train_images[train_filter], train_labels[train_filter]\n",
    "X_test, y_test = test_images[test_filter], test_labels[test_filter]"
   ]
  },
  {
   "cell_type": "markdown",
   "id": "948f0b7e",
   "metadata": {
    "papermill": {
     "duration": 0.026897,
     "end_time": "2022-07-29T10:10:03.727641",
     "exception": false,
     "start_time": "2022-07-29T10:10:03.700744",
     "status": "completed"
    },
    "tags": []
   },
   "source": [
    "We normalize the pizel values in the 0 to 1 range"
   ]
  },
  {
   "cell_type": "code",
   "execution_count": 11,
   "id": "ee4c2166",
   "metadata": {
    "execution": {
     "iopub.execute_input": "2022-07-29T10:10:03.784400Z",
     "iopub.status.busy": "2022-07-29T10:10:03.783832Z",
     "iopub.status.idle": "2022-07-29T10:10:03.822049Z",
     "shell.execute_reply": "2022-07-29T10:10:03.821567Z"
    },
    "papermill": {
     "duration": 0.067983,
     "end_time": "2022-07-29T10:10:03.822155",
     "exception": false,
     "start_time": "2022-07-29T10:10:03.754172",
     "status": "completed"
    },
    "tags": []
   },
   "outputs": [],
   "source": [
    "X_train = X_train/255.\n",
    "X_test = X_test/255."
   ]
  },
  {
   "cell_type": "markdown",
   "id": "ddcf4fab",
   "metadata": {
    "papermill": {
     "duration": 0.026972,
     "end_time": "2022-07-29T10:10:03.875989",
     "exception": false,
     "start_time": "2022-07-29T10:10:03.849017",
     "status": "completed"
    },
    "tags": []
   },
   "source": [
    "And setup the labels as 1 (when the digit is 3) and 0 (when the digit is 8)"
   ]
  },
  {
   "cell_type": "code",
   "execution_count": 12,
   "id": "7dc908f2",
   "metadata": {
    "execution": {
     "iopub.execute_input": "2022-07-29T10:10:03.932571Z",
     "iopub.status.busy": "2022-07-29T10:10:03.932026Z",
     "iopub.status.idle": "2022-07-29T10:10:03.943917Z",
     "shell.execute_reply": "2022-07-29T10:10:03.943371Z"
    },
    "papermill": {
     "duration": 0.041379,
     "end_time": "2022-07-29T10:10:03.944015",
     "exception": false,
     "start_time": "2022-07-29T10:10:03.902636",
     "status": "completed"
    },
    "tags": []
   },
   "outputs": [],
   "source": [
    "y_train = 1*(y_train==3)\n",
    "y_test = 1*(y_test==3)"
   ]
  },
  {
   "cell_type": "code",
   "execution_count": 13,
   "id": "01e4e969",
   "metadata": {
    "execution": {
     "iopub.execute_input": "2022-07-29T10:10:04.001365Z",
     "iopub.status.busy": "2022-07-29T10:10:04.000774Z",
     "iopub.status.idle": "2022-07-29T10:10:04.013855Z",
     "shell.execute_reply": "2022-07-29T10:10:04.013402Z"
    },
    "papermill": {
     "duration": 0.043263,
     "end_time": "2022-07-29T10:10:04.013953",
     "exception": false,
     "start_time": "2022-07-29T10:10:03.970690",
     "status": "completed"
    },
    "tags": []
   },
   "outputs": [
    {
     "data": {
      "text/plain": [
       "((11982, 28, 28), (1984, 28, 28))"
      ]
     },
     "execution_count": 13,
     "metadata": {},
     "output_type": "execute_result"
    }
   ],
   "source": [
    "X_train.shape, X_test.shape"
   ]
  },
  {
   "cell_type": "markdown",
   "id": "5ccf3f85",
   "metadata": {
    "papermill": {
     "duration": 0.02678,
     "end_time": "2022-07-29T10:10:04.067473",
     "exception": false,
     "start_time": "2022-07-29T10:10:04.040693",
     "status": "completed"
    },
    "tags": []
   },
   "source": [
    "We reshape the data to flatten the image pixels into a set of features or co-variates:"
   ]
  },
  {
   "cell_type": "code",
   "execution_count": 14,
   "id": "5286a4a3",
   "metadata": {
    "execution": {
     "iopub.execute_input": "2022-07-29T10:10:04.125823Z",
     "iopub.status.busy": "2022-07-29T10:10:04.125248Z",
     "iopub.status.idle": "2022-07-29T10:10:04.138401Z",
     "shell.execute_reply": "2022-07-29T10:10:04.137946Z"
    },
    "papermill": {
     "duration": 0.044125,
     "end_time": "2022-07-29T10:10:04.138499",
     "exception": false,
     "start_time": "2022-07-29T10:10:04.094374",
     "status": "completed"
    },
    "tags": []
   },
   "outputs": [
    {
     "data": {
      "text/plain": [
       "((11982, 784), (1984, 784))"
      ]
     },
     "execution_count": 14,
     "metadata": {},
     "output_type": "execute_result"
    }
   ],
   "source": [
    "X_train = X_train.reshape(X_train.shape[0], -1)\n",
    "X_test = X_test.reshape(X_test.shape[0], -1)\n",
    "X_train.shape, X_test.shape"
   ]
  },
  {
   "cell_type": "code",
   "execution_count": 15,
   "id": "73c5f88a",
   "metadata": {
    "execution": {
     "iopub.execute_input": "2022-07-29T10:10:04.196833Z",
     "iopub.status.busy": "2022-07-29T10:10:04.196256Z",
     "iopub.status.idle": "2022-07-29T10:10:04.214133Z",
     "shell.execute_reply": "2022-07-29T10:10:04.213679Z"
    },
    "papermill": {
     "duration": 0.048478,
     "end_time": "2022-07-29T10:10:04.214230",
     "exception": false,
     "start_time": "2022-07-29T10:10:04.165752",
     "status": "completed"
    },
    "tags": []
   },
   "outputs": [],
   "source": [
    "#Impoting functions from 'Kudzu'\n",
    "from kudzu.model import Model\n",
    "from kudzu.train import Learner\n",
    "from kudzu.optim import GD\n",
    "from kudzu.data import Data, Sampler,Dataloader\n",
    "\n",
    "from kudzu.callbacks import AccCallback\n",
    "from kudzu.callbacks import ClfCallback\n",
    "\n",
    "from kudzu.loss import MSE\n",
    "\n",
    "from kudzu.layer import Sigmoid,Relu\n",
    "from kudzu.layer import Affine"
   ]
  },
  {
   "cell_type": "markdown",
   "id": "bc01172a",
   "metadata": {
    "papermill": {
     "duration": 0.027598,
     "end_time": "2022-07-29T10:10:04.269109",
     "exception": false,
     "start_time": "2022-07-29T10:10:04.241511",
     "status": "completed"
    },
    "tags": []
   },
   "source": [
    "### Let us create a `Config` class, to store important parameters. \n",
    "This class essentially plays the role of a dictionary."
   ]
  },
  {
   "cell_type": "code",
   "execution_count": 16,
   "id": "978281aa",
   "metadata": {
    "execution": {
     "iopub.execute_input": "2022-07-29T10:10:04.326845Z",
     "iopub.status.busy": "2022-07-29T10:10:04.326280Z",
     "iopub.status.idle": "2022-07-29T10:10:04.337747Z",
     "shell.execute_reply": "2022-07-29T10:10:04.338253Z"
    },
    "papermill": {
     "duration": 0.042139,
     "end_time": "2022-07-29T10:10:04.338363",
     "exception": false,
     "start_time": "2022-07-29T10:10:04.296224",
     "status": "completed"
    },
    "tags": []
   },
   "outputs": [],
   "source": [
    "class Config:\n",
    "    pass\n",
    "config = Config()\n",
    "config.lr = 0.001\n",
    "config.num_epochs = 250\n",
    "config.bs = 50"
   ]
  },
  {
   "cell_type": "markdown",
   "id": "1385fa59",
   "metadata": {
    "papermill": {
     "duration": 0.027,
     "end_time": "2022-07-29T10:10:04.392620",
     "exception": false,
     "start_time": "2022-07-29T10:10:04.365620",
     "status": "completed"
    },
    "tags": []
   },
   "source": [
    "### Running Models with the Training data\n",
    "Details about the network layers:\n",
    "- A first affine layer has 784 inputs and does 100 affine transforms. These are followed by a Relu\n",
    "- A second affine layer has 100 inputs from the 100 activations of the past layer, and does 100 affine transforms. These are followed by a Relu\n",
    "- A third affine layer has 100 activations and does 2 affine transformations to create an embedding for visualization. There is no non-linearity here.\n",
    "- A final \"logistic regression\" which has an affine transform from 2 inputs to 1 output, which is squeezed through a sigmoid.\n"
   ]
  },
  {
   "cell_type": "code",
   "execution_count": 17,
   "id": "2b9c66db",
   "metadata": {
    "execution": {
     "iopub.execute_input": "2022-07-29T10:10:04.450548Z",
     "iopub.status.busy": "2022-07-29T10:10:04.449987Z",
     "iopub.status.idle": "2022-07-29T10:10:04.462176Z",
     "shell.execute_reply": "2022-07-29T10:10:04.461721Z"
    },
    "papermill": {
     "duration": 0.042509,
     "end_time": "2022-07-29T10:10:04.462274",
     "exception": false,
     "start_time": "2022-07-29T10:10:04.419765",
     "status": "completed"
    },
    "tags": []
   },
   "outputs": [],
   "source": [
    "data = Data(X_train, y_train.reshape(-1,1))\n",
    "sampler = Sampler(data, config.bs, shuffle=True)\n",
    "\n",
    "dl = Dataloader(data, sampler)\n",
    "\n",
    "opt = GD(config.lr)\n",
    "loss = MSE()"
   ]
  },
  {
   "cell_type": "code",
   "execution_count": 18,
   "id": "b275e4c2",
   "metadata": {
    "execution": {
     "iopub.execute_input": "2022-07-29T10:10:04.520218Z",
     "iopub.status.busy": "2022-07-29T10:10:04.519664Z",
     "iopub.status.idle": "2022-07-29T10:10:04.531510Z",
     "shell.execute_reply": "2022-07-29T10:10:04.531059Z"
    },
    "papermill": {
     "duration": 0.042045,
     "end_time": "2022-07-29T10:10:04.531607",
     "exception": false,
     "start_time": "2022-07-29T10:10:04.489562",
     "status": "completed"
    },
    "tags": []
   },
   "outputs": [],
   "source": [
    "training_data_x = X_train\n",
    "testing_data_x = X_test\n",
    "training_data_y = y_train.reshape(-1,1)\n",
    "testing_data_y = y_test.reshape(-1,1)"
   ]
  },
  {
   "cell_type": "code",
   "execution_count": 19,
   "id": "76951160",
   "metadata": {
    "execution": {
     "iopub.execute_input": "2022-07-29T10:10:04.590184Z",
     "iopub.status.busy": "2022-07-29T10:10:04.589606Z",
     "iopub.status.idle": "2022-07-29T10:10:04.605696Z",
     "shell.execute_reply": "2022-07-29T10:10:04.605109Z"
    },
    "papermill": {
     "duration": 0.046976,
     "end_time": "2022-07-29T10:10:04.605797",
     "exception": false,
     "start_time": "2022-07-29T10:10:04.558821",
     "status": "completed"
    },
    "tags": []
   },
   "outputs": [
    {
     "name": "stdout",
     "output_type": "stream",
     "text": [
      "xavier\n",
      "xavier\n",
      "xavier\n",
      "xavier\n",
      "xavier\n"
     ]
    }
   ],
   "source": [
    "layers = [Affine(\"first\", 784, 100), Relu(\"first\"), Affine(\"second\", 100, 100), Relu(\"second\"), Affine(\"third\", 100, 2), Affine(\"last\", 2, 1), Sigmoid(\"last\")]\n",
    "model_nn = Model(layers)\n",
    "model_lr = Model([Affine(\"logits\", 784, 1), Sigmoid(\"sigmoid\")])"
   ]
  },
  {
   "cell_type": "code",
   "execution_count": 20,
   "id": "6eede77a",
   "metadata": {
    "execution": {
     "iopub.execute_input": "2022-07-29T10:10:04.664112Z",
     "iopub.status.busy": "2022-07-29T10:10:04.663566Z",
     "iopub.status.idle": "2022-07-29T10:10:04.675492Z",
     "shell.execute_reply": "2022-07-29T10:10:04.675041Z"
    },
    "papermill": {
     "duration": 0.042238,
     "end_time": "2022-07-29T10:10:04.675588",
     "exception": false,
     "start_time": "2022-07-29T10:10:04.633350",
     "status": "completed"
    },
    "tags": []
   },
   "outputs": [],
   "source": [
    "nn_learner = Learner(loss, model_nn, opt, config.num_epochs)\n",
    "acc_nn = ClfCallback(nn_learner, config.bs, training_data_x , testing_data_x, training_data_y, testing_data_y)\n",
    "nn_learner.set_callbacks([acc_nn])"
   ]
  },
  {
   "cell_type": "code",
   "execution_count": 21,
   "id": "877b6cc7",
   "metadata": {
    "execution": {
     "iopub.execute_input": "2022-07-29T10:10:04.734183Z",
     "iopub.status.busy": "2022-07-29T10:10:04.733627Z",
     "iopub.status.idle": "2022-07-29T10:10:04.745752Z",
     "shell.execute_reply": "2022-07-29T10:10:04.745289Z"
    },
    "papermill": {
     "duration": 0.04282,
     "end_time": "2022-07-29T10:10:04.745851",
     "exception": false,
     "start_time": "2022-07-29T10:10:04.703031",
     "status": "completed"
    },
    "tags": []
   },
   "outputs": [],
   "source": [
    "lr_learner = Learner(loss, model_lr, opt, config.num_epochs)\n",
    "acc_lr = ClfCallback(lr_learner, config.bs, training_data_x , testing_data_x, training_data_y, testing_data_y)\n",
    "lr_learner.set_callbacks([acc_lr])"
   ]
  },
  {
   "cell_type": "code",
   "execution_count": 22,
   "id": "d9b133c3",
   "metadata": {
    "execution": {
     "iopub.execute_input": "2022-07-29T10:10:04.804817Z",
     "iopub.status.busy": "2022-07-29T10:10:04.804256Z",
     "iopub.status.idle": "2022-07-29T10:13:01.681851Z",
     "shell.execute_reply": "2022-07-29T10:13:01.682303Z"
    },
    "papermill": {
     "duration": 176.90893,
     "end_time": "2022-07-29T10:13:01.682430",
     "exception": false,
     "start_time": "2022-07-29T10:10:04.773500",
     "status": "completed"
    },
    "tags": []
   },
   "outputs": [
    {
     "name": "stdout",
     "output_type": "stream",
     "text": [
      "Epoch 0, Loss 0.244\n",
      "Training Accuracy: 0.6598, Testing Accuracy: 0.6477\n",
      "\n"
     ]
    },
    {
     "name": "stdout",
     "output_type": "stream",
     "text": [
      "Epoch 10, Loss 0.158\n",
      "Training Accuracy: 0.8869, Testing Accuracy: 0.9012\n",
      "\n"
     ]
    },
    {
     "name": "stdout",
     "output_type": "stream",
     "text": [
      "Epoch 20, Loss 0.0816\n",
      "Training Accuracy: 0.9181, Testing Accuracy: 0.9340\n",
      "\n"
     ]
    },
    {
     "name": "stdout",
     "output_type": "stream",
     "text": [
      "Epoch 30, Loss 0.0563\n",
      "Training Accuracy: 0.9387, Testing Accuracy: 0.9511\n",
      "\n"
     ]
    },
    {
     "name": "stdout",
     "output_type": "stream",
     "text": [
      "Epoch 40, Loss 0.0451\n",
      "Training Accuracy: 0.9486, Testing Accuracy: 0.9572\n",
      "\n"
     ]
    },
    {
     "name": "stdout",
     "output_type": "stream",
     "text": [
      "Epoch 50, Loss 0.0391\n",
      "Training Accuracy: 0.9556, Testing Accuracy: 0.9627\n",
      "\n"
     ]
    },
    {
     "name": "stdout",
     "output_type": "stream",
     "text": [
      "Epoch 60, Loss 0.0353\n",
      "Training Accuracy: 0.9605, Testing Accuracy: 0.9672\n",
      "\n"
     ]
    },
    {
     "name": "stdout",
     "output_type": "stream",
     "text": [
      "Epoch 70, Loss 0.0327\n",
      "Training Accuracy: 0.9633, Testing Accuracy: 0.9698\n",
      "\n"
     ]
    },
    {
     "name": "stdout",
     "output_type": "stream",
     "text": [
      "Epoch 80, Loss 0.0308\n",
      "Training Accuracy: 0.9652, Testing Accuracy: 0.9703\n",
      "\n"
     ]
    },
    {
     "name": "stdout",
     "output_type": "stream",
     "text": [
      "Epoch 90, Loss 0.0292\n",
      "Training Accuracy: 0.9669, Testing Accuracy: 0.9708\n",
      "\n"
     ]
    },
    {
     "name": "stdout",
     "output_type": "stream",
     "text": [
      "Epoch 100, Loss 0.028\n",
      "Training Accuracy: 0.9683, Testing Accuracy: 0.9703\n",
      "\n"
     ]
    },
    {
     "name": "stdout",
     "output_type": "stream",
     "text": [
      "Epoch 110, Loss 0.0269\n",
      "Training Accuracy: 0.9690, Testing Accuracy: 0.9703\n",
      "\n"
     ]
    },
    {
     "name": "stdout",
     "output_type": "stream",
     "text": [
      "Epoch 120, Loss 0.026\n",
      "Training Accuracy: 0.9696, Testing Accuracy: 0.9713\n",
      "\n"
     ]
    },
    {
     "name": "stdout",
     "output_type": "stream",
     "text": [
      "Epoch 130, Loss 0.0251\n",
      "Training Accuracy: 0.9705, Testing Accuracy: 0.9718\n",
      "\n"
     ]
    },
    {
     "name": "stdout",
     "output_type": "stream",
     "text": [
      "Epoch 140, Loss 0.0244\n",
      "Training Accuracy: 0.9713, Testing Accuracy: 0.9728\n",
      "\n"
     ]
    },
    {
     "name": "stdout",
     "output_type": "stream",
     "text": [
      "Epoch 150, Loss 0.0238\n",
      "Training Accuracy: 0.9727, Testing Accuracy: 0.9748\n",
      "\n"
     ]
    },
    {
     "name": "stdout",
     "output_type": "stream",
     "text": [
      "Epoch 160, Loss 0.0231\n",
      "Training Accuracy: 0.9735, Testing Accuracy: 0.9748\n",
      "\n"
     ]
    },
    {
     "name": "stdout",
     "output_type": "stream",
     "text": [
      "Epoch 170, Loss 0.0226\n",
      "Training Accuracy: 0.9740, Testing Accuracy: 0.9748\n",
      "\n"
     ]
    },
    {
     "name": "stdout",
     "output_type": "stream",
     "text": [
      "Epoch 180, Loss 0.0221\n",
      "Training Accuracy: 0.9743, Testing Accuracy: 0.9753\n",
      "\n"
     ]
    },
    {
     "name": "stdout",
     "output_type": "stream",
     "text": [
      "Epoch 190, Loss 0.0216\n",
      "Training Accuracy: 0.9753, Testing Accuracy: 0.9758\n",
      "\n"
     ]
    },
    {
     "name": "stdout",
     "output_type": "stream",
     "text": [
      "Epoch 200, Loss 0.0211\n",
      "Training Accuracy: 0.9762, Testing Accuracy: 0.9758\n",
      "\n"
     ]
    },
    {
     "name": "stdout",
     "output_type": "stream",
     "text": [
      "Epoch 210, Loss 0.0207\n",
      "Training Accuracy: 0.9764, Testing Accuracy: 0.9748\n",
      "\n"
     ]
    },
    {
     "name": "stdout",
     "output_type": "stream",
     "text": [
      "Epoch 220, Loss 0.0202\n",
      "Training Accuracy: 0.9774, Testing Accuracy: 0.9748\n",
      "\n"
     ]
    },
    {
     "name": "stdout",
     "output_type": "stream",
     "text": [
      "Epoch 230, Loss 0.0198\n",
      "Training Accuracy: 0.9783, Testing Accuracy: 0.9753\n",
      "\n"
     ]
    },
    {
     "name": "stdout",
     "output_type": "stream",
     "text": [
      "Epoch 240, Loss 0.0195\n",
      "Training Accuracy: 0.9786, Testing Accuracy: 0.9753\n",
      "\n"
     ]
    },
    {
     "data": {
      "text/plain": [
       "0.023409648035680415"
      ]
     },
     "execution_count": 22,
     "metadata": {},
     "output_type": "execute_result"
    }
   ],
   "source": [
    "nn_learner.train_loop(dl)"
   ]
  },
  {
   "cell_type": "code",
   "execution_count": 23,
   "id": "e0163366",
   "metadata": {
    "execution": {
     "iopub.execute_input": "2022-07-29T10:13:01.758987Z",
     "iopub.status.busy": "2022-07-29T10:13:01.757154Z",
     "iopub.status.idle": "2022-07-29T10:13:14.030430Z",
     "shell.execute_reply": "2022-07-29T10:13:14.031254Z"
    },
    "papermill": {
     "duration": 12.313627,
     "end_time": "2022-07-29T10:13:14.031388",
     "exception": false,
     "start_time": "2022-07-29T10:13:01.717761",
     "status": "completed"
    },
    "tags": []
   },
   "outputs": [
    {
     "name": "stdout",
     "output_type": "stream",
     "text": [
      "Epoch 0, Loss 0.2343\n",
      "Training Accuracy: 0.7297, Testing Accuracy: 0.7132\n",
      "\n"
     ]
    },
    {
     "name": "stdout",
     "output_type": "stream",
     "text": [
      "Epoch 10, Loss 0.1005\n",
      "Training Accuracy: 0.9145, Testing Accuracy: 0.9249\n",
      "\n"
     ]
    },
    {
     "name": "stdout",
     "output_type": "stream",
     "text": [
      "Epoch 20, Loss 0.0779\n",
      "Training Accuracy: 0.9280, Testing Accuracy: 0.9400\n",
      "\n"
     ]
    },
    {
     "name": "stdout",
     "output_type": "stream",
     "text": [
      "Epoch 30, Loss 0.0673\n",
      "Training Accuracy: 0.9367, Testing Accuracy: 0.9471\n",
      "\n"
     ]
    },
    {
     "name": "stdout",
     "output_type": "stream",
     "text": [
      "Epoch 40, Loss 0.0609\n",
      "Training Accuracy: 0.9432, Testing Accuracy: 0.9511\n",
      "\n"
     ]
    },
    {
     "name": "stdout",
     "output_type": "stream",
     "text": [
      "Epoch 50, Loss 0.0565\n",
      "Training Accuracy: 0.9466, Testing Accuracy: 0.9551\n",
      "\n"
     ]
    },
    {
     "name": "stdout",
     "output_type": "stream",
     "text": [
      "Epoch 60, Loss 0.0533\n",
      "Training Accuracy: 0.9478, Testing Accuracy: 0.9567\n",
      "\n"
     ]
    },
    {
     "name": "stdout",
     "output_type": "stream",
     "text": [
      "Epoch 70, Loss 0.0508\n",
      "Training Accuracy: 0.9502, Testing Accuracy: 0.9582\n",
      "\n"
     ]
    },
    {
     "name": "stdout",
     "output_type": "stream",
     "text": [
      "Epoch 80, Loss 0.0488\n",
      "Training Accuracy: 0.9513, Testing Accuracy: 0.9597\n",
      "\n"
     ]
    },
    {
     "name": "stdout",
     "output_type": "stream",
     "text": [
      "Epoch 90, Loss 0.0471\n",
      "Training Accuracy: 0.9522, Testing Accuracy: 0.9612\n",
      "\n"
     ]
    },
    {
     "name": "stdout",
     "output_type": "stream",
     "text": [
      "Epoch 100, Loss 0.0457\n",
      "Training Accuracy: 0.9534, Testing Accuracy: 0.9617\n",
      "\n"
     ]
    },
    {
     "name": "stdout",
     "output_type": "stream",
     "text": [
      "Epoch 110, Loss 0.0446\n",
      "Training Accuracy: 0.9540, Testing Accuracy: 0.9632\n",
      "\n"
     ]
    },
    {
     "name": "stdout",
     "output_type": "stream",
     "text": [
      "Epoch 120, Loss 0.0435\n",
      "Training Accuracy: 0.9548, Testing Accuracy: 0.9642\n",
      "\n"
     ]
    },
    {
     "name": "stdout",
     "output_type": "stream",
     "text": [
      "Epoch 130, Loss 0.0426\n",
      "Training Accuracy: 0.9554, Testing Accuracy: 0.9647\n",
      "\n"
     ]
    },
    {
     "name": "stdout",
     "output_type": "stream",
     "text": [
      "Epoch 140, Loss 0.0418\n",
      "Training Accuracy: 0.9559, Testing Accuracy: 0.9667\n",
      "\n"
     ]
    },
    {
     "name": "stdout",
     "output_type": "stream",
     "text": [
      "Epoch 150, Loss 0.0411\n",
      "Training Accuracy: 0.9565, Testing Accuracy: 0.9667\n",
      "\n"
     ]
    },
    {
     "name": "stdout",
     "output_type": "stream",
     "text": [
      "Epoch 160, Loss 0.0404\n",
      "Training Accuracy: 0.9572, Testing Accuracy: 0.9672\n",
      "\n"
     ]
    },
    {
     "name": "stdout",
     "output_type": "stream",
     "text": [
      "Epoch 170, Loss 0.0398\n",
      "Training Accuracy: 0.9574, Testing Accuracy: 0.9677\n",
      "\n"
     ]
    },
    {
     "name": "stdout",
     "output_type": "stream",
     "text": [
      "Epoch 180, Loss 0.0392\n",
      "Training Accuracy: 0.9579, Testing Accuracy: 0.9677\n",
      "\n"
     ]
    },
    {
     "name": "stdout",
     "output_type": "stream",
     "text": [
      "Epoch 190, Loss 0.0387\n",
      "Training Accuracy: 0.9582, Testing Accuracy: 0.9682\n",
      "\n"
     ]
    },
    {
     "name": "stdout",
     "output_type": "stream",
     "text": [
      "Epoch 200, Loss 0.0383\n",
      "Training Accuracy: 0.9588, Testing Accuracy: 0.9682\n",
      "\n"
     ]
    },
    {
     "name": "stdout",
     "output_type": "stream",
     "text": [
      "Epoch 210, Loss 0.0378\n",
      "Training Accuracy: 0.9594, Testing Accuracy: 0.9688\n",
      "\n"
     ]
    },
    {
     "name": "stdout",
     "output_type": "stream",
     "text": [
      "Epoch 220, Loss 0.0374\n",
      "Training Accuracy: 0.9595, Testing Accuracy: 0.9688\n",
      "\n"
     ]
    },
    {
     "name": "stdout",
     "output_type": "stream",
     "text": [
      "Epoch 230, Loss 0.0371\n",
      "Training Accuracy: 0.9599, Testing Accuracy: 0.9698\n",
      "\n"
     ]
    },
    {
     "name": "stdout",
     "output_type": "stream",
     "text": [
      "Epoch 240, Loss 0.0367\n",
      "Training Accuracy: 0.9601, Testing Accuracy: 0.9698\n",
      "\n"
     ]
    },
    {
     "data": {
      "text/plain": [
       "0.02788081384308009"
      ]
     },
     "execution_count": 23,
     "metadata": {},
     "output_type": "execute_result"
    }
   ],
   "source": [
    "lr_learner.train_loop(dl)"
   ]
  },
  {
   "cell_type": "code",
   "execution_count": 24,
   "id": "ca410940",
   "metadata": {
    "execution": {
     "iopub.execute_input": "2022-07-29T10:13:14.122557Z",
     "iopub.status.busy": "2022-07-29T10:13:14.121974Z",
     "iopub.status.idle": "2022-07-29T10:13:14.353628Z",
     "shell.execute_reply": "2022-07-29T10:13:14.354080Z"
    },
    "papermill": {
     "duration": 0.280196,
     "end_time": "2022-07-29T10:13:14.354217",
     "exception": false,
     "start_time": "2022-07-29T10:13:14.074021",
     "status": "completed"
    },
    "tags": []
   },
   "outputs": [
    {
     "data": {
      "text/plain": [
       "<matplotlib.legend.Legend at 0x7fec14670ba8>"
      ]
     },
     "execution_count": 24,
     "metadata": {},
     "output_type": "execute_result"
    },
    {
     "data": {
      "image/png": "[encoded data removed]",
      "text/plain": [
       "<Figure size 1080x720 with 1 Axes>"
      ]
     },
     "metadata": {
      "needs_background": "light"
     },
     "output_type": "display_data"
    }
   ],
   "source": [
    "#comparing the results of NN and LR\n",
    "plt.figure(figsize=(15,10))\n",
    "\n",
    "# Neural Network plots\n",
    "plt.plot(acc_nn.accuracies, 'r-', label = \"Training Accuracies - NN\")\n",
    "plt.plot(acc_nn.test_accuracies, 'g-', label = \"Testing Accuracies - NN\")\n",
    "\n",
    "# Logistic Regression plots\n",
    "plt.plot(acc_lr.accuracies, 'k-', label = \"Training Accuracies - LR\")\n",
    "plt.plot(acc_lr.test_accuracies, 'b-', label = \"Testing Accuracies - LR\")\n",
    "plt.legend()"
   ]
  },
  {
   "cell_type": "markdown",
   "id": "80dfb35c",
   "metadata": {
    "papermill": {
     "duration": 0.042512,
     "end_time": "2022-07-29T10:13:14.439530",
     "exception": false,
     "start_time": "2022-07-29T10:13:14.397018",
     "status": "completed"
    },
    "tags": []
   },
   "source": [
    "#### Plotting the outputs of this layer of the NN.\n"
   ]
  },
  {
   "cell_type": "code",
   "execution_count": 25,
   "id": "45eb2ff5",
   "metadata": {
    "execution": {
     "iopub.execute_input": "2022-07-29T10:13:14.533563Z",
     "iopub.status.busy": "2022-07-29T10:13:14.529809Z",
     "iopub.status.idle": "2022-07-29T10:13:14.566321Z",
     "shell.execute_reply": "2022-07-29T10:13:14.565855Z"
    },
    "papermill": {
     "duration": 0.084411,
     "end_time": "2022-07-29T10:13:14.566425",
     "exception": false,
     "start_time": "2022-07-29T10:13:14.482014",
     "status": "completed"
    },
    "tags": []
   },
   "outputs": [],
   "source": [
    "new_model = Model(layers[:-2])\n",
    "testing_plot = new_model(testing_data_x)"
   ]
  },
  {
   "cell_type": "code",
   "execution_count": 26,
   "id": "4c0a5485",
   "metadata": {
    "execution": {
     "iopub.execute_input": "2022-07-29T10:13:14.658489Z",
     "iopub.status.busy": "2022-07-29T10:13:14.657933Z",
     "iopub.status.idle": "2022-07-29T10:13:14.846116Z",
     "shell.execute_reply": "2022-07-29T10:13:14.847065Z"
    },
    "papermill": {
     "duration": 0.237527,
     "end_time": "2022-07-29T10:13:14.847197",
     "exception": false,
     "start_time": "2022-07-29T10:13:14.609670",
     "status": "completed"
    },
    "tags": []
   },
   "outputs": [
    {
     "data": {
      "text/plain": [
       "Text(0.5, 1.0, 'Outputs')"
      ]
     },
     "execution_count": 26,
     "metadata": {},
     "output_type": "execute_result"
    },
    {
     "data": {
      "image/png": "[encoded data removed]",
      "text/plain": [
       "<Figure size 576x504 with 1 Axes>"
      ]
     },
     "metadata": {
      "needs_background": "light"
     },
     "output_type": "display_data"
    }
   ],
   "source": [
    "# Plotting the scatter plot of points and color coding by class\n",
    "plt.figure(figsize=(8,7))\n",
    "plt.scatter(testing_plot[:,0], testing_plot[:,1], alpha = 0.1, c = y_test.ravel());\n",
    "plt.title('Outputs')"
   ]
  },
  {
   "cell_type": "markdown",
   "id": "a74fcf8f",
   "metadata": {
    "papermill": {
     "duration": 0.044312,
     "end_time": "2022-07-29T10:13:14.935942",
     "exception": false,
     "start_time": "2022-07-29T10:13:14.891630",
     "status": "completed"
    },
    "tags": []
   },
   "source": [
    "Probability contours"
   ]
  },
  {
   "cell_type": "code",
   "execution_count": 27,
   "id": "d0afc8e3",
   "metadata": {
    "execution": {
     "iopub.execute_input": "2022-07-29T10:13:15.052526Z",
     "iopub.status.busy": "2022-07-29T10:13:15.050868Z",
     "iopub.status.idle": "2022-07-29T10:13:15.061319Z",
     "shell.execute_reply": "2022-07-29T10:13:15.061741Z"
    },
    "papermill": {
     "duration": 0.081515,
     "end_time": "2022-07-29T10:13:15.061865",
     "exception": false,
     "start_time": "2022-07-29T10:13:14.980350",
     "status": "completed"
    },
    "tags": []
   },
   "outputs": [],
   "source": [
    "model_prob = Model(layers[-2:]) "
   ]
  },
  {
   "cell_type": "code",
   "execution_count": 28,
   "id": "9b96e238",
   "metadata": {
    "execution": {
     "iopub.execute_input": "2022-07-29T10:13:15.158164Z",
     "iopub.status.busy": "2022-07-29T10:13:15.154939Z",
     "iopub.status.idle": "2022-07-29T10:13:15.169298Z",
     "shell.execute_reply": "2022-07-29T10:13:15.168849Z"
    },
    "papermill": {
     "duration": 0.062443,
     "end_time": "2022-07-29T10:13:15.169401",
     "exception": false,
     "start_time": "2022-07-29T10:13:15.106958",
     "status": "completed"
    },
    "tags": []
   },
   "outputs": [],
   "source": [
    "#creating the x and y ranges according to the above generated plot.\n",
    "x_range = np.linspace(-4, 1, 100) \n",
    "y_range = np.linspace(-6, 6, 100) \n",
    "x_grid, y_grid = np.meshgrid(x_range, y_range) # x_grid and y_grig are of size 100 X 100\n",
    "\n",
    "# converting x_grid and y_grid to continuous arrays\n",
    "x_gridflat = np.ravel(x_grid)\n",
    "y_gridflat = np.ravel(y_grid)\n",
    "\n",
    "# The last layer of the current model takes two columns as input. Hence transpose of np.vstack() is required.\n",
    "X = np.vstack((x_gridflat, y_gridflat)).T\n",
    "\n",
    "prob_contour = model_prob(X).reshape(100,100) "
   ]
  },
  {
   "cell_type": "code",
   "execution_count": 29,
   "id": "da72499a",
   "metadata": {
    "execution": {
     "iopub.execute_input": "2022-07-29T10:13:15.266159Z",
     "iopub.status.busy": "2022-07-29T10:13:15.262661Z",
     "iopub.status.idle": "2022-07-29T10:13:15.508178Z",
     "shell.execute_reply": "2022-07-29T10:13:15.507694Z"
    },
    "papermill": {
     "duration": 0.294187,
     "end_time": "2022-07-29T10:13:15.508289",
     "exception": false,
     "start_time": "2022-07-29T10:13:15.214102",
     "status": "completed"
    },
    "tags": []
   },
   "outputs": [
    {
     "data": {
      "image/png": "[encoded data removed]",
      "text/plain": [
       "<Figure size 720x648 with 1 Axes>"
      ]
     },
     "metadata": {
      "needs_background": "light"
     },
     "output_type": "display_data"
    }
   ],
   "source": [
    "plt.figure(figsize=(10,9))\n",
    "plt.scatter(testing_plot[:,0], testing_plot[:,1], alpha = 0.1, c = y_test.ravel())\n",
    "contours = plt.contour(x_grid,y_grid,prob_contour)\n",
    "plt.title('Probability Contours')\n",
    "plt.clabel(contours, inline = True );"
   ]
  },
  {
   "cell_type": "code",
   "execution_count": null,
   "id": "e81b4ac7",
   "metadata": {
    "papermill": {
     "duration": 0.04698,
     "end_time": "2022-07-29T10:13:15.603003",
     "exception": false,
     "start_time": "2022-07-29T10:13:15.556023",
     "status": "completed"
    },
    "tags": []
   },
   "outputs": [],
   "source": []
  }
 ],
 "metadata": {
  "kernelspec": {
   "display_name": "Python 3",
   "language": "python",
   "name": "python3"
  },
  "language_info": {
   "codemirror_mode": {
    "name": "ipython",
    "version": 3
   },
   "file_extension": ".py",
   "mimetype": "text/x-python",
   "name": "python",
   "nbconvert_exporter": "python",
   "pygments_lexer": "ipython3",
   "version": "3.6.15"
  },
  "papermill": {
   "default_parameters": {},
   "duration": 197.250621,
   "end_time": "2022-07-29T10:13:15.967088",
   "environment_variables": {},
   "exception": null,
   "input_path": "2020-08-11-part2.ipynb",
   "output_path": "2020-08-11-part2.ipynb",
   "parameters": {},
   "start_time": "2022-07-29T10:09:58.716467",
   "version": "2.3.3"
  }
 },
 "nbformat": 4,
 "nbformat_minor": 5
}