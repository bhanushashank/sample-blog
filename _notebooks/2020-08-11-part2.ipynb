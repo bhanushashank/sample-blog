{
 "cells": [
  {
   "cell_type": "markdown",
   "id": "98380cd3",
   "metadata": {
    "papermill": {
     "duration": 0.028549,
     "end_time": "2022-01-27T00:23:39.437181",
     "exception": false,
     "start_time": "2022-01-27T00:23:39.408632",
     "status": "completed"
    },
    "tags": []
   },
   "source": [
    "# Distinguish Your Own Digits (DYOD)"
   ]
  },
  {
   "cell_type": "markdown",
   "id": "ef31240d",
   "metadata": {
    "papermill": {
     "duration": 0.023783,
     "end_time": "2022-01-27T00:23:39.485331",
     "exception": false,
     "start_time": "2022-01-27T00:23:39.461548",
     "status": "completed"
    },
    "tags": []
   },
   "source": [
    "You are going to write a classifier that distinguishes between the number 3 and number 8."
   ]
  },
  {
   "cell_type": "code",
   "execution_count": 1,
   "id": "b15c8646",
   "metadata": {
    "execution": {
     "iopub.execute_input": "2022-01-27T00:23:39.544222Z",
     "iopub.status.busy": "2022-01-27T00:23:39.543686Z",
     "iopub.status.idle": "2022-01-27T00:23:39.553837Z",
     "shell.execute_reply": "2022-01-27T00:23:39.553401Z"
    },
    "papermill": {
     "duration": 0.045083,
     "end_time": "2022-01-27T00:23:39.553972",
     "exception": false,
     "start_time": "2022-01-27T00:23:39.508889",
     "status": "completed"
    },
    "tags": []
   },
   "outputs": [],
   "source": [
    "%load_ext autoreload\n",
    "%autoreload 2"
   ]
  },
  {
   "cell_type": "code",
   "execution_count": 2,
   "id": "22ef38dc",
   "metadata": {
    "execution": {
     "iopub.execute_input": "2022-01-27T00:23:39.616054Z",
     "iopub.status.busy": "2022-01-27T00:23:39.615056Z",
     "iopub.status.idle": "2022-01-27T00:23:40.180352Z",
     "shell.execute_reply": "2022-01-27T00:23:40.179824Z"
    },
    "papermill": {
     "duration": 0.602691,
     "end_time": "2022-01-27T00:23:40.180491",
     "exception": false,
     "start_time": "2022-01-27T00:23:39.577800",
     "status": "completed"
    },
    "tags": []
   },
   "outputs": [],
   "source": [
    "%matplotlib inline\n",
    "import numpy as np\n",
    "import matplotlib.pyplot as plt\n",
    "import pandas as pd"
   ]
  },
  {
   "cell_type": "markdown",
   "id": "ba036198",
   "metadata": {
    "papermill": {
     "duration": 0.023581,
     "end_time": "2022-01-27T00:23:40.229093",
     "exception": false,
     "start_time": "2022-01-27T00:23:40.205512",
     "status": "completed"
    },
    "tags": []
   },
   "source": [
    "From the command line run `pip install mnist`. This is a library that will help you bring down the mnist dataset. If you run this from a notebook, you need to put  `!pip install mnist` in a cell by itself."
   ]
  },
  {
   "cell_type": "code",
   "execution_count": 3,
   "id": "bb6ad8a1",
   "metadata": {
    "execution": {
     "iopub.execute_input": "2022-01-27T00:23:40.280497Z",
     "iopub.status.busy": "2022-01-27T00:23:40.279980Z",
     "iopub.status.idle": "2022-01-27T00:23:41.946428Z",
     "shell.execute_reply": "2022-01-27T00:23:41.945892Z"
    },
    "papermill": {
     "duration": 1.693824,
     "end_time": "2022-01-27T00:23:41.946572",
     "exception": false,
     "start_time": "2022-01-27T00:23:40.252748",
     "status": "completed"
    },
    "tags": []
   },
   "outputs": [
    {
     "name": "stdout",
     "output_type": "stream",
     "text": [
      "Collecting mnist\r\n"
     ]
    },
    {
     "name": "stdout",
     "output_type": "stream",
     "text": [
      "  Downloading mnist-0.2.2-py2.py3-none-any.whl (3.5 kB)\r\n",
      "Requirement already satisfied: numpy in /opt/hostedtoolcache/Python/3.6.15/x64/lib/python3.6/site-packages (from mnist) (1.19.5)\r\n"
     ]
    },
    {
     "name": "stdout",
     "output_type": "stream",
     "text": [
      "Installing collected packages: mnist\r\n",
      "Successfully installed mnist-0.2.2\r\n"
     ]
    }
   ],
   "source": [
    "!pip install mnist"
   ]
  },
  {
   "cell_type": "markdown",
   "id": "69df9c9a",
   "metadata": {
    "papermill": {
     "duration": 0.02424,
     "end_time": "2022-01-27T00:23:41.997070",
     "exception": false,
     "start_time": "2022-01-27T00:23:41.972830",
     "status": "completed"
    },
    "tags": []
   },
   "source": [
    "## Preparing the Data"
   ]
  },
  {
   "cell_type": "code",
   "execution_count": 4,
   "id": "7f69d806",
   "metadata": {
    "execution": {
     "iopub.execute_input": "2022-01-27T00:23:42.049615Z",
     "iopub.status.busy": "2022-01-27T00:23:42.049097Z",
     "iopub.status.idle": "2022-01-27T00:23:42.062573Z",
     "shell.execute_reply": "2022-01-27T00:23:42.062155Z"
    },
    "papermill": {
     "duration": 0.041347,
     "end_time": "2022-01-27T00:23:42.062719",
     "exception": false,
     "start_time": "2022-01-27T00:23:42.021372",
     "status": "completed"
    },
    "tags": []
   },
   "outputs": [],
   "source": [
    "import mnist"
   ]
  },
  {
   "cell_type": "code",
   "execution_count": 5,
   "id": "a411e44f",
   "metadata": {
    "execution": {
     "iopub.execute_input": "2022-01-27T00:23:42.115927Z",
     "iopub.status.busy": "2022-01-27T00:23:42.115408Z",
     "iopub.status.idle": "2022-01-27T00:23:42.661744Z",
     "shell.execute_reply": "2022-01-27T00:23:42.661228Z"
    },
    "papermill": {
     "duration": 0.574786,
     "end_time": "2022-01-27T00:23:42.661886",
     "exception": false,
     "start_time": "2022-01-27T00:23:42.087100",
     "status": "completed"
    },
    "tags": []
   },
   "outputs": [],
   "source": [
    "train_images = mnist.train_images()\n",
    "train_labels = mnist.train_labels()"
   ]
  },
  {
   "cell_type": "code",
   "execution_count": 6,
   "id": "dceab3a5",
   "metadata": {
    "execution": {
     "iopub.execute_input": "2022-01-27T00:23:42.728471Z",
     "iopub.status.busy": "2022-01-27T00:23:42.716235Z",
     "iopub.status.idle": "2022-01-27T00:23:42.735482Z",
     "shell.execute_reply": "2022-01-27T00:23:42.735895Z"
    },
    "papermill": {
     "duration": 0.048571,
     "end_time": "2022-01-27T00:23:42.736030",
     "exception": false,
     "start_time": "2022-01-27T00:23:42.687459",
     "status": "completed"
    },
    "tags": []
   },
   "outputs": [
    {
     "data": {
      "text/plain": [
       "((60000, 28, 28), (60000,))"
      ]
     },
     "execution_count": 6,
     "metadata": {},
     "output_type": "execute_result"
    }
   ],
   "source": [
    "train_images.shape, train_labels.shape"
   ]
  },
  {
   "cell_type": "code",
   "execution_count": 7,
   "id": "f50dc2bb",
   "metadata": {
    "execution": {
     "iopub.execute_input": "2022-01-27T00:23:42.791940Z",
     "iopub.status.busy": "2022-01-27T00:23:42.790617Z",
     "iopub.status.idle": "2022-01-27T00:23:42.936575Z",
     "shell.execute_reply": "2022-01-27T00:23:42.936018Z"
    },
    "papermill": {
     "duration": 0.175948,
     "end_time": "2022-01-27T00:23:42.936721",
     "exception": false,
     "start_time": "2022-01-27T00:23:42.760773",
     "status": "completed"
    },
    "tags": []
   },
   "outputs": [],
   "source": [
    "test_images = mnist.test_images()\n",
    "test_labels = mnist.test_labels()"
   ]
  },
  {
   "cell_type": "code",
   "execution_count": 8,
   "id": "fc38cf1b",
   "metadata": {
    "execution": {
     "iopub.execute_input": "2022-01-27T00:23:43.003086Z",
     "iopub.status.busy": "2022-01-27T00:23:43.002530Z",
     "iopub.status.idle": "2022-01-27T00:23:43.008570Z",
     "shell.execute_reply": "2022-01-27T00:23:43.008139Z"
    },
    "papermill": {
     "duration": 0.046272,
     "end_time": "2022-01-27T00:23:43.008680",
     "exception": false,
     "start_time": "2022-01-27T00:23:42.962408",
     "status": "completed"
    },
    "tags": []
   },
   "outputs": [
    {
     "data": {
      "text/plain": [
       "((10000, 28, 28), (10000,))"
      ]
     },
     "execution_count": 8,
     "metadata": {},
     "output_type": "execute_result"
    }
   ],
   "source": [
    "test_images.shape, test_labels.shape"
   ]
  },
  {
   "cell_type": "code",
   "execution_count": 9,
   "id": "f9ed8fe0",
   "metadata": {
    "execution": {
     "iopub.execute_input": "2022-01-27T00:23:43.064474Z",
     "iopub.status.busy": "2022-01-27T00:23:43.063927Z",
     "iopub.status.idle": "2022-01-27T00:23:43.198138Z",
     "shell.execute_reply": "2022-01-27T00:23:43.197702Z"
    },
    "papermill": {
     "duration": 0.164824,
     "end_time": "2022-01-27T00:23:43.198262",
     "exception": false,
     "start_time": "2022-01-27T00:23:43.033438",
     "status": "completed"
    },
    "tags": []
   },
   "outputs": [
    {
     "name": "stdout",
     "output_type": "stream",
     "text": [
      "2\n"
     ]
    },
    {
     "data": {
      "text/plain": [
       "<matplotlib.image.AxesImage at 0x7f2912adca90>"
      ]
     },
     "execution_count": 9,
     "metadata": {},
     "output_type": "execute_result"
    },
    {
     "data": {
      "image/png": "[encoded data removed]",
      "text/plain": [
       "<Figure size 432x288 with 1 Axes>"
      ]
     },
     "metadata": {
      "needs_background": "light"
     },
     "output_type": "display_data"
    }
   ],
   "source": [
    "image_index = 7776 # You may select anything up to 60,000\n",
    "print(train_labels[image_index]) \n",
    "plt.imshow(train_images[image_index], cmap='Greys')"
   ]
  },
  {
   "cell_type": "markdown",
   "id": "a8d2388d",
   "metadata": {
    "papermill": {
     "duration": 0.025724,
     "end_time": "2022-01-27T00:23:43.250068",
     "exception": false,
     "start_time": "2022-01-27T00:23:43.224344",
     "status": "completed"
    },
    "tags": []
   },
   "source": [
    "## Filter data to get 3 and 8 out"
   ]
  },
  {
   "cell_type": "code",
   "execution_count": 10,
   "id": "776f7fc7",
   "metadata": {
    "execution": {
     "iopub.execute_input": "2022-01-27T00:23:43.307947Z",
     "iopub.status.busy": "2022-01-27T00:23:43.307411Z",
     "iopub.status.idle": "2022-01-27T00:23:43.323929Z",
     "shell.execute_reply": "2022-01-27T00:23:43.324316Z"
    },
    "papermill": {
     "duration": 0.048608,
     "end_time": "2022-01-27T00:23:43.324448",
     "exception": false,
     "start_time": "2022-01-27T00:23:43.275840",
     "status": "completed"
    },
    "tags": []
   },
   "outputs": [],
   "source": [
    "train_filter = np.where((train_labels == 3 ) | (train_labels == 8))\n",
    "test_filter = np.where((test_labels == 3) | (test_labels == 8))\n",
    "X_train, y_train = train_images[train_filter], train_labels[train_filter]\n",
    "X_test, y_test = test_images[test_filter], test_labels[test_filter]"
   ]
  },
  {
   "cell_type": "markdown",
   "id": "948f0b7e",
   "metadata": {
    "papermill": {
     "duration": 0.025643,
     "end_time": "2022-01-27T00:23:43.375941",
     "exception": false,
     "start_time": "2022-01-27T00:23:43.350298",
     "status": "completed"
    },
    "tags": []
   },
   "source": [
    "We normalize the pizel values in the 0 to 1 range"
   ]
  },
  {
   "cell_type": "code",
   "execution_count": 11,
   "id": "ee4c2166",
   "metadata": {
    "execution": {
     "iopub.execute_input": "2022-01-27T00:23:43.447616Z",
     "iopub.status.busy": "2022-01-27T00:23:43.443411Z",
     "iopub.status.idle": "2022-01-27T00:23:43.482007Z",
     "shell.execute_reply": "2022-01-27T00:23:43.482464Z"
    },
    "papermill": {
     "duration": 0.081061,
     "end_time": "2022-01-27T00:23:43.482620",
     "exception": false,
     "start_time": "2022-01-27T00:23:43.401559",
     "status": "completed"
    },
    "tags": []
   },
   "outputs": [],
   "source": [
    "X_train = X_train/255.\n",
    "X_test = X_test/255."
   ]
  },
  {
   "cell_type": "markdown",
   "id": "ddcf4fab",
   "metadata": {
    "papermill": {
     "duration": 0.025746,
     "end_time": "2022-01-27T00:23:43.536041",
     "exception": false,
     "start_time": "2022-01-27T00:23:43.510295",
     "status": "completed"
    },
    "tags": []
   },
   "source": [
    "And setup the labels as 1 (when the digit is 3) and 0 (when the digit is 8)"
   ]
  },
  {
   "cell_type": "code",
   "execution_count": 12,
   "id": "7dc908f2",
   "metadata": {
    "execution": {
     "iopub.execute_input": "2022-01-27T00:23:43.600911Z",
     "iopub.status.busy": "2022-01-27T00:23:43.591293Z",
     "iopub.status.idle": "2022-01-27T00:23:43.604917Z",
     "shell.execute_reply": "2022-01-27T00:23:43.604478Z"
    },
    "papermill": {
     "duration": 0.04341,
     "end_time": "2022-01-27T00:23:43.605028",
     "exception": false,
     "start_time": "2022-01-27T00:23:43.561618",
     "status": "completed"
    },
    "tags": []
   },
   "outputs": [],
   "source": [
    "y_train = 1*(y_train==3)\n",
    "y_test = 1*(y_test==3)"
   ]
  },
  {
   "cell_type": "code",
   "execution_count": 13,
   "id": "01e4e969",
   "metadata": {
    "execution": {
     "iopub.execute_input": "2022-01-27T00:23:43.672708Z",
     "iopub.status.busy": "2022-01-27T00:23:43.667388Z",
     "iopub.status.idle": "2022-01-27T00:23:43.677428Z",
     "shell.execute_reply": "2022-01-27T00:23:43.677021Z"
    },
    "papermill": {
     "duration": 0.046612,
     "end_time": "2022-01-27T00:23:43.677543",
     "exception": false,
     "start_time": "2022-01-27T00:23:43.630931",
     "status": "completed"
    },
    "tags": []
   },
   "outputs": [
    {
     "data": {
      "text/plain": [
       "((11982, 28, 28), (1984, 28, 28))"
      ]
     },
     "execution_count": 13,
     "metadata": {},
     "output_type": "execute_result"
    }
   ],
   "source": [
    "X_train.shape, X_test.shape"
   ]
  },
  {
   "cell_type": "markdown",
   "id": "5ccf3f85",
   "metadata": {
    "papermill": {
     "duration": 0.025971,
     "end_time": "2022-01-27T00:23:43.729454",
     "exception": false,
     "start_time": "2022-01-27T00:23:43.703483",
     "status": "completed"
    },
    "tags": []
   },
   "source": [
    "We reshape the data to flatten the image pixels into a set of features or co-variates:"
   ]
  },
  {
   "cell_type": "code",
   "execution_count": 14,
   "id": "5286a4a3",
   "metadata": {
    "execution": {
     "iopub.execute_input": "2022-01-27T00:23:43.785735Z",
     "iopub.status.busy": "2022-01-27T00:23:43.785223Z",
     "iopub.status.idle": "2022-01-27T00:23:43.798093Z",
     "shell.execute_reply": "2022-01-27T00:23:43.798499Z"
    },
    "papermill": {
     "duration": 0.043003,
     "end_time": "2022-01-27T00:23:43.798624",
     "exception": false,
     "start_time": "2022-01-27T00:23:43.755621",
     "status": "completed"
    },
    "tags": []
   },
   "outputs": [
    {
     "data": {
      "text/plain": [
       "((11982, 784), (1984, 784))"
      ]
     },
     "execution_count": 14,
     "metadata": {},
     "output_type": "execute_result"
    }
   ],
   "source": [
    "X_train = X_train.reshape(X_train.shape[0], -1)\n",
    "X_test = X_test.reshape(X_test.shape[0], -1)\n",
    "X_train.shape, X_test.shape"
   ]
  },
  {
   "cell_type": "code",
   "execution_count": 15,
   "id": "73c5f88a",
   "metadata": {
    "execution": {
     "iopub.execute_input": "2022-01-27T00:23:43.858511Z",
     "iopub.status.busy": "2022-01-27T00:23:43.857991Z",
     "iopub.status.idle": "2022-01-27T00:23:43.875358Z",
     "shell.execute_reply": "2022-01-27T00:23:43.875767Z"
    },
    "papermill": {
     "duration": 0.047638,
     "end_time": "2022-01-27T00:23:43.875891",
     "exception": false,
     "start_time": "2022-01-27T00:23:43.828253",
     "status": "completed"
    },
    "tags": []
   },
   "outputs": [],
   "source": [
    "#Impoting functions from 'Kudzu'\n",
    "from kudzu.model import Model\n",
    "from kudzu.train import Learner\n",
    "from kudzu.optim import GD\n",
    "from kudzu.data import Data, Sampler,Dataloader\n",
    "\n",
    "from kudzu.callbacks import AccCallback\n",
    "from kudzu.callbacks import ClfCallback\n",
    "\n",
    "from kudzu.loss import MSE\n",
    "\n",
    "from kudzu.layer import Sigmoid,Relu\n",
    "from kudzu.layer import Affine"
   ]
  },
  {
   "cell_type": "markdown",
   "id": "bc01172a",
   "metadata": {
    "papermill": {
     "duration": 0.026287,
     "end_time": "2022-01-27T00:23:43.928647",
     "exception": false,
     "start_time": "2022-01-27T00:23:43.902360",
     "status": "completed"
    },
    "tags": []
   },
   "source": [
    "### Let us create a `Config` class, to store important parameters. \n",
    "This class essentially plays the role of a dictionary."
   ]
  },
  {
   "cell_type": "code",
   "execution_count": 16,
   "id": "978281aa",
   "metadata": {
    "execution": {
     "iopub.execute_input": "2022-01-27T00:23:43.987840Z",
     "iopub.status.busy": "2022-01-27T00:23:43.987330Z",
     "iopub.status.idle": "2022-01-27T00:23:43.996973Z",
     "shell.execute_reply": "2022-01-27T00:23:43.997405Z"
    },
    "papermill": {
     "duration": 0.042731,
     "end_time": "2022-01-27T00:23:43.997522",
     "exception": false,
     "start_time": "2022-01-27T00:23:43.954791",
     "status": "completed"
    },
    "tags": []
   },
   "outputs": [],
   "source": [
    "class Config:\n",
    "    pass\n",
    "config = Config()\n",
    "config.lr = 0.001\n",
    "config.num_epochs = 250\n",
    "config.bs = 50"
   ]
  },
  {
   "cell_type": "markdown",
   "id": "1385fa59",
   "metadata": {
    "papermill": {
     "duration": 0.02628,
     "end_time": "2022-01-27T00:23:44.050178",
     "exception": false,
     "start_time": "2022-01-27T00:23:44.023898",
     "status": "completed"
    },
    "tags": []
   },
   "source": [
    "### Running Models with the Training data\n",
    "Details about the network layers:\n",
    "- A first affine layer has 784 inputs and does 100 affine transforms. These are followed by a Relu\n",
    "- A second affine layer has 100 inputs from the 100 activations of the past layer, and does 100 affine transforms. These are followed by a Relu\n",
    "- A third affine layer has 100 activations and does 2 affine transformations to create an embedding for visualization. There is no non-linearity here.\n",
    "- A final \"logistic regression\" which has an affine transform from 2 inputs to 1 output, which is squeezed through a sigmoid.\n"
   ]
  },
  {
   "cell_type": "code",
   "execution_count": 17,
   "id": "2b9c66db",
   "metadata": {
    "execution": {
     "iopub.execute_input": "2022-01-27T00:23:44.115378Z",
     "iopub.status.busy": "2022-01-27T00:23:44.111396Z",
     "iopub.status.idle": "2022-01-27T00:23:44.120369Z",
     "shell.execute_reply": "2022-01-27T00:23:44.120773Z"
    },
    "papermill": {
     "duration": 0.044305,
     "end_time": "2022-01-27T00:23:44.120898",
     "exception": false,
     "start_time": "2022-01-27T00:23:44.076593",
     "status": "completed"
    },
    "tags": []
   },
   "outputs": [],
   "source": [
    "data = Data(X_train, y_train.reshape(-1,1))\n",
    "sampler = Sampler(data, config.bs, shuffle=True)\n",
    "\n",
    "dl = Dataloader(data, sampler)\n",
    "\n",
    "opt = GD(config.lr)\n",
    "loss = MSE()"
   ]
  },
  {
   "cell_type": "code",
   "execution_count": 18,
   "id": "b275e4c2",
   "metadata": {
    "execution": {
     "iopub.execute_input": "2022-01-27T00:23:44.191996Z",
     "iopub.status.busy": "2022-01-27T00:23:44.191482Z",
     "iopub.status.idle": "2022-01-27T00:23:44.196176Z",
     "shell.execute_reply": "2022-01-27T00:23:44.195764Z"
    },
    "papermill": {
     "duration": 0.049006,
     "end_time": "2022-01-27T00:23:44.196290",
     "exception": false,
     "start_time": "2022-01-27T00:23:44.147284",
     "status": "completed"
    },
    "tags": []
   },
   "outputs": [],
   "source": [
    "training_data_x = X_train\n",
    "testing_data_x = X_test\n",
    "training_data_y = y_train.reshape(-1,1)\n",
    "testing_data_y = y_test.reshape(-1,1)"
   ]
  },
  {
   "cell_type": "code",
   "execution_count": 19,
   "id": "76951160",
   "metadata": {
    "execution": {
     "iopub.execute_input": "2022-01-27T00:23:44.263382Z",
     "iopub.status.busy": "2022-01-27T00:23:44.259348Z",
     "iopub.status.idle": "2022-01-27T00:23:44.271497Z",
     "shell.execute_reply": "2022-01-27T00:23:44.271928Z"
    },
    "papermill": {
     "duration": 0.049617,
     "end_time": "2022-01-27T00:23:44.272056",
     "exception": false,
     "start_time": "2022-01-27T00:23:44.222439",
     "status": "completed"
    },
    "tags": []
   },
   "outputs": [
    {
     "name": "stdout",
     "output_type": "stream",
     "text": [
      "xavier\n",
      "xavier\n",
      "xavier\n",
      "xavier\n",
      "xavier\n"
     ]
    }
   ],
   "source": [
    "layers = [Affine(\"first\", 784, 100), Relu(\"first\"), Affine(\"second\", 100, 100), Relu(\"second\"), Affine(\"third\", 100, 2), Affine(\"last\", 2, 1), Sigmoid(\"last\")]\n",
    "model_nn = Model(layers)\n",
    "model_lr = Model([Affine(\"logits\", 784, 1), Sigmoid(\"sigmoid\")])"
   ]
  },
  {
   "cell_type": "code",
   "execution_count": 20,
   "id": "6eede77a",
   "metadata": {
    "execution": {
     "iopub.execute_input": "2022-01-27T00:23:44.328848Z",
     "iopub.status.busy": "2022-01-27T00:23:44.328344Z",
     "iopub.status.idle": "2022-01-27T00:23:44.340746Z",
     "shell.execute_reply": "2022-01-27T00:23:44.340340Z"
    },
    "papermill": {
     "duration": 0.042132,
     "end_time": "2022-01-27T00:23:44.340855",
     "exception": false,
     "start_time": "2022-01-27T00:23:44.298723",
     "status": "completed"
    },
    "tags": []
   },
   "outputs": [],
   "source": [
    "nn_learner = Learner(loss, model_nn, opt, config.num_epochs)\n",
    "acc_nn = ClfCallback(nn_learner, config.bs, training_data_x , testing_data_x, training_data_y, testing_data_y)\n",
    "nn_learner.set_callbacks([acc_nn])"
   ]
  },
  {
   "cell_type": "code",
   "execution_count": 21,
   "id": "877b6cc7",
   "metadata": {
    "execution": {
     "iopub.execute_input": "2022-01-27T00:23:44.401125Z",
     "iopub.status.busy": "2022-01-27T00:23:44.400619Z",
     "iopub.status.idle": "2022-01-27T00:23:44.409992Z",
     "shell.execute_reply": "2022-01-27T00:23:44.410382Z"
    },
    "papermill": {
     "duration": 0.04315,
     "end_time": "2022-01-27T00:23:44.410511",
     "exception": false,
     "start_time": "2022-01-27T00:23:44.367361",
     "status": "completed"
    },
    "tags": []
   },
   "outputs": [],
   "source": [
    "lr_learner = Learner(loss, model_lr, opt, config.num_epochs)\n",
    "acc_lr = ClfCallback(lr_learner, config.bs, training_data_x , testing_data_x, training_data_y, testing_data_y)\n",
    "lr_learner.set_callbacks([acc_lr])"
   ]
  },
  {
   "cell_type": "code",
   "execution_count": 22,
   "id": "d9b133c3",
   "metadata": {
    "execution": {
     "iopub.execute_input": "2022-01-27T00:23:44.478523Z",
     "iopub.status.busy": "2022-01-27T00:23:44.467690Z",
     "iopub.status.idle": "2022-01-27T00:24:59.864764Z",
     "shell.execute_reply": "2022-01-27T00:24:59.865549Z"
    },
    "papermill": {
     "duration": 75.428525,
     "end_time": "2022-01-27T00:24:59.865699",
     "exception": false,
     "start_time": "2022-01-27T00:23:44.437174",
     "status": "completed"
    },
    "tags": []
   },
   "outputs": [
    {
     "name": "stdout",
     "output_type": "stream",
     "text": [
      "Epoch 0, Loss 0.2436\n",
      "Training Accuracy: 0.7470, Testing Accuracy: 0.7495\n",
      "\n"
     ]
    },
    {
     "name": "stdout",
     "output_type": "stream",
     "text": [
      "Epoch 10, Loss 0.0599\n",
      "Training Accuracy: 0.9387, Testing Accuracy: 0.9486\n",
      "\n"
     ]
    },
    {
     "name": "stdout",
     "output_type": "stream",
     "text": [
      "Epoch 20, Loss 0.0421\n",
      "Training Accuracy: 0.9553, Testing Accuracy: 0.9637\n",
      "\n"
     ]
    },
    {
     "name": "stdout",
     "output_type": "stream",
     "text": [
      "Epoch 30, Loss 0.0352\n",
      "Training Accuracy: 0.9616, Testing Accuracy: 0.9688\n",
      "\n"
     ]
    },
    {
     "name": "stdout",
     "output_type": "stream",
     "text": [
      "Epoch 40, Loss 0.0313\n",
      "Training Accuracy: 0.9645, Testing Accuracy: 0.9718\n",
      "\n"
     ]
    },
    {
     "name": "stdout",
     "output_type": "stream",
     "text": [
      "Epoch 50, Loss 0.0287\n",
      "Training Accuracy: 0.9681, Testing Accuracy: 0.9723\n",
      "\n"
     ]
    },
    {
     "name": "stdout",
     "output_type": "stream",
     "text": [
      "Epoch 60, Loss 0.0267\n",
      "Training Accuracy: 0.9697, Testing Accuracy: 0.9728\n",
      "\n"
     ]
    },
    {
     "name": "stdout",
     "output_type": "stream",
     "text": [
      "Epoch 70, Loss 0.0252\n",
      "Training Accuracy: 0.9720, Testing Accuracy: 0.9713\n",
      "\n"
     ]
    },
    {
     "name": "stdout",
     "output_type": "stream",
     "text": [
      "Epoch 80, Loss 0.024\n",
      "Training Accuracy: 0.9736, Testing Accuracy: 0.9718\n",
      "\n"
     ]
    },
    {
     "name": "stdout",
     "output_type": "stream",
     "text": [
      "Epoch 90, Loss 0.0229\n",
      "Training Accuracy: 0.9744, Testing Accuracy: 0.9723\n",
      "\n"
     ]
    },
    {
     "name": "stdout",
     "output_type": "stream",
     "text": [
      "Epoch 100, Loss 0.022\n",
      "Training Accuracy: 0.9758, Testing Accuracy: 0.9723\n",
      "\n"
     ]
    },
    {
     "name": "stdout",
     "output_type": "stream",
     "text": [
      "Epoch 110, Loss 0.0212\n",
      "Training Accuracy: 0.9767, Testing Accuracy: 0.9733\n",
      "\n"
     ]
    },
    {
     "name": "stdout",
     "output_type": "stream",
     "text": [
      "Epoch 120, Loss 0.0204\n",
      "Training Accuracy: 0.9774, Testing Accuracy: 0.9738\n",
      "\n"
     ]
    },
    {
     "name": "stdout",
     "output_type": "stream",
     "text": [
      "Epoch 130, Loss 0.0198\n",
      "Training Accuracy: 0.9783, Testing Accuracy: 0.9738\n",
      "\n"
     ]
    },
    {
     "name": "stdout",
     "output_type": "stream",
     "text": [
      "Epoch 140, Loss 0.0192\n",
      "Training Accuracy: 0.9787, Testing Accuracy: 0.9743\n",
      "\n"
     ]
    },
    {
     "name": "stdout",
     "output_type": "stream",
     "text": [
      "Epoch 150, Loss 0.0186\n",
      "Training Accuracy: 0.9794, Testing Accuracy: 0.9758\n",
      "\n"
     ]
    },
    {
     "name": "stdout",
     "output_type": "stream",
     "text": [
      "Epoch 160, Loss 0.0181\n",
      "Training Accuracy: 0.9797, Testing Accuracy: 0.9758\n",
      "\n"
     ]
    },
    {
     "name": "stdout",
     "output_type": "stream",
     "text": [
      "Epoch 170, Loss 0.0176\n",
      "Training Accuracy: 0.9809, Testing Accuracy: 0.9748\n",
      "\n"
     ]
    },
    {
     "name": "stdout",
     "output_type": "stream",
     "text": [
      "Epoch 180, Loss 0.0172\n",
      "Training Accuracy: 0.9815, Testing Accuracy: 0.9748\n",
      "\n"
     ]
    },
    {
     "name": "stdout",
     "output_type": "stream",
     "text": [
      "Epoch 190, Loss 0.0168\n",
      "Training Accuracy: 0.9823, Testing Accuracy: 0.9748\n",
      "\n"
     ]
    },
    {
     "name": "stdout",
     "output_type": "stream",
     "text": [
      "Epoch 200, Loss 0.0164\n",
      "Training Accuracy: 0.9828, Testing Accuracy: 0.9748\n",
      "\n"
     ]
    },
    {
     "name": "stdout",
     "output_type": "stream",
     "text": [
      "Epoch 210, Loss 0.016\n",
      "Training Accuracy: 0.9835, Testing Accuracy: 0.9763\n",
      "\n"
     ]
    },
    {
     "name": "stdout",
     "output_type": "stream",
     "text": [
      "Epoch 220, Loss 0.0156\n",
      "Training Accuracy: 0.9839, Testing Accuracy: 0.9763\n",
      "\n"
     ]
    },
    {
     "name": "stdout",
     "output_type": "stream",
     "text": [
      "Epoch 230, Loss 0.0152\n",
      "Training Accuracy: 0.9841, Testing Accuracy: 0.9763\n",
      "\n"
     ]
    },
    {
     "name": "stdout",
     "output_type": "stream",
     "text": [
      "Epoch 240, Loss 0.0149\n",
      "Training Accuracy: 0.9846, Testing Accuracy: 0.9768\n",
      "\n"
     ]
    },
    {
     "data": {
      "text/plain": [
       "0.0022402068865336688"
      ]
     },
     "execution_count": 22,
     "metadata": {},
     "output_type": "execute_result"
    }
   ],
   "source": [
    "nn_learner.train_loop(dl)"
   ]
  },
  {
   "cell_type": "code",
   "execution_count": 23,
   "id": "e0163366",
   "metadata": {
    "execution": {
     "iopub.execute_input": "2022-01-27T00:24:59.945448Z",
     "iopub.status.busy": "2022-01-27T00:24:59.944935Z",
     "iopub.status.idle": "2022-01-27T00:25:13.375690Z",
     "shell.execute_reply": "2022-01-27T00:25:13.376437Z"
    },
    "papermill": {
     "duration": 13.476573,
     "end_time": "2022-01-27T00:25:13.376582",
     "exception": false,
     "start_time": "2022-01-27T00:24:59.900009",
     "status": "completed"
    },
    "tags": []
   },
   "outputs": [
    {
     "name": "stdout",
     "output_type": "stream",
     "text": [
      "Epoch 0, Loss 0.2406\n",
      "Training Accuracy: 0.6928, Testing Accuracy: 0.6961\n",
      "\n"
     ]
    },
    {
     "name": "stdout",
     "output_type": "stream",
     "text": [
      "Epoch 10, Loss 0.1059\n",
      "Training Accuracy: 0.8999, Testing Accuracy: 0.9068\n",
      "\n"
     ]
    },
    {
     "name": "stdout",
     "output_type": "stream",
     "text": [
      "Epoch 20, Loss 0.0807\n",
      "Training Accuracy: 0.9262, Testing Accuracy: 0.9289\n",
      "\n"
     ]
    },
    {
     "name": "stdout",
     "output_type": "stream",
     "text": [
      "Epoch 30, Loss 0.069\n",
      "Training Accuracy: 0.9351, Testing Accuracy: 0.9425\n",
      "\n"
     ]
    },
    {
     "name": "stdout",
     "output_type": "stream",
     "text": [
      "Epoch 40, Loss 0.062\n",
      "Training Accuracy: 0.9417, Testing Accuracy: 0.9501\n",
      "\n"
     ]
    },
    {
     "name": "stdout",
     "output_type": "stream",
     "text": [
      "Epoch 50, Loss 0.0572\n",
      "Training Accuracy: 0.9453, Testing Accuracy: 0.9546\n",
      "\n"
     ]
    },
    {
     "name": "stdout",
     "output_type": "stream",
     "text": [
      "Epoch 60, Loss 0.0538\n",
      "Training Accuracy: 0.9476, Testing Accuracy: 0.9572\n",
      "\n"
     ]
    },
    {
     "name": "stdout",
     "output_type": "stream",
     "text": [
      "Epoch 70, Loss 0.0512\n",
      "Training Accuracy: 0.9498, Testing Accuracy: 0.9582\n",
      "\n"
     ]
    },
    {
     "name": "stdout",
     "output_type": "stream",
     "text": [
      "Epoch 80, Loss 0.0491\n",
      "Training Accuracy: 0.9514, Testing Accuracy: 0.9592\n",
      "\n"
     ]
    },
    {
     "name": "stdout",
     "output_type": "stream",
     "text": [
      "Epoch 90, Loss 0.0473\n",
      "Training Accuracy: 0.9528, Testing Accuracy: 0.9592\n",
      "\n"
     ]
    },
    {
     "name": "stdout",
     "output_type": "stream",
     "text": [
      "Epoch 100, Loss 0.0459\n",
      "Training Accuracy: 0.9540, Testing Accuracy: 0.9607\n",
      "\n"
     ]
    },
    {
     "name": "stdout",
     "output_type": "stream",
     "text": [
      "Epoch 110, Loss 0.0447\n",
      "Training Accuracy: 0.9550, Testing Accuracy: 0.9612\n",
      "\n"
     ]
    },
    {
     "name": "stdout",
     "output_type": "stream",
     "text": [
      "Epoch 120, Loss 0.0436\n",
      "Training Accuracy: 0.9561, Testing Accuracy: 0.9617\n",
      "\n"
     ]
    },
    {
     "name": "stdout",
     "output_type": "stream",
     "text": [
      "Epoch 130, Loss 0.0427\n",
      "Training Accuracy: 0.9569, Testing Accuracy: 0.9632\n",
      "\n"
     ]
    },
    {
     "name": "stdout",
     "output_type": "stream",
     "text": [
      "Epoch 140, Loss 0.0418\n",
      "Training Accuracy: 0.9577, Testing Accuracy: 0.9642\n",
      "\n"
     ]
    },
    {
     "name": "stdout",
     "output_type": "stream",
     "text": [
      "Epoch 150, Loss 0.0411\n",
      "Training Accuracy: 0.9581, Testing Accuracy: 0.9647\n",
      "\n"
     ]
    },
    {
     "name": "stdout",
     "output_type": "stream",
     "text": [
      "Epoch 160, Loss 0.0404\n",
      "Training Accuracy: 0.9585, Testing Accuracy: 0.9652\n",
      "\n"
     ]
    },
    {
     "name": "stdout",
     "output_type": "stream",
     "text": [
      "Epoch 170, Loss 0.0398\n",
      "Training Accuracy: 0.9590, Testing Accuracy: 0.9657\n",
      "\n"
     ]
    },
    {
     "name": "stdout",
     "output_type": "stream",
     "text": [
      "Epoch 180, Loss 0.0392\n",
      "Training Accuracy: 0.9595, Testing Accuracy: 0.9657\n",
      "\n"
     ]
    },
    {
     "name": "stdout",
     "output_type": "stream",
     "text": [
      "Epoch 190, Loss 0.0387\n",
      "Training Accuracy: 0.9601, Testing Accuracy: 0.9657\n",
      "\n"
     ]
    },
    {
     "name": "stdout",
     "output_type": "stream",
     "text": [
      "Epoch 200, Loss 0.0383\n",
      "Training Accuracy: 0.9607, Testing Accuracy: 0.9657\n",
      "\n"
     ]
    },
    {
     "name": "stdout",
     "output_type": "stream",
     "text": [
      "Epoch 210, Loss 0.0378\n",
      "Training Accuracy: 0.9613, Testing Accuracy: 0.9652\n",
      "\n"
     ]
    },
    {
     "name": "stdout",
     "output_type": "stream",
     "text": [
      "Epoch 220, Loss 0.0374\n",
      "Training Accuracy: 0.9616, Testing Accuracy: 0.9657\n",
      "\n"
     ]
    },
    {
     "name": "stdout",
     "output_type": "stream",
     "text": [
      "Epoch 230, Loss 0.037\n",
      "Training Accuracy: 0.9620, Testing Accuracy: 0.9657\n",
      "\n"
     ]
    },
    {
     "name": "stdout",
     "output_type": "stream",
     "text": [
      "Epoch 240, Loss 0.0367\n",
      "Training Accuracy: 0.9625, Testing Accuracy: 0.9657\n",
      "\n"
     ]
    },
    {
     "data": {
      "text/plain": [
       "0.06380331246101752"
      ]
     },
     "execution_count": 23,
     "metadata": {},
     "output_type": "execute_result"
    }
   ],
   "source": [
    "lr_learner.train_loop(dl)"
   ]
  },
  {
   "cell_type": "code",
   "execution_count": 24,
   "id": "ca410940",
   "metadata": {
    "execution": {
     "iopub.execute_input": "2022-01-27T00:25:13.472026Z",
     "iopub.status.busy": "2022-01-27T00:25:13.471499Z",
     "iopub.status.idle": "2022-01-27T00:25:13.688326Z",
     "shell.execute_reply": "2022-01-27T00:25:13.688781Z"
    },
    "papermill": {
     "duration": 0.271429,
     "end_time": "2022-01-27T00:25:13.688941",
     "exception": false,
     "start_time": "2022-01-27T00:25:13.417512",
     "status": "completed"
    },
    "tags": []
   },
   "outputs": [
    {
     "data": {
      "text/plain": [
       "<matplotlib.legend.Legend at 0x7f2912636f98>"
      ]
     },
     "execution_count": 24,
     "metadata": {},
     "output_type": "execute_result"
    },
    {
     "data": {
      "image/png": "[encoded data removed]",
      "text/plain": [
       "<Figure size 1080x720 with 1 Axes>"
      ]
     },
     "metadata": {
      "needs_background": "light"
     },
     "output_type": "display_data"
    }
   ],
   "source": [
    "#comparing the results of NN and LR\n",
    "plt.figure(figsize=(15,10))\n",
    "\n",
    "# Neural Network plots\n",
    "plt.plot(acc_nn.accuracies, 'r-', label = \"Training Accuracies - NN\")\n",
    "plt.plot(acc_nn.test_accuracies, 'g-', label = \"Testing Accuracies - NN\")\n",
    "\n",
    "# Logistic Regression plots\n",
    "plt.plot(acc_lr.accuracies, 'k-', label = \"Training Accuracies - LR\")\n",
    "plt.plot(acc_lr.test_accuracies, 'b-', label = \"Testing Accuracies - LR\")\n",
    "plt.legend()"
   ]
  },
  {
   "cell_type": "markdown",
   "id": "80dfb35c",
   "metadata": {
    "papermill": {
     "duration": 0.041187,
     "end_time": "2022-01-27T00:25:13.773893",
     "exception": false,
     "start_time": "2022-01-27T00:25:13.732706",
     "status": "completed"
    },
    "tags": []
   },
   "source": [
    "#### Plotting the outputs of this layer of the NN.\n"
   ]
  },
  {
   "cell_type": "code",
   "execution_count": 25,
   "id": "45eb2ff5",
   "metadata": {
    "execution": {
     "iopub.execute_input": "2022-01-27T00:25:13.862067Z",
     "iopub.status.busy": "2022-01-27T00:25:13.860955Z",
     "iopub.status.idle": "2022-01-27T00:25:13.880263Z",
     "shell.execute_reply": "2022-01-27T00:25:13.880657Z"
    },
    "papermill": {
     "duration": 0.065277,
     "end_time": "2022-01-27T00:25:13.880796",
     "exception": false,
     "start_time": "2022-01-27T00:25:13.815519",
     "status": "completed"
    },
    "tags": []
   },
   "outputs": [],
   "source": [
    "new_model = Model(layers[:-2])\n",
    "testing_plot = new_model(testing_data_x)"
   ]
  },
  {
   "cell_type": "code",
   "execution_count": 26,
   "id": "4c0a5485",
   "metadata": {
    "execution": {
     "iopub.execute_input": "2022-01-27T00:25:13.974586Z",
     "iopub.status.busy": "2022-01-27T00:25:13.974067Z",
     "iopub.status.idle": "2022-01-27T00:25:14.173082Z",
     "shell.execute_reply": "2022-01-27T00:25:14.173497Z"
    },
    "papermill": {
     "duration": 0.249452,
     "end_time": "2022-01-27T00:25:14.173632",
     "exception": false,
     "start_time": "2022-01-27T00:25:13.924180",
     "status": "completed"
    },
    "tags": []
   },
   "outputs": [
    {
     "data": {
      "text/plain": [
       "Text(0.5, 1.0, 'Outputs')"
      ]
     },
     "execution_count": 26,
     "metadata": {},
     "output_type": "execute_result"
    },
    {
     "data": {
      "image/png": "[encoded data removed]",
      "text/plain": [
       "<Figure size 576x504 with 1 Axes>"
      ]
     },
     "metadata": {
      "needs_background": "light"
     },
     "output_type": "display_data"
    }
   ],
   "source": [
    "# Plotting the scatter plot of points and color coding by class\n",
    "plt.figure(figsize=(8,7))\n",
    "plt.scatter(testing_plot[:,0], testing_plot[:,1], alpha = 0.1, c = y_test.ravel());\n",
    "plt.title('Outputs')"
   ]
  },
  {
   "cell_type": "markdown",
   "id": "a74fcf8f",
   "metadata": {
    "papermill": {
     "duration": 0.044459,
     "end_time": "2022-01-27T00:25:14.263023",
     "exception": false,
     "start_time": "2022-01-27T00:25:14.218564",
     "status": "completed"
    },
    "tags": []
   },
   "source": [
    "Probability contours"
   ]
  },
  {
   "cell_type": "code",
   "execution_count": 27,
   "id": "d0afc8e3",
   "metadata": {
    "execution": {
     "iopub.execute_input": "2022-01-27T00:25:14.358757Z",
     "iopub.status.busy": "2022-01-27T00:25:14.358218Z",
     "iopub.status.idle": "2022-01-27T00:25:14.367745Z",
     "shell.execute_reply": "2022-01-27T00:25:14.367308Z"
    },
    "papermill": {
     "duration": 0.060536,
     "end_time": "2022-01-27T00:25:14.367857",
     "exception": false,
     "start_time": "2022-01-27T00:25:14.307321",
     "status": "completed"
    },
    "tags": []
   },
   "outputs": [],
   "source": [
    "model_prob = Model(layers[-2:]) "
   ]
  },
  {
   "cell_type": "code",
   "execution_count": 28,
   "id": "9b96e238",
   "metadata": {
    "execution": {
     "iopub.execute_input": "2022-01-27T00:25:14.460637Z",
     "iopub.status.busy": "2022-01-27T00:25:14.460123Z",
     "iopub.status.idle": "2022-01-27T00:25:14.473247Z",
     "shell.execute_reply": "2022-01-27T00:25:14.473646Z"
    },
    "papermill": {
     "duration": 0.061765,
     "end_time": "2022-01-27T00:25:14.473782",
     "exception": false,
     "start_time": "2022-01-27T00:25:14.412017",
     "status": "completed"
    },
    "tags": []
   },
   "outputs": [],
   "source": [
    "#creating the x and y ranges according to the above generated plot.\n",
    "x_range = np.linspace(-4, 1, 100) \n",
    "y_range = np.linspace(-6, 6, 100) \n",
    "x_grid, y_grid = np.meshgrid(x_range, y_range) # x_grid and y_grig are of size 100 X 100\n",
    "\n",
    "# converting x_grid and y_grid to continuous arrays\n",
    "x_gridflat = np.ravel(x_grid)\n",
    "y_gridflat = np.ravel(y_grid)\n",
    "\n",
    "# The last layer of the current model takes two columns as input. Hence transpose of np.vstack() is required.\n",
    "X = np.vstack((x_gridflat, y_gridflat)).T\n",
    "\n",
    "prob_contour = model_prob(X).reshape(100,100) "
   ]
  },
  {
   "cell_type": "code",
   "execution_count": 29,
   "id": "da72499a",
   "metadata": {
    "execution": {
     "iopub.execute_input": "2022-01-27T00:25:14.572312Z",
     "iopub.status.busy": "2022-01-27T00:25:14.571793Z",
     "iopub.status.idle": "2022-01-27T00:25:14.810002Z",
     "shell.execute_reply": "2022-01-27T00:25:14.809114Z"
    },
    "papermill": {
     "duration": 0.291474,
     "end_time": "2022-01-27T00:25:14.810146",
     "exception": false,
     "start_time": "2022-01-27T00:25:14.518672",
     "status": "completed"
    },
    "tags": []
   },
   "outputs": [
    {
     "data": {
      "image/png": "[encoded data removed]",
      "text/plain": [
       "<Figure size 720x648 with 1 Axes>"
      ]
     },
     "metadata": {
      "needs_background": "light"
     },
     "output_type": "display_data"
    }
   ],
   "source": [
    "plt.figure(figsize=(10,9))\n",
    "plt.scatter(testing_plot[:,0], testing_plot[:,1], alpha = 0.1, c = y_test.ravel())\n",
    "contours = plt.contour(x_grid,y_grid,prob_contour)\n",
    "plt.title('Probability Contours')\n",
    "plt.clabel(contours, inline = True );"
   ]
  },
  {
   "cell_type": "code",
   "execution_count": null,
   "id": "e81b4ac7",
   "metadata": {
    "papermill": {
     "duration": 0.046552,
     "end_time": "2022-01-27T00:25:14.930376",
     "exception": false,
     "start_time": "2022-01-27T00:25:14.883824",
     "status": "completed"
    },
    "tags": []
   },
   "outputs": [],
   "source": []
  }
 ],
 "metadata": {
  "kernelspec": {
   "display_name": "Python 3",
   "language": "python",
   "name": "python3"
  },
  "language_info": {
   "codemirror_mode": {
    "name": "ipython",
    "version": 3
   },
   "file_extension": ".py",
   "mimetype": "text/x-python",
   "name": "python",
   "nbconvert_exporter": "python",
   "pygments_lexer": "ipython3",
   "version": "3.6.15"
  },
  "papermill": {
   "default_parameters": {},
   "duration": 96.906128,
   "end_time": "2022-01-27T00:25:15.395483",
   "environment_variables": {},
   "exception": null,
   "input_path": "2020-08-11-part2.ipynb",
   "output_path": "2020-08-11-part2.ipynb",
   "parameters": {},
   "start_time": "2022-01-27T00:23:38.489355",
   "version": "2.3.3"
  }
 },
 "nbformat": 4,
 "nbformat_minor": 5
}