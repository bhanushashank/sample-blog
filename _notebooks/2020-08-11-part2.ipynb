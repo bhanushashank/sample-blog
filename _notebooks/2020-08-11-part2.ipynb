{
 "cells": [
  {
   "cell_type": "markdown",
   "id": "98380cd3",
   "metadata": {
    "papermill": {
     "duration": 0.029424,
     "end_time": "2022-05-31T20:11:23.433766",
     "exception": false,
     "start_time": "2022-05-31T20:11:23.404342",
     "status": "completed"
    },
    "tags": []
   },
   "source": [
    "# Distinguish Your Own Digits (DYOD)"
   ]
  },
  {
   "cell_type": "markdown",
   "id": "ef31240d",
   "metadata": {
    "papermill": {
     "duration": 0.026978,
     "end_time": "2022-05-31T20:11:23.486032",
     "exception": false,
     "start_time": "2022-05-31T20:11:23.459054",
     "status": "completed"
    },
    "tags": []
   },
   "source": [
    "You are going to write a classifier that distinguishes between the number 3 and number 8."
   ]
  },
  {
   "cell_type": "code",
   "execution_count": 1,
   "id": "b15c8646",
   "metadata": {
    "execution": {
     "iopub.execute_input": "2022-05-31T20:11:23.547348Z",
     "iopub.status.busy": "2022-05-31T20:11:23.546776Z",
     "iopub.status.idle": "2022-05-31T20:11:23.558131Z",
     "shell.execute_reply": "2022-05-31T20:11:23.558593Z"
    },
    "papermill": {
     "duration": 0.048062,
     "end_time": "2022-05-31T20:11:23.558725",
     "exception": false,
     "start_time": "2022-05-31T20:11:23.510663",
     "status": "completed"
    },
    "tags": []
   },
   "outputs": [],
   "source": [
    "%load_ext autoreload\n",
    "%autoreload 2"
   ]
  },
  {
   "cell_type": "code",
   "execution_count": 2,
   "id": "22ef38dc",
   "metadata": {
    "execution": {
     "iopub.execute_input": "2022-05-31T20:11:23.612128Z",
     "iopub.status.busy": "2022-05-31T20:11:23.611551Z",
     "iopub.status.idle": "2022-05-31T20:11:24.108464Z",
     "shell.execute_reply": "2022-05-31T20:11:24.107972Z"
    },
    "papermill": {
     "duration": 0.524613,
     "end_time": "2022-05-31T20:11:24.108581",
     "exception": false,
     "start_time": "2022-05-31T20:11:23.583968",
     "status": "completed"
    },
    "tags": []
   },
   "outputs": [],
   "source": [
    "%matplotlib inline\n",
    "import numpy as np\n",
    "import matplotlib.pyplot as plt\n",
    "import pandas as pd"
   ]
  },
  {
   "cell_type": "markdown",
   "id": "ba036198",
   "metadata": {
    "papermill": {
     "duration": 0.025235,
     "end_time": "2022-05-31T20:11:24.158784",
     "exception": false,
     "start_time": "2022-05-31T20:11:24.133549",
     "status": "completed"
    },
    "tags": []
   },
   "source": [
    "From the command line run `pip install mnist`. This is a library that will help you bring down the mnist dataset. If you run this from a notebook, you need to put  `!pip install mnist` in a cell by itself."
   ]
  },
  {
   "cell_type": "code",
   "execution_count": 3,
   "id": "bb6ad8a1",
   "metadata": {
    "execution": {
     "iopub.execute_input": "2022-05-31T20:11:24.211955Z",
     "iopub.status.busy": "2022-05-31T20:11:24.211362Z",
     "iopub.status.idle": "2022-05-31T20:11:25.935984Z",
     "shell.execute_reply": "2022-05-31T20:11:25.936466Z"
    },
    "papermill": {
     "duration": 1.753104,
     "end_time": "2022-05-31T20:11:25.936598",
     "exception": false,
     "start_time": "2022-05-31T20:11:24.183494",
     "status": "completed"
    },
    "tags": []
   },
   "outputs": [
    {
     "name": "stdout",
     "output_type": "stream",
     "text": [
      "Collecting mnist\r\n"
     ]
    },
    {
     "name": "stdout",
     "output_type": "stream",
     "text": [
      "  Downloading mnist-0.2.2-py2.py3-none-any.whl (3.5 kB)\r\n",
      "Requirement already satisfied: numpy in /opt/hostedtoolcache/Python/3.6.15/x64/lib/python3.6/site-packages (from mnist) (1.19.5)\r\n"
     ]
    },
    {
     "name": "stdout",
     "output_type": "stream",
     "text": [
      "Installing collected packages: mnist\r\n"
     ]
    },
    {
     "name": "stdout",
     "output_type": "stream",
     "text": [
      "Successfully installed mnist-0.2.2\r\n"
     ]
    }
   ],
   "source": [
    "!pip install mnist"
   ]
  },
  {
   "cell_type": "markdown",
   "id": "69df9c9a",
   "metadata": {
    "papermill": {
     "duration": 0.025857,
     "end_time": "2022-05-31T20:11:25.988504",
     "exception": false,
     "start_time": "2022-05-31T20:11:25.962647",
     "status": "completed"
    },
    "tags": []
   },
   "source": [
    "## Preparing the Data"
   ]
  },
  {
   "cell_type": "code",
   "execution_count": 4,
   "id": "7f69d806",
   "metadata": {
    "execution": {
     "iopub.execute_input": "2022-05-31T20:11:26.043318Z",
     "iopub.status.busy": "2022-05-31T20:11:26.042764Z",
     "iopub.status.idle": "2022-05-31T20:11:26.056215Z",
     "shell.execute_reply": "2022-05-31T20:11:26.055759Z"
    },
    "papermill": {
     "duration": 0.042133,
     "end_time": "2022-05-31T20:11:26.056314",
     "exception": false,
     "start_time": "2022-05-31T20:11:26.014181",
     "status": "completed"
    },
    "tags": []
   },
   "outputs": [],
   "source": [
    "import mnist"
   ]
  },
  {
   "cell_type": "code",
   "execution_count": 5,
   "id": "a411e44f",
   "metadata": {
    "execution": {
     "iopub.execute_input": "2022-05-31T20:11:26.110891Z",
     "iopub.status.busy": "2022-05-31T20:11:26.110351Z",
     "iopub.status.idle": "2022-05-31T20:11:28.219383Z",
     "shell.execute_reply": "2022-05-31T20:11:28.218437Z"
    },
    "papermill": {
     "duration": 2.137429,
     "end_time": "2022-05-31T20:11:28.219509",
     "exception": false,
     "start_time": "2022-05-31T20:11:26.082080",
     "status": "completed"
    },
    "tags": []
   },
   "outputs": [],
   "source": [
    "train_images = mnist.train_images()\n",
    "train_labels = mnist.train_labels()"
   ]
  },
  {
   "cell_type": "code",
   "execution_count": 6,
   "id": "dceab3a5",
   "metadata": {
    "execution": {
     "iopub.execute_input": "2022-05-31T20:11:28.275605Z",
     "iopub.status.busy": "2022-05-31T20:11:28.275024Z",
     "iopub.status.idle": "2022-05-31T20:11:28.289355Z",
     "shell.execute_reply": "2022-05-31T20:11:28.288804Z"
    },
    "papermill": {
     "duration": 0.043699,
     "end_time": "2022-05-31T20:11:28.289464",
     "exception": false,
     "start_time": "2022-05-31T20:11:28.245765",
     "status": "completed"
    },
    "tags": []
   },
   "outputs": [
    {
     "data": {
      "text/plain": [
       "((60000, 28, 28), (60000,))"
      ]
     },
     "execution_count": 6,
     "metadata": {},
     "output_type": "execute_result"
    }
   ],
   "source": [
    "train_images.shape, train_labels.shape"
   ]
  },
  {
   "cell_type": "code",
   "execution_count": 7,
   "id": "f50dc2bb",
   "metadata": {
    "execution": {
     "iopub.execute_input": "2022-05-31T20:11:28.345887Z",
     "iopub.status.busy": "2022-05-31T20:11:28.345337Z",
     "iopub.status.idle": "2022-05-31T20:11:28.593681Z",
     "shell.execute_reply": "2022-05-31T20:11:28.593181Z"
    },
    "papermill": {
     "duration": 0.277937,
     "end_time": "2022-05-31T20:11:28.593791",
     "exception": false,
     "start_time": "2022-05-31T20:11:28.315854",
     "status": "completed"
    },
    "tags": []
   },
   "outputs": [],
   "source": [
    "test_images = mnist.test_images()\n",
    "test_labels = mnist.test_labels()"
   ]
  },
  {
   "cell_type": "code",
   "execution_count": 8,
   "id": "fc38cf1b",
   "metadata": {
    "execution": {
     "iopub.execute_input": "2022-05-31T20:11:28.650683Z",
     "iopub.status.busy": "2022-05-31T20:11:28.650117Z",
     "iopub.status.idle": "2022-05-31T20:11:28.662960Z",
     "shell.execute_reply": "2022-05-31T20:11:28.663419Z"
    },
    "papermill": {
     "duration": 0.042837,
     "end_time": "2022-05-31T20:11:28.663549",
     "exception": false,
     "start_time": "2022-05-31T20:11:28.620712",
     "status": "completed"
    },
    "tags": []
   },
   "outputs": [
    {
     "data": {
      "text/plain": [
       "((10000, 28, 28), (10000,))"
      ]
     },
     "execution_count": 8,
     "metadata": {},
     "output_type": "execute_result"
    }
   ],
   "source": [
    "test_images.shape, test_labels.shape"
   ]
  },
  {
   "cell_type": "code",
   "execution_count": 9,
   "id": "f9ed8fe0",
   "metadata": {
    "execution": {
     "iopub.execute_input": "2022-05-31T20:11:28.720595Z",
     "iopub.status.busy": "2022-05-31T20:11:28.720028Z",
     "iopub.status.idle": "2022-05-31T20:11:28.855301Z",
     "shell.execute_reply": "2022-05-31T20:11:28.855776Z"
    },
    "papermill": {
     "duration": 0.165695,
     "end_time": "2022-05-31T20:11:28.855907",
     "exception": false,
     "start_time": "2022-05-31T20:11:28.690212",
     "status": "completed"
    },
    "tags": []
   },
   "outputs": [
    {
     "name": "stdout",
     "output_type": "stream",
     "text": [
      "2\n"
     ]
    },
    {
     "data": {
      "text/plain": [
       "<matplotlib.image.AxesImage at 0x7f8a94cbde48>"
      ]
     },
     "execution_count": 9,
     "metadata": {},
     "output_type": "execute_result"
    },
    {
     "data": {
      "image/png": "[encoded data removed]",
      "text/plain": [
       "<Figure size 432x288 with 1 Axes>"
      ]
     },
     "metadata": {
      "needs_background": "light"
     },
     "output_type": "display_data"
    }
   ],
   "source": [
    "image_index = 7776 # You may select anything up to 60,000\n",
    "print(train_labels[image_index]) \n",
    "plt.imshow(train_images[image_index], cmap='Greys')"
   ]
  },
  {
   "cell_type": "markdown",
   "id": "a8d2388d",
   "metadata": {
    "papermill": {
     "duration": 0.027583,
     "end_time": "2022-05-31T20:11:28.911306",
     "exception": false,
     "start_time": "2022-05-31T20:11:28.883723",
     "status": "completed"
    },
    "tags": []
   },
   "source": [
    "## Filter data to get 3 and 8 out"
   ]
  },
  {
   "cell_type": "code",
   "execution_count": 10,
   "id": "776f7fc7",
   "metadata": {
    "execution": {
     "iopub.execute_input": "2022-05-31T20:11:28.973824Z",
     "iopub.status.busy": "2022-05-31T20:11:28.971615Z",
     "iopub.status.idle": "2022-05-31T20:11:28.987333Z",
     "shell.execute_reply": "2022-05-31T20:11:28.986854Z"
    },
    "papermill": {
     "duration": 0.048424,
     "end_time": "2022-05-31T20:11:28.987442",
     "exception": false,
     "start_time": "2022-05-31T20:11:28.939018",
     "status": "completed"
    },
    "tags": []
   },
   "outputs": [],
   "source": [
    "train_filter = np.where((train_labels == 3 ) | (train_labels == 8))\n",
    "test_filter = np.where((test_labels == 3) | (test_labels == 8))\n",
    "X_train, y_train = train_images[train_filter], train_labels[train_filter]\n",
    "X_test, y_test = test_images[test_filter], test_labels[test_filter]"
   ]
  },
  {
   "cell_type": "markdown",
   "id": "948f0b7e",
   "metadata": {
    "papermill": {
     "duration": 0.02757,
     "end_time": "2022-05-31T20:11:29.042838",
     "exception": false,
     "start_time": "2022-05-31T20:11:29.015268",
     "status": "completed"
    },
    "tags": []
   },
   "source": [
    "We normalize the pizel values in the 0 to 1 range"
   ]
  },
  {
   "cell_type": "code",
   "execution_count": 11,
   "id": "ee4c2166",
   "metadata": {
    "execution": {
     "iopub.execute_input": "2022-05-31T20:11:29.101791Z",
     "iopub.status.busy": "2022-05-31T20:11:29.101219Z",
     "iopub.status.idle": "2022-05-31T20:11:29.139590Z",
     "shell.execute_reply": "2022-05-31T20:11:29.140041Z"
    },
    "papermill": {
     "duration": 0.069704,
     "end_time": "2022-05-31T20:11:29.140179",
     "exception": false,
     "start_time": "2022-05-31T20:11:29.070475",
     "status": "completed"
    },
    "tags": []
   },
   "outputs": [],
   "source": [
    "X_train = X_train/255.\n",
    "X_test = X_test/255."
   ]
  },
  {
   "cell_type": "markdown",
   "id": "ddcf4fab",
   "metadata": {
    "papermill": {
     "duration": 0.027672,
     "end_time": "2022-05-31T20:11:29.195651",
     "exception": false,
     "start_time": "2022-05-31T20:11:29.167979",
     "status": "completed"
    },
    "tags": []
   },
   "source": [
    "And setup the labels as 1 (when the digit is 3) and 0 (when the digit is 8)"
   ]
  },
  {
   "cell_type": "code",
   "execution_count": 12,
   "id": "7dc908f2",
   "metadata": {
    "execution": {
     "iopub.execute_input": "2022-05-31T20:11:29.254365Z",
     "iopub.status.busy": "2022-05-31T20:11:29.253814Z",
     "iopub.status.idle": "2022-05-31T20:11:29.266066Z",
     "shell.execute_reply": "2022-05-31T20:11:29.265594Z"
    },
    "papermill": {
     "duration": 0.042809,
     "end_time": "2022-05-31T20:11:29.266173",
     "exception": false,
     "start_time": "2022-05-31T20:11:29.223364",
     "status": "completed"
    },
    "tags": []
   },
   "outputs": [],
   "source": [
    "y_train = 1*(y_train==3)\n",
    "y_test = 1*(y_test==3)"
   ]
  },
  {
   "cell_type": "code",
   "execution_count": 13,
   "id": "01e4e969",
   "metadata": {
    "execution": {
     "iopub.execute_input": "2022-05-31T20:11:29.324986Z",
     "iopub.status.busy": "2022-05-31T20:11:29.324431Z",
     "iopub.status.idle": "2022-05-31T20:11:29.337773Z",
     "shell.execute_reply": "2022-05-31T20:11:29.337234Z"
    },
    "papermill": {
     "duration": 0.044061,
     "end_time": "2022-05-31T20:11:29.337881",
     "exception": false,
     "start_time": "2022-05-31T20:11:29.293820",
     "status": "completed"
    },
    "tags": []
   },
   "outputs": [
    {
     "data": {
      "text/plain": [
       "((11982, 28, 28), (1984, 28, 28))"
      ]
     },
     "execution_count": 13,
     "metadata": {},
     "output_type": "execute_result"
    }
   ],
   "source": [
    "X_train.shape, X_test.shape"
   ]
  },
  {
   "cell_type": "markdown",
   "id": "5ccf3f85",
   "metadata": {
    "papermill": {
     "duration": 0.02784,
     "end_time": "2022-05-31T20:11:29.393463",
     "exception": false,
     "start_time": "2022-05-31T20:11:29.365623",
     "status": "completed"
    },
    "tags": []
   },
   "source": [
    "We reshape the data to flatten the image pixels into a set of features or co-variates:"
   ]
  },
  {
   "cell_type": "code",
   "execution_count": 14,
   "id": "5286a4a3",
   "metadata": {
    "execution": {
     "iopub.execute_input": "2022-05-31T20:11:29.453740Z",
     "iopub.status.busy": "2022-05-31T20:11:29.453163Z",
     "iopub.status.idle": "2022-05-31T20:11:29.467897Z",
     "shell.execute_reply": "2022-05-31T20:11:29.467309Z"
    },
    "papermill": {
     "duration": 0.046443,
     "end_time": "2022-05-31T20:11:29.468010",
     "exception": false,
     "start_time": "2022-05-31T20:11:29.421567",
     "status": "completed"
    },
    "tags": []
   },
   "outputs": [
    {
     "data": {
      "text/plain": [
       "((11982, 784), (1984, 784))"
      ]
     },
     "execution_count": 14,
     "metadata": {},
     "output_type": "execute_result"
    }
   ],
   "source": [
    "X_train = X_train.reshape(X_train.shape[0], -1)\n",
    "X_test = X_test.reshape(X_test.shape[0], -1)\n",
    "X_train.shape, X_test.shape"
   ]
  },
  {
   "cell_type": "code",
   "execution_count": 15,
   "id": "73c5f88a",
   "metadata": {
    "execution": {
     "iopub.execute_input": "2022-05-31T20:11:29.529129Z",
     "iopub.status.busy": "2022-05-31T20:11:29.528547Z",
     "iopub.status.idle": "2022-05-31T20:11:29.547290Z",
     "shell.execute_reply": "2022-05-31T20:11:29.546840Z"
    },
    "papermill": {
     "duration": 0.051192,
     "end_time": "2022-05-31T20:11:29.547406",
     "exception": false,
     "start_time": "2022-05-31T20:11:29.496214",
     "status": "completed"
    },
    "tags": []
   },
   "outputs": [],
   "source": [
    "#Impoting functions from 'Kudzu'\n",
    "from kudzu.model import Model\n",
    "from kudzu.train import Learner\n",
    "from kudzu.optim import GD\n",
    "from kudzu.data import Data, Sampler,Dataloader\n",
    "\n",
    "from kudzu.callbacks import AccCallback\n",
    "from kudzu.callbacks import ClfCallback\n",
    "\n",
    "from kudzu.loss import MSE\n",
    "\n",
    "from kudzu.layer import Sigmoid,Relu\n",
    "from kudzu.layer import Affine"
   ]
  },
  {
   "cell_type": "markdown",
   "id": "bc01172a",
   "metadata": {
    "papermill": {
     "duration": 0.028055,
     "end_time": "2022-05-31T20:11:29.603992",
     "exception": false,
     "start_time": "2022-05-31T20:11:29.575937",
     "status": "completed"
    },
    "tags": []
   },
   "source": [
    "### Let us create a `Config` class, to store important parameters. \n",
    "This class essentially plays the role of a dictionary."
   ]
  },
  {
   "cell_type": "code",
   "execution_count": 16,
   "id": "978281aa",
   "metadata": {
    "execution": {
     "iopub.execute_input": "2022-05-31T20:11:29.664075Z",
     "iopub.status.busy": "2022-05-31T20:11:29.663477Z",
     "iopub.status.idle": "2022-05-31T20:11:29.676566Z",
     "shell.execute_reply": "2022-05-31T20:11:29.676094Z"
    },
    "papermill": {
     "duration": 0.044611,
     "end_time": "2022-05-31T20:11:29.676675",
     "exception": false,
     "start_time": "2022-05-31T20:11:29.632064",
     "status": "completed"
    },
    "tags": []
   },
   "outputs": [],
   "source": [
    "class Config:\n",
    "    pass\n",
    "config = Config()\n",
    "config.lr = 0.001\n",
    "config.num_epochs = 250\n",
    "config.bs = 50"
   ]
  },
  {
   "cell_type": "markdown",
   "id": "1385fa59",
   "metadata": {
    "papermill": {
     "duration": 0.028264,
     "end_time": "2022-05-31T20:11:29.733248",
     "exception": false,
     "start_time": "2022-05-31T20:11:29.704984",
     "status": "completed"
    },
    "tags": []
   },
   "source": [
    "### Running Models with the Training data\n",
    "Details about the network layers:\n",
    "- A first affine layer has 784 inputs and does 100 affine transforms. These are followed by a Relu\n",
    "- A second affine layer has 100 inputs from the 100 activations of the past layer, and does 100 affine transforms. These are followed by a Relu\n",
    "- A third affine layer has 100 activations and does 2 affine transformations to create an embedding for visualization. There is no non-linearity here.\n",
    "- A final \"logistic regression\" which has an affine transform from 2 inputs to 1 output, which is squeezed through a sigmoid.\n"
   ]
  },
  {
   "cell_type": "code",
   "execution_count": 17,
   "id": "2b9c66db",
   "metadata": {
    "execution": {
     "iopub.execute_input": "2022-05-31T20:11:29.796115Z",
     "iopub.status.busy": "2022-05-31T20:11:29.794829Z",
     "iopub.status.idle": "2022-05-31T20:11:29.806592Z",
     "shell.execute_reply": "2022-05-31T20:11:29.806124Z"
    },
    "papermill": {
     "duration": 0.044967,
     "end_time": "2022-05-31T20:11:29.806701",
     "exception": false,
     "start_time": "2022-05-31T20:11:29.761734",
     "status": "completed"
    },
    "tags": []
   },
   "outputs": [],
   "source": [
    "data = Data(X_train, y_train.reshape(-1,1))\n",
    "sampler = Sampler(data, config.bs, shuffle=True)\n",
    "\n",
    "dl = Dataloader(data, sampler)\n",
    "\n",
    "opt = GD(config.lr)\n",
    "loss = MSE()"
   ]
  },
  {
   "cell_type": "code",
   "execution_count": 18,
   "id": "b275e4c2",
   "metadata": {
    "execution": {
     "iopub.execute_input": "2022-05-31T20:11:29.867646Z",
     "iopub.status.busy": "2022-05-31T20:11:29.867064Z",
     "iopub.status.idle": "2022-05-31T20:11:29.880261Z",
     "shell.execute_reply": "2022-05-31T20:11:29.879770Z"
    },
    "papermill": {
     "duration": 0.045335,
     "end_time": "2022-05-31T20:11:29.880373",
     "exception": false,
     "start_time": "2022-05-31T20:11:29.835038",
     "status": "completed"
    },
    "tags": []
   },
   "outputs": [],
   "source": [
    "training_data_x = X_train\n",
    "testing_data_x = X_test\n",
    "training_data_y = y_train.reshape(-1,1)\n",
    "testing_data_y = y_test.reshape(-1,1)"
   ]
  },
  {
   "cell_type": "code",
   "execution_count": 19,
   "id": "76951160",
   "metadata": {
    "execution": {
     "iopub.execute_input": "2022-05-31T20:11:29.941166Z",
     "iopub.status.busy": "2022-05-31T20:11:29.940584Z",
     "iopub.status.idle": "2022-05-31T20:11:29.957266Z",
     "shell.execute_reply": "2022-05-31T20:11:29.956790Z"
    },
    "papermill": {
     "duration": 0.048816,
     "end_time": "2022-05-31T20:11:29.957376",
     "exception": false,
     "start_time": "2022-05-31T20:11:29.908560",
     "status": "completed"
    },
    "tags": []
   },
   "outputs": [
    {
     "name": "stdout",
     "output_type": "stream",
     "text": [
      "xavier\n",
      "xavier\n",
      "xavier\n",
      "xavier\n",
      "xavier\n"
     ]
    }
   ],
   "source": [
    "layers = [Affine(\"first\", 784, 100), Relu(\"first\"), Affine(\"second\", 100, 100), Relu(\"second\"), Affine(\"third\", 100, 2), Affine(\"last\", 2, 1), Sigmoid(\"last\")]\n",
    "model_nn = Model(layers)\n",
    "model_lr = Model([Affine(\"logits\", 784, 1), Sigmoid(\"sigmoid\")])"
   ]
  },
  {
   "cell_type": "code",
   "execution_count": 20,
   "id": "6eede77a",
   "metadata": {
    "execution": {
     "iopub.execute_input": "2022-05-31T20:11:30.019256Z",
     "iopub.status.busy": "2022-05-31T20:11:30.018702Z",
     "iopub.status.idle": "2022-05-31T20:11:30.030682Z",
     "shell.execute_reply": "2022-05-31T20:11:30.030219Z"
    },
    "papermill": {
     "duration": 0.044437,
     "end_time": "2022-05-31T20:11:30.030790",
     "exception": false,
     "start_time": "2022-05-31T20:11:29.986353",
     "status": "completed"
    },
    "tags": []
   },
   "outputs": [],
   "source": [
    "nn_learner = Learner(loss, model_nn, opt, config.num_epochs)\n",
    "acc_nn = ClfCallback(nn_learner, config.bs, training_data_x , testing_data_x, training_data_y, testing_data_y)\n",
    "nn_learner.set_callbacks([acc_nn])"
   ]
  },
  {
   "cell_type": "code",
   "execution_count": 21,
   "id": "877b6cc7",
   "metadata": {
    "execution": {
     "iopub.execute_input": "2022-05-31T20:11:30.092285Z",
     "iopub.status.busy": "2022-05-31T20:11:30.091682Z",
     "iopub.status.idle": "2022-05-31T20:11:30.104016Z",
     "shell.execute_reply": "2022-05-31T20:11:30.103549Z"
    },
    "papermill": {
     "duration": 0.044303,
     "end_time": "2022-05-31T20:11:30.104128",
     "exception": false,
     "start_time": "2022-05-31T20:11:30.059825",
     "status": "completed"
    },
    "tags": []
   },
   "outputs": [],
   "source": [
    "lr_learner = Learner(loss, model_lr, opt, config.num_epochs)\n",
    "acc_lr = ClfCallback(lr_learner, config.bs, training_data_x , testing_data_x, training_data_y, testing_data_y)\n",
    "lr_learner.set_callbacks([acc_lr])"
   ]
  },
  {
   "cell_type": "code",
   "execution_count": 22,
   "id": "d9b133c3",
   "metadata": {
    "execution": {
     "iopub.execute_input": "2022-05-31T20:11:30.165165Z",
     "iopub.status.busy": "2022-05-31T20:11:30.164588Z",
     "iopub.status.idle": "2022-05-31T20:14:26.782242Z",
     "shell.execute_reply": "2022-05-31T20:14:26.782698Z"
    },
    "papermill": {
     "duration": 176.649919,
     "end_time": "2022-05-31T20:14:26.782824",
     "exception": false,
     "start_time": "2022-05-31T20:11:30.132905",
     "status": "completed"
    },
    "tags": []
   },
   "outputs": [
    {
     "name": "stdout",
     "output_type": "stream",
     "text": [
      "Epoch 0, Loss 0.2533\n",
      "Training Accuracy: 0.5813, Testing Accuracy: 0.5796\n",
      "\n"
     ]
    },
    {
     "name": "stdout",
     "output_type": "stream",
     "text": [
      "Epoch 10, Loss 0.1078\n",
      "Training Accuracy: 0.9100, Testing Accuracy: 0.9178\n",
      "\n"
     ]
    },
    {
     "name": "stdout",
     "output_type": "stream",
     "text": [
      "Epoch 20, Loss 0.0612\n",
      "Training Accuracy: 0.9376, Testing Accuracy: 0.9435\n",
      "\n"
     ]
    },
    {
     "name": "stdout",
     "output_type": "stream",
     "text": [
      "Epoch 30, Loss 0.0465\n",
      "Training Accuracy: 0.9505, Testing Accuracy: 0.9592\n",
      "\n"
     ]
    },
    {
     "name": "stdout",
     "output_type": "stream",
     "text": [
      "Epoch 40, Loss 0.0398\n",
      "Training Accuracy: 0.9553, Testing Accuracy: 0.9637\n",
      "\n"
     ]
    },
    {
     "name": "stdout",
     "output_type": "stream",
     "text": [
      "Epoch 50, Loss 0.036\n",
      "Training Accuracy: 0.9584, Testing Accuracy: 0.9693\n",
      "\n"
     ]
    },
    {
     "name": "stdout",
     "output_type": "stream",
     "text": [
      "Epoch 60, Loss 0.0333\n",
      "Training Accuracy: 0.9609, Testing Accuracy: 0.9698\n",
      "\n"
     ]
    },
    {
     "name": "stdout",
     "output_type": "stream",
     "text": [
      "Epoch 70, Loss 0.0314\n",
      "Training Accuracy: 0.9632, Testing Accuracy: 0.9693\n",
      "\n"
     ]
    },
    {
     "name": "stdout",
     "output_type": "stream",
     "text": [
      "Epoch 80, Loss 0.0298\n",
      "Training Accuracy: 0.9656, Testing Accuracy: 0.9688\n",
      "\n"
     ]
    },
    {
     "name": "stdout",
     "output_type": "stream",
     "text": [
      "Epoch 90, Loss 0.0285\n",
      "Training Accuracy: 0.9663, Testing Accuracy: 0.9703\n",
      "\n"
     ]
    },
    {
     "name": "stdout",
     "output_type": "stream",
     "text": [
      "Epoch 100, Loss 0.0274\n",
      "Training Accuracy: 0.9680, Testing Accuracy: 0.9713\n",
      "\n"
     ]
    },
    {
     "name": "stdout",
     "output_type": "stream",
     "text": [
      "Epoch 110, Loss 0.0264\n",
      "Training Accuracy: 0.9699, Testing Accuracy: 0.9728\n",
      "\n"
     ]
    },
    {
     "name": "stdout",
     "output_type": "stream",
     "text": [
      "Epoch 120, Loss 0.0255\n",
      "Training Accuracy: 0.9708, Testing Accuracy: 0.9728\n",
      "\n"
     ]
    },
    {
     "name": "stdout",
     "output_type": "stream",
     "text": [
      "Epoch 130, Loss 0.0247\n",
      "Training Accuracy: 0.9718, Testing Accuracy: 0.9733\n",
      "\n"
     ]
    },
    {
     "name": "stdout",
     "output_type": "stream",
     "text": [
      "Epoch 140, Loss 0.024\n",
      "Training Accuracy: 0.9730, Testing Accuracy: 0.9733\n",
      "\n"
     ]
    },
    {
     "name": "stdout",
     "output_type": "stream",
     "text": [
      "Epoch 150, Loss 0.0234\n",
      "Training Accuracy: 0.9738, Testing Accuracy: 0.9743\n",
      "\n"
     ]
    },
    {
     "name": "stdout",
     "output_type": "stream",
     "text": [
      "Epoch 160, Loss 0.0228\n",
      "Training Accuracy: 0.9745, Testing Accuracy: 0.9743\n",
      "\n"
     ]
    },
    {
     "name": "stdout",
     "output_type": "stream",
     "text": [
      "Epoch 170, Loss 0.0222\n",
      "Training Accuracy: 0.9749, Testing Accuracy: 0.9743\n",
      "\n"
     ]
    },
    {
     "name": "stdout",
     "output_type": "stream",
     "text": [
      "Epoch 180, Loss 0.0217\n",
      "Training Accuracy: 0.9756, Testing Accuracy: 0.9743\n",
      "\n"
     ]
    },
    {
     "name": "stdout",
     "output_type": "stream",
     "text": [
      "Epoch 190, Loss 0.0213\n",
      "Training Accuracy: 0.9760, Testing Accuracy: 0.9738\n",
      "\n"
     ]
    },
    {
     "name": "stdout",
     "output_type": "stream",
     "text": [
      "Epoch 200, Loss 0.0208\n",
      "Training Accuracy: 0.9769, Testing Accuracy: 0.9738\n",
      "\n"
     ]
    },
    {
     "name": "stdout",
     "output_type": "stream",
     "text": [
      "Epoch 210, Loss 0.0204\n",
      "Training Accuracy: 0.9774, Testing Accuracy: 0.9738\n",
      "\n"
     ]
    },
    {
     "name": "stdout",
     "output_type": "stream",
     "text": [
      "Epoch 220, Loss 0.02\n",
      "Training Accuracy: 0.9777, Testing Accuracy: 0.9738\n",
      "\n"
     ]
    },
    {
     "name": "stdout",
     "output_type": "stream",
     "text": [
      "Epoch 230, Loss 0.0196\n",
      "Training Accuracy: 0.9778, Testing Accuracy: 0.9738\n",
      "\n"
     ]
    },
    {
     "name": "stdout",
     "output_type": "stream",
     "text": [
      "Epoch 240, Loss 0.0192\n",
      "Training Accuracy: 0.9786, Testing Accuracy: 0.9738\n",
      "\n"
     ]
    },
    {
     "data": {
      "text/plain": [
       "0.004765316718590765"
      ]
     },
     "execution_count": 22,
     "metadata": {},
     "output_type": "execute_result"
    }
   ],
   "source": [
    "nn_learner.train_loop(dl)"
   ]
  },
  {
   "cell_type": "code",
   "execution_count": 23,
   "id": "e0163366",
   "metadata": {
    "execution": {
     "iopub.execute_input": "2022-05-31T20:14:26.860885Z",
     "iopub.status.busy": "2022-05-31T20:14:26.860333Z",
     "iopub.status.idle": "2022-05-31T20:14:38.890390Z",
     "shell.execute_reply": "2022-05-31T20:14:38.889847Z"
    },
    "papermill": {
     "duration": 12.07192,
     "end_time": "2022-05-31T20:14:38.890510",
     "exception": false,
     "start_time": "2022-05-31T20:14:26.818590",
     "status": "completed"
    },
    "tags": []
   },
   "outputs": [
    {
     "name": "stdout",
     "output_type": "stream",
     "text": [
      "Epoch 0, Loss 0.259\n",
      "Training Accuracy: 0.6188, Testing Accuracy: 0.6225\n",
      "\n"
     ]
    },
    {
     "name": "stdout",
     "output_type": "stream",
     "text": [
      "Epoch 10, Loss 0.1037\n",
      "Training Accuracy: 0.9120, Testing Accuracy: 0.9219\n",
      "\n"
     ]
    },
    {
     "name": "stdout",
     "output_type": "stream",
     "text": [
      "Epoch 20, Loss 0.0787\n",
      "Training Accuracy: 0.9309, Testing Accuracy: 0.9395\n",
      "\n"
     ]
    },
    {
     "name": "stdout",
     "output_type": "stream",
     "text": [
      "Epoch 30, Loss 0.0675\n",
      "Training Accuracy: 0.9380, Testing Accuracy: 0.9471\n",
      "\n"
     ]
    },
    {
     "name": "stdout",
     "output_type": "stream",
     "text": [
      "Epoch 40, Loss 0.0609\n",
      "Training Accuracy: 0.9428, Testing Accuracy: 0.9511\n",
      "\n"
     ]
    },
    {
     "name": "stdout",
     "output_type": "stream",
     "text": [
      "Epoch 50, Loss 0.0564\n",
      "Training Accuracy: 0.9459, Testing Accuracy: 0.9546\n",
      "\n"
     ]
    },
    {
     "name": "stdout",
     "output_type": "stream",
     "text": [
      "Epoch 60, Loss 0.0531\n",
      "Training Accuracy: 0.9484, Testing Accuracy: 0.9567\n",
      "\n"
     ]
    },
    {
     "name": "stdout",
     "output_type": "stream",
     "text": [
      "Epoch 70, Loss 0.0506\n",
      "Training Accuracy: 0.9503, Testing Accuracy: 0.9587\n",
      "\n"
     ]
    },
    {
     "name": "stdout",
     "output_type": "stream",
     "text": [
      "Epoch 80, Loss 0.0486\n",
      "Training Accuracy: 0.9513, Testing Accuracy: 0.9602\n",
      "\n"
     ]
    },
    {
     "name": "stdout",
     "output_type": "stream",
     "text": [
      "Epoch 90, Loss 0.047\n",
      "Training Accuracy: 0.9525, Testing Accuracy: 0.9607\n",
      "\n"
     ]
    },
    {
     "name": "stdout",
     "output_type": "stream",
     "text": [
      "Epoch 100, Loss 0.0456\n",
      "Training Accuracy: 0.9532, Testing Accuracy: 0.9627\n",
      "\n"
     ]
    },
    {
     "name": "stdout",
     "output_type": "stream",
     "text": [
      "Epoch 110, Loss 0.0444\n",
      "Training Accuracy: 0.9536, Testing Accuracy: 0.9637\n",
      "\n"
     ]
    },
    {
     "name": "stdout",
     "output_type": "stream",
     "text": [
      "Epoch 120, Loss 0.0433\n",
      "Training Accuracy: 0.9548, Testing Accuracy: 0.9642\n",
      "\n"
     ]
    },
    {
     "name": "stdout",
     "output_type": "stream",
     "text": [
      "Epoch 130, Loss 0.0424\n",
      "Training Accuracy: 0.9555, Testing Accuracy: 0.9642\n",
      "\n"
     ]
    },
    {
     "name": "stdout",
     "output_type": "stream",
     "text": [
      "Epoch 140, Loss 0.0416\n",
      "Training Accuracy: 0.9563, Testing Accuracy: 0.9652\n",
      "\n"
     ]
    },
    {
     "name": "stdout",
     "output_type": "stream",
     "text": [
      "Epoch 150, Loss 0.0409\n",
      "Training Accuracy: 0.9570, Testing Accuracy: 0.9657\n",
      "\n"
     ]
    },
    {
     "name": "stdout",
     "output_type": "stream",
     "text": [
      "Epoch 160, Loss 0.0402\n",
      "Training Accuracy: 0.9579, Testing Accuracy: 0.9657\n",
      "\n"
     ]
    },
    {
     "name": "stdout",
     "output_type": "stream",
     "text": [
      "Epoch 170, Loss 0.0396\n",
      "Training Accuracy: 0.9585, Testing Accuracy: 0.9662\n",
      "\n"
     ]
    },
    {
     "name": "stdout",
     "output_type": "stream",
     "text": [
      "Epoch 180, Loss 0.0391\n",
      "Training Accuracy: 0.9594, Testing Accuracy: 0.9662\n",
      "\n"
     ]
    },
    {
     "name": "stdout",
     "output_type": "stream",
     "text": [
      "Epoch 190, Loss 0.0386\n",
      "Training Accuracy: 0.9593, Testing Accuracy: 0.9662\n",
      "\n"
     ]
    },
    {
     "name": "stdout",
     "output_type": "stream",
     "text": [
      "Epoch 200, Loss 0.0381\n",
      "Training Accuracy: 0.9597, Testing Accuracy: 0.9657\n",
      "\n"
     ]
    },
    {
     "name": "stdout",
     "output_type": "stream",
     "text": [
      "Epoch 210, Loss 0.0377\n",
      "Training Accuracy: 0.9601, Testing Accuracy: 0.9657\n",
      "\n"
     ]
    },
    {
     "name": "stdout",
     "output_type": "stream",
     "text": [
      "Epoch 220, Loss 0.0373\n",
      "Training Accuracy: 0.9606, Testing Accuracy: 0.9657\n",
      "\n"
     ]
    },
    {
     "name": "stdout",
     "output_type": "stream",
     "text": [
      "Epoch 230, Loss 0.0369\n",
      "Training Accuracy: 0.9609, Testing Accuracy: 0.9657\n",
      "\n"
     ]
    },
    {
     "name": "stdout",
     "output_type": "stream",
     "text": [
      "Epoch 240, Loss 0.0366\n",
      "Training Accuracy: 0.9613, Testing Accuracy: 0.9672\n",
      "\n"
     ]
    },
    {
     "data": {
      "text/plain": [
       "0.021453888991362108"
      ]
     },
     "execution_count": 23,
     "metadata": {},
     "output_type": "execute_result"
    }
   ],
   "source": [
    "lr_learner.train_loop(dl)"
   ]
  },
  {
   "cell_type": "code",
   "execution_count": 24,
   "id": "ca410940",
   "metadata": {
    "execution": {
     "iopub.execute_input": "2022-05-31T20:14:38.984604Z",
     "iopub.status.busy": "2022-05-31T20:14:38.982168Z",
     "iopub.status.idle": "2022-05-31T20:14:39.216076Z",
     "shell.execute_reply": "2022-05-31T20:14:39.216518Z"
    },
    "papermill": {
     "duration": 0.283072,
     "end_time": "2022-05-31T20:14:39.216644",
     "exception": false,
     "start_time": "2022-05-31T20:14:38.933572",
     "status": "completed"
    },
    "tags": []
   },
   "outputs": [
    {
     "data": {
      "text/plain": [
       "<matplotlib.legend.Legend at 0x7f8a880824e0>"
      ]
     },
     "execution_count": 24,
     "metadata": {},
     "output_type": "execute_result"
    },
    {
     "data": {
      "image/png": "[encoded data removed]",
      "text/plain": [
       "<Figure size 1080x720 with 1 Axes>"
      ]
     },
     "metadata": {
      "needs_background": "light"
     },
     "output_type": "display_data"
    }
   ],
   "source": [
    "#comparing the results of NN and LR\n",
    "plt.figure(figsize=(15,10))\n",
    "\n",
    "# Neural Network plots\n",
    "plt.plot(acc_nn.accuracies, 'r-', label = \"Training Accuracies - NN\")\n",
    "plt.plot(acc_nn.test_accuracies, 'g-', label = \"Testing Accuracies - NN\")\n",
    "\n",
    "# Logistic Regression plots\n",
    "plt.plot(acc_lr.accuracies, 'k-', label = \"Training Accuracies - LR\")\n",
    "plt.plot(acc_lr.test_accuracies, 'b-', label = \"Testing Accuracies - LR\")\n",
    "plt.legend()"
   ]
  },
  {
   "cell_type": "markdown",
   "id": "80dfb35c",
   "metadata": {
    "papermill": {
     "duration": 0.043878,
     "end_time": "2022-05-31T20:14:39.305272",
     "exception": false,
     "start_time": "2022-05-31T20:14:39.261394",
     "status": "completed"
    },
    "tags": []
   },
   "source": [
    "#### Plotting the outputs of this layer of the NN.\n"
   ]
  },
  {
   "cell_type": "code",
   "execution_count": 25,
   "id": "45eb2ff5",
   "metadata": {
    "execution": {
     "iopub.execute_input": "2022-05-31T20:14:39.399751Z",
     "iopub.status.busy": "2022-05-31T20:14:39.397653Z",
     "iopub.status.idle": "2022-05-31T20:14:39.433391Z",
     "shell.execute_reply": "2022-05-31T20:14:39.432938Z"
    },
    "papermill": {
     "duration": 0.084261,
     "end_time": "2022-05-31T20:14:39.433501",
     "exception": false,
     "start_time": "2022-05-31T20:14:39.349240",
     "status": "completed"
    },
    "tags": []
   },
   "outputs": [],
   "source": [
    "new_model = Model(layers[:-2])\n",
    "testing_plot = new_model(testing_data_x)"
   ]
  },
  {
   "cell_type": "code",
   "execution_count": 26,
   "id": "4c0a5485",
   "metadata": {
    "execution": {
     "iopub.execute_input": "2022-05-31T20:14:39.530655Z",
     "iopub.status.busy": "2022-05-31T20:14:39.527929Z",
     "iopub.status.idle": "2022-05-31T20:14:39.743158Z",
     "shell.execute_reply": "2022-05-31T20:14:39.742651Z"
    },
    "papermill": {
     "duration": 0.265353,
     "end_time": "2022-05-31T20:14:39.743270",
     "exception": false,
     "start_time": "2022-05-31T20:14:39.477917",
     "status": "completed"
    },
    "tags": []
   },
   "outputs": [
    {
     "data": {
      "text/plain": [
       "Text(0.5, 1.0, 'Outputs')"
      ]
     },
     "execution_count": 26,
     "metadata": {},
     "output_type": "execute_result"
    },
    {
     "data": {
      "image/png": "[encoded data removed]",
      "text/plain": [
       "<Figure size 576x504 with 1 Axes>"
      ]
     },
     "metadata": {
      "needs_background": "light"
     },
     "output_type": "display_data"
    }
   ],
   "source": [
    "# Plotting the scatter plot of points and color coding by class\n",
    "plt.figure(figsize=(8,7))\n",
    "plt.scatter(testing_plot[:,0], testing_plot[:,1], alpha = 0.1, c = y_test.ravel());\n",
    "plt.title('Outputs')"
   ]
  },
  {
   "cell_type": "markdown",
   "id": "a74fcf8f",
   "metadata": {
    "papermill": {
     "duration": 0.046708,
     "end_time": "2022-05-31T20:14:39.856688",
     "exception": false,
     "start_time": "2022-05-31T20:14:39.809980",
     "status": "completed"
    },
    "tags": []
   },
   "source": [
    "Probability contours"
   ]
  },
  {
   "cell_type": "code",
   "execution_count": 27,
   "id": "d0afc8e3",
   "metadata": {
    "execution": {
     "iopub.execute_input": "2022-05-31T20:14:39.956190Z",
     "iopub.status.busy": "2022-05-31T20:14:39.953982Z",
     "iopub.status.idle": "2022-05-31T20:14:39.965059Z",
     "shell.execute_reply": "2022-05-31T20:14:39.965483Z"
    },
    "papermill": {
     "duration": 0.062304,
     "end_time": "2022-05-31T20:14:39.965608",
     "exception": false,
     "start_time": "2022-05-31T20:14:39.903304",
     "status": "completed"
    },
    "tags": []
   },
   "outputs": [],
   "source": [
    "model_prob = Model(layers[-2:]) "
   ]
  },
  {
   "cell_type": "code",
   "execution_count": 28,
   "id": "9b96e238",
   "metadata": {
    "execution": {
     "iopub.execute_input": "2022-05-31T20:14:40.062542Z",
     "iopub.status.busy": "2022-05-31T20:14:40.061970Z",
     "iopub.status.idle": "2022-05-31T20:14:40.076079Z",
     "shell.execute_reply": "2022-05-31T20:14:40.075607Z"
    },
    "papermill": {
     "duration": 0.064294,
     "end_time": "2022-05-31T20:14:40.076186",
     "exception": false,
     "start_time": "2022-05-31T20:14:40.011892",
     "status": "completed"
    },
    "tags": []
   },
   "outputs": [],
   "source": [
    "#creating the x and y ranges according to the above generated plot.\n",
    "x_range = np.linspace(-4, 1, 100) \n",
    "y_range = np.linspace(-6, 6, 100) \n",
    "x_grid, y_grid = np.meshgrid(x_range, y_range) # x_grid and y_grig are of size 100 X 100\n",
    "\n",
    "# converting x_grid and y_grid to continuous arrays\n",
    "x_gridflat = np.ravel(x_grid)\n",
    "y_gridflat = np.ravel(y_grid)\n",
    "\n",
    "# The last layer of the current model takes two columns as input. Hence transpose of np.vstack() is required.\n",
    "X = np.vstack((x_gridflat, y_gridflat)).T\n",
    "\n",
    "prob_contour = model_prob(X).reshape(100,100) "
   ]
  },
  {
   "cell_type": "code",
   "execution_count": 29,
   "id": "da72499a",
   "metadata": {
    "execution": {
     "iopub.execute_input": "2022-05-31T20:14:40.173332Z",
     "iopub.status.busy": "2022-05-31T20:14:40.172771Z",
     "iopub.status.idle": "2022-05-31T20:14:40.424660Z",
     "shell.execute_reply": "2022-05-31T20:14:40.425462Z"
    },
    "papermill": {
     "duration": 0.302522,
     "end_time": "2022-05-31T20:14:40.425595",
     "exception": false,
     "start_time": "2022-05-31T20:14:40.123073",
     "status": "completed"
    },
    "tags": []
   },
   "outputs": [
    {
     "data": {
      "image/png": "[encoded data removed]",
      "text/plain": [
       "<Figure size 720x648 with 1 Axes>"
      ]
     },
     "metadata": {
      "needs_background": "light"
     },
     "output_type": "display_data"
    }
   ],
   "source": [
    "plt.figure(figsize=(10,9))\n",
    "plt.scatter(testing_plot[:,0], testing_plot[:,1], alpha = 0.1, c = y_test.ravel())\n",
    "contours = plt.contour(x_grid,y_grid,prob_contour)\n",
    "plt.title('Probability Contours')\n",
    "plt.clabel(contours, inline = True );"
   ]
  },
  {
   "cell_type": "code",
   "execution_count": null,
   "id": "e81b4ac7",
   "metadata": {
    "papermill": {
     "duration": 0.04893,
     "end_time": "2022-05-31T20:14:40.523994",
     "exception": false,
     "start_time": "2022-05-31T20:14:40.475064",
     "status": "completed"
    },
    "tags": []
   },
   "outputs": [],
   "source": []
  }
 ],
 "metadata": {
  "kernelspec": {
   "display_name": "Python 3",
   "language": "python",
   "name": "python3"
  },
  "language_info": {
   "codemirror_mode": {
    "name": "ipython",
    "version": 3
   },
   "file_extension": ".py",
   "mimetype": "text/x-python",
   "name": "python",
   "nbconvert_exporter": "python",
   "pygments_lexer": "ipython3",
   "version": "3.6.15"
  },
  "papermill": {
   "default_parameters": {},
   "duration": 198.399658,
   "end_time": "2022-05-31T20:14:40.890502",
   "environment_variables": {},
   "exception": null,
   "input_path": "2020-08-11-part2.ipynb",
   "output_path": "2020-08-11-part2.ipynb",
   "parameters": {},
   "start_time": "2022-05-31T20:11:22.490844",
   "version": "2.3.3"
  }
 },
 "nbformat": 4,
 "nbformat_minor": 5
}